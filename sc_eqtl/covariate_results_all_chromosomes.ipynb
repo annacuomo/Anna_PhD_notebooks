{
 "cells": [
  {
   "cell_type": "code",
   "execution_count": 1,
   "metadata": {},
   "outputs": [
    {
     "name": "stderr",
     "output_type": "stream",
     "text": [
      "Loading required package: grid\n",
      "========================================\n",
      "ComplexHeatmap version 2.2.0\n",
      "Bioconductor page: http://bioconductor.org/packages/ComplexHeatmap/\n",
      "Github page: https://github.com/jokergoo/ComplexHeatmap\n",
      "Documentation: http://jokergoo.github.io/ComplexHeatmap-reference\n",
      "\n",
      "If you use it in published research, please cite:\n",
      "Gu, Z. Complex heatmaps reveal patterns and correlations in multidimensional \n",
      "  genomic data. Bioinformatics 2016.\n",
      "========================================\n",
      "\n",
      "========================================\n",
      "circlize version 0.4.9\n",
      "CRAN page: https://cran.r-project.org/package=circlize\n",
      "Github page: https://github.com/jokergoo/circlize\n",
      "Documentation: https://jokergoo.github.io/circlize_book/book/\n",
      "\n",
      "If you use it in published research, please cite:\n",
      "Gu, Z. circlize implements and enhances circular visualization\n",
      "  in R. Bioinformatics 2014.\n",
      "\n",
      "This message can be suppressed by:\n",
      "  suppressPackageStartupMessages(library(circlize))\n",
      "========================================\n",
      "\n"
     ]
    }
   ],
   "source": [
    "library(ggplot2)\n",
    "library(qvalue)\n",
    "library(ComplexHeatmap)\n",
    "library(circlize)"
   ]
  },
  {
   "cell_type": "code",
   "execution_count": 2,
   "metadata": {},
   "outputs": [
    {
     "data": {
      "text/html": [
       "21592"
      ],
      "text/latex": [
       "21592"
      ],
      "text/markdown": [
       "21592"
      ],
      "text/plain": [
       "[1] 21592"
      ]
     },
     "metadata": {},
     "output_type": "display_data"
    },
    {
     "data": {
      "text/html": [
       "<table>\n",
       "<thead><tr><th></th><th scope=col>gene</th><th scope=col>mean</th><th scope=col>std</th><th scope=col>CV</th><th scope=col>quartile_cv</th></tr></thead>\n",
       "<tbody>\n",
       "\t<tr><th scope=row>2</th><td>ENSG00000227232</td><td>3.1805905      </td><td>3.6232403      </td><td>1.139172       </td><td>2              </td></tr>\n",
       "\t<tr><th scope=row>3</th><td>ENSG00000243485</td><td>0.2003178      </td><td>0.8649483      </td><td>4.317881       </td><td>3              </td></tr>\n",
       "</tbody>\n",
       "</table>\n"
      ],
      "text/latex": [
       "\\begin{tabular}{r|lllll}\n",
       "  & gene & mean & std & CV & quartile\\_cv\\\\\n",
       "\\hline\n",
       "\t2 & ENSG00000227232 & 3.1805905       & 3.6232403       & 1.139172        & 2              \\\\\n",
       "\t3 & ENSG00000243485 & 0.2003178       & 0.8649483       & 4.317881        & 3              \\\\\n",
       "\\end{tabular}\n"
      ],
      "text/markdown": [
       "\n",
       "| <!--/--> | gene | mean | std | CV | quartile_cv |\n",
       "|---|---|---|---|---|---|\n",
       "| 2 | ENSG00000227232 | 3.1805905       | 3.6232403       | 1.139172        | 2               |\n",
       "| 3 | ENSG00000243485 | 0.2003178       | 0.8649483       | 4.317881        | 3               |\n",
       "\n"
      ],
      "text/plain": [
       "  gene            mean      std       CV       quartile_cv\n",
       "2 ENSG00000227232 3.1805905 3.6232403 1.139172 2          \n",
       "3 ENSG00000243485 0.2003178 0.8649483 4.317881 3          "
      ]
     },
     "metadata": {},
     "output_type": "display_data"
    }
   ],
   "source": [
    "Giordanos_selection = \"/hps/nobackup/stegle/users/galvari/data/iPSCs/singleCell/metadata/ensembl_gene/Ensembl_75_Gene_CV_quant5.txt\"\n",
    "G_file = read.csv(Giordanos_selection, sep = \"\\t\")\n",
    "nrow(G_file)\n",
    "head(G_file,2)"
   ]
  },
  {
   "cell_type": "code",
   "execution_count": 3,
   "metadata": {},
   "outputs": [],
   "source": [
    "##### Mean"
   ]
  },
  {
   "cell_type": "code",
   "execution_count": 4,
   "metadata": {},
   "outputs": [],
   "source": [
    "mean_folder = \"/hps/nobackup/hipsci/scratch/ComparingQtlMapping/SingleCell/PseudoBulk/mean/\""
   ]
  },
  {
   "cell_type": "code",
   "execution_count": 5,
   "metadata": {},
   "outputs": [],
   "source": [
    "#### Chromosome 2"
   ]
  },
  {
   "cell_type": "code",
   "execution_count": 6,
   "metadata": {},
   "outputs": [
    {
     "data": {
      "text/html": [
       "50425"
      ],
      "text/latex": [
       "50425"
      ],
      "text/markdown": [
       "50425"
      ],
      "text/plain": [
       "[1] 50425"
      ]
     },
     "metadata": {},
     "output_type": "display_data"
    }
   ],
   "source": [
    "my_folder = paste0(mean_folder,\"Run_Output_PCA5_88_log_TPM_scater_libsize_206/\") # scran, 5PCs\n",
    "df0 = read.csv(paste0(my_folder,\"top_qtl_results_all.txt\"), sep = \"\\t\")\n",
    "chr2_genes = unique(df0$feature_id)\n",
    "length(chr2_genes)"
   ]
  },
  {
   "cell_type": "code",
   "execution_count": 36,
   "metadata": {},
   "outputs": [],
   "source": [
    "number_of_covs = c(5,10,15,20,25)"
   ]
  },
  {
   "cell_type": "code",
   "execution_count": 37,
   "metadata": {},
   "outputs": [],
   "source": [
    "## PCs\n",
    "PC_suffix = paste0(\"Run_Output_PCA\",number_of_covs,\"_88_log_TPM_scater_libsize_206/\")\n",
    "## PEER\n",
    "PEER_suffix = paste0(\"Run_Output_PEER\",number_of_covs,\"_88_log_TPM_scater_libsize_206/\")\n",
    "## MOFA sparse\n",
    "MOFA_suffix = paste0(\"Run_Output_MOFA\",number_of_covs,\"_88_log_TPM_scater_libsize_206/\")\n",
    "## MOFA non-sparse\n",
    "MOFA_ns_suffix = paste0(\"Run_Output_MOFA\",number_of_covs,\"_88_log_TPM_scater_libsize_206_nonsparse/\")\n",
    "## linear scVI (LDVAE)\n",
    "LDVAE_suffix = paste0(\"Run_Output_LDVAE\",number_of_covs,\"_88_log_TPM_scater_libsize_206/\")"
   ]
  },
  {
   "cell_type": "code",
   "execution_count": 38,
   "metadata": {},
   "outputs": [],
   "source": [
    "# number_of_covs = c(5,10,15,20)\n",
    "# ## MOFA sparse\n",
    "# MOFA_suffix = paste0(\"Run_Output_MOFA\",number_of_covs,\"_88_log_TPM_scater_libsize_206/\")"
   ]
  },
  {
   "cell_type": "code",
   "execution_count": 39,
   "metadata": {},
   "outputs": [
    {
     "data": {
      "text/html": [
       "25"
      ],
      "text/latex": [
       "25"
      ],
      "text/markdown": [
       "25"
      ],
      "text/plain": [
       "[1] 25"
      ]
     },
     "metadata": {},
     "output_type": "display_data"
    }
   ],
   "source": [
    "suffixes = c(PC_suffix, PEER_suffix, MOFA_suffix, MOFA_ns_suffix, LDVAE_suffix)\n",
    "length(suffixes)"
   ]
  },
  {
   "cell_type": "code",
   "execution_count": 40,
   "metadata": {},
   "outputs": [],
   "source": [
    "filenames = paste0(mean_folder, suffixes, \"top_qtl_results_all.txt\")"
   ]
  },
  {
   "cell_type": "code",
   "execution_count": 41,
   "metadata": {},
   "outputs": [],
   "source": [
    "df = data.frame()"
   ]
  },
  {
   "cell_type": "code",
   "execution_count": 42,
   "metadata": {},
   "outputs": [],
   "source": [
    "for (file in filenames){\n",
    "    df0 = read.csv(file, sep = \"\\t\")\n",
    "    df0 = df0[df0$feature_id %in% chr2_genes,]\n",
    "#     df1 = df0\n",
    "    df1 = df0[df0$feature_id %in% G_file$gene,]\n",
    "    df1$q_value = qvalue(df1$empirical_feature_p_value)$qvalues\n",
    "    n_genes = length(unique(df1$feature_id))\n",
    "    n_eGenes = length(unique(df1[df1$q_value < 0.05,\"feature_id\"]))\n",
    "    df = rbind(df, data.frame(n_genes = n_genes, n_eGenes = n_eGenes))    \n",
    "}"
   ]
  },
  {
   "cell_type": "code",
   "execution_count": 44,
   "metadata": {},
   "outputs": [],
   "source": [
    "df$method = c(\"PCA\",\"PCA\",\"PCA\",\"PCA\",\"PCA\",\n",
    "             \"PEER\",\"PEER\",\"PEER\",\"PEER\",\"PEER\",\n",
    "             \"MOFA\",\"MOFA\",\"MOFA\",\"MOFA\",\"MOFA\",\n",
    "             \"MOFA-ns\",\"MOFA-ns\",\"MOFA-ns\",\"MOFA-ns\",\"MOFA-ns\",\n",
    "             \"LDVAE\",\"LDVAE\",\"LDVAE\",\"LDVAE\",\"LDVAE\")"
   ]
  },
  {
   "cell_type": "code",
   "execution_count": 45,
   "metadata": {},
   "outputs": [
    {
     "data": {
      "text/html": [
       "25"
      ],
      "text/latex": [
       "25"
      ],
      "text/markdown": [
       "25"
      ],
      "text/plain": [
       "[1] 25"
      ]
     },
     "metadata": {},
     "output_type": "display_data"
    }
   ],
   "source": [
    "nrow(df)"
   ]
  },
  {
   "cell_type": "code",
   "execution_count": 46,
   "metadata": {},
   "outputs": [],
   "source": [
    "df$n_covs = c(number_of_covs,number_of_covs,number_of_covs,number_of_covs,number_of_covs)"
   ]
  },
  {
   "cell_type": "code",
   "execution_count": 47,
   "metadata": {},
   "outputs": [
    {
     "data": {
      "text/html": [
       "<table>\n",
       "<thead><tr><th scope=col>n_genes</th><th scope=col>n_eGenes</th><th scope=col>method</th><th scope=col>n_covs</th></tr></thead>\n",
       "<tbody>\n",
       "\t<tr><td>20545</td><td>1746 </td><td>PCA  </td><td> 5   </td></tr>\n",
       "\t<tr><td>20545</td><td>2005 </td><td>PCA  </td><td>10   </td></tr>\n",
       "</tbody>\n",
       "</table>\n"
      ],
      "text/latex": [
       "\\begin{tabular}{r|llll}\n",
       " n\\_genes & n\\_eGenes & method & n\\_covs\\\\\n",
       "\\hline\n",
       "\t 20545 & 1746  & PCA   &  5   \\\\\n",
       "\t 20545 & 2005  & PCA   & 10   \\\\\n",
       "\\end{tabular}\n"
      ],
      "text/markdown": [
       "\n",
       "| n_genes | n_eGenes | method | n_covs |\n",
       "|---|---|---|---|\n",
       "| 20545 | 1746  | PCA   |  5    |\n",
       "| 20545 | 2005  | PCA   | 10    |\n",
       "\n"
      ],
      "text/plain": [
       "  n_genes n_eGenes method n_covs\n",
       "1 20545   1746     PCA     5    \n",
       "2 20545   2005     PCA    10    "
      ]
     },
     "metadata": {},
     "output_type": "display_data"
    }
   ],
   "source": [
    "head(df,2)"
   ]
  },
  {
   "cell_type": "code",
   "execution_count": 48,
   "metadata": {},
   "outputs": [],
   "source": [
    "## add results with no covariates\n",
    "# my_folder = paste0(mean_folder,\"Run_Output_NoFactor_88_log_TPM_scater_libsize_206_correct/\") \n",
    "my_folder = paste0(mean_folder,\"Run_Output_NoFactor_88_log_TPM_scater_libsize_206/\") \n",
    "file = paste0(my_folder,\"top_qtl_results_all.txt\")"
   ]
  },
  {
   "cell_type": "code",
   "execution_count": 49,
   "metadata": {},
   "outputs": [
    {
     "data": {
      "text/html": [
       "<table>\n",
       "<thead><tr><th scope=col>n_genes</th><th scope=col>n_eGenes</th><th scope=col>n_covs</th><th scope=col>method</th></tr></thead>\n",
       "<tbody>\n",
       "\t<tr><td>20545  </td><td>1120   </td><td>0      </td><td>PCA    </td></tr>\n",
       "\t<tr><td>20545  </td><td>1120   </td><td>0      </td><td>PEER   </td></tr>\n",
       "\t<tr><td>20545  </td><td>1120   </td><td>0      </td><td>MOFA   </td></tr>\n",
       "\t<tr><td>20545  </td><td>1120   </td><td>0      </td><td>MOFA-ns</td></tr>\n",
       "\t<tr><td>20545  </td><td>1120   </td><td>0      </td><td>LDVAE  </td></tr>\n",
       "</tbody>\n",
       "</table>\n"
      ],
      "text/latex": [
       "\\begin{tabular}{r|llll}\n",
       " n\\_genes & n\\_eGenes & n\\_covs & method\\\\\n",
       "\\hline\n",
       "\t 20545   & 1120    & 0       & PCA    \\\\\n",
       "\t 20545   & 1120    & 0       & PEER   \\\\\n",
       "\t 20545   & 1120    & 0       & MOFA   \\\\\n",
       "\t 20545   & 1120    & 0       & MOFA-ns\\\\\n",
       "\t 20545   & 1120    & 0       & LDVAE  \\\\\n",
       "\\end{tabular}\n"
      ],
      "text/markdown": [
       "\n",
       "| n_genes | n_eGenes | n_covs | method |\n",
       "|---|---|---|---|\n",
       "| 20545   | 1120    | 0       | PCA     |\n",
       "| 20545   | 1120    | 0       | PEER    |\n",
       "| 20545   | 1120    | 0       | MOFA    |\n",
       "| 20545   | 1120    | 0       | MOFA-ns |\n",
       "| 20545   | 1120    | 0       | LDVAE   |\n",
       "\n"
      ],
      "text/plain": [
       "  n_genes n_eGenes n_covs method \n",
       "1 20545   1120     0      PCA    \n",
       "2 20545   1120     0      PEER   \n",
       "3 20545   1120     0      MOFA   \n",
       "4 20545   1120     0      MOFA-ns\n",
       "5 20545   1120     0      LDVAE  "
      ]
     },
     "metadata": {},
     "output_type": "display_data"
    }
   ],
   "source": [
    "df0 = read.csv(file, sep = \"\\t\")\n",
    "df0 = df0[df0$feature_id %in% chr2_genes,]\n",
    "#     df1 = df0\n",
    "df1 = df0[df0$feature_id %in% G_file$gene,]\n",
    "df1$q_value = qvalue(df1$empirical_feature_p_value)$qvalues\n",
    "n_genes = length(unique(df1$feature_id))\n",
    "n_eGenes = length(unique(df1[df1$q_value < 0.05,\"feature_id\"]))\n",
    "df_0 = data.frame(n_genes = n_genes, n_eGenes = n_eGenes, n_covs = 0, \n",
    "                  method = c(\"PCA\",\"PEER\",\"MOFA\",\"MOFA-ns\",\"LDVAE\"))\n",
    "df_0"
   ]
  },
  {
   "cell_type": "code",
   "execution_count": 50,
   "metadata": {},
   "outputs": [],
   "source": [
    "df_to_plot = rbind(df, df_0)"
   ]
  },
  {
   "cell_type": "code",
   "execution_count": 51,
   "metadata": {},
   "outputs": [
    {
     "data": {
      "image/png": "[encoded data removed]",
      "text/plain": [
       "plot without title"
      ]
     },
     "metadata": {},
     "output_type": "display_data"
    }
   ],
   "source": [
    "options(repr.plot.width = 5, repr.plot.height = 3)\n",
    "ggplot(df_to_plot, aes(x = n_covs, y = n_eGenes, colour = method)) + geom_line() + geom_point(size=2) + theme_bw()"
   ]
  },
  {
   "cell_type": "code",
   "execution_count": 52,
   "metadata": {},
   "outputs": [
    {
     "data": {
      "text/html": [
       "<table>\n",
       "<thead><tr><th></th><th scope=col>n_genes</th><th scope=col>n_eGenes</th><th scope=col>method</th><th scope=col>n_covs</th></tr></thead>\n",
       "<tbody>\n",
       "\t<tr><th scope=row>11</th><td>20545</td><td>1307 </td><td>MOFA </td><td> 5   </td></tr>\n",
       "\t<tr><th scope=row>12</th><td>20545</td><td>1780 </td><td>MOFA </td><td>10   </td></tr>\n",
       "\t<tr><th scope=row>13</th><td>20545</td><td>1738 </td><td>MOFA </td><td>15   </td></tr>\n",
       "\t<tr><th scope=row>14</th><td>20545</td><td>1693 </td><td>MOFA </td><td>20   </td></tr>\n",
       "\t<tr><th scope=row>15</th><td>20545</td><td>1740 </td><td>MOFA </td><td>25   </td></tr>\n",
       "\t<tr><th scope=row>28</th><td>20545</td><td>1120 </td><td>MOFA </td><td> 0   </td></tr>\n",
       "</tbody>\n",
       "</table>\n"
      ],
      "text/latex": [
       "\\begin{tabular}{r|llll}\n",
       "  & n\\_genes & n\\_eGenes & method & n\\_covs\\\\\n",
       "\\hline\n",
       "\t11 & 20545 & 1307  & MOFA  &  5   \\\\\n",
       "\t12 & 20545 & 1780  & MOFA  & 10   \\\\\n",
       "\t13 & 20545 & 1738  & MOFA  & 15   \\\\\n",
       "\t14 & 20545 & 1693  & MOFA  & 20   \\\\\n",
       "\t15 & 20545 & 1740  & MOFA  & 25   \\\\\n",
       "\t28 & 20545 & 1120  & MOFA  &  0   \\\\\n",
       "\\end{tabular}\n"
      ],
      "text/markdown": [
       "\n",
       "| <!--/--> | n_genes | n_eGenes | method | n_covs |\n",
       "|---|---|---|---|---|\n",
       "| 11 | 20545 | 1307  | MOFA  |  5    |\n",
       "| 12 | 20545 | 1780  | MOFA  | 10    |\n",
       "| 13 | 20545 | 1738  | MOFA  | 15    |\n",
       "| 14 | 20545 | 1693  | MOFA  | 20    |\n",
       "| 15 | 20545 | 1740  | MOFA  | 25    |\n",
       "| 28 | 20545 | 1120  | MOFA  |  0    |\n",
       "\n"
      ],
      "text/plain": [
       "   n_genes n_eGenes method n_covs\n",
       "11 20545   1307     MOFA    5    \n",
       "12 20545   1780     MOFA   10    \n",
       "13 20545   1738     MOFA   15    \n",
       "14 20545   1693     MOFA   20    \n",
       "15 20545   1740     MOFA   25    \n",
       "28 20545   1120     MOFA    0    "
      ]
     },
     "metadata": {},
     "output_type": "display_data"
    }
   ],
   "source": [
    "df_to_plot[df_to_plot$method == \"MOFA\",]"
   ]
  },
  {
   "cell_type": "code",
   "execution_count": 53,
   "metadata": {},
   "outputs": [
    {
     "data": {
      "image/png": "[encoded data removed]",
      "text/plain": [
       "plot without title"
      ]
     },
     "metadata": {},
     "output_type": "display_data"
    }
   ],
   "source": [
    "options(repr.plot.width = 5, repr.plot.height = 3)\n",
    "ggplot(df_to_plot, aes(x = n_covs, y = n_eGenes, colour = method)) + geom_line() + geom_point(size=2) + theme_bw()"
   ]
  },
  {
   "cell_type": "code",
   "execution_count": null,
   "metadata": {},
   "outputs": [],
   "source": []
  },
  {
   "cell_type": "code",
   "execution_count": 54,
   "metadata": {},
   "outputs": [],
   "source": [
    "write.csv(df_to_plot, \"/hps/nobackup/stegle/users/acuomo/all_scripts/sc_eqtl/covariate_table_eGenes_all_chromosomes.csv\")"
   ]
  },
  {
   "cell_type": "code",
   "execution_count": null,
   "metadata": {},
   "outputs": [],
   "source": []
  },
  {
   "cell_type": "code",
   "execution_count": 25,
   "metadata": {},
   "outputs": [],
   "source": [
    "l = list()\n",
    "# i = 1"
   ]
  },
  {
   "cell_type": "code",
   "execution_count": 26,
   "metadata": {},
   "outputs": [],
   "source": [
    "for (file in filenames){\n",
    "    df0 = read.csv(file, sep = \"\\t\")\n",
    "    df0 = df0[df0$feature_id %in% chr2_genes,]\n",
    "#     df1 = df0\n",
    "    df1 = df0[df0$feature_id %in% G_file$gene,]\n",
    "    df1$q_value = qvalue(df1$empirical_feature_p_value)$qvalues\n",
    "    eGenes = unique(df1[df1$q_value < 0.05,\"feature_id\"])\n",
    "    l[[file]] = as.character(eGenes)\n",
    "#     i = i+1\n",
    "}"
   ]
  },
  {
   "cell_type": "code",
   "execution_count": 27,
   "metadata": {},
   "outputs": [],
   "source": [
    "mat = matrix(0, nrow = length(filenames), ncol = length(filenames))"
   ]
  },
  {
   "cell_type": "code",
   "execution_count": 28,
   "metadata": {},
   "outputs": [],
   "source": [
    "i = 0\n",
    "for (file1 in filenames){\n",
    "    i = i+1\n",
    "    j = 0\n",
    "    for (file2 in filenames){\n",
    "        j = j+1\n",
    "        if (j<i){next}\n",
    "        egenes1 = l[[file1]]\n",
    "        egenes2 = l[[file2]]\n",
    "        mat[i,j] = max(length(egenes1[egenes1 %in% egenes2])/length(egenes1), \n",
    "                       length(egenes1[egenes1 %in% egenes2])/length(egenes2))\n",
    "        mat[j,i] = mat[i,j]\n",
    "    }\n",
    "}"
   ]
  },
  {
   "cell_type": "code",
   "execution_count": 29,
   "metadata": {},
   "outputs": [
    {
     "data": {
      "text/html": [
       "<ol class=list-inline>\n",
       "\t<li>'PCA_5'</li>\n",
       "\t<li>'PCA_10'</li>\n",
       "\t<li>'PCA_15'</li>\n",
       "\t<li>'PCA_20'</li>\n",
       "\t<li>'PCA_25'</li>\n",
       "\t<li>'PEER_5'</li>\n",
       "</ol>\n"
      ],
      "text/latex": [
       "\\begin{enumerate*}\n",
       "\\item 'PCA\\_5'\n",
       "\\item 'PCA\\_10'\n",
       "\\item 'PCA\\_15'\n",
       "\\item 'PCA\\_20'\n",
       "\\item 'PCA\\_25'\n",
       "\\item 'PEER\\_5'\n",
       "\\end{enumerate*}\n"
      ],
      "text/markdown": [
       "1. 'PCA_5'\n",
       "2. 'PCA_10'\n",
       "3. 'PCA_15'\n",
       "4. 'PCA_20'\n",
       "5. 'PCA_25'\n",
       "6. 'PEER_5'\n",
       "\n",
       "\n"
      ],
      "text/plain": [
       "[1] \"PCA_5\"  \"PCA_10\" \"PCA_15\" \"PCA_20\" \"PCA_25\" \"PEER_5\""
      ]
     },
     "metadata": {},
     "output_type": "display_data"
    }
   ],
   "source": [
    "method = c(\"PCA\",\"PCA\",\"PCA\",\"PCA\",\"PCA\",\n",
    "             \"PEER\",\"PEER\",\"PEER\",\"PEER\",\"PEER\",\n",
    "             \"MOFA\",\"MOFA\",\"MOFA\",\"MOFA\",\"MOFA\",\n",
    "             \"MOFA-ns\",\"MOFA-ns\",\"MOFA-ns\",\"MOFA-ns\",\"MOFA-ns\",\n",
    "             \"LDVAE\",\"LDVAE\",\"LDVAE\",\"LDVAE\",\"LDVAE\")\n",
    "n_covs = c(number_of_covs,number_of_covs,number_of_covs,number_of_covs,number_of_covs)\n",
    "names = paste0(method, \"_\", n_covs)\n",
    "head(names)"
   ]
  },
  {
   "cell_type": "code",
   "execution_count": 30,
   "metadata": {},
   "outputs": [
    {
     "data": {
      "text/html": [
       "<table>\n",
       "<thead><tr><th></th><th scope=col>PCA_5</th><th scope=col>PCA_10</th><th scope=col>PCA_15</th><th scope=col>PCA_20</th><th scope=col>PCA_25</th></tr></thead>\n",
       "<tbody>\n",
       "\t<tr><th scope=row>PCA_5</th><td>1.00000  </td><td>0.7000000</td><td>0.7375000</td><td>0.7062500</td><td>0.6625000</td></tr>\n",
       "\t<tr><th scope=row>PCA_10</th><td>0.70000  </td><td>1.0000000</td><td>0.7696970</td><td>0.7333333</td><td>0.7272727</td></tr>\n",
       "\t<tr><th scope=row>PCA_15</th><td>0.73750  </td><td>0.7696970</td><td>1.0000000</td><td>0.7828571</td><td>0.7964072</td></tr>\n",
       "\t<tr><th scope=row>PCA_20</th><td>0.70625  </td><td>0.7333333</td><td>0.7828571</td><td>1.0000000</td><td>0.8203593</td></tr>\n",
       "\t<tr><th scope=row>PCA_25</th><td>0.66250  </td><td>0.7272727</td><td>0.7964072</td><td>0.8203593</td><td>1.0000000</td></tr>\n",
       "</tbody>\n",
       "</table>\n"
      ],
      "text/latex": [
       "\\begin{tabular}{r|lllll}\n",
       "  & PCA\\_5 & PCA\\_10 & PCA\\_15 & PCA\\_20 & PCA\\_25\\\\\n",
       "\\hline\n",
       "\tPCA\\_5 & 1.00000   & 0.7000000 & 0.7375000 & 0.7062500 & 0.6625000\\\\\n",
       "\tPCA\\_10 & 0.70000   & 1.0000000 & 0.7696970 & 0.7333333 & 0.7272727\\\\\n",
       "\tPCA\\_15 & 0.73750   & 0.7696970 & 1.0000000 & 0.7828571 & 0.7964072\\\\\n",
       "\tPCA\\_20 & 0.70625   & 0.7333333 & 0.7828571 & 1.0000000 & 0.8203593\\\\\n",
       "\tPCA\\_25 & 0.66250   & 0.7272727 & 0.7964072 & 0.8203593 & 1.0000000\\\\\n",
       "\\end{tabular}\n"
      ],
      "text/markdown": [
       "\n",
       "| <!--/--> | PCA_5 | PCA_10 | PCA_15 | PCA_20 | PCA_25 |\n",
       "|---|---|---|---|---|---|\n",
       "| PCA_5 | 1.00000   | 0.7000000 | 0.7375000 | 0.7062500 | 0.6625000 |\n",
       "| PCA_10 | 0.70000   | 1.0000000 | 0.7696970 | 0.7333333 | 0.7272727 |\n",
       "| PCA_15 | 0.73750   | 0.7696970 | 1.0000000 | 0.7828571 | 0.7964072 |\n",
       "| PCA_20 | 0.70625   | 0.7333333 | 0.7828571 | 1.0000000 | 0.8203593 |\n",
       "| PCA_25 | 0.66250   | 0.7272727 | 0.7964072 | 0.8203593 | 1.0000000 |\n",
       "\n"
      ],
      "text/plain": [
       "       PCA_5   PCA_10    PCA_15    PCA_20    PCA_25   \n",
       "PCA_5  1.00000 0.7000000 0.7375000 0.7062500 0.6625000\n",
       "PCA_10 0.70000 1.0000000 0.7696970 0.7333333 0.7272727\n",
       "PCA_15 0.73750 0.7696970 1.0000000 0.7828571 0.7964072\n",
       "PCA_20 0.70625 0.7333333 0.7828571 1.0000000 0.8203593\n",
       "PCA_25 0.66250 0.7272727 0.7964072 0.8203593 1.0000000"
      ]
     },
     "metadata": {},
     "output_type": "display_data"
    }
   ],
   "source": [
    "rownames(mat) = names\n",
    "colnames(mat) = names\n",
    "mat[1:5,1:5]"
   ]
  },
  {
   "cell_type": "code",
   "execution_count": 31,
   "metadata": {},
   "outputs": [
    {
     "data": {
      "text/html": [
       "<table>\n",
       "<thead><tr><th></th><th scope=col>PCA_5</th><th scope=col>PEER_5</th><th scope=col>MOFA_5</th><th scope=col>MOFA-ns_5</th><th scope=col>LDVAE_5</th></tr></thead>\n",
       "<tbody>\n",
       "\t<tr><th scope=row>PCA_5</th><td>1.0000000</td><td>0.7094595</td><td>0.7131783</td><td>0.7225806</td><td>0.7433628</td></tr>\n",
       "\t<tr><th scope=row>PEER_5</th><td>0.7094595</td><td>1.0000000</td><td>0.7054264</td><td>0.7027027</td><td>0.6902655</td></tr>\n",
       "\t<tr><th scope=row>MOFA_5</th><td>0.7131783</td><td>0.7054264</td><td>1.0000000</td><td>0.7054264</td><td>0.6991150</td></tr>\n",
       "\t<tr><th scope=row>MOFA-ns_5</th><td>0.7225806</td><td>0.7027027</td><td>0.7054264</td><td>1.0000000</td><td>0.7168142</td></tr>\n",
       "\t<tr><th scope=row>LDVAE_5</th><td>0.7433628</td><td>0.6902655</td><td>0.6991150</td><td>0.7168142</td><td>1.0000000</td></tr>\n",
       "</tbody>\n",
       "</table>\n"
      ],
      "text/latex": [
       "\\begin{tabular}{r|lllll}\n",
       "  & PCA\\_5 & PEER\\_5 & MOFA\\_5 & MOFA-ns\\_5 & LDVAE\\_5\\\\\n",
       "\\hline\n",
       "\tPCA\\_5 & 1.0000000 & 0.7094595 & 0.7131783 & 0.7225806 & 0.7433628\\\\\n",
       "\tPEER\\_5 & 0.7094595 & 1.0000000 & 0.7054264 & 0.7027027 & 0.6902655\\\\\n",
       "\tMOFA\\_5 & 0.7131783 & 0.7054264 & 1.0000000 & 0.7054264 & 0.6991150\\\\\n",
       "\tMOFA-ns\\_5 & 0.7225806 & 0.7027027 & 0.7054264 & 1.0000000 & 0.7168142\\\\\n",
       "\tLDVAE\\_5 & 0.7433628 & 0.6902655 & 0.6991150 & 0.7168142 & 1.0000000\\\\\n",
       "\\end{tabular}\n"
      ],
      "text/markdown": [
       "\n",
       "| <!--/--> | PCA_5 | PEER_5 | MOFA_5 | MOFA-ns_5 | LDVAE_5 |\n",
       "|---|---|---|---|---|---|\n",
       "| PCA_5 | 1.0000000 | 0.7094595 | 0.7131783 | 0.7225806 | 0.7433628 |\n",
       "| PEER_5 | 0.7094595 | 1.0000000 | 0.7054264 | 0.7027027 | 0.6902655 |\n",
       "| MOFA_5 | 0.7131783 | 0.7054264 | 1.0000000 | 0.7054264 | 0.6991150 |\n",
       "| MOFA-ns_5 | 0.7225806 | 0.7027027 | 0.7054264 | 1.0000000 | 0.7168142 |\n",
       "| LDVAE_5 | 0.7433628 | 0.6902655 | 0.6991150 | 0.7168142 | 1.0000000 |\n",
       "\n"
      ],
      "text/plain": [
       "          PCA_5     PEER_5    MOFA_5    MOFA-ns_5 LDVAE_5  \n",
       "PCA_5     1.0000000 0.7094595 0.7131783 0.7225806 0.7433628\n",
       "PEER_5    0.7094595 1.0000000 0.7054264 0.7027027 0.6902655\n",
       "MOFA_5    0.7131783 0.7054264 1.0000000 0.7054264 0.6991150\n",
       "MOFA-ns_5 0.7225806 0.7027027 0.7054264 1.0000000 0.7168142\n",
       "LDVAE_5   0.7433628 0.6902655 0.6991150 0.7168142 1.0000000"
      ]
     },
     "metadata": {},
     "output_type": "display_data"
    },
    {
     "data": {
      "text/html": [
       "0.768666506975943"
      ],
      "text/latex": [
       "0.768666506975943"
      ],
      "text/markdown": [
       "0.768666506975943"
      ],
      "text/plain": [
       "[1] 0.7686665"
      ]
     },
     "metadata": {},
     "output_type": "display_data"
    }
   ],
   "source": [
    "mat[grep(\"_5\",rownames(mat)),grep(\"_5\",colnames(mat))]\n",
    "mean_5 = mean(mat[grep(\"_5\",rownames(mat)),grep(\"_5\",colnames(mat))])\n",
    "mean_5"
   ]
  },
  {
   "cell_type": "code",
   "execution_count": 32,
   "metadata": {},
   "outputs": [
    {
     "data": {
      "text/html": [
       "<table>\n",
       "<thead><tr><th></th><th scope=col>PCA_10</th><th scope=col>PEER_10</th><th scope=col>MOFA_10</th><th scope=col>MOFA-ns_10</th><th scope=col>LDVAE_10</th></tr></thead>\n",
       "<tbody>\n",
       "\t<tr><th scope=row>PCA_10</th><td>1.0000000</td><td>0.7410072</td><td>0.7151515</td><td>0.7565789</td><td>0.7033898</td></tr>\n",
       "\t<tr><th scope=row>PEER_10</th><td>0.7410072</td><td>1.0000000</td><td>0.7697842</td><td>0.7194245</td><td>0.7033898</td></tr>\n",
       "\t<tr><th scope=row>MOFA_10</th><td>0.7151515</td><td>0.7697842</td><td>1.0000000</td><td>0.7500000</td><td>0.7288136</td></tr>\n",
       "\t<tr><th scope=row>MOFA-ns_10</th><td>0.7565789</td><td>0.7194245</td><td>0.7500000</td><td>1.0000000</td><td>0.6779661</td></tr>\n",
       "\t<tr><th scope=row>LDVAE_10</th><td>0.7033898</td><td>0.7033898</td><td>0.7288136</td><td>0.6779661</td><td>1.0000000</td></tr>\n",
       "</tbody>\n",
       "</table>\n"
      ],
      "text/latex": [
       "\\begin{tabular}{r|lllll}\n",
       "  & PCA\\_10 & PEER\\_10 & MOFA\\_10 & MOFA-ns\\_10 & LDVAE\\_10\\\\\n",
       "\\hline\n",
       "\tPCA\\_10 & 1.0000000 & 0.7410072 & 0.7151515 & 0.7565789 & 0.7033898\\\\\n",
       "\tPEER\\_10 & 0.7410072 & 1.0000000 & 0.7697842 & 0.7194245 & 0.7033898\\\\\n",
       "\tMOFA\\_10 & 0.7151515 & 0.7697842 & 1.0000000 & 0.7500000 & 0.7288136\\\\\n",
       "\tMOFA-ns\\_10 & 0.7565789 & 0.7194245 & 0.7500000 & 1.0000000 & 0.6779661\\\\\n",
       "\tLDVAE\\_10 & 0.7033898 & 0.7033898 & 0.7288136 & 0.6779661 & 1.0000000\\\\\n",
       "\\end{tabular}\n"
      ],
      "text/markdown": [
       "\n",
       "| <!--/--> | PCA_10 | PEER_10 | MOFA_10 | MOFA-ns_10 | LDVAE_10 |\n",
       "|---|---|---|---|---|---|\n",
       "| PCA_10 | 1.0000000 | 0.7410072 | 0.7151515 | 0.7565789 | 0.7033898 |\n",
       "| PEER_10 | 0.7410072 | 1.0000000 | 0.7697842 | 0.7194245 | 0.7033898 |\n",
       "| MOFA_10 | 0.7151515 | 0.7697842 | 1.0000000 | 0.7500000 | 0.7288136 |\n",
       "| MOFA-ns_10 | 0.7565789 | 0.7194245 | 0.7500000 | 1.0000000 | 0.6779661 |\n",
       "| LDVAE_10 | 0.7033898 | 0.7033898 | 0.7288136 | 0.6779661 | 1.0000000 |\n",
       "\n"
      ],
      "text/plain": [
       "           PCA_10    PEER_10   MOFA_10   MOFA-ns_10 LDVAE_10 \n",
       "PCA_10     1.0000000 0.7410072 0.7151515 0.7565789  0.7033898\n",
       "PEER_10    0.7410072 1.0000000 0.7697842 0.7194245  0.7033898\n",
       "MOFA_10    0.7151515 0.7697842 1.0000000 0.7500000  0.7288136\n",
       "MOFA-ns_10 0.7565789 0.7194245 0.7500000 1.0000000  0.6779661\n",
       "LDVAE_10   0.7033898 0.7033898 0.7288136 0.6779661  1.0000000"
      ]
     },
     "metadata": {},
     "output_type": "display_data"
    },
    {
     "data": {
      "text/html": [
       "0.781240448951357"
      ],
      "text/latex": [
       "0.781240448951357"
      ],
      "text/markdown": [
       "0.781240448951357"
      ],
      "text/plain": [
       "[1] 0.7812404"
      ]
     },
     "metadata": {},
     "output_type": "display_data"
    }
   ],
   "source": [
    "mat[grep(\"_10\",rownames(mat)),grep(\"_10\",colnames(mat))]\n",
    "mean_10 = mean(mat[grep(\"_10\",rownames(mat)),grep(\"_10\",colnames(mat))])\n",
    "mean_10"
   ]
  },
  {
   "cell_type": "code",
   "execution_count": 33,
   "metadata": {},
   "outputs": [
    {
     "data": {
      "text/html": [
       "<table>\n",
       "<thead><tr><th></th><th scope=col>PCA_15</th><th scope=col>PEER_15</th><th scope=col>MOFA_15</th><th scope=col>MOFA-ns_15</th><th scope=col>LDVAE_15</th></tr></thead>\n",
       "<tbody>\n",
       "\t<tr><th scope=row>PCA_15</th><td>1.0000000</td><td>0.6986301</td><td>0.7134146</td><td>0.7046980</td><td>0.7333333</td></tr>\n",
       "\t<tr><th scope=row>PEER_15</th><td>0.6986301</td><td>1.0000000</td><td>0.7260274</td><td>0.6849315</td><td>0.6222222</td></tr>\n",
       "\t<tr><th scope=row>MOFA_15</th><td>0.7134146</td><td>0.7260274</td><td>1.0000000</td><td>0.7248322</td><td>0.7037037</td></tr>\n",
       "\t<tr><th scope=row>MOFA-ns_15</th><td>0.7046980</td><td>0.6849315</td><td>0.7248322</td><td>1.0000000</td><td>0.6740741</td></tr>\n",
       "\t<tr><th scope=row>LDVAE_15</th><td>0.7333333</td><td>0.6222222</td><td>0.7037037</td><td>0.6740741</td><td>1.0000000</td></tr>\n",
       "</tbody>\n",
       "</table>\n"
      ],
      "text/latex": [
       "\\begin{tabular}{r|lllll}\n",
       "  & PCA\\_15 & PEER\\_15 & MOFA\\_15 & MOFA-ns\\_15 & LDVAE\\_15\\\\\n",
       "\\hline\n",
       "\tPCA\\_15 & 1.0000000 & 0.6986301 & 0.7134146 & 0.7046980 & 0.7333333\\\\\n",
       "\tPEER\\_15 & 0.6986301 & 1.0000000 & 0.7260274 & 0.6849315 & 0.6222222\\\\\n",
       "\tMOFA\\_15 & 0.7134146 & 0.7260274 & 1.0000000 & 0.7248322 & 0.7037037\\\\\n",
       "\tMOFA-ns\\_15 & 0.7046980 & 0.6849315 & 0.7248322 & 1.0000000 & 0.6740741\\\\\n",
       "\tLDVAE\\_15 & 0.7333333 & 0.6222222 & 0.7037037 & 0.6740741 & 1.0000000\\\\\n",
       "\\end{tabular}\n"
      ],
      "text/markdown": [
       "\n",
       "| <!--/--> | PCA_15 | PEER_15 | MOFA_15 | MOFA-ns_15 | LDVAE_15 |\n",
       "|---|---|---|---|---|---|\n",
       "| PCA_15 | 1.0000000 | 0.6986301 | 0.7134146 | 0.7046980 | 0.7333333 |\n",
       "| PEER_15 | 0.6986301 | 1.0000000 | 0.7260274 | 0.6849315 | 0.6222222 |\n",
       "| MOFA_15 | 0.7134146 | 0.7260274 | 1.0000000 | 0.7248322 | 0.7037037 |\n",
       "| MOFA-ns_15 | 0.7046980 | 0.6849315 | 0.7248322 | 1.0000000 | 0.6740741 |\n",
       "| LDVAE_15 | 0.7333333 | 0.6222222 | 0.7037037 | 0.6740741 | 1.0000000 |\n",
       "\n"
      ],
      "text/plain": [
       "           PCA_15    PEER_15   MOFA_15   MOFA-ns_15 LDVAE_15 \n",
       "PCA_15     1.0000000 0.6986301 0.7134146 0.7046980  0.7333333\n",
       "PEER_15    0.6986301 1.0000000 0.7260274 0.6849315  0.6222222\n",
       "MOFA_15    0.7134146 0.7260274 1.0000000 0.7248322  0.7037037\n",
       "MOFA-ns_15 0.7046980 0.6849315 0.7248322 1.0000000  0.6740741\n",
       "LDVAE_15   0.7333333 0.6222222 0.7037037 0.6740741  1.0000000"
      ]
     },
     "metadata": {},
     "output_type": "display_data"
    },
    {
     "data": {
      "text/html": [
       "0.758869376793428"
      ],
      "text/latex": [
       "0.758869376793428"
      ],
      "text/markdown": [
       "0.758869376793428"
      ],
      "text/plain": [
       "[1] 0.7588694"
      ]
     },
     "metadata": {},
     "output_type": "display_data"
    }
   ],
   "source": [
    "mat[grep(\"_15\",rownames(mat)),grep(\"_15\",colnames(mat))]\n",
    "mean_15 = mean(mat[grep(\"_15\",rownames(mat)),grep(\"_15\",colnames(mat))])\n",
    "mean_15"
   ]
  },
  {
   "cell_type": "code",
   "execution_count": 34,
   "metadata": {},
   "outputs": [
    {
     "data": {
      "text/html": [
       "<table>\n",
       "<thead><tr><th></th><th scope=col>PCA_20</th><th scope=col>PEER_20</th><th scope=col>MOFA_20</th><th scope=col>MOFA-ns_20</th><th scope=col>LDVAE_20</th></tr></thead>\n",
       "<tbody>\n",
       "\t<tr><th scope=row>PCA_20</th><td>1.0000000</td><td>0.7460317</td><td>0.7333333</td><td>0.7012987</td><td>0.7151899</td></tr>\n",
       "\t<tr><th scope=row>PEER_20</th><td>0.7460317</td><td>1.0000000</td><td>0.7777778</td><td>0.7777778</td><td>0.6746032</td></tr>\n",
       "\t<tr><th scope=row>MOFA_20</th><td>0.7333333</td><td>0.7777778</td><td>1.0000000</td><td>0.7402597</td><td>0.6835443</td></tr>\n",
       "\t<tr><th scope=row>MOFA-ns_20</th><td>0.7012987</td><td>0.7777778</td><td>0.7402597</td><td>1.0000000</td><td>0.6883117</td></tr>\n",
       "\t<tr><th scope=row>LDVAE_20</th><td>0.7151899</td><td>0.6746032</td><td>0.6835443</td><td>0.6883117</td><td>1.0000000</td></tr>\n",
       "</tbody>\n",
       "</table>\n"
      ],
      "text/latex": [
       "\\begin{tabular}{r|lllll}\n",
       "  & PCA\\_20 & PEER\\_20 & MOFA\\_20 & MOFA-ns\\_20 & LDVAE\\_20\\\\\n",
       "\\hline\n",
       "\tPCA\\_20 & 1.0000000 & 0.7460317 & 0.7333333 & 0.7012987 & 0.7151899\\\\\n",
       "\tPEER\\_20 & 0.7460317 & 1.0000000 & 0.7777778 & 0.7777778 & 0.6746032\\\\\n",
       "\tMOFA\\_20 & 0.7333333 & 0.7777778 & 1.0000000 & 0.7402597 & 0.6835443\\\\\n",
       "\tMOFA-ns\\_20 & 0.7012987 & 0.7777778 & 0.7402597 & 1.0000000 & 0.6883117\\\\\n",
       "\tLDVAE\\_20 & 0.7151899 & 0.6746032 & 0.6835443 & 0.6883117 & 1.0000000\\\\\n",
       "\\end{tabular}\n"
      ],
      "text/markdown": [
       "\n",
       "| <!--/--> | PCA_20 | PEER_20 | MOFA_20 | MOFA-ns_20 | LDVAE_20 |\n",
       "|---|---|---|---|---|---|\n",
       "| PCA_20 | 1.0000000 | 0.7460317 | 0.7333333 | 0.7012987 | 0.7151899 |\n",
       "| PEER_20 | 0.7460317 | 1.0000000 | 0.7777778 | 0.7777778 | 0.6746032 |\n",
       "| MOFA_20 | 0.7333333 | 0.7777778 | 1.0000000 | 0.7402597 | 0.6835443 |\n",
       "| MOFA-ns_20 | 0.7012987 | 0.7777778 | 0.7402597 | 1.0000000 | 0.6883117 |\n",
       "| LDVAE_20 | 0.7151899 | 0.6746032 | 0.6835443 | 0.6883117 | 1.0000000 |\n",
       "\n"
      ],
      "text/plain": [
       "           PCA_20    PEER_20   MOFA_20   MOFA-ns_20 LDVAE_20 \n",
       "PCA_20     1.0000000 0.7460317 0.7333333 0.7012987  0.7151899\n",
       "PEER_20    0.7460317 1.0000000 0.7777778 0.7777778  0.6746032\n",
       "MOFA_20    0.7333333 0.7777778 1.0000000 0.7402597  0.6835443\n",
       "MOFA-ns_20 0.7012987 0.7777778 0.7402597 1.0000000  0.6883117\n",
       "LDVAE_20   0.7151899 0.6746032 0.6835443 0.6883117  1.0000000"
      ]
     },
     "metadata": {},
     "output_type": "display_data"
    },
    {
     "data": {
      "text/html": [
       "0.77905024932873"
      ],
      "text/latex": [
       "0.77905024932873"
      ],
      "text/markdown": [
       "0.77905024932873"
      ],
      "text/plain": [
       "[1] 0.7790502"
      ]
     },
     "metadata": {},
     "output_type": "display_data"
    }
   ],
   "source": [
    "mat[grep(\"_20\",rownames(mat)),grep(\"_20\",colnames(mat))]\n",
    "mean_20 = mean(mat[grep(\"_20\",rownames(mat)),grep(\"_20\",colnames(mat))])\n",
    "mean_20"
   ]
  },
  {
   "cell_type": "code",
   "execution_count": 35,
   "metadata": {},
   "outputs": [
    {
     "data": {
      "text/html": [
       "<table>\n",
       "<thead><tr><th></th><th scope=col>PCA_25</th><th scope=col>PEER_25</th><th scope=col>MOFA_25</th><th scope=col>MOFA-ns_25</th><th scope=col>LDVAE_25</th></tr></thead>\n",
       "<tbody>\n",
       "\t<tr><th scope=row>PCA_25</th><td>1.0000000</td><td>0.7604790</td><td>0.7012987</td><td>0.8214286</td><td>0.7291667</td></tr>\n",
       "\t<tr><th scope=row>PEER_25</th><td>0.7604790</td><td>1.0000000</td><td>0.7597403</td><td>0.8750000</td><td>0.7013889</td></tr>\n",
       "\t<tr><th scope=row>MOFA_25</th><td>0.7012987</td><td>0.7597403</td><td>1.0000000</td><td>0.8035714</td><td>0.6319444</td></tr>\n",
       "\t<tr><th scope=row>MOFA-ns_25</th><td>0.8214286</td><td>0.8750000</td><td>0.8035714</td><td>1.0000000</td><td>0.6875000</td></tr>\n",
       "\t<tr><th scope=row>LDVAE_25</th><td>0.7291667</td><td>0.7013889</td><td>0.6319444</td><td>0.6875000</td><td>1.0000000</td></tr>\n",
       "</tbody>\n",
       "</table>\n"
      ],
      "text/latex": [
       "\\begin{tabular}{r|lllll}\n",
       "  & PCA\\_25 & PEER\\_25 & MOFA\\_25 & MOFA-ns\\_25 & LDVAE\\_25\\\\\n",
       "\\hline\n",
       "\tPCA\\_25 & 1.0000000 & 0.7604790 & 0.7012987 & 0.8214286 & 0.7291667\\\\\n",
       "\tPEER\\_25 & 0.7604790 & 1.0000000 & 0.7597403 & 0.8750000 & 0.7013889\\\\\n",
       "\tMOFA\\_25 & 0.7012987 & 0.7597403 & 1.0000000 & 0.8035714 & 0.6319444\\\\\n",
       "\tMOFA-ns\\_25 & 0.8214286 & 0.8750000 & 0.8035714 & 1.0000000 & 0.6875000\\\\\n",
       "\tLDVAE\\_25 & 0.7291667 & 0.7013889 & 0.6319444 & 0.6875000 & 1.0000000\\\\\n",
       "\\end{tabular}\n"
      ],
      "text/markdown": [
       "\n",
       "| <!--/--> | PCA_25 | PEER_25 | MOFA_25 | MOFA-ns_25 | LDVAE_25 |\n",
       "|---|---|---|---|---|---|\n",
       "| PCA_25 | 1.0000000 | 0.7604790 | 0.7012987 | 0.8214286 | 0.7291667 |\n",
       "| PEER_25 | 0.7604790 | 1.0000000 | 0.7597403 | 0.8750000 | 0.7013889 |\n",
       "| MOFA_25 | 0.7012987 | 0.7597403 | 1.0000000 | 0.8035714 | 0.6319444 |\n",
       "| MOFA-ns_25 | 0.8214286 | 0.8750000 | 0.8035714 | 1.0000000 | 0.6875000 |\n",
       "| LDVAE_25 | 0.7291667 | 0.7013889 | 0.6319444 | 0.6875000 | 1.0000000 |\n",
       "\n"
      ],
      "text/plain": [
       "           PCA_25    PEER_25   MOFA_25   MOFA-ns_25 LDVAE_25 \n",
       "PCA_25     1.0000000 0.7604790 0.7012987 0.8214286  0.7291667\n",
       "PEER_25    0.7604790 1.0000000 0.7597403 0.8750000  0.7013889\n",
       "MOFA_25    0.7012987 0.7597403 1.0000000 0.8035714  0.6319444\n",
       "MOFA-ns_25 0.8214286 0.8750000 0.8035714 1.0000000  0.6875000\n",
       "LDVAE_25   0.7291667 0.7013889 0.6319444 0.6875000  1.0000000"
      ]
     },
     "metadata": {},
     "output_type": "display_data"
    },
    {
     "data": {
      "text/html": [
       "0.79772144023641"
      ],
      "text/latex": [
       "0.79772144023641"
      ],
      "text/markdown": [
       "0.79772144023641"
      ],
      "text/plain": [
       "[1] 0.7977214"
      ]
     },
     "metadata": {},
     "output_type": "display_data"
    }
   ],
   "source": [
    "mat[grep(\"_25\",rownames(mat)),grep(\"_25\",colnames(mat))]\n",
    "mean_25 = mean(mat[grep(\"_25\",rownames(mat)),grep(\"_25\",colnames(mat))])\n",
    "mean_25"
   ]
  },
  {
   "cell_type": "code",
   "execution_count": 36,
   "metadata": {},
   "outputs": [
    {
     "data": {
      "text/html": [
       "0.768666506975943"
      ],
      "text/latex": [
       "0.768666506975943"
      ],
      "text/markdown": [
       "0.768666506975943"
      ],
      "text/plain": [
       "[1] 0.7686665"
      ]
     },
     "metadata": {},
     "output_type": "display_data"
    }
   ],
   "source": [
    "mean(mean_5, mean_10, mean_15, mean_20, mean_25)"
   ]
  },
  {
   "cell_type": "code",
   "execution_count": null,
   "metadata": {},
   "outputs": [],
   "source": []
  },
  {
   "cell_type": "code",
   "execution_count": 38,
   "metadata": {},
   "outputs": [
    {
     "data": {
      "text/html": [
       "25"
      ],
      "text/latex": [
       "25"
      ],
      "text/markdown": [
       "25"
      ],
      "text/plain": [
       "[1] 25"
      ]
     },
     "metadata": {},
     "output_type": "display_data"
    },
    {
     "data": {
      "text/html": [
       "25"
      ],
      "text/latex": [
       "25"
      ],
      "text/markdown": [
       "25"
      ],
      "text/plain": [
       "[1] 25"
      ]
     },
     "metadata": {},
     "output_type": "display_data"
    }
   ],
   "source": [
    "nrow(mat)\n",
    "ncol(mat)"
   ]
  },
  {
   "cell_type": "code",
   "execution_count": 57,
   "metadata": {},
   "outputs": [
    {
     "data": {
      "text/html": [
       "<table>\n",
       "<thead><tr><th></th><th scope=col>PCA_5</th><th scope=col>PCA_10</th><th scope=col>PCA_15</th><th scope=col>PCA_20</th><th scope=col>PCA_25</th><th scope=col>PEER_5</th><th scope=col>PEER_10</th><th scope=col>PEER_15</th><th scope=col>PEER_20</th><th scope=col>PEER_25</th><th scope=col>...</th><th scope=col>MOFA-ns_5</th><th scope=col>MOFA-ns_10</th><th scope=col>MOFA-ns_15</th><th scope=col>MOFA-ns_20</th><th scope=col>MOFA-ns_25</th><th scope=col>LDVAE_5</th><th scope=col>LDVAE_10</th><th scope=col>LDVAE_15</th><th scope=col>LDVAE_20</th><th scope=col>LDVAE_25</th></tr></thead>\n",
       "<tbody>\n",
       "\t<tr><th scope=row>PCA_5</th><td>1.0000000</td><td>0.7000000</td><td>0.7375000</td><td>0.7062500</td><td>0.6625000</td><td>0.7094595</td><td>0.7338129</td><td>0.7534247</td><td>0.7777778</td><td>0.7375000</td><td>...      </td><td>0.7225806</td><td>0.6907895</td><td>0.6778523</td><td>0.6948052</td><td>0.8035714</td><td>0.7433628</td><td>0.7457627</td><td>0.7407407</td><td>0.6202532</td><td>0.6527778</td></tr>\n",
       "\t<tr><th scope=row>PCA_10</th><td>0.7000000</td><td>1.0000000</td><td>0.7696970</td><td>0.7333333</td><td>0.7272727</td><td>0.7229730</td><td>0.7410072</td><td>0.7260274</td><td>0.8253968</td><td>0.7939394</td><td>...      </td><td>0.7225806</td><td>0.7565789</td><td>0.7181208</td><td>0.7467532</td><td>0.8571429</td><td>0.7699115</td><td>0.7033898</td><td>0.7481481</td><td>0.6835443</td><td>0.7222222</td></tr>\n",
       "\t<tr><th scope=row>PCA_15</th><td>0.7375000</td><td>0.7696970</td><td>1.0000000</td><td>0.7828571</td><td>0.7964072</td><td>0.6824324</td><td>0.7338129</td><td>0.6986301</td><td>0.7698413</td><td>0.7540984</td><td>...      </td><td>0.7483871</td><td>0.7434211</td><td>0.7046980</td><td>0.7402597</td><td>0.8482143</td><td>0.7522124</td><td>0.7457627</td><td>0.7333333</td><td>0.7278481</td><td>0.7500000</td></tr>\n",
       "\t<tr><th scope=row>PCA_20</th><td>0.7062500</td><td>0.7333333</td><td>0.7828571</td><td>1.0000000</td><td>0.8203593</td><td>0.6756757</td><td>0.7194245</td><td>0.6712329</td><td>0.7460317</td><td>0.7657143</td><td>...      </td><td>0.6903226</td><td>0.7105263</td><td>0.6845638</td><td>0.7012987</td><td>0.8482143</td><td>0.6902655</td><td>0.6949153</td><td>0.7333333</td><td>0.7151899</td><td>0.7152778</td></tr>\n",
       "\t<tr><th scope=row>PCA_25</th><td>0.6625000</td><td>0.7272727</td><td>0.7964072</td><td>0.8203593</td><td>1.0000000</td><td>0.6351351</td><td>0.6978417</td><td>0.6301370</td><td>0.7142857</td><td>0.7604790</td><td>...      </td><td>0.6838710</td><td>0.6644737</td><td>0.6510067</td><td>0.6818182</td><td>0.8214286</td><td>0.6725664</td><td>0.6864407</td><td>0.7037037</td><td>0.6835443</td><td>0.7291667</td></tr>\n",
       "\t<tr><th scope=row>PEER_5</th><td>0.7094595</td><td>0.7229730</td><td>0.6824324</td><td>0.6756757</td><td>0.6351351</td><td>1.0000000</td><td>0.8129496</td><td>0.7876712</td><td>0.8412698</td><td>0.7162162</td><td>...      </td><td>0.7027027</td><td>0.6891892</td><td>0.6554054</td><td>0.7229730</td><td>0.8214286</td><td>0.6902655</td><td>0.6864407</td><td>0.6296296</td><td>0.6216216</td><td>0.6111111</td></tr>\n",
       "\t<tr><th scope=row>PEER_10</th><td>0.7338129</td><td>0.7410072</td><td>0.7338129</td><td>0.7194245</td><td>0.6978417</td><td>0.8129496</td><td>1.0000000</td><td>0.7769784</td><td>0.8412698</td><td>0.7482014</td><td>...      </td><td>0.7482014</td><td>0.7194245</td><td>0.6618705</td><td>0.7266187</td><td>0.7767857</td><td>0.7079646</td><td>0.7033898</td><td>0.6296296</td><td>0.6474820</td><td>0.6187050</td></tr>\n",
       "\t<tr><th scope=row>PEER_15</th><td>0.7534247</td><td>0.7260274</td><td>0.6986301</td><td>0.6712329</td><td>0.6301370</td><td>0.7876712</td><td>0.7769784</td><td>1.0000000</td><td>0.8253968</td><td>0.7260274</td><td>...      </td><td>0.7465753</td><td>0.7328767</td><td>0.6849315</td><td>0.7534247</td><td>0.8214286</td><td>0.7168142</td><td>0.7033898</td><td>0.6222222</td><td>0.6095890</td><td>0.5902778</td></tr>\n",
       "\t<tr><th scope=row>PEER_20</th><td>0.7777778</td><td>0.8253968</td><td>0.7698413</td><td>0.7460317</td><td>0.7142857</td><td>0.8412698</td><td>0.8412698</td><td>0.8253968</td><td>1.0000000</td><td>0.8015873</td><td>...      </td><td>0.7857143</td><td>0.7698413</td><td>0.7142857</td><td>0.7777778</td><td>0.7767857</td><td>0.6902655</td><td>0.6610169</td><td>0.6190476</td><td>0.6746032</td><td>0.6428571</td></tr>\n",
       "\t<tr><th scope=row>PEER_25</th><td>0.7375000</td><td>0.7939394</td><td>0.7540984</td><td>0.7657143</td><td>0.7604790</td><td>0.7162162</td><td>0.7482014</td><td>0.7260274</td><td>0.8015873</td><td>1.0000000</td><td>...      </td><td>0.7612903</td><td>0.7368421</td><td>0.7248322</td><td>0.7467532</td><td>0.8750000</td><td>0.7345133</td><td>0.7542373</td><td>0.7407407</td><td>0.6962025</td><td>0.7013889</td></tr>\n",
       "\t<tr><th scope=row>MOFA_5</th><td>0.7131783</td><td>0.7209302</td><td>0.7131783</td><td>0.6821705</td><td>0.6589147</td><td>0.7054264</td><td>0.6976744</td><td>0.7209302</td><td>0.6825397</td><td>0.7131783</td><td>...      </td><td>0.7054264</td><td>0.6821705</td><td>0.6356589</td><td>0.7519380</td><td>0.7142857</td><td>0.6991150</td><td>0.6355932</td><td>0.6124031</td><td>0.6511628</td><td>0.5891473</td></tr>\n",
       "\t<tr><th scope=row>MOFA_10</th><td>0.7375000</td><td>0.7151515</td><td>0.7261905</td><td>0.7023810</td><td>0.6826347</td><td>0.7364865</td><td>0.7697842</td><td>0.7671233</td><td>0.8333333</td><td>0.7380952</td><td>...      </td><td>0.7483871</td><td>0.7500000</td><td>0.7046980</td><td>0.7467532</td><td>0.8392857</td><td>0.7256637</td><td>0.7288136</td><td>0.7037037</td><td>0.6329114</td><td>0.6736111</td></tr>\n",
       "\t<tr><th scope=row>MOFA_15</th><td>0.7000000</td><td>0.7317073</td><td>0.7134146</td><td>0.7073171</td><td>0.6890244</td><td>0.7229730</td><td>0.7194245</td><td>0.7260274</td><td>0.7857143</td><td>0.7560976</td><td>...      </td><td>0.7354839</td><td>0.6973684</td><td>0.7248322</td><td>0.7467532</td><td>0.8392857</td><td>0.7168142</td><td>0.7203390</td><td>0.7037037</td><td>0.6329114</td><td>0.6388889</td></tr>\n",
       "\t<tr><th scope=row>MOFA_20</th><td>0.7500000</td><td>0.7515152</td><td>0.7515152</td><td>0.7333333</td><td>0.6787879</td><td>0.7297297</td><td>0.7482014</td><td>0.7465753</td><td>0.7777778</td><td>0.7575758</td><td>...      </td><td>0.7096774</td><td>0.7368421</td><td>0.7181208</td><td>0.7402597</td><td>0.8839286</td><td>0.7522124</td><td>0.7372881</td><td>0.7259259</td><td>0.6835443</td><td>0.6875000</td></tr>\n",
       "\t<tr><th scope=row>MOFA_25</th><td>0.6948052</td><td>0.7662338</td><td>0.7402597</td><td>0.7077922</td><td>0.7012987</td><td>0.6959459</td><td>0.7122302</td><td>0.6643836</td><td>0.7460317</td><td>0.7597403</td><td>...      </td><td>0.6558442</td><td>0.7236842</td><td>0.7114094</td><td>0.7207792</td><td>0.8035714</td><td>0.6991150</td><td>0.6610169</td><td>0.7037037</td><td>0.6298701</td><td>0.6319444</td></tr>\n",
       "\t<tr><th scope=row>MOFA-ns_5</th><td>0.7225806</td><td>0.7225806</td><td>0.7483871</td><td>0.6903226</td><td>0.6838710</td><td>0.7027027</td><td>0.7482014</td><td>0.7465753</td><td>0.7857143</td><td>0.7612903</td><td>...      </td><td>1.0000000</td><td>0.7763158</td><td>0.7986577</td><td>0.7857143</td><td>0.8660714</td><td>0.7168142</td><td>0.6949153</td><td>0.6592593</td><td>0.6129032</td><td>0.6319444</td></tr>\n",
       "\t<tr><th scope=row>MOFA-ns_10</th><td>0.6907895</td><td>0.7565789</td><td>0.7434211</td><td>0.7105263</td><td>0.6644737</td><td>0.6891892</td><td>0.7194245</td><td>0.7328767</td><td>0.7698413</td><td>0.7368421</td><td>...      </td><td>0.7763158</td><td>1.0000000</td><td>0.7852349</td><td>0.8026316</td><td>0.8839286</td><td>0.7256637</td><td>0.6779661</td><td>0.6814815</td><td>0.6513158</td><td>0.6458333</td></tr>\n",
       "\t<tr><th scope=row>MOFA-ns_15</th><td>0.6778523</td><td>0.7181208</td><td>0.7046980</td><td>0.6845638</td><td>0.6510067</td><td>0.6554054</td><td>0.6618705</td><td>0.6849315</td><td>0.7142857</td><td>0.7248322</td><td>...      </td><td>0.7986577</td><td>0.7852349</td><td>1.0000000</td><td>0.8120805</td><td>0.8482143</td><td>0.7168142</td><td>0.6610169</td><td>0.6740741</td><td>0.5973154</td><td>0.5763889</td></tr>\n",
       "\t<tr><th scope=row>MOFA-ns_20</th><td>0.6948052</td><td>0.7467532</td><td>0.7402597</td><td>0.7012987</td><td>0.6818182</td><td>0.7229730</td><td>0.7266187</td><td>0.7534247</td><td>0.7777778</td><td>0.7467532</td><td>...      </td><td>0.7857143</td><td>0.8026316</td><td>0.8120805</td><td>1.0000000</td><td>0.8839286</td><td>0.7433628</td><td>0.7118644</td><td>0.7037037</td><td>0.6883117</td><td>0.6805556</td></tr>\n",
       "\t<tr><th scope=row>MOFA-ns_25</th><td>0.8035714</td><td>0.8571429</td><td>0.8482143</td><td>0.8482143</td><td>0.8214286</td><td>0.8214286</td><td>0.7767857</td><td>0.8214286</td><td>0.7767857</td><td>0.8750000</td><td>...      </td><td>0.8660714</td><td>0.8839286</td><td>0.8482143</td><td>0.8839286</td><td>1.0000000</td><td>0.6607143</td><td>0.6250000</td><td>0.6785714</td><td>0.7678571</td><td>0.6875000</td></tr>\n",
       "\t<tr><th scope=row>LDVAE_5</th><td>0.7433628</td><td>0.7699115</td><td>0.7522124</td><td>0.6902655</td><td>0.6725664</td><td>0.6902655</td><td>0.7079646</td><td>0.7168142</td><td>0.6902655</td><td>0.7345133</td><td>...      </td><td>0.7168142</td><td>0.7256637</td><td>0.7168142</td><td>0.7433628</td><td>0.6607143</td><td>1.0000000</td><td>0.7079646</td><td>0.7079646</td><td>0.7168142</td><td>0.6017699</td></tr>\n",
       "\t<tr><th scope=row>LDVAE_10</th><td>0.7457627</td><td>0.7033898</td><td>0.7457627</td><td>0.6949153</td><td>0.6864407</td><td>0.6864407</td><td>0.7033898</td><td>0.7033898</td><td>0.6610169</td><td>0.7542373</td><td>...      </td><td>0.6949153</td><td>0.6779661</td><td>0.6610169</td><td>0.7118644</td><td>0.6250000</td><td>0.7079646</td><td>1.0000000</td><td>0.7542373</td><td>0.7372881</td><td>0.6271186</td></tr>\n",
       "\t<tr><th scope=row>LDVAE_15</th><td>0.7407407</td><td>0.7481481</td><td>0.7333333</td><td>0.7333333</td><td>0.7037037</td><td>0.6296296</td><td>0.6296296</td><td>0.6222222</td><td>0.6190476</td><td>0.7407407</td><td>...      </td><td>0.6592593</td><td>0.6814815</td><td>0.6740741</td><td>0.7037037</td><td>0.6785714</td><td>0.7079646</td><td>0.7542373</td><td>1.0000000</td><td>0.7185185</td><td>0.6666667</td></tr>\n",
       "\t<tr><th scope=row>LDVAE_20</th><td>0.6202532</td><td>0.6835443</td><td>0.7278481</td><td>0.7151899</td><td>0.6835443</td><td>0.6216216</td><td>0.6474820</td><td>0.6095890</td><td>0.6746032</td><td>0.6962025</td><td>...      </td><td>0.6129032</td><td>0.6513158</td><td>0.5973154</td><td>0.6883117</td><td>0.7678571</td><td>0.7168142</td><td>0.7372881</td><td>0.7185185</td><td>1.0000000</td><td>0.7083333</td></tr>\n",
       "\t<tr><th scope=row>LDVAE_25</th><td>0.6527778</td><td>0.7222222</td><td>0.7500000</td><td>0.7152778</td><td>0.7291667</td><td>0.6111111</td><td>0.6187050</td><td>0.5902778</td><td>0.6428571</td><td>0.7013889</td><td>...      </td><td>0.6319444</td><td>0.6458333</td><td>0.5763889</td><td>0.6805556</td><td>0.6875000</td><td>0.6017699</td><td>0.6271186</td><td>0.6666667</td><td>0.7083333</td><td>1.0000000</td></tr>\n",
       "</tbody>\n",
       "</table>\n"
      ],
      "text/latex": [
       "\\begin{tabular}{r|lllllllllllllllllllllllll}\n",
       "  & PCA\\_5 & PCA\\_10 & PCA\\_15 & PCA\\_20 & PCA\\_25 & PEER\\_5 & PEER\\_10 & PEER\\_15 & PEER\\_20 & PEER\\_25 & ... & MOFA-ns\\_5 & MOFA-ns\\_10 & MOFA-ns\\_15 & MOFA-ns\\_20 & MOFA-ns\\_25 & LDVAE\\_5 & LDVAE\\_10 & LDVAE\\_15 & LDVAE\\_20 & LDVAE\\_25\\\\\n",
       "\\hline\n",
       "\tPCA\\_5 & 1.0000000 & 0.7000000 & 0.7375000 & 0.7062500 & 0.6625000 & 0.7094595 & 0.7338129 & 0.7534247 & 0.7777778 & 0.7375000 & ...       & 0.7225806 & 0.6907895 & 0.6778523 & 0.6948052 & 0.8035714 & 0.7433628 & 0.7457627 & 0.7407407 & 0.6202532 & 0.6527778\\\\\n",
       "\tPCA\\_10 & 0.7000000 & 1.0000000 & 0.7696970 & 0.7333333 & 0.7272727 & 0.7229730 & 0.7410072 & 0.7260274 & 0.8253968 & 0.7939394 & ...       & 0.7225806 & 0.7565789 & 0.7181208 & 0.7467532 & 0.8571429 & 0.7699115 & 0.7033898 & 0.7481481 & 0.6835443 & 0.7222222\\\\\n",
       "\tPCA\\_15 & 0.7375000 & 0.7696970 & 1.0000000 & 0.7828571 & 0.7964072 & 0.6824324 & 0.7338129 & 0.6986301 & 0.7698413 & 0.7540984 & ...       & 0.7483871 & 0.7434211 & 0.7046980 & 0.7402597 & 0.8482143 & 0.7522124 & 0.7457627 & 0.7333333 & 0.7278481 & 0.7500000\\\\\n",
       "\tPCA\\_20 & 0.7062500 & 0.7333333 & 0.7828571 & 1.0000000 & 0.8203593 & 0.6756757 & 0.7194245 & 0.6712329 & 0.7460317 & 0.7657143 & ...       & 0.6903226 & 0.7105263 & 0.6845638 & 0.7012987 & 0.8482143 & 0.6902655 & 0.6949153 & 0.7333333 & 0.7151899 & 0.7152778\\\\\n",
       "\tPCA\\_25 & 0.6625000 & 0.7272727 & 0.7964072 & 0.8203593 & 1.0000000 & 0.6351351 & 0.6978417 & 0.6301370 & 0.7142857 & 0.7604790 & ...       & 0.6838710 & 0.6644737 & 0.6510067 & 0.6818182 & 0.8214286 & 0.6725664 & 0.6864407 & 0.7037037 & 0.6835443 & 0.7291667\\\\\n",
       "\tPEER\\_5 & 0.7094595 & 0.7229730 & 0.6824324 & 0.6756757 & 0.6351351 & 1.0000000 & 0.8129496 & 0.7876712 & 0.8412698 & 0.7162162 & ...       & 0.7027027 & 0.6891892 & 0.6554054 & 0.7229730 & 0.8214286 & 0.6902655 & 0.6864407 & 0.6296296 & 0.6216216 & 0.6111111\\\\\n",
       "\tPEER\\_10 & 0.7338129 & 0.7410072 & 0.7338129 & 0.7194245 & 0.6978417 & 0.8129496 & 1.0000000 & 0.7769784 & 0.8412698 & 0.7482014 & ...       & 0.7482014 & 0.7194245 & 0.6618705 & 0.7266187 & 0.7767857 & 0.7079646 & 0.7033898 & 0.6296296 & 0.6474820 & 0.6187050\\\\\n",
       "\tPEER\\_15 & 0.7534247 & 0.7260274 & 0.6986301 & 0.6712329 & 0.6301370 & 0.7876712 & 0.7769784 & 1.0000000 & 0.8253968 & 0.7260274 & ...       & 0.7465753 & 0.7328767 & 0.6849315 & 0.7534247 & 0.8214286 & 0.7168142 & 0.7033898 & 0.6222222 & 0.6095890 & 0.5902778\\\\\n",
       "\tPEER\\_20 & 0.7777778 & 0.8253968 & 0.7698413 & 0.7460317 & 0.7142857 & 0.8412698 & 0.8412698 & 0.8253968 & 1.0000000 & 0.8015873 & ...       & 0.7857143 & 0.7698413 & 0.7142857 & 0.7777778 & 0.7767857 & 0.6902655 & 0.6610169 & 0.6190476 & 0.6746032 & 0.6428571\\\\\n",
       "\tPEER\\_25 & 0.7375000 & 0.7939394 & 0.7540984 & 0.7657143 & 0.7604790 & 0.7162162 & 0.7482014 & 0.7260274 & 0.8015873 & 1.0000000 & ...       & 0.7612903 & 0.7368421 & 0.7248322 & 0.7467532 & 0.8750000 & 0.7345133 & 0.7542373 & 0.7407407 & 0.6962025 & 0.7013889\\\\\n",
       "\tMOFA\\_5 & 0.7131783 & 0.7209302 & 0.7131783 & 0.6821705 & 0.6589147 & 0.7054264 & 0.6976744 & 0.7209302 & 0.6825397 & 0.7131783 & ...       & 0.7054264 & 0.6821705 & 0.6356589 & 0.7519380 & 0.7142857 & 0.6991150 & 0.6355932 & 0.6124031 & 0.6511628 & 0.5891473\\\\\n",
       "\tMOFA\\_10 & 0.7375000 & 0.7151515 & 0.7261905 & 0.7023810 & 0.6826347 & 0.7364865 & 0.7697842 & 0.7671233 & 0.8333333 & 0.7380952 & ...       & 0.7483871 & 0.7500000 & 0.7046980 & 0.7467532 & 0.8392857 & 0.7256637 & 0.7288136 & 0.7037037 & 0.6329114 & 0.6736111\\\\\n",
       "\tMOFA\\_15 & 0.7000000 & 0.7317073 & 0.7134146 & 0.7073171 & 0.6890244 & 0.7229730 & 0.7194245 & 0.7260274 & 0.7857143 & 0.7560976 & ...       & 0.7354839 & 0.6973684 & 0.7248322 & 0.7467532 & 0.8392857 & 0.7168142 & 0.7203390 & 0.7037037 & 0.6329114 & 0.6388889\\\\\n",
       "\tMOFA\\_20 & 0.7500000 & 0.7515152 & 0.7515152 & 0.7333333 & 0.6787879 & 0.7297297 & 0.7482014 & 0.7465753 & 0.7777778 & 0.7575758 & ...       & 0.7096774 & 0.7368421 & 0.7181208 & 0.7402597 & 0.8839286 & 0.7522124 & 0.7372881 & 0.7259259 & 0.6835443 & 0.6875000\\\\\n",
       "\tMOFA\\_25 & 0.6948052 & 0.7662338 & 0.7402597 & 0.7077922 & 0.7012987 & 0.6959459 & 0.7122302 & 0.6643836 & 0.7460317 & 0.7597403 & ...       & 0.6558442 & 0.7236842 & 0.7114094 & 0.7207792 & 0.8035714 & 0.6991150 & 0.6610169 & 0.7037037 & 0.6298701 & 0.6319444\\\\\n",
       "\tMOFA-ns\\_5 & 0.7225806 & 0.7225806 & 0.7483871 & 0.6903226 & 0.6838710 & 0.7027027 & 0.7482014 & 0.7465753 & 0.7857143 & 0.7612903 & ...       & 1.0000000 & 0.7763158 & 0.7986577 & 0.7857143 & 0.8660714 & 0.7168142 & 0.6949153 & 0.6592593 & 0.6129032 & 0.6319444\\\\\n",
       "\tMOFA-ns\\_10 & 0.6907895 & 0.7565789 & 0.7434211 & 0.7105263 & 0.6644737 & 0.6891892 & 0.7194245 & 0.7328767 & 0.7698413 & 0.7368421 & ...       & 0.7763158 & 1.0000000 & 0.7852349 & 0.8026316 & 0.8839286 & 0.7256637 & 0.6779661 & 0.6814815 & 0.6513158 & 0.6458333\\\\\n",
       "\tMOFA-ns\\_15 & 0.6778523 & 0.7181208 & 0.7046980 & 0.6845638 & 0.6510067 & 0.6554054 & 0.6618705 & 0.6849315 & 0.7142857 & 0.7248322 & ...       & 0.7986577 & 0.7852349 & 1.0000000 & 0.8120805 & 0.8482143 & 0.7168142 & 0.6610169 & 0.6740741 & 0.5973154 & 0.5763889\\\\\n",
       "\tMOFA-ns\\_20 & 0.6948052 & 0.7467532 & 0.7402597 & 0.7012987 & 0.6818182 & 0.7229730 & 0.7266187 & 0.7534247 & 0.7777778 & 0.7467532 & ...       & 0.7857143 & 0.8026316 & 0.8120805 & 1.0000000 & 0.8839286 & 0.7433628 & 0.7118644 & 0.7037037 & 0.6883117 & 0.6805556\\\\\n",
       "\tMOFA-ns\\_25 & 0.8035714 & 0.8571429 & 0.8482143 & 0.8482143 & 0.8214286 & 0.8214286 & 0.7767857 & 0.8214286 & 0.7767857 & 0.8750000 & ...       & 0.8660714 & 0.8839286 & 0.8482143 & 0.8839286 & 1.0000000 & 0.6607143 & 0.6250000 & 0.6785714 & 0.7678571 & 0.6875000\\\\\n",
       "\tLDVAE\\_5 & 0.7433628 & 0.7699115 & 0.7522124 & 0.6902655 & 0.6725664 & 0.6902655 & 0.7079646 & 0.7168142 & 0.6902655 & 0.7345133 & ...       & 0.7168142 & 0.7256637 & 0.7168142 & 0.7433628 & 0.6607143 & 1.0000000 & 0.7079646 & 0.7079646 & 0.7168142 & 0.6017699\\\\\n",
       "\tLDVAE\\_10 & 0.7457627 & 0.7033898 & 0.7457627 & 0.6949153 & 0.6864407 & 0.6864407 & 0.7033898 & 0.7033898 & 0.6610169 & 0.7542373 & ...       & 0.6949153 & 0.6779661 & 0.6610169 & 0.7118644 & 0.6250000 & 0.7079646 & 1.0000000 & 0.7542373 & 0.7372881 & 0.6271186\\\\\n",
       "\tLDVAE\\_15 & 0.7407407 & 0.7481481 & 0.7333333 & 0.7333333 & 0.7037037 & 0.6296296 & 0.6296296 & 0.6222222 & 0.6190476 & 0.7407407 & ...       & 0.6592593 & 0.6814815 & 0.6740741 & 0.7037037 & 0.6785714 & 0.7079646 & 0.7542373 & 1.0000000 & 0.7185185 & 0.6666667\\\\\n",
       "\tLDVAE\\_20 & 0.6202532 & 0.6835443 & 0.7278481 & 0.7151899 & 0.6835443 & 0.6216216 & 0.6474820 & 0.6095890 & 0.6746032 & 0.6962025 & ...       & 0.6129032 & 0.6513158 & 0.5973154 & 0.6883117 & 0.7678571 & 0.7168142 & 0.7372881 & 0.7185185 & 1.0000000 & 0.7083333\\\\\n",
       "\tLDVAE\\_25 & 0.6527778 & 0.7222222 & 0.7500000 & 0.7152778 & 0.7291667 & 0.6111111 & 0.6187050 & 0.5902778 & 0.6428571 & 0.7013889 & ...       & 0.6319444 & 0.6458333 & 0.5763889 & 0.6805556 & 0.6875000 & 0.6017699 & 0.6271186 & 0.6666667 & 0.7083333 & 1.0000000\\\\\n",
       "\\end{tabular}\n"
      ],
      "text/markdown": [
       "\n",
       "| <!--/--> | PCA_5 | PCA_10 | PCA_15 | PCA_20 | PCA_25 | PEER_5 | PEER_10 | PEER_15 | PEER_20 | PEER_25 | ... | MOFA-ns_5 | MOFA-ns_10 | MOFA-ns_15 | MOFA-ns_20 | MOFA-ns_25 | LDVAE_5 | LDVAE_10 | LDVAE_15 | LDVAE_20 | LDVAE_25 |\n",
       "|---|---|---|---|---|---|---|---|---|---|---|---|---|---|---|---|---|---|---|---|---|---|\n",
       "| PCA_5 | 1.0000000 | 0.7000000 | 0.7375000 | 0.7062500 | 0.6625000 | 0.7094595 | 0.7338129 | 0.7534247 | 0.7777778 | 0.7375000 | ...       | 0.7225806 | 0.6907895 | 0.6778523 | 0.6948052 | 0.8035714 | 0.7433628 | 0.7457627 | 0.7407407 | 0.6202532 | 0.6527778 |\n",
       "| PCA_10 | 0.7000000 | 1.0000000 | 0.7696970 | 0.7333333 | 0.7272727 | 0.7229730 | 0.7410072 | 0.7260274 | 0.8253968 | 0.7939394 | ...       | 0.7225806 | 0.7565789 | 0.7181208 | 0.7467532 | 0.8571429 | 0.7699115 | 0.7033898 | 0.7481481 | 0.6835443 | 0.7222222 |\n",
       "| PCA_15 | 0.7375000 | 0.7696970 | 1.0000000 | 0.7828571 | 0.7964072 | 0.6824324 | 0.7338129 | 0.6986301 | 0.7698413 | 0.7540984 | ...       | 0.7483871 | 0.7434211 | 0.7046980 | 0.7402597 | 0.8482143 | 0.7522124 | 0.7457627 | 0.7333333 | 0.7278481 | 0.7500000 |\n",
       "| PCA_20 | 0.7062500 | 0.7333333 | 0.7828571 | 1.0000000 | 0.8203593 | 0.6756757 | 0.7194245 | 0.6712329 | 0.7460317 | 0.7657143 | ...       | 0.6903226 | 0.7105263 | 0.6845638 | 0.7012987 | 0.8482143 | 0.6902655 | 0.6949153 | 0.7333333 | 0.7151899 | 0.7152778 |\n",
       "| PCA_25 | 0.6625000 | 0.7272727 | 0.7964072 | 0.8203593 | 1.0000000 | 0.6351351 | 0.6978417 | 0.6301370 | 0.7142857 | 0.7604790 | ...       | 0.6838710 | 0.6644737 | 0.6510067 | 0.6818182 | 0.8214286 | 0.6725664 | 0.6864407 | 0.7037037 | 0.6835443 | 0.7291667 |\n",
       "| PEER_5 | 0.7094595 | 0.7229730 | 0.6824324 | 0.6756757 | 0.6351351 | 1.0000000 | 0.8129496 | 0.7876712 | 0.8412698 | 0.7162162 | ...       | 0.7027027 | 0.6891892 | 0.6554054 | 0.7229730 | 0.8214286 | 0.6902655 | 0.6864407 | 0.6296296 | 0.6216216 | 0.6111111 |\n",
       "| PEER_10 | 0.7338129 | 0.7410072 | 0.7338129 | 0.7194245 | 0.6978417 | 0.8129496 | 1.0000000 | 0.7769784 | 0.8412698 | 0.7482014 | ...       | 0.7482014 | 0.7194245 | 0.6618705 | 0.7266187 | 0.7767857 | 0.7079646 | 0.7033898 | 0.6296296 | 0.6474820 | 0.6187050 |\n",
       "| PEER_15 | 0.7534247 | 0.7260274 | 0.6986301 | 0.6712329 | 0.6301370 | 0.7876712 | 0.7769784 | 1.0000000 | 0.8253968 | 0.7260274 | ...       | 0.7465753 | 0.7328767 | 0.6849315 | 0.7534247 | 0.8214286 | 0.7168142 | 0.7033898 | 0.6222222 | 0.6095890 | 0.5902778 |\n",
       "| PEER_20 | 0.7777778 | 0.8253968 | 0.7698413 | 0.7460317 | 0.7142857 | 0.8412698 | 0.8412698 | 0.8253968 | 1.0000000 | 0.8015873 | ...       | 0.7857143 | 0.7698413 | 0.7142857 | 0.7777778 | 0.7767857 | 0.6902655 | 0.6610169 | 0.6190476 | 0.6746032 | 0.6428571 |\n",
       "| PEER_25 | 0.7375000 | 0.7939394 | 0.7540984 | 0.7657143 | 0.7604790 | 0.7162162 | 0.7482014 | 0.7260274 | 0.8015873 | 1.0000000 | ...       | 0.7612903 | 0.7368421 | 0.7248322 | 0.7467532 | 0.8750000 | 0.7345133 | 0.7542373 | 0.7407407 | 0.6962025 | 0.7013889 |\n",
       "| MOFA_5 | 0.7131783 | 0.7209302 | 0.7131783 | 0.6821705 | 0.6589147 | 0.7054264 | 0.6976744 | 0.7209302 | 0.6825397 | 0.7131783 | ...       | 0.7054264 | 0.6821705 | 0.6356589 | 0.7519380 | 0.7142857 | 0.6991150 | 0.6355932 | 0.6124031 | 0.6511628 | 0.5891473 |\n",
       "| MOFA_10 | 0.7375000 | 0.7151515 | 0.7261905 | 0.7023810 | 0.6826347 | 0.7364865 | 0.7697842 | 0.7671233 | 0.8333333 | 0.7380952 | ...       | 0.7483871 | 0.7500000 | 0.7046980 | 0.7467532 | 0.8392857 | 0.7256637 | 0.7288136 | 0.7037037 | 0.6329114 | 0.6736111 |\n",
       "| MOFA_15 | 0.7000000 | 0.7317073 | 0.7134146 | 0.7073171 | 0.6890244 | 0.7229730 | 0.7194245 | 0.7260274 | 0.7857143 | 0.7560976 | ...       | 0.7354839 | 0.6973684 | 0.7248322 | 0.7467532 | 0.8392857 | 0.7168142 | 0.7203390 | 0.7037037 | 0.6329114 | 0.6388889 |\n",
       "| MOFA_20 | 0.7500000 | 0.7515152 | 0.7515152 | 0.7333333 | 0.6787879 | 0.7297297 | 0.7482014 | 0.7465753 | 0.7777778 | 0.7575758 | ...       | 0.7096774 | 0.7368421 | 0.7181208 | 0.7402597 | 0.8839286 | 0.7522124 | 0.7372881 | 0.7259259 | 0.6835443 | 0.6875000 |\n",
       "| MOFA_25 | 0.6948052 | 0.7662338 | 0.7402597 | 0.7077922 | 0.7012987 | 0.6959459 | 0.7122302 | 0.6643836 | 0.7460317 | 0.7597403 | ...       | 0.6558442 | 0.7236842 | 0.7114094 | 0.7207792 | 0.8035714 | 0.6991150 | 0.6610169 | 0.7037037 | 0.6298701 | 0.6319444 |\n",
       "| MOFA-ns_5 | 0.7225806 | 0.7225806 | 0.7483871 | 0.6903226 | 0.6838710 | 0.7027027 | 0.7482014 | 0.7465753 | 0.7857143 | 0.7612903 | ...       | 1.0000000 | 0.7763158 | 0.7986577 | 0.7857143 | 0.8660714 | 0.7168142 | 0.6949153 | 0.6592593 | 0.6129032 | 0.6319444 |\n",
       "| MOFA-ns_10 | 0.6907895 | 0.7565789 | 0.7434211 | 0.7105263 | 0.6644737 | 0.6891892 | 0.7194245 | 0.7328767 | 0.7698413 | 0.7368421 | ...       | 0.7763158 | 1.0000000 | 0.7852349 | 0.8026316 | 0.8839286 | 0.7256637 | 0.6779661 | 0.6814815 | 0.6513158 | 0.6458333 |\n",
       "| MOFA-ns_15 | 0.6778523 | 0.7181208 | 0.7046980 | 0.6845638 | 0.6510067 | 0.6554054 | 0.6618705 | 0.6849315 | 0.7142857 | 0.7248322 | ...       | 0.7986577 | 0.7852349 | 1.0000000 | 0.8120805 | 0.8482143 | 0.7168142 | 0.6610169 | 0.6740741 | 0.5973154 | 0.5763889 |\n",
       "| MOFA-ns_20 | 0.6948052 | 0.7467532 | 0.7402597 | 0.7012987 | 0.6818182 | 0.7229730 | 0.7266187 | 0.7534247 | 0.7777778 | 0.7467532 | ...       | 0.7857143 | 0.8026316 | 0.8120805 | 1.0000000 | 0.8839286 | 0.7433628 | 0.7118644 | 0.7037037 | 0.6883117 | 0.6805556 |\n",
       "| MOFA-ns_25 | 0.8035714 | 0.8571429 | 0.8482143 | 0.8482143 | 0.8214286 | 0.8214286 | 0.7767857 | 0.8214286 | 0.7767857 | 0.8750000 | ...       | 0.8660714 | 0.8839286 | 0.8482143 | 0.8839286 | 1.0000000 | 0.6607143 | 0.6250000 | 0.6785714 | 0.7678571 | 0.6875000 |\n",
       "| LDVAE_5 | 0.7433628 | 0.7699115 | 0.7522124 | 0.6902655 | 0.6725664 | 0.6902655 | 0.7079646 | 0.7168142 | 0.6902655 | 0.7345133 | ...       | 0.7168142 | 0.7256637 | 0.7168142 | 0.7433628 | 0.6607143 | 1.0000000 | 0.7079646 | 0.7079646 | 0.7168142 | 0.6017699 |\n",
       "| LDVAE_10 | 0.7457627 | 0.7033898 | 0.7457627 | 0.6949153 | 0.6864407 | 0.6864407 | 0.7033898 | 0.7033898 | 0.6610169 | 0.7542373 | ...       | 0.6949153 | 0.6779661 | 0.6610169 | 0.7118644 | 0.6250000 | 0.7079646 | 1.0000000 | 0.7542373 | 0.7372881 | 0.6271186 |\n",
       "| LDVAE_15 | 0.7407407 | 0.7481481 | 0.7333333 | 0.7333333 | 0.7037037 | 0.6296296 | 0.6296296 | 0.6222222 | 0.6190476 | 0.7407407 | ...       | 0.6592593 | 0.6814815 | 0.6740741 | 0.7037037 | 0.6785714 | 0.7079646 | 0.7542373 | 1.0000000 | 0.7185185 | 0.6666667 |\n",
       "| LDVAE_20 | 0.6202532 | 0.6835443 | 0.7278481 | 0.7151899 | 0.6835443 | 0.6216216 | 0.6474820 | 0.6095890 | 0.6746032 | 0.6962025 | ...       | 0.6129032 | 0.6513158 | 0.5973154 | 0.6883117 | 0.7678571 | 0.7168142 | 0.7372881 | 0.7185185 | 1.0000000 | 0.7083333 |\n",
       "| LDVAE_25 | 0.6527778 | 0.7222222 | 0.7500000 | 0.7152778 | 0.7291667 | 0.6111111 | 0.6187050 | 0.5902778 | 0.6428571 | 0.7013889 | ...       | 0.6319444 | 0.6458333 | 0.5763889 | 0.6805556 | 0.6875000 | 0.6017699 | 0.6271186 | 0.6666667 | 0.7083333 | 1.0000000 |\n",
       "\n"
      ],
      "text/plain": [
       "           PCA_5     PCA_10    PCA_15    PCA_20    PCA_25    PEER_5   \n",
       "PCA_5      1.0000000 0.7000000 0.7375000 0.7062500 0.6625000 0.7094595\n",
       "PCA_10     0.7000000 1.0000000 0.7696970 0.7333333 0.7272727 0.7229730\n",
       "PCA_15     0.7375000 0.7696970 1.0000000 0.7828571 0.7964072 0.6824324\n",
       "PCA_20     0.7062500 0.7333333 0.7828571 1.0000000 0.8203593 0.6756757\n",
       "PCA_25     0.6625000 0.7272727 0.7964072 0.8203593 1.0000000 0.6351351\n",
       "PEER_5     0.7094595 0.7229730 0.6824324 0.6756757 0.6351351 1.0000000\n",
       "PEER_10    0.7338129 0.7410072 0.7338129 0.7194245 0.6978417 0.8129496\n",
       "PEER_15    0.7534247 0.7260274 0.6986301 0.6712329 0.6301370 0.7876712\n",
       "PEER_20    0.7777778 0.8253968 0.7698413 0.7460317 0.7142857 0.8412698\n",
       "PEER_25    0.7375000 0.7939394 0.7540984 0.7657143 0.7604790 0.7162162\n",
       "MOFA_5     0.7131783 0.7209302 0.7131783 0.6821705 0.6589147 0.7054264\n",
       "MOFA_10    0.7375000 0.7151515 0.7261905 0.7023810 0.6826347 0.7364865\n",
       "MOFA_15    0.7000000 0.7317073 0.7134146 0.7073171 0.6890244 0.7229730\n",
       "MOFA_20    0.7500000 0.7515152 0.7515152 0.7333333 0.6787879 0.7297297\n",
       "MOFA_25    0.6948052 0.7662338 0.7402597 0.7077922 0.7012987 0.6959459\n",
       "MOFA-ns_5  0.7225806 0.7225806 0.7483871 0.6903226 0.6838710 0.7027027\n",
       "MOFA-ns_10 0.6907895 0.7565789 0.7434211 0.7105263 0.6644737 0.6891892\n",
       "MOFA-ns_15 0.6778523 0.7181208 0.7046980 0.6845638 0.6510067 0.6554054\n",
       "MOFA-ns_20 0.6948052 0.7467532 0.7402597 0.7012987 0.6818182 0.7229730\n",
       "MOFA-ns_25 0.8035714 0.8571429 0.8482143 0.8482143 0.8214286 0.8214286\n",
       "LDVAE_5    0.7433628 0.7699115 0.7522124 0.6902655 0.6725664 0.6902655\n",
       "LDVAE_10   0.7457627 0.7033898 0.7457627 0.6949153 0.6864407 0.6864407\n",
       "LDVAE_15   0.7407407 0.7481481 0.7333333 0.7333333 0.7037037 0.6296296\n",
       "LDVAE_20   0.6202532 0.6835443 0.7278481 0.7151899 0.6835443 0.6216216\n",
       "LDVAE_25   0.6527778 0.7222222 0.7500000 0.7152778 0.7291667 0.6111111\n",
       "           PEER_10   PEER_15   PEER_20   PEER_25   ... MOFA-ns_5 MOFA-ns_10\n",
       "PCA_5      0.7338129 0.7534247 0.7777778 0.7375000 ... 0.7225806 0.6907895 \n",
       "PCA_10     0.7410072 0.7260274 0.8253968 0.7939394 ... 0.7225806 0.7565789 \n",
       "PCA_15     0.7338129 0.6986301 0.7698413 0.7540984 ... 0.7483871 0.7434211 \n",
       "PCA_20     0.7194245 0.6712329 0.7460317 0.7657143 ... 0.6903226 0.7105263 \n",
       "PCA_25     0.6978417 0.6301370 0.7142857 0.7604790 ... 0.6838710 0.6644737 \n",
       "PEER_5     0.8129496 0.7876712 0.8412698 0.7162162 ... 0.7027027 0.6891892 \n",
       "PEER_10    1.0000000 0.7769784 0.8412698 0.7482014 ... 0.7482014 0.7194245 \n",
       "PEER_15    0.7769784 1.0000000 0.8253968 0.7260274 ... 0.7465753 0.7328767 \n",
       "PEER_20    0.8412698 0.8253968 1.0000000 0.8015873 ... 0.7857143 0.7698413 \n",
       "PEER_25    0.7482014 0.7260274 0.8015873 1.0000000 ... 0.7612903 0.7368421 \n",
       "MOFA_5     0.6976744 0.7209302 0.6825397 0.7131783 ... 0.7054264 0.6821705 \n",
       "MOFA_10    0.7697842 0.7671233 0.8333333 0.7380952 ... 0.7483871 0.7500000 \n",
       "MOFA_15    0.7194245 0.7260274 0.7857143 0.7560976 ... 0.7354839 0.6973684 \n",
       "MOFA_20    0.7482014 0.7465753 0.7777778 0.7575758 ... 0.7096774 0.7368421 \n",
       "MOFA_25    0.7122302 0.6643836 0.7460317 0.7597403 ... 0.6558442 0.7236842 \n",
       "MOFA-ns_5  0.7482014 0.7465753 0.7857143 0.7612903 ... 1.0000000 0.7763158 \n",
       "MOFA-ns_10 0.7194245 0.7328767 0.7698413 0.7368421 ... 0.7763158 1.0000000 \n",
       "MOFA-ns_15 0.6618705 0.6849315 0.7142857 0.7248322 ... 0.7986577 0.7852349 \n",
       "MOFA-ns_20 0.7266187 0.7534247 0.7777778 0.7467532 ... 0.7857143 0.8026316 \n",
       "MOFA-ns_25 0.7767857 0.8214286 0.7767857 0.8750000 ... 0.8660714 0.8839286 \n",
       "LDVAE_5    0.7079646 0.7168142 0.6902655 0.7345133 ... 0.7168142 0.7256637 \n",
       "LDVAE_10   0.7033898 0.7033898 0.6610169 0.7542373 ... 0.6949153 0.6779661 \n",
       "LDVAE_15   0.6296296 0.6222222 0.6190476 0.7407407 ... 0.6592593 0.6814815 \n",
       "LDVAE_20   0.6474820 0.6095890 0.6746032 0.6962025 ... 0.6129032 0.6513158 \n",
       "LDVAE_25   0.6187050 0.5902778 0.6428571 0.7013889 ... 0.6319444 0.6458333 \n",
       "           MOFA-ns_15 MOFA-ns_20 MOFA-ns_25 LDVAE_5   LDVAE_10  LDVAE_15 \n",
       "PCA_5      0.6778523  0.6948052  0.8035714  0.7433628 0.7457627 0.7407407\n",
       "PCA_10     0.7181208  0.7467532  0.8571429  0.7699115 0.7033898 0.7481481\n",
       "PCA_15     0.7046980  0.7402597  0.8482143  0.7522124 0.7457627 0.7333333\n",
       "PCA_20     0.6845638  0.7012987  0.8482143  0.6902655 0.6949153 0.7333333\n",
       "PCA_25     0.6510067  0.6818182  0.8214286  0.6725664 0.6864407 0.7037037\n",
       "PEER_5     0.6554054  0.7229730  0.8214286  0.6902655 0.6864407 0.6296296\n",
       "PEER_10    0.6618705  0.7266187  0.7767857  0.7079646 0.7033898 0.6296296\n",
       "PEER_15    0.6849315  0.7534247  0.8214286  0.7168142 0.7033898 0.6222222\n",
       "PEER_20    0.7142857  0.7777778  0.7767857  0.6902655 0.6610169 0.6190476\n",
       "PEER_25    0.7248322  0.7467532  0.8750000  0.7345133 0.7542373 0.7407407\n",
       "MOFA_5     0.6356589  0.7519380  0.7142857  0.6991150 0.6355932 0.6124031\n",
       "MOFA_10    0.7046980  0.7467532  0.8392857  0.7256637 0.7288136 0.7037037\n",
       "MOFA_15    0.7248322  0.7467532  0.8392857  0.7168142 0.7203390 0.7037037\n",
       "MOFA_20    0.7181208  0.7402597  0.8839286  0.7522124 0.7372881 0.7259259\n",
       "MOFA_25    0.7114094  0.7207792  0.8035714  0.6991150 0.6610169 0.7037037\n",
       "MOFA-ns_5  0.7986577  0.7857143  0.8660714  0.7168142 0.6949153 0.6592593\n",
       "MOFA-ns_10 0.7852349  0.8026316  0.8839286  0.7256637 0.6779661 0.6814815\n",
       "MOFA-ns_15 1.0000000  0.8120805  0.8482143  0.7168142 0.6610169 0.6740741\n",
       "MOFA-ns_20 0.8120805  1.0000000  0.8839286  0.7433628 0.7118644 0.7037037\n",
       "MOFA-ns_25 0.8482143  0.8839286  1.0000000  0.6607143 0.6250000 0.6785714\n",
       "LDVAE_5    0.7168142  0.7433628  0.6607143  1.0000000 0.7079646 0.7079646\n",
       "LDVAE_10   0.6610169  0.7118644  0.6250000  0.7079646 1.0000000 0.7542373\n",
       "LDVAE_15   0.6740741  0.7037037  0.6785714  0.7079646 0.7542373 1.0000000\n",
       "LDVAE_20   0.5973154  0.6883117  0.7678571  0.7168142 0.7372881 0.7185185\n",
       "LDVAE_25   0.5763889  0.6805556  0.6875000  0.6017699 0.6271186 0.6666667\n",
       "           LDVAE_20  LDVAE_25 \n",
       "PCA_5      0.6202532 0.6527778\n",
       "PCA_10     0.6835443 0.7222222\n",
       "PCA_15     0.7278481 0.7500000\n",
       "PCA_20     0.7151899 0.7152778\n",
       "PCA_25     0.6835443 0.7291667\n",
       "PEER_5     0.6216216 0.6111111\n",
       "PEER_10    0.6474820 0.6187050\n",
       "PEER_15    0.6095890 0.5902778\n",
       "PEER_20    0.6746032 0.6428571\n",
       "PEER_25    0.6962025 0.7013889\n",
       "MOFA_5     0.6511628 0.5891473\n",
       "MOFA_10    0.6329114 0.6736111\n",
       "MOFA_15    0.6329114 0.6388889\n",
       "MOFA_20    0.6835443 0.6875000\n",
       "MOFA_25    0.6298701 0.6319444\n",
       "MOFA-ns_5  0.6129032 0.6319444\n",
       "MOFA-ns_10 0.6513158 0.6458333\n",
       "MOFA-ns_15 0.5973154 0.5763889\n",
       "MOFA-ns_20 0.6883117 0.6805556\n",
       "MOFA-ns_25 0.7678571 0.6875000\n",
       "LDVAE_5    0.7168142 0.6017699\n",
       "LDVAE_10   0.7372881 0.6271186\n",
       "LDVAE_15   0.7185185 0.6666667\n",
       "LDVAE_20   1.0000000 0.7083333\n",
       "LDVAE_25   0.7083333 1.0000000"
      ]
     },
     "metadata": {},
     "output_type": "display_data"
    }
   ],
   "source": [
    "mat"
   ]
  },
  {
   "cell_type": "code",
   "execution_count": 60,
   "metadata": {},
   "outputs": [
    {
     "data": {
      "image/png": "[encoded data removed]",
      "text/plain": [
       "plot without title"
      ]
     },
     "metadata": {},
     "output_type": "display_data"
    }
   ],
   "source": [
    "options(repr.plot.width = 6, repr.plot.height = 5.5)\n",
    "Heatmap(mat, show_row_dend = F, show_column_dend = F, \n",
    "        name = \"overlap\", cluster_rows = F, cluster_columns = F,\n",
    "        col = colorRamp2(c(0.55, 1), c(\"white\", \"firebrick\")))"
   ]
  },
  {
   "cell_type": "code",
   "execution_count": null,
   "metadata": {},
   "outputs": [],
   "source": []
  }
 ],
 "metadata": {
  "kernelspec": {
   "display_name": "R",
   "language": "R",
   "name": "ir"
  },
  "language_info": {
   "codemirror_mode": "r",
   "file_extension": ".r",
   "mimetype": "text/x-r-source",
   "name": "R",
   "pygments_lexer": "r",
   "version": "3.6.1"
  }
 },
 "nbformat": 4,
 "nbformat_minor": 4
}
