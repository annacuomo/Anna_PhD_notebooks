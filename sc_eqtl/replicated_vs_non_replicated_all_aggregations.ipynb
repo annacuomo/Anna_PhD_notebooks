{
 "cells": [
  {
   "cell_type": "code",
   "execution_count": 4,
   "metadata": {},
   "outputs": [],
   "source": [
    "library(qvalue)\n",
    "library(dplyr)\n",
    "library(ggplot2)\n",
    "library(cowplot)"
   ]
  },
  {
   "cell_type": "code",
   "execution_count": 2,
   "metadata": {},
   "outputs": [
    {
     "data": {
      "text/html": [
       "12720"
      ],
      "text/latex": [
       "12720"
      ],
      "text/markdown": [
       "12720"
      ],
      "text/plain": [
       "[1] 12720"
      ]
     },
     "metadata": {},
     "output_type": "display_data"
    }
   ],
   "source": [
    "# common genes, i.e. genes tested for all aggregations\n",
    "df_common_genes = read.csv(\"/hps/nobackup/stegle/users/acuomo/all_scripts/sc_eqtl/common_genes_across_all_aggregation_methods_and_bulk.csv\")\n",
    "common_genes = as.character(df_common_genes$gene)\n",
    "length(common_genes)"
   ]
  },
  {
   "cell_type": "code",
   "execution_count": 3,
   "metadata": {},
   "outputs": [
    {
     "data": {
      "text/html": [
       "21592"
      ],
      "text/latex": [
       "21592"
      ],
      "text/markdown": [
       "21592"
      ],
      "text/plain": [
       "[1] 21592"
      ]
     },
     "metadata": {},
     "output_type": "display_data"
    },
    {
     "data": {
      "text/html": [
       "<table>\n",
       "<thead><tr><th></th><th scope=col>gene</th><th scope=col>mean</th><th scope=col>std</th><th scope=col>CV</th><th scope=col>quartile_cv</th></tr></thead>\n",
       "<tbody>\n",
       "\t<tr><th scope=row>2</th><td>ENSG00000227232</td><td>3.1805905      </td><td>3.6232403      </td><td>1.139172       </td><td>2              </td></tr>\n",
       "\t<tr><th scope=row>3</th><td>ENSG00000243485</td><td>0.2003178      </td><td>0.8649483      </td><td>4.317881       </td><td>3              </td></tr>\n",
       "</tbody>\n",
       "</table>\n"
      ],
      "text/latex": [
       "\\begin{tabular}{r|lllll}\n",
       "  & gene & mean & std & CV & quartile\\_cv\\\\\n",
       "\\hline\n",
       "\t2 & ENSG00000227232 & 3.1805905       & 3.6232403       & 1.139172        & 2              \\\\\n",
       "\t3 & ENSG00000243485 & 0.2003178       & 0.8649483       & 4.317881        & 3              \\\\\n",
       "\\end{tabular}\n"
      ],
      "text/markdown": [
       "\n",
       "| <!--/--> | gene | mean | std | CV | quartile_cv |\n",
       "|---|---|---|---|---|---|\n",
       "| 2 | ENSG00000227232 | 3.1805905       | 3.6232403       | 1.139172        | 2               |\n",
       "| 3 | ENSG00000243485 | 0.2003178       | 0.8649483       | 4.317881        | 3               |\n",
       "\n"
      ],
      "text/plain": [
       "  gene            mean      std       CV       quartile_cv\n",
       "2 ENSG00000227232 3.1805905 3.6232403 1.139172 2          \n",
       "3 ENSG00000243485 0.2003178 0.8649483 4.317881 3          "
      ]
     },
     "metadata": {},
     "output_type": "display_data"
    }
   ],
   "source": [
    "# highly variable genes (top 50% CV)\n",
    "Giordanos_selection = \"/hps/nobackup/stegle/users/galvari/data/iPSCs/singleCell/metadata/ensembl_gene/Ensembl_75_Gene_CV_quant5.txt\"\n",
    "G_file = read.csv(Giordanos_selection, sep = \"\\t\")\n",
    "nrow(G_file)\n",
    "head(G_file,2)"
   ]
  },
  {
   "cell_type": "code",
   "execution_count": 6,
   "metadata": {},
   "outputs": [],
   "source": [
    "#### load bulk results\n",
    "##### a-bulk \n",
    "bulk_folder = \"/hps/nobackup/hipsci/scratch/ComparingQtlMapping/Bulk/BulkTotal_PCA20/\""
   ]
  },
  {
   "cell_type": "code",
   "execution_count": 7,
   "metadata": {},
   "outputs": [],
   "source": [
    "# a-bulk lead SNP only\n",
    "leads_all = read.csv(paste0(bulk_folder,\"top_qtl_results_all.txt\"), sep = \"\\t\")\n",
    "leads_all = leads_all[leads_all$feature_id %in% common_genes,]\n",
    "leads_all$q_value = qvalue(leads_all$empirical_feature_p_value)$qvalues\n",
    "leads_all_sign = leads_all[leads_all$q_value < 0.05,]"
   ]
  },
  {
   "cell_type": "code",
   "execution_count": 8,
   "metadata": {},
   "outputs": [],
   "source": [
    "a_eqtls = unique(paste0(leads_all_sign$feature_id,\"-\",leads_all_sign$snp_id))"
   ]
  },
  {
   "cell_type": "code",
   "execution_count": 9,
   "metadata": {},
   "outputs": [],
   "source": [
    "#### starting with 'dr' aggregations (all results)"
   ]
  },
  {
   "cell_type": "code",
   "execution_count": 10,
   "metadata": {},
   "outputs": [
    {
     "data": {
      "text/html": [
       "<table>\n",
       "<thead><tr><th scope=col>feature_id</th><th scope=col>snp_id</th><th scope=col>p_value</th><th scope=col>beta</th><th scope=col>beta_se</th><th scope=col>empirical_feature_p_value</th><th scope=col>feature_chromosome</th><th scope=col>feature_start</th><th scope=col>feature_end</th><th scope=col>n_samples</th><th scope=col>n_e_samples</th><th scope=col>alpha_param</th><th scope=col>beta_param</th><th scope=col>snp_chromosome</th><th scope=col>snp_position</th><th scope=col>assessed_allele</th><th scope=col>call_rate</th><th scope=col>maf</th><th scope=col>hwe_p</th></tr></thead>\n",
       "<tbody>\n",
       "\t<tr><td>ENSG00000189114</td><td>19_45664218_A_G</td><td>5.062259e-11   </td><td>0.947088       </td><td>0.1441733      </td><td>6.472391e-11   </td><td>19             </td><td>45682003       </td><td>45685059       </td><td>152            </td><td>87             </td><td>0.9763453      </td><td>9.824455       </td><td>19             </td><td>45664218       </td><td>G              </td><td>1              </td><td>0.1321839      </td><td>0.3462471      </td></tr>\n",
       "\t<tr><td>ENSG00000189114</td><td>19_45665717_C_T</td><td>5.062259e-11   </td><td>0.947088       </td><td>0.1441733      </td><td>6.472391e-11   </td><td>19             </td><td>45682003       </td><td>45685059       </td><td>152            </td><td>87             </td><td>0.9763453      </td><td>9.824455       </td><td>19             </td><td>45665717       </td><td>T              </td><td>1              </td><td>0.1321839      </td><td>0.3462471      </td></tr>\n",
       "</tbody>\n",
       "</table>\n"
      ],
      "text/latex": [
       "\\begin{tabular}{r|lllllllllllllllllll}\n",
       " feature\\_id & snp\\_id & p\\_value & beta & beta\\_se & empirical\\_feature\\_p\\_value & feature\\_chromosome & feature\\_start & feature\\_end & n\\_samples & n\\_e\\_samples & alpha\\_param & beta\\_param & snp\\_chromosome & snp\\_position & assessed\\_allele & call\\_rate & maf & hwe\\_p\\\\\n",
       "\\hline\n",
       "\t ENSG00000189114       & 19\\_45664218\\_A\\_G & 5.062259e-11          & 0.947088              & 0.1441733             & 6.472391e-11          & 19                    & 45682003              & 45685059              & 152                   & 87                    & 0.9763453             & 9.824455              & 19                    & 45664218              & G                     & 1                     & 0.1321839             & 0.3462471            \\\\\n",
       "\t ENSG00000189114       & 19\\_45665717\\_C\\_T & 5.062259e-11          & 0.947088              & 0.1441733             & 6.472391e-11          & 19                    & 45682003              & 45685059              & 152                   & 87                    & 0.9763453             & 9.824455              & 19                    & 45665717              & T                     & 1                     & 0.1321839             & 0.3462471            \\\\\n",
       "\\end{tabular}\n"
      ],
      "text/markdown": [
       "\n",
       "| feature_id | snp_id | p_value | beta | beta_se | empirical_feature_p_value | feature_chromosome | feature_start | feature_end | n_samples | n_e_samples | alpha_param | beta_param | snp_chromosome | snp_position | assessed_allele | call_rate | maf | hwe_p |\n",
       "|---|---|---|---|---|---|---|---|---|---|---|---|---|---|---|---|---|---|---|\n",
       "| ENSG00000189114 | 19_45664218_A_G | 5.062259e-11    | 0.947088        | 0.1441733       | 6.472391e-11    | 19              | 45682003        | 45685059        | 152             | 87              | 0.9763453       | 9.824455        | 19              | 45664218        | G               | 1               | 0.1321839       | 0.3462471       |\n",
       "| ENSG00000189114 | 19_45665717_C_T | 5.062259e-11    | 0.947088        | 0.1441733       | 6.472391e-11    | 19              | 45682003        | 45685059        | 152             | 87              | 0.9763453       | 9.824455        | 19              | 45665717        | T               | 1               | 0.1321839       | 0.3462471       |\n",
       "\n"
      ],
      "text/plain": [
       "  feature_id      snp_id          p_value      beta     beta_se  \n",
       "1 ENSG00000189114 19_45664218_A_G 5.062259e-11 0.947088 0.1441733\n",
       "2 ENSG00000189114 19_45665717_C_T 5.062259e-11 0.947088 0.1441733\n",
       "  empirical_feature_p_value feature_chromosome feature_start feature_end\n",
       "1 6.472391e-11              19                 45682003      45685059   \n",
       "2 6.472391e-11              19                 45682003      45685059   \n",
       "  n_samples n_e_samples alpha_param beta_param snp_chromosome snp_position\n",
       "1 152       87          0.9763453   9.824455   19             45664218    \n",
       "2 152       87          0.9763453   9.824455   19             45665717    \n",
       "  assessed_allele call_rate maf       hwe_p    \n",
       "1 G               1         0.1321839 0.3462471\n",
       "2 T               1         0.1321839 0.3462471"
      ]
     },
     "metadata": {},
     "output_type": "display_data"
    }
   ],
   "source": [
    "### dr-mean\n",
    "dir0 = \"/hps/nobackup/hipsci/scratch/ComparingQtlMapping/SingleCell/PseudoBulk/mean/Run_Output_PCA20_88_log_TPM_scater_libsize_206/\"\n",
    "df0 = read.csv(paste0(dir0,\"qtl_results_all.txt\"), sep=\"\\t\")\n",
    "df0 = df0[df0$feature_id %in% common_genes,]\n",
    "head(df0,2)"
   ]
  },
  {
   "cell_type": "code",
   "execution_count": 11,
   "metadata": {},
   "outputs": [
    {
     "data": {
      "text/html": [
       "<table>\n",
       "<thead><tr><th scope=col>feature_id</th><th scope=col>snp_id</th><th scope=col>p_value</th><th scope=col>beta</th><th scope=col>beta_se</th><th scope=col>empirical_feature_p_value</th><th scope=col>feature_chromosome</th><th scope=col>feature_start</th><th scope=col>feature_end</th><th scope=col>n_samples</th><th scope=col>n_e_samples</th><th scope=col>alpha_param</th><th scope=col>beta_param</th><th scope=col>snp_chromosome</th><th scope=col>snp_position</th><th scope=col>assessed_allele</th><th scope=col>call_rate</th><th scope=col>maf</th><th scope=col>hwe_p</th></tr></thead>\n",
       "<tbody>\n",
       "\t<tr><td>ENSG00000170892</td><td>19_54697714_C_T</td><td>1.520556e-09   </td><td>-0.5497819     </td><td>0.09099081     </td><td>3.029199e-05   </td><td>19             </td><td>54693789       </td><td>54697585       </td><td>152            </td><td>87             </td><td>0.5242628      </td><td>74.25894       </td><td>19             </td><td>54697714       </td><td>T              </td><td>1              </td><td>0.2183908      </td><td>1              </td></tr>\n",
       "\t<tr><td>ENSG00000170892</td><td>19_54698976_C_T</td><td>1.520556e-09   </td><td>-0.5497819     </td><td>0.09099081     </td><td>3.029199e-05   </td><td>19             </td><td>54693789       </td><td>54697585       </td><td>152            </td><td>87             </td><td>0.5242628      </td><td>74.25894       </td><td>19             </td><td>54698976       </td><td>T              </td><td>1              </td><td>0.2183908      </td><td>1              </td></tr>\n",
       "</tbody>\n",
       "</table>\n"
      ],
      "text/latex": [
       "\\begin{tabular}{r|lllllllllllllllllll}\n",
       " feature\\_id & snp\\_id & p\\_value & beta & beta\\_se & empirical\\_feature\\_p\\_value & feature\\_chromosome & feature\\_start & feature\\_end & n\\_samples & n\\_e\\_samples & alpha\\_param & beta\\_param & snp\\_chromosome & snp\\_position & assessed\\_allele & call\\_rate & maf & hwe\\_p\\\\\n",
       "\\hline\n",
       "\t ENSG00000170892       & 19\\_54697714\\_C\\_T & 1.520556e-09          & -0.5497819            & 0.09099081            & 3.029199e-05          & 19                    & 54693789              & 54697585              & 152                   & 87                    & 0.5242628             & 74.25894              & 19                    & 54697714              & T                     & 1                     & 0.2183908             & 1                    \\\\\n",
       "\t ENSG00000170892       & 19\\_54698976\\_C\\_T & 1.520556e-09          & -0.5497819            & 0.09099081            & 3.029199e-05          & 19                    & 54693789              & 54697585              & 152                   & 87                    & 0.5242628             & 74.25894              & 19                    & 54698976              & T                     & 1                     & 0.2183908             & 1                    \\\\\n",
       "\\end{tabular}\n"
      ],
      "text/markdown": [
       "\n",
       "| feature_id | snp_id | p_value | beta | beta_se | empirical_feature_p_value | feature_chromosome | feature_start | feature_end | n_samples | n_e_samples | alpha_param | beta_param | snp_chromosome | snp_position | assessed_allele | call_rate | maf | hwe_p |\n",
       "|---|---|---|---|---|---|---|---|---|---|---|---|---|---|---|---|---|---|---|\n",
       "| ENSG00000170892 | 19_54697714_C_T | 1.520556e-09    | -0.5497819      | 0.09099081      | 3.029199e-05    | 19              | 54693789        | 54697585        | 152             | 87              | 0.5242628       | 74.25894        | 19              | 54697714        | T               | 1               | 0.2183908       | 1               |\n",
       "| ENSG00000170892 | 19_54698976_C_T | 1.520556e-09    | -0.5497819      | 0.09099081      | 3.029199e-05    | 19              | 54693789        | 54697585        | 152             | 87              | 0.5242628       | 74.25894        | 19              | 54698976        | T               | 1               | 0.2183908       | 1               |\n",
       "\n"
      ],
      "text/plain": [
       "  feature_id      snp_id          p_value      beta       beta_se   \n",
       "1 ENSG00000170892 19_54697714_C_T 1.520556e-09 -0.5497819 0.09099081\n",
       "2 ENSG00000170892 19_54698976_C_T 1.520556e-09 -0.5497819 0.09099081\n",
       "  empirical_feature_p_value feature_chromosome feature_start feature_end\n",
       "1 3.029199e-05              19                 54693789      54697585   \n",
       "2 3.029199e-05              19                 54693789      54697585   \n",
       "  n_samples n_e_samples alpha_param beta_param snp_chromosome snp_position\n",
       "1 152       87          0.5242628   74.25894   19             54697714    \n",
       "2 152       87          0.5242628   74.25894   19             54698976    \n",
       "  assessed_allele call_rate maf       hwe_p\n",
       "1 T               1         0.2183908 1    \n",
       "2 T               1         0.2183908 1    "
      ]
     },
     "metadata": {},
     "output_type": "display_data"
    }
   ],
   "source": [
    "### dr-median\n",
    "dir1 = \"/hps/nobackup/hipsci/scratch/ComparingQtlMapping/SingleCell/PseudoBulk/median/Run_Output_PCA20_88_log_TPM_scater_libsize_206/\"\n",
    "df1 = read.csv(paste0(dir1,\"qtl_results_all.txt\"), sep=\"\\t\")\n",
    "df1 = df1[df0$feature_id %in% common_genes,]\n",
    "head(df1,2)"
   ]
  },
  {
   "cell_type": "code",
   "execution_count": 12,
   "metadata": {},
   "outputs": [
    {
     "data": {
      "text/html": [
       "<table>\n",
       "<thead><tr><th scope=col>feature_id</th><th scope=col>snp_id</th><th scope=col>p_value</th><th scope=col>beta</th><th scope=col>beta_se</th><th scope=col>empirical_feature_p_value</th><th scope=col>feature_chromosome</th><th scope=col>feature_start</th><th scope=col>feature_end</th><th scope=col>n_samples</th><th scope=col>n_e_samples</th><th scope=col>alpha_param</th><th scope=col>beta_param</th><th scope=col>snp_chromosome</th><th scope=col>snp_position</th><th scope=col>assessed_allele</th><th scope=col>call_rate</th><th scope=col>maf</th><th scope=col>hwe_p</th></tr></thead>\n",
       "<tbody>\n",
       "\t<tr><td>ENSG00000170892</td><td>19_54695163_T_C</td><td>7.804269e-15   </td><td>-0.6292789     </td><td>0.08098079     </td><td>1.883289e-09   </td><td>19             </td><td>54693789       </td><td>54697585       </td><td>153            </td><td>153            </td><td>0.5916038      </td><td>38.35838       </td><td>19             </td><td>54695163       </td><td>C              </td><td>1              </td><td>0.2222222      </td><td>1              </td></tr>\n",
       "\t<tr><td>ENSG00000170892</td><td>19_54696488_T_C</td><td>7.804269e-15   </td><td>-0.6292789     </td><td>0.08098079     </td><td>1.883289e-09   </td><td>19             </td><td>54693789       </td><td>54697585       </td><td>153            </td><td>153            </td><td>0.5916038      </td><td>38.35838       </td><td>19             </td><td>54696488       </td><td>C              </td><td>1              </td><td>0.2222222      </td><td>1              </td></tr>\n",
       "</tbody>\n",
       "</table>\n"
      ],
      "text/latex": [
       "\\begin{tabular}{r|lllllllllllllllllll}\n",
       " feature\\_id & snp\\_id & p\\_value & beta & beta\\_se & empirical\\_feature\\_p\\_value & feature\\_chromosome & feature\\_start & feature\\_end & n\\_samples & n\\_e\\_samples & alpha\\_param & beta\\_param & snp\\_chromosome & snp\\_position & assessed\\_allele & call\\_rate & maf & hwe\\_p\\\\\n",
       "\\hline\n",
       "\t ENSG00000170892       & 19\\_54695163\\_T\\_C & 7.804269e-15          & -0.6292789            & 0.08098079            & 1.883289e-09          & 19                    & 54693789              & 54697585              & 153                   & 153                   & 0.5916038             & 38.35838              & 19                    & 54695163              & C                     & 1                     & 0.2222222             & 1                    \\\\\n",
       "\t ENSG00000170892       & 19\\_54696488\\_T\\_C & 7.804269e-15          & -0.6292789            & 0.08098079            & 1.883289e-09          & 19                    & 54693789              & 54697585              & 153                   & 153                   & 0.5916038             & 38.35838              & 19                    & 54696488              & C                     & 1                     & 0.2222222             & 1                    \\\\\n",
       "\\end{tabular}\n"
      ],
      "text/markdown": [
       "\n",
       "| feature_id | snp_id | p_value | beta | beta_se | empirical_feature_p_value | feature_chromosome | feature_start | feature_end | n_samples | n_e_samples | alpha_param | beta_param | snp_chromosome | snp_position | assessed_allele | call_rate | maf | hwe_p |\n",
       "|---|---|---|---|---|---|---|---|---|---|---|---|---|---|---|---|---|---|---|\n",
       "| ENSG00000170892 | 19_54695163_T_C | 7.804269e-15    | -0.6292789      | 0.08098079      | 1.883289e-09    | 19              | 54693789        | 54697585        | 153             | 153             | 0.5916038       | 38.35838        | 19              | 54695163        | C               | 1               | 0.2222222       | 1               |\n",
       "| ENSG00000170892 | 19_54696488_T_C | 7.804269e-15    | -0.6292789      | 0.08098079      | 1.883289e-09    | 19              | 54693789        | 54697585        | 153             | 153             | 0.5916038       | 38.35838        | 19              | 54696488        | C               | 1               | 0.2222222       | 1               |\n",
       "\n"
      ],
      "text/plain": [
       "  feature_id      snp_id          p_value      beta       beta_se   \n",
       "1 ENSG00000170892 19_54695163_T_C 7.804269e-15 -0.6292789 0.08098079\n",
       "2 ENSG00000170892 19_54696488_T_C 7.804269e-15 -0.6292789 0.08098079\n",
       "  empirical_feature_p_value feature_chromosome feature_start feature_end\n",
       "1 1.883289e-09              19                 54693789      54697585   \n",
       "2 1.883289e-09              19                 54693789      54697585   \n",
       "  n_samples n_e_samples alpha_param beta_param snp_chromosome snp_position\n",
       "1 153       153         0.5916038   38.35838   19             54695163    \n",
       "2 153       153         0.5916038   38.35838   19             54696488    \n",
       "  assessed_allele call_rate maf       hwe_p\n",
       "1 C               1         0.2222222 1    \n",
       "2 C               1         0.2222222 1    "
      ]
     },
     "metadata": {},
     "output_type": "display_data"
    }
   ],
   "source": [
    "### dr-sum\n",
    "dir2 = \"/hps/nobackup/hipsci/scratch/ComparingQtlMapping/SingleCell/PseudoBulk/sum/Run_Output_PCA20_88_log_TPM_edgeR_libsize_206/\"\n",
    "df2 = read.csv(paste0(dir2,\"qtl_results_all.txt\"), sep=\"\\t\")\n",
    "df2 = df2[df2$feature_id %in% common_genes,]\n",
    "head(df2,2)"
   ]
  },
  {
   "cell_type": "code",
   "execution_count": null,
   "metadata": {},
   "outputs": [],
   "source": []
  },
  {
   "cell_type": "code",
   "execution_count": 13,
   "metadata": {},
   "outputs": [],
   "source": [
    "# then assess replication of bulk eQTL in single-cell aggregation results"
   ]
  },
  {
   "cell_type": "code",
   "execution_count": 14,
   "metadata": {},
   "outputs": [],
   "source": [
    "# significant a-bulk replicated in sc-eqtl (dr-mean)\n",
    "df0_bulk = inner_join(df0, leads_all_sign, by = c(\"snp_id\",\"feature_id\"), suffix = c(\".sc\",\".bulk\"))\n",
    "df0_bulk_repl = df0_bulk[(df0_bulk$p_value.sc < 0.05 & \n",
    "         (df0_bulk$beta.sc*df0_bulk$beta.bulk)>0),]\n",
    "a_eqtls_mean = unique(paste0(df0_bulk_repl$feature_id,\"-\",df0_bulk_repl$snp_id))"
   ]
  },
  {
   "cell_type": "code",
   "execution_count": 15,
   "metadata": {},
   "outputs": [
    {
     "data": {
      "text/html": [
       "3004"
      ],
      "text/latex": [
       "3004"
      ],
      "text/markdown": [
       "3004"
      ],
      "text/plain": [
       "[1] 3004"
      ]
     },
     "metadata": {},
     "output_type": "display_data"
    }
   ],
   "source": [
    "length(a_eqtls_mean)"
   ]
  },
  {
   "cell_type": "code",
   "execution_count": 16,
   "metadata": {},
   "outputs": [],
   "source": [
    "# significant a-bulk replicated in sc-eqtl (dr-median)\n",
    "df1_bulk = inner_join(df1, leads_all_sign, by = c(\"snp_id\",\"feature_id\"), suffix = c(\".sc\",\".bulk\"))\n",
    "df1_bulk_repl = df1_bulk[(df1_bulk$p_value.sc < 0.05 & \n",
    "         (df1_bulk$beta.sc*df1_bulk$beta.bulk)>0),]\n",
    "a_eqtls_median = unique(paste0(df1_bulk_repl$feature_id,\"-\",df1_bulk_repl$snp_id))"
   ]
  },
  {
   "cell_type": "code",
   "execution_count": 17,
   "metadata": {},
   "outputs": [
    {
     "data": {
      "text/html": [
       "2384"
      ],
      "text/latex": [
       "2384"
      ],
      "text/markdown": [
       "2384"
      ],
      "text/plain": [
       "[1] 2384"
      ]
     },
     "metadata": {},
     "output_type": "display_data"
    }
   ],
   "source": [
    "length(a_eqtls_median)"
   ]
  },
  {
   "cell_type": "code",
   "execution_count": 18,
   "metadata": {},
   "outputs": [],
   "source": [
    "# significant a-bulk replicated in sc-eqtl (dr-sum)\n",
    "df2_bulk = inner_join(df2, leads_all_sign, by = c(\"snp_id\",\"feature_id\"), suffix = c(\".sc\",\".bulk\"))\n",
    "df2_bulk_repl = df2_bulk[(df2_bulk$p_value.sc < 0.05 & \n",
    "         (df2_bulk$beta.sc*df2_bulk$beta.bulk)>0),]\n",
    "a_eqtls_sum = unique(paste0(df2_bulk_repl$feature_id,\"-\",df2_bulk_repl$snp_id))"
   ]
  },
  {
   "cell_type": "code",
   "execution_count": 19,
   "metadata": {},
   "outputs": [
    {
     "data": {
      "text/html": [
       "2894"
      ],
      "text/latex": [
       "2894"
      ],
      "text/markdown": [
       "2894"
      ],
      "text/plain": [
       "[1] 2894"
      ]
     },
     "metadata": {},
     "output_type": "display_data"
    }
   ],
   "source": [
    "length(a_eqtls_sum)"
   ]
  },
  {
   "cell_type": "code",
   "execution_count": 20,
   "metadata": {},
   "outputs": [],
   "source": [
    "# next, define the different catagories:\n",
    "# 1. bulk eQTL replicated in all three (dr-mean, dr-median and dr-sum)"
   ]
  },
  {
   "cell_type": "code",
   "execution_count": 21,
   "metadata": {},
   "outputs": [
    {
     "data": {
      "text/html": [
       "1804"
      ],
      "text/latex": [
       "1804"
      ],
      "text/markdown": [
       "1804"
      ],
      "text/plain": [
       "[1] 1804"
      ]
     },
     "metadata": {},
     "output_type": "display_data"
    }
   ],
   "source": [
    "eqtls1 = a_eqtls_mean[(a_eqtls_mean %in% a_eqtls_median) & (a_eqtls_mean %in% a_eqtls_sum)]\n",
    "length(eqtls1)"
   ]
  },
  {
   "cell_type": "code",
   "execution_count": 22,
   "metadata": {},
   "outputs": [],
   "source": [
    "# 2. bulk eQTL replicated in dr-mean, dr-median but NOT dr-sum\n",
    "# 3. bulk eQTL replicated in dr-mean, dr-sum but NOT dr-median\n",
    "# 4. bulk eQTL replicated in dr-median, dr-sum but NOT dr-mean"
   ]
  },
  {
   "cell_type": "code",
   "execution_count": 23,
   "metadata": {},
   "outputs": [],
   "source": [
    "eqtls2 = a_eqtls_mean[(a_eqtls_mean %in% a_eqtls_median) & !(a_eqtls_mean %in% a_eqtls_sum)]\n",
    "eqtls3 = a_eqtls_mean[!(a_eqtls_mean %in% a_eqtls_median) & (a_eqtls_mean %in% a_eqtls_sum)]\n",
    "eqtls4 = a_eqtls_median[!(a_eqtls_median %in% a_eqtls_mean) & (a_eqtls_median %in% a_eqtls_sum)]"
   ]
  },
  {
   "cell_type": "code",
   "execution_count": 24,
   "metadata": {},
   "outputs": [
    {
     "data": {
      "text/html": [
       "272"
      ],
      "text/latex": [
       "272"
      ],
      "text/markdown": [
       "272"
      ],
      "text/plain": [
       "[1] 272"
      ]
     },
     "metadata": {},
     "output_type": "display_data"
    },
    {
     "data": {
      "text/html": [
       "569"
      ],
      "text/latex": [
       "569"
      ],
      "text/markdown": [
       "569"
      ],
      "text/plain": [
       "[1] 569"
      ]
     },
     "metadata": {},
     "output_type": "display_data"
    },
    {
     "data": {
      "text/html": [
       "88"
      ],
      "text/latex": [
       "88"
      ],
      "text/markdown": [
       "88"
      ],
      "text/plain": [
       "[1] 88"
      ]
     },
     "metadata": {},
     "output_type": "display_data"
    }
   ],
   "source": [
    "length(eqtls2)\n",
    "length(eqtls3)\n",
    "length(eqtls4)"
   ]
  },
  {
   "cell_type": "code",
   "execution_count": 25,
   "metadata": {},
   "outputs": [],
   "source": [
    "# 5. bulk eQTL replicated ONLY in dr-mean\n",
    "# 6. bulk eQTL replicated ONLY in dr-median\n",
    "# 7. bulk eQTL replicated ONLY in dr-sum"
   ]
  },
  {
   "cell_type": "code",
   "execution_count": 26,
   "metadata": {},
   "outputs": [],
   "source": [
    "eqtls5 = a_eqtls_mean[!(a_eqtls_mean %in% a_eqtls_median) & !(a_eqtls_mean %in% a_eqtls_sum)]\n",
    "eqtls6 = a_eqtls_median[!(a_eqtls_median %in% a_eqtls_mean) & !(a_eqtls_median %in% a_eqtls_sum)]\n",
    "eqtls7 = a_eqtls_sum[!(a_eqtls_sum %in% a_eqtls_mean) & !(a_eqtls_sum %in% a_eqtls_median)]"
   ]
  },
  {
   "cell_type": "code",
   "execution_count": 27,
   "metadata": {},
   "outputs": [
    {
     "data": {
      "text/html": [
       "359"
      ],
      "text/latex": [
       "359"
      ],
      "text/markdown": [
       "359"
      ],
      "text/plain": [
       "[1] 359"
      ]
     },
     "metadata": {},
     "output_type": "display_data"
    },
    {
     "data": {
      "text/html": [
       "220"
      ],
      "text/latex": [
       "220"
      ],
      "text/markdown": [
       "220"
      ],
      "text/plain": [
       "[1] 220"
      ]
     },
     "metadata": {},
     "output_type": "display_data"
    },
    {
     "data": {
      "text/html": [
       "433"
      ],
      "text/latex": [
       "433"
      ],
      "text/markdown": [
       "433"
      ],
      "text/plain": [
       "[1] 433"
      ]
     },
     "metadata": {},
     "output_type": "display_data"
    }
   ],
   "source": [
    "length(eqtls5)\n",
    "length(eqtls6)\n",
    "length(eqtls7)"
   ]
  },
  {
   "cell_type": "code",
   "execution_count": 28,
   "metadata": {},
   "outputs": [],
   "source": [
    "# 8. bulk eQTL replicated in none of the three"
   ]
  },
  {
   "cell_type": "code",
   "execution_count": 29,
   "metadata": {},
   "outputs": [
    {
     "data": {
      "text/html": [
       "5984"
      ],
      "text/latex": [
       "5984"
      ],
      "text/markdown": [
       "5984"
      ],
      "text/plain": [
       "[1] 5984"
      ]
     },
     "metadata": {},
     "output_type": "display_data"
    }
   ],
   "source": [
    "eqtls8 = a_eqtls[!(a_eqtls %in% a_eqtls_mean) & !(a_eqtls %in% a_eqtls_median) & !(a_eqtls %in% a_eqtls_sum)]\n",
    "length(eqtls8)"
   ]
  },
  {
   "cell_type": "code",
   "execution_count": 30,
   "metadata": {},
   "outputs": [],
   "source": [
    "### Collect stats"
   ]
  },
  {
   "cell_type": "code",
   "execution_count": 31,
   "metadata": {},
   "outputs": [
    {
     "data": {
      "text/html": [
       "9765"
      ],
      "text/latex": [
       "9765"
      ],
      "text/markdown": [
       "9765"
      ],
      "text/plain": [
       "[1] 9765"
      ]
     },
     "metadata": {},
     "output_type": "display_data"
    },
    {
     "data": {
      "text/html": [
       "<table>\n",
       "<thead><tr><th scope=col>feature_id</th><th scope=col>snp_id</th><th scope=col>eqtl</th><th scope=col>beta</th><th scope=col>q_value</th></tr></thead>\n",
       "<tbody>\n",
       "\t<tr><td>ENSG00000088038                </td><td>19_54639868_G_A                </td><td>ENSG00000088038-19_54639868_G_A</td><td>-0.1542810                     </td><td>0.0001765690                   </td></tr>\n",
       "\t<tr><td>ENSG00000105605                </td><td>19_54333563_C_A                </td><td>ENSG00000105605-19_54333563_C_A</td><td>-0.1645107                     </td><td>0.0005959162                   </td></tr>\n",
       "</tbody>\n",
       "</table>\n"
      ],
      "text/latex": [
       "\\begin{tabular}{r|lllll}\n",
       " feature\\_id & snp\\_id & eqtl & beta & q\\_value\\\\\n",
       "\\hline\n",
       "\t ENSG00000088038                       & 19\\_54639868\\_G\\_A                 & ENSG00000088038-19\\_54639868\\_G\\_A & -0.1542810                            & 0.0001765690                         \\\\\n",
       "\t ENSG00000105605                       & 19\\_54333563\\_C\\_A                 & ENSG00000105605-19\\_54333563\\_C\\_A & -0.1645107                            & 0.0005959162                         \\\\\n",
       "\\end{tabular}\n"
      ],
      "text/markdown": [
       "\n",
       "| feature_id | snp_id | eqtl | beta | q_value |\n",
       "|---|---|---|---|---|\n",
       "| ENSG00000088038                 | 19_54639868_G_A                 | ENSG00000088038-19_54639868_G_A | -0.1542810                      | 0.0001765690                    |\n",
       "| ENSG00000105605                 | 19_54333563_C_A                 | ENSG00000105605-19_54333563_C_A | -0.1645107                      | 0.0005959162                    |\n",
       "\n"
      ],
      "text/plain": [
       "  feature_id      snp_id          eqtl                            beta      \n",
       "1 ENSG00000088038 19_54639868_G_A ENSG00000088038-19_54639868_G_A -0.1542810\n",
       "2 ENSG00000105605 19_54333563_C_A ENSG00000105605-19_54333563_C_A -0.1645107\n",
       "  q_value     \n",
       "1 0.0001765690\n",
       "2 0.0005959162"
      ]
     },
     "metadata": {},
     "output_type": "display_data"
    }
   ],
   "source": [
    "df = leads_all_sign\n",
    "df$eqtl = paste0(df$feature_id,\"-\",df$snp_id)\n",
    "df_to_plot = df[df$eqtl %in% a_eqtls, c(\"feature_id\",\"snp_id\",\"eqtl\",\"beta\",\"q_value\")]\n",
    "nrow(df_to_plot)\n",
    "head(df_to_plot,2)"
   ]
  },
  {
   "cell_type": "code",
   "execution_count": 32,
   "metadata": {},
   "outputs": [
    {
     "data": {
      "text/html": [
       "<table>\n",
       "<thead><tr><th></th><th scope=col>feature_id</th><th scope=col>snp_id</th><th scope=col>eqtl</th><th scope=col>beta</th><th scope=col>q_value</th><th scope=col>category</th></tr></thead>\n",
       "<tbody>\n",
       "\t<tr><th scope=row>49831</th><td>ENSG00000163605               </td><td>3_73135255_G_T                </td><td>ENSG00000163605-3_73135255_G_T</td><td>-0.1560466                    </td><td>5.729286e-06                  </td><td>none                          </td></tr>\n",
       "\t<tr><th scope=row>49832</th><td>ENSG00000169855               </td><td>3_79376628_C_T                </td><td>ENSG00000169855-3_79376628_C_T</td><td> 0.1619283                    </td><td>2.122487e-04                  </td><td>none                          </td></tr>\n",
       "\t<tr><th scope=row>49852</th><td>ENSG00000227124               </td><td>3_75823968_C_T                </td><td>ENSG00000227124-3_75823968_C_T</td><td> 1.0307137                    </td><td>5.117737e-54                  </td><td>all                           </td></tr>\n",
       "\t<tr><th scope=row>49881</th><td>ENSG00000242516               </td><td>3_75726925_C_A                </td><td>ENSG00000242516-3_75726925_C_A</td><td>-0.9191919                    </td><td>1.918925e-99                  </td><td>all                           </td></tr>\n",
       "\t<tr><th scope=row>49889</th><td>ENSG00000242960               </td><td>3_73071031_G_A                </td><td>ENSG00000242960-3_73071031_G_A</td><td>-0.1111896                    </td><td>1.393913e-02                  </td><td>none                          </td></tr>\n",
       "\t<tr><th scope=row>49897</th><td>ENSG00000244026               </td><td>3_75487305_T_C                </td><td>ENSG00000244026-3_75487305_T_C</td><td> 0.4439374                    </td><td>1.471016e-15                  </td><td>all                           </td></tr>\n",
       "</tbody>\n",
       "</table>\n"
      ],
      "text/latex": [
       "\\begin{tabular}{r|llllll}\n",
       "  & feature\\_id & snp\\_id & eqtl & beta & q\\_value & category\\\\\n",
       "\\hline\n",
       "\t49831 & ENSG00000163605                      & 3\\_73135255\\_G\\_T                 & ENSG00000163605-3\\_73135255\\_G\\_T & -0.1560466                           & 5.729286e-06                         & none                                \\\\\n",
       "\t49832 & ENSG00000169855                      & 3\\_79376628\\_C\\_T                 & ENSG00000169855-3\\_79376628\\_C\\_T &  0.1619283                           & 2.122487e-04                         & none                                \\\\\n",
       "\t49852 & ENSG00000227124                      & 3\\_75823968\\_C\\_T                 & ENSG00000227124-3\\_75823968\\_C\\_T &  1.0307137                           & 5.117737e-54                         & all                                 \\\\\n",
       "\t49881 & ENSG00000242516                      & 3\\_75726925\\_C\\_A                 & ENSG00000242516-3\\_75726925\\_C\\_A & -0.9191919                           & 1.918925e-99                         & all                                 \\\\\n",
       "\t49889 & ENSG00000242960                      & 3\\_73071031\\_G\\_A                 & ENSG00000242960-3\\_73071031\\_G\\_A & -0.1111896                           & 1.393913e-02                         & none                                \\\\\n",
       "\t49897 & ENSG00000244026                      & 3\\_75487305\\_T\\_C                 & ENSG00000244026-3\\_75487305\\_T\\_C &  0.4439374                           & 1.471016e-15                         & all                                 \\\\\n",
       "\\end{tabular}\n"
      ],
      "text/markdown": [
       "\n",
       "| <!--/--> | feature_id | snp_id | eqtl | beta | q_value | category |\n",
       "|---|---|---|---|---|---|---|\n",
       "| 49831 | ENSG00000163605                | 3_73135255_G_T                 | ENSG00000163605-3_73135255_G_T | -0.1560466                     | 5.729286e-06                   | none                           |\n",
       "| 49832 | ENSG00000169855                | 3_79376628_C_T                 | ENSG00000169855-3_79376628_C_T |  0.1619283                     | 2.122487e-04                   | none                           |\n",
       "| 49852 | ENSG00000227124                | 3_75823968_C_T                 | ENSG00000227124-3_75823968_C_T |  1.0307137                     | 5.117737e-54                   | all                            |\n",
       "| 49881 | ENSG00000242516                | 3_75726925_C_A                 | ENSG00000242516-3_75726925_C_A | -0.9191919                     | 1.918925e-99                   | all                            |\n",
       "| 49889 | ENSG00000242960                | 3_73071031_G_A                 | ENSG00000242960-3_73071031_G_A | -0.1111896                     | 1.393913e-02                   | none                           |\n",
       "| 49897 | ENSG00000244026                | 3_75487305_T_C                 | ENSG00000244026-3_75487305_T_C |  0.4439374                     | 1.471016e-15                   | all                            |\n",
       "\n"
      ],
      "text/plain": [
       "      feature_id      snp_id         eqtl                           beta      \n",
       "49831 ENSG00000163605 3_73135255_G_T ENSG00000163605-3_73135255_G_T -0.1560466\n",
       "49832 ENSG00000169855 3_79376628_C_T ENSG00000169855-3_79376628_C_T  0.1619283\n",
       "49852 ENSG00000227124 3_75823968_C_T ENSG00000227124-3_75823968_C_T  1.0307137\n",
       "49881 ENSG00000242516 3_75726925_C_A ENSG00000242516-3_75726925_C_A -0.9191919\n",
       "49889 ENSG00000242960 3_73071031_G_A ENSG00000242960-3_73071031_G_A -0.1111896\n",
       "49897 ENSG00000244026 3_75487305_T_C ENSG00000244026-3_75487305_T_C  0.4439374\n",
       "      q_value      category\n",
       "49831 5.729286e-06 none    \n",
       "49832 2.122487e-04 none    \n",
       "49852 5.117737e-54 all     \n",
       "49881 1.918925e-99 all     \n",
       "49889 1.393913e-02 none    \n",
       "49897 1.471016e-15 all     "
      ]
     },
     "metadata": {},
     "output_type": "display_data"
    }
   ],
   "source": [
    "# define categories \n",
    "df_to_plot[df_to_plot$eqtl %in% eqtls1,\"category\"] = \"all\"\n",
    "df_to_plot[df_to_plot$eqtl %in% eqtls2,\"category\"] = \"no_sum\"\n",
    "df_to_plot[df_to_plot$eqtl %in% eqtls3,\"category\"] = \"no_median\"\n",
    "df_to_plot[df_to_plot$eqtl %in% eqtls4,\"category\"] = \"no_mean\"\n",
    "df_to_plot[df_to_plot$eqtl %in% eqtls5,\"category\"] = \"only_mean\"\n",
    "df_to_plot[df_to_plot$eqtl %in% eqtls6,\"category\"] = \"only_median\"\n",
    "df_to_plot[df_to_plot$eqtl %in% eqtls7,\"category\"] = \"only_sum\"\n",
    "df_to_plot[df_to_plot$eqtl %in% eqtls8,\"category\"] = \"none\"\n",
    "tail(df_to_plot)"
   ]
  },
  {
   "cell_type": "code",
   "execution_count": 33,
   "metadata": {},
   "outputs": [
    {
     "data": {
      "text/html": [
       "<table>\n",
       "<thead><tr><th></th><th scope=col>FractionOfZero</th><th scope=col>MeanTPM_All</th><th scope=col>MeanTPM_nonZero</th><th scope=col>VarTPM_All</th><th scope=col>VarTPM_nonZero</th></tr></thead>\n",
       "<tbody>\n",
       "\t<tr><th scope=row>ENSG00000223972</th><td>0.1919315    </td><td> 1.122548e-01</td><td> 1.389175e-01</td><td> 3.367321e-01</td><td> 4.131240e-01</td></tr>\n",
       "\t<tr><th scope=row>ENSG00000227232</th><td>0.0000000    </td><td>2.146480e+126</td><td>2.146480e+126</td><td>3.768833e+255</td><td>3.768833e+255</td></tr>\n",
       "</tbody>\n",
       "</table>\n"
      ],
      "text/latex": [
       "\\begin{tabular}{r|lllll}\n",
       "  & FractionOfZero & MeanTPM\\_All & MeanTPM\\_nonZero & VarTPM\\_All & VarTPM\\_nonZero\\\\\n",
       "\\hline\n",
       "\tENSG00000223972 & 0.1919315     &  1.122548e-01 &  1.389175e-01 &  3.367321e-01 &  4.131240e-01\\\\\n",
       "\tENSG00000227232 & 0.0000000     & 2.146480e+126 & 2.146480e+126 & 3.768833e+255 & 3.768833e+255\\\\\n",
       "\\end{tabular}\n"
      ],
      "text/markdown": [
       "\n",
       "| <!--/--> | FractionOfZero | MeanTPM_All | MeanTPM_nonZero | VarTPM_All | VarTPM_nonZero |\n",
       "|---|---|---|---|---|---|\n",
       "| ENSG00000223972 | 0.1919315     |  1.122548e-01 |  1.389175e-01 |  3.367321e-01 |  4.131240e-01 |\n",
       "| ENSG00000227232 | 0.0000000     | 2.146480e+126 | 2.146480e+126 | 3.768833e+255 | 3.768833e+255 |\n",
       "\n"
      ],
      "text/plain": [
       "                FractionOfZero MeanTPM_All   MeanTPM_nonZero VarTPM_All   \n",
       "ENSG00000223972 0.1919315       1.122548e-01  1.389175e-01    3.367321e-01\n",
       "ENSG00000227232 0.0000000      2.146480e+126 2.146480e+126   3.768833e+255\n",
       "                VarTPM_nonZero\n",
       "ENSG00000223972  4.131240e-01 \n",
       "ENSG00000227232 3.768833e+255 "
      ]
     },
     "metadata": {},
     "output_type": "display_data"
    }
   ],
   "source": [
    "### bulk stats\n",
    "ab_stats_filename = \"/hps/nobackup/stegle/users/acuomo/all_scripts/sc_eqtl/stats_HipSci_passQc.txt\"\n",
    "ab_stats = read.csv(ab_stats_filename, sep = \"\\t\", row.names = 1)\n",
    "head(ab_stats,2)"
   ]
  },
  {
   "cell_type": "code",
   "execution_count": 34,
   "metadata": {},
   "outputs": [],
   "source": [
    "ab_stats$feature_id = rownames(ab_stats)"
   ]
  },
  {
   "cell_type": "code",
   "execution_count": 35,
   "metadata": {},
   "outputs": [
    {
     "data": {
      "text/html": [
       "9765"
      ],
      "text/latex": [
       "9765"
      ],
      "text/markdown": [
       "9765"
      ],
      "text/plain": [
       "[1] 9765"
      ]
     },
     "metadata": {},
     "output_type": "display_data"
    },
    {
     "data": {
      "text/html": [
       "9765"
      ],
      "text/latex": [
       "9765"
      ],
      "text/markdown": [
       "9765"
      ],
      "text/plain": [
       "[1] 9765"
      ]
     },
     "metadata": {},
     "output_type": "display_data"
    }
   ],
   "source": [
    "nrow(df_to_plot)\n",
    "df_to_plot0 = inner_join(df_to_plot, ab_stats, by = \"feature_id\")\n",
    "nrow(df_to_plot0)"
   ]
  },
  {
   "cell_type": "code",
   "execution_count": 36,
   "metadata": {},
   "outputs": [],
   "source": [
    "df_to_plot0$category = factor(df_to_plot0$category, levels = c(\"all\", \"no_sum\", \"no_median\", \"no_mean\", \n",
    "                                                               \"only_mean\", \"only_median\",\"only_sum\",\"none\"))"
   ]
  },
  {
   "cell_type": "code",
   "execution_count": 37,
   "metadata": {},
   "outputs": [
    {
     "data": {
      "text/html": [
       "<table>\n",
       "<thead><tr><th scope=col>Ensembl.Gene.ID</th><th scope=col>Ensembl.Transcript.ID</th><th scope=col>Ensembl.Protein.ID</th><th scope=col>Chromosome.Name</th><th scope=col>Gene.Start..bp.</th><th scope=col>Gene.End..bp.</th><th scope=col>Strand</th><th scope=col>Transcript.Start..bp.</th><th scope=col>Transcript.End..bp.</th><th scope=col>X5..UTR.Start</th><th scope=col>X5..UTR.End</th><th scope=col>X3..UTR.Start</th><th scope=col>X3..UTR.End</th><th scope=col>Exon.Chr.Start..bp.</th><th scope=col>Exon.Chr.End..bp.</th><th scope=col>Constitutive.Exon</th><th scope=col>Exon.Rank.in.Transcript</th><th scope=col>Ensembl.Exon.ID</th></tr></thead>\n",
       "<tbody>\n",
       "\t<tr><td>ENSG00000261657</td><td>ENST00000566782</td><td>ENSP00000456546</td><td>HG991_PATCH    </td><td>66119285       </td><td>66465398       </td><td>1              </td><td>66119285       </td><td>66456619       </td><td>66119285       </td><td>66119659       </td><td>NA             </td><td>NA             </td><td>66119285       </td><td>66119659       </td><td>0              </td><td>1              </td><td>ENSE00002619671</td></tr>\n",
       "\t<tr><td>ENSG00000261657</td><td>ENST00000566782</td><td>ENSP00000456546</td><td>HG991_PATCH    </td><td>66119285       </td><td>66465398       </td><td>1              </td><td>66119285       </td><td>66456619       </td><td>66298434       </td><td>66298786       </td><td>NA             </td><td>NA             </td><td>66298434       </td><td>66298819       </td><td>0              </td><td>2              </td><td>ENSE00002619173</td></tr>\n",
       "</tbody>\n",
       "</table>\n"
      ],
      "text/latex": [
       "\\begin{tabular}{r|llllllllllllllllll}\n",
       " Ensembl.Gene.ID & Ensembl.Transcript.ID & Ensembl.Protein.ID & Chromosome.Name & Gene.Start..bp. & Gene.End..bp. & Strand & Transcript.Start..bp. & Transcript.End..bp. & X5..UTR.Start & X5..UTR.End & X3..UTR.Start & X3..UTR.End & Exon.Chr.Start..bp. & Exon.Chr.End..bp. & Constitutive.Exon & Exon.Rank.in.Transcript & Ensembl.Exon.ID\\\\\n",
       "\\hline\n",
       "\t ENSG00000261657 & ENST00000566782 & ENSP00000456546 & HG991\\_PATCH   & 66119285        & 66465398        & 1               & 66119285        & 66456619        & 66119285        & 66119659        & NA              & NA              & 66119285        & 66119659        & 0               & 1               & ENSE00002619671\\\\\n",
       "\t ENSG00000261657 & ENST00000566782 & ENSP00000456546 & HG991\\_PATCH   & 66119285        & 66465398        & 1               & 66119285        & 66456619        & 66298434        & 66298786        & NA              & NA              & 66298434        & 66298819        & 0               & 2               & ENSE00002619173\\\\\n",
       "\\end{tabular}\n"
      ],
      "text/markdown": [
       "\n",
       "| Ensembl.Gene.ID | Ensembl.Transcript.ID | Ensembl.Protein.ID | Chromosome.Name | Gene.Start..bp. | Gene.End..bp. | Strand | Transcript.Start..bp. | Transcript.End..bp. | X5..UTR.Start | X5..UTR.End | X3..UTR.Start | X3..UTR.End | Exon.Chr.Start..bp. | Exon.Chr.End..bp. | Constitutive.Exon | Exon.Rank.in.Transcript | Ensembl.Exon.ID |\n",
       "|---|---|---|---|---|---|---|---|---|---|---|---|---|---|---|---|---|---|\n",
       "| ENSG00000261657 | ENST00000566782 | ENSP00000456546 | HG991_PATCH     | 66119285        | 66465398        | 1               | 66119285        | 66456619        | 66119285        | 66119659        | NA              | NA              | 66119285        | 66119659        | 0               | 1               | ENSE00002619671 |\n",
       "| ENSG00000261657 | ENST00000566782 | ENSP00000456546 | HG991_PATCH     | 66119285        | 66465398        | 1               | 66119285        | 66456619        | 66298434        | 66298786        | NA              | NA              | 66298434        | 66298819        | 0               | 2               | ENSE00002619173 |\n",
       "\n"
      ],
      "text/plain": [
       "  Ensembl.Gene.ID Ensembl.Transcript.ID Ensembl.Protein.ID Chromosome.Name\n",
       "1 ENSG00000261657 ENST00000566782       ENSP00000456546    HG991_PATCH    \n",
       "2 ENSG00000261657 ENST00000566782       ENSP00000456546    HG991_PATCH    \n",
       "  Gene.Start..bp. Gene.End..bp. Strand Transcript.Start..bp.\n",
       "1 66119285        66465398      1      66119285             \n",
       "2 66119285        66465398      1      66119285             \n",
       "  Transcript.End..bp. X5..UTR.Start X5..UTR.End X3..UTR.Start X3..UTR.End\n",
       "1 66456619            66119285      66119659    NA            NA         \n",
       "2 66456619            66298434      66298786    NA            NA         \n",
       "  Exon.Chr.Start..bp. Exon.Chr.End..bp. Constitutive.Exon\n",
       "1 66119285            66119659          0                \n",
       "2 66298434            66298819          0                \n",
       "  Exon.Rank.in.Transcript Ensembl.Exon.ID\n",
       "1 1                       ENSE00002619671\n",
       "2 2                       ENSE00002619173"
      ]
     },
     "metadata": {},
     "output_type": "display_data"
    }
   ],
   "source": [
    "gene_anno_filename = \"/hps/nobackup/stegle/users/acuomo/all_scripts/Ensemble_75_Gene_Structures_Exon_Info.txt\"\n",
    "gene_anno = read.csv(gene_anno_filename, sep = \"\\t\")\n",
    "head(gene_anno,2)"
   ]
  },
  {
   "cell_type": "code",
   "execution_count": 38,
   "metadata": {},
   "outputs": [
    {
     "data": {
      "text/html": [
       "<table>\n",
       "<thead><tr><th></th><th scope=col>feature_id</th><th scope=col>feature_start</th><th scope=col>feature_end</th><th scope=col>feature_midpoint</th></tr></thead>\n",
       "<tbody>\n",
       "\t<tr><th scope=row>1</th><td>ENSG00000261657</td><td>66119285       </td><td>66465398       </td><td>66292342       </td></tr>\n",
       "\t<tr><th scope=row>48</th><td>ENSG00000223116</td><td>23551994       </td><td>23552136       </td><td>23552065       </td></tr>\n",
       "</tbody>\n",
       "</table>\n"
      ],
      "text/latex": [
       "\\begin{tabular}{r|llll}\n",
       "  & feature\\_id & feature\\_start & feature\\_end & feature\\_midpoint\\\\\n",
       "\\hline\n",
       "\t1 & ENSG00000261657 & 66119285        & 66465398        & 66292342       \\\\\n",
       "\t48 & ENSG00000223116 & 23551994        & 23552136        & 23552065       \\\\\n",
       "\\end{tabular}\n"
      ],
      "text/markdown": [
       "\n",
       "| <!--/--> | feature_id | feature_start | feature_end | feature_midpoint |\n",
       "|---|---|---|---|---|\n",
       "| 1 | ENSG00000261657 | 66119285        | 66465398        | 66292342        |\n",
       "| 48 | ENSG00000223116 | 23551994        | 23552136        | 23552065        |\n",
       "\n"
      ],
      "text/plain": [
       "   feature_id      feature_start feature_end feature_midpoint\n",
       "1  ENSG00000261657 66119285      66465398    66292342        \n",
       "48 ENSG00000223116 23551994      23552136    23552065        "
      ]
     },
     "metadata": {},
     "output_type": "display_data"
    }
   ],
   "source": [
    "df_genes = gene_anno[,c(\"Ensembl.Gene.ID\",\"Gene.Start..bp.\",\"Gene.End..bp.\")]\n",
    "colnames(df_genes) = c(\"feature_id\",\"feature_start\",\"feature_end\")\n",
    "df_genes = df_genes[-which(duplicated(df_genes$feature_id)),]\n",
    "df_genes$feature_midpoint = df_genes$feature_start + 0.5*(df_genes$feature_end - df_genes$feature_start)\n",
    "head(df_genes,2)"
   ]
  },
  {
   "cell_type": "code",
   "execution_count": 39,
   "metadata": {},
   "outputs": [
    {
     "data": {
      "text/html": [
       "9765"
      ],
      "text/latex": [
       "9765"
      ],
      "text/markdown": [
       "9765"
      ],
      "text/plain": [
       "[1] 9765"
      ]
     },
     "metadata": {},
     "output_type": "display_data"
    },
    {
     "data": {
      "text/html": [
       "9765"
      ],
      "text/latex": [
       "9765"
      ],
      "text/markdown": [
       "9765"
      ],
      "text/plain": [
       "[1] 9765"
      ]
     },
     "metadata": {},
     "output_type": "display_data"
    }
   ],
   "source": [
    "nrow(df_to_plot0)\n",
    "df_to_plot1 = inner_join(df_to_plot0, df_genes, by = \"feature_id\")\n",
    "nrow(df_to_plot1)"
   ]
  },
  {
   "cell_type": "code",
   "execution_count": 40,
   "metadata": {},
   "outputs": [
    {
     "data": {
      "text/html": [
       "<table>\n",
       "<thead><tr><th scope=col>feature_id</th><th scope=col>snp_id</th><th scope=col>eqtl</th><th scope=col>beta</th><th scope=col>q_value</th><th scope=col>category</th><th scope=col>FractionOfZero</th><th scope=col>MeanTPM_All</th><th scope=col>MeanTPM_nonZero</th><th scope=col>VarTPM_All</th><th scope=col>VarTPM_nonZero</th><th scope=col>feature_start</th><th scope=col>feature_end</th><th scope=col>feature_midpoint</th><th scope=col>snp_pos</th><th scope=col>dist</th></tr></thead>\n",
       "<tbody>\n",
       "\t<tr><td>ENSG00000088038                </td><td>19_54639868_G_A                </td><td>ENSG00000088038-19_54639868_G_A</td><td>-0.1542810                     </td><td>0.0001765690                   </td><td>no_sum                         </td><td>0                              </td><td>6.30071e+210                   </td><td>6.30071e+210                   </td><td>Inf                            </td><td>Inf                            </td><td>54641444                       </td><td>54659419                       </td><td>54650432                       </td><td>54639868                       </td><td>10563.5                        </td></tr>\n",
       "\t<tr><td>ENSG00000105605                </td><td>19_54333563_C_A                </td><td>ENSG00000105605-19_54333563_C_A</td><td>-0.1645107                     </td><td>0.0005959162                   </td><td>none                           </td><td>0                              </td><td>         Inf                   </td><td>         Inf                   </td><td> NA                            </td><td> NA                            </td><td>54412589                       </td><td>54447195                       </td><td>54429892                       </td><td>54333563                       </td><td>96329.0                        </td></tr>\n",
       "</tbody>\n",
       "</table>\n"
      ],
      "text/latex": [
       "\\begin{tabular}{r|llllllllllllllll}\n",
       " feature\\_id & snp\\_id & eqtl & beta & q\\_value & category & FractionOfZero & MeanTPM\\_All & MeanTPM\\_nonZero & VarTPM\\_All & VarTPM\\_nonZero & feature\\_start & feature\\_end & feature\\_midpoint & snp\\_pos & dist\\\\\n",
       "\\hline\n",
       "\t ENSG00000088038                       & 19\\_54639868\\_G\\_A                 & ENSG00000088038-19\\_54639868\\_G\\_A & -0.1542810                            & 0.0001765690                          & no\\_sum                              & 0                                     & 6.30071e+210                          & 6.30071e+210                          & Inf                                   & Inf                                   & 54641444                              & 54659419                              & 54650432                              & 54639868                              & 10563.5                              \\\\\n",
       "\t ENSG00000105605                       & 19\\_54333563\\_C\\_A                 & ENSG00000105605-19\\_54333563\\_C\\_A & -0.1645107                            & 0.0005959162                          & none                                  & 0                                     &          Inf                          &          Inf                          &  NA                                   &  NA                                   & 54412589                              & 54447195                              & 54429892                              & 54333563                              & 96329.0                              \\\\\n",
       "\\end{tabular}\n"
      ],
      "text/markdown": [
       "\n",
       "| feature_id | snp_id | eqtl | beta | q_value | category | FractionOfZero | MeanTPM_All | MeanTPM_nonZero | VarTPM_All | VarTPM_nonZero | feature_start | feature_end | feature_midpoint | snp_pos | dist |\n",
       "|---|---|---|---|---|---|---|---|---|---|---|---|---|---|---|---|\n",
       "| ENSG00000088038                 | 19_54639868_G_A                 | ENSG00000088038-19_54639868_G_A | -0.1542810                      | 0.0001765690                    | no_sum                          | 0                               | 6.30071e+210                    | 6.30071e+210                    | Inf                             | Inf                             | 54641444                        | 54659419                        | 54650432                        | 54639868                        | 10563.5                         |\n",
       "| ENSG00000105605                 | 19_54333563_C_A                 | ENSG00000105605-19_54333563_C_A | -0.1645107                      | 0.0005959162                    | none                            | 0                               |          Inf                    |          Inf                    |  NA                             |  NA                             | 54412589                        | 54447195                        | 54429892                        | 54333563                        | 96329.0                         |\n",
       "\n"
      ],
      "text/plain": [
       "  feature_id      snp_id          eqtl                            beta      \n",
       "1 ENSG00000088038 19_54639868_G_A ENSG00000088038-19_54639868_G_A -0.1542810\n",
       "2 ENSG00000105605 19_54333563_C_A ENSG00000105605-19_54333563_C_A -0.1645107\n",
       "  q_value      category FractionOfZero MeanTPM_All  MeanTPM_nonZero VarTPM_All\n",
       "1 0.0001765690 no_sum   0              6.30071e+210 6.30071e+210    Inf       \n",
       "2 0.0005959162 none     0                       Inf          Inf     NA       \n",
       "  VarTPM_nonZero feature_start feature_end feature_midpoint snp_pos  dist   \n",
       "1 Inf            54641444      54659419    54650432         54639868 10563.5\n",
       "2  NA            54412589      54447195    54429892         54333563 96329.0"
      ]
     },
     "metadata": {},
     "output_type": "display_data"
    }
   ],
   "source": [
    "df_to_plot1$snp_pos = matrix(unlist(strsplit(as.character(df_to_plot1$snp_id),\"_\")), ncol = 4, byrow = T)[,2]\n",
    "df_to_plot1$dist = as.numeric(df_to_plot1$feature_midpoint) - as.numeric(df_to_plot1$snp_pos)\n",
    "head(df_to_plot1,2)"
   ]
  },
  {
   "cell_type": "code",
   "execution_count": 49,
   "metadata": {},
   "outputs": [],
   "source": [
    "options(repr.plot.width = 7, repr.plot.height = 9)\n",
    "p1 = df_to_plot0 %>% group_by(category) %>% summarise(eGenes = n()) %>%\n",
    "    ggplot(aes(x = category, y = eGenes, fill = category)) + geom_bar(stat=\"identity\") + theme_classic() + xlab(\"\") + theme(legend.position = \"none\")\n",
    "p2 = ggplot(df_to_plot0, aes(x = category, y = log2(MeanTPM_All+1), fill= category)) + geom_violin(colour=NA) + geom_boxplot(width=0.1) + theme_classic() + xlab(\"\") + theme(legend.position = \"none\")\n",
    "p3 = ggplot(df_to_plot0, aes(x = category, y = log2(VarTPM_All+1),fill= category)) + geom_violin(colour=NA) + geom_boxplot(width=0.1) + theme_classic() + xlab(\"\") + theme(legend.position = \"none\")\n",
    "p4 = ggplot(df_to_plot0, aes(x = category, y = log2(abs(beta)+1), fill= category)) + geom_violin(colour=NA) + geom_boxplot(width=0.1) + theme_classic() + xlab(\"\") + theme(legend.position = \"none\")\n",
    "p5 = ggplot(df_to_plot1, aes(x = category, y = log2(abs(dist)+1), fill= category)) + geom_violin(colour=NA) + geom_boxplot(width=0.1) + theme_classic() + theme(legend.position = \"none\")\n",
    "\n",
    "# plot_grid(p1,p2,p3,p4,p5, ncol=1) \n",
    "# plot_grid(p1,p4,ncol=1) "
   ]
  },
  {
   "cell_type": "code",
   "execution_count": 50,
   "metadata": {},
   "outputs": [],
   "source": [
    "type.col <- c(only_mean = \"#375e97\", no_mean = \"#ee7733\", only_median = \"#fb6542\", no_median=\"#228833\", \n",
    "              only_sum = \"#ffbb00\", no_sum=\"#AA3377\", all=\"gray\", none=\"gray80\")"
   ]
  },
  {
   "cell_type": "code",
   "execution_count": 51,
   "metadata": {},
   "outputs": [
    {
     "name": "stderr",
     "output_type": "stream",
     "text": [
      "Warning message:\n",
      "“Removed 3260 rows containing non-finite values (stat_ydensity).”Warning message:\n",
      "“Removed 3260 rows containing non-finite values (stat_boxplot).”Warning message:\n",
      "“Removed 5336 rows containing non-finite values (stat_ydensity).”Warning message:\n",
      "“Removed 5336 rows containing non-finite values (stat_boxplot).”"
     ]
    },
    {
     "data": {
      "image/png": "[encoded data removed]",
      "text/plain": [
       "plot without title"
      ]
     },
     "metadata": {},
     "output_type": "display_data"
    }
   ],
   "source": [
    "plot_grid(p1+scale_fill_manual(values = type.col),\n",
    "          p2+scale_fill_manual(values = type.col),\n",
    "          p3+scale_fill_manual(values = type.col),\n",
    "          p4+scale_fill_manual(values = type.col),\n",
    "          p5+scale_fill_manual(values = type.col), ncol=1) "
   ]
  },
  {
   "cell_type": "code",
   "execution_count": 52,
   "metadata": {},
   "outputs": [],
   "source": [
    "fig_dir = \"/hps/nobackup/stegle/users/acuomo/all_scripts/sc_eqtl/figures/\""
   ]
  },
  {
   "cell_type": "code",
   "execution_count": 47,
   "metadata": {},
   "outputs": [
    {
     "name": "stderr",
     "output_type": "stream",
     "text": [
      "Warning message:\n",
      "“Removed 3260 rows containing non-finite values (stat_ydensity).”Warning message:\n",
      "“Removed 3260 rows containing non-finite values (stat_boxplot).”Warning message:\n",
      "“Removed 5336 rows containing non-finite values (stat_ydensity).”Warning message:\n",
      "“Removed 5336 rows containing non-finite values (stat_boxplot).”"
     ]
    },
    {
     "data": {
      "text/html": [
       "<strong>png:</strong> 2"
      ],
      "text/latex": [
       "\\textbf{png:} 2"
      ],
      "text/markdown": [
       "**png:** 2"
      ],
      "text/plain": [
       "png \n",
       "  2 "
      ]
     },
     "metadata": {},
     "output_type": "display_data"
    }
   ],
   "source": [
    "pdf(paste0(fig_dir,\"eqtl_properties_all_aggregations.pdf\"), width=7, height=9)\n",
    "plot_grid(p1+scale_fill_manual(values = type.col),\n",
    "          p2+scale_fill_manual(values = type.col),\n",
    "          p3+scale_fill_manual(values = type.col),\n",
    "          p4+scale_fill_manual(values = type.col),\n",
    "          p5+scale_fill_manual(values = type.col), ncol=1) \n",
    "dev.off()"
   ]
  },
  {
   "cell_type": "code",
   "execution_count": null,
   "metadata": {},
   "outputs": [],
   "source": []
  },
  {
   "cell_type": "raw",
   "metadata": {},
   "source": []
  }
 ],
 "metadata": {
  "kernelspec": {
   "display_name": "R",
   "language": "R",
   "name": "ir"
  },
  "language_info": {
   "codemirror_mode": "r",
   "file_extension": ".r",
   "mimetype": "text/x-r-source",
   "name": "R",
   "pygments_lexer": "r",
   "version": "3.6.1"
  }
 },
 "nbformat": 4,
 "nbformat_minor": 4
}
