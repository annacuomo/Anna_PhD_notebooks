{
 "cells": [
  {
   "cell_type": "code",
   "execution_count": 1,
   "metadata": {},
   "outputs": [
    {
     "name": "stderr",
     "output_type": "stream",
     "text": [
      "\n",
      "Attaching package: ‘dplyr’\n",
      "\n",
      "The following objects are masked from ‘package:stats’:\n",
      "\n",
      "    filter, lag\n",
      "\n",
      "The following objects are masked from ‘package:base’:\n",
      "\n",
      "    intersect, setdiff, setequal, union\n",
      "\n"
     ]
    }
   ],
   "source": [
    "library(dplyr)"
   ]
  },
  {
   "cell_type": "code",
   "execution_count": 67,
   "metadata": {},
   "outputs": [
    {
     "data": {
      "text/html": [
       "<table>\n",
       "<thead><tr><th scope=col>index</th><th scope=col>batch</th><th scope=col>donor_id</th><th scope=col>log1p_n_genes_by_counts</th><th scope=col>log1p_total_counts</th><th scope=col>log1p_total_counts_mito</th><th scope=col>n_genes_by_counts</th><th scope=col>pct_counts_in_top_100_genes</th><th scope=col>pct_counts_in_top_200_genes</th><th scope=col>pct_counts_in_top_500_genes</th><th scope=col>...</th><th scope=col>total_counts</th><th scope=col>total_counts_mito</th><th scope=col>cluster_id</th><th scope=col>time_point</th><th scope=col>pool_id</th><th scope=col>treatment</th><th scope=col>n_counts_all</th><th scope=col>celltype</th><th scope=col>celltype_new</th><th scope=col>cluster_id_new</th></tr></thead>\n",
       "<tbody>\n",
       "\t<tr><td>TCCACACAGGACAGAA-1-23</td><td>23                   </td><td>HPSI0114i-eipl_1     </td><td>7.650169             </td><td>8.834774             </td><td>3.637586             </td><td>2100                 </td><td>46.70938             </td><td>58.09552             </td><td>72.58299             </td><td>...                  </td><td> 6868                </td><td> 37                  </td><td>4                    </td><td>D52                  </td><td>pool1                </td><td>ROT                  </td><td> 6868                </td><td>FPP                  </td><td>FPP                  </td><td>4                    </td></tr>\n",
       "\t<tr><td>TAAGAGAGTGGCGAAT-1-6 </td><td> 6                   </td><td>HPSI0115i-jakt_1     </td><td>7.813592             </td><td>8.701845             </td><td>5.786897             </td><td>2473                 </td><td>39.66406             </td><td>48.36188             </td><td>62.33161             </td><td>...                  </td><td> 6013                </td><td>325                  </td><td>7                    </td><td>D52                  </td><td>pool2                </td><td>NONE                 </td><td> 6013                </td><td>Sert                 </td><td>Sert                 </td><td>7                    </td></tr>\n",
       "\t<tr><td>TGACTAGCAGGAATGC-1-14</td><td>14                   </td><td>HPSI0314i-sojd_3     </td><td>8.051341             </td><td>9.357207             </td><td>5.560682             </td><td>3137                 </td><td>46.63673             </td><td>55.30610             </td><td>68.23245             </td><td>...                  </td><td>11581                </td><td>259                  </td><td>1                    </td><td>D52                  </td><td>pool4                </td><td>NONE                 </td><td>11581                </td><td>Epen1                </td><td>Epen1                </td><td>1                    </td></tr>\n",
       "\t<tr><td>TGCTGCTAGCAGATCG-1-36</td><td>36                   </td><td>HPSI0115i-iuad_2     </td><td>7.742836             </td><td>9.016392             </td><td>4.007333             </td><td>2304                 </td><td>48.03303             </td><td>58.23215             </td><td>72.53521             </td><td>...                  </td><td> 8236                </td><td> 54                  </td><td>1                    </td><td>D52                  </td><td>pool7                </td><td>ROT                  </td><td> 8236                </td><td>Epen1                </td><td>Epen1                </td><td>1                    </td></tr>\n",
       "\t<tr><td>TTCGAAGAGACCGGAT-1-0 </td><td> 0                   </td><td>HPSI0114i-eipl_1     </td><td>7.594884             </td><td>8.261269             </td><td>4.584968             </td><td>1987                 </td><td>31.44703             </td><td>42.32558             </td><td>59.56072             </td><td>...                  </td><td> 3870                </td><td> 97                  </td><td>2                    </td><td>D52                  </td><td>pool1                </td><td>NONE                 </td><td> 3870                </td><td>Astro                </td><td>Astro                </td><td>2                    </td></tr>\n",
       "\t<tr><td>ACGAGCCCAGCGTCCA-1-30</td><td>30                   </td><td>HPSI1014i-qayj_4     </td><td>7.962764             </td><td>9.372799             </td><td>5.323010             </td><td>2871                 </td><td>46.34022             </td><td>56.87325             </td><td>70.84927             </td><td>...                  </td><td>11763                </td><td>204                  </td><td>0                    </td><td>D52                  </td><td>pool5                </td><td>ROT                  </td><td>11763                </td><td>Sert                 </td><td>Sert                 </td><td>0                    </td></tr>\n",
       "</tbody>\n",
       "</table>\n"
      ],
      "text/latex": [
       "\\begin{tabular}{r|lllllllllllllllllllllll}\n",
       " index & batch & donor\\_id & log1p\\_n\\_genes\\_by\\_counts & log1p\\_total\\_counts & log1p\\_total\\_counts\\_mito & n\\_genes\\_by\\_counts & pct\\_counts\\_in\\_top\\_100\\_genes & pct\\_counts\\_in\\_top\\_200\\_genes & pct\\_counts\\_in\\_top\\_500\\_genes & ... & total\\_counts & total\\_counts\\_mito & cluster\\_id & time\\_point & pool\\_id & treatment & n\\_counts\\_all & celltype & celltype\\_new & cluster\\_id\\_new\\\\\n",
       "\\hline\n",
       "\t TCCACACAGGACAGAA-1-23 & 23                    & HPSI0114i-eipl\\_1    & 7.650169              & 8.834774              & 3.637586              & 2100                  & 46.70938              & 58.09552              & 72.58299              & ...                   &  6868                 &  37                   & 4                     & D52                   & pool1                 & ROT                   &  6868                 & FPP                   & FPP                   & 4                    \\\\\n",
       "\t TAAGAGAGTGGCGAAT-1-6  &  6                    & HPSI0115i-jakt\\_1    & 7.813592              & 8.701845              & 5.786897              & 2473                  & 39.66406              & 48.36188              & 62.33161              & ...                   &  6013                 & 325                   & 7                     & D52                   & pool2                 & NONE                  &  6013                 & Sert                  & Sert                  & 7                    \\\\\n",
       "\t TGACTAGCAGGAATGC-1-14 & 14                    & HPSI0314i-sojd\\_3    & 8.051341              & 9.357207              & 5.560682              & 3137                  & 46.63673              & 55.30610              & 68.23245              & ...                   & 11581                 & 259                   & 1                     & D52                   & pool4                 & NONE                  & 11581                 & Epen1                 & Epen1                 & 1                    \\\\\n",
       "\t TGCTGCTAGCAGATCG-1-36 & 36                    & HPSI0115i-iuad\\_2    & 7.742836              & 9.016392              & 4.007333              & 2304                  & 48.03303              & 58.23215              & 72.53521              & ...                   &  8236                 &  54                   & 1                     & D52                   & pool7                 & ROT                   &  8236                 & Epen1                 & Epen1                 & 1                    \\\\\n",
       "\t TTCGAAGAGACCGGAT-1-0  &  0                    & HPSI0114i-eipl\\_1    & 7.594884              & 8.261269              & 4.584968              & 1987                  & 31.44703              & 42.32558              & 59.56072              & ...                   &  3870                 &  97                   & 2                     & D52                   & pool1                 & NONE                  &  3870                 & Astro                 & Astro                 & 2                    \\\\\n",
       "\t ACGAGCCCAGCGTCCA-1-30 & 30                    & HPSI1014i-qayj\\_4    & 7.962764              & 9.372799              & 5.323010              & 2871                  & 46.34022              & 56.87325              & 70.84927              & ...                   & 11763                 & 204                   & 0                     & D52                   & pool5                 & ROT                   & 11763                 & Sert                  & Sert                  & 0                    \\\\\n",
       "\\end{tabular}\n"
      ],
      "text/markdown": [
       "\n",
       "| index | batch | donor_id | log1p_n_genes_by_counts | log1p_total_counts | log1p_total_counts_mito | n_genes_by_counts | pct_counts_in_top_100_genes | pct_counts_in_top_200_genes | pct_counts_in_top_500_genes | ... | total_counts | total_counts_mito | cluster_id | time_point | pool_id | treatment | n_counts_all | celltype | celltype_new | cluster_id_new |\n",
       "|---|---|---|---|---|---|---|---|---|---|---|---|---|---|---|---|---|---|---|---|---|\n",
       "| TCCACACAGGACAGAA-1-23 | 23                    | HPSI0114i-eipl_1      | 7.650169              | 8.834774              | 3.637586              | 2100                  | 46.70938              | 58.09552              | 72.58299              | ...                   |  6868                 |  37                   | 4                     | D52                   | pool1                 | ROT                   |  6868                 | FPP                   | FPP                   | 4                     |\n",
       "| TAAGAGAGTGGCGAAT-1-6  |  6                    | HPSI0115i-jakt_1      | 7.813592              | 8.701845              | 5.786897              | 2473                  | 39.66406              | 48.36188              | 62.33161              | ...                   |  6013                 | 325                   | 7                     | D52                   | pool2                 | NONE                  |  6013                 | Sert                  | Sert                  | 7                     |\n",
       "| TGACTAGCAGGAATGC-1-14 | 14                    | HPSI0314i-sojd_3      | 8.051341              | 9.357207              | 5.560682              | 3137                  | 46.63673              | 55.30610              | 68.23245              | ...                   | 11581                 | 259                   | 1                     | D52                   | pool4                 | NONE                  | 11581                 | Epen1                 | Epen1                 | 1                     |\n",
       "| TGCTGCTAGCAGATCG-1-36 | 36                    | HPSI0115i-iuad_2      | 7.742836              | 9.016392              | 4.007333              | 2304                  | 48.03303              | 58.23215              | 72.53521              | ...                   |  8236                 |  54                   | 1                     | D52                   | pool7                 | ROT                   |  8236                 | Epen1                 | Epen1                 | 1                     |\n",
       "| TTCGAAGAGACCGGAT-1-0  |  0                    | HPSI0114i-eipl_1      | 7.594884              | 8.261269              | 4.584968              | 1987                  | 31.44703              | 42.32558              | 59.56072              | ...                   |  3870                 |  97                   | 2                     | D52                   | pool1                 | NONE                  |  3870                 | Astro                 | Astro                 | 2                     |\n",
       "| ACGAGCCCAGCGTCCA-1-30 | 30                    | HPSI1014i-qayj_4      | 7.962764              | 9.372799              | 5.323010              | 2871                  | 46.34022              | 56.87325              | 70.84927              | ...                   | 11763                 | 204                   | 0                     | D52                   | pool5                 | ROT                   | 11763                 | Sert                  | Sert                  | 0                     |\n",
       "\n"
      ],
      "text/plain": [
       "  index                 batch donor_id         log1p_n_genes_by_counts\n",
       "1 TCCACACAGGACAGAA-1-23 23    HPSI0114i-eipl_1 7.650169               \n",
       "2 TAAGAGAGTGGCGAAT-1-6   6    HPSI0115i-jakt_1 7.813592               \n",
       "3 TGACTAGCAGGAATGC-1-14 14    HPSI0314i-sojd_3 8.051341               \n",
       "4 TGCTGCTAGCAGATCG-1-36 36    HPSI0115i-iuad_2 7.742836               \n",
       "5 TTCGAAGAGACCGGAT-1-0   0    HPSI0114i-eipl_1 7.594884               \n",
       "6 ACGAGCCCAGCGTCCA-1-30 30    HPSI1014i-qayj_4 7.962764               \n",
       "  log1p_total_counts log1p_total_counts_mito n_genes_by_counts\n",
       "1 8.834774           3.637586                2100             \n",
       "2 8.701845           5.786897                2473             \n",
       "3 9.357207           5.560682                3137             \n",
       "4 9.016392           4.007333                2304             \n",
       "5 8.261269           4.584968                1987             \n",
       "6 9.372799           5.323010                2871             \n",
       "  pct_counts_in_top_100_genes pct_counts_in_top_200_genes\n",
       "1 46.70938                    58.09552                   \n",
       "2 39.66406                    48.36188                   \n",
       "3 46.63673                    55.30610                   \n",
       "4 48.03303                    58.23215                   \n",
       "5 31.44703                    42.32558                   \n",
       "6 46.34022                    56.87325                   \n",
       "  pct_counts_in_top_500_genes ... total_counts total_counts_mito cluster_id\n",
       "1 72.58299                    ...  6868         37               4         \n",
       "2 62.33161                    ...  6013        325               7         \n",
       "3 68.23245                    ... 11581        259               1         \n",
       "4 72.53521                    ...  8236         54               1         \n",
       "5 59.56072                    ...  3870         97               2         \n",
       "6 70.84927                    ... 11763        204               0         \n",
       "  time_point pool_id treatment n_counts_all celltype celltype_new\n",
       "1 D52        pool1   ROT        6868        FPP      FPP         \n",
       "2 D52        pool2   NONE       6013        Sert     Sert        \n",
       "3 D52        pool4   NONE      11581        Epen1    Epen1       \n",
       "4 D52        pool7   ROT        8236        Epen1    Epen1       \n",
       "5 D52        pool1   NONE       3870        Astro    Astro       \n",
       "6 D52        pool5   ROT       11763        Sert     Sert        \n",
       "  cluster_id_new\n",
       "1 4             \n",
       "2 7             \n",
       "3 1             \n",
       "4 1             \n",
       "5 2             \n",
       "6 0             "
      ]
     },
     "metadata": {},
     "output_type": "display_data"
    }
   ],
   "source": [
    "filename = \"/hps/nobackup/stegle/users/acuomo/all_scripts/sc_neuroseq/scanpy/neuroseq_metadata_D11.txt\"\n",
    "df = read.csv(filename, sep = \"\\t\")\n",
    "head(df)"
   ]
  },
  {
   "cell_type": "code",
   "execution_count": 68,
   "metadata": {},
   "outputs": [
    {
     "data": {
      "text/html": [
       "523094"
      ],
      "text/latex": [
       "523094"
      ],
      "text/markdown": [
       "523094"
      ],
      "text/plain": [
       "[1] 523094"
      ]
     },
     "metadata": {},
     "output_type": "display_data"
    }
   ],
   "source": [
    "nrow(df)"
   ]
  },
  {
   "cell_type": "code",
   "execution_count": 4,
   "metadata": {},
   "outputs": [
    {
     "data": {
      "text/html": [
       "177"
      ],
      "text/latex": [
       "177"
      ],
      "text/markdown": [
       "177"
      ],
      "text/plain": [
       "[1] 177"
      ]
     },
     "metadata": {},
     "output_type": "display_data"
    }
   ],
   "source": [
    "length(unique(df$donor_id))"
   ]
  },
  {
   "cell_type": "code",
   "execution_count": 5,
   "metadata": {},
   "outputs": [
    {
     "data": {
      "text/html": [
       "177"
      ],
      "text/latex": [
       "177"
      ],
      "text/markdown": [
       "177"
      ],
      "text/plain": [
       "[1] 177"
      ]
     },
     "metadata": {},
     "output_type": "display_data"
    }
   ],
   "source": [
    "length(unique(df[df$celltype == \"FPP\",]$donor_id))"
   ]
  },
  {
   "cell_type": "code",
   "execution_count": 6,
   "metadata": {},
   "outputs": [],
   "source": [
    "df_donor = df[df$celltype == \"FPP\",] %>% group_by(donor_id) %>% summarise(n = n())"
   ]
  },
  {
   "cell_type": "code",
   "execution_count": 7,
   "metadata": {},
   "outputs": [
    {
     "data": {
      "text/html": [
       "177"
      ],
      "text/latex": [
       "177"
      ],
      "text/markdown": [
       "177"
      ],
      "text/plain": [
       "[1] 177"
      ]
     },
     "metadata": {},
     "output_type": "display_data"
    },
    {
     "data": {
      "text/html": [
       "<table>\n",
       "<thead><tr><th scope=col>donor_id</th><th scope=col>n</th></tr></thead>\n",
       "<tbody>\n",
       "\t<tr><td>HPSI0114i-eipl_1</td><td>1672            </td></tr>\n",
       "\t<tr><td>HPSI0114i-kolf_2</td><td> 334            </td></tr>\n",
       "\t<tr><td>HPSI0114i-wegi_1</td><td>2629            </td></tr>\n",
       "\t<tr><td>HPSI0115i-aion_2</td><td> 406            </td></tr>\n",
       "\t<tr><td>HPSI0115i-aoxv_1</td><td>1851            </td></tr>\n",
       "\t<tr><td>HPSI0115i-bimq_4</td><td> 338            </td></tr>\n",
       "</tbody>\n",
       "</table>\n"
      ],
      "text/latex": [
       "\\begin{tabular}{r|ll}\n",
       " donor\\_id & n\\\\\n",
       "\\hline\n",
       "\t HPSI0114i-eipl\\_1 & 1672              \\\\\n",
       "\t HPSI0114i-kolf\\_2 &  334              \\\\\n",
       "\t HPSI0114i-wegi\\_1 & 2629              \\\\\n",
       "\t HPSI0115i-aion\\_2 &  406              \\\\\n",
       "\t HPSI0115i-aoxv\\_1 & 1851              \\\\\n",
       "\t HPSI0115i-bimq\\_4 &  338              \\\\\n",
       "\\end{tabular}\n"
      ],
      "text/markdown": [
       "\n",
       "| donor_id | n |\n",
       "|---|---|\n",
       "| HPSI0114i-eipl_1 | 1672             |\n",
       "| HPSI0114i-kolf_2 |  334             |\n",
       "| HPSI0114i-wegi_1 | 2629             |\n",
       "| HPSI0115i-aion_2 |  406             |\n",
       "| HPSI0115i-aoxv_1 | 1851             |\n",
       "| HPSI0115i-bimq_4 |  338             |\n",
       "\n"
      ],
      "text/plain": [
       "  donor_id         n   \n",
       "1 HPSI0114i-eipl_1 1672\n",
       "2 HPSI0114i-kolf_2  334\n",
       "3 HPSI0114i-wegi_1 2629\n",
       "4 HPSI0115i-aion_2  406\n",
       "5 HPSI0115i-aoxv_1 1851\n",
       "6 HPSI0115i-bimq_4  338"
      ]
     },
     "metadata": {},
     "output_type": "display_data"
    }
   ],
   "source": [
    "nrow(df_donor)\n",
    "head(df_donor)"
   ]
  },
  {
   "cell_type": "code",
   "execution_count": 8,
   "metadata": {},
   "outputs": [
    {
     "data": {
      "text/html": [
       "174"
      ],
      "text/latex": [
       "174"
      ],
      "text/markdown": [
       "174"
      ],
      "text/plain": [
       "[1] 174"
      ]
     },
     "metadata": {},
     "output_type": "display_data"
    }
   ],
   "source": [
    "N = 5\n",
    "nrow(df_donor[df_donor$n >= N,])"
   ]
  },
  {
   "cell_type": "code",
   "execution_count": null,
   "metadata": {},
   "outputs": [],
   "source": []
  },
  {
   "cell_type": "code",
   "execution_count": 12,
   "metadata": {},
   "outputs": [],
   "source": [
    "df_donor_run = df[df$celltype == \"FPP\",] %>% group_by(donor_id, pool_id) %>% summarise(n = n())"
   ]
  },
  {
   "cell_type": "code",
   "execution_count": 13,
   "metadata": {},
   "outputs": [
    {
     "data": {
      "text/html": [
       "<table>\n",
       "<thead><tr><th scope=col>donor_id</th><th scope=col>pool_id</th><th scope=col>n</th></tr></thead>\n",
       "<tbody>\n",
       "\t<tr><td>HPSI0114i-eipl_1</td><td>pool1           </td><td>1672            </td></tr>\n",
       "\t<tr><td>HPSI0114i-kolf_2</td><td>pool12          </td><td> 334            </td></tr>\n",
       "\t<tr><td>HPSI0114i-wegi_1</td><td>pool6           </td><td>2478            </td></tr>\n",
       "\t<tr><td>HPSI0114i-wegi_1</td><td>pool7           </td><td> 151            </td></tr>\n",
       "\t<tr><td>HPSI0115i-aion_2</td><td>pool4           </td><td> 406            </td></tr>\n",
       "\t<tr><td>HPSI0115i-aoxv_1</td><td>pool8           </td><td>1851            </td></tr>\n",
       "</tbody>\n",
       "</table>\n"
      ],
      "text/latex": [
       "\\begin{tabular}{r|lll}\n",
       " donor\\_id & pool\\_id & n\\\\\n",
       "\\hline\n",
       "\t HPSI0114i-eipl\\_1 & pool1              & 1672              \\\\\n",
       "\t HPSI0114i-kolf\\_2 & pool12             &  334              \\\\\n",
       "\t HPSI0114i-wegi\\_1 & pool6              & 2478              \\\\\n",
       "\t HPSI0114i-wegi\\_1 & pool7              &  151              \\\\\n",
       "\t HPSI0115i-aion\\_2 & pool4              &  406              \\\\\n",
       "\t HPSI0115i-aoxv\\_1 & pool8              & 1851              \\\\\n",
       "\\end{tabular}\n"
      ],
      "text/markdown": [
       "\n",
       "| donor_id | pool_id | n |\n",
       "|---|---|---|\n",
       "| HPSI0114i-eipl_1 | pool1            | 1672             |\n",
       "| HPSI0114i-kolf_2 | pool12           |  334             |\n",
       "| HPSI0114i-wegi_1 | pool6            | 2478             |\n",
       "| HPSI0114i-wegi_1 | pool7            |  151             |\n",
       "| HPSI0115i-aion_2 | pool4            |  406             |\n",
       "| HPSI0115i-aoxv_1 | pool8            | 1851             |\n",
       "\n"
      ],
      "text/plain": [
       "  donor_id         pool_id n   \n",
       "1 HPSI0114i-eipl_1 pool1   1672\n",
       "2 HPSI0114i-kolf_2 pool12   334\n",
       "3 HPSI0114i-wegi_1 pool6   2478\n",
       "4 HPSI0114i-wegi_1 pool7    151\n",
       "5 HPSI0115i-aion_2 pool4    406\n",
       "6 HPSI0115i-aoxv_1 pool8   1851"
      ]
     },
     "metadata": {},
     "output_type": "display_data"
    }
   ],
   "source": [
    "head(df_donor_run)"
   ]
  },
  {
   "cell_type": "code",
   "execution_count": 22,
   "metadata": {},
   "outputs": [
    {
     "data": {
      "text/html": [
       "25"
      ],
      "text/latex": [
       "25"
      ],
      "text/markdown": [
       "25"
      ],
      "text/plain": [
       "[1] 25"
      ]
     },
     "metadata": {},
     "output_type": "display_data"
    }
   ],
   "source": [
    "sum(rowSums(table(df_donor_run$donor_id, df_donor_run$pool_id)>0)>1)"
   ]
  },
  {
   "cell_type": "code",
   "execution_count": 23,
   "metadata": {},
   "outputs": [
    {
     "data": {
      "text/html": [
       "0.14367816091954"
      ],
      "text/latex": [
       "0.14367816091954"
      ],
      "text/markdown": [
       "0.14367816091954"
      ],
      "text/plain": [
       "[1] 0.1436782"
      ]
     },
     "metadata": {},
     "output_type": "display_data"
    }
   ],
   "source": [
    "25/174"
   ]
  },
  {
   "cell_type": "code",
   "execution_count": null,
   "metadata": {},
   "outputs": [],
   "source": []
  },
  {
   "cell_type": "code",
   "execution_count": 10,
   "metadata": {},
   "outputs": [],
   "source": [
    "mydir = \"/nfs/leia/research/stegle/dseaton/hipsci/singlecell_neuroseq/data/data_processed/pool1_13_noddd_D11/\""
   ]
  },
  {
   "cell_type": "code",
   "execution_count": 38,
   "metadata": {},
   "outputs": [
    {
     "data": {
      "text/html": [
       "136074"
      ],
      "text/latex": [
       "136074"
      ],
      "text/markdown": [
       "136074"
      ],
      "text/plain": [
       "[1] 136074"
      ]
     },
     "metadata": {},
     "output_type": "display_data"
    },
    {
     "data": {
      "text/html": [
       "<table>\n",
       "<thead><tr><th></th><th scope=col>index</th><th scope=col>batch</th><th scope=col>donor_id</th><th scope=col>sample_id</th><th scope=col>cluster_id</th><th scope=col>time_point</th><th scope=col>pool_id</th><th scope=col>treatment</th><th scope=col>n_counts_all</th><th scope=col>celltype</th></tr></thead>\n",
       "<tbody>\n",
       "\t<tr><th scope=row>4</th><td>AAACCTGAGGAATGGA-1-0</td><td>0                   </td><td>HPSI0114i-eipl_1    </td><td>5245STDY7352549     </td><td>0                   </td><td>D11                 </td><td>pool1               </td><td>NONE                </td><td>14383               </td><td>FPP                 </td></tr>\n",
       "\t<tr><th scope=row>6</th><td>AAACCTGGTAGGCATG-1-0</td><td>0                   </td><td>HPSI0114i-eipl_1    </td><td>5245STDY7352549     </td><td>0                   </td><td>D11                 </td><td>pool1               </td><td>NONE                </td><td>11709               </td><td>FPP                 </td></tr>\n",
       "</tbody>\n",
       "</table>\n"
      ],
      "text/latex": [
       "\\begin{tabular}{r|llllllllll}\n",
       "  & index & batch & donor\\_id & sample\\_id & cluster\\_id & time\\_point & pool\\_id & treatment & n\\_counts\\_all & celltype\\\\\n",
       "\\hline\n",
       "\t4 & AAACCTGAGGAATGGA-1-0 & 0                    & HPSI0114i-eipl\\_1   & 5245STDY7352549      & 0                    & D11                  & pool1                & NONE                 & 14383                & FPP                 \\\\\n",
       "\t6 & AAACCTGGTAGGCATG-1-0 & 0                    & HPSI0114i-eipl\\_1   & 5245STDY7352549      & 0                    & D11                  & pool1                & NONE                 & 11709                & FPP                 \\\\\n",
       "\\end{tabular}\n"
      ],
      "text/markdown": [
       "\n",
       "| <!--/--> | index | batch | donor_id | sample_id | cluster_id | time_point | pool_id | treatment | n_counts_all | celltype |\n",
       "|---|---|---|---|---|---|---|---|---|---|---|\n",
       "| 4 | AAACCTGAGGAATGGA-1-0 | 0                    | HPSI0114i-eipl_1     | 5245STDY7352549      | 0                    | D11                  | pool1                | NONE                 | 14383                | FPP                  |\n",
       "| 6 | AAACCTGGTAGGCATG-1-0 | 0                    | HPSI0114i-eipl_1     | 5245STDY7352549      | 0                    | D11                  | pool1                | NONE                 | 11709                | FPP                  |\n",
       "\n"
      ],
      "text/plain": [
       "  index                batch donor_id         sample_id       cluster_id\n",
       "4 AAACCTGAGGAATGGA-1-0 0     HPSI0114i-eipl_1 5245STDY7352549 0         \n",
       "6 AAACCTGGTAGGCATG-1-0 0     HPSI0114i-eipl_1 5245STDY7352549 0         \n",
       "  time_point pool_id treatment n_counts_all celltype\n",
       "4 D11        pool1   NONE      14383        FPP     \n",
       "6 D11        pool1   NONE      11709        FPP     "
      ]
     },
     "metadata": {},
     "output_type": "display_data"
    }
   ],
   "source": [
    "filename = paste0(mydir, \"pool1_13_noddd_D11.scanpy.w_metadata.w_celltype.scanpy.obs_df.tsv\")\n",
    "df = read.csv(filename, sep = \"\\t\")\n",
    "df = df[df$celltype == \"FPP\",]\n",
    "nrow(df)\n",
    "head(df,2)"
   ]
  },
  {
   "cell_type": "code",
   "execution_count": 60,
   "metadata": {},
   "outputs": [
    {
     "data": {
      "text/html": [
       "<table>\n",
       "<thead><tr><th scope=col>donor_id</th><th scope=col>total_reads</th></tr></thead>\n",
       "<tbody>\n",
       "\t<tr><td>HPSI0114i-eipl_1</td><td>20661540        </td></tr>\n",
       "\t<tr><td>HPSI0114i-kolf_2</td><td> 3162958        </td></tr>\n",
       "</tbody>\n",
       "</table>\n"
      ],
      "text/latex": [
       "\\begin{tabular}{r|ll}\n",
       " donor\\_id & total\\_reads\\\\\n",
       "\\hline\n",
       "\t HPSI0114i-eipl\\_1 & 20661540          \\\\\n",
       "\t HPSI0114i-kolf\\_2 &  3162958          \\\\\n",
       "\\end{tabular}\n"
      ],
      "text/markdown": [
       "\n",
       "| donor_id | total_reads |\n",
       "|---|---|\n",
       "| HPSI0114i-eipl_1 | 20661540         |\n",
       "| HPSI0114i-kolf_2 |  3162958         |\n",
       "\n"
      ],
      "text/plain": [
       "  donor_id         total_reads\n",
       "1 HPSI0114i-eipl_1 20661540   \n",
       "2 HPSI0114i-kolf_2  3162958   "
      ]
     },
     "metadata": {},
     "output_type": "display_data"
    }
   ],
   "source": [
    "df2= df %>% group_by(donor_id) %>% summarise(total_reads = sum(n_counts_all))\n",
    "head(df2,2)"
   ]
  },
  {
   "cell_type": "code",
   "execution_count": 61,
   "metadata": {},
   "outputs": [
    {
     "data": {
      "text/html": [
       "177"
      ],
      "text/latex": [
       "177"
      ],
      "text/markdown": [
       "177"
      ],
      "text/plain": [
       "[1] 177"
      ]
     },
     "metadata": {},
     "output_type": "display_data"
    }
   ],
   "source": [
    "nrow(df2)"
   ]
  },
  {
   "cell_type": "code",
   "execution_count": 62,
   "metadata": {},
   "outputs": [
    {
     "data": {
      "text/html": [
       "<ol class=list-inline>\n",
       "\t<li>'HPSI0114i-eipl_1'</li>\n",
       "\t<li>'HPSI0114i-kolf_2'</li>\n",
       "\t<li>'HPSI0114i-wegi_1'</li>\n",
       "\t<li>'HPSI0115i-aion_2'</li>\n",
       "\t<li>'HPSI0115i-aoxv_1'</li>\n",
       "\t<li>'HPSI0115i-bimq_4'</li>\n",
       "</ol>\n"
      ],
      "text/latex": [
       "\\begin{enumerate*}\n",
       "\\item 'HPSI0114i-eipl\\_1'\n",
       "\\item 'HPSI0114i-kolf\\_2'\n",
       "\\item 'HPSI0114i-wegi\\_1'\n",
       "\\item 'HPSI0115i-aion\\_2'\n",
       "\\item 'HPSI0115i-aoxv\\_1'\n",
       "\\item 'HPSI0115i-bimq\\_4'\n",
       "\\end{enumerate*}\n"
      ],
      "text/markdown": [
       "1. 'HPSI0114i-eipl_1'\n",
       "2. 'HPSI0114i-kolf_2'\n",
       "3. 'HPSI0114i-wegi_1'\n",
       "4. 'HPSI0115i-aion_2'\n",
       "5. 'HPSI0115i-aoxv_1'\n",
       "6. 'HPSI0115i-bimq_4'\n",
       "\n",
       "\n"
      ],
      "text/plain": [
       "[1] \"HPSI0114i-eipl_1\" \"HPSI0114i-kolf_2\" \"HPSI0114i-wegi_1\" \"HPSI0115i-aion_2\"\n",
       "[5] \"HPSI0115i-aoxv_1\" \"HPSI0115i-bimq_4\""
      ]
     },
     "metadata": {},
     "output_type": "display_data"
    }
   ],
   "source": [
    "donors_keep = as.character(df_donor[df_donor$n >= N,\"donor_id\"]$donor_id)\n",
    "head(donors_keep)"
   ]
  },
  {
   "cell_type": "code",
   "execution_count": 63,
   "metadata": {},
   "outputs": [],
   "source": [
    "df2$donor_id = as.character(df2$donor_id)"
   ]
  },
  {
   "cell_type": "code",
   "execution_count": 64,
   "metadata": {},
   "outputs": [],
   "source": [
    "df2 = df2[df2$donor_id %in% donors_keep,]"
   ]
  },
  {
   "cell_type": "code",
   "execution_count": 65,
   "metadata": {},
   "outputs": [
    {
     "data": {
      "text/html": [
       "17182"
      ],
      "text/latex": [
       "17182"
      ],
      "text/markdown": [
       "17182"
      ],
      "text/plain": [
       "[1] 17182"
      ]
     },
     "metadata": {},
     "output_type": "display_data"
    },
    {
     "data": {
      "text/html": [
       "9716676.07471264"
      ],
      "text/latex": [
       "9716676.07471264"
      ],
      "text/markdown": [
       "9716676.07471264"
      ],
      "text/plain": [
       "[1] 9716676"
      ]
     },
     "metadata": {},
     "output_type": "display_data"
    },
    {
     "data": {
      "text/html": [
       "114528348"
      ],
      "text/latex": [
       "114528348"
      ],
      "text/markdown": [
       "114528348"
      ],
      "text/plain": [
       "[1] 114528348"
      ]
     },
     "metadata": {},
     "output_type": "display_data"
    }
   ],
   "source": [
    "min(df2$total_reads)\n",
    "mean(df2$total_reads)\n",
    "max(df2$total_reads)"
   ]
  },
  {
   "cell_type": "code",
   "execution_count": null,
   "metadata": {},
   "outputs": [],
   "source": []
  }
 ],
 "metadata": {
  "kernelspec": {
   "display_name": "R",
   "language": "R",
   "name": "ir"
  },
  "language_info": {
   "codemirror_mode": "r",
   "file_extension": ".r",
   "mimetype": "text/x-r-source",
   "name": "R",
   "pygments_lexer": "r",
   "version": "3.6.1"
  }
 },
 "nbformat": 4,
 "nbformat_minor": 4
}
