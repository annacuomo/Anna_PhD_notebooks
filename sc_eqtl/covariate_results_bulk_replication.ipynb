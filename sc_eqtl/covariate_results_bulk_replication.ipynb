{
 "cells": [
  {
   "cell_type": "code",
   "execution_count": 1,
   "metadata": {},
   "outputs": [
    {
     "data": {
      "text/html": [
       "3750"
      ],
      "text/latex": [
       "3750"
      ],
      "text/markdown": [
       "3750"
      ],
      "text/plain": [
       "[1] 3750"
      ]
     },
     "metadata": {},
     "output_type": "display_data"
    }
   ],
   "source": [
    "mean_folder = \"/hps/nobackup/hipsci/scratch/ComparingQtlMapping/SingleCell/PseudoBulk/mean/\"\n",
    "my_folder = paste0(mean_folder,\"Run_Output_PCA5_88_log_TPM_scater_libsize_206/\") # scran, 5PCs, mean, chr2\n",
    "df0 = read.csv(paste0(my_folder,\"top_qtl_results_all.txt\"), sep = \"\\t\")\n",
    "chr2_genes = unique(df0$feature_id)\n",
    "length(chr2_genes)"
   ]
  },
  {
   "cell_type": "code",
   "execution_count": 2,
   "metadata": {},
   "outputs": [
    {
     "data": {
      "text/html": [
       "21592"
      ],
      "text/latex": [
       "21592"
      ],
      "text/markdown": [
       "21592"
      ],
      "text/plain": [
       "[1] 21592"
      ]
     },
     "metadata": {},
     "output_type": "display_data"
    }
   ],
   "source": [
    "Giordanos_selection = \"/hps/nobackup/stegle/users/galvari/data/iPSCs/singleCell/metadata/ensembl_gene/Ensembl_75_Gene_CV_quant5.txt\"\n",
    "G_file = read.csv(Giordanos_selection, sep = \"\\t\")\n",
    "nrow(G_file)\n",
    "# head(G_file,2)"
   ]
  },
  {
   "cell_type": "code",
   "execution_count": 3,
   "metadata": {},
   "outputs": [
    {
     "data": {
      "text/html": [
       "10840"
      ],
      "text/latex": [
       "10840"
      ],
      "text/markdown": [
       "10840"
      ],
      "text/plain": [
       "[1] 10840"
      ]
     },
     "metadata": {},
     "output_type": "display_data"
    }
   ],
   "source": [
    "Annas_selection = \"/hps/nobackup/stegle/users/acuomo/all_scripts/sc_neuroseq/ips_genes_assessed.csv\"\n",
    "A_file = read.csv(Annas_selection)\n",
    "A_file$gene = gsub(\"_.*\",\"\",A_file$genes)\n",
    "nrow(A_file)\n",
    "# head(A_file,2)"
   ]
  },
  {
   "cell_type": "code",
   "execution_count": null,
   "metadata": {},
   "outputs": [],
   "source": []
  },
  {
   "cell_type": "code",
   "execution_count": 4,
   "metadata": {},
   "outputs": [],
   "source": [
    "# if (!requireNamespace(\"BiocManager\", quietly = TRUE))\n",
    "#     install.packages(\"BiocManager\")\n",
    "\n",
    "# BiocManager::install(\"qvalue\")"
   ]
  },
  {
   "cell_type": "code",
   "execution_count": 5,
   "metadata": {},
   "outputs": [],
   "source": [
    "library(qvalue)"
   ]
  },
  {
   "cell_type": "code",
   "execution_count": 6,
   "metadata": {},
   "outputs": [
    {
     "name": "stderr",
     "output_type": "stream",
     "text": [
      "\n",
      "Attaching package: ‘dplyr’\n",
      "\n",
      "The following objects are masked from ‘package:stats’:\n",
      "\n",
      "    filter, lag\n",
      "\n",
      "The following objects are masked from ‘package:base’:\n",
      "\n",
      "    intersect, setdiff, setequal, union\n",
      "\n"
     ]
    }
   ],
   "source": [
    "library(dplyr)"
   ]
  },
  {
   "cell_type": "code",
   "execution_count": 8,
   "metadata": {},
   "outputs": [],
   "source": [
    "bulk_matched_folder = \"/hps/nobackup/hipsci/scratch/ComparingQtlMapping/Bulk/BulkDay0Healthy_PCA20_88_206/\""
   ]
  },
  {
   "cell_type": "code",
   "execution_count": 9,
   "metadata": {},
   "outputs": [
    {
     "data": {
      "text/html": [
       "16691457"
      ],
      "text/latex": [
       "16691457"
      ],
      "text/markdown": [
       "16691457"
      ],
      "text/plain": [
       "[1] 16691457"
      ]
     },
     "metadata": {},
     "output_type": "display_data"
    }
   ],
   "source": [
    "res = read.csv(paste0(bulk_matched_folder,\"qtl_results_all.txt\"), sep = \"\\t\")\n",
    "nrow(res)"
   ]
  },
  {
   "cell_type": "code",
   "execution_count": 10,
   "metadata": {},
   "outputs": [],
   "source": [
    "# bulk_folder = \"/hps/nobackup/hipsci/scratch/ComparingQtlMapping/Bulk/BulkTotal/\"\n",
    "bulk_folder = \"/hps/nobackup/hipsci/scratch/ComparingQtlMapping/Bulk/BulkTotal_PCA20/\""
   ]
  },
  {
   "cell_type": "code",
   "execution_count": 11,
   "metadata": {},
   "outputs": [
    {
     "data": {
      "text/html": [
       "18974762"
      ],
      "text/latex": [
       "18974762"
      ],
      "text/markdown": [
       "18974762"
      ],
      "text/plain": [
       "[1] 18974762"
      ]
     },
     "metadata": {},
     "output_type": "display_data"
    }
   ],
   "source": [
    "res_all = read.csv(paste0(bulk_folder,\"qtl_results_all.txt\"), sep = \"\\t\")\n",
    "nrow(res_all)"
   ]
  },
  {
   "cell_type": "code",
   "execution_count": null,
   "metadata": {},
   "outputs": [],
   "source": []
  },
  {
   "cell_type": "code",
   "execution_count": 12,
   "metadata": {},
   "outputs": [],
   "source": [
    "##### Mean"
   ]
  },
  {
   "cell_type": "code",
   "execution_count": 7,
   "metadata": {},
   "outputs": [],
   "source": [
    "mean_folder = \"/hps/nobackup/hipsci/scratch/ComparingQtlMapping/SingleCell/PseudoBulk/mean/\""
   ]
  },
  {
   "cell_type": "code",
   "execution_count": 8,
   "metadata": {},
   "outputs": [],
   "source": [
    "#### Chromosome 2"
   ]
  },
  {
   "cell_type": "code",
   "execution_count": 9,
   "metadata": {},
   "outputs": [],
   "source": [
    "##### 0 covs"
   ]
  },
  {
   "cell_type": "code",
   "execution_count": 10,
   "metadata": {},
   "outputs": [],
   "source": [
    "my_folder = paste0(mean_folder,\"Run_Output_NoFactor_88_log_TPM_scater_libsize_206_correct/\") # "
   ]
  },
  {
   "cell_type": "code",
   "execution_count": 14,
   "metadata": {},
   "outputs": [],
   "source": [
    "#### PCs"
   ]
  },
  {
   "cell_type": "code",
   "execution_count": 66,
   "metadata": {},
   "outputs": [],
   "source": [
    "my_folder = paste0(mean_folder,\"Run_Output_PCA5_88_log_TPM_scater_libsize_206/\") # scran, 5PCs\n",
    "my_folder = paste0(mean_folder,\"Run_Output_PCA10_88_log_TPM_scater_libsize_206/\") # scran, 10PCs\n",
    "my_folder = paste0(mean_folder,\"Run_Output_PCA15_88_log_TPM_scater_libsize_206/\") # scran, 15PCs\n",
    "my_folder = paste0(mean_folder,\"Run_Output_PCA25_88_log_TPM_scater_libsize_206/\") # scran, 25PCs"
   ]
  },
  {
   "cell_type": "code",
   "execution_count": 83,
   "metadata": {},
   "outputs": [],
   "source": [
    "# # this file contains all chromosomes\n",
    "my_folder = paste0(mean_folder,\"Run_Output_PCA20_88_log_TPM_scater_libsize_206/\") # scran, 20PCs"
   ]
  },
  {
   "cell_type": "code",
   "execution_count": 84,
   "metadata": {},
   "outputs": [],
   "source": [
    "#### MOFA factors (sparse)"
   ]
  },
  {
   "cell_type": "code",
   "execution_count": 185,
   "metadata": {},
   "outputs": [],
   "source": [
    "# my_folder = paste0(mean_folder,\"Run_Output_MOFA5_88_log_TPM_scater_libsize_206/\") # scran, 5 MOFA factors\n",
    "# my_folder = paste0(mean_folder,\"Run_Output_MOFA10_88_log_TPM_scater_libsize_206/\") # scran, 10 MOFA factors\n",
    "# my_folder = paste0(mean_folder,\"Run_Output_MOFA15_88_log_TPM_scater_libsize_206/\") # scran, 15 MOFA factors\n",
    "my_folder = paste0(mean_folder,\"Run_Output_MOFA20_88_log_TPM_scater_libsize_206/\") # scran, 20 MOFA factors\n",
    "# my_folder = paste0(mean_folder,\"Run_Output_MOFA25_88_log_TPM_scater_libsize_206/\") # scran, 25 MOFA factors"
   ]
  },
  {
   "cell_type": "code",
   "execution_count": null,
   "metadata": {},
   "outputs": [],
   "source": [
    "#### MOFA factors (non sparse)"
   ]
  },
  {
   "cell_type": "code",
   "execution_count": 128,
   "metadata": {},
   "outputs": [],
   "source": [
    "my_folder = paste0(mean_folder,\"Run_Output_MOFA5_88_log_TPM_scater_libsize_206_nonsparse/\") # scran, 5 MOFA factors\n",
    "my_folder = paste0(mean_folder,\"Run_Output_MOFA10_88_log_TPM_scater_libsize_206_nonsparse/\") # scran, 10 MOFA factors\n",
    "my_folder = paste0(mean_folder,\"Run_Output_MOFA15_88_log_TPM_scater_libsize_206_nonsparse/\") # scran, 15 MOFA factors\n",
    "my_folder = paste0(mean_folder,\"Run_Output_MOFA20_88_log_TPM_scater_libsize_206_nonsparse/\") # scran, 20 MOFA factors\n",
    "my_folder = paste0(mean_folder,\"Run_Output_MOFA25_88_log_TPM_scater_libsize_206_nonsparse/\") # scran, 25 MOFA factors"
   ]
  },
  {
   "cell_type": "code",
   "execution_count": 142,
   "metadata": {},
   "outputs": [],
   "source": [
    "#### PEER factors"
   ]
  },
  {
   "cell_type": "code",
   "execution_count": 176,
   "metadata": {},
   "outputs": [],
   "source": [
    "my_folder = paste0(mean_folder,\"Run_Output_PEER5_88_log_TPM_scater_libsize_206/\") # scran, 5 PEER factors\n",
    "my_folder = paste0(mean_folder,\"Run_Output_PEER10_88_log_TPM_scater_libsize_206/\") # scran, 10 PEER factors\n",
    "my_folder = paste0(mean_folder,\"Run_Output_PEER15_88_log_TPM_scater_libsize_206/\") # scran, 15 PEER factors\n",
    "my_folder = paste0(mean_folder,\"Run_Output_PEER20_88_log_TPM_scater_libsize_206/\") # scran, 20 PEER factors\n",
    "my_folder = paste0(mean_folder,\"Run_Output_PEER25_88_log_TPM_scater_libsize_206/\") # scran, 25 PEER factors"
   ]
  },
  {
   "cell_type": "code",
   "execution_count": 192,
   "metadata": {},
   "outputs": [],
   "source": [
    "#### SVD"
   ]
  },
  {
   "cell_type": "code",
   "execution_count": 78,
   "metadata": {},
   "outputs": [],
   "source": [
    "my_folder = paste0(mean_folder,\"Run_Output_SVD5_88_log_TPM_scater_libsize_206/\") # scran, 5 SVD (SVI?) factors\n",
    "# my_folder = paste0(mean_folder,\"Run_Output_SVD10_88_log_TPM_scater_libsize_206/\") # scran, 10 SVD (SVI?) factors\n",
    "# my_folder = paste0(mean_folder,\"Run_Output_SVD15_88_log_TPM_scater_libsize_206/\") # scran, 15 SVD (SVI?) factors\n",
    "# my_folder = paste0(mean_folder,\"Run_Output_SVD20_88_log_TPM_scater_libsize_206/Run_Output_PCA20_88_log_TPM_scater_libsize_206_SVD/\") # scran, 20 SVD factors\n",
    "# my_folder = paste0(mean_folder,\"Run_Output_SVD25_88_log_TPM_scater_libsize_206/\") # scran, 25 SVD (SVI?) factors"
   ]
  },
  {
   "cell_type": "code",
   "execution_count": null,
   "metadata": {},
   "outputs": [],
   "source": [
    "#### LDVAE (linear scVI)"
   ]
  },
  {
   "cell_type": "code",
   "execution_count": 68,
   "metadata": {},
   "outputs": [],
   "source": [
    "my_folder = paste0(mean_folder,\"Run_Output_LDVAE5_88_log_TPM_scater_libsize_206/\") # scran, 5 LDVAE factors\n",
    "# my_folder = paste0(mean_folder,\"Run_Output_LDVAE10_88_log_TPM_scater_libsize_206/\") # scran, 10 LDVAE factors\n",
    "# my_folder = paste0(mean_folder,\"Run_Output_LDVAE15_88_log_TPM_scater_libsize_206/\") # scran, 15 LDVAE factors\n",
    "# my_folder = paste0(mean_folder,\"Run_Output_LDVAE20_88_log_TPM_scater_libsize_206/\") # scran, 20 LDVAE factors\n",
    "# my_folder = paste0(mean_folder,\"Run_Output_LDVAE25_88_log_TPM_scater_libsize_206/\") # scran, 25 LDVAE factors"
   ]
  },
  {
   "cell_type": "code",
   "execution_count": 112,
   "metadata": {},
   "outputs": [
    {
     "data": {
      "text/html": [
       "'/hps/nobackup/hipsci/scratch/ComparingQtlMapping/SingleCell/PseudoBulk/mean/Run_Output_MOFA20_88_log_TPM_scater_libsize_206_nonsparse/'"
      ],
      "text/latex": [
       "'/hps/nobackup/hipsci/scratch/ComparingQtlMapping/SingleCell/PseudoBulk/mean/Run\\_Output\\_MOFA20\\_88\\_log\\_TPM\\_scater\\_libsize\\_206\\_nonsparse/'"
      ],
      "text/markdown": [
       "'/hps/nobackup/hipsci/scratch/ComparingQtlMapping/SingleCell/PseudoBulk/mean/Run_Output_MOFA20_88_log_TPM_scater_libsize_206_nonsparse/'"
      ],
      "text/plain": [
       "[1] \"/hps/nobackup/hipsci/scratch/ComparingQtlMapping/SingleCell/PseudoBulk/mean/Run_Output_MOFA20_88_log_TPM_scater_libsize_206_nonsparse/\""
      ]
     },
     "metadata": {},
     "output_type": "display_data"
    }
   ],
   "source": [
    "my_folder"
   ]
  },
  {
   "cell_type": "code",
   "execution_count": 186,
   "metadata": {},
   "outputs": [
    {
     "name": "stderr",
     "output_type": "stream",
     "text": [
      "Warning message in file(file, \"rt\"):\n",
      "“cannot open file '/hps/nobackup/hipsci/scratch/ComparingQtlMapping/SingleCell/PseudoBulk/mean/Run_Output_MOFA20_88_log_TPM_scater_libsize_206/top_qtl_results_all.txt': No such file or directory”"
     ]
    },
    {
     "ename": "ERROR",
     "evalue": "Error in file(file, \"rt\"): cannot open the connection\n",
     "output_type": "error",
     "traceback": [
      "Error in file(file, \"rt\"): cannot open the connection\nTraceback:\n",
      "1. read.csv(paste0(my_folder, \"top_qtl_results_all.txt\"), sep = \"\\t\")",
      "2. read.table(file = file, header = header, sep = sep, quote = quote, \n .     dec = dec, fill = fill, comment.char = comment.char, ...)",
      "3. file(file, \"rt\")"
     ]
    }
   ],
   "source": [
    "df0 = read.csv(paste0(my_folder,\"top_qtl_results_all.txt\"), sep = \"\\t\")\n",
    "df0 <- df0[-which(duplicated(df0$feature_id)),]\n",
    "df0 = df0[df0$feature_id %in% chr2_genes,]\n",
    "nrow(df0)"
   ]
  },
  {
   "cell_type": "code",
   "execution_count": 178,
   "metadata": {},
   "outputs": [
    {
     "data": {
      "text/html": [
       "<table>\n",
       "<thead><tr><th scope=col>snp_id</th><th scope=col>p_value</th><th scope=col>beta</th><th scope=col>beta_se</th><th scope=col>empirical_feature_p_value</th><th scope=col>feature_chromosome</th><th scope=col>feature_start</th><th scope=col>feature_end</th><th scope=col>n_samples</th><th scope=col>n_e_samples</th><th scope=col>alpha_param</th><th scope=col>beta_param</th><th scope=col>snp_chromosome</th><th scope=col>snp_position</th><th scope=col>assessed_allele</th><th scope=col>call_rate</th><th scope=col>maf</th><th scope=col>hwe_p</th><th scope=col>feature_id</th></tr></thead>\n",
       "<tbody>\n",
       "\t<tr><td>2_131078545_T_C</td><td>0.08805482     </td><td>0.2484045      </td><td>0.1456278      </td><td>0.8003876      </td><td>2              </td><td>131113580      </td><td>131132982      </td><td>152            </td><td>87             </td><td>1.3552503      </td><td> 9.37052       </td><td>2              </td><td>131078545      </td><td>C              </td><td>1              </td><td>0.1264368      </td><td>1.0000000      </td><td>ENSG00000072135</td></tr>\n",
       "\t<tr><td>2_128469348_A_T</td><td>0.13175044     </td><td>0.2290959      </td><td>0.1519975      </td><td>0.9971225      </td><td>2              </td><td>128395956      </td><td>128439360      </td><td>152            </td><td>87             </td><td>0.3940426      </td><td>43.79151       </td><td>2              </td><td>128469348      </td><td>T              </td><td>1              </td><td>0.1724138      </td><td>0.4486973      </td><td>ENSG00000072163</td></tr>\n",
       "</tbody>\n",
       "</table>\n"
      ],
      "text/latex": [
       "\\begin{tabular}{r|lllllllllllllllllll}\n",
       " snp\\_id & p\\_value & beta & beta\\_se & empirical\\_feature\\_p\\_value & feature\\_chromosome & feature\\_start & feature\\_end & n\\_samples & n\\_e\\_samples & alpha\\_param & beta\\_param & snp\\_chromosome & snp\\_position & assessed\\_allele & call\\_rate & maf & hwe\\_p & feature\\_id\\\\\n",
       "\\hline\n",
       "\t 2\\_131078545\\_T\\_C & 0.08805482            & 0.2484045             & 0.1456278             & 0.8003876             & 2                     & 131113580             & 131132982             & 152                   & 87                    & 1.3552503             &  9.37052              & 2                     & 131078545             & C                     & 1                     & 0.1264368             & 1.0000000             & ENSG00000072135      \\\\\n",
       "\t 2\\_128469348\\_A\\_T & 0.13175044            & 0.2290959             & 0.1519975             & 0.9971225             & 2                     & 128395956             & 128439360             & 152                   & 87                    & 0.3940426             & 43.79151              & 2                     & 128469348             & T                     & 1                     & 0.1724138             & 0.4486973             & ENSG00000072163      \\\\\n",
       "\\end{tabular}\n"
      ],
      "text/markdown": [
       "\n",
       "| snp_id | p_value | beta | beta_se | empirical_feature_p_value | feature_chromosome | feature_start | feature_end | n_samples | n_e_samples | alpha_param | beta_param | snp_chromosome | snp_position | assessed_allele | call_rate | maf | hwe_p | feature_id |\n",
       "|---|---|---|---|---|---|---|---|---|---|---|---|---|---|---|---|---|---|---|\n",
       "| 2_131078545_T_C | 0.08805482      | 0.2484045       | 0.1456278       | 0.8003876       | 2               | 131113580       | 131132982       | 152             | 87              | 1.3552503       |  9.37052        | 2               | 131078545       | C               | 1               | 0.1264368       | 1.0000000       | ENSG00000072135 |\n",
       "| 2_128469348_A_T | 0.13175044      | 0.2290959       | 0.1519975       | 0.9971225       | 2               | 128395956       | 128439360       | 152             | 87              | 0.3940426       | 43.79151        | 2               | 128469348       | T               | 1               | 0.1724138       | 0.4486973       | ENSG00000072163 |\n",
       "\n"
      ],
      "text/plain": [
       "  snp_id          p_value    beta      beta_se   empirical_feature_p_value\n",
       "1 2_131078545_T_C 0.08805482 0.2484045 0.1456278 0.8003876                \n",
       "2 2_128469348_A_T 0.13175044 0.2290959 0.1519975 0.9971225                \n",
       "  feature_chromosome feature_start feature_end n_samples n_e_samples\n",
       "1 2                  131113580     131132982   152       87         \n",
       "2 2                  128395956     128439360   152       87         \n",
       "  alpha_param beta_param snp_chromosome snp_position assessed_allele call_rate\n",
       "1 1.3552503    9.37052   2              131078545    C               1        \n",
       "2 0.3940426   43.79151   2              128469348    T               1        \n",
       "  maf       hwe_p     feature_id     \n",
       "1 0.1264368 1.0000000 ENSG00000072135\n",
       "2 0.1724138 0.4486973 ENSG00000072163"
      ]
     },
     "metadata": {},
     "output_type": "display_data"
    }
   ],
   "source": [
    "head(df0,2)"
   ]
  },
  {
   "cell_type": "code",
   "execution_count": 179,
   "metadata": {},
   "outputs": [
    {
     "data": {
      "text/html": [
       "3750"
      ],
      "text/latex": [
       "3750"
      ],
      "text/markdown": [
       "3750"
      ],
      "text/plain": [
       "[1] 3750"
      ]
     },
     "metadata": {},
     "output_type": "display_data"
    },
    {
     "data": {
      "text/html": [
       "1421"
      ],
      "text/latex": [
       "1421"
      ],
      "text/markdown": [
       "1421"
      ],
      "text/plain": [
       "[1] 1421"
      ]
     },
     "metadata": {},
     "output_type": "display_data"
    },
    {
     "data": {
      "text/html": [
       "183"
      ],
      "text/latex": [
       "183"
      ],
      "text/markdown": [
       "183"
      ],
      "text/plain": [
       "[1] 183"
      ]
     },
     "metadata": {},
     "output_type": "display_data"
    }
   ],
   "source": [
    "length(unique(df0$feature_id))\n",
    "df1 = df0[df0$feature_id %in% G_file$gene,]\n",
    "# df1 = df0[df0$feature_id %in% common_genes,]\n",
    "length(unique(df1$feature_id))\n",
    "df1$q_value = qvalue(df1$empirical_feature_p_value)$qvalues\n",
    "length(unique(df1[df1$q_value < 0.05,'feature_id']))"
   ]
  },
  {
   "cell_type": "code",
   "execution_count": 180,
   "metadata": {},
   "outputs": [
    {
     "data": {
      "text/html": [
       "183"
      ],
      "text/latex": [
       "183"
      ],
      "text/markdown": [
       "183"
      ],
      "text/plain": [
       "[1] 183"
      ]
     },
     "metadata": {},
     "output_type": "display_data"
    }
   ],
   "source": [
    "df3 = df1[df1$q_value < 0.05,]\n",
    "nrow(df3)"
   ]
  },
  {
   "cell_type": "code",
   "execution_count": 181,
   "metadata": {},
   "outputs": [
    {
     "name": "stderr",
     "output_type": "stream",
     "text": [
      "Warning message:\n",
      "“Column `snp_id` joining factors with different levels, coercing to character vector”Warning message:\n",
      "“Column `feature_id` joining factors with different levels, coercing to character vector”"
     ]
    },
    {
     "data": {
      "text/html": [
       "183"
      ],
      "text/latex": [
       "183"
      ],
      "text/markdown": [
       "183"
      ],
      "text/plain": [
       "[1] 183"
      ]
     },
     "metadata": {},
     "output_type": "display_data"
    }
   ],
   "source": [
    "df4 = inner_join(df3, res, by = c(\"snp_id\",\"feature_id\"), suffix = c(\".sc\",\".bulk\"))\n",
    "# df4 <- df4[-which(duplicated(df4$feature_id)),]\n",
    "nrow(df4)"
   ]
  },
  {
   "cell_type": "code",
   "execution_count": 182,
   "metadata": {},
   "outputs": [
    {
     "data": {
      "text/html": [
       "121"
      ],
      "text/latex": [
       "121"
      ],
      "text/markdown": [
       "121"
      ],
      "text/plain": [
       "[1] 121"
      ]
     },
     "metadata": {},
     "output_type": "display_data"
    },
    {
     "data": {
      "text/html": [
       "127"
      ],
      "text/latex": [
       "127"
      ],
      "text/markdown": [
       "127"
      ],
      "text/plain": [
       "[1] 127"
      ]
     },
     "metadata": {},
     "output_type": "display_data"
    }
   ],
   "source": [
    "nrow(df4[(df4$p_value.bulk < 0.05 & \n",
    "         (df4$beta.sc*df4$beta.bulk)>0),])\n",
    "nrow(df4[(df4$p_value.bulk < 0.05),])"
   ]
  },
  {
   "cell_type": "code",
   "execution_count": 183,
   "metadata": {},
   "outputs": [
    {
     "name": "stderr",
     "output_type": "stream",
     "text": [
      "Warning message:\n",
      "“Column `snp_id` joining factors with different levels, coercing to character vector”Warning message:\n",
      "“Column `feature_id` joining factors with different levels, coercing to character vector”"
     ]
    },
    {
     "data": {
      "text/html": [
       "183"
      ],
      "text/latex": [
       "183"
      ],
      "text/markdown": [
       "183"
      ],
      "text/plain": [
       "[1] 183"
      ]
     },
     "metadata": {},
     "output_type": "display_data"
    }
   ],
   "source": [
    "df5 = inner_join(df3, res_all, by = c(\"snp_id\",\"feature_id\"), suffix = c(\".sc\",\".bulk\"))\n",
    "# df5 <- df5[-which(duplicated(df5$feature_id)),]\n",
    "nrow(df5)"
   ]
  },
  {
   "cell_type": "code",
   "execution_count": 184,
   "metadata": {},
   "outputs": [
    {
     "data": {
      "text/html": [
       "138"
      ],
      "text/latex": [
       "138"
      ],
      "text/markdown": [
       "138"
      ],
      "text/plain": [
       "[1] 138"
      ]
     },
     "metadata": {},
     "output_type": "display_data"
    },
    {
     "data": {
      "text/html": [
       "147"
      ],
      "text/latex": [
       "147"
      ],
      "text/markdown": [
       "147"
      ],
      "text/plain": [
       "[1] 147"
      ]
     },
     "metadata": {},
     "output_type": "display_data"
    }
   ],
   "source": [
    "nrow(df5[(df5$p_value.bulk < 0.05 & \n",
    "         (df5$beta.sc*df5$beta.bulk)>0),])\n",
    "nrow(df5[(df5$p_value.bulk < 0.05),])"
   ]
  },
  {
   "cell_type": "code",
   "execution_count": null,
   "metadata": {},
   "outputs": [],
   "source": []
  },
  {
   "cell_type": "code",
   "execution_count": null,
   "metadata": {},
   "outputs": [],
   "source": []
  }
 ],
 "metadata": {
  "kernelspec": {
   "display_name": "R",
   "language": "R",
   "name": "ir"
  },
  "language_info": {
   "codemirror_mode": "r",
   "file_extension": ".r",
   "mimetype": "text/x-r-source",
   "name": "R",
   "pygments_lexer": "r",
   "version": "3.6.1"
  }
 },
 "nbformat": 4,
 "nbformat_minor": 4
}
