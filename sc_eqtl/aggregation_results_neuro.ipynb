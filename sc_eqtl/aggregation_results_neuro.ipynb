{
 "cells": [
  {
   "cell_type": "code",
   "execution_count": 55,
   "metadata": {},
   "outputs": [],
   "source": [
    "library(qvalue)"
   ]
  },
  {
   "cell_type": "code",
   "execution_count": 56,
   "metadata": {},
   "outputs": [
    {
     "data": {
      "text/html": [
       "16369"
      ],
      "text/latex": [
       "16369"
      ],
      "text/markdown": [
       "16369"
      ],
      "text/plain": [
       "[1] 16369"
      ]
     },
     "metadata": {},
     "output_type": "display_data"
    },
    {
     "data": {
      "text/html": [
       "<table>\n",
       "<thead><tr><th scope=col>index</th><th scope=col>gene_ids.0</th><th scope=col>gene</th></tr></thead>\n",
       "<tbody>\n",
       "\t<tr><td>OR4F5          </td><td>ENSG00000186092</td><td>ENSG00000186092</td></tr>\n",
       "\t<tr><td>RP11-34P13.8   </td><td>ENSG00000239945</td><td>ENSG00000239945</td></tr>\n",
       "</tbody>\n",
       "</table>\n"
      ],
      "text/latex": [
       "\\begin{tabular}{r|lll}\n",
       " index & gene\\_ids.0 & gene\\\\\n",
       "\\hline\n",
       "\t OR4F5           & ENSG00000186092 & ENSG00000186092\\\\\n",
       "\t RP11-34P13.8    & ENSG00000239945 & ENSG00000239945\\\\\n",
       "\\end{tabular}\n"
      ],
      "text/markdown": [
       "\n",
       "| index | gene_ids.0 | gene |\n",
       "|---|---|---|\n",
       "| OR4F5           | ENSG00000186092 | ENSG00000186092 |\n",
       "| RP11-34P13.8    | ENSG00000239945 | ENSG00000239945 |\n",
       "\n"
      ],
      "text/plain": [
       "  index        gene_ids.0      gene           \n",
       "1 OR4F5        ENSG00000186092 ENSG00000186092\n",
       "2 RP11-34P13.8 ENSG00000239945 ENSG00000239945"
      ]
     },
     "metadata": {},
     "output_type": "display_data"
    }
   ],
   "source": [
    "Giordanos_selection = \"/hps/nobackup/stegle/users/acuomo/all_scripts/sc_eqtl/neuro_5CV_filt.tsv\"\n",
    "G_file = read.csv(Giordanos_selection, sep = \"\\t\")\n",
    "G_file$gene = G_file$gene_ids.0\n",
    "nrow(G_file)\n",
    "head(G_file,2)"
   ]
  },
  {
   "cell_type": "code",
   "execution_count": 57,
   "metadata": {},
   "outputs": [],
   "source": [
    "my_folder = \"/hps/nobackup/stegle/users/acuomo/all_scripts/sc_eqtl/results_neuro/\""
   ]
  },
  {
   "cell_type": "code",
   "execution_count": 58,
   "metadata": {},
   "outputs": [],
   "source": [
    "# mean\n",
    "df0 = read.csv(paste0(my_folder,\"mean_top_qtl_results_all.txt\"), sep = \"\\t\")\n",
    "df0 <- df0[-which(duplicated(df0$feature_id)),]"
   ]
  },
  {
   "cell_type": "code",
   "execution_count": 59,
   "metadata": {},
   "outputs": [
    {
     "data": {
      "text/html": [
       "<table>\n",
       "<thead><tr><th scope=col>snp_id</th><th scope=col>p_value</th><th scope=col>beta</th><th scope=col>beta_se</th><th scope=col>empirical_feature_p_value</th><th scope=col>feature_chromosome</th><th scope=col>feature_start</th><th scope=col>feature_end</th><th scope=col>n_samples</th><th scope=col>n_e_samples</th><th scope=col>alpha_param</th><th scope=col>beta_param</th><th scope=col>snp_chromosome</th><th scope=col>snp_position</th><th scope=col>assessed_allele</th><th scope=col>call_rate</th><th scope=col>maf</th><th scope=col>hwe_p</th><th scope=col>feature_id</th></tr></thead>\n",
       "<tbody>\n",
       "\t<tr><td>19_45820238_C_G</td><td>2.870900e-02   </td><td>-0.1511366     </td><td>0.06909228     </td><td>5.659205e-01   </td><td>19             </td><td>45582546       </td><td>45808541       </td><td>635            </td><td>154            </td><td>1.646269       </td><td>11.66498       </td><td>19             </td><td>45820238       </td><td>G              </td><td>1              </td><td>0.2662338      </td><td>0.8373805      </td><td>ENSG00000007047</td></tr>\n",
       "\t<tr><td>19_45675873_T_C</td><td>6.224806e-05   </td><td>-0.2838824     </td><td>0.07089753     </td><td>8.521794e-05   </td><td>19             </td><td>45666186       </td><td>45681495       </td><td>635            </td><td>154            </td><td>1.329119       </td><td>41.02144       </td><td>19             </td><td>45675873       </td><td>C              </td><td>1              </td><td>0.1493506      </td><td>0.2008753      </td><td>ENSG00000007255</td></tr>\n",
       "</tbody>\n",
       "</table>\n"
      ],
      "text/latex": [
       "\\begin{tabular}{r|lllllllllllllllllll}\n",
       " snp\\_id & p\\_value & beta & beta\\_se & empirical\\_feature\\_p\\_value & feature\\_chromosome & feature\\_start & feature\\_end & n\\_samples & n\\_e\\_samples & alpha\\_param & beta\\_param & snp\\_chromosome & snp\\_position & assessed\\_allele & call\\_rate & maf & hwe\\_p & feature\\_id\\\\\n",
       "\\hline\n",
       "\t 19\\_45820238\\_C\\_G & 2.870900e-02          & -0.1511366            & 0.06909228            & 5.659205e-01          & 19                    & 45582546              & 45808541              & 635                   & 154                   & 1.646269              & 11.66498              & 19                    & 45820238              & G                     & 1                     & 0.2662338             & 0.8373805             & ENSG00000007047      \\\\\n",
       "\t 19\\_45675873\\_T\\_C & 6.224806e-05          & -0.2838824            & 0.07089753            & 8.521794e-05          & 19                    & 45666186              & 45681495              & 635                   & 154                   & 1.329119              & 41.02144              & 19                    & 45675873              & C                     & 1                     & 0.1493506             & 0.2008753             & ENSG00000007255      \\\\\n",
       "\\end{tabular}\n"
      ],
      "text/markdown": [
       "\n",
       "| snp_id | p_value | beta | beta_se | empirical_feature_p_value | feature_chromosome | feature_start | feature_end | n_samples | n_e_samples | alpha_param | beta_param | snp_chromosome | snp_position | assessed_allele | call_rate | maf | hwe_p | feature_id |\n",
       "|---|---|---|---|---|---|---|---|---|---|---|---|---|---|---|---|---|---|---|\n",
       "| 19_45820238_C_G | 2.870900e-02    | -0.1511366      | 0.06909228      | 5.659205e-01    | 19              | 45582546        | 45808541        | 635             | 154             | 1.646269        | 11.66498        | 19              | 45820238        | G               | 1               | 0.2662338       | 0.8373805       | ENSG00000007047 |\n",
       "| 19_45675873_T_C | 6.224806e-05    | -0.2838824      | 0.07089753      | 8.521794e-05    | 19              | 45666186        | 45681495        | 635             | 154             | 1.329119        | 41.02144        | 19              | 45675873        | C               | 1               | 0.1493506       | 0.2008753       | ENSG00000007255 |\n",
       "\n"
      ],
      "text/plain": [
       "  snp_id          p_value      beta       beta_se    empirical_feature_p_value\n",
       "1 19_45820238_C_G 2.870900e-02 -0.1511366 0.06909228 5.659205e-01             \n",
       "2 19_45675873_T_C 6.224806e-05 -0.2838824 0.07089753 8.521794e-05             \n",
       "  feature_chromosome feature_start feature_end n_samples n_e_samples\n",
       "1 19                 45582546      45808541    635       154        \n",
       "2 19                 45666186      45681495    635       154        \n",
       "  alpha_param beta_param snp_chromosome snp_position assessed_allele call_rate\n",
       "1 1.646269    11.66498   19             45820238     G               1        \n",
       "2 1.329119    41.02144   19             45675873     C               1        \n",
       "  maf       hwe_p     feature_id     \n",
       "1 0.2662338 0.8373805 ENSG00000007047\n",
       "2 0.1493506 0.2008753 ENSG00000007255"
      ]
     },
     "metadata": {},
     "output_type": "display_data"
    }
   ],
   "source": [
    "head(df0,2)"
   ]
  },
  {
   "cell_type": "code",
   "execution_count": 60,
   "metadata": {},
   "outputs": [
    {
     "data": {
      "text/html": [
       "10598"
      ],
      "text/latex": [
       "10598"
      ],
      "text/markdown": [
       "10598"
      ],
      "text/plain": [
       "[1] 10598"
      ]
     },
     "metadata": {},
     "output_type": "display_data"
    },
    {
     "data": {
      "text/html": [
       "10598"
      ],
      "text/latex": [
       "10598"
      ],
      "text/markdown": [
       "10598"
      ],
      "text/plain": [
       "[1] 10598"
      ]
     },
     "metadata": {},
     "output_type": "display_data"
    },
    {
     "data": {
      "text/html": [
       "2805"
      ],
      "text/latex": [
       "2805"
      ],
      "text/markdown": [
       "2805"
      ],
      "text/plain": [
       "[1] 2805"
      ]
     },
     "metadata": {},
     "output_type": "display_data"
    },
    {
     "data": {
      "text/html": [
       "3167"
      ],
      "text/latex": [
       "3167"
      ],
      "text/markdown": [
       "3167"
      ],
      "text/plain": [
       "[1] 3167"
      ]
     },
     "metadata": {},
     "output_type": "display_data"
    }
   ],
   "source": [
    "mean_genes = unique(df0$feature_id[df0$feature_id %in% G_file$gene])\n",
    "length(mean_genes)\n",
    "# df1 = df0\n",
    "# df1 = df0[df0$feature_id %in% G_file$gene,]\n",
    "df1 = df0[df0$feature_id %in% common_genes,]\n",
    "length(unique(df1$feature_id))\n",
    "df1$BH_fdr = p.adjust(df1$empirical_feature_p_value, method = 'BH')\n",
    "length(unique(df1[df1$BH_fdr < 0.05,'feature_id']))\n",
    "df1$q_value = qvalue(df1$empirical_feature_p_value)$qvalues\n",
    "length(unique(df1[df1$q_value < 0.05,'feature_id']))\n",
    "\n",
    "# df3 = df1[df1$q_value < 0.05,]\n",
    "# nrow(df3)"
   ]
  },
  {
   "cell_type": "code",
   "execution_count": 61,
   "metadata": {},
   "outputs": [],
   "source": [
    "# total mean\n",
    "df0 = read.csv(paste0(my_folder,\"totmean_top_qtl_results_all.txt\"), sep = \"\\t\")\n",
    "df0 <- df0[-which(duplicated(df0$feature_id)),]"
   ]
  },
  {
   "cell_type": "code",
   "execution_count": 62,
   "metadata": {},
   "outputs": [
    {
     "data": {
      "text/html": [
       "10598"
      ],
      "text/latex": [
       "10598"
      ],
      "text/markdown": [
       "10598"
      ],
      "text/plain": [
       "[1] 10598"
      ]
     },
     "metadata": {},
     "output_type": "display_data"
    },
    {
     "data": {
      "text/html": [
       "10598"
      ],
      "text/latex": [
       "10598"
      ],
      "text/markdown": [
       "10598"
      ],
      "text/plain": [
       "[1] 10598"
      ]
     },
     "metadata": {},
     "output_type": "display_data"
    },
    {
     "data": {
      "text/html": [
       "2108"
      ],
      "text/latex": [
       "2108"
      ],
      "text/markdown": [
       "2108"
      ],
      "text/plain": [
       "[1] 2108"
      ]
     },
     "metadata": {},
     "output_type": "display_data"
    },
    {
     "data": {
      "text/html": [
       "2660"
      ],
      "text/latex": [
       "2660"
      ],
      "text/markdown": [
       "2660"
      ],
      "text/plain": [
       "[1] 2660"
      ]
     },
     "metadata": {},
     "output_type": "display_data"
    }
   ],
   "source": [
    "totmean_genes = unique(df0$feature_id[df0$feature_id %in% G_file$gene])\n",
    "length(totmean_genes)\n",
    "# df1 = df0\n",
    "# df1 = df0[df0$feature_id %in% G_file$gene,]\n",
    "df1 = df0[df0$feature_id %in% common_genes,]\n",
    "length(unique(df1$feature_id))\n",
    "df1$BH_fdr = p.adjust(df1$empirical_feature_p_value, method = 'BH')\n",
    "length(unique(df1[df1$BH_fdr < 0.05,'feature_id']))\n",
    "df1$q_value = qvalue(df1$empirical_feature_p_value)$qvalues\n",
    "length(unique(df1[df1$q_value < 0.05,'feature_id']))\n",
    "\n",
    "# df3 = df1[df1$q_value < 0.05,]\n",
    "# nrow(df3)"
   ]
  },
  {
   "cell_type": "code",
   "execution_count": 63,
   "metadata": {},
   "outputs": [],
   "source": [
    "# median\n",
    "df0 = read.csv(paste0(my_folder,\"median_top_qtl_results_all.txt\"), sep = \"\\t\")\n",
    "df0 <- df0[-which(duplicated(df0$feature_id)),]"
   ]
  },
  {
   "cell_type": "code",
   "execution_count": 64,
   "metadata": {},
   "outputs": [
    {
     "data": {
      "text/html": [
       "5224"
      ],
      "text/latex": [
       "5224"
      ],
      "text/markdown": [
       "5224"
      ],
      "text/plain": [
       "[1] 5224"
      ]
     },
     "metadata": {},
     "output_type": "display_data"
    },
    {
     "data": {
      "text/html": [
       "5224"
      ],
      "text/latex": [
       "5224"
      ],
      "text/markdown": [
       "5224"
      ],
      "text/plain": [
       "[1] 5224"
      ]
     },
     "metadata": {},
     "output_type": "display_data"
    },
    {
     "data": {
      "text/html": [
       "1919"
      ],
      "text/latex": [
       "1919"
      ],
      "text/markdown": [
       "1919"
      ],
      "text/plain": [
       "[1] 1919"
      ]
     },
     "metadata": {},
     "output_type": "display_data"
    },
    {
     "data": {
      "text/html": [
       "1919"
      ],
      "text/latex": [
       "1919"
      ],
      "text/markdown": [
       "1919"
      ],
      "text/plain": [
       "[1] 1919"
      ]
     },
     "metadata": {},
     "output_type": "display_data"
    }
   ],
   "source": [
    "median_genes = unique(df0$feature_id[df0$feature_id %in% G_file$gene])\n",
    "length(median_genes)\n",
    "# df1 = df0\n",
    "# df1 = df0[df0$feature_id %in% G_file$gene,]\n",
    "df1 = df0[df0$feature_id %in% common_genes,]\n",
    "length(unique(df1$feature_id))\n",
    "df1$BH_fdr = p.adjust(df1$empirical_feature_p_value, method = 'BH')\n",
    "length(unique(df1[df1$BH_fdr < 0.05,'feature_id']))\n",
    "df1$q_value = qvalue(df1$empirical_feature_p_value)$qvalues\n",
    "length(unique(df1[df1$q_value < 0.05,'feature_id']))\n",
    "\n",
    "# df3 = df1[df1$q_value < 0.05,]\n",
    "# nrow(df3)"
   ]
  },
  {
   "cell_type": "code",
   "execution_count": 65,
   "metadata": {},
   "outputs": [],
   "source": [
    "# total median\n",
    "myfolder = \"/hps/nobackup/hipsci/scratch/ComparingQtlMapping/SingleCell/PseudoBulk/totmedian/Run_Output_PCA20_88_log_TPM_scater_libsize_206_neuro/\"\n",
    "df0 = read.csv(paste0(myfolder,\"top_qtl_results_all.txt\"), sep = \"\\t\")\n",
    "df0 <- df0[-which(duplicated(df0$feature_id)),]"
   ]
  },
  {
   "cell_type": "code",
   "execution_count": 66,
   "metadata": {},
   "outputs": [
    {
     "data": {
      "text/html": [
       "3448"
      ],
      "text/latex": [
       "3448"
      ],
      "text/markdown": [
       "3448"
      ],
      "text/plain": [
       "[1] 3448"
      ]
     },
     "metadata": {},
     "output_type": "display_data"
    },
    {
     "data": {
      "text/html": [
       "3448"
      ],
      "text/latex": [
       "3448"
      ],
      "text/markdown": [
       "3448"
      ],
      "text/plain": [
       "[1] 3448"
      ]
     },
     "metadata": {},
     "output_type": "display_data"
    },
    {
     "data": {
      "text/html": [
       "399"
      ],
      "text/latex": [
       "399"
      ],
      "text/markdown": [
       "399"
      ],
      "text/plain": [
       "[1] 399"
      ]
     },
     "metadata": {},
     "output_type": "display_data"
    },
    {
     "data": {
      "text/html": [
       "441"
      ],
      "text/latex": [
       "441"
      ],
      "text/markdown": [
       "441"
      ],
      "text/plain": [
       "[1] 441"
      ]
     },
     "metadata": {},
     "output_type": "display_data"
    }
   ],
   "source": [
    "totmedian_genes = unique(df0$feature_id[df0$feature_id %in% G_file$gene])\n",
    "length(totmedian_genes)\n",
    "# df1 = df0\n",
    "# df1 = df0[df0$feature_id %in% G_file$gene,]\n",
    "df1 = df0[df0$feature_id %in% common_genes,]\n",
    "length(unique(df1$feature_id))\n",
    "df1$BH_fdr = p.adjust(df1$empirical_feature_p_value, method = 'BH')\n",
    "length(unique(df1[df1$BH_fdr < 0.05,'feature_id']))\n",
    "df1$q_value = qvalue(df1$empirical_feature_p_value)$qvalues\n",
    "length(unique(df1[df1$q_value < 0.05,'feature_id']))\n",
    "\n",
    "# df3 = df1[df1$q_value < 0.05,]\n",
    "# nrow(df3)"
   ]
  },
  {
   "cell_type": "code",
   "execution_count": 67,
   "metadata": {},
   "outputs": [],
   "source": [
    "# sum\n",
    "df0 = read.csv(paste0(my_folder,\"sum_top_qtl_results_all.txt\"), sep = \"\\t\")\n",
    "df0 <- df0[-which(duplicated(df0$feature_id)),]"
   ]
  },
  {
   "cell_type": "code",
   "execution_count": 68,
   "metadata": {},
   "outputs": [
    {
     "data": {
      "text/html": [
       "10598"
      ],
      "text/latex": [
       "10598"
      ],
      "text/markdown": [
       "10598"
      ],
      "text/plain": [
       "[1] 10598"
      ]
     },
     "metadata": {},
     "output_type": "display_data"
    },
    {
     "data": {
      "text/html": [
       "10598"
      ],
      "text/latex": [
       "10598"
      ],
      "text/markdown": [
       "10598"
      ],
      "text/plain": [
       "[1] 10598"
      ]
     },
     "metadata": {},
     "output_type": "display_data"
    },
    {
     "data": {
      "text/html": [
       "2369"
      ],
      "text/latex": [
       "2369"
      ],
      "text/markdown": [
       "2369"
      ],
      "text/plain": [
       "[1] 2369"
      ]
     },
     "metadata": {},
     "output_type": "display_data"
    },
    {
     "data": {
      "text/html": [
       "2516"
      ],
      "text/latex": [
       "2516"
      ],
      "text/markdown": [
       "2516"
      ],
      "text/plain": [
       "[1] 2516"
      ]
     },
     "metadata": {},
     "output_type": "display_data"
    }
   ],
   "source": [
    "sum_genes = unique(df0$feature_id[df0$feature_id %in% G_file$gene])\n",
    "length(sum_genes)\n",
    "# df1 = df0\n",
    "# df1 = df0[df0$feature_id %in% G_file$gene,]\n",
    "df1 = df0[df0$feature_id %in% common_genes,]\n",
    "length(unique(df1$feature_id))\n",
    "df1$BH_fdr = p.adjust(df1$empirical_feature_p_value, method = 'BH')\n",
    "length(unique(df1[df1$BH_fdr < 0.05,'feature_id']))\n",
    "df1$q_value = qvalue(df1$empirical_feature_p_value)$qvalues\n",
    "length(unique(df1[df1$q_value < 0.05,'feature_id']))\n",
    "\n",
    "# df3 = df1[df1$q_value < 0.05,]\n",
    "# nrow(df3)"
   ]
  },
  {
   "cell_type": "code",
   "execution_count": 69,
   "metadata": {},
   "outputs": [],
   "source": [
    "# total sum\n",
    "df0 = read.csv(paste0(my_folder,\"totsum_top_qtl_results_all.txt\"), sep = \"\\t\")\n",
    "df0 <- df0[-which(duplicated(df0$feature_id)),]"
   ]
  },
  {
   "cell_type": "code",
   "execution_count": 70,
   "metadata": {},
   "outputs": [
    {
     "data": {
      "text/html": [
       "10598"
      ],
      "text/latex": [
       "10598"
      ],
      "text/markdown": [
       "10598"
      ],
      "text/plain": [
       "[1] 10598"
      ]
     },
     "metadata": {},
     "output_type": "display_data"
    },
    {
     "data": {
      "text/html": [
       "10598"
      ],
      "text/latex": [
       "10598"
      ],
      "text/markdown": [
       "10598"
      ],
      "text/plain": [
       "[1] 10598"
      ]
     },
     "metadata": {},
     "output_type": "display_data"
    },
    {
     "data": {
      "text/html": [
       "1566"
      ],
      "text/latex": [
       "1566"
      ],
      "text/markdown": [
       "1566"
      ],
      "text/plain": [
       "[1] 1566"
      ]
     },
     "metadata": {},
     "output_type": "display_data"
    },
    {
     "data": {
      "text/html": [
       "1939"
      ],
      "text/latex": [
       "1939"
      ],
      "text/markdown": [
       "1939"
      ],
      "text/plain": [
       "[1] 1939"
      ]
     },
     "metadata": {},
     "output_type": "display_data"
    }
   ],
   "source": [
    "totsum_genes = unique(df0$feature_id[df0$feature_id %in% G_file$gene])\n",
    "length(totsum_genes)\n",
    "# df1 = df0\n",
    "# df1 = df0[df0$feature_id %in% G_file$gene,]\n",
    "df1 = df0[df0$feature_id %in% common_genes,]\n",
    "length(unique(df1$feature_id))\n",
    "df1$BH_fdr = p.adjust(df1$empirical_feature_p_value, method = 'BH')\n",
    "length(unique(df1[df1$BH_fdr < 0.05,'feature_id']))\n",
    "df1$q_value = qvalue(df1$empirical_feature_p_value)$qvalues\n",
    "length(unique(df1[df1$q_value < 0.05,'feature_id']))\n",
    "\n",
    "# df3 = df1[df1$q_value < 0.05,]\n",
    "# nrow(df3)"
   ]
  },
  {
   "cell_type": "code",
   "execution_count": null,
   "metadata": {},
   "outputs": [],
   "source": []
  },
  {
   "cell_type": "code",
   "execution_count": 54,
   "metadata": {},
   "outputs": [
    {
     "data": {
      "text/html": [
       "10598"
      ],
      "text/latex": [
       "10598"
      ],
      "text/markdown": [
       "10598"
      ],
      "text/plain": [
       "[1] 10598"
      ]
     },
     "metadata": {},
     "output_type": "display_data"
    },
    {
     "data": {
      "text/html": [
       "10598"
      ],
      "text/latex": [
       "10598"
      ],
      "text/markdown": [
       "10598"
      ],
      "text/plain": [
       "[1] 10598"
      ]
     },
     "metadata": {},
     "output_type": "display_data"
    },
    {
     "data": {
      "text/html": [
       "10598"
      ],
      "text/latex": [
       "10598"
      ],
      "text/markdown": [
       "10598"
      ],
      "text/plain": [
       "[1] 10598"
      ]
     },
     "metadata": {},
     "output_type": "display_data"
    },
    {
     "data": {
      "text/html": [
       "5224"
      ],
      "text/latex": [
       "5224"
      ],
      "text/markdown": [
       "5224"
      ],
      "text/plain": [
       "[1] 5224"
      ]
     },
     "metadata": {},
     "output_type": "display_data"
    },
    {
     "data": {
      "text/html": [
       "3390"
      ],
      "text/latex": [
       "3390"
      ],
      "text/markdown": [
       "3390"
      ],
      "text/plain": [
       "[1] 3390"
      ]
     },
     "metadata": {},
     "output_type": "display_data"
    }
   ],
   "source": [
    "genes0 = mean_genes[mean_genes %in% totmean_genes]\n",
    "length(genes0)\n",
    "genes1 = genes0[genes0 %in% sum_genes]\n",
    "length(genes1)\n",
    "genes2 = genes1[genes1 %in% totsum_genes]\n",
    "length(genes2)\n",
    "common_genes = genes2\n",
    "genes3 = genes2[genes2 %in% median_genes]\n",
    "length(genes3)\n",
    "genes4 = genes3[genes3 %in% totmedian_genes]\n",
    "length(genes4)\n",
    "# common_genes = genes4"
   ]
  },
  {
   "cell_type": "code",
   "execution_count": null,
   "metadata": {},
   "outputs": [],
   "source": []
  },
  {
   "cell_type": "code",
   "execution_count": null,
   "metadata": {},
   "outputs": [],
   "source": []
  }
 ],
 "metadata": {
  "kernelspec": {
   "display_name": "R",
   "language": "R",
   "name": "ir"
  },
  "language_info": {
   "codemirror_mode": "r",
   "file_extension": ".r",
   "mimetype": "text/x-r-source",
   "name": "R",
   "pygments_lexer": "r",
   "version": "3.6.1"
  }
 },
 "nbformat": 4,
 "nbformat_minor": 4
}
