{
 "cells": [
  {
   "cell_type": "code",
   "execution_count": 1,
   "metadata": {},
   "outputs": [],
   "source": [
    "library(qvalue)"
   ]
  },
  {
   "cell_type": "code",
   "execution_count": 2,
   "metadata": {},
   "outputs": [
    {
     "data": {
      "text/html": [
       "21018"
      ],
      "text/latex": [
       "21018"
      ],
      "text/markdown": [
       "21018"
      ],
      "text/plain": [
       "[1] 21018"
      ]
     },
     "metadata": {},
     "output_type": "display_data"
    },
    {
     "data": {
      "text/html": [
       "<table>\n",
       "<thead><tr><th></th><th scope=col>feature_id</th><th scope=col>mean</th><th scope=col>sds</th><th scope=col>biotype</th><th scope=col>CV</th><th scope=col>quantile</th><th scope=col>gene</th></tr></thead>\n",
       "<tbody>\n",
       "\t<tr><th scope=row>3</th><td>ENSG00000243485</td><td>0.20764890     </td><td>0.8776503      </td><td>lincRNA        </td><td>4.226607       </td><td>4              </td><td>ENSG00000243485</td></tr>\n",
       "\t<tr><th scope=row>8</th><td>ENSG00000238009</td><td>0.04815047     </td><td>0.3279303      </td><td>lincRNA        </td><td>6.810531       </td><td>4              </td><td>ENSG00000238009</td></tr>\n",
       "</tbody>\n",
       "</table>\n"
      ],
      "text/latex": [
       "\\begin{tabular}{r|lllllll}\n",
       "  & feature\\_id & mean & sds & biotype & CV & quantile & gene\\\\\n",
       "\\hline\n",
       "\t3 & ENSG00000243485 & 0.20764890      & 0.8776503       & lincRNA         & 4.226607        & 4               & ENSG00000243485\\\\\n",
       "\t8 & ENSG00000238009 & 0.04815047      & 0.3279303       & lincRNA         & 6.810531        & 4               & ENSG00000238009\\\\\n",
       "\\end{tabular}\n"
      ],
      "text/markdown": [
       "\n",
       "| <!--/--> | feature_id | mean | sds | biotype | CV | quantile | gene |\n",
       "|---|---|---|---|---|---|---|---|\n",
       "| 3 | ENSG00000243485 | 0.20764890      | 0.8776503       | lincRNA         | 4.226607        | 4               | ENSG00000243485 |\n",
       "| 8 | ENSG00000238009 | 0.04815047      | 0.3279303       | lincRNA         | 6.810531        | 4               | ENSG00000238009 |\n",
       "\n"
      ],
      "text/plain": [
       "  feature_id      mean       sds       biotype CV       quantile\n",
       "3 ENSG00000243485 0.20764890 0.8776503 lincRNA 4.226607 4       \n",
       "8 ENSG00000238009 0.04815047 0.3279303 lincRNA 6.810531 4       \n",
       "  gene           \n",
       "3 ENSG00000243485\n",
       "8 ENSG00000238009"
      ]
     },
     "metadata": {},
     "output_type": "display_data"
    }
   ],
   "source": [
    "Giordanos_selection = \"/hps/nobackup/stegle/users/galvari/data/iPSCs/singleCell/metadata/ensembl_gene/Ensembl_75_Gene_Biotype_mesendo_CVfilt.txt\"\n",
    "G_file = read.csv(Giordanos_selection, sep = \"\\t\")\n",
    "G_file$gene = G_file$feature_id\n",
    "nrow(G_file)\n",
    "head(G_file,2)"
   ]
  },
  {
   "cell_type": "code",
   "execution_count": 3,
   "metadata": {},
   "outputs": [],
   "source": [
    "# mesendo\n",
    "mesendo_prefix = \"/hps/nobackup/hipsci/scratch/ComparingQtlMapping/SingleCell/PseudoBulk/\""
   ]
  },
  {
   "cell_type": "code",
   "execution_count": 4,
   "metadata": {},
   "outputs": [],
   "source": [
    "# mesendo_suffix = \"/Run_Output_PCA20_88_log_TPM_scater_libsize_206_mesendo/\"\n",
    "mesendo_suffix = \"/Run_Output_PCA20_88_log_TPM_scater_libsize_206_mesendo_rep/\"\n",
    "aggregation = \"mean\"\n",
    "# aggregation = \"totmean\"\n",
    "mesendo_folder = paste0(mesendo_prefix, aggregation, mesendo_suffix)"
   ]
  },
  {
   "cell_type": "code",
   "execution_count": null,
   "metadata": {},
   "outputs": [],
   "source": [
    "mesendo_suffix = \"/Run_Output_PCA20_88_log_TPM_edgeR_libsize_206_mesendo/\"\n",
    "aggregation = \"sum\"\n",
    "aggregation = \"totsum\"\n",
    "mesendo_folder = paste0(mesendo_prefix, aggregation, mesendo_suffix)"
   ]
  },
  {
   "cell_type": "code",
   "execution_count": 5,
   "metadata": {},
   "outputs": [],
   "source": [
    "df0 = read.csv(paste0(mesendo_folder,\"top_qtl_results_all.txt\"), sep = \"\\t\")\n",
    "df0 <- df0[-which(duplicated(df0$feature_id)),]"
   ]
  },
  {
   "cell_type": "code",
   "execution_count": 7,
   "metadata": {
    "scrolled": true
   },
   "outputs": [
    {
     "data": {
      "text/html": [
       "51721"
      ],
      "text/latex": [
       "51721"
      ],
      "text/markdown": [
       "51721"
      ],
      "text/plain": [
       "[1] 51721"
      ]
     },
     "metadata": {},
     "output_type": "display_data"
    },
    {
     "data": {
      "text/html": [
       "4758"
      ],
      "text/latex": [
       "4758"
      ],
      "text/markdown": [
       "4758"
      ],
      "text/plain": [
       "[1] 4758"
      ]
     },
     "metadata": {},
     "output_type": "display_data"
    },
    {
     "data": {
      "text/html": [
       "4758"
      ],
      "text/latex": [
       "4758"
      ],
      "text/markdown": [
       "4758"
      ],
      "text/plain": [
       "[1] 4758"
      ]
     },
     "metadata": {},
     "output_type": "display_data"
    }
   ],
   "source": [
    "df1 = df0\n",
    "# df1 = df0[df0$feature_id %in% G_file$gene,]\n",
    "length(unique(df1$feature_id))\n",
    "df1$BH_fdr = p.adjust(df1$empirical_feature_p_value, method = 'BH')\n",
    "length(unique(df1[df1$BH_fdr < 0.05,'feature_id']))\n",
    "df1$q_value = qvalue(df1$empirical_feature_p_value)$qvalues\n",
    "length(unique(df1[df1$q_value < 0.05,'feature_id']))"
   ]
  },
  {
   "cell_type": "code",
   "execution_count": null,
   "metadata": {},
   "outputs": [],
   "source": []
  },
  {
   "cell_type": "code",
   "execution_count": 147,
   "metadata": {},
   "outputs": [
    {
     "data": {
      "text/html": [
       "16204"
      ],
      "text/latex": [
       "16204"
      ],
      "text/markdown": [
       "16204"
      ],
      "text/plain": [
       "[1] 16204"
      ]
     },
     "metadata": {},
     "output_type": "display_data"
    },
    {
     "data": {
      "text/html": [
       "<table>\n",
       "<thead><tr><th></th><th scope=col>feature_id</th><th scope=col>mean</th><th scope=col>sds</th><th scope=col>CV</th><th scope=col>quantile</th><th scope=col>biotype</th><th scope=col>gene</th></tr></thead>\n",
       "<tbody>\n",
       "\t<tr><th scope=row>3</th><td>ENSG00000243485</td><td>0.2035346      </td><td>1.036392       </td><td>5.091971       </td><td>4              </td><td>lincRNA        </td><td>ENSG00000243485</td></tr>\n",
       "\t<tr><th scope=row>11</th><td>ENSG00000237683</td><td>2.7428538      </td><td>6.024766       </td><td>2.196532       </td><td>3              </td><td>protein_coding </td><td>ENSG00000237683</td></tr>\n",
       "</tbody>\n",
       "</table>\n"
      ],
      "text/latex": [
       "\\begin{tabular}{r|lllllll}\n",
       "  & feature\\_id & mean & sds & CV & quantile & biotype & gene\\\\\n",
       "\\hline\n",
       "\t3 & ENSG00000243485 & 0.2035346       & 1.036392        & 5.091971        & 4               & lincRNA         & ENSG00000243485\\\\\n",
       "\t11 & ENSG00000237683  & 2.7428538        & 6.024766         & 2.196532         & 3                & protein\\_coding & ENSG00000237683 \\\\\n",
       "\\end{tabular}\n"
      ],
      "text/markdown": [
       "\n",
       "| <!--/--> | feature_id | mean | sds | CV | quantile | biotype | gene |\n",
       "|---|---|---|---|---|---|---|---|\n",
       "| 3 | ENSG00000243485 | 0.2035346       | 1.036392        | 5.091971        | 4               | lincRNA         | ENSG00000243485 |\n",
       "| 11 | ENSG00000237683 | 2.7428538       | 6.024766        | 2.196532        | 3               | protein_coding  | ENSG00000237683 |\n",
       "\n"
      ],
      "text/plain": [
       "   feature_id      mean      sds      CV       quantile biotype       \n",
       "3  ENSG00000243485 0.2035346 1.036392 5.091971 4        lincRNA       \n",
       "11 ENSG00000237683 2.7428538 6.024766 2.196532 3        protein_coding\n",
       "   gene           \n",
       "3  ENSG00000243485\n",
       "11 ENSG00000237683"
      ]
     },
     "metadata": {},
     "output_type": "display_data"
    }
   ],
   "source": [
    "Giordanos_selection = \"/hps/nobackup/stegle/users/galvari/data/iPSCs/singleCell/metadata/ensembl_gene/Ensembl_75_Gene_Biotype_defendo_CVfilt.txt\"\n",
    "G_file = read.csv(Giordanos_selection, sep = \"\\t\")\n",
    "G_file$gene = G_file$feature_id\n",
    "nrow(G_file)\n",
    "head(G_file,2)"
   ]
  },
  {
   "cell_type": "code",
   "execution_count": 148,
   "metadata": {},
   "outputs": [],
   "source": [
    "# defendo\n",
    "defendo_prefix = \"/hps/nobackup/hipsci/scratch/ComparingQtlMapping/SingleCell/PseudoBulk/\""
   ]
  },
  {
   "cell_type": "code",
   "execution_count": 153,
   "metadata": {},
   "outputs": [],
   "source": [
    "defendo_suffix = \"/Run_Output_PCA20_88_log_TPM_scater_libsize_206_defendo/\"\n",
    "aggregation = \"mean\"\n",
    "aggregation = \"totmean\"\n",
    "defendo_folder = paste0(defendo_prefix, aggregation, defendo_suffix)"
   ]
  },
  {
   "cell_type": "code",
   "execution_count": 160,
   "metadata": {},
   "outputs": [],
   "source": [
    "defendo_suffix = \"/Run_Output_PCA20_88_log_TPM_edgeR_libsize_206_defendo/\"\n",
    "aggregation = \"sum\"\n",
    "aggregation = \"totsum\"\n",
    "defendo_folder = paste0(defendo_prefix, aggregation, defendo_suffix)"
   ]
  },
  {
   "cell_type": "code",
   "execution_count": 161,
   "metadata": {},
   "outputs": [],
   "source": [
    "df0 = read.csv(paste0(defendo_folder,\"top_qtl_results_all.txt\"), sep = \"\\t\")\n",
    "df0 <- df0[-which(duplicated(df0$feature_id)),]"
   ]
  },
  {
   "cell_type": "code",
   "execution_count": 162,
   "metadata": {},
   "outputs": [
    {
     "data": {
      "text/html": [
       "15541"
      ],
      "text/latex": [
       "15541"
      ],
      "text/markdown": [
       "15541"
      ],
      "text/plain": [
       "[1] 15541"
      ]
     },
     "metadata": {},
     "output_type": "display_data"
    },
    {
     "data": {
      "text/html": [
       "753"
      ],
      "text/latex": [
       "753"
      ],
      "text/markdown": [
       "753"
      ],
      "text/plain": [
       "[1] 753"
      ]
     },
     "metadata": {},
     "output_type": "display_data"
    },
    {
     "data": {
      "text/html": [
       "1023"
      ],
      "text/latex": [
       "1023"
      ],
      "text/markdown": [
       "1023"
      ],
      "text/plain": [
       "[1] 1023"
      ]
     },
     "metadata": {},
     "output_type": "display_data"
    }
   ],
   "source": [
    "# df1 = df0\n",
    "df1 = df0[df0$feature_id %in% G_file$gene,]\n",
    "length(unique(df1$feature_id))\n",
    "df1$BH_fdr = p.adjust(df1$empirical_feature_p_value, method = 'BH')\n",
    "length(unique(df1[df1$BH_fdr < 0.05,'feature_id']))\n",
    "df1$q_value = qvalue(df1$empirical_feature_p_value)$qvalues\n",
    "length(unique(df1[df1$q_value < 0.05,'feature_id']))"
   ]
  },
  {
   "cell_type": "code",
   "execution_count": null,
   "metadata": {},
   "outputs": [],
   "source": []
  },
  {
   "cell_type": "code",
   "execution_count": null,
   "metadata": {},
   "outputs": [],
   "source": []
  },
  {
   "cell_type": "code",
   "execution_count": null,
   "metadata": {},
   "outputs": [],
   "source": [
    "### check runs"
   ]
  },
  {
   "cell_type": "code",
   "execution_count": null,
   "metadata": {},
   "outputs": [],
   "source": [
    "defendo_folder = \"/hps/nobackup/hipsci/scratch/ComparingQtlMapping/SingleCell/PseudoBulk/mean/Run_Output_PCA20_88_log_TPM_scater_libsize_206_defendo_copiafinale/\"\n",
    "df0 = read.csv(paste0(defendo_folder,\"top_qtl_results_all.txt\"), sep = \"\\t\")\n",
    "df0 <- df0[-which(duplicated(df0$feature_id)),]\n",
    "chr2_genes = unique(df0$feature_id)\n",
    "length(chr2_genes)"
   ]
  },
  {
   "cell_type": "code",
   "execution_count": null,
   "metadata": {},
   "outputs": [],
   "source": [
    "defendo_folder = \"/hps/nobackup/hipsci/scratch/ComparingQtlMapping/SingleCell/PseudoBulk/mean/Run_Output_PCA20_88_log_TPM_scater_libsize_206_defendo/\"\n",
    "df1 = read.csv(paste0(defendo_folder,\"top_qtl_results_all.txt\"), sep = \"\\t\")\n",
    "df1 <- df1[-which(duplicated(df1$feature_id)),]\n",
    "all_genes = unique(df1$feature_id)"
   ]
  },
  {
   "cell_type": "code",
   "execution_count": 4,
   "metadata": {},
   "outputs": [],
   "source": [
    "length(chr2_genes[chr2_genes %in% all_genes])\n",
    "\n",
    "head(df0)\n",
    "\n",
    "head(df1[df1$feature_id %in% chr2_genes,])"
   ]
  },
  {
   "cell_type": "code",
   "execution_count": 15,
   "metadata": {},
   "outputs": [
    {
     "data": {
      "text/html": [
       "3922"
      ],
      "text/latex": [
       "3922"
      ],
      "text/markdown": [
       "3922"
      ],
      "text/plain": [
       "[1] 3922"
      ]
     },
     "metadata": {},
     "output_type": "display_data"
    }
   ],
   "source": [
    "mesendo_folder = \"/hps/nobackup/hipsci/scratch/ComparingQtlMapping/SingleCell/PseudoBulk/mean/Run_Output_PCA20_88_log_TPM_scater_libsize_206_mesendo_copia_finale/\"\n",
    "df0 = read.csv(paste0(mesendo_folder,\"top_qtl_results_all.txt\"), sep = \"\\t\")\n",
    "df0 <- df0[-which(duplicated(df0$feature_id)),]\n",
    "chr2_genes = unique(df0$feature_id)\n",
    "length(chr2_genes)"
   ]
  },
  {
   "cell_type": "code",
   "execution_count": 16,
   "metadata": {},
   "outputs": [],
   "source": [
    "mesendo_folder = \"/hps/nobackup/hipsci/scratch/ComparingQtlMapping/SingleCell/PseudoBulk/mean/Run_Output_PCA20_88_log_TPM_scater_libsize_206_mesendo/\"\n",
    "df1 = read.csv(paste0(mesendo_folder,\"top_qtl_results_all.txt\"), sep = \"\\t\")\n",
    "df1 <- df1[-which(duplicated(df1$feature_id)),]\n",
    "all_genes = unique(df1$feature_id)"
   ]
  },
  {
   "cell_type": "code",
   "execution_count": 17,
   "metadata": {},
   "outputs": [
    {
     "data": {
      "text/html": [
       "3922"
      ],
      "text/latex": [
       "3922"
      ],
      "text/markdown": [
       "3922"
      ],
      "text/plain": [
       "[1] 3922"
      ]
     },
     "metadata": {},
     "output_type": "display_data"
    },
    {
     "data": {
      "text/html": [
       "<table>\n",
       "<thead><tr><th scope=col>snp_id</th><th scope=col>p_value</th><th scope=col>beta</th><th scope=col>beta_se</th><th scope=col>empirical_feature_p_value</th><th scope=col>feature_chromosome</th><th scope=col>feature_start</th><th scope=col>feature_end</th><th scope=col>n_samples</th><th scope=col>n_e_samples</th><th scope=col>alpha_param</th><th scope=col>beta_param</th><th scope=col>snp_chromosome</th><th scope=col>snp_position</th><th scope=col>assessed_allele</th><th scope=col>call_rate</th><th scope=col>maf</th><th scope=col>hwe_p</th><th scope=col>feature_id</th></tr></thead>\n",
       "<tbody>\n",
       "\t<tr><td>2_85072682_G_A </td><td>0.015509317    </td><td>-0.1958005     </td><td>0.08090052     </td><td>0.04466856     </td><td>2              </td><td>85132749       </td><td>85133795       </td><td>266            </td><td>102            </td><td>0.9824907      </td><td> 28.742759     </td><td>2              </td><td>85072682       </td><td>A              </td><td>1              </td><td>0.1421569      </td><td>0.68572908     </td><td>ENSG00000034510</td></tr>\n",
       "\t<tr><td>2_85641187_C_T </td><td>0.005245687    </td><td> 0.5127826     </td><td>0.18369125     </td><td>0.05160487     </td><td>2              </td><td>85569211       </td><td>85581743       </td><td>266            </td><td>102            </td><td>0.8174947      </td><td> 52.172651     </td><td>2              </td><td>85641187       </td><td>T              </td><td>1              </td><td>0.1127451      </td><td>1.00000000     </td><td>ENSG00000042445</td></tr>\n",
       "\t<tr><td>2_85641187_C_T </td><td>0.002997914    </td><td> 0.3499135     </td><td>0.11789730     </td><td>0.77062570     </td><td>2              </td><td>85621871       </td><td>85645555       </td><td>266            </td><td>102            </td><td>1.9641040      </td><td> 13.258773     </td><td>2              </td><td>85641187       </td><td>T              </td><td>1              </td><td>0.1127451      </td><td>1.00000000     </td><td>ENSG00000042493</td></tr>\n",
       "\t<tr><td>2_80176347_G_C </td><td>0.001445065    </td><td>-0.4965921     </td><td>0.15589165     </td><td>0.14202573     </td><td>2              </td><td>79412357       </td><td>80875905       </td><td>266            </td><td>102            </td><td>1.5963944      </td><td> 12.416258     </td><td>2              </td><td>80176347       </td><td>C              </td><td>1              </td><td>0.1715686      </td><td>0.07084761     </td><td>ENSG00000066032</td></tr>\n",
       "\t<tr><td>2_79399970_G_C </td><td>0.002499596    </td><td> 0.3078639     </td><td>0.10182739     </td><td>0.05325621     </td><td>2              </td><td>79347488       </td><td>79350545       </td><td>266            </td><td>102            </td><td>0.4342200      </td><td>103.162269     </td><td>2              </td><td>79399970       </td><td>C              </td><td>1              </td><td>0.1176471      </td><td>0.13512540     </td><td>ENSG00000115386</td></tr>\n",
       "\t<tr><td>2_84686757_A_G </td><td>0.002059567    </td><td>-0.4746332     </td><td>0.15402639     </td><td>0.02333011     </td><td>2              </td><td>84743579       </td><td>85046713       </td><td>266            </td><td>102            </td><td>0.8161050      </td><td>  9.889692     </td><td>2              </td><td>84686757       </td><td>G              </td><td>1              </td><td>0.3970588      </td><td>0.29983832     </td><td>ENSG00000115423</td></tr>\n",
       "</tbody>\n",
       "</table>\n"
      ],
      "text/latex": [
       "\\begin{tabular}{r|lllllllllllllllllll}\n",
       " snp\\_id & p\\_value & beta & beta\\_se & empirical\\_feature\\_p\\_value & feature\\_chromosome & feature\\_start & feature\\_end & n\\_samples & n\\_e\\_samples & alpha\\_param & beta\\_param & snp\\_chromosome & snp\\_position & assessed\\_allele & call\\_rate & maf & hwe\\_p & feature\\_id\\\\\n",
       "\\hline\n",
       "\t 2\\_85072682\\_G\\_A & 0.015509317          & -0.1958005           & 0.08090052           & 0.04466856           & 2                    & 85132749             & 85133795             & 266                  & 102                  & 0.9824907            &  28.742759           & 2                    & 85072682             & A                    & 1                    & 0.1421569            & 0.68572908           & ENSG00000034510     \\\\\n",
       "\t 2\\_85641187\\_C\\_T & 0.005245687          &  0.5127826           & 0.18369125           & 0.05160487           & 2                    & 85569211             & 85581743             & 266                  & 102                  & 0.8174947            &  52.172651           & 2                    & 85641187             & T                    & 1                    & 0.1127451            & 1.00000000           & ENSG00000042445     \\\\\n",
       "\t 2\\_85641187\\_C\\_T & 0.002997914          &  0.3499135           & 0.11789730           & 0.77062570           & 2                    & 85621871             & 85645555             & 266                  & 102                  & 1.9641040            &  13.258773           & 2                    & 85641187             & T                    & 1                    & 0.1127451            & 1.00000000           & ENSG00000042493     \\\\\n",
       "\t 2\\_80176347\\_G\\_C & 0.001445065          & -0.4965921           & 0.15589165           & 0.14202573           & 2                    & 79412357             & 80875905             & 266                  & 102                  & 1.5963944            &  12.416258           & 2                    & 80176347             & C                    & 1                    & 0.1715686            & 0.07084761           & ENSG00000066032     \\\\\n",
       "\t 2\\_79399970\\_G\\_C & 0.002499596          &  0.3078639           & 0.10182739           & 0.05325621           & 2                    & 79347488             & 79350545             & 266                  & 102                  & 0.4342200            & 103.162269           & 2                    & 79399970             & C                    & 1                    & 0.1176471            & 0.13512540           & ENSG00000115386     \\\\\n",
       "\t 2\\_84686757\\_A\\_G & 0.002059567          & -0.4746332           & 0.15402639           & 0.02333011           & 2                    & 84743579             & 85046713             & 266                  & 102                  & 0.8161050            &   9.889692           & 2                    & 84686757             & G                    & 1                    & 0.3970588            & 0.29983832           & ENSG00000115423     \\\\\n",
       "\\end{tabular}\n"
      ],
      "text/markdown": [
       "\n",
       "| snp_id | p_value | beta | beta_se | empirical_feature_p_value | feature_chromosome | feature_start | feature_end | n_samples | n_e_samples | alpha_param | beta_param | snp_chromosome | snp_position | assessed_allele | call_rate | maf | hwe_p | feature_id |\n",
       "|---|---|---|---|---|---|---|---|---|---|---|---|---|---|---|---|---|---|---|\n",
       "| 2_85072682_G_A  | 0.015509317     | -0.1958005      | 0.08090052      | 0.04466856      | 2               | 85132749        | 85133795        | 266             | 102             | 0.9824907       |  28.742759      | 2               | 85072682        | A               | 1               | 0.1421569       | 0.68572908      | ENSG00000034510 |\n",
       "| 2_85641187_C_T  | 0.005245687     |  0.5127826      | 0.18369125      | 0.05160487      | 2               | 85569211        | 85581743        | 266             | 102             | 0.8174947       |  52.172651      | 2               | 85641187        | T               | 1               | 0.1127451       | 1.00000000      | ENSG00000042445 |\n",
       "| 2_85641187_C_T  | 0.002997914     |  0.3499135      | 0.11789730      | 0.77062570      | 2               | 85621871        | 85645555        | 266             | 102             | 1.9641040       |  13.258773      | 2               | 85641187        | T               | 1               | 0.1127451       | 1.00000000      | ENSG00000042493 |\n",
       "| 2_80176347_G_C  | 0.001445065     | -0.4965921      | 0.15589165      | 0.14202573      | 2               | 79412357        | 80875905        | 266             | 102             | 1.5963944       |  12.416258      | 2               | 80176347        | C               | 1               | 0.1715686       | 0.07084761      | ENSG00000066032 |\n",
       "| 2_79399970_G_C  | 0.002499596     |  0.3078639      | 0.10182739      | 0.05325621      | 2               | 79347488        | 79350545        | 266             | 102             | 0.4342200       | 103.162269      | 2               | 79399970        | C               | 1               | 0.1176471       | 0.13512540      | ENSG00000115386 |\n",
       "| 2_84686757_A_G  | 0.002059567     | -0.4746332      | 0.15402639      | 0.02333011      | 2               | 84743579        | 85046713        | 266             | 102             | 0.8161050       |   9.889692      | 2               | 84686757        | G               | 1               | 0.3970588       | 0.29983832      | ENSG00000115423 |\n",
       "\n"
      ],
      "text/plain": [
       "  snp_id         p_value     beta       beta_se    empirical_feature_p_value\n",
       "1 2_85072682_G_A 0.015509317 -0.1958005 0.08090052 0.04466856               \n",
       "2 2_85641187_C_T 0.005245687  0.5127826 0.18369125 0.05160487               \n",
       "3 2_85641187_C_T 0.002997914  0.3499135 0.11789730 0.77062570               \n",
       "4 2_80176347_G_C 0.001445065 -0.4965921 0.15589165 0.14202573               \n",
       "5 2_79399970_G_C 0.002499596  0.3078639 0.10182739 0.05325621               \n",
       "6 2_84686757_A_G 0.002059567 -0.4746332 0.15402639 0.02333011               \n",
       "  feature_chromosome feature_start feature_end n_samples n_e_samples\n",
       "1 2                  85132749      85133795    266       102        \n",
       "2 2                  85569211      85581743    266       102        \n",
       "3 2                  85621871      85645555    266       102        \n",
       "4 2                  79412357      80875905    266       102        \n",
       "5 2                  79347488      79350545    266       102        \n",
       "6 2                  84743579      85046713    266       102        \n",
       "  alpha_param beta_param snp_chromosome snp_position assessed_allele call_rate\n",
       "1 0.9824907    28.742759 2              85072682     A               1        \n",
       "2 0.8174947    52.172651 2              85641187     T               1        \n",
       "3 1.9641040    13.258773 2              85641187     T               1        \n",
       "4 1.5963944    12.416258 2              80176347     C               1        \n",
       "5 0.4342200   103.162269 2              79399970     C               1        \n",
       "6 0.8161050     9.889692 2              84686757     G               1        \n",
       "  maf       hwe_p      feature_id     \n",
       "1 0.1421569 0.68572908 ENSG00000034510\n",
       "2 0.1127451 1.00000000 ENSG00000042445\n",
       "3 0.1127451 1.00000000 ENSG00000042493\n",
       "4 0.1715686 0.07084761 ENSG00000066032\n",
       "5 0.1176471 0.13512540 ENSG00000115386\n",
       "6 0.3970588 0.29983832 ENSG00000115423"
      ]
     },
     "metadata": {},
     "output_type": "display_data"
    },
    {
     "data": {
      "text/html": [
       "<table>\n",
       "<thead><tr><th></th><th scope=col>snp_id</th><th scope=col>p_value</th><th scope=col>beta</th><th scope=col>beta_se</th><th scope=col>empirical_feature_p_value</th><th scope=col>feature_chromosome</th><th scope=col>feature_start</th><th scope=col>feature_end</th><th scope=col>n_samples</th><th scope=col>n_e_samples</th><th scope=col>alpha_param</th><th scope=col>beta_param</th><th scope=col>snp_chromosome</th><th scope=col>snp_position</th><th scope=col>assessed_allele</th><th scope=col>call_rate</th><th scope=col>maf</th><th scope=col>hwe_p</th><th scope=col>feature_id</th></tr></thead>\n",
       "<tbody>\n",
       "\t<tr><th scope=row>188</th><td>2_85072682_G_A </td><td>0.015509317    </td><td>-0.1958005     </td><td>0.08090052     </td><td>0.12099231     </td><td>2              </td><td>85132749       </td><td>85133795       </td><td>266            </td><td>102            </td><td>1.0246104      </td><td>21.78535       </td><td>2              </td><td>85072682       </td><td>A              </td><td>1              </td><td>0.1421569      </td><td>0.68572908     </td><td>ENSG00000034510</td></tr>\n",
       "\t<tr><th scope=row>189</th><td>2_85641187_C_T </td><td>0.005245687    </td><td> 0.5127826     </td><td>0.18369125     </td><td>0.11302020     </td><td>2              </td><td>85569211       </td><td>85581743       </td><td>266            </td><td>102            </td><td>1.2211156      </td><td>16.56088       </td><td>2              </td><td>85641187       </td><td>T              </td><td>1              </td><td>0.1127451      </td><td>1.00000000     </td><td>ENSG00000042445</td></tr>\n",
       "\t<tr><th scope=row>190</th><td>2_85641187_C_T </td><td>0.002997915    </td><td> 0.3499135     </td><td>0.11789730     </td><td>0.05504563     </td><td>2              </td><td>85621871       </td><td>85645555       </td><td>266            </td><td>102            </td><td>1.1024580      </td><td>25.93106       </td><td>2              </td><td>85641187       </td><td>T              </td><td>1              </td><td>0.1127451      </td><td>1.00000000     </td><td>ENSG00000042493</td></tr>\n",
       "\t<tr><th scope=row>191</th><td>2_80176347_G_C </td><td>0.001445065    </td><td>-0.4965921     </td><td>0.15589165     </td><td>0.05535741     </td><td>2              </td><td>79412357       </td><td>80875905       </td><td>266            </td><td>102            </td><td>0.6926813      </td><td>52.18767       </td><td>2              </td><td>80176347       </td><td>C              </td><td>1              </td><td>0.1715686      </td><td>0.07084761     </td><td>ENSG00000066032</td></tr>\n",
       "\t<tr><th scope=row>192</th><td>2_79399970_G_C </td><td>0.002499595    </td><td> 0.3078639     </td><td>0.10182738     </td><td>0.04888701     </td><td>2              </td><td>79347488       </td><td>79350545       </td><td>266            </td><td>102            </td><td>0.1366951      </td><td>18.01422       </td><td>2              </td><td>79399970       </td><td>C              </td><td>1              </td><td>0.1176471      </td><td>0.13512540     </td><td>ENSG00000115386</td></tr>\n",
       "\t<tr><th scope=row>193</th><td>2_84686757_A_G </td><td>0.002059567    </td><td>-0.4746332     </td><td>0.15402639     </td><td>0.01172370     </td><td>2              </td><td>84743579       </td><td>85046713       </td><td>266            </td><td>102            </td><td>1.4346073      </td><td>21.06594       </td><td>2              </td><td>84686757       </td><td>G              </td><td>1              </td><td>0.3970588      </td><td>0.29983832     </td><td>ENSG00000115423</td></tr>\n",
       "</tbody>\n",
       "</table>\n"
      ],
      "text/latex": [
       "\\begin{tabular}{r|lllllllllllllllllll}\n",
       "  & snp\\_id & p\\_value & beta & beta\\_se & empirical\\_feature\\_p\\_value & feature\\_chromosome & feature\\_start & feature\\_end & n\\_samples & n\\_e\\_samples & alpha\\_param & beta\\_param & snp\\_chromosome & snp\\_position & assessed\\_allele & call\\_rate & maf & hwe\\_p & feature\\_id\\\\\n",
       "\\hline\n",
       "\t188 & 2\\_85072682\\_G\\_A & 0.015509317          & -0.1958005           & 0.08090052           & 0.12099231           & 2                    & 85132749             & 85133795             & 266                  & 102                  & 1.0246104            & 21.78535             & 2                    & 85072682             & A                    & 1                    & 0.1421569            & 0.68572908           & ENSG00000034510     \\\\\n",
       "\t189 & 2\\_85641187\\_C\\_T & 0.005245687          &  0.5127826           & 0.18369125           & 0.11302020           & 2                    & 85569211             & 85581743             & 266                  & 102                  & 1.2211156            & 16.56088             & 2                    & 85641187             & T                    & 1                    & 0.1127451            & 1.00000000           & ENSG00000042445     \\\\\n",
       "\t190 & 2\\_85641187\\_C\\_T & 0.002997915          &  0.3499135           & 0.11789730           & 0.05504563           & 2                    & 85621871             & 85645555             & 266                  & 102                  & 1.1024580            & 25.93106             & 2                    & 85641187             & T                    & 1                    & 0.1127451            & 1.00000000           & ENSG00000042493     \\\\\n",
       "\t191 & 2\\_80176347\\_G\\_C & 0.001445065          & -0.4965921           & 0.15589165           & 0.05535741           & 2                    & 79412357             & 80875905             & 266                  & 102                  & 0.6926813            & 52.18767             & 2                    & 80176347             & C                    & 1                    & 0.1715686            & 0.07084761           & ENSG00000066032     \\\\\n",
       "\t192 & 2\\_79399970\\_G\\_C & 0.002499595          &  0.3078639           & 0.10182738           & 0.04888701           & 2                    & 79347488             & 79350545             & 266                  & 102                  & 0.1366951            & 18.01422             & 2                    & 79399970             & C                    & 1                    & 0.1176471            & 0.13512540           & ENSG00000115386     \\\\\n",
       "\t193 & 2\\_84686757\\_A\\_G & 0.002059567          & -0.4746332           & 0.15402639           & 0.01172370           & 2                    & 84743579             & 85046713             & 266                  & 102                  & 1.4346073            & 21.06594             & 2                    & 84686757             & G                    & 1                    & 0.3970588            & 0.29983832           & ENSG00000115423     \\\\\n",
       "\\end{tabular}\n"
      ],
      "text/markdown": [
       "\n",
       "| <!--/--> | snp_id | p_value | beta | beta_se | empirical_feature_p_value | feature_chromosome | feature_start | feature_end | n_samples | n_e_samples | alpha_param | beta_param | snp_chromosome | snp_position | assessed_allele | call_rate | maf | hwe_p | feature_id |\n",
       "|---|---|---|---|---|---|---|---|---|---|---|---|---|---|---|---|---|---|---|---|\n",
       "| 188 | 2_85072682_G_A  | 0.015509317     | -0.1958005      | 0.08090052      | 0.12099231      | 2               | 85132749        | 85133795        | 266             | 102             | 1.0246104       | 21.78535        | 2               | 85072682        | A               | 1               | 0.1421569       | 0.68572908      | ENSG00000034510 |\n",
       "| 189 | 2_85641187_C_T  | 0.005245687     |  0.5127826      | 0.18369125      | 0.11302020      | 2               | 85569211        | 85581743        | 266             | 102             | 1.2211156       | 16.56088        | 2               | 85641187        | T               | 1               | 0.1127451       | 1.00000000      | ENSG00000042445 |\n",
       "| 190 | 2_85641187_C_T  | 0.002997915     |  0.3499135      | 0.11789730      | 0.05504563      | 2               | 85621871        | 85645555        | 266             | 102             | 1.1024580       | 25.93106        | 2               | 85641187        | T               | 1               | 0.1127451       | 1.00000000      | ENSG00000042493 |\n",
       "| 191 | 2_80176347_G_C  | 0.001445065     | -0.4965921      | 0.15589165      | 0.05535741      | 2               | 79412357        | 80875905        | 266             | 102             | 0.6926813       | 52.18767        | 2               | 80176347        | C               | 1               | 0.1715686       | 0.07084761      | ENSG00000066032 |\n",
       "| 192 | 2_79399970_G_C  | 0.002499595     |  0.3078639      | 0.10182738      | 0.04888701      | 2               | 79347488        | 79350545        | 266             | 102             | 0.1366951       | 18.01422        | 2               | 79399970        | C               | 1               | 0.1176471       | 0.13512540      | ENSG00000115386 |\n",
       "| 193 | 2_84686757_A_G  | 0.002059567     | -0.4746332      | 0.15402639      | 0.01172370      | 2               | 84743579        | 85046713        | 266             | 102             | 1.4346073       | 21.06594        | 2               | 84686757        | G               | 1               | 0.3970588       | 0.29983832      | ENSG00000115423 |\n",
       "\n"
      ],
      "text/plain": [
       "    snp_id         p_value     beta       beta_se    empirical_feature_p_value\n",
       "188 2_85072682_G_A 0.015509317 -0.1958005 0.08090052 0.12099231               \n",
       "189 2_85641187_C_T 0.005245687  0.5127826 0.18369125 0.11302020               \n",
       "190 2_85641187_C_T 0.002997915  0.3499135 0.11789730 0.05504563               \n",
       "191 2_80176347_G_C 0.001445065 -0.4965921 0.15589165 0.05535741               \n",
       "192 2_79399970_G_C 0.002499595  0.3078639 0.10182738 0.04888701               \n",
       "193 2_84686757_A_G 0.002059567 -0.4746332 0.15402639 0.01172370               \n",
       "    feature_chromosome feature_start feature_end n_samples n_e_samples\n",
       "188 2                  85132749      85133795    266       102        \n",
       "189 2                  85569211      85581743    266       102        \n",
       "190 2                  85621871      85645555    266       102        \n",
       "191 2                  79412357      80875905    266       102        \n",
       "192 2                  79347488      79350545    266       102        \n",
       "193 2                  84743579      85046713    266       102        \n",
       "    alpha_param beta_param snp_chromosome snp_position assessed_allele\n",
       "188 1.0246104   21.78535   2              85072682     A              \n",
       "189 1.2211156   16.56088   2              85641187     T              \n",
       "190 1.1024580   25.93106   2              85641187     T              \n",
       "191 0.6926813   52.18767   2              80176347     C              \n",
       "192 0.1366951   18.01422   2              79399970     C              \n",
       "193 1.4346073   21.06594   2              84686757     G              \n",
       "    call_rate maf       hwe_p      feature_id     \n",
       "188 1         0.1421569 0.68572908 ENSG00000034510\n",
       "189 1         0.1127451 1.00000000 ENSG00000042445\n",
       "190 1         0.1127451 1.00000000 ENSG00000042493\n",
       "191 1         0.1715686 0.07084761 ENSG00000066032\n",
       "192 1         0.1176471 0.13512540 ENSG00000115386\n",
       "193 1         0.3970588 0.29983832 ENSG00000115423"
      ]
     },
     "metadata": {},
     "output_type": "display_data"
    }
   ],
   "source": [
    "length(chr2_genes[chr2_genes %in% all_genes])\n",
    "\n",
    "head(df0)\n",
    "\n",
    "head(df1[df1$feature_id %in% chr2_genes,])"
   ]
  },
  {
   "cell_type": "code",
   "execution_count": null,
   "metadata": {},
   "outputs": [],
   "source": []
  }
 ],
 "metadata": {
  "kernelspec": {
   "display_name": "R",
   "language": "R",
   "name": "ir"
  },
  "language_info": {
   "codemirror_mode": "r",
   "file_extension": ".r",
   "mimetype": "text/x-r-source",
   "name": "R",
   "pygments_lexer": "r",
   "version": "3.6.1"
  }
 },
 "nbformat": 4,
 "nbformat_minor": 4
}
