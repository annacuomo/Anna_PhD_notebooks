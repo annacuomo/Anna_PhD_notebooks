{
 "cells": [
  {
   "cell_type": "code",
   "execution_count": 2,
   "metadata": {},
   "outputs": [
    {
     "data": {
      "text/html": [
       "<table>\n",
       "<thead><tr><th></th><th scope=col>Donor...Observations</th></tr></thead>\n",
       "<tbody>\n",
       "\t<tr><th scope=row>HPSI0813i-guss_1</th><td>5</td></tr>\n",
       "\t<tr><th scope=row>HPSI0214i-datg_2</th><td>4</td></tr>\n",
       "\t<tr><th scope=row>HPSI0413i-nudd_1</th><td>4</td></tr>\n",
       "\t<tr><th scope=row>HPSI0114i-zapk_3</th><td>3</td></tr>\n",
       "\t<tr><th scope=row>HPSI0214i-pelm_3</th><td>3</td></tr>\n",
       "\t<tr><th scope=row>HPSI0114i-vass_1</th><td>3</td></tr>\n",
       "</tbody>\n",
       "</table>\n"
      ],
      "text/latex": [
       "\\begin{tabular}{r|l}\n",
       "  & Donor...Observations\\\\\n",
       "\\hline\n",
       "\tHPSI0813i-guss\\_1 & 5\\\\\n",
       "\tHPSI0214i-datg\\_2 & 4\\\\\n",
       "\tHPSI0413i-nudd\\_1 & 4\\\\\n",
       "\tHPSI0114i-zapk\\_3 & 3\\\\\n",
       "\tHPSI0214i-pelm\\_3 & 3\\\\\n",
       "\tHPSI0114i-vass\\_1 & 3\\\\\n",
       "\\end{tabular}\n"
      ],
      "text/markdown": [
       "\n",
       "| <!--/--> | Donor...Observations |\n",
       "|---|---|\n",
       "| HPSI0813i-guss_1 | 5 |\n",
       "| HPSI0214i-datg_2 | 4 |\n",
       "| HPSI0413i-nudd_1 | 4 |\n",
       "| HPSI0114i-zapk_3 | 3 |\n",
       "| HPSI0214i-pelm_3 | 3 |\n",
       "| HPSI0114i-vass_1 | 3 |\n",
       "\n"
      ],
      "text/plain": [
       "                 Donor...Observations\n",
       "HPSI0813i-guss_1 5                   \n",
       "HPSI0214i-datg_2 4                   \n",
       "HPSI0413i-nudd_1 4                   \n",
       "HPSI0114i-zapk_3 3                   \n",
       "HPSI0214i-pelm_3 3                   \n",
       "HPSI0114i-vass_1 3                   "
      ]
     },
     "metadata": {},
     "output_type": "display_data"
    },
    {
     "data": {
      "text/html": [
       "87"
      ],
      "text/latex": [
       "87"
      ],
      "text/markdown": [
       "87"
      ],
      "text/plain": [
       "[1] 87"
      ]
     },
     "metadata": {},
     "output_type": "display_data"
    }
   ],
   "source": [
    "donor_filename = \"/hps/nobackup/stegle/users/acuomo/all_scripts/sc_eqtl/ipsc_samples_cuomo.txt\"\n",
    "df = read.csv(donor_filename, sep = \"\\t\")\n",
    "head(df)\n",
    "donors = rownames(df)\n",
    "length(unique(donors))"
   ]
  },
  {
   "cell_type": "code",
   "execution_count": null,
   "metadata": {},
   "outputs": [],
   "source": []
  },
  {
   "cell_type": "code",
   "execution_count": 3,
   "metadata": {},
   "outputs": [],
   "source": [
    "sce = readRDS(\"/hps/nobackup/hipsci/scratch/singlecell_endodiff/data_processed/merged/20180618/sce_merged_afterqc_filt_allexpts.rds\")"
   ]
  },
  {
   "cell_type": "code",
   "execution_count": 4,
   "metadata": {},
   "outputs": [
    {
     "name": "stderr",
     "output_type": "stream",
     "text": [
      "Loading required package: SingleCellExperiment\n",
      "Loading required package: SummarizedExperiment\n",
      "Loading required package: GenomicRanges\n",
      "Loading required package: stats4\n",
      "Loading required package: BiocGenerics\n",
      "Loading required package: parallel\n",
      "\n",
      "Attaching package: ‘BiocGenerics’\n",
      "\n",
      "The following objects are masked from ‘package:parallel’:\n",
      "\n",
      "    clusterApply, clusterApplyLB, clusterCall, clusterEvalQ,\n",
      "    clusterExport, clusterMap, parApply, parCapply, parLapply,\n",
      "    parLapplyLB, parRapply, parSapply, parSapplyLB\n",
      "\n",
      "The following objects are masked from ‘package:stats’:\n",
      "\n",
      "    IQR, mad, sd, var, xtabs\n",
      "\n",
      "The following objects are masked from ‘package:base’:\n",
      "\n",
      "    anyDuplicated, append, as.data.frame, basename, cbind, colnames,\n",
      "    dirname, do.call, duplicated, eval, evalq, Filter, Find, get, grep,\n",
      "    grepl, intersect, is.unsorted, lapply, Map, mapply, match, mget,\n",
      "    order, paste, pmax, pmax.int, pmin, pmin.int, Position, rank,\n",
      "    rbind, Reduce, rownames, sapply, setdiff, sort, table, tapply,\n",
      "    union, unique, unsplit, which, which.max, which.min\n",
      "\n",
      "Loading required package: S4Vectors\n",
      "\n",
      "Attaching package: ‘S4Vectors’\n",
      "\n",
      "The following object is masked from ‘package:base’:\n",
      "\n",
      "    expand.grid\n",
      "\n",
      "Loading required package: IRanges\n",
      "Loading required package: GenomeInfoDb\n",
      "Loading required package: Biobase\n",
      "Welcome to Bioconductor\n",
      "\n",
      "    Vignettes contain introductory material; view with\n",
      "    'browseVignettes()'. To cite Bioconductor, see\n",
      "    'citation(\"Biobase\")', and for packages 'citation(\"pkgname\")'.\n",
      "\n",
      "Loading required package: DelayedArray\n",
      "Loading required package: matrixStats\n",
      "\n",
      "Attaching package: ‘matrixStats’\n",
      "\n",
      "The following objects are masked from ‘package:Biobase’:\n",
      "\n",
      "    anyMissing, rowMedians\n",
      "\n",
      "Loading required package: BiocParallel\n",
      "\n",
      "Attaching package: ‘DelayedArray’\n",
      "\n",
      "The following objects are masked from ‘package:matrixStats’:\n",
      "\n",
      "    colMaxs, colMins, colRanges, rowMaxs, rowMins, rowRanges\n",
      "\n",
      "The following objects are masked from ‘package:base’:\n",
      "\n",
      "    aperm, apply, rowsum\n",
      "\n"
     ]
    },
    {
     "data": {
      "text/plain": [
       "class: SingleCellExperiment \n",
       "dim: 11231 36044 \n",
       "metadata(4): log.exprs.offset log.exprs.offset log.exprs.offset\n",
       "  log.exprs.offset\n",
       "assays(3): tpm counts logcounts\n",
       "rownames(11231): ENSG00000000003_TSPAN6 ENSG00000000419_DPM1 ...\n",
       "  ENSG00000272325_NUDT3 ENSG00000272398_CD24\n",
       "rowData names(17): exprs_collapsed_to ensembl_transcript_id ...\n",
       "  is_intop2000hvg is_hvg\n",
       "colnames(36044): 21843_1#10 21843_1#100 ... 24539_8#97 24539_8#98\n",
       "colData names(123): adj_x adj_y ... princ_curve princ_curve_scaled01\n",
       "reducedDimNames(1): PCA\n",
       "spikeNames(1): ERCC\n",
       "altExpNames(0):"
      ]
     },
     "metadata": {},
     "output_type": "display_data"
    }
   ],
   "source": [
    "sce"
   ]
  },
  {
   "cell_type": "code",
   "execution_count": 5,
   "metadata": {},
   "outputs": [
    {
     "data": {
      "text/plain": [
       "class: SingleCellExperiment \n",
       "dim: 11231 9661 \n",
       "metadata(4): log.exprs.offset log.exprs.offset log.exprs.offset\n",
       "  log.exprs.offset\n",
       "assays(3): tpm counts logcounts\n",
       "rownames(11231): ENSG00000000003_TSPAN6 ENSG00000000419_DPM1 ...\n",
       "  ENSG00000272325_NUDT3 ENSG00000272398_CD24\n",
       "rowData names(17): exprs_collapsed_to ensembl_transcript_id ...\n",
       "  is_intop2000hvg is_hvg\n",
       "colnames(9661): 21672_1#101 21672_1#102 ... 24475_8#96 24475_8#98\n",
       "colData names(123): adj_x adj_y ... princ_curve princ_curve_scaled01\n",
       "reducedDimNames(1): PCA\n",
       "spikeNames(1): ERCC\n",
       "altExpNames(0):"
      ]
     },
     "metadata": {},
     "output_type": "display_data"
    }
   ],
   "source": [
    "sce_day0 = sce[,sce$day == \"day0\"]\n",
    "sce_day0"
   ]
  },
  {
   "cell_type": "code",
   "execution_count": 6,
   "metadata": {},
   "outputs": [
    {
     "data": {
      "text/html": [
       "23"
      ],
      "text/latex": [
       "23"
      ],
      "text/markdown": [
       "23"
      ],
      "text/plain": [
       "[1] 23"
      ]
     },
     "metadata": {},
     "output_type": "display_data"
    }
   ],
   "source": [
    "sum(rowSums(table(sce_day0$donor_short_id, sce_day0$experiment)>0)>1)"
   ]
  },
  {
   "cell_type": "code",
   "execution_count": 7,
   "metadata": {},
   "outputs": [
    {
     "data": {
      "text/html": [
       "20"
      ],
      "text/latex": [
       "20"
      ],
      "text/markdown": [
       "20"
      ],
      "text/plain": [
       "[1] 20"
      ]
     },
     "metadata": {},
     "output_type": "display_data"
    }
   ],
   "source": [
    "sce_day0_subselect = sce_day0[,sce_day0$donor_long_id %in% donors]\n",
    "sum(rowSums(table(sce_day0_subselect$donor_short_id, sce_day0_subselect$experiment)>0)>1)"
   ]
  },
  {
   "cell_type": "code",
   "execution_count": 8,
   "metadata": {},
   "outputs": [
    {
     "data": {
      "text/html": [
       "0.229885057471264"
      ],
      "text/latex": [
       "0.229885057471264"
      ],
      "text/markdown": [
       "0.229885057471264"
      ],
      "text/plain": [
       "[1] 0.2298851"
      ]
     },
     "metadata": {},
     "output_type": "display_data"
    }
   ],
   "source": [
    "20/87"
   ]
  },
  {
   "cell_type": "code",
   "execution_count": null,
   "metadata": {},
   "outputs": [],
   "source": []
  }
 ],
 "metadata": {
  "kernelspec": {
   "display_name": "R",
   "language": "R",
   "name": "ir"
  },
  "language_info": {
   "codemirror_mode": "r",
   "file_extension": ".r",
   "mimetype": "text/x-r-source",
   "name": "R",
   "pygments_lexer": "r",
   "version": "3.6.1"
  }
 },
 "nbformat": 4,
 "nbformat_minor": 4
}
