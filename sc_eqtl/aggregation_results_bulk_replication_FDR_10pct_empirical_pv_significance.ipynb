{
 "cells": [
  {
   "cell_type": "code",
   "execution_count": 5,
   "metadata": {},
   "outputs": [],
   "source": [
    "library(qvalue)\n",
    "library(dplyr)\n",
    "library(ggplot2)"
   ]
  },
  {
   "cell_type": "code",
   "execution_count": 6,
   "metadata": {},
   "outputs": [
    {
     "data": {
      "text/html": [
       "21592"
      ],
      "text/latex": [
       "21592"
      ],
      "text/markdown": [
       "21592"
      ],
      "text/plain": [
       "[1] 21592"
      ]
     },
     "metadata": {},
     "output_type": "display_data"
    },
    {
     "data": {
      "text/html": [
       "<table>\n",
       "<thead><tr><th></th><th scope=col>gene</th><th scope=col>mean</th><th scope=col>std</th><th scope=col>CV</th><th scope=col>quartile_cv</th></tr></thead>\n",
       "<tbody>\n",
       "\t<tr><th scope=row>2</th><td>ENSG00000227232</td><td>3.1805905      </td><td>3.6232403      </td><td>1.139172       </td><td>2              </td></tr>\n",
       "\t<tr><th scope=row>3</th><td>ENSG00000243485</td><td>0.2003178      </td><td>0.8649483      </td><td>4.317881       </td><td>3              </td></tr>\n",
       "</tbody>\n",
       "</table>\n"
      ],
      "text/latex": [
       "\\begin{tabular}{r|lllll}\n",
       "  & gene & mean & std & CV & quartile\\_cv\\\\\n",
       "\\hline\n",
       "\t2 & ENSG00000227232 & 3.1805905       & 3.6232403       & 1.139172        & 2              \\\\\n",
       "\t3 & ENSG00000243485 & 0.2003178       & 0.8649483       & 4.317881        & 3              \\\\\n",
       "\\end{tabular}\n"
      ],
      "text/markdown": [
       "\n",
       "| <!--/--> | gene | mean | std | CV | quartile_cv |\n",
       "|---|---|---|---|---|---|\n",
       "| 2 | ENSG00000227232 | 3.1805905       | 3.6232403       | 1.139172        | 2               |\n",
       "| 3 | ENSG00000243485 | 0.2003178       | 0.8649483       | 4.317881        | 3               |\n",
       "\n"
      ],
      "text/plain": [
       "  gene            mean      std       CV       quartile_cv\n",
       "2 ENSG00000227232 3.1805905 3.6232403 1.139172 2          \n",
       "3 ENSG00000243485 0.2003178 0.8649483 4.317881 3          "
      ]
     },
     "metadata": {},
     "output_type": "display_data"
    }
   ],
   "source": [
    "Giordanos_selection = \"/hps/nobackup/stegle/users/galvari/data/iPSCs/singleCell/metadata/ensembl_gene/Ensembl_75_Gene_CV_quant5.txt\"\n",
    "G_file = read.csv(Giordanos_selection, sep = \"\\t\")\n",
    "nrow(G_file)\n",
    "head(G_file,2)"
   ]
  },
  {
   "cell_type": "code",
   "execution_count": 7,
   "metadata": {},
   "outputs": [
    {
     "data": {
      "text/html": [
       "12720"
      ],
      "text/latex": [
       "12720"
      ],
      "text/markdown": [
       "12720"
      ],
      "text/plain": [
       "[1] 12720"
      ]
     },
     "metadata": {},
     "output_type": "display_data"
    }
   ],
   "source": [
    "df_common_genes = read.csv(\"/hps/nobackup/stegle/users/acuomo/all_scripts/sc_eqtl/common_genes_across_all_aggregation_methods_and_bulk.csv\")\n",
    "common_genes = as.character(df_common_genes$gene)\n",
    "length(common_genes)"
   ]
  },
  {
   "cell_type": "code",
   "execution_count": null,
   "metadata": {},
   "outputs": [],
   "source": []
  },
  {
   "cell_type": "code",
   "execution_count": 1,
   "metadata": {},
   "outputs": [],
   "source": [
    "bulk_matched_folder = \"/hps/nobackup/hipsci/scratch/ComparingQtlMapping/Bulk/BulkDay0Healthy_PCA20_88_206/\""
   ]
  },
  {
   "cell_type": "code",
   "execution_count": 8,
   "metadata": {},
   "outputs": [
    {
     "data": {
      "text/html": [
       "16691457"
      ],
      "text/latex": [
       "16691457"
      ],
      "text/markdown": [
       "16691457"
      ],
      "text/plain": [
       "[1] 16691457"
      ]
     },
     "metadata": {},
     "output_type": "display_data"
    }
   ],
   "source": [
    "# res = read.csv(paste0(bulk_matched_folder,\"qtl_results_all.txt\"), sep = \"\\t\")\n",
    "nrow(res)"
   ]
  },
  {
   "cell_type": "code",
   "execution_count": 6,
   "metadata": {},
   "outputs": [],
   "source": [
    "bulk_folder = \"/hps/nobackup/hipsci/scratch/ComparingQtlMapping/Bulk/BulkTotal_PCA20/\""
   ]
  },
  {
   "cell_type": "code",
   "execution_count": 9,
   "metadata": {},
   "outputs": [
    {
     "data": {
      "text/html": [
       "18974762"
      ],
      "text/latex": [
       "18974762"
      ],
      "text/markdown": [
       "18974762"
      ],
      "text/plain": [
       "[1] 18974762"
      ]
     },
     "metadata": {},
     "output_type": "display_data"
    }
   ],
   "source": [
    "# res_all = read.csv(paste0(bulk_folder,\"qtl_results_all.txt\"), sep = \"\\t\")\n",
    "nrow(res_all)"
   ]
  },
  {
   "cell_type": "code",
   "execution_count": 2,
   "metadata": {},
   "outputs": [
    {
     "data": {
      "text/html": [
       "43103"
      ],
      "text/latex": [
       "43103"
      ],
      "text/markdown": [
       "43103"
      ],
      "text/plain": [
       "[1] 43103"
      ]
     },
     "metadata": {},
     "output_type": "display_data"
    },
    {
     "data": {
      "text/html": [
       "<table>\n",
       "<thead><tr><th scope=col>snp_id</th><th scope=col>p_value</th><th scope=col>beta</th><th scope=col>beta_se</th><th scope=col>empirical_feature_p_value</th><th scope=col>feature_chromosome</th><th scope=col>feature_start</th><th scope=col>feature_end</th><th scope=col>n_samples</th><th scope=col>n_e_samples</th><th scope=col>alpha_param</th><th scope=col>beta_param</th><th scope=col>snp_chromosome</th><th scope=col>snp_position</th><th scope=col>assessed_allele</th><th scope=col>call_rate</th><th scope=col>maf</th><th scope=col>hwe_p</th><th scope=col>feature_id</th></tr></thead>\n",
       "<tbody>\n",
       "\t<tr><td>19_54622488_C_T</td><td>8.729855e-03   </td><td>-0.1991305     </td><td>0.07593285     </td><td>0.602212835    </td><td>19             </td><td>54641444       </td><td>54659419       </td><td>88             </td><td>88             </td><td>0.5684955      </td><td>27.30333       </td><td>19             </td><td>54622488       </td><td>T              </td><td>1              </td><td>0.4204545      </td><td>0.38051445     </td><td>ENSG00000088038</td></tr>\n",
       "\t<tr><td>19_54331892_A_G</td><td>2.928238e-05   </td><td>-0.2657114     </td><td>0.06358288     </td><td>0.009652824    </td><td>19             </td><td>54412589       </td><td>54447195       </td><td>88             </td><td>88             </td><td>0.7696934      </td><td>73.05146       </td><td>19             </td><td>54331892       </td><td>G              </td><td>1              </td><td>0.2727273      </td><td>0.79079983     </td><td>ENSG00000105605</td></tr>\n",
       "\t<tr><td>19_54679392_C_T</td><td>3.555071e-03   </td><td> 0.5805329     </td><td>0.19914276     </td><td>0.368087557    </td><td>19             </td><td>54754263       </td><td>54761164       </td><td>88             </td><td>88             </td><td>0.7764574      </td><td>41.14800       </td><td>19             </td><td>54679392       </td><td>T              </td><td>1              </td><td>0.3068182      </td><td>0.62175963     </td><td>ENSG00000105609</td></tr>\n",
       "\t<tr><td>19_54665970_C_T</td><td>1.812138e-02   </td><td>-0.3009787     </td><td>0.12736450     </td><td>0.800571372    </td><td>19             </td><td>54658899       </td><td>54663620       </td><td>88             </td><td>88             </td><td>0.6641172      </td><td>61.89647       </td><td>19             </td><td>54665970       </td><td>T              </td><td>1              </td><td>0.3522727      </td><td>0.10114641     </td><td>ENSG00000105617</td></tr>\n",
       "\t<tr><td>19_54734845_G_T</td><td>9.301671e-03   </td><td> 0.2793480     </td><td>0.10741002     </td><td>0.594256362    </td><td>19             </td><td>54618837       </td><td>54635140       </td><td>88             </td><td>88             </td><td>0.6589594      </td><td>60.81384       </td><td>19             </td><td>54734845       </td><td>T              </td><td>1              </td><td>0.2272727      </td><td>0.03595749     </td><td>ENSG00000105618</td></tr>\n",
       "\t<tr><td>19_54658102_C_G</td><td>2.565016e-03   </td><td>-0.3452162     </td><td>0.11447814     </td><td>0.239061707    </td><td>19             </td><td>54610320       </td><td>54619055       </td><td>88             </td><td>88             </td><td>0.6574670      </td><td>43.52220       </td><td>19             </td><td>54658102       </td><td>G              </td><td>1              </td><td>0.4261364      </td><td>0.82750674     </td><td>ENSG00000105619</td></tr>\n",
       "</tbody>\n",
       "</table>\n"
      ],
      "text/latex": [
       "\\begin{tabular}{r|lllllllllllllllllll}\n",
       " snp\\_id & p\\_value & beta & beta\\_se & empirical\\_feature\\_p\\_value & feature\\_chromosome & feature\\_start & feature\\_end & n\\_samples & n\\_e\\_samples & alpha\\_param & beta\\_param & snp\\_chromosome & snp\\_position & assessed\\_allele & call\\_rate & maf & hwe\\_p & feature\\_id\\\\\n",
       "\\hline\n",
       "\t 19\\_54622488\\_C\\_T & 8.729855e-03          & -0.1991305            & 0.07593285            & 0.602212835           & 19                    & 54641444              & 54659419              & 88                    & 88                    & 0.5684955             & 27.30333              & 19                    & 54622488              & T                     & 1                     & 0.4204545             & 0.38051445            & ENSG00000088038      \\\\\n",
       "\t 19\\_54331892\\_A\\_G & 2.928238e-05          & -0.2657114            & 0.06358288            & 0.009652824           & 19                    & 54412589              & 54447195              & 88                    & 88                    & 0.7696934             & 73.05146              & 19                    & 54331892              & G                     & 1                     & 0.2727273             & 0.79079983            & ENSG00000105605      \\\\\n",
       "\t 19\\_54679392\\_C\\_T & 3.555071e-03          &  0.5805329            & 0.19914276            & 0.368087557           & 19                    & 54754263              & 54761164              & 88                    & 88                    & 0.7764574             & 41.14800              & 19                    & 54679392              & T                     & 1                     & 0.3068182             & 0.62175963            & ENSG00000105609      \\\\\n",
       "\t 19\\_54665970\\_C\\_T & 1.812138e-02          & -0.3009787            & 0.12736450            & 0.800571372           & 19                    & 54658899              & 54663620              & 88                    & 88                    & 0.6641172             & 61.89647              & 19                    & 54665970              & T                     & 1                     & 0.3522727             & 0.10114641            & ENSG00000105617      \\\\\n",
       "\t 19\\_54734845\\_G\\_T & 9.301671e-03          &  0.2793480            & 0.10741002            & 0.594256362           & 19                    & 54618837              & 54635140              & 88                    & 88                    & 0.6589594             & 60.81384              & 19                    & 54734845              & T                     & 1                     & 0.2272727             & 0.03595749            & ENSG00000105618      \\\\\n",
       "\t 19\\_54658102\\_C\\_G & 2.565016e-03          & -0.3452162            & 0.11447814            & 0.239061707           & 19                    & 54610320              & 54619055              & 88                    & 88                    & 0.6574670             & 43.52220              & 19                    & 54658102              & G                     & 1                     & 0.4261364             & 0.82750674            & ENSG00000105619      \\\\\n",
       "\\end{tabular}\n"
      ],
      "text/markdown": [
       "\n",
       "| snp_id | p_value | beta | beta_se | empirical_feature_p_value | feature_chromosome | feature_start | feature_end | n_samples | n_e_samples | alpha_param | beta_param | snp_chromosome | snp_position | assessed_allele | call_rate | maf | hwe_p | feature_id |\n",
       "|---|---|---|---|---|---|---|---|---|---|---|---|---|---|---|---|---|---|---|\n",
       "| 19_54622488_C_T | 8.729855e-03    | -0.1991305      | 0.07593285      | 0.602212835     | 19              | 54641444        | 54659419        | 88              | 88              | 0.5684955       | 27.30333        | 19              | 54622488        | T               | 1               | 0.4204545       | 0.38051445      | ENSG00000088038 |\n",
       "| 19_54331892_A_G | 2.928238e-05    | -0.2657114      | 0.06358288      | 0.009652824     | 19              | 54412589        | 54447195        | 88              | 88              | 0.7696934       | 73.05146        | 19              | 54331892        | G               | 1               | 0.2727273       | 0.79079983      | ENSG00000105605 |\n",
       "| 19_54679392_C_T | 3.555071e-03    |  0.5805329      | 0.19914276      | 0.368087557     | 19              | 54754263        | 54761164        | 88              | 88              | 0.7764574       | 41.14800        | 19              | 54679392        | T               | 1               | 0.3068182       | 0.62175963      | ENSG00000105609 |\n",
       "| 19_54665970_C_T | 1.812138e-02    | -0.3009787      | 0.12736450      | 0.800571372     | 19              | 54658899        | 54663620        | 88              | 88              | 0.6641172       | 61.89647        | 19              | 54665970        | T               | 1               | 0.3522727       | 0.10114641      | ENSG00000105617 |\n",
       "| 19_54734845_G_T | 9.301671e-03    |  0.2793480      | 0.10741002      | 0.594256362     | 19              | 54618837        | 54635140        | 88              | 88              | 0.6589594       | 60.81384        | 19              | 54734845        | T               | 1               | 0.2272727       | 0.03595749      | ENSG00000105618 |\n",
       "| 19_54658102_C_G | 2.565016e-03    | -0.3452162      | 0.11447814      | 0.239061707     | 19              | 54610320        | 54619055        | 88              | 88              | 0.6574670       | 43.52220        | 19              | 54658102        | G               | 1               | 0.4261364       | 0.82750674      | ENSG00000105619 |\n",
       "\n"
      ],
      "text/plain": [
       "  snp_id          p_value      beta       beta_se    empirical_feature_p_value\n",
       "1 19_54622488_C_T 8.729855e-03 -0.1991305 0.07593285 0.602212835              \n",
       "2 19_54331892_A_G 2.928238e-05 -0.2657114 0.06358288 0.009652824              \n",
       "3 19_54679392_C_T 3.555071e-03  0.5805329 0.19914276 0.368087557              \n",
       "4 19_54665970_C_T 1.812138e-02 -0.3009787 0.12736450 0.800571372              \n",
       "5 19_54734845_G_T 9.301671e-03  0.2793480 0.10741002 0.594256362              \n",
       "6 19_54658102_C_G 2.565016e-03 -0.3452162 0.11447814 0.239061707              \n",
       "  feature_chromosome feature_start feature_end n_samples n_e_samples\n",
       "1 19                 54641444      54659419    88        88         \n",
       "2 19                 54412589      54447195    88        88         \n",
       "3 19                 54754263      54761164    88        88         \n",
       "4 19                 54658899      54663620    88        88         \n",
       "5 19                 54618837      54635140    88        88         \n",
       "6 19                 54610320      54619055    88        88         \n",
       "  alpha_param beta_param snp_chromosome snp_position assessed_allele call_rate\n",
       "1 0.5684955   27.30333   19             54622488     T               1        \n",
       "2 0.7696934   73.05146   19             54331892     G               1        \n",
       "3 0.7764574   41.14800   19             54679392     T               1        \n",
       "4 0.6641172   61.89647   19             54665970     T               1        \n",
       "5 0.6589594   60.81384   19             54734845     T               1        \n",
       "6 0.6574670   43.52220   19             54658102     G               1        \n",
       "  maf       hwe_p      feature_id     \n",
       "1 0.4204545 0.38051445 ENSG00000088038\n",
       "2 0.2727273 0.79079983 ENSG00000105605\n",
       "3 0.3068182 0.62175963 ENSG00000105609\n",
       "4 0.3522727 0.10114641 ENSG00000105617\n",
       "5 0.2272727 0.03595749 ENSG00000105618\n",
       "6 0.4261364 0.82750674 ENSG00000105619"
      ]
     },
     "metadata": {},
     "output_type": "display_data"
    }
   ],
   "source": [
    "leads = read.csv(paste0(bulk_matched_folder,\"top_qtl_results_all.txt\"), sep = \"\\t\")\n",
    "nrow(leads)\n",
    "head(leads)"
   ]
  },
  {
   "cell_type": "code",
   "execution_count": 18,
   "metadata": {},
   "outputs": [
    {
     "data": {
      "text/html": [
       "42791"
      ],
      "text/latex": [
       "42791"
      ],
      "text/markdown": [
       "42791"
      ],
      "text/plain": [
       "[1] 42791"
      ]
     },
     "metadata": {},
     "output_type": "display_data"
    },
    {
     "data": {
      "text/html": [
       "12720"
      ],
      "text/latex": [
       "12720"
      ],
      "text/markdown": [
       "12720"
      ],
      "text/plain": [
       "[1] 12720"
      ]
     },
     "metadata": {},
     "output_type": "display_data"
    },
    {
     "data": {
      "text/html": [
       "2603"
      ],
      "text/latex": [
       "2603"
      ],
      "text/markdown": [
       "2603"
      ],
      "text/plain": [
       "[1] 2603"
      ]
     },
     "metadata": {},
     "output_type": "display_data"
    }
   ],
   "source": [
    "df0 = leads\n",
    "df0 <- df0[-which(duplicated(df0$feature_id)),]\n",
    "length(unique(df0$feature_id))\n",
    "# df1 = df0[df0$feature_id %in% G_file$gene,]\n",
    "df1 = df0[df0$feature_id %in% common_genes,]\n",
    "length(unique(df1$feature_id))\n",
    "# df1$BH_fdr = p.adjust(df1$empirical_feature_p_value, method = 'BH')\n",
    "# length(unique(df1[df1$BH_fdr < 0.05,'feature_id']))\n",
    "df1$q_value = qvalue(df1$empirical_feature_p_value)$qvalues\n",
    "length(unique(df1[df1$q_value < 0.05,'feature_id']))"
   ]
  },
  {
   "cell_type": "code",
   "execution_count": 19,
   "metadata": {},
   "outputs": [
    {
     "data": {
      "text/html": [
       "0.0998900545189314"
      ],
      "text/latex": [
       "0.0998900545189314"
      ],
      "text/markdown": [
       "0.0998900545189314"
      ],
      "text/plain": [
       "[1] 0.09989005"
      ]
     },
     "metadata": {},
     "output_type": "display_data"
    },
    {
     "data": {
      "text/html": [
       "0.0548875985121435"
      ],
      "text/latex": [
       "0.0548875985121435"
      ],
      "text/markdown": [
       "0.0548875985121435"
      ],
      "text/plain": [
       "[1] 0.0548876"
      ]
     },
     "metadata": {},
     "output_type": "display_data"
    }
   ],
   "source": [
    "max_qval = max(df1[df1$q_value < 0.1,'q_value'])\n",
    "max_qval\n",
    "emp_pv_star_matched = max(df1[df1$q_value==max_qval,\"empirical_feature_p_value\"])\n",
    "emp_pv_star_matched"
   ]
  },
  {
   "cell_type": "code",
   "execution_count": 20,
   "metadata": {},
   "outputs": [
    {
     "name": "stderr",
     "output_type": "stream",
     "text": [
      "Warning message:\n",
      "“Column `snp_id` joining factors with different levels, coercing to character vector”Warning message:\n",
      "“Column `feature_id` joining factors with different levels, coercing to character vector”"
     ]
    },
    {
     "data": {
      "text/html": [
       "2590"
      ],
      "text/latex": [
       "2590"
      ],
      "text/markdown": [
       "2590"
      ],
      "text/plain": [
       "[1] 2590"
      ]
     },
     "metadata": {},
     "output_type": "display_data"
    },
    {
     "data": {
      "text/html": [
       "2448"
      ],
      "text/latex": [
       "2448"
      ],
      "text/markdown": [
       "2448"
      ],
      "text/plain": [
       "[1] 2448"
      ]
     },
     "metadata": {},
     "output_type": "display_data"
    },
    {
     "data": {
      "text/html": [
       "2448"
      ],
      "text/latex": [
       "2448"
      ],
      "text/markdown": [
       "2448"
      ],
      "text/plain": [
       "[1] 2448"
      ]
     },
     "metadata": {},
     "output_type": "display_data"
    }
   ],
   "source": [
    "df3 = df1[df1$q_value < 0.05,]\n",
    "df5 = inner_join(df3, res_all, by = c(\"snp_id\",\"feature_id\"), suffix = c(\".sc\",\".bulk\"))\n",
    "df5 <- df5[-which(duplicated(df5$feature_id)),]\n",
    "nrow(df5)\n",
    "\n",
    "nrow(df5[(df5$empirical_feature_p_value.bulk < emp_pv_star_all & \n",
    "         (df5$beta.sc*df5$beta.bulk)>0),])\n",
    "nrow(df5[df5$empirical_feature_p_value.bulk < emp_pv_star_all,])"
   ]
  },
  {
   "cell_type": "code",
   "execution_count": 14,
   "metadata": {},
   "outputs": [
    {
     "data": {
      "text/html": [
       "49916"
      ],
      "text/latex": [
       "49916"
      ],
      "text/markdown": [
       "49916"
      ],
      "text/plain": [
       "[1] 49916"
      ]
     },
     "metadata": {},
     "output_type": "display_data"
    }
   ],
   "source": [
    "leads_all = read.csv(paste0(bulk_folder,\"top_qtl_results_all.txt\"), sep = \"\\t\")\n",
    "nrow(leads_all)"
   ]
  },
  {
   "cell_type": "code",
   "execution_count": 15,
   "metadata": {},
   "outputs": [
    {
     "data": {
      "text/html": [
       "49554"
      ],
      "text/latex": [
       "49554"
      ],
      "text/markdown": [
       "49554"
      ],
      "text/plain": [
       "[1] 49554"
      ]
     },
     "metadata": {},
     "output_type": "display_data"
    },
    {
     "data": {
      "text/html": [
       "12720"
      ],
      "text/latex": [
       "12720"
      ],
      "text/markdown": [
       "12720"
      ],
      "text/plain": [
       "[1] 12720"
      ]
     },
     "metadata": {},
     "output_type": "display_data"
    },
    {
     "data": {
      "text/html": [
       "9729"
      ],
      "text/latex": [
       "9729"
      ],
      "text/markdown": [
       "9729"
      ],
      "text/plain": [
       "[1] 9729"
      ]
     },
     "metadata": {},
     "output_type": "display_data"
    }
   ],
   "source": [
    "df0 = leads_all\n",
    "df0 <- df0[-which(duplicated(df0$feature_id)),]\n",
    "length(unique(df0$feature_id))\n",
    "# df1 = df0[df0$feature_id %in% G_file$gene,]\n",
    "df1 = df0[df0$feature_id %in% common_genes,]\n",
    "length(unique(df1$feature_id))\n",
    "df1$q_value = qvalue(df1$empirical_feature_p_value)$qvalues\n",
    "length(unique(df1[df1$q_value < 0.05,'feature_id']))"
   ]
  },
  {
   "cell_type": "code",
   "execution_count": 16,
   "metadata": {},
   "outputs": [
    {
     "data": {
      "text/html": [
       "0.0999651303941386"
      ],
      "text/latex": [
       "0.0999651303941386"
      ],
      "text/markdown": [
       "0.0999651303941386"
      ],
      "text/plain": [
       "[1] 0.09996513"
      ]
     },
     "metadata": {},
     "output_type": "display_data"
    },
    {
     "data": {
      "text/html": [
       "0.491705549253554"
      ],
      "text/latex": [
       "0.491705549253554"
      ],
      "text/markdown": [
       "0.491705549253554"
      ],
      "text/plain": [
       "[1] 0.4917055"
      ]
     },
     "metadata": {},
     "output_type": "display_data"
    }
   ],
   "source": [
    "max_qval = max(df1[df1$q_value < 0.1,'q_value'])\n",
    "max_qval\n",
    "emp_pv_star_all = max(df1[df1$q_value==max_qval, \"empirical_feature_p_value\"])\n",
    "emp_pv_star_all"
   ]
  },
  {
   "cell_type": "code",
   "execution_count": null,
   "metadata": {},
   "outputs": [],
   "source": []
  },
  {
   "cell_type": "code",
   "execution_count": 19,
   "metadata": {},
   "outputs": [],
   "source": [
    "##### Mean"
   ]
  },
  {
   "cell_type": "code",
   "execution_count": 26,
   "metadata": {},
   "outputs": [],
   "source": [
    "mean_folder = \"/hps/nobackup/hipsci/scratch/ComparingQtlMapping/SingleCell/PseudoBulk/mean/\""
   ]
  },
  {
   "cell_type": "code",
   "execution_count": 38,
   "metadata": {},
   "outputs": [],
   "source": [
    "my_folder = paste0(mean_folder,\"Run_Output_PCA20_88_log_TPM_scater_libsize_206/\") # scran, 20PCs\n",
    "# my_folder = paste0(mean_folder,\"Run_Output_PCA20_88_log_TPM_scater_libsize_206_baynorm/\") # baynorm, 20PCs"
   ]
  },
  {
   "cell_type": "code",
   "execution_count": 39,
   "metadata": {},
   "outputs": [],
   "source": [
    "df0 = read.csv(paste0(my_folder,\"top_qtl_results_all.txt\"), sep = \"\\t\")\n",
    "df0 <- df0[-which(duplicated(df0$feature_id)),]"
   ]
  },
  {
   "cell_type": "code",
   "execution_count": 40,
   "metadata": {},
   "outputs": [
    {
     "data": {
      "text/html": [
       "50425"
      ],
      "text/latex": [
       "50425"
      ],
      "text/markdown": [
       "50425"
      ],
      "text/plain": [
       "[1] 50425"
      ]
     },
     "metadata": {},
     "output_type": "display_data"
    },
    {
     "data": {
      "text/html": [
       "12720"
      ],
      "text/latex": [
       "12720"
      ],
      "text/markdown": [
       "12720"
      ],
      "text/plain": [
       "[1] 12720"
      ]
     },
     "metadata": {},
     "output_type": "display_data"
    },
    {
     "data": {
      "text/html": [
       "1835"
      ],
      "text/latex": [
       "1835"
      ],
      "text/markdown": [
       "1835"
      ],
      "text/plain": [
       "[1] 1835"
      ]
     },
     "metadata": {},
     "output_type": "display_data"
    }
   ],
   "source": [
    "length(unique(df0$feature_id))\n",
    "# df1 = df0[df0$feature_id %in% G_file$gene,]\n",
    "df1 = df0[df0$feature_id %in% common_genes,]\n",
    "length(unique(df1$feature_id))\n",
    "\n",
    "df1$q_value = qvalue(df1$empirical_feature_p_value)$qvalues\n",
    "length(unique(df1[df1$q_value < 0.05,'feature_id']))\n",
    "\n",
    "df3 = df1[df1$q_value < 0.05,]\n",
    "# nrow(df3)"
   ]
  },
  {
   "cell_type": "code",
   "execution_count": 41,
   "metadata": {},
   "outputs": [
    {
     "name": "stderr",
     "output_type": "stream",
     "text": [
      "Warning message:\n",
      "“Column `snp_id` joining factors with different levels, coercing to character vector”Warning message:\n",
      "“Column `feature_id` joining factors with different levels, coercing to character vector”"
     ]
    },
    {
     "data": {
      "text/html": [
       "1835"
      ],
      "text/latex": [
       "1835"
      ],
      "text/markdown": [
       "1835"
      ],
      "text/plain": [
       "[1] 1835"
      ]
     },
     "metadata": {},
     "output_type": "display_data"
    },
    {
     "data": {
      "text/html": [
       "889"
      ],
      "text/latex": [
       "889"
      ],
      "text/markdown": [
       "889"
      ],
      "text/plain": [
       "[1] 889"
      ]
     },
     "metadata": {},
     "output_type": "display_data"
    },
    {
     "data": {
      "text/html": [
       "904"
      ],
      "text/latex": [
       "904"
      ],
      "text/markdown": [
       "904"
      ],
      "text/plain": [
       "[1] 904"
      ]
     },
     "metadata": {},
     "output_type": "display_data"
    }
   ],
   "source": [
    "df4 = inner_join(df3, res, by = c(\"snp_id\",\"feature_id\"), suffix = c(\".sc\",\".bulk\"))\n",
    "df4 <- df4[-which(duplicated(df4$feature_id)),]\n",
    "nrow(df4)\n",
    "\n",
    "nrow(df4[(df4$empirical_feature_p_value.bulk < emp_pv_star_matched & \n",
    "         (df4$beta.sc*df4$beta.bulk)>0),])\n",
    "nrow(df4[(df4$empirical_feature_p_value.bulk < emp_pv_star_matched),])"
   ]
  },
  {
   "cell_type": "code",
   "execution_count": 42,
   "metadata": {},
   "outputs": [
    {
     "name": "stderr",
     "output_type": "stream",
     "text": [
      "Warning message:\n",
      "“Column `snp_id` joining factors with different levels, coercing to character vector”Warning message:\n",
      "“Column `feature_id` joining factors with different levels, coercing to character vector”"
     ]
    },
    {
     "data": {
      "text/html": [
       "1829"
      ],
      "text/latex": [
       "1829"
      ],
      "text/markdown": [
       "1829"
      ],
      "text/plain": [
       "[1] 1829"
      ]
     },
     "metadata": {},
     "output_type": "display_data"
    },
    {
     "data": {
      "text/html": [
       "1367"
      ],
      "text/latex": [
       "1367"
      ],
      "text/markdown": [
       "1367"
      ],
      "text/plain": [
       "[1] 1367"
      ]
     },
     "metadata": {},
     "output_type": "display_data"
    },
    {
     "data": {
      "text/html": [
       "1471"
      ],
      "text/latex": [
       "1471"
      ],
      "text/markdown": [
       "1471"
      ],
      "text/plain": [
       "[1] 1471"
      ]
     },
     "metadata": {},
     "output_type": "display_data"
    }
   ],
   "source": [
    "df5 = inner_join(df3, res_all, by = c(\"snp_id\",\"feature_id\"), suffix = c(\".sc\",\".bulk\"))\n",
    "df5 <- df5[-which(duplicated(df5$feature_id)),]\n",
    "nrow(df5)\n",
    "\n",
    "nrow(df5[(df5$empirical_feature_p_value.bulk < emp_pv_star_all & \n",
    "         (df5$beta.sc*df5$beta.bulk)>0),])\n",
    "nrow(df5[(df5$empirical_feature_p_value.bulk < emp_pv_star_all),])"
   ]
  },
  {
   "cell_type": "code",
   "execution_count": 43,
   "metadata": {},
   "outputs": [],
   "source": [
    "dr_mean = df5[(df5$empirical_feature_p_value.bulk < emp_pv_star_all & \n",
    "         (df5$beta.sc*df5$beta.bulk)>0),\"feature_id\"]"
   ]
  },
  {
   "cell_type": "code",
   "execution_count": 27,
   "metadata": {},
   "outputs": [],
   "source": [
    "##### Total Mean"
   ]
  },
  {
   "cell_type": "code",
   "execution_count": 28,
   "metadata": {},
   "outputs": [],
   "source": [
    "total_mean_folder = \"/hps/nobackup/hipsci/scratch/ComparingQtlMapping/SingleCell/PseudoBulk/totmean/\""
   ]
  },
  {
   "cell_type": "code",
   "execution_count": 29,
   "metadata": {},
   "outputs": [],
   "source": [
    "my_folder = paste0(total_mean_folder,\"Run_Output_PCA20_88_log_TPM_scater_libsize_206/\") # scran, 20PCs"
   ]
  },
  {
   "cell_type": "code",
   "execution_count": 30,
   "metadata": {},
   "outputs": [],
   "source": [
    "df0 = read.csv(paste0(my_folder,\"top_qtl_results_all.txt\"), sep = \"\\t\")\n",
    "df0 <- df0[-which(duplicated(df0$feature_id)),]"
   ]
  },
  {
   "cell_type": "code",
   "execution_count": 31,
   "metadata": {},
   "outputs": [
    {
     "data": {
      "text/html": [
       "50429"
      ],
      "text/latex": [
       "50429"
      ],
      "text/markdown": [
       "50429"
      ],
      "text/plain": [
       "[1] 50429"
      ]
     },
     "metadata": {},
     "output_type": "display_data"
    },
    {
     "data": {
      "text/html": [
       "12720"
      ],
      "text/latex": [
       "12720"
      ],
      "text/markdown": [
       "12720"
      ],
      "text/plain": [
       "[1] 12720"
      ]
     },
     "metadata": {},
     "output_type": "display_data"
    },
    {
     "data": {
      "text/html": [
       "1305"
      ],
      "text/latex": [
       "1305"
      ],
      "text/markdown": [
       "1305"
      ],
      "text/plain": [
       "[1] 1305"
      ]
     },
     "metadata": {},
     "output_type": "display_data"
    }
   ],
   "source": [
    "length(unique(df0$feature_id))\n",
    "# df1 = df0[df0$feature_id %in% G_file$gene,]\n",
    "df1 = df0[df0$feature_id %in% common_genes,]\n",
    "length(unique(df1$feature_id))\n",
    "df1$q_value = qvalue(df1$empirical_feature_p_value)$qvalues\n",
    "length(unique(df1[df1$q_value < 0.05,'feature_id']))\n",
    "\n",
    "df3 = df1[df1$q_value < 0.05,]\n",
    "# nrow(df3)"
   ]
  },
  {
   "cell_type": "code",
   "execution_count": 32,
   "metadata": {},
   "outputs": [
    {
     "name": "stderr",
     "output_type": "stream",
     "text": [
      "Warning message:\n",
      "“Column `snp_id` joining factors with different levels, coercing to character vector”Warning message:\n",
      "“Column `feature_id` joining factors with different levels, coercing to character vector”"
     ]
    },
    {
     "data": {
      "text/html": [
       "1305"
      ],
      "text/latex": [
       "1305"
      ],
      "text/markdown": [
       "1305"
      ],
      "text/plain": [
       "[1] 1305"
      ]
     },
     "metadata": {},
     "output_type": "display_data"
    },
    {
     "data": {
      "text/html": [
       "768"
      ],
      "text/latex": [
       "768"
      ],
      "text/markdown": [
       "768"
      ],
      "text/plain": [
       "[1] 768"
      ]
     },
     "metadata": {},
     "output_type": "display_data"
    },
    {
     "data": {
      "text/html": [
       "781"
      ],
      "text/latex": [
       "781"
      ],
      "text/markdown": [
       "781"
      ],
      "text/plain": [
       "[1] 781"
      ]
     },
     "metadata": {},
     "output_type": "display_data"
    }
   ],
   "source": [
    "df4 = inner_join(df3, res, by = c(\"snp_id\",\"feature_id\"), suffix = c(\".sc\",\".bulk\"))\n",
    "df4 <- df4[-which(duplicated(df4$feature_id)),]\n",
    "nrow(df4)\n",
    "\n",
    "nrow(df4[(df4$empirical_feature_p_value.bulk < emp_pv_star_matched & \n",
    "         (df4$beta.sc*df4$beta.bulk)>0),])\n",
    "nrow(df4[(df4$empirical_feature_p_value.bulk < emp_pv_star_matched),])"
   ]
  },
  {
   "cell_type": "code",
   "execution_count": 33,
   "metadata": {},
   "outputs": [
    {
     "name": "stderr",
     "output_type": "stream",
     "text": [
      "Warning message:\n",
      "“Column `snp_id` joining factors with different levels, coercing to character vector”Warning message:\n",
      "“Column `feature_id` joining factors with different levels, coercing to character vector”"
     ]
    },
    {
     "data": {
      "text/html": [
       "1301"
      ],
      "text/latex": [
       "1301"
      ],
      "text/markdown": [
       "1301"
      ],
      "text/plain": [
       "[1] 1301"
      ]
     },
     "metadata": {},
     "output_type": "display_data"
    },
    {
     "data": {
      "text/html": [
       "1046"
      ],
      "text/latex": [
       "1046"
      ],
      "text/markdown": [
       "1046"
      ],
      "text/plain": [
       "[1] 1046"
      ]
     },
     "metadata": {},
     "output_type": "display_data"
    },
    {
     "data": {
      "text/html": [
       "1119"
      ],
      "text/latex": [
       "1119"
      ],
      "text/markdown": [
       "1119"
      ],
      "text/plain": [
       "[1] 1119"
      ]
     },
     "metadata": {},
     "output_type": "display_data"
    }
   ],
   "source": [
    "df5 = inner_join(df3, res_all, by = c(\"snp_id\",\"feature_id\"), suffix = c(\".sc\",\".bulk\"))\n",
    "df5 <- df5[-which(duplicated(df5$feature_id)),]\n",
    "nrow(df5)\n",
    "\n",
    "nrow(df5[(df5$empirical_feature_p_value.bulk < emp_pv_star_all & \n",
    "         (df5$beta.sc*df5$beta.bulk)>0),])\n",
    "nrow(df5[(df5$empirical_feature_p_value.bulk < emp_pv_star_all),])"
   ]
  },
  {
   "cell_type": "code",
   "execution_count": 34,
   "metadata": {},
   "outputs": [],
   "source": [
    "d_mean = df5[(df5$empirical_feature_p_value.bulk < emp_pv_star_all & \n",
    "         (df5$beta.sc*df5$beta.bulk)>0),\"feature_id\"]"
   ]
  },
  {
   "cell_type": "code",
   "execution_count": 35,
   "metadata": {},
   "outputs": [],
   "source": [
    "##### Median"
   ]
  },
  {
   "cell_type": "code",
   "execution_count": 36,
   "metadata": {},
   "outputs": [],
   "source": [
    "median_folder = \"/hps/nobackup/hipsci/scratch/ComparingQtlMapping/SingleCell/PseudoBulk/median/\""
   ]
  },
  {
   "cell_type": "code",
   "execution_count": 37,
   "metadata": {},
   "outputs": [],
   "source": [
    "my_folder = paste0(median_folder,\"Run_Output_PCA20_88_log_TPM_scater_libsize_206/\") # scran, 20PCs"
   ]
  },
  {
   "cell_type": "code",
   "execution_count": 38,
   "metadata": {},
   "outputs": [],
   "source": [
    "# df = read.csv(paste0(my_folder,\"qtl_results_all.txt\"), sep = \"\\t\")\n",
    "# df <- df[order(df$empirical_feature_p_value, df$p_value ),]\n",
    "# df0 <- df[-which(duplicated(df$feature_id)),]\n",
    "# length(unique(df0$feature_id))"
   ]
  },
  {
   "cell_type": "code",
   "execution_count": 39,
   "metadata": {},
   "outputs": [
    {
     "data": {
      "text/html": [
       "13628"
      ],
      "text/latex": [
       "13628"
      ],
      "text/markdown": [
       "13628"
      ],
      "text/plain": [
       "[1] 13628"
      ]
     },
     "metadata": {},
     "output_type": "display_data"
    }
   ],
   "source": [
    "df0 = read.csv(paste0(my_folder,\"top_qtl_results_all.txt\"), sep = \"\\t\")\n",
    "median_genes = unique(df0$feature_id)\n",
    "length(median_genes)"
   ]
  },
  {
   "cell_type": "code",
   "execution_count": 40,
   "metadata": {},
   "outputs": [
    {
     "data": {
      "text/html": [
       "13628"
      ],
      "text/latex": [
       "13628"
      ],
      "text/markdown": [
       "13628"
      ],
      "text/plain": [
       "[1] 13628"
      ]
     },
     "metadata": {},
     "output_type": "display_data"
    },
    {
     "data": {
      "text/html": [
       "12720"
      ],
      "text/latex": [
       "12720"
      ],
      "text/markdown": [
       "12720"
      ],
      "text/plain": [
       "[1] 12720"
      ]
     },
     "metadata": {},
     "output_type": "display_data"
    },
    {
     "data": {
      "text/html": [
       "1337"
      ],
      "text/latex": [
       "1337"
      ],
      "text/markdown": [
       "1337"
      ],
      "text/plain": [
       "[1] 1337"
      ]
     },
     "metadata": {},
     "output_type": "display_data"
    },
    {
     "data": {
      "text/html": [
       "1340"
      ],
      "text/latex": [
       "1340"
      ],
      "text/markdown": [
       "1340"
      ],
      "text/plain": [
       "[1] 1340"
      ]
     },
     "metadata": {},
     "output_type": "display_data"
    },
    {
     "name": "stderr",
     "output_type": "stream",
     "text": [
      "Warning message:\n",
      "“Column `snp_id` joining factors with different levels, coercing to character vector”Warning message:\n",
      "“Column `feature_id` joining factors with different levels, coercing to character vector”"
     ]
    },
    {
     "data": {
      "text/html": [
       "1337"
      ],
      "text/latex": [
       "1337"
      ],
      "text/markdown": [
       "1337"
      ],
      "text/plain": [
       "[1] 1337"
      ]
     },
     "metadata": {},
     "output_type": "display_data"
    },
    {
     "data": {
      "text/html": [
       "650"
      ],
      "text/latex": [
       "650"
      ],
      "text/markdown": [
       "650"
      ],
      "text/plain": [
       "[1] 650"
      ]
     },
     "metadata": {},
     "output_type": "display_data"
    },
    {
     "data": {
      "text/html": [
       "668"
      ],
      "text/latex": [
       "668"
      ],
      "text/markdown": [
       "668"
      ],
      "text/plain": [
       "[1] 668"
      ]
     },
     "metadata": {},
     "output_type": "display_data"
    },
    {
     "name": "stderr",
     "output_type": "stream",
     "text": [
      "Warning message:\n",
      "“Column `snp_id` joining factors with different levels, coercing to character vector”Warning message:\n",
      "“Column `feature_id` joining factors with different levels, coercing to character vector”"
     ]
    },
    {
     "data": {
      "text/html": [
       "1333"
      ],
      "text/latex": [
       "1333"
      ],
      "text/markdown": [
       "1333"
      ],
      "text/plain": [
       "[1] 1333"
      ]
     },
     "metadata": {},
     "output_type": "display_data"
    },
    {
     "data": {
      "text/html": [
       "952"
      ],
      "text/latex": [
       "952"
      ],
      "text/markdown": [
       "952"
      ],
      "text/plain": [
       "[1] 952"
      ]
     },
     "metadata": {},
     "output_type": "display_data"
    },
    {
     "data": {
      "text/html": [
       "1034"
      ],
      "text/latex": [
       "1034"
      ],
      "text/markdown": [
       "1034"
      ],
      "text/plain": [
       "[1] 1034"
      ]
     },
     "metadata": {},
     "output_type": "display_data"
    }
   ],
   "source": [
    "length(unique(df0$feature_id))\n",
    "# df1 = df0[df0$feature_id %in% G_file$gene,]\n",
    "df1 = df0[df0$feature_id %in% common_genes,]\n",
    "length(unique(df1$feature_id))\n",
    "df1$q_value = qvalue(df1$empirical_feature_p_value)$qvalues\n",
    "length(unique(df1[df1$q_value < 0.05,'feature_id']))\n",
    "\n",
    "df3 = df1[df1$q_value < 0.05,]\n",
    "nrow(df3)\n",
    "\n",
    "df4 = inner_join(df3, res, by = c(\"snp_id\",\"feature_id\"), suffix = c(\".sc\",\".bulk\"))\n",
    "df4 <- df4[-which(duplicated(df4$feature_id)),]\n",
    "nrow(df4)\n",
    "\n",
    "nrow(df4[(df4$empirical_feature_p_value.bulk < emp_pv_star_matched & \n",
    "         (df4$beta.sc*df4$beta.bulk)>0),])\n",
    "nrow(df4[(df4$empirical_feature_p_value.bulk < emp_pv_star_matched),])\n",
    "\n",
    "df5 = inner_join(df3, res_all, by = c(\"snp_id\",\"feature_id\"), suffix = c(\".sc\",\".bulk\"))\n",
    "df5 <- df5[-which(duplicated(df5$feature_id)),]\n",
    "nrow(df5)\n",
    "\n",
    "nrow(df5[(df5$empirical_feature_p_value.bulk < emp_pv_star_all & \n",
    "         (df5$beta.sc*df5$beta.bulk)>0),])\n",
    "nrow(df5[(df5$empirical_feature_p_value.bulk < emp_pv_star_all),])"
   ]
  },
  {
   "cell_type": "code",
   "execution_count": 41,
   "metadata": {},
   "outputs": [],
   "source": [
    "dr_median = df5[(df5$empirical_feature_p_value.bulk < emp_pv_star_all & \n",
    "         (df5$beta.sc*df5$beta.bulk)>0),\"feature_id\"]"
   ]
  },
  {
   "cell_type": "code",
   "execution_count": 42,
   "metadata": {},
   "outputs": [],
   "source": [
    "###### Total Median"
   ]
  },
  {
   "cell_type": "code",
   "execution_count": 32,
   "metadata": {},
   "outputs": [],
   "source": [
    "totmedian_folder = \"/hps/nobackup/hipsci/scratch/ComparingQtlMapping/SingleCell/PseudoBulk/totmedian/\""
   ]
  },
  {
   "cell_type": "code",
   "execution_count": 33,
   "metadata": {},
   "outputs": [],
   "source": [
    "my_folder = paste0(totmedian_folder,\"Run_Output_PCA20_88_log_TPM_scater_libsize_206/\") # scran, 20PCs"
   ]
  },
  {
   "cell_type": "code",
   "execution_count": 34,
   "metadata": {},
   "outputs": [],
   "source": [
    "df0 = read.csv(paste0(my_folder,\"top_qtl_results_all.txt\"), sep = \"\\t\")\n",
    "df0 <- df0[-which(duplicated(df0$feature_id)),]"
   ]
  },
  {
   "cell_type": "code",
   "execution_count": 35,
   "metadata": {},
   "outputs": [
    {
     "data": {
      "text/html": [
       "12727"
      ],
      "text/latex": [
       "12727"
      ],
      "text/markdown": [
       "12727"
      ],
      "text/plain": [
       "[1] 12727"
      ]
     },
     "metadata": {},
     "output_type": "display_data"
    },
    {
     "data": {
      "text/html": [
       "12720"
      ],
      "text/latex": [
       "12720"
      ],
      "text/markdown": [
       "12720"
      ],
      "text/plain": [
       "[1] 12720"
      ]
     },
     "metadata": {},
     "output_type": "display_data"
    },
    {
     "data": {
      "text/html": [
       "776"
      ],
      "text/latex": [
       "776"
      ],
      "text/markdown": [
       "776"
      ],
      "text/plain": [
       "[1] 776"
      ]
     },
     "metadata": {},
     "output_type": "display_data"
    },
    {
     "data": {
      "text/html": [
       "776"
      ],
      "text/latex": [
       "776"
      ],
      "text/markdown": [
       "776"
      ],
      "text/plain": [
       "[1] 776"
      ]
     },
     "metadata": {},
     "output_type": "display_data"
    }
   ],
   "source": [
    "length(unique(df0$feature_id))\n",
    "# df1 = df0[df0$feature_id %in% G_file$gene,]\n",
    "df1 = df0[df0$feature_id %in% common_genes,]\n",
    "length(unique(df1$feature_id))\n",
    "df1$q_value = qvalue(df1$empirical_feature_p_value)$qvalues\n",
    "length(unique(df1[df1$q_value < 0.05,'feature_id']))\n",
    "\n",
    "df3 = df1[df1$q_value < 0.05,]\n",
    "nrow(df3)"
   ]
  },
  {
   "cell_type": "code",
   "execution_count": 36,
   "metadata": {},
   "outputs": [
    {
     "name": "stderr",
     "output_type": "stream",
     "text": [
      "Warning message:\n",
      "“Column `snp_id` joining factors with different levels, coercing to character vector”Warning message:\n",
      "“Column `feature_id` joining factors with different levels, coercing to character vector”"
     ]
    },
    {
     "data": {
      "text/html": [
       "774"
      ],
      "text/latex": [
       "774"
      ],
      "text/markdown": [
       "774"
      ],
      "text/plain": [
       "[1] 774"
      ]
     },
     "metadata": {},
     "output_type": "display_data"
    },
    {
     "data": {
      "text/html": [
       "470"
      ],
      "text/latex": [
       "470"
      ],
      "text/markdown": [
       "470"
      ],
      "text/plain": [
       "[1] 470"
      ]
     },
     "metadata": {},
     "output_type": "display_data"
    },
    {
     "data": {
      "text/html": [
       "483"
      ],
      "text/latex": [
       "483"
      ],
      "text/markdown": [
       "483"
      ],
      "text/plain": [
       "[1] 483"
      ]
     },
     "metadata": {},
     "output_type": "display_data"
    },
    {
     "name": "stderr",
     "output_type": "stream",
     "text": [
      "Warning message:\n",
      "“Column `snp_id` joining factors with different levels, coercing to character vector”Warning message:\n",
      "“Column `feature_id` joining factors with different levels, coercing to character vector”"
     ]
    },
    {
     "data": {
      "text/html": [
       "774"
      ],
      "text/latex": [
       "774"
      ],
      "text/markdown": [
       "774"
      ],
      "text/plain": [
       "[1] 774"
      ]
     },
     "metadata": {},
     "output_type": "display_data"
    },
    {
     "data": {
      "text/html": [
       "625"
      ],
      "text/latex": [
       "625"
      ],
      "text/markdown": [
       "625"
      ],
      "text/plain": [
       "[1] 625"
      ]
     },
     "metadata": {},
     "output_type": "display_data"
    },
    {
     "data": {
      "text/html": [
       "681"
      ],
      "text/latex": [
       "681"
      ],
      "text/markdown": [
       "681"
      ],
      "text/plain": [
       "[1] 681"
      ]
     },
     "metadata": {},
     "output_type": "display_data"
    }
   ],
   "source": [
    "df4 = inner_join(df3, res, by = c(\"snp_id\",\"feature_id\"), suffix = c(\".sc\",\".bulk\"))\n",
    "df4 <- df4[-which(duplicated(df4$feature_id)),]\n",
    "nrow(df4)\n",
    "\n",
    "nrow(df4[(df4$empirical_feature_p_value.bulk < emp_pv_star_matched & \n",
    "         (df4$beta.sc*df4$beta.bulk)>0),])\n",
    "nrow(df4[(df4$empirical_feature_p_value.bulk < emp_pv_star_matched),])\n",
    "\n",
    "df5 = inner_join(df3, res_all, by = c(\"snp_id\",\"feature_id\"), suffix = c(\".sc\",\".bulk\"))\n",
    "df5 <- df5[-which(duplicated(df5$feature_id)),]\n",
    "nrow(df5)\n",
    "\n",
    "nrow(df5[(df5$empirical_feature_p_value.bulk < emp_pv_star_all & \n",
    "         (df5$beta.sc*df5$beta.bulk)>0),])\n",
    "nrow(df5[(df5$empirical_feature_p_value.bulk < emp_pv_star_all),])"
   ]
  },
  {
   "cell_type": "code",
   "execution_count": 37,
   "metadata": {},
   "outputs": [],
   "source": [
    "d_median = df5[(df5$empirical_feature_p_value.bulk < emp_pv_star_all & \n",
    "         (df5$beta.sc*df5$beta.bulk)>0),\"feature_id\"]"
   ]
  },
  {
   "cell_type": "code",
   "execution_count": 49,
   "metadata": {},
   "outputs": [],
   "source": [
    "##### Sum"
   ]
  },
  {
   "cell_type": "code",
   "execution_count": 50,
   "metadata": {},
   "outputs": [],
   "source": [
    "sum_folder = \"/hps/nobackup/hipsci/scratch/ComparingQtlMapping/SingleCell/PseudoBulk/sum/\""
   ]
  },
  {
   "cell_type": "code",
   "execution_count": 51,
   "metadata": {},
   "outputs": [],
   "source": [
    "my_folder = paste0(sum_folder,\"Run_Output_PCA20_88_log_TPM_edgeR_libsize_206/\") # edgeR, 20PCs"
   ]
  },
  {
   "cell_type": "code",
   "execution_count": 52,
   "metadata": {},
   "outputs": [],
   "source": [
    "df0 = read.csv(paste0(my_folder,\"top_qtl_results_all.txt\"), sep = \"\\t\")\n",
    "df0 <- df0[-which(duplicated(df0$feature_id)),]"
   ]
  },
  {
   "cell_type": "code",
   "execution_count": 53,
   "metadata": {},
   "outputs": [
    {
     "data": {
      "text/html": [
       "50427"
      ],
      "text/latex": [
       "50427"
      ],
      "text/markdown": [
       "50427"
      ],
      "text/plain": [
       "[1] 50427"
      ]
     },
     "metadata": {},
     "output_type": "display_data"
    },
    {
     "data": {
      "text/html": [
       "12720"
      ],
      "text/latex": [
       "12720"
      ],
      "text/markdown": [
       "12720"
      ],
      "text/plain": [
       "[1] 12720"
      ]
     },
     "metadata": {},
     "output_type": "display_data"
    },
    {
     "data": {
      "text/html": [
       "1463"
      ],
      "text/latex": [
       "1463"
      ],
      "text/markdown": [
       "1463"
      ],
      "text/plain": [
       "[1] 1463"
      ]
     },
     "metadata": {},
     "output_type": "display_data"
    },
    {
     "data": {
      "text/html": [
       "1463"
      ],
      "text/latex": [
       "1463"
      ],
      "text/markdown": [
       "1463"
      ],
      "text/plain": [
       "[1] 1463"
      ]
     },
     "metadata": {},
     "output_type": "display_data"
    }
   ],
   "source": [
    "length(unique(df0$feature_id))\n",
    "# df1 = df0[df0$feature_id %in% G_file$gene,]\n",
    "df1 = df0[df0$feature_id %in% common_genes,]\n",
    "length(unique(df1$feature_id))\n",
    "df1$q_value = qvalue(df1$empirical_feature_p_value)$qvalues\n",
    "length(unique(df1[df1$q_value < 0.05,'feature_id']))\n",
    "\n",
    "df3 = df1[df1$q_value < 0.05,]\n",
    "nrow(df3)"
   ]
  },
  {
   "cell_type": "code",
   "execution_count": 54,
   "metadata": {},
   "outputs": [
    {
     "name": "stderr",
     "output_type": "stream",
     "text": [
      "Warning message:\n",
      "“Column `snp_id` joining factors with different levels, coercing to character vector”Warning message:\n",
      "“Column `feature_id` joining factors with different levels, coercing to character vector”"
     ]
    },
    {
     "data": {
      "text/html": [
       "1451"
      ],
      "text/latex": [
       "1451"
      ],
      "text/markdown": [
       "1451"
      ],
      "text/plain": [
       "[1] 1451"
      ]
     },
     "metadata": {},
     "output_type": "display_data"
    },
    {
     "data": {
      "text/html": [
       "819"
      ],
      "text/latex": [
       "819"
      ],
      "text/markdown": [
       "819"
      ],
      "text/plain": [
       "[1] 819"
      ]
     },
     "metadata": {},
     "output_type": "display_data"
    },
    {
     "data": {
      "text/html": [
       "832"
      ],
      "text/latex": [
       "832"
      ],
      "text/markdown": [
       "832"
      ],
      "text/plain": [
       "[1] 832"
      ]
     },
     "metadata": {},
     "output_type": "display_data"
    }
   ],
   "source": [
    "df4 = inner_join(df3, res, by = c(\"snp_id\",\"feature_id\"), suffix = c(\".sc\",\".bulk\"))\n",
    "df4 <- df4[-which(duplicated(df4$feature_id)),]\n",
    "nrow(df4)\n",
    "\n",
    "nrow(df4[(df4$empirical_feature_p_value.bulk < emp_pv_star_matched & \n",
    "         (df4$beta.sc*df4$beta.bulk)>0),])\n",
    "nrow(df4[(df4$empirical_feature_p_value.bulk < emp_pv_star_matched),])"
   ]
  },
  {
   "cell_type": "code",
   "execution_count": 55,
   "metadata": {},
   "outputs": [
    {
     "name": "stderr",
     "output_type": "stream",
     "text": [
      "Warning message:\n",
      "“Column `snp_id` joining factors with different levels, coercing to character vector”Warning message:\n",
      "“Column `feature_id` joining factors with different levels, coercing to character vector”"
     ]
    },
    {
     "data": {
      "text/html": [
       "1448"
      ],
      "text/latex": [
       "1448"
      ],
      "text/markdown": [
       "1448"
      ],
      "text/plain": [
       "[1] 1448"
      ]
     },
     "metadata": {},
     "output_type": "display_data"
    },
    {
     "data": {
      "text/html": [
       "1153"
      ],
      "text/latex": [
       "1153"
      ],
      "text/markdown": [
       "1153"
      ],
      "text/plain": [
       "[1] 1153"
      ]
     },
     "metadata": {},
     "output_type": "display_data"
    },
    {
     "data": {
      "text/html": [
       "1232"
      ],
      "text/latex": [
       "1232"
      ],
      "text/markdown": [
       "1232"
      ],
      "text/plain": [
       "[1] 1232"
      ]
     },
     "metadata": {},
     "output_type": "display_data"
    }
   ],
   "source": [
    "df5 = inner_join(df3, res_all, by = c(\"snp_id\",\"feature_id\"), suffix = c(\".sc\",\".bulk\"))\n",
    "df5 <- df5[-which(duplicated(df5$feature_id)),]\n",
    "nrow(df5)\n",
    "\n",
    "nrow(df5[(df5$empirical_feature_p_value.bulk < emp_pv_star_all & \n",
    "         (df5$beta.sc*df5$beta.bulk)>0),])\n",
    "nrow(df5[(df5$empirical_feature_p_value.bulk < emp_pv_star_all),])"
   ]
  },
  {
   "cell_type": "code",
   "execution_count": 56,
   "metadata": {},
   "outputs": [],
   "source": [
    "dr_sum = df5[(df5$empirical_feature_p_value.bulk < emp_pv_star_all & \n",
    "         (df5$beta.sc*df5$beta.bulk)>0),\"feature_id\"]"
   ]
  },
  {
   "cell_type": "code",
   "execution_count": null,
   "metadata": {},
   "outputs": [],
   "source": []
  },
  {
   "cell_type": "code",
   "execution_count": 57,
   "metadata": {},
   "outputs": [],
   "source": [
    "##### Total Sum"
   ]
  },
  {
   "cell_type": "code",
   "execution_count": 58,
   "metadata": {},
   "outputs": [],
   "source": [
    "total_sum_folder = \"/hps/nobackup/hipsci/scratch/ComparingQtlMapping/SingleCell/PseudoBulk/totsum/\""
   ]
  },
  {
   "cell_type": "code",
   "execution_count": 59,
   "metadata": {},
   "outputs": [],
   "source": [
    "my_folder = paste0(total_sum_folder,\"Run_Output_PCA20_88_log_TPM_edgeR_libsize_206/\") # edgeR, 20PCs"
   ]
  },
  {
   "cell_type": "code",
   "execution_count": 60,
   "metadata": {},
   "outputs": [],
   "source": [
    "# df = read.csv(paste0(my_folder,\"qtl_results_all.txt\"), sep = \"\\t\")\n",
    "# df <- df[order(df$empirical_feature_p_value, df$p_value ),]\n",
    "# df0 <- df[-which(duplicated(df$feature_id)),]\n",
    "# # nrow(df0)\n",
    "# length(unique(df0$feature_id))"
   ]
  },
  {
   "cell_type": "code",
   "execution_count": 61,
   "metadata": {},
   "outputs": [],
   "source": [
    "# write.table(df0, \"/hps/nobackup/stegle/users/acuomo/all_scripts/sc_eqtl/top_qtl_results_totsum.txt\")"
   ]
  },
  {
   "cell_type": "code",
   "execution_count": 62,
   "metadata": {},
   "outputs": [
    {
     "data": {
      "text/html": [
       "<table>\n",
       "<thead><tr><th></th><th scope=col>feature_id</th><th scope=col>snp_id</th><th scope=col>p_value</th><th scope=col>beta</th><th scope=col>beta_se</th><th scope=col>empirical_feature_p_value</th><th scope=col>feature_chromosome</th><th scope=col>feature_start</th><th scope=col>feature_end</th><th scope=col>n_samples</th><th scope=col>n_e_samples</th><th scope=col>alpha_param</th><th scope=col>beta_param</th><th scope=col>snp_chromosome</th><th scope=col>snp_position</th><th scope=col>assessed_allele</th><th scope=col>call_rate</th><th scope=col>maf</th><th scope=col>hwe_p</th></tr></thead>\n",
       "<tbody>\n",
       "\t<tr><th scope=row>1955841</th><td>ENSG00000203875</td><td>6_86387888_G_T </td><td>1.514293e-27   </td><td> 1.010238      </td><td>0.09289432     </td><td>6.375394e-24   </td><td> 6             </td><td>86370710       </td><td>86388451       </td><td>87             </td><td>87             </td><td>0.7886659      </td><td>17.12808       </td><td> 6             </td><td>86387888       </td><td>T              </td><td>1              </td><td>0.4655172      </td><td>0.6673797      </td></tr>\n",
       "\t<tr><th scope=row>6927785</th><td>ENSG00000204650</td><td>17_43679121_G_A</td><td>9.296484e-23   </td><td>-1.201981      </td><td>0.12240973     </td><td>2.026242e-20   </td><td>17             </td><td>43697694       </td><td>43725582       </td><td>87             </td><td>87             </td><td>0.7567724      </td><td>29.08926       </td><td>17             </td><td>43679121       </td><td>A              </td><td>1              </td><td>0.2701149      </td><td>0.1020851      </td></tr>\n",
       "</tbody>\n",
       "</table>\n"
      ],
      "text/latex": [
       "\\begin{tabular}{r|lllllllllllllllllll}\n",
       "  & feature\\_id & snp\\_id & p\\_value & beta & beta\\_se & empirical\\_feature\\_p\\_value & feature\\_chromosome & feature\\_start & feature\\_end & n\\_samples & n\\_e\\_samples & alpha\\_param & beta\\_param & snp\\_chromosome & snp\\_position & assessed\\_allele & call\\_rate & maf & hwe\\_p\\\\\n",
       "\\hline\n",
       "\t1955841 & ENSG00000203875       & 6\\_86387888\\_G\\_T  & 1.514293e-27          &  1.010238             & 0.09289432            & 6.375394e-24          &  6                    & 86370710              & 86388451              & 87                    & 87                    & 0.7886659             & 17.12808              &  6                    & 86387888              & T                     & 1                     & 0.4655172             & 0.6673797            \\\\\n",
       "\t6927785 & ENSG00000204650       & 17\\_43679121\\_G\\_A & 9.296484e-23          & -1.201981             & 0.12240973            & 2.026242e-20          & 17                    & 43697694              & 43725582              & 87                    & 87                    & 0.7567724             & 29.08926              & 17                    & 43679121              & A                     & 1                     & 0.2701149             & 0.1020851            \\\\\n",
       "\\end{tabular}\n"
      ],
      "text/markdown": [
       "\n",
       "| <!--/--> | feature_id | snp_id | p_value | beta | beta_se | empirical_feature_p_value | feature_chromosome | feature_start | feature_end | n_samples | n_e_samples | alpha_param | beta_param | snp_chromosome | snp_position | assessed_allele | call_rate | maf | hwe_p |\n",
       "|---|---|---|---|---|---|---|---|---|---|---|---|---|---|---|---|---|---|---|---|\n",
       "| 1955841 | ENSG00000203875 | 6_86387888_G_T  | 1.514293e-27    |  1.010238       | 0.09289432      | 6.375394e-24    |  6              | 86370710        | 86388451        | 87              | 87              | 0.7886659       | 17.12808        |  6              | 86387888        | T               | 1               | 0.4655172       | 0.6673797       |\n",
       "| 6927785 | ENSG00000204650 | 17_43679121_G_A | 9.296484e-23    | -1.201981       | 0.12240973      | 2.026242e-20    | 17              | 43697694        | 43725582        | 87              | 87              | 0.7567724       | 29.08926        | 17              | 43679121        | A               | 1               | 0.2701149       | 0.1020851       |\n",
       "\n"
      ],
      "text/plain": [
       "        feature_id      snp_id          p_value      beta      beta_se   \n",
       "1955841 ENSG00000203875 6_86387888_G_T  1.514293e-27  1.010238 0.09289432\n",
       "6927785 ENSG00000204650 17_43679121_G_A 9.296484e-23 -1.201981 0.12240973\n",
       "        empirical_feature_p_value feature_chromosome feature_start feature_end\n",
       "1955841 6.375394e-24               6                 86370710      86388451   \n",
       "6927785 2.026242e-20              17                 43697694      43725582   \n",
       "        n_samples n_e_samples alpha_param beta_param snp_chromosome\n",
       "1955841 87        87          0.7886659   17.12808    6            \n",
       "6927785 87        87          0.7567724   29.08926   17            \n",
       "        snp_position assessed_allele call_rate maf       hwe_p    \n",
       "1955841 86387888     T               1         0.4655172 0.6673797\n",
       "6927785 43679121     A               1         0.2701149 0.1020851"
      ]
     },
     "metadata": {},
     "output_type": "display_data"
    }
   ],
   "source": [
    "df0 = read.csv(\"/hps/nobackup/stegle/users/acuomo/all_scripts/sc_eqtl/top_qtl_results_totsum.txt\", sep = ' ')\n",
    "head(df0,2)"
   ]
  },
  {
   "cell_type": "code",
   "execution_count": 63,
   "metadata": {},
   "outputs": [
    {
     "data": {
      "text/html": [
       "50429"
      ],
      "text/latex": [
       "50429"
      ],
      "text/markdown": [
       "50429"
      ],
      "text/plain": [
       "[1] 50429"
      ]
     },
     "metadata": {},
     "output_type": "display_data"
    },
    {
     "data": {
      "text/html": [
       "12720"
      ],
      "text/latex": [
       "12720"
      ],
      "text/markdown": [
       "12720"
      ],
      "text/plain": [
       "[1] 12720"
      ]
     },
     "metadata": {},
     "output_type": "display_data"
    },
    {
     "data": {
      "text/html": [
       "1174"
      ],
      "text/latex": [
       "1174"
      ],
      "text/markdown": [
       "1174"
      ],
      "text/plain": [
       "[1] 1174"
      ]
     },
     "metadata": {},
     "output_type": "display_data"
    },
    {
     "data": {
      "text/html": [
       "1174"
      ],
      "text/latex": [
       "1174"
      ],
      "text/markdown": [
       "1174"
      ],
      "text/plain": [
       "[1] 1174"
      ]
     },
     "metadata": {},
     "output_type": "display_data"
    },
    {
     "name": "stderr",
     "output_type": "stream",
     "text": [
      "Warning message:\n",
      "“Column `snp_id` joining factors with different levels, coercing to character vector”Warning message:\n",
      "“Column `feature_id` joining factors with different levels, coercing to character vector”"
     ]
    },
    {
     "data": {
      "text/html": [
       "1174"
      ],
      "text/latex": [
       "1174"
      ],
      "text/markdown": [
       "1174"
      ],
      "text/plain": [
       "[1] 1174"
      ]
     },
     "metadata": {},
     "output_type": "display_data"
    },
    {
     "data": {
      "text/html": [
       "709"
      ],
      "text/latex": [
       "709"
      ],
      "text/markdown": [
       "709"
      ],
      "text/plain": [
       "[1] 709"
      ]
     },
     "metadata": {},
     "output_type": "display_data"
    },
    {
     "data": {
      "text/html": [
       "722"
      ],
      "text/latex": [
       "722"
      ],
      "text/markdown": [
       "722"
      ],
      "text/plain": [
       "[1] 722"
      ]
     },
     "metadata": {},
     "output_type": "display_data"
    },
    {
     "name": "stderr",
     "output_type": "stream",
     "text": [
      "Warning message:\n",
      "“Column `snp_id` joining factors with different levels, coercing to character vector”Warning message:\n",
      "“Column `feature_id` joining factors with different levels, coercing to character vector”"
     ]
    },
    {
     "data": {
      "text/html": [
       "1170"
      ],
      "text/latex": [
       "1170"
      ],
      "text/markdown": [
       "1170"
      ],
      "text/plain": [
       "[1] 1170"
      ]
     },
     "metadata": {},
     "output_type": "display_data"
    },
    {
     "data": {
      "text/html": [
       "951"
      ],
      "text/latex": [
       "951"
      ],
      "text/markdown": [
       "951"
      ],
      "text/plain": [
       "[1] 951"
      ]
     },
     "metadata": {},
     "output_type": "display_data"
    },
    {
     "data": {
      "text/html": [
       "1024"
      ],
      "text/latex": [
       "1024"
      ],
      "text/markdown": [
       "1024"
      ],
      "text/plain": [
       "[1] 1024"
      ]
     },
     "metadata": {},
     "output_type": "display_data"
    }
   ],
   "source": [
    "length(unique(df0$feature_id))\n",
    "# df1 = df0[df0$feature_id %in% G_file$gene,]\n",
    "df1 = df0[df0$feature_id %in% common_genes,]\n",
    "length(unique(df1$feature_id))\n",
    "df1$q_value = qvalue(df1$empirical_feature_p_value)$qvalues\n",
    "length(unique(df1[df1$q_value < 0.05,'feature_id']))\n",
    "\n",
    "df3 = df1[df1$q_value < 0.05,]\n",
    "nrow(df3)\n",
    "\n",
    "df4 = inner_join(df3, res, by = c(\"snp_id\",\"feature_id\"), suffix = c(\".sc\",\".bulk\"))\n",
    "df4 <- df4[-which(duplicated(df4$feature_id)),]\n",
    "nrow(df4)\n",
    "\n",
    "nrow(df4[(df4$empirical_feature_p_value.bulk < emp_pv_star_matched & \n",
    "         (df4$beta.sc*df4$beta.bulk)>0),])\n",
    "nrow(df4[(df4$empirical_feature_p_value.bulk < emp_pv_star_matched),])\n",
    "\n",
    "df5 = inner_join(df3, res_all, by = c(\"snp_id\",\"feature_id\"), suffix = c(\".sc\",\".bulk\"))\n",
    "df5 <- df5[-which(duplicated(df5$feature_id)),]\n",
    "nrow(df5)\n",
    "\n",
    "nrow(df5[(df5$empirical_feature_p_value.bulk < emp_pv_star_all & \n",
    "         (df5$beta.sc*df5$beta.bulk)>0),])\n",
    "nrow(df5[(df5$empirical_feature_p_value.bulk < emp_pv_star_all),])"
   ]
  },
  {
   "cell_type": "code",
   "execution_count": 64,
   "metadata": {},
   "outputs": [],
   "source": [
    "d_sum = df5[(df5$empirical_feature_p_value.bulk < emp_pv_star_all & \n",
    "         (df5$beta.sc*df5$beta.bulk)>0),\"feature_id\"]"
   ]
  },
  {
   "cell_type": "code",
   "execution_count": null,
   "metadata": {},
   "outputs": [],
   "source": []
  },
  {
   "cell_type": "code",
   "execution_count": 70,
   "metadata": {},
   "outputs": [
    {
     "data": {
      "text/html": [
       "797"
      ],
      "text/latex": [
       "797"
      ],
      "text/markdown": [
       "797"
      ],
      "text/plain": [
       "[1] 797"
      ]
     },
     "metadata": {},
     "output_type": "display_data"
    },
    {
     "data": {
      "text/html": [
       "933"
      ],
      "text/latex": [
       "933"
      ],
      "text/markdown": [
       "933"
      ],
      "text/plain": [
       "[1] 933"
      ]
     },
     "metadata": {},
     "output_type": "display_data"
    },
    {
     "data": {
      "text/html": [
       "932"
      ],
      "text/latex": [
       "932"
      ],
      "text/markdown": [
       "932"
      ],
      "text/plain": [
       "[1] 932"
      ]
     },
     "metadata": {},
     "output_type": "display_data"
    },
    {
     "data": {
      "text/html": [
       "443"
      ],
      "text/latex": [
       "443"
      ],
      "text/markdown": [
       "443"
      ],
      "text/plain": [
       "[1] 443"
      ]
     },
     "metadata": {},
     "output_type": "display_data"
    },
    {
     "data": {
      "text/html": [
       "806"
      ],
      "text/latex": [
       "806"
      ],
      "text/markdown": [
       "806"
      ],
      "text/plain": [
       "[1] 806"
      ]
     },
     "metadata": {},
     "output_type": "display_data"
    }
   ],
   "source": [
    "# length(dr_mean)\n",
    "# length(dr_mean[dr_mean %in% dr_mean])\n",
    "# length(dr_median)\n",
    "length(dr_median[dr_median %in% dr_mean])\n",
    "# length(dr_sum)\n",
    "length(dr_sum[dr_sum %in% dr_mean])\n",
    "#\n",
    "# length(d_mean)\n",
    "length(d_mean[d_mean %in% dr_mean])\n",
    "# length(d_median)\n",
    "length(d_median[d_median %in% dr_mean])\n",
    "# length(d_sum)\n",
    "length(d_sum[d_sum %in% dr_mean])"
   ]
  },
  {
   "cell_type": "code",
   "execution_count": 44,
   "metadata": {},
   "outputs": [
    {
     "data": {
      "text/html": [
       "567"
      ],
      "text/latex": [
       "567"
      ],
      "text/markdown": [
       "567"
      ],
      "text/plain": [
       "[1] 567"
      ]
     },
     "metadata": {},
     "output_type": "display_data"
    }
   ],
   "source": [
    "length(d_median[d_median %in% dr_mean])"
   ]
  },
  {
   "cell_type": "code",
   "execution_count": null,
   "metadata": {},
   "outputs": [],
   "source": []
  }
 ],
 "metadata": {
  "kernelspec": {
   "display_name": "R",
   "language": "R",
   "name": "ir"
  },
  "language_info": {
   "codemirror_mode": "r",
   "file_extension": ".r",
   "mimetype": "text/x-r-source",
   "name": "R",
   "pygments_lexer": "r",
   "version": "3.6.1"
  }
 },
 "nbformat": 4,
 "nbformat_minor": 4
}
