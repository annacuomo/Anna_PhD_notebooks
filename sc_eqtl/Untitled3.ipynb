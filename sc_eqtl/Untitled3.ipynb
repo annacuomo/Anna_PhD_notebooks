{
 "cells": [
  {
   "cell_type": "code",
   "execution_count": 1,
   "id": "20ad6e6c",
   "metadata": {},
   "outputs": [],
   "source": [
    "import pandas as pd"
   ]
  },
  {
   "cell_type": "code",
   "execution_count": null,
   "id": "40b3351c",
   "metadata": {},
   "outputs": [],
   "source": [
    "df = pd.read_csv(\"/hps/nobackup/hipsci/scratch/ComparingQtlMapping/SingleCell/neuroseq/concatSingleCell_FPP.tsv\", sep ='\\t')"
   ]
  },
  {
   "cell_type": "code",
   "execution_count": null,
   "id": "e6c4371b",
   "metadata": {},
   "outputs": [],
   "source": [
    "df.head()"
   ]
  },
  {
   "cell_type": "code",
   "execution_count": null,
   "id": "a919ab17",
   "metadata": {},
   "outputs": [],
   "source": [
    "df.sum(axis=0).shape"
   ]
  },
  {
   "cell_type": "code",
   "execution_count": null,
   "id": "23d7230f",
   "metadata": {},
   "outputs": [],
   "source": [
    "import pickle\n",
    "pkl_filename = \"/hps/nobackup/hipsci/scratch/ComparingQtlMapping/SingleCell/neuroseq/concatSingleCell_FPP.tsv.pkl\"\n",
    "df.to_pickle(pkl_filename)"
   ]
  },
  {
   "cell_type": "code",
   "execution_count": null,
   "id": "278efa93",
   "metadata": {},
   "outputs": [],
   "source": []
  }
 ],
 "metadata": {
  "kernelspec": {
   "display_name": "Python (struct-lmm2)",
   "language": "python",
   "name": "struct-lmm2"
  },
  "language_info": {
   "codemirror_mode": {
    "name": "ipython",
    "version": 3
   },
   "file_extension": ".py",
   "mimetype": "text/x-python",
   "name": "python",
   "nbconvert_exporter": "python",
   "pygments_lexer": "ipython3",
   "version": "3.8.5"
  }
 },
 "nbformat": 4,
 "nbformat_minor": 5
}
