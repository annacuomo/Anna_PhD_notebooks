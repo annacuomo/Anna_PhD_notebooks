{
 "cells": [
  {
   "cell_type": "code",
   "execution_count": 4,
   "metadata": {},
   "outputs": [],
   "source": [
    "library(ggplot2)\n",
    "library(dplyr)\n",
    "library(qvalue)\n",
    "library(UpSetR)"
   ]
  },
  {
   "cell_type": "code",
   "execution_count": 24,
   "metadata": {},
   "outputs": [
    {
     "data": {
      "text/html": [
       "21592"
      ],
      "text/latex": [
       "21592"
      ],
      "text/markdown": [
       "21592"
      ],
      "text/plain": [
       "[1] 21592"
      ]
     },
     "metadata": {},
     "output_type": "display_data"
    },
    {
     "data": {
      "text/html": [
       "<table>\n",
       "<thead><tr><th></th><th scope=col>gene</th><th scope=col>mean</th><th scope=col>std</th><th scope=col>CV</th><th scope=col>quartile_cv</th></tr></thead>\n",
       "<tbody>\n",
       "\t<tr><th scope=row>2</th><td>ENSG00000227232</td><td>3.1805905      </td><td>3.6232403      </td><td>1.139172       </td><td>2              </td></tr>\n",
       "\t<tr><th scope=row>3</th><td>ENSG00000243485</td><td>0.2003178      </td><td>0.8649483      </td><td>4.317881       </td><td>3              </td></tr>\n",
       "</tbody>\n",
       "</table>\n"
      ],
      "text/latex": [
       "\\begin{tabular}{r|lllll}\n",
       "  & gene & mean & std & CV & quartile\\_cv\\\\\n",
       "\\hline\n",
       "\t2 & ENSG00000227232 & 3.1805905       & 3.6232403       & 1.139172        & 2              \\\\\n",
       "\t3 & ENSG00000243485 & 0.2003178       & 0.8649483       & 4.317881        & 3              \\\\\n",
       "\\end{tabular}\n"
      ],
      "text/markdown": [
       "\n",
       "| <!--/--> | gene | mean | std | CV | quartile_cv |\n",
       "|---|---|---|---|---|---|\n",
       "| 2 | ENSG00000227232 | 3.1805905       | 3.6232403       | 1.139172        | 2               |\n",
       "| 3 | ENSG00000243485 | 0.2003178       | 0.8649483       | 4.317881        | 3               |\n",
       "\n"
      ],
      "text/plain": [
       "  gene            mean      std       CV       quartile_cv\n",
       "2 ENSG00000227232 3.1805905 3.6232403 1.139172 2          \n",
       "3 ENSG00000243485 0.2003178 0.8649483 4.317881 3          "
      ]
     },
     "metadata": {},
     "output_type": "display_data"
    }
   ],
   "source": [
    "Giordanos_selection = \"/hps/nobackup/stegle/users/galvari/data/iPSCs/singleCell/metadata/ensembl_gene/Ensembl_75_Gene_CV_quant5.txt\"\n",
    "G_file = read.csv(Giordanos_selection, sep = \"\\t\")\n",
    "nrow(G_file)\n",
    "head(G_file,2)"
   ]
  },
  {
   "cell_type": "code",
   "execution_count": 62,
   "metadata": {},
   "outputs": [
    {
     "data": {
      "text/html": [
       "12720"
      ],
      "text/latex": [
       "12720"
      ],
      "text/markdown": [
       "12720"
      ],
      "text/plain": [
       "[1] 12720"
      ]
     },
     "metadata": {},
     "output_type": "display_data"
    }
   ],
   "source": [
    "df_common_genes = read.csv(\"/hps/nobackup/stegle/users/acuomo/all_scripts/sc_eqtl/common_genes_across_all_aggregation_methods_and_bulk.csv\")\n",
    "common_genes = as.character(df_common_genes$gene)\n",
    "length(common_genes)"
   ]
  },
  {
   "cell_type": "code",
   "execution_count": 5,
   "metadata": {},
   "outputs": [],
   "source": [
    "# person:\n",
    "file1 = \"/hps/nobackup/hipsci/scratch/ComparingQtlMapping/SingleCell/PseudoBulk/totmean/Run_Output_PCA20_88_log_TPM_scater_libsize_206_cor/\"\n",
    "df1 = read.csv(paste0(file1,\"/top_qtl_results_all.txt\"), sep = \"\\t\")\n",
    "df1 = df1[df1$feature_id %in% common_genes,]\n",
    "df1$q_value = qvalue(df1$empirical_feature_p_value)$qvalues\n",
    "genes_pearson = unique(df1[df1$q_value<0.05,\"feature_id\"])"
   ]
  },
  {
   "cell_type": "code",
   "execution_count": 6,
   "metadata": {},
   "outputs": [],
   "source": [
    "# spearman:\n",
    "file1 = \"/hps/nobackup/hipsci/scratch/ComparingQtlMapping/SingleCell/PseudoBulk/totmean/Run_Output_PCA20_88_log_TPM_scater_libsize_206_corS/\"\n",
    "df1 = read.csv(paste0(file1,\"/top_qtl_results_all.txt\"), sep = \"\\t\")\n",
    "df1 = df1[df1$feature_id %in% common_genes,]\n",
    "df1$q_value = qvalue(df1$empirical_feature_p_value)$qvalues\n",
    "genes_spearman = unique(df1[df1$q_value<0.05,\"feature_id\"])"
   ]
  },
  {
   "cell_type": "code",
   "execution_count": 7,
   "metadata": {},
   "outputs": [],
   "source": [
    "# LM:\n",
    "file1 = \"/hps/nobackup/hipsci/scratch/ComparingQtlMapping/SingleCell/PseudoBulk/totmean/Run_Output_PCA20_88_log_TPM_scater_libsize_206_lm\"\n",
    "df1 = read.csv(paste0(file1,\"/top_qtl_results_all.txt\"), sep = \"\\t\")\n",
    "df1 = df1[df1$feature_id %in% common_genes,]\n",
    "df1$q_value = qvalue(df1$empirical_feature_p_value)$qvalues\n",
    "genes_lm = unique(df1[df1$q_value<0.05,\"feature_id\"])"
   ]
  },
  {
   "cell_type": "code",
   "execution_count": 8,
   "metadata": {},
   "outputs": [],
   "source": [
    "# LMM:\n",
    "file1 = \"/hps/nobackup/hipsci/scratch/ComparingQtlMapping/SingleCell/PseudoBulk/totmean/Run_Output_PCA20_88_log_TPM_scater_libsize_206\"\n",
    "df1 = read.csv(paste0(file1,\"/top_qtl_results_all.txt\"), sep = \"\\t\")\n",
    "df1 = df1[df1$feature_id %in% common_genes,]\n",
    "df1$q_value = qvalue(df1$empirical_feature_p_value)$qvalues\n",
    "genes_lmm = unique(df1[df1$q_value<0.05,\"feature_id\"])"
   ]
  },
  {
   "cell_type": "code",
   "execution_count": 10,
   "metadata": {},
   "outputs": [
    {
     "data": {
      "image/png": "[encoded data removed]",
      "text/plain": [
       "plot without title"
      ]
     },
     "metadata": {},
     "output_type": "display_data"
    }
   ],
   "source": [
    "listInput = list(genes_pearson = genes_pearson, genes_spearman = genes_spearman, \n",
    "                 genes_lm = genes_lm, genes_lmm = genes_lmm)\n",
    "upset(fromList(listInput), order.by = \"freq\")"
   ]
  },
  {
   "cell_type": "code",
   "execution_count": null,
   "metadata": {},
   "outputs": [],
   "source": []
  },
  {
   "cell_type": "code",
   "execution_count": 113,
   "metadata": {},
   "outputs": [],
   "source": [
    "# pearson:\n",
    "file0 = \"/hps/nobackup/hipsci/scratch/ComparingQtlMapping/Bulk/BulkDay0Healthy_88_cor\"\n",
    "file1 = \"/hps/nobackup/hipsci/scratch/ComparingQtlMapping/SingleCell/PseudoBulk/totmean/Run_Output_PCA20_88_log_TPM_scater_libsize_206_cor\""
   ]
  },
  {
   "cell_type": "code",
   "execution_count": 114,
   "metadata": {},
   "outputs": [
    {
     "data": {
      "text/html": [
       "0.0563718674793689"
      ],
      "text/latex": [
       "0.0563718674793689"
      ],
      "text/markdown": [
       "0.0563718674793689"
      ],
      "text/plain": [
       "[1] 0.05637187"
      ]
     },
     "metadata": {},
     "output_type": "display_data"
    }
   ],
   "source": [
    "df = read.csv(paste0(file0,\"/top_qtl_results_all.txt\"), sep = \"\\t\")\n",
    "# df = df[df$feature_id %in% G_file$gene,]\n",
    "df = df[df$feature_id %in% common_genes,]\n",
    "df$q_value = qvalue(df$empirical_feature_p_value)$qvalues\n",
    "max_qval = max(df[df$q_value < 0.1,'q_value'])\n",
    "# max_qval\n",
    "emp_pv_star = max(df[df$q_value==max_qval, \"empirical_feature_p_value\"])\n",
    "emp_pv_star"
   ]
  },
  {
   "cell_type": "code",
   "execution_count": 115,
   "metadata": {},
   "outputs": [],
   "source": [
    "df0 = read.csv(paste0(file0,\"/qtl_results_all.txt\"), sep = \"\\t\")"
   ]
  },
  {
   "cell_type": "code",
   "execution_count": 116,
   "metadata": {},
   "outputs": [
    {
     "data": {
      "text/html": [
       "12720"
      ],
      "text/latex": [
       "12720"
      ],
      "text/markdown": [
       "12720"
      ],
      "text/plain": [
       "[1] 12720"
      ]
     },
     "metadata": {},
     "output_type": "display_data"
    },
    {
     "data": {
      "text/html": [
       "1349"
      ],
      "text/latex": [
       "1349"
      ],
      "text/markdown": [
       "1349"
      ],
      "text/plain": [
       "[1] 1349"
      ]
     },
     "metadata": {},
     "output_type": "display_data"
    }
   ],
   "source": [
    "df1 = read.csv(paste0(file1,\"/top_qtl_results_all.txt\"), sep = \"\\t\")\n",
    "# df1 = df1[df1$feature_id %in% G_file$gene,]\n",
    "df1 = df1[df1$feature_id %in% common_genes,]\n",
    "length(unique(df1$feature_id))\n",
    "df1$q_value = qvalue(df1$empirical_feature_p_value)$qvalues\n",
    "length(unique(df1[df1$q_value<0.05,\"feature_id\"]))"
   ]
  },
  {
   "cell_type": "code",
   "execution_count": 117,
   "metadata": {},
   "outputs": [],
   "source": [
    "df2 = df1[df1$q_value < 0.05,]"
   ]
  },
  {
   "cell_type": "code",
   "execution_count": 118,
   "metadata": {},
   "outputs": [
    {
     "name": "stderr",
     "output_type": "stream",
     "text": [
      "Warning message:\n",
      "“Column `snp_id` joining factors with different levels, coercing to character vector”Warning message:\n",
      "“Column `feature_id` joining factors with different levels, coercing to character vector”"
     ]
    },
    {
     "data": {
      "text/html": [
       "1349"
      ],
      "text/latex": [
       "1349"
      ],
      "text/markdown": [
       "1349"
      ],
      "text/plain": [
       "[1] 1349"
      ]
     },
     "metadata": {},
     "output_type": "display_data"
    }
   ],
   "source": [
    "df3 = inner_join(df2, df0, by = c(\"snp_id\",\"feature_id\"), suffix = c(\".sc\",\".bulk\"))\n",
    "df3 <- df3[-which(duplicated(df3$feature_id)),]\n",
    "nrow(df3)"
   ]
  },
  {
   "cell_type": "code",
   "execution_count": 119,
   "metadata": {},
   "outputs": [
    {
     "data": {
      "text/html": [
       "780"
      ],
      "text/latex": [
       "780"
      ],
      "text/markdown": [
       "780"
      ],
      "text/plain": [
       "[1] 780"
      ]
     },
     "metadata": {},
     "output_type": "display_data"
    }
   ],
   "source": [
    "nrow(df3[(df3$empirical_feature_p_value.bulk < emp_pv_star & \n",
    "         (df3$beta.sc*df3$beta.bulk)>0),])\n",
    "# nrow(df3[(df3$empirical_feature_p_value.bulk < emp_pv_star),])"
   ]
  },
  {
   "cell_type": "code",
   "execution_count": 120,
   "metadata": {},
   "outputs": [],
   "source": [
    "# # spearman:\n",
    "file0 = \"/hps/nobackup/hipsci/scratch/ComparingQtlMapping/Bulk/BulkDay0Healthy_88_corS\"\n",
    "file1 = \"/hps/nobackup/hipsci/scratch/ComparingQtlMapping/SingleCell/PseudoBulk/totmean/Run_Output_PCA20_88_log_TPM_scater_libsize_206_corS\""
   ]
  },
  {
   "cell_type": "code",
   "execution_count": 121,
   "metadata": {},
   "outputs": [
    {
     "data": {
      "text/html": [
       "0.0539705056122589"
      ],
      "text/latex": [
       "0.0539705056122589"
      ],
      "text/markdown": [
       "0.0539705056122589"
      ],
      "text/plain": [
       "[1] 0.05397051"
      ]
     },
     "metadata": {},
     "output_type": "display_data"
    }
   ],
   "source": [
    "df = read.csv(paste0(file0,\"/top_qtl_results_all.txt\"), sep = \"\\t\")\n",
    "# df = df[df$feature_id %in% G_file$gene,]\n",
    "df = df[df$feature_id %in% common_genes,]\n",
    "df$q_value = qvalue(df$empirical_feature_p_value)$qvalues\n",
    "max_qval = max(df[df$q_value < 0.1,'q_value'])\n",
    "# max_qval\n",
    "emp_pv_star = max(df[df$q_value==max_qval, \"empirical_feature_p_value\"])\n",
    "emp_pv_star"
   ]
  },
  {
   "cell_type": "code",
   "execution_count": 122,
   "metadata": {},
   "outputs": [],
   "source": [
    "df0 = read.csv(paste0(file0,\"/qtl_results_all.txt\"), sep = \"\\t\")"
   ]
  },
  {
   "cell_type": "code",
   "execution_count": 123,
   "metadata": {},
   "outputs": [
    {
     "data": {
      "text/html": [
       "12720"
      ],
      "text/latex": [
       "12720"
      ],
      "text/markdown": [
       "12720"
      ],
      "text/plain": [
       "[1] 12720"
      ]
     },
     "metadata": {},
     "output_type": "display_data"
    },
    {
     "data": {
      "text/html": [
       "1328"
      ],
      "text/latex": [
       "1328"
      ],
      "text/markdown": [
       "1328"
      ],
      "text/plain": [
       "[1] 1328"
      ]
     },
     "metadata": {},
     "output_type": "display_data"
    }
   ],
   "source": [
    "df1 = read.csv(paste0(file1,\"/top_qtl_results_all.txt\"), sep = \"\\t\")\n",
    "# df1 = df1[df1$feature_id %in% G_file$gene,]\n",
    "df1 = df1[df1$feature_id %in% common_genes,]\n",
    "length(unique(df1$feature_id))\n",
    "df1$q_value = qvalue(df1$empirical_feature_p_value)$qvalues\n",
    "length(unique(df1[df1$q_value<0.05,\"feature_id\"]))"
   ]
  },
  {
   "cell_type": "code",
   "execution_count": 124,
   "metadata": {},
   "outputs": [
    {
     "name": "stderr",
     "output_type": "stream",
     "text": [
      "Warning message:\n",
      "“Column `snp_id` joining factors with different levels, coercing to character vector”Warning message:\n",
      "“Column `feature_id` joining factors with different levels, coercing to character vector”"
     ]
    },
    {
     "data": {
      "text/html": [
       "1328"
      ],
      "text/latex": [
       "1328"
      ],
      "text/markdown": [
       "1328"
      ],
      "text/plain": [
       "[1] 1328"
      ]
     },
     "metadata": {},
     "output_type": "display_data"
    }
   ],
   "source": [
    "df2 = df1[df1$q_value < 0.05,]\n",
    "df3 = inner_join(df2, df0, by = c(\"snp_id\",\"feature_id\"), suffix = c(\".sc\",\".bulk\"))\n",
    "df3 <- df3[-which(duplicated(df3$feature_id)),]\n",
    "nrow(df3)"
   ]
  },
  {
   "cell_type": "code",
   "execution_count": 125,
   "metadata": {},
   "outputs": [
    {
     "data": {
      "text/html": [
       "747"
      ],
      "text/latex": [
       "747"
      ],
      "text/markdown": [
       "747"
      ],
      "text/plain": [
       "[1] 747"
      ]
     },
     "metadata": {},
     "output_type": "display_data"
    }
   ],
   "source": [
    "nrow(df3[(df3$empirical_feature_p_value.bulk < emp_pv_star & \n",
    "         (df3$beta.sc*df3$beta.bulk)>0),])\n",
    "# nrow(df3[(df3$empirical_feature_p_value.bulk < emp_pv_star),])"
   ]
  },
  {
   "cell_type": "code",
   "execution_count": null,
   "metadata": {},
   "outputs": [],
   "source": []
  },
  {
   "cell_type": "code",
   "execution_count": 126,
   "metadata": {},
   "outputs": [],
   "source": [
    "# LM:\n",
    "file0 = \"/hps/nobackup/hipsci/scratch/ComparingQtlMapping/Bulk/BulkDay0Healthy_88_lm\"\n",
    "file1 = \"/hps/nobackup/hipsci/scratch/ComparingQtlMapping/SingleCell/PseudoBulk/totmean/Run_Output_PCA20_88_log_TPM_scater_libsize_206_lm\""
   ]
  },
  {
   "cell_type": "code",
   "execution_count": 127,
   "metadata": {},
   "outputs": [
    {
     "data": {
      "text/html": [
       "0.0544349825799906"
      ],
      "text/latex": [
       "0.0544349825799906"
      ],
      "text/markdown": [
       "0.0544349825799906"
      ],
      "text/plain": [
       "[1] 0.05443498"
      ]
     },
     "metadata": {},
     "output_type": "display_data"
    }
   ],
   "source": [
    "df = read.csv(paste0(file0,\"/top_qtl_results_all.txt\"), sep = \"\\t\")\n",
    "# df = df[df$feature_id %in% G_file$gene,]\n",
    "df = df[df$feature_id %in% common_genes,]\n",
    "df$q_value = qvalue(df$empirical_feature_p_value)$qvalues\n",
    "max_qval = max(df[df$q_value < 0.1,'q_value'])\n",
    "# max_qval\n",
    "emp_pv_star = max(df[df$q_value==max_qval, \"empirical_feature_p_value\"])\n",
    "emp_pv_star"
   ]
  },
  {
   "cell_type": "code",
   "execution_count": 128,
   "metadata": {},
   "outputs": [],
   "source": [
    "df0 = read.csv(paste0(file0,\"/qtl_results_all.txt\"), sep = \"\\t\")"
   ]
  },
  {
   "cell_type": "code",
   "execution_count": 129,
   "metadata": {},
   "outputs": [
    {
     "data": {
      "text/html": [
       "12720"
      ],
      "text/latex": [
       "12720"
      ],
      "text/markdown": [
       "12720"
      ],
      "text/plain": [
       "[1] 12720"
      ]
     },
     "metadata": {},
     "output_type": "display_data"
    },
    {
     "data": {
      "text/html": [
       "1309"
      ],
      "text/latex": [
       "1309"
      ],
      "text/markdown": [
       "1309"
      ],
      "text/plain": [
       "[1] 1309"
      ]
     },
     "metadata": {},
     "output_type": "display_data"
    }
   ],
   "source": [
    "df1 = read.csv(paste0(file1,\"/top_qtl_results_all.txt\"), sep = \"\\t\")\n",
    "# df1 = df1[df1$feature_id %in% G_file$gene,]\n",
    "df1 = df1[df1$feature_id %in% common_genes,]\n",
    "length(unique(df1$feature_id))\n",
    "df1$q_value = qvalue(df1$empirical_feature_p_value)$qvalues\n",
    "length(unique(df1[df1$q_value<0.05,\"feature_id\"]))"
   ]
  },
  {
   "cell_type": "code",
   "execution_count": 130,
   "metadata": {},
   "outputs": [
    {
     "name": "stderr",
     "output_type": "stream",
     "text": [
      "Warning message:\n",
      "“Column `snp_id` joining factors with different levels, coercing to character vector”Warning message:\n",
      "“Column `feature_id` joining factors with different levels, coercing to character vector”"
     ]
    },
    {
     "data": {
      "text/html": [
       "1309"
      ],
      "text/latex": [
       "1309"
      ],
      "text/markdown": [
       "1309"
      ],
      "text/plain": [
       "[1] 1309"
      ]
     },
     "metadata": {},
     "output_type": "display_data"
    }
   ],
   "source": [
    "df2 = df1[df1$q_value < 0.05,]\n",
    "df3 = inner_join(df2, df0, by = c(\"snp_id\",\"feature_id\"), suffix = c(\".sc\",\".bulk\"))\n",
    "df3 <- df3[-which(duplicated(df3$feature_id)),]\n",
    "nrow(df3)"
   ]
  },
  {
   "cell_type": "code",
   "execution_count": 131,
   "metadata": {},
   "outputs": [
    {
     "data": {
      "text/html": [
       "771"
      ],
      "text/latex": [
       "771"
      ],
      "text/markdown": [
       "771"
      ],
      "text/plain": [
       "[1] 771"
      ]
     },
     "metadata": {},
     "output_type": "display_data"
    }
   ],
   "source": [
    "nrow(df3[(df3$empirical_feature_p_value.bulk < emp_pv_star & \n",
    "         (df3$beta.sc*df3$beta.bulk)>0),])\n",
    "# nrow(df3[(df3$empirical_feature_p_value.bulk < emp_pv_star),])"
   ]
  },
  {
   "cell_type": "code",
   "execution_count": null,
   "metadata": {},
   "outputs": [],
   "source": []
  },
  {
   "cell_type": "code",
   "execution_count": 132,
   "metadata": {},
   "outputs": [],
   "source": [
    "# LMM:\n",
    "file0 = \"/hps/nobackup/hipsci/scratch/ComparingQtlMapping/Bulk/BulkDay0Healthy_PCA20_88_206\"\n",
    "file1 = \"/hps/nobackup/hipsci/scratch/ComparingQtlMapping/SingleCell/PseudoBulk/totmean/Run_Output_PCA20_88_log_TPM_scater_libsize_206\""
   ]
  },
  {
   "cell_type": "code",
   "execution_count": 133,
   "metadata": {},
   "outputs": [
    {
     "data": {
      "text/html": [
       "0.0547334653389542"
      ],
      "text/latex": [
       "0.0547334653389542"
      ],
      "text/markdown": [
       "0.0547334653389542"
      ],
      "text/plain": [
       "[1] 0.05473347"
      ]
     },
     "metadata": {},
     "output_type": "display_data"
    }
   ],
   "source": [
    "df = read.csv(paste0(file0,\"/top_qtl_results_all.txt\"), sep = \"\\t\")\n",
    "# df = df[df$feature_id %in% G_file$gene,]\n",
    "df = df[df$feature_id %in% common_genes,]\n",
    "df$q_value = qvalue(df$empirical_feature_p_value)$qvalues\n",
    "max_qval = max(df[df$q_value < 0.1,'q_value'])\n",
    "# max_qval\n",
    "emp_pv_star = max(df[df$q_value==max_qval, \"empirical_feature_p_value\"])\n",
    "emp_pv_star"
   ]
  },
  {
   "cell_type": "code",
   "execution_count": 134,
   "metadata": {},
   "outputs": [
    {
     "data": {
      "text/html": [
       "12720"
      ],
      "text/latex": [
       "12720"
      ],
      "text/markdown": [
       "12720"
      ],
      "text/plain": [
       "[1] 12720"
      ]
     },
     "metadata": {},
     "output_type": "display_data"
    },
    {
     "data": {
      "text/html": [
       "1305"
      ],
      "text/latex": [
       "1305"
      ],
      "text/markdown": [
       "1305"
      ],
      "text/plain": [
       "[1] 1305"
      ]
     },
     "metadata": {},
     "output_type": "display_data"
    }
   ],
   "source": [
    "df1 = read.csv(paste0(file1,\"/top_qtl_results_all.txt\"), sep = \"\\t\")\n",
    "# df1 = df1[df1$feature_id %in% G_file$gene,]\n",
    "df1 = df1[df1$feature_id %in% common_genes,]\n",
    "length(unique(df1$feature_id))\n",
    "df1$q_value = qvalue(df1$empirical_feature_p_value)$qvalues\n",
    "length(unique(df1[df1$q_value<0.05,\"feature_id\"]))"
   ]
  },
  {
   "cell_type": "code",
   "execution_count": 135,
   "metadata": {},
   "outputs": [],
   "source": [
    "df0 = read.csv(paste0(file0,\"/qtl_results_all.txt\"), sep = \"\\t\")"
   ]
  },
  {
   "cell_type": "code",
   "execution_count": 136,
   "metadata": {},
   "outputs": [
    {
     "name": "stderr",
     "output_type": "stream",
     "text": [
      "Warning message:\n",
      "“Column `snp_id` joining factors with different levels, coercing to character vector”Warning message:\n",
      "“Column `feature_id` joining factors with different levels, coercing to character vector”"
     ]
    },
    {
     "data": {
      "text/html": [
       "1305"
      ],
      "text/latex": [
       "1305"
      ],
      "text/markdown": [
       "1305"
      ],
      "text/plain": [
       "[1] 1305"
      ]
     },
     "metadata": {},
     "output_type": "display_data"
    }
   ],
   "source": [
    "df2 = df1[df1$q_value < 0.05,]\n",
    "df3 = inner_join(df2, df0, by = c(\"snp_id\",\"feature_id\"), suffix = c(\".sc\",\".bulk\"))\n",
    "df3 <- df3[-which(duplicated(df3$feature_id)),]\n",
    "nrow(df3)"
   ]
  },
  {
   "cell_type": "code",
   "execution_count": 137,
   "metadata": {},
   "outputs": [
    {
     "data": {
      "text/html": [
       "767"
      ],
      "text/latex": [
       "767"
      ],
      "text/markdown": [
       "767"
      ],
      "text/plain": [
       "[1] 767"
      ]
     },
     "metadata": {},
     "output_type": "display_data"
    }
   ],
   "source": [
    "nrow(df3[(df3$empirical_feature_p_value.bulk < emp_pv_star & \n",
    "         (df3$beta.sc*df3$beta.bulk)>0),])\n",
    "# nrow(df3[(df3$empirical_feature_p_value.bulk < emp_pv_star),])"
   ]
  },
  {
   "cell_type": "code",
   "execution_count": null,
   "metadata": {},
   "outputs": [],
   "source": []
  },
  {
   "cell_type": "code",
   "execution_count": null,
   "metadata": {},
   "outputs": [],
   "source": []
  },
  {
   "cell_type": "code",
   "execution_count": null,
   "metadata": {},
   "outputs": [],
   "source": []
  },
  {
   "cell_type": "code",
   "execution_count": 2,
   "metadata": {},
   "outputs": [
    {
     "data": {
      "text/html": [
       "12720"
      ],
      "text/latex": [
       "12720"
      ],
      "text/markdown": [
       "12720"
      ],
      "text/plain": [
       "[1] 12720"
      ]
     },
     "metadata": {},
     "output_type": "display_data"
    }
   ],
   "source": [
    "df_common_genes = read.csv(\"/hps/nobackup/stegle/users/acuomo/all_scripts/sc_eqtl/common_genes_across_all_aggregation_methods_and_bulk.csv\")\n",
    "common_genes = as.character(df_common_genes$gene)\n",
    "length(common_genes)"
   ]
  },
  {
   "cell_type": "code",
   "execution_count": 3,
   "metadata": {},
   "outputs": [
    {
     "data": {
      "text/html": [
       "21592"
      ],
      "text/latex": [
       "21592"
      ],
      "text/markdown": [
       "21592"
      ],
      "text/plain": [
       "[1] 21592"
      ]
     },
     "metadata": {},
     "output_type": "display_data"
    },
    {
     "data": {
      "text/html": [
       "<table>\n",
       "<thead><tr><th></th><th scope=col>gene</th><th scope=col>mean</th><th scope=col>std</th><th scope=col>CV</th><th scope=col>quartile_cv</th></tr></thead>\n",
       "<tbody>\n",
       "\t<tr><th scope=row>2</th><td>ENSG00000227232</td><td>3.1805905      </td><td>3.6232403      </td><td>1.139172       </td><td>2              </td></tr>\n",
       "\t<tr><th scope=row>3</th><td>ENSG00000243485</td><td>0.2003178      </td><td>0.8649483      </td><td>4.317881       </td><td>3              </td></tr>\n",
       "</tbody>\n",
       "</table>\n"
      ],
      "text/latex": [
       "\\begin{tabular}{r|lllll}\n",
       "  & gene & mean & std & CV & quartile\\_cv\\\\\n",
       "\\hline\n",
       "\t2 & ENSG00000227232 & 3.1805905       & 3.6232403       & 1.139172        & 2              \\\\\n",
       "\t3 & ENSG00000243485 & 0.2003178       & 0.8649483       & 4.317881        & 3              \\\\\n",
       "\\end{tabular}\n"
      ],
      "text/markdown": [
       "\n",
       "| <!--/--> | gene | mean | std | CV | quartile_cv |\n",
       "|---|---|---|---|---|---|\n",
       "| 2 | ENSG00000227232 | 3.1805905       | 3.6232403       | 1.139172        | 2               |\n",
       "| 3 | ENSG00000243485 | 0.2003178       | 0.8649483       | 4.317881        | 3               |\n",
       "\n"
      ],
      "text/plain": [
       "  gene            mean      std       CV       quartile_cv\n",
       "2 ENSG00000227232 3.1805905 3.6232403 1.139172 2          \n",
       "3 ENSG00000243485 0.2003178 0.8649483 4.317881 3          "
      ]
     },
     "metadata": {},
     "output_type": "display_data"
    }
   ],
   "source": [
    "Giordanos_selection = \"/hps/nobackup/stegle/users/galvari/data/iPSCs/singleCell/metadata/ensembl_gene/Ensembl_75_Gene_CV_quant5.txt\"\n",
    "G_file = read.csv(Giordanos_selection, sep = \"\\t\")\n",
    "nrow(G_file)\n",
    "head(G_file,2)"
   ]
  },
  {
   "cell_type": "code",
   "execution_count": 4,
   "metadata": {},
   "outputs": [],
   "source": [
    "##### Mean"
   ]
  },
  {
   "cell_type": "code",
   "execution_count": 5,
   "metadata": {},
   "outputs": [],
   "source": [
    "mean_folder = \"/hps/nobackup/hipsci/scratch/ComparingQtlMapping/SingleCell/PseudoBulk/totmean/\""
   ]
  },
  {
   "cell_type": "code",
   "execution_count": 6,
   "metadata": {},
   "outputs": [],
   "source": [
    "my_folder1 = paste0(mean_folder,\"Run_Output_PCA20_88_log_TPM_scater_libsize_206/\") # lmm, 20PCs\n",
    "my_folder2 = paste0(mean_folder,\"Run_Output_PCA20_88_log_TPM_scater_libsize_206_lm/\") # lm, 20PCs"
   ]
  },
  {
   "cell_type": "code",
   "execution_count": 7,
   "metadata": {},
   "outputs": [],
   "source": [
    "df = read.csv(paste0(my_folder1,\"top_qtl_results_all.txt\"), sep = \"\\t\")\n",
    "# df = df[df$feature_id %in% G_file$gene,]\n",
    "df = df[df$feature_id %in% common_genes,]\n",
    "df$q_value = qvalue(df$empirical_feature_p_value)$qvalues"
   ]
  },
  {
   "cell_type": "code",
   "execution_count": 8,
   "metadata": {},
   "outputs": [],
   "source": [
    "df0 = read.csv(paste0(my_folder2,\"top_qtl_results_all.txt\"), sep = \"\\t\")\n",
    "# df0 = df0[df0$feature_id %in% G_file$gene,]\n",
    "df0 = df0[df0$feature_id %in% common_genes,]\n",
    "df0$q_value = qvalue(df0$empirical_feature_p_value)$qvalues"
   ]
  },
  {
   "cell_type": "code",
   "execution_count": 9,
   "metadata": {},
   "outputs": [
    {
     "data": {
      "text/html": [
       "<table>\n",
       "<thead><tr><th></th><th scope=col>snp_id</th><th scope=col>p_value</th><th scope=col>beta</th><th scope=col>beta_se</th><th scope=col>empirical_feature_p_value</th><th scope=col>feature_chromosome</th><th scope=col>feature_start</th><th scope=col>feature_end</th><th scope=col>n_samples</th><th scope=col>n_e_samples</th><th scope=col>alpha_param</th><th scope=col>beta_param</th><th scope=col>snp_chromosome</th><th scope=col>snp_position</th><th scope=col>assessed_allele</th><th scope=col>call_rate</th><th scope=col>maf</th><th scope=col>hwe_p</th><th scope=col>feature_id</th><th scope=col>q_value</th></tr></thead>\n",
       "<tbody>\n",
       "\t<tr><th scope=row>50759</th><td>3_72992872_G_A </td><td>0.0071248896   </td><td>-0.3445302     </td><td>0.1280329      </td><td>0.215044167    </td><td>3              </td><td>72978195       </td><td>72978744       </td><td>87             </td><td>87             </td><td>0.906642       </td><td>18.868283      </td><td>3              </td><td>72992872       </td><td>A              </td><td>1              </td><td>0.2011494      </td><td>0.7402040      </td><td>ENSG00000242960</td><td>0.34151523     </td></tr>\n",
       "\t<tr><th scope=row>50767</th><td>3_75471725_A_G </td><td>0.0001192371   </td><td> 0.4504768     </td><td>0.1170772      </td><td>0.008375093    </td><td>3              </td><td>75470703       </td><td>75484261       </td><td>87             </td><td>87             </td><td>0.897265       </td><td> 7.740984      </td><td>3              </td><td>75471725       </td><td>G              </td><td>1              </td><td>0.1896552      </td><td>0.4950582      </td><td>ENSG00000244026</td><td>0.05157168     </td></tr>\n",
       "</tbody>\n",
       "</table>\n"
      ],
      "text/latex": [
       "\\begin{tabular}{r|llllllllllllllllllll}\n",
       "  & snp\\_id & p\\_value & beta & beta\\_se & empirical\\_feature\\_p\\_value & feature\\_chromosome & feature\\_start & feature\\_end & n\\_samples & n\\_e\\_samples & alpha\\_param & beta\\_param & snp\\_chromosome & snp\\_position & assessed\\_allele & call\\_rate & maf & hwe\\_p & feature\\_id & q\\_value\\\\\n",
       "\\hline\n",
       "\t50759 & 3\\_72992872\\_G\\_A & 0.0071248896         & -0.3445302           & 0.1280329            & 0.215044167          & 3                    & 72978195             & 72978744             & 87                   & 87                   & 0.906642             & 18.868283            & 3                    & 72992872             & A                    & 1                    & 0.2011494            & 0.7402040            & ENSG00000242960      & 0.34151523          \\\\\n",
       "\t50767 & 3\\_75471725\\_A\\_G & 0.0001192371         &  0.4504768           & 0.1170772            & 0.008375093          & 3                    & 75470703             & 75484261             & 87                   & 87                   & 0.897265             &  7.740984            & 3                    & 75471725             & G                    & 1                    & 0.1896552            & 0.4950582            & ENSG00000244026      & 0.05157168          \\\\\n",
       "\\end{tabular}\n"
      ],
      "text/markdown": [
       "\n",
       "| <!--/--> | snp_id | p_value | beta | beta_se | empirical_feature_p_value | feature_chromosome | feature_start | feature_end | n_samples | n_e_samples | alpha_param | beta_param | snp_chromosome | snp_position | assessed_allele | call_rate | maf | hwe_p | feature_id | q_value |\n",
       "|---|---|---|---|---|---|---|---|---|---|---|---|---|---|---|---|---|---|---|---|---|\n",
       "| 50759 | 3_72992872_G_A  | 0.0071248896    | -0.3445302      | 0.1280329       | 0.215044167     | 3               | 72978195        | 72978744        | 87              | 87              | 0.906642        | 18.868283       | 3               | 72992872        | A               | 1               | 0.2011494       | 0.7402040       | ENSG00000242960 | 0.34151523      |\n",
       "| 50767 | 3_75471725_A_G  | 0.0001192371    |  0.4504768      | 0.1170772       | 0.008375093     | 3               | 75470703        | 75484261        | 87              | 87              | 0.897265        |  7.740984       | 3               | 75471725        | G               | 1               | 0.1896552       | 0.4950582       | ENSG00000244026 | 0.05157168      |\n",
       "\n"
      ],
      "text/plain": [
       "      snp_id         p_value      beta       beta_se  \n",
       "50759 3_72992872_G_A 0.0071248896 -0.3445302 0.1280329\n",
       "50767 3_75471725_A_G 0.0001192371  0.4504768 0.1170772\n",
       "      empirical_feature_p_value feature_chromosome feature_start feature_end\n",
       "50759 0.215044167               3                  72978195      72978744   \n",
       "50767 0.008375093               3                  75470703      75484261   \n",
       "      n_samples n_e_samples alpha_param beta_param snp_chromosome snp_position\n",
       "50759 87        87          0.906642    18.868283  3              72992872    \n",
       "50767 87        87          0.897265     7.740984  3              75471725    \n",
       "      assessed_allele call_rate maf       hwe_p     feature_id      q_value   \n",
       "50759 A               1         0.2011494 0.7402040 ENSG00000242960 0.34151523\n",
       "50767 G               1         0.1896552 0.4950582 ENSG00000244026 0.05157168"
      ]
     },
     "metadata": {},
     "output_type": "display_data"
    },
    {
     "data": {
      "text/html": [
       "<table>\n",
       "<thead><tr><th></th><th scope=col>snp_id</th><th scope=col>p_value</th><th scope=col>beta</th><th scope=col>beta_se</th><th scope=col>empirical_feature_p_value</th><th scope=col>feature_chromosome</th><th scope=col>feature_start</th><th scope=col>feature_end</th><th scope=col>n_samples</th><th scope=col>n_e_samples</th><th scope=col>alpha_param</th><th scope=col>beta_param</th><th scope=col>snp_chromosome</th><th scope=col>snp_position</th><th scope=col>assessed_allele</th><th scope=col>call_rate</th><th scope=col>maf</th><th scope=col>hwe_p</th><th scope=col>feature_id</th><th scope=col>q_value</th></tr></thead>\n",
       "<tbody>\n",
       "\t<tr><th scope=row>50759</th><td>3_72992872_G_A </td><td>0.0071248896   </td><td>-0.3445302     </td><td>0.1280329      </td><td>0.2275680      </td><td>3              </td><td>72978195       </td><td>72978744       </td><td>87             </td><td>87             </td><td>0.7252600      </td><td>24.67763       </td><td>3              </td><td>72992872       </td><td>A              </td><td>1              </td><td>0.2011494      </td><td>0.7402040      </td><td>ENSG00000242960</td><td>0.34559279     </td></tr>\n",
       "\t<tr><th scope=row>50767</th><td>3_75471725_A_G </td><td>0.0001528257   </td><td> 0.4453397     </td><td>0.1176146      </td><td>0.0151937      </td><td>3              </td><td>75470703       </td><td>75484261       </td><td>87             </td><td>87             </td><td>0.7472277      </td><td>18.67646       </td><td>3              </td><td>75471725       </td><td>G              </td><td>1              </td><td>0.1896552      </td><td>0.4950582      </td><td>ENSG00000244026</td><td>0.07658584     </td></tr>\n",
       "</tbody>\n",
       "</table>\n"
      ],
      "text/latex": [
       "\\begin{tabular}{r|llllllllllllllllllll}\n",
       "  & snp\\_id & p\\_value & beta & beta\\_se & empirical\\_feature\\_p\\_value & feature\\_chromosome & feature\\_start & feature\\_end & n\\_samples & n\\_e\\_samples & alpha\\_param & beta\\_param & snp\\_chromosome & snp\\_position & assessed\\_allele & call\\_rate & maf & hwe\\_p & feature\\_id & q\\_value\\\\\n",
       "\\hline\n",
       "\t50759 & 3\\_72992872\\_G\\_A & 0.0071248896         & -0.3445302           & 0.1280329            & 0.2275680            & 3                    & 72978195             & 72978744             & 87                   & 87                   & 0.7252600            & 24.67763             & 3                    & 72992872             & A                    & 1                    & 0.2011494            & 0.7402040            & ENSG00000242960      & 0.34559279          \\\\\n",
       "\t50767 & 3\\_75471725\\_A\\_G & 0.0001528257         &  0.4453397           & 0.1176146            & 0.0151937            & 3                    & 75470703             & 75484261             & 87                   & 87                   & 0.7472277            & 18.67646             & 3                    & 75471725             & G                    & 1                    & 0.1896552            & 0.4950582            & ENSG00000244026      & 0.07658584          \\\\\n",
       "\\end{tabular}\n"
      ],
      "text/markdown": [
       "\n",
       "| <!--/--> | snp_id | p_value | beta | beta_se | empirical_feature_p_value | feature_chromosome | feature_start | feature_end | n_samples | n_e_samples | alpha_param | beta_param | snp_chromosome | snp_position | assessed_allele | call_rate | maf | hwe_p | feature_id | q_value |\n",
       "|---|---|---|---|---|---|---|---|---|---|---|---|---|---|---|---|---|---|---|---|---|\n",
       "| 50759 | 3_72992872_G_A  | 0.0071248896    | -0.3445302      | 0.1280329       | 0.2275680       | 3               | 72978195        | 72978744        | 87              | 87              | 0.7252600       | 24.67763        | 3               | 72992872        | A               | 1               | 0.2011494       | 0.7402040       | ENSG00000242960 | 0.34559279      |\n",
       "| 50767 | 3_75471725_A_G  | 0.0001528257    |  0.4453397      | 0.1176146       | 0.0151937       | 3               | 75470703        | 75484261        | 87              | 87              | 0.7472277       | 18.67646        | 3               | 75471725        | G               | 1               | 0.1896552       | 0.4950582       | ENSG00000244026 | 0.07658584      |\n",
       "\n"
      ],
      "text/plain": [
       "      snp_id         p_value      beta       beta_se  \n",
       "50759 3_72992872_G_A 0.0071248896 -0.3445302 0.1280329\n",
       "50767 3_75471725_A_G 0.0001528257  0.4453397 0.1176146\n",
       "      empirical_feature_p_value feature_chromosome feature_start feature_end\n",
       "50759 0.2275680                 3                  72978195      72978744   \n",
       "50767 0.0151937                 3                  75470703      75484261   \n",
       "      n_samples n_e_samples alpha_param beta_param snp_chromosome snp_position\n",
       "50759 87        87          0.7252600   24.67763   3              72992872    \n",
       "50767 87        87          0.7472277   18.67646   3              75471725    \n",
       "      assessed_allele call_rate maf       hwe_p     feature_id      q_value   \n",
       "50759 A               1         0.2011494 0.7402040 ENSG00000242960 0.34559279\n",
       "50767 G               1         0.1896552 0.4950582 ENSG00000244026 0.07658584"
      ]
     },
     "metadata": {},
     "output_type": "display_data"
    }
   ],
   "source": [
    "tail(df,2)\n",
    "tail(df0,2)"
   ]
  },
  {
   "cell_type": "code",
   "execution_count": 10,
   "metadata": {},
   "outputs": [
    {
     "data": {
      "text/html": [
       "1305"
      ],
      "text/latex": [
       "1305"
      ],
      "text/markdown": [
       "1305"
      ],
      "text/plain": [
       "[1] 1305"
      ]
     },
     "metadata": {},
     "output_type": "display_data"
    },
    {
     "data": {
      "text/html": [
       "1309"
      ],
      "text/latex": [
       "1309"
      ],
      "text/markdown": [
       "1309"
      ],
      "text/plain": [
       "[1] 1309"
      ]
     },
     "metadata": {},
     "output_type": "display_data"
    }
   ],
   "source": [
    "length(unique(df[df$q_value < 0.05,\"feature_id\"]))\n",
    "length(unique(df0[df0$q_value < 0.05,\"feature_id\"]))"
   ]
  },
  {
   "cell_type": "code",
   "execution_count": 11,
   "metadata": {},
   "outputs": [
    {
     "name": "stderr",
     "output_type": "stream",
     "text": [
      "Warning message:\n",
      "“Column `snp_id` joining factors with different levels, coercing to character vector”"
     ]
    }
   ],
   "source": [
    "df1 = inner_join(df, df0, by=c(\"feature_id\",\"snp_id\"), suffix = c(\".lmm\",\".lm\"))"
   ]
  },
  {
   "cell_type": "code",
   "execution_count": 12,
   "metadata": {},
   "outputs": [
    {
     "data": {
      "text/plain": [
       "\n",
       "\tPearson's product-moment correlation\n",
       "\n",
       "data:  df1$beta.lmm and df1$beta.lm\n",
       "t = 10498, df = 11854, p-value < 2.2e-16\n",
       "alternative hypothesis: true correlation is not equal to 0\n",
       "95 percent confidence interval:\n",
       " 0.9999443 0.9999481\n",
       "sample estimates:\n",
       "      cor \n",
       "0.9999462 \n"
      ]
     },
     "metadata": {},
     "output_type": "display_data"
    }
   ],
   "source": [
    "cor.test(df1$beta.lmm, df1$beta.lm)"
   ]
  },
  {
   "cell_type": "code",
   "execution_count": 13,
   "metadata": {},
   "outputs": [
    {
     "data": {
      "text/plain": [
       "\n",
       "\tPearson's product-moment correlation\n",
       "\n",
       "data:  -log10(df1$p_value.lmm) and -log10(df1$p_value.lm)\n",
       "t = 4793.7, df = 11854, p-value < 2.2e-16\n",
       "alternative hypothesis: true correlation is not equal to 0\n",
       "95 percent confidence interval:\n",
       " 0.9997327 0.9997513\n",
       "sample estimates:\n",
       "      cor \n",
       "0.9997422 \n"
      ]
     },
     "metadata": {},
     "output_type": "display_data"
    }
   ],
   "source": [
    "cor.test(-log10(df1$p_value.lmm), -log10(df1$p_value.lm))"
   ]
  },
  {
   "cell_type": "code",
   "execution_count": null,
   "metadata": {},
   "outputs": [],
   "source": []
  },
  {
   "cell_type": "code",
   "execution_count": 14,
   "metadata": {},
   "outputs": [
    {
     "data": {
      "image/png": "[encoded data removed]",
      "text/plain": [
       "plot without title"
      ]
     },
     "metadata": {},
     "output_type": "display_data"
    },
    {
     "data": {
      "image/png": "[encoded data removed]",
      "text/plain": [
       "plot without title"
      ]
     },
     "metadata": {},
     "output_type": "display_data"
    }
   ],
   "source": [
    "ggplot(df1, aes(x = beta.lmm, y = beta.lm, colour = q_value.lm)) + geom_point() \n",
    "ggplot(df1, aes(x = -log10(p_value.lmm), y = -log10(p_value.lm), colour = q_value.lm)) + geom_point() "
   ]
  },
  {
   "cell_type": "code",
   "execution_count": null,
   "metadata": {},
   "outputs": [],
   "source": []
  },
  {
   "cell_type": "code",
   "execution_count": null,
   "metadata": {},
   "outputs": [],
   "source": []
  },
  {
   "cell_type": "code",
   "execution_count": null,
   "metadata": {},
   "outputs": [],
   "source": []
  },
  {
   "cell_type": "code",
   "execution_count": 16,
   "metadata": {},
   "outputs": [
    {
     "data": {
      "text/html": [
       "50425"
      ],
      "text/latex": [
       "50425"
      ],
      "text/markdown": [
       "50425"
      ],
      "text/plain": [
       "[1] 50425"
      ]
     },
     "metadata": {},
     "output_type": "display_data"
    }
   ],
   "source": [
    "df0 = read.csv(paste0(my_folder1,\"top_qtl_results_all.txt\"), sep = \"\\t\")\n",
    "mean_genes = unique(df0$feature_id)\n",
    "length(mean_genes)"
   ]
  },
  {
   "cell_type": "code",
   "execution_count": 17,
   "metadata": {},
   "outputs": [],
   "source": [
    "##### Total Mean"
   ]
  },
  {
   "cell_type": "code",
   "execution_count": 18,
   "metadata": {},
   "outputs": [],
   "source": [
    "total_mean_folder = \"/hps/nobackup/hipsci/scratch/ComparingQtlMapping/SingleCell/PseudoBulk/totmean/\""
   ]
  },
  {
   "cell_type": "code",
   "execution_count": 19,
   "metadata": {},
   "outputs": [],
   "source": [
    "my_folder = paste0(total_mean_folder,\"Run_Output_PCA20_88_log_TPM_scater_libsize_206/\") # scran, 20PCs"
   ]
  },
  {
   "cell_type": "code",
   "execution_count": 20,
   "metadata": {},
   "outputs": [],
   "source": [
    "# df = read.csv(paste0(my_folder,\"qtl_results_all.txt\"), sep = \"\\t\")\n",
    "# df <- df[order(df$empirical_feature_p_value, df$p_value ),]\n",
    "# df0 <- df[-which(duplicated(df$feature_id)),]\n",
    "# totmean_genes = unique(df0$feature_id)\n",
    "# length(totmean_genes)"
   ]
  },
  {
   "cell_type": "code",
   "execution_count": 21,
   "metadata": {},
   "outputs": [
    {
     "data": {
      "text/html": [
       "50429"
      ],
      "text/latex": [
       "50429"
      ],
      "text/markdown": [
       "50429"
      ],
      "text/plain": [
       "[1] 50429"
      ]
     },
     "metadata": {},
     "output_type": "display_data"
    }
   ],
   "source": [
    "df0 = read.csv(paste0(my_folder,\"top_qtl_results_all.txt\"), sep = \"\\t\")\n",
    "totmean_genes = unique(df0$feature_id)\n",
    "length(totmean_genes)"
   ]
  },
  {
   "cell_type": "code",
   "execution_count": 22,
   "metadata": {},
   "outputs": [],
   "source": [
    "##### Median"
   ]
  },
  {
   "cell_type": "code",
   "execution_count": 23,
   "metadata": {},
   "outputs": [],
   "source": [
    "median_folder = \"/hps/nobackup/hipsci/scratch/ComparingQtlMapping/SingleCell/PseudoBulk/median/\""
   ]
  },
  {
   "cell_type": "code",
   "execution_count": 24,
   "metadata": {},
   "outputs": [],
   "source": [
    "my_folder = paste0(median_folder,\"Run_Output_PCA20_88_log_TPM_scater_libsize_206/\") # scran, 20PCs"
   ]
  },
  {
   "cell_type": "code",
   "execution_count": 26,
   "metadata": {},
   "outputs": [
    {
     "data": {
      "text/html": [
       "13628"
      ],
      "text/latex": [
       "13628"
      ],
      "text/markdown": [
       "13628"
      ],
      "text/plain": [
       "[1] 13628"
      ]
     },
     "metadata": {},
     "output_type": "display_data"
    }
   ],
   "source": [
    "df0 = read.csv(paste0(my_folder,\"top_qtl_results_all.txt\"), sep = \"\\t\")\n",
    "median_genes = unique(df0$feature_id)\n",
    "length(median_genes)"
   ]
  },
  {
   "cell_type": "code",
   "execution_count": 27,
   "metadata": {},
   "outputs": [
    {
     "data": {
      "text/html": [
       "13567"
      ],
      "text/latex": [
       "13567"
      ],
      "text/markdown": [
       "13567"
      ],
      "text/plain": [
       "[1] 13567"
      ]
     },
     "metadata": {},
     "output_type": "display_data"
    },
    {
     "data": {
      "text/html": [
       "1499"
      ],
      "text/latex": [
       "1499"
      ],
      "text/markdown": [
       "1499"
      ],
      "text/plain": [
       "[1] 1499"
      ]
     },
     "metadata": {},
     "output_type": "display_data"
    },
    {
     "data": {
      "text/html": [
       "10227"
      ],
      "text/latex": [
       "10227"
      ],
      "text/markdown": [
       "10227"
      ],
      "text/plain": [
       "[1] 10227"
      ]
     },
     "metadata": {},
     "output_type": "display_data"
    },
    {
     "data": {
      "text/html": [
       "1129"
      ],
      "text/latex": [
       "1129"
      ],
      "text/markdown": [
       "1129"
      ],
      "text/plain": [
       "[1] 1129"
      ]
     },
     "metadata": {},
     "output_type": "display_data"
    }
   ],
   "source": [
    "# df0 = df0[df0$feature_id %in% common_genes,]\n",
    "# length(unique(df0$feature_id))\n",
    "df1 = df0[df0$feature_id %in% G_file$gene,]\n",
    "length(unique(df1$feature_id))\n",
    "df1$BH_fdr = p.adjust(df1$empirical_feature_p_value, method = \"BH\")\n",
    "length(unique(df1[df1$BH_fdr < 0.05,'feature_id']))\n",
    "df2 = df0[df0$feature_id %in% A_file$gene,]\n",
    "length(unique(df2$feature_id))\n",
    "df2$BH_fdr = p.adjust(df2$empirical_feature_p_value, method = \"BH\")\n",
    "length(unique(df2[df2$BH_fdr < 0.05,'feature_id']))"
   ]
  },
  {
   "cell_type": "code",
   "execution_count": null,
   "metadata": {},
   "outputs": [],
   "source": [
    "##### Total Median"
   ]
  },
  {
   "cell_type": "code",
   "execution_count": 29,
   "metadata": {},
   "outputs": [],
   "source": [
    "totmedian_folder = \"/hps/nobackup/hipsci/scratch/ComparingQtlMapping/SingleCell/PseudoBulk/totmedian/\""
   ]
  },
  {
   "cell_type": "code",
   "execution_count": 30,
   "metadata": {},
   "outputs": [],
   "source": [
    "my_folder = paste0(totmedian_folder,\"Run_Output_PCA20_88_log_TPM_scater_libsize_206/\") # scran, 20PCs"
   ]
  },
  {
   "cell_type": "code",
   "execution_count": 31,
   "metadata": {},
   "outputs": [
    {
     "data": {
      "text/html": [
       "12727"
      ],
      "text/latex": [
       "12727"
      ],
      "text/markdown": [
       "12727"
      ],
      "text/plain": [
       "[1] 12727"
      ]
     },
     "metadata": {},
     "output_type": "display_data"
    }
   ],
   "source": [
    "df0 = read.csv(paste0(my_folder,\"top_qtl_results_all.txt\"), sep = \"\\t\")\n",
    "totmedian_genes = unique(df0$feature_id)\n",
    "length(totmedian_genes)"
   ]
  },
  {
   "cell_type": "code",
   "execution_count": null,
   "metadata": {},
   "outputs": [],
   "source": []
  },
  {
   "cell_type": "code",
   "execution_count": 31,
   "metadata": {},
   "outputs": [],
   "source": [
    "##### Sum"
   ]
  },
  {
   "cell_type": "code",
   "execution_count": 32,
   "metadata": {},
   "outputs": [],
   "source": [
    "sum_folder = \"/hps/nobackup/hipsci/scratch/ComparingQtlMapping/SingleCell/PseudoBulk/sum/\""
   ]
  },
  {
   "cell_type": "code",
   "execution_count": 33,
   "metadata": {},
   "outputs": [],
   "source": [
    "my_folder = paste0(sum_folder,\"Run_Output_PCA20_88_log_TPM_edgeR_libsize_206/\") # edgeR, 20PCs"
   ]
  },
  {
   "cell_type": "code",
   "execution_count": 34,
   "metadata": {},
   "outputs": [
    {
     "data": {
      "text/html": [
       "50427"
      ],
      "text/latex": [
       "50427"
      ],
      "text/markdown": [
       "50427"
      ],
      "text/plain": [
       "[1] 50427"
      ]
     },
     "metadata": {},
     "output_type": "display_data"
    }
   ],
   "source": [
    "df0 = read.csv(paste0(my_folder,\"top_qtl_results_all.txt\"), sep = \"\\t\")\n",
    "df0 <- df0[-which(duplicated(df0$feature_id)),]\n",
    "sum_genes = unique(df0$feature_id)\n",
    "length(sum_genes)"
   ]
  },
  {
   "cell_type": "code",
   "execution_count": 35,
   "metadata": {},
   "outputs": [],
   "source": [
    "##### Total Sum"
   ]
  },
  {
   "cell_type": "code",
   "execution_count": 36,
   "metadata": {},
   "outputs": [],
   "source": [
    "total_sum_folder = \"/hps/nobackup/hipsci/scratch/ComparingQtlMapping/SingleCell/PseudoBulk/totsum/\""
   ]
  },
  {
   "cell_type": "code",
   "execution_count": 37,
   "metadata": {},
   "outputs": [],
   "source": [
    "my_folder = paste0(total_sum_folder,\"Run_Output_PCA20_88_log_TPM_edgeR_libsize_206/\") # edgeR, 20PCs"
   ]
  },
  {
   "cell_type": "code",
   "execution_count": 38,
   "metadata": {},
   "outputs": [
    {
     "data": {
      "text/html": [
       "50429"
      ],
      "text/latex": [
       "50429"
      ],
      "text/markdown": [
       "50429"
      ],
      "text/plain": [
       "[1] 50429"
      ]
     },
     "metadata": {},
     "output_type": "display_data"
    }
   ],
   "source": [
    "df = read.csv(paste0(my_folder,\"qtl_results_all.txt\"), sep = \"\\t\")\n",
    "df <- df[order(df$empirical_feature_p_value, df$p_value ),]\n",
    "df0 <- df[-which(duplicated(df$feature_id)),]\n",
    "# nrow(df0)\n",
    "length(unique(df0$feature_id))"
   ]
  },
  {
   "cell_type": "code",
   "execution_count": 39,
   "metadata": {},
   "outputs": [
    {
     "data": {
      "text/html": [
       "20545"
      ],
      "text/latex": [
       "20545"
      ],
      "text/markdown": [
       "20545"
      ],
      "text/plain": [
       "[1] 20545"
      ]
     },
     "metadata": {},
     "output_type": "display_data"
    },
    {
     "data": {
      "text/html": [
       "1109"
      ],
      "text/latex": [
       "1109"
      ],
      "text/markdown": [
       "1109"
      ],
      "text/plain": [
       "[1] 1109"
      ]
     },
     "metadata": {},
     "output_type": "display_data"
    },
    {
     "data": {
      "text/html": [
       "10767"
      ],
      "text/latex": [
       "10767"
      ],
      "text/markdown": [
       "10767"
      ],
      "text/plain": [
       "[1] 10767"
      ]
     },
     "metadata": {},
     "output_type": "display_data"
    },
    {
     "data": {
      "text/html": [
       "823"
      ],
      "text/latex": [
       "823"
      ],
      "text/markdown": [
       "823"
      ],
      "text/plain": [
       "[1] 823"
      ]
     },
     "metadata": {},
     "output_type": "display_data"
    }
   ],
   "source": [
    "# df0 = df0[df0$feature_id %in% common_genes,]\n",
    "# length(unique(df0$feature_id))\n",
    "df1 = df0[df0$feature_id %in% G_file$gene,]\n",
    "length(unique(df1$feature_id))\n",
    "df1$BH_fdr = p.adjust(df1$empirical_feature_p_value, method = \"BH\")\n",
    "length(unique(df1[df1$BH_fdr < 0.05,'feature_id']))\n",
    "df2 = df0[df0$feature_id %in% A_file$gene,]\n",
    "length(unique(df2$feature_id))\n",
    "df2$BH_fdr = p.adjust(df2$empirical_feature_p_value, method = \"BH\")\n",
    "length(unique(df2[df2$BH_fdr < 0.05,'feature_id']))"
   ]
  },
  {
   "cell_type": "code",
   "execution_count": 40,
   "metadata": {
    "scrolled": true
   },
   "outputs": [
    {
     "data": {
      "text/html": [
       "50429"
      ],
      "text/latex": [
       "50429"
      ],
      "text/markdown": [
       "50429"
      ],
      "text/plain": [
       "[1] 50429"
      ]
     },
     "metadata": {},
     "output_type": "display_data"
    }
   ],
   "source": [
    "# df0 = read.csv(paste0(my_folder,\"top_qtl_results_all.txt\"), sep = \"\\t\")\n",
    "totsum_genes = unique(df0$feature_id)\n",
    "length(totsum_genes)"
   ]
  },
  {
   "cell_type": "code",
   "execution_count": 41,
   "metadata": {},
   "outputs": [
    {
     "data": {
      "text/html": [
       "50425"
      ],
      "text/latex": [
       "50425"
      ],
      "text/markdown": [
       "50425"
      ],
      "text/plain": [
       "[1] 50425"
      ]
     },
     "metadata": {},
     "output_type": "display_data"
    },
    {
     "data": {
      "text/html": [
       "50416"
      ],
      "text/latex": [
       "50416"
      ],
      "text/markdown": [
       "50416"
      ],
      "text/plain": [
       "[1] 50416"
      ]
     },
     "metadata": {},
     "output_type": "display_data"
    },
    {
     "data": {
      "text/html": [
       "50416"
      ],
      "text/latex": [
       "50416"
      ],
      "text/markdown": [
       "50416"
      ],
      "text/plain": [
       "[1] 50416"
      ]
     },
     "metadata": {},
     "output_type": "display_data"
    },
    {
     "data": {
      "text/html": [
       "13628"
      ],
      "text/latex": [
       "13628"
      ],
      "text/markdown": [
       "13628"
      ],
      "text/plain": [
       "[1] 13628"
      ]
     },
     "metadata": {},
     "output_type": "display_data"
    },
    {
     "data": {
      "text/html": [
       "12726"
      ],
      "text/latex": [
       "12726"
      ],
      "text/markdown": [
       "12726"
      ],
      "text/plain": [
       "[1] 12726"
      ]
     },
     "metadata": {},
     "output_type": "display_data"
    }
   ],
   "source": [
    "genes0 = mean_genes[mean_genes %in% totmean_genes]\n",
    "length(genes0)\n",
    "genes1 = genes0[genes0 %in% sum_genes]\n",
    "length(genes1)\n",
    "genes2 = genes1[genes1 %in% totsum_genes]\n",
    "length(genes2)\n",
    "common_genes = genes2\n",
    "genes3 = genes2[genes2 %in% median_genes]\n",
    "length(genes3)\n",
    "genes4 = genes3[genes3 %in% totmedian_genes]\n",
    "length(genes4)\n",
    "common_genes = genes4"
   ]
  },
  {
   "cell_type": "code",
   "execution_count": 42,
   "metadata": {},
   "outputs": [
    {
     "data": {
      "text/html": [
       "12726"
      ],
      "text/latex": [
       "12726"
      ],
      "text/markdown": [
       "12726"
      ],
      "text/plain": [
       "[1] 12726"
      ]
     },
     "metadata": {},
     "output_type": "display_data"
    }
   ],
   "source": [
    "length(common_genes)"
   ]
  },
  {
   "cell_type": "code",
   "execution_count": 43,
   "metadata": {},
   "outputs": [],
   "source": [
    "write.csv(data.frame(genes = common_genes), \"/hps/nobackup/stegle/users/acuomo/all_scripts/sc_eqtl/common_genes_across_all_aggregation_methods.csv\")"
   ]
  },
  {
   "cell_type": "code",
   "execution_count": 44,
   "metadata": {},
   "outputs": [],
   "source": [
    "write.csv(data.frame(genes = mean_genes), \"/hps/nobackup/stegle/users/acuomo/all_scripts/sc_eqtl/mean_genes.csv\")\n",
    "write.csv(data.frame(genes = totmean_genes), \"/hps/nobackup/stegle/users/acuomo/all_scripts/sc_eqtl/totmean_genes.csv\")\n",
    "write.csv(data.frame(genes = median_genes), \"/hps/nobackup/stegle/users/acuomo/all_scripts/sc_eqtl/median_genes.csv\")\n",
    "write.csv(data.frame(genes = totmedian_genes), \"/hps/nobackup/stegle/users/acuomo/all_scripts/sc_eqtl/totmedian_genes.csv\")\n",
    "write.csv(data.frame(genes = sum_genes), \"/hps/nobackup/stegle/users/acuomo/all_scripts/sc_eqtl/sum_genes.csv\")\n",
    "write.csv(data.frame(genes = totsum_genes), \"/hps/nobackup/stegle/users/acuomo/all_scripts/sc_eqtl/totsum_genes.csv\")"
   ]
  },
  {
   "cell_type": "code",
   "execution_count": 41,
   "metadata": {},
   "outputs": [],
   "source": [
    "median = read.csv(\"/hps/nobackup/stegle/users/acuomo/all_scripts/sc_eqtl/median_genes.csv\")\n",
    "median_genes = (unique(median$genes))"
   ]
  },
  {
   "cell_type": "code",
   "execution_count": 53,
   "metadata": {
    "scrolled": true
   },
   "outputs": [
    {
     "data": {
      "text/html": [
       "13177"
      ],
      "text/latex": [
       "13177"
      ],
      "text/markdown": [
       "13177"
      ],
      "text/plain": [
       "[1] 13177"
      ]
     },
     "metadata": {},
     "output_type": "display_data"
    },
    {
     "data": {
      "text/html": [
       "13117"
      ],
      "text/latex": [
       "13117"
      ],
      "text/markdown": [
       "13117"
      ],
      "text/plain": [
       "[1] 13117"
      ]
     },
     "metadata": {},
     "output_type": "display_data"
    },
    {
     "data": {
      "text/html": [
       "9886"
      ],
      "text/latex": [
       "9886"
      ],
      "text/markdown": [
       "9886"
      ],
      "text/plain": [
       "[1] 9886"
      ]
     },
     "metadata": {},
     "output_type": "display_data"
    }
   ],
   "source": [
    "length(common_genes)\n",
    "length(common_genes[common_genes %in% G_file$gene])\n",
    "length(common_genes[common_genes %in% A_file$gene])"
   ]
  },
  {
   "cell_type": "code",
   "execution_count": 426,
   "metadata": {},
   "outputs": [
    {
     "data": {
      "text/html": [
       "48570"
      ],
      "text/latex": [
       "48570"
      ],
      "text/markdown": [
       "48570"
      ],
      "text/plain": [
       "[1] 48570"
      ]
     },
     "metadata": {},
     "output_type": "display_data"
    }
   ],
   "source": [
    "# df0 = read.csv(paste0(my_folder,\"top_qtl_results_all.txt\"), sep = \"\\t\")\n",
    "df0 = df0[df0$feature_id %in% common_genes,]\n",
    "length(unique(df0$feature_id))"
   ]
  },
  {
   "cell_type": "code",
   "execution_count": 427,
   "metadata": {},
   "outputs": [],
   "source": [
    "# df = read.csv(paste0(my_folder,\"qtl_results_all.txt\"), sep = \"\\t\")\n",
    "# df <- df[order(df$empirical_feature_p_value, df$p_value ),]\n",
    "# df0 <- df[-which(duplicated(df$feature_id)),]\n",
    "# nrow(df0)"
   ]
  },
  {
   "cell_type": "code",
   "execution_count": 428,
   "metadata": {},
   "outputs": [],
   "source": [
    "# totsum_genes = df0$feature_id"
   ]
  },
  {
   "cell_type": "code",
   "execution_count": 429,
   "metadata": {},
   "outputs": [],
   "source": [
    "# length(totmean_genes)\n",
    "# length(totmean_genes[totmean_genes %in% common_genes])"
   ]
  },
  {
   "cell_type": "code",
   "execution_count": 430,
   "metadata": {},
   "outputs": [
    {
     "data": {
      "text/html": [
       "19876"
      ],
      "text/latex": [
       "19876"
      ],
      "text/markdown": [
       "19876"
      ],
      "text/plain": [
       "[1] 19876"
      ]
     },
     "metadata": {},
     "output_type": "display_data"
    }
   ],
   "source": [
    "df1 = df0[df0$feature_id %in% G_file$gene,]\n",
    "length(unique(df1$feature_id))"
   ]
  },
  {
   "cell_type": "code",
   "execution_count": 431,
   "metadata": {},
   "outputs": [
    {
     "data": {
      "text/html": [
       "1433"
      ],
      "text/latex": [
       "1433"
      ],
      "text/markdown": [
       "1433"
      ],
      "text/plain": [
       "[1] 1433"
      ]
     },
     "metadata": {},
     "output_type": "display_data"
    }
   ],
   "source": [
    "df1$BH_fdr = p.adjust(df1$empirical_feature_p_value, method = \"BH\")\n",
    "length(unique(df1[df1$BH_fdr < 0.05,'feature_id']))\n",
    "# c(nrow(df1[df1$BH_fdr < 0.05,]), nrow(df1[df1$BH_fdr < 0.05,])/nrow(df1))"
   ]
  },
  {
   "cell_type": "code",
   "execution_count": 432,
   "metadata": {},
   "outputs": [
    {
     "data": {
      "text/html": [
       "10408"
      ],
      "text/latex": [
       "10408"
      ],
      "text/markdown": [
       "10408"
      ],
      "text/plain": [
       "[1] 10408"
      ]
     },
     "metadata": {},
     "output_type": "display_data"
    }
   ],
   "source": [
    "df2 = df0[df0$feature_id %in% A_file$gene,]\n",
    "length(unique(df2$feature_id))"
   ]
  },
  {
   "cell_type": "code",
   "execution_count": 433,
   "metadata": {},
   "outputs": [
    {
     "data": {
      "text/html": [
       "1045"
      ],
      "text/latex": [
       "1045"
      ],
      "text/markdown": [
       "1045"
      ],
      "text/plain": [
       "[1] 1045"
      ]
     },
     "metadata": {},
     "output_type": "display_data"
    }
   ],
   "source": [
    "df2$BH_fdr = p.adjust(df2$empirical_feature_p_value, method = \"BH\")\n",
    "length(unique(df2[df2$BH_fdr < 0.05,'feature_id']))\n",
    "# c(nrow(df2[df2$BH_fdr < 0.05,]), nrow(df2[df2$BH_fdr < 0.05,])/nrow(df2))"
   ]
  },
  {
   "cell_type": "code",
   "execution_count": null,
   "metadata": {},
   "outputs": [],
   "source": []
  },
  {
   "cell_type": "code",
   "execution_count": null,
   "metadata": {},
   "outputs": [],
   "source": []
  }
 ],
 "metadata": {
  "kernelspec": {
   "display_name": "R",
   "language": "R",
   "name": "ir"
  }
 },
 "nbformat": 4,
 "nbformat_minor": 4
}
