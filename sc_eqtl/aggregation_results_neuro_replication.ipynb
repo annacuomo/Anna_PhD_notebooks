{
 "cells": [
  {
   "cell_type": "code",
   "execution_count": 61,
   "metadata": {},
   "outputs": [],
   "source": [
    "library(qvalue)\n",
    "library(dplyr)"
   ]
  },
  {
   "cell_type": "code",
   "execution_count": 76,
   "metadata": {},
   "outputs": [
    {
     "data": {
      "text/html": [
       "16369"
      ],
      "text/latex": [
       "16369"
      ],
      "text/markdown": [
       "16369"
      ],
      "text/plain": [
       "[1] 16369"
      ]
     },
     "metadata": {},
     "output_type": "display_data"
    },
    {
     "data": {
      "text/html": [
       "<table>\n",
       "<thead><tr><th scope=col>index</th><th scope=col>gene_ids.0</th><th scope=col>gene</th></tr></thead>\n",
       "<tbody>\n",
       "\t<tr><td>OR4F5          </td><td>ENSG00000186092</td><td>ENSG00000186092</td></tr>\n",
       "\t<tr><td>RP11-34P13.8   </td><td>ENSG00000239945</td><td>ENSG00000239945</td></tr>\n",
       "</tbody>\n",
       "</table>\n"
      ],
      "text/latex": [
       "\\begin{tabular}{r|lll}\n",
       " index & gene\\_ids.0 & gene\\\\\n",
       "\\hline\n",
       "\t OR4F5           & ENSG00000186092 & ENSG00000186092\\\\\n",
       "\t RP11-34P13.8    & ENSG00000239945 & ENSG00000239945\\\\\n",
       "\\end{tabular}\n"
      ],
      "text/markdown": [
       "\n",
       "| index | gene_ids.0 | gene |\n",
       "|---|---|---|\n",
       "| OR4F5           | ENSG00000186092 | ENSG00000186092 |\n",
       "| RP11-34P13.8    | ENSG00000239945 | ENSG00000239945 |\n",
       "\n"
      ],
      "text/plain": [
       "  index        gene_ids.0      gene           \n",
       "1 OR4F5        ENSG00000186092 ENSG00000186092\n",
       "2 RP11-34P13.8 ENSG00000239945 ENSG00000239945"
      ]
     },
     "metadata": {},
     "output_type": "display_data"
    }
   ],
   "source": [
    "Giordanos_selection = \"/hps/nobackup/stegle/users/acuomo/all_scripts/sc_eqtl/neuro_5CV_filt.tsv\"\n",
    "G_file = read.csv(Giordanos_selection, sep = \"\\t\")\n",
    "G_file$gene = G_file$gene_ids.0\n",
    "nrow(G_file)\n",
    "head(G_file,2)"
   ]
  },
  {
   "cell_type": "code",
   "execution_count": 1,
   "metadata": {},
   "outputs": [
    {
     "data": {
      "text/html": [
       "<table>\n",
       "<thead><tr><th scope=col>V1</th><th scope=col>V2</th><th scope=col>V3</th></tr></thead>\n",
       "<tbody>\n",
       "\t<tr><td>QTL                           </td><td>slope                         </td><td>minPvalueBeta                 </td></tr>\n",
       "\t<tr><td>1_662622_G_A-ENSG00000223972.4</td><td>-0.0100299755009276           </td><td>0.997885800810918             </td></tr>\n",
       "\t<tr><td>1_693731_A_G-ENSG00000223972.4</td><td>0.0396566103896104            </td><td>1                             </td></tr>\n",
       "\t<tr><td>1_715074_A_G-ENSG00000223972.4</td><td>0.155843977736549             </td><td>0.999999997880452             </td></tr>\n",
       "\t<tr><td>1_724103_A_G-ENSG00000223972.4</td><td>0.294889472170686             </td><td>1                             </td></tr>\n",
       "\t<tr><td>1_727841_G_A-ENSG00000223972.4</td><td>0.0654366432653061            </td><td>0.821338075249434             </td></tr>\n",
       "</tbody>\n",
       "</table>\n"
      ],
      "text/latex": [
       "\\begin{tabular}{r|lll}\n",
       " V1 & V2 & V3\\\\\n",
       "\\hline\n",
       "\t QTL                            & slope                          & minPvalueBeta                 \\\\\n",
       "\t 1\\_662622\\_G\\_A-ENSG00000223972.4 & -0.0100299755009276                  & 0.997885800810918                   \\\\\n",
       "\t 1\\_693731\\_A\\_G-ENSG00000223972.4 & 0.0396566103896104                   & 1                                   \\\\\n",
       "\t 1\\_715074\\_A\\_G-ENSG00000223972.4 & 0.155843977736549                    & 0.999999997880452                   \\\\\n",
       "\t 1\\_724103\\_A\\_G-ENSG00000223972.4 & 0.294889472170686                    & 1                                   \\\\\n",
       "\t 1\\_727841\\_G\\_A-ENSG00000223972.4 & 0.0654366432653061                   & 0.821338075249434                   \\\\\n",
       "\\end{tabular}\n"
      ],
      "text/markdown": [
       "\n",
       "| V1 | V2 | V3 |\n",
       "|---|---|---|\n",
       "| QTL                            | slope                          | minPvalueBeta                  |\n",
       "| 1_662622_G_A-ENSG00000223972.4 | -0.0100299755009276            | 0.997885800810918              |\n",
       "| 1_693731_A_G-ENSG00000223972.4 | 0.0396566103896104             | 1                              |\n",
       "| 1_715074_A_G-ENSG00000223972.4 | 0.155843977736549              | 0.999999997880452              |\n",
       "| 1_724103_A_G-ENSG00000223972.4 | 0.294889472170686              | 1                              |\n",
       "| 1_727841_G_A-ENSG00000223972.4 | 0.0654366432653061             | 0.821338075249434              |\n",
       "\n"
      ],
      "text/plain": [
       "  V1                             V2                  V3               \n",
       "1 QTL                            slope               minPvalueBeta    \n",
       "2 1_662622_G_A-ENSG00000223972.4 -0.0100299755009276 0.997885800810918\n",
       "3 1_693731_A_G-ENSG00000223972.4 0.0396566103896104  1                \n",
       "4 1_715074_A_G-ENSG00000223972.4 0.155843977736549   0.999999997880452\n",
       "5 1_724103_A_G-ENSG00000223972.4 0.294889472170686   1                \n",
       "6 1_727841_G_A-ENSG00000223972.4 0.0654366432653061  0.821338075249434"
      ]
     },
     "metadata": {},
     "output_type": "display_data"
    }
   ],
   "source": [
    "# GTEx brain bulk results to assess replication\n",
    "bulk = \"/hps/nobackup/hipsci/scratch/ComparingQtlMapping/allBrainAverageSlope.Weigthed.txt.gz\"\n",
    "# res = read.table(gzfile(bulk),sep=\"\\t\", header = TRUE)\n",
    "head(res)"
   ]
  },
  {
   "cell_type": "code",
   "execution_count": 24,
   "metadata": {},
   "outputs": [],
   "source": [
    "res1 = res\n",
    "res1$V1 = as.character(res1$V1)\n",
    "res1$V2 = as.character(res1$V2)\n",
    "res1$V3 = as.character(res1$V3)"
   ]
  },
  {
   "cell_type": "code",
   "execution_count": 26,
   "metadata": {},
   "outputs": [
    {
     "data": {
      "text/html": [
       "<table>\n",
       "<thead><tr><th></th><th scope=col>QTL</th><th scope=col>slope</th><th scope=col>minPvalueBeta</th></tr></thead>\n",
       "<tbody>\n",
       "\t<tr><th scope=row>2</th><td>1_662622_G_A-ENSG00000223972.4</td><td>-0.0100299755009276           </td><td>0.997885800810918             </td></tr>\n",
       "\t<tr><th scope=row>3</th><td>1_693731_A_G-ENSG00000223972.4</td><td>0.0396566103896104            </td><td>1                             </td></tr>\n",
       "</tbody>\n",
       "</table>\n"
      ],
      "text/latex": [
       "\\begin{tabular}{r|lll}\n",
       "  & QTL & slope & minPvalueBeta\\\\\n",
       "\\hline\n",
       "\t2 & 1\\_662622\\_G\\_A-ENSG00000223972.4 & -0.0100299755009276                  & 0.997885800810918                   \\\\\n",
       "\t3 & 1\\_693731\\_A\\_G-ENSG00000223972.4 & 0.0396566103896104                   & 1                                   \\\\\n",
       "\\end{tabular}\n"
      ],
      "text/markdown": [
       "\n",
       "| <!--/--> | QTL | slope | minPvalueBeta |\n",
       "|---|---|---|---|\n",
       "| 2 | 1_662622_G_A-ENSG00000223972.4 | -0.0100299755009276            | 0.997885800810918              |\n",
       "| 3 | 1_693731_A_G-ENSG00000223972.4 | 0.0396566103896104             | 1                              |\n",
       "\n"
      ],
      "text/plain": [
       "  QTL                            slope               minPvalueBeta    \n",
       "2 1_662622_G_A-ENSG00000223972.4 -0.0100299755009276 0.997885800810918\n",
       "3 1_693731_A_G-ENSG00000223972.4 0.0396566103896104  1                "
      ]
     },
     "metadata": {},
     "output_type": "display_data"
    }
   ],
   "source": [
    "colnames(res1) = res1[1,]\n",
    "res1 = res1[-c(1),] \n",
    "head(res1,2)"
   ]
  },
  {
   "cell_type": "code",
   "execution_count": 27,
   "metadata": {},
   "outputs": [
    {
     "data": {
      "text/html": [
       "<table>\n",
       "<thead><tr><th></th><th scope=col>eQTL</th><th scope=col>beta</th><th scope=col>min_emp_p_value</th></tr></thead>\n",
       "<tbody>\n",
       "\t<tr><th scope=row>2</th><td>1_662622_G_A-ENSG00000223972.4</td><td>-0.0100299755009276           </td><td>0.997885800810918             </td></tr>\n",
       "\t<tr><th scope=row>3</th><td>1_693731_A_G-ENSG00000223972.4</td><td>0.0396566103896104            </td><td>1                             </td></tr>\n",
       "</tbody>\n",
       "</table>\n"
      ],
      "text/latex": [
       "\\begin{tabular}{r|lll}\n",
       "  & eQTL & beta & min\\_emp\\_p\\_value\\\\\n",
       "\\hline\n",
       "\t2 & 1\\_662622\\_G\\_A-ENSG00000223972.4 & -0.0100299755009276                  & 0.997885800810918                   \\\\\n",
       "\t3 & 1\\_693731\\_A\\_G-ENSG00000223972.4 & 0.0396566103896104                   & 1                                   \\\\\n",
       "\\end{tabular}\n"
      ],
      "text/markdown": [
       "\n",
       "| <!--/--> | eQTL | beta | min_emp_p_value |\n",
       "|---|---|---|---|\n",
       "| 2 | 1_662622_G_A-ENSG00000223972.4 | -0.0100299755009276            | 0.997885800810918              |\n",
       "| 3 | 1_693731_A_G-ENSG00000223972.4 | 0.0396566103896104             | 1                              |\n",
       "\n"
      ],
      "text/plain": [
       "  eQTL                           beta                min_emp_p_value  \n",
       "2 1_662622_G_A-ENSG00000223972.4 -0.0100299755009276 0.997885800810918\n",
       "3 1_693731_A_G-ENSG00000223972.4 0.0396566103896104  1                "
      ]
     },
     "metadata": {},
     "output_type": "display_data"
    }
   ],
   "source": [
    "res2 = res1\n",
    "colnames(res2) = c(\"eQTL\",\"beta\",\"min_emp_p_value\")\n",
    "head(res2,2)"
   ]
  },
  {
   "cell_type": "code",
   "execution_count": 33,
   "metadata": {},
   "outputs": [
    {
     "data": {
      "text/html": [
       "<table>\n",
       "<thead><tr><th></th><th scope=col>eQTL</th><th scope=col>beta</th><th scope=col>min_emp_p_value</th><th scope=col>snp_id</th><th scope=col>feature_id</th></tr></thead>\n",
       "<tbody>\n",
       "\t<tr><th scope=row>2</th><td>1_662622_G_A-ENSG00000223972.4</td><td>-0.0100299755009276           </td><td>0.997885800810918             </td><td>1_662622_G_A                  </td><td>ENSG00000223972.4             </td></tr>\n",
       "\t<tr><th scope=row>3</th><td>1_693731_A_G-ENSG00000223972.4</td><td>0.0396566103896104            </td><td>1                             </td><td>1_693731_A_G                  </td><td>ENSG00000223972.4             </td></tr>\n",
       "</tbody>\n",
       "</table>\n"
      ],
      "text/latex": [
       "\\begin{tabular}{r|lllll}\n",
       "  & eQTL & beta & min\\_emp\\_p\\_value & snp\\_id & feature\\_id\\\\\n",
       "\\hline\n",
       "\t2 & 1\\_662622\\_G\\_A-ENSG00000223972.4 & -0.0100299755009276                  & 0.997885800810918                    & 1\\_662622\\_G\\_A                   & ENSG00000223972.4                   \\\\\n",
       "\t3 & 1\\_693731\\_A\\_G-ENSG00000223972.4 & 0.0396566103896104                   & 1                                    & 1\\_693731\\_A\\_G                   & ENSG00000223972.4                   \\\\\n",
       "\\end{tabular}\n"
      ],
      "text/markdown": [
       "\n",
       "| <!--/--> | eQTL | beta | min_emp_p_value | snp_id | feature_id |\n",
       "|---|---|---|---|---|---|\n",
       "| 2 | 1_662622_G_A-ENSG00000223972.4 | -0.0100299755009276            | 0.997885800810918              | 1_662622_G_A                   | ENSG00000223972.4              |\n",
       "| 3 | 1_693731_A_G-ENSG00000223972.4 | 0.0396566103896104             | 1                              | 1_693731_A_G                   | ENSG00000223972.4              |\n",
       "\n"
      ],
      "text/plain": [
       "  eQTL                           beta                min_emp_p_value  \n",
       "2 1_662622_G_A-ENSG00000223972.4 -0.0100299755009276 0.997885800810918\n",
       "3 1_693731_A_G-ENSG00000223972.4 0.0396566103896104  1                \n",
       "  snp_id       feature_id       \n",
       "2 1_662622_G_A ENSG00000223972.4\n",
       "3 1_693731_A_G ENSG00000223972.4"
      ]
     },
     "metadata": {},
     "output_type": "display_data"
    }
   ],
   "source": [
    "res2$snp_id = gsub(\"-.*\",\"\",res2$eQTL)\n",
    "res2$feature_id = gsub(\".*-\",\"\",res2$eQTL)\n",
    "head(res2,2)"
   ]
  },
  {
   "cell_type": "code",
   "execution_count": 36,
   "metadata": {},
   "outputs": [
    {
     "data": {
      "text/html": [
       "<table>\n",
       "<thead><tr><th></th><th scope=col>eQTL</th><th scope=col>beta</th><th scope=col>min_emp_p_value</th><th scope=col>snp_id</th><th scope=col>feature_id</th></tr></thead>\n",
       "<tbody>\n",
       "\t<tr><th scope=row>2</th><td>1_662622_G_A-ENSG00000223972.4</td><td>-0.0100299755009276           </td><td>0.997885800810918             </td><td>1_662622_G_A                  </td><td>ENSG00000223972               </td></tr>\n",
       "\t<tr><th scope=row>3</th><td>1_693731_A_G-ENSG00000223972.4</td><td>0.0396566103896104            </td><td>1                             </td><td>1_693731_A_G                  </td><td>ENSG00000223972               </td></tr>\n",
       "</tbody>\n",
       "</table>\n"
      ],
      "text/latex": [
       "\\begin{tabular}{r|lllll}\n",
       "  & eQTL & beta & min\\_emp\\_p\\_value & snp\\_id & feature\\_id\\\\\n",
       "\\hline\n",
       "\t2 & 1\\_662622\\_G\\_A-ENSG00000223972.4 & -0.0100299755009276                  & 0.997885800810918                    & 1\\_662622\\_G\\_A                   & ENSG00000223972                     \\\\\n",
       "\t3 & 1\\_693731\\_A\\_G-ENSG00000223972.4 & 0.0396566103896104                   & 1                                    & 1\\_693731\\_A\\_G                   & ENSG00000223972                     \\\\\n",
       "\\end{tabular}\n"
      ],
      "text/markdown": [
       "\n",
       "| <!--/--> | eQTL | beta | min_emp_p_value | snp_id | feature_id |\n",
       "|---|---|---|---|---|---|\n",
       "| 2 | 1_662622_G_A-ENSG00000223972.4 | -0.0100299755009276            | 0.997885800810918              | 1_662622_G_A                   | ENSG00000223972                |\n",
       "| 3 | 1_693731_A_G-ENSG00000223972.4 | 0.0396566103896104             | 1                              | 1_693731_A_G                   | ENSG00000223972                |\n",
       "\n"
      ],
      "text/plain": [
       "  eQTL                           beta                min_emp_p_value  \n",
       "2 1_662622_G_A-ENSG00000223972.4 -0.0100299755009276 0.997885800810918\n",
       "3 1_693731_A_G-ENSG00000223972.4 0.0396566103896104  1                \n",
       "  snp_id       feature_id     \n",
       "2 1_662622_G_A ENSG00000223972\n",
       "3 1_693731_A_G ENSG00000223972"
      ]
     },
     "metadata": {},
     "output_type": "display_data"
    }
   ],
   "source": [
    "res2$feature_id = gsub(\"\\\\..*\",\"\",res2$feature_id)\n",
    "head(res2,2)"
   ]
  },
  {
   "cell_type": "code",
   "execution_count": null,
   "metadata": {},
   "outputs": [],
   "source": [
    "# res3 = res2[order(as.numeric(res2$min_emp_p_value)),]\n",
    "# res3 <- res3[-which(duplicated(res3$feature_id)),]"
   ]
  },
  {
   "cell_type": "code",
   "execution_count": 81,
   "metadata": {},
   "outputs": [],
   "source": [
    "res3 = res3[res3$feature_id %in% G_file$gene,]"
   ]
  },
  {
   "cell_type": "code",
   "execution_count": 82,
   "metadata": {},
   "outputs": [
    {
     "data": {
      "text/html": [
       "<table>\n",
       "<thead><tr><th></th><th scope=col>eQTL</th><th scope=col>beta</th><th scope=col>min_emp_p_value</th><th scope=col>snp_id</th><th scope=col>feature_id</th><th scope=col>q_value</th></tr></thead>\n",
       "<tbody>\n",
       "\t<tr><th scope=row>86379614</th><td>12_56435929_C_G-ENSG00000197728.5 </td><td>-0.00670164100380229              </td><td>4.889872e-59                      </td><td>12_56435929_C_G                   </td><td>ENSG00000197728                   </td><td>1.641675e-56                      </td></tr>\n",
       "\t<tr><th scope=row>80070691</th><td>11_74618701_C_G-ENSG00000166435.11</td><td>0.101580099762738                 </td><td>1.149770e-54                      </td><td>11_74618701_C_G                   </td><td>ENSG00000166435                   </td><td>1.652164e-52                      </td></tr>\n",
       "</tbody>\n",
       "</table>\n"
      ],
      "text/latex": [
       "\\begin{tabular}{r|llllll}\n",
       "  & eQTL & beta & min\\_emp\\_p\\_value & snp\\_id & feature\\_id & q\\_value\\\\\n",
       "\\hline\n",
       "\t86379614 & 12\\_56435929\\_C\\_G-ENSG00000197728.5  & -0.00670164100380229                     & 4.889872e-59                             & 12\\_56435929\\_C\\_G                    & ENSG00000197728                          & 1.641675e-56                            \\\\\n",
       "\t80070691 & 11\\_74618701\\_C\\_G-ENSG00000166435.11 & 0.101580099762738                        & 1.149770e-54                             & 11\\_74618701\\_C\\_G                    & ENSG00000166435                          & 1.652164e-52                            \\\\\n",
       "\\end{tabular}\n"
      ],
      "text/markdown": [
       "\n",
       "| <!--/--> | eQTL | beta | min_emp_p_value | snp_id | feature_id | q_value |\n",
       "|---|---|---|---|---|---|---|\n",
       "| 86379614 | 12_56435929_C_G-ENSG00000197728.5  | -0.00670164100380229               | 4.889872e-59                       | 12_56435929_C_G                    | ENSG00000197728                    | 1.641675e-56                       |\n",
       "| 80070691 | 11_74618701_C_G-ENSG00000166435.11 | 0.101580099762738                  | 1.149770e-54                       | 11_74618701_C_G                    | ENSG00000166435                    | 1.652164e-52                       |\n",
       "\n"
      ],
      "text/plain": [
       "         eQTL                               beta                \n",
       "86379614 12_56435929_C_G-ENSG00000197728.5  -0.00670164100380229\n",
       "80070691 11_74618701_C_G-ENSG00000166435.11 0.101580099762738   \n",
       "         min_emp_p_value snp_id          feature_id      q_value     \n",
       "86379614 4.889872e-59    12_56435929_C_G ENSG00000197728 1.641675e-56\n",
       "80070691 1.149770e-54    11_74618701_C_G ENSG00000166435 1.652164e-52"
      ]
     },
     "metadata": {},
     "output_type": "display_data"
    }
   ],
   "source": [
    "res3$q_value = qvalue(as.numeric(res3$min_emp_p_value))$qvalues\n",
    "head(res3,2)"
   ]
  },
  {
   "cell_type": "code",
   "execution_count": 83,
   "metadata": {},
   "outputs": [
    {
     "data": {
      "text/html": [
       "11652"
      ],
      "text/latex": [
       "11652"
      ],
      "text/markdown": [
       "11652"
      ],
      "text/plain": [
       "[1] 11652"
      ]
     },
     "metadata": {},
     "output_type": "display_data"
    }
   ],
   "source": [
    "res3$min_emp_p_value = as.numeric(res3$min_emp_p_value)\n",
    "nrow(res3)"
   ]
  },
  {
   "cell_type": "code",
   "execution_count": 92,
   "metadata": {
    "scrolled": true
   },
   "outputs": [
    {
     "data": {
      "image/png": "[encoded data removed]",
      "text/plain": [
       "Plot with title “Histogram of res3$min_emp_p_value”"
      ]
     },
     "metadata": {},
     "output_type": "display_data"
    }
   ],
   "source": [
    "hist(res3$min_emp_p_value)"
   ]
  },
  {
   "cell_type": "code",
   "execution_count": 89,
   "metadata": {},
   "outputs": [
    {
     "data": {
      "text/html": [
       "0.0099748053182829"
      ],
      "text/latex": [
       "0.0099748053182829"
      ],
      "text/markdown": [
       "0.0099748053182829"
      ],
      "text/plain": [
       "[1] 0.009974805"
      ]
     },
     "metadata": {},
     "output_type": "display_data"
    },
    {
     "data": {
      "text/html": [
       "0.336742469154655"
      ],
      "text/latex": [
       "0.336742469154655"
      ],
      "text/markdown": [
       "0.336742469154655"
      ],
      "text/plain": [
       "[1] 0.3367425"
      ]
     },
     "metadata": {},
     "output_type": "display_data"
    }
   ],
   "source": [
    "max_qval = max(res3[res3$q_value < 0.01,'q_value'])\n",
    "max_qval\n",
    "emp_pv_star = max(res3[res3$q_value==max_qval,\"min_emp_p_value\"])\n",
    "emp_pv_star"
   ]
  },
  {
   "cell_type": "code",
   "execution_count": 69,
   "metadata": {},
   "outputs": [],
   "source": [
    "my_folder = \"/hps/nobackup/stegle/users/acuomo/all_scripts/sc_eqtl/results_neuro/\""
   ]
  },
  {
   "cell_type": "code",
   "execution_count": 70,
   "metadata": {},
   "outputs": [],
   "source": [
    "# mean\n",
    "df0 = read.csv(paste0(my_folder,\"mean_top_qtl_results_all.txt\"), sep = \"\\t\")\n",
    "df0 <- df0[-which(duplicated(df0$feature_id)),]"
   ]
  },
  {
   "cell_type": "code",
   "execution_count": 71,
   "metadata": {},
   "outputs": [
    {
     "data": {
      "text/html": [
       "<table>\n",
       "<thead><tr><th scope=col>snp_id</th><th scope=col>p_value</th><th scope=col>beta</th><th scope=col>beta_se</th><th scope=col>empirical_feature_p_value</th><th scope=col>feature_chromosome</th><th scope=col>feature_start</th><th scope=col>feature_end</th><th scope=col>n_samples</th><th scope=col>n_e_samples</th><th scope=col>alpha_param</th><th scope=col>beta_param</th><th scope=col>snp_chromosome</th><th scope=col>snp_position</th><th scope=col>assessed_allele</th><th scope=col>call_rate</th><th scope=col>maf</th><th scope=col>hwe_p</th><th scope=col>feature_id</th></tr></thead>\n",
       "<tbody>\n",
       "\t<tr><td>19_45820238_C_G</td><td>2.870900e-02   </td><td>-0.1511366     </td><td>0.06909228     </td><td>5.659205e-01   </td><td>19             </td><td>45582546       </td><td>45808541       </td><td>635            </td><td>154            </td><td>1.646269       </td><td>11.66498       </td><td>19             </td><td>45820238       </td><td>G              </td><td>1              </td><td>0.2662338      </td><td>0.8373805      </td><td>ENSG00000007047</td></tr>\n",
       "\t<tr><td>19_45675873_T_C</td><td>6.224806e-05   </td><td>-0.2838824     </td><td>0.07089753     </td><td>8.521794e-05   </td><td>19             </td><td>45666186       </td><td>45681495       </td><td>635            </td><td>154            </td><td>1.329119       </td><td>41.02144       </td><td>19             </td><td>45675873       </td><td>C              </td><td>1              </td><td>0.1493506      </td><td>0.2008753      </td><td>ENSG00000007255</td></tr>\n",
       "</tbody>\n",
       "</table>\n"
      ],
      "text/latex": [
       "\\begin{tabular}{r|lllllllllllllllllll}\n",
       " snp\\_id & p\\_value & beta & beta\\_se & empirical\\_feature\\_p\\_value & feature\\_chromosome & feature\\_start & feature\\_end & n\\_samples & n\\_e\\_samples & alpha\\_param & beta\\_param & snp\\_chromosome & snp\\_position & assessed\\_allele & call\\_rate & maf & hwe\\_p & feature\\_id\\\\\n",
       "\\hline\n",
       "\t 19\\_45820238\\_C\\_G & 2.870900e-02          & -0.1511366            & 0.06909228            & 5.659205e-01          & 19                    & 45582546              & 45808541              & 635                   & 154                   & 1.646269              & 11.66498              & 19                    & 45820238              & G                     & 1                     & 0.2662338             & 0.8373805             & ENSG00000007047      \\\\\n",
       "\t 19\\_45675873\\_T\\_C & 6.224806e-05          & -0.2838824            & 0.07089753            & 8.521794e-05          & 19                    & 45666186              & 45681495              & 635                   & 154                   & 1.329119              & 41.02144              & 19                    & 45675873              & C                     & 1                     & 0.1493506             & 0.2008753             & ENSG00000007255      \\\\\n",
       "\\end{tabular}\n"
      ],
      "text/markdown": [
       "\n",
       "| snp_id | p_value | beta | beta_se | empirical_feature_p_value | feature_chromosome | feature_start | feature_end | n_samples | n_e_samples | alpha_param | beta_param | snp_chromosome | snp_position | assessed_allele | call_rate | maf | hwe_p | feature_id |\n",
       "|---|---|---|---|---|---|---|---|---|---|---|---|---|---|---|---|---|---|---|\n",
       "| 19_45820238_C_G | 2.870900e-02    | -0.1511366      | 0.06909228      | 5.659205e-01    | 19              | 45582546        | 45808541        | 635             | 154             | 1.646269        | 11.66498        | 19              | 45820238        | G               | 1               | 0.2662338       | 0.8373805       | ENSG00000007047 |\n",
       "| 19_45675873_T_C | 6.224806e-05    | -0.2838824      | 0.07089753      | 8.521794e-05    | 19              | 45666186        | 45681495        | 635             | 154             | 1.329119        | 41.02144        | 19              | 45675873        | C               | 1               | 0.1493506       | 0.2008753       | ENSG00000007255 |\n",
       "\n"
      ],
      "text/plain": [
       "  snp_id          p_value      beta       beta_se    empirical_feature_p_value\n",
       "1 19_45820238_C_G 2.870900e-02 -0.1511366 0.06909228 5.659205e-01             \n",
       "2 19_45675873_T_C 6.224806e-05 -0.2838824 0.07089753 8.521794e-05             \n",
       "  feature_chromosome feature_start feature_end n_samples n_e_samples\n",
       "1 19                 45582546      45808541    635       154        \n",
       "2 19                 45666186      45681495    635       154        \n",
       "  alpha_param beta_param snp_chromosome snp_position assessed_allele call_rate\n",
       "1 1.646269    11.66498   19             45820238     G               1        \n",
       "2 1.329119    41.02144   19             45675873     C               1        \n",
       "  maf       hwe_p     feature_id     \n",
       "1 0.2662338 0.8373805 ENSG00000007047\n",
       "2 0.1493506 0.2008753 ENSG00000007255"
      ]
     },
     "metadata": {},
     "output_type": "display_data"
    }
   ],
   "source": [
    "head(df0,2)"
   ]
  },
  {
   "cell_type": "code",
   "execution_count": 77,
   "metadata": {},
   "outputs": [
    {
     "data": {
      "text/html": [
       "10598"
      ],
      "text/latex": [
       "10598"
      ],
      "text/markdown": [
       "10598"
      ],
      "text/plain": [
       "[1] 10598"
      ]
     },
     "metadata": {},
     "output_type": "display_data"
    },
    {
     "data": {
      "text/html": [
       "3167"
      ],
      "text/latex": [
       "3167"
      ],
      "text/markdown": [
       "3167"
      ],
      "text/plain": [
       "[1] 3167"
      ]
     },
     "metadata": {},
     "output_type": "display_data"
    }
   ],
   "source": [
    "# mean_genes = unique(df0$feature_id[df0$feature_id %in% G_file$gene])\n",
    "# length(mean_genes)\n",
    "# df1 = df0\n",
    "# df1 = df0[df0$feature_id %in% G_file$gene,]\n",
    "# df1 = df0[df0$feature_id %in% common_genes,]\n",
    "length(unique(df1$feature_id))\n",
    "# df1$BH_fdr = p.adjust(df1$empirical_feature_p_value, method = 'BH')\n",
    "# length(unique(df1[df1$BH_fdr < 0.05,'feature_id']))\n",
    "df1$q_value = qvalue(df1$empirical_feature_p_value)$qvalues\n",
    "length(unique(df1[df1$q_value < 0.05,'feature_id']))\n",
    "\n",
    "df2 = df1[df1$q_value < 0.05,]\n",
    "# nrow(df3)"
   ]
  },
  {
   "cell_type": "code",
   "execution_count": 78,
   "metadata": {},
   "outputs": [
    {
     "name": "stderr",
     "output_type": "stream",
     "text": [
      "Warning message:\n",
      "“Column `snp_id` joining factor and character vector, coercing into character vector”Warning message:\n",
      "“Column `feature_id` joining factor and character vector, coercing into character vector”"
     ]
    },
    {
     "data": {
      "text/html": [
       "<ol class=list-inline>\n",
       "\t<li>193</li>\n",
       "\t<li>2832</li>\n",
       "\t<li>0.0681497175141243</li>\n",
       "</ol>\n"
      ],
      "text/latex": [
       "\\begin{enumerate*}\n",
       "\\item 193\n",
       "\\item 2832\n",
       "\\item 0.0681497175141243\n",
       "\\end{enumerate*}\n"
      ],
      "text/markdown": [
       "1. 193\n",
       "2. 2832\n",
       "3. 0.0681497175141243\n",
       "\n",
       "\n"
      ],
      "text/plain": [
       "[1] 1.930000e+02 2.832000e+03 6.814972e-02"
      ]
     },
     "metadata": {},
     "output_type": "display_data"
    }
   ],
   "source": [
    "df4 = inner_join(df2, res2, by = c(\"snp_id\",\"feature_id\"), suffix = c(\".sc\",\".bulk\"))\n",
    "# head(df4)\n",
    "df4$beta.sc = as.numeric(df4$beta.sc)\n",
    "df4$beta.bulk = as.numeric(df4$beta.bulk)\n",
    "c(nrow(df4[(df4$min_emp_p_value < emp_pv_star & \n",
    "         (df4$beta.sc*df4$beta.bulk)>0),]),\n",
    "  nrow(df4),\n",
    "  nrow(df4[(df4$min_emp_p_value < emp_pv_star & \n",
    "         (df4$beta.sc*df4$beta.bulk)>0),])/nrow(df4))"
   ]
  },
  {
   "cell_type": "code",
   "execution_count": null,
   "metadata": {},
   "outputs": [],
   "source": []
  },
  {
   "cell_type": "code",
   "execution_count": 61,
   "metadata": {},
   "outputs": [],
   "source": [
    "# total mean\n",
    "df0 = read.csv(paste0(my_folder,\"totmean_top_qtl_results_all.txt\"), sep = \"\\t\")\n",
    "df0 <- df0[-which(duplicated(df0$feature_id)),]"
   ]
  },
  {
   "cell_type": "code",
   "execution_count": 62,
   "metadata": {},
   "outputs": [
    {
     "data": {
      "text/html": [
       "10598"
      ],
      "text/latex": [
       "10598"
      ],
      "text/markdown": [
       "10598"
      ],
      "text/plain": [
       "[1] 10598"
      ]
     },
     "metadata": {},
     "output_type": "display_data"
    },
    {
     "data": {
      "text/html": [
       "10598"
      ],
      "text/latex": [
       "10598"
      ],
      "text/markdown": [
       "10598"
      ],
      "text/plain": [
       "[1] 10598"
      ]
     },
     "metadata": {},
     "output_type": "display_data"
    },
    {
     "data": {
      "text/html": [
       "2108"
      ],
      "text/latex": [
       "2108"
      ],
      "text/markdown": [
       "2108"
      ],
      "text/plain": [
       "[1] 2108"
      ]
     },
     "metadata": {},
     "output_type": "display_data"
    },
    {
     "data": {
      "text/html": [
       "2660"
      ],
      "text/latex": [
       "2660"
      ],
      "text/markdown": [
       "2660"
      ],
      "text/plain": [
       "[1] 2660"
      ]
     },
     "metadata": {},
     "output_type": "display_data"
    }
   ],
   "source": [
    "totmean_genes = unique(df0$feature_id[df0$feature_id %in% G_file$gene])\n",
    "length(totmean_genes)\n",
    "# df1 = df0\n",
    "# df1 = df0[df0$feature_id %in% G_file$gene,]\n",
    "df1 = df0[df0$feature_id %in% common_genes,]\n",
    "length(unique(df1$feature_id))\n",
    "df1$BH_fdr = p.adjust(df1$empirical_feature_p_value, method = 'BH')\n",
    "length(unique(df1[df1$BH_fdr < 0.05,'feature_id']))\n",
    "df1$q_value = qvalue(df1$empirical_feature_p_value)$qvalues\n",
    "length(unique(df1[df1$q_value < 0.05,'feature_id']))\n",
    "\n",
    "# df3 = df1[df1$q_value < 0.05,]\n",
    "# nrow(df3)"
   ]
  },
  {
   "cell_type": "code",
   "execution_count": 63,
   "metadata": {},
   "outputs": [],
   "source": [
    "# median\n",
    "df0 = read.csv(paste0(my_folder,\"median_top_qtl_results_all.txt\"), sep = \"\\t\")\n",
    "df0 <- df0[-which(duplicated(df0$feature_id)),]"
   ]
  },
  {
   "cell_type": "code",
   "execution_count": 64,
   "metadata": {},
   "outputs": [
    {
     "data": {
      "text/html": [
       "5224"
      ],
      "text/latex": [
       "5224"
      ],
      "text/markdown": [
       "5224"
      ],
      "text/plain": [
       "[1] 5224"
      ]
     },
     "metadata": {},
     "output_type": "display_data"
    },
    {
     "data": {
      "text/html": [
       "5224"
      ],
      "text/latex": [
       "5224"
      ],
      "text/markdown": [
       "5224"
      ],
      "text/plain": [
       "[1] 5224"
      ]
     },
     "metadata": {},
     "output_type": "display_data"
    },
    {
     "data": {
      "text/html": [
       "1919"
      ],
      "text/latex": [
       "1919"
      ],
      "text/markdown": [
       "1919"
      ],
      "text/plain": [
       "[1] 1919"
      ]
     },
     "metadata": {},
     "output_type": "display_data"
    },
    {
     "data": {
      "text/html": [
       "1919"
      ],
      "text/latex": [
       "1919"
      ],
      "text/markdown": [
       "1919"
      ],
      "text/plain": [
       "[1] 1919"
      ]
     },
     "metadata": {},
     "output_type": "display_data"
    }
   ],
   "source": [
    "median_genes = unique(df0$feature_id[df0$feature_id %in% G_file$gene])\n",
    "length(median_genes)\n",
    "# df1 = df0\n",
    "# df1 = df0[df0$feature_id %in% G_file$gene,]\n",
    "df1 = df0[df0$feature_id %in% common_genes,]\n",
    "length(unique(df1$feature_id))\n",
    "df1$BH_fdr = p.adjust(df1$empirical_feature_p_value, method = 'BH')\n",
    "length(unique(df1[df1$BH_fdr < 0.05,'feature_id']))\n",
    "df1$q_value = qvalue(df1$empirical_feature_p_value)$qvalues\n",
    "length(unique(df1[df1$q_value < 0.05,'feature_id']))\n",
    "\n",
    "# df3 = df1[df1$q_value < 0.05,]\n",
    "# nrow(df3)"
   ]
  },
  {
   "cell_type": "code",
   "execution_count": 65,
   "metadata": {},
   "outputs": [],
   "source": [
    "# total median\n",
    "myfolder = \"/hps/nobackup/hipsci/scratch/ComparingQtlMapping/SingleCell/PseudoBulk/totmedian/Run_Output_PCA20_88_log_TPM_scater_libsize_206_neuro/\"\n",
    "df0 = read.csv(paste0(myfolder,\"top_qtl_results_all.txt\"), sep = \"\\t\")\n",
    "df0 <- df0[-which(duplicated(df0$feature_id)),]"
   ]
  },
  {
   "cell_type": "code",
   "execution_count": 66,
   "metadata": {},
   "outputs": [
    {
     "data": {
      "text/html": [
       "3448"
      ],
      "text/latex": [
       "3448"
      ],
      "text/markdown": [
       "3448"
      ],
      "text/plain": [
       "[1] 3448"
      ]
     },
     "metadata": {},
     "output_type": "display_data"
    },
    {
     "data": {
      "text/html": [
       "3448"
      ],
      "text/latex": [
       "3448"
      ],
      "text/markdown": [
       "3448"
      ],
      "text/plain": [
       "[1] 3448"
      ]
     },
     "metadata": {},
     "output_type": "display_data"
    },
    {
     "data": {
      "text/html": [
       "399"
      ],
      "text/latex": [
       "399"
      ],
      "text/markdown": [
       "399"
      ],
      "text/plain": [
       "[1] 399"
      ]
     },
     "metadata": {},
     "output_type": "display_data"
    },
    {
     "data": {
      "text/html": [
       "441"
      ],
      "text/latex": [
       "441"
      ],
      "text/markdown": [
       "441"
      ],
      "text/plain": [
       "[1] 441"
      ]
     },
     "metadata": {},
     "output_type": "display_data"
    }
   ],
   "source": [
    "totmedian_genes = unique(df0$feature_id[df0$feature_id %in% G_file$gene])\n",
    "length(totmedian_genes)\n",
    "# df1 = df0\n",
    "# df1 = df0[df0$feature_id %in% G_file$gene,]\n",
    "df1 = df0[df0$feature_id %in% common_genes,]\n",
    "length(unique(df1$feature_id))\n",
    "df1$BH_fdr = p.adjust(df1$empirical_feature_p_value, method = 'BH')\n",
    "length(unique(df1[df1$BH_fdr < 0.05,'feature_id']))\n",
    "df1$q_value = qvalue(df1$empirical_feature_p_value)$qvalues\n",
    "length(unique(df1[df1$q_value < 0.05,'feature_id']))\n",
    "\n",
    "# df3 = df1[df1$q_value < 0.05,]\n",
    "# nrow(df3)"
   ]
  },
  {
   "cell_type": "code",
   "execution_count": 67,
   "metadata": {},
   "outputs": [],
   "source": [
    "# sum\n",
    "df0 = read.csv(paste0(my_folder,\"sum_top_qtl_results_all.txt\"), sep = \"\\t\")\n",
    "df0 <- df0[-which(duplicated(df0$feature_id)),]"
   ]
  },
  {
   "cell_type": "code",
   "execution_count": 68,
   "metadata": {},
   "outputs": [
    {
     "data": {
      "text/html": [
       "10598"
      ],
      "text/latex": [
       "10598"
      ],
      "text/markdown": [
       "10598"
      ],
      "text/plain": [
       "[1] 10598"
      ]
     },
     "metadata": {},
     "output_type": "display_data"
    },
    {
     "data": {
      "text/html": [
       "10598"
      ],
      "text/latex": [
       "10598"
      ],
      "text/markdown": [
       "10598"
      ],
      "text/plain": [
       "[1] 10598"
      ]
     },
     "metadata": {},
     "output_type": "display_data"
    },
    {
     "data": {
      "text/html": [
       "2369"
      ],
      "text/latex": [
       "2369"
      ],
      "text/markdown": [
       "2369"
      ],
      "text/plain": [
       "[1] 2369"
      ]
     },
     "metadata": {},
     "output_type": "display_data"
    },
    {
     "data": {
      "text/html": [
       "2516"
      ],
      "text/latex": [
       "2516"
      ],
      "text/markdown": [
       "2516"
      ],
      "text/plain": [
       "[1] 2516"
      ]
     },
     "metadata": {},
     "output_type": "display_data"
    }
   ],
   "source": [
    "sum_genes = unique(df0$feature_id[df0$feature_id %in% G_file$gene])\n",
    "length(sum_genes)\n",
    "# df1 = df0\n",
    "# df1 = df0[df0$feature_id %in% G_file$gene,]\n",
    "df1 = df0[df0$feature_id %in% common_genes,]\n",
    "length(unique(df1$feature_id))\n",
    "df1$BH_fdr = p.adjust(df1$empirical_feature_p_value, method = 'BH')\n",
    "length(unique(df1[df1$BH_fdr < 0.05,'feature_id']))\n",
    "df1$q_value = qvalue(df1$empirical_feature_p_value)$qvalues\n",
    "length(unique(df1[df1$q_value < 0.05,'feature_id']))\n",
    "\n",
    "# df3 = df1[df1$q_value < 0.05,]\n",
    "# nrow(df3)"
   ]
  },
  {
   "cell_type": "code",
   "execution_count": 69,
   "metadata": {},
   "outputs": [],
   "source": [
    "# total sum\n",
    "df0 = read.csv(paste0(my_folder,\"totsum_top_qtl_results_all.txt\"), sep = \"\\t\")\n",
    "df0 <- df0[-which(duplicated(df0$feature_id)),]"
   ]
  },
  {
   "cell_type": "code",
   "execution_count": 70,
   "metadata": {},
   "outputs": [
    {
     "data": {
      "text/html": [
       "10598"
      ],
      "text/latex": [
       "10598"
      ],
      "text/markdown": [
       "10598"
      ],
      "text/plain": [
       "[1] 10598"
      ]
     },
     "metadata": {},
     "output_type": "display_data"
    },
    {
     "data": {
      "text/html": [
       "10598"
      ],
      "text/latex": [
       "10598"
      ],
      "text/markdown": [
       "10598"
      ],
      "text/plain": [
       "[1] 10598"
      ]
     },
     "metadata": {},
     "output_type": "display_data"
    },
    {
     "data": {
      "text/html": [
       "1566"
      ],
      "text/latex": [
       "1566"
      ],
      "text/markdown": [
       "1566"
      ],
      "text/plain": [
       "[1] 1566"
      ]
     },
     "metadata": {},
     "output_type": "display_data"
    },
    {
     "data": {
      "text/html": [
       "1939"
      ],
      "text/latex": [
       "1939"
      ],
      "text/markdown": [
       "1939"
      ],
      "text/plain": [
       "[1] 1939"
      ]
     },
     "metadata": {},
     "output_type": "display_data"
    }
   ],
   "source": [
    "totsum_genes = unique(df0$feature_id[df0$feature_id %in% G_file$gene])\n",
    "length(totsum_genes)\n",
    "# df1 = df0\n",
    "# df1 = df0[df0$feature_id %in% G_file$gene,]\n",
    "df1 = df0[df0$feature_id %in% common_genes,]\n",
    "length(unique(df1$feature_id))\n",
    "df1$BH_fdr = p.adjust(df1$empirical_feature_p_value, method = 'BH')\n",
    "length(unique(df1[df1$BH_fdr < 0.05,'feature_id']))\n",
    "df1$q_value = qvalue(df1$empirical_feature_p_value)$qvalues\n",
    "length(unique(df1[df1$q_value < 0.05,'feature_id']))\n",
    "\n",
    "# df3 = df1[df1$q_value < 0.05,]\n",
    "# nrow(df3)"
   ]
  },
  {
   "cell_type": "code",
   "execution_count": null,
   "metadata": {},
   "outputs": [],
   "source": []
  },
  {
   "cell_type": "code",
   "execution_count": 54,
   "metadata": {},
   "outputs": [
    {
     "data": {
      "text/html": [
       "10598"
      ],
      "text/latex": [
       "10598"
      ],
      "text/markdown": [
       "10598"
      ],
      "text/plain": [
       "[1] 10598"
      ]
     },
     "metadata": {},
     "output_type": "display_data"
    },
    {
     "data": {
      "text/html": [
       "10598"
      ],
      "text/latex": [
       "10598"
      ],
      "text/markdown": [
       "10598"
      ],
      "text/plain": [
       "[1] 10598"
      ]
     },
     "metadata": {},
     "output_type": "display_data"
    },
    {
     "data": {
      "text/html": [
       "10598"
      ],
      "text/latex": [
       "10598"
      ],
      "text/markdown": [
       "10598"
      ],
      "text/plain": [
       "[1] 10598"
      ]
     },
     "metadata": {},
     "output_type": "display_data"
    },
    {
     "data": {
      "text/html": [
       "5224"
      ],
      "text/latex": [
       "5224"
      ],
      "text/markdown": [
       "5224"
      ],
      "text/plain": [
       "[1] 5224"
      ]
     },
     "metadata": {},
     "output_type": "display_data"
    },
    {
     "data": {
      "text/html": [
       "3390"
      ],
      "text/latex": [
       "3390"
      ],
      "text/markdown": [
       "3390"
      ],
      "text/plain": [
       "[1] 3390"
      ]
     },
     "metadata": {},
     "output_type": "display_data"
    }
   ],
   "source": [
    "genes0 = mean_genes[mean_genes %in% totmean_genes]\n",
    "length(genes0)\n",
    "genes1 = genes0[genes0 %in% sum_genes]\n",
    "length(genes1)\n",
    "genes2 = genes1[genes1 %in% totsum_genes]\n",
    "length(genes2)\n",
    "common_genes = genes2\n",
    "genes3 = genes2[genes2 %in% median_genes]\n",
    "length(genes3)\n",
    "genes4 = genes3[genes3 %in% totmedian_genes]\n",
    "length(genes4)\n",
    "# common_genes = genes4"
   ]
  },
  {
   "cell_type": "code",
   "execution_count": null,
   "metadata": {},
   "outputs": [],
   "source": []
  },
  {
   "cell_type": "code",
   "execution_count": null,
   "metadata": {},
   "outputs": [],
   "source": []
  }
 ],
 "metadata": {
  "kernelspec": {
   "display_name": "R",
   "language": "R",
   "name": "ir"
  },
  "language_info": {
   "codemirror_mode": "r",
   "file_extension": ".r",
   "mimetype": "text/x-r-source",
   "name": "R",
   "pygments_lexer": "r",
   "version": "3.6.1"
  }
 },
 "nbformat": 4,
 "nbformat_minor": 4
}
