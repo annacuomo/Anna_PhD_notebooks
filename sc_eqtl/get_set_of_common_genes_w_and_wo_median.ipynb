{
 "cells": [
  {
   "cell_type": "code",
   "execution_count": 24,
   "metadata": {},
   "outputs": [],
   "source": [
    "library(qvalue)\n",
    "library(dplyr)\n",
    "library(ggplot2)"
   ]
  },
  {
   "cell_type": "code",
   "execution_count": 25,
   "metadata": {},
   "outputs": [
    {
     "data": {
      "text/html": [
       "21592"
      ],
      "text/latex": [
       "21592"
      ],
      "text/markdown": [
       "21592"
      ],
      "text/plain": [
       "[1] 21592"
      ]
     },
     "metadata": {},
     "output_type": "display_data"
    },
    {
     "data": {
      "text/html": [
       "<table>\n",
       "<thead><tr><th></th><th scope=col>gene</th><th scope=col>mean</th><th scope=col>std</th><th scope=col>CV</th><th scope=col>quartile_cv</th></tr></thead>\n",
       "<tbody>\n",
       "\t<tr><th scope=row>2</th><td>ENSG00000227232</td><td>3.1805905      </td><td>3.6232403      </td><td>1.139172       </td><td>2              </td></tr>\n",
       "\t<tr><th scope=row>3</th><td>ENSG00000243485</td><td>0.2003178      </td><td>0.8649483      </td><td>4.317881       </td><td>3              </td></tr>\n",
       "</tbody>\n",
       "</table>\n"
      ],
      "text/latex": [
       "\\begin{tabular}{r|lllll}\n",
       "  & gene & mean & std & CV & quartile\\_cv\\\\\n",
       "\\hline\n",
       "\t2 & ENSG00000227232 & 3.1805905       & 3.6232403       & 1.139172        & 2              \\\\\n",
       "\t3 & ENSG00000243485 & 0.2003178       & 0.8649483       & 4.317881        & 3              \\\\\n",
       "\\end{tabular}\n"
      ],
      "text/markdown": [
       "\n",
       "| <!--/--> | gene | mean | std | CV | quartile_cv |\n",
       "|---|---|---|---|---|---|\n",
       "| 2 | ENSG00000227232 | 3.1805905       | 3.6232403       | 1.139172        | 2               |\n",
       "| 3 | ENSG00000243485 | 0.2003178       | 0.8649483       | 4.317881        | 3               |\n",
       "\n"
      ],
      "text/plain": [
       "  gene            mean      std       CV       quartile_cv\n",
       "2 ENSG00000227232 3.1805905 3.6232403 1.139172 2          \n",
       "3 ENSG00000243485 0.2003178 0.8649483 4.317881 3          "
      ]
     },
     "metadata": {},
     "output_type": "display_data"
    }
   ],
   "source": [
    "Giordanos_selection = \"/hps/nobackup/stegle/users/galvari/data/iPSCs/singleCell/metadata/ensembl_gene/Ensembl_75_Gene_CV_quant5.txt\"\n",
    "G_file = read.csv(Giordanos_selection, sep = \"\\t\")\n",
    "nrow(G_file)\n",
    "head(G_file,2)"
   ]
  },
  {
   "cell_type": "code",
   "execution_count": 26,
   "metadata": {},
   "outputs": [],
   "source": [
    "##### m-bulk"
   ]
  },
  {
   "cell_type": "code",
   "execution_count": 27,
   "metadata": {
    "scrolled": true
   },
   "outputs": [
    {
     "data": {
      "text/html": [
       "43103"
      ],
      "text/latex": [
       "43103"
      ],
      "text/markdown": [
       "43103"
      ],
      "text/plain": [
       "[1] 43103"
      ]
     },
     "metadata": {},
     "output_type": "display_data"
    }
   ],
   "source": [
    "bulk_matched_folder = \"/hps/nobackup/hipsci/scratch/ComparingQtlMapping/Bulk/BulkDay0Healthy_PCA20_88_206/\"\n",
    "leads = read.csv(paste0(bulk_matched_folder,\"top_qtl_results_all.txt\"), sep = \"\\t\")\n",
    "nrow(leads)"
   ]
  },
  {
   "cell_type": "code",
   "execution_count": 28,
   "metadata": {},
   "outputs": [
    {
     "data": {
      "text/html": [
       "42791"
      ],
      "text/latex": [
       "42791"
      ],
      "text/markdown": [
       "42791"
      ],
      "text/plain": [
       "[1] 42791"
      ]
     },
     "metadata": {},
     "output_type": "display_data"
    }
   ],
   "source": [
    "df = leads\n",
    "df <- df[-which(duplicated(df$feature_id)),]\n",
    "m_bulk_genes = unique(df$feature_id)\n",
    "length(m_bulk_genes)"
   ]
  },
  {
   "cell_type": "code",
   "execution_count": 29,
   "metadata": {},
   "outputs": [],
   "source": [
    "##### a-bulk"
   ]
  },
  {
   "cell_type": "code",
   "execution_count": 30,
   "metadata": {},
   "outputs": [
    {
     "data": {
      "text/html": [
       "49916"
      ],
      "text/latex": [
       "49916"
      ],
      "text/markdown": [
       "49916"
      ],
      "text/plain": [
       "[1] 49916"
      ]
     },
     "metadata": {},
     "output_type": "display_data"
    }
   ],
   "source": [
    "bulk_folder = \"/hps/nobackup/hipsci/scratch/ComparingQtlMapping/Bulk/BulkTotal_PCA20/\"\n",
    "leads_all = read.csv(paste0(bulk_folder,\"top_qtl_results_all.txt\"), sep = \"\\t\")\n",
    "nrow(leads_all)"
   ]
  },
  {
   "cell_type": "code",
   "execution_count": 31,
   "metadata": {},
   "outputs": [
    {
     "data": {
      "text/html": [
       "49554"
      ],
      "text/latex": [
       "49554"
      ],
      "text/markdown": [
       "49554"
      ],
      "text/plain": [
       "[1] 49554"
      ]
     },
     "metadata": {},
     "output_type": "display_data"
    }
   ],
   "source": [
    "df = leads_all\n",
    "df <- df[-which(duplicated(df$feature_id)),]\n",
    "a_bulk_genes = unique(df$feature_id)\n",
    "length(a_bulk_genes)"
   ]
  },
  {
   "cell_type": "code",
   "execution_count": 32,
   "metadata": {},
   "outputs": [],
   "source": [
    "##### Mean"
   ]
  },
  {
   "cell_type": "code",
   "execution_count": 33,
   "metadata": {},
   "outputs": [],
   "source": [
    "mean_folder = \"/hps/nobackup/hipsci/scratch/ComparingQtlMapping/SingleCell/PseudoBulk/mean/\"\n",
    "my_folder = paste0(mean_folder,\"Run_Output_PCA20_88_log_TPM_scater_libsize_206/\") # scran, 20PCs"
   ]
  },
  {
   "cell_type": "code",
   "execution_count": 34,
   "metadata": {},
   "outputs": [
    {
     "data": {
      "text/html": [
       "50425"
      ],
      "text/latex": [
       "50425"
      ],
      "text/markdown": [
       "50425"
      ],
      "text/plain": [
       "[1] 50425"
      ]
     },
     "metadata": {},
     "output_type": "display_data"
    }
   ],
   "source": [
    "df = read.csv(paste0(my_folder,\"top_qtl_results_all.txt\"), sep = \"\\t\")\n",
    "mean_genes = unique(df$feature_id)\n",
    "length(mean_genes)"
   ]
  },
  {
   "cell_type": "code",
   "execution_count": 35,
   "metadata": {},
   "outputs": [],
   "source": [
    "##### Total Mean"
   ]
  },
  {
   "cell_type": "code",
   "execution_count": 36,
   "metadata": {},
   "outputs": [],
   "source": [
    "total_mean_folder = \"/hps/nobackup/hipsci/scratch/ComparingQtlMapping/SingleCell/PseudoBulk/totmean/\"\n",
    "my_folder = paste0(total_mean_folder,\"Run_Output_PCA20_88_log_TPM_scater_libsize_206/\") # scran, 20PCs"
   ]
  },
  {
   "cell_type": "code",
   "execution_count": 37,
   "metadata": {},
   "outputs": [
    {
     "data": {
      "text/html": [
       "50429"
      ],
      "text/latex": [
       "50429"
      ],
      "text/markdown": [
       "50429"
      ],
      "text/plain": [
       "[1] 50429"
      ]
     },
     "metadata": {},
     "output_type": "display_data"
    }
   ],
   "source": [
    "df = read.csv(paste0(my_folder,\"top_qtl_results_all.txt\"), sep = \"\\t\")\n",
    "totmean_genes = unique(df$feature_id)\n",
    "length(totmean_genes)"
   ]
  },
  {
   "cell_type": "code",
   "execution_count": 38,
   "metadata": {},
   "outputs": [],
   "source": [
    "##### Sum"
   ]
  },
  {
   "cell_type": "code",
   "execution_count": 39,
   "metadata": {},
   "outputs": [],
   "source": [
    "sum_folder = \"/hps/nobackup/hipsci/scratch/ComparingQtlMapping/SingleCell/PseudoBulk/sum/\"\n",
    "my_folder = paste0(sum_folder,\"Run_Output_PCA20_88_log_TPM_edgeR_libsize_206/\") # edgeR, 20PCs"
   ]
  },
  {
   "cell_type": "code",
   "execution_count": 40,
   "metadata": {},
   "outputs": [
    {
     "data": {
      "text/html": [
       "50427"
      ],
      "text/latex": [
       "50427"
      ],
      "text/markdown": [
       "50427"
      ],
      "text/plain": [
       "[1] 50427"
      ]
     },
     "metadata": {},
     "output_type": "display_data"
    }
   ],
   "source": [
    "df = read.csv(paste0(my_folder,\"top_qtl_results_all.txt\"), sep = \"\\t\")\n",
    "sum_genes = unique(df$feature_id)\n",
    "length(sum_genes)"
   ]
  },
  {
   "cell_type": "code",
   "execution_count": null,
   "metadata": {},
   "outputs": [],
   "source": []
  },
  {
   "cell_type": "code",
   "execution_count": 41,
   "metadata": {},
   "outputs": [],
   "source": [
    "##### Total Sum"
   ]
  },
  {
   "cell_type": "code",
   "execution_count": 42,
   "metadata": {},
   "outputs": [
    {
     "data": {
      "text/html": [
       "<table>\n",
       "<thead><tr><th></th><th scope=col>feature_id</th><th scope=col>snp_id</th><th scope=col>p_value</th><th scope=col>beta</th><th scope=col>beta_se</th><th scope=col>empirical_feature_p_value</th><th scope=col>feature_chromosome</th><th scope=col>feature_start</th><th scope=col>feature_end</th><th scope=col>n_samples</th><th scope=col>n_e_samples</th><th scope=col>alpha_param</th><th scope=col>beta_param</th><th scope=col>snp_chromosome</th><th scope=col>snp_position</th><th scope=col>assessed_allele</th><th scope=col>call_rate</th><th scope=col>maf</th><th scope=col>hwe_p</th></tr></thead>\n",
       "<tbody>\n",
       "\t<tr><th scope=row>1955841</th><td>ENSG00000203875</td><td>6_86387888_G_T </td><td>1.514293e-27   </td><td> 1.010238      </td><td>0.09289432     </td><td>6.375394e-24   </td><td> 6             </td><td>86370710       </td><td>86388451       </td><td>87             </td><td>87             </td><td>0.7886659      </td><td>17.12808       </td><td> 6             </td><td>86387888       </td><td>T              </td><td>1              </td><td>0.4655172      </td><td>0.6673797      </td></tr>\n",
       "\t<tr><th scope=row>6927785</th><td>ENSG00000204650</td><td>17_43679121_G_A</td><td>9.296484e-23   </td><td>-1.201981      </td><td>0.12240973     </td><td>2.026242e-20   </td><td>17             </td><td>43697694       </td><td>43725582       </td><td>87             </td><td>87             </td><td>0.7567724      </td><td>29.08926       </td><td>17             </td><td>43679121       </td><td>A              </td><td>1              </td><td>0.2701149      </td><td>0.1020851      </td></tr>\n",
       "</tbody>\n",
       "</table>\n"
      ],
      "text/latex": [
       "\\begin{tabular}{r|lllllllllllllllllll}\n",
       "  & feature\\_id & snp\\_id & p\\_value & beta & beta\\_se & empirical\\_feature\\_p\\_value & feature\\_chromosome & feature\\_start & feature\\_end & n\\_samples & n\\_e\\_samples & alpha\\_param & beta\\_param & snp\\_chromosome & snp\\_position & assessed\\_allele & call\\_rate & maf & hwe\\_p\\\\\n",
       "\\hline\n",
       "\t1955841 & ENSG00000203875       & 6\\_86387888\\_G\\_T  & 1.514293e-27          &  1.010238             & 0.09289432            & 6.375394e-24          &  6                    & 86370710              & 86388451              & 87                    & 87                    & 0.7886659             & 17.12808              &  6                    & 86387888              & T                     & 1                     & 0.4655172             & 0.6673797            \\\\\n",
       "\t6927785 & ENSG00000204650       & 17\\_43679121\\_G\\_A & 9.296484e-23          & -1.201981             & 0.12240973            & 2.026242e-20          & 17                    & 43697694              & 43725582              & 87                    & 87                    & 0.7567724             & 29.08926              & 17                    & 43679121              & A                     & 1                     & 0.2701149             & 0.1020851            \\\\\n",
       "\\end{tabular}\n"
      ],
      "text/markdown": [
       "\n",
       "| <!--/--> | feature_id | snp_id | p_value | beta | beta_se | empirical_feature_p_value | feature_chromosome | feature_start | feature_end | n_samples | n_e_samples | alpha_param | beta_param | snp_chromosome | snp_position | assessed_allele | call_rate | maf | hwe_p |\n",
       "|---|---|---|---|---|---|---|---|---|---|---|---|---|---|---|---|---|---|---|---|\n",
       "| 1955841 | ENSG00000203875 | 6_86387888_G_T  | 1.514293e-27    |  1.010238       | 0.09289432      | 6.375394e-24    |  6              | 86370710        | 86388451        | 87              | 87              | 0.7886659       | 17.12808        |  6              | 86387888        | T               | 1               | 0.4655172       | 0.6673797       |\n",
       "| 6927785 | ENSG00000204650 | 17_43679121_G_A | 9.296484e-23    | -1.201981       | 0.12240973      | 2.026242e-20    | 17              | 43697694        | 43725582        | 87              | 87              | 0.7567724       | 29.08926        | 17              | 43679121        | A               | 1               | 0.2701149       | 0.1020851       |\n",
       "\n"
      ],
      "text/plain": [
       "        feature_id      snp_id          p_value      beta      beta_se   \n",
       "1955841 ENSG00000203875 6_86387888_G_T  1.514293e-27  1.010238 0.09289432\n",
       "6927785 ENSG00000204650 17_43679121_G_A 9.296484e-23 -1.201981 0.12240973\n",
       "        empirical_feature_p_value feature_chromosome feature_start feature_end\n",
       "1955841 6.375394e-24               6                 86370710      86388451   \n",
       "6927785 2.026242e-20              17                 43697694      43725582   \n",
       "        n_samples n_e_samples alpha_param beta_param snp_chromosome\n",
       "1955841 87        87          0.7886659   17.12808    6            \n",
       "6927785 87        87          0.7567724   29.08926   17            \n",
       "        snp_position assessed_allele call_rate maf       hwe_p    \n",
       "1955841 86387888     T               1         0.4655172 0.6673797\n",
       "6927785 43679121     A               1         0.2701149 0.1020851"
      ]
     },
     "metadata": {},
     "output_type": "display_data"
    }
   ],
   "source": [
    "df = read.csv(\"/hps/nobackup/stegle/users/acuomo/all_scripts/sc_eqtl/top_qtl_results_totsum.txt\", sep = ' ')\n",
    "head(df,2)"
   ]
  },
  {
   "cell_type": "code",
   "execution_count": 43,
   "metadata": {},
   "outputs": [
    {
     "data": {
      "text/html": [
       "50429"
      ],
      "text/latex": [
       "50429"
      ],
      "text/markdown": [
       "50429"
      ],
      "text/plain": [
       "[1] 50429"
      ]
     },
     "metadata": {},
     "output_type": "display_data"
    }
   ],
   "source": [
    "totsum_genes = unique(df$feature_id)\n",
    "length(totsum_genes)"
   ]
  },
  {
   "cell_type": "code",
   "execution_count": null,
   "metadata": {},
   "outputs": [],
   "source": []
  },
  {
   "cell_type": "code",
   "execution_count": 44,
   "metadata": {},
   "outputs": [
    {
     "data": {
      "text/html": [
       "41682"
      ],
      "text/latex": [
       "41682"
      ],
      "text/markdown": [
       "41682"
      ],
      "text/plain": [
       "[1] 41682"
      ]
     },
     "metadata": {},
     "output_type": "display_data"
    },
    {
     "data": {
      "text/html": [
       "41682"
      ],
      "text/latex": [
       "41682"
      ],
      "text/markdown": [
       "41682"
      ],
      "text/plain": [
       "[1] 41682"
      ]
     },
     "metadata": {},
     "output_type": "display_data"
    },
    {
     "data": {
      "text/html": [
       "41676"
      ],
      "text/latex": [
       "41676"
      ],
      "text/markdown": [
       "41676"
      ],
      "text/plain": [
       "[1] 41676"
      ]
     },
     "metadata": {},
     "output_type": "display_data"
    },
    {
     "data": {
      "text/html": [
       "41676"
      ],
      "text/latex": [
       "41676"
      ],
      "text/markdown": [
       "41676"
      ],
      "text/plain": [
       "[1] 41676"
      ]
     },
     "metadata": {},
     "output_type": "display_data"
    }
   ],
   "source": [
    "genes0 = unique(mean_genes[mean_genes %in% m_bulk_genes])\n",
    "length(genes0)\n",
    "genes1 = unique(genes0[genes0 %in% totmean_genes])\n",
    "length(genes1)\n",
    "genes2 = unique(genes1[genes1 %in% sum_genes])\n",
    "length(genes2)\n",
    "genes3 = unique(genes2[genes2 %in% totsum_genes])\n",
    "length(genes3)"
   ]
  },
  {
   "cell_type": "code",
   "execution_count": 22,
   "metadata": {},
   "outputs": [],
   "source": [
    "write.csv(data.frame(genes = genes3), \"/hps/nobackup/stegle/users/acuomo/all_scripts/sc_eqtl/common_genes_across_all_aggregation_methods_and_bulk_except_median.csv\")"
   ]
  },
  {
   "cell_type": "code",
   "execution_count": 23,
   "metadata": {},
   "outputs": [
    {
     "data": {
      "text/html": [
       "20335"
      ],
      "text/latex": [
       "20335"
      ],
      "text/markdown": [
       "20335"
      ],
      "text/plain": [
       "[1] 20335"
      ]
     },
     "metadata": {},
     "output_type": "display_data"
    }
   ],
   "source": [
    "common_genes = unique(genes3[genes3 %in% G_file$gene])\n",
    "length(common_genes)"
   ]
  },
  {
   "cell_type": "code",
   "execution_count": 24,
   "metadata": {},
   "outputs": [],
   "source": [
    "write.csv(data.frame(genes = common_genes), \"/hps/nobackup/stegle/users/acuomo/all_scripts/sc_eqtl/common_genes_across_all_aggregation_methods_and_bulk_except_median_Giordanos_selection.csv\")"
   ]
  },
  {
   "cell_type": "code",
   "execution_count": null,
   "metadata": {},
   "outputs": [],
   "source": []
  },
  {
   "cell_type": "code",
   "execution_count": 19,
   "metadata": {},
   "outputs": [],
   "source": [
    "filename = \"/hps/nobackup/hipsci/scratch/ComparingQtlMapping/SingleCell/PseudoBulk/median/Run_Output_PCA20_88_log_TPM_scater_libsize_206/top_qtl_results_all.txt\"\n",
    "drmedian = read.csv(filename, sep = \"\\t\")"
   ]
  },
  {
   "cell_type": "code",
   "execution_count": 20,
   "metadata": {},
   "outputs": [
    {
     "data": {
      "text/html": [
       "13628"
      ],
      "text/latex": [
       "13628"
      ],
      "text/markdown": [
       "13628"
      ],
      "text/plain": [
       "[1] 13628"
      ]
     },
     "metadata": {},
     "output_type": "display_data"
    }
   ],
   "source": [
    "median_genes = unique(drmedian$feature_id)\n",
    "length(median_genes)"
   ]
  },
  {
   "cell_type": "code",
   "execution_count": 21,
   "metadata": {},
   "outputs": [
    {
     "data": {
      "text/html": [
       "<table>\n",
       "<thead><tr><th scope=col>snp_id</th><th scope=col>p_value</th><th scope=col>beta</th><th scope=col>beta_se</th><th scope=col>empirical_feature_p_value</th><th scope=col>feature_chromosome</th><th scope=col>feature_start</th><th scope=col>feature_end</th><th scope=col>n_samples</th><th scope=col>n_e_samples</th><th scope=col>alpha_param</th><th scope=col>beta_param</th><th scope=col>snp_chromosome</th><th scope=col>snp_position</th><th scope=col>assessed_allele</th><th scope=col>call_rate</th><th scope=col>maf</th><th scope=col>hwe_p</th><th scope=col>feature_id</th></tr></thead>\n",
       "<tbody>\n",
       "\t<tr><td>19_54629697_T_C</td><td>0.002837445    </td><td>-0.3313689     </td><td>0.11101804     </td><td>0.2948949      </td><td>19             </td><td>54641444       </td><td>54659419       </td><td>88             </td><td>88             </td><td>0.7036511      </td><td>56.50639       </td><td>19             </td><td>54629697       </td><td>C              </td><td>1              </td><td>0.1079545      </td><td>1.0000000      </td><td>ENSG00000088038</td></tr>\n",
       "\t<tr><td>19_54544575_G_A</td><td>0.009864854    </td><td>-0.2133652     </td><td>0.08268267     </td><td>0.4527098      </td><td>19             </td><td>54412589       </td><td>54447195       </td><td>88             </td><td>88             </td><td>0.8065567      </td><td>67.80231       </td><td>19             </td><td>54544575       </td><td>A              </td><td>1              </td><td>0.2329545      </td><td>0.3818224      </td><td>ENSG00000105605</td></tr>\n",
       "</tbody>\n",
       "</table>\n"
      ],
      "text/latex": [
       "\\begin{tabular}{r|lllllllllllllllllll}\n",
       " snp\\_id & p\\_value & beta & beta\\_se & empirical\\_feature\\_p\\_value & feature\\_chromosome & feature\\_start & feature\\_end & n\\_samples & n\\_e\\_samples & alpha\\_param & beta\\_param & snp\\_chromosome & snp\\_position & assessed\\_allele & call\\_rate & maf & hwe\\_p & feature\\_id\\\\\n",
       "\\hline\n",
       "\t 19\\_54629697\\_T\\_C & 0.002837445           & -0.3313689            & 0.11101804            & 0.2948949             & 19                    & 54641444              & 54659419              & 88                    & 88                    & 0.7036511             & 56.50639              & 19                    & 54629697              & C                     & 1                     & 0.1079545             & 1.0000000             & ENSG00000088038      \\\\\n",
       "\t 19\\_54544575\\_G\\_A & 0.009864854           & -0.2133652            & 0.08268267            & 0.4527098             & 19                    & 54412589              & 54447195              & 88                    & 88                    & 0.8065567             & 67.80231              & 19                    & 54544575              & A                     & 1                     & 0.2329545             & 0.3818224             & ENSG00000105605      \\\\\n",
       "\\end{tabular}\n"
      ],
      "text/markdown": [
       "\n",
       "| snp_id | p_value | beta | beta_se | empirical_feature_p_value | feature_chromosome | feature_start | feature_end | n_samples | n_e_samples | alpha_param | beta_param | snp_chromosome | snp_position | assessed_allele | call_rate | maf | hwe_p | feature_id |\n",
       "|---|---|---|---|---|---|---|---|---|---|---|---|---|---|---|---|---|---|---|\n",
       "| 19_54629697_T_C | 0.002837445     | -0.3313689      | 0.11101804      | 0.2948949       | 19              | 54641444        | 54659419        | 88              | 88              | 0.7036511       | 56.50639        | 19              | 54629697        | C               | 1               | 0.1079545       | 1.0000000       | ENSG00000088038 |\n",
       "| 19_54544575_G_A | 0.009864854     | -0.2133652      | 0.08268267      | 0.4527098       | 19              | 54412589        | 54447195        | 88              | 88              | 0.8065567       | 67.80231        | 19              | 54544575        | A               | 1               | 0.2329545       | 0.3818224       | ENSG00000105605 |\n",
       "\n"
      ],
      "text/plain": [
       "  snp_id          p_value     beta       beta_se    empirical_feature_p_value\n",
       "1 19_54629697_T_C 0.002837445 -0.3313689 0.11101804 0.2948949                \n",
       "2 19_54544575_G_A 0.009864854 -0.2133652 0.08268267 0.4527098                \n",
       "  feature_chromosome feature_start feature_end n_samples n_e_samples\n",
       "1 19                 54641444      54659419    88        88         \n",
       "2 19                 54412589      54447195    88        88         \n",
       "  alpha_param beta_param snp_chromosome snp_position assessed_allele call_rate\n",
       "1 0.7036511   56.50639   19             54629697     C               1        \n",
       "2 0.8065567   67.80231   19             54544575     A               1        \n",
       "  maf       hwe_p     feature_id     \n",
       "1 0.1079545 1.0000000 ENSG00000088038\n",
       "2 0.2329545 0.3818224 ENSG00000105605"
      ]
     },
     "metadata": {},
     "output_type": "display_data"
    }
   ],
   "source": [
    "filename = \"/hps/nobackup/hipsci/scratch/ComparingQtlMapping/SingleCell/PseudoBulk/totmedian/Run_Output_PCA20_88_log_TPM_scater_libsize_206/top_qtl_results_all.txt\"\n",
    "dmedian = read.csv(filename, sep = \"\\t\")\n",
    "head(dmedian,2)"
   ]
  },
  {
   "cell_type": "code",
   "execution_count": 22,
   "metadata": {},
   "outputs": [
    {
     "data": {
      "text/html": [
       "12727"
      ],
      "text/latex": [
       "12727"
      ],
      "text/markdown": [
       "12727"
      ],
      "text/plain": [
       "[1] 12727"
      ]
     },
     "metadata": {},
     "output_type": "display_data"
    }
   ],
   "source": [
    "totmedian_genes = unique(dmedian$feature_id) \n",
    "length(totmedian_genes)"
   ]
  },
  {
   "cell_type": "code",
   "execution_count": 45,
   "metadata": {},
   "outputs": [
    {
     "data": {
      "text/html": [
       "13618"
      ],
      "text/latex": [
       "13618"
      ],
      "text/markdown": [
       "13618"
      ],
      "text/plain": [
       "[1] 13618"
      ]
     },
     "metadata": {},
     "output_type": "display_data"
    },
    {
     "data": {
      "text/html": [
       "12720"
      ],
      "text/latex": [
       "12720"
      ],
      "text/markdown": [
       "12720"
      ],
      "text/plain": [
       "[1] 12720"
      ]
     },
     "metadata": {},
     "output_type": "display_data"
    }
   ],
   "source": [
    "genes4 = unique(genes3[genes3 %in% median_genes])\n",
    "length(genes4)\n",
    "genes5 = unique(genes4[genes4 %in% totmedian_genes])\n",
    "length(genes5)"
   ]
  },
  {
   "cell_type": "code",
   "execution_count": 46,
   "metadata": {},
   "outputs": [],
   "source": [
    "write.csv(data.frame(genes = genes5), \"/hps/nobackup/stegle/users/acuomo/all_scripts/sc_eqtl/common_genes_across_all_aggregation_methods_and_bulk.csv\")"
   ]
  },
  {
   "cell_type": "code",
   "execution_count": 47,
   "metadata": {},
   "outputs": [
    {
     "data": {
      "text/html": [
       "12690"
      ],
      "text/latex": [
       "12690"
      ],
      "text/markdown": [
       "12690"
      ],
      "text/plain": [
       "[1] 12690"
      ]
     },
     "metadata": {},
     "output_type": "display_data"
    }
   ],
   "source": [
    "common_genes = unique(genes5[genes5 %in% G_file$gene])\n",
    "length(common_genes)"
   ]
  },
  {
   "cell_type": "code",
   "execution_count": 48,
   "metadata": {},
   "outputs": [],
   "source": [
    "write.csv(data.frame(genes = common_genes), \"/hps/nobackup/stegle/users/acuomo/all_scripts/sc_eqtl/common_genes_across_all_aggregation_methods_and_bulk_Giordanos_selection.csv\")"
   ]
  },
  {
   "cell_type": "code",
   "execution_count": null,
   "metadata": {},
   "outputs": [],
   "source": []
  }
 ],
 "metadata": {
  "kernelspec": {
   "display_name": "R",
   "language": "R",
   "name": "ir"
  },
  "language_info": {
   "codemirror_mode": "r",
   "file_extension": ".r",
   "mimetype": "text/x-r-source",
   "name": "R",
   "pygments_lexer": "r",
   "version": "3.6.1"
  }
 },
 "nbformat": 4,
 "nbformat_minor": 4
}
