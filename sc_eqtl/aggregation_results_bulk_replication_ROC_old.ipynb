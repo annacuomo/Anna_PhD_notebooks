{
 "cells": [
  {
   "cell_type": "code",
   "execution_count": 12,
   "metadata": {},
   "outputs": [],
   "source": [
    "library(qvalue)\n",
    "library(dplyr)\n",
    "library(ggplot2)"
   ]
  },
  {
   "cell_type": "code",
   "execution_count": 13,
   "metadata": {},
   "outputs": [
    {
     "data": {
      "text/html": [
       "21592"
      ],
      "text/latex": [
       "21592"
      ],
      "text/markdown": [
       "21592"
      ],
      "text/plain": [
       "[1] 21592"
      ]
     },
     "metadata": {},
     "output_type": "display_data"
    },
    {
     "data": {
      "text/html": [
       "<table>\n",
       "<thead><tr><th></th><th scope=col>gene</th><th scope=col>mean</th><th scope=col>std</th><th scope=col>CV</th><th scope=col>quartile_cv</th></tr></thead>\n",
       "<tbody>\n",
       "\t<tr><th scope=row>2</th><td>ENSG00000227232</td><td>3.1805905      </td><td>3.6232403      </td><td>1.139172       </td><td>2              </td></tr>\n",
       "\t<tr><th scope=row>3</th><td>ENSG00000243485</td><td>0.2003178      </td><td>0.8649483      </td><td>4.317881       </td><td>3              </td></tr>\n",
       "</tbody>\n",
       "</table>\n"
      ],
      "text/latex": [
       "\\begin{tabular}{r|lllll}\n",
       "  & gene & mean & std & CV & quartile\\_cv\\\\\n",
       "\\hline\n",
       "\t2 & ENSG00000227232 & 3.1805905       & 3.6232403       & 1.139172        & 2              \\\\\n",
       "\t3 & ENSG00000243485 & 0.2003178       & 0.8649483       & 4.317881        & 3              \\\\\n",
       "\\end{tabular}\n"
      ],
      "text/markdown": [
       "\n",
       "| <!--/--> | gene | mean | std | CV | quartile_cv |\n",
       "|---|---|---|---|---|---|\n",
       "| 2 | ENSG00000227232 | 3.1805905       | 3.6232403       | 1.139172        | 2               |\n",
       "| 3 | ENSG00000243485 | 0.2003178       | 0.8649483       | 4.317881        | 3               |\n",
       "\n"
      ],
      "text/plain": [
       "  gene            mean      std       CV       quartile_cv\n",
       "2 ENSG00000227232 3.1805905 3.6232403 1.139172 2          \n",
       "3 ENSG00000243485 0.2003178 0.8649483 4.317881 3          "
      ]
     },
     "metadata": {},
     "output_type": "display_data"
    }
   ],
   "source": [
    "Giordanos_selection = \"/hps/nobackup/stegle/users/galvari/data/iPSCs/singleCell/metadata/ensembl_gene/Ensembl_75_Gene_CV_quant5.txt\"\n",
    "G_file = read.csv(Giordanos_selection, sep = \"\\t\")\n",
    "nrow(G_file)\n",
    "head(G_file,2)"
   ]
  },
  {
   "cell_type": "code",
   "execution_count": 14,
   "metadata": {},
   "outputs": [],
   "source": [
    "bulk_matched_folder = \"/hps/nobackup/hipsci/scratch/ComparingQtlMapping/Bulk/BulkDay0Healthy_PCA20_88_206/\""
   ]
  },
  {
   "cell_type": "code",
   "execution_count": 15,
   "metadata": {},
   "outputs": [
    {
     "data": {
      "text/html": [
       "16691457"
      ],
      "text/latex": [
       "16691457"
      ],
      "text/markdown": [
       "16691457"
      ],
      "text/plain": [
       "[1] 16691457"
      ]
     },
     "metadata": {},
     "output_type": "display_data"
    }
   ],
   "source": [
    "res = read.csv(paste0(bulk_matched_folder,\"qtl_results_all.txt\"), sep = \"\\t\")\n",
    "nrow(res)"
   ]
  },
  {
   "cell_type": "code",
   "execution_count": 16,
   "metadata": {},
   "outputs": [],
   "source": [
    "bulk_folder = \"/hps/nobackup/hipsci/scratch/ComparingQtlMapping/Bulk/BulkTotal_PCA20/\""
   ]
  },
  {
   "cell_type": "code",
   "execution_count": 17,
   "metadata": {},
   "outputs": [
    {
     "data": {
      "text/html": [
       "18974762"
      ],
      "text/latex": [
       "18974762"
      ],
      "text/markdown": [
       "18974762"
      ],
      "text/plain": [
       "[1] 18974762"
      ]
     },
     "metadata": {},
     "output_type": "display_data"
    }
   ],
   "source": [
    "res_all = read.csv(paste0(bulk_folder,\"qtl_results_all.txt\"), sep = \"\\t\")\n",
    "nrow(res_all)"
   ]
  },
  {
   "cell_type": "code",
   "execution_count": 18,
   "metadata": {},
   "outputs": [
    {
     "data": {
      "text/html": [
       "43103"
      ],
      "text/latex": [
       "43103"
      ],
      "text/markdown": [
       "43103"
      ],
      "text/plain": [
       "[1] 43103"
      ]
     },
     "metadata": {},
     "output_type": "display_data"
    }
   ],
   "source": [
    "leads = read.csv(paste0(bulk_matched_folder,\"top_qtl_results_all.txt\"), sep = \"\\t\")\n",
    "nrow(leads)"
   ]
  },
  {
   "cell_type": "code",
   "execution_count": 19,
   "metadata": {},
   "outputs": [
    {
     "data": {
      "text/html": [
       "42791"
      ],
      "text/latex": [
       "42791"
      ],
      "text/markdown": [
       "42791"
      ],
      "text/plain": [
       "[1] 42791"
      ]
     },
     "metadata": {},
     "output_type": "display_data"
    },
    {
     "data": {
      "text/html": [
       "20336"
      ],
      "text/latex": [
       "20336"
      ],
      "text/markdown": [
       "20336"
      ],
      "text/plain": [
       "[1] 20336"
      ]
     },
     "metadata": {},
     "output_type": "display_data"
    },
    {
     "data": {
      "text/html": [
       "3517"
      ],
      "text/latex": [
       "3517"
      ],
      "text/markdown": [
       "3517"
      ],
      "text/plain": [
       "[1] 3517"
      ]
     },
     "metadata": {},
     "output_type": "display_data"
    },
    {
     "name": "stderr",
     "output_type": "stream",
     "text": [
      "Warning message:\n",
      "“Column `snp_id` joining factors with different levels, coercing to character vector”Warning message:\n",
      "“Column `feature_id` joining factors with different levels, coercing to character vector”"
     ]
    },
    {
     "data": {
      "text/html": [
       "3499"
      ],
      "text/latex": [
       "3499"
      ],
      "text/markdown": [
       "3499"
      ],
      "text/plain": [
       "[1] 3499"
      ]
     },
     "metadata": {},
     "output_type": "display_data"
    },
    {
     "data": {
      "text/html": [
       "3357"
      ],
      "text/latex": [
       "3357"
      ],
      "text/markdown": [
       "3357"
      ],
      "text/plain": [
       "[1] 3357"
      ]
     },
     "metadata": {},
     "output_type": "display_data"
    },
    {
     "data": {
      "text/html": [
       "3357"
      ],
      "text/latex": [
       "3357"
      ],
      "text/markdown": [
       "3357"
      ],
      "text/plain": [
       "[1] 3357"
      ]
     },
     "metadata": {},
     "output_type": "display_data"
    }
   ],
   "source": [
    "df0 = leads\n",
    "df0 <- df0[-which(duplicated(df0$feature_id)),]\n",
    "length(unique(df0$feature_id))\n",
    "df1 = df0[df0$feature_id %in% G_file$gene,]\n",
    "length(unique(df1$feature_id))\n",
    "df1$q_value = qvalue(df1$empirical_feature_p_value)$qvalues\n",
    "length(unique(df1[df1$q_value < 0.05,'feature_id']))\n",
    "df3 = df1[df1$q_value < 0.05,]\n",
    "df5 = inner_join(df3, res_all, by = c(\"snp_id\",\"feature_id\"), suffix = c(\".sc\",\".bulk\"))\n",
    "df5 <- df5[-which(duplicated(df5$feature_id)),]\n",
    "nrow(df5)\n",
    "\n",
    "nrow(df5[(df5$p_value.bulk < 0.05 & \n",
    "         (df5$beta.sc*df5$beta.bulk)>0),])\n",
    "nrow(df5[(df5$p_value.bulk < 0.05),])"
   ]
  },
  {
   "cell_type": "code",
   "execution_count": 20,
   "metadata": {},
   "outputs": [
    {
     "data": {
      "text/html": [
       "49916"
      ],
      "text/latex": [
       "49916"
      ],
      "text/markdown": [
       "49916"
      ],
      "text/plain": [
       "[1] 49916"
      ]
     },
     "metadata": {},
     "output_type": "display_data"
    }
   ],
   "source": [
    "leads_all = read.csv(paste0(bulk_folder,\"top_qtl_results_all.txt\"), sep = \"\\t\")\n",
    "nrow(leads_all)"
   ]
  },
  {
   "cell_type": "code",
   "execution_count": 21,
   "metadata": {},
   "outputs": [
    {
     "data": {
      "text/html": [
       "49554"
      ],
      "text/latex": [
       "49554"
      ],
      "text/markdown": [
       "49554"
      ],
      "text/plain": [
       "[1] 49554"
      ]
     },
     "metadata": {},
     "output_type": "display_data"
    },
    {
     "data": {
      "text/html": [
       "20541"
      ],
      "text/latex": [
       "20541"
      ],
      "text/markdown": [
       "20541"
      ],
      "text/plain": [
       "[1] 20541"
      ]
     },
     "metadata": {},
     "output_type": "display_data"
    },
    {
     "data": {
      "text/html": [
       "13869"
      ],
      "text/latex": [
       "13869"
      ],
      "text/markdown": [
       "13869"
      ],
      "text/plain": [
       "[1] 13869"
      ]
     },
     "metadata": {},
     "output_type": "display_data"
    }
   ],
   "source": [
    "df0 = leads_all\n",
    "df0 <- df0[-which(duplicated(df0$feature_id)),]\n",
    "length(unique(df0$feature_id))\n",
    "df1 = df0[df0$feature_id %in% G_file$gene,]\n",
    "length(unique(df1$feature_id))\n",
    "df1$q_value = qvalue(df1$empirical_feature_p_value)$qvalues\n",
    "length(unique(df1[df1$q_value < 0.05,'feature_id']))"
   ]
  },
  {
   "cell_type": "code",
   "execution_count": 22,
   "metadata": {},
   "outputs": [
    {
     "data": {
      "text/html": [
       "13869"
      ],
      "text/latex": [
       "13869"
      ],
      "text/markdown": [
       "13869"
      ],
      "text/plain": [
       "[1] 13869"
      ]
     },
     "metadata": {},
     "output_type": "display_data"
    }
   ],
   "source": [
    "df2 = df1[df1$q_value < 0.05,]\n",
    "nrow(df2)"
   ]
  },
  {
   "cell_type": "code",
   "execution_count": 23,
   "metadata": {},
   "outputs": [],
   "source": [
    "##### Mean\n",
    "mean_folder = \"/hps/nobackup/hipsci/scratch/ComparingQtlMapping/SingleCell/PseudoBulk/mean/\"\n",
    "my_folder = paste0(mean_folder,\"Run_Output_PCA20_88_log_TPM_scater_libsize_206/\") # scran, 20PCs\n",
    "# my_folder = paste0(mean_folder,\"Run_Output_PCA20_88_log_TPM_scater_libsize_206_baynorm/\") # baynorm, 20PCs"
   ]
  },
  {
   "cell_type": "code",
   "execution_count": 24,
   "metadata": {},
   "outputs": [],
   "source": [
    "res_mean = read.csv(paste0(my_folder,\"qtl_results_all.txt\"), sep = \"\\t\")"
   ]
  },
  {
   "cell_type": "code",
   "execution_count": 25,
   "metadata": {},
   "outputs": [],
   "source": [
    "##### Sum\n",
    "sum_folder = \"/hps/nobackup/hipsci/scratch/ComparingQtlMapping/SingleCell/PseudoBulk/sum/\"\n",
    "my_folder = paste0(sum_folder,\"Run_Output_PCA20_88_log_TPM_edgeR_libsize_206/\") # edgeR, 20PCs"
   ]
  },
  {
   "cell_type": "code",
   "execution_count": 26,
   "metadata": {},
   "outputs": [],
   "source": [
    "res_sum = read.csv(paste0(my_folder,\"qtl_results_all.txt\"), sep = \"\\t\")"
   ]
  },
  {
   "cell_type": "code",
   "execution_count": 27,
   "metadata": {
    "scrolled": true
   },
   "outputs": [
    {
     "name": "stderr",
     "output_type": "stream",
     "text": [
      "Warning message:\n",
      "“Column `snp_id` joining factors with different levels, coercing to character vector”Warning message:\n",
      "“Column `feature_id` joining factors with different levels, coercing to character vector”"
     ]
    },
    {
     "data": {
      "text/html": [
       "13869"
      ],
      "text/latex": [
       "13869"
      ],
      "text/markdown": [
       "13869"
      ],
      "text/plain": [
       "[1] 13869"
      ]
     },
     "metadata": {},
     "output_type": "display_data"
    }
   ],
   "source": [
    "df3 = inner_join(df2, res_mean, by = c(\"snp_id\",\"feature_id\"), suffix = c(\".bulk\",\".sc\"))\n",
    "df3 <- df3[-which(duplicated(df3$feature_id)),]\n",
    "nrow(df3)"
   ]
  },
  {
   "cell_type": "code",
   "execution_count": 28,
   "metadata": {},
   "outputs": [
    {
     "data": {
      "text/html": [
       "<table>\n",
       "<thead><tr><th></th><th scope=col>snp_id</th><th scope=col>p_value.bulk</th><th scope=col>beta.bulk</th><th scope=col>beta_se.bulk</th><th scope=col>empirical_feature_p_value.bulk</th><th scope=col>feature_chromosome.bulk</th><th scope=col>feature_start.bulk</th><th scope=col>feature_end.bulk</th><th scope=col>n_samples.bulk</th><th scope=col>n_e_samples.bulk</th><th scope=col>...</th><th scope=col>alpha_param.sc</th><th scope=col>beta_param.sc</th><th scope=col>snp_chromosome.sc</th><th scope=col>snp_position.sc</th><th scope=col>assessed_allele.sc</th><th scope=col>call_rate.sc</th><th scope=col>maf.sc</th><th scope=col>hwe_p.sc</th><th scope=col>nom_sign</th><th scope=col>same_effect_sign</th></tr></thead>\n",
       "<tbody>\n",
       "\t<tr><th scope=row>12067</th><td>17_43704031_C_A</td><td>1.731882e-124  </td><td>-1.240223      </td><td>0.05226204     </td><td>8.299205e-142  </td><td>17             </td><td>43578685       </td><td>43627701       </td><td>810            </td><td>526            </td><td>...            </td><td>0.8656900      </td><td>19.26625       </td><td>17             </td><td>43704031       </td><td>A              </td><td>1              </td><td>0.2701149      </td><td>0.1020851      </td><td>TRUE           </td><td>TRUE           </td></tr>\n",
       "\t<tr><th scope=row>12065</th><td>17_43704031_C_A</td><td>1.919183e-123  </td><td>-1.209482      </td><td>0.05118531     </td><td>7.107490e-130  </td><td>17             </td><td>43697694       </td><td>43725582       </td><td>810            </td><td>526            </td><td>...            </td><td>0.4735916      </td><td>66.78895       </td><td>17             </td><td>43704031       </td><td>A              </td><td>1              </td><td>0.2701149      </td><td>0.1020851      </td><td>TRUE           </td><td>TRUE           </td></tr>\n",
       "</tbody>\n",
       "</table>\n"
      ],
      "text/latex": [
       "\\begin{tabular}{r|lllllllllllllllllllllllllllllllllllllll}\n",
       "  & snp\\_id & p\\_value.bulk & beta.bulk & beta\\_se.bulk & empirical\\_feature\\_p\\_value.bulk & feature\\_chromosome.bulk & feature\\_start.bulk & feature\\_end.bulk & n\\_samples.bulk & n\\_e\\_samples.bulk & ... & alpha\\_param.sc & beta\\_param.sc & snp\\_chromosome.sc & snp\\_position.sc & assessed\\_allele.sc & call\\_rate.sc & maf.sc & hwe\\_p.sc & nom\\_sign & same\\_effect\\_sign\\\\\n",
       "\\hline\n",
       "\t12067 & 17\\_43704031\\_C\\_A & 1.731882e-124         & -1.240223             & 0.05226204            & 8.299205e-142         & 17                    & 43578685              & 43627701              & 810                   & 526                   & ...                   & 0.8656900             & 19.26625              & 17                    & 43704031              & A                     & 1                     & 0.2701149             & 0.1020851             & TRUE                  & TRUE                 \\\\\n",
       "\t12065 & 17\\_43704031\\_C\\_A & 1.919183e-123         & -1.209482             & 0.05118531            & 7.107490e-130         & 17                    & 43697694              & 43725582              & 810                   & 526                   & ...                   & 0.4735916             & 66.78895              & 17                    & 43704031              & A                     & 1                     & 0.2701149             & 0.1020851             & TRUE                  & TRUE                 \\\\\n",
       "\\end{tabular}\n"
      ],
      "text/markdown": [
       "\n",
       "| <!--/--> | snp_id | p_value.bulk | beta.bulk | beta_se.bulk | empirical_feature_p_value.bulk | feature_chromosome.bulk | feature_start.bulk | feature_end.bulk | n_samples.bulk | n_e_samples.bulk | ... | alpha_param.sc | beta_param.sc | snp_chromosome.sc | snp_position.sc | assessed_allele.sc | call_rate.sc | maf.sc | hwe_p.sc | nom_sign | same_effect_sign |\n",
       "|---|---|---|---|---|---|---|---|---|---|---|---|---|---|---|---|---|---|---|---|---|---|\n",
       "| 12067 | 17_43704031_C_A | 1.731882e-124   | -1.240223       | 0.05226204      | 8.299205e-142   | 17              | 43578685        | 43627701        | 810             | 526             | ...             | 0.8656900       | 19.26625        | 17              | 43704031        | A               | 1               | 0.2701149       | 0.1020851       | TRUE            | TRUE            |\n",
       "| 12065 | 17_43704031_C_A | 1.919183e-123   | -1.209482       | 0.05118531      | 7.107490e-130   | 17              | 43697694        | 43725582        | 810             | 526             | ...             | 0.4735916       | 66.78895        | 17              | 43704031        | A               | 1               | 0.2701149       | 0.1020851       | TRUE            | TRUE            |\n",
       "\n"
      ],
      "text/plain": [
       "      snp_id          p_value.bulk  beta.bulk beta_se.bulk\n",
       "12067 17_43704031_C_A 1.731882e-124 -1.240223 0.05226204  \n",
       "12065 17_43704031_C_A 1.919183e-123 -1.209482 0.05118531  \n",
       "      empirical_feature_p_value.bulk feature_chromosome.bulk feature_start.bulk\n",
       "12067 8.299205e-142                  17                      43578685          \n",
       "12065 7.107490e-130                  17                      43697694          \n",
       "      feature_end.bulk n_samples.bulk n_e_samples.bulk ... alpha_param.sc\n",
       "12067 43627701         810            526              ... 0.8656900     \n",
       "12065 43725582         810            526              ... 0.4735916     \n",
       "      beta_param.sc snp_chromosome.sc snp_position.sc assessed_allele.sc\n",
       "12067 19.26625      17                43704031        A                 \n",
       "12065 66.78895      17                43704031        A                 \n",
       "      call_rate.sc maf.sc    hwe_p.sc  nom_sign same_effect_sign\n",
       "12067 1            0.2701149 0.1020851 TRUE     TRUE            \n",
       "12065 1            0.2701149 0.1020851 TRUE     TRUE            "
      ]
     },
     "metadata": {},
     "output_type": "display_data"
    }
   ],
   "source": [
    "df3 = df3[order(df3$q_value),]\n",
    "df3$nom_sign = df3$p_value.sc < 0.05\n",
    "df3$same_effect_sign = (df3$beta.sc * df3$beta.bulk) > 0\n",
    "head(df3,2)"
   ]
  },
  {
   "cell_type": "code",
   "execution_count": 29,
   "metadata": {},
   "outputs": [],
   "source": [
    "TPR = c()\n",
    "tp = 0\n",
    "for (i in 1:nrow(df3)){\n",
    "    if (df3$nom_sign[i] == TRUE & df3$same_effect_sign[i] == TRUE){tp = tp+1}\n",
    "#     if (df3$nom_sign[i] == TRUE){tp = tp+1}\n",
    "    TPR[i] = tp/i\n",
    "}"
   ]
  },
  {
   "cell_type": "code",
   "execution_count": 30,
   "metadata": {
    "scrolled": true
   },
   "outputs": [
    {
     "data": {
      "image/png": "[encoded data removed]",
      "text/plain": [
       "plot without title"
      ]
     },
     "metadata": {},
     "output_type": "display_data"
    },
    {
     "data": {
      "image/png": "[encoded data removed]",
      "text/plain": [
       "plot without title"
      ]
     },
     "metadata": {},
     "output_type": "display_data"
    }
   ],
   "source": [
    "# hist(TPR)\n",
    "plot(1:nrow(df3),TPR, xlab = \"Ranked eGenes using bulk (FDR<5%)\")\n",
    "plot(1:nrow(df3),TPR, xlim = c(0,500), xlab = \"Ranked eGenes using bulk (FDR<5%)\")"
   ]
  },
  {
   "cell_type": "code",
   "execution_count": 68,
   "metadata": {},
   "outputs": [
    {
     "data": {
      "text/html": [
       "<table>\n",
       "<thead><tr><th></th><th scope=col>ranked_genes</th><th scope=col>tpr</th><th scope=col>method</th></tr></thead>\n",
       "<tbody>\n",
       "\t<tr><th scope=row>8746</th><td>8746     </td><td>0.3637091</td><td>mean     </td></tr>\n",
       "\t<tr><th scope=row>8747</th><td>8747     </td><td>0.3636675</td><td>mean     </td></tr>\n",
       "\t<tr><th scope=row>8748</th><td>8748     </td><td>0.3636260</td><td>mean     </td></tr>\n",
       "\t<tr><th scope=row>8749</th><td>8749     </td><td>0.3636987</td><td>mean     </td></tr>\n",
       "\t<tr><th scope=row>8750</th><td>8750     </td><td>0.3636571</td><td>mean     </td></tr>\n",
       "\t<tr><th scope=row>8751</th><td>8751     </td><td>0.3636156</td><td>mean     </td></tr>\n",
       "</tbody>\n",
       "</table>\n"
      ],
      "text/latex": [
       "\\begin{tabular}{r|lll}\n",
       "  & ranked\\_genes & tpr & method\\\\\n",
       "\\hline\n",
       "\t8746 & 8746      & 0.3637091 & mean     \\\\\n",
       "\t8747 & 8747      & 0.3636675 & mean     \\\\\n",
       "\t8748 & 8748      & 0.3636260 & mean     \\\\\n",
       "\t8749 & 8749      & 0.3636987 & mean     \\\\\n",
       "\t8750 & 8750      & 0.3636571 & mean     \\\\\n",
       "\t8751 & 8751      & 0.3636156 & mean     \\\\\n",
       "\\end{tabular}\n"
      ],
      "text/markdown": [
       "\n",
       "| <!--/--> | ranked_genes | tpr | method |\n",
       "|---|---|---|---|\n",
       "| 8746 | 8746      | 0.3637091 | mean      |\n",
       "| 8747 | 8747      | 0.3636675 | mean      |\n",
       "| 8748 | 8748      | 0.3636260 | mean      |\n",
       "| 8749 | 8749      | 0.3636987 | mean      |\n",
       "| 8750 | 8750      | 0.3636571 | mean      |\n",
       "| 8751 | 8751      | 0.3636156 | mean      |\n",
       "\n"
      ],
      "text/plain": [
       "     ranked_genes tpr       method\n",
       "8746 8746         0.3637091 mean  \n",
       "8747 8747         0.3636675 mean  \n",
       "8748 8748         0.3636260 mean  \n",
       "8749 8749         0.3636987 mean  \n",
       "8750 8750         0.3636571 mean  \n",
       "8751 8751         0.3636156 mean  "
      ]
     },
     "metadata": {},
     "output_type": "display_data"
    }
   ],
   "source": [
    "# nrow(df3)\n",
    "df_mean = data.frame(ranked_genes = 1:nrow(df3), tpr = TPR, method = \"mean\")\n",
    "tail(df_mean)"
   ]
  },
  {
   "cell_type": "code",
   "execution_count": 49,
   "metadata": {},
   "outputs": [
    {
     "name": "stderr",
     "output_type": "stream",
     "text": [
      "Warning message:\n",
      "“Column `snp_id` joining factors with different levels, coercing to character vector”Warning message:\n",
      "“Column `feature_id` joining factors with different levels, coercing to character vector”"
     ]
    },
    {
     "data": {
      "text/html": [
       "8609"
      ],
      "text/latex": [
       "8609"
      ],
      "text/markdown": [
       "8609"
      ],
      "text/plain": [
       "[1] 8609"
      ]
     },
     "metadata": {},
     "output_type": "display_data"
    }
   ],
   "source": [
    "df4 = inner_join(df2, res_sum, by = c(\"snp_id\",\"feature_id\"), suffix = c(\".bulk\",\".sc\"))\n",
    "df4 <- df4[-which(duplicated(df4$feature_id)),]\n",
    "nrow(df4)"
   ]
  },
  {
   "cell_type": "code",
   "execution_count": 50,
   "metadata": {},
   "outputs": [
    {
     "data": {
      "text/html": [
       "<table>\n",
       "<thead><tr><th></th><th scope=col>snp_id</th><th scope=col>p_value.bulk</th><th scope=col>beta.bulk</th><th scope=col>beta_se.bulk</th><th scope=col>empirical_feature_p_value.bulk</th><th scope=col>feature_chromosome.bulk</th><th scope=col>feature_start.bulk</th><th scope=col>feature_end.bulk</th><th scope=col>n_samples.bulk</th><th scope=col>n_e_samples.bulk</th><th scope=col>...</th><th scope=col>alpha_param.sc</th><th scope=col>beta_param.sc</th><th scope=col>snp_chromosome.sc</th><th scope=col>snp_position.sc</th><th scope=col>assessed_allele.sc</th><th scope=col>call_rate.sc</th><th scope=col>maf.sc</th><th scope=col>hwe_p.sc</th><th scope=col>nom_sign</th><th scope=col>same_effect_sign</th></tr></thead>\n",
       "<tbody>\n",
       "\t<tr><th scope=row>556</th><td>6_86387888_G_T </td><td>1.388048e-122  </td><td> 1.210736      </td><td>0.05142060     </td><td>1.470169e-115  </td><td>6              </td><td> 86370710      </td><td> 86388451      </td><td>813            </td><td>527            </td><td>...            </td><td>0.5095164      </td><td>58.80131       </td><td>6              </td><td> 86387888      </td><td>T              </td><td>1              </td><td>0.4602273      </td><td>0.6671999      </td><td>TRUE           </td><td>TRUE           </td></tr>\n",
       "\t<tr><th scope=row>7979</th><td>5_138100042_T_C</td><td>5.688202e-103  </td><td>-1.468786      </td><td>0.06816765     </td><td>4.086968e-102  </td><td>5              </td><td>138080123      </td><td>138088998      </td><td>813            </td><td>527            </td><td>...            </td><td>0.6777317      </td><td>20.71732       </td><td>5              </td><td>138100042      </td><td>C              </td><td>1              </td><td>0.2159091      </td><td>0.3404666      </td><td>TRUE           </td><td>TRUE           </td></tr>\n",
       "</tbody>\n",
       "</table>\n"
      ],
      "text/latex": [
       "\\begin{tabular}{r|lllllllllllllllllllllllllllllllllllllll}\n",
       "  & snp\\_id & p\\_value.bulk & beta.bulk & beta\\_se.bulk & empirical\\_feature\\_p\\_value.bulk & feature\\_chromosome.bulk & feature\\_start.bulk & feature\\_end.bulk & n\\_samples.bulk & n\\_e\\_samples.bulk & ... & alpha\\_param.sc & beta\\_param.sc & snp\\_chromosome.sc & snp\\_position.sc & assessed\\_allele.sc & call\\_rate.sc & maf.sc & hwe\\_p.sc & nom\\_sign & same\\_effect\\_sign\\\\\n",
       "\\hline\n",
       "\t556 & 6\\_86387888\\_G\\_T  & 1.388048e-122         &  1.210736             & 0.05142060            & 1.470169e-115         & 6                     &  86370710             &  86388451             & 813                   & 527                   & ...                   & 0.5095164             & 58.80131              & 6                     &  86387888             & T                     & 1                     & 0.4602273             & 0.6671999             & TRUE                  & TRUE                 \\\\\n",
       "\t7979 & 5\\_138100042\\_T\\_C & 5.688202e-103         & -1.468786             & 0.06816765            & 4.086968e-102         & 5                     & 138080123             & 138088998             & 813                   & 527                   & ...                   & 0.6777317             & 20.71732              & 5                     & 138100042             & C                     & 1                     & 0.2159091             & 0.3404666             & TRUE                  & TRUE                 \\\\\n",
       "\\end{tabular}\n"
      ],
      "text/markdown": [
       "\n",
       "| <!--/--> | snp_id | p_value.bulk | beta.bulk | beta_se.bulk | empirical_feature_p_value.bulk | feature_chromosome.bulk | feature_start.bulk | feature_end.bulk | n_samples.bulk | n_e_samples.bulk | ... | alpha_param.sc | beta_param.sc | snp_chromosome.sc | snp_position.sc | assessed_allele.sc | call_rate.sc | maf.sc | hwe_p.sc | nom_sign | same_effect_sign |\n",
       "|---|---|---|---|---|---|---|---|---|---|---|---|---|---|---|---|---|---|---|---|---|---|\n",
       "| 556 | 6_86387888_G_T  | 1.388048e-122   |  1.210736       | 0.05142060      | 1.470169e-115   | 6               |  86370710       |  86388451       | 813             | 527             | ...             | 0.5095164       | 58.80131        | 6               |  86387888       | T               | 1               | 0.4602273       | 0.6671999       | TRUE            | TRUE            |\n",
       "| 7979 | 5_138100042_T_C | 5.688202e-103   | -1.468786       | 0.06816765      | 4.086968e-102   | 5               | 138080123       | 138088998       | 813             | 527             | ...             | 0.6777317       | 20.71732        | 5               | 138100042       | C               | 1               | 0.2159091       | 0.3404666       | TRUE            | TRUE            |\n",
       "\n"
      ],
      "text/plain": [
       "     snp_id          p_value.bulk  beta.bulk beta_se.bulk\n",
       "556  6_86387888_G_T  1.388048e-122  1.210736 0.05142060  \n",
       "7979 5_138100042_T_C 5.688202e-103 -1.468786 0.06816765  \n",
       "     empirical_feature_p_value.bulk feature_chromosome.bulk feature_start.bulk\n",
       "556  1.470169e-115                  6                        86370710         \n",
       "7979 4.086968e-102                  5                       138080123         \n",
       "     feature_end.bulk n_samples.bulk n_e_samples.bulk ... alpha_param.sc\n",
       "556   86388451        813            527              ... 0.5095164     \n",
       "7979 138088998        813            527              ... 0.6777317     \n",
       "     beta_param.sc snp_chromosome.sc snp_position.sc assessed_allele.sc\n",
       "556  58.80131      6                  86387888       T                 \n",
       "7979 20.71732      5                 138100042       C                 \n",
       "     call_rate.sc maf.sc    hwe_p.sc  nom_sign same_effect_sign\n",
       "556  1            0.4602273 0.6671999 TRUE     TRUE            \n",
       "7979 1            0.2159091 0.3404666 TRUE     TRUE            "
      ]
     },
     "metadata": {},
     "output_type": "display_data"
    }
   ],
   "source": [
    "df4 = df4[order(df4$q_value),]\n",
    "df4$nom_sign = df4$p_value.sc < 0.05\n",
    "df4$same_effect_sign = (df4$beta.sc * df4$beta.bulk) > 0\n",
    "head(df4,2)"
   ]
  },
  {
   "cell_type": "code",
   "execution_count": 51,
   "metadata": {},
   "outputs": [],
   "source": [
    "TPR = c()\n",
    "tp = 0\n",
    "for (i in 1:nrow(df4)){\n",
    "    if (df4$nom_sign[i] == TRUE & df4$same_effect_sign[i] == TRUE){tp = tp+1}\n",
    "#     if (df3$nom_sign[i] == TRUE){tp = tp+1}\n",
    "    TPR[i] = tp/i\n",
    "}"
   ]
  },
  {
   "cell_type": "code",
   "execution_count": 52,
   "metadata": {},
   "outputs": [
    {
     "data": {
      "image/png": "[encoded data removed]",
      "text/plain": [
       "plot without title"
      ]
     },
     "metadata": {},
     "output_type": "display_data"
    },
    {
     "data": {
      "image/png": "[encoded data removed]",
      "text/plain": [
       "plot without title"
      ]
     },
     "metadata": {},
     "output_type": "display_data"
    }
   ],
   "source": [
    "# hist(TPR)\n",
    "plot(1:nrow(df4),TPR, xlab = \"Ranked eGenes using bulk (FDR<5%)\")\n",
    "plot(1:nrow(df4),TPR, xlim = c(0,500), xlab = \"Ranked eGenes using bulk (FDR<5%)\")"
   ]
  },
  {
   "cell_type": "code",
   "execution_count": 66,
   "metadata": {},
   "outputs": [
    {
     "data": {
      "text/html": [
       "<table>\n",
       "<thead><tr><th></th><th scope=col>ranked_genes</th><th scope=col>tpr</th><th scope=col>method</th></tr></thead>\n",
       "<tbody>\n",
       "\t<tr><th scope=row>8604</th><td>8604     </td><td>0.3598326</td><td>sum      </td></tr>\n",
       "\t<tr><th scope=row>8605</th><td>8605     </td><td>0.3597908</td><td>sum      </td></tr>\n",
       "\t<tr><th scope=row>8606</th><td>8606     </td><td>0.3598652</td><td>sum      </td></tr>\n",
       "\t<tr><th scope=row>8607</th><td>8607     </td><td>0.3599396</td><td>sum      </td></tr>\n",
       "\t<tr><th scope=row>8608</th><td>8608     </td><td>0.3598978</td><td>sum      </td></tr>\n",
       "\t<tr><th scope=row>8609</th><td>8609     </td><td>0.3598560</td><td>sum      </td></tr>\n",
       "</tbody>\n",
       "</table>\n"
      ],
      "text/latex": [
       "\\begin{tabular}{r|lll}\n",
       "  & ranked\\_genes & tpr & method\\\\\n",
       "\\hline\n",
       "\t8604 & 8604      & 0.3598326 & sum      \\\\\n",
       "\t8605 & 8605      & 0.3597908 & sum      \\\\\n",
       "\t8606 & 8606      & 0.3598652 & sum      \\\\\n",
       "\t8607 & 8607      & 0.3599396 & sum      \\\\\n",
       "\t8608 & 8608      & 0.3598978 & sum      \\\\\n",
       "\t8609 & 8609      & 0.3598560 & sum      \\\\\n",
       "\\end{tabular}\n"
      ],
      "text/markdown": [
       "\n",
       "| <!--/--> | ranked_genes | tpr | method |\n",
       "|---|---|---|---|\n",
       "| 8604 | 8604      | 0.3598326 | sum       |\n",
       "| 8605 | 8605      | 0.3597908 | sum       |\n",
       "| 8606 | 8606      | 0.3598652 | sum       |\n",
       "| 8607 | 8607      | 0.3599396 | sum       |\n",
       "| 8608 | 8608      | 0.3598978 | sum       |\n",
       "| 8609 | 8609      | 0.3598560 | sum       |\n",
       "\n"
      ],
      "text/plain": [
       "     ranked_genes tpr       method\n",
       "8604 8604         0.3598326 sum   \n",
       "8605 8605         0.3597908 sum   \n",
       "8606 8606         0.3598652 sum   \n",
       "8607 8607         0.3599396 sum   \n",
       "8608 8608         0.3598978 sum   \n",
       "8609 8609         0.3598560 sum   "
      ]
     },
     "metadata": {},
     "output_type": "display_data"
    }
   ],
   "source": [
    "# nrow(df4)\n",
    "df_sum = data.frame(ranked_genes = 1:nrow(df4), tpr = TPR, method = \"sum\")\n",
    "tail(df_sum)"
   ]
  },
  {
   "cell_type": "code",
   "execution_count": 70,
   "metadata": {},
   "outputs": [
    {
     "data": {
      "image/png": "[encoded data removed]",
      "text/plain": [
       "plot without title"
      ]
     },
     "metadata": {},
     "output_type": "display_data"
    },
    {
     "name": "stderr",
     "output_type": "stream",
     "text": [
      "Warning message:\n",
      "“Removed 16360 rows containing missing values (geom_point).”"
     ]
    },
    {
     "data": {
      "image/png": "[encoded data removed]",
      "text/plain": [
       "plot without title"
      ]
     },
     "metadata": {},
     "output_type": "display_data"
    },
    {
     "data": {
      "image/png": "[encoded data removed]",
      "text/plain": [
       "plot without title"
      ]
     },
     "metadata": {},
     "output_type": "display_data"
    }
   ],
   "source": [
    "options(repr.plot.width = 5, repr.plot.height = 4)\n",
    "df_to_plot = rbind(df_mean, df_sum)\n",
    "ggplot(df_to_plot, aes(x = ranked_genes, y = tpr, colour = method)) + geom_point(alpha = 0.1) + \n",
    "    theme_bw() + ylab(\"replicated portion of eGenes using single cell data\") + xlab(\"ranked bulk eGenes\")\n",
    "ggplot(df_to_plot[df_to_plot$method == \"mean\",], aes(x = ranked_genes, y = tpr, colour = method)) + geom_point(alpha = 0.1) + \n",
    "    theme_bw() + ylab(\"replicated portion of eGenes using single cell data\") + xlab(\"ranked bulk eGenes\")\n",
    "ggplot(df_to_plot, aes(x = ranked_genes, y = tpr, colour = method)) + geom_point(alpha = 0.8) + xlim(c(0,500)) + ylim(c(0.85,1)) +\n",
    "    theme_bw() + ylab(\"replicated portion of eGenes using single cell data\") + xlab(\"ranked bulk eGenes\")"
   ]
  },
  {
   "cell_type": "code",
   "execution_count": null,
   "metadata": {},
   "outputs": [],
   "source": []
  },
  {
   "cell_type": "code",
   "execution_count": null,
   "metadata": {},
   "outputs": [],
   "source": []
  },
  {
   "cell_type": "code",
   "execution_count": null,
   "metadata": {},
   "outputs": [],
   "source": []
  },
  {
   "cell_type": "code",
   "execution_count": null,
   "metadata": {},
   "outputs": [],
   "source": []
  },
  {
   "cell_type": "code",
   "execution_count": 58,
   "metadata": {},
   "outputs": [],
   "source": [
    "df0 = read.csv(paste0(my_folder,\"top_qtl_results_all.txt\"), sep = \"\\t\")\n",
    "df0 <- df0[-which(duplicated(df0$feature_id)),]"
   ]
  },
  {
   "cell_type": "code",
   "execution_count": 59,
   "metadata": {},
   "outputs": [
    {
     "data": {
      "text/html": [
       "50425"
      ],
      "text/latex": [
       "50425"
      ],
      "text/markdown": [
       "50425"
      ],
      "text/plain": [
       "[1] 50425"
      ]
     },
     "metadata": {},
     "output_type": "display_data"
    },
    {
     "data": {
      "text/html": [
       "20545"
      ],
      "text/latex": [
       "20545"
      ],
      "text/markdown": [
       "20545"
      ],
      "text/plain": [
       "[1] 20545"
      ]
     },
     "metadata": {},
     "output_type": "display_data"
    },
    {
     "data": {
      "text/html": [
       "2074"
      ],
      "text/latex": [
       "2074"
      ],
      "text/markdown": [
       "2074"
      ],
      "text/plain": [
       "[1] 2074"
      ]
     },
     "metadata": {},
     "output_type": "display_data"
    },
    {
     "data": {
      "text/html": [
       "2074"
      ],
      "text/latex": [
       "2074"
      ],
      "text/markdown": [
       "2074"
      ],
      "text/plain": [
       "[1] 2074"
      ]
     },
     "metadata": {},
     "output_type": "display_data"
    }
   ],
   "source": [
    "length(unique(df0$feature_id))\n",
    "df1 = df0[df0$feature_id %in% G_file$gene,]\n",
    "length(unique(df1$feature_id))\n",
    "df1$q_value = qvalue(df1$empirical_feature_p_value)$qvalues\n",
    "length(unique(df1[df1$q_value < 0.05,'feature_id']))\n",
    "\n",
    "df3 = df1[df1$q_value < 0.05,]\n",
    "nrow(df3)"
   ]
  },
  {
   "cell_type": "code",
   "execution_count": null,
   "metadata": {},
   "outputs": [],
   "source": [
    "length(unique(df0$feature_id))\n",
    "df1 = df0[df0$feature_id %in% G_file$gene,]\n",
    "length(unique(df1$feature_id))\n",
    "df1$q_value = qvalue(df1$empirical_feature_p_value)$qvalues\n",
    "length(unique(df1[df1$q_value < 0.05,'feature_id']))\n",
    "\n",
    "df3 = df1[df1$q_value < 0.05,]\n",
    "nrow(df3)"
   ]
  },
  {
   "cell_type": "code",
   "execution_count": 52,
   "metadata": {},
   "outputs": [
    {
     "data": {
      "text/html": [
       "2081"
      ],
      "text/latex": [
       "2081"
      ],
      "text/markdown": [
       "2081"
      ],
      "text/plain": [
       "[1] 2081"
      ]
     },
     "metadata": {},
     "output_type": "display_data"
    },
    {
     "data": {
      "text/html": [
       "2071"
      ],
      "text/latex": [
       "2071"
      ],
      "text/markdown": [
       "2071"
      ],
      "text/plain": [
       "[1] 2071"
      ]
     },
     "metadata": {},
     "output_type": "display_data"
    },
    {
     "data": {
      "text/html": [
       "2081"
      ],
      "text/latex": [
       "2081"
      ],
      "text/markdown": [
       "2081"
      ],
      "text/plain": [
       "[1] 2081"
      ]
     },
     "metadata": {},
     "output_type": "display_data"
    }
   ],
   "source": [
    "length(unique(df3$feature_id))\n",
    "length(unique(df3$feature_id)[unique(df3$feature_id) %in% unique(res$feature_id)])\n",
    "length(unique(df3$feature_id)[unique(df3$feature_id) %in% unique(res_all$feature_id)])"
   ]
  },
  {
   "cell_type": "code",
   "execution_count": 17,
   "metadata": {},
   "outputs": [
    {
     "data": {
      "text/html": [
       "50425"
      ],
      "text/latex": [
       "50425"
      ],
      "text/markdown": [
       "50425"
      ],
      "text/plain": [
       "[1] 50425"
      ]
     },
     "metadata": {},
     "output_type": "display_data"
    },
    {
     "data": {
      "text/html": [
       "20545"
      ],
      "text/latex": [
       "20545"
      ],
      "text/markdown": [
       "20545"
      ],
      "text/plain": [
       "[1] 20545"
      ]
     },
     "metadata": {},
     "output_type": "display_data"
    },
    {
     "data": {
      "text/html": [
       "2081"
      ],
      "text/latex": [
       "2081"
      ],
      "text/markdown": [
       "2081"
      ],
      "text/plain": [
       "[1] 2081"
      ]
     },
     "metadata": {},
     "output_type": "display_data"
    },
    {
     "data": {
      "text/html": [
       "2081"
      ],
      "text/latex": [
       "2081"
      ],
      "text/markdown": [
       "2081"
      ],
      "text/plain": [
       "[1] 2081"
      ]
     },
     "metadata": {},
     "output_type": "display_data"
    },
    {
     "name": "stderr",
     "output_type": "stream",
     "text": [
      "Warning message:\n",
      "“Column `snp_id` joining factors with different levels, coercing to character vector”Warning message:\n",
      "“Column `feature_id` joining factors with different levels, coercing to character vector”"
     ]
    },
    {
     "data": {
      "text/html": [
       "2071"
      ],
      "text/latex": [
       "2071"
      ],
      "text/markdown": [
       "2071"
      ],
      "text/plain": [
       "[1] 2071"
      ]
     },
     "metadata": {},
     "output_type": "display_data"
    },
    {
     "data": {
      "text/html": [
       "1197"
      ],
      "text/latex": [
       "1197"
      ],
      "text/markdown": [
       "1197"
      ],
      "text/plain": [
       "[1] 1197"
      ]
     },
     "metadata": {},
     "output_type": "display_data"
    },
    {
     "data": {
      "text/html": [
       "1235"
      ],
      "text/latex": [
       "1235"
      ],
      "text/markdown": [
       "1235"
      ],
      "text/plain": [
       "[1] 1235"
      ]
     },
     "metadata": {},
     "output_type": "display_data"
    },
    {
     "name": "stderr",
     "output_type": "stream",
     "text": [
      "Warning message:\n",
      "“Column `snp_id` joining factors with different levels, coercing to character vector”Warning message:\n",
      "“Column `feature_id` joining factors with different levels, coercing to character vector”"
     ]
    },
    {
     "data": {
      "text/html": [
       "2075"
      ],
      "text/latex": [
       "2075"
      ],
      "text/markdown": [
       "2075"
      ],
      "text/plain": [
       "[1] 2075"
      ]
     },
     "metadata": {},
     "output_type": "display_data"
    },
    {
     "data": {
      "text/html": [
       "1463"
      ],
      "text/latex": [
       "1463"
      ],
      "text/markdown": [
       "1463"
      ],
      "text/plain": [
       "[1] 1463"
      ]
     },
     "metadata": {},
     "output_type": "display_data"
    },
    {
     "data": {
      "text/html": [
       "1546"
      ],
      "text/latex": [
       "1546"
      ],
      "text/markdown": [
       "1546"
      ],
      "text/plain": [
       "[1] 1546"
      ]
     },
     "metadata": {},
     "output_type": "display_data"
    }
   ],
   "source": [
    "df4 = inner_join(df3, res, by = c(\"snp_id\",\"feature_id\"), suffix = c(\".sc\",\".bulk\"))\n",
    "df4 <- df4[-which(duplicated(df4$feature_id)),]\n",
    "nrow(df4)\n",
    "\n",
    "nrow(df4[(df4$p_value.bulk < 0.05 & \n",
    "         (df4$beta.sc*df4$beta.bulk)>0),])\n",
    "nrow(df4[(df4$p_value.bulk < 0.05),])\n",
    "\n",
    "df5 = inner_join(df3, res_all, by = c(\"snp_id\",\"feature_id\"), suffix = c(\".sc\",\".bulk\"))\n",
    "df5 <- df5[-which(duplicated(df5$feature_id)),]\n",
    "nrow(df5)\n",
    "\n",
    "nrow(df5[(df5$p_value.bulk < 0.05 & \n",
    "         (df5$beta.sc*df5$beta.bulk)>0),])\n",
    "nrow(df5[(df5$p_value.bulk < 0.05),])"
   ]
  },
  {
   "cell_type": "code",
   "execution_count": null,
   "metadata": {},
   "outputs": [],
   "source": []
  },
  {
   "cell_type": "code",
   "execution_count": 18,
   "metadata": {},
   "outputs": [],
   "source": [
    "##### Total Mean"
   ]
  },
  {
   "cell_type": "code",
   "execution_count": 19,
   "metadata": {},
   "outputs": [],
   "source": [
    "total_mean_folder = \"/hps/nobackup/hipsci/scratch/ComparingQtlMapping/SingleCell/PseudoBulk/totmean/\""
   ]
  },
  {
   "cell_type": "code",
   "execution_count": 20,
   "metadata": {},
   "outputs": [],
   "source": [
    "my_folder = paste0(total_mean_folder,\"Run_Output_PCA20_88_log_TPM_scater_libsize_206/\") # scran, 20PCs"
   ]
  },
  {
   "cell_type": "code",
   "execution_count": 21,
   "metadata": {},
   "outputs": [],
   "source": [
    "df0 = read.csv(paste0(my_folder,\"top_qtl_results_all.txt\"), sep = \"\\t\")\n",
    "df0 <- df0[-which(duplicated(df0$feature_id)),]"
   ]
  },
  {
   "cell_type": "code",
   "execution_count": 22,
   "metadata": {},
   "outputs": [
    {
     "data": {
      "text/html": [
       "48583"
      ],
      "text/latex": [
       "48583"
      ],
      "text/markdown": [
       "48583"
      ],
      "text/plain": [
       "[1] 48583"
      ]
     },
     "metadata": {},
     "output_type": "display_data"
    },
    {
     "data": {
      "text/html": [
       "19877"
      ],
      "text/latex": [
       "19877"
      ],
      "text/markdown": [
       "19877"
      ],
      "text/plain": [
       "[1] 19877"
      ]
     },
     "metadata": {},
     "output_type": "display_data"
    },
    {
     "data": {
      "text/html": [
       "1363"
      ],
      "text/latex": [
       "1363"
      ],
      "text/markdown": [
       "1363"
      ],
      "text/plain": [
       "[1] 1363"
      ]
     },
     "metadata": {},
     "output_type": "display_data"
    },
    {
     "data": {
      "text/html": [
       "1363"
      ],
      "text/latex": [
       "1363"
      ],
      "text/markdown": [
       "1363"
      ],
      "text/plain": [
       "[1] 1363"
      ]
     },
     "metadata": {},
     "output_type": "display_data"
    }
   ],
   "source": [
    "length(unique(df0$feature_id))\n",
    "df1 = df0[df0$feature_id %in% G_file$gene,]\n",
    "length(unique(df1$feature_id))\n",
    "df1$q_value = qvalue(df1$empirical_feature_p_value)$qvalues\n",
    "length(unique(df1[df1$q_value < 0.05,'feature_id']))\n",
    "\n",
    "df3 = df1[df1$q_value < 0.05,]\n",
    "nrow(df3)"
   ]
  },
  {
   "cell_type": "code",
   "execution_count": 23,
   "metadata": {},
   "outputs": [
    {
     "name": "stderr",
     "output_type": "stream",
     "text": [
      "Warning message:\n",
      "“Column `snp_id` joining factors with different levels, coercing to character vector”Warning message:\n",
      "“Column `feature_id` joining factors with different levels, coercing to character vector”"
     ]
    },
    {
     "data": {
      "text/html": [
       "1356"
      ],
      "text/latex": [
       "1356"
      ],
      "text/markdown": [
       "1356"
      ],
      "text/plain": [
       "[1] 1356"
      ]
     },
     "metadata": {},
     "output_type": "display_data"
    },
    {
     "data": {
      "text/html": [
       "894"
      ],
      "text/latex": [
       "894"
      ],
      "text/markdown": [
       "894"
      ],
      "text/plain": [
       "[1] 894"
      ]
     },
     "metadata": {},
     "output_type": "display_data"
    },
    {
     "data": {
      "text/html": [
       "920"
      ],
      "text/latex": [
       "920"
      ],
      "text/markdown": [
       "920"
      ],
      "text/plain": [
       "[1] 920"
      ]
     },
     "metadata": {},
     "output_type": "display_data"
    }
   ],
   "source": [
    "df4 = inner_join(df3, res, by = c(\"snp_id\",\"feature_id\"), suffix = c(\".sc\",\".bulk\"))\n",
    "df4 <- df4[-which(duplicated(df4$feature_id)),]\n",
    "nrow(df4)\n",
    "\n",
    "nrow(df4[(df4$p_value.bulk < 0.05 & \n",
    "         (df4$beta.sc*df4$beta.bulk)>0),])\n",
    "nrow(df4[(df4$p_value.bulk < 0.05),])"
   ]
  },
  {
   "cell_type": "code",
   "execution_count": 24,
   "metadata": {},
   "outputs": [
    {
     "name": "stderr",
     "output_type": "stream",
     "text": [
      "Warning message:\n",
      "“Column `snp_id` joining factors with different levels, coercing to character vector”Warning message:\n",
      "“Column `feature_id` joining factors with different levels, coercing to character vector”"
     ]
    },
    {
     "data": {
      "text/html": [
       "1359"
      ],
      "text/latex": [
       "1359"
      ],
      "text/markdown": [
       "1359"
      ],
      "text/plain": [
       "[1] 1359"
      ]
     },
     "metadata": {},
     "output_type": "display_data"
    },
    {
     "data": {
      "text/html": [
       "1038"
      ],
      "text/latex": [
       "1038"
      ],
      "text/markdown": [
       "1038"
      ],
      "text/plain": [
       "[1] 1038"
      ]
     },
     "metadata": {},
     "output_type": "display_data"
    },
    {
     "data": {
      "text/html": [
       "1106"
      ],
      "text/latex": [
       "1106"
      ],
      "text/markdown": [
       "1106"
      ],
      "text/plain": [
       "[1] 1106"
      ]
     },
     "metadata": {},
     "output_type": "display_data"
    }
   ],
   "source": [
    "df5 = inner_join(df3, res_all, by = c(\"snp_id\",\"feature_id\"), suffix = c(\".sc\",\".bulk\"))\n",
    "df5 <- df5[-which(duplicated(df5$feature_id)),]\n",
    "nrow(df5)\n",
    "\n",
    "nrow(df5[(df5$p_value.bulk < 0.05 & \n",
    "         (df5$beta.sc*df5$beta.bulk)>0),])\n",
    "nrow(df5[(df5$p_value.bulk < 0.05),])"
   ]
  },
  {
   "cell_type": "code",
   "execution_count": null,
   "metadata": {},
   "outputs": [],
   "source": []
  },
  {
   "cell_type": "code",
   "execution_count": null,
   "metadata": {},
   "outputs": [],
   "source": []
  },
  {
   "cell_type": "code",
   "execution_count": null,
   "metadata": {},
   "outputs": [],
   "source": []
  },
  {
   "cell_type": "code",
   "execution_count": 25,
   "metadata": {},
   "outputs": [],
   "source": [
    "##### Median"
   ]
  },
  {
   "cell_type": "code",
   "execution_count": 26,
   "metadata": {},
   "outputs": [],
   "source": [
    "median_folder = \"/hps/nobackup/hipsci/scratch/ComparingQtlMapping/SingleCell/PseudoBulk/median/\""
   ]
  },
  {
   "cell_type": "code",
   "execution_count": 27,
   "metadata": {},
   "outputs": [],
   "source": [
    "my_folder = paste0(median_folder,\"Run_Output_PCA20_88_log_TPM_scater_libsize_206/\") # scran, 20PCs"
   ]
  },
  {
   "cell_type": "code",
   "execution_count": 28,
   "metadata": {},
   "outputs": [],
   "source": [
    "df = read.csv(paste0(my_folder,\"qtl_results_all.txt\"), sep = \"\\t\")\n",
    "df <- df[order(df$empirical_feature_p_value, df$p_value ),]\n",
    "df0 <- df[-which(duplicated(df$feature_id)),]\n",
    "# nrow(df0)"
   ]
  },
  {
   "cell_type": "code",
   "execution_count": 29,
   "metadata": {},
   "outputs": [],
   "source": [
    "# df0 = read.csv(paste0(my_folder,\"top_qtl_results_all.txt\"), sep = \"\\t\")\n",
    "# median_genes = unique(df0$feature_id)\n",
    "# length(median_genes)"
   ]
  },
  {
   "cell_type": "code",
   "execution_count": 30,
   "metadata": {},
   "outputs": [
    {
     "data": {
      "text/html": [
       "13628"
      ],
      "text/latex": [
       "13628"
      ],
      "text/markdown": [
       "13628"
      ],
      "text/plain": [
       "[1] 13628"
      ]
     },
     "metadata": {},
     "output_type": "display_data"
    },
    {
     "data": {
      "text/html": [
       "13567"
      ],
      "text/latex": [
       "13567"
      ],
      "text/markdown": [
       "13567"
      ],
      "text/plain": [
       "[1] 13567"
      ]
     },
     "metadata": {},
     "output_type": "display_data"
    },
    {
     "data": {
      "text/html": [
       "1530"
      ],
      "text/latex": [
       "1530"
      ],
      "text/markdown": [
       "1530"
      ],
      "text/plain": [
       "[1] 1530"
      ]
     },
     "metadata": {},
     "output_type": "display_data"
    },
    {
     "data": {
      "text/html": [
       "1530"
      ],
      "text/latex": [
       "1530"
      ],
      "text/markdown": [
       "1530"
      ],
      "text/plain": [
       "[1] 1530"
      ]
     },
     "metadata": {},
     "output_type": "display_data"
    },
    {
     "name": "stderr",
     "output_type": "stream",
     "text": [
      "Warning message:\n",
      "“Column `snp_id` joining factors with different levels, coercing to character vector”Warning message:\n",
      "“Column `feature_id` joining factors with different levels, coercing to character vector”"
     ]
    },
    {
     "data": {
      "text/html": [
       "1530"
      ],
      "text/latex": [
       "1530"
      ],
      "text/markdown": [
       "1530"
      ],
      "text/plain": [
       "[1] 1530"
      ]
     },
     "metadata": {},
     "output_type": "display_data"
    },
    {
     "data": {
      "text/html": [
       "733"
      ],
      "text/latex": [
       "733"
      ],
      "text/markdown": [
       "733"
      ],
      "text/plain": [
       "[1] 733"
      ]
     },
     "metadata": {},
     "output_type": "display_data"
    },
    {
     "data": {
      "text/html": [
       "767"
      ],
      "text/latex": [
       "767"
      ],
      "text/markdown": [
       "767"
      ],
      "text/plain": [
       "[1] 767"
      ]
     },
     "metadata": {},
     "output_type": "display_data"
    },
    {
     "name": "stderr",
     "output_type": "stream",
     "text": [
      "Warning message:\n",
      "“Column `snp_id` joining factors with different levels, coercing to character vector”Warning message:\n",
      "“Column `feature_id` joining factors with different levels, coercing to character vector”"
     ]
    },
    {
     "data": {
      "text/html": [
       "1524"
      ],
      "text/latex": [
       "1524"
      ],
      "text/markdown": [
       "1524"
      ],
      "text/plain": [
       "[1] 1524"
      ]
     },
     "metadata": {},
     "output_type": "display_data"
    },
    {
     "data": {
      "text/html": [
       "924"
      ],
      "text/latex": [
       "924"
      ],
      "text/markdown": [
       "924"
      ],
      "text/plain": [
       "[1] 924"
      ]
     },
     "metadata": {},
     "output_type": "display_data"
    },
    {
     "data": {
      "text/html": [
       "997"
      ],
      "text/latex": [
       "997"
      ],
      "text/markdown": [
       "997"
      ],
      "text/plain": [
       "[1] 997"
      ]
     },
     "metadata": {},
     "output_type": "display_data"
    }
   ],
   "source": [
    "length(unique(df0$feature_id))\n",
    "df1 = df0[df0$feature_id %in% G_file$gene,]\n",
    "length(unique(df1$feature_id))\n",
    "df1$q_value = qvalue(df1$empirical_feature_p_value)$qvalues\n",
    "length(unique(df1[df1$q_value < 0.05,'feature_id']))\n",
    "\n",
    "df3 = df1[df1$q_value < 0.05,]\n",
    "nrow(df3)\n",
    "\n",
    "df4 = inner_join(df3, res, by = c(\"snp_id\",\"feature_id\"), suffix = c(\".sc\",\".bulk\"))\n",
    "df4 <- df4[-which(duplicated(df4$feature_id)),]\n",
    "nrow(df4)\n",
    "\n",
    "nrow(df4[(df4$p_value.bulk < 0.05 & \n",
    "         (df4$beta.sc*df4$beta.bulk)>0),])\n",
    "nrow(df4[(df4$p_value.bulk < 0.05),])\n",
    "\n",
    "df5 = inner_join(df3, res_all, by = c(\"snp_id\",\"feature_id\"), suffix = c(\".sc\",\".bulk\"))\n",
    "df5 <- df5[-which(duplicated(df5$feature_id)),]\n",
    "nrow(df5)\n",
    "\n",
    "nrow(df5[(df5$p_value.bulk < 0.05 & \n",
    "         (df5$beta.sc*df5$beta.bulk)>0),])\n",
    "nrow(df5[(df5$p_value.bulk < 0.05),])"
   ]
  },
  {
   "cell_type": "code",
   "execution_count": 31,
   "metadata": {},
   "outputs": [],
   "source": [
    "##### Sum\n",
    "\n",
    "sum_folder = \"/hps/nobackup/hipsci/scratch/ComparingQtlMapping/SingleCell/PseudoBulk/sum/\"\n",
    "\n",
    "my_folder = paste0(sum_folder,\"Run_Output_PCA20_88_log_TPM_edgeR_libsize_206/\") # edgeR, 20PCs"
   ]
  },
  {
   "cell_type": "code",
   "execution_count": 34,
   "metadata": {},
   "outputs": [],
   "source": [
    "df0 = read.csv(paste0(my_folder,\"top_qtl_results_all.txt\"), sep = \"\\t\")\n",
    "df0 <- df0[-which(duplicated(df0$feature_id)),]"
   ]
  },
  {
   "cell_type": "code",
   "execution_count": 35,
   "metadata": {},
   "outputs": [
    {
     "data": {
      "text/html": [
       "50427"
      ],
      "text/latex": [
       "50427"
      ],
      "text/markdown": [
       "50427"
      ],
      "text/plain": [
       "[1] 50427"
      ]
     },
     "metadata": {},
     "output_type": "display_data"
    },
    {
     "data": {
      "text/html": [
       "20545"
      ],
      "text/latex": [
       "20545"
      ],
      "text/markdown": [
       "20545"
      ],
      "text/plain": [
       "[1] 20545"
      ]
     },
     "metadata": {},
     "output_type": "display_data"
    },
    {
     "data": {
      "text/html": [
       "1598"
      ],
      "text/latex": [
       "1598"
      ],
      "text/markdown": [
       "1598"
      ],
      "text/plain": [
       "[1] 1598"
      ]
     },
     "metadata": {},
     "output_type": "display_data"
    },
    {
     "data": {
      "text/html": [
       "1598"
      ],
      "text/latex": [
       "1598"
      ],
      "text/markdown": [
       "1598"
      ],
      "text/plain": [
       "[1] 1598"
      ]
     },
     "metadata": {},
     "output_type": "display_data"
    }
   ],
   "source": [
    "length(unique(df0$feature_id))\n",
    "df1 = df0[df0$feature_id %in% G_file$gene,]\n",
    "length(unique(df1$feature_id))\n",
    "df1$q_value = qvalue(df1$empirical_feature_p_value)$qvalues\n",
    "length(unique(df1[df1$q_value < 0.05,'feature_id']))\n",
    "\n",
    "df3 = df1[df1$q_value < 0.05,]\n",
    "nrow(df3)"
   ]
  },
  {
   "cell_type": "code",
   "execution_count": 36,
   "metadata": {},
   "outputs": [
    {
     "name": "stderr",
     "output_type": "stream",
     "text": [
      "Warning message:\n",
      "“Column `snp_id` joining factors with different levels, coercing to character vector”Warning message:\n",
      "“Column `feature_id` joining factors with different levels, coercing to character vector”"
     ]
    },
    {
     "data": {
      "text/html": [
       "1581"
      ],
      "text/latex": [
       "1581"
      ],
      "text/markdown": [
       "1581"
      ],
      "text/plain": [
       "[1] 1581"
      ]
     },
     "metadata": {},
     "output_type": "display_data"
    },
    {
     "data": {
      "text/html": [
       "1022"
      ],
      "text/latex": [
       "1022"
      ],
      "text/markdown": [
       "1022"
      ],
      "text/plain": [
       "[1] 1022"
      ]
     },
     "metadata": {},
     "output_type": "display_data"
    },
    {
     "data": {
      "text/html": [
       "1051"
      ],
      "text/latex": [
       "1051"
      ],
      "text/markdown": [
       "1051"
      ],
      "text/plain": [
       "[1] 1051"
      ]
     },
     "metadata": {},
     "output_type": "display_data"
    }
   ],
   "source": [
    "df4 = inner_join(df3, res, by = c(\"snp_id\",\"feature_id\"), suffix = c(\".sc\",\".bulk\"))\n",
    "df4 <- df4[-which(duplicated(df4$feature_id)),]\n",
    "nrow(df4)\n",
    "\n",
    "nrow(df4[(df4$p_value.bulk < 0.05 & \n",
    "         (df4$beta.sc*df4$beta.bulk)>0),])\n",
    "nrow(df4[(df4$p_value.bulk < 0.05),])"
   ]
  },
  {
   "cell_type": "code",
   "execution_count": 37,
   "metadata": {},
   "outputs": [
    {
     "name": "stderr",
     "output_type": "stream",
     "text": [
      "Warning message:\n",
      "“Column `snp_id` joining factors with different levels, coercing to character vector”Warning message:\n",
      "“Column `feature_id` joining factors with different levels, coercing to character vector”"
     ]
    },
    {
     "data": {
      "text/html": [
       "1584"
      ],
      "text/latex": [
       "1584"
      ],
      "text/markdown": [
       "1584"
      ],
      "text/plain": [
       "[1] 1584"
      ]
     },
     "metadata": {},
     "output_type": "display_data"
    },
    {
     "data": {
      "text/html": [
       "1195"
      ],
      "text/latex": [
       "1195"
      ],
      "text/markdown": [
       "1195"
      ],
      "text/plain": [
       "[1] 1195"
      ]
     },
     "metadata": {},
     "output_type": "display_data"
    },
    {
     "data": {
      "text/html": [
       "1261"
      ],
      "text/latex": [
       "1261"
      ],
      "text/markdown": [
       "1261"
      ],
      "text/plain": [
       "[1] 1261"
      ]
     },
     "metadata": {},
     "output_type": "display_data"
    }
   ],
   "source": [
    "df5 = inner_join(df3, res_all, by = c(\"snp_id\",\"feature_id\"), suffix = c(\".sc\",\".bulk\"))\n",
    "df5 <- df5[-which(duplicated(df5$feature_id)),]\n",
    "nrow(df5)\n",
    "\n",
    "nrow(df5[(df5$p_value.bulk < 0.05 & \n",
    "         (df5$beta.sc*df5$beta.bulk)>0),])\n",
    "nrow(df5[(df5$p_value.bulk < 0.05),])"
   ]
  },
  {
   "cell_type": "code",
   "execution_count": null,
   "metadata": {},
   "outputs": [],
   "source": []
  },
  {
   "cell_type": "code",
   "execution_count": null,
   "metadata": {},
   "outputs": [],
   "source": []
  },
  {
   "cell_type": "code",
   "execution_count": 38,
   "metadata": {},
   "outputs": [],
   "source": [
    "##### Total Sum"
   ]
  },
  {
   "cell_type": "code",
   "execution_count": 39,
   "metadata": {},
   "outputs": [],
   "source": [
    "total_sum_folder = \"/hps/nobackup/hipsci/scratch/ComparingQtlMapping/SingleCell/PseudoBulk/totsum/\""
   ]
  },
  {
   "cell_type": "code",
   "execution_count": 40,
   "metadata": {},
   "outputs": [],
   "source": [
    "my_folder = paste0(total_sum_folder,\"Run_Output_PCA20_88_log_TPM_edgeR_libsize_206/\") # edgeR, 20PCs"
   ]
  },
  {
   "cell_type": "code",
   "execution_count": 41,
   "metadata": {},
   "outputs": [
    {
     "data": {
      "text/html": [
       "50429"
      ],
      "text/latex": [
       "50429"
      ],
      "text/markdown": [
       "50429"
      ],
      "text/plain": [
       "[1] 50429"
      ]
     },
     "metadata": {},
     "output_type": "display_data"
    }
   ],
   "source": [
    "df = read.csv(paste0(my_folder,\"qtl_results_all.txt\"), sep = \"\\t\")\n",
    "df <- df[order(df$empirical_feature_p_value, df$p_value ),]\n",
    "df0 <- df[-which(duplicated(df$feature_id)),]\n",
    "# nrow(df0)\n",
    "length(unique(df0$feature_id))"
   ]
  },
  {
   "cell_type": "code",
   "execution_count": 42,
   "metadata": {},
   "outputs": [
    {
     "data": {
      "text/html": [
       "50429"
      ],
      "text/latex": [
       "50429"
      ],
      "text/markdown": [
       "50429"
      ],
      "text/plain": [
       "[1] 50429"
      ]
     },
     "metadata": {},
     "output_type": "display_data"
    },
    {
     "data": {
      "text/html": [
       "20545"
      ],
      "text/latex": [
       "20545"
      ],
      "text/markdown": [
       "20545"
      ],
      "text/plain": [
       "[1] 20545"
      ]
     },
     "metadata": {},
     "output_type": "display_data"
    },
    {
     "data": {
      "text/html": [
       "1291"
      ],
      "text/latex": [
       "1291"
      ],
      "text/markdown": [
       "1291"
      ],
      "text/plain": [
       "[1] 1291"
      ]
     },
     "metadata": {},
     "output_type": "display_data"
    },
    {
     "data": {
      "text/html": [
       "1291"
      ],
      "text/latex": [
       "1291"
      ],
      "text/markdown": [
       "1291"
      ],
      "text/plain": [
       "[1] 1291"
      ]
     },
     "metadata": {},
     "output_type": "display_data"
    },
    {
     "name": "stderr",
     "output_type": "stream",
     "text": [
      "Warning message:\n",
      "“Column `snp_id` joining factors with different levels, coercing to character vector”Warning message:\n",
      "“Column `feature_id` joining factors with different levels, coercing to character vector”"
     ]
    },
    {
     "data": {
      "text/html": [
       "1283"
      ],
      "text/latex": [
       "1283"
      ],
      "text/markdown": [
       "1283"
      ],
      "text/plain": [
       "[1] 1283"
      ]
     },
     "metadata": {},
     "output_type": "display_data"
    },
    {
     "data": {
      "text/html": [
       "846"
      ],
      "text/latex": [
       "846"
      ],
      "text/markdown": [
       "846"
      ],
      "text/plain": [
       "[1] 846"
      ]
     },
     "metadata": {},
     "output_type": "display_data"
    },
    {
     "data": {
      "text/html": [
       "874"
      ],
      "text/latex": [
       "874"
      ],
      "text/markdown": [
       "874"
      ],
      "text/plain": [
       "[1] 874"
      ]
     },
     "metadata": {},
     "output_type": "display_data"
    },
    {
     "name": "stderr",
     "output_type": "stream",
     "text": [
      "Warning message:\n",
      "“Column `snp_id` joining factors with different levels, coercing to character vector”Warning message:\n",
      "“Column `feature_id` joining factors with different levels, coercing to character vector”"
     ]
    },
    {
     "data": {
      "text/html": [
       "1286"
      ],
      "text/latex": [
       "1286"
      ],
      "text/markdown": [
       "1286"
      ],
      "text/plain": [
       "[1] 1286"
      ]
     },
     "metadata": {},
     "output_type": "display_data"
    },
    {
     "data": {
      "text/html": [
       "982"
      ],
      "text/latex": [
       "982"
      ],
      "text/markdown": [
       "982"
      ],
      "text/plain": [
       "[1] 982"
      ]
     },
     "metadata": {},
     "output_type": "display_data"
    },
    {
     "data": {
      "text/html": [
       "1049"
      ],
      "text/latex": [
       "1049"
      ],
      "text/markdown": [
       "1049"
      ],
      "text/plain": [
       "[1] 1049"
      ]
     },
     "metadata": {},
     "output_type": "display_data"
    }
   ],
   "source": [
    "length(unique(df0$feature_id))\n",
    "df1 = df0[df0$feature_id %in% G_file$gene,]\n",
    "length(unique(df1$feature_id))\n",
    "df1$q_value = qvalue(df1$empirical_feature_p_value)$qvalues\n",
    "length(unique(df1[df1$q_value < 0.05,'feature_id']))\n",
    "\n",
    "df3 = df1[df1$q_value < 0.05,]\n",
    "nrow(df3)\n",
    "\n",
    "df4 = inner_join(df3, res, by = c(\"snp_id\",\"feature_id\"), suffix = c(\".sc\",\".bulk\"))\n",
    "df4 <- df4[-which(duplicated(df4$feature_id)),]\n",
    "nrow(df4)\n",
    "\n",
    "nrow(df4[(df4$p_value.bulk < 0.05 & \n",
    "         (df4$beta.sc*df4$beta.bulk)>0),])\n",
    "nrow(df4[(df4$p_value.bulk < 0.05),])\n",
    "\n",
    "df5 = inner_join(df3, res_all, by = c(\"snp_id\",\"feature_id\"), suffix = c(\".sc\",\".bulk\"))\n",
    "df5 <- df5[-which(duplicated(df5$feature_id)),]\n",
    "nrow(df5)\n",
    "\n",
    "nrow(df5[(df5$p_value.bulk < 0.05 & \n",
    "         (df5$beta.sc*df5$beta.bulk)>0),])\n",
    "nrow(df5[(df5$p_value.bulk < 0.05),])"
   ]
  },
  {
   "cell_type": "code",
   "execution_count": null,
   "metadata": {},
   "outputs": [],
   "source": []
  },
  {
   "cell_type": "code",
   "execution_count": null,
   "metadata": {},
   "outputs": [],
   "source": []
  },
  {
   "cell_type": "code",
   "execution_count": null,
   "metadata": {},
   "outputs": [],
   "source": []
  },
  {
   "cell_type": "code",
   "execution_count": null,
   "metadata": {},
   "outputs": [],
   "source": []
  },
  {
   "cell_type": "code",
   "execution_count": null,
   "metadata": {},
   "outputs": [],
   "source": []
  },
  {
   "cell_type": "code",
   "execution_count": 455,
   "metadata": {},
   "outputs": [],
   "source": [
    "my_folder = paste0(mean_folder,\"Run_Output_PCA20_88_log_TPM_scater_libsize_206/\") # scran, 20PCs\n",
    "my_folder = paste0(mean_folder,\"Run_Output_PCA20_88_log_TPM_scater_libsize_206_baynorm/\") # baynorm, 20PCs"
   ]
  },
  {
   "cell_type": "code",
   "execution_count": 456,
   "metadata": {},
   "outputs": [],
   "source": [
    "df0 = read.csv(paste0(my_folder,\"top_qtl_results_all.txt\"), sep = \"\\t\")\n",
    "df0 <- df0[-which(duplicated(df0$feature_id)),]"
   ]
  },
  {
   "cell_type": "code",
   "execution_count": 457,
   "metadata": {},
   "outputs": [
    {
     "data": {
      "text/html": [
       "48570"
      ],
      "text/latex": [
       "48570"
      ],
      "text/markdown": [
       "48570"
      ],
      "text/plain": [
       "[1] 48570"
      ]
     },
     "metadata": {},
     "output_type": "display_data"
    },
    {
     "data": {
      "text/html": [
       "19876"
      ],
      "text/latex": [
       "19876"
      ],
      "text/markdown": [
       "19876"
      ],
      "text/plain": [
       "[1] 19876"
      ]
     },
     "metadata": {},
     "output_type": "display_data"
    },
    {
     "data": {
      "text/html": [
       "1955"
      ],
      "text/latex": [
       "1955"
      ],
      "text/markdown": [
       "1955"
      ],
      "text/plain": [
       "[1] 1955"
      ]
     },
     "metadata": {},
     "output_type": "display_data"
    },
    {
     "data": {
      "text/html": [
       "10408"
      ],
      "text/latex": [
       "10408"
      ],
      "text/markdown": [
       "10408"
      ],
      "text/plain": [
       "[1] 10408"
      ]
     },
     "metadata": {},
     "output_type": "display_data"
    },
    {
     "data": {
      "text/html": [
       "1346"
      ],
      "text/latex": [
       "1346"
      ],
      "text/markdown": [
       "1346"
      ],
      "text/plain": [
       "[1] 1346"
      ]
     },
     "metadata": {},
     "output_type": "display_data"
    }
   ],
   "source": [
    "df0 = df0[df0$feature_id %in% common_genes,]\n",
    "length(unique(df0$feature_id))\n",
    "df1 = df0[df0$feature_id %in% G_file$gene,]\n",
    "length(unique(df1$feature_id))\n",
    "df1$BH_fdr = p.adjust(df1$empirical_feature_p_value, method = \"BH\")\n",
    "length(unique(df1[df1$BH_fdr < 0.05,'feature_id']))\n",
    "df2 = df0[df0$feature_id %in% A_file$gene,]\n",
    "length(unique(df2$feature_id))\n",
    "df2$BH_fdr = p.adjust(df2$empirical_feature_p_value, method = \"BH\")\n",
    "length(unique(df2[df2$BH_fdr < 0.05,'feature_id']))"
   ]
  },
  {
   "cell_type": "code",
   "execution_count": 326,
   "metadata": {
    "scrolled": true
   },
   "outputs": [
    {
     "data": {
      "text/html": [
       "50429"
      ],
      "text/latex": [
       "50429"
      ],
      "text/markdown": [
       "50429"
      ],
      "text/plain": [
       "[1] 50429"
      ]
     },
     "metadata": {},
     "output_type": "display_data"
    }
   ],
   "source": [
    "# df0 = read.csv(paste0(my_folder,\"top_qtl_results_all.txt\"), sep = \"\\t\")\n",
    "totsum_genes = unique(df0$feature_id)\n",
    "length(totsum_genes)"
   ]
  },
  {
   "cell_type": "code",
   "execution_count": 448,
   "metadata": {},
   "outputs": [
    {
     "data": {
      "text/html": [
       "48579"
      ],
      "text/latex": [
       "48579"
      ],
      "text/markdown": [
       "48579"
      ],
      "text/plain": [
       "[1] 48579"
      ]
     },
     "metadata": {},
     "output_type": "display_data"
    },
    {
     "data": {
      "text/html": [
       "48570"
      ],
      "text/latex": [
       "48570"
      ],
      "text/markdown": [
       "48570"
      ],
      "text/plain": [
       "[1] 48570"
      ]
     },
     "metadata": {},
     "output_type": "display_data"
    },
    {
     "data": {
      "text/html": [
       "48570"
      ],
      "text/latex": [
       "48570"
      ],
      "text/markdown": [
       "48570"
      ],
      "text/plain": [
       "[1] 48570"
      ]
     },
     "metadata": {},
     "output_type": "display_data"
    },
    {
     "data": {
      "text/html": [
       "13177"
      ],
      "text/latex": [
       "13177"
      ],
      "text/markdown": [
       "13177"
      ],
      "text/plain": [
       "[1] 13177"
      ]
     },
     "metadata": {},
     "output_type": "display_data"
    }
   ],
   "source": [
    "genes0 = mean_genes[mean_genes %in% totmean_genes]\n",
    "length(genes0)\n",
    "genes1 = genes0[genes0 %in% sum_genes]\n",
    "length(genes1)\n",
    "genes2 = genes1[genes1 %in% totsum_genes]\n",
    "length(genes2)\n",
    "common_genes = genes2\n",
    "genes3 = genes2[genes2 %in% median_genes]\n",
    "length(genes3)\n",
    "# common_genes = genes3"
   ]
  },
  {
   "cell_type": "code",
   "execution_count": 436,
   "metadata": {},
   "outputs": [
    {
     "data": {
      "text/html": [
       "13177"
      ],
      "text/latex": [
       "13177"
      ],
      "text/markdown": [
       "13177"
      ],
      "text/plain": [
       "[1] 13177"
      ]
     },
     "metadata": {},
     "output_type": "display_data"
    },
    {
     "data": {
      "text/html": [
       "13117"
      ],
      "text/latex": [
       "13117"
      ],
      "text/markdown": [
       "13117"
      ],
      "text/plain": [
       "[1] 13117"
      ]
     },
     "metadata": {},
     "output_type": "display_data"
    },
    {
     "data": {
      "text/html": [
       "9886"
      ],
      "text/latex": [
       "9886"
      ],
      "text/markdown": [
       "9886"
      ],
      "text/plain": [
       "[1] 9886"
      ]
     },
     "metadata": {},
     "output_type": "display_data"
    }
   ],
   "source": [
    "length(common_genes)\n",
    "length(common_genes[common_genes %in% G_file$gene])\n",
    "length(common_genes[common_genes %in% A_file$gene])"
   ]
  },
  {
   "cell_type": "code",
   "execution_count": 426,
   "metadata": {},
   "outputs": [
    {
     "data": {
      "text/html": [
       "48570"
      ],
      "text/latex": [
       "48570"
      ],
      "text/markdown": [
       "48570"
      ],
      "text/plain": [
       "[1] 48570"
      ]
     },
     "metadata": {},
     "output_type": "display_data"
    }
   ],
   "source": [
    "# df0 = read.csv(paste0(my_folder,\"top_qtl_results_all.txt\"), sep = \"\\t\")\n",
    "df0 = df0[df0$feature_id %in% common_genes,]\n",
    "length(unique(df0$feature_id))"
   ]
  },
  {
   "cell_type": "code",
   "execution_count": 427,
   "metadata": {},
   "outputs": [],
   "source": [
    "# df = read.csv(paste0(my_folder,\"qtl_results_all.txt\"), sep = \"\\t\")\n",
    "# df <- df[order(df$empirical_feature_p_value, df$p_value ),]\n",
    "# df0 <- df[-which(duplicated(df$feature_id)),]\n",
    "# nrow(df0)"
   ]
  },
  {
   "cell_type": "code",
   "execution_count": 428,
   "metadata": {},
   "outputs": [],
   "source": [
    "# totsum_genes = df0$feature_id"
   ]
  },
  {
   "cell_type": "code",
   "execution_count": 429,
   "metadata": {},
   "outputs": [],
   "source": [
    "# length(totmean_genes)\n",
    "# length(totmean_genes[totmean_genes %in% common_genes])"
   ]
  },
  {
   "cell_type": "code",
   "execution_count": 430,
   "metadata": {},
   "outputs": [
    {
     "data": {
      "text/html": [
       "19876"
      ],
      "text/latex": [
       "19876"
      ],
      "text/markdown": [
       "19876"
      ],
      "text/plain": [
       "[1] 19876"
      ]
     },
     "metadata": {},
     "output_type": "display_data"
    }
   ],
   "source": [
    "df1 = df0[df0$feature_id %in% G_file$gene,]\n",
    "length(unique(df1$feature_id))"
   ]
  },
  {
   "cell_type": "code",
   "execution_count": 431,
   "metadata": {},
   "outputs": [
    {
     "data": {
      "text/html": [
       "1433"
      ],
      "text/latex": [
       "1433"
      ],
      "text/markdown": [
       "1433"
      ],
      "text/plain": [
       "[1] 1433"
      ]
     },
     "metadata": {},
     "output_type": "display_data"
    }
   ],
   "source": [
    "df1$BH_fdr = p.adjust(df1$empirical_feature_p_value, method = \"BH\")\n",
    "length(unique(df1[df1$BH_fdr < 0.05,'feature_id']))\n",
    "# c(nrow(df1[df1$BH_fdr < 0.05,]), nrow(df1[df1$BH_fdr < 0.05,])/nrow(df1))"
   ]
  },
  {
   "cell_type": "code",
   "execution_count": 432,
   "metadata": {},
   "outputs": [
    {
     "data": {
      "text/html": [
       "10408"
      ],
      "text/latex": [
       "10408"
      ],
      "text/markdown": [
       "10408"
      ],
      "text/plain": [
       "[1] 10408"
      ]
     },
     "metadata": {},
     "output_type": "display_data"
    }
   ],
   "source": [
    "df2 = df0[df0$feature_id %in% A_file$gene,]\n",
    "length(unique(df2$feature_id))"
   ]
  },
  {
   "cell_type": "code",
   "execution_count": 433,
   "metadata": {},
   "outputs": [
    {
     "data": {
      "text/html": [
       "1045"
      ],
      "text/latex": [
       "1045"
      ],
      "text/markdown": [
       "1045"
      ],
      "text/plain": [
       "[1] 1045"
      ]
     },
     "metadata": {},
     "output_type": "display_data"
    }
   ],
   "source": [
    "df2$BH_fdr = p.adjust(df2$empirical_feature_p_value, method = \"BH\")\n",
    "length(unique(df2[df2$BH_fdr < 0.05,'feature_id']))\n",
    "# c(nrow(df2[df2$BH_fdr < 0.05,]), nrow(df2[df2$BH_fdr < 0.05,])/nrow(df2))"
   ]
  },
  {
   "cell_type": "code",
   "execution_count": null,
   "metadata": {},
   "outputs": [],
   "source": []
  },
  {
   "cell_type": "code",
   "execution_count": null,
   "metadata": {},
   "outputs": [],
   "source": []
  }
 ],
 "metadata": {
  "kernelspec": {
   "display_name": "R",
   "language": "R",
   "name": "ir"
  },
  "language_info": {
   "codemirror_mode": "r",
   "file_extension": ".r",
   "mimetype": "text/x-r-source",
   "name": "R",
   "pygments_lexer": "r",
   "version": "3.6.1"
  }
 },
 "nbformat": 4,
 "nbformat_minor": 4
}
