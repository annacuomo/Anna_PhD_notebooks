{
 "cells": [
  {
   "cell_type": "code",
   "execution_count": 10,
   "metadata": {},
   "outputs": [],
   "source": [
    "library(qvalue)\n",
    "library(dplyr)\n",
    "library(ggplot2)"
   ]
  },
  {
   "cell_type": "code",
   "execution_count": 2,
   "metadata": {},
   "outputs": [
    {
     "data": {
      "text/html": [
       "21592"
      ],
      "text/latex": [
       "21592"
      ],
      "text/markdown": [
       "21592"
      ],
      "text/plain": [
       "[1] 21592"
      ]
     },
     "metadata": {},
     "output_type": "display_data"
    },
    {
     "data": {
      "text/html": [
       "<table>\n",
       "<thead><tr><th></th><th scope=col>gene</th><th scope=col>mean</th><th scope=col>std</th><th scope=col>CV</th><th scope=col>quartile_cv</th></tr></thead>\n",
       "<tbody>\n",
       "\t<tr><th scope=row>2</th><td>ENSG00000227232</td><td>3.1805905      </td><td>3.6232403      </td><td>1.139172       </td><td>2              </td></tr>\n",
       "\t<tr><th scope=row>3</th><td>ENSG00000243485</td><td>0.2003178      </td><td>0.8649483      </td><td>4.317881       </td><td>3              </td></tr>\n",
       "</tbody>\n",
       "</table>\n"
      ],
      "text/latex": [
       "\\begin{tabular}{r|lllll}\n",
       "  & gene & mean & std & CV & quartile\\_cv\\\\\n",
       "\\hline\n",
       "\t2 & ENSG00000227232 & 3.1805905       & 3.6232403       & 1.139172        & 2              \\\\\n",
       "\t3 & ENSG00000243485 & 0.2003178       & 0.8649483       & 4.317881        & 3              \\\\\n",
       "\\end{tabular}\n"
      ],
      "text/markdown": [
       "\n",
       "| <!--/--> | gene | mean | std | CV | quartile_cv |\n",
       "|---|---|---|---|---|---|\n",
       "| 2 | ENSG00000227232 | 3.1805905       | 3.6232403       | 1.139172        | 2               |\n",
       "| 3 | ENSG00000243485 | 0.2003178       | 0.8649483       | 4.317881        | 3               |\n",
       "\n"
      ],
      "text/plain": [
       "  gene            mean      std       CV       quartile_cv\n",
       "2 ENSG00000227232 3.1805905 3.6232403 1.139172 2          \n",
       "3 ENSG00000243485 0.2003178 0.8649483 4.317881 3          "
      ]
     },
     "metadata": {},
     "output_type": "display_data"
    }
   ],
   "source": [
    "Giordanos_selection = \"/hps/nobackup/stegle/users/galvari/data/iPSCs/singleCell/metadata/ensembl_gene/Ensembl_75_Gene_CV_quant5.txt\"\n",
    "G_file = read.csv(Giordanos_selection, sep = \"\\t\")\n",
    "nrow(G_file)\n",
    "head(G_file,2)"
   ]
  },
  {
   "cell_type": "code",
   "execution_count": 7,
   "metadata": {},
   "outputs": [
    {
     "data": {
      "text/html": [
       "20335"
      ],
      "text/latex": [
       "20335"
      ],
      "text/markdown": [
       "20335"
      ],
      "text/plain": [
       "[1] 20335"
      ]
     },
     "metadata": {},
     "output_type": "display_data"
    }
   ],
   "source": [
    "df_common_genes = read.csv(\"/hps/nobackup/stegle/users/acuomo/all_scripts/sc_eqtl/common_genes_across_all_aggregation_methods_and_bulk_except_median_Giordanos_selection.csv\")\n",
    "common_genes = as.character(df_common_genes$gene)\n",
    "length(common_genes)"
   ]
  },
  {
   "cell_type": "code",
   "execution_count": null,
   "metadata": {},
   "outputs": [],
   "source": []
  },
  {
   "cell_type": "code",
   "execution_count": 1,
   "metadata": {},
   "outputs": [],
   "source": [
    "bulk_matched_folder = \"/hps/nobackup/hipsci/scratch/ComparingQtlMapping/Bulk/BulkDay0Healthy_PCA20_88_206/\""
   ]
  },
  {
   "cell_type": "code",
   "execution_count": 2,
   "metadata": {},
   "outputs": [
    {
     "data": {
      "text/html": [
       "16691457"
      ],
      "text/latex": [
       "16691457"
      ],
      "text/markdown": [
       "16691457"
      ],
      "text/plain": [
       "[1] 16691457"
      ]
     },
     "metadata": {},
     "output_type": "display_data"
    }
   ],
   "source": [
    "res = read.csv(paste0(bulk_matched_folder,\"qtl_results_all.txt\"), sep = \"\\t\")\n",
    "nrow(res)"
   ]
  },
  {
   "cell_type": "code",
   "execution_count": 3,
   "metadata": {},
   "outputs": [],
   "source": [
    "bulk_folder = \"/hps/nobackup/hipsci/scratch/ComparingQtlMapping/Bulk/BulkTotal_PCA20/\""
   ]
  },
  {
   "cell_type": "code",
   "execution_count": 4,
   "metadata": {},
   "outputs": [
    {
     "data": {
      "text/html": [
       "18974762"
      ],
      "text/latex": [
       "18974762"
      ],
      "text/markdown": [
       "18974762"
      ],
      "text/plain": [
       "[1] 18974762"
      ]
     },
     "metadata": {},
     "output_type": "display_data"
    }
   ],
   "source": [
    "res_all = read.csv(paste0(bulk_folder,\"qtl_results_all.txt\"), sep = \"\\t\")\n",
    "nrow(res_all)"
   ]
  },
  {
   "cell_type": "code",
   "execution_count": 11,
   "metadata": {},
   "outputs": [
    {
     "data": {
      "text/html": [
       "43103"
      ],
      "text/latex": [
       "43103"
      ],
      "text/markdown": [
       "43103"
      ],
      "text/plain": [
       "[1] 43103"
      ]
     },
     "metadata": {},
     "output_type": "display_data"
    }
   ],
   "source": [
    "leads = read.csv(paste0(bulk_matched_folder,\"top_qtl_results_all.txt\"), sep = \"\\t\")\n",
    "nrow(leads)"
   ]
  },
  {
   "cell_type": "code",
   "execution_count": 25,
   "metadata": {},
   "outputs": [
    {
     "data": {
      "text/html": [
       "42791"
      ],
      "text/latex": [
       "42791"
      ],
      "text/markdown": [
       "42791"
      ],
      "text/plain": [
       "[1] 42791"
      ]
     },
     "metadata": {},
     "output_type": "display_data"
    },
    {
     "data": {
      "text/html": [
       "20335"
      ],
      "text/latex": [
       "20335"
      ],
      "text/markdown": [
       "20335"
      ],
      "text/plain": [
       "[1] 20335"
      ]
     },
     "metadata": {},
     "output_type": "display_data"
    },
    {
     "data": {
      "text/html": [
       "3517"
      ],
      "text/latex": [
       "3517"
      ],
      "text/markdown": [
       "3517"
      ],
      "text/plain": [
       "[1] 3517"
      ]
     },
     "metadata": {},
     "output_type": "display_data"
    }
   ],
   "source": [
    "df0 = leads\n",
    "df0 <- df0[-which(duplicated(df0$feature_id)),]\n",
    "length(unique(df0$feature_id))\n",
    "# df1 = df0[df0$feature_id %in% G_file$gene,]\n",
    "df1 = df0[df0$feature_id %in% common_genes,]\n",
    "length(unique(df1$feature_id))\n",
    "# df1$BH_fdr = p.adjust(df1$empirical_feature_p_value, method = 'BH')\n",
    "# length(unique(df1[df1$BH_fdr < 0.05,'feature_id']))\n",
    "df1$q_value = qvalue(df1$empirical_feature_p_value)$qvalues\n",
    "length(unique(df1[df1$q_value < 0.05,'feature_id']))"
   ]
  },
  {
   "cell_type": "code",
   "execution_count": 26,
   "metadata": {},
   "outputs": [
    {
     "data": {
      "text/html": [
       "0.0999472110295021"
      ],
      "text/latex": [
       "0.0999472110295021"
      ],
      "text/markdown": [
       "0.0999472110295021"
      ],
      "text/plain": [
       "[1] 0.09994721"
      ]
     },
     "metadata": {},
     "output_type": "display_data"
    },
    {
     "data": {
      "text/html": [
       "0.0441840318625788"
      ],
      "text/latex": [
       "0.0441840318625788"
      ],
      "text/markdown": [
       "0.0441840318625788"
      ],
      "text/plain": [
       "[1] 0.04418403"
      ]
     },
     "metadata": {},
     "output_type": "display_data"
    }
   ],
   "source": [
    "max_qval = max(df1[df1$q_value < 0.1,'q_value'])\n",
    "max_qval\n",
    "emp_pv_star_matched = max(df1[df1$q_value==max_qval,\"empirical_feature_p_value\"])\n",
    "emp_pv_star_matched"
   ]
  },
  {
   "cell_type": "code",
   "execution_count": 27,
   "metadata": {},
   "outputs": [
    {
     "name": "stderr",
     "output_type": "stream",
     "text": [
      "Warning message:\n",
      "“Column `snp_id` joining factors with different levels, coercing to character vector”Warning message:\n",
      "“Column `feature_id` joining factors with different levels, coercing to character vector”"
     ]
    },
    {
     "data": {
      "text/html": [
       "3499"
      ],
      "text/latex": [
       "3499"
      ],
      "text/markdown": [
       "3499"
      ],
      "text/plain": [
       "[1] 3499"
      ]
     },
     "metadata": {},
     "output_type": "display_data"
    },
    {
     "data": {
      "text/html": [
       "3307"
      ],
      "text/latex": [
       "3307"
      ],
      "text/markdown": [
       "3307"
      ],
      "text/plain": [
       "[1] 3307"
      ]
     },
     "metadata": {},
     "output_type": "display_data"
    },
    {
     "data": {
      "text/html": [
       "3307"
      ],
      "text/latex": [
       "3307"
      ],
      "text/markdown": [
       "3307"
      ],
      "text/plain": [
       "[1] 3307"
      ]
     },
     "metadata": {},
     "output_type": "display_data"
    }
   ],
   "source": [
    "df3 = df1[df1$q_value < 0.05,]\n",
    "df5 = inner_join(df3, res_all, by = c(\"snp_id\",\"feature_id\"), suffix = c(\".sc\",\".bulk\"))\n",
    "df5 <- df5[-which(duplicated(df5$feature_id)),]\n",
    "nrow(df5)\n",
    "\n",
    "nrow(df5[(df5$empirical_feature_p_value.bulk < emp_pv_star_all & \n",
    "         (df5$beta.sc*df5$beta.bulk)>0),])\n",
    "nrow(df5[df5$empirical_feature_p_value.bulk < emp_pv_star_all,])"
   ]
  },
  {
   "cell_type": "code",
   "execution_count": 15,
   "metadata": {},
   "outputs": [
    {
     "data": {
      "text/html": [
       "49916"
      ],
      "text/latex": [
       "49916"
      ],
      "text/markdown": [
       "49916"
      ],
      "text/plain": [
       "[1] 49916"
      ]
     },
     "metadata": {},
     "output_type": "display_data"
    }
   ],
   "source": [
    "leads_all = read.csv(paste0(bulk_folder,\"top_qtl_results_all.txt\"), sep = \"\\t\")\n",
    "nrow(leads_all)"
   ]
  },
  {
   "cell_type": "code",
   "execution_count": 16,
   "metadata": {},
   "outputs": [
    {
     "data": {
      "text/html": [
       "49554"
      ],
      "text/latex": [
       "49554"
      ],
      "text/markdown": [
       "49554"
      ],
      "text/plain": [
       "[1] 49554"
      ]
     },
     "metadata": {},
     "output_type": "display_data"
    },
    {
     "data": {
      "text/html": [
       "20334"
      ],
      "text/latex": [
       "20334"
      ],
      "text/markdown": [
       "20334"
      ],
      "text/plain": [
       "[1] 20334"
      ]
     },
     "metadata": {},
     "output_type": "display_data"
    },
    {
     "data": {
      "text/html": [
       "13959"
      ],
      "text/latex": [
       "13959"
      ],
      "text/markdown": [
       "13959"
      ],
      "text/plain": [
       "[1] 13959"
      ]
     },
     "metadata": {},
     "output_type": "display_data"
    }
   ],
   "source": [
    "df0 = leads_all\n",
    "df0 <- df0[-which(duplicated(df0$feature_id)),]\n",
    "length(unique(df0$feature_id))\n",
    "# df1 = df0[df0$feature_id %in% G_file$gene,]\n",
    "df1 = df0[df0$feature_id %in% common_genes,]\n",
    "length(unique(df1$feature_id))\n",
    "df1$q_value = qvalue(df1$empirical_feature_p_value)$qvalues\n",
    "length(unique(df1[df1$q_value < 0.05,'feature_id']))"
   ]
  },
  {
   "cell_type": "code",
   "execution_count": 17,
   "metadata": {},
   "outputs": [
    {
     "data": {
      "text/html": [
       "0.0999984428737003"
      ],
      "text/latex": [
       "0.0999984428737003"
      ],
      "text/markdown": [
       "0.0999984428737003"
      ],
      "text/plain": [
       "[1] 0.09999844"
      ]
     },
     "metadata": {},
     "output_type": "display_data"
    },
    {
     "data": {
      "text/html": [
       "0.342893924996598"
      ],
      "text/latex": [
       "0.342893924996598"
      ],
      "text/markdown": [
       "0.342893924996598"
      ],
      "text/plain": [
       "[1] 0.3428939"
      ]
     },
     "metadata": {},
     "output_type": "display_data"
    }
   ],
   "source": [
    "max_qval = max(df1[df1$q_value < 0.1,'q_value'])\n",
    "max_qval\n",
    "emp_pv_star_all = max(df1[df1$q_value==max_qval, \"empirical_feature_p_value\"])\n",
    "emp_pv_star_all"
   ]
  },
  {
   "cell_type": "code",
   "execution_count": null,
   "metadata": {},
   "outputs": [],
   "source": []
  },
  {
   "cell_type": "code",
   "execution_count": null,
   "metadata": {},
   "outputs": [],
   "source": [
    "##### Mean"
   ]
  },
  {
   "cell_type": "code",
   "execution_count": 28,
   "metadata": {},
   "outputs": [],
   "source": [
    "mean_folder = \"/hps/nobackup/hipsci/scratch/ComparingQtlMapping/SingleCell/PseudoBulk/mean/\""
   ]
  },
  {
   "cell_type": "code",
   "execution_count": 29,
   "metadata": {},
   "outputs": [],
   "source": [
    "my_folder = paste0(mean_folder,\"Run_Output_PCA20_88_log_TPM_scater_libsize_206/\") # scran, 20PCs\n",
    "# my_folder = paste0(mean_folder,\"Run_Output_PCA20_88_log_TPM_scater_libsize_206_baynorm/\") # baynorm, 20PCs"
   ]
  },
  {
   "cell_type": "code",
   "execution_count": 30,
   "metadata": {},
   "outputs": [],
   "source": [
    "df0 = read.csv(paste0(my_folder,\"top_qtl_results_all.txt\"), sep = \"\\t\")\n",
    "df0 <- df0[-which(duplicated(df0$feature_id)),]"
   ]
  },
  {
   "cell_type": "code",
   "execution_count": 31,
   "metadata": {},
   "outputs": [
    {
     "data": {
      "text/html": [
       "50425"
      ],
      "text/latex": [
       "50425"
      ],
      "text/markdown": [
       "50425"
      ],
      "text/plain": [
       "[1] 50425"
      ]
     },
     "metadata": {},
     "output_type": "display_data"
    },
    {
     "data": {
      "text/html": [
       "20335"
      ],
      "text/latex": [
       "20335"
      ],
      "text/markdown": [
       "20335"
      ],
      "text/plain": [
       "[1] 20335"
      ]
     },
     "metadata": {},
     "output_type": "display_data"
    },
    {
     "data": {
      "text/html": [
       "2073"
      ],
      "text/latex": [
       "2073"
      ],
      "text/markdown": [
       "2073"
      ],
      "text/plain": [
       "[1] 2073"
      ]
     },
     "metadata": {},
     "output_type": "display_data"
    }
   ],
   "source": [
    "length(unique(df0$feature_id))\n",
    "# df1 = df0[df0$feature_id %in% G_file$gene,]\n",
    "df1 = df0[df0$feature_id %in% common_genes,]\n",
    "length(unique(df1$feature_id))\n",
    "\n",
    "df1$q_value = qvalue(df1$empirical_feature_p_value)$qvalues\n",
    "length(unique(df1[df1$q_value < 0.05,'feature_id']))\n",
    "\n",
    "df3 = df1[df1$q_value < 0.05,]\n",
    "# nrow(df3)"
   ]
  },
  {
   "cell_type": "code",
   "execution_count": 32,
   "metadata": {},
   "outputs": [
    {
     "name": "stderr",
     "output_type": "stream",
     "text": [
      "Warning message:\n",
      "“Column `snp_id` joining factors with different levels, coercing to character vector”Warning message:\n",
      "“Column `feature_id` joining factors with different levels, coercing to character vector”"
     ]
    },
    {
     "data": {
      "text/html": [
       "2073"
      ],
      "text/latex": [
       "2073"
      ],
      "text/markdown": [
       "2073"
      ],
      "text/plain": [
       "[1] 2073"
      ]
     },
     "metadata": {},
     "output_type": "display_data"
    },
    {
     "data": {
      "text/html": [
       "1014"
      ],
      "text/latex": [
       "1014"
      ],
      "text/markdown": [
       "1014"
      ],
      "text/plain": [
       "[1] 1014"
      ]
     },
     "metadata": {},
     "output_type": "display_data"
    },
    {
     "data": {
      "text/html": [
       "1030"
      ],
      "text/latex": [
       "1030"
      ],
      "text/markdown": [
       "1030"
      ],
      "text/plain": [
       "[1] 1030"
      ]
     },
     "metadata": {},
     "output_type": "display_data"
    }
   ],
   "source": [
    "df4 = inner_join(df3, res, by = c(\"snp_id\",\"feature_id\"), suffix = c(\".sc\",\".bulk\"))\n",
    "df4 <- df4[-which(duplicated(df4$feature_id)),]\n",
    "nrow(df4)\n",
    "\n",
    "nrow(df4[(df4$empirical_feature_p_value.bulk < emp_pv_star_matched & \n",
    "         (df4$beta.sc*df4$beta.bulk)>0),])\n",
    "nrow(df4[(df4$empirical_feature_p_value.bulk < emp_pv_star_matched),])"
   ]
  },
  {
   "cell_type": "code",
   "execution_count": 33,
   "metadata": {},
   "outputs": [
    {
     "name": "stderr",
     "output_type": "stream",
     "text": [
      "Warning message:\n",
      "“Column `snp_id` joining factors with different levels, coercing to character vector”Warning message:\n",
      "“Column `feature_id` joining factors with different levels, coercing to character vector”"
     ]
    },
    {
     "data": {
      "text/html": [
       "2067"
      ],
      "text/latex": [
       "2067"
      ],
      "text/markdown": [
       "2067"
      ],
      "text/plain": [
       "[1] 2067"
      ]
     },
     "metadata": {},
     "output_type": "display_data"
    },
    {
     "data": {
      "text/html": [
       "1523"
      ],
      "text/latex": [
       "1523"
      ],
      "text/markdown": [
       "1523"
      ],
      "text/plain": [
       "[1] 1523"
      ]
     },
     "metadata": {},
     "output_type": "display_data"
    },
    {
     "data": {
      "text/html": [
       "1627"
      ],
      "text/latex": [
       "1627"
      ],
      "text/markdown": [
       "1627"
      ],
      "text/plain": [
       "[1] 1627"
      ]
     },
     "metadata": {},
     "output_type": "display_data"
    }
   ],
   "source": [
    "df5 = inner_join(df3, res_all, by = c(\"snp_id\",\"feature_id\"), suffix = c(\".sc\",\".bulk\"))\n",
    "df5 <- df5[-which(duplicated(df5$feature_id)),]\n",
    "nrow(df5)\n",
    "\n",
    "nrow(df5[(df5$empirical_feature_p_value.bulk < emp_pv_star_all & \n",
    "         (df5$beta.sc*df5$beta.bulk)>0),])\n",
    "nrow(df5[(df5$empirical_feature_p_value.bulk < emp_pv_star_all),])"
   ]
  },
  {
   "cell_type": "code",
   "execution_count": 26,
   "metadata": {},
   "outputs": [],
   "source": [
    "dr_mean = df5[(df5$empirical_feature_p_value.bulk < emp_pv_star_all & \n",
    "         (df5$beta.sc*df5$beta.bulk)>0),\"feature_id\"]"
   ]
  },
  {
   "cell_type": "code",
   "execution_count": 34,
   "metadata": {},
   "outputs": [],
   "source": [
    "##### Total Mean"
   ]
  },
  {
   "cell_type": "code",
   "execution_count": 35,
   "metadata": {},
   "outputs": [],
   "source": [
    "total_mean_folder = \"/hps/nobackup/hipsci/scratch/ComparingQtlMapping/SingleCell/PseudoBulk/totmean/\""
   ]
  },
  {
   "cell_type": "code",
   "execution_count": 36,
   "metadata": {},
   "outputs": [],
   "source": [
    "my_folder = paste0(total_mean_folder,\"Run_Output_PCA20_88_log_TPM_scater_libsize_206/\") # scran, 20PCs"
   ]
  },
  {
   "cell_type": "code",
   "execution_count": 37,
   "metadata": {},
   "outputs": [],
   "source": [
    "df0 = read.csv(paste0(my_folder,\"top_qtl_results_all.txt\"), sep = \"\\t\")\n",
    "df0 <- df0[-which(duplicated(df0$feature_id)),]"
   ]
  },
  {
   "cell_type": "code",
   "execution_count": 38,
   "metadata": {},
   "outputs": [
    {
     "data": {
      "text/html": [
       "50429"
      ],
      "text/latex": [
       "50429"
      ],
      "text/markdown": [
       "50429"
      ],
      "text/plain": [
       "[1] 50429"
      ]
     },
     "metadata": {},
     "output_type": "display_data"
    },
    {
     "data": {
      "text/html": [
       "20335"
      ],
      "text/latex": [
       "20335"
      ],
      "text/markdown": [
       "20335"
      ],
      "text/plain": [
       "[1] 20335"
      ]
     },
     "metadata": {},
     "output_type": "display_data"
    },
    {
     "data": {
      "text/html": [
       "1415"
      ],
      "text/latex": [
       "1415"
      ],
      "text/markdown": [
       "1415"
      ],
      "text/plain": [
       "[1] 1415"
      ]
     },
     "metadata": {},
     "output_type": "display_data"
    }
   ],
   "source": [
    "length(unique(df0$feature_id))\n",
    "# df1 = df0[df0$feature_id %in% G_file$gene,]\n",
    "df1 = df0[df0$feature_id %in% common_genes,]\n",
    "length(unique(df1$feature_id))\n",
    "df1$q_value = qvalue(df1$empirical_feature_p_value)$qvalues\n",
    "length(unique(df1[df1$q_value < 0.05,'feature_id']))\n",
    "\n",
    "df3 = df1[df1$q_value < 0.05,]\n",
    "# nrow(df3)"
   ]
  },
  {
   "cell_type": "code",
   "execution_count": 39,
   "metadata": {},
   "outputs": [
    {
     "name": "stderr",
     "output_type": "stream",
     "text": [
      "Warning message:\n",
      "“Column `snp_id` joining factors with different levels, coercing to character vector”Warning message:\n",
      "“Column `feature_id` joining factors with different levels, coercing to character vector”"
     ]
    },
    {
     "data": {
      "text/html": [
       "1415"
      ],
      "text/latex": [
       "1415"
      ],
      "text/markdown": [
       "1415"
      ],
      "text/plain": [
       "[1] 1415"
      ]
     },
     "metadata": {},
     "output_type": "display_data"
    },
    {
     "data": {
      "text/html": [
       "854"
      ],
      "text/latex": [
       "854"
      ],
      "text/markdown": [
       "854"
      ],
      "text/plain": [
       "[1] 854"
      ]
     },
     "metadata": {},
     "output_type": "display_data"
    },
    {
     "data": {
      "text/html": [
       "870"
      ],
      "text/latex": [
       "870"
      ],
      "text/markdown": [
       "870"
      ],
      "text/plain": [
       "[1] 870"
      ]
     },
     "metadata": {},
     "output_type": "display_data"
    }
   ],
   "source": [
    "df4 = inner_join(df3, res, by = c(\"snp_id\",\"feature_id\"), suffix = c(\".sc\",\".bulk\"))\n",
    "df4 <- df4[-which(duplicated(df4$feature_id)),]\n",
    "nrow(df4)\n",
    "\n",
    "nrow(df4[(df4$empirical_feature_p_value.bulk < emp_pv_star_matched & \n",
    "         (df4$beta.sc*df4$beta.bulk)>0),])\n",
    "nrow(df4[(df4$empirical_feature_p_value.bulk < emp_pv_star_matched),])"
   ]
  },
  {
   "cell_type": "code",
   "execution_count": 40,
   "metadata": {},
   "outputs": [
    {
     "name": "stderr",
     "output_type": "stream",
     "text": [
      "Warning message:\n",
      "“Column `snp_id` joining factors with different levels, coercing to character vector”Warning message:\n",
      "“Column `feature_id` joining factors with different levels, coercing to character vector”"
     ]
    },
    {
     "data": {
      "text/html": [
       "1411"
      ],
      "text/latex": [
       "1411"
      ],
      "text/markdown": [
       "1411"
      ],
      "text/plain": [
       "[1] 1411"
      ]
     },
     "metadata": {},
     "output_type": "display_data"
    },
    {
     "data": {
      "text/html": [
       "1123"
      ],
      "text/latex": [
       "1123"
      ],
      "text/markdown": [
       "1123"
      ],
      "text/plain": [
       "[1] 1123"
      ]
     },
     "metadata": {},
     "output_type": "display_data"
    },
    {
     "data": {
      "text/html": [
       "1202"
      ],
      "text/latex": [
       "1202"
      ],
      "text/markdown": [
       "1202"
      ],
      "text/plain": [
       "[1] 1202"
      ]
     },
     "metadata": {},
     "output_type": "display_data"
    }
   ],
   "source": [
    "df5 = inner_join(df3, res_all, by = c(\"snp_id\",\"feature_id\"), suffix = c(\".sc\",\".bulk\"))\n",
    "df5 <- df5[-which(duplicated(df5$feature_id)),]\n",
    "nrow(df5)\n",
    "\n",
    "nrow(df5[(df5$empirical_feature_p_value.bulk < emp_pv_star_all & \n",
    "         (df5$beta.sc*df5$beta.bulk)>0),])\n",
    "nrow(df5[(df5$empirical_feature_p_value.bulk < emp_pv_star_all),])"
   ]
  },
  {
   "cell_type": "code",
   "execution_count": 34,
   "metadata": {},
   "outputs": [],
   "source": [
    "d_mean = df5[(df5$empirical_feature_p_value.bulk < emp_pv_star_all & \n",
    "         (df5$beta.sc*df5$beta.bulk)>0),\"feature_id\"]"
   ]
  },
  {
   "cell_type": "code",
   "execution_count": 48,
   "metadata": {},
   "outputs": [],
   "source": [
    "d_median = df5[(df5$empirical_feature_p_value.bulk < emp_pv_star_all & \n",
    "         (df5$beta.sc*df5$beta.bulk)>0),\"feature_id\"]"
   ]
  },
  {
   "cell_type": "code",
   "execution_count": 49,
   "metadata": {},
   "outputs": [],
   "source": [
    "##### Sum"
   ]
  },
  {
   "cell_type": "code",
   "execution_count": 41,
   "metadata": {},
   "outputs": [],
   "source": [
    "sum_folder = \"/hps/nobackup/hipsci/scratch/ComparingQtlMapping/SingleCell/PseudoBulk/sum/\""
   ]
  },
  {
   "cell_type": "code",
   "execution_count": 42,
   "metadata": {},
   "outputs": [],
   "source": [
    "my_folder = paste0(sum_folder,\"Run_Output_PCA20_88_log_TPM_edgeR_libsize_206/\") # edgeR, 20PCs"
   ]
  },
  {
   "cell_type": "code",
   "execution_count": 43,
   "metadata": {},
   "outputs": [],
   "source": [
    "df0 = read.csv(paste0(my_folder,\"top_qtl_results_all.txt\"), sep = \"\\t\")\n",
    "df0 <- df0[-which(duplicated(df0$feature_id)),]"
   ]
  },
  {
   "cell_type": "code",
   "execution_count": 44,
   "metadata": {},
   "outputs": [
    {
     "data": {
      "text/html": [
       "50427"
      ],
      "text/latex": [
       "50427"
      ],
      "text/markdown": [
       "50427"
      ],
      "text/plain": [
       "[1] 50427"
      ]
     },
     "metadata": {},
     "output_type": "display_data"
    },
    {
     "data": {
      "text/html": [
       "20335"
      ],
      "text/latex": [
       "20335"
      ],
      "text/markdown": [
       "20335"
      ],
      "text/plain": [
       "[1] 20335"
      ]
     },
     "metadata": {},
     "output_type": "display_data"
    },
    {
     "data": {
      "text/html": [
       "1590"
      ],
      "text/latex": [
       "1590"
      ],
      "text/markdown": [
       "1590"
      ],
      "text/plain": [
       "[1] 1590"
      ]
     },
     "metadata": {},
     "output_type": "display_data"
    },
    {
     "data": {
      "text/html": [
       "1590"
      ],
      "text/latex": [
       "1590"
      ],
      "text/markdown": [
       "1590"
      ],
      "text/plain": [
       "[1] 1590"
      ]
     },
     "metadata": {},
     "output_type": "display_data"
    }
   ],
   "source": [
    "length(unique(df0$feature_id))\n",
    "# df1 = df0[df0$feature_id %in% G_file$gene,]\n",
    "df1 = df0[df0$feature_id %in% common_genes,]\n",
    "length(unique(df1$feature_id))\n",
    "df1$q_value = qvalue(df1$empirical_feature_p_value)$qvalues\n",
    "length(unique(df1[df1$q_value < 0.05,'feature_id']))\n",
    "\n",
    "df3 = df1[df1$q_value < 0.05,]\n",
    "nrow(df3)"
   ]
  },
  {
   "cell_type": "code",
   "execution_count": 45,
   "metadata": {},
   "outputs": [
    {
     "name": "stderr",
     "output_type": "stream",
     "text": [
      "Warning message:\n",
      "“Column `snp_id` joining factors with different levels, coercing to character vector”Warning message:\n",
      "“Column `feature_id` joining factors with different levels, coercing to character vector”"
     ]
    },
    {
     "data": {
      "text/html": [
       "1582"
      ],
      "text/latex": [
       "1582"
      ],
      "text/markdown": [
       "1582"
      ],
      "text/plain": [
       "[1] 1582"
      ]
     },
     "metadata": {},
     "output_type": "display_data"
    },
    {
     "data": {
      "text/html": [
       "909"
      ],
      "text/latex": [
       "909"
      ],
      "text/markdown": [
       "909"
      ],
      "text/plain": [
       "[1] 909"
      ]
     },
     "metadata": {},
     "output_type": "display_data"
    },
    {
     "data": {
      "text/html": [
       "925"
      ],
      "text/latex": [
       "925"
      ],
      "text/markdown": [
       "925"
      ],
      "text/plain": [
       "[1] 925"
      ]
     },
     "metadata": {},
     "output_type": "display_data"
    }
   ],
   "source": [
    "df4 = inner_join(df3, res, by = c(\"snp_id\",\"feature_id\"), suffix = c(\".sc\",\".bulk\"))\n",
    "df4 <- df4[-which(duplicated(df4$feature_id)),]\n",
    "nrow(df4)\n",
    "\n",
    "nrow(df4[(df4$empirical_feature_p_value.bulk < emp_pv_star_matched & \n",
    "         (df4$beta.sc*df4$beta.bulk)>0),])\n",
    "nrow(df4[(df4$empirical_feature_p_value.bulk < emp_pv_star_matched),])"
   ]
  },
  {
   "cell_type": "code",
   "execution_count": 46,
   "metadata": {},
   "outputs": [
    {
     "name": "stderr",
     "output_type": "stream",
     "text": [
      "Warning message:\n",
      "“Column `snp_id` joining factors with different levels, coercing to character vector”Warning message:\n",
      "“Column `feature_id` joining factors with different levels, coercing to character vector”"
     ]
    },
    {
     "data": {
      "text/html": [
       "1577"
      ],
      "text/latex": [
       "1577"
      ],
      "text/markdown": [
       "1577"
      ],
      "text/plain": [
       "[1] 1577"
      ]
     },
     "metadata": {},
     "output_type": "display_data"
    },
    {
     "data": {
      "text/html": [
       "1247"
      ],
      "text/latex": [
       "1247"
      ],
      "text/markdown": [
       "1247"
      ],
      "text/plain": [
       "[1] 1247"
      ]
     },
     "metadata": {},
     "output_type": "display_data"
    },
    {
     "data": {
      "text/html": [
       "1328"
      ],
      "text/latex": [
       "1328"
      ],
      "text/markdown": [
       "1328"
      ],
      "text/plain": [
       "[1] 1328"
      ]
     },
     "metadata": {},
     "output_type": "display_data"
    }
   ],
   "source": [
    "df5 = inner_join(df3, res_all, by = c(\"snp_id\",\"feature_id\"), suffix = c(\".sc\",\".bulk\"))\n",
    "df5 <- df5[-which(duplicated(df5$feature_id)),]\n",
    "nrow(df5)\n",
    "\n",
    "nrow(df5[(df5$empirical_feature_p_value.bulk < emp_pv_star_all & \n",
    "         (df5$beta.sc*df5$beta.bulk)>0),])\n",
    "nrow(df5[(df5$empirical_feature_p_value.bulk < emp_pv_star_all),])"
   ]
  },
  {
   "cell_type": "code",
   "execution_count": 47,
   "metadata": {},
   "outputs": [],
   "source": [
    "dr_sum = df5[(df5$empirical_feature_p_value.bulk < emp_pv_star_all & \n",
    "         (df5$beta.sc*df5$beta.bulk)>0),\"feature_id\"]"
   ]
  },
  {
   "cell_type": "code",
   "execution_count": null,
   "metadata": {},
   "outputs": [],
   "source": []
  },
  {
   "cell_type": "code",
   "execution_count": 57,
   "metadata": {},
   "outputs": [],
   "source": [
    "##### Total Sum"
   ]
  },
  {
   "cell_type": "code",
   "execution_count": 48,
   "metadata": {},
   "outputs": [],
   "source": [
    "total_sum_folder = \"/hps/nobackup/hipsci/scratch/ComparingQtlMapping/SingleCell/PseudoBulk/totsum/\""
   ]
  },
  {
   "cell_type": "code",
   "execution_count": 49,
   "metadata": {},
   "outputs": [],
   "source": [
    "my_folder = paste0(total_sum_folder,\"Run_Output_PCA20_88_log_TPM_edgeR_libsize_206/\") # edgeR, 20PCs"
   ]
  },
  {
   "cell_type": "code",
   "execution_count": 50,
   "metadata": {},
   "outputs": [],
   "source": [
    "# df = read.csv(paste0(my_folder,\"qtl_results_all.txt\"), sep = \"\\t\")\n",
    "# df <- df[order(df$empirical_feature_p_value, df$p_value ),]\n",
    "# df0 <- df[-which(duplicated(df$feature_id)),]\n",
    "# # nrow(df0)\n",
    "# length(unique(df0$feature_id))"
   ]
  },
  {
   "cell_type": "code",
   "execution_count": 51,
   "metadata": {},
   "outputs": [],
   "source": [
    "# write.table(df0, \"/hps/nobackup/stegle/users/acuomo/all_scripts/sc_eqtl/top_qtl_results_totsum.txt\")"
   ]
  },
  {
   "cell_type": "code",
   "execution_count": 52,
   "metadata": {},
   "outputs": [
    {
     "data": {
      "text/html": [
       "<table>\n",
       "<thead><tr><th></th><th scope=col>feature_id</th><th scope=col>snp_id</th><th scope=col>p_value</th><th scope=col>beta</th><th scope=col>beta_se</th><th scope=col>empirical_feature_p_value</th><th scope=col>feature_chromosome</th><th scope=col>feature_start</th><th scope=col>feature_end</th><th scope=col>n_samples</th><th scope=col>n_e_samples</th><th scope=col>alpha_param</th><th scope=col>beta_param</th><th scope=col>snp_chromosome</th><th scope=col>snp_position</th><th scope=col>assessed_allele</th><th scope=col>call_rate</th><th scope=col>maf</th><th scope=col>hwe_p</th></tr></thead>\n",
       "<tbody>\n",
       "\t<tr><th scope=row>1955841</th><td>ENSG00000203875</td><td>6_86387888_G_T </td><td>1.514293e-27   </td><td> 1.010238      </td><td>0.09289432     </td><td>6.375394e-24   </td><td> 6             </td><td>86370710       </td><td>86388451       </td><td>87             </td><td>87             </td><td>0.7886659      </td><td>17.12808       </td><td> 6             </td><td>86387888       </td><td>T              </td><td>1              </td><td>0.4655172      </td><td>0.6673797      </td></tr>\n",
       "\t<tr><th scope=row>6927785</th><td>ENSG00000204650</td><td>17_43679121_G_A</td><td>9.296484e-23   </td><td>-1.201981      </td><td>0.12240973     </td><td>2.026242e-20   </td><td>17             </td><td>43697694       </td><td>43725582       </td><td>87             </td><td>87             </td><td>0.7567724      </td><td>29.08926       </td><td>17             </td><td>43679121       </td><td>A              </td><td>1              </td><td>0.2701149      </td><td>0.1020851      </td></tr>\n",
       "</tbody>\n",
       "</table>\n"
      ],
      "text/latex": [
       "\\begin{tabular}{r|lllllllllllllllllll}\n",
       "  & feature\\_id & snp\\_id & p\\_value & beta & beta\\_se & empirical\\_feature\\_p\\_value & feature\\_chromosome & feature\\_start & feature\\_end & n\\_samples & n\\_e\\_samples & alpha\\_param & beta\\_param & snp\\_chromosome & snp\\_position & assessed\\_allele & call\\_rate & maf & hwe\\_p\\\\\n",
       "\\hline\n",
       "\t1955841 & ENSG00000203875       & 6\\_86387888\\_G\\_T  & 1.514293e-27          &  1.010238             & 0.09289432            & 6.375394e-24          &  6                    & 86370710              & 86388451              & 87                    & 87                    & 0.7886659             & 17.12808              &  6                    & 86387888              & T                     & 1                     & 0.4655172             & 0.6673797            \\\\\n",
       "\t6927785 & ENSG00000204650       & 17\\_43679121\\_G\\_A & 9.296484e-23          & -1.201981             & 0.12240973            & 2.026242e-20          & 17                    & 43697694              & 43725582              & 87                    & 87                    & 0.7567724             & 29.08926              & 17                    & 43679121              & A                     & 1                     & 0.2701149             & 0.1020851            \\\\\n",
       "\\end{tabular}\n"
      ],
      "text/markdown": [
       "\n",
       "| <!--/--> | feature_id | snp_id | p_value | beta | beta_se | empirical_feature_p_value | feature_chromosome | feature_start | feature_end | n_samples | n_e_samples | alpha_param | beta_param | snp_chromosome | snp_position | assessed_allele | call_rate | maf | hwe_p |\n",
       "|---|---|---|---|---|---|---|---|---|---|---|---|---|---|---|---|---|---|---|---|\n",
       "| 1955841 | ENSG00000203875 | 6_86387888_G_T  | 1.514293e-27    |  1.010238       | 0.09289432      | 6.375394e-24    |  6              | 86370710        | 86388451        | 87              | 87              | 0.7886659       | 17.12808        |  6              | 86387888        | T               | 1               | 0.4655172       | 0.6673797       |\n",
       "| 6927785 | ENSG00000204650 | 17_43679121_G_A | 9.296484e-23    | -1.201981       | 0.12240973      | 2.026242e-20    | 17              | 43697694        | 43725582        | 87              | 87              | 0.7567724       | 29.08926        | 17              | 43679121        | A               | 1               | 0.2701149       | 0.1020851       |\n",
       "\n"
      ],
      "text/plain": [
       "        feature_id      snp_id          p_value      beta      beta_se   \n",
       "1955841 ENSG00000203875 6_86387888_G_T  1.514293e-27  1.010238 0.09289432\n",
       "6927785 ENSG00000204650 17_43679121_G_A 9.296484e-23 -1.201981 0.12240973\n",
       "        empirical_feature_p_value feature_chromosome feature_start feature_end\n",
       "1955841 6.375394e-24               6                 86370710      86388451   \n",
       "6927785 2.026242e-20              17                 43697694      43725582   \n",
       "        n_samples n_e_samples alpha_param beta_param snp_chromosome\n",
       "1955841 87        87          0.7886659   17.12808    6            \n",
       "6927785 87        87          0.7567724   29.08926   17            \n",
       "        snp_position assessed_allele call_rate maf       hwe_p    \n",
       "1955841 86387888     T               1         0.4655172 0.6673797\n",
       "6927785 43679121     A               1         0.2701149 0.1020851"
      ]
     },
     "metadata": {},
     "output_type": "display_data"
    }
   ],
   "source": [
    "df0 = read.csv(\"/hps/nobackup/stegle/users/acuomo/all_scripts/sc_eqtl/top_qtl_results_totsum.txt\", sep = ' ')\n",
    "head(df0,2)"
   ]
  },
  {
   "cell_type": "code",
   "execution_count": 53,
   "metadata": {},
   "outputs": [
    {
     "data": {
      "text/html": [
       "50429"
      ],
      "text/latex": [
       "50429"
      ],
      "text/markdown": [
       "50429"
      ],
      "text/plain": [
       "[1] 50429"
      ]
     },
     "metadata": {},
     "output_type": "display_data"
    },
    {
     "data": {
      "text/html": [
       "20335"
      ],
      "text/latex": [
       "20335"
      ],
      "text/markdown": [
       "20335"
      ],
      "text/plain": [
       "[1] 20335"
      ]
     },
     "metadata": {},
     "output_type": "display_data"
    },
    {
     "data": {
      "text/html": [
       "1284"
      ],
      "text/latex": [
       "1284"
      ],
      "text/markdown": [
       "1284"
      ],
      "text/plain": [
       "[1] 1284"
      ]
     },
     "metadata": {},
     "output_type": "display_data"
    },
    {
     "data": {
      "text/html": [
       "1284"
      ],
      "text/latex": [
       "1284"
      ],
      "text/markdown": [
       "1284"
      ],
      "text/plain": [
       "[1] 1284"
      ]
     },
     "metadata": {},
     "output_type": "display_data"
    },
    {
     "name": "stderr",
     "output_type": "stream",
     "text": [
      "Warning message:\n",
      "“Column `snp_id` joining factors with different levels, coercing to character vector”Warning message:\n",
      "“Column `feature_id` joining factors with different levels, coercing to character vector”"
     ]
    },
    {
     "data": {
      "text/html": [
       "1284"
      ],
      "text/latex": [
       "1284"
      ],
      "text/markdown": [
       "1284"
      ],
      "text/plain": [
       "[1] 1284"
      ]
     },
     "metadata": {},
     "output_type": "display_data"
    },
    {
     "data": {
      "text/html": [
       "778"
      ],
      "text/latex": [
       "778"
      ],
      "text/markdown": [
       "778"
      ],
      "text/plain": [
       "[1] 778"
      ]
     },
     "metadata": {},
     "output_type": "display_data"
    },
    {
     "data": {
      "text/html": [
       "793"
      ],
      "text/latex": [
       "793"
      ],
      "text/markdown": [
       "793"
      ],
      "text/plain": [
       "[1] 793"
      ]
     },
     "metadata": {},
     "output_type": "display_data"
    },
    {
     "name": "stderr",
     "output_type": "stream",
     "text": [
      "Warning message:\n",
      "“Column `snp_id` joining factors with different levels, coercing to character vector”Warning message:\n",
      "“Column `feature_id` joining factors with different levels, coercing to character vector”"
     ]
    },
    {
     "data": {
      "text/html": [
       "1279"
      ],
      "text/latex": [
       "1279"
      ],
      "text/markdown": [
       "1279"
      ],
      "text/plain": [
       "[1] 1279"
      ]
     },
     "metadata": {},
     "output_type": "display_data"
    },
    {
     "data": {
      "text/html": [
       "1020"
      ],
      "text/latex": [
       "1020"
      ],
      "text/markdown": [
       "1020"
      ],
      "text/plain": [
       "[1] 1020"
      ]
     },
     "metadata": {},
     "output_type": "display_data"
    },
    {
     "data": {
      "text/html": [
       "1092"
      ],
      "text/latex": [
       "1092"
      ],
      "text/markdown": [
       "1092"
      ],
      "text/plain": [
       "[1] 1092"
      ]
     },
     "metadata": {},
     "output_type": "display_data"
    }
   ],
   "source": [
    "length(unique(df0$feature_id))\n",
    "# df1 = df0[df0$feature_id %in% G_file$gene,]\n",
    "df1 = df0[df0$feature_id %in% common_genes,]\n",
    "length(unique(df1$feature_id))\n",
    "df1$q_value = qvalue(df1$empirical_feature_p_value)$qvalues\n",
    "length(unique(df1[df1$q_value < 0.05,'feature_id']))\n",
    "\n",
    "df3 = df1[df1$q_value < 0.05,]\n",
    "nrow(df3)\n",
    "\n",
    "df4 = inner_join(df3, res, by = c(\"snp_id\",\"feature_id\"), suffix = c(\".sc\",\".bulk\"))\n",
    "df4 <- df4[-which(duplicated(df4$feature_id)),]\n",
    "nrow(df4)\n",
    "\n",
    "nrow(df4[(df4$empirical_feature_p_value.bulk < emp_pv_star_matched & \n",
    "         (df4$beta.sc*df4$beta.bulk)>0),])\n",
    "nrow(df4[(df4$empirical_feature_p_value.bulk < emp_pv_star_matched),])\n",
    "\n",
    "df5 = inner_join(df3, res_all, by = c(\"snp_id\",\"feature_id\"), suffix = c(\".sc\",\".bulk\"))\n",
    "df5 <- df5[-which(duplicated(df5$feature_id)),]\n",
    "nrow(df5)\n",
    "\n",
    "nrow(df5[(df5$empirical_feature_p_value.bulk < emp_pv_star_all & \n",
    "         (df5$beta.sc*df5$beta.bulk)>0),])\n",
    "nrow(df5[(df5$empirical_feature_p_value.bulk < emp_pv_star_all),])"
   ]
  },
  {
   "cell_type": "code",
   "execution_count": 54,
   "metadata": {},
   "outputs": [],
   "source": [
    "d_sum = df5[(df5$empirical_feature_p_value.bulk < emp_pv_star_all & \n",
    "         (df5$beta.sc*df5$beta.bulk)>0),\"feature_id\"]"
   ]
  },
  {
   "cell_type": "code",
   "execution_count": null,
   "metadata": {},
   "outputs": [],
   "source": []
  },
  {
   "cell_type": "code",
   "execution_count": null,
   "metadata": {},
   "outputs": [],
   "source": []
  }
 ],
 "metadata": {
  "kernelspec": {
   "display_name": "R",
   "language": "R",
   "name": "ir"
  },
  "language_info": {
   "codemirror_mode": "r",
   "file_extension": ".r",
   "mimetype": "text/x-r-source",
   "name": "R",
   "pygments_lexer": "r",
   "version": "3.6.1"
  }
 },
 "nbformat": 4,
 "nbformat_minor": 4
}
