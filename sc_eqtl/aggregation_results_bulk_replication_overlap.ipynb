{
 "cells": [
  {
   "cell_type": "code",
   "execution_count": 9,
   "metadata": {},
   "outputs": [],
   "source": [
    "library(qvalue)\n",
    "library(dplyr)\n",
    "library(ggplot2)"
   ]
  },
  {
   "cell_type": "code",
   "execution_count": 7,
   "metadata": {},
   "outputs": [
    {
     "data": {
      "text/html": [
       "21592"
      ],
      "text/latex": [
       "21592"
      ],
      "text/markdown": [
       "21592"
      ],
      "text/plain": [
       "[1] 21592"
      ]
     },
     "metadata": {},
     "output_type": "display_data"
    },
    {
     "data": {
      "text/html": [
       "<table>\n",
       "<thead><tr><th></th><th scope=col>gene</th><th scope=col>mean</th><th scope=col>std</th><th scope=col>CV</th><th scope=col>quartile_cv</th></tr></thead>\n",
       "<tbody>\n",
       "\t<tr><th scope=row>2</th><td>ENSG00000227232</td><td>3.1805905      </td><td>3.6232403      </td><td>1.139172       </td><td>2              </td></tr>\n",
       "\t<tr><th scope=row>3</th><td>ENSG00000243485</td><td>0.2003178      </td><td>0.8649483      </td><td>4.317881       </td><td>3              </td></tr>\n",
       "</tbody>\n",
       "</table>\n"
      ],
      "text/latex": [
       "\\begin{tabular}{r|lllll}\n",
       "  & gene & mean & std & CV & quartile\\_cv\\\\\n",
       "\\hline\n",
       "\t2 & ENSG00000227232 & 3.1805905       & 3.6232403       & 1.139172        & 2              \\\\\n",
       "\t3 & ENSG00000243485 & 0.2003178       & 0.8649483       & 4.317881        & 3              \\\\\n",
       "\\end{tabular}\n"
      ],
      "text/markdown": [
       "\n",
       "| <!--/--> | gene | mean | std | CV | quartile_cv |\n",
       "|---|---|---|---|---|---|\n",
       "| 2 | ENSG00000227232 | 3.1805905       | 3.6232403       | 1.139172        | 2               |\n",
       "| 3 | ENSG00000243485 | 0.2003178       | 0.8649483       | 4.317881        | 3               |\n",
       "\n"
      ],
      "text/plain": [
       "  gene            mean      std       CV       quartile_cv\n",
       "2 ENSG00000227232 3.1805905 3.6232403 1.139172 2          \n",
       "3 ENSG00000243485 0.2003178 0.8649483 4.317881 3          "
      ]
     },
     "metadata": {},
     "output_type": "display_data"
    }
   ],
   "source": [
    "Giordanos_selection = \"/hps/nobackup/stegle/users/galvari/data/iPSCs/singleCell/metadata/ensembl_gene/Ensembl_75_Gene_CV_quant5.txt\"\n",
    "G_file = read.csv(Giordanos_selection, sep = \"\\t\")\n",
    "nrow(G_file)\n",
    "head(G_file,2)"
   ]
  },
  {
   "cell_type": "code",
   "execution_count": 22,
   "metadata": {},
   "outputs": [
    {
     "data": {
      "text/html": [
       "13618"
      ],
      "text/latex": [
       "13618"
      ],
      "text/markdown": [
       "13618"
      ],
      "text/plain": [
       "[1] 13618"
      ]
     },
     "metadata": {},
     "output_type": "display_data"
    }
   ],
   "source": [
    "df_common_genes = read.csv(\"/hps/nobackup/stegle/users/acuomo/all_scripts/sc_eqtl/common_genes_across_all_aggregation_methods_and_bulk.csv\")\n",
    "common_genes = as.character(df_common_genes$gene)\n",
    "length(common_genes)"
   ]
  },
  {
   "cell_type": "code",
   "execution_count": null,
   "metadata": {},
   "outputs": [],
   "source": []
  },
  {
   "cell_type": "code",
   "execution_count": 3,
   "metadata": {},
   "outputs": [],
   "source": [
    "bulk_matched_folder = \"/hps/nobackup/hipsci/scratch/ComparingQtlMapping/Bulk/BulkDay0Healthy_PCA20_88_206/\""
   ]
  },
  {
   "cell_type": "code",
   "execution_count": 29,
   "metadata": {},
   "outputs": [
    {
     "data": {
      "text/html": [
       "16691457"
      ],
      "text/latex": [
       "16691457"
      ],
      "text/markdown": [
       "16691457"
      ],
      "text/plain": [
       "[1] 16691457"
      ]
     },
     "metadata": {},
     "output_type": "display_data"
    }
   ],
   "source": [
    "res = read.csv(paste0(bulk_matched_folder,\"qtl_results_all.txt\"), sep = \"\\t\")\n",
    "nrow(res)"
   ]
  },
  {
   "cell_type": "code",
   "execution_count": 2,
   "metadata": {},
   "outputs": [],
   "source": [
    "bulk_folder = \"/hps/nobackup/hipsci/scratch/ComparingQtlMapping/Bulk/BulkTotal_PCA20/\""
   ]
  },
  {
   "cell_type": "code",
   "execution_count": 30,
   "metadata": {},
   "outputs": [
    {
     "data": {
      "text/html": [
       "18974762"
      ],
      "text/latex": [
       "18974762"
      ],
      "text/markdown": [
       "18974762"
      ],
      "text/plain": [
       "[1] 18974762"
      ]
     },
     "metadata": {},
     "output_type": "display_data"
    }
   ],
   "source": [
    "res_all = read.csv(paste0(bulk_folder,\"qtl_results_all.txt\"), sep = \"\\t\")\n",
    "nrow(res_all)"
   ]
  },
  {
   "cell_type": "code",
   "execution_count": 48,
   "metadata": {},
   "outputs": [
    {
     "data": {
      "text/html": [
       "43103"
      ],
      "text/latex": [
       "43103"
      ],
      "text/markdown": [
       "43103"
      ],
      "text/plain": [
       "[1] 43103"
      ]
     },
     "metadata": {},
     "output_type": "display_data"
    }
   ],
   "source": [
    "leads = read.csv(paste0(bulk_matched_folder,\"top_qtl_results_all.txt\"), sep = \"\\t\")\n",
    "nrow(leads)"
   ]
  },
  {
   "cell_type": "code",
   "execution_count": 49,
   "metadata": {},
   "outputs": [
    {
     "data": {
      "text/html": [
       "42791"
      ],
      "text/latex": [
       "42791"
      ],
      "text/markdown": [
       "42791"
      ],
      "text/plain": [
       "[1] 42791"
      ]
     },
     "metadata": {},
     "output_type": "display_data"
    },
    {
     "data": {
      "text/html": [
       "13618"
      ],
      "text/latex": [
       "13618"
      ],
      "text/markdown": [
       "13618"
      ],
      "text/plain": [
       "[1] 13618"
      ]
     },
     "metadata": {},
     "output_type": "display_data"
    },
    {
     "data": {
      "text/html": [
       "2779"
      ],
      "text/latex": [
       "2779"
      ],
      "text/markdown": [
       "2779"
      ],
      "text/plain": [
       "[1] 2779"
      ]
     },
     "metadata": {},
     "output_type": "display_data"
    }
   ],
   "source": [
    "df0 = leads\n",
    "df0 <- df0[-which(duplicated(df0$feature_id)),]\n",
    "length(unique(df0$feature_id))\n",
    "# df1 = df0[df0$feature_id %in% G_file$gene,]\n",
    "df1 = df0[df0$feature_id %in% common_genes,]\n",
    "length(unique(df1$feature_id))\n",
    "df1$q_value = qvalue(df1$empirical_feature_p_value)$qvalues\n",
    "length(unique(df1[df1$q_value < 0.05,'feature_id']))"
   ]
  },
  {
   "cell_type": "code",
   "execution_count": 50,
   "metadata": {},
   "outputs": [
    {
     "data": {
      "text/html": [
       "0.04992834265356"
      ],
      "text/latex": [
       "0.04992834265356"
      ],
      "text/markdown": [
       "0.04992834265356"
      ],
      "text/plain": [
       "[1] 0.04992834"
      ]
     },
     "metadata": {},
     "output_type": "display_data"
    },
    {
     "data": {
      "text/html": [
       "0.00037183452823813"
      ],
      "text/latex": [
       "0.00037183452823813"
      ],
      "text/markdown": [
       "0.00037183452823813"
      ],
      "text/plain": [
       "[1] 0.0003718345"
      ]
     },
     "metadata": {},
     "output_type": "display_data"
    }
   ],
   "source": [
    "max_qval = max(df1[df1$q_value < 0.05,'q_value'])\n",
    "max_qval\n",
    "pv_star_matched = max(df1[df1$q_value==max_qval, \"p_value\"])\n",
    "pv_star_matched"
   ]
  },
  {
   "cell_type": "code",
   "execution_count": 51,
   "metadata": {},
   "outputs": [],
   "source": [
    "# pv_star_matched = 0.05\n",
    "# pv_star_all = 0.05"
   ]
  },
  {
   "cell_type": "code",
   "execution_count": 52,
   "metadata": {},
   "outputs": [
    {
     "name": "stderr",
     "output_type": "stream",
     "text": [
      "Warning message:\n",
      "“Column `snp_id` joining factors with different levels, coercing to character vector”Warning message:\n",
      "“Column `feature_id` joining factors with different levels, coercing to character vector”"
     ]
    },
    {
     "data": {
      "text/html": [
       "2763"
      ],
      "text/latex": [
       "2763"
      ],
      "text/markdown": [
       "2763"
      ],
      "text/plain": [
       "[1] 2763"
      ]
     },
     "metadata": {},
     "output_type": "display_data"
    },
    {
     "data": {
      "text/html": [
       "2515"
      ],
      "text/latex": [
       "2515"
      ],
      "text/markdown": [
       "2515"
      ],
      "text/plain": [
       "[1] 2515"
      ]
     },
     "metadata": {},
     "output_type": "display_data"
    },
    {
     "data": {
      "text/html": [
       "2515"
      ],
      "text/latex": [
       "2515"
      ],
      "text/markdown": [
       "2515"
      ],
      "text/plain": [
       "[1] 2515"
      ]
     },
     "metadata": {},
     "output_type": "display_data"
    }
   ],
   "source": [
    "df3 = df1[df1$q_value < 0.05,]\n",
    "df5 = inner_join(df3, res_all, by = c(\"snp_id\",\"feature_id\"), suffix = c(\".sc\",\".bulk\"))\n",
    "df5 <- df5[-which(duplicated(df5$feature_id)),]\n",
    "nrow(df5)\n",
    "\n",
    "nrow(df5[(df5$p_value.bulk < pv_star_all & \n",
    "         (df5$beta.sc*df5$beta.bulk)>0),])\n",
    "nrow(df5[(df5$p_value.bulk < pv_star_all),])"
   ]
  },
  {
   "cell_type": "code",
   "execution_count": 53,
   "metadata": {},
   "outputs": [
    {
     "data": {
      "text/html": [
       "49916"
      ],
      "text/latex": [
       "49916"
      ],
      "text/markdown": [
       "49916"
      ],
      "text/plain": [
       "[1] 49916"
      ]
     },
     "metadata": {},
     "output_type": "display_data"
    }
   ],
   "source": [
    "leads_all = read.csv(paste0(bulk_folder,\"top_qtl_results_all.txt\"), sep = \"\\t\")\n",
    "nrow(leads_all)"
   ]
  },
  {
   "cell_type": "code",
   "execution_count": 54,
   "metadata": {},
   "outputs": [
    {
     "data": {
      "text/html": [
       "49554"
      ],
      "text/latex": [
       "49554"
      ],
      "text/markdown": [
       "49554"
      ],
      "text/plain": [
       "[1] 49554"
      ]
     },
     "metadata": {},
     "output_type": "display_data"
    },
    {
     "data": {
      "text/html": [
       "13618"
      ],
      "text/latex": [
       "13618"
      ],
      "text/markdown": [
       "13618"
      ],
      "text/plain": [
       "[1] 13618"
      ]
     },
     "metadata": {},
     "output_type": "display_data"
    },
    {
     "data": {
      "text/html": [
       "10326"
      ],
      "text/latex": [
       "10326"
      ],
      "text/markdown": [
       "10326"
      ],
      "text/plain": [
       "[1] 10326"
      ]
     },
     "metadata": {},
     "output_type": "display_data"
    }
   ],
   "source": [
    "df0 = leads_all\n",
    "df0 <- df0[-which(duplicated(df0$feature_id)),]\n",
    "length(unique(df0$feature_id))\n",
    "# df1 = df0[df0$feature_id %in% G_file$gene,]\n",
    "df1 = df0[df0$feature_id %in% common_genes,]\n",
    "length(unique(df1$feature_id))\n",
    "df1$q_value = qvalue(df1$empirical_feature_p_value)$qvalues\n",
    "length(unique(df1[df1$q_value < 0.05,'feature_id']))"
   ]
  },
  {
   "cell_type": "code",
   "execution_count": 55,
   "metadata": {},
   "outputs": [
    {
     "data": {
      "text/html": [
       "0.0499665012631218"
      ],
      "text/latex": [
       "0.0499665012631218"
      ],
      "text/markdown": [
       "0.0499665012631218"
      ],
      "text/plain": [
       "[1] 0.0499665"
      ]
     },
     "metadata": {},
     "output_type": "display_data"
    },
    {
     "data": {
      "text/html": [
       "0.0016733800374418"
      ],
      "text/latex": [
       "0.0016733800374418"
      ],
      "text/markdown": [
       "0.0016733800374418"
      ],
      "text/plain": [
       "[1] 0.00167338"
      ]
     },
     "metadata": {},
     "output_type": "display_data"
    }
   ],
   "source": [
    "max_qval = max(df1[df1$q_value < 0.05,'q_value'])\n",
    "max_qval\n",
    "pv_star_all = max(df1[df1$q_value==max_qval, \"p_value\"])\n",
    "pv_star_all"
   ]
  },
  {
   "cell_type": "code",
   "execution_count": null,
   "metadata": {},
   "outputs": [],
   "source": []
  },
  {
   "cell_type": "code",
   "execution_count": 56,
   "metadata": {},
   "outputs": [],
   "source": [
    "##### Mean"
   ]
  },
  {
   "cell_type": "code",
   "execution_count": 99,
   "metadata": {},
   "outputs": [],
   "source": [
    "mean_folder = \"/hps/nobackup/hipsci/scratch/ComparingQtlMapping/SingleCell/PseudoBulk/mean/\""
   ]
  },
  {
   "cell_type": "code",
   "execution_count": 100,
   "metadata": {},
   "outputs": [],
   "source": [
    "# my_folder = paste0(mean_folder,\"Run_Output_PCA20_88_log_TPM_scater_libsize_206/\") # scran, 20PCs\n",
    "my_folder = paste0(mean_folder,\"Run_Output_PCA20_88_log_TPM_scater_libsize_206_baynorm/\") # baynorm, 20PCs"
   ]
  },
  {
   "cell_type": "code",
   "execution_count": 101,
   "metadata": {},
   "outputs": [],
   "source": [
    "df0 = read.csv(paste0(my_folder,\"top_qtl_results_all.txt\"), sep = \"\\t\")\n",
    "df0 <- df0[-which(duplicated(df0$feature_id)),]"
   ]
  },
  {
   "cell_type": "code",
   "execution_count": 102,
   "metadata": {},
   "outputs": [
    {
     "data": {
      "text/html": [
       "50425"
      ],
      "text/latex": [
       "50425"
      ],
      "text/markdown": [
       "50425"
      ],
      "text/plain": [
       "[1] 50425"
      ]
     },
     "metadata": {},
     "output_type": "display_data"
    },
    {
     "data": {
      "text/html": [
       "13618"
      ],
      "text/latex": [
       "13618"
      ],
      "text/markdown": [
       "13618"
      ],
      "text/plain": [
       "[1] 13618"
      ]
     },
     "metadata": {},
     "output_type": "display_data"
    },
    {
     "data": {
      "text/html": [
       "1900"
      ],
      "text/latex": [
       "1900"
      ],
      "text/markdown": [
       "1900"
      ],
      "text/plain": [
       "[1] 1900"
      ]
     },
     "metadata": {},
     "output_type": "display_data"
    }
   ],
   "source": [
    "length(unique(df0$feature_id))\n",
    "# df1 = df0[df0$feature_id %in% G_file$gene,]\n",
    "df1 = df0[df0$feature_id %in% common_genes,]\n",
    "length(unique(df1$feature_id))\n",
    "df1$q_value = qvalue(df1$empirical_feature_p_value)$qvalues\n",
    "# length(unique(df1[df1$q_value < 0.05,'feature_id']))\n",
    "\n",
    "df3 = df1[df1$q_value < 0.05,]\n",
    "nrow(df3)"
   ]
  },
  {
   "cell_type": "code",
   "execution_count": 103,
   "metadata": {},
   "outputs": [
    {
     "name": "stderr",
     "output_type": "stream",
     "text": [
      "Warning message:\n",
      "“Column `snp_id` joining factors with different levels, coercing to character vector”Warning message:\n",
      "“Column `feature_id` joining factors with different levels, coercing to character vector”"
     ]
    },
    {
     "data": {
      "text/html": [
       "1900"
      ],
      "text/latex": [
       "1900"
      ],
      "text/markdown": [
       "1900"
      ],
      "text/plain": [
       "[1] 1900"
      ]
     },
     "metadata": {},
     "output_type": "display_data"
    },
    {
     "data": {
      "text/html": [
       "878"
      ],
      "text/latex": [
       "878"
      ],
      "text/markdown": [
       "878"
      ],
      "text/plain": [
       "[1] 878"
      ]
     },
     "metadata": {},
     "output_type": "display_data"
    },
    {
     "data": {
      "text/html": [
       "892"
      ],
      "text/latex": [
       "892"
      ],
      "text/markdown": [
       "892"
      ],
      "text/plain": [
       "[1] 892"
      ]
     },
     "metadata": {},
     "output_type": "display_data"
    }
   ],
   "source": [
    "df4 = inner_join(df3, res, by = c(\"snp_id\",\"feature_id\"), suffix = c(\".sc\",\".bulk\"))\n",
    "df4 <- df4[-which(duplicated(df4$feature_id)),]\n",
    "nrow(df4)\n",
    "\n",
    "nrow(df4[(df4$p_value.bulk < pv_star_matched & \n",
    "         (df4$beta.sc*df4$beta.bulk)>0),])\n",
    "nrow(df4[(df4$p_value.bulk < pv_star_matched),])"
   ]
  },
  {
   "cell_type": "code",
   "execution_count": 104,
   "metadata": {},
   "outputs": [
    {
     "name": "stderr",
     "output_type": "stream",
     "text": [
      "Warning message:\n",
      "“Column `snp_id` joining factors with different levels, coercing to character vector”Warning message:\n",
      "“Column `feature_id` joining factors with different levels, coercing to character vector”"
     ]
    },
    {
     "data": {
      "text/html": [
       "1894"
      ],
      "text/latex": [
       "1894"
      ],
      "text/markdown": [
       "1894"
      ],
      "text/plain": [
       "[1] 1894"
      ]
     },
     "metadata": {},
     "output_type": "display_data"
    },
    {
     "data": {
      "text/html": [
       "1341"
      ],
      "text/latex": [
       "1341"
      ],
      "text/markdown": [
       "1341"
      ],
      "text/plain": [
       "[1] 1341"
      ]
     },
     "metadata": {},
     "output_type": "display_data"
    },
    {
     "data": {
      "text/html": [
       "1417"
      ],
      "text/latex": [
       "1417"
      ],
      "text/markdown": [
       "1417"
      ],
      "text/plain": [
       "[1] 1417"
      ]
     },
     "metadata": {},
     "output_type": "display_data"
    }
   ],
   "source": [
    "df5 = inner_join(df3, res_all, by = c(\"snp_id\",\"feature_id\"), suffix = c(\".sc\",\".bulk\"))\n",
    "df5 <- df5[-which(duplicated(df5$feature_id)),]\n",
    "nrow(df5)\n",
    "\n",
    "nrow(df5[(df5$p_value.bulk < pv_star_all & \n",
    "         (df5$beta.sc*df5$beta.bulk)>0),])\n",
    "nrow(df5[(df5$p_value.bulk < pv_star_all),])"
   ]
  },
  {
   "cell_type": "code",
   "execution_count": 105,
   "metadata": {},
   "outputs": [
    {
     "data": {
      "text/html": [
       "1341"
      ],
      "text/latex": [
       "1341"
      ],
      "text/markdown": [
       "1341"
      ],
      "text/plain": [
       "[1] 1341"
      ]
     },
     "metadata": {},
     "output_type": "display_data"
    },
    {
     "data": {
      "text/html": [
       "1141"
      ],
      "text/latex": [
       "1141"
      ],
      "text/markdown": [
       "1141"
      ],
      "text/plain": [
       "[1] 1141"
      ]
     },
     "metadata": {},
     "output_type": "display_data"
    }
   ],
   "source": [
    "mean_baynorm_egenes = unique(df5[(df5$p_value.bulk < pv_star_all & (df5$beta.sc*df5$beta.bulk)>0),\"feature_id\"])\n",
    "length(mean_baynorm_egenes)\n",
    "length(mean_baynorm_egenes[mean_baynorm_egenes %in% mean_egenes])"
   ]
  },
  {
   "cell_type": "code",
   "execution_count": 69,
   "metadata": {},
   "outputs": [
    {
     "data": {
      "text/html": [
       "1353"
      ],
      "text/latex": [
       "1353"
      ],
      "text/markdown": [
       "1353"
      ],
      "text/plain": [
       "[1] 1353"
      ]
     },
     "metadata": {},
     "output_type": "display_data"
    }
   ],
   "source": [
    "# mean_egenes = unique(df5[(df5$p_value.bulk < pv_star_all & (df5$beta.sc*df5$beta.bulk)>0),\"feature_id\"])\n",
    "# length(mean_egenes)"
   ]
  },
  {
   "cell_type": "code",
   "execution_count": 70,
   "metadata": {},
   "outputs": [],
   "source": [
    "##### Total Mean"
   ]
  },
  {
   "cell_type": "code",
   "execution_count": 71,
   "metadata": {},
   "outputs": [],
   "source": [
    "total_mean_folder = \"/hps/nobackup/hipsci/scratch/ComparingQtlMapping/SingleCell/PseudoBulk/totmean/\""
   ]
  },
  {
   "cell_type": "code",
   "execution_count": 72,
   "metadata": {},
   "outputs": [],
   "source": [
    "my_folder = paste0(total_mean_folder,\"Run_Output_PCA20_88_log_TPM_scater_libsize_206/\") # scran, 20PCs"
   ]
  },
  {
   "cell_type": "code",
   "execution_count": 73,
   "metadata": {},
   "outputs": [],
   "source": [
    "df0 = read.csv(paste0(my_folder,\"top_qtl_results_all.txt\"), sep = \"\\t\")\n",
    "df0 <- df0[-which(duplicated(df0$feature_id)),]"
   ]
  },
  {
   "cell_type": "code",
   "execution_count": 74,
   "metadata": {},
   "outputs": [
    {
     "data": {
      "text/html": [
       "50429"
      ],
      "text/latex": [
       "50429"
      ],
      "text/markdown": [
       "50429"
      ],
      "text/plain": [
       "[1] 50429"
      ]
     },
     "metadata": {},
     "output_type": "display_data"
    },
    {
     "data": {
      "text/html": [
       "13618"
      ],
      "text/latex": [
       "13618"
      ],
      "text/markdown": [
       "13618"
      ],
      "text/plain": [
       "[1] 13618"
      ]
     },
     "metadata": {},
     "output_type": "display_data"
    },
    {
     "data": {
      "text/html": [
       "1346"
      ],
      "text/latex": [
       "1346"
      ],
      "text/markdown": [
       "1346"
      ],
      "text/plain": [
       "[1] 1346"
      ]
     },
     "metadata": {},
     "output_type": "display_data"
    },
    {
     "data": {
      "text/html": [
       "1346"
      ],
      "text/latex": [
       "1346"
      ],
      "text/markdown": [
       "1346"
      ],
      "text/plain": [
       "[1] 1346"
      ]
     },
     "metadata": {},
     "output_type": "display_data"
    }
   ],
   "source": [
    "length(unique(df0$feature_id))\n",
    "# df1 = df0[df0$feature_id %in% G_file$gene,]\n",
    "df1 = df0[df0$feature_id %in% common_genes,]\n",
    "length(unique(df1$feature_id))\n",
    "df1$q_value = qvalue(df1$empirical_feature_p_value)$qvalues\n",
    "length(unique(df1[df1$q_value < 0.05,'feature_id']))\n",
    "\n",
    "df3 = df1[df1$q_value < 0.05,]\n",
    "nrow(df3)"
   ]
  },
  {
   "cell_type": "code",
   "execution_count": 75,
   "metadata": {},
   "outputs": [
    {
     "name": "stderr",
     "output_type": "stream",
     "text": [
      "Warning message:\n",
      "“Column `snp_id` joining factors with different levels, coercing to character vector”Warning message:\n",
      "“Column `feature_id` joining factors with different levels, coercing to character vector”"
     ]
    },
    {
     "data": {
      "text/html": [
       "1346"
      ],
      "text/latex": [
       "1346"
      ],
      "text/markdown": [
       "1346"
      ],
      "text/plain": [
       "[1] 1346"
      ]
     },
     "metadata": {},
     "output_type": "display_data"
    },
    {
     "data": {
      "text/html": [
       "756"
      ],
      "text/latex": [
       "756"
      ],
      "text/markdown": [
       "756"
      ],
      "text/plain": [
       "[1] 756"
      ]
     },
     "metadata": {},
     "output_type": "display_data"
    },
    {
     "data": {
      "text/html": [
       "770"
      ],
      "text/latex": [
       "770"
      ],
      "text/markdown": [
       "770"
      ],
      "text/plain": [
       "[1] 770"
      ]
     },
     "metadata": {},
     "output_type": "display_data"
    }
   ],
   "source": [
    "df4 = inner_join(df3, res, by = c(\"snp_id\",\"feature_id\"), suffix = c(\".sc\",\".bulk\"))\n",
    "df4 <- df4[-which(duplicated(df4$feature_id)),]\n",
    "nrow(df4)\n",
    "\n",
    "nrow(df4[(df4$p_value.bulk < pv_star_matched & \n",
    "         (df4$beta.sc*df4$beta.bulk)>0),])\n",
    "nrow(df4[(df4$p_value.bulk < pv_star_matched),])"
   ]
  },
  {
   "cell_type": "code",
   "execution_count": 76,
   "metadata": {},
   "outputs": [
    {
     "name": "stderr",
     "output_type": "stream",
     "text": [
      "Warning message:\n",
      "“Column `snp_id` joining factors with different levels, coercing to character vector”Warning message:\n",
      "“Column `feature_id` joining factors with different levels, coercing to character vector”"
     ]
    },
    {
     "data": {
      "text/html": [
       "1342"
      ],
      "text/latex": [
       "1342"
      ],
      "text/markdown": [
       "1342"
      ],
      "text/plain": [
       "[1] 1342"
      ]
     },
     "metadata": {},
     "output_type": "display_data"
    },
    {
     "data": {
      "text/html": [
       "1035"
      ],
      "text/latex": [
       "1035"
      ],
      "text/markdown": [
       "1035"
      ],
      "text/plain": [
       "[1] 1035"
      ]
     },
     "metadata": {},
     "output_type": "display_data"
    },
    {
     "data": {
      "text/html": [
       "1097"
      ],
      "text/latex": [
       "1097"
      ],
      "text/markdown": [
       "1097"
      ],
      "text/plain": [
       "[1] 1097"
      ]
     },
     "metadata": {},
     "output_type": "display_data"
    }
   ],
   "source": [
    "df5 = inner_join(df3, res_all, by = c(\"snp_id\",\"feature_id\"), suffix = c(\".sc\",\".bulk\"))\n",
    "df5 <- df5[-which(duplicated(df5$feature_id)),]\n",
    "nrow(df5)\n",
    "\n",
    "nrow(df5[(df5$p_value.bulk < pv_star_all & \n",
    "         (df5$beta.sc*df5$beta.bulk)>0),])\n",
    "nrow(df5[(df5$p_value.bulk < pv_star_all),])"
   ]
  },
  {
   "cell_type": "code",
   "execution_count": 77,
   "metadata": {},
   "outputs": [
    {
     "data": {
      "text/html": [
       "1035"
      ],
      "text/latex": [
       "1035"
      ],
      "text/markdown": [
       "1035"
      ],
      "text/plain": [
       "[1] 1035"
      ]
     },
     "metadata": {},
     "output_type": "display_data"
    },
    {
     "data": {
      "text/html": [
       "929"
      ],
      "text/latex": [
       "929"
      ],
      "text/markdown": [
       "929"
      ],
      "text/plain": [
       "[1] 929"
      ]
     },
     "metadata": {},
     "output_type": "display_data"
    }
   ],
   "source": [
    "tot_mean_egenes = unique(df5[(df5$p_value.bulk < pv_star_all & (df5$beta.sc*df5$beta.bulk)>0),\"feature_id\"])\n",
    "length(tot_mean_egenes)\n",
    "length(tot_mean_egenes[tot_mean_egenes %in% mean_egenes])"
   ]
  },
  {
   "cell_type": "code",
   "execution_count": null,
   "metadata": {},
   "outputs": [],
   "source": []
  },
  {
   "cell_type": "code",
   "execution_count": null,
   "metadata": {},
   "outputs": [],
   "source": []
  },
  {
   "cell_type": "code",
   "execution_count": 78,
   "metadata": {},
   "outputs": [],
   "source": [
    "##### Median"
   ]
  },
  {
   "cell_type": "code",
   "execution_count": 79,
   "metadata": {},
   "outputs": [],
   "source": [
    "median_folder = \"/hps/nobackup/hipsci/scratch/ComparingQtlMapping/SingleCell/PseudoBulk/median/\""
   ]
  },
  {
   "cell_type": "code",
   "execution_count": 80,
   "metadata": {},
   "outputs": [],
   "source": [
    "my_folder = paste0(median_folder,\"Run_Output_PCA20_88_log_TPM_scater_libsize_206/\") # scran, 20PCs"
   ]
  },
  {
   "cell_type": "code",
   "execution_count": 81,
   "metadata": {},
   "outputs": [],
   "source": [
    "# df = read.csv(paste0(my_folder,\"qtl_results_all.txt\"), sep = \"\\t\")\n",
    "# df <- df[order(df$empirical_feature_p_value, df$p_value ),]\n",
    "# df0 <- df[-which(duplicated(df$feature_id)),]\n",
    "# # nrow(df0)"
   ]
  },
  {
   "cell_type": "code",
   "execution_count": 82,
   "metadata": {},
   "outputs": [
    {
     "data": {
      "text/html": [
       "13628"
      ],
      "text/latex": [
       "13628"
      ],
      "text/markdown": [
       "13628"
      ],
      "text/plain": [
       "[1] 13628"
      ]
     },
     "metadata": {},
     "output_type": "display_data"
    }
   ],
   "source": [
    "df0 = read.csv(paste0(my_folder,\"top_qtl_results_all.txt\"), sep = \"\\t\")\n",
    "median_genes = unique(df0$feature_id)\n",
    "length(median_genes)"
   ]
  },
  {
   "cell_type": "code",
   "execution_count": 83,
   "metadata": {},
   "outputs": [
    {
     "data": {
      "text/html": [
       "13628"
      ],
      "text/latex": [
       "13628"
      ],
      "text/markdown": [
       "13628"
      ],
      "text/plain": [
       "[1] 13628"
      ]
     },
     "metadata": {},
     "output_type": "display_data"
    },
    {
     "data": {
      "text/html": [
       "13618"
      ],
      "text/latex": [
       "13618"
      ],
      "text/markdown": [
       "13618"
      ],
      "text/plain": [
       "[1] 13618"
      ]
     },
     "metadata": {},
     "output_type": "display_data"
    },
    {
     "data": {
      "text/html": [
       "1504"
      ],
      "text/latex": [
       "1504"
      ],
      "text/markdown": [
       "1504"
      ],
      "text/plain": [
       "[1] 1504"
      ]
     },
     "metadata": {},
     "output_type": "display_data"
    },
    {
     "data": {
      "text/html": [
       "1508"
      ],
      "text/latex": [
       "1508"
      ],
      "text/markdown": [
       "1508"
      ],
      "text/plain": [
       "[1] 1508"
      ]
     },
     "metadata": {},
     "output_type": "display_data"
    },
    {
     "name": "stderr",
     "output_type": "stream",
     "text": [
      "Warning message:\n",
      "“Column `snp_id` joining factors with different levels, coercing to character vector”Warning message:\n",
      "“Column `feature_id` joining factors with different levels, coercing to character vector”"
     ]
    },
    {
     "data": {
      "text/html": [
       "1504"
      ],
      "text/latex": [
       "1504"
      ],
      "text/markdown": [
       "1504"
      ],
      "text/plain": [
       "[1] 1504"
      ]
     },
     "metadata": {},
     "output_type": "display_data"
    },
    {
     "data": {
      "text/html": [
       "861"
      ],
      "text/latex": [
       "861"
      ],
      "text/markdown": [
       "861"
      ],
      "text/plain": [
       "[1] 861"
      ]
     },
     "metadata": {},
     "output_type": "display_data"
    },
    {
     "data": {
      "text/html": [
       "911"
      ],
      "text/latex": [
       "911"
      ],
      "text/markdown": [
       "911"
      ],
      "text/plain": [
       "[1] 911"
      ]
     },
     "metadata": {},
     "output_type": "display_data"
    },
    {
     "name": "stderr",
     "output_type": "stream",
     "text": [
      "Warning message:\n",
      "“Column `snp_id` joining factors with different levels, coercing to character vector”Warning message:\n",
      "“Column `feature_id` joining factors with different levels, coercing to character vector”"
     ]
    },
    {
     "data": {
      "text/html": [
       "1498"
      ],
      "text/latex": [
       "1498"
      ],
      "text/markdown": [
       "1498"
      ],
      "text/plain": [
       "[1] 1498"
      ]
     },
     "metadata": {},
     "output_type": "display_data"
    },
    {
     "data": {
      "text/html": [
       "922"
      ],
      "text/latex": [
       "922"
      ],
      "text/markdown": [
       "922"
      ],
      "text/plain": [
       "[1] 922"
      ]
     },
     "metadata": {},
     "output_type": "display_data"
    },
    {
     "data": {
      "text/html": [
       "996"
      ],
      "text/latex": [
       "996"
      ],
      "text/markdown": [
       "996"
      ],
      "text/plain": [
       "[1] 996"
      ]
     },
     "metadata": {},
     "output_type": "display_data"
    }
   ],
   "source": [
    "length(unique(df0$feature_id))\n",
    "# df1 = df0[df0$feature_id %in% G_file$gene,]\n",
    "df1 = df0[df0$feature_id %in% common_genes,]\n",
    "length(unique(df1$feature_id))\n",
    "df1$q_value = qvalue(df1$empirical_feature_p_value)$qvalues\n",
    "length(unique(df1[df1$q_value < 0.05,'feature_id']))\n",
    "\n",
    "df3 = df1[df1$q_value < 0.05,]\n",
    "nrow(df3)\n",
    "\n",
    "df4 = inner_join(df3, res, by = c(\"snp_id\",\"feature_id\"), suffix = c(\".sc\",\".bulk\"))\n",
    "df4 <- df4[-which(duplicated(df4$feature_id)),]\n",
    "nrow(df4)\n",
    "\n",
    "nrow(df4[(df4$p_value.bulk < 0.05 & \n",
    "         (df4$beta.sc*df4$beta.bulk)>0),])\n",
    "nrow(df4[(df4$p_value.bulk < 0.05),])\n",
    "\n",
    "df5 = inner_join(df3, res_all, by = c(\"snp_id\",\"feature_id\"), suffix = c(\".sc\",\".bulk\"))\n",
    "df5 <- df5[-which(duplicated(df5$feature_id)),]\n",
    "nrow(df5)\n",
    "\n",
    "nrow(df5[(df5$p_value.bulk < pv_star_all & \n",
    "         (df5$beta.sc*df5$beta.bulk)>0),])\n",
    "nrow(df5[(df5$p_value.bulk < pv_star_all),])"
   ]
  },
  {
   "cell_type": "code",
   "execution_count": 84,
   "metadata": {},
   "outputs": [
    {
     "data": {
      "text/html": [
       "922"
      ],
      "text/latex": [
       "922"
      ],
      "text/markdown": [
       "922"
      ],
      "text/plain": [
       "[1] 922"
      ]
     },
     "metadata": {},
     "output_type": "display_data"
    },
    {
     "data": {
      "text/html": [
       "776"
      ],
      "text/latex": [
       "776"
      ],
      "text/markdown": [
       "776"
      ],
      "text/plain": [
       "[1] 776"
      ]
     },
     "metadata": {},
     "output_type": "display_data"
    }
   ],
   "source": [
    "median_egenes = unique(df5[(df5$p_value.bulk < pv_star_all & (df5$beta.sc*df5$beta.bulk)>0),\"feature_id\"])\n",
    "length(median_egenes)\n",
    "length(median_egenes[median_egenes %in% mean_egenes])"
   ]
  },
  {
   "cell_type": "code",
   "execution_count": 85,
   "metadata": {},
   "outputs": [],
   "source": [
    "##### Sum"
   ]
  },
  {
   "cell_type": "code",
   "execution_count": 86,
   "metadata": {},
   "outputs": [],
   "source": [
    "sum_folder = \"/hps/nobackup/hipsci/scratch/ComparingQtlMapping/SingleCell/PseudoBulk/sum/\""
   ]
  },
  {
   "cell_type": "code",
   "execution_count": 87,
   "metadata": {},
   "outputs": [],
   "source": [
    "my_folder = paste0(sum_folder,\"Run_Output_PCA20_88_log_TPM_edgeR_libsize_206/\") # edgeR, 20PCs"
   ]
  },
  {
   "cell_type": "code",
   "execution_count": 88,
   "metadata": {},
   "outputs": [],
   "source": [
    "df0 = read.csv(paste0(my_folder,\"top_qtl_results_all.txt\"), sep = \"\\t\")\n",
    "df0 <- df0[-which(duplicated(df0$feature_id)),]"
   ]
  },
  {
   "cell_type": "code",
   "execution_count": 89,
   "metadata": {},
   "outputs": [
    {
     "data": {
      "text/html": [
       "50427"
      ],
      "text/latex": [
       "50427"
      ],
      "text/markdown": [
       "50427"
      ],
      "text/plain": [
       "[1] 50427"
      ]
     },
     "metadata": {},
     "output_type": "display_data"
    },
    {
     "data": {
      "text/html": [
       "13618"
      ],
      "text/latex": [
       "13618"
      ],
      "text/markdown": [
       "13618"
      ],
      "text/plain": [
       "[1] 13618"
      ]
     },
     "metadata": {},
     "output_type": "display_data"
    },
    {
     "data": {
      "text/html": [
       "1489"
      ],
      "text/latex": [
       "1489"
      ],
      "text/markdown": [
       "1489"
      ],
      "text/plain": [
       "[1] 1489"
      ]
     },
     "metadata": {},
     "output_type": "display_data"
    },
    {
     "data": {
      "text/html": [
       "1489"
      ],
      "text/latex": [
       "1489"
      ],
      "text/markdown": [
       "1489"
      ],
      "text/plain": [
       "[1] 1489"
      ]
     },
     "metadata": {},
     "output_type": "display_data"
    }
   ],
   "source": [
    "length(unique(df0$feature_id))\n",
    "# df1 = df0[df0$feature_id %in% G_file$gene,]\n",
    "df1 = df0[df0$feature_id %in% common_genes,]\n",
    "length(unique(df1$feature_id))\n",
    "df1$q_value = qvalue(df1$empirical_feature_p_value)$qvalues\n",
    "length(unique(df1[df1$q_value < 0.05,'feature_id']))\n",
    "\n",
    "df3 = df1[df1$q_value < 0.05,]\n",
    "nrow(df3)"
   ]
  },
  {
   "cell_type": "code",
   "execution_count": 90,
   "metadata": {},
   "outputs": [
    {
     "name": "stderr",
     "output_type": "stream",
     "text": [
      "Warning message:\n",
      "“Column `snp_id` joining factors with different levels, coercing to character vector”Warning message:\n",
      "“Column `feature_id` joining factors with different levels, coercing to character vector”"
     ]
    },
    {
     "data": {
      "text/html": [
       "1478"
      ],
      "text/latex": [
       "1478"
      ],
      "text/markdown": [
       "1478"
      ],
      "text/plain": [
       "[1] 1478"
      ]
     },
     "metadata": {},
     "output_type": "display_data"
    },
    {
     "data": {
      "text/html": [
       "1042"
      ],
      "text/latex": [
       "1042"
      ],
      "text/markdown": [
       "1042"
      ],
      "text/plain": [
       "[1] 1042"
      ]
     },
     "metadata": {},
     "output_type": "display_data"
    },
    {
     "data": {
      "text/html": [
       "1084"
      ],
      "text/latex": [
       "1084"
      ],
      "text/markdown": [
       "1084"
      ],
      "text/plain": [
       "[1] 1084"
      ]
     },
     "metadata": {},
     "output_type": "display_data"
    }
   ],
   "source": [
    "df4 = inner_join(df3, res, by = c(\"snp_id\",\"feature_id\"), suffix = c(\".sc\",\".bulk\"))\n",
    "df4 <- df4[-which(duplicated(df4$feature_id)),]\n",
    "nrow(df4)\n",
    "\n",
    "nrow(df4[(df4$p_value.bulk < 0.05 & \n",
    "         (df4$beta.sc*df4$beta.bulk)>0),])\n",
    "nrow(df4[(df4$p_value.bulk < 0.05),])"
   ]
  },
  {
   "cell_type": "code",
   "execution_count": 91,
   "metadata": {},
   "outputs": [
    {
     "name": "stderr",
     "output_type": "stream",
     "text": [
      "Warning message:\n",
      "“Column `snp_id` joining factors with different levels, coercing to character vector”Warning message:\n",
      "“Column `feature_id` joining factors with different levels, coercing to character vector”"
     ]
    },
    {
     "data": {
      "text/html": [
       "1475"
      ],
      "text/latex": [
       "1475"
      ],
      "text/markdown": [
       "1475"
      ],
      "text/plain": [
       "[1] 1475"
      ]
     },
     "metadata": {},
     "output_type": "display_data"
    },
    {
     "data": {
      "text/html": [
       "1125"
      ],
      "text/latex": [
       "1125"
      ],
      "text/markdown": [
       "1125"
      ],
      "text/plain": [
       "[1] 1125"
      ]
     },
     "metadata": {},
     "output_type": "display_data"
    },
    {
     "data": {
      "text/html": [
       "1185"
      ],
      "text/latex": [
       "1185"
      ],
      "text/markdown": [
       "1185"
      ],
      "text/plain": [
       "[1] 1185"
      ]
     },
     "metadata": {},
     "output_type": "display_data"
    }
   ],
   "source": [
    "df5 = inner_join(df3, res_all, by = c(\"snp_id\",\"feature_id\"), suffix = c(\".sc\",\".bulk\"))\n",
    "df5 <- df5[-which(duplicated(df5$feature_id)),]\n",
    "nrow(df5)\n",
    "\n",
    "nrow(df5[(df5$p_value.bulk < pv_star_all & \n",
    "         (df5$beta.sc*df5$beta.bulk)>0),])\n",
    "nrow(df5[(df5$p_value.bulk < pv_star_all),])"
   ]
  },
  {
   "cell_type": "code",
   "execution_count": 92,
   "metadata": {},
   "outputs": [
    {
     "data": {
      "text/html": [
       "1125"
      ],
      "text/latex": [
       "1125"
      ],
      "text/markdown": [
       "1125"
      ],
      "text/plain": [
       "[1] 1125"
      ]
     },
     "metadata": {},
     "output_type": "display_data"
    },
    {
     "data": {
      "text/html": [
       "918"
      ],
      "text/latex": [
       "918"
      ],
      "text/markdown": [
       "918"
      ],
      "text/plain": [
       "[1] 918"
      ]
     },
     "metadata": {},
     "output_type": "display_data"
    }
   ],
   "source": [
    "sum_egenes = unique(df5[(df5$p_value.bulk < pv_star_all & (df5$beta.sc*df5$beta.bulk)>0),\"feature_id\"])\n",
    "length(sum_egenes)\n",
    "length(sum_egenes[sum_egenes %in% mean_egenes])"
   ]
  },
  {
   "cell_type": "code",
   "execution_count": null,
   "metadata": {},
   "outputs": [],
   "source": []
  },
  {
   "cell_type": "code",
   "execution_count": 93,
   "metadata": {},
   "outputs": [],
   "source": [
    "##### Total Sum"
   ]
  },
  {
   "cell_type": "code",
   "execution_count": 94,
   "metadata": {},
   "outputs": [],
   "source": [
    "total_sum_folder = \"/hps/nobackup/hipsci/scratch/ComparingQtlMapping/SingleCell/PseudoBulk/totsum/\""
   ]
  },
  {
   "cell_type": "code",
   "execution_count": 95,
   "metadata": {},
   "outputs": [],
   "source": [
    "my_folder = paste0(total_sum_folder,\"Run_Output_PCA20_88_log_TPM_edgeR_libsize_206/\") # edgeR, 20PCs"
   ]
  },
  {
   "cell_type": "code",
   "execution_count": 59,
   "metadata": {},
   "outputs": [],
   "source": [
    "df = read.csv(paste0(my_folder,\"qtl_results_all.txt\"), sep = \"\\t\")\n",
    "df <- df[order(df$empirical_feature_p_value, df$p_value ),]\n",
    "df0 <- df[-which(duplicated(df$feature_id)),]\n",
    "# nrow(df0)\n",
    "length(unique(df0$feature_id))"
   ]
  },
  {
   "cell_type": "code",
   "execution_count": null,
   "metadata": {},
   "outputs": [],
   "source": [
    "write.table(df0, \"/hps/nobackup/stegle/users/acuomo/all_scripts/sc_eqtl/top_qtl_results_totsum.txt\")"
   ]
  },
  {
   "cell_type": "code",
   "execution_count": 96,
   "metadata": {},
   "outputs": [
    {
     "data": {
      "text/html": [
       "<table>\n",
       "<thead><tr><th></th><th scope=col>feature_id</th><th scope=col>snp_id</th><th scope=col>p_value</th><th scope=col>beta</th><th scope=col>beta_se</th><th scope=col>empirical_feature_p_value</th><th scope=col>feature_chromosome</th><th scope=col>feature_start</th><th scope=col>feature_end</th><th scope=col>n_samples</th><th scope=col>n_e_samples</th><th scope=col>alpha_param</th><th scope=col>beta_param</th><th scope=col>snp_chromosome</th><th scope=col>snp_position</th><th scope=col>assessed_allele</th><th scope=col>call_rate</th><th scope=col>maf</th><th scope=col>hwe_p</th></tr></thead>\n",
       "<tbody>\n",
       "\t<tr><th scope=row>1955841</th><td>ENSG00000203875</td><td>6_86387888_G_T </td><td>1.514293e-27   </td><td> 1.010238      </td><td>0.09289432     </td><td>6.375394e-24   </td><td> 6             </td><td>86370710       </td><td>86388451       </td><td>87             </td><td>87             </td><td>0.7886659      </td><td>17.12808       </td><td> 6             </td><td>86387888       </td><td>T              </td><td>1              </td><td>0.4655172      </td><td>0.6673797      </td></tr>\n",
       "\t<tr><th scope=row>6927785</th><td>ENSG00000204650</td><td>17_43679121_G_A</td><td>9.296484e-23   </td><td>-1.201981      </td><td>0.12240973     </td><td>2.026242e-20   </td><td>17             </td><td>43697694       </td><td>43725582       </td><td>87             </td><td>87             </td><td>0.7567724      </td><td>29.08926       </td><td>17             </td><td>43679121       </td><td>A              </td><td>1              </td><td>0.2701149      </td><td>0.1020851      </td></tr>\n",
       "</tbody>\n",
       "</table>\n"
      ],
      "text/latex": [
       "\\begin{tabular}{r|lllllllllllllllllll}\n",
       "  & feature\\_id & snp\\_id & p\\_value & beta & beta\\_se & empirical\\_feature\\_p\\_value & feature\\_chromosome & feature\\_start & feature\\_end & n\\_samples & n\\_e\\_samples & alpha\\_param & beta\\_param & snp\\_chromosome & snp\\_position & assessed\\_allele & call\\_rate & maf & hwe\\_p\\\\\n",
       "\\hline\n",
       "\t1955841 & ENSG00000203875       & 6\\_86387888\\_G\\_T  & 1.514293e-27          &  1.010238             & 0.09289432            & 6.375394e-24          &  6                    & 86370710              & 86388451              & 87                    & 87                    & 0.7886659             & 17.12808              &  6                    & 86387888              & T                     & 1                     & 0.4655172             & 0.6673797            \\\\\n",
       "\t6927785 & ENSG00000204650       & 17\\_43679121\\_G\\_A & 9.296484e-23          & -1.201981             & 0.12240973            & 2.026242e-20          & 17                    & 43697694              & 43725582              & 87                    & 87                    & 0.7567724             & 29.08926              & 17                    & 43679121              & A                     & 1                     & 0.2701149             & 0.1020851            \\\\\n",
       "\\end{tabular}\n"
      ],
      "text/markdown": [
       "\n",
       "| <!--/--> | feature_id | snp_id | p_value | beta | beta_se | empirical_feature_p_value | feature_chromosome | feature_start | feature_end | n_samples | n_e_samples | alpha_param | beta_param | snp_chromosome | snp_position | assessed_allele | call_rate | maf | hwe_p |\n",
       "|---|---|---|---|---|---|---|---|---|---|---|---|---|---|---|---|---|---|---|---|\n",
       "| 1955841 | ENSG00000203875 | 6_86387888_G_T  | 1.514293e-27    |  1.010238       | 0.09289432      | 6.375394e-24    |  6              | 86370710        | 86388451        | 87              | 87              | 0.7886659       | 17.12808        |  6              | 86387888        | T               | 1               | 0.4655172       | 0.6673797       |\n",
       "| 6927785 | ENSG00000204650 | 17_43679121_G_A | 9.296484e-23    | -1.201981       | 0.12240973      | 2.026242e-20    | 17              | 43697694        | 43725582        | 87              | 87              | 0.7567724       | 29.08926        | 17              | 43679121        | A               | 1               | 0.2701149       | 0.1020851       |\n",
       "\n"
      ],
      "text/plain": [
       "        feature_id      snp_id          p_value      beta      beta_se   \n",
       "1955841 ENSG00000203875 6_86387888_G_T  1.514293e-27  1.010238 0.09289432\n",
       "6927785 ENSG00000204650 17_43679121_G_A 9.296484e-23 -1.201981 0.12240973\n",
       "        empirical_feature_p_value feature_chromosome feature_start feature_end\n",
       "1955841 6.375394e-24               6                 86370710      86388451   \n",
       "6927785 2.026242e-20              17                 43697694      43725582   \n",
       "        n_samples n_e_samples alpha_param beta_param snp_chromosome\n",
       "1955841 87        87          0.7886659   17.12808    6            \n",
       "6927785 87        87          0.7567724   29.08926   17            \n",
       "        snp_position assessed_allele call_rate maf       hwe_p    \n",
       "1955841 86387888     T               1         0.4655172 0.6673797\n",
       "6927785 43679121     A               1         0.2701149 0.1020851"
      ]
     },
     "metadata": {},
     "output_type": "display_data"
    }
   ],
   "source": [
    "df0 = read.csv(\"/hps/nobackup/stegle/users/acuomo/all_scripts/sc_eqtl/top_qtl_results_totsum.txt\", sep = ' ')\n",
    "head(df0,2)"
   ]
  },
  {
   "cell_type": "code",
   "execution_count": 97,
   "metadata": {},
   "outputs": [
    {
     "data": {
      "text/html": [
       "50429"
      ],
      "text/latex": [
       "50429"
      ],
      "text/markdown": [
       "50429"
      ],
      "text/plain": [
       "[1] 50429"
      ]
     },
     "metadata": {},
     "output_type": "display_data"
    },
    {
     "data": {
      "text/html": [
       "13618"
      ],
      "text/latex": [
       "13618"
      ],
      "text/markdown": [
       "13618"
      ],
      "text/plain": [
       "[1] 13618"
      ]
     },
     "metadata": {},
     "output_type": "display_data"
    },
    {
     "data": {
      "text/html": [
       "1193"
      ],
      "text/latex": [
       "1193"
      ],
      "text/markdown": [
       "1193"
      ],
      "text/plain": [
       "[1] 1193"
      ]
     },
     "metadata": {},
     "output_type": "display_data"
    },
    {
     "data": {
      "text/html": [
       "1193"
      ],
      "text/latex": [
       "1193"
      ],
      "text/markdown": [
       "1193"
      ],
      "text/plain": [
       "[1] 1193"
      ]
     },
     "metadata": {},
     "output_type": "display_data"
    },
    {
     "name": "stderr",
     "output_type": "stream",
     "text": [
      "Warning message:\n",
      "“Column `snp_id` joining factors with different levels, coercing to character vector”Warning message:\n",
      "“Column `feature_id` joining factors with different levels, coercing to character vector”"
     ]
    },
    {
     "data": {
      "text/html": [
       "1193"
      ],
      "text/latex": [
       "1193"
      ],
      "text/markdown": [
       "1193"
      ],
      "text/plain": [
       "[1] 1193"
      ]
     },
     "metadata": {},
     "output_type": "display_data"
    },
    {
     "data": {
      "text/html": [
       "874"
      ],
      "text/latex": [
       "874"
      ],
      "text/markdown": [
       "874"
      ],
      "text/plain": [
       "[1] 874"
      ]
     },
     "metadata": {},
     "output_type": "display_data"
    },
    {
     "data": {
      "text/html": [
       "913"
      ],
      "text/latex": [
       "913"
      ],
      "text/markdown": [
       "913"
      ],
      "text/plain": [
       "[1] 913"
      ]
     },
     "metadata": {},
     "output_type": "display_data"
    },
    {
     "name": "stderr",
     "output_type": "stream",
     "text": [
      "Warning message:\n",
      "“Column `snp_id` joining factors with different levels, coercing to character vector”Warning message:\n",
      "“Column `feature_id` joining factors with different levels, coercing to character vector”"
     ]
    },
    {
     "data": {
      "text/html": [
       "1189"
      ],
      "text/latex": [
       "1189"
      ],
      "text/markdown": [
       "1189"
      ],
      "text/plain": [
       "[1] 1189"
      ]
     },
     "metadata": {},
     "output_type": "display_data"
    },
    {
     "data": {
      "text/html": [
       "933"
      ],
      "text/latex": [
       "933"
      ],
      "text/markdown": [
       "933"
      ],
      "text/plain": [
       "[1] 933"
      ]
     },
     "metadata": {},
     "output_type": "display_data"
    },
    {
     "data": {
      "text/html": [
       "992"
      ],
      "text/latex": [
       "992"
      ],
      "text/markdown": [
       "992"
      ],
      "text/plain": [
       "[1] 992"
      ]
     },
     "metadata": {},
     "output_type": "display_data"
    }
   ],
   "source": [
    "length(unique(df0$feature_id))\n",
    "# df1 = df0[df0$feature_id %in% G_file$gene,]\n",
    "df1 = df0[df0$feature_id %in% common_genes,]\n",
    "length(unique(df1$feature_id))\n",
    "df1$q_value = qvalue(df1$empirical_feature_p_value)$qvalues\n",
    "length(unique(df1[df1$q_value < 0.05,'feature_id']))\n",
    "\n",
    "df3 = df1[df1$q_value < 0.05,]\n",
    "nrow(df3)\n",
    "\n",
    "df4 = inner_join(df3, res, by = c(\"snp_id\",\"feature_id\"), suffix = c(\".sc\",\".bulk\"))\n",
    "df4 <- df4[-which(duplicated(df4$feature_id)),]\n",
    "nrow(df4)\n",
    "\n",
    "nrow(df4[(df4$p_value.bulk < 0.05 & \n",
    "         (df4$beta.sc*df4$beta.bulk)>0),])\n",
    "nrow(df4[(df4$p_value.bulk < 0.05),])\n",
    "\n",
    "df5 = inner_join(df3, res_all, by = c(\"snp_id\",\"feature_id\"), suffix = c(\".sc\",\".bulk\"))\n",
    "df5 <- df5[-which(duplicated(df5$feature_id)),]\n",
    "nrow(df5)\n",
    "\n",
    "nrow(df5[(df5$p_value.bulk < pv_star_all & \n",
    "         (df5$beta.sc*df5$beta.bulk)>0),])\n",
    "nrow(df5[(df5$p_value.bulk < pv_star_all),])"
   ]
  },
  {
   "cell_type": "code",
   "execution_count": 98,
   "metadata": {},
   "outputs": [
    {
     "data": {
      "text/html": [
       "933"
      ],
      "text/latex": [
       "933"
      ],
      "text/markdown": [
       "933"
      ],
      "text/plain": [
       "[1] 933"
      ]
     },
     "metadata": {},
     "output_type": "display_data"
    },
    {
     "data": {
      "text/html": [
       "795"
      ],
      "text/latex": [
       "795"
      ],
      "text/markdown": [
       "795"
      ],
      "text/plain": [
       "[1] 795"
      ]
     },
     "metadata": {},
     "output_type": "display_data"
    }
   ],
   "source": [
    "tot_sum_egenes = unique(df5[(df5$p_value.bulk < pv_star_all & (df5$beta.sc*df5$beta.bulk)>0),\"feature_id\"])\n",
    "length(tot_sum_egenes)\n",
    "length(tot_sum_egenes[tot_sum_egenes %in% mean_egenes])"
   ]
  },
  {
   "cell_type": "code",
   "execution_count": null,
   "metadata": {},
   "outputs": [],
   "source": []
  },
  {
   "cell_type": "code",
   "execution_count": null,
   "metadata": {},
   "outputs": [],
   "source": []
  },
  {
   "cell_type": "code",
   "execution_count": null,
   "metadata": {},
   "outputs": [],
   "source": []
  },
  {
   "cell_type": "code",
   "execution_count": null,
   "metadata": {},
   "outputs": [],
   "source": []
  },
  {
   "cell_type": "code",
   "execution_count": 455,
   "metadata": {},
   "outputs": [],
   "source": [
    "my_folder = paste0(mean_folder,\"Run_Output_PCA20_88_log_TPM_scater_libsize_206/\") # scran, 20PCs\n",
    "my_folder = paste0(mean_folder,\"Run_Output_PCA20_88_log_TPM_scater_libsize_206_baynorm/\") # baynorm, 20PCs"
   ]
  },
  {
   "cell_type": "code",
   "execution_count": 456,
   "metadata": {},
   "outputs": [],
   "source": [
    "df0 = read.csv(paste0(my_folder,\"top_qtl_results_all.txt\"), sep = \"\\t\")\n",
    "df0 <- df0[-which(duplicated(df0$feature_id)),]"
   ]
  },
  {
   "cell_type": "code",
   "execution_count": 457,
   "metadata": {},
   "outputs": [
    {
     "data": {
      "text/html": [
       "48570"
      ],
      "text/latex": [
       "48570"
      ],
      "text/markdown": [
       "48570"
      ],
      "text/plain": [
       "[1] 48570"
      ]
     },
     "metadata": {},
     "output_type": "display_data"
    },
    {
     "data": {
      "text/html": [
       "19876"
      ],
      "text/latex": [
       "19876"
      ],
      "text/markdown": [
       "19876"
      ],
      "text/plain": [
       "[1] 19876"
      ]
     },
     "metadata": {},
     "output_type": "display_data"
    },
    {
     "data": {
      "text/html": [
       "1955"
      ],
      "text/latex": [
       "1955"
      ],
      "text/markdown": [
       "1955"
      ],
      "text/plain": [
       "[1] 1955"
      ]
     },
     "metadata": {},
     "output_type": "display_data"
    },
    {
     "data": {
      "text/html": [
       "10408"
      ],
      "text/latex": [
       "10408"
      ],
      "text/markdown": [
       "10408"
      ],
      "text/plain": [
       "[1] 10408"
      ]
     },
     "metadata": {},
     "output_type": "display_data"
    },
    {
     "data": {
      "text/html": [
       "1346"
      ],
      "text/latex": [
       "1346"
      ],
      "text/markdown": [
       "1346"
      ],
      "text/plain": [
       "[1] 1346"
      ]
     },
     "metadata": {},
     "output_type": "display_data"
    }
   ],
   "source": [
    "df0 = df0[df0$feature_id %in% common_genes,]\n",
    "length(unique(df0$feature_id))\n",
    "df1 = df0[df0$feature_id %in% G_file$gene,]\n",
    "length(unique(df1$feature_id))\n",
    "df1$BH_fdr = p.adjust(df1$empirical_feature_p_value, method = \"BH\")\n",
    "length(unique(df1[df1$BH_fdr < 0.05,'feature_id']))\n",
    "df2 = df0[df0$feature_id %in% A_file$gene,]\n",
    "length(unique(df2$feature_id))\n",
    "df2$BH_fdr = p.adjust(df2$empirical_feature_p_value, method = \"BH\")\n",
    "length(unique(df2[df2$BH_fdr < 0.05,'feature_id']))"
   ]
  },
  {
   "cell_type": "code",
   "execution_count": 326,
   "metadata": {
    "scrolled": true
   },
   "outputs": [
    {
     "data": {
      "text/html": [
       "50429"
      ],
      "text/latex": [
       "50429"
      ],
      "text/markdown": [
       "50429"
      ],
      "text/plain": [
       "[1] 50429"
      ]
     },
     "metadata": {},
     "output_type": "display_data"
    }
   ],
   "source": [
    "# df0 = read.csv(paste0(my_folder,\"top_qtl_results_all.txt\"), sep = \"\\t\")\n",
    "totsum_genes = unique(df0$feature_id)\n",
    "length(totsum_genes)"
   ]
  },
  {
   "cell_type": "code",
   "execution_count": 448,
   "metadata": {},
   "outputs": [
    {
     "data": {
      "text/html": [
       "48579"
      ],
      "text/latex": [
       "48579"
      ],
      "text/markdown": [
       "48579"
      ],
      "text/plain": [
       "[1] 48579"
      ]
     },
     "metadata": {},
     "output_type": "display_data"
    },
    {
     "data": {
      "text/html": [
       "48570"
      ],
      "text/latex": [
       "48570"
      ],
      "text/markdown": [
       "48570"
      ],
      "text/plain": [
       "[1] 48570"
      ]
     },
     "metadata": {},
     "output_type": "display_data"
    },
    {
     "data": {
      "text/html": [
       "48570"
      ],
      "text/latex": [
       "48570"
      ],
      "text/markdown": [
       "48570"
      ],
      "text/plain": [
       "[1] 48570"
      ]
     },
     "metadata": {},
     "output_type": "display_data"
    },
    {
     "data": {
      "text/html": [
       "13177"
      ],
      "text/latex": [
       "13177"
      ],
      "text/markdown": [
       "13177"
      ],
      "text/plain": [
       "[1] 13177"
      ]
     },
     "metadata": {},
     "output_type": "display_data"
    }
   ],
   "source": [
    "genes0 = mean_genes[mean_genes %in% totmean_genes]\n",
    "length(genes0)\n",
    "genes1 = genes0[genes0 %in% sum_genes]\n",
    "length(genes1)\n",
    "genes2 = genes1[genes1 %in% totsum_genes]\n",
    "length(genes2)\n",
    "common_genes = genes2\n",
    "genes3 = genes2[genes2 %in% median_genes]\n",
    "length(genes3)\n",
    "# common_genes = genes3"
   ]
  },
  {
   "cell_type": "code",
   "execution_count": 436,
   "metadata": {},
   "outputs": [
    {
     "data": {
      "text/html": [
       "13177"
      ],
      "text/latex": [
       "13177"
      ],
      "text/markdown": [
       "13177"
      ],
      "text/plain": [
       "[1] 13177"
      ]
     },
     "metadata": {},
     "output_type": "display_data"
    },
    {
     "data": {
      "text/html": [
       "13117"
      ],
      "text/latex": [
       "13117"
      ],
      "text/markdown": [
       "13117"
      ],
      "text/plain": [
       "[1] 13117"
      ]
     },
     "metadata": {},
     "output_type": "display_data"
    },
    {
     "data": {
      "text/html": [
       "9886"
      ],
      "text/latex": [
       "9886"
      ],
      "text/markdown": [
       "9886"
      ],
      "text/plain": [
       "[1] 9886"
      ]
     },
     "metadata": {},
     "output_type": "display_data"
    }
   ],
   "source": [
    "length(common_genes)\n",
    "length(common_genes[common_genes %in% G_file$gene])\n",
    "length(common_genes[common_genes %in% A_file$gene])"
   ]
  },
  {
   "cell_type": "code",
   "execution_count": 426,
   "metadata": {},
   "outputs": [
    {
     "data": {
      "text/html": [
       "48570"
      ],
      "text/latex": [
       "48570"
      ],
      "text/markdown": [
       "48570"
      ],
      "text/plain": [
       "[1] 48570"
      ]
     },
     "metadata": {},
     "output_type": "display_data"
    }
   ],
   "source": [
    "# df0 = read.csv(paste0(my_folder,\"top_qtl_results_all.txt\"), sep = \"\\t\")\n",
    "df0 = df0[df0$feature_id %in% common_genes,]\n",
    "length(unique(df0$feature_id))"
   ]
  },
  {
   "cell_type": "code",
   "execution_count": 427,
   "metadata": {},
   "outputs": [],
   "source": [
    "# df = read.csv(paste0(my_folder,\"qtl_results_all.txt\"), sep = \"\\t\")\n",
    "# df <- df[order(df$empirical_feature_p_value, df$p_value ),]\n",
    "# df0 <- df[-which(duplicated(df$feature_id)),]\n",
    "# nrow(df0)"
   ]
  },
  {
   "cell_type": "code",
   "execution_count": 428,
   "metadata": {},
   "outputs": [],
   "source": [
    "# totsum_genes = df0$feature_id"
   ]
  },
  {
   "cell_type": "code",
   "execution_count": 429,
   "metadata": {},
   "outputs": [],
   "source": [
    "# length(totmean_genes)\n",
    "# length(totmean_genes[totmean_genes %in% common_genes])"
   ]
  },
  {
   "cell_type": "code",
   "execution_count": 430,
   "metadata": {},
   "outputs": [
    {
     "data": {
      "text/html": [
       "19876"
      ],
      "text/latex": [
       "19876"
      ],
      "text/markdown": [
       "19876"
      ],
      "text/plain": [
       "[1] 19876"
      ]
     },
     "metadata": {},
     "output_type": "display_data"
    }
   ],
   "source": [
    "df1 = df0[df0$feature_id %in% G_file$gene,]\n",
    "length(unique(df1$feature_id))"
   ]
  },
  {
   "cell_type": "code",
   "execution_count": 431,
   "metadata": {},
   "outputs": [
    {
     "data": {
      "text/html": [
       "1433"
      ],
      "text/latex": [
       "1433"
      ],
      "text/markdown": [
       "1433"
      ],
      "text/plain": [
       "[1] 1433"
      ]
     },
     "metadata": {},
     "output_type": "display_data"
    }
   ],
   "source": [
    "df1$BH_fdr = p.adjust(df1$empirical_feature_p_value, method = \"BH\")\n",
    "length(unique(df1[df1$BH_fdr < 0.05,'feature_id']))\n",
    "# c(nrow(df1[df1$BH_fdr < 0.05,]), nrow(df1[df1$BH_fdr < 0.05,])/nrow(df1))"
   ]
  },
  {
   "cell_type": "code",
   "execution_count": 432,
   "metadata": {},
   "outputs": [
    {
     "data": {
      "text/html": [
       "10408"
      ],
      "text/latex": [
       "10408"
      ],
      "text/markdown": [
       "10408"
      ],
      "text/plain": [
       "[1] 10408"
      ]
     },
     "metadata": {},
     "output_type": "display_data"
    }
   ],
   "source": [
    "df2 = df0[df0$feature_id %in% A_file$gene,]\n",
    "length(unique(df2$feature_id))"
   ]
  },
  {
   "cell_type": "code",
   "execution_count": 433,
   "metadata": {},
   "outputs": [
    {
     "data": {
      "text/html": [
       "1045"
      ],
      "text/latex": [
       "1045"
      ],
      "text/markdown": [
       "1045"
      ],
      "text/plain": [
       "[1] 1045"
      ]
     },
     "metadata": {},
     "output_type": "display_data"
    }
   ],
   "source": [
    "df2$BH_fdr = p.adjust(df2$empirical_feature_p_value, method = \"BH\")\n",
    "length(unique(df2[df2$BH_fdr < 0.05,'feature_id']))\n",
    "# c(nrow(df2[df2$BH_fdr < 0.05,]), nrow(df2[df2$BH_fdr < 0.05,])/nrow(df2))"
   ]
  },
  {
   "cell_type": "code",
   "execution_count": null,
   "metadata": {},
   "outputs": [],
   "source": []
  },
  {
   "cell_type": "code",
   "execution_count": null,
   "metadata": {},
   "outputs": [],
   "source": []
  }
 ],
 "metadata": {
  "kernelspec": {
   "display_name": "R",
   "language": "R",
   "name": "ir"
  },
  "language_info": {
   "codemirror_mode": "r",
   "file_extension": ".r",
   "mimetype": "text/x-r-source",
   "name": "R",
   "pygments_lexer": "r",
   "version": "3.6.1"
  }
 },
 "nbformat": 4,
 "nbformat_minor": 4
}
