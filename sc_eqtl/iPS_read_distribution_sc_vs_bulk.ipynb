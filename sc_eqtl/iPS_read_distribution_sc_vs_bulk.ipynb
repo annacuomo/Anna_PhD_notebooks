{
 "cells": [
  {
   "cell_type": "code",
   "execution_count": 2,
   "metadata": {},
   "outputs": [
    {
     "data": {
      "text/html": [
       "<table>\n",
       "<thead><tr><th></th><th scope=col>Donor...Observations</th></tr></thead>\n",
       "<tbody>\n",
       "\t<tr><th scope=row>HPSI0813i-guss_1</th><td>5</td></tr>\n",
       "\t<tr><th scope=row>HPSI0214i-datg_2</th><td>4</td></tr>\n",
       "\t<tr><th scope=row>HPSI0413i-nudd_1</th><td>4</td></tr>\n",
       "\t<tr><th scope=row>HPSI0114i-zapk_3</th><td>3</td></tr>\n",
       "\t<tr><th scope=row>HPSI0214i-pelm_3</th><td>3</td></tr>\n",
       "\t<tr><th scope=row>HPSI0114i-vass_1</th><td>3</td></tr>\n",
       "</tbody>\n",
       "</table>\n"
      ],
      "text/latex": [
       "\\begin{tabular}{r|l}\n",
       "  & Donor...Observations\\\\\n",
       "\\hline\n",
       "\tHPSI0813i-guss\\_1 & 5\\\\\n",
       "\tHPSI0214i-datg\\_2 & 4\\\\\n",
       "\tHPSI0413i-nudd\\_1 & 4\\\\\n",
       "\tHPSI0114i-zapk\\_3 & 3\\\\\n",
       "\tHPSI0214i-pelm\\_3 & 3\\\\\n",
       "\tHPSI0114i-vass\\_1 & 3\\\\\n",
       "\\end{tabular}\n"
      ],
      "text/markdown": [
       "\n",
       "| <!--/--> | Donor...Observations |\n",
       "|---|---|\n",
       "| HPSI0813i-guss_1 | 5 |\n",
       "| HPSI0214i-datg_2 | 4 |\n",
       "| HPSI0413i-nudd_1 | 4 |\n",
       "| HPSI0114i-zapk_3 | 3 |\n",
       "| HPSI0214i-pelm_3 | 3 |\n",
       "| HPSI0114i-vass_1 | 3 |\n",
       "\n"
      ],
      "text/plain": [
       "                 Donor...Observations\n",
       "HPSI0813i-guss_1 5                   \n",
       "HPSI0214i-datg_2 4                   \n",
       "HPSI0413i-nudd_1 4                   \n",
       "HPSI0114i-zapk_3 3                   \n",
       "HPSI0214i-pelm_3 3                   \n",
       "HPSI0114i-vass_1 3                   "
      ]
     },
     "metadata": {},
     "output_type": "display_data"
    },
    {
     "data": {
      "text/html": [
       "87"
      ],
      "text/latex": [
       "87"
      ],
      "text/markdown": [
       "87"
      ],
      "text/plain": [
       "[1] 87"
      ]
     },
     "metadata": {},
     "output_type": "display_data"
    }
   ],
   "source": [
    "donor_filename = \"/hps/nobackup/stegle/users/acuomo/all_scripts/sc_eqtl/ipsc_samples_cuomo.txt\"\n",
    "df = read.csv(donor_filename, sep = \"\\t\")\n",
    "head(df)\n",
    "donors = rownames(df)\n",
    "length(unique(donors))"
   ]
  },
  {
   "cell_type": "code",
   "execution_count": 3,
   "metadata": {},
   "outputs": [],
   "source": [
    "# load sceset\n",
    "sce = readRDS(\"/hps/nobackup/hipsci/scratch/singlecell_endodiff/data_processed/merged/20180618/sce_merged_afterqc_filt_allexpts.rds\")"
   ]
  },
  {
   "cell_type": "code",
   "execution_count": 13,
   "metadata": {},
   "outputs": [
    {
     "data": {
      "text/plain": [
       "class: SingleCellExperiment \n",
       "dim: 11231 9661 \n",
       "metadata(4): log.exprs.offset log.exprs.offset log.exprs.offset\n",
       "  log.exprs.offset\n",
       "assays(3): tpm counts logcounts\n",
       "rownames(11231): ENSG00000000003_TSPAN6 ENSG00000000419_DPM1 ...\n",
       "  ENSG00000272325_NUDT3 ENSG00000272398_CD24\n",
       "rowData names(17): exprs_collapsed_to ensembl_transcript_id ...\n",
       "  is_intop2000hvg is_hvg\n",
       "colnames(9661): 21672_1#101 21672_1#102 ... 24475_8#96 24475_8#98\n",
       "colData names(123): adj_x adj_y ... princ_curve princ_curve_scaled01\n",
       "reducedDimNames(1): PCA\n",
       "spikeNames(1): ERCC\n",
       "altExpNames(0):"
      ]
     },
     "metadata": {},
     "output_type": "display_data"
    }
   ],
   "source": [
    "# sce_0 = sce[,sce$day == 'day0']\n",
    "sce_0"
   ]
  },
  {
   "cell_type": "code",
   "execution_count": 5,
   "metadata": {},
   "outputs": [
    {
     "data": {
      "text/html": [
       "<strong>tavh_2:</strong> 2"
      ],
      "text/latex": [
       "\\textbf{tavh\\textbackslash{}\\_2:} 2"
      ],
      "text/markdown": [
       "**tavh_2:** 2"
      ],
      "text/plain": [
       "tavh_2 \n",
       "     2 "
      ]
     },
     "metadata": {},
     "output_type": "display_data"
    },
    {
     "data": {
      "text/html": [
       "111"
      ],
      "text/latex": [
       "111"
      ],
      "text/markdown": [
       "111"
      ],
      "text/plain": [
       "[1] 111"
      ]
     },
     "metadata": {},
     "output_type": "display_data"
    }
   ],
   "source": [
    "table(sce_0$donor_short_id)[table(sce_0$donor_short_id)<10]\n",
    "length(unlist(table(sce_0$donor_short_id)[table(sce_0$donor_short_id)>=10]))"
   ]
  },
  {
   "cell_type": "code",
   "execution_count": 6,
   "metadata": {},
   "outputs": [
    {
     "data": {
      "text/html": [
       "383"
      ],
      "text/latex": [
       "383"
      ],
      "text/markdown": [
       "383"
      ],
      "text/plain": [
       "[1] 383"
      ]
     },
     "metadata": {},
     "output_type": "display_data"
    },
    {
     "data": {
      "image/png": "[encoded data removed]",
      "text/plain": [
       "Plot with title “Histogram of unlist(table(sce_0$donor_short_id[table(sce_0$donor_short_id) >= 10]))”"
      ]
     },
     "metadata": {},
     "output_type": "display_data"
    }
   ],
   "source": [
    "max(unlist(table(sce_0$donor_short_id)))\n",
    "hist(unlist(table(sce_0$donor_short_id[table(sce_0$donor_short_id)>=10])), breaks = 30)\n",
    "# hist(sce_0$donor_short_id)"
   ]
  },
  {
   "cell_type": "code",
   "execution_count": 7,
   "metadata": {},
   "outputs": [
    {
     "data": {
      "text/html": [
       "24"
      ],
      "text/latex": [
       "24"
      ],
      "text/markdown": [
       "24"
      ],
      "text/plain": [
       "[1] 24"
      ]
     },
     "metadata": {},
     "output_type": "display_data"
    }
   ],
   "source": [
    "length(unique(sce_0$experiment))"
   ]
  },
  {
   "cell_type": "code",
   "execution_count": 8,
   "metadata": {},
   "outputs": [
    {
     "data": {
      "text/html": [
       "112"
      ],
      "text/latex": [
       "112"
      ],
      "text/markdown": [
       "112"
      ],
      "text/plain": [
       "[1] 112"
      ]
     },
     "metadata": {},
     "output_type": "display_data"
    }
   ],
   "source": [
    "length(unique(sce_0$donor_short_id))"
   ]
  },
  {
   "cell_type": "code",
   "execution_count": 9,
   "metadata": {},
   "outputs": [
    {
     "data": {
      "text/html": [
       "23"
      ],
      "text/latex": [
       "23"
      ],
      "text/markdown": [
       "23"
      ],
      "text/plain": [
       "[1] 23"
      ]
     },
     "metadata": {},
     "output_type": "display_data"
    }
   ],
   "source": [
    "length(rowSums(table(sce_0$donor_short_id, sce_0$experiment)>0)[rowSums(table(sce_0$donor_short_id, sce_0$experiment)>0)>1])"
   ]
  },
  {
   "cell_type": "code",
   "execution_count": 10,
   "metadata": {},
   "outputs": [],
   "source": [
    "get_sums <- function(sce, assay, ngenes, ndonors){\n",
    "    sums <- matrix(0,nrow = ngenes, ncol = ndonors)\n",
    "    for (i in 1:ndonors){\n",
    "        d = assay[,sce$donor_long_id==unique(sce$donor_long_id)[i]]\n",
    "        sums[,i] = rowSums(d)\n",
    "        }\n",
    "    rownames(sums) = rownames(sce)\n",
    "    colnames(sums) = unique(sce$donor_long_id)\n",
    "    sums\n",
    "}"
   ]
  },
  {
   "cell_type": "code",
   "execution_count": 11,
   "metadata": {},
   "outputs": [],
   "source": [
    "# sce_0 = sce_0[,sce_0$donor !=\"tavh\"]"
   ]
  },
  {
   "cell_type": "code",
   "execution_count": 14,
   "metadata": {},
   "outputs": [],
   "source": [
    "sce_0 = sce_0[,sce_0$donor_long_id %in% donors]"
   ]
  },
  {
   "cell_type": "code",
   "execution_count": 31,
   "metadata": {},
   "outputs": [],
   "source": [
    "pseudobulk <- get_sums(sce_0, counts(sce_0), nrow(sce_0), length(unique(sce_0$donor_long_id)))"
   ]
  },
  {
   "cell_type": "code",
   "execution_count": 32,
   "metadata": {},
   "outputs": [
    {
     "data": {
      "text/html": [
       "<table>\n",
       "<thead><tr><th></th><th scope=col>HPSI0114i-zapk_3</th><th scope=col>HPSI0214i-wibj_2</th><th scope=col>HPSI1013i-jogf_2</th><th scope=col>HPSI0214i-pelm_3</th><th scope=col>HPSI0114i-vass_1</th></tr></thead>\n",
       "<tbody>\n",
       "\t<tr><th scope=row>ENSG00000000003_TSPAN6</th><td>11840.9408</td><td>4926.21203</td><td>8068.0271 </td><td>11889.6832</td><td>6151.1446 </td></tr>\n",
       "\t<tr><th scope=row>ENSG00000000419_DPM1</th><td>14535.6590</td><td>4068.41796</td><td>9189.2035 </td><td>15187.9292</td><td>8442.1485 </td></tr>\n",
       "\t<tr><th scope=row>ENSG00000000457_SCYL3</th><td>  210.1264</td><td>  44.42329</td><td> 123.2103 </td><td>  299.5744</td><td>  88.3996 </td></tr>\n",
       "\t<tr><th scope=row>ENSG00000000460_C1orf112</th><td> 2604.2899</td><td> 652.94975</td><td>1430.3434 </td><td> 2549.4794</td><td>1106.6394 </td></tr>\n",
       "\t<tr><th scope=row>ENSG00000001036_FUCA2</th><td> 4395.8593</td><td>1527.71712</td><td>3395.5545 </td><td> 5212.3862</td><td>2843.6126 </td></tr>\n",
       "</tbody>\n",
       "</table>\n"
      ],
      "text/latex": [
       "\\begin{tabular}{r|lllll}\n",
       "  & HPSI0114i-zapk\\_3 & HPSI0214i-wibj\\_2 & HPSI1013i-jogf\\_2 & HPSI0214i-pelm\\_3 & HPSI0114i-vass\\_1\\\\\n",
       "\\hline\n",
       "\tENSG00000000003\\_TSPAN6 & 11840.9408 & 4926.21203 & 8068.0271  & 11889.6832 & 6151.1446 \\\\\n",
       "\tENSG00000000419\\_DPM1 & 14535.6590 & 4068.41796 & 9189.2035  & 15187.9292 & 8442.1485 \\\\\n",
       "\tENSG00000000457\\_SCYL3 &   210.1264 &   44.42329 &  123.2103  &   299.5744 &   88.3996 \\\\\n",
       "\tENSG00000000460\\_C1orf112 &  2604.2899 &  652.94975 & 1430.3434  &  2549.4794 & 1106.6394 \\\\\n",
       "\tENSG00000001036\\_FUCA2 &  4395.8593 & 1527.71712 & 3395.5545  &  5212.3862 & 2843.6126 \\\\\n",
       "\\end{tabular}\n"
      ],
      "text/markdown": [
       "\n",
       "| <!--/--> | HPSI0114i-zapk_3 | HPSI0214i-wibj_2 | HPSI1013i-jogf_2 | HPSI0214i-pelm_3 | HPSI0114i-vass_1 |\n",
       "|---|---|---|---|---|---|\n",
       "| ENSG00000000003_TSPAN6 | 11840.9408 | 4926.21203 | 8068.0271  | 11889.6832 | 6151.1446  |\n",
       "| ENSG00000000419_DPM1 | 14535.6590 | 4068.41796 | 9189.2035  | 15187.9292 | 8442.1485  |\n",
       "| ENSG00000000457_SCYL3 |   210.1264 |   44.42329 |  123.2103  |   299.5744 |   88.3996  |\n",
       "| ENSG00000000460_C1orf112 |  2604.2899 |  652.94975 | 1430.3434  |  2549.4794 | 1106.6394  |\n",
       "| ENSG00000001036_FUCA2 |  4395.8593 | 1527.71712 | 3395.5545  |  5212.3862 | 2843.6126  |\n",
       "\n"
      ],
      "text/plain": [
       "                         HPSI0114i-zapk_3 HPSI0214i-wibj_2 HPSI1013i-jogf_2\n",
       "ENSG00000000003_TSPAN6   11840.9408       4926.21203       8068.0271       \n",
       "ENSG00000000419_DPM1     14535.6590       4068.41796       9189.2035       \n",
       "ENSG00000000457_SCYL3      210.1264         44.42329        123.2103       \n",
       "ENSG00000000460_C1orf112  2604.2899        652.94975       1430.3434       \n",
       "ENSG00000001036_FUCA2     4395.8593       1527.71712       3395.5545       \n",
       "                         HPSI0214i-pelm_3 HPSI0114i-vass_1\n",
       "ENSG00000000003_TSPAN6   11889.6832       6151.1446       \n",
       "ENSG00000000419_DPM1     15187.9292       8442.1485       \n",
       "ENSG00000000457_SCYL3      299.5744         88.3996       \n",
       "ENSG00000000460_C1orf112  2549.4794       1106.6394       \n",
       "ENSG00000001036_FUCA2     5212.3862       2843.6126       "
      ]
     },
     "metadata": {},
     "output_type": "display_data"
    }
   ],
   "source": [
    "pseudobulk[1:5,1:5]"
   ]
  },
  {
   "cell_type": "code",
   "execution_count": 4,
   "metadata": {},
   "outputs": [],
   "source": [
    "library(ggplot2)"
   ]
  },
  {
   "cell_type": "code",
   "execution_count": 34,
   "metadata": {},
   "outputs": [
    {
     "data": {
      "text/html": [
       "<table>\n",
       "<thead><tr><th></th><th scope=col>donor</th><th scope=col>total_reads</th></tr></thead>\n",
       "<tbody>\n",
       "\t<tr><th scope=row>HPSI0114i-zapk_3</th><td>HPSI0114i-zapk_3</td><td>120607330       </td></tr>\n",
       "\t<tr><th scope=row>HPSI0214i-wibj_2</th><td>HPSI0214i-wibj_2</td><td> 24143006       </td></tr>\n",
       "</tbody>\n",
       "</table>\n"
      ],
      "text/latex": [
       "\\begin{tabular}{r|ll}\n",
       "  & donor & total\\_reads\\\\\n",
       "\\hline\n",
       "\tHPSI0114i-zapk\\_3 & HPSI0114i-zapk\\_3 & 120607330         \\\\\n",
       "\tHPSI0214i-wibj\\_2 & HPSI0214i-wibj\\_2 &  24143006         \\\\\n",
       "\\end{tabular}\n"
      ],
      "text/markdown": [
       "\n",
       "| <!--/--> | donor | total_reads |\n",
       "|---|---|---|\n",
       "| HPSI0114i-zapk_3 | HPSI0114i-zapk_3 | 120607330        |\n",
       "| HPSI0214i-wibj_2 | HPSI0214i-wibj_2 |  24143006        |\n",
       "\n"
      ],
      "text/plain": [
       "                 donor            total_reads\n",
       "HPSI0114i-zapk_3 HPSI0114i-zapk_3 120607330  \n",
       "HPSI0214i-wibj_2 HPSI0214i-wibj_2  24143006  "
      ]
     },
     "metadata": {},
     "output_type": "display_data"
    }
   ],
   "source": [
    "df = data.frame(donor = colnames(pseudobulk), total_reads = colSums(pseudobulk))\n",
    "head(df,2)"
   ]
  },
  {
   "cell_type": "code",
   "execution_count": 35,
   "metadata": {},
   "outputs": [
    {
     "data": {
      "text/html": [
       "48.6187863872868"
      ],
      "text/latex": [
       "48.6187863872868"
      ],
      "text/markdown": [
       "48.6187863872868"
      ],
      "text/plain": [
       "[1] 48.61879"
      ]
     },
     "metadata": {},
     "output_type": "display_data"
    },
    {
     "data": {
      "text/html": [
       "39.39853725614"
      ],
      "text/latex": [
       "39.39853725614"
      ],
      "text/markdown": [
       "39.39853725614"
      ],
      "text/plain": [
       "[1] 39.39854"
      ]
     },
     "metadata": {},
     "output_type": "display_data"
    }
   ],
   "source": [
    "mean(df$total_reads)/1000000\n",
    "median(df$total_reads)/1000000"
   ]
  },
  {
   "cell_type": "code",
   "execution_count": 36,
   "metadata": {},
   "outputs": [
    {
     "name": "stderr",
     "output_type": "stream",
     "text": [
      "`stat_bin()` using `bins = 30`. Pick better value with `binwidth`.\n"
     ]
    },
    {
     "data": {
      "image/png": "[encoded data removed]",
      "text/plain": [
       "plot without title"
      ]
     },
     "metadata": {},
     "output_type": "display_data"
    }
   ],
   "source": [
    "options(repr.plot.width = 8, repr.plot.height = 6)\n",
    "p = ggplot(df, aes(x=log(total_reads))) + geom_histogram(alpha = 1, col = \"black\", fill = \"peachpuff3\") + \n",
    "    xlab(\"Log total counts\") + ylab(\"Number of donors\") +\n",
    "    coord_cartesian(xlim = c(14, 20), ylim = c(0,16)) + theme_classic()\n",
    "p"
   ]
  },
  {
   "cell_type": "code",
   "execution_count": 5,
   "metadata": {},
   "outputs": [],
   "source": [
    "fig_dir = \"/hps/nobackup/stegle/users/acuomo/all_scripts/sc_eqtl/figures/\""
   ]
  },
  {
   "cell_type": "code",
   "execution_count": 38,
   "metadata": {},
   "outputs": [
    {
     "name": "stderr",
     "output_type": "stream",
     "text": [
      "`stat_bin()` using `bins = 30`. Pick better value with `binwidth`.\n"
     ]
    },
    {
     "data": {
      "text/html": [
       "<strong>png:</strong> 2"
      ],
      "text/latex": [
       "\\textbf{png:} 2"
      ],
      "text/markdown": [
       "**png:** 2"
      ],
      "text/plain": [
       "png \n",
       "  2 "
      ]
     },
     "metadata": {},
     "output_type": "display_data"
    }
   ],
   "source": [
    "pdf(paste0(fig_dir,\"Fig_S1a.pdf\"), width=8, height=6)\n",
    "p\n",
    "dev.off()"
   ]
  },
  {
   "cell_type": "code",
   "execution_count": null,
   "metadata": {},
   "outputs": [],
   "source": []
  },
  {
   "cell_type": "code",
   "execution_count": 39,
   "metadata": {},
   "outputs": [],
   "source": [
    "###### bulk\n",
    "bulk <- readRDS(\"/hps/nobackup/stegle/users/acuomo/singlecell_endodiff/miscellaneous/merged_bulk_salmon_quant.rds\")"
   ]
  },
  {
   "cell_type": "code",
   "execution_count": 40,
   "metadata": {},
   "outputs": [
    {
     "data": {
      "text/html": [
       "<table>\n",
       "<thead><tr><th></th><th scope=col>HPSI0114i-bezi_1</th><th scope=col>HPSI0114i-bezi_3</th><th scope=col>HPSI0114i-eipl_1</th><th scope=col>HPSI0114i-eipl_3</th><th scope=col>HPSI0114i-fikt_3</th><th scope=col>HPSI0114i-iisa_1</th><th scope=col>HPSI0114i-iisa_3</th><th scope=col>HPSI0114i-joxm_1</th><th scope=col>HPSI0114i-kolf_2</th><th scope=col>HPSI0114i-kolf_3</th><th scope=col>...</th><th scope=col>HPSI0516i-eitu_4</th><th scope=col>HPSI0516i-goek_4</th><th scope=col>HPSI0516i-hapz_2</th><th scope=col>HPSI0516i-hapz_3</th><th scope=col>HPSI0516i-iool_4</th><th scope=col>HPSI0516i-iool_6</th><th scope=col>HPSI0516i-oazw_3</th><th scope=col>HPSI0516i-oazw_4</th><th scope=col>HPSI0516i-pews_2</th><th scope=col>HPSI0516i-pews_3</th></tr></thead>\n",
       "<tbody>\n",
       "\t<tr><th scope=row>ENSG00000000003_TSPAN6</th><td> 6.7478423 </td><td> 7.3723219 </td><td> 6.6027879 </td><td> 6.670467  </td><td> 6.5325557 </td><td> 6.2607908 </td><td> 6.2049043 </td><td> 6.4136346 </td><td> 6.3794240 </td><td> 6.0982380 </td><td>...        </td><td> 4.7023961 </td><td> 6.1149095 </td><td> 6.57452770</td><td> 6.1132145 </td><td> 6.2374677 </td><td> 6.4816297 </td><td> 6.3242236 </td><td> 6.7140318 </td><td> 6.765941  </td><td> 6.5507389 </td></tr>\n",
       "\t<tr><th scope=row>ENSG00000000005_TNMD</th><td> 1.2396445 </td><td> 2.6075143 </td><td> 2.7457270 </td><td> 1.796040  </td><td> 1.8062487 </td><td> 1.4958215 </td><td> 1.4846523 </td><td> 1.2493527 </td><td> 1.4316536 </td><td> 1.4975600 </td><td>...        </td><td>-0.6699662 </td><td> 1.6624273 </td><td> 0.05885042</td><td> 1.5629860 </td><td> 1.9526607 </td><td> 0.4264122 </td><td> 2.0207997 </td><td> 0.9451023 </td><td> 3.115977  </td><td> 0.7879407 </td></tr>\n",
       "\t<tr><th scope=row>ENSG00000000419_DPM1</th><td> 6.4351540 </td><td> 6.5435280 </td><td> 6.4535352 </td><td> 6.488400  </td><td> 6.7655019 </td><td> 6.4641320 </td><td> 6.4412406 </td><td> 6.4584660 </td><td> 6.5721151 </td><td> 6.4799760 </td><td>...        </td><td> 4.8197038 </td><td> 6.3267307 </td><td> 6.40022473</td><td> 6.5999318 </td><td> 6.5161226 </td><td> 6.4691210 </td><td> 6.5576157 </td><td> 6.5994284 </td><td> 6.660242  </td><td> 6.5900378 </td></tr>\n",
       "\t<tr><th scope=row>ENSG00000000457_SCYL3</th><td> 2.3010799 </td><td> 2.9414570 </td><td> 2.6672173 </td><td> 2.182401  </td><td> 2.3778015 </td><td> 2.4083688 </td><td> 2.4962583 </td><td> 2.2587505 </td><td> 1.8163995 </td><td> 2.2621010 </td><td>...        </td><td> 1.9565996 </td><td> 1.9252852 </td><td> 2.30901525</td><td> 2.0644377 </td><td> 2.1351029 </td><td> 2.2461685 </td><td> 2.0773365 </td><td> 2.5382794 </td><td> 2.181280  </td><td> 2.0659557 </td></tr>\n",
       "\t<tr><th scope=row>ENSG00000000460_C1orf112</th><td> 4.1690783 </td><td> 4.4894089 </td><td> 4.1502208 </td><td> 4.383631  </td><td> 4.8552867 </td><td> 4.6337829 </td><td> 4.6588062 </td><td> 4.2474378 </td><td> 4.6036446 </td><td> 4.0224097 </td><td>...        </td><td> 2.7470801 </td><td> 4.6034535 </td><td> 4.91861630</td><td> 4.9475882 </td><td> 4.7577833 </td><td> 4.9104630 </td><td> 5.0092311 </td><td> 5.1485615 </td><td> 4.999442  </td><td> 4.7960390 </td></tr>\n",
       "\t<tr><th scope=row>ENSG00000000938_FGR</th><td>-0.5687158 </td><td>-0.4913128 </td><td>-0.5636239 </td><td>-1.567461  </td><td>-0.1777691 </td><td>-0.6055767 </td><td>-0.6931276 </td><td>-0.2360887 </td><td>-0.6081928 </td><td>-0.6951849 </td><td>...        </td><td>-1.2646136 </td><td>-0.9360776 </td><td>-0.50224959</td><td>-0.9039374 </td><td>-0.8155414 </td><td>-1.1706325 </td><td>-0.8873781 </td><td>-0.8635696 </td><td>-1.576341  </td><td>-1.4254717 </td></tr>\n",
       "</tbody>\n",
       "</table>\n"
      ],
      "text/latex": [
       "\\begin{tabular}{r|llllllllllllllllllllllllllllllllllllllllllllllllllllllllllllllllllllllllllllllllllllllllllllllllllllllllllllllllllllllllllllllllllllllllllllllllllllllllllllllllllllllllllllllllllllllllllllllllllllllllllllllllllllllllllllllllllllllllllllllllllllllllllllllllllllllllllllllllllllllllllllllllllllllllllllllllllllllllllllllllllllllllllllllllllllllllllllllllllllllllllllllllllllllllllllllllllllllllllllllllllllllllllllllllllllllllllllllllllllllllllllllllllllllllllllllllllllllllllllllllllllllllllllllllllllllllllllllllllllllllllllllllllllllllllllllllllllllllllllllllllllllllllllllllllllllllllllllllllllllllllllllllllllllllllllllllllllllllllllllllllllllllllllllllllllllllllllllllllll}\n",
       "  & HPSI0114i-bezi\\_1 & HPSI0114i-bezi\\_3 & HPSI0114i-eipl\\_1 & HPSI0114i-eipl\\_3 & HPSI0114i-fikt\\_3 & HPSI0114i-iisa\\_1 & HPSI0114i-iisa\\_3 & HPSI0114i-joxm\\_1 & HPSI0114i-kolf\\_2 & HPSI0114i-kolf\\_3 & ... & HPSI0516i-eitu\\_4 & HPSI0516i-goek\\_4 & HPSI0516i-hapz\\_2 & HPSI0516i-hapz\\_3 & HPSI0516i-iool\\_4 & HPSI0516i-iool\\_6 & HPSI0516i-oazw\\_3 & HPSI0516i-oazw\\_4 & HPSI0516i-pews\\_2 & HPSI0516i-pews\\_3\\\\\n",
       "\\hline\n",
       "\tENSG00000000003\\_TSPAN6 &  6.7478423  &  7.3723219  &  6.6027879  &  6.670467   &  6.5325557  &  6.2607908  &  6.2049043  &  6.4136346  &  6.3794240  &  6.0982380  & ...         &  4.7023961  &  6.1149095  &  6.57452770 &  6.1132145  &  6.2374677  &  6.4816297  &  6.3242236  &  6.7140318  &  6.765941   &  6.5507389 \\\\\n",
       "\tENSG00000000005\\_TNMD &  1.2396445  &  2.6075143  &  2.7457270  &  1.796040   &  1.8062487  &  1.4958215  &  1.4846523  &  1.2493527  &  1.4316536  &  1.4975600  & ...         & -0.6699662  &  1.6624273  &  0.05885042 &  1.5629860  &  1.9526607  &  0.4264122  &  2.0207997  &  0.9451023  &  3.115977   &  0.7879407 \\\\\n",
       "\tENSG00000000419\\_DPM1 &  6.4351540  &  6.5435280  &  6.4535352  &  6.488400   &  6.7655019  &  6.4641320  &  6.4412406  &  6.4584660  &  6.5721151  &  6.4799760  & ...         &  4.8197038  &  6.3267307  &  6.40022473 &  6.5999318  &  6.5161226  &  6.4691210  &  6.5576157  &  6.5994284  &  6.660242   &  6.5900378 \\\\\n",
       "\tENSG00000000457\\_SCYL3 &  2.3010799  &  2.9414570  &  2.6672173  &  2.182401   &  2.3778015  &  2.4083688  &  2.4962583  &  2.2587505  &  1.8163995  &  2.2621010  & ...         &  1.9565996  &  1.9252852  &  2.30901525 &  2.0644377  &  2.1351029  &  2.2461685  &  2.0773365  &  2.5382794  &  2.181280   &  2.0659557 \\\\\n",
       "\tENSG00000000460\\_C1orf112 &  4.1690783  &  4.4894089  &  4.1502208  &  4.383631   &  4.8552867  &  4.6337829  &  4.6588062  &  4.2474378  &  4.6036446  &  4.0224097  & ...         &  2.7470801  &  4.6034535  &  4.91861630 &  4.9475882  &  4.7577833  &  4.9104630  &  5.0092311  &  5.1485615  &  4.999442   &  4.7960390 \\\\\n",
       "\tENSG00000000938\\_FGR & -0.5687158  & -0.4913128  & -0.5636239  & -1.567461   & -0.1777691  & -0.6055767  & -0.6931276  & -0.2360887  & -0.6081928  & -0.6951849  & ...         & -1.2646136  & -0.9360776  & -0.50224959 & -0.9039374  & -0.8155414  & -1.1706325  & -0.8873781  & -0.8635696  & -1.576341   & -1.4254717 \\\\\n",
       "\\end{tabular}\n"
      ],
      "text/markdown": [
       "\n",
       "| <!--/--> | HPSI0114i-bezi_1 | HPSI0114i-bezi_3 | HPSI0114i-eipl_1 | HPSI0114i-eipl_3 | HPSI0114i-fikt_3 | HPSI0114i-iisa_1 | HPSI0114i-iisa_3 | HPSI0114i-joxm_1 | HPSI0114i-kolf_2 | HPSI0114i-kolf_3 | ... | HPSI0516i-eitu_4 | HPSI0516i-goek_4 | HPSI0516i-hapz_2 | HPSI0516i-hapz_3 | HPSI0516i-iool_4 | HPSI0516i-iool_6 | HPSI0516i-oazw_3 | HPSI0516i-oazw_4 | HPSI0516i-pews_2 | HPSI0516i-pews_3 |\n",
       "|---|---|---|---|---|---|---|---|---|---|---|---|---|---|---|---|---|---|---|---|---|---|\n",
       "| ENSG00000000003_TSPAN6 |  6.7478423  |  7.3723219  |  6.6027879  |  6.670467   |  6.5325557  |  6.2607908  |  6.2049043  |  6.4136346  |  6.3794240  |  6.0982380  | ...         |  4.7023961  |  6.1149095  |  6.57452770 |  6.1132145  |  6.2374677  |  6.4816297  |  6.3242236  |  6.7140318  |  6.765941   |  6.5507389  |\n",
       "| ENSG00000000005_TNMD |  1.2396445  |  2.6075143  |  2.7457270  |  1.796040   |  1.8062487  |  1.4958215  |  1.4846523  |  1.2493527  |  1.4316536  |  1.4975600  | ...         | -0.6699662  |  1.6624273  |  0.05885042 |  1.5629860  |  1.9526607  |  0.4264122  |  2.0207997  |  0.9451023  |  3.115977   |  0.7879407  |\n",
       "| ENSG00000000419_DPM1 |  6.4351540  |  6.5435280  |  6.4535352  |  6.488400   |  6.7655019  |  6.4641320  |  6.4412406  |  6.4584660  |  6.5721151  |  6.4799760  | ...         |  4.8197038  |  6.3267307  |  6.40022473 |  6.5999318  |  6.5161226  |  6.4691210  |  6.5576157  |  6.5994284  |  6.660242   |  6.5900378  |\n",
       "| ENSG00000000457_SCYL3 |  2.3010799  |  2.9414570  |  2.6672173  |  2.182401   |  2.3778015  |  2.4083688  |  2.4962583  |  2.2587505  |  1.8163995  |  2.2621010  | ...         |  1.9565996  |  1.9252852  |  2.30901525 |  2.0644377  |  2.1351029  |  2.2461685  |  2.0773365  |  2.5382794  |  2.181280   |  2.0659557  |\n",
       "| ENSG00000000460_C1orf112 |  4.1690783  |  4.4894089  |  4.1502208  |  4.383631   |  4.8552867  |  4.6337829  |  4.6588062  |  4.2474378  |  4.6036446  |  4.0224097  | ...         |  2.7470801  |  4.6034535  |  4.91861630 |  4.9475882  |  4.7577833  |  4.9104630  |  5.0092311  |  5.1485615  |  4.999442   |  4.7960390  |\n",
       "| ENSG00000000938_FGR | -0.5687158  | -0.4913128  | -0.5636239  | -1.567461   | -0.1777691  | -0.6055767  | -0.6931276  | -0.2360887  | -0.6081928  | -0.6951849  | ...         | -1.2646136  | -0.9360776  | -0.50224959 | -0.9039374  | -0.8155414  | -1.1706325  | -0.8873781  | -0.8635696  | -1.576341   | -1.4254717  |\n",
       "\n"
      ],
      "text/plain": [
       "                         HPSI0114i-bezi_1 HPSI0114i-bezi_3 HPSI0114i-eipl_1\n",
       "ENSG00000000003_TSPAN6    6.7478423        7.3723219        6.6027879      \n",
       "ENSG00000000005_TNMD      1.2396445        2.6075143        2.7457270      \n",
       "ENSG00000000419_DPM1      6.4351540        6.5435280        6.4535352      \n",
       "ENSG00000000457_SCYL3     2.3010799        2.9414570        2.6672173      \n",
       "ENSG00000000460_C1orf112  4.1690783        4.4894089        4.1502208      \n",
       "ENSG00000000938_FGR      -0.5687158       -0.4913128       -0.5636239      \n",
       "                         HPSI0114i-eipl_3 HPSI0114i-fikt_3 HPSI0114i-iisa_1\n",
       "ENSG00000000003_TSPAN6    6.670467         6.5325557        6.2607908      \n",
       "ENSG00000000005_TNMD      1.796040         1.8062487        1.4958215      \n",
       "ENSG00000000419_DPM1      6.488400         6.7655019        6.4641320      \n",
       "ENSG00000000457_SCYL3     2.182401         2.3778015        2.4083688      \n",
       "ENSG00000000460_C1orf112  4.383631         4.8552867        4.6337829      \n",
       "ENSG00000000938_FGR      -1.567461        -0.1777691       -0.6055767      \n",
       "                         HPSI0114i-iisa_3 HPSI0114i-joxm_1 HPSI0114i-kolf_2\n",
       "ENSG00000000003_TSPAN6    6.2049043        6.4136346        6.3794240      \n",
       "ENSG00000000005_TNMD      1.4846523        1.2493527        1.4316536      \n",
       "ENSG00000000419_DPM1      6.4412406        6.4584660        6.5721151      \n",
       "ENSG00000000457_SCYL3     2.4962583        2.2587505        1.8163995      \n",
       "ENSG00000000460_C1orf112  4.6588062        4.2474378        4.6036446      \n",
       "ENSG00000000938_FGR      -0.6931276       -0.2360887       -0.6081928      \n",
       "                         HPSI0114i-kolf_3 ... HPSI0516i-eitu_4 HPSI0516i-goek_4\n",
       "ENSG00000000003_TSPAN6    6.0982380       ...  4.7023961        6.1149095      \n",
       "ENSG00000000005_TNMD      1.4975600       ... -0.6699662        1.6624273      \n",
       "ENSG00000000419_DPM1      6.4799760       ...  4.8197038        6.3267307      \n",
       "ENSG00000000457_SCYL3     2.2621010       ...  1.9565996        1.9252852      \n",
       "ENSG00000000460_C1orf112  4.0224097       ...  2.7470801        4.6034535      \n",
       "ENSG00000000938_FGR      -0.6951849       ... -1.2646136       -0.9360776      \n",
       "                         HPSI0516i-hapz_2 HPSI0516i-hapz_3 HPSI0516i-iool_4\n",
       "ENSG00000000003_TSPAN6    6.57452770       6.1132145        6.2374677      \n",
       "ENSG00000000005_TNMD      0.05885042       1.5629860        1.9526607      \n",
       "ENSG00000000419_DPM1      6.40022473       6.5999318        6.5161226      \n",
       "ENSG00000000457_SCYL3     2.30901525       2.0644377        2.1351029      \n",
       "ENSG00000000460_C1orf112  4.91861630       4.9475882        4.7577833      \n",
       "ENSG00000000938_FGR      -0.50224959      -0.9039374       -0.8155414      \n",
       "                         HPSI0516i-iool_6 HPSI0516i-oazw_3 HPSI0516i-oazw_4\n",
       "ENSG00000000003_TSPAN6    6.4816297        6.3242236        6.7140318      \n",
       "ENSG00000000005_TNMD      0.4264122        2.0207997        0.9451023      \n",
       "ENSG00000000419_DPM1      6.4691210        6.5576157        6.5994284      \n",
       "ENSG00000000457_SCYL3     2.2461685        2.0773365        2.5382794      \n",
       "ENSG00000000460_C1orf112  4.9104630        5.0092311        5.1485615      \n",
       "ENSG00000000938_FGR      -1.1706325       -0.8873781       -0.8635696      \n",
       "                         HPSI0516i-pews_2 HPSI0516i-pews_3\n",
       "ENSG00000000003_TSPAN6    6.765941         6.5507389      \n",
       "ENSG00000000005_TNMD      3.115977         0.7879407      \n",
       "ENSG00000000419_DPM1      6.660242         6.5900378      \n",
       "ENSG00000000457_SCYL3     2.181280         2.0659557      \n",
       "ENSG00000000460_C1orf112  4.999442         4.7960390      \n",
       "ENSG00000000938_FGR      -1.576341        -1.4254717      "
      ]
     },
     "metadata": {},
     "output_type": "display_data"
    }
   ],
   "source": [
    "logcpm_bulk <- edgeR::cpm(counts(bulk), prior.count = 2, log = TRUE)\n",
    "newcols <- gsub(\".*/quant_salmon/*\",\"\",colnames(logcpm_bulk))\n",
    "cols <- gsub(\"*.hs.*\",\"\",newcols)\n",
    "colnames(logcpm_bulk) <- cols\n",
    "head(logcpm_bulk)"
   ]
  },
  {
   "cell_type": "code",
   "execution_count": 41,
   "metadata": {},
   "outputs": [],
   "source": [
    "cpm_bulk = counts(bulk)\n",
    "newcols <- gsub(\".*/quant_salmon/*\",\"\",colnames(cpm_bulk))\n",
    "cols <- gsub(\"*.hs.*\",\"\",newcols)\n",
    "colnames(cpm_bulk) <- cols"
   ]
  },
  {
   "cell_type": "code",
   "execution_count": 42,
   "metadata": {},
   "outputs": [
    {
     "data": {
      "text/html": [
       "87"
      ],
      "text/latex": [
       "87"
      ],
      "text/markdown": [
       "87"
      ],
      "text/plain": [
       "[1] 87"
      ]
     },
     "metadata": {},
     "output_type": "display_data"
    }
   ],
   "source": [
    "cpm_bulk_sc = cpm_bulk[,colnames(cpm_bulk) %in% donors]\n",
    "ncol(cpm_bulk_sc)"
   ]
  },
  {
   "cell_type": "code",
   "execution_count": 43,
   "metadata": {},
   "outputs": [],
   "source": [
    "df = data.frame(donor = colnames(cpm_bulk_sc), total_reads = colSums(cpm_bulk_sc))"
   ]
  },
  {
   "cell_type": "code",
   "execution_count": 49,
   "metadata": {},
   "outputs": [
    {
     "data": {
      "text/html": [
       "98133552.1200068"
      ],
      "text/latex": [
       "98133552.1200068"
      ],
      "text/markdown": [
       "98133552.1200068"
      ],
      "text/plain": [
       "[1] 98133552"
      ]
     },
     "metadata": {},
     "output_type": "display_data"
    }
   ],
   "source": [
    "max(df$total_reads)"
   ]
  },
  {
   "cell_type": "code",
   "execution_count": 44,
   "metadata": {},
   "outputs": [
    {
     "name": "stderr",
     "output_type": "stream",
     "text": [
      "`stat_bin()` using `bins = 30`. Pick better value with `binwidth`.\n"
     ]
    },
    {
     "data": {
      "image/png": "[encoded data removed]",
      "text/plain": [
       "plot without title"
      ]
     },
     "metadata": {},
     "output_type": "display_data"
    }
   ],
   "source": [
    "options(repr.plot.width = 8, repr.plot.height = 6)\n",
    "p = ggplot(df, aes(x=log(total_reads))) + geom_histogram(alpha = 1, col = \"black\", fill = \"slategray3\") + \n",
    "    xlab(\"Log total counts\") + ylab(\"Number of donors\") +\n",
    "    coord_cartesian(xlim = c(14, 20), ylim = c(0,16)) + theme_classic()\n",
    "p"
   ]
  },
  {
   "cell_type": "code",
   "execution_count": 45,
   "metadata": {},
   "outputs": [
    {
     "name": "stderr",
     "output_type": "stream",
     "text": [
      "`stat_bin()` using `bins = 30`. Pick better value with `binwidth`.\n"
     ]
    },
    {
     "data": {
      "text/html": [
       "<strong>png:</strong> 2"
      ],
      "text/latex": [
       "\\textbf{png:} 2"
      ],
      "text/markdown": [
       "**png:** 2"
      ],
      "text/plain": [
       "png \n",
       "  2 "
      ]
     },
     "metadata": {},
     "output_type": "display_data"
    }
   ],
   "source": [
    "pdf(paste0(fig_dir,\"Fig_S1b.pdf\"), width=8, height=6)\n",
    "p\n",
    "dev.off()"
   ]
  },
  {
   "cell_type": "code",
   "execution_count": null,
   "metadata": {},
   "outputs": [],
   "source": []
  },
  {
   "cell_type": "code",
   "execution_count": null,
   "metadata": {},
   "outputs": [],
   "source": [
    "# SmartSeq2 (iPSC)"
   ]
  },
  {
   "cell_type": "code",
   "execution_count": 1,
   "metadata": {},
   "outputs": [],
   "source": [
    "# load sceset\n",
    "sce = readRDS(\"/hps/nobackup/hipsci/scratch/singlecell_endodiff/data_processed/merged/20180618/sce_merged_afterqc_filt_allexpts.rds\")"
   ]
  },
  {
   "cell_type": "code",
   "execution_count": 4,
   "metadata": {},
   "outputs": [
    {
     "data": {
      "text/html": [
       "<table>\n",
       "<thead><tr><th scope=col>cell</th><th scope=col>day</th><th scope=col>donor_long_id</th></tr></thead>\n",
       "<tbody>\n",
       "\t<tr><td>21843_1#10      </td><td>day1            </td><td>HPSI0114i-joxm_1</td></tr>\n",
       "\t<tr><td>21843_1#100     </td><td>day1            </td><td>HPSI0314i-fafq_1</td></tr>\n",
       "\t<tr><td>21843_1#101     </td><td>day1            </td><td>HPSI0314i-fafq_1</td></tr>\n",
       "\t<tr><td>21843_1#102     </td><td>day1            </td><td>HPSI1013i-wuye_2</td></tr>\n",
       "\t<tr><td>21843_1#103     </td><td>day1            </td><td>HPSI0114i-joxm_1</td></tr>\n",
       "\t<tr><td>21843_1#105     </td><td>day1            </td><td>HPSI0114i-iisa_3</td></tr>\n",
       "</tbody>\n",
       "</table>\n"
      ],
      "text/latex": [
       "\\begin{tabular}{r|lll}\n",
       " cell & day & donor\\_long\\_id\\\\\n",
       "\\hline\n",
       "\t 21843\\_1\\#10     & day1               & HPSI0114i-joxm\\_1\\\\\n",
       "\t 21843\\_1\\#100    & day1               & HPSI0314i-fafq\\_1\\\\\n",
       "\t 21843\\_1\\#101    & day1               & HPSI0314i-fafq\\_1\\\\\n",
       "\t 21843\\_1\\#102    & day1               & HPSI1013i-wuye\\_2\\\\\n",
       "\t 21843\\_1\\#103    & day1               & HPSI0114i-joxm\\_1\\\\\n",
       "\t 21843\\_1\\#105    & day1               & HPSI0114i-iisa\\_3\\\\\n",
       "\\end{tabular}\n"
      ],
      "text/markdown": [
       "\n",
       "| cell | day | donor_long_id |\n",
       "|---|---|---|\n",
       "| 21843_1#10       | day1             | HPSI0114i-joxm_1 |\n",
       "| 21843_1#100      | day1             | HPSI0314i-fafq_1 |\n",
       "| 21843_1#101      | day1             | HPSI0314i-fafq_1 |\n",
       "| 21843_1#102      | day1             | HPSI1013i-wuye_2 |\n",
       "| 21843_1#103      | day1             | HPSI0114i-joxm_1 |\n",
       "| 21843_1#105      | day1             | HPSI0114i-iisa_3 |\n",
       "\n"
      ],
      "text/plain": [
       "  cell        day  donor_long_id   \n",
       "1 21843_1#10  day1 HPSI0114i-joxm_1\n",
       "2 21843_1#100 day1 HPSI0314i-fafq_1\n",
       "3 21843_1#101 day1 HPSI0314i-fafq_1\n",
       "4 21843_1#102 day1 HPSI1013i-wuye_2\n",
       "5 21843_1#103 day1 HPSI0114i-joxm_1\n",
       "6 21843_1#105 day1 HPSI0114i-iisa_3"
      ]
     },
     "metadata": {},
     "output_type": "display_data"
    }
   ],
   "source": [
    "# df1 = data.frame(cell = colnames(sce), day = sce$day, donor_long_id = sce$donor_long_id)\n",
    "head(df1)"
   ]
  },
  {
   "cell_type": "code",
   "execution_count": 6,
   "metadata": {},
   "outputs": [],
   "source": [
    "write.csv(df1, \"/hps/nobackup/stegle/users/acuomo/all_scripts/sc_endodiff/coldata.csv\")"
   ]
  },
  {
   "cell_type": "code",
   "execution_count": 7,
   "metadata": {},
   "outputs": [
    {
     "data": {
      "text/html": [
       "36044"
      ],
      "text/latex": [
       "36044"
      ],
      "text/markdown": [
       "36044"
      ],
      "text/plain": [
       "[1] 36044"
      ]
     },
     "metadata": {},
     "output_type": "display_data"
    }
   ],
   "source": [
    "nrow(df1)"
   ]
  },
  {
   "cell_type": "code",
   "execution_count": 11,
   "metadata": {},
   "outputs": [
    {
     "data": {
      "text/html": [
       "<table>\n",
       "<thead><tr><th scope=col>Genotype</th><th scope=col>cell</th></tr></thead>\n",
       "<tbody>\n",
       "\t<tr><td>HPSI1014i-eesb_1</td><td>25476_7#100     </td></tr>\n",
       "\t<tr><td>HPSI1014i-eesb_1</td><td>25476_7#105     </td></tr>\n",
       "\t<tr><td>HPSI1014i-eesb_1</td><td>25476_7#141     </td></tr>\n",
       "\t<tr><td>HPSI1014i-eesb_1</td><td>25476_7#171     </td></tr>\n",
       "\t<tr><td>HPSI1014i-eesb_1</td><td>25476_7#190     </td></tr>\n",
       "\t<tr><td>HPSI1014i-eesb_1</td><td>25476_7#202     </td></tr>\n",
       "</tbody>\n",
       "</table>\n"
      ],
      "text/latex": [
       "\\begin{tabular}{r|ll}\n",
       " Genotype & cell\\\\\n",
       "\\hline\n",
       "\t HPSI1014i-eesb\\_1 & 25476\\_7\\#100   \\\\\n",
       "\t HPSI1014i-eesb\\_1 & 25476\\_7\\#105   \\\\\n",
       "\t HPSI1014i-eesb\\_1 & 25476\\_7\\#141   \\\\\n",
       "\t HPSI1014i-eesb\\_1 & 25476\\_7\\#171   \\\\\n",
       "\t HPSI1014i-eesb\\_1 & 25476\\_7\\#190   \\\\\n",
       "\t HPSI1014i-eesb\\_1 & 25476\\_7\\#202   \\\\\n",
       "\\end{tabular}\n"
      ],
      "text/markdown": [
       "\n",
       "| Genotype | cell |\n",
       "|---|---|\n",
       "| HPSI1014i-eesb_1 | 25476_7#100      |\n",
       "| HPSI1014i-eesb_1 | 25476_7#105      |\n",
       "| HPSI1014i-eesb_1 | 25476_7#141      |\n",
       "| HPSI1014i-eesb_1 | 25476_7#171      |\n",
       "| HPSI1014i-eesb_1 | 25476_7#190      |\n",
       "| HPSI1014i-eesb_1 | 25476_7#202      |\n",
       "\n"
      ],
      "text/plain": [
       "  Genotype         cell       \n",
       "1 HPSI1014i-eesb_1 25476_7#100\n",
       "2 HPSI1014i-eesb_1 25476_7#105\n",
       "3 HPSI1014i-eesb_1 25476_7#141\n",
       "4 HPSI1014i-eesb_1 25476_7#171\n",
       "5 HPSI1014i-eesb_1 25476_7#190\n",
       "6 HPSI1014i-eesb_1 25476_7#202"
      ]
     },
     "metadata": {},
     "output_type": "display_data"
    }
   ],
   "source": [
    "df = read.csv(\"/hps/nobackup/hipsci/scratch/ComparingQtlMapping/GTE/GTE_HipSciSingleCellDay0Healthy.txt\", sep = \"\\t\")\n",
    "head(df)"
   ]
  },
  {
   "cell_type": "code",
   "execution_count": 15,
   "metadata": {},
   "outputs": [
    {
     "data": {
      "text/html": [
       "<table>\n",
       "<thead><tr><th scope=col>Genotype</th><th scope=col>RNA</th></tr></thead>\n",
       "<tbody>\n",
       "\t<tr><td>HPSI0114i-joxm_1</td><td>joxm_1_expt_09  </td></tr>\n",
       "\t<tr><td>HPSI1013i-wuye_2</td><td>wuye_2_expt_09  </td></tr>\n",
       "\t<tr><td>HPSI0114i-joxm_1</td><td>joxm_1_expt_09  </td></tr>\n",
       "\t<tr><td>HPSI0114i-iisa_3</td><td>iisa_3_expt_09  </td></tr>\n",
       "\t<tr><td>HPSI1013i-wuye_2</td><td>wuye_2_expt_09  </td></tr>\n",
       "\t<tr><td>HPSI0114i-iisa_3</td><td>iisa_3_expt_09  </td></tr>\n",
       "</tbody>\n",
       "</table>\n"
      ],
      "text/latex": [
       "\\begin{tabular}{r|ll}\n",
       " Genotype & RNA\\\\\n",
       "\\hline\n",
       "\t HPSI0114i-joxm\\_1   & joxm\\_1\\_expt\\_09\\\\\n",
       "\t HPSI1013i-wuye\\_2   & wuye\\_2\\_expt\\_09\\\\\n",
       "\t HPSI0114i-joxm\\_1   & joxm\\_1\\_expt\\_09\\\\\n",
       "\t HPSI0114i-iisa\\_3   & iisa\\_3\\_expt\\_09\\\\\n",
       "\t HPSI1013i-wuye\\_2   & wuye\\_2\\_expt\\_09\\\\\n",
       "\t HPSI0114i-iisa\\_3   & iisa\\_3\\_expt\\_09\\\\\n",
       "\\end{tabular}\n"
      ],
      "text/markdown": [
       "\n",
       "| Genotype | RNA |\n",
       "|---|---|\n",
       "| HPSI0114i-joxm_1 | joxm_1_expt_09   |\n",
       "| HPSI1013i-wuye_2 | wuye_2_expt_09   |\n",
       "| HPSI0114i-joxm_1 | joxm_1_expt_09   |\n",
       "| HPSI0114i-iisa_3 | iisa_3_expt_09   |\n",
       "| HPSI1013i-wuye_2 | wuye_2_expt_09   |\n",
       "| HPSI0114i-iisa_3 | iisa_3_expt_09   |\n",
       "\n"
      ],
      "text/plain": [
       "  Genotype         RNA           \n",
       "1 HPSI0114i-joxm_1 joxm_1_expt_09\n",
       "2 HPSI1013i-wuye_2 wuye_2_expt_09\n",
       "3 HPSI0114i-joxm_1 joxm_1_expt_09\n",
       "4 HPSI0114i-iisa_3 iisa_3_expt_09\n",
       "5 HPSI1013i-wuye_2 wuye_2_expt_09\n",
       "6 HPSI0114i-iisa_3 iisa_3_expt_09"
      ]
     },
     "metadata": {},
     "output_type": "display_data"
    }
   ],
   "source": [
    "geno_df = read.csv(\"/hps/nobackup/hipsci/scratch/ComparingQtlMapping/GTE/GTE_HipSciBulkDay0HealthyExp_89.txt\", sep = \"\\t\")\n",
    "head(geno_df)\n",
    "df = df[df$Genotype %in% geno_df$Genotype,]"
   ]
  },
  {
   "cell_type": "code",
   "execution_count": 16,
   "metadata": {},
   "outputs": [],
   "source": [
    "library(dplyr)"
   ]
  },
  {
   "cell_type": "code",
   "execution_count": 17,
   "metadata": {},
   "outputs": [
    {
     "data": {
      "text/html": [
       "<table>\n",
       "<thead><tr><th scope=col>Genotype</th><th scope=col>ncells</th></tr></thead>\n",
       "<tbody>\n",
       "\t<tr><td>HPSI0114i-bezi_1</td><td> 13             </td></tr>\n",
       "\t<tr><td>HPSI0114i-eipl_1</td><td> 99             </td></tr>\n",
       "\t<tr><td>HPSI0114i-iisa_3</td><td> 38             </td></tr>\n",
       "\t<tr><td>HPSI0114i-joxm_1</td><td>383             </td></tr>\n",
       "\t<tr><td>HPSI0114i-kolf_2</td><td> 73             </td></tr>\n",
       "\t<tr><td>HPSI0114i-vass_1</td><td>106             </td></tr>\n",
       "</tbody>\n",
       "</table>\n"
      ],
      "text/latex": [
       "\\begin{tabular}{r|ll}\n",
       " Genotype & ncells\\\\\n",
       "\\hline\n",
       "\t HPSI0114i-bezi\\_1 &  13               \\\\\n",
       "\t HPSI0114i-eipl\\_1 &  99               \\\\\n",
       "\t HPSI0114i-iisa\\_3 &  38               \\\\\n",
       "\t HPSI0114i-joxm\\_1 & 383               \\\\\n",
       "\t HPSI0114i-kolf\\_2 &  73               \\\\\n",
       "\t HPSI0114i-vass\\_1 & 106               \\\\\n",
       "\\end{tabular}\n"
      ],
      "text/markdown": [
       "\n",
       "| Genotype | ncells |\n",
       "|---|---|\n",
       "| HPSI0114i-bezi_1 |  13              |\n",
       "| HPSI0114i-eipl_1 |  99              |\n",
       "| HPSI0114i-iisa_3 |  38              |\n",
       "| HPSI0114i-joxm_1 | 383              |\n",
       "| HPSI0114i-kolf_2 |  73              |\n",
       "| HPSI0114i-vass_1 | 106              |\n",
       "\n"
      ],
      "text/plain": [
       "  Genotype         ncells\n",
       "1 HPSI0114i-bezi_1  13   \n",
       "2 HPSI0114i-eipl_1  99   \n",
       "3 HPSI0114i-iisa_3  38   \n",
       "4 HPSI0114i-joxm_1 383   \n",
       "5 HPSI0114i-kolf_2  73   \n",
       "6 HPSI0114i-vass_1 106   "
      ]
     },
     "metadata": {},
     "output_type": "display_data"
    }
   ],
   "source": [
    "df4 = df %>% group_by(Genotype) %>% summarise(ncells=n())\n",
    "head(df4)"
   ]
  },
  {
   "cell_type": "code",
   "execution_count": 18,
   "metadata": {},
   "outputs": [
    {
     "data": {
      "text/html": [
       "89"
      ],
      "text/latex": [
       "89"
      ],
      "text/markdown": [
       "89"
      ],
      "text/plain": [
       "[1] 89"
      ]
     },
     "metadata": {},
     "output_type": "display_data"
    },
    {
     "data": {
      "text/html": [
       "89"
      ],
      "text/latex": [
       "89"
      ],
      "text/markdown": [
       "89"
      ],
      "text/plain": [
       "[1] 89"
      ]
     },
     "metadata": {},
     "output_type": "display_data"
    }
   ],
   "source": [
    "nrow(df4)\n",
    "nrow(df4[df4$ncells>5,])"
   ]
  },
  {
   "cell_type": "code",
   "execution_count": 19,
   "metadata": {},
   "outputs": [
    {
     "data": {
      "image/png": "[encoded data removed]",
      "text/plain": [
       "plot without title"
      ]
     },
     "metadata": {},
     "output_type": "display_data"
    }
   ],
   "source": [
    "options(repr.plot.width = 8, repr.plot.height = 6)\n",
    "p = ggplot(df4, aes(x=ncells)) + geom_histogram(alpha = 1, col = \"black\", fill = \"darkcyan\", bins = 60) + \n",
    "    xlab(\"Number of cells\") + ylab(\"Number of donors\") +\n",
    "#     coord_cartesian(xlim = c(14, 20), ylim = c(0,16)) + \n",
    "    theme_classic() + geom_vline(xintercept = 5)\n",
    "p"
   ]
  },
  {
   "cell_type": "code",
   "execution_count": null,
   "metadata": {},
   "outputs": [],
   "source": []
  },
  {
   "cell_type": "code",
   "execution_count": 9,
   "metadata": {},
   "outputs": [
    {
     "data": {
      "text/html": [
       "8386"
      ],
      "text/latex": [
       "8386"
      ],
      "text/markdown": [
       "8386"
      ],
      "text/plain": [
       "[1] 8386"
      ]
     },
     "metadata": {},
     "output_type": "display_data"
    }
   ],
   "source": [
    "df2 = df1[df1$day == 'day0' & df1$donor_long_id %in% unique(df$Genotype),]\n",
    "nrow(df2)"
   ]
  },
  {
   "cell_type": "code",
   "execution_count": 10,
   "metadata": {},
   "outputs": [
    {
     "data": {
      "text/html": [
       "<table>\n",
       "<thead><tr><th></th><th scope=col>cell</th><th scope=col>day</th><th scope=col>donor_long_id</th></tr></thead>\n",
       "<tbody>\n",
       "\t<tr><th scope=row>787</th><td>21672_1#101     </td><td>day0            </td><td>HPSI0114i-zapk_3</td></tr>\n",
       "\t<tr><th scope=row>788</th><td>21672_1#102     </td><td>day0            </td><td>HPSI0214i-wibj_2</td></tr>\n",
       "</tbody>\n",
       "</table>\n"
      ],
      "text/latex": [
       "\\begin{tabular}{r|lll}\n",
       "  & cell & day & donor\\_long\\_id\\\\\n",
       "\\hline\n",
       "\t787 & 21672\\_1\\#101    & day0               & HPSI0114i-zapk\\_3\\\\\n",
       "\t788 & 21672\\_1\\#102    & day0               & HPSI0214i-wibj\\_2\\\\\n",
       "\\end{tabular}\n"
      ],
      "text/markdown": [
       "\n",
       "| <!--/--> | cell | day | donor_long_id |\n",
       "|---|---|---|---|\n",
       "| 787 | 21672_1#101      | day0             | HPSI0114i-zapk_3 |\n",
       "| 788 | 21672_1#102      | day0             | HPSI0214i-wibj_2 |\n",
       "\n"
      ],
      "text/plain": [
       "    cell        day  donor_long_id   \n",
       "787 21672_1#101 day0 HPSI0114i-zapk_3\n",
       "788 21672_1#102 day0 HPSI0214i-wibj_2"
      ]
     },
     "metadata": {},
     "output_type": "display_data"
    }
   ],
   "source": [
    "head(df2,2)"
   ]
  },
  {
   "cell_type": "code",
   "execution_count": 14,
   "metadata": {},
   "outputs": [
    {
     "data": {
      "text/html": [
       "<table>\n",
       "<thead><tr><th scope=col>donor_long_id</th><th scope=col>ncells</th></tr></thead>\n",
       "<tbody>\n",
       "\t<tr><td>HPSI0114i-bezi_1</td><td> 13             </td></tr>\n",
       "\t<tr><td>HPSI0114i-eipl_1</td><td> 99             </td></tr>\n",
       "\t<tr><td>HPSI0114i-iisa_3</td><td> 38             </td></tr>\n",
       "\t<tr><td>HPSI0114i-joxm_1</td><td>383             </td></tr>\n",
       "\t<tr><td>HPSI0114i-kolf_2</td><td> 73             </td></tr>\n",
       "\t<tr><td>HPSI0114i-vass_1</td><td>106             </td></tr>\n",
       "</tbody>\n",
       "</table>\n"
      ],
      "text/latex": [
       "\\begin{tabular}{r|ll}\n",
       " donor\\_long\\_id & ncells\\\\\n",
       "\\hline\n",
       "\t HPSI0114i-bezi\\_1 &  13               \\\\\n",
       "\t HPSI0114i-eipl\\_1 &  99               \\\\\n",
       "\t HPSI0114i-iisa\\_3 &  38               \\\\\n",
       "\t HPSI0114i-joxm\\_1 & 383               \\\\\n",
       "\t HPSI0114i-kolf\\_2 &  73               \\\\\n",
       "\t HPSI0114i-vass\\_1 & 106               \\\\\n",
       "\\end{tabular}\n"
      ],
      "text/markdown": [
       "\n",
       "| donor_long_id | ncells |\n",
       "|---|---|\n",
       "| HPSI0114i-bezi_1 |  13              |\n",
       "| HPSI0114i-eipl_1 |  99              |\n",
       "| HPSI0114i-iisa_3 |  38              |\n",
       "| HPSI0114i-joxm_1 | 383              |\n",
       "| HPSI0114i-kolf_2 |  73              |\n",
       "| HPSI0114i-vass_1 | 106              |\n",
       "\n"
      ],
      "text/plain": [
       "  donor_long_id    ncells\n",
       "1 HPSI0114i-bezi_1  13   \n",
       "2 HPSI0114i-eipl_1  99   \n",
       "3 HPSI0114i-iisa_3  38   \n",
       "4 HPSI0114i-joxm_1 383   \n",
       "5 HPSI0114i-kolf_2  73   \n",
       "6 HPSI0114i-vass_1 106   "
      ]
     },
     "metadata": {},
     "output_type": "display_data"
    }
   ],
   "source": [
    "df3 = df2 %>% group_by(donor_long_id) %>% summarise(ncells=n())\n",
    "head(df3)"
   ]
  },
  {
   "cell_type": "code",
   "execution_count": 24,
   "metadata": {},
   "outputs": [
    {
     "data": {
      "text/html": [
       "89"
      ],
      "text/latex": [
       "89"
      ],
      "text/markdown": [
       "89"
      ],
      "text/plain": [
       "[1] 89"
      ]
     },
     "metadata": {},
     "output_type": "display_data"
    },
    {
     "data": {
      "text/html": [
       "89"
      ],
      "text/latex": [
       "89"
      ],
      "text/markdown": [
       "89"
      ],
      "text/plain": [
       "[1] 89"
      ]
     },
     "metadata": {},
     "output_type": "display_data"
    }
   ],
   "source": [
    "nrow(df3)\n",
    "nrow(df3[df3$ncells>5,])"
   ]
  },
  {
   "cell_type": "code",
   "execution_count": 18,
   "metadata": {},
   "outputs": [
    {
     "data": {
      "image/png": "[encoded data removed]",
      "text/plain": [
       "plot without title"
      ]
     },
     "metadata": {},
     "output_type": "display_data"
    }
   ],
   "source": [
    "options(repr.plot.width = 8, repr.plot.height = 6)\n",
    "p = ggplot(df3, aes(x=ncells)) + geom_histogram(alpha = 1, col = \"black\", fill = \"darkcyan\", bins = 60) + \n",
    "    xlab(\"Number of cells\") + ylab(\"Number of donors\") +\n",
    "#     coord_cartesian(xlim = c(14, 20), ylim = c(0,16)) + \n",
    "    theme_classic() + geom_vline(xintercept = 5)\n",
    "p"
   ]
  },
  {
   "cell_type": "code",
   "execution_count": 20,
   "metadata": {},
   "outputs": [
    {
     "data": {
      "text/html": [
       "<strong>png:</strong> 2"
      ],
      "text/latex": [
       "\\textbf{png:} 2"
      ],
      "text/markdown": [
       "**png:** 2"
      ],
      "text/plain": [
       "png \n",
       "  2 "
      ]
     },
     "metadata": {},
     "output_type": "display_data"
    }
   ],
   "source": [
    "pdf(paste0(fig_dir,\"Fig_S1c.pdf\"), width=8, height=6)\n",
    "p\n",
    "dev.off()"
   ]
  },
  {
   "cell_type": "code",
   "execution_count": null,
   "metadata": {},
   "outputs": [],
   "source": []
  },
  {
   "cell_type": "code",
   "execution_count": null,
   "metadata": {},
   "outputs": [],
   "source": [
    "# 10X (FPP)"
   ]
  },
  {
   "cell_type": "code",
   "execution_count": 3,
   "metadata": {},
   "outputs": [
    {
     "data": {
      "text/html": [
       "<table>\n",
       "<thead><tr><th scope=col>index</th><th scope=col>batch</th><th scope=col>donor_id</th><th scope=col>sample_id</th><th scope=col>cluster_id</th><th scope=col>time_point</th><th scope=col>pool_id</th><th scope=col>treatment</th><th scope=col>n_counts_all</th><th scope=col>celltype</th><th scope=col>cluster_id_new</th></tr></thead>\n",
       "<tbody>\n",
       "\t<tr><td>CTCGTACCACAGACAG-1-4 </td><td> 4                   </td><td>HPSI0414i-sebn_3     </td><td>5245STDY7386987      </td><td>1                    </td><td>D11                  </td><td>pool3                </td><td>NONE                 </td><td>15316                </td><td>P_FPP                </td><td>1                    </td></tr>\n",
       "\t<tr><td>CTGTGCTGTTCGCGAC-1-23</td><td>23                   </td><td>HPSI1013i-hiaf_1     </td><td>5245STDY7632694      </td><td>2                    </td><td>D11                  </td><td>pool6                </td><td>NONE                 </td><td>20732                </td><td>P_FPP                </td><td>2                    </td></tr>\n",
       "\t<tr><td>AACGTTGCACGAAAGC-1-31</td><td>31                   </td><td>HPSI0214i-datg_2     </td><td>5245STDY7697816      </td><td>2                    </td><td>D11                  </td><td>pool9                </td><td>NONE                 </td><td>14291                </td><td>P_FPP                </td><td>2                    </td></tr>\n",
       "\t<tr><td>GATCAGTGTGATGTCT-1-7 </td><td> 7                   </td><td>HPSI0514i-fiaj_1     </td><td>5245STDY7487302      </td><td>2                    </td><td>D11                  </td><td>pool4                </td><td>NONE                 </td><td>11162                </td><td>P_FPP                </td><td>2                    </td></tr>\n",
       "\t<tr><td>AGATTGCCATGGATGG-1-33</td><td>33                   </td><td>HPSI0513i-veve_2     </td><td>5245STDY7878553      </td><td>4                    </td><td>D11                  </td><td>pool11               </td><td>NONE                 </td><td> 1392                </td><td>P_FPP                </td><td>4                    </td></tr>\n",
       "\t<tr><td>TCAACGAAGGTAGCTG-1-31</td><td>31                   </td><td>HPSI0214i-datg_2     </td><td>5245STDY7697816      </td><td>0                    </td><td>D11                  </td><td>pool9                </td><td>NONE                 </td><td>21629                </td><td>FPP                  </td><td>0                    </td></tr>\n",
       "</tbody>\n",
       "</table>\n"
      ],
      "text/latex": [
       "\\begin{tabular}{r|lllllllllll}\n",
       " index & batch & donor\\_id & sample\\_id & cluster\\_id & time\\_point & pool\\_id & treatment & n\\_counts\\_all & celltype & cluster\\_id\\_new\\\\\n",
       "\\hline\n",
       "\t CTCGTACCACAGACAG-1-4  &  4                    & HPSI0414i-sebn\\_3    & 5245STDY7386987       & 1                     & D11                   & pool3                 & NONE                  & 15316                 & P\\_FPP               & 1                    \\\\\n",
       "\t CTGTGCTGTTCGCGAC-1-23 & 23                    & HPSI1013i-hiaf\\_1    & 5245STDY7632694       & 2                     & D11                   & pool6                 & NONE                  & 20732                 & P\\_FPP               & 2                    \\\\\n",
       "\t AACGTTGCACGAAAGC-1-31 & 31                    & HPSI0214i-datg\\_2    & 5245STDY7697816       & 2                     & D11                   & pool9                 & NONE                  & 14291                 & P\\_FPP               & 2                    \\\\\n",
       "\t GATCAGTGTGATGTCT-1-7  &  7                    & HPSI0514i-fiaj\\_1    & 5245STDY7487302       & 2                     & D11                   & pool4                 & NONE                  & 11162                 & P\\_FPP               & 2                    \\\\\n",
       "\t AGATTGCCATGGATGG-1-33 & 33                    & HPSI0513i-veve\\_2    & 5245STDY7878553       & 4                     & D11                   & pool11                & NONE                  &  1392                 & P\\_FPP               & 4                    \\\\\n",
       "\t TCAACGAAGGTAGCTG-1-31 & 31                    & HPSI0214i-datg\\_2    & 5245STDY7697816       & 0                     & D11                   & pool9                 & NONE                  & 21629                 & FPP                   & 0                    \\\\\n",
       "\\end{tabular}\n"
      ],
      "text/markdown": [
       "\n",
       "| index | batch | donor_id | sample_id | cluster_id | time_point | pool_id | treatment | n_counts_all | celltype | cluster_id_new |\n",
       "|---|---|---|---|---|---|---|---|---|---|---|\n",
       "| CTCGTACCACAGACAG-1-4  |  4                    | HPSI0414i-sebn_3      | 5245STDY7386987       | 1                     | D11                   | pool3                 | NONE                  | 15316                 | P_FPP                 | 1                     |\n",
       "| CTGTGCTGTTCGCGAC-1-23 | 23                    | HPSI1013i-hiaf_1      | 5245STDY7632694       | 2                     | D11                   | pool6                 | NONE                  | 20732                 | P_FPP                 | 2                     |\n",
       "| AACGTTGCACGAAAGC-1-31 | 31                    | HPSI0214i-datg_2      | 5245STDY7697816       | 2                     | D11                   | pool9                 | NONE                  | 14291                 | P_FPP                 | 2                     |\n",
       "| GATCAGTGTGATGTCT-1-7  |  7                    | HPSI0514i-fiaj_1      | 5245STDY7487302       | 2                     | D11                   | pool4                 | NONE                  | 11162                 | P_FPP                 | 2                     |\n",
       "| AGATTGCCATGGATGG-1-33 | 33                    | HPSI0513i-veve_2      | 5245STDY7878553       | 4                     | D11                   | pool11                | NONE                  |  1392                 | P_FPP                 | 4                     |\n",
       "| TCAACGAAGGTAGCTG-1-31 | 31                    | HPSI0214i-datg_2      | 5245STDY7697816       | 0                     | D11                   | pool9                 | NONE                  | 21629                 | FPP                   | 0                     |\n",
       "\n"
      ],
      "text/plain": [
       "  index                 batch donor_id         sample_id       cluster_id\n",
       "1 CTCGTACCACAGACAG-1-4   4    HPSI0414i-sebn_3 5245STDY7386987 1         \n",
       "2 CTGTGCTGTTCGCGAC-1-23 23    HPSI1013i-hiaf_1 5245STDY7632694 2         \n",
       "3 AACGTTGCACGAAAGC-1-31 31    HPSI0214i-datg_2 5245STDY7697816 2         \n",
       "4 GATCAGTGTGATGTCT-1-7   7    HPSI0514i-fiaj_1 5245STDY7487302 2         \n",
       "5 AGATTGCCATGGATGG-1-33 33    HPSI0513i-veve_2 5245STDY7878553 4         \n",
       "6 TCAACGAAGGTAGCTG-1-31 31    HPSI0214i-datg_2 5245STDY7697816 0         \n",
       "  time_point pool_id treatment n_counts_all celltype cluster_id_new\n",
       "1 D11        pool3   NONE      15316        P_FPP    1             \n",
       "2 D11        pool6   NONE      20732        P_FPP    2             \n",
       "3 D11        pool9   NONE      14291        P_FPP    2             \n",
       "4 D11        pool4   NONE      11162        P_FPP    2             \n",
       "5 D11        pool11  NONE       1392        P_FPP    4             \n",
       "6 D11        pool9   NONE      21629        FPP      0             "
      ]
     },
     "metadata": {},
     "output_type": "display_data"
    }
   ],
   "source": [
    "df = read.csv(\"/hps/nobackup/stegle/users/acuomo/all_scripts/sc_neuroseq/scanpy/neuroseq_metadata_D11.txt\",sep=\"\\t\")\n",
    "head(df)"
   ]
  },
  {
   "cell_type": "code",
   "execution_count": 4,
   "metadata": {},
   "outputs": [
    {
     "data": {
      "text/html": [
       "132983"
      ],
      "text/latex": [
       "132983"
      ],
      "text/markdown": [
       "132983"
      ],
      "text/plain": [
       "[1] 132983"
      ]
     },
     "metadata": {},
     "output_type": "display_data"
    },
    {
     "data": {
      "text/html": [
       "<table>\n",
       "<thead><tr><th scope=col>index</th></tr></thead>\n",
       "<tbody>\n",
       "\t<tr><td>AAACCTGAGGAATGGA-1-0</td></tr>\n",
       "\t<tr><td>AAACCTGGTAGGCATG-1-0</td></tr>\n",
       "</tbody>\n",
       "</table>\n"
      ],
      "text/latex": [
       "\\begin{tabular}{r|l}\n",
       " index\\\\\n",
       "\\hline\n",
       "\t AAACCTGAGGAATGGA-1-0\\\\\n",
       "\t AAACCTGGTAGGCATG-1-0\\\\\n",
       "\\end{tabular}\n"
      ],
      "text/markdown": [
       "\n",
       "| index |\n",
       "|---|\n",
       "| AAACCTGAGGAATGGA-1-0 |\n",
       "| AAACCTGGTAGGCATG-1-0 |\n",
       "\n"
      ],
      "text/plain": [
       "  index               \n",
       "1 AAACCTGAGGAATGGA-1-0\n",
       "2 AAACCTGGTAGGCATG-1-0"
      ]
     },
     "metadata": {},
     "output_type": "display_data"
    }
   ],
   "source": [
    "### only select QC-passing cells\n",
    "qc_cell_filename = \"/hps/nobackup/stegle/users/acuomo/all_scripts/sc_eqtl/neuroseq_cell_passing_filter.txt\"\n",
    "qc_df = as.data.frame(read.table(qc_cell_filename))\n",
    "colnames(qc_df) = 'index'\n",
    "nrow(qc_df)\n",
    "head(qc_df,2)"
   ]
  },
  {
   "cell_type": "code",
   "execution_count": 5,
   "metadata": {},
   "outputs": [
    {
     "data": {
      "text/html": [
       "253381"
      ],
      "text/latex": [
       "253381"
      ],
      "text/markdown": [
       "253381"
      ],
      "text/plain": [
       "[1] 253381"
      ]
     },
     "metadata": {},
     "output_type": "display_data"
    },
    {
     "data": {
      "text/html": [
       "132983"
      ],
      "text/latex": [
       "132983"
      ],
      "text/markdown": [
       "132983"
      ],
      "text/plain": [
       "[1] 132983"
      ]
     },
     "metadata": {},
     "output_type": "display_data"
    }
   ],
   "source": [
    "nrow(df)\n",
    "df_filt = df[as.character(df$index) %in% as.character(qc_df$index),]\n",
    "nrow(df_filt)"
   ]
  },
  {
   "cell_type": "code",
   "execution_count": 6,
   "metadata": {},
   "outputs": [],
   "source": [
    "df_FPP_D11 = df_filt[df_filt$celltype == 'FPP' & df_filt$time_point == 'D11',]"
   ]
  },
  {
   "cell_type": "code",
   "execution_count": 7,
   "metadata": {},
   "outputs": [
    {
     "data": {
      "text/html": [
       "132983"
      ],
      "text/latex": [
       "132983"
      ],
      "text/markdown": [
       "132983"
      ],
      "text/plain": [
       "[1] 132983"
      ]
     },
     "metadata": {},
     "output_type": "display_data"
    }
   ],
   "source": [
    "nrow(df_FPP_D11)"
   ]
  },
  {
   "cell_type": "code",
   "execution_count": 8,
   "metadata": {},
   "outputs": [
    {
     "name": "stderr",
     "output_type": "stream",
     "text": [
      "\n",
      "Attaching package: ‘dplyr’\n",
      "\n",
      "The following objects are masked from ‘package:stats’:\n",
      "\n",
      "    filter, lag\n",
      "\n",
      "The following objects are masked from ‘package:base’:\n",
      "\n",
      "    intersect, setdiff, setequal, union\n",
      "\n"
     ]
    }
   ],
   "source": [
    "library(dplyr)\n",
    "library(ggplot2)"
   ]
  },
  {
   "cell_type": "code",
   "execution_count": 9,
   "metadata": {},
   "outputs": [
    {
     "data": {
      "text/html": [
       "<table>\n",
       "<thead><tr><th scope=col>donor_id</th><th scope=col>ncells</th></tr></thead>\n",
       "<tbody>\n",
       "\t<tr><td>HPSI0114i-eipl_1</td><td>1672            </td></tr>\n",
       "\t<tr><td>HPSI0114i-kolf_2</td><td> 334            </td></tr>\n",
       "\t<tr><td>HPSI0114i-wegi_1</td><td>2629            </td></tr>\n",
       "\t<tr><td>HPSI0115i-aion_2</td><td> 406            </td></tr>\n",
       "\t<tr><td>HPSI0115i-aoxv_1</td><td>1851            </td></tr>\n",
       "\t<tr><td>HPSI0115i-bimq_4</td><td> 338            </td></tr>\n",
       "</tbody>\n",
       "</table>\n"
      ],
      "text/latex": [
       "\\begin{tabular}{r|ll}\n",
       " donor\\_id & ncells\\\\\n",
       "\\hline\n",
       "\t HPSI0114i-eipl\\_1 & 1672              \\\\\n",
       "\t HPSI0114i-kolf\\_2 &  334              \\\\\n",
       "\t HPSI0114i-wegi\\_1 & 2629              \\\\\n",
       "\t HPSI0115i-aion\\_2 &  406              \\\\\n",
       "\t HPSI0115i-aoxv\\_1 & 1851              \\\\\n",
       "\t HPSI0115i-bimq\\_4 &  338              \\\\\n",
       "\\end{tabular}\n"
      ],
      "text/markdown": [
       "\n",
       "| donor_id | ncells |\n",
       "|---|---|\n",
       "| HPSI0114i-eipl_1 | 1672             |\n",
       "| HPSI0114i-kolf_2 |  334             |\n",
       "| HPSI0114i-wegi_1 | 2629             |\n",
       "| HPSI0115i-aion_2 |  406             |\n",
       "| HPSI0115i-aoxv_1 | 1851             |\n",
       "| HPSI0115i-bimq_4 |  338             |\n",
       "\n"
      ],
      "text/plain": [
       "  donor_id         ncells\n",
       "1 HPSI0114i-eipl_1 1672  \n",
       "2 HPSI0114i-kolf_2  334  \n",
       "3 HPSI0114i-wegi_1 2629  \n",
       "4 HPSI0115i-aion_2  406  \n",
       "5 HPSI0115i-aoxv_1 1851  \n",
       "6 HPSI0115i-bimq_4  338  "
      ]
     },
     "metadata": {},
     "output_type": "display_data"
    }
   ],
   "source": [
    "df0 = df_FPP_D11 %>% group_by(donor_id) %>% summarise(ncells=n())\n",
    "head(df0)"
   ]
  },
  {
   "cell_type": "code",
   "execution_count": 10,
   "metadata": {},
   "outputs": [
    {
     "data": {
      "text/html": [
       "160"
      ],
      "text/latex": [
       "160"
      ],
      "text/markdown": [
       "160"
      ],
      "text/plain": [
       "[1] 160"
      ]
     },
     "metadata": {},
     "output_type": "display_data"
    },
    {
     "data": {
      "text/html": [
       "157"
      ],
      "text/latex": [
       "157"
      ],
      "text/markdown": [
       "157"
      ],
      "text/plain": [
       "[1] 157"
      ]
     },
     "metadata": {},
     "output_type": "display_data"
    }
   ],
   "source": [
    "nrow(df0)\n",
    "nrow(df0[df0$ncells>5,])"
   ]
  },
  {
   "cell_type": "code",
   "execution_count": 11,
   "metadata": {},
   "outputs": [
    {
     "data": {
      "image/png": "[encoded data removed]",
      "text/plain": [
       "plot without title"
      ]
     },
     "metadata": {},
     "output_type": "display_data"
    }
   ],
   "source": [
    "options(repr.plot.width = 8, repr.plot.height = 6)\n",
    "p = ggplot(df0, aes(x=ncells)) + geom_histogram(alpha = 1, col = \"black\", fill = \"forestgreen\", bins = 100) + \n",
    "    xlab(\"Number of cells\") + ylab(\"Number of donors\") +\n",
    "#     coord_cartesian(xlim = c(14, 20), ylim = c(0,16)) + \n",
    "    theme_classic() + geom_vline(xintercept = 5)\n",
    "p"
   ]
  },
  {
   "cell_type": "code",
   "execution_count": 14,
   "metadata": {},
   "outputs": [
    {
     "data": {
      "text/html": [
       "<strong>png:</strong> 2"
      ],
      "text/latex": [
       "\\textbf{png:} 2"
      ],
      "text/markdown": [
       "**png:** 2"
      ],
      "text/plain": [
       "png \n",
       "  2 "
      ]
     },
     "metadata": {},
     "output_type": "display_data"
    }
   ],
   "source": [
    "pdf(paste0(fig_dir,\"Fig_S1d.pdf\"), width=8, height=6)\n",
    "p\n",
    "dev.off()"
   ]
  },
  {
   "cell_type": "code",
   "execution_count": null,
   "metadata": {},
   "outputs": [],
   "source": []
  }
 ],
 "metadata": {
  "kernelspec": {
   "display_name": "R",
   "language": "R",
   "name": "ir"
  },
  "language_info": {
   "codemirror_mode": "r",
   "file_extension": ".r",
   "mimetype": "text/x-r-source",
   "name": "R",
   "pygments_lexer": "r",
   "version": "3.6.1"
  }
 },
 "nbformat": 4,
 "nbformat_minor": 4
}
