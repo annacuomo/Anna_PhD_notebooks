{
 "cells": [
  {
   "cell_type": "code",
   "execution_count": 6,
   "metadata": {},
   "outputs": [
    {
     "name": "stderr",
     "output_type": "stream",
     "text": [
      "\n",
      "Attaching package: ‘dplyr’\n",
      "\n",
      "The following objects are masked from ‘package:stats’:\n",
      "\n",
      "    filter, lag\n",
      "\n",
      "The following objects are masked from ‘package:base’:\n",
      "\n",
      "    intersect, setdiff, setequal, union\n",
      "\n"
     ]
    }
   ],
   "source": [
    "library(qvalue)\n",
    "library(dplyr)\n",
    "library(ggplot2)"
   ]
  },
  {
   "cell_type": "code",
   "execution_count": 7,
   "metadata": {},
   "outputs": [
    {
     "data": {
      "text/html": [
       "21592"
      ],
      "text/latex": [
       "21592"
      ],
      "text/markdown": [
       "21592"
      ],
      "text/plain": [
       "[1] 21592"
      ]
     },
     "metadata": {},
     "output_type": "display_data"
    },
    {
     "data": {
      "text/html": [
       "<table>\n",
       "<thead><tr><th></th><th scope=col>gene</th><th scope=col>mean</th><th scope=col>std</th><th scope=col>CV</th><th scope=col>quartile_cv</th></tr></thead>\n",
       "<tbody>\n",
       "\t<tr><th scope=row>2</th><td>ENSG00000227232</td><td>3.1805905      </td><td>3.6232403      </td><td>1.139172       </td><td>2              </td></tr>\n",
       "\t<tr><th scope=row>3</th><td>ENSG00000243485</td><td>0.2003178      </td><td>0.8649483      </td><td>4.317881       </td><td>3              </td></tr>\n",
       "</tbody>\n",
       "</table>\n"
      ],
      "text/latex": [
       "\\begin{tabular}{r|lllll}\n",
       "  & gene & mean & std & CV & quartile\\_cv\\\\\n",
       "\\hline\n",
       "\t2 & ENSG00000227232 & 3.1805905       & 3.6232403       & 1.139172        & 2              \\\\\n",
       "\t3 & ENSG00000243485 & 0.2003178       & 0.8649483       & 4.317881        & 3              \\\\\n",
       "\\end{tabular}\n"
      ],
      "text/markdown": [
       "\n",
       "| <!--/--> | gene | mean | std | CV | quartile_cv |\n",
       "|---|---|---|---|---|---|\n",
       "| 2 | ENSG00000227232 | 3.1805905       | 3.6232403       | 1.139172        | 2               |\n",
       "| 3 | ENSG00000243485 | 0.2003178       | 0.8649483       | 4.317881        | 3               |\n",
       "\n"
      ],
      "text/plain": [
       "  gene            mean      std       CV       quartile_cv\n",
       "2 ENSG00000227232 3.1805905 3.6232403 1.139172 2          \n",
       "3 ENSG00000243485 0.2003178 0.8649483 4.317881 3          "
      ]
     },
     "metadata": {},
     "output_type": "display_data"
    }
   ],
   "source": [
    "Giordanos_selection = \"/hps/nobackup/stegle/users/galvari/data/iPSCs/singleCell/metadata/ensembl_gene/Ensembl_75_Gene_CV_quant5.txt\"\n",
    "G_file = read.csv(Giordanos_selection, sep = \"\\t\")\n",
    "nrow(G_file)\n",
    "head(G_file,2)"
   ]
  },
  {
   "cell_type": "code",
   "execution_count": 8,
   "metadata": {},
   "outputs": [
    {
     "data": {
      "text/html": [
       "12726"
      ],
      "text/latex": [
       "12726"
      ],
      "text/markdown": [
       "12726"
      ],
      "text/plain": [
       "[1] 12726"
      ]
     },
     "metadata": {},
     "output_type": "display_data"
    }
   ],
   "source": [
    "df_common_genes = read.csv(\"/hps/nobackup/stegle/users/acuomo/all_scripts/sc_eqtl/common_genes_across_all_aggregation_methods.csv\")\n",
    "common_genes_sc = as.character(df_common_genes$gene)\n",
    "length(common_genes_sc)"
   ]
  },
  {
   "cell_type": "code",
   "execution_count": 11,
   "metadata": {},
   "outputs": [
    {
     "data": {
      "text/html": [
       "49554"
      ],
      "text/latex": [
       "49554"
      ],
      "text/markdown": [
       "49554"
      ],
      "text/plain": [
       "[1] 49554"
      ]
     },
     "metadata": {},
     "output_type": "display_data"
    },
    {
     "data": {
      "text/html": [
       "42791"
      ],
      "text/latex": [
       "42791"
      ],
      "text/markdown": [
       "42791"
      ],
      "text/plain": [
       "[1] 42791"
      ]
     },
     "metadata": {},
     "output_type": "display_data"
    }
   ],
   "source": [
    "bulk_genes = unique(leads_all$feature_id)\n",
    "length(bulk_genes)\n",
    "bulk_matched_genes = unique(leads$feature_id)\n",
    "length(bulk_matched_genes)"
   ]
  },
  {
   "cell_type": "code",
   "execution_count": 12,
   "metadata": {},
   "outputs": [
    {
     "data": {
      "text/html": [
       "12720"
      ],
      "text/latex": [
       "12720"
      ],
      "text/markdown": [
       "12720"
      ],
      "text/plain": [
       "[1] 12720"
      ]
     },
     "metadata": {},
     "output_type": "display_data"
    }
   ],
   "source": [
    "common_genes1 = common_genes_sc[common_genes_sc %in% bulk_genes]\n",
    "common_genes = common_genes1[common_genes1 %in% bulk_matched_genes]\n",
    "length(common_genes)"
   ]
  },
  {
   "cell_type": "code",
   "execution_count": 13,
   "metadata": {},
   "outputs": [],
   "source": [
    "write.csv(data.frame(genes = common_genes), \"/hps/nobackup/stegle/users/acuomo/all_scripts/sc_eqtl/common_genes_across_all_aggregation_methods_and_bulk.csv\")"
   ]
  },
  {
   "cell_type": "code",
   "execution_count": null,
   "metadata": {},
   "outputs": [],
   "source": []
  },
  {
   "cell_type": "code",
   "execution_count": 1,
   "metadata": {},
   "outputs": [],
   "source": [
    "bulk_matched_folder = \"/hps/nobackup/hipsci/scratch/ComparingQtlMapping/Bulk/BulkDay0Healthy_PCA20_88_206/\""
   ]
  },
  {
   "cell_type": "code",
   "execution_count": 2,
   "metadata": {},
   "outputs": [
    {
     "data": {
      "text/html": [
       "16691457"
      ],
      "text/latex": [
       "16691457"
      ],
      "text/markdown": [
       "16691457"
      ],
      "text/plain": [
       "[1] 16691457"
      ]
     },
     "metadata": {},
     "output_type": "display_data"
    }
   ],
   "source": [
    "res = read.csv(paste0(bulk_matched_folder,\"qtl_results_all.txt\"), sep = \"\\t\")\n",
    "nrow(res)"
   ]
  },
  {
   "cell_type": "code",
   "execution_count": 3,
   "metadata": {},
   "outputs": [],
   "source": [
    "# bulk_folder = \"/hps/nobackup/hipsci/scratch/ComparingQtlMapping/Bulk/BulkTotal/\"\n",
    "bulk_folder = \"/hps/nobackup/hipsci/scratch/ComparingQtlMapping/Bulk/BulkTotal_PCA20/\""
   ]
  },
  {
   "cell_type": "code",
   "execution_count": 4,
   "metadata": {},
   "outputs": [
    {
     "data": {
      "text/html": [
       "18974762"
      ],
      "text/latex": [
       "18974762"
      ],
      "text/markdown": [
       "18974762"
      ],
      "text/plain": [
       "[1] 18974762"
      ]
     },
     "metadata": {},
     "output_type": "display_data"
    }
   ],
   "source": [
    "res_all = read.csv(paste0(bulk_folder,\"qtl_results_all.txt\"), sep = \"\\t\")\n",
    "nrow(res_all)"
   ]
  },
  {
   "cell_type": "code",
   "execution_count": 5,
   "metadata": {},
   "outputs": [
    {
     "data": {
      "text/html": [
       "43103"
      ],
      "text/latex": [
       "43103"
      ],
      "text/markdown": [
       "43103"
      ],
      "text/plain": [
       "[1] 43103"
      ]
     },
     "metadata": {},
     "output_type": "display_data"
    }
   ],
   "source": [
    "leads = read.csv(paste0(bulk_matched_folder,\"top_qtl_results_all.txt\"), sep = \"\\t\")\n",
    "nrow(leads)"
   ]
  },
  {
   "cell_type": "code",
   "execution_count": 10,
   "metadata": {},
   "outputs": [],
   "source": [
    "# df = read.csv(paste0(bulk_matched_folder,\"qtl_results_all.txt\"), sep = \"\\t\")\n",
    "# df <- df[order(df$empirical_feature_p_value, df$p_value ),]\n",
    "# df0 <- df[-which(duplicated(df$feature_id)),]\n",
    "# df1 = df0[df0$feature_id %in% common_genes,]\n",
    "# length(unique(df1$feature_id))\n",
    "# df1$BH_fdr = p.adjust(df1$empirical_feature_p_value, method = 'BH')\n",
    "# length(unique(df1[df1$BH_fdr < 0.05,'feature_id']))\n",
    "# df1$q_value = qvalue(df1$empirical_feature_p_value)$qvalues\n",
    "# length(unique(df1[df1$q_value < 0.05,'feature_id']))"
   ]
  },
  {
   "cell_type": "code",
   "execution_count": 16,
   "metadata": {},
   "outputs": [
    {
     "data": {
      "text/html": [
       "42791"
      ],
      "text/latex": [
       "42791"
      ],
      "text/markdown": [
       "42791"
      ],
      "text/plain": [
       "[1] 42791"
      ]
     },
     "metadata": {},
     "output_type": "display_data"
    },
    {
     "data": {
      "text/html": [
       "12720"
      ],
      "text/latex": [
       "12720"
      ],
      "text/markdown": [
       "12720"
      ],
      "text/plain": [
       "[1] 12720"
      ]
     },
     "metadata": {},
     "output_type": "display_data"
    },
    {
     "data": {
      "text/html": [
       "2603"
      ],
      "text/latex": [
       "2603"
      ],
      "text/markdown": [
       "2603"
      ],
      "text/plain": [
       "[1] 2603"
      ]
     },
     "metadata": {},
     "output_type": "display_data"
    }
   ],
   "source": [
    "df0 = leads\n",
    "df0 <- df0[-which(duplicated(df0$feature_id)),]\n",
    "length(unique(df0$feature_id))\n",
    "# df1 = df0[df0$feature_id %in% G_file$gene,]\n",
    "df1 = df0[df0$feature_id %in% common_genes,]\n",
    "length(unique(df1$feature_id))\n",
    "# df1$BH_fdr = p.adjust(df1$empirical_feature_p_value, method = 'BH')\n",
    "# length(unique(df1[df1$BH_fdr < 0.05,'feature_id']))\n",
    "df1$q_value = qvalue(df1$empirical_feature_p_value)$qvalues\n",
    "length(unique(df1[df1$q_value < 0.05,'feature_id']))"
   ]
  },
  {
   "cell_type": "code",
   "execution_count": 17,
   "metadata": {},
   "outputs": [
    {
     "name": "stderr",
     "output_type": "stream",
     "text": [
      "Warning message:\n",
      "“Column `snp_id` joining factors with different levels, coercing to character vector”Warning message:\n",
      "“Column `feature_id` joining factors with different levels, coercing to character vector”"
     ]
    },
    {
     "data": {
      "text/html": [
       "2590"
      ],
      "text/latex": [
       "2590"
      ],
      "text/markdown": [
       "2590"
      ],
      "text/plain": [
       "[1] 2590"
      ]
     },
     "metadata": {},
     "output_type": "display_data"
    },
    {
     "data": {
      "text/html": [
       "2476"
      ],
      "text/latex": [
       "2476"
      ],
      "text/markdown": [
       "2476"
      ],
      "text/plain": [
       "[1] 2476"
      ]
     },
     "metadata": {},
     "output_type": "display_data"
    },
    {
     "data": {
      "text/html": [
       "2476"
      ],
      "text/latex": [
       "2476"
      ],
      "text/markdown": [
       "2476"
      ],
      "text/plain": [
       "[1] 2476"
      ]
     },
     "metadata": {},
     "output_type": "display_data"
    }
   ],
   "source": [
    "df3 = df1[df1$q_value < 0.05,]\n",
    "df5 = inner_join(df3, res_all, by = c(\"snp_id\",\"feature_id\"), suffix = c(\".sc\",\".bulk\"))\n",
    "df5 <- df5[-which(duplicated(df5$feature_id)),]\n",
    "nrow(df5)\n",
    "\n",
    "nrow(df5[(df5$p_value.bulk < 0.05 & \n",
    "         (df5$beta.sc*df5$beta.bulk)>0),])\n",
    "nrow(df5[(df5$p_value.bulk < 0.05),])"
   ]
  },
  {
   "cell_type": "code",
   "execution_count": 18,
   "metadata": {},
   "outputs": [
    {
     "data": {
      "text/html": [
       "49916"
      ],
      "text/latex": [
       "49916"
      ],
      "text/markdown": [
       "49916"
      ],
      "text/plain": [
       "[1] 49916"
      ]
     },
     "metadata": {},
     "output_type": "display_data"
    }
   ],
   "source": [
    "leads_all = read.csv(paste0(bulk_folder,\"top_qtl_results_all.txt\"), sep = \"\\t\")\n",
    "nrow(leads_all)"
   ]
  },
  {
   "cell_type": "code",
   "execution_count": 19,
   "metadata": {},
   "outputs": [
    {
     "data": {
      "text/html": [
       "49554"
      ],
      "text/latex": [
       "49554"
      ],
      "text/markdown": [
       "49554"
      ],
      "text/plain": [
       "[1] 49554"
      ]
     },
     "metadata": {},
     "output_type": "display_data"
    },
    {
     "data": {
      "text/html": [
       "12720"
      ],
      "text/latex": [
       "12720"
      ],
      "text/markdown": [
       "12720"
      ],
      "text/plain": [
       "[1] 12720"
      ]
     },
     "metadata": {},
     "output_type": "display_data"
    },
    {
     "data": {
      "text/html": [
       "9729"
      ],
      "text/latex": [
       "9729"
      ],
      "text/markdown": [
       "9729"
      ],
      "text/plain": [
       "[1] 9729"
      ]
     },
     "metadata": {},
     "output_type": "display_data"
    }
   ],
   "source": [
    "df0 = leads_all\n",
    "df0 <- df0[-which(duplicated(df0$feature_id)),]\n",
    "length(unique(df0$feature_id))\n",
    "# df1 = df0[df0$feature_id %in% G_file$gene,]\n",
    "df1 = df0[df0$feature_id %in% common_genes,]\n",
    "length(unique(df1$feature_id))\n",
    "df1$q_value = qvalue(df1$empirical_feature_p_value)$qvalues\n",
    "length(unique(df1[df1$q_value < 0.05,'feature_id']))"
   ]
  },
  {
   "cell_type": "code",
   "execution_count": null,
   "metadata": {},
   "outputs": [],
   "source": []
  },
  {
   "cell_type": "code",
   "execution_count": 20,
   "metadata": {},
   "outputs": [],
   "source": [
    "##### Mean"
   ]
  },
  {
   "cell_type": "code",
   "execution_count": 21,
   "metadata": {},
   "outputs": [],
   "source": [
    "mean_folder = \"/hps/nobackup/hipsci/scratch/ComparingQtlMapping/SingleCell/PseudoBulk/mean/\""
   ]
  },
  {
   "cell_type": "code",
   "execution_count": 27,
   "metadata": {},
   "outputs": [],
   "source": [
    "my_folder = paste0(mean_folder,\"Run_Output_PCA20_88_log_TPM_scater_libsize_206/\") # scran, 20PCs\n",
    "my_folder = paste0(mean_folder,\"Run_Output_PCA20_88_log_TPM_scater_libsize_206_baynorm/\") # baynorm, 20PCs"
   ]
  },
  {
   "cell_type": "code",
   "execution_count": 28,
   "metadata": {},
   "outputs": [],
   "source": [
    "df0 = read.csv(paste0(my_folder,\"top_qtl_results_all.txt\"), sep = \"\\t\")\n",
    "df0 <- df0[-which(duplicated(df0$feature_id)),]"
   ]
  },
  {
   "cell_type": "code",
   "execution_count": 29,
   "metadata": {},
   "outputs": [
    {
     "data": {
      "text/html": [
       "50425"
      ],
      "text/latex": [
       "50425"
      ],
      "text/markdown": [
       "50425"
      ],
      "text/plain": [
       "[1] 50425"
      ]
     },
     "metadata": {},
     "output_type": "display_data"
    },
    {
     "data": {
      "text/html": [
       "12720"
      ],
      "text/latex": [
       "12720"
      ],
      "text/markdown": [
       "12720"
      ],
      "text/plain": [
       "[1] 12720"
      ]
     },
     "metadata": {},
     "output_type": "display_data"
    },
    {
     "data": {
      "text/html": [
       "1860"
      ],
      "text/latex": [
       "1860"
      ],
      "text/markdown": [
       "1860"
      ],
      "text/plain": [
       "[1] 1860"
      ]
     },
     "metadata": {},
     "output_type": "display_data"
    }
   ],
   "source": [
    "length(unique(df0$feature_id))\n",
    "# df1 = df0[df0$feature_id %in% G_file$gene,]\n",
    "df1 = df0[df0$feature_id %in% common_genes,]\n",
    "length(unique(df1$feature_id))\n",
    "# df1$BH_fdr = p.adjust(df1$empirical_feature_p_value, method = 'BH')\n",
    "# length(unique(df1[df1$BH_fdr < 0.05,'feature_id']))\n",
    "df1$q_value = qvalue(df1$empirical_feature_p_value)$qvalues\n",
    "# length(unique(df1[df1$q_value < 0.05,'feature_id']))\n",
    "\n",
    "df3 = df1[df1$q_value < 0.05,]\n",
    "nrow(df3)"
   ]
  },
  {
   "cell_type": "code",
   "execution_count": 30,
   "metadata": {},
   "outputs": [
    {
     "name": "stderr",
     "output_type": "stream",
     "text": [
      "Warning message:\n",
      "“Column `snp_id` joining factors with different levels, coercing to character vector”Warning message:\n",
      "“Column `feature_id` joining factors with different levels, coercing to character vector”"
     ]
    },
    {
     "data": {
      "text/html": [
       "1860"
      ],
      "text/latex": [
       "1860"
      ],
      "text/markdown": [
       "1860"
      ],
      "text/plain": [
       "[1] 1860"
      ]
     },
     "metadata": {},
     "output_type": "display_data"
    },
    {
     "data": {
      "text/html": [
       "1206"
      ],
      "text/latex": [
       "1206"
      ],
      "text/markdown": [
       "1206"
      ],
      "text/plain": [
       "[1] 1206"
      ]
     },
     "metadata": {},
     "output_type": "display_data"
    },
    {
     "data": {
      "text/html": [
       "1256"
      ],
      "text/latex": [
       "1256"
      ],
      "text/markdown": [
       "1256"
      ],
      "text/plain": [
       "[1] 1256"
      ]
     },
     "metadata": {},
     "output_type": "display_data"
    }
   ],
   "source": [
    "df4 = inner_join(df3, res, by = c(\"snp_id\",\"feature_id\"), suffix = c(\".sc\",\".bulk\"))\n",
    "df4 <- df4[-which(duplicated(df4$feature_id)),]\n",
    "nrow(df4)\n",
    "\n",
    "nrow(df4[(df4$p_value.bulk < 0.05 & \n",
    "         (df4$beta.sc*df4$beta.bulk)>0),])\n",
    "nrow(df4[(df4$p_value.bulk < 0.05),])"
   ]
  },
  {
   "cell_type": "code",
   "execution_count": 31,
   "metadata": {},
   "outputs": [
    {
     "name": "stderr",
     "output_type": "stream",
     "text": [
      "Warning message:\n",
      "“Column `snp_id` joining factors with different levels, coercing to character vector”Warning message:\n",
      "“Column `feature_id` joining factors with different levels, coercing to character vector”"
     ]
    },
    {
     "data": {
      "text/html": [
       "1855"
      ],
      "text/latex": [
       "1855"
      ],
      "text/markdown": [
       "1855"
      ],
      "text/plain": [
       "[1] 1855"
      ]
     },
     "metadata": {},
     "output_type": "display_data"
    },
    {
     "data": {
      "text/html": [
       "1394"
      ],
      "text/latex": [
       "1394"
      ],
      "text/markdown": [
       "1394"
      ],
      "text/plain": [
       "[1] 1394"
      ]
     },
     "metadata": {},
     "output_type": "display_data"
    },
    {
     "data": {
      "text/html": [
       "1506"
      ],
      "text/latex": [
       "1506"
      ],
      "text/markdown": [
       "1506"
      ],
      "text/plain": [
       "[1] 1506"
      ]
     },
     "metadata": {},
     "output_type": "display_data"
    }
   ],
   "source": [
    "df5 = inner_join(df3, res_all, by = c(\"snp_id\",\"feature_id\"), suffix = c(\".sc\",\".bulk\"))\n",
    "df5 <- df5[-which(duplicated(df5$feature_id)),]\n",
    "nrow(df5)\n",
    "\n",
    "nrow(df5[(df5$p_value.bulk < 0.05 & \n",
    "         (df5$beta.sc*df5$beta.bulk)>0),])\n",
    "nrow(df5[(df5$p_value.bulk < 0.05),])"
   ]
  },
  {
   "cell_type": "code",
   "execution_count": 31,
   "metadata": {},
   "outputs": [],
   "source": [
    "##### Total Mean"
   ]
  },
  {
   "cell_type": "code",
   "execution_count": 32,
   "metadata": {},
   "outputs": [],
   "source": [
    "total_mean_folder = \"/hps/nobackup/hipsci/scratch/ComparingQtlMapping/SingleCell/PseudoBulk/totmean/\""
   ]
  },
  {
   "cell_type": "code",
   "execution_count": 33,
   "metadata": {},
   "outputs": [],
   "source": [
    "my_folder = paste0(total_mean_folder,\"Run_Output_PCA20_88_log_TPM_scater_libsize_206/\") # scran, 20PCs"
   ]
  },
  {
   "cell_type": "code",
   "execution_count": 34,
   "metadata": {},
   "outputs": [],
   "source": [
    "df0 = read.csv(paste0(my_folder,\"top_qtl_results_all.txt\"), sep = \"\\t\")\n",
    "df0 <- df0[-which(duplicated(df0$feature_id)),]"
   ]
  },
  {
   "cell_type": "code",
   "execution_count": 35,
   "metadata": {},
   "outputs": [
    {
     "data": {
      "text/html": [
       "50429"
      ],
      "text/latex": [
       "50429"
      ],
      "text/markdown": [
       "50429"
      ],
      "text/plain": [
       "[1] 50429"
      ]
     },
     "metadata": {},
     "output_type": "display_data"
    },
    {
     "data": {
      "text/html": [
       "12720"
      ],
      "text/latex": [
       "12720"
      ],
      "text/markdown": [
       "12720"
      ],
      "text/plain": [
       "[1] 12720"
      ]
     },
     "metadata": {},
     "output_type": "display_data"
    },
    {
     "data": {
      "text/html": [
       "1136"
      ],
      "text/latex": [
       "1136"
      ],
      "text/markdown": [
       "1136"
      ],
      "text/plain": [
       "[1] 1136"
      ]
     },
     "metadata": {},
     "output_type": "display_data"
    },
    {
     "data": {
      "text/html": [
       "1305"
      ],
      "text/latex": [
       "1305"
      ],
      "text/markdown": [
       "1305"
      ],
      "text/plain": [
       "[1] 1305"
      ]
     },
     "metadata": {},
     "output_type": "display_data"
    },
    {
     "data": {
      "text/html": [
       "1305"
      ],
      "text/latex": [
       "1305"
      ],
      "text/markdown": [
       "1305"
      ],
      "text/plain": [
       "[1] 1305"
      ]
     },
     "metadata": {},
     "output_type": "display_data"
    }
   ],
   "source": [
    "length(unique(df0$feature_id))\n",
    "# df1 = df0[df0$feature_id %in% G_file$gene,]\n",
    "df1 = df0[df0$feature_id %in% common_genes,]\n",
    "length(unique(df1$feature_id))\n",
    "df1$BH_fdr = p.adjust(df1$empirical_feature_p_value, method = 'BH')\n",
    "length(unique(df1[df1$BH_fdr < 0.05,'feature_id']))\n",
    "df1$q_value = qvalue(df1$empirical_feature_p_value)$qvalues\n",
    "length(unique(df1[df1$q_value < 0.05,'feature_id']))\n",
    "\n",
    "df3 = df1[df1$q_value < 0.05,]\n",
    "nrow(df3)"
   ]
  },
  {
   "cell_type": "code",
   "execution_count": 36,
   "metadata": {},
   "outputs": [
    {
     "name": "stderr",
     "output_type": "stream",
     "text": [
      "Warning message:\n",
      "“Column `snp_id` joining factors with different levels, coercing to character vector”Warning message:\n",
      "“Column `feature_id` joining factors with different levels, coercing to character vector”"
     ]
    },
    {
     "data": {
      "text/html": [
       "1305"
      ],
      "text/latex": [
       "1305"
      ],
      "text/markdown": [
       "1305"
      ],
      "text/plain": [
       "[1] 1305"
      ]
     },
     "metadata": {},
     "output_type": "display_data"
    },
    {
     "data": {
      "text/html": [
       "943"
      ],
      "text/latex": [
       "943"
      ],
      "text/markdown": [
       "943"
      ],
      "text/plain": [
       "[1] 943"
      ]
     },
     "metadata": {},
     "output_type": "display_data"
    },
    {
     "data": {
      "text/html": [
       "986"
      ],
      "text/latex": [
       "986"
      ],
      "text/markdown": [
       "986"
      ],
      "text/plain": [
       "[1] 986"
      ]
     },
     "metadata": {},
     "output_type": "display_data"
    }
   ],
   "source": [
    "df4 = inner_join(df3, res, by = c(\"snp_id\",\"feature_id\"), suffix = c(\".sc\",\".bulk\"))\n",
    "df4 <- df4[-which(duplicated(df4$feature_id)),]\n",
    "nrow(df4)\n",
    "\n",
    "nrow(df4[(df4$p_value.bulk < 0.05 & \n",
    "         (df4$beta.sc*df4$beta.bulk)>0),])\n",
    "nrow(df4[(df4$p_value.bulk < 0.05),])"
   ]
  },
  {
   "cell_type": "code",
   "execution_count": 37,
   "metadata": {},
   "outputs": [
    {
     "name": "stderr",
     "output_type": "stream",
     "text": [
      "Warning message:\n",
      "“Column `snp_id` joining factors with different levels, coercing to character vector”Warning message:\n",
      "“Column `feature_id` joining factors with different levels, coercing to character vector”"
     ]
    },
    {
     "data": {
      "text/html": [
       "1301"
      ],
      "text/latex": [
       "1301"
      ],
      "text/markdown": [
       "1301"
      ],
      "text/plain": [
       "[1] 1301"
      ]
     },
     "metadata": {},
     "output_type": "display_data"
    },
    {
     "data": {
      "text/html": [
       "1059"
      ],
      "text/latex": [
       "1059"
      ],
      "text/markdown": [
       "1059"
      ],
      "text/plain": [
       "[1] 1059"
      ]
     },
     "metadata": {},
     "output_type": "display_data"
    },
    {
     "data": {
      "text/html": [
       "1135"
      ],
      "text/latex": [
       "1135"
      ],
      "text/markdown": [
       "1135"
      ],
      "text/plain": [
       "[1] 1135"
      ]
     },
     "metadata": {},
     "output_type": "display_data"
    }
   ],
   "source": [
    "df5 = inner_join(df3, res_all, by = c(\"snp_id\",\"feature_id\"), suffix = c(\".sc\",\".bulk\"))\n",
    "df5 <- df5[-which(duplicated(df5$feature_id)),]\n",
    "nrow(df5)\n",
    "\n",
    "nrow(df5[(df5$p_value.bulk < 0.05 & \n",
    "         (df5$beta.sc*df5$beta.bulk)>0),])\n",
    "nrow(df5[(df5$p_value.bulk < 0.05),])"
   ]
  },
  {
   "cell_type": "code",
   "execution_count": null,
   "metadata": {},
   "outputs": [],
   "source": []
  },
  {
   "cell_type": "code",
   "execution_count": null,
   "metadata": {},
   "outputs": [],
   "source": []
  },
  {
   "cell_type": "code",
   "execution_count": null,
   "metadata": {},
   "outputs": [],
   "source": []
  },
  {
   "cell_type": "code",
   "execution_count": 38,
   "metadata": {},
   "outputs": [],
   "source": [
    "##### Median"
   ]
  },
  {
   "cell_type": "code",
   "execution_count": 38,
   "metadata": {},
   "outputs": [],
   "source": [
    "median_folder = \"/hps/nobackup/hipsci/scratch/ComparingQtlMapping/SingleCell/PseudoBulk/median/\""
   ]
  },
  {
   "cell_type": "code",
   "execution_count": 39,
   "metadata": {},
   "outputs": [],
   "source": [
    "my_folder = paste0(median_folder,\"Run_Output_PCA20_88_log_TPM_scater_libsize_206/\") # scran, 20PCs"
   ]
  },
  {
   "cell_type": "code",
   "execution_count": 40,
   "metadata": {},
   "outputs": [],
   "source": [
    "# df = read.csv(paste0(my_folder,\"qtl_results_all.txt\"), sep = \"\\t\")\n",
    "# df <- df[order(df$empirical_feature_p_value, df$p_value ),]\n",
    "# df0 <- df[-which(duplicated(df$feature_id)),]\n",
    "# # nrow(df0)"
   ]
  },
  {
   "cell_type": "code",
   "execution_count": 41,
   "metadata": {},
   "outputs": [
    {
     "data": {
      "text/html": [
       "13628"
      ],
      "text/latex": [
       "13628"
      ],
      "text/markdown": [
       "13628"
      ],
      "text/plain": [
       "[1] 13628"
      ]
     },
     "metadata": {},
     "output_type": "display_data"
    }
   ],
   "source": [
    "df0 = read.csv(paste0(my_folder,\"top_qtl_results_all.txt\"), sep = \"\\t\")\n",
    "median_genes = unique(df0$feature_id)\n",
    "length(median_genes)"
   ]
  },
  {
   "cell_type": "code",
   "execution_count": 42,
   "metadata": {},
   "outputs": [
    {
     "data": {
      "text/html": [
       "13628"
      ],
      "text/latex": [
       "13628"
      ],
      "text/markdown": [
       "13628"
      ],
      "text/plain": [
       "[1] 13628"
      ]
     },
     "metadata": {},
     "output_type": "display_data"
    },
    {
     "data": {
      "text/html": [
       "12720"
      ],
      "text/latex": [
       "12720"
      ],
      "text/markdown": [
       "12720"
      ],
      "text/plain": [
       "[1] 12720"
      ]
     },
     "metadata": {},
     "output_type": "display_data"
    },
    {
     "data": {
      "text/html": [
       "1337"
      ],
      "text/latex": [
       "1337"
      ],
      "text/markdown": [
       "1337"
      ],
      "text/plain": [
       "[1] 1337"
      ]
     },
     "metadata": {},
     "output_type": "display_data"
    },
    {
     "data": {
      "text/html": [
       "1340"
      ],
      "text/latex": [
       "1340"
      ],
      "text/markdown": [
       "1340"
      ],
      "text/plain": [
       "[1] 1340"
      ]
     },
     "metadata": {},
     "output_type": "display_data"
    },
    {
     "name": "stderr",
     "output_type": "stream",
     "text": [
      "Warning message:\n",
      "“Column `snp_id` joining factors with different levels, coercing to character vector”Warning message:\n",
      "“Column `feature_id` joining factors with different levels, coercing to character vector”"
     ]
    },
    {
     "data": {
      "text/html": [
       "1337"
      ],
      "text/latex": [
       "1337"
      ],
      "text/markdown": [
       "1337"
      ],
      "text/plain": [
       "[1] 1337"
      ]
     },
     "metadata": {},
     "output_type": "display_data"
    },
    {
     "data": {
      "text/html": [
       "844"
      ],
      "text/latex": [
       "844"
      ],
      "text/markdown": [
       "844"
      ],
      "text/plain": [
       "[1] 844"
      ]
     },
     "metadata": {},
     "output_type": "display_data"
    },
    {
     "data": {
      "text/html": [
       "887"
      ],
      "text/latex": [
       "887"
      ],
      "text/markdown": [
       "887"
      ],
      "text/plain": [
       "[1] 887"
      ]
     },
     "metadata": {},
     "output_type": "display_data"
    },
    {
     "name": "stderr",
     "output_type": "stream",
     "text": [
      "Warning message:\n",
      "“Column `snp_id` joining factors with different levels, coercing to character vector”Warning message:\n",
      "“Column `feature_id` joining factors with different levels, coercing to character vector”"
     ]
    },
    {
     "data": {
      "text/html": [
       "1333"
      ],
      "text/latex": [
       "1333"
      ],
      "text/markdown": [
       "1333"
      ],
      "text/plain": [
       "[1] 1333"
      ]
     },
     "metadata": {},
     "output_type": "display_data"
    },
    {
     "data": {
      "text/html": [
       "972"
      ],
      "text/latex": [
       "972"
      ],
      "text/markdown": [
       "972"
      ],
      "text/plain": [
       "[1] 972"
      ]
     },
     "metadata": {},
     "output_type": "display_data"
    },
    {
     "data": {
      "text/html": [
       "1060"
      ],
      "text/latex": [
       "1060"
      ],
      "text/markdown": [
       "1060"
      ],
      "text/plain": [
       "[1] 1060"
      ]
     },
     "metadata": {},
     "output_type": "display_data"
    }
   ],
   "source": [
    "length(unique(df0$feature_id))\n",
    "# df1 = df0[df0$feature_id %in% G_file$gene,]\n",
    "df1 = df0[df0$feature_id %in% common_genes,]\n",
    "length(unique(df1$feature_id))\n",
    "df1$q_value = qvalue(df1$empirical_feature_p_value)$qvalues\n",
    "length(unique(df1[df1$q_value < 0.05,'feature_id']))\n",
    "\n",
    "df3 = df1[df1$q_value < 0.05,]\n",
    "nrow(df3)\n",
    "\n",
    "df4 = inner_join(df3, res, by = c(\"snp_id\",\"feature_id\"), suffix = c(\".sc\",\".bulk\"))\n",
    "df4 <- df4[-which(duplicated(df4$feature_id)),]\n",
    "nrow(df4)\n",
    "\n",
    "nrow(df4[(df4$p_value.bulk < 0.05 & \n",
    "         (df4$beta.sc*df4$beta.bulk)>0),])\n",
    "nrow(df4[(df4$p_value.bulk < 0.05),])\n",
    "\n",
    "df5 = inner_join(df3, res_all, by = c(\"snp_id\",\"feature_id\"), suffix = c(\".sc\",\".bulk\"))\n",
    "df5 <- df5[-which(duplicated(df5$feature_id)),]\n",
    "nrow(df5)\n",
    "\n",
    "nrow(df5[(df5$p_value.bulk < 0.05 & \n",
    "         (df5$beta.sc*df5$beta.bulk)>0),])\n",
    "nrow(df5[(df5$p_value.bulk < 0.05),])"
   ]
  },
  {
   "cell_type": "code",
   "execution_count": null,
   "metadata": {},
   "outputs": [],
   "source": [
    "#### Total Median"
   ]
  },
  {
   "cell_type": "code",
   "execution_count": 43,
   "metadata": {},
   "outputs": [],
   "source": [
    "totmedian_folder = \"/hps/nobackup/hipsci/scratch/ComparingQtlMapping/SingleCell/PseudoBulk/totmedian/\""
   ]
  },
  {
   "cell_type": "code",
   "execution_count": 44,
   "metadata": {},
   "outputs": [],
   "source": [
    "myfolder = paste0(totmedian_folder,\"Run_Output_PCA20_88_log_TPM_scater_libsize_206/\") # scran, 20PCs"
   ]
  },
  {
   "cell_type": "code",
   "execution_count": 45,
   "metadata": {},
   "outputs": [],
   "source": [
    "df0 = read.csv(paste0(myfolder,\"top_qtl_results_all.txt\"), sep = \"\\t\")\n",
    "df0 <- df0[-which(duplicated(df0$feature_id)),]"
   ]
  },
  {
   "cell_type": "code",
   "execution_count": 46,
   "metadata": {},
   "outputs": [
    {
     "data": {
      "text/html": [
       "12727"
      ],
      "text/latex": [
       "12727"
      ],
      "text/markdown": [
       "12727"
      ],
      "text/plain": [
       "[1] 12727"
      ]
     },
     "metadata": {},
     "output_type": "display_data"
    },
    {
     "data": {
      "text/html": [
       "12720"
      ],
      "text/latex": [
       "12720"
      ],
      "text/markdown": [
       "12720"
      ],
      "text/plain": [
       "[1] 12720"
      ]
     },
     "metadata": {},
     "output_type": "display_data"
    },
    {
     "data": {
      "text/html": [
       "602"
      ],
      "text/latex": [
       "602"
      ],
      "text/markdown": [
       "602"
      ],
      "text/plain": [
       "[1] 602"
      ]
     },
     "metadata": {},
     "output_type": "display_data"
    }
   ],
   "source": [
    "length(unique(df0$feature_id))\n",
    "# df1 = df0[df0$feature_id %in% G_file$gene,]\n",
    "df1 = df0[df0$feature_id %in% common_genes,]\n",
    "length(unique(df1$feature_id))\n",
    "df1$q_value = qvalue(df1$empirical_feature_p_value)$qvalues\n",
    "length(unique(df1[df1$q_value < 0.05,'feature_id']))\n",
    "\n",
    "df3 = df1[df1$q_value < 0.05,]\n",
    "# nrow(df3)"
   ]
  },
  {
   "cell_type": "code",
   "execution_count": 47,
   "metadata": {},
   "outputs": [
    {
     "name": "stderr",
     "output_type": "stream",
     "text": [
      "Warning message:\n",
      "“Column `snp_id` joining factors with different levels, coercing to character vector”Warning message:\n",
      "“Column `feature_id` joining factors with different levels, coercing to character vector”"
     ]
    },
    {
     "data": {
      "text/html": [
       "600"
      ],
      "text/latex": [
       "600"
      ],
      "text/markdown": [
       "600"
      ],
      "text/plain": [
       "[1] 600"
      ]
     },
     "metadata": {},
     "output_type": "display_data"
    },
    {
     "data": {
      "text/html": [
       "437"
      ],
      "text/latex": [
       "437"
      ],
      "text/markdown": [
       "437"
      ],
      "text/plain": [
       "[1] 437"
      ]
     },
     "metadata": {},
     "output_type": "display_data"
    },
    {
     "data": {
      "text/html": [
       "460"
      ],
      "text/latex": [
       "460"
      ],
      "text/markdown": [
       "460"
      ],
      "text/plain": [
       "[1] 460"
      ]
     },
     "metadata": {},
     "output_type": "display_data"
    }
   ],
   "source": [
    "df4 = inner_join(df3, res, by = c(\"snp_id\",\"feature_id\"), suffix = c(\".sc\",\".bulk\"))\n",
    "df4 <- df4[-which(duplicated(df4$feature_id)),]\n",
    "nrow(df4)\n",
    "\n",
    "nrow(df4[(df4$p_value.bulk < 0.05 & \n",
    "         (df4$beta.sc*df4$beta.bulk)>0),])\n",
    "nrow(df4[(df4$p_value.bulk < 0.05),])"
   ]
  },
  {
   "cell_type": "code",
   "execution_count": 48,
   "metadata": {},
   "outputs": [
    {
     "name": "stderr",
     "output_type": "stream",
     "text": [
      "Warning message:\n",
      "“Column `snp_id` joining factors with different levels, coercing to character vector”Warning message:\n",
      "“Column `feature_id` joining factors with different levels, coercing to character vector”"
     ]
    },
    {
     "data": {
      "text/html": [
       "599"
      ],
      "text/latex": [
       "599"
      ],
      "text/markdown": [
       "599"
      ],
      "text/plain": [
       "[1] 599"
      ]
     },
     "metadata": {},
     "output_type": "display_data"
    },
    {
     "data": {
      "text/html": [
       "485"
      ],
      "text/latex": [
       "485"
      ],
      "text/markdown": [
       "485"
      ],
      "text/plain": [
       "[1] 485"
      ]
     },
     "metadata": {},
     "output_type": "display_data"
    },
    {
     "data": {
      "text/html": [
       "539"
      ],
      "text/latex": [
       "539"
      ],
      "text/markdown": [
       "539"
      ],
      "text/plain": [
       "[1] 539"
      ]
     },
     "metadata": {},
     "output_type": "display_data"
    }
   ],
   "source": [
    "df5 = inner_join(df3, res_all, by = c(\"snp_id\",\"feature_id\"), suffix = c(\".sc\",\".bulk\"))\n",
    "df5 <- df5[-which(duplicated(df5$feature_id)),]\n",
    "nrow(df5)\n",
    "\n",
    "nrow(df5[(df5$p_value.bulk < 0.05 & \n",
    "         (df5$beta.sc*df5$beta.bulk)>0),])\n",
    "nrow(df5[(df5$p_value.bulk < 0.05),])"
   ]
  },
  {
   "cell_type": "code",
   "execution_count": null,
   "metadata": {},
   "outputs": [],
   "source": []
  },
  {
   "cell_type": "code",
   "execution_count": null,
   "metadata": {},
   "outputs": [],
   "source": []
  },
  {
   "cell_type": "code",
   "execution_count": 44,
   "metadata": {},
   "outputs": [],
   "source": [
    "##### Sum"
   ]
  },
  {
   "cell_type": "code",
   "execution_count": 59,
   "metadata": {},
   "outputs": [],
   "source": [
    "sum_folder = \"/hps/nobackup/hipsci/scratch/ComparingQtlMapping/SingleCell/PseudoBulk/sum/\""
   ]
  },
  {
   "cell_type": "code",
   "execution_count": 60,
   "metadata": {},
   "outputs": [],
   "source": [
    "my_folder = paste0(sum_folder,\"Run_Output_PCA20_88_log_TPM_edgeR_libsize_206/\") # edgeR, 20PCs"
   ]
  },
  {
   "cell_type": "code",
   "execution_count": 61,
   "metadata": {},
   "outputs": [],
   "source": [
    "df0 = read.csv(paste0(my_folder,\"top_qtl_results_all.txt\"), sep = \"\\t\")\n",
    "df0 <- df0[-which(duplicated(df0$feature_id)),]"
   ]
  },
  {
   "cell_type": "code",
   "execution_count": 62,
   "metadata": {},
   "outputs": [
    {
     "data": {
      "text/html": [
       "50427"
      ],
      "text/latex": [
       "50427"
      ],
      "text/markdown": [
       "50427"
      ],
      "text/plain": [
       "[1] 50427"
      ]
     },
     "metadata": {},
     "output_type": "display_data"
    },
    {
     "data": {
      "text/html": [
       "12720"
      ],
      "text/latex": [
       "12720"
      ],
      "text/markdown": [
       "12720"
      ],
      "text/plain": [
       "[1] 12720"
      ]
     },
     "metadata": {},
     "output_type": "display_data"
    },
    {
     "data": {
      "text/html": [
       "1463"
      ],
      "text/latex": [
       "1463"
      ],
      "text/markdown": [
       "1463"
      ],
      "text/plain": [
       "[1] 1463"
      ]
     },
     "metadata": {},
     "output_type": "display_data"
    },
    {
     "data": {
      "text/html": [
       "1463"
      ],
      "text/latex": [
       "1463"
      ],
      "text/markdown": [
       "1463"
      ],
      "text/plain": [
       "[1] 1463"
      ]
     },
     "metadata": {},
     "output_type": "display_data"
    }
   ],
   "source": [
    "length(unique(df0$feature_id))\n",
    "# df1 = df0[df0$feature_id %in% G_file$gene,]\n",
    "df1 = df0[df0$feature_id %in% common_genes,]\n",
    "length(unique(df1$feature_id))\n",
    "df1$q_value = qvalue(df1$empirical_feature_p_value)$qvalues\n",
    "length(unique(df1[df1$q_value < 0.05,'feature_id']))\n",
    "\n",
    "df3 = df1[df1$q_value < 0.05,]\n",
    "nrow(df3)"
   ]
  },
  {
   "cell_type": "code",
   "execution_count": 63,
   "metadata": {},
   "outputs": [
    {
     "name": "stderr",
     "output_type": "stream",
     "text": [
      "Warning message:\n",
      "“Column `snp_id` joining factors with different levels, coercing to character vector”Warning message:\n",
      "“Column `feature_id` joining factors with different levels, coercing to character vector”"
     ]
    },
    {
     "data": {
      "text/html": [
       "1451"
      ],
      "text/latex": [
       "1451"
      ],
      "text/markdown": [
       "1451"
      ],
      "text/plain": [
       "[1] 1451"
      ]
     },
     "metadata": {},
     "output_type": "display_data"
    },
    {
     "data": {
      "text/html": [
       "1023"
      ],
      "text/latex": [
       "1023"
      ],
      "text/markdown": [
       "1023"
      ],
      "text/plain": [
       "[1] 1023"
      ]
     },
     "metadata": {},
     "output_type": "display_data"
    },
    {
     "data": {
      "text/html": [
       "1063"
      ],
      "text/latex": [
       "1063"
      ],
      "text/markdown": [
       "1063"
      ],
      "text/plain": [
       "[1] 1063"
      ]
     },
     "metadata": {},
     "output_type": "display_data"
    }
   ],
   "source": [
    "df4 = inner_join(df3, res, by = c(\"snp_id\",\"feature_id\"), suffix = c(\".sc\",\".bulk\"))\n",
    "df4 <- df4[-which(duplicated(df4$feature_id)),]\n",
    "nrow(df4)\n",
    "\n",
    "nrow(df4[(df4$p_value.bulk < 0.05 & \n",
    "         (df4$beta.sc*df4$beta.bulk)>0),])\n",
    "nrow(df4[(df4$p_value.bulk < 0.05),])"
   ]
  },
  {
   "cell_type": "code",
   "execution_count": 54,
   "metadata": {},
   "outputs": [
    {
     "name": "stderr",
     "output_type": "stream",
     "text": [
      "Warning message:\n",
      "“Column `snp_id` joining factors with different levels, coercing to character vector”Warning message:\n",
      "“Column `feature_id` joining factors with different levels, coercing to character vector”"
     ]
    },
    {
     "data": {
      "text/html": [
       "1448"
      ],
      "text/latex": [
       "1448"
      ],
      "text/markdown": [
       "1448"
      ],
      "text/plain": [
       "[1] 1448"
      ]
     },
     "metadata": {},
     "output_type": "display_data"
    },
    {
     "data": {
      "text/html": [
       "1177"
      ],
      "text/latex": [
       "1177"
      ],
      "text/markdown": [
       "1177"
      ],
      "text/plain": [
       "[1] 1177"
      ]
     },
     "metadata": {},
     "output_type": "display_data"
    },
    {
     "data": {
      "text/html": [
       "1261"
      ],
      "text/latex": [
       "1261"
      ],
      "text/markdown": [
       "1261"
      ],
      "text/plain": [
       "[1] 1261"
      ]
     },
     "metadata": {},
     "output_type": "display_data"
    }
   ],
   "source": [
    "df5 = inner_join(df3, res_all, by = c(\"snp_id\",\"feature_id\"), suffix = c(\".sc\",\".bulk\"))\n",
    "df5 <- df5[-which(duplicated(df5$feature_id)),]\n",
    "nrow(df5)\n",
    "\n",
    "nrow(df5[(df5$p_value.bulk < 0.05 & \n",
    "         (df5$beta.sc*df5$beta.bulk)>0),])\n",
    "nrow(df5[(df5$p_value.bulk < 0.05),])"
   ]
  },
  {
   "cell_type": "code",
   "execution_count": null,
   "metadata": {},
   "outputs": [],
   "source": []
  },
  {
   "cell_type": "code",
   "execution_count": null,
   "metadata": {},
   "outputs": [],
   "source": []
  },
  {
   "cell_type": "code",
   "execution_count": 236,
   "metadata": {},
   "outputs": [],
   "source": [
    "##### Total Sum"
   ]
  },
  {
   "cell_type": "code",
   "execution_count": 55,
   "metadata": {},
   "outputs": [],
   "source": [
    "total_sum_folder = \"/hps/nobackup/hipsci/scratch/ComparingQtlMapping/SingleCell/PseudoBulk/totsum/\""
   ]
  },
  {
   "cell_type": "code",
   "execution_count": 56,
   "metadata": {},
   "outputs": [],
   "source": [
    "my_folder = paste0(total_sum_folder,\"Run_Output_PCA20_88_log_TPM_edgeR_libsize_206/\") # edgeR, 20PCs"
   ]
  },
  {
   "cell_type": "code",
   "execution_count": 59,
   "metadata": {},
   "outputs": [],
   "source": [
    "df = read.csv(paste0(my_folder,\"qtl_results_all.txt\"), sep = \"\\t\")\n",
    "df <- df[order(df$empirical_feature_p_value, df$p_value ),]\n",
    "df0 <- df[-which(duplicated(df$feature_id)),]\n",
    "# nrow(df0)\n",
    "length(unique(df0$feature_id))"
   ]
  },
  {
   "cell_type": "code",
   "execution_count": null,
   "metadata": {},
   "outputs": [],
   "source": [
    "write.table(df0, \"/hps/nobackup/stegle/users/acuomo/all_scripts/sc_eqtl/top_qtl_results_totsum.txt\")"
   ]
  },
  {
   "cell_type": "code",
   "execution_count": 57,
   "metadata": {},
   "outputs": [
    {
     "data": {
      "text/html": [
       "<table>\n",
       "<thead><tr><th></th><th scope=col>feature_id</th><th scope=col>snp_id</th><th scope=col>p_value</th><th scope=col>beta</th><th scope=col>beta_se</th><th scope=col>empirical_feature_p_value</th><th scope=col>feature_chromosome</th><th scope=col>feature_start</th><th scope=col>feature_end</th><th scope=col>n_samples</th><th scope=col>n_e_samples</th><th scope=col>alpha_param</th><th scope=col>beta_param</th><th scope=col>snp_chromosome</th><th scope=col>snp_position</th><th scope=col>assessed_allele</th><th scope=col>call_rate</th><th scope=col>maf</th><th scope=col>hwe_p</th></tr></thead>\n",
       "<tbody>\n",
       "\t<tr><th scope=row>1955841</th><td>ENSG00000203875</td><td>6_86387888_G_T </td><td>1.514293e-27   </td><td> 1.010238      </td><td>0.09289432     </td><td>6.375394e-24   </td><td> 6             </td><td>86370710       </td><td>86388451       </td><td>87             </td><td>87             </td><td>0.7886659      </td><td>17.12808       </td><td> 6             </td><td>86387888       </td><td>T              </td><td>1              </td><td>0.4655172      </td><td>0.6673797      </td></tr>\n",
       "\t<tr><th scope=row>6927785</th><td>ENSG00000204650</td><td>17_43679121_G_A</td><td>9.296484e-23   </td><td>-1.201981      </td><td>0.12240973     </td><td>2.026242e-20   </td><td>17             </td><td>43697694       </td><td>43725582       </td><td>87             </td><td>87             </td><td>0.7567724      </td><td>29.08926       </td><td>17             </td><td>43679121       </td><td>A              </td><td>1              </td><td>0.2701149      </td><td>0.1020851      </td></tr>\n",
       "</tbody>\n",
       "</table>\n"
      ],
      "text/latex": [
       "\\begin{tabular}{r|lllllllllllllllllll}\n",
       "  & feature\\_id & snp\\_id & p\\_value & beta & beta\\_se & empirical\\_feature\\_p\\_value & feature\\_chromosome & feature\\_start & feature\\_end & n\\_samples & n\\_e\\_samples & alpha\\_param & beta\\_param & snp\\_chromosome & snp\\_position & assessed\\_allele & call\\_rate & maf & hwe\\_p\\\\\n",
       "\\hline\n",
       "\t1955841 & ENSG00000203875       & 6\\_86387888\\_G\\_T  & 1.514293e-27          &  1.010238             & 0.09289432            & 6.375394e-24          &  6                    & 86370710              & 86388451              & 87                    & 87                    & 0.7886659             & 17.12808              &  6                    & 86387888              & T                     & 1                     & 0.4655172             & 0.6673797            \\\\\n",
       "\t6927785 & ENSG00000204650       & 17\\_43679121\\_G\\_A & 9.296484e-23          & -1.201981             & 0.12240973            & 2.026242e-20          & 17                    & 43697694              & 43725582              & 87                    & 87                    & 0.7567724             & 29.08926              & 17                    & 43679121              & A                     & 1                     & 0.2701149             & 0.1020851            \\\\\n",
       "\\end{tabular}\n"
      ],
      "text/markdown": [
       "\n",
       "| <!--/--> | feature_id | snp_id | p_value | beta | beta_se | empirical_feature_p_value | feature_chromosome | feature_start | feature_end | n_samples | n_e_samples | alpha_param | beta_param | snp_chromosome | snp_position | assessed_allele | call_rate | maf | hwe_p |\n",
       "|---|---|---|---|---|---|---|---|---|---|---|---|---|---|---|---|---|---|---|---|\n",
       "| 1955841 | ENSG00000203875 | 6_86387888_G_T  | 1.514293e-27    |  1.010238       | 0.09289432      | 6.375394e-24    |  6              | 86370710        | 86388451        | 87              | 87              | 0.7886659       | 17.12808        |  6              | 86387888        | T               | 1               | 0.4655172       | 0.6673797       |\n",
       "| 6927785 | ENSG00000204650 | 17_43679121_G_A | 9.296484e-23    | -1.201981       | 0.12240973      | 2.026242e-20    | 17              | 43697694        | 43725582        | 87              | 87              | 0.7567724       | 29.08926        | 17              | 43679121        | A               | 1               | 0.2701149       | 0.1020851       |\n",
       "\n"
      ],
      "text/plain": [
       "        feature_id      snp_id          p_value      beta      beta_se   \n",
       "1955841 ENSG00000203875 6_86387888_G_T  1.514293e-27  1.010238 0.09289432\n",
       "6927785 ENSG00000204650 17_43679121_G_A 9.296484e-23 -1.201981 0.12240973\n",
       "        empirical_feature_p_value feature_chromosome feature_start feature_end\n",
       "1955841 6.375394e-24               6                 86370710      86388451   \n",
       "6927785 2.026242e-20              17                 43697694      43725582   \n",
       "        n_samples n_e_samples alpha_param beta_param snp_chromosome\n",
       "1955841 87        87          0.7886659   17.12808    6            \n",
       "6927785 87        87          0.7567724   29.08926   17            \n",
       "        snp_position assessed_allele call_rate maf       hwe_p    \n",
       "1955841 86387888     T               1         0.4655172 0.6673797\n",
       "6927785 43679121     A               1         0.2701149 0.1020851"
      ]
     },
     "metadata": {},
     "output_type": "display_data"
    }
   ],
   "source": [
    "df0 = read.csv(\"/hps/nobackup/stegle/users/acuomo/all_scripts/sc_eqtl/top_qtl_results_totsum.txt\", sep = ' ')\n",
    "head(df0,2)"
   ]
  },
  {
   "cell_type": "code",
   "execution_count": 58,
   "metadata": {},
   "outputs": [
    {
     "data": {
      "text/html": [
       "50429"
      ],
      "text/latex": [
       "50429"
      ],
      "text/markdown": [
       "50429"
      ],
      "text/plain": [
       "[1] 50429"
      ]
     },
     "metadata": {},
     "output_type": "display_data"
    },
    {
     "data": {
      "text/html": [
       "12720"
      ],
      "text/latex": [
       "12720"
      ],
      "text/markdown": [
       "12720"
      ],
      "text/plain": [
       "[1] 12720"
      ]
     },
     "metadata": {},
     "output_type": "display_data"
    },
    {
     "data": {
      "text/html": [
       "1174"
      ],
      "text/latex": [
       "1174"
      ],
      "text/markdown": [
       "1174"
      ],
      "text/plain": [
       "[1] 1174"
      ]
     },
     "metadata": {},
     "output_type": "display_data"
    },
    {
     "data": {
      "text/html": [
       "1174"
      ],
      "text/latex": [
       "1174"
      ],
      "text/markdown": [
       "1174"
      ],
      "text/plain": [
       "[1] 1174"
      ]
     },
     "metadata": {},
     "output_type": "display_data"
    },
    {
     "name": "stderr",
     "output_type": "stream",
     "text": [
      "Warning message:\n",
      "“Column `snp_id` joining factors with different levels, coercing to character vector”Warning message:\n",
      "“Column `feature_id` joining factors with different levels, coercing to character vector”"
     ]
    },
    {
     "data": {
      "text/html": [
       "1174"
      ],
      "text/latex": [
       "1174"
      ],
      "text/markdown": [
       "1174"
      ],
      "text/plain": [
       "[1] 1174"
      ]
     },
     "metadata": {},
     "output_type": "display_data"
    },
    {
     "data": {
      "text/html": [
       "858"
      ],
      "text/latex": [
       "858"
      ],
      "text/markdown": [
       "858"
      ],
      "text/plain": [
       "[1] 858"
      ]
     },
     "metadata": {},
     "output_type": "display_data"
    },
    {
     "data": {
      "text/html": [
       "895"
      ],
      "text/latex": [
       "895"
      ],
      "text/markdown": [
       "895"
      ],
      "text/plain": [
       "[1] 895"
      ]
     },
     "metadata": {},
     "output_type": "display_data"
    },
    {
     "name": "stderr",
     "output_type": "stream",
     "text": [
      "Warning message:\n",
      "“Column `snp_id` joining factors with different levels, coercing to character vector”Warning message:\n",
      "“Column `feature_id` joining factors with different levels, coercing to character vector”"
     ]
    },
    {
     "data": {
      "text/html": [
       "1170"
      ],
      "text/latex": [
       "1170"
      ],
      "text/markdown": [
       "1170"
      ],
      "text/plain": [
       "[1] 1170"
      ]
     },
     "metadata": {},
     "output_type": "display_data"
    },
    {
     "data": {
      "text/html": [
       "959"
      ],
      "text/latex": [
       "959"
      ],
      "text/markdown": [
       "959"
      ],
      "text/plain": [
       "[1] 959"
      ]
     },
     "metadata": {},
     "output_type": "display_data"
    },
    {
     "data": {
      "text/html": [
       "1037"
      ],
      "text/latex": [
       "1037"
      ],
      "text/markdown": [
       "1037"
      ],
      "text/plain": [
       "[1] 1037"
      ]
     },
     "metadata": {},
     "output_type": "display_data"
    }
   ],
   "source": [
    "length(unique(df0$feature_id))\n",
    "# df1 = df0[df0$feature_id %in% G_file$gene,]\n",
    "df1 = df0[df0$feature_id %in% common_genes,]\n",
    "length(unique(df1$feature_id))\n",
    "df1$q_value = qvalue(df1$empirical_feature_p_value)$qvalues\n",
    "length(unique(df1[df1$q_value < 0.05,'feature_id']))\n",
    "\n",
    "df3 = df1[df1$q_value < 0.05,]\n",
    "nrow(df3)\n",
    "\n",
    "df4 = inner_join(df3, res, by = c(\"snp_id\",\"feature_id\"), suffix = c(\".sc\",\".bulk\"))\n",
    "df4 <- df4[-which(duplicated(df4$feature_id)),]\n",
    "nrow(df4)\n",
    "\n",
    "nrow(df4[(df4$p_value.bulk < 0.05 & \n",
    "         (df4$beta.sc*df4$beta.bulk)>0),])\n",
    "nrow(df4[(df4$p_value.bulk < 0.05),])\n",
    "\n",
    "df5 = inner_join(df3, res_all, by = c(\"snp_id\",\"feature_id\"), suffix = c(\".sc\",\".bulk\"))\n",
    "df5 <- df5[-which(duplicated(df5$feature_id)),]\n",
    "nrow(df5)\n",
    "\n",
    "nrow(df5[(df5$p_value.bulk < 0.05 & \n",
    "         (df5$beta.sc*df5$beta.bulk)>0),])\n",
    "nrow(df5[(df5$p_value.bulk < 0.05),])"
   ]
  },
  {
   "cell_type": "code",
   "execution_count": null,
   "metadata": {},
   "outputs": [],
   "source": []
  },
  {
   "cell_type": "code",
   "execution_count": null,
   "metadata": {},
   "outputs": [],
   "source": []
  },
  {
   "cell_type": "code",
   "execution_count": null,
   "metadata": {},
   "outputs": [],
   "source": []
  },
  {
   "cell_type": "code",
   "execution_count": null,
   "metadata": {},
   "outputs": [],
   "source": []
  },
  {
   "cell_type": "code",
   "execution_count": null,
   "metadata": {},
   "outputs": [],
   "source": []
  },
  {
   "cell_type": "code",
   "execution_count": 455,
   "metadata": {},
   "outputs": [],
   "source": [
    "my_folder = paste0(mean_folder,\"Run_Output_PCA20_88_log_TPM_scater_libsize_206/\") # scran, 20PCs\n",
    "my_folder = paste0(mean_folder,\"Run_Output_PCA20_88_log_TPM_scater_libsize_206_baynorm/\") # baynorm, 20PCs"
   ]
  },
  {
   "cell_type": "code",
   "execution_count": 456,
   "metadata": {},
   "outputs": [],
   "source": [
    "df0 = read.csv(paste0(my_folder,\"top_qtl_results_all.txt\"), sep = \"\\t\")\n",
    "df0 <- df0[-which(duplicated(df0$feature_id)),]"
   ]
  },
  {
   "cell_type": "code",
   "execution_count": 457,
   "metadata": {},
   "outputs": [
    {
     "data": {
      "text/html": [
       "48570"
      ],
      "text/latex": [
       "48570"
      ],
      "text/markdown": [
       "48570"
      ],
      "text/plain": [
       "[1] 48570"
      ]
     },
     "metadata": {},
     "output_type": "display_data"
    },
    {
     "data": {
      "text/html": [
       "19876"
      ],
      "text/latex": [
       "19876"
      ],
      "text/markdown": [
       "19876"
      ],
      "text/plain": [
       "[1] 19876"
      ]
     },
     "metadata": {},
     "output_type": "display_data"
    },
    {
     "data": {
      "text/html": [
       "1955"
      ],
      "text/latex": [
       "1955"
      ],
      "text/markdown": [
       "1955"
      ],
      "text/plain": [
       "[1] 1955"
      ]
     },
     "metadata": {},
     "output_type": "display_data"
    },
    {
     "data": {
      "text/html": [
       "10408"
      ],
      "text/latex": [
       "10408"
      ],
      "text/markdown": [
       "10408"
      ],
      "text/plain": [
       "[1] 10408"
      ]
     },
     "metadata": {},
     "output_type": "display_data"
    },
    {
     "data": {
      "text/html": [
       "1346"
      ],
      "text/latex": [
       "1346"
      ],
      "text/markdown": [
       "1346"
      ],
      "text/plain": [
       "[1] 1346"
      ]
     },
     "metadata": {},
     "output_type": "display_data"
    }
   ],
   "source": [
    "df0 = df0[df0$feature_id %in% common_genes,]\n",
    "length(unique(df0$feature_id))\n",
    "df1 = df0[df0$feature_id %in% G_file$gene,]\n",
    "length(unique(df1$feature_id))\n",
    "df1$BH_fdr = p.adjust(df1$empirical_feature_p_value, method = \"BH\")\n",
    "length(unique(df1[df1$BH_fdr < 0.05,'feature_id']))\n",
    "df2 = df0[df0$feature_id %in% A_file$gene,]\n",
    "length(unique(df2$feature_id))\n",
    "df2$BH_fdr = p.adjust(df2$empirical_feature_p_value, method = \"BH\")\n",
    "length(unique(df2[df2$BH_fdr < 0.05,'feature_id']))"
   ]
  },
  {
   "cell_type": "code",
   "execution_count": 326,
   "metadata": {
    "scrolled": true
   },
   "outputs": [
    {
     "data": {
      "text/html": [
       "50429"
      ],
      "text/latex": [
       "50429"
      ],
      "text/markdown": [
       "50429"
      ],
      "text/plain": [
       "[1] 50429"
      ]
     },
     "metadata": {},
     "output_type": "display_data"
    }
   ],
   "source": [
    "# df0 = read.csv(paste0(my_folder,\"top_qtl_results_all.txt\"), sep = \"\\t\")\n",
    "totsum_genes = unique(df0$feature_id)\n",
    "length(totsum_genes)"
   ]
  },
  {
   "cell_type": "code",
   "execution_count": 448,
   "metadata": {},
   "outputs": [
    {
     "data": {
      "text/html": [
       "48579"
      ],
      "text/latex": [
       "48579"
      ],
      "text/markdown": [
       "48579"
      ],
      "text/plain": [
       "[1] 48579"
      ]
     },
     "metadata": {},
     "output_type": "display_data"
    },
    {
     "data": {
      "text/html": [
       "48570"
      ],
      "text/latex": [
       "48570"
      ],
      "text/markdown": [
       "48570"
      ],
      "text/plain": [
       "[1] 48570"
      ]
     },
     "metadata": {},
     "output_type": "display_data"
    },
    {
     "data": {
      "text/html": [
       "48570"
      ],
      "text/latex": [
       "48570"
      ],
      "text/markdown": [
       "48570"
      ],
      "text/plain": [
       "[1] 48570"
      ]
     },
     "metadata": {},
     "output_type": "display_data"
    },
    {
     "data": {
      "text/html": [
       "13177"
      ],
      "text/latex": [
       "13177"
      ],
      "text/markdown": [
       "13177"
      ],
      "text/plain": [
       "[1] 13177"
      ]
     },
     "metadata": {},
     "output_type": "display_data"
    }
   ],
   "source": [
    "genes0 = mean_genes[mean_genes %in% totmean_genes]\n",
    "length(genes0)\n",
    "genes1 = genes0[genes0 %in% sum_genes]\n",
    "length(genes1)\n",
    "genes2 = genes1[genes1 %in% totsum_genes]\n",
    "length(genes2)\n",
    "common_genes = genes2\n",
    "genes3 = genes2[genes2 %in% median_genes]\n",
    "length(genes3)\n",
    "# common_genes = genes3"
   ]
  },
  {
   "cell_type": "code",
   "execution_count": 436,
   "metadata": {},
   "outputs": [
    {
     "data": {
      "text/html": [
       "13177"
      ],
      "text/latex": [
       "13177"
      ],
      "text/markdown": [
       "13177"
      ],
      "text/plain": [
       "[1] 13177"
      ]
     },
     "metadata": {},
     "output_type": "display_data"
    },
    {
     "data": {
      "text/html": [
       "13117"
      ],
      "text/latex": [
       "13117"
      ],
      "text/markdown": [
       "13117"
      ],
      "text/plain": [
       "[1] 13117"
      ]
     },
     "metadata": {},
     "output_type": "display_data"
    },
    {
     "data": {
      "text/html": [
       "9886"
      ],
      "text/latex": [
       "9886"
      ],
      "text/markdown": [
       "9886"
      ],
      "text/plain": [
       "[1] 9886"
      ]
     },
     "metadata": {},
     "output_type": "display_data"
    }
   ],
   "source": [
    "length(common_genes)\n",
    "length(common_genes[common_genes %in% G_file$gene])\n",
    "length(common_genes[common_genes %in% A_file$gene])"
   ]
  },
  {
   "cell_type": "code",
   "execution_count": 426,
   "metadata": {},
   "outputs": [
    {
     "data": {
      "text/html": [
       "48570"
      ],
      "text/latex": [
       "48570"
      ],
      "text/markdown": [
       "48570"
      ],
      "text/plain": [
       "[1] 48570"
      ]
     },
     "metadata": {},
     "output_type": "display_data"
    }
   ],
   "source": [
    "# df0 = read.csv(paste0(my_folder,\"top_qtl_results_all.txt\"), sep = \"\\t\")\n",
    "df0 = df0[df0$feature_id %in% common_genes,]\n",
    "length(unique(df0$feature_id))"
   ]
  },
  {
   "cell_type": "code",
   "execution_count": 427,
   "metadata": {},
   "outputs": [],
   "source": [
    "# df = read.csv(paste0(my_folder,\"qtl_results_all.txt\"), sep = \"\\t\")\n",
    "# df <- df[order(df$empirical_feature_p_value, df$p_value ),]\n",
    "# df0 <- df[-which(duplicated(df$feature_id)),]\n",
    "# nrow(df0)"
   ]
  },
  {
   "cell_type": "code",
   "execution_count": 428,
   "metadata": {},
   "outputs": [],
   "source": [
    "# totsum_genes = df0$feature_id"
   ]
  },
  {
   "cell_type": "code",
   "execution_count": 429,
   "metadata": {},
   "outputs": [],
   "source": [
    "# length(totmean_genes)\n",
    "# length(totmean_genes[totmean_genes %in% common_genes])"
   ]
  },
  {
   "cell_type": "code",
   "execution_count": 430,
   "metadata": {},
   "outputs": [
    {
     "data": {
      "text/html": [
       "19876"
      ],
      "text/latex": [
       "19876"
      ],
      "text/markdown": [
       "19876"
      ],
      "text/plain": [
       "[1] 19876"
      ]
     },
     "metadata": {},
     "output_type": "display_data"
    }
   ],
   "source": [
    "df1 = df0[df0$feature_id %in% G_file$gene,]\n",
    "length(unique(df1$feature_id))"
   ]
  },
  {
   "cell_type": "code",
   "execution_count": 431,
   "metadata": {},
   "outputs": [
    {
     "data": {
      "text/html": [
       "1433"
      ],
      "text/latex": [
       "1433"
      ],
      "text/markdown": [
       "1433"
      ],
      "text/plain": [
       "[1] 1433"
      ]
     },
     "metadata": {},
     "output_type": "display_data"
    }
   ],
   "source": [
    "df1$BH_fdr = p.adjust(df1$empirical_feature_p_value, method = \"BH\")\n",
    "length(unique(df1[df1$BH_fdr < 0.05,'feature_id']))\n",
    "# c(nrow(df1[df1$BH_fdr < 0.05,]), nrow(df1[df1$BH_fdr < 0.05,])/nrow(df1))"
   ]
  },
  {
   "cell_type": "code",
   "execution_count": 432,
   "metadata": {},
   "outputs": [
    {
     "data": {
      "text/html": [
       "10408"
      ],
      "text/latex": [
       "10408"
      ],
      "text/markdown": [
       "10408"
      ],
      "text/plain": [
       "[1] 10408"
      ]
     },
     "metadata": {},
     "output_type": "display_data"
    }
   ],
   "source": [
    "df2 = df0[df0$feature_id %in% A_file$gene,]\n",
    "length(unique(df2$feature_id))"
   ]
  },
  {
   "cell_type": "code",
   "execution_count": 433,
   "metadata": {},
   "outputs": [
    {
     "data": {
      "text/html": [
       "1045"
      ],
      "text/latex": [
       "1045"
      ],
      "text/markdown": [
       "1045"
      ],
      "text/plain": [
       "[1] 1045"
      ]
     },
     "metadata": {},
     "output_type": "display_data"
    }
   ],
   "source": [
    "df2$BH_fdr = p.adjust(df2$empirical_feature_p_value, method = \"BH\")\n",
    "length(unique(df2[df2$BH_fdr < 0.05,'feature_id']))\n",
    "# c(nrow(df2[df2$BH_fdr < 0.05,]), nrow(df2[df2$BH_fdr < 0.05,])/nrow(df2))"
   ]
  },
  {
   "cell_type": "code",
   "execution_count": null,
   "metadata": {},
   "outputs": [],
   "source": []
  },
  {
   "cell_type": "code",
   "execution_count": null,
   "metadata": {},
   "outputs": [],
   "source": []
  }
 ],
 "metadata": {
  "kernelspec": {
   "display_name": "R",
   "language": "R",
   "name": "ir"
  },
  "language_info": {
   "codemirror_mode": "r",
   "file_extension": ".r",
   "mimetype": "text/x-r-source",
   "name": "R",
   "pygments_lexer": "r",
   "version": "3.6.1"
  }
 },
 "nbformat": 4,
 "nbformat_minor": 4
}
