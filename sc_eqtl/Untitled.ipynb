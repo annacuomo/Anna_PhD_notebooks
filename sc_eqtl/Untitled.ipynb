{
 "cells": [
  {
   "cell_type": "code",
   "execution_count": 2,
   "metadata": {},
   "outputs": [
    {
     "name": "stderr",
     "output_type": "stream",
     "text": [
      "Updating HTML index of packages in '.Library'\n",
      "Making 'packages.html' ... done\n"
     ]
    }
   ],
   "source": [
    "install.packages(\"formattable\")"
   ]
  },
  {
   "cell_type": "code",
   "execution_count": 3,
   "metadata": {},
   "outputs": [],
   "source": [
    "library(formattable)"
   ]
  },
  {
   "cell_type": "code",
   "execution_count": 4,
   "metadata": {},
   "outputs": [
    {
     "data": {
      "text/html": [
       "<table>\n",
       "<thead><tr><th></th><th scope=col>egenes</th><th scope=col>replicated</th></tr></thead>\n",
       "<tbody>\n",
       "\t<tr><th scope=row>mean</th><td>10</td><td>8 </td></tr>\n",
       "\t<tr><th scope=row>median</th><td>12</td><td>9 </td></tr>\n",
       "\t<tr><th scope=row>sum</th><td>11</td><td>9 </td></tr>\n",
       "</tbody>\n",
       "</table>\n"
      ],
      "text/latex": [
       "\\begin{tabular}{r|ll}\n",
       "  & egenes & replicated\\\\\n",
       "\\hline\n",
       "\tmean & 10 & 8 \\\\\n",
       "\tmedian & 12 & 9 \\\\\n",
       "\tsum & 11 & 9 \\\\\n",
       "\\end{tabular}\n"
      ],
      "text/markdown": [
       "\n",
       "| <!--/--> | egenes | replicated |\n",
       "|---|---|---|\n",
       "| mean | 10 | 8  |\n",
       "| median | 12 | 9  |\n",
       "| sum | 11 | 9  |\n",
       "\n"
      ],
      "text/plain": [
       "       egenes replicated\n",
       "mean   10     8         \n",
       "median 12     9         \n",
       "sum    11     9         "
      ]
     },
     "metadata": {},
     "output_type": "display_data"
    }
   ],
   "source": [
    "df = data.frame(egenes = c(10,12,11), replicated = c(8,9,9))\n",
    "rownames(df) = c(\"mean\",\"median\",\"sum\")\n",
    "df"
   ]
  },
  {
   "cell_type": "code",
   "execution_count": 8,
   "metadata": {},
   "outputs": [
    {
     "data": {
      "text/html": [
       "<table>\n",
       "<thead><tr><th></th><th scope=col>egenes</th><th scope=col>replicated</th></tr></thead>\n",
       "<tbody>\n",
       "\t<tr><th scope=row>mean</th><td>10</td><td>8 </td></tr>\n",
       "\t<tr><th scope=row>median</th><td>12</td><td>9 </td></tr>\n",
       "\t<tr><th scope=row>sum</th><td>11</td><td>9 </td></tr>\n",
       "</tbody>\n",
       "</table>\n"
      ],
      "text/latex": [
       "\\begin{tabular}{r|ll}\n",
       "  & egenes & replicated\\\\\n",
       "\\hline\n",
       "\tmean & 10 & 8 \\\\\n",
       "\tmedian & 12 & 9 \\\\\n",
       "\tsum & 11 & 9 \\\\\n",
       "\\end{tabular}\n"
      ],
      "text/markdown": [
       "\n",
       "| <!--/--> | egenes | replicated |\n",
       "|---|---|---|\n",
       "| mean | 10 | 8  |\n",
       "| median | 12 | 9  |\n",
       "| sum | 11 | 9  |\n",
       "\n"
      ],
      "text/plain": [
       "       egenes replicated\n",
       "mean   10     8         \n",
       "median 12     9         \n",
       "sum    11     9         "
      ]
     },
     "metadata": {},
     "output_type": "display_data"
    }
   ],
   "source": [
    "formattable(df, list(\n",
    "    egenes = color_tile(\"white\",\"firebrick\"),\n",
    "    replicated = color_tile(\"blue\",\"green\")))"
   ]
  },
  {
   "cell_type": "code",
   "execution_count": null,
   "metadata": {},
   "outputs": [],
   "source": []
  },
  {
   "cell_type": "code",
   "execution_count": null,
   "metadata": {},
   "outputs": [],
   "source": []
  },
  {
   "cell_type": "code",
   "execution_count": 9,
   "metadata": {},
   "outputs": [],
   "source": [
    "df <- data.frame(\n",
    "  id = 1:10,\n",
    "  name = c(\"Bob\", \"Ashley\", \"James\", \"David\", \"Jenny\", \n",
    "    \"Hans\", \"Leo\", \"John\", \"Emily\", \"Lee\"), \n",
    "  age = c(28, 27, 30, 28, 29, 29, 27, 27, 31, 30),\n",
    "  grade = c(\"C\", \"A\", \"A\", \"C\", \"B\", \"B\", \"B\", \"A\", \"C\", \"C\"),\n",
    "  test1_score = c(8.9, 9.5, 9.6, 8.9, 9.1, 9.3, 9.3, 9.9, 8.5, 8.6),\n",
    "  test2_score = c(9.1, 9.1, 9.2, 9.1, 8.9, 8.5, 9.2, 9.3, 9.1, 8.8),\n",
    "  final_score = c(9, 9.3, 9.4, 9, 9, 8.9, 9.25, 9.6, 8.8, 8.7),\n",
    "  registered = c(TRUE, FALSE, TRUE, FALSE, TRUE, TRUE, TRUE, FALSE, FALSE, FALSE),\n",
    "  stringsAsFactors = FALSE)"
   ]
  },
  {
   "cell_type": "code",
   "execution_count": 10,
   "metadata": {},
   "outputs": [
    {
     "data": {
      "text/html": [
       "<table>\n",
       "<thead><tr><th scope=col>id</th><th scope=col>name</th><th scope=col>age</th><th scope=col>grade</th><th scope=col>test1_score</th><th scope=col>test2_score</th><th scope=col>final_score</th><th scope=col>registered</th></tr></thead>\n",
       "<tbody>\n",
       "\t<tr><td> 1    </td><td>Bob   </td><td>28    </td><td>C     </td><td>8.9   </td><td>9.1   </td><td>9.00  </td><td> TRUE </td></tr>\n",
       "\t<tr><td> 2    </td><td>Ashley</td><td>27    </td><td>A     </td><td>9.5   </td><td>9.1   </td><td>9.30  </td><td>FALSE </td></tr>\n",
       "\t<tr><td> 3    </td><td>James </td><td>30    </td><td>A     </td><td>9.6   </td><td>9.2   </td><td>9.40  </td><td> TRUE </td></tr>\n",
       "\t<tr><td> 4    </td><td>David </td><td>28    </td><td>C     </td><td>8.9   </td><td>9.1   </td><td>9.00  </td><td>FALSE </td></tr>\n",
       "\t<tr><td> 5    </td><td>Jenny </td><td>29    </td><td>B     </td><td>9.1   </td><td>8.9   </td><td>9.00  </td><td> TRUE </td></tr>\n",
       "\t<tr><td> 6    </td><td>Hans  </td><td>29    </td><td>B     </td><td>9.3   </td><td>8.5   </td><td>8.90  </td><td> TRUE </td></tr>\n",
       "\t<tr><td> 7    </td><td>Leo   </td><td>27    </td><td>B     </td><td>9.3   </td><td>9.2   </td><td>9.25  </td><td> TRUE </td></tr>\n",
       "\t<tr><td> 8    </td><td>John  </td><td>27    </td><td>A     </td><td>9.9   </td><td>9.3   </td><td>9.60  </td><td>FALSE </td></tr>\n",
       "\t<tr><td> 9    </td><td>Emily </td><td>31    </td><td>C     </td><td>8.5   </td><td>9.1   </td><td>8.80  </td><td>FALSE </td></tr>\n",
       "\t<tr><td>10    </td><td>Lee   </td><td>30    </td><td>C     </td><td>8.6   </td><td>8.8   </td><td>8.70  </td><td>FALSE </td></tr>\n",
       "</tbody>\n",
       "</table>\n"
      ],
      "text/latex": [
       "\\begin{tabular}{r|llllllll}\n",
       " id & name & age & grade & test1\\_score & test2\\_score & final\\_score & registered\\\\\n",
       "\\hline\n",
       "\t  1     & Bob    & 28     & C      & 8.9    & 9.1    & 9.00   &  TRUE \\\\\n",
       "\t  2     & Ashley & 27     & A      & 9.5    & 9.1    & 9.30   & FALSE \\\\\n",
       "\t  3     & James  & 30     & A      & 9.6    & 9.2    & 9.40   &  TRUE \\\\\n",
       "\t  4     & David  & 28     & C      & 8.9    & 9.1    & 9.00   & FALSE \\\\\n",
       "\t  5     & Jenny  & 29     & B      & 9.1    & 8.9    & 9.00   &  TRUE \\\\\n",
       "\t  6     & Hans   & 29     & B      & 9.3    & 8.5    & 8.90   &  TRUE \\\\\n",
       "\t  7     & Leo    & 27     & B      & 9.3    & 9.2    & 9.25   &  TRUE \\\\\n",
       "\t  8     & John   & 27     & A      & 9.9    & 9.3    & 9.60   & FALSE \\\\\n",
       "\t  9     & Emily  & 31     & C      & 8.5    & 9.1    & 8.80   & FALSE \\\\\n",
       "\t 10     & Lee    & 30     & C      & 8.6    & 8.8    & 8.70   & FALSE \\\\\n",
       "\\end{tabular}\n"
      ],
      "text/markdown": [
       "\n",
       "| id | name | age | grade | test1_score | test2_score | final_score | registered |\n",
       "|---|---|---|---|---|---|---|---|\n",
       "|  1     | Bob    | 28     | C      | 8.9    | 9.1    | 9.00   |  TRUE  |\n",
       "|  2     | Ashley | 27     | A      | 9.5    | 9.1    | 9.30   | FALSE  |\n",
       "|  3     | James  | 30     | A      | 9.6    | 9.2    | 9.40   |  TRUE  |\n",
       "|  4     | David  | 28     | C      | 8.9    | 9.1    | 9.00   | FALSE  |\n",
       "|  5     | Jenny  | 29     | B      | 9.1    | 8.9    | 9.00   |  TRUE  |\n",
       "|  6     | Hans   | 29     | B      | 9.3    | 8.5    | 8.90   |  TRUE  |\n",
       "|  7     | Leo    | 27     | B      | 9.3    | 9.2    | 9.25   |  TRUE  |\n",
       "|  8     | John   | 27     | A      | 9.9    | 9.3    | 9.60   | FALSE  |\n",
       "|  9     | Emily  | 31     | C      | 8.5    | 9.1    | 8.80   | FALSE  |\n",
       "| 10     | Lee    | 30     | C      | 8.6    | 8.8    | 8.70   | FALSE  |\n",
       "\n"
      ],
      "text/plain": [
       "   id name   age grade test1_score test2_score final_score registered\n",
       "1   1 Bob    28  C     8.9         9.1         9.00         TRUE     \n",
       "2   2 Ashley 27  A     9.5         9.1         9.30        FALSE     \n",
       "3   3 James  30  A     9.6         9.2         9.40         TRUE     \n",
       "4   4 David  28  C     8.9         9.1         9.00        FALSE     \n",
       "5   5 Jenny  29  B     9.1         8.9         9.00         TRUE     \n",
       "6   6 Hans   29  B     9.3         8.5         8.90         TRUE     \n",
       "7   7 Leo    27  B     9.3         9.2         9.25         TRUE     \n",
       "8   8 John   27  A     9.9         9.3         9.60        FALSE     \n",
       "9   9 Emily  31  C     8.5         9.1         8.80        FALSE     \n",
       "10 10 Lee    30  C     8.6         8.8         8.70        FALSE     "
      ]
     },
     "metadata": {},
     "output_type": "display_data"
    }
   ],
   "source": [
    "formattable(df, list(\n",
    "  age = color_tile(\"white\", \"orange\"),\n",
    "  grade = formatter(\"span\", style = x ~ ifelse(x == \"A\", \n",
    "    style(color = \"green\", font.weight = \"bold\"), NA)),\n",
    "  area(col = c(test1_score, test2_score)) ~ normalize_bar(\"pink\", 0.2),\n",
    "  final_score = formatter(\"span\",\n",
    "    style = x ~ style(color = ifelse(rank(-x) <= 3, \"green\", \"gray\")),\n",
    "    x ~ sprintf(\"%.2f (rank: %02d)\", x, rank(-x))),\n",
    "  registered = formatter(\"span\",\n",
    "    style = x ~ style(color = ifelse(x, \"green\", \"red\")),\n",
    "    x ~ icontext(ifelse(x, \"ok\", \"remove\"), ifelse(x, \"Yes\", \"No\")))\n",
    "))\n"
   ]
  },
  {
   "cell_type": "code",
   "execution_count": null,
   "metadata": {},
   "outputs": [],
   "source": []
  }
 ],
 "metadata": {
  "kernelspec": {
   "display_name": "R",
   "language": "R",
   "name": "ir"
  },
  "language_info": {
   "codemirror_mode": "r",
   "file_extension": ".r",
   "mimetype": "text/x-r-source",
   "name": "R",
   "pygments_lexer": "r",
   "version": "3.6.1"
  }
 },
 "nbformat": 4,
 "nbformat_minor": 4
}
