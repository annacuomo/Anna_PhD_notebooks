{
 "cells": [
  {
   "cell_type": "code",
   "execution_count": 1,
   "metadata": {},
   "outputs": [
    {
     "name": "stderr",
     "output_type": "stream",
     "text": [
      "\n",
      "Attaching package: ‘dplyr’\n",
      "\n",
      "The following objects are masked from ‘package:stats’:\n",
      "\n",
      "    filter, lag\n",
      "\n",
      "The following objects are masked from ‘package:base’:\n",
      "\n",
      "    intersect, setdiff, setequal, union\n",
      "\n"
     ]
    }
   ],
   "source": [
    "library(qvalue)\n",
    "library(dplyr)"
   ]
  },
  {
   "cell_type": "code",
   "execution_count": 2,
   "metadata": {},
   "outputs": [],
   "source": [
    "dir0 = \"/hps/nobackup/hipsci/scratch/ComparingQtlMapping/SingleCell/PseudoBulk/mean/Run_Output_PCA20_88_log_TPM_scater_libsize_206/\""
   ]
  },
  {
   "cell_type": "code",
   "execution_count": 3,
   "metadata": {},
   "outputs": [],
   "source": [
    "dir1 = \"/hps/nobackup/hipsci/scratch/ComparingQtlMapping/SingleCell/PseudoBulk/mean/Run_Output_PCA20_88_log_TPM_scater_libsize_206_noqc/\""
   ]
  },
  {
   "cell_type": "code",
   "execution_count": 37,
   "metadata": {},
   "outputs": [
    {
     "data": {
      "text/html": [
       "<table>\n",
       "<thead><tr><th scope=col>snp_id</th><th scope=col>p_value</th><th scope=col>beta</th><th scope=col>beta_se</th><th scope=col>empirical_feature_p_value</th><th scope=col>feature_chromosome</th><th scope=col>feature_start</th><th scope=col>feature_end</th><th scope=col>n_samples</th><th scope=col>n_e_samples</th><th scope=col>alpha_param</th><th scope=col>beta_param</th><th scope=col>snp_chromosome</th><th scope=col>snp_position</th><th scope=col>assessed_allele</th><th scope=col>call_rate</th><th scope=col>maf</th><th scope=col>hwe_p</th><th scope=col>feature_id</th></tr></thead>\n",
       "<tbody>\n",
       "\t<tr><td>19_45850366_C_T</td><td>0.013371986    </td><td> 0.1850959     </td><td>0.07482535     </td><td>0.3493466      </td><td>19             </td><td>45582546       </td><td>45808541       </td><td>152            </td><td>87             </td><td>0.5727331      </td><td>80.55800       </td><td>19             </td><td>45850366       </td><td>T              </td><td>1              </td><td>0.2758621      </td><td>0.7928074      </td><td>ENSG00000007047</td></tr>\n",
       "\t<tr><td>19_45615556_A_G</td><td>0.008822012    </td><td>-0.2052828     </td><td>0.07838584     </td><td>0.7220340      </td><td>19             </td><td>45666186       </td><td>45681495       </td><td>152            </td><td>87             </td><td>0.4032916      </td><td>55.55858       </td><td>19             </td><td>45615556       </td><td>G              </td><td>1              </td><td>0.1666667      </td><td>0.6965823      </td><td>ENSG00000007255</td></tr>\n",
       "</tbody>\n",
       "</table>\n"
      ],
      "text/latex": [
       "\\begin{tabular}{r|lllllllllllllllllll}\n",
       " snp\\_id & p\\_value & beta & beta\\_se & empirical\\_feature\\_p\\_value & feature\\_chromosome & feature\\_start & feature\\_end & n\\_samples & n\\_e\\_samples & alpha\\_param & beta\\_param & snp\\_chromosome & snp\\_position & assessed\\_allele & call\\_rate & maf & hwe\\_p & feature\\_id\\\\\n",
       "\\hline\n",
       "\t 19\\_45850366\\_C\\_T & 0.013371986           &  0.1850959            & 0.07482535            & 0.3493466             & 19                    & 45582546              & 45808541              & 152                   & 87                    & 0.5727331             & 80.55800              & 19                    & 45850366              & T                     & 1                     & 0.2758621             & 0.7928074             & ENSG00000007047      \\\\\n",
       "\t 19\\_45615556\\_A\\_G & 0.008822012           & -0.2052828            & 0.07838584            & 0.7220340             & 19                    & 45666186              & 45681495              & 152                   & 87                    & 0.4032916             & 55.55858              & 19                    & 45615556              & G                     & 1                     & 0.1666667             & 0.6965823             & ENSG00000007255      \\\\\n",
       "\\end{tabular}\n"
      ],
      "text/markdown": [
       "\n",
       "| snp_id | p_value | beta | beta_se | empirical_feature_p_value | feature_chromosome | feature_start | feature_end | n_samples | n_e_samples | alpha_param | beta_param | snp_chromosome | snp_position | assessed_allele | call_rate | maf | hwe_p | feature_id |\n",
       "|---|---|---|---|---|---|---|---|---|---|---|---|---|---|---|---|---|---|---|\n",
       "| 19_45850366_C_T | 0.013371986     |  0.1850959      | 0.07482535      | 0.3493466       | 19              | 45582546        | 45808541        | 152             | 87              | 0.5727331       | 80.55800        | 19              | 45850366        | T               | 1               | 0.2758621       | 0.7928074       | ENSG00000007047 |\n",
       "| 19_45615556_A_G | 0.008822012     | -0.2052828      | 0.07838584      | 0.7220340       | 19              | 45666186        | 45681495        | 152             | 87              | 0.4032916       | 55.55858        | 19              | 45615556        | G               | 1               | 0.1666667       | 0.6965823       | ENSG00000007255 |\n",
       "\n"
      ],
      "text/plain": [
       "  snp_id          p_value     beta       beta_se    empirical_feature_p_value\n",
       "1 19_45850366_C_T 0.013371986  0.1850959 0.07482535 0.3493466                \n",
       "2 19_45615556_A_G 0.008822012 -0.2052828 0.07838584 0.7220340                \n",
       "  feature_chromosome feature_start feature_end n_samples n_e_samples\n",
       "1 19                 45582546      45808541    152       87         \n",
       "2 19                 45666186      45681495    152       87         \n",
       "  alpha_param beta_param snp_chromosome snp_position assessed_allele call_rate\n",
       "1 0.5727331   80.55800   19             45850366     T               1        \n",
       "2 0.4032916   55.55858   19             45615556     G               1        \n",
       "  maf       hwe_p     feature_id     \n",
       "1 0.2758621 0.7928074 ENSG00000007047\n",
       "2 0.1666667 0.6965823 ENSG00000007255"
      ]
     },
     "metadata": {},
     "output_type": "display_data"
    }
   ],
   "source": [
    "df0 = read.csv(paste0(dir0,\"top_qtl_results_all.txt\"), sep=\"\\t\")\n",
    "head(df0,2)"
   ]
  },
  {
   "cell_type": "code",
   "execution_count": 38,
   "metadata": {},
   "outputs": [
    {
     "data": {
      "text/html": [
       "<table>\n",
       "<thead><tr><th scope=col>snp_id</th><th scope=col>p_value</th><th scope=col>beta</th><th scope=col>beta_se</th><th scope=col>empirical_feature_p_value</th><th scope=col>feature_chromosome</th><th scope=col>feature_start</th><th scope=col>feature_end</th><th scope=col>n_samples</th><th scope=col>n_e_samples</th><th scope=col>alpha_param</th><th scope=col>beta_param</th><th scope=col>snp_chromosome</th><th scope=col>snp_position</th><th scope=col>assessed_allele</th><th scope=col>call_rate</th><th scope=col>maf</th><th scope=col>hwe_p</th><th scope=col>feature_id</th></tr></thead>\n",
       "<tbody>\n",
       "\t<tr><td>19_54628940_G_A</td><td>0.003523956    </td><td>-0.1664813     </td><td>0.05705514     </td><td>0.2471211      </td><td>19             </td><td>54641444       </td><td>54659419       </td><td>178            </td><td>96             </td><td>0.9258666      </td><td>68.59431       </td><td>19             </td><td>54628940       </td><td>A              </td><td>1              </td><td>0.1666667      </td><td>0.7197349      </td><td>ENSG00000088038</td></tr>\n",
       "\t<tr><td>19_54327568_A_T</td><td>0.087497866    </td><td>-0.1845085     </td><td>0.10797887     </td><td>0.9582407      </td><td>19             </td><td>54412589       </td><td>54447195       </td><td>178            </td><td>96             </td><td>0.9203953      </td><td>32.97721       </td><td>19             </td><td>54327568       </td><td>T              </td><td>1              </td><td>0.1770833      </td><td>0.4842584      </td><td>ENSG00000105605</td></tr>\n",
       "</tbody>\n",
       "</table>\n"
      ],
      "text/latex": [
       "\\begin{tabular}{r|lllllllllllllllllll}\n",
       " snp\\_id & p\\_value & beta & beta\\_se & empirical\\_feature\\_p\\_value & feature\\_chromosome & feature\\_start & feature\\_end & n\\_samples & n\\_e\\_samples & alpha\\_param & beta\\_param & snp\\_chromosome & snp\\_position & assessed\\_allele & call\\_rate & maf & hwe\\_p & feature\\_id\\\\\n",
       "\\hline\n",
       "\t 19\\_54628940\\_G\\_A & 0.003523956           & -0.1664813            & 0.05705514            & 0.2471211             & 19                    & 54641444              & 54659419              & 178                   & 96                    & 0.9258666             & 68.59431              & 19                    & 54628940              & A                     & 1                     & 0.1666667             & 0.7197349             & ENSG00000088038      \\\\\n",
       "\t 19\\_54327568\\_A\\_T & 0.087497866           & -0.1845085            & 0.10797887            & 0.9582407             & 19                    & 54412589              & 54447195              & 178                   & 96                    & 0.9203953             & 32.97721              & 19                    & 54327568              & T                     & 1                     & 0.1770833             & 0.4842584             & ENSG00000105605      \\\\\n",
       "\\end{tabular}\n"
      ],
      "text/markdown": [
       "\n",
       "| snp_id | p_value | beta | beta_se | empirical_feature_p_value | feature_chromosome | feature_start | feature_end | n_samples | n_e_samples | alpha_param | beta_param | snp_chromosome | snp_position | assessed_allele | call_rate | maf | hwe_p | feature_id |\n",
       "|---|---|---|---|---|---|---|---|---|---|---|---|---|---|---|---|---|---|---|\n",
       "| 19_54628940_G_A | 0.003523956     | -0.1664813      | 0.05705514      | 0.2471211       | 19              | 54641444        | 54659419        | 178             | 96              | 0.9258666       | 68.59431        | 19              | 54628940        | A               | 1               | 0.1666667       | 0.7197349       | ENSG00000088038 |\n",
       "| 19_54327568_A_T | 0.087497866     | -0.1845085      | 0.10797887      | 0.9582407       | 19              | 54412589        | 54447195        | 178             | 96              | 0.9203953       | 32.97721        | 19              | 54327568        | T               | 1               | 0.1770833       | 0.4842584       | ENSG00000105605 |\n",
       "\n"
      ],
      "text/plain": [
       "  snp_id          p_value     beta       beta_se    empirical_feature_p_value\n",
       "1 19_54628940_G_A 0.003523956 -0.1664813 0.05705514 0.2471211                \n",
       "2 19_54327568_A_T 0.087497866 -0.1845085 0.10797887 0.9582407                \n",
       "  feature_chromosome feature_start feature_end n_samples n_e_samples\n",
       "1 19                 54641444      54659419    178       96         \n",
       "2 19                 54412589      54447195    178       96         \n",
       "  alpha_param beta_param snp_chromosome snp_position assessed_allele call_rate\n",
       "1 0.9258666   68.59431   19             54628940     A               1        \n",
       "2 0.9203953   32.97721   19             54327568     T               1        \n",
       "  maf       hwe_p     feature_id     \n",
       "1 0.1666667 0.7197349 ENSG00000088038\n",
       "2 0.1770833 0.4842584 ENSG00000105605"
      ]
     },
     "metadata": {},
     "output_type": "display_data"
    }
   ],
   "source": [
    "df1 = read.csv(paste0(dir1,\"top_qtl_results_all.txt\"), sep=\"\\t\")\n",
    "head(df1,2)"
   ]
  },
  {
   "cell_type": "code",
   "execution_count": 26,
   "metadata": {},
   "outputs": [
    {
     "data": {
      "text/html": [
       "21592"
      ],
      "text/latex": [
       "21592"
      ],
      "text/markdown": [
       "21592"
      ],
      "text/plain": [
       "[1] 21592"
      ]
     },
     "metadata": {},
     "output_type": "display_data"
    },
    {
     "data": {
      "text/html": [
       "<table>\n",
       "<thead><tr><th></th><th scope=col>gene</th><th scope=col>mean</th><th scope=col>std</th><th scope=col>CV</th><th scope=col>quartile_cv</th></tr></thead>\n",
       "<tbody>\n",
       "\t<tr><th scope=row>2</th><td>ENSG00000227232</td><td>3.1805905      </td><td>3.6232403      </td><td>1.139172       </td><td>2              </td></tr>\n",
       "\t<tr><th scope=row>3</th><td>ENSG00000243485</td><td>0.2003178      </td><td>0.8649483      </td><td>4.317881       </td><td>3              </td></tr>\n",
       "</tbody>\n",
       "</table>\n"
      ],
      "text/latex": [
       "\\begin{tabular}{r|lllll}\n",
       "  & gene & mean & std & CV & quartile\\_cv\\\\\n",
       "\\hline\n",
       "\t2 & ENSG00000227232 & 3.1805905       & 3.6232403       & 1.139172        & 2              \\\\\n",
       "\t3 & ENSG00000243485 & 0.2003178       & 0.8649483       & 4.317881        & 3              \\\\\n",
       "\\end{tabular}\n"
      ],
      "text/markdown": [
       "\n",
       "| <!--/--> | gene | mean | std | CV | quartile_cv |\n",
       "|---|---|---|---|---|---|\n",
       "| 2 | ENSG00000227232 | 3.1805905       | 3.6232403       | 1.139172        | 2               |\n",
       "| 3 | ENSG00000243485 | 0.2003178       | 0.8649483       | 4.317881        | 3               |\n",
       "\n"
      ],
      "text/plain": [
       "  gene            mean      std       CV       quartile_cv\n",
       "2 ENSG00000227232 3.1805905 3.6232403 1.139172 2          \n",
       "3 ENSG00000243485 0.2003178 0.8649483 4.317881 3          "
      ]
     },
     "metadata": {},
     "output_type": "display_data"
    }
   ],
   "source": [
    "Giordanos_selection = \"/hps/nobackup/stegle/users/galvari/data/iPSCs/singleCell/metadata/ensembl_gene/Ensembl_75_Gene_CV_quant5.txt\"\n",
    "G_file = read.csv(Giordanos_selection, sep = \"\\t\")\n",
    "nrow(G_file)\n",
    "head(G_file,2)"
   ]
  },
  {
   "cell_type": "code",
   "execution_count": 27,
   "metadata": {},
   "outputs": [],
   "source": [
    "df0 = df0[df0$feature_id %in% G_file$gene,]\n",
    "df1 = df1[df1$feature_id %in% G_file$gene,]"
   ]
  },
  {
   "cell_type": "code",
   "execution_count": 6,
   "metadata": {},
   "outputs": [
    {
     "data": {
      "text/html": [
       "12720"
      ],
      "text/latex": [
       "12720"
      ],
      "text/markdown": [
       "12720"
      ],
      "text/plain": [
       "[1] 12720"
      ]
     },
     "metadata": {},
     "output_type": "display_data"
    }
   ],
   "source": [
    "df_common_genes = read.csv(\"/hps/nobackup/stegle/users/acuomo/all_scripts/sc_eqtl/common_genes_across_all_aggregation_methods_and_bulk.csv\")\n",
    "common_genes = as.character(df_common_genes$gene)\n",
    "length(common_genes)"
   ]
  },
  {
   "cell_type": "code",
   "execution_count": 7,
   "metadata": {},
   "outputs": [],
   "source": [
    "df0 = df0[df0$feature_id %in% common_genes,]\n",
    "df1 = df1[df1$feature_id %in% common_genes,]"
   ]
  },
  {
   "cell_type": "code",
   "execution_count": 39,
   "metadata": {},
   "outputs": [],
   "source": [
    "df0$q_value = qvalue(df0$empirical_feature_p_value)$qvalues\n",
    "df1$q_value = qvalue(df1$empirical_feature_p_value)$qvalues"
   ]
  },
  {
   "cell_type": "code",
   "execution_count": 9,
   "metadata": {},
   "outputs": [
    {
     "data": {
      "text/html": [
       "<ol class=list-inline>\n",
       "\t<li>1839</li>\n",
       "\t<li>12775</li>\n",
       "\t<li>0.143953033268102</li>\n",
       "</ol>\n"
      ],
      "text/latex": [
       "\\begin{enumerate*}\n",
       "\\item 1839\n",
       "\\item 12775\n",
       "\\item 0.143953033268102\n",
       "\\end{enumerate*}\n"
      ],
      "text/markdown": [
       "1. 1839\n",
       "2. 12775\n",
       "3. 0.143953033268102\n",
       "\n",
       "\n"
      ],
      "text/plain": [
       "[1] 1.83900e+03 1.27750e+04 1.43953e-01"
      ]
     },
     "metadata": {},
     "output_type": "display_data"
    },
    {
     "data": {
      "text/html": [
       "<ol class=list-inline>\n",
       "\t<li>2023</li>\n",
       "\t<li>12774</li>\n",
       "\t<li>0.158368561139815</li>\n",
       "</ol>\n"
      ],
      "text/latex": [
       "\\begin{enumerate*}\n",
       "\\item 2023\n",
       "\\item 12774\n",
       "\\item 0.158368561139815\n",
       "\\end{enumerate*}\n"
      ],
      "text/markdown": [
       "1. 2023\n",
       "2. 12774\n",
       "3. 0.158368561139815\n",
       "\n",
       "\n"
      ],
      "text/plain": [
       "[1] 2.023000e+03 1.277400e+04 1.583686e-01"
      ]
     },
     "metadata": {},
     "output_type": "display_data"
    }
   ],
   "source": [
    "### common genes\n",
    "# n_eGenes, n_genes_tested, % eGenes\n",
    "c(nrow(df0[df0$q_value < 0.05,]),nrow(df0),nrow(df0[df0$q_value < 0.05,])/nrow(df0)) # QC\n",
    "c(nrow(df1[df1$q_value < 0.05,]),nrow(df1),nrow(df1[df1$q_value < 0.05,])/nrow(df1)) # no QC"
   ]
  },
  {
   "cell_type": "code",
   "execution_count": 29,
   "metadata": {},
   "outputs": [
    {
     "data": {
      "text/html": [
       "<ol class=list-inline>\n",
       "\t<li>2084</li>\n",
       "\t<li>20660</li>\n",
       "\t<li>0.100871248789932</li>\n",
       "</ol>\n"
      ],
      "text/latex": [
       "\\begin{enumerate*}\n",
       "\\item 2084\n",
       "\\item 20660\n",
       "\\item 0.100871248789932\n",
       "\\end{enumerate*}\n"
      ],
      "text/markdown": [
       "1. 2084\n",
       "2. 20660\n",
       "3. 0.100871248789932\n",
       "\n",
       "\n"
      ],
      "text/plain": [
       "[1] 2.084000e+03 2.066000e+04 1.008712e-01"
      ]
     },
     "metadata": {},
     "output_type": "display_data"
    },
    {
     "data": {
      "text/html": [
       "<ol class=list-inline>\n",
       "\t<li>2223</li>\n",
       "\t<li>20659</li>\n",
       "\t<li>0.107604433902899</li>\n",
       "</ol>\n"
      ],
      "text/latex": [
       "\\begin{enumerate*}\n",
       "\\item 2223\n",
       "\\item 20659\n",
       "\\item 0.107604433902899\n",
       "\\end{enumerate*}\n"
      ],
      "text/markdown": [
       "1. 2223\n",
       "2. 20659\n",
       "3. 0.107604433902899\n",
       "\n",
       "\n"
      ],
      "text/plain": [
       "[1] 2.223000e+03 2.065900e+04 1.076044e-01"
      ]
     },
     "metadata": {},
     "output_type": "display_data"
    }
   ],
   "source": [
    "### Giordano's selection\n",
    "# n_eGenes, n_genes_tested, % eGenes\n",
    "c(nrow(df0[df0$q_value < 0.05,]),nrow(df0),nrow(df0[df0$q_value < 0.05,])/nrow(df0)) # QC\n",
    "c(nrow(df1[df1$q_value < 0.05,]),nrow(df1),nrow(df1[df1$q_value < 0.05,])/nrow(df1)) # no QC"
   ]
  },
  {
   "cell_type": "code",
   "execution_count": 40,
   "metadata": {},
   "outputs": [
    {
     "data": {
      "text/html": [
       "<ol class=list-inline>\n",
       "\t<li>3532</li>\n",
       "\t<li>50784</li>\n",
       "\t<li>0.0695494643982357</li>\n",
       "</ol>\n"
      ],
      "text/latex": [
       "\\begin{enumerate*}\n",
       "\\item 3532\n",
       "\\item 50784\n",
       "\\item 0.0695494643982357\n",
       "\\end{enumerate*}\n"
      ],
      "text/markdown": [
       "1. 3532\n",
       "2. 50784\n",
       "3. 0.0695494643982357\n",
       "\n",
       "\n"
      ],
      "text/plain": [
       "[1] 3.532000e+03 5.078400e+04 6.954946e-02"
      ]
     },
     "metadata": {},
     "output_type": "display_data"
    },
    {
     "data": {
      "text/html": [
       "<ol class=list-inline>\n",
       "\t<li>4142</li>\n",
       "\t<li>50892</li>\n",
       "\t<li>0.0813880374125599</li>\n",
       "</ol>\n"
      ],
      "text/latex": [
       "\\begin{enumerate*}\n",
       "\\item 4142\n",
       "\\item 50892\n",
       "\\item 0.0813880374125599\n",
       "\\end{enumerate*}\n"
      ],
      "text/markdown": [
       "1. 4142\n",
       "2. 50892\n",
       "3. 0.0813880374125599\n",
       "\n",
       "\n"
      ],
      "text/plain": [
       "[1] 4.142000e+03 5.089200e+04 8.138804e-02"
      ]
     },
     "metadata": {},
     "output_type": "display_data"
    }
   ],
   "source": [
    "### All genes \n",
    "# n_eGenes, n_genes_tested, % eGenes\n",
    "c(nrow(df0[df0$q_value < 0.05,]),nrow(df0),nrow(df0[df0$q_value < 0.05,])/nrow(df0)) # QC\n",
    "c(nrow(df1[df1$q_value < 0.05,]),nrow(df1),nrow(df1[df1$q_value < 0.05,])/nrow(df1)) # no QC"
   ]
  },
  {
   "cell_type": "code",
   "execution_count": 10,
   "metadata": {},
   "outputs": [],
   "source": [
    "##### a-bulk"
   ]
  },
  {
   "cell_type": "code",
   "execution_count": 41,
   "metadata": {},
   "outputs": [],
   "source": [
    "bulk_folder = \"/hps/nobackup/hipsci/scratch/ComparingQtlMapping/Bulk/BulkTotal_PCA20/\"\n",
    "# res_all = read.csv(paste0(bulk_folder,\"qtl_results_all.txt\"), sep = \"\\t\")"
   ]
  },
  {
   "cell_type": "code",
   "execution_count": 42,
   "metadata": {},
   "outputs": [],
   "source": [
    "leads_all = read.csv(paste0(bulk_folder,\"top_qtl_results_all.txt\"), sep = \"\\t\")"
   ]
  },
  {
   "cell_type": "code",
   "execution_count": 43,
   "metadata": {},
   "outputs": [],
   "source": [
    "df2 = leads_all\n",
    "# df2 = df2[df2$feature_id %in% G_file$gene,]\n",
    "# df2 = df2[df2$feature_id %in% common_genes,]\n",
    "df2$q_value = qvalue(df2$empirical_feature_p_value)$qvalues"
   ]
  },
  {
   "cell_type": "code",
   "execution_count": 44,
   "metadata": {},
   "outputs": [
    {
     "data": {
      "text/html": [
       "0.0999896769644405"
      ],
      "text/latex": [
       "0.0999896769644405"
      ],
      "text/markdown": [
       "0.0999896769644405"
      ],
      "text/plain": [
       "[1] 0.09998968"
      ]
     },
     "metadata": {},
     "output_type": "display_data"
    },
    {
     "data": {
      "text/html": [
       "0.0661705934508229"
      ],
      "text/latex": [
       "0.0661705934508229"
      ],
      "text/markdown": [
       "0.0661705934508229"
      ],
      "text/plain": [
       "[1] 0.06617059"
      ]
     },
     "metadata": {},
     "output_type": "display_data"
    }
   ],
   "source": [
    "max_qval = max(df2[df2$q_value < 0.1,'q_value'])\n",
    "max_qval\n",
    "emp_pv_star_all = max(df2[df2$q_value==max_qval, \"empirical_feature_p_value\"])\n",
    "emp_pv_star_all"
   ]
  },
  {
   "cell_type": "code",
   "execution_count": 45,
   "metadata": {},
   "outputs": [],
   "source": [
    "##### m-bulk\n",
    "bulk_matched_folder = \"/hps/nobackup/hipsci/scratch/ComparingQtlMapping/Bulk/BulkDay0Healthy_PCA20_88_206/\"\n",
    "# res = read.csv(paste0(bulk_matched_folder,\"qtl_results_all.txt\"), sep = \"\\t\")"
   ]
  },
  {
   "cell_type": "code",
   "execution_count": 46,
   "metadata": {},
   "outputs": [],
   "source": [
    "leads = read.csv(paste0(bulk_matched_folder,\"top_qtl_results_all.txt\"), sep = \"\\t\")"
   ]
  },
  {
   "cell_type": "code",
   "execution_count": 47,
   "metadata": {},
   "outputs": [],
   "source": [
    "df3 = leads\n",
    "# df3 = df3[df3$feature_id %in% G_file$gene,]\n",
    "# df3 = df3[df3$feature_id %in% common_genes,]\n",
    "df3$q_value = qvalue(df3$empirical_feature_p_value)$qvalues"
   ]
  },
  {
   "cell_type": "code",
   "execution_count": 48,
   "metadata": {},
   "outputs": [
    {
     "data": {
      "text/html": [
       "0.0999598194370023"
      ],
      "text/latex": [
       "0.0999598194370023"
      ],
      "text/markdown": [
       "0.0999598194370023"
      ],
      "text/plain": [
       "[1] 0.09995982"
      ]
     },
     "metadata": {},
     "output_type": "display_data"
    },
    {
     "data": {
      "text/html": [
       "0.0131085334515504"
      ],
      "text/latex": [
       "0.0131085334515504"
      ],
      "text/markdown": [
       "0.0131085334515504"
      ],
      "text/plain": [
       "[1] 0.01310853"
      ]
     },
     "metadata": {},
     "output_type": "display_data"
    }
   ],
   "source": [
    "max_qval = max(df3[df3$q_value < 0.1,'q_value'])\n",
    "max_qval\n",
    "emp_pv_star_matched = max(df3[df3$q_value==max_qval,\"empirical_feature_p_value\"])\n",
    "emp_pv_star_matched"
   ]
  },
  {
   "cell_type": "code",
   "execution_count": 49,
   "metadata": {},
   "outputs": [],
   "source": [
    "#### assess replication"
   ]
  },
  {
   "cell_type": "code",
   "execution_count": 50,
   "metadata": {},
   "outputs": [
    {
     "name": "stderr",
     "output_type": "stream",
     "text": [
      "Warning message:\n",
      "“Column `snp_id` joining factors with different levels, coercing to character vector”Warning message:\n",
      "“Column `feature_id` joining factors with different levels, coercing to character vector”"
     ]
    },
    {
     "data": {
      "text/html": [
       "<ol class=list-inline>\n",
       "\t<li>1625</li>\n",
       "\t<li>41681</li>\n",
       "\t<li>0.0389865886135169</li>\n",
       "</ol>\n"
      ],
      "text/latex": [
       "\\begin{enumerate*}\n",
       "\\item 1625\n",
       "\\item 41681\n",
       "\\item 0.0389865886135169\n",
       "\\end{enumerate*}\n"
      ],
      "text/markdown": [
       "1. 1625\n",
       "2. 41681\n",
       "3. 0.0389865886135169\n",
       "\n",
       "\n"
      ],
      "text/plain": [
       "[1] 1.625000e+03 4.168100e+04 3.898659e-02"
      ]
     },
     "metadata": {},
     "output_type": "display_data"
    }
   ],
   "source": [
    "## QC (df0) and m-bulk\n",
    "df4 = inner_join(df0, res, by = c(\"snp_id\",\"feature_id\"), suffix = c(\".sc\",\".bulk\"))\n",
    "df4 <- df4[-which(duplicated(df4$feature_id)),]\n",
    "c(nrow(df4[(df4$empirical_feature_p_value.bulk < emp_pv_star_matched & \n",
    "         (df4$beta.sc*df4$beta.bulk)>0),]),\n",
    "  nrow(df4),\n",
    "  nrow(df4[(df4$empirical_feature_p_value.bulk < emp_pv_star_matched & \n",
    "         (df4$beta.sc*df4$beta.bulk)>0),])/nrow(df4))"
   ]
  },
  {
   "cell_type": "code",
   "execution_count": 51,
   "metadata": {},
   "outputs": [
    {
     "name": "stderr",
     "output_type": "stream",
     "text": [
      "Warning message:\n",
      "“Column `snp_id` joining factors with different levels, coercing to character vector”Warning message:\n",
      "“Column `feature_id` joining factors with different levels, coercing to character vector”"
     ]
    },
    {
     "data": {
      "text/html": [
       "<ol class=list-inline>\n",
       "\t<li>1560</li>\n",
       "\t<li>41252</li>\n",
       "\t<li>0.0378163482982643</li>\n",
       "</ol>\n"
      ],
      "text/latex": [
       "\\begin{enumerate*}\n",
       "\\item 1560\n",
       "\\item 41252\n",
       "\\item 0.0378163482982643\n",
       "\\end{enumerate*}\n"
      ],
      "text/markdown": [
       "1. 1560\n",
       "2. 41252\n",
       "3. 0.0378163482982643\n",
       "\n",
       "\n"
      ],
      "text/plain": [
       "[1] 1.560000e+03 4.125200e+04 3.781635e-02"
      ]
     },
     "metadata": {},
     "output_type": "display_data"
    }
   ],
   "source": [
    "## no QC (df1) and m-bulk\n",
    "df5 = inner_join(df1, res, by = c(\"snp_id\",\"feature_id\"), suffix = c(\".sc\",\".bulk\"))\n",
    "df5 <- df5[-which(duplicated(df5$feature_id)),]\n",
    "c(nrow(df5[(df5$empirical_feature_p_value.bulk < emp_pv_star_matched & \n",
    "         (df5$beta.sc*df5$beta.bulk)>0),]), \n",
    "  nrow(df5),\n",
    "  nrow(df5[(df5$empirical_feature_p_value.bulk < emp_pv_star_matched & \n",
    "         (df5$beta.sc*df5$beta.bulk)>0),])/nrow(df5))"
   ]
  },
  {
   "cell_type": "code",
   "execution_count": 52,
   "metadata": {},
   "outputs": [
    {
     "name": "stderr",
     "output_type": "stream",
     "text": [
      "Warning message:\n",
      "“Column `snp_id` joining factors with different levels, coercing to character vector”Warning message:\n",
      "“Column `feature_id` joining factors with different levels, coercing to character vector”"
     ]
    },
    {
     "data": {
      "text/html": [
       "<ol class=list-inline>\n",
       "\t<li>5327</li>\n",
       "\t<li>47237</li>\n",
       "\t<li>0.112771767893812</li>\n",
       "</ol>\n"
      ],
      "text/latex": [
       "\\begin{enumerate*}\n",
       "\\item 5327\n",
       "\\item 47237\n",
       "\\item 0.112771767893812\n",
       "\\end{enumerate*}\n"
      ],
      "text/markdown": [
       "1. 5327\n",
       "2. 47237\n",
       "3. 0.112771767893812\n",
       "\n",
       "\n"
      ],
      "text/plain": [
       "[1] 5.327000e+03 4.723700e+04 1.127718e-01"
      ]
     },
     "metadata": {},
     "output_type": "display_data"
    }
   ],
   "source": [
    "## QC (df0) and a-bulk\n",
    "df6 = inner_join(df0, res_all, by = c(\"snp_id\",\"feature_id\"), suffix = c(\".sc\",\".bulk\"))\n",
    "df6 <- df6[-which(duplicated(df6$feature_id)),]\n",
    "c(nrow(df6[(df6$empirical_feature_p_value.bulk < emp_pv_star_all & \n",
    "         (df6$beta.sc*df6$beta.bulk)>0),]),\n",
    "  nrow(df6),\n",
    "  nrow(df6[(df6$empirical_feature_p_value.bulk < emp_pv_star_all & \n",
    "         (df6$beta.sc*df6$beta.bulk)>0),])/nrow(df6))"
   ]
  },
  {
   "cell_type": "code",
   "execution_count": 53,
   "metadata": {},
   "outputs": [
    {
     "name": "stderr",
     "output_type": "stream",
     "text": [
      "Warning message:\n",
      "“Column `snp_id` joining factors with different levels, coercing to character vector”Warning message:\n",
      "“Column `feature_id` joining factors with different levels, coercing to character vector”"
     ]
    },
    {
     "data": {
      "text/html": [
       "<ol class=list-inline>\n",
       "\t<li>5228</li>\n",
       "\t<li>46590</li>\n",
       "\t<li>0.112212921227731</li>\n",
       "</ol>\n"
      ],
      "text/latex": [
       "\\begin{enumerate*}\n",
       "\\item 5228\n",
       "\\item 46590\n",
       "\\item 0.112212921227731\n",
       "\\end{enumerate*}\n"
      ],
      "text/markdown": [
       "1. 5228\n",
       "2. 46590\n",
       "3. 0.112212921227731\n",
       "\n",
       "\n"
      ],
      "text/plain": [
       "[1] 5.228000e+03 4.659000e+04 1.122129e-01"
      ]
     },
     "metadata": {},
     "output_type": "display_data"
    }
   ],
   "source": [
    "## no QC (df1) and a-bulk\n",
    "df7 = inner_join(df1, res_all, by = c(\"snp_id\",\"feature_id\"), suffix = c(\".sc\",\".bulk\"))\n",
    "df7 <- df7[-which(duplicated(df7$feature_id)),]\n",
    "c(nrow(df7[(df7$empirical_feature_p_value.bulk < emp_pv_star_all & \n",
    "         (df7$beta.sc*df7$beta.bulk)>0),]),\n",
    "  nrow(df7),\n",
    "  nrow(df7[(df7$empirical_feature_p_value.bulk < emp_pv_star_all & \n",
    "         (df7$beta.sc*df7$beta.bulk)>0),])/nrow(df7))"
   ]
  },
  {
   "cell_type": "code",
   "execution_count": null,
   "metadata": {},
   "outputs": [],
   "source": []
  }
 ],
 "metadata": {
  "kernelspec": {
   "display_name": "R",
   "language": "R",
   "name": "ir"
  },
  "language_info": {
   "codemirror_mode": "r",
   "file_extension": ".r",
   "mimetype": "text/x-r-source",
   "name": "R",
   "pygments_lexer": "r",
   "version": "3.6.1"
  }
 },
 "nbformat": 4,
 "nbformat_minor": 4
}
