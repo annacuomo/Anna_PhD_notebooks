{
 "cells": [
  {
   "cell_type": "code",
   "execution_count": 1,
   "metadata": {},
   "outputs": [
    {
     "name": "stderr",
     "output_type": "stream",
     "text": [
      "\n",
      "Attaching package: ‘dplyr’\n",
      "\n",
      "The following objects are masked from ‘package:stats’:\n",
      "\n",
      "    filter, lag\n",
      "\n",
      "The following objects are masked from ‘package:base’:\n",
      "\n",
      "    intersect, setdiff, setequal, union\n",
      "\n"
     ]
    }
   ],
   "source": [
    "library(qvalue)\n",
    "library(dplyr)\n",
    "library(ggplot2)"
   ]
  },
  {
   "cell_type": "code",
   "execution_count": null,
   "metadata": {},
   "outputs": [],
   "source": []
  },
  {
   "cell_type": "code",
   "execution_count": 1,
   "metadata": {},
   "outputs": [],
   "source": [
    "### All cells"
   ]
  },
  {
   "cell_type": "code",
   "execution_count": 2,
   "metadata": {},
   "outputs": [],
   "source": [
    "myfolder = \"/hps/nobackup/hipsci/scratch/ComparingQtlMapping/SingleCell/scCellOutput_PCA20_88_rep/\""
   ]
  },
  {
   "cell_type": "code",
   "execution_count": 3,
   "metadata": {},
   "outputs": [
    {
     "data": {
      "text/html": [
       "<table>\n",
       "<thead><tr><th scope=col>snp_id</th><th scope=col>p_value</th><th scope=col>beta</th><th scope=col>beta_se</th><th scope=col>empirical_feature_p_value</th><th scope=col>feature_chromosome</th><th scope=col>feature_start</th><th scope=col>feature_end</th><th scope=col>n_samples</th><th scope=col>n_e_samples</th><th scope=col>alpha_param</th><th scope=col>beta_param</th><th scope=col>snp_chromosome</th><th scope=col>snp_position</th><th scope=col>assessed_allele</th><th scope=col>call_rate</th><th scope=col>maf</th><th scope=col>hwe_p</th><th scope=col>feature_id</th></tr></thead>\n",
       "<tbody>\n",
       "\t<tr><td>2_85136614_A_C </td><td>0.0053857477   </td><td>-0.11092610    </td><td>0.039858348    </td><td>0.032141208    </td><td>2              </td><td>85132749       </td><td>85133795       </td><td>7552           </td><td>89             </td><td>270.8121456    </td><td>202.80752      </td><td>2              </td><td>85136614       </td><td>C              </td><td>1              </td><td>0.1011236      </td><td>0.591201674    </td><td>ENSG00000034510</td></tr>\n",
       "\t<tr><td>2_85561843_C_G </td><td>0.0017030083   </td><td> 0.07972131    </td><td>0.025407868    </td><td>0.005634175    </td><td>2              </td><td>85569211       </td><td>85581743       </td><td>7552           </td><td>89             </td><td>  1.6134664    </td><td> 17.48952      </td><td>2              </td><td>85561843       </td><td>G              </td><td>1              </td><td>0.3314607      </td><td>0.337525961    </td><td>ENSG00000042445</td></tr>\n",
       "\t<tr><td>2_85668379_T_C </td><td>0.0046196880   </td><td> 0.10355530    </td><td>0.036560694    </td><td>0.186839814    </td><td>2              </td><td>85621871       </td><td>85645555       </td><td>7552           </td><td>89             </td><td>  0.3065642    </td><td>856.29493      </td><td>2              </td><td>85668379       </td><td>C              </td><td>1              </td><td>0.2808989      </td><td>0.603686292    </td><td>ENSG00000042493</td></tr>\n",
       "\t<tr><td>2_80465130_G_A </td><td>0.0013468304   </td><td>-0.15294647    </td><td>0.047709156    </td><td>0.038179327    </td><td>2              </td><td>79412357       </td><td>80875905       </td><td>7552           </td><td>89             </td><td>184.1751223    </td><td> 37.78579      </td><td>2              </td><td>80465130       </td><td>A              </td><td>1              </td><td>0.1179775      </td><td>1.000000000    </td><td>ENSG00000066032</td></tr>\n",
       "\t<tr><td>2_79253028_G_T </td><td>0.0054167348   </td><td>-0.01224387    </td><td>0.004402454    </td><td>0.773022072    </td><td>2              </td><td>79347488       </td><td>79350545       </td><td>7552           </td><td>89             </td><td>  4.2448912    </td><td> 30.67413      </td><td>2              </td><td>79253028       </td><td>T              </td><td>1              </td><td>0.1910112      </td><td>0.512268150    </td><td>ENSG00000115386</td></tr>\n",
       "\t<tr><td>2_85082545_A_T </td><td>0.0008935882   </td><td> 0.07390391    </td><td>0.022246482    </td><td>0.301572353    </td><td>2              </td><td>84743579       </td><td>85046713       </td><td>7552           </td><td>89             </td><td> 77.9985978    </td><td> 44.47150      </td><td>2              </td><td>85082545       </td><td>T              </td><td>1              </td><td>0.1629213      </td><td>0.009723937    </td><td>ENSG00000115423</td></tr>\n",
       "</tbody>\n",
       "</table>\n"
      ],
      "text/latex": [
       "\\begin{tabular}{r|lllllllllllllllllll}\n",
       " snp\\_id & p\\_value & beta & beta\\_se & empirical\\_feature\\_p\\_value & feature\\_chromosome & feature\\_start & feature\\_end & n\\_samples & n\\_e\\_samples & alpha\\_param & beta\\_param & snp\\_chromosome & snp\\_position & assessed\\_allele & call\\_rate & maf & hwe\\_p & feature\\_id\\\\\n",
       "\\hline\n",
       "\t 2\\_85136614\\_A\\_C & 0.0053857477         & -0.11092610          & 0.039858348          & 0.032141208          & 2                    & 85132749             & 85133795             & 7552                 & 89                   & 270.8121456          & 202.80752            & 2                    & 85136614             & C                    & 1                    & 0.1011236            & 0.591201674          & ENSG00000034510     \\\\\n",
       "\t 2\\_85561843\\_C\\_G & 0.0017030083         &  0.07972131          & 0.025407868          & 0.005634175          & 2                    & 85569211             & 85581743             & 7552                 & 89                   &   1.6134664          &  17.48952            & 2                    & 85561843             & G                    & 1                    & 0.3314607            & 0.337525961          & ENSG00000042445     \\\\\n",
       "\t 2\\_85668379\\_T\\_C & 0.0046196880         &  0.10355530          & 0.036560694          & 0.186839814          & 2                    & 85621871             & 85645555             & 7552                 & 89                   &   0.3065642          & 856.29493            & 2                    & 85668379             & C                    & 1                    & 0.2808989            & 0.603686292          & ENSG00000042493     \\\\\n",
       "\t 2\\_80465130\\_G\\_A & 0.0013468304         & -0.15294647          & 0.047709156          & 0.038179327          & 2                    & 79412357             & 80875905             & 7552                 & 89                   & 184.1751223          &  37.78579            & 2                    & 80465130             & A                    & 1                    & 0.1179775            & 1.000000000          & ENSG00000066032     \\\\\n",
       "\t 2\\_79253028\\_G\\_T & 0.0054167348         & -0.01224387          & 0.004402454          & 0.773022072          & 2                    & 79347488             & 79350545             & 7552                 & 89                   &   4.2448912          &  30.67413            & 2                    & 79253028             & T                    & 1                    & 0.1910112            & 0.512268150          & ENSG00000115386     \\\\\n",
       "\t 2\\_85082545\\_A\\_T & 0.0008935882         &  0.07390391          & 0.022246482          & 0.301572353          & 2                    & 84743579             & 85046713             & 7552                 & 89                   &  77.9985978          &  44.47150            & 2                    & 85082545             & T                    & 1                    & 0.1629213            & 0.009723937          & ENSG00000115423     \\\\\n",
       "\\end{tabular}\n"
      ],
      "text/markdown": [
       "\n",
       "| snp_id | p_value | beta | beta_se | empirical_feature_p_value | feature_chromosome | feature_start | feature_end | n_samples | n_e_samples | alpha_param | beta_param | snp_chromosome | snp_position | assessed_allele | call_rate | maf | hwe_p | feature_id |\n",
       "|---|---|---|---|---|---|---|---|---|---|---|---|---|---|---|---|---|---|---|\n",
       "| 2_85136614_A_C  | 0.0053857477    | -0.11092610     | 0.039858348     | 0.032141208     | 2               | 85132749        | 85133795        | 7552            | 89              | 270.8121456     | 202.80752       | 2               | 85136614        | C               | 1               | 0.1011236       | 0.591201674     | ENSG00000034510 |\n",
       "| 2_85561843_C_G  | 0.0017030083    |  0.07972131     | 0.025407868     | 0.005634175     | 2               | 85569211        | 85581743        | 7552            | 89              |   1.6134664     |  17.48952       | 2               | 85561843        | G               | 1               | 0.3314607       | 0.337525961     | ENSG00000042445 |\n",
       "| 2_85668379_T_C  | 0.0046196880    |  0.10355530     | 0.036560694     | 0.186839814     | 2               | 85621871        | 85645555        | 7552            | 89              |   0.3065642     | 856.29493       | 2               | 85668379        | C               | 1               | 0.2808989       | 0.603686292     | ENSG00000042493 |\n",
       "| 2_80465130_G_A  | 0.0013468304    | -0.15294647     | 0.047709156     | 0.038179327     | 2               | 79412357        | 80875905        | 7552            | 89              | 184.1751223     |  37.78579       | 2               | 80465130        | A               | 1               | 0.1179775       | 1.000000000     | ENSG00000066032 |\n",
       "| 2_79253028_G_T  | 0.0054167348    | -0.01224387     | 0.004402454     | 0.773022072     | 2               | 79347488        | 79350545        | 7552            | 89              |   4.2448912     |  30.67413       | 2               | 79253028        | T               | 1               | 0.1910112       | 0.512268150     | ENSG00000115386 |\n",
       "| 2_85082545_A_T  | 0.0008935882    |  0.07390391     | 0.022246482     | 0.301572353     | 2               | 84743579        | 85046713        | 7552            | 89              |  77.9985978     |  44.47150       | 2               | 85082545        | T               | 1               | 0.1629213       | 0.009723937     | ENSG00000115423 |\n",
       "\n"
      ],
      "text/plain": [
       "  snp_id         p_value      beta        beta_se     empirical_feature_p_value\n",
       "1 2_85136614_A_C 0.0053857477 -0.11092610 0.039858348 0.032141208              \n",
       "2 2_85561843_C_G 0.0017030083  0.07972131 0.025407868 0.005634175              \n",
       "3 2_85668379_T_C 0.0046196880  0.10355530 0.036560694 0.186839814              \n",
       "4 2_80465130_G_A 0.0013468304 -0.15294647 0.047709156 0.038179327              \n",
       "5 2_79253028_G_T 0.0054167348 -0.01224387 0.004402454 0.773022072              \n",
       "6 2_85082545_A_T 0.0008935882  0.07390391 0.022246482 0.301572353              \n",
       "  feature_chromosome feature_start feature_end n_samples n_e_samples\n",
       "1 2                  85132749      85133795    7552      89         \n",
       "2 2                  85569211      85581743    7552      89         \n",
       "3 2                  85621871      85645555    7552      89         \n",
       "4 2                  79412357      80875905    7552      89         \n",
       "5 2                  79347488      79350545    7552      89         \n",
       "6 2                  84743579      85046713    7552      89         \n",
       "  alpha_param beta_param snp_chromosome snp_position assessed_allele call_rate\n",
       "1 270.8121456 202.80752  2              85136614     C               1        \n",
       "2   1.6134664  17.48952  2              85561843     G               1        \n",
       "3   0.3065642 856.29493  2              85668379     C               1        \n",
       "4 184.1751223  37.78579  2              80465130     A               1        \n",
       "5   4.2448912  30.67413  2              79253028     T               1        \n",
       "6  77.9985978  44.47150  2              85082545     T               1        \n",
       "  maf       hwe_p       feature_id     \n",
       "1 0.1011236 0.591201674 ENSG00000034510\n",
       "2 0.3314607 0.337525961 ENSG00000042445\n",
       "3 0.2808989 0.603686292 ENSG00000042493\n",
       "4 0.1179775 1.000000000 ENSG00000066032\n",
       "5 0.1910112 0.512268150 ENSG00000115386\n",
       "6 0.1629213 0.009723937 ENSG00000115423"
      ]
     },
     "metadata": {},
     "output_type": "display_data"
    }
   ],
   "source": [
    "myfile = paste0(myfolder, \"top_qtl_results_all.txt\")\n",
    "df = read.csv(myfile, sep = \"\\t\")\n",
    "head(df)"
   ]
  },
  {
   "cell_type": "code",
   "execution_count": 4,
   "metadata": {},
   "outputs": [
    {
     "data": {
      "text/html": [
       "2766"
      ],
      "text/latex": [
       "2766"
      ],
      "text/markdown": [
       "2766"
      ],
      "text/plain": [
       "[1] 2766"
      ]
     },
     "metadata": {},
     "output_type": "display_data"
    }
   ],
   "source": [
    "length(unique(df$feature_id))"
   ]
  },
  {
   "cell_type": "code",
   "execution_count": 5,
   "metadata": {},
   "outputs": [
    {
     "data": {
      "text/html": [
       "2766"
      ],
      "text/latex": [
       "2766"
      ],
      "text/markdown": [
       "2766"
      ],
      "text/plain": [
       "[1] 2766"
      ]
     },
     "metadata": {},
     "output_type": "display_data"
    },
    {
     "data": {
      "text/html": [
       "1668"
      ],
      "text/latex": [
       "1668"
      ],
      "text/markdown": [
       "1668"
      ],
      "text/plain": [
       "[1] 1668"
      ]
     },
     "metadata": {},
     "output_type": "display_data"
    },
    {
     "data": {
      "text/html": [
       "0.603036876355748"
      ],
      "text/latex": [
       "0.603036876355748"
      ],
      "text/markdown": [
       "0.603036876355748"
      ],
      "text/plain": [
       "[1] 0.6030369"
      ]
     },
     "metadata": {},
     "output_type": "display_data"
    }
   ],
   "source": [
    "df0 <- df[-which(duplicated(df$feature_id)),]\n",
    "df0$q_value = qvalue(df0$empirical_feature_p_value)$qvalues\n",
    "length(unique(df0$feature_id))\n",
    "length(unique(df0[df0$q_value < 0.05,\"feature_id\"]))\n",
    "length(unique(df0[df0$q_value < 0.05,\"feature_id\"]))/length(unique(df0$feature_id))"
   ]
  },
  {
   "cell_type": "code",
   "execution_count": null,
   "metadata": {},
   "outputs": [],
   "source": []
  },
  {
   "cell_type": "code",
   "execution_count": 6,
   "metadata": {},
   "outputs": [],
   "source": [
    "#### 5 cells only"
   ]
  },
  {
   "cell_type": "code",
   "execution_count": 49,
   "metadata": {},
   "outputs": [],
   "source": [
    "myfolder = \"/hps/nobackup/hipsci/scratch/ComparingQtlMapping/SingleCell/scCellOutput_PCA20_88_5cell"
   ]
  },
  {
   "cell_type": "code",
   "execution_count": 50,
   "metadata": {},
   "outputs": [
    {
     "data": {
      "text/html": [
       "<table>\n",
       "<thead><tr><th scope=col>snp_id</th><th scope=col>p_value</th><th scope=col>beta</th><th scope=col>beta_se</th><th scope=col>empirical_feature_p_value</th><th scope=col>feature_chromosome</th><th scope=col>feature_start</th><th scope=col>feature_end</th><th scope=col>n_samples</th><th scope=col>n_e_samples</th><th scope=col>alpha_param</th><th scope=col>beta_param</th><th scope=col>snp_chromosome</th><th scope=col>snp_position</th><th scope=col>assessed_allele</th><th scope=col>call_rate</th><th scope=col>maf</th><th scope=col>hwe_p</th><th scope=col>feature_id</th></tr></thead>\n",
       "<tbody>\n",
       "\t<tr><td>2_85133924_G_C </td><td>0.0912044498   </td><td>-0.07734318    </td><td>0.04579017     </td><td>0.25497204     </td><td>2              </td><td>85132749       </td><td>85133795       </td><td>444            </td><td>89             </td><td> 0.5727684     </td><td> 54.80178      </td><td>2              </td><td>85133924       </td><td>C              </td><td>1              </td><td>0.1123596      </td><td>1.0000000      </td><td>ENSG00000034510</td></tr>\n",
       "\t<tr><td>2_85640673_A_T </td><td>0.0464921604   </td><td> 0.25643040    </td><td>0.12880141     </td><td>0.76962139     </td><td>2              </td><td>85569211       </td><td>85581743       </td><td>444            </td><td>89             </td><td>29.9219463     </td><td>104.53296      </td><td>2              </td><td>85640673       </td><td>T              </td><td>1              </td><td>0.1011236      </td><td>1.0000000      </td><td>ENSG00000042445</td></tr>\n",
       "\t<tr><td>2_85599121_G_A </td><td>0.0117916440   </td><td> 0.18658563    </td><td>0.07409134     </td><td>0.19311765     </td><td>2              </td><td>85621871       </td><td>85645555       </td><td>444            </td><td>89             </td><td> 0.4324621     </td><td> 21.09467      </td><td>2              </td><td>85599121       </td><td>A              </td><td>1              </td><td>0.2471910      </td><td>0.7763645      </td><td>ENSG00000042493</td></tr>\n",
       "\t<tr><td>2_79726421_C_A </td><td>0.0006466478   </td><td> 0.28817060    </td><td>0.08447644     </td><td>0.01211514     </td><td>2              </td><td>79412357       </td><td>80875905       </td><td>444            </td><td>89             </td><td>55.6550857     </td><td> 55.14593      </td><td>2              </td><td>79726421       </td><td>A              </td><td>1              </td><td>0.4831461      </td><td>0.8334347      </td><td>ENSG00000066032</td></tr>\n",
       "\t<tr><td>2_79342547_C_T </td><td>0.0045082113   </td><td> 0.11811351    </td><td>0.04158601     </td><td>0.90318255     </td><td>2              </td><td>79347488       </td><td>79350545       </td><td>444            </td><td>89             </td><td> 0.6771352     </td><td> 56.07553      </td><td>2              </td><td>79342547       </td><td>T              </td><td>1              </td><td>0.1460674      </td><td>0.3848668      </td><td>ENSG00000115386</td></tr>\n",
       "\t<tr><td>2_85065950_G_A </td><td>0.1002136413   </td><td> 0.10184050    </td><td>0.06195361     </td><td>0.71567637     </td><td>2              </td><td>84743579       </td><td>85046713       </td><td>444            </td><td>89             </td><td>10.8428835     </td><td> 13.41637      </td><td>2              </td><td>85065950       </td><td>A              </td><td>1              </td><td>0.1235955      </td><td>1.0000000      </td><td>ENSG00000115423</td></tr>\n",
       "</tbody>\n",
       "</table>\n"
      ],
      "text/latex": [
       "\\begin{tabular}{r|lllllllllllllllllll}\n",
       " snp\\_id & p\\_value & beta & beta\\_se & empirical\\_feature\\_p\\_value & feature\\_chromosome & feature\\_start & feature\\_end & n\\_samples & n\\_e\\_samples & alpha\\_param & beta\\_param & snp\\_chromosome & snp\\_position & assessed\\_allele & call\\_rate & maf & hwe\\_p & feature\\_id\\\\\n",
       "\\hline\n",
       "\t 2\\_85133924\\_G\\_C & 0.0912044498         & -0.07734318          & 0.04579017           & 0.25497204           & 2                    & 85132749             & 85133795             & 444                  & 89                   &  0.5727684           &  54.80178            & 2                    & 85133924             & C                    & 1                    & 0.1123596            & 1.0000000            & ENSG00000034510     \\\\\n",
       "\t 2\\_85640673\\_A\\_T & 0.0464921604         &  0.25643040          & 0.12880141           & 0.76962139           & 2                    & 85569211             & 85581743             & 444                  & 89                   & 29.9219463           & 104.53296            & 2                    & 85640673             & T                    & 1                    & 0.1011236            & 1.0000000            & ENSG00000042445     \\\\\n",
       "\t 2\\_85599121\\_G\\_A & 0.0117916440         &  0.18658563          & 0.07409134           & 0.19311765           & 2                    & 85621871             & 85645555             & 444                  & 89                   &  0.4324621           &  21.09467            & 2                    & 85599121             & A                    & 1                    & 0.2471910            & 0.7763645            & ENSG00000042493     \\\\\n",
       "\t 2\\_79726421\\_C\\_A & 0.0006466478         &  0.28817060          & 0.08447644           & 0.01211514           & 2                    & 79412357             & 80875905             & 444                  & 89                   & 55.6550857           &  55.14593            & 2                    & 79726421             & A                    & 1                    & 0.4831461            & 0.8334347            & ENSG00000066032     \\\\\n",
       "\t 2\\_79342547\\_C\\_T & 0.0045082113         &  0.11811351          & 0.04158601           & 0.90318255           & 2                    & 79347488             & 79350545             & 444                  & 89                   &  0.6771352           &  56.07553            & 2                    & 79342547             & T                    & 1                    & 0.1460674            & 0.3848668            & ENSG00000115386     \\\\\n",
       "\t 2\\_85065950\\_G\\_A & 0.1002136413         &  0.10184050          & 0.06195361           & 0.71567637           & 2                    & 84743579             & 85046713             & 444                  & 89                   & 10.8428835           &  13.41637            & 2                    & 85065950             & A                    & 1                    & 0.1235955            & 1.0000000            & ENSG00000115423     \\\\\n",
       "\\end{tabular}\n"
      ],
      "text/markdown": [
       "\n",
       "| snp_id | p_value | beta | beta_se | empirical_feature_p_value | feature_chromosome | feature_start | feature_end | n_samples | n_e_samples | alpha_param | beta_param | snp_chromosome | snp_position | assessed_allele | call_rate | maf | hwe_p | feature_id |\n",
       "|---|---|---|---|---|---|---|---|---|---|---|---|---|---|---|---|---|---|---|\n",
       "| 2_85133924_G_C  | 0.0912044498    | -0.07734318     | 0.04579017      | 0.25497204      | 2               | 85132749        | 85133795        | 444             | 89              |  0.5727684      |  54.80178       | 2               | 85133924        | C               | 1               | 0.1123596       | 1.0000000       | ENSG00000034510 |\n",
       "| 2_85640673_A_T  | 0.0464921604    |  0.25643040     | 0.12880141      | 0.76962139      | 2               | 85569211        | 85581743        | 444             | 89              | 29.9219463      | 104.53296       | 2               | 85640673        | T               | 1               | 0.1011236       | 1.0000000       | ENSG00000042445 |\n",
       "| 2_85599121_G_A  | 0.0117916440    |  0.18658563     | 0.07409134      | 0.19311765      | 2               | 85621871        | 85645555        | 444             | 89              |  0.4324621      |  21.09467       | 2               | 85599121        | A               | 1               | 0.2471910       | 0.7763645       | ENSG00000042493 |\n",
       "| 2_79726421_C_A  | 0.0006466478    |  0.28817060     | 0.08447644      | 0.01211514      | 2               | 79412357        | 80875905        | 444             | 89              | 55.6550857      |  55.14593       | 2               | 79726421        | A               | 1               | 0.4831461       | 0.8334347       | ENSG00000066032 |\n",
       "| 2_79342547_C_T  | 0.0045082113    |  0.11811351     | 0.04158601      | 0.90318255      | 2               | 79347488        | 79350545        | 444             | 89              |  0.6771352      |  56.07553       | 2               | 79342547        | T               | 1               | 0.1460674       | 0.3848668       | ENSG00000115386 |\n",
       "| 2_85065950_G_A  | 0.1002136413    |  0.10184050     | 0.06195361      | 0.71567637      | 2               | 84743579        | 85046713        | 444             | 89              | 10.8428835      |  13.41637       | 2               | 85065950        | A               | 1               | 0.1235955       | 1.0000000       | ENSG00000115423 |\n",
       "\n"
      ],
      "text/plain": [
       "  snp_id         p_value      beta        beta_se    empirical_feature_p_value\n",
       "1 2_85133924_G_C 0.0912044498 -0.07734318 0.04579017 0.25497204               \n",
       "2 2_85640673_A_T 0.0464921604  0.25643040 0.12880141 0.76962139               \n",
       "3 2_85599121_G_A 0.0117916440  0.18658563 0.07409134 0.19311765               \n",
       "4 2_79726421_C_A 0.0006466478  0.28817060 0.08447644 0.01211514               \n",
       "5 2_79342547_C_T 0.0045082113  0.11811351 0.04158601 0.90318255               \n",
       "6 2_85065950_G_A 0.1002136413  0.10184050 0.06195361 0.71567637               \n",
       "  feature_chromosome feature_start feature_end n_samples n_e_samples\n",
       "1 2                  85132749      85133795    444       89         \n",
       "2 2                  85569211      85581743    444       89         \n",
       "3 2                  85621871      85645555    444       89         \n",
       "4 2                  79412357      80875905    444       89         \n",
       "5 2                  79347488      79350545    444       89         \n",
       "6 2                  84743579      85046713    444       89         \n",
       "  alpha_param beta_param snp_chromosome snp_position assessed_allele call_rate\n",
       "1  0.5727684   54.80178  2              85133924     C               1        \n",
       "2 29.9219463  104.53296  2              85640673     T               1        \n",
       "3  0.4324621   21.09467  2              85599121     A               1        \n",
       "4 55.6550857   55.14593  2              79726421     A               1        \n",
       "5  0.6771352   56.07553  2              79342547     T               1        \n",
       "6 10.8428835   13.41637  2              85065950     A               1        \n",
       "  maf       hwe_p     feature_id     \n",
       "1 0.1123596 1.0000000 ENSG00000034510\n",
       "2 0.1011236 1.0000000 ENSG00000042445\n",
       "3 0.2471910 0.7763645 ENSG00000042493\n",
       "4 0.4831461 0.8334347 ENSG00000066032\n",
       "5 0.1460674 0.3848668 ENSG00000115386\n",
       "6 0.1235955 1.0000000 ENSG00000115423"
      ]
     },
     "metadata": {},
     "output_type": "display_data"
    }
   ],
   "source": [
    "myfile = paste0(myfolder, \"top_qtl_results_all.txt\")\n",
    "df = read.csv(myfile, sep = \"\\t\")\n",
    "head(df)"
   ]
  },
  {
   "cell_type": "code",
   "execution_count": 51,
   "metadata": {},
   "outputs": [
    {
     "data": {
      "text/html": [
       "2718"
      ],
      "text/latex": [
       "2718"
      ],
      "text/markdown": [
       "2718"
      ],
      "text/plain": [
       "[1] 2718"
      ]
     },
     "metadata": {},
     "output_type": "display_data"
    }
   ],
   "source": [
    "length(unique(df$feature_id))"
   ]
  },
  {
   "cell_type": "code",
   "execution_count": 29,
   "metadata": {},
   "outputs": [
    {
     "data": {
      "text/html": [
       "2706"
      ],
      "text/latex": [
       "2706"
      ],
      "text/markdown": [
       "2706"
      ],
      "text/plain": [
       "[1] 2706"
      ]
     },
     "metadata": {},
     "output_type": "display_data"
    },
    {
     "data": {
      "text/html": [
       "840"
      ],
      "text/latex": [
       "840"
      ],
      "text/markdown": [
       "840"
      ],
      "text/plain": [
       "[1] 840"
      ]
     },
     "metadata": {},
     "output_type": "display_data"
    },
    {
     "data": {
      "text/html": [
       "0.310421286031042"
      ],
      "text/latex": [
       "0.310421286031042"
      ],
      "text/markdown": [
       "0.310421286031042"
      ],
      "text/plain": [
       "[1] 0.3104213"
      ]
     },
     "metadata": {},
     "output_type": "display_data"
    }
   ],
   "source": [
    "df1 <- df[-which(duplicated(df$feature_id)),]\n",
    "df1$q_value = qvalue(df1$empirical_feature_p_value)$qvalues\n",
    "length(unique(df1$feature_id))\n",
    "length(unique(df1[df1$q_value < 0.05,\"feature_id\"]))\n",
    "length(unique(df1[df1$q_value < 0.05,\"feature_id\"]))/length(unique(df1$feature_id))"
   ]
  },
  {
   "cell_type": "code",
   "execution_count": null,
   "metadata": {},
   "outputs": [],
   "source": []
  },
  {
   "cell_type": "code",
   "execution_count": 10,
   "metadata": {},
   "outputs": [
    {
     "data": {
      "text/html": [
       "16691457"
      ],
      "text/latex": [
       "16691457"
      ],
      "text/markdown": [
       "16691457"
      ],
      "text/plain": [
       "[1] 16691457"
      ]
     },
     "metadata": {},
     "output_type": "display_data"
    }
   ],
   "source": [
    "bulk_matched_folder = \"/hps/nobackup/hipsci/scratch/ComparingQtlMapping/Bulk/BulkDay0Healthy_PCA20_88_206/\"\n",
    "res = read.csv(paste0(bulk_matched_folder,\"qtl_results_all.txt\"), sep = \"\\t\")\n",
    "nrow(res)"
   ]
  },
  {
   "cell_type": "code",
   "execution_count": 11,
   "metadata": {},
   "outputs": [
    {
     "data": {
      "text/html": [
       "18974762"
      ],
      "text/latex": [
       "18974762"
      ],
      "text/markdown": [
       "18974762"
      ],
      "text/plain": [
       "[1] 18974762"
      ]
     },
     "metadata": {},
     "output_type": "display_data"
    }
   ],
   "source": [
    "bulk_folder = \"/hps/nobackup/hipsci/scratch/ComparingQtlMapping/Bulk/BulkTotal_PCA20/\"\n",
    "res_all = read.csv(paste0(bulk_folder,\"qtl_results_all.txt\"), sep = \"\\t\")\n",
    "nrow(res_all)"
   ]
  },
  {
   "cell_type": "code",
   "execution_count": null,
   "metadata": {},
   "outputs": [],
   "source": []
  },
  {
   "cell_type": "code",
   "execution_count": 30,
   "metadata": {},
   "outputs": [],
   "source": [
    "## all cells\n",
    "df2 = df0[df0$q_value < 0.05,]"
   ]
  },
  {
   "cell_type": "code",
   "execution_count": 31,
   "metadata": {},
   "outputs": [
    {
     "name": "stderr",
     "output_type": "stream",
     "text": [
      "Warning message:\n",
      "“Column `snp_id` joining factors with different levels, coercing to character vector”Warning message:\n",
      "“Column `feature_id` joining factors with different levels, coercing to character vector”"
     ]
    },
    {
     "data": {
      "text/html": [
       "1153"
      ],
      "text/latex": [
       "1153"
      ],
      "text/markdown": [
       "1153"
      ],
      "text/plain": [
       "[1] 1153"
      ]
     },
     "metadata": {},
     "output_type": "display_data"
    },
    {
     "data": {
      "text/html": [
       "<ol class=list-inline>\n",
       "\t<li>153</li>\n",
       "\t<li>0.132697311361665</li>\n",
       "</ol>\n"
      ],
      "text/latex": [
       "\\begin{enumerate*}\n",
       "\\item 153\n",
       "\\item 0.132697311361665\n",
       "\\end{enumerate*}\n"
      ],
      "text/markdown": [
       "1. 153\n",
       "2. 0.132697311361665\n",
       "\n",
       "\n"
      ],
      "text/plain": [
       "[1] 153.0000000   0.1326973"
      ]
     },
     "metadata": {},
     "output_type": "display_data"
    },
    {
     "data": {
      "text/html": [
       "<ol class=list-inline>\n",
       "\t<li>186</li>\n",
       "\t<li>0.16131830008673</li>\n",
       "</ol>\n"
      ],
      "text/latex": [
       "\\begin{enumerate*}\n",
       "\\item 186\n",
       "\\item 0.16131830008673\n",
       "\\end{enumerate*}\n"
      ],
      "text/markdown": [
       "1. 186\n",
       "2. 0.16131830008673\n",
       "\n",
       "\n"
      ],
      "text/plain": [
       "[1] 186.0000000   0.1613183"
      ]
     },
     "metadata": {},
     "output_type": "display_data"
    }
   ],
   "source": [
    "df3 = inner_join(df2, res, by = c(\"snp_id\",\"feature_id\"), suffix = c(\".sc\",\".bulk\"))\n",
    "df3 <- df3[-which(duplicated(df3$feature_id)),]\n",
    "nrow(df3)\n",
    "\n",
    "c(nrow(df3[(df3$p_value.bulk < 0.05 & \n",
    "         (df3$beta.sc*df3$beta.bulk)>0),]),\n",
    "  nrow(df3[(df3$p_value.bulk < 0.05 & \n",
    "         (df3$beta.sc*df3$beta.bulk)>0),])/nrow(df3))\n",
    "  \n",
    "  \n",
    "c(nrow(df3[(df3$p_value.bulk < 0.05),]),\n",
    "    nrow(df3[(df3$p_value.bulk < 0.05),])/nrow(df3))"
   ]
  },
  {
   "cell_type": "code",
   "execution_count": 33,
   "metadata": {},
   "outputs": [
    {
     "name": "stderr",
     "output_type": "stream",
     "text": [
      "Warning message:\n",
      "“Column `snp_id` joining factors with different levels, coercing to character vector”Warning message:\n",
      "“Column `feature_id` joining factors with different levels, coercing to character vector”"
     ]
    },
    {
     "data": {
      "text/html": [
       "1466"
      ],
      "text/latex": [
       "1466"
      ],
      "text/markdown": [
       "1466"
      ],
      "text/plain": [
       "[1] 1466"
      ]
     },
     "metadata": {},
     "output_type": "display_data"
    },
    {
     "data": {
      "text/html": [
       "<ol class=list-inline>\n",
       "\t<li>227</li>\n",
       "\t<li>0.154843110504775</li>\n",
       "</ol>\n"
      ],
      "text/latex": [
       "\\begin{enumerate*}\n",
       "\\item 227\n",
       "\\item 0.154843110504775\n",
       "\\end{enumerate*}\n"
      ],
      "text/markdown": [
       "1. 227\n",
       "2. 0.154843110504775\n",
       "\n",
       "\n"
      ],
      "text/plain": [
       "[1] 227.0000000   0.1548431"
      ]
     },
     "metadata": {},
     "output_type": "display_data"
    },
    {
     "data": {
      "text/html": [
       "<ol class=list-inline>\n",
       "\t<li>276</li>\n",
       "\t<li>0.188267394270123</li>\n",
       "</ol>\n"
      ],
      "text/latex": [
       "\\begin{enumerate*}\n",
       "\\item 276\n",
       "\\item 0.188267394270123\n",
       "\\end{enumerate*}\n"
      ],
      "text/markdown": [
       "1. 276\n",
       "2. 0.188267394270123\n",
       "\n",
       "\n"
      ],
      "text/plain": [
       "[1] 276.0000000   0.1882674"
      ]
     },
     "metadata": {},
     "output_type": "display_data"
    }
   ],
   "source": [
    "df4 = inner_join(df2, res_all, by = c(\"snp_id\",\"feature_id\"), suffix = c(\".sc\",\".bulk\"))\n",
    "df4 <- df4[-which(duplicated(df4$feature_id)),]\n",
    "nrow(df4)\n",
    "\n",
    "c(nrow(df4[(df4$p_value.bulk < 0.05 & \n",
    "         (df4$beta.sc*df4$beta.bulk)>0),]),\n",
    "  nrow(df4[(df4$p_value.bulk < 0.05 & \n",
    "         (df4$beta.sc*df4$beta.bulk)>0),])/nrow(df4))\n",
    "  \n",
    "  \n",
    "c(nrow(df4[(df4$p_value.bulk < 0.05),]),\n",
    "    nrow(df4[(df4$p_value.bulk < 0.05),])/nrow(df4))"
   ]
  },
  {
   "cell_type": "code",
   "execution_count": null,
   "metadata": {},
   "outputs": [],
   "source": []
  },
  {
   "cell_type": "code",
   "execution_count": 52,
   "metadata": {},
   "outputs": [],
   "source": [
    "## 5 cells per donor\n",
    "df2 = df1[df1$q_value < 0.05,]"
   ]
  },
  {
   "cell_type": "code",
   "execution_count": 53,
   "metadata": {},
   "outputs": [
    {
     "name": "stderr",
     "output_type": "stream",
     "text": [
      "Warning message:\n",
      "“Column `snp_id` joining factors with different levels, coercing to character vector”Warning message:\n",
      "“Column `feature_id` joining factors with different levels, coercing to character vector”"
     ]
    },
    {
     "data": {
      "text/html": [
       "665"
      ],
      "text/latex": [
       "665"
      ],
      "text/markdown": [
       "665"
      ],
      "text/plain": [
       "[1] 665"
      ]
     },
     "metadata": {},
     "output_type": "display_data"
    },
    {
     "data": {
      "text/html": [
       "<ol class=list-inline>\n",
       "\t<li>65</li>\n",
       "\t<li>0.0977443609022556</li>\n",
       "</ol>\n"
      ],
      "text/latex": [
       "\\begin{enumerate*}\n",
       "\\item 65\n",
       "\\item 0.0977443609022556\n",
       "\\end{enumerate*}\n"
      ],
      "text/markdown": [
       "1. 65\n",
       "2. 0.0977443609022556\n",
       "\n",
       "\n"
      ],
      "text/plain": [
       "[1] 65.00000000  0.09774436"
      ]
     },
     "metadata": {},
     "output_type": "display_data"
    },
    {
     "data": {
      "text/html": [
       "<ol class=list-inline>\n",
       "\t<li>81</li>\n",
       "\t<li>0.121804511278195</li>\n",
       "</ol>\n"
      ],
      "text/latex": [
       "\\begin{enumerate*}\n",
       "\\item 81\n",
       "\\item 0.121804511278195\n",
       "\\end{enumerate*}\n"
      ],
      "text/markdown": [
       "1. 81\n",
       "2. 0.121804511278195\n",
       "\n",
       "\n"
      ],
      "text/plain": [
       "[1] 81.0000000  0.1218045"
      ]
     },
     "metadata": {},
     "output_type": "display_data"
    }
   ],
   "source": [
    "df3 = inner_join(df2, res, by = c(\"snp_id\",\"feature_id\"), suffix = c(\".sc\",\".bulk\"))\n",
    "df3 <- df3[-which(duplicated(df3$feature_id)),]\n",
    "nrow(df3)\n",
    "\n",
    "c(nrow(df3[(df3$p_value.bulk < 0.05 & \n",
    "         (df3$beta.sc*df3$beta.bulk)>0),]),\n",
    "  nrow(df3[(df3$p_value.bulk < 0.05 & \n",
    "         (df3$beta.sc*df3$beta.bulk)>0),])/nrow(df3))\n",
    "  \n",
    "  \n",
    "c(nrow(df3[(df3$p_value.bulk < 0.05),]),\n",
    "    nrow(df3[(df3$p_value.bulk < 0.05),])/nrow(df3))"
   ]
  },
  {
   "cell_type": "code",
   "execution_count": 54,
   "metadata": {},
   "outputs": [
    {
     "data": {
      "text/html": [
       "<table>\n",
       "<thead><tr><th></th><th scope=col>snp_id</th><th scope=col>p_value.sc</th><th scope=col>beta.sc</th><th scope=col>beta_se.sc</th><th scope=col>empirical_feature_p_value.sc</th><th scope=col>feature_chromosome.sc</th><th scope=col>feature_start.sc</th><th scope=col>feature_end.sc</th><th scope=col>n_samples.sc</th><th scope=col>n_e_samples.sc</th><th scope=col>...</th><th scope=col>n_samples.bulk</th><th scope=col>n_e_samples.bulk</th><th scope=col>alpha_param.bulk</th><th scope=col>beta_param.bulk</th><th scope=col>snp_chromosome.bulk</th><th scope=col>snp_position.bulk</th><th scope=col>assessed_allele.bulk</th><th scope=col>call_rate.bulk</th><th scope=col>maf.bulk</th><th scope=col>hwe_p.bulk</th></tr></thead>\n",
       "<tbody>\n",
       "\t<tr><th scope=row>1</th><td>2_79726421_C_A</td><td>0.0006466478  </td><td>0.28817060    </td><td>0.08447644    </td><td> 1.211514e-02 </td><td>2             </td><td>79412357      </td><td>80875905      </td><td>444           </td><td>89            </td><td>...           </td><td>88            </td><td>88            </td><td>0.7415124     </td><td>14.20844      </td><td>2             </td><td>79726421      </td><td>A             </td><td>1             </td><td>0.4886364     </td><td>0.8309676     </td></tr>\n",
       "\t<tr><th scope=row>2</th><td>2_83036296_T_A</td><td>0.1126565014  </td><td>0.03470774    </td><td>0.02187878    </td><td> 1.696717e-13 </td><td>2             </td><td>83083927      </td><td>83084885      </td><td>444           </td><td>89            </td><td>...           </td><td>88            </td><td>88            </td><td>0.6638122     </td><td>23.32159      </td><td>2             </td><td>83036296      </td><td>A             </td><td>1             </td><td>0.1988636     </td><td>0.3163222     </td></tr>\n",
       "\t<tr><th scope=row>3</th><td>2_85333976_C_T</td><td>0.0030169355  </td><td>0.14663684    </td><td>0.04943914    </td><td> 8.835537e-04 </td><td>2             </td><td>85198216      </td><td>85286595      </td><td>444           </td><td>89            </td><td>...           </td><td>88            </td><td>88            </td><td>0.6948052     </td><td>22.19299      </td><td>2             </td><td>85333976      </td><td>T             </td><td>1             </td><td>0.4715909     </td><td>0.2921289     </td></tr>\n",
       "\t<tr><th scope=row>4</th><td>2_85953126_T_C</td><td>0.0056245217  </td><td>0.06522775    </td><td>0.02355725    </td><td>3.087689e-197 </td><td>2             </td><td>85913176      </td><td>85914170      </td><td>444           </td><td>89            </td><td>...           </td><td>88            </td><td>88            </td><td>0.8927957     </td><td>14.19396      </td><td>2             </td><td>85953126      </td><td>C             </td><td>1             </td><td>0.4375000     </td><td>1.0000000     </td></tr>\n",
       "\t<tr><th scope=row>6</th><td>2_78711839_T_C</td><td>0.1057295128  </td><td>0.04901653    </td><td>0.03030033    </td><td> 2.324581e-62 </td><td>2             </td><td>78639919      </td><td>78640220      </td><td>444           </td><td>89            </td><td>...           </td><td>88            </td><td>88            </td><td>0.6980517     </td><td>21.77635      </td><td>2             </td><td>78711839      </td><td>C             </td><td>1             </td><td>0.1136364     </td><td>1.0000000     </td></tr>\n",
       "\t<tr><th scope=row>7</th><td>2_80325029_G_T</td><td>0.0131144800  </td><td>0.13933826    </td><td>0.05617017    </td><td> 4.562567e-04 </td><td>2             </td><td>80389554      </td><td>80390261      </td><td>444           </td><td>89            </td><td>...           </td><td>88            </td><td>88            </td><td>0.8139526     </td><td>11.16804      </td><td>2             </td><td>80325029      </td><td>T             </td><td>1             </td><td>0.3352273     </td><td>0.6333931     </td></tr>\n",
       "</tbody>\n",
       "</table>\n"
      ],
      "text/latex": [
       "\\begin{tabular}{r|lllllllllllllllllllllllllllllllllllll}\n",
       "  & snp\\_id & p\\_value.sc & beta.sc & beta\\_se.sc & empirical\\_feature\\_p\\_value.sc & feature\\_chromosome.sc & feature\\_start.sc & feature\\_end.sc & n\\_samples.sc & n\\_e\\_samples.sc & ... & n\\_samples.bulk & n\\_e\\_samples.bulk & alpha\\_param.bulk & beta\\_param.bulk & snp\\_chromosome.bulk & snp\\_position.bulk & assessed\\_allele.bulk & call\\_rate.bulk & maf.bulk & hwe\\_p.bulk\\\\\n",
       "\\hline\n",
       "\t1 & 2\\_79726421\\_C\\_A & 0.0006466478         & 0.28817060           & 0.08447644           &  1.211514e-02        & 2                    & 79412357             & 80875905             & 444                  & 89                   & ...                  & 88                   & 88                   & 0.7415124            & 14.20844             & 2                    & 79726421             & A                    & 1                    & 0.4886364            & 0.8309676           \\\\\n",
       "\t2 & 2\\_83036296\\_T\\_A & 0.1126565014         & 0.03470774           & 0.02187878           &  1.696717e-13        & 2                    & 83083927             & 83084885             & 444                  & 89                   & ...                  & 88                   & 88                   & 0.6638122            & 23.32159             & 2                    & 83036296             & A                    & 1                    & 0.1988636            & 0.3163222           \\\\\n",
       "\t3 & 2\\_85333976\\_C\\_T & 0.0030169355         & 0.14663684           & 0.04943914           &  8.835537e-04        & 2                    & 85198216             & 85286595             & 444                  & 89                   & ...                  & 88                   & 88                   & 0.6948052            & 22.19299             & 2                    & 85333976             & T                    & 1                    & 0.4715909            & 0.2921289           \\\\\n",
       "\t4 & 2\\_85953126\\_T\\_C & 0.0056245217         & 0.06522775           & 0.02355725           & 3.087689e-197        & 2                    & 85913176             & 85914170             & 444                  & 89                   & ...                  & 88                   & 88                   & 0.8927957            & 14.19396             & 2                    & 85953126             & C                    & 1                    & 0.4375000            & 1.0000000           \\\\\n",
       "\t6 & 2\\_78711839\\_T\\_C & 0.1057295128         & 0.04901653           & 0.03030033           &  2.324581e-62        & 2                    & 78639919             & 78640220             & 444                  & 89                   & ...                  & 88                   & 88                   & 0.6980517            & 21.77635             & 2                    & 78711839             & C                    & 1                    & 0.1136364            & 1.0000000           \\\\\n",
       "\t7 & 2\\_80325029\\_G\\_T & 0.0131144800         & 0.13933826           & 0.05617017           &  4.562567e-04        & 2                    & 80389554             & 80390261             & 444                  & 89                   & ...                  & 88                   & 88                   & 0.8139526            & 11.16804             & 2                    & 80325029             & T                    & 1                    & 0.3352273            & 0.6333931           \\\\\n",
       "\\end{tabular}\n"
      ],
      "text/markdown": [
       "\n",
       "| <!--/--> | snp_id | p_value.sc | beta.sc | beta_se.sc | empirical_feature_p_value.sc | feature_chromosome.sc | feature_start.sc | feature_end.sc | n_samples.sc | n_e_samples.sc | ... | n_samples.bulk | n_e_samples.bulk | alpha_param.bulk | beta_param.bulk | snp_chromosome.bulk | snp_position.bulk | assessed_allele.bulk | call_rate.bulk | maf.bulk | hwe_p.bulk |\n",
       "|---|---|---|---|---|---|---|---|---|---|---|---|---|---|---|---|---|---|---|---|---|---|\n",
       "| 1 | 2_79726421_C_A | 0.0006466478   | 0.28817060     | 0.08447644     |  1.211514e-02  | 2              | 79412357       | 80875905       | 444            | 89             | ...            | 88             | 88             | 0.7415124      | 14.20844       | 2              | 79726421       | A              | 1              | 0.4886364      | 0.8309676      |\n",
       "| 2 | 2_83036296_T_A | 0.1126565014   | 0.03470774     | 0.02187878     |  1.696717e-13  | 2              | 83083927       | 83084885       | 444            | 89             | ...            | 88             | 88             | 0.6638122      | 23.32159       | 2              | 83036296       | A              | 1              | 0.1988636      | 0.3163222      |\n",
       "| 3 | 2_85333976_C_T | 0.0030169355   | 0.14663684     | 0.04943914     |  8.835537e-04  | 2              | 85198216       | 85286595       | 444            | 89             | ...            | 88             | 88             | 0.6948052      | 22.19299       | 2              | 85333976       | T              | 1              | 0.4715909      | 0.2921289      |\n",
       "| 4 | 2_85953126_T_C | 0.0056245217   | 0.06522775     | 0.02355725     | 3.087689e-197  | 2              | 85913176       | 85914170       | 444            | 89             | ...            | 88             | 88             | 0.8927957      | 14.19396       | 2              | 85953126       | C              | 1              | 0.4375000      | 1.0000000      |\n",
       "| 6 | 2_78711839_T_C | 0.1057295128   | 0.04901653     | 0.03030033     |  2.324581e-62  | 2              | 78639919       | 78640220       | 444            | 89             | ...            | 88             | 88             | 0.6980517      | 21.77635       | 2              | 78711839       | C              | 1              | 0.1136364      | 1.0000000      |\n",
       "| 7 | 2_80325029_G_T | 0.0131144800   | 0.13933826     | 0.05617017     |  4.562567e-04  | 2              | 80389554       | 80390261       | 444            | 89             | ...            | 88             | 88             | 0.8139526      | 11.16804       | 2              | 80325029       | T              | 1              | 0.3352273      | 0.6333931      |\n",
       "\n"
      ],
      "text/plain": [
       "  snp_id         p_value.sc   beta.sc    beta_se.sc\n",
       "1 2_79726421_C_A 0.0006466478 0.28817060 0.08447644\n",
       "2 2_83036296_T_A 0.1126565014 0.03470774 0.02187878\n",
       "3 2_85333976_C_T 0.0030169355 0.14663684 0.04943914\n",
       "4 2_85953126_T_C 0.0056245217 0.06522775 0.02355725\n",
       "6 2_78711839_T_C 0.1057295128 0.04901653 0.03030033\n",
       "7 2_80325029_G_T 0.0131144800 0.13933826 0.05617017\n",
       "  empirical_feature_p_value.sc feature_chromosome.sc feature_start.sc\n",
       "1  1.211514e-02                2                     79412357        \n",
       "2  1.696717e-13                2                     83083927        \n",
       "3  8.835537e-04                2                     85198216        \n",
       "4 3.087689e-197                2                     85913176        \n",
       "6  2.324581e-62                2                     78639919        \n",
       "7  4.562567e-04                2                     80389554        \n",
       "  feature_end.sc n_samples.sc n_e_samples.sc ... n_samples.bulk\n",
       "1 80875905       444          89             ... 88            \n",
       "2 83084885       444          89             ... 88            \n",
       "3 85286595       444          89             ... 88            \n",
       "4 85914170       444          89             ... 88            \n",
       "6 78640220       444          89             ... 88            \n",
       "7 80390261       444          89             ... 88            \n",
       "  n_e_samples.bulk alpha_param.bulk beta_param.bulk snp_chromosome.bulk\n",
       "1 88               0.7415124        14.20844        2                  \n",
       "2 88               0.6638122        23.32159        2                  \n",
       "3 88               0.6948052        22.19299        2                  \n",
       "4 88               0.8927957        14.19396        2                  \n",
       "6 88               0.6980517        21.77635        2                  \n",
       "7 88               0.8139526        11.16804        2                  \n",
       "  snp_position.bulk assessed_allele.bulk call_rate.bulk maf.bulk  hwe_p.bulk\n",
       "1 79726421          A                    1              0.4886364 0.8309676 \n",
       "2 83036296          A                    1              0.1988636 0.3163222 \n",
       "3 85333976          T                    1              0.4715909 0.2921289 \n",
       "4 85953126          C                    1              0.4375000 1.0000000 \n",
       "6 78711839          C                    1              0.1136364 1.0000000 \n",
       "7 80325029          T                    1              0.3352273 0.6333931 "
      ]
     },
     "metadata": {},
     "output_type": "display_data"
    }
   ],
   "source": [
    "head(df3)"
   ]
  },
  {
   "cell_type": "code",
   "execution_count": 56,
   "metadata": {},
   "outputs": [
    {
     "name": "stderr",
     "output_type": "stream",
     "text": [
      "Warning message:\n",
      "“Column `snp_id` joining factors with different levels, coercing to character vector”Warning message:\n",
      "“Column `feature_id` joining factors with different levels, coercing to character vector”"
     ]
    },
    {
     "data": {
      "text/html": [
       "782"
      ],
      "text/latex": [
       "782"
      ],
      "text/markdown": [
       "782"
      ],
      "text/plain": [
       "[1] 782"
      ]
     },
     "metadata": {},
     "output_type": "display_data"
    },
    {
     "data": {
      "text/html": [
       "<ol class=list-inline>\n",
       "\t<li>97</li>\n",
       "\t<li>0.124040920716113</li>\n",
       "</ol>\n"
      ],
      "text/latex": [
       "\\begin{enumerate*}\n",
       "\\item 97\n",
       "\\item 0.124040920716113\n",
       "\\end{enumerate*}\n"
      ],
      "text/markdown": [
       "1. 97\n",
       "2. 0.124040920716113\n",
       "\n",
       "\n"
      ],
      "text/plain": [
       "[1] 97.0000000  0.1240409"
      ]
     },
     "metadata": {},
     "output_type": "display_data"
    },
    {
     "data": {
      "text/html": [
       "<ol class=list-inline>\n",
       "\t<li>129</li>\n",
       "\t<li>0.164961636828645</li>\n",
       "</ol>\n"
      ],
      "text/latex": [
       "\\begin{enumerate*}\n",
       "\\item 129\n",
       "\\item 0.164961636828645\n",
       "\\end{enumerate*}\n"
      ],
      "text/markdown": [
       "1. 129\n",
       "2. 0.164961636828645\n",
       "\n",
       "\n"
      ],
      "text/plain": [
       "[1] 129.0000000   0.1649616"
      ]
     },
     "metadata": {},
     "output_type": "display_data"
    }
   ],
   "source": [
    "df4 = inner_join(df2, res_all, by = c(\"snp_id\",\"feature_id\"), suffix = c(\".sc\",\".bulk\"))\n",
    "df4 <- df4[-which(duplicated(df4$feature_id)),]\n",
    "nrow(df4)\n",
    "\n",
    "c(nrow(df4[(df4$p_value.bulk < 0.05 & \n",
    "         (df4$beta.sc*df4$beta.bulk)>0),]),\n",
    "  nrow(df4[(df4$p_value.bulk < 0.05 & \n",
    "         (df4$beta.sc*df4$beta.bulk)>0),])/nrow(df4))\n",
    "  \n",
    "  \n",
    "c(nrow(df4[(df4$p_value.bulk < 0.05),]),\n",
    "    nrow(df4[(df4$p_value.bulk < 0.05),])/nrow(df4))"
   ]
  },
  {
   "cell_type": "code",
   "execution_count": null,
   "metadata": {},
   "outputs": [],
   "source": []
  },
  {
   "cell_type": "code",
   "execution_count": null,
   "metadata": {},
   "outputs": [],
   "source": []
  },
  {
   "cell_type": "code",
   "execution_count": null,
   "metadata": {},
   "outputs": [],
   "source": [
    "## compare against each other"
   ]
  },
  {
   "cell_type": "code",
   "execution_count": 18,
   "metadata": {},
   "outputs": [
    {
     "name": "stderr",
     "output_type": "stream",
     "text": [
      "Warning message:\n",
      "“Column `snp_id` joining factors with different levels, coercing to character vector”Warning message:\n",
      "“Column `feature_id` joining factors with different levels, coercing to character vector”"
     ]
    }
   ],
   "source": [
    "df5 = inner_join(df0,df1, , by = c(\"snp_id\",\"feature_id\"), suffix = c(\".allcells\",\".5cells\"))"
   ]
  },
  {
   "cell_type": "code",
   "execution_count": 26,
   "metadata": {},
   "outputs": [
    {
     "name": "stderr",
     "output_type": "stream",
     "text": [
      "Warning message:\n",
      "“Removed 7 rows containing missing values (geom_point).”"
     ]
    },
    {
     "data": {
      "image/png": "[encoded data removed]",
      "text/plain": [
       "plot without title"
      ]
     },
     "metadata": {},
     "output_type": "display_data"
    }
   ],
   "source": [
    "options(repr.plot.width = 5, repr.plot.height = 3)\n",
    "ggplot(df5, aes(x = beta.allcells, y = beta.5cells, colour = q_value.allcells)) + geom_point() + theme_classic() +\n",
    "    xlim(c(-0.3,0.3)) + ylim(c(-0.3,0.3)) + geom_hline(yintercept = 0) + geom_vline(xintercept = 0)"
   ]
  },
  {
   "cell_type": "code",
   "execution_count": 28,
   "metadata": {},
   "outputs": [
    {
     "data": {
      "image/png": "[encoded data removed]",
      "text/plain": [
       "plot without title"
      ]
     },
     "metadata": {},
     "output_type": "display_data"
    }
   ],
   "source": [
    "ggplot(df5, aes(x = -log10(p_value.allcells), y = -log10(p_value.5cells), colour = q_value.allcells)) + geom_point() + \n",
    "    theme_classic() + geom_abline(slope = 1) + ylim(c(0,10))"
   ]
  },
  {
   "cell_type": "code",
   "execution_count": null,
   "metadata": {},
   "outputs": [],
   "source": []
  }
 ],
 "metadata": {
  "kernelspec": {
   "display_name": "R",
   "language": "R",
   "name": "ir"
  },
  "language_info": {
   "codemirror_mode": "r",
   "file_extension": ".r",
   "mimetype": "text/x-r-source",
   "name": "R",
   "pygments_lexer": "r",
   "version": "3.6.1"
  }
 },
 "nbformat": 4,
 "nbformat_minor": 4
}
