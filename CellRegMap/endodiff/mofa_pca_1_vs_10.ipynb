{
 "cells": [
  {
   "cell_type": "code",
   "execution_count": 16,
   "metadata": {},
   "outputs": [],
   "source": [
    "library(dplyr)\n",
    "library(ggplot2)\n",
    "library(qvalue)"
   ]
  },
  {
   "cell_type": "code",
   "execution_count": 6,
   "metadata": {},
   "outputs": [],
   "source": [
    "folder = \"/hps/nobackup/stegle/users/acuomo/all_scripts/struct_LMM2/sc_endodiff/new/PCA/\""
   ]
  },
  {
   "cell_type": "code",
   "execution_count": 7,
   "metadata": {},
   "outputs": [
    {
     "data": {
      "text/html": [
       "4442"
      ],
      "text/latex": [
       "4442"
      ],
      "text/markdown": [
       "4442"
      ],
      "text/plain": [
       "[1] 4442"
      ]
     },
     "metadata": {},
     "output_type": "display_data"
    },
    {
     "data": {
      "text/html": [
       "<table>\n",
       "<thead><tr><th></th><th scope=col>gene</th><th scope=col>n_snps</th><th scope=col>chrom</th><th scope=col>pv_raw</th><th scope=col>snpID</th><th scope=col>pv</th><th scope=col>qv</th></tr></thead>\n",
       "<tbody>\n",
       "\t<tr><th scope=row>0</th><td>ENSG00000172845_SP3   </td><td>1                     </td><td> 2                    </td><td>0.11316844            </td><td>2_174679935_A_G       </td><td>0.11316844            </td><td>0.2341380             </td></tr>\n",
       "\t<tr><th scope=row>1</th><td>ENSG00000092758_COL9A3</td><td>1                     </td><td>20                    </td><td>0.06549851            </td><td>20_61465531_G_T       </td><td>0.06549851            </td><td>0.1524866             </td></tr>\n",
       "</tbody>\n",
       "</table>\n"
      ],
      "text/latex": [
       "\\begin{tabular}{r|lllllll}\n",
       "  & gene & n\\_snps & chrom & pv\\_raw & snpID & pv & qv\\\\\n",
       "\\hline\n",
       "\t0 & ENSG00000172845\\_SP3    & 1                        &  2                       & 0.11316844               & 2\\_174679935\\_A\\_G    & 0.11316844               & 0.2341380               \\\\\n",
       "\t1 & ENSG00000092758\\_COL9A3 & 1                        & 20                       & 0.06549851               & 20\\_61465531\\_G\\_T    & 0.06549851               & 0.1524866               \\\\\n",
       "\\end{tabular}\n"
      ],
      "text/markdown": [
       "\n",
       "| <!--/--> | gene | n_snps | chrom | pv_raw | snpID | pv | qv |\n",
       "|---|---|---|---|---|---|---|---|\n",
       "| 0 | ENSG00000172845_SP3    | 1                      |  2                     | 0.11316844             | 2_174679935_A_G        | 0.11316844             | 0.2341380              |\n",
       "| 1 | ENSG00000092758_COL9A3 | 1                      | 20                     | 0.06549851             | 20_61465531_G_T        | 0.06549851             | 0.1524866              |\n",
       "\n"
      ],
      "text/plain": [
       "  gene                   n_snps chrom pv_raw     snpID           pv        \n",
       "0 ENSG00000172845_SP3    1       2    0.11316844 2_174679935_A_G 0.11316844\n",
       "1 ENSG00000092758_COL9A3 1      20    0.06549851 20_61465531_G_T 0.06549851\n",
       "  qv       \n",
       "0 0.2341380\n",
       "1 0.1524866"
      ]
     },
     "metadata": {},
     "output_type": "display_data"
    }
   ],
   "source": [
    "summary_filename = paste0(folder, \"PCA1_summary.csv\")\n",
    "df0 = read.csv(summary_filename, row.names = 1)\n",
    "df0$qv = qvalue(df0$pv, pi0 = 1)$qvalue\n",
    "nrow(df0)\n",
    "head(df0,2)"
   ]
  },
  {
   "cell_type": "code",
   "execution_count": 24,
   "metadata": {},
   "outputs": [
    {
     "data": {
      "text/html": [
       "513"
      ],
      "text/latex": [
       "513"
      ],
      "text/markdown": [
       "513"
      ],
      "text/plain": [
       "[1] 513"
      ]
     },
     "metadata": {},
     "output_type": "display_data"
    },
    {
     "data": {
      "text/html": [
       "<table>\n",
       "<thead><tr><th></th><th scope=col>gene</th><th scope=col>n_snps</th><th scope=col>chrom</th><th scope=col>pv_raw</th><th scope=col>snpID</th><th scope=col>pv</th><th scope=col>qv</th></tr></thead>\n",
       "<tbody>\n",
       "\t<tr><th scope=row>0</th><td>ENSG00000243317_C7orf73</td><td>3                      </td><td>7                      </td><td>1.314361e-01           </td><td>7_135324658_G_T        </td><td>3.943083e-01           </td><td>5.408560e-01           </td></tr>\n",
       "\t<tr><th scope=row>1</th><td>ENSG00000243317_C7orf73</td><td>3                      </td><td>7                      </td><td>2.024958e-10           </td><td>7_135349273_A_T        </td><td>6.074874e-10           </td><td>4.794478e-09           </td></tr>\n",
       "</tbody>\n",
       "</table>\n"
      ],
      "text/latex": [
       "\\begin{tabular}{r|lllllll}\n",
       "  & gene & n\\_snps & chrom & pv\\_raw & snpID & pv & qv\\\\\n",
       "\\hline\n",
       "\t0 & ENSG00000243317\\_C7orf73 & 3                         & 7                         & 1.314361e-01              & 7\\_135324658\\_G\\_T     & 3.943083e-01              & 5.408560e-01             \\\\\n",
       "\t1 & ENSG00000243317\\_C7orf73 & 3                         & 7                         & 2.024958e-10              & 7\\_135349273\\_A\\_T     & 6.074874e-10              & 4.794478e-09             \\\\\n",
       "\\end{tabular}\n"
      ],
      "text/markdown": [
       "\n",
       "| <!--/--> | gene | n_snps | chrom | pv_raw | snpID | pv | qv |\n",
       "|---|---|---|---|---|---|---|---|\n",
       "| 0 | ENSG00000243317_C7orf73 | 3                       | 7                       | 1.314361e-01            | 7_135324658_G_T         | 3.943083e-01            | 5.408560e-01            |\n",
       "| 1 | ENSG00000243317_C7orf73 | 3                       | 7                       | 2.024958e-10            | 7_135349273_A_T         | 6.074874e-10            | 4.794478e-09            |\n",
       "\n"
      ],
      "text/plain": [
       "  gene                    n_snps chrom pv_raw       snpID          \n",
       "0 ENSG00000243317_C7orf73 3      7     1.314361e-01 7_135324658_G_T\n",
       "1 ENSG00000243317_C7orf73 3      7     2.024958e-10 7_135349273_A_T\n",
       "  pv           qv          \n",
       "0 3.943083e-01 5.408560e-01\n",
       "1 6.074874e-10 4.794478e-09"
      ]
     },
     "metadata": {},
     "output_type": "display_data"
    }
   ],
   "source": [
    "summary_filename = paste0(folder, \"PCA20_summary.csv\")\n",
    "df1 = read.csv(summary_filename, row.names = 1)\n",
    "df1$qv = qvalue(df1$pv, pi0 = 1)$qvalue\n",
    "nrow(df1)\n",
    "head(df1,2)"
   ]
  },
  {
   "cell_type": "code",
   "execution_count": 25,
   "metadata": {},
   "outputs": [
    {
     "name": "stderr",
     "output_type": "stream",
     "text": [
      "Warning message:\n",
      "“Column `snpID` joining factors with different levels, coercing to character vector”Warning message:\n",
      "“Column `gene` joining factors with different levels, coercing to character vector”"
     ]
    },
    {
     "data": {
      "text/html": [
       "513"
      ],
      "text/latex": [
       "513"
      ],
      "text/markdown": [
       "513"
      ],
      "text/plain": [
       "[1] 513"
      ]
     },
     "metadata": {},
     "output_type": "display_data"
    },
    {
     "data": {
      "text/html": [
       "<table>\n",
       "<thead><tr><th scope=col>gene</th><th scope=col>n_snps.1</th><th scope=col>chrom.1</th><th scope=col>pv_raw.1</th><th scope=col>snpID</th><th scope=col>pv.1</th><th scope=col>qv.1</th><th scope=col>n_snps.10</th><th scope=col>chrom.10</th><th scope=col>pv_raw.10</th><th scope=col>pv.10</th><th scope=col>qv.10</th></tr></thead>\n",
       "<tbody>\n",
       "\t<tr><td>ENSG00000243317_C7orf73</td><td>3                      </td><td>7                      </td><td>5.124394e-01           </td><td>7_135324658_G_T        </td><td>1.000000e+00           </td><td>1.000000e+00           </td><td>3                      </td><td>7                      </td><td>1.314361e-01           </td><td>3.943083e-01           </td><td>5.408560e-01           </td></tr>\n",
       "\t<tr><td>ENSG00000243317_C7orf73</td><td>3                      </td><td>7                      </td><td>7.759941e-07           </td><td>7_135349273_A_T        </td><td>2.327982e-06           </td><td>3.096077e-05           </td><td>3                      </td><td>7                      </td><td>2.024958e-10           </td><td>6.074874e-10           </td><td>4.794478e-09           </td></tr>\n",
       "</tbody>\n",
       "</table>\n"
      ],
      "text/latex": [
       "\\begin{tabular}{r|llllllllllll}\n",
       " gene & n\\_snps.1 & chrom.1 & pv\\_raw.1 & snpID & pv.1 & qv.1 & n\\_snps.10 & chrom.10 & pv\\_raw.10 & pv.10 & qv.10\\\\\n",
       "\\hline\n",
       "\t ENSG00000243317\\_C7orf73 & 3                         & 7                         & 5.124394e-01              & 7\\_135324658\\_G\\_T     & 1.000000e+00              & 1.000000e+00              & 3                         & 7                         & 1.314361e-01              & 3.943083e-01              & 5.408560e-01             \\\\\n",
       "\t ENSG00000243317\\_C7orf73 & 3                         & 7                         & 7.759941e-07              & 7\\_135349273\\_A\\_T     & 2.327982e-06              & 3.096077e-05              & 3                         & 7                         & 2.024958e-10              & 6.074874e-10              & 4.794478e-09             \\\\\n",
       "\\end{tabular}\n"
      ],
      "text/markdown": [
       "\n",
       "| gene | n_snps.1 | chrom.1 | pv_raw.1 | snpID | pv.1 | qv.1 | n_snps.10 | chrom.10 | pv_raw.10 | pv.10 | qv.10 |\n",
       "|---|---|---|---|---|---|---|---|---|---|---|---|\n",
       "| ENSG00000243317_C7orf73 | 3                       | 7                       | 5.124394e-01            | 7_135324658_G_T         | 1.000000e+00            | 1.000000e+00            | 3                       | 7                       | 1.314361e-01            | 3.943083e-01            | 5.408560e-01            |\n",
       "| ENSG00000243317_C7orf73 | 3                       | 7                       | 7.759941e-07            | 7_135349273_A_T         | 2.327982e-06            | 3.096077e-05            | 3                       | 7                       | 2.024958e-10            | 6.074874e-10            | 4.794478e-09            |\n",
       "\n"
      ],
      "text/plain": [
       "  gene                    n_snps.1 chrom.1 pv_raw.1     snpID          \n",
       "1 ENSG00000243317_C7orf73 3        7       5.124394e-01 7_135324658_G_T\n",
       "2 ENSG00000243317_C7orf73 3        7       7.759941e-07 7_135349273_A_T\n",
       "  pv.1         qv.1         n_snps.10 chrom.10 pv_raw.10    pv.10       \n",
       "1 1.000000e+00 1.000000e+00 3         7        1.314361e-01 3.943083e-01\n",
       "2 2.327982e-06 3.096077e-05 3         7        2.024958e-10 6.074874e-10\n",
       "  qv.10       \n",
       "1 5.408560e-01\n",
       "2 4.794478e-09"
      ]
     },
     "metadata": {},
     "output_type": "display_data"
    }
   ],
   "source": [
    "df2 = inner_join(df0, df1, by = c(\"snpID\",\"gene\"), suffix = c(\".1\",\".10\"))\n",
    "nrow(df2)\n",
    "head(df2,2)"
   ]
  },
  {
   "cell_type": "code",
   "execution_count": 29,
   "metadata": {},
   "outputs": [
    {
     "data": {
      "image/png": "[encoded data removed]",
      "text/plain": [
       "plot without title"
      ]
     },
     "metadata": {},
     "output_type": "display_data"
    }
   ],
   "source": [
    "# p = ggplot(df2, aes(x = -log10(qv.1), y = -log10(qv.10))) + geom_point(alpha = 0.6) \n",
    "p = ggplot(df2, aes(x = -log10(pv.1), y = -log10(pv.10))) + geom_point(alpha = 0.6) \n",
    "p = p + geom_abline() + theme_bw()\n",
    "p = p + geom_vline(xintercept = -log10(0.05), alpha = 0.5) + geom_hline(yintercept = -log10(0.05), alpha = 0.5)\n",
    "p= p + xlim(c(0,120)) + ylim(c(0,120))\n",
    "p"
   ]
  },
  {
   "cell_type": "code",
   "execution_count": 31,
   "metadata": {},
   "outputs": [
    {
     "data": {
      "text/html": [
       "<table>\n",
       "<thead><tr><th></th><th scope=col>gene</th><th scope=col>n_snps.1</th><th scope=col>chrom.1</th><th scope=col>pv_raw.1</th><th scope=col>snpID</th><th scope=col>pv.1</th><th scope=col>qv.1</th><th scope=col>n_snps.10</th><th scope=col>chrom.10</th><th scope=col>pv_raw.10</th><th scope=col>pv.10</th><th scope=col>qv.10</th></tr></thead>\n",
       "<tbody>\n",
       "\t<tr><th scope=row>278</th><td>ENSG00000226278_PSPHP1</td><td>3                     </td><td> 7                    </td><td>3.117486e-02          </td><td>7_55833413_A_C        </td><td>9.352459e-02          </td><td>2.025530e-01          </td><td>3                     </td><td> 7                    </td><td>4.425379e-113         </td><td>1.327614e-112         </td><td>6.810658e-110         </td></tr>\n",
       "\t<tr><th scope=row>276</th><td>ENSG00000226278_PSPHP1</td><td>3                     </td><td> 7                    </td><td>2.539831e-06          </td><td>7_55802063_T_C        </td><td>7.619492e-06          </td><td>8.440344e-05          </td><td>3                     </td><td> 7                    </td><td>3.795352e-109         </td><td>1.138605e-108         </td><td>1.947015e-106         </td></tr>\n",
       "\t<tr><th scope=row>277</th><td>ENSG00000226278_PSPHP1</td><td>3                     </td><td> 7                    </td><td>2.539831e-06          </td><td>7_55806087_G_T        </td><td>7.619492e-06          </td><td>8.440344e-05          </td><td>3                     </td><td> 7                    </td><td>3.795352e-109         </td><td>1.138605e-108         </td><td>1.947015e-106         </td></tr>\n",
       "\t<tr><th scope=row>414</th><td>ENSG00000108278_ZNHIT3</td><td>3                     </td><td>17                    </td><td>2.734250e-04          </td><td>17_34848874_T_C       </td><td>8.202749e-04          </td><td>4.291709e-03          </td><td>3                     </td><td>17                    </td><td> 2.403927e-32         </td><td> 7.211780e-32         </td><td> 9.249108e-30         </td></tr>\n",
       "\t<tr><th scope=row>429</th><td>ENSG00000170291_ELP5  </td><td>2                     </td><td>17                    </td><td>5.074048e-10          </td><td>17_7145981_T_C        </td><td>1.014810e-09          </td><td>4.061067e-08          </td><td>2                     </td><td>17                    </td><td> 1.296413e-31         </td><td> 2.592826e-31         </td><td> 2.660240e-29         </td></tr>\n",
       "\t<tr><th scope=row>489</th><td>ENSG00000186230_ZNF749</td><td>2                     </td><td>19                    </td><td>2.457998e-08          </td><td>19_57939619_C_T       </td><td>4.915995e-08          </td><td>1.105579e-06          </td><td>2                     </td><td>19                    </td><td> 1.227365e-30         </td><td> 2.454729e-30         </td><td> 2.098793e-28         </td></tr>\n",
       "</tbody>\n",
       "</table>\n"
      ],
      "text/latex": [
       "\\begin{tabular}{r|llllllllllll}\n",
       "  & gene & n\\_snps.1 & chrom.1 & pv\\_raw.1 & snpID & pv.1 & qv.1 & n\\_snps.10 & chrom.10 & pv\\_raw.10 & pv.10 & qv.10\\\\\n",
       "\\hline\n",
       "\t278 & ENSG00000226278\\_PSPHP1 & 3                        &  7                       & 3.117486e-02             & 7\\_55833413\\_A\\_C     & 9.352459e-02             & 2.025530e-01             & 3                        &  7                       & 4.425379e-113            & 1.327614e-112            & 6.810658e-110           \\\\\n",
       "\t276 & ENSG00000226278\\_PSPHP1 & 3                        &  7                       & 2.539831e-06             & 7\\_55802063\\_T\\_C     & 7.619492e-06             & 8.440344e-05             & 3                        &  7                       & 3.795352e-109            & 1.138605e-108            & 1.947015e-106           \\\\\n",
       "\t277 & ENSG00000226278\\_PSPHP1 & 3                        &  7                       & 2.539831e-06             & 7\\_55806087\\_G\\_T     & 7.619492e-06             & 8.440344e-05             & 3                        &  7                       & 3.795352e-109            & 1.138605e-108            & 1.947015e-106           \\\\\n",
       "\t414 & ENSG00000108278\\_ZNHIT3 & 3                        & 17                       & 2.734250e-04             & 17\\_34848874\\_T\\_C    & 8.202749e-04             & 4.291709e-03             & 3                        & 17                       &  2.403927e-32            &  7.211780e-32            &  9.249108e-30           \\\\\n",
       "\t429 & ENSG00000170291\\_ELP5   & 2                        & 17                       & 5.074048e-10             & 17\\_7145981\\_T\\_C     & 1.014810e-09             & 4.061067e-08             & 2                        & 17                       &  1.296413e-31            &  2.592826e-31            &  2.660240e-29           \\\\\n",
       "\t489 & ENSG00000186230\\_ZNF749 & 2                        & 19                       & 2.457998e-08             & 19\\_57939619\\_C\\_T    & 4.915995e-08             & 1.105579e-06             & 2                        & 19                       &  1.227365e-30            &  2.454729e-30            &  2.098793e-28           \\\\\n",
       "\\end{tabular}\n"
      ],
      "text/markdown": [
       "\n",
       "| <!--/--> | gene | n_snps.1 | chrom.1 | pv_raw.1 | snpID | pv.1 | qv.1 | n_snps.10 | chrom.10 | pv_raw.10 | pv.10 | qv.10 |\n",
       "|---|---|---|---|---|---|---|---|---|---|---|---|---|\n",
       "| 278 | ENSG00000226278_PSPHP1 | 3                      |  7                     | 3.117486e-02           | 7_55833413_A_C         | 9.352459e-02           | 2.025530e-01           | 3                      |  7                     | 4.425379e-113          | 1.327614e-112          | 6.810658e-110          |\n",
       "| 276 | ENSG00000226278_PSPHP1 | 3                      |  7                     | 2.539831e-06           | 7_55802063_T_C         | 7.619492e-06           | 8.440344e-05           | 3                      |  7                     | 3.795352e-109          | 1.138605e-108          | 1.947015e-106          |\n",
       "| 277 | ENSG00000226278_PSPHP1 | 3                      |  7                     | 2.539831e-06           | 7_55806087_G_T         | 7.619492e-06           | 8.440344e-05           | 3                      |  7                     | 3.795352e-109          | 1.138605e-108          | 1.947015e-106          |\n",
       "| 414 | ENSG00000108278_ZNHIT3 | 3                      | 17                     | 2.734250e-04           | 17_34848874_T_C        | 8.202749e-04           | 4.291709e-03           | 3                      | 17                     |  2.403927e-32          |  7.211780e-32          |  9.249108e-30          |\n",
       "| 429 | ENSG00000170291_ELP5   | 2                      | 17                     | 5.074048e-10           | 17_7145981_T_C         | 1.014810e-09           | 4.061067e-08           | 2                      | 17                     |  1.296413e-31          |  2.592826e-31          |  2.660240e-29          |\n",
       "| 489 | ENSG00000186230_ZNF749 | 2                      | 19                     | 2.457998e-08           | 19_57939619_C_T        | 4.915995e-08           | 1.105579e-06           | 2                      | 19                     |  1.227365e-30          |  2.454729e-30          |  2.098793e-28          |\n",
       "\n"
      ],
      "text/plain": [
       "    gene                   n_snps.1 chrom.1 pv_raw.1     snpID          \n",
       "278 ENSG00000226278_PSPHP1 3         7      3.117486e-02 7_55833413_A_C \n",
       "276 ENSG00000226278_PSPHP1 3         7      2.539831e-06 7_55802063_T_C \n",
       "277 ENSG00000226278_PSPHP1 3         7      2.539831e-06 7_55806087_G_T \n",
       "414 ENSG00000108278_ZNHIT3 3        17      2.734250e-04 17_34848874_T_C\n",
       "429 ENSG00000170291_ELP5   2        17      5.074048e-10 17_7145981_T_C \n",
       "489 ENSG00000186230_ZNF749 2        19      2.457998e-08 19_57939619_C_T\n",
       "    pv.1         qv.1         n_snps.10 chrom.10 pv_raw.10     pv.10        \n",
       "278 9.352459e-02 2.025530e-01 3          7       4.425379e-113 1.327614e-112\n",
       "276 7.619492e-06 8.440344e-05 3          7       3.795352e-109 1.138605e-108\n",
       "277 7.619492e-06 8.440344e-05 3          7       3.795352e-109 1.138605e-108\n",
       "414 8.202749e-04 4.291709e-03 3         17        2.403927e-32  7.211780e-32\n",
       "429 1.014810e-09 4.061067e-08 2         17        1.296413e-31  2.592826e-31\n",
       "489 4.915995e-08 1.105579e-06 2         19        1.227365e-30  2.454729e-30\n",
       "    qv.10        \n",
       "278 6.810658e-110\n",
       "276 1.947015e-106\n",
       "277 1.947015e-106\n",
       "414  9.249108e-30\n",
       "429  2.660240e-29\n",
       "489  2.098793e-28"
      ]
     },
     "metadata": {},
     "output_type": "display_data"
    }
   ],
   "source": [
    "# df3 = df2[df2$qv.1>0.05 & df2$qv.10<0.05, ]\n",
    "df3 = df2[df2$qv.10<0.05, ]\n",
    "head(df3[order(df3$qv.10),])"
   ]
  },
  {
   "cell_type": "code",
   "execution_count": null,
   "metadata": {},
   "outputs": [],
   "source": []
  },
  {
   "cell_type": "code",
   "execution_count": 3,
   "metadata": {},
   "outputs": [],
   "source": [
    "folder = \"/hps/nobackup/stegle/users/acuomo/all_scripts/struct_LMM2/sc_endodiff/new/MOFA/\""
   ]
  },
  {
   "cell_type": "code",
   "execution_count": 7,
   "metadata": {},
   "outputs": [
    {
     "data": {
      "text/html": [
       "4410"
      ],
      "text/latex": [
       "4410"
      ],
      "text/markdown": [
       "4410"
      ],
      "text/plain": [
       "[1] 4410"
      ]
     },
     "metadata": {},
     "output_type": "display_data"
    },
    {
     "data": {
      "text/html": [
       "<table>\n",
       "<thead><tr><th></th><th scope=col>gene</th><th scope=col>n_snps</th><th scope=col>chrom</th><th scope=col>pv_raw</th><th scope=col>snpID</th><th scope=col>pv</th><th scope=col>qv</th></tr></thead>\n",
       "<tbody>\n",
       "\t<tr><th scope=row>0</th><td>ENSG00000140905_GCSH </td><td>1                    </td><td>16                   </td><td>0.21847265           </td><td>16_81118466_A_G      </td><td>0.21847265           </td><td>0.75329505           </td></tr>\n",
       "\t<tr><th scope=row>1</th><td>ENSG00000011523_CEP68</td><td>2                    </td><td> 2                   </td><td>0.00126596           </td><td>2_65279223_C_T       </td><td>0.00253192           </td><td>0.05785372           </td></tr>\n",
       "</tbody>\n",
       "</table>\n"
      ],
      "text/latex": [
       "\\begin{tabular}{r|lllllll}\n",
       "  & gene & n\\_snps & chrom & pv\\_raw & snpID & pv & qv\\\\\n",
       "\\hline\n",
       "\t0 & ENSG00000140905\\_GCSH  & 1                       & 16                      & 0.21847265              & 16\\_81118466\\_A\\_G   & 0.21847265              & 0.75329505             \\\\\n",
       "\t1 & ENSG00000011523\\_CEP68 & 2                       &  2                      & 0.00126596              & 2\\_65279223\\_C\\_T    & 0.00253192              & 0.05785372             \\\\\n",
       "\\end{tabular}\n"
      ],
      "text/markdown": [
       "\n",
       "| <!--/--> | gene | n_snps | chrom | pv_raw | snpID | pv | qv |\n",
       "|---|---|---|---|---|---|---|---|\n",
       "| 0 | ENSG00000140905_GCSH  | 1                     | 16                    | 0.21847265            | 16_81118466_A_G       | 0.21847265            | 0.75329505            |\n",
       "| 1 | ENSG00000011523_CEP68 | 2                     |  2                    | 0.00126596            | 2_65279223_C_T        | 0.00253192            | 0.05785372            |\n",
       "\n"
      ],
      "text/plain": [
       "  gene                  n_snps chrom pv_raw     snpID           pv        \n",
       "0 ENSG00000140905_GCSH  1      16    0.21847265 16_81118466_A_G 0.21847265\n",
       "1 ENSG00000011523_CEP68 2       2    0.00126596 2_65279223_C_T  0.00253192\n",
       "  qv        \n",
       "0 0.75329505\n",
       "1 0.05785372"
      ]
     },
     "metadata": {},
     "output_type": "display_data"
    }
   ],
   "source": [
    "summary_filename = paste0(folder, \"MOFA1/summary_endo_eqtl.csv\")\n",
    "df0 = read.csv(summary_filename, row.names = 1)\n",
    "df0$qv = qvalue(df0$pv, pi0 = 1)$qvalue\n",
    "nrow(df0)\n",
    "head(df0,2)"
   ]
  },
  {
   "cell_type": "code",
   "execution_count": 8,
   "metadata": {},
   "outputs": [
    {
     "data": {
      "text/html": [
       "4470"
      ],
      "text/latex": [
       "4470"
      ],
      "text/markdown": [
       "4470"
      ],
      "text/plain": [
       "[1] 4470"
      ]
     },
     "metadata": {},
     "output_type": "display_data"
    },
    {
     "data": {
      "text/html": [
       "<table>\n",
       "<thead><tr><th></th><th scope=col>gene</th><th scope=col>n_snps</th><th scope=col>chrom</th><th scope=col>pv_raw</th><th scope=col>snpID</th><th scope=col>pv</th><th scope=col>qv</th></tr></thead>\n",
       "<tbody>\n",
       "\t<tr><th scope=row>0</th><td>ENSG00000140905_GCSH </td><td>1                    </td><td>16                   </td><td>0.005333072          </td><td>16_81118466_A_G      </td><td>0.005333072          </td><td>0.04905109           </td></tr>\n",
       "\t<tr><th scope=row>1</th><td>ENSG00000011523_CEP68</td><td>2                    </td><td> 2                   </td><td>0.062120960          </td><td>2_65279223_C_T       </td><td>0.124241919          </td><td>0.43319920           </td></tr>\n",
       "</tbody>\n",
       "</table>\n"
      ],
      "text/latex": [
       "\\begin{tabular}{r|lllllll}\n",
       "  & gene & n\\_snps & chrom & pv\\_raw & snpID & pv & qv\\\\\n",
       "\\hline\n",
       "\t0 & ENSG00000140905\\_GCSH  & 1                       & 16                      & 0.005333072             & 16\\_81118466\\_A\\_G   & 0.005333072             & 0.04905109             \\\\\n",
       "\t1 & ENSG00000011523\\_CEP68 & 2                       &  2                      & 0.062120960             & 2\\_65279223\\_C\\_T    & 0.124241919             & 0.43319920             \\\\\n",
       "\\end{tabular}\n"
      ],
      "text/markdown": [
       "\n",
       "| <!--/--> | gene | n_snps | chrom | pv_raw | snpID | pv | qv |\n",
       "|---|---|---|---|---|---|---|---|\n",
       "| 0 | ENSG00000140905_GCSH  | 1                     | 16                    | 0.005333072           | 16_81118466_A_G       | 0.005333072           | 0.04905109            |\n",
       "| 1 | ENSG00000011523_CEP68 | 2                     |  2                    | 0.062120960           | 2_65279223_C_T        | 0.124241919           | 0.43319920            |\n",
       "\n"
      ],
      "text/plain": [
       "  gene                  n_snps chrom pv_raw      snpID           pv         \n",
       "0 ENSG00000140905_GCSH  1      16    0.005333072 16_81118466_A_G 0.005333072\n",
       "1 ENSG00000011523_CEP68 2       2    0.062120960 2_65279223_C_T  0.124241919\n",
       "  qv        \n",
       "0 0.04905109\n",
       "1 0.43319920"
      ]
     },
     "metadata": {},
     "output_type": "display_data"
    }
   ],
   "source": [
    "summary_filename = paste0(folder, \"MOFA10/summary_endo_eqtl.csv\")\n",
    "df1 = read.csv(summary_filename, row.names = 1)\n",
    "df1$qv = qvalue(df1$pv, pi0 = 1)$qvalue\n",
    "nrow(df1)\n",
    "head(df1,2)"
   ]
  },
  {
   "cell_type": "code",
   "execution_count": 9,
   "metadata": {},
   "outputs": [
    {
     "name": "stderr",
     "output_type": "stream",
     "text": [
      "Warning message:\n",
      "“Column `snpID` joining factors with different levels, coercing to character vector”Warning message:\n",
      "“Column `gene` joining factors with different levels, coercing to character vector”"
     ]
    },
    {
     "data": {
      "text/html": [
       "<table>\n",
       "<thead><tr><th scope=col>gene</th><th scope=col>n_snps.1</th><th scope=col>chrom.1</th><th scope=col>pv_raw.1</th><th scope=col>snpID</th><th scope=col>pv.1</th><th scope=col>qv.1</th><th scope=col>n_snps.10</th><th scope=col>chrom.10</th><th scope=col>pv_raw.10</th><th scope=col>pv.10</th><th scope=col>qv.10</th></tr></thead>\n",
       "<tbody>\n",
       "\t<tr><td>ENSG00000140905_GCSH </td><td>1                    </td><td>16                   </td><td>0.21847265           </td><td>16_81118466_A_G      </td><td>0.21847265           </td><td>0.75329505           </td><td>1                    </td><td>16                   </td><td>0.005333072          </td><td>0.005333072          </td><td>0.04905109           </td></tr>\n",
       "\t<tr><td>ENSG00000011523_CEP68</td><td>2                    </td><td> 2                   </td><td>0.00126596           </td><td>2_65279223_C_T       </td><td>0.00253192           </td><td>0.05785372           </td><td>2                    </td><td> 2                   </td><td>0.062120960          </td><td>0.124241919          </td><td>0.43319920           </td></tr>\n",
       "\t<tr><td>ENSG00000011523_CEP68</td><td>2                    </td><td> 2                   </td><td>0.01527360           </td><td>2_65290842_C_A       </td><td>0.03054720           </td><td>0.28970571           </td><td>2                    </td><td> 2                   </td><td>0.155643180          </td><td>0.311286360          </td><td>0.70275254           </td></tr>\n",
       "\t<tr><td>ENSG00000178814_OPLAH</td><td>1                    </td><td> 8                   </td><td>0.13357677           </td><td>8_145114924_G_C      </td><td>0.13357677           </td><td>0.61297976           </td><td>1                    </td><td> 8                   </td><td>0.701219814          </td><td>0.701219814          </td><td>1.00000000           </td></tr>\n",
       "\t<tr><td>ENSG00000013583_HEBP1</td><td>1                    </td><td>12                   </td><td>0.20727768           </td><td>12_13154105_A_T      </td><td>0.20727768           </td><td>0.73717303           </td><td>1                    </td><td>12                   </td><td>0.382112530          </td><td>0.382112530          </td><td>0.78207097           </td></tr>\n",
       "\t<tr><td>ENSG00000143942_CHAC2</td><td>1                    </td><td> 2                   </td><td>0.29017872           </td><td>2_54010876_C_A       </td><td>0.29017872           </td><td>0.84474186           </td><td>1                    </td><td> 2                   </td><td>0.532707767          </td><td>0.532707767          </td><td>0.91725875           </td></tr>\n",
       "</tbody>\n",
       "</table>\n"
      ],
      "text/latex": [
       "\\begin{tabular}{r|llllllllllll}\n",
       " gene & n\\_snps.1 & chrom.1 & pv\\_raw.1 & snpID & pv.1 & qv.1 & n\\_snps.10 & chrom.10 & pv\\_raw.10 & pv.10 & qv.10\\\\\n",
       "\\hline\n",
       "\t ENSG00000140905\\_GCSH  & 1                       & 16                      & 0.21847265              & 16\\_81118466\\_A\\_G   & 0.21847265              & 0.75329505              & 1                       & 16                      & 0.005333072             & 0.005333072             & 0.04905109             \\\\\n",
       "\t ENSG00000011523\\_CEP68 & 2                       &  2                      & 0.00126596              & 2\\_65279223\\_C\\_T    & 0.00253192              & 0.05785372              & 2                       &  2                      & 0.062120960             & 0.124241919             & 0.43319920             \\\\\n",
       "\t ENSG00000011523\\_CEP68 & 2                       &  2                      & 0.01527360              & 2\\_65290842\\_C\\_A    & 0.03054720              & 0.28970571              & 2                       &  2                      & 0.155643180             & 0.311286360             & 0.70275254             \\\\\n",
       "\t ENSG00000178814\\_OPLAH & 1                       &  8                      & 0.13357677              & 8\\_145114924\\_G\\_C   & 0.13357677              & 0.61297976              & 1                       &  8                      & 0.701219814             & 0.701219814             & 1.00000000             \\\\\n",
       "\t ENSG00000013583\\_HEBP1 & 1                       & 12                      & 0.20727768              & 12\\_13154105\\_A\\_T   & 0.20727768              & 0.73717303              & 1                       & 12                      & 0.382112530             & 0.382112530             & 0.78207097             \\\\\n",
       "\t ENSG00000143942\\_CHAC2 & 1                       &  2                      & 0.29017872              & 2\\_54010876\\_C\\_A    & 0.29017872              & 0.84474186              & 1                       &  2                      & 0.532707767             & 0.532707767             & 0.91725875             \\\\\n",
       "\\end{tabular}\n"
      ],
      "text/markdown": [
       "\n",
       "| gene | n_snps.1 | chrom.1 | pv_raw.1 | snpID | pv.1 | qv.1 | n_snps.10 | chrom.10 | pv_raw.10 | pv.10 | qv.10 |\n",
       "|---|---|---|---|---|---|---|---|---|---|---|---|\n",
       "| ENSG00000140905_GCSH  | 1                     | 16                    | 0.21847265            | 16_81118466_A_G       | 0.21847265            | 0.75329505            | 1                     | 16                    | 0.005333072           | 0.005333072           | 0.04905109            |\n",
       "| ENSG00000011523_CEP68 | 2                     |  2                    | 0.00126596            | 2_65279223_C_T        | 0.00253192            | 0.05785372            | 2                     |  2                    | 0.062120960           | 0.124241919           | 0.43319920            |\n",
       "| ENSG00000011523_CEP68 | 2                     |  2                    | 0.01527360            | 2_65290842_C_A        | 0.03054720            | 0.28970571            | 2                     |  2                    | 0.155643180           | 0.311286360           | 0.70275254            |\n",
       "| ENSG00000178814_OPLAH | 1                     |  8                    | 0.13357677            | 8_145114924_G_C       | 0.13357677            | 0.61297976            | 1                     |  8                    | 0.701219814           | 0.701219814           | 1.00000000            |\n",
       "| ENSG00000013583_HEBP1 | 1                     | 12                    | 0.20727768            | 12_13154105_A_T       | 0.20727768            | 0.73717303            | 1                     | 12                    | 0.382112530           | 0.382112530           | 0.78207097            |\n",
       "| ENSG00000143942_CHAC2 | 1                     |  2                    | 0.29017872            | 2_54010876_C_A        | 0.29017872            | 0.84474186            | 1                     |  2                    | 0.532707767           | 0.532707767           | 0.91725875            |\n",
       "\n"
      ],
      "text/plain": [
       "  gene                  n_snps.1 chrom.1 pv_raw.1   snpID           pv.1      \n",
       "1 ENSG00000140905_GCSH  1        16      0.21847265 16_81118466_A_G 0.21847265\n",
       "2 ENSG00000011523_CEP68 2         2      0.00126596 2_65279223_C_T  0.00253192\n",
       "3 ENSG00000011523_CEP68 2         2      0.01527360 2_65290842_C_A  0.03054720\n",
       "4 ENSG00000178814_OPLAH 1         8      0.13357677 8_145114924_G_C 0.13357677\n",
       "5 ENSG00000013583_HEBP1 1        12      0.20727768 12_13154105_A_T 0.20727768\n",
       "6 ENSG00000143942_CHAC2 1         2      0.29017872 2_54010876_C_A  0.29017872\n",
       "  qv.1       n_snps.10 chrom.10 pv_raw.10   pv.10       qv.10     \n",
       "1 0.75329505 1         16       0.005333072 0.005333072 0.04905109\n",
       "2 0.05785372 2          2       0.062120960 0.124241919 0.43319920\n",
       "3 0.28970571 2          2       0.155643180 0.311286360 0.70275254\n",
       "4 0.61297976 1          8       0.701219814 0.701219814 1.00000000\n",
       "5 0.73717303 1         12       0.382112530 0.382112530 0.78207097\n",
       "6 0.84474186 1          2       0.532707767 0.532707767 0.91725875"
      ]
     },
     "metadata": {},
     "output_type": "display_data"
    }
   ],
   "source": [
    "df2 = inner_join(df0, df1, by = c(\"snpID\",\"gene\"), suffix = c(\".1\",\".10\"))\n",
    "head(df2)"
   ]
  },
  {
   "cell_type": "code",
   "execution_count": 10,
   "metadata": {},
   "outputs": [
    {
     "data": {
      "image/png": "[encoded data removed]",
      "text/plain": [
       "plot without title"
      ]
     },
     "metadata": {},
     "output_type": "display_data"
    }
   ],
   "source": [
    "p = ggplot(df2, aes(x = -log10(pv_raw.1), y = -log10(pv_raw.10))) + geom_point() + theme_bw()\n",
    "p = p + xlim(c(0,42)) + ylim(c(0,42))\n",
    "p = p + geom_abline()\n",
    "p"
   ]
  },
  {
   "cell_type": "code",
   "execution_count": 25,
   "metadata": {},
   "outputs": [
    {
     "data": {
      "image/png": "[encoded data removed]",
      "text/plain": [
       "plot without title"
      ]
     },
     "metadata": {},
     "output_type": "display_data"
    }
   ],
   "source": [
    "p = ggplot(df2, aes(x = -log10(qv.1), y = -log10(qv.10))) + geom_point(alpha = 0.6) \n",
    "p = p + geom_abline() + theme_bw()\n",
    "p = p + geom_vline(xintercept = -log10(0.05), alpha = 0.5) + geom_hline(yintercept = -log10(0.05), alpha = 0.5)\n",
    "p = p + xlim(c(0,40)) + ylim(c(0,40))\n",
    "p"
   ]
  },
  {
   "cell_type": "code",
   "execution_count": 27,
   "metadata": {
    "scrolled": true
   },
   "outputs": [
    {
     "data": {
      "text/html": [
       "<table>\n",
       "<thead><tr><th></th><th scope=col>gene</th><th scope=col>n_snps.1</th><th scope=col>chrom.1</th><th scope=col>pv_raw.1</th><th scope=col>snpID</th><th scope=col>pv.1</th><th scope=col>qv.1</th><th scope=col>n_snps.10</th><th scope=col>chrom.10</th><th scope=col>pv_raw.10</th><th scope=col>pv.10</th><th scope=col>qv.10</th></tr></thead>\n",
       "<tbody>\n",
       "\t<tr><th scope=row>2297</th><td>ENSG00000164344_KLKB1   </td><td>2                       </td><td> 4                      </td><td>0.358694080             </td><td>4_187174030_G_T         </td><td>0.717388160             </td><td>1.00000000              </td><td>2                       </td><td> 4                      </td><td>5.121085e-18            </td><td>1.024217e-17            </td><td>2.861406e-15            </td></tr>\n",
       "\t<tr><th scope=row>583</th><td>ENSG00000104435_STMN2   </td><td>1                       </td><td> 8                      </td><td>0.281371632             </td><td>8_80509881_T_C          </td><td>0.281371632             </td><td>0.83320707              </td><td>1                       </td><td> 8                      </td><td>1.916439e-15            </td><td>1.916439e-15            </td><td>3.724557e-13            </td></tr>\n",
       "\t<tr><th scope=row>3516</th><td>ENSG00000173401_GLIPR1L1</td><td>2                       </td><td>12                      </td><td>0.729754117             </td><td>12_75737206_G_A         </td><td>1.000000000             </td><td>1.00000000              </td><td>2                       </td><td>12                      </td><td>4.843888e-15            </td><td>9.687777e-15            </td><td>1.732174e-12            </td></tr>\n",
       "\t<tr><th scope=row>4061</th><td>ENSG00000124693_HIST1H3B</td><td>1                       </td><td> 6                      </td><td>0.447403801             </td><td>6_26020936_C_T          </td><td>0.447403801             </td><td>1.00000000              </td><td>1                       </td><td> 6                      </td><td>2.498817e-14            </td><td>2.498817e-14            </td><td>4.136930e-12            </td></tr>\n",
       "\t<tr><th scope=row>3517</th><td>ENSG00000173401_GLIPR1L1</td><td>2                       </td><td>12                      </td><td>0.599860326             </td><td>12_75768869_G_T         </td><td>1.000000000             </td><td>1.00000000              </td><td>2                       </td><td>12                      </td><td>2.197168e-14            </td><td>4.394336e-14            </td><td>6.773338e-12            </td></tr>\n",
       "\t<tr><th scope=row>570</th><td>ENSG00000176654_NANOGP1 </td><td>2                       </td><td>12                      </td><td>0.001104738             </td><td>12_7945871_C_T          </td><td>0.002209476             </td><td>0.05210583              </td><td>2                       </td><td>12                      </td><td>2.994267e-14            </td><td>5.988533e-14            </td><td>8.922914e-12            </td></tr>\n",
       "</tbody>\n",
       "</table>\n"
      ],
      "text/latex": [
       "\\begin{tabular}{r|llllllllllll}\n",
       "  & gene & n\\_snps.1 & chrom.1 & pv\\_raw.1 & snpID & pv.1 & qv.1 & n\\_snps.10 & chrom.10 & pv\\_raw.10 & pv.10 & qv.10\\\\\n",
       "\\hline\n",
       "\t2297 & ENSG00000164344\\_KLKB1    & 2                          &  4                         & 0.358694080                & 4\\_187174030\\_G\\_T      & 0.717388160                & 1.00000000                 & 2                          &  4                         & 5.121085e-18               & 1.024217e-17               & 2.861406e-15              \\\\\n",
       "\t583 & ENSG00000104435\\_STMN2    & 1                          &  8                         & 0.281371632                & 8\\_80509881\\_T\\_C       & 0.281371632                & 0.83320707                 & 1                          &  8                         & 1.916439e-15               & 1.916439e-15               & 3.724557e-13              \\\\\n",
       "\t3516 & ENSG00000173401\\_GLIPR1L1 & 2                          & 12                         & 0.729754117                & 12\\_75737206\\_G\\_A      & 1.000000000                & 1.00000000                 & 2                          & 12                         & 4.843888e-15               & 9.687777e-15               & 1.732174e-12              \\\\\n",
       "\t4061 & ENSG00000124693\\_HIST1H3B & 1                          &  6                         & 0.447403801                & 6\\_26020936\\_C\\_T       & 0.447403801                & 1.00000000                 & 1                          &  6                         & 2.498817e-14               & 2.498817e-14               & 4.136930e-12              \\\\\n",
       "\t3517 & ENSG00000173401\\_GLIPR1L1 & 2                          & 12                         & 0.599860326                & 12\\_75768869\\_G\\_T      & 1.000000000                & 1.00000000                 & 2                          & 12                         & 2.197168e-14               & 4.394336e-14               & 6.773338e-12              \\\\\n",
       "\t570 & ENSG00000176654\\_NANOGP1  & 2                          & 12                         & 0.001104738                & 12\\_7945871\\_C\\_T       & 0.002209476                & 0.05210583                 & 2                          & 12                         & 2.994267e-14               & 5.988533e-14               & 8.922914e-12              \\\\\n",
       "\\end{tabular}\n"
      ],
      "text/markdown": [
       "\n",
       "| <!--/--> | gene | n_snps.1 | chrom.1 | pv_raw.1 | snpID | pv.1 | qv.1 | n_snps.10 | chrom.10 | pv_raw.10 | pv.10 | qv.10 |\n",
       "|---|---|---|---|---|---|---|---|---|---|---|---|---|\n",
       "| 2297 | ENSG00000164344_KLKB1    | 2                        |  4                       | 0.358694080              | 4_187174030_G_T          | 0.717388160              | 1.00000000               | 2                        |  4                       | 5.121085e-18             | 1.024217e-17             | 2.861406e-15             |\n",
       "| 583 | ENSG00000104435_STMN2    | 1                        |  8                       | 0.281371632              | 8_80509881_T_C           | 0.281371632              | 0.83320707               | 1                        |  8                       | 1.916439e-15             | 1.916439e-15             | 3.724557e-13             |\n",
       "| 3516 | ENSG00000173401_GLIPR1L1 | 2                        | 12                       | 0.729754117              | 12_75737206_G_A          | 1.000000000              | 1.00000000               | 2                        | 12                       | 4.843888e-15             | 9.687777e-15             | 1.732174e-12             |\n",
       "| 4061 | ENSG00000124693_HIST1H3B | 1                        |  6                       | 0.447403801              | 6_26020936_C_T           | 0.447403801              | 1.00000000               | 1                        |  6                       | 2.498817e-14             | 2.498817e-14             | 4.136930e-12             |\n",
       "| 3517 | ENSG00000173401_GLIPR1L1 | 2                        | 12                       | 0.599860326              | 12_75768869_G_T          | 1.000000000              | 1.00000000               | 2                        | 12                       | 2.197168e-14             | 4.394336e-14             | 6.773338e-12             |\n",
       "| 570 | ENSG00000176654_NANOGP1  | 2                        | 12                       | 0.001104738              | 12_7945871_C_T           | 0.002209476              | 0.05210583               | 2                        | 12                       | 2.994267e-14             | 5.988533e-14             | 8.922914e-12             |\n",
       "\n"
      ],
      "text/plain": [
       "     gene                     n_snps.1 chrom.1 pv_raw.1    snpID          \n",
       "2297 ENSG00000164344_KLKB1    2         4      0.358694080 4_187174030_G_T\n",
       "583  ENSG00000104435_STMN2    1         8      0.281371632 8_80509881_T_C \n",
       "3516 ENSG00000173401_GLIPR1L1 2        12      0.729754117 12_75737206_G_A\n",
       "4061 ENSG00000124693_HIST1H3B 1         6      0.447403801 6_26020936_C_T \n",
       "3517 ENSG00000173401_GLIPR1L1 2        12      0.599860326 12_75768869_G_T\n",
       "570  ENSG00000176654_NANOGP1  2        12      0.001104738 12_7945871_C_T \n",
       "     pv.1        qv.1       n_snps.10 chrom.10 pv_raw.10    pv.10       \n",
       "2297 0.717388160 1.00000000 2          4       5.121085e-18 1.024217e-17\n",
       "583  0.281371632 0.83320707 1          8       1.916439e-15 1.916439e-15\n",
       "3516 1.000000000 1.00000000 2         12       4.843888e-15 9.687777e-15\n",
       "4061 0.447403801 1.00000000 1          6       2.498817e-14 2.498817e-14\n",
       "3517 1.000000000 1.00000000 2         12       2.197168e-14 4.394336e-14\n",
       "570  0.002209476 0.05210583 2         12       2.994267e-14 5.988533e-14\n",
       "     qv.10       \n",
       "2297 2.861406e-15\n",
       "583  3.724557e-13\n",
       "3516 1.732174e-12\n",
       "4061 4.136930e-12\n",
       "3517 6.773338e-12\n",
       "570  8.922914e-12"
      ]
     },
     "metadata": {},
     "output_type": "display_data"
    }
   ],
   "source": [
    "df3 = df2[df2$qv.1>0.05 & df2$qv.10<0.05, ]\n",
    "head(df3[order(df3$qv.10),])"
   ]
  },
  {
   "cell_type": "code",
   "execution_count": 31,
   "metadata": {},
   "outputs": [
    {
     "data": {
      "text/html": [
       "<table>\n",
       "<thead><tr><th></th><th scope=col>gene</th><th scope=col>n_snps.1</th><th scope=col>chrom.1</th><th scope=col>pv_raw.1</th><th scope=col>snpID</th><th scope=col>pv.1</th><th scope=col>qv.1</th><th scope=col>n_snps.10</th><th scope=col>chrom.10</th><th scope=col>pv_raw.10</th><th scope=col>pv.10</th><th scope=col>qv.10</th></tr></thead>\n",
       "<tbody>\n",
       "\t<tr><th scope=row>203</th><td>ENSG00000229150_CRYGEP</td><td>2                     </td><td> 2                    </td><td>5.201755e-18          </td><td>2_208977797_G_T       </td><td>1.040351e-17          </td><td>1.146987e-14          </td><td>2                     </td><td> 2                    </td><td>2.084663e-41          </td><td>4.169326e-41          </td><td>1.863689e-37          </td></tr>\n",
       "\t<tr><th scope=row>202</th><td>ENSG00000229150_CRYGEP</td><td>2                     </td><td> 2                    </td><td>9.763035e-19          </td><td>2_208977362_C_A       </td><td>1.952607e-18          </td><td>2.870332e-15          </td><td>2                     </td><td> 2                    </td><td>2.492542e-40          </td><td>4.985085e-40          </td><td>1.114166e-36          </td></tr>\n",
       "\t<tr><th scope=row>3442</th><td>ENSG00000169877_AHSP  </td><td>2                     </td><td>16                    </td><td>1.173470e-32          </td><td>16_31522723_T_C       </td><td>2.346940e-32          </td><td>5.175003e-29          </td><td>2                     </td><td>16                    </td><td>1.140478e-38          </td><td>2.280957e-38          </td><td>2.548969e-35          </td></tr>\n",
       "\t<tr><th scope=row>3443</th><td>ENSG00000169877_AHSP  </td><td>2                     </td><td>16                    </td><td>1.173470e-32          </td><td>16_31526823_G_A       </td><td>2.346940e-32          </td><td>5.175003e-29          </td><td>2                     </td><td>16                    </td><td>1.140478e-38          </td><td>2.280957e-38          </td><td>2.548969e-35          </td></tr>\n",
       "\t<tr><th scope=row>2266</th><td>ENSG00000111913_FAM65B</td><td>1                     </td><td> 6                    </td><td>2.077772e-12          </td><td>6_24979164_T_A        </td><td>2.077772e-12          </td><td>8.329977e-10          </td><td>1                     </td><td> 6                    </td><td>2.887645e-34          </td><td>2.887645e-34          </td><td>2.581555e-31          </td></tr>\n",
       "\t<tr><th scope=row>4006</th><td>ENSG00000148291_SURF2 </td><td>1                     </td><td> 9                    </td><td>3.283198e-10          </td><td>9_136227260_A_G       </td><td>3.283198e-10          </td><td>7.620474e-08          </td><td>1                     </td><td> 9                    </td><td>8.996118e-26          </td><td>8.996118e-26          </td><td>6.702108e-23          </td></tr>\n",
       "</tbody>\n",
       "</table>\n"
      ],
      "text/latex": [
       "\\begin{tabular}{r|llllllllllll}\n",
       "  & gene & n\\_snps.1 & chrom.1 & pv\\_raw.1 & snpID & pv.1 & qv.1 & n\\_snps.10 & chrom.10 & pv\\_raw.10 & pv.10 & qv.10\\\\\n",
       "\\hline\n",
       "\t203 & ENSG00000229150\\_CRYGEP & 2                        &  2                       & 5.201755e-18             & 2\\_208977797\\_G\\_T    & 1.040351e-17             & 1.146987e-14             & 2                        &  2                       & 2.084663e-41             & 4.169326e-41             & 1.863689e-37            \\\\\n",
       "\t202 & ENSG00000229150\\_CRYGEP & 2                        &  2                       & 9.763035e-19             & 2\\_208977362\\_C\\_A    & 1.952607e-18             & 2.870332e-15             & 2                        &  2                       & 2.492542e-40             & 4.985085e-40             & 1.114166e-36            \\\\\n",
       "\t3442 & ENSG00000169877\\_AHSP   & 2                        & 16                       & 1.173470e-32             & 16\\_31522723\\_T\\_C    & 2.346940e-32             & 5.175003e-29             & 2                        & 16                       & 1.140478e-38             & 2.280957e-38             & 2.548969e-35            \\\\\n",
       "\t3443 & ENSG00000169877\\_AHSP   & 2                        & 16                       & 1.173470e-32             & 16\\_31526823\\_G\\_A    & 2.346940e-32             & 5.175003e-29             & 2                        & 16                       & 1.140478e-38             & 2.280957e-38             & 2.548969e-35            \\\\\n",
       "\t2266 & ENSG00000111913\\_FAM65B & 1                        &  6                       & 2.077772e-12             & 6\\_24979164\\_T\\_A     & 2.077772e-12             & 8.329977e-10             & 1                        &  6                       & 2.887645e-34             & 2.887645e-34             & 2.581555e-31            \\\\\n",
       "\t4006 & ENSG00000148291\\_SURF2  & 1                        &  9                       & 3.283198e-10             & 9\\_136227260\\_A\\_G    & 3.283198e-10             & 7.620474e-08             & 1                        &  9                       & 8.996118e-26             & 8.996118e-26             & 6.702108e-23            \\\\\n",
       "\\end{tabular}\n"
      ],
      "text/markdown": [
       "\n",
       "| <!--/--> | gene | n_snps.1 | chrom.1 | pv_raw.1 | snpID | pv.1 | qv.1 | n_snps.10 | chrom.10 | pv_raw.10 | pv.10 | qv.10 |\n",
       "|---|---|---|---|---|---|---|---|---|---|---|---|---|\n",
       "| 203 | ENSG00000229150_CRYGEP | 2                      |  2                     | 5.201755e-18           | 2_208977797_G_T        | 1.040351e-17           | 1.146987e-14           | 2                      |  2                     | 2.084663e-41           | 4.169326e-41           | 1.863689e-37           |\n",
       "| 202 | ENSG00000229150_CRYGEP | 2                      |  2                     | 9.763035e-19           | 2_208977362_C_A        | 1.952607e-18           | 2.870332e-15           | 2                      |  2                     | 2.492542e-40           | 4.985085e-40           | 1.114166e-36           |\n",
       "| 3442 | ENSG00000169877_AHSP   | 2                      | 16                     | 1.173470e-32           | 16_31522723_T_C        | 2.346940e-32           | 5.175003e-29           | 2                      | 16                     | 1.140478e-38           | 2.280957e-38           | 2.548969e-35           |\n",
       "| 3443 | ENSG00000169877_AHSP   | 2                      | 16                     | 1.173470e-32           | 16_31526823_G_A        | 2.346940e-32           | 5.175003e-29           | 2                      | 16                     | 1.140478e-38           | 2.280957e-38           | 2.548969e-35           |\n",
       "| 2266 | ENSG00000111913_FAM65B | 1                      |  6                     | 2.077772e-12           | 6_24979164_T_A         | 2.077772e-12           | 8.329977e-10           | 1                      |  6                     | 2.887645e-34           | 2.887645e-34           | 2.581555e-31           |\n",
       "| 4006 | ENSG00000148291_SURF2  | 1                      |  9                     | 3.283198e-10           | 9_136227260_A_G        | 3.283198e-10           | 7.620474e-08           | 1                      |  9                     | 8.996118e-26           | 8.996118e-26           | 6.702108e-23           |\n",
       "\n"
      ],
      "text/plain": [
       "     gene                   n_snps.1 chrom.1 pv_raw.1     snpID          \n",
       "203  ENSG00000229150_CRYGEP 2         2      5.201755e-18 2_208977797_G_T\n",
       "202  ENSG00000229150_CRYGEP 2         2      9.763035e-19 2_208977362_C_A\n",
       "3442 ENSG00000169877_AHSP   2        16      1.173470e-32 16_31522723_T_C\n",
       "3443 ENSG00000169877_AHSP   2        16      1.173470e-32 16_31526823_G_A\n",
       "2266 ENSG00000111913_FAM65B 1         6      2.077772e-12 6_24979164_T_A \n",
       "4006 ENSG00000148291_SURF2  1         9      3.283198e-10 9_136227260_A_G\n",
       "     pv.1         qv.1         n_snps.10 chrom.10 pv_raw.10    pv.10       \n",
       "203  1.040351e-17 1.146987e-14 2          2       2.084663e-41 4.169326e-41\n",
       "202  1.952607e-18 2.870332e-15 2          2       2.492542e-40 4.985085e-40\n",
       "3442 2.346940e-32 5.175003e-29 2         16       1.140478e-38 2.280957e-38\n",
       "3443 2.346940e-32 5.175003e-29 2         16       1.140478e-38 2.280957e-38\n",
       "2266 2.077772e-12 8.329977e-10 1          6       2.887645e-34 2.887645e-34\n",
       "4006 3.283198e-10 7.620474e-08 1          9       8.996118e-26 8.996118e-26\n",
       "     qv.10       \n",
       "203  1.863689e-37\n",
       "202  1.114166e-36\n",
       "3442 2.548969e-35\n",
       "3443 2.548969e-35\n",
       "2266 2.581555e-31\n",
       "4006 6.702108e-23"
      ]
     },
     "metadata": {},
     "output_type": "display_data"
    }
   ],
   "source": [
    "df4 = df2[df2$qv.1<0.05 & df2$qv.10<0.05, ]\n",
    "head(df4[order(df4$qv.10),])"
   ]
  },
  {
   "cell_type": "code",
   "execution_count": null,
   "metadata": {},
   "outputs": [],
   "source": []
  }
 ],
 "metadata": {
  "kernelspec": {
   "display_name": "R",
   "language": "R",
   "name": "ir"
  },
  "language_info": {
   "codemirror_mode": "r",
   "file_extension": ".r",
   "mimetype": "text/x-r-source",
   "name": "R",
   "pygments_lexer": "r",
   "version": "3.6.1"
  }
 },
 "nbformat": 4,
 "nbformat_minor": 4
}
