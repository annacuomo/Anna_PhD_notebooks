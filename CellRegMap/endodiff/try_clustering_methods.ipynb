{
 "cells": [
  {
   "cell_type": "code",
   "execution_count": 6,
   "metadata": {},
   "outputs": [],
   "source": [
    "# pip install scanpy"
   ]
  },
  {
   "cell_type": "code",
   "execution_count": 7,
   "metadata": {},
   "outputs": [],
   "source": [
    "# pip install leidenalg"
   ]
  },
  {
   "cell_type": "code",
   "execution_count": 22,
   "metadata": {},
   "outputs": [],
   "source": [
    "import pandas as pd\n",
    "from random import sample\n",
    "from math import ceil"
   ]
  },
  {
   "cell_type": "code",
   "execution_count": 23,
   "metadata": {},
   "outputs": [
    {
     "data": {
      "text/html": [
       "<div>\n",
       "<style scoped>\n",
       "    .dataframe tbody tr th:only-of-type {\n",
       "        vertical-align: middle;\n",
       "    }\n",
       "\n",
       "    .dataframe tbody tr th {\n",
       "        vertical-align: top;\n",
       "    }\n",
       "\n",
       "    .dataframe thead th {\n",
       "        text-align: right;\n",
       "    }\n",
       "</style>\n",
       "<table border=\"1\" class=\"dataframe\">\n",
       "  <thead>\n",
       "    <tr style=\"text-align: right;\">\n",
       "      <th></th>\n",
       "      <th>ENSG00000176125_UFSP1-7_100492322_C_T</th>\n",
       "      <th>ENSG00000175106_TVP23C-17_15478507_G_C</th>\n",
       "      <th>ENSG00000147677_EIF3H-8_117688031_G_A</th>\n",
       "      <th>ENSG00000204389_HSPA1A-6_31761865_T_C</th>\n",
       "      <th>ENSG00000204389_HSPA1A-6_31785228_G_C</th>\n",
       "      <th>ENSG00000116731_PRDM2-1_14235022_G_A</th>\n",
       "      <th>ENSG00000203485_INF2-14_105216381_C_T</th>\n",
       "      <th>ENSG00000091317_CMTM6-3_32523777_T_C</th>\n",
       "      <th>ENSG00000126524_SBDS-7_66440718_A_G</th>\n",
       "      <th>ENSG00000144134_RABL2A-2_114406459_G_A</th>\n",
       "      <th>...</th>\n",
       "      <th>ENSG00000206535_LNP1-3_100055273_G_A</th>\n",
       "      <th>ENSG00000206535_LNP1-3_100060779_C_T</th>\n",
       "      <th>ENSG00000206535_LNP1-3_100181999_G_T</th>\n",
       "      <th>ENSG00000143971_ETAA1-2_67712034_T_G</th>\n",
       "      <th>ENSG00000054277_OPN3-1_241892235_T_C</th>\n",
       "      <th>ENSG00000069667_RORA-15_61467734_T_C</th>\n",
       "      <th>ENSG00000173894_CBX2-17_77814533_G_A</th>\n",
       "      <th>ENSG00000164930_FZD6-8_104312432_A_G</th>\n",
       "      <th>ENSG00000164930_FZD6-8_104317011_A_G</th>\n",
       "      <th>ENSG00000164930_FZD6-8_104345778_A_G</th>\n",
       "    </tr>\n",
       "  </thead>\n",
       "  <tbody>\n",
       "    <tr>\n",
       "      <th>21843_1#99</th>\n",
       "      <td>-0.092291</td>\n",
       "      <td>-0.020901</td>\n",
       "      <td>-0.054118</td>\n",
       "      <td>-0.617919</td>\n",
       "      <td>-0.654549</td>\n",
       "      <td>-0.013270</td>\n",
       "      <td>-0.185045</td>\n",
       "      <td>0.150489</td>\n",
       "      <td>-0.064830</td>\n",
       "      <td>0.041793</td>\n",
       "      <td>...</td>\n",
       "      <td>-0.039099</td>\n",
       "      <td>-0.142666</td>\n",
       "      <td>-0.091894</td>\n",
       "      <td>-0.094953</td>\n",
       "      <td>-0.080701</td>\n",
       "      <td>-0.067996</td>\n",
       "      <td>0.026881</td>\n",
       "      <td>-0.202234</td>\n",
       "      <td>-0.197769</td>\n",
       "      <td>-0.203371</td>\n",
       "    </tr>\n",
       "    <tr>\n",
       "      <th>24229_5#47</th>\n",
       "      <td>-0.094179</td>\n",
       "      <td>-0.418200</td>\n",
       "      <td>0.039307</td>\n",
       "      <td>-1.340217</td>\n",
       "      <td>-1.205610</td>\n",
       "      <td>-0.028206</td>\n",
       "      <td>-0.306860</td>\n",
       "      <td>0.050959</td>\n",
       "      <td>-0.089726</td>\n",
       "      <td>0.208231</td>\n",
       "      <td>...</td>\n",
       "      <td>-0.061028</td>\n",
       "      <td>-0.100131</td>\n",
       "      <td>-0.267392</td>\n",
       "      <td>-0.111616</td>\n",
       "      <td>-0.015448</td>\n",
       "      <td>-0.110905</td>\n",
       "      <td>0.030413</td>\n",
       "      <td>-0.006998</td>\n",
       "      <td>0.006067</td>\n",
       "      <td>-0.068799</td>\n",
       "    </tr>\n",
       "    <tr>\n",
       "      <th>25535_2#136</th>\n",
       "      <td>-0.080449</td>\n",
       "      <td>-0.044425</td>\n",
       "      <td>-0.047899</td>\n",
       "      <td>-0.879945</td>\n",
       "      <td>-0.889774</td>\n",
       "      <td>0.008512</td>\n",
       "      <td>-0.163487</td>\n",
       "      <td>0.146643</td>\n",
       "      <td>-0.030945</td>\n",
       "      <td>0.042243</td>\n",
       "      <td>...</td>\n",
       "      <td>-0.106094</td>\n",
       "      <td>-0.148331</td>\n",
       "      <td>-0.133007</td>\n",
       "      <td>-0.088487</td>\n",
       "      <td>-0.088059</td>\n",
       "      <td>-0.050601</td>\n",
       "      <td>0.009392</td>\n",
       "      <td>-0.249793</td>\n",
       "      <td>-0.244262</td>\n",
       "      <td>-0.224866</td>\n",
       "    </tr>\n",
       "    <tr>\n",
       "      <th>23794_1#233</th>\n",
       "      <td>-0.091711</td>\n",
       "      <td>-0.042417</td>\n",
       "      <td>-0.120662</td>\n",
       "      <td>-0.429285</td>\n",
       "      <td>-0.449291</td>\n",
       "      <td>-0.049670</td>\n",
       "      <td>-0.173315</td>\n",
       "      <td>0.185699</td>\n",
       "      <td>-0.005271</td>\n",
       "      <td>0.036158</td>\n",
       "      <td>...</td>\n",
       "      <td>-0.139418</td>\n",
       "      <td>-0.191834</td>\n",
       "      <td>-0.090162</td>\n",
       "      <td>-0.129926</td>\n",
       "      <td>-0.137495</td>\n",
       "      <td>-0.043284</td>\n",
       "      <td>0.043521</td>\n",
       "      <td>-0.317619</td>\n",
       "      <td>-0.326827</td>\n",
       "      <td>-0.264026</td>\n",
       "    </tr>\n",
       "    <tr>\n",
       "      <th>25475_3#27</th>\n",
       "      <td>-0.089183</td>\n",
       "      <td>-0.029810</td>\n",
       "      <td>-0.100041</td>\n",
       "      <td>-0.405588</td>\n",
       "      <td>-0.401307</td>\n",
       "      <td>-0.033448</td>\n",
       "      <td>-0.225870</td>\n",
       "      <td>0.170078</td>\n",
       "      <td>-0.069707</td>\n",
       "      <td>0.007676</td>\n",
       "      <td>...</td>\n",
       "      <td>-0.225352</td>\n",
       "      <td>-0.196503</td>\n",
       "      <td>-0.158505</td>\n",
       "      <td>-0.112523</td>\n",
       "      <td>-0.072948</td>\n",
       "      <td>-0.041999</td>\n",
       "      <td>0.088213</td>\n",
       "      <td>-0.265396</td>\n",
       "      <td>-0.300596</td>\n",
       "      <td>-0.242712</td>\n",
       "    </tr>\n",
       "  </tbody>\n",
       "</table>\n",
       "<p>5 rows × 4062 columns</p>\n",
       "</div>"
      ],
      "text/plain": [
       "             ENSG00000176125_UFSP1-7_100492322_C_T  \\\n",
       "21843_1#99                               -0.092291   \n",
       "24229_5#47                               -0.094179   \n",
       "25535_2#136                              -0.080449   \n",
       "23794_1#233                              -0.091711   \n",
       "25475_3#27                               -0.089183   \n",
       "\n",
       "             ENSG00000175106_TVP23C-17_15478507_G_C  \\\n",
       "21843_1#99                                -0.020901   \n",
       "24229_5#47                                -0.418200   \n",
       "25535_2#136                               -0.044425   \n",
       "23794_1#233                               -0.042417   \n",
       "25475_3#27                                -0.029810   \n",
       "\n",
       "             ENSG00000147677_EIF3H-8_117688031_G_A  \\\n",
       "21843_1#99                               -0.054118   \n",
       "24229_5#47                                0.039307   \n",
       "25535_2#136                              -0.047899   \n",
       "23794_1#233                              -0.120662   \n",
       "25475_3#27                               -0.100041   \n",
       "\n",
       "             ENSG00000204389_HSPA1A-6_31761865_T_C  \\\n",
       "21843_1#99                               -0.617919   \n",
       "24229_5#47                               -1.340217   \n",
       "25535_2#136                              -0.879945   \n",
       "23794_1#233                              -0.429285   \n",
       "25475_3#27                               -0.405588   \n",
       "\n",
       "             ENSG00000204389_HSPA1A-6_31785228_G_C  \\\n",
       "21843_1#99                               -0.654549   \n",
       "24229_5#47                               -1.205610   \n",
       "25535_2#136                              -0.889774   \n",
       "23794_1#233                              -0.449291   \n",
       "25475_3#27                               -0.401307   \n",
       "\n",
       "             ENSG00000116731_PRDM2-1_14235022_G_A  \\\n",
       "21843_1#99                              -0.013270   \n",
       "24229_5#47                              -0.028206   \n",
       "25535_2#136                              0.008512   \n",
       "23794_1#233                             -0.049670   \n",
       "25475_3#27                              -0.033448   \n",
       "\n",
       "             ENSG00000203485_INF2-14_105216381_C_T  \\\n",
       "21843_1#99                               -0.185045   \n",
       "24229_5#47                               -0.306860   \n",
       "25535_2#136                              -0.163487   \n",
       "23794_1#233                              -0.173315   \n",
       "25475_3#27                               -0.225870   \n",
       "\n",
       "             ENSG00000091317_CMTM6-3_32523777_T_C  \\\n",
       "21843_1#99                               0.150489   \n",
       "24229_5#47                               0.050959   \n",
       "25535_2#136                              0.146643   \n",
       "23794_1#233                              0.185699   \n",
       "25475_3#27                               0.170078   \n",
       "\n",
       "             ENSG00000126524_SBDS-7_66440718_A_G  \\\n",
       "21843_1#99                             -0.064830   \n",
       "24229_5#47                             -0.089726   \n",
       "25535_2#136                            -0.030945   \n",
       "23794_1#233                            -0.005271   \n",
       "25475_3#27                             -0.069707   \n",
       "\n",
       "             ENSG00000144134_RABL2A-2_114406459_G_A  ...  \\\n",
       "21843_1#99                                 0.041793  ...   \n",
       "24229_5#47                                 0.208231  ...   \n",
       "25535_2#136                                0.042243  ...   \n",
       "23794_1#233                                0.036158  ...   \n",
       "25475_3#27                                 0.007676  ...   \n",
       "\n",
       "             ENSG00000206535_LNP1-3_100055273_G_A  \\\n",
       "21843_1#99                              -0.039099   \n",
       "24229_5#47                              -0.061028   \n",
       "25535_2#136                             -0.106094   \n",
       "23794_1#233                             -0.139418   \n",
       "25475_3#27                              -0.225352   \n",
       "\n",
       "             ENSG00000206535_LNP1-3_100060779_C_T  \\\n",
       "21843_1#99                              -0.142666   \n",
       "24229_5#47                              -0.100131   \n",
       "25535_2#136                             -0.148331   \n",
       "23794_1#233                             -0.191834   \n",
       "25475_3#27                              -0.196503   \n",
       "\n",
       "             ENSG00000206535_LNP1-3_100181999_G_T  \\\n",
       "21843_1#99                              -0.091894   \n",
       "24229_5#47                              -0.267392   \n",
       "25535_2#136                             -0.133007   \n",
       "23794_1#233                             -0.090162   \n",
       "25475_3#27                              -0.158505   \n",
       "\n",
       "             ENSG00000143971_ETAA1-2_67712034_T_G  \\\n",
       "21843_1#99                              -0.094953   \n",
       "24229_5#47                              -0.111616   \n",
       "25535_2#136                             -0.088487   \n",
       "23794_1#233                             -0.129926   \n",
       "25475_3#27                              -0.112523   \n",
       "\n",
       "             ENSG00000054277_OPN3-1_241892235_T_C  \\\n",
       "21843_1#99                              -0.080701   \n",
       "24229_5#47                              -0.015448   \n",
       "25535_2#136                             -0.088059   \n",
       "23794_1#233                             -0.137495   \n",
       "25475_3#27                              -0.072948   \n",
       "\n",
       "             ENSG00000069667_RORA-15_61467734_T_C  \\\n",
       "21843_1#99                              -0.067996   \n",
       "24229_5#47                              -0.110905   \n",
       "25535_2#136                             -0.050601   \n",
       "23794_1#233                             -0.043284   \n",
       "25475_3#27                              -0.041999   \n",
       "\n",
       "             ENSG00000173894_CBX2-17_77814533_G_A  \\\n",
       "21843_1#99                               0.026881   \n",
       "24229_5#47                               0.030413   \n",
       "25535_2#136                              0.009392   \n",
       "23794_1#233                              0.043521   \n",
       "25475_3#27                               0.088213   \n",
       "\n",
       "             ENSG00000164930_FZD6-8_104312432_A_G  \\\n",
       "21843_1#99                              -0.202234   \n",
       "24229_5#47                              -0.006998   \n",
       "25535_2#136                             -0.249793   \n",
       "23794_1#233                             -0.317619   \n",
       "25475_3#27                              -0.265396   \n",
       "\n",
       "             ENSG00000164930_FZD6-8_104317011_A_G  \\\n",
       "21843_1#99                              -0.197769   \n",
       "24229_5#47                               0.006067   \n",
       "25535_2#136                             -0.244262   \n",
       "23794_1#233                             -0.326827   \n",
       "25475_3#27                              -0.300596   \n",
       "\n",
       "             ENSG00000164930_FZD6-8_104345778_A_G  \n",
       "21843_1#99                              -0.203371  \n",
       "24229_5#47                              -0.068799  \n",
       "25535_2#136                             -0.224866  \n",
       "23794_1#233                             -0.264026  \n",
       "25475_3#27                              -0.242712  \n",
       "\n",
       "[5 rows x 4062 columns]"
      ]
     },
     "execution_count": 23,
     "metadata": {},
     "output_type": "execute_result"
    }
   ],
   "source": [
    "filename = \"/nfs/leia/research/stegle/acuomo/singlecell_endodiff/data/pipeline_snakemakes/output_structlmm_alldays_10PCs/eqtl_tot_genetic_effect_all.txt\"\n",
    "df = pd.read_csv(filename, sep = \"\\t\", index_col=0)\n",
    "df.head()"
   ]
  },
  {
   "cell_type": "code",
   "execution_count": 25,
   "metadata": {},
   "outputs": [
    {
     "data": {
      "text/plain": [
       "(3592, 4062)"
      ]
     },
     "execution_count": 25,
     "metadata": {},
     "output_type": "execute_result"
    }
   ],
   "source": [
    "cells = df.index.values\n",
    "cells = sample(list(cells), k = ceil(len(cells)*0.1))\n",
    "df = df[df.index.isin(cells)]\n",
    "df.shape"
   ]
  },
  {
   "cell_type": "code",
   "execution_count": 26,
   "metadata": {},
   "outputs": [],
   "source": [
    "from sklearn.cluster import SpectralClustering"
   ]
  },
  {
   "cell_type": "code",
   "execution_count": 27,
   "metadata": {},
   "outputs": [
    {
     "data": {
      "text/plain": [
       "array([0, 0, 0, ..., 0, 0, 0], dtype=int32)"
      ]
     },
     "execution_count": 27,
     "metadata": {},
     "output_type": "execute_result"
    }
   ],
   "source": [
    "sc = SpectralClustering(10)\n",
    "clustering = sc.fit_predict(df.to_numpy()) "
   ]
  },
  {
   "cell_type": "code",
   "execution_count": 29,
   "metadata": {},
   "outputs": [],
   "source": [
    "from sklearn.cluster import AffinityPropagation"
   ]
  },
  {
   "cell_type": "code",
   "execution_count": 30,
   "metadata": {},
   "outputs": [],
   "source": [
    "clustering = AffinityPropagation(random_state=5).fit(df.to_numpy())"
   ]
  },
  {
   "cell_type": "code",
   "execution_count": 31,
   "metadata": {},
   "outputs": [
    {
     "data": {
      "text/plain": [
       "AffinityPropagation(random_state=5)"
      ]
     },
     "execution_count": 31,
     "metadata": {},
     "output_type": "execute_result"
    }
   ],
   "source": [
    "clustering"
   ]
  },
  {
   "cell_type": "code",
   "execution_count": null,
   "metadata": {},
   "outputs": [],
   "source": [
    "# import leidenalg as la\n",
    "# from scanpy import _utils"
   ]
  },
  {
   "cell_type": "code",
   "execution_count": 2,
   "metadata": {},
   "outputs": [],
   "source": [
    "adjacency = "
   ]
  },
  {
   "cell_type": "code",
   "execution_count": 28,
   "metadata": {},
   "outputs": [],
   "source": [
    "G = _utils.get_igraph_from_adjacency(adjacency, directed=directed)\n",
    "G"
   ]
  },
  {
   "cell_type": "code",
   "execution_count": null,
   "metadata": {},
   "outputs": [],
   "source": [
    "part = leidenalg.find_partition(G, la.ModularityVertexPartition)"
   ]
  }
 ],
 "metadata": {
  "kernelspec": {
   "display_name": "Python (spatialde)",
   "language": "python",
   "name": "spatialde"
  },
  "language_info": {
   "codemirror_mode": {
    "name": "ipython",
    "version": 3
   },
   "file_extension": ".py",
   "mimetype": "text/x-python",
   "name": "python",
   "nbconvert_exporter": "python",
   "pygments_lexer": "ipython3",
   "version": "3.7.9"
  }
 },
 "nbformat": 4,
 "nbformat_minor": 4
}
