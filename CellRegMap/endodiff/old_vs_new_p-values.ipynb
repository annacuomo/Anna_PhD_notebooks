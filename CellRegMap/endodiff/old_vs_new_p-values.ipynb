{
 "cells": [
  {
   "cell_type": "code",
   "execution_count": 25,
   "metadata": {},
   "outputs": [],
   "source": [
    "library(dplyr)\n",
    "library(ggplot2)\n",
    "library(qvalue)"
   ]
  },
  {
   "cell_type": "code",
   "execution_count": 6,
   "metadata": {},
   "outputs": [],
   "source": [
    "### old results\n",
    "## MOFA (1:10)\n",
    "## background with all 10 factors always\n",
    "## y_gauss, E_gauss"
   ]
  },
  {
   "cell_type": "code",
   "execution_count": 7,
   "metadata": {},
   "outputs": [],
   "source": [
    "# script: /hps/nobackup/stegle/users/acuomo/all_scripts/struct_LMM2/sc_endodiff/new/endodiff.py"
   ]
  },
  {
   "cell_type": "code",
   "execution_count": 8,
   "metadata": {},
   "outputs": [],
   "source": [
    "folder = \"/hps/nobackup/stegle/users/acuomo/all_scripts/struct_LMM2/sc_endodiff/new/MOFA/\""
   ]
  },
  {
   "cell_type": "code",
   "execution_count": 9,
   "metadata": {},
   "outputs": [
    {
     "data": {
      "text/html": [
       "4410"
      ],
      "text/latex": [
       "4410"
      ],
      "text/markdown": [
       "4410"
      ],
      "text/plain": [
       "[1] 4410"
      ]
     },
     "metadata": {},
     "output_type": "display_data"
    },
    {
     "data": {
      "text/html": [
       "<table>\n",
       "<thead><tr><th></th><th scope=col>gene</th><th scope=col>n_snps</th><th scope=col>chrom</th><th scope=col>pv_raw</th><th scope=col>snpID</th><th scope=col>pv</th><th scope=col>qv</th></tr></thead>\n",
       "<tbody>\n",
       "\t<tr><th scope=row>0</th><td>ENSG00000140905_GCSH </td><td>1                    </td><td>16                   </td><td>0.21847265           </td><td>16_81118466_A_G      </td><td>0.21847265           </td><td>0.75329505           </td></tr>\n",
       "\t<tr><th scope=row>1</th><td>ENSG00000011523_CEP68</td><td>2                    </td><td> 2                   </td><td>0.00126596           </td><td>2_65279223_C_T       </td><td>0.00253192           </td><td>0.05785372           </td></tr>\n",
       "</tbody>\n",
       "</table>\n"
      ],
      "text/latex": [
       "\\begin{tabular}{r|lllllll}\n",
       "  & gene & n\\_snps & chrom & pv\\_raw & snpID & pv & qv\\\\\n",
       "\\hline\n",
       "\t0 & ENSG00000140905\\_GCSH  & 1                       & 16                      & 0.21847265              & 16\\_81118466\\_A\\_G   & 0.21847265              & 0.75329505             \\\\\n",
       "\t1 & ENSG00000011523\\_CEP68 & 2                       &  2                      & 0.00126596              & 2\\_65279223\\_C\\_T    & 0.00253192              & 0.05785372             \\\\\n",
       "\\end{tabular}\n"
      ],
      "text/markdown": [
       "\n",
       "| <!--/--> | gene | n_snps | chrom | pv_raw | snpID | pv | qv |\n",
       "|---|---|---|---|---|---|---|---|\n",
       "| 0 | ENSG00000140905_GCSH  | 1                     | 16                    | 0.21847265            | 16_81118466_A_G       | 0.21847265            | 0.75329505            |\n",
       "| 1 | ENSG00000011523_CEP68 | 2                     |  2                    | 0.00126596            | 2_65279223_C_T        | 0.00253192            | 0.05785372            |\n",
       "\n"
      ],
      "text/plain": [
       "  gene                  n_snps chrom pv_raw     snpID           pv        \n",
       "0 ENSG00000140905_GCSH  1      16    0.21847265 16_81118466_A_G 0.21847265\n",
       "1 ENSG00000011523_CEP68 2       2    0.00126596 2_65279223_C_T  0.00253192\n",
       "  qv        \n",
       "0 0.75329505\n",
       "1 0.05785372"
      ]
     },
     "metadata": {},
     "output_type": "display_data"
    }
   ],
   "source": [
    "summary_filename = paste0(folder, \"MOFA1/summary_endo_eqtl.csv\")\n",
    "df0 = read.csv(summary_filename, row.names = 1)\n",
    "df0$qv = qvalue(df0$pv, pi0 = 1)$qvalue\n",
    "nrow(df0)\n",
    "head(df0,2)"
   ]
  },
  {
   "cell_type": "code",
   "execution_count": 10,
   "metadata": {},
   "outputs": [
    {
     "data": {
      "text/html": [
       "4470"
      ],
      "text/latex": [
       "4470"
      ],
      "text/markdown": [
       "4470"
      ],
      "text/plain": [
       "[1] 4470"
      ]
     },
     "metadata": {},
     "output_type": "display_data"
    },
    {
     "data": {
      "text/html": [
       "<table>\n",
       "<thead><tr><th></th><th scope=col>gene</th><th scope=col>n_snps</th><th scope=col>chrom</th><th scope=col>pv_raw</th><th scope=col>snpID</th><th scope=col>pv</th><th scope=col>qv</th></tr></thead>\n",
       "<tbody>\n",
       "\t<tr><th scope=row>0</th><td>ENSG00000140905_GCSH </td><td>1                    </td><td>16                   </td><td>0.005333072          </td><td>16_81118466_A_G      </td><td>0.005333072          </td><td>0.04905109           </td></tr>\n",
       "\t<tr><th scope=row>1</th><td>ENSG00000011523_CEP68</td><td>2                    </td><td> 2                   </td><td>0.062120960          </td><td>2_65279223_C_T       </td><td>0.124241919          </td><td>0.43319920           </td></tr>\n",
       "</tbody>\n",
       "</table>\n"
      ],
      "text/latex": [
       "\\begin{tabular}{r|lllllll}\n",
       "  & gene & n\\_snps & chrom & pv\\_raw & snpID & pv & qv\\\\\n",
       "\\hline\n",
       "\t0 & ENSG00000140905\\_GCSH  & 1                       & 16                      & 0.005333072             & 16\\_81118466\\_A\\_G   & 0.005333072             & 0.04905109             \\\\\n",
       "\t1 & ENSG00000011523\\_CEP68 & 2                       &  2                      & 0.062120960             & 2\\_65279223\\_C\\_T    & 0.124241919             & 0.43319920             \\\\\n",
       "\\end{tabular}\n"
      ],
      "text/markdown": [
       "\n",
       "| <!--/--> | gene | n_snps | chrom | pv_raw | snpID | pv | qv |\n",
       "|---|---|---|---|---|---|---|---|\n",
       "| 0 | ENSG00000140905_GCSH  | 1                     | 16                    | 0.005333072           | 16_81118466_A_G       | 0.005333072           | 0.04905109            |\n",
       "| 1 | ENSG00000011523_CEP68 | 2                     |  2                    | 0.062120960           | 2_65279223_C_T        | 0.124241919           | 0.43319920            |\n",
       "\n"
      ],
      "text/plain": [
       "  gene                  n_snps chrom pv_raw      snpID           pv         \n",
       "0 ENSG00000140905_GCSH  1      16    0.005333072 16_81118466_A_G 0.005333072\n",
       "1 ENSG00000011523_CEP68 2       2    0.062120960 2_65279223_C_T  0.124241919\n",
       "  qv        \n",
       "0 0.04905109\n",
       "1 0.43319920"
      ]
     },
     "metadata": {},
     "output_type": "display_data"
    }
   ],
   "source": [
    "summary_filename = paste0(folder, \"MOFA10/summary_endo_eqtl.csv\")\n",
    "df1 = read.csv(summary_filename, row.names = 1)\n",
    "df1$qv = qvalue(df1$pv, pi0 = 1)$qvalue\n",
    "nrow(df1)\n",
    "head(df1,2)"
   ]
  },
  {
   "cell_type": "code",
   "execution_count": 11,
   "metadata": {},
   "outputs": [],
   "source": [
    "### new results\n",
    "## PCA (1:10)\n",
    "## background same factors as tested (1:1 or 10:10)\n",
    "## y_gauss, E_gauss"
   ]
  },
  {
   "cell_type": "code",
   "execution_count": 12,
   "metadata": {},
   "outputs": [],
   "source": [
    "# script: /hps/nobackup/stegle/users/acuomo/all_scripts/struct_LMM2/sc_endodiff/April2021/endodiff_PCA.py"
   ]
  },
  {
   "cell_type": "code",
   "execution_count": 13,
   "metadata": {},
   "outputs": [],
   "source": [
    "folder = \"/hps/nobackup/stegle/users/acuomo/all_scripts/struct_LMM2/sc_endodiff/April2021/PCA/\""
   ]
  },
  {
   "cell_type": "code",
   "execution_count": 14,
   "metadata": {},
   "outputs": [
    {
     "data": {
      "text/html": [
       "2619"
      ],
      "text/latex": [
       "2619"
      ],
      "text/markdown": [
       "2619"
      ],
      "text/plain": [
       "[1] 2619"
      ]
     },
     "metadata": {},
     "output_type": "display_data"
    },
    {
     "data": {
      "text/html": [
       "<table>\n",
       "<thead><tr><th></th><th scope=col>gene</th><th scope=col>n_snps</th><th scope=col>chrom</th><th scope=col>pv_raw</th><th scope=col>snpID</th><th scope=col>pv</th><th scope=col>qv</th></tr></thead>\n",
       "<tbody>\n",
       "\t<tr><th scope=row>0</th><td>ENSG00000011523_CEP68</td><td>2                    </td><td>2                    </td><td>0.0006375662         </td><td>2_65279223_C_T       </td><td>0.001275132          </td><td>0.007105472          </td></tr>\n",
       "\t<tr><th scope=row>1</th><td>ENSG00000011523_CEP68</td><td>2                    </td><td>2                    </td><td>0.0013394110         </td><td>2_65290842_C_A       </td><td>0.002678822          </td><td>0.012802618          </td></tr>\n",
       "</tbody>\n",
       "</table>\n"
      ],
      "text/latex": [
       "\\begin{tabular}{r|lllllll}\n",
       "  & gene & n\\_snps & chrom & pv\\_raw & snpID & pv & qv\\\\\n",
       "\\hline\n",
       "\t0 & ENSG00000011523\\_CEP68 & 2                       & 2                       & 0.0006375662            & 2\\_65279223\\_C\\_T    & 0.001275132             & 0.007105472            \\\\\n",
       "\t1 & ENSG00000011523\\_CEP68 & 2                       & 2                       & 0.0013394110            & 2\\_65290842\\_C\\_A    & 0.002678822             & 0.012802618            \\\\\n",
       "\\end{tabular}\n"
      ],
      "text/markdown": [
       "\n",
       "| <!--/--> | gene | n_snps | chrom | pv_raw | snpID | pv | qv |\n",
       "|---|---|---|---|---|---|---|---|\n",
       "| 0 | ENSG00000011523_CEP68 | 2                     | 2                     | 0.0006375662          | 2_65279223_C_T        | 0.001275132           | 0.007105472           |\n",
       "| 1 | ENSG00000011523_CEP68 | 2                     | 2                     | 0.0013394110          | 2_65290842_C_A        | 0.002678822           | 0.012802618           |\n",
       "\n"
      ],
      "text/plain": [
       "  gene                  n_snps chrom pv_raw       snpID          pv         \n",
       "0 ENSG00000011523_CEP68 2      2     0.0006375662 2_65279223_C_T 0.001275132\n",
       "1 ENSG00000011523_CEP68 2      2     0.0013394110 2_65290842_C_A 0.002678822\n",
       "  qv         \n",
       "0 0.007105472\n",
       "1 0.012802618"
      ]
     },
     "metadata": {},
     "output_type": "display_data"
    }
   ],
   "source": [
    "summary_filename = paste0(folder, \"PC1/summary.csv\")\n",
    "df2 = read.csv(summary_filename, row.names = 1)\n",
    "df2$qv = qvalue(df2$pv, pi0 = 1)$qvalue\n",
    "nrow(df2)\n",
    "head(df2,2)"
   ]
  },
  {
   "cell_type": "code",
   "execution_count": 15,
   "metadata": {},
   "outputs": [
    {
     "data": {
      "text/html": [
       "2250"
      ],
      "text/latex": [
       "2250"
      ],
      "text/markdown": [
       "2250"
      ],
      "text/plain": [
       "[1] 2250"
      ]
     },
     "metadata": {},
     "output_type": "display_data"
    },
    {
     "data": {
      "text/html": [
       "<table>\n",
       "<thead><tr><th></th><th scope=col>gene</th><th scope=col>n_snps</th><th scope=col>chrom</th><th scope=col>pv_raw</th><th scope=col>snpID</th><th scope=col>pv</th><th scope=col>qv</th></tr></thead>\n",
       "<tbody>\n",
       "\t<tr><th scope=row>0</th><td>ENSG00000011523_CEP68</td><td>2                    </td><td>2                    </td><td>0.30551608           </td><td>2_65279223_C_T       </td><td>0.6110322            </td><td>0.8317135            </td></tr>\n",
       "\t<tr><th scope=row>1</th><td>ENSG00000011523_CEP68</td><td>2                    </td><td>2                    </td><td>0.09095796           </td><td>2_65290842_C_A       </td><td>0.1819159            </td><td>0.3612629            </td></tr>\n",
       "</tbody>\n",
       "</table>\n"
      ],
      "text/latex": [
       "\\begin{tabular}{r|lllllll}\n",
       "  & gene & n\\_snps & chrom & pv\\_raw & snpID & pv & qv\\\\\n",
       "\\hline\n",
       "\t0 & ENSG00000011523\\_CEP68 & 2                       & 2                       & 0.30551608              & 2\\_65279223\\_C\\_T    & 0.6110322               & 0.8317135              \\\\\n",
       "\t1 & ENSG00000011523\\_CEP68 & 2                       & 2                       & 0.09095796              & 2\\_65290842\\_C\\_A    & 0.1819159               & 0.3612629              \\\\\n",
       "\\end{tabular}\n"
      ],
      "text/markdown": [
       "\n",
       "| <!--/--> | gene | n_snps | chrom | pv_raw | snpID | pv | qv |\n",
       "|---|---|---|---|---|---|---|---|\n",
       "| 0 | ENSG00000011523_CEP68 | 2                     | 2                     | 0.30551608            | 2_65279223_C_T        | 0.6110322             | 0.8317135             |\n",
       "| 1 | ENSG00000011523_CEP68 | 2                     | 2                     | 0.09095796            | 2_65290842_C_A        | 0.1819159             | 0.3612629             |\n",
       "\n"
      ],
      "text/plain": [
       "  gene                  n_snps chrom pv_raw     snpID          pv       \n",
       "0 ENSG00000011523_CEP68 2      2     0.30551608 2_65279223_C_T 0.6110322\n",
       "1 ENSG00000011523_CEP68 2      2     0.09095796 2_65290842_C_A 0.1819159\n",
       "  qv       \n",
       "0 0.8317135\n",
       "1 0.3612629"
      ]
     },
     "metadata": {},
     "output_type": "display_data"
    }
   ],
   "source": [
    "summary_filename = paste0(folder, \"PC10/summary.csv\")\n",
    "df3 = read.csv(summary_filename, row.names = 1)\n",
    "df3$qv = qvalue(df3$pv, pi0 = 1)$qvalue\n",
    "nrow(df3)\n",
    "head(df3,2)"
   ]
  },
  {
   "cell_type": "code",
   "execution_count": null,
   "metadata": {},
   "outputs": [],
   "source": []
  },
  {
   "cell_type": "code",
   "execution_count": 16,
   "metadata": {},
   "outputs": [
    {
     "name": "stderr",
     "output_type": "stream",
     "text": [
      "Warning message:\n",
      "“Column `snpID` joining factors with different levels, coercing to character vector”Warning message:\n",
      "“Column `gene` joining factors with different levels, coercing to character vector”"
     ]
    },
    {
     "data": {
      "text/html": [
       "2619"
      ],
      "text/latex": [
       "2619"
      ],
      "text/markdown": [
       "2619"
      ],
      "text/plain": [
       "[1] 2619"
      ]
     },
     "metadata": {},
     "output_type": "display_data"
    },
    {
     "data": {
      "text/html": [
       "<table>\n",
       "<thead><tr><th scope=col>gene</th><th scope=col>n_snps</th><th scope=col>chrom</th><th scope=col>pv_raw.old</th><th scope=col>snpID</th><th scope=col>pv.old</th><th scope=col>qv.old</th><th scope=col>pv_raw.new</th><th scope=col>pv.new</th><th scope=col>qv.new</th></tr></thead>\n",
       "<tbody>\n",
       "\t<tr><td>ENSG00000011523_CEP68</td><td>2                    </td><td>2                    </td><td>0.00126596           </td><td>2_65279223_C_T       </td><td>0.00253192           </td><td>0.05785372           </td><td>0.0006375662         </td><td>0.001275132          </td><td>0.007105472          </td></tr>\n",
       "\t<tr><td>ENSG00000011523_CEP68</td><td>2                    </td><td>2                    </td><td>0.01527360           </td><td>2_65290842_C_A       </td><td>0.03054720           </td><td>0.28970571           </td><td>0.0013394110         </td><td>0.002678822          </td><td>0.012802618          </td></tr>\n",
       "</tbody>\n",
       "</table>\n"
      ],
      "text/latex": [
       "\\begin{tabular}{r|llllllllll}\n",
       " gene & n\\_snps & chrom & pv\\_raw.old & snpID & pv.old & qv.old & pv\\_raw.new & pv.new & qv.new\\\\\n",
       "\\hline\n",
       "\t ENSG00000011523\\_CEP68 & 2                       & 2                       & 0.00126596              & 2\\_65279223\\_C\\_T    & 0.00253192              & 0.05785372              & 0.0006375662            & 0.001275132             & 0.007105472            \\\\\n",
       "\t ENSG00000011523\\_CEP68 & 2                       & 2                       & 0.01527360              & 2\\_65290842\\_C\\_A    & 0.03054720              & 0.28970571              & 0.0013394110            & 0.002678822             & 0.012802618            \\\\\n",
       "\\end{tabular}\n"
      ],
      "text/markdown": [
       "\n",
       "| gene | n_snps | chrom | pv_raw.old | snpID | pv.old | qv.old | pv_raw.new | pv.new | qv.new |\n",
       "|---|---|---|---|---|---|---|---|---|---|\n",
       "| ENSG00000011523_CEP68 | 2                     | 2                     | 0.00126596            | 2_65279223_C_T        | 0.00253192            | 0.05785372            | 0.0006375662          | 0.001275132           | 0.007105472           |\n",
       "| ENSG00000011523_CEP68 | 2                     | 2                     | 0.01527360            | 2_65290842_C_A        | 0.03054720            | 0.28970571            | 0.0013394110          | 0.002678822           | 0.012802618           |\n",
       "\n"
      ],
      "text/plain": [
       "  gene                  n_snps chrom pv_raw.old snpID          pv.old    \n",
       "1 ENSG00000011523_CEP68 2      2     0.00126596 2_65279223_C_T 0.00253192\n",
       "2 ENSG00000011523_CEP68 2      2     0.01527360 2_65290842_C_A 0.03054720\n",
       "  qv.old     pv_raw.new   pv.new      qv.new     \n",
       "1 0.05785372 0.0006375662 0.001275132 0.007105472\n",
       "2 0.28970571 0.0013394110 0.002678822 0.012802618"
      ]
     },
     "metadata": {},
     "output_type": "display_data"
    }
   ],
   "source": [
    "# compare 1 factor, old vs new\n",
    "one = inner_join(df0, df2, by = c(\"snpID\",\"gene\",\"chrom\",\"n_snps\"), suffix = c(\".old\",\".new\"))\n",
    "nrow(one)\n",
    "head(one,2)"
   ]
  },
  {
   "cell_type": "code",
   "execution_count": 17,
   "metadata": {},
   "outputs": [
    {
     "data": {
      "image/png": "[encoded data removed]",
      "text/plain": [
       "plot without title"
      ]
     },
     "metadata": {},
     "output_type": "display_data"
    }
   ],
   "source": [
    "p = ggplot(one, aes(x = -log10(pv_raw.old), y = -log10(pv_raw.new))) + geom_point(alpha = 0.6) \n",
    "p = p + geom_abline() + theme_bw()\n",
    "p = p + geom_vline(xintercept = -log10(0.05), alpha = 0.5) + geom_hline(yintercept = -log10(0.05), alpha = 0.5)\n",
    "m = -log10(min(min(one$pv_raw.old),min(one$pv_raw.new)))\n",
    "p = p + xlim(c(0,m)) + ylim(c(0,m))\n",
    "p"
   ]
  },
  {
   "cell_type": "code",
   "execution_count": 18,
   "metadata": {},
   "outputs": [
    {
     "name": "stderr",
     "output_type": "stream",
     "text": [
      "Warning message:\n",
      "“Column `snpID` joining factors with different levels, coercing to character vector”Warning message:\n",
      "“Column `gene` joining factors with different levels, coercing to character vector”"
     ]
    },
    {
     "data": {
      "text/html": [
       "2250"
      ],
      "text/latex": [
       "2250"
      ],
      "text/markdown": [
       "2250"
      ],
      "text/plain": [
       "[1] 2250"
      ]
     },
     "metadata": {},
     "output_type": "display_data"
    },
    {
     "data": {
      "text/html": [
       "<table>\n",
       "<thead><tr><th scope=col>gene</th><th scope=col>n_snps</th><th scope=col>chrom</th><th scope=col>pv_raw.old</th><th scope=col>snpID</th><th scope=col>pv.old</th><th scope=col>qv.old</th><th scope=col>pv_raw.new</th><th scope=col>pv.new</th><th scope=col>qv.new</th></tr></thead>\n",
       "<tbody>\n",
       "\t<tr><td>ENSG00000011523_CEP68</td><td>2                    </td><td>2                    </td><td>0.06212096           </td><td>2_65279223_C_T       </td><td>0.1242419            </td><td>0.4331992            </td><td>0.30551608           </td><td>0.6110322            </td><td>0.8317135            </td></tr>\n",
       "\t<tr><td>ENSG00000011523_CEP68</td><td>2                    </td><td>2                    </td><td>0.15564318           </td><td>2_65290842_C_A       </td><td>0.3112864            </td><td>0.7027525            </td><td>0.09095796           </td><td>0.1819159            </td><td>0.3612629            </td></tr>\n",
       "</tbody>\n",
       "</table>\n"
      ],
      "text/latex": [
       "\\begin{tabular}{r|llllllllll}\n",
       " gene & n\\_snps & chrom & pv\\_raw.old & snpID & pv.old & qv.old & pv\\_raw.new & pv.new & qv.new\\\\\n",
       "\\hline\n",
       "\t ENSG00000011523\\_CEP68 & 2                       & 2                       & 0.06212096              & 2\\_65279223\\_C\\_T    & 0.1242419               & 0.4331992               & 0.30551608              & 0.6110322               & 0.8317135              \\\\\n",
       "\t ENSG00000011523\\_CEP68 & 2                       & 2                       & 0.15564318              & 2\\_65290842\\_C\\_A    & 0.3112864               & 0.7027525               & 0.09095796              & 0.1819159               & 0.3612629              \\\\\n",
       "\\end{tabular}\n"
      ],
      "text/markdown": [
       "\n",
       "| gene | n_snps | chrom | pv_raw.old | snpID | pv.old | qv.old | pv_raw.new | pv.new | qv.new |\n",
       "|---|---|---|---|---|---|---|---|---|---|\n",
       "| ENSG00000011523_CEP68 | 2                     | 2                     | 0.06212096            | 2_65279223_C_T        | 0.1242419             | 0.4331992             | 0.30551608            | 0.6110322             | 0.8317135             |\n",
       "| ENSG00000011523_CEP68 | 2                     | 2                     | 0.15564318            | 2_65290842_C_A        | 0.3112864             | 0.7027525             | 0.09095796            | 0.1819159             | 0.3612629             |\n",
       "\n"
      ],
      "text/plain": [
       "  gene                  n_snps chrom pv_raw.old snpID          pv.old   \n",
       "1 ENSG00000011523_CEP68 2      2     0.06212096 2_65279223_C_T 0.1242419\n",
       "2 ENSG00000011523_CEP68 2      2     0.15564318 2_65290842_C_A 0.3112864\n",
       "  qv.old    pv_raw.new pv.new    qv.new   \n",
       "1 0.4331992 0.30551608 0.6110322 0.8317135\n",
       "2 0.7027525 0.09095796 0.1819159 0.3612629"
      ]
     },
     "metadata": {},
     "output_type": "display_data"
    }
   ],
   "source": [
    "# compare 10 factors, old vs new\n",
    "ten = inner_join(df1, df3, by = c(\"snpID\",\"gene\",\"chrom\",\"n_snps\"), suffix = c(\".old\",\".new\"))\n",
    "nrow(ten)\n",
    "head(ten,2)"
   ]
  },
  {
   "cell_type": "code",
   "execution_count": 19,
   "metadata": {},
   "outputs": [
    {
     "data": {
      "image/png": "[encoded data removed]",
      "text/plain": [
       "plot without title"
      ]
     },
     "metadata": {},
     "output_type": "display_data"
    }
   ],
   "source": [
    "p = ggplot(ten, aes(x = -log10(pv_raw.old), y = -log10(pv_raw.new))) + geom_point(alpha = 0.6) \n",
    "p = p + geom_abline() + theme_bw()\n",
    "p = p + geom_vline(xintercept = -log10(0.05), alpha = 0.5) + geom_hline(yintercept = -log10(0.05), alpha = 0.5)\n",
    "m = -log10(min(min(ten$pv_raw.old),min(ten$pv_raw.new)))\n",
    "p = p + xlim(c(0,m)) + ylim(c(0,m))\n",
    "p"
   ]
  },
  {
   "cell_type": "code",
   "execution_count": null,
   "metadata": {},
   "outputs": [],
   "source": []
  },
  {
   "cell_type": "code",
   "execution_count": 20,
   "metadata": {},
   "outputs": [],
   "source": [
    "######## Now re-running for first 10 chromosome 2 genes using scripts as above"
   ]
  },
  {
   "cell_type": "code",
   "execution_count": 27,
   "metadata": {},
   "outputs": [
    {
     "data": {
      "text/html": [
       "10"
      ],
      "text/latex": [
       "10"
      ],
      "text/markdown": [
       "10"
      ],
      "text/plain": [
       "[1] 10"
      ]
     },
     "metadata": {},
     "output_type": "display_data"
    }
   ],
   "source": [
    "genes = c('ENSG00000229150_CRYGEP','ENSG00000183891_TTC32', 'ENSG00000144120_TMEM177','ENSG00000138032_PPM1B', \n",
    "          'ENSG00000237651_C2orf74','ENSG00000035141_FAM136A', 'ENSG00000196208_GREB1','ENSG00000136717_BIN1', \n",
    "          'ENSG00000240344_PPIL3','ENSG00000213160_KLHL23')\n",
    "length(genes)"
   ]
  },
  {
   "cell_type": "code",
   "execution_count": null,
   "metadata": {},
   "outputs": [],
   "source": [
    "## starting with the 1 factor results (PC1 only, or only MOFA factor 1)"
   ]
  },
  {
   "cell_type": "code",
   "execution_count": 28,
   "metadata": {
    "scrolled": true
   },
   "outputs": [
    {
     "name": "stderr",
     "output_type": "stream",
     "text": [
      "Warning message:\n",
      "“Column `snpID` joining factors with different levels, coercing to character vector”Warning message:\n",
      "“Column `gene` joining factors with different levels, coercing to character vector”"
     ]
    },
    {
     "data": {
      "text/html": [
       "<table>\n",
       "<thead><tr><th scope=col>gene</th><th scope=col>n_snps</th><th scope=col>chrom</th><th scope=col>pv_raw.old</th><th scope=col>snpID</th><th scope=col>pv.old</th><th scope=col>qv.old</th><th scope=col>pv_raw.new</th><th scope=col>pv.new</th><th scope=col>qv.new</th></tr></thead>\n",
       "<tbody>\n",
       "\t<tr><td>ENSG00000138032_PPM1B  </td><td>1                      </td><td>2                      </td><td>8.538693e-01           </td><td>2_44396235_T_G         </td><td>8.538693e-01           </td><td>1.000000e+00           </td><td>1.197405e-03           </td><td>1.197405e-03           </td><td>6.773225e-03           </td></tr>\n",
       "\t<tr><td>ENSG00000229150_CRYGEP </td><td>2                      </td><td>2                      </td><td>9.763035e-19           </td><td>2_208977362_C_A        </td><td>1.952607e-18           </td><td>2.870332e-15           </td><td>          NA           </td><td>          NA           </td><td>          NA           </td></tr>\n",
       "\t<tr><td>ENSG00000229150_CRYGEP </td><td>2                      </td><td>2                      </td><td>5.201755e-18           </td><td>2_208977797_G_T        </td><td>1.040351e-17           </td><td>1.146987e-14           </td><td>          NA           </td><td>          NA           </td><td>          NA           </td></tr>\n",
       "\t<tr><td>ENSG00000213160_KLHL23 </td><td>3                      </td><td>2                      </td><td>7.641857e-01           </td><td>2_170575157_G_A        </td><td>1.000000e+00           </td><td>1.000000e+00           </td><td>3.763066e-03           </td><td>1.128920e-02           </td><td>4.000867e-02           </td></tr>\n",
       "\t<tr><td>ENSG00000213160_KLHL23 </td><td>3                      </td><td>2                      </td><td>4.545527e-01           </td><td>2_170617443_T_C        </td><td>1.000000e+00           </td><td>1.000000e+00           </td><td>1.677971e-04           </td><td>5.033914e-04           </td><td>3.279557e-03           </td></tr>\n",
       "\t<tr><td>ENSG00000213160_KLHL23 </td><td>3                      </td><td>2                      </td><td>5.978918e-01           </td><td>2_170630637_A_G        </td><td>1.000000e+00           </td><td>1.000000e+00           </td><td>8.413408e-04           </td><td>2.524022e-03           </td><td>1.221888e-02           </td></tr>\n",
       "\t<tr><td>ENSG00000035141_FAM136A</td><td>3                      </td><td>2                      </td><td>3.960423e-01           </td><td>2_70426325_C_T         </td><td>1.000000e+00           </td><td>1.000000e+00           </td><td>1.104036e-05           </td><td>3.312108e-05           </td><td>3.455941e-04           </td></tr>\n",
       "\t<tr><td>ENSG00000035141_FAM136A</td><td>3                      </td><td>2                      </td><td>2.142827e-01           </td><td>2_70502930_A_G         </td><td>6.428480e-01           </td><td>1.000000e+00           </td><td>1.267259e-02           </td><td>3.801776e-02           </td><td>1.054751e-01           </td></tr>\n",
       "\t<tr><td>ENSG00000035141_FAM136A</td><td>3                      </td><td>2                      </td><td>2.204325e-01           </td><td>2_70541419_A_G         </td><td>6.612974e-01           </td><td>1.000000e+00           </td><td>2.109551e-03           </td><td>6.328654e-03           </td><td>2.499961e-02           </td></tr>\n",
       "\t<tr><td>ENSG00000183891_TTC32  </td><td>2                      </td><td>2                      </td><td>9.852826e-01           </td><td>2_20082172_T_C         </td><td>1.000000e+00           </td><td>1.000000e+00           </td><td>          NA           </td><td>          NA           </td><td>          NA           </td></tr>\n",
       "\t<tr><td>ENSG00000183891_TTC32  </td><td>2                      </td><td>2                      </td><td>5.946633e-01           </td><td>2_20090677_G_A         </td><td>1.000000e+00           </td><td>1.000000e+00           </td><td>          NA           </td><td>          NA           </td><td>          NA           </td></tr>\n",
       "\t<tr><td>ENSG00000196208_GREB1  </td><td>2                      </td><td>2                      </td><td>4.285627e-01           </td><td>2_11720282_A_G         </td><td>8.571254e-01           </td><td>1.000000e+00           </td><td>3.148190e-01           </td><td>6.296379e-01           </td><td>8.434894e-01           </td></tr>\n",
       "\t<tr><td>ENSG00000196208_GREB1  </td><td>2                      </td><td>2                      </td><td>4.924995e-01           </td><td>2_11736305_G_A         </td><td>9.849991e-01           </td><td>1.000000e+00           </td><td>2.276129e-01           </td><td>4.552258e-01           </td><td>6.720611e-01           </td></tr>\n",
       "\t<tr><td>ENSG00000144120_TMEM177</td><td>1                      </td><td>2                      </td><td>1.574635e-07           </td><td>2_120438523_A_G        </td><td>1.574635e-07           </td><td>1.876795e-05           </td><td>4.829657e-14           </td><td>4.829657e-14           </td><td>7.380408e-12           </td></tr>\n",
       "\t<tr><td>ENSG00000237651_C2orf74</td><td>3                      </td><td>2                      </td><td>7.042505e-01           </td><td>2_61372507_A_G         </td><td>1.000000e+00           </td><td>1.000000e+00           </td><td>          NA           </td><td>          NA           </td><td>          NA           </td></tr>\n",
       "\t<tr><td>ENSG00000237651_C2orf74</td><td>3                      </td><td>2                      </td><td>8.335778e-01           </td><td>2_61381018_C_T         </td><td>1.000000e+00           </td><td>1.000000e+00           </td><td>          NA           </td><td>          NA           </td><td>          NA           </td></tr>\n",
       "\t<tr><td>ENSG00000237651_C2orf74</td><td>3                      </td><td>2                      </td><td>6.942127e-01           </td><td>2_61400816_G_A         </td><td>1.000000e+00           </td><td>1.000000e+00           </td><td>          NA           </td><td>          NA           </td><td>          NA           </td></tr>\n",
       "\t<tr><td>ENSG00000136717_BIN1   </td><td>3                      </td><td>2                      </td><td>1.499778e-02           </td><td>2_127846505_T_C        </td><td>4.499334e-02           </td><td>3.524345e-01           </td><td>          NA           </td><td>          NA           </td><td>          NA           </td></tr>\n",
       "\t<tr><td>ENSG00000136717_BIN1   </td><td>3                      </td><td>2                      </td><td>1.236768e-02           </td><td>2_127859418_T_C        </td><td>3.710303e-02           </td><td>3.240922e-01           </td><td>          NA           </td><td>          NA           </td><td>          NA           </td></tr>\n",
       "\t<tr><td>ENSG00000136717_BIN1   </td><td>3                      </td><td>2                      </td><td>1.236768e-02           </td><td>2_127863029_C_T        </td><td>3.710303e-02           </td><td>3.240922e-01           </td><td>          NA           </td><td>          NA           </td><td>          NA           </td></tr>\n",
       "\t<tr><td>ENSG00000240344_PPIL3  </td><td>3                      </td><td>2                      </td><td>3.308183e-01           </td><td>2_201742345_C_T        </td><td>9.924550e-01           </td><td>1.000000e+00           </td><td>6.751358e-02           </td><td>2.025407e-01           </td><td>3.764756e-01           </td></tr>\n",
       "\t<tr><td>ENSG00000240344_PPIL3  </td><td>3                      </td><td>2                      </td><td>4.446799e-01           </td><td>2_201754063_T_C        </td><td>1.000000e+00           </td><td>1.000000e+00           </td><td>8.032137e-02           </td><td>2.409641e-01           </td><td>4.258334e-01           </td></tr>\n",
       "\t<tr><td>ENSG00000240344_PPIL3  </td><td>3                      </td><td>2                      </td><td>9.606123e-01           </td><td>2_201774355_T_C        </td><td>1.000000e+00           </td><td>1.000000e+00           </td><td>3.674336e-01           </td><td>1.000000e+00           </td><td>1.000000e+00           </td></tr>\n",
       "</tbody>\n",
       "</table>\n"
      ],
      "text/latex": [
       "\\begin{tabular}{r|llllllllll}\n",
       " gene & n\\_snps & chrom & pv\\_raw.old & snpID & pv.old & qv.old & pv\\_raw.new & pv.new & qv.new\\\\\n",
       "\\hline\n",
       "\t ENSG00000138032\\_PPM1B   & 1                         & 2                         & 8.538693e-01              & 2\\_44396235\\_T\\_G      & 8.538693e-01              & 1.000000e+00              & 1.197405e-03              & 1.197405e-03              & 6.773225e-03             \\\\\n",
       "\t ENSG00000229150\\_CRYGEP  & 2                         & 2                         & 9.763035e-19              & 2\\_208977362\\_C\\_A     & 1.952607e-18              & 2.870332e-15              &           NA              &           NA              &           NA             \\\\\n",
       "\t ENSG00000229150\\_CRYGEP  & 2                         & 2                         & 5.201755e-18              & 2\\_208977797\\_G\\_T     & 1.040351e-17              & 1.146987e-14              &           NA              &           NA              &           NA             \\\\\n",
       "\t ENSG00000213160\\_KLHL23  & 3                         & 2                         & 7.641857e-01              & 2\\_170575157\\_G\\_A     & 1.000000e+00              & 1.000000e+00              & 3.763066e-03              & 1.128920e-02              & 4.000867e-02             \\\\\n",
       "\t ENSG00000213160\\_KLHL23  & 3                         & 2                         & 4.545527e-01              & 2\\_170617443\\_T\\_C     & 1.000000e+00              & 1.000000e+00              & 1.677971e-04              & 5.033914e-04              & 3.279557e-03             \\\\\n",
       "\t ENSG00000213160\\_KLHL23  & 3                         & 2                         & 5.978918e-01              & 2\\_170630637\\_A\\_G     & 1.000000e+00              & 1.000000e+00              & 8.413408e-04              & 2.524022e-03              & 1.221888e-02             \\\\\n",
       "\t ENSG00000035141\\_FAM136A & 3                         & 2                         & 3.960423e-01              & 2\\_70426325\\_C\\_T      & 1.000000e+00              & 1.000000e+00              & 1.104036e-05              & 3.312108e-05              & 3.455941e-04             \\\\\n",
       "\t ENSG00000035141\\_FAM136A & 3                         & 2                         & 2.142827e-01              & 2\\_70502930\\_A\\_G      & 6.428480e-01              & 1.000000e+00              & 1.267259e-02              & 3.801776e-02              & 1.054751e-01             \\\\\n",
       "\t ENSG00000035141\\_FAM136A & 3                         & 2                         & 2.204325e-01              & 2\\_70541419\\_A\\_G      & 6.612974e-01              & 1.000000e+00              & 2.109551e-03              & 6.328654e-03              & 2.499961e-02             \\\\\n",
       "\t ENSG00000183891\\_TTC32   & 2                         & 2                         & 9.852826e-01              & 2\\_20082172\\_T\\_C      & 1.000000e+00              & 1.000000e+00              &           NA              &           NA              &           NA             \\\\\n",
       "\t ENSG00000183891\\_TTC32   & 2                         & 2                         & 5.946633e-01              & 2\\_20090677\\_G\\_A      & 1.000000e+00              & 1.000000e+00              &           NA              &           NA              &           NA             \\\\\n",
       "\t ENSG00000196208\\_GREB1   & 2                         & 2                         & 4.285627e-01              & 2\\_11720282\\_A\\_G      & 8.571254e-01              & 1.000000e+00              & 3.148190e-01              & 6.296379e-01              & 8.434894e-01             \\\\\n",
       "\t ENSG00000196208\\_GREB1   & 2                         & 2                         & 4.924995e-01              & 2\\_11736305\\_G\\_A      & 9.849991e-01              & 1.000000e+00              & 2.276129e-01              & 4.552258e-01              & 6.720611e-01             \\\\\n",
       "\t ENSG00000144120\\_TMEM177 & 1                         & 2                         & 1.574635e-07              & 2\\_120438523\\_A\\_G     & 1.574635e-07              & 1.876795e-05              & 4.829657e-14              & 4.829657e-14              & 7.380408e-12             \\\\\n",
       "\t ENSG00000237651\\_C2orf74 & 3                         & 2                         & 7.042505e-01              & 2\\_61372507\\_A\\_G      & 1.000000e+00              & 1.000000e+00              &           NA              &           NA              &           NA             \\\\\n",
       "\t ENSG00000237651\\_C2orf74 & 3                         & 2                         & 8.335778e-01              & 2\\_61381018\\_C\\_T      & 1.000000e+00              & 1.000000e+00              &           NA              &           NA              &           NA             \\\\\n",
       "\t ENSG00000237651\\_C2orf74 & 3                         & 2                         & 6.942127e-01              & 2\\_61400816\\_G\\_A      & 1.000000e+00              & 1.000000e+00              &           NA              &           NA              &           NA             \\\\\n",
       "\t ENSG00000136717\\_BIN1    & 3                         & 2                         & 1.499778e-02              & 2\\_127846505\\_T\\_C     & 4.499334e-02              & 3.524345e-01              &           NA              &           NA              &           NA             \\\\\n",
       "\t ENSG00000136717\\_BIN1    & 3                         & 2                         & 1.236768e-02              & 2\\_127859418\\_T\\_C     & 3.710303e-02              & 3.240922e-01              &           NA              &           NA              &           NA             \\\\\n",
       "\t ENSG00000136717\\_BIN1    & 3                         & 2                         & 1.236768e-02              & 2\\_127863029\\_C\\_T     & 3.710303e-02              & 3.240922e-01              &           NA              &           NA              &           NA             \\\\\n",
       "\t ENSG00000240344\\_PPIL3   & 3                         & 2                         & 3.308183e-01              & 2\\_201742345\\_C\\_T     & 9.924550e-01              & 1.000000e+00              & 6.751358e-02              & 2.025407e-01              & 3.764756e-01             \\\\\n",
       "\t ENSG00000240344\\_PPIL3   & 3                         & 2                         & 4.446799e-01              & 2\\_201754063\\_T\\_C     & 1.000000e+00              & 1.000000e+00              & 8.032137e-02              & 2.409641e-01              & 4.258334e-01             \\\\\n",
       "\t ENSG00000240344\\_PPIL3   & 3                         & 2                         & 9.606123e-01              & 2\\_201774355\\_T\\_C     & 1.000000e+00              & 1.000000e+00              & 3.674336e-01              & 1.000000e+00              & 1.000000e+00             \\\\\n",
       "\\end{tabular}\n"
      ],
      "text/markdown": [
       "\n",
       "| gene | n_snps | chrom | pv_raw.old | snpID | pv.old | qv.old | pv_raw.new | pv.new | qv.new |\n",
       "|---|---|---|---|---|---|---|---|---|---|\n",
       "| ENSG00000138032_PPM1B   | 1                       | 2                       | 8.538693e-01            | 2_44396235_T_G          | 8.538693e-01            | 1.000000e+00            | 1.197405e-03            | 1.197405e-03            | 6.773225e-03            |\n",
       "| ENSG00000229150_CRYGEP  | 2                       | 2                       | 9.763035e-19            | 2_208977362_C_A         | 1.952607e-18            | 2.870332e-15            |           NA            |           NA            |           NA            |\n",
       "| ENSG00000229150_CRYGEP  | 2                       | 2                       | 5.201755e-18            | 2_208977797_G_T         | 1.040351e-17            | 1.146987e-14            |           NA            |           NA            |           NA            |\n",
       "| ENSG00000213160_KLHL23  | 3                       | 2                       | 7.641857e-01            | 2_170575157_G_A         | 1.000000e+00            | 1.000000e+00            | 3.763066e-03            | 1.128920e-02            | 4.000867e-02            |\n",
       "| ENSG00000213160_KLHL23  | 3                       | 2                       | 4.545527e-01            | 2_170617443_T_C         | 1.000000e+00            | 1.000000e+00            | 1.677971e-04            | 5.033914e-04            | 3.279557e-03            |\n",
       "| ENSG00000213160_KLHL23  | 3                       | 2                       | 5.978918e-01            | 2_170630637_A_G         | 1.000000e+00            | 1.000000e+00            | 8.413408e-04            | 2.524022e-03            | 1.221888e-02            |\n",
       "| ENSG00000035141_FAM136A | 3                       | 2                       | 3.960423e-01            | 2_70426325_C_T          | 1.000000e+00            | 1.000000e+00            | 1.104036e-05            | 3.312108e-05            | 3.455941e-04            |\n",
       "| ENSG00000035141_FAM136A | 3                       | 2                       | 2.142827e-01            | 2_70502930_A_G          | 6.428480e-01            | 1.000000e+00            | 1.267259e-02            | 3.801776e-02            | 1.054751e-01            |\n",
       "| ENSG00000035141_FAM136A | 3                       | 2                       | 2.204325e-01            | 2_70541419_A_G          | 6.612974e-01            | 1.000000e+00            | 2.109551e-03            | 6.328654e-03            | 2.499961e-02            |\n",
       "| ENSG00000183891_TTC32   | 2                       | 2                       | 9.852826e-01            | 2_20082172_T_C          | 1.000000e+00            | 1.000000e+00            |           NA            |           NA            |           NA            |\n",
       "| ENSG00000183891_TTC32   | 2                       | 2                       | 5.946633e-01            | 2_20090677_G_A          | 1.000000e+00            | 1.000000e+00            |           NA            |           NA            |           NA            |\n",
       "| ENSG00000196208_GREB1   | 2                       | 2                       | 4.285627e-01            | 2_11720282_A_G          | 8.571254e-01            | 1.000000e+00            | 3.148190e-01            | 6.296379e-01            | 8.434894e-01            |\n",
       "| ENSG00000196208_GREB1   | 2                       | 2                       | 4.924995e-01            | 2_11736305_G_A          | 9.849991e-01            | 1.000000e+00            | 2.276129e-01            | 4.552258e-01            | 6.720611e-01            |\n",
       "| ENSG00000144120_TMEM177 | 1                       | 2                       | 1.574635e-07            | 2_120438523_A_G         | 1.574635e-07            | 1.876795e-05            | 4.829657e-14            | 4.829657e-14            | 7.380408e-12            |\n",
       "| ENSG00000237651_C2orf74 | 3                       | 2                       | 7.042505e-01            | 2_61372507_A_G          | 1.000000e+00            | 1.000000e+00            |           NA            |           NA            |           NA            |\n",
       "| ENSG00000237651_C2orf74 | 3                       | 2                       | 8.335778e-01            | 2_61381018_C_T          | 1.000000e+00            | 1.000000e+00            |           NA            |           NA            |           NA            |\n",
       "| ENSG00000237651_C2orf74 | 3                       | 2                       | 6.942127e-01            | 2_61400816_G_A          | 1.000000e+00            | 1.000000e+00            |           NA            |           NA            |           NA            |\n",
       "| ENSG00000136717_BIN1    | 3                       | 2                       | 1.499778e-02            | 2_127846505_T_C         | 4.499334e-02            | 3.524345e-01            |           NA            |           NA            |           NA            |\n",
       "| ENSG00000136717_BIN1    | 3                       | 2                       | 1.236768e-02            | 2_127859418_T_C         | 3.710303e-02            | 3.240922e-01            |           NA            |           NA            |           NA            |\n",
       "| ENSG00000136717_BIN1    | 3                       | 2                       | 1.236768e-02            | 2_127863029_C_T         | 3.710303e-02            | 3.240922e-01            |           NA            |           NA            |           NA            |\n",
       "| ENSG00000240344_PPIL3   | 3                       | 2                       | 3.308183e-01            | 2_201742345_C_T         | 9.924550e-01            | 1.000000e+00            | 6.751358e-02            | 2.025407e-01            | 3.764756e-01            |\n",
       "| ENSG00000240344_PPIL3   | 3                       | 2                       | 4.446799e-01            | 2_201754063_T_C         | 1.000000e+00            | 1.000000e+00            | 8.032137e-02            | 2.409641e-01            | 4.258334e-01            |\n",
       "| ENSG00000240344_PPIL3   | 3                       | 2                       | 9.606123e-01            | 2_201774355_T_C         | 1.000000e+00            | 1.000000e+00            | 3.674336e-01            | 1.000000e+00            | 1.000000e+00            |\n",
       "\n"
      ],
      "text/plain": [
       "   gene                    n_snps chrom pv_raw.old   snpID          \n",
       "1  ENSG00000138032_PPM1B   1      2     8.538693e-01 2_44396235_T_G \n",
       "2  ENSG00000229150_CRYGEP  2      2     9.763035e-19 2_208977362_C_A\n",
       "3  ENSG00000229150_CRYGEP  2      2     5.201755e-18 2_208977797_G_T\n",
       "4  ENSG00000213160_KLHL23  3      2     7.641857e-01 2_170575157_G_A\n",
       "5  ENSG00000213160_KLHL23  3      2     4.545527e-01 2_170617443_T_C\n",
       "6  ENSG00000213160_KLHL23  3      2     5.978918e-01 2_170630637_A_G\n",
       "7  ENSG00000035141_FAM136A 3      2     3.960423e-01 2_70426325_C_T \n",
       "8  ENSG00000035141_FAM136A 3      2     2.142827e-01 2_70502930_A_G \n",
       "9  ENSG00000035141_FAM136A 3      2     2.204325e-01 2_70541419_A_G \n",
       "10 ENSG00000183891_TTC32   2      2     9.852826e-01 2_20082172_T_C \n",
       "11 ENSG00000183891_TTC32   2      2     5.946633e-01 2_20090677_G_A \n",
       "12 ENSG00000196208_GREB1   2      2     4.285627e-01 2_11720282_A_G \n",
       "13 ENSG00000196208_GREB1   2      2     4.924995e-01 2_11736305_G_A \n",
       "14 ENSG00000144120_TMEM177 1      2     1.574635e-07 2_120438523_A_G\n",
       "15 ENSG00000237651_C2orf74 3      2     7.042505e-01 2_61372507_A_G \n",
       "16 ENSG00000237651_C2orf74 3      2     8.335778e-01 2_61381018_C_T \n",
       "17 ENSG00000237651_C2orf74 3      2     6.942127e-01 2_61400816_G_A \n",
       "18 ENSG00000136717_BIN1    3      2     1.499778e-02 2_127846505_T_C\n",
       "19 ENSG00000136717_BIN1    3      2     1.236768e-02 2_127859418_T_C\n",
       "20 ENSG00000136717_BIN1    3      2     1.236768e-02 2_127863029_C_T\n",
       "21 ENSG00000240344_PPIL3   3      2     3.308183e-01 2_201742345_C_T\n",
       "22 ENSG00000240344_PPIL3   3      2     4.446799e-01 2_201754063_T_C\n",
       "23 ENSG00000240344_PPIL3   3      2     9.606123e-01 2_201774355_T_C\n",
       "   pv.old       qv.old       pv_raw.new   pv.new       qv.new      \n",
       "1  8.538693e-01 1.000000e+00 1.197405e-03 1.197405e-03 6.773225e-03\n",
       "2  1.952607e-18 2.870332e-15           NA           NA           NA\n",
       "3  1.040351e-17 1.146987e-14           NA           NA           NA\n",
       "4  1.000000e+00 1.000000e+00 3.763066e-03 1.128920e-02 4.000867e-02\n",
       "5  1.000000e+00 1.000000e+00 1.677971e-04 5.033914e-04 3.279557e-03\n",
       "6  1.000000e+00 1.000000e+00 8.413408e-04 2.524022e-03 1.221888e-02\n",
       "7  1.000000e+00 1.000000e+00 1.104036e-05 3.312108e-05 3.455941e-04\n",
       "8  6.428480e-01 1.000000e+00 1.267259e-02 3.801776e-02 1.054751e-01\n",
       "9  6.612974e-01 1.000000e+00 2.109551e-03 6.328654e-03 2.499961e-02\n",
       "10 1.000000e+00 1.000000e+00           NA           NA           NA\n",
       "11 1.000000e+00 1.000000e+00           NA           NA           NA\n",
       "12 8.571254e-01 1.000000e+00 3.148190e-01 6.296379e-01 8.434894e-01\n",
       "13 9.849991e-01 1.000000e+00 2.276129e-01 4.552258e-01 6.720611e-01\n",
       "14 1.574635e-07 1.876795e-05 4.829657e-14 4.829657e-14 7.380408e-12\n",
       "15 1.000000e+00 1.000000e+00           NA           NA           NA\n",
       "16 1.000000e+00 1.000000e+00           NA           NA           NA\n",
       "17 1.000000e+00 1.000000e+00           NA           NA           NA\n",
       "18 4.499334e-02 3.524345e-01           NA           NA           NA\n",
       "19 3.710303e-02 3.240922e-01           NA           NA           NA\n",
       "20 3.710303e-02 3.240922e-01           NA           NA           NA\n",
       "21 9.924550e-01 1.000000e+00 6.751358e-02 2.025407e-01 3.764756e-01\n",
       "22 1.000000e+00 1.000000e+00 8.032137e-02 2.409641e-01 4.258334e-01\n",
       "23 1.000000e+00 1.000000e+00 3.674336e-01 1.000000e+00 1.000000e+00"
      ]
     },
     "metadata": {},
     "output_type": "display_data"
    }
   ],
   "source": [
    "df4 = left_join(df0[df0$gene %in% genes,], df2[df2$gene %in% genes,],\n",
    "                 by = c(\"snpID\",\"gene\",\"chrom\",\"n_snps\"), suffix = c(\".old\",\".new\"))\n",
    "df4"
   ]
  },
  {
   "cell_type": "code",
   "execution_count": null,
   "metadata": {},
   "outputs": [],
   "source": [
    "# output old run:\n",
    "# Number of donors after kinship intersection: 125\n",
    "# Sample mapping number of rows BEFORE intersection: 36044\n",
    "# Sample mapping number of rows AFTER intersection: 35751\n",
    "# Phenotype shape BEFORE selection: (11231, 36044)\n",
    "# Phenotype shape AFTER selection: (11231, 35751)"
   ]
  },
  {
   "cell_type": "code",
   "execution_count": null,
   "metadata": {},
   "outputs": [],
   "source": [
    "# (Pdb) len(Ls)\n",
    "# 10\n",
    "# (Pdb) Ls[0].shape\n",
    "# (35751, 125)"
   ]
  },
  {
   "cell_type": "code",
   "execution_count": null,
   "metadata": {},
   "outputs": [],
   "source": [
    "# (Pdb) y.shape\n",
    "# (35751,)\n",
    "# (Pdb) M.shape\n",
    "# (35751, 1)\n",
    "# (Pdb) E.values[:,0:n_factors].shape\n",
    "# (35751, 1)"
   ]
  },
  {
   "cell_type": "code",
   "execution_count": null,
   "metadata": {},
   "outputs": [],
   "source": [
    "# saving here: \n",
    "\"/hps/nobackup/stegle/users/acuomo/all_scripts/struct_LMM2/sc_endodiff/new/mofa1_results_debug/\""
   ]
  },
  {
   "cell_type": "code",
   "execution_count": null,
   "metadata": {},
   "outputs": [],
   "source": [
    "# gene = 'ENSG00000229150_CRYGEP' - slightly different but close enough?\n",
    "# (Pdb) pv.head()\n",
    "#   chrom            pv          variant\n",
    "# 0     2  1.024255e-18  2_208977362_C_A\n",
    "# 1     2  5.465853e-18  2_208977797_G_T"
   ]
  },
  {
   "cell_type": "code",
   "execution_count": null,
   "metadata": {},
   "outputs": [],
   "source": [
    "# gene = 'ENSG00000183891_TTC32'\n",
    "# (Pdb) pv.head()\n",
    "#   chrom        pv         variant\n",
    "# 0     2  0.919268  2_20082172_T_C\n",
    "# 1     2  0.655658  2_20090677_G_A"
   ]
  },
  {
   "cell_type": "code",
   "execution_count": null,
   "metadata": {},
   "outputs": [],
   "source": [
    "# gene = 'ENSG00000144120_TMEM177'\n",
    "# (Pdb) pv.head()\n",
    "#   chrom            pv          variant\n",
    "# 0     2  1.690871e-07  2_120438523_A_G"
   ]
  },
  {
   "cell_type": "code",
   "execution_count": null,
   "metadata": {},
   "outputs": [],
   "source": [
    "# gene = 'ENSG00000138032_PPM1B'\n",
    "# (Pdb) pv.head()\n",
    "#   chrom        pv         variant\n",
    "# 0     2  0.894768  2_44396235_T_G"
   ]
  },
  {
   "cell_type": "code",
   "execution_count": null,
   "metadata": {},
   "outputs": [],
   "source": [
    "# gene = 'ENSG00000237651_C2orf74'\n",
    "# (Pdb) pv.head()\n",
    "#   chrom        pv         variant\n",
    "# 0     2  0.682125  2_61372507_A_G\n",
    "# 1     2  0.810303  2_61381018_C_T\n",
    "# 2     2  0.672080  2_61400816_G_A"
   ]
  },
  {
   "cell_type": "code",
   "execution_count": null,
   "metadata": {},
   "outputs": [],
   "source": [
    "# gene = 'ENSG00000035141_FAM136A'\n",
    "# (Pdb) pv.head()\n",
    "#   chrom        pv         variant\n",
    "# 0     2  0.407267  2_70426325_C_T\n",
    "# 1     2  0.201800  2_70502930_A_G\n",
    "# 2     2  0.228603  2_70541419_A_G"
   ]
  },
  {
   "cell_type": "code",
   "execution_count": null,
   "metadata": {},
   "outputs": [],
   "source": [
    "# gene = 'ENSG00000196208_GREB1'\n",
    "# (Pdb) pv.head()\n",
    "#   chrom        pv         variant\n",
    "# 0     2  0.434897  2_11720282_A_G\n",
    "# 1     2  0.498994  2_11736305_G_A"
   ]
  },
  {
   "cell_type": "code",
   "execution_count": null,
   "metadata": {},
   "outputs": [],
   "source": [
    "# gene = 'ENSG00000136717_BIN1'"
   ]
  },
  {
   "cell_type": "code",
   "execution_count": null,
   "metadata": {},
   "outputs": [],
   "source": [
    "# gene = 'ENSG00000240344_PPIL3'"
   ]
  },
  {
   "cell_type": "code",
   "execution_count": null,
   "metadata": {},
   "outputs": [],
   "source": [
    "# gene = 'ENSG00000213160_KLHL23'"
   ]
  },
  {
   "cell_type": "code",
   "execution_count": null,
   "metadata": {},
   "outputs": [],
   "source": []
  },
  {
   "cell_type": "code",
   "execution_count": null,
   "metadata": {},
   "outputs": [],
   "source": []
  },
  {
   "cell_type": "code",
   "execution_count": null,
   "metadata": {},
   "outputs": [],
   "source": []
  },
  {
   "cell_type": "code",
   "execution_count": null,
   "metadata": {},
   "outputs": [],
   "source": [
    "# output new run:\n",
    "# Number of donors after kinship intersection: 125\n",
    "# Sample mapping number of rows BEFORE intersection: 34256\n",
    "# Sample mapping number of rows AFTER intersection: 33964\n",
    "# Phenotype shape BEFORE selection: (11231, 34256)\n",
    "# Phenotype shape AFTER selection: (11231, 33964)"
   ]
  },
  {
   "cell_type": "code",
   "execution_count": null,
   "metadata": {},
   "outputs": [],
   "source": [
    "# (Pdb) len(Ls)\n",
    "# 1\n",
    "# (Pdb) Ls[0].shape\n",
    "# (33964, 125)"
   ]
  },
  {
   "cell_type": "code",
   "execution_count": null,
   "metadata": {},
   "outputs": [],
   "source": [
    "# (Pdb) y.shape\n",
    "# (33964,)\n",
    "# (Pdb) M.shape\n",
    "# (33964, 1)\n",
    "# (Pdb) E.shape\n",
    "# (33964, 1)"
   ]
  },
  {
   "cell_type": "code",
   "execution_count": null,
   "metadata": {},
   "outputs": [],
   "source": [
    "# gene = 'ENSG00000229150_CRYGEP'\n",
    "# (Pdb) pv.head()\n",
    "#   chrom            pv          variant\n",
    "# 0     2  6.037734e-26  2_208977362_C_A\n",
    "# 1     2  2.234445e-22  2_208977797_G_T"
   ]
  },
  {
   "cell_type": "code",
   "execution_count": null,
   "metadata": {},
   "outputs": [],
   "source": [
    "# gene = 'ENSG00000183891_TTC32'\n",
    "# (Pdb) pv.head()\n",
    "#   chrom        pv         variant\n",
    "# 0     2  0.101845  2_20082172_T_C\n",
    "# 1     2  0.018911  2_20090677_G_A"
   ]
  },
  {
   "cell_type": "code",
   "execution_count": null,
   "metadata": {},
   "outputs": [],
   "source": [
    "# gene = 'ENSG00000144120_TMEM177'\n",
    "# (Pdb) pv.head()\n",
    "#   chrom            pv          variant\n",
    "# 0     2  4.829657e-14  2_120438523_A_G"
   ]
  },
  {
   "cell_type": "code",
   "execution_count": null,
   "metadata": {},
   "outputs": [],
   "source": [
    "# gene = 'ENSG00000138032_PPM1B'\n",
    "# (Pdb) pv.head()\n",
    "#   chrom        pv         variant\n",
    "# 0     2  0.001197  2_44396235_T_G"
   ]
  },
  {
   "cell_type": "code",
   "execution_count": null,
   "metadata": {},
   "outputs": [],
   "source": [
    "# gene = 'ENSG00000237651_C2orf74'\n",
    "# (Pdb) pv.head()\n",
    "#   chrom        pv         variant\n",
    "# 0     2  0.004901  2_61372507_A_G\n",
    "# 1     2  0.042326  2_61381018_C_T\n",
    "# 2     2  0.006464  2_61400816_G_A"
   ]
  },
  {
   "cell_type": "code",
   "execution_count": null,
   "metadata": {},
   "outputs": [],
   "source": [
    "# gene = 'ENSG00000035141_FAM136A'\n",
    "# (Pdb) pv.head()\n",
    "#   chrom        pv         variant\n",
    "# 0     2  0.000011  2_70426325_C_T\n",
    "# 1     2  0.012673  2_70502930_A_G\n",
    "# 2     2  0.002110  2_70541419_A_G"
   ]
  },
  {
   "cell_type": "code",
   "execution_count": null,
   "metadata": {},
   "outputs": [],
   "source": [
    "# gene = 'ENSG00000196208_GREB1'\n",
    "# (Pdb) pv.head()\n",
    "#   chrom        pv         variant\n",
    "# 0     2  0.314819  2_11720282_A_G\n",
    "# 1     2  0.227613  2_11736305_G_A"
   ]
  },
  {
   "cell_type": "code",
   "execution_count": null,
   "metadata": {},
   "outputs": [],
   "source": [
    "# gene = 'ENSG00000136717_BIN1'\n",
    "# (Pdb) pv.head()\n",
    "#   chrom        pv          variant\n",
    "# 0     2  0.430905  2_127846505_T_C\n",
    "# 1     2  0.406053  2_127859418_T_C\n",
    "# 2     2  0.406053  2_127863029_C_T"
   ]
  },
  {
   "cell_type": "code",
   "execution_count": null,
   "metadata": {},
   "outputs": [],
   "source": [
    "# gene = 'ENSG00000240344_PPIL3'\n",
    "# (Pdb) pv.head()\n",
    "#   chrom        pv          variant\n",
    "# 0     2  0.067514  2_201742345_C_T\n",
    "# 1     2  0.080321  2_201754063_T_C\n",
    "# 2     2  0.367434  2_201774355_T_C"
   ]
  },
  {
   "cell_type": "code",
   "execution_count": null,
   "metadata": {},
   "outputs": [],
   "source": [
    "# gene = 'ENSG00000213160_KLHL23'\n",
    "#   chrom        pv          variant\n",
    "# 0     2  0.003763  2_170575157_G_A\n",
    "# 1     2  0.000168  2_170617443_T_C\n",
    "# 2     2  0.000841  2_170630637_A_G"
   ]
  },
  {
   "cell_type": "code",
   "execution_count": null,
   "metadata": {},
   "outputs": [],
   "source": []
  },
  {
   "cell_type": "code",
   "execution_count": null,
   "metadata": {},
   "outputs": [],
   "source": []
  },
  {
   "cell_type": "code",
   "execution_count": null,
   "metadata": {},
   "outputs": [],
   "source": [
    "## next, the 10-factor results (PC1:10, or only MOFA factors 1:10)"
   ]
  },
  {
   "cell_type": "code",
   "execution_count": 29,
   "metadata": {
    "scrolled": true
   },
   "outputs": [
    {
     "name": "stderr",
     "output_type": "stream",
     "text": [
      "Warning message:\n",
      "“Column `snpID` joining factors with different levels, coercing to character vector”Warning message:\n",
      "“Column `gene` joining factors with different levels, coercing to character vector”"
     ]
    },
    {
     "data": {
      "text/html": [
       "<table>\n",
       "<thead><tr><th scope=col>gene</th><th scope=col>n_snps</th><th scope=col>chrom</th><th scope=col>pv_raw.old</th><th scope=col>snpID</th><th scope=col>pv.old</th><th scope=col>qv.old</th><th scope=col>pv_raw.new</th><th scope=col>pv.new</th><th scope=col>qv.new</th></tr></thead>\n",
       "<tbody>\n",
       "\t<tr><td>ENSG00000138032_PPM1B  </td><td>1                      </td><td>2                      </td><td>2.081732e-01           </td><td>2_44396235_T_G         </td><td>2.081732e-01           </td><td>5.680916e-01           </td><td>1.916338e-05           </td><td>1.916338e-05           </td><td>2.661581e-04           </td></tr>\n",
       "\t<tr><td>ENSG00000229150_CRYGEP </td><td>2                      </td><td>2                      </td><td>2.492542e-40           </td><td>2_208977362_C_A        </td><td>4.985085e-40           </td><td>1.114166e-36           </td><td>          NA           </td><td>          NA           </td><td>          NA           </td></tr>\n",
       "\t<tr><td>ENSG00000229150_CRYGEP </td><td>2                      </td><td>2                      </td><td>2.084663e-41           </td><td>2_208977797_G_T        </td><td>4.169326e-41           </td><td>1.863689e-37           </td><td>          NA           </td><td>          NA           </td><td>          NA           </td></tr>\n",
       "\t<tr><td>ENSG00000213160_KLHL23 </td><td>3                      </td><td>2                      </td><td>2.940980e-01           </td><td>2_170575157_G_A        </td><td>8.822939e-01           </td><td>1.000000e+00           </td><td>3.829416e-02           </td><td>1.148825e-01           </td><td>2.616251e-01           </td></tr>\n",
       "\t<tr><td>ENSG00000213160_KLHL23 </td><td>3                      </td><td>2                      </td><td>4.148134e-02           </td><td>2_170617443_T_C        </td><td>1.244440e-01           </td><td>4.332281e-01           </td><td>2.532561e-02           </td><td>7.597682e-02           </td><td>1.964918e-01           </td></tr>\n",
       "\t<tr><td>ENSG00000213160_KLHL23 </td><td>3                      </td><td>2                      </td><td>2.016330e-02           </td><td>2_170630637_A_G        </td><td>6.048990e-02           </td><td>2.787524e-01           </td><td>5.472915e-04           </td><td>1.641874e-03           </td><td>1.055491e-02           </td></tr>\n",
       "\t<tr><td>ENSG00000035141_FAM136A</td><td>3                      </td><td>2                      </td><td>7.716807e-01           </td><td>2_70426325_C_T         </td><td>1.000000e+00           </td><td>1.000000e+00           </td><td>8.694910e-01           </td><td>1.000000e+00           </td><td>1.000000e+00           </td></tr>\n",
       "\t<tr><td>ENSG00000035141_FAM136A</td><td>3                      </td><td>2                      </td><td>2.723836e-01           </td><td>2_70502930_A_G         </td><td>8.171508e-01           </td><td>1.000000e+00           </td><td>3.420843e-01           </td><td>1.000000e+00           </td><td>1.000000e+00           </td></tr>\n",
       "\t<tr><td>ENSG00000035141_FAM136A</td><td>3                      </td><td>2                      </td><td>5.167523e-01           </td><td>2_70541419_A_G         </td><td>1.000000e+00           </td><td>1.000000e+00           </td><td>8.230128e-01           </td><td>1.000000e+00           </td><td>1.000000e+00           </td></tr>\n",
       "\t<tr><td>ENSG00000183891_TTC32  </td><td>2                      </td><td>2                      </td><td>4.030850e-05           </td><td>2_20082172_T_C         </td><td>8.061699e-05           </td><td>1.726988e-03           </td><td>          NA           </td><td>          NA           </td><td>          NA           </td></tr>\n",
       "\t<tr><td>ENSG00000183891_TTC32  </td><td>2                      </td><td>2                      </td><td>5.387567e-10           </td><td>2_20090677_G_A         </td><td>1.077513e-09           </td><td>6.880693e-08           </td><td>          NA           </td><td>          NA           </td><td>          NA           </td></tr>\n",
       "\t<tr><td>ENSG00000196208_GREB1  </td><td>2                      </td><td>2                      </td><td>3.368348e-02           </td><td>2_11720282_A_G         </td><td>6.736696e-02           </td><td>2.978539e-01           </td><td>1.489889e-04           </td><td>2.979778e-04           </td><td>2.656380e-03           </td></tr>\n",
       "\t<tr><td>ENSG00000196208_GREB1  </td><td>2                      </td><td>2                      </td><td>3.568907e-02           </td><td>2_11736305_G_A         </td><td>7.137814e-02           </td><td>3.097673e-01           </td><td>2.083338e-04           </td><td>4.166675e-04           </td><td>3.409098e-03           </td></tr>\n",
       "\t<tr><td>ENSG00000144120_TMEM177</td><td>1                      </td><td>2                      </td><td>8.757040e-13           </td><td>2_120438523_A_G        </td><td>8.757040e-13           </td><td>9.785992e-11           </td><td>3.412719e-11           </td><td>3.412719e-11           </td><td>3.839309e-09           </td></tr>\n",
       "\t<tr><td>ENSG00000237651_C2orf74</td><td>3                      </td><td>2                      </td><td>9.928004e-02           </td><td>2_61372507_A_G         </td><td>2.978401e-01           </td><td>6.869687e-01           </td><td>          NA           </td><td>          NA           </td><td>          NA           </td></tr>\n",
       "\t<tr><td>ENSG00000237651_C2orf74</td><td>3                      </td><td>2                      </td><td>7.004646e-01           </td><td>2_61381018_C_T         </td><td>1.000000e+00           </td><td>1.000000e+00           </td><td>          NA           </td><td>          NA           </td><td>          NA           </td></tr>\n",
       "\t<tr><td>ENSG00000237651_C2orf74</td><td>3                      </td><td>2                      </td><td>2.180806e-01           </td><td>2_61400816_G_A         </td><td>6.542418e-01           </td><td>1.000000e+00           </td><td>          NA           </td><td>          NA           </td><td>          NA           </td></tr>\n",
       "\t<tr><td>ENSG00000136717_BIN1   </td><td>3                      </td><td>2                      </td><td>1.682854e-01           </td><td>2_127846505_T_C        </td><td>5.048561e-01           </td><td>8.937453e-01           </td><td>          NA           </td><td>          NA           </td><td>          NA           </td></tr>\n",
       "\t<tr><td>ENSG00000136717_BIN1   </td><td>3                      </td><td>2                      </td><td>1.378794e-01           </td><td>2_127859418_T_C        </td><td>4.136383e-01           </td><td>8.148803e-01           </td><td>          NA           </td><td>          NA           </td><td>          NA           </td></tr>\n",
       "\t<tr><td>ENSG00000136717_BIN1   </td><td>3                      </td><td>2                      </td><td>1.378794e-01           </td><td>2_127863029_C_T        </td><td>4.136383e-01           </td><td>8.148803e-01           </td><td>          NA           </td><td>          NA           </td><td>          NA           </td></tr>\n",
       "\t<tr><td>ENSG00000240344_PPIL3  </td><td>3                      </td><td>2                      </td><td>1.719352e-01           </td><td>2_201742345_C_T        </td><td>5.158056e-01           </td><td>9.021062e-01           </td><td>2.154218e-01           </td><td>6.462654e-01           </td><td>8.609220e-01           </td></tr>\n",
       "\t<tr><td>ENSG00000240344_PPIL3  </td><td>3                      </td><td>2                      </td><td>1.597200e-01           </td><td>2_201754063_T_C        </td><td>4.791599e-01           </td><td>8.755536e-01           </td><td>2.133053e-01           </td><td>6.399160e-01           </td><td>8.555027e-01           </td></tr>\n",
       "\t<tr><td>ENSG00000240344_PPIL3  </td><td>3                      </td><td>2                      </td><td>2.194659e-01           </td><td>2_201774355_T_C        </td><td>6.583978e-01           </td><td>1.000000e+00           </td><td>3.580429e-01           </td><td>1.000000e+00           </td><td>1.000000e+00           </td></tr>\n",
       "</tbody>\n",
       "</table>\n"
      ],
      "text/latex": [
       "\\begin{tabular}{r|llllllllll}\n",
       " gene & n\\_snps & chrom & pv\\_raw.old & snpID & pv.old & qv.old & pv\\_raw.new & pv.new & qv.new\\\\\n",
       "\\hline\n",
       "\t ENSG00000138032\\_PPM1B   & 1                         & 2                         & 2.081732e-01              & 2\\_44396235\\_T\\_G      & 2.081732e-01              & 5.680916e-01              & 1.916338e-05              & 1.916338e-05              & 2.661581e-04             \\\\\n",
       "\t ENSG00000229150\\_CRYGEP  & 2                         & 2                         & 2.492542e-40              & 2\\_208977362\\_C\\_A     & 4.985085e-40              & 1.114166e-36              &           NA              &           NA              &           NA             \\\\\n",
       "\t ENSG00000229150\\_CRYGEP  & 2                         & 2                         & 2.084663e-41              & 2\\_208977797\\_G\\_T     & 4.169326e-41              & 1.863689e-37              &           NA              &           NA              &           NA             \\\\\n",
       "\t ENSG00000213160\\_KLHL23  & 3                         & 2                         & 2.940980e-01              & 2\\_170575157\\_G\\_A     & 8.822939e-01              & 1.000000e+00              & 3.829416e-02              & 1.148825e-01              & 2.616251e-01             \\\\\n",
       "\t ENSG00000213160\\_KLHL23  & 3                         & 2                         & 4.148134e-02              & 2\\_170617443\\_T\\_C     & 1.244440e-01              & 4.332281e-01              & 2.532561e-02              & 7.597682e-02              & 1.964918e-01             \\\\\n",
       "\t ENSG00000213160\\_KLHL23  & 3                         & 2                         & 2.016330e-02              & 2\\_170630637\\_A\\_G     & 6.048990e-02              & 2.787524e-01              & 5.472915e-04              & 1.641874e-03              & 1.055491e-02             \\\\\n",
       "\t ENSG00000035141\\_FAM136A & 3                         & 2                         & 7.716807e-01              & 2\\_70426325\\_C\\_T      & 1.000000e+00              & 1.000000e+00              & 8.694910e-01              & 1.000000e+00              & 1.000000e+00             \\\\\n",
       "\t ENSG00000035141\\_FAM136A & 3                         & 2                         & 2.723836e-01              & 2\\_70502930\\_A\\_G      & 8.171508e-01              & 1.000000e+00              & 3.420843e-01              & 1.000000e+00              & 1.000000e+00             \\\\\n",
       "\t ENSG00000035141\\_FAM136A & 3                         & 2                         & 5.167523e-01              & 2\\_70541419\\_A\\_G      & 1.000000e+00              & 1.000000e+00              & 8.230128e-01              & 1.000000e+00              & 1.000000e+00             \\\\\n",
       "\t ENSG00000183891\\_TTC32   & 2                         & 2                         & 4.030850e-05              & 2\\_20082172\\_T\\_C      & 8.061699e-05              & 1.726988e-03              &           NA              &           NA              &           NA             \\\\\n",
       "\t ENSG00000183891\\_TTC32   & 2                         & 2                         & 5.387567e-10              & 2\\_20090677\\_G\\_A      & 1.077513e-09              & 6.880693e-08              &           NA              &           NA              &           NA             \\\\\n",
       "\t ENSG00000196208\\_GREB1   & 2                         & 2                         & 3.368348e-02              & 2\\_11720282\\_A\\_G      & 6.736696e-02              & 2.978539e-01              & 1.489889e-04              & 2.979778e-04              & 2.656380e-03             \\\\\n",
       "\t ENSG00000196208\\_GREB1   & 2                         & 2                         & 3.568907e-02              & 2\\_11736305\\_G\\_A      & 7.137814e-02              & 3.097673e-01              & 2.083338e-04              & 4.166675e-04              & 3.409098e-03             \\\\\n",
       "\t ENSG00000144120\\_TMEM177 & 1                         & 2                         & 8.757040e-13              & 2\\_120438523\\_A\\_G     & 8.757040e-13              & 9.785992e-11              & 3.412719e-11              & 3.412719e-11              & 3.839309e-09             \\\\\n",
       "\t ENSG00000237651\\_C2orf74 & 3                         & 2                         & 9.928004e-02              & 2\\_61372507\\_A\\_G      & 2.978401e-01              & 6.869687e-01              &           NA              &           NA              &           NA             \\\\\n",
       "\t ENSG00000237651\\_C2orf74 & 3                         & 2                         & 7.004646e-01              & 2\\_61381018\\_C\\_T      & 1.000000e+00              & 1.000000e+00              &           NA              &           NA              &           NA             \\\\\n",
       "\t ENSG00000237651\\_C2orf74 & 3                         & 2                         & 2.180806e-01              & 2\\_61400816\\_G\\_A      & 6.542418e-01              & 1.000000e+00              &           NA              &           NA              &           NA             \\\\\n",
       "\t ENSG00000136717\\_BIN1    & 3                         & 2                         & 1.682854e-01              & 2\\_127846505\\_T\\_C     & 5.048561e-01              & 8.937453e-01              &           NA              &           NA              &           NA             \\\\\n",
       "\t ENSG00000136717\\_BIN1    & 3                         & 2                         & 1.378794e-01              & 2\\_127859418\\_T\\_C     & 4.136383e-01              & 8.148803e-01              &           NA              &           NA              &           NA             \\\\\n",
       "\t ENSG00000136717\\_BIN1    & 3                         & 2                         & 1.378794e-01              & 2\\_127863029\\_C\\_T     & 4.136383e-01              & 8.148803e-01              &           NA              &           NA              &           NA             \\\\\n",
       "\t ENSG00000240344\\_PPIL3   & 3                         & 2                         & 1.719352e-01              & 2\\_201742345\\_C\\_T     & 5.158056e-01              & 9.021062e-01              & 2.154218e-01              & 6.462654e-01              & 8.609220e-01             \\\\\n",
       "\t ENSG00000240344\\_PPIL3   & 3                         & 2                         & 1.597200e-01              & 2\\_201754063\\_T\\_C     & 4.791599e-01              & 8.755536e-01              & 2.133053e-01              & 6.399160e-01              & 8.555027e-01             \\\\\n",
       "\t ENSG00000240344\\_PPIL3   & 3                         & 2                         & 2.194659e-01              & 2\\_201774355\\_T\\_C     & 6.583978e-01              & 1.000000e+00              & 3.580429e-01              & 1.000000e+00              & 1.000000e+00             \\\\\n",
       "\\end{tabular}\n"
      ],
      "text/markdown": [
       "\n",
       "| gene | n_snps | chrom | pv_raw.old | snpID | pv.old | qv.old | pv_raw.new | pv.new | qv.new |\n",
       "|---|---|---|---|---|---|---|---|---|---|\n",
       "| ENSG00000138032_PPM1B   | 1                       | 2                       | 2.081732e-01            | 2_44396235_T_G          | 2.081732e-01            | 5.680916e-01            | 1.916338e-05            | 1.916338e-05            | 2.661581e-04            |\n",
       "| ENSG00000229150_CRYGEP  | 2                       | 2                       | 2.492542e-40            | 2_208977362_C_A         | 4.985085e-40            | 1.114166e-36            |           NA            |           NA            |           NA            |\n",
       "| ENSG00000229150_CRYGEP  | 2                       | 2                       | 2.084663e-41            | 2_208977797_G_T         | 4.169326e-41            | 1.863689e-37            |           NA            |           NA            |           NA            |\n",
       "| ENSG00000213160_KLHL23  | 3                       | 2                       | 2.940980e-01            | 2_170575157_G_A         | 8.822939e-01            | 1.000000e+00            | 3.829416e-02            | 1.148825e-01            | 2.616251e-01            |\n",
       "| ENSG00000213160_KLHL23  | 3                       | 2                       | 4.148134e-02            | 2_170617443_T_C         | 1.244440e-01            | 4.332281e-01            | 2.532561e-02            | 7.597682e-02            | 1.964918e-01            |\n",
       "| ENSG00000213160_KLHL23  | 3                       | 2                       | 2.016330e-02            | 2_170630637_A_G         | 6.048990e-02            | 2.787524e-01            | 5.472915e-04            | 1.641874e-03            | 1.055491e-02            |\n",
       "| ENSG00000035141_FAM136A | 3                       | 2                       | 7.716807e-01            | 2_70426325_C_T          | 1.000000e+00            | 1.000000e+00            | 8.694910e-01            | 1.000000e+00            | 1.000000e+00            |\n",
       "| ENSG00000035141_FAM136A | 3                       | 2                       | 2.723836e-01            | 2_70502930_A_G          | 8.171508e-01            | 1.000000e+00            | 3.420843e-01            | 1.000000e+00            | 1.000000e+00            |\n",
       "| ENSG00000035141_FAM136A | 3                       | 2                       | 5.167523e-01            | 2_70541419_A_G          | 1.000000e+00            | 1.000000e+00            | 8.230128e-01            | 1.000000e+00            | 1.000000e+00            |\n",
       "| ENSG00000183891_TTC32   | 2                       | 2                       | 4.030850e-05            | 2_20082172_T_C          | 8.061699e-05            | 1.726988e-03            |           NA            |           NA            |           NA            |\n",
       "| ENSG00000183891_TTC32   | 2                       | 2                       | 5.387567e-10            | 2_20090677_G_A          | 1.077513e-09            | 6.880693e-08            |           NA            |           NA            |           NA            |\n",
       "| ENSG00000196208_GREB1   | 2                       | 2                       | 3.368348e-02            | 2_11720282_A_G          | 6.736696e-02            | 2.978539e-01            | 1.489889e-04            | 2.979778e-04            | 2.656380e-03            |\n",
       "| ENSG00000196208_GREB1   | 2                       | 2                       | 3.568907e-02            | 2_11736305_G_A          | 7.137814e-02            | 3.097673e-01            | 2.083338e-04            | 4.166675e-04            | 3.409098e-03            |\n",
       "| ENSG00000144120_TMEM177 | 1                       | 2                       | 8.757040e-13            | 2_120438523_A_G         | 8.757040e-13            | 9.785992e-11            | 3.412719e-11            | 3.412719e-11            | 3.839309e-09            |\n",
       "| ENSG00000237651_C2orf74 | 3                       | 2                       | 9.928004e-02            | 2_61372507_A_G          | 2.978401e-01            | 6.869687e-01            |           NA            |           NA            |           NA            |\n",
       "| ENSG00000237651_C2orf74 | 3                       | 2                       | 7.004646e-01            | 2_61381018_C_T          | 1.000000e+00            | 1.000000e+00            |           NA            |           NA            |           NA            |\n",
       "| ENSG00000237651_C2orf74 | 3                       | 2                       | 2.180806e-01            | 2_61400816_G_A          | 6.542418e-01            | 1.000000e+00            |           NA            |           NA            |           NA            |\n",
       "| ENSG00000136717_BIN1    | 3                       | 2                       | 1.682854e-01            | 2_127846505_T_C         | 5.048561e-01            | 8.937453e-01            |           NA            |           NA            |           NA            |\n",
       "| ENSG00000136717_BIN1    | 3                       | 2                       | 1.378794e-01            | 2_127859418_T_C         | 4.136383e-01            | 8.148803e-01            |           NA            |           NA            |           NA            |\n",
       "| ENSG00000136717_BIN1    | 3                       | 2                       | 1.378794e-01            | 2_127863029_C_T         | 4.136383e-01            | 8.148803e-01            |           NA            |           NA            |           NA            |\n",
       "| ENSG00000240344_PPIL3   | 3                       | 2                       | 1.719352e-01            | 2_201742345_C_T         | 5.158056e-01            | 9.021062e-01            | 2.154218e-01            | 6.462654e-01            | 8.609220e-01            |\n",
       "| ENSG00000240344_PPIL3   | 3                       | 2                       | 1.597200e-01            | 2_201754063_T_C         | 4.791599e-01            | 8.755536e-01            | 2.133053e-01            | 6.399160e-01            | 8.555027e-01            |\n",
       "| ENSG00000240344_PPIL3   | 3                       | 2                       | 2.194659e-01            | 2_201774355_T_C         | 6.583978e-01            | 1.000000e+00            | 3.580429e-01            | 1.000000e+00            | 1.000000e+00            |\n",
       "\n"
      ],
      "text/plain": [
       "   gene                    n_snps chrom pv_raw.old   snpID          \n",
       "1  ENSG00000138032_PPM1B   1      2     2.081732e-01 2_44396235_T_G \n",
       "2  ENSG00000229150_CRYGEP  2      2     2.492542e-40 2_208977362_C_A\n",
       "3  ENSG00000229150_CRYGEP  2      2     2.084663e-41 2_208977797_G_T\n",
       "4  ENSG00000213160_KLHL23  3      2     2.940980e-01 2_170575157_G_A\n",
       "5  ENSG00000213160_KLHL23  3      2     4.148134e-02 2_170617443_T_C\n",
       "6  ENSG00000213160_KLHL23  3      2     2.016330e-02 2_170630637_A_G\n",
       "7  ENSG00000035141_FAM136A 3      2     7.716807e-01 2_70426325_C_T \n",
       "8  ENSG00000035141_FAM136A 3      2     2.723836e-01 2_70502930_A_G \n",
       "9  ENSG00000035141_FAM136A 3      2     5.167523e-01 2_70541419_A_G \n",
       "10 ENSG00000183891_TTC32   2      2     4.030850e-05 2_20082172_T_C \n",
       "11 ENSG00000183891_TTC32   2      2     5.387567e-10 2_20090677_G_A \n",
       "12 ENSG00000196208_GREB1   2      2     3.368348e-02 2_11720282_A_G \n",
       "13 ENSG00000196208_GREB1   2      2     3.568907e-02 2_11736305_G_A \n",
       "14 ENSG00000144120_TMEM177 1      2     8.757040e-13 2_120438523_A_G\n",
       "15 ENSG00000237651_C2orf74 3      2     9.928004e-02 2_61372507_A_G \n",
       "16 ENSG00000237651_C2orf74 3      2     7.004646e-01 2_61381018_C_T \n",
       "17 ENSG00000237651_C2orf74 3      2     2.180806e-01 2_61400816_G_A \n",
       "18 ENSG00000136717_BIN1    3      2     1.682854e-01 2_127846505_T_C\n",
       "19 ENSG00000136717_BIN1    3      2     1.378794e-01 2_127859418_T_C\n",
       "20 ENSG00000136717_BIN1    3      2     1.378794e-01 2_127863029_C_T\n",
       "21 ENSG00000240344_PPIL3   3      2     1.719352e-01 2_201742345_C_T\n",
       "22 ENSG00000240344_PPIL3   3      2     1.597200e-01 2_201754063_T_C\n",
       "23 ENSG00000240344_PPIL3   3      2     2.194659e-01 2_201774355_T_C\n",
       "   pv.old       qv.old       pv_raw.new   pv.new       qv.new      \n",
       "1  2.081732e-01 5.680916e-01 1.916338e-05 1.916338e-05 2.661581e-04\n",
       "2  4.985085e-40 1.114166e-36           NA           NA           NA\n",
       "3  4.169326e-41 1.863689e-37           NA           NA           NA\n",
       "4  8.822939e-01 1.000000e+00 3.829416e-02 1.148825e-01 2.616251e-01\n",
       "5  1.244440e-01 4.332281e-01 2.532561e-02 7.597682e-02 1.964918e-01\n",
       "6  6.048990e-02 2.787524e-01 5.472915e-04 1.641874e-03 1.055491e-02\n",
       "7  1.000000e+00 1.000000e+00 8.694910e-01 1.000000e+00 1.000000e+00\n",
       "8  8.171508e-01 1.000000e+00 3.420843e-01 1.000000e+00 1.000000e+00\n",
       "9  1.000000e+00 1.000000e+00 8.230128e-01 1.000000e+00 1.000000e+00\n",
       "10 8.061699e-05 1.726988e-03           NA           NA           NA\n",
       "11 1.077513e-09 6.880693e-08           NA           NA           NA\n",
       "12 6.736696e-02 2.978539e-01 1.489889e-04 2.979778e-04 2.656380e-03\n",
       "13 7.137814e-02 3.097673e-01 2.083338e-04 4.166675e-04 3.409098e-03\n",
       "14 8.757040e-13 9.785992e-11 3.412719e-11 3.412719e-11 3.839309e-09\n",
       "15 2.978401e-01 6.869687e-01           NA           NA           NA\n",
       "16 1.000000e+00 1.000000e+00           NA           NA           NA\n",
       "17 6.542418e-01 1.000000e+00           NA           NA           NA\n",
       "18 5.048561e-01 8.937453e-01           NA           NA           NA\n",
       "19 4.136383e-01 8.148803e-01           NA           NA           NA\n",
       "20 4.136383e-01 8.148803e-01           NA           NA           NA\n",
       "21 5.158056e-01 9.021062e-01 2.154218e-01 6.462654e-01 8.609220e-01\n",
       "22 4.791599e-01 8.755536e-01 2.133053e-01 6.399160e-01 8.555027e-01\n",
       "23 6.583978e-01 1.000000e+00 3.580429e-01 1.000000e+00 1.000000e+00"
      ]
     },
     "metadata": {},
     "output_type": "display_data"
    }
   ],
   "source": [
    "df5 = left_join(df1[df1$gene %in% genes,], df3[df3$gene %in% genes,],\n",
    "                 by = c(\"snpID\",\"gene\",\"chrom\",\"n_snps\"), suffix = c(\".old\",\".new\"))\n",
    "df5"
   ]
  },
  {
   "cell_type": "code",
   "execution_count": null,
   "metadata": {},
   "outputs": [],
   "source": [
    "## old run"
   ]
  },
  {
   "cell_type": "code",
   "execution_count": null,
   "metadata": {},
   "outputs": [],
   "source": []
  },
  {
   "cell_type": "code",
   "execution_count": null,
   "metadata": {},
   "outputs": [],
   "source": []
  },
  {
   "cell_type": "code",
   "execution_count": null,
   "metadata": {},
   "outputs": [],
   "source": [
    "## new run"
   ]
  },
  {
   "cell_type": "code",
   "execution_count": null,
   "metadata": {},
   "outputs": [],
   "source": [
    "# (Pdb) y.shape\n",
    "# (33964,)\n",
    "# (Pdb) M.shape\n",
    "# (33964, 1)\n",
    "# (Pdb) E.shape\n",
    "# (33964, 10)\n",
    "# (Pdb) len(Ls)\n",
    "# 10\n",
    "# (Pdb) Ls[0].shape\n",
    "# (33964, 125)"
   ]
  },
  {
   "cell_type": "code",
   "execution_count": null,
   "metadata": {},
   "outputs": [],
   "source": [
    "# gene = 'ENSG00000229150_CRYGEP'\n",
    "# (Pdb) pv.head()\n",
    "#   chrom            pv          variant\n",
    "# 0     2  1.334417e-15  2_208977362_C_A\n",
    "# 1     2  3.168710e-16  2_208977797_G_T"
   ]
  },
  {
   "cell_type": "code",
   "execution_count": null,
   "metadata": {},
   "outputs": [],
   "source": [
    "# gene = 'ENSG00000183891_TTC32'\n",
    "# (Pdb) pv.head()\n",
    "#   chrom            pv         variant\n",
    "# 0     2  1.317321e-04  2_20082172_T_C\n",
    "# 1     2  5.569644e-08  2_20090677_G_A"
   ]
  },
  {
   "cell_type": "code",
   "execution_count": null,
   "metadata": {},
   "outputs": [],
   "source": [
    "# gene = 'ENSG00000144120_TMEM177'\n",
    "# (Pdb) pv.head()\n",
    "#   chrom            pv          variant\n",
    "# 0     2  3.412719e-11  2_120438523_A_G"
   ]
  },
  {
   "cell_type": "code",
   "execution_count": null,
   "metadata": {},
   "outputs": [],
   "source": [
    "# gene = 'ENSG00000138032_PPM1B'\n",
    "# (Pdb) pv.head()\n",
    "#   chrom        pv         variant\n",
    "# 0     2  0.000019  2_44396235_T_G"
   ]
  },
  {
   "cell_type": "code",
   "execution_count": null,
   "metadata": {},
   "outputs": [],
   "source": [
    "# gene = 'ENSG00000237651_C2orf74'"
   ]
  },
  {
   "cell_type": "code",
   "execution_count": null,
   "metadata": {},
   "outputs": [],
   "source": [
    "# gene = 'ENSG00000035141_FAM136A'"
   ]
  },
  {
   "cell_type": "code",
   "execution_count": null,
   "metadata": {},
   "outputs": [],
   "source": [
    "# gene = 'ENSG00000196208_GREB1'"
   ]
  },
  {
   "cell_type": "code",
   "execution_count": null,
   "metadata": {},
   "outputs": [],
   "source": [
    "# gene = 'ENSG00000136717_BIN1'"
   ]
  },
  {
   "cell_type": "code",
   "execution_count": null,
   "metadata": {},
   "outputs": [],
   "source": [
    "# gene = 'ENSG00000240344_PPIL3'"
   ]
  },
  {
   "cell_type": "code",
   "execution_count": null,
   "metadata": {},
   "outputs": [],
   "source": [
    "# gene = 'ENSG00000213160_KLHL23'"
   ]
  }
 ],
 "metadata": {
  "kernelspec": {
   "display_name": "R",
   "language": "R",
   "name": "ir"
  },
  "language_info": {
   "codemirror_mode": "r",
   "file_extension": ".r",
   "mimetype": "text/x-r-source",
   "name": "R",
   "pygments_lexer": "r",
   "version": "3.6.1"
  }
 },
 "nbformat": 4,
 "nbformat_minor": 4
}
