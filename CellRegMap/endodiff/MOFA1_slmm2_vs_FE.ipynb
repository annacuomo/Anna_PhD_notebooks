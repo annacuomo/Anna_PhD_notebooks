{
 "cells": [
  {
   "cell_type": "code",
   "execution_count": 1,
   "metadata": {},
   "outputs": [
    {
     "name": "stderr",
     "output_type": "stream",
     "text": [
      "\n",
      "Attaching package: ‘dplyr’\n",
      "\n",
      "The following objects are masked from ‘package:stats’:\n",
      "\n",
      "    filter, lag\n",
      "\n",
      "The following objects are masked from ‘package:base’:\n",
      "\n",
      "    intersect, setdiff, setequal, union\n",
      "\n"
     ]
    }
   ],
   "source": [
    "library(qvalue)\n",
    "library(dplyr)\n",
    "library(ggplot2)"
   ]
  },
  {
   "cell_type": "code",
   "execution_count": 2,
   "metadata": {},
   "outputs": [],
   "source": [
    "folder = \"/hps/nobackup/stegle/users/acuomo/all_scripts/struct_LMM2/sc_endodiff/new/MOFA/\"\n",
    "T = 0.05"
   ]
  },
  {
   "cell_type": "code",
   "execution_count": 3,
   "metadata": {},
   "outputs": [],
   "source": [
    "### sc-StructLMM"
   ]
  },
  {
   "cell_type": "code",
   "execution_count": 4,
   "metadata": {},
   "outputs": [
    {
     "data": {
      "text/html": [
       "121"
      ],
      "text/latex": [
       "121"
      ],
      "text/markdown": [
       "121"
      ],
      "text/plain": [
       "[1] 121"
      ]
     },
     "metadata": {},
     "output_type": "display_data"
    },
    {
     "data": {
      "text/html": [
       "<table>\n",
       "<thead><tr><th></th><th scope=col>gene</th><th scope=col>n_snps</th><th scope=col>chrom</th><th scope=col>pv_raw</th><th scope=col>snpID</th><th scope=col>pv</th></tr></thead>\n",
       "<tbody>\n",
       "\t<tr><th scope=row>15</th><td>ENSG00000189306_RRP7A</td><td>3                    </td><td>22                   </td><td>0.4948269            </td><td>22_42896474_T_C      </td><td>1.0000000            </td></tr>\n",
       "\t<tr><th scope=row>16</th><td>ENSG00000189306_RRP7A</td><td>3                    </td><td>22                   </td><td>0.2273792            </td><td>22_42897414_A_C      </td><td>0.6821375            </td></tr>\n",
       "</tbody>\n",
       "</table>\n"
      ],
      "text/latex": [
       "\\begin{tabular}{r|llllll}\n",
       "  & gene & n\\_snps & chrom & pv\\_raw & snpID & pv\\\\\n",
       "\\hline\n",
       "\t15 & ENSG00000189306\\_RRP7A & 3                       & 22                      & 0.4948269               & 22\\_42896474\\_T\\_C   & 1.0000000              \\\\\n",
       "\t16 & ENSG00000189306\\_RRP7A & 3                       & 22                      & 0.2273792               & 22\\_42897414\\_A\\_C   & 0.6821375              \\\\\n",
       "\\end{tabular}\n"
      ],
      "text/markdown": [
       "\n",
       "| <!--/--> | gene | n_snps | chrom | pv_raw | snpID | pv |\n",
       "|---|---|---|---|---|---|---|\n",
       "| 15 | ENSG00000189306_RRP7A | 3                     | 22                    | 0.4948269             | 22_42896474_T_C       | 1.0000000             |\n",
       "| 16 | ENSG00000189306_RRP7A | 3                     | 22                    | 0.2273792             | 22_42897414_A_C       | 0.6821375             |\n",
       "\n"
      ],
      "text/plain": [
       "   gene                  n_snps chrom pv_raw    snpID           pv       \n",
       "15 ENSG00000189306_RRP7A 3      22    0.4948269 22_42896474_T_C 1.0000000\n",
       "16 ENSG00000189306_RRP7A 3      22    0.2273792 22_42897414_A_C 0.6821375"
      ]
     },
     "metadata": {},
     "output_type": "display_data"
    }
   ],
   "source": [
    "summary_filename = paste0(folder, \"MOFA1/summary_endo_eqtl.csv\")\n",
    "df0 = read.csv(summary_filename, row.names = 1)\n",
    "df0 = df0[df0$chrom == 22,] \n",
    "nrow(df0)\n",
    "head(df0,2)"
   ]
  },
  {
   "cell_type": "code",
   "execution_count": 5,
   "metadata": {},
   "outputs": [
    {
     "data": {
      "text/html": [
       "<ol class=list-inline>\n",
       "\t<li>10</li>\n",
       "\t<li>88</li>\n",
       "\t<li>0.113636363636364</li>\n",
       "</ol>\n"
      ],
      "text/latex": [
       "\\begin{enumerate*}\n",
       "\\item 10\n",
       "\\item 88\n",
       "\\item 0.113636363636364\n",
       "\\end{enumerate*}\n"
      ],
      "text/markdown": [
       "1. 10\n",
       "2. 88\n",
       "3. 0.113636363636364\n",
       "\n",
       "\n"
      ],
      "text/plain": [
       "[1] 10.0000000 88.0000000  0.1136364"
      ]
     },
     "metadata": {},
     "output_type": "display_data"
    }
   ],
   "source": [
    "df0$qv = qvalue(df0$pv, pi0 = 1)$qvalue\n",
    "mofa1 = length(unique(df0[df0$qv<T,\"gene\"]))\n",
    "n_genes1 = length(unique(df0$gene))\n",
    "c(mofa1,n_genes1, mofa1/n_genes1)"
   ]
  },
  {
   "cell_type": "code",
   "execution_count": 6,
   "metadata": {},
   "outputs": [],
   "source": [
    "### FE model"
   ]
  },
  {
   "cell_type": "code",
   "execution_count": 7,
   "metadata": {},
   "outputs": [
    {
     "data": {
      "text/html": [
       "103"
      ],
      "text/latex": [
       "103"
      ],
      "text/markdown": [
       "103"
      ],
      "text/plain": [
       "[1] 103"
      ]
     },
     "metadata": {},
     "output_type": "display_data"
    },
    {
     "data": {
      "text/html": [
       "<table>\n",
       "<thead><tr><th></th><th scope=col>gene</th><th scope=col>n_snps</th><th scope=col>chrom</th><th scope=col>pv_raw</th><th scope=col>snpID</th><th scope=col>pv</th></tr></thead>\n",
       "<tbody>\n",
       "\t<tr><th scope=row>0</th><td>ENSG00000189306_RRP7A</td><td>3                    </td><td>22                   </td><td>8.489031e-07         </td><td>22_42896474_T_C      </td><td>2.546709e-06         </td></tr>\n",
       "\t<tr><th scope=row>1</th><td>ENSG00000189306_RRP7A</td><td>3                    </td><td>22                   </td><td>5.552467e-07         </td><td>22_42897414_A_C      </td><td>1.665740e-06         </td></tr>\n",
       "</tbody>\n",
       "</table>\n"
      ],
      "text/latex": [
       "\\begin{tabular}{r|llllll}\n",
       "  & gene & n\\_snps & chrom & pv\\_raw & snpID & pv\\\\\n",
       "\\hline\n",
       "\t0 & ENSG00000189306\\_RRP7A & 3                       & 22                      & 8.489031e-07            & 22\\_42896474\\_T\\_C   & 2.546709e-06           \\\\\n",
       "\t1 & ENSG00000189306\\_RRP7A & 3                       & 22                      & 5.552467e-07            & 22\\_42897414\\_A\\_C   & 1.665740e-06           \\\\\n",
       "\\end{tabular}\n"
      ],
      "text/markdown": [
       "\n",
       "| <!--/--> | gene | n_snps | chrom | pv_raw | snpID | pv |\n",
       "|---|---|---|---|---|---|---|\n",
       "| 0 | ENSG00000189306_RRP7A | 3                     | 22                    | 8.489031e-07          | 22_42896474_T_C       | 2.546709e-06          |\n",
       "| 1 | ENSG00000189306_RRP7A | 3                     | 22                    | 5.552467e-07          | 22_42897414_A_C       | 1.665740e-06          |\n",
       "\n"
      ],
      "text/plain": [
       "  gene                  n_snps chrom pv_raw       snpID           pv          \n",
       "0 ENSG00000189306_RRP7A 3      22    8.489031e-07 22_42896474_T_C 2.546709e-06\n",
       "1 ENSG00000189306_RRP7A 3      22    5.552467e-07 22_42897414_A_C 1.665740e-06"
      ]
     },
     "metadata": {},
     "output_type": "display_data"
    }
   ],
   "source": [
    "summary_filename = paste0(folder, \"MOFA1_FE/summary_endo_eqtl.csv\")\n",
    "df1 = read.csv(summary_filename, row.names = 1)\n",
    "df1 = df1[df1$chrom == 22,]\n",
    "nrow(df1)\n",
    "head(df1,2)"
   ]
  },
  {
   "cell_type": "code",
   "execution_count": 8,
   "metadata": {},
   "outputs": [
    {
     "data": {
      "text/html": [
       "<ol class=list-inline>\n",
       "\t<li>15</li>\n",
       "\t<li>71</li>\n",
       "\t<li>0.211267605633803</li>\n",
       "</ol>\n"
      ],
      "text/latex": [
       "\\begin{enumerate*}\n",
       "\\item 15\n",
       "\\item 71\n",
       "\\item 0.211267605633803\n",
       "\\end{enumerate*}\n"
      ],
      "text/markdown": [
       "1. 15\n",
       "2. 71\n",
       "3. 0.211267605633803\n",
       "\n",
       "\n"
      ],
      "text/plain": [
       "[1] 15.0000000 71.0000000  0.2112676"
      ]
     },
     "metadata": {},
     "output_type": "display_data"
    }
   ],
   "source": [
    "df1$qv = qvalue(df1$pv, pi0 = 1)$qvalue\n",
    "mofa1 = length(unique(df1[df1$qv<T,\"gene\"]))\n",
    "n_genes1 = length(unique(df1$gene))\n",
    "c(mofa1,n_genes1, mofa1/n_genes1)"
   ]
  },
  {
   "cell_type": "code",
   "execution_count": 9,
   "metadata": {},
   "outputs": [],
   "source": [
    "### merge"
   ]
  },
  {
   "cell_type": "code",
   "execution_count": 10,
   "metadata": {},
   "outputs": [
    {
     "name": "stderr",
     "output_type": "stream",
     "text": [
      "Warning message:\n",
      "“Column `gene` joining factors with different levels, coercing to character vector”Warning message:\n",
      "“Column `snpID` joining factors with different levels, coercing to character vector”"
     ]
    }
   ],
   "source": [
    "df2 = inner_join(df0, df1, by = c(\"gene\",\"snpID\"), suffix = c(\".slmm2\",\".fe\"))"
   ]
  },
  {
   "cell_type": "code",
   "execution_count": 11,
   "metadata": {},
   "outputs": [
    {
     "data": {
      "text/html": [
       "0.126179656815093"
      ],
      "text/latex": [
       "0.126179656815093"
      ],
      "text/markdown": [
       "0.126179656815093"
      ],
      "text/plain": [
       "[1] 0.1261797"
      ]
     },
     "metadata": {},
     "output_type": "display_data"
    }
   ],
   "source": [
    "cor(-log10(df2$pv.slmm2), -log10(df2$pv.fe))"
   ]
  },
  {
   "cell_type": "code",
   "execution_count": 12,
   "metadata": {},
   "outputs": [
    {
     "data": {
      "image/png": "[encoded data removed]",
      "text/plain": [
       "plot without title"
      ]
     },
     "metadata": {},
     "output_type": "display_data"
    }
   ],
   "source": [
    "ggplot(df2, aes(x = -log10(pv.slmm2), y = -log10(pv.fe))) + geom_point() + theme_bw() #+ \n",
    "#     xlim(c(0,8)) + ylim(c(0,8)) + geom_abline()"
   ]
  },
  {
   "cell_type": "code",
   "execution_count": null,
   "metadata": {},
   "outputs": [],
   "source": []
  }
 ],
 "metadata": {
  "kernelspec": {
   "display_name": "R",
   "language": "R",
   "name": "ir"
  },
  "language_info": {
   "codemirror_mode": "r",
   "file_extension": ".r",
   "mimetype": "text/x-r-source",
   "name": "R",
   "pygments_lexer": "r",
   "version": "3.6.1"
  }
 },
 "nbformat": 4,
 "nbformat_minor": 4
}
