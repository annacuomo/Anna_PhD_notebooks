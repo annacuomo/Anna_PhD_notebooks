{
 "cells": [
  {
   "cell_type": "code",
   "execution_count": 72,
   "id": "b8a88d06",
   "metadata": {},
   "outputs": [],
   "source": [
    "library(dplyr)\n",
    "library(ggplot2)"
   ]
  },
  {
   "cell_type": "code",
   "execution_count": 73,
   "id": "d6e945c1",
   "metadata": {},
   "outputs": [],
   "source": [
    "mydir = \"/hps/nobackup/stegle/users/acuomo/all_scripts/struct_LMM2/sc_endodiff/debug_May2021/\""
   ]
  },
  {
   "cell_type": "code",
   "execution_count": 74,
   "id": "2fc105bb",
   "metadata": {},
   "outputs": [],
   "source": [
    "###### actual old results, to replicate"
   ]
  },
  {
   "cell_type": "code",
   "execution_count": 75,
   "id": "bb9a9ff1",
   "metadata": {},
   "outputs": [
    {
     "data": {
      "text/html": [
       "4470"
      ],
      "text/latex": [
       "4470"
      ],
      "text/markdown": [
       "4470"
      ],
      "text/plain": [
       "[1] 4470"
      ]
     },
     "metadata": {},
     "output_type": "display_data"
    },
    {
     "data": {
      "text/html": [
       "<table>\n",
       "<thead><tr><th></th><th scope=col>gene</th><th scope=col>n_snps</th><th scope=col>chrom</th><th scope=col>pv_raw</th><th scope=col>snpID</th><th scope=col>pv</th></tr></thead>\n",
       "<tbody>\n",
       "\t<tr><th scope=row>0</th><td>ENSG00000140905_GCSH </td><td>1                    </td><td>16                   </td><td>0.005333072          </td><td>16_81118466_A_G      </td><td>0.005333072          </td></tr>\n",
       "\t<tr><th scope=row>1</th><td>ENSG00000011523_CEP68</td><td>2                    </td><td> 2                   </td><td>0.062120960          </td><td>2_65279223_C_T       </td><td>0.124241919          </td></tr>\n",
       "</tbody>\n",
       "</table>\n"
      ],
      "text/latex": [
       "\\begin{tabular}{r|llllll}\n",
       "  & gene & n\\_snps & chrom & pv\\_raw & snpID & pv\\\\\n",
       "\\hline\n",
       "\t0 & ENSG00000140905\\_GCSH  & 1                       & 16                      & 0.005333072             & 16\\_81118466\\_A\\_G   & 0.005333072            \\\\\n",
       "\t1 & ENSG00000011523\\_CEP68 & 2                       &  2                      & 0.062120960             & 2\\_65279223\\_C\\_T    & 0.124241919            \\\\\n",
       "\\end{tabular}\n"
      ],
      "text/markdown": [
       "\n",
       "| <!--/--> | gene | n_snps | chrom | pv_raw | snpID | pv |\n",
       "|---|---|---|---|---|---|---|\n",
       "| 0 | ENSG00000140905_GCSH  | 1                     | 16                    | 0.005333072           | 16_81118466_A_G       | 0.005333072           |\n",
       "| 1 | ENSG00000011523_CEP68 | 2                     |  2                    | 0.062120960           | 2_65279223_C_T        | 0.124241919           |\n",
       "\n"
      ],
      "text/plain": [
       "  gene                  n_snps chrom pv_raw      snpID           pv         \n",
       "0 ENSG00000140905_GCSH  1      16    0.005333072 16_81118466_A_G 0.005333072\n",
       "1 ENSG00000011523_CEP68 2       2    0.062120960 2_65279223_C_T  0.124241919"
      ]
     },
     "metadata": {},
     "output_type": "display_data"
    }
   ],
   "source": [
    "file_old = paste0(mydir, \"../new/MOFA/MOFA10/summary_endo_eqtl.csv\")\n",
    "df_old = read.csv(file_old, row.names=1)\n",
    "nrow(df_old)\n",
    "head(df_old,2)"
   ]
  },
  {
   "cell_type": "code",
   "execution_count": 76,
   "id": "57f92fdc",
   "metadata": {},
   "outputs": [],
   "source": [
    "#### new \"weird\" results to checl/confirm"
   ]
  },
  {
   "cell_type": "code",
   "execution_count": 77,
   "id": "e8ee1d9c",
   "metadata": {},
   "outputs": [
    {
     "data": {
      "text/html": [
       "2250"
      ],
      "text/latex": [
       "2250"
      ],
      "text/markdown": [
       "2250"
      ],
      "text/plain": [
       "[1] 2250"
      ]
     },
     "metadata": {},
     "output_type": "display_data"
    },
    {
     "data": {
      "text/html": [
       "<table>\n",
       "<thead><tr><th></th><th scope=col>gene</th><th scope=col>n_snps</th><th scope=col>chrom</th><th scope=col>pv_raw</th><th scope=col>snpID</th><th scope=col>pv</th></tr></thead>\n",
       "<tbody>\n",
       "\t<tr><th scope=row>0</th><td>ENSG00000011523_CEP68</td><td>2                    </td><td>2                    </td><td>0.30551608           </td><td>2_65279223_C_T       </td><td>0.6110322            </td></tr>\n",
       "\t<tr><th scope=row>1</th><td>ENSG00000011523_CEP68</td><td>2                    </td><td>2                    </td><td>0.09095796           </td><td>2_65290842_C_A       </td><td>0.1819159            </td></tr>\n",
       "</tbody>\n",
       "</table>\n"
      ],
      "text/latex": [
       "\\begin{tabular}{r|llllll}\n",
       "  & gene & n\\_snps & chrom & pv\\_raw & snpID & pv\\\\\n",
       "\\hline\n",
       "\t0 & ENSG00000011523\\_CEP68 & 2                       & 2                       & 0.30551608              & 2\\_65279223\\_C\\_T    & 0.6110322              \\\\\n",
       "\t1 & ENSG00000011523\\_CEP68 & 2                       & 2                       & 0.09095796              & 2\\_65290842\\_C\\_A    & 0.1819159              \\\\\n",
       "\\end{tabular}\n"
      ],
      "text/markdown": [
       "\n",
       "| <!--/--> | gene | n_snps | chrom | pv_raw | snpID | pv |\n",
       "|---|---|---|---|---|---|---|\n",
       "| 0 | ENSG00000011523_CEP68 | 2                     | 2                     | 0.30551608            | 2_65279223_C_T        | 0.6110322             |\n",
       "| 1 | ENSG00000011523_CEP68 | 2                     | 2                     | 0.09095796            | 2_65290842_C_A        | 0.1819159             |\n",
       "\n"
      ],
      "text/plain": [
       "  gene                  n_snps chrom pv_raw     snpID          pv       \n",
       "0 ENSG00000011523_CEP68 2      2     0.30551608 2_65279223_C_T 0.6110322\n",
       "1 ENSG00000011523_CEP68 2      2     0.09095796 2_65290842_C_A 0.1819159"
      ]
     },
     "metadata": {},
     "output_type": "display_data"
    }
   ],
   "source": [
    "file_new = paste0(mydir, \"../April2021/PCA/PC10/summary.csv\")\n",
    "df_new = read.csv(file_new, row.names=1)\n",
    "nrow(df_new)\n",
    "head(df_new,2)"
   ]
  },
  {
   "cell_type": "code",
   "execution_count": 78,
   "id": "fb66f1b8",
   "metadata": {},
   "outputs": [],
   "source": [
    "####### debugging on 100 chromosome 1 genes"
   ]
  },
  {
   "cell_type": "code",
   "execution_count": 79,
   "id": "e7428de3",
   "metadata": {},
   "outputs": [
    {
     "data": {
      "text/html": [
       "<ol class=list-inline>\n",
       "\t<li>'err'</li>\n",
       "\t<li>'genetic_effect'</li>\n",
       "\t<li>'mofa_logcounts_model_factors.csv'</li>\n",
       "\t<li>'mofa_logcounts_model.hdf5'</li>\n",
       "\t<li>'mofa_weights.csv'</li>\n",
       "\t<li>'MOFA1'</li>\n",
       "\t<li>'MOFA10'</li>\n",
       "\t<li>'MOFA2'</li>\n",
       "\t<li>'MOFA20'</li>\n",
       "\t<li>'MOFA5'</li>\n",
       "\t<li>'new0_PCA_same_background.py'</li>\n",
       "\t<li>'new1_PCA_diff_background.py'</li>\n",
       "\t<li>'new2_MOFA_diff_background_10.py'</li>\n",
       "\t<li>'new2_MOFA_diff_background.py'</li>\n",
       "\t<li>'new3_MOFA_same_background.py'</li>\n",
       "\t<li>'new4_MOFA_diff_background_10.py'</li>\n",
       "\t<li>'new4_MOFA_diff_background_2.py'</li>\n",
       "\t<li>'new4_MOFA_diff_background_20.py'</li>\n",
       "\t<li>'new4_MOFA_diff_background_5.py'</li>\n",
       "\t<li>'new4_MOFA_diff_background.py'</li>\n",
       "\t<li>'new5_MOFA_diff_background.py'</li>\n",
       "\t<li>'old_MOFA_diff_background.py'</li>\n",
       "\t<li>'out'</li>\n",
       "\t<li>'PC1'</li>\n",
       "\t<li>'PC10'</li>\n",
       "\t<li>'run.py'</li>\n",
       "\t<li>'summarise.py'</li>\n",
       "</ol>\n"
      ],
      "text/latex": [
       "\\begin{enumerate*}\n",
       "\\item 'err'\n",
       "\\item 'genetic\\_effect'\n",
       "\\item 'mofa\\_logcounts\\_model\\_factors.csv'\n",
       "\\item 'mofa\\_logcounts\\_model.hdf5'\n",
       "\\item 'mofa\\_weights.csv'\n",
       "\\item 'MOFA1'\n",
       "\\item 'MOFA10'\n",
       "\\item 'MOFA2'\n",
       "\\item 'MOFA20'\n",
       "\\item 'MOFA5'\n",
       "\\item 'new0\\_PCA\\_same\\_background.py'\n",
       "\\item 'new1\\_PCA\\_diff\\_background.py'\n",
       "\\item 'new2\\_MOFA\\_diff\\_background\\_10.py'\n",
       "\\item 'new2\\_MOFA\\_diff\\_background.py'\n",
       "\\item 'new3\\_MOFA\\_same\\_background.py'\n",
       "\\item 'new4\\_MOFA\\_diff\\_background\\_10.py'\n",
       "\\item 'new4\\_MOFA\\_diff\\_background\\_2.py'\n",
       "\\item 'new4\\_MOFA\\_diff\\_background\\_20.py'\n",
       "\\item 'new4\\_MOFA\\_diff\\_background\\_5.py'\n",
       "\\item 'new4\\_MOFA\\_diff\\_background.py'\n",
       "\\item 'new5\\_MOFA\\_diff\\_background.py'\n",
       "\\item 'old\\_MOFA\\_diff\\_background.py'\n",
       "\\item 'out'\n",
       "\\item 'PC1'\n",
       "\\item 'PC10'\n",
       "\\item 'run.py'\n",
       "\\item 'summarise.py'\n",
       "\\end{enumerate*}\n"
      ],
      "text/markdown": [
       "1. 'err'\n",
       "2. 'genetic_effect'\n",
       "3. 'mofa_logcounts_model_factors.csv'\n",
       "4. 'mofa_logcounts_model.hdf5'\n",
       "5. 'mofa_weights.csv'\n",
       "6. 'MOFA1'\n",
       "7. 'MOFA10'\n",
       "8. 'MOFA2'\n",
       "9. 'MOFA20'\n",
       "10. 'MOFA5'\n",
       "11. 'new0_PCA_same_background.py'\n",
       "12. 'new1_PCA_diff_background.py'\n",
       "13. 'new2_MOFA_diff_background_10.py'\n",
       "14. 'new2_MOFA_diff_background.py'\n",
       "15. 'new3_MOFA_same_background.py'\n",
       "16. 'new4_MOFA_diff_background_10.py'\n",
       "17. 'new4_MOFA_diff_background_2.py'\n",
       "18. 'new4_MOFA_diff_background_20.py'\n",
       "19. 'new4_MOFA_diff_background_5.py'\n",
       "20. 'new4_MOFA_diff_background.py'\n",
       "21. 'new5_MOFA_diff_background.py'\n",
       "22. 'old_MOFA_diff_background.py'\n",
       "23. 'out'\n",
       "24. 'PC1'\n",
       "25. 'PC10'\n",
       "26. 'run.py'\n",
       "27. 'summarise.py'\n",
       "\n",
       "\n"
      ],
      "text/plain": [
       " [1] \"err\"                              \"genetic_effect\"                  \n",
       " [3] \"mofa_logcounts_model_factors.csv\" \"mofa_logcounts_model.hdf5\"       \n",
       " [5] \"mofa_weights.csv\"                 \"MOFA1\"                           \n",
       " [7] \"MOFA10\"                           \"MOFA2\"                           \n",
       " [9] \"MOFA20\"                           \"MOFA5\"                           \n",
       "[11] \"new0_PCA_same_background.py\"      \"new1_PCA_diff_background.py\"     \n",
       "[13] \"new2_MOFA_diff_background_10.py\"  \"new2_MOFA_diff_background.py\"    \n",
       "[15] \"new3_MOFA_same_background.py\"     \"new4_MOFA_diff_background_10.py\" \n",
       "[17] \"new4_MOFA_diff_background_2.py\"   \"new4_MOFA_diff_background_20.py\" \n",
       "[19] \"new4_MOFA_diff_background_5.py\"   \"new4_MOFA_diff_background.py\"    \n",
       "[21] \"new5_MOFA_diff_background.py\"     \"old_MOFA_diff_background.py\"     \n",
       "[23] \"out\"                              \"PC1\"                             \n",
       "[25] \"PC10\"                             \"run.py\"                          \n",
       "[27] \"summarise.py\"                    "
      ]
     },
     "metadata": {},
     "output_type": "display_data"
    }
   ],
   "source": [
    "list.files(mydir)"
   ]
  },
  {
   "cell_type": "code",
   "execution_count": 80,
   "id": "ae4a3081",
   "metadata": {},
   "outputs": [],
   "source": [
    "####################################################################################\n",
    "####################################################################################"
   ]
  },
  {
   "cell_type": "code",
   "execution_count": 81,
   "id": "c97faf71",
   "metadata": {},
   "outputs": [
    {
     "data": {
      "text/html": [
       "4470"
      ],
      "text/latex": [
       "4470"
      ],
      "text/markdown": [
       "4470"
      ],
      "text/plain": [
       "[1] 4470"
      ]
     },
     "metadata": {},
     "output_type": "display_data"
    },
    {
     "data": {
      "text/html": [
       "<table>\n",
       "<thead><tr><th></th><th scope=col>gene</th><th scope=col>n_snps</th><th scope=col>chrom</th><th scope=col>pv_raw</th><th scope=col>snpID</th><th scope=col>pv</th></tr></thead>\n",
       "<tbody>\n",
       "\t<tr><th scope=row>0</th><td>ENSG00000140905_GCSH </td><td>1                    </td><td>16                   </td><td>0.005810689          </td><td>16_81118466_A_G      </td><td>0.005810689          </td></tr>\n",
       "\t<tr><th scope=row>1</th><td>ENSG00000011523_CEP68</td><td>2                    </td><td> 2                   </td><td>0.064222761          </td><td>2_65279223_C_T       </td><td>0.128445522          </td></tr>\n",
       "</tbody>\n",
       "</table>\n"
      ],
      "text/latex": [
       "\\begin{tabular}{r|llllll}\n",
       "  & gene & n\\_snps & chrom & pv\\_raw & snpID & pv\\\\\n",
       "\\hline\n",
       "\t0 & ENSG00000140905\\_GCSH  & 1                       & 16                      & 0.005810689             & 16\\_81118466\\_A\\_G   & 0.005810689            \\\\\n",
       "\t1 & ENSG00000011523\\_CEP68 & 2                       &  2                      & 0.064222761             & 2\\_65279223\\_C\\_T    & 0.128445522            \\\\\n",
       "\\end{tabular}\n"
      ],
      "text/markdown": [
       "\n",
       "| <!--/--> | gene | n_snps | chrom | pv_raw | snpID | pv |\n",
       "|---|---|---|---|---|---|---|\n",
       "| 0 | ENSG00000140905_GCSH  | 1                     | 16                    | 0.005810689           | 16_81118466_A_G       | 0.005810689           |\n",
       "| 1 | ENSG00000011523_CEP68 | 2                     |  2                    | 0.064222761           | 2_65279223_C_T        | 0.128445522           |\n",
       "\n"
      ],
      "text/plain": [
       "  gene                  n_snps chrom pv_raw      snpID           pv         \n",
       "0 ENSG00000140905_GCSH  1      16    0.005810689 16_81118466_A_G 0.005810689\n",
       "1 ENSG00000011523_CEP68 2       2    0.064222761 2_65279223_C_T  0.128445522"
      ]
     },
     "metadata": {},
     "output_type": "display_data"
    }
   ],
   "source": [
    "############## new2\n",
    "file0 = paste0(mydir, \"MOFA10/new2/summary.csv\")\n",
    "df0 = read.csv(file0, row.names=1)\n",
    "nrow(df0)\n",
    "head(df0,2)"
   ]
  },
  {
   "cell_type": "code",
   "execution_count": 82,
   "id": "4e8585bd",
   "metadata": {},
   "outputs": [
    {
     "data": {
      "text/html": [
       "4470"
      ],
      "text/latex": [
       "4470"
      ],
      "text/markdown": [
       "4470"
      ],
      "text/plain": [
       "[1] 4470"
      ]
     },
     "metadata": {},
     "output_type": "display_data"
    }
   ],
   "source": [
    "#### compare to old \n",
    "df2 = inner_join(df0, df_old, by = c(\"gene\",\"chrom\",\"n_snps\",\"snpID\"), suffix = c(\".new2\",\".old\"))\n",
    "nrow(df2)"
   ]
  },
  {
   "cell_type": "code",
   "execution_count": 83,
   "id": "263e9589",
   "metadata": {},
   "outputs": [
    {
     "data": {
      "text/plain": [
       "\n",
       "\tPearson's product-moment correlation\n",
       "\n",
       "data:  -log10(df2$pv.new2) and -log10(df2$pv.old)\n",
       "t = 520.05, df = 4468, p-value < 2.2e-16\n",
       "alternative hypothesis: true correlation is not equal to 0\n",
       "95 percent confidence interval:\n",
       " 0.9913500 0.9923037\n",
       "sample estimates:\n",
       "      cor \n",
       "0.9918407 \n"
      ]
     },
     "metadata": {},
     "output_type": "display_data"
    }
   ],
   "source": [
    "cor.test(-log10(df2$pv.new2), -log10(df2$pv.old))"
   ]
  },
  {
   "cell_type": "code",
   "execution_count": 84,
   "id": "5ac21ef4",
   "metadata": {},
   "outputs": [
    {
     "data": {
      "image/png": "[encoded data removed]",
      "text/plain": [
       "plot without title"
      ]
     },
     "metadata": {},
     "output_type": "display_data"
    }
   ],
   "source": [
    "m = -log10(min(min(df2$pv.new2),min(df2$pv.old)))\n",
    "ggplot(df2, aes(x = -log10(pv.new2), y = -log10(pv.old))) + geom_point() + theme_bw() + \n",
    "    geom_abline(alpha=0.2) + xlim(c(0,m)) + ylim(c(0,m))"
   ]
  },
  {
   "cell_type": "code",
   "execution_count": 85,
   "id": "5c70523c",
   "metadata": {},
   "outputs": [],
   "source": [
    "####################################################################################\n",
    "####################################################################################"
   ]
  },
  {
   "cell_type": "code",
   "execution_count": 86,
   "id": "15d5cbe6",
   "metadata": {},
   "outputs": [
    {
     "data": {
      "text/html": [
       "4470"
      ],
      "text/latex": [
       "4470"
      ],
      "text/markdown": [
       "4470"
      ],
      "text/plain": [
       "[1] 4470"
      ]
     },
     "metadata": {},
     "output_type": "display_data"
    },
    {
     "data": {
      "text/html": [
       "<table>\n",
       "<thead><tr><th></th><th scope=col>gene</th><th scope=col>n_snps</th><th scope=col>chrom</th><th scope=col>pv_raw</th><th scope=col>snpID</th><th scope=col>pv</th></tr></thead>\n",
       "<tbody>\n",
       "\t<tr><th scope=row>0</th><td>ENSG00000140905_GCSH </td><td>1                    </td><td>16                   </td><td>0.02606257           </td><td>16_81118466_A_G      </td><td>0.02606257           </td></tr>\n",
       "\t<tr><th scope=row>1</th><td>ENSG00000011523_CEP68</td><td>2                    </td><td> 2                   </td><td>0.03995225           </td><td>2_65279223_C_T       </td><td>0.07990451           </td></tr>\n",
       "</tbody>\n",
       "</table>\n"
      ],
      "text/latex": [
       "\\begin{tabular}{r|llllll}\n",
       "  & gene & n\\_snps & chrom & pv\\_raw & snpID & pv\\\\\n",
       "\\hline\n",
       "\t0 & ENSG00000140905\\_GCSH  & 1                       & 16                      & 0.02606257              & 16\\_81118466\\_A\\_G   & 0.02606257             \\\\\n",
       "\t1 & ENSG00000011523\\_CEP68 & 2                       &  2                      & 0.03995225              & 2\\_65279223\\_C\\_T    & 0.07990451             \\\\\n",
       "\\end{tabular}\n"
      ],
      "text/markdown": [
       "\n",
       "| <!--/--> | gene | n_snps | chrom | pv_raw | snpID | pv |\n",
       "|---|---|---|---|---|---|---|\n",
       "| 0 | ENSG00000140905_GCSH  | 1                     | 16                    | 0.02606257            | 16_81118466_A_G       | 0.02606257            |\n",
       "| 1 | ENSG00000011523_CEP68 | 2                     |  2                    | 0.03995225            | 2_65279223_C_T        | 0.07990451            |\n",
       "\n"
      ],
      "text/plain": [
       "  gene                  n_snps chrom pv_raw     snpID           pv        \n",
       "0 ENSG00000140905_GCSH  1      16    0.02606257 16_81118466_A_G 0.02606257\n",
       "1 ENSG00000011523_CEP68 2       2    0.03995225 2_65279223_C_T  0.07990451"
      ]
     },
     "metadata": {},
     "output_type": "display_data"
    }
   ],
   "source": [
    "############## new4\n",
    "file0 = paste0(mydir, \"MOFA10/new4/summary.csv\")\n",
    "df0 = read.csv(file0, row.names=1)\n",
    "nrow(df0)\n",
    "head(df0,2)"
   ]
  },
  {
   "cell_type": "code",
   "execution_count": 87,
   "id": "988abcd0",
   "metadata": {},
   "outputs": [
    {
     "data": {
      "text/html": [
       "4470"
      ],
      "text/latex": [
       "4470"
      ],
      "text/markdown": [
       "4470"
      ],
      "text/plain": [
       "[1] 4470"
      ]
     },
     "metadata": {},
     "output_type": "display_data"
    }
   ],
   "source": [
    "#### compare to old \n",
    "df2 = inner_join(df0, df_old, by = c(\"gene\",\"chrom\",\"n_snps\",\"snpID\"), suffix = c(\".new4\",\".old\"))\n",
    "nrow(df2)"
   ]
  },
  {
   "cell_type": "code",
   "execution_count": 88,
   "id": "27500948",
   "metadata": {},
   "outputs": [
    {
     "data": {
      "text/plain": [
       "\n",
       "\tPearson's product-moment correlation\n",
       "\n",
       "data:  -log10(df2$pv.new4) and -log10(df2$pv.old)\n",
       "t = 218.33, df = 4468, p-value < 2.2e-16\n",
       "alternative hypothesis: true correlation is not equal to 0\n",
       "95 percent confidence interval:\n",
       " 0.9536061 0.9586349\n",
       "sample estimates:\n",
       "     cor \n",
       "0.956191 \n"
      ]
     },
     "metadata": {},
     "output_type": "display_data"
    }
   ],
   "source": [
    "cor.test(-log10(df2$pv.new4), -log10(df2$pv.old))"
   ]
  },
  {
   "cell_type": "code",
   "execution_count": 89,
   "id": "e17f5c42",
   "metadata": {},
   "outputs": [
    {
     "data": {
      "image/png": "[encoded data removed]",
      "text/plain": [
       "plot without title"
      ]
     },
     "metadata": {},
     "output_type": "display_data"
    }
   ],
   "source": [
    "m = -log10(min(min(df2$pv.new4),min(df2$pv.old)))\n",
    "ggplot(df2, aes(x = -log10(pv.new4), y = -log10(pv.old))) + geom_point() + theme_bw() + \n",
    "    geom_abline(alpha=0.2) + xlim(c(0,m)) + ylim(c(0,m))"
   ]
  },
  {
   "cell_type": "code",
   "execution_count": 90,
   "id": "1406a57b",
   "metadata": {},
   "outputs": [],
   "source": [
    "library(qvalue)\n",
    "df0 = df0[order(df0$pv, df0$pv_raw),]\n",
    "df0 = df0[-which(duplicated(df0$gene)),]\n",
    "df0$qv = qvalue(df0$pv, pi0 = 1)$qvalue"
   ]
  },
  {
   "cell_type": "code",
   "execution_count": 91,
   "id": "c5517352",
   "metadata": {},
   "outputs": [
    {
     "data": {
      "text/html": [
       "<table>\n",
       "<thead><tr><th></th><th scope=col>gene</th><th scope=col>n_snps</th><th scope=col>chrom</th><th scope=col>pv_raw</th><th scope=col>snpID</th><th scope=col>pv</th><th scope=col>qv</th></tr></thead>\n",
       "<tbody>\n",
       "\t<tr><th scope=row>3483</th><td>ENSG00000169877_AHSP    </td><td>2                       </td><td>16                      </td><td>4.441206e-52            </td><td>16_31522723_T_C         </td><td>8.882413e-52            </td><td>2.877902e-48            </td></tr>\n",
       "\t<tr><th scope=row>207</th><td>ENSG00000229150_CRYGEP  </td><td>2                       </td><td> 2                      </td><td>2.649644e-48            </td><td>2_208977797_G_T         </td><td>5.299288e-48            </td><td>8.584846e-45            </td></tr>\n",
       "\t<tr><th scope=row>2295</th><td>ENSG00000111913_FAM65B  </td><td>1                       </td><td> 6                      </td><td>5.863853e-44            </td><td>6_24979164_T_A          </td><td>5.863853e-44            </td><td>6.332961e-41            </td></tr>\n",
       "\t<tr><th scope=row>268</th><td>ENSG00000243566_UPK3B   </td><td>1                       </td><td> 7                      </td><td>1.700073e-29            </td><td>7_76137375_C_T          </td><td>1.700073e-29            </td><td>1.377059e-26            </td></tr>\n",
       "\t<tr><th scope=row>4051</th><td>ENSG00000148291_SURF2   </td><td>1                       </td><td> 9                      </td><td>8.506044e-27            </td><td>9_136227260_A_G         </td><td>8.506044e-27            </td><td>5.511917e-24            </td></tr>\n",
       "\t<tr><th scope=row>2569</th><td>ENSG00000179344_HLA-DQB1</td><td>1                       </td><td> 6                      </td><td>8.324037e-26            </td><td>6_32634922_A_G          </td><td>8.324037e-26            </td><td>4.494980e-23            </td></tr>\n",
       "</tbody>\n",
       "</table>\n"
      ],
      "text/latex": [
       "\\begin{tabular}{r|lllllll}\n",
       "  & gene & n\\_snps & chrom & pv\\_raw & snpID & pv & qv\\\\\n",
       "\\hline\n",
       "\t3483 & ENSG00000169877\\_AHSP     & 2                          & 16                         & 4.441206e-52               & 16\\_31522723\\_T\\_C      & 8.882413e-52               & 2.877902e-48              \\\\\n",
       "\t207 & ENSG00000229150\\_CRYGEP   & 2                          &  2                         & 2.649644e-48               & 2\\_208977797\\_G\\_T      & 5.299288e-48               & 8.584846e-45              \\\\\n",
       "\t2295 & ENSG00000111913\\_FAM65B   & 1                          &  6                         & 5.863853e-44               & 6\\_24979164\\_T\\_A       & 5.863853e-44               & 6.332961e-41              \\\\\n",
       "\t268 & ENSG00000243566\\_UPK3B    & 1                          &  7                         & 1.700073e-29               & 7\\_76137375\\_C\\_T       & 1.700073e-29               & 1.377059e-26              \\\\\n",
       "\t4051 & ENSG00000148291\\_SURF2    & 1                          &  9                         & 8.506044e-27               & 9\\_136227260\\_A\\_G      & 8.506044e-27               & 5.511917e-24              \\\\\n",
       "\t2569 & ENSG00000179344\\_HLA-DQB1 & 1                          &  6                         & 8.324037e-26               & 6\\_32634922\\_A\\_G       & 8.324037e-26               & 4.494980e-23              \\\\\n",
       "\\end{tabular}\n"
      ],
      "text/markdown": [
       "\n",
       "| <!--/--> | gene | n_snps | chrom | pv_raw | snpID | pv | qv |\n",
       "|---|---|---|---|---|---|---|---|\n",
       "| 3483 | ENSG00000169877_AHSP     | 2                        | 16                       | 4.441206e-52             | 16_31522723_T_C          | 8.882413e-52             | 2.877902e-48             |\n",
       "| 207 | ENSG00000229150_CRYGEP   | 2                        |  2                       | 2.649644e-48             | 2_208977797_G_T          | 5.299288e-48             | 8.584846e-45             |\n",
       "| 2295 | ENSG00000111913_FAM65B   | 1                        |  6                       | 5.863853e-44             | 6_24979164_T_A           | 5.863853e-44             | 6.332961e-41             |\n",
       "| 268 | ENSG00000243566_UPK3B    | 1                        |  7                       | 1.700073e-29             | 7_76137375_C_T           | 1.700073e-29             | 1.377059e-26             |\n",
       "| 4051 | ENSG00000148291_SURF2    | 1                        |  9                       | 8.506044e-27             | 9_136227260_A_G          | 8.506044e-27             | 5.511917e-24             |\n",
       "| 2569 | ENSG00000179344_HLA-DQB1 | 1                        |  6                       | 8.324037e-26             | 6_32634922_A_G           | 8.324037e-26             | 4.494980e-23             |\n",
       "\n"
      ],
      "text/plain": [
       "     gene                     n_snps chrom pv_raw       snpID          \n",
       "3483 ENSG00000169877_AHSP     2      16    4.441206e-52 16_31522723_T_C\n",
       "207  ENSG00000229150_CRYGEP   2       2    2.649644e-48 2_208977797_G_T\n",
       "2295 ENSG00000111913_FAM65B   1       6    5.863853e-44 6_24979164_T_A \n",
       "268  ENSG00000243566_UPK3B    1       7    1.700073e-29 7_76137375_C_T \n",
       "4051 ENSG00000148291_SURF2    1       9    8.506044e-27 9_136227260_A_G\n",
       "2569 ENSG00000179344_HLA-DQB1 1       6    8.324037e-26 6_32634922_A_G \n",
       "     pv           qv          \n",
       "3483 8.882413e-52 2.877902e-48\n",
       "207  5.299288e-48 8.584846e-45\n",
       "2295 5.863853e-44 6.332961e-41\n",
       "268  1.700073e-29 1.377059e-26\n",
       "4051 8.506044e-27 5.511917e-24\n",
       "2569 8.324037e-26 4.494980e-23"
      ]
     },
     "metadata": {},
     "output_type": "display_data"
    }
   ],
   "source": [
    "head(df0[df0$qv<0.05,])"
   ]
  },
  {
   "cell_type": "code",
   "execution_count": 92,
   "id": "20bb2410",
   "metadata": {},
   "outputs": [
    {
     "data": {
      "text/html": [
       "322"
      ],
      "text/latex": [
       "322"
      ],
      "text/markdown": [
       "322"
      ],
      "text/plain": [
       "[1] 322"
      ]
     },
     "metadata": {},
     "output_type": "display_data"
    }
   ],
   "source": [
    "df0$eqtl = paste0(df0$gene,\"-\",df0$snpID)\n",
    "eqtls = df0[df0$qv<0.05,\"eqtl\"]\n",
    "length(eqtls)"
   ]
  },
  {
   "cell_type": "code",
   "execution_count": 93,
   "id": "f377f812",
   "metadata": {},
   "outputs": [
    {
     "data": {
      "text/html": [
       "'/hps/nobackup/stegle/users/acuomo/all_scripts/struct_LMM2/sc_endodiff/new/input_files/endodiff_eqtl_allconditions_FDR10pct_scStructLMM_FDR5pct.csv'"
      ],
      "text/latex": [
       "'/hps/nobackup/stegle/users/acuomo/all\\_scripts/struct\\_LMM2/sc\\_endodiff/new/input\\_files/endodiff\\_eqtl\\_allconditions\\_FDR10pct\\_scStructLMM\\_FDR5pct.csv'"
      ],
      "text/markdown": [
       "'/hps/nobackup/stegle/users/acuomo/all_scripts/struct_LMM2/sc_endodiff/new/input_files/endodiff_eqtl_allconditions_FDR10pct_scStructLMM_FDR5pct.csv'"
      ],
      "text/plain": [
       "[1] \"/hps/nobackup/stegle/users/acuomo/all_scripts/struct_LMM2/sc_endodiff/new/input_files/endodiff_eqtl_allconditions_FDR10pct_scStructLMM_FDR5pct.csv\""
      ]
     },
     "metadata": {},
     "output_type": "display_data"
    }
   ],
   "source": [
    "input_files_dir = \"/hps/nobackup/stegle/users/acuomo/all_scripts/struct_LMM2/sc_endodiff/new/input_files/\"\n",
    "endo_GxE_file = paste0(input_files_dir,\"endodiff_eqtl_allconditions_FDR10pct_scStructLMM_FDR5pct.csv\")\n",
    "endo_GxE_file"
   ]
  },
  {
   "cell_type": "code",
   "execution_count": 94,
   "id": "65a64af0",
   "metadata": {},
   "outputs": [
    {
     "data": {
      "text/html": [
       "<table>\n",
       "<thead><tr><th scope=col>snp_id</th><th scope=col>feature</th><th scope=col>stage</th></tr></thead>\n",
       "<tbody>\n",
       "\t<tr><td>5_149826526_C_T       </td><td>ENSG00000164587_RPS14 </td><td>ips                   </td></tr>\n",
       "\t<tr><td>11_57283988_C_T       </td><td>ENSG00000134809_TIMM10</td><td>ips                   </td></tr>\n",
       "\t<tr><td>12_56401085_G_A       </td><td>ENSG00000197728_RPS26 </td><td>ips                   </td></tr>\n",
       "\t<tr><td>17_79634162_T_G       </td><td>ENSG00000214087_ARL16 </td><td>ips                   </td></tr>\n",
       "\t<tr><td>6_31486901_T_C        </td><td>ENSG00000198563_DDX39B</td><td>ips                   </td></tr>\n",
       "\t<tr><td>4_39446549_G_A        </td><td>ENSG00000163682_RPL9  </td><td>ips                   </td></tr>\n",
       "</tbody>\n",
       "</table>\n"
      ],
      "text/latex": [
       "\\begin{tabular}{r|lll}\n",
       " snp\\_id & feature & stage\\\\\n",
       "\\hline\n",
       "\t 5\\_149826526\\_C\\_T    & ENSG00000164587\\_RPS14  & ips                     \\\\\n",
       "\t 11\\_57283988\\_C\\_T    & ENSG00000134809\\_TIMM10 & ips                     \\\\\n",
       "\t 12\\_56401085\\_G\\_A    & ENSG00000197728\\_RPS26  & ips                     \\\\\n",
       "\t 17\\_79634162\\_T\\_G    & ENSG00000214087\\_ARL16  & ips                     \\\\\n",
       "\t 6\\_31486901\\_T\\_C     & ENSG00000198563\\_DDX39B & ips                     \\\\\n",
       "\t 4\\_39446549\\_G\\_A     & ENSG00000163682\\_RPL9   & ips                     \\\\\n",
       "\\end{tabular}\n"
      ],
      "text/markdown": [
       "\n",
       "| snp_id | feature | stage |\n",
       "|---|---|---|\n",
       "| 5_149826526_C_T        | ENSG00000164587_RPS14  | ips                    |\n",
       "| 11_57283988_C_T        | ENSG00000134809_TIMM10 | ips                    |\n",
       "| 12_56401085_G_A        | ENSG00000197728_RPS26  | ips                    |\n",
       "| 17_79634162_T_G        | ENSG00000214087_ARL16  | ips                    |\n",
       "| 6_31486901_T_C         | ENSG00000198563_DDX39B | ips                    |\n",
       "| 4_39446549_G_A         | ENSG00000163682_RPL9   | ips                    |\n",
       "\n"
      ],
      "text/plain": [
       "  snp_id          feature                stage\n",
       "1 5_149826526_C_T ENSG00000164587_RPS14  ips  \n",
       "2 11_57283988_C_T ENSG00000134809_TIMM10 ips  \n",
       "3 12_56401085_G_A ENSG00000197728_RPS26  ips  \n",
       "4 17_79634162_T_G ENSG00000214087_ARL16  ips  \n",
       "5 6_31486901_T_C  ENSG00000198563_DDX39B ips  \n",
       "6 4_39446549_G_A  ENSG00000163682_RPL9   ips  "
      ]
     },
     "metadata": {},
     "output_type": "display_data"
    }
   ],
   "source": [
    "endo_file = paste0(input_files_dir,\"endodiff_eqtl_allconditions_FDR10pct.csv\")\n",
    "endo_df = read.csv(endo_file)\n",
    "head(endo_df)"
   ]
  },
  {
   "cell_type": "code",
   "execution_count": 95,
   "id": "25fedf80",
   "metadata": {},
   "outputs": [
    {
     "data": {
      "text/html": [
       "322"
      ],
      "text/latex": [
       "322"
      ],
      "text/markdown": [
       "322"
      ],
      "text/plain": [
       "[1] 322"
      ]
     },
     "metadata": {},
     "output_type": "display_data"
    },
    {
     "data": {
      "text/html": [
       "<table>\n",
       "<thead><tr><th></th><th scope=col>snp_id</th><th scope=col>feature</th><th scope=col>stage</th><th scope=col>eqtl</th></tr></thead>\n",
       "<tbody>\n",
       "\t<tr><th scope=row>3</th><td>12_56401085_G_A                       </td><td>ENSG00000197728_RPS26                 </td><td>ips                                   </td><td>ENSG00000197728_RPS26-12_56401085_G_A </td></tr>\n",
       "\t<tr><th scope=row>7</th><td>7_72717933_C_T                        </td><td>ENSG00000130305_NSUN5                 </td><td>ips                                   </td><td>ENSG00000130305_NSUN5-7_72717933_C_T  </td></tr>\n",
       "\t<tr><th scope=row>13</th><td>7_73258087_T_A                        </td><td>ENSG00000165171_WBSCR27               </td><td>ips                                   </td><td>ENSG00000165171_WBSCR27-7_73258087_T_A</td></tr>\n",
       "\t<tr><th scope=row>14</th><td>1_24364016_T_C                        </td><td>ENSG00000189266_PNRC2                 </td><td>ips                                   </td><td>ENSG00000189266_PNRC2-1_24364016_T_C  </td></tr>\n",
       "\t<tr><th scope=row>17</th><td>8_144676862_C_T                       </td><td>ENSG00000147813_NAPRT1                </td><td>ips                                   </td><td>ENSG00000147813_NAPRT1-8_144676862_C_T</td></tr>\n",
       "\t<tr><th scope=row>18</th><td>19_57939619_C_T                       </td><td>ENSG00000186230_ZNF749                </td><td>ips                                   </td><td>ENSG00000186230_ZNF749-19_57939619_C_T</td></tr>\n",
       "</tbody>\n",
       "</table>\n"
      ],
      "text/latex": [
       "\\begin{tabular}{r|llll}\n",
       "  & snp\\_id & feature & stage & eqtl\\\\\n",
       "\\hline\n",
       "\t3 & 12\\_56401085\\_G\\_A                          & ENSG00000197728\\_RPS26                        & ips                                            & ENSG00000197728\\_RPS26-12\\_56401085\\_G\\_A \\\\\n",
       "\t7 & 7\\_72717933\\_C\\_T                           & ENSG00000130305\\_NSUN5                        & ips                                            & ENSG00000130305\\_NSUN5-7\\_72717933\\_C\\_T  \\\\\n",
       "\t13 & 7\\_73258087\\_T\\_A                           & ENSG00000165171\\_WBSCR27                      & ips                                            & ENSG00000165171\\_WBSCR27-7\\_73258087\\_T\\_A\\\\\n",
       "\t14 & 1\\_24364016\\_T\\_C                           & ENSG00000189266\\_PNRC2                        & ips                                            & ENSG00000189266\\_PNRC2-1\\_24364016\\_T\\_C  \\\\\n",
       "\t17 & 8\\_144676862\\_C\\_T                          & ENSG00000147813\\_NAPRT1                       & ips                                            & ENSG00000147813\\_NAPRT1-8\\_144676862\\_C\\_T\\\\\n",
       "\t18 & 19\\_57939619\\_C\\_T                          & ENSG00000186230\\_ZNF749                       & ips                                            & ENSG00000186230\\_ZNF749-19\\_57939619\\_C\\_T\\\\\n",
       "\\end{tabular}\n"
      ],
      "text/markdown": [
       "\n",
       "| <!--/--> | snp_id | feature | stage | eqtl |\n",
       "|---|---|---|---|---|\n",
       "| 3 | 12_56401085_G_A                        | ENSG00000197728_RPS26                  | ips                                    | ENSG00000197728_RPS26-12_56401085_G_A  |\n",
       "| 7 | 7_72717933_C_T                         | ENSG00000130305_NSUN5                  | ips                                    | ENSG00000130305_NSUN5-7_72717933_C_T   |\n",
       "| 13 | 7_73258087_T_A                         | ENSG00000165171_WBSCR27                | ips                                    | ENSG00000165171_WBSCR27-7_73258087_T_A |\n",
       "| 14 | 1_24364016_T_C                         | ENSG00000189266_PNRC2                  | ips                                    | ENSG00000189266_PNRC2-1_24364016_T_C   |\n",
       "| 17 | 8_144676862_C_T                        | ENSG00000147813_NAPRT1                 | ips                                    | ENSG00000147813_NAPRT1-8_144676862_C_T |\n",
       "| 18 | 19_57939619_C_T                        | ENSG00000186230_ZNF749                 | ips                                    | ENSG00000186230_ZNF749-19_57939619_C_T |\n",
       "\n"
      ],
      "text/plain": [
       "   snp_id          feature                 stage\n",
       "3  12_56401085_G_A ENSG00000197728_RPS26   ips  \n",
       "7  7_72717933_C_T  ENSG00000130305_NSUN5   ips  \n",
       "13 7_73258087_T_A  ENSG00000165171_WBSCR27 ips  \n",
       "14 1_24364016_T_C  ENSG00000189266_PNRC2   ips  \n",
       "17 8_144676862_C_T ENSG00000147813_NAPRT1  ips  \n",
       "18 19_57939619_C_T ENSG00000186230_ZNF749  ips  \n",
       "   eqtl                                  \n",
       "3  ENSG00000197728_RPS26-12_56401085_G_A \n",
       "7  ENSG00000130305_NSUN5-7_72717933_C_T  \n",
       "13 ENSG00000165171_WBSCR27-7_73258087_T_A\n",
       "14 ENSG00000189266_PNRC2-1_24364016_T_C  \n",
       "17 ENSG00000147813_NAPRT1-8_144676862_C_T\n",
       "18 ENSG00000186230_ZNF749-19_57939619_C_T"
      ]
     },
     "metadata": {},
     "output_type": "display_data"
    }
   ],
   "source": [
    "endo_df$eqtl = paste0(endo_df$feature,\"-\",endo_df$snp_id)\n",
    "endo_df = endo_df[-which(duplicated(endo_df$eqtl)),]\n",
    "endo_GxE_df = endo_df[endo_df$eqtl %in% eqtls,]\n",
    "nrow(endo_GxE_df)\n",
    "head(endo_GxE_df)"
   ]
  },
  {
   "cell_type": "code",
   "execution_count": 96,
   "id": "2e37ffb8",
   "metadata": {},
   "outputs": [],
   "source": [
    "write.csv(endo_GxE_df, endo_GxE_file, quote = F, row.names=F)"
   ]
  },
  {
   "cell_type": "code",
   "execution_count": null,
   "id": "5739141e",
   "metadata": {},
   "outputs": [],
   "source": []
  }
 ],
 "metadata": {
  "kernelspec": {
   "display_name": "R",
   "language": "R",
   "name": "ir"
  },
  "language_info": {
   "codemirror_mode": "r",
   "file_extension": ".r",
   "mimetype": "text/x-r-source",
   "name": "R",
   "pygments_lexer": "r",
   "version": "3.6.1"
  }
 },
 "nbformat": 4,
 "nbformat_minor": 5
}
