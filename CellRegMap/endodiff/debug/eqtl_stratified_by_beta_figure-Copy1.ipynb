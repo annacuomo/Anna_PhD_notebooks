{
 "cells": [
  {
   "cell_type": "code",
   "execution_count": 37,
   "id": "5ccbd617",
   "metadata": {},
   "outputs": [],
   "source": [
    "library(dplyr)"
   ]
  },
  {
   "cell_type": "code",
   "execution_count": 47,
   "id": "f2ea2236",
   "metadata": {},
   "outputs": [],
   "source": [
    "df_betaG1 = read.csv(\"/hps/nobackup/stegle/users/acuomo/all_scripts/struct_LMM2/sc_endodiff/debug_May2021/genetic_effect/MOFA1/eqtl_persistent_genetic_effect_all.txt\", row.names=1, sep=\"\\t\")\n",
    "df_betaG2 = read.csv(\"/hps/nobackup/stegle/users/acuomo/all_scripts/struct_LMM2/sc_endodiff/debug_May2021/genetic_effect/MOFA2/eqtl_persistent_genetic_effect_all.txt\", row.names=1, sep=\"\\t\")\n",
    "df_betaG5 = read.csv(\"/hps/nobackup/stegle/users/acuomo/all_scripts/struct_LMM2/sc_endodiff/debug_May2021/genetic_effect/MOFA5/eqtl_persistent_genetic_effect_all.txt\", row.names=1, sep=\"\\t\")\n",
    "df_betaG10 = read.csv(\"/hps/nobackup/stegle/users/acuomo/all_scripts/struct_LMM2/sc_endodiff/debug_May2021/genetic_effect/MOFA10/eqtl_persistent_genetic_effect_all.txt\", row.names=1, sep=\"\\t\")\n",
    "df_betaG20 = read.csv(\"/hps/nobackup/stegle/users/acuomo/all_scripts/struct_LMM2/sc_endodiff/debug_May2021/genetic_effect/MOFA20/eqtl_persistent_genetic_effect_all.txt\", row.names=1, sep=\"\\t\")"
   ]
  },
  {
   "cell_type": "code",
   "execution_count": 48,
   "id": "6465b1dd",
   "metadata": {},
   "outputs": [
    {
     "data": {
      "text/html": [
       "188"
      ],
      "text/latex": [
       "188"
      ],
      "text/markdown": [
       "188"
      ],
      "text/plain": [
       "[1] 188"
      ]
     },
     "metadata": {},
     "output_type": "display_data"
    },
    {
     "data": {
      "text/html": [
       "<table>\n",
       "<thead><tr><th></th><th scope=col>beta_G</th></tr></thead>\n",
       "<tbody>\n",
       "\t<tr><th scope=row>ENSG00000006459_KDM7A-7_139913409_G_A</th><td> 0.033709816</td></tr>\n",
       "\t<tr><th scope=row>ENSG00000008311_AASS-7_121856717_A_G</th><td>-0.004487797</td></tr>\n",
       "</tbody>\n",
       "</table>\n"
      ],
      "text/latex": [
       "\\begin{tabular}{r|l}\n",
       "  & beta\\_G\\\\\n",
       "\\hline\n",
       "\tENSG00000006459\\_KDM7A-7\\_139913409\\_G\\_A &  0.033709816\\\\\n",
       "\tENSG00000008311\\_AASS-7\\_121856717\\_A\\_G & -0.004487797\\\\\n",
       "\\end{tabular}\n"
      ],
      "text/markdown": [
       "\n",
       "| <!--/--> | beta_G |\n",
       "|---|---|\n",
       "| ENSG00000006459_KDM7A-7_139913409_G_A |  0.033709816 |\n",
       "| ENSG00000008311_AASS-7_121856717_A_G | -0.004487797 |\n",
       "\n"
      ],
      "text/plain": [
       "                                      beta_G      \n",
       "ENSG00000006459_KDM7A-7_139913409_G_A  0.033709816\n",
       "ENSG00000008311_AASS-7_121856717_A_G  -0.004487797"
      ]
     },
     "metadata": {},
     "output_type": "display_data"
    }
   ],
   "source": [
    "nrow(df_betaG1)\n",
    "head(df_betaG1,2)"
   ]
  },
  {
   "cell_type": "code",
   "execution_count": 49,
   "id": "5e26c5b8",
   "metadata": {},
   "outputs": [],
   "source": [
    "df_betaG1$eqtl = rownames(df_betaG1)\n",
    "df_betaG2$eqtl = rownames(df_betaG2)\n",
    "df_betaG5$eqtl = rownames(df_betaG5)\n",
    "df_betaG10$eqtl = rownames(df_betaG10)\n",
    "df_betaG20$eqtl = rownames(df_betaG20)"
   ]
  },
  {
   "cell_type": "code",
   "execution_count": 50,
   "id": "820560d2",
   "metadata": {},
   "outputs": [
    {
     "data": {
      "text/html": [
       "222"
      ],
      "text/latex": [
       "222"
      ],
      "text/markdown": [
       "222"
      ],
      "text/plain": [
       "[1] 222"
      ]
     },
     "metadata": {},
     "output_type": "display_data"
    },
    {
     "data": {
      "text/html": [
       "265"
      ],
      "text/latex": [
       "265"
      ],
      "text/markdown": [
       "265"
      ],
      "text/plain": [
       "[1] 265"
      ]
     },
     "metadata": {},
     "output_type": "display_data"
    },
    {
     "data": {
      "text/html": [
       "322"
      ],
      "text/latex": [
       "322"
      ],
      "text/markdown": [
       "322"
      ],
      "text/plain": [
       "[1] 322"
      ]
     },
     "metadata": {},
     "output_type": "display_data"
    },
    {
     "data": {
      "text/html": [
       "525"
      ],
      "text/latex": [
       "525"
      ],
      "text/markdown": [
       "525"
      ],
      "text/plain": [
       "[1] 525"
      ]
     },
     "metadata": {},
     "output_type": "display_data"
    }
   ],
   "source": [
    "nrow(df_betaG2)\n",
    "nrow(df_betaG5)\n",
    "nrow(df_betaG10)\n",
    "nrow(df_betaG20)"
   ]
  },
  {
   "cell_type": "code",
   "execution_count": 56,
   "id": "2349acf1",
   "metadata": {},
   "outputs": [],
   "source": [
    "df_beta1 = read.csv(\"/hps/nobackup/stegle/users/acuomo/all_scripts/struct_LMM2/sc_endodiff/debug_May2021/genetic_effect/MOFA1/eqtl_est_single_GxE_genetic_effects.csv\", row.names=1)\n",
    "df_beta2 = read.csv(\"/hps/nobackup/stegle/users/acuomo/all_scripts/struct_LMM2/sc_endodiff/debug_May2021/genetic_effect/MOFA2/eqtl_est_single_GxE_genetic_effects.csv\", row.names=1)\n",
    "df_beta5 = read.csv(\"/hps/nobackup/stegle/users/acuomo/all_scripts/struct_LMM2/sc_endodiff/debug_May2021/genetic_effect/MOFA5/eqtl_est_single_GxE_genetic_effects.csv\", row.names=1)\n",
    "df_beta10 = read.csv(\"/hps/nobackup/stegle/users/acuomo/all_scripts/struct_LMM2/sc_endodiff/debug_May2021/genetic_effect/MOFA10/eqtl_est_single_GxE_genetic_effects.csv\", row.names=1)\n",
    "df_beta20 = read.csv(\"/hps/nobackup/stegle/users/acuomo/all_scripts/struct_LMM2/sc_endodiff/debug_May2021/genetic_effect/MOFA20/eqtl_est_single_GxE_genetic_effects.csv\", row.names=1)"
   ]
  },
  {
   "cell_type": "code",
   "execution_count": 57,
   "id": "accd1ce2",
   "metadata": {},
   "outputs": [],
   "source": [
    "df_beta1$eqtl = gsub(\"_-\",\"-\",df_beta1$eqtl)\n",
    "df_beta2$eqtl = gsub(\"_-\",\"-\",df_beta2$eqtl)\n",
    "df_beta5$eqtl = gsub(\"_-\",\"-\",df_beta5$eqtl)\n",
    "df_beta10$eqtl = gsub(\"_-\",\"-\",df_beta10$eqtl)\n",
    "df_beta20$eqtl = gsub(\"_-\",\"-\",df_beta20$eqtl)"
   ]
  },
  {
   "cell_type": "code",
   "execution_count": 58,
   "id": "0d4b85c6",
   "metadata": {},
   "outputs": [
    {
     "data": {
      "text/html": [
       "188"
      ],
      "text/latex": [
       "188"
      ],
      "text/markdown": [
       "188"
      ],
      "text/plain": [
       "[1] 188"
      ]
     },
     "metadata": {},
     "output_type": "display_data"
    },
    {
     "data": {
      "text/html": [
       "<table>\n",
       "<thead><tr><th></th><th scope=col>beta</th><th scope=col>eqtl</th></tr></thead>\n",
       "<tbody>\n",
       "\t<tr><th scope=row>0</th><td>0.1757708                            </td><td>ENSG00000006459_KDM7A-7_139913409_G_A</td></tr>\n",
       "\t<tr><th scope=row>1</th><td>0.2507333                            </td><td>ENSG00000008311_AASS-7_121856717_A_G </td></tr>\n",
       "</tbody>\n",
       "</table>\n"
      ],
      "text/latex": [
       "\\begin{tabular}{r|ll}\n",
       "  & beta & eqtl\\\\\n",
       "\\hline\n",
       "\t0 & 0.1757708                                     & ENSG00000006459\\_KDM7A-7\\_139913409\\_G\\_A\\\\\n",
       "\t1 & 0.2507333                                     & ENSG00000008311\\_AASS-7\\_121856717\\_A\\_G \\\\\n",
       "\\end{tabular}\n"
      ],
      "text/markdown": [
       "\n",
       "| <!--/--> | beta | eqtl |\n",
       "|---|---|---|\n",
       "| 0 | 0.1757708                             | ENSG00000006459_KDM7A-7_139913409_G_A |\n",
       "| 1 | 0.2507333                             | ENSG00000008311_AASS-7_121856717_A_G  |\n",
       "\n"
      ],
      "text/plain": [
       "  beta      eqtl                                 \n",
       "0 0.1757708 ENSG00000006459_KDM7A-7_139913409_G_A\n",
       "1 0.2507333 ENSG00000008311_AASS-7_121856717_A_G "
      ]
     },
     "metadata": {},
     "output_type": "display_data"
    }
   ],
   "source": [
    "nrow(df_beta1)\n",
    "head(df_beta1,2)"
   ]
  },
  {
   "cell_type": "code",
   "execution_count": 59,
   "id": "1ba361c7",
   "metadata": {},
   "outputs": [
    {
     "data": {
      "text/html": [
       "222"
      ],
      "text/latex": [
       "222"
      ],
      "text/markdown": [
       "222"
      ],
      "text/plain": [
       "[1] 222"
      ]
     },
     "metadata": {},
     "output_type": "display_data"
    },
    {
     "data": {
      "text/html": [
       "265"
      ],
      "text/latex": [
       "265"
      ],
      "text/markdown": [
       "265"
      ],
      "text/plain": [
       "[1] 265"
      ]
     },
     "metadata": {},
     "output_type": "display_data"
    },
    {
     "data": {
      "text/html": [
       "322"
      ],
      "text/latex": [
       "322"
      ],
      "text/markdown": [
       "322"
      ],
      "text/plain": [
       "[1] 322"
      ]
     },
     "metadata": {},
     "output_type": "display_data"
    },
    {
     "data": {
      "text/html": [
       "525"
      ],
      "text/latex": [
       "525"
      ],
      "text/markdown": [
       "525"
      ],
      "text/plain": [
       "[1] 525"
      ]
     },
     "metadata": {},
     "output_type": "display_data"
    }
   ],
   "source": [
    "nrow(df_beta2)\n",
    "nrow(df_beta5)\n",
    "nrow(df_beta10)\n",
    "nrow(df_beta20)"
   ]
  },
  {
   "cell_type": "code",
   "execution_count": 60,
   "id": "a4ada837",
   "metadata": {},
   "outputs": [
    {
     "name": "stderr",
     "output_type": "stream",
     "text": [
      "Joining, by = \"eqtl\"\n",
      "Joining, by = \"eqtl\"\n",
      "Joining, by = \"eqtl\"\n",
      "Joining, by = \"eqtl\"\n",
      "Joining, by = \"eqtl\"\n"
     ]
    }
   ],
   "source": [
    "df_beta_both1 = inner_join(df_beta1, df_betaG1)\n",
    "df_beta_both2 = inner_join(df_beta2, df_betaG2)\n",
    "df_beta_both5 = inner_join(df_beta5, df_betaG5)\n",
    "df_beta_both10 = inner_join(df_beta10, df_betaG10)\n",
    "df_beta_both20 = inner_join(df_beta20, df_betaG20)"
   ]
  },
  {
   "cell_type": "code",
   "execution_count": 61,
   "id": "28424135",
   "metadata": {},
   "outputs": [
    {
     "data": {
      "text/html": [
       "<table>\n",
       "<thead><tr><th scope=col>beta</th><th scope=col>eqtl</th><th scope=col>beta_G</th></tr></thead>\n",
       "<tbody>\n",
       "\t<tr><td>0.1757708                              </td><td>ENSG00000006459_KDM7A-7_139913409_G_A  </td><td> 0.033709816                           </td></tr>\n",
       "\t<tr><td>0.2507333                              </td><td>ENSG00000008311_AASS-7_121856717_A_G   </td><td>-0.004487797                           </td></tr>\n",
       "\t<tr><td>0.1547523                              </td><td>ENSG00000008324_SS18L2-3_42588598_G_C  </td><td> 0.053495093                           </td></tr>\n",
       "\t<tr><td>0.1702175                              </td><td>ENSG00000011523_CEP68-2_65279223_C_T   </td><td> 0.069365396                           </td></tr>\n",
       "\t<tr><td>0.5545254                              </td><td>ENSG00000013297_CLDN11-3_170402765_T_C </td><td>-0.106901654                           </td></tr>\n",
       "\t<tr><td>0.2658765                              </td><td>ENSG00000029639_TFB1M-6_155635808_C_G  </td><td>-0.154747699                           </td></tr>\n",
       "\t<tr><td>0.1566158                              </td><td>ENSG00000035115_SH3YL1-2_290003_C_T    </td><td>-0.069764463                           </td></tr>\n",
       "\t<tr><td>0.3261395                              </td><td>ENSG00000059377_TBXAS1-7_139547370_G_A </td><td>-0.085488861                           </td></tr>\n",
       "\t<tr><td>0.1850091                              </td><td>ENSG00000063761_ADCK1-14_78311319_G_A  </td><td> 0.060267254                           </td></tr>\n",
       "\t<tr><td>0.7437535                              </td><td>ENSG00000064042_LIMCH1-4_41339317_C_T  </td><td> 0.157970516                           </td></tr>\n",
       "\t<tr><td>0.2279930                              </td><td>ENSG00000065675_PRKCQ-10_6682022_T_C   </td><td> 0.080762128                           </td></tr>\n",
       "\t<tr><td>0.2281228                              </td><td>ENSG00000070081_NUCB2-11_17305294_T_G  </td><td>-0.099098367                           </td></tr>\n",
       "\t<tr><td>0.3375940                              </td><td>ENSG00000071967_CYBRD1-2_172375786_C_T </td><td> 0.102243913                           </td></tr>\n",
       "\t<tr><td>0.2254477                              </td><td>ENSG00000072736_NFATC3-16_68293320_T_C </td><td>-0.039363661                           </td></tr>\n",
       "\t<tr><td>0.2658358                              </td><td>ENSG00000074696_PTPLAD1-15_65865265_A_T</td><td>-0.045196651                           </td></tr>\n",
       "\t<tr><td>0.3894689                              </td><td>ENSG00000075340_ADD2-2_70877345_T_C    </td><td>-0.169445650                           </td></tr>\n",
       "\t<tr><td>0.1688174                              </td><td>ENSG00000077254_USP33-1_78305492_A_G   </td><td>-0.002551978                           </td></tr>\n",
       "\t<tr><td>0.2563691                              </td><td>ENSG00000077942_FBLN1-22_45898592_G_C  </td><td> 0.173388413                           </td></tr>\n",
       "\t<tr><td>0.1606850                              </td><td>ENSG00000083520_DIS3-13_73313960_T_G   </td><td> 0.028447894                           </td></tr>\n",
       "\t<tr><td>0.2569825                              </td><td>ENSG00000085063_CD59-11_33755956_C_T   </td><td>-0.334534637                           </td></tr>\n",
       "\t<tr><td>0.2604579                              </td><td>ENSG00000086504_MRPL28-16_423420_C_T   </td><td>-0.052604701                           </td></tr>\n",
       "\t<tr><td>0.3604654                              </td><td>ENSG00000087338_GMCL1-2_70033584_C_T   </td><td>-0.081592107                           </td></tr>\n",
       "\t<tr><td>0.1465369                              </td><td>ENSG00000088451_TGDS-13_95240054_G_A   </td><td>-0.021644447                           </td></tr>\n",
       "\t<tr><td>0.1998069                              </td><td>ENSG00000090615_GOLGA3-12_133352702_A_C</td><td> 0.171654321                           </td></tr>\n",
       "\t<tr><td>0.2241721                              </td><td>ENSG00000093072_CECR1-22_17685194_T_A  </td><td> 0.317473858                           </td></tr>\n",
       "\t<tr><td>0.2494120                              </td><td>ENSG00000099984_GSTT2-22_24255296_C_T  </td><td>-0.260292050                           </td></tr>\n",
       "\t<tr><td>0.2532590                              </td><td>ENSG00000100031_GGT1-22_24996582_G_A   </td><td>-0.088486809                           </td></tr>\n",
       "\t<tr><td>0.2108846                              </td><td>ENSG00000100122_CRYBB1-22_26996946_G_A </td><td> 0.034765077                           </td></tr>\n",
       "\t<tr><td>0.5026317                              </td><td>ENSG00000100299_ARSA-22_51060049_G_A   </td><td>-0.217946900                           </td></tr>\n",
       "\t<tr><td>0.4535906                              </td><td>ENSG00000100376_FAM118A-22_45789743_T_G</td><td> 0.300062693                           </td></tr>\n",
       "\t<tr><td>...</td><td>...</td><td>...</td></tr>\n",
       "\t<tr><td>0.2112372                                   </td><td>ENSG00000196476_C20orf96-20_265238_T_C      </td><td> 0.05538885                                 </td></tr>\n",
       "\t<tr><td>0.1965062                                   </td><td>ENSG00000196912_ANKRD36B-2_98162433_A_G     </td><td>-0.05560773                                 </td></tr>\n",
       "\t<tr><td>0.2442892                                   </td><td>ENSG00000197329_PELI1-2_64342177_C_T        </td><td> 0.13770223                                 </td></tr>\n",
       "\t<tr><td>0.5523659                                   </td><td>ENSG00000197353_LYPD2-8_143889429_G_A       </td><td> 0.03614945                                 </td></tr>\n",
       "\t<tr><td>0.2513225                                   </td><td>ENSG00000197498_RPF2-6_111342098_G_A        </td><td>-0.16158951                                 </td></tr>\n",
       "\t<tr><td>0.1878800                                   </td><td>ENSG00000197696_NMB-15_85186577_C_T         </td><td>-0.09483770                                 </td></tr>\n",
       "\t<tr><td>0.3630320                                   </td><td>ENSG00000197728_RPS26-12_56401085_G_A       </td><td>-0.39991380                                 </td></tr>\n",
       "\t<tr><td>0.5875525                                   </td><td>ENSG00000198276_UCKL1-20_62604493_G_A       </td><td> 0.25448976                                 </td></tr>\n",
       "\t<tr><td>0.1849192                                   </td><td>ENSG00000198429_ZNF69-19_11995508_C_T       </td><td> 0.04307937                                 </td></tr>\n",
       "\t<tr><td>0.1207928                                   </td><td>ENSG00000198496_NBR2-17_41189045_A_G        </td><td>-0.12090980                                 </td></tr>\n",
       "\t<tr><td>0.5328621                                   </td><td>ENSG00000203805_PPAPDC1A-10_122218993_G_A   </td><td>-0.15290731                                 </td></tr>\n",
       "\t<tr><td>0.9114545                                   </td><td>ENSG00000204316_MRPL38-17_73983039_T_C      </td><td>-0.20861854                                 </td></tr>\n",
       "\t<tr><td>0.2203200                                   </td><td>ENSG00000204531_POU5F1-6_31132414_G_A       </td><td>-0.66724725                                 </td></tr>\n",
       "\t<tr><td>0.2080579                                   </td><td>ENSG00000204536_CCHCR1-6_31108485_G_A       </td><td>-0.32412768                                 </td></tr>\n",
       "\t<tr><td>0.4283850                                   </td><td>ENSG00000204711_C9orf135-9_72410323_G_A     </td><td> 0.20707289                                 </td></tr>\n",
       "\t<tr><td>0.2369816                                   </td><td>ENSG00000206535_LNP1-3_100181999_G_T        </td><td>-0.12709338                                 </td></tr>\n",
       "\t<tr><td>0.1949889                                   </td><td>ENSG00000213694_S1PR3-9_91571095_T_C        </td><td> 0.11786111                                 </td></tr>\n",
       "\t<tr><td>0.4539591                                   </td><td>ENSG00000214076_CPSF1P1-22_32671073_G_A     </td><td>-0.13529619                                 </td></tr>\n",
       "\t<tr><td>0.3018600                                   </td><td>ENSG00000223705_NSUN5P1-7_75100124_T_C      </td><td>-0.27417803                                 </td></tr>\n",
       "\t<tr><td>0.3209457                                   </td><td>ENSG00000226278_PSPHP1-7_55802063_T_C       </td><td> 1.03835508                                 </td></tr>\n",
       "\t<tr><td>0.4309101                                   </td><td>ENSG00000229150_CRYGEP-2_208977362_C_A      </td><td> 0.23088958                                 </td></tr>\n",
       "\t<tr><td>1.2358267                                   </td><td>ENSG00000232196_MTRNR2L4-16_3508261_C_G     </td><td>-0.28187872                                 </td></tr>\n",
       "\t<tr><td>0.4470377                                   </td><td>ENSG00000239704_CDRT4-17_15434991_C_T       </td><td>-0.08301882                                 </td></tr>\n",
       "\t<tr><td>0.0962830                                   </td><td>ENSG00000241941_RPL32P26-12_63046941_T_C    </td><td> 0.04526593                                 </td></tr>\n",
       "\t<tr><td>0.4166452                                   </td><td>ENSG00000243566_UPK3B-7_76137375_C_T        </td><td>-0.11843907                                 </td></tr>\n",
       "\t<tr><td>0.1980396                                   </td><td>ENSG00000248098_BCKDHA-19_41937095_G_A      </td><td>-0.09305893                                 </td></tr>\n",
       "\t<tr><td>0.9383544                                   </td><td>ENSG00000248124_RRN3P1-16_21818292_A_C      </td><td> 0.35703406                                 </td></tr>\n",
       "\t<tr><td>0.2436795                                   </td><td>ENSG00000250317_SMIM20-4_25918516_A_G       </td><td>-0.22461719                                 </td></tr>\n",
       "\t<tr><td>0.3232577                                   </td><td>ENSG00000258289_CHURC1-14_65379283_A_G      </td><td>-0.35133431                                 </td></tr>\n",
       "\t<tr><td>0.5533948                                   </td><td>ENSG00000259024_TVP23C-CDRT4-17_15434991_C_T</td><td>-0.07035361                                 </td></tr>\n",
       "</tbody>\n",
       "</table>\n"
      ],
      "text/latex": [
       "\\begin{tabular}{r|lll}\n",
       " beta & eqtl & beta\\_G\\\\\n",
       "\\hline\n",
       "\t 0.1757708                                       & ENSG00000006459\\_KDM7A-7\\_139913409\\_G\\_A   &  0.033709816                                   \\\\\n",
       "\t 0.2507333                                       & ENSG00000008311\\_AASS-7\\_121856717\\_A\\_G    & -0.004487797                                   \\\\\n",
       "\t 0.1547523                                       & ENSG00000008324\\_SS18L2-3\\_42588598\\_G\\_C   &  0.053495093                                   \\\\\n",
       "\t 0.1702175                                       & ENSG00000011523\\_CEP68-2\\_65279223\\_C\\_T    &  0.069365396                                   \\\\\n",
       "\t 0.5545254                                       & ENSG00000013297\\_CLDN11-3\\_170402765\\_T\\_C  & -0.106901654                                   \\\\\n",
       "\t 0.2658765                                       & ENSG00000029639\\_TFB1M-6\\_155635808\\_C\\_G   & -0.154747699                                   \\\\\n",
       "\t 0.1566158                                       & ENSG00000035115\\_SH3YL1-2\\_290003\\_C\\_T     & -0.069764463                                   \\\\\n",
       "\t 0.3261395                                       & ENSG00000059377\\_TBXAS1-7\\_139547370\\_G\\_A  & -0.085488861                                   \\\\\n",
       "\t 0.1850091                                       & ENSG00000063761\\_ADCK1-14\\_78311319\\_G\\_A   &  0.060267254                                   \\\\\n",
       "\t 0.7437535                                       & ENSG00000064042\\_LIMCH1-4\\_41339317\\_C\\_T   &  0.157970516                                   \\\\\n",
       "\t 0.2279930                                       & ENSG00000065675\\_PRKCQ-10\\_6682022\\_T\\_C    &  0.080762128                                   \\\\\n",
       "\t 0.2281228                                       & ENSG00000070081\\_NUCB2-11\\_17305294\\_T\\_G   & -0.099098367                                   \\\\\n",
       "\t 0.3375940                                       & ENSG00000071967\\_CYBRD1-2\\_172375786\\_C\\_T  &  0.102243913                                   \\\\\n",
       "\t 0.2254477                                       & ENSG00000072736\\_NFATC3-16\\_68293320\\_T\\_C  & -0.039363661                                   \\\\\n",
       "\t 0.2658358                                       & ENSG00000074696\\_PTPLAD1-15\\_65865265\\_A\\_T & -0.045196651                                   \\\\\n",
       "\t 0.3894689                                       & ENSG00000075340\\_ADD2-2\\_70877345\\_T\\_C     & -0.169445650                                   \\\\\n",
       "\t 0.1688174                                       & ENSG00000077254\\_USP33-1\\_78305492\\_A\\_G    & -0.002551978                                   \\\\\n",
       "\t 0.2563691                                       & ENSG00000077942\\_FBLN1-22\\_45898592\\_G\\_C   &  0.173388413                                   \\\\\n",
       "\t 0.1606850                                       & ENSG00000083520\\_DIS3-13\\_73313960\\_T\\_G    &  0.028447894                                   \\\\\n",
       "\t 0.2569825                                       & ENSG00000085063\\_CD59-11\\_33755956\\_C\\_T    & -0.334534637                                   \\\\\n",
       "\t 0.2604579                                       & ENSG00000086504\\_MRPL28-16\\_423420\\_C\\_T    & -0.052604701                                   \\\\\n",
       "\t 0.3604654                                       & ENSG00000087338\\_GMCL1-2\\_70033584\\_C\\_T    & -0.081592107                                   \\\\\n",
       "\t 0.1465369                                       & ENSG00000088451\\_TGDS-13\\_95240054\\_G\\_A    & -0.021644447                                   \\\\\n",
       "\t 0.1998069                                       & ENSG00000090615\\_GOLGA3-12\\_133352702\\_A\\_C &  0.171654321                                   \\\\\n",
       "\t 0.2241721                                       & ENSG00000093072\\_CECR1-22\\_17685194\\_T\\_A   &  0.317473858                                   \\\\\n",
       "\t 0.2494120                                       & ENSG00000099984\\_GSTT2-22\\_24255296\\_C\\_T   & -0.260292050                                   \\\\\n",
       "\t 0.2532590                                       & ENSG00000100031\\_GGT1-22\\_24996582\\_G\\_A    & -0.088486809                                   \\\\\n",
       "\t 0.2108846                                       & ENSG00000100122\\_CRYBB1-22\\_26996946\\_G\\_A  &  0.034765077                                   \\\\\n",
       "\t 0.5026317                                       & ENSG00000100299\\_ARSA-22\\_51060049\\_G\\_A    & -0.217946900                                   \\\\\n",
       "\t 0.4535906                                       & ENSG00000100376\\_FAM118A-22\\_45789743\\_T\\_G &  0.300062693                                   \\\\\n",
       "\t ... & ... & ...\\\\\n",
       "\t 0.2112372                                            & ENSG00000196476\\_C20orf96-20\\_265238\\_T\\_C       &  0.05538885                                         \\\\\n",
       "\t 0.1965062                                            & ENSG00000196912\\_ANKRD36B-2\\_98162433\\_A\\_G      & -0.05560773                                         \\\\\n",
       "\t 0.2442892                                            & ENSG00000197329\\_PELI1-2\\_64342177\\_C\\_T         &  0.13770223                                         \\\\\n",
       "\t 0.5523659                                            & ENSG00000197353\\_LYPD2-8\\_143889429\\_G\\_A        &  0.03614945                                         \\\\\n",
       "\t 0.2513225                                            & ENSG00000197498\\_RPF2-6\\_111342098\\_G\\_A         & -0.16158951                                         \\\\\n",
       "\t 0.1878800                                            & ENSG00000197696\\_NMB-15\\_85186577\\_C\\_T          & -0.09483770                                         \\\\\n",
       "\t 0.3630320                                            & ENSG00000197728\\_RPS26-12\\_56401085\\_G\\_A        & -0.39991380                                         \\\\\n",
       "\t 0.5875525                                            & ENSG00000198276\\_UCKL1-20\\_62604493\\_G\\_A        &  0.25448976                                         \\\\\n",
       "\t 0.1849192                                            & ENSG00000198429\\_ZNF69-19\\_11995508\\_C\\_T        &  0.04307937                                         \\\\\n",
       "\t 0.1207928                                            & ENSG00000198496\\_NBR2-17\\_41189045\\_A\\_G         & -0.12090980                                         \\\\\n",
       "\t 0.5328621                                            & ENSG00000203805\\_PPAPDC1A-10\\_122218993\\_G\\_A    & -0.15290731                                         \\\\\n",
       "\t 0.9114545                                            & ENSG00000204316\\_MRPL38-17\\_73983039\\_T\\_C       & -0.20861854                                         \\\\\n",
       "\t 0.2203200                                            & ENSG00000204531\\_POU5F1-6\\_31132414\\_G\\_A        & -0.66724725                                         \\\\\n",
       "\t 0.2080579                                            & ENSG00000204536\\_CCHCR1-6\\_31108485\\_G\\_A        & -0.32412768                                         \\\\\n",
       "\t 0.4283850                                            & ENSG00000204711\\_C9orf135-9\\_72410323\\_G\\_A      &  0.20707289                                         \\\\\n",
       "\t 0.2369816                                            & ENSG00000206535\\_LNP1-3\\_100181999\\_G\\_T         & -0.12709338                                         \\\\\n",
       "\t 0.1949889                                            & ENSG00000213694\\_S1PR3-9\\_91571095\\_T\\_C         &  0.11786111                                         \\\\\n",
       "\t 0.4539591                                            & ENSG00000214076\\_CPSF1P1-22\\_32671073\\_G\\_A      & -0.13529619                                         \\\\\n",
       "\t 0.3018600                                            & ENSG00000223705\\_NSUN5P1-7\\_75100124\\_T\\_C       & -0.27417803                                         \\\\\n",
       "\t 0.3209457                                            & ENSG00000226278\\_PSPHP1-7\\_55802063\\_T\\_C        &  1.03835508                                         \\\\\n",
       "\t 0.4309101                                            & ENSG00000229150\\_CRYGEP-2\\_208977362\\_C\\_A       &  0.23088958                                         \\\\\n",
       "\t 1.2358267                                            & ENSG00000232196\\_MTRNR2L4-16\\_3508261\\_C\\_G      & -0.28187872                                         \\\\\n",
       "\t 0.4470377                                            & ENSG00000239704\\_CDRT4-17\\_15434991\\_C\\_T        & -0.08301882                                         \\\\\n",
       "\t 0.0962830                                            & ENSG00000241941\\_RPL32P26-12\\_63046941\\_T\\_C     &  0.04526593                                         \\\\\n",
       "\t 0.4166452                                            & ENSG00000243566\\_UPK3B-7\\_76137375\\_C\\_T         & -0.11843907                                         \\\\\n",
       "\t 0.1980396                                            & ENSG00000248098\\_BCKDHA-19\\_41937095\\_G\\_A       & -0.09305893                                         \\\\\n",
       "\t 0.9383544                                            & ENSG00000248124\\_RRN3P1-16\\_21818292\\_A\\_C       &  0.35703406                                         \\\\\n",
       "\t 0.2436795                                            & ENSG00000250317\\_SMIM20-4\\_25918516\\_A\\_G        & -0.22461719                                         \\\\\n",
       "\t 0.3232577                                            & ENSG00000258289\\_CHURC1-14\\_65379283\\_A\\_G       & -0.35133431                                         \\\\\n",
       "\t 0.5533948                                            & ENSG00000259024\\_TVP23C-CDRT4-17\\_15434991\\_C\\_T & -0.07035361                                         \\\\\n",
       "\\end{tabular}\n"
      ],
      "text/markdown": [
       "\n",
       "| beta | eqtl | beta_G |\n",
       "|---|---|---|\n",
       "| 0.1757708                               | ENSG00000006459_KDM7A-7_139913409_G_A   |  0.033709816                            |\n",
       "| 0.2507333                               | ENSG00000008311_AASS-7_121856717_A_G    | -0.004487797                            |\n",
       "| 0.1547523                               | ENSG00000008324_SS18L2-3_42588598_G_C   |  0.053495093                            |\n",
       "| 0.1702175                               | ENSG00000011523_CEP68-2_65279223_C_T    |  0.069365396                            |\n",
       "| 0.5545254                               | ENSG00000013297_CLDN11-3_170402765_T_C  | -0.106901654                            |\n",
       "| 0.2658765                               | ENSG00000029639_TFB1M-6_155635808_C_G   | -0.154747699                            |\n",
       "| 0.1566158                               | ENSG00000035115_SH3YL1-2_290003_C_T     | -0.069764463                            |\n",
       "| 0.3261395                               | ENSG00000059377_TBXAS1-7_139547370_G_A  | -0.085488861                            |\n",
       "| 0.1850091                               | ENSG00000063761_ADCK1-14_78311319_G_A   |  0.060267254                            |\n",
       "| 0.7437535                               | ENSG00000064042_LIMCH1-4_41339317_C_T   |  0.157970516                            |\n",
       "| 0.2279930                               | ENSG00000065675_PRKCQ-10_6682022_T_C    |  0.080762128                            |\n",
       "| 0.2281228                               | ENSG00000070081_NUCB2-11_17305294_T_G   | -0.099098367                            |\n",
       "| 0.3375940                               | ENSG00000071967_CYBRD1-2_172375786_C_T  |  0.102243913                            |\n",
       "| 0.2254477                               | ENSG00000072736_NFATC3-16_68293320_T_C  | -0.039363661                            |\n",
       "| 0.2658358                               | ENSG00000074696_PTPLAD1-15_65865265_A_T | -0.045196651                            |\n",
       "| 0.3894689                               | ENSG00000075340_ADD2-2_70877345_T_C     | -0.169445650                            |\n",
       "| 0.1688174                               | ENSG00000077254_USP33-1_78305492_A_G    | -0.002551978                            |\n",
       "| 0.2563691                               | ENSG00000077942_FBLN1-22_45898592_G_C   |  0.173388413                            |\n",
       "| 0.1606850                               | ENSG00000083520_DIS3-13_73313960_T_G    |  0.028447894                            |\n",
       "| 0.2569825                               | ENSG00000085063_CD59-11_33755956_C_T    | -0.334534637                            |\n",
       "| 0.2604579                               | ENSG00000086504_MRPL28-16_423420_C_T    | -0.052604701                            |\n",
       "| 0.3604654                               | ENSG00000087338_GMCL1-2_70033584_C_T    | -0.081592107                            |\n",
       "| 0.1465369                               | ENSG00000088451_TGDS-13_95240054_G_A    | -0.021644447                            |\n",
       "| 0.1998069                               | ENSG00000090615_GOLGA3-12_133352702_A_C |  0.171654321                            |\n",
       "| 0.2241721                               | ENSG00000093072_CECR1-22_17685194_T_A   |  0.317473858                            |\n",
       "| 0.2494120                               | ENSG00000099984_GSTT2-22_24255296_C_T   | -0.260292050                            |\n",
       "| 0.2532590                               | ENSG00000100031_GGT1-22_24996582_G_A    | -0.088486809                            |\n",
       "| 0.2108846                               | ENSG00000100122_CRYBB1-22_26996946_G_A  |  0.034765077                            |\n",
       "| 0.5026317                               | ENSG00000100299_ARSA-22_51060049_G_A    | -0.217946900                            |\n",
       "| 0.4535906                               | ENSG00000100376_FAM118A-22_45789743_T_G |  0.300062693                            |\n",
       "| ... | ... | ... |\n",
       "| 0.2112372                                    | ENSG00000196476_C20orf96-20_265238_T_C       |  0.05538885                                  |\n",
       "| 0.1965062                                    | ENSG00000196912_ANKRD36B-2_98162433_A_G      | -0.05560773                                  |\n",
       "| 0.2442892                                    | ENSG00000197329_PELI1-2_64342177_C_T         |  0.13770223                                  |\n",
       "| 0.5523659                                    | ENSG00000197353_LYPD2-8_143889429_G_A        |  0.03614945                                  |\n",
       "| 0.2513225                                    | ENSG00000197498_RPF2-6_111342098_G_A         | -0.16158951                                  |\n",
       "| 0.1878800                                    | ENSG00000197696_NMB-15_85186577_C_T          | -0.09483770                                  |\n",
       "| 0.3630320                                    | ENSG00000197728_RPS26-12_56401085_G_A        | -0.39991380                                  |\n",
       "| 0.5875525                                    | ENSG00000198276_UCKL1-20_62604493_G_A        |  0.25448976                                  |\n",
       "| 0.1849192                                    | ENSG00000198429_ZNF69-19_11995508_C_T        |  0.04307937                                  |\n",
       "| 0.1207928                                    | ENSG00000198496_NBR2-17_41189045_A_G         | -0.12090980                                  |\n",
       "| 0.5328621                                    | ENSG00000203805_PPAPDC1A-10_122218993_G_A    | -0.15290731                                  |\n",
       "| 0.9114545                                    | ENSG00000204316_MRPL38-17_73983039_T_C       | -0.20861854                                  |\n",
       "| 0.2203200                                    | ENSG00000204531_POU5F1-6_31132414_G_A        | -0.66724725                                  |\n",
       "| 0.2080579                                    | ENSG00000204536_CCHCR1-6_31108485_G_A        | -0.32412768                                  |\n",
       "| 0.4283850                                    | ENSG00000204711_C9orf135-9_72410323_G_A      |  0.20707289                                  |\n",
       "| 0.2369816                                    | ENSG00000206535_LNP1-3_100181999_G_T         | -0.12709338                                  |\n",
       "| 0.1949889                                    | ENSG00000213694_S1PR3-9_91571095_T_C         |  0.11786111                                  |\n",
       "| 0.4539591                                    | ENSG00000214076_CPSF1P1-22_32671073_G_A      | -0.13529619                                  |\n",
       "| 0.3018600                                    | ENSG00000223705_NSUN5P1-7_75100124_T_C       | -0.27417803                                  |\n",
       "| 0.3209457                                    | ENSG00000226278_PSPHP1-7_55802063_T_C        |  1.03835508                                  |\n",
       "| 0.4309101                                    | ENSG00000229150_CRYGEP-2_208977362_C_A       |  0.23088958                                  |\n",
       "| 1.2358267                                    | ENSG00000232196_MTRNR2L4-16_3508261_C_G      | -0.28187872                                  |\n",
       "| 0.4470377                                    | ENSG00000239704_CDRT4-17_15434991_C_T        | -0.08301882                                  |\n",
       "| 0.0962830                                    | ENSG00000241941_RPL32P26-12_63046941_T_C     |  0.04526593                                  |\n",
       "| 0.4166452                                    | ENSG00000243566_UPK3B-7_76137375_C_T         | -0.11843907                                  |\n",
       "| 0.1980396                                    | ENSG00000248098_BCKDHA-19_41937095_G_A       | -0.09305893                                  |\n",
       "| 0.9383544                                    | ENSG00000248124_RRN3P1-16_21818292_A_C       |  0.35703406                                  |\n",
       "| 0.2436795                                    | ENSG00000250317_SMIM20-4_25918516_A_G        | -0.22461719                                  |\n",
       "| 0.3232577                                    | ENSG00000258289_CHURC1-14_65379283_A_G       | -0.35133431                                  |\n",
       "| 0.5533948                                    | ENSG00000259024_TVP23C-CDRT4-17_15434991_C_T | -0.07035361                                  |\n",
       "\n"
      ],
      "text/plain": [
       "    beta      eqtl                                         beta_G      \n",
       "1   0.1757708 ENSG00000006459_KDM7A-7_139913409_G_A         0.033709816\n",
       "2   0.2507333 ENSG00000008311_AASS-7_121856717_A_G         -0.004487797\n",
       "3   0.1547523 ENSG00000008324_SS18L2-3_42588598_G_C         0.053495093\n",
       "4   0.1702175 ENSG00000011523_CEP68-2_65279223_C_T          0.069365396\n",
       "5   0.5545254 ENSG00000013297_CLDN11-3_170402765_T_C       -0.106901654\n",
       "6   0.2658765 ENSG00000029639_TFB1M-6_155635808_C_G        -0.154747699\n",
       "7   0.1566158 ENSG00000035115_SH3YL1-2_290003_C_T          -0.069764463\n",
       "8   0.3261395 ENSG00000059377_TBXAS1-7_139547370_G_A       -0.085488861\n",
       "9   0.1850091 ENSG00000063761_ADCK1-14_78311319_G_A         0.060267254\n",
       "10  0.7437535 ENSG00000064042_LIMCH1-4_41339317_C_T         0.157970516\n",
       "11  0.2279930 ENSG00000065675_PRKCQ-10_6682022_T_C          0.080762128\n",
       "12  0.2281228 ENSG00000070081_NUCB2-11_17305294_T_G        -0.099098367\n",
       "13  0.3375940 ENSG00000071967_CYBRD1-2_172375786_C_T        0.102243913\n",
       "14  0.2254477 ENSG00000072736_NFATC3-16_68293320_T_C       -0.039363661\n",
       "15  0.2658358 ENSG00000074696_PTPLAD1-15_65865265_A_T      -0.045196651\n",
       "16  0.3894689 ENSG00000075340_ADD2-2_70877345_T_C          -0.169445650\n",
       "17  0.1688174 ENSG00000077254_USP33-1_78305492_A_G         -0.002551978\n",
       "18  0.2563691 ENSG00000077942_FBLN1-22_45898592_G_C         0.173388413\n",
       "19  0.1606850 ENSG00000083520_DIS3-13_73313960_T_G          0.028447894\n",
       "20  0.2569825 ENSG00000085063_CD59-11_33755956_C_T         -0.334534637\n",
       "21  0.2604579 ENSG00000086504_MRPL28-16_423420_C_T         -0.052604701\n",
       "22  0.3604654 ENSG00000087338_GMCL1-2_70033584_C_T         -0.081592107\n",
       "23  0.1465369 ENSG00000088451_TGDS-13_95240054_G_A         -0.021644447\n",
       "24  0.1998069 ENSG00000090615_GOLGA3-12_133352702_A_C       0.171654321\n",
       "25  0.2241721 ENSG00000093072_CECR1-22_17685194_T_A         0.317473858\n",
       "26  0.2494120 ENSG00000099984_GSTT2-22_24255296_C_T        -0.260292050\n",
       "27  0.2532590 ENSG00000100031_GGT1-22_24996582_G_A         -0.088486809\n",
       "28  0.2108846 ENSG00000100122_CRYBB1-22_26996946_G_A        0.034765077\n",
       "29  0.5026317 ENSG00000100299_ARSA-22_51060049_G_A         -0.217946900\n",
       "30  0.4535906 ENSG00000100376_FAM118A-22_45789743_T_G       0.300062693\n",
       "... ...       ...                                          ...         \n",
       "159 0.2112372 ENSG00000196476_C20orf96-20_265238_T_C        0.05538885 \n",
       "160 0.1965062 ENSG00000196912_ANKRD36B-2_98162433_A_G      -0.05560773 \n",
       "161 0.2442892 ENSG00000197329_PELI1-2_64342177_C_T          0.13770223 \n",
       "162 0.5523659 ENSG00000197353_LYPD2-8_143889429_G_A         0.03614945 \n",
       "163 0.2513225 ENSG00000197498_RPF2-6_111342098_G_A         -0.16158951 \n",
       "164 0.1878800 ENSG00000197696_NMB-15_85186577_C_T          -0.09483770 \n",
       "165 0.3630320 ENSG00000197728_RPS26-12_56401085_G_A        -0.39991380 \n",
       "166 0.5875525 ENSG00000198276_UCKL1-20_62604493_G_A         0.25448976 \n",
       "167 0.1849192 ENSG00000198429_ZNF69-19_11995508_C_T         0.04307937 \n",
       "168 0.1207928 ENSG00000198496_NBR2-17_41189045_A_G         -0.12090980 \n",
       "169 0.5328621 ENSG00000203805_PPAPDC1A-10_122218993_G_A    -0.15290731 \n",
       "170 0.9114545 ENSG00000204316_MRPL38-17_73983039_T_C       -0.20861854 \n",
       "171 0.2203200 ENSG00000204531_POU5F1-6_31132414_G_A        -0.66724725 \n",
       "172 0.2080579 ENSG00000204536_CCHCR1-6_31108485_G_A        -0.32412768 \n",
       "173 0.4283850 ENSG00000204711_C9orf135-9_72410323_G_A       0.20707289 \n",
       "174 0.2369816 ENSG00000206535_LNP1-3_100181999_G_T         -0.12709338 \n",
       "175 0.1949889 ENSG00000213694_S1PR3-9_91571095_T_C          0.11786111 \n",
       "176 0.4539591 ENSG00000214076_CPSF1P1-22_32671073_G_A      -0.13529619 \n",
       "177 0.3018600 ENSG00000223705_NSUN5P1-7_75100124_T_C       -0.27417803 \n",
       "178 0.3209457 ENSG00000226278_PSPHP1-7_55802063_T_C         1.03835508 \n",
       "179 0.4309101 ENSG00000229150_CRYGEP-2_208977362_C_A        0.23088958 \n",
       "180 1.2358267 ENSG00000232196_MTRNR2L4-16_3508261_C_G      -0.28187872 \n",
       "181 0.4470377 ENSG00000239704_CDRT4-17_15434991_C_T        -0.08301882 \n",
       "182 0.0962830 ENSG00000241941_RPL32P26-12_63046941_T_C      0.04526593 \n",
       "183 0.4166452 ENSG00000243566_UPK3B-7_76137375_C_T         -0.11843907 \n",
       "184 0.1980396 ENSG00000248098_BCKDHA-19_41937095_G_A       -0.09305893 \n",
       "185 0.9383544 ENSG00000248124_RRN3P1-16_21818292_A_C        0.35703406 \n",
       "186 0.2436795 ENSG00000250317_SMIM20-4_25918516_A_G        -0.22461719 \n",
       "187 0.3232577 ENSG00000258289_CHURC1-14_65379283_A_G       -0.35133431 \n",
       "188 0.5533948 ENSG00000259024_TVP23C-CDRT4-17_15434991_C_T -0.07035361 "
      ]
     },
     "metadata": {},
     "output_type": "display_data"
    }
   ],
   "source": [
    "df_beta_both1"
   ]
  },
  {
   "cell_type": "code",
   "execution_count": 62,
   "id": "2ac4ea35",
   "metadata": {},
   "outputs": [],
   "source": [
    "df_beta_both1$beta_GC = df_beta_both1$beta\n",
    "df_beta_both2$beta_GC = df_beta_both2$beta\n",
    "df_beta_both5$beta_GC = df_beta_both5$beta\n",
    "df_beta_both10$beta_GC = df_beta_both10$beta\n",
    "df_beta_both20$beta_GC = df_beta_both20$beta"
   ]
  },
  {
   "cell_type": "code",
   "execution_count": 75,
   "id": "0fe518f0",
   "metadata": {},
   "outputs": [],
   "source": [
    "df_beta_both1$beta = df_beta_both1$beta_GC + abs(df_beta_both1$beta_G)\n",
    "df_beta_both2$beta = df_beta_both2$beta_GC + abs(df_beta_both2$beta_G)\n",
    "df_beta_both5$beta = df_beta_both5$beta_GC + abs(df_beta_both5$beta_G)\n",
    "df_beta_both10$beta = df_beta_both10$beta_GC + abs(df_beta_both10$beta_G)\n",
    "df_beta_both20$beta = df_beta_both20$beta_GC + abs(df_beta_both20$beta_G)"
   ]
  },
  {
   "cell_type": "code",
   "execution_count": 76,
   "id": "29857031",
   "metadata": {
    "scrolled": true
   },
   "outputs": [],
   "source": [
    "# df_beta_both1"
   ]
  },
  {
   "cell_type": "code",
   "execution_count": 79,
   "id": "8dc08541",
   "metadata": {
    "scrolled": true
   },
   "outputs": [
    {
     "data": {
      "image/png": "[encoded data removed]",
      "text/plain": [
       "Plot with title “Histogram of df_beta_both1$beta”"
      ]
     },
     "metadata": {},
     "output_type": "display_data"
    },
    {
     "data": {
      "image/png": "[encoded data removed]",
      "text/plain": [
       "Plot with title “Histogram of df_beta_both2$beta”"
      ]
     },
     "metadata": {},
     "output_type": "display_data"
    },
    {
     "data": {
      "image/png": "[encoded data removed]",
      "text/plain": [
       "Plot with title “Histogram of df_beta_both5$beta”"
      ]
     },
     "metadata": {},
     "output_type": "display_data"
    },
    {
     "data": {
      "image/png": "[encoded data removed]",
      "text/plain": [
       "Plot with title “Histogram of df_beta_both10$beta”"
      ]
     },
     "metadata": {},
     "output_type": "display_data"
    },
    {
     "data": {
      "image/png": "[encoded data removed]",
      "text/plain": [
       "Plot with title “Histogram of df_beta_both20$beta”"
      ]
     },
     "metadata": {},
     "output_type": "display_data"
    }
   ],
   "source": [
    "options(repr.plot.width = 8, repr.plot.height = 4)\n",
    "xmax = 5\n",
    "hist(df_beta_both1$beta, xlim = c(0,xmax))\n",
    "hist(df_beta_both2$beta, xlim = c(0,xmax))\n",
    "hist(df_beta_both5$beta, xlim = c(0,xmax))\n",
    "hist(df_beta_both10$beta, xlim = c(0,xmax))\n",
    "hist(df_beta_both20$beta, xlim = c(0,xmax))"
   ]
  },
  {
   "cell_type": "code",
   "execution_count": 68,
   "id": "4e96e0e7",
   "metadata": {},
   "outputs": [],
   "source": [
    "# stratify into bins, e.g. [0-0.5, 0.5-1, 1-1.5, 1.5-2, >2]"
   ]
  },
  {
   "cell_type": "code",
   "execution_count": 106,
   "id": "5e17ec7a",
   "metadata": {},
   "outputs": [
    {
     "data": {
      "text/html": [
       "44"
      ],
      "text/latex": [
       "44"
      ],
      "text/markdown": [
       "44"
      ],
      "text/plain": [
       "[1] 44"
      ]
     },
     "metadata": {},
     "output_type": "display_data"
    },
    {
     "data": {
      "text/html": [
       "82"
      ],
      "text/latex": [
       "82"
      ],
      "text/markdown": [
       "82"
      ],
      "text/plain": [
       "[1] 82"
      ]
     },
     "metadata": {},
     "output_type": "display_data"
    },
    {
     "data": {
      "text/html": [
       "54"
      ],
      "text/latex": [
       "54"
      ],
      "text/markdown": [
       "54"
      ],
      "text/plain": [
       "[1] 54"
      ]
     },
     "metadata": {},
     "output_type": "display_data"
    },
    {
     "data": {
      "text/html": [
       "7"
      ],
      "text/latex": [
       "7"
      ],
      "text/markdown": [
       "7"
      ],
      "text/plain": [
       "[1] 7"
      ]
     },
     "metadata": {},
     "output_type": "display_data"
    },
    {
     "data": {
      "text/html": [
       "0"
      ],
      "text/latex": [
       "0"
      ],
      "text/markdown": [
       "0"
      ],
      "text/plain": [
       "[1] 0"
      ]
     },
     "metadata": {},
     "output_type": "display_data"
    },
    {
     "data": {
      "text/html": [
       "1"
      ],
      "text/latex": [
       "1"
      ],
      "text/markdown": [
       "1"
      ],
      "text/plain": [
       "[1] 1"
      ]
     },
     "metadata": {},
     "output_type": "display_data"
    }
   ],
   "source": [
    "df0 = df_beta_both1\n",
    "nrow(df0[df0$beta<0.25,])\n",
    "nrow(df0[df0$beta>=0.25 & df0$beta<0.5,])\n",
    "nrow(df0[df0$beta>=0.5 & df0$beta<1,])\n",
    "nrow(df0[df0$beta>=1 & df0$beta<2,])\n",
    "nrow(df0[df0$beta>=2 & df0$beta<3,])\n",
    "nrow(df0[df0$beta>=3,])"
   ]
  },
  {
   "cell_type": "code",
   "execution_count": 104,
   "id": "7f547020",
   "metadata": {},
   "outputs": [
    {
     "data": {
      "text/html": [
       "52"
      ],
      "text/latex": [
       "52"
      ],
      "text/markdown": [
       "52"
      ],
      "text/plain": [
       "[1] 52"
      ]
     },
     "metadata": {},
     "output_type": "display_data"
    },
    {
     "data": {
      "text/html": [
       "101"
      ],
      "text/latex": [
       "101"
      ],
      "text/markdown": [
       "101"
      ],
      "text/plain": [
       "[1] 101"
      ]
     },
     "metadata": {},
     "output_type": "display_data"
    },
    {
     "data": {
      "text/html": [
       "59"
      ],
      "text/latex": [
       "59"
      ],
      "text/markdown": [
       "59"
      ],
      "text/plain": [
       "[1] 59"
      ]
     },
     "metadata": {},
     "output_type": "display_data"
    },
    {
     "data": {
      "text/html": [
       "9"
      ],
      "text/latex": [
       "9"
      ],
      "text/markdown": [
       "9"
      ],
      "text/plain": [
       "[1] 9"
      ]
     },
     "metadata": {},
     "output_type": "display_data"
    },
    {
     "data": {
      "text/html": [
       "0"
      ],
      "text/latex": [
       "0"
      ],
      "text/markdown": [
       "0"
      ],
      "text/plain": [
       "[1] 0"
      ]
     },
     "metadata": {},
     "output_type": "display_data"
    },
    {
     "data": {
      "text/html": [
       "1"
      ],
      "text/latex": [
       "1"
      ],
      "text/markdown": [
       "1"
      ],
      "text/plain": [
       "[1] 1"
      ]
     },
     "metadata": {},
     "output_type": "display_data"
    }
   ],
   "source": [
    "df0 = df_beta_both2\n",
    "nrow(df0[df0$beta<0.25,])\n",
    "nrow(df0[df0$beta>=0.25 & df0$beta<0.5,])\n",
    "nrow(df0[df0$beta>=0.5 & df0$beta<1,])\n",
    "nrow(df0[df0$beta>=1 & df0$beta<2,])\n",
    "nrow(df0[df0$beta>=2 & df0$beta<3,])\n",
    "nrow(df0[df0$beta>=3,])"
   ]
  },
  {
   "cell_type": "code",
   "execution_count": 103,
   "id": "ac2d567e",
   "metadata": {},
   "outputs": [
    {
     "data": {
      "text/html": [
       "61"
      ],
      "text/latex": [
       "61"
      ],
      "text/markdown": [
       "61"
      ],
      "text/plain": [
       "[1] 61"
      ]
     },
     "metadata": {},
     "output_type": "display_data"
    },
    {
     "data": {
      "text/html": [
       "109"
      ],
      "text/latex": [
       "109"
      ],
      "text/markdown": [
       "109"
      ],
      "text/plain": [
       "[1] 109"
      ]
     },
     "metadata": {},
     "output_type": "display_data"
    },
    {
     "data": {
      "text/html": [
       "79"
      ],
      "text/latex": [
       "79"
      ],
      "text/markdown": [
       "79"
      ],
      "text/plain": [
       "[1] 79"
      ]
     },
     "metadata": {},
     "output_type": "display_data"
    },
    {
     "data": {
      "text/html": [
       "13"
      ],
      "text/latex": [
       "13"
      ],
      "text/markdown": [
       "13"
      ],
      "text/plain": [
       "[1] 13"
      ]
     },
     "metadata": {},
     "output_type": "display_data"
    },
    {
     "data": {
      "text/html": [
       "2"
      ],
      "text/latex": [
       "2"
      ],
      "text/markdown": [
       "2"
      ],
      "text/plain": [
       "[1] 2"
      ]
     },
     "metadata": {},
     "output_type": "display_data"
    },
    {
     "data": {
      "text/html": [
       "1"
      ],
      "text/latex": [
       "1"
      ],
      "text/markdown": [
       "1"
      ],
      "text/plain": [
       "[1] 1"
      ]
     },
     "metadata": {},
     "output_type": "display_data"
    }
   ],
   "source": [
    "df0 = df_beta_both5\n",
    "nrow(df0[df0$beta<0.25,])\n",
    "nrow(df0[df0$beta>=0.25 & df0$beta<0.5,])\n",
    "nrow(df0[df0$beta>=0.5 & df0$beta<1,])\n",
    "nrow(df0[df0$beta>=1 & df0$beta<2,])\n",
    "nrow(df0[df0$beta>=2 & df0$beta<3,])\n",
    "nrow(df0[df0$beta>=3,])"
   ]
  },
  {
   "cell_type": "code",
   "execution_count": 102,
   "id": "d6744bbe",
   "metadata": {},
   "outputs": [
    {
     "data": {
      "text/html": [
       "53"
      ],
      "text/latex": [
       "53"
      ],
      "text/markdown": [
       "53"
      ],
      "text/plain": [
       "[1] 53"
      ]
     },
     "metadata": {},
     "output_type": "display_data"
    },
    {
     "data": {
      "text/html": [
       "152"
      ],
      "text/latex": [
       "152"
      ],
      "text/markdown": [
       "152"
      ],
      "text/plain": [
       "[1] 152"
      ]
     },
     "metadata": {},
     "output_type": "display_data"
    },
    {
     "data": {
      "text/html": [
       "94"
      ],
      "text/latex": [
       "94"
      ],
      "text/markdown": [
       "94"
      ],
      "text/plain": [
       "[1] 94"
      ]
     },
     "metadata": {},
     "output_type": "display_data"
    },
    {
     "data": {
      "text/html": [
       "20"
      ],
      "text/latex": [
       "20"
      ],
      "text/markdown": [
       "20"
      ],
      "text/plain": [
       "[1] 20"
      ]
     },
     "metadata": {},
     "output_type": "display_data"
    },
    {
     "data": {
      "text/html": [
       "2"
      ],
      "text/latex": [
       "2"
      ],
      "text/markdown": [
       "2"
      ],
      "text/plain": [
       "[1] 2"
      ]
     },
     "metadata": {},
     "output_type": "display_data"
    },
    {
     "data": {
      "text/html": [
       "1"
      ],
      "text/latex": [
       "1"
      ],
      "text/markdown": [
       "1"
      ],
      "text/plain": [
       "[1] 1"
      ]
     },
     "metadata": {},
     "output_type": "display_data"
    }
   ],
   "source": [
    "df0 = df_beta_both10\n",
    "nrow(df0[df0$beta<0.25,])\n",
    "nrow(df0[df0$beta>=0.25 & df0$beta<0.5,])\n",
    "nrow(df0[df0$beta>=0.5 & df0$beta<1,])\n",
    "nrow(df0[df0$beta>=1 & df0$beta<2,])\n",
    "nrow(df0[df0$beta>=2 & df0$beta<3,])\n",
    "nrow(df0[df0$beta>=3,])"
   ]
  },
  {
   "cell_type": "code",
   "execution_count": 101,
   "id": "664d5735",
   "metadata": {},
   "outputs": [
    {
     "data": {
      "text/html": [
       "89"
      ],
      "text/latex": [
       "89"
      ],
      "text/markdown": [
       "89"
      ],
      "text/plain": [
       "[1] 89"
      ]
     },
     "metadata": {},
     "output_type": "display_data"
    },
    {
     "data": {
      "text/html": [
       "232"
      ],
      "text/latex": [
       "232"
      ],
      "text/markdown": [
       "232"
      ],
      "text/plain": [
       "[1] 232"
      ]
     },
     "metadata": {},
     "output_type": "display_data"
    },
    {
     "data": {
      "text/html": [
       "170"
      ],
      "text/latex": [
       "170"
      ],
      "text/markdown": [
       "170"
      ],
      "text/plain": [
       "[1] 170"
      ]
     },
     "metadata": {},
     "output_type": "display_data"
    },
    {
     "data": {
      "text/html": [
       "30"
      ],
      "text/latex": [
       "30"
      ],
      "text/markdown": [
       "30"
      ],
      "text/plain": [
       "[1] 30"
      ]
     },
     "metadata": {},
     "output_type": "display_data"
    },
    {
     "data": {
      "text/html": [
       "3"
      ],
      "text/latex": [
       "3"
      ],
      "text/markdown": [
       "3"
      ],
      "text/plain": [
       "[1] 3"
      ]
     },
     "metadata": {},
     "output_type": "display_data"
    },
    {
     "data": {
      "text/html": [
       "1"
      ],
      "text/latex": [
       "1"
      ],
      "text/markdown": [
       "1"
      ],
      "text/plain": [
       "[1] 1"
      ]
     },
     "metadata": {},
     "output_type": "display_data"
    }
   ],
   "source": [
    "df0 = df_beta_both20\n",
    "nrow(df0[df0$beta<0.25,])\n",
    "nrow(df0[df0$beta>=0.25 & df0$beta<0.5,])\n",
    "nrow(df0[df0$beta>=0.5 & df0$beta<1,])\n",
    "nrow(df0[df0$beta>=1 & df0$beta<2,])\n",
    "nrow(df0[df0$beta>=2 & df0$beta<3,])\n",
    "nrow(df0[df0$beta>=3,])"
   ]
  },
  {
   "cell_type": "code",
   "execution_count": null,
   "id": "3634b8e8",
   "metadata": {},
   "outputs": [],
   "source": []
  },
  {
   "cell_type": "code",
   "execution_count": 118,
   "id": "b4a1c400",
   "metadata": {},
   "outputs": [
    {
     "data": {
      "image/png": "[encoded data removed]",
      "text/plain": [
       "plot without title"
      ]
     },
     "metadata": {},
     "output_type": "display_data"
    }
   ],
   "source": [
    "options(repr.plot.width = 5, repr.plot.height = 5)\n",
    "opar <- par(lwd = 1.5)\n",
    "barplot(c(nrow(df_beta_both1),nrow(df_beta_both2),nrow(df_beta_both5),\n",
    "          nrow(df_beta_both10),nrow(df_beta_both20)), col = \"black\", \n",
    "#         border = c(col_ips, col_mesendo, col_defendo), \n",
    "        axes = 3, xlab = \"MOFA factors used as environments\", ylab=\"# eGenes\")\n",
    "barplot(c(nrow(df_beta_both1[df_beta_both1$beta<3,]),nrow(df_beta_both2[df_beta_both2$beta<3,]),\n",
    "          nrow(df_beta_both5[df_beta_both5$beta<3,]),nrow(df_beta_both10[df_beta_both10$beta<3,]),\n",
    "          nrow(df_beta_both20[df_beta_both20$beta<3,])), col = \"grey\", \n",
    "#         border = c(col_ips, col_mesendo, col_defendo), \n",
    "        add = T)\n",
    "barplot(c(nrow(df_beta_both1[df_beta_both1$beta<1.5,]),nrow(df_beta_both2[df_beta_both2$beta<1.5,]),\n",
    "          nrow(df_beta_both5[df_beta_both5$beta<1.5,]),nrow(df_beta_both10[df_beta_both10$beta<1.5,]),\n",
    "          nrow(df_beta_both20[df_beta_both20$beta<1.5,])), col = \"darkblue\", \n",
    "#         border = c(col_ips, col_mesendo, col_defendo), \n",
    "        add = T)\n",
    "barplot(c(nrow(df_beta_both1[df_beta_both1$beta<0.8,]),nrow(df_beta_both2[df_beta_both2$beta<0.8,]),\n",
    "          nrow(df_beta_both5[df_beta_both5$beta<0.8,]),nrow(df_beta_both10[df_beta_both10$beta<0.8,]),\n",
    "          nrow(df_beta_both20[df_beta_both20$beta<0.8,])), col = \"blue\", \n",
    "#         border = c(col_ips, col_mesendo, col_defendo), \n",
    "        add = T)\n",
    "barplot(c(nrow(df_beta_both1[df_beta_both1$beta<0.4,]),nrow(df_beta_both2[df_beta_both2$beta<0.4,]),\n",
    "          nrow(df_beta_both5[df_beta_both5$beta<0.4,]),nrow(df_beta_both10[df_beta_both10$beta<0.4,]),\n",
    "          nrow(df_beta_both20[df_beta_both20$beta<0.4,])), col = \"cornflowerblue\", \n",
    "#         border = c(col_ips, col_mesendo, col_defendo), \n",
    "        add = T)\n",
    "\n",
    "# barplot(c(681,592,590), col = \"gray65\", border = c(col_ips, col_mesendo, col_defendo), add = T)"
   ]
  },
  {
   "cell_type": "code",
   "execution_count": 114,
   "id": "632fe293",
   "metadata": {},
   "outputs": [
    {
     "data": {
      "image/png": "[encoded data removed]",
      "text/plain": [
       "plot without title"
      ]
     },
     "metadata": {},
     "output_type": "display_data"
    }
   ],
   "source": [
    "options(repr.plot.width = 5, repr.plot.height = 5)\n",
    "opar <- par(lwd = 1.5)\n",
    "barplot(c(nrow(df_beta_both1),nrow(df_beta_both2),nrow(df_beta_both5),\n",
    "          nrow(df_beta_both10)), col = \"black\", \n",
    "#         border = c(col_ips, col_mesendo, col_defendo), \n",
    "        axes = 3, xlab = \"MOFA factors used as environments\", ylab=\"# eGenes\")\n",
    "barplot(c(nrow(df_beta_both1[df_beta_both1$beta<3,]),nrow(df_beta_both2[df_beta_both2$beta<3,]),\n",
    "          nrow(df_beta_both5[df_beta_both5$beta<3,]),nrow(df_beta_both10[df_beta_both10$beta<3,])), col = \"grey\", \n",
    "#         border = c(col_ips, col_mesendo, col_defendo), \n",
    "        add = T)\n",
    "barplot(c(nrow(df_beta_both1[df_beta_both1$beta<2,]),nrow(df_beta_both2[df_beta_both2$beta<2,]),\n",
    "          nrow(df_beta_both5[df_beta_both5$beta<2,]),nrow(df_beta_both10[df_beta_both10$beta<2,])), col = \"darkblue\", \n",
    "#         border = c(col_ips, col_mesendo, col_defendo), \n",
    "        add = T)\n",
    "barplot(c(nrow(df_beta_both1[df_beta_both1$beta<1,]),nrow(df_beta_both2[df_beta_both2$beta<1,]),\n",
    "          nrow(df_beta_both5[df_beta_both5$beta<1,]),nrow(df_beta_both10[df_beta_both10$beta<1,])), col = \"blue\", \n",
    "#         border = c(col_ips, col_mesendo, col_defendo), \n",
    "        add = T)\n",
    "barplot(c(nrow(df_beta_both1[df_beta_both1$beta<0.8,]),nrow(df_beta_both2[df_beta_both2$beta<0.8,]),\n",
    "          nrow(df_beta_both5[df_beta_both5$beta<0.8,]),nrow(df_beta_both10[df_beta_both10$beta<0.8,])), col = \"cornflowerblue\", \n",
    "#         border = c(col_ips, col_mesendo, col_defendo), \n",
    "        add = T)\n",
    "\n",
    "# barplot(c(681,592,590), col = \"gray65\", border = c(col_ips, col_mesendo, col_defendo), add = T)"
   ]
  },
  {
   "cell_type": "code",
   "execution_count": null,
   "id": "3b186eb1",
   "metadata": {},
   "outputs": [],
   "source": [
    "df_to_plot = data.frame(n_eGenes = c(nrow(df_beta_both1),nrow(df_beta_both2),nrow(df_beta_both5),\n",
    "          nrow(df_beta_both10)), n_MOFA = c(1,2,5,10))\n",
    "ggplot(df_to_plot, aes(x = n_MOFA, y = n_eGenes)) + "
   ]
  },
  {
   "cell_type": "code",
   "execution_count": 119,
   "id": "23ab9cb4",
   "metadata": {},
   "outputs": [
    {
     "data": {
      "image/png": "[encoded data removed]",
      "text/plain": [
       "plot without title"
      ]
     },
     "metadata": {},
     "output_type": "display_data"
    }
   ],
   "source": [
    "barplot(c(nrow(df_beta_both1),nrow(df_beta_both2),nrow(df_beta_both5),\n",
    "          nrow(df_beta_both10)), col = \"cornflowerblue\", \n",
    "#         border = c(col_ips, col_mesendo, col_defendo), \n",
    "        axes = 3, xlab = \"MOFA factors used as environments\", ylab=\"# eGenes\")"
   ]
  },
  {
   "cell_type": "code",
   "execution_count": null,
   "id": "37f4af0d",
   "metadata": {},
   "outputs": [],
   "source": []
  }
 ],
 "metadata": {
  "kernelspec": {
   "display_name": "R",
   "language": "R",
   "name": "ir"
  },
  "language_info": {
   "codemirror_mode": "r",
   "file_extension": ".r",
   "mimetype": "text/x-r-source",
   "name": "R",
   "pygments_lexer": "r",
   "version": "3.6.1"
  }
 },
 "nbformat": 4,
 "nbformat_minor": 5
}
