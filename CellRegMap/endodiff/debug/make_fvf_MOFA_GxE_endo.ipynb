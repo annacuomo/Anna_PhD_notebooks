{
 "cells": [
  {
   "cell_type": "code",
   "execution_count": 8,
   "id": "28a0bf06",
   "metadata": {},
   "outputs": [],
   "source": [
    "library(qvalue)"
   ]
  },
  {
   "cell_type": "code",
   "execution_count": 1,
   "id": "ac0bd766",
   "metadata": {},
   "outputs": [],
   "source": [
    "input_files_dir = \"/hps/nobackup/stegle/users/acuomo/all_scripts/struct_LMM2/sc_endodiff/new/input_files/\""
   ]
  },
  {
   "cell_type": "code",
   "execution_count": 2,
   "id": "db2d53c3",
   "metadata": {},
   "outputs": [
    {
     "data": {
      "text/html": [
       "<table>\n",
       "<thead><tr><th scope=col>snp_id</th><th scope=col>feature</th><th scope=col>stage</th></tr></thead>\n",
       "<tbody>\n",
       "\t<tr><td>5_149826526_C_T       </td><td>ENSG00000164587_RPS14 </td><td>ips                   </td></tr>\n",
       "\t<tr><td>11_57283988_C_T       </td><td>ENSG00000134809_TIMM10</td><td>ips                   </td></tr>\n",
       "\t<tr><td>12_56401085_G_A       </td><td>ENSG00000197728_RPS26 </td><td>ips                   </td></tr>\n",
       "\t<tr><td>17_79634162_T_G       </td><td>ENSG00000214087_ARL16 </td><td>ips                   </td></tr>\n",
       "\t<tr><td>6_31486901_T_C        </td><td>ENSG00000198563_DDX39B</td><td>ips                   </td></tr>\n",
       "\t<tr><td>4_39446549_G_A        </td><td>ENSG00000163682_RPL9  </td><td>ips                   </td></tr>\n",
       "</tbody>\n",
       "</table>\n"
      ],
      "text/latex": [
       "\\begin{tabular}{r|lll}\n",
       " snp\\_id & feature & stage\\\\\n",
       "\\hline\n",
       "\t 5\\_149826526\\_C\\_T    & ENSG00000164587\\_RPS14  & ips                     \\\\\n",
       "\t 11\\_57283988\\_C\\_T    & ENSG00000134809\\_TIMM10 & ips                     \\\\\n",
       "\t 12\\_56401085\\_G\\_A    & ENSG00000197728\\_RPS26  & ips                     \\\\\n",
       "\t 17\\_79634162\\_T\\_G    & ENSG00000214087\\_ARL16  & ips                     \\\\\n",
       "\t 6\\_31486901\\_T\\_C     & ENSG00000198563\\_DDX39B & ips                     \\\\\n",
       "\t 4\\_39446549\\_G\\_A     & ENSG00000163682\\_RPL9   & ips                     \\\\\n",
       "\\end{tabular}\n"
      ],
      "text/markdown": [
       "\n",
       "| snp_id | feature | stage |\n",
       "|---|---|---|\n",
       "| 5_149826526_C_T        | ENSG00000164587_RPS14  | ips                    |\n",
       "| 11_57283988_C_T        | ENSG00000134809_TIMM10 | ips                    |\n",
       "| 12_56401085_G_A        | ENSG00000197728_RPS26  | ips                    |\n",
       "| 17_79634162_T_G        | ENSG00000214087_ARL16  | ips                    |\n",
       "| 6_31486901_T_C         | ENSG00000198563_DDX39B | ips                    |\n",
       "| 4_39446549_G_A         | ENSG00000163682_RPL9   | ips                    |\n",
       "\n"
      ],
      "text/plain": [
       "  snp_id          feature                stage\n",
       "1 5_149826526_C_T ENSG00000164587_RPS14  ips  \n",
       "2 11_57283988_C_T ENSG00000134809_TIMM10 ips  \n",
       "3 12_56401085_G_A ENSG00000197728_RPS26  ips  \n",
       "4 17_79634162_T_G ENSG00000214087_ARL16  ips  \n",
       "5 6_31486901_T_C  ENSG00000198563_DDX39B ips  \n",
       "6 4_39446549_G_A  ENSG00000163682_RPL9   ips  "
      ]
     },
     "metadata": {},
     "output_type": "display_data"
    }
   ],
   "source": [
    "endo_file = paste0(input_files_dir,\"endodiff_eqtl_allconditions_FDR10pct.csv\")\n",
    "endo_df = read.csv(endo_file)\n",
    "head(endo_df)"
   ]
  },
  {
   "cell_type": "code",
   "execution_count": 3,
   "id": "34b067a4",
   "metadata": {},
   "outputs": [],
   "source": [
    "endo_df$eqtl = paste0(endo_df$feature,\"-\",endo_df$snp_id)\n",
    "endo_df = endo_df[-which(duplicated(endo_df$eqtl)),]"
   ]
  },
  {
   "cell_type": "code",
   "execution_count": 4,
   "id": "c3158721",
   "metadata": {},
   "outputs": [],
   "source": [
    "### MOFA results\n",
    "mydir = \"/hps/nobackup/stegle/users/acuomo/all_scripts/struct_LMM2/sc_endodiff/debug_May2021/\""
   ]
  },
  {
   "cell_type": "code",
   "execution_count": 47,
   "id": "a561aed0",
   "metadata": {},
   "outputs": [
    {
     "data": {
      "text/html": [
       "4470"
      ],
      "text/latex": [
       "4470"
      ],
      "text/markdown": [
       "4470"
      ],
      "text/plain": [
       "[1] 4470"
      ]
     },
     "metadata": {},
     "output_type": "display_data"
    },
    {
     "data": {
      "text/html": [
       "<table>\n",
       "<thead><tr><th></th><th scope=col>gene</th><th scope=col>n_snps</th><th scope=col>chrom</th><th scope=col>pv_raw</th><th scope=col>snpID</th><th scope=col>pv</th></tr></thead>\n",
       "<tbody>\n",
       "\t<tr><th scope=row>0</th><td>ENSG00000140905_GCSH </td><td>1                    </td><td>16                   </td><td>0.02606257           </td><td>16_81118466_A_G      </td><td>0.02606257           </td></tr>\n",
       "\t<tr><th scope=row>1</th><td>ENSG00000011523_CEP68</td><td>2                    </td><td> 2                   </td><td>0.03995225           </td><td>2_65279223_C_T       </td><td>0.07990451           </td></tr>\n",
       "</tbody>\n",
       "</table>\n"
      ],
      "text/latex": [
       "\\begin{tabular}{r|llllll}\n",
       "  & gene & n\\_snps & chrom & pv\\_raw & snpID & pv\\\\\n",
       "\\hline\n",
       "\t0 & ENSG00000140905\\_GCSH  & 1                       & 16                      & 0.02606257              & 16\\_81118466\\_A\\_G   & 0.02606257             \\\\\n",
       "\t1 & ENSG00000011523\\_CEP68 & 2                       &  2                      & 0.03995225              & 2\\_65279223\\_C\\_T    & 0.07990451             \\\\\n",
       "\\end{tabular}\n"
      ],
      "text/markdown": [
       "\n",
       "| <!--/--> | gene | n_snps | chrom | pv_raw | snpID | pv |\n",
       "|---|---|---|---|---|---|---|\n",
       "| 0 | ENSG00000140905_GCSH  | 1                     | 16                    | 0.02606257            | 16_81118466_A_G       | 0.02606257            |\n",
       "| 1 | ENSG00000011523_CEP68 | 2                     |  2                    | 0.03995225            | 2_65279223_C_T        | 0.07990451            |\n",
       "\n"
      ],
      "text/plain": [
       "  gene                  n_snps chrom pv_raw     snpID           pv        \n",
       "0 ENSG00000140905_GCSH  1      16    0.02606257 16_81118466_A_G 0.02606257\n",
       "1 ENSG00000011523_CEP68 2       2    0.03995225 2_65279223_C_T  0.07990451"
      ]
     },
     "metadata": {},
     "output_type": "display_data"
    }
   ],
   "source": [
    "file0 = paste0(mydir, \"MOFA1/new4/summary.csv\")\n",
    "file0 = paste0(mydir, \"MOFA2/new4/summary.csv\")\n",
    "file0 = paste0(mydir, \"MOFA5/new4/summary.csv\")\n",
    "file0 = paste0(mydir, \"MOFA10/new4/summary.csv\")\n",
    "# file0 = paste0(mydir, \"MOFA20/new4/summary.csv\")\n",
    "df0 = read.csv(file0, row.names=1)\n",
    "nrow(df0)\n",
    "head(df0,2)"
   ]
  },
  {
   "cell_type": "code",
   "execution_count": 48,
   "id": "153fabda",
   "metadata": {},
   "outputs": [],
   "source": [
    "df0 = df0[order(df0$pv, df0$pv_raw),]\n",
    "df0 = df0[-which(duplicated(df0$gene)),]\n",
    "df0$qv = qvalue(df0$pv, pi0 = 1)$qvalue"
   ]
  },
  {
   "cell_type": "code",
   "execution_count": 49,
   "id": "376ce5cd",
   "metadata": {},
   "outputs": [
    {
     "data": {
      "text/html": [
       "322"
      ],
      "text/latex": [
       "322"
      ],
      "text/markdown": [
       "322"
      ],
      "text/plain": [
       "[1] 322"
      ]
     },
     "metadata": {},
     "output_type": "display_data"
    }
   ],
   "source": [
    "df0$eqtl = paste0(df0$gene,\"-\",df0$snpID)\n",
    "eqtls = df0[df0$qv<0.05,\"eqtl\"]\n",
    "length(eqtls)"
   ]
  },
  {
   "cell_type": "code",
   "execution_count": 40,
   "id": "50bdd9f0",
   "metadata": {},
   "outputs": [
    {
     "data": {
      "text/html": [
       "188"
      ],
      "text/latex": [
       "188"
      ],
      "text/markdown": [
       "188"
      ],
      "text/plain": [
       "[1] 188"
      ]
     },
     "metadata": {},
     "output_type": "display_data"
    },
    {
     "data": {
      "text/html": [
       "<table>\n",
       "<thead><tr><th></th><th scope=col>snp_id</th><th scope=col>feature</th><th scope=col>stage</th><th scope=col>eqtl</th></tr></thead>\n",
       "<tbody>\n",
       "\t<tr><th scope=row>3</th><td>12_56401085_G_A                       </td><td>ENSG00000197728_RPS26                 </td><td>ips                                   </td><td>ENSG00000197728_RPS26-12_56401085_G_A </td></tr>\n",
       "\t<tr><th scope=row>7</th><td>7_72717933_C_T                        </td><td>ENSG00000130305_NSUN5                 </td><td>ips                                   </td><td>ENSG00000130305_NSUN5-7_72717933_C_T  </td></tr>\n",
       "\t<tr><th scope=row>18</th><td>19_57939619_C_T                       </td><td>ENSG00000186230_ZNF749                </td><td>ips                                   </td><td>ENSG00000186230_ZNF749-19_57939619_C_T</td></tr>\n",
       "\t<tr><th scope=row>19</th><td>6_31108485_G_A                        </td><td>ENSG00000204536_CCHCR1                </td><td>ips                                   </td><td>ENSG00000204536_CCHCR1-6_31108485_G_A </td></tr>\n",
       "\t<tr><th scope=row>20</th><td>9_136227260_A_G                       </td><td>ENSG00000148291_SURF2                 </td><td>ips                                   </td><td>ENSG00000148291_SURF2-9_136227260_A_G </td></tr>\n",
       "\t<tr><th scope=row>24</th><td>6_31132414_G_A                        </td><td>ENSG00000204531_POU5F1                </td><td>ips                                   </td><td>ENSG00000204531_POU5F1-6_31132414_G_A </td></tr>\n",
       "</tbody>\n",
       "</table>\n"
      ],
      "text/latex": [
       "\\begin{tabular}{r|llll}\n",
       "  & snp\\_id & feature & stage & eqtl\\\\\n",
       "\\hline\n",
       "\t3 & 12\\_56401085\\_G\\_A                          & ENSG00000197728\\_RPS26                        & ips                                            & ENSG00000197728\\_RPS26-12\\_56401085\\_G\\_A \\\\\n",
       "\t7 & 7\\_72717933\\_C\\_T                           & ENSG00000130305\\_NSUN5                        & ips                                            & ENSG00000130305\\_NSUN5-7\\_72717933\\_C\\_T  \\\\\n",
       "\t18 & 19\\_57939619\\_C\\_T                          & ENSG00000186230\\_ZNF749                       & ips                                            & ENSG00000186230\\_ZNF749-19\\_57939619\\_C\\_T\\\\\n",
       "\t19 & 6\\_31108485\\_G\\_A                           & ENSG00000204536\\_CCHCR1                       & ips                                            & ENSG00000204536\\_CCHCR1-6\\_31108485\\_G\\_A \\\\\n",
       "\t20 & 9\\_136227260\\_A\\_G                          & ENSG00000148291\\_SURF2                        & ips                                            & ENSG00000148291\\_SURF2-9\\_136227260\\_A\\_G \\\\\n",
       "\t24 & 6\\_31132414\\_G\\_A                           & ENSG00000204531\\_POU5F1                       & ips                                            & ENSG00000204531\\_POU5F1-6\\_31132414\\_G\\_A \\\\\n",
       "\\end{tabular}\n"
      ],
      "text/markdown": [
       "\n",
       "| <!--/--> | snp_id | feature | stage | eqtl |\n",
       "|---|---|---|---|---|\n",
       "| 3 | 12_56401085_G_A                        | ENSG00000197728_RPS26                  | ips                                    | ENSG00000197728_RPS26-12_56401085_G_A  |\n",
       "| 7 | 7_72717933_C_T                         | ENSG00000130305_NSUN5                  | ips                                    | ENSG00000130305_NSUN5-7_72717933_C_T   |\n",
       "| 18 | 19_57939619_C_T                        | ENSG00000186230_ZNF749                 | ips                                    | ENSG00000186230_ZNF749-19_57939619_C_T |\n",
       "| 19 | 6_31108485_G_A                         | ENSG00000204536_CCHCR1                 | ips                                    | ENSG00000204536_CCHCR1-6_31108485_G_A  |\n",
       "| 20 | 9_136227260_A_G                        | ENSG00000148291_SURF2                  | ips                                    | ENSG00000148291_SURF2-9_136227260_A_G  |\n",
       "| 24 | 6_31132414_G_A                         | ENSG00000204531_POU5F1                 | ips                                    | ENSG00000204531_POU5F1-6_31132414_G_A  |\n",
       "\n"
      ],
      "text/plain": [
       "   snp_id          feature                stage\n",
       "3  12_56401085_G_A ENSG00000197728_RPS26  ips  \n",
       "7  7_72717933_C_T  ENSG00000130305_NSUN5  ips  \n",
       "18 19_57939619_C_T ENSG00000186230_ZNF749 ips  \n",
       "19 6_31108485_G_A  ENSG00000204536_CCHCR1 ips  \n",
       "20 9_136227260_A_G ENSG00000148291_SURF2  ips  \n",
       "24 6_31132414_G_A  ENSG00000204531_POU5F1 ips  \n",
       "   eqtl                                  \n",
       "3  ENSG00000197728_RPS26-12_56401085_G_A \n",
       "7  ENSG00000130305_NSUN5-7_72717933_C_T  \n",
       "18 ENSG00000186230_ZNF749-19_57939619_C_T\n",
       "19 ENSG00000204536_CCHCR1-6_31108485_G_A \n",
       "20 ENSG00000148291_SURF2-9_136227260_A_G \n",
       "24 ENSG00000204531_POU5F1-6_31132414_G_A "
      ]
     },
     "metadata": {},
     "output_type": "display_data"
    }
   ],
   "source": [
    "endo_GxE_file = paste0(input_files_dir,\"endodiff_eqtl_allconditions_FDR10pct_scStructLMM_FDR5pct_MOFA1.csv\")\n",
    "endo_GxE_file = paste0(input_files_dir,\"endodiff_eqtl_allconditions_FDR10pct_scStructLMM_FDR5pct_MOFA2.csv\")\n",
    "# endo_GxE_file = paste0(input_files_dir,\"endodiff_eqtl_allconditions_FDR10pct_scStructLMM_FDR5pct_MOFA5.csv\")\n",
    "# endo_GxE_file = paste0(input_files_dir,\"endodiff_eqtl_allconditions_FDR10pct_scStructLMM_FDR5pct_MOFA10.csv\")\n",
    "# endo_GxE_file = paste0(input_files_dir,\"endodiff_eqtl_allconditions_FDR10pct_scStructLMM_FDR5pct_MOFA20.csv\")\n",
    "endo_GxE_df = endo_df[endo_df$eqtl %in% eqtls,]\n",
    "nrow(endo_GxE_df)\n",
    "head(endo_GxE_df)"
   ]
  },
  {
   "cell_type": "code",
   "execution_count": 29,
   "id": "ad225955",
   "metadata": {},
   "outputs": [],
   "source": [
    "write.csv(endo_GxE_df, endo_GxE_file, quote = F, row.names=F)"
   ]
  },
  {
   "cell_type": "code",
   "execution_count": null,
   "id": "2b9201ba",
   "metadata": {},
   "outputs": [],
   "source": []
  }
 ],
 "metadata": {
  "kernelspec": {
   "display_name": "R",
   "language": "R",
   "name": "ir"
  },
  "language_info": {
   "codemirror_mode": "r",
   "file_extension": ".r",
   "mimetype": "text/x-r-source",
   "name": "R",
   "pygments_lexer": "r",
   "version": "3.6.1"
  }
 },
 "nbformat": 4,
 "nbformat_minor": 5
}
