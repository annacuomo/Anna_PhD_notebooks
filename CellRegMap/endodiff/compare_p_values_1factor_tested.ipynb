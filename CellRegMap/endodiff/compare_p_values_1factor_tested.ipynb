{
 "cells": [
  {
   "cell_type": "code",
   "execution_count": 1170,
   "id": "28c920fb",
   "metadata": {},
   "outputs": [],
   "source": [
    "library(dplyr)\n",
    "library(ggplot2)"
   ]
  },
  {
   "cell_type": "code",
   "execution_count": 1171,
   "id": "85714235",
   "metadata": {},
   "outputs": [],
   "source": [
    "###### actual old results, to replicate"
   ]
  },
  {
   "cell_type": "code",
   "execution_count": 1172,
   "id": "e017e829",
   "metadata": {},
   "outputs": [
    {
     "data": {
      "text/html": [
       "4410"
      ],
      "text/latex": [
       "4410"
      ],
      "text/markdown": [
       "4410"
      ],
      "text/plain": [
       "[1] 4410"
      ]
     },
     "metadata": {},
     "output_type": "display_data"
    },
    {
     "data": {
      "text/html": [
       "<table>\n",
       "<thead><tr><th></th><th scope=col>gene</th><th scope=col>n_snps</th><th scope=col>chrom</th><th scope=col>pv_raw</th><th scope=col>snpID</th><th scope=col>pv</th></tr></thead>\n",
       "<tbody>\n",
       "\t<tr><th scope=row>0</th><td>ENSG00000140905_GCSH </td><td>1                    </td><td>16                   </td><td>0.21847265           </td><td>16_81118466_A_G      </td><td>0.21847265           </td></tr>\n",
       "\t<tr><th scope=row>1</th><td>ENSG00000011523_CEP68</td><td>2                    </td><td> 2                   </td><td>0.00126596           </td><td>2_65279223_C_T       </td><td>0.00253192           </td></tr>\n",
       "</tbody>\n",
       "</table>\n"
      ],
      "text/latex": [
       "\\begin{tabular}{r|llllll}\n",
       "  & gene & n\\_snps & chrom & pv\\_raw & snpID & pv\\\\\n",
       "\\hline\n",
       "\t0 & ENSG00000140905\\_GCSH  & 1                       & 16                      & 0.21847265              & 16\\_81118466\\_A\\_G   & 0.21847265             \\\\\n",
       "\t1 & ENSG00000011523\\_CEP68 & 2                       &  2                      & 0.00126596              & 2\\_65279223\\_C\\_T    & 0.00253192             \\\\\n",
       "\\end{tabular}\n"
      ],
      "text/markdown": [
       "\n",
       "| <!--/--> | gene | n_snps | chrom | pv_raw | snpID | pv |\n",
       "|---|---|---|---|---|---|---|\n",
       "| 0 | ENSG00000140905_GCSH  | 1                     | 16                    | 0.21847265            | 16_81118466_A_G       | 0.21847265            |\n",
       "| 1 | ENSG00000011523_CEP68 | 2                     |  2                    | 0.00126596            | 2_65279223_C_T        | 0.00253192            |\n",
       "\n"
      ],
      "text/plain": [
       "  gene                  n_snps chrom pv_raw     snpID           pv        \n",
       "0 ENSG00000140905_GCSH  1      16    0.21847265 16_81118466_A_G 0.21847265\n",
       "1 ENSG00000011523_CEP68 2       2    0.00126596 2_65279223_C_T  0.00253192"
      ]
     },
     "metadata": {},
     "output_type": "display_data"
    }
   ],
   "source": [
    "file_old = paste0(mydir, \"../new/MOFA/MOFA1/summary_endo_eqtl.csv\")\n",
    "df_old = read.csv(file_old, row.names=1)\n",
    "nrow(df_old)\n",
    "head(df_old,2)"
   ]
  },
  {
   "cell_type": "code",
   "execution_count": 1173,
   "id": "7980eb41",
   "metadata": {},
   "outputs": [],
   "source": [
    "#### new \"weird\" results to check/confirm"
   ]
  },
  {
   "cell_type": "code",
   "execution_count": 1174,
   "id": "a1b88e62",
   "metadata": {},
   "outputs": [
    {
     "data": {
      "text/html": [
       "2619"
      ],
      "text/latex": [
       "2619"
      ],
      "text/markdown": [
       "2619"
      ],
      "text/plain": [
       "[1] 2619"
      ]
     },
     "metadata": {},
     "output_type": "display_data"
    },
    {
     "data": {
      "text/html": [
       "<table>\n",
       "<thead><tr><th></th><th scope=col>gene</th><th scope=col>n_snps</th><th scope=col>chrom</th><th scope=col>pv_raw</th><th scope=col>snpID</th><th scope=col>pv</th></tr></thead>\n",
       "<tbody>\n",
       "\t<tr><th scope=row>0</th><td>ENSG00000011523_CEP68</td><td>2                    </td><td>2                    </td><td>0.0006375662         </td><td>2_65279223_C_T       </td><td>0.001275132          </td></tr>\n",
       "\t<tr><th scope=row>1</th><td>ENSG00000011523_CEP68</td><td>2                    </td><td>2                    </td><td>0.0013394110         </td><td>2_65290842_C_A       </td><td>0.002678822          </td></tr>\n",
       "</tbody>\n",
       "</table>\n"
      ],
      "text/latex": [
       "\\begin{tabular}{r|llllll}\n",
       "  & gene & n\\_snps & chrom & pv\\_raw & snpID & pv\\\\\n",
       "\\hline\n",
       "\t0 & ENSG00000011523\\_CEP68 & 2                       & 2                       & 0.0006375662            & 2\\_65279223\\_C\\_T    & 0.001275132            \\\\\n",
       "\t1 & ENSG00000011523\\_CEP68 & 2                       & 2                       & 0.0013394110            & 2\\_65290842\\_C\\_A    & 0.002678822            \\\\\n",
       "\\end{tabular}\n"
      ],
      "text/markdown": [
       "\n",
       "| <!--/--> | gene | n_snps | chrom | pv_raw | snpID | pv |\n",
       "|---|---|---|---|---|---|---|\n",
       "| 0 | ENSG00000011523_CEP68 | 2                     | 2                     | 0.0006375662          | 2_65279223_C_T        | 0.001275132           |\n",
       "| 1 | ENSG00000011523_CEP68 | 2                     | 2                     | 0.0013394110          | 2_65290842_C_A        | 0.002678822           |\n",
       "\n"
      ],
      "text/plain": [
       "  gene                  n_snps chrom pv_raw       snpID          pv         \n",
       "0 ENSG00000011523_CEP68 2      2     0.0006375662 2_65279223_C_T 0.001275132\n",
       "1 ENSG00000011523_CEP68 2      2     0.0013394110 2_65290842_C_A 0.002678822"
      ]
     },
     "metadata": {},
     "output_type": "display_data"
    }
   ],
   "source": [
    "file_new = paste0(mydir, \"../April2021/PCA/PC1/summary.csv\")\n",
    "df_new = read.csv(file_new, row.names=1)\n",
    "nrow(df_new)\n",
    "head(df_new,2)"
   ]
  },
  {
   "cell_type": "code",
   "execution_count": 1175,
   "id": "d8cac02e",
   "metadata": {},
   "outputs": [
    {
     "data": {
      "text/html": [
       "3180"
      ],
      "text/latex": [
       "3180"
      ],
      "text/markdown": [
       "3180"
      ],
      "text/plain": [
       "[1] 3180"
      ]
     },
     "metadata": {},
     "output_type": "display_data"
    },
    {
     "data": {
      "text/html": [
       "1758"
      ],
      "text/latex": [
       "1758"
      ],
      "text/markdown": [
       "1758"
      ],
      "text/plain": [
       "[1] 1758"
      ]
     },
     "metadata": {},
     "output_type": "display_data"
    }
   ],
   "source": [
    "genes_old = unique(df_old$gene)\n",
    "genes_new = unique(df_new$gene)\n",
    "length(genes_old)\n",
    "length(genes_new)"
   ]
  },
  {
   "cell_type": "code",
   "execution_count": 1176,
   "id": "5e6572dc",
   "metadata": {},
   "outputs": [],
   "source": [
    "####### debugging on 100 chromosome 1 genes"
   ]
  },
  {
   "cell_type": "code",
   "execution_count": 1177,
   "id": "19e6f41c",
   "metadata": {},
   "outputs": [],
   "source": [
    "mydir = \"/hps/nobackup/stegle/users/acuomo/all_scripts/struct_LMM2/sc_endodiff/debug_May2021/\""
   ]
  },
  {
   "cell_type": "code",
   "execution_count": 1178,
   "id": "5a228177",
   "metadata": {},
   "outputs": [
    {
     "data": {
      "text/html": [
       "<ol class=list-inline>\n",
       "\t<li>'err'</li>\n",
       "\t<li>'mofa_logcounts_model_factors.csv'</li>\n",
       "\t<li>'mofa_logcounts_model.hdf5'</li>\n",
       "\t<li>'mofa_weights.csv'</li>\n",
       "\t<li>'MOFA1'</li>\n",
       "\t<li>'MOFA10'</li>\n",
       "\t<li>'new0_PCA_same_background.py'</li>\n",
       "\t<li>'new1_PCA_diff_background.py'</li>\n",
       "\t<li>'new2_MOFA_diff_background_10.py'</li>\n",
       "\t<li>'new2_MOFA_diff_background.py'</li>\n",
       "\t<li>'new3_MOFA_same_background.py'</li>\n",
       "\t<li>'new4_MOFA_diff_background_10.py'</li>\n",
       "\t<li>'new4_MOFA_diff_background.py'</li>\n",
       "\t<li>'old_MOFA_diff_background.py'</li>\n",
       "\t<li>'out'</li>\n",
       "\t<li>'PC1'</li>\n",
       "\t<li>'PC10'</li>\n",
       "\t<li>'run.py'</li>\n",
       "\t<li>'summarise.py'</li>\n",
       "</ol>\n"
      ],
      "text/latex": [
       "\\begin{enumerate*}\n",
       "\\item 'err'\n",
       "\\item 'mofa\\_logcounts\\_model\\_factors.csv'\n",
       "\\item 'mofa\\_logcounts\\_model.hdf5'\n",
       "\\item 'mofa\\_weights.csv'\n",
       "\\item 'MOFA1'\n",
       "\\item 'MOFA10'\n",
       "\\item 'new0\\_PCA\\_same\\_background.py'\n",
       "\\item 'new1\\_PCA\\_diff\\_background.py'\n",
       "\\item 'new2\\_MOFA\\_diff\\_background\\_10.py'\n",
       "\\item 'new2\\_MOFA\\_diff\\_background.py'\n",
       "\\item 'new3\\_MOFA\\_same\\_background.py'\n",
       "\\item 'new4\\_MOFA\\_diff\\_background\\_10.py'\n",
       "\\item 'new4\\_MOFA\\_diff\\_background.py'\n",
       "\\item 'old\\_MOFA\\_diff\\_background.py'\n",
       "\\item 'out'\n",
       "\\item 'PC1'\n",
       "\\item 'PC10'\n",
       "\\item 'run.py'\n",
       "\\item 'summarise.py'\n",
       "\\end{enumerate*}\n"
      ],
      "text/markdown": [
       "1. 'err'\n",
       "2. 'mofa_logcounts_model_factors.csv'\n",
       "3. 'mofa_logcounts_model.hdf5'\n",
       "4. 'mofa_weights.csv'\n",
       "5. 'MOFA1'\n",
       "6. 'MOFA10'\n",
       "7. 'new0_PCA_same_background.py'\n",
       "8. 'new1_PCA_diff_background.py'\n",
       "9. 'new2_MOFA_diff_background_10.py'\n",
       "10. 'new2_MOFA_diff_background.py'\n",
       "11. 'new3_MOFA_same_background.py'\n",
       "12. 'new4_MOFA_diff_background_10.py'\n",
       "13. 'new4_MOFA_diff_background.py'\n",
       "14. 'old_MOFA_diff_background.py'\n",
       "15. 'out'\n",
       "16. 'PC1'\n",
       "17. 'PC10'\n",
       "18. 'run.py'\n",
       "19. 'summarise.py'\n",
       "\n",
       "\n"
      ],
      "text/plain": [
       " [1] \"err\"                              \"mofa_logcounts_model_factors.csv\"\n",
       " [3] \"mofa_logcounts_model.hdf5\"        \"mofa_weights.csv\"                \n",
       " [5] \"MOFA1\"                            \"MOFA10\"                          \n",
       " [7] \"new0_PCA_same_background.py\"      \"new1_PCA_diff_background.py\"     \n",
       " [9] \"new2_MOFA_diff_background_10.py\"  \"new2_MOFA_diff_background.py\"    \n",
       "[11] \"new3_MOFA_same_background.py\"     \"new4_MOFA_diff_background_10.py\" \n",
       "[13] \"new4_MOFA_diff_background.py\"     \"old_MOFA_diff_background.py\"     \n",
       "[15] \"out\"                              \"PC1\"                             \n",
       "[17] \"PC10\"                             \"run.py\"                          \n",
       "[19] \"summarise.py\"                    "
      ]
     },
     "metadata": {},
     "output_type": "display_data"
    }
   ],
   "source": [
    "list.files(mydir)"
   ]
  },
  {
   "cell_type": "code",
   "execution_count": 1179,
   "id": "a01ea0aa",
   "metadata": {},
   "outputs": [],
   "source": [
    "############################################################\n",
    "############################################################"
   ]
  },
  {
   "cell_type": "code",
   "execution_count": 1409,
   "id": "10361c79",
   "metadata": {},
   "outputs": [
    {
     "data": {
      "text/html": [
       "161"
      ],
      "text/latex": [
       "161"
      ],
      "text/markdown": [
       "161"
      ],
      "text/plain": [
       "[1] 161"
      ]
     },
     "metadata": {},
     "output_type": "display_data"
    },
    {
     "data": {
      "text/html": [
       "<table>\n",
       "<thead><tr><th></th><th scope=col>gene</th><th scope=col>n_snps</th><th scope=col>chrom</th><th scope=col>pv_raw</th><th scope=col>snpID</th><th scope=col>pv</th></tr></thead>\n",
       "<tbody>\n",
       "\t<tr><th scope=row>0</th><td>ENSG00000158161_EYA3</td><td>3                   </td><td>1                   </td><td>0.02058846          </td><td>1_28298088_G_C      </td><td>0.06176539          </td></tr>\n",
       "\t<tr><th scope=row>1</th><td>ENSG00000158161_EYA3</td><td>3                   </td><td>1                   </td><td>0.01891240          </td><td>1_28339288_G_A      </td><td>0.05673720          </td></tr>\n",
       "</tbody>\n",
       "</table>\n"
      ],
      "text/latex": [
       "\\begin{tabular}{r|llllll}\n",
       "  & gene & n\\_snps & chrom & pv\\_raw & snpID & pv\\\\\n",
       "\\hline\n",
       "\t0 & ENSG00000158161\\_EYA3 & 3                      & 1                      & 0.02058846             & 1\\_28298088\\_G\\_C   & 0.06176539            \\\\\n",
       "\t1 & ENSG00000158161\\_EYA3 & 3                      & 1                      & 0.01891240             & 1\\_28339288\\_G\\_A   & 0.05673720            \\\\\n",
       "\\end{tabular}\n"
      ],
      "text/markdown": [
       "\n",
       "| <!--/--> | gene | n_snps | chrom | pv_raw | snpID | pv |\n",
       "|---|---|---|---|---|---|---|\n",
       "| 0 | ENSG00000158161_EYA3 | 3                    | 1                    | 0.02058846           | 1_28298088_G_C       | 0.06176539           |\n",
       "| 1 | ENSG00000158161_EYA3 | 3                    | 1                    | 0.01891240           | 1_28339288_G_A       | 0.05673720           |\n",
       "\n"
      ],
      "text/plain": [
       "  gene                 n_snps chrom pv_raw     snpID          pv        \n",
       "0 ENSG00000158161_EYA3 3      1     0.02058846 1_28298088_G_C 0.06176539\n",
       "1 ENSG00000158161_EYA3 3      1     0.01891240 1_28339288_G_A 0.05673720"
      ]
     },
     "metadata": {},
     "output_type": "display_data"
    }
   ],
   "source": [
    "########## new0\n",
    "file0 = paste0(mydir, \"PC1/new0/summary.csv\")\n",
    "df0 = read.csv(file0, row.names=1)\n",
    "nrow(df0)\n",
    "head(df0,2)"
   ]
  },
  {
   "cell_type": "code",
   "execution_count": null,
   "id": "bbec391e",
   "metadata": {},
   "outputs": [],
   "source": []
  },
  {
   "cell_type": "code",
   "execution_count": 1410,
   "id": "7d3b750e",
   "metadata": {},
   "outputs": [
    {
     "name": "stderr",
     "output_type": "stream",
     "text": [
      "Warning message:\n",
      "“Column `gene` joining factors with different levels, coercing to character vector”Warning message:\n",
      "“Column `snpID` joining factors with different levels, coercing to character vector”"
     ]
    },
    {
     "data": {
      "text/html": [
       "112"
      ],
      "text/latex": [
       "112"
      ],
      "text/markdown": [
       "112"
      ],
      "text/plain": [
       "[1] 112"
      ]
     },
     "metadata": {},
     "output_type": "display_data"
    }
   ],
   "source": [
    "#### compare to new new\n",
    "df1 = inner_join(df0, df_new, by = c(\"gene\",\"chrom\",\"n_snps\",\"snpID\"), suffix = c(\".new0\",\".new\"))\n",
    "nrow(df1)"
   ]
  },
  {
   "cell_type": "code",
   "execution_count": 1411,
   "id": "07adc3af",
   "metadata": {},
   "outputs": [
    {
     "data": {
      "text/plain": [
       "\n",
       "\tPearson's product-moment correlation\n",
       "\n",
       "data:  -log10(df1$pv.new0) and -log10(df1$pv.new)\n",
       "t = 497692656, df = 110, p-value < 2.2e-16\n",
       "alternative hypothesis: true correlation is not equal to 0\n",
       "95 percent confidence interval:\n",
       " 1 1\n",
       "sample estimates:\n",
       "cor \n",
       "  1 \n"
      ]
     },
     "metadata": {},
     "output_type": "display_data"
    }
   ],
   "source": [
    "cor.test(-log10(df1$pv.new0), -log10(df1$pv.new))"
   ]
  },
  {
   "cell_type": "code",
   "execution_count": 1412,
   "id": "ccb0369c",
   "metadata": {},
   "outputs": [
    {
     "data": {
      "image/png": "[encoded data removed]",
      "text/plain": [
       "plot without title"
      ]
     },
     "metadata": {},
     "output_type": "display_data"
    }
   ],
   "source": [
    "options(repr.plot.width = 4, repr.plot.height = 4) \n",
    "ggplot(df1, aes(x = -log10(pv.new0), y = -log10(pv.new))) + geom_point() + theme_bw() + geom_abline(alpha=0.2)"
   ]
  },
  {
   "cell_type": "code",
   "execution_count": 1413,
   "id": "d5c75cdb",
   "metadata": {},
   "outputs": [
    {
     "name": "stderr",
     "output_type": "stream",
     "text": [
      "Warning message:\n",
      "“Column `gene` joining factors with different levels, coercing to character vector”Warning message:\n",
      "“Column `snpID` joining factors with different levels, coercing to character vector”"
     ]
    },
    {
     "data": {
      "text/html": [
       "161"
      ],
      "text/latex": [
       "161"
      ],
      "text/markdown": [
       "161"
      ],
      "text/plain": [
       "[1] 161"
      ]
     },
     "metadata": {},
     "output_type": "display_data"
    }
   ],
   "source": [
    "#### compare to old old\n",
    "df2 = inner_join(df0, df_old, by = c(\"gene\",\"chrom\",\"n_snps\",\"snpID\"), suffix = c(\".new0\",\".old\"))\n",
    "nrow(df2)"
   ]
  },
  {
   "cell_type": "code",
   "execution_count": 1414,
   "id": "3a07ce7a",
   "metadata": {},
   "outputs": [
    {
     "data": {
      "text/plain": [
       "\n",
       "\tPearson's product-moment correlation\n",
       "\n",
       "data:  -log10(df2$pv.new0) and -log10(df2$pv.old)\n",
       "t = 8.2199, df = 159, p-value = 6.761e-14\n",
       "alternative hypothesis: true correlation is not equal to 0\n",
       "95 percent confidence interval:\n",
       " 0.4275349 0.6461898\n",
       "sample estimates:\n",
       "     cor \n",
       "0.546097 \n"
      ]
     },
     "metadata": {},
     "output_type": "display_data"
    }
   ],
   "source": [
    "cor.test(-log10(df2$pv.new0), -log10(df2$pv.old))"
   ]
  },
  {
   "cell_type": "code",
   "execution_count": 1415,
   "id": "828a7600",
   "metadata": {},
   "outputs": [
    {
     "data": {
      "image/png": "[encoded data removed]",
      "text/plain": [
       "plot without title"
      ]
     },
     "metadata": {},
     "output_type": "display_data"
    }
   ],
   "source": [
    "m = -log10(min(min(df2$pv.new0),min(df2$pv.old)))\n",
    "ggplot(df2, aes(x = -log10(pv.new0), y = -log10(pv.old))) + geom_point() + theme_bw() + \n",
    "    geom_abline(alpha=0.2) + xlim(c(0,m)) + ylim(c(0,m))"
   ]
  },
  {
   "cell_type": "code",
   "execution_count": 1269,
   "id": "764a0f1f",
   "metadata": {},
   "outputs": [],
   "source": [
    "############################################################\n",
    "############################################################"
   ]
  },
  {
   "cell_type": "code",
   "execution_count": 1270,
   "id": "09522f58",
   "metadata": {},
   "outputs": [
    {
     "data": {
      "text/html": [
       "161"
      ],
      "text/latex": [
       "161"
      ],
      "text/markdown": [
       "161"
      ],
      "text/plain": [
       "[1] 161"
      ]
     },
     "metadata": {},
     "output_type": "display_data"
    },
    {
     "data": {
      "text/html": [
       "<table>\n",
       "<thead><tr><th></th><th scope=col>gene</th><th scope=col>n_snps</th><th scope=col>chrom</th><th scope=col>pv_raw</th><th scope=col>snpID</th><th scope=col>pv</th></tr></thead>\n",
       "<tbody>\n",
       "\t<tr><th scope=row>0</th><td>ENSG00000158161_EYA3</td><td>3                   </td><td>1                   </td><td>0.9221985           </td><td>1_28298088_G_C      </td><td>1                   </td></tr>\n",
       "\t<tr><th scope=row>1</th><td>ENSG00000158161_EYA3</td><td>3                   </td><td>1                   </td><td>0.9682928           </td><td>1_28339288_G_A      </td><td>1                   </td></tr>\n",
       "</tbody>\n",
       "</table>\n"
      ],
      "text/latex": [
       "\\begin{tabular}{r|llllll}\n",
       "  & gene & n\\_snps & chrom & pv\\_raw & snpID & pv\\\\\n",
       "\\hline\n",
       "\t0 & ENSG00000158161\\_EYA3 & 3                      & 1                      & 0.9221985              & 1\\_28298088\\_G\\_C   & 1                     \\\\\n",
       "\t1 & ENSG00000158161\\_EYA3 & 3                      & 1                      & 0.9682928              & 1\\_28339288\\_G\\_A   & 1                     \\\\\n",
       "\\end{tabular}\n"
      ],
      "text/markdown": [
       "\n",
       "| <!--/--> | gene | n_snps | chrom | pv_raw | snpID | pv |\n",
       "|---|---|---|---|---|---|---|\n",
       "| 0 | ENSG00000158161_EYA3 | 3                    | 1                    | 0.9221985            | 1_28298088_G_C       | 1                    |\n",
       "| 1 | ENSG00000158161_EYA3 | 3                    | 1                    | 0.9682928            | 1_28339288_G_A       | 1                    |\n",
       "\n"
      ],
      "text/plain": [
       "  gene                 n_snps chrom pv_raw    snpID          pv\n",
       "0 ENSG00000158161_EYA3 3      1     0.9221985 1_28298088_G_C 1 \n",
       "1 ENSG00000158161_EYA3 3      1     0.9682928 1_28339288_G_A 1 "
      ]
     },
     "metadata": {},
     "output_type": "display_data"
    }
   ],
   "source": [
    "########## old0\n",
    "file0 = paste0(mydir, \"MOFA1/old/summary.csv\")\n",
    "df0 = read.csv(file0, row.names=1)\n",
    "nrow(df0)\n",
    "head(df0,2)"
   ]
  },
  {
   "cell_type": "code",
   "execution_count": 1232,
   "id": "0b85893b",
   "metadata": {},
   "outputs": [],
   "source": [
    "# genes_chr1_100 = unique(df0$gene)"
   ]
  },
  {
   "cell_type": "code",
   "execution_count": 1233,
   "id": "7fd35481",
   "metadata": {},
   "outputs": [
    {
     "name": "stderr",
     "output_type": "stream",
     "text": [
      "Warning message:\n",
      "“Column `gene` joining factors with different levels, coercing to character vector”Warning message:\n",
      "“Column `snpID` joining factors with different levels, coercing to character vector”"
     ]
    },
    {
     "data": {
      "text/html": [
       "112"
      ],
      "text/latex": [
       "112"
      ],
      "text/markdown": [
       "112"
      ],
      "text/plain": [
       "[1] 112"
      ]
     },
     "metadata": {},
     "output_type": "display_data"
    }
   ],
   "source": [
    "#### compare to new new\n",
    "df1 = inner_join(df0, df_new, by = c(\"gene\",\"chrom\",\"n_snps\",\"snpID\"), suffix = c(\".old0\",\".new\"))\n",
    "nrow(df1)"
   ]
  },
  {
   "cell_type": "code",
   "execution_count": 1234,
   "id": "c15d841f",
   "metadata": {},
   "outputs": [
    {
     "data": {
      "text/html": [
       "67"
      ],
      "text/latex": [
       "67"
      ],
      "text/markdown": [
       "67"
      ],
      "text/plain": [
       "[1] 67"
      ]
     },
     "metadata": {},
     "output_type": "display_data"
    }
   ],
   "source": [
    "length(unique(df1$gene))"
   ]
  },
  {
   "cell_type": "code",
   "execution_count": 1190,
   "id": "b558c3f0",
   "metadata": {},
   "outputs": [
    {
     "data": {
      "text/plain": [
       "\n",
       "\tPearson's product-moment correlation\n",
       "\n",
       "data:  -log10(df1$pv.old0) and -log10(df1$pv.new)\n",
       "t = 3.4393, df = 110, p-value = 0.0008248\n",
       "alternative hypothesis: true correlation is not equal to 0\n",
       "95 percent confidence interval:\n",
       " 0.1337786 0.4699813\n",
       "sample estimates:\n",
       "      cor \n",
       "0.3115994 \n"
      ]
     },
     "metadata": {},
     "output_type": "display_data"
    }
   ],
   "source": [
    "cor.test(-log10(df1$pv.old0), -log10(df1$pv.new))"
   ]
  },
  {
   "cell_type": "code",
   "execution_count": 1191,
   "id": "f54c5841",
   "metadata": {},
   "outputs": [
    {
     "data": {
      "image/png": "[encoded data removed]",
      "text/plain": [
       "plot without title"
      ]
     },
     "metadata": {},
     "output_type": "display_data"
    }
   ],
   "source": [
    "m = -log10(min(min(df1$pv.old0),min(df1$pv.new)))\n",
    "ggplot(df1, aes(x = -log10(pv.old0), y = -log10(pv.new))) + geom_point() + theme_bw() + \n",
    "    geom_abline(alpha=0.2) + xlim(c(0,m)) + ylim(c(0,m))"
   ]
  },
  {
   "cell_type": "code",
   "execution_count": 1235,
   "id": "931256ce",
   "metadata": {},
   "outputs": [
    {
     "name": "stderr",
     "output_type": "stream",
     "text": [
      "Warning message:\n",
      "“Column `gene` joining factors with different levels, coercing to character vector”Warning message:\n",
      "“Column `snpID` joining factors with different levels, coercing to character vector”"
     ]
    },
    {
     "data": {
      "text/html": [
       "161"
      ],
      "text/latex": [
       "161"
      ],
      "text/markdown": [
       "161"
      ],
      "text/plain": [
       "[1] 161"
      ]
     },
     "metadata": {},
     "output_type": "display_data"
    }
   ],
   "source": [
    "#### compare to old old\n",
    "df2 = inner_join(df0, df_old, by = c(\"gene\",\"chrom\",\"n_snps\",\"snpID\"), suffix = c(\".old0\",\".old\"))\n",
    "nrow(df2)"
   ]
  },
  {
   "cell_type": "code",
   "execution_count": 1236,
   "id": "fc7aacbf",
   "metadata": {},
   "outputs": [
    {
     "data": {
      "text/plain": [
       "\n",
       "\tPearson's product-moment correlation\n",
       "\n",
       "data:  -log10(df2$pv.old0) and -log10(df2$pv.old)\n",
       "t = 694.77, df = 159, p-value < 2.2e-16\n",
       "alternative hypothesis: true correlation is not equal to 0\n",
       "95 percent confidence interval:\n",
       " 0.9997751 0.9998795\n",
       "sample estimates:\n",
       "      cor \n",
       "0.9998353 \n"
      ]
     },
     "metadata": {},
     "output_type": "display_data"
    }
   ],
   "source": [
    "cor.test(-log10(df2$pv.old0), -log10(df2$pv.old))"
   ]
  },
  {
   "cell_type": "code",
   "execution_count": 1237,
   "id": "7dafc537",
   "metadata": {},
   "outputs": [
    {
     "data": {
      "image/png": "[encoded data removed]",
      "text/plain": [
       "plot without title"
      ]
     },
     "metadata": {},
     "output_type": "display_data"
    }
   ],
   "source": [
    "m = -log10(min(min(df2$pv.old0),min(df2$pv.old)))\n",
    "ggplot(df2, aes(x = -log10(pv.old0), y = -log10(pv.old))) + geom_point() + theme_bw() + \n",
    "    geom_abline(alpha=0.2) + xlim(c(0,m)) + ylim(c(0,m))"
   ]
  },
  {
   "cell_type": "code",
   "execution_count": 1195,
   "id": "4bd48dba",
   "metadata": {},
   "outputs": [],
   "source": [
    "############################################################\n",
    "############################################################"
   ]
  },
  {
   "cell_type": "code",
   "execution_count": 1196,
   "id": "a5f33f26",
   "metadata": {},
   "outputs": [
    {
     "data": {
      "text/html": [
       "161"
      ],
      "text/latex": [
       "161"
      ],
      "text/markdown": [
       "161"
      ],
      "text/plain": [
       "[1] 161"
      ]
     },
     "metadata": {},
     "output_type": "display_data"
    },
    {
     "data": {
      "text/html": [
       "<table>\n",
       "<thead><tr><th></th><th scope=col>gene</th><th scope=col>n_snps</th><th scope=col>chrom</th><th scope=col>pv_raw</th><th scope=col>snpID</th><th scope=col>pv</th></tr></thead>\n",
       "<tbody>\n",
       "\t<tr><th scope=row>0</th><td>ENSG00000158161_EYA3</td><td>3                   </td><td>1                   </td><td>0.07148138          </td><td>1_28298088_G_C      </td><td>0.2144441           </td></tr>\n",
       "\t<tr><th scope=row>1</th><td>ENSG00000158161_EYA3</td><td>3                   </td><td>1                   </td><td>0.06587968          </td><td>1_28339288_G_A      </td><td>0.1976390           </td></tr>\n",
       "</tbody>\n",
       "</table>\n"
      ],
      "text/latex": [
       "\\begin{tabular}{r|llllll}\n",
       "  & gene & n\\_snps & chrom & pv\\_raw & snpID & pv\\\\\n",
       "\\hline\n",
       "\t0 & ENSG00000158161\\_EYA3 & 3                      & 1                      & 0.07148138             & 1\\_28298088\\_G\\_C   & 0.2144441             \\\\\n",
       "\t1 & ENSG00000158161\\_EYA3 & 3                      & 1                      & 0.06587968             & 1\\_28339288\\_G\\_A   & 0.1976390             \\\\\n",
       "\\end{tabular}\n"
      ],
      "text/markdown": [
       "\n",
       "| <!--/--> | gene | n_snps | chrom | pv_raw | snpID | pv |\n",
       "|---|---|---|---|---|---|---|\n",
       "| 0 | ENSG00000158161_EYA3 | 3                    | 1                    | 0.07148138           | 1_28298088_G_C       | 0.2144441            |\n",
       "| 1 | ENSG00000158161_EYA3 | 3                    | 1                    | 0.06587968           | 1_28339288_G_A       | 0.1976390            |\n",
       "\n"
      ],
      "text/plain": [
       "  gene                 n_snps chrom pv_raw     snpID          pv       \n",
       "0 ENSG00000158161_EYA3 3      1     0.07148138 1_28298088_G_C 0.2144441\n",
       "1 ENSG00000158161_EYA3 3      1     0.06587968 1_28339288_G_A 0.1976390"
      ]
     },
     "metadata": {},
     "output_type": "display_data"
    }
   ],
   "source": [
    "########## new1\n",
    "file0 = paste0(mydir, \"PC1/new1/summary.csv\")\n",
    "df0 = read.csv(file0, row.names=1)\n",
    "nrow(df0)\n",
    "head(df0,2)"
   ]
  },
  {
   "cell_type": "code",
   "execution_count": 1197,
   "id": "47ee57b5",
   "metadata": {},
   "outputs": [
    {
     "name": "stderr",
     "output_type": "stream",
     "text": [
      "Warning message:\n",
      "“Column `gene` joining factors with different levels, coercing to character vector”Warning message:\n",
      "“Column `snpID` joining factors with different levels, coercing to character vector”"
     ]
    },
    {
     "data": {
      "text/html": [
       "112"
      ],
      "text/latex": [
       "112"
      ],
      "text/markdown": [
       "112"
      ],
      "text/plain": [
       "[1] 112"
      ]
     },
     "metadata": {},
     "output_type": "display_data"
    }
   ],
   "source": [
    "#### compare to new new\n",
    "df1 = inner_join(df0, df_new, by = c(\"gene\",\"chrom\",\"n_snps\",\"snpID\"), suffix = c(\".new1\",\".new\"))\n",
    "nrow(df1)"
   ]
  },
  {
   "cell_type": "code",
   "execution_count": 1198,
   "id": "13f09ea7",
   "metadata": {},
   "outputs": [
    {
     "data": {
      "text/plain": [
       "\n",
       "\tPearson's product-moment correlation\n",
       "\n",
       "data:  -log10(df1$pv.new1) and -log10(df1$pv.new)\n",
       "t = 5.9666, df = 110, p-value = 3.003e-08\n",
       "alternative hypothesis: true correlation is not equal to 0\n",
       "95 percent confidence interval:\n",
       " 0.3401272 0.6228802\n",
       "sample estimates:\n",
       "      cor \n",
       "0.4944754 \n"
      ]
     },
     "metadata": {},
     "output_type": "display_data"
    }
   ],
   "source": [
    "cor.test(-log10(df1$pv.new1), -log10(df1$pv.new))"
   ]
  },
  {
   "cell_type": "code",
   "execution_count": 1199,
   "id": "2a43df03",
   "metadata": {},
   "outputs": [
    {
     "data": {
      "image/png": "[encoded data removed]",
      "text/plain": [
       "plot without title"
      ]
     },
     "metadata": {},
     "output_type": "display_data"
    }
   ],
   "source": [
    "m = -log10(min(min(df1$pv.new1),min(df1$pv.new)))\n",
    "ggplot(df1, aes(x = -log10(pv.new1), y = -log10(pv.new))) + geom_point() + theme_bw() + \n",
    "    geom_abline(alpha=0.2) + xlim(c(0,m)) + ylim(c(0,m))"
   ]
  },
  {
   "cell_type": "code",
   "execution_count": 1200,
   "id": "61aa7759",
   "metadata": {},
   "outputs": [
    {
     "name": "stderr",
     "output_type": "stream",
     "text": [
      "Warning message:\n",
      "“Column `gene` joining factors with different levels, coercing to character vector”Warning message:\n",
      "“Column `snpID` joining factors with different levels, coercing to character vector”"
     ]
    },
    {
     "data": {
      "text/html": [
       "161"
      ],
      "text/latex": [
       "161"
      ],
      "text/markdown": [
       "161"
      ],
      "text/plain": [
       "[1] 161"
      ]
     },
     "metadata": {},
     "output_type": "display_data"
    }
   ],
   "source": [
    "#### compare to old old\n",
    "df2 = inner_join(df0, df_old, by = c(\"gene\",\"chrom\",\"n_snps\",\"snpID\"), suffix = c(\".new1\",\".old\"))\n",
    "nrow(df2)"
   ]
  },
  {
   "cell_type": "code",
   "execution_count": 1201,
   "id": "9f324248",
   "metadata": {},
   "outputs": [
    {
     "data": {
      "text/plain": [
       "\n",
       "\tPearson's product-moment correlation\n",
       "\n",
       "data:  -log10(df2$pv.new1) and -log10(df2$pv.old)\n",
       "t = 13.001, df = 159, p-value < 2.2e-16\n",
       "alternative hypothesis: true correlation is not equal to 0\n",
       "95 percent confidence interval:\n",
       " 0.6334876 0.7853088\n",
       "sample estimates:\n",
       "      cor \n",
       "0.7178265 \n"
      ]
     },
     "metadata": {},
     "output_type": "display_data"
    }
   ],
   "source": [
    "cor.test(-log10(df2$pv.new1), -log10(df2$pv.old))"
   ]
  },
  {
   "cell_type": "code",
   "execution_count": 1202,
   "id": "e0864a3d",
   "metadata": {},
   "outputs": [
    {
     "data": {
      "image/png": "[encoded data removed]",
      "text/plain": [
       "plot without title"
      ]
     },
     "metadata": {},
     "output_type": "display_data"
    }
   ],
   "source": [
    "m = -log10(min(min(df2$pv.new1),min(df2$pv.old)))\n",
    "ggplot(df2, aes(x = -log10(pv.new1), y = -log10(pv.old))) + geom_point() + theme_bw() + \n",
    "    geom_abline(alpha=0.2) + xlim(c(0,m)) + ylim(c(0,m))"
   ]
  },
  {
   "cell_type": "code",
   "execution_count": 1203,
   "id": "f490cc62",
   "metadata": {},
   "outputs": [],
   "source": [
    "############################################################\n",
    "############################################################"
   ]
  },
  {
   "cell_type": "code",
   "execution_count": 1444,
   "id": "f95246f9",
   "metadata": {},
   "outputs": [
    {
     "data": {
      "text/html": [
       "161"
      ],
      "text/latex": [
       "161"
      ],
      "text/markdown": [
       "161"
      ],
      "text/plain": [
       "[1] 161"
      ]
     },
     "metadata": {},
     "output_type": "display_data"
    },
    {
     "data": {
      "text/html": [
       "<table>\n",
       "<thead><tr><th></th><th scope=col>gene</th><th scope=col>n_snps</th><th scope=col>chrom</th><th scope=col>pv_raw</th><th scope=col>snpID</th><th scope=col>pv</th></tr></thead>\n",
       "<tbody>\n",
       "\t<tr><th scope=row>45</th><td>ENSG00000158161_EYA3</td><td>3                   </td><td>1                   </td><td>0.9639485           </td><td>1_28298088_G_C      </td><td>1                   </td></tr>\n",
       "\t<tr><th scope=row>46</th><td>ENSG00000158161_EYA3</td><td>3                   </td><td>1                   </td><td>0.9926778           </td><td>1_28339288_G_A      </td><td>1                   </td></tr>\n",
       "</tbody>\n",
       "</table>\n"
      ],
      "text/latex": [
       "\\begin{tabular}{r|llllll}\n",
       "  & gene & n\\_snps & chrom & pv\\_raw & snpID & pv\\\\\n",
       "\\hline\n",
       "\t45 & ENSG00000158161\\_EYA3 & 3                      & 1                      & 0.9639485              & 1\\_28298088\\_G\\_C   & 1                     \\\\\n",
       "\t46 & ENSG00000158161\\_EYA3 & 3                      & 1                      & 0.9926778              & 1\\_28339288\\_G\\_A   & 1                     \\\\\n",
       "\\end{tabular}\n"
      ],
      "text/markdown": [
       "\n",
       "| <!--/--> | gene | n_snps | chrom | pv_raw | snpID | pv |\n",
       "|---|---|---|---|---|---|---|\n",
       "| 45 | ENSG00000158161_EYA3 | 3                    | 1                    | 0.9639485            | 1_28298088_G_C       | 1                    |\n",
       "| 46 | ENSG00000158161_EYA3 | 3                    | 1                    | 0.9926778            | 1_28339288_G_A       | 1                    |\n",
       "\n"
      ],
      "text/plain": [
       "   gene                 n_snps chrom pv_raw    snpID          pv\n",
       "45 ENSG00000158161_EYA3 3      1     0.9639485 1_28298088_G_C 1 \n",
       "46 ENSG00000158161_EYA3 3      1     0.9926778 1_28339288_G_A 1 "
      ]
     },
     "metadata": {},
     "output_type": "display_data"
    }
   ],
   "source": [
    "########## new2\n",
    "file0 = paste0(mydir, \"MOFA1/new2/summary.csv\")\n",
    "df0 = read.csv(file0, row.names=1)\n",
    "df0 = df0[df0$gene %in% genes_chr1_100,]\n",
    "nrow(df0)\n",
    "head(df0,2)"
   ]
  },
  {
   "cell_type": "code",
   "execution_count": 1445,
   "id": "b1884ec4",
   "metadata": {},
   "outputs": [
    {
     "name": "stderr",
     "output_type": "stream",
     "text": [
      "Warning message:\n",
      "“Column `gene` joining factors with different levels, coercing to character vector”Warning message:\n",
      "“Column `snpID` joining factors with different levels, coercing to character vector”"
     ]
    },
    {
     "data": {
      "text/html": [
       "112"
      ],
      "text/latex": [
       "112"
      ],
      "text/markdown": [
       "112"
      ],
      "text/plain": [
       "[1] 112"
      ]
     },
     "metadata": {},
     "output_type": "display_data"
    }
   ],
   "source": [
    "#### compare to new new\n",
    "df1 = inner_join(df0, df_new, by = c(\"gene\",\"chrom\",\"n_snps\",\"snpID\"), suffix = c(\".new2\",\".new\"))\n",
    "nrow(df1)"
   ]
  },
  {
   "cell_type": "code",
   "execution_count": 1446,
   "id": "d08ddc2d",
   "metadata": {},
   "outputs": [
    {
     "data": {
      "text/plain": [
       "\n",
       "\tPearson's product-moment correlation\n",
       "\n",
       "data:  -log10(df1$pv.new2) and -log10(df1$pv.new)\n",
       "t = 3.2736, df = 110, p-value = 0.00142\n",
       "alternative hypothesis: true correlation is not equal to 0\n",
       "95 percent confidence interval:\n",
       " 0.1189703 0.4581738\n",
       "sample estimates:\n",
       "      cor \n",
       "0.2979487 \n"
      ]
     },
     "metadata": {},
     "output_type": "display_data"
    }
   ],
   "source": [
    "cor.test(-log10(df1$pv.new2), -log10(df1$pv.new))"
   ]
  },
  {
   "cell_type": "code",
   "execution_count": 1447,
   "id": "f5f57a79",
   "metadata": {},
   "outputs": [
    {
     "data": {
      "image/png": "[encoded data removed]",
      "text/plain": [
       "plot without title"
      ]
     },
     "metadata": {},
     "output_type": "display_data"
    }
   ],
   "source": [
    "m = -log10(min(min(df1$pv.new2),min(df1$pv.new)))\n",
    "ggplot(df1, aes(x = -log10(pv.new2), y = -log10(pv.new))) + geom_point() + theme_bw() + \n",
    "    geom_abline(alpha=0.2) + xlim(c(0,m)) + ylim(c(0,m))"
   ]
  },
  {
   "cell_type": "code",
   "execution_count": 1448,
   "id": "78e07719",
   "metadata": {},
   "outputs": [
    {
     "name": "stderr",
     "output_type": "stream",
     "text": [
      "Warning message:\n",
      "“Column `gene` joining factors with different levels, coercing to character vector”Warning message:\n",
      "“Column `snpID` joining factors with different levels, coercing to character vector”"
     ]
    },
    {
     "data": {
      "text/html": [
       "161"
      ],
      "text/latex": [
       "161"
      ],
      "text/markdown": [
       "161"
      ],
      "text/plain": [
       "[1] 161"
      ]
     },
     "metadata": {},
     "output_type": "display_data"
    }
   ],
   "source": [
    "#### compare to old old\n",
    "df2 = inner_join(df0, df_old, by = c(\"gene\",\"chrom\",\"n_snps\",\"snpID\"), suffix = c(\".new2\",\".old\"))\n",
    "nrow(df2)"
   ]
  },
  {
   "cell_type": "code",
   "execution_count": 1449,
   "id": "7faa3113",
   "metadata": {},
   "outputs": [
    {
     "data": {
      "text/plain": [
       "\n",
       "\tPearson's product-moment correlation\n",
       "\n",
       "data:  -log10(df2$pv.new2) and -log10(df2$pv.old)\n",
       "t = 99.852, df = 159, p-value < 2.2e-16\n",
       "alternative hypothesis: true correlation is not equal to 0\n",
       "95 percent confidence interval:\n",
       " 0.9892525 0.9942254\n",
       "sample estimates:\n",
       "      cor \n",
       "0.9921205 \n"
      ]
     },
     "metadata": {},
     "output_type": "display_data"
    }
   ],
   "source": [
    "cor.test(-log10(df2$pv.new2), -log10(df2$pv.old))"
   ]
  },
  {
   "cell_type": "code",
   "execution_count": 1450,
   "id": "bb8431a2",
   "metadata": {},
   "outputs": [
    {
     "data": {
      "image/png": "[encoded data removed]",
      "text/plain": [
       "plot without title"
      ]
     },
     "metadata": {},
     "output_type": "display_data"
    }
   ],
   "source": [
    "m = -log10(min(min(df2$pv.new2),min(df2$pv.old)))\n",
    "ggplot(df2, aes(x = -log10(pv.new2), y = -log10(pv.old))) + geom_point() + theme_bw() + \n",
    "    geom_abline(alpha=0.2) + xlim(c(0,m)) + ylim(c(0,m))"
   ]
  },
  {
   "cell_type": "code",
   "execution_count": 1211,
   "id": "beaa9467",
   "metadata": {},
   "outputs": [],
   "source": [
    "############################################################\n",
    "############################################################"
   ]
  },
  {
   "cell_type": "code",
   "execution_count": 1212,
   "id": "b1b0d5aa",
   "metadata": {},
   "outputs": [
    {
     "data": {
      "text/html": [
       "161"
      ],
      "text/latex": [
       "161"
      ],
      "text/markdown": [
       "161"
      ],
      "text/plain": [
       "[1] 161"
      ]
     },
     "metadata": {},
     "output_type": "display_data"
    },
    {
     "data": {
      "text/html": [
       "<table>\n",
       "<thead><tr><th></th><th scope=col>gene</th><th scope=col>n_snps</th><th scope=col>chrom</th><th scope=col>pv_raw</th><th scope=col>snpID</th><th scope=col>pv</th></tr></thead>\n",
       "<tbody>\n",
       "\t<tr><th scope=row>0</th><td>ENSG00000158161_EYA3</td><td>3                   </td><td>1                   </td><td>0.07130599          </td><td>1_28298088_G_C      </td><td>0.2139180           </td></tr>\n",
       "\t<tr><th scope=row>1</th><td>ENSG00000158161_EYA3</td><td>3                   </td><td>1                   </td><td>0.06449681          </td><td>1_28339288_G_A      </td><td>0.1934904           </td></tr>\n",
       "</tbody>\n",
       "</table>\n"
      ],
      "text/latex": [
       "\\begin{tabular}{r|llllll}\n",
       "  & gene & n\\_snps & chrom & pv\\_raw & snpID & pv\\\\\n",
       "\\hline\n",
       "\t0 & ENSG00000158161\\_EYA3 & 3                      & 1                      & 0.07130599             & 1\\_28298088\\_G\\_C   & 0.2139180             \\\\\n",
       "\t1 & ENSG00000158161\\_EYA3 & 3                      & 1                      & 0.06449681             & 1\\_28339288\\_G\\_A   & 0.1934904             \\\\\n",
       "\\end{tabular}\n"
      ],
      "text/markdown": [
       "\n",
       "| <!--/--> | gene | n_snps | chrom | pv_raw | snpID | pv |\n",
       "|---|---|---|---|---|---|---|\n",
       "| 0 | ENSG00000158161_EYA3 | 3                    | 1                    | 0.07130599           | 1_28298088_G_C       | 0.2139180            |\n",
       "| 1 | ENSG00000158161_EYA3 | 3                    | 1                    | 0.06449681           | 1_28339288_G_A       | 0.1934904            |\n",
       "\n"
      ],
      "text/plain": [
       "  gene                 n_snps chrom pv_raw     snpID          pv       \n",
       "0 ENSG00000158161_EYA3 3      1     0.07130599 1_28298088_G_C 0.2139180\n",
       "1 ENSG00000158161_EYA3 3      1     0.06449681 1_28339288_G_A 0.1934904"
      ]
     },
     "metadata": {},
     "output_type": "display_data"
    }
   ],
   "source": [
    "########## new3\n",
    "file0 = paste0(mydir, \"MOFA1/new3/summary.csv\")\n",
    "df0 = read.csv(file0, row.names=1)\n",
    "nrow(df0)\n",
    "head(df0,2)"
   ]
  },
  {
   "cell_type": "code",
   "execution_count": 1213,
   "id": "3fb3b279",
   "metadata": {},
   "outputs": [
    {
     "name": "stderr",
     "output_type": "stream",
     "text": [
      "Warning message:\n",
      "“Column `gene` joining factors with different levels, coercing to character vector”Warning message:\n",
      "“Column `snpID` joining factors with different levels, coercing to character vector”"
     ]
    },
    {
     "data": {
      "text/html": [
       "112"
      ],
      "text/latex": [
       "112"
      ],
      "text/markdown": [
       "112"
      ],
      "text/plain": [
       "[1] 112"
      ]
     },
     "metadata": {},
     "output_type": "display_data"
    }
   ],
   "source": [
    "#### compare to new new\n",
    "df1 = inner_join(df0, df_new, by = c(\"gene\",\"chrom\",\"n_snps\",\"snpID\"), suffix = c(\".new3\",\".new\"))\n",
    "nrow(df1)"
   ]
  },
  {
   "cell_type": "code",
   "execution_count": 1214,
   "id": "33bea86e",
   "metadata": {},
   "outputs": [
    {
     "data": {
      "text/plain": [
       "\n",
       "\tPearson's product-moment correlation\n",
       "\n",
       "data:  -log10(df1$pv.new3) and -log10(df1$pv.new)\n",
       "t = 7.6076, df = 110, p-value = 1.015e-11\n",
       "alternative hypothesis: true correlation is not equal to 0\n",
       "95 percent confidence interval:\n",
       " 0.4507076 0.6967977\n",
       "sample estimates:\n",
       "      cor \n",
       "0.5871585 \n"
      ]
     },
     "metadata": {},
     "output_type": "display_data"
    }
   ],
   "source": [
    "cor.test(-log10(df1$pv.new3), -log10(df1$pv.new))"
   ]
  },
  {
   "cell_type": "code",
   "execution_count": 1215,
   "id": "3ecec872",
   "metadata": {},
   "outputs": [
    {
     "data": {
      "image/png": "[encoded data removed]",
      "text/plain": [
       "plot without title"
      ]
     },
     "metadata": {},
     "output_type": "display_data"
    }
   ],
   "source": [
    "m = -log10(min(min(df1$pv.new3),min(df1$pv.new)))\n",
    "ggplot(df1, aes(x = -log10(pv.new3), y = -log10(pv.new))) + geom_point() + theme_bw() + \n",
    "    geom_abline(alpha=0.2) + xlim(c(0,m)) + ylim(c(0,m))"
   ]
  },
  {
   "cell_type": "code",
   "execution_count": 1216,
   "id": "251970dc",
   "metadata": {},
   "outputs": [
    {
     "name": "stderr",
     "output_type": "stream",
     "text": [
      "Warning message:\n",
      "“Column `gene` joining factors with different levels, coercing to character vector”Warning message:\n",
      "“Column `snpID` joining factors with different levels, coercing to character vector”"
     ]
    },
    {
     "data": {
      "text/html": [
       "161"
      ],
      "text/latex": [
       "161"
      ],
      "text/markdown": [
       "161"
      ],
      "text/plain": [
       "[1] 161"
      ]
     },
     "metadata": {},
     "output_type": "display_data"
    }
   ],
   "source": [
    "#### compare to old old\n",
    "df2 = inner_join(df0, df_old, by = c(\"gene\",\"chrom\",\"n_snps\",\"snpID\"), suffix = c(\".new3\",\".old\"))\n",
    "nrow(df2)"
   ]
  },
  {
   "cell_type": "code",
   "execution_count": 1217,
   "id": "f645e0ac",
   "metadata": {},
   "outputs": [
    {
     "data": {
      "text/plain": [
       "\n",
       "\tPearson's product-moment correlation\n",
       "\n",
       "data:  -log10(df2$pv.new3) and -log10(df2$pv.old)\n",
       "t = 7.7753, df = 159, p-value = 8.865e-13\n",
       "alternative hypothesis: true correlation is not equal to 0\n",
       "95 percent confidence interval:\n",
       " 0.4028952 0.6285122\n",
       "sample estimates:\n",
       "      cor \n",
       "0.5248618 \n"
      ]
     },
     "metadata": {},
     "output_type": "display_data"
    }
   ],
   "source": [
    "cor.test(-log10(df2$pv.new3), -log10(df2$pv.old))"
   ]
  },
  {
   "cell_type": "code",
   "execution_count": 1218,
   "id": "bf7264fb",
   "metadata": {},
   "outputs": [
    {
     "data": {
      "image/png": "[encoded data removed]",
      "text/plain": [
       "plot without title"
      ]
     },
     "metadata": {},
     "output_type": "display_data"
    }
   ],
   "source": [
    "m = -log10(min(min(df2$pv.new3),min(df2$pv.old)))\n",
    "ggplot(df2, aes(x = -log10(pv.new3), y = -log10(pv.old))) + geom_point() + theme_bw() + \n",
    "    geom_abline(alpha=0.2) + xlim(c(0,m)) + ylim(c(0,m))"
   ]
  },
  {
   "cell_type": "code",
   "execution_count": 1219,
   "id": "0b48af3b",
   "metadata": {},
   "outputs": [],
   "source": [
    "############################################################\n",
    "############################################################"
   ]
  },
  {
   "cell_type": "code",
   "execution_count": 1435,
   "id": "5fd7063f",
   "metadata": {},
   "outputs": [
    {
     "data": {
      "text/html": [
       "150"
      ],
      "text/latex": [
       "150"
      ],
      "text/markdown": [
       "150"
      ],
      "text/plain": [
       "[1] 150"
      ]
     },
     "metadata": {},
     "output_type": "display_data"
    },
    {
     "data": {
      "text/html": [
       "<table>\n",
       "<thead><tr><th></th><th scope=col>gene</th><th scope=col>n_snps</th><th scope=col>chrom</th><th scope=col>pv_raw</th><th scope=col>snpID</th><th scope=col>pv</th></tr></thead>\n",
       "<tbody>\n",
       "\t<tr><th scope=row>19</th><td>ENSG00000158161_EYA3</td><td>3                   </td><td>1                   </td><td>0.6967933           </td><td>1_28298088_G_C      </td><td>1                   </td></tr>\n",
       "\t<tr><th scope=row>20</th><td>ENSG00000158161_EYA3</td><td>3                   </td><td>1                   </td><td>0.6911028           </td><td>1_28339288_G_A      </td><td>1                   </td></tr>\n",
       "</tbody>\n",
       "</table>\n"
      ],
      "text/latex": [
       "\\begin{tabular}{r|llllll}\n",
       "  & gene & n\\_snps & chrom & pv\\_raw & snpID & pv\\\\\n",
       "\\hline\n",
       "\t19 & ENSG00000158161\\_EYA3 & 3                      & 1                      & 0.6967933              & 1\\_28298088\\_G\\_C   & 1                     \\\\\n",
       "\t20 & ENSG00000158161\\_EYA3 & 3                      & 1                      & 0.6911028              & 1\\_28339288\\_G\\_A   & 1                     \\\\\n",
       "\\end{tabular}\n"
      ],
      "text/markdown": [
       "\n",
       "| <!--/--> | gene | n_snps | chrom | pv_raw | snpID | pv |\n",
       "|---|---|---|---|---|---|---|\n",
       "| 19 | ENSG00000158161_EYA3 | 3                    | 1                    | 0.6967933            | 1_28298088_G_C       | 1                    |\n",
       "| 20 | ENSG00000158161_EYA3 | 3                    | 1                    | 0.6911028            | 1_28339288_G_A       | 1                    |\n",
       "\n"
      ],
      "text/plain": [
       "   gene                 n_snps chrom pv_raw    snpID          pv\n",
       "19 ENSG00000158161_EYA3 3      1     0.6967933 1_28298088_G_C 1 \n",
       "20 ENSG00000158161_EYA3 3      1     0.6911028 1_28339288_G_A 1 "
      ]
     },
     "metadata": {},
     "output_type": "display_data"
    }
   ],
   "source": [
    "########## new4\n",
    "file0 = paste0(mydir, \"MOFA1/new4/summary.csv\")\n",
    "df0 = read.csv(file0, row.names=1)\n",
    "df0 = df0[df0$gene %in% genes_chr1_100,]\n",
    "nrow(df0)\n",
    "head(df0,2)"
   ]
  },
  {
   "cell_type": "code",
   "execution_count": 1436,
   "id": "49fb0ffe",
   "metadata": {},
   "outputs": [
    {
     "data": {
      "text/html": [
       "91"
      ],
      "text/latex": [
       "91"
      ],
      "text/markdown": [
       "91"
      ],
      "text/plain": [
       "[1] 91"
      ]
     },
     "metadata": {},
     "output_type": "display_data"
    }
   ],
   "source": [
    "length(unique(df0$gene))"
   ]
  },
  {
   "cell_type": "code",
   "execution_count": 1437,
   "id": "f0710b98",
   "metadata": {},
   "outputs": [
    {
     "name": "stderr",
     "output_type": "stream",
     "text": [
      "Warning message:\n",
      "“Column `gene` joining factors with different levels, coercing to character vector”Warning message:\n",
      "“Column `snpID` joining factors with different levels, coercing to character vector”"
     ]
    },
    {
     "data": {
      "text/html": [
       "103"
      ],
      "text/latex": [
       "103"
      ],
      "text/markdown": [
       "103"
      ],
      "text/plain": [
       "[1] 103"
      ]
     },
     "metadata": {},
     "output_type": "display_data"
    }
   ],
   "source": [
    "#### compare to new new\n",
    "df1 = inner_join(df0, df_new, by = c(\"gene\",\"chrom\",\"n_snps\",\"snpID\"), suffix = c(\".new4\",\".new\"))\n",
    "nrow(df1)"
   ]
  },
  {
   "cell_type": "code",
   "execution_count": 1438,
   "id": "9e660285",
   "metadata": {},
   "outputs": [
    {
     "data": {
      "text/html": [
       "60"
      ],
      "text/latex": [
       "60"
      ],
      "text/markdown": [
       "60"
      ],
      "text/plain": [
       "[1] 60"
      ]
     },
     "metadata": {},
     "output_type": "display_data"
    }
   ],
   "source": [
    "length(unique(df1$gene))"
   ]
  },
  {
   "cell_type": "code",
   "execution_count": 1439,
   "id": "0da40afa",
   "metadata": {},
   "outputs": [
    {
     "data": {
      "text/plain": [
       "\n",
       "\tPearson's product-moment correlation\n",
       "\n",
       "data:  -log10(df1$pv.new4) and -log10(df1$pv.new)\n",
       "t = 3.2057, df = 101, p-value = 0.001804\n",
       "alternative hypothesis: true correlation is not equal to 0\n",
       "95 percent confidence interval:\n",
       " 0.1172641 0.4697884\n",
       "sample estimates:\n",
       "      cor \n",
       "0.3038923 \n"
      ]
     },
     "metadata": {},
     "output_type": "display_data"
    }
   ],
   "source": [
    "cor.test(-log10(df1$pv.new4), -log10(df1$pv.new))"
   ]
  },
  {
   "cell_type": "code",
   "execution_count": 1440,
   "id": "023b1cd1",
   "metadata": {},
   "outputs": [
    {
     "data": {
      "image/png": "[encoded data removed]",
      "text/plain": [
       "plot without title"
      ]
     },
     "metadata": {},
     "output_type": "display_data"
    }
   ],
   "source": [
    "m = -log10(min(min(df1$pv.new4),min(df1$pv.new)))\n",
    "ggplot(df1, aes(x = -log10(pv.new4), y = -log10(pv.new))) + geom_point() + theme_bw() + \n",
    "    geom_abline(alpha=0.2) + xlim(c(0,m)) + ylim(c(0,m))"
   ]
  },
  {
   "cell_type": "code",
   "execution_count": 1441,
   "id": "39d86eca",
   "metadata": {},
   "outputs": [
    {
     "name": "stderr",
     "output_type": "stream",
     "text": [
      "Warning message:\n",
      "“Column `gene` joining factors with different levels, coercing to character vector”Warning message:\n",
      "“Column `snpID` joining factors with different levels, coercing to character vector”"
     ]
    },
    {
     "data": {
      "text/html": [
       "150"
      ],
      "text/latex": [
       "150"
      ],
      "text/markdown": [
       "150"
      ],
      "text/plain": [
       "[1] 150"
      ]
     },
     "metadata": {},
     "output_type": "display_data"
    }
   ],
   "source": [
    "#### compare to old old\n",
    "df2 = inner_join(df0, df_old, by = c(\"gene\",\"chrom\",\"n_snps\",\"snpID\"), suffix = c(\".new4\",\".old\"))\n",
    "nrow(df2)"
   ]
  },
  {
   "cell_type": "code",
   "execution_count": 1442,
   "id": "f9c2c5d9",
   "metadata": {},
   "outputs": [
    {
     "data": {
      "text/plain": [
       "\n",
       "\tPearson's product-moment correlation\n",
       "\n",
       "data:  -log10(df2$pv.new4) and -log10(df2$pv.old)\n",
       "t = 33.873, df = 148, p-value < 2.2e-16\n",
       "alternative hypothesis: true correlation is not equal to 0\n",
       "95 percent confidence interval:\n",
       " 0.9195807 0.9570530\n",
       "sample estimates:\n",
       "      cor \n",
       "0.9411428 \n"
      ]
     },
     "metadata": {},
     "output_type": "display_data"
    }
   ],
   "source": [
    "cor.test(-log10(df2$pv.new4), -log10(df2$pv.old))"
   ]
  },
  {
   "cell_type": "code",
   "execution_count": 1443,
   "id": "ccdd2ae6",
   "metadata": {},
   "outputs": [
    {
     "data": {
      "image/png": "[encoded data removed]",
      "text/plain": [
       "plot without title"
      ]
     },
     "metadata": {},
     "output_type": "display_data"
    }
   ],
   "source": [
    "m = -log10(min(min(df2$pv.new4),min(df2$pv.old)))\n",
    "ggplot(df2, aes(x = -log10(pv.new4), y = -log10(pv.old))) + geom_point() + theme_bw() + \n",
    "    geom_abline(alpha=0.2) + xlim(c(0,m)) + ylim(c(0,m))"
   ]
  },
  {
   "cell_type": "code",
   "execution_count": null,
   "id": "073ce3cd",
   "metadata": {},
   "outputs": [],
   "source": []
  },
  {
   "cell_type": "code",
   "execution_count": null,
   "id": "02835b3a",
   "metadata": {},
   "outputs": [],
   "source": []
  }
 ],
 "metadata": {
  "kernelspec": {
   "display_name": "R",
   "language": "R",
   "name": "ir"
  },
  "language_info": {
   "codemirror_mode": "r",
   "file_extension": ".r",
   "mimetype": "text/x-r-source",
   "name": "R",
   "pygments_lexer": "r",
   "version": "3.6.1"
  }
 },
 "nbformat": 4,
 "nbformat_minor": 5
}
