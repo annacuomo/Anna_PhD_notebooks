{
 "cells": [
  {
   "cell_type": "code",
   "execution_count": 1,
   "metadata": {},
   "outputs": [],
   "source": [
    "# BiocManager::install(\"MOFA\")"
   ]
  },
  {
   "cell_type": "code",
   "execution_count": 2,
   "metadata": {},
   "outputs": [],
   "source": [
    "library(reticulate)"
   ]
  },
  {
   "cell_type": "code",
   "execution_count": 3,
   "metadata": {},
   "outputs": [
    {
     "data": {
      "text/plain": [
       "python:         /homes/acuomo/.virtualenvs/r-reticulate/bin/python\n",
       "libpython:      /nfs/software/stegle/users/acuomo/conda-envs/mypy3/lib/libpython3.6m.so\n",
       "pythonhome:     /nfs/software/stegle/users/acuomo/conda-envs/mypy3:/nfs/software/stegle/users/acuomo/conda-envs/mypy3\n",
       "version:        3.6.9 |Anaconda, Inc.| (default, Jul 30 2019, 19:07:31)  [GCC 7.3.0]\n",
       "numpy:          /homes/acuomo/.local/lib/python3.6/site-packages/numpy\n",
       "numpy_version:  1.18.1\n",
       "\n",
       "python versions found: \n",
       " /homes/acuomo/.virtualenvs/r-reticulate/bin/python\n",
       " /nfs/software/stegle/users/acuomo/conda-envs/r_env/bin/python3\n",
       " /usr/bin/python3\n",
       " /usr/bin/python"
      ]
     },
     "metadata": {},
     "output_type": "display_data"
    }
   ],
   "source": [
    "py_discover_config()"
   ]
  },
  {
   "cell_type": "code",
   "execution_count": 4,
   "metadata": {},
   "outputs": [],
   "source": [
    "# use_condaenv(\"mypy3\")"
   ]
  },
  {
   "cell_type": "code",
   "execution_count": 5,
   "metadata": {},
   "outputs": [],
   "source": [
    "# py_discover_config()"
   ]
  },
  {
   "cell_type": "code",
   "execution_count": 6,
   "metadata": {},
   "outputs": [],
   "source": [
    "# py_install(\"mofapy\", envname = \"mypy3\", method=\"auto\")"
   ]
  },
  {
   "cell_type": "code",
   "execution_count": null,
   "metadata": {},
   "outputs": [],
   "source": [
    "library(MOFA)"
   ]
  },
  {
   "cell_type": "code",
   "execution_count": 8,
   "metadata": {},
   "outputs": [],
   "source": [
    "sce = readRDS(\"/hps/nobackup/hipsci/scratch/singlecell_endodiff/data_processed/merged/20180618/sce_merged_afterqc_filt_allexpts.rds\")"
   ]
  },
  {
   "cell_type": "code",
   "execution_count": 9,
   "metadata": {},
   "outputs": [
    {
     "name": "stderr",
     "output_type": "stream",
     "text": [
      "Loading required package: SingleCellExperiment\n",
      "Loading required package: SummarizedExperiment\n",
      "Loading required package: GenomicRanges\n",
      "Loading required package: stats4\n",
      "Loading required package: BiocGenerics\n",
      "Loading required package: parallel\n",
      "\n",
      "Attaching package: ‘BiocGenerics’\n",
      "\n",
      "The following objects are masked from ‘package:parallel’:\n",
      "\n",
      "    clusterApply, clusterApplyLB, clusterCall, clusterEvalQ,\n",
      "    clusterExport, clusterMap, parApply, parCapply, parLapply,\n",
      "    parLapplyLB, parRapply, parSapply, parSapplyLB\n",
      "\n",
      "The following objects are masked from ‘package:stats’:\n",
      "\n",
      "    IQR, mad, sd, var, xtabs\n",
      "\n",
      "The following objects are masked from ‘package:base’:\n",
      "\n",
      "    anyDuplicated, append, as.data.frame, basename, cbind, colnames,\n",
      "    dirname, do.call, duplicated, eval, evalq, Filter, Find, get, grep,\n",
      "    grepl, intersect, is.unsorted, lapply, Map, mapply, match, mget,\n",
      "    order, paste, pmax, pmax.int, pmin, pmin.int, Position, rank,\n",
      "    rbind, Reduce, rownames, sapply, setdiff, sort, table, tapply,\n",
      "    union, unique, unsplit, which, which.max, which.min\n",
      "\n",
      "Loading required package: S4Vectors\n",
      "\n",
      "Attaching package: ‘S4Vectors’\n",
      "\n",
      "The following object is masked from ‘package:base’:\n",
      "\n",
      "    expand.grid\n",
      "\n",
      "Loading required package: IRanges\n",
      "Loading required package: GenomeInfoDb\n",
      "Loading required package: Biobase\n",
      "Welcome to Bioconductor\n",
      "\n",
      "    Vignettes contain introductory material; view with\n",
      "    'browseVignettes()'. To cite Bioconductor, see\n",
      "    'citation(\"Biobase\")', and for packages 'citation(\"pkgname\")'.\n",
      "\n",
      "\n",
      "Attaching package: ‘Biobase’\n",
      "\n",
      "The following objects are masked from ‘package:MOFA’:\n",
      "\n",
      "    featureNames, featureNames<-, sampleNames, sampleNames<-\n",
      "\n",
      "Loading required package: DelayedArray\n",
      "Loading required package: matrixStats\n",
      "\n",
      "Attaching package: ‘matrixStats’\n",
      "\n",
      "The following objects are masked from ‘package:Biobase’:\n",
      "\n",
      "    anyMissing, rowMedians\n",
      "\n",
      "Loading required package: BiocParallel\n",
      "\n",
      "Attaching package: ‘DelayedArray’\n",
      "\n",
      "The following objects are masked from ‘package:matrixStats’:\n",
      "\n",
      "    colMaxs, colMins, colRanges, rowMaxs, rowMins, rowRanges\n",
      "\n",
      "The following objects are masked from ‘package:base’:\n",
      "\n",
      "    aperm, apply, rowsum\n",
      "\n"
     ]
    },
    {
     "data": {
      "text/plain": [
       "class: SingleCellExperiment \n",
       "dim: 11231 36044 \n",
       "metadata(4): log.exprs.offset log.exprs.offset log.exprs.offset\n",
       "  log.exprs.offset\n",
       "assays(3): tpm counts logcounts\n",
       "rownames(11231): ENSG00000000003_TSPAN6 ENSG00000000419_DPM1 ...\n",
       "  ENSG00000272325_NUDT3 ENSG00000272398_CD24\n",
       "rowData names(17): exprs_collapsed_to ensembl_transcript_id ...\n",
       "  is_intop2000hvg is_hvg\n",
       "colnames(36044): 21843_1#10 21843_1#100 ... 24539_8#97 24539_8#98\n",
       "colData names(123): adj_x adj_y ... princ_curve princ_curve_scaled01\n",
       "reducedDimNames(1): PCA\n",
       "spikeNames(1): ERCC\n",
       "altExpNames(0):"
      ]
     },
     "metadata": {},
     "output_type": "display_data"
    }
   ],
   "source": [
    "sce"
   ]
  },
  {
   "cell_type": "code",
   "execution_count": 10,
   "metadata": {},
   "outputs": [
    {
     "name": "stderr",
     "output_type": "stream",
     "text": [
      "Creating MOFA object from a list of matrices \n",
      " please make sure that samples are stored in the columns and features in the rows...\n",
      "\n"
     ]
    }
   ],
   "source": [
    "MOFAobject <- createMOFAobject(data = list(scRNAseq = logcounts(sce[rowData(sce)$is_intop500hvg,])))"
   ]
  },
  {
   "cell_type": "code",
   "execution_count": 11,
   "metadata": {},
   "outputs": [
    {
     "data": {
      "text/html": [
       "<dl>\n",
       "\t<dt>$scaleViews</dt>\n",
       "\t\t<dd>FALSE</dd>\n",
       "\t<dt>$removeIncompleteSamples</dt>\n",
       "\t\t<dd>FALSE</dd>\n",
       "</dl>\n"
      ],
      "text/latex": [
       "\\begin{description}\n",
       "\\item[\\$scaleViews] FALSE\n",
       "\\item[\\$removeIncompleteSamples] FALSE\n",
       "\\end{description}\n"
      ],
      "text/markdown": [
       "$scaleViews\n",
       ":   FALSE\n",
       "$removeIncompleteSamples\n",
       ":   FALSE\n",
       "\n",
       "\n"
      ],
      "text/plain": [
       "$scaleViews\n",
       "[1] FALSE\n",
       "\n",
       "$removeIncompleteSamples\n",
       "[1] FALSE\n"
      ]
     },
     "metadata": {},
     "output_type": "display_data"
    }
   ],
   "source": [
    "DataOptions <- getDefaultDataOptions()\n",
    "\n",
    "DataOptions"
   ]
  },
  {
   "cell_type": "code",
   "execution_count": 12,
   "metadata": {},
   "outputs": [
    {
     "data": {
      "text/html": [
       "<dl>\n",
       "\t<dt>$likelihood</dt>\n",
       "\t\t<dd><strong>scRNAseq:</strong> 'gaussian'</dd>\n",
       "\t<dt>$numFactors</dt>\n",
       "\t\t<dd>18022</dd>\n",
       "\t<dt>$sparsity</dt>\n",
       "\t\t<dd>TRUE</dd>\n",
       "</dl>\n"
      ],
      "text/latex": [
       "\\begin{description}\n",
       "\\item[\\$likelihood] \\textbf{scRNAseq:} 'gaussian'\n",
       "\\item[\\$numFactors] 18022\n",
       "\\item[\\$sparsity] TRUE\n",
       "\\end{description}\n"
      ],
      "text/markdown": [
       "$likelihood\n",
       ":   **scRNAseq:** 'gaussian'\n",
       "$numFactors\n",
       ":   18022\n",
       "$sparsity\n",
       ":   TRUE\n",
       "\n",
       "\n"
      ],
      "text/plain": [
       "$likelihood\n",
       "  scRNAseq \n",
       "\"gaussian\" \n",
       "\n",
       "$numFactors\n",
       "[1] 18022\n",
       "\n",
       "$sparsity\n",
       "[1] TRUE\n"
      ]
     },
     "metadata": {},
     "output_type": "display_data"
    }
   ],
   "source": [
    "ModelOptions <- getDefaultModelOptions(MOFAobject)\n",
    "\n",
    "ModelOptions"
   ]
  },
  {
   "cell_type": "code",
   "execution_count": 13,
   "metadata": {},
   "outputs": [
    {
     "data": {
      "text/html": [
       "<dl>\n",
       "\t<dt>$maxiter</dt>\n",
       "\t\t<dd>5000</dd>\n",
       "\t<dt>$tolerance</dt>\n",
       "\t\t<dd>0.1</dd>\n",
       "\t<dt>$DropFactorThreshold</dt>\n",
       "\t\t<dd>0.01</dd>\n",
       "\t<dt>$verbose</dt>\n",
       "\t\t<dd>FALSE</dd>\n",
       "\t<dt>$seed</dt>\n",
       "\t\t<dd>2020</dd>\n",
       "</dl>\n"
      ],
      "text/latex": [
       "\\begin{description}\n",
       "\\item[\\$maxiter] 5000\n",
       "\\item[\\$tolerance] 0.1\n",
       "\\item[\\$DropFactorThreshold] 0.01\n",
       "\\item[\\$verbose] FALSE\n",
       "\\item[\\$seed] 2020\n",
       "\\end{description}\n"
      ],
      "text/markdown": [
       "$maxiter\n",
       ":   5000\n",
       "$tolerance\n",
       ":   0.1\n",
       "$DropFactorThreshold\n",
       ":   0.01\n",
       "$verbose\n",
       ":   FALSE\n",
       "$seed\n",
       ":   2020\n",
       "\n",
       "\n"
      ],
      "text/plain": [
       "$maxiter\n",
       "[1] 5000\n",
       "\n",
       "$tolerance\n",
       "[1] 0.1\n",
       "\n",
       "$DropFactorThreshold\n",
       "[1] 0.01\n",
       "\n",
       "$verbose\n",
       "[1] FALSE\n",
       "\n",
       "$seed\n",
       "[1] 2020\n"
      ]
     },
     "metadata": {},
     "output_type": "display_data"
    }
   ],
   "source": [
    "TrainOptions <- getDefaultTrainOptions()\n",
    "TrainOptions$seed <- 2020\n",
    "\n",
    "TrainOptions$DropFactorThreshold <- 0.01\n",
    "\n",
    "TrainOptions"
   ]
  },
  {
   "cell_type": "code",
   "execution_count": 14,
   "metadata": {},
   "outputs": [
    {
     "name": "stderr",
     "output_type": "stream",
     "text": [
      "Checking data options...\n",
      "Checking training options...\n",
      "Checking model options...\n"
     ]
    }
   ],
   "source": [
    "MOFAobject <- prepareMOFA(\n",
    "  MOFAobject, \n",
    "  DataOptions = DataOptions,\n",
    "  ModelOptions = ModelOptions,\n",
    "  TrainOptions = TrainOptions\n",
    ")"
   ]
  },
  {
   "cell_type": "code",
   "execution_count": null,
   "metadata": {},
   "outputs": [],
   "source": [
    "MOFAobject <- runMOFA(MOFAobject)"
   ]
  },
  {
   "cell_type": "code",
   "execution_count": null,
   "metadata": {},
   "outputs": [],
   "source": [
    "MOFAobject"
   ]
  },
  {
   "cell_type": "code",
   "execution_count": null,
   "metadata": {},
   "outputs": [],
   "source": [
    "r2 <- calculateVarianceExplained(MOFAobject)\n",
    "r2$R2Total"
   ]
  },
  {
   "cell_type": "code",
   "execution_count": null,
   "metadata": {},
   "outputs": [],
   "source": [
    "r2$R2PerFactor"
   ]
  },
  {
   "cell_type": "code",
   "execution_count": null,
   "metadata": {},
   "outputs": [],
   "source": []
  }
 ],
 "metadata": {
  "kernelspec": {
   "display_name": "R",
   "language": "R",
   "name": "ir"
  },
  "language_info": {
   "codemirror_mode": "r",
   "file_extension": ".r",
   "mimetype": "text/x-r-source",
   "name": "R",
   "pygments_lexer": "r",
   "version": "3.6.1"
  }
 },
 "nbformat": 4,
 "nbformat_minor": 4
}
