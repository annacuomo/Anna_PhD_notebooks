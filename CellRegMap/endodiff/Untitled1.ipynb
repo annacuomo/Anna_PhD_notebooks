{
 "cells": [
  {
   "cell_type": "code",
   "execution_count": 62,
   "metadata": {},
   "outputs": [],
   "source": [
    "library(dplyr)\n",
    "library(ggplot2)"
   ]
  },
  {
   "cell_type": "code",
   "execution_count": 65,
   "metadata": {},
   "outputs": [],
   "source": [
    "mydir = \"/hps/nobackup/stegle/users/acuomo/all_scripts/struct_LMM2/sc_endodiff/interaction_test/MOFA/new/\""
   ]
  },
  {
   "cell_type": "code",
   "execution_count": 66,
   "metadata": {},
   "outputs": [],
   "source": [
    "prefixes = c(\"5mofa_factors_endo_eqtl_permuteE_within_donors/\")"
   ]
  },
  {
   "cell_type": "code",
   "execution_count": 67,
   "metadata": {},
   "outputs": [
    {
     "data": {
      "text/html": [
       "<table>\n",
       "<thead><tr><th></th><th scope=col>gene</th><th scope=col>perm</th><th scope=col>pv_raw</th><th scope=col>snpID</th></tr></thead>\n",
       "<tbody>\n",
       "\t<tr><th scope=row>0</th><td>ENSG00000133422_MORC2 </td><td>perm83                </td><td>0.29177711            </td><td>22_31377027_A_G       </td></tr>\n",
       "\t<tr><th scope=row>1</th><td>ENSG00000133422_MORC2 </td><td>perm83                </td><td>0.31169648            </td><td>22_31395825_T_C       </td></tr>\n",
       "\t<tr><th scope=row>2</th><td>ENSG00000184674_GSTT1 </td><td>perm35                </td><td>0.16220039            </td><td>22_24295427_C_T       </td></tr>\n",
       "\t<tr><th scope=row>3</th><td>ENSG00000128294_TPST2 </td><td>perm54                </td><td>0.07667975            </td><td>22_26980582_T_C       </td></tr>\n",
       "\t<tr><th scope=row>4</th><td>ENSG00000128294_TPST2 </td><td>perm54                </td><td>0.53030107            </td><td>22_27020835_G_A       </td></tr>\n",
       "\t<tr><th scope=row>5</th><td>ENSG00000100344_PNPLA3</td><td>perm58                </td><td>0.09659155            </td><td>22_44323965_A_G       </td></tr>\n",
       "</tbody>\n",
       "</table>\n"
      ],
      "text/latex": [
       "\\begin{tabular}{r|llll}\n",
       "  & gene & perm & pv\\_raw & snpID\\\\\n",
       "\\hline\n",
       "\t0 & ENSG00000133422\\_MORC2  & perm83                   & 0.29177711               & 22\\_31377027\\_A\\_G   \\\\\n",
       "\t1 & ENSG00000133422\\_MORC2  & perm83                   & 0.31169648               & 22\\_31395825\\_T\\_C   \\\\\n",
       "\t2 & ENSG00000184674\\_GSTT1  & perm35                   & 0.16220039               & 22\\_24295427\\_C\\_T   \\\\\n",
       "\t3 & ENSG00000128294\\_TPST2  & perm54                   & 0.07667975               & 22\\_26980582\\_T\\_C   \\\\\n",
       "\t4 & ENSG00000128294\\_TPST2  & perm54                   & 0.53030107               & 22\\_27020835\\_G\\_A   \\\\\n",
       "\t5 & ENSG00000100344\\_PNPLA3 & perm58                   & 0.09659155               & 22\\_44323965\\_A\\_G   \\\\\n",
       "\\end{tabular}\n"
      ],
      "text/markdown": [
       "\n",
       "| <!--/--> | gene | perm | pv_raw | snpID |\n",
       "|---|---|---|---|---|\n",
       "| 0 | ENSG00000133422_MORC2  | perm83                 | 0.29177711             | 22_31377027_A_G        |\n",
       "| 1 | ENSG00000133422_MORC2  | perm83                 | 0.31169648             | 22_31395825_T_C        |\n",
       "| 2 | ENSG00000184674_GSTT1  | perm35                 | 0.16220039             | 22_24295427_C_T        |\n",
       "| 3 | ENSG00000128294_TPST2  | perm54                 | 0.07667975             | 22_26980582_T_C        |\n",
       "| 4 | ENSG00000128294_TPST2  | perm54                 | 0.53030107             | 22_27020835_G_A        |\n",
       "| 5 | ENSG00000100344_PNPLA3 | perm58                 | 0.09659155             | 22_44323965_A_G        |\n",
       "\n"
      ],
      "text/plain": [
       "  gene                   perm   pv_raw     snpID          \n",
       "0 ENSG00000133422_MORC2  perm83 0.29177711 22_31377027_A_G\n",
       "1 ENSG00000133422_MORC2  perm83 0.31169648 22_31395825_T_C\n",
       "2 ENSG00000184674_GSTT1  perm35 0.16220039 22_24295427_C_T\n",
       "3 ENSG00000128294_TPST2  perm54 0.07667975 22_26980582_T_C\n",
       "4 ENSG00000128294_TPST2  perm54 0.53030107 22_27020835_G_A\n",
       "5 ENSG00000100344_PNPLA3 perm58 0.09659155 22_44323965_A_G"
      ]
     },
     "metadata": {},
     "output_type": "display_data"
    }
   ],
   "source": [
    "myfile = paste0(mydir, prefixes[1],\"summary_endo_eqtl_all_perms.csv\")\n",
    "df = read.csv(myfile, row.names = 1)\n",
    "head(df)"
   ]
  },
  {
   "cell_type": "code",
   "execution_count": 76,
   "metadata": {},
   "outputs": [
    {
     "data": {
      "image/png": "[encoded data removed]",
      "text/plain": [
       "plot without title"
      ]
     },
     "metadata": {},
     "output_type": "display_data"
    }
   ],
   "source": [
    "options(repr.plot.width = 4, repr.plot.height = 4)\n",
    "df_perm = df[df$perm == \"perm50\",]\n",
    "# head(df_perm)\n",
    "df_perm$pv_uniform = runif(n = nrow(df_perm), min = 0, max = 1)\n",
    "ggplot(df_perm, aes(x = sort(-log10(pv_uniform)), y = sort(-log10(pv_raw)))) + geom_point() + \n",
    "        geom_abline(slope = 1) #+ ylim(c(0,8))"
   ]
  },
  {
   "cell_type": "code",
   "execution_count": 53,
   "metadata": {
    "scrolled": true
   },
   "outputs": [
    {
     "data": {
      "text/html": [
       "88"
      ],
      "text/latex": [
       "88"
      ],
      "text/markdown": [
       "88"
      ],
      "text/plain": [
       "[1] 88"
      ]
     },
     "metadata": {},
     "output_type": "display_data"
    }
   ],
   "source": [
    "df = df[order(df$pv_raw),]\n",
    "# head(df)\n",
    "df0 <- df[-which(duplicated(df$gene)),]\n",
    "nrow(df0)\n",
    "# df0"
   ]
  },
  {
   "cell_type": "code",
   "execution_count": 54,
   "metadata": {},
   "outputs": [],
   "source": [
    "prefixes = c(\"5mofa_factors_endo_eqtl/\")\n",
    "# prefixes = c(\"1mofa_factor_endo_eqtl_gaussE_gaussY/\")"
   ]
  },
  {
   "cell_type": "code",
   "execution_count": 55,
   "metadata": {},
   "outputs": [
    {
     "data": {
      "text/html": [
       "<table>\n",
       "<thead><tr><th></th><th scope=col>gene</th><th scope=col>n_snps</th><th scope=col>pv_raw</th><th scope=col>snpID</th><th scope=col>pv</th><th scope=col>pv_adj</th></tr></thead>\n",
       "<tbody>\n",
       "\t<tr><th scope=row>0</th><td>ENSG00000189306_RRP7A  </td><td>3                      </td><td>8.298656e-12           </td><td>22_42896474_T_C        </td><td>2.489597e-11           </td><td>0.99                   </td></tr>\n",
       "\t<tr><th scope=row>1</th><td>ENSG00000189306_RRP7A  </td><td>3                      </td><td>6.491640e-14           </td><td>22_42897414_A_C        </td><td>1.947492e-13           </td><td>0.99                   </td></tr>\n",
       "\t<tr><th scope=row>2</th><td>ENSG00000189306_RRP7A  </td><td>3                      </td><td>5.606103e-18           </td><td>22_42903671_T_G        </td><td>1.681831e-17           </td><td>0.99                   </td></tr>\n",
       "\t<tr><th scope=row>3</th><td>ENSG00000196236_XPNPEP3</td><td>2                      </td><td>1.805718e-14           </td><td>22_41256802_A_G        </td><td>3.611436e-14           </td><td>0.99                   </td></tr>\n",
       "\t<tr><th scope=row>4</th><td>ENSG00000196236_XPNPEP3</td><td>2                      </td><td>1.076111e-04           </td><td>22_41394128_C_T        </td><td>2.152221e-04           </td><td>0.99                   </td></tr>\n",
       "\t<tr><th scope=row>5</th><td>ENSG00000185651_UBE2L3 </td><td>1                      </td><td>1.960042e-04           </td><td>22_22077719_C_T        </td><td>1.960042e-04           </td><td>0.99                   </td></tr>\n",
       "</tbody>\n",
       "</table>\n"
      ],
      "text/latex": [
       "\\begin{tabular}{r|llllll}\n",
       "  & gene & n\\_snps & pv\\_raw & snpID & pv & pv\\_adj\\\\\n",
       "\\hline\n",
       "\t0 & ENSG00000189306\\_RRP7A   & 3                         & 8.298656e-12              & 22\\_42896474\\_T\\_C     & 2.489597e-11              & 0.99                     \\\\\n",
       "\t1 & ENSG00000189306\\_RRP7A   & 3                         & 6.491640e-14              & 22\\_42897414\\_A\\_C     & 1.947492e-13              & 0.99                     \\\\\n",
       "\t2 & ENSG00000189306\\_RRP7A   & 3                         & 5.606103e-18              & 22\\_42903671\\_T\\_G     & 1.681831e-17              & 0.99                     \\\\\n",
       "\t3 & ENSG00000196236\\_XPNPEP3 & 2                         & 1.805718e-14              & 22\\_41256802\\_A\\_G     & 3.611436e-14              & 0.99                     \\\\\n",
       "\t4 & ENSG00000196236\\_XPNPEP3 & 2                         & 1.076111e-04              & 22\\_41394128\\_C\\_T     & 2.152221e-04              & 0.99                     \\\\\n",
       "\t5 & ENSG00000185651\\_UBE2L3  & 1                         & 1.960042e-04              & 22\\_22077719\\_C\\_T     & 1.960042e-04              & 0.99                     \\\\\n",
       "\\end{tabular}\n"
      ],
      "text/markdown": [
       "\n",
       "| <!--/--> | gene | n_snps | pv_raw | snpID | pv | pv_adj |\n",
       "|---|---|---|---|---|---|---|\n",
       "| 0 | ENSG00000189306_RRP7A   | 3                       | 8.298656e-12            | 22_42896474_T_C         | 2.489597e-11            | 0.99                    |\n",
       "| 1 | ENSG00000189306_RRP7A   | 3                       | 6.491640e-14            | 22_42897414_A_C         | 1.947492e-13            | 0.99                    |\n",
       "| 2 | ENSG00000189306_RRP7A   | 3                       | 5.606103e-18            | 22_42903671_T_G         | 1.681831e-17            | 0.99                    |\n",
       "| 3 | ENSG00000196236_XPNPEP3 | 2                       | 1.805718e-14            | 22_41256802_A_G         | 3.611436e-14            | 0.99                    |\n",
       "| 4 | ENSG00000196236_XPNPEP3 | 2                       | 1.076111e-04            | 22_41394128_C_T         | 2.152221e-04            | 0.99                    |\n",
       "| 5 | ENSG00000185651_UBE2L3  | 1                       | 1.960042e-04            | 22_22077719_C_T         | 1.960042e-04            | 0.99                    |\n",
       "\n"
      ],
      "text/plain": [
       "  gene                    n_snps pv_raw       snpID           pv          \n",
       "0 ENSG00000189306_RRP7A   3      8.298656e-12 22_42896474_T_C 2.489597e-11\n",
       "1 ENSG00000189306_RRP7A   3      6.491640e-14 22_42897414_A_C 1.947492e-13\n",
       "2 ENSG00000189306_RRP7A   3      5.606103e-18 22_42903671_T_G 1.681831e-17\n",
       "3 ENSG00000196236_XPNPEP3 2      1.805718e-14 22_41256802_A_G 3.611436e-14\n",
       "4 ENSG00000196236_XPNPEP3 2      1.076111e-04 22_41394128_C_T 2.152221e-04\n",
       "5 ENSG00000185651_UBE2L3  1      1.960042e-04 22_22077719_C_T 1.960042e-04\n",
       "  pv_adj\n",
       "0 0.99  \n",
       "1 0.99  \n",
       "2 0.99  \n",
       "3 0.99  \n",
       "4 0.99  \n",
       "5 0.99  "
      ]
     },
     "metadata": {},
     "output_type": "display_data"
    }
   ],
   "source": [
    "myfile = paste0(mydir, prefixes[1],\"summary_endo_eqtl.csv\")\n",
    "df = read.csv(myfile, row.names = 1)\n",
    "head(df)"
   ]
  },
  {
   "cell_type": "code",
   "execution_count": 56,
   "metadata": {},
   "outputs": [
    {
     "data": {
      "text/html": [
       "88"
      ],
      "text/latex": [
       "88"
      ],
      "text/markdown": [
       "88"
      ],
      "text/plain": [
       "[1] 88"
      ]
     },
     "metadata": {},
     "output_type": "display_data"
    }
   ],
   "source": [
    "df = df[order(df$pv_raw),]\n",
    "# head(df)\n",
    "df1 <- df[-which(duplicated(df$gene)),]\n",
    "nrow(df1)\n",
    "# df0"
   ]
  },
  {
   "cell_type": "code",
   "execution_count": 57,
   "metadata": {},
   "outputs": [
    {
     "data": {
      "text/html": [
       "<table>\n",
       "<thead><tr><th scope=col>gene</th><th scope=col>pv_raw.perm</th><th scope=col>pv_raw</th></tr></thead>\n",
       "<tbody>\n",
       "\t<tr><td>ENSG00000184674_GSTT1   </td><td>3.448477e-06            </td><td>4.674111e-23            </td></tr>\n",
       "\t<tr><td>ENSG00000100162_CENPM   </td><td>8.320913e-06            </td><td>2.523242e-25            </td></tr>\n",
       "\t<tr><td>ENSG00000100376_FAM118A </td><td>1.627526e-05            </td><td>5.117196e-12            </td></tr>\n",
       "\t<tr><td>ENSG00000211643_IGLV5-52</td><td>6.787416e-05            </td><td>5.682581e-06            </td></tr>\n",
       "\t<tr><td>ENSG00000100410_PHF5A   </td><td>9.653398e-05            </td><td>3.775694e-07            </td></tr>\n",
       "\t<tr><td>ENSG00000100038_TOP3B   </td><td>1.041529e-04            </td><td>5.686287e-06            </td></tr>\n",
       "</tbody>\n",
       "</table>\n"
      ],
      "text/latex": [
       "\\begin{tabular}{r|lll}\n",
       " gene & pv\\_raw.perm & pv\\_raw\\\\\n",
       "\\hline\n",
       "\t ENSG00000184674\\_GSTT1    & 3.448477e-06               & 4.674111e-23              \\\\\n",
       "\t ENSG00000100162\\_CENPM    & 8.320913e-06               & 2.523242e-25              \\\\\n",
       "\t ENSG00000100376\\_FAM118A  & 1.627526e-05               & 5.117196e-12              \\\\\n",
       "\t ENSG00000211643\\_IGLV5-52 & 6.787416e-05               & 5.682581e-06              \\\\\n",
       "\t ENSG00000100410\\_PHF5A    & 9.653398e-05               & 3.775694e-07              \\\\\n",
       "\t ENSG00000100038\\_TOP3B    & 1.041529e-04               & 5.686287e-06              \\\\\n",
       "\\end{tabular}\n"
      ],
      "text/markdown": [
       "\n",
       "| gene | pv_raw.perm | pv_raw |\n",
       "|---|---|---|\n",
       "| ENSG00000184674_GSTT1    | 3.448477e-06             | 4.674111e-23             |\n",
       "| ENSG00000100162_CENPM    | 8.320913e-06             | 2.523242e-25             |\n",
       "| ENSG00000100376_FAM118A  | 1.627526e-05             | 5.117196e-12             |\n",
       "| ENSG00000211643_IGLV5-52 | 6.787416e-05             | 5.682581e-06             |\n",
       "| ENSG00000100410_PHF5A    | 9.653398e-05             | 3.775694e-07             |\n",
       "| ENSG00000100038_TOP3B    | 1.041529e-04             | 5.686287e-06             |\n",
       "\n"
      ],
      "text/plain": [
       "  gene                     pv_raw.perm  pv_raw      \n",
       "1 ENSG00000184674_GSTT1    3.448477e-06 4.674111e-23\n",
       "2 ENSG00000100162_CENPM    8.320913e-06 2.523242e-25\n",
       "3 ENSG00000100376_FAM118A  1.627526e-05 5.117196e-12\n",
       "4 ENSG00000211643_IGLV5-52 6.787416e-05 5.682581e-06\n",
       "5 ENSG00000100410_PHF5A    9.653398e-05 3.775694e-07\n",
       "6 ENSG00000100038_TOP3B    1.041529e-04 5.686287e-06"
      ]
     },
     "metadata": {},
     "output_type": "display_data"
    }
   ],
   "source": [
    "cols = c(\"gene\",\"pv_raw\")\n",
    "df2 = inner_join(df0[,cols],df1[,cols], by = \"gene\", suffix = c(\".perm\",\"\"))\n",
    "head(df2)"
   ]
  },
  {
   "cell_type": "code",
   "execution_count": 58,
   "metadata": {},
   "outputs": [
    {
     "data": {
      "text/html": [
       "0.772727272727273"
      ],
      "text/latex": [
       "0.772727272727273"
      ],
      "text/markdown": [
       "0.772727272727273"
      ],
      "text/plain": [
       "[1] 0.7727273"
      ]
     },
     "metadata": {},
     "output_type": "display_data"
    }
   ],
   "source": [
    "nrow(df2[df2$pv_raw < df2$pv_raw.perm,])/nrow(df2)"
   ]
  },
  {
   "cell_type": "code",
   "execution_count": null,
   "metadata": {},
   "outputs": [],
   "source": []
  }
 ],
 "metadata": {
  "kernelspec": {
   "display_name": "R",
   "language": "R",
   "name": "ir"
  },
  "language_info": {
   "codemirror_mode": "r",
   "file_extension": ".r",
   "mimetype": "text/x-r-source",
   "name": "R",
   "pygments_lexer": "r",
   "version": "3.6.1"
  }
 },
 "nbformat": 4,
 "nbformat_minor": 4
}
