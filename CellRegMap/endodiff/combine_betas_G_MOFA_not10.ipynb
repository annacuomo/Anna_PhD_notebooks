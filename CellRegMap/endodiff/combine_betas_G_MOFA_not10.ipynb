{
 "cells": [
  {
   "cell_type": "code",
   "execution_count": 189,
   "metadata": {},
   "outputs": [],
   "source": [
    "# mydir = \"/hps/nobackup/stegle/users/acuomo/all_scripts/struct_LMM2/sc_endodiff/debug_May2021/genetic_effect/MOFA1/\"\n",
    "# mydir = \"/hps/nobackup/stegle/users/acuomo/all_scripts/struct_LMM2/sc_endodiff/debug_May2021/genetic_effect/MOFA2/\"\n",
    "# mydir = \"/hps/nobackup/stegle/users/acuomo/all_scripts/struct_LMM2/sc_endodiff/debug_May2021/genetic_effect/MOFA5/\"\n",
    "mydir = \"/hps/nobackup/stegle/users/acuomo/all_scripts/struct_LMM2/sc_endodiff/debug_May2021/genetic_effect/MOFA20/\""
   ]
  },
  {
   "cell_type": "code",
   "execution_count": 190,
   "metadata": {},
   "outputs": [
    {
     "data": {
      "text/html": [
       "519"
      ],
      "text/latex": [
       "519"
      ],
      "text/markdown": [
       "519"
      ],
      "text/plain": [
       "[1] 519"
      ]
     },
     "metadata": {},
     "output_type": "display_data"
    },
    {
     "data": {
      "text/html": [
       "<ol class=list-inline>\n",
       "\t<li>'ENSG00000005059_CCDC109B_beta_G.tsv'</li>\n",
       "\t<li>'ENSG00000006016_CRLF1_beta_G.tsv'</li>\n",
       "\t<li>'ENSG00000006459_KDM7A_beta_G.tsv'</li>\n",
       "\t<li>'ENSG00000008018_PSMB1_beta_G.tsv'</li>\n",
       "\t<li>'ENSG00000008324_SS18L2_beta_G.tsv'</li>\n",
       "\t<li>'ENSG00000013297_CLDN11_beta_G.tsv'</li>\n",
       "</ol>\n"
      ],
      "text/latex": [
       "\\begin{enumerate*}\n",
       "\\item 'ENSG00000005059\\_CCDC109B\\_beta\\_G.tsv'\n",
       "\\item 'ENSG00000006016\\_CRLF1\\_beta\\_G.tsv'\n",
       "\\item 'ENSG00000006459\\_KDM7A\\_beta\\_G.tsv'\n",
       "\\item 'ENSG00000008018\\_PSMB1\\_beta\\_G.tsv'\n",
       "\\item 'ENSG00000008324\\_SS18L2\\_beta\\_G.tsv'\n",
       "\\item 'ENSG00000013297\\_CLDN11\\_beta\\_G.tsv'\n",
       "\\end{enumerate*}\n"
      ],
      "text/markdown": [
       "1. 'ENSG00000005059_CCDC109B_beta_G.tsv'\n",
       "2. 'ENSG00000006016_CRLF1_beta_G.tsv'\n",
       "3. 'ENSG00000006459_KDM7A_beta_G.tsv'\n",
       "4. 'ENSG00000008018_PSMB1_beta_G.tsv'\n",
       "5. 'ENSG00000008324_SS18L2_beta_G.tsv'\n",
       "6. 'ENSG00000013297_CLDN11_beta_G.tsv'\n",
       "\n",
       "\n"
      ],
      "text/plain": [
       "[1] \"ENSG00000005059_CCDC109B_beta_G.tsv\" \"ENSG00000006016_CRLF1_beta_G.tsv\"   \n",
       "[3] \"ENSG00000006459_KDM7A_beta_G.tsv\"    \"ENSG00000008018_PSMB1_beta_G.tsv\"   \n",
       "[5] \"ENSG00000008324_SS18L2_beta_G.tsv\"   \"ENSG00000013297_CLDN11_beta_G.tsv\"  "
      ]
     },
     "metadata": {},
     "output_type": "display_data"
    }
   ],
   "source": [
    "mygenes = list.files(mydir,pattern = \"beta_G.tsv\")\n",
    "length(mygenes)\n",
    "head(mygenes)"
   ]
  },
  {
   "cell_type": "code",
   "execution_count": 179,
   "metadata": {},
   "outputs": [
    {
     "data": {
      "text/html": [
       "'ENSG00000005059_CCDC109B_beta_G.tsv'"
      ],
      "text/latex": [
       "'ENSG00000005059\\_CCDC109B\\_beta\\_G.tsv'"
      ],
      "text/markdown": [
       "'ENSG00000005059_CCDC109B_beta_G.tsv'"
      ],
      "text/plain": [
       "[1] \"ENSG00000005059_CCDC109B_beta_G.tsv\""
      ]
     },
     "metadata": {},
     "output_type": "display_data"
    },
    {
     "data": {
      "text/html": [
       "<table>\n",
       "<thead><tr><th></th><th scope=col>beta_G</th></tr></thead>\n",
       "<tbody>\n",
       "\t<tr><th scope=row>ENSG00000005059_CCDC109B-4_110648632_T_A</th><td>-0.008389961</td></tr>\n",
       "</tbody>\n",
       "</table>\n"
      ],
      "text/latex": [
       "\\begin{tabular}{r|l}\n",
       "  & beta\\_G\\\\\n",
       "\\hline\n",
       "\tENSG00000005059\\_CCDC109B-4\\_110648632\\_T\\_A & -0.008389961\\\\\n",
       "\\end{tabular}\n"
      ],
      "text/markdown": [
       "\n",
       "| <!--/--> | beta_G |\n",
       "|---|---|\n",
       "| ENSG00000005059_CCDC109B-4_110648632_T_A | -0.008389961 |\n",
       "\n"
      ],
      "text/plain": [
       "                                         beta_G      \n",
       "ENSG00000005059_CCDC109B-4_110648632_T_A -0.008389961"
      ]
     },
     "metadata": {},
     "output_type": "display_data"
    }
   ],
   "source": [
    "gene = mygenes[1]\n",
    "gene\n",
    "df0 = read.csv(paste0(mydir,gene),sep='\\t', row.names = 1)\n",
    "chrom = unlist(strsplit(rownames(df0),\"_\"))[1]\n",
    "pos = unlist(strsplit(rownames(df0),\"_\"))[3]\n",
    "alt = unlist(strsplit(rownames(df0),\"_\"))[4]\n",
    "ref = unlist(strsplit(rownames(df0),\"_\"))[5]\n",
    "snp = paste0(chrom,\"_\",pos,\"_\",alt,\"_\",ref)\n",
    "rownames(df0) = paste0(gsub(\"_beta_G.tsv\",\"\",gene),\"-\",snp)\n",
    "head(df0)"
   ]
  },
  {
   "cell_type": "code",
   "execution_count": 180,
   "metadata": {},
   "outputs": [
    {
     "data": {
      "text/html": [
       "519"
      ],
      "text/latex": [
       "519"
      ],
      "text/markdown": [
       "519"
      ],
      "text/plain": [
       "[1] 519"
      ]
     },
     "metadata": {},
     "output_type": "display_data"
    },
    {
     "data": {
      "text/html": [
       "<table>\n",
       "<thead><tr><th></th><th scope=col>beta_G</th></tr></thead>\n",
       "<tbody>\n",
       "\t<tr><th scope=row>ENSG00000005059_CCDC109B-4_110648632_T_A</th><td>-0.008389961</td></tr>\n",
       "\t<tr><th scope=row>ENSG00000006016_CRLF1-19_18669987_G_A</th><td> 0.014962175</td></tr>\n",
       "\t<tr><th scope=row>ENSG00000006459_KDM7A-7_139913409_G_A</th><td> 0.040277429</td></tr>\n",
       "\t<tr><th scope=row>ENSG00000008018_PSMB1-6_170790672_A_G</th><td> 0.108213085</td></tr>\n",
       "\t<tr><th scope=row>ENSG00000008324_SS18L2-3_42588598_G_C</th><td> 0.033467692</td></tr>\n",
       "\t<tr><th scope=row>ENSG00000013297_CLDN11-3_170402765_T_C</th><td>-0.116224572</td></tr>\n",
       "</tbody>\n",
       "</table>\n"
      ],
      "text/latex": [
       "\\begin{tabular}{r|l}\n",
       "  & beta\\_G\\\\\n",
       "\\hline\n",
       "\tENSG00000005059\\_CCDC109B-4\\_110648632\\_T\\_A & -0.008389961\\\\\n",
       "\tENSG00000006016\\_CRLF1-19\\_18669987\\_G\\_A &  0.014962175\\\\\n",
       "\tENSG00000006459\\_KDM7A-7\\_139913409\\_G\\_A &  0.040277429\\\\\n",
       "\tENSG00000008018\\_PSMB1-6\\_170790672\\_A\\_G &  0.108213085\\\\\n",
       "\tENSG00000008324\\_SS18L2-3\\_42588598\\_G\\_C &  0.033467692\\\\\n",
       "\tENSG00000013297\\_CLDN11-3\\_170402765\\_T\\_C & -0.116224572\\\\\n",
       "\\end{tabular}\n"
      ],
      "text/markdown": [
       "\n",
       "| <!--/--> | beta_G |\n",
       "|---|---|\n",
       "| ENSG00000005059_CCDC109B-4_110648632_T_A | -0.008389961 |\n",
       "| ENSG00000006016_CRLF1-19_18669987_G_A |  0.014962175 |\n",
       "| ENSG00000006459_KDM7A-7_139913409_G_A |  0.040277429 |\n",
       "| ENSG00000008018_PSMB1-6_170790672_A_G |  0.108213085 |\n",
       "| ENSG00000008324_SS18L2-3_42588598_G_C |  0.033467692 |\n",
       "| ENSG00000013297_CLDN11-3_170402765_T_C | -0.116224572 |\n",
       "\n"
      ],
      "text/plain": [
       "                                         beta_G      \n",
       "ENSG00000005059_CCDC109B-4_110648632_T_A -0.008389961\n",
       "ENSG00000006016_CRLF1-19_18669987_G_A     0.014962175\n",
       "ENSG00000006459_KDM7A-7_139913409_G_A     0.040277429\n",
       "ENSG00000008018_PSMB1-6_170790672_A_G     0.108213085\n",
       "ENSG00000008324_SS18L2-3_42588598_G_C     0.033467692\n",
       "ENSG00000013297_CLDN11-3_170402765_T_C   -0.116224572"
      ]
     },
     "metadata": {},
     "output_type": "display_data"
    }
   ],
   "source": [
    "df = data.frame()\n",
    "for (gene in mygenes){\n",
    "    df_curr = read.csv(paste0(mydir,gene),sep='\\t', row.names = 1)\n",
    "    chrom = unlist(strsplit(rownames(df_curr),\"_\"))[1]\n",
    "    pos = unlist(strsplit(rownames(df_curr),\"_\"))[3]\n",
    "    alt = unlist(strsplit(rownames(df_curr),\"_\"))[4]\n",
    "    ref = unlist(strsplit(rownames(df_curr),\"_\"))[5]\n",
    "    snp = paste0(chrom,\"_\",pos,\"_\",alt,\"_\",ref)\n",
    "    rownames(df_curr) = paste0(gsub(\"_beta_G.tsv\",\"\",gene),\"-\",snp)\n",
    "    df = rbind(df, df_curr)\n",
    "    }\n",
    "nrow(df)\n",
    "head(df)"
   ]
  },
  {
   "cell_type": "code",
   "execution_count": 181,
   "metadata": {},
   "outputs": [],
   "source": [
    "# filename = \"/hps/nobackup/stegle/users/acuomo/all_scripts/struct_LMM2/sc_endodiff/debug_May2021/genetic_effect/MOFA1/eqtl_persistent_genetic_effect_all.txt\"\n",
    "# filename = \"/hps/nobackup/stegle/users/acuomo/all_scripts/struct_LMM2/sc_endodiff/debug_May2021/genetic_effect/MOFA2/eqtl_persistent_genetic_effect_all.txt\"\n",
    "# filename = \"/hps/nobackup/stegle/users/acuomo/all_scripts/struct_LMM2/sc_endodiff/debug_May2021/genetic_effect/MOFA5/eqtl_persistent_genetic_effect_all.txt\"\n",
    "filename = \"/hps/nobackup/stegle/users/acuomo/all_scripts/struct_LMM2/sc_endodiff/debug_May2021/genetic_effect/MOFA20/eqtl_persistent_genetic_effect_all.txt\"\n",
    "write.table(df, filename, quote = F, sep =\"\\t\")"
   ]
  },
  {
   "cell_type": "code",
   "execution_count": null,
   "metadata": {},
   "outputs": [],
   "source": []
  },
  {
   "cell_type": "code",
   "execution_count": 182,
   "metadata": {},
   "outputs": [
    {
     "data": {
      "text/html": [
       "<ol class=list-inline>\n",
       "\t<li>'ENSG00000005059_CCDC109B-4_110648632_T_A'</li>\n",
       "\t<li>'ENSG00000006016_CRLF1-19_18669987_G_A'</li>\n",
       "\t<li>'ENSG00000006459_KDM7A-7_139913409_G_A'</li>\n",
       "\t<li>'ENSG00000008018_PSMB1-6_170790672_A_G'</li>\n",
       "\t<li>'ENSG00000008324_SS18L2-3_42588598_G_C'</li>\n",
       "\t<li>'ENSG00000013297_CLDN11-3_170402765_T_C'</li>\n",
       "</ol>\n"
      ],
      "text/latex": [
       "\\begin{enumerate*}\n",
       "\\item 'ENSG00000005059\\_CCDC109B-4\\_110648632\\_T\\_A'\n",
       "\\item 'ENSG00000006016\\_CRLF1-19\\_18669987\\_G\\_A'\n",
       "\\item 'ENSG00000006459\\_KDM7A-7\\_139913409\\_G\\_A'\n",
       "\\item 'ENSG00000008018\\_PSMB1-6\\_170790672\\_A\\_G'\n",
       "\\item 'ENSG00000008324\\_SS18L2-3\\_42588598\\_G\\_C'\n",
       "\\item 'ENSG00000013297\\_CLDN11-3\\_170402765\\_T\\_C'\n",
       "\\end{enumerate*}\n"
      ],
      "text/markdown": [
       "1. 'ENSG00000005059_CCDC109B-4_110648632_T_A'\n",
       "2. 'ENSG00000006016_CRLF1-19_18669987_G_A'\n",
       "3. 'ENSG00000006459_KDM7A-7_139913409_G_A'\n",
       "4. 'ENSG00000008018_PSMB1-6_170790672_A_G'\n",
       "5. 'ENSG00000008324_SS18L2-3_42588598_G_C'\n",
       "6. 'ENSG00000013297_CLDN11-3_170402765_T_C'\n",
       "\n",
       "\n"
      ],
      "text/plain": [
       "[1] \"ENSG00000005059_CCDC109B-4_110648632_T_A\"\n",
       "[2] \"ENSG00000006016_CRLF1-19_18669987_G_A\"   \n",
       "[3] \"ENSG00000006459_KDM7A-7_139913409_G_A\"   \n",
       "[4] \"ENSG00000008018_PSMB1-6_170790672_A_G\"   \n",
       "[5] \"ENSG00000008324_SS18L2-3_42588598_G_C\"   \n",
       "[6] \"ENSG00000013297_CLDN11-3_170402765_T_C\"  "
      ]
     },
     "metadata": {},
     "output_type": "display_data"
    }
   ],
   "source": [
    "eqtls0 = as.character(rownames(df))\n",
    "head(eqtls0)"
   ]
  },
  {
   "cell_type": "code",
   "execution_count": 183,
   "metadata": {},
   "outputs": [
    {
     "data": {
      "text/html": [
       "<table>\n",
       "<thead><tr><th scope=col>snp_id</th><th scope=col>feature</th><th scope=col>stage</th><th scope=col>eqtl</th></tr></thead>\n",
       "<tbody>\n",
       "\t<tr><td>11_57283988_C_T                       </td><td>ENSG00000134809_TIMM10                </td><td>ips                                   </td><td>ENSG00000134809_TIMM10-11_57283988_C_T</td></tr>\n",
       "\t<tr><td>12_56401085_G_A                       </td><td>ENSG00000197728_RPS26                 </td><td>ips                                   </td><td>ENSG00000197728_RPS26-12_56401085_G_A </td></tr>\n",
       "</tbody>\n",
       "</table>\n"
      ],
      "text/latex": [
       "\\begin{tabular}{r|llll}\n",
       " snp\\_id & feature & stage & eqtl\\\\\n",
       "\\hline\n",
       "\t 11\\_57283988\\_C\\_T                          & ENSG00000134809\\_TIMM10                       & ips                                            & ENSG00000134809\\_TIMM10-11\\_57283988\\_C\\_T\\\\\n",
       "\t 12\\_56401085\\_G\\_A                          & ENSG00000197728\\_RPS26                        & ips                                            & ENSG00000197728\\_RPS26-12\\_56401085\\_G\\_A \\\\\n",
       "\\end{tabular}\n"
      ],
      "text/markdown": [
       "\n",
       "| snp_id | feature | stage | eqtl |\n",
       "|---|---|---|---|\n",
       "| 11_57283988_C_T                        | ENSG00000134809_TIMM10                 | ips                                    | ENSG00000134809_TIMM10-11_57283988_C_T |\n",
       "| 12_56401085_G_A                        | ENSG00000197728_RPS26                  | ips                                    | ENSG00000197728_RPS26-12_56401085_G_A  |\n",
       "\n"
      ],
      "text/plain": [
       "  snp_id          feature                stage\n",
       "1 11_57283988_C_T ENSG00000134809_TIMM10 ips  \n",
       "2 12_56401085_G_A ENSG00000197728_RPS26  ips  \n",
       "  eqtl                                  \n",
       "1 ENSG00000134809_TIMM10-11_57283988_C_T\n",
       "2 ENSG00000197728_RPS26-12_56401085_G_A "
      ]
     },
     "metadata": {},
     "output_type": "display_data"
    }
   ],
   "source": [
    "input_files_dir = \"/hps/nobackup/stegle/users/acuomo/all_scripts/struct_LMM2/sc_endodiff/new/input_files/\"\n",
    "# endo_GxE_file = paste0(input_files_dir,\"endodiff_eqtl_allconditions_FDR10pct_scStructLMM_FDR5pct_MOFA1.csv\")\n",
    "# endo_GxE_file = paste0(input_files_dir,\"endodiff_eqtl_allconditions_FDR10pct_scStructLMM_FDR5pct_MOFA2.csv\")\n",
    "# endo_GxE_file = paste0(input_files_dir,\"endodiff_eqtl_allconditions_FDR10pct_scStructLMM_FDR5pct_MOFA5.csv\")\n",
    "endo_GxE_file = paste0(input_files_dir,\"endodiff_eqtl_allconditions_FDR10pct_scStructLMM_FDR5pct_MOFA20.csv\")\n",
    "df_endo = read.csv(endo_GxE_file)\n",
    "head(df_endo,2)"
   ]
  },
  {
   "cell_type": "code",
   "execution_count": 184,
   "metadata": {},
   "outputs": [],
   "source": [
    "eqtls1 = as.character(df_endo$eqtl)"
   ]
  },
  {
   "cell_type": "code",
   "execution_count": 185,
   "metadata": {},
   "outputs": [
    {
     "data": {
      "text/html": [
       "<ol class=list-inline>\n",
       "\t<li>'ENSG00000134809_TIMM10-11_57283988_C_T'</li>\n",
       "\t<li>'ENSG00000197728_RPS26-12_56401085_G_A'</li>\n",
       "\t<li>'ENSG00000198563_DDX39B-6_31486901_T_C'</li>\n",
       "\t<li>'ENSG00000163682_RPL9-4_39446549_G_A'</li>\n",
       "\t<li>'ENSG00000130305_NSUN5-7_72717933_C_T'</li>\n",
       "\t<li>'ENSG00000254870_ATP6V1G2-DDX39B-6_31486901_T_C'</li>\n",
       "</ol>\n"
      ],
      "text/latex": [
       "\\begin{enumerate*}\n",
       "\\item 'ENSG00000134809\\_TIMM10-11\\_57283988\\_C\\_T'\n",
       "\\item 'ENSG00000197728\\_RPS26-12\\_56401085\\_G\\_A'\n",
       "\\item 'ENSG00000198563\\_DDX39B-6\\_31486901\\_T\\_C'\n",
       "\\item 'ENSG00000163682\\_RPL9-4\\_39446549\\_G\\_A'\n",
       "\\item 'ENSG00000130305\\_NSUN5-7\\_72717933\\_C\\_T'\n",
       "\\item 'ENSG00000254870\\_ATP6V1G2-DDX39B-6\\_31486901\\_T\\_C'\n",
       "\\end{enumerate*}\n"
      ],
      "text/markdown": [
       "1. 'ENSG00000134809_TIMM10-11_57283988_C_T'\n",
       "2. 'ENSG00000197728_RPS26-12_56401085_G_A'\n",
       "3. 'ENSG00000198563_DDX39B-6_31486901_T_C'\n",
       "4. 'ENSG00000163682_RPL9-4_39446549_G_A'\n",
       "5. 'ENSG00000130305_NSUN5-7_72717933_C_T'\n",
       "6. 'ENSG00000254870_ATP6V1G2-DDX39B-6_31486901_T_C'\n",
       "\n",
       "\n"
      ],
      "text/plain": [
       "[1] \"ENSG00000134809_TIMM10-11_57283988_C_T\"        \n",
       "[2] \"ENSG00000197728_RPS26-12_56401085_G_A\"         \n",
       "[3] \"ENSG00000198563_DDX39B-6_31486901_T_C\"         \n",
       "[4] \"ENSG00000163682_RPL9-4_39446549_G_A\"           \n",
       "[5] \"ENSG00000130305_NSUN5-7_72717933_C_T\"          \n",
       "[6] \"ENSG00000254870_ATP6V1G2-DDX39B-6_31486901_T_C\""
      ]
     },
     "metadata": {},
     "output_type": "display_data"
    }
   ],
   "source": [
    "head(eqtls1)"
   ]
  },
  {
   "cell_type": "code",
   "execution_count": 186,
   "metadata": {},
   "outputs": [
    {
     "data": {
      "text/html": [
       "519"
      ],
      "text/latex": [
       "519"
      ],
      "text/markdown": [
       "519"
      ],
      "text/plain": [
       "[1] 519"
      ]
     },
     "metadata": {},
     "output_type": "display_data"
    },
    {
     "data": {
      "text/html": [
       "525"
      ],
      "text/latex": [
       "525"
      ],
      "text/markdown": [
       "525"
      ],
      "text/plain": [
       "[1] 525"
      ]
     },
     "metadata": {},
     "output_type": "display_data"
    },
    {
     "data": {
      "text/html": [
       "0"
      ],
      "text/latex": [
       "0"
      ],
      "text/markdown": [
       "0"
      ],
      "text/plain": [
       "[1] 0"
      ]
     },
     "metadata": {},
     "output_type": "display_data"
    }
   ],
   "source": [
    "length(eqtls0)\n",
    "length(eqtls1)\n",
    "length(eqtls0[!(eqtls0 %in% eqtls1)])"
   ]
  },
  {
   "cell_type": "code",
   "execution_count": 187,
   "metadata": {},
   "outputs": [
    {
     "data": {
      "text/html": [],
      "text/latex": [],
      "text/markdown": [],
      "text/plain": [
       "character(0)"
      ]
     },
     "metadata": {},
     "output_type": "display_data"
    }
   ],
   "source": [
    "eqtls0[!(eqtls0 %in% eqtls1)]"
   ]
  },
  {
   "cell_type": "code",
   "execution_count": 188,
   "metadata": {
    "scrolled": true
   },
   "outputs": [
    {
     "data": {
      "text/html": [
       "<ol class=list-inline>\n",
       "\t<li>'ENSG00000158473_CD1D-1_158159393_A_G'</li>\n",
       "\t<li>'ENSG00000084072_PPIE-1_40219280_T_C'</li>\n",
       "\t<li>'ENSG00000168275_COA6-1_234511503_A_G'</li>\n",
       "\t<li>'ENSG00000154309_DISP1-1_223196453_G_A'</li>\n",
       "\t<li>'ENSG00000065183_WDR3-1_118541748_C_T'</li>\n",
       "\t<li>'ENSG00000121644_DESI2-1_244884549_A_G'</li>\n",
       "</ol>\n"
      ],
      "text/latex": [
       "\\begin{enumerate*}\n",
       "\\item 'ENSG00000158473\\_CD1D-1\\_158159393\\_A\\_G'\n",
       "\\item 'ENSG00000084072\\_PPIE-1\\_40219280\\_T\\_C'\n",
       "\\item 'ENSG00000168275\\_COA6-1\\_234511503\\_A\\_G'\n",
       "\\item 'ENSG00000154309\\_DISP1-1\\_223196453\\_G\\_A'\n",
       "\\item 'ENSG00000065183\\_WDR3-1\\_118541748\\_C\\_T'\n",
       "\\item 'ENSG00000121644\\_DESI2-1\\_244884549\\_A\\_G'\n",
       "\\end{enumerate*}\n"
      ],
      "text/markdown": [
       "1. 'ENSG00000158473_CD1D-1_158159393_A_G'\n",
       "2. 'ENSG00000084072_PPIE-1_40219280_T_C'\n",
       "3. 'ENSG00000168275_COA6-1_234511503_A_G'\n",
       "4. 'ENSG00000154309_DISP1-1_223196453_G_A'\n",
       "5. 'ENSG00000065183_WDR3-1_118541748_C_T'\n",
       "6. 'ENSG00000121644_DESI2-1_244884549_A_G'\n",
       "\n",
       "\n"
      ],
      "text/plain": [
       "[1] \"ENSG00000158473_CD1D-1_158159393_A_G\" \n",
       "[2] \"ENSG00000084072_PPIE-1_40219280_T_C\"  \n",
       "[3] \"ENSG00000168275_COA6-1_234511503_A_G\" \n",
       "[4] \"ENSG00000154309_DISP1-1_223196453_G_A\"\n",
       "[5] \"ENSG00000065183_WDR3-1_118541748_C_T\" \n",
       "[6] \"ENSG00000121644_DESI2-1_244884549_A_G\""
      ]
     },
     "metadata": {},
     "output_type": "display_data"
    }
   ],
   "source": [
    "eqtls1[!(eqtls1 %in% eqtls0)]"
   ]
  },
  {
   "cell_type": "code",
   "execution_count": null,
   "metadata": {},
   "outputs": [],
   "source": []
  },
  {
   "cell_type": "code",
   "execution_count": null,
   "metadata": {},
   "outputs": [],
   "source": []
  }
 ],
 "metadata": {
  "kernelspec": {
   "display_name": "R",
   "language": "R",
   "name": "ir"
  },
  "language_info": {
   "codemirror_mode": "r",
   "file_extension": ".r",
   "mimetype": "text/x-r-source",
   "name": "R",
   "pygments_lexer": "r",
   "version": "3.6.1"
  }
 },
 "nbformat": 4,
 "nbformat_minor": 4
}
