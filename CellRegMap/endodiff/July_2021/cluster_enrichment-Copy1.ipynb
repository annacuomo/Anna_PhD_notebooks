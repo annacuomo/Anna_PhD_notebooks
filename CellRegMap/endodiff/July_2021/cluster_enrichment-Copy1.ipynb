{
 "cells": [
  {
   "cell_type": "code",
   "execution_count": 5,
   "id": "42467a48",
   "metadata": {},
   "outputs": [],
   "source": [
    "# if (!requireNamespace(\"BiocManager\", quietly = TRUE))\n",
    "#     install.packages(\"BiocManager\")\n",
    "\n",
    "# BiocManager::install(\"fgsea\")"
   ]
  },
  {
   "cell_type": "code",
   "execution_count": 6,
   "id": "4e113b90",
   "metadata": {},
   "outputs": [],
   "source": [
    "library(fgsea)\n",
    "library(dplyr)"
   ]
  },
  {
   "cell_type": "code",
   "execution_count": 7,
   "id": "09dcb7de",
   "metadata": {},
   "outputs": [],
   "source": [
    "GO_file = \"/hps/nobackup/stegle/users/acuomo/all_scripts/struct_LMM2/msigdb.v7.4.symbols.gmt.txt\"\n",
    "myGO = fgsea::gmtPathways(GO_file)"
   ]
  },
  {
   "cell_type": "code",
   "execution_count": 8,
   "id": "c7d94361",
   "metadata": {},
   "outputs": [],
   "source": [
    "filename = \"/hps/nobackup/stegle/users/acuomo/all_scripts/struct_LMM2/sc_endodiff/debug_May2021/genetic_effect/scaled_absolute_eff_sizes_20mofas_as_spatial_downsample_20pct_cluster_labels.csv\"\n",
    "df_clusters = read.csv(filename, row.names = 1)"
   ]
  },
  {
   "cell_type": "code",
   "execution_count": 9,
   "id": "938e18fc",
   "metadata": {},
   "outputs": [
    {
     "data": {
      "text/html": [
       "<table>\n",
       "<thead><tr><th></th><th scope=col>label</th><th scope=col>gene</th></tr></thead>\n",
       "<tbody>\n",
       "\t<tr><th scope=row>0</th><td>16                                       </td><td>ENSG00000005059_CCDC109B_-4_110648632_T_A</td></tr>\n",
       "\t<tr><th scope=row>1</th><td>16                                       </td><td>ENSG00000006016_CRLF1_-19_18735221_G_T   </td></tr>\n",
       "</tbody>\n",
       "</table>\n"
      ],
      "text/latex": [
       "\\begin{tabular}{r|ll}\n",
       "  & label & gene\\\\\n",
       "\\hline\n",
       "\t0 & 16                                                  & ENSG00000005059\\_CCDC109B\\_-4\\_110648632\\_T\\_A\\\\\n",
       "\t1 & 16                                                  & ENSG00000006016\\_CRLF1\\_-19\\_18735221\\_G\\_T   \\\\\n",
       "\\end{tabular}\n"
      ],
      "text/markdown": [
       "\n",
       "| <!--/--> | label | gene |\n",
       "|---|---|---|\n",
       "| 0 | 16                                        | ENSG00000005059_CCDC109B_-4_110648632_T_A |\n",
       "| 1 | 16                                        | ENSG00000006016_CRLF1_-19_18735221_G_T    |\n",
       "\n"
      ],
      "text/plain": [
       "  label gene                                     \n",
       "0 16    ENSG00000005059_CCDC109B_-4_110648632_T_A\n",
       "1 16    ENSG00000006016_CRLF1_-19_18735221_G_T   "
      ]
     },
     "metadata": {},
     "output_type": "display_data"
    }
   ],
   "source": [
    "head(df_clusters[,c(\"label\",\"gene\")],2)"
   ]
  },
  {
   "cell_type": "code",
   "execution_count": 10,
   "id": "9280f0f4",
   "metadata": {},
   "outputs": [
    {
     "data": {
      "text/html": [
       "<table>\n",
       "<thead><tr><th></th><th scope=col>cluster0</th><th scope=col>cluster1</th><th scope=col>cluster2</th><th scope=col>cluster3</th><th scope=col>cluster4</th><th scope=col>cluster5</th><th scope=col>cluster6</th><th scope=col>cluster7</th><th scope=col>cluster8</th><th scope=col>cluster9</th><th scope=col>cluster10</th><th scope=col>cluster11</th><th scope=col>cluster12</th><th scope=col>cluster13</th><th scope=col>cluster14</th><th scope=col>cluster15</th><th scope=col>cluster16</th></tr></thead>\n",
       "<tbody>\n",
       "\t<tr><th scope=row>21241_6#101</th><td> 0.2507479 </td><td>0.4205593  </td><td>-0.5014652 </td><td>0.2928452  </td><td>-0.1241073 </td><td>1.1162674  </td><td>0.686837   </td><td>-0.4045079 </td><td>-0.08604902</td><td>0.3840519  </td><td>1.203841701</td><td> 0.49455310</td><td> 1.1934878 </td><td> 0.86092678</td><td>0.3522783  </td><td>0.4010664  </td><td>0.3738378  </td></tr>\n",
       "\t<tr><th scope=row>21241_6#104</th><td>-0.1288142 </td><td>1.0546755  </td><td> 0.1398840 </td><td>0.7488747  </td><td> 0.3678931 </td><td>0.8531244  </td><td>0.983805   </td><td> 1.2775621 </td><td>-0.32772498</td><td>1.0927810  </td><td>0.007358882</td><td>-0.05449019</td><td>-0.0328414 </td><td>-0.09641719</td><td>0.6181342  </td><td>0.2365938  </td><td>0.3239782  </td></tr>\n",
       "</tbody>\n",
       "</table>\n"
      ],
      "text/latex": [
       "\\begin{tabular}{r|lllllllllllllllll}\n",
       "  & cluster0 & cluster1 & cluster2 & cluster3 & cluster4 & cluster5 & cluster6 & cluster7 & cluster8 & cluster9 & cluster10 & cluster11 & cluster12 & cluster13 & cluster14 & cluster15 & cluster16\\\\\n",
       "\\hline\n",
       "\t21241\\_6\\#101 &  0.2507479  & 0.4205593   & -0.5014652  & 0.2928452   & -0.1241073  & 1.1162674   & 0.686837    & -0.4045079  & -0.08604902 & 0.3840519   & 1.203841701 &  0.49455310 &  1.1934878  &  0.86092678 & 0.3522783   & 0.4010664   & 0.3738378  \\\\\n",
       "\t21241\\_6\\#104 & -0.1288142  & 1.0546755   &  0.1398840  & 0.7488747   &  0.3678931  & 0.8531244   & 0.983805    &  1.2775621  & -0.32772498 & 1.0927810   & 0.007358882 & -0.05449019 & -0.0328414  & -0.09641719 & 0.6181342   & 0.2365938   & 0.3239782  \\\\\n",
       "\\end{tabular}\n"
      ],
      "text/markdown": [
       "\n",
       "| <!--/--> | cluster0 | cluster1 | cluster2 | cluster3 | cluster4 | cluster5 | cluster6 | cluster7 | cluster8 | cluster9 | cluster10 | cluster11 | cluster12 | cluster13 | cluster14 | cluster15 | cluster16 |\n",
       "|---|---|---|---|---|---|---|---|---|---|---|---|---|---|---|---|---|---|\n",
       "| 21241_6#101 |  0.2507479  | 0.4205593   | -0.5014652  | 0.2928452   | -0.1241073  | 1.1162674   | 0.686837    | -0.4045079  | -0.08604902 | 0.3840519   | 1.203841701 |  0.49455310 |  1.1934878  |  0.86092678 | 0.3522783   | 0.4010664   | 0.3738378   |\n",
       "| 21241_6#104 | -0.1288142  | 1.0546755   |  0.1398840  | 0.7488747   |  0.3678931  | 0.8531244   | 0.983805    |  1.2775621  | -0.32772498 | 1.0927810   | 0.007358882 | -0.05449019 | -0.0328414  | -0.09641719 | 0.6181342   | 0.2365938   | 0.3239782   |\n",
       "\n"
      ],
      "text/plain": [
       "            cluster0   cluster1  cluster2   cluster3  cluster4   cluster5 \n",
       "21241_6#101  0.2507479 0.4205593 -0.5014652 0.2928452 -0.1241073 1.1162674\n",
       "21241_6#104 -0.1288142 1.0546755  0.1398840 0.7488747  0.3678931 0.8531244\n",
       "            cluster6 cluster7   cluster8    cluster9  cluster10   cluster11  \n",
       "21241_6#101 0.686837 -0.4045079 -0.08604902 0.3840519 1.203841701  0.49455310\n",
       "21241_6#104 0.983805  1.2775621 -0.32772498 1.0927810 0.007358882 -0.05449019\n",
       "            cluster12  cluster13   cluster14 cluster15 cluster16\n",
       "21241_6#101  1.1934878  0.86092678 0.3522783 0.4010664 0.3738378\n",
       "21241_6#104 -0.0328414 -0.09641719 0.6181342 0.2365938 0.3239782"
      ]
     },
     "metadata": {},
     "output_type": "display_data"
    }
   ],
   "source": [
    "# load cluster summaries\n",
    "cluster_summaries = read.csv(\"/hps/nobackup/stegle/users/acuomo/all_scripts/struct_LMM2/sc_endodiff/debug_May2021/genetic_effect/scaled_absolute_eff_sizes_20mofas_as_spatial_downsample_20pct_cluster_summaries.csv\", row.names=1)\n",
    "colnames(cluster_summaries) = paste0(\"cluster\",0:16)\n",
    "head(cluster_summaries,2)"
   ]
  },
  {
   "cell_type": "code",
   "execution_count": 11,
   "id": "2024876b",
   "metadata": {},
   "outputs": [],
   "source": [
    "###################################################### \n",
    "### approach 1: enrichment of genes (eQTL) in the clusters"
   ]
  },
  {
   "cell_type": "code",
   "execution_count": 12,
   "id": "6dff0493",
   "metadata": {},
   "outputs": [
    {
     "data": {
      "text/html": [
       "<table>\n",
       "<thead><tr><th></th><th scope=col>ENSG00000005059_CCDC109B_-4_110648632_T_A</th><th scope=col>ENSG00000006016_CRLF1_-19_18735221_G_T</th><th scope=col>ENSG00000006459_KDM7A_-7_139913409_G_A</th><th scope=col>ENSG00000013297_CLDN11_-3_170402765_T_C</th><th scope=col>ENSG00000021300_PLEKHB1_-11_73339784_G_A</th><th scope=col>ENSG00000029639_TFB1M_-6_155635808_C_G</th><th scope=col>ENSG00000033178_UBA6_-4_68480525_C_T</th><th scope=col>ENSG00000035115_SH3YL1_-2_256116_G_T</th><th scope=col>ENSG00000059377_TBXAS1_-7_139547370_G_A</th><th scope=col>ENSG00000063761_ADCK1_-14_78311319_G_A</th><th scope=col>...</th><th scope=col>ENSG00000248098_BCKDHA_-19_41937095_G_A</th><th scope=col>ENSG00000248124_RRN3P1_-16_21818292_A_C</th><th scope=col>ENSG00000250317_SMIM20_-4_25918516_A_G</th><th scope=col>ENSG00000253203_GUSBP3_-5_68922087_T_G</th><th scope=col>ENSG00000254184_TYW1B_-7_72200923_G_A</th><th scope=col>ENSG00000256018_HIST1H3G_-6_26198845_G_C</th><th scope=col>ENSG00000256073_C21orf119_-21_33728588_C_A</th><th scope=col>ENSG00000259024_TVP23C-CDRT4_-17_15434991_C_T</th><th scope=col>ENSG00000259803_SLC22A31_-16_89234110_G_C</th><th scope=col>ENSG00000267323_SLC25A1P5_-19_28298186_T_C</th></tr></thead>\n",
       "<tbody>\n",
       "\t<tr><th scope=row>21843_1#10</th><td>-0.02336156 </td><td> 0.037167263</td><td>-0.02962768 </td><td>0.1829698   </td><td>-0.03793941 </td><td>-0.02932441 </td><td> 0.03139850 </td><td>-0.03962300 </td><td>0.08013833  </td><td>0.02749838  </td><td>...         </td><td>-0.08185803 </td><td>-0.1086237  </td><td>-0.10317566 </td><td>-0.04854321 </td><td>0.095111678 </td><td>-0.002571070</td><td>-0.05560833 </td><td>0.1931245   </td><td>-0.06168149 </td><td> 0.05468625 </td></tr>\n",
       "\t<tr><th scope=row>21843_1#100</th><td>-0.04797379 </td><td>-0.002567715</td><td>-0.05030368 </td><td>0.1420454   </td><td>-0.06425603 </td><td>-0.01789411 </td><td>-0.06468377 </td><td>-0.08820444 </td><td>0.23273882  </td><td>0.04037590  </td><td>...         </td><td>-0.16133495 </td><td>-0.4557181  </td><td>-0.09858982 </td><td>-0.09564130 </td><td>0.007662211 </td><td>-0.001386594</td><td>-0.09411877 </td><td>0.2614240   </td><td>-0.16271379 </td><td>-0.03705185 </td></tr>\n",
       "</tbody>\n",
       "</table>\n"
      ],
      "text/latex": [
       "\\begin{tabular}{r|llllllllllllllllllllllllllllllllllllllllllllllllllllllllllllllllllllllllllllllllllllllllllllllllllllllllllllllllllllllllllllllllllllllllllllllllllllllllllllllllllllllllllllllllllllllllllllllllllllllllllllllllllllllllllllllllllllllllllllllllllllllllllllllllllllllllllllllllllllllllllllllllllllllllllllllllllllllllllllllllll}\n",
       "  & ENSG00000005059\\_CCDC109B\\_-4\\_110648632\\_T\\_A & ENSG00000006016\\_CRLF1\\_-19\\_18735221\\_G\\_T & ENSG00000006459\\_KDM7A\\_-7\\_139913409\\_G\\_A & ENSG00000013297\\_CLDN11\\_-3\\_170402765\\_T\\_C & ENSG00000021300\\_PLEKHB1\\_-11\\_73339784\\_G\\_A & ENSG00000029639\\_TFB1M\\_-6\\_155635808\\_C\\_G & ENSG00000033178\\_UBA6\\_-4\\_68480525\\_C\\_T & ENSG00000035115\\_SH3YL1\\_-2\\_256116\\_G\\_T & ENSG00000059377\\_TBXAS1\\_-7\\_139547370\\_G\\_A & ENSG00000063761\\_ADCK1\\_-14\\_78311319\\_G\\_A & ... & ENSG00000248098\\_BCKDHA\\_-19\\_41937095\\_G\\_A & ENSG00000248124\\_RRN3P1\\_-16\\_21818292\\_A\\_C & ENSG00000250317\\_SMIM20\\_-4\\_25918516\\_A\\_G & ENSG00000253203\\_GUSBP3\\_-5\\_68922087\\_T\\_G & ENSG00000254184\\_TYW1B\\_-7\\_72200923\\_G\\_A & ENSG00000256018\\_HIST1H3G\\_-6\\_26198845\\_G\\_C & ENSG00000256073\\_C21orf119\\_-21\\_33728588\\_C\\_A & ENSG00000259024\\_TVP23C-CDRT4\\_-17\\_15434991\\_C\\_T & ENSG00000259803\\_SLC22A31\\_-16\\_89234110\\_G\\_C & ENSG00000267323\\_SLC25A1P5\\_-19\\_28298186\\_T\\_C\\\\\n",
       "\\hline\n",
       "\t21843\\_1\\#10 & -0.02336156  &  0.037167263 & -0.02962768  & 0.1829698    & -0.03793941  & -0.02932441  &  0.03139850  & -0.03962300  & 0.08013833   & 0.02749838   & ...          & -0.08185803  & -0.1086237   & -0.10317566  & -0.04854321  & 0.095111678  & -0.002571070 & -0.05560833  & 0.1931245    & -0.06168149  &  0.05468625 \\\\\n",
       "\t21843\\_1\\#100 & -0.04797379  & -0.002567715 & -0.05030368  & 0.1420454    & -0.06425603  & -0.01789411  & -0.06468377  & -0.08820444  & 0.23273882   & 0.04037590   & ...          & -0.16133495  & -0.4557181   & -0.09858982  & -0.09564130  & 0.007662211  & -0.001386594 & -0.09411877  & 0.2614240    & -0.16271379  & -0.03705185 \\\\\n",
       "\\end{tabular}\n"
      ],
      "text/markdown": [
       "\n",
       "| <!--/--> | ENSG00000005059_CCDC109B_-4_110648632_T_A | ENSG00000006016_CRLF1_-19_18735221_G_T | ENSG00000006459_KDM7A_-7_139913409_G_A | ENSG00000013297_CLDN11_-3_170402765_T_C | ENSG00000021300_PLEKHB1_-11_73339784_G_A | ENSG00000029639_TFB1M_-6_155635808_C_G | ENSG00000033178_UBA6_-4_68480525_C_T | ENSG00000035115_SH3YL1_-2_256116_G_T | ENSG00000059377_TBXAS1_-7_139547370_G_A | ENSG00000063761_ADCK1_-14_78311319_G_A | ... | ENSG00000248098_BCKDHA_-19_41937095_G_A | ENSG00000248124_RRN3P1_-16_21818292_A_C | ENSG00000250317_SMIM20_-4_25918516_A_G | ENSG00000253203_GUSBP3_-5_68922087_T_G | ENSG00000254184_TYW1B_-7_72200923_G_A | ENSG00000256018_HIST1H3G_-6_26198845_G_C | ENSG00000256073_C21orf119_-21_33728588_C_A | ENSG00000259024_TVP23C-CDRT4_-17_15434991_C_T | ENSG00000259803_SLC22A31_-16_89234110_G_C | ENSG00000267323_SLC25A1P5_-19_28298186_T_C |\n",
       "|---|---|---|---|---|---|---|---|---|---|---|---|---|---|---|---|---|---|---|---|---|---|\n",
       "| 21843_1#10 | -0.02336156  |  0.037167263 | -0.02962768  | 0.1829698    | -0.03793941  | -0.02932441  |  0.03139850  | -0.03962300  | 0.08013833   | 0.02749838   | ...          | -0.08185803  | -0.1086237   | -0.10317566  | -0.04854321  | 0.095111678  | -0.002571070 | -0.05560833  | 0.1931245    | -0.06168149  |  0.05468625  |\n",
       "| 21843_1#100 | -0.04797379  | -0.002567715 | -0.05030368  | 0.1420454    | -0.06425603  | -0.01789411  | -0.06468377  | -0.08820444  | 0.23273882   | 0.04037590   | ...          | -0.16133495  | -0.4557181   | -0.09858982  | -0.09564130  | 0.007662211  | -0.001386594 | -0.09411877  | 0.2614240    | -0.16271379  | -0.03705185  |\n",
       "\n"
      ],
      "text/plain": [
       "            ENSG00000005059_CCDC109B_-4_110648632_T_A\n",
       "21843_1#10  -0.02336156                              \n",
       "21843_1#100 -0.04797379                              \n",
       "            ENSG00000006016_CRLF1_-19_18735221_G_T\n",
       "21843_1#10   0.037167263                          \n",
       "21843_1#100 -0.002567715                          \n",
       "            ENSG00000006459_KDM7A_-7_139913409_G_A\n",
       "21843_1#10  -0.02962768                           \n",
       "21843_1#100 -0.05030368                           \n",
       "            ENSG00000013297_CLDN11_-3_170402765_T_C\n",
       "21843_1#10  0.1829698                              \n",
       "21843_1#100 0.1420454                              \n",
       "            ENSG00000021300_PLEKHB1_-11_73339784_G_A\n",
       "21843_1#10  -0.03793941                             \n",
       "21843_1#100 -0.06425603                             \n",
       "            ENSG00000029639_TFB1M_-6_155635808_C_G\n",
       "21843_1#10  -0.02932441                           \n",
       "21843_1#100 -0.01789411                           \n",
       "            ENSG00000033178_UBA6_-4_68480525_C_T\n",
       "21843_1#10   0.03139850                         \n",
       "21843_1#100 -0.06468377                         \n",
       "            ENSG00000035115_SH3YL1_-2_256116_G_T\n",
       "21843_1#10  -0.03962300                         \n",
       "21843_1#100 -0.08820444                         \n",
       "            ENSG00000059377_TBXAS1_-7_139547370_G_A\n",
       "21843_1#10  0.08013833                             \n",
       "21843_1#100 0.23273882                             \n",
       "            ENSG00000063761_ADCK1_-14_78311319_G_A ...\n",
       "21843_1#10  0.02749838                             ...\n",
       "21843_1#100 0.04037590                             ...\n",
       "            ENSG00000248098_BCKDHA_-19_41937095_G_A\n",
       "21843_1#10  -0.08185803                            \n",
       "21843_1#100 -0.16133495                            \n",
       "            ENSG00000248124_RRN3P1_-16_21818292_A_C\n",
       "21843_1#10  -0.1086237                             \n",
       "21843_1#100 -0.4557181                             \n",
       "            ENSG00000250317_SMIM20_-4_25918516_A_G\n",
       "21843_1#10  -0.10317566                           \n",
       "21843_1#100 -0.09858982                           \n",
       "            ENSG00000253203_GUSBP3_-5_68922087_T_G\n",
       "21843_1#10  -0.04854321                           \n",
       "21843_1#100 -0.09564130                           \n",
       "            ENSG00000254184_TYW1B_-7_72200923_G_A\n",
       "21843_1#10  0.095111678                          \n",
       "21843_1#100 0.007662211                          \n",
       "            ENSG00000256018_HIST1H3G_-6_26198845_G_C\n",
       "21843_1#10  -0.002571070                            \n",
       "21843_1#100 -0.001386594                            \n",
       "            ENSG00000256073_C21orf119_-21_33728588_C_A\n",
       "21843_1#10  -0.05560833                               \n",
       "21843_1#100 -0.09411877                               \n",
       "            ENSG00000259024_TVP23C-CDRT4_-17_15434991_C_T\n",
       "21843_1#10  0.1931245                                    \n",
       "21843_1#100 0.2614240                                    \n",
       "            ENSG00000259803_SLC22A31_-16_89234110_G_C\n",
       "21843_1#10  -0.06168149                              \n",
       "21843_1#100 -0.16271379                              \n",
       "            ENSG00000267323_SLC25A1P5_-19_28298186_T_C\n",
       "21843_1#10   0.05468625                               \n",
       "21843_1#100 -0.03705185                               "
      ]
     },
     "metadata": {},
     "output_type": "display_data"
    },
    {
     "data": {
      "text/html": [
       "33964"
      ],
      "text/latex": [
       "33964"
      ],
      "text/markdown": [
       "33964"
      ],
      "text/plain": [
       "[1] 33964"
      ]
     },
     "metadata": {},
     "output_type": "display_data"
    }
   ],
   "source": [
    "## load individual eQTL genetic effects\n",
    "df = read.csv(\"/hps/nobackup/stegle/users/acuomo/all_scripts/struct_LMM2/sc_endodiff/debug_May2021/genetic_effect/MOFA10/eqtl_tot_genetic_effect_all.txt\", sep=\"\\t\",row.names = 1)\n",
    "colnames(df) = gsub(\"\\\\.\",\"-\",colnames(df))\n",
    "head(df,2)\n",
    "nrow(df)"
   ]
  },
  {
   "cell_type": "code",
   "execution_count": 13,
   "id": "9af35fbe",
   "metadata": {
    "scrolled": true
   },
   "outputs": [
    {
     "data": {
      "text/html": [
       "<dl class=dl-horizontal>\n",
       "\t<dt>ENSG00000173401_GLIPR1L1_-12_75737206_G_A</dt>\n",
       "\t\t<dd>0.541595421682668</dd>\n",
       "\t<dt>ENSG00000145506_NKD2_-5_1026433_G_T</dt>\n",
       "\t\t<dd>0.375097060590432</dd>\n",
       "\t<dt>ENSG00000173295_FAM86B3P_-8_8107585_C_A</dt>\n",
       "\t\t<dd>0.301467941325078</dd>\n",
       "\t<dt>ENSG00000124588_NQO2_-6_3000303_A_C</dt>\n",
       "\t\t<dd>-0.377176160097229</dd>\n",
       "</dl>\n"
      ],
      "text/latex": [
       "\\begin{description*}\n",
       "\\item[ENSG00000173401\\textbackslash{}\\_GLIPR1L1\\textbackslash{}\\_-12\\textbackslash{}\\_75737206\\textbackslash{}\\_G\\textbackslash{}\\_A] 0.541595421682668\n",
       "\\item[ENSG00000145506\\textbackslash{}\\_NKD2\\textbackslash{}\\_-5\\textbackslash{}\\_1026433\\textbackslash{}\\_G\\textbackslash{}\\_T] 0.375097060590432\n",
       "\\item[ENSG00000173295\\textbackslash{}\\_FAM86B3P\\textbackslash{}\\_-8\\textbackslash{}\\_8107585\\textbackslash{}\\_C\\textbackslash{}\\_A] 0.301467941325078\n",
       "\\item[ENSG00000124588\\textbackslash{}\\_NQO2\\textbackslash{}\\_-6\\textbackslash{}\\_3000303\\textbackslash{}\\_A\\textbackslash{}\\_C] -0.377176160097229\n",
       "\\end{description*}\n"
      ],
      "text/markdown": [
       "ENSG00000173401_GLIPR1L1_-12_75737206_G_A\n",
       ":   0.541595421682668ENSG00000145506_NKD2_-5_1026433_G_T\n",
       ":   0.375097060590432ENSG00000173295_FAM86B3P_-8_8107585_C_A\n",
       ":   0.301467941325078ENSG00000124588_NQO2_-6_3000303_A_C\n",
       ":   -0.377176160097229\n",
       "\n"
      ],
      "text/plain": [
       "ENSG00000173401_GLIPR1L1_-12_75737206_G_A \n",
       "                                0.5415954 \n",
       "      ENSG00000145506_NKD2_-5_1026433_G_T \n",
       "                                0.3750971 \n",
       "  ENSG00000173295_FAM86B3P_-8_8107585_C_A \n",
       "                                0.3014679 \n",
       "      ENSG00000124588_NQO2_-6_3000303_A_C \n",
       "                               -0.3771762 "
      ]
     },
     "metadata": {},
     "output_type": "display_data"
    }
   ],
   "source": [
    "cluster = 14\n",
    "gene_list = c()\n",
    "genes = df_clusters[df_clusters$label==cluster,\"gene\"]\n",
    "for (gene in genes){\n",
    "    gene_list = c(gene_list, cor(df[rownames(cluster_summaries),gene], cluster_summaries[,cluster+1]))\n",
    "}\n",
    "names(gene_list) = genes\n",
    "gene_list = gene_list[order(gene_list, decreasing=T)]\n",
    "gene_list"
   ]
  },
  {
   "cell_type": "code",
   "execution_count": 14,
   "id": "fc8b954e",
   "metadata": {},
   "outputs": [],
   "source": [
    "## for gprofiler https://biit.cs.ut.ee/gprofiler/gost"
   ]
  },
  {
   "cell_type": "code",
   "execution_count": 15,
   "id": "bea9f86c",
   "metadata": {},
   "outputs": [
    {
     "data": {
      "text/plain": [
       "[1] GLIPR1L1 NKD2     FAM86B3P NQO2    "
      ]
     },
     "metadata": {},
     "output_type": "display_data"
    }
   ],
   "source": [
    "# cluster 14\n",
    "noquote(gsub(\".*_\",\"\",gsub(\"_-.*\",\"\",names(gene_list))))"
   ]
  },
  {
   "cell_type": "code",
   "execution_count": 16,
   "id": "4d1354b6",
   "metadata": {},
   "outputs": [],
   "source": [
    "##########################################################################################\n",
    "### approach 2: enrichment of genes correlated with each clusters (using the cluster summaries)"
   ]
  },
  {
   "cell_type": "code",
   "execution_count": 17,
   "id": "2dd34eba",
   "metadata": {},
   "outputs": [],
   "source": [
    "input_files_dir = \"/hps/nobackup/stegle/users/acuomo/all_scripts/struct_LMM2/sc_endodiff/new/input_files/\"\n",
    "# Phenotype\n",
    "phenotype_file = paste0(input_files_dir,\"phenotype.csv\")"
   ]
  },
  {
   "cell_type": "code",
   "execution_count": 18,
   "id": "4a16d893",
   "metadata": {},
   "outputs": [
    {
     "data": {
      "text/html": [
       "<table>\n",
       "<thead><tr><th></th><th scope=col>21843_1#10</th><th scope=col>21843_1#100</th><th scope=col>21843_1#101</th><th scope=col>21843_1#102</th><th scope=col>21843_1#103</th></tr></thead>\n",
       "<tbody>\n",
       "\t<tr><th scope=row>ENSG00000000003_TSPAN6</th><td>5.5207770563</td><td>6.4562078   </td><td>5.878671    </td><td>4.8608241   </td><td>5.903640    </td></tr>\n",
       "\t<tr><th scope=row>ENSG00000000419_DPM1</th><td>5.3924605058</td><td>6.0659226   </td><td>6.838769    </td><td>6.6142685   </td><td>6.512403    </td></tr>\n",
       "\t<tr><th scope=row>ENSG00000000457_SCYL3</th><td>0.0001741556</td><td>0.3525966   </td><td>0.000000    </td><td>0.8259555   </td><td>2.201697    </td></tr>\n",
       "\t<tr><th scope=row>ENSG00000000460_C1orf112</th><td>1.4719275194</td><td>4.5369683   </td><td>4.318528    </td><td>5.3730090   </td><td>4.636175    </td></tr>\n",
       "\t<tr><th scope=row>ENSG00000001036_FUCA2</th><td>2.9088018801</td><td>3.8673273   </td><td>3.321747    </td><td>3.7364760   </td><td>4.917576    </td></tr>\n",
       "</tbody>\n",
       "</table>\n"
      ],
      "text/latex": [
       "\\begin{tabular}{r|lllll}\n",
       "  & 21843\\_1\\#10 & 21843\\_1\\#100 & 21843\\_1\\#101 & 21843\\_1\\#102 & 21843\\_1\\#103\\\\\n",
       "\\hline\n",
       "\tENSG00000000003\\_TSPAN6 & 5.5207770563 & 6.4562078    & 5.878671     & 4.8608241    & 5.903640    \\\\\n",
       "\tENSG00000000419\\_DPM1 & 5.3924605058 & 6.0659226    & 6.838769     & 6.6142685    & 6.512403    \\\\\n",
       "\tENSG00000000457\\_SCYL3 & 0.0001741556 & 0.3525966    & 0.000000     & 0.8259555    & 2.201697    \\\\\n",
       "\tENSG00000000460\\_C1orf112 & 1.4719275194 & 4.5369683    & 4.318528     & 5.3730090    & 4.636175    \\\\\n",
       "\tENSG00000001036\\_FUCA2 & 2.9088018801 & 3.8673273    & 3.321747     & 3.7364760    & 4.917576    \\\\\n",
       "\\end{tabular}\n"
      ],
      "text/markdown": [
       "\n",
       "| <!--/--> | 21843_1#10 | 21843_1#100 | 21843_1#101 | 21843_1#102 | 21843_1#103 |\n",
       "|---|---|---|---|---|---|\n",
       "| ENSG00000000003_TSPAN6 | 5.5207770563 | 6.4562078    | 5.878671     | 4.8608241    | 5.903640     |\n",
       "| ENSG00000000419_DPM1 | 5.3924605058 | 6.0659226    | 6.838769     | 6.6142685    | 6.512403     |\n",
       "| ENSG00000000457_SCYL3 | 0.0001741556 | 0.3525966    | 0.000000     | 0.8259555    | 2.201697     |\n",
       "| ENSG00000000460_C1orf112 | 1.4719275194 | 4.5369683    | 4.318528     | 5.3730090    | 4.636175     |\n",
       "| ENSG00000001036_FUCA2 | 2.9088018801 | 3.8673273    | 3.321747     | 3.7364760    | 4.917576     |\n",
       "\n"
      ],
      "text/plain": [
       "                         21843_1#10   21843_1#100 21843_1#101 21843_1#102\n",
       "ENSG00000000003_TSPAN6   5.5207770563 6.4562078   5.878671    4.8608241  \n",
       "ENSG00000000419_DPM1     5.3924605058 6.0659226   6.838769    6.6142685  \n",
       "ENSG00000000457_SCYL3    0.0001741556 0.3525966   0.000000    0.8259555  \n",
       "ENSG00000000460_C1orf112 1.4719275194 4.5369683   4.318528    5.3730090  \n",
       "ENSG00000001036_FUCA2    2.9088018801 3.8673273   3.321747    3.7364760  \n",
       "                         21843_1#103\n",
       "ENSG00000000003_TSPAN6   5.903640   \n",
       "ENSG00000000419_DPM1     6.512403   \n",
       "ENSG00000000457_SCYL3    2.201697   \n",
       "ENSG00000000460_C1orf112 4.636175   \n",
       "ENSG00000001036_FUCA2    4.917576   "
      ]
     },
     "metadata": {},
     "output_type": "display_data"
    }
   ],
   "source": [
    "df0 = read.csv(phenotype_file, row.names=1)\n",
    "colnames(df0) = gsub(\"\\\\.\",\"#\",colnames(df0))\n",
    "colnames(df0) = sub(\".\",\"\",colnames(df0))\n",
    "df0[1:5,1:5]"
   ]
  },
  {
   "cell_type": "code",
   "execution_count": 19,
   "id": "e53347bd",
   "metadata": {},
   "outputs": [
    {
     "data": {
      "text/html": [
       "34256"
      ],
      "text/latex": [
       "34256"
      ],
      "text/markdown": [
       "34256"
      ],
      "text/plain": [
       "[1] 34256"
      ]
     },
     "metadata": {},
     "output_type": "display_data"
    },
    {
     "data": {
      "text/html": [
       "6809"
      ],
      "text/latex": [
       "6809"
      ],
      "text/markdown": [
       "6809"
      ],
      "text/plain": [
       "[1] 6809"
      ]
     },
     "metadata": {},
     "output_type": "display_data"
    },
    {
     "data": {
      "text/html": [
       "<table>\n",
       "<thead><tr><th></th><th scope=col>21241_6#101</th><th scope=col>21241_6#104</th><th scope=col>21241_6#105</th><th scope=col>21241_6#111</th><th scope=col>21241_6#112</th></tr></thead>\n",
       "<tbody>\n",
       "\t<tr><th scope=row>ENSG00000000003_TSPAN6</th><td>3.8440581</td><td>6.1634316</td><td>4.6724579</td><td>4.0896162</td><td>6.112655 </td></tr>\n",
       "\t<tr><th scope=row>ENSG00000000419_DPM1</th><td>6.0441420</td><td>6.1924969</td><td>6.7683899</td><td>5.8303792</td><td>7.272333 </td></tr>\n",
       "\t<tr><th scope=row>ENSG00000000457_SCYL3</th><td>0.2319908</td><td>0.3103204</td><td>0.7722554</td><td>0.2570971</td><td>3.277097 </td></tr>\n",
       "\t<tr><th scope=row>ENSG00000000460_C1orf112</th><td>1.0123370</td><td>4.1553163</td><td>3.8089331</td><td>1.3274994</td><td>3.035646 </td></tr>\n",
       "\t<tr><th scope=row>ENSG00000001036_FUCA2</th><td>0.0000000</td><td>0.0000000</td><td>0.0000000</td><td>3.2319960</td><td>5.531081 </td></tr>\n",
       "</tbody>\n",
       "</table>\n"
      ],
      "text/latex": [
       "\\begin{tabular}{r|lllll}\n",
       "  & 21241\\_6\\#101 & 21241\\_6\\#104 & 21241\\_6\\#105 & 21241\\_6\\#111 & 21241\\_6\\#112\\\\\n",
       "\\hline\n",
       "\tENSG00000000003\\_TSPAN6 & 3.8440581 & 6.1634316 & 4.6724579 & 4.0896162 & 6.112655 \\\\\n",
       "\tENSG00000000419\\_DPM1 & 6.0441420 & 6.1924969 & 6.7683899 & 5.8303792 & 7.272333 \\\\\n",
       "\tENSG00000000457\\_SCYL3 & 0.2319908 & 0.3103204 & 0.7722554 & 0.2570971 & 3.277097 \\\\\n",
       "\tENSG00000000460\\_C1orf112 & 1.0123370 & 4.1553163 & 3.8089331 & 1.3274994 & 3.035646 \\\\\n",
       "\tENSG00000001036\\_FUCA2 & 0.0000000 & 0.0000000 & 0.0000000 & 3.2319960 & 5.531081 \\\\\n",
       "\\end{tabular}\n"
      ],
      "text/markdown": [
       "\n",
       "| <!--/--> | 21241_6#101 | 21241_6#104 | 21241_6#105 | 21241_6#111 | 21241_6#112 |\n",
       "|---|---|---|---|---|---|\n",
       "| ENSG00000000003_TSPAN6 | 3.8440581 | 6.1634316 | 4.6724579 | 4.0896162 | 6.112655  |\n",
       "| ENSG00000000419_DPM1 | 6.0441420 | 6.1924969 | 6.7683899 | 5.8303792 | 7.272333  |\n",
       "| ENSG00000000457_SCYL3 | 0.2319908 | 0.3103204 | 0.7722554 | 0.2570971 | 3.277097  |\n",
       "| ENSG00000000460_C1orf112 | 1.0123370 | 4.1553163 | 3.8089331 | 1.3274994 | 3.035646  |\n",
       "| ENSG00000001036_FUCA2 | 0.0000000 | 0.0000000 | 0.0000000 | 3.2319960 | 5.531081  |\n",
       "\n"
      ],
      "text/plain": [
       "                         21241_6#101 21241_6#104 21241_6#105 21241_6#111\n",
       "ENSG00000000003_TSPAN6   3.8440581   6.1634316   4.6724579   4.0896162  \n",
       "ENSG00000000419_DPM1     6.0441420   6.1924969   6.7683899   5.8303792  \n",
       "ENSG00000000457_SCYL3    0.2319908   0.3103204   0.7722554   0.2570971  \n",
       "ENSG00000000460_C1orf112 1.0123370   4.1553163   3.8089331   1.3274994  \n",
       "ENSG00000001036_FUCA2    0.0000000   0.0000000   0.0000000   3.2319960  \n",
       "                         21241_6#112\n",
       "ENSG00000000003_TSPAN6   6.112655   \n",
       "ENSG00000000419_DPM1     7.272333   \n",
       "ENSG00000000457_SCYL3    3.277097   \n",
       "ENSG00000000460_C1orf112 3.035646   \n",
       "ENSG00000001036_FUCA2    5.531081   "
      ]
     },
     "metadata": {},
     "output_type": "display_data"
    }
   ],
   "source": [
    "df1 = df0[,rownames(cluster_summaries)]\n",
    "ncol(df0)\n",
    "ncol(df1)\n",
    "df1[1:5,1:5]"
   ]
  },
  {
   "cell_type": "code",
   "execution_count": 20,
   "id": "5f9a0f67",
   "metadata": {},
   "outputs": [
    {
     "data": {
      "text/html": [
       "11231"
      ],
      "text/latex": [
       "11231"
      ],
      "text/markdown": [
       "11231"
      ],
      "text/plain": [
       "[1] 11231"
      ]
     },
     "metadata": {},
     "output_type": "display_data"
    },
    {
     "data": {
      "text/html": [
       "<ol class=list-inline>\n",
       "\t<li>'ENSG00000000003_TSPAN6'</li>\n",
       "\t<li>'ENSG00000000419_DPM1'</li>\n",
       "\t<li>'ENSG00000000457_SCYL3'</li>\n",
       "\t<li>'ENSG00000000460_C1orf112'</li>\n",
       "\t<li>'ENSG00000001036_FUCA2'</li>\n",
       "\t<li>'ENSG00000001084_GCLC'</li>\n",
       "</ol>\n"
      ],
      "text/latex": [
       "\\begin{enumerate*}\n",
       "\\item 'ENSG00000000003\\_TSPAN6'\n",
       "\\item 'ENSG00000000419\\_DPM1'\n",
       "\\item 'ENSG00000000457\\_SCYL3'\n",
       "\\item 'ENSG00000000460\\_C1orf112'\n",
       "\\item 'ENSG00000001036\\_FUCA2'\n",
       "\\item 'ENSG00000001084\\_GCLC'\n",
       "\\end{enumerate*}\n"
      ],
      "text/markdown": [
       "1. 'ENSG00000000003_TSPAN6'\n",
       "2. 'ENSG00000000419_DPM1'\n",
       "3. 'ENSG00000000457_SCYL3'\n",
       "4. 'ENSG00000000460_C1orf112'\n",
       "5. 'ENSG00000001036_FUCA2'\n",
       "6. 'ENSG00000001084_GCLC'\n",
       "\n",
       "\n"
      ],
      "text/plain": [
       "[1] \"ENSG00000000003_TSPAN6\"   \"ENSG00000000419_DPM1\"    \n",
       "[3] \"ENSG00000000457_SCYL3\"    \"ENSG00000000460_C1orf112\"\n",
       "[5] \"ENSG00000001036_FUCA2\"    \"ENSG00000001084_GCLC\"    "
      ]
     },
     "metadata": {},
     "output_type": "display_data"
    }
   ],
   "source": [
    "genes = rownames(df1)\n",
    "length(genes)\n",
    "head(genes)"
   ]
  },
  {
   "cell_type": "code",
   "execution_count": null,
   "id": "db0c42a1",
   "metadata": {},
   "outputs": [],
   "source": [
    "mat = matrix(0,nrow = length(genes), ncol = ncol(cluster_summaries))\n",
    "rownames(mat) = genes\n",
    "colnames(mat) = colnames(cluster_summaries)\n",
    "for (cluster in 0:16){\n",
    "    for (gene in genes){\n",
    "        mat[gene,cluster+1] = cor(as.numeric(df1[gene,]), cluster_summaries[,cluster+1])\n",
    "    }\n",
    "}"
   ]
  },
  {
   "cell_type": "code",
   "execution_count": null,
   "id": "9ae572ec",
   "metadata": {},
   "outputs": [],
   "source": [
    "df_mat = as.data.frame(mat)\n",
    "head(df_mat)\n",
    "write.csv(df_mat, \"/hps/nobackup/stegle/users/acuomo/all_scripts/struct_LMM2/sc_endodiff/debug_May2021/genetic_effect/gene_expression_correlation_abs_cluster_summaries.csv\")\n"
   ]
  },
  {
   "cell_type": "code",
   "execution_count": null,
   "id": "4f44b134",
   "metadata": {},
   "outputs": [],
   "source": [
    "for (i in 1:ncol(mat)){\n",
    "    print(hist(mat[,i]))\n",
    "}"
   ]
  },
  {
   "cell_type": "code",
   "execution_count": null,
   "id": "d488aa13",
   "metadata": {},
   "outputs": [],
   "source": []
  }
 ],
 "metadata": {
  "kernelspec": {
   "display_name": "R",
   "language": "R",
   "name": "ir"
  },
  "language_info": {
   "codemirror_mode": "r",
   "file_extension": ".r",
   "mimetype": "text/x-r-source",
   "name": "R",
   "pygments_lexer": "r",
   "version": "3.6.1"
  }
 },
 "nbformat": 4,
 "nbformat_minor": 5
}
