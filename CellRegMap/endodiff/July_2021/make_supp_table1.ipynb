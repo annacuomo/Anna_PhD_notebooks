{
 "cells": [
  {
   "cell_type": "code",
   "execution_count": 25,
   "id": "6e98ffae",
   "metadata": {},
   "outputs": [],
   "source": [
    "library(qvalue)\n",
    "library(dplyr)"
   ]
  },
  {
   "cell_type": "code",
   "execution_count": 8,
   "id": "83b30c32",
   "metadata": {},
   "outputs": [],
   "source": [
    "mydir = \"/hps/nobackup/stegle/users/acuomo/all_scripts/struct_LMM2/sc_endodiff/debug_May2021/\""
   ]
  },
  {
   "cell_type": "code",
   "execution_count": 9,
   "id": "9d93b3d9",
   "metadata": {},
   "outputs": [
    {
     "data": {
      "text/html": [
       "4470"
      ],
      "text/latex": [
       "4470"
      ],
      "text/markdown": [
       "4470"
      ],
      "text/plain": [
       "[1] 4470"
      ]
     },
     "metadata": {},
     "output_type": "display_data"
    },
    {
     "data": {
      "text/html": [
       "<table>\n",
       "<thead><tr><th></th><th scope=col>gene</th><th scope=col>n_snps</th><th scope=col>chrom</th><th scope=col>pv_raw</th><th scope=col>snpID</th><th scope=col>pv</th></tr></thead>\n",
       "<tbody>\n",
       "\t<tr><th scope=row>0</th><td>ENSG00000140905_GCSH </td><td>1                    </td><td>16                   </td><td>0.02606257           </td><td>16_81118466_A_G      </td><td>0.02606257           </td></tr>\n",
       "\t<tr><th scope=row>1</th><td>ENSG00000011523_CEP68</td><td>2                    </td><td> 2                   </td><td>0.03995225           </td><td>2_65279223_C_T       </td><td>0.07990451           </td></tr>\n",
       "</tbody>\n",
       "</table>\n"
      ],
      "text/latex": [
       "\\begin{tabular}{r|llllll}\n",
       "  & gene & n\\_snps & chrom & pv\\_raw & snpID & pv\\\\\n",
       "\\hline\n",
       "\t0 & ENSG00000140905\\_GCSH  & 1                       & 16                      & 0.02606257              & 16\\_81118466\\_A\\_G   & 0.02606257             \\\\\n",
       "\t1 & ENSG00000011523\\_CEP68 & 2                       &  2                      & 0.03995225              & 2\\_65279223\\_C\\_T    & 0.07990451             \\\\\n",
       "\\end{tabular}\n"
      ],
      "text/markdown": [
       "\n",
       "| <!--/--> | gene | n_snps | chrom | pv_raw | snpID | pv |\n",
       "|---|---|---|---|---|---|---|\n",
       "| 0 | ENSG00000140905_GCSH  | 1                     | 16                    | 0.02606257            | 16_81118466_A_G       | 0.02606257            |\n",
       "| 1 | ENSG00000011523_CEP68 | 2                     |  2                    | 0.03995225            | 2_65279223_C_T        | 0.07990451            |\n",
       "\n"
      ],
      "text/plain": [
       "  gene                  n_snps chrom pv_raw     snpID           pv        \n",
       "0 ENSG00000140905_GCSH  1      16    0.02606257 16_81118466_A_G 0.02606257\n",
       "1 ENSG00000011523_CEP68 2       2    0.03995225 2_65279223_C_T  0.07990451"
      ]
     },
     "metadata": {},
     "output_type": "display_data"
    }
   ],
   "source": [
    "########## MOFA 10\n",
    "file1 = paste0(mydir, \"MOFA10/new4/summary.csv\")\n",
    "df1 = read.csv(file1, row.names=1)\n",
    "nrow(df1)\n",
    "head(df1,2)"
   ]
  },
  {
   "cell_type": "code",
   "execution_count": 10,
   "id": "ba84c4df",
   "metadata": {},
   "outputs": [],
   "source": [
    "df1 <- df1[order(df1$pv, df1$pv_raw),]\n",
    "df1 = df1[-which(duplicated(df1$gene)),]\n",
    "df1$qv = qvalue(df1$pv, pi0 = 1)$qvalue"
   ]
  },
  {
   "cell_type": "code",
   "execution_count": 11,
   "id": "36abfbfd",
   "metadata": {},
   "outputs": [
    {
     "data": {
      "text/html": [
       "322"
      ],
      "text/latex": [
       "322"
      ],
      "text/markdown": [
       "322"
      ],
      "text/plain": [
       "[1] 322"
      ]
     },
     "metadata": {},
     "output_type": "display_data"
    }
   ],
   "source": [
    "df2 = df1[df1$qv < 0.05,]\n",
    "nrow(df2)"
   ]
  },
  {
   "cell_type": "code",
   "execution_count": 23,
   "id": "24f74ccf",
   "metadata": {},
   "outputs": [
    {
     "data": {
      "text/html": [
       "<table>\n",
       "<thead><tr><th></th><th scope=col>gene</th><th scope=col>n_snps</th><th scope=col>chrom</th><th scope=col>pv_raw</th><th scope=col>snpID</th><th scope=col>pv</th><th scope=col>qv</th><th scope=col>eqtl</th></tr></thead>\n",
       "<tbody>\n",
       "\t<tr><th scope=row>3483</th><td>ENSG00000169877_AHSP                  </td><td>2                                     </td><td>16                                    </td><td>4.441206e-52                          </td><td>16_31522723_T_C                       </td><td>8.882413e-52                          </td><td>2.877902e-48                          </td><td>ENSG00000169877_AHSP-16_31522723_T_C  </td></tr>\n",
       "\t<tr><th scope=row>207</th><td>ENSG00000229150_CRYGEP                </td><td>2                                     </td><td> 2                                    </td><td>2.649644e-48                          </td><td>2_208977797_G_T                       </td><td>5.299288e-48                          </td><td>8.584846e-45                          </td><td>ENSG00000229150_CRYGEP-2_208977797_G_T</td></tr>\n",
       "</tbody>\n",
       "</table>\n"
      ],
      "text/latex": [
       "\\begin{tabular}{r|llllllll}\n",
       "  & gene & n\\_snps & chrom & pv\\_raw & snpID & pv & qv & eqtl\\\\\n",
       "\\hline\n",
       "\t3483 & ENSG00000169877\\_AHSP                         & 2                                              & 16                                             & 4.441206e-52                                   & 16\\_31522723\\_T\\_C                          & 8.882413e-52                                   & 2.877902e-48                                   & ENSG00000169877\\_AHSP-16\\_31522723\\_T\\_C  \\\\\n",
       "\t207 & ENSG00000229150\\_CRYGEP                       & 2                                              &  2                                             & 2.649644e-48                                   & 2\\_208977797\\_G\\_T                          & 5.299288e-48                                   & 8.584846e-45                                   & ENSG00000229150\\_CRYGEP-2\\_208977797\\_G\\_T\\\\\n",
       "\\end{tabular}\n"
      ],
      "text/markdown": [
       "\n",
       "| <!--/--> | gene | n_snps | chrom | pv_raw | snpID | pv | qv | eqtl |\n",
       "|---|---|---|---|---|---|---|---|---|\n",
       "| 3483 | ENSG00000169877_AHSP                   | 2                                      | 16                                     | 4.441206e-52                           | 16_31522723_T_C                        | 8.882413e-52                           | 2.877902e-48                           | ENSG00000169877_AHSP-16_31522723_T_C   |\n",
       "| 207 | ENSG00000229150_CRYGEP                 | 2                                      |  2                                     | 2.649644e-48                           | 2_208977797_G_T                        | 5.299288e-48                           | 8.584846e-45                           | ENSG00000229150_CRYGEP-2_208977797_G_T |\n",
       "\n"
      ],
      "text/plain": [
       "     gene                   n_snps chrom pv_raw       snpID          \n",
       "3483 ENSG00000169877_AHSP   2      16    4.441206e-52 16_31522723_T_C\n",
       "207  ENSG00000229150_CRYGEP 2       2    2.649644e-48 2_208977797_G_T\n",
       "     pv           qv           eqtl                                  \n",
       "3483 8.882413e-52 2.877902e-48 ENSG00000169877_AHSP-16_31522723_T_C  \n",
       "207  5.299288e-48 8.584846e-45 ENSG00000229150_CRYGEP-2_208977797_G_T"
      ]
     },
     "metadata": {},
     "output_type": "display_data"
    }
   ],
   "source": [
    "df2$eqtl = paste0(df2$gene,\"-\",df2$snpID)\n",
    "head(df2,2)"
   ]
  },
  {
   "cell_type": "code",
   "execution_count": 32,
   "id": "99028b48",
   "metadata": {},
   "outputs": [
    {
     "data": {
      "text/html": [
       "322"
      ],
      "text/latex": [
       "322"
      ],
      "text/markdown": [
       "322"
      ],
      "text/plain": [
       "[1] 322"
      ]
     },
     "metadata": {},
     "output_type": "display_data"
    },
    {
     "data": {
      "text/html": [
       "<table>\n",
       "<thead><tr><th></th><th scope=col>beta_GxC</th><th scope=col>eqtl</th></tr></thead>\n",
       "<tbody>\n",
       "\t<tr><th scope=row>0</th><td>0.1511622                               </td><td>ENSG00000005059_CCDC109B-4_110648632_T_A</td></tr>\n",
       "\t<tr><th scope=row>1</th><td>0.1957095                               </td><td>ENSG00000006016_CRLF1-19_18735221_G_T   </td></tr>\n",
       "</tbody>\n",
       "</table>\n"
      ],
      "text/latex": [
       "\\begin{tabular}{r|ll}\n",
       "  & beta\\_GxC & eqtl\\\\\n",
       "\\hline\n",
       "\t0 & 0.1511622                                        & ENSG00000005059\\_CCDC109B-4\\_110648632\\_T\\_A\\\\\n",
       "\t1 & 0.1957095                                        & ENSG00000006016\\_CRLF1-19\\_18735221\\_G\\_T   \\\\\n",
       "\\end{tabular}\n"
      ],
      "text/markdown": [
       "\n",
       "| <!--/--> | beta_GxC | eqtl |\n",
       "|---|---|---|\n",
       "| 0 | 0.1511622                                | ENSG00000005059_CCDC109B-4_110648632_T_A |\n",
       "| 1 | 0.1957095                                | ENSG00000006016_CRLF1-19_18735221_G_T    |\n",
       "\n"
      ],
      "text/plain": [
       "  beta_GxC  eqtl                                    \n",
       "0 0.1511622 ENSG00000005059_CCDC109B-4_110648632_T_A\n",
       "1 0.1957095 ENSG00000006016_CRLF1-19_18735221_G_T   "
      ]
     },
     "metadata": {},
     "output_type": "display_data"
    }
   ],
   "source": [
    "### betaGxC estimate of magnitude\n",
    "df_beta = read.csv(\"/hps/nobackup/stegle/users/acuomo/all_scripts/struct_LMM2/sc_endodiff/debug_May2021/genetic_effect/MOFA10/eqtl_est_single_GxE_genetic_effects.csv\", row.names=1)\n",
    "colnames(df_beta)[1] = \"beta_GxC\"\n",
    "df_beta$eqtl = gsub(\"_-\",\"-\",df_beta$eqtl)\n",
    "nrow(df_beta)\n",
    "head(df_beta,2)"
   ]
  },
  {
   "cell_type": "code",
   "execution_count": 33,
   "id": "644aa963",
   "metadata": {},
   "outputs": [
    {
     "data": {
      "text/html": [
       "322"
      ],
      "text/latex": [
       "322"
      ],
      "text/markdown": [
       "322"
      ],
      "text/plain": [
       "[1] 322"
      ]
     },
     "metadata": {},
     "output_type": "display_data"
    },
    {
     "data": {
      "text/html": [
       "<table>\n",
       "<thead><tr><th></th><th scope=col>beta_G</th><th scope=col>eqtl</th></tr></thead>\n",
       "<tbody>\n",
       "\t<tr><th scope=row>ENSG00000005059_CCDC109B-4_110648632_T_A</th><td>-0.005477985                            </td><td>ENSG00000005059_CCDC109B-4_110648632_T_A</td></tr>\n",
       "\t<tr><th scope=row>ENSG00000006016_CRLF1-19_18735221_G_T</th><td>-0.056811980                            </td><td>ENSG00000006016_CRLF1-19_18735221_G_T   </td></tr>\n",
       "</tbody>\n",
       "</table>\n"
      ],
      "text/latex": [
       "\\begin{tabular}{r|ll}\n",
       "  & beta\\_G & eqtl\\\\\n",
       "\\hline\n",
       "\tENSG00000005059\\_CCDC109B-4\\_110648632\\_T\\_A & -0.005477985                                     & ENSG00000005059\\_CCDC109B-4\\_110648632\\_T\\_A\\\\\n",
       "\tENSG00000006016\\_CRLF1-19\\_18735221\\_G\\_T & -0.056811980                                     & ENSG00000006016\\_CRLF1-19\\_18735221\\_G\\_T   \\\\\n",
       "\\end{tabular}\n"
      ],
      "text/markdown": [
       "\n",
       "| <!--/--> | beta_G | eqtl |\n",
       "|---|---|---|\n",
       "| ENSG00000005059_CCDC109B-4_110648632_T_A | -0.005477985                             | ENSG00000005059_CCDC109B-4_110648632_T_A |\n",
       "| ENSG00000006016_CRLF1-19_18735221_G_T | -0.056811980                             | ENSG00000006016_CRLF1-19_18735221_G_T    |\n",
       "\n"
      ],
      "text/plain": [
       "                                         beta_G      \n",
       "ENSG00000005059_CCDC109B-4_110648632_T_A -0.005477985\n",
       "ENSG00000006016_CRLF1-19_18735221_G_T    -0.056811980\n",
       "                                         eqtl                                    \n",
       "ENSG00000005059_CCDC109B-4_110648632_T_A ENSG00000005059_CCDC109B-4_110648632_T_A\n",
       "ENSG00000006016_CRLF1-19_18735221_G_T    ENSG00000006016_CRLF1-19_18735221_G_T   "
      ]
     },
     "metadata": {},
     "output_type": "display_data"
    }
   ],
   "source": [
    "### betaG's across cells from model \n",
    "df_betaG = read.csv(\"/hps/nobackup/stegle/users/acuomo/all_scripts/struct_LMM2/sc_endodiff/debug_May2021/genetic_effect/MOFA10/eqtl_persistent_genetic_effect_all.txt\", sep=\"\\t\",row.names = 1)\n",
    "df_betaG$eqtl = rownames(df_betaG)\n",
    "nrow(df_betaG)\n",
    "head(df_betaG,2)"
   ]
  },
  {
   "cell_type": "code",
   "execution_count": 34,
   "id": "b155b8cb",
   "metadata": {},
   "outputs": [
    {
     "name": "stderr",
     "output_type": "stream",
     "text": [
      "Joining, by = \"eqtl\"\n"
     ]
    },
    {
     "data": {
      "text/html": [
       "322"
      ],
      "text/latex": [
       "322"
      ],
      "text/markdown": [
       "322"
      ],
      "text/plain": [
       "[1] 322"
      ]
     },
     "metadata": {},
     "output_type": "display_data"
    },
    {
     "data": {
      "text/html": [
       "<table>\n",
       "<thead><tr><th scope=col>beta_GxC</th><th scope=col>eqtl</th><th scope=col>beta_G</th></tr></thead>\n",
       "<tbody>\n",
       "\t<tr><td>0.1511622                               </td><td>ENSG00000005059_CCDC109B-4_110648632_T_A</td><td>-0.005477985                            </td></tr>\n",
       "\t<tr><td>0.1957095                               </td><td>ENSG00000006016_CRLF1-19_18735221_G_T   </td><td>-0.056811980                            </td></tr>\n",
       "</tbody>\n",
       "</table>\n"
      ],
      "text/latex": [
       "\\begin{tabular}{r|lll}\n",
       " beta\\_GxC & eqtl & beta\\_G\\\\\n",
       "\\hline\n",
       "\t 0.1511622                                        & ENSG00000005059\\_CCDC109B-4\\_110648632\\_T\\_A & -0.005477985                                    \\\\\n",
       "\t 0.1957095                                        & ENSG00000006016\\_CRLF1-19\\_18735221\\_G\\_T    & -0.056811980                                    \\\\\n",
       "\\end{tabular}\n"
      ],
      "text/markdown": [
       "\n",
       "| beta_GxC | eqtl | beta_G |\n",
       "|---|---|---|\n",
       "| 0.1511622                                | ENSG00000005059_CCDC109B-4_110648632_T_A | -0.005477985                             |\n",
       "| 0.1957095                                | ENSG00000006016_CRLF1-19_18735221_G_T    | -0.056811980                             |\n",
       "\n"
      ],
      "text/plain": [
       "  beta_GxC  eqtl                                     beta_G      \n",
       "1 0.1511622 ENSG00000005059_CCDC109B-4_110648632_T_A -0.005477985\n",
       "2 0.1957095 ENSG00000006016_CRLF1-19_18735221_G_T    -0.056811980"
      ]
     },
     "metadata": {},
     "output_type": "display_data"
    }
   ],
   "source": [
    "df_betas = inner_join(df_beta, df_betaG)\n",
    "nrow(df_betas)\n",
    "head(df_betas,2)"
   ]
  },
  {
   "cell_type": "code",
   "execution_count": 35,
   "id": "8683d0bf",
   "metadata": {},
   "outputs": [
    {
     "name": "stderr",
     "output_type": "stream",
     "text": [
      "Joining, by = \"eqtl\"\n"
     ]
    },
    {
     "data": {
      "text/html": [
       "322"
      ],
      "text/latex": [
       "322"
      ],
      "text/markdown": [
       "322"
      ],
      "text/plain": [
       "[1] 322"
      ]
     },
     "metadata": {},
     "output_type": "display_data"
    },
    {
     "data": {
      "text/html": [
       "<table>\n",
       "<thead><tr><th scope=col>gene</th><th scope=col>n_snps</th><th scope=col>chrom</th><th scope=col>pv_raw</th><th scope=col>snpID</th><th scope=col>pv</th><th scope=col>qv</th><th scope=col>eqtl</th><th scope=col>beta_GxC</th><th scope=col>beta_G</th></tr></thead>\n",
       "<tbody>\n",
       "\t<tr><td>ENSG00000169877_AHSP                  </td><td>2                                     </td><td>16                                    </td><td>4.441206e-52                          </td><td>16_31522723_T_C                       </td><td>8.882413e-52                          </td><td>2.877902e-48                          </td><td>ENSG00000169877_AHSP-16_31522723_T_C  </td><td>0.4599185                             </td><td>-0.1091049                            </td></tr>\n",
       "\t<tr><td>ENSG00000229150_CRYGEP                </td><td>2                                     </td><td> 2                                    </td><td>2.649644e-48                          </td><td>2_208977797_G_T                       </td><td>5.299288e-48                          </td><td>8.584846e-45                          </td><td>ENSG00000229150_CRYGEP-2_208977797_G_T</td><td>0.5432607                             </td><td> 0.2356903                            </td></tr>\n",
       "</tbody>\n",
       "</table>\n"
      ],
      "text/latex": [
       "\\begin{tabular}{r|llllllllll}\n",
       " gene & n\\_snps & chrom & pv\\_raw & snpID & pv & qv & eqtl & beta\\_GxC & beta\\_G\\\\\n",
       "\\hline\n",
       "\t ENSG00000169877\\_AHSP                         & 2                                              & 16                                             & 4.441206e-52                                   & 16\\_31522723\\_T\\_C                          & 8.882413e-52                                   & 2.877902e-48                                   & ENSG00000169877\\_AHSP-16\\_31522723\\_T\\_C   & 0.4599185                                      & -0.1091049                                    \\\\\n",
       "\t ENSG00000229150\\_CRYGEP                       & 2                                              &  2                                             & 2.649644e-48                                   & 2\\_208977797\\_G\\_T                          & 5.299288e-48                                   & 8.584846e-45                                   & ENSG00000229150\\_CRYGEP-2\\_208977797\\_G\\_T & 0.5432607                                      &  0.2356903                                    \\\\\n",
       "\\end{tabular}\n"
      ],
      "text/markdown": [
       "\n",
       "| gene | n_snps | chrom | pv_raw | snpID | pv | qv | eqtl | beta_GxC | beta_G |\n",
       "|---|---|---|---|---|---|---|---|---|---|\n",
       "| ENSG00000169877_AHSP                   | 2                                      | 16                                     | 4.441206e-52                           | 16_31522723_T_C                        | 8.882413e-52                           | 2.877902e-48                           | ENSG00000169877_AHSP-16_31522723_T_C   | 0.4599185                              | -0.1091049                             |\n",
       "| ENSG00000229150_CRYGEP                 | 2                                      |  2                                     | 2.649644e-48                           | 2_208977797_G_T                        | 5.299288e-48                           | 8.584846e-45                           | ENSG00000229150_CRYGEP-2_208977797_G_T | 0.5432607                              |  0.2356903                             |\n",
       "\n"
      ],
      "text/plain": [
       "  gene                   n_snps chrom pv_raw       snpID           pv          \n",
       "1 ENSG00000169877_AHSP   2      16    4.441206e-52 16_31522723_T_C 8.882413e-52\n",
       "2 ENSG00000229150_CRYGEP 2       2    2.649644e-48 2_208977797_G_T 5.299288e-48\n",
       "  qv           eqtl                                   beta_GxC  beta_G    \n",
       "1 2.877902e-48 ENSG00000169877_AHSP-16_31522723_T_C   0.4599185 -0.1091049\n",
       "2 8.584846e-45 ENSG00000229150_CRYGEP-2_208977797_G_T 0.5432607  0.2356903"
      ]
     },
     "metadata": {},
     "output_type": "display_data"
    }
   ],
   "source": [
    "df3 = inner_join(df2, df_betas)\n",
    "nrow(df3)\n",
    "head(df3,2)"
   ]
  },
  {
   "cell_type": "code",
   "execution_count": 37,
   "id": "541b4479",
   "metadata": {},
   "outputs": [
    {
     "data": {
      "text/html": [
       "<table>\n",
       "<thead><tr><th scope=col>gene</th><th scope=col>n_snps</th><th scope=col>chrom</th><th scope=col>pv_raw</th><th scope=col>snpID</th><th scope=col>pv</th><th scope=col>qv</th><th scope=col>eqtl</th><th scope=col>beta_GxC</th><th scope=col>beta_G</th><th scope=col>ensembl_gene_id</th><th scope=col>gene_name</th><th scope=col>snp_id</th></tr></thead>\n",
       "<tbody>\n",
       "\t<tr><td>ENSG00000169877_AHSP                  </td><td>2                                     </td><td>16                                    </td><td>4.441206e-52                          </td><td>16_31522723_T_C                       </td><td>8.882413e-52                          </td><td>2.877902e-48                          </td><td>ENSG00000169877_AHSP-16_31522723_T_C  </td><td>0.4599185                             </td><td>-0.1091049                            </td><td>ENSG00000169877                       </td><td>AHSP                                  </td><td>16_31522723_T_C                       </td></tr>\n",
       "\t<tr><td>ENSG00000229150_CRYGEP                </td><td>2                                     </td><td> 2                                    </td><td>2.649644e-48                          </td><td>2_208977797_G_T                       </td><td>5.299288e-48                          </td><td>8.584846e-45                          </td><td>ENSG00000229150_CRYGEP-2_208977797_G_T</td><td>0.5432607                             </td><td> 0.2356903                            </td><td>ENSG00000229150                       </td><td>CRYGEP                                </td><td>2_208977797_G_T                       </td></tr>\n",
       "</tbody>\n",
       "</table>\n"
      ],
      "text/latex": [
       "\\begin{tabular}{r|lllllllllllll}\n",
       " gene & n\\_snps & chrom & pv\\_raw & snpID & pv & qv & eqtl & beta\\_GxC & beta\\_G & ensembl\\_gene\\_id & gene\\_name & snp\\_id\\\\\n",
       "\\hline\n",
       "\t ENSG00000169877\\_AHSP                         & 2                                              & 16                                             & 4.441206e-52                                   & 16\\_31522723\\_T\\_C                          & 8.882413e-52                                   & 2.877902e-48                                   & ENSG00000169877\\_AHSP-16\\_31522723\\_T\\_C   & 0.4599185                                      & -0.1091049                                     & ENSG00000169877                                & AHSP                                           & 16\\_31522723\\_T\\_C                         \\\\\n",
       "\t ENSG00000229150\\_CRYGEP                       & 2                                              &  2                                             & 2.649644e-48                                   & 2\\_208977797\\_G\\_T                          & 5.299288e-48                                   & 8.584846e-45                                   & ENSG00000229150\\_CRYGEP-2\\_208977797\\_G\\_T & 0.5432607                                      &  0.2356903                                     & ENSG00000229150                                & CRYGEP                                         & 2\\_208977797\\_G\\_T                         \\\\\n",
       "\\end{tabular}\n"
      ],
      "text/markdown": [
       "\n",
       "| gene | n_snps | chrom | pv_raw | snpID | pv | qv | eqtl | beta_GxC | beta_G | ensembl_gene_id | gene_name | snp_id |\n",
       "|---|---|---|---|---|---|---|---|---|---|---|---|---|\n",
       "| ENSG00000169877_AHSP                   | 2                                      | 16                                     | 4.441206e-52                           | 16_31522723_T_C                        | 8.882413e-52                           | 2.877902e-48                           | ENSG00000169877_AHSP-16_31522723_T_C   | 0.4599185                              | -0.1091049                             | ENSG00000169877                        | AHSP                                   | 16_31522723_T_C                        |\n",
       "| ENSG00000229150_CRYGEP                 | 2                                      |  2                                     | 2.649644e-48                           | 2_208977797_G_T                        | 5.299288e-48                           | 8.584846e-45                           | ENSG00000229150_CRYGEP-2_208977797_G_T | 0.5432607                              |  0.2356903                             | ENSG00000229150                        | CRYGEP                                 | 2_208977797_G_T                        |\n",
       "\n"
      ],
      "text/plain": [
       "  gene                   n_snps chrom pv_raw       snpID           pv          \n",
       "1 ENSG00000169877_AHSP   2      16    4.441206e-52 16_31522723_T_C 8.882413e-52\n",
       "2 ENSG00000229150_CRYGEP 2       2    2.649644e-48 2_208977797_G_T 5.299288e-48\n",
       "  qv           eqtl                                   beta_GxC  beta_G    \n",
       "1 2.877902e-48 ENSG00000169877_AHSP-16_31522723_T_C   0.4599185 -0.1091049\n",
       "2 8.584846e-45 ENSG00000229150_CRYGEP-2_208977797_G_T 0.5432607  0.2356903\n",
       "  ensembl_gene_id gene_name snp_id         \n",
       "1 ENSG00000169877 AHSP      16_31522723_T_C\n",
       "2 ENSG00000229150 CRYGEP    2_208977797_G_T"
      ]
     },
     "metadata": {},
     "output_type": "display_data"
    }
   ],
   "source": [
    "df3$ensembl_gene_id = gsub(\"_.*\",\"\",df3$gene)\n",
    "df3$gene_name = gsub(\".*_\",\"\",df3$gene)\n",
    "df3$snp_id = df3$snpID\n",
    "head(df3,2)"
   ]
  },
  {
   "cell_type": "code",
   "execution_count": 38,
   "id": "189c14fb",
   "metadata": {},
   "outputs": [
    {
     "data": {
      "text/html": [
       "<table>\n",
       "<thead><tr><th scope=col>gene_name</th><th scope=col>ensembl_gene_id</th><th scope=col>snp_id</th><th scope=col>pv_raw</th><th scope=col>pv</th><th scope=col>qv</th><th scope=col>beta_G</th><th scope=col>beta_GxC</th></tr></thead>\n",
       "<tbody>\n",
       "\t<tr><td>AHSP           </td><td>ENSG00000169877</td><td>16_31522723_T_C</td><td>4.441206e-52   </td><td>8.882413e-52   </td><td>2.877902e-48   </td><td>-0.1091049     </td><td>0.4599185      </td></tr>\n",
       "\t<tr><td>CRYGEP         </td><td>ENSG00000229150</td><td>2_208977797_G_T</td><td>2.649644e-48   </td><td>5.299288e-48   </td><td>8.584846e-45   </td><td> 0.2356903     </td><td>0.5432607      </td></tr>\n",
       "</tbody>\n",
       "</table>\n"
      ],
      "text/latex": [
       "\\begin{tabular}{r|llllllll}\n",
       " gene\\_name & ensembl\\_gene\\_id & snp\\_id & pv\\_raw & pv & qv & beta\\_G & beta\\_GxC\\\\\n",
       "\\hline\n",
       "\t AHSP                  & ENSG00000169877       & 16\\_31522723\\_T\\_C & 4.441206e-52          & 8.882413e-52          & 2.877902e-48          & -0.1091049            & 0.4599185            \\\\\n",
       "\t CRYGEP                & ENSG00000229150       & 2\\_208977797\\_G\\_T & 2.649644e-48          & 5.299288e-48          & 8.584846e-45          &  0.2356903            & 0.5432607            \\\\\n",
       "\\end{tabular}\n"
      ],
      "text/markdown": [
       "\n",
       "| gene_name | ensembl_gene_id | snp_id | pv_raw | pv | qv | beta_G | beta_GxC |\n",
       "|---|---|---|---|---|---|---|---|\n",
       "| AHSP            | ENSG00000169877 | 16_31522723_T_C | 4.441206e-52    | 8.882413e-52    | 2.877902e-48    | -0.1091049      | 0.4599185       |\n",
       "| CRYGEP          | ENSG00000229150 | 2_208977797_G_T | 2.649644e-48    | 5.299288e-48    | 8.584846e-45    |  0.2356903      | 0.5432607       |\n",
       "\n"
      ],
      "text/plain": [
       "  gene_name ensembl_gene_id snp_id          pv_raw       pv          \n",
       "1 AHSP      ENSG00000169877 16_31522723_T_C 4.441206e-52 8.882413e-52\n",
       "2 CRYGEP    ENSG00000229150 2_208977797_G_T 2.649644e-48 5.299288e-48\n",
       "  qv           beta_G     beta_GxC \n",
       "1 2.877902e-48 -0.1091049 0.4599185\n",
       "2 8.584846e-45  0.2356903 0.5432607"
      ]
     },
     "metadata": {},
     "output_type": "display_data"
    }
   ],
   "source": [
    "df4 = df3[,c(\"gene_name\",\"ensembl_gene_id\",\"snp_id\",\"pv_raw\",\"pv\",\"qv\",\"beta_G\",\"beta_GxC\")]\n",
    "head(df4,2)"
   ]
  },
  {
   "cell_type": "code",
   "execution_count": 39,
   "id": "7642011a",
   "metadata": {},
   "outputs": [],
   "source": [
    "write.csv(df4, \"/hps/nobackup/stegle/users/acuomo/singlecell_interaction_eqtls/endodiff_GxC_SuppTable1.csv\")"
   ]
  },
  {
   "cell_type": "code",
   "execution_count": 1,
   "id": "d0618587",
   "metadata": {},
   "outputs": [],
   "source": [
    "########################################################################################################\n",
    "########################################################################################################\n",
    "########################################################################################################\n",
    "########################################################################################################"
   ]
  },
  {
   "cell_type": "code",
   "execution_count": 10,
   "id": "cd8d9c81",
   "metadata": {},
   "outputs": [],
   "source": [
    "library(ggplot2)\n",
    "library(RColorBrewer)\n",
    "library(circlize)"
   ]
  },
  {
   "cell_type": "code",
   "execution_count": 3,
   "id": "6a4b35eb",
   "metadata": {},
   "outputs": [
    {
     "data": {
      "text/html": [
       "<table>\n",
       "<thead><tr><th scope=col>gene_name</th><th scope=col>ensembl_gene_id</th><th scope=col>snp_id</th><th scope=col>pv_raw</th><th scope=col>pv</th><th scope=col>qv</th><th scope=col>beta_G</th><th scope=col>beta_GxC</th></tr></thead>\n",
       "<tbody>\n",
       "\t<tr><td>AHSP           </td><td>ENSG00000169877</td><td>16_31522723_T_C</td><td>4.441206e-52   </td><td>8.882413e-52   </td><td>2.877902e-48   </td><td>-0.1091049     </td><td>0.4599185      </td></tr>\n",
       "\t<tr><td>CRYGEP         </td><td>ENSG00000229150</td><td>2_208977797_G_T</td><td>2.649644e-48   </td><td>5.299288e-48   </td><td>8.584846e-45   </td><td> 0.2356903     </td><td>0.5432607      </td></tr>\n",
       "\t<tr><td>FAM65B         </td><td>ENSG00000111913</td><td>6_24979164_T_A </td><td>5.863853e-44   </td><td>5.863853e-44   </td><td>6.332961e-41   </td><td> 0.1459130     </td><td>0.5698241      </td></tr>\n",
       "\t<tr><td>UPK3B          </td><td>ENSG00000243566</td><td>7_76137375_C_T </td><td>1.700073e-29   </td><td>1.700073e-29   </td><td>1.377059e-26   </td><td>-0.1198411     </td><td>0.4842759      </td></tr>\n",
       "\t<tr><td>SURF2          </td><td>ENSG00000148291</td><td>9_136227260_A_G</td><td>8.506044e-27   </td><td>8.506044e-27   </td><td>5.511917e-24   </td><td>-0.7289752     </td><td>0.7212131      </td></tr>\n",
       "\t<tr><td>HLA-DQB1       </td><td>ENSG00000179344</td><td>6_32634922_A_G </td><td>8.324037e-26   </td><td>8.324037e-26   </td><td>4.494980e-23   </td><td>-0.7078382     </td><td>1.0644941      </td></tr>\n",
       "</tbody>\n",
       "</table>\n"
      ],
      "text/latex": [
       "\\begin{tabular}{r|llllllll}\n",
       " gene\\_name & ensembl\\_gene\\_id & snp\\_id & pv\\_raw & pv & qv & beta\\_G & beta\\_GxC\\\\\n",
       "\\hline\n",
       "\t AHSP                  & ENSG00000169877       & 16\\_31522723\\_T\\_C & 4.441206e-52          & 8.882413e-52          & 2.877902e-48          & -0.1091049            & 0.4599185            \\\\\n",
       "\t CRYGEP                & ENSG00000229150       & 2\\_208977797\\_G\\_T & 2.649644e-48          & 5.299288e-48          & 8.584846e-45          &  0.2356903            & 0.5432607            \\\\\n",
       "\t FAM65B                & ENSG00000111913       & 6\\_24979164\\_T\\_A  & 5.863853e-44          & 5.863853e-44          & 6.332961e-41          &  0.1459130            & 0.5698241            \\\\\n",
       "\t UPK3B                 & ENSG00000243566       & 7\\_76137375\\_C\\_T  & 1.700073e-29          & 1.700073e-29          & 1.377059e-26          & -0.1198411            & 0.4842759            \\\\\n",
       "\t SURF2                 & ENSG00000148291       & 9\\_136227260\\_A\\_G & 8.506044e-27          & 8.506044e-27          & 5.511917e-24          & -0.7289752            & 0.7212131            \\\\\n",
       "\t HLA-DQB1              & ENSG00000179344       & 6\\_32634922\\_A\\_G  & 8.324037e-26          & 8.324037e-26          & 4.494980e-23          & -0.7078382            & 1.0644941            \\\\\n",
       "\\end{tabular}\n"
      ],
      "text/markdown": [
       "\n",
       "| gene_name | ensembl_gene_id | snp_id | pv_raw | pv | qv | beta_G | beta_GxC |\n",
       "|---|---|---|---|---|---|---|---|\n",
       "| AHSP            | ENSG00000169877 | 16_31522723_T_C | 4.441206e-52    | 8.882413e-52    | 2.877902e-48    | -0.1091049      | 0.4599185       |\n",
       "| CRYGEP          | ENSG00000229150 | 2_208977797_G_T | 2.649644e-48    | 5.299288e-48    | 8.584846e-45    |  0.2356903      | 0.5432607       |\n",
       "| FAM65B          | ENSG00000111913 | 6_24979164_T_A  | 5.863853e-44    | 5.863853e-44    | 6.332961e-41    |  0.1459130      | 0.5698241       |\n",
       "| UPK3B           | ENSG00000243566 | 7_76137375_C_T  | 1.700073e-29    | 1.700073e-29    | 1.377059e-26    | -0.1198411      | 0.4842759       |\n",
       "| SURF2           | ENSG00000148291 | 9_136227260_A_G | 8.506044e-27    | 8.506044e-27    | 5.511917e-24    | -0.7289752      | 0.7212131       |\n",
       "| HLA-DQB1        | ENSG00000179344 | 6_32634922_A_G  | 8.324037e-26    | 8.324037e-26    | 4.494980e-23    | -0.7078382      | 1.0644941       |\n",
       "\n"
      ],
      "text/plain": [
       "  gene_name ensembl_gene_id snp_id          pv_raw       pv          \n",
       "1 AHSP      ENSG00000169877 16_31522723_T_C 4.441206e-52 8.882413e-52\n",
       "2 CRYGEP    ENSG00000229150 2_208977797_G_T 2.649644e-48 5.299288e-48\n",
       "3 FAM65B    ENSG00000111913 6_24979164_T_A  5.863853e-44 5.863853e-44\n",
       "4 UPK3B     ENSG00000243566 7_76137375_C_T  1.700073e-29 1.700073e-29\n",
       "5 SURF2     ENSG00000148291 9_136227260_A_G 8.506044e-27 8.506044e-27\n",
       "6 HLA-DQB1  ENSG00000179344 6_32634922_A_G  8.324037e-26 8.324037e-26\n",
       "  qv           beta_G     beta_GxC \n",
       "1 2.877902e-48 -0.1091049 0.4599185\n",
       "2 8.584846e-45  0.2356903 0.5432607\n",
       "3 6.332961e-41  0.1459130 0.5698241\n",
       "4 1.377059e-26 -0.1198411 0.4842759\n",
       "5 5.511917e-24 -0.7289752 0.7212131\n",
       "6 4.494980e-23 -0.7078382 1.0644941"
      ]
     },
     "metadata": {},
     "output_type": "display_data"
    }
   ],
   "source": [
    "df = read.csv(\"/hps/nobackup/stegle/users/acuomo/singlecell_interaction_eqtls/endodiff_GxC_SuppTable1.csv\", row.names = 1)\n",
    "head(df)"
   ]
  },
  {
   "cell_type": "code",
   "execution_count": 44,
   "id": "ab4fa979",
   "metadata": {},
   "outputs": [],
   "source": [
    "myPalette <- colorRampPalette(rev(brewer.pal(9, \"Blues\")))\n",
    "sc <- scale_colour_gradientn(colours = myPalette(100), limits=c(0, 0.05))"
   ]
  },
  {
   "cell_type": "code",
   "execution_count": 59,
   "id": "82036604",
   "metadata": {},
   "outputs": [
    {
     "data": {
      "text/plain": [
       "\n",
       "\tPearson's product-moment correlation\n",
       "\n",
       "data:  abs(df$beta_G) and df$beta_GxC\n",
       "t = 8.7996, df = 320, p-value < 2.2e-16\n",
       "alternative hypothesis: true correlation is not equal to 0\n",
       "95 percent confidence interval:\n",
       " 0.3489324 0.5253506\n",
       "sample estimates:\n",
       "      cor \n",
       "0.4413971 \n"
      ]
     },
     "metadata": {},
     "output_type": "display_data"
    }
   ],
   "source": [
    "cor.test(abs(df$beta_G), df$beta_GxC)"
   ]
  },
  {
   "cell_type": "code",
   "execution_count": 53,
   "id": "7b380087",
   "metadata": {},
   "outputs": [
    {
     "data": {
      "text/html": [
       "0.441397056372633"
      ],
      "text/latex": [
       "0.441397056372633"
      ],
      "text/markdown": [
       "0.441397056372633"
      ],
      "text/plain": [
       "[1] 0.4413971"
      ]
     },
     "metadata": {},
     "output_type": "display_data"
    },
    {
     "data": {
      "image/png": "[encoded data removed]",
      "text/plain": [
       "plot without title"
      ]
     },
     "metadata": {},
     "output_type": "display_data"
    }
   ],
   "source": [
    "cor(abs(df$beta_G), df$beta_GxC)\n",
    "p = ggplot(df, aes(x=abs(beta_G), y=beta_GxC, colour=qv)) + geom_point() + theme_classic() \n",
    "p = p + theme(axis.text.x = element_text(size = 18), axis.text.y = element_text(size = 18))\n",
    "# p = p + scale_color_gradient2(low = \"white\",mid = \"coral\",high = \"firebrick\", midpoint = 15)\n",
    "# p = p + sc\n",
    "p"
   ]
  },
  {
   "cell_type": "code",
   "execution_count": null,
   "id": "2a584fa9",
   "metadata": {},
   "outputs": [],
   "source": []
  }
 ],
 "metadata": {
  "kernelspec": {
   "display_name": "R",
   "language": "R",
   "name": "ir"
  },
  "language_info": {
   "codemirror_mode": "r",
   "file_extension": ".r",
   "mimetype": "text/x-r-source",
   "name": "R",
   "pygments_lexer": "r",
   "version": "3.6.1"
  }
 },
 "nbformat": 4,
 "nbformat_minor": 5
}
