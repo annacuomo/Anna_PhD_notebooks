{
 "cells": [
  {
   "cell_type": "code",
   "execution_count": 8,
   "id": "76933f77",
   "metadata": {},
   "outputs": [],
   "source": [
    "library(dplyr)"
   ]
  },
  {
   "cell_type": "code",
   "execution_count": 11,
   "id": "3e4b52cf",
   "metadata": {},
   "outputs": [],
   "source": [
    "# # load full list of results sc stages (iPS, mesendo, defendo)\n",
    "# res.ips = read.csv(\"/nfs/leia/research/stegle/acuomo/mean/day0/all_expts/allresults.csv\", row.names = 1)\n",
    "# res.mes = read.csv(\"/nfs/leia/research/stegle/acuomo/mean/mesendo_est_June20/allresults.csv\", row.names = 1)\n",
    "# res.defendo = read.csv(\"/nfs/leia/research/stegle/acuomo/mean/defendo_est_June20/allresults.csv\", row.names = 1)"
   ]
  },
  {
   "cell_type": "code",
   "execution_count": 2,
   "id": "227f1a37",
   "metadata": {},
   "outputs": [],
   "source": [
    "# load lead variant results sc stages (iPS, mesendo, defendo)\n",
    "leads.ips = read.csv(\"/nfs/leia/research/stegle/acuomo/mean/day0/all_expts/leads.csv\", row.names = 1)\n",
    "leads.mes = read.csv(\"/nfs/leia/research/stegle/acuomo/mean/mesendo_est_June20/leads.csv\", row.names = 1)\n",
    "leads.defendo = read.csv(\"/nfs/leia/research/stegle/acuomo/mean/defendo_est_June20/leads.csv\", row.names = 1)"
   ]
  },
  {
   "cell_type": "code",
   "execution_count": 3,
   "id": "b0696653",
   "metadata": {},
   "outputs": [],
   "source": [
    "leads.ips.sign = leads.ips[leads.ips$global_corr_p_value < 0.1,]\n",
    "leads.mes.sign = leads.mes[leads.mes$global_corr_p_value < 0.1,]\n",
    "leads.defendo.sign = leads.defendo[leads.defendo$global_corr_p_value < 0.1,]"
   ]
  },
  {
   "cell_type": "code",
   "execution_count": 9,
   "id": "f31ba949",
   "metadata": {},
   "outputs": [],
   "source": [
    "RankAndKeepTop <- function(leads){\n",
    "    leads1 = leads[order(leads$global_corr_p_value),]\n",
    "    leads2 = leads1[-which(duplicated(leads1$feature)),]  \n",
    "    leads2\n",
    "}"
   ]
  },
  {
   "cell_type": "code",
   "execution_count": 12,
   "id": "b9645bf5",
   "metadata": {},
   "outputs": [
    {
     "data": {
      "text/html": [
       "468"
      ],
      "text/latex": [
       "468"
      ],
      "text/markdown": [
       "468"
      ],
      "text/plain": [
       "[1] 468"
      ]
     },
     "metadata": {},
     "output_type": "display_data"
    }
   ],
   "source": [
    "### inner join significant sc iPS leads, all results from sc mesendo leads\n",
    "leads.ips.in.me = left_join(leads.ips.sign, res.mes, by = c(\"snp_id\",\"feature\"), \n",
    "                            suffix = c(\".ips\",\".me\"))\n",
    "# nrow(leads.ips.in.me)\n",
    "leads.ips.in.me = RankAndKeepTop(leads.ips.in.me)\n",
    "# nrow(leads.ips.in.me)\n",
    "### inner join significant sc iPS leads and mesenso, all results from sc defendo leads\n",
    "leads.ips.in.me.in.de = left_join(leads.ips.in.me, res.defendo, by = c(\"snp_id\",\"feature\",\"ensembl_gene_id\"))\n",
    "# colnames(leads.ips.in.me.in.de)\n",
    "# nrow(leads.ips.in.me.in.de)\n",
    "leads.ips.in.me.in.de = RankAndKeepTop(leads.ips.in.me.in.de)\n",
    "# nrow(leads.ips.in.me.in.de)\n",
    "ips = leads.ips.in.me.in.de\n",
    "ips$p_value.de = ips$p_value\n",
    "ips$beta.de = ips$beta\n",
    "ips = ips[!(is.na(ips$p_value.me)) & !(is.na(ips$p_value.de)),]\n",
    "nrow(ips[(ips$p_value.me >= 0.05) & (ips$p_value.de >= 0.05),])"
   ]
  },
  {
   "cell_type": "code",
   "execution_count": 13,
   "id": "2b8793ff",
   "metadata": {},
   "outputs": [
    {
     "data": {
      "text/html": [
       "1679"
      ],
      "text/latex": [
       "1679"
      ],
      "text/markdown": [
       "1679"
      ],
      "text/plain": [
       "[1] 1679"
      ]
     },
     "metadata": {},
     "output_type": "display_data"
    },
    {
     "data": {
      "text/html": [
       "455"
      ],
      "text/latex": [
       "455"
      ],
      "text/markdown": [
       "455"
      ],
      "text/plain": [
       "[1] 455"
      ]
     },
     "metadata": {},
     "output_type": "display_data"
    }
   ],
   "source": [
    "### inner join significant sc mesendo leads, all results from sc iPSC leads\n",
    "leads.me.in.ips = left_join(leads.mes.sign, res.ips, by = c(\"snp_id\",\"feature\"), \n",
    "                            suffix = c(\".me\",\".ips\"))\n",
    "# nrow(leads.me.in.ips)\n",
    "leads.me.in.ips = RankAndKeepTop(leads.me.in.ips)\n",
    "nrow(leads.me.in.ips)\n",
    "# ### inner join significant sc mesendo leads and iPS, all results from sc defendo leads\n",
    "leads.me.in.ips.in.de = left_join(leads.me.in.ips, res.defendo, by = c(\"snp_id\",\"feature\",\"ensembl_gene_id\"))\n",
    "# # nrow(leads.me.in.ips.in.de)\n",
    "leads.me.in.ips.in.de = RankAndKeepTop(leads.me.in.ips.in.de)\n",
    "# # nrow(leads.me.in.ips.in.de)\n",
    "mesendo = leads.me.in.ips.in.de\n",
    "mesendo$p_value.de = mesendo$p_value\n",
    "mesendo$beta.de = mesendo$beta\n",
    "mesendo = mesendo[!(is.na(mesendo$p_value.ips)) & !(is.na(mesendo$p_value.de)),]\n",
    "nrow(mesendo[(mesendo$p_value.ips >= 0.05) & (mesendo$p_value.de >= 0.05),])"
   ]
  },
  {
   "cell_type": "code",
   "execution_count": 14,
   "id": "ff6b9721",
   "metadata": {},
   "outputs": [
    {
     "data": {
      "text/html": [
       "1322"
      ],
      "text/latex": [
       "1322"
      ],
      "text/markdown": [
       "1322"
      ],
      "text/plain": [
       "[1] 1322"
      ]
     },
     "metadata": {},
     "output_type": "display_data"
    },
    {
     "data": {
      "text/html": [
       "435"
      ],
      "text/latex": [
       "435"
      ],
      "text/markdown": [
       "435"
      ],
      "text/plain": [
       "[1] 435"
      ]
     },
     "metadata": {},
     "output_type": "display_data"
    }
   ],
   "source": [
    "### inner join significant sc defendo leads, all results from sc iPSC leads\n",
    "leads.de.in.ips = left_join(leads.defendo.sign, res.ips, by = c(\"snp_id\",\"feature\"), \n",
    "                            suffix = c(\".de\",\".ips\"))\n",
    "# nrow(leads.de.in.ips)\n",
    "leads.de.in.ips = RankAndKeepTop(leads.de.in.ips)\n",
    "nrow(leads.de.in.ips)\n",
    "# ### inner join significant sc defendo leads and iPS, all results from sc mesendo leads\n",
    "leads.de.in.ips.in.me = left_join(leads.de.in.ips, res.mes, by = c(\"snp_id\",\"feature\",\"ensembl_gene_id\"))\n",
    "# # nrow(leads.de.in.ips.in.me)\n",
    "leads.de.in.ips.in.me = RankAndKeepTop(leads.de.in.ips.in.me)\n",
    "# # nrow(leads.de.in.ips.in.me)\n",
    "defendo = leads.de.in.ips.in.me\n",
    "defendo$p_value.me = defendo$p_value\n",
    "defendo$beta.me = defendo$beta\n",
    "defendo = defendo[!(is.na(defendo$p_value.ips)) & !(is.na(defendo$p_value.me)),]\n",
    "nrow(defendo[(defendo$p_value.ips >= 0.05) & (defendo$p_value.me >= 0.05),])"
   ]
  },
  {
   "cell_type": "code",
   "execution_count": 18,
   "id": "83c2300f",
   "metadata": {},
   "outputs": [
    {
     "data": {
      "text/html": [
       "468"
      ],
      "text/latex": [
       "468"
      ],
      "text/markdown": [
       "468"
      ],
      "text/plain": [
       "[1] 468"
      ]
     },
     "metadata": {},
     "output_type": "display_data"
    },
    {
     "data": {
      "text/html": [
       "<ol class=list-inline>\n",
       "\t<li>'ENSG00000124562_SNRPC-6_34690778_C_A'</li>\n",
       "\t<li>'ENSG00000211772_TRBC2-7_142450556_G_A'</li>\n",
       "</ol>\n"
      ],
      "text/latex": [
       "\\begin{enumerate*}\n",
       "\\item 'ENSG00000124562\\_SNRPC-6\\_34690778\\_C\\_A'\n",
       "\\item 'ENSG00000211772\\_TRBC2-7\\_142450556\\_G\\_A'\n",
       "\\end{enumerate*}\n"
      ],
      "text/markdown": [
       "1. 'ENSG00000124562_SNRPC-6_34690778_C_A'\n",
       "2. 'ENSG00000211772_TRBC2-7_142450556_G_A'\n",
       "\n",
       "\n"
      ],
      "text/plain": [
       "[1] \"ENSG00000124562_SNRPC-6_34690778_C_A\" \n",
       "[2] \"ENSG00000211772_TRBC2-7_142450556_G_A\""
      ]
     },
     "metadata": {},
     "output_type": "display_data"
    }
   ],
   "source": [
    "ips_specific = ips[(ips$p_value.me >= 0.05) & (ips$p_value.de >= 0.05),]\n",
    "ips_specific$eqtl = paste0(ips_specific$feature,\"-\",ips_specific$snp_id)\n",
    "# head(ips_specific,2)\n",
    "ips_eqtls = unique(ips_specific$eqtl)\n",
    "length(ips_eqtls)\n",
    "head(ips_eqtls,2)"
   ]
  },
  {
   "cell_type": "code",
   "execution_count": 19,
   "id": "026e984f",
   "metadata": {},
   "outputs": [
    {
     "data": {
      "text/html": [
       "455"
      ],
      "text/latex": [
       "455"
      ],
      "text/markdown": [
       "455"
      ],
      "text/plain": [
       "[1] 455"
      ]
     },
     "metadata": {},
     "output_type": "display_data"
    },
    {
     "data": {
      "text/html": [
       "<ol class=list-inline>\n",
       "\t<li>'ENSG00000122550_KLHL7-7_23186699_C_T'</li>\n",
       "\t<li>'ENSG00000089351_GRAMD1A-19_35495012_A_G'</li>\n",
       "</ol>\n"
      ],
      "text/latex": [
       "\\begin{enumerate*}\n",
       "\\item 'ENSG00000122550\\_KLHL7-7\\_23186699\\_C\\_T'\n",
       "\\item 'ENSG00000089351\\_GRAMD1A-19\\_35495012\\_A\\_G'\n",
       "\\end{enumerate*}\n"
      ],
      "text/markdown": [
       "1. 'ENSG00000122550_KLHL7-7_23186699_C_T'\n",
       "2. 'ENSG00000089351_GRAMD1A-19_35495012_A_G'\n",
       "\n",
       "\n"
      ],
      "text/plain": [
       "[1] \"ENSG00000122550_KLHL7-7_23186699_C_T\"   \n",
       "[2] \"ENSG00000089351_GRAMD1A-19_35495012_A_G\""
      ]
     },
     "metadata": {},
     "output_type": "display_data"
    }
   ],
   "source": [
    "mesendo_specific = mesendo[(mesendo$p_value.ips >= 0.05) & (mesendo$p_value.de >= 0.05),]\n",
    "mesendo_specific$eqtl = paste0(mesendo_specific$feature,\"-\",mesendo_specific$snp_id)\n",
    "# head(mesendo_specific,2)\n",
    "mesendo_eqtls = unique(mesendo_specific$eqtl)\n",
    "length(mesendo_eqtls)\n",
    "head(mesendo_eqtls,2)"
   ]
  },
  {
   "cell_type": "code",
   "execution_count": 26,
   "id": "19e4a4f3",
   "metadata": {},
   "outputs": [
    {
     "data": {
      "text/html": [
       "435"
      ],
      "text/latex": [
       "435"
      ],
      "text/markdown": [
       "435"
      ],
      "text/plain": [
       "[1] 435"
      ]
     },
     "metadata": {},
     "output_type": "display_data"
    },
    {
     "data": {
      "text/html": [
       "<ol class=list-inline>\n",
       "\t<li>'ENSG00000204347_BTBD17-17_72305793_C_T'</li>\n",
       "\t<li>'ENSG00000203805_PPAPDC1A-10_122218993_G_A'</li>\n",
       "</ol>\n"
      ],
      "text/latex": [
       "\\begin{enumerate*}\n",
       "\\item 'ENSG00000204347\\_BTBD17-17\\_72305793\\_C\\_T'\n",
       "\\item 'ENSG00000203805\\_PPAPDC1A-10\\_122218993\\_G\\_A'\n",
       "\\end{enumerate*}\n"
      ],
      "text/markdown": [
       "1. 'ENSG00000204347_BTBD17-17_72305793_C_T'\n",
       "2. 'ENSG00000203805_PPAPDC1A-10_122218993_G_A'\n",
       "\n",
       "\n"
      ],
      "text/plain": [
       "[1] \"ENSG00000204347_BTBD17-17_72305793_C_T\"   \n",
       "[2] \"ENSG00000203805_PPAPDC1A-10_122218993_G_A\""
      ]
     },
     "metadata": {},
     "output_type": "display_data"
    }
   ],
   "source": [
    "defendo_specific = defendo[(defendo$p_value.ips >= 0.05) & (defendo$p_value.me >= 0.05),]\n",
    "defendo_specific$eqtl = paste0(defendo_specific$feature,\"-\",defendo_specific$snp_id)\n",
    "# head(defendo_specific,2)\n",
    "defendo_eqtls = unique(defendo_specific$eqtl)\n",
    "length(defendo_eqtls)\n",
    "head(defendo_eqtls,2)"
   ]
  },
  {
   "cell_type": "code",
   "execution_count": 51,
   "id": "7f0166d7",
   "metadata": {},
   "outputs": [
    {
     "data": {
      "text/html": [
       "<table>\n",
       "<thead><tr><th></th><th scope=col>label</th><th scope=col>gene</th><th scope=col>pp0</th><th scope=col>pp1</th><th scope=col>pp2</th><th scope=col>pp3</th><th scope=col>pp4</th><th scope=col>pp5</th><th scope=col>pp6</th><th scope=col>pp7</th><th scope=col>pp8</th><th scope=col>pp9</th><th scope=col>pp10</th><th scope=col>pp11</th><th scope=col>pp12</th><th scope=col>pp13</th><th scope=col>pp14</th><th scope=col>pp15</th><th scope=col>pp16</th><th scope=col>eqtl</th></tr></thead>\n",
       "<tbody>\n",
       "\t<tr><th scope=row>0</th><td>12                                       </td><td>ENSG00000005059_CCDC109B_-4_110648632_T_A</td><td>0                                        </td><td>0                                        </td><td>0                                        </td><td>0                                        </td><td>0                                        </td><td>0                                        </td><td>0                                        </td><td>0                                        </td><td>0                                        </td><td>0                                        </td><td>0                                        </td><td>0                                        </td><td>1                                        </td><td>0                                        </td><td>0                                        </td><td>0                                        </td><td>0                                        </td><td>ENSG00000005059_CCDC109B-4_110648632_T_A </td></tr>\n",
       "\t<tr><th scope=row>1</th><td> 6                                       </td><td>ENSG00000006016_CRLF1_-19_18735221_G_T   </td><td>0                                        </td><td>0                                        </td><td>0                                        </td><td>0                                        </td><td>0                                        </td><td>0                                        </td><td>1                                        </td><td>0                                        </td><td>0                                        </td><td>0                                        </td><td>0                                        </td><td>0                                        </td><td>0                                        </td><td>0                                        </td><td>0                                        </td><td>0                                        </td><td>0                                        </td><td>ENSG00000006016_CRLF1-19_18735221_G_T    </td></tr>\n",
       "</tbody>\n",
       "</table>\n"
      ],
      "text/latex": [
       "\\begin{tabular}{r|llllllllllllllllllll}\n",
       "  & label & gene & pp0 & pp1 & pp2 & pp3 & pp4 & pp5 & pp6 & pp7 & pp8 & pp9 & pp10 & pp11 & pp12 & pp13 & pp14 & pp15 & pp16 & eqtl\\\\\n",
       "\\hline\n",
       "\t0 & 12                                                  & ENSG00000005059\\_CCDC109B\\_-4\\_110648632\\_T\\_A & 0                                                   & 0                                                   & 0                                                   & 0                                                   & 0                                                   & 0                                                   & 0                                                   & 0                                                   & 0                                                   & 0                                                   & 0                                                   & 0                                                   & 1                                                   & 0                                                   & 0                                                   & 0                                                   & 0                                                   & ENSG00000005059\\_CCDC109B-4\\_110648632\\_T\\_A   \\\\\n",
       "\t1 &  6                                                  & ENSG00000006016\\_CRLF1\\_-19\\_18735221\\_G\\_T    & 0                                                   & 0                                                   & 0                                                   & 0                                                   & 0                                                   & 0                                                   & 1                                                   & 0                                                   & 0                                                   & 0                                                   & 0                                                   & 0                                                   & 0                                                   & 0                                                   & 0                                                   & 0                                                   & 0                                                   & ENSG00000006016\\_CRLF1-19\\_18735221\\_G\\_T      \\\\\n",
       "\\end{tabular}\n"
      ],
      "text/markdown": [
       "\n",
       "| <!--/--> | label | gene | pp0 | pp1 | pp2 | pp3 | pp4 | pp5 | pp6 | pp7 | pp8 | pp9 | pp10 | pp11 | pp12 | pp13 | pp14 | pp15 | pp16 | eqtl |\n",
       "|---|---|---|---|---|---|---|---|---|---|---|---|---|---|---|---|---|---|---|---|---|\n",
       "| 0 | 12                                        | ENSG00000005059_CCDC109B_-4_110648632_T_A | 0                                         | 0                                         | 0                                         | 0                                         | 0                                         | 0                                         | 0                                         | 0                                         | 0                                         | 0                                         | 0                                         | 0                                         | 1                                         | 0                                         | 0                                         | 0                                         | 0                                         | ENSG00000005059_CCDC109B-4_110648632_T_A  |\n",
       "| 1 |  6                                        | ENSG00000006016_CRLF1_-19_18735221_G_T    | 0                                         | 0                                         | 0                                         | 0                                         | 0                                         | 0                                         | 1                                         | 0                                         | 0                                         | 0                                         | 0                                         | 0                                         | 0                                         | 0                                         | 0                                         | 0                                         | 0                                         | ENSG00000006016_CRLF1-19_18735221_G_T     |\n",
       "\n"
      ],
      "text/plain": [
       "  label gene                                      pp0 pp1 pp2 pp3 pp4 pp5 pp6\n",
       "0 12    ENSG00000005059_CCDC109B_-4_110648632_T_A 0   0   0   0   0   0   0  \n",
       "1  6    ENSG00000006016_CRLF1_-19_18735221_G_T    0   0   0   0   0   0   1  \n",
       "  pp7 pp8 pp9 pp10 pp11 pp12 pp13 pp14 pp15 pp16\n",
       "0 0   0   0   0    0    1    0    0    0    0   \n",
       "1 0   0   0   0    0    0    0    0    0    0   \n",
       "  eqtl                                    \n",
       "0 ENSG00000005059_CCDC109B-4_110648632_T_A\n",
       "1 ENSG00000006016_CRLF1-19_18735221_G_T   "
      ]
     },
     "metadata": {},
     "output_type": "display_data"
    }
   ],
   "source": [
    "#### \n",
    "# df = read.csv(\"/hps/nobackup/stegle/users/acuomo/all_scripts/struct_LMM2/sc_endodiff/debug_May2021/genetic_effect/scaled_absolute_eff_sizes_20mofas_as_spatial_downsample_20pct_cluster_labels.csv\", row.names = 1)\n",
    "df = read.csv(\"/hps/nobackup/stegle/users/acuomo/all_scripts/struct_LMM2/sc_endodiff/debug_May2021/genetic_effect/scaled_eff_sizes_20mofas_as_spatial_downsample_20pct_cluster_labels.csv\", row.names = 1)\n",
    "df$eqtl = gsub(\"_-\",\"-\",df$gene)\n",
    "head(df,2)"
   ]
  },
  {
   "cell_type": "code",
   "execution_count": 52,
   "id": "079af2be",
   "metadata": {},
   "outputs": [
    {
     "data": {
      "text/html": [
       "<table>\n",
       "<thead><tr><th></th><th scope=col>label</th><th scope=col>eqtl</th><th scope=col>specific</th></tr></thead>\n",
       "<tbody>\n",
       "\t<tr><th scope=row>0</th><td>12                                      </td><td>ENSG00000005059_CCDC109B-4_110648632_T_A</td><td>mesendo                                 </td></tr>\n",
       "\t<tr><th scope=row>1</th><td> 6                                      </td><td>ENSG00000006016_CRLF1-19_18735221_G_T   </td><td>defendo                                 </td></tr>\n",
       "\t<tr><th scope=row>2</th><td> 9                                      </td><td>ENSG00000006459_KDM7A-7_139913409_G_A   </td><td>defendo                                 </td></tr>\n",
       "\t<tr><th scope=row>3</th><td>13                                      </td><td>ENSG00000013297_CLDN11-3_170402765_T_C  </td><td>defendo                                 </td></tr>\n",
       "\t<tr><th scope=row>4</th><td>13                                      </td><td>ENSG00000021300_PLEKHB1-11_73339784_G_A </td><td>no                                      </td></tr>\n",
       "\t<tr><th scope=row>5</th><td> 9                                      </td><td>ENSG00000029639_TFB1M-6_155635808_C_G   </td><td>no                                      </td></tr>\n",
       "</tbody>\n",
       "</table>\n"
      ],
      "text/latex": [
       "\\begin{tabular}{r|lll}\n",
       "  & label & eqtl & specific\\\\\n",
       "\\hline\n",
       "\t0 & 12                                               & ENSG00000005059\\_CCDC109B-4\\_110648632\\_T\\_A & mesendo                                         \\\\\n",
       "\t1 &  6                                               & ENSG00000006016\\_CRLF1-19\\_18735221\\_G\\_T    & defendo                                         \\\\\n",
       "\t2 &  9                                               & ENSG00000006459\\_KDM7A-7\\_139913409\\_G\\_A    & defendo                                         \\\\\n",
       "\t3 & 13                                               & ENSG00000013297\\_CLDN11-3\\_170402765\\_T\\_C   & defendo                                         \\\\\n",
       "\t4 & 13                                               & ENSG00000021300\\_PLEKHB1-11\\_73339784\\_G\\_A  & no                                              \\\\\n",
       "\t5 &  9                                               & ENSG00000029639\\_TFB1M-6\\_155635808\\_C\\_G    & no                                              \\\\\n",
       "\\end{tabular}\n"
      ],
      "text/markdown": [
       "\n",
       "| <!--/--> | label | eqtl | specific |\n",
       "|---|---|---|---|\n",
       "| 0 | 12                                       | ENSG00000005059_CCDC109B-4_110648632_T_A | mesendo                                  |\n",
       "| 1 |  6                                       | ENSG00000006016_CRLF1-19_18735221_G_T    | defendo                                  |\n",
       "| 2 |  9                                       | ENSG00000006459_KDM7A-7_139913409_G_A    | defendo                                  |\n",
       "| 3 | 13                                       | ENSG00000013297_CLDN11-3_170402765_T_C   | defendo                                  |\n",
       "| 4 | 13                                       | ENSG00000021300_PLEKHB1-11_73339784_G_A  | no                                       |\n",
       "| 5 |  9                                       | ENSG00000029639_TFB1M-6_155635808_C_G    | no                                       |\n",
       "\n"
      ],
      "text/plain": [
       "  label eqtl                                     specific\n",
       "0 12    ENSG00000005059_CCDC109B-4_110648632_T_A mesendo \n",
       "1  6    ENSG00000006016_CRLF1-19_18735221_G_T    defendo \n",
       "2  9    ENSG00000006459_KDM7A-7_139913409_G_A    defendo \n",
       "3 13    ENSG00000013297_CLDN11-3_170402765_T_C   defendo \n",
       "4 13    ENSG00000021300_PLEKHB1-11_73339784_G_A  no      \n",
       "5  9    ENSG00000029639_TFB1M-6_155635808_C_G    no      "
      ]
     },
     "metadata": {},
     "output_type": "display_data"
    }
   ],
   "source": [
    "df0 = df[,c(\"label\",\"eqtl\")]\n",
    "df0$specific = \"no\"\n",
    "df0[df0$eqtl %in% ips_eqtls,\"specific\"] = \"ipsc\"\n",
    "df0[df0$eqtl %in% mesendo_eqtls,\"specific\"] = \"mesendo\"\n",
    "df0[df0$eqtl %in% defendo_eqtls,\"specific\"] = \"defendo\"\n",
    "head(df0)"
   ]
  },
  {
   "cell_type": "code",
   "execution_count": 53,
   "id": "7e840e90",
   "metadata": {},
   "outputs": [
    {
     "data": {
      "text/plain": [
       "\n",
       "defendo    ipsc mesendo      no \n",
       "     53      37       6     225 "
      ]
     },
     "metadata": {},
     "output_type": "display_data"
    }
   ],
   "source": [
    "table(df0$specific)"
   ]
  },
  {
   "cell_type": "code",
   "execution_count": 54,
   "id": "6a379322",
   "metadata": {},
   "outputs": [
    {
     "data": {
      "text/plain": [
       "\n",
       " 0  1  2  3  4  5  6  7  8  9 10 11 12 13 14 15 16 \n",
       " 8 18 12 35 14  2 13 12  4 59  5  6 28 66  6  2 31 "
      ]
     },
     "metadata": {},
     "output_type": "display_data"
    }
   ],
   "source": [
    "table(df0$label)"
   ]
  },
  {
   "cell_type": "code",
   "execution_count": 55,
   "id": "8972f58f",
   "metadata": {},
   "outputs": [
    {
     "data": {
      "text/plain": [
       "         \n",
       "           0  1  2  3  4  5  6  7  8  9 10 11 12 13 14 15 16\n",
       "  defendo  1  0  1 10  2  0  2  4  0 10  0  0  8 12  0  0  3\n",
       "  ipsc     0  3  1  5  2  0  4  0  0  6  2  1  0  9  2  1  1\n",
       "  mesendo  0  1  0  0  0  0  0  0  1  0  0  0  2  0  0  1  1\n",
       "  no       7 14 10 20 10  2  7  8  3 43  3  5 18 45  4  0 26"
      ]
     },
     "metadata": {},
     "output_type": "display_data"
    }
   ],
   "source": [
    "table(df0$specific, df0$label)"
   ]
  },
  {
   "cell_type": "code",
   "execution_count": null,
   "id": "0cfdbe3a",
   "metadata": {},
   "outputs": [],
   "source": []
  }
 ],
 "metadata": {
  "kernelspec": {
   "display_name": "R",
   "language": "R",
   "name": "ir"
  },
  "language_info": {
   "codemirror_mode": "r",
   "file_extension": ".r",
   "mimetype": "text/x-r-source",
   "name": "R",
   "pygments_lexer": "r",
   "version": "3.6.1"
  }
 },
 "nbformat": 4,
 "nbformat_minor": 5
}
