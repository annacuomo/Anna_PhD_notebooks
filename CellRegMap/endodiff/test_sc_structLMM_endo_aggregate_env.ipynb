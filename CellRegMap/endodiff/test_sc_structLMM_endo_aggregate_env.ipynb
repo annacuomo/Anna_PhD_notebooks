{
 "cells": [
  {
   "cell_type": "code",
   "execution_count": 1,
   "metadata": {},
   "outputs": [],
   "source": [
    "import numpy as np\n",
    "from numpy import ones\n",
    "from numpy_sugar import ddot\n",
    "import os\n",
    "import sys\n",
    "import pandas as pd\n",
    "from pandas_plink import read_plink1_bin\n",
    "from numpy.linalg import cholesky\n",
    "from numpy_sugar.linalg import economic_svd\n",
    "import xarray as xr\n",
    "from struct_lmm2 import StructLMM2\n",
    "import matplotlib.pyplot as plt\n",
    "# from limix.qc import quantile_gaussianize"
   ]
  },
  {
   "cell_type": "code",
   "execution_count": 2,
   "metadata": {},
   "outputs": [],
   "source": [
    "def quantile_gaussianize(phenotype):\n",
    "    import scipy.stats as scst\n",
    "    indextoupdate = np.isfinite(phenotype)\n",
    "    y1 = phenotype[indextoupdate]\n",
    "    yuni,yindex=np.unique(y1, return_inverse=True)\n",
    "    phenotypenorm=phenotype.copy()\n",
    "    sref = scst.norm.isf(np.linspace(0.001, 0.999,num=yuni.shape[0])[::-1])\n",
    "    phenotypenorm[indextoupdate]=sref[yindex]\n",
    "    return phenotypenorm"
   ]
  },
  {
   "cell_type": "code",
   "execution_count": 3,
   "metadata": {},
   "outputs": [],
   "source": [
    "chrom = 12"
   ]
  },
  {
   "cell_type": "code",
   "execution_count": 4,
   "metadata": {},
   "outputs": [],
   "source": [
    "## this file will map cells to donors, it will also only including donors we have single cell data (a subset of all of HipSci donors)\n",
    "sample_mapping_file = \"/hps/nobackup/stegle/users/acuomo/all_scripts/struct_LMM2/sc_endodiff/sample_mapping_file.tsv\"\n",
    "sample_mapping = pd.read_csv(sample_mapping_file, sep='\\t', dtype={\"genotype_individual_id\": str, \"phenotype_sample_id\": str})"
   ]
  },
  {
   "cell_type": "code",
   "execution_count": 5,
   "metadata": {},
   "outputs": [
    {
     "name": "stdout",
     "output_type": "stream",
     "text": [
      "Number of unique donors: 126\n"
     ]
    }
   ],
   "source": [
    "## extract unique individuals\n",
    "donors = sample_mapping[\"genotype_individual_id\"].unique()\n",
    "donors.sort()\n",
    "print(\"Number of unique donors: {}\".format(len(donors)))"
   ]
  },
  {
   "cell_type": "code",
   "execution_count": 6,
   "metadata": {},
   "outputs": [
    {
     "name": "stderr",
     "output_type": "stream",
     "text": [
      "Mapping files: 100%|██████████| 3/3 [06:00<00:00, 120.18s/it]\n"
     ]
    }
   ],
   "source": [
    "## read in genotype file\n",
    "plink_file = \"/hps/nobackup/hipsci/scratch/genotypes/imputed/2017-03-27/Full_Filtered_SNPs_Plink/hipsci.wec.gtarray.HumanCoreExome.imputed_phased.20170327.genotypes.norm.renamed.bed\"\n",
    "G = read_plink1_bin(plink_file)"
   ]
  },
  {
   "cell_type": "code",
   "execution_count": 7,
   "metadata": {},
   "outputs": [
    {
     "name": "stdout",
     "output_type": "stream",
     "text": [
      "Number of donors after kinship intersection: 125\n"
     ]
    }
   ],
   "source": [
    "## read in GRM kinship matrix\n",
    "kinship_file = \"/hps/nobackup/hipsci/scratch/genotypes/imputed/2017-03-27/Full_Filtered_SNPs_Plink-F/hipsci.wec.gtarray.HumanCoreExome.imputed_phased.20170327.genotypes.norm.renamed.kinship\"\n",
    "K = pd.read_csv(kinship_file, sep=\"\\t\", index_col=0)\n",
    "assert all(K.columns == K.index)\n",
    "K = xr.DataArray(K.values, dims=[\"sample_0\", \"sample_1\"], coords={\"sample_0\": K.columns, \"sample_1\": K.index})\n",
    "K = K.sortby(\"sample_0\").sortby(\"sample_1\")\n",
    "donors = sorted(set(list(K.sample_0.values)).intersection(donors))\n",
    "print(\"Number of donors after kinship intersection: {}\".format(len(donors)))"
   ]
  },
  {
   "cell_type": "code",
   "execution_count": 8,
   "metadata": {},
   "outputs": [],
   "source": [
    "## subset to relevant donors\n",
    "K = K.sel(sample_0=donors, sample_1=donors)\n",
    "assert all(K.sample_0 == donors)\n",
    "assert all(K.sample_1 == donors)"
   ]
  },
  {
   "cell_type": "code",
   "execution_count": 9,
   "metadata": {},
   "outputs": [],
   "source": [
    "## and decompose such as K = L @ L.T\n",
    "L_kinship = cholesky(K.values)\n",
    "L_kinship = xr.DataArray(L_kinship, dims=[\"sample\", \"col\"], coords={\"sample\": K.sample_0.values})\n",
    "assert all(L_kinship.sample.values == K.sample_0.values)\n",
    "del K"
   ]
  },
  {
   "cell_type": "code",
   "execution_count": 10,
   "metadata": {},
   "outputs": [
    {
     "name": "stdout",
     "output_type": "stream",
     "text": [
      "Sample mapping number of rows BEFORE intersection: 36044\n",
      "Sample mapping number of rows AFTER intersection: 35751\n"
     ]
    }
   ],
   "source": [
    "print(\"Sample mapping number of rows BEFORE intersection: {}\".format(sample_mapping.shape[0]))\n",
    "sample_mapping = sample_mapping[sample_mapping[\"genotype_individual_id\"].isin(donors)]\n",
    "print(\"Sample mapping number of rows AFTER intersection: {}\".format(sample_mapping.shape[0]))"
   ]
  },
  {
   "cell_type": "code",
   "execution_count": 11,
   "metadata": {},
   "outputs": [],
   "source": [
    "sample_mapping.to_csv(\"/hps/nobackup/stegle/users/acuomo/all_scripts/struct_LMM2/sc_endodiff/new/aggregate_envs/cell_ids.csv\")"
   ]
  },
  {
   "cell_type": "code",
   "execution_count": 12,
   "metadata": {},
   "outputs": [],
   "source": [
    "# expand from donors to cells\n",
    "L_expanded = L_kinship.sel(sample=sample_mapping[\"genotype_individual_id\"].values)\n",
    "assert all(L_expanded.sample.values == sample_mapping[\"genotype_individual_id\"].values)"
   ]
  },
  {
   "cell_type": "code",
   "execution_count": 13,
   "metadata": {},
   "outputs": [],
   "source": [
    "# environments\n",
    "# cells by MOFA factors (10)\n",
    "# E_file = \"/hps/nobackup/stegle/users/acuomo/all_scripts/struct_LMM2/sc_endodiff/mofa_logcounts_model_factors.csv\"\n",
    "E_file = \"/hps/nobackup/stegle/users/acuomo/all_scripts/struct_LMM2/sc_endodiff/pcs_500hvgs.csv\"\n",
    "E = pd.read_csv(E_file, index_col = 0)\n",
    "E = xr.DataArray(E.values, dims=[\"cell\", \"pc\"], coords={\"cell\": E.index.values, \"pc\": E.columns.values})\n",
    "E = E.sel(cell=sample_mapping[\"phenotype_sample_id\"].values)\n",
    "assert all(E.cell.values == sample_mapping[\"phenotype_sample_id\"].values)"
   ]
  },
  {
   "cell_type": "code",
   "execution_count": 14,
   "metadata": {},
   "outputs": [],
   "source": [
    "# subselect to only SNPs on right chromosome\n",
    "G_sel = G.where(G.chrom == str(chrom), drop=True)"
   ]
  },
  {
   "cell_type": "code",
   "execution_count": 15,
   "metadata": {},
   "outputs": [],
   "source": [
    "# G_sel"
   ]
  },
  {
   "cell_type": "code",
   "execution_count": 16,
   "metadata": {},
   "outputs": [
    {
     "name": "stderr",
     "output_type": "stream",
     "text": [
      "/nfs/software/stegle/users/acuomo/conda-envs/struct-lmm2/lib/python3.8/site-packages/xarray/core/indexing.py:1369: PerformanceWarning: Slicing with an out-of-order index is generating 2542 times more chunks\n",
      "  return self.array[key]\n",
      "/nfs/software/stegle/users/acuomo/conda-envs/struct-lmm2/lib/python3.8/site-packages/xarray/core/indexing.py:1369: PerformanceWarning: Slicing is producing a large chunk. To accept the large\n",
      "chunk and silence this warning, set the option\n",
      "    >>> with dask.config.set(**{'array.slicing.split_large_chunks': False}):\n",
      "    ...     array[indexer]\n",
      "\n",
      "To avoid creating the large chunks, set the option\n",
      "    >>> with dask.config.set(**{'array.slicing.split_large_chunks': True}):\n",
      "    ...     array[indexer]\n",
      "  return self.array[key]\n"
     ]
    }
   ],
   "source": [
    "G_exp = G_sel.sel(sample=sample_mapping[\"genotype_individual_id\"].values)\n",
    "assert all(L_expanded.sample.values == G_exp.sample.values)"
   ]
  },
  {
   "cell_type": "code",
   "execution_count": 17,
   "metadata": {},
   "outputs": [],
   "source": [
    "n_factors = 10\n",
    "E = E.values[:,0:n_factors]"
   ]
  },
  {
   "cell_type": "code",
   "execution_count": 18,
   "metadata": {},
   "outputs": [],
   "source": [
    "# get eigendecomposition of EEt\n",
    "[U, S, _] = economic_svd(E)\n",
    "us = U * S\n",
    "# get decomposition of K*EEt\n",
    "Ls = [ddot(us[:,i], L_expanded) for i in range(us.shape[1])]"
   ]
  },
  {
   "cell_type": "code",
   "execution_count": 19,
   "metadata": {},
   "outputs": [
    {
     "data": {
      "text/plain": [
       "(35751, 125)"
      ]
     },
     "execution_count": 19,
     "metadata": {},
     "output_type": "execute_result"
    }
   ],
   "source": [
    "Ls[1].shape"
   ]
  },
  {
   "cell_type": "code",
   "execution_count": 20,
   "metadata": {},
   "outputs": [
    {
     "data": {
      "text/html": [
       "<div>\n",
       "<style scoped>\n",
       "    .dataframe tbody tr th:only-of-type {\n",
       "        vertical-align: middle;\n",
       "    }\n",
       "\n",
       "    .dataframe tbody tr th {\n",
       "        vertical-align: top;\n",
       "    }\n",
       "\n",
       "    .dataframe thead th {\n",
       "        text-align: right;\n",
       "    }\n",
       "</style>\n",
       "<table border=\"1\" class=\"dataframe\">\n",
       "  <thead>\n",
       "    <tr style=\"text-align: right;\">\n",
       "      <th></th>\n",
       "      <th>21843_1#10</th>\n",
       "      <th>21843_1#100</th>\n",
       "      <th>21843_1#101</th>\n",
       "      <th>21843_1#102</th>\n",
       "      <th>21843_1#103</th>\n",
       "      <th>21843_1#105</th>\n",
       "      <th>21843_1#106</th>\n",
       "      <th>21843_1#107</th>\n",
       "      <th>21843_1#108</th>\n",
       "      <th>21843_1#109</th>\n",
       "      <th>...</th>\n",
       "      <th>24539_8#88</th>\n",
       "      <th>24539_8#89</th>\n",
       "      <th>24539_8#90</th>\n",
       "      <th>24539_8#91</th>\n",
       "      <th>24539_8#92</th>\n",
       "      <th>24539_8#93</th>\n",
       "      <th>24539_8#94</th>\n",
       "      <th>24539_8#95</th>\n",
       "      <th>24539_8#97</th>\n",
       "      <th>24539_8#98</th>\n",
       "    </tr>\n",
       "  </thead>\n",
       "  <tbody>\n",
       "    <tr>\n",
       "      <th>ENSG00000000003_TSPAN6</th>\n",
       "      <td>5.520777</td>\n",
       "      <td>6.456208</td>\n",
       "      <td>5.878671</td>\n",
       "      <td>4.860824</td>\n",
       "      <td>5.903640</td>\n",
       "      <td>4.513537</td>\n",
       "      <td>6.401983</td>\n",
       "      <td>5.909216</td>\n",
       "      <td>5.366645</td>\n",
       "      <td>3.228852</td>\n",
       "      <td>...</td>\n",
       "      <td>5.841814</td>\n",
       "      <td>6.104105</td>\n",
       "      <td>6.275649</td>\n",
       "      <td>7.029407</td>\n",
       "      <td>5.806978</td>\n",
       "      <td>6.199875</td>\n",
       "      <td>7.014180</td>\n",
       "      <td>6.228476</td>\n",
       "      <td>6.217161</td>\n",
       "      <td>6.034232</td>\n",
       "    </tr>\n",
       "    <tr>\n",
       "      <th>ENSG00000000419_DPM1</th>\n",
       "      <td>5.392461</td>\n",
       "      <td>6.065923</td>\n",
       "      <td>6.838769</td>\n",
       "      <td>6.614268</td>\n",
       "      <td>6.512403</td>\n",
       "      <td>5.527439</td>\n",
       "      <td>6.525591</td>\n",
       "      <td>6.381135</td>\n",
       "      <td>6.157296</td>\n",
       "      <td>6.248478</td>\n",
       "      <td>...</td>\n",
       "      <td>6.543807</td>\n",
       "      <td>6.369119</td>\n",
       "      <td>7.185421</td>\n",
       "      <td>6.337047</td>\n",
       "      <td>6.162437</td>\n",
       "      <td>5.885993</td>\n",
       "      <td>7.431358</td>\n",
       "      <td>7.013124</td>\n",
       "      <td>4.851771</td>\n",
       "      <td>4.937248</td>\n",
       "    </tr>\n",
       "    <tr>\n",
       "      <th>ENSG00000000457_SCYL3</th>\n",
       "      <td>0.000174</td>\n",
       "      <td>0.352597</td>\n",
       "      <td>0.000000</td>\n",
       "      <td>0.825955</td>\n",
       "      <td>2.201697</td>\n",
       "      <td>0.262446</td>\n",
       "      <td>0.000000</td>\n",
       "      <td>1.506837</td>\n",
       "      <td>0.283516</td>\n",
       "      <td>3.241977</td>\n",
       "      <td>...</td>\n",
       "      <td>0.017386</td>\n",
       "      <td>0.949668</td>\n",
       "      <td>0.035526</td>\n",
       "      <td>0.032044</td>\n",
       "      <td>1.773369</td>\n",
       "      <td>0.000000</td>\n",
       "      <td>0.108025</td>\n",
       "      <td>1.756339</td>\n",
       "      <td>2.492943</td>\n",
       "      <td>1.363441</td>\n",
       "    </tr>\n",
       "    <tr>\n",
       "      <th>ENSG00000000460_C1orf112</th>\n",
       "      <td>1.471928</td>\n",
       "      <td>4.536968</td>\n",
       "      <td>4.318528</td>\n",
       "      <td>5.373009</td>\n",
       "      <td>4.636175</td>\n",
       "      <td>4.225468</td>\n",
       "      <td>0.409785</td>\n",
       "      <td>3.668277</td>\n",
       "      <td>3.057933</td>\n",
       "      <td>3.154891</td>\n",
       "      <td>...</td>\n",
       "      <td>4.720967</td>\n",
       "      <td>3.791536</td>\n",
       "      <td>2.696476</td>\n",
       "      <td>4.227515</td>\n",
       "      <td>4.243689</td>\n",
       "      <td>3.227508</td>\n",
       "      <td>2.621121</td>\n",
       "      <td>3.950978</td>\n",
       "      <td>3.926914</td>\n",
       "      <td>4.211904</td>\n",
       "    </tr>\n",
       "    <tr>\n",
       "      <th>ENSG00000001036_FUCA2</th>\n",
       "      <td>2.908802</td>\n",
       "      <td>3.867327</td>\n",
       "      <td>3.321747</td>\n",
       "      <td>3.736476</td>\n",
       "      <td>4.917576</td>\n",
       "      <td>2.456866</td>\n",
       "      <td>0.577839</td>\n",
       "      <td>4.777404</td>\n",
       "      <td>2.873857</td>\n",
       "      <td>2.536708</td>\n",
       "      <td>...</td>\n",
       "      <td>3.070608</td>\n",
       "      <td>4.491643</td>\n",
       "      <td>4.206249</td>\n",
       "      <td>3.695005</td>\n",
       "      <td>2.652845</td>\n",
       "      <td>4.221847</td>\n",
       "      <td>3.188030</td>\n",
       "      <td>4.741496</td>\n",
       "      <td>3.872743</td>\n",
       "      <td>4.374577</td>\n",
       "    </tr>\n",
       "    <tr>\n",
       "      <th>...</th>\n",
       "      <td>...</td>\n",
       "      <td>...</td>\n",
       "      <td>...</td>\n",
       "      <td>...</td>\n",
       "      <td>...</td>\n",
       "      <td>...</td>\n",
       "      <td>...</td>\n",
       "      <td>...</td>\n",
       "      <td>...</td>\n",
       "      <td>...</td>\n",
       "      <td>...</td>\n",
       "      <td>...</td>\n",
       "      <td>...</td>\n",
       "      <td>...</td>\n",
       "      <td>...</td>\n",
       "      <td>...</td>\n",
       "      <td>...</td>\n",
       "      <td>...</td>\n",
       "      <td>...</td>\n",
       "      <td>...</td>\n",
       "      <td>...</td>\n",
       "    </tr>\n",
       "    <tr>\n",
       "      <th>ENSG00000271043_MTRNR2L2</th>\n",
       "      <td>8.993125</td>\n",
       "      <td>10.310311</td>\n",
       "      <td>10.112632</td>\n",
       "      <td>9.380978</td>\n",
       "      <td>9.511378</td>\n",
       "      <td>7.531314</td>\n",
       "      <td>9.565223</td>\n",
       "      <td>9.659486</td>\n",
       "      <td>7.748536</td>\n",
       "      <td>10.087547</td>\n",
       "      <td>...</td>\n",
       "      <td>5.273407</td>\n",
       "      <td>5.649628</td>\n",
       "      <td>5.465876</td>\n",
       "      <td>5.388675</td>\n",
       "      <td>5.636233</td>\n",
       "      <td>1.709041</td>\n",
       "      <td>7.568684</td>\n",
       "      <td>6.345048</td>\n",
       "      <td>7.577899</td>\n",
       "      <td>7.012576</td>\n",
       "    </tr>\n",
       "    <tr>\n",
       "      <th>ENSG00000271303_SRXN1</th>\n",
       "      <td>0.000000</td>\n",
       "      <td>0.000000</td>\n",
       "      <td>0.390075</td>\n",
       "      <td>0.000000</td>\n",
       "      <td>0.000000</td>\n",
       "      <td>0.000000</td>\n",
       "      <td>0.000000</td>\n",
       "      <td>0.000000</td>\n",
       "      <td>2.388986</td>\n",
       "      <td>0.000000</td>\n",
       "      <td>...</td>\n",
       "      <td>0.000000</td>\n",
       "      <td>3.061808</td>\n",
       "      <td>1.707139</td>\n",
       "      <td>0.000000</td>\n",
       "      <td>2.637493</td>\n",
       "      <td>0.000000</td>\n",
       "      <td>0.000000</td>\n",
       "      <td>0.284224</td>\n",
       "      <td>0.000000</td>\n",
       "      <td>0.000000</td>\n",
       "    </tr>\n",
       "    <tr>\n",
       "      <th>ENSG00000272047_GTF2H5</th>\n",
       "      <td>1.397666</td>\n",
       "      <td>1.399811</td>\n",
       "      <td>2.421133</td>\n",
       "      <td>2.250520</td>\n",
       "      <td>2.633359</td>\n",
       "      <td>2.078498</td>\n",
       "      <td>1.513069</td>\n",
       "      <td>2.972922</td>\n",
       "      <td>2.012249</td>\n",
       "      <td>1.675936</td>\n",
       "      <td>...</td>\n",
       "      <td>2.316120</td>\n",
       "      <td>2.299498</td>\n",
       "      <td>2.392277</td>\n",
       "      <td>1.653269</td>\n",
       "      <td>2.254969</td>\n",
       "      <td>3.208027</td>\n",
       "      <td>4.137374</td>\n",
       "      <td>1.847985</td>\n",
       "      <td>2.144427</td>\n",
       "      <td>2.105545</td>\n",
       "    </tr>\n",
       "    <tr>\n",
       "      <th>ENSG00000272325_NUDT3</th>\n",
       "      <td>0.716015</td>\n",
       "      <td>1.857059</td>\n",
       "      <td>2.499615</td>\n",
       "      <td>2.615108</td>\n",
       "      <td>1.682406</td>\n",
       "      <td>2.295494</td>\n",
       "      <td>2.040256</td>\n",
       "      <td>1.896238</td>\n",
       "      <td>1.236113</td>\n",
       "      <td>1.544098</td>\n",
       "      <td>...</td>\n",
       "      <td>1.210306</td>\n",
       "      <td>0.538546</td>\n",
       "      <td>1.002614</td>\n",
       "      <td>1.901335</td>\n",
       "      <td>1.037860</td>\n",
       "      <td>2.139444</td>\n",
       "      <td>0.852408</td>\n",
       "      <td>1.091890</td>\n",
       "      <td>2.796956</td>\n",
       "      <td>2.493385</td>\n",
       "    </tr>\n",
       "    <tr>\n",
       "      <th>ENSG00000272398_CD24</th>\n",
       "      <td>2.578313</td>\n",
       "      <td>0.000000</td>\n",
       "      <td>0.889010</td>\n",
       "      <td>1.963302</td>\n",
       "      <td>1.412966</td>\n",
       "      <td>2.786519</td>\n",
       "      <td>2.613693</td>\n",
       "      <td>2.439682</td>\n",
       "      <td>2.053146</td>\n",
       "      <td>1.702990</td>\n",
       "      <td>...</td>\n",
       "      <td>7.369764</td>\n",
       "      <td>7.730984</td>\n",
       "      <td>7.952429</td>\n",
       "      <td>7.818579</td>\n",
       "      <td>7.765602</td>\n",
       "      <td>7.552773</td>\n",
       "      <td>7.631217</td>\n",
       "      <td>7.109529</td>\n",
       "      <td>7.185068</td>\n",
       "      <td>6.756138</td>\n",
       "    </tr>\n",
       "  </tbody>\n",
       "</table>\n",
       "<p>11231 rows × 36044 columns</p>\n",
       "</div>"
      ],
      "text/plain": [
       "                          21843_1#10  21843_1#100  21843_1#101  21843_1#102  \\\n",
       "ENSG00000000003_TSPAN6      5.520777     6.456208     5.878671     4.860824   \n",
       "ENSG00000000419_DPM1        5.392461     6.065923     6.838769     6.614268   \n",
       "ENSG00000000457_SCYL3       0.000174     0.352597     0.000000     0.825955   \n",
       "ENSG00000000460_C1orf112    1.471928     4.536968     4.318528     5.373009   \n",
       "ENSG00000001036_FUCA2       2.908802     3.867327     3.321747     3.736476   \n",
       "...                              ...          ...          ...          ...   \n",
       "ENSG00000271043_MTRNR2L2    8.993125    10.310311    10.112632     9.380978   \n",
       "ENSG00000271303_SRXN1       0.000000     0.000000     0.390075     0.000000   \n",
       "ENSG00000272047_GTF2H5      1.397666     1.399811     2.421133     2.250520   \n",
       "ENSG00000272325_NUDT3       0.716015     1.857059     2.499615     2.615108   \n",
       "ENSG00000272398_CD24        2.578313     0.000000     0.889010     1.963302   \n",
       "\n",
       "                          21843_1#103  21843_1#105  21843_1#106  21843_1#107  \\\n",
       "ENSG00000000003_TSPAN6       5.903640     4.513537     6.401983     5.909216   \n",
       "ENSG00000000419_DPM1         6.512403     5.527439     6.525591     6.381135   \n",
       "ENSG00000000457_SCYL3        2.201697     0.262446     0.000000     1.506837   \n",
       "ENSG00000000460_C1orf112     4.636175     4.225468     0.409785     3.668277   \n",
       "ENSG00000001036_FUCA2        4.917576     2.456866     0.577839     4.777404   \n",
       "...                               ...          ...          ...          ...   \n",
       "ENSG00000271043_MTRNR2L2     9.511378     7.531314     9.565223     9.659486   \n",
       "ENSG00000271303_SRXN1        0.000000     0.000000     0.000000     0.000000   \n",
       "ENSG00000272047_GTF2H5       2.633359     2.078498     1.513069     2.972922   \n",
       "ENSG00000272325_NUDT3        1.682406     2.295494     2.040256     1.896238   \n",
       "ENSG00000272398_CD24         1.412966     2.786519     2.613693     2.439682   \n",
       "\n",
       "                          21843_1#108  21843_1#109  ...  24539_8#88  \\\n",
       "ENSG00000000003_TSPAN6       5.366645     3.228852  ...    5.841814   \n",
       "ENSG00000000419_DPM1         6.157296     6.248478  ...    6.543807   \n",
       "ENSG00000000457_SCYL3        0.283516     3.241977  ...    0.017386   \n",
       "ENSG00000000460_C1orf112     3.057933     3.154891  ...    4.720967   \n",
       "ENSG00000001036_FUCA2        2.873857     2.536708  ...    3.070608   \n",
       "...                               ...          ...  ...         ...   \n",
       "ENSG00000271043_MTRNR2L2     7.748536    10.087547  ...    5.273407   \n",
       "ENSG00000271303_SRXN1        2.388986     0.000000  ...    0.000000   \n",
       "ENSG00000272047_GTF2H5       2.012249     1.675936  ...    2.316120   \n",
       "ENSG00000272325_NUDT3        1.236113     1.544098  ...    1.210306   \n",
       "ENSG00000272398_CD24         2.053146     1.702990  ...    7.369764   \n",
       "\n",
       "                          24539_8#89  24539_8#90  24539_8#91  24539_8#92  \\\n",
       "ENSG00000000003_TSPAN6      6.104105    6.275649    7.029407    5.806978   \n",
       "ENSG00000000419_DPM1        6.369119    7.185421    6.337047    6.162437   \n",
       "ENSG00000000457_SCYL3       0.949668    0.035526    0.032044    1.773369   \n",
       "ENSG00000000460_C1orf112    3.791536    2.696476    4.227515    4.243689   \n",
       "ENSG00000001036_FUCA2       4.491643    4.206249    3.695005    2.652845   \n",
       "...                              ...         ...         ...         ...   \n",
       "ENSG00000271043_MTRNR2L2    5.649628    5.465876    5.388675    5.636233   \n",
       "ENSG00000271303_SRXN1       3.061808    1.707139    0.000000    2.637493   \n",
       "ENSG00000272047_GTF2H5      2.299498    2.392277    1.653269    2.254969   \n",
       "ENSG00000272325_NUDT3       0.538546    1.002614    1.901335    1.037860   \n",
       "ENSG00000272398_CD24        7.730984    7.952429    7.818579    7.765602   \n",
       "\n",
       "                          24539_8#93  24539_8#94  24539_8#95  24539_8#97  \\\n",
       "ENSG00000000003_TSPAN6      6.199875    7.014180    6.228476    6.217161   \n",
       "ENSG00000000419_DPM1        5.885993    7.431358    7.013124    4.851771   \n",
       "ENSG00000000457_SCYL3       0.000000    0.108025    1.756339    2.492943   \n",
       "ENSG00000000460_C1orf112    3.227508    2.621121    3.950978    3.926914   \n",
       "ENSG00000001036_FUCA2       4.221847    3.188030    4.741496    3.872743   \n",
       "...                              ...         ...         ...         ...   \n",
       "ENSG00000271043_MTRNR2L2    1.709041    7.568684    6.345048    7.577899   \n",
       "ENSG00000271303_SRXN1       0.000000    0.000000    0.284224    0.000000   \n",
       "ENSG00000272047_GTF2H5      3.208027    4.137374    1.847985    2.144427   \n",
       "ENSG00000272325_NUDT3       2.139444    0.852408    1.091890    2.796956   \n",
       "ENSG00000272398_CD24        7.552773    7.631217    7.109529    7.185068   \n",
       "\n",
       "                          24539_8#98  \n",
       "ENSG00000000003_TSPAN6      6.034232  \n",
       "ENSG00000000419_DPM1        4.937248  \n",
       "ENSG00000000457_SCYL3       1.363441  \n",
       "ENSG00000000460_C1orf112    4.211904  \n",
       "ENSG00000001036_FUCA2       4.374577  \n",
       "...                              ...  \n",
       "ENSG00000271043_MTRNR2L2    7.012576  \n",
       "ENSG00000271303_SRXN1       0.000000  \n",
       "ENSG00000272047_GTF2H5      2.105545  \n",
       "ENSG00000272325_NUDT3       2.493385  \n",
       "ENSG00000272398_CD24        6.756138  \n",
       "\n",
       "[11231 rows x 36044 columns]"
      ]
     },
     "execution_count": 20,
     "metadata": {},
     "output_type": "execute_result"
    }
   ],
   "source": [
    "# Phenotype\n",
    "phenotype_file = \"/hps/nobackup/stegle/users/acuomo/all_scripts/struct_LMM2/sc_endodiff/exprs_alldays_allgenes.tsv.pkl\"\n",
    "phenotype = pd.read_pickle(phenotype_file)\n",
    "phenotype"
   ]
  },
  {
   "cell_type": "code",
   "execution_count": 21,
   "metadata": {},
   "outputs": [
    {
     "name": "stdout",
     "output_type": "stream",
     "text": [
      "Phenotype shape BEFORE selection: (11231, 36044)\n",
      "Phenotype shape AFTER selection: (11231, 35751)\n"
     ]
    }
   ],
   "source": [
    "print(\"Phenotype shape BEFORE selection: {}\".format(phenotype.shape))\n",
    "phenotype = xr.DataArray(phenotype.values, dims=[\"trait\", \"cell\"], coords={\"trait\": phenotype.index.values, \"cell\": phenotype.columns.values})\n",
    "phenotype = phenotype.sel(cell=sample_mapping[\"phenotype_sample_id\"].values)\n",
    "print(\"Phenotype shape AFTER selection: {}\".format(phenotype.shape))\n",
    "assert all(phenotype.cell.values == sample_mapping[\"phenotype_sample_id\"].values)"
   ]
  },
  {
   "cell_type": "code",
   "execution_count": 22,
   "metadata": {},
   "outputs": [],
   "source": [
    "# phenotype"
   ]
  },
  {
   "cell_type": "code",
   "execution_count": 23,
   "metadata": {},
   "outputs": [],
   "source": [
    "# Filter on specific gene-SNP pairs\n",
    "# eQTL from endodiff (ips+mesendo+defendo)\n",
    "endo_eqtl_file = \"/hps/nobackup/stegle/users/acuomo/all_scripts/struct_LMM2/sc_endodiff/eqtl_allstages.tsv\"\n",
    "endo_eqtl = pd.read_csv(endo_eqtl_file, sep=\"\\t\", index_col = False)\n",
    "endo_eqtl[\"chrom\"] = [int(i[:i.find(\"_\")]) for i in endo_eqtl[\"snp_id\"]]\n",
    "genes = endo_eqtl[endo_eqtl['chrom']==int(chrom)]['feature'].unique()\n",
    "# genes"
   ]
  },
  {
   "cell_type": "code",
   "execution_count": 24,
   "metadata": {},
   "outputs": [
    {
     "data": {
      "text/plain": [
       "172"
      ]
     },
     "execution_count": 24,
     "metadata": {},
     "output_type": "execute_result"
    }
   ],
   "source": [
    "len(genes)"
   ]
  },
  {
   "cell_type": "code",
   "execution_count": 25,
   "metadata": {},
   "outputs": [],
   "source": [
    "# Set up model\n",
    "n_samples = phenotype.shape[1]\n",
    "M = ones((n_samples, 1))"
   ]
  },
  {
   "cell_type": "code",
   "execution_count": 26,
   "metadata": {},
   "outputs": [],
   "source": [
    "# i = 0\n",
    "# trait_name = genes[i]"
   ]
  },
  {
   "cell_type": "code",
   "execution_count": 27,
   "metadata": {},
   "outputs": [
    {
     "data": {
      "text/plain": [
       "'ENSG00000173401_GLIPR1L1'"
      ]
     },
     "execution_count": 27,
     "metadata": {},
     "output_type": "execute_result"
    }
   ],
   "source": [
    "# trait_name = \"ENSG00000226278_PSPHP1\"  # chr 7\n",
    "# trait_name = \"ENSG00000111671_SPSB2\"   # chr 12\n",
    "# trait_name = \"ENSG00000147813_NAPRT1\"  # chr 8\n",
    "# trait_name = \"ENSG00000165650_PDZD8\"   # chr 10\n",
    "# trait_name = \"ENSG00000229150_CRYGEP\"  # chr 2\n",
    "trait_name = \"ENSG00000173401_GLIPR1L1\" # chr 12 \n",
    "# trait_name = \"ENSG00000180767_CHST13\" # chr 3\n",
    "trait_name"
   ]
  },
  {
   "cell_type": "code",
   "execution_count": 28,
   "metadata": {},
   "outputs": [],
   "source": [
    "y = phenotype.sel(trait=trait_name)"
   ]
  },
  {
   "cell_type": "code",
   "execution_count": 29,
   "metadata": {},
   "outputs": [
    {
     "data": {
      "image/png": "[encoded data removed]",
      "text/plain": [
       "<Figure size 432x288 with 1 Axes>"
      ]
     },
     "metadata": {
      "needs_background": "light"
     },
     "output_type": "display_data"
    }
   ],
   "source": [
    "plt.hist(y)\n",
    "plt.show()"
   ]
  },
  {
   "cell_type": "code",
   "execution_count": 30,
   "metadata": {},
   "outputs": [],
   "source": [
    "y = quantile_gaussianize(y)"
   ]
  },
  {
   "cell_type": "code",
   "execution_count": 31,
   "metadata": {},
   "outputs": [
    {
     "data": {
      "image/png": "[encoded data removed]",
      "text/plain": [
       "<Figure size 432x288 with 1 Axes>"
      ]
     },
     "metadata": {
      "needs_background": "light"
     },
     "output_type": "display_data"
    }
   ],
   "source": [
    "plt.hist(y)\n",
    "plt.show()"
   ]
  },
  {
   "cell_type": "code",
   "execution_count": 32,
   "metadata": {},
   "outputs": [],
   "source": [
    "E = quantile_gaussianize(E)"
   ]
  },
  {
   "cell_type": "code",
   "execution_count": 33,
   "metadata": {},
   "outputs": [],
   "source": [
    "y = np.asarray(y)"
   ]
  },
  {
   "cell_type": "code",
   "execution_count": 34,
   "metadata": {},
   "outputs": [],
   "source": [
    "slmm2 = StructLMM2(y, M, E, Ls)"
   ]
  },
  {
   "cell_type": "code",
   "execution_count": 35,
   "metadata": {},
   "outputs": [
    {
     "data": {
      "text/html": [
       "<div><svg style=\"position: absolute; width: 0; height: 0; overflow: hidden\">\n",
       "<defs>\n",
       "<symbol id=\"icon-database\" viewBox=\"0 0 32 32\">\n",
       "<path d=\"M16 0c-8.837 0-16 2.239-16 5v4c0 2.761 7.163 5 16 5s16-2.239 16-5v-4c0-2.761-7.163-5-16-5z\"></path>\n",
       "<path d=\"M16 17c-8.837 0-16-2.239-16-5v6c0 2.761 7.163 5 16 5s16-2.239 16-5v-6c0 2.761-7.163 5-16 5z\"></path>\n",
       "<path d=\"M16 26c-8.837 0-16-2.239-16-5v6c0 2.761 7.163 5 16 5s16-2.239 16-5v-6c0 2.761-7.163 5-16 5z\"></path>\n",
       "</symbol>\n",
       "<symbol id=\"icon-file-text2\" viewBox=\"0 0 32 32\">\n",
       "<path d=\"M28.681 7.159c-0.694-0.947-1.662-2.053-2.724-3.116s-2.169-2.030-3.116-2.724c-1.612-1.182-2.393-1.319-2.841-1.319h-15.5c-1.378 0-2.5 1.121-2.5 2.5v27c0 1.378 1.122 2.5 2.5 2.5h23c1.378 0 2.5-1.122 2.5-2.5v-19.5c0-0.448-0.137-1.23-1.319-2.841zM24.543 5.457c0.959 0.959 1.712 1.825 2.268 2.543h-4.811v-4.811c0.718 0.556 1.584 1.309 2.543 2.268zM28 29.5c0 0.271-0.229 0.5-0.5 0.5h-23c-0.271 0-0.5-0.229-0.5-0.5v-27c0-0.271 0.229-0.5 0.5-0.5 0 0 15.499-0 15.5 0v7c0 0.552 0.448 1 1 1h7v19.5z\"></path>\n",
       "<path d=\"M23 26h-14c-0.552 0-1-0.448-1-1s0.448-1 1-1h14c0.552 0 1 0.448 1 1s-0.448 1-1 1z\"></path>\n",
       "<path d=\"M23 22h-14c-0.552 0-1-0.448-1-1s0.448-1 1-1h14c0.552 0 1 0.448 1 1s-0.448 1-1 1z\"></path>\n",
       "<path d=\"M23 18h-14c-0.552 0-1-0.448-1-1s0.448-1 1-1h14c0.552 0 1 0.448 1 1s-0.448 1-1 1z\"></path>\n",
       "</symbol>\n",
       "</defs>\n",
       "</svg>\n",
       "<style>/* CSS stylesheet for displaying xarray objects in jupyterlab.\n",
       " *\n",
       " */\n",
       "\n",
       ":root {\n",
       "  --xr-font-color0: var(--jp-content-font-color0, rgba(0, 0, 0, 1));\n",
       "  --xr-font-color2: var(--jp-content-font-color2, rgba(0, 0, 0, 0.54));\n",
       "  --xr-font-color3: var(--jp-content-font-color3, rgba(0, 0, 0, 0.38));\n",
       "  --xr-border-color: var(--jp-border-color2, #e0e0e0);\n",
       "  --xr-disabled-color: var(--jp-layout-color3, #bdbdbd);\n",
       "  --xr-background-color: var(--jp-layout-color0, white);\n",
       "  --xr-background-color-row-even: var(--jp-layout-color1, white);\n",
       "  --xr-background-color-row-odd: var(--jp-layout-color2, #eeeeee);\n",
       "}\n",
       "\n",
       "html[theme=dark],\n",
       "body.vscode-dark {\n",
       "  --xr-font-color0: rgba(255, 255, 255, 1);\n",
       "  --xr-font-color2: rgba(255, 255, 255, 0.54);\n",
       "  --xr-font-color3: rgba(255, 255, 255, 0.38);\n",
       "  --xr-border-color: #1F1F1F;\n",
       "  --xr-disabled-color: #515151;\n",
       "  --xr-background-color: #111111;\n",
       "  --xr-background-color-row-even: #111111;\n",
       "  --xr-background-color-row-odd: #313131;\n",
       "}\n",
       "\n",
       ".xr-wrap {\n",
       "  display: block;\n",
       "  min-width: 300px;\n",
       "  max-width: 700px;\n",
       "}\n",
       "\n",
       ".xr-text-repr-fallback {\n",
       "  /* fallback to plain text repr when CSS is not injected (untrusted notebook) */\n",
       "  display: none;\n",
       "}\n",
       "\n",
       ".xr-header {\n",
       "  padding-top: 6px;\n",
       "  padding-bottom: 6px;\n",
       "  margin-bottom: 4px;\n",
       "  border-bottom: solid 1px var(--xr-border-color);\n",
       "}\n",
       "\n",
       ".xr-header > div,\n",
       ".xr-header > ul {\n",
       "  display: inline;\n",
       "  margin-top: 0;\n",
       "  margin-bottom: 0;\n",
       "}\n",
       "\n",
       ".xr-obj-type,\n",
       ".xr-array-name {\n",
       "  margin-left: 2px;\n",
       "  margin-right: 10px;\n",
       "}\n",
       "\n",
       ".xr-obj-type {\n",
       "  color: var(--xr-font-color2);\n",
       "}\n",
       "\n",
       ".xr-sections {\n",
       "  padding-left: 0 !important;\n",
       "  display: grid;\n",
       "  grid-template-columns: 150px auto auto 1fr 20px 20px;\n",
       "}\n",
       "\n",
       ".xr-section-item {\n",
       "  display: contents;\n",
       "}\n",
       "\n",
       ".xr-section-item input {\n",
       "  display: none;\n",
       "}\n",
       "\n",
       ".xr-section-item input + label {\n",
       "  color: var(--xr-disabled-color);\n",
       "}\n",
       "\n",
       ".xr-section-item input:enabled + label {\n",
       "  cursor: pointer;\n",
       "  color: var(--xr-font-color2);\n",
       "}\n",
       "\n",
       ".xr-section-item input:enabled + label:hover {\n",
       "  color: var(--xr-font-color0);\n",
       "}\n",
       "\n",
       ".xr-section-summary {\n",
       "  grid-column: 1;\n",
       "  color: var(--xr-font-color2);\n",
       "  font-weight: 500;\n",
       "}\n",
       "\n",
       ".xr-section-summary > span {\n",
       "  display: inline-block;\n",
       "  padding-left: 0.5em;\n",
       "}\n",
       "\n",
       ".xr-section-summary-in:disabled + label {\n",
       "  color: var(--xr-font-color2);\n",
       "}\n",
       "\n",
       ".xr-section-summary-in + label:before {\n",
       "  display: inline-block;\n",
       "  content: '►';\n",
       "  font-size: 11px;\n",
       "  width: 15px;\n",
       "  text-align: center;\n",
       "}\n",
       "\n",
       ".xr-section-summary-in:disabled + label:before {\n",
       "  color: var(--xr-disabled-color);\n",
       "}\n",
       "\n",
       ".xr-section-summary-in:checked + label:before {\n",
       "  content: '▼';\n",
       "}\n",
       "\n",
       ".xr-section-summary-in:checked + label > span {\n",
       "  display: none;\n",
       "}\n",
       "\n",
       ".xr-section-summary,\n",
       ".xr-section-inline-details {\n",
       "  padding-top: 4px;\n",
       "  padding-bottom: 4px;\n",
       "}\n",
       "\n",
       ".xr-section-inline-details {\n",
       "  grid-column: 2 / -1;\n",
       "}\n",
       "\n",
       ".xr-section-details {\n",
       "  display: none;\n",
       "  grid-column: 1 / -1;\n",
       "  margin-bottom: 5px;\n",
       "}\n",
       "\n",
       ".xr-section-summary-in:checked ~ .xr-section-details {\n",
       "  display: contents;\n",
       "}\n",
       "\n",
       ".xr-array-wrap {\n",
       "  grid-column: 1 / -1;\n",
       "  display: grid;\n",
       "  grid-template-columns: 20px auto;\n",
       "}\n",
       "\n",
       ".xr-array-wrap > label {\n",
       "  grid-column: 1;\n",
       "  vertical-align: top;\n",
       "}\n",
       "\n",
       ".xr-preview {\n",
       "  color: var(--xr-font-color3);\n",
       "}\n",
       "\n",
       ".xr-array-preview,\n",
       ".xr-array-data {\n",
       "  padding: 0 5px !important;\n",
       "  grid-column: 2;\n",
       "}\n",
       "\n",
       ".xr-array-data,\n",
       ".xr-array-in:checked ~ .xr-array-preview {\n",
       "  display: none;\n",
       "}\n",
       "\n",
       ".xr-array-in:checked ~ .xr-array-data,\n",
       ".xr-array-preview {\n",
       "  display: inline-block;\n",
       "}\n",
       "\n",
       ".xr-dim-list {\n",
       "  display: inline-block !important;\n",
       "  list-style: none;\n",
       "  padding: 0 !important;\n",
       "  margin: 0;\n",
       "}\n",
       "\n",
       ".xr-dim-list li {\n",
       "  display: inline-block;\n",
       "  padding: 0;\n",
       "  margin: 0;\n",
       "}\n",
       "\n",
       ".xr-dim-list:before {\n",
       "  content: '(';\n",
       "}\n",
       "\n",
       ".xr-dim-list:after {\n",
       "  content: ')';\n",
       "}\n",
       "\n",
       ".xr-dim-list li:not(:last-child):after {\n",
       "  content: ',';\n",
       "  padding-right: 5px;\n",
       "}\n",
       "\n",
       ".xr-has-index {\n",
       "  font-weight: bold;\n",
       "}\n",
       "\n",
       ".xr-var-list,\n",
       ".xr-var-item {\n",
       "  display: contents;\n",
       "}\n",
       "\n",
       ".xr-var-item > div,\n",
       ".xr-var-item label,\n",
       ".xr-var-item > .xr-var-name span {\n",
       "  background-color: var(--xr-background-color-row-even);\n",
       "  margin-bottom: 0;\n",
       "}\n",
       "\n",
       ".xr-var-item > .xr-var-name:hover span {\n",
       "  padding-right: 5px;\n",
       "}\n",
       "\n",
       ".xr-var-list > li:nth-child(odd) > div,\n",
       ".xr-var-list > li:nth-child(odd) > label,\n",
       ".xr-var-list > li:nth-child(odd) > .xr-var-name span {\n",
       "  background-color: var(--xr-background-color-row-odd);\n",
       "}\n",
       "\n",
       ".xr-var-name {\n",
       "  grid-column: 1;\n",
       "}\n",
       "\n",
       ".xr-var-dims {\n",
       "  grid-column: 2;\n",
       "}\n",
       "\n",
       ".xr-var-dtype {\n",
       "  grid-column: 3;\n",
       "  text-align: right;\n",
       "  color: var(--xr-font-color2);\n",
       "}\n",
       "\n",
       ".xr-var-preview {\n",
       "  grid-column: 4;\n",
       "}\n",
       "\n",
       ".xr-var-name,\n",
       ".xr-var-dims,\n",
       ".xr-var-dtype,\n",
       ".xr-preview,\n",
       ".xr-attrs dt {\n",
       "  white-space: nowrap;\n",
       "  overflow: hidden;\n",
       "  text-overflow: ellipsis;\n",
       "  padding-right: 10px;\n",
       "}\n",
       "\n",
       ".xr-var-name:hover,\n",
       ".xr-var-dims:hover,\n",
       ".xr-var-dtype:hover,\n",
       ".xr-attrs dt:hover {\n",
       "  overflow: visible;\n",
       "  width: auto;\n",
       "  z-index: 1;\n",
       "}\n",
       "\n",
       ".xr-var-attrs,\n",
       ".xr-var-data {\n",
       "  display: none;\n",
       "  background-color: var(--xr-background-color) !important;\n",
       "  padding-bottom: 5px !important;\n",
       "}\n",
       "\n",
       ".xr-var-attrs-in:checked ~ .xr-var-attrs,\n",
       ".xr-var-data-in:checked ~ .xr-var-data {\n",
       "  display: block;\n",
       "}\n",
       "\n",
       ".xr-var-data > table {\n",
       "  float: right;\n",
       "}\n",
       "\n",
       ".xr-var-name span,\n",
       ".xr-var-data,\n",
       ".xr-attrs {\n",
       "  padding-left: 25px !important;\n",
       "}\n",
       "\n",
       ".xr-attrs,\n",
       ".xr-var-attrs,\n",
       ".xr-var-data {\n",
       "  grid-column: 1 / -1;\n",
       "}\n",
       "\n",
       "dl.xr-attrs {\n",
       "  padding: 0;\n",
       "  margin: 0;\n",
       "  display: grid;\n",
       "  grid-template-columns: 125px auto;\n",
       "}\n",
       "\n",
       ".xr-attrs dt,\n",
       ".xr-attrs dd {\n",
       "  padding: 0;\n",
       "  margin: 0;\n",
       "  float: left;\n",
       "  padding-right: 10px;\n",
       "  width: auto;\n",
       "}\n",
       "\n",
       ".xr-attrs dt {\n",
       "  font-weight: normal;\n",
       "  grid-column: 1;\n",
       "}\n",
       "\n",
       ".xr-attrs dt:hover span {\n",
       "  display: inline-block;\n",
       "  background: var(--xr-background-color);\n",
       "  padding-right: 10px;\n",
       "}\n",
       "\n",
       ".xr-attrs dd {\n",
       "  grid-column: 2;\n",
       "  white-space: pre-wrap;\n",
       "  word-break: break-all;\n",
       "}\n",
       "\n",
       ".xr-icon-database,\n",
       ".xr-icon-file-text2 {\n",
       "  display: inline-block;\n",
       "  vertical-align: middle;\n",
       "  width: 1em;\n",
       "  height: 1.5em !important;\n",
       "  stroke-width: 0;\n",
       "  stroke: currentColor;\n",
       "  fill: currentColor;\n",
       "}\n",
       "</style><pre class='xr-text-repr-fallback'>&lt;xarray.DataArray &#x27;variant&#x27; (variant: 2)&gt;\n",
       "array([&#x27;12_12_75737206_G_A&#x27;, &#x27;12_12_75768869_G_T&#x27;], dtype=object)\n",
       "Coordinates:\n",
       "  * variant  (variant) object &#x27;12_12_75737206_G_A&#x27; &#x27;12_12_75768869_G_T&#x27;\n",
       "    chrom    (variant) object &#x27;12&#x27; &#x27;12&#x27;\n",
       "    snp      (variant) object &#x27;12_75737206_G_A&#x27; &#x27;12_75768869_G_T&#x27;\n",
       "    cm       (variant) float64 0.0 0.0\n",
       "    pos      (variant) int32 75737206 75768869\n",
       "    a0       (variant) object &#x27;G&#x27; &#x27;G&#x27;\n",
       "    a1       (variant) object &#x27;A&#x27; &#x27;T&#x27;</pre><div class='xr-wrap' hidden><div class='xr-header'><div class='xr-obj-type'>xarray.DataArray</div><div class='xr-array-name'>'variant'</div><ul class='xr-dim-list'><li><span class='xr-has-index'>variant</span>: 2</li></ul></div><ul class='xr-sections'><li class='xr-section-item'><div class='xr-array-wrap'><input id='section-85c8a6ad-0372-4601-899c-81f768039ef2' class='xr-array-in' type='checkbox' checked><label for='section-85c8a6ad-0372-4601-899c-81f768039ef2' title='Show/hide data repr'><svg class='icon xr-icon-database'><use xlink:href='#icon-database'></use></svg></label><div class='xr-array-preview xr-preview'><span>&#x27;12_12_75737206_G_A&#x27; &#x27;12_12_75768869_G_T&#x27;</span></div><div class='xr-array-data'><pre>array([&#x27;12_12_75737206_G_A&#x27;, &#x27;12_12_75768869_G_T&#x27;], dtype=object)</pre></div></div></li><li class='xr-section-item'><input id='section-c099f298-7623-4d95-9b09-572e38e52c74' class='xr-section-summary-in' type='checkbox'  checked><label for='section-c099f298-7623-4d95-9b09-572e38e52c74' class='xr-section-summary' >Coordinates: <span>(7)</span></label><div class='xr-section-inline-details'></div><div class='xr-section-details'><ul class='xr-var-list'><li class='xr-var-item'><div class='xr-var-name'><span class='xr-has-index'>variant</span></div><div class='xr-var-dims'>(variant)</div><div class='xr-var-dtype'>object</div><div class='xr-var-preview xr-preview'>&#x27;12_12_75737206_G_A&#x27; &#x27;12_12_7576...</div><input id='attrs-671346fa-bd67-43fa-a13d-1737983697b6' class='xr-var-attrs-in' type='checkbox' disabled><label for='attrs-671346fa-bd67-43fa-a13d-1737983697b6' title='Show/Hide attributes'><svg class='icon xr-icon-file-text2'><use xlink:href='#icon-file-text2'></use></svg></label><input id='data-d51ebc45-f7ed-4502-9f3c-5823a153db04' class='xr-var-data-in' type='checkbox'><label for='data-d51ebc45-f7ed-4502-9f3c-5823a153db04' title='Show/Hide data repr'><svg class='icon xr-icon-database'><use xlink:href='#icon-database'></use></svg></label><div class='xr-var-attrs'><dl class='xr-attrs'></dl></div><div class='xr-var-data'><pre>array([&#x27;12_12_75737206_G_A&#x27;, &#x27;12_12_75768869_G_T&#x27;], dtype=object)</pre></div></li><li class='xr-var-item'><div class='xr-var-name'><span>chrom</span></div><div class='xr-var-dims'>(variant)</div><div class='xr-var-dtype'>object</div><div class='xr-var-preview xr-preview'>&#x27;12&#x27; &#x27;12&#x27;</div><input id='attrs-93f94d71-fba2-4010-82f6-aa5fca2e3e72' class='xr-var-attrs-in' type='checkbox' disabled><label for='attrs-93f94d71-fba2-4010-82f6-aa5fca2e3e72' title='Show/Hide attributes'><svg class='icon xr-icon-file-text2'><use xlink:href='#icon-file-text2'></use></svg></label><input id='data-93c9375e-f678-4ed0-938f-f648a7924d98' class='xr-var-data-in' type='checkbox'><label for='data-93c9375e-f678-4ed0-938f-f648a7924d98' title='Show/Hide data repr'><svg class='icon xr-icon-database'><use xlink:href='#icon-database'></use></svg></label><div class='xr-var-attrs'><dl class='xr-attrs'></dl></div><div class='xr-var-data'><pre>array([&#x27;12&#x27;, &#x27;12&#x27;], dtype=object)</pre></div></li><li class='xr-var-item'><div class='xr-var-name'><span>snp</span></div><div class='xr-var-dims'>(variant)</div><div class='xr-var-dtype'>object</div><div class='xr-var-preview xr-preview'>&#x27;12_75737206_G_A&#x27; &#x27;12_75768869_G_T&#x27;</div><input id='attrs-be85c891-133c-43b3-ad14-fd0f17cb11fc' class='xr-var-attrs-in' type='checkbox' disabled><label for='attrs-be85c891-133c-43b3-ad14-fd0f17cb11fc' title='Show/Hide attributes'><svg class='icon xr-icon-file-text2'><use xlink:href='#icon-file-text2'></use></svg></label><input id='data-fec30dbe-4847-49b6-9723-dc0d62d2fdd7' class='xr-var-data-in' type='checkbox'><label for='data-fec30dbe-4847-49b6-9723-dc0d62d2fdd7' title='Show/Hide data repr'><svg class='icon xr-icon-database'><use xlink:href='#icon-database'></use></svg></label><div class='xr-var-attrs'><dl class='xr-attrs'></dl></div><div class='xr-var-data'><pre>array([&#x27;12_75737206_G_A&#x27;, &#x27;12_75768869_G_T&#x27;], dtype=object)</pre></div></li><li class='xr-var-item'><div class='xr-var-name'><span>cm</span></div><div class='xr-var-dims'>(variant)</div><div class='xr-var-dtype'>float64</div><div class='xr-var-preview xr-preview'>0.0 0.0</div><input id='attrs-e584b7ef-d75b-4d8b-8382-05ef1b1788a0' class='xr-var-attrs-in' type='checkbox' disabled><label for='attrs-e584b7ef-d75b-4d8b-8382-05ef1b1788a0' title='Show/Hide attributes'><svg class='icon xr-icon-file-text2'><use xlink:href='#icon-file-text2'></use></svg></label><input id='data-f6a62af3-b9ae-44c5-b37c-a7c7f3259c86' class='xr-var-data-in' type='checkbox'><label for='data-f6a62af3-b9ae-44c5-b37c-a7c7f3259c86' title='Show/Hide data repr'><svg class='icon xr-icon-database'><use xlink:href='#icon-database'></use></svg></label><div class='xr-var-attrs'><dl class='xr-attrs'></dl></div><div class='xr-var-data'><pre>array([0., 0.])</pre></div></li><li class='xr-var-item'><div class='xr-var-name'><span>pos</span></div><div class='xr-var-dims'>(variant)</div><div class='xr-var-dtype'>int32</div><div class='xr-var-preview xr-preview'>75737206 75768869</div><input id='attrs-c935fcf4-7665-4817-b4df-3b9311fcda38' class='xr-var-attrs-in' type='checkbox' disabled><label for='attrs-c935fcf4-7665-4817-b4df-3b9311fcda38' title='Show/Hide attributes'><svg class='icon xr-icon-file-text2'><use xlink:href='#icon-file-text2'></use></svg></label><input id='data-89fb5808-cbbe-4120-82b6-a72881e011dc' class='xr-var-data-in' type='checkbox'><label for='data-89fb5808-cbbe-4120-82b6-a72881e011dc' title='Show/Hide data repr'><svg class='icon xr-icon-database'><use xlink:href='#icon-database'></use></svg></label><div class='xr-var-attrs'><dl class='xr-attrs'></dl></div><div class='xr-var-data'><pre>array([75737206, 75768869], dtype=int32)</pre></div></li><li class='xr-var-item'><div class='xr-var-name'><span>a0</span></div><div class='xr-var-dims'>(variant)</div><div class='xr-var-dtype'>object</div><div class='xr-var-preview xr-preview'>&#x27;G&#x27; &#x27;G&#x27;</div><input id='attrs-73671559-24bb-4f9e-ad82-2d41ac5f989b' class='xr-var-attrs-in' type='checkbox' disabled><label for='attrs-73671559-24bb-4f9e-ad82-2d41ac5f989b' title='Show/Hide attributes'><svg class='icon xr-icon-file-text2'><use xlink:href='#icon-file-text2'></use></svg></label><input id='data-a9856d7f-136e-45d5-8462-0fa233201383' class='xr-var-data-in' type='checkbox'><label for='data-a9856d7f-136e-45d5-8462-0fa233201383' title='Show/Hide data repr'><svg class='icon xr-icon-database'><use xlink:href='#icon-database'></use></svg></label><div class='xr-var-attrs'><dl class='xr-attrs'></dl></div><div class='xr-var-data'><pre>array([&#x27;G&#x27;, &#x27;G&#x27;], dtype=object)</pre></div></li><li class='xr-var-item'><div class='xr-var-name'><span>a1</span></div><div class='xr-var-dims'>(variant)</div><div class='xr-var-dtype'>object</div><div class='xr-var-preview xr-preview'>&#x27;A&#x27; &#x27;T&#x27;</div><input id='attrs-15c50317-4f2f-43f7-8eda-b746b3ef01bd' class='xr-var-attrs-in' type='checkbox' disabled><label for='attrs-15c50317-4f2f-43f7-8eda-b746b3ef01bd' title='Show/Hide attributes'><svg class='icon xr-icon-file-text2'><use xlink:href='#icon-file-text2'></use></svg></label><input id='data-abc7507c-6bf1-414a-9f8b-289cf1f16f0a' class='xr-var-data-in' type='checkbox'><label for='data-abc7507c-6bf1-414a-9f8b-289cf1f16f0a' title='Show/Hide data repr'><svg class='icon xr-icon-database'><use xlink:href='#icon-database'></use></svg></label><div class='xr-var-attrs'><dl class='xr-attrs'></dl></div><div class='xr-var-data'><pre>array([&#x27;A&#x27;, &#x27;T&#x27;], dtype=object)</pre></div></li></ul></div></li><li class='xr-section-item'><input id='section-79f125a9-0a47-424b-b384-d9ab5197987a' class='xr-section-summary-in' type='checkbox' disabled ><label for='section-79f125a9-0a47-424b-b384-d9ab5197987a' class='xr-section-summary'  title='Expand/collapse section'>Attributes: <span>(0)</span></label><div class='xr-section-inline-details'></div><div class='xr-section-details'><dl class='xr-attrs'></dl></div></li></ul></div></div>"
      ],
      "text/plain": [
       "<xarray.DataArray 'variant' (variant: 2)>\n",
       "array(['12_12_75737206_G_A', '12_12_75768869_G_T'], dtype=object)\n",
       "Coordinates:\n",
       "  * variant  (variant) object '12_12_75737206_G_A' '12_12_75768869_G_T'\n",
       "    chrom    (variant) object '12' '12'\n",
       "    snp      (variant) object '12_75737206_G_A' '12_75768869_G_T'\n",
       "    cm       (variant) float64 0.0 0.0\n",
       "    pos      (variant) int32 75737206 75768869\n",
       "    a0       (variant) object 'G' 'G'\n",
       "    a1       (variant) object 'A' 'T'"
      ]
     },
     "execution_count": 35,
     "metadata": {},
     "output_type": "execute_result"
    }
   ],
   "source": [
    "leads = endo_eqtl[endo_eqtl['feature']==trait_name]['snp_id'].unique()\n",
    "G_tmp = G_exp[:,G_exp['snp'].isin(leads)]\n",
    "G_tmp.variant"
   ]
  },
  {
   "cell_type": "code",
   "execution_count": 36,
   "metadata": {},
   "outputs": [],
   "source": [
    "# 12_75737206_G_A"
   ]
  },
  {
   "cell_type": "code",
   "execution_count": 37,
   "metadata": {},
   "outputs": [],
   "source": [
    "g = G_tmp[:, 0]"
   ]
  },
  {
   "cell_type": "code",
   "execution_count": 38,
   "metadata": {},
   "outputs": [
    {
     "data": {
      "text/plain": [
       "(35751,)"
      ]
     },
     "execution_count": 38,
     "metadata": {},
     "output_type": "execute_result"
    }
   ],
   "source": [
    "y.shape\n",
    "g.shape"
   ]
  },
  {
   "cell_type": "code",
   "execution_count": null,
   "metadata": {},
   "outputs": [],
   "source": [
    "a = slmm2.estimate_aggregate_environment(g)"
   ]
  },
  {
   "cell_type": "code",
   "execution_count": null,
   "metadata": {},
   "outputs": [],
   "source": [
    "a.shape"
   ]
  },
  {
   "cell_type": "code",
   "execution_count": null,
   "metadata": {},
   "outputs": [],
   "source": [
    "plt.hist(a)\n",
    "plt.show()"
   ]
  },
  {
   "cell_type": "code",
   "execution_count": null,
   "metadata": {},
   "outputs": [],
   "source": [
    "plt.hist(y)\n",
    "plt.show()"
   ]
  },
  {
   "cell_type": "code",
   "execution_count": null,
   "metadata": {},
   "outputs": [],
   "source": [
    "g = np.asarray(g)"
   ]
  },
  {
   "cell_type": "code",
   "execution_count": null,
   "metadata": {
    "scrolled": false
   },
   "outputs": [],
   "source": [
    "plt.hist(g)\n",
    "plt.show()"
   ]
  },
  {
   "cell_type": "code",
   "execution_count": null,
   "metadata": {},
   "outputs": [],
   "source": [
    "a1 = a.reshape(a.shape[0],1)\n",
    "y1 = y.reshape(y.shape[0],1)\n",
    "g1 = g.reshape(g.shape[0],1)"
   ]
  },
  {
   "cell_type": "code",
   "execution_count": null,
   "metadata": {},
   "outputs": [],
   "source": [
    "phenotype.columns"
   ]
  },
  {
   "cell_type": "code",
   "execution_count": 1,
   "metadata": {},
   "outputs": [
    {
     "ename": "NameError",
     "evalue": "name 'np' is not defined",
     "output_type": "error",
     "traceback": [
      "\u001b[0;31m---------------------------------------------------------------------------\u001b[0m",
      "\u001b[0;31mNameError\u001b[0m                                 Traceback (most recent call last)",
      "\u001b[0;32m<ipython-input-1-e2097afd9e54>\u001b[0m in \u001b[0;36m<module>\u001b[0;34m\u001b[0m\n\u001b[0;32m----> 1\u001b[0;31m \u001b[0md\u001b[0m \u001b[0;34m=\u001b[0m \u001b[0mnp\u001b[0m\u001b[0;34m.\u001b[0m\u001b[0mconcatenate\u001b[0m\u001b[0;34m(\u001b[0m\u001b[0;34m[\u001b[0m\u001b[0ma1\u001b[0m\u001b[0;34m,\u001b[0m\u001b[0my1\u001b[0m\u001b[0;34m,\u001b[0m\u001b[0mg1\u001b[0m\u001b[0;34m,\u001b[0m \u001b[0mphenotype\u001b[0m\u001b[0;34m.\u001b[0m\u001b[0mcolumns\u001b[0m\u001b[0;34m]\u001b[0m\u001b[0;34m,\u001b[0m \u001b[0maxis\u001b[0m\u001b[0;34m=\u001b[0m\u001b[0;36m1\u001b[0m\u001b[0;34m)\u001b[0m\u001b[0;34m\u001b[0m\u001b[0;34m\u001b[0m\u001b[0m\n\u001b[0m\u001b[1;32m      2\u001b[0m \u001b[0mdf\u001b[0m \u001b[0;34m=\u001b[0m \u001b[0mpd\u001b[0m\u001b[0;34m.\u001b[0m\u001b[0mDataFrame\u001b[0m\u001b[0;34m(\u001b[0m\u001b[0mdata\u001b[0m \u001b[0;34m=\u001b[0m \u001b[0md\u001b[0m\u001b[0;34m,\u001b[0m \u001b[0mcolumns\u001b[0m \u001b[0;34m=\u001b[0m \u001b[0;34m[\u001b[0m\u001b[0;34m\"aggr_env\"\u001b[0m\u001b[0;34m,\u001b[0m\u001b[0;34m\"gene\"\u001b[0m\u001b[0;34m,\u001b[0m\u001b[0;34m\"snp\"\u001b[0m\u001b[0;34m,\u001b[0m\u001b[0;34m\"cell\"\u001b[0m\u001b[0;34m]\u001b[0m\u001b[0;34m)\u001b[0m\u001b[0;34m\u001b[0m\u001b[0;34m\u001b[0m\u001b[0m\n\u001b[1;32m      3\u001b[0m \u001b[0mdf\u001b[0m\u001b[0;34m.\u001b[0m\u001b[0mhead\u001b[0m\u001b[0;34m(\u001b[0m\u001b[0;34m)\u001b[0m\u001b[0;34m\u001b[0m\u001b[0;34m\u001b[0m\u001b[0m\n",
      "\u001b[0;31mNameError\u001b[0m: name 'np' is not defined"
     ]
    }
   ],
   "source": [
    "d = np.concatenate([a1,y1,g1, phenotype.columns], axis=1)\n",
    "df = pd.DataFrame(data = d, columns = [\"aggr_env\",\"gene\",\"snp\",\"cell\"])\n",
    "df.head()"
   ]
  },
  {
   "cell_type": "code",
   "execution_count": 45,
   "metadata": {},
   "outputs": [],
   "source": [
    "# df.to_csv(\"/hps/nobackup/stegle/users/acuomo/all_scripts/struct_LMM2/sc_endodiff/new/aggregate_envs/ENSG00000226278_PSPHP1-7_7_55802063_T_C.csv\")\n",
    "# df.to_csv(\"/hps/nobackup/stegle/users/acuomo/all_scripts/struct_LMM2/sc_endodiff/new/aggregate_envs/ENSG00000111671_SPSB2-12_6979010_G_A.csv\")\n",
    "# df.to_csv(\"/hps/nobackup/stegle/users/acuomo/all_scripts/struct_LMM2/sc_endodiff/new/aggregate_envs/ENSG00000147813_NAPRT1-8_144676862_C_T.csv\")\n",
    "# df.to_csv(\"/hps/nobackup/stegle/users/acuomo/all_scripts/struct_LMM2/sc_endodiff/new/aggregate_envs/ENSG00000165650_PDZD8-10_119020736_A_C.csv\")\n",
    "# df.to_csv(\"/hps/nobackup/stegle/users/acuomo/all_scripts/struct_LMM2/sc_endodiff/new/aggregate_envs/ENSG00000229150_CRYGEP-2_208977797_G_T.csv\")\n",
    "df.to_csv(\"/hps/nobackup/stegle/users/acuomo/all_scripts/struct_LMM2/sc_endodiff/new/aggregate_envs/ENSG00000173401_GLIPR1L1-12_75737206_G_A.csv\")"
   ]
  },
  {
   "cell_type": "code",
   "execution_count": 46,
   "metadata": {},
   "outputs": [
    {
     "data": {
      "image/png": "[encoded data removed]",
      "text/plain": [
       "<Figure size 432x288 with 1 Axes>"
      ]
     },
     "metadata": {
      "needs_background": "light"
     },
     "output_type": "display_data"
    }
   ],
   "source": [
    "plt.scatter(a,y,c=g, alpha = 0.05)\n",
    "plt.show()"
   ]
  },
  {
   "cell_type": "code",
   "execution_count": null,
   "metadata": {},
   "outputs": [],
   "source": []
  }
 ],
 "metadata": {
  "kernelspec": {
   "display_name": "Python (struct-lmm2)",
   "language": "python",
   "name": "struct-lmm2"
  },
  "language_info": {
   "codemirror_mode": {
    "name": "ipython",
    "version": 3
   },
   "file_extension": ".py",
   "mimetype": "text/x-python",
   "name": "python",
   "nbconvert_exporter": "python",
   "pygments_lexer": "ipython3",
   "version": "3.8.5"
  }
 },
 "nbformat": 4,
 "nbformat_minor": 4
}
