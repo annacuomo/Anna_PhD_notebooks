{
 "cells": [
  {
   "cell_type": "code",
   "execution_count": 10,
   "id": "b43828a3",
   "metadata": {},
   "outputs": [],
   "source": [
    "library(dplyr)\n",
    "library(ggplot2)\n",
    "library(cowplot)\n",
    "library(qvalue)"
   ]
  },
  {
   "cell_type": "code",
   "execution_count": 2,
   "id": "12d598cd",
   "metadata": {},
   "outputs": [],
   "source": [
    "revision_folder = \"/hps/nobackup/stegle/users/acuomo/all_scripts/struct_LMM2/sc_endodiff/debug_May2021/REVISION/\""
   ]
  },
  {
   "cell_type": "code",
   "execution_count": 3,
   "id": "96ce2537",
   "metadata": {},
   "outputs": [],
   "source": [
    "crm_file = paste0(revision_folder, \"Annas_results_all_common_eqtls.csv\")\n",
    "# crm_file = paste0(revision_folder,\"Annas_results_all_common_eqtls_with_Bonferroni.csv\")\n",
    "crm = read.csv(crm_file, row.names=1)"
   ]
  },
  {
   "cell_type": "code",
   "execution_count": 4,
   "id": "19251e69",
   "metadata": {},
   "outputs": [],
   "source": [
    "crm_22 = crm[crm$chrom==22,]"
   ]
  },
  {
   "cell_type": "code",
   "execution_count": 5,
   "id": "4308a47f",
   "metadata": {},
   "outputs": [
    {
     "data": {
      "text/html": [
       "<table>\n",
       "<thead><tr><th></th><th scope=col>gene</th><th scope=col>n_snps</th><th scope=col>chrom</th><th scope=col>pv_raw</th><th scope=col>snpID</th><th scope=col>pv</th><th scope=col>eqtl</th></tr></thead>\n",
       "<tbody>\n",
       "\t<tr><th scope=row>7476</th><td>ENSG00000100206                </td><td>639                            </td><td>22                             </td><td>0.4846768                      </td><td>22_38815543_G_T                </td><td>1                              </td><td>ENSG00000100206-22_38815543_G_T</td></tr>\n",
       "\t<tr><th scope=row>7477</th><td>ENSG00000100206                </td><td>639                            </td><td>22                             </td><td>0.5735132                      </td><td>22_38815767_C_T                </td><td>1                              </td><td>ENSG00000100206-22_38815767_C_T</td></tr>\n",
       "\t<tr><th scope=row>7478</th><td>ENSG00000100206                </td><td>639                            </td><td>22                             </td><td>0.8756466                      </td><td>22_38816059_T_C                </td><td>1                              </td><td>ENSG00000100206-22_38816059_T_C</td></tr>\n",
       "\t<tr><th scope=row>7479</th><td>ENSG00000100206                </td><td>639                            </td><td>22                             </td><td>0.1460246                      </td><td>22_38816351_G_A                </td><td>1                              </td><td>ENSG00000100206-22_38816351_G_A</td></tr>\n",
       "\t<tr><th scope=row>7480</th><td>ENSG00000100206                </td><td>639                            </td><td>22                             </td><td>0.2546127                      </td><td>22_38817047_A_G                </td><td>1                              </td><td>ENSG00000100206-22_38817047_A_G</td></tr>\n",
       "\t<tr><th scope=row>7481</th><td>ENSG00000100206                </td><td>639                            </td><td>22                             </td><td>0.1834585                      </td><td>22_38817105_C_T                </td><td>1                              </td><td>ENSG00000100206-22_38817105_C_T</td></tr>\n",
       "</tbody>\n",
       "</table>\n"
      ],
      "text/latex": [
       "\\begin{tabular}{r|lllllll}\n",
       "  & gene & n\\_snps & chrom & pv\\_raw & snpID & pv & eqtl\\\\\n",
       "\\hline\n",
       "\t7476 & ENSG00000100206                       & 639                                   & 22                                    & 0.4846768                             & 22\\_38815543\\_G\\_T                 & 1                                     & ENSG00000100206-22\\_38815543\\_G\\_T\\\\\n",
       "\t7477 & ENSG00000100206                       & 639                                   & 22                                    & 0.5735132                             & 22\\_38815767\\_C\\_T                 & 1                                     & ENSG00000100206-22\\_38815767\\_C\\_T\\\\\n",
       "\t7478 & ENSG00000100206                       & 639                                   & 22                                    & 0.8756466                             & 22\\_38816059\\_T\\_C                 & 1                                     & ENSG00000100206-22\\_38816059\\_T\\_C\\\\\n",
       "\t7479 & ENSG00000100206                       & 639                                   & 22                                    & 0.1460246                             & 22\\_38816351\\_G\\_A                 & 1                                     & ENSG00000100206-22\\_38816351\\_G\\_A\\\\\n",
       "\t7480 & ENSG00000100206                       & 639                                   & 22                                    & 0.2546127                             & 22\\_38817047\\_A\\_G                 & 1                                     & ENSG00000100206-22\\_38817047\\_A\\_G\\\\\n",
       "\t7481 & ENSG00000100206                       & 639                                   & 22                                    & 0.1834585                             & 22\\_38817105\\_C\\_T                 & 1                                     & ENSG00000100206-22\\_38817105\\_C\\_T\\\\\n",
       "\\end{tabular}\n"
      ],
      "text/markdown": [
       "\n",
       "| <!--/--> | gene | n_snps | chrom | pv_raw | snpID | pv | eqtl |\n",
       "|---|---|---|---|---|---|---|---|\n",
       "| 7476 | ENSG00000100206                 | 639                             | 22                              | 0.4846768                       | 22_38815543_G_T                 | 1                               | ENSG00000100206-22_38815543_G_T |\n",
       "| 7477 | ENSG00000100206                 | 639                             | 22                              | 0.5735132                       | 22_38815767_C_T                 | 1                               | ENSG00000100206-22_38815767_C_T |\n",
       "| 7478 | ENSG00000100206                 | 639                             | 22                              | 0.8756466                       | 22_38816059_T_C                 | 1                               | ENSG00000100206-22_38816059_T_C |\n",
       "| 7479 | ENSG00000100206                 | 639                             | 22                              | 0.1460246                       | 22_38816351_G_A                 | 1                               | ENSG00000100206-22_38816351_G_A |\n",
       "| 7480 | ENSG00000100206                 | 639                             | 22                              | 0.2546127                       | 22_38817047_A_G                 | 1                               | ENSG00000100206-22_38817047_A_G |\n",
       "| 7481 | ENSG00000100206                 | 639                             | 22                              | 0.1834585                       | 22_38817105_C_T                 | 1                               | ENSG00000100206-22_38817105_C_T |\n",
       "\n"
      ],
      "text/plain": [
       "     gene            n_snps chrom pv_raw    snpID           pv\n",
       "7476 ENSG00000100206 639    22    0.4846768 22_38815543_G_T 1 \n",
       "7477 ENSG00000100206 639    22    0.5735132 22_38815767_C_T 1 \n",
       "7478 ENSG00000100206 639    22    0.8756466 22_38816059_T_C 1 \n",
       "7479 ENSG00000100206 639    22    0.1460246 22_38816351_G_A 1 \n",
       "7480 ENSG00000100206 639    22    0.2546127 22_38817047_A_G 1 \n",
       "7481 ENSG00000100206 639    22    0.1834585 22_38817105_C_T 1 \n",
       "     eqtl                           \n",
       "7476 ENSG00000100206-22_38815543_G_T\n",
       "7477 ENSG00000100206-22_38815767_C_T\n",
       "7478 ENSG00000100206-22_38816059_T_C\n",
       "7479 ENSG00000100206-22_38816351_G_A\n",
       "7480 ENSG00000100206-22_38817047_A_G\n",
       "7481 ENSG00000100206-22_38817105_C_T"
      ]
     },
     "metadata": {},
     "output_type": "display_data"
    }
   ],
   "source": [
    "head(crm_22)"
   ]
  },
  {
   "cell_type": "code",
   "execution_count": 6,
   "id": "d55c2d25",
   "metadata": {},
   "outputs": [],
   "source": [
    "crm_22$fdr = p.adjust(crm_22$pv_raw, method = \"BH\")"
   ]
  },
  {
   "cell_type": "code",
   "execution_count": 7,
   "id": "73e9efa9",
   "metadata": {},
   "outputs": [
    {
     "data": {
      "text/html": [
       "140564"
      ],
      "text/latex": [
       "140564"
      ],
      "text/markdown": [
       "140564"
      ],
      "text/plain": [
       "[1] 140564"
      ]
     },
     "metadata": {},
     "output_type": "display_data"
    },
    {
     "data": {
      "text/html": [
       "<table>\n",
       "<thead><tr><th></th><th scope=col>gene</th><th scope=col>n_snps</th><th scope=col>chrom</th><th scope=col>pv_raw</th><th scope=col>snpID</th></tr></thead>\n",
       "<tbody>\n",
       "\t<tr><th scope=row>0</th><td>ENSG00000128159</td><td>10             </td><td>22             </td><td>0.64912024     </td><td>22_50633048_T_G</td></tr>\n",
       "\t<tr><th scope=row>1</th><td>ENSG00000128159</td><td>10             </td><td>22             </td><td>0.06923793     </td><td>22_50633686_T_C</td></tr>\n",
       "</tbody>\n",
       "</table>\n"
      ],
      "text/latex": [
       "\\begin{tabular}{r|lllll}\n",
       "  & gene & n\\_snps & chrom & pv\\_raw & snpID\\\\\n",
       "\\hline\n",
       "\t0 & ENSG00000128159       & 10                    & 22                    & 0.64912024            & 22\\_50633048\\_T\\_G\\\\\n",
       "\t1 & ENSG00000128159       & 10                    & 22                    & 0.06923793            & 22\\_50633686\\_T\\_C\\\\\n",
       "\\end{tabular}\n"
      ],
      "text/markdown": [
       "\n",
       "| <!--/--> | gene | n_snps | chrom | pv_raw | snpID |\n",
       "|---|---|---|---|---|---|\n",
       "| 0 | ENSG00000128159 | 10              | 22              | 0.64912024      | 22_50633048_T_G |\n",
       "| 1 | ENSG00000128159 | 10              | 22              | 0.06923793      | 22_50633686_T_C |\n",
       "\n"
      ],
      "text/plain": [
       "  gene            n_snps chrom pv_raw     snpID          \n",
       "0 ENSG00000128159 10     22    0.64912024 22_50633048_T_G\n",
       "1 ENSG00000128159 10     22    0.06923793 22_50633686_T_C"
      ]
     },
     "metadata": {},
     "output_type": "display_data"
    }
   ],
   "source": [
    "crm_int_file = paste0(revision_folder, \"CRM_interaction_chr22/results/summary.csv\")\n",
    "crm_int = read.csv(crm_int_file, row.names=1)\n",
    "nrow(crm_int)\n",
    "head(crm_int,2)"
   ]
  },
  {
   "cell_type": "code",
   "execution_count": 8,
   "id": "33db2cc1",
   "metadata": {},
   "outputs": [],
   "source": [
    "crm_int$fdr = p.adjust(crm_int$pv_raw, method = \"BH\")"
   ]
  },
  {
   "cell_type": "code",
   "execution_count": 14,
   "id": "0bbc9ebb",
   "metadata": {},
   "outputs": [],
   "source": [
    "df_join = inner_join(crm_22, crm_int, by=c(\"snpID\",\"gene\"), suffix=c(\".assoc\",\".int\"))"
   ]
  },
  {
   "cell_type": "code",
   "execution_count": 21,
   "id": "044f7bb3",
   "metadata": {},
   "outputs": [],
   "source": [
    "thresholds = seq(0, 1, length.out = 100)"
   ]
  },
  {
   "cell_type": "code",
   "execution_count": 27,
   "id": "bb347a68",
   "metadata": {},
   "outputs": [],
   "source": [
    "df_plot = data.frame(assoc_FDR = thresholds, n_GxC=0, n_eGenes=0)"
   ]
  },
  {
   "cell_type": "code",
   "execution_count": 31,
   "id": "68c86109",
   "metadata": {},
   "outputs": [],
   "source": [
    "for (t in thresholds){\n",
    "    res = df_join[df_join$fdr.assoc < t,]\n",
    "    res$fdr = p.adjust(res$pv_raw.int, method = \"BH\")\n",
    "    df_plot[df_plot$assoc_FDR == t,\"n_GxC\"] = nrow(res[res$fdr < 0.1,])\n",
    "    df_plot[df_plot$assoc_FDR == t,\"n_eGenes\"] = length(unique(res[res$fdr < 0.1,\"gene\"]))\n",
    "}"
   ]
  },
  {
   "cell_type": "code",
   "execution_count": 32,
   "id": "bc05ea05",
   "metadata": {},
   "outputs": [
    {
     "data": {
      "text/html": [
       "<table>\n",
       "<thead><tr><th scope=col>assoc_FDR</th><th scope=col>n_GxC</th><th scope=col>n_eGenes</th></tr></thead>\n",
       "<tbody>\n",
       "\t<tr><td>0.00000000</td><td>   0      </td><td> 0        </td></tr>\n",
       "\t<tr><td>0.01010101</td><td>1170      </td><td>30        </td></tr>\n",
       "\t<tr><td>0.02020202</td><td>1216      </td><td>33        </td></tr>\n",
       "\t<tr><td>0.03030303</td><td>1286      </td><td>37        </td></tr>\n",
       "\t<tr><td>0.04040404</td><td>1306      </td><td>38        </td></tr>\n",
       "\t<tr><td>0.05050505</td><td>1276      </td><td>36        </td></tr>\n",
       "</tbody>\n",
       "</table>\n"
      ],
      "text/latex": [
       "\\begin{tabular}{r|lll}\n",
       " assoc\\_FDR & n\\_GxC & n\\_eGenes\\\\\n",
       "\\hline\n",
       "\t 0.00000000 &    0       &  0        \\\\\n",
       "\t 0.01010101 & 1170       & 30        \\\\\n",
       "\t 0.02020202 & 1216       & 33        \\\\\n",
       "\t 0.03030303 & 1286       & 37        \\\\\n",
       "\t 0.04040404 & 1306       & 38        \\\\\n",
       "\t 0.05050505 & 1276       & 36        \\\\\n",
       "\\end{tabular}\n"
      ],
      "text/markdown": [
       "\n",
       "| assoc_FDR | n_GxC | n_eGenes |\n",
       "|---|---|---|\n",
       "| 0.00000000 |    0       |  0         |\n",
       "| 0.01010101 | 1170       | 30         |\n",
       "| 0.02020202 | 1216       | 33         |\n",
       "| 0.03030303 | 1286       | 37         |\n",
       "| 0.04040404 | 1306       | 38         |\n",
       "| 0.05050505 | 1276       | 36         |\n",
       "\n"
      ],
      "text/plain": [
       "  assoc_FDR  n_GxC n_eGenes\n",
       "1 0.00000000    0   0      \n",
       "2 0.01010101 1170  30      \n",
       "3 0.02020202 1216  33      \n",
       "4 0.03030303 1286  37      \n",
       "5 0.04040404 1306  38      \n",
       "6 0.05050505 1276  36      "
      ]
     },
     "metadata": {},
     "output_type": "display_data"
    }
   ],
   "source": [
    "head(df_plot)"
   ]
  },
  {
   "cell_type": "code",
   "execution_count": 36,
   "id": "99cce005",
   "metadata": {},
   "outputs": [
    {
     "data": {
      "image/png": "[encoded data removed]",
      "text/plain": [
       "plot without title"
      ]
     },
     "metadata": {},
     "output_type": "display_data"
    },
    {
     "data": {
      "image/png": "[encoded data removed]",
      "text/plain": [
       "plot without title"
      ]
     },
     "metadata": {},
     "output_type": "display_data"
    }
   ],
   "source": [
    "options(repr.plot.width = 8, repr.plot.height = 3) \n",
    "ggplot(df_plot, aes(x = assoc_FDR, y = n_eGenes)) + geom_line(col=\"grey\") + theme_bw()\n",
    "ggplot(df_plot, aes(x = assoc_FDR, y = n_GxC)) + geom_line() + theme_bw()"
   ]
  },
  {
   "cell_type": "code",
   "execution_count": null,
   "id": "b13048b6",
   "metadata": {},
   "outputs": [],
   "source": []
  }
 ],
 "metadata": {
  "kernelspec": {
   "display_name": "R",
   "language": "R",
   "name": "ir"
  },
  "language_info": {
   "codemirror_mode": "r",
   "file_extension": ".r",
   "mimetype": "text/x-r-source",
   "name": "R",
   "pygments_lexer": "r",
   "version": "3.6.1"
  }
 },
 "nbformat": 4,
 "nbformat_minor": 5
}
