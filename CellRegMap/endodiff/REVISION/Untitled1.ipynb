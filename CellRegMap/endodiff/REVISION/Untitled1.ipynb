{
 "cells": [
  {
   "cell_type": "code",
   "execution_count": 1,
   "id": "e1316145",
   "metadata": {},
   "outputs": [],
   "source": [
    "revision_folder = \"/hps/nobackup/stegle/users/acuomo/all_scripts/struct_LMM2/sc_endodiff/debug_May2021/REVISION/\""
   ]
  },
  {
   "cell_type": "code",
   "execution_count": 3,
   "id": "86217746",
   "metadata": {},
   "outputs": [
    {
     "data": {
      "text/html": [
       "271"
      ],
      "text/latex": [
       "271"
      ],
      "text/markdown": [
       "271"
      ],
      "text/plain": [
       "[1] 271"
      ]
     },
     "metadata": {},
     "output_type": "display_data"
    },
    {
     "data": {
      "text/html": [
       "<table>\n",
       "<thead><tr><th scope=col>gene</th><th scope=col>snpID.a</th><th scope=col>pv_raw.a</th><th scope=col>snpID.i</th><th scope=col>pv_raw.i</th><th scope=col>snp_assoc</th><th scope=col>snp_int</th><th scope=col>d</th></tr></thead>\n",
       "<tbody>\n",
       "\t<tr><td>ENSG00000184674</td><td>22_24295427_C_T</td><td>1.706834e-20   </td><td>22_24312204_G_A</td><td>3.371849e-10   </td><td>chr22:24295427 </td><td>chr22:24312204 </td><td>1              </td></tr>\n",
       "\t<tr><td>ENSG00000093072</td><td>22_17680519_A_C</td><td>2.207981e-19   </td><td>22_17680519_A_C</td><td>3.969373e-13   </td><td>chr22:17680519 </td><td>chr22:17680519 </td><td>1              </td></tr>\n",
       "</tbody>\n",
       "</table>\n"
      ],
      "text/latex": [
       "\\begin{tabular}{r|llllllll}\n",
       " gene & snpID.a & pv\\_raw.a & snpID.i & pv\\_raw.i & snp\\_assoc & snp\\_int & d\\\\\n",
       "\\hline\n",
       "\t ENSG00000184674       & 22\\_24295427\\_C\\_T & 1.706834e-20          & 22\\_24312204\\_G\\_A & 3.371849e-10          & chr22:24295427        & chr22:24312204        & 1                    \\\\\n",
       "\t ENSG00000093072       & 22\\_17680519\\_A\\_C & 2.207981e-19          & 22\\_17680519\\_A\\_C & 3.969373e-13          & chr22:17680519        & chr22:17680519        & 1                    \\\\\n",
       "\\end{tabular}\n"
      ],
      "text/markdown": [
       "\n",
       "| gene | snpID.a | pv_raw.a | snpID.i | pv_raw.i | snp_assoc | snp_int | d |\n",
       "|---|---|---|---|---|---|---|---|\n",
       "| ENSG00000184674 | 22_24295427_C_T | 1.706834e-20    | 22_24312204_G_A | 3.371849e-10    | chr22:24295427  | chr22:24312204  | 1               |\n",
       "| ENSG00000093072 | 22_17680519_A_C | 2.207981e-19    | 22_17680519_A_C | 3.969373e-13    | chr22:17680519  | chr22:17680519  | 1               |\n",
       "\n"
      ],
      "text/plain": [
       "  gene            snpID.a         pv_raw.a     snpID.i         pv_raw.i    \n",
       "1 ENSG00000184674 22_24295427_C_T 1.706834e-20 22_24312204_G_A 3.371849e-10\n",
       "2 ENSG00000093072 22_17680519_A_C 2.207981e-19 22_17680519_A_C 3.969373e-13\n",
       "  snp_assoc      snp_int        d\n",
       "1 chr22:24295427 chr22:24312204 1\n",
       "2 chr22:17680519 chr22:17680519 1"
      ]
     },
     "metadata": {},
     "output_type": "display_data"
    }
   ],
   "source": [
    "df = read.csv(paste0(revision_folder,\"assoc_vs_int_chr22_ld.csv\"), row.names=1)\n",
    "nrow(df)\n",
    "head(df,2)"
   ]
  },
  {
   "cell_type": "code",
   "execution_count": null,
   "id": "3b15a2a7",
   "metadata": {},
   "outputs": [],
   "source": []
  }
 ],
 "metadata": {
  "kernelspec": {
   "display_name": "R",
   "language": "R",
   "name": "ir"
  },
  "language_info": {
   "codemirror_mode": "r",
   "file_extension": ".r",
   "mimetype": "text/x-r-source",
   "name": "R",
   "pygments_lexer": "r",
   "version": "3.6.1"
  }
 },
 "nbformat": 4,
 "nbformat_minor": 5
}
