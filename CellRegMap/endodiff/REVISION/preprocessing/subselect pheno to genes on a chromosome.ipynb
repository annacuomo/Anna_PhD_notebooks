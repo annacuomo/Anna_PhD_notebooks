{
 "cells": [
  {
   "cell_type": "code",
   "execution_count": 1,
   "id": "25b24f6c",
   "metadata": {},
   "outputs": [],
   "source": [
    "import pandas as pd\n",
    "import numpy as np\n",
    "import re"
   ]
  },
  {
   "cell_type": "code",
   "execution_count": 2,
   "id": "acd69348",
   "metadata": {},
   "outputs": [],
   "source": [
    "chrom = 19"
   ]
  },
  {
   "cell_type": "code",
   "execution_count": 3,
   "id": "ff3fddd2",
   "metadata": {},
   "outputs": [
    {
     "data": {
      "text/html": [
       "<div>\n",
       "<style scoped>\n",
       "    .dataframe tbody tr th:only-of-type {\n",
       "        vertical-align: middle;\n",
       "    }\n",
       "\n",
       "    .dataframe tbody tr th {\n",
       "        vertical-align: top;\n",
       "    }\n",
       "\n",
       "    .dataframe thead th {\n",
       "        text-align: right;\n",
       "    }\n",
       "</style>\n",
       "<table border=\"1\" class=\"dataframe\">\n",
       "  <thead>\n",
       "    <tr style=\"text-align: right;\">\n",
       "      <th></th>\n",
       "      <th>21843_1#10</th>\n",
       "      <th>21843_1#100</th>\n",
       "      <th>21843_1#101</th>\n",
       "      <th>21843_1#102</th>\n",
       "      <th>21843_1#103</th>\n",
       "      <th>21843_1#105</th>\n",
       "      <th>21843_1#106</th>\n",
       "      <th>21843_1#107</th>\n",
       "      <th>21843_1#108</th>\n",
       "      <th>21843_1#109</th>\n",
       "      <th>...</th>\n",
       "      <th>24539_8#88</th>\n",
       "      <th>24539_8#89</th>\n",
       "      <th>24539_8#90</th>\n",
       "      <th>24539_8#91</th>\n",
       "      <th>24539_8#92</th>\n",
       "      <th>24539_8#93</th>\n",
       "      <th>24539_8#94</th>\n",
       "      <th>24539_8#95</th>\n",
       "      <th>24539_8#97</th>\n",
       "      <th>24539_8#98</th>\n",
       "    </tr>\n",
       "  </thead>\n",
       "  <tbody>\n",
       "    <tr>\n",
       "      <th>ENSG00000000003_TSPAN6</th>\n",
       "      <td>5.520777</td>\n",
       "      <td>6.456208</td>\n",
       "      <td>5.878671</td>\n",
       "      <td>4.860824</td>\n",
       "      <td>5.903640</td>\n",
       "      <td>4.513537</td>\n",
       "      <td>6.401983</td>\n",
       "      <td>5.909216</td>\n",
       "      <td>5.366645</td>\n",
       "      <td>3.228852</td>\n",
       "      <td>...</td>\n",
       "      <td>5.841814</td>\n",
       "      <td>6.104105</td>\n",
       "      <td>6.275649</td>\n",
       "      <td>7.029407</td>\n",
       "      <td>5.806978</td>\n",
       "      <td>6.199875</td>\n",
       "      <td>7.014180</td>\n",
       "      <td>6.228476</td>\n",
       "      <td>6.217161</td>\n",
       "      <td>6.034232</td>\n",
       "    </tr>\n",
       "    <tr>\n",
       "      <th>ENSG00000000419_DPM1</th>\n",
       "      <td>5.392461</td>\n",
       "      <td>6.065923</td>\n",
       "      <td>6.838769</td>\n",
       "      <td>6.614268</td>\n",
       "      <td>6.512403</td>\n",
       "      <td>5.527439</td>\n",
       "      <td>6.525591</td>\n",
       "      <td>6.381135</td>\n",
       "      <td>6.157296</td>\n",
       "      <td>6.248478</td>\n",
       "      <td>...</td>\n",
       "      <td>6.543807</td>\n",
       "      <td>6.369119</td>\n",
       "      <td>7.185421</td>\n",
       "      <td>6.337047</td>\n",
       "      <td>6.162437</td>\n",
       "      <td>5.885993</td>\n",
       "      <td>7.431358</td>\n",
       "      <td>7.013124</td>\n",
       "      <td>4.851771</td>\n",
       "      <td>4.937248</td>\n",
       "    </tr>\n",
       "    <tr>\n",
       "      <th>ENSG00000000457_SCYL3</th>\n",
       "      <td>0.000174</td>\n",
       "      <td>0.352597</td>\n",
       "      <td>0.000000</td>\n",
       "      <td>0.825955</td>\n",
       "      <td>2.201697</td>\n",
       "      <td>0.262446</td>\n",
       "      <td>0.000000</td>\n",
       "      <td>1.506837</td>\n",
       "      <td>0.283516</td>\n",
       "      <td>3.241977</td>\n",
       "      <td>...</td>\n",
       "      <td>0.017386</td>\n",
       "      <td>0.949668</td>\n",
       "      <td>0.035526</td>\n",
       "      <td>0.032044</td>\n",
       "      <td>1.773369</td>\n",
       "      <td>0.000000</td>\n",
       "      <td>0.108025</td>\n",
       "      <td>1.756339</td>\n",
       "      <td>2.492943</td>\n",
       "      <td>1.363441</td>\n",
       "    </tr>\n",
       "    <tr>\n",
       "      <th>ENSG00000000460_C1orf112</th>\n",
       "      <td>1.471928</td>\n",
       "      <td>4.536968</td>\n",
       "      <td>4.318528</td>\n",
       "      <td>5.373009</td>\n",
       "      <td>4.636175</td>\n",
       "      <td>4.225468</td>\n",
       "      <td>0.409785</td>\n",
       "      <td>3.668277</td>\n",
       "      <td>3.057933</td>\n",
       "      <td>3.154891</td>\n",
       "      <td>...</td>\n",
       "      <td>4.720967</td>\n",
       "      <td>3.791536</td>\n",
       "      <td>2.696476</td>\n",
       "      <td>4.227515</td>\n",
       "      <td>4.243689</td>\n",
       "      <td>3.227508</td>\n",
       "      <td>2.621121</td>\n",
       "      <td>3.950978</td>\n",
       "      <td>3.926914</td>\n",
       "      <td>4.211904</td>\n",
       "    </tr>\n",
       "    <tr>\n",
       "      <th>ENSG00000001036_FUCA2</th>\n",
       "      <td>2.908802</td>\n",
       "      <td>3.867327</td>\n",
       "      <td>3.321747</td>\n",
       "      <td>3.736476</td>\n",
       "      <td>4.917576</td>\n",
       "      <td>2.456866</td>\n",
       "      <td>0.577839</td>\n",
       "      <td>4.777404</td>\n",
       "      <td>2.873857</td>\n",
       "      <td>2.536708</td>\n",
       "      <td>...</td>\n",
       "      <td>3.070608</td>\n",
       "      <td>4.491643</td>\n",
       "      <td>4.206249</td>\n",
       "      <td>3.695005</td>\n",
       "      <td>2.652845</td>\n",
       "      <td>4.221847</td>\n",
       "      <td>3.188030</td>\n",
       "      <td>4.741496</td>\n",
       "      <td>3.872743</td>\n",
       "      <td>4.374577</td>\n",
       "    </tr>\n",
       "  </tbody>\n",
       "</table>\n",
       "<p>5 rows × 34256 columns</p>\n",
       "</div>"
      ],
      "text/plain": [
       "                          21843_1#10  21843_1#100  21843_1#101  21843_1#102  \\\n",
       "ENSG00000000003_TSPAN6      5.520777     6.456208     5.878671     4.860824   \n",
       "ENSG00000000419_DPM1        5.392461     6.065923     6.838769     6.614268   \n",
       "ENSG00000000457_SCYL3       0.000174     0.352597     0.000000     0.825955   \n",
       "ENSG00000000460_C1orf112    1.471928     4.536968     4.318528     5.373009   \n",
       "ENSG00000001036_FUCA2       2.908802     3.867327     3.321747     3.736476   \n",
       "\n",
       "                          21843_1#103  21843_1#105  21843_1#106  21843_1#107  \\\n",
       "ENSG00000000003_TSPAN6       5.903640     4.513537     6.401983     5.909216   \n",
       "ENSG00000000419_DPM1         6.512403     5.527439     6.525591     6.381135   \n",
       "ENSG00000000457_SCYL3        2.201697     0.262446     0.000000     1.506837   \n",
       "ENSG00000000460_C1orf112     4.636175     4.225468     0.409785     3.668277   \n",
       "ENSG00000001036_FUCA2        4.917576     2.456866     0.577839     4.777404   \n",
       "\n",
       "                          21843_1#108  21843_1#109  ...  24539_8#88  \\\n",
       "ENSG00000000003_TSPAN6       5.366645     3.228852  ...    5.841814   \n",
       "ENSG00000000419_DPM1         6.157296     6.248478  ...    6.543807   \n",
       "ENSG00000000457_SCYL3        0.283516     3.241977  ...    0.017386   \n",
       "ENSG00000000460_C1orf112     3.057933     3.154891  ...    4.720967   \n",
       "ENSG00000001036_FUCA2        2.873857     2.536708  ...    3.070608   \n",
       "\n",
       "                          24539_8#89  24539_8#90  24539_8#91  24539_8#92  \\\n",
       "ENSG00000000003_TSPAN6      6.104105    6.275649    7.029407    5.806978   \n",
       "ENSG00000000419_DPM1        6.369119    7.185421    6.337047    6.162437   \n",
       "ENSG00000000457_SCYL3       0.949668    0.035526    0.032044    1.773369   \n",
       "ENSG00000000460_C1orf112    3.791536    2.696476    4.227515    4.243689   \n",
       "ENSG00000001036_FUCA2       4.491643    4.206249    3.695005    2.652845   \n",
       "\n",
       "                          24539_8#93  24539_8#94  24539_8#95  24539_8#97  \\\n",
       "ENSG00000000003_TSPAN6      6.199875    7.014180    6.228476    6.217161   \n",
       "ENSG00000000419_DPM1        5.885993    7.431358    7.013124    4.851771   \n",
       "ENSG00000000457_SCYL3       0.000000    0.108025    1.756339    2.492943   \n",
       "ENSG00000000460_C1orf112    3.227508    2.621121    3.950978    3.926914   \n",
       "ENSG00000001036_FUCA2       4.221847    3.188030    4.741496    3.872743   \n",
       "\n",
       "                          24539_8#98  \n",
       "ENSG00000000003_TSPAN6      6.034232  \n",
       "ENSG00000000419_DPM1        4.937248  \n",
       "ENSG00000000457_SCYL3       1.363441  \n",
       "ENSG00000000460_C1orf112    4.211904  \n",
       "ENSG00000001036_FUCA2       4.374577  \n",
       "\n",
       "[5 rows x 34256 columns]"
      ]
     },
     "execution_count": 3,
     "metadata": {},
     "output_type": "execute_result"
    }
   ],
   "source": [
    "input_files_dir = \"/hps/nobackup/stegle/users/acuomo/all_scripts/struct_LMM2/sc_endodiff/new/input_files/\"\n",
    "# open phenotype file\n",
    "phenotype_file = input_files_dir+\"phenotype.csv.pkl\"\n",
    "phenotype = pd.read_pickle(phenotype_file)\n",
    "phenotype.head()"
   ]
  },
  {
   "cell_type": "code",
   "execution_count": 4,
   "id": "455a11e9",
   "metadata": {},
   "outputs": [
    {
     "data": {
      "text/plain": [
       "11231"
      ]
     },
     "execution_count": 4,
     "metadata": {},
     "output_type": "execute_result"
    }
   ],
   "source": [
    "genes = phenotype.index.values\n",
    "len(genes)\n",
    "# genes"
   ]
  },
  {
   "cell_type": "code",
   "execution_count": 5,
   "id": "e8e174c4",
   "metadata": {},
   "outputs": [
    {
     "data": {
      "text/html": [
       "<div>\n",
       "<style scoped>\n",
       "    .dataframe tbody tr th:only-of-type {\n",
       "        vertical-align: middle;\n",
       "    }\n",
       "\n",
       "    .dataframe tbody tr th {\n",
       "        vertical-align: top;\n",
       "    }\n",
       "\n",
       "    .dataframe thead th {\n",
       "        text-align: right;\n",
       "    }\n",
       "</style>\n",
       "<table border=\"1\" class=\"dataframe\">\n",
       "  <thead>\n",
       "    <tr style=\"text-align: right;\">\n",
       "      <th></th>\n",
       "      <th>chromosome</th>\n",
       "      <th>start</th>\n",
       "      <th>end</th>\n",
       "    </tr>\n",
       "    <tr>\n",
       "      <th>feature_id</th>\n",
       "      <th></th>\n",
       "      <th></th>\n",
       "      <th></th>\n",
       "    </tr>\n",
       "  </thead>\n",
       "  <tbody>\n",
       "    <tr>\n",
       "      <th>ENSG00000271782</th>\n",
       "      <td>1</td>\n",
       "      <td>50902700</td>\n",
       "      <td>50902978</td>\n",
       "    </tr>\n",
       "    <tr>\n",
       "      <th>ENSG00000232753</th>\n",
       "      <td>1</td>\n",
       "      <td>103817769</td>\n",
       "      <td>103828355</td>\n",
       "    </tr>\n",
       "    <tr>\n",
       "      <th>ENSG00000225767</th>\n",
       "      <td>1</td>\n",
       "      <td>50927141</td>\n",
       "      <td>50936822</td>\n",
       "    </tr>\n",
       "    <tr>\n",
       "      <th>ENSG00000202140</th>\n",
       "      <td>1</td>\n",
       "      <td>50965430</td>\n",
       "      <td>50965529</td>\n",
       "    </tr>\n",
       "    <tr>\n",
       "      <th>ENSG00000207194</th>\n",
       "      <td>1</td>\n",
       "      <td>51048076</td>\n",
       "      <td>51048183</td>\n",
       "    </tr>\n",
       "  </tbody>\n",
       "</table>\n",
       "</div>"
      ],
      "text/plain": [
       "                chromosome      start        end\n",
       "feature_id                                      \n",
       "ENSG00000271782          1   50902700   50902978\n",
       "ENSG00000232753          1  103817769  103828355\n",
       "ENSG00000225767          1   50927141   50936822\n",
       "ENSG00000202140          1   50965430   50965529\n",
       "ENSG00000207194          1   51048076   51048183"
      ]
     },
     "execution_count": 5,
     "metadata": {},
     "output_type": "execute_result"
    }
   ],
   "source": [
    "# select down to relevant chromosome (using annotation file)\n",
    "annotation_file = \"/hps/nobackup/hipsci/scratch/processed_data/rna_seq/annotationFiles/Ensembl_75_Limix_Annotation_FC_Gene.txt\"\n",
    "anno_df = pd.read_csv(annotation_file, sep=\"\\t\", index_col=0)\n",
    "anno_df.head()"
   ]
  },
  {
   "cell_type": "code",
   "execution_count": 6,
   "id": "a915ae98",
   "metadata": {},
   "outputs": [
    {
     "data": {
      "text/plain": [
       "array(['ENSG00000268400', 'ENSG00000267062', 'ENSG00000267424', ...,\n",
       "       'ENSG00000076826', 'ENSG00000076924', 'ENSG00000229833'],\n",
       "      dtype=object)"
      ]
     },
     "execution_count": 6,
     "metadata": {},
     "output_type": "execute_result"
    }
   ],
   "source": [
    "chr_genes = anno_df[anno_df[\"chromosome\"]==str(chrom)].index.values\n",
    "len(chr_genes)\n",
    "chr_genes"
   ]
  },
  {
   "cell_type": "code",
   "execution_count": 19,
   "id": "98aa9b64",
   "metadata": {},
   "outputs": [
    {
     "data": {
      "text/plain": [
       "array(['ENSG00000000003_TSPAN6', 'ENSG00000000419_DPM1',\n",
       "       'ENSG00000000457_SCYL3', ..., 'ENSG00000272047_GTF2H5',\n",
       "       'ENSG00000272325_NUDT3', 'ENSG00000272398_CD24'], dtype=object)"
      ]
     },
     "execution_count": 19,
     "metadata": {},
     "output_type": "execute_result"
    }
   ],
   "source": [
    "phenotype.index.values"
   ]
  },
  {
   "cell_type": "code",
   "execution_count": 7,
   "id": "74eb6338",
   "metadata": {},
   "outputs": [
    {
     "data": {
      "text/plain": [
       "0        ENSG00000000003\n",
       "1        ENSG00000000419\n",
       "2        ENSG00000000457\n",
       "3        ENSG00000000460\n",
       "4        ENSG00000001036\n",
       "              ...       \n",
       "11226    ENSG00000271043\n",
       "11227    ENSG00000271303\n",
       "11228    ENSG00000272047\n",
       "11229    ENSG00000272325\n",
       "11230    ENSG00000272398\n",
       "Length: 11231, dtype: object"
      ]
     },
     "execution_count": 7,
     "metadata": {},
     "output_type": "execute_result"
    }
   ],
   "source": [
    "features = pd.Series([re.sub(\"_.*\", \"\", gene) for gene in phenotype.index])\n",
    "features"
   ]
  },
  {
   "cell_type": "code",
   "execution_count": 92,
   "id": "f4d1b247",
   "metadata": {
    "scrolled": true
   },
   "outputs": [
    {
     "data": {
      "text/plain": [
       "(855, 34256)"
      ]
     },
     "execution_count": 92,
     "metadata": {},
     "output_type": "execute_result"
    }
   ],
   "source": [
    "pheno_chr = phenotype.iloc[(features.isin(chr_genes)[features.isin(chr_genes)==True].index)]\n",
    "pheno_chr.shape"
   ]
  },
  {
   "cell_type": "code",
   "execution_count": 93,
   "id": "ebdadead",
   "metadata": {},
   "outputs": [
    {
     "data": {
      "text/plain": [
       "range(0, 855)"
      ]
     },
     "execution_count": 93,
     "metadata": {},
     "output_type": "execute_result"
    }
   ],
   "source": [
    "range(pheno_chr.shape[0])"
   ]
  },
  {
   "cell_type": "code",
   "execution_count": 99,
   "id": "2cafe590",
   "metadata": {},
   "outputs": [
    {
     "data": {
      "text/plain": [
       "array([0.        , 0.        , 0.        , ..., 3.48286307, 0.        ,\n",
       "       0.        ])"
      ]
     },
     "execution_count": 99,
     "metadata": {},
     "output_type": "execute_result"
    }
   ],
   "source": [
    "pheno_chr.values[0,:]"
   ]
  },
  {
   "cell_type": "code",
   "execution_count": null,
   "id": "27894130",
   "metadata": {},
   "outputs": [],
   "source": []
  }
 ],
 "metadata": {
  "kernelspec": {
   "display_name": "Python (struct-lmm2)",
   "language": "python",
   "name": "struct-lmm2"
  },
  "language_info": {
   "codemirror_mode": {
    "name": "ipython",
    "version": 3
   },
   "file_extension": ".py",
   "mimetype": "text/x-python",
   "name": "python",
   "nbconvert_exporter": "python",
   "pygments_lexer": "ipython3",
   "version": "3.8.5"
  }
 },
 "nbformat": 4,
 "nbformat_minor": 5
}
