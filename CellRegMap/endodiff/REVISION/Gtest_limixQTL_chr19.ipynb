{
 "cells": [
  {
   "cell_type": "code",
   "execution_count": 1,
   "id": "c3818864",
   "metadata": {},
   "outputs": [],
   "source": [
    "# install.packages(\"LDlinkR\")"
   ]
  },
  {
   "cell_type": "code",
   "execution_count": 2,
   "id": "995a1b86",
   "metadata": {},
   "outputs": [],
   "source": [
    "library(qvalue)\n",
    "library(dplyr)\n",
    "library(LDlinkR)\n",
    "library(ggplot2)"
   ]
  },
  {
   "cell_type": "code",
   "execution_count": 3,
   "id": "3560d473",
   "metadata": {},
   "outputs": [],
   "source": [
    "# v1: limix_qtl with two random effects (single cells, expanded K + CCt)"
   ]
  },
  {
   "cell_type": "code",
   "execution_count": 34,
   "id": "e2a1230c",
   "metadata": {},
   "outputs": [],
   "source": [
    "mydir = \"/hps/nobackup/stegle/users/acuomo/all_scripts/struct_LMM2/sc_endodiff/debug_May2021/REVISION/limix_qtl_pipeline_Gtest/Gtest_10MOFA/\""
   ]
  },
  {
   "cell_type": "code",
   "execution_count": 35,
   "id": "413f82f3",
   "metadata": {},
   "outputs": [],
   "source": [
    "res_file = paste0(mydir, \"results_mj/top_qtl_results_all.txt\")\n",
    "res = read.csv(res_file, sep=\"\\t\")"
   ]
  },
  {
   "cell_type": "code",
   "execution_count": 36,
   "id": "adf5943a",
   "metadata": {},
   "outputs": [
    {
     "data": {
      "text/html": [
       "864"
      ],
      "text/latex": [
       "864"
      ],
      "text/markdown": [
       "864"
      ],
      "text/plain": [
       "[1] 864"
      ]
     },
     "metadata": {},
     "output_type": "display_data"
    },
    {
     "data": {
      "text/html": [
       "<table>\n",
       "<thead><tr><th scope=col>snp_id</th><th scope=col>p_value</th><th scope=col>beta</th><th scope=col>beta_se</th><th scope=col>empirical_feature_p_value</th><th scope=col>feature_chromosome</th><th scope=col>feature_start</th><th scope=col>feature_end</th><th scope=col>n_samples</th><th scope=col>n_e_samples</th><th scope=col>alpha_param</th><th scope=col>beta_param</th><th scope=col>rho</th><th scope=col>snp_chromosome</th><th scope=col>snp_position</th><th scope=col>assessed_allele</th><th scope=col>call_rate</th><th scope=col>maf</th><th scope=col>hwe_p</th><th scope=col>feature_id</th></tr></thead>\n",
       "<tbody>\n",
       "\t<tr><td>19_57703077_T_G</td><td>9.758964e-06   </td><td>-0.06163494    </td><td>0.01393437     </td><td>2.335648e-07   </td><td>19             </td><td>57702868       </td><td>57724724       </td><td>27598          </td><td>99             </td><td>1.859690       </td><td>37.35126       </td><td>0.8            </td><td>19             </td><td>57703077       </td><td>G              </td><td>1              </td><td>0.4141414      </td><td>1.00000000     </td><td>ENSG00000083844</td></tr>\n",
       "\t<tr><td>19_53816432_C_T</td><td>5.936559e-04   </td><td>-0.06402515    </td><td>0.01863979     </td><td>6.353399e-03   </td><td>19             </td><td>53662466       </td><td>53696639       </td><td>27598          </td><td>99             </td><td>1.519646       </td><td>74.48449       </td><td>0.9            </td><td>19             </td><td>53816432       </td><td>T              </td><td>1              </td><td>0.3939394      </td><td>0.09246273     </td><td>ENSG00000197497</td></tr>\n",
       "</tbody>\n",
       "</table>\n"
      ],
      "text/latex": [
       "\\begin{tabular}{r|llllllllllllllllllll}\n",
       " snp\\_id & p\\_value & beta & beta\\_se & empirical\\_feature\\_p\\_value & feature\\_chromosome & feature\\_start & feature\\_end & n\\_samples & n\\_e\\_samples & alpha\\_param & beta\\_param & rho & snp\\_chromosome & snp\\_position & assessed\\_allele & call\\_rate & maf & hwe\\_p & feature\\_id\\\\\n",
       "\\hline\n",
       "\t 19\\_57703077\\_T\\_G & 9.758964e-06          & -0.06163494           & 0.01393437            & 2.335648e-07          & 19                    & 57702868              & 57724724              & 27598                 & 99                    & 1.859690              & 37.35126              & 0.8                   & 19                    & 57703077              & G                     & 1                     & 0.4141414             & 1.00000000            & ENSG00000083844      \\\\\n",
       "\t 19\\_53816432\\_C\\_T & 5.936559e-04          & -0.06402515           & 0.01863979            & 6.353399e-03          & 19                    & 53662466              & 53696639              & 27598                 & 99                    & 1.519646              & 74.48449              & 0.9                   & 19                    & 53816432              & T                     & 1                     & 0.3939394             & 0.09246273            & ENSG00000197497      \\\\\n",
       "\\end{tabular}\n"
      ],
      "text/markdown": [
       "\n",
       "| snp_id | p_value | beta | beta_se | empirical_feature_p_value | feature_chromosome | feature_start | feature_end | n_samples | n_e_samples | alpha_param | beta_param | rho | snp_chromosome | snp_position | assessed_allele | call_rate | maf | hwe_p | feature_id |\n",
       "|---|---|---|---|---|---|---|---|---|---|---|---|---|---|---|---|---|---|---|---|\n",
       "| 19_57703077_T_G | 9.758964e-06    | -0.06163494     | 0.01393437      | 2.335648e-07    | 19              | 57702868        | 57724724        | 27598           | 99              | 1.859690        | 37.35126        | 0.8             | 19              | 57703077        | G               | 1               | 0.4141414       | 1.00000000      | ENSG00000083844 |\n",
       "| 19_53816432_C_T | 5.936559e-04    | -0.06402515     | 0.01863979      | 6.353399e-03    | 19              | 53662466        | 53696639        | 27598           | 99              | 1.519646        | 74.48449        | 0.9             | 19              | 53816432        | T               | 1               | 0.3939394       | 0.09246273      | ENSG00000197497 |\n",
       "\n"
      ],
      "text/plain": [
       "  snp_id          p_value      beta        beta_se    empirical_feature_p_value\n",
       "1 19_57703077_T_G 9.758964e-06 -0.06163494 0.01393437 2.335648e-07             \n",
       "2 19_53816432_C_T 5.936559e-04 -0.06402515 0.01863979 6.353399e-03             \n",
       "  feature_chromosome feature_start feature_end n_samples n_e_samples\n",
       "1 19                 57702868      57724724    27598     99         \n",
       "2 19                 53662466      53696639    27598     99         \n",
       "  alpha_param beta_param rho snp_chromosome snp_position assessed_allele\n",
       "1 1.859690    37.35126   0.8 19             57703077     G              \n",
       "2 1.519646    74.48449   0.9 19             53816432     T              \n",
       "  call_rate maf       hwe_p      feature_id     \n",
       "1 1         0.4141414 1.00000000 ENSG00000083844\n",
       "2 1         0.3939394 0.09246273 ENSG00000197497"
      ]
     },
     "metadata": {},
     "output_type": "display_data"
    }
   ],
   "source": [
    "nrow(res)\n",
    "head(res,2)"
   ]
  },
  {
   "cell_type": "code",
   "execution_count": 7,
   "id": "e617ff22",
   "metadata": {},
   "outputs": [],
   "source": [
    "res$global_corr_p_value = qvalue(res$empirical_feature_p_value)$qvalues"
   ]
  },
  {
   "cell_type": "code",
   "execution_count": 8,
   "id": "1251e5fe",
   "metadata": {},
   "outputs": [
    {
     "data": {
      "text/html": [
       "238"
      ],
      "text/latex": [
       "238"
      ],
      "text/markdown": [
       "238"
      ],
      "text/plain": [
       "[1] 238"
      ]
     },
     "metadata": {},
     "output_type": "display_data"
    }
   ],
   "source": [
    "nrow(res[res$global_corr_p_value<0.05,])"
   ]
  },
  {
   "cell_type": "code",
   "execution_count": 9,
   "id": "536c2f39",
   "metadata": {},
   "outputs": [],
   "source": [
    "############### old results (Cuomo*, Seaton*, McCarthy* et al Nat Comm 2020)"
   ]
  },
  {
   "cell_type": "code",
   "execution_count": 10,
   "id": "75a2f417",
   "metadata": {},
   "outputs": [],
   "source": [
    "# load lead variant results sc stages (iPS, mesendo, defendo)\n",
    "leads.ips = read.csv(\"/nfs/leia/research/stegle/acuomo/mean/day0/all_expts/leads.csv\", row.names = 1)\n",
    "leads.mes = read.csv(\"/nfs/leia/research/stegle/acuomo/mean/mesendo_est_June20/leads.csv\", row.names = 1)\n",
    "leads.defendo = read.csv(\"/nfs/leia/research/stegle/acuomo/mean/defendo_est_June20/leads.csv\", row.names = 1)"
   ]
  },
  {
   "cell_type": "code",
   "execution_count": 11,
   "id": "d39d31cf",
   "metadata": {},
   "outputs": [],
   "source": [
    "# add differentiation stage information\n",
    "leads.ips$stage = \"ips\"\n",
    "leads.mes$stage = \"mesendo\"\n",
    "leads.defendo$stage = \"defendo\""
   ]
  },
  {
   "cell_type": "code",
   "execution_count": 12,
   "id": "ec4b8356",
   "metadata": {},
   "outputs": [],
   "source": [
    "# merge results\n",
    "endo_eqtl = rbind(leads.ips, \n",
    "                 leads.mes,\n",
    "                 leads.defendo)"
   ]
  },
  {
   "cell_type": "code",
   "execution_count": 13,
   "id": "1c48358a",
   "metadata": {},
   "outputs": [
    {
     "data": {
      "text/html": [
       "<table>\n",
       "<thead><tr><th scope=col>beta</th><th scope=col>beta_se</th><th scope=col>empirical_feature_p_value</th><th scope=col>p_value</th><th scope=col>snp_id</th><th scope=col>feature</th><th scope=col>global_corr_p_value</th><th scope=col>chrom</th><th scope=col>pos</th><th scope=col>ref_allele</th><th scope=col>...</th><th scope=col>permutation_1</th><th scope=col>permutation_2</th><th scope=col>permutation_3</th><th scope=col>permutation_4</th><th scope=col>permutation_5</th><th scope=col>permutation_6</th><th scope=col>permutation_7</th><th scope=col>permutation_8</th><th scope=col>permutation_9</th><th scope=col>stage</th></tr></thead>\n",
       "<tbody>\n",
       "\t<tr><td>-1.0048674            </td><td>0.08005311            </td><td>3.631688e-34          </td><td>3.851118e-36          </td><td>5_149826526_C_T       </td><td>ENSG00000164587_RPS14 </td><td>2.880363e-30          </td><td> 5                    </td><td>149826526             </td><td>C                     </td><td>...                   </td><td>0.5867415             </td><td>0.56508683            </td><td>0.6296458             </td><td>0.004683908           </td><td>0.5159591             </td><td>0.7734028             </td><td>0.6450821             </td><td>0.6001209             </td><td>0.9876646             </td><td>ips                   </td></tr>\n",
       "\t<tr><td>-0.9881017            </td><td>0.08648823            </td><td>2.432216e-26          </td><td>3.147553e-30          </td><td>11_57283988_C_T       </td><td>ENSG00000134809_TIMM10</td><td>8.853960e-23          </td><td>11                    </td><td> 57283988             </td><td>C                     </td><td>...                   </td><td>0.1093548             </td><td>0.08194005            </td><td>0.6897261             </td><td>0.683497330           </td><td>0.5137511             </td><td>0.7877572             </td><td>0.6064095             </td><td>0.5419861             </td><td>0.5654441             </td><td>ips                   </td></tr>\n",
       "</tbody>\n",
       "</table>\n"
      ],
      "text/latex": [
       "\\begin{tabular}{r|llllllllllllllllllllll}\n",
       " beta & beta\\_se & empirical\\_feature\\_p\\_value & p\\_value & snp\\_id & feature & global\\_corr\\_p\\_value & chrom & pos & ref\\_allele & ... & permutation\\_1 & permutation\\_2 & permutation\\_3 & permutation\\_4 & permutation\\_5 & permutation\\_6 & permutation\\_7 & permutation\\_8 & permutation\\_9 & stage\\\\\n",
       "\\hline\n",
       "\t -1.0048674               & 0.08005311               & 3.631688e-34             & 3.851118e-36             & 5\\_149826526\\_C\\_T    & ENSG00000164587\\_RPS14  & 2.880363e-30             &  5                       & 149826526                & C                        & ...                      & 0.5867415                & 0.56508683               & 0.6296458                & 0.004683908              & 0.5159591                & 0.7734028                & 0.6450821                & 0.6001209                & 0.9876646                & ips                     \\\\\n",
       "\t -0.9881017               & 0.08648823               & 2.432216e-26             & 3.147553e-30             & 11\\_57283988\\_C\\_T    & ENSG00000134809\\_TIMM10 & 8.853960e-23             & 11                       &  57283988                & C                        & ...                      & 0.1093548                & 0.08194005               & 0.6897261                & 0.683497330              & 0.5137511                & 0.7877572                & 0.6064095                & 0.5419861                & 0.5654441                & ips                     \\\\\n",
       "\\end{tabular}\n"
      ],
      "text/markdown": [
       "\n",
       "| beta | beta_se | empirical_feature_p_value | p_value | snp_id | feature | global_corr_p_value | chrom | pos | ref_allele | ... | permutation_1 | permutation_2 | permutation_3 | permutation_4 | permutation_5 | permutation_6 | permutation_7 | permutation_8 | permutation_9 | stage |\n",
       "|---|---|---|---|---|---|---|---|---|---|---|---|---|---|---|---|---|---|---|---|---|\n",
       "| -1.0048674             | 0.08005311             | 3.631688e-34           | 3.851118e-36           | 5_149826526_C_T        | ENSG00000164587_RPS14  | 2.880363e-30           |  5                     | 149826526              | C                      | ...                    | 0.5867415              | 0.56508683             | 0.6296458              | 0.004683908            | 0.5159591              | 0.7734028              | 0.6450821              | 0.6001209              | 0.9876646              | ips                    |\n",
       "| -0.9881017             | 0.08648823             | 2.432216e-26           | 3.147553e-30           | 11_57283988_C_T        | ENSG00000134809_TIMM10 | 8.853960e-23           | 11                     |  57283988              | C                      | ...                    | 0.1093548              | 0.08194005             | 0.6897261              | 0.683497330            | 0.5137511              | 0.7877572              | 0.6064095              | 0.5419861              | 0.5654441              | ips                    |\n",
       "\n"
      ],
      "text/plain": [
       "  beta       beta_se    empirical_feature_p_value p_value      snp_id         \n",
       "1 -1.0048674 0.08005311 3.631688e-34              3.851118e-36 5_149826526_C_T\n",
       "2 -0.9881017 0.08648823 2.432216e-26              3.147553e-30 11_57283988_C_T\n",
       "  feature                global_corr_p_value chrom pos       ref_allele ...\n",
       "1 ENSG00000164587_RPS14  2.880363e-30         5    149826526 C          ...\n",
       "2 ENSG00000134809_TIMM10 8.853960e-23        11     57283988 C          ...\n",
       "  permutation_1 permutation_2 permutation_3 permutation_4 permutation_5\n",
       "1 0.5867415     0.56508683    0.6296458     0.004683908   0.5159591    \n",
       "2 0.1093548     0.08194005    0.6897261     0.683497330   0.5137511    \n",
       "  permutation_6 permutation_7 permutation_8 permutation_9 stage\n",
       "1 0.7734028     0.6450821     0.6001209     0.9876646     ips  \n",
       "2 0.7877572     0.6064095     0.5419861     0.5654441     ips  "
      ]
     },
     "metadata": {},
     "output_type": "display_data"
    }
   ],
   "source": [
    "head(endo_eqtl,2)"
   ]
  },
  {
   "cell_type": "code",
   "execution_count": 14,
   "id": "52d8379c",
   "metadata": {},
   "outputs": [],
   "source": [
    "# pick top SNP across stages (min p_value)"
   ]
  },
  {
   "cell_type": "code",
   "execution_count": 15,
   "id": "10f94c0c",
   "metadata": {},
   "outputs": [
    {
     "data": {
      "text/html": [
       "32665"
      ],
      "text/latex": [
       "32665"
      ],
      "text/markdown": [
       "32665"
      ],
      "text/plain": [
       "[1] 32665"
      ]
     },
     "metadata": {},
     "output_type": "display_data"
    },
    {
     "data": {
      "text/html": [
       "<table>\n",
       "<thead><tr><th></th><th scope=col>beta</th><th scope=col>beta_se</th><th scope=col>empirical_feature_p_value</th><th scope=col>p_value</th><th scope=col>snp_id</th><th scope=col>feature</th><th scope=col>global_corr_p_value</th><th scope=col>chrom</th><th scope=col>pos</th><th scope=col>ref_allele</th><th scope=col>...</th><th scope=col>permutation_1</th><th scope=col>permutation_2</th><th scope=col>permutation_3</th><th scope=col>permutation_4</th><th scope=col>permutation_5</th><th scope=col>permutation_6</th><th scope=col>permutation_7</th><th scope=col>permutation_8</th><th scope=col>permutation_9</th><th scope=col>stage</th></tr></thead>\n",
       "<tbody>\n",
       "\t<tr><th scope=row>6</th><td>-1.457854             </td><td>0.1020245             </td><td>9.536615e-26          </td><td>2.553619e-46          </td><td>4_39446549_G_A        </td><td>ENSG00000163682_RPL9  </td><td>1.260613e-22          </td><td>4                     </td><td>39446549              </td><td>G                     </td><td>...                   </td><td>0.02499141            </td><td>0.6516389             </td><td>0.4681722             </td><td>0.3833344             </td><td>0.05690061            </td><td>0.02657527            </td><td>0.2945979             </td><td>0.02514148            </td><td>0.7088325             </td><td>ips                   </td></tr>\n",
       "\t<tr><th scope=row>12</th><td> 1.801311             </td><td>0.1333499             </td><td>3.391301e-21          </td><td>1.399851e-41          </td><td>7_55806087_G_T        </td><td>ENSG00000226278_PSPHP1</td><td>2.241423e-18          </td><td>7                     </td><td>55806087              </td><td>G                     </td><td>...                   </td><td>0.10854778            </td><td>0.0611202             </td><td>0.3728356             </td><td>0.2267340             </td><td>0.60751447            </td><td>0.24224812            </td><td>0.6809891             </td><td>0.47102673            </td><td>0.2149549             </td><td>ips                   </td></tr>\n",
       "</tbody>\n",
       "</table>\n"
      ],
      "text/latex": [
       "\\begin{tabular}{r|llllllllllllllllllllll}\n",
       "  & beta & beta\\_se & empirical\\_feature\\_p\\_value & p\\_value & snp\\_id & feature & global\\_corr\\_p\\_value & chrom & pos & ref\\_allele & ... & permutation\\_1 & permutation\\_2 & permutation\\_3 & permutation\\_4 & permutation\\_5 & permutation\\_6 & permutation\\_7 & permutation\\_8 & permutation\\_9 & stage\\\\\n",
       "\\hline\n",
       "\t6 & -1.457854                & 0.1020245                & 9.536615e-26             & 2.553619e-46             & 4\\_39446549\\_G\\_A     & ENSG00000163682\\_RPL9   & 1.260613e-22             & 4                        & 39446549                 & G                        & ...                      & 0.02499141               & 0.6516389                & 0.4681722                & 0.3833344                & 0.05690061               & 0.02657527               & 0.2945979                & 0.02514148               & 0.7088325                & ips                     \\\\\n",
       "\t12 &  1.801311                & 0.1333499                & 3.391301e-21             & 1.399851e-41             & 7\\_55806087\\_G\\_T     & ENSG00000226278\\_PSPHP1 & 2.241423e-18             & 7                        & 55806087                 & G                        & ...                      & 0.10854778               & 0.0611202                & 0.3728356                & 0.2267340                & 0.60751447               & 0.24224812               & 0.6809891                & 0.47102673               & 0.2149549                & ips                     \\\\\n",
       "\\end{tabular}\n"
      ],
      "text/markdown": [
       "\n",
       "| <!--/--> | beta | beta_se | empirical_feature_p_value | p_value | snp_id | feature | global_corr_p_value | chrom | pos | ref_allele | ... | permutation_1 | permutation_2 | permutation_3 | permutation_4 | permutation_5 | permutation_6 | permutation_7 | permutation_8 | permutation_9 | stage |\n",
       "|---|---|---|---|---|---|---|---|---|---|---|---|---|---|---|---|---|---|---|---|---|---|\n",
       "| 6 | -1.457854              | 0.1020245              | 9.536615e-26           | 2.553619e-46           | 4_39446549_G_A         | ENSG00000163682_RPL9   | 1.260613e-22           | 4                      | 39446549               | G                      | ...                    | 0.02499141             | 0.6516389              | 0.4681722              | 0.3833344              | 0.05690061             | 0.02657527             | 0.2945979              | 0.02514148             | 0.7088325              | ips                    |\n",
       "| 12 |  1.801311              | 0.1333499              | 3.391301e-21           | 1.399851e-41           | 7_55806087_G_T         | ENSG00000226278_PSPHP1 | 2.241423e-18           | 7                      | 55806087               | G                      | ...                    | 0.10854778             | 0.0611202              | 0.3728356              | 0.2267340              | 0.60751447             | 0.24224812             | 0.6809891              | 0.47102673             | 0.2149549              | ips                    |\n",
       "\n"
      ],
      "text/plain": [
       "   beta      beta_se   empirical_feature_p_value p_value      snp_id        \n",
       "6  -1.457854 0.1020245 9.536615e-26              2.553619e-46 4_39446549_G_A\n",
       "12  1.801311 0.1333499 3.391301e-21              1.399851e-41 7_55806087_G_T\n",
       "   feature                global_corr_p_value chrom pos      ref_allele ...\n",
       "6  ENSG00000163682_RPL9   1.260613e-22        4     39446549 G          ...\n",
       "12 ENSG00000226278_PSPHP1 2.241423e-18        7     55806087 G          ...\n",
       "   permutation_1 permutation_2 permutation_3 permutation_4 permutation_5\n",
       "6  0.02499141    0.6516389     0.4681722     0.3833344     0.05690061   \n",
       "12 0.10854778    0.0611202     0.3728356     0.2267340     0.60751447   \n",
       "   permutation_6 permutation_7 permutation_8 permutation_9 stage\n",
       "6  0.02657527    0.2945979     0.02514148    0.7088325     ips  \n",
       "12 0.24224812    0.6809891     0.47102673    0.2149549     ips  "
      ]
     },
     "metadata": {},
     "output_type": "display_data"
    }
   ],
   "source": [
    "# order by p_value\n",
    "endo_eqtl = endo_eqtl[order(endo_eqtl$p_value),]\n",
    "nrow(endo_eqtl)\n",
    "head(endo_eqtl,2)"
   ]
  },
  {
   "cell_type": "code",
   "execution_count": 16,
   "id": "c1311997",
   "metadata": {},
   "outputs": [
    {
     "data": {
      "text/html": [
       "10788"
      ],
      "text/latex": [
       "10788"
      ],
      "text/markdown": [
       "10788"
      ],
      "text/plain": [
       "[1] 10788"
      ]
     },
     "metadata": {},
     "output_type": "display_data"
    }
   ],
   "source": [
    "# select only one SNP per gene \n",
    "endo_eqtl = endo_eqtl[-which(duplicated(endo_eqtl$feature)),]\n",
    "nrow(endo_eqtl)"
   ]
  },
  {
   "cell_type": "code",
   "execution_count": 17,
   "id": "6cc0af06",
   "metadata": {},
   "outputs": [],
   "source": [
    "################ compare results"
   ]
  },
  {
   "cell_type": "code",
   "execution_count": 18,
   "id": "3dceccae",
   "metadata": {},
   "outputs": [],
   "source": [
    "## first, check if lead SNP is the same (or in LD)"
   ]
  },
  {
   "cell_type": "code",
   "execution_count": 19,
   "id": "06a867ce",
   "metadata": {},
   "outputs": [],
   "source": [
    "T = 0.1\n",
    "## consider significant hits only\n",
    "endo_eqtl = endo_eqtl[endo_eqtl$global_corr_p_value <= T,]\n",
    "res = res[res$global_corr_p_value <= T,]"
   ]
  },
  {
   "cell_type": "code",
   "execution_count": 20,
   "id": "f377ec40",
   "metadata": {},
   "outputs": [
    {
     "data": {
      "text/html": [
       "3079"
      ],
      "text/latex": [
       "3079"
      ],
      "text/markdown": [
       "3079"
      ],
      "text/plain": [
       "[1] 3079"
      ]
     },
     "metadata": {},
     "output_type": "display_data"
    },
    {
     "data": {
      "text/html": [
       "293"
      ],
      "text/latex": [
       "293"
      ],
      "text/markdown": [
       "293"
      ],
      "text/plain": [
       "[1] 293"
      ]
     },
     "metadata": {},
     "output_type": "display_data"
    }
   ],
   "source": [
    "nrow(endo_eqtl)\n",
    "nrow(res)"
   ]
  },
  {
   "cell_type": "code",
   "execution_count": 21,
   "id": "61d06a60",
   "metadata": {},
   "outputs": [],
   "source": [
    "endo_eqtl$feature_id = gsub(\"_.*\",\"\",endo_eqtl$feature)"
   ]
  },
  {
   "cell_type": "code",
   "execution_count": 22,
   "id": "f7e90cf9",
   "metadata": {},
   "outputs": [],
   "source": [
    "cols = c(\"feature_id\",\"snp_id\")\n",
    "df = inner_join(endo_eqtl[,c(\"stage\",cols)], res[,cols], by = c(\"feature_id\"), suffix=c(\".old\",\".new\"))"
   ]
  },
  {
   "cell_type": "code",
   "execution_count": 23,
   "id": "bdd8a8da",
   "metadata": {},
   "outputs": [
    {
     "data": {
      "text/html": [
       "<table>\n",
       "<thead><tr><th scope=col>stage</th><th scope=col>feature_id</th><th scope=col>snp_id.old</th><th scope=col>snp_id.new</th></tr></thead>\n",
       "<tbody>\n",
       "\t<tr><td>ips            </td><td>ENSG00000233927</td><td>19_8387207_G_A </td><td>19_8387207_G_A </td></tr>\n",
       "\t<tr><td>ips            </td><td>ENSG00000076924</td><td>19_7675917_C_G </td><td>19_7675917_C_G </td></tr>\n",
       "\t<tr><td>ips            </td><td>ENSG00000186230</td><td>19_57939619_C_T</td><td>19_57939619_C_T</td></tr>\n",
       "\t<tr><td>ips            </td><td>ENSG00000172687</td><td>19_21513408_G_A</td><td>19_21513408_G_A</td></tr>\n",
       "\t<tr><td>ips            </td><td>ENSG00000170892</td><td>19_54695163_T_C</td><td>19_54695163_T_C</td></tr>\n",
       "\t<tr><td>ips            </td><td>ENSG00000141994</td><td>19_5783634_T_C </td><td>19_5799037_C_T </td></tr>\n",
       "</tbody>\n",
       "</table>\n"
      ],
      "text/latex": [
       "\\begin{tabular}{r|llll}\n",
       " stage & feature\\_id & snp\\_id.old & snp\\_id.new\\\\\n",
       "\\hline\n",
       "\t ips                   & ENSG00000233927       & 19\\_8387207\\_G\\_A  & 19\\_8387207\\_G\\_A \\\\\n",
       "\t ips                   & ENSG00000076924       & 19\\_7675917\\_C\\_G  & 19\\_7675917\\_C\\_G \\\\\n",
       "\t ips                   & ENSG00000186230       & 19\\_57939619\\_C\\_T & 19\\_57939619\\_C\\_T\\\\\n",
       "\t ips                   & ENSG00000172687       & 19\\_21513408\\_G\\_A & 19\\_21513408\\_G\\_A\\\\\n",
       "\t ips                   & ENSG00000170892       & 19\\_54695163\\_T\\_C & 19\\_54695163\\_T\\_C\\\\\n",
       "\t ips                   & ENSG00000141994       & 19\\_5783634\\_T\\_C  & 19\\_5799037\\_C\\_T \\\\\n",
       "\\end{tabular}\n"
      ],
      "text/markdown": [
       "\n",
       "| stage | feature_id | snp_id.old | snp_id.new |\n",
       "|---|---|---|---|\n",
       "| ips             | ENSG00000233927 | 19_8387207_G_A  | 19_8387207_G_A  |\n",
       "| ips             | ENSG00000076924 | 19_7675917_C_G  | 19_7675917_C_G  |\n",
       "| ips             | ENSG00000186230 | 19_57939619_C_T | 19_57939619_C_T |\n",
       "| ips             | ENSG00000172687 | 19_21513408_G_A | 19_21513408_G_A |\n",
       "| ips             | ENSG00000170892 | 19_54695163_T_C | 19_54695163_T_C |\n",
       "| ips             | ENSG00000141994 | 19_5783634_T_C  | 19_5799037_C_T  |\n",
       "\n"
      ],
      "text/plain": [
       "  stage feature_id      snp_id.old      snp_id.new     \n",
       "1 ips   ENSG00000233927 19_8387207_G_A  19_8387207_G_A \n",
       "2 ips   ENSG00000076924 19_7675917_C_G  19_7675917_C_G \n",
       "3 ips   ENSG00000186230 19_57939619_C_T 19_57939619_C_T\n",
       "4 ips   ENSG00000172687 19_21513408_G_A 19_21513408_G_A\n",
       "5 ips   ENSG00000170892 19_54695163_T_C 19_54695163_T_C\n",
       "6 ips   ENSG00000141994 19_5783634_T_C  19_5799037_C_T "
      ]
     },
     "metadata": {},
     "output_type": "display_data"
    }
   ],
   "source": [
    "head(df)"
   ]
  },
  {
   "cell_type": "code",
   "execution_count": 20,
   "id": "c57216c4",
   "metadata": {},
   "outputs": [
    {
     "data": {
      "text/html": [
       "1524"
      ],
      "text/latex": [
       "1524"
      ],
      "text/markdown": [
       "1524"
      ],
      "text/plain": [
       "[1] 1524"
      ]
     },
     "metadata": {},
     "output_type": "display_data"
    },
    {
     "data": {
      "text/html": [
       "<ol class=list-inline>\n",
       "\t<li>'19_8387207_G_A'</li>\n",
       "\t<li>'19_7675917_C_G'</li>\n",
       "\t<li>'19_57939619_C_T'</li>\n",
       "\t<li>'19_21513408_G_A'</li>\n",
       "\t<li>'19_54695163_T_C'</li>\n",
       "\t<li>'19_5783634_T_C'</li>\n",
       "</ol>\n"
      ],
      "text/latex": [
       "\\begin{enumerate*}\n",
       "\\item '19\\_8387207\\_G\\_A'\n",
       "\\item '19\\_7675917\\_C\\_G'\n",
       "\\item '19\\_57939619\\_C\\_T'\n",
       "\\item '19\\_21513408\\_G\\_A'\n",
       "\\item '19\\_54695163\\_T\\_C'\n",
       "\\item '19\\_5783634\\_T\\_C'\n",
       "\\end{enumerate*}\n"
      ],
      "text/markdown": [
       "1. '19_8387207_G_A'\n",
       "2. '19_7675917_C_G'\n",
       "3. '19_57939619_C_T'\n",
       "4. '19_21513408_G_A'\n",
       "5. '19_54695163_T_C'\n",
       "6. '19_5783634_T_C'\n",
       "\n",
       "\n"
      ],
      "text/plain": [
       "[1] \"19_8387207_G_A\"  \"19_7675917_C_G\"  \"19_57939619_C_T\" \"19_21513408_G_A\"\n",
       "[5] \"19_54695163_T_C\" \"19_5783634_T_C\" "
      ]
     },
     "metadata": {},
     "output_type": "display_data"
    }
   ],
   "source": [
    "# collect all SNPs\n",
    "all_snps = unique(c(as.character(df$snp_id.old), as.character(df$snp_id.new)))\n",
    "length(all_snps)\n",
    "head(all_snps)"
   ]
  },
  {
   "cell_type": "code",
   "execution_count": 59,
   "id": "91cbcf4e",
   "metadata": {},
   "outputs": [
    {
     "data": {
      "text/html": [
       "<table>\n",
       "<thead><tr><th scope=col>snp</th></tr></thead>\n",
       "<tbody>\n",
       "\t<tr><td>19_8387207_G_A</td></tr>\n",
       "\t<tr><td>19_7675917_C_G</td></tr>\n",
       "</tbody>\n",
       "</table>\n"
      ],
      "text/latex": [
       "\\begin{tabular}{r|l}\n",
       " snp\\\\\n",
       "\\hline\n",
       "\t 19\\_8387207\\_G\\_A\\\\\n",
       "\t 19\\_7675917\\_C\\_G\\\\\n",
       "\\end{tabular}\n"
      ],
      "text/markdown": [
       "\n",
       "| snp |\n",
       "|---|\n",
       "| 19_8387207_G_A |\n",
       "| 19_7675917_C_G |\n",
       "\n"
      ],
      "text/plain": [
       "  snp           \n",
       "1 19_8387207_G_A\n",
       "2 19_7675917_C_G"
      ]
     },
     "metadata": {},
     "output_type": "display_data"
    }
   ],
   "source": [
    "snp_df = data.frame(snp=all_snps)\n",
    "head(snp_df,2)"
   ]
  },
  {
   "cell_type": "code",
   "execution_count": 60,
   "id": "76bf7c3e",
   "metadata": {},
   "outputs": [
    {
     "data": {
      "text/html": [
       "188"
      ],
      "text/latex": [
       "188"
      ],
      "text/markdown": [
       "188"
      ],
      "text/plain": [
       "[1] 188"
      ]
     },
     "metadata": {},
     "output_type": "display_data"
    }
   ],
   "source": [
    "nrow(snp_df)"
   ]
  },
  {
   "cell_type": "code",
   "execution_count": 260,
   "id": "62b5aed5",
   "metadata": {},
   "outputs": [],
   "source": [
    "# write.csv(snp_df, \"/hps/nobackup/stegle/users/acuomo/all_scripts/struct_LMM2/sc_endodiff/debug_May2021/REVISION/limix_qtl_pipeline_Gtest/top_snps_to_compare.csv\")"
   ]
  },
  {
   "cell_type": "code",
   "execution_count": 261,
   "id": "a3600ff5",
   "metadata": {},
   "outputs": [],
   "source": [
    "# load SNP correlation matrix\n",
    "corrMatrix = read.csv(\"/hps/nobackup/stegle/users/acuomo/all_scripts/struct_LMM2/sc_endodiff/debug_May2021/REVISION/limix_qtl_pipeline_Gtest/top_snps_to_compare_corrs.csv\", row.names=1)\n",
    "colnames(corrMatrix) = gsub(\"X\",\"\",colnames(corrMatrix))"
   ]
  },
  {
   "cell_type": "code",
   "execution_count": 262,
   "id": "4540a102",
   "metadata": {},
   "outputs": [
    {
     "data": {
      "text/html": [
       "1517"
      ],
      "text/latex": [
       "1517"
      ],
      "text/markdown": [
       "1517"
      ],
      "text/plain": [
       "[1] 1517"
      ]
     },
     "metadata": {},
     "output_type": "display_data"
    }
   ],
   "source": [
    "nrow(corrMatrix)"
   ]
  },
  {
   "cell_type": "code",
   "execution_count": 263,
   "id": "bd008cef",
   "metadata": {},
   "outputs": [
    {
     "data": {
      "text/html": [
       "<table>\n",
       "<thead><tr><th></th><th scope=col>19_8387207_G_A</th><th scope=col>19_7675917_C_G</th><th scope=col>19_57939619_C_T</th><th scope=col>19_21513408_G_A</th><th scope=col>19_54695163_T_C</th></tr></thead>\n",
       "<tbody>\n",
       "\t<tr><th scope=row>19_8387207_G_A</th><td> 1.00000000</td><td>-0.12617660</td><td>-0.03007142</td><td>-0.15816291</td><td> 0.09749598</td></tr>\n",
       "\t<tr><th scope=row>19_7675917_C_G</th><td>-0.12617660</td><td> 1.00000000</td><td>-0.11594338</td><td>-0.08269191</td><td> 0.11289370</td></tr>\n",
       "\t<tr><th scope=row>19_57939619_C_T</th><td>-0.03007142</td><td>-0.11594338</td><td> 1.00000000</td><td> 0.02868665</td><td> 0.08602564</td></tr>\n",
       "\t<tr><th scope=row>19_21513408_G_A</th><td>-0.15816291</td><td>-0.08269191</td><td> 0.02868665</td><td> 1.00000000</td><td>-0.04315027</td></tr>\n",
       "\t<tr><th scope=row>19_54695163_T_C</th><td> 0.09749598</td><td> 0.11289370</td><td> 0.08602564</td><td>-0.04315027</td><td> 1.00000000</td></tr>\n",
       "</tbody>\n",
       "</table>\n"
      ],
      "text/latex": [
       "\\begin{tabular}{r|lllll}\n",
       "  & 19\\_8387207\\_G\\_A & 19\\_7675917\\_C\\_G & 19\\_57939619\\_C\\_T & 19\\_21513408\\_G\\_A & 19\\_54695163\\_T\\_C\\\\\n",
       "\\hline\n",
       "\t19\\_8387207\\_G\\_A &  1.00000000 & -0.12617660 & -0.03007142 & -0.15816291 &  0.09749598\\\\\n",
       "\t19\\_7675917\\_C\\_G & -0.12617660 &  1.00000000 & -0.11594338 & -0.08269191 &  0.11289370\\\\\n",
       "\t19\\_57939619\\_C\\_T & -0.03007142 & -0.11594338 &  1.00000000 &  0.02868665 &  0.08602564\\\\\n",
       "\t19\\_21513408\\_G\\_A & -0.15816291 & -0.08269191 &  0.02868665 &  1.00000000 & -0.04315027\\\\\n",
       "\t19\\_54695163\\_T\\_C &  0.09749598 &  0.11289370 &  0.08602564 & -0.04315027 &  1.00000000\\\\\n",
       "\\end{tabular}\n"
      ],
      "text/markdown": [
       "\n",
       "| <!--/--> | 19_8387207_G_A | 19_7675917_C_G | 19_57939619_C_T | 19_21513408_G_A | 19_54695163_T_C |\n",
       "|---|---|---|---|---|---|\n",
       "| 19_8387207_G_A |  1.00000000 | -0.12617660 | -0.03007142 | -0.15816291 |  0.09749598 |\n",
       "| 19_7675917_C_G | -0.12617660 |  1.00000000 | -0.11594338 | -0.08269191 |  0.11289370 |\n",
       "| 19_57939619_C_T | -0.03007142 | -0.11594338 |  1.00000000 |  0.02868665 |  0.08602564 |\n",
       "| 19_21513408_G_A | -0.15816291 | -0.08269191 |  0.02868665 |  1.00000000 | -0.04315027 |\n",
       "| 19_54695163_T_C |  0.09749598 |  0.11289370 |  0.08602564 | -0.04315027 |  1.00000000 |\n",
       "\n"
      ],
      "text/plain": [
       "                19_8387207_G_A 19_7675917_C_G 19_57939619_C_T 19_21513408_G_A\n",
       "19_8387207_G_A   1.00000000    -0.12617660    -0.03007142     -0.15816291    \n",
       "19_7675917_C_G  -0.12617660     1.00000000    -0.11594338     -0.08269191    \n",
       "19_57939619_C_T -0.03007142    -0.11594338     1.00000000      0.02868665    \n",
       "19_21513408_G_A -0.15816291    -0.08269191     0.02868665      1.00000000    \n",
       "19_54695163_T_C  0.09749598     0.11289370     0.08602564     -0.04315027    \n",
       "                19_54695163_T_C\n",
       "19_8387207_G_A   0.09749598    \n",
       "19_7675917_C_G   0.11289370    \n",
       "19_57939619_C_T  0.08602564    \n",
       "19_21513408_G_A -0.04315027    \n",
       "19_54695163_T_C  1.00000000    "
      ]
     },
     "metadata": {},
     "output_type": "display_data"
    }
   ],
   "source": [
    "corrMatrix[1:5,1:5]"
   ]
  },
  {
   "cell_type": "code",
   "execution_count": 264,
   "id": "fb8571c7",
   "metadata": {},
   "outputs": [],
   "source": [
    "df$r = 0\n",
    "df$r2 = 0"
   ]
  },
  {
   "cell_type": "code",
   "execution_count": 265,
   "id": "86d5a8e8",
   "metadata": {},
   "outputs": [],
   "source": [
    "for (i in 1:nrow(df)){\n",
    "    snp1 = as.character(df[i,\"snp_id.old\"])\n",
    "    snp2 = as.character(df[i,\"snp_id.new\"])\n",
    "    if (!(snp1 %in% colnames(corrMatrix)) | !(snp2 %in% colnames(corrMatrix))){next}\n",
    "    df[i,\"r\"] = as.numeric(corrMatrix[snp1,snp2])\n",
    "    df[i,\"r2\"] = df[i,\"r\"]**2\n",
    "}"
   ]
  },
  {
   "cell_type": "code",
   "execution_count": 271,
   "id": "7b626b11",
   "metadata": {
    "scrolled": true
   },
   "outputs": [
    {
     "data": {
      "text/html": [
       "<table>\n",
       "<thead><tr><th scope=col>stage</th><th scope=col>feature_id</th><th scope=col>snp_id.old</th><th scope=col>snp_id.new</th><th scope=col>r</th><th scope=col>r2</th></tr></thead>\n",
       "<tbody>\n",
       "\t<tr><td>ips            </td><td>ENSG00000233927</td><td>19_8387207_G_A </td><td>19_8387207_G_A </td><td> 1.00000000    </td><td>1.000000000    </td></tr>\n",
       "\t<tr><td>ips            </td><td>ENSG00000076924</td><td>19_7675917_C_G </td><td>19_7675917_C_G </td><td> 1.00000000    </td><td>1.000000000    </td></tr>\n",
       "\t<tr><td>ips            </td><td>ENSG00000186230</td><td>19_57939619_C_T</td><td>19_57939619_C_T</td><td> 1.00000000    </td><td>1.000000000    </td></tr>\n",
       "\t<tr><td>ips            </td><td>ENSG00000172687</td><td>19_21513408_G_A</td><td>19_21513408_G_A</td><td> 1.00000000    </td><td>1.000000000    </td></tr>\n",
       "\t<tr><td>ips            </td><td>ENSG00000170892</td><td>19_54695163_T_C</td><td>19_54695163_T_C</td><td> 1.00000000    </td><td>1.000000000    </td></tr>\n",
       "\t<tr><td>ips            </td><td>ENSG00000141994</td><td>19_5783634_T_C </td><td>19_5799037_C_T </td><td> 0.95588461    </td><td>0.913715391    </td></tr>\n",
       "\t<tr><td>ips            </td><td>ENSG00000104808</td><td>19_49439728_C_T</td><td>19_49439728_C_T</td><td> 1.00000000    </td><td>1.000000000    </td></tr>\n",
       "\t<tr><td>ips            </td><td>ENSG00000167641</td><td>19_38735804_A_T</td><td>19_38735480_G_A</td><td> 0.83935473    </td><td>0.704516361    </td></tr>\n",
       "\t<tr><td>mesendo        </td><td>ENSG00000170889</td><td>19_54726870_C_G</td><td>19_54726870_C_G</td><td> 1.00000000    </td><td>1.000000000    </td></tr>\n",
       "\t<tr><td>ips            </td><td>ENSG00000161265</td><td>19_36181046_T_C</td><td>19_36225999_T_C</td><td> 0.71379471    </td><td>0.509502887    </td></tr>\n",
       "\t<tr><td>ips            </td><td>ENSG00000267323</td><td>19_28298186_T_C</td><td>19_28256350_T_A</td><td>-1.00000000    </td><td>1.000000000    </td></tr>\n",
       "\t<tr><td>ips            </td><td>ENSG00000169169</td><td>19_50189156_G_A</td><td>19_50189156_G_A</td><td> 1.00000000    </td><td>1.000000000    </td></tr>\n",
       "\t<tr><td>ips            </td><td>ENSG00000256060</td><td>19_57930256_T_G</td><td>19_57920134_C_T</td><td> 0.99179757    </td><td>0.983662424    </td></tr>\n",
       "\t<tr><td>ips            </td><td>ENSG00000189114</td><td>19_45664218_A_G</td><td>19_45631730_C_T</td><td> 0.92995563    </td><td>0.864817472    </td></tr>\n",
       "\t<tr><td>ips            </td><td>ENSG00000105193</td><td>19_39917761_G_A</td><td>19_40085507_A_G</td><td> 0.06731963    </td><td>0.004531932    </td></tr>\n",
       "\t<tr><td>ips            </td><td>ENSG00000174652</td><td>19_9546351_G_T </td><td>19_9546351_G_T </td><td> 1.00000000    </td><td>1.000000000    </td></tr>\n",
       "\t<tr><td>ips            </td><td>ENSG00000183617</td><td>19_3761652_G_A </td><td>19_3761652_G_A </td><td> 1.00000000    </td><td>1.000000000    </td></tr>\n",
       "\t<tr><td>ips            </td><td>ENSG00000254004</td><td>19_36941144_T_C</td><td>19_36930521_T_C</td><td> 0.97531673    </td><td>0.951242727    </td></tr>\n",
       "\t<tr><td>mesendo        </td><td>ENSG00000105278</td><td>19_3840157_C_T </td><td>19_3840157_C_T </td><td> 1.00000000    </td><td>1.000000000    </td></tr>\n",
       "\t<tr><td>ips            </td><td>ENSG00000104883</td><td>19_7550060_G_T </td><td>19_7543080_T_A </td><td> 0.95865424    </td><td>0.919017957    </td></tr>\n",
       "\t<tr><td>ips            </td><td>ENSG00000130303</td><td>19_17525029_A_G</td><td>19_17525921_G_A</td><td> 0.96824597    </td><td>0.937500264    </td></tr>\n",
       "\t<tr><td>ips            </td><td>ENSG00000176920</td><td>19_49214274_G_A</td><td>19_49214274_G_A</td><td> 1.00000000    </td><td>1.000000000    </td></tr>\n",
       "\t<tr><td>ips            </td><td>ENSG00000105143</td><td>19_15090314_T_C</td><td>19_15075922_C_T</td><td> 0.93945542    </td><td>0.882576491    </td></tr>\n",
       "\t<tr><td>ips            </td><td>ENSG00000257704</td><td>19_47783866_G_T</td><td>19_47778857_C_G</td><td> 0.98377968    </td><td>0.967822461    </td></tr>\n",
       "\t<tr><td>ips            </td><td>ENSG00000105755</td><td>19_43995146_G_A</td><td>19_43995146_G_A</td><td> 1.00000000    </td><td>1.000000000    </td></tr>\n",
       "\t<tr><td>ips            </td><td>ENSG00000161618</td><td>19_49953191_A_G</td><td>19_49964325_A_G</td><td> 0.98908592    </td><td>0.978290964    </td></tr>\n",
       "\t<tr><td>ips            </td><td>ENSG00000167614</td><td>19_54961762_G_C</td><td>19_55079182_A_G</td><td> 0.16508199    </td><td>0.027252063    </td></tr>\n",
       "\t<tr><td>ips            </td><td>ENSG00000172270</td><td>19_588516_A_G  </td><td>19_607735_A_G  </td><td>-0.24275156    </td><td>0.058928320    </td></tr>\n",
       "\t<tr><td>ips            </td><td>ENSG00000127220</td><td>19_17414126_C_T</td><td>19_17465962_G_A</td><td>-0.35521701    </td><td>0.126179125    </td></tr>\n",
       "\t<tr><td>ips            </td><td>ENSG00000127220</td><td>19_17414126_C_T</td><td>19_17465962_G_A</td><td>-0.35521701    </td><td>0.126179125    </td></tr>\n",
       "\t<tr><td>...</td><td>...</td><td>...</td><td>...</td><td>...</td><td>...</td></tr>\n",
       "\t<tr><td>ips            </td><td>ENSG00000197013</td><td>19_21672022_T_C</td><td>19_21672022_T_C</td><td> 1.000000000   </td><td>1.000000e+00   </td></tr>\n",
       "\t<tr><td>mesendo        </td><td>ENSG00000182013</td><td>19_46946696_G_T</td><td>19_46949662_C_T</td><td>-0.823144477   </td><td>6.775668e-01   </td></tr>\n",
       "\t<tr><td>ips            </td><td>ENSG00000099308</td><td>19_18278766_C_G</td><td>19_18278766_C_G</td><td> 1.000000000   </td><td>1.000000e+00   </td></tr>\n",
       "\t<tr><td>defendo        </td><td>ENSG00000125505</td><td>19_54675097_T_C</td><td>19_54674742_C_T</td><td> 1.000000000   </td><td>1.000000e+00   </td></tr>\n",
       "\t<tr><td>ips            </td><td>ENSG00000105146</td><td>19_57752326_C_G</td><td>19_57752326_C_G</td><td> 1.000000000   </td><td>1.000000e+00   </td></tr>\n",
       "\t<tr><td>defendo        </td><td>ENSG00000152467</td><td>19_58556890_G_T</td><td>19_58556890_G_T</td><td> 1.000000000   </td><td>1.000000e+00   </td></tr>\n",
       "\t<tr><td>ips            </td><td>ENSG00000160439</td><td>19_55573633_G_A</td><td>19_55574468_G_A</td><td> 0.691883802   </td><td>4.787032e-01   </td></tr>\n",
       "\t<tr><td>defendo        </td><td>ENSG00000213023</td><td>19_51130554_C_A</td><td>19_51123160_A_T</td><td> 0.821291910   </td><td>6.745204e-01   </td></tr>\n",
       "\t<tr><td>ips            </td><td>ENSG00000051128</td><td>19_19050957_A_G</td><td>19_19050957_A_G</td><td> 1.000000000   </td><td>1.000000e+00   </td></tr>\n",
       "\t<tr><td>ips            </td><td>ENSG00000105771</td><td>19_44268006_T_C</td><td>19_44260929_C_T</td><td> 0.837101953   </td><td>7.007397e-01   </td></tr>\n",
       "\t<tr><td>mesendo        </td><td>ENSG00000160321</td><td>19_22287970_T_C</td><td>19_22110669_A_G</td><td> 0.845369327   </td><td>7.146493e-01   </td></tr>\n",
       "\t<tr><td>ips            </td><td>ENSG00000011478</td><td>19_46190268_G_A</td><td>19_46203083_G_A</td><td> 0.982452335   </td><td>9.652126e-01   </td></tr>\n",
       "\t<tr><td>ips            </td><td>ENSG00000204920</td><td>19_44488352_G_A</td><td>19_44488352_G_A</td><td> 1.000000000   </td><td>1.000000e+00   </td></tr>\n",
       "\t<tr><td>ips            </td><td>ENSG00000196724</td><td>19_58359644_T_G</td><td>19_58693697_T_C</td><td> 0.217016581   </td><td>4.709620e-02   </td></tr>\n",
       "\t<tr><td>ips            </td><td>ENSG00000129347</td><td>19_10674558_G_A</td><td>19_10674558_G_A</td><td> 1.000000000   </td><td>1.000000e+00   </td></tr>\n",
       "\t<tr><td>ips            </td><td>ENSG00000167646</td><td>19_55693666_G_A</td><td>19_55707681_G_A</td><td>-0.209573820   </td><td>4.392119e-02   </td></tr>\n",
       "\t<tr><td>mesendo        </td><td>ENSG00000142530</td><td>19_50960201_T_C</td><td>19_50753279_C_T</td><td>-0.055792022   </td><td>3.112750e-03   </td></tr>\n",
       "\t<tr><td>ips            </td><td>ENSG00000198346</td><td>19_53978691_G_A</td><td>19_53972542_C_A</td><td> 0.332427719   </td><td>1.105082e-01   </td></tr>\n",
       "\t<tr><td>mesendo        </td><td>ENSG00000130881</td><td>19_33642273_A_C</td><td>19_33863604_C_A</td><td> 0.006064305   </td><td>3.677579e-05   </td></tr>\n",
       "\t<tr><td>defendo        </td><td>ENSG00000161671</td><td>19_50977747_C_T</td><td>19_50925445_C_T</td><td> 0.537990197   </td><td>2.894335e-01   </td></tr>\n",
       "\t<tr><td>mesendo        </td><td>ENSG00000105227</td><td>19_40905872_G_A</td><td>19_40840936_G_T</td><td>-0.047702407   </td><td>2.275520e-03   </td></tr>\n",
       "\t<tr><td>defendo        </td><td>ENSG00000130511</td><td>19_18505741_T_A</td><td>19_18475675_C_A</td><td> 0.367475091   </td><td>1.350379e-01   </td></tr>\n",
       "\t<tr><td>mesendo        </td><td>ENSG00000267041</td><td>19_37260787_A_G</td><td>19_37253764_T_G</td><td>-0.292188899   </td><td>8.537435e-02   </td></tr>\n",
       "\t<tr><td>mesendo        </td><td>ENSG00000213967</td><td>19_24069443_T_C</td><td>19_24147099_A_G</td><td> 0.773098557   </td><td>5.976814e-01   </td></tr>\n",
       "\t<tr><td>defendo        </td><td>ENSG00000105327</td><td>19_47805348_C_G</td><td>19_47882416_T_G</td><td>-0.163617090   </td><td>2.677055e-02   </td></tr>\n",
       "\t<tr><td>mesendo        </td><td>ENSG00000104969</td><td>19_2706469_C_T </td><td>19_2644380_A_G </td><td>-0.769308560   </td><td>5.918357e-01   </td></tr>\n",
       "\t<tr><td>mesendo        </td><td>ENSG00000167554</td><td>19_52789158_G_A</td><td>19_52771977_C_T</td><td>-0.131752833   </td><td>1.735881e-02   </td></tr>\n",
       "\t<tr><td>defendo        </td><td>ENSG00000249115</td><td>19_36015002_A_G</td><td>19_36124359_C_T</td><td> 0.082960467   </td><td>6.882439e-03   </td></tr>\n",
       "\t<tr><td>defendo        </td><td>ENSG00000104880</td><td>19_7475514_G_A </td><td>19_7534135_G_A </td><td> 0.316719962   </td><td>1.003115e-01   </td></tr>\n",
       "\t<tr><td>defendo        </td><td>ENSG00000125731</td><td>19_6723124_A_T </td><td>19_6759370_G_A </td><td> 0.102239762   </td><td>1.045297e-02   </td></tr>\n",
       "</tbody>\n",
       "</table>\n"
      ],
      "text/latex": [
       "\\begin{tabular}{r|llllll}\n",
       " stage & feature\\_id & snp\\_id.old & snp\\_id.new & r & r2\\\\\n",
       "\\hline\n",
       "\t ips                   & ENSG00000233927       & 19\\_8387207\\_G\\_A  & 19\\_8387207\\_G\\_A  &  1.00000000           & 1.000000000          \\\\\n",
       "\t ips                   & ENSG00000076924       & 19\\_7675917\\_C\\_G  & 19\\_7675917\\_C\\_G  &  1.00000000           & 1.000000000          \\\\\n",
       "\t ips                   & ENSG00000186230       & 19\\_57939619\\_C\\_T & 19\\_57939619\\_C\\_T &  1.00000000           & 1.000000000          \\\\\n",
       "\t ips                   & ENSG00000172687       & 19\\_21513408\\_G\\_A & 19\\_21513408\\_G\\_A &  1.00000000           & 1.000000000          \\\\\n",
       "\t ips                   & ENSG00000170892       & 19\\_54695163\\_T\\_C & 19\\_54695163\\_T\\_C &  1.00000000           & 1.000000000          \\\\\n",
       "\t ips                   & ENSG00000141994       & 19\\_5783634\\_T\\_C  & 19\\_5799037\\_C\\_T  &  0.95588461           & 0.913715391          \\\\\n",
       "\t ips                   & ENSG00000104808       & 19\\_49439728\\_C\\_T & 19\\_49439728\\_C\\_T &  1.00000000           & 1.000000000          \\\\\n",
       "\t ips                   & ENSG00000167641       & 19\\_38735804\\_A\\_T & 19\\_38735480\\_G\\_A &  0.83935473           & 0.704516361          \\\\\n",
       "\t mesendo               & ENSG00000170889       & 19\\_54726870\\_C\\_G & 19\\_54726870\\_C\\_G &  1.00000000           & 1.000000000          \\\\\n",
       "\t ips                   & ENSG00000161265       & 19\\_36181046\\_T\\_C & 19\\_36225999\\_T\\_C &  0.71379471           & 0.509502887          \\\\\n",
       "\t ips                   & ENSG00000267323       & 19\\_28298186\\_T\\_C & 19\\_28256350\\_T\\_A & -1.00000000           & 1.000000000          \\\\\n",
       "\t ips                   & ENSG00000169169       & 19\\_50189156\\_G\\_A & 19\\_50189156\\_G\\_A &  1.00000000           & 1.000000000          \\\\\n",
       "\t ips                   & ENSG00000256060       & 19\\_57930256\\_T\\_G & 19\\_57920134\\_C\\_T &  0.99179757           & 0.983662424          \\\\\n",
       "\t ips                   & ENSG00000189114       & 19\\_45664218\\_A\\_G & 19\\_45631730\\_C\\_T &  0.92995563           & 0.864817472          \\\\\n",
       "\t ips                   & ENSG00000105193       & 19\\_39917761\\_G\\_A & 19\\_40085507\\_A\\_G &  0.06731963           & 0.004531932          \\\\\n",
       "\t ips                   & ENSG00000174652       & 19\\_9546351\\_G\\_T  & 19\\_9546351\\_G\\_T  &  1.00000000           & 1.000000000          \\\\\n",
       "\t ips                   & ENSG00000183617       & 19\\_3761652\\_G\\_A  & 19\\_3761652\\_G\\_A  &  1.00000000           & 1.000000000          \\\\\n",
       "\t ips                   & ENSG00000254004       & 19\\_36941144\\_T\\_C & 19\\_36930521\\_T\\_C &  0.97531673           & 0.951242727          \\\\\n",
       "\t mesendo               & ENSG00000105278       & 19\\_3840157\\_C\\_T  & 19\\_3840157\\_C\\_T  &  1.00000000           & 1.000000000          \\\\\n",
       "\t ips                   & ENSG00000104883       & 19\\_7550060\\_G\\_T  & 19\\_7543080\\_T\\_A  &  0.95865424           & 0.919017957          \\\\\n",
       "\t ips                   & ENSG00000130303       & 19\\_17525029\\_A\\_G & 19\\_17525921\\_G\\_A &  0.96824597           & 0.937500264          \\\\\n",
       "\t ips                   & ENSG00000176920       & 19\\_49214274\\_G\\_A & 19\\_49214274\\_G\\_A &  1.00000000           & 1.000000000          \\\\\n",
       "\t ips                   & ENSG00000105143       & 19\\_15090314\\_T\\_C & 19\\_15075922\\_C\\_T &  0.93945542           & 0.882576491          \\\\\n",
       "\t ips                   & ENSG00000257704       & 19\\_47783866\\_G\\_T & 19\\_47778857\\_C\\_G &  0.98377968           & 0.967822461          \\\\\n",
       "\t ips                   & ENSG00000105755       & 19\\_43995146\\_G\\_A & 19\\_43995146\\_G\\_A &  1.00000000           & 1.000000000          \\\\\n",
       "\t ips                   & ENSG00000161618       & 19\\_49953191\\_A\\_G & 19\\_49964325\\_A\\_G &  0.98908592           & 0.978290964          \\\\\n",
       "\t ips                   & ENSG00000167614       & 19\\_54961762\\_G\\_C & 19\\_55079182\\_A\\_G &  0.16508199           & 0.027252063          \\\\\n",
       "\t ips                   & ENSG00000172270       & 19\\_588516\\_A\\_G   & 19\\_607735\\_A\\_G   & -0.24275156           & 0.058928320          \\\\\n",
       "\t ips                   & ENSG00000127220       & 19\\_17414126\\_C\\_T & 19\\_17465962\\_G\\_A & -0.35521701           & 0.126179125          \\\\\n",
       "\t ips                   & ENSG00000127220       & 19\\_17414126\\_C\\_T & 19\\_17465962\\_G\\_A & -0.35521701           & 0.126179125          \\\\\n",
       "\t ... & ... & ... & ... & ... & ...\\\\\n",
       "\t ips                   & ENSG00000197013       & 19\\_21672022\\_T\\_C & 19\\_21672022\\_T\\_C &  1.000000000          & 1.000000e+00         \\\\\n",
       "\t mesendo               & ENSG00000182013       & 19\\_46946696\\_G\\_T & 19\\_46949662\\_C\\_T & -0.823144477          & 6.775668e-01         \\\\\n",
       "\t ips                   & ENSG00000099308       & 19\\_18278766\\_C\\_G & 19\\_18278766\\_C\\_G &  1.000000000          & 1.000000e+00         \\\\\n",
       "\t defendo               & ENSG00000125505       & 19\\_54675097\\_T\\_C & 19\\_54674742\\_C\\_T &  1.000000000          & 1.000000e+00         \\\\\n",
       "\t ips                   & ENSG00000105146       & 19\\_57752326\\_C\\_G & 19\\_57752326\\_C\\_G &  1.000000000          & 1.000000e+00         \\\\\n",
       "\t defendo               & ENSG00000152467       & 19\\_58556890\\_G\\_T & 19\\_58556890\\_G\\_T &  1.000000000          & 1.000000e+00         \\\\\n",
       "\t ips                   & ENSG00000160439       & 19\\_55573633\\_G\\_A & 19\\_55574468\\_G\\_A &  0.691883802          & 4.787032e-01         \\\\\n",
       "\t defendo               & ENSG00000213023       & 19\\_51130554\\_C\\_A & 19\\_51123160\\_A\\_T &  0.821291910          & 6.745204e-01         \\\\\n",
       "\t ips                   & ENSG00000051128       & 19\\_19050957\\_A\\_G & 19\\_19050957\\_A\\_G &  1.000000000          & 1.000000e+00         \\\\\n",
       "\t ips                   & ENSG00000105771       & 19\\_44268006\\_T\\_C & 19\\_44260929\\_C\\_T &  0.837101953          & 7.007397e-01         \\\\\n",
       "\t mesendo               & ENSG00000160321       & 19\\_22287970\\_T\\_C & 19\\_22110669\\_A\\_G &  0.845369327          & 7.146493e-01         \\\\\n",
       "\t ips                   & ENSG00000011478       & 19\\_46190268\\_G\\_A & 19\\_46203083\\_G\\_A &  0.982452335          & 9.652126e-01         \\\\\n",
       "\t ips                   & ENSG00000204920       & 19\\_44488352\\_G\\_A & 19\\_44488352\\_G\\_A &  1.000000000          & 1.000000e+00         \\\\\n",
       "\t ips                   & ENSG00000196724       & 19\\_58359644\\_T\\_G & 19\\_58693697\\_T\\_C &  0.217016581          & 4.709620e-02         \\\\\n",
       "\t ips                   & ENSG00000129347       & 19\\_10674558\\_G\\_A & 19\\_10674558\\_G\\_A &  1.000000000          & 1.000000e+00         \\\\\n",
       "\t ips                   & ENSG00000167646       & 19\\_55693666\\_G\\_A & 19\\_55707681\\_G\\_A & -0.209573820          & 4.392119e-02         \\\\\n",
       "\t mesendo               & ENSG00000142530       & 19\\_50960201\\_T\\_C & 19\\_50753279\\_C\\_T & -0.055792022          & 3.112750e-03         \\\\\n",
       "\t ips                   & ENSG00000198346       & 19\\_53978691\\_G\\_A & 19\\_53972542\\_C\\_A &  0.332427719          & 1.105082e-01         \\\\\n",
       "\t mesendo               & ENSG00000130881       & 19\\_33642273\\_A\\_C & 19\\_33863604\\_C\\_A &  0.006064305          & 3.677579e-05         \\\\\n",
       "\t defendo               & ENSG00000161671       & 19\\_50977747\\_C\\_T & 19\\_50925445\\_C\\_T &  0.537990197          & 2.894335e-01         \\\\\n",
       "\t mesendo               & ENSG00000105227       & 19\\_40905872\\_G\\_A & 19\\_40840936\\_G\\_T & -0.047702407          & 2.275520e-03         \\\\\n",
       "\t defendo               & ENSG00000130511       & 19\\_18505741\\_T\\_A & 19\\_18475675\\_C\\_A &  0.367475091          & 1.350379e-01         \\\\\n",
       "\t mesendo               & ENSG00000267041       & 19\\_37260787\\_A\\_G & 19\\_37253764\\_T\\_G & -0.292188899          & 8.537435e-02         \\\\\n",
       "\t mesendo               & ENSG00000213967       & 19\\_24069443\\_T\\_C & 19\\_24147099\\_A\\_G &  0.773098557          & 5.976814e-01         \\\\\n",
       "\t defendo               & ENSG00000105327       & 19\\_47805348\\_C\\_G & 19\\_47882416\\_T\\_G & -0.163617090          & 2.677055e-02         \\\\\n",
       "\t mesendo               & ENSG00000104969       & 19\\_2706469\\_C\\_T  & 19\\_2644380\\_A\\_G  & -0.769308560          & 5.918357e-01         \\\\\n",
       "\t mesendo               & ENSG00000167554       & 19\\_52789158\\_G\\_A & 19\\_52771977\\_C\\_T & -0.131752833          & 1.735881e-02         \\\\\n",
       "\t defendo               & ENSG00000249115       & 19\\_36015002\\_A\\_G & 19\\_36124359\\_C\\_T &  0.082960467          & 6.882439e-03         \\\\\n",
       "\t defendo               & ENSG00000104880       & 19\\_7475514\\_G\\_A  & 19\\_7534135\\_G\\_A  &  0.316719962          & 1.003115e-01         \\\\\n",
       "\t defendo               & ENSG00000125731       & 19\\_6723124\\_A\\_T  & 19\\_6759370\\_G\\_A  &  0.102239762          & 1.045297e-02         \\\\\n",
       "\\end{tabular}\n"
      ],
      "text/markdown": [
       "\n",
       "| stage | feature_id | snp_id.old | snp_id.new | r | r2 |\n",
       "|---|---|---|---|---|---|\n",
       "| ips             | ENSG00000233927 | 19_8387207_G_A  | 19_8387207_G_A  |  1.00000000     | 1.000000000     |\n",
       "| ips             | ENSG00000076924 | 19_7675917_C_G  | 19_7675917_C_G  |  1.00000000     | 1.000000000     |\n",
       "| ips             | ENSG00000186230 | 19_57939619_C_T | 19_57939619_C_T |  1.00000000     | 1.000000000     |\n",
       "| ips             | ENSG00000172687 | 19_21513408_G_A | 19_21513408_G_A |  1.00000000     | 1.000000000     |\n",
       "| ips             | ENSG00000170892 | 19_54695163_T_C | 19_54695163_T_C |  1.00000000     | 1.000000000     |\n",
       "| ips             | ENSG00000141994 | 19_5783634_T_C  | 19_5799037_C_T  |  0.95588461     | 0.913715391     |\n",
       "| ips             | ENSG00000104808 | 19_49439728_C_T | 19_49439728_C_T |  1.00000000     | 1.000000000     |\n",
       "| ips             | ENSG00000167641 | 19_38735804_A_T | 19_38735480_G_A |  0.83935473     | 0.704516361     |\n",
       "| mesendo         | ENSG00000170889 | 19_54726870_C_G | 19_54726870_C_G |  1.00000000     | 1.000000000     |\n",
       "| ips             | ENSG00000161265 | 19_36181046_T_C | 19_36225999_T_C |  0.71379471     | 0.509502887     |\n",
       "| ips             | ENSG00000267323 | 19_28298186_T_C | 19_28256350_T_A | -1.00000000     | 1.000000000     |\n",
       "| ips             | ENSG00000169169 | 19_50189156_G_A | 19_50189156_G_A |  1.00000000     | 1.000000000     |\n",
       "| ips             | ENSG00000256060 | 19_57930256_T_G | 19_57920134_C_T |  0.99179757     | 0.983662424     |\n",
       "| ips             | ENSG00000189114 | 19_45664218_A_G | 19_45631730_C_T |  0.92995563     | 0.864817472     |\n",
       "| ips             | ENSG00000105193 | 19_39917761_G_A | 19_40085507_A_G |  0.06731963     | 0.004531932     |\n",
       "| ips             | ENSG00000174652 | 19_9546351_G_T  | 19_9546351_G_T  |  1.00000000     | 1.000000000     |\n",
       "| ips             | ENSG00000183617 | 19_3761652_G_A  | 19_3761652_G_A  |  1.00000000     | 1.000000000     |\n",
       "| ips             | ENSG00000254004 | 19_36941144_T_C | 19_36930521_T_C |  0.97531673     | 0.951242727     |\n",
       "| mesendo         | ENSG00000105278 | 19_3840157_C_T  | 19_3840157_C_T  |  1.00000000     | 1.000000000     |\n",
       "| ips             | ENSG00000104883 | 19_7550060_G_T  | 19_7543080_T_A  |  0.95865424     | 0.919017957     |\n",
       "| ips             | ENSG00000130303 | 19_17525029_A_G | 19_17525921_G_A |  0.96824597     | 0.937500264     |\n",
       "| ips             | ENSG00000176920 | 19_49214274_G_A | 19_49214274_G_A |  1.00000000     | 1.000000000     |\n",
       "| ips             | ENSG00000105143 | 19_15090314_T_C | 19_15075922_C_T |  0.93945542     | 0.882576491     |\n",
       "| ips             | ENSG00000257704 | 19_47783866_G_T | 19_47778857_C_G |  0.98377968     | 0.967822461     |\n",
       "| ips             | ENSG00000105755 | 19_43995146_G_A | 19_43995146_G_A |  1.00000000     | 1.000000000     |\n",
       "| ips             | ENSG00000161618 | 19_49953191_A_G | 19_49964325_A_G |  0.98908592     | 0.978290964     |\n",
       "| ips             | ENSG00000167614 | 19_54961762_G_C | 19_55079182_A_G |  0.16508199     | 0.027252063     |\n",
       "| ips             | ENSG00000172270 | 19_588516_A_G   | 19_607735_A_G   | -0.24275156     | 0.058928320     |\n",
       "| ips             | ENSG00000127220 | 19_17414126_C_T | 19_17465962_G_A | -0.35521701     | 0.126179125     |\n",
       "| ips             | ENSG00000127220 | 19_17414126_C_T | 19_17465962_G_A | -0.35521701     | 0.126179125     |\n",
       "| ... | ... | ... | ... | ... | ... |\n",
       "| ips             | ENSG00000197013 | 19_21672022_T_C | 19_21672022_T_C |  1.000000000    | 1.000000e+00    |\n",
       "| mesendo         | ENSG00000182013 | 19_46946696_G_T | 19_46949662_C_T | -0.823144477    | 6.775668e-01    |\n",
       "| ips             | ENSG00000099308 | 19_18278766_C_G | 19_18278766_C_G |  1.000000000    | 1.000000e+00    |\n",
       "| defendo         | ENSG00000125505 | 19_54675097_T_C | 19_54674742_C_T |  1.000000000    | 1.000000e+00    |\n",
       "| ips             | ENSG00000105146 | 19_57752326_C_G | 19_57752326_C_G |  1.000000000    | 1.000000e+00    |\n",
       "| defendo         | ENSG00000152467 | 19_58556890_G_T | 19_58556890_G_T |  1.000000000    | 1.000000e+00    |\n",
       "| ips             | ENSG00000160439 | 19_55573633_G_A | 19_55574468_G_A |  0.691883802    | 4.787032e-01    |\n",
       "| defendo         | ENSG00000213023 | 19_51130554_C_A | 19_51123160_A_T |  0.821291910    | 6.745204e-01    |\n",
       "| ips             | ENSG00000051128 | 19_19050957_A_G | 19_19050957_A_G |  1.000000000    | 1.000000e+00    |\n",
       "| ips             | ENSG00000105771 | 19_44268006_T_C | 19_44260929_C_T |  0.837101953    | 7.007397e-01    |\n",
       "| mesendo         | ENSG00000160321 | 19_22287970_T_C | 19_22110669_A_G |  0.845369327    | 7.146493e-01    |\n",
       "| ips             | ENSG00000011478 | 19_46190268_G_A | 19_46203083_G_A |  0.982452335    | 9.652126e-01    |\n",
       "| ips             | ENSG00000204920 | 19_44488352_G_A | 19_44488352_G_A |  1.000000000    | 1.000000e+00    |\n",
       "| ips             | ENSG00000196724 | 19_58359644_T_G | 19_58693697_T_C |  0.217016581    | 4.709620e-02    |\n",
       "| ips             | ENSG00000129347 | 19_10674558_G_A | 19_10674558_G_A |  1.000000000    | 1.000000e+00    |\n",
       "| ips             | ENSG00000167646 | 19_55693666_G_A | 19_55707681_G_A | -0.209573820    | 4.392119e-02    |\n",
       "| mesendo         | ENSG00000142530 | 19_50960201_T_C | 19_50753279_C_T | -0.055792022    | 3.112750e-03    |\n",
       "| ips             | ENSG00000198346 | 19_53978691_G_A | 19_53972542_C_A |  0.332427719    | 1.105082e-01    |\n",
       "| mesendo         | ENSG00000130881 | 19_33642273_A_C | 19_33863604_C_A |  0.006064305    | 3.677579e-05    |\n",
       "| defendo         | ENSG00000161671 | 19_50977747_C_T | 19_50925445_C_T |  0.537990197    | 2.894335e-01    |\n",
       "| mesendo         | ENSG00000105227 | 19_40905872_G_A | 19_40840936_G_T | -0.047702407    | 2.275520e-03    |\n",
       "| defendo         | ENSG00000130511 | 19_18505741_T_A | 19_18475675_C_A |  0.367475091    | 1.350379e-01    |\n",
       "| mesendo         | ENSG00000267041 | 19_37260787_A_G | 19_37253764_T_G | -0.292188899    | 8.537435e-02    |\n",
       "| mesendo         | ENSG00000213967 | 19_24069443_T_C | 19_24147099_A_G |  0.773098557    | 5.976814e-01    |\n",
       "| defendo         | ENSG00000105327 | 19_47805348_C_G | 19_47882416_T_G | -0.163617090    | 2.677055e-02    |\n",
       "| mesendo         | ENSG00000104969 | 19_2706469_C_T  | 19_2644380_A_G  | -0.769308560    | 5.918357e-01    |\n",
       "| mesendo         | ENSG00000167554 | 19_52789158_G_A | 19_52771977_C_T | -0.131752833    | 1.735881e-02    |\n",
       "| defendo         | ENSG00000249115 | 19_36015002_A_G | 19_36124359_C_T |  0.082960467    | 6.882439e-03    |\n",
       "| defendo         | ENSG00000104880 | 19_7475514_G_A  | 19_7534135_G_A  |  0.316719962    | 1.003115e-01    |\n",
       "| defendo         | ENSG00000125731 | 19_6723124_A_T  | 19_6759370_G_A  |  0.102239762    | 1.045297e-02    |\n",
       "\n"
      ],
      "text/plain": [
       "    stage   feature_id      snp_id.old      snp_id.new      r           \n",
       "1   ips     ENSG00000233927 19_8387207_G_A  19_8387207_G_A   1.00000000 \n",
       "2   ips     ENSG00000076924 19_7675917_C_G  19_7675917_C_G   1.00000000 \n",
       "3   ips     ENSG00000186230 19_57939619_C_T 19_57939619_C_T  1.00000000 \n",
       "4   ips     ENSG00000172687 19_21513408_G_A 19_21513408_G_A  1.00000000 \n",
       "5   ips     ENSG00000170892 19_54695163_T_C 19_54695163_T_C  1.00000000 \n",
       "6   ips     ENSG00000141994 19_5783634_T_C  19_5799037_C_T   0.95588461 \n",
       "7   ips     ENSG00000104808 19_49439728_C_T 19_49439728_C_T  1.00000000 \n",
       "8   ips     ENSG00000167641 19_38735804_A_T 19_38735480_G_A  0.83935473 \n",
       "9   mesendo ENSG00000170889 19_54726870_C_G 19_54726870_C_G  1.00000000 \n",
       "10  ips     ENSG00000161265 19_36181046_T_C 19_36225999_T_C  0.71379471 \n",
       "11  ips     ENSG00000267323 19_28298186_T_C 19_28256350_T_A -1.00000000 \n",
       "12  ips     ENSG00000169169 19_50189156_G_A 19_50189156_G_A  1.00000000 \n",
       "13  ips     ENSG00000256060 19_57930256_T_G 19_57920134_C_T  0.99179757 \n",
       "14  ips     ENSG00000189114 19_45664218_A_G 19_45631730_C_T  0.92995563 \n",
       "15  ips     ENSG00000105193 19_39917761_G_A 19_40085507_A_G  0.06731963 \n",
       "16  ips     ENSG00000174652 19_9546351_G_T  19_9546351_G_T   1.00000000 \n",
       "17  ips     ENSG00000183617 19_3761652_G_A  19_3761652_G_A   1.00000000 \n",
       "18  ips     ENSG00000254004 19_36941144_T_C 19_36930521_T_C  0.97531673 \n",
       "19  mesendo ENSG00000105278 19_3840157_C_T  19_3840157_C_T   1.00000000 \n",
       "20  ips     ENSG00000104883 19_7550060_G_T  19_7543080_T_A   0.95865424 \n",
       "21  ips     ENSG00000130303 19_17525029_A_G 19_17525921_G_A  0.96824597 \n",
       "22  ips     ENSG00000176920 19_49214274_G_A 19_49214274_G_A  1.00000000 \n",
       "23  ips     ENSG00000105143 19_15090314_T_C 19_15075922_C_T  0.93945542 \n",
       "24  ips     ENSG00000257704 19_47783866_G_T 19_47778857_C_G  0.98377968 \n",
       "25  ips     ENSG00000105755 19_43995146_G_A 19_43995146_G_A  1.00000000 \n",
       "26  ips     ENSG00000161618 19_49953191_A_G 19_49964325_A_G  0.98908592 \n",
       "27  ips     ENSG00000167614 19_54961762_G_C 19_55079182_A_G  0.16508199 \n",
       "28  ips     ENSG00000172270 19_588516_A_G   19_607735_A_G   -0.24275156 \n",
       "29  ips     ENSG00000127220 19_17414126_C_T 19_17465962_G_A -0.35521701 \n",
       "30  ips     ENSG00000127220 19_17414126_C_T 19_17465962_G_A -0.35521701 \n",
       "... ...     ...             ...             ...             ...         \n",
       "39  ips     ENSG00000197013 19_21672022_T_C 19_21672022_T_C  1.000000000\n",
       "40  mesendo ENSG00000182013 19_46946696_G_T 19_46949662_C_T -0.823144477\n",
       "41  ips     ENSG00000099308 19_18278766_C_G 19_18278766_C_G  1.000000000\n",
       "42  defendo ENSG00000125505 19_54675097_T_C 19_54674742_C_T  1.000000000\n",
       "43  ips     ENSG00000105146 19_57752326_C_G 19_57752326_C_G  1.000000000\n",
       "44  defendo ENSG00000152467 19_58556890_G_T 19_58556890_G_T  1.000000000\n",
       "45  ips     ENSG00000160439 19_55573633_G_A 19_55574468_G_A  0.691883802\n",
       "46  defendo ENSG00000213023 19_51130554_C_A 19_51123160_A_T  0.821291910\n",
       "47  ips     ENSG00000051128 19_19050957_A_G 19_19050957_A_G  1.000000000\n",
       "48  ips     ENSG00000105771 19_44268006_T_C 19_44260929_C_T  0.837101953\n",
       "49  mesendo ENSG00000160321 19_22287970_T_C 19_22110669_A_G  0.845369327\n",
       "50  ips     ENSG00000011478 19_46190268_G_A 19_46203083_G_A  0.982452335\n",
       "51  ips     ENSG00000204920 19_44488352_G_A 19_44488352_G_A  1.000000000\n",
       "52  ips     ENSG00000196724 19_58359644_T_G 19_58693697_T_C  0.217016581\n",
       "53  ips     ENSG00000129347 19_10674558_G_A 19_10674558_G_A  1.000000000\n",
       "54  ips     ENSG00000167646 19_55693666_G_A 19_55707681_G_A -0.209573820\n",
       "55  mesendo ENSG00000142530 19_50960201_T_C 19_50753279_C_T -0.055792022\n",
       "56  ips     ENSG00000198346 19_53978691_G_A 19_53972542_C_A  0.332427719\n",
       "57  mesendo ENSG00000130881 19_33642273_A_C 19_33863604_C_A  0.006064305\n",
       "58  defendo ENSG00000161671 19_50977747_C_T 19_50925445_C_T  0.537990197\n",
       "59  mesendo ENSG00000105227 19_40905872_G_A 19_40840936_G_T -0.047702407\n",
       "60  defendo ENSG00000130511 19_18505741_T_A 19_18475675_C_A  0.367475091\n",
       "61  mesendo ENSG00000267041 19_37260787_A_G 19_37253764_T_G -0.292188899\n",
       "62  mesendo ENSG00000213967 19_24069443_T_C 19_24147099_A_G  0.773098557\n",
       "63  defendo ENSG00000105327 19_47805348_C_G 19_47882416_T_G -0.163617090\n",
       "64  mesendo ENSG00000104969 19_2706469_C_T  19_2644380_A_G  -0.769308560\n",
       "65  mesendo ENSG00000167554 19_52789158_G_A 19_52771977_C_T -0.131752833\n",
       "66  defendo ENSG00000249115 19_36015002_A_G 19_36124359_C_T  0.082960467\n",
       "67  defendo ENSG00000104880 19_7475514_G_A  19_7534135_G_A   0.316719962\n",
       "68  defendo ENSG00000125731 19_6723124_A_T  19_6759370_G_A   0.102239762\n",
       "    r2          \n",
       "1   1.000000000 \n",
       "2   1.000000000 \n",
       "3   1.000000000 \n",
       "4   1.000000000 \n",
       "5   1.000000000 \n",
       "6   0.913715391 \n",
       "7   1.000000000 \n",
       "8   0.704516361 \n",
       "9   1.000000000 \n",
       "10  0.509502887 \n",
       "11  1.000000000 \n",
       "12  1.000000000 \n",
       "13  0.983662424 \n",
       "14  0.864817472 \n",
       "15  0.004531932 \n",
       "16  1.000000000 \n",
       "17  1.000000000 \n",
       "18  0.951242727 \n",
       "19  1.000000000 \n",
       "20  0.919017957 \n",
       "21  0.937500264 \n",
       "22  1.000000000 \n",
       "23  0.882576491 \n",
       "24  0.967822461 \n",
       "25  1.000000000 \n",
       "26  0.978290964 \n",
       "27  0.027252063 \n",
       "28  0.058928320 \n",
       "29  0.126179125 \n",
       "30  0.126179125 \n",
       "... ...         \n",
       "39  1.000000e+00\n",
       "40  6.775668e-01\n",
       "41  1.000000e+00\n",
       "42  1.000000e+00\n",
       "43  1.000000e+00\n",
       "44  1.000000e+00\n",
       "45  4.787032e-01\n",
       "46  6.745204e-01\n",
       "47  1.000000e+00\n",
       "48  7.007397e-01\n",
       "49  7.146493e-01\n",
       "50  9.652126e-01\n",
       "51  1.000000e+00\n",
       "52  4.709620e-02\n",
       "53  1.000000e+00\n",
       "54  4.392119e-02\n",
       "55  3.112750e-03\n",
       "56  1.105082e-01\n",
       "57  3.677579e-05\n",
       "58  2.894335e-01\n",
       "59  2.275520e-03\n",
       "60  1.350379e-01\n",
       "61  8.537435e-02\n",
       "62  5.976814e-01\n",
       "63  2.677055e-02\n",
       "64  5.918357e-01\n",
       "65  1.735881e-02\n",
       "66  6.882439e-03\n",
       "67  1.003115e-01\n",
       "68  1.045297e-02"
      ]
     },
     "metadata": {},
     "output_type": "display_data"
    }
   ],
   "source": [
    "df"
   ]
  },
  {
   "cell_type": "code",
   "execution_count": 266,
   "id": "923fa16e",
   "metadata": {},
   "outputs": [
    {
     "data": {
      "text/html": [
       "68"
      ],
      "text/latex": [
       "68"
      ],
      "text/markdown": [
       "68"
      ],
      "text/plain": [
       "[1] 68"
      ]
     },
     "metadata": {},
     "output_type": "display_data"
    },
    {
     "data": {
      "text/html": [
       "<ol class=list-inline>\n",
       "\t<li>33</li>\n",
       "\t<li>0.485294117647059</li>\n",
       "</ol>\n"
      ],
      "text/latex": [
       "\\begin{enumerate*}\n",
       "\\item 33\n",
       "\\item 0.485294117647059\n",
       "\\end{enumerate*}\n"
      ],
      "text/markdown": [
       "1. 33\n",
       "2. 0.485294117647059\n",
       "\n",
       "\n"
      ],
      "text/plain": [
       "[1] 33.0000000  0.4852941"
      ]
     },
     "metadata": {},
     "output_type": "display_data"
    }
   ],
   "source": [
    "T = 0.9\n",
    "nrow(df)\n",
    "c(nrow(df[df$r2>T,]), nrow(df[df$r2>T,])/nrow(df))"
   ]
  },
  {
   "cell_type": "code",
   "execution_count": 24,
   "id": "6c631429",
   "metadata": {},
   "outputs": [],
   "source": [
    "S1 = unlist(strsplit(as.character(df$snp_id.old),\"_\"))\n",
    "snps = c()\n",
    "for (i in seq(2,(length(S1)-1),4)){\n",
    "   snps = c(snps,S1[i]) \n",
    "}\n",
    "df$snp1 = paste0(\"chr19:\",snps)"
   ]
  },
  {
   "cell_type": "code",
   "execution_count": 25,
   "id": "bfd23b5d",
   "metadata": {},
   "outputs": [],
   "source": [
    "S2 = unlist(strsplit(as.character(df$snp_id.new),\"_\"))\n",
    "snps = c()\n",
    "for (i in seq(2,(length(S2)-1),4)){\n",
    "   snps = c(snps,S2[i]) \n",
    "}\n",
    "df$snp2 = paste0(\"chr19:\",snps)"
   ]
  },
  {
   "cell_type": "code",
   "execution_count": 26,
   "id": "6801fa34",
   "metadata": {},
   "outputs": [
    {
     "data": {
      "text/html": [
       "<table>\n",
       "<thead><tr><th scope=col>stage</th><th scope=col>feature_id</th><th scope=col>snp_id.old</th><th scope=col>snp_id.new</th><th scope=col>snp1</th><th scope=col>snp2</th></tr></thead>\n",
       "<tbody>\n",
       "\t<tr><td>ips            </td><td>ENSG00000233927</td><td>19_8387207_G_A </td><td>19_8387207_G_A </td><td>chr19:8387207  </td><td>chr19:8387207  </td></tr>\n",
       "\t<tr><td>ips            </td><td>ENSG00000076924</td><td>19_7675917_C_G </td><td>19_7675917_C_G </td><td>chr19:7675917  </td><td>chr19:7675917  </td></tr>\n",
       "\t<tr><td>ips            </td><td>ENSG00000186230</td><td>19_57939619_C_T</td><td>19_57939619_C_T</td><td>chr19:57939619 </td><td>chr19:57939619 </td></tr>\n",
       "\t<tr><td>ips            </td><td>ENSG00000172687</td><td>19_21513408_G_A</td><td>19_21513408_G_A</td><td>chr19:21513408 </td><td>chr19:21513408 </td></tr>\n",
       "\t<tr><td>ips            </td><td>ENSG00000170892</td><td>19_54695163_T_C</td><td>19_54695163_T_C</td><td>chr19:54695163 </td><td>chr19:54695163 </td></tr>\n",
       "\t<tr><td>ips            </td><td>ENSG00000141994</td><td>19_5783634_T_C </td><td>19_5799037_C_T </td><td>chr19:5783634  </td><td>chr19:5799037  </td></tr>\n",
       "</tbody>\n",
       "</table>\n"
      ],
      "text/latex": [
       "\\begin{tabular}{r|llllll}\n",
       " stage & feature\\_id & snp\\_id.old & snp\\_id.new & snp1 & snp2\\\\\n",
       "\\hline\n",
       "\t ips                   & ENSG00000233927       & 19\\_8387207\\_G\\_A  & 19\\_8387207\\_G\\_A  & chr19:8387207         & chr19:8387207        \\\\\n",
       "\t ips                   & ENSG00000076924       & 19\\_7675917\\_C\\_G  & 19\\_7675917\\_C\\_G  & chr19:7675917         & chr19:7675917        \\\\\n",
       "\t ips                   & ENSG00000186230       & 19\\_57939619\\_C\\_T & 19\\_57939619\\_C\\_T & chr19:57939619        & chr19:57939619       \\\\\n",
       "\t ips                   & ENSG00000172687       & 19\\_21513408\\_G\\_A & 19\\_21513408\\_G\\_A & chr19:21513408        & chr19:21513408       \\\\\n",
       "\t ips                   & ENSG00000170892       & 19\\_54695163\\_T\\_C & 19\\_54695163\\_T\\_C & chr19:54695163        & chr19:54695163       \\\\\n",
       "\t ips                   & ENSG00000141994       & 19\\_5783634\\_T\\_C  & 19\\_5799037\\_C\\_T  & chr19:5783634         & chr19:5799037        \\\\\n",
       "\\end{tabular}\n"
      ],
      "text/markdown": [
       "\n",
       "| stage | feature_id | snp_id.old | snp_id.new | snp1 | snp2 |\n",
       "|---|---|---|---|---|---|\n",
       "| ips             | ENSG00000233927 | 19_8387207_G_A  | 19_8387207_G_A  | chr19:8387207   | chr19:8387207   |\n",
       "| ips             | ENSG00000076924 | 19_7675917_C_G  | 19_7675917_C_G  | chr19:7675917   | chr19:7675917   |\n",
       "| ips             | ENSG00000186230 | 19_57939619_C_T | 19_57939619_C_T | chr19:57939619  | chr19:57939619  |\n",
       "| ips             | ENSG00000172687 | 19_21513408_G_A | 19_21513408_G_A | chr19:21513408  | chr19:21513408  |\n",
       "| ips             | ENSG00000170892 | 19_54695163_T_C | 19_54695163_T_C | chr19:54695163  | chr19:54695163  |\n",
       "| ips             | ENSG00000141994 | 19_5783634_T_C  | 19_5799037_C_T  | chr19:5783634   | chr19:5799037   |\n",
       "\n"
      ],
      "text/plain": [
       "  stage feature_id      snp_id.old      snp_id.new      snp1          \n",
       "1 ips   ENSG00000233927 19_8387207_G_A  19_8387207_G_A  chr19:8387207 \n",
       "2 ips   ENSG00000076924 19_7675917_C_G  19_7675917_C_G  chr19:7675917 \n",
       "3 ips   ENSG00000186230 19_57939619_C_T 19_57939619_C_T chr19:57939619\n",
       "4 ips   ENSG00000172687 19_21513408_G_A 19_21513408_G_A chr19:21513408\n",
       "5 ips   ENSG00000170892 19_54695163_T_C 19_54695163_T_C chr19:54695163\n",
       "6 ips   ENSG00000141994 19_5783634_T_C  19_5799037_C_T  chr19:5783634 \n",
       "  snp2          \n",
       "1 chr19:8387207 \n",
       "2 chr19:7675917 \n",
       "3 chr19:57939619\n",
       "4 chr19:21513408\n",
       "5 chr19:54695163\n",
       "6 chr19:5799037 "
      ]
     },
     "metadata": {},
     "output_type": "display_data"
    }
   ],
   "source": [
    "head(df)"
   ]
  },
  {
   "cell_type": "code",
   "execution_count": 27,
   "id": "38d4a63c",
   "metadata": {},
   "outputs": [
    {
     "data": {
      "text/html": [
       "112"
      ],
      "text/latex": [
       "112"
      ],
      "text/markdown": [
       "112"
      ],
      "text/plain": [
       "[1] 112"
      ]
     },
     "metadata": {},
     "output_type": "display_data"
    }
   ],
   "source": [
    "nrow(df)"
   ]
  },
  {
   "cell_type": "code",
   "execution_count": 32,
   "id": "de004b59",
   "metadata": {
    "scrolled": true
   },
   "outputs": [
    {
     "name": "stdout",
     "output_type": "stream",
     "text": [
      "[1] 1\n"
     ]
    },
    {
     "name": "stderr",
     "output_type": "stream",
     "text": [
      "\n",
      "LDlink server is working...\n",
      "\n"
     ]
    },
    {
     "name": "stdout",
     "output_type": "stream",
     "text": [
      "[1] 2\n"
     ]
    },
    {
     "name": "stderr",
     "output_type": "stream",
     "text": [
      "\n",
      "LDlink server is working...\n",
      "\n"
     ]
    },
    {
     "name": "stdout",
     "output_type": "stream",
     "text": [
      "[1] 3\n"
     ]
    },
    {
     "name": "stderr",
     "output_type": "stream",
     "text": [
      "\n",
      "LDlink server is working...\n",
      "\n"
     ]
    },
    {
     "name": "stdout",
     "output_type": "stream",
     "text": [
      "[1] 4\n"
     ]
    },
    {
     "name": "stderr",
     "output_type": "stream",
     "text": [
      "\n",
      "LDlink server is working...\n",
      "\n"
     ]
    },
    {
     "name": "stdout",
     "output_type": "stream",
     "text": [
      "[1] 5\n"
     ]
    },
    {
     "name": "stderr",
     "output_type": "stream",
     "text": [
      "\n",
      "LDlink server is working...\n",
      "\n"
     ]
    },
    {
     "name": "stdout",
     "output_type": "stream",
     "text": [
      "[1] 6\n"
     ]
    },
    {
     "name": "stderr",
     "output_type": "stream",
     "text": [
      "\n",
      "LDlink server is working...\n",
      "\n"
     ]
    },
    {
     "name": "stdout",
     "output_type": "stream",
     "text": [
      "[1] 7\n"
     ]
    },
    {
     "name": "stderr",
     "output_type": "stream",
     "text": [
      "\n",
      "LDlink server is working...\n",
      "\n"
     ]
    },
    {
     "name": "stdout",
     "output_type": "stream",
     "text": [
      "[1] 8\n"
     ]
    },
    {
     "name": "stderr",
     "output_type": "stream",
     "text": [
      "\n",
      "LDlink server is working...\n",
      "\n"
     ]
    },
    {
     "name": "stdout",
     "output_type": "stream",
     "text": [
      "[1] 10\n"
     ]
    },
    {
     "name": "stderr",
     "output_type": "stream",
     "text": [
      "\n",
      "LDlink server is working...\n",
      "\n"
     ]
    },
    {
     "name": "stdout",
     "output_type": "stream",
     "text": [
      "[1] 11\n"
     ]
    },
    {
     "name": "stderr",
     "output_type": "stream",
     "text": [
      "\n",
      "LDlink server is working...\n",
      "\n"
     ]
    },
    {
     "name": "stdout",
     "output_type": "stream",
     "text": [
      "[1] 12\n"
     ]
    },
    {
     "name": "stderr",
     "output_type": "stream",
     "text": [
      "\n",
      "LDlink server is working...\n",
      "\n"
     ]
    },
    {
     "name": "stdout",
     "output_type": "stream",
     "text": [
      "[1] 13\n"
     ]
    },
    {
     "name": "stderr",
     "output_type": "stream",
     "text": [
      "\n",
      "LDlink server is working...\n",
      "\n"
     ]
    },
    {
     "name": "stdout",
     "output_type": "stream",
     "text": [
      "[1] 14\n"
     ]
    },
    {
     "name": "stderr",
     "output_type": "stream",
     "text": [
      "\n",
      "LDlink server is working...\n",
      "\n"
     ]
    },
    {
     "name": "stdout",
     "output_type": "stream",
     "text": [
      "[1] 15\n"
     ]
    },
    {
     "name": "stderr",
     "output_type": "stream",
     "text": [
      "\n",
      "LDlink server is working...\n",
      "\n"
     ]
    },
    {
     "name": "stdout",
     "output_type": "stream",
     "text": [
      "[1] 16\n"
     ]
    },
    {
     "name": "stderr",
     "output_type": "stream",
     "text": [
      "\n",
      "LDlink server is working...\n",
      "\n"
     ]
    },
    {
     "name": "stdout",
     "output_type": "stream",
     "text": [
      "[1] 17\n"
     ]
    },
    {
     "name": "stderr",
     "output_type": "stream",
     "text": [
      "\n",
      "LDlink server is working...\n",
      "\n"
     ]
    },
    {
     "name": "stdout",
     "output_type": "stream",
     "text": [
      "[1] 18\n"
     ]
    },
    {
     "name": "stderr",
     "output_type": "stream",
     "text": [
      "\n",
      "LDlink server is working...\n",
      "\n"
     ]
    },
    {
     "name": "stdout",
     "output_type": "stream",
     "text": [
      "[1] 19\n"
     ]
    },
    {
     "name": "stderr",
     "output_type": "stream",
     "text": [
      "\n",
      "LDlink server is working...\n",
      "\n"
     ]
    },
    {
     "name": "stdout",
     "output_type": "stream",
     "text": [
      "[1] 20\n"
     ]
    },
    {
     "name": "stderr",
     "output_type": "stream",
     "text": [
      "\n",
      "LDlink server is working...\n",
      "\n"
     ]
    },
    {
     "name": "stdout",
     "output_type": "stream",
     "text": [
      "[1] 21\n"
     ]
    },
    {
     "name": "stderr",
     "output_type": "stream",
     "text": [
      "\n",
      "LDlink server is working...\n",
      "\n"
     ]
    },
    {
     "name": "stdout",
     "output_type": "stream",
     "text": [
      "[1] 22\n"
     ]
    },
    {
     "name": "stderr",
     "output_type": "stream",
     "text": [
      "\n",
      "LDlink server is working...\n",
      "\n"
     ]
    },
    {
     "name": "stdout",
     "output_type": "stream",
     "text": [
      "[1] 23\n"
     ]
    },
    {
     "name": "stderr",
     "output_type": "stream",
     "text": [
      "\n",
      "LDlink server is working...\n",
      "\n"
     ]
    },
    {
     "name": "stdout",
     "output_type": "stream",
     "text": [
      "[1] 24\n"
     ]
    },
    {
     "name": "stderr",
     "output_type": "stream",
     "text": [
      "\n",
      "LDlink server is working...\n",
      "\n"
     ]
    },
    {
     "name": "stdout",
     "output_type": "stream",
     "text": [
      "[1] 25\n"
     ]
    },
    {
     "name": "stderr",
     "output_type": "stream",
     "text": [
      "\n",
      "LDlink server is working...\n",
      "\n"
     ]
    },
    {
     "name": "stdout",
     "output_type": "stream",
     "text": [
      "[1] 26\n"
     ]
    },
    {
     "name": "stderr",
     "output_type": "stream",
     "text": [
      "\n",
      "LDlink server is working...\n",
      "\n"
     ]
    },
    {
     "name": "stdout",
     "output_type": "stream",
     "text": [
      "[1] 28\n"
     ]
    },
    {
     "name": "stderr",
     "output_type": "stream",
     "text": [
      "\n",
      "LDlink server is working...\n",
      "\n"
     ]
    },
    {
     "name": "stdout",
     "output_type": "stream",
     "text": [
      "[1] 29\n"
     ]
    },
    {
     "name": "stderr",
     "output_type": "stream",
     "text": [
      "\n",
      "LDlink server is working...\n",
      "\n"
     ]
    },
    {
     "name": "stdout",
     "output_type": "stream",
     "text": [
      "[1] 30\n"
     ]
    },
    {
     "name": "stderr",
     "output_type": "stream",
     "text": [
      "\n",
      "LDlink server is working...\n",
      "\n"
     ]
    },
    {
     "name": "stdout",
     "output_type": "stream",
     "text": [
      "[1] 31\n"
     ]
    },
    {
     "name": "stderr",
     "output_type": "stream",
     "text": [
      "\n",
      "LDlink server is working...\n",
      "\n"
     ]
    },
    {
     "name": "stdout",
     "output_type": "stream",
     "text": [
      "[1] 32\n"
     ]
    },
    {
     "name": "stderr",
     "output_type": "stream",
     "text": [
      "\n",
      "LDlink server is working...\n",
      "\n"
     ]
    },
    {
     "name": "stdout",
     "output_type": "stream",
     "text": [
      "[1] 33\n"
     ]
    },
    {
     "name": "stderr",
     "output_type": "stream",
     "text": [
      "\n",
      "LDlink server is working...\n",
      "\n"
     ]
    },
    {
     "name": "stdout",
     "output_type": "stream",
     "text": [
      "[1] 34\n"
     ]
    },
    {
     "name": "stderr",
     "output_type": "stream",
     "text": [
      "\n",
      "LDlink server is working...\n",
      "\n"
     ]
    },
    {
     "name": "stdout",
     "output_type": "stream",
     "text": [
      "[1] 35\n"
     ]
    },
    {
     "name": "stderr",
     "output_type": "stream",
     "text": [
      "\n",
      "LDlink server is working...\n",
      "\n"
     ]
    },
    {
     "name": "stdout",
     "output_type": "stream",
     "text": [
      "[1] 36\n"
     ]
    },
    {
     "name": "stderr",
     "output_type": "stream",
     "text": [
      "\n",
      "LDlink server is working...\n",
      "\n"
     ]
    },
    {
     "name": "stdout",
     "output_type": "stream",
     "text": [
      "[1] 37\n"
     ]
    },
    {
     "name": "stderr",
     "output_type": "stream",
     "text": [
      "\n",
      "LDlink server is working...\n",
      "\n"
     ]
    },
    {
     "name": "stdout",
     "output_type": "stream",
     "text": [
      "[1] 38\n"
     ]
    },
    {
     "name": "stderr",
     "output_type": "stream",
     "text": [
      "\n",
      "LDlink server is working...\n",
      "\n"
     ]
    },
    {
     "name": "stdout",
     "output_type": "stream",
     "text": [
      "[1] 39\n"
     ]
    },
    {
     "name": "stderr",
     "output_type": "stream",
     "text": [
      "\n",
      "LDlink server is working...\n",
      "\n"
     ]
    },
    {
     "name": "stdout",
     "output_type": "stream",
     "text": [
      "[1] 40\n"
     ]
    },
    {
     "name": "stderr",
     "output_type": "stream",
     "text": [
      "\n",
      "LDlink server is working...\n",
      "\n"
     ]
    },
    {
     "name": "stdout",
     "output_type": "stream",
     "text": [
      "[1] 41\n"
     ]
    },
    {
     "name": "stderr",
     "output_type": "stream",
     "text": [
      "\n",
      "LDlink server is working...\n",
      "\n"
     ]
    },
    {
     "name": "stdout",
     "output_type": "stream",
     "text": [
      "[1] 42\n"
     ]
    },
    {
     "name": "stderr",
     "output_type": "stream",
     "text": [
      "\n",
      "LDlink server is working...\n",
      "\n"
     ]
    },
    {
     "name": "stdout",
     "output_type": "stream",
     "text": [
      "[1] 43\n"
     ]
    },
    {
     "name": "stderr",
     "output_type": "stream",
     "text": [
      "\n",
      "LDlink server is working...\n",
      "\n"
     ]
    },
    {
     "name": "stdout",
     "output_type": "stream",
     "text": [
      "[1] 44\n"
     ]
    },
    {
     "name": "stderr",
     "output_type": "stream",
     "text": [
      "\n",
      "LDlink server is working...\n",
      "\n"
     ]
    },
    {
     "name": "stdout",
     "output_type": "stream",
     "text": [
      "[1] 45\n"
     ]
    },
    {
     "name": "stderr",
     "output_type": "stream",
     "text": [
      "\n",
      "LDlink server is working...\n",
      "\n"
     ]
    },
    {
     "name": "stdout",
     "output_type": "stream",
     "text": [
      "[1] 46\n"
     ]
    },
    {
     "name": "stderr",
     "output_type": "stream",
     "text": [
      "\n",
      "LDlink server is working...\n",
      "\n"
     ]
    },
    {
     "name": "stdout",
     "output_type": "stream",
     "text": [
      "[1] 47\n"
     ]
    },
    {
     "name": "stderr",
     "output_type": "stream",
     "text": [
      "\n",
      "LDlink server is working...\n",
      "\n"
     ]
    },
    {
     "name": "stdout",
     "output_type": "stream",
     "text": [
      "[1] 48\n"
     ]
    },
    {
     "name": "stderr",
     "output_type": "stream",
     "text": [
      "\n",
      "LDlink server is working...\n",
      "\n"
     ]
    },
    {
     "name": "stdout",
     "output_type": "stream",
     "text": [
      "[1] 49\n"
     ]
    },
    {
     "name": "stderr",
     "output_type": "stream",
     "text": [
      "\n",
      "LDlink server is working...\n",
      "\n"
     ]
    },
    {
     "name": "stdout",
     "output_type": "stream",
     "text": [
      "[1] 50\n"
     ]
    },
    {
     "name": "stderr",
     "output_type": "stream",
     "text": [
      "\n",
      "LDlink server is working...\n",
      "\n"
     ]
    },
    {
     "name": "stdout",
     "output_type": "stream",
     "text": [
      "[1] 52\n"
     ]
    },
    {
     "name": "stderr",
     "output_type": "stream",
     "text": [
      "\n",
      "LDlink server is working...\n",
      "\n"
     ]
    },
    {
     "name": "stdout",
     "output_type": "stream",
     "text": [
      "[1] 53\n"
     ]
    },
    {
     "name": "stderr",
     "output_type": "stream",
     "text": [
      "\n",
      "LDlink server is working...\n",
      "\n"
     ]
    },
    {
     "name": "stdout",
     "output_type": "stream",
     "text": [
      "[1] 54\n"
     ]
    },
    {
     "name": "stderr",
     "output_type": "stream",
     "text": [
      "\n",
      "LDlink server is working...\n",
      "\n"
     ]
    },
    {
     "name": "stdout",
     "output_type": "stream",
     "text": [
      "[1] 55\n"
     ]
    },
    {
     "name": "stderr",
     "output_type": "stream",
     "text": [
      "\n",
      "LDlink server is working...\n",
      "\n"
     ]
    },
    {
     "name": "stdout",
     "output_type": "stream",
     "text": [
      "[1] 56\n"
     ]
    },
    {
     "name": "stderr",
     "output_type": "stream",
     "text": [
      "\n",
      "LDlink server is working...\n",
      "\n"
     ]
    },
    {
     "name": "stdout",
     "output_type": "stream",
     "text": [
      "[1] 57\n"
     ]
    },
    {
     "name": "stderr",
     "output_type": "stream",
     "text": [
      "\n",
      "LDlink server is working...\n",
      "\n"
     ]
    },
    {
     "name": "stdout",
     "output_type": "stream",
     "text": [
      "[1] 58\n"
     ]
    },
    {
     "name": "stderr",
     "output_type": "stream",
     "text": [
      "\n",
      "LDlink server is working...\n",
      "\n"
     ]
    },
    {
     "name": "stdout",
     "output_type": "stream",
     "text": [
      "[1] 59\n"
     ]
    },
    {
     "name": "stderr",
     "output_type": "stream",
     "text": [
      "\n",
      "LDlink server is working...\n",
      "\n"
     ]
    },
    {
     "name": "stdout",
     "output_type": "stream",
     "text": [
      "[1] 60\n"
     ]
    },
    {
     "name": "stderr",
     "output_type": "stream",
     "text": [
      "\n",
      "LDlink server is working...\n",
      "\n"
     ]
    },
    {
     "name": "stdout",
     "output_type": "stream",
     "text": [
      "[1] 61\n"
     ]
    },
    {
     "name": "stderr",
     "output_type": "stream",
     "text": [
      "\n",
      "LDlink server is working...\n",
      "\n"
     ]
    },
    {
     "name": "stdout",
     "output_type": "stream",
     "text": [
      "[1] 62\n"
     ]
    },
    {
     "name": "stderr",
     "output_type": "stream",
     "text": [
      "\n",
      "LDlink server is working...\n",
      "\n"
     ]
    },
    {
     "name": "stdout",
     "output_type": "stream",
     "text": [
      "[1] 64\n"
     ]
    },
    {
     "name": "stderr",
     "output_type": "stream",
     "text": [
      "\n",
      "LDlink server is working...\n",
      "\n"
     ]
    },
    {
     "name": "stdout",
     "output_type": "stream",
     "text": [
      "[1] 66\n"
     ]
    },
    {
     "name": "stderr",
     "output_type": "stream",
     "text": [
      "\n",
      "LDlink server is working...\n",
      "\n"
     ]
    },
    {
     "name": "stdout",
     "output_type": "stream",
     "text": [
      "[1] 67\n"
     ]
    },
    {
     "name": "stderr",
     "output_type": "stream",
     "text": [
      "\n",
      "LDlink server is working...\n",
      "\n"
     ]
    },
    {
     "name": "stdout",
     "output_type": "stream",
     "text": [
      "[1] 69\n"
     ]
    },
    {
     "name": "stderr",
     "output_type": "stream",
     "text": [
      "\n",
      "LDlink server is working...\n",
      "\n"
     ]
    },
    {
     "name": "stdout",
     "output_type": "stream",
     "text": [
      "[1] 70\n"
     ]
    },
    {
     "name": "stderr",
     "output_type": "stream",
     "text": [
      "\n",
      "LDlink server is working...\n",
      "\n"
     ]
    },
    {
     "name": "stdout",
     "output_type": "stream",
     "text": [
      "[1] 71\n"
     ]
    },
    {
     "name": "stderr",
     "output_type": "stream",
     "text": [
      "\n",
      "LDlink server is working...\n",
      "\n"
     ]
    },
    {
     "name": "stdout",
     "output_type": "stream",
     "text": [
      "[1] 72\n"
     ]
    },
    {
     "name": "stderr",
     "output_type": "stream",
     "text": [
      "\n",
      "LDlink server is working...\n",
      "\n"
     ]
    },
    {
     "name": "stdout",
     "output_type": "stream",
     "text": [
      "[1] 73\n"
     ]
    },
    {
     "name": "stderr",
     "output_type": "stream",
     "text": [
      "\n",
      "LDlink server is working...\n",
      "\n"
     ]
    },
    {
     "name": "stdout",
     "output_type": "stream",
     "text": [
      "[1] 74\n"
     ]
    },
    {
     "name": "stderr",
     "output_type": "stream",
     "text": [
      "\n",
      "LDlink server is working...\n",
      "\n"
     ]
    },
    {
     "name": "stdout",
     "output_type": "stream",
     "text": [
      "[1] 75\n"
     ]
    },
    {
     "name": "stderr",
     "output_type": "stream",
     "text": [
      "\n",
      "LDlink server is working...\n",
      "\n"
     ]
    },
    {
     "name": "stdout",
     "output_type": "stream",
     "text": [
      "[1] 77\n"
     ]
    },
    {
     "name": "stderr",
     "output_type": "stream",
     "text": [
      "\n",
      "LDlink server is working...\n",
      "\n"
     ]
    },
    {
     "name": "stdout",
     "output_type": "stream",
     "text": [
      "[1] 78\n"
     ]
    },
    {
     "name": "stderr",
     "output_type": "stream",
     "text": [
      "\n",
      "LDlink server is working...\n",
      "\n"
     ]
    },
    {
     "name": "stdout",
     "output_type": "stream",
     "text": [
      "[1] 79\n"
     ]
    },
    {
     "name": "stderr",
     "output_type": "stream",
     "text": [
      "\n",
      "LDlink server is working...\n",
      "\n"
     ]
    },
    {
     "name": "stdout",
     "output_type": "stream",
     "text": [
      "[1] 80\n"
     ]
    },
    {
     "name": "stderr",
     "output_type": "stream",
     "text": [
      "\n",
      "LDlink server is working...\n",
      "\n"
     ]
    },
    {
     "name": "stdout",
     "output_type": "stream",
     "text": [
      "[1] 81\n"
     ]
    },
    {
     "name": "stderr",
     "output_type": "stream",
     "text": [
      "\n",
      "LDlink server is working...\n",
      "\n"
     ]
    },
    {
     "name": "stdout",
     "output_type": "stream",
     "text": [
      "[1] 82\n"
     ]
    },
    {
     "name": "stderr",
     "output_type": "stream",
     "text": [
      "\n",
      "LDlink server is working...\n",
      "\n"
     ]
    },
    {
     "name": "stdout",
     "output_type": "stream",
     "text": [
      "[1] 83\n"
     ]
    },
    {
     "name": "stderr",
     "output_type": "stream",
     "text": [
      "\n",
      "LDlink server is working...\n",
      "\n"
     ]
    },
    {
     "name": "stdout",
     "output_type": "stream",
     "text": [
      "[1] 84\n"
     ]
    },
    {
     "name": "stderr",
     "output_type": "stream",
     "text": [
      "\n",
      "LDlink server is working...\n",
      "\n",
      "WARNING: Multiple rsIDs (rs2016429, rs1231130939) map to genomic coordinates chr19:47882416!\n"
     ]
    },
    {
     "name": "stdout",
     "output_type": "stream",
     "text": [
      "[1] 85\n"
     ]
    },
    {
     "name": "stderr",
     "output_type": "stream",
     "text": [
      "\n",
      "LDlink server is working...\n",
      "\n"
     ]
    },
    {
     "name": "stdout",
     "output_type": "stream",
     "text": [
      "[1] 86\n"
     ]
    },
    {
     "name": "stderr",
     "output_type": "stream",
     "text": [
      "\n",
      "LDlink server is working...\n",
      "\n"
     ]
    },
    {
     "name": "stdout",
     "output_type": "stream",
     "text": [
      "[1] 87\n"
     ]
    },
    {
     "name": "stderr",
     "output_type": "stream",
     "text": [
      "\n",
      "LDlink server is working...\n",
      "\n",
      "WARNING: Multiple rsIDs (rs58837313, rs386807501) map to genomic coordinates chr19:18748431!\n"
     ]
    },
    {
     "name": "stdout",
     "output_type": "stream",
     "text": [
      "[1] 88\n"
     ]
    },
    {
     "name": "stderr",
     "output_type": "stream",
     "text": [
      "\n",
      "LDlink server is working...\n",
      "\n"
     ]
    },
    {
     "name": "stdout",
     "output_type": "stream",
     "text": [
      "[1] 89\n"
     ]
    },
    {
     "name": "stderr",
     "output_type": "stream",
     "text": [
      "\n",
      "LDlink server is working...\n",
      "\n"
     ]
    },
    {
     "name": "stdout",
     "output_type": "stream",
     "text": [
      "[1] 90\n"
     ]
    },
    {
     "name": "stderr",
     "output_type": "stream",
     "text": [
      "\n",
      "LDlink server is working...\n",
      "\n"
     ]
    },
    {
     "name": "stdout",
     "output_type": "stream",
     "text": [
      "[1] 91\n"
     ]
    },
    {
     "name": "stderr",
     "output_type": "stream",
     "text": [
      "\n",
      "LDlink server is working...\n",
      "\n"
     ]
    },
    {
     "name": "stdout",
     "output_type": "stream",
     "text": [
      "[1] 92\n"
     ]
    },
    {
     "name": "stderr",
     "output_type": "stream",
     "text": [
      "\n",
      "LDlink server is working...\n",
      "\n"
     ]
    },
    {
     "name": "stdout",
     "output_type": "stream",
     "text": [
      "[1] 93\n"
     ]
    },
    {
     "name": "stderr",
     "output_type": "stream",
     "text": [
      "\n",
      "LDlink server is working...\n",
      "\n"
     ]
    },
    {
     "name": "stdout",
     "output_type": "stream",
     "text": [
      "[1] 94\n"
     ]
    },
    {
     "name": "stderr",
     "output_type": "stream",
     "text": [
      "\n",
      "LDlink server is working...\n",
      "\n"
     ]
    },
    {
     "name": "stdout",
     "output_type": "stream",
     "text": [
      "[1] 95\n"
     ]
    },
    {
     "name": "stderr",
     "output_type": "stream",
     "text": [
      "\n",
      "LDlink server is working...\n",
      "\n"
     ]
    },
    {
     "name": "stdout",
     "output_type": "stream",
     "text": [
      "[1] 97\n"
     ]
    },
    {
     "name": "stderr",
     "output_type": "stream",
     "text": [
      "\n",
      "LDlink server is working...\n",
      "\n"
     ]
    },
    {
     "name": "stdout",
     "output_type": "stream",
     "text": [
      "[1] 98\n"
     ]
    },
    {
     "name": "stderr",
     "output_type": "stream",
     "text": [
      "\n",
      "LDlink server is working...\n",
      "\n"
     ]
    },
    {
     "name": "stdout",
     "output_type": "stream",
     "text": [
      "[1] 99\n"
     ]
    },
    {
     "name": "stderr",
     "output_type": "stream",
     "text": [
      "\n",
      "LDlink server is working...\n",
      "\n"
     ]
    },
    {
     "name": "stdout",
     "output_type": "stream",
     "text": [
      "[1] 100\n"
     ]
    },
    {
     "name": "stderr",
     "output_type": "stream",
     "text": [
      "\n",
      "LDlink server is working...\n",
      "\n"
     ]
    },
    {
     "name": "stdout",
     "output_type": "stream",
     "text": [
      "[1] 101\n"
     ]
    },
    {
     "name": "stderr",
     "output_type": "stream",
     "text": [
      "\n",
      "LDlink server is working...\n",
      "\n",
      "WARNING: Multiple rsIDs (rs7252596, rs386806030) map to genomic coordinates chr19:3559117!\n"
     ]
    },
    {
     "name": "stdout",
     "output_type": "stream",
     "text": [
      "[1] 102\n"
     ]
    },
    {
     "name": "stderr",
     "output_type": "stream",
     "text": [
      "\n",
      "LDlink server is working...\n",
      "\n"
     ]
    },
    {
     "name": "stdout",
     "output_type": "stream",
     "text": [
      "[1] 103\n"
     ]
    },
    {
     "name": "stderr",
     "output_type": "stream",
     "text": [
      "\n",
      "LDlink server is working...\n",
      "\n"
     ]
    },
    {
     "name": "stdout",
     "output_type": "stream",
     "text": [
      "[1] 104\n"
     ]
    },
    {
     "name": "stderr",
     "output_type": "stream",
     "text": [
      "\n",
      "LDlink server is working...\n",
      "\n"
     ]
    },
    {
     "name": "stdout",
     "output_type": "stream",
     "text": [
      "[1] 105\n"
     ]
    },
    {
     "name": "stderr",
     "output_type": "stream",
     "text": [
      "\n",
      "LDlink server is working...\n",
      "\n"
     ]
    },
    {
     "name": "stdout",
     "output_type": "stream",
     "text": [
      "[1] 106\n"
     ]
    },
    {
     "name": "stderr",
     "output_type": "stream",
     "text": [
      "\n",
      "LDlink server is working...\n",
      "\n"
     ]
    },
    {
     "name": "stdout",
     "output_type": "stream",
     "text": [
      "[1] 107\n"
     ]
    },
    {
     "name": "stderr",
     "output_type": "stream",
     "text": [
      "\n",
      "LDlink server is working...\n",
      "\n"
     ]
    },
    {
     "name": "stdout",
     "output_type": "stream",
     "text": [
      "[1] 108\n"
     ]
    },
    {
     "name": "stderr",
     "output_type": "stream",
     "text": [
      "\n",
      "LDlink server is working...\n",
      "\n"
     ]
    },
    {
     "name": "stdout",
     "output_type": "stream",
     "text": [
      "[1] 109\n"
     ]
    },
    {
     "name": "stderr",
     "output_type": "stream",
     "text": [
      "\n",
      "LDlink server is working...\n",
      "\n"
     ]
    },
    {
     "name": "stdout",
     "output_type": "stream",
     "text": [
      "[1] 110\n"
     ]
    },
    {
     "name": "stderr",
     "output_type": "stream",
     "text": [
      "\n",
      "LDlink server is working...\n",
      "\n"
     ]
    },
    {
     "name": "stdout",
     "output_type": "stream",
     "text": [
      "[1] 111\n"
     ]
    },
    {
     "name": "stderr",
     "output_type": "stream",
     "text": [
      "\n",
      "LDlink server is working...\n",
      "\n"
     ]
    }
   ],
   "source": [
    "df$d = NA\n",
    "for (i in 1:nrow(df)){\n",
    "#     if (i %in% c(9,27,46,56,57,59,64)){next}\n",
    "    if (i %in% c(9,27,51,63,65,68,76,96,112)){next}\n",
    "#     if (i %in% c(9,32,72,86,90,91,103,107,109,110,116,121,122,129,130,131,132,142,145,147,163)){next}\n",
    "    print(i)\n",
    "    snp1 = as.character(df[i,\"snp1\"])\n",
    "    snp2 = as.character(df[i,\"snp2\"])\n",
    "    df[i,\"d\"] = as.numeric(LDpair(snp1, snp2, pop = \"GBR\", token = \"f88ab64286ce\")$d_prime)\n",
    "}"
   ]
  },
  {
   "cell_type": "code",
   "execution_count": 33,
   "id": "d8fbb009",
   "metadata": {},
   "outputs": [
    {
     "name": "stderr",
     "output_type": "stream",
     "text": [
      "`stat_bin()` using `bins = 30`. Pick better value with `binwidth`.\n",
      "Warning message:\n",
      "“Removed 9 rows containing non-finite values (stat_bin).”"
     ]
    },
    {
     "data": {
      "image/png": "[encoded data removed]",
      "text/plain": [
       "plot without title"
      ]
     },
     "metadata": {},
     "output_type": "display_data"
    }
   ],
   "source": [
    "options(repr.plot.width=6, repr.plot.height=4)\n",
    "p = ggplot(df, aes(x=d)) + geom_histogram(alpha = 0.8) + \n",
    "    xlab(\"D' LD value\") + ylab(\"Number of SNPs\") + theme_minimal()\n",
    "p"
   ]
  },
  {
   "cell_type": "code",
   "execution_count": null,
   "id": "68249d4a",
   "metadata": {},
   "outputs": [],
   "source": []
  },
  {
   "cell_type": "code",
   "execution_count": null,
   "id": "ae21342b",
   "metadata": {},
   "outputs": [],
   "source": []
  },
  {
   "cell_type": "code",
   "execution_count": 315,
   "id": "bc332b83",
   "metadata": {},
   "outputs": [],
   "source": [
    "S = unlist(strsplit(all_snps,\"_\"))\n",
    "snps = c()\n",
    "for (i in seq(2,(length(S)-1),4)){\n",
    "   snps = c(snps,S[i]) \n",
    "}\n",
    "snps = paste0(\"chr19:\",snps)"
   ]
  },
  {
   "cell_type": "code",
   "execution_count": 316,
   "id": "eb0a03c1",
   "metadata": {},
   "outputs": [
    {
     "data": {
      "text/html": [
       "<ol class=list-inline>\n",
       "\t<li>'19_8387207_G_A'</li>\n",
       "\t<li>'19_7675917_C_G'</li>\n",
       "\t<li>'19_57939619_C_T'</li>\n",
       "\t<li>'19_21513408_G_A'</li>\n",
       "\t<li>'19_54695163_T_C'</li>\n",
       "\t<li>'19_5783634_T_C'</li>\n",
       "</ol>\n"
      ],
      "text/latex": [
       "\\begin{enumerate*}\n",
       "\\item '19\\_8387207\\_G\\_A'\n",
       "\\item '19\\_7675917\\_C\\_G'\n",
       "\\item '19\\_57939619\\_C\\_T'\n",
       "\\item '19\\_21513408\\_G\\_A'\n",
       "\\item '19\\_54695163\\_T\\_C'\n",
       "\\item '19\\_5783634\\_T\\_C'\n",
       "\\end{enumerate*}\n"
      ],
      "text/markdown": [
       "1. '19_8387207_G_A'\n",
       "2. '19_7675917_C_G'\n",
       "3. '19_57939619_C_T'\n",
       "4. '19_21513408_G_A'\n",
       "5. '19_54695163_T_C'\n",
       "6. '19_5783634_T_C'\n",
       "\n",
       "\n"
      ],
      "text/plain": [
       "[1] \"19_8387207_G_A\"  \"19_7675917_C_G\"  \"19_57939619_C_T\" \"19_21513408_G_A\"\n",
       "[5] \"19_54695163_T_C\" \"19_5783634_T_C\" "
      ]
     },
     "metadata": {},
     "output_type": "display_data"
    },
    {
     "data": {
      "text/html": [
       "<ol class=list-inline>\n",
       "\t<li>'chr19:8387207'</li>\n",
       "\t<li>'chr19:7675917'</li>\n",
       "\t<li>'chr19:57939619'</li>\n",
       "\t<li>'chr19:21513408'</li>\n",
       "\t<li>'chr19:54695163'</li>\n",
       "\t<li>'chr19:5783634'</li>\n",
       "</ol>\n"
      ],
      "text/latex": [
       "\\begin{enumerate*}\n",
       "\\item 'chr19:8387207'\n",
       "\\item 'chr19:7675917'\n",
       "\\item 'chr19:57939619'\n",
       "\\item 'chr19:21513408'\n",
       "\\item 'chr19:54695163'\n",
       "\\item 'chr19:5783634'\n",
       "\\end{enumerate*}\n"
      ],
      "text/markdown": [
       "1. 'chr19:8387207'\n",
       "2. 'chr19:7675917'\n",
       "3. 'chr19:57939619'\n",
       "4. 'chr19:21513408'\n",
       "5. 'chr19:54695163'\n",
       "6. 'chr19:5783634'\n",
       "\n",
       "\n"
      ],
      "text/plain": [
       "[1] \"chr19:8387207\"  \"chr19:7675917\"  \"chr19:57939619\" \"chr19:21513408\"\n",
       "[5] \"chr19:54695163\" \"chr19:5783634\" "
      ]
     },
     "metadata": {},
     "output_type": "display_data"
    }
   ],
   "source": [
    "head(all_snps)\n",
    "head(snps)"
   ]
  },
  {
   "cell_type": "code",
   "execution_count": 319,
   "id": "b8d82a7d",
   "metadata": {},
   "outputs": [
    {
     "name": "stderr",
     "output_type": "stream",
     "text": [
      "\n",
      "LDlink server is working...\n",
      "\n"
     ]
    }
   ],
   "source": [
    "# needed to request token by registering\n",
    "LDmat = LDmatrix(snps, pop = \"GBR\", r2d = \"d\", token = \"f88ab64286ce\", file = FALSE)"
   ]
  },
  {
   "cell_type": "code",
   "execution_count": 320,
   "id": "88425bb0",
   "metadata": {},
   "outputs": [
    {
     "data": {
      "text/html": [
       "<table>\n",
       "<thead><tr><th scope=col>RS_number</th><th scope=col>rs10422590</th><th scope=col>rs10853988</th><th scope=col>rs9807887</th><th scope=col>rs2302307</th></tr></thead>\n",
       "<tbody>\n",
       "\t<tr><td>rs10422590</td><td>1.000     </td><td>0.161     </td><td>0.139     </td><td>0.193     </td></tr>\n",
       "\t<tr><td>rs10853988</td><td>0.161     </td><td>1.000     </td><td>0.265     </td><td>0.248     </td></tr>\n",
       "\t<tr><td>rs9807887 </td><td>0.139     </td><td>0.265     </td><td>1.000     </td><td>0.041     </td></tr>\n",
       "\t<tr><td>rs2302307 </td><td>0.193     </td><td>0.248     </td><td>0.041     </td><td>1.000     </td></tr>\n",
       "\t<tr><td>rs12461613</td><td>0.006     </td><td>0.062     </td><td>0.033     </td><td>0.177     </td></tr>\n",
       "</tbody>\n",
       "</table>\n"
      ],
      "text/latex": [
       "\\begin{tabular}{r|lllll}\n",
       " RS\\_number & rs10422590 & rs10853988 & rs9807887 & rs2302307\\\\\n",
       "\\hline\n",
       "\t rs10422590 & 1.000      & 0.161      & 0.139      & 0.193     \\\\\n",
       "\t rs10853988 & 0.161      & 1.000      & 0.265      & 0.248     \\\\\n",
       "\t rs9807887  & 0.139      & 0.265      & 1.000      & 0.041     \\\\\n",
       "\t rs2302307  & 0.193      & 0.248      & 0.041      & 1.000     \\\\\n",
       "\t rs12461613 & 0.006      & 0.062      & 0.033      & 0.177     \\\\\n",
       "\\end{tabular}\n"
      ],
      "text/markdown": [
       "\n",
       "| RS_number | rs10422590 | rs10853988 | rs9807887 | rs2302307 |\n",
       "|---|---|---|---|---|\n",
       "| rs10422590 | 1.000      | 0.161      | 0.139      | 0.193      |\n",
       "| rs10853988 | 0.161      | 1.000      | 0.265      | 0.248      |\n",
       "| rs9807887  | 0.139      | 0.265      | 1.000      | 0.041      |\n",
       "| rs2302307  | 0.193      | 0.248      | 0.041      | 1.000      |\n",
       "| rs12461613 | 0.006      | 0.062      | 0.033      | 0.177      |\n",
       "\n"
      ],
      "text/plain": [
       "  RS_number  rs10422590 rs10853988 rs9807887 rs2302307\n",
       "1 rs10422590 1.000      0.161      0.139     0.193    \n",
       "2 rs10853988 0.161      1.000      0.265     0.248    \n",
       "3 rs9807887  0.139      0.265      1.000     0.041    \n",
       "4 rs2302307  0.193      0.248      0.041     1.000    \n",
       "5 rs12461613 0.006      0.062      0.033     0.177    "
      ]
     },
     "metadata": {},
     "output_type": "display_data"
    }
   ],
   "source": [
    "LDmat[1:5,1:5]"
   ]
  },
  {
   "cell_type": "code",
   "execution_count": 321,
   "id": "70590124",
   "metadata": {},
   "outputs": [
    {
     "data": {
      "text/html": [
       "<table>\n",
       "<thead><tr><th></th><th scope=col>rs10422590</th><th scope=col>rs10853988</th><th scope=col>rs9807887</th><th scope=col>rs2302307</th><th scope=col>rs12461613</th></tr></thead>\n",
       "<tbody>\n",
       "\t<tr><th scope=row>rs10422590</th><td>1.000</td><td>0.161</td><td>0.139</td><td>0.193</td><td>0.006</td></tr>\n",
       "\t<tr><th scope=row>rs10853988</th><td>0.161</td><td>1.000</td><td>0.265</td><td>0.248</td><td>0.062</td></tr>\n",
       "\t<tr><th scope=row>rs9807887</th><td>0.139</td><td>0.265</td><td>1.000</td><td>0.041</td><td>0.033</td></tr>\n",
       "\t<tr><th scope=row>rs2302307</th><td>0.193</td><td>0.248</td><td>0.041</td><td>1.000</td><td>0.177</td></tr>\n",
       "\t<tr><th scope=row>rs12461613</th><td>0.006</td><td>0.062</td><td>0.033</td><td>0.177</td><td>1.000</td></tr>\n",
       "</tbody>\n",
       "</table>\n"
      ],
      "text/latex": [
       "\\begin{tabular}{r|lllll}\n",
       "  & rs10422590 & rs10853988 & rs9807887 & rs2302307 & rs12461613\\\\\n",
       "\\hline\n",
       "\trs10422590 & 1.000 & 0.161 & 0.139 & 0.193 & 0.006\\\\\n",
       "\trs10853988 & 0.161 & 1.000 & 0.265 & 0.248 & 0.062\\\\\n",
       "\trs9807887 & 0.139 & 0.265 & 1.000 & 0.041 & 0.033\\\\\n",
       "\trs2302307 & 0.193 & 0.248 & 0.041 & 1.000 & 0.177\\\\\n",
       "\trs12461613 & 0.006 & 0.062 & 0.033 & 0.177 & 1.000\\\\\n",
       "\\end{tabular}\n"
      ],
      "text/markdown": [
       "\n",
       "| <!--/--> | rs10422590 | rs10853988 | rs9807887 | rs2302307 | rs12461613 |\n",
       "|---|---|---|---|---|---|\n",
       "| rs10422590 | 1.000 | 0.161 | 0.139 | 0.193 | 0.006 |\n",
       "| rs10853988 | 0.161 | 1.000 | 0.265 | 0.248 | 0.062 |\n",
       "| rs9807887 | 0.139 | 0.265 | 1.000 | 0.041 | 0.033 |\n",
       "| rs2302307 | 0.193 | 0.248 | 0.041 | 1.000 | 0.177 |\n",
       "| rs12461613 | 0.006 | 0.062 | 0.033 | 0.177 | 1.000 |\n",
       "\n"
      ],
      "text/plain": [
       "           rs10422590 rs10853988 rs9807887 rs2302307 rs12461613\n",
       "rs10422590 1.000      0.161      0.139     0.193     0.006     \n",
       "rs10853988 0.161      1.000      0.265     0.248     0.062     \n",
       "rs9807887  0.139      0.265      1.000     0.041     0.033     \n",
       "rs2302307  0.193      0.248      0.041     1.000     0.177     \n",
       "rs12461613 0.006      0.062      0.033     0.177     1.000     "
      ]
     },
     "metadata": {},
     "output_type": "display_data"
    }
   ],
   "source": [
    "ldMatrix = LDmat\n",
    "rownames(ldMatrix) = ldMatrix$RS_number\n",
    "ldMatrix$RS_number = c()\n",
    "ldMatrix[1:5,1:5]"
   ]
  },
  {
   "cell_type": "code",
   "execution_count": 322,
   "id": "0fbb5df0",
   "metadata": {},
   "outputs": [],
   "source": [
    "write.csv(ldMatrix,\"/hps/nobackup/stegle/users/acuomo/all_scripts/struct_LMM2/sc_endodiff/debug_May2021/REVISION/limix_qtl_pipeline_Gtest/top_snps_to_compare_LD.csv\")"
   ]
  },
  {
   "cell_type": "code",
   "execution_count": 323,
   "id": "7e76f0da",
   "metadata": {},
   "outputs": [],
   "source": [
    "df$d = 0\n",
    "for (i in 1:nrow(df)){\n",
    "    snp1 = as.character(df[i,\"snp_id.old\"])\n",
    "    snp2 = as.character(df[i,\"snp_id.new\"])\n",
    "    if (!(snp1 %in% colnames(ldMatrix)) | !(snp2 %in% colnames(ldMatrix))){next}\n",
    "    df[i,\"d\"] = as.numeric(ldMatrix[snp1,snp2])\n",
    "}"
   ]
  },
  {
   "cell_type": "code",
   "execution_count": 366,
   "id": "7dfdcaec",
   "metadata": {},
   "outputs": [
    {
     "data": {
      "text/html": [
       "68"
      ],
      "text/latex": [
       "68"
      ],
      "text/markdown": [
       "68"
      ],
      "text/plain": [
       "[1] 68"
      ]
     },
     "metadata": {},
     "output_type": "display_data"
    },
    {
     "data": {
      "text/html": [
       "<ol class=list-inline>\n",
       "\t<li>57</li>\n",
       "\t<li>0.838235294117647</li>\n",
       "</ol>\n"
      ],
      "text/latex": [
       "\\begin{enumerate*}\n",
       "\\item 57\n",
       "\\item 0.838235294117647\n",
       "\\end{enumerate*}\n"
      ],
      "text/markdown": [
       "1. 57\n",
       "2. 0.838235294117647\n",
       "\n",
       "\n"
      ],
      "text/plain": [
       "[1] 57.0000000  0.8382353"
      ]
     },
     "metadata": {},
     "output_type": "display_data"
    }
   ],
   "source": [
    "T = 0.9\n",
    "nrow(df)\n",
    "c(nrow(df[df$d>T,]), nrow(df[df$d>T,])/nrow(df))"
   ]
  },
  {
   "cell_type": "code",
   "execution_count": null,
   "id": "4b8cc61b",
   "metadata": {},
   "outputs": [],
   "source": []
  },
  {
   "cell_type": "code",
   "execution_count": null,
   "id": "3e58bdd9",
   "metadata": {},
   "outputs": [],
   "source": [
    "# for variants 19_5783634_T_C (rs2446210) and 19_5799037_C_T (rs2436531) and CEU reference\n",
    "# D' value (from https://ldlink.nci.nih.gov/?tab=ldpair) is 0.9114, R2 is 0.8307\n",
    "# Pearson's correlation as implemented here considering our samples only: r=0.9559, r2=0.9137"
   ]
  },
  {
   "cell_type": "code",
   "execution_count": null,
   "id": "3d4ff24f",
   "metadata": {},
   "outputs": [],
   "source": [
    "# for variants 19_57930256_T_G (rs12982691) 19_57920134_C_T (rs12461155) and CEU reference\n",
    "# D' value (from https://ldlink.nci.nih.gov/?tab=ldpair) is 1.0, R2 is 1.0\n",
    "# Pearson's correlation as implemented here considering our samples only: r=0.9918, r2=0.9837"
   ]
  },
  {
   "cell_type": "code",
   "execution_count": null,
   "id": "5470d2a5",
   "metadata": {},
   "outputs": [],
   "source": [
    "# for variants 19_24069443_T_C (rs79301965) 19_24147099_A_G (rs4932737) and CEU reference\n",
    "# D' value (from https://ldlink.nci.nih.gov/?tab=ldpair) is 0.9732, R2 is 0.7977\n",
    "# Pearson's correlation as implemented here considering our samples only: r=0.7731, r2=0.5977"
   ]
  },
  {
   "cell_type": "code",
   "execution_count": null,
   "id": "40e39d0a",
   "metadata": {},
   "outputs": [],
   "source": [
    "# for variants 19_47805348_C_G (rs111514713) and 19_47882416_T_G (rs2016429) and CEU reference\n",
    "# D' value (from https://ldlink.nci.nih.gov/?tab=ldpair) is 0.7155, R2 is 0.0293 ---- NO LD\n",
    "# Pearson's correlation as implemented here considering our samples only: r=-0.1636, r2=0.0268"
   ]
  },
  {
   "cell_type": "code",
   "execution_count": null,
   "id": "39ae833e",
   "metadata": {},
   "outputs": [],
   "source": [
    "# for variants 19_39917761_G_A (rs251860) and 19_40085507_A_G (rs592786) and CEU reference\n",
    "# D' value (from https://ldlink.nci.nih.gov/?tab=ldpair) is 0.6444, R2 is 0.0671\n",
    "# when using GBR as reference, D'= 0.9081, R2 = 0.1109\n",
    "# Pearson's correlation as implemented here considering our samples only: r=0.0673, r2=0.0045"
   ]
  },
  {
   "cell_type": "code",
   "execution_count": null,
   "id": "3ee90dec",
   "metadata": {},
   "outputs": [],
   "source": [
    "# for variants 19_588516_A_G (rs10422590) 19_607735_A_G (rs10853988) and CEU reference\n",
    "# D' value (from https://ldlink.nci.nih.gov/?tab=ldpair) is 0.2197, R2 is 0.0043 ---- NO LD (GBR too)\n",
    "# Pearson's correlation as implemented here considering our samples only: r=-0.2427, r2=0.0589"
   ]
  },
  {
   "cell_type": "code",
   "execution_count": 272,
   "id": "5aa490b1",
   "metadata": {},
   "outputs": [
    {
     "name": "stderr",
     "output_type": "stream",
     "text": [
      "Updating HTML index of packages in '.Library'\n",
      "Making 'packages.html' ... done\n"
     ]
    }
   ],
   "source": []
  },
  {
   "cell_type": "code",
   "execution_count": 273,
   "id": "3f26e55a",
   "metadata": {},
   "outputs": [],
   "source": []
  },
  {
   "cell_type": "code",
   "execution_count": null,
   "id": "53a6f535",
   "metadata": {},
   "outputs": [],
   "source": []
  }
 ],
 "metadata": {
  "kernelspec": {
   "display_name": "R",
   "language": "R",
   "name": "ir"
  },
  "language_info": {
   "codemirror_mode": "r",
   "file_extension": ".r",
   "mimetype": "text/x-r-source",
   "name": "R",
   "pygments_lexer": "r",
   "version": "3.6.1"
  }
 },
 "nbformat": 4,
 "nbformat_minor": 5
}
