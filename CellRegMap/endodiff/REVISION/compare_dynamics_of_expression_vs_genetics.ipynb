{
 "cells": [
  {
   "cell_type": "code",
   "execution_count": 1,
   "id": "e22ec2ad",
   "metadata": {},
   "outputs": [
    {
     "name": "stderr",
     "output_type": "stream",
     "text": [
      "\n",
      "Attaching package: ‘dplyr’\n",
      "\n",
      "The following objects are masked from ‘package:stats’:\n",
      "\n",
      "    filter, lag\n",
      "\n",
      "The following objects are masked from ‘package:base’:\n",
      "\n",
      "    intersect, setdiff, setequal, union\n",
      "\n"
     ]
    }
   ],
   "source": [
    "library(ggplot2)\n",
    "library(dplyr)\n",
    "library(qvalue)"
   ]
  },
  {
   "cell_type": "code",
   "execution_count": 2,
   "id": "7bba8ec2",
   "metadata": {},
   "outputs": [],
   "source": [
    "####### Endodiff"
   ]
  },
  {
   "cell_type": "code",
   "execution_count": 3,
   "id": "b51753a0",
   "metadata": {},
   "outputs": [
    {
     "data": {
      "text/html": [
       "<table>\n",
       "<thead><tr><th></th><th scope=col>ENSG00000005059_CCDC109B_.4_110648632_T_A</th><th scope=col>ENSG00000006016_CRLF1_.19_18735221_G_T</th><th scope=col>ENSG00000006459_KDM7A_.7_139913409_G_A</th><th scope=col>ENSG00000013297_CLDN11_.3_170402765_T_C</th><th scope=col>ENSG00000021300_PLEKHB1_.11_73339784_G_A</th><th scope=col>ENSG00000029639_TFB1M_.6_155635808_C_G</th><th scope=col>ENSG00000033178_UBA6_.4_68480525_C_T</th><th scope=col>ENSG00000035115_SH3YL1_.2_256116_G_T</th><th scope=col>ENSG00000059377_TBXAS1_.7_139547370_G_A</th><th scope=col>ENSG00000063761_ADCK1_.14_78311319_G_A</th><th scope=col>...</th><th scope=col>ENSG00000248098_BCKDHA_.19_41937095_G_A</th><th scope=col>ENSG00000248124_RRN3P1_.16_21818292_A_C</th><th scope=col>ENSG00000250317_SMIM20_.4_25918516_A_G</th><th scope=col>ENSG00000253203_GUSBP3_.5_68922087_T_G</th><th scope=col>ENSG00000254184_TYW1B_.7_72200923_G_A</th><th scope=col>ENSG00000256018_HIST1H3G_.6_26198845_G_C</th><th scope=col>ENSG00000256073_C21orf119_.21_33728588_C_A</th><th scope=col>ENSG00000259024_TVP23C.CDRT4_.17_15434991_C_T</th><th scope=col>ENSG00000259803_SLC22A31_.16_89234110_G_C</th><th scope=col>ENSG00000267323_SLC25A1P5_.19_28298186_T_C</th></tr></thead>\n",
       "<tbody>\n",
       "\t<tr><th scope=row>21843_1#10</th><td>-0.02336156 </td><td> 0.037167263</td><td>-0.029627685</td><td>0.18296979  </td><td>-0.03793941 </td><td>-0.029324411</td><td> 0.031398501</td><td>-0.03962300 </td><td>0.08013833  </td><td>0.027498382 </td><td>...         </td><td>-0.08185803 </td><td>-0.10862369 </td><td>-0.10317566 </td><td>-0.048543205</td><td>0.095111678 </td><td>-0.002571070</td><td>-0.055608331</td><td>0.1931245   </td><td>-0.06168149 </td><td> 0.054686251</td></tr>\n",
       "\t<tr><th scope=row>21843_1#100</th><td>-0.04797379 </td><td>-0.002567715</td><td>-0.050303678</td><td>0.14204539  </td><td>-0.06425603 </td><td>-0.017894114</td><td>-0.064683766</td><td>-0.08820444 </td><td>0.23273882  </td><td>0.040375905 </td><td>...         </td><td>-0.16133495 </td><td>-0.45571807 </td><td>-0.09858982 </td><td>-0.095641305</td><td>0.007662211 </td><td>-0.001386594</td><td>-0.094118770</td><td>0.2614240   </td><td>-0.16271379 </td><td>-0.037051849</td></tr>\n",
       "\t<tr><th scope=row>21843_1#101</th><td>-0.01707154 </td><td>-0.038323702</td><td> 0.001072175</td><td>0.05068042  </td><td>-0.04211749 </td><td>-0.028163711</td><td>-0.079442257</td><td>-0.05854781 </td><td>0.14245545  </td><td>0.019225081 </td><td>...         </td><td>-0.08464140 </td><td>-0.22917228 </td><td>-0.08647358 </td><td>-0.027566411</td><td>0.030433187 </td><td>-0.038522875</td><td>-0.007152012</td><td>0.1489600   </td><td>-0.08467373 </td><td>-0.001068028</td></tr>\n",
       "\t<tr><th scope=row>21843_1#102</th><td>-0.06849843 </td><td> 0.029141143</td><td> 0.006591071</td><td>0.27772236  </td><td> 0.05210891 </td><td>-0.039448204</td><td> 0.002744249</td><td>-0.08783030 </td><td>0.06083871  </td><td>0.034590880 </td><td>...         </td><td>-0.05465162 </td><td>-0.09382258 </td><td>-0.12475134 </td><td>-0.009728905</td><td>0.052761776 </td><td>-0.008942713</td><td>-0.024298554</td><td>0.2108875   </td><td>-0.06577307 </td><td> 0.020432219</td></tr>\n",
       "\t<tr><th scope=row>21843_1#103</th><td>-0.02065975 </td><td> 0.017882432</td><td>-0.019780588</td><td>0.12713250  </td><td>-0.04432031 </td><td>-0.010911430</td><td>-0.024407791</td><td>-0.03931027 </td><td>0.06883815  </td><td>0.009218694 </td><td>...         </td><td>-0.04543236 </td><td>-0.13128624 </td><td>-0.06491895 </td><td>-0.033262391</td><td>0.063575007 </td><td> 0.044047100</td><td>-0.037472203</td><td>0.1392061   </td><td>-0.06160699 </td><td> 0.047756355</td></tr>\n",
       "\t<tr><th scope=row>21843_1#105</th><td> 0.03203034 </td><td> 0.029327187</td><td>-0.015424171</td><td>0.13315777  </td><td>-0.03401761 </td><td>-0.004702419</td><td>-0.075634975</td><td>-0.02003224 </td><td>0.09548422  </td><td>0.003292832 </td><td>...         </td><td>-0.08535482 </td><td>-0.14593277 </td><td>-0.07771164 </td><td>-0.053617513</td><td>0.141638220 </td><td> 0.019637691</td><td> 0.041395040</td><td>0.1576655   </td><td>-0.03509197 </td><td> 0.113248113</td></tr>\n",
       "</tbody>\n",
       "</table>\n"
      ],
      "text/latex": [
       "\\begin{tabular}{r|llllllllllllllllllllllllllllllllllllllllllllllllllllllllllllllllllllllllllllllllllllllllllllllllllllllllllllllllllllllllllllllllllllllllllllllllllllllllllllllllllllllllllllllllllllllllllllllllllllllllllllllllllllllllllllllllllllllllllllllllllllllllllllllllllllllllllllllllllllllllllllllllllllllllllllllllllllllllllllllllll}\n",
       "  & ENSG00000005059\\_CCDC109B\\_.4\\_110648632\\_T\\_A & ENSG00000006016\\_CRLF1\\_.19\\_18735221\\_G\\_T & ENSG00000006459\\_KDM7A\\_.7\\_139913409\\_G\\_A & ENSG00000013297\\_CLDN11\\_.3\\_170402765\\_T\\_C & ENSG00000021300\\_PLEKHB1\\_.11\\_73339784\\_G\\_A & ENSG00000029639\\_TFB1M\\_.6\\_155635808\\_C\\_G & ENSG00000033178\\_UBA6\\_.4\\_68480525\\_C\\_T & ENSG00000035115\\_SH3YL1\\_.2\\_256116\\_G\\_T & ENSG00000059377\\_TBXAS1\\_.7\\_139547370\\_G\\_A & ENSG00000063761\\_ADCK1\\_.14\\_78311319\\_G\\_A & ... & ENSG00000248098\\_BCKDHA\\_.19\\_41937095\\_G\\_A & ENSG00000248124\\_RRN3P1\\_.16\\_21818292\\_A\\_C & ENSG00000250317\\_SMIM20\\_.4\\_25918516\\_A\\_G & ENSG00000253203\\_GUSBP3\\_.5\\_68922087\\_T\\_G & ENSG00000254184\\_TYW1B\\_.7\\_72200923\\_G\\_A & ENSG00000256018\\_HIST1H3G\\_.6\\_26198845\\_G\\_C & ENSG00000256073\\_C21orf119\\_.21\\_33728588\\_C\\_A & ENSG00000259024\\_TVP23C.CDRT4\\_.17\\_15434991\\_C\\_T & ENSG00000259803\\_SLC22A31\\_.16\\_89234110\\_G\\_C & ENSG00000267323\\_SLC25A1P5\\_.19\\_28298186\\_T\\_C\\\\\n",
       "\\hline\n",
       "\t21843\\_1\\#10 & -0.02336156  &  0.037167263 & -0.029627685 & 0.18296979   & -0.03793941  & -0.029324411 &  0.031398501 & -0.03962300  & 0.08013833   & 0.027498382  & ...          & -0.08185803  & -0.10862369  & -0.10317566  & -0.048543205 & 0.095111678  & -0.002571070 & -0.055608331 & 0.1931245    & -0.06168149  &  0.054686251\\\\\n",
       "\t21843\\_1\\#100 & -0.04797379  & -0.002567715 & -0.050303678 & 0.14204539   & -0.06425603  & -0.017894114 & -0.064683766 & -0.08820444  & 0.23273882   & 0.040375905  & ...          & -0.16133495  & -0.45571807  & -0.09858982  & -0.095641305 & 0.007662211  & -0.001386594 & -0.094118770 & 0.2614240    & -0.16271379  & -0.037051849\\\\\n",
       "\t21843\\_1\\#101 & -0.01707154  & -0.038323702 &  0.001072175 & 0.05068042   & -0.04211749  & -0.028163711 & -0.079442257 & -0.05854781  & 0.14245545   & 0.019225081  & ...          & -0.08464140  & -0.22917228  & -0.08647358  & -0.027566411 & 0.030433187  & -0.038522875 & -0.007152012 & 0.1489600    & -0.08467373  & -0.001068028\\\\\n",
       "\t21843\\_1\\#102 & -0.06849843  &  0.029141143 &  0.006591071 & 0.27772236   &  0.05210891  & -0.039448204 &  0.002744249 & -0.08783030  & 0.06083871   & 0.034590880  & ...          & -0.05465162  & -0.09382258  & -0.12475134  & -0.009728905 & 0.052761776  & -0.008942713 & -0.024298554 & 0.2108875    & -0.06577307  &  0.020432219\\\\\n",
       "\t21843\\_1\\#103 & -0.02065975  &  0.017882432 & -0.019780588 & 0.12713250   & -0.04432031  & -0.010911430 & -0.024407791 & -0.03931027  & 0.06883815   & 0.009218694  & ...          & -0.04543236  & -0.13128624  & -0.06491895  & -0.033262391 & 0.063575007  &  0.044047100 & -0.037472203 & 0.1392061    & -0.06160699  &  0.047756355\\\\\n",
       "\t21843\\_1\\#105 &  0.03203034  &  0.029327187 & -0.015424171 & 0.13315777   & -0.03401761  & -0.004702419 & -0.075634975 & -0.02003224  & 0.09548422   & 0.003292832  & ...          & -0.08535482  & -0.14593277  & -0.07771164  & -0.053617513 & 0.141638220  &  0.019637691 &  0.041395040 & 0.1576655    & -0.03509197  &  0.113248113\\\\\n",
       "\\end{tabular}\n"
      ],
      "text/markdown": [
       "\n",
       "| <!--/--> | ENSG00000005059_CCDC109B_.4_110648632_T_A | ENSG00000006016_CRLF1_.19_18735221_G_T | ENSG00000006459_KDM7A_.7_139913409_G_A | ENSG00000013297_CLDN11_.3_170402765_T_C | ENSG00000021300_PLEKHB1_.11_73339784_G_A | ENSG00000029639_TFB1M_.6_155635808_C_G | ENSG00000033178_UBA6_.4_68480525_C_T | ENSG00000035115_SH3YL1_.2_256116_G_T | ENSG00000059377_TBXAS1_.7_139547370_G_A | ENSG00000063761_ADCK1_.14_78311319_G_A | ... | ENSG00000248098_BCKDHA_.19_41937095_G_A | ENSG00000248124_RRN3P1_.16_21818292_A_C | ENSG00000250317_SMIM20_.4_25918516_A_G | ENSG00000253203_GUSBP3_.5_68922087_T_G | ENSG00000254184_TYW1B_.7_72200923_G_A | ENSG00000256018_HIST1H3G_.6_26198845_G_C | ENSG00000256073_C21orf119_.21_33728588_C_A | ENSG00000259024_TVP23C.CDRT4_.17_15434991_C_T | ENSG00000259803_SLC22A31_.16_89234110_G_C | ENSG00000267323_SLC25A1P5_.19_28298186_T_C |\n",
       "|---|---|---|---|---|---|---|---|---|---|---|---|---|---|---|---|---|---|---|---|---|---|\n",
       "| 21843_1#10 | -0.02336156  |  0.037167263 | -0.029627685 | 0.18296979   | -0.03793941  | -0.029324411 |  0.031398501 | -0.03962300  | 0.08013833   | 0.027498382  | ...          | -0.08185803  | -0.10862369  | -0.10317566  | -0.048543205 | 0.095111678  | -0.002571070 | -0.055608331 | 0.1931245    | -0.06168149  |  0.054686251 |\n",
       "| 21843_1#100 | -0.04797379  | -0.002567715 | -0.050303678 | 0.14204539   | -0.06425603  | -0.017894114 | -0.064683766 | -0.08820444  | 0.23273882   | 0.040375905  | ...          | -0.16133495  | -0.45571807  | -0.09858982  | -0.095641305 | 0.007662211  | -0.001386594 | -0.094118770 | 0.2614240    | -0.16271379  | -0.037051849 |\n",
       "| 21843_1#101 | -0.01707154  | -0.038323702 |  0.001072175 | 0.05068042   | -0.04211749  | -0.028163711 | -0.079442257 | -0.05854781  | 0.14245545   | 0.019225081  | ...          | -0.08464140  | -0.22917228  | -0.08647358  | -0.027566411 | 0.030433187  | -0.038522875 | -0.007152012 | 0.1489600    | -0.08467373  | -0.001068028 |\n",
       "| 21843_1#102 | -0.06849843  |  0.029141143 |  0.006591071 | 0.27772236   |  0.05210891  | -0.039448204 |  0.002744249 | -0.08783030  | 0.06083871   | 0.034590880  | ...          | -0.05465162  | -0.09382258  | -0.12475134  | -0.009728905 | 0.052761776  | -0.008942713 | -0.024298554 | 0.2108875    | -0.06577307  |  0.020432219 |\n",
       "| 21843_1#103 | -0.02065975  |  0.017882432 | -0.019780588 | 0.12713250   | -0.04432031  | -0.010911430 | -0.024407791 | -0.03931027  | 0.06883815   | 0.009218694  | ...          | -0.04543236  | -0.13128624  | -0.06491895  | -0.033262391 | 0.063575007  |  0.044047100 | -0.037472203 | 0.1392061    | -0.06160699  |  0.047756355 |\n",
       "| 21843_1#105 |  0.03203034  |  0.029327187 | -0.015424171 | 0.13315777   | -0.03401761  | -0.004702419 | -0.075634975 | -0.02003224  | 0.09548422   | 0.003292832  | ...          | -0.08535482  | -0.14593277  | -0.07771164  | -0.053617513 | 0.141638220  |  0.019637691 |  0.041395040 | 0.1576655    | -0.03509197  |  0.113248113 |\n",
       "\n"
      ],
      "text/plain": [
       "            ENSG00000005059_CCDC109B_.4_110648632_T_A\n",
       "21843_1#10  -0.02336156                              \n",
       "21843_1#100 -0.04797379                              \n",
       "21843_1#101 -0.01707154                              \n",
       "21843_1#102 -0.06849843                              \n",
       "21843_1#103 -0.02065975                              \n",
       "21843_1#105  0.03203034                              \n",
       "            ENSG00000006016_CRLF1_.19_18735221_G_T\n",
       "21843_1#10   0.037167263                          \n",
       "21843_1#100 -0.002567715                          \n",
       "21843_1#101 -0.038323702                          \n",
       "21843_1#102  0.029141143                          \n",
       "21843_1#103  0.017882432                          \n",
       "21843_1#105  0.029327187                          \n",
       "            ENSG00000006459_KDM7A_.7_139913409_G_A\n",
       "21843_1#10  -0.029627685                          \n",
       "21843_1#100 -0.050303678                          \n",
       "21843_1#101  0.001072175                          \n",
       "21843_1#102  0.006591071                          \n",
       "21843_1#103 -0.019780588                          \n",
       "21843_1#105 -0.015424171                          \n",
       "            ENSG00000013297_CLDN11_.3_170402765_T_C\n",
       "21843_1#10  0.18296979                             \n",
       "21843_1#100 0.14204539                             \n",
       "21843_1#101 0.05068042                             \n",
       "21843_1#102 0.27772236                             \n",
       "21843_1#103 0.12713250                             \n",
       "21843_1#105 0.13315777                             \n",
       "            ENSG00000021300_PLEKHB1_.11_73339784_G_A\n",
       "21843_1#10  -0.03793941                             \n",
       "21843_1#100 -0.06425603                             \n",
       "21843_1#101 -0.04211749                             \n",
       "21843_1#102  0.05210891                             \n",
       "21843_1#103 -0.04432031                             \n",
       "21843_1#105 -0.03401761                             \n",
       "            ENSG00000029639_TFB1M_.6_155635808_C_G\n",
       "21843_1#10  -0.029324411                          \n",
       "21843_1#100 -0.017894114                          \n",
       "21843_1#101 -0.028163711                          \n",
       "21843_1#102 -0.039448204                          \n",
       "21843_1#103 -0.010911430                          \n",
       "21843_1#105 -0.004702419                          \n",
       "            ENSG00000033178_UBA6_.4_68480525_C_T\n",
       "21843_1#10   0.031398501                        \n",
       "21843_1#100 -0.064683766                        \n",
       "21843_1#101 -0.079442257                        \n",
       "21843_1#102  0.002744249                        \n",
       "21843_1#103 -0.024407791                        \n",
       "21843_1#105 -0.075634975                        \n",
       "            ENSG00000035115_SH3YL1_.2_256116_G_T\n",
       "21843_1#10  -0.03962300                         \n",
       "21843_1#100 -0.08820444                         \n",
       "21843_1#101 -0.05854781                         \n",
       "21843_1#102 -0.08783030                         \n",
       "21843_1#103 -0.03931027                         \n",
       "21843_1#105 -0.02003224                         \n",
       "            ENSG00000059377_TBXAS1_.7_139547370_G_A\n",
       "21843_1#10  0.08013833                             \n",
       "21843_1#100 0.23273882                             \n",
       "21843_1#101 0.14245545                             \n",
       "21843_1#102 0.06083871                             \n",
       "21843_1#103 0.06883815                             \n",
       "21843_1#105 0.09548422                             \n",
       "            ENSG00000063761_ADCK1_.14_78311319_G_A ...\n",
       "21843_1#10  0.027498382                            ...\n",
       "21843_1#100 0.040375905                            ...\n",
       "21843_1#101 0.019225081                            ...\n",
       "21843_1#102 0.034590880                            ...\n",
       "21843_1#103 0.009218694                            ...\n",
       "21843_1#105 0.003292832                            ...\n",
       "            ENSG00000248098_BCKDHA_.19_41937095_G_A\n",
       "21843_1#10  -0.08185803                            \n",
       "21843_1#100 -0.16133495                            \n",
       "21843_1#101 -0.08464140                            \n",
       "21843_1#102 -0.05465162                            \n",
       "21843_1#103 -0.04543236                            \n",
       "21843_1#105 -0.08535482                            \n",
       "            ENSG00000248124_RRN3P1_.16_21818292_A_C\n",
       "21843_1#10  -0.10862369                            \n",
       "21843_1#100 -0.45571807                            \n",
       "21843_1#101 -0.22917228                            \n",
       "21843_1#102 -0.09382258                            \n",
       "21843_1#103 -0.13128624                            \n",
       "21843_1#105 -0.14593277                            \n",
       "            ENSG00000250317_SMIM20_.4_25918516_A_G\n",
       "21843_1#10  -0.10317566                           \n",
       "21843_1#100 -0.09858982                           \n",
       "21843_1#101 -0.08647358                           \n",
       "21843_1#102 -0.12475134                           \n",
       "21843_1#103 -0.06491895                           \n",
       "21843_1#105 -0.07771164                           \n",
       "            ENSG00000253203_GUSBP3_.5_68922087_T_G\n",
       "21843_1#10  -0.048543205                          \n",
       "21843_1#100 -0.095641305                          \n",
       "21843_1#101 -0.027566411                          \n",
       "21843_1#102 -0.009728905                          \n",
       "21843_1#103 -0.033262391                          \n",
       "21843_1#105 -0.053617513                          \n",
       "            ENSG00000254184_TYW1B_.7_72200923_G_A\n",
       "21843_1#10  0.095111678                          \n",
       "21843_1#100 0.007662211                          \n",
       "21843_1#101 0.030433187                          \n",
       "21843_1#102 0.052761776                          \n",
       "21843_1#103 0.063575007                          \n",
       "21843_1#105 0.141638220                          \n",
       "            ENSG00000256018_HIST1H3G_.6_26198845_G_C\n",
       "21843_1#10  -0.002571070                            \n",
       "21843_1#100 -0.001386594                            \n",
       "21843_1#101 -0.038522875                            \n",
       "21843_1#102 -0.008942713                            \n",
       "21843_1#103  0.044047100                            \n",
       "21843_1#105  0.019637691                            \n",
       "            ENSG00000256073_C21orf119_.21_33728588_C_A\n",
       "21843_1#10  -0.055608331                              \n",
       "21843_1#100 -0.094118770                              \n",
       "21843_1#101 -0.007152012                              \n",
       "21843_1#102 -0.024298554                              \n",
       "21843_1#103 -0.037472203                              \n",
       "21843_1#105  0.041395040                              \n",
       "            ENSG00000259024_TVP23C.CDRT4_.17_15434991_C_T\n",
       "21843_1#10  0.1931245                                    \n",
       "21843_1#100 0.2614240                                    \n",
       "21843_1#101 0.1489600                                    \n",
       "21843_1#102 0.2108875                                    \n",
       "21843_1#103 0.1392061                                    \n",
       "21843_1#105 0.1576655                                    \n",
       "            ENSG00000259803_SLC22A31_.16_89234110_G_C\n",
       "21843_1#10  -0.06168149                              \n",
       "21843_1#100 -0.16271379                              \n",
       "21843_1#101 -0.08467373                              \n",
       "21843_1#102 -0.06577307                              \n",
       "21843_1#103 -0.06160699                              \n",
       "21843_1#105 -0.03509197                              \n",
       "            ENSG00000267323_SLC25A1P5_.19_28298186_T_C\n",
       "21843_1#10   0.054686251                              \n",
       "21843_1#100 -0.037051849                              \n",
       "21843_1#101 -0.001068028                              \n",
       "21843_1#102  0.020432219                              \n",
       "21843_1#103  0.047756355                              \n",
       "21843_1#105  0.113248113                              "
      ]
     },
     "metadata": {},
     "output_type": "display_data"
    }
   ],
   "source": [
    "filename = \"/hps/nobackup2/stegle/users/acuomo/all_scripts/struct_LMM2/sc_endodiff/debug_May2021/genetic_effect/MOFA10/eqtl_tot_genetic_effect_all.txt\"\n",
    "df = read.csv(filename, sep =\"\\t\")\n",
    "head(df)"
   ]
  },
  {
   "cell_type": "code",
   "execution_count": 4,
   "id": "7919dc8f",
   "metadata": {},
   "outputs": [
    {
     "data": {
      "text/html": [
       "33964"
      ],
      "text/latex": [
       "33964"
      ],
      "text/markdown": [
       "33964"
      ],
      "text/plain": [
       "[1] 33964"
      ]
     },
     "metadata": {},
     "output_type": "display_data"
    },
    {
     "data": {
      "text/html": [
       "322"
      ],
      "text/latex": [
       "322"
      ],
      "text/markdown": [
       "322"
      ],
      "text/plain": [
       "[1] 322"
      ]
     },
     "metadata": {},
     "output_type": "display_data"
    }
   ],
   "source": [
    "nrow(df)\n",
    "ncol(df)"
   ]
  },
  {
   "cell_type": "code",
   "execution_count": 5,
   "id": "1bf92b2e",
   "metadata": {},
   "outputs": [],
   "source": [
    "cells = rownames(df)"
   ]
  },
  {
   "cell_type": "code",
   "execution_count": 6,
   "id": "b6e7868f",
   "metadata": {},
   "outputs": [],
   "source": [
    "sce = readRDS(\"/hps/nobackup2/stegle/users/acuomo/endodiff_sce.rds\")"
   ]
  },
  {
   "cell_type": "code",
   "execution_count": 7,
   "id": "0a2b3742",
   "metadata": {},
   "outputs": [
    {
     "name": "stderr",
     "output_type": "stream",
     "text": [
      "Loading required package: SingleCellExperiment\n",
      "Loading required package: SummarizedExperiment\n",
      "Loading required package: GenomicRanges\n",
      "Loading required package: stats4\n",
      "Loading required package: BiocGenerics\n",
      "Loading required package: parallel\n",
      "\n",
      "Attaching package: ‘BiocGenerics’\n",
      "\n",
      "The following objects are masked from ‘package:parallel’:\n",
      "\n",
      "    clusterApply, clusterApplyLB, clusterCall, clusterEvalQ,\n",
      "    clusterExport, clusterMap, parApply, parCapply, parLapply,\n",
      "    parLapplyLB, parRapply, parSapply, parSapplyLB\n",
      "\n",
      "The following objects are masked from ‘package:dplyr’:\n",
      "\n",
      "    combine, intersect, setdiff, union\n",
      "\n",
      "The following objects are masked from ‘package:stats’:\n",
      "\n",
      "    IQR, mad, sd, var, xtabs\n",
      "\n",
      "The following objects are masked from ‘package:base’:\n",
      "\n",
      "    anyDuplicated, append, as.data.frame, basename, cbind, colnames,\n",
      "    dirname, do.call, duplicated, eval, evalq, Filter, Find, get, grep,\n",
      "    grepl, intersect, is.unsorted, lapply, Map, mapply, match, mget,\n",
      "    order, paste, pmax, pmax.int, pmin, pmin.int, Position, rank,\n",
      "    rbind, Reduce, rownames, sapply, setdiff, sort, table, tapply,\n",
      "    union, unique, unsplit, which, which.max, which.min\n",
      "\n",
      "Loading required package: S4Vectors\n",
      "\n",
      "Attaching package: ‘S4Vectors’\n",
      "\n",
      "The following objects are masked from ‘package:dplyr’:\n",
      "\n",
      "    first, rename\n",
      "\n",
      "The following object is masked from ‘package:base’:\n",
      "\n",
      "    expand.grid\n",
      "\n",
      "Loading required package: IRanges\n",
      "\n",
      "Attaching package: ‘IRanges’\n",
      "\n",
      "The following objects are masked from ‘package:dplyr’:\n",
      "\n",
      "    collapse, desc, slice\n",
      "\n",
      "Loading required package: GenomeInfoDb\n",
      "Loading required package: Biobase\n",
      "Welcome to Bioconductor\n",
      "\n",
      "    Vignettes contain introductory material; view with\n",
      "    'browseVignettes()'. To cite Bioconductor, see\n",
      "    'citation(\"Biobase\")', and for packages 'citation(\"pkgname\")'.\n",
      "\n",
      "Loading required package: DelayedArray\n",
      "Loading required package: matrixStats\n",
      "\n",
      "Attaching package: ‘matrixStats’\n",
      "\n",
      "The following objects are masked from ‘package:Biobase’:\n",
      "\n",
      "    anyMissing, rowMedians\n",
      "\n",
      "The following object is masked from ‘package:dplyr’:\n",
      "\n",
      "    count\n",
      "\n",
      "Loading required package: BiocParallel\n",
      "\n",
      "Attaching package: ‘DelayedArray’\n",
      "\n",
      "The following objects are masked from ‘package:matrixStats’:\n",
      "\n",
      "    colMaxs, colMins, colRanges, rowMaxs, rowMins, rowRanges\n",
      "\n",
      "The following objects are masked from ‘package:base’:\n",
      "\n",
      "    aperm, apply, rowsum\n",
      "\n"
     ]
    },
    {
     "data": {
      "text/plain": [
       "class: SingleCellExperiment \n",
       "dim: 11231 36044 \n",
       "metadata(4): log.exprs.offset log.exprs.offset log.exprs.offset\n",
       "  log.exprs.offset\n",
       "assays(3): tpm counts logcounts\n",
       "rownames(11231): ENSG00000000003_TSPAN6 ENSG00000000419_DPM1 ...\n",
       "  ENSG00000272325_NUDT3 ENSG00000272398_CD24\n",
       "rowData names(17): exprs_collapsed_to ensembl_transcript_id ...\n",
       "  is_intop2000hvg is_hvg\n",
       "colnames(36044): 21843_1#10 21843_1#100 ... 24539_8#97 24539_8#98\n",
       "colData names(123): adj_x adj_y ... princ_curve princ_curve_scaled01\n",
       "reducedDimNames(1): PCA\n",
       "spikeNames(1): ERCC\n",
       "altExpNames(0):"
      ]
     },
     "metadata": {},
     "output_type": "display_data"
    }
   ],
   "source": [
    "sce"
   ]
  },
  {
   "cell_type": "code",
   "execution_count": 8,
   "id": "96495914",
   "metadata": {},
   "outputs": [
    {
     "data": {
      "text/html": [
       "<table>\n",
       "<thead><tr><th></th><th scope=col>21843_1#10</th><th scope=col>21843_1#100</th><th scope=col>21843_1#101</th><th scope=col>21843_1#102</th><th scope=col>21843_1#103</th></tr></thead>\n",
       "<tbody>\n",
       "\t<tr><th scope=row>ENSG00000000003_TSPAN6</th><td>5.5207770563</td><td>6.4562078   </td><td>5.878671    </td><td>4.8608241   </td><td>5.903640    </td></tr>\n",
       "\t<tr><th scope=row>ENSG00000000419_DPM1</th><td>5.3924605058</td><td>6.0659226   </td><td>6.838769    </td><td>6.6142685   </td><td>6.512403    </td></tr>\n",
       "\t<tr><th scope=row>ENSG00000000457_SCYL3</th><td>0.0001741556</td><td>0.3525966   </td><td>0.000000    </td><td>0.8259555   </td><td>2.201697    </td></tr>\n",
       "\t<tr><th scope=row>ENSG00000000460_C1orf112</th><td>1.4719275194</td><td>4.5369683   </td><td>4.318528    </td><td>5.3730090   </td><td>4.636175    </td></tr>\n",
       "\t<tr><th scope=row>ENSG00000001036_FUCA2</th><td>2.9088018801</td><td>3.8673273   </td><td>3.321747    </td><td>3.7364760   </td><td>4.917576    </td></tr>\n",
       "</tbody>\n",
       "</table>\n"
      ],
      "text/latex": [
       "\\begin{tabular}{r|lllll}\n",
       "  & 21843\\_1\\#10 & 21843\\_1\\#100 & 21843\\_1\\#101 & 21843\\_1\\#102 & 21843\\_1\\#103\\\\\n",
       "\\hline\n",
       "\tENSG00000000003\\_TSPAN6 & 5.5207770563 & 6.4562078    & 5.878671     & 4.8608241    & 5.903640    \\\\\n",
       "\tENSG00000000419\\_DPM1 & 5.3924605058 & 6.0659226    & 6.838769     & 6.6142685    & 6.512403    \\\\\n",
       "\tENSG00000000457\\_SCYL3 & 0.0001741556 & 0.3525966    & 0.000000     & 0.8259555    & 2.201697    \\\\\n",
       "\tENSG00000000460\\_C1orf112 & 1.4719275194 & 4.5369683    & 4.318528     & 5.3730090    & 4.636175    \\\\\n",
       "\tENSG00000001036\\_FUCA2 & 2.9088018801 & 3.8673273    & 3.321747     & 3.7364760    & 4.917576    \\\\\n",
       "\\end{tabular}\n"
      ],
      "text/markdown": [
       "\n",
       "| <!--/--> | 21843_1#10 | 21843_1#100 | 21843_1#101 | 21843_1#102 | 21843_1#103 |\n",
       "|---|---|---|---|---|---|\n",
       "| ENSG00000000003_TSPAN6 | 5.5207770563 | 6.4562078    | 5.878671     | 4.8608241    | 5.903640     |\n",
       "| ENSG00000000419_DPM1 | 5.3924605058 | 6.0659226    | 6.838769     | 6.6142685    | 6.512403     |\n",
       "| ENSG00000000457_SCYL3 | 0.0001741556 | 0.3525966    | 0.000000     | 0.8259555    | 2.201697     |\n",
       "| ENSG00000000460_C1orf112 | 1.4719275194 | 4.5369683    | 4.318528     | 5.3730090    | 4.636175     |\n",
       "| ENSG00000001036_FUCA2 | 2.9088018801 | 3.8673273    | 3.321747     | 3.7364760    | 4.917576     |\n",
       "\n"
      ],
      "text/plain": [
       "                         21843_1#10   21843_1#100 21843_1#101 21843_1#102\n",
       "ENSG00000000003_TSPAN6   5.5207770563 6.4562078   5.878671    4.8608241  \n",
       "ENSG00000000419_DPM1     5.3924605058 6.0659226   6.838769    6.6142685  \n",
       "ENSG00000000457_SCYL3    0.0001741556 0.3525966   0.000000    0.8259555  \n",
       "ENSG00000000460_C1orf112 1.4719275194 4.5369683   4.318528    5.3730090  \n",
       "ENSG00000001036_FUCA2    2.9088018801 3.8673273   3.321747    3.7364760  \n",
       "                         21843_1#103\n",
       "ENSG00000000003_TSPAN6   5.903640   \n",
       "ENSG00000000419_DPM1     6.512403   \n",
       "ENSG00000000457_SCYL3    2.201697   \n",
       "ENSG00000000460_C1orf112 4.636175   \n",
       "ENSG00000001036_FUCA2    4.917576   "
      ]
     },
     "metadata": {},
     "output_type": "display_data"
    }
   ],
   "source": [
    "logcounts(sce)[1:5,1:5]"
   ]
  },
  {
   "cell_type": "code",
   "execution_count": 9,
   "id": "4d2a1d6f",
   "metadata": {},
   "outputs": [
    {
     "data": {
      "text/html": [
       "11231"
      ],
      "text/latex": [
       "11231"
      ],
      "text/markdown": [
       "11231"
      ],
      "text/plain": [
       "[1] 11231"
      ]
     },
     "metadata": {},
     "output_type": "display_data"
    },
    {
     "data": {
      "text/html": [
       "36044"
      ],
      "text/latex": [
       "36044"
      ],
      "text/markdown": [
       "36044"
      ],
      "text/plain": [
       "[1] 36044"
      ]
     },
     "metadata": {},
     "output_type": "display_data"
    }
   ],
   "source": [
    "df0 = logcounts(sce)\n",
    "nrow(df0)\n",
    "ncol(df0)"
   ]
  },
  {
   "cell_type": "code",
   "execution_count": 10,
   "id": "71f53b46",
   "metadata": {},
   "outputs": [],
   "source": [
    "df0 = df0[,cells]\n",
    "df0 = t(df0)"
   ]
  },
  {
   "cell_type": "code",
   "execution_count": 11,
   "id": "5c572f91",
   "metadata": {},
   "outputs": [],
   "source": [
    "colnames(df) = gsub(\"_\\\\..*\",\"\",colnames(df))"
   ]
  },
  {
   "cell_type": "code",
   "execution_count": 12,
   "id": "637a3f4b",
   "metadata": {},
   "outputs": [],
   "source": [
    "df = df[order(rownames(df)),]\n",
    "df0 = df0[order(rownames(df0)),]"
   ]
  },
  {
   "cell_type": "code",
   "execution_count": 13,
   "id": "769aa531",
   "metadata": {},
   "outputs": [
    {
     "data": {
      "text/html": [
       "<table>\n",
       "<thead><tr><th></th><th scope=col>ENSG00000005059_CCDC109B</th><th scope=col>ENSG00000006016_CRLF1</th></tr></thead>\n",
       "<tbody>\n",
       "\t<tr><th scope=row>21241_6#10</th><td> 0.050496295</td><td>-0.08795715 </td></tr>\n",
       "\t<tr><th scope=row>21241_6#100</th><td>-0.007695178</td><td>-0.02541356 </td></tr>\n",
       "</tbody>\n",
       "</table>\n"
      ],
      "text/latex": [
       "\\begin{tabular}{r|ll}\n",
       "  & ENSG00000005059\\_CCDC109B & ENSG00000006016\\_CRLF1\\\\\n",
       "\\hline\n",
       "\t21241\\_6\\#10 &  0.050496295 & -0.08795715 \\\\\n",
       "\t21241\\_6\\#100 & -0.007695178 & -0.02541356 \\\\\n",
       "\\end{tabular}\n"
      ],
      "text/markdown": [
       "\n",
       "| <!--/--> | ENSG00000005059_CCDC109B | ENSG00000006016_CRLF1 |\n",
       "|---|---|---|\n",
       "| 21241_6#10 |  0.050496295 | -0.08795715  |\n",
       "| 21241_6#100 | -0.007695178 | -0.02541356  |\n",
       "\n"
      ],
      "text/plain": [
       "            ENSG00000005059_CCDC109B ENSG00000006016_CRLF1\n",
       "21241_6#10   0.050496295             -0.08795715          \n",
       "21241_6#100 -0.007695178             -0.02541356          "
      ]
     },
     "metadata": {},
     "output_type": "display_data"
    },
    {
     "data": {
      "text/html": [
       "<table>\n",
       "<thead><tr><th></th><th scope=col>ENSG00000000003_TSPAN6</th><th scope=col>ENSG00000000419_DPM1</th></tr></thead>\n",
       "<tbody>\n",
       "\t<tr><th scope=row>21241_6#10</th><td>5.195503</td><td>5.858594</td></tr>\n",
       "\t<tr><th scope=row>21241_6#100</th><td>6.297961</td><td>5.596021</td></tr>\n",
       "</tbody>\n",
       "</table>\n"
      ],
      "text/latex": [
       "\\begin{tabular}{r|ll}\n",
       "  & ENSG00000000003\\_TSPAN6 & ENSG00000000419\\_DPM1\\\\\n",
       "\\hline\n",
       "\t21241\\_6\\#10 & 5.195503 & 5.858594\\\\\n",
       "\t21241\\_6\\#100 & 6.297961 & 5.596021\\\\\n",
       "\\end{tabular}\n"
      ],
      "text/markdown": [
       "\n",
       "| <!--/--> | ENSG00000000003_TSPAN6 | ENSG00000000419_DPM1 |\n",
       "|---|---|---|\n",
       "| 21241_6#10 | 5.195503 | 5.858594 |\n",
       "| 21241_6#100 | 6.297961 | 5.596021 |\n",
       "\n"
      ],
      "text/plain": [
       "            ENSG00000000003_TSPAN6 ENSG00000000419_DPM1\n",
       "21241_6#10  5.195503               5.858594            \n",
       "21241_6#100 6.297961               5.596021            "
      ]
     },
     "metadata": {},
     "output_type": "display_data"
    }
   ],
   "source": [
    "df[1:2,1:2]\n",
    "df0[1:2,1:2]"
   ]
  },
  {
   "cell_type": "code",
   "execution_count": 14,
   "id": "88a937bb",
   "metadata": {},
   "outputs": [],
   "source": [
    "df = df[order(rownames(df)),]\n",
    "df0 = df0[order(rownames(df0)),]"
   ]
  },
  {
   "cell_type": "code",
   "execution_count": 15,
   "id": "91920a97",
   "metadata": {},
   "outputs": [
    {
     "data": {
      "text/html": [
       "<ol class=list-inline>\n",
       "\t<li>'ENSG00000005059_CCDC109B'</li>\n",
       "\t<li>'ENSG00000006016_CRLF1'</li>\n",
       "\t<li>'ENSG00000006459_KDM7A'</li>\n",
       "\t<li>'ENSG00000013297_CLDN11'</li>\n",
       "\t<li>'ENSG00000021300_PLEKHB1'</li>\n",
       "\t<li>'ENSG00000029639_TFB1M'</li>\n",
       "</ol>\n"
      ],
      "text/latex": [
       "\\begin{enumerate*}\n",
       "\\item 'ENSG00000005059\\_CCDC109B'\n",
       "\\item 'ENSG00000006016\\_CRLF1'\n",
       "\\item 'ENSG00000006459\\_KDM7A'\n",
       "\\item 'ENSG00000013297\\_CLDN11'\n",
       "\\item 'ENSG00000021300\\_PLEKHB1'\n",
       "\\item 'ENSG00000029639\\_TFB1M'\n",
       "\\end{enumerate*}\n"
      ],
      "text/markdown": [
       "1. 'ENSG00000005059_CCDC109B'\n",
       "2. 'ENSG00000006016_CRLF1'\n",
       "3. 'ENSG00000006459_KDM7A'\n",
       "4. 'ENSG00000013297_CLDN11'\n",
       "5. 'ENSG00000021300_PLEKHB1'\n",
       "6. 'ENSG00000029639_TFB1M'\n",
       "\n",
       "\n"
      ],
      "text/plain": [
       "[1] \"ENSG00000005059_CCDC109B\" \"ENSG00000006016_CRLF1\"   \n",
       "[3] \"ENSG00000006459_KDM7A\"    \"ENSG00000013297_CLDN11\"  \n",
       "[5] \"ENSG00000021300_PLEKHB1\"  \"ENSG00000029639_TFB1M\"   "
      ]
     },
     "metadata": {},
     "output_type": "display_data"
    },
    {
     "data": {
      "text/html": [
       "322"
      ],
      "text/latex": [
       "322"
      ],
      "text/markdown": [
       "322"
      ],
      "text/plain": [
       "[1] 322"
      ]
     },
     "metadata": {},
     "output_type": "display_data"
    }
   ],
   "source": [
    "genes = colnames(df)\n",
    "head(genes)\n",
    "length(genes)"
   ]
  },
  {
   "cell_type": "code",
   "execution_count": 16,
   "id": "0086caff",
   "metadata": {},
   "outputs": [],
   "source": [
    "common_genes = genes[genes %in% colnames(df0)]"
   ]
  },
  {
   "cell_type": "code",
   "execution_count": 17,
   "id": "2a09e64e",
   "metadata": {
    "scrolled": true
   },
   "outputs": [],
   "source": [
    "df = df[,common_genes]\n",
    "df0 = df0[,common_genes]"
   ]
  },
  {
   "cell_type": "code",
   "execution_count": 18,
   "id": "851f8e91",
   "metadata": {},
   "outputs": [
    {
     "data": {
      "text/html": [
       "315"
      ],
      "text/latex": [
       "315"
      ],
      "text/markdown": [
       "315"
      ],
      "text/plain": [
       "[1] 315"
      ]
     },
     "metadata": {},
     "output_type": "display_data"
    },
    {
     "data": {
      "text/html": [
       "315"
      ],
      "text/latex": [
       "315"
      ],
      "text/markdown": [
       "315"
      ],
      "text/plain": [
       "[1] 315"
      ]
     },
     "metadata": {},
     "output_type": "display_data"
    }
   ],
   "source": [
    "ncol(df)\n",
    "ncol(df0)"
   ]
  },
  {
   "cell_type": "code",
   "execution_count": 19,
   "id": "904f864b",
   "metadata": {},
   "outputs": [
    {
     "name": "stderr",
     "output_type": "stream",
     "text": [
      "Warning message in cor(df0[, gene], df[, gene]):\n",
      "“the standard deviation is zero”"
     ]
    }
   ],
   "source": [
    "r = c()\n",
    "for (gene in colnames(df)){\n",
    "    r = c(r,cor(df0[,gene],df[,gene]))\n",
    "}"
   ]
  },
  {
   "cell_type": "code",
   "execution_count": 20,
   "id": "c11173bf",
   "metadata": {},
   "outputs": [
    {
     "data": {
      "image/png": "[encoded data removed]",
      "text/plain": [
       "Plot with title “Histogram of r”"
      ]
     },
     "metadata": {},
     "output_type": "display_data"
    }
   ],
   "source": [
    "hist(r)"
   ]
  },
  {
   "cell_type": "code",
   "execution_count": 21,
   "id": "84674dac",
   "metadata": {},
   "outputs": [
    {
     "data": {
      "text/html": [
       "<ol class=list-inline>\n",
       "\t<li>-0.150169016512707</li>\n",
       "\t<li>-0.155988894865478</li>\n",
       "\t<li>0.0763020718942149</li>\n",
       "\t<li>-0.360681089415076</li>\n",
       "\t<li>0.034659075906195</li>\n",
       "\t<li>-0.201689662296226</li>\n",
       "</ol>\n"
      ],
      "text/latex": [
       "\\begin{enumerate*}\n",
       "\\item -0.150169016512707\n",
       "\\item -0.155988894865478\n",
       "\\item 0.0763020718942149\n",
       "\\item -0.360681089415076\n",
       "\\item 0.034659075906195\n",
       "\\item -0.201689662296226\n",
       "\\end{enumerate*}\n"
      ],
      "text/markdown": [
       "1. -0.150169016512707\n",
       "2. -0.155988894865478\n",
       "3. 0.0763020718942149\n",
       "4. -0.360681089415076\n",
       "5. 0.034659075906195\n",
       "6. -0.201689662296226\n",
       "\n",
       "\n"
      ],
      "text/plain": [
       "[1] -0.15016902 -0.15598889  0.07630207 -0.36068109  0.03465908 -0.20168966"
      ]
     },
     "metadata": {},
     "output_type": "display_data"
    }
   ],
   "source": [
    "head(r)"
   ]
  },
  {
   "cell_type": "code",
   "execution_count": 22,
   "id": "867693a0",
   "metadata": {},
   "outputs": [
    {
     "data": {
      "text/html": [
       "<table>\n",
       "<thead><tr><th scope=col>r</th><th scope=col>r2</th></tr></thead>\n",
       "<tbody>\n",
       "\t<tr><td>-0.1501690</td><td>0.02255073</td></tr>\n",
       "\t<tr><td>-0.1559889</td><td>0.02433254</td></tr>\n",
       "</tbody>\n",
       "</table>\n"
      ],
      "text/latex": [
       "\\begin{tabular}{r|ll}\n",
       " r & r2\\\\\n",
       "\\hline\n",
       "\t -0.1501690 & 0.02255073\\\\\n",
       "\t -0.1559889 & 0.02433254\\\\\n",
       "\\end{tabular}\n"
      ],
      "text/markdown": [
       "\n",
       "| r | r2 |\n",
       "|---|---|\n",
       "| -0.1501690 | 0.02255073 |\n",
       "| -0.1559889 | 0.02433254 |\n",
       "\n"
      ],
      "text/plain": [
       "  r          r2        \n",
       "1 -0.1501690 0.02255073\n",
       "2 -0.1559889 0.02433254"
      ]
     },
     "metadata": {},
     "output_type": "display_data"
    }
   ],
   "source": [
    "df1 = data.frame(r =r , r2 = r**2)\n",
    "head(df1,2)"
   ]
  },
  {
   "cell_type": "code",
   "execution_count": 23,
   "id": "639ddfec",
   "metadata": {},
   "outputs": [
    {
     "name": "stderr",
     "output_type": "stream",
     "text": [
      "`stat_bin()` using `bins = 30`. Pick better value with `binwidth`.\n",
      "Warning message:\n",
      "“Removed 1 rows containing non-finite values (stat_bin).”"
     ]
    },
    {
     "data": {
      "image/png": "[encoded data removed]",
      "text/plain": [
       "plot without title"
      ]
     },
     "metadata": {},
     "output_type": "display_data"
    }
   ],
   "source": [
    "options(repr.plot.width=6, repr.plot.height=4)\n",
    "ggplot(df1, aes(x=r)) + geom_histogram(alpha = 0.8) + \n",
    "    xlab(\"Correlation of expression vs genetic effect dynamics\") + \n",
    "    ylab(\"Number of genes\") + theme_minimal()"
   ]
  },
  {
   "cell_type": "code",
   "execution_count": 24,
   "id": "4e9b007c",
   "metadata": {},
   "outputs": [
    {
     "name": "stderr",
     "output_type": "stream",
     "text": [
      "`stat_bin()` using `bins = 30`. Pick better value with `binwidth`.\n",
      "Warning message:\n",
      "“Removed 1 rows containing non-finite values (stat_bin).”Warning message:\n",
      "“Removed 1 rows containing missing values (geom_bar).”"
     ]
    },
    {
     "data": {
      "image/png": "[encoded data removed]",
      "text/plain": [
       "plot without title"
      ]
     },
     "metadata": {},
     "output_type": "display_data"
    }
   ],
   "source": [
    "options(repr.plot.width=6, repr.plot.height=4)\n",
    "ggplot(df1, aes(x=r)) + geom_histogram(alpha = 0.8) + xlim(c(-0.95,0.95)) +\n",
    "    xlab(\"Correlation of expression vs genetic effect dynamics\") + \n",
    "    ylab(\"Number of genes\") + theme_bw() + theme(text = element_text(size=15))"
   ]
  },
  {
   "cell_type": "code",
   "execution_count": null,
   "id": "1751cf00",
   "metadata": {},
   "outputs": [],
   "source": []
  },
  {
   "cell_type": "code",
   "execution_count": 25,
   "id": "9f2e0bd2",
   "metadata": {},
   "outputs": [
    {
     "name": "stderr",
     "output_type": "stream",
     "text": [
      "`stat_bin()` using `bins = 30`. Pick better value with `binwidth`.\n",
      "Warning message:\n",
      "“Removed 1 rows containing non-finite values (stat_bin).”"
     ]
    },
    {
     "data": {
      "image/png": "[encoded data removed]",
      "text/plain": [
       "plot without title"
      ]
     },
     "metadata": {},
     "output_type": "display_data"
    }
   ],
   "source": [
    "ggplot(df1, aes(x=r2)) + geom_histogram(alpha = 0.8) + \n",
    "    xlab(\"Correlation of expression vs genetic effect dynamics\") + \n",
    "    ylab(\"Number of genes\") + theme_minimal()"
   ]
  },
  {
   "cell_type": "code",
   "execution_count": 26,
   "id": "609d51a1",
   "metadata": {},
   "outputs": [
    {
     "data": {
      "text/html": [
       "41"
      ],
      "text/latex": [
       "41"
      ],
      "text/markdown": [
       "41"
      ],
      "text/plain": [
       "[1] 41"
      ]
     },
     "metadata": {},
     "output_type": "display_data"
    },
    {
     "data": {
      "text/html": [
       "0.13015873015873"
      ],
      "text/latex": [
       "0.13015873015873"
      ],
      "text/markdown": [
       "0.13015873015873"
      ],
      "text/plain": [
       "[1] 0.1301587"
      ]
     },
     "metadata": {},
     "output_type": "display_data"
    }
   ],
   "source": [
    "nrow(df1[df1$r2>0.2,])\n",
    "nrow(df1[df1$r2>0.2,])/nrow(df1)"
   ]
  },
  {
   "cell_type": "code",
   "execution_count": 31,
   "id": "249afdee",
   "metadata": {},
   "outputs": [],
   "source": [
    "# df1[df1$r2>0.2,]"
   ]
  },
  {
   "cell_type": "code",
   "execution_count": 28,
   "id": "5a5713bd",
   "metadata": {},
   "outputs": [
    {
     "data": {
      "text/html": [
       "25"
      ],
      "text/latex": [
       "25"
      ],
      "text/markdown": [
       "25"
      ],
      "text/plain": [
       "[1] 25"
      ]
     },
     "metadata": {},
     "output_type": "display_data"
    },
    {
     "data": {
      "text/html": [
       "17"
      ],
      "text/latex": [
       "17"
      ],
      "text/markdown": [
       "17"
      ],
      "text/plain": [
       "[1] 17"
      ]
     },
     "metadata": {},
     "output_type": "display_data"
    }
   ],
   "source": [
    "nrow(df1[df1$r2>0.2 & df1$r>0,])\n",
    "nrow(df1[df1$r2>0.2 & df1$r<0,])"
   ]
  },
  {
   "cell_type": "code",
   "execution_count": 29,
   "id": "c8ded02d",
   "metadata": {},
   "outputs": [
    {
     "data": {
      "text/html": [
       "<table>\n",
       "<thead><tr><th scope=col>r</th><th scope=col>r2</th><th scope=col>gene</th></tr></thead>\n",
       "<tbody>\n",
       "\t<tr><td>-0.15016902             </td><td>0.022550734             </td><td>ENSG00000005059_CCDC109B</td></tr>\n",
       "\t<tr><td>-0.15598889             </td><td>0.024332535             </td><td>ENSG00000006016_CRLF1   </td></tr>\n",
       "\t<tr><td> 0.07630207             </td><td>0.005822006             </td><td>ENSG00000006459_KDM7A   </td></tr>\n",
       "\t<tr><td>-0.36068109             </td><td>0.130090848             </td><td>ENSG00000013297_CLDN11  </td></tr>\n",
       "\t<tr><td> 0.03465908             </td><td>0.001201252             </td><td>ENSG00000021300_PLEKHB1 </td></tr>\n",
       "\t<tr><td>-0.20168966             </td><td>0.040678720             </td><td>ENSG00000029639_TFB1M   </td></tr>\n",
       "</tbody>\n",
       "</table>\n"
      ],
      "text/latex": [
       "\\begin{tabular}{r|lll}\n",
       " r & r2 & gene\\\\\n",
       "\\hline\n",
       "\t -0.15016902                & 0.022550734                & ENSG00000005059\\_CCDC109B\\\\\n",
       "\t -0.15598889                & 0.024332535                & ENSG00000006016\\_CRLF1   \\\\\n",
       "\t  0.07630207                & 0.005822006                & ENSG00000006459\\_KDM7A   \\\\\n",
       "\t -0.36068109                & 0.130090848                & ENSG00000013297\\_CLDN11  \\\\\n",
       "\t  0.03465908                & 0.001201252                & ENSG00000021300\\_PLEKHB1 \\\\\n",
       "\t -0.20168966                & 0.040678720                & ENSG00000029639\\_TFB1M   \\\\\n",
       "\\end{tabular}\n"
      ],
      "text/markdown": [
       "\n",
       "| r | r2 | gene |\n",
       "|---|---|---|\n",
       "| -0.15016902              | 0.022550734              | ENSG00000005059_CCDC109B |\n",
       "| -0.15598889              | 0.024332535              | ENSG00000006016_CRLF1    |\n",
       "|  0.07630207              | 0.005822006              | ENSG00000006459_KDM7A    |\n",
       "| -0.36068109              | 0.130090848              | ENSG00000013297_CLDN11   |\n",
       "|  0.03465908              | 0.001201252              | ENSG00000021300_PLEKHB1  |\n",
       "| -0.20168966              | 0.040678720              | ENSG00000029639_TFB1M    |\n",
       "\n"
      ],
      "text/plain": [
       "  r           r2          gene                    \n",
       "1 -0.15016902 0.022550734 ENSG00000005059_CCDC109B\n",
       "2 -0.15598889 0.024332535 ENSG00000006016_CRLF1   \n",
       "3  0.07630207 0.005822006 ENSG00000006459_KDM7A   \n",
       "4 -0.36068109 0.130090848 ENSG00000013297_CLDN11  \n",
       "5  0.03465908 0.001201252 ENSG00000021300_PLEKHB1 \n",
       "6 -0.20168966 0.040678720 ENSG00000029639_TFB1M   "
      ]
     },
     "metadata": {},
     "output_type": "display_data"
    }
   ],
   "source": [
    "df1$gene = colnames(df)\n",
    "head(df1)\n",
    "df_corr = df1"
   ]
  },
  {
   "cell_type": "code",
   "execution_count": 32,
   "id": "7c40b796",
   "metadata": {},
   "outputs": [
    {
     "data": {
      "text/html": [
       "<ol class=list-inline>\n",
       "\t<li>'ENSG00000068697_LAPTM4A'</li>\n",
       "\t<li>'ENSG00000075340_ADD2'</li>\n",
       "\t<li>'ENSG00000077942_FBLN1'</li>\n",
       "\t<li>'ENSG00000106018_VIPR2'</li>\n",
       "\t<li>'ENSG00000110931_CAMKK2'</li>\n",
       "\t<li>'ENSG00000111704_NANOG'</li>\n",
       "\t<li>'ENSG00000111913_FAM65B'</li>\n",
       "\t<li>'ENSG00000114638_UPK1B'</li>\n",
       "\t<li>'ENSG00000117834_SLC5A9'</li>\n",
       "\t<li>'ENSG00000118785_SPP1'</li>\n",
       "\t<li>'ENSG00000120675_DNAJC15'</li>\n",
       "\t<li>'ENSG00000124839_RAB17'</li>\n",
       "\t<li>'ENSG00000125144_MT1G'</li>\n",
       "\t<li>'ENSG00000128394_APOBEC3F'</li>\n",
       "\t<li>'ENSG00000129991_TNNI3'</li>\n",
       "\t<li>'ENSG00000132031_MATN3'</li>\n",
       "\t<li>'ENSG00000132386_SERPINF1'</li>\n",
       "\t<li>'ENSG00000135480_KRT7'</li>\n",
       "\t<li>'ENSG00000141052_MYOCD'</li>\n",
       "\t<li>'ENSG00000142089_IFITM3'</li>\n",
       "\t<li>'ENSG00000142173_COL6A2'</li>\n",
       "\t<li>'ENSG00000143494_VASH2'</li>\n",
       "\t<li>'ENSG00000144120_TMEM177'</li>\n",
       "\t<li>'ENSG00000144476_ACKR3'</li>\n",
       "\t<li>'ENSG00000151725_CENPU'</li>\n",
       "\t<li>'ENSG00000155366_RHOC'</li>\n",
       "\t<li>'ENSG00000159182_PRAC1'</li>\n",
       "\t<li>'ENSG00000165617_DACT1'</li>\n",
       "\t<li>'ENSG00000166922_SCG5'</li>\n",
       "\t<li>'ENSG00000173401_GLIPR1L1'</li>\n",
       "\t<li>'ENSG00000174469_CNTNAP2'</li>\n",
       "\t<li>'ENSG00000176654_NANOGP1'</li>\n",
       "\t<li>'ENSG00000184809_C21orf88'</li>\n",
       "\t<li>'ENSG00000196116_TDRD7'</li>\n",
       "\t<li>'ENSG00000196542_SPTSSB'</li>\n",
       "\t<li>'ENSG00000203805_PPAPDC1A'</li>\n",
       "\t<li>'ENSG00000204531_POU5F1'</li>\n",
       "\t<li>'ENSG00000204711_C9orf135'</li>\n",
       "\t<li>'ENSG00000211772_TRBC2'</li>\n",
       "\t<li>'ENSG00000214076_CPSF1P1'</li>\n",
       "\t<li>NA</li>\n",
       "</ol>\n"
      ],
      "text/latex": [
       "\\begin{enumerate*}\n",
       "\\item 'ENSG00000068697\\_LAPTM4A'\n",
       "\\item 'ENSG00000075340\\_ADD2'\n",
       "\\item 'ENSG00000077942\\_FBLN1'\n",
       "\\item 'ENSG00000106018\\_VIPR2'\n",
       "\\item 'ENSG00000110931\\_CAMKK2'\n",
       "\\item 'ENSG00000111704\\_NANOG'\n",
       "\\item 'ENSG00000111913\\_FAM65B'\n",
       "\\item 'ENSG00000114638\\_UPK1B'\n",
       "\\item 'ENSG00000117834\\_SLC5A9'\n",
       "\\item 'ENSG00000118785\\_SPP1'\n",
       "\\item 'ENSG00000120675\\_DNAJC15'\n",
       "\\item 'ENSG00000124839\\_RAB17'\n",
       "\\item 'ENSG00000125144\\_MT1G'\n",
       "\\item 'ENSG00000128394\\_APOBEC3F'\n",
       "\\item 'ENSG00000129991\\_TNNI3'\n",
       "\\item 'ENSG00000132031\\_MATN3'\n",
       "\\item 'ENSG00000132386\\_SERPINF1'\n",
       "\\item 'ENSG00000135480\\_KRT7'\n",
       "\\item 'ENSG00000141052\\_MYOCD'\n",
       "\\item 'ENSG00000142089\\_IFITM3'\n",
       "\\item 'ENSG00000142173\\_COL6A2'\n",
       "\\item 'ENSG00000143494\\_VASH2'\n",
       "\\item 'ENSG00000144120\\_TMEM177'\n",
       "\\item 'ENSG00000144476\\_ACKR3'\n",
       "\\item 'ENSG00000151725\\_CENPU'\n",
       "\\item 'ENSG00000155366\\_RHOC'\n",
       "\\item 'ENSG00000159182\\_PRAC1'\n",
       "\\item 'ENSG00000165617\\_DACT1'\n",
       "\\item 'ENSG00000166922\\_SCG5'\n",
       "\\item 'ENSG00000173401\\_GLIPR1L1'\n",
       "\\item 'ENSG00000174469\\_CNTNAP2'\n",
       "\\item 'ENSG00000176654\\_NANOGP1'\n",
       "\\item 'ENSG00000184809\\_C21orf88'\n",
       "\\item 'ENSG00000196116\\_TDRD7'\n",
       "\\item 'ENSG00000196542\\_SPTSSB'\n",
       "\\item 'ENSG00000203805\\_PPAPDC1A'\n",
       "\\item 'ENSG00000204531\\_POU5F1'\n",
       "\\item 'ENSG00000204711\\_C9orf135'\n",
       "\\item 'ENSG00000211772\\_TRBC2'\n",
       "\\item 'ENSG00000214076\\_CPSF1P1'\n",
       "\\item NA\n",
       "\\end{enumerate*}\n"
      ],
      "text/markdown": [
       "1. 'ENSG00000068697_LAPTM4A'\n",
       "2. 'ENSG00000075340_ADD2'\n",
       "3. 'ENSG00000077942_FBLN1'\n",
       "4. 'ENSG00000106018_VIPR2'\n",
       "5. 'ENSG00000110931_CAMKK2'\n",
       "6. 'ENSG00000111704_NANOG'\n",
       "7. 'ENSG00000111913_FAM65B'\n",
       "8. 'ENSG00000114638_UPK1B'\n",
       "9. 'ENSG00000117834_SLC5A9'\n",
       "10. 'ENSG00000118785_SPP1'\n",
       "11. 'ENSG00000120675_DNAJC15'\n",
       "12. 'ENSG00000124839_RAB17'\n",
       "13. 'ENSG00000125144_MT1G'\n",
       "14. 'ENSG00000128394_APOBEC3F'\n",
       "15. 'ENSG00000129991_TNNI3'\n",
       "16. 'ENSG00000132031_MATN3'\n",
       "17. 'ENSG00000132386_SERPINF1'\n",
       "18. 'ENSG00000135480_KRT7'\n",
       "19. 'ENSG00000141052_MYOCD'\n",
       "20. 'ENSG00000142089_IFITM3'\n",
       "21. 'ENSG00000142173_COL6A2'\n",
       "22. 'ENSG00000143494_VASH2'\n",
       "23. 'ENSG00000144120_TMEM177'\n",
       "24. 'ENSG00000144476_ACKR3'\n",
       "25. 'ENSG00000151725_CENPU'\n",
       "26. 'ENSG00000155366_RHOC'\n",
       "27. 'ENSG00000159182_PRAC1'\n",
       "28. 'ENSG00000165617_DACT1'\n",
       "29. 'ENSG00000166922_SCG5'\n",
       "30. 'ENSG00000173401_GLIPR1L1'\n",
       "31. 'ENSG00000174469_CNTNAP2'\n",
       "32. 'ENSG00000176654_NANOGP1'\n",
       "33. 'ENSG00000184809_C21orf88'\n",
       "34. 'ENSG00000196116_TDRD7'\n",
       "35. 'ENSG00000196542_SPTSSB'\n",
       "36. 'ENSG00000203805_PPAPDC1A'\n",
       "37. 'ENSG00000204531_POU5F1'\n",
       "38. 'ENSG00000204711_C9orf135'\n",
       "39. 'ENSG00000211772_TRBC2'\n",
       "40. 'ENSG00000214076_CPSF1P1'\n",
       "41. NA\n",
       "\n",
       "\n"
      ],
      "text/plain": [
       " [1] \"ENSG00000068697_LAPTM4A\"  \"ENSG00000075340_ADD2\"    \n",
       " [3] \"ENSG00000077942_FBLN1\"    \"ENSG00000106018_VIPR2\"   \n",
       " [5] \"ENSG00000110931_CAMKK2\"   \"ENSG00000111704_NANOG\"   \n",
       " [7] \"ENSG00000111913_FAM65B\"   \"ENSG00000114638_UPK1B\"   \n",
       " [9] \"ENSG00000117834_SLC5A9\"   \"ENSG00000118785_SPP1\"    \n",
       "[11] \"ENSG00000120675_DNAJC15\"  \"ENSG00000124839_RAB17\"   \n",
       "[13] \"ENSG00000125144_MT1G\"     \"ENSG00000128394_APOBEC3F\"\n",
       "[15] \"ENSG00000129991_TNNI3\"    \"ENSG00000132031_MATN3\"   \n",
       "[17] \"ENSG00000132386_SERPINF1\" \"ENSG00000135480_KRT7\"    \n",
       "[19] \"ENSG00000141052_MYOCD\"    \"ENSG00000142089_IFITM3\"  \n",
       "[21] \"ENSG00000142173_COL6A2\"   \"ENSG00000143494_VASH2\"   \n",
       "[23] \"ENSG00000144120_TMEM177\"  \"ENSG00000144476_ACKR3\"   \n",
       "[25] \"ENSG00000151725_CENPU\"    \"ENSG00000155366_RHOC\"    \n",
       "[27] \"ENSG00000159182_PRAC1\"    \"ENSG00000165617_DACT1\"   \n",
       "[29] \"ENSG00000166922_SCG5\"     \"ENSG00000173401_GLIPR1L1\"\n",
       "[31] \"ENSG00000174469_CNTNAP2\"  \"ENSG00000176654_NANOGP1\" \n",
       "[33] \"ENSG00000184809_C21orf88\" \"ENSG00000196116_TDRD7\"   \n",
       "[35] \"ENSG00000196542_SPTSSB\"   \"ENSG00000203805_PPAPDC1A\"\n",
       "[37] \"ENSG00000204531_POU5F1\"   \"ENSG00000204711_C9orf135\"\n",
       "[39] \"ENSG00000211772_TRBC2\"    \"ENSG00000214076_CPSF1P1\" \n",
       "[41] NA                        "
      ]
     },
     "metadata": {},
     "output_type": "display_data"
    }
   ],
   "source": [
    "df_corr[df_corr$r2>0.2,\"gene\"]"
   ]
  },
  {
   "cell_type": "code",
   "execution_count": 33,
   "id": "a2e629fa",
   "metadata": {},
   "outputs": [],
   "source": [
    "mydir = \"/hps/nobackup2/stegle/users/acuomo/all_scripts/struct_LMM2/sc_endodiff/debug_May2021/\""
   ]
  },
  {
   "cell_type": "code",
   "execution_count": 34,
   "id": "3eecb739",
   "metadata": {},
   "outputs": [
    {
     "data": {
      "text/html": [
       "4470"
      ],
      "text/latex": [
       "4470"
      ],
      "text/markdown": [
       "4470"
      ],
      "text/plain": [
       "[1] 4470"
      ]
     },
     "metadata": {},
     "output_type": "display_data"
    },
    {
     "data": {
      "text/html": [
       "<table>\n",
       "<thead><tr><th></th><th scope=col>gene</th><th scope=col>n_snps</th><th scope=col>chrom</th><th scope=col>pv_raw</th><th scope=col>snpID</th><th scope=col>pv</th></tr></thead>\n",
       "<tbody>\n",
       "\t<tr><th scope=row>0</th><td>ENSG00000140905_GCSH </td><td>1                    </td><td>16                   </td><td>0.02606257           </td><td>16_81118466_A_G      </td><td>0.02606257           </td></tr>\n",
       "\t<tr><th scope=row>1</th><td>ENSG00000011523_CEP68</td><td>2                    </td><td> 2                   </td><td>0.03995225           </td><td>2_65279223_C_T       </td><td>0.07990451           </td></tr>\n",
       "</tbody>\n",
       "</table>\n"
      ],
      "text/latex": [
       "\\begin{tabular}{r|llllll}\n",
       "  & gene & n\\_snps & chrom & pv\\_raw & snpID & pv\\\\\n",
       "\\hline\n",
       "\t0 & ENSG00000140905\\_GCSH  & 1                       & 16                      & 0.02606257              & 16\\_81118466\\_A\\_G   & 0.02606257             \\\\\n",
       "\t1 & ENSG00000011523\\_CEP68 & 2                       &  2                      & 0.03995225              & 2\\_65279223\\_C\\_T    & 0.07990451             \\\\\n",
       "\\end{tabular}\n"
      ],
      "text/markdown": [
       "\n",
       "| <!--/--> | gene | n_snps | chrom | pv_raw | snpID | pv |\n",
       "|---|---|---|---|---|---|---|\n",
       "| 0 | ENSG00000140905_GCSH  | 1                     | 16                    | 0.02606257            | 16_81118466_A_G       | 0.02606257            |\n",
       "| 1 | ENSG00000011523_CEP68 | 2                     |  2                    | 0.03995225            | 2_65279223_C_T        | 0.07990451            |\n",
       "\n"
      ],
      "text/plain": [
       "  gene                  n_snps chrom pv_raw     snpID           pv        \n",
       "0 ENSG00000140905_GCSH  1      16    0.02606257 16_81118466_A_G 0.02606257\n",
       "1 ENSG00000011523_CEP68 2       2    0.03995225 2_65279223_C_T  0.07990451"
      ]
     },
     "metadata": {},
     "output_type": "display_data"
    }
   ],
   "source": [
    "########## MOFA 1:10\n",
    "# results when using MOFA components 1-10 as cell context\n",
    "file1 = paste0(mydir, \"MOFA10/new4/summary.csv\")\n",
    "df1 = read.csv(file1, row.names=1)\n",
    "nrow(df1)\n",
    "head(df1,2)"
   ]
  },
  {
   "cell_type": "code",
   "execution_count": 35,
   "id": "13df8826",
   "metadata": {},
   "outputs": [
    {
     "data": {
      "text/html": [
       "411"
      ],
      "text/latex": [
       "411"
      ],
      "text/markdown": [
       "411"
      ],
      "text/plain": [
       "[1] 411"
      ]
     },
     "metadata": {},
     "output_type": "display_data"
    },
    {
     "data": {
      "text/html": [
       "315"
      ],
      "text/latex": [
       "315"
      ],
      "text/markdown": [
       "315"
      ],
      "text/plain": [
       "[1] 315"
      ]
     },
     "metadata": {},
     "output_type": "display_data"
    }
   ],
   "source": [
    "df1$qv = qvalue(df1$pv, pi0 = 1)$qvalue\n",
    "# significant eQTLs (FDR<5%)\n",
    "nrow(df1[df1$qv<0.05,])\n",
    "# significant eGenes (FDR<5%)\n",
    "length(unique(df1[df1$qv<0.05,\"gene\"]))\n",
    "df_GxC = df1"
   ]
  },
  {
   "cell_type": "code",
   "execution_count": 36,
   "id": "93c77fba",
   "metadata": {},
   "outputs": [
    {
     "data": {
      "text/html": [
       "<table>\n",
       "<thead><tr><th></th><th scope=col>gene</th><th scope=col>n_snps</th><th scope=col>chrom</th><th scope=col>pv_raw</th><th scope=col>snpID</th><th scope=col>pv</th><th scope=col>qv</th></tr></thead>\n",
       "<tbody>\n",
       "\t<tr><th scope=row>0</th><td>ENSG00000140905_GCSH </td><td>1                    </td><td>16                   </td><td>0.02606257           </td><td>16_81118466_A_G      </td><td>0.02606257           </td><td>0.1846271            </td></tr>\n",
       "\t<tr><th scope=row>1</th><td>ENSG00000011523_CEP68</td><td>2                    </td><td> 2                   </td><td>0.03995225           </td><td>2_65279223_C_T       </td><td>0.07990451           </td><td>0.3951030            </td></tr>\n",
       "\t<tr><th scope=row>2</th><td>ENSG00000011523_CEP68</td><td>2                    </td><td> 2                   </td><td>0.11966021           </td><td>2_65290842_C_A       </td><td>0.23932042           </td><td>0.7208641            </td></tr>\n",
       "\t<tr><th scope=row>3</th><td>ENSG00000178814_OPLAH</td><td>1                    </td><td> 8                   </td><td>0.92344836           </td><td>8_145114924_G_C      </td><td>0.92344836           </td><td>1.0000000            </td></tr>\n",
       "\t<tr><th scope=row>4</th><td>ENSG00000013583_HEBP1</td><td>1                    </td><td>12                   </td><td>0.46967349           </td><td>12_13154105_A_T      </td><td>0.46967349           </td><td>0.9751233            </td></tr>\n",
       "\t<tr><th scope=row>5</th><td>ENSG00000143942_CHAC2</td><td>1                    </td><td> 2                   </td><td>0.68758852           </td><td>2_54010876_C_A       </td><td>0.68758852           </td><td>1.0000000            </td></tr>\n",
       "</tbody>\n",
       "</table>\n"
      ],
      "text/latex": [
       "\\begin{tabular}{r|lllllll}\n",
       "  & gene & n\\_snps & chrom & pv\\_raw & snpID & pv & qv\\\\\n",
       "\\hline\n",
       "\t0 & ENSG00000140905\\_GCSH  & 1                       & 16                      & 0.02606257              & 16\\_81118466\\_A\\_G   & 0.02606257              & 0.1846271              \\\\\n",
       "\t1 & ENSG00000011523\\_CEP68 & 2                       &  2                      & 0.03995225              & 2\\_65279223\\_C\\_T    & 0.07990451              & 0.3951030              \\\\\n",
       "\t2 & ENSG00000011523\\_CEP68 & 2                       &  2                      & 0.11966021              & 2\\_65290842\\_C\\_A    & 0.23932042              & 0.7208641              \\\\\n",
       "\t3 & ENSG00000178814\\_OPLAH & 1                       &  8                      & 0.92344836              & 8\\_145114924\\_G\\_C   & 0.92344836              & 1.0000000              \\\\\n",
       "\t4 & ENSG00000013583\\_HEBP1 & 1                       & 12                      & 0.46967349              & 12\\_13154105\\_A\\_T   & 0.46967349              & 0.9751233              \\\\\n",
       "\t5 & ENSG00000143942\\_CHAC2 & 1                       &  2                      & 0.68758852              & 2\\_54010876\\_C\\_A    & 0.68758852              & 1.0000000              \\\\\n",
       "\\end{tabular}\n"
      ],
      "text/markdown": [
       "\n",
       "| <!--/--> | gene | n_snps | chrom | pv_raw | snpID | pv | qv |\n",
       "|---|---|---|---|---|---|---|---|\n",
       "| 0 | ENSG00000140905_GCSH  | 1                     | 16                    | 0.02606257            | 16_81118466_A_G       | 0.02606257            | 0.1846271             |\n",
       "| 1 | ENSG00000011523_CEP68 | 2                     |  2                    | 0.03995225            | 2_65279223_C_T        | 0.07990451            | 0.3951030             |\n",
       "| 2 | ENSG00000011523_CEP68 | 2                     |  2                    | 0.11966021            | 2_65290842_C_A        | 0.23932042            | 0.7208641             |\n",
       "| 3 | ENSG00000178814_OPLAH | 1                     |  8                    | 0.92344836            | 8_145114924_G_C       | 0.92344836            | 1.0000000             |\n",
       "| 4 | ENSG00000013583_HEBP1 | 1                     | 12                    | 0.46967349            | 12_13154105_A_T       | 0.46967349            | 0.9751233             |\n",
       "| 5 | ENSG00000143942_CHAC2 | 1                     |  2                    | 0.68758852            | 2_54010876_C_A        | 0.68758852            | 1.0000000             |\n",
       "\n"
      ],
      "text/plain": [
       "  gene                  n_snps chrom pv_raw     snpID           pv        \n",
       "0 ENSG00000140905_GCSH  1      16    0.02606257 16_81118466_A_G 0.02606257\n",
       "1 ENSG00000011523_CEP68 2       2    0.03995225 2_65279223_C_T  0.07990451\n",
       "2 ENSG00000011523_CEP68 2       2    0.11966021 2_65290842_C_A  0.23932042\n",
       "3 ENSG00000178814_OPLAH 1       8    0.92344836 8_145114924_G_C 0.92344836\n",
       "4 ENSG00000013583_HEBP1 1      12    0.46967349 12_13154105_A_T 0.46967349\n",
       "5 ENSG00000143942_CHAC2 1       2    0.68758852 2_54010876_C_A  0.68758852\n",
       "  qv       \n",
       "0 0.1846271\n",
       "1 0.3951030\n",
       "2 0.7208641\n",
       "3 1.0000000\n",
       "4 0.9751233\n",
       "5 1.0000000"
      ]
     },
     "metadata": {},
     "output_type": "display_data"
    }
   ],
   "source": [
    "head(df_GxC)"
   ]
  },
  {
   "cell_type": "code",
   "execution_count": 37,
   "id": "886668fd",
   "metadata": {},
   "outputs": [
    {
     "name": "stderr",
     "output_type": "stream",
     "text": [
      "Joining, by = \"gene\"\n"
     ]
    },
    {
     "data": {
      "text/html": [
       "488"
      ],
      "text/latex": [
       "488"
      ],
      "text/markdown": [
       "488"
      ],
      "text/plain": [
       "[1] 488"
      ]
     },
     "metadata": {},
     "output_type": "display_data"
    },
    {
     "data": {
      "text/html": [
       "<table>\n",
       "<thead><tr><th scope=col>r</th><th scope=col>r2</th><th scope=col>gene</th><th scope=col>n_snps</th><th scope=col>chrom</th><th scope=col>pv_raw</th><th scope=col>snpID</th><th scope=col>pv</th><th scope=col>qv</th></tr></thead>\n",
       "<tbody>\n",
       "\t<tr><td>-0.15016902             </td><td>0.022550734             </td><td>ENSG00000005059_CCDC109B</td><td>2                       </td><td> 4                      </td><td>0.5899743221            </td><td>4_110425176_T_C         </td><td>1.0000000000            </td><td>1.000000000             </td></tr>\n",
       "\t<tr><td>-0.15016902             </td><td>0.022550734             </td><td>ENSG00000005059_CCDC109B</td><td>2                       </td><td> 4                      </td><td>0.0002403215            </td><td>4_110648632_T_A         </td><td>0.0004806430            </td><td>0.007728324             </td></tr>\n",
       "\t<tr><td>-0.15598889             </td><td>0.024332535             </td><td>ENSG00000006016_CRLF1   </td><td>2                       </td><td>19                      </td><td>0.0215849558            </td><td>19_18669987_G_A         </td><td>0.0431699115            </td><td>0.261373000             </td></tr>\n",
       "\t<tr><td>-0.15598889             </td><td>0.024332535             </td><td>ENSG00000006016_CRLF1   </td><td>2                       </td><td>19                      </td><td>0.0007949091            </td><td>19_18735221_G_T         </td><td>0.0015898181            </td><td>0.020840138             </td></tr>\n",
       "\t<tr><td> 0.07630207             </td><td>0.005822006             </td><td>ENSG00000006459_KDM7A   </td><td>1                       </td><td> 7                      </td><td>0.0012994405            </td><td>7_139913409_G_A         </td><td>0.0012994405            </td><td>0.017762995             </td></tr>\n",
       "\t<tr><td>-0.36068109             </td><td>0.130090848             </td><td>ENSG00000013297_CLDN11  </td><td>1                       </td><td> 3                      </td><td>0.0001910597            </td><td>3_170402765_T_C         </td><td>0.0001910597            </td><td>0.003457640             </td></tr>\n",
       "</tbody>\n",
       "</table>\n"
      ],
      "text/latex": [
       "\\begin{tabular}{r|lllllllll}\n",
       " r & r2 & gene & n\\_snps & chrom & pv\\_raw & snpID & pv & qv\\\\\n",
       "\\hline\n",
       "\t -0.15016902                & 0.022550734                & ENSG00000005059\\_CCDC109B & 2                          &  4                         & 0.5899743221               & 4\\_110425176\\_T\\_C      & 1.0000000000               & 1.000000000               \\\\\n",
       "\t -0.15016902                & 0.022550734                & ENSG00000005059\\_CCDC109B & 2                          &  4                         & 0.0002403215               & 4\\_110648632\\_T\\_A      & 0.0004806430               & 0.007728324               \\\\\n",
       "\t -0.15598889                & 0.024332535                & ENSG00000006016\\_CRLF1    & 2                          & 19                         & 0.0215849558               & 19\\_18669987\\_G\\_A      & 0.0431699115               & 0.261373000               \\\\\n",
       "\t -0.15598889                & 0.024332535                & ENSG00000006016\\_CRLF1    & 2                          & 19                         & 0.0007949091               & 19\\_18735221\\_G\\_T      & 0.0015898181               & 0.020840138               \\\\\n",
       "\t  0.07630207                & 0.005822006                & ENSG00000006459\\_KDM7A    & 1                          &  7                         & 0.0012994405               & 7\\_139913409\\_G\\_A      & 0.0012994405               & 0.017762995               \\\\\n",
       "\t -0.36068109                & 0.130090848                & ENSG00000013297\\_CLDN11   & 1                          &  3                         & 0.0001910597               & 3\\_170402765\\_T\\_C      & 0.0001910597               & 0.003457640               \\\\\n",
       "\\end{tabular}\n"
      ],
      "text/markdown": [
       "\n",
       "| r | r2 | gene | n_snps | chrom | pv_raw | snpID | pv | qv |\n",
       "|---|---|---|---|---|---|---|---|---|\n",
       "| -0.15016902              | 0.022550734              | ENSG00000005059_CCDC109B | 2                        |  4                       | 0.5899743221             | 4_110425176_T_C          | 1.0000000000             | 1.000000000              |\n",
       "| -0.15016902              | 0.022550734              | ENSG00000005059_CCDC109B | 2                        |  4                       | 0.0002403215             | 4_110648632_T_A          | 0.0004806430             | 0.007728324              |\n",
       "| -0.15598889              | 0.024332535              | ENSG00000006016_CRLF1    | 2                        | 19                       | 0.0215849558             | 19_18669987_G_A          | 0.0431699115             | 0.261373000              |\n",
       "| -0.15598889              | 0.024332535              | ENSG00000006016_CRLF1    | 2                        | 19                       | 0.0007949091             | 19_18735221_G_T          | 0.0015898181             | 0.020840138              |\n",
       "|  0.07630207              | 0.005822006              | ENSG00000006459_KDM7A    | 1                        |  7                       | 0.0012994405             | 7_139913409_G_A          | 0.0012994405             | 0.017762995              |\n",
       "| -0.36068109              | 0.130090848              | ENSG00000013297_CLDN11   | 1                        |  3                       | 0.0001910597             | 3_170402765_T_C          | 0.0001910597             | 0.003457640              |\n",
       "\n"
      ],
      "text/plain": [
       "  r           r2          gene                     n_snps chrom pv_raw      \n",
       "1 -0.15016902 0.022550734 ENSG00000005059_CCDC109B 2       4    0.5899743221\n",
       "2 -0.15016902 0.022550734 ENSG00000005059_CCDC109B 2       4    0.0002403215\n",
       "3 -0.15598889 0.024332535 ENSG00000006016_CRLF1    2      19    0.0215849558\n",
       "4 -0.15598889 0.024332535 ENSG00000006016_CRLF1    2      19    0.0007949091\n",
       "5  0.07630207 0.005822006 ENSG00000006459_KDM7A    1       7    0.0012994405\n",
       "6 -0.36068109 0.130090848 ENSG00000013297_CLDN11   1       3    0.0001910597\n",
       "  snpID           pv           qv         \n",
       "1 4_110425176_T_C 1.0000000000 1.000000000\n",
       "2 4_110648632_T_A 0.0004806430 0.007728324\n",
       "3 19_18669987_G_A 0.0431699115 0.261373000\n",
       "4 19_18735221_G_T 0.0015898181 0.020840138\n",
       "5 7_139913409_G_A 0.0012994405 0.017762995\n",
       "6 3_170402765_T_C 0.0001910597 0.003457640"
      ]
     },
     "metadata": {},
     "output_type": "display_data"
    }
   ],
   "source": [
    "df_plot = inner_join(df_corr,df_GxC)\n",
    "nrow(df_plot)\n",
    "head(df_plot)"
   ]
  },
  {
   "cell_type": "code",
   "execution_count": 38,
   "id": "a5234868",
   "metadata": {},
   "outputs": [
    {
     "data": {
      "text/plain": [
       "\n",
       "\tPearson's product-moment correlation\n",
       "\n",
       "data:  -log10(df_plot$pv_raw) and df_plot$r\n",
       "t = 1.8798, df = 485, p-value = 0.06073\n",
       "alternative hypothesis: true correlation is not equal to 0\n",
       "95 percent confidence interval:\n",
       " -0.003834066  0.172599218\n",
       "sample estimates:\n",
       "       cor \n",
       "0.08504923 \n"
      ]
     },
     "metadata": {},
     "output_type": "display_data"
    }
   ],
   "source": [
    "cor.test(-log10(df_plot$pv_raw), df_plot$r)"
   ]
  },
  {
   "cell_type": "code",
   "execution_count": 64,
   "id": "f54094c7",
   "metadata": {},
   "outputs": [
    {
     "name": "stderr",
     "output_type": "stream",
     "text": [
      "Warning message:\n",
      "“Removed 1 rows containing missing values (geom_point).”"
     ]
    },
    {
     "data": {
      "image/png": "[encoded data removed]",
      "text/plain": [
       "plot without title"
      ]
     },
     "metadata": {},
     "output_type": "display_data"
    }
   ],
   "source": [
    "options(repr.plot.width=5, repr.plot.height=5)\n",
    "ggplot(df_plot, aes(y=-log10(pv_raw), x=r)) + geom_point() + theme_bw()"
   ]
  },
  {
   "cell_type": "code",
   "execution_count": 65,
   "id": "c8ef4ad1",
   "metadata": {},
   "outputs": [
    {
     "data": {
      "text/plain": [
       "\n",
       "\tPearson's product-moment correlation\n",
       "\n",
       "data:  -log10(df_plot$pv_raw) and df_plot$r2\n",
       "t = 2.6699, df = 485, p-value = 0.007842\n",
       "alternative hypothesis: true correlation is not equal to 0\n",
       "95 percent confidence interval:\n",
       " 0.03183872 0.20699333\n",
       "sample estimates:\n",
       "      cor \n",
       "0.1203526 \n"
      ]
     },
     "metadata": {},
     "output_type": "display_data"
    }
   ],
   "source": [
    "cor.test(-log10(df_plot$pv_raw), df_plot$r2)"
   ]
  },
  {
   "cell_type": "code",
   "execution_count": 46,
   "id": "e341e2a9",
   "metadata": {},
   "outputs": [
    {
     "name": "stderr",
     "output_type": "stream",
     "text": [
      "Warning message:\n",
      "“Removed 1 rows containing missing values (geom_point).”"
     ]
    },
    {
     "data": {
      "image/png": "[encoded data removed]",
      "text/plain": [
       "plot without title"
      ]
     },
     "metadata": {},
     "output_type": "display_data"
    }
   ],
   "source": [
    "options(repr.plot.width=5, repr.plot.height=5)\n",
    "ggplot(df_plot, aes(y=-log10(pv_raw), x=r2)) + geom_point() + theme_bw() + theme(text = element_text(size=18)) + \n",
    "    xlab(\"R^2 (GxC, expr. profiles)\") + ylab(\"-log10(P)\")"
   ]
  },
  {
   "cell_type": "code",
   "execution_count": null,
   "id": "d2d83430",
   "metadata": {},
   "outputs": [],
   "source": []
  },
  {
   "cell_type": "code",
   "execution_count": null,
   "id": "94bedef7",
   "metadata": {},
   "outputs": [],
   "source": []
  },
  {
   "cell_type": "code",
   "execution_count": null,
   "id": "53e6d721",
   "metadata": {},
   "outputs": [],
   "source": []
  },
  {
   "cell_type": "code",
   "execution_count": 32,
   "id": "07cca8a1",
   "metadata": {},
   "outputs": [
    {
     "data": {
      "text/html": [
       "'ENSG00000005059_CCDC109B'"
      ],
      "text/latex": [
       "'ENSG00000005059\\_CCDC109B'"
      ],
      "text/markdown": [
       "'ENSG00000005059_CCDC109B'"
      ],
      "text/plain": [
       "[1] \"ENSG00000005059_CCDC109B\""
      ]
     },
     "metadata": {},
     "output_type": "display_data"
    },
    {
     "data": {
      "text/plain": [
       "\n",
       "\tPearson's product-moment correlation\n",
       "\n",
       "data:  df0[, gene] and df[, gene]\n",
       "t = -27.992, df = 33962, p-value < 2.2e-16\n",
       "alternative hypothesis: true correlation is not equal to 0\n",
       "95 percent confidence interval:\n",
       " -0.1605477 -0.1397571\n",
       "sample estimates:\n",
       "      cor \n",
       "-0.150169 \n"
      ]
     },
     "metadata": {},
     "output_type": "display_data"
    }
   ],
   "source": [
    "gene = colnames(df)[1]\n",
    "gene\n",
    "cor.test(df0[,gene],df[,gene])"
   ]
  },
  {
   "cell_type": "code",
   "execution_count": 33,
   "id": "3e8ddd8a",
   "metadata": {},
   "outputs": [
    {
     "data": {
      "text/html": [
       "1.77559017278081e-170"
      ],
      "text/latex": [
       "1.77559017278081e-170"
      ],
      "text/markdown": [
       "1.77559017278081e-170"
      ],
      "text/plain": [
       "[1] 1.77559e-170"
      ]
     },
     "metadata": {},
     "output_type": "display_data"
    }
   ],
   "source": [
    "cor.test(df0[,gene],df[,gene])$p.value"
   ]
  },
  {
   "cell_type": "code",
   "execution_count": 34,
   "id": "5eefc2c4",
   "metadata": {},
   "outputs": [
    {
     "data": {
      "text/html": [],
      "text/latex": [],
      "text/markdown": [],
      "text/plain": [
       "<0 x 0 matrix>"
      ]
     },
     "metadata": {},
     "output_type": "display_data"
    }
   ],
   "source": [
    "df_cor_test = data.frame(gene = c(), pv = c())\n",
    "head(df_cor_test)"
   ]
  },
  {
   "cell_type": "code",
   "execution_count": 35,
   "id": "64403119",
   "metadata": {},
   "outputs": [
    {
     "name": "stderr",
     "output_type": "stream",
     "text": [
      "Warning message in cor(x, y):\n",
      "“the standard deviation is zero”"
     ]
    }
   ],
   "source": [
    "for (gene in colnames(df)){\n",
    "    df_curr = data.frame(gene = gene, pv = cor.test(df0[,gene],df[,gene])$p.value)\n",
    "    df_cor_test = rbind(df_cor_test, df_curr)\n",
    "}"
   ]
  },
  {
   "cell_type": "code",
   "execution_count": 36,
   "id": "475855ad",
   "metadata": {},
   "outputs": [],
   "source": [
    "df_cor_test$fdr = df_cor_test$pv * nrow(df_cor_test)"
   ]
  },
  {
   "cell_type": "code",
   "execution_count": 37,
   "id": "23da99f2",
   "metadata": {},
   "outputs": [
    {
     "data": {
      "text/html": [
       "315"
      ],
      "text/latex": [
       "315"
      ],
      "text/markdown": [
       "315"
      ],
      "text/plain": [
       "[1] 315"
      ]
     },
     "metadata": {},
     "output_type": "display_data"
    },
    {
     "data": {
      "text/html": [
       "<table>\n",
       "<thead><tr><th scope=col>gene</th><th scope=col>pv</th><th scope=col>fdr</th></tr></thead>\n",
       "<tbody>\n",
       "\t<tr><td>ENSG00000005059_CCDC109B</td><td>1.775590e-170           </td><td>5.593109e-168           </td></tr>\n",
       "\t<tr><td>ENSG00000006016_CRLF1   </td><td>5.985363e-184           </td><td>1.885389e-181           </td></tr>\n",
       "\t<tr><td>ENSG00000006459_KDM7A   </td><td> 4.902377e-45           </td><td> 1.544249e-42           </td></tr>\n",
       "\t<tr><td>ENSG00000013297_CLDN11  </td><td> 0.000000e+00           </td><td> 0.000000e+00           </td></tr>\n",
       "\t<tr><td>ENSG00000021300_PLEKHB1 </td><td> 1.668454e-10           </td><td> 5.255630e-08           </td></tr>\n",
       "\t<tr><td>ENSG00000029639_TFB1M   </td><td>1.157362e-308           </td><td>3.645691e-306           </td></tr>\n",
       "</tbody>\n",
       "</table>\n"
      ],
      "text/latex": [
       "\\begin{tabular}{r|lll}\n",
       " gene & pv & fdr\\\\\n",
       "\\hline\n",
       "\t ENSG00000005059\\_CCDC109B & 1.775590e-170              & 5.593109e-168             \\\\\n",
       "\t ENSG00000006016\\_CRLF1    & 5.985363e-184              & 1.885389e-181             \\\\\n",
       "\t ENSG00000006459\\_KDM7A    &  4.902377e-45              &  1.544249e-42             \\\\\n",
       "\t ENSG00000013297\\_CLDN11   &  0.000000e+00              &  0.000000e+00             \\\\\n",
       "\t ENSG00000021300\\_PLEKHB1  &  1.668454e-10              &  5.255630e-08             \\\\\n",
       "\t ENSG00000029639\\_TFB1M    & 1.157362e-308              & 3.645691e-306             \\\\\n",
       "\\end{tabular}\n"
      ],
      "text/markdown": [
       "\n",
       "| gene | pv | fdr |\n",
       "|---|---|---|\n",
       "| ENSG00000005059_CCDC109B | 1.775590e-170            | 5.593109e-168            |\n",
       "| ENSG00000006016_CRLF1    | 5.985363e-184            | 1.885389e-181            |\n",
       "| ENSG00000006459_KDM7A    |  4.902377e-45            |  1.544249e-42            |\n",
       "| ENSG00000013297_CLDN11   |  0.000000e+00            |  0.000000e+00            |\n",
       "| ENSG00000021300_PLEKHB1  |  1.668454e-10            |  5.255630e-08            |\n",
       "| ENSG00000029639_TFB1M    | 1.157362e-308            | 3.645691e-306            |\n",
       "\n"
      ],
      "text/plain": [
       "  gene                     pv            fdr          \n",
       "1 ENSG00000005059_CCDC109B 1.775590e-170 5.593109e-168\n",
       "2 ENSG00000006016_CRLF1    5.985363e-184 1.885389e-181\n",
       "3 ENSG00000006459_KDM7A     4.902377e-45  1.544249e-42\n",
       "4 ENSG00000013297_CLDN11    0.000000e+00  0.000000e+00\n",
       "5 ENSG00000021300_PLEKHB1   1.668454e-10  5.255630e-08\n",
       "6 ENSG00000029639_TFB1M    1.157362e-308 3.645691e-306"
      ]
     },
     "metadata": {},
     "output_type": "display_data"
    }
   ],
   "source": [
    "nrow(df_cor_test)\n",
    "head(df_cor_test)"
   ]
  },
  {
   "cell_type": "code",
   "execution_count": 38,
   "id": "ee0043e0",
   "metadata": {},
   "outputs": [
    {
     "data": {
      "text/html": [
       "300"
      ],
      "text/latex": [
       "300"
      ],
      "text/markdown": [
       "300"
      ],
      "text/plain": [
       "[1] 300"
      ]
     },
     "metadata": {},
     "output_type": "display_data"
    }
   ],
   "source": [
    "nrow(df_cor_test[df_cor_test$fdr<0.05,])"
   ]
  },
  {
   "cell_type": "code",
   "execution_count": null,
   "id": "ffb972aa",
   "metadata": {},
   "outputs": [],
   "source": []
  },
  {
   "cell_type": "code",
   "execution_count": null,
   "id": "fccfd793",
   "metadata": {},
   "outputs": [],
   "source": []
  },
  {
   "cell_type": "code",
   "execution_count": null,
   "id": "83f3f6ee",
   "metadata": {},
   "outputs": [],
   "source": []
  },
  {
   "cell_type": "code",
   "execution_count": null,
   "id": "d7290dd4",
   "metadata": {},
   "outputs": [],
   "source": [
    "##########################################################################################\n",
    "##########################################################################################\n",
    "##########################################################################################\n",
    "##########################################################################################\n",
    "##########################################################################################"
   ]
  },
  {
   "cell_type": "code",
   "execution_count": null,
   "id": "2900e5bd",
   "metadata": {},
   "outputs": [],
   "source": [
    "########## Neuroseq"
   ]
  },
  {
   "cell_type": "code",
   "execution_count": 47,
   "id": "3653651d",
   "metadata": {},
   "outputs": [
    {
     "data": {
      "text/html": [
       "<table>\n",
       "<thead><tr><th></th><th scope=col>ABHD10_.3_111697439_T_G</th><th scope=col>ABHD12B_.14_51328222_C_T</th><th scope=col>ACKR2_.3_42817129_C_T</th><th scope=col>ADD2_.2_70894426_A_T</th><th scope=col>ADSL_.22_40757228_A_C</th><th scope=col>AIM1L_.1_26673825_C_T</th><th scope=col>AKAP7_.6_131691964_C_A</th><th scope=col>ALDH7A1_.5_126011412_G_A</th><th scope=col>ANKRD18B_.9_33524775_C_A</th><th scope=col>APIP_.11_34905987_T_C</th><th scope=col>...</th><th scope=col>YWHAE_.17_1246420_G_A</th><th scope=col>ZBBX_.3_167080934_T_G</th><th scope=col>ZC3HAV1_.7_138730361_T_C</th><th scope=col>ZFR2_.19_3840157_C_T</th><th scope=col>ZG16B_.16_2871121_T_C</th><th scope=col>ZNF423_.16_49599995_C_G</th><th scope=col>ZNF552_.19_58315273_G_A</th><th scope=col>ZNF738_.19_21474173_G_A</th><th scope=col>ZNF77_.19_2936535_G_A</th><th scope=col>ZP3_.7_76177284_C_T</th></tr></thead>\n",
       "<tbody>\n",
       "\t<tr><th scope=row>HPSI0714i-iudw_1--DA--d30--0</th><td>-0.2108622   </td><td> 0.003924475 </td><td>0.02206444   </td><td> 0.02834211  </td><td> 0.22351628  </td><td>-0.035750325 </td><td>-0.09473256  </td><td> 0.006901295 </td><td> 0.0006737957</td><td>-0.07499119  </td><td>...          </td><td> 0.06962421  </td><td> 0.11202526  </td><td>-0.041721326 </td><td>0.011268972  </td><td> 0.10575791  </td><td>-0.03101814  </td><td>0.0909417    </td><td>0.3020245    </td><td>-0.15838420  </td><td>-0.05596878  </td></tr>\n",
       "\t<tr><th scope=row>HPSI0714i-iudw_1--DA--d30--1</th><td>-0.2283969   </td><td>-0.047217741 </td><td>0.10596178   </td><td> 0.02514689  </td><td>-0.19218007  </td><td>-0.014717675 </td><td> 0.01878961  </td><td>-0.171038975 </td><td>-0.1105473675</td><td>-0.18686595  </td><td>...          </td><td>-0.21070417  </td><td> 0.37598541  </td><td> 0.087746659 </td><td>0.025059162  </td><td>-0.19500546  </td><td>-0.22780547  </td><td>0.0775938    </td><td>0.3452492    </td><td>-0.34721520  </td><td>-0.15259400  </td></tr>\n",
       "\t<tr><th scope=row>HPSI0714i-iudw_1--DA--d30--2</th><td>-0.3702669   </td><td>-0.187986589 </td><td>0.11071216   </td><td>-0.08986937  </td><td> 0.09405019  </td><td> 0.006010368 </td><td> 0.27231100  </td><td> 0.068950760 </td><td>-0.0703046436</td><td>-0.17930619  </td><td>...          </td><td> 0.08333262  </td><td> 0.22613170  </td><td> 0.001520982 </td><td>0.026842708  </td><td>-0.06898036  </td><td>-0.18245915  </td><td>0.1397725    </td><td>0.2769493    </td><td>-0.41400755  </td><td>-0.14625096  </td></tr>\n",
       "\t<tr><th scope=row>HPSI0714i-iudw_1--DA--d30--3</th><td>-0.4690041   </td><td> 0.016038409 </td><td>0.08790047   </td><td> 0.05432180  </td><td>-0.04301341  </td><td>-0.052857589 </td><td>-0.08388531  </td><td>-0.114040987 </td><td>-0.0567014573</td><td>-0.10449033  </td><td>...          </td><td>-0.03074405  </td><td> 0.36092094  </td><td> 0.022946283 </td><td>0.005356103  </td><td>-0.06347749  </td><td>-0.07845885  </td><td>0.0968855    </td><td>0.3661641    </td><td>-0.28384550  </td><td>-0.22302969  </td></tr>\n",
       "\t<tr><th scope=row>HPSI0714i-iudw_1--DA--d30--4</th><td> 0.3503564   </td><td>-0.236613003 </td><td>0.01487196   </td><td>-0.12134894  </td><td> 0.07402790  </td><td> 0.053992532 </td><td>-0.00519023  </td><td> 0.141903046 </td><td>-0.0635561162</td><td>-0.03331474  </td><td>...          </td><td>-0.02967722  </td><td>-0.08769147  </td><td>-0.087631920 </td><td>0.064195619  </td><td>-0.07719302  </td><td>-0.07379042  </td><td>0.1435780    </td><td>0.1828284    </td><td>-0.03142945  </td><td> 0.31337013  </td></tr>\n",
       "\t<tr><th scope=row>HPSI0714i-iudw_1--DA--d30--5</th><td> 0.1012829   </td><td>-0.244239442 </td><td>0.08520448   </td><td>-0.14295098  </td><td> 0.05632833  </td><td> 0.042455114 </td><td> 0.20805332  </td><td> 0.097543017 </td><td>-0.0595425781</td><td>-0.11520636  </td><td>...          </td><td> 0.01510769  </td><td> 0.01728996  </td><td>-0.061095574 </td><td>0.068456202  </td><td>-0.09436485  </td><td>-0.19404150  </td><td>0.1471580    </td><td>0.1729609    </td><td>-0.21927488  </td><td> 0.15319374  </td></tr>\n",
       "</tbody>\n",
       "</table>\n"
      ],
      "text/latex": [
       "\\begin{tabular}{r|lllllllllllllllllllllllllllllllllllllllllllllllllllllllllllllllllllllllllllllllllllllllllllllllllllllllllllllllllllllllllllllllllllllllllllllllllllllllllllllllllllllllllllllllllllllllllllllllllllllllllllllllllllll}\n",
       "  & ABHD10\\_.3\\_111697439\\_T\\_G & ABHD12B\\_.14\\_51328222\\_C\\_T & ACKR2\\_.3\\_42817129\\_C\\_T & ADD2\\_.2\\_70894426\\_A\\_T & ADSL\\_.22\\_40757228\\_A\\_C & AIM1L\\_.1\\_26673825\\_C\\_T & AKAP7\\_.6\\_131691964\\_C\\_A & ALDH7A1\\_.5\\_126011412\\_G\\_A & ANKRD18B\\_.9\\_33524775\\_C\\_A & APIP\\_.11\\_34905987\\_T\\_C & ... & YWHAE\\_.17\\_1246420\\_G\\_A & ZBBX\\_.3\\_167080934\\_T\\_G & ZC3HAV1\\_.7\\_138730361\\_T\\_C & ZFR2\\_.19\\_3840157\\_C\\_T & ZG16B\\_.16\\_2871121\\_T\\_C & ZNF423\\_.16\\_49599995\\_C\\_G & ZNF552\\_.19\\_58315273\\_G\\_A & ZNF738\\_.19\\_21474173\\_G\\_A & ZNF77\\_.19\\_2936535\\_G\\_A & ZP3\\_.7\\_76177284\\_C\\_T\\\\\n",
       "\\hline\n",
       "\tHPSI0714i-iudw\\_1--DA--d30--0 & -0.2108622    &  0.003924475  & 0.02206444    &  0.02834211   &  0.22351628   & -0.035750325  & -0.09473256   &  0.006901295  &  0.0006737957 & -0.07499119   & ...           &  0.06962421   &  0.11202526   & -0.041721326  & 0.011268972   &  0.10575791   & -0.03101814   & 0.0909417     & 0.3020245     & -0.15838420   & -0.05596878  \\\\\n",
       "\tHPSI0714i-iudw\\_1--DA--d30--1 & -0.2283969    & -0.047217741  & 0.10596178    &  0.02514689   & -0.19218007   & -0.014717675  &  0.01878961   & -0.171038975  & -0.1105473675 & -0.18686595   & ...           & -0.21070417   &  0.37598541   &  0.087746659  & 0.025059162   & -0.19500546   & -0.22780547   & 0.0775938     & 0.3452492     & -0.34721520   & -0.15259400  \\\\\n",
       "\tHPSI0714i-iudw\\_1--DA--d30--2 & -0.3702669    & -0.187986589  & 0.11071216    & -0.08986937   &  0.09405019   &  0.006010368  &  0.27231100   &  0.068950760  & -0.0703046436 & -0.17930619   & ...           &  0.08333262   &  0.22613170   &  0.001520982  & 0.026842708   & -0.06898036   & -0.18245915   & 0.1397725     & 0.2769493     & -0.41400755   & -0.14625096  \\\\\n",
       "\tHPSI0714i-iudw\\_1--DA--d30--3 & -0.4690041    &  0.016038409  & 0.08790047    &  0.05432180   & -0.04301341   & -0.052857589  & -0.08388531   & -0.114040987  & -0.0567014573 & -0.10449033   & ...           & -0.03074405   &  0.36092094   &  0.022946283  & 0.005356103   & -0.06347749   & -0.07845885   & 0.0968855     & 0.3661641     & -0.28384550   & -0.22302969  \\\\\n",
       "\tHPSI0714i-iudw\\_1--DA--d30--4 &  0.3503564    & -0.236613003  & 0.01487196    & -0.12134894   &  0.07402790   &  0.053992532  & -0.00519023   &  0.141903046  & -0.0635561162 & -0.03331474   & ...           & -0.02967722   & -0.08769147   & -0.087631920  & 0.064195619   & -0.07719302   & -0.07379042   & 0.1435780     & 0.1828284     & -0.03142945   &  0.31337013  \\\\\n",
       "\tHPSI0714i-iudw\\_1--DA--d30--5 &  0.1012829    & -0.244239442  & 0.08520448    & -0.14295098   &  0.05632833   &  0.042455114  &  0.20805332   &  0.097543017  & -0.0595425781 & -0.11520636   & ...           &  0.01510769   &  0.01728996   & -0.061095574  & 0.068456202   & -0.09436485   & -0.19404150   & 0.1471580     & 0.1729609     & -0.21927488   &  0.15319374  \\\\\n",
       "\\end{tabular}\n"
      ],
      "text/markdown": [
       "\n",
       "| <!--/--> | ABHD10_.3_111697439_T_G | ABHD12B_.14_51328222_C_T | ACKR2_.3_42817129_C_T | ADD2_.2_70894426_A_T | ADSL_.22_40757228_A_C | AIM1L_.1_26673825_C_T | AKAP7_.6_131691964_C_A | ALDH7A1_.5_126011412_G_A | ANKRD18B_.9_33524775_C_A | APIP_.11_34905987_T_C | ... | YWHAE_.17_1246420_G_A | ZBBX_.3_167080934_T_G | ZC3HAV1_.7_138730361_T_C | ZFR2_.19_3840157_C_T | ZG16B_.16_2871121_T_C | ZNF423_.16_49599995_C_G | ZNF552_.19_58315273_G_A | ZNF738_.19_21474173_G_A | ZNF77_.19_2936535_G_A | ZP3_.7_76177284_C_T |\n",
       "|---|---|---|---|---|---|---|---|---|---|---|---|---|---|---|---|---|---|---|---|---|---|\n",
       "| HPSI0714i-iudw_1--DA--d30--0 | -0.2108622    |  0.003924475  | 0.02206444    |  0.02834211   |  0.22351628   | -0.035750325  | -0.09473256   |  0.006901295  |  0.0006737957 | -0.07499119   | ...           |  0.06962421   |  0.11202526   | -0.041721326  | 0.011268972   |  0.10575791   | -0.03101814   | 0.0909417     | 0.3020245     | -0.15838420   | -0.05596878   |\n",
       "| HPSI0714i-iudw_1--DA--d30--1 | -0.2283969    | -0.047217741  | 0.10596178    |  0.02514689   | -0.19218007   | -0.014717675  |  0.01878961   | -0.171038975  | -0.1105473675 | -0.18686595   | ...           | -0.21070417   |  0.37598541   |  0.087746659  | 0.025059162   | -0.19500546   | -0.22780547   | 0.0775938     | 0.3452492     | -0.34721520   | -0.15259400   |\n",
       "| HPSI0714i-iudw_1--DA--d30--2 | -0.3702669    | -0.187986589  | 0.11071216    | -0.08986937   |  0.09405019   |  0.006010368  |  0.27231100   |  0.068950760  | -0.0703046436 | -0.17930619   | ...           |  0.08333262   |  0.22613170   |  0.001520982  | 0.026842708   | -0.06898036   | -0.18245915   | 0.1397725     | 0.2769493     | -0.41400755   | -0.14625096   |\n",
       "| HPSI0714i-iudw_1--DA--d30--3 | -0.4690041    |  0.016038409  | 0.08790047    |  0.05432180   | -0.04301341   | -0.052857589  | -0.08388531   | -0.114040987  | -0.0567014573 | -0.10449033   | ...           | -0.03074405   |  0.36092094   |  0.022946283  | 0.005356103   | -0.06347749   | -0.07845885   | 0.0968855     | 0.3661641     | -0.28384550   | -0.22302969   |\n",
       "| HPSI0714i-iudw_1--DA--d30--4 |  0.3503564    | -0.236613003  | 0.01487196    | -0.12134894   |  0.07402790   |  0.053992532  | -0.00519023   |  0.141903046  | -0.0635561162 | -0.03331474   | ...           | -0.02967722   | -0.08769147   | -0.087631920  | 0.064195619   | -0.07719302   | -0.07379042   | 0.1435780     | 0.1828284     | -0.03142945   |  0.31337013   |\n",
       "| HPSI0714i-iudw_1--DA--d30--5 |  0.1012829    | -0.244239442  | 0.08520448    | -0.14295098   |  0.05632833   |  0.042455114  |  0.20805332   |  0.097543017  | -0.0595425781 | -0.11520636   | ...           |  0.01510769   |  0.01728996   | -0.061095574  | 0.068456202   | -0.09436485   | -0.19404150   | 0.1471580     | 0.1729609     | -0.21927488   |  0.15319374   |\n",
       "\n"
      ],
      "text/plain": [
       "                             ABHD10_.3_111697439_T_G ABHD12B_.14_51328222_C_T\n",
       "HPSI0714i-iudw_1--DA--d30--0 -0.2108622               0.003924475            \n",
       "HPSI0714i-iudw_1--DA--d30--1 -0.2283969              -0.047217741            \n",
       "HPSI0714i-iudw_1--DA--d30--2 -0.3702669              -0.187986589            \n",
       "HPSI0714i-iudw_1--DA--d30--3 -0.4690041               0.016038409            \n",
       "HPSI0714i-iudw_1--DA--d30--4  0.3503564              -0.236613003            \n",
       "HPSI0714i-iudw_1--DA--d30--5  0.1012829              -0.244239442            \n",
       "                             ACKR2_.3_42817129_C_T ADD2_.2_70894426_A_T\n",
       "HPSI0714i-iudw_1--DA--d30--0 0.02206444             0.02834211         \n",
       "HPSI0714i-iudw_1--DA--d30--1 0.10596178             0.02514689         \n",
       "HPSI0714i-iudw_1--DA--d30--2 0.11071216            -0.08986937         \n",
       "HPSI0714i-iudw_1--DA--d30--3 0.08790047             0.05432180         \n",
       "HPSI0714i-iudw_1--DA--d30--4 0.01487196            -0.12134894         \n",
       "HPSI0714i-iudw_1--DA--d30--5 0.08520448            -0.14295098         \n",
       "                             ADSL_.22_40757228_A_C AIM1L_.1_26673825_C_T\n",
       "HPSI0714i-iudw_1--DA--d30--0  0.22351628           -0.035750325         \n",
       "HPSI0714i-iudw_1--DA--d30--1 -0.19218007           -0.014717675         \n",
       "HPSI0714i-iudw_1--DA--d30--2  0.09405019            0.006010368         \n",
       "HPSI0714i-iudw_1--DA--d30--3 -0.04301341           -0.052857589         \n",
       "HPSI0714i-iudw_1--DA--d30--4  0.07402790            0.053992532         \n",
       "HPSI0714i-iudw_1--DA--d30--5  0.05632833            0.042455114         \n",
       "                             AKAP7_.6_131691964_C_A ALDH7A1_.5_126011412_G_A\n",
       "HPSI0714i-iudw_1--DA--d30--0 -0.09473256             0.006901295            \n",
       "HPSI0714i-iudw_1--DA--d30--1  0.01878961            -0.171038975            \n",
       "HPSI0714i-iudw_1--DA--d30--2  0.27231100             0.068950760            \n",
       "HPSI0714i-iudw_1--DA--d30--3 -0.08388531            -0.114040987            \n",
       "HPSI0714i-iudw_1--DA--d30--4 -0.00519023             0.141903046            \n",
       "HPSI0714i-iudw_1--DA--d30--5  0.20805332             0.097543017            \n",
       "                             ANKRD18B_.9_33524775_C_A APIP_.11_34905987_T_C ...\n",
       "HPSI0714i-iudw_1--DA--d30--0  0.0006737957            -0.07499119           ...\n",
       "HPSI0714i-iudw_1--DA--d30--1 -0.1105473675            -0.18686595           ...\n",
       "HPSI0714i-iudw_1--DA--d30--2 -0.0703046436            -0.17930619           ...\n",
       "HPSI0714i-iudw_1--DA--d30--3 -0.0567014573            -0.10449033           ...\n",
       "HPSI0714i-iudw_1--DA--d30--4 -0.0635561162            -0.03331474           ...\n",
       "HPSI0714i-iudw_1--DA--d30--5 -0.0595425781            -0.11520636           ...\n",
       "                             YWHAE_.17_1246420_G_A ZBBX_.3_167080934_T_G\n",
       "HPSI0714i-iudw_1--DA--d30--0  0.06962421            0.11202526          \n",
       "HPSI0714i-iudw_1--DA--d30--1 -0.21070417            0.37598541          \n",
       "HPSI0714i-iudw_1--DA--d30--2  0.08333262            0.22613170          \n",
       "HPSI0714i-iudw_1--DA--d30--3 -0.03074405            0.36092094          \n",
       "HPSI0714i-iudw_1--DA--d30--4 -0.02967722           -0.08769147          \n",
       "HPSI0714i-iudw_1--DA--d30--5  0.01510769            0.01728996          \n",
       "                             ZC3HAV1_.7_138730361_T_C ZFR2_.19_3840157_C_T\n",
       "HPSI0714i-iudw_1--DA--d30--0 -0.041721326             0.011268972         \n",
       "HPSI0714i-iudw_1--DA--d30--1  0.087746659             0.025059162         \n",
       "HPSI0714i-iudw_1--DA--d30--2  0.001520982             0.026842708         \n",
       "HPSI0714i-iudw_1--DA--d30--3  0.022946283             0.005356103         \n",
       "HPSI0714i-iudw_1--DA--d30--4 -0.087631920             0.064195619         \n",
       "HPSI0714i-iudw_1--DA--d30--5 -0.061095574             0.068456202         \n",
       "                             ZG16B_.16_2871121_T_C ZNF423_.16_49599995_C_G\n",
       "HPSI0714i-iudw_1--DA--d30--0  0.10575791           -0.03101814            \n",
       "HPSI0714i-iudw_1--DA--d30--1 -0.19500546           -0.22780547            \n",
       "HPSI0714i-iudw_1--DA--d30--2 -0.06898036           -0.18245915            \n",
       "HPSI0714i-iudw_1--DA--d30--3 -0.06347749           -0.07845885            \n",
       "HPSI0714i-iudw_1--DA--d30--4 -0.07719302           -0.07379042            \n",
       "HPSI0714i-iudw_1--DA--d30--5 -0.09436485           -0.19404150            \n",
       "                             ZNF552_.19_58315273_G_A ZNF738_.19_21474173_G_A\n",
       "HPSI0714i-iudw_1--DA--d30--0 0.0909417               0.3020245              \n",
       "HPSI0714i-iudw_1--DA--d30--1 0.0775938               0.3452492              \n",
       "HPSI0714i-iudw_1--DA--d30--2 0.1397725               0.2769493              \n",
       "HPSI0714i-iudw_1--DA--d30--3 0.0968855               0.3661641              \n",
       "HPSI0714i-iudw_1--DA--d30--4 0.1435780               0.1828284              \n",
       "HPSI0714i-iudw_1--DA--d30--5 0.1471580               0.1729609              \n",
       "                             ZNF77_.19_2936535_G_A ZP3_.7_76177284_C_T\n",
       "HPSI0714i-iudw_1--DA--d30--0 -0.15838420           -0.05596878        \n",
       "HPSI0714i-iudw_1--DA--d30--1 -0.34721520           -0.15259400        \n",
       "HPSI0714i-iudw_1--DA--d30--2 -0.41400755           -0.14625096        \n",
       "HPSI0714i-iudw_1--DA--d30--3 -0.28384550           -0.22302969        \n",
       "HPSI0714i-iudw_1--DA--d30--4 -0.03142945            0.31337013        \n",
       "HPSI0714i-iudw_1--DA--d30--5 -0.21927488            0.15319374        "
      ]
     },
     "metadata": {},
     "output_type": "display_data"
    }
   ],
   "source": [
    "df = read.csv(\"/hps/nobackup2/stegle/users/acuomo/all_scripts/struct_LMM2/sc_neuroseq/May2021/genetic_effect/MOFA10/eqtl_tot_genetic_effect_all.txt\", sep=\"\\t\",row.names = 1)\n",
    "head(df)"
   ]
  },
  {
   "cell_type": "code",
   "execution_count": 48,
   "id": "8477a6d0",
   "metadata": {},
   "outputs": [
    {
     "data": {
      "text/html": [
       "213"
      ],
      "text/latex": [
       "213"
      ],
      "text/markdown": [
       "213"
      ],
      "text/plain": [
       "[1] 213"
      ]
     },
     "metadata": {},
     "output_type": "display_data"
    }
   ],
   "source": [
    "ncol(df)"
   ]
  },
  {
   "cell_type": "code",
   "execution_count": 49,
   "id": "3d0a5e43",
   "metadata": {},
   "outputs": [],
   "source": [
    "cells0 = rownames(df)"
   ]
  },
  {
   "cell_type": "code",
   "execution_count": 50,
   "id": "d59eb571",
   "metadata": {
    "scrolled": true
   },
   "outputs": [
    {
     "data": {
      "text/plain": [
       "class: SingleCellExperiment \n",
       "dim: 32738 9219 \n",
       "metadata(0):\n",
       "assays(2): counts logcounts\n",
       "rownames(32738): MIR1302.10 FAM138A ... AC002321.2 AC002321.1\n",
       "rowData names(0):\n",
       "colnames(9219): HPSI0714i-iudw_1--DA--d30--0\n",
       "  HPSI0714i-iudw_1--DA--d30--1 ... HPSI0114i-rozh_4--DA--d52_tr--11\n",
       "  HPSI0114i-rozh_4--DA--d52_tr--12\n",
       "colData names(5): pseudocell celltype donor cluster condition\n",
       "reducedDimNames(0):\n",
       "spikeNames(0):\n",
       "altExpNames(0):"
      ]
     },
     "metadata": {},
     "output_type": "display_data"
    }
   ],
   "source": [
    "# sce = readRDS(\"/hps/nobackup/stegle/users/acuomo/all_scripts/struct_LMM2/sc_neuroseq/DA_phenotype_wo_outliers2_sce.rds\")\n",
    "sce = readRDS(\"/hps/nobackup2/stegle/users/acuomo/neuoseq_DA_pseudocells_sce.rds\")\n",
    "sce"
   ]
  },
  {
   "cell_type": "code",
   "execution_count": 51,
   "id": "e24d8760",
   "metadata": {},
   "outputs": [
    {
     "data": {
      "text/html": [
       "<table>\n",
       "<thead><tr><th></th><th scope=col>HPSI0714i-iudw_1--DA--d30--0</th><th scope=col>HPSI0714i-iudw_1--DA--d30--1</th><th scope=col>HPSI0714i-iudw_1--DA--d30--2</th><th scope=col>HPSI0714i-iudw_1--DA--d30--3</th><th scope=col>HPSI0714i-iudw_1--DA--d30--4</th></tr></thead>\n",
       "<tbody>\n",
       "\t<tr><th scope=row>MIR1302.10</th><td>0</td><td>0</td><td>0</td><td>0</td><td>0</td></tr>\n",
       "\t<tr><th scope=row>FAM138A</th><td>0</td><td>0</td><td>0</td><td>0</td><td>0</td></tr>\n",
       "\t<tr><th scope=row>OR4F5</th><td>0</td><td>0</td><td>0</td><td>0</td><td>0</td></tr>\n",
       "\t<tr><th scope=row>RP11.34P13.7</th><td>0</td><td>0</td><td>0</td><td>0</td><td>0</td></tr>\n",
       "\t<tr><th scope=row>RP11.34P13.8</th><td>0</td><td>0</td><td>0</td><td>0</td><td>0</td></tr>\n",
       "</tbody>\n",
       "</table>\n"
      ],
      "text/latex": [
       "\\begin{tabular}{r|lllll}\n",
       "  & HPSI0714i-iudw\\_1--DA--d30--0 & HPSI0714i-iudw\\_1--DA--d30--1 & HPSI0714i-iudw\\_1--DA--d30--2 & HPSI0714i-iudw\\_1--DA--d30--3 & HPSI0714i-iudw\\_1--DA--d30--4\\\\\n",
       "\\hline\n",
       "\tMIR1302.10 & 0 & 0 & 0 & 0 & 0\\\\\n",
       "\tFAM138A & 0 & 0 & 0 & 0 & 0\\\\\n",
       "\tOR4F5 & 0 & 0 & 0 & 0 & 0\\\\\n",
       "\tRP11.34P13.7 & 0 & 0 & 0 & 0 & 0\\\\\n",
       "\tRP11.34P13.8 & 0 & 0 & 0 & 0 & 0\\\\\n",
       "\\end{tabular}\n"
      ],
      "text/markdown": [
       "\n",
       "| <!--/--> | HPSI0714i-iudw_1--DA--d30--0 | HPSI0714i-iudw_1--DA--d30--1 | HPSI0714i-iudw_1--DA--d30--2 | HPSI0714i-iudw_1--DA--d30--3 | HPSI0714i-iudw_1--DA--d30--4 |\n",
       "|---|---|---|---|---|---|\n",
       "| MIR1302.10 | 0 | 0 | 0 | 0 | 0 |\n",
       "| FAM138A | 0 | 0 | 0 | 0 | 0 |\n",
       "| OR4F5 | 0 | 0 | 0 | 0 | 0 |\n",
       "| RP11.34P13.7 | 0 | 0 | 0 | 0 | 0 |\n",
       "| RP11.34P13.8 | 0 | 0 | 0 | 0 | 0 |\n",
       "\n"
      ],
      "text/plain": [
       "             HPSI0714i-iudw_1--DA--d30--0 HPSI0714i-iudw_1--DA--d30--1\n",
       "MIR1302.10   0                            0                           \n",
       "FAM138A      0                            0                           \n",
       "OR4F5        0                            0                           \n",
       "RP11.34P13.7 0                            0                           \n",
       "RP11.34P13.8 0                            0                           \n",
       "             HPSI0714i-iudw_1--DA--d30--2 HPSI0714i-iudw_1--DA--d30--3\n",
       "MIR1302.10   0                            0                           \n",
       "FAM138A      0                            0                           \n",
       "OR4F5        0                            0                           \n",
       "RP11.34P13.7 0                            0                           \n",
       "RP11.34P13.8 0                            0                           \n",
       "             HPSI0714i-iudw_1--DA--d30--4\n",
       "MIR1302.10   0                           \n",
       "FAM138A      0                           \n",
       "OR4F5        0                           \n",
       "RP11.34P13.7 0                           \n",
       "RP11.34P13.8 0                           "
      ]
     },
     "metadata": {},
     "output_type": "display_data"
    }
   ],
   "source": [
    "counts(sce)[1:5,1:5]"
   ]
  },
  {
   "cell_type": "code",
   "execution_count": 52,
   "id": "769cfd48",
   "metadata": {},
   "outputs": [
    {
     "data": {
      "text/html": [
       "32738"
      ],
      "text/latex": [
       "32738"
      ],
      "text/markdown": [
       "32738"
      ],
      "text/plain": [
       "[1] 32738"
      ]
     },
     "metadata": {},
     "output_type": "display_data"
    },
    {
     "data": {
      "text/html": [
       "9219"
      ],
      "text/latex": [
       "9219"
      ],
      "text/markdown": [
       "9219"
      ],
      "text/plain": [
       "[1] 9219"
      ]
     },
     "metadata": {},
     "output_type": "display_data"
    }
   ],
   "source": [
    "df0 = counts(sce)\n",
    "nrow(df0)\n",
    "ncol(df0)"
   ]
  },
  {
   "cell_type": "code",
   "execution_count": 53,
   "id": "ec9c3fa2",
   "metadata": {},
   "outputs": [],
   "source": [
    "df0 = df0[,cells0]\n",
    "rownames(df0) = gsub(\"\\\\.\",\"-\",rownames(df0))\n",
    "df0 = t(df0)"
   ]
  },
  {
   "cell_type": "code",
   "execution_count": 54,
   "id": "70cf2f3f",
   "metadata": {},
   "outputs": [
    {
     "data": {
      "text/html": [
       "8352"
      ],
      "text/latex": [
       "8352"
      ],
      "text/markdown": [
       "8352"
      ],
      "text/plain": [
       "[1] 8352"
      ]
     },
     "metadata": {},
     "output_type": "display_data"
    }
   ],
   "source": [
    "nrow(df0)"
   ]
  },
  {
   "cell_type": "code",
   "execution_count": 55,
   "id": "69f2b8e4",
   "metadata": {},
   "outputs": [
    {
     "data": {
      "text/html": [
       "8352"
      ],
      "text/latex": [
       "8352"
      ],
      "text/markdown": [
       "8352"
      ],
      "text/plain": [
       "[1] 8352"
      ]
     },
     "metadata": {},
     "output_type": "display_data"
    }
   ],
   "source": [
    "nrow(df)"
   ]
  },
  {
   "cell_type": "code",
   "execution_count": 56,
   "id": "ee9b37cd",
   "metadata": {},
   "outputs": [
    {
     "data": {
      "text/html": [
       "<table>\n",
       "<thead><tr><th></th><th scope=col>ABHD10_.3_111697439_T_G</th><th scope=col>ABHD12B_.14_51328222_C_T</th></tr></thead>\n",
       "<tbody>\n",
       "\t<tr><th scope=row>HPSI0714i-iudw_1--DA--d30--0</th><td>-0.2108622  </td><td> 0.003924475</td></tr>\n",
       "\t<tr><th scope=row>HPSI0714i-iudw_1--DA--d30--1</th><td>-0.2283969  </td><td>-0.047217741</td></tr>\n",
       "</tbody>\n",
       "</table>\n"
      ],
      "text/latex": [
       "\\begin{tabular}{r|ll}\n",
       "  & ABHD10\\_.3\\_111697439\\_T\\_G & ABHD12B\\_.14\\_51328222\\_C\\_T\\\\\n",
       "\\hline\n",
       "\tHPSI0714i-iudw\\_1--DA--d30--0 & -0.2108622   &  0.003924475\\\\\n",
       "\tHPSI0714i-iudw\\_1--DA--d30--1 & -0.2283969   & -0.047217741\\\\\n",
       "\\end{tabular}\n"
      ],
      "text/markdown": [
       "\n",
       "| <!--/--> | ABHD10_.3_111697439_T_G | ABHD12B_.14_51328222_C_T |\n",
       "|---|---|---|\n",
       "| HPSI0714i-iudw_1--DA--d30--0 | -0.2108622   |  0.003924475 |\n",
       "| HPSI0714i-iudw_1--DA--d30--1 | -0.2283969   | -0.047217741 |\n",
       "\n"
      ],
      "text/plain": [
       "                             ABHD10_.3_111697439_T_G ABHD12B_.14_51328222_C_T\n",
       "HPSI0714i-iudw_1--DA--d30--0 -0.2108622               0.003924475            \n",
       "HPSI0714i-iudw_1--DA--d30--1 -0.2283969              -0.047217741            "
      ]
     },
     "metadata": {},
     "output_type": "display_data"
    },
    {
     "data": {
      "text/html": [
       "<table>\n",
       "<thead><tr><th></th><th scope=col>MIR1302-10</th><th scope=col>FAM138A</th></tr></thead>\n",
       "<tbody>\n",
       "\t<tr><th scope=row>HPSI0714i-iudw_1--DA--d30--0</th><td>0</td><td>0</td></tr>\n",
       "\t<tr><th scope=row>HPSI0714i-iudw_1--DA--d30--1</th><td>0</td><td>0</td></tr>\n",
       "</tbody>\n",
       "</table>\n"
      ],
      "text/latex": [
       "\\begin{tabular}{r|ll}\n",
       "  & MIR1302-10 & FAM138A\\\\\n",
       "\\hline\n",
       "\tHPSI0714i-iudw\\_1--DA--d30--0 & 0 & 0\\\\\n",
       "\tHPSI0714i-iudw\\_1--DA--d30--1 & 0 & 0\\\\\n",
       "\\end{tabular}\n"
      ],
      "text/markdown": [
       "\n",
       "| <!--/--> | MIR1302-10 | FAM138A |\n",
       "|---|---|---|\n",
       "| HPSI0714i-iudw_1--DA--d30--0 | 0 | 0 |\n",
       "| HPSI0714i-iudw_1--DA--d30--1 | 0 | 0 |\n",
       "\n"
      ],
      "text/plain": [
       "                             MIR1302-10 FAM138A\n",
       "HPSI0714i-iudw_1--DA--d30--0 0          0      \n",
       "HPSI0714i-iudw_1--DA--d30--1 0          0      "
      ]
     },
     "metadata": {},
     "output_type": "display_data"
    }
   ],
   "source": [
    "df[1:2,1:2]\n",
    "df0[1:2,1:2]"
   ]
  },
  {
   "cell_type": "code",
   "execution_count": 57,
   "id": "6dc7b8f4",
   "metadata": {},
   "outputs": [],
   "source": [
    "colnames(df) = gsub(\"\\\\.\",\"-\",gsub(\"_\\\\..*\",\"\",colnames(df)))"
   ]
  },
  {
   "cell_type": "code",
   "execution_count": 58,
   "id": "db8f7086",
   "metadata": {},
   "outputs": [
    {
     "data": {
      "text/html": [
       "<table>\n",
       "<thead><tr><th></th><th scope=col>ABHD10</th><th scope=col>ABHD12B</th></tr></thead>\n",
       "<tbody>\n",
       "\t<tr><th scope=row>HPSI0714i-iudw_1--DA--d30--0</th><td>-0.2108622  </td><td> 0.003924475</td></tr>\n",
       "\t<tr><th scope=row>HPSI0714i-iudw_1--DA--d30--1</th><td>-0.2283969  </td><td>-0.047217741</td></tr>\n",
       "</tbody>\n",
       "</table>\n"
      ],
      "text/latex": [
       "\\begin{tabular}{r|ll}\n",
       "  & ABHD10 & ABHD12B\\\\\n",
       "\\hline\n",
       "\tHPSI0714i-iudw\\_1--DA--d30--0 & -0.2108622   &  0.003924475\\\\\n",
       "\tHPSI0714i-iudw\\_1--DA--d30--1 & -0.2283969   & -0.047217741\\\\\n",
       "\\end{tabular}\n"
      ],
      "text/markdown": [
       "\n",
       "| <!--/--> | ABHD10 | ABHD12B |\n",
       "|---|---|---|\n",
       "| HPSI0714i-iudw_1--DA--d30--0 | -0.2108622   |  0.003924475 |\n",
       "| HPSI0714i-iudw_1--DA--d30--1 | -0.2283969   | -0.047217741 |\n",
       "\n"
      ],
      "text/plain": [
       "                             ABHD10     ABHD12B     \n",
       "HPSI0714i-iudw_1--DA--d30--0 -0.2108622  0.003924475\n",
       "HPSI0714i-iudw_1--DA--d30--1 -0.2283969 -0.047217741"
      ]
     },
     "metadata": {},
     "output_type": "display_data"
    },
    {
     "data": {
      "text/html": [
       "<table>\n",
       "<thead><tr><th></th><th scope=col>MIR1302-10</th><th scope=col>FAM138A</th></tr></thead>\n",
       "<tbody>\n",
       "\t<tr><th scope=row>HPSI0714i-iudw_1--DA--d30--0</th><td>0</td><td>0</td></tr>\n",
       "\t<tr><th scope=row>HPSI0714i-iudw_1--DA--d30--1</th><td>0</td><td>0</td></tr>\n",
       "</tbody>\n",
       "</table>\n"
      ],
      "text/latex": [
       "\\begin{tabular}{r|ll}\n",
       "  & MIR1302-10 & FAM138A\\\\\n",
       "\\hline\n",
       "\tHPSI0714i-iudw\\_1--DA--d30--0 & 0 & 0\\\\\n",
       "\tHPSI0714i-iudw\\_1--DA--d30--1 & 0 & 0\\\\\n",
       "\\end{tabular}\n"
      ],
      "text/markdown": [
       "\n",
       "| <!--/--> | MIR1302-10 | FAM138A |\n",
       "|---|---|---|\n",
       "| HPSI0714i-iudw_1--DA--d30--0 | 0 | 0 |\n",
       "| HPSI0714i-iudw_1--DA--d30--1 | 0 | 0 |\n",
       "\n"
      ],
      "text/plain": [
       "                             MIR1302-10 FAM138A\n",
       "HPSI0714i-iudw_1--DA--d30--0 0          0      \n",
       "HPSI0714i-iudw_1--DA--d30--1 0          0      "
      ]
     },
     "metadata": {},
     "output_type": "display_data"
    }
   ],
   "source": [
    "df[1:2,1:2]\n",
    "df0[1:2,1:2]"
   ]
  },
  {
   "cell_type": "code",
   "execution_count": 59,
   "id": "43ea1f17",
   "metadata": {},
   "outputs": [],
   "source": [
    "df = df[order(rownames(df)),]\n",
    "df0 = df0[order(rownames(df0)),]"
   ]
  },
  {
   "cell_type": "code",
   "execution_count": 60,
   "id": "b0c46643",
   "metadata": {},
   "outputs": [
    {
     "name": "stderr",
     "output_type": "stream",
     "text": [
      "Warning message in cor(df0[, gene], df[, gene]):\n",
      "“the standard deviation is zero”"
     ]
    }
   ],
   "source": [
    "r = c()\n",
    "for (gene in colnames(df)){\n",
    "    r = c(r,cor(df0[,gene],df[,gene]))\n",
    "}"
   ]
  },
  {
   "cell_type": "code",
   "execution_count": 61,
   "id": "4efafe90",
   "metadata": {
    "scrolled": false
   },
   "outputs": [
    {
     "data": {
      "image/png": "[encoded data removed]",
      "text/plain": [
       "Plot with title “Histogram of r”"
      ]
     },
     "metadata": {},
     "output_type": "display_data"
    }
   ],
   "source": [
    "options(repr.plot.width = 5, repr.plot.height = 3)\n",
    "hist(r)"
   ]
  },
  {
   "cell_type": "code",
   "execution_count": 62,
   "id": "7e9fb6ac",
   "metadata": {},
   "outputs": [
    {
     "name": "stderr",
     "output_type": "stream",
     "text": [
      "Warning message:\n",
      "“Removed 1 rows containing non-finite values (stat_bin).”"
     ]
    },
    {
     "data": {
      "image/png": "[encoded data removed]",
      "text/plain": [
       "plot without title"
      ]
     },
     "metadata": {},
     "output_type": "display_data"
    }
   ],
   "source": [
    "df_r = data.frame(r=r, r2=r **2)\n",
    "p = ggplot(df_r, aes(x=r)) + geom_histogram(alpha = 0.8, bins=50) + \n",
    "    xlab(\"Correlation of expression vs genetic effect dynamics\") + \n",
    "    ylab(\"Number of genes\") + theme_minimal()\n",
    "p"
   ]
  },
  {
   "cell_type": "code",
   "execution_count": 67,
   "id": "ab5d8780",
   "metadata": {},
   "outputs": [
    {
     "name": "stderr",
     "output_type": "stream",
     "text": [
      "`stat_bin()` using `bins = 30`. Pick better value with `binwidth`.\n",
      "Warning message:\n",
      "“Removed 1 rows containing non-finite values (stat_bin).”"
     ]
    },
    {
     "data": {
      "image/png": "[encoded data removed]",
      "text/plain": [
       "plot without title"
      ]
     },
     "metadata": {},
     "output_type": "display_data"
    }
   ],
   "source": [
    "options(repr.plot.width=6, repr.plot.height=4)\n",
    "ggplot(df_r, aes(x=r)) + geom_histogram(alpha = 0.8) + xlim(c(-0.8,0.8)) +\n",
    "    xlab(\"Correlation of expression vs genetic effect dynamics\") + \n",
    "    ylab(\"Number of genes\") + theme_bw() + theme(text = element_text(size=15))"
   ]
  },
  {
   "cell_type": "code",
   "execution_count": 63,
   "id": "3e40488c",
   "metadata": {},
   "outputs": [
    {
     "name": "stderr",
     "output_type": "stream",
     "text": [
      "`stat_bin()` using `bins = 30`. Pick better value with `binwidth`.\n",
      "Warning message:\n",
      "“Removed 1 rows containing non-finite values (stat_bin).”"
     ]
    },
    {
     "data": {
      "image/png": "[encoded data removed]",
      "text/plain": [
       "plot without title"
      ]
     },
     "metadata": {},
     "output_type": "display_data"
    }
   ],
   "source": [
    "p = ggplot(df_r, aes(x=r2)) + geom_histogram(alpha = 0.8) + \n",
    "    xlab(\"Correlation of expression vs genetic effect dynamics\") + \n",
    "    ylab(\"Number of genes\") + theme_minimal()\n",
    "p"
   ]
  },
  {
   "cell_type": "code",
   "execution_count": 68,
   "id": "b8f99d4f",
   "metadata": {},
   "outputs": [
    {
     "data": {
      "text/html": [
       "<table>\n",
       "<thead><tr><th scope=col>r</th><th scope=col>r2</th><th scope=col>gene</th></tr></thead>\n",
       "<tbody>\n",
       "\t<tr><td> 0.2041484</td><td>0.04167658</td><td>ABHD10    </td></tr>\n",
       "\t<tr><td>-0.2470040</td><td>0.06101097</td><td>ABHD12B   </td></tr>\n",
       "\t<tr><td>-0.1040721</td><td>0.01083099</td><td>ACKR2     </td></tr>\n",
       "\t<tr><td>-0.3541595</td><td>0.12542894</td><td>ADD2      </td></tr>\n",
       "\t<tr><td> 0.3399089</td><td>0.11553805</td><td>ADSL      </td></tr>\n",
       "\t<tr><td> 0.1343502</td><td>0.01804998</td><td>AIM1L     </td></tr>\n",
       "</tbody>\n",
       "</table>\n"
      ],
      "text/latex": [
       "\\begin{tabular}{r|lll}\n",
       " r & r2 & gene\\\\\n",
       "\\hline\n",
       "\t  0.2041484 & 0.04167658 & ABHD10    \\\\\n",
       "\t -0.2470040 & 0.06101097 & ABHD12B   \\\\\n",
       "\t -0.1040721 & 0.01083099 & ACKR2     \\\\\n",
       "\t -0.3541595 & 0.12542894 & ADD2      \\\\\n",
       "\t  0.3399089 & 0.11553805 & ADSL      \\\\\n",
       "\t  0.1343502 & 0.01804998 & AIM1L     \\\\\n",
       "\\end{tabular}\n"
      ],
      "text/markdown": [
       "\n",
       "| r | r2 | gene |\n",
       "|---|---|---|\n",
       "|  0.2041484 | 0.04167658 | ABHD10     |\n",
       "| -0.2470040 | 0.06101097 | ABHD12B    |\n",
       "| -0.1040721 | 0.01083099 | ACKR2      |\n",
       "| -0.3541595 | 0.12542894 | ADD2       |\n",
       "|  0.3399089 | 0.11553805 | ADSL       |\n",
       "|  0.1343502 | 0.01804998 | AIM1L      |\n",
       "\n"
      ],
      "text/plain": [
       "  r          r2         gene   \n",
       "1  0.2041484 0.04167658 ABHD10 \n",
       "2 -0.2470040 0.06101097 ABHD12B\n",
       "3 -0.1040721 0.01083099 ACKR2  \n",
       "4 -0.3541595 0.12542894 ADD2   \n",
       "5  0.3399089 0.11553805 ADSL   \n",
       "6  0.1343502 0.01804998 AIM1L  "
      ]
     },
     "metadata": {},
     "output_type": "display_data"
    }
   ],
   "source": [
    "df_r$gene = colnames(df)\n",
    "head(df_r)"
   ]
  },
  {
   "cell_type": "code",
   "execution_count": 69,
   "id": "9063ea09",
   "metadata": {},
   "outputs": [],
   "source": [
    "mydir = \"/hps/nobackup2/stegle/users/acuomo/all_scripts/struct_LMM2/sc_neuroseq/May2021/MOFA/\""
   ]
  },
  {
   "cell_type": "code",
   "execution_count": 70,
   "id": "c319add2",
   "metadata": {},
   "outputs": [
    {
     "data": {
      "text/html": [
       "2051"
      ],
      "text/latex": [
       "2051"
      ],
      "text/markdown": [
       "2051"
      ],
      "text/plain": [
       "[1] 2051"
      ]
     },
     "metadata": {},
     "output_type": "display_data"
    },
    {
     "data": {
      "text/html": [
       "<table>\n",
       "<thead><tr><th></th><th scope=col>gene</th><th scope=col>n_snps</th><th scope=col>chrom</th><th scope=col>pv_raw</th><th scope=col>snpID</th><th scope=col>pv</th><th scope=col>gene_old</th></tr></thead>\n",
       "<tbody>\n",
       "\t<tr><th scope=row>0</th><td>LINC00662      </td><td>1              </td><td>19             </td><td>0.05827479     </td><td>19_28250771_G_A</td><td>0.05827479     </td><td>LINC00662      </td></tr>\n",
       "\t<tr><th scope=row>1</th><td>ATRAID         </td><td>2              </td><td> 2             </td><td>0.66353704     </td><td>2_27389195_A_G </td><td>1.00000000     </td><td>ATRAID         </td></tr>\n",
       "</tbody>\n",
       "</table>\n"
      ],
      "text/latex": [
       "\\begin{tabular}{r|lllllll}\n",
       "  & gene & n\\_snps & chrom & pv\\_raw & snpID & pv & gene\\_old\\\\\n",
       "\\hline\n",
       "\t0 & LINC00662             & 1                     & 19                    & 0.05827479            & 19\\_28250771\\_G\\_A & 0.05827479            & LINC00662            \\\\\n",
       "\t1 & ATRAID                & 2                     &  2                    & 0.66353704            & 2\\_27389195\\_A\\_G  & 1.00000000            & ATRAID               \\\\\n",
       "\\end{tabular}\n"
      ],
      "text/markdown": [
       "\n",
       "| <!--/--> | gene | n_snps | chrom | pv_raw | snpID | pv | gene_old |\n",
       "|---|---|---|---|---|---|---|---|\n",
       "| 0 | LINC00662       | 1               | 19              | 0.05827479      | 19_28250771_G_A | 0.05827479      | LINC00662       |\n",
       "| 1 | ATRAID          | 2               |  2              | 0.66353704      | 2_27389195_A_G  | 1.00000000      | ATRAID          |\n",
       "\n"
      ],
      "text/plain": [
       "  gene      n_snps chrom pv_raw     snpID           pv         gene_old \n",
       "0 LINC00662 1      19    0.05827479 19_28250771_G_A 0.05827479 LINC00662\n",
       "1 ATRAID    2       2    0.66353704 2_27389195_A_G  1.00000000 ATRAID   "
      ]
     },
     "metadata": {},
     "output_type": "display_data"
    }
   ],
   "source": [
    "########## MOFA 1:10\n",
    "# results when using MOFA components 1-10 as cell context\n",
    "file1 = paste0(mydir, \"MOFA10/summary.csv\")\n",
    "df1 = read.csv(file1, row.names=1)\n",
    "nrow(df1)\n",
    "head(df1,2)"
   ]
  },
  {
   "cell_type": "code",
   "execution_count": 71,
   "id": "14c8ab23",
   "metadata": {},
   "outputs": [
    {
     "data": {
      "text/html": [
       "284"
      ],
      "text/latex": [
       "284"
      ],
      "text/markdown": [
       "284"
      ],
      "text/plain": [
       "[1] 284"
      ]
     },
     "metadata": {},
     "output_type": "display_data"
    },
    {
     "data": {
      "text/html": [
       "209"
      ],
      "text/latex": [
       "209"
      ],
      "text/markdown": [
       "209"
      ],
      "text/plain": [
       "[1] 209"
      ]
     },
     "metadata": {},
     "output_type": "display_data"
    }
   ],
   "source": [
    "df1$qv = qvalue(df1$pv, pi0 = 1)$qvalue\n",
    "# significant eQTLs (FDR<5%)\n",
    "nrow(df1[df1$qv<0.05,])\n",
    "# significant eGenes (FDR<5%)\n",
    "length(unique(df1[df1$qv<0.05,\"gene\"]))\n",
    "df_GxC = df1"
   ]
  },
  {
   "cell_type": "code",
   "execution_count": 72,
   "id": "0d2a9fa3",
   "metadata": {},
   "outputs": [
    {
     "name": "stderr",
     "output_type": "stream",
     "text": [
      "Joining, by = \"gene\"\n"
     ]
    },
    {
     "data": {
      "text/html": [
       "307"
      ],
      "text/latex": [
       "307"
      ],
      "text/markdown": [
       "307"
      ],
      "text/plain": [
       "[1] 307"
      ]
     },
     "metadata": {},
     "output_type": "display_data"
    },
    {
     "data": {
      "text/html": [
       "<table>\n",
       "<thead><tr><th scope=col>r</th><th scope=col>r2</th><th scope=col>gene</th><th scope=col>n_snps</th><th scope=col>chrom</th><th scope=col>pv_raw</th><th scope=col>snpID</th><th scope=col>pv</th><th scope=col>gene_old</th><th scope=col>qv</th></tr></thead>\n",
       "<tbody>\n",
       "\t<tr><td> 0.2041484     </td><td>0.04167658     </td><td>ABHD10         </td><td>3              </td><td> 3             </td><td>4.688236e-02   </td><td>3_111637691_T_C</td><td>1.406471e-01   </td><td>ABHD10         </td><td>4.305066e-01   </td></tr>\n",
       "\t<tr><td> 0.2041484     </td><td>0.04167658     </td><td>ABHD10         </td><td>3              </td><td> 3             </td><td>1.513774e-02   </td><td>3_111689815_A_T</td><td>4.541323e-02   </td><td>ABHD10         </td><td>2.090925e-01   </td></tr>\n",
       "\t<tr><td> 0.2041484     </td><td>0.04167658     </td><td>ABHD10         </td><td>3              </td><td> 3             </td><td>1.561781e-04   </td><td>3_111697439_T_G</td><td>4.685343e-04   </td><td>ABHD10         </td><td>5.824023e-03   </td></tr>\n",
       "\t<tr><td>-0.2470040     </td><td>0.06101097     </td><td>ABHD12B        </td><td>1              </td><td>14             </td><td>5.550779e-08   </td><td>14_51328222_C_T</td><td>5.550779e-08   </td><td>ABHD12B        </td><td>1.997307e-06   </td></tr>\n",
       "\t<tr><td>-0.1040721     </td><td>0.01083099     </td><td>ACKR2          </td><td>1              </td><td> 3             </td><td>3.590770e-04   </td><td>3_42817129_C_T </td><td>3.590770e-04   </td><td>ACKR2          </td><td>4.661184e-03   </td></tr>\n",
       "\t<tr><td>-0.3541595     </td><td>0.12542894     </td><td>ADD2           </td><td>2              </td><td> 2             </td><td>6.938277e-03   </td><td>2_70884208_G_C </td><td>1.387655e-02   </td><td>ADD2           </td><td>8.784202e-02   </td></tr>\n",
       "</tbody>\n",
       "</table>\n"
      ],
      "text/latex": [
       "\\begin{tabular}{r|llllllllll}\n",
       " r & r2 & gene & n\\_snps & chrom & pv\\_raw & snpID & pv & gene\\_old & qv\\\\\n",
       "\\hline\n",
       "\t  0.2041484            & 0.04167658            & ABHD10                & 3                     &  3                    & 4.688236e-02          & 3\\_111637691\\_T\\_C & 1.406471e-01          & ABHD10                & 4.305066e-01         \\\\\n",
       "\t  0.2041484            & 0.04167658            & ABHD10                & 3                     &  3                    & 1.513774e-02          & 3\\_111689815\\_A\\_T & 4.541323e-02          & ABHD10                & 2.090925e-01         \\\\\n",
       "\t  0.2041484            & 0.04167658            & ABHD10                & 3                     &  3                    & 1.561781e-04          & 3\\_111697439\\_T\\_G & 4.685343e-04          & ABHD10                & 5.824023e-03         \\\\\n",
       "\t -0.2470040            & 0.06101097            & ABHD12B               & 1                     & 14                    & 5.550779e-08          & 14\\_51328222\\_C\\_T & 5.550779e-08          & ABHD12B               & 1.997307e-06         \\\\\n",
       "\t -0.1040721            & 0.01083099            & ACKR2                 & 1                     &  3                    & 3.590770e-04          & 3\\_42817129\\_C\\_T  & 3.590770e-04          & ACKR2                 & 4.661184e-03         \\\\\n",
       "\t -0.3541595            & 0.12542894            & ADD2                  & 2                     &  2                    & 6.938277e-03          & 2\\_70884208\\_G\\_C  & 1.387655e-02          & ADD2                  & 8.784202e-02         \\\\\n",
       "\\end{tabular}\n"
      ],
      "text/markdown": [
       "\n",
       "| r | r2 | gene | n_snps | chrom | pv_raw | snpID | pv | gene_old | qv |\n",
       "|---|---|---|---|---|---|---|---|---|---|\n",
       "|  0.2041484      | 0.04167658      | ABHD10          | 3               |  3              | 4.688236e-02    | 3_111637691_T_C | 1.406471e-01    | ABHD10          | 4.305066e-01    |\n",
       "|  0.2041484      | 0.04167658      | ABHD10          | 3               |  3              | 1.513774e-02    | 3_111689815_A_T | 4.541323e-02    | ABHD10          | 2.090925e-01    |\n",
       "|  0.2041484      | 0.04167658      | ABHD10          | 3               |  3              | 1.561781e-04    | 3_111697439_T_G | 4.685343e-04    | ABHD10          | 5.824023e-03    |\n",
       "| -0.2470040      | 0.06101097      | ABHD12B         | 1               | 14              | 5.550779e-08    | 14_51328222_C_T | 5.550779e-08    | ABHD12B         | 1.997307e-06    |\n",
       "| -0.1040721      | 0.01083099      | ACKR2           | 1               |  3              | 3.590770e-04    | 3_42817129_C_T  | 3.590770e-04    | ACKR2           | 4.661184e-03    |\n",
       "| -0.3541595      | 0.12542894      | ADD2            | 2               |  2              | 6.938277e-03    | 2_70884208_G_C  | 1.387655e-02    | ADD2            | 8.784202e-02    |\n",
       "\n"
      ],
      "text/plain": [
       "  r          r2         gene    n_snps chrom pv_raw       snpID          \n",
       "1  0.2041484 0.04167658 ABHD10  3       3    4.688236e-02 3_111637691_T_C\n",
       "2  0.2041484 0.04167658 ABHD10  3       3    1.513774e-02 3_111689815_A_T\n",
       "3  0.2041484 0.04167658 ABHD10  3       3    1.561781e-04 3_111697439_T_G\n",
       "4 -0.2470040 0.06101097 ABHD12B 1      14    5.550779e-08 14_51328222_C_T\n",
       "5 -0.1040721 0.01083099 ACKR2   1       3    3.590770e-04 3_42817129_C_T \n",
       "6 -0.3541595 0.12542894 ADD2    2       2    6.938277e-03 2_70884208_G_C \n",
       "  pv           gene_old qv          \n",
       "1 1.406471e-01 ABHD10   4.305066e-01\n",
       "2 4.541323e-02 ABHD10   2.090925e-01\n",
       "3 4.685343e-04 ABHD10   5.824023e-03\n",
       "4 5.550779e-08 ABHD12B  1.997307e-06\n",
       "5 3.590770e-04 ACKR2    4.661184e-03\n",
       "6 1.387655e-02 ADD2     8.784202e-02"
      ]
     },
     "metadata": {},
     "output_type": "display_data"
    }
   ],
   "source": [
    "df_plot = inner_join(df_r,df_GxC)\n",
    "nrow(df_plot)\n",
    "head(df_plot)"
   ]
  },
  {
   "cell_type": "code",
   "execution_count": 73,
   "id": "4a07d30d",
   "metadata": {},
   "outputs": [
    {
     "data": {
      "text/plain": [
       "\n",
       "\tPearson's product-moment correlation\n",
       "\n",
       "data:  -log10(df_plot$pv_raw) and df_plot$r\n",
       "t = 2.2401, df = 302, p-value = 0.02581\n",
       "alternative hypothesis: true correlation is not equal to 0\n",
       "95 percent confidence interval:\n",
       " 0.01557608 0.23692927\n",
       "sample estimates:\n",
       "      cor \n",
       "0.1278444 \n"
      ]
     },
     "metadata": {},
     "output_type": "display_data"
    }
   ],
   "source": [
    "cor.test(-log10(df_plot$pv_raw), df_plot$r)"
   ]
  },
  {
   "cell_type": "code",
   "execution_count": 74,
   "id": "5df77f1f",
   "metadata": {},
   "outputs": [
    {
     "name": "stderr",
     "output_type": "stream",
     "text": [
      "Warning message:\n",
      "“Removed 3 rows containing missing values (geom_point).”"
     ]
    },
    {
     "data": {
      "image/png": "[encoded data removed]",
      "text/plain": [
       "plot without title"
      ]
     },
     "metadata": {},
     "output_type": "display_data"
    }
   ],
   "source": [
    "options(repr.plot.width=5, repr.plot.height=5)\n",
    "ggplot(df_plot, aes(y=-log10(pv_raw), x=r)) + geom_point() + theme_minimal()"
   ]
  },
  {
   "cell_type": "code",
   "execution_count": 75,
   "id": "9ba2e0ef",
   "metadata": {},
   "outputs": [
    {
     "data": {
      "text/plain": [
       "\n",
       "\tPearson's product-moment correlation\n",
       "\n",
       "data:  -log10(df_plot$pv_raw) and df_plot$r2\n",
       "t = 1.7622, df = 302, p-value = 0.07905\n",
       "alternative hypothesis: true correlation is not equal to 0\n",
       "95 percent confidence interval:\n",
       " -0.01174098  0.21098248\n",
       "sample estimates:\n",
       "      cor \n",
       "0.1008846 \n"
      ]
     },
     "metadata": {},
     "output_type": "display_data"
    }
   ],
   "source": [
    "cor.test(-log10(df_plot$pv_raw), df_plot$r2)"
   ]
  },
  {
   "cell_type": "code",
   "execution_count": 76,
   "id": "c260a81d",
   "metadata": {},
   "outputs": [
    {
     "name": "stderr",
     "output_type": "stream",
     "text": [
      "Warning message:\n",
      "“Removed 3 rows containing missing values (geom_point).”"
     ]
    },
    {
     "data": {
      "image/png": "[encoded data removed]",
      "text/plain": [
       "plot without title"
      ]
     },
     "metadata": {},
     "output_type": "display_data"
    }
   ],
   "source": [
    "ggplot(df_plot, aes(y=-log10(pv_raw), x=r2)) + geom_point() + theme_minimal()"
   ]
  },
  {
   "cell_type": "code",
   "execution_count": 77,
   "id": "b8af2243",
   "metadata": {},
   "outputs": [
    {
     "name": "stderr",
     "output_type": "stream",
     "text": [
      "Warning message:\n",
      "“Removed 3 rows containing missing values (geom_point).”"
     ]
    },
    {
     "data": {
      "image/png": "[encoded data removed]",
      "text/plain": [
       "plot without title"
      ]
     },
     "metadata": {},
     "output_type": "display_data"
    }
   ],
   "source": [
    "options(repr.plot.width=5, repr.plot.height=5)\n",
    "ggplot(df_plot, aes(y=-log10(pv_raw), x=r2)) + geom_point() + theme_bw() + theme(text = element_text(size=18)) + \n",
    "    xlab(\"R^2 (GxC, expr. profiles)\") + ylab(\"-log10(P)\")"
   ]
  },
  {
   "cell_type": "code",
   "execution_count": null,
   "id": "8bf4eccf",
   "metadata": {},
   "outputs": [],
   "source": []
  },
  {
   "cell_type": "code",
   "execution_count": null,
   "id": "a20454bf",
   "metadata": {},
   "outputs": [],
   "source": [
    "df1 = abs(df)"
   ]
  },
  {
   "cell_type": "code",
   "execution_count": null,
   "id": "f996d9fc",
   "metadata": {},
   "outputs": [],
   "source": [
    "r2 = c()\n",
    "for (gene in colnames(df1)){\n",
    "    r2 = c(r2,cor(df0[,gene],df1[,gene]))\n",
    "}"
   ]
  },
  {
   "cell_type": "code",
   "execution_count": null,
   "id": "aae0d49b",
   "metadata": {},
   "outputs": [],
   "source": [
    "hist(r2)"
   ]
  },
  {
   "cell_type": "code",
   "execution_count": null,
   "id": "bbd45913",
   "metadata": {},
   "outputs": [],
   "source": [
    "df_r = data.frame(r2=r2)\n",
    "p = ggplot(df_r, aes(x=r2)) + geom_histogram(alpha = 0.8) + \n",
    "    xlab(\"Correlation of expression vs genetic effect dynamics\") + \n",
    "    ylab(\"Number of genes\") + theme_minimal()\n",
    "p"
   ]
  },
  {
   "cell_type": "code",
   "execution_count": null,
   "id": "e9f3db02",
   "metadata": {},
   "outputs": [],
   "source": []
  },
  {
   "cell_type": "code",
   "execution_count": null,
   "id": "989abc49",
   "metadata": {},
   "outputs": [],
   "source": []
  }
 ],
 "metadata": {
  "kernelspec": {
   "display_name": "R",
   "language": "R",
   "name": "ir"
  },
  "language_info": {
   "codemirror_mode": "r",
   "file_extension": ".r",
   "mimetype": "text/x-r-source",
   "name": "R",
   "pygments_lexer": "r",
   "version": "3.6.1"
  }
 },
 "nbformat": 4,
 "nbformat_minor": 5
}
