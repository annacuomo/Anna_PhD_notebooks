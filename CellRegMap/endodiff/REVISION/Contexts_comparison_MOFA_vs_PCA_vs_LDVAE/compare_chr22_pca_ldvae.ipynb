{
 "cells": [
  {
   "cell_type": "code",
   "execution_count": 7,
   "id": "5a08e2cb",
   "metadata": {},
   "outputs": [],
   "source": [
    "library(ggplot2)\n",
    "library(cowplot)"
   ]
  },
  {
   "cell_type": "code",
   "execution_count": 71,
   "id": "162236c1",
   "metadata": {},
   "outputs": [],
   "source": [
    "## MOFA (pv2)\n",
    "x = c(8.465845e-10,  2.912894e-02, 3.468064e-10,  0.005462, 0.348159, 0.092094, 0.018068, 0.202231, 0.375638, 0.720105, 0.471773, \n",
    "     3.969373e-13, 5.576247e-13, 0.208862, 0.656033, 0.353284, 0.006725, 0.888190, 0.000003, 0.011491, 1.328878e-11, 6.727592e-12,\n",
    "     0.436182, 0.686520, 2.398976e-17,  1.300539e-11, 3.080535e-10, 3.930914e-09, 0.318595, 0.057419, 0.011458, 0.914385, 0.971026, 0.057087,\n",
    "     0.038254, 0.000005, 0.419376, 0.145234, 0.25096)\n",
    "## PCA same settings (pv1)\n",
    "y0 = c(3.925165e-08, 1.479959e-01, 0.000002, 0.000013, 0.506967, 0.623026, 0.573080, 0.617558, 0.010549, 0.063797,  0.737298, \n",
    "      4.305688e-08, 4.265852e-08,  0.496111, 0.113183, 0.770560, 0.006461, 0.843212, 0.000083, 0.790454, 0.371885, 0.000005,\n",
    "      0.002163, 0.000973, 0.002189, 2.790155e-01, 1.607384e-05, 7.375778e-07, 0.167699, 0.076387, 0.016253, 0.151978, 0.399287, 0.000248,\n",
    "      0.060604, 0.001412, 0.027694, 3.246701e-13, 0.235666)\n",
    "## PCA new settings (pv3)\n",
    "y1 = c(2.621800e-09, 1.523839e-01, 7.361991e-07, 0.000091,  0.150256, 0.208150, 0.071290,  0.103972, 0.594653, 0.873261, 0.880462, \n",
    "    5.975197e-11, 6.204527e-11, 0.073163, 0.522266, 0.157959, 0.000009, 0.771356,  0.000026, 0.015247, 0.000002,  0.000001,\n",
    "      0.068251, 0.344028, 1.544407e-11, 5.245872e-07, 7.264206e-06, 1.030548e-07, 0.032324, 0.660564, 0.026923, 0.761398, 0.941789, 0.027940,\n",
    "      0.138652, 0.000231, 0.123492, 0.212339, 0.099479)"
   ]
  },
  {
   "cell_type": "code",
   "execution_count": 72,
   "id": "4888800c",
   "metadata": {},
   "outputs": [],
   "source": [
    "df_plot = data.frame(x=x, y0=y0)\n",
    "df_plot = data.frame(x=x, y0=y0, y1=y1)"
   ]
  },
  {
   "cell_type": "code",
   "execution_count": 73,
   "id": "883ec718",
   "metadata": {},
   "outputs": [
    {
     "data": {
      "text/plain": [
       "\n",
       "\tPearson's product-moment correlation\n",
       "\n",
       "data:  x and y0\n",
       "t = 1.6918, df = 37, p-value = 0.09909\n",
       "alternative hypothesis: true correlation is not equal to 0\n",
       "95 percent confidence interval:\n",
       " -0.05195239  0.53798969\n",
       "sample estimates:\n",
       "     cor \n",
       "0.267957 \n"
      ]
     },
     "metadata": {},
     "output_type": "display_data"
    },
    {
     "data": {
      "text/plain": [
       "\n",
       "\tPearson's product-moment correlation\n",
       "\n",
       "data:  -log10(x) and -log10(y0)\n",
       "t = 3.1839, df = 37, p-value = 0.002945\n",
       "alternative hypothesis: true correlation is not equal to 0\n",
       "95 percent confidence interval:\n",
       " 0.1736299 0.6797926\n",
       "sample estimates:\n",
       "      cor \n",
       "0.4637417 \n"
      ]
     },
     "metadata": {},
     "output_type": "display_data"
    }
   ],
   "source": [
    "cor.test(x,y0)\n",
    "cor.test(-log10(x),-log10(y0))"
   ]
  },
  {
   "cell_type": "code",
   "execution_count": 74,
   "id": "6fafb388",
   "metadata": {},
   "outputs": [
    {
     "data": {
      "text/plain": [
       "\n",
       "\tPearson's product-moment correlation\n",
       "\n",
       "data:  x and y1\n",
       "t = 8.5192, df = 37, p-value = 2.991e-10\n",
       "alternative hypothesis: true correlation is not equal to 0\n",
       "95 percent confidence interval:\n",
       " 0.6704945 0.8986121\n",
       "sample estimates:\n",
       "      cor \n",
       "0.8138414 \n"
      ]
     },
     "metadata": {},
     "output_type": "display_data"
    },
    {
     "data": {
      "text/plain": [
       "\n",
       "\tPearson's product-moment correlation\n",
       "\n",
       "data:  -log10(x) and -log10(y1)\n",
       "t = 17.506, df = 37, p-value < 2.2e-16\n",
       "alternative hypothesis: true correlation is not equal to 0\n",
       "95 percent confidence interval:\n",
       " 0.8961761 0.9707860\n",
       "sample estimates:\n",
       "      cor \n",
       "0.9445993 \n"
      ]
     },
     "metadata": {},
     "output_type": "display_data"
    }
   ],
   "source": [
    "cor.test(x,y1)\n",
    "cor.test(-log10(x),-log10(y1))"
   ]
  },
  {
   "cell_type": "code",
   "execution_count": 75,
   "id": "fc57377a",
   "metadata": {},
   "outputs": [
    {
     "data": {
      "image/png": "[encoded data removed]",
      "text/plain": [
       "plot without title"
      ]
     },
     "metadata": {},
     "output_type": "display_data"
    }
   ],
   "source": [
    "options(repr.plot.width = 8, repr.plot.height = 4)\n",
    "p0 = ggplot(df_plot, aes(x=-log10(x), y=-log10(y0))) + geom_point() + theme_classic() + geom_abline()\n",
    "p0 = p0 + xlab(\"MOFA\") + ylab(\"PCA\") + xlim(c(0,17)) + ylim(c(0,17))\n",
    "p1 = ggplot(df_plot, aes(x=-log10(x), y=-log10(y1))) + geom_point() + theme_classic() + geom_abline()\n",
    "p1 = p1 + xlab(\"MOFA\") + ylab(\"PCA\") + xlim(c(0,17)) + ylim(c(0,17))\n",
    "plot_grid(p0,p1,ncol=2)"
   ]
  },
  {
   "cell_type": "code",
   "execution_count": null,
   "id": "f9c58d04",
   "metadata": {},
   "outputs": [],
   "source": []
  },
  {
   "cell_type": "code",
   "execution_count": null,
   "id": "eddd52a6",
   "metadata": {},
   "outputs": [],
   "source": []
  },
  {
   "cell_type": "code",
   "execution_count": 85,
   "id": "35b9b3aa",
   "metadata": {},
   "outputs": [],
   "source": [
    "endo_folder = \"/hps/nobackup/stegle/users/acuomo/all_scripts/struct_LMM2/sc_endodiff/debug_May2021/\""
   ]
  },
  {
   "cell_type": "code",
   "execution_count": 89,
   "id": "e15e676d",
   "metadata": {},
   "outputs": [
    {
     "data": {
      "text/html": [
       "<table>\n",
       "<thead><tr><th></th><th scope=col>gene</th><th scope=col>n_snps</th><th scope=col>chrom</th><th scope=col>pv_raw</th><th scope=col>snpID</th><th scope=col>pv</th><th scope=col>gene_name</th></tr></thead>\n",
       "<tbody>\n",
       "\t<tr><th scope=row>15</th><td>ENSG00000189306      </td><td>3                    </td><td>22                   </td><td>0.09209385           </td><td>22_42896474_T_C      </td><td>0.2762815            </td><td>ENSG00000189306_RRP7A</td></tr>\n",
       "\t<tr><th scope=row>16</th><td>ENSG00000189306      </td><td>3                    </td><td>22                   </td><td>0.01806787           </td><td>22_42897414_A_C      </td><td>0.0542036            </td><td>ENSG00000189306_RRP7A</td></tr>\n",
       "</tbody>\n",
       "</table>\n"
      ],
      "text/latex": [
       "\\begin{tabular}{r|lllllll}\n",
       "  & gene & n\\_snps & chrom & pv\\_raw & snpID & pv & gene\\_name\\\\\n",
       "\\hline\n",
       "\t15 & ENSG00000189306         & 3                       & 22                      & 0.09209385              & 22\\_42896474\\_T\\_C   & 0.2762815               & ENSG00000189306\\_RRP7A\\\\\n",
       "\t16 & ENSG00000189306         & 3                       & 22                      & 0.01806787              & 22\\_42897414\\_A\\_C   & 0.0542036               & ENSG00000189306\\_RRP7A\\\\\n",
       "\\end{tabular}\n"
      ],
      "text/markdown": [
       "\n",
       "| <!--/--> | gene | n_snps | chrom | pv_raw | snpID | pv | gene_name |\n",
       "|---|---|---|---|---|---|---|---|\n",
       "| 15 | ENSG00000189306       | 3                     | 22                    | 0.09209385            | 22_42896474_T_C       | 0.2762815             | ENSG00000189306_RRP7A |\n",
       "| 16 | ENSG00000189306       | 3                     | 22                    | 0.01806787            | 22_42897414_A_C       | 0.0542036             | ENSG00000189306_RRP7A |\n",
       "\n"
      ],
      "text/plain": [
       "   gene            n_snps chrom pv_raw     snpID           pv       \n",
       "15 ENSG00000189306 3      22    0.09209385 22_42896474_T_C 0.2762815\n",
       "16 ENSG00000189306 3      22    0.01806787 22_42897414_A_C 0.0542036\n",
       "   gene_name            \n",
       "15 ENSG00000189306_RRP7A\n",
       "16 ENSG00000189306_RRP7A"
      ]
     },
     "metadata": {},
     "output_type": "display_data"
    },
    {
     "data": {
      "text/html": [
       "121"
      ],
      "text/latex": [
       "121"
      ],
      "text/markdown": [
       "121"
      ],
      "text/plain": [
       "[1] 121"
      ]
     },
     "metadata": {},
     "output_type": "display_data"
    }
   ],
   "source": [
    "mofa_filename = paste0(endo_folder, 'MOFA10/new4/summary.csv')\n",
    "mofa = read.csv(mofa_filename, row.names=1)\n",
    "mofa$gene_name = mofa$gene\n",
    "mofa$gene = gsub(\"_.*\",\"\",mofa$gene)\n",
    "mofa = mofa[mofa$chrom == 22,]\n",
    "head(mofa,2)\n",
    "nrow(mofa)"
   ]
  },
  {
   "cell_type": "code",
   "execution_count": 90,
   "id": "9434a7ac",
   "metadata": {},
   "outputs": [
    {
     "data": {
      "text/html": [
       "<table>\n",
       "<thead><tr><th></th><th scope=col>gene</th><th scope=col>n_snps</th><th scope=col>chrom</th><th scope=col>pv_raw</th><th scope=col>snpID</th></tr></thead>\n",
       "<tbody>\n",
       "\t<tr><th scope=row>15</th><td>ENSG00000189306</td><td>3              </td><td>22             </td><td>0.6230256      </td><td>22_42896474_T_C</td></tr>\n",
       "\t<tr><th scope=row>16</th><td>ENSG00000189306</td><td>3              </td><td>22             </td><td>0.5730801      </td><td>22_42897414_A_C</td></tr>\n",
       "</tbody>\n",
       "</table>\n"
      ],
      "text/latex": [
       "\\begin{tabular}{r|lllll}\n",
       "  & gene & n\\_snps & chrom & pv\\_raw & snpID\\\\\n",
       "\\hline\n",
       "\t15 & ENSG00000189306       & 3                     & 22                    & 0.6230256             & 22\\_42896474\\_T\\_C\\\\\n",
       "\t16 & ENSG00000189306       & 3                     & 22                    & 0.5730801             & 22\\_42897414\\_A\\_C\\\\\n",
       "\\end{tabular}\n"
      ],
      "text/markdown": [
       "\n",
       "| <!--/--> | gene | n_snps | chrom | pv_raw | snpID |\n",
       "|---|---|---|---|---|---|\n",
       "| 15 | ENSG00000189306 | 3               | 22              | 0.6230256       | 22_42896474_T_C |\n",
       "| 16 | ENSG00000189306 | 3               | 22              | 0.5730801       | 22_42897414_A_C |\n",
       "\n"
      ],
      "text/plain": [
       "   gene            n_snps chrom pv_raw    snpID          \n",
       "15 ENSG00000189306 3      22    0.6230256 22_42896474_T_C\n",
       "16 ENSG00000189306 3      22    0.5730801 22_42897414_A_C"
      ]
     },
     "metadata": {},
     "output_type": "display_data"
    },
    {
     "data": {
      "text/html": [
       "121"
      ],
      "text/latex": [
       "121"
      ],
      "text/markdown": [
       "121"
      ],
      "text/plain": [
       "[1] 121"
      ]
     },
     "metadata": {},
     "output_type": "display_data"
    }
   ],
   "source": [
    "pca0_filename = paste0(endo_folder,\"REVISION/CRM_int_PCA/summary.csv\")\n",
    "pca0 = read.csv(pca0_filename, row.names=1)\n",
    "pca0 = pca0[pca0$chrom == 22,]\n",
    "head(pca0,2)\n",
    "nrow(pca0)"
   ]
  },
  {
   "cell_type": "code",
   "execution_count": 100,
   "id": "87d77866",
   "metadata": {},
   "outputs": [
    {
     "data": {
      "text/html": [
       "<table>\n",
       "<thead><tr><th scope=col>chrom</th><th scope=col>gene</th><th scope=col>pv</th><th scope=col>variant</th><th scope=col>snpID</th><th scope=col>pv_raw</th><th scope=col>gene_name</th></tr></thead>\n",
       "<tbody>\n",
       "\t<tr><td>22                      </td><td>ENSG00000100058         </td><td>6.129443e-10            </td><td>22_25845855_C_G         </td><td>22_25845855_C_G         </td><td>6.129443e-10            </td><td>ENSG00000100058_CRYBB2P1</td></tr>\n",
       "\t<tr><td>22                      </td><td>ENSG00000100058         </td><td>1.097532e-02            </td><td>22_25924999_G_A         </td><td>22_25924999_G_A         </td><td>1.097532e-02            </td><td>ENSG00000100058_CRYBB2P1</td></tr>\n",
       "</tbody>\n",
       "</table>\n"
      ],
      "text/latex": [
       "\\begin{tabular}{r|lllllll}\n",
       " chrom & gene & pv & variant & snpID & pv\\_raw & gene\\_name\\\\\n",
       "\\hline\n",
       "\t 22                         & ENSG00000100058            & 6.129443e-10               & 22\\_25845855\\_C\\_G      & 22\\_25845855\\_C\\_G      & 6.129443e-10               & ENSG00000100058\\_CRYBB2P1\\\\\n",
       "\t 22                         & ENSG00000100058            & 1.097532e-02               & 22\\_25924999\\_G\\_A      & 22\\_25924999\\_G\\_A      & 1.097532e-02               & ENSG00000100058\\_CRYBB2P1\\\\\n",
       "\\end{tabular}\n"
      ],
      "text/markdown": [
       "\n",
       "| chrom | gene | pv | variant | snpID | pv_raw | gene_name |\n",
       "|---|---|---|---|---|---|---|\n",
       "| 22                       | ENSG00000100058          | 6.129443e-10             | 22_25845855_C_G          | 22_25845855_C_G          | 6.129443e-10             | ENSG00000100058_CRYBB2P1 |\n",
       "| 22                       | ENSG00000100058          | 1.097532e-02             | 22_25924999_G_A          | 22_25924999_G_A          | 1.097532e-02             | ENSG00000100058_CRYBB2P1 |\n",
       "\n"
      ],
      "text/plain": [
       "  chrom gene            pv           variant         snpID          \n",
       "1 22    ENSG00000100058 6.129443e-10 22_25845855_C_G 22_25845855_C_G\n",
       "2 22    ENSG00000100058 1.097532e-02 22_25924999_G_A 22_25924999_G_A\n",
       "  pv_raw       gene_name               \n",
       "1 6.129443e-10 ENSG00000100058_CRYBB2P1\n",
       "2 1.097532e-02 ENSG00000100058_CRYBB2P1"
      ]
     },
     "metadata": {},
     "output_type": "display_data"
    },
    {
     "data": {
      "text/html": [
       "121"
      ],
      "text/latex": [
       "121"
      ],
      "text/markdown": [
       "121"
      ],
      "text/plain": [
       "[1] 121"
      ]
     },
     "metadata": {},
     "output_type": "display_data"
    }
   ],
   "source": [
    "pca1_filename = paste0(endo_folder,\"REVISION/CRM_int_PCA/summary_new.csv\")\n",
    "pca1 = read.csv(pca1_filename)\n",
    "pca1$snpID = pca1$variant\n",
    "pca1$pv_raw = pca1$pv\n",
    "pca1$gene_name = pca1$gene\n",
    "pca1$gene = gsub(\"_.*\",\"\",pca1$gene)\n",
    "pca1$X <- c()\n",
    "head(pca1,2)\n",
    "nrow(pca1)"
   ]
  },
  {
   "cell_type": "code",
   "execution_count": 102,
   "id": "137f8f4c",
   "metadata": {},
   "outputs": [],
   "source": [
    "library(dplyr)\n",
    "df0 = inner_join(mofa, pca0, by=c(\"snpID\",\"gene\"), suffix=c(\".m\",\".p\"))\n",
    "df1 = inner_join(mofa, pca1, by=c(\"snpID\",\"gene\"), suffix=c(\".m\",\".p\"))"
   ]
  },
  {
   "cell_type": "code",
   "execution_count": 99,
   "id": "1547dd0c",
   "metadata": {},
   "outputs": [
    {
     "data": {
      "text/plain": [
       "\n",
       "\tPearson's product-moment correlation\n",
       "\n",
       "data:  x and y0\n",
       "t = 5.6103, df = 119, p-value = 1.337e-07\n",
       "alternative hypothesis: true correlation is not equal to 0\n",
       "95 percent confidence interval:\n",
       " 0.3036477 0.5878612\n",
       "sample estimates:\n",
       "      cor \n",
       "0.4573555 \n"
      ]
     },
     "metadata": {},
     "output_type": "display_data"
    },
    {
     "data": {
      "text/plain": [
       "\n",
       "\tPearson's product-moment correlation\n",
       "\n",
       "data:  -log10(x) and -log10(y0)\n",
       "t = 4.3281, df = 119, p-value = 3.151e-05\n",
       "alternative hypothesis: true correlation is not equal to 0\n",
       "95 percent confidence interval:\n",
       " 0.2037023 0.5134846\n",
       "sample estimates:\n",
       "      cor \n",
       "0.3687896 \n"
      ]
     },
     "metadata": {},
     "output_type": "display_data"
    }
   ],
   "source": [
    "x = df0$pv_raw.m\n",
    "y0 = df0$pv_raw.p\n",
    "cor.test(x,y0)\n",
    "cor.test(-log10(x),-log10(y0))"
   ]
  },
  {
   "cell_type": "code",
   "execution_count": 103,
   "id": "cf83eb05",
   "metadata": {},
   "outputs": [
    {
     "data": {
      "text/plain": [
       "\n",
       "\tPearson's product-moment correlation\n",
       "\n",
       "data:  x and y1\n",
       "t = 17.412, df = 119, p-value < 2.2e-16\n",
       "alternative hypothesis: true correlation is not equal to 0\n",
       "95 percent confidence interval:\n",
       " 0.7881364 0.8911226\n",
       "sample estimates:\n",
       "      cor \n",
       "0.8474184 \n"
      ]
     },
     "metadata": {},
     "output_type": "display_data"
    },
    {
     "data": {
      "text/plain": [
       "\n",
       "\tPearson's product-moment correlation\n",
       "\n",
       "data:  -log10(x) and -log10(y1)\n",
       "t = 31.974, df = 119, p-value < 2.2e-16\n",
       "alternative hypothesis: true correlation is not equal to 0\n",
       "95 percent confidence interval:\n",
       " 0.9240385 0.9623540\n",
       "sample estimates:\n",
       "      cor \n",
       "0.9464326 \n"
      ]
     },
     "metadata": {},
     "output_type": "display_data"
    }
   ],
   "source": [
    "x = df1$pv_raw.m\n",
    "y1 = df1$pv_raw.p\n",
    "cor.test(x,y1)\n",
    "cor.test(-log10(x),-log10(y1))"
   ]
  },
  {
   "cell_type": "code",
   "execution_count": 107,
   "id": "c66ed27a",
   "metadata": {},
   "outputs": [
    {
     "data": {
      "image/png": "[encoded data removed]",
      "text/plain": [
       "plot without title"
      ]
     },
     "metadata": {},
     "output_type": "display_data"
    }
   ],
   "source": [
    "options(repr.plot.width = 8, repr.plot.height = 4)\n",
    "p0 = ggplot(df0, aes(x=-log10(pv_raw.m), y=-log10(pv_raw.p))) + geom_point() + theme_classic() + geom_abline()\n",
    "p0 = p0 + xlab(\"MOFA\") + ylab(\"PCA\") + xlim(c(0,20)) + ylim(c(0,20))\n",
    "p1 = ggplot(df1, aes(x=-log10(pv_raw.m), y=-log10(pv_raw.p))) + geom_point() + theme_classic() + geom_abline()\n",
    "p1 = p1 + xlab(\"MOFA\") + ylab(\"PCA\") + xlim(c(0,20)) + ylim(c(0,20))\n",
    "plot_grid(p0,p1,ncol=2)"
   ]
  },
  {
   "cell_type": "code",
   "execution_count": null,
   "id": "99e17127",
   "metadata": {},
   "outputs": [],
   "source": []
  },
  {
   "cell_type": "code",
   "execution_count": null,
   "id": "00d659ed",
   "metadata": {},
   "outputs": [],
   "source": []
  },
  {
   "cell_type": "code",
   "execution_count": null,
   "id": "217fa32e",
   "metadata": {},
   "outputs": [],
   "source": [
    "##### LDVAE"
   ]
  },
  {
   "cell_type": "code",
   "execution_count": 297,
   "id": "a2756b27",
   "metadata": {},
   "outputs": [],
   "source": [
    "## MOFA (pv2)\n",
    "x = c(8.465845e-10,  2.912894e-02, 3.468064e-10,  0.005462, 0.348159, 0.092094, 0.018068, 0.202231, 0.375638, \n",
    "    0.720105, 0.471773, 3.969373e-13, 5.576247e-13, 0.208862, 0.656033, 0.353284, 0.006725, 0.888190, 0.000003, \n",
    "    0.011491, 1.328878e-11, 6.727592e-12, 0.436182, 0.686520, 2.398976e-17,  1.300539e-11, 3.080535e-10, \n",
    "    3.930914e-09, 0.318595, 0.057419, 0.011458, 0.914385, 0.971026, 0.057087,0.038254, 0.000005, 0.419376, \n",
    "    0.145234)#, 0.25096)"
   ]
  },
  {
   "cell_type": "code",
   "execution_count": 298,
   "id": "74463906",
   "metadata": {},
   "outputs": [],
   "source": [
    "## LDVAE same settings (pv1)\n",
    "y0 = c(1.103523e-07, 9.014011e-02, 0.000746, 0.000141, 0.316305, 0.015920, 0.004250, 0.113659, 0.258806, 0.342259,\n",
    "      0.169668, 1.945436e-11, 8.723618e-12, 0.000201, 0.307953, 0.033377, 0.000003, 0.775450, 0.075479, 0.461629,\n",
    "      0.034528, 0.000027, 0.175667, 0.440837, 2.674606e-07, 0.000772, 0.000173, 0.066520, 0.129119, 0.020621,\n",
    "      0.003417, 0.647512, 0.454538, 0.137590, 2.631526e-03, 6.865877e-07, 0.047961, 0.147208)\n",
    "## LDVAE new settings (pv3)\n",
    "y1 = c(1.913650e-07, 1.247358e-01, 0.000003, 0.000080, 0.266093, 0.063700, 0.010664, 0.105129, 0.452147, 0.622567,\n",
    "      0.656348, 2.010416e-14, 2.503091e-15, 0.000036, 0.395675, 0.010078, 0.000001, 0.810282,  0.179800, 0.810958,\n",
    "      0.011071, 0.000676, 0.035383, 0.225566, 4.862919e-08, 0.000266, 0.000696, 0.008577, 0.11841, 0.129038,\n",
    "      0.00625, 0.510671, 0.407241, 0.032559, 0.005250, 0.000002, 0.230244, 0.22723)"
   ]
  },
  {
   "cell_type": "code",
   "execution_count": 299,
   "id": "c0ff07cb",
   "metadata": {},
   "outputs": [],
   "source": [
    "df_plot = data.frame(x=x, y0=y0, y1=y1)"
   ]
  },
  {
   "cell_type": "code",
   "execution_count": 300,
   "id": "0125c89d",
   "metadata": {},
   "outputs": [
    {
     "data": {
      "text/plain": [
       "\n",
       "\tPearson's product-moment correlation\n",
       "\n",
       "data:  x and y0\n",
       "t = 8.7997, df = 36, p-value = 1.684e-10\n",
       "alternative hypothesis: true correlation is not equal to 0\n",
       "95 percent confidence interval:\n",
       " 0.6883493 0.9064766\n",
       "sample estimates:\n",
       "      cor \n",
       "0.8262198 \n"
      ]
     },
     "metadata": {},
     "output_type": "display_data"
    },
    {
     "data": {
      "text/plain": [
       "\n",
       "\tPearson's product-moment correlation\n",
       "\n",
       "data:  -log10(x) and -log10(y0)\n",
       "t = 6.0765, df = 36, p-value = 5.492e-07\n",
       "alternative hypothesis: true correlation is not equal to 0\n",
       "95 percent confidence interval:\n",
       " 0.5072871 0.8401428\n",
       "sample estimates:\n",
       "      cor \n",
       "0.7115737 \n"
      ]
     },
     "metadata": {},
     "output_type": "display_data"
    }
   ],
   "source": [
    "cor.test(x,y0)\n",
    "cor.test(-log10(x),-log10(y0))"
   ]
  },
  {
   "cell_type": "code",
   "execution_count": 301,
   "id": "3e037781",
   "metadata": {},
   "outputs": [
    {
     "data": {
      "text/plain": [
       "\n",
       "\tPearson's product-moment correlation\n",
       "\n",
       "data:  x and y1\n",
       "t = 5.5947, df = 36, p-value = 2.42e-06\n",
       "alternative hypothesis: true correlation is not equal to 0\n",
       "95 percent confidence interval:\n",
       " 0.4632945 0.8223673\n",
       "sample estimates:\n",
       "      cor \n",
       "0.6819726 \n"
      ]
     },
     "metadata": {},
     "output_type": "display_data"
    },
    {
     "data": {
      "text/plain": [
       "\n",
       "\tPearson's product-moment correlation\n",
       "\n",
       "data:  -log10(x) and -log10(y1)\n",
       "t = 5.9482, df = 36, p-value = 8.149e-07\n",
       "alternative hypothesis: true correlation is not equal to 0\n",
       "95 percent confidence interval:\n",
       " 0.4959825 0.8356424\n",
       "sample estimates:\n",
       "      cor \n",
       "0.7040358 \n"
      ]
     },
     "metadata": {},
     "output_type": "display_data"
    }
   ],
   "source": [
    "cor.test(x,y1)\n",
    "cor.test(-log10(x),-log10(y1))"
   ]
  },
  {
   "cell_type": "code",
   "execution_count": 302,
   "id": "1290bd20",
   "metadata": {},
   "outputs": [
    {
     "data": {
      "image/png": "[encoded data removed]",
      "text/plain": [
       "plot without title"
      ]
     },
     "metadata": {},
     "output_type": "display_data"
    }
   ],
   "source": [
    "options(repr.plot.width = 8, repr.plot.height = 4)\n",
    "p0 = ggplot(df_plot, aes(x=-log10(x), y=-log10(y0))) + geom_point() + theme_classic() + geom_abline()\n",
    "p0 = p0 + xlab(\"MOFA\") + ylab(\"LDVAE\") + xlim(c(0,17)) + ylim(c(0,17))\n",
    "p1 = ggplot(df_plot, aes(x=-log10(x), y=-log10(y1))) + geom_point() + theme_classic() + geom_abline()\n",
    "p1 = p1 + xlab(\"MOFA\") + ylab(\"LDVAE\") + xlim(c(0,17)) + ylim(c(0,17))\n",
    "plot_grid(p0,p1,ncol=2)"
   ]
  },
  {
   "cell_type": "code",
   "execution_count": null,
   "id": "5c9ecf7f",
   "metadata": {},
   "outputs": [],
   "source": []
  },
  {
   "cell_type": "code",
   "execution_count": null,
   "id": "01b133cd",
   "metadata": {},
   "outputs": [],
   "source": []
  },
  {
   "cell_type": "code",
   "execution_count": 134,
   "id": "fb7fd402",
   "metadata": {},
   "outputs": [],
   "source": [
    "##### ZINB-WaVE"
   ]
  },
  {
   "cell_type": "code",
   "execution_count": 303,
   "id": "1cfbaddb",
   "metadata": {},
   "outputs": [],
   "source": [
    "## MOFA (pv2)\n",
    "x = c(8.465845e-10,  2.912894e-02, 3.468064e-10,  0.005462, 0.348159, 0.092094, 0.018068, 0.202231, 0.375638, \n",
    "    0.720105, 0.471773, 3.969373e-13, 5.576247e-13, 0.208862, 0.656033, 0.353284, 0.006725, 0.888190, 0.000003, \n",
    "    0.011491, 1.328878e-11, 6.727592e-12, 0.436182, 0.686520, 2.398976e-17,  1.300539e-11, 3.080535e-10, \n",
    "    3.930914e-09) #, 0.318595, 0.057419, 0.011458, 0.914385, 0.971026, 0.057087,0.038254, 0.000005, 0.419376, \n",
    "#     0.145234, 0.25096)"
   ]
  },
  {
   "cell_type": "code",
   "execution_count": 304,
   "id": "01c4745d",
   "metadata": {},
   "outputs": [],
   "source": [
    "## ZINB-WaVE (20) same settings (pv1)\n",
    "y0 = c(0.000227, 0.000299, 0.004444, 0.006490, 0.315256, 0.270620, 0.194964, 0.333722, 0.433283, 0.545358, 0.831145,\n",
    "      2.684268e-07, 2.689159e-07, 0.402423, 0.878783, 0.770453, 0.000496, 0.245226, 0.070487, 0.877384, 0.000024,\n",
    "      0.000013, 0.351221, 0.537747, 0.000225, 0.000029, 0.000025, 0.000201)\n",
    "## ZINB-WaVE (20) new settings (pv3)\n",
    "y1 = c(0.001059, 0.001897, 0.000075, 0.000045, 0.101570, 0.317662, 0.212744, 0.407638, 0.557635, 0.771609, 0.735114,\n",
    "      1.992701e-11, 3.494003e-12, 0.414160, 0.863323, 0.564085, 0.000002, 0.225704, 0.194276, 0.967329, 1.989394e-07,\n",
    "      6.179765e-08, 0.068333, 0.203602, 2.605026e-10, 1.923257e-07, 1.171127e-07, 5.588892e-06)"
   ]
  },
  {
   "cell_type": "code",
   "execution_count": 305,
   "id": "ba18af26",
   "metadata": {},
   "outputs": [],
   "source": [
    "df_plot = data.frame(x=x, y0=y0, y1=y1)"
   ]
  },
  {
   "cell_type": "code",
   "execution_count": 306,
   "id": "90393002",
   "metadata": {},
   "outputs": [
    {
     "data": {
      "text/plain": [
       "\n",
       "\tPearson's product-moment correlation\n",
       "\n",
       "data:  x and y0\n",
       "t = 4.3004, df = 26, p-value = 0.0002128\n",
       "alternative hypothesis: true correlation is not equal to 0\n",
       "95 percent confidence interval:\n",
       " 0.3576522 0.8204448\n",
       "sample estimates:\n",
       "     cor \n",
       "0.644705 \n"
      ]
     },
     "metadata": {},
     "output_type": "display_data"
    },
    {
     "data": {
      "text/plain": [
       "\n",
       "\tPearson's product-moment correlation\n",
       "\n",
       "data:  -log10(x) and -log10(y0)\n",
       "t = 8.5059, df = 26, p-value = 5.497e-09\n",
       "alternative hypothesis: true correlation is not equal to 0\n",
       "95 percent confidence interval:\n",
       " 0.7126562 0.9324119\n",
       "sample estimates:\n",
       "      cor \n",
       "0.8576934 \n"
      ]
     },
     "metadata": {},
     "output_type": "display_data"
    }
   ],
   "source": [
    "cor.test(x,y0)\n",
    "cor.test(-log10(x),-log10(y0))"
   ]
  },
  {
   "cell_type": "code",
   "execution_count": 307,
   "id": "5758e176",
   "metadata": {},
   "outputs": [
    {
     "data": {
      "text/plain": [
       "\n",
       "\tPearson's product-moment correlation\n",
       "\n",
       "data:  x and y1\n",
       "t = 3.192, df = 26, p-value = 0.003675\n",
       "alternative hypothesis: true correlation is not equal to 0\n",
       "95 percent confidence interval:\n",
       " 0.1964197 0.7543579\n",
       "sample estimates:\n",
       "      cor \n",
       "0.5306134 \n"
      ]
     },
     "metadata": {},
     "output_type": "display_data"
    },
    {
     "data": {
      "text/plain": [
       "\n",
       "\tPearson's product-moment correlation\n",
       "\n",
       "data:  -log10(x) and -log10(y1)\n",
       "t = 9.8074, df = 26, p-value = 3.174e-10\n",
       "alternative hypothesis: true correlation is not equal to 0\n",
       "95 percent confidence interval:\n",
       " 0.7685786 0.9468920\n",
       "sample estimates:\n",
       "      cor \n",
       "0.8872472 \n"
      ]
     },
     "metadata": {},
     "output_type": "display_data"
    }
   ],
   "source": [
    "cor.test(x,y1)\n",
    "cor.test(-log10(x),-log10(y1))"
   ]
  },
  {
   "cell_type": "code",
   "execution_count": 308,
   "id": "6fc3ae75",
   "metadata": {},
   "outputs": [
    {
     "data": {
      "image/png": "[encoded data removed]",
      "text/plain": [
       "plot without title"
      ]
     },
     "metadata": {},
     "output_type": "display_data"
    }
   ],
   "source": [
    "options(repr.plot.width = 8, repr.plot.height = 4)\n",
    "p0 = ggplot(df_plot, aes(x=-log10(x), y=-log10(y0))) + geom_point() + theme_classic() + geom_abline()\n",
    "p0 = p0 + xlab(\"MOFA\") + ylab(\"ZINB-WaVE\") + xlim(c(0,17)) + ylim(c(0,17))\n",
    "p1 = ggplot(df_plot, aes(x=-log10(x), y=-log10(y1))) + geom_point() + theme_classic() + geom_abline()\n",
    "p1 = p1 + xlab(\"MOFA\") + ylab(\"ZINB-WaVE\") + xlim(c(0,17)) + ylim(c(0,17))\n",
    "plot_grid(p0,p1,ncol=2)"
   ]
  },
  {
   "cell_type": "code",
   "execution_count": null,
   "id": "22914d66",
   "metadata": {},
   "outputs": [],
   "source": []
  },
  {
   "cell_type": "code",
   "execution_count": 309,
   "id": "5238ac59",
   "metadata": {},
   "outputs": [
    {
     "data": {
      "text/html": [
       "<table>\n",
       "<thead><tr><th scope=col>chrom</th><th scope=col>gene</th><th scope=col>pv</th><th scope=col>variant</th><th scope=col>snpID</th><th scope=col>pv_raw</th><th scope=col>gene_name</th></tr></thead>\n",
       "<tbody>\n",
       "\t<tr><td>22                      </td><td>ENSG00000100058         </td><td>6.129443e-10            </td><td>22_25845855_C_G         </td><td>22_25845855_C_G         </td><td>6.129443e-10            </td><td>ENSG00000100058_CRYBB2P1</td></tr>\n",
       "\t<tr><td>22                      </td><td>ENSG00000100058         </td><td>1.097532e-02            </td><td>22_25924999_G_A         </td><td>22_25924999_G_A         </td><td>1.097532e-02            </td><td>ENSG00000100058_CRYBB2P1</td></tr>\n",
       "</tbody>\n",
       "</table>\n"
      ],
      "text/latex": [
       "\\begin{tabular}{r|lllllll}\n",
       " chrom & gene & pv & variant & snpID & pv\\_raw & gene\\_name\\\\\n",
       "\\hline\n",
       "\t 22                         & ENSG00000100058            & 6.129443e-10               & 22\\_25845855\\_C\\_G      & 22\\_25845855\\_C\\_G      & 6.129443e-10               & ENSG00000100058\\_CRYBB2P1\\\\\n",
       "\t 22                         & ENSG00000100058            & 1.097532e-02               & 22\\_25924999\\_G\\_A      & 22\\_25924999\\_G\\_A      & 1.097532e-02               & ENSG00000100058\\_CRYBB2P1\\\\\n",
       "\\end{tabular}\n"
      ],
      "text/markdown": [
       "\n",
       "| chrom | gene | pv | variant | snpID | pv_raw | gene_name |\n",
       "|---|---|---|---|---|---|---|\n",
       "| 22                       | ENSG00000100058          | 6.129443e-10             | 22_25845855_C_G          | 22_25845855_C_G          | 6.129443e-10             | ENSG00000100058_CRYBB2P1 |\n",
       "| 22                       | ENSG00000100058          | 1.097532e-02             | 22_25924999_G_A          | 22_25924999_G_A          | 1.097532e-02             | ENSG00000100058_CRYBB2P1 |\n",
       "\n"
      ],
      "text/plain": [
       "  chrom gene            pv           variant         snpID          \n",
       "1 22    ENSG00000100058 6.129443e-10 22_25845855_C_G 22_25845855_C_G\n",
       "2 22    ENSG00000100058 1.097532e-02 22_25924999_G_A 22_25924999_G_A\n",
       "  pv_raw       gene_name               \n",
       "1 6.129443e-10 ENSG00000100058_CRYBB2P1\n",
       "2 1.097532e-02 ENSG00000100058_CRYBB2P1"
      ]
     },
     "metadata": {},
     "output_type": "display_data"
    },
    {
     "data": {
      "text/html": [
       "119"
      ],
      "text/latex": [
       "119"
      ],
      "text/markdown": [
       "119"
      ],
      "text/plain": [
       "[1] 119"
      ]
     },
     "metadata": {},
     "output_type": "display_data"
    }
   ],
   "source": [
    "zw_filename = paste0(endo_folder,\"REVISION/CRM_int_ZINB-WaVE/summary_new.csv\")\n",
    "zw = read.csv(zw_filename)\n",
    "zw$snpID = zw$variant\n",
    "zw$pv_raw = zw$pv\n",
    "zw$gene_name = zw$gene\n",
    "zw$gene = gsub(\"_.*\",\"\",zw$gene)\n",
    "zw$X <- c()\n",
    "head(zw,2)\n",
    "nrow(zw)"
   ]
  },
  {
   "cell_type": "code",
   "execution_count": 310,
   "id": "14261f96",
   "metadata": {},
   "outputs": [],
   "source": [
    "df1 = inner_join(mofa, zw, by=c(\"snpID\",\"gene\"), suffix=c(\".m\",\".z\"))"
   ]
  },
  {
   "cell_type": "code",
   "execution_count": 311,
   "id": "fbc08a2b",
   "metadata": {},
   "outputs": [
    {
     "data": {
      "text/plain": [
       "\n",
       "\tPearson's product-moment correlation\n",
       "\n",
       "data:  x and y1\n",
       "t = 16.942, df = 117, p-value < 2.2e-16\n",
       "alternative hypothesis: true correlation is not equal to 0\n",
       "95 percent confidence interval:\n",
       " 0.7814161 0.8881196\n",
       "sample estimates:\n",
       "      cor \n",
       "0.8428619 \n"
      ]
     },
     "metadata": {},
     "output_type": "display_data"
    },
    {
     "data": {
      "text/plain": [
       "\n",
       "\tPearson's product-moment correlation\n",
       "\n",
       "data:  -log10(x) and -log10(y1)\n",
       "t = 31.616, df = 117, p-value < 2.2e-16\n",
       "alternative hypothesis: true correlation is not equal to 0\n",
       "95 percent confidence interval:\n",
       " 0.9234277 0.9622752\n",
       "sample estimates:\n",
       "      cor \n",
       "0.9461594 \n"
      ]
     },
     "metadata": {},
     "output_type": "display_data"
    }
   ],
   "source": [
    "x = df1$pv_raw.m\n",
    "y1 = df1$pv_raw.z\n",
    "cor.test(x,y1)\n",
    "cor.test(-log10(x),-log10(y1))"
   ]
  },
  {
   "cell_type": "code",
   "execution_count": 314,
   "id": "ae139c33",
   "metadata": {},
   "outputs": [
    {
     "data": {
      "image/png": "[encoded data removed]",
      "text/plain": [
       "plot without title"
      ]
     },
     "metadata": {},
     "output_type": "display_data"
    }
   ],
   "source": [
    "options(repr.plot.width = 8, repr.plot.height = 4)\n",
    "p1 = ggplot(df1, aes(x=-log10(pv_raw.m), y=-log10(pv_raw.z))) + geom_point() + theme_classic() + geom_abline()\n",
    "p1 = p1 + xlab(\"MOFA\") + ylab(\"ZINB-WaVE\") + xlim(c(0,20)) + ylim(c(0,20))\n",
    "plot_grid(p1,ncol=2)"
   ]
  },
  {
   "cell_type": "code",
   "execution_count": null,
   "id": "7bd700c0",
   "metadata": {},
   "outputs": [],
   "source": []
  }
 ],
 "metadata": {
  "kernelspec": {
   "display_name": "R",
   "language": "R",
   "name": "ir"
  },
  "language_info": {
   "codemirror_mode": "r",
   "file_extension": ".r",
   "mimetype": "text/x-r-source",
   "name": "R",
   "pygments_lexer": "r",
   "version": "3.6.1"
  }
 },
 "nbformat": 4,
 "nbformat_minor": 5
}
