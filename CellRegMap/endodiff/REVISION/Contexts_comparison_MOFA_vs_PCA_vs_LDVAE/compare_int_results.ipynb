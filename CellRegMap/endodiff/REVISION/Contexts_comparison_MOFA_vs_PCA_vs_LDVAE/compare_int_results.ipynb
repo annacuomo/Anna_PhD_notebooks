{
 "cells": [
  {
   "cell_type": "code",
   "execution_count": 47,
   "id": "19ed4970",
   "metadata": {},
   "outputs": [],
   "source": [
    "library(dplyr)\n",
    "library(ggplot2)"
   ]
  },
  {
   "cell_type": "code",
   "execution_count": 48,
   "id": "2f0464c5",
   "metadata": {},
   "outputs": [],
   "source": [
    "endo_folder = \"/hps/nobackup/stegle/users/acuomo/all_scripts/struct_LMM2/sc_endodiff/debug_May2021/\""
   ]
  },
  {
   "cell_type": "code",
   "execution_count": 49,
   "id": "ebfe03ef",
   "metadata": {},
   "outputs": [],
   "source": [
    "#### MOFA"
   ]
  },
  {
   "cell_type": "code",
   "execution_count": 50,
   "id": "2dda82e0",
   "metadata": {},
   "outputs": [
    {
     "data": {
      "text/html": [
       "<table>\n",
       "<thead><tr><th></th><th scope=col>gene</th><th scope=col>n_snps</th><th scope=col>chrom</th><th scope=col>pv_raw</th><th scope=col>snpID</th><th scope=col>pv</th><th scope=col>gene_name</th></tr></thead>\n",
       "<tbody>\n",
       "\t<tr><th scope=row>0</th><td>ENSG00000140905      </td><td>1                    </td><td>16                   </td><td>0.02606257           </td><td>16_81118466_A_G      </td><td>0.02606257           </td><td>ENSG00000140905_GCSH </td></tr>\n",
       "\t<tr><th scope=row>1</th><td>ENSG00000011523      </td><td>2                    </td><td> 2                   </td><td>0.03995225           </td><td>2_65279223_C_T       </td><td>0.07990451           </td><td>ENSG00000011523_CEP68</td></tr>\n",
       "\t<tr><th scope=row>2</th><td>ENSG00000011523      </td><td>2                    </td><td> 2                   </td><td>0.11966021           </td><td>2_65290842_C_A       </td><td>0.23932042           </td><td>ENSG00000011523_CEP68</td></tr>\n",
       "\t<tr><th scope=row>3</th><td>ENSG00000178814      </td><td>1                    </td><td> 8                   </td><td>0.92344836           </td><td>8_145114924_G_C      </td><td>0.92344836           </td><td>ENSG00000178814_OPLAH</td></tr>\n",
       "\t<tr><th scope=row>4</th><td>ENSG00000013583      </td><td>1                    </td><td>12                   </td><td>0.46967349           </td><td>12_13154105_A_T      </td><td>0.46967349           </td><td>ENSG00000013583_HEBP1</td></tr>\n",
       "\t<tr><th scope=row>5</th><td>ENSG00000143942      </td><td>1                    </td><td> 2                   </td><td>0.68758852           </td><td>2_54010876_C_A       </td><td>0.68758852           </td><td>ENSG00000143942_CHAC2</td></tr>\n",
       "</tbody>\n",
       "</table>\n"
      ],
      "text/latex": [
       "\\begin{tabular}{r|lllllll}\n",
       "  & gene & n\\_snps & chrom & pv\\_raw & snpID & pv & gene\\_name\\\\\n",
       "\\hline\n",
       "\t0 & ENSG00000140905         & 1                       & 16                      & 0.02606257              & 16\\_81118466\\_A\\_G   & 0.02606257              & ENSG00000140905\\_GCSH \\\\\n",
       "\t1 & ENSG00000011523         & 2                       &  2                      & 0.03995225              & 2\\_65279223\\_C\\_T    & 0.07990451              & ENSG00000011523\\_CEP68\\\\\n",
       "\t2 & ENSG00000011523         & 2                       &  2                      & 0.11966021              & 2\\_65290842\\_C\\_A    & 0.23932042              & ENSG00000011523\\_CEP68\\\\\n",
       "\t3 & ENSG00000178814         & 1                       &  8                      & 0.92344836              & 8\\_145114924\\_G\\_C   & 0.92344836              & ENSG00000178814\\_OPLAH\\\\\n",
       "\t4 & ENSG00000013583         & 1                       & 12                      & 0.46967349              & 12\\_13154105\\_A\\_T   & 0.46967349              & ENSG00000013583\\_HEBP1\\\\\n",
       "\t5 & ENSG00000143942         & 1                       &  2                      & 0.68758852              & 2\\_54010876\\_C\\_A    & 0.68758852              & ENSG00000143942\\_CHAC2\\\\\n",
       "\\end{tabular}\n"
      ],
      "text/markdown": [
       "\n",
       "| <!--/--> | gene | n_snps | chrom | pv_raw | snpID | pv | gene_name |\n",
       "|---|---|---|---|---|---|---|---|\n",
       "| 0 | ENSG00000140905       | 1                     | 16                    | 0.02606257            | 16_81118466_A_G       | 0.02606257            | ENSG00000140905_GCSH  |\n",
       "| 1 | ENSG00000011523       | 2                     |  2                    | 0.03995225            | 2_65279223_C_T        | 0.07990451            | ENSG00000011523_CEP68 |\n",
       "| 2 | ENSG00000011523       | 2                     |  2                    | 0.11966021            | 2_65290842_C_A        | 0.23932042            | ENSG00000011523_CEP68 |\n",
       "| 3 | ENSG00000178814       | 1                     |  8                    | 0.92344836            | 8_145114924_G_C       | 0.92344836            | ENSG00000178814_OPLAH |\n",
       "| 4 | ENSG00000013583       | 1                     | 12                    | 0.46967349            | 12_13154105_A_T       | 0.46967349            | ENSG00000013583_HEBP1 |\n",
       "| 5 | ENSG00000143942       | 1                     |  2                    | 0.68758852            | 2_54010876_C_A        | 0.68758852            | ENSG00000143942_CHAC2 |\n",
       "\n"
      ],
      "text/plain": [
       "  gene            n_snps chrom pv_raw     snpID           pv        \n",
       "0 ENSG00000140905 1      16    0.02606257 16_81118466_A_G 0.02606257\n",
       "1 ENSG00000011523 2       2    0.03995225 2_65279223_C_T  0.07990451\n",
       "2 ENSG00000011523 2       2    0.11966021 2_65290842_C_A  0.23932042\n",
       "3 ENSG00000178814 1       8    0.92344836 8_145114924_G_C 0.92344836\n",
       "4 ENSG00000013583 1      12    0.46967349 12_13154105_A_T 0.46967349\n",
       "5 ENSG00000143942 1       2    0.68758852 2_54010876_C_A  0.68758852\n",
       "  gene_name            \n",
       "0 ENSG00000140905_GCSH \n",
       "1 ENSG00000011523_CEP68\n",
       "2 ENSG00000011523_CEP68\n",
       "3 ENSG00000178814_OPLAH\n",
       "4 ENSG00000013583_HEBP1\n",
       "5 ENSG00000143942_CHAC2"
      ]
     },
     "metadata": {},
     "output_type": "display_data"
    }
   ],
   "source": [
    "MOFA_results_folder = paste0(endo_folder, 'MOFA10/new4/')\n",
    "mofa_filename = paste0(MOFA_results_folder, 'summary.csv')\n",
    "mofa = read.csv(mofa_filename, row.names=1)\n",
    "mofa$gene_name = mofa$gene\n",
    "mofa$gene = gsub(\"_.*\",\"\",mofa$gene)\n",
    "head(mofa)"
   ]
  },
  {
   "cell_type": "code",
   "execution_count": 51,
   "id": "79bae748",
   "metadata": {},
   "outputs": [
    {
     "data": {
      "text/html": [
       "4470"
      ],
      "text/latex": [
       "4470"
      ],
      "text/markdown": [
       "4470"
      ],
      "text/plain": [
       "[1] 4470"
      ]
     },
     "metadata": {},
     "output_type": "display_data"
    }
   ],
   "source": [
    "nrow(mofa)"
   ]
  },
  {
   "cell_type": "code",
   "execution_count": 52,
   "id": "4e972a6f",
   "metadata": {},
   "outputs": [],
   "source": [
    "#### PCA"
   ]
  },
  {
   "cell_type": "code",
   "execution_count": 85,
   "id": "b785786d",
   "metadata": {},
   "outputs": [
    {
     "data": {
      "text/html": [
       "<table>\n",
       "<thead><tr><th></th><th scope=col>gene</th><th scope=col>n_snps</th><th scope=col>chrom</th><th scope=col>pv_raw</th><th scope=col>snpID</th></tr></thead>\n",
       "<tbody>\n",
       "\t<tr><th scope=row>0</th><td>ENSG00000140905</td><td>1              </td><td>16             </td><td>0.3175517      </td><td>16_81118466_A_G</td></tr>\n",
       "\t<tr><th scope=row>1</th><td>ENSG00000011523</td><td>2              </td><td> 2             </td><td>0.3672796      </td><td>2_65279223_C_T </td></tr>\n",
       "\t<tr><th scope=row>2</th><td>ENSG00000011523</td><td>2              </td><td> 2             </td><td>0.1305098      </td><td>2_65290842_C_A </td></tr>\n",
       "\t<tr><th scope=row>3</th><td>ENSG00000178814</td><td>1              </td><td> 8             </td><td>0.8321406      </td><td>8_145114924_G_C</td></tr>\n",
       "\t<tr><th scope=row>4</th><td>ENSG00000013583</td><td>1              </td><td>12             </td><td>0.1891256      </td><td>12_13154105_A_T</td></tr>\n",
       "\t<tr><th scope=row>5</th><td>ENSG00000143942</td><td>1              </td><td> 2             </td><td>0.7382435      </td><td>2_54010876_C_A </td></tr>\n",
       "</tbody>\n",
       "</table>\n"
      ],
      "text/latex": [
       "\\begin{tabular}{r|lllll}\n",
       "  & gene & n\\_snps & chrom & pv\\_raw & snpID\\\\\n",
       "\\hline\n",
       "\t0 & ENSG00000140905       & 1                     & 16                    & 0.3175517             & 16\\_81118466\\_A\\_G\\\\\n",
       "\t1 & ENSG00000011523       & 2                     &  2                    & 0.3672796             & 2\\_65279223\\_C\\_T \\\\\n",
       "\t2 & ENSG00000011523       & 2                     &  2                    & 0.1305098             & 2\\_65290842\\_C\\_A \\\\\n",
       "\t3 & ENSG00000178814       & 1                     &  8                    & 0.8321406             & 8\\_145114924\\_G\\_C\\\\\n",
       "\t4 & ENSG00000013583       & 1                     & 12                    & 0.1891256             & 12\\_13154105\\_A\\_T\\\\\n",
       "\t5 & ENSG00000143942       & 1                     &  2                    & 0.7382435             & 2\\_54010876\\_C\\_A \\\\\n",
       "\\end{tabular}\n"
      ],
      "text/markdown": [
       "\n",
       "| <!--/--> | gene | n_snps | chrom | pv_raw | snpID |\n",
       "|---|---|---|---|---|---|\n",
       "| 0 | ENSG00000140905 | 1               | 16              | 0.3175517       | 16_81118466_A_G |\n",
       "| 1 | ENSG00000011523 | 2               |  2              | 0.3672796       | 2_65279223_C_T  |\n",
       "| 2 | ENSG00000011523 | 2               |  2              | 0.1305098       | 2_65290842_C_A  |\n",
       "| 3 | ENSG00000178814 | 1               |  8              | 0.8321406       | 8_145114924_G_C |\n",
       "| 4 | ENSG00000013583 | 1               | 12              | 0.1891256       | 12_13154105_A_T |\n",
       "| 5 | ENSG00000143942 | 1               |  2              | 0.7382435       | 2_54010876_C_A  |\n",
       "\n"
      ],
      "text/plain": [
       "  gene            n_snps chrom pv_raw    snpID          \n",
       "0 ENSG00000140905 1      16    0.3175517 16_81118466_A_G\n",
       "1 ENSG00000011523 2       2    0.3672796 2_65279223_C_T \n",
       "2 ENSG00000011523 2       2    0.1305098 2_65290842_C_A \n",
       "3 ENSG00000178814 1       8    0.8321406 8_145114924_G_C\n",
       "4 ENSG00000013583 1      12    0.1891256 12_13154105_A_T\n",
       "5 ENSG00000143942 1       2    0.7382435 2_54010876_C_A "
      ]
     },
     "metadata": {},
     "output_type": "display_data"
    }
   ],
   "source": [
    "outdir = paste0(endo_folder,\"REVISION/CRM_int_PCA/\")\n",
    "pca_filename = paste0(outdir, 'summary.csv')\n",
    "pca = read.csv(pca_filename, row.names=1)\n",
    "head(pca)"
   ]
  },
  {
   "cell_type": "code",
   "execution_count": 86,
   "id": "9b6ebdf2",
   "metadata": {},
   "outputs": [
    {
     "data": {
      "text/html": [
       "<ol class=list-inline>\n",
       "\t<li>1</li>\n",
       "\t<li>2</li>\n",
       "\t<li>3</li>\n",
       "\t<li>4</li>\n",
       "\t<li>5</li>\n",
       "\t<li>6</li>\n",
       "\t<li>7</li>\n",
       "\t<li>8</li>\n",
       "\t<li>9</li>\n",
       "\t<li>10</li>\n",
       "\t<li>11</li>\n",
       "\t<li>12</li>\n",
       "\t<li>13</li>\n",
       "\t<li>14</li>\n",
       "\t<li>15</li>\n",
       "\t<li>16</li>\n",
       "\t<li>17</li>\n",
       "\t<li>18</li>\n",
       "\t<li>19</li>\n",
       "\t<li>20</li>\n",
       "\t<li>21</li>\n",
       "\t<li>22</li>\n",
       "</ol>\n"
      ],
      "text/latex": [
       "\\begin{enumerate*}\n",
       "\\item 1\n",
       "\\item 2\n",
       "\\item 3\n",
       "\\item 4\n",
       "\\item 5\n",
       "\\item 6\n",
       "\\item 7\n",
       "\\item 8\n",
       "\\item 9\n",
       "\\item 10\n",
       "\\item 11\n",
       "\\item 12\n",
       "\\item 13\n",
       "\\item 14\n",
       "\\item 15\n",
       "\\item 16\n",
       "\\item 17\n",
       "\\item 18\n",
       "\\item 19\n",
       "\\item 20\n",
       "\\item 21\n",
       "\\item 22\n",
       "\\end{enumerate*}\n"
      ],
      "text/markdown": [
       "1. 1\n",
       "2. 2\n",
       "3. 3\n",
       "4. 4\n",
       "5. 5\n",
       "6. 6\n",
       "7. 7\n",
       "8. 8\n",
       "9. 9\n",
       "10. 10\n",
       "11. 11\n",
       "12. 12\n",
       "13. 13\n",
       "14. 14\n",
       "15. 15\n",
       "16. 16\n",
       "17. 17\n",
       "18. 18\n",
       "19. 19\n",
       "20. 20\n",
       "21. 21\n",
       "22. 22\n",
       "\n",
       "\n"
      ],
      "text/plain": [
       " [1]  1  2  3  4  5  6  7  8  9 10 11 12 13 14 15 16 17 18 19 20 21 22"
      ]
     },
     "metadata": {},
     "output_type": "display_data"
    }
   ],
   "source": [
    "unique(pca$chrom)[order(unique(pca$chrom))]"
   ]
  },
  {
   "cell_type": "code",
   "execution_count": 87,
   "id": "4610d12b",
   "metadata": {},
   "outputs": [
    {
     "data": {
      "text/html": [
       "4416"
      ],
      "text/latex": [
       "4416"
      ],
      "text/markdown": [
       "4416"
      ],
      "text/plain": [
       "[1] 4416"
      ]
     },
     "metadata": {},
     "output_type": "display_data"
    }
   ],
   "source": [
    "nrow(pca)"
   ]
  },
  {
   "cell_type": "code",
   "execution_count": 88,
   "id": "ed23342b",
   "metadata": {},
   "outputs": [],
   "source": [
    "# pca = pca[pca$chrom == 22,]"
   ]
  },
  {
   "cell_type": "code",
   "execution_count": 89,
   "id": "da507eba",
   "metadata": {},
   "outputs": [],
   "source": [
    "### join"
   ]
  },
  {
   "cell_type": "code",
   "execution_count": 90,
   "id": "06fbc66f",
   "metadata": {},
   "outputs": [],
   "source": [
    "df_plot = inner_join(mofa, pca, by=c(\"snpID\",\"gene\"), suffix=c(\".m\",\".p\"))"
   ]
  },
  {
   "cell_type": "code",
   "execution_count": 91,
   "id": "e28e8167",
   "metadata": {},
   "outputs": [
    {
     "data": {
      "text/plain": [
       "\n",
       "\tPearson's product-moment correlation\n",
       "\n",
       "data:  -log10(df_plot$pv_raw.m) and -log10(df_plot$pv_raw.p)\n",
       "t = 26.478, df = 4414, p-value < 2.2e-16\n",
       "alternative hypothesis: true correlation is not equal to 0\n",
       "95 percent confidence interval:\n",
       " 0.3444835 0.3953952\n",
       "sample estimates:\n",
       "      cor \n",
       "0.3702173 \n"
      ]
     },
     "metadata": {},
     "output_type": "display_data"
    }
   ],
   "source": [
    "cor.test(-log10(df_plot$pv_raw.m),-log10(df_plot$pv_raw.p))"
   ]
  },
  {
   "cell_type": "code",
   "execution_count": 92,
   "id": "2bf74d0e",
   "metadata": {},
   "outputs": [
    {
     "data": {
      "image/png": "[encoded data removed]",
      "text/plain": [
       "plot without title"
      ]
     },
     "metadata": {},
     "output_type": "display_data"
    }
   ],
   "source": [
    "p = ggplot(df_plot, aes(x=-log10(pv_raw.m),y=-log10(pv_raw.p))) + geom_point()\n",
    "p + theme_classic() + geom_abline(col=\"lightgrey\") #+ xlim(c(0,25)) + ylim(c(0,25))"
   ]
  },
  {
   "cell_type": "code",
   "execution_count": null,
   "id": "30a150cb",
   "metadata": {},
   "outputs": [],
   "source": []
  },
  {
   "cell_type": "code",
   "execution_count": null,
   "id": "4e35f856",
   "metadata": {},
   "outputs": [],
   "source": []
  },
  {
   "cell_type": "code",
   "execution_count": null,
   "id": "99966ccc",
   "metadata": {},
   "outputs": [],
   "source": []
  }
 ],
 "metadata": {
  "kernelspec": {
   "display_name": "R",
   "language": "R",
   "name": "ir"
  },
  "language_info": {
   "codemirror_mode": "r",
   "file_extension": ".r",
   "mimetype": "text/x-r-source",
   "name": "R",
   "pygments_lexer": "r",
   "version": "3.6.1"
  }
 },
 "nbformat": 4,
 "nbformat_minor": 5
}
