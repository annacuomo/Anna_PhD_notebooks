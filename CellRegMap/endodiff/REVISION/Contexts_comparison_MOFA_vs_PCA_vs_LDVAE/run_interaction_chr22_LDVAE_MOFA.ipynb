{
 "cells": [
  {
   "cell_type": "code",
   "execution_count": 1,
   "id": "fdcfe8f4",
   "metadata": {},
   "outputs": [],
   "source": [
    "import os\n",
    "import re\n",
    "import time\n",
    "import pandas as pd\n",
    "import xarray as xr\n",
    "from numpy import ones\n",
    "from numpy.linalg import cholesky\n",
    "from pandas_plink import read_plink1_bin\n",
    "from limix.qc import quantile_gaussianize"
   ]
  },
  {
   "cell_type": "code",
   "execution_count": 2,
   "id": "4a553549",
   "metadata": {},
   "outputs": [
    {
     "data": {
      "text/plain": [
       "<module 'cellregmap' from '/hps/nobackup/stegle/users/acuomo/git_repos/CellRegMap/cellregmap/__init__.py'>"
      ]
     },
     "execution_count": 2,
     "metadata": {},
     "output_type": "execute_result"
    }
   ],
   "source": [
    "import cellregmap \n",
    "cellregmap "
   ]
  },
  {
   "cell_type": "code",
   "execution_count": 3,
   "id": "ba56d6c4",
   "metadata": {},
   "outputs": [],
   "source": [
    "from cellregmap import run_interaction"
   ]
  },
  {
   "cell_type": "code",
   "execution_count": 4,
   "id": "334627f8",
   "metadata": {},
   "outputs": [],
   "source": [
    "input_files_dir = \"/hps/nobackup/stegle/users/acuomo/all_scripts/struct_LMM2/sc_endodiff/new/input_files/\""
   ]
  },
  {
   "cell_type": "code",
   "execution_count": 5,
   "id": "e335fd07",
   "metadata": {},
   "outputs": [],
   "source": [
    "## sample mapping file\n",
    "## this file will map cells to donors \n",
    "## it will also only include donors we have single-cell data for (a subset of all of HipSci donors)\n",
    "sample_mapping_file = input_files_dir+\"sample_mapping_file.csv\"\n",
    "sample_mapping = pd.read_csv(sample_mapping_file, dtype={\"genotype_individual_id\": str, \"phenotype_sample_id\": str})"
   ]
  },
  {
   "cell_type": "code",
   "execution_count": 6,
   "id": "2376f693",
   "metadata": {},
   "outputs": [
    {
     "data": {
      "text/html": [
       "<div>\n",
       "<style scoped>\n",
       "    .dataframe tbody tr th:only-of-type {\n",
       "        vertical-align: middle;\n",
       "    }\n",
       "\n",
       "    .dataframe tbody tr th {\n",
       "        vertical-align: top;\n",
       "    }\n",
       "\n",
       "    .dataframe thead th {\n",
       "        text-align: right;\n",
       "    }\n",
       "</style>\n",
       "<table border=\"1\" class=\"dataframe\">\n",
       "  <thead>\n",
       "    <tr style=\"text-align: right;\">\n",
       "      <th></th>\n",
       "      <th>genotype_individual_id</th>\n",
       "      <th>phenotype_sample_id</th>\n",
       "    </tr>\n",
       "  </thead>\n",
       "  <tbody>\n",
       "    <tr>\n",
       "      <th>0</th>\n",
       "      <td>HPSI0114i-joxm_1</td>\n",
       "      <td>21843_1#10</td>\n",
       "    </tr>\n",
       "    <tr>\n",
       "      <th>1</th>\n",
       "      <td>HPSI0314i-fafq_1</td>\n",
       "      <td>21843_1#100</td>\n",
       "    </tr>\n",
       "    <tr>\n",
       "      <th>2</th>\n",
       "      <td>HPSI0314i-fafq_1</td>\n",
       "      <td>21843_1#101</td>\n",
       "    </tr>\n",
       "    <tr>\n",
       "      <th>3</th>\n",
       "      <td>HPSI1013i-wuye_2</td>\n",
       "      <td>21843_1#102</td>\n",
       "    </tr>\n",
       "    <tr>\n",
       "      <th>4</th>\n",
       "      <td>HPSI0114i-joxm_1</td>\n",
       "      <td>21843_1#103</td>\n",
       "    </tr>\n",
       "  </tbody>\n",
       "</table>\n",
       "</div>"
      ],
      "text/plain": [
       "  genotype_individual_id phenotype_sample_id\n",
       "0       HPSI0114i-joxm_1          21843_1#10\n",
       "1       HPSI0314i-fafq_1         21843_1#100\n",
       "2       HPSI0314i-fafq_1         21843_1#101\n",
       "3       HPSI1013i-wuye_2         21843_1#102\n",
       "4       HPSI0114i-joxm_1         21843_1#103"
      ]
     },
     "execution_count": 6,
     "metadata": {},
     "output_type": "execute_result"
    }
   ],
   "source": [
    "## genotype_individual_id are donor IDs, as found in the genotype matrix (G) and GRM covariance (K)\n",
    "## phenotype_sample_id are cell IDs, as found in the scRNA-seq phenotype vector (y) and cell context covariance (C)\n",
    "sample_mapping.head()"
   ]
  },
  {
   "cell_type": "code",
   "execution_count": 7,
   "id": "36438945",
   "metadata": {},
   "outputs": [
    {
     "name": "stdout",
     "output_type": "stream",
     "text": [
      "Number of unique donors: 126\n"
     ]
    }
   ],
   "source": [
    "## extract unique individuals\n",
    "donors = sample_mapping[\"genotype_individual_id\"].unique()\n",
    "donors.sort()\n",
    "print(\"Number of unique donors: {}\".format(len(donors)))"
   ]
  },
  {
   "cell_type": "code",
   "execution_count": 8,
   "id": "a877e72a",
   "metadata": {},
   "outputs": [],
   "source": [
    "############################################\n",
    "################ Kinship matrix ############\n",
    "############################################"
   ]
  },
  {
   "cell_type": "code",
   "execution_count": 9,
   "id": "81fee358",
   "metadata": {},
   "outputs": [],
   "source": [
    "## read in GRM (genotype relationship matrix; kinship matrix)\n",
    "kinship_folder=\"/hps/nobackup/hipsci/scratch/genotypes/imputed/2017-03-27/Full_Filtered_SNPs_Plink-F/\"\n",
    "kinship_file=kinship_folder+\"hipsci.wec.gtarray.HumanCoreExome.imputed_phased.20170327.genotypes.norm.renamed.kinship\"\n",
    "K = pd.read_csv(kinship_file, sep=\"\\t\", index_col=0)\n",
    "assert all(K.columns == K.index) #symmetric matrix, donors x donors"
   ]
  },
  {
   "cell_type": "code",
   "execution_count": 10,
   "id": "e45b9e45",
   "metadata": {},
   "outputs": [
    {
     "name": "stdout",
     "output_type": "stream",
     "text": [
      "Number of donors after kinship intersection: 125\n"
     ]
    }
   ],
   "source": [
    "K = xr.DataArray(K.values, dims=[\"sample_0\", \"sample_1\"], coords={\"sample_0\": K.columns, \"sample_1\": K.index})\n",
    "K = K.sortby(\"sample_0\").sortby(\"sample_1\")\n",
    "donors = sorted(set(list(K.sample_0.values)).intersection(donors))\n",
    "print(\"Number of donors after kinship intersection: {}\".format(len(donors)))"
   ]
  },
  {
   "cell_type": "code",
   "execution_count": 11,
   "id": "93129520",
   "metadata": {},
   "outputs": [],
   "source": [
    "## subset to relevant donors\n",
    "K = K.sel(sample_0=donors, sample_1=donors)\n",
    "assert all(K.sample_0 == donors)\n",
    "assert all(K.sample_1 == donors)"
   ]
  },
  {
   "cell_type": "code",
   "execution_count": 12,
   "id": "731b83fc",
   "metadata": {},
   "outputs": [],
   "source": [
    "## and decompose such as K = hK @ hK.T (using Cholesky decomposition)\n",
    "hK = cholesky(K.values)\n",
    "hK = xr.DataArray(hK, dims=[\"sample\", \"col\"], coords={\"sample\": K.sample_0.values})\n",
    "assert all(hK.sample.values == K.sample_0.values)"
   ]
  },
  {
   "cell_type": "code",
   "execution_count": 13,
   "id": "f23d6aaa",
   "metadata": {},
   "outputs": [
    {
     "name": "stdout",
     "output_type": "stream",
     "text": [
      "Sample mapping number of rows BEFORE intersection: 34256\n",
      "Sample mapping number of rows AFTER intersection: 33964\n"
     ]
    }
   ],
   "source": [
    "del K\n",
    "print(\"Sample mapping number of rows BEFORE intersection: {}\".format(sample_mapping.shape[0]))\n",
    "## subsample sample mapping file to donors in the kinship matrix\n",
    "sample_mapping = sample_mapping[sample_mapping[\"genotype_individual_id\"].isin(donors)]\n",
    "print(\"Sample mapping number of rows AFTER intersection: {}\".format(sample_mapping.shape[0]))"
   ]
  },
  {
   "cell_type": "code",
   "execution_count": 14,
   "id": "dcd69eab",
   "metadata": {},
   "outputs": [],
   "source": [
    "############################################\n",
    "##### expand from donors to cells ##########"
   ]
  },
  {
   "cell_type": "code",
   "execution_count": 15,
   "id": "a79f1b11",
   "metadata": {},
   "outputs": [],
   "source": [
    "## use sel from xarray to expand hK (using the sample mapping file)\n",
    "hK_expanded = hK.sel(sample=sample_mapping[\"genotype_individual_id\"].values)\n",
    "assert all(hK_expanded.sample.values == sample_mapping[\"genotype_individual_id\"].values)"
   ]
  },
  {
   "cell_type": "code",
   "execution_count": null,
   "id": "33b8a4b7",
   "metadata": {},
   "outputs": [],
   "source": []
  },
  {
   "cell_type": "code",
   "execution_count": 16,
   "id": "d4737a86",
   "metadata": {},
   "outputs": [],
   "source": [
    "######################################\n",
    "############### Genotypes ############\n",
    "######################################"
   ]
  },
  {
   "cell_type": "code",
   "execution_count": 17,
   "id": "f074819d",
   "metadata": {},
   "outputs": [
    {
     "name": "stderr",
     "output_type": "stream",
     "text": [
      "Mapping files: 100%|██████████| 3/3 [05:55<00:00, 118.39s/it]\n"
     ]
    }
   ],
   "source": [
    "## read in genotype file (plink format)\n",
    "plink_folder = \"/hps/nobackup/hipsci/scratch/genotypes/imputed/2017-03-27/Full_Filtered_SNPs_Plink/\"\n",
    "plink_file = plink_folder+\"hipsci.wec.gtarray.HumanCoreExome.imputed_phased.20170327.genotypes.norm.renamed.bed\"\n",
    "G = read_plink1_bin(plink_file)"
   ]
  },
  {
   "cell_type": "code",
   "execution_count": 18,
   "id": "32db66f1",
   "metadata": {},
   "outputs": [],
   "source": [
    "######################################\n",
    "########## Cell contexts #############\n",
    "######################################"
   ]
  },
  {
   "cell_type": "code",
   "execution_count": 19,
   "id": "f732e437",
   "metadata": {},
   "outputs": [],
   "source": [
    "# cells by LDVAE (10)\n",
    "# C_file = \"/hps/nobackup/stegle/users/acuomo/all_scripts/struct_LMM2/sc_endodiff/new/input_files/20PCs.csv\"\n",
    "C_file = \"/hps/nobackup/stegle/users/mjbonder/ldvae_emb.txt\"\n",
    "C = pd.read_csv(C_file, index_col = 0, sep=\"\\t\")\n",
    "C = xr.DataArray(C.values, dims=[\"cell\", \"pc\"], coords={\"cell\": C.index.values, \"pc\": C.columns.values})\n",
    "C = C.sel(cell=sample_mapping[\"phenotype_sample_id\"].values)\n",
    "assert all(C.cell.values == sample_mapping[\"phenotype_sample_id\"].values)"
   ]
  },
  {
   "cell_type": "code",
   "execution_count": 20,
   "id": "a77bd281",
   "metadata": {},
   "outputs": [],
   "source": [
    "# quantile normalise cell contexts\n",
    "C1 = C\n",
    "C1_gauss = quantile_gaussianize(C1)"
   ]
  },
  {
   "cell_type": "code",
   "execution_count": 21,
   "id": "bf8290cd",
   "metadata": {},
   "outputs": [],
   "source": [
    "# cells by MOFA factors (20)\n",
    "C_file = \"/hps/nobackup/stegle/users/acuomo/all_scripts/struct_LMM2/sc_endodiff/debug_May2021/mofa_logcounts_model_factors.csv\"\n",
    "C = pd.read_csv(C_file, index_col = 0)\n",
    "C = xr.DataArray(C.values, dims=[\"cell\", \"pc\"], coords={\"cell\": C.index.values, \"pc\": C.columns.values})\n",
    "C = C.sel(cell=sample_mapping[\"phenotype_sample_id\"].values)\n",
    "assert all(C.cell.values == sample_mapping[\"phenotype_sample_id\"].values)"
   ]
  },
  {
   "cell_type": "code",
   "execution_count": 22,
   "id": "2b3bc30e",
   "metadata": {},
   "outputs": [],
   "source": [
    "# quantile normalise cell contexts\n",
    "C2 = C\n",
    "C2_gauss = quantile_gaussianize(C2)"
   ]
  },
  {
   "cell_type": "code",
   "execution_count": null,
   "id": "5184b47a",
   "metadata": {},
   "outputs": [],
   "source": []
  },
  {
   "cell_type": "code",
   "execution_count": 23,
   "id": "2b23365d",
   "metadata": {},
   "outputs": [],
   "source": [
    "import matplotlib.pyplot as plt"
   ]
  },
  {
   "cell_type": "code",
   "execution_count": 25,
   "id": "3c9f43cf",
   "metadata": {},
   "outputs": [
    {
     "data": {
      "text/plain": [
       "<matplotlib.image.AxesImage at 0x2b5d248dd490>"
      ]
     },
     "execution_count": 25,
     "metadata": {},
     "output_type": "execute_result"
    },
    {
     "data": {
      "image/png": "[encoded data removed]",
      "text/plain": [
       "<Figure size 288x288 with 1 Axes>"
      ]
     },
     "metadata": {
      "needs_background": "light"
     },
     "output_type": "display_data"
    }
   ],
   "source": [
    "plt.matshow(C1.values @ C1.values.T)"
   ]
  },
  {
   "cell_type": "code",
   "execution_count": 26,
   "id": "7d8436ad",
   "metadata": {},
   "outputs": [
    {
     "data": {
      "text/plain": [
       "<matplotlib.image.AxesImage at 0x2b4a744e0040>"
      ]
     },
     "execution_count": 26,
     "metadata": {},
     "output_type": "execute_result"
    },
    {
     "data": {
      "image/png": "[encoded data removed]",
      "text/plain": [
       "<Figure size 288x288 with 1 Axes>"
      ]
     },
     "metadata": {
      "needs_background": "light"
     },
     "output_type": "display_data"
    }
   ],
   "source": [
    "plt.matshow(C2.values @ C2.values.T)"
   ]
  },
  {
   "cell_type": "code",
   "execution_count": 26,
   "id": "49518313",
   "metadata": {},
   "outputs": [
    {
     "data": {
      "text/plain": [
       "<matplotlib.image.AxesImage at 0x2b5d23fe2bb0>"
      ]
     },
     "execution_count": 26,
     "metadata": {},
     "output_type": "execute_result"
    },
    {
     "data": {
      "image/png": "[encoded data removed]",
      "text/plain": [
       "<Figure size 288x288 with 1 Axes>"
      ]
     },
     "metadata": {
      "needs_background": "light"
     },
     "output_type": "display_data"
    }
   ],
   "source": [
    "plt.matshow(C1_gauss.values @ C1_gauss.values.T)"
   ]
  },
  {
   "cell_type": "code",
   "execution_count": 28,
   "id": "14e9f061",
   "metadata": {},
   "outputs": [
    {
     "data": {
      "text/plain": [
       "<matplotlib.image.AxesImage at 0x2b4a7384c550>"
      ]
     },
     "execution_count": 28,
     "metadata": {},
     "output_type": "execute_result"
    },
    {
     "data": {
      "image/png": "[encoded data removed]",
      "text/plain": [
       "<Figure size 288x288 with 1 Axes>"
      ]
     },
     "metadata": {
      "needs_background": "light"
     },
     "output_type": "display_data"
    }
   ],
   "source": [
    "plt.matshow(C2_gauss.values @ C2_gauss.values.T)"
   ]
  },
  {
   "cell_type": "code",
   "execution_count": null,
   "id": "0d30f1d5",
   "metadata": {},
   "outputs": [],
   "source": []
  },
  {
   "cell_type": "code",
   "execution_count": 21,
   "id": "3bea9dca",
   "metadata": {},
   "outputs": [],
   "source": [
    "#####################################\n",
    "############ Phenotypes #############\n",
    "#####################################"
   ]
  },
  {
   "cell_type": "code",
   "execution_count": 24,
   "id": "80ddba4c",
   "metadata": {},
   "outputs": [
    {
     "name": "stdout",
     "output_type": "stream",
     "text": [
      "Phenotype shape BEFORE selection: (11231, 34256)\n",
      "Phenotype shape AFTER selection: (11231, 33964)\n"
     ]
    }
   ],
   "source": [
    "# Phenotype (single-cell expression)\n",
    "phenotype_file = input_files_dir+\"phenotype.csv.pkl\"\n",
    "phenotype = pd.read_pickle(phenotype_file)\n",
    "print(\"Phenotype shape BEFORE selection: {}\".format(phenotype.shape))\n",
    "phenotype = xr.DataArray(phenotype.values, dims=[\"trait\", \"cell\"], coords={\"trait\": phenotype.index.values, \"cell\": phenotype.columns.values})\n",
    "phenotype = phenotype.sel(cell=sample_mapping[\"phenotype_sample_id\"].values)\n",
    "print(\"Phenotype shape AFTER selection: {}\".format(phenotype.shape))\n",
    "assert all(phenotype.cell.values == sample_mapping[\"phenotype_sample_id\"].values)"
   ]
  },
  {
   "cell_type": "code",
   "execution_count": null,
   "id": "0a93daaf",
   "metadata": {},
   "outputs": [],
   "source": []
  },
  {
   "cell_type": "code",
   "execution_count": 25,
   "id": "0e59e47b",
   "metadata": {},
   "outputs": [],
   "source": [
    "#####################################\n",
    "############ Filter file ############\n",
    "#####################################"
   ]
  },
  {
   "cell_type": "code",
   "execution_count": 26,
   "id": "e52051c9",
   "metadata": {},
   "outputs": [
    {
     "data": {
      "text/html": [
       "<div>\n",
       "<style scoped>\n",
       "    .dataframe tbody tr th:only-of-type {\n",
       "        vertical-align: middle;\n",
       "    }\n",
       "\n",
       "    .dataframe tbody tr th {\n",
       "        vertical-align: top;\n",
       "    }\n",
       "\n",
       "    .dataframe thead th {\n",
       "        text-align: right;\n",
       "    }\n",
       "</style>\n",
       "<table border=\"1\" class=\"dataframe\">\n",
       "  <thead>\n",
       "    <tr style=\"text-align: right;\">\n",
       "      <th></th>\n",
       "      <th>snp_id</th>\n",
       "      <th>feature</th>\n",
       "      <th>stage</th>\n",
       "      <th>chrom</th>\n",
       "    </tr>\n",
       "  </thead>\n",
       "  <tbody>\n",
       "    <tr>\n",
       "      <th>0</th>\n",
       "      <td>5_149826526_C_T</td>\n",
       "      <td>ENSG00000164587_RPS14</td>\n",
       "      <td>ips</td>\n",
       "      <td>5</td>\n",
       "    </tr>\n",
       "    <tr>\n",
       "      <th>1</th>\n",
       "      <td>11_57283988_C_T</td>\n",
       "      <td>ENSG00000134809_TIMM10</td>\n",
       "      <td>ips</td>\n",
       "      <td>11</td>\n",
       "    </tr>\n",
       "  </tbody>\n",
       "</table>\n",
       "</div>"
      ],
      "text/plain": [
       "            snp_id                 feature stage  chrom\n",
       "0  5_149826526_C_T   ENSG00000164587_RPS14   ips      5\n",
       "1  11_57283988_C_T  ENSG00000134809_TIMM10   ips     11"
      ]
     },
     "execution_count": 26,
     "metadata": {},
     "output_type": "execute_result"
    }
   ],
   "source": [
    "# filter file (columns: snp_id, gene)\n",
    "endo_eqtl_file = input_files_dir+\"endodiff_eqtl_allconditions_FDR10pct.csv\"\n",
    "endo_eqtl = pd.read_csv(endo_eqtl_file, index_col = False)\n",
    "endo_eqtl[\"chrom\"] = [int(i[:i.find(\"_\")]) for i in endo_eqtl[\"snp_id\"]]\n",
    "endo_eqtl.head(2)"
   ]
  },
  {
   "cell_type": "code",
   "execution_count": 27,
   "id": "e4e15bfc",
   "metadata": {},
   "outputs": [],
   "source": [
    "chrom = 22\n",
    "# and consider eGenes on that chromosome\n",
    "genes = endo_eqtl[endo_eqtl['chrom']==int(chrom)]['feature'].unique()"
   ]
  },
  {
   "cell_type": "code",
   "execution_count": 28,
   "id": "b1958832",
   "metadata": {},
   "outputs": [
    {
     "data": {
      "text/plain": [
       "88"
      ]
     },
     "execution_count": 28,
     "metadata": {},
     "output_type": "execute_result"
    }
   ],
   "source": [
    "len(genes)"
   ]
  },
  {
   "cell_type": "code",
   "execution_count": 29,
   "id": "32c58ce3",
   "metadata": {},
   "outputs": [
    {
     "data": {
      "text/plain": [
       "array(['ENSG00000100058_CRYBB2P1', 'ENSG00000184674_GSTT1',\n",
       "       'ENSG00000196236_XPNPEP3', 'ENSG00000189306_RRP7A',\n",
       "       'ENSG00000100410_PHF5A', 'ENSG00000093072_CECR1',\n",
       "       'ENSG00000099974_DDTL', 'ENSG00000100033_PRODH',\n",
       "       'ENSG00000179750_APOBEC3B', 'ENSG00000099984_GSTT2',\n",
       "       'ENSG00000100429_HDAC10', 'ENSG00000100122_CRYBB1',\n",
       "       'ENSG00000133433_GSTT2B', 'ENSG00000128283_CDC42EP1',\n",
       "       'ENSG00000099942_CRKL', 'ENSG00000215012_C22orf29',\n",
       "       'ENSG00000100422_CERK', 'ENSG00000100376_FAM118A',\n",
       "       'ENSG00000099940_SNAP29', 'ENSG00000100417_PMM1',\n",
       "       'ENSG00000075234_TTC38', 'ENSG00000211643_IGLV5-52',\n",
       "       'ENSG00000099977_DDT', 'ENSG00000128191_DGCR8',\n",
       "       'ENSG00000100413_POLR3H', 'ENSG00000185339_TCN2',\n",
       "       'ENSG00000128294_TPST2', 'ENSG00000185838_GNB1L',\n",
       "       'ENSG00000184983_NDUFA6', 'ENSG00000185651_UBE2L3',\n",
       "       'ENSG00000100243_CYB5R3', 'ENSG00000169314_C22orf15',\n",
       "       'ENSG00000244509_APOBEC3C', 'ENSG00000100347_SAMM50',\n",
       "       'ENSG00000100292_HMOX1', 'ENSG00000099991_CABIN1',\n",
       "       'ENSG00000100196_KDELR3', 'ENSG00000100083_GGA1',\n",
       "       'ENSG00000183628_DGCR6', 'ENSG00000133422_MORC2',\n",
       "       'ENSG00000100097_LGALS1', 'ENSG00000100299_ARSA',\n",
       "       'ENSG00000100258_LMF2', 'ENSG00000100321_SYNGR1',\n",
       "       'ENSG00000100362_PVALB', 'ENSG00000184979_USP18',\n",
       "       'ENSG00000100263_RHBDD3', 'ENSG00000100304_TTLL12',\n",
       "       'ENSG00000184949_FAM227A', 'ENSG00000198951_NAGA',\n",
       "       'ENSG00000100330_MTMR3', 'ENSG00000077942_FBLN1',\n",
       "       'ENSG00000177663_IL17RA', 'ENSG00000219438_FAM19A5',\n",
       "       'ENSG00000100380_ST13', 'ENSG00000167065_DUSP18',\n",
       "       'ENSG00000185133_INPP5J', 'ENSG00000099995_SF3A1',\n",
       "       'ENSG00000128394_APOBEC3F', 'ENSG00000100027_YPEL1',\n",
       "       'ENSG00000184117_NIPSNAP1', 'ENSG00000100311_PDGFB',\n",
       "       'ENSG00000100242_SUN2', 'ENSG00000100234_TIMP3',\n",
       "       'ENSG00000100416_TRMU', 'ENSG00000100124_ANKRD54',\n",
       "       'ENSG00000214076_CPSF1P1', 'ENSG00000196419_XRCC6',\n",
       "       'ENSG00000196576_PLXNB2', 'ENSG00000100345_MYH9',\n",
       "       'ENSG00000187860_CCDC157', 'ENSG00000100344_PNPLA3',\n",
       "       'ENSG00000128185_DGCR6L', 'ENSG00000100031_GGT1',\n",
       "       'ENSG00000100241_SBF1', 'ENSG00000183864_TOB2',\n",
       "       'ENSG00000099949_LZTR1', 'ENSG00000100162_CENPM',\n",
       "       'ENSG00000198089_SFI1', 'ENSG00000189060_H1F0',\n",
       "       'ENSG00000183569_SERHL2', 'ENSG00000198355_PIM3',\n",
       "       'ENSG00000185022_MAFF', 'ENSG00000100038_TOP3B',\n",
       "       'ENSG00000100206_DMC1', 'ENSG00000100290_BIK',\n",
       "       'ENSG00000100316_RPL3', 'ENSG00000100201_DDX17'], dtype=object)"
      ]
     },
     "execution_count": 29,
     "metadata": {},
     "output_type": "execute_result"
    }
   ],
   "source": [
    "genes"
   ]
  },
  {
   "cell_type": "code",
   "execution_count": 361,
   "id": "5ddd671a",
   "metadata": {},
   "outputs": [
    {
     "data": {
      "text/plain": [
       "'ENSG00000100097_LGALS1'"
      ]
     },
     "execution_count": 361,
     "metadata": {},
     "output_type": "execute_result"
    }
   ],
   "source": [
    "gene_name = genes[40]\n",
    "gene_name"
   ]
  },
  {
   "cell_type": "code",
   "execution_count": 362,
   "id": "d5915cb9",
   "metadata": {},
   "outputs": [
    {
     "data": {
      "text/plain": [
       "'ENSG00000100097'"
      ]
     },
     "execution_count": 362,
     "metadata": {},
     "output_type": "execute_result"
    }
   ],
   "source": [
    "trait_name = re.sub(\"_.*\",\"\",gene_name)\n",
    "trait_name"
   ]
  },
  {
   "cell_type": "code",
   "execution_count": 363,
   "id": "7846e1fb",
   "metadata": {},
   "outputs": [
    {
     "name": "stderr",
     "output_type": "stream",
     "text": [
      "/nfs/software/stegle/users/acuomo/conda-envs/struct-lmm2/lib/python3.8/site-packages/xarray/core/indexing.py:1369: PerformanceWarning: Slicing with an out-of-order index is generating 2383 times more chunks\n",
      "  return self.array[key]\n"
     ]
    }
   ],
   "source": [
    "leads = endo_eqtl[endo_eqtl['feature']==gene_name]['snp_id'].unique()\n",
    "G_sel = G[:,G['snp'].isin(leads)]\n",
    "G_expanded = G_sel.sel(sample=sample_mapping[\"genotype_individual_id\"].values)\n",
    "assert all(hK_expanded.sample.values == G_expanded.sample.values)\n",
    "#     trait_name = re.sub(\"-\",\".\",trait_name)"
   ]
  },
  {
   "cell_type": "code",
   "execution_count": 364,
   "id": "580a43ce",
   "metadata": {},
   "outputs": [],
   "source": [
    "y = phenotype.sel(trait=gene_name)\n",
    "y = quantile_gaussianize(y)\n",
    "y = y.values.reshape(y.shape[0],1)\n",
    "n_cells = phenotype.shape[1]\n",
    "W = ones((n_cells, 1))\n",
    "GG = G_expanded.values"
   ]
  },
  {
   "cell_type": "code",
   "execution_count": 365,
   "id": "363715e1",
   "metadata": {},
   "outputs": [],
   "source": [
    "if (y == 0).astype(int).sum()/len(y)>0.3:\n",
    "    print(\"Over 30 percent zeroes, skipping gene\")"
   ]
  },
  {
   "cell_type": "code",
   "execution_count": 366,
   "id": "2c89fb86",
   "metadata": {},
   "outputs": [
    {
     "data": {
      "image/png": "[encoded data removed]",
      "text/plain": [
       "<Figure size 432x288 with 1 Axes>"
      ]
     },
     "metadata": {
      "needs_background": "light"
     },
     "output_type": "display_data"
    }
   ],
   "source": [
    "plt.hist(y)\n",
    "plt.show()"
   ]
  },
  {
   "cell_type": "code",
   "execution_count": null,
   "id": "89dcbc71",
   "metadata": {},
   "outputs": [],
   "source": []
  },
  {
   "cell_type": "code",
   "execution_count": null,
   "id": "f15037c9",
   "metadata": {},
   "outputs": [],
   "source": [
    "###"
   ]
  },
  {
   "cell_type": "code",
   "execution_count": 367,
   "id": "a2a3dc0a",
   "metadata": {},
   "outputs": [
    {
     "name": "stderr",
     "output_type": "stream",
     "text": [
      "100%|██████████| 1/1 [02:27<00:00, 147.31s/it]\n"
     ]
    },
    {
     "data": {
      "text/html": [
       "<div>\n",
       "<style scoped>\n",
       "    .dataframe tbody tr th:only-of-type {\n",
       "        vertical-align: middle;\n",
       "    }\n",
       "\n",
       "    .dataframe tbody tr th {\n",
       "        vertical-align: top;\n",
       "    }\n",
       "\n",
       "    .dataframe thead th {\n",
       "        text-align: right;\n",
       "    }\n",
       "</style>\n",
       "<table border=\"1\" class=\"dataframe\">\n",
       "  <thead>\n",
       "    <tr style=\"text-align: right;\">\n",
       "      <th></th>\n",
       "      <th>chrom</th>\n",
       "      <th>pv</th>\n",
       "      <th>variant</th>\n",
       "    </tr>\n",
       "  </thead>\n",
       "  <tbody>\n",
       "    <tr>\n",
       "      <th>0</th>\n",
       "      <td>22</td>\n",
       "      <td>0.496431</td>\n",
       "      <td>22_38059925_A_C</td>\n",
       "    </tr>\n",
       "  </tbody>\n",
       "</table>\n",
       "</div>"
      ],
      "text/plain": [
       "  chrom        pv          variant\n",
       "0    22  0.496431  22_38059925_A_C"
      ]
     },
     "execution_count": 367,
     "metadata": {},
     "output_type": "execute_result"
    }
   ],
   "source": [
    "pvals1 = run_interaction(y=y, W=W, E=C1_gauss.values[:,0:10], E1=C1_gauss.values[:,0:10], E2=C1.values[:,0:20], G=GG, hK=hK_expanded)[0]\n",
    "pv1 = pd.DataFrame({\"chrom\":G_expanded.chrom.values,\n",
    "       \"pv\":pvals1,\n",
    "       \"variant\":G_expanded.snp.values})\n",
    "pv1.head()"
   ]
  },
  {
   "cell_type": "code",
   "execution_count": 368,
   "id": "0fecf6f6",
   "metadata": {},
   "outputs": [
    {
     "name": "stderr",
     "output_type": "stream",
     "text": [
      "100%|██████████| 1/1 [04:59<00:00, 299.90s/it]\n"
     ]
    },
    {
     "data": {
      "text/html": [
       "<div>\n",
       "<style scoped>\n",
       "    .dataframe tbody tr th:only-of-type {\n",
       "        vertical-align: middle;\n",
       "    }\n",
       "\n",
       "    .dataframe tbody tr th {\n",
       "        vertical-align: top;\n",
       "    }\n",
       "\n",
       "    .dataframe thead th {\n",
       "        text-align: right;\n",
       "    }\n",
       "</style>\n",
       "<table border=\"1\" class=\"dataframe\">\n",
       "  <thead>\n",
       "    <tr style=\"text-align: right;\">\n",
       "      <th></th>\n",
       "      <th>chrom</th>\n",
       "      <th>pv</th>\n",
       "      <th>variant</th>\n",
       "    </tr>\n",
       "  </thead>\n",
       "  <tbody>\n",
       "    <tr>\n",
       "      <th>0</th>\n",
       "      <td>22</td>\n",
       "      <td>0.43094</td>\n",
       "      <td>22_38059925_A_C</td>\n",
       "    </tr>\n",
       "  </tbody>\n",
       "</table>\n",
       "</div>"
      ],
      "text/plain": [
       "  chrom       pv          variant\n",
       "0    22  0.43094  22_38059925_A_C"
      ]
     },
     "execution_count": 368,
     "metadata": {},
     "output_type": "execute_result"
    }
   ],
   "source": [
    "pvals2 = run_interaction(y=y, W=W, E=C2_gauss.values[:,0:10], E1=C2_gauss.values[:,0:10], E2=C2.values[:,0:20], G=GG, hK=hK_expanded)[0]\n",
    "pv2 = pd.DataFrame({\"chrom\":G_expanded.chrom.values,\n",
    "       \"pv\":pvals2,\n",
    "       \"variant\":G_expanded.snp.values})\n",
    "pv2.head()"
   ]
  },
  {
   "cell_type": "code",
   "execution_count": 369,
   "id": "c071f597",
   "metadata": {},
   "outputs": [
    {
     "name": "stderr",
     "output_type": "stream",
     "text": [
      "100%|██████████| 1/1 [02:25<00:00, 145.85s/it]\n"
     ]
    },
    {
     "data": {
      "text/html": [
       "<div>\n",
       "<style scoped>\n",
       "    .dataframe tbody tr th:only-of-type {\n",
       "        vertical-align: middle;\n",
       "    }\n",
       "\n",
       "    .dataframe tbody tr th {\n",
       "        vertical-align: top;\n",
       "    }\n",
       "\n",
       "    .dataframe thead th {\n",
       "        text-align: right;\n",
       "    }\n",
       "</style>\n",
       "<table border=\"1\" class=\"dataframe\">\n",
       "  <thead>\n",
       "    <tr style=\"text-align: right;\">\n",
       "      <th></th>\n",
       "      <th>chrom</th>\n",
       "      <th>pv</th>\n",
       "      <th>variant</th>\n",
       "    </tr>\n",
       "  </thead>\n",
       "  <tbody>\n",
       "    <tr>\n",
       "      <th>0</th>\n",
       "      <td>22</td>\n",
       "      <td>0.628908</td>\n",
       "      <td>22_38059925_A_C</td>\n",
       "    </tr>\n",
       "  </tbody>\n",
       "</table>\n",
       "</div>"
      ],
      "text/plain": [
       "  chrom        pv          variant\n",
       "0    22  0.628908  22_38059925_A_C"
      ]
     },
     "execution_count": 369,
     "metadata": {},
     "output_type": "execute_result"
    }
   ],
   "source": [
    "pvals3 = run_interaction(y=y, W=W, E=C1.values[:,0:10], E1=C1.values[:,0:10], E2=C1.values[:,0:10], G=GG, hK=hK_expanded)[0]\n",
    "pv3 = pd.DataFrame({\"chrom\":G_expanded.chrom.values,\n",
    "       \"pv\":pvals3,\n",
    "       \"variant\":G_expanded.snp.values})\n",
    "pv3.head()"
   ]
  },
  {
   "cell_type": "code",
   "execution_count": null,
   "id": "7d16919f",
   "metadata": {},
   "outputs": [],
   "source": [
    "### ENSG00000133422_MORC2"
   ]
  },
  {
   "cell_type": "code",
   "execution_count": 358,
   "id": "43b0d380",
   "metadata": {},
   "outputs": [
    {
     "name": "stderr",
     "output_type": "stream",
     "text": [
      "100%|██████████| 2/2 [05:12<00:00, 156.23s/it]\n"
     ]
    },
    {
     "data": {
      "text/html": [
       "<div>\n",
       "<style scoped>\n",
       "    .dataframe tbody tr th:only-of-type {\n",
       "        vertical-align: middle;\n",
       "    }\n",
       "\n",
       "    .dataframe tbody tr th {\n",
       "        vertical-align: top;\n",
       "    }\n",
       "\n",
       "    .dataframe thead th {\n",
       "        text-align: right;\n",
       "    }\n",
       "</style>\n",
       "<table border=\"1\" class=\"dataframe\">\n",
       "  <thead>\n",
       "    <tr style=\"text-align: right;\">\n",
       "      <th></th>\n",
       "      <th>chrom</th>\n",
       "      <th>pv</th>\n",
       "      <th>variant</th>\n",
       "    </tr>\n",
       "  </thead>\n",
       "  <tbody>\n",
       "    <tr>\n",
       "      <th>0</th>\n",
       "      <td>22</td>\n",
       "      <td>0.273525</td>\n",
       "      <td>22_31377027_A_G</td>\n",
       "    </tr>\n",
       "    <tr>\n",
       "      <th>1</th>\n",
       "      <td>22</td>\n",
       "      <td>0.472266</td>\n",
       "      <td>22_31395825_T_C</td>\n",
       "    </tr>\n",
       "  </tbody>\n",
       "</table>\n",
       "</div>"
      ],
      "text/plain": [
       "  chrom        pv          variant\n",
       "0    22  0.273525  22_31377027_A_G\n",
       "1    22  0.472266  22_31395825_T_C"
      ]
     },
     "execution_count": 358,
     "metadata": {},
     "output_type": "execute_result"
    }
   ],
   "source": [
    "pvals1 = run_interaction(y=y, W=W, E=C1_gauss.values[:,0:10], E1=C1_gauss.values[:,0:10], E2=C1.values[:,0:20], G=GG, hK=hK_expanded)[0]\n",
    "pv1 = pd.DataFrame({\"chrom\":G_expanded.chrom.values,\n",
    "       \"pv\":pvals1,\n",
    "       \"variant\":G_expanded.snp.values})\n",
    "pv1.head()"
   ]
  },
  {
   "cell_type": "code",
   "execution_count": 359,
   "id": "0b8d405d",
   "metadata": {},
   "outputs": [
    {
     "name": "stderr",
     "output_type": "stream",
     "text": [
      "100%|██████████| 2/2 [09:54<00:00, 297.09s/it]\n"
     ]
    },
    {
     "data": {
      "text/html": [
       "<div>\n",
       "<style scoped>\n",
       "    .dataframe tbody tr th:only-of-type {\n",
       "        vertical-align: middle;\n",
       "    }\n",
       "\n",
       "    .dataframe tbody tr th {\n",
       "        vertical-align: top;\n",
       "    }\n",
       "\n",
       "    .dataframe thead th {\n",
       "        text-align: right;\n",
       "    }\n",
       "</style>\n",
       "<table border=\"1\" class=\"dataframe\">\n",
       "  <thead>\n",
       "    <tr style=\"text-align: right;\">\n",
       "      <th></th>\n",
       "      <th>chrom</th>\n",
       "      <th>pv</th>\n",
       "      <th>variant</th>\n",
       "    </tr>\n",
       "  </thead>\n",
       "  <tbody>\n",
       "    <tr>\n",
       "      <th>0</th>\n",
       "      <td>22</td>\n",
       "      <td>0.201304</td>\n",
       "      <td>22_31377027_A_G</td>\n",
       "    </tr>\n",
       "    <tr>\n",
       "      <th>1</th>\n",
       "      <td>22</td>\n",
       "      <td>0.109643</td>\n",
       "      <td>22_31395825_T_C</td>\n",
       "    </tr>\n",
       "  </tbody>\n",
       "</table>\n",
       "</div>"
      ],
      "text/plain": [
       "  chrom        pv          variant\n",
       "0    22  0.201304  22_31377027_A_G\n",
       "1    22  0.109643  22_31395825_T_C"
      ]
     },
     "execution_count": 359,
     "metadata": {},
     "output_type": "execute_result"
    }
   ],
   "source": [
    "pvals2 = run_interaction(y=y, W=W, E=C2_gauss.values[:,0:10], E1=C2_gauss.values[:,0:10], E2=C2.values[:,0:20], G=GG, hK=hK_expanded)[0]\n",
    "pv2 = pd.DataFrame({\"chrom\":G_expanded.chrom.values,\n",
    "       \"pv\":pvals2,\n",
    "       \"variant\":G_expanded.snp.values})\n",
    "pv2.head()"
   ]
  },
  {
   "cell_type": "code",
   "execution_count": 360,
   "id": "49d23b96",
   "metadata": {},
   "outputs": [
    {
     "name": "stderr",
     "output_type": "stream",
     "text": [
      "100%|██████████| 2/2 [05:14<00:00, 157.22s/it]\n"
     ]
    },
    {
     "data": {
      "text/html": [
       "<div>\n",
       "<style scoped>\n",
       "    .dataframe tbody tr th:only-of-type {\n",
       "        vertical-align: middle;\n",
       "    }\n",
       "\n",
       "    .dataframe tbody tr th {\n",
       "        vertical-align: top;\n",
       "    }\n",
       "\n",
       "    .dataframe thead th {\n",
       "        text-align: right;\n",
       "    }\n",
       "</style>\n",
       "<table border=\"1\" class=\"dataframe\">\n",
       "  <thead>\n",
       "    <tr style=\"text-align: right;\">\n",
       "      <th></th>\n",
       "      <th>chrom</th>\n",
       "      <th>pv</th>\n",
       "      <th>variant</th>\n",
       "    </tr>\n",
       "  </thead>\n",
       "  <tbody>\n",
       "    <tr>\n",
       "      <th>0</th>\n",
       "      <td>22</td>\n",
       "      <td>0.162442</td>\n",
       "      <td>22_31377027_A_G</td>\n",
       "    </tr>\n",
       "    <tr>\n",
       "      <th>1</th>\n",
       "      <td>22</td>\n",
       "      <td>0.349688</td>\n",
       "      <td>22_31395825_T_C</td>\n",
       "    </tr>\n",
       "  </tbody>\n",
       "</table>\n",
       "</div>"
      ],
      "text/plain": [
       "  chrom        pv          variant\n",
       "0    22  0.162442  22_31377027_A_G\n",
       "1    22  0.349688  22_31395825_T_C"
      ]
     },
     "execution_count": 360,
     "metadata": {},
     "output_type": "execute_result"
    }
   ],
   "source": [
    "pvals3 = run_interaction(y=y, W=W, E=C1.values[:,0:10], E1=C1.values[:,0:10], E2=C1.values[:,0:10], G=GG, hK=hK_expanded)[0]\n",
    "pv3 = pd.DataFrame({\"chrom\":G_expanded.chrom.values,\n",
    "       \"pv\":pvals3,\n",
    "       \"variant\":G_expanded.snp.values})\n",
    "pv3.head()"
   ]
  },
  {
   "cell_type": "code",
   "execution_count": null,
   "id": "ff59a991",
   "metadata": {},
   "outputs": [],
   "source": [
    "# to plot in R\n",
    "\n",
    "## MOFA (pv2)\n",
    "x = c(8.465845e-10,  2.912894e-02, 3.468064e-10,  0.005462, 0.348159, 0.092094, 0.018068, 0.202231, 0.375638, \n",
    "     0.720105, 0.471773, 3.969373e-13, 5.576247e-13, 0.208862, 0.656033, 0.353284, 0.006725, 0.888190, 0.000003, \n",
    "     0.011491, 1.328878e-11, 6.727592e-12, 0.436182, 0.686520, 2.398976e-17,  1.300539e-11, 3.080535e-10, \n",
    "     3.930914e-09, 0.318595, 0.057419, 0.011458, 0.914385, 0.971026, 0.057087, 0.038254, 0.000005, 0.419376, \n",
    "     0.145234, 0.25096, 0.051724, 0.004639, 0.012965, 0.945293, 0.434565, 0.469355, 0.791156, 0.526272, 0.024513,\n",
    "     0.048411, 0.216436, 0.084545, 0.809697, 0.991218, 0.355933, 0.003093, 0.044061, 0.054433, 0.578994, 0.769611,\n",
    "     0.17282, 0.000441, 0.586653, 0.237216, 0.115621)\n",
    "\n",
    "## LDVAE same settings (pv1)\n",
    "y0 = c(1.103523e-07, 9.014011e-02, 0.000746, 0.000141, 0.316305, 0.015920, 0.004250, 0.113659, 0.258806, 0.342259,\n",
    "      0.169668, 1.945436e-11, 8.723618e-12, 0.000201, 0.307953, 0.033377, 0.000003, 0.775450, 0.075479, 0.461629,\n",
    "      0.034528, 0.000027, 0.175667, 0.440837, 2.674606e-07, 0.000772, 0.000173, 0.066520, 0.129119, 0.020621,\n",
    "      0.003417, 0.647512, 0.454538, 0.137590, 2.631526e-03, 6.865877e-07, 0.047961, 0.147208, 0.036225, 1.186653e-05,\n",
    "      5.246980e-08, 4.611934e-08, 0.593706, 0.026581, 0.312531, 0.392848, 0.482856, 0.000055, 0.406865, 0.449668,\n",
    "      0.086945, 0.231502, 0.957537, 0.635569, 0.230927, 0.281954, 0.000331, 0.385409, 0.038905, 0.010509, 0.000105,\n",
    "      0.530046, 0.074441, 0.297119)\n",
    "\n",
    "## LDVAE new settings (pv3)\n",
    "y1 = c(1.913650e-07, 1.247358e-01, 0.000003, 0.000080, 0.266093, 0.063700, 0.010664, 0.105129, 0.452147, 0.622567,\n",
    "      0.656348, 2.010416e-14, 2.503091e-15, 0.000036, 0.395675, 0.010078, 0.000001, 0.810282,  0.179800, 0.810958,\n",
    "      0.011071, 0.000676, 0.035383, 0.225566, 4.862919e-08, 0.000266, 0.000696, 0.008577, 0.11841, 0.129038,\n",
    "      0.00625, 0.510671, 0.407241, 0.032559, 0.005250, 0.000002, 0.230244, 0.22723, 0.031836, 4.559174e-05, \n",
    "      2.879162e-07, 1.446790e-07, 0.747629, 0.044543, 0.385746, 0.531140, 0.408399, 0.000131, 0.113757, 0.714947,\n",
    "      0.061481, 0.704404, 0.898263, 0.638391, 0.078361, 0.108279, 0.000675, 0.817515, 0.048619, 0.008281, 0.000228,\n",
    "      0.582644, 0.169477, 0.263801)"
   ]
  },
  {
   "cell_type": "code",
   "execution_count": null,
   "id": "717f72e0",
   "metadata": {},
   "outputs": [],
   "source": [
    "### ENSG00000183628_DGCR6"
   ]
  },
  {
   "cell_type": "code",
   "execution_count": 349,
   "id": "14383020",
   "metadata": {},
   "outputs": [
    {
     "name": "stderr",
     "output_type": "stream",
     "text": [
      "100%|██████████| 1/1 [02:43<00:00, 163.77s/it]\n"
     ]
    },
    {
     "data": {
      "text/html": [
       "<div>\n",
       "<style scoped>\n",
       "    .dataframe tbody tr th:only-of-type {\n",
       "        vertical-align: middle;\n",
       "    }\n",
       "\n",
       "    .dataframe tbody tr th {\n",
       "        vertical-align: top;\n",
       "    }\n",
       "\n",
       "    .dataframe thead th {\n",
       "        text-align: right;\n",
       "    }\n",
       "</style>\n",
       "<table border=\"1\" class=\"dataframe\">\n",
       "  <thead>\n",
       "    <tr style=\"text-align: right;\">\n",
       "      <th></th>\n",
       "      <th>chrom</th>\n",
       "      <th>pv</th>\n",
       "      <th>variant</th>\n",
       "    </tr>\n",
       "  </thead>\n",
       "  <tbody>\n",
       "    <tr>\n",
       "      <th>0</th>\n",
       "      <td>22</td>\n",
       "      <td>0.297119</td>\n",
       "      <td>22_18888301_G_A</td>\n",
       "    </tr>\n",
       "  </tbody>\n",
       "</table>\n",
       "</div>"
      ],
      "text/plain": [
       "  chrom        pv          variant\n",
       "0    22  0.297119  22_18888301_G_A"
      ]
     },
     "execution_count": 349,
     "metadata": {},
     "output_type": "execute_result"
    }
   ],
   "source": [
    "pvals1 = run_interaction(y=y, W=W, E=C1_gauss.values[:,0:10], E1=C1_gauss.values[:,0:10], E2=C1.values[:,0:20], G=GG, hK=hK_expanded)[0]\n",
    "pv1 = pd.DataFrame({\"chrom\":G_expanded.chrom.values,\n",
    "       \"pv\":pvals1,\n",
    "       \"variant\":G_expanded.snp.values})\n",
    "pv1.head()"
   ]
  },
  {
   "cell_type": "code",
   "execution_count": 350,
   "id": "2ad589c8",
   "metadata": {},
   "outputs": [
    {
     "name": "stderr",
     "output_type": "stream",
     "text": [
      "100%|██████████| 1/1 [05:01<00:00, 301.50s/it]\n"
     ]
    },
    {
     "data": {
      "text/html": [
       "<div>\n",
       "<style scoped>\n",
       "    .dataframe tbody tr th:only-of-type {\n",
       "        vertical-align: middle;\n",
       "    }\n",
       "\n",
       "    .dataframe tbody tr th {\n",
       "        vertical-align: top;\n",
       "    }\n",
       "\n",
       "    .dataframe thead th {\n",
       "        text-align: right;\n",
       "    }\n",
       "</style>\n",
       "<table border=\"1\" class=\"dataframe\">\n",
       "  <thead>\n",
       "    <tr style=\"text-align: right;\">\n",
       "      <th></th>\n",
       "      <th>chrom</th>\n",
       "      <th>pv</th>\n",
       "      <th>variant</th>\n",
       "    </tr>\n",
       "  </thead>\n",
       "  <tbody>\n",
       "    <tr>\n",
       "      <th>0</th>\n",
       "      <td>22</td>\n",
       "      <td>0.115621</td>\n",
       "      <td>22_18888301_G_A</td>\n",
       "    </tr>\n",
       "  </tbody>\n",
       "</table>\n",
       "</div>"
      ],
      "text/plain": [
       "  chrom        pv          variant\n",
       "0    22  0.115621  22_18888301_G_A"
      ]
     },
     "execution_count": 350,
     "metadata": {},
     "output_type": "execute_result"
    }
   ],
   "source": [
    "pvals2 = run_interaction(y=y, W=W, E=C2_gauss.values[:,0:10], E1=C2_gauss.values[:,0:10], E2=C2.values[:,0:20], G=GG, hK=hK_expanded)[0]\n",
    "pv2 = pd.DataFrame({\"chrom\":G_expanded.chrom.values,\n",
    "       \"pv\":pvals2,\n",
    "       \"variant\":G_expanded.snp.values})\n",
    "pv2.head()"
   ]
  },
  {
   "cell_type": "code",
   "execution_count": 351,
   "id": "1535ac28",
   "metadata": {},
   "outputs": [
    {
     "name": "stderr",
     "output_type": "stream",
     "text": [
      "100%|██████████| 1/1 [02:53<00:00, 173.66s/it]\n"
     ]
    },
    {
     "data": {
      "text/html": [
       "<div>\n",
       "<style scoped>\n",
       "    .dataframe tbody tr th:only-of-type {\n",
       "        vertical-align: middle;\n",
       "    }\n",
       "\n",
       "    .dataframe tbody tr th {\n",
       "        vertical-align: top;\n",
       "    }\n",
       "\n",
       "    .dataframe thead th {\n",
       "        text-align: right;\n",
       "    }\n",
       "</style>\n",
       "<table border=\"1\" class=\"dataframe\">\n",
       "  <thead>\n",
       "    <tr style=\"text-align: right;\">\n",
       "      <th></th>\n",
       "      <th>chrom</th>\n",
       "      <th>pv</th>\n",
       "      <th>variant</th>\n",
       "    </tr>\n",
       "  </thead>\n",
       "  <tbody>\n",
       "    <tr>\n",
       "      <th>0</th>\n",
       "      <td>22</td>\n",
       "      <td>0.263801</td>\n",
       "      <td>22_18888301_G_A</td>\n",
       "    </tr>\n",
       "  </tbody>\n",
       "</table>\n",
       "</div>"
      ],
      "text/plain": [
       "  chrom        pv          variant\n",
       "0    22  0.263801  22_18888301_G_A"
      ]
     },
     "execution_count": 351,
     "metadata": {},
     "output_type": "execute_result"
    }
   ],
   "source": [
    "pvals3 = run_interaction(y=y, W=W, E=C1.values[:,0:10], E1=C1.values[:,0:10], E2=C1.values[:,0:10], G=GG, hK=hK_expanded)[0]\n",
    "pv3 = pd.DataFrame({\"chrom\":G_expanded.chrom.values,\n",
    "       \"pv\":pvals3,\n",
    "       \"variant\":G_expanded.snp.values})\n",
    "pv3.head()"
   ]
  },
  {
   "cell_type": "code",
   "execution_count": null,
   "id": "d480a9b5",
   "metadata": {},
   "outputs": [],
   "source": [
    "### ENSG00000100083_GGA1"
   ]
  },
  {
   "cell_type": "code",
   "execution_count": 340,
   "id": "15d2c41a",
   "metadata": {},
   "outputs": [
    {
     "name": "stderr",
     "output_type": "stream",
     "text": [
      "100%|██████████| 1/1 [02:52<00:00, 172.59s/it]\n"
     ]
    },
    {
     "data": {
      "text/html": [
       "<div>\n",
       "<style scoped>\n",
       "    .dataframe tbody tr th:only-of-type {\n",
       "        vertical-align: middle;\n",
       "    }\n",
       "\n",
       "    .dataframe tbody tr th {\n",
       "        vertical-align: top;\n",
       "    }\n",
       "\n",
       "    .dataframe thead th {\n",
       "        text-align: right;\n",
       "    }\n",
       "</style>\n",
       "<table border=\"1\" class=\"dataframe\">\n",
       "  <thead>\n",
       "    <tr style=\"text-align: right;\">\n",
       "      <th></th>\n",
       "      <th>chrom</th>\n",
       "      <th>pv</th>\n",
       "      <th>variant</th>\n",
       "    </tr>\n",
       "  </thead>\n",
       "  <tbody>\n",
       "    <tr>\n",
       "      <th>0</th>\n",
       "      <td>22</td>\n",
       "      <td>0.074441</td>\n",
       "      <td>22_37905173_A_G</td>\n",
       "    </tr>\n",
       "  </tbody>\n",
       "</table>\n",
       "</div>"
      ],
      "text/plain": [
       "  chrom        pv          variant\n",
       "0    22  0.074441  22_37905173_A_G"
      ]
     },
     "execution_count": 340,
     "metadata": {},
     "output_type": "execute_result"
    }
   ],
   "source": [
    "pvals1 = run_interaction(y=y, W=W, E=C1_gauss.values[:,0:10], E1=C1_gauss.values[:,0:10], E2=C1.values[:,0:20], G=GG, hK=hK_expanded)[0]\n",
    "pv1 = pd.DataFrame({\"chrom\":G_expanded.chrom.values,\n",
    "       \"pv\":pvals1,\n",
    "       \"variant\":G_expanded.snp.values})\n",
    "pv1.head()"
   ]
  },
  {
   "cell_type": "code",
   "execution_count": 341,
   "id": "605cfc8e",
   "metadata": {},
   "outputs": [
    {
     "name": "stderr",
     "output_type": "stream",
     "text": [
      "100%|██████████| 1/1 [05:13<00:00, 313.01s/it]\n"
     ]
    },
    {
     "data": {
      "text/html": [
       "<div>\n",
       "<style scoped>\n",
       "    .dataframe tbody tr th:only-of-type {\n",
       "        vertical-align: middle;\n",
       "    }\n",
       "\n",
       "    .dataframe tbody tr th {\n",
       "        vertical-align: top;\n",
       "    }\n",
       "\n",
       "    .dataframe thead th {\n",
       "        text-align: right;\n",
       "    }\n",
       "</style>\n",
       "<table border=\"1\" class=\"dataframe\">\n",
       "  <thead>\n",
       "    <tr style=\"text-align: right;\">\n",
       "      <th></th>\n",
       "      <th>chrom</th>\n",
       "      <th>pv</th>\n",
       "      <th>variant</th>\n",
       "    </tr>\n",
       "  </thead>\n",
       "  <tbody>\n",
       "    <tr>\n",
       "      <th>0</th>\n",
       "      <td>22</td>\n",
       "      <td>0.237216</td>\n",
       "      <td>22_37905173_A_G</td>\n",
       "    </tr>\n",
       "  </tbody>\n",
       "</table>\n",
       "</div>"
      ],
      "text/plain": [
       "  chrom        pv          variant\n",
       "0    22  0.237216  22_37905173_A_G"
      ]
     },
     "execution_count": 341,
     "metadata": {},
     "output_type": "execute_result"
    }
   ],
   "source": [
    "pvals2 = run_interaction(y=y, W=W, E=C2_gauss.values[:,0:10], E1=C2_gauss.values[:,0:10], E2=C2.values[:,0:20], G=GG, hK=hK_expanded)[0]\n",
    "pv2 = pd.DataFrame({\"chrom\":G_expanded.chrom.values,\n",
    "       \"pv\":pvals2,\n",
    "       \"variant\":G_expanded.snp.values})\n",
    "pv2.head()"
   ]
  },
  {
   "cell_type": "code",
   "execution_count": 342,
   "id": "a6dbd343",
   "metadata": {},
   "outputs": [
    {
     "name": "stderr",
     "output_type": "stream",
     "text": [
      "100%|██████████| 1/1 [02:51<00:00, 171.08s/it]\n"
     ]
    },
    {
     "data": {
      "text/html": [
       "<div>\n",
       "<style scoped>\n",
       "    .dataframe tbody tr th:only-of-type {\n",
       "        vertical-align: middle;\n",
       "    }\n",
       "\n",
       "    .dataframe tbody tr th {\n",
       "        vertical-align: top;\n",
       "    }\n",
       "\n",
       "    .dataframe thead th {\n",
       "        text-align: right;\n",
       "    }\n",
       "</style>\n",
       "<table border=\"1\" class=\"dataframe\">\n",
       "  <thead>\n",
       "    <tr style=\"text-align: right;\">\n",
       "      <th></th>\n",
       "      <th>chrom</th>\n",
       "      <th>pv</th>\n",
       "      <th>variant</th>\n",
       "    </tr>\n",
       "  </thead>\n",
       "  <tbody>\n",
       "    <tr>\n",
       "      <th>0</th>\n",
       "      <td>22</td>\n",
       "      <td>0.169477</td>\n",
       "      <td>22_37905173_A_G</td>\n",
       "    </tr>\n",
       "  </tbody>\n",
       "</table>\n",
       "</div>"
      ],
      "text/plain": [
       "  chrom        pv          variant\n",
       "0    22  0.169477  22_37905173_A_G"
      ]
     },
     "execution_count": 342,
     "metadata": {},
     "output_type": "execute_result"
    }
   ],
   "source": [
    "pvals3 = run_interaction(y=y, W=W, E=C1.values[:,0:10], E1=C1.values[:,0:10], E2=C1.values[:,0:10], G=GG, hK=hK_expanded)[0]\n",
    "pv3 = pd.DataFrame({\"chrom\":G_expanded.chrom.values,\n",
    "       \"pv\":pvals3,\n",
    "       \"variant\":G_expanded.snp.values})\n",
    "pv3.head()"
   ]
  },
  {
   "cell_type": "code",
   "execution_count": null,
   "id": "74321023",
   "metadata": {},
   "outputs": [],
   "source": [
    "### ENSG00000100196_KDELR3"
   ]
  },
  {
   "cell_type": "code",
   "execution_count": 331,
   "id": "95575b87",
   "metadata": {},
   "outputs": [
    {
     "name": "stderr",
     "output_type": "stream",
     "text": [
      "100%|██████████| 1/1 [02:39<00:00, 159.40s/it]\n"
     ]
    },
    {
     "data": {
      "text/html": [
       "<div>\n",
       "<style scoped>\n",
       "    .dataframe tbody tr th:only-of-type {\n",
       "        vertical-align: middle;\n",
       "    }\n",
       "\n",
       "    .dataframe tbody tr th {\n",
       "        vertical-align: top;\n",
       "    }\n",
       "\n",
       "    .dataframe thead th {\n",
       "        text-align: right;\n",
       "    }\n",
       "</style>\n",
       "<table border=\"1\" class=\"dataframe\">\n",
       "  <thead>\n",
       "    <tr style=\"text-align: right;\">\n",
       "      <th></th>\n",
       "      <th>chrom</th>\n",
       "      <th>pv</th>\n",
       "      <th>variant</th>\n",
       "    </tr>\n",
       "  </thead>\n",
       "  <tbody>\n",
       "    <tr>\n",
       "      <th>0</th>\n",
       "      <td>22</td>\n",
       "      <td>0.530046</td>\n",
       "      <td>22_38805402_A_T</td>\n",
       "    </tr>\n",
       "  </tbody>\n",
       "</table>\n",
       "</div>"
      ],
      "text/plain": [
       "  chrom        pv          variant\n",
       "0    22  0.530046  22_38805402_A_T"
      ]
     },
     "execution_count": 331,
     "metadata": {},
     "output_type": "execute_result"
    }
   ],
   "source": [
    "pvals1 = run_interaction(y=y, W=W, E=C1_gauss.values[:,0:10], E1=C1_gauss.values[:,0:10], E2=C1.values[:,0:20], G=GG, hK=hK_expanded)[0]\n",
    "pv1 = pd.DataFrame({\"chrom\":G_expanded.chrom.values,\n",
    "       \"pv\":pvals1,\n",
    "       \"variant\":G_expanded.snp.values})\n",
    "pv1.head()"
   ]
  },
  {
   "cell_type": "code",
   "execution_count": 332,
   "id": "773fc987",
   "metadata": {},
   "outputs": [
    {
     "name": "stderr",
     "output_type": "stream",
     "text": [
      "100%|██████████| 1/1 [04:50<00:00, 290.01s/it]\n"
     ]
    },
    {
     "data": {
      "text/html": [
       "<div>\n",
       "<style scoped>\n",
       "    .dataframe tbody tr th:only-of-type {\n",
       "        vertical-align: middle;\n",
       "    }\n",
       "\n",
       "    .dataframe tbody tr th {\n",
       "        vertical-align: top;\n",
       "    }\n",
       "\n",
       "    .dataframe thead th {\n",
       "        text-align: right;\n",
       "    }\n",
       "</style>\n",
       "<table border=\"1\" class=\"dataframe\">\n",
       "  <thead>\n",
       "    <tr style=\"text-align: right;\">\n",
       "      <th></th>\n",
       "      <th>chrom</th>\n",
       "      <th>pv</th>\n",
       "      <th>variant</th>\n",
       "    </tr>\n",
       "  </thead>\n",
       "  <tbody>\n",
       "    <tr>\n",
       "      <th>0</th>\n",
       "      <td>22</td>\n",
       "      <td>0.586653</td>\n",
       "      <td>22_38805402_A_T</td>\n",
       "    </tr>\n",
       "  </tbody>\n",
       "</table>\n",
       "</div>"
      ],
      "text/plain": [
       "  chrom        pv          variant\n",
       "0    22  0.586653  22_38805402_A_T"
      ]
     },
     "execution_count": 332,
     "metadata": {},
     "output_type": "execute_result"
    }
   ],
   "source": [
    "pvals2 = run_interaction(y=y, W=W, E=C2_gauss.values[:,0:10], E1=C2_gauss.values[:,0:10], E2=C2.values[:,0:20], G=GG, hK=hK_expanded)[0]\n",
    "pv2 = pd.DataFrame({\"chrom\":G_expanded.chrom.values,\n",
    "       \"pv\":pvals2,\n",
    "       \"variant\":G_expanded.snp.values})\n",
    "pv2.head()"
   ]
  },
  {
   "cell_type": "code",
   "execution_count": 333,
   "id": "c88e0df1",
   "metadata": {},
   "outputs": [
    {
     "name": "stderr",
     "output_type": "stream",
     "text": [
      "100%|██████████| 1/1 [02:42<00:00, 162.74s/it]\n"
     ]
    },
    {
     "data": {
      "text/html": [
       "<div>\n",
       "<style scoped>\n",
       "    .dataframe tbody tr th:only-of-type {\n",
       "        vertical-align: middle;\n",
       "    }\n",
       "\n",
       "    .dataframe tbody tr th {\n",
       "        vertical-align: top;\n",
       "    }\n",
       "\n",
       "    .dataframe thead th {\n",
       "        text-align: right;\n",
       "    }\n",
       "</style>\n",
       "<table border=\"1\" class=\"dataframe\">\n",
       "  <thead>\n",
       "    <tr style=\"text-align: right;\">\n",
       "      <th></th>\n",
       "      <th>chrom</th>\n",
       "      <th>pv</th>\n",
       "      <th>variant</th>\n",
       "    </tr>\n",
       "  </thead>\n",
       "  <tbody>\n",
       "    <tr>\n",
       "      <th>0</th>\n",
       "      <td>22</td>\n",
       "      <td>0.582644</td>\n",
       "      <td>22_38805402_A_T</td>\n",
       "    </tr>\n",
       "  </tbody>\n",
       "</table>\n",
       "</div>"
      ],
      "text/plain": [
       "  chrom        pv          variant\n",
       "0    22  0.582644  22_38805402_A_T"
      ]
     },
     "execution_count": 333,
     "metadata": {},
     "output_type": "execute_result"
    }
   ],
   "source": [
    "pvals3 = run_interaction(y=y, W=W, E=C1.values[:,0:10], E1=C1.values[:,0:10], E2=C1.values[:,0:10], G=GG, hK=hK_expanded)[0]\n",
    "pv3 = pd.DataFrame({\"chrom\":G_expanded.chrom.values,\n",
    "       \"pv\":pvals3,\n",
    "       \"variant\":G_expanded.snp.values})\n",
    "pv3.head()"
   ]
  },
  {
   "cell_type": "code",
   "execution_count": null,
   "id": "4b586c1b",
   "metadata": {},
   "outputs": [],
   "source": [
    "### ENSG00000099991_CABIN1"
   ]
  },
  {
   "cell_type": "code",
   "execution_count": 322,
   "id": "2b6dc80b",
   "metadata": {},
   "outputs": [
    {
     "name": "stderr",
     "output_type": "stream",
     "text": [
      "100%|██████████| 1/1 [02:40<00:00, 160.72s/it]\n"
     ]
    },
    {
     "data": {
      "text/html": [
       "<div>\n",
       "<style scoped>\n",
       "    .dataframe tbody tr th:only-of-type {\n",
       "        vertical-align: middle;\n",
       "    }\n",
       "\n",
       "    .dataframe tbody tr th {\n",
       "        vertical-align: top;\n",
       "    }\n",
       "\n",
       "    .dataframe thead th {\n",
       "        text-align: right;\n",
       "    }\n",
       "</style>\n",
       "<table border=\"1\" class=\"dataframe\">\n",
       "  <thead>\n",
       "    <tr style=\"text-align: right;\">\n",
       "      <th></th>\n",
       "      <th>chrom</th>\n",
       "      <th>pv</th>\n",
       "      <th>variant</th>\n",
       "    </tr>\n",
       "  </thead>\n",
       "  <tbody>\n",
       "    <tr>\n",
       "      <th>0</th>\n",
       "      <td>22</td>\n",
       "      <td>0.000105</td>\n",
       "      <td>22_24335506_C_T</td>\n",
       "    </tr>\n",
       "  </tbody>\n",
       "</table>\n",
       "</div>"
      ],
      "text/plain": [
       "  chrom        pv          variant\n",
       "0    22  0.000105  22_24335506_C_T"
      ]
     },
     "execution_count": 322,
     "metadata": {},
     "output_type": "execute_result"
    }
   ],
   "source": [
    "pvals1 = run_interaction(y=y, W=W, E=C1_gauss.values[:,0:10], E1=C1_gauss.values[:,0:10], E2=C1.values[:,0:20], G=GG, hK=hK_expanded)[0]\n",
    "pv1 = pd.DataFrame({\"chrom\":G_expanded.chrom.values,\n",
    "       \"pv\":pvals1,\n",
    "       \"variant\":G_expanded.snp.values})\n",
    "pv1.head()"
   ]
  },
  {
   "cell_type": "code",
   "execution_count": 323,
   "id": "a44c07e5",
   "metadata": {},
   "outputs": [
    {
     "name": "stderr",
     "output_type": "stream",
     "text": [
      "100%|██████████| 1/1 [05:32<00:00, 332.19s/it]\n"
     ]
    },
    {
     "data": {
      "text/html": [
       "<div>\n",
       "<style scoped>\n",
       "    .dataframe tbody tr th:only-of-type {\n",
       "        vertical-align: middle;\n",
       "    }\n",
       "\n",
       "    .dataframe tbody tr th {\n",
       "        vertical-align: top;\n",
       "    }\n",
       "\n",
       "    .dataframe thead th {\n",
       "        text-align: right;\n",
       "    }\n",
       "</style>\n",
       "<table border=\"1\" class=\"dataframe\">\n",
       "  <thead>\n",
       "    <tr style=\"text-align: right;\">\n",
       "      <th></th>\n",
       "      <th>chrom</th>\n",
       "      <th>pv</th>\n",
       "      <th>variant</th>\n",
       "    </tr>\n",
       "  </thead>\n",
       "  <tbody>\n",
       "    <tr>\n",
       "      <th>0</th>\n",
       "      <td>22</td>\n",
       "      <td>0.000441</td>\n",
       "      <td>22_24335506_C_T</td>\n",
       "    </tr>\n",
       "  </tbody>\n",
       "</table>\n",
       "</div>"
      ],
      "text/plain": [
       "  chrom        pv          variant\n",
       "0    22  0.000441  22_24335506_C_T"
      ]
     },
     "execution_count": 323,
     "metadata": {},
     "output_type": "execute_result"
    }
   ],
   "source": [
    "pvals2 = run_interaction(y=y, W=W, E=C2_gauss.values[:,0:10], E1=C2_gauss.values[:,0:10], E2=C2.values[:,0:20], G=GG, hK=hK_expanded)[0]\n",
    "pv2 = pd.DataFrame({\"chrom\":G_expanded.chrom.values,\n",
    "       \"pv\":pvals2,\n",
    "       \"variant\":G_expanded.snp.values})\n",
    "pv2.head()"
   ]
  },
  {
   "cell_type": "code",
   "execution_count": 324,
   "id": "540faaae",
   "metadata": {},
   "outputs": [
    {
     "name": "stderr",
     "output_type": "stream",
     "text": [
      "100%|██████████| 1/1 [02:30<00:00, 150.85s/it]\n"
     ]
    },
    {
     "data": {
      "text/html": [
       "<div>\n",
       "<style scoped>\n",
       "    .dataframe tbody tr th:only-of-type {\n",
       "        vertical-align: middle;\n",
       "    }\n",
       "\n",
       "    .dataframe tbody tr th {\n",
       "        vertical-align: top;\n",
       "    }\n",
       "\n",
       "    .dataframe thead th {\n",
       "        text-align: right;\n",
       "    }\n",
       "</style>\n",
       "<table border=\"1\" class=\"dataframe\">\n",
       "  <thead>\n",
       "    <tr style=\"text-align: right;\">\n",
       "      <th></th>\n",
       "      <th>chrom</th>\n",
       "      <th>pv</th>\n",
       "      <th>variant</th>\n",
       "    </tr>\n",
       "  </thead>\n",
       "  <tbody>\n",
       "    <tr>\n",
       "      <th>0</th>\n",
       "      <td>22</td>\n",
       "      <td>0.000228</td>\n",
       "      <td>22_24335506_C_T</td>\n",
       "    </tr>\n",
       "  </tbody>\n",
       "</table>\n",
       "</div>"
      ],
      "text/plain": [
       "  chrom        pv          variant\n",
       "0    22  0.000228  22_24335506_C_T"
      ]
     },
     "execution_count": 324,
     "metadata": {},
     "output_type": "execute_result"
    }
   ],
   "source": [
    "pvals3 = run_interaction(y=y, W=W, E=C1.values[:,0:10], E1=C1.values[:,0:10], E2=C1.values[:,0:10], G=GG, hK=hK_expanded)[0]\n",
    "pv3 = pd.DataFrame({\"chrom\":G_expanded.chrom.values,\n",
    "       \"pv\":pvals3,\n",
    "       \"variant\":G_expanded.snp.values})\n",
    "pv3.head()"
   ]
  },
  {
   "cell_type": "code",
   "execution_count": null,
   "id": "3c39d067",
   "metadata": {},
   "outputs": [],
   "source": [
    "### ENSG00000100292_HMOX1"
   ]
  },
  {
   "cell_type": "code",
   "execution_count": 313,
   "id": "40387cc5",
   "metadata": {},
   "outputs": [
    {
     "name": "stderr",
     "output_type": "stream",
     "text": [
      "100%|██████████| 1/1 [02:36<00:00, 156.52s/it]\n"
     ]
    },
    {
     "data": {
      "text/html": [
       "<div>\n",
       "<style scoped>\n",
       "    .dataframe tbody tr th:only-of-type {\n",
       "        vertical-align: middle;\n",
       "    }\n",
       "\n",
       "    .dataframe tbody tr th {\n",
       "        vertical-align: top;\n",
       "    }\n",
       "\n",
       "    .dataframe thead th {\n",
       "        text-align: right;\n",
       "    }\n",
       "</style>\n",
       "<table border=\"1\" class=\"dataframe\">\n",
       "  <thead>\n",
       "    <tr style=\"text-align: right;\">\n",
       "      <th></th>\n",
       "      <th>chrom</th>\n",
       "      <th>pv</th>\n",
       "      <th>variant</th>\n",
       "    </tr>\n",
       "  </thead>\n",
       "  <tbody>\n",
       "    <tr>\n",
       "      <th>0</th>\n",
       "      <td>22</td>\n",
       "      <td>0.010509</td>\n",
       "      <td>22_35814215_A_G</td>\n",
       "    </tr>\n",
       "  </tbody>\n",
       "</table>\n",
       "</div>"
      ],
      "text/plain": [
       "  chrom        pv          variant\n",
       "0    22  0.010509  22_35814215_A_G"
      ]
     },
     "execution_count": 313,
     "metadata": {},
     "output_type": "execute_result"
    }
   ],
   "source": [
    "pvals1 = run_interaction(y=y, W=W, E=C1_gauss.values[:,0:10], E1=C1_gauss.values[:,0:10], E2=C1.values[:,0:20], G=GG, hK=hK_expanded)[0]\n",
    "pv1 = pd.DataFrame({\"chrom\":G_expanded.chrom.values,\n",
    "       \"pv\":pvals1,\n",
    "       \"variant\":G_expanded.snp.values})\n",
    "pv1.head()"
   ]
  },
  {
   "cell_type": "code",
   "execution_count": 314,
   "id": "a67bd351",
   "metadata": {},
   "outputs": [
    {
     "name": "stderr",
     "output_type": "stream",
     "text": [
      "100%|██████████| 1/1 [05:27<00:00, 327.28s/it]\n"
     ]
    },
    {
     "data": {
      "text/html": [
       "<div>\n",
       "<style scoped>\n",
       "    .dataframe tbody tr th:only-of-type {\n",
       "        vertical-align: middle;\n",
       "    }\n",
       "\n",
       "    .dataframe tbody tr th {\n",
       "        vertical-align: top;\n",
       "    }\n",
       "\n",
       "    .dataframe thead th {\n",
       "        text-align: right;\n",
       "    }\n",
       "</style>\n",
       "<table border=\"1\" class=\"dataframe\">\n",
       "  <thead>\n",
       "    <tr style=\"text-align: right;\">\n",
       "      <th></th>\n",
       "      <th>chrom</th>\n",
       "      <th>pv</th>\n",
       "      <th>variant</th>\n",
       "    </tr>\n",
       "  </thead>\n",
       "  <tbody>\n",
       "    <tr>\n",
       "      <th>0</th>\n",
       "      <td>22</td>\n",
       "      <td>0.17282</td>\n",
       "      <td>22_35814215_A_G</td>\n",
       "    </tr>\n",
       "  </tbody>\n",
       "</table>\n",
       "</div>"
      ],
      "text/plain": [
       "  chrom       pv          variant\n",
       "0    22  0.17282  22_35814215_A_G"
      ]
     },
     "execution_count": 314,
     "metadata": {},
     "output_type": "execute_result"
    }
   ],
   "source": [
    "pvals2 = run_interaction(y=y, W=W, E=C2_gauss.values[:,0:10], E1=C2_gauss.values[:,0:10], E2=C2.values[:,0:20], G=GG, hK=hK_expanded)[0]\n",
    "pv2 = pd.DataFrame({\"chrom\":G_expanded.chrom.values,\n",
    "       \"pv\":pvals2,\n",
    "       \"variant\":G_expanded.snp.values})\n",
    "pv2.head()"
   ]
  },
  {
   "cell_type": "code",
   "execution_count": 315,
   "id": "2a88ae09",
   "metadata": {},
   "outputs": [
    {
     "name": "stderr",
     "output_type": "stream",
     "text": [
      "100%|██████████| 1/1 [02:46<00:00, 166.09s/it]\n"
     ]
    },
    {
     "data": {
      "text/html": [
       "<div>\n",
       "<style scoped>\n",
       "    .dataframe tbody tr th:only-of-type {\n",
       "        vertical-align: middle;\n",
       "    }\n",
       "\n",
       "    .dataframe tbody tr th {\n",
       "        vertical-align: top;\n",
       "    }\n",
       "\n",
       "    .dataframe thead th {\n",
       "        text-align: right;\n",
       "    }\n",
       "</style>\n",
       "<table border=\"1\" class=\"dataframe\">\n",
       "  <thead>\n",
       "    <tr style=\"text-align: right;\">\n",
       "      <th></th>\n",
       "      <th>chrom</th>\n",
       "      <th>pv</th>\n",
       "      <th>variant</th>\n",
       "    </tr>\n",
       "  </thead>\n",
       "  <tbody>\n",
       "    <tr>\n",
       "      <th>0</th>\n",
       "      <td>22</td>\n",
       "      <td>0.008281</td>\n",
       "      <td>22_35814215_A_G</td>\n",
       "    </tr>\n",
       "  </tbody>\n",
       "</table>\n",
       "</div>"
      ],
      "text/plain": [
       "  chrom        pv          variant\n",
       "0    22  0.008281  22_35814215_A_G"
      ]
     },
     "execution_count": 315,
     "metadata": {},
     "output_type": "execute_result"
    }
   ],
   "source": [
    "pvals3 = run_interaction(y=y, W=W, E=C1.values[:,0:10], E1=C1.values[:,0:10], E2=C1.values[:,0:10], G=GG, hK=hK_expanded)[0]\n",
    "pv3 = pd.DataFrame({\"chrom\":G_expanded.chrom.values,\n",
    "       \"pv\":pvals3,\n",
    "       \"variant\":G_expanded.snp.values})\n",
    "pv3.head()"
   ]
  },
  {
   "cell_type": "code",
   "execution_count": null,
   "id": "c27b63e4",
   "metadata": {},
   "outputs": [],
   "source": [
    "### ENSG00000100347_SAMM50"
   ]
  },
  {
   "cell_type": "code",
   "execution_count": 304,
   "id": "8d101d98",
   "metadata": {},
   "outputs": [
    {
     "name": "stderr",
     "output_type": "stream",
     "text": [
      "100%|██████████| 1/1 [02:39<00:00, 159.51s/it]\n"
     ]
    },
    {
     "data": {
      "text/html": [
       "<div>\n",
       "<style scoped>\n",
       "    .dataframe tbody tr th:only-of-type {\n",
       "        vertical-align: middle;\n",
       "    }\n",
       "\n",
       "    .dataframe tbody tr th {\n",
       "        vertical-align: top;\n",
       "    }\n",
       "\n",
       "    .dataframe thead th {\n",
       "        text-align: right;\n",
       "    }\n",
       "</style>\n",
       "<table border=\"1\" class=\"dataframe\">\n",
       "  <thead>\n",
       "    <tr style=\"text-align: right;\">\n",
       "      <th></th>\n",
       "      <th>chrom</th>\n",
       "      <th>pv</th>\n",
       "      <th>variant</th>\n",
       "    </tr>\n",
       "  </thead>\n",
       "  <tbody>\n",
       "    <tr>\n",
       "      <th>0</th>\n",
       "      <td>22</td>\n",
       "      <td>0.038905</td>\n",
       "      <td>22_44325748_A_G</td>\n",
       "    </tr>\n",
       "  </tbody>\n",
       "</table>\n",
       "</div>"
      ],
      "text/plain": [
       "  chrom        pv          variant\n",
       "0    22  0.038905  22_44325748_A_G"
      ]
     },
     "execution_count": 304,
     "metadata": {},
     "output_type": "execute_result"
    }
   ],
   "source": [
    "pvals1 = run_interaction(y=y, W=W, E=C1_gauss.values[:,0:10], E1=C1_gauss.values[:,0:10], E2=C1.values[:,0:20], G=GG, hK=hK_expanded)[0]\n",
    "pv1 = pd.DataFrame({\"chrom\":G_expanded.chrom.values,\n",
    "       \"pv\":pvals1,\n",
    "       \"variant\":G_expanded.snp.values})\n",
    "pv1.head()"
   ]
  },
  {
   "cell_type": "code",
   "execution_count": 305,
   "id": "d128a018",
   "metadata": {},
   "outputs": [
    {
     "name": "stderr",
     "output_type": "stream",
     "text": [
      "100%|██████████| 1/1 [04:55<00:00, 295.89s/it]\n"
     ]
    },
    {
     "data": {
      "text/html": [
       "<div>\n",
       "<style scoped>\n",
       "    .dataframe tbody tr th:only-of-type {\n",
       "        vertical-align: middle;\n",
       "    }\n",
       "\n",
       "    .dataframe tbody tr th {\n",
       "        vertical-align: top;\n",
       "    }\n",
       "\n",
       "    .dataframe thead th {\n",
       "        text-align: right;\n",
       "    }\n",
       "</style>\n",
       "<table border=\"1\" class=\"dataframe\">\n",
       "  <thead>\n",
       "    <tr style=\"text-align: right;\">\n",
       "      <th></th>\n",
       "      <th>chrom</th>\n",
       "      <th>pv</th>\n",
       "      <th>variant</th>\n",
       "    </tr>\n",
       "  </thead>\n",
       "  <tbody>\n",
       "    <tr>\n",
       "      <th>0</th>\n",
       "      <td>22</td>\n",
       "      <td>0.769611</td>\n",
       "      <td>22_44325748_A_G</td>\n",
       "    </tr>\n",
       "  </tbody>\n",
       "</table>\n",
       "</div>"
      ],
      "text/plain": [
       "  chrom        pv          variant\n",
       "0    22  0.769611  22_44325748_A_G"
      ]
     },
     "execution_count": 305,
     "metadata": {},
     "output_type": "execute_result"
    }
   ],
   "source": [
    "pvals2 = run_interaction(y=y, W=W, E=C2_gauss.values[:,0:10], E1=C2_gauss.values[:,0:10], E2=C2.values[:,0:20], G=GG, hK=hK_expanded)[0]\n",
    "pv2 = pd.DataFrame({\"chrom\":G_expanded.chrom.values,\n",
    "       \"pv\":pvals2,\n",
    "       \"variant\":G_expanded.snp.values})\n",
    "pv2.head()"
   ]
  },
  {
   "cell_type": "code",
   "execution_count": 306,
   "id": "bed8c0a2",
   "metadata": {},
   "outputs": [
    {
     "name": "stderr",
     "output_type": "stream",
     "text": [
      "100%|██████████| 1/1 [02:33<00:00, 153.53s/it]\n"
     ]
    },
    {
     "data": {
      "text/html": [
       "<div>\n",
       "<style scoped>\n",
       "    .dataframe tbody tr th:only-of-type {\n",
       "        vertical-align: middle;\n",
       "    }\n",
       "\n",
       "    .dataframe tbody tr th {\n",
       "        vertical-align: top;\n",
       "    }\n",
       "\n",
       "    .dataframe thead th {\n",
       "        text-align: right;\n",
       "    }\n",
       "</style>\n",
       "<table border=\"1\" class=\"dataframe\">\n",
       "  <thead>\n",
       "    <tr style=\"text-align: right;\">\n",
       "      <th></th>\n",
       "      <th>chrom</th>\n",
       "      <th>pv</th>\n",
       "      <th>variant</th>\n",
       "    </tr>\n",
       "  </thead>\n",
       "  <tbody>\n",
       "    <tr>\n",
       "      <th>0</th>\n",
       "      <td>22</td>\n",
       "      <td>0.048619</td>\n",
       "      <td>22_44325748_A_G</td>\n",
       "    </tr>\n",
       "  </tbody>\n",
       "</table>\n",
       "</div>"
      ],
      "text/plain": [
       "  chrom        pv          variant\n",
       "0    22  0.048619  22_44325748_A_G"
      ]
     },
     "execution_count": 306,
     "metadata": {},
     "output_type": "execute_result"
    }
   ],
   "source": [
    "pvals3 = run_interaction(y=y, W=W, E=C1.values[:,0:10], E1=C1.values[:,0:10], E2=C1.values[:,0:10], G=GG, hK=hK_expanded)[0]\n",
    "pv3 = pd.DataFrame({\"chrom\":G_expanded.chrom.values,\n",
    "       \"pv\":pvals3,\n",
    "       \"variant\":G_expanded.snp.values})\n",
    "pv3.head()"
   ]
  },
  {
   "cell_type": "code",
   "execution_count": null,
   "id": "0936bb9e",
   "metadata": {},
   "outputs": [],
   "source": [
    "### ENSG00000244509_APOBEC3C"
   ]
  },
  {
   "cell_type": "code",
   "execution_count": 295,
   "id": "76b0c865",
   "metadata": {},
   "outputs": [
    {
     "name": "stderr",
     "output_type": "stream",
     "text": [
      "100%|██████████| 2/2 [05:00<00:00, 150.14s/it]\n"
     ]
    },
    {
     "data": {
      "text/html": [
       "<div>\n",
       "<style scoped>\n",
       "    .dataframe tbody tr th:only-of-type {\n",
       "        vertical-align: middle;\n",
       "    }\n",
       "\n",
       "    .dataframe tbody tr th {\n",
       "        vertical-align: top;\n",
       "    }\n",
       "\n",
       "    .dataframe thead th {\n",
       "        text-align: right;\n",
       "    }\n",
       "</style>\n",
       "<table border=\"1\" class=\"dataframe\">\n",
       "  <thead>\n",
       "    <tr style=\"text-align: right;\">\n",
       "      <th></th>\n",
       "      <th>chrom</th>\n",
       "      <th>pv</th>\n",
       "      <th>variant</th>\n",
       "    </tr>\n",
       "  </thead>\n",
       "  <tbody>\n",
       "    <tr>\n",
       "      <th>0</th>\n",
       "      <td>22</td>\n",
       "      <td>0.000331</td>\n",
       "      <td>22_39376961_C_T</td>\n",
       "    </tr>\n",
       "    <tr>\n",
       "      <th>1</th>\n",
       "      <td>22</td>\n",
       "      <td>0.385409</td>\n",
       "      <td>22_39420601_T_C</td>\n",
       "    </tr>\n",
       "  </tbody>\n",
       "</table>\n",
       "</div>"
      ],
      "text/plain": [
       "  chrom        pv          variant\n",
       "0    22  0.000331  22_39376961_C_T\n",
       "1    22  0.385409  22_39420601_T_C"
      ]
     },
     "execution_count": 295,
     "metadata": {},
     "output_type": "execute_result"
    }
   ],
   "source": [
    "pvals1 = run_interaction(y=y, W=W, E=C1_gauss.values[:,0:10], E1=C1_gauss.values[:,0:10], E2=C1.values[:,0:20], G=GG, hK=hK_expanded)[0]\n",
    "pv1 = pd.DataFrame({\"chrom\":G_expanded.chrom.values,\n",
    "       \"pv\":pvals1,\n",
    "       \"variant\":G_expanded.snp.values})\n",
    "pv1.head()"
   ]
  },
  {
   "cell_type": "code",
   "execution_count": 296,
   "id": "eaf6efbf",
   "metadata": {},
   "outputs": [
    {
     "name": "stderr",
     "output_type": "stream",
     "text": [
      "100%|██████████| 2/2 [09:55<00:00, 297.81s/it]\n"
     ]
    },
    {
     "data": {
      "text/html": [
       "<div>\n",
       "<style scoped>\n",
       "    .dataframe tbody tr th:only-of-type {\n",
       "        vertical-align: middle;\n",
       "    }\n",
       "\n",
       "    .dataframe tbody tr th {\n",
       "        vertical-align: top;\n",
       "    }\n",
       "\n",
       "    .dataframe thead th {\n",
       "        text-align: right;\n",
       "    }\n",
       "</style>\n",
       "<table border=\"1\" class=\"dataframe\">\n",
       "  <thead>\n",
       "    <tr style=\"text-align: right;\">\n",
       "      <th></th>\n",
       "      <th>chrom</th>\n",
       "      <th>pv</th>\n",
       "      <th>variant</th>\n",
       "    </tr>\n",
       "  </thead>\n",
       "  <tbody>\n",
       "    <tr>\n",
       "      <th>0</th>\n",
       "      <td>22</td>\n",
       "      <td>0.054433</td>\n",
       "      <td>22_39376961_C_T</td>\n",
       "    </tr>\n",
       "    <tr>\n",
       "      <th>1</th>\n",
       "      <td>22</td>\n",
       "      <td>0.578994</td>\n",
       "      <td>22_39420601_T_C</td>\n",
       "    </tr>\n",
       "  </tbody>\n",
       "</table>\n",
       "</div>"
      ],
      "text/plain": [
       "  chrom        pv          variant\n",
       "0    22  0.054433  22_39376961_C_T\n",
       "1    22  0.578994  22_39420601_T_C"
      ]
     },
     "execution_count": 296,
     "metadata": {},
     "output_type": "execute_result"
    }
   ],
   "source": [
    "pvals2 = run_interaction(y=y, W=W, E=C2_gauss.values[:,0:10], E1=C2_gauss.values[:,0:10], E2=C2.values[:,0:20], G=GG, hK=hK_expanded)[0]\n",
    "pv2 = pd.DataFrame({\"chrom\":G_expanded.chrom.values,\n",
    "       \"pv\":pvals2,\n",
    "       \"variant\":G_expanded.snp.values})\n",
    "pv2.head()"
   ]
  },
  {
   "cell_type": "code",
   "execution_count": 297,
   "id": "bb835a9c",
   "metadata": {},
   "outputs": [
    {
     "name": "stderr",
     "output_type": "stream",
     "text": [
      "100%|██████████| 2/2 [06:25<00:00, 192.91s/it]\n"
     ]
    },
    {
     "data": {
      "text/html": [
       "<div>\n",
       "<style scoped>\n",
       "    .dataframe tbody tr th:only-of-type {\n",
       "        vertical-align: middle;\n",
       "    }\n",
       "\n",
       "    .dataframe tbody tr th {\n",
       "        vertical-align: top;\n",
       "    }\n",
       "\n",
       "    .dataframe thead th {\n",
       "        text-align: right;\n",
       "    }\n",
       "</style>\n",
       "<table border=\"1\" class=\"dataframe\">\n",
       "  <thead>\n",
       "    <tr style=\"text-align: right;\">\n",
       "      <th></th>\n",
       "      <th>chrom</th>\n",
       "      <th>pv</th>\n",
       "      <th>variant</th>\n",
       "    </tr>\n",
       "  </thead>\n",
       "  <tbody>\n",
       "    <tr>\n",
       "      <th>0</th>\n",
       "      <td>22</td>\n",
       "      <td>0.000675</td>\n",
       "      <td>22_39376961_C_T</td>\n",
       "    </tr>\n",
       "    <tr>\n",
       "      <th>1</th>\n",
       "      <td>22</td>\n",
       "      <td>0.817515</td>\n",
       "      <td>22_39420601_T_C</td>\n",
       "    </tr>\n",
       "  </tbody>\n",
       "</table>\n",
       "</div>"
      ],
      "text/plain": [
       "  chrom        pv          variant\n",
       "0    22  0.000675  22_39376961_C_T\n",
       "1    22  0.817515  22_39420601_T_C"
      ]
     },
     "execution_count": 297,
     "metadata": {},
     "output_type": "execute_result"
    }
   ],
   "source": [
    "pvals3 = run_interaction(y=y, W=W, E=C1.values[:,0:10], E1=C1.values[:,0:10], E2=C1.values[:,0:10], G=GG, hK=hK_expanded)[0]\n",
    "pv3 = pd.DataFrame({\"chrom\":G_expanded.chrom.values,\n",
    "       \"pv\":pvals3,\n",
    "       \"variant\":G_expanded.snp.values})\n",
    "pv3.head()"
   ]
  },
  {
   "cell_type": "code",
   "execution_count": null,
   "id": "83ae1dc5",
   "metadata": {},
   "outputs": [],
   "source": [
    "### ENSG00000169314_C22orf15"
   ]
  },
  {
   "cell_type": "code",
   "execution_count": 286,
   "id": "73c7fe63",
   "metadata": {},
   "outputs": [
    {
     "name": "stderr",
     "output_type": "stream",
     "text": [
      "100%|██████████| 1/1 [02:53<00:00, 173.62s/it]\n"
     ]
    },
    {
     "data": {
      "text/html": [
       "<div>\n",
       "<style scoped>\n",
       "    .dataframe tbody tr th:only-of-type {\n",
       "        vertical-align: middle;\n",
       "    }\n",
       "\n",
       "    .dataframe tbody tr th {\n",
       "        vertical-align: top;\n",
       "    }\n",
       "\n",
       "    .dataframe thead th {\n",
       "        text-align: right;\n",
       "    }\n",
       "</style>\n",
       "<table border=\"1\" class=\"dataframe\">\n",
       "  <thead>\n",
       "    <tr style=\"text-align: right;\">\n",
       "      <th></th>\n",
       "      <th>chrom</th>\n",
       "      <th>pv</th>\n",
       "      <th>variant</th>\n",
       "    </tr>\n",
       "  </thead>\n",
       "  <tbody>\n",
       "    <tr>\n",
       "      <th>0</th>\n",
       "      <td>22</td>\n",
       "      <td>0.281954</td>\n",
       "      <td>22_24105789_G_A</td>\n",
       "    </tr>\n",
       "  </tbody>\n",
       "</table>\n",
       "</div>"
      ],
      "text/plain": [
       "  chrom        pv          variant\n",
       "0    22  0.281954  22_24105789_G_A"
      ]
     },
     "execution_count": 286,
     "metadata": {},
     "output_type": "execute_result"
    }
   ],
   "source": [
    "pvals1 = run_interaction(y=y, W=W, E=C1_gauss.values[:,0:10], E1=C1_gauss.values[:,0:10], E2=C1.values[:,0:20], G=GG, hK=hK_expanded)[0]\n",
    "pv1 = pd.DataFrame({\"chrom\":G_expanded.chrom.values,\n",
    "       \"pv\":pvals1,\n",
    "       \"variant\":G_expanded.snp.values})\n",
    "pv1.head()"
   ]
  },
  {
   "cell_type": "code",
   "execution_count": 287,
   "id": "53ea148e",
   "metadata": {},
   "outputs": [
    {
     "name": "stderr",
     "output_type": "stream",
     "text": [
      "100%|██████████| 1/1 [05:22<00:00, 322.93s/it]\n"
     ]
    },
    {
     "data": {
      "text/html": [
       "<div>\n",
       "<style scoped>\n",
       "    .dataframe tbody tr th:only-of-type {\n",
       "        vertical-align: middle;\n",
       "    }\n",
       "\n",
       "    .dataframe tbody tr th {\n",
       "        vertical-align: top;\n",
       "    }\n",
       "\n",
       "    .dataframe thead th {\n",
       "        text-align: right;\n",
       "    }\n",
       "</style>\n",
       "<table border=\"1\" class=\"dataframe\">\n",
       "  <thead>\n",
       "    <tr style=\"text-align: right;\">\n",
       "      <th></th>\n",
       "      <th>chrom</th>\n",
       "      <th>pv</th>\n",
       "      <th>variant</th>\n",
       "    </tr>\n",
       "  </thead>\n",
       "  <tbody>\n",
       "    <tr>\n",
       "      <th>0</th>\n",
       "      <td>22</td>\n",
       "      <td>0.044061</td>\n",
       "      <td>22_24105789_G_A</td>\n",
       "    </tr>\n",
       "  </tbody>\n",
       "</table>\n",
       "</div>"
      ],
      "text/plain": [
       "  chrom        pv          variant\n",
       "0    22  0.044061  22_24105789_G_A"
      ]
     },
     "execution_count": 287,
     "metadata": {},
     "output_type": "execute_result"
    }
   ],
   "source": [
    "pvals2 = run_interaction(y=y, W=W, E=C2_gauss.values[:,0:10], E1=C2_gauss.values[:,0:10], E2=C2.values[:,0:20], G=GG, hK=hK_expanded)[0]\n",
    "pv2 = pd.DataFrame({\"chrom\":G_expanded.chrom.values,\n",
    "       \"pv\":pvals2,\n",
    "       \"variant\":G_expanded.snp.values})\n",
    "pv2.head()"
   ]
  },
  {
   "cell_type": "code",
   "execution_count": 288,
   "id": "590ddea0",
   "metadata": {},
   "outputs": [
    {
     "name": "stderr",
     "output_type": "stream",
     "text": [
      "100%|██████████| 1/1 [02:39<00:00, 159.28s/it]\n"
     ]
    },
    {
     "data": {
      "text/html": [
       "<div>\n",
       "<style scoped>\n",
       "    .dataframe tbody tr th:only-of-type {\n",
       "        vertical-align: middle;\n",
       "    }\n",
       "\n",
       "    .dataframe tbody tr th {\n",
       "        vertical-align: top;\n",
       "    }\n",
       "\n",
       "    .dataframe thead th {\n",
       "        text-align: right;\n",
       "    }\n",
       "</style>\n",
       "<table border=\"1\" class=\"dataframe\">\n",
       "  <thead>\n",
       "    <tr style=\"text-align: right;\">\n",
       "      <th></th>\n",
       "      <th>chrom</th>\n",
       "      <th>pv</th>\n",
       "      <th>variant</th>\n",
       "    </tr>\n",
       "  </thead>\n",
       "  <tbody>\n",
       "    <tr>\n",
       "      <th>0</th>\n",
       "      <td>22</td>\n",
       "      <td>0.108279</td>\n",
       "      <td>22_24105789_G_A</td>\n",
       "    </tr>\n",
       "  </tbody>\n",
       "</table>\n",
       "</div>"
      ],
      "text/plain": [
       "  chrom        pv          variant\n",
       "0    22  0.108279  22_24105789_G_A"
      ]
     },
     "execution_count": 288,
     "metadata": {},
     "output_type": "execute_result"
    }
   ],
   "source": [
    "pvals3 = run_interaction(y=y, W=W, E=C1.values[:,0:10], E1=C1.values[:,0:10], E2=C1.values[:,0:10], G=GG, hK=hK_expanded)[0]\n",
    "pv3 = pd.DataFrame({\"chrom\":G_expanded.chrom.values,\n",
    "       \"pv\":pvals3,\n",
    "       \"variant\":G_expanded.snp.values})\n",
    "pv3.head()"
   ]
  },
  {
   "cell_type": "code",
   "execution_count": null,
   "id": "77e64132",
   "metadata": {},
   "outputs": [],
   "source": [
    "### ENSG00000100243_CYB5R3"
   ]
  },
  {
   "cell_type": "code",
   "execution_count": 277,
   "id": "d957ef1e",
   "metadata": {},
   "outputs": [
    {
     "name": "stderr",
     "output_type": "stream",
     "text": [
      "100%|██████████| 2/2 [04:55<00:00, 147.61s/it]\n"
     ]
    },
    {
     "data": {
      "text/html": [
       "<div>\n",
       "<style scoped>\n",
       "    .dataframe tbody tr th:only-of-type {\n",
       "        vertical-align: middle;\n",
       "    }\n",
       "\n",
       "    .dataframe tbody tr th {\n",
       "        vertical-align: top;\n",
       "    }\n",
       "\n",
       "    .dataframe thead th {\n",
       "        text-align: right;\n",
       "    }\n",
       "</style>\n",
       "<table border=\"1\" class=\"dataframe\">\n",
       "  <thead>\n",
       "    <tr style=\"text-align: right;\">\n",
       "      <th></th>\n",
       "      <th>chrom</th>\n",
       "      <th>pv</th>\n",
       "      <th>variant</th>\n",
       "    </tr>\n",
       "  </thead>\n",
       "  <tbody>\n",
       "    <tr>\n",
       "      <th>0</th>\n",
       "      <td>22</td>\n",
       "      <td>0.635569</td>\n",
       "      <td>22_42941418_A_G</td>\n",
       "    </tr>\n",
       "    <tr>\n",
       "      <th>1</th>\n",
       "      <td>22</td>\n",
       "      <td>0.230927</td>\n",
       "      <td>22_43067139_A_C</td>\n",
       "    </tr>\n",
       "  </tbody>\n",
       "</table>\n",
       "</div>"
      ],
      "text/plain": [
       "  chrom        pv          variant\n",
       "0    22  0.635569  22_42941418_A_G\n",
       "1    22  0.230927  22_43067139_A_C"
      ]
     },
     "execution_count": 277,
     "metadata": {},
     "output_type": "execute_result"
    }
   ],
   "source": [
    "pvals1 = run_interaction(y=y, W=W, E=C1_gauss.values[:,0:10], E1=C1_gauss.values[:,0:10], E2=C1.values[:,0:20], G=GG, hK=hK_expanded)[0]\n",
    "pv1 = pd.DataFrame({\"chrom\":G_expanded.chrom.values,\n",
    "       \"pv\":pvals1,\n",
    "       \"variant\":G_expanded.snp.values})\n",
    "pv1.head()"
   ]
  },
  {
   "cell_type": "code",
   "execution_count": 278,
   "id": "e278b34c",
   "metadata": {},
   "outputs": [
    {
     "name": "stderr",
     "output_type": "stream",
     "text": [
      "100%|██████████| 2/2 [09:47<00:00, 293.56s/it]\n"
     ]
    },
    {
     "data": {
      "text/html": [
       "<div>\n",
       "<style scoped>\n",
       "    .dataframe tbody tr th:only-of-type {\n",
       "        vertical-align: middle;\n",
       "    }\n",
       "\n",
       "    .dataframe tbody tr th {\n",
       "        vertical-align: top;\n",
       "    }\n",
       "\n",
       "    .dataframe thead th {\n",
       "        text-align: right;\n",
       "    }\n",
       "</style>\n",
       "<table border=\"1\" class=\"dataframe\">\n",
       "  <thead>\n",
       "    <tr style=\"text-align: right;\">\n",
       "      <th></th>\n",
       "      <th>chrom</th>\n",
       "      <th>pv</th>\n",
       "      <th>variant</th>\n",
       "    </tr>\n",
       "  </thead>\n",
       "  <tbody>\n",
       "    <tr>\n",
       "      <th>0</th>\n",
       "      <td>22</td>\n",
       "      <td>0.355933</td>\n",
       "      <td>22_42941418_A_G</td>\n",
       "    </tr>\n",
       "    <tr>\n",
       "      <th>1</th>\n",
       "      <td>22</td>\n",
       "      <td>0.003093</td>\n",
       "      <td>22_43067139_A_C</td>\n",
       "    </tr>\n",
       "  </tbody>\n",
       "</table>\n",
       "</div>"
      ],
      "text/plain": [
       "  chrom        pv          variant\n",
       "0    22  0.355933  22_42941418_A_G\n",
       "1    22  0.003093  22_43067139_A_C"
      ]
     },
     "execution_count": 278,
     "metadata": {},
     "output_type": "execute_result"
    }
   ],
   "source": [
    "pvals2 = run_interaction(y=y, W=W, E=C2_gauss.values[:,0:10], E1=C2_gauss.values[:,0:10], E2=C2.values[:,0:20], G=GG, hK=hK_expanded)[0]\n",
    "pv2 = pd.DataFrame({\"chrom\":G_expanded.chrom.values,\n",
    "       \"pv\":pvals2,\n",
    "       \"variant\":G_expanded.snp.values})\n",
    "pv2.head()"
   ]
  },
  {
   "cell_type": "code",
   "execution_count": 279,
   "id": "d85cc03b",
   "metadata": {},
   "outputs": [
    {
     "name": "stderr",
     "output_type": "stream",
     "text": [
      "100%|██████████| 2/2 [05:12<00:00, 156.20s/it]\n"
     ]
    },
    {
     "data": {
      "text/html": [
       "<div>\n",
       "<style scoped>\n",
       "    .dataframe tbody tr th:only-of-type {\n",
       "        vertical-align: middle;\n",
       "    }\n",
       "\n",
       "    .dataframe tbody tr th {\n",
       "        vertical-align: top;\n",
       "    }\n",
       "\n",
       "    .dataframe thead th {\n",
       "        text-align: right;\n",
       "    }\n",
       "</style>\n",
       "<table border=\"1\" class=\"dataframe\">\n",
       "  <thead>\n",
       "    <tr style=\"text-align: right;\">\n",
       "      <th></th>\n",
       "      <th>chrom</th>\n",
       "      <th>pv</th>\n",
       "      <th>variant</th>\n",
       "    </tr>\n",
       "  </thead>\n",
       "  <tbody>\n",
       "    <tr>\n",
       "      <th>0</th>\n",
       "      <td>22</td>\n",
       "      <td>0.638391</td>\n",
       "      <td>22_42941418_A_G</td>\n",
       "    </tr>\n",
       "    <tr>\n",
       "      <th>1</th>\n",
       "      <td>22</td>\n",
       "      <td>0.078361</td>\n",
       "      <td>22_43067139_A_C</td>\n",
       "    </tr>\n",
       "  </tbody>\n",
       "</table>\n",
       "</div>"
      ],
      "text/plain": [
       "  chrom        pv          variant\n",
       "0    22  0.638391  22_42941418_A_G\n",
       "1    22  0.078361  22_43067139_A_C"
      ]
     },
     "execution_count": 279,
     "metadata": {},
     "output_type": "execute_result"
    }
   ],
   "source": [
    "pvals3 = run_interaction(y=y, W=W, E=C1.values[:,0:10], E1=C1.values[:,0:10], E2=C1.values[:,0:10], G=GG, hK=hK_expanded)[0]\n",
    "pv3 = pd.DataFrame({\"chrom\":G_expanded.chrom.values,\n",
    "       \"pv\":pvals3,\n",
    "       \"variant\":G_expanded.snp.values})\n",
    "pv3.head()"
   ]
  },
  {
   "cell_type": "code",
   "execution_count": null,
   "id": "8b79c876",
   "metadata": {},
   "outputs": [],
   "source": [
    "### ENSG00000185651_UBE2L3"
   ]
  },
  {
   "cell_type": "code",
   "execution_count": 268,
   "id": "39fb3ef3",
   "metadata": {},
   "outputs": [
    {
     "name": "stderr",
     "output_type": "stream",
     "text": [
      "100%|██████████| 1/1 [02:36<00:00, 156.97s/it]\n"
     ]
    },
    {
     "data": {
      "text/html": [
       "<div>\n",
       "<style scoped>\n",
       "    .dataframe tbody tr th:only-of-type {\n",
       "        vertical-align: middle;\n",
       "    }\n",
       "\n",
       "    .dataframe tbody tr th {\n",
       "        vertical-align: top;\n",
       "    }\n",
       "\n",
       "    .dataframe thead th {\n",
       "        text-align: right;\n",
       "    }\n",
       "</style>\n",
       "<table border=\"1\" class=\"dataframe\">\n",
       "  <thead>\n",
       "    <tr style=\"text-align: right;\">\n",
       "      <th></th>\n",
       "      <th>chrom</th>\n",
       "      <th>pv</th>\n",
       "      <th>variant</th>\n",
       "    </tr>\n",
       "  </thead>\n",
       "  <tbody>\n",
       "    <tr>\n",
       "      <th>0</th>\n",
       "      <td>22</td>\n",
       "      <td>0.957537</td>\n",
       "      <td>22_22077719_C_T</td>\n",
       "    </tr>\n",
       "  </tbody>\n",
       "</table>\n",
       "</div>"
      ],
      "text/plain": [
       "  chrom        pv          variant\n",
       "0    22  0.957537  22_22077719_C_T"
      ]
     },
     "execution_count": 268,
     "metadata": {},
     "output_type": "execute_result"
    }
   ],
   "source": [
    "pvals1 = run_interaction(y=y, W=W, E=C1_gauss.values[:,0:10], E1=C1_gauss.values[:,0:10], E2=C1.values[:,0:20], G=GG, hK=hK_expanded)[0]\n",
    "pv1 = pd.DataFrame({\"chrom\":G_expanded.chrom.values,\n",
    "       \"pv\":pvals1,\n",
    "       \"variant\":G_expanded.snp.values})\n",
    "pv1.head()"
   ]
  },
  {
   "cell_type": "code",
   "execution_count": 269,
   "id": "b8d05543",
   "metadata": {},
   "outputs": [
    {
     "name": "stderr",
     "output_type": "stream",
     "text": [
      "100%|██████████| 1/1 [04:25<00:00, 265.78s/it]\n"
     ]
    },
    {
     "data": {
      "text/html": [
       "<div>\n",
       "<style scoped>\n",
       "    .dataframe tbody tr th:only-of-type {\n",
       "        vertical-align: middle;\n",
       "    }\n",
       "\n",
       "    .dataframe tbody tr th {\n",
       "        vertical-align: top;\n",
       "    }\n",
       "\n",
       "    .dataframe thead th {\n",
       "        text-align: right;\n",
       "    }\n",
       "</style>\n",
       "<table border=\"1\" class=\"dataframe\">\n",
       "  <thead>\n",
       "    <tr style=\"text-align: right;\">\n",
       "      <th></th>\n",
       "      <th>chrom</th>\n",
       "      <th>pv</th>\n",
       "      <th>variant</th>\n",
       "    </tr>\n",
       "  </thead>\n",
       "  <tbody>\n",
       "    <tr>\n",
       "      <th>0</th>\n",
       "      <td>22</td>\n",
       "      <td>0.991218</td>\n",
       "      <td>22_22077719_C_T</td>\n",
       "    </tr>\n",
       "  </tbody>\n",
       "</table>\n",
       "</div>"
      ],
      "text/plain": [
       "  chrom        pv          variant\n",
       "0    22  0.991218  22_22077719_C_T"
      ]
     },
     "execution_count": 269,
     "metadata": {},
     "output_type": "execute_result"
    }
   ],
   "source": [
    "pvals2 = run_interaction(y=y, W=W, E=C2_gauss.values[:,0:10], E1=C2_gauss.values[:,0:10], E2=C2.values[:,0:20], G=GG, hK=hK_expanded)[0]\n",
    "pv2 = pd.DataFrame({\"chrom\":G_expanded.chrom.values,\n",
    "       \"pv\":pvals2,\n",
    "       \"variant\":G_expanded.snp.values})\n",
    "pv2.head()"
   ]
  },
  {
   "cell_type": "code",
   "execution_count": 270,
   "id": "d8dade4e",
   "metadata": {},
   "outputs": [
    {
     "name": "stderr",
     "output_type": "stream",
     "text": [
      "100%|██████████| 1/1 [02:37<00:00, 157.81s/it]\n"
     ]
    },
    {
     "data": {
      "text/html": [
       "<div>\n",
       "<style scoped>\n",
       "    .dataframe tbody tr th:only-of-type {\n",
       "        vertical-align: middle;\n",
       "    }\n",
       "\n",
       "    .dataframe tbody tr th {\n",
       "        vertical-align: top;\n",
       "    }\n",
       "\n",
       "    .dataframe thead th {\n",
       "        text-align: right;\n",
       "    }\n",
       "</style>\n",
       "<table border=\"1\" class=\"dataframe\">\n",
       "  <thead>\n",
       "    <tr style=\"text-align: right;\">\n",
       "      <th></th>\n",
       "      <th>chrom</th>\n",
       "      <th>pv</th>\n",
       "      <th>variant</th>\n",
       "    </tr>\n",
       "  </thead>\n",
       "  <tbody>\n",
       "    <tr>\n",
       "      <th>0</th>\n",
       "      <td>22</td>\n",
       "      <td>0.898263</td>\n",
       "      <td>22_22077719_C_T</td>\n",
       "    </tr>\n",
       "  </tbody>\n",
       "</table>\n",
       "</div>"
      ],
      "text/plain": [
       "  chrom        pv          variant\n",
       "0    22  0.898263  22_22077719_C_T"
      ]
     },
     "execution_count": 270,
     "metadata": {},
     "output_type": "execute_result"
    }
   ],
   "source": [
    "pvals3 = run_interaction(y=y, W=W, E=C1.values[:,0:10], E1=C1.values[:,0:10], E2=C1.values[:,0:10], G=GG, hK=hK_expanded)[0]\n",
    "pv3 = pd.DataFrame({\"chrom\":G_expanded.chrom.values,\n",
    "       \"pv\":pvals3,\n",
    "       \"variant\":G_expanded.snp.values})\n",
    "pv3.head()"
   ]
  },
  {
   "cell_type": "code",
   "execution_count": null,
   "id": "fb390d86",
   "metadata": {},
   "outputs": [],
   "source": [
    "### ENSG00000184983_NDUFA6"
   ]
  },
  {
   "cell_type": "code",
   "execution_count": 259,
   "id": "c65d378d",
   "metadata": {},
   "outputs": [
    {
     "name": "stderr",
     "output_type": "stream",
     "text": [
      "100%|██████████| 1/1 [02:17<00:00, 137.93s/it]\n"
     ]
    },
    {
     "data": {
      "text/html": [
       "<div>\n",
       "<style scoped>\n",
       "    .dataframe tbody tr th:only-of-type {\n",
       "        vertical-align: middle;\n",
       "    }\n",
       "\n",
       "    .dataframe tbody tr th {\n",
       "        vertical-align: top;\n",
       "    }\n",
       "\n",
       "    .dataframe thead th {\n",
       "        text-align: right;\n",
       "    }\n",
       "</style>\n",
       "<table border=\"1\" class=\"dataframe\">\n",
       "  <thead>\n",
       "    <tr style=\"text-align: right;\">\n",
       "      <th></th>\n",
       "      <th>chrom</th>\n",
       "      <th>pv</th>\n",
       "      <th>variant</th>\n",
       "    </tr>\n",
       "  </thead>\n",
       "  <tbody>\n",
       "    <tr>\n",
       "      <th>0</th>\n",
       "      <td>22</td>\n",
       "      <td>0.231502</td>\n",
       "      <td>22_42453850_T_C</td>\n",
       "    </tr>\n",
       "  </tbody>\n",
       "</table>\n",
       "</div>"
      ],
      "text/plain": [
       "  chrom        pv          variant\n",
       "0    22  0.231502  22_42453850_T_C"
      ]
     },
     "execution_count": 259,
     "metadata": {},
     "output_type": "execute_result"
    }
   ],
   "source": [
    "pvals1 = run_interaction(y=y, W=W, E=C1_gauss.values[:,0:10], E1=C1_gauss.values[:,0:10], E2=C1.values[:,0:20], G=GG, hK=hK_expanded)[0]\n",
    "pv1 = pd.DataFrame({\"chrom\":G_expanded.chrom.values,\n",
    "       \"pv\":pvals1,\n",
    "       \"variant\":G_expanded.snp.values})\n",
    "pv1.head()"
   ]
  },
  {
   "cell_type": "code",
   "execution_count": 260,
   "id": "95a34dde",
   "metadata": {},
   "outputs": [
    {
     "name": "stderr",
     "output_type": "stream",
     "text": [
      "100%|██████████| 1/1 [05:14<00:00, 314.14s/it]\n"
     ]
    },
    {
     "data": {
      "text/html": [
       "<div>\n",
       "<style scoped>\n",
       "    .dataframe tbody tr th:only-of-type {\n",
       "        vertical-align: middle;\n",
       "    }\n",
       "\n",
       "    .dataframe tbody tr th {\n",
       "        vertical-align: top;\n",
       "    }\n",
       "\n",
       "    .dataframe thead th {\n",
       "        text-align: right;\n",
       "    }\n",
       "</style>\n",
       "<table border=\"1\" class=\"dataframe\">\n",
       "  <thead>\n",
       "    <tr style=\"text-align: right;\">\n",
       "      <th></th>\n",
       "      <th>chrom</th>\n",
       "      <th>pv</th>\n",
       "      <th>variant</th>\n",
       "    </tr>\n",
       "  </thead>\n",
       "  <tbody>\n",
       "    <tr>\n",
       "      <th>0</th>\n",
       "      <td>22</td>\n",
       "      <td>0.809697</td>\n",
       "      <td>22_42453850_T_C</td>\n",
       "    </tr>\n",
       "  </tbody>\n",
       "</table>\n",
       "</div>"
      ],
      "text/plain": [
       "  chrom        pv          variant\n",
       "0    22  0.809697  22_42453850_T_C"
      ]
     },
     "execution_count": 260,
     "metadata": {},
     "output_type": "execute_result"
    }
   ],
   "source": [
    "pvals2 = run_interaction(y=y, W=W, E=C2_gauss.values[:,0:10], E1=C2_gauss.values[:,0:10], E2=C2.values[:,0:20], G=GG, hK=hK_expanded)[0]\n",
    "pv2 = pd.DataFrame({\"chrom\":G_expanded.chrom.values,\n",
    "       \"pv\":pvals2,\n",
    "       \"variant\":G_expanded.snp.values})\n",
    "pv2.head()"
   ]
  },
  {
   "cell_type": "code",
   "execution_count": 261,
   "id": "7a841622",
   "metadata": {},
   "outputs": [
    {
     "name": "stderr",
     "output_type": "stream",
     "text": [
      "100%|██████████| 1/1 [02:47<00:00, 167.39s/it]\n"
     ]
    },
    {
     "data": {
      "text/html": [
       "<div>\n",
       "<style scoped>\n",
       "    .dataframe tbody tr th:only-of-type {\n",
       "        vertical-align: middle;\n",
       "    }\n",
       "\n",
       "    .dataframe tbody tr th {\n",
       "        vertical-align: top;\n",
       "    }\n",
       "\n",
       "    .dataframe thead th {\n",
       "        text-align: right;\n",
       "    }\n",
       "</style>\n",
       "<table border=\"1\" class=\"dataframe\">\n",
       "  <thead>\n",
       "    <tr style=\"text-align: right;\">\n",
       "      <th></th>\n",
       "      <th>chrom</th>\n",
       "      <th>pv</th>\n",
       "      <th>variant</th>\n",
       "    </tr>\n",
       "  </thead>\n",
       "  <tbody>\n",
       "    <tr>\n",
       "      <th>0</th>\n",
       "      <td>22</td>\n",
       "      <td>0.704404</td>\n",
       "      <td>22_42453850_T_C</td>\n",
       "    </tr>\n",
       "  </tbody>\n",
       "</table>\n",
       "</div>"
      ],
      "text/plain": [
       "  chrom        pv          variant\n",
       "0    22  0.704404  22_42453850_T_C"
      ]
     },
     "execution_count": 261,
     "metadata": {},
     "output_type": "execute_result"
    }
   ],
   "source": [
    "pvals3 = run_interaction(y=y, W=W, E=C1.values[:,0:10], E1=C1.values[:,0:10], E2=C1.values[:,0:10], G=GG, hK=hK_expanded)[0]\n",
    "pv3 = pd.DataFrame({\"chrom\":G_expanded.chrom.values,\n",
    "       \"pv\":pvals3,\n",
    "       \"variant\":G_expanded.snp.values})\n",
    "pv3.head()"
   ]
  },
  {
   "cell_type": "code",
   "execution_count": null,
   "id": "17fbb034",
   "metadata": {},
   "outputs": [],
   "source": [
    "### ENSG00000185838_GNB1L"
   ]
  },
  {
   "cell_type": "code",
   "execution_count": 250,
   "id": "cc0e92e2",
   "metadata": {},
   "outputs": [
    {
     "name": "stderr",
     "output_type": "stream",
     "text": [
      "100%|██████████| 1/1 [02:34<00:00, 154.22s/it]\n"
     ]
    },
    {
     "data": {
      "text/html": [
       "<div>\n",
       "<style scoped>\n",
       "    .dataframe tbody tr th:only-of-type {\n",
       "        vertical-align: middle;\n",
       "    }\n",
       "\n",
       "    .dataframe tbody tr th {\n",
       "        vertical-align: top;\n",
       "    }\n",
       "\n",
       "    .dataframe thead th {\n",
       "        text-align: right;\n",
       "    }\n",
       "</style>\n",
       "<table border=\"1\" class=\"dataframe\">\n",
       "  <thead>\n",
       "    <tr style=\"text-align: right;\">\n",
       "      <th></th>\n",
       "      <th>chrom</th>\n",
       "      <th>pv</th>\n",
       "      <th>variant</th>\n",
       "    </tr>\n",
       "  </thead>\n",
       "  <tbody>\n",
       "    <tr>\n",
       "      <th>0</th>\n",
       "      <td>22</td>\n",
       "      <td>0.086945</td>\n",
       "      <td>22_19840196_C_G</td>\n",
       "    </tr>\n",
       "  </tbody>\n",
       "</table>\n",
       "</div>"
      ],
      "text/plain": [
       "  chrom        pv          variant\n",
       "0    22  0.086945  22_19840196_C_G"
      ]
     },
     "execution_count": 250,
     "metadata": {},
     "output_type": "execute_result"
    }
   ],
   "source": [
    "pvals1 = run_interaction(y=y, W=W, E=C1_gauss.values[:,0:10], E1=C1_gauss.values[:,0:10], E2=C1.values[:,0:20], G=GG, hK=hK_expanded)[0]\n",
    "pv1 = pd.DataFrame({\"chrom\":G_expanded.chrom.values,\n",
    "       \"pv\":pvals1,\n",
    "       \"variant\":G_expanded.snp.values})\n",
    "pv1.head()"
   ]
  },
  {
   "cell_type": "code",
   "execution_count": 251,
   "id": "f04347bb",
   "metadata": {},
   "outputs": [
    {
     "name": "stderr",
     "output_type": "stream",
     "text": [
      "100%|██████████| 1/1 [06:00<00:00, 360.49s/it]\n"
     ]
    },
    {
     "data": {
      "text/html": [
       "<div>\n",
       "<style scoped>\n",
       "    .dataframe tbody tr th:only-of-type {\n",
       "        vertical-align: middle;\n",
       "    }\n",
       "\n",
       "    .dataframe tbody tr th {\n",
       "        vertical-align: top;\n",
       "    }\n",
       "\n",
       "    .dataframe thead th {\n",
       "        text-align: right;\n",
       "    }\n",
       "</style>\n",
       "<table border=\"1\" class=\"dataframe\">\n",
       "  <thead>\n",
       "    <tr style=\"text-align: right;\">\n",
       "      <th></th>\n",
       "      <th>chrom</th>\n",
       "      <th>pv</th>\n",
       "      <th>variant</th>\n",
       "    </tr>\n",
       "  </thead>\n",
       "  <tbody>\n",
       "    <tr>\n",
       "      <th>0</th>\n",
       "      <td>22</td>\n",
       "      <td>0.084545</td>\n",
       "      <td>22_19840196_C_G</td>\n",
       "    </tr>\n",
       "  </tbody>\n",
       "</table>\n",
       "</div>"
      ],
      "text/plain": [
       "  chrom        pv          variant\n",
       "0    22  0.084545  22_19840196_C_G"
      ]
     },
     "execution_count": 251,
     "metadata": {},
     "output_type": "execute_result"
    }
   ],
   "source": [
    "pvals2 = run_interaction(y=y, W=W, E=C2_gauss.values[:,0:10], E1=C2_gauss.values[:,0:10], E2=C2.values[:,0:20], G=GG, hK=hK_expanded)[0]\n",
    "pv2 = pd.DataFrame({\"chrom\":G_expanded.chrom.values,\n",
    "       \"pv\":pvals2,\n",
    "       \"variant\":G_expanded.snp.values})\n",
    "pv2.head()"
   ]
  },
  {
   "cell_type": "code",
   "execution_count": 252,
   "id": "4d5ca4bb",
   "metadata": {},
   "outputs": [
    {
     "name": "stderr",
     "output_type": "stream",
     "text": [
      "100%|██████████| 1/1 [02:41<00:00, 161.09s/it]\n"
     ]
    },
    {
     "data": {
      "text/html": [
       "<div>\n",
       "<style scoped>\n",
       "    .dataframe tbody tr th:only-of-type {\n",
       "        vertical-align: middle;\n",
       "    }\n",
       "\n",
       "    .dataframe tbody tr th {\n",
       "        vertical-align: top;\n",
       "    }\n",
       "\n",
       "    .dataframe thead th {\n",
       "        text-align: right;\n",
       "    }\n",
       "</style>\n",
       "<table border=\"1\" class=\"dataframe\">\n",
       "  <thead>\n",
       "    <tr style=\"text-align: right;\">\n",
       "      <th></th>\n",
       "      <th>chrom</th>\n",
       "      <th>pv</th>\n",
       "      <th>variant</th>\n",
       "    </tr>\n",
       "  </thead>\n",
       "  <tbody>\n",
       "    <tr>\n",
       "      <th>0</th>\n",
       "      <td>22</td>\n",
       "      <td>0.061481</td>\n",
       "      <td>22_19840196_C_G</td>\n",
       "    </tr>\n",
       "  </tbody>\n",
       "</table>\n",
       "</div>"
      ],
      "text/plain": [
       "  chrom        pv          variant\n",
       "0    22  0.061481  22_19840196_C_G"
      ]
     },
     "execution_count": 252,
     "metadata": {},
     "output_type": "execute_result"
    }
   ],
   "source": [
    "pvals3 = run_interaction(y=y, W=W, E=C1.values[:,0:10], E1=C1.values[:,0:10], E2=C1.values[:,0:10], G=GG, hK=hK_expanded)[0]\n",
    "pv3 = pd.DataFrame({\"chrom\":G_expanded.chrom.values,\n",
    "       \"pv\":pvals3,\n",
    "       \"variant\":G_expanded.snp.values})\n",
    "pv3.head()"
   ]
  },
  {
   "cell_type": "code",
   "execution_count": null,
   "id": "6236e097",
   "metadata": {},
   "outputs": [],
   "source": [
    "### ENSG00000128294_TPST2"
   ]
  },
  {
   "cell_type": "code",
   "execution_count": 241,
   "id": "e55c221e",
   "metadata": {},
   "outputs": [
    {
     "name": "stderr",
     "output_type": "stream",
     "text": [
      "100%|██████████| 2/2 [04:53<00:00, 146.99s/it]\n"
     ]
    },
    {
     "data": {
      "text/html": [
       "<div>\n",
       "<style scoped>\n",
       "    .dataframe tbody tr th:only-of-type {\n",
       "        vertical-align: middle;\n",
       "    }\n",
       "\n",
       "    .dataframe tbody tr th {\n",
       "        vertical-align: top;\n",
       "    }\n",
       "\n",
       "    .dataframe thead th {\n",
       "        text-align: right;\n",
       "    }\n",
       "</style>\n",
       "<table border=\"1\" class=\"dataframe\">\n",
       "  <thead>\n",
       "    <tr style=\"text-align: right;\">\n",
       "      <th></th>\n",
       "      <th>chrom</th>\n",
       "      <th>pv</th>\n",
       "      <th>variant</th>\n",
       "    </tr>\n",
       "  </thead>\n",
       "  <tbody>\n",
       "    <tr>\n",
       "      <th>0</th>\n",
       "      <td>22</td>\n",
       "      <td>0.406865</td>\n",
       "      <td>22_26980582_T_C</td>\n",
       "    </tr>\n",
       "    <tr>\n",
       "      <th>1</th>\n",
       "      <td>22</td>\n",
       "      <td>0.449668</td>\n",
       "      <td>22_27020835_G_A</td>\n",
       "    </tr>\n",
       "  </tbody>\n",
       "</table>\n",
       "</div>"
      ],
      "text/plain": [
       "  chrom        pv          variant\n",
       "0    22  0.406865  22_26980582_T_C\n",
       "1    22  0.449668  22_27020835_G_A"
      ]
     },
     "execution_count": 241,
     "metadata": {},
     "output_type": "execute_result"
    }
   ],
   "source": [
    "pvals1 = run_interaction(y=y, W=W, E=C1_gauss.values[:,0:10], E1=C1_gauss.values[:,0:10], E2=C1.values[:,0:20], G=GG, hK=hK_expanded)[0]\n",
    "pv1 = pd.DataFrame({\"chrom\":G_expanded.chrom.values,\n",
    "       \"pv\":pvals1,\n",
    "       \"variant\":G_expanded.snp.values})\n",
    "pv1.head()"
   ]
  },
  {
   "cell_type": "code",
   "execution_count": 242,
   "id": "9780b4ac",
   "metadata": {},
   "outputs": [
    {
     "name": "stderr",
     "output_type": "stream",
     "text": [
      "100%|██████████| 2/2 [10:27<00:00, 313.76s/it]\n"
     ]
    },
    {
     "data": {
      "text/html": [
       "<div>\n",
       "<style scoped>\n",
       "    .dataframe tbody tr th:only-of-type {\n",
       "        vertical-align: middle;\n",
       "    }\n",
       "\n",
       "    .dataframe tbody tr th {\n",
       "        vertical-align: top;\n",
       "    }\n",
       "\n",
       "    .dataframe thead th {\n",
       "        text-align: right;\n",
       "    }\n",
       "</style>\n",
       "<table border=\"1\" class=\"dataframe\">\n",
       "  <thead>\n",
       "    <tr style=\"text-align: right;\">\n",
       "      <th></th>\n",
       "      <th>chrom</th>\n",
       "      <th>pv</th>\n",
       "      <th>variant</th>\n",
       "    </tr>\n",
       "  </thead>\n",
       "  <tbody>\n",
       "    <tr>\n",
       "      <th>0</th>\n",
       "      <td>22</td>\n",
       "      <td>0.048411</td>\n",
       "      <td>22_26980582_T_C</td>\n",
       "    </tr>\n",
       "    <tr>\n",
       "      <th>1</th>\n",
       "      <td>22</td>\n",
       "      <td>0.216436</td>\n",
       "      <td>22_27020835_G_A</td>\n",
       "    </tr>\n",
       "  </tbody>\n",
       "</table>\n",
       "</div>"
      ],
      "text/plain": [
       "  chrom        pv          variant\n",
       "0    22  0.048411  22_26980582_T_C\n",
       "1    22  0.216436  22_27020835_G_A"
      ]
     },
     "execution_count": 242,
     "metadata": {},
     "output_type": "execute_result"
    }
   ],
   "source": [
    "pvals2 = run_interaction(y=y, W=W, E=C2_gauss.values[:,0:10], E1=C2_gauss.values[:,0:10], E2=C2.values[:,0:20], G=GG, hK=hK_expanded)[0]\n",
    "pv2 = pd.DataFrame({\"chrom\":G_expanded.chrom.values,\n",
    "       \"pv\":pvals2,\n",
    "       \"variant\":G_expanded.snp.values})\n",
    "pv2.head()"
   ]
  },
  {
   "cell_type": "code",
   "execution_count": 243,
   "id": "ec9caead",
   "metadata": {},
   "outputs": [
    {
     "name": "stderr",
     "output_type": "stream",
     "text": [
      "100%|██████████| 2/2 [05:15<00:00, 157.70s/it]\n"
     ]
    },
    {
     "data": {
      "text/html": [
       "<div>\n",
       "<style scoped>\n",
       "    .dataframe tbody tr th:only-of-type {\n",
       "        vertical-align: middle;\n",
       "    }\n",
       "\n",
       "    .dataframe tbody tr th {\n",
       "        vertical-align: top;\n",
       "    }\n",
       "\n",
       "    .dataframe thead th {\n",
       "        text-align: right;\n",
       "    }\n",
       "</style>\n",
       "<table border=\"1\" class=\"dataframe\">\n",
       "  <thead>\n",
       "    <tr style=\"text-align: right;\">\n",
       "      <th></th>\n",
       "      <th>chrom</th>\n",
       "      <th>pv</th>\n",
       "      <th>variant</th>\n",
       "    </tr>\n",
       "  </thead>\n",
       "  <tbody>\n",
       "    <tr>\n",
       "      <th>0</th>\n",
       "      <td>22</td>\n",
       "      <td>0.113757</td>\n",
       "      <td>22_26980582_T_C</td>\n",
       "    </tr>\n",
       "    <tr>\n",
       "      <th>1</th>\n",
       "      <td>22</td>\n",
       "      <td>0.714947</td>\n",
       "      <td>22_27020835_G_A</td>\n",
       "    </tr>\n",
       "  </tbody>\n",
       "</table>\n",
       "</div>"
      ],
      "text/plain": [
       "  chrom        pv          variant\n",
       "0    22  0.113757  22_26980582_T_C\n",
       "1    22  0.714947  22_27020835_G_A"
      ]
     },
     "execution_count": 243,
     "metadata": {},
     "output_type": "execute_result"
    }
   ],
   "source": [
    "pvals3 = run_interaction(y=y, W=W, E=C1.values[:,0:10], E1=C1.values[:,0:10], E2=C1.values[:,0:10], G=GG, hK=hK_expanded)[0]\n",
    "pv3 = pd.DataFrame({\"chrom\":G_expanded.chrom.values,\n",
    "       \"pv\":pvals3,\n",
    "       \"variant\":G_expanded.snp.values})\n",
    "pv3.head()"
   ]
  },
  {
   "cell_type": "code",
   "execution_count": 231,
   "id": "2fd1fb8e",
   "metadata": {},
   "outputs": [],
   "source": [
    "### ENSG00000185339_TCN2"
   ]
  },
  {
   "cell_type": "code",
   "execution_count": 232,
   "id": "38de71b9",
   "metadata": {},
   "outputs": [
    {
     "name": "stderr",
     "output_type": "stream",
     "text": [
      "100%|██████████| 1/1 [02:39<00:00, 159.33s/it]\n"
     ]
    },
    {
     "data": {
      "text/html": [
       "<div>\n",
       "<style scoped>\n",
       "    .dataframe tbody tr th:only-of-type {\n",
       "        vertical-align: middle;\n",
       "    }\n",
       "\n",
       "    .dataframe tbody tr th {\n",
       "        vertical-align: top;\n",
       "    }\n",
       "\n",
       "    .dataframe thead th {\n",
       "        text-align: right;\n",
       "    }\n",
       "</style>\n",
       "<table border=\"1\" class=\"dataframe\">\n",
       "  <thead>\n",
       "    <tr style=\"text-align: right;\">\n",
       "      <th></th>\n",
       "      <th>chrom</th>\n",
       "      <th>pv</th>\n",
       "      <th>variant</th>\n",
       "    </tr>\n",
       "  </thead>\n",
       "  <tbody>\n",
       "    <tr>\n",
       "      <th>0</th>\n",
       "      <td>22</td>\n",
       "      <td>0.000055</td>\n",
       "      <td>22_31020400_T_C</td>\n",
       "    </tr>\n",
       "  </tbody>\n",
       "</table>\n",
       "</div>"
      ],
      "text/plain": [
       "  chrom        pv          variant\n",
       "0    22  0.000055  22_31020400_T_C"
      ]
     },
     "execution_count": 232,
     "metadata": {},
     "output_type": "execute_result"
    }
   ],
   "source": [
    "pvals1 = run_interaction(y=y, W=W, E=C1_gauss.values[:,0:10], E1=C1_gauss.values[:,0:10], E2=C1.values[:,0:20], G=GG, hK=hK_expanded)[0]\n",
    "pv1 = pd.DataFrame({\"chrom\":G_expanded.chrom.values,\n",
    "       \"pv\":pvals1,\n",
    "       \"variant\":G_expanded.snp.values})\n",
    "pv1.head()"
   ]
  },
  {
   "cell_type": "code",
   "execution_count": 233,
   "id": "ca91ce39",
   "metadata": {},
   "outputs": [
    {
     "name": "stderr",
     "output_type": "stream",
     "text": [
      "100%|██████████| 1/1 [04:49<00:00, 289.30s/it]\n"
     ]
    },
    {
     "data": {
      "text/html": [
       "<div>\n",
       "<style scoped>\n",
       "    .dataframe tbody tr th:only-of-type {\n",
       "        vertical-align: middle;\n",
       "    }\n",
       "\n",
       "    .dataframe tbody tr th {\n",
       "        vertical-align: top;\n",
       "    }\n",
       "\n",
       "    .dataframe thead th {\n",
       "        text-align: right;\n",
       "    }\n",
       "</style>\n",
       "<table border=\"1\" class=\"dataframe\">\n",
       "  <thead>\n",
       "    <tr style=\"text-align: right;\">\n",
       "      <th></th>\n",
       "      <th>chrom</th>\n",
       "      <th>pv</th>\n",
       "      <th>variant</th>\n",
       "    </tr>\n",
       "  </thead>\n",
       "  <tbody>\n",
       "    <tr>\n",
       "      <th>0</th>\n",
       "      <td>22</td>\n",
       "      <td>0.024513</td>\n",
       "      <td>22_31020400_T_C</td>\n",
       "    </tr>\n",
       "  </tbody>\n",
       "</table>\n",
       "</div>"
      ],
      "text/plain": [
       "  chrom        pv          variant\n",
       "0    22  0.024513  22_31020400_T_C"
      ]
     },
     "execution_count": 233,
     "metadata": {},
     "output_type": "execute_result"
    }
   ],
   "source": [
    "pvals2 = run_interaction(y=y, W=W, E=C2_gauss.values[:,0:10], E1=C2_gauss.values[:,0:10], E2=C2.values[:,0:20], G=GG, hK=hK_expanded)[0]\n",
    "pv2 = pd.DataFrame({\"chrom\":G_expanded.chrom.values,\n",
    "       \"pv\":pvals2,\n",
    "       \"variant\":G_expanded.snp.values})\n",
    "pv2.head()"
   ]
  },
  {
   "cell_type": "code",
   "execution_count": 234,
   "id": "bc6a9283",
   "metadata": {},
   "outputs": [
    {
     "name": "stderr",
     "output_type": "stream",
     "text": [
      "100%|██████████| 1/1 [02:36<00:00, 156.23s/it]\n"
     ]
    },
    {
     "data": {
      "text/html": [
       "<div>\n",
       "<style scoped>\n",
       "    .dataframe tbody tr th:only-of-type {\n",
       "        vertical-align: middle;\n",
       "    }\n",
       "\n",
       "    .dataframe tbody tr th {\n",
       "        vertical-align: top;\n",
       "    }\n",
       "\n",
       "    .dataframe thead th {\n",
       "        text-align: right;\n",
       "    }\n",
       "</style>\n",
       "<table border=\"1\" class=\"dataframe\">\n",
       "  <thead>\n",
       "    <tr style=\"text-align: right;\">\n",
       "      <th></th>\n",
       "      <th>chrom</th>\n",
       "      <th>pv</th>\n",
       "      <th>variant</th>\n",
       "    </tr>\n",
       "  </thead>\n",
       "  <tbody>\n",
       "    <tr>\n",
       "      <th>0</th>\n",
       "      <td>22</td>\n",
       "      <td>0.000131</td>\n",
       "      <td>22_31020400_T_C</td>\n",
       "    </tr>\n",
       "  </tbody>\n",
       "</table>\n",
       "</div>"
      ],
      "text/plain": [
       "  chrom        pv          variant\n",
       "0    22  0.000131  22_31020400_T_C"
      ]
     },
     "execution_count": 234,
     "metadata": {},
     "output_type": "execute_result"
    }
   ],
   "source": [
    "pvals3 = run_interaction(y=y, W=W, E=C1.values[:,0:10], E1=C1.values[:,0:10], E2=C1.values[:,0:10], G=GG, hK=hK_expanded)[0]\n",
    "pv3 = pd.DataFrame({\"chrom\":G_expanded.chrom.values,\n",
    "       \"pv\":pvals3,\n",
    "       \"variant\":G_expanded.snp.values})\n",
    "pv3.head()"
   ]
  },
  {
   "cell_type": "code",
   "execution_count": null,
   "id": "f6a0ca3f",
   "metadata": {},
   "outputs": [],
   "source": [
    "### ENSG00000100413_POLR3H"
   ]
  },
  {
   "cell_type": "code",
   "execution_count": 222,
   "id": "917105aa",
   "metadata": {},
   "outputs": [
    {
     "name": "stderr",
     "output_type": "stream",
     "text": [
      "100%|██████████| 1/1 [02:39<00:00, 159.39s/it]\n"
     ]
    },
    {
     "data": {
      "text/html": [
       "<div>\n",
       "<style scoped>\n",
       "    .dataframe tbody tr th:only-of-type {\n",
       "        vertical-align: middle;\n",
       "    }\n",
       "\n",
       "    .dataframe tbody tr th {\n",
       "        vertical-align: top;\n",
       "    }\n",
       "\n",
       "    .dataframe thead th {\n",
       "        text-align: right;\n",
       "    }\n",
       "</style>\n",
       "<table border=\"1\" class=\"dataframe\">\n",
       "  <thead>\n",
       "    <tr style=\"text-align: right;\">\n",
       "      <th></th>\n",
       "      <th>chrom</th>\n",
       "      <th>pv</th>\n",
       "      <th>variant</th>\n",
       "    </tr>\n",
       "  </thead>\n",
       "  <tbody>\n",
       "    <tr>\n",
       "      <th>0</th>\n",
       "      <td>22</td>\n",
       "      <td>0.482856</td>\n",
       "      <td>22_41906325_C_T</td>\n",
       "    </tr>\n",
       "  </tbody>\n",
       "</table>\n",
       "</div>"
      ],
      "text/plain": [
       "  chrom        pv          variant\n",
       "0    22  0.482856  22_41906325_C_T"
      ]
     },
     "execution_count": 222,
     "metadata": {},
     "output_type": "execute_result"
    }
   ],
   "source": [
    "pvals1 = run_interaction(y=y, W=W, E=C1_gauss.values[:,0:10], E1=C1_gauss.values[:,0:10], E2=C1.values[:,0:20], G=GG, hK=hK_expanded)[0]\n",
    "pv1 = pd.DataFrame({\"chrom\":G_expanded.chrom.values,\n",
    "       \"pv\":pvals1,\n",
    "       \"variant\":G_expanded.snp.values})\n",
    "pv1.head()"
   ]
  },
  {
   "cell_type": "code",
   "execution_count": 223,
   "id": "705a3c17",
   "metadata": {},
   "outputs": [
    {
     "name": "stderr",
     "output_type": "stream",
     "text": [
      "100%|██████████| 1/1 [04:58<00:00, 298.69s/it]\n"
     ]
    },
    {
     "data": {
      "text/html": [
       "<div>\n",
       "<style scoped>\n",
       "    .dataframe tbody tr th:only-of-type {\n",
       "        vertical-align: middle;\n",
       "    }\n",
       "\n",
       "    .dataframe tbody tr th {\n",
       "        vertical-align: top;\n",
       "    }\n",
       "\n",
       "    .dataframe thead th {\n",
       "        text-align: right;\n",
       "    }\n",
       "</style>\n",
       "<table border=\"1\" class=\"dataframe\">\n",
       "  <thead>\n",
       "    <tr style=\"text-align: right;\">\n",
       "      <th></th>\n",
       "      <th>chrom</th>\n",
       "      <th>pv</th>\n",
       "      <th>variant</th>\n",
       "    </tr>\n",
       "  </thead>\n",
       "  <tbody>\n",
       "    <tr>\n",
       "      <th>0</th>\n",
       "      <td>22</td>\n",
       "      <td>0.526272</td>\n",
       "      <td>22_41906325_C_T</td>\n",
       "    </tr>\n",
       "  </tbody>\n",
       "</table>\n",
       "</div>"
      ],
      "text/plain": [
       "  chrom        pv          variant\n",
       "0    22  0.526272  22_41906325_C_T"
      ]
     },
     "execution_count": 223,
     "metadata": {},
     "output_type": "execute_result"
    }
   ],
   "source": [
    "pvals2 = run_interaction(y=y, W=W, E=C2_gauss.values[:,0:10], E1=C2_gauss.values[:,0:10], E2=C2.values[:,0:20], G=GG, hK=hK_expanded)[0]\n",
    "pv2 = pd.DataFrame({\"chrom\":G_expanded.chrom.values,\n",
    "       \"pv\":pvals2,\n",
    "       \"variant\":G_expanded.snp.values})\n",
    "pv2.head()"
   ]
  },
  {
   "cell_type": "code",
   "execution_count": 224,
   "id": "9c4d9f08",
   "metadata": {},
   "outputs": [
    {
     "name": "stderr",
     "output_type": "stream",
     "text": [
      "100%|██████████| 1/1 [02:41<00:00, 161.18s/it]\n"
     ]
    },
    {
     "data": {
      "text/html": [
       "<div>\n",
       "<style scoped>\n",
       "    .dataframe tbody tr th:only-of-type {\n",
       "        vertical-align: middle;\n",
       "    }\n",
       "\n",
       "    .dataframe tbody tr th {\n",
       "        vertical-align: top;\n",
       "    }\n",
       "\n",
       "    .dataframe thead th {\n",
       "        text-align: right;\n",
       "    }\n",
       "</style>\n",
       "<table border=\"1\" class=\"dataframe\">\n",
       "  <thead>\n",
       "    <tr style=\"text-align: right;\">\n",
       "      <th></th>\n",
       "      <th>chrom</th>\n",
       "      <th>pv</th>\n",
       "      <th>variant</th>\n",
       "    </tr>\n",
       "  </thead>\n",
       "  <tbody>\n",
       "    <tr>\n",
       "      <th>0</th>\n",
       "      <td>22</td>\n",
       "      <td>0.408399</td>\n",
       "      <td>22_41906325_C_T</td>\n",
       "    </tr>\n",
       "  </tbody>\n",
       "</table>\n",
       "</div>"
      ],
      "text/plain": [
       "  chrom        pv          variant\n",
       "0    22  0.408399  22_41906325_C_T"
      ]
     },
     "execution_count": 224,
     "metadata": {},
     "output_type": "execute_result"
    }
   ],
   "source": [
    "pvals3 = run_interaction(y=y, W=W, E=C1.values[:,0:10], E1=C1.values[:,0:10], E2=C1.values[:,0:10], G=GG, hK=hK_expanded)[0]\n",
    "pv3 = pd.DataFrame({\"chrom\":G_expanded.chrom.values,\n",
    "       \"pv\":pvals3,\n",
    "       \"variant\":G_expanded.snp.values})\n",
    "pv3.head()"
   ]
  },
  {
   "cell_type": "code",
   "execution_count": null,
   "id": "c8db5916",
   "metadata": {},
   "outputs": [],
   "source": [
    "### ENSG00000128191_DGCR8"
   ]
  },
  {
   "cell_type": "code",
   "execution_count": 214,
   "id": "e1c87639",
   "metadata": {},
   "outputs": [
    {
     "name": "stderr",
     "output_type": "stream",
     "text": [
      "100%|██████████| 2/2 [05:12<00:00, 156.14s/it]\n"
     ]
    },
    {
     "data": {
      "text/html": [
       "<div>\n",
       "<style scoped>\n",
       "    .dataframe tbody tr th:only-of-type {\n",
       "        vertical-align: middle;\n",
       "    }\n",
       "\n",
       "    .dataframe tbody tr th {\n",
       "        vertical-align: top;\n",
       "    }\n",
       "\n",
       "    .dataframe thead th {\n",
       "        text-align: right;\n",
       "    }\n",
       "</style>\n",
       "<table border=\"1\" class=\"dataframe\">\n",
       "  <thead>\n",
       "    <tr style=\"text-align: right;\">\n",
       "      <th></th>\n",
       "      <th>chrom</th>\n",
       "      <th>pv</th>\n",
       "      <th>variant</th>\n",
       "    </tr>\n",
       "  </thead>\n",
       "  <tbody>\n",
       "    <tr>\n",
       "      <th>0</th>\n",
       "      <td>22</td>\n",
       "      <td>0.312531</td>\n",
       "      <td>22_20062294_C_T</td>\n",
       "    </tr>\n",
       "    <tr>\n",
       "      <th>1</th>\n",
       "      <td>22</td>\n",
       "      <td>0.392848</td>\n",
       "      <td>22_20129742_G_C</td>\n",
       "    </tr>\n",
       "  </tbody>\n",
       "</table>\n",
       "</div>"
      ],
      "text/plain": [
       "  chrom        pv          variant\n",
       "0    22  0.312531  22_20062294_C_T\n",
       "1    22  0.392848  22_20129742_G_C"
      ]
     },
     "execution_count": 214,
     "metadata": {},
     "output_type": "execute_result"
    }
   ],
   "source": [
    "pvals1 = run_interaction(y=y, W=W, E=C1_gauss.values[:,0:10], E1=C1_gauss.values[:,0:10], E2=C1.values[:,0:20], G=GG, hK=hK_expanded)[0]\n",
    "pv1 = pd.DataFrame({\"chrom\":G_expanded.chrom.values,\n",
    "       \"pv\":pvals1,\n",
    "       \"variant\":G_expanded.snp.values})\n",
    "pv1.head()"
   ]
  },
  {
   "cell_type": "code",
   "execution_count": 213,
   "id": "3fbff1e0",
   "metadata": {},
   "outputs": [
    {
     "name": "stderr",
     "output_type": "stream",
     "text": [
      "100%|██████████| 2/2 [10:27<00:00, 313.71s/it]\n"
     ]
    },
    {
     "data": {
      "text/html": [
       "<div>\n",
       "<style scoped>\n",
       "    .dataframe tbody tr th:only-of-type {\n",
       "        vertical-align: middle;\n",
       "    }\n",
       "\n",
       "    .dataframe tbody tr th {\n",
       "        vertical-align: top;\n",
       "    }\n",
       "\n",
       "    .dataframe thead th {\n",
       "        text-align: right;\n",
       "    }\n",
       "</style>\n",
       "<table border=\"1\" class=\"dataframe\">\n",
       "  <thead>\n",
       "    <tr style=\"text-align: right;\">\n",
       "      <th></th>\n",
       "      <th>chrom</th>\n",
       "      <th>pv</th>\n",
       "      <th>variant</th>\n",
       "    </tr>\n",
       "  </thead>\n",
       "  <tbody>\n",
       "    <tr>\n",
       "      <th>0</th>\n",
       "      <td>22</td>\n",
       "      <td>0.469355</td>\n",
       "      <td>22_20062294_C_T</td>\n",
       "    </tr>\n",
       "    <tr>\n",
       "      <th>1</th>\n",
       "      <td>22</td>\n",
       "      <td>0.791156</td>\n",
       "      <td>22_20129742_G_C</td>\n",
       "    </tr>\n",
       "  </tbody>\n",
       "</table>\n",
       "</div>"
      ],
      "text/plain": [
       "  chrom        pv          variant\n",
       "0    22  0.469355  22_20062294_C_T\n",
       "1    22  0.791156  22_20129742_G_C"
      ]
     },
     "execution_count": 213,
     "metadata": {},
     "output_type": "execute_result"
    }
   ],
   "source": [
    "pvals2 = run_interaction(y=y, W=W, E=C2_gauss.values[:,0:10], E1=C2_gauss.values[:,0:10], E2=C2.values[:,0:20], G=GG, hK=hK_expanded)[0]\n",
    "pv2 = pd.DataFrame({\"chrom\":G_expanded.chrom.values,\n",
    "       \"pv\":pvals2,\n",
    "       \"variant\":G_expanded.snp.values})\n",
    "pv2.head()"
   ]
  },
  {
   "cell_type": "code",
   "execution_count": 215,
   "id": "18a228a8",
   "metadata": {},
   "outputs": [
    {
     "name": "stderr",
     "output_type": "stream",
     "text": [
      "100%|██████████| 2/2 [05:14<00:00, 157.10s/it]\n"
     ]
    },
    {
     "data": {
      "text/html": [
       "<div>\n",
       "<style scoped>\n",
       "    .dataframe tbody tr th:only-of-type {\n",
       "        vertical-align: middle;\n",
       "    }\n",
       "\n",
       "    .dataframe tbody tr th {\n",
       "        vertical-align: top;\n",
       "    }\n",
       "\n",
       "    .dataframe thead th {\n",
       "        text-align: right;\n",
       "    }\n",
       "</style>\n",
       "<table border=\"1\" class=\"dataframe\">\n",
       "  <thead>\n",
       "    <tr style=\"text-align: right;\">\n",
       "      <th></th>\n",
       "      <th>chrom</th>\n",
       "      <th>pv</th>\n",
       "      <th>variant</th>\n",
       "    </tr>\n",
       "  </thead>\n",
       "  <tbody>\n",
       "    <tr>\n",
       "      <th>0</th>\n",
       "      <td>22</td>\n",
       "      <td>0.385746</td>\n",
       "      <td>22_20062294_C_T</td>\n",
       "    </tr>\n",
       "    <tr>\n",
       "      <th>1</th>\n",
       "      <td>22</td>\n",
       "      <td>0.531140</td>\n",
       "      <td>22_20129742_G_C</td>\n",
       "    </tr>\n",
       "  </tbody>\n",
       "</table>\n",
       "</div>"
      ],
      "text/plain": [
       "  chrom        pv          variant\n",
       "0    22  0.385746  22_20062294_C_T\n",
       "1    22  0.531140  22_20129742_G_C"
      ]
     },
     "execution_count": 215,
     "metadata": {},
     "output_type": "execute_result"
    }
   ],
   "source": [
    "pvals3 = run_interaction(y=y, W=W, E=C1.values[:,0:10], E1=C1.values[:,0:10], E2=C1.values[:,0:10], G=GG, hK=hK_expanded)[0]\n",
    "pv3 = pd.DataFrame({\"chrom\":G_expanded.chrom.values,\n",
    "       \"pv\":pvals3,\n",
    "       \"variant\":G_expanded.snp.values})\n",
    "pv3.head()"
   ]
  },
  {
   "cell_type": "code",
   "execution_count": 203,
   "id": "e23611a9",
   "metadata": {},
   "outputs": [],
   "source": [
    "### ENSG00000099977_DDT"
   ]
  },
  {
   "cell_type": "code",
   "execution_count": 204,
   "id": "86d28646",
   "metadata": {},
   "outputs": [
    {
     "name": "stderr",
     "output_type": "stream",
     "text": [
      "100%|██████████| 2/2 [05:26<00:00, 163.34s/it]\n"
     ]
    },
    {
     "data": {
      "text/html": [
       "<div>\n",
       "<style scoped>\n",
       "    .dataframe tbody tr th:only-of-type {\n",
       "        vertical-align: middle;\n",
       "    }\n",
       "\n",
       "    .dataframe tbody tr th {\n",
       "        vertical-align: top;\n",
       "    }\n",
       "\n",
       "    .dataframe thead th {\n",
       "        text-align: right;\n",
       "    }\n",
       "</style>\n",
       "<table border=\"1\" class=\"dataframe\">\n",
       "  <thead>\n",
       "    <tr style=\"text-align: right;\">\n",
       "      <th></th>\n",
       "      <th>chrom</th>\n",
       "      <th>pv</th>\n",
       "      <th>variant</th>\n",
       "    </tr>\n",
       "  </thead>\n",
       "  <tbody>\n",
       "    <tr>\n",
       "      <th>0</th>\n",
       "      <td>22</td>\n",
       "      <td>0.593706</td>\n",
       "      <td>22_24221295_T_G</td>\n",
       "    </tr>\n",
       "    <tr>\n",
       "      <th>1</th>\n",
       "      <td>22</td>\n",
       "      <td>0.026581</td>\n",
       "      <td>22_24242973_A_G</td>\n",
       "    </tr>\n",
       "  </tbody>\n",
       "</table>\n",
       "</div>"
      ],
      "text/plain": [
       "  chrom        pv          variant\n",
       "0    22  0.593706  22_24221295_T_G\n",
       "1    22  0.026581  22_24242973_A_G"
      ]
     },
     "execution_count": 204,
     "metadata": {},
     "output_type": "execute_result"
    }
   ],
   "source": [
    "pvals1 = run_interaction(y=y, W=W, E=C1_gauss.values[:,0:10], E1=C1_gauss.values[:,0:10], E2=C1.values[:,0:20], G=GG, hK=hK_expanded)[0]\n",
    "pv1 = pd.DataFrame({\"chrom\":G_expanded.chrom.values,\n",
    "       \"pv\":pvals1,\n",
    "       \"variant\":G_expanded.snp.values})\n",
    "pv1.head()"
   ]
  },
  {
   "cell_type": "code",
   "execution_count": 206,
   "id": "ed460ee0",
   "metadata": {},
   "outputs": [
    {
     "name": "stderr",
     "output_type": "stream",
     "text": [
      "100%|██████████| 2/2 [10:25<00:00, 312.56s/it]\n"
     ]
    },
    {
     "data": {
      "text/html": [
       "<div>\n",
       "<style scoped>\n",
       "    .dataframe tbody tr th:only-of-type {\n",
       "        vertical-align: middle;\n",
       "    }\n",
       "\n",
       "    .dataframe tbody tr th {\n",
       "        vertical-align: top;\n",
       "    }\n",
       "\n",
       "    .dataframe thead th {\n",
       "        text-align: right;\n",
       "    }\n",
       "</style>\n",
       "<table border=\"1\" class=\"dataframe\">\n",
       "  <thead>\n",
       "    <tr style=\"text-align: right;\">\n",
       "      <th></th>\n",
       "      <th>chrom</th>\n",
       "      <th>pv</th>\n",
       "      <th>variant</th>\n",
       "    </tr>\n",
       "  </thead>\n",
       "  <tbody>\n",
       "    <tr>\n",
       "      <th>0</th>\n",
       "      <td>22</td>\n",
       "      <td>0.945293</td>\n",
       "      <td>22_24221295_T_G</td>\n",
       "    </tr>\n",
       "    <tr>\n",
       "      <th>1</th>\n",
       "      <td>22</td>\n",
       "      <td>0.434565</td>\n",
       "      <td>22_24242973_A_G</td>\n",
       "    </tr>\n",
       "  </tbody>\n",
       "</table>\n",
       "</div>"
      ],
      "text/plain": [
       "  chrom        pv          variant\n",
       "0    22  0.945293  22_24221295_T_G\n",
       "1    22  0.434565  22_24242973_A_G"
      ]
     },
     "execution_count": 206,
     "metadata": {},
     "output_type": "execute_result"
    }
   ],
   "source": [
    "pvals2 = run_interaction(y=y, W=W, E=C2_gauss.values[:,0:10], E1=C2_gauss.values[:,0:10], E2=C2.values[:,0:20], G=GG, hK=hK_expanded)[0]\n",
    "pv2 = pd.DataFrame({\"chrom\":G_expanded.chrom.values,\n",
    "       \"pv\":pvals2,\n",
    "       \"variant\":G_expanded.snp.values})\n",
    "pv2.head()"
   ]
  },
  {
   "cell_type": "code",
   "execution_count": 205,
   "id": "0647776a",
   "metadata": {},
   "outputs": [
    {
     "name": "stderr",
     "output_type": "stream",
     "text": [
      "100%|██████████| 2/2 [04:48<00:00, 144.12s/it]\n"
     ]
    },
    {
     "data": {
      "text/html": [
       "<div>\n",
       "<style scoped>\n",
       "    .dataframe tbody tr th:only-of-type {\n",
       "        vertical-align: middle;\n",
       "    }\n",
       "\n",
       "    .dataframe tbody tr th {\n",
       "        vertical-align: top;\n",
       "    }\n",
       "\n",
       "    .dataframe thead th {\n",
       "        text-align: right;\n",
       "    }\n",
       "</style>\n",
       "<table border=\"1\" class=\"dataframe\">\n",
       "  <thead>\n",
       "    <tr style=\"text-align: right;\">\n",
       "      <th></th>\n",
       "      <th>chrom</th>\n",
       "      <th>pv</th>\n",
       "      <th>variant</th>\n",
       "    </tr>\n",
       "  </thead>\n",
       "  <tbody>\n",
       "    <tr>\n",
       "      <th>0</th>\n",
       "      <td>22</td>\n",
       "      <td>0.747629</td>\n",
       "      <td>22_24221295_T_G</td>\n",
       "    </tr>\n",
       "    <tr>\n",
       "      <th>1</th>\n",
       "      <td>22</td>\n",
       "      <td>0.044543</td>\n",
       "      <td>22_24242973_A_G</td>\n",
       "    </tr>\n",
       "  </tbody>\n",
       "</table>\n",
       "</div>"
      ],
      "text/plain": [
       "  chrom        pv          variant\n",
       "0    22  0.747629  22_24221295_T_G\n",
       "1    22  0.044543  22_24242973_A_G"
      ]
     },
     "execution_count": 205,
     "metadata": {},
     "output_type": "execute_result"
    }
   ],
   "source": [
    "pvals3 = run_interaction(y=y, W=W, E=C1.values[:,0:10], E1=C1.values[:,0:10], E2=C1.values[:,0:10], G=GG, hK=hK_expanded)[0]\n",
    "pv3 = pd.DataFrame({\"chrom\":G_expanded.chrom.values,\n",
    "       \"pv\":pvals3,\n",
    "       \"variant\":G_expanded.snp.values})\n",
    "pv3.head()"
   ]
  },
  {
   "cell_type": "code",
   "execution_count": 194,
   "id": "4dcee677",
   "metadata": {},
   "outputs": [],
   "source": [
    "### ENSG00000211643_IGLV5-52"
   ]
  },
  {
   "cell_type": "code",
   "execution_count": 195,
   "id": "54687946",
   "metadata": {},
   "outputs": [
    {
     "name": "stderr",
     "output_type": "stream",
     "text": [
      "100%|██████████| 3/3 [09:04<00:00, 181.38s/it]\n"
     ]
    },
    {
     "data": {
      "text/html": [
       "<div>\n",
       "<style scoped>\n",
       "    .dataframe tbody tr th:only-of-type {\n",
       "        vertical-align: middle;\n",
       "    }\n",
       "\n",
       "    .dataframe tbody tr th {\n",
       "        vertical-align: top;\n",
       "    }\n",
       "\n",
       "    .dataframe thead th {\n",
       "        text-align: right;\n",
       "    }\n",
       "</style>\n",
       "<table border=\"1\" class=\"dataframe\">\n",
       "  <thead>\n",
       "    <tr style=\"text-align: right;\">\n",
       "      <th></th>\n",
       "      <th>chrom</th>\n",
       "      <th>pv</th>\n",
       "      <th>variant</th>\n",
       "    </tr>\n",
       "  </thead>\n",
       "  <tbody>\n",
       "    <tr>\n",
       "      <th>0</th>\n",
       "      <td>22</td>\n",
       "      <td>1.186653e-05</td>\n",
       "      <td>22_22645490_G_A</td>\n",
       "    </tr>\n",
       "    <tr>\n",
       "      <th>1</th>\n",
       "      <td>22</td>\n",
       "      <td>5.246980e-08</td>\n",
       "      <td>22_22661150_T_C</td>\n",
       "    </tr>\n",
       "    <tr>\n",
       "      <th>2</th>\n",
       "      <td>22</td>\n",
       "      <td>4.611934e-08</td>\n",
       "      <td>22_22663216_A_G</td>\n",
       "    </tr>\n",
       "  </tbody>\n",
       "</table>\n",
       "</div>"
      ],
      "text/plain": [
       "  chrom            pv          variant\n",
       "0    22  1.186653e-05  22_22645490_G_A\n",
       "1    22  5.246980e-08  22_22661150_T_C\n",
       "2    22  4.611934e-08  22_22663216_A_G"
      ]
     },
     "execution_count": 195,
     "metadata": {},
     "output_type": "execute_result"
    }
   ],
   "source": [
    "pvals1 = run_interaction(y=y, W=W, E=C1_gauss.values[:,0:10], E1=C1_gauss.values[:,0:10], E2=C1.values[:,0:20], G=GG, hK=hK_expanded)[0]\n",
    "pv1 = pd.DataFrame({\"chrom\":G_expanded.chrom.values,\n",
    "       \"pv\":pvals1,\n",
    "       \"variant\":G_expanded.snp.values})\n",
    "pv1.head()"
   ]
  },
  {
   "cell_type": "code",
   "execution_count": 196,
   "id": "6eada9d9",
   "metadata": {},
   "outputs": [
    {
     "name": "stderr",
     "output_type": "stream",
     "text": [
      "100%|██████████| 3/3 [08:49<00:00, 176.48s/it]\n"
     ]
    },
    {
     "data": {
      "text/html": [
       "<div>\n",
       "<style scoped>\n",
       "    .dataframe tbody tr th:only-of-type {\n",
       "        vertical-align: middle;\n",
       "    }\n",
       "\n",
       "    .dataframe tbody tr th {\n",
       "        vertical-align: top;\n",
       "    }\n",
       "\n",
       "    .dataframe thead th {\n",
       "        text-align: right;\n",
       "    }\n",
       "</style>\n",
       "<table border=\"1\" class=\"dataframe\">\n",
       "  <thead>\n",
       "    <tr style=\"text-align: right;\">\n",
       "      <th></th>\n",
       "      <th>chrom</th>\n",
       "      <th>pv</th>\n",
       "      <th>variant</th>\n",
       "    </tr>\n",
       "  </thead>\n",
       "  <tbody>\n",
       "    <tr>\n",
       "      <th>0</th>\n",
       "      <td>22</td>\n",
       "      <td>4.559174e-05</td>\n",
       "      <td>22_22645490_G_A</td>\n",
       "    </tr>\n",
       "    <tr>\n",
       "      <th>1</th>\n",
       "      <td>22</td>\n",
       "      <td>2.879162e-07</td>\n",
       "      <td>22_22661150_T_C</td>\n",
       "    </tr>\n",
       "    <tr>\n",
       "      <th>2</th>\n",
       "      <td>22</td>\n",
       "      <td>1.446790e-07</td>\n",
       "      <td>22_22663216_A_G</td>\n",
       "    </tr>\n",
       "  </tbody>\n",
       "</table>\n",
       "</div>"
      ],
      "text/plain": [
       "  chrom            pv          variant\n",
       "0    22  4.559174e-05  22_22645490_G_A\n",
       "1    22  2.879162e-07  22_22661150_T_C\n",
       "2    22  1.446790e-07  22_22663216_A_G"
      ]
     },
     "execution_count": 196,
     "metadata": {},
     "output_type": "execute_result"
    }
   ],
   "source": [
    "pvals3 = run_interaction(y=y, W=W, E=C1.values[:,0:10], E1=C1.values[:,0:10], E2=C1.values[:,0:10], G=GG, hK=hK_expanded)[0]\n",
    "pv3 = pd.DataFrame({\"chrom\":G_expanded.chrom.values,\n",
    "       \"pv\":pvals3,\n",
    "       \"variant\":G_expanded.snp.values})\n",
    "pv3.head()"
   ]
  },
  {
   "cell_type": "code",
   "execution_count": null,
   "id": "443036c5",
   "metadata": {},
   "outputs": [],
   "source": []
  },
  {
   "cell_type": "code",
   "execution_count": null,
   "id": "43d78d81",
   "metadata": {},
   "outputs": [],
   "source": [
    "### ENSG00000075234_TTC38"
   ]
  },
  {
   "cell_type": "code",
   "execution_count": 178,
   "id": "00660220",
   "metadata": {},
   "outputs": [
    {
     "name": "stderr",
     "output_type": "stream",
     "text": [
      "100%|██████████| 1/1 [02:25<00:00, 145.24s/it]\n"
     ]
    },
    {
     "data": {
      "text/html": [
       "<div>\n",
       "<style scoped>\n",
       "    .dataframe tbody tr th:only-of-type {\n",
       "        vertical-align: middle;\n",
       "    }\n",
       "\n",
       "    .dataframe tbody tr th {\n",
       "        vertical-align: top;\n",
       "    }\n",
       "\n",
       "    .dataframe thead th {\n",
       "        text-align: right;\n",
       "    }\n",
       "</style>\n",
       "<table border=\"1\" class=\"dataframe\">\n",
       "  <thead>\n",
       "    <tr style=\"text-align: right;\">\n",
       "      <th></th>\n",
       "      <th>chrom</th>\n",
       "      <th>pv</th>\n",
       "      <th>variant</th>\n",
       "    </tr>\n",
       "  </thead>\n",
       "  <tbody>\n",
       "    <tr>\n",
       "      <th>0</th>\n",
       "      <td>22</td>\n",
       "      <td>0.036225</td>\n",
       "      <td>22_46719054_T_C</td>\n",
       "    </tr>\n",
       "  </tbody>\n",
       "</table>\n",
       "</div>"
      ],
      "text/plain": [
       "  chrom        pv          variant\n",
       "0    22  0.036225  22_46719054_T_C"
      ]
     },
     "execution_count": 178,
     "metadata": {},
     "output_type": "execute_result"
    }
   ],
   "source": [
    "pvals1 = run_interaction(y=y, W=W, E=C1_gauss.values[:,0:10], E1=C1_gauss.values[:,0:10], E2=C1.values[:,0:20], G=GG, hK=hK_expanded)[0]\n",
    "pv1 = pd.DataFrame({\"chrom\":G_expanded.chrom.values,\n",
    "       \"pv\":pvals1,\n",
    "       \"variant\":G_expanded.snp.values})\n",
    "pv1.head()"
   ]
  },
  {
   "cell_type": "code",
   "execution_count": 179,
   "id": "aa4682c5",
   "metadata": {},
   "outputs": [
    {
     "name": "stderr",
     "output_type": "stream",
     "text": [
      "100%|██████████| 1/1 [02:25<00:00, 145.14s/it]\n"
     ]
    },
    {
     "data": {
      "text/html": [
       "<div>\n",
       "<style scoped>\n",
       "    .dataframe tbody tr th:only-of-type {\n",
       "        vertical-align: middle;\n",
       "    }\n",
       "\n",
       "    .dataframe tbody tr th {\n",
       "        vertical-align: top;\n",
       "    }\n",
       "\n",
       "    .dataframe thead th {\n",
       "        text-align: right;\n",
       "    }\n",
       "</style>\n",
       "<table border=\"1\" class=\"dataframe\">\n",
       "  <thead>\n",
       "    <tr style=\"text-align: right;\">\n",
       "      <th></th>\n",
       "      <th>chrom</th>\n",
       "      <th>pv</th>\n",
       "      <th>variant</th>\n",
       "    </tr>\n",
       "  </thead>\n",
       "  <tbody>\n",
       "    <tr>\n",
       "      <th>0</th>\n",
       "      <td>22</td>\n",
       "      <td>0.031836</td>\n",
       "      <td>22_46719054_T_C</td>\n",
       "    </tr>\n",
       "  </tbody>\n",
       "</table>\n",
       "</div>"
      ],
      "text/plain": [
       "  chrom        pv          variant\n",
       "0    22  0.031836  22_46719054_T_C"
      ]
     },
     "execution_count": 179,
     "metadata": {},
     "output_type": "execute_result"
    }
   ],
   "source": [
    "pvals3 = run_interaction(y=y, W=W, E=C1.values[:,0:10], E1=C1.values[:,0:10], E2=C1.values[:,0:10], G=GG, hK=hK_expanded)[0]\n",
    "pv3 = pd.DataFrame({\"chrom\":G_expanded.chrom.values,\n",
    "       \"pv\":pvals3,\n",
    "       \"variant\":G_expanded.snp.values})\n",
    "pv3.head()"
   ]
  },
  {
   "cell_type": "code",
   "execution_count": 180,
   "id": "a838dfdf",
   "metadata": {},
   "outputs": [
    {
     "data": {
      "text/html": [
       "<div><svg style=\"position: absolute; width: 0; height: 0; overflow: hidden\">\n",
       "<defs>\n",
       "<symbol id=\"icon-database\" viewBox=\"0 0 32 32\">\n",
       "<path d=\"M16 0c-8.837 0-16 2.239-16 5v4c0 2.761 7.163 5 16 5s16-2.239 16-5v-4c0-2.761-7.163-5-16-5z\"></path>\n",
       "<path d=\"M16 17c-8.837 0-16-2.239-16-5v6c0 2.761 7.163 5 16 5s16-2.239 16-5v-6c0 2.761-7.163 5-16 5z\"></path>\n",
       "<path d=\"M16 26c-8.837 0-16-2.239-16-5v6c0 2.761 7.163 5 16 5s16-2.239 16-5v-6c0 2.761-7.163 5-16 5z\"></path>\n",
       "</symbol>\n",
       "<symbol id=\"icon-file-text2\" viewBox=\"0 0 32 32\">\n",
       "<path d=\"M28.681 7.159c-0.694-0.947-1.662-2.053-2.724-3.116s-2.169-2.030-3.116-2.724c-1.612-1.182-2.393-1.319-2.841-1.319h-15.5c-1.378 0-2.5 1.121-2.5 2.5v27c0 1.378 1.122 2.5 2.5 2.5h23c1.378 0 2.5-1.122 2.5-2.5v-19.5c0-0.448-0.137-1.23-1.319-2.841zM24.543 5.457c0.959 0.959 1.712 1.825 2.268 2.543h-4.811v-4.811c0.718 0.556 1.584 1.309 2.543 2.268zM28 29.5c0 0.271-0.229 0.5-0.5 0.5h-23c-0.271 0-0.5-0.229-0.5-0.5v-27c0-0.271 0.229-0.5 0.5-0.5 0 0 15.499-0 15.5 0v7c0 0.552 0.448 1 1 1h7v19.5z\"></path>\n",
       "<path d=\"M23 26h-14c-0.552 0-1-0.448-1-1s0.448-1 1-1h14c0.552 0 1 0.448 1 1s-0.448 1-1 1z\"></path>\n",
       "<path d=\"M23 22h-14c-0.552 0-1-0.448-1-1s0.448-1 1-1h14c0.552 0 1 0.448 1 1s-0.448 1-1 1z\"></path>\n",
       "<path d=\"M23 18h-14c-0.552 0-1-0.448-1-1s0.448-1 1-1h14c0.552 0 1 0.448 1 1s-0.448 1-1 1z\"></path>\n",
       "</symbol>\n",
       "</defs>\n",
       "</svg>\n",
       "<style>/* CSS stylesheet for displaying xarray objects in jupyterlab.\n",
       " *\n",
       " */\n",
       "\n",
       ":root {\n",
       "  --xr-font-color0: var(--jp-content-font-color0, rgba(0, 0, 0, 1));\n",
       "  --xr-font-color2: var(--jp-content-font-color2, rgba(0, 0, 0, 0.54));\n",
       "  --xr-font-color3: var(--jp-content-font-color3, rgba(0, 0, 0, 0.38));\n",
       "  --xr-border-color: var(--jp-border-color2, #e0e0e0);\n",
       "  --xr-disabled-color: var(--jp-layout-color3, #bdbdbd);\n",
       "  --xr-background-color: var(--jp-layout-color0, white);\n",
       "  --xr-background-color-row-even: var(--jp-layout-color1, white);\n",
       "  --xr-background-color-row-odd: var(--jp-layout-color2, #eeeeee);\n",
       "}\n",
       "\n",
       "html[theme=dark],\n",
       "body.vscode-dark {\n",
       "  --xr-font-color0: rgba(255, 255, 255, 1);\n",
       "  --xr-font-color2: rgba(255, 255, 255, 0.54);\n",
       "  --xr-font-color3: rgba(255, 255, 255, 0.38);\n",
       "  --xr-border-color: #1F1F1F;\n",
       "  --xr-disabled-color: #515151;\n",
       "  --xr-background-color: #111111;\n",
       "  --xr-background-color-row-even: #111111;\n",
       "  --xr-background-color-row-odd: #313131;\n",
       "}\n",
       "\n",
       ".xr-wrap {\n",
       "  display: block;\n",
       "  min-width: 300px;\n",
       "  max-width: 700px;\n",
       "}\n",
       "\n",
       ".xr-text-repr-fallback {\n",
       "  /* fallback to plain text repr when CSS is not injected (untrusted notebook) */\n",
       "  display: none;\n",
       "}\n",
       "\n",
       ".xr-header {\n",
       "  padding-top: 6px;\n",
       "  padding-bottom: 6px;\n",
       "  margin-bottom: 4px;\n",
       "  border-bottom: solid 1px var(--xr-border-color);\n",
       "}\n",
       "\n",
       ".xr-header > div,\n",
       ".xr-header > ul {\n",
       "  display: inline;\n",
       "  margin-top: 0;\n",
       "  margin-bottom: 0;\n",
       "}\n",
       "\n",
       ".xr-obj-type,\n",
       ".xr-array-name {\n",
       "  margin-left: 2px;\n",
       "  margin-right: 10px;\n",
       "}\n",
       "\n",
       ".xr-obj-type {\n",
       "  color: var(--xr-font-color2);\n",
       "}\n",
       "\n",
       ".xr-sections {\n",
       "  padding-left: 0 !important;\n",
       "  display: grid;\n",
       "  grid-template-columns: 150px auto auto 1fr 20px 20px;\n",
       "}\n",
       "\n",
       ".xr-section-item {\n",
       "  display: contents;\n",
       "}\n",
       "\n",
       ".xr-section-item input {\n",
       "  display: none;\n",
       "}\n",
       "\n",
       ".xr-section-item input + label {\n",
       "  color: var(--xr-disabled-color);\n",
       "}\n",
       "\n",
       ".xr-section-item input:enabled + label {\n",
       "  cursor: pointer;\n",
       "  color: var(--xr-font-color2);\n",
       "}\n",
       "\n",
       ".xr-section-item input:enabled + label:hover {\n",
       "  color: var(--xr-font-color0);\n",
       "}\n",
       "\n",
       ".xr-section-summary {\n",
       "  grid-column: 1;\n",
       "  color: var(--xr-font-color2);\n",
       "  font-weight: 500;\n",
       "}\n",
       "\n",
       ".xr-section-summary > span {\n",
       "  display: inline-block;\n",
       "  padding-left: 0.5em;\n",
       "}\n",
       "\n",
       ".xr-section-summary-in:disabled + label {\n",
       "  color: var(--xr-font-color2);\n",
       "}\n",
       "\n",
       ".xr-section-summary-in + label:before {\n",
       "  display: inline-block;\n",
       "  content: '►';\n",
       "  font-size: 11px;\n",
       "  width: 15px;\n",
       "  text-align: center;\n",
       "}\n",
       "\n",
       ".xr-section-summary-in:disabled + label:before {\n",
       "  color: var(--xr-disabled-color);\n",
       "}\n",
       "\n",
       ".xr-section-summary-in:checked + label:before {\n",
       "  content: '▼';\n",
       "}\n",
       "\n",
       ".xr-section-summary-in:checked + label > span {\n",
       "  display: none;\n",
       "}\n",
       "\n",
       ".xr-section-summary,\n",
       ".xr-section-inline-details {\n",
       "  padding-top: 4px;\n",
       "  padding-bottom: 4px;\n",
       "}\n",
       "\n",
       ".xr-section-inline-details {\n",
       "  grid-column: 2 / -1;\n",
       "}\n",
       "\n",
       ".xr-section-details {\n",
       "  display: none;\n",
       "  grid-column: 1 / -1;\n",
       "  margin-bottom: 5px;\n",
       "}\n",
       "\n",
       ".xr-section-summary-in:checked ~ .xr-section-details {\n",
       "  display: contents;\n",
       "}\n",
       "\n",
       ".xr-array-wrap {\n",
       "  grid-column: 1 / -1;\n",
       "  display: grid;\n",
       "  grid-template-columns: 20px auto;\n",
       "}\n",
       "\n",
       ".xr-array-wrap > label {\n",
       "  grid-column: 1;\n",
       "  vertical-align: top;\n",
       "}\n",
       "\n",
       ".xr-preview {\n",
       "  color: var(--xr-font-color3);\n",
       "}\n",
       "\n",
       ".xr-array-preview,\n",
       ".xr-array-data {\n",
       "  padding: 0 5px !important;\n",
       "  grid-column: 2;\n",
       "}\n",
       "\n",
       ".xr-array-data,\n",
       ".xr-array-in:checked ~ .xr-array-preview {\n",
       "  display: none;\n",
       "}\n",
       "\n",
       ".xr-array-in:checked ~ .xr-array-data,\n",
       ".xr-array-preview {\n",
       "  display: inline-block;\n",
       "}\n",
       "\n",
       ".xr-dim-list {\n",
       "  display: inline-block !important;\n",
       "  list-style: none;\n",
       "  padding: 0 !important;\n",
       "  margin: 0;\n",
       "}\n",
       "\n",
       ".xr-dim-list li {\n",
       "  display: inline-block;\n",
       "  padding: 0;\n",
       "  margin: 0;\n",
       "}\n",
       "\n",
       ".xr-dim-list:before {\n",
       "  content: '(';\n",
       "}\n",
       "\n",
       ".xr-dim-list:after {\n",
       "  content: ')';\n",
       "}\n",
       "\n",
       ".xr-dim-list li:not(:last-child):after {\n",
       "  content: ',';\n",
       "  padding-right: 5px;\n",
       "}\n",
       "\n",
       ".xr-has-index {\n",
       "  font-weight: bold;\n",
       "}\n",
       "\n",
       ".xr-var-list,\n",
       ".xr-var-item {\n",
       "  display: contents;\n",
       "}\n",
       "\n",
       ".xr-var-item > div,\n",
       ".xr-var-item label,\n",
       ".xr-var-item > .xr-var-name span {\n",
       "  background-color: var(--xr-background-color-row-even);\n",
       "  margin-bottom: 0;\n",
       "}\n",
       "\n",
       ".xr-var-item > .xr-var-name:hover span {\n",
       "  padding-right: 5px;\n",
       "}\n",
       "\n",
       ".xr-var-list > li:nth-child(odd) > div,\n",
       ".xr-var-list > li:nth-child(odd) > label,\n",
       ".xr-var-list > li:nth-child(odd) > .xr-var-name span {\n",
       "  background-color: var(--xr-background-color-row-odd);\n",
       "}\n",
       "\n",
       ".xr-var-name {\n",
       "  grid-column: 1;\n",
       "}\n",
       "\n",
       ".xr-var-dims {\n",
       "  grid-column: 2;\n",
       "}\n",
       "\n",
       ".xr-var-dtype {\n",
       "  grid-column: 3;\n",
       "  text-align: right;\n",
       "  color: var(--xr-font-color2);\n",
       "}\n",
       "\n",
       ".xr-var-preview {\n",
       "  grid-column: 4;\n",
       "}\n",
       "\n",
       ".xr-var-name,\n",
       ".xr-var-dims,\n",
       ".xr-var-dtype,\n",
       ".xr-preview,\n",
       ".xr-attrs dt {\n",
       "  white-space: nowrap;\n",
       "  overflow: hidden;\n",
       "  text-overflow: ellipsis;\n",
       "  padding-right: 10px;\n",
       "}\n",
       "\n",
       ".xr-var-name:hover,\n",
       ".xr-var-dims:hover,\n",
       ".xr-var-dtype:hover,\n",
       ".xr-attrs dt:hover {\n",
       "  overflow: visible;\n",
       "  width: auto;\n",
       "  z-index: 1;\n",
       "}\n",
       "\n",
       ".xr-var-attrs,\n",
       ".xr-var-data {\n",
       "  display: none;\n",
       "  background-color: var(--xr-background-color) !important;\n",
       "  padding-bottom: 5px !important;\n",
       "}\n",
       "\n",
       ".xr-var-attrs-in:checked ~ .xr-var-attrs,\n",
       ".xr-var-data-in:checked ~ .xr-var-data {\n",
       "  display: block;\n",
       "}\n",
       "\n",
       ".xr-var-data > table {\n",
       "  float: right;\n",
       "}\n",
       "\n",
       ".xr-var-name span,\n",
       ".xr-var-data,\n",
       ".xr-attrs {\n",
       "  padding-left: 25px !important;\n",
       "}\n",
       "\n",
       ".xr-attrs,\n",
       ".xr-var-attrs,\n",
       ".xr-var-data {\n",
       "  grid-column: 1 / -1;\n",
       "}\n",
       "\n",
       "dl.xr-attrs {\n",
       "  padding: 0;\n",
       "  margin: 0;\n",
       "  display: grid;\n",
       "  grid-template-columns: 125px auto;\n",
       "}\n",
       "\n",
       ".xr-attrs dt,\n",
       ".xr-attrs dd {\n",
       "  padding: 0;\n",
       "  margin: 0;\n",
       "  float: left;\n",
       "  padding-right: 10px;\n",
       "  width: auto;\n",
       "}\n",
       "\n",
       ".xr-attrs dt {\n",
       "  font-weight: normal;\n",
       "  grid-column: 1;\n",
       "}\n",
       "\n",
       ".xr-attrs dt:hover span {\n",
       "  display: inline-block;\n",
       "  background: var(--xr-background-color);\n",
       "  padding-right: 10px;\n",
       "}\n",
       "\n",
       ".xr-attrs dd {\n",
       "  grid-column: 2;\n",
       "  white-space: pre-wrap;\n",
       "  word-break: break-all;\n",
       "}\n",
       "\n",
       ".xr-icon-database,\n",
       ".xr-icon-file-text2 {\n",
       "  display: inline-block;\n",
       "  vertical-align: middle;\n",
       "  width: 1em;\n",
       "  height: 1.5em !important;\n",
       "  stroke-width: 0;\n",
       "  stroke: currentColor;\n",
       "  fill: currentColor;\n",
       "}\n",
       "</style><pre class='xr-text-repr-fallback'>&lt;xarray.DataArray (cell: 33964, pc: 10)&gt;\n",
       "array([[ 0.15835926,  0.5754864 , -1.0920529 , ...,  0.3321673 ,\n",
       "         0.38922524, -0.34261927],\n",
       "       [-0.9958191 , -0.03129572,  0.45493168, ...,  0.78643966,\n",
       "         0.14771053,  0.51670575],\n",
       "       [ 0.15983821, -0.06117378, -0.2807216 , ...,  0.8091362 ,\n",
       "        -0.12600906,  0.56088686],\n",
       "       ...,\n",
       "       [ 1.2193582 ,  0.28776878, -0.58709943, ...,  0.44366732,\n",
       "        -0.71827847,  0.14074185],\n",
       "       [ 0.0851765 ,  0.9583397 , -1.3123212 , ...,  1.3008469 ,\n",
       "        -0.4053281 ,  0.24936642],\n",
       "       [ 0.35109466,  0.8765291 , -0.77248335, ...,  1.0291563 ,\n",
       "        -0.68173134,  0.18897173]])\n",
       "Coordinates:\n",
       "  * cell     (cell) object &#x27;21843_1#10&#x27; &#x27;21843_1#100&#x27; ... &#x27;24539_8#98&#x27;\n",
       "  * pc       (pc) object &#x27;Z_0&#x27; &#x27;Z_1&#x27; &#x27;Z_2&#x27; &#x27;Z_3&#x27; ... &#x27;Z_6&#x27; &#x27;Z_7&#x27; &#x27;Z_8&#x27; &#x27;Z_9&#x27;</pre><div class='xr-wrap' hidden><div class='xr-header'><div class='xr-obj-type'>xarray.DataArray</div><div class='xr-array-name'></div><ul class='xr-dim-list'><li><span class='xr-has-index'>cell</span>: 33964</li><li><span class='xr-has-index'>pc</span>: 10</li></ul></div><ul class='xr-sections'><li class='xr-section-item'><div class='xr-array-wrap'><input id='section-7908b15f-4e86-4a54-bf64-68ccbc46ab2b' class='xr-array-in' type='checkbox' checked><label for='section-7908b15f-4e86-4a54-bf64-68ccbc46ab2b' title='Show/hide data repr'><svg class='icon xr-icon-database'><use xlink:href='#icon-database'></use></svg></label><div class='xr-array-preview xr-preview'><span>0.1584 0.5755 -1.092 0.00567 0.8921 ... 2.031 1.029 -0.6817 0.189</span></div><div class='xr-array-data'><pre>array([[ 0.15835926,  0.5754864 , -1.0920529 , ...,  0.3321673 ,\n",
       "         0.38922524, -0.34261927],\n",
       "       [-0.9958191 , -0.03129572,  0.45493168, ...,  0.78643966,\n",
       "         0.14771053,  0.51670575],\n",
       "       [ 0.15983821, -0.06117378, -0.2807216 , ...,  0.8091362 ,\n",
       "        -0.12600906,  0.56088686],\n",
       "       ...,\n",
       "       [ 1.2193582 ,  0.28776878, -0.58709943, ...,  0.44366732,\n",
       "        -0.71827847,  0.14074185],\n",
       "       [ 0.0851765 ,  0.9583397 , -1.3123212 , ...,  1.3008469 ,\n",
       "        -0.4053281 ,  0.24936642],\n",
       "       [ 0.35109466,  0.8765291 , -0.77248335, ...,  1.0291563 ,\n",
       "        -0.68173134,  0.18897173]])</pre></div></div></li><li class='xr-section-item'><input id='section-6cd47672-2e95-4cf0-a6db-24be4558e492' class='xr-section-summary-in' type='checkbox'  checked><label for='section-6cd47672-2e95-4cf0-a6db-24be4558e492' class='xr-section-summary' >Coordinates: <span>(2)</span></label><div class='xr-section-inline-details'></div><div class='xr-section-details'><ul class='xr-var-list'><li class='xr-var-item'><div class='xr-var-name'><span class='xr-has-index'>cell</span></div><div class='xr-var-dims'>(cell)</div><div class='xr-var-dtype'>object</div><div class='xr-var-preview xr-preview'>&#x27;21843_1#10&#x27; ... &#x27;24539_8#98&#x27;</div><input id='attrs-ffc27c93-5b2e-4150-aa92-f27b81603b07' class='xr-var-attrs-in' type='checkbox' disabled><label for='attrs-ffc27c93-5b2e-4150-aa92-f27b81603b07' title='Show/Hide attributes'><svg class='icon xr-icon-file-text2'><use xlink:href='#icon-file-text2'></use></svg></label><input id='data-5a0ecd1c-b82b-4d7f-95ae-eb009a4aeb92' class='xr-var-data-in' type='checkbox'><label for='data-5a0ecd1c-b82b-4d7f-95ae-eb009a4aeb92' title='Show/Hide data repr'><svg class='icon xr-icon-database'><use xlink:href='#icon-database'></use></svg></label><div class='xr-var-attrs'><dl class='xr-attrs'></dl></div><div class='xr-var-data'><pre>array([&#x27;21843_1#10&#x27;, &#x27;21843_1#100&#x27;, &#x27;21843_1#101&#x27;, ..., &#x27;24539_8#95&#x27;,\n",
       "       &#x27;24539_8#97&#x27;, &#x27;24539_8#98&#x27;], dtype=object)</pre></div></li><li class='xr-var-item'><div class='xr-var-name'><span class='xr-has-index'>pc</span></div><div class='xr-var-dims'>(pc)</div><div class='xr-var-dtype'>object</div><div class='xr-var-preview xr-preview'>&#x27;Z_0&#x27; &#x27;Z_1&#x27; &#x27;Z_2&#x27; ... &#x27;Z_8&#x27; &#x27;Z_9&#x27;</div><input id='attrs-774d81dc-3d11-4728-8a3f-1aa015ad170a' class='xr-var-attrs-in' type='checkbox' disabled><label for='attrs-774d81dc-3d11-4728-8a3f-1aa015ad170a' title='Show/Hide attributes'><svg class='icon xr-icon-file-text2'><use xlink:href='#icon-file-text2'></use></svg></label><input id='data-ca24b88a-068f-4129-9517-a57189ac03fb' class='xr-var-data-in' type='checkbox'><label for='data-ca24b88a-068f-4129-9517-a57189ac03fb' title='Show/Hide data repr'><svg class='icon xr-icon-database'><use xlink:href='#icon-database'></use></svg></label><div class='xr-var-attrs'><dl class='xr-attrs'></dl></div><div class='xr-var-data'><pre>array([&#x27;Z_0&#x27;, &#x27;Z_1&#x27;, &#x27;Z_2&#x27;, &#x27;Z_3&#x27;, &#x27;Z_4&#x27;, &#x27;Z_5&#x27;, &#x27;Z_6&#x27;, &#x27;Z_7&#x27;, &#x27;Z_8&#x27;, &#x27;Z_9&#x27;],\n",
       "      dtype=object)</pre></div></li></ul></div></li><li class='xr-section-item'><input id='section-23a1469e-38fe-4b92-b918-4370e935ccab' class='xr-section-summary-in' type='checkbox' disabled ><label for='section-23a1469e-38fe-4b92-b918-4370e935ccab' class='xr-section-summary'  title='Expand/collapse section'>Attributes: <span>(0)</span></label><div class='xr-section-inline-details'></div><div class='xr-section-details'><dl class='xr-attrs'></dl></div></li></ul></div></div>"
      ],
      "text/plain": [
       "<xarray.DataArray (cell: 33964, pc: 10)>\n",
       "array([[ 0.15835926,  0.5754864 , -1.0920529 , ...,  0.3321673 ,\n",
       "         0.38922524, -0.34261927],\n",
       "       [-0.9958191 , -0.03129572,  0.45493168, ...,  0.78643966,\n",
       "         0.14771053,  0.51670575],\n",
       "       [ 0.15983821, -0.06117378, -0.2807216 , ...,  0.8091362 ,\n",
       "        -0.12600906,  0.56088686],\n",
       "       ...,\n",
       "       [ 1.2193582 ,  0.28776878, -0.58709943, ...,  0.44366732,\n",
       "        -0.71827847,  0.14074185],\n",
       "       [ 0.0851765 ,  0.9583397 , -1.3123212 , ...,  1.3008469 ,\n",
       "        -0.4053281 ,  0.24936642],\n",
       "       [ 0.35109466,  0.8765291 , -0.77248335, ...,  1.0291563 ,\n",
       "        -0.68173134,  0.18897173]])\n",
       "Coordinates:\n",
       "  * cell     (cell) object '21843_1#10' '21843_1#100' ... '24539_8#98'\n",
       "  * pc       (pc) object 'Z_0' 'Z_1' 'Z_2' 'Z_3' ... 'Z_6' 'Z_7' 'Z_8' 'Z_9'"
      ]
     },
     "execution_count": 180,
     "metadata": {},
     "output_type": "execute_result"
    }
   ],
   "source": [
    "C1"
   ]
  },
  {
   "cell_type": "code",
   "execution_count": 186,
   "id": "be9551ab",
   "metadata": {},
   "outputs": [
    {
     "data": {
      "text/html": [
       "<div>\n",
       "<style scoped>\n",
       "    .dataframe tbody tr th:only-of-type {\n",
       "        vertical-align: middle;\n",
       "    }\n",
       "\n",
       "    .dataframe tbody tr th {\n",
       "        vertical-align: top;\n",
       "    }\n",
       "\n",
       "    .dataframe thead th {\n",
       "        text-align: right;\n",
       "    }\n",
       "</style>\n",
       "<table border=\"1\" class=\"dataframe\">\n",
       "  <thead>\n",
       "    <tr style=\"text-align: right;\">\n",
       "      <th></th>\n",
       "      <th>Z_0</th>\n",
       "      <th>Z_1</th>\n",
       "      <th>Z_2</th>\n",
       "      <th>Z_3</th>\n",
       "      <th>Z_4</th>\n",
       "      <th>Z_5</th>\n",
       "      <th>Z_6</th>\n",
       "      <th>Z_7</th>\n",
       "      <th>Z_8</th>\n",
       "      <th>Z_9</th>\n",
       "    </tr>\n",
       "  </thead>\n",
       "  <tbody>\n",
       "    <tr>\n",
       "      <th>21843_1#10</th>\n",
       "      <td>0.158359</td>\n",
       "      <td>0.575486</td>\n",
       "      <td>-1.092053</td>\n",
       "      <td>0.005670</td>\n",
       "      <td>0.892053</td>\n",
       "      <td>-1.105382</td>\n",
       "      <td>0.825755</td>\n",
       "      <td>0.332167</td>\n",
       "      <td>0.389225</td>\n",
       "      <td>-0.342619</td>\n",
       "    </tr>\n",
       "    <tr>\n",
       "      <th>21843_1#100</th>\n",
       "      <td>-0.995819</td>\n",
       "      <td>-0.031296</td>\n",
       "      <td>0.454932</td>\n",
       "      <td>0.382779</td>\n",
       "      <td>0.041325</td>\n",
       "      <td>-1.759152</td>\n",
       "      <td>0.771850</td>\n",
       "      <td>0.786440</td>\n",
       "      <td>0.147711</td>\n",
       "      <td>0.516706</td>\n",
       "    </tr>\n",
       "    <tr>\n",
       "      <th>21843_1#101</th>\n",
       "      <td>0.159838</td>\n",
       "      <td>-0.061174</td>\n",
       "      <td>-0.280722</td>\n",
       "      <td>0.170650</td>\n",
       "      <td>-0.035520</td>\n",
       "      <td>-1.191214</td>\n",
       "      <td>0.944274</td>\n",
       "      <td>0.809136</td>\n",
       "      <td>-0.126009</td>\n",
       "      <td>0.560887</td>\n",
       "    </tr>\n",
       "    <tr>\n",
       "      <th>21843_1#102</th>\n",
       "      <td>0.470313</td>\n",
       "      <td>0.521527</td>\n",
       "      <td>-1.173945</td>\n",
       "      <td>0.033985</td>\n",
       "      <td>0.675836</td>\n",
       "      <td>-0.734045</td>\n",
       "      <td>1.232266</td>\n",
       "      <td>0.388774</td>\n",
       "      <td>0.361199</td>\n",
       "      <td>-0.233932</td>\n",
       "    </tr>\n",
       "    <tr>\n",
       "      <th>21843_1#103</th>\n",
       "      <td>0.027621</td>\n",
       "      <td>0.098622</td>\n",
       "      <td>-0.568644</td>\n",
       "      <td>0.061364</td>\n",
       "      <td>0.368514</td>\n",
       "      <td>-0.959623</td>\n",
       "      <td>1.079699</td>\n",
       "      <td>0.547926</td>\n",
       "      <td>-0.010442</td>\n",
       "      <td>0.382205</td>\n",
       "    </tr>\n",
       "  </tbody>\n",
       "</table>\n",
       "</div>"
      ],
      "text/plain": [
       "                  Z_0       Z_1       Z_2       Z_3       Z_4       Z_5  \\\n",
       "21843_1#10   0.158359  0.575486 -1.092053  0.005670  0.892053 -1.105382   \n",
       "21843_1#100 -0.995819 -0.031296  0.454932  0.382779  0.041325 -1.759152   \n",
       "21843_1#101  0.159838 -0.061174 -0.280722  0.170650 -0.035520 -1.191214   \n",
       "21843_1#102  0.470313  0.521527 -1.173945  0.033985  0.675836 -0.734045   \n",
       "21843_1#103  0.027621  0.098622 -0.568644  0.061364  0.368514 -0.959623   \n",
       "\n",
       "                  Z_6       Z_7       Z_8       Z_9  \n",
       "21843_1#10   0.825755  0.332167  0.389225 -0.342619  \n",
       "21843_1#100  0.771850  0.786440  0.147711  0.516706  \n",
       "21843_1#101  0.944274  0.809136 -0.126009  0.560887  \n",
       "21843_1#102  1.232266  0.388774  0.361199 -0.233932  \n",
       "21843_1#103  1.079699  0.547926 -0.010442  0.382205  "
      ]
     },
     "execution_count": 186,
     "metadata": {},
     "output_type": "execute_result"
    }
   ],
   "source": [
    "C1_df = pd.DataFrame(data = C1.values, columns = C1.pc.values, index = C1.cell.values)\n",
    "C1_df.head()"
   ]
  },
  {
   "cell_type": "code",
   "execution_count": 187,
   "id": "abff9cc6",
   "metadata": {},
   "outputs": [],
   "source": [
    "C1_df.to_csv(\"/hps/nobackup2/stegle/users/acuomo/CellRegMap_data/ldvae_emb.csv\")"
   ]
  },
  {
   "cell_type": "code",
   "execution_count": null,
   "id": "05fee361",
   "metadata": {},
   "outputs": [],
   "source": []
  },
  {
   "cell_type": "code",
   "execution_count": null,
   "id": "4383b4a0",
   "metadata": {},
   "outputs": [],
   "source": [
    "### ENSG00000100417_PMM1"
   ]
  },
  {
   "cell_type": "code",
   "execution_count": 165,
   "id": "54565ead",
   "metadata": {},
   "outputs": [
    {
     "name": "stderr",
     "output_type": "stream",
     "text": [
      "100%|██████████| 1/1 [02:36<00:00, 156.51s/it]\n"
     ]
    },
    {
     "data": {
      "text/html": [
       "<div>\n",
       "<style scoped>\n",
       "    .dataframe tbody tr th:only-of-type {\n",
       "        vertical-align: middle;\n",
       "    }\n",
       "\n",
       "    .dataframe tbody tr th {\n",
       "        vertical-align: top;\n",
       "    }\n",
       "\n",
       "    .dataframe thead th {\n",
       "        text-align: right;\n",
       "    }\n",
       "</style>\n",
       "<table border=\"1\" class=\"dataframe\">\n",
       "  <thead>\n",
       "    <tr style=\"text-align: right;\">\n",
       "      <th></th>\n",
       "      <th>chrom</th>\n",
       "      <th>pv</th>\n",
       "      <th>variant</th>\n",
       "    </tr>\n",
       "  </thead>\n",
       "  <tbody>\n",
       "    <tr>\n",
       "      <th>0</th>\n",
       "      <td>22</td>\n",
       "      <td>0.147208</td>\n",
       "      <td>22_41877989_A_G</td>\n",
       "    </tr>\n",
       "  </tbody>\n",
       "</table>\n",
       "</div>"
      ],
      "text/plain": [
       "  chrom        pv          variant\n",
       "0    22  0.147208  22_41877989_A_G"
      ]
     },
     "execution_count": 165,
     "metadata": {},
     "output_type": "execute_result"
    }
   ],
   "source": [
    "pvals1 = run_interaction(y=y, W=W, E=C1_gauss.values[:,0:10], E1=C1_gauss.values[:,0:10], E2=C1.values[:,0:20], G=GG, hK=hK_expanded)[0]\n",
    "pv1 = pd.DataFrame({\"chrom\":G_expanded.chrom.values,\n",
    "       \"pv\":pvals1,\n",
    "       \"variant\":G_expanded.snp.values})\n",
    "pv1.head()"
   ]
  },
  {
   "cell_type": "code",
   "execution_count": 166,
   "id": "ff5c357a",
   "metadata": {},
   "outputs": [
    {
     "name": "stderr",
     "output_type": "stream",
     "text": [
      "100%|██████████| 1/1 [02:39<00:00, 159.55s/it]\n"
     ]
    },
    {
     "data": {
      "text/html": [
       "<div>\n",
       "<style scoped>\n",
       "    .dataframe tbody tr th:only-of-type {\n",
       "        vertical-align: middle;\n",
       "    }\n",
       "\n",
       "    .dataframe tbody tr th {\n",
       "        vertical-align: top;\n",
       "    }\n",
       "\n",
       "    .dataframe thead th {\n",
       "        text-align: right;\n",
       "    }\n",
       "</style>\n",
       "<table border=\"1\" class=\"dataframe\">\n",
       "  <thead>\n",
       "    <tr style=\"text-align: right;\">\n",
       "      <th></th>\n",
       "      <th>chrom</th>\n",
       "      <th>pv</th>\n",
       "      <th>variant</th>\n",
       "    </tr>\n",
       "  </thead>\n",
       "  <tbody>\n",
       "    <tr>\n",
       "      <th>0</th>\n",
       "      <td>22</td>\n",
       "      <td>0.22723</td>\n",
       "      <td>22_41877989_A_G</td>\n",
       "    </tr>\n",
       "  </tbody>\n",
       "</table>\n",
       "</div>"
      ],
      "text/plain": [
       "  chrom       pv          variant\n",
       "0    22  0.22723  22_41877989_A_G"
      ]
     },
     "execution_count": 166,
     "metadata": {},
     "output_type": "execute_result"
    }
   ],
   "source": [
    "pvals3 = run_interaction(y=y, W=W, E=C1.values[:,0:10], E1=C1.values[:,0:10], E2=C1.values[:,0:10], G=GG, hK=hK_expanded)[0]\n",
    "pv3 = pd.DataFrame({\"chrom\":G_expanded.chrom.values,\n",
    "       \"pv\":pvals3,\n",
    "       \"variant\":G_expanded.snp.values})\n",
    "pv3.head()"
   ]
  },
  {
   "cell_type": "code",
   "execution_count": null,
   "id": "a01fa733",
   "metadata": {},
   "outputs": [],
   "source": [
    "### ENSG00000099940_SNAP29"
   ]
  },
  {
   "cell_type": "code",
   "execution_count": 157,
   "id": "f6f42b67",
   "metadata": {},
   "outputs": [
    {
     "name": "stderr",
     "output_type": "stream",
     "text": [
      "100%|██████████| 1/1 [02:48<00:00, 168.55s/it]\n"
     ]
    },
    {
     "data": {
      "text/html": [
       "<div>\n",
       "<style scoped>\n",
       "    .dataframe tbody tr th:only-of-type {\n",
       "        vertical-align: middle;\n",
       "    }\n",
       "\n",
       "    .dataframe tbody tr th {\n",
       "        vertical-align: top;\n",
       "    }\n",
       "\n",
       "    .dataframe thead th {\n",
       "        text-align: right;\n",
       "    }\n",
       "</style>\n",
       "<table border=\"1\" class=\"dataframe\">\n",
       "  <thead>\n",
       "    <tr style=\"text-align: right;\">\n",
       "      <th></th>\n",
       "      <th>chrom</th>\n",
       "      <th>pv</th>\n",
       "      <th>variant</th>\n",
       "    </tr>\n",
       "  </thead>\n",
       "  <tbody>\n",
       "    <tr>\n",
       "      <th>0</th>\n",
       "      <td>22</td>\n",
       "      <td>0.047961</td>\n",
       "      <td>22_21113793_G_A</td>\n",
       "    </tr>\n",
       "  </tbody>\n",
       "</table>\n",
       "</div>"
      ],
      "text/plain": [
       "  chrom        pv          variant\n",
       "0    22  0.047961  22_21113793_G_A"
      ]
     },
     "execution_count": 157,
     "metadata": {},
     "output_type": "execute_result"
    }
   ],
   "source": [
    "pvals1 = run_interaction(y=y, W=W, E=C1_gauss.values[:,0:10], E1=C1_gauss.values[:,0:10], E2=C1.values[:,0:20], G=GG, hK=hK_expanded)[0]\n",
    "pv1 = pd.DataFrame({\"chrom\":G_expanded.chrom.values,\n",
    "       \"pv\":pvals1,\n",
    "       \"variant\":G_expanded.snp.values})\n",
    "pv1.head()"
   ]
  },
  {
   "cell_type": "code",
   "execution_count": 158,
   "id": "27d1177d",
   "metadata": {},
   "outputs": [
    {
     "name": "stderr",
     "output_type": "stream",
     "text": [
      "100%|██████████| 1/1 [02:45<00:00, 165.37s/it]\n"
     ]
    },
    {
     "data": {
      "text/html": [
       "<div>\n",
       "<style scoped>\n",
       "    .dataframe tbody tr th:only-of-type {\n",
       "        vertical-align: middle;\n",
       "    }\n",
       "\n",
       "    .dataframe tbody tr th {\n",
       "        vertical-align: top;\n",
       "    }\n",
       "\n",
       "    .dataframe thead th {\n",
       "        text-align: right;\n",
       "    }\n",
       "</style>\n",
       "<table border=\"1\" class=\"dataframe\">\n",
       "  <thead>\n",
       "    <tr style=\"text-align: right;\">\n",
       "      <th></th>\n",
       "      <th>chrom</th>\n",
       "      <th>pv</th>\n",
       "      <th>variant</th>\n",
       "    </tr>\n",
       "  </thead>\n",
       "  <tbody>\n",
       "    <tr>\n",
       "      <th>0</th>\n",
       "      <td>22</td>\n",
       "      <td>0.230244</td>\n",
       "      <td>22_21113793_G_A</td>\n",
       "    </tr>\n",
       "  </tbody>\n",
       "</table>\n",
       "</div>"
      ],
      "text/plain": [
       "  chrom        pv          variant\n",
       "0    22  0.230244  22_21113793_G_A"
      ]
     },
     "execution_count": 158,
     "metadata": {},
     "output_type": "execute_result"
    }
   ],
   "source": [
    "pvals3 = run_interaction(y=y, W=W, E=C1.values[:,0:10], E1=C1.values[:,0:10], E2=C1.values[:,0:10], G=GG, hK=hK_expanded)[0]\n",
    "pv3 = pd.DataFrame({\"chrom\":G_expanded.chrom.values,\n",
    "       \"pv\":pvals3,\n",
    "       \"variant\":G_expanded.snp.values})\n",
    "pv3.head()"
   ]
  },
  {
   "cell_type": "code",
   "execution_count": null,
   "id": "a78e4fef",
   "metadata": {},
   "outputs": [],
   "source": [
    "### ENSG00000100376_FAM118A"
   ]
  },
  {
   "cell_type": "code",
   "execution_count": 149,
   "id": "42c7e223",
   "metadata": {},
   "outputs": [
    {
     "name": "stderr",
     "output_type": "stream",
     "text": [
      "100%|██████████| 2/2 [05:12<00:00, 156.28s/it]\n"
     ]
    },
    {
     "data": {
      "text/html": [
       "<div>\n",
       "<style scoped>\n",
       "    .dataframe tbody tr th:only-of-type {\n",
       "        vertical-align: middle;\n",
       "    }\n",
       "\n",
       "    .dataframe tbody tr th {\n",
       "        vertical-align: top;\n",
       "    }\n",
       "\n",
       "    .dataframe thead th {\n",
       "        text-align: right;\n",
       "    }\n",
       "</style>\n",
       "<table border=\"1\" class=\"dataframe\">\n",
       "  <thead>\n",
       "    <tr style=\"text-align: right;\">\n",
       "      <th></th>\n",
       "      <th>chrom</th>\n",
       "      <th>pv</th>\n",
       "      <th>variant</th>\n",
       "    </tr>\n",
       "  </thead>\n",
       "  <tbody>\n",
       "    <tr>\n",
       "      <th>0</th>\n",
       "      <td>22</td>\n",
       "      <td>2.631526e-03</td>\n",
       "      <td>22_45714489_T_C</td>\n",
       "    </tr>\n",
       "    <tr>\n",
       "      <th>1</th>\n",
       "      <td>22</td>\n",
       "      <td>6.865877e-07</td>\n",
       "      <td>22_45789743_T_G</td>\n",
       "    </tr>\n",
       "  </tbody>\n",
       "</table>\n",
       "</div>"
      ],
      "text/plain": [
       "  chrom            pv          variant\n",
       "0    22  2.631526e-03  22_45714489_T_C\n",
       "1    22  6.865877e-07  22_45789743_T_G"
      ]
     },
     "execution_count": 149,
     "metadata": {},
     "output_type": "execute_result"
    }
   ],
   "source": [
    "pvals1 = run_interaction(y=y, W=W, E=C1_gauss.values[:,0:10], E1=C1_gauss.values[:,0:10], E2=C1.values[:,0:20], G=GG, hK=hK_expanded)[0]\n",
    "pv1 = pd.DataFrame({\"chrom\":G_expanded.chrom.values,\n",
    "       \"pv\":pvals1,\n",
    "       \"variant\":G_expanded.snp.values})\n",
    "pv1.head()"
   ]
  },
  {
   "cell_type": "code",
   "execution_count": 150,
   "id": "5f780385",
   "metadata": {},
   "outputs": [
    {
     "name": "stderr",
     "output_type": "stream",
     "text": [
      "100%|██████████| 2/2 [05:12<00:00, 156.38s/it]\n"
     ]
    },
    {
     "data": {
      "text/html": [
       "<div>\n",
       "<style scoped>\n",
       "    .dataframe tbody tr th:only-of-type {\n",
       "        vertical-align: middle;\n",
       "    }\n",
       "\n",
       "    .dataframe tbody tr th {\n",
       "        vertical-align: top;\n",
       "    }\n",
       "\n",
       "    .dataframe thead th {\n",
       "        text-align: right;\n",
       "    }\n",
       "</style>\n",
       "<table border=\"1\" class=\"dataframe\">\n",
       "  <thead>\n",
       "    <tr style=\"text-align: right;\">\n",
       "      <th></th>\n",
       "      <th>chrom</th>\n",
       "      <th>pv</th>\n",
       "      <th>variant</th>\n",
       "    </tr>\n",
       "  </thead>\n",
       "  <tbody>\n",
       "    <tr>\n",
       "      <th>0</th>\n",
       "      <td>22</td>\n",
       "      <td>0.005250</td>\n",
       "      <td>22_45714489_T_C</td>\n",
       "    </tr>\n",
       "    <tr>\n",
       "      <th>1</th>\n",
       "      <td>22</td>\n",
       "      <td>0.000002</td>\n",
       "      <td>22_45789743_T_G</td>\n",
       "    </tr>\n",
       "  </tbody>\n",
       "</table>\n",
       "</div>"
      ],
      "text/plain": [
       "  chrom        pv          variant\n",
       "0    22  0.005250  22_45714489_T_C\n",
       "1    22  0.000002  22_45789743_T_G"
      ]
     },
     "execution_count": 150,
     "metadata": {},
     "output_type": "execute_result"
    }
   ],
   "source": [
    "pvals3 = run_interaction(y=y, W=W, E=C1.values[:,0:10], E1=C1.values[:,0:10], E2=C1.values[:,0:10], G=GG, hK=hK_expanded)[0]\n",
    "pv3 = pd.DataFrame({\"chrom\":G_expanded.chrom.values,\n",
    "       \"pv\":pvals3,\n",
    "       \"variant\":G_expanded.snp.values})\n",
    "pv3.head()"
   ]
  },
  {
   "cell_type": "code",
   "execution_count": null,
   "id": "35b59416",
   "metadata": {},
   "outputs": [],
   "source": [
    "### ENSG00000100422_CERK"
   ]
  },
  {
   "cell_type": "code",
   "execution_count": 141,
   "id": "2e69b1b4",
   "metadata": {},
   "outputs": [
    {
     "name": "stderr",
     "output_type": "stream",
     "text": [
      "100%|██████████| 3/3 [07:37<00:00, 152.44s/it]\n"
     ]
    },
    {
     "data": {
      "text/html": [
       "<div>\n",
       "<style scoped>\n",
       "    .dataframe tbody tr th:only-of-type {\n",
       "        vertical-align: middle;\n",
       "    }\n",
       "\n",
       "    .dataframe tbody tr th {\n",
       "        vertical-align: top;\n",
       "    }\n",
       "\n",
       "    .dataframe thead th {\n",
       "        text-align: right;\n",
       "    }\n",
       "</style>\n",
       "<table border=\"1\" class=\"dataframe\">\n",
       "  <thead>\n",
       "    <tr style=\"text-align: right;\">\n",
       "      <th></th>\n",
       "      <th>chrom</th>\n",
       "      <th>pv</th>\n",
       "      <th>variant</th>\n",
       "    </tr>\n",
       "  </thead>\n",
       "  <tbody>\n",
       "    <tr>\n",
       "      <th>0</th>\n",
       "      <td>22</td>\n",
       "      <td>0.647512</td>\n",
       "      <td>22_47066294_T_C</td>\n",
       "    </tr>\n",
       "    <tr>\n",
       "      <th>1</th>\n",
       "      <td>22</td>\n",
       "      <td>0.454538</td>\n",
       "      <td>22_47076718_T_G</td>\n",
       "    </tr>\n",
       "    <tr>\n",
       "      <th>2</th>\n",
       "      <td>22</td>\n",
       "      <td>0.137590</td>\n",
       "      <td>22_47124827_A_C</td>\n",
       "    </tr>\n",
       "  </tbody>\n",
       "</table>\n",
       "</div>"
      ],
      "text/plain": [
       "  chrom        pv          variant\n",
       "0    22  0.647512  22_47066294_T_C\n",
       "1    22  0.454538  22_47076718_T_G\n",
       "2    22  0.137590  22_47124827_A_C"
      ]
     },
     "execution_count": 141,
     "metadata": {},
     "output_type": "execute_result"
    }
   ],
   "source": [
    "pvals1 = run_interaction(y=y, W=W, E=C1_gauss.values[:,0:10], E1=C1_gauss.values[:,0:10], E2=C1.values[:,0:20], G=GG, hK=hK_expanded)[0]\n",
    "pv1 = pd.DataFrame({\"chrom\":G_expanded.chrom.values,\n",
    "       \"pv\":pvals1,\n",
    "       \"variant\":G_expanded.snp.values})\n",
    "pv1.head()"
   ]
  },
  {
   "cell_type": "code",
   "execution_count": 142,
   "id": "b2ab6504",
   "metadata": {},
   "outputs": [
    {
     "name": "stderr",
     "output_type": "stream",
     "text": [
      "100%|██████████| 3/3 [07:51<00:00, 157.06s/it]\n"
     ]
    },
    {
     "data": {
      "text/html": [
       "<div>\n",
       "<style scoped>\n",
       "    .dataframe tbody tr th:only-of-type {\n",
       "        vertical-align: middle;\n",
       "    }\n",
       "\n",
       "    .dataframe tbody tr th {\n",
       "        vertical-align: top;\n",
       "    }\n",
       "\n",
       "    .dataframe thead th {\n",
       "        text-align: right;\n",
       "    }\n",
       "</style>\n",
       "<table border=\"1\" class=\"dataframe\">\n",
       "  <thead>\n",
       "    <tr style=\"text-align: right;\">\n",
       "      <th></th>\n",
       "      <th>chrom</th>\n",
       "      <th>pv</th>\n",
       "      <th>variant</th>\n",
       "    </tr>\n",
       "  </thead>\n",
       "  <tbody>\n",
       "    <tr>\n",
       "      <th>0</th>\n",
       "      <td>22</td>\n",
       "      <td>0.510671</td>\n",
       "      <td>22_47066294_T_C</td>\n",
       "    </tr>\n",
       "    <tr>\n",
       "      <th>1</th>\n",
       "      <td>22</td>\n",
       "      <td>0.407241</td>\n",
       "      <td>22_47076718_T_G</td>\n",
       "    </tr>\n",
       "    <tr>\n",
       "      <th>2</th>\n",
       "      <td>22</td>\n",
       "      <td>0.032559</td>\n",
       "      <td>22_47124827_A_C</td>\n",
       "    </tr>\n",
       "  </tbody>\n",
       "</table>\n",
       "</div>"
      ],
      "text/plain": [
       "  chrom        pv          variant\n",
       "0    22  0.510671  22_47066294_T_C\n",
       "1    22  0.407241  22_47076718_T_G\n",
       "2    22  0.032559  22_47124827_A_C"
      ]
     },
     "execution_count": 142,
     "metadata": {},
     "output_type": "execute_result"
    }
   ],
   "source": [
    "pvals3 = run_interaction(y=y, W=W, E=C1.values[:,0:10], E1=C1.values[:,0:10], E2=C1.values[:,0:10], G=GG, hK=hK_expanded)[0]\n",
    "pv3 = pd.DataFrame({\"chrom\":G_expanded.chrom.values,\n",
    "       \"pv\":pvals3,\n",
    "       \"variant\":G_expanded.snp.values})\n",
    "pv3.head()"
   ]
  },
  {
   "cell_type": "code",
   "execution_count": null,
   "id": "c55200d6",
   "metadata": {},
   "outputs": [],
   "source": [
    "### ENSG00000215012_C22orf29"
   ]
  },
  {
   "cell_type": "code",
   "execution_count": 129,
   "id": "a6c4cc64",
   "metadata": {},
   "outputs": [
    {
     "name": "stderr",
     "output_type": "stream",
     "text": [
      "100%|██████████| 1/1 [02:36<00:00, 156.60s/it]\n"
     ]
    },
    {
     "data": {
      "text/html": [
       "<div>\n",
       "<style scoped>\n",
       "    .dataframe tbody tr th:only-of-type {\n",
       "        vertical-align: middle;\n",
       "    }\n",
       "\n",
       "    .dataframe tbody tr th {\n",
       "        vertical-align: top;\n",
       "    }\n",
       "\n",
       "    .dataframe thead th {\n",
       "        text-align: right;\n",
       "    }\n",
       "</style>\n",
       "<table border=\"1\" class=\"dataframe\">\n",
       "  <thead>\n",
       "    <tr style=\"text-align: right;\">\n",
       "      <th></th>\n",
       "      <th>chrom</th>\n",
       "      <th>pv</th>\n",
       "      <th>variant</th>\n",
       "    </tr>\n",
       "  </thead>\n",
       "  <tbody>\n",
       "    <tr>\n",
       "      <th>0</th>\n",
       "      <td>22</td>\n",
       "      <td>0.003417</td>\n",
       "      <td>22_19833781_G_A</td>\n",
       "    </tr>\n",
       "  </tbody>\n",
       "</table>\n",
       "</div>"
      ],
      "text/plain": [
       "  chrom        pv          variant\n",
       "0    22  0.003417  22_19833781_G_A"
      ]
     },
     "execution_count": 129,
     "metadata": {},
     "output_type": "execute_result"
    }
   ],
   "source": [
    "pvals1 = run_interaction(y=y, W=W, E=C1_gauss.values[:,0:10], E1=C1_gauss.values[:,0:10], E2=C1.values[:,0:20], G=GG, hK=hK_expanded)[0]\n",
    "pv1 = pd.DataFrame({\"chrom\":G_expanded.chrom.values,\n",
    "       \"pv\":pvals1,\n",
    "       \"variant\":G_expanded.snp.values})\n",
    "pv1.head()"
   ]
  },
  {
   "cell_type": "code",
   "execution_count": 130,
   "id": "ea07ab17",
   "metadata": {},
   "outputs": [
    {
     "name": "stderr",
     "output_type": "stream",
     "text": [
      "100%|██████████| 1/1 [02:38<00:00, 158.80s/it]\n"
     ]
    },
    {
     "data": {
      "text/html": [
       "<div>\n",
       "<style scoped>\n",
       "    .dataframe tbody tr th:only-of-type {\n",
       "        vertical-align: middle;\n",
       "    }\n",
       "\n",
       "    .dataframe tbody tr th {\n",
       "        vertical-align: top;\n",
       "    }\n",
       "\n",
       "    .dataframe thead th {\n",
       "        text-align: right;\n",
       "    }\n",
       "</style>\n",
       "<table border=\"1\" class=\"dataframe\">\n",
       "  <thead>\n",
       "    <tr style=\"text-align: right;\">\n",
       "      <th></th>\n",
       "      <th>chrom</th>\n",
       "      <th>pv</th>\n",
       "      <th>variant</th>\n",
       "    </tr>\n",
       "  </thead>\n",
       "  <tbody>\n",
       "    <tr>\n",
       "      <th>0</th>\n",
       "      <td>22</td>\n",
       "      <td>0.00625</td>\n",
       "      <td>22_19833781_G_A</td>\n",
       "    </tr>\n",
       "  </tbody>\n",
       "</table>\n",
       "</div>"
      ],
      "text/plain": [
       "  chrom       pv          variant\n",
       "0    22  0.00625  22_19833781_G_A"
      ]
     },
     "execution_count": 130,
     "metadata": {},
     "output_type": "execute_result"
    }
   ],
   "source": [
    "pvals3 = run_interaction(y=y, W=W, E=C1.values[:,0:10], E1=C1.values[:,0:10], E2=C1.values[:,0:10], G=GG, hK=hK_expanded)[0]\n",
    "pv3 = pd.DataFrame({\"chrom\":G_expanded.chrom.values,\n",
    "       \"pv\":pvals3,\n",
    "       \"variant\":G_expanded.snp.values})\n",
    "pv3.head()"
   ]
  },
  {
   "cell_type": "code",
   "execution_count": null,
   "id": "430c9f90",
   "metadata": {},
   "outputs": [],
   "source": [
    "### ENSG00000099942_CRKL"
   ]
  },
  {
   "cell_type": "code",
   "execution_count": 121,
   "id": "dba668f7",
   "metadata": {},
   "outputs": [
    {
     "name": "stderr",
     "output_type": "stream",
     "text": [
      "100%|██████████| 1/1 [02:39<00:00, 159.49s/it]\n"
     ]
    },
    {
     "data": {
      "text/html": [
       "<div>\n",
       "<style scoped>\n",
       "    .dataframe tbody tr th:only-of-type {\n",
       "        vertical-align: middle;\n",
       "    }\n",
       "\n",
       "    .dataframe tbody tr th {\n",
       "        vertical-align: top;\n",
       "    }\n",
       "\n",
       "    .dataframe thead th {\n",
       "        text-align: right;\n",
       "    }\n",
       "</style>\n",
       "<table border=\"1\" class=\"dataframe\">\n",
       "  <thead>\n",
       "    <tr style=\"text-align: right;\">\n",
       "      <th></th>\n",
       "      <th>chrom</th>\n",
       "      <th>pv</th>\n",
       "      <th>variant</th>\n",
       "    </tr>\n",
       "  </thead>\n",
       "  <tbody>\n",
       "    <tr>\n",
       "      <th>0</th>\n",
       "      <td>22</td>\n",
       "      <td>0.020621</td>\n",
       "      <td>22_21309934_C_G</td>\n",
       "    </tr>\n",
       "  </tbody>\n",
       "</table>\n",
       "</div>"
      ],
      "text/plain": [
       "  chrom        pv          variant\n",
       "0    22  0.020621  22_21309934_C_G"
      ]
     },
     "execution_count": 121,
     "metadata": {},
     "output_type": "execute_result"
    }
   ],
   "source": [
    "pvals1 = run_interaction(y=y, W=W, E=C1_gauss.values[:,0:10], E1=C1_gauss.values[:,0:10], E2=C1.values[:,0:20], G=GG, hK=hK_expanded)[0]\n",
    "pv1 = pd.DataFrame({\"chrom\":G_expanded.chrom.values,\n",
    "       \"pv\":pvals1,\n",
    "       \"variant\":G_expanded.snp.values})\n",
    "pv1.head()"
   ]
  },
  {
   "cell_type": "code",
   "execution_count": 122,
   "id": "9d5033fb",
   "metadata": {},
   "outputs": [
    {
     "name": "stderr",
     "output_type": "stream",
     "text": [
      "100%|██████████| 1/1 [02:39<00:00, 159.39s/it]\n"
     ]
    },
    {
     "data": {
      "text/html": [
       "<div>\n",
       "<style scoped>\n",
       "    .dataframe tbody tr th:only-of-type {\n",
       "        vertical-align: middle;\n",
       "    }\n",
       "\n",
       "    .dataframe tbody tr th {\n",
       "        vertical-align: top;\n",
       "    }\n",
       "\n",
       "    .dataframe thead th {\n",
       "        text-align: right;\n",
       "    }\n",
       "</style>\n",
       "<table border=\"1\" class=\"dataframe\">\n",
       "  <thead>\n",
       "    <tr style=\"text-align: right;\">\n",
       "      <th></th>\n",
       "      <th>chrom</th>\n",
       "      <th>pv</th>\n",
       "      <th>variant</th>\n",
       "    </tr>\n",
       "  </thead>\n",
       "  <tbody>\n",
       "    <tr>\n",
       "      <th>0</th>\n",
       "      <td>22</td>\n",
       "      <td>0.129038</td>\n",
       "      <td>22_21309934_C_G</td>\n",
       "    </tr>\n",
       "  </tbody>\n",
       "</table>\n",
       "</div>"
      ],
      "text/plain": [
       "  chrom        pv          variant\n",
       "0    22  0.129038  22_21309934_C_G"
      ]
     },
     "execution_count": 122,
     "metadata": {},
     "output_type": "execute_result"
    }
   ],
   "source": [
    "pvals3 = run_interaction(y=y, W=W, E=C1.values[:,0:10], E1=C1.values[:,0:10], E2=C1.values[:,0:10], G=GG, hK=hK_expanded)[0]\n",
    "pv3 = pd.DataFrame({\"chrom\":G_expanded.chrom.values,\n",
    "       \"pv\":pvals3,\n",
    "       \"variant\":G_expanded.snp.values})\n",
    "pv3.head()"
   ]
  },
  {
   "cell_type": "code",
   "execution_count": null,
   "id": "283c8a34",
   "metadata": {},
   "outputs": [],
   "source": [
    "### ENSG00000128283_CDC42EP1"
   ]
  },
  {
   "cell_type": "code",
   "execution_count": 113,
   "id": "1e553862",
   "metadata": {},
   "outputs": [
    {
     "name": "stderr",
     "output_type": "stream",
     "text": [
      "100%|██████████| 1/1 [02:30<00:00, 150.85s/it]\n"
     ]
    },
    {
     "data": {
      "text/html": [
       "<div>\n",
       "<style scoped>\n",
       "    .dataframe tbody tr th:only-of-type {\n",
       "        vertical-align: middle;\n",
       "    }\n",
       "\n",
       "    .dataframe tbody tr th {\n",
       "        vertical-align: top;\n",
       "    }\n",
       "\n",
       "    .dataframe thead th {\n",
       "        text-align: right;\n",
       "    }\n",
       "</style>\n",
       "<table border=\"1\" class=\"dataframe\">\n",
       "  <thead>\n",
       "    <tr style=\"text-align: right;\">\n",
       "      <th></th>\n",
       "      <th>chrom</th>\n",
       "      <th>pv</th>\n",
       "      <th>variant</th>\n",
       "    </tr>\n",
       "  </thead>\n",
       "  <tbody>\n",
       "    <tr>\n",
       "      <th>0</th>\n",
       "      <td>22</td>\n",
       "      <td>0.129119</td>\n",
       "      <td>22_37949661_A_T</td>\n",
       "    </tr>\n",
       "  </tbody>\n",
       "</table>\n",
       "</div>"
      ],
      "text/plain": [
       "  chrom        pv          variant\n",
       "0    22  0.129119  22_37949661_A_T"
      ]
     },
     "execution_count": 113,
     "metadata": {},
     "output_type": "execute_result"
    }
   ],
   "source": [
    "pvals1 = run_interaction(y=y, W=W, E=C1_gauss.values[:,0:10], E1=C1_gauss.values[:,0:10], E2=C1.values[:,0:20], G=GG, hK=hK_expanded)[0]\n",
    "pv1 = pd.DataFrame({\"chrom\":G_expanded.chrom.values,\n",
    "       \"pv\":pvals1,\n",
    "       \"variant\":G_expanded.snp.values})\n",
    "pv1.head()"
   ]
  },
  {
   "cell_type": "code",
   "execution_count": 114,
   "id": "a83bdd29",
   "metadata": {},
   "outputs": [
    {
     "name": "stderr",
     "output_type": "stream",
     "text": [
      "100%|██████████| 1/1 [02:34<00:00, 154.43s/it]\n"
     ]
    },
    {
     "data": {
      "text/html": [
       "<div>\n",
       "<style scoped>\n",
       "    .dataframe tbody tr th:only-of-type {\n",
       "        vertical-align: middle;\n",
       "    }\n",
       "\n",
       "    .dataframe tbody tr th {\n",
       "        vertical-align: top;\n",
       "    }\n",
       "\n",
       "    .dataframe thead th {\n",
       "        text-align: right;\n",
       "    }\n",
       "</style>\n",
       "<table border=\"1\" class=\"dataframe\">\n",
       "  <thead>\n",
       "    <tr style=\"text-align: right;\">\n",
       "      <th></th>\n",
       "      <th>chrom</th>\n",
       "      <th>pv</th>\n",
       "      <th>variant</th>\n",
       "    </tr>\n",
       "  </thead>\n",
       "  <tbody>\n",
       "    <tr>\n",
       "      <th>0</th>\n",
       "      <td>22</td>\n",
       "      <td>0.11841</td>\n",
       "      <td>22_37949661_A_T</td>\n",
       "    </tr>\n",
       "  </tbody>\n",
       "</table>\n",
       "</div>"
      ],
      "text/plain": [
       "  chrom       pv          variant\n",
       "0    22  0.11841  22_37949661_A_T"
      ]
     },
     "execution_count": 114,
     "metadata": {},
     "output_type": "execute_result"
    }
   ],
   "source": [
    "pvals3 = run_interaction(y=y, W=W, E=C1.values[:,0:10], E1=C1.values[:,0:10], E2=C1.values[:,0:10], G=GG, hK=hK_expanded)[0]\n",
    "pv3 = pd.DataFrame({\"chrom\":G_expanded.chrom.values,\n",
    "       \"pv\":pvals3,\n",
    "       \"variant\":G_expanded.snp.values})\n",
    "pv3.head()"
   ]
  },
  {
   "cell_type": "code",
   "execution_count": null,
   "id": "a8f49eb3",
   "metadata": {},
   "outputs": [],
   "source": [
    "### ENSG00000133433_GSTT2B"
   ]
  },
  {
   "cell_type": "code",
   "execution_count": 105,
   "id": "749754ba",
   "metadata": {},
   "outputs": [
    {
     "name": "stderr",
     "output_type": "stream",
     "text": [
      "100%|██████████| 3/3 [07:34<00:00, 151.52s/it]\n"
     ]
    },
    {
     "data": {
      "text/html": [
       "<div>\n",
       "<style scoped>\n",
       "    .dataframe tbody tr th:only-of-type {\n",
       "        vertical-align: middle;\n",
       "    }\n",
       "\n",
       "    .dataframe tbody tr th {\n",
       "        vertical-align: top;\n",
       "    }\n",
       "\n",
       "    .dataframe thead th {\n",
       "        text-align: right;\n",
       "    }\n",
       "</style>\n",
       "<table border=\"1\" class=\"dataframe\">\n",
       "  <thead>\n",
       "    <tr style=\"text-align: right;\">\n",
       "      <th></th>\n",
       "      <th>chrom</th>\n",
       "      <th>pv</th>\n",
       "      <th>variant</th>\n",
       "    </tr>\n",
       "  </thead>\n",
       "  <tbody>\n",
       "    <tr>\n",
       "      <th>0</th>\n",
       "      <td>22</td>\n",
       "      <td>0.000772</td>\n",
       "      <td>22_24314006_G_T</td>\n",
       "    </tr>\n",
       "    <tr>\n",
       "      <th>1</th>\n",
       "      <td>22</td>\n",
       "      <td>0.000173</td>\n",
       "      <td>22_24323514_C_T</td>\n",
       "    </tr>\n",
       "    <tr>\n",
       "      <th>2</th>\n",
       "      <td>22</td>\n",
       "      <td>0.066520</td>\n",
       "      <td>22_24335228_A_C</td>\n",
       "    </tr>\n",
       "  </tbody>\n",
       "</table>\n",
       "</div>"
      ],
      "text/plain": [
       "  chrom        pv          variant\n",
       "0    22  0.000772  22_24314006_G_T\n",
       "1    22  0.000173  22_24323514_C_T\n",
       "2    22  0.066520  22_24335228_A_C"
      ]
     },
     "execution_count": 105,
     "metadata": {},
     "output_type": "execute_result"
    }
   ],
   "source": [
    "pvals1 = run_interaction(y=y, W=W, E=C1_gauss.values[:,0:10], E1=C1_gauss.values[:,0:10], E2=C1.values[:,0:20], G=GG, hK=hK_expanded)[0]\n",
    "pv1 = pd.DataFrame({\"chrom\":G_expanded.chrom.values,\n",
    "       \"pv\":pvals1,\n",
    "       \"variant\":G_expanded.snp.values})\n",
    "pv1.head()"
   ]
  },
  {
   "cell_type": "code",
   "execution_count": 106,
   "id": "96db583a",
   "metadata": {},
   "outputs": [
    {
     "name": "stderr",
     "output_type": "stream",
     "text": [
      "100%|██████████| 3/3 [07:42<00:00, 154.16s/it]\n"
     ]
    },
    {
     "data": {
      "text/html": [
       "<div>\n",
       "<style scoped>\n",
       "    .dataframe tbody tr th:only-of-type {\n",
       "        vertical-align: middle;\n",
       "    }\n",
       "\n",
       "    .dataframe tbody tr th {\n",
       "        vertical-align: top;\n",
       "    }\n",
       "\n",
       "    .dataframe thead th {\n",
       "        text-align: right;\n",
       "    }\n",
       "</style>\n",
       "<table border=\"1\" class=\"dataframe\">\n",
       "  <thead>\n",
       "    <tr style=\"text-align: right;\">\n",
       "      <th></th>\n",
       "      <th>chrom</th>\n",
       "      <th>pv</th>\n",
       "      <th>variant</th>\n",
       "    </tr>\n",
       "  </thead>\n",
       "  <tbody>\n",
       "    <tr>\n",
       "      <th>0</th>\n",
       "      <td>22</td>\n",
       "      <td>0.000266</td>\n",
       "      <td>22_24314006_G_T</td>\n",
       "    </tr>\n",
       "    <tr>\n",
       "      <th>1</th>\n",
       "      <td>22</td>\n",
       "      <td>0.000696</td>\n",
       "      <td>22_24323514_C_T</td>\n",
       "    </tr>\n",
       "    <tr>\n",
       "      <th>2</th>\n",
       "      <td>22</td>\n",
       "      <td>0.008577</td>\n",
       "      <td>22_24335228_A_C</td>\n",
       "    </tr>\n",
       "  </tbody>\n",
       "</table>\n",
       "</div>"
      ],
      "text/plain": [
       "  chrom        pv          variant\n",
       "0    22  0.000266  22_24314006_G_T\n",
       "1    22  0.000696  22_24323514_C_T\n",
       "2    22  0.008577  22_24335228_A_C"
      ]
     },
     "execution_count": 106,
     "metadata": {},
     "output_type": "execute_result"
    }
   ],
   "source": [
    "pvals3 = run_interaction(y=y, W=W, E=C1.values[:,0:10], E1=C1.values[:,0:10], E2=C1.values[:,0:10], G=GG, hK=hK_expanded)[0]\n",
    "pv3 = pd.DataFrame({\"chrom\":G_expanded.chrom.values,\n",
    "       \"pv\":pvals3,\n",
    "       \"variant\":G_expanded.snp.values})\n",
    "pv3.head()"
   ]
  },
  {
   "cell_type": "code",
   "execution_count": null,
   "id": "1cb5a497",
   "metadata": {},
   "outputs": [],
   "source": [
    "### ENSG00000100122_CRYBB1"
   ]
  },
  {
   "cell_type": "code",
   "execution_count": 97,
   "id": "f70caad8",
   "metadata": {},
   "outputs": [
    {
     "name": "stderr",
     "output_type": "stream",
     "text": [
      "100%|██████████| 1/1 [02:34<00:00, 154.90s/it]\n"
     ]
    },
    {
     "data": {
      "text/html": [
       "<div>\n",
       "<style scoped>\n",
       "    .dataframe tbody tr th:only-of-type {\n",
       "        vertical-align: middle;\n",
       "    }\n",
       "\n",
       "    .dataframe tbody tr th {\n",
       "        vertical-align: top;\n",
       "    }\n",
       "\n",
       "    .dataframe thead th {\n",
       "        text-align: right;\n",
       "    }\n",
       "</style>\n",
       "<table border=\"1\" class=\"dataframe\">\n",
       "  <thead>\n",
       "    <tr style=\"text-align: right;\">\n",
       "      <th></th>\n",
       "      <th>chrom</th>\n",
       "      <th>pv</th>\n",
       "      <th>variant</th>\n",
       "    </tr>\n",
       "  </thead>\n",
       "  <tbody>\n",
       "    <tr>\n",
       "      <th>0</th>\n",
       "      <td>22</td>\n",
       "      <td>2.674606e-07</td>\n",
       "      <td>22_26996946_G_A</td>\n",
       "    </tr>\n",
       "  </tbody>\n",
       "</table>\n",
       "</div>"
      ],
      "text/plain": [
       "  chrom            pv          variant\n",
       "0    22  2.674606e-07  22_26996946_G_A"
      ]
     },
     "execution_count": 97,
     "metadata": {},
     "output_type": "execute_result"
    }
   ],
   "source": [
    "pvals1 = run_interaction(y=y, W=W, E=C1_gauss.values[:,0:10], E1=C1_gauss.values[:,0:10], E2=C1.values[:,0:20], G=GG, hK=hK_expanded)[0]\n",
    "pv1 = pd.DataFrame({\"chrom\":G_expanded.chrom.values,\n",
    "       \"pv\":pvals1,\n",
    "       \"variant\":G_expanded.snp.values})\n",
    "pv1.head()"
   ]
  },
  {
   "cell_type": "code",
   "execution_count": 98,
   "id": "d094ffad",
   "metadata": {},
   "outputs": [
    {
     "name": "stderr",
     "output_type": "stream",
     "text": [
      "100%|██████████| 1/1 [02:42<00:00, 162.95s/it]\n"
     ]
    },
    {
     "data": {
      "text/html": [
       "<div>\n",
       "<style scoped>\n",
       "    .dataframe tbody tr th:only-of-type {\n",
       "        vertical-align: middle;\n",
       "    }\n",
       "\n",
       "    .dataframe tbody tr th {\n",
       "        vertical-align: top;\n",
       "    }\n",
       "\n",
       "    .dataframe thead th {\n",
       "        text-align: right;\n",
       "    }\n",
       "</style>\n",
       "<table border=\"1\" class=\"dataframe\">\n",
       "  <thead>\n",
       "    <tr style=\"text-align: right;\">\n",
       "      <th></th>\n",
       "      <th>chrom</th>\n",
       "      <th>pv</th>\n",
       "      <th>variant</th>\n",
       "    </tr>\n",
       "  </thead>\n",
       "  <tbody>\n",
       "    <tr>\n",
       "      <th>0</th>\n",
       "      <td>22</td>\n",
       "      <td>4.862919e-08</td>\n",
       "      <td>22_26996946_G_A</td>\n",
       "    </tr>\n",
       "  </tbody>\n",
       "</table>\n",
       "</div>"
      ],
      "text/plain": [
       "  chrom            pv          variant\n",
       "0    22  4.862919e-08  22_26996946_G_A"
      ]
     },
     "execution_count": 98,
     "metadata": {},
     "output_type": "execute_result"
    }
   ],
   "source": [
    "pvals3 = run_interaction(y=y, W=W, E=C1.values[:,0:10], E1=C1.values[:,0:10], E2=C1.values[:,0:10], G=GG, hK=hK_expanded)[0]\n",
    "pv3 = pd.DataFrame({\"chrom\":G_expanded.chrom.values,\n",
    "       \"pv\":pvals3,\n",
    "       \"variant\":G_expanded.snp.values})\n",
    "pv3.head()"
   ]
  },
  {
   "cell_type": "code",
   "execution_count": null,
   "id": "4670f2d8",
   "metadata": {},
   "outputs": [],
   "source": [
    "### ENSG00000100429_HDAC10"
   ]
  },
  {
   "cell_type": "code",
   "execution_count": 72,
   "id": "4d4664ae",
   "metadata": {},
   "outputs": [
    {
     "name": "stderr",
     "output_type": "stream",
     "text": [
      "100%|██████████| 2/2 [05:25<00:00, 162.52s/it]\n"
     ]
    },
    {
     "data": {
      "text/html": [
       "<div>\n",
       "<style scoped>\n",
       "    .dataframe tbody tr th:only-of-type {\n",
       "        vertical-align: middle;\n",
       "    }\n",
       "\n",
       "    .dataframe tbody tr th {\n",
       "        vertical-align: top;\n",
       "    }\n",
       "\n",
       "    .dataframe thead th {\n",
       "        text-align: right;\n",
       "    }\n",
       "</style>\n",
       "<table border=\"1\" class=\"dataframe\">\n",
       "  <thead>\n",
       "    <tr style=\"text-align: right;\">\n",
       "      <th></th>\n",
       "      <th>chrom</th>\n",
       "      <th>pv</th>\n",
       "      <th>variant</th>\n",
       "    </tr>\n",
       "  </thead>\n",
       "  <tbody>\n",
       "    <tr>\n",
       "      <th>0</th>\n",
       "      <td>22</td>\n",
       "      <td>0.175667</td>\n",
       "      <td>22_50674232_G_A</td>\n",
       "    </tr>\n",
       "    <tr>\n",
       "      <th>1</th>\n",
       "      <td>22</td>\n",
       "      <td>0.440837</td>\n",
       "      <td>22_50676459_A_G</td>\n",
       "    </tr>\n",
       "  </tbody>\n",
       "</table>\n",
       "</div>"
      ],
      "text/plain": [
       "  chrom        pv          variant\n",
       "0    22  0.175667  22_50674232_G_A\n",
       "1    22  0.440837  22_50676459_A_G"
      ]
     },
     "execution_count": 72,
     "metadata": {},
     "output_type": "execute_result"
    }
   ],
   "source": [
    "pvals1 = run_interaction(y=y, W=W, E=C1_gauss.values[:,0:10], E1=C1_gauss.values[:,0:10], E2=C1.values[:,0:20], G=GG, hK=hK_expanded)[0]\n",
    "pv1 = pd.DataFrame({\"chrom\":G_expanded.chrom.values,\n",
    "       \"pv\":pvals1,\n",
    "       \"variant\":G_expanded.snp.values})\n",
    "pv1.head()"
   ]
  },
  {
   "cell_type": "code",
   "execution_count": 73,
   "id": "464553f2",
   "metadata": {},
   "outputs": [
    {
     "name": "stderr",
     "output_type": "stream",
     "text": [
      "100%|██████████| 2/2 [05:35<00:00, 167.51s/it]\n"
     ]
    },
    {
     "data": {
      "text/html": [
       "<div>\n",
       "<style scoped>\n",
       "    .dataframe tbody tr th:only-of-type {\n",
       "        vertical-align: middle;\n",
       "    }\n",
       "\n",
       "    .dataframe tbody tr th {\n",
       "        vertical-align: top;\n",
       "    }\n",
       "\n",
       "    .dataframe thead th {\n",
       "        text-align: right;\n",
       "    }\n",
       "</style>\n",
       "<table border=\"1\" class=\"dataframe\">\n",
       "  <thead>\n",
       "    <tr style=\"text-align: right;\">\n",
       "      <th></th>\n",
       "      <th>chrom</th>\n",
       "      <th>pv</th>\n",
       "      <th>variant</th>\n",
       "    </tr>\n",
       "  </thead>\n",
       "  <tbody>\n",
       "    <tr>\n",
       "      <th>0</th>\n",
       "      <td>22</td>\n",
       "      <td>0.035383</td>\n",
       "      <td>22_50674232_G_A</td>\n",
       "    </tr>\n",
       "    <tr>\n",
       "      <th>1</th>\n",
       "      <td>22</td>\n",
       "      <td>0.225566</td>\n",
       "      <td>22_50676459_A_G</td>\n",
       "    </tr>\n",
       "  </tbody>\n",
       "</table>\n",
       "</div>"
      ],
      "text/plain": [
       "  chrom        pv          variant\n",
       "0    22  0.035383  22_50674232_G_A\n",
       "1    22  0.225566  22_50676459_A_G"
      ]
     },
     "execution_count": 73,
     "metadata": {},
     "output_type": "execute_result"
    }
   ],
   "source": [
    "pvals3 = run_interaction(y=y, W=W, E=C1.values[:,0:10], E1=C1.values[:,0:10], E2=C1.values[:,0:10], G=GG, hK=hK_expanded)[0]\n",
    "pv3 = pd.DataFrame({\"chrom\":G_expanded.chrom.values,\n",
    "       \"pv\":pvals3,\n",
    "       \"variant\":G_expanded.snp.values})\n",
    "pv3.head()"
   ]
  },
  {
   "cell_type": "code",
   "execution_count": null,
   "id": "dcf4effa",
   "metadata": {},
   "outputs": [],
   "source": [
    "### ENSG00000099984_GSTT2"
   ]
  },
  {
   "cell_type": "code",
   "execution_count": 66,
   "id": "9b5e35e7",
   "metadata": {},
   "outputs": [
    {
     "name": "stderr",
     "output_type": "stream",
     "text": [
      "100%|██████████| 2/2 [05:00<00:00, 150.28s/it]\n"
     ]
    },
    {
     "data": {
      "text/html": [
       "<div>\n",
       "<style scoped>\n",
       "    .dataframe tbody tr th:only-of-type {\n",
       "        vertical-align: middle;\n",
       "    }\n",
       "\n",
       "    .dataframe tbody tr th {\n",
       "        vertical-align: top;\n",
       "    }\n",
       "\n",
       "    .dataframe thead th {\n",
       "        text-align: right;\n",
       "    }\n",
       "</style>\n",
       "<table border=\"1\" class=\"dataframe\">\n",
       "  <thead>\n",
       "    <tr style=\"text-align: right;\">\n",
       "      <th></th>\n",
       "      <th>chrom</th>\n",
       "      <th>pv</th>\n",
       "      <th>variant</th>\n",
       "    </tr>\n",
       "  </thead>\n",
       "  <tbody>\n",
       "    <tr>\n",
       "      <th>0</th>\n",
       "      <td>22</td>\n",
       "      <td>0.034528</td>\n",
       "      <td>22_24255296_C_T</td>\n",
       "    </tr>\n",
       "    <tr>\n",
       "      <th>1</th>\n",
       "      <td>22</td>\n",
       "      <td>0.000027</td>\n",
       "      <td>22_24323514_C_T</td>\n",
       "    </tr>\n",
       "  </tbody>\n",
       "</table>\n",
       "</div>"
      ],
      "text/plain": [
       "  chrom        pv          variant\n",
       "0    22  0.034528  22_24255296_C_T\n",
       "1    22  0.000027  22_24323514_C_T"
      ]
     },
     "execution_count": 66,
     "metadata": {},
     "output_type": "execute_result"
    }
   ],
   "source": [
    "pvals1 = run_interaction(y=y, W=W, E=C1_gauss.values[:,0:10], E1=C1_gauss.values[:,0:10], E2=C1.values[:,0:20], G=GG, hK=hK_expanded)[0]\n",
    "pv1 = pd.DataFrame({\"chrom\":G_expanded.chrom.values,\n",
    "       \"pv\":pvals1,\n",
    "       \"variant\":G_expanded.snp.values})\n",
    "pv1.head()"
   ]
  },
  {
   "cell_type": "code",
   "execution_count": 67,
   "id": "c3901657",
   "metadata": {},
   "outputs": [
    {
     "name": "stderr",
     "output_type": "stream",
     "text": [
      "100%|██████████| 2/2 [04:54<00:00, 147.10s/it]\n"
     ]
    },
    {
     "data": {
      "text/html": [
       "<div>\n",
       "<style scoped>\n",
       "    .dataframe tbody tr th:only-of-type {\n",
       "        vertical-align: middle;\n",
       "    }\n",
       "\n",
       "    .dataframe tbody tr th {\n",
       "        vertical-align: top;\n",
       "    }\n",
       "\n",
       "    .dataframe thead th {\n",
       "        text-align: right;\n",
       "    }\n",
       "</style>\n",
       "<table border=\"1\" class=\"dataframe\">\n",
       "  <thead>\n",
       "    <tr style=\"text-align: right;\">\n",
       "      <th></th>\n",
       "      <th>chrom</th>\n",
       "      <th>pv</th>\n",
       "      <th>variant</th>\n",
       "    </tr>\n",
       "  </thead>\n",
       "  <tbody>\n",
       "    <tr>\n",
       "      <th>0</th>\n",
       "      <td>22</td>\n",
       "      <td>0.011071</td>\n",
       "      <td>22_24255296_C_T</td>\n",
       "    </tr>\n",
       "    <tr>\n",
       "      <th>1</th>\n",
       "      <td>22</td>\n",
       "      <td>0.000676</td>\n",
       "      <td>22_24323514_C_T</td>\n",
       "    </tr>\n",
       "  </tbody>\n",
       "</table>\n",
       "</div>"
      ],
      "text/plain": [
       "  chrom        pv          variant\n",
       "0    22  0.011071  22_24255296_C_T\n",
       "1    22  0.000676  22_24323514_C_T"
      ]
     },
     "execution_count": 67,
     "metadata": {},
     "output_type": "execute_result"
    }
   ],
   "source": [
    "pvals3 = run_interaction(y=y, W=W, E=C1.values[:,0:10], E1=C1.values[:,0:10], E2=C1.values[:,0:10], G=GG, hK=hK_expanded)[0]\n",
    "pv3 = pd.DataFrame({\"chrom\":G_expanded.chrom.values,\n",
    "       \"pv\":pvals3,\n",
    "       \"variant\":G_expanded.snp.values})\n",
    "pv3.head()"
   ]
  },
  {
   "cell_type": "code",
   "execution_count": null,
   "id": "dccf452f",
   "metadata": {},
   "outputs": [],
   "source": [
    "### ENSG00000179750_APOBEC3B"
   ]
  },
  {
   "cell_type": "code",
   "execution_count": 60,
   "id": "61fee51d",
   "metadata": {},
   "outputs": [
    {
     "name": "stderr",
     "output_type": "stream",
     "text": [
      "100%|██████████| 2/2 [05:04<00:00, 152.13s/it]\n"
     ]
    },
    {
     "data": {
      "text/html": [
       "<div>\n",
       "<style scoped>\n",
       "    .dataframe tbody tr th:only-of-type {\n",
       "        vertical-align: middle;\n",
       "    }\n",
       "\n",
       "    .dataframe tbody tr th {\n",
       "        vertical-align: top;\n",
       "    }\n",
       "\n",
       "    .dataframe thead th {\n",
       "        text-align: right;\n",
       "    }\n",
       "</style>\n",
       "<table border=\"1\" class=\"dataframe\">\n",
       "  <thead>\n",
       "    <tr style=\"text-align: right;\">\n",
       "      <th></th>\n",
       "      <th>chrom</th>\n",
       "      <th>pv</th>\n",
       "      <th>variant</th>\n",
       "    </tr>\n",
       "  </thead>\n",
       "  <tbody>\n",
       "    <tr>\n",
       "      <th>0</th>\n",
       "      <td>22</td>\n",
       "      <td>0.075479</td>\n",
       "      <td>22_39358037_A_C</td>\n",
       "    </tr>\n",
       "    <tr>\n",
       "      <th>1</th>\n",
       "      <td>22</td>\n",
       "      <td>0.461629</td>\n",
       "      <td>22_39383918_G_A</td>\n",
       "    </tr>\n",
       "  </tbody>\n",
       "</table>\n",
       "</div>"
      ],
      "text/plain": [
       "  chrom        pv          variant\n",
       "0    22  0.075479  22_39358037_A_C\n",
       "1    22  0.461629  22_39383918_G_A"
      ]
     },
     "execution_count": 60,
     "metadata": {},
     "output_type": "execute_result"
    }
   ],
   "source": [
    "pvals1 = run_interaction(y=y, W=W, E=C1_gauss.values[:,0:10], E1=C1_gauss.values[:,0:10], E2=C1.values[:,0:20], G=GG, hK=hK_expanded)[0]\n",
    "pv1 = pd.DataFrame({\"chrom\":G_expanded.chrom.values,\n",
    "       \"pv\":pvals1,\n",
    "       \"variant\":G_expanded.snp.values})\n",
    "pv1.head()"
   ]
  },
  {
   "cell_type": "code",
   "execution_count": 61,
   "id": "04e19e71",
   "metadata": {},
   "outputs": [
    {
     "name": "stderr",
     "output_type": "stream",
     "text": [
      "100%|██████████| 2/2 [05:08<00:00, 154.32s/it]\n"
     ]
    },
    {
     "data": {
      "text/html": [
       "<div>\n",
       "<style scoped>\n",
       "    .dataframe tbody tr th:only-of-type {\n",
       "        vertical-align: middle;\n",
       "    }\n",
       "\n",
       "    .dataframe tbody tr th {\n",
       "        vertical-align: top;\n",
       "    }\n",
       "\n",
       "    .dataframe thead th {\n",
       "        text-align: right;\n",
       "    }\n",
       "</style>\n",
       "<table border=\"1\" class=\"dataframe\">\n",
       "  <thead>\n",
       "    <tr style=\"text-align: right;\">\n",
       "      <th></th>\n",
       "      <th>chrom</th>\n",
       "      <th>pv</th>\n",
       "      <th>variant</th>\n",
       "    </tr>\n",
       "  </thead>\n",
       "  <tbody>\n",
       "    <tr>\n",
       "      <th>0</th>\n",
       "      <td>22</td>\n",
       "      <td>0.179800</td>\n",
       "      <td>22_39358037_A_C</td>\n",
       "    </tr>\n",
       "    <tr>\n",
       "      <th>1</th>\n",
       "      <td>22</td>\n",
       "      <td>0.810958</td>\n",
       "      <td>22_39383918_G_A</td>\n",
       "    </tr>\n",
       "  </tbody>\n",
       "</table>\n",
       "</div>"
      ],
      "text/plain": [
       "  chrom        pv          variant\n",
       "0    22  0.179800  22_39358037_A_C\n",
       "1    22  0.810958  22_39383918_G_A"
      ]
     },
     "execution_count": 61,
     "metadata": {},
     "output_type": "execute_result"
    }
   ],
   "source": [
    "pvals3 = run_interaction(y=y, W=W, E=C1.values[:,0:10], E1=C1.values[:,0:10], E2=C1.values[:,0:10], G=GG, hK=hK_expanded)[0]\n",
    "pv3 = pd.DataFrame({\"chrom\":G_expanded.chrom.values,\n",
    "       \"pv\":pvals3,\n",
    "       \"variant\":G_expanded.snp.values})\n",
    "pv3.head()"
   ]
  },
  {
   "cell_type": "code",
   "execution_count": null,
   "id": "39effb90",
   "metadata": {},
   "outputs": [],
   "source": [
    "### ENSG00000100033_PRODH"
   ]
  },
  {
   "cell_type": "code",
   "execution_count": 53,
   "id": "4c42b879",
   "metadata": {},
   "outputs": [
    {
     "name": "stderr",
     "output_type": "stream",
     "text": [
      "100%|██████████| 2/2 [04:51<00:00, 145.73s/it]\n"
     ]
    },
    {
     "data": {
      "text/html": [
       "<div>\n",
       "<style scoped>\n",
       "    .dataframe tbody tr th:only-of-type {\n",
       "        vertical-align: middle;\n",
       "    }\n",
       "\n",
       "    .dataframe tbody tr th {\n",
       "        vertical-align: top;\n",
       "    }\n",
       "\n",
       "    .dataframe thead th {\n",
       "        text-align: right;\n",
       "    }\n",
       "</style>\n",
       "<table border=\"1\" class=\"dataframe\">\n",
       "  <thead>\n",
       "    <tr style=\"text-align: right;\">\n",
       "      <th></th>\n",
       "      <th>chrom</th>\n",
       "      <th>pv</th>\n",
       "      <th>variant</th>\n",
       "    </tr>\n",
       "  </thead>\n",
       "  <tbody>\n",
       "    <tr>\n",
       "      <th>0</th>\n",
       "      <td>22</td>\n",
       "      <td>0.000003</td>\n",
       "      <td>22_18909505_T_C</td>\n",
       "    </tr>\n",
       "    <tr>\n",
       "      <th>1</th>\n",
       "      <td>22</td>\n",
       "      <td>0.775450</td>\n",
       "      <td>22_18915282_C_T</td>\n",
       "    </tr>\n",
       "  </tbody>\n",
       "</table>\n",
       "</div>"
      ],
      "text/plain": [
       "  chrom        pv          variant\n",
       "0    22  0.000003  22_18909505_T_C\n",
       "1    22  0.775450  22_18915282_C_T"
      ]
     },
     "execution_count": 53,
     "metadata": {},
     "output_type": "execute_result"
    }
   ],
   "source": [
    "pvals1 = run_interaction(y=y, W=W, E=C1_gauss.values[:,0:10], E1=C1_gauss.values[:,0:10], E2=C1.values[:,0:20], G=GG, hK=hK_expanded)[0]\n",
    "pv1 = pd.DataFrame({\"chrom\":G_expanded.chrom.values,\n",
    "       \"pv\":pvals1,\n",
    "       \"variant\":G_expanded.snp.values})\n",
    "pv1.head()"
   ]
  },
  {
   "cell_type": "code",
   "execution_count": 54,
   "id": "78b20c2f",
   "metadata": {},
   "outputs": [
    {
     "name": "stderr",
     "output_type": "stream",
     "text": [
      "100%|██████████| 2/2 [04:59<00:00, 149.92s/it]\n"
     ]
    },
    {
     "data": {
      "text/html": [
       "<div>\n",
       "<style scoped>\n",
       "    .dataframe tbody tr th:only-of-type {\n",
       "        vertical-align: middle;\n",
       "    }\n",
       "\n",
       "    .dataframe tbody tr th {\n",
       "        vertical-align: top;\n",
       "    }\n",
       "\n",
       "    .dataframe thead th {\n",
       "        text-align: right;\n",
       "    }\n",
       "</style>\n",
       "<table border=\"1\" class=\"dataframe\">\n",
       "  <thead>\n",
       "    <tr style=\"text-align: right;\">\n",
       "      <th></th>\n",
       "      <th>chrom</th>\n",
       "      <th>pv</th>\n",
       "      <th>variant</th>\n",
       "    </tr>\n",
       "  </thead>\n",
       "  <tbody>\n",
       "    <tr>\n",
       "      <th>0</th>\n",
       "      <td>22</td>\n",
       "      <td>0.000001</td>\n",
       "      <td>22_18909505_T_C</td>\n",
       "    </tr>\n",
       "    <tr>\n",
       "      <th>1</th>\n",
       "      <td>22</td>\n",
       "      <td>0.810282</td>\n",
       "      <td>22_18915282_C_T</td>\n",
       "    </tr>\n",
       "  </tbody>\n",
       "</table>\n",
       "</div>"
      ],
      "text/plain": [
       "  chrom        pv          variant\n",
       "0    22  0.000001  22_18909505_T_C\n",
       "1    22  0.810282  22_18915282_C_T"
      ]
     },
     "execution_count": 54,
     "metadata": {},
     "output_type": "execute_result"
    }
   ],
   "source": [
    "pvals3 = run_interaction(y=y, W=W, E=C1.values[:,0:10], E1=C1.values[:,0:10], E2=C1.values[:,0:10], G=GG, hK=hK_expanded)[0]\n",
    "pv3 = pd.DataFrame({\"chrom\":G_expanded.chrom.values,\n",
    "       \"pv\":pvals3,\n",
    "       \"variant\":G_expanded.snp.values})\n",
    "pv3.head()"
   ]
  },
  {
   "cell_type": "code",
   "execution_count": 88,
   "id": "76de1548",
   "metadata": {},
   "outputs": [],
   "source": [
    "### ENSG00000099974_DDTL"
   ]
  },
  {
   "cell_type": "code",
   "execution_count": 47,
   "id": "8fb5f00d",
   "metadata": {},
   "outputs": [
    {
     "name": "stderr",
     "output_type": "stream",
     "text": [
      "100%|██████████| 3/3 [07:37<00:00, 152.53s/it]\n"
     ]
    },
    {
     "data": {
      "text/html": [
       "<div>\n",
       "<style scoped>\n",
       "    .dataframe tbody tr th:only-of-type {\n",
       "        vertical-align: middle;\n",
       "    }\n",
       "\n",
       "    .dataframe tbody tr th {\n",
       "        vertical-align: top;\n",
       "    }\n",
       "\n",
       "    .dataframe thead th {\n",
       "        text-align: right;\n",
       "    }\n",
       "</style>\n",
       "<table border=\"1\" class=\"dataframe\">\n",
       "  <thead>\n",
       "    <tr style=\"text-align: right;\">\n",
       "      <th></th>\n",
       "      <th>chrom</th>\n",
       "      <th>pv</th>\n",
       "      <th>variant</th>\n",
       "    </tr>\n",
       "  </thead>\n",
       "  <tbody>\n",
       "    <tr>\n",
       "      <th>0</th>\n",
       "      <td>22</td>\n",
       "      <td>0.000201</td>\n",
       "      <td>22_24302194_G_A</td>\n",
       "    </tr>\n",
       "    <tr>\n",
       "      <th>1</th>\n",
       "      <td>22</td>\n",
       "      <td>0.307953</td>\n",
       "      <td>22_24323878_G_A</td>\n",
       "    </tr>\n",
       "    <tr>\n",
       "      <th>2</th>\n",
       "      <td>22</td>\n",
       "      <td>0.033377</td>\n",
       "      <td>22_24333977_G_C</td>\n",
       "    </tr>\n",
       "  </tbody>\n",
       "</table>\n",
       "</div>"
      ],
      "text/plain": [
       "  chrom        pv          variant\n",
       "0    22  0.000201  22_24302194_G_A\n",
       "1    22  0.307953  22_24323878_G_A\n",
       "2    22  0.033377  22_24333977_G_C"
      ]
     },
     "execution_count": 47,
     "metadata": {},
     "output_type": "execute_result"
    }
   ],
   "source": [
    "pvals1 = run_interaction(y=y, W=W, E=C1_gauss.values[:,0:10], E1=C1_gauss.values[:,0:10], E2=C1.values[:,0:20], G=GG, hK=hK_expanded)[0]\n",
    "pv1 = pd.DataFrame({\"chrom\":G_expanded.chrom.values,\n",
    "       \"pv\":pvals1,\n",
    "       \"variant\":G_expanded.snp.values})\n",
    "pv1.head()"
   ]
  },
  {
   "cell_type": "code",
   "execution_count": 48,
   "id": "19613859",
   "metadata": {},
   "outputs": [
    {
     "name": "stderr",
     "output_type": "stream",
     "text": [
      "100%|██████████| 3/3 [07:41<00:00, 153.97s/it]\n"
     ]
    },
    {
     "data": {
      "text/html": [
       "<div>\n",
       "<style scoped>\n",
       "    .dataframe tbody tr th:only-of-type {\n",
       "        vertical-align: middle;\n",
       "    }\n",
       "\n",
       "    .dataframe tbody tr th {\n",
       "        vertical-align: top;\n",
       "    }\n",
       "\n",
       "    .dataframe thead th {\n",
       "        text-align: right;\n",
       "    }\n",
       "</style>\n",
       "<table border=\"1\" class=\"dataframe\">\n",
       "  <thead>\n",
       "    <tr style=\"text-align: right;\">\n",
       "      <th></th>\n",
       "      <th>chrom</th>\n",
       "      <th>pv</th>\n",
       "      <th>variant</th>\n",
       "    </tr>\n",
       "  </thead>\n",
       "  <tbody>\n",
       "    <tr>\n",
       "      <th>0</th>\n",
       "      <td>22</td>\n",
       "      <td>0.000036</td>\n",
       "      <td>22_24302194_G_A</td>\n",
       "    </tr>\n",
       "    <tr>\n",
       "      <th>1</th>\n",
       "      <td>22</td>\n",
       "      <td>0.395675</td>\n",
       "      <td>22_24323878_G_A</td>\n",
       "    </tr>\n",
       "    <tr>\n",
       "      <th>2</th>\n",
       "      <td>22</td>\n",
       "      <td>0.010078</td>\n",
       "      <td>22_24333977_G_C</td>\n",
       "    </tr>\n",
       "  </tbody>\n",
       "</table>\n",
       "</div>"
      ],
      "text/plain": [
       "  chrom        pv          variant\n",
       "0    22  0.000036  22_24302194_G_A\n",
       "1    22  0.395675  22_24323878_G_A\n",
       "2    22  0.010078  22_24333977_G_C"
      ]
     },
     "execution_count": 48,
     "metadata": {},
     "output_type": "execute_result"
    }
   ],
   "source": [
    "pvals3 = run_interaction(y=y, W=W, E=C1.values[:,0:10], E1=C1.values[:,0:10], E2=C1.values[:,0:10], G=GG, hK=hK_expanded)[0]\n",
    "pv3 = pd.DataFrame({\"chrom\":G_expanded.chrom.values,\n",
    "       \"pv\":pvals3,\n",
    "       \"variant\":G_expanded.snp.values})\n",
    "pv3.head()"
   ]
  },
  {
   "cell_type": "code",
   "execution_count": null,
   "id": "3c09942e",
   "metadata": {},
   "outputs": [],
   "source": [
    "### ENSG00000093072_CECR1"
   ]
  },
  {
   "cell_type": "code",
   "execution_count": 40,
   "id": "2bdb2b9b",
   "metadata": {},
   "outputs": [
    {
     "name": "stderr",
     "output_type": "stream",
     "text": [
      "100%|██████████| 2/2 [04:57<00:00, 148.69s/it]\n"
     ]
    },
    {
     "data": {
      "text/html": [
       "<div>\n",
       "<style scoped>\n",
       "    .dataframe tbody tr th:only-of-type {\n",
       "        vertical-align: middle;\n",
       "    }\n",
       "\n",
       "    .dataframe tbody tr th {\n",
       "        vertical-align: top;\n",
       "    }\n",
       "\n",
       "    .dataframe thead th {\n",
       "        text-align: right;\n",
       "    }\n",
       "</style>\n",
       "<table border=\"1\" class=\"dataframe\">\n",
       "  <thead>\n",
       "    <tr style=\"text-align: right;\">\n",
       "      <th></th>\n",
       "      <th>chrom</th>\n",
       "      <th>pv</th>\n",
       "      <th>variant</th>\n",
       "    </tr>\n",
       "  </thead>\n",
       "  <tbody>\n",
       "    <tr>\n",
       "      <th>0</th>\n",
       "      <td>22</td>\n",
       "      <td>1.945436e-11</td>\n",
       "      <td>22_17680519_A_C</td>\n",
       "    </tr>\n",
       "    <tr>\n",
       "      <th>1</th>\n",
       "      <td>22</td>\n",
       "      <td>8.723618e-12</td>\n",
       "      <td>22_17685194_T_A</td>\n",
       "    </tr>\n",
       "  </tbody>\n",
       "</table>\n",
       "</div>"
      ],
      "text/plain": [
       "  chrom            pv          variant\n",
       "0    22  1.945436e-11  22_17680519_A_C\n",
       "1    22  8.723618e-12  22_17685194_T_A"
      ]
     },
     "execution_count": 40,
     "metadata": {},
     "output_type": "execute_result"
    }
   ],
   "source": [
    "pvals1 = run_interaction(y=y, W=W, E=C1_gauss.values[:,0:10], E1=C1_gauss.values[:,0:10], E2=C1.values[:,0:20], G=GG, hK=hK_expanded)[0]\n",
    "pv1 = pd.DataFrame({\"chrom\":G_expanded.chrom.values,\n",
    "       \"pv\":pvals1,\n",
    "       \"variant\":G_expanded.snp.values})\n",
    "pv1.head()"
   ]
  },
  {
   "cell_type": "code",
   "execution_count": 42,
   "id": "f005a30b",
   "metadata": {},
   "outputs": [
    {
     "name": "stderr",
     "output_type": "stream",
     "text": [
      "100%|██████████| 2/2 [05:12<00:00, 156.20s/it]\n"
     ]
    },
    {
     "data": {
      "text/html": [
       "<div>\n",
       "<style scoped>\n",
       "    .dataframe tbody tr th:only-of-type {\n",
       "        vertical-align: middle;\n",
       "    }\n",
       "\n",
       "    .dataframe tbody tr th {\n",
       "        vertical-align: top;\n",
       "    }\n",
       "\n",
       "    .dataframe thead th {\n",
       "        text-align: right;\n",
       "    }\n",
       "</style>\n",
       "<table border=\"1\" class=\"dataframe\">\n",
       "  <thead>\n",
       "    <tr style=\"text-align: right;\">\n",
       "      <th></th>\n",
       "      <th>chrom</th>\n",
       "      <th>pv</th>\n",
       "      <th>variant</th>\n",
       "    </tr>\n",
       "  </thead>\n",
       "  <tbody>\n",
       "    <tr>\n",
       "      <th>0</th>\n",
       "      <td>22</td>\n",
       "      <td>2.010416e-14</td>\n",
       "      <td>22_17680519_A_C</td>\n",
       "    </tr>\n",
       "    <tr>\n",
       "      <th>1</th>\n",
       "      <td>22</td>\n",
       "      <td>2.503091e-15</td>\n",
       "      <td>22_17685194_T_A</td>\n",
       "    </tr>\n",
       "  </tbody>\n",
       "</table>\n",
       "</div>"
      ],
      "text/plain": [
       "  chrom            pv          variant\n",
       "0    22  2.010416e-14  22_17680519_A_C\n",
       "1    22  2.503091e-15  22_17685194_T_A"
      ]
     },
     "execution_count": 42,
     "metadata": {},
     "output_type": "execute_result"
    }
   ],
   "source": [
    "pvals3 = run_interaction(y=y, W=W, E=C1.values[:,0:10], E1=C1.values[:,0:10], E2=C1.values[:,0:10], G=GG, hK=hK_expanded)[0]\n",
    "pv3 = pd.DataFrame({\"chrom\":G_expanded.chrom.values,\n",
    "       \"pv\":pvals3,\n",
    "       \"variant\":G_expanded.snp.values})\n",
    "pv3.head()"
   ]
  },
  {
   "cell_type": "code",
   "execution_count": null,
   "id": "66abc22e",
   "metadata": {},
   "outputs": [],
   "source": [
    "### ENSG00000100410_PHF5A"
   ]
  },
  {
   "cell_type": "code",
   "execution_count": 34,
   "id": "8aad80b1",
   "metadata": {},
   "outputs": [
    {
     "name": "stderr",
     "output_type": "stream",
     "text": [
      "100%|██████████| 3/3 [07:09<00:00, 143.01s/it]\n"
     ]
    },
    {
     "data": {
      "text/html": [
       "<div>\n",
       "<style scoped>\n",
       "    .dataframe tbody tr th:only-of-type {\n",
       "        vertical-align: middle;\n",
       "    }\n",
       "\n",
       "    .dataframe tbody tr th {\n",
       "        vertical-align: top;\n",
       "    }\n",
       "\n",
       "    .dataframe thead th {\n",
       "        text-align: right;\n",
       "    }\n",
       "</style>\n",
       "<table border=\"1\" class=\"dataframe\">\n",
       "  <thead>\n",
       "    <tr style=\"text-align: right;\">\n",
       "      <th></th>\n",
       "      <th>chrom</th>\n",
       "      <th>pv</th>\n",
       "      <th>variant</th>\n",
       "    </tr>\n",
       "  </thead>\n",
       "  <tbody>\n",
       "    <tr>\n",
       "      <th>0</th>\n",
       "      <td>22</td>\n",
       "      <td>0.258806</td>\n",
       "      <td>22_41806768_C_G</td>\n",
       "    </tr>\n",
       "    <tr>\n",
       "      <th>1</th>\n",
       "      <td>22</td>\n",
       "      <td>0.342259</td>\n",
       "      <td>22_41854446_C_T</td>\n",
       "    </tr>\n",
       "    <tr>\n",
       "      <th>2</th>\n",
       "      <td>22</td>\n",
       "      <td>0.169668</td>\n",
       "      <td>22_41925535_T_C</td>\n",
       "    </tr>\n",
       "  </tbody>\n",
       "</table>\n",
       "</div>"
      ],
      "text/plain": [
       "  chrom        pv          variant\n",
       "0    22  0.258806  22_41806768_C_G\n",
       "1    22  0.342259  22_41854446_C_T\n",
       "2    22  0.169668  22_41925535_T_C"
      ]
     },
     "execution_count": 34,
     "metadata": {},
     "output_type": "execute_result"
    }
   ],
   "source": [
    "pvals1 = run_interaction(y=y, W=W, E=C1_gauss.values[:,0:10], E1=C1_gauss.values[:,0:10], E2=C1.values[:,0:20], G=GG, hK=hK_expanded)[0]\n",
    "pv1 = pd.DataFrame({\"chrom\":G_expanded.chrom.values,\n",
    "       \"pv\":pvals1,\n",
    "       \"variant\":G_expanded.snp.values})\n",
    "pv1.head()"
   ]
  },
  {
   "cell_type": "code",
   "execution_count": 35,
   "id": "06cd7c62",
   "metadata": {},
   "outputs": [
    {
     "name": "stderr",
     "output_type": "stream",
     "text": [
      "100%|██████████| 3/3 [07:16<00:00, 145.61s/it]\n"
     ]
    },
    {
     "data": {
      "text/html": [
       "<div>\n",
       "<style scoped>\n",
       "    .dataframe tbody tr th:only-of-type {\n",
       "        vertical-align: middle;\n",
       "    }\n",
       "\n",
       "    .dataframe tbody tr th {\n",
       "        vertical-align: top;\n",
       "    }\n",
       "\n",
       "    .dataframe thead th {\n",
       "        text-align: right;\n",
       "    }\n",
       "</style>\n",
       "<table border=\"1\" class=\"dataframe\">\n",
       "  <thead>\n",
       "    <tr style=\"text-align: right;\">\n",
       "      <th></th>\n",
       "      <th>chrom</th>\n",
       "      <th>pv</th>\n",
       "      <th>variant</th>\n",
       "    </tr>\n",
       "  </thead>\n",
       "  <tbody>\n",
       "    <tr>\n",
       "      <th>0</th>\n",
       "      <td>22</td>\n",
       "      <td>0.452147</td>\n",
       "      <td>22_41806768_C_G</td>\n",
       "    </tr>\n",
       "    <tr>\n",
       "      <th>1</th>\n",
       "      <td>22</td>\n",
       "      <td>0.622567</td>\n",
       "      <td>22_41854446_C_T</td>\n",
       "    </tr>\n",
       "    <tr>\n",
       "      <th>2</th>\n",
       "      <td>22</td>\n",
       "      <td>0.656348</td>\n",
       "      <td>22_41925535_T_C</td>\n",
       "    </tr>\n",
       "  </tbody>\n",
       "</table>\n",
       "</div>"
      ],
      "text/plain": [
       "  chrom        pv          variant\n",
       "0    22  0.452147  22_41806768_C_G\n",
       "1    22  0.622567  22_41854446_C_T\n",
       "2    22  0.656348  22_41925535_T_C"
      ]
     },
     "execution_count": 35,
     "metadata": {},
     "output_type": "execute_result"
    }
   ],
   "source": [
    "pvals3 = run_interaction(y=y, W=W, E=C1.values[:,0:10], E1=C1.values[:,0:10], E2=C1.values[:,0:10], G=GG, hK=hK_expanded)[0]\n",
    "pv3 = pd.DataFrame({\"chrom\":G_expanded.chrom.values,\n",
    "       \"pv\":pvals3,\n",
    "       \"variant\":G_expanded.snp.values})\n",
    "pv3.head()"
   ]
  },
  {
   "cell_type": "code",
   "execution_count": null,
   "id": "14fd16b2",
   "metadata": {},
   "outputs": [],
   "source": [
    "### ENSG00000189306_RRP7A"
   ]
  },
  {
   "cell_type": "code",
   "execution_count": 62,
   "id": "73930b7d",
   "metadata": {},
   "outputs": [
    {
     "name": "stderr",
     "output_type": "stream",
     "text": [
      "100%|██████████| 3/3 [07:31<00:00, 150.40s/it]\n"
     ]
    },
    {
     "data": {
      "text/html": [
       "<div>\n",
       "<style scoped>\n",
       "    .dataframe tbody tr th:only-of-type {\n",
       "        vertical-align: middle;\n",
       "    }\n",
       "\n",
       "    .dataframe tbody tr th {\n",
       "        vertical-align: top;\n",
       "    }\n",
       "\n",
       "    .dataframe thead th {\n",
       "        text-align: right;\n",
       "    }\n",
       "</style>\n",
       "<table border=\"1\" class=\"dataframe\">\n",
       "  <thead>\n",
       "    <tr style=\"text-align: right;\">\n",
       "      <th></th>\n",
       "      <th>chrom</th>\n",
       "      <th>pv</th>\n",
       "      <th>variant</th>\n",
       "    </tr>\n",
       "  </thead>\n",
       "  <tbody>\n",
       "    <tr>\n",
       "      <th>0</th>\n",
       "      <td>22</td>\n",
       "      <td>0.015920</td>\n",
       "      <td>22_42896474_T_C</td>\n",
       "    </tr>\n",
       "    <tr>\n",
       "      <th>1</th>\n",
       "      <td>22</td>\n",
       "      <td>0.004250</td>\n",
       "      <td>22_42897414_A_C</td>\n",
       "    </tr>\n",
       "    <tr>\n",
       "      <th>2</th>\n",
       "      <td>22</td>\n",
       "      <td>0.113659</td>\n",
       "      <td>22_42903671_T_G</td>\n",
       "    </tr>\n",
       "  </tbody>\n",
       "</table>\n",
       "</div>"
      ],
      "text/plain": [
       "  chrom        pv          variant\n",
       "0    22  0.015920  22_42896474_T_C\n",
       "1    22  0.004250  22_42897414_A_C\n",
       "2    22  0.113659  22_42903671_T_G"
      ]
     },
     "execution_count": 62,
     "metadata": {},
     "output_type": "execute_result"
    }
   ],
   "source": [
    "pvals1 = run_interaction(y=y, W=W, E=C1_gauss.values[:,0:10], E1=C1_gauss.values[:,0:10], E2=C1.values[:,0:20], G=GG, hK=hK_expanded)[0]\n",
    "pv1 = pd.DataFrame({\"chrom\":G_expanded.chrom.values,\n",
    "       \"pv\":pvals1,\n",
    "       \"variant\":G_expanded.snp.values})\n",
    "pv1.head()"
   ]
  },
  {
   "cell_type": "code",
   "execution_count": 63,
   "id": "d32ad26a",
   "metadata": {},
   "outputs": [
    {
     "name": "stderr",
     "output_type": "stream",
     "text": [
      "100%|██████████| 3/3 [14:54<00:00, 298.04s/it]\n"
     ]
    },
    {
     "data": {
      "text/html": [
       "<div>\n",
       "<style scoped>\n",
       "    .dataframe tbody tr th:only-of-type {\n",
       "        vertical-align: middle;\n",
       "    }\n",
       "\n",
       "    .dataframe tbody tr th {\n",
       "        vertical-align: top;\n",
       "    }\n",
       "\n",
       "    .dataframe thead th {\n",
       "        text-align: right;\n",
       "    }\n",
       "</style>\n",
       "<table border=\"1\" class=\"dataframe\">\n",
       "  <thead>\n",
       "    <tr style=\"text-align: right;\">\n",
       "      <th></th>\n",
       "      <th>chrom</th>\n",
       "      <th>pv</th>\n",
       "      <th>variant</th>\n",
       "    </tr>\n",
       "  </thead>\n",
       "  <tbody>\n",
       "    <tr>\n",
       "      <th>0</th>\n",
       "      <td>22</td>\n",
       "      <td>0.092094</td>\n",
       "      <td>22_42896474_T_C</td>\n",
       "    </tr>\n",
       "    <tr>\n",
       "      <th>1</th>\n",
       "      <td>22</td>\n",
       "      <td>0.018068</td>\n",
       "      <td>22_42897414_A_C</td>\n",
       "    </tr>\n",
       "    <tr>\n",
       "      <th>2</th>\n",
       "      <td>22</td>\n",
       "      <td>0.202231</td>\n",
       "      <td>22_42903671_T_G</td>\n",
       "    </tr>\n",
       "  </tbody>\n",
       "</table>\n",
       "</div>"
      ],
      "text/plain": [
       "  chrom        pv          variant\n",
       "0    22  0.092094  22_42896474_T_C\n",
       "1    22  0.018068  22_42897414_A_C\n",
       "2    22  0.202231  22_42903671_T_G"
      ]
     },
     "execution_count": 63,
     "metadata": {},
     "output_type": "execute_result"
    }
   ],
   "source": [
    "pvals2 = run_interaction(y=y, W=W, E=C2_gauss.values[:,0:10], E1=C2_gauss.values[:,0:10], E2=C2.values[:,0:20], G=GG, hK=hK_expanded)[0]\n",
    "pv2 = pd.DataFrame({\"chrom\":G_expanded.chrom.values,\n",
    "       \"pv\":pvals2,\n",
    "       \"variant\":G_expanded.snp.values})\n",
    "pv2.head()"
   ]
  },
  {
   "cell_type": "code",
   "execution_count": 64,
   "id": "866ec6d3",
   "metadata": {},
   "outputs": [
    {
     "name": "stderr",
     "output_type": "stream",
     "text": [
      "100%|██████████| 3/3 [07:42<00:00, 154.25s/it]\n"
     ]
    },
    {
     "data": {
      "text/html": [
       "<div>\n",
       "<style scoped>\n",
       "    .dataframe tbody tr th:only-of-type {\n",
       "        vertical-align: middle;\n",
       "    }\n",
       "\n",
       "    .dataframe tbody tr th {\n",
       "        vertical-align: top;\n",
       "    }\n",
       "\n",
       "    .dataframe thead th {\n",
       "        text-align: right;\n",
       "    }\n",
       "</style>\n",
       "<table border=\"1\" class=\"dataframe\">\n",
       "  <thead>\n",
       "    <tr style=\"text-align: right;\">\n",
       "      <th></th>\n",
       "      <th>chrom</th>\n",
       "      <th>pv</th>\n",
       "      <th>variant</th>\n",
       "    </tr>\n",
       "  </thead>\n",
       "  <tbody>\n",
       "    <tr>\n",
       "      <th>0</th>\n",
       "      <td>22</td>\n",
       "      <td>0.063700</td>\n",
       "      <td>22_42896474_T_C</td>\n",
       "    </tr>\n",
       "    <tr>\n",
       "      <th>1</th>\n",
       "      <td>22</td>\n",
       "      <td>0.010664</td>\n",
       "      <td>22_42897414_A_C</td>\n",
       "    </tr>\n",
       "    <tr>\n",
       "      <th>2</th>\n",
       "      <td>22</td>\n",
       "      <td>0.105129</td>\n",
       "      <td>22_42903671_T_G</td>\n",
       "    </tr>\n",
       "  </tbody>\n",
       "</table>\n",
       "</div>"
      ],
      "text/plain": [
       "  chrom        pv          variant\n",
       "0    22  0.063700  22_42896474_T_C\n",
       "1    22  0.010664  22_42897414_A_C\n",
       "2    22  0.105129  22_42903671_T_G"
      ]
     },
     "execution_count": 64,
     "metadata": {},
     "output_type": "execute_result"
    }
   ],
   "source": [
    "pvals3 = run_interaction(y=y, W=W, E=C1.values[:,0:10], E1=C1.values[:,0:10], E2=C1.values[:,0:10], G=GG, hK=hK_expanded)[0]\n",
    "pv3 = pd.DataFrame({\"chrom\":G_expanded.chrom.values,\n",
    "       \"pv\":pvals3,\n",
    "       \"variant\":G_expanded.snp.values})\n",
    "pv3.head()"
   ]
  },
  {
   "cell_type": "code",
   "execution_count": null,
   "id": "3c19a152",
   "metadata": {},
   "outputs": [],
   "source": []
  },
  {
   "cell_type": "code",
   "execution_count": 52,
   "id": "c9c2c034",
   "metadata": {},
   "outputs": [],
   "source": [
    "### ENSG00000196236_XPNPEP3"
   ]
  },
  {
   "cell_type": "code",
   "execution_count": 55,
   "id": "fb1882c3",
   "metadata": {},
   "outputs": [
    {
     "name": "stderr",
     "output_type": "stream",
     "text": [
      "100%|██████████| 2/2 [05:49<00:00, 174.60s/it]\n"
     ]
    },
    {
     "data": {
      "text/html": [
       "<div>\n",
       "<style scoped>\n",
       "    .dataframe tbody tr th:only-of-type {\n",
       "        vertical-align: middle;\n",
       "    }\n",
       "\n",
       "    .dataframe tbody tr th {\n",
       "        vertical-align: top;\n",
       "    }\n",
       "\n",
       "    .dataframe thead th {\n",
       "        text-align: right;\n",
       "    }\n",
       "</style>\n",
       "<table border=\"1\" class=\"dataframe\">\n",
       "  <thead>\n",
       "    <tr style=\"text-align: right;\">\n",
       "      <th></th>\n",
       "      <th>chrom</th>\n",
       "      <th>pv</th>\n",
       "      <th>variant</th>\n",
       "    </tr>\n",
       "  </thead>\n",
       "  <tbody>\n",
       "    <tr>\n",
       "      <th>0</th>\n",
       "      <td>22</td>\n",
       "      <td>0.000141</td>\n",
       "      <td>22_41256802_A_G</td>\n",
       "    </tr>\n",
       "    <tr>\n",
       "      <th>1</th>\n",
       "      <td>22</td>\n",
       "      <td>0.316305</td>\n",
       "      <td>22_41394128_C_T</td>\n",
       "    </tr>\n",
       "  </tbody>\n",
       "</table>\n",
       "</div>"
      ],
      "text/plain": [
       "  chrom        pv          variant\n",
       "0    22  0.000141  22_41256802_A_G\n",
       "1    22  0.316305  22_41394128_C_T"
      ]
     },
     "execution_count": 55,
     "metadata": {},
     "output_type": "execute_result"
    }
   ],
   "source": [
    "pvals1 = run_interaction(y=y, W=W, E=C1_gauss.values[:,0:10], E1=C1_gauss.values[:,0:10], E2=C1.values[:,0:20], G=GG, hK=hK_expanded)[0]\n",
    "pv1 = pd.DataFrame({\"chrom\":G_expanded.chrom.values,\n",
    "       \"pv\":pvals1,\n",
    "       \"variant\":G_expanded.snp.values})\n",
    "pv1.head()"
   ]
  },
  {
   "cell_type": "code",
   "execution_count": 56,
   "id": "eb7613bc",
   "metadata": {},
   "outputs": [
    {
     "name": "stderr",
     "output_type": "stream",
     "text": [
      "100%|██████████| 2/2 [11:32<00:00, 346.06s/it]\n"
     ]
    },
    {
     "data": {
      "text/html": [
       "<div>\n",
       "<style scoped>\n",
       "    .dataframe tbody tr th:only-of-type {\n",
       "        vertical-align: middle;\n",
       "    }\n",
       "\n",
       "    .dataframe tbody tr th {\n",
       "        vertical-align: top;\n",
       "    }\n",
       "\n",
       "    .dataframe thead th {\n",
       "        text-align: right;\n",
       "    }\n",
       "</style>\n",
       "<table border=\"1\" class=\"dataframe\">\n",
       "  <thead>\n",
       "    <tr style=\"text-align: right;\">\n",
       "      <th></th>\n",
       "      <th>chrom</th>\n",
       "      <th>pv</th>\n",
       "      <th>variant</th>\n",
       "    </tr>\n",
       "  </thead>\n",
       "  <tbody>\n",
       "    <tr>\n",
       "      <th>0</th>\n",
       "      <td>22</td>\n",
       "      <td>0.005462</td>\n",
       "      <td>22_41256802_A_G</td>\n",
       "    </tr>\n",
       "    <tr>\n",
       "      <th>1</th>\n",
       "      <td>22</td>\n",
       "      <td>0.348159</td>\n",
       "      <td>22_41394128_C_T</td>\n",
       "    </tr>\n",
       "  </tbody>\n",
       "</table>\n",
       "</div>"
      ],
      "text/plain": [
       "  chrom        pv          variant\n",
       "0    22  0.005462  22_41256802_A_G\n",
       "1    22  0.348159  22_41394128_C_T"
      ]
     },
     "execution_count": 56,
     "metadata": {},
     "output_type": "execute_result"
    }
   ],
   "source": [
    "pvals2 = run_interaction(y=y, W=W, E=C2_gauss.values[:,0:10], E1=C2_gauss.values[:,0:10], E2=C2.values[:,0:20], G=GG, hK=hK_expanded)[0]\n",
    "pv2 = pd.DataFrame({\"chrom\":G_expanded.chrom.values,\n",
    "       \"pv\":pvals2,\n",
    "       \"variant\":G_expanded.snp.values})\n",
    "pv2.head()"
   ]
  },
  {
   "cell_type": "code",
   "execution_count": 57,
   "id": "780c0c4b",
   "metadata": {},
   "outputs": [
    {
     "name": "stderr",
     "output_type": "stream",
     "text": [
      "100%|██████████| 2/2 [05:45<00:00, 172.74s/it]\n"
     ]
    },
    {
     "data": {
      "text/html": [
       "<div>\n",
       "<style scoped>\n",
       "    .dataframe tbody tr th:only-of-type {\n",
       "        vertical-align: middle;\n",
       "    }\n",
       "\n",
       "    .dataframe tbody tr th {\n",
       "        vertical-align: top;\n",
       "    }\n",
       "\n",
       "    .dataframe thead th {\n",
       "        text-align: right;\n",
       "    }\n",
       "</style>\n",
       "<table border=\"1\" class=\"dataframe\">\n",
       "  <thead>\n",
       "    <tr style=\"text-align: right;\">\n",
       "      <th></th>\n",
       "      <th>chrom</th>\n",
       "      <th>pv</th>\n",
       "      <th>variant</th>\n",
       "    </tr>\n",
       "  </thead>\n",
       "  <tbody>\n",
       "    <tr>\n",
       "      <th>0</th>\n",
       "      <td>22</td>\n",
       "      <td>0.000080</td>\n",
       "      <td>22_41256802_A_G</td>\n",
       "    </tr>\n",
       "    <tr>\n",
       "      <th>1</th>\n",
       "      <td>22</td>\n",
       "      <td>0.266093</td>\n",
       "      <td>22_41394128_C_T</td>\n",
       "    </tr>\n",
       "  </tbody>\n",
       "</table>\n",
       "</div>"
      ],
      "text/plain": [
       "  chrom        pv          variant\n",
       "0    22  0.000080  22_41256802_A_G\n",
       "1    22  0.266093  22_41394128_C_T"
      ]
     },
     "execution_count": 57,
     "metadata": {},
     "output_type": "execute_result"
    }
   ],
   "source": [
    "pvals3 = run_interaction(y=y, W=W, E=C1.values[:,0:10], E1=C1.values[:,0:10], E2=C1.values[:,0:10], G=GG, hK=hK_expanded)[0]\n",
    "pv3 = pd.DataFrame({\"chrom\":G_expanded.chrom.values,\n",
    "       \"pv\":pvals3,\n",
    "       \"variant\":G_expanded.snp.values})\n",
    "pv3.head()"
   ]
  },
  {
   "cell_type": "code",
   "execution_count": 45,
   "id": "9e5532ac",
   "metadata": {},
   "outputs": [],
   "source": [
    "### ENSG00000184674_GSTT1"
   ]
  },
  {
   "cell_type": "code",
   "execution_count": 48,
   "id": "cdd7c6f2",
   "metadata": {},
   "outputs": [
    {
     "name": "stderr",
     "output_type": "stream",
     "text": [
      "100%|██████████| 1/1 [02:32<00:00, 152.35s/it]\n"
     ]
    },
    {
     "data": {
      "text/html": [
       "<div>\n",
       "<style scoped>\n",
       "    .dataframe tbody tr th:only-of-type {\n",
       "        vertical-align: middle;\n",
       "    }\n",
       "\n",
       "    .dataframe tbody tr th {\n",
       "        vertical-align: top;\n",
       "    }\n",
       "\n",
       "    .dataframe thead th {\n",
       "        text-align: right;\n",
       "    }\n",
       "</style>\n",
       "<table border=\"1\" class=\"dataframe\">\n",
       "  <thead>\n",
       "    <tr style=\"text-align: right;\">\n",
       "      <th></th>\n",
       "      <th>chrom</th>\n",
       "      <th>pv</th>\n",
       "      <th>variant</th>\n",
       "    </tr>\n",
       "  </thead>\n",
       "  <tbody>\n",
       "    <tr>\n",
       "      <th>0</th>\n",
       "      <td>22</td>\n",
       "      <td>0.000746</td>\n",
       "      <td>22_24295427_C_T</td>\n",
       "    </tr>\n",
       "  </tbody>\n",
       "</table>\n",
       "</div>"
      ],
      "text/plain": [
       "  chrom        pv          variant\n",
       "0    22  0.000746  22_24295427_C_T"
      ]
     },
     "execution_count": 48,
     "metadata": {},
     "output_type": "execute_result"
    }
   ],
   "source": [
    "pvals1 = run_interaction(y=y, W=W, E=C1_gauss.values[:,0:10], E1=C1_gauss.values[:,0:10], E2=C1.values[:,0:20], G=GG, hK=hK_expanded)[0]\n",
    "pv1 = pd.DataFrame({\"chrom\":G_expanded.chrom.values,\n",
    "       \"pv\":pvals1,\n",
    "       \"variant\":G_expanded.snp.values})\n",
    "pv1.head()"
   ]
  },
  {
   "cell_type": "code",
   "execution_count": 49,
   "id": "82d1a2b3",
   "metadata": {},
   "outputs": [
    {
     "name": "stderr",
     "output_type": "stream",
     "text": [
      "100%|██████████| 1/1 [04:59<00:00, 299.86s/it]\n"
     ]
    },
    {
     "data": {
      "text/html": [
       "<div>\n",
       "<style scoped>\n",
       "    .dataframe tbody tr th:only-of-type {\n",
       "        vertical-align: middle;\n",
       "    }\n",
       "\n",
       "    .dataframe tbody tr th {\n",
       "        vertical-align: top;\n",
       "    }\n",
       "\n",
       "    .dataframe thead th {\n",
       "        text-align: right;\n",
       "    }\n",
       "</style>\n",
       "<table border=\"1\" class=\"dataframe\">\n",
       "  <thead>\n",
       "    <tr style=\"text-align: right;\">\n",
       "      <th></th>\n",
       "      <th>chrom</th>\n",
       "      <th>pv</th>\n",
       "      <th>variant</th>\n",
       "    </tr>\n",
       "  </thead>\n",
       "  <tbody>\n",
       "    <tr>\n",
       "      <th>0</th>\n",
       "      <td>22</td>\n",
       "      <td>3.468064e-10</td>\n",
       "      <td>22_24295427_C_T</td>\n",
       "    </tr>\n",
       "  </tbody>\n",
       "</table>\n",
       "</div>"
      ],
      "text/plain": [
       "  chrom            pv          variant\n",
       "0    22  3.468064e-10  22_24295427_C_T"
      ]
     },
     "execution_count": 49,
     "metadata": {},
     "output_type": "execute_result"
    }
   ],
   "source": [
    "pvals2 = run_interaction(y=y, W=W, E=C2_gauss.values[:,0:10], E1=C2_gauss.values[:,0:10], E2=C2.values[:,0:20], G=GG, hK=hK_expanded)[0]\n",
    "pv2 = pd.DataFrame({\"chrom\":G_expanded.chrom.values,\n",
    "       \"pv\":pvals2,\n",
    "       \"variant\":G_expanded.snp.values})\n",
    "pv2.head()"
   ]
  },
  {
   "cell_type": "code",
   "execution_count": 50,
   "id": "beb77843",
   "metadata": {},
   "outputs": [
    {
     "name": "stderr",
     "output_type": "stream",
     "text": [
      "100%|██████████| 1/1 [02:22<00:00, 142.78s/it]\n"
     ]
    },
    {
     "data": {
      "text/html": [
       "<div>\n",
       "<style scoped>\n",
       "    .dataframe tbody tr th:only-of-type {\n",
       "        vertical-align: middle;\n",
       "    }\n",
       "\n",
       "    .dataframe tbody tr th {\n",
       "        vertical-align: top;\n",
       "    }\n",
       "\n",
       "    .dataframe thead th {\n",
       "        text-align: right;\n",
       "    }\n",
       "</style>\n",
       "<table border=\"1\" class=\"dataframe\">\n",
       "  <thead>\n",
       "    <tr style=\"text-align: right;\">\n",
       "      <th></th>\n",
       "      <th>chrom</th>\n",
       "      <th>pv</th>\n",
       "      <th>variant</th>\n",
       "    </tr>\n",
       "  </thead>\n",
       "  <tbody>\n",
       "    <tr>\n",
       "      <th>0</th>\n",
       "      <td>22</td>\n",
       "      <td>0.000003</td>\n",
       "      <td>22_24295427_C_T</td>\n",
       "    </tr>\n",
       "  </tbody>\n",
       "</table>\n",
       "</div>"
      ],
      "text/plain": [
       "  chrom        pv          variant\n",
       "0    22  0.000003  22_24295427_C_T"
      ]
     },
     "execution_count": 50,
     "metadata": {},
     "output_type": "execute_result"
    }
   ],
   "source": [
    "pvals3 = run_interaction(y=y, W=W, E=C1.values[:,0:10], E1=C1.values[:,0:10], E2=C1.values[:,0:10], G=GG, hK=hK_expanded)[0]\n",
    "pv3 = pd.DataFrame({\"chrom\":G_expanded.chrom.values,\n",
    "       \"pv\":pvals3,\n",
    "       \"variant\":G_expanded.snp.values})\n",
    "pv3.head()"
   ]
  },
  {
   "cell_type": "code",
   "execution_count": null,
   "id": "0e48e5d4",
   "metadata": {},
   "outputs": [],
   "source": [
    "### ENSG00000100058_CRYBB2P1"
   ]
  },
  {
   "cell_type": "code",
   "execution_count": 40,
   "id": "3852fb06",
   "metadata": {},
   "outputs": [
    {
     "name": "stderr",
     "output_type": "stream",
     "text": [
      "100%|██████████| 2/2 [04:58<00:00, 149.22s/it]\n"
     ]
    },
    {
     "data": {
      "text/html": [
       "<div>\n",
       "<style scoped>\n",
       "    .dataframe tbody tr th:only-of-type {\n",
       "        vertical-align: middle;\n",
       "    }\n",
       "\n",
       "    .dataframe tbody tr th {\n",
       "        vertical-align: top;\n",
       "    }\n",
       "\n",
       "    .dataframe thead th {\n",
       "        text-align: right;\n",
       "    }\n",
       "</style>\n",
       "<table border=\"1\" class=\"dataframe\">\n",
       "  <thead>\n",
       "    <tr style=\"text-align: right;\">\n",
       "      <th></th>\n",
       "      <th>chrom</th>\n",
       "      <th>pv</th>\n",
       "      <th>variant</th>\n",
       "    </tr>\n",
       "  </thead>\n",
       "  <tbody>\n",
       "    <tr>\n",
       "      <th>0</th>\n",
       "      <td>22</td>\n",
       "      <td>1.103523e-07</td>\n",
       "      <td>22_25845855_C_G</td>\n",
       "    </tr>\n",
       "    <tr>\n",
       "      <th>1</th>\n",
       "      <td>22</td>\n",
       "      <td>9.014011e-02</td>\n",
       "      <td>22_25924999_G_A</td>\n",
       "    </tr>\n",
       "  </tbody>\n",
       "</table>\n",
       "</div>"
      ],
      "text/plain": [
       "  chrom            pv          variant\n",
       "0    22  1.103523e-07  22_25845855_C_G\n",
       "1    22  9.014011e-02  22_25924999_G_A"
      ]
     },
     "execution_count": 40,
     "metadata": {},
     "output_type": "execute_result"
    }
   ],
   "source": [
    "pvals1 = run_interaction(y=y, W=W, E=C1_gauss.values[:,0:10], E1=C1_gauss.values[:,0:10], E2=C1.values[:,0:20], G=GG, hK=hK_expanded)[0]\n",
    "pv1 = pd.DataFrame({\"chrom\":G_expanded.chrom.values,\n",
    "       \"pv\":pvals1,\n",
    "       \"variant\":G_expanded.snp.values})\n",
    "pv1.head()"
   ]
  },
  {
   "cell_type": "code",
   "execution_count": 42,
   "id": "10044b9e",
   "metadata": {},
   "outputs": [
    {
     "name": "stderr",
     "output_type": "stream",
     "text": [
      "100%|██████████| 2/2 [10:49<00:00, 324.50s/it]\n"
     ]
    },
    {
     "data": {
      "text/html": [
       "<div>\n",
       "<style scoped>\n",
       "    .dataframe tbody tr th:only-of-type {\n",
       "        vertical-align: middle;\n",
       "    }\n",
       "\n",
       "    .dataframe tbody tr th {\n",
       "        vertical-align: top;\n",
       "    }\n",
       "\n",
       "    .dataframe thead th {\n",
       "        text-align: right;\n",
       "    }\n",
       "</style>\n",
       "<table border=\"1\" class=\"dataframe\">\n",
       "  <thead>\n",
       "    <tr style=\"text-align: right;\">\n",
       "      <th></th>\n",
       "      <th>chrom</th>\n",
       "      <th>pv</th>\n",
       "      <th>variant</th>\n",
       "    </tr>\n",
       "  </thead>\n",
       "  <tbody>\n",
       "    <tr>\n",
       "      <th>0</th>\n",
       "      <td>22</td>\n",
       "      <td>8.465845e-10</td>\n",
       "      <td>22_25845855_C_G</td>\n",
       "    </tr>\n",
       "    <tr>\n",
       "      <th>1</th>\n",
       "      <td>22</td>\n",
       "      <td>2.912894e-02</td>\n",
       "      <td>22_25924999_G_A</td>\n",
       "    </tr>\n",
       "  </tbody>\n",
       "</table>\n",
       "</div>"
      ],
      "text/plain": [
       "  chrom            pv          variant\n",
       "0    22  8.465845e-10  22_25845855_C_G\n",
       "1    22  2.912894e-02  22_25924999_G_A"
      ]
     },
     "execution_count": 42,
     "metadata": {},
     "output_type": "execute_result"
    }
   ],
   "source": [
    "pvals2 = run_interaction(y=y, W=W, E=C2_gauss.values[:,0:10], E1=C2_gauss.values[:,0:10], E2=C2.values[:,0:20], G=GG, hK=hK_expanded)[0]\n",
    "pv2 = pd.DataFrame({\"chrom\":G_expanded.chrom.values,\n",
    "       \"pv\":pvals2,\n",
    "       \"variant\":G_expanded.snp.values})\n",
    "pv2.head()"
   ]
  },
  {
   "cell_type": "code",
   "execution_count": 43,
   "id": "19e23e95",
   "metadata": {},
   "outputs": [
    {
     "name": "stderr",
     "output_type": "stream",
     "text": [
      "100%|██████████| 2/2 [05:09<00:00, 154.89s/it]\n"
     ]
    },
    {
     "data": {
      "text/html": [
       "<div>\n",
       "<style scoped>\n",
       "    .dataframe tbody tr th:only-of-type {\n",
       "        vertical-align: middle;\n",
       "    }\n",
       "\n",
       "    .dataframe tbody tr th {\n",
       "        vertical-align: top;\n",
       "    }\n",
       "\n",
       "    .dataframe thead th {\n",
       "        text-align: right;\n",
       "    }\n",
       "</style>\n",
       "<table border=\"1\" class=\"dataframe\">\n",
       "  <thead>\n",
       "    <tr style=\"text-align: right;\">\n",
       "      <th></th>\n",
       "      <th>chrom</th>\n",
       "      <th>pv</th>\n",
       "      <th>variant</th>\n",
       "    </tr>\n",
       "  </thead>\n",
       "  <tbody>\n",
       "    <tr>\n",
       "      <th>0</th>\n",
       "      <td>22</td>\n",
       "      <td>1.913650e-07</td>\n",
       "      <td>22_25845855_C_G</td>\n",
       "    </tr>\n",
       "    <tr>\n",
       "      <th>1</th>\n",
       "      <td>22</td>\n",
       "      <td>1.247358e-01</td>\n",
       "      <td>22_25924999_G_A</td>\n",
       "    </tr>\n",
       "  </tbody>\n",
       "</table>\n",
       "</div>"
      ],
      "text/plain": [
       "  chrom            pv          variant\n",
       "0    22  1.913650e-07  22_25845855_C_G\n",
       "1    22  1.247358e-01  22_25924999_G_A"
      ]
     },
     "execution_count": 43,
     "metadata": {},
     "output_type": "execute_result"
    }
   ],
   "source": [
    "pvals3 = run_interaction(y=y, W=W, E=C1.values[:,0:10], E1=C1.values[:,0:10], E2=C1.values[:,0:10], G=GG, hK=hK_expanded)[0]\n",
    "pv3 = pd.DataFrame({\"chrom\":G_expanded.chrom.values,\n",
    "       \"pv\":pvals3,\n",
    "       \"variant\":G_expanded.snp.values})\n",
    "pv3.head()"
   ]
  },
  {
   "cell_type": "code",
   "execution_count": null,
   "id": "18eb672c",
   "metadata": {},
   "outputs": [],
   "source": []
  },
  {
   "cell_type": "code",
   "execution_count": null,
   "id": "5712223e",
   "metadata": {},
   "outputs": [],
   "source": []
  },
  {
   "cell_type": "code",
   "execution_count": null,
   "id": "e18db80e",
   "metadata": {},
   "outputs": [],
   "source": []
  },
  {
   "cell_type": "code",
   "execution_count": null,
   "id": "8f1644d4",
   "metadata": {},
   "outputs": [],
   "source": []
  },
  {
   "cell_type": "code",
   "execution_count": null,
   "id": "ca4354c9",
   "metadata": {},
   "outputs": [],
   "source": []
  },
  {
   "cell_type": "code",
   "execution_count": null,
   "id": "cc5006b5",
   "metadata": {},
   "outputs": [],
   "source": []
  },
  {
   "cell_type": "code",
   "execution_count": null,
   "id": "5b9cafa2",
   "metadata": {},
   "outputs": [],
   "source": []
  }
 ],
 "metadata": {
  "kernelspec": {
   "display_name": "Python (struct-lmm2)",
   "language": "python",
   "name": "struct-lmm2"
  },
  "language_info": {
   "codemirror_mode": {
    "name": "ipython",
    "version": 3
   },
   "file_extension": ".py",
   "mimetype": "text/x-python",
   "name": "python",
   "nbconvert_exporter": "python",
   "pygments_lexer": "ipython3",
   "version": "3.8.5"
  }
 },
 "nbformat": 4,
 "nbformat_minor": 5
}
