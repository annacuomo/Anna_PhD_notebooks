{
 "cells": [
  {
   "cell_type": "code",
   "execution_count": 1,
   "id": "fdcfe8f4",
   "metadata": {},
   "outputs": [],
   "source": [
    "import os\n",
    "import re\n",
    "import time\n",
    "import pandas as pd\n",
    "import xarray as xr\n",
    "from numpy import ones\n",
    "from numpy.linalg import cholesky\n",
    "from pandas_plink import read_plink1_bin\n",
    "from limix.qc import quantile_gaussianize"
   ]
  },
  {
   "cell_type": "code",
   "execution_count": 2,
   "id": "4a553549",
   "metadata": {},
   "outputs": [
    {
     "data": {
      "text/plain": [
       "<module 'cellregmap' from '/hps/nobackup/stegle/users/acuomo/git_repos/CellRegMap/cellregmap/__init__.py'>"
      ]
     },
     "execution_count": 2,
     "metadata": {},
     "output_type": "execute_result"
    }
   ],
   "source": [
    "import cellregmap \n",
    "cellregmap "
   ]
  },
  {
   "cell_type": "code",
   "execution_count": 3,
   "id": "ba56d6c4",
   "metadata": {},
   "outputs": [],
   "source": [
    "from cellregmap import run_interaction"
   ]
  },
  {
   "cell_type": "code",
   "execution_count": 4,
   "id": "334627f8",
   "metadata": {},
   "outputs": [],
   "source": [
    "input_files_dir = \"/hps/nobackup/stegle/users/acuomo/all_scripts/struct_LMM2/sc_endodiff/new/input_files/\""
   ]
  },
  {
   "cell_type": "code",
   "execution_count": 5,
   "id": "e335fd07",
   "metadata": {},
   "outputs": [],
   "source": [
    "## sample mapping file\n",
    "## this file will map cells to donors \n",
    "## it will also only include donors we have single-cell data for (a subset of all of HipSci donors)\n",
    "sample_mapping_file = input_files_dir+\"sample_mapping_file.csv\"\n",
    "sample_mapping = pd.read_csv(sample_mapping_file, dtype={\"genotype_individual_id\": str, \"phenotype_sample_id\": str})"
   ]
  },
  {
   "cell_type": "code",
   "execution_count": 6,
   "id": "2376f693",
   "metadata": {},
   "outputs": [
    {
     "data": {
      "text/html": [
       "<div>\n",
       "<style scoped>\n",
       "    .dataframe tbody tr th:only-of-type {\n",
       "        vertical-align: middle;\n",
       "    }\n",
       "\n",
       "    .dataframe tbody tr th {\n",
       "        vertical-align: top;\n",
       "    }\n",
       "\n",
       "    .dataframe thead th {\n",
       "        text-align: right;\n",
       "    }\n",
       "</style>\n",
       "<table border=\"1\" class=\"dataframe\">\n",
       "  <thead>\n",
       "    <tr style=\"text-align: right;\">\n",
       "      <th></th>\n",
       "      <th>genotype_individual_id</th>\n",
       "      <th>phenotype_sample_id</th>\n",
       "    </tr>\n",
       "  </thead>\n",
       "  <tbody>\n",
       "    <tr>\n",
       "      <th>0</th>\n",
       "      <td>HPSI0114i-joxm_1</td>\n",
       "      <td>21843_1#10</td>\n",
       "    </tr>\n",
       "    <tr>\n",
       "      <th>1</th>\n",
       "      <td>HPSI0314i-fafq_1</td>\n",
       "      <td>21843_1#100</td>\n",
       "    </tr>\n",
       "    <tr>\n",
       "      <th>2</th>\n",
       "      <td>HPSI0314i-fafq_1</td>\n",
       "      <td>21843_1#101</td>\n",
       "    </tr>\n",
       "    <tr>\n",
       "      <th>3</th>\n",
       "      <td>HPSI1013i-wuye_2</td>\n",
       "      <td>21843_1#102</td>\n",
       "    </tr>\n",
       "    <tr>\n",
       "      <th>4</th>\n",
       "      <td>HPSI0114i-joxm_1</td>\n",
       "      <td>21843_1#103</td>\n",
       "    </tr>\n",
       "  </tbody>\n",
       "</table>\n",
       "</div>"
      ],
      "text/plain": [
       "  genotype_individual_id phenotype_sample_id\n",
       "0       HPSI0114i-joxm_1          21843_1#10\n",
       "1       HPSI0314i-fafq_1         21843_1#100\n",
       "2       HPSI0314i-fafq_1         21843_1#101\n",
       "3       HPSI1013i-wuye_2         21843_1#102\n",
       "4       HPSI0114i-joxm_1         21843_1#103"
      ]
     },
     "execution_count": 6,
     "metadata": {},
     "output_type": "execute_result"
    }
   ],
   "source": [
    "## genotype_individual_id are donor IDs, as found in the genotype matrix (G) and GRM covariance (K)\n",
    "## phenotype_sample_id are cell IDs, as found in the scRNA-seq phenotype vector (y) and cell context covariance (C)\n",
    "sample_mapping.head()"
   ]
  },
  {
   "cell_type": "code",
   "execution_count": 7,
   "id": "36438945",
   "metadata": {},
   "outputs": [
    {
     "name": "stdout",
     "output_type": "stream",
     "text": [
      "Number of unique donors: 126\n"
     ]
    }
   ],
   "source": [
    "## extract unique individuals\n",
    "donors = sample_mapping[\"genotype_individual_id\"].unique()\n",
    "donors.sort()\n",
    "print(\"Number of unique donors: {}\".format(len(donors)))"
   ]
  },
  {
   "cell_type": "code",
   "execution_count": 8,
   "id": "a877e72a",
   "metadata": {},
   "outputs": [],
   "source": [
    "############################################\n",
    "################ Kinship matrix ############\n",
    "############################################"
   ]
  },
  {
   "cell_type": "code",
   "execution_count": 9,
   "id": "81fee358",
   "metadata": {},
   "outputs": [],
   "source": [
    "## read in GRM (genotype relationship matrix; kinship matrix)\n",
    "kinship_folder=\"/hps/nobackup/hipsci/scratch/genotypes/imputed/2017-03-27/Full_Filtered_SNPs_Plink-F/\"\n",
    "kinship_file=kinship_folder+\"hipsci.wec.gtarray.HumanCoreExome.imputed_phased.20170327.genotypes.norm.renamed.kinship\"\n",
    "K = pd.read_csv(kinship_file, sep=\"\\t\", index_col=0)\n",
    "assert all(K.columns == K.index) #symmetric matrix, donors x donors"
   ]
  },
  {
   "cell_type": "code",
   "execution_count": 10,
   "id": "e45b9e45",
   "metadata": {},
   "outputs": [
    {
     "name": "stdout",
     "output_type": "stream",
     "text": [
      "Number of donors after kinship intersection: 125\n"
     ]
    }
   ],
   "source": [
    "K = xr.DataArray(K.values, dims=[\"sample_0\", \"sample_1\"], coords={\"sample_0\": K.columns, \"sample_1\": K.index})\n",
    "K = K.sortby(\"sample_0\").sortby(\"sample_1\")\n",
    "donors = sorted(set(list(K.sample_0.values)).intersection(donors))\n",
    "print(\"Number of donors after kinship intersection: {}\".format(len(donors)))"
   ]
  },
  {
   "cell_type": "code",
   "execution_count": 11,
   "id": "93129520",
   "metadata": {},
   "outputs": [],
   "source": [
    "## subset to relevant donors\n",
    "K = K.sel(sample_0=donors, sample_1=donors)\n",
    "assert all(K.sample_0 == donors)\n",
    "assert all(K.sample_1 == donors)"
   ]
  },
  {
   "cell_type": "code",
   "execution_count": 12,
   "id": "731b83fc",
   "metadata": {},
   "outputs": [],
   "source": [
    "## and decompose such as K = hK @ hK.T (using Cholesky decomposition)\n",
    "hK = cholesky(K.values)\n",
    "hK = xr.DataArray(hK, dims=[\"sample\", \"col\"], coords={\"sample\": K.sample_0.values})\n",
    "assert all(hK.sample.values == K.sample_0.values)"
   ]
  },
  {
   "cell_type": "code",
   "execution_count": 13,
   "id": "f23d6aaa",
   "metadata": {},
   "outputs": [
    {
     "name": "stdout",
     "output_type": "stream",
     "text": [
      "Sample mapping number of rows BEFORE intersection: 34256\n",
      "Sample mapping number of rows AFTER intersection: 33964\n"
     ]
    }
   ],
   "source": [
    "del K\n",
    "print(\"Sample mapping number of rows BEFORE intersection: {}\".format(sample_mapping.shape[0]))\n",
    "## subsample sample mapping file to donors in the kinship matrix\n",
    "sample_mapping = sample_mapping[sample_mapping[\"genotype_individual_id\"].isin(donors)]\n",
    "print(\"Sample mapping number of rows AFTER intersection: {}\".format(sample_mapping.shape[0]))"
   ]
  },
  {
   "cell_type": "code",
   "execution_count": 14,
   "id": "dcd69eab",
   "metadata": {},
   "outputs": [],
   "source": [
    "############################################\n",
    "##### expand from donors to cells ##########"
   ]
  },
  {
   "cell_type": "code",
   "execution_count": 15,
   "id": "a79f1b11",
   "metadata": {},
   "outputs": [],
   "source": [
    "## use sel from xarray to expand hK (using the sample mapping file)\n",
    "hK_expanded = hK.sel(sample=sample_mapping[\"genotype_individual_id\"].values)\n",
    "assert all(hK_expanded.sample.values == sample_mapping[\"genotype_individual_id\"].values)"
   ]
  },
  {
   "cell_type": "code",
   "execution_count": null,
   "id": "33b8a4b7",
   "metadata": {},
   "outputs": [],
   "source": []
  },
  {
   "cell_type": "code",
   "execution_count": 16,
   "id": "d4737a86",
   "metadata": {},
   "outputs": [],
   "source": [
    "######################################\n",
    "############### Genotypes ############\n",
    "######################################"
   ]
  },
  {
   "cell_type": "code",
   "execution_count": 17,
   "id": "f074819d",
   "metadata": {},
   "outputs": [
    {
     "name": "stderr",
     "output_type": "stream",
     "text": [
      "Mapping files: 100%|██████████| 3/3 [05:57<00:00, 119.10s/it]\n"
     ]
    }
   ],
   "source": [
    "## read in genotype file (plink format)\n",
    "plink_folder = \"/hps/nobackup/hipsci/scratch/genotypes/imputed/2017-03-27/Full_Filtered_SNPs_Plink/\"\n",
    "plink_file = plink_folder+\"hipsci.wec.gtarray.HumanCoreExome.imputed_phased.20170327.genotypes.norm.renamed.bed\"\n",
    "G = read_plink1_bin(plink_file)"
   ]
  },
  {
   "cell_type": "code",
   "execution_count": null,
   "id": "a96a8ab2",
   "metadata": {},
   "outputs": [],
   "source": []
  },
  {
   "cell_type": "code",
   "execution_count": 18,
   "id": "32db66f1",
   "metadata": {},
   "outputs": [],
   "source": [
    "######################################\n",
    "########## Cell contexts #############\n",
    "######################################"
   ]
  },
  {
   "cell_type": "code",
   "execution_count": 19,
   "id": "f732e437",
   "metadata": {},
   "outputs": [],
   "source": [
    "# cells by PCs (20)\n",
    "C_file = \"/hps/nobackup/stegle/users/acuomo/all_scripts/struct_LMM2/sc_endodiff/new/input_files/20PCs.csv\"\n",
    "C = pd.read_csv(C_file, index_col = 0)\n",
    "C = xr.DataArray(C.values, dims=[\"cell\", \"pc\"], coords={\"cell\": C.index.values, \"pc\": C.columns.values})\n",
    "C = C.sel(cell=sample_mapping[\"phenotype_sample_id\"].values)\n",
    "assert all(C.cell.values == sample_mapping[\"phenotype_sample_id\"].values)"
   ]
  },
  {
   "cell_type": "code",
   "execution_count": 20,
   "id": "a77bd281",
   "metadata": {},
   "outputs": [],
   "source": [
    "# quantile normalise cell contexts\n",
    "C_gauss = quantile_gaussianize(C)"
   ]
  },
  {
   "cell_type": "code",
   "execution_count": null,
   "id": "0d30f1d5",
   "metadata": {},
   "outputs": [],
   "source": []
  },
  {
   "cell_type": "code",
   "execution_count": 21,
   "id": "3bea9dca",
   "metadata": {},
   "outputs": [],
   "source": [
    "#####################################\n",
    "############ Phenotypes #############\n",
    "#####################################"
   ]
  },
  {
   "cell_type": "code",
   "execution_count": 22,
   "id": "80ddba4c",
   "metadata": {},
   "outputs": [
    {
     "name": "stdout",
     "output_type": "stream",
     "text": [
      "Phenotype shape BEFORE selection: (11231, 34256)\n",
      "Phenotype shape AFTER selection: (11231, 33964)\n"
     ]
    }
   ],
   "source": [
    "# Phenotype (single-cell expression)\n",
    "phenotype_file = input_files_dir+\"phenotype.csv.pkl\"\n",
    "phenotype = pd.read_pickle(phenotype_file)\n",
    "print(\"Phenotype shape BEFORE selection: {}\".format(phenotype.shape))\n",
    "phenotype = xr.DataArray(phenotype.values, dims=[\"trait\", \"cell\"], coords={\"trait\": phenotype.index.values, \"cell\": phenotype.columns.values})\n",
    "phenotype = phenotype.sel(cell=sample_mapping[\"phenotype_sample_id\"].values)\n",
    "print(\"Phenotype shape AFTER selection: {}\".format(phenotype.shape))\n",
    "assert all(phenotype.cell.values == sample_mapping[\"phenotype_sample_id\"].values)"
   ]
  },
  {
   "cell_type": "code",
   "execution_count": null,
   "id": "0a93daaf",
   "metadata": {},
   "outputs": [],
   "source": []
  },
  {
   "cell_type": "code",
   "execution_count": 23,
   "id": "0e59e47b",
   "metadata": {},
   "outputs": [],
   "source": [
    "#####################################\n",
    "############ Filter file ############\n",
    "#####################################"
   ]
  },
  {
   "cell_type": "code",
   "execution_count": 24,
   "id": "e52051c9",
   "metadata": {},
   "outputs": [
    {
     "data": {
      "text/html": [
       "<div>\n",
       "<style scoped>\n",
       "    .dataframe tbody tr th:only-of-type {\n",
       "        vertical-align: middle;\n",
       "    }\n",
       "\n",
       "    .dataframe tbody tr th {\n",
       "        vertical-align: top;\n",
       "    }\n",
       "\n",
       "    .dataframe thead th {\n",
       "        text-align: right;\n",
       "    }\n",
       "</style>\n",
       "<table border=\"1\" class=\"dataframe\">\n",
       "  <thead>\n",
       "    <tr style=\"text-align: right;\">\n",
       "      <th></th>\n",
       "      <th>snp_id</th>\n",
       "      <th>feature</th>\n",
       "      <th>stage</th>\n",
       "      <th>chrom</th>\n",
       "    </tr>\n",
       "  </thead>\n",
       "  <tbody>\n",
       "    <tr>\n",
       "      <th>0</th>\n",
       "      <td>5_149826526_C_T</td>\n",
       "      <td>ENSG00000164587_RPS14</td>\n",
       "      <td>ips</td>\n",
       "      <td>5</td>\n",
       "    </tr>\n",
       "    <tr>\n",
       "      <th>1</th>\n",
       "      <td>11_57283988_C_T</td>\n",
       "      <td>ENSG00000134809_TIMM10</td>\n",
       "      <td>ips</td>\n",
       "      <td>11</td>\n",
       "    </tr>\n",
       "  </tbody>\n",
       "</table>\n",
       "</div>"
      ],
      "text/plain": [
       "            snp_id                 feature stage  chrom\n",
       "0  5_149826526_C_T   ENSG00000164587_RPS14   ips      5\n",
       "1  11_57283988_C_T  ENSG00000134809_TIMM10   ips     11"
      ]
     },
     "execution_count": 24,
     "metadata": {},
     "output_type": "execute_result"
    }
   ],
   "source": [
    "# filter file (columns: snp_id, gene)\n",
    "endo_eqtl_file = input_files_dir+\"endodiff_eqtl_allconditions_FDR10pct.csv\"\n",
    "endo_eqtl = pd.read_csv(endo_eqtl_file, index_col = False)\n",
    "endo_eqtl[\"chrom\"] = [int(i[:i.find(\"_\")]) for i in endo_eqtl[\"snp_id\"]]\n",
    "endo_eqtl.head(2)"
   ]
  },
  {
   "cell_type": "code",
   "execution_count": 70,
   "id": "e4e15bfc",
   "metadata": {},
   "outputs": [],
   "source": [
    "chrom = 11\n",
    "# and consider eGenes on that chromosome\n",
    "genes = endo_eqtl[endo_eqtl['chrom']==int(chrom)]['feature'].unique()"
   ]
  },
  {
   "cell_type": "code",
   "execution_count": 71,
   "id": "b1958832",
   "metadata": {},
   "outputs": [
    {
     "data": {
      "text/plain": [
       "178"
      ]
     },
     "execution_count": 71,
     "metadata": {},
     "output_type": "execute_result"
    }
   ],
   "source": [
    "len(genes)"
   ]
  },
  {
   "cell_type": "code",
   "execution_count": 72,
   "id": "55152c6d",
   "metadata": {},
   "outputs": [],
   "source": [
    "outdir = \"/hps/nobackup/stegle/users/acuomo/all_scripts/struct_LMM2/sc_endodiff/debug_May2021/REVISION/CRM_int_PCA/\""
   ]
  },
  {
   "cell_type": "code",
   "execution_count": 77,
   "id": "32c58ce3",
   "metadata": {
    "scrolled": false
   },
   "outputs": [
    {
     "data": {
      "text/plain": [
       "array(['ENSG00000134809_TIMM10', 'ENSG00000196655_TRAPPC4',\n",
       "       'ENSG00000142089_IFITM3', 'ENSG00000171202_TMEM126A',\n",
       "       'ENSG00000166441_RPL27A', 'ENSG00000085063_CD59',\n",
       "       'ENSG00000166435_XRRA1', 'ENSG00000149089_APIP',\n",
       "       'ENSG00000182919_C11orf54', 'ENSG00000166452_AKIP1',\n",
       "       'ENSG00000177042_TMEM80', 'ENSG00000223756_TSSC2',\n",
       "       'ENSG00000177951_BET1L', 'ENSG00000189398_OR7E12P',\n",
       "       'ENSG00000110218_PANX1', 'ENSG00000173113_TRMT112',\n",
       "       'ENSG00000159063_ALG8', 'ENSG00000172500_FIBP',\n",
       "       'ENSG00000166402_TUB', 'ENSG00000134910_STT3A',\n",
       "       'ENSG00000185885_IFITM1', 'ENSG00000162174_ASRGL1',\n",
       "       'ENSG00000085733_CTTN', 'ENSG00000171067_C11orf24',\n",
       "       'ENSG00000149328_GLB1L2', 'ENSG00000172922_RNASEH2C',\n",
       "       'ENSG00000167311_ART5', 'ENSG00000166261_ZNF202',\n",
       "       'ENSG00000254772_EEF1G', 'ENSG00000021300_PLEKHB1',\n",
       "       'ENSG00000175634_RPS6KB2', 'ENSG00000185201_IFITM2',\n",
       "       'ENSG00000175575_PAAF1', 'ENSG00000158483_FAM86C1',\n",
       "       'ENSG00000132256_TRIM5', 'ENSG00000109861_CTSC',\n",
       "       'ENSG00000049449_RCN1', 'ENSG00000069482_GAL',\n",
       "       'ENSG00000148926_ADM', 'ENSG00000110074_FOXRED1',\n",
       "       'ENSG00000175390_EIF3F', 'ENSG00000158042_MRPL17',\n",
       "       'ENSG00000176485_PLA2G16', 'ENSG00000110011_DNAJC4',\n",
       "       'ENSG00000175567_UCP2', 'ENSG00000074266_EED',\n",
       "       'ENSG00000033327_GAB2', 'ENSG00000197345_MRPL21',\n",
       "       'ENSG00000110148_CCKBR', 'ENSG00000175220_ARHGAP1',\n",
       "       'ENSG00000173156_RHOD', 'ENSG00000110455_ACCS',\n",
       "       'ENSG00000175868_CALCB', 'ENSG00000173715_C11orf80',\n",
       "       'ENSG00000170955_PRKCDBP', 'ENSG00000256269_HMBS',\n",
       "       'ENSG00000121236_TRIM6', 'ENSG00000149257_SERPINH1',\n",
       "       'ENSG00000166337_TAF10', 'ENSG00000042429_MED17',\n",
       "       'ENSG00000129083_COPB1', 'ENSG00000174775_HRAS',\n",
       "       'ENSG00000175581_MRPL48', 'ENSG00000149547_EI24',\n",
       "       'ENSG00000175582_RAB6A', 'ENSG00000149054_ZNF215',\n",
       "       'ENSG00000118058_KMT2A', 'ENSG00000165323_FAT3',\n",
       "       'ENSG00000149084_HSD17B12', 'ENSG00000121691_CAT',\n",
       "       'ENSG00000186318_BACE1', 'ENSG00000179431_FJX1',\n",
       "       'ENSG00000187240_DYNC2H1', 'ENSG00000173264_GPR137',\n",
       "       'ENSG00000170903_MSANTD4', 'ENSG00000134825_TMEM258',\n",
       "       'ENSG00000151503_NCAPD3', 'ENSG00000109854_HTATIP2',\n",
       "       'ENSG00000149499_EML3', 'ENSG00000151502_VPS26B',\n",
       "       'ENSG00000185475_TMEM179B', 'ENSG00000177685_EFCAB4A',\n",
       "       'ENSG00000213619_NDUFS3', 'ENSG00000110628_SLC22A18',\n",
       "       'ENSG00000075239_ACAT1', 'ENSG00000185507_IRF7',\n",
       "       'ENSG00000150433_TMEM218', 'ENSG00000181649_PHLDA2',\n",
       "       'ENSG00000172663_TMEM134', 'ENSG00000204922_C11orf83',\n",
       "       'ENSG00000176340_COX8A', 'ENSG00000118181_RPS25',\n",
       "       'ENSG00000084207_GSTP1', 'ENSG00000175348_TMEM9B',\n",
       "       'ENSG00000014216_CAPN1', 'ENSG00000172273_HINFP',\n",
       "       'ENSG00000176148_TCP11L1', 'ENSG00000110442_COMMD9',\n",
       "       'ENSG00000170322_NFRKB', 'ENSG00000172890_NADSYN1',\n",
       "       'ENSG00000174080_CTSF', 'ENSG00000162337_LRP5',\n",
       "       'ENSG00000137513_NARS2', 'ENSG00000109929_SC5D',\n",
       "       'ENSG00000150316_CWC15', 'ENSG00000149292_TTC12',\n",
       "       'ENSG00000177697_CD151', 'ENSG00000182359_KBTBD3',\n",
       "       'ENSG00000149480_MTA2', 'ENSG00000160695_VPS11',\n",
       "       'ENSG00000162236_STX5', 'ENSG00000166387_PPFIBP2',\n",
       "       'ENSG00000110107_PRPF19', 'ENSG00000137760_ALKBH8',\n",
       "       'ENSG00000150455_TIRAP', 'ENSG00000185238_PRMT3',\n",
       "       'ENSG00000156603_MED19', 'ENSG00000149483_TMEM138',\n",
       "       'ENSG00000248643_RBM14-RBM4', 'ENSG00000142102_ATHL1',\n",
       "       'ENSG00000149761_NUDT22', 'ENSG00000126432_PRDX5',\n",
       "       'ENSG00000167325_RRM1', 'ENSG00000172269_DPAGT1',\n",
       "       'ENSG00000166471_TMEM41B', 'ENSG00000110660_SLC35F2',\n",
       "       'ENSG00000165434_PGM2L1', 'ENSG00000137642_SORL1',\n",
       "       'ENSG00000089597_GANAB', 'ENSG00000181924_COA4',\n",
       "       'ENSG00000160172_FAM86C2P', 'ENSG00000110717_NDUFS8',\n",
       "       'ENSG00000151366_NDUFC2', 'ENSG00000087365_SF3B2',\n",
       "       'ENSG00000021762_OSBPL5', 'ENSG00000186104_CYP2R1',\n",
       "       'ENSG00000214756_METTL12', 'ENSG00000168002_POLR2G',\n",
       "       'ENSG00000110002_VWA5A', 'ENSG00000177105_RHOG',\n",
       "       'ENSG00000020922_MRE11A', 'ENSG00000177156_TALDO1',\n",
       "       'ENSG00000214026_MRPL23', 'ENSG00000070081_NUCB2',\n",
       "       'ENSG00000129158_SERGEF', 'ENSG00000175229_GAL3ST3',\n",
       "       'ENSG00000174915_PTDSS2', 'ENSG00000182704_TSKU',\n",
       "       'ENSG00000170145_SIK2', 'ENSG00000185627_PSMD13',\n",
       "       'ENSG00000173120_KDM2A', 'ENSG00000087884_AAMDC',\n",
       "       'ENSG00000124942_AHNAK', 'ENSG00000166002_SMCO4',\n",
       "       'ENSG00000185187_SIGIRR', 'ENSG00000109919_MTCH2',\n",
       "       'ENSG00000157570_TSPAN18', 'ENSG00000173153_ESRRA',\n",
       "       'ENSG00000051009_FAM160A2', 'ENSG00000110075_PPP6R3',\n",
       "       'ENSG00000166444_ST5', 'ENSG00000213465_ARL2',\n",
       "       'ENSG00000123892_RAB38', 'ENSG00000167283_ATP5L',\n",
       "       'ENSG00000168004_HRASLS5', 'ENSG00000166313_APBB1',\n",
       "       'ENSG00000076706_MCAM', 'ENSG00000110619_CARS',\n",
       "       'ENSG00000076043_REXO2', 'ENSG00000149201_CCDC81',\n",
       "       'ENSG00000214517_PPME1', 'ENSG00000160584_SIK3',\n",
       "       'ENSG00000134954_ETS1', 'ENSG00000255823_MTRNR2L8',\n",
       "       'ENSG00000110756_HPS5', 'ENSG00000172638_EFEMP2',\n",
       "       'ENSG00000110768_GTF2H1', 'ENSG00000168056_LTBP3'], dtype=object)"
      ]
     },
     "execution_count": 77,
     "metadata": {},
     "output_type": "execute_result"
    }
   ],
   "source": [
    "genes"
   ]
  },
  {
   "cell_type": "code",
   "execution_count": null,
   "id": "3852fb06",
   "metadata": {},
   "outputs": [],
   "source": []
  },
  {
   "cell_type": "code",
   "execution_count": 78,
   "id": "3808625b",
   "metadata": {
    "scrolled": true
   },
   "outputs": [
    {
     "name": "stdout",
     "output_type": "stream",
     "text": [
      "File already exists, exiting\n",
      "File already exists, exiting\n",
      "File already exists, exiting\n",
      "File already exists, exiting\n",
      "File already exists, exiting\n",
      "File already exists, exiting\n",
      "File already exists, exiting\n",
      "File already exists, exiting\n",
      "File already exists, exiting\n",
      "File already exists, exiting\n",
      "File already exists, exiting\n",
      "File already exists, exiting\n",
      "File already exists, exiting\n",
      "File already exists, exiting\n",
      "File already exists, exiting\n",
      "File already exists, exiting\n",
      "File already exists, exiting\n",
      "File already exists, exiting\n",
      "File already exists, exiting\n",
      "File already exists, exiting\n",
      "File already exists, exiting\n",
      "File already exists, exiting\n",
      "File already exists, exiting\n",
      "File already exists, exiting\n",
      "File already exists, exiting\n",
      "File already exists, exiting\n",
      "File already exists, exiting\n",
      "File already exists, exiting\n",
      "File already exists, exiting\n",
      "File already exists, exiting\n",
      "File already exists, exiting\n",
      "File already exists, exiting\n",
      "File already exists, exiting\n",
      "File already exists, exiting\n",
      "File already exists, exiting\n",
      "File already exists, exiting\n",
      "File already exists, exiting\n",
      "File already exists, exiting\n",
      "File already exists, exiting\n",
      "File already exists, exiting\n",
      "File already exists, exiting\n",
      "File already exists, exiting\n",
      "File already exists, exiting\n",
      "File already exists, exiting\n",
      "File already exists, exiting\n",
      "File already exists, exiting\n",
      "File already exists, exiting\n",
      "File already exists, exiting\n",
      "File already exists, exiting\n",
      "File already exists, exiting\n",
      "File already exists, exiting\n",
      "File already exists, exiting\n",
      "File already exists, exiting\n",
      "File already exists, exiting\n",
      "File already exists, exiting\n",
      "File already exists, exiting\n",
      "File already exists, exiting\n",
      "File already exists, exiting\n",
      "File already exists, exiting\n",
      "File already exists, exiting\n",
      "File already exists, exiting\n",
      "File already exists, exiting\n",
      "File already exists, exiting\n",
      "File already exists, exiting\n",
      "File already exists, exiting\n",
      "File already exists, exiting\n",
      "File already exists, exiting\n",
      "File already exists, exiting\n",
      "File already exists, exiting\n",
      "File already exists, exiting\n",
      "File already exists, exiting\n",
      "File already exists, exiting\n",
      "File already exists, exiting\n",
      "File already exists, exiting\n",
      "File already exists, exiting\n",
      "File already exists, exiting\n",
      "File already exists, exiting\n",
      "File already exists, exiting\n",
      "File already exists, exiting\n",
      "File already exists, exiting\n",
      "File already exists, exiting\n",
      "File already exists, exiting\n",
      "File already exists, exiting\n",
      "File already exists, exiting\n",
      "File already exists, exiting\n",
      "File already exists, exiting\n",
      "File already exists, exiting\n",
      "File already exists, exiting\n",
      "File already exists, exiting\n",
      "File already exists, exiting\n",
      "File already exists, exiting\n",
      "File already exists, exiting\n",
      "File already exists, exiting\n",
      "File already exists, exiting\n",
      "File already exists, exiting\n",
      "File already exists, exiting\n",
      "File already exists, exiting\n",
      "File already exists, exiting\n",
      "File already exists, exiting\n",
      "File already exists, exiting\n",
      "File already exists, exiting\n",
      "File already exists, exiting\n",
      "File already exists, exiting\n",
      "File already exists, exiting\n",
      "File already exists, exiting\n",
      "File already exists, exiting\n",
      "File already exists, exiting\n",
      "File already exists, exiting\n",
      "File already exists, exiting\n",
      "File already exists, exiting\n",
      "File already exists, exiting\n",
      "File already exists, exiting\n",
      "File already exists, exiting\n",
      "File already exists, exiting\n",
      "File already exists, exiting\n",
      "File already exists, exiting\n",
      "File already exists, exiting\n",
      "File already exists, exiting\n",
      "File already exists, exiting\n",
      "File already exists, exiting\n",
      "File already exists, exiting\n",
      "File already exists, exiting\n",
      "File already exists, exiting\n",
      "File already exists, exiting\n",
      "File already exists, exiting\n",
      "File already exists, exiting\n",
      "File already exists, exiting\n",
      "File already exists, exiting\n",
      "File already exists, exiting\n",
      "File already exists, exiting\n",
      "File already exists, exiting\n",
      "File already exists, exiting\n",
      "File already exists, exiting\n",
      "File already exists, exiting\n",
      "File already exists, exiting\n",
      "File already exists, exiting\n",
      "File already exists, exiting\n",
      "File already exists, exiting\n",
      "File already exists, exiting\n",
      "File already exists, exiting\n",
      "File already exists, exiting\n",
      "File already exists, exiting\n",
      "File already exists, exiting\n",
      "File already exists, exiting\n",
      "File already exists, exiting\n",
      "File already exists, exiting\n",
      "File already exists, exiting\n",
      "File already exists, exiting\n",
      "File already exists, exiting\n",
      "File already exists, exiting\n",
      "File already exists, exiting\n",
      "File already exists, exiting\n",
      "File already exists, exiting\n",
      "File already exists, exiting\n",
      "File already exists, exiting\n",
      "File already exists, exiting\n",
      "File already exists, exiting\n",
      "File already exists, exiting\n",
      "File already exists, exiting\n",
      "File already exists, exiting\n",
      "File already exists, exiting\n",
      "File already exists, exiting\n",
      "File already exists, exiting\n",
      "File already exists, exiting\n",
      "File already exists, exiting\n",
      "File already exists, exiting\n",
      "File already exists, exiting\n",
      "File already exists, exiting\n",
      "File already exists, exiting\n",
      "File already exists, exiting\n",
      "File already exists, exiting\n",
      "File already exists, exiting\n",
      "File already exists, exiting\n",
      "File already exists, exiting\n",
      "File already exists, exiting\n",
      "File already exists, exiting\n",
      "File already exists, exiting\n",
      "File already exists, exiting\n"
     ]
    }
   ],
   "source": [
    "for gene_name in genes:\n",
    "    trait_name = re.sub(\"_.*\",\"\",gene_name)\n",
    "    outfilename = outdir + str(gene_name) + \".tsv\"\n",
    "    if os.path.exists(outfilename):\n",
    "        print(\"File already exists, exiting\")\n",
    "        continue\n",
    "    leads = endo_eqtl[endo_eqtl['feature']==gene_name]['snp_id'].unique()\n",
    "    G_sel = G[:,G['snp'].isin(leads)]\n",
    "    G_expanded = G_sel.sel(sample=sample_mapping[\"genotype_individual_id\"].values)\n",
    "    assert all(hK_expanded.sample.values == G_expanded.sample.values)\n",
    "#     trait_name = re.sub(\"-\",\".\",trait_name)\n",
    "    y = phenotype.sel(trait=gene_name)\n",
    "    y = quantile_gaussianize(y)\n",
    "    y = y.values.reshape(y.shape[0],1)\n",
    "    n_cells = phenotype.shape[1]\n",
    "    W = ones((n_cells, 1))\n",
    "    GG = G_expanded.values\n",
    "    print(\"Running for gene {}\".format(gene_name))\n",
    "    pvals = run_interaction(y=y, W=W, E=C_gauss.values[:,0:10], E1=C_gauss.values[:,0:10], E2=C.values[:,0:20], G=GG, hK=hK_expanded)[0]\n",
    "    pv = pd.DataFrame({\"chrom\":G_expanded.chrom.values,\n",
    "           \"pv\":pvals,\n",
    "           \"variant\":G_expanded.snp.values})\n",
    "    pv.to_csv(outfilename)"
   ]
  },
  {
   "cell_type": "code",
   "execution_count": null,
   "id": "cc5006b5",
   "metadata": {},
   "outputs": [],
   "source": []
  },
  {
   "cell_type": "code",
   "execution_count": null,
   "id": "5b9cafa2",
   "metadata": {},
   "outputs": [],
   "source": []
  }
 ],
 "metadata": {
  "kernelspec": {
   "display_name": "Python (struct-lmm2)",
   "language": "python",
   "name": "struct-lmm2"
  },
  "language_info": {
   "codemirror_mode": {
    "name": "ipython",
    "version": 3
   },
   "file_extension": ".py",
   "mimetype": "text/x-python",
   "name": "python",
   "nbconvert_exporter": "python",
   "pygments_lexer": "ipython3",
   "version": "3.8.5"
  }
 },
 "nbformat": 4,
 "nbformat_minor": 5
}
