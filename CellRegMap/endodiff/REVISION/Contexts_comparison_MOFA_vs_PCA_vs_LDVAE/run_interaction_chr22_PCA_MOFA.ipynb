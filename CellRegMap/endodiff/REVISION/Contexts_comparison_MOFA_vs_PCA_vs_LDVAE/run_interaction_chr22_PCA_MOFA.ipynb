{
 "cells": [
  {
   "cell_type": "code",
   "execution_count": 1,
   "id": "fdcfe8f4",
   "metadata": {},
   "outputs": [],
   "source": [
    "import os\n",
    "import re\n",
    "import time\n",
    "import pandas as pd\n",
    "import xarray as xr\n",
    "from numpy import ones\n",
    "from numpy.linalg import cholesky\n",
    "from pandas_plink import read_plink1_bin\n",
    "from limix.qc import quantile_gaussianize"
   ]
  },
  {
   "cell_type": "code",
   "execution_count": 2,
   "id": "4a553549",
   "metadata": {},
   "outputs": [
    {
     "data": {
      "text/plain": [
       "<module 'cellregmap' from '/hps/nobackup/stegle/users/acuomo/git_repos/CellRegMap/cellregmap/__init__.py'>"
      ]
     },
     "execution_count": 2,
     "metadata": {},
     "output_type": "execute_result"
    }
   ],
   "source": [
    "import cellregmap \n",
    "cellregmap "
   ]
  },
  {
   "cell_type": "code",
   "execution_count": 3,
   "id": "ba56d6c4",
   "metadata": {},
   "outputs": [],
   "source": [
    "from cellregmap import run_interaction"
   ]
  },
  {
   "cell_type": "code",
   "execution_count": 4,
   "id": "334627f8",
   "metadata": {},
   "outputs": [],
   "source": [
    "input_files_dir = \"/hps/nobackup/stegle/users/acuomo/all_scripts/struct_LMM2/sc_endodiff/new/input_files/\""
   ]
  },
  {
   "cell_type": "code",
   "execution_count": 5,
   "id": "e335fd07",
   "metadata": {},
   "outputs": [],
   "source": [
    "## sample mapping file\n",
    "## this file will map cells to donors \n",
    "## it will also only include donors we have single-cell data for (a subset of all of HipSci donors)\n",
    "sample_mapping_file = input_files_dir+\"sample_mapping_file.csv\"\n",
    "sample_mapping = pd.read_csv(sample_mapping_file, dtype={\"genotype_individual_id\": str, \"phenotype_sample_id\": str})"
   ]
  },
  {
   "cell_type": "code",
   "execution_count": 6,
   "id": "2376f693",
   "metadata": {},
   "outputs": [
    {
     "data": {
      "text/html": [
       "<div>\n",
       "<style scoped>\n",
       "    .dataframe tbody tr th:only-of-type {\n",
       "        vertical-align: middle;\n",
       "    }\n",
       "\n",
       "    .dataframe tbody tr th {\n",
       "        vertical-align: top;\n",
       "    }\n",
       "\n",
       "    .dataframe thead th {\n",
       "        text-align: right;\n",
       "    }\n",
       "</style>\n",
       "<table border=\"1\" class=\"dataframe\">\n",
       "  <thead>\n",
       "    <tr style=\"text-align: right;\">\n",
       "      <th></th>\n",
       "      <th>genotype_individual_id</th>\n",
       "      <th>phenotype_sample_id</th>\n",
       "    </tr>\n",
       "  </thead>\n",
       "  <tbody>\n",
       "    <tr>\n",
       "      <th>0</th>\n",
       "      <td>HPSI0114i-joxm_1</td>\n",
       "      <td>21843_1#10</td>\n",
       "    </tr>\n",
       "    <tr>\n",
       "      <th>1</th>\n",
       "      <td>HPSI0314i-fafq_1</td>\n",
       "      <td>21843_1#100</td>\n",
       "    </tr>\n",
       "    <tr>\n",
       "      <th>2</th>\n",
       "      <td>HPSI0314i-fafq_1</td>\n",
       "      <td>21843_1#101</td>\n",
       "    </tr>\n",
       "    <tr>\n",
       "      <th>3</th>\n",
       "      <td>HPSI1013i-wuye_2</td>\n",
       "      <td>21843_1#102</td>\n",
       "    </tr>\n",
       "    <tr>\n",
       "      <th>4</th>\n",
       "      <td>HPSI0114i-joxm_1</td>\n",
       "      <td>21843_1#103</td>\n",
       "    </tr>\n",
       "  </tbody>\n",
       "</table>\n",
       "</div>"
      ],
      "text/plain": [
       "  genotype_individual_id phenotype_sample_id\n",
       "0       HPSI0114i-joxm_1          21843_1#10\n",
       "1       HPSI0314i-fafq_1         21843_1#100\n",
       "2       HPSI0314i-fafq_1         21843_1#101\n",
       "3       HPSI1013i-wuye_2         21843_1#102\n",
       "4       HPSI0114i-joxm_1         21843_1#103"
      ]
     },
     "execution_count": 6,
     "metadata": {},
     "output_type": "execute_result"
    }
   ],
   "source": [
    "## genotype_individual_id are donor IDs, as found in the genotype matrix (G) and GRM covariance (K)\n",
    "## phenotype_sample_id are cell IDs, as found in the scRNA-seq phenotype vector (y) and cell context covariance (C)\n",
    "sample_mapping.head()"
   ]
  },
  {
   "cell_type": "code",
   "execution_count": 7,
   "id": "36438945",
   "metadata": {},
   "outputs": [
    {
     "name": "stdout",
     "output_type": "stream",
     "text": [
      "Number of unique donors: 126\n"
     ]
    }
   ],
   "source": [
    "## extract unique individuals\n",
    "donors = sample_mapping[\"genotype_individual_id\"].unique()\n",
    "donors.sort()\n",
    "print(\"Number of unique donors: {}\".format(len(donors)))"
   ]
  },
  {
   "cell_type": "code",
   "execution_count": 8,
   "id": "a877e72a",
   "metadata": {},
   "outputs": [],
   "source": [
    "############################################\n",
    "################ Kinship matrix ############\n",
    "############################################"
   ]
  },
  {
   "cell_type": "code",
   "execution_count": 9,
   "id": "81fee358",
   "metadata": {},
   "outputs": [],
   "source": [
    "## read in GRM (genotype relationship matrix; kinship matrix)\n",
    "kinship_folder=\"/hps/nobackup/hipsci/scratch/genotypes/imputed/2017-03-27/Full_Filtered_SNPs_Plink-F/\"\n",
    "kinship_file=kinship_folder+\"hipsci.wec.gtarray.HumanCoreExome.imputed_phased.20170327.genotypes.norm.renamed.kinship\"\n",
    "K = pd.read_csv(kinship_file, sep=\"\\t\", index_col=0)\n",
    "assert all(K.columns == K.index) #symmetric matrix, donors x donors"
   ]
  },
  {
   "cell_type": "code",
   "execution_count": 10,
   "id": "e45b9e45",
   "metadata": {},
   "outputs": [
    {
     "name": "stdout",
     "output_type": "stream",
     "text": [
      "Number of donors after kinship intersection: 125\n"
     ]
    }
   ],
   "source": [
    "K = xr.DataArray(K.values, dims=[\"sample_0\", \"sample_1\"], coords={\"sample_0\": K.columns, \"sample_1\": K.index})\n",
    "K = K.sortby(\"sample_0\").sortby(\"sample_1\")\n",
    "donors = sorted(set(list(K.sample_0.values)).intersection(donors))\n",
    "print(\"Number of donors after kinship intersection: {}\".format(len(donors)))"
   ]
  },
  {
   "cell_type": "code",
   "execution_count": 11,
   "id": "93129520",
   "metadata": {},
   "outputs": [],
   "source": [
    "## subset to relevant donors\n",
    "K = K.sel(sample_0=donors, sample_1=donors)\n",
    "assert all(K.sample_0 == donors)\n",
    "assert all(K.sample_1 == donors)"
   ]
  },
  {
   "cell_type": "code",
   "execution_count": 12,
   "id": "731b83fc",
   "metadata": {},
   "outputs": [],
   "source": [
    "## and decompose such as K = hK @ hK.T (using Cholesky decomposition)\n",
    "hK = cholesky(K.values)\n",
    "hK = xr.DataArray(hK, dims=[\"sample\", \"col\"], coords={\"sample\": K.sample_0.values})\n",
    "assert all(hK.sample.values == K.sample_0.values)"
   ]
  },
  {
   "cell_type": "code",
   "execution_count": 13,
   "id": "f23d6aaa",
   "metadata": {},
   "outputs": [
    {
     "name": "stdout",
     "output_type": "stream",
     "text": [
      "Sample mapping number of rows BEFORE intersection: 34256\n",
      "Sample mapping number of rows AFTER intersection: 33964\n"
     ]
    }
   ],
   "source": [
    "del K\n",
    "print(\"Sample mapping number of rows BEFORE intersection: {}\".format(sample_mapping.shape[0]))\n",
    "## subsample sample mapping file to donors in the kinship matrix\n",
    "sample_mapping = sample_mapping[sample_mapping[\"genotype_individual_id\"].isin(donors)]\n",
    "print(\"Sample mapping number of rows AFTER intersection: {}\".format(sample_mapping.shape[0]))"
   ]
  },
  {
   "cell_type": "code",
   "execution_count": 14,
   "id": "dcd69eab",
   "metadata": {},
   "outputs": [],
   "source": [
    "############################################\n",
    "##### expand from donors to cells ##########"
   ]
  },
  {
   "cell_type": "code",
   "execution_count": 18,
   "id": "a79f1b11",
   "metadata": {},
   "outputs": [],
   "source": [
    "## use sel from xarray to expand hK (using the sample mapping file)\n",
    "hK_expanded = hK.sel(sample=sample_mapping[\"genotype_individual_id\"].values)\n",
    "assert all(hK_expanded.sample.values == sample_mapping[\"genotype_individual_id\"].values)"
   ]
  },
  {
   "cell_type": "code",
   "execution_count": null,
   "id": "33b8a4b7",
   "metadata": {},
   "outputs": [],
   "source": []
  },
  {
   "cell_type": "code",
   "execution_count": 19,
   "id": "d4737a86",
   "metadata": {},
   "outputs": [],
   "source": [
    "######################################\n",
    "############### Genotypes ############\n",
    "######################################"
   ]
  },
  {
   "cell_type": "code",
   "execution_count": 20,
   "id": "f074819d",
   "metadata": {},
   "outputs": [
    {
     "name": "stderr",
     "output_type": "stream",
     "text": [
      "\n",
      "Mapping files:   0%|          | 0/3 [00:00<?, ?it/s]\u001b[A\n",
      "Mapping files:  33%|███▎      | 1/3 [00:15<00:31, 15.66s/it]\u001b[A\n",
      "Mapping files:  67%|██████▋   | 2/3 [00:16<00:11, 11.27s/it]\u001b[A\n",
      "Mapping files: 100%|██████████| 3/3 [06:02<00:00, 120.94s/it]\u001b[A\n"
     ]
    }
   ],
   "source": [
    "## read in genotype file (plink format)\n",
    "plink_folder = \"/hps/nobackup/hipsci/scratch/genotypes/imputed/2017-03-27/Full_Filtered_SNPs_Plink/\"\n",
    "plink_file = plink_folder+\"hipsci.wec.gtarray.HumanCoreExome.imputed_phased.20170327.genotypes.norm.renamed.bed\"\n",
    "G = read_plink1_bin(plink_file)"
   ]
  },
  {
   "cell_type": "code",
   "execution_count": null,
   "id": "a96a8ab2",
   "metadata": {},
   "outputs": [],
   "source": []
  },
  {
   "cell_type": "code",
   "execution_count": 21,
   "id": "32db66f1",
   "metadata": {},
   "outputs": [],
   "source": [
    "######################################\n",
    "########## Cell contexts #############\n",
    "######################################"
   ]
  },
  {
   "cell_type": "code",
   "execution_count": 22,
   "id": "f732e437",
   "metadata": {},
   "outputs": [],
   "source": [
    "# cells by PCs (20)\n",
    "C_file = \"/hps/nobackup/stegle/users/acuomo/all_scripts/struct_LMM2/sc_endodiff/new/input_files/20PCs.csv\"\n",
    "C = pd.read_csv(C_file, index_col = 0)\n",
    "C = xr.DataArray(C.values, dims=[\"cell\", \"pc\"], coords={\"cell\": C.index.values, \"pc\": C.columns.values})\n",
    "C = C.sel(cell=sample_mapping[\"phenotype_sample_id\"].values)\n",
    "assert all(C.cell.values == sample_mapping[\"phenotype_sample_id\"].values)"
   ]
  },
  {
   "cell_type": "code",
   "execution_count": 23,
   "id": "a77bd281",
   "metadata": {},
   "outputs": [],
   "source": [
    "# quantile normalise cell contexts\n",
    "C1 = C\n",
    "C1_gauss = quantile_gaussianize(C1)"
   ]
  },
  {
   "cell_type": "code",
   "execution_count": 24,
   "id": "bf8290cd",
   "metadata": {},
   "outputs": [],
   "source": [
    "# cells by MOFA factors (20)\n",
    "C_file = \"/hps/nobackup/stegle/users/acuomo/all_scripts/struct_LMM2/sc_endodiff/debug_May2021/mofa_logcounts_model_factors.csv\"\n",
    "C = pd.read_csv(C_file, index_col = 0)\n",
    "C = xr.DataArray(C.values, dims=[\"cell\", \"pc\"], coords={\"cell\": C.index.values, \"pc\": C.columns.values})\n",
    "C = C.sel(cell=sample_mapping[\"phenotype_sample_id\"].values)\n",
    "assert all(C.cell.values == sample_mapping[\"phenotype_sample_id\"].values)"
   ]
  },
  {
   "cell_type": "code",
   "execution_count": 25,
   "id": "2b3bc30e",
   "metadata": {},
   "outputs": [],
   "source": [
    "# quantile normalise cell contexts\n",
    "C2 = C\n",
    "C2_gauss = quantile_gaussianize(C2)"
   ]
  },
  {
   "cell_type": "code",
   "execution_count": null,
   "id": "5184b47a",
   "metadata": {},
   "outputs": [],
   "source": []
  },
  {
   "cell_type": "code",
   "execution_count": 26,
   "id": "2b23365d",
   "metadata": {},
   "outputs": [],
   "source": [
    "import matplotlib.pyplot as plt"
   ]
  },
  {
   "cell_type": "code",
   "execution_count": 27,
   "id": "3c9f43cf",
   "metadata": {},
   "outputs": [
    {
     "data": {
      "text/plain": [
       "<matplotlib.image.AxesImage at 0x2b1ab6a7d8e0>"
      ]
     },
     "execution_count": 27,
     "metadata": {},
     "output_type": "execute_result"
    },
    {
     "data": {
      "image/png": "[encoded data removed]",
      "text/plain": [
       "<Figure size 288x288 with 1 Axes>"
      ]
     },
     "metadata": {
      "needs_background": "light"
     },
     "output_type": "display_data"
    }
   ],
   "source": [
    "plt.matshow(C1.values @ C1.values.T)"
   ]
  },
  {
   "cell_type": "code",
   "execution_count": 26,
   "id": "7d8436ad",
   "metadata": {},
   "outputs": [
    {
     "data": {
      "text/plain": [
       "<matplotlib.image.AxesImage at 0x2b4a744e0040>"
      ]
     },
     "execution_count": 26,
     "metadata": {},
     "output_type": "execute_result"
    },
    {
     "data": {
      "image/png": "[encoded data removed]",
      "text/plain": [
       "<Figure size 288x288 with 1 Axes>"
      ]
     },
     "metadata": {
      "needs_background": "light"
     },
     "output_type": "display_data"
    }
   ],
   "source": [
    "plt.matshow(C2.values @ C2.values.T)"
   ]
  },
  {
   "cell_type": "code",
   "execution_count": 27,
   "id": "49518313",
   "metadata": {},
   "outputs": [
    {
     "data": {
      "text/plain": [
       "<matplotlib.image.AxesImage at 0x2b4a73e783a0>"
      ]
     },
     "execution_count": 27,
     "metadata": {},
     "output_type": "execute_result"
    },
    {
     "data": {
      "image/png": "[encoded data removed]",
      "text/plain": [
       "<Figure size 288x288 with 1 Axes>"
      ]
     },
     "metadata": {
      "needs_background": "light"
     },
     "output_type": "display_data"
    }
   ],
   "source": [
    "plt.matshow(C1_gauss.values @ C1_gauss.values.T)"
   ]
  },
  {
   "cell_type": "code",
   "execution_count": 28,
   "id": "14e9f061",
   "metadata": {},
   "outputs": [
    {
     "data": {
      "text/plain": [
       "<matplotlib.image.AxesImage at 0x2b4a7384c550>"
      ]
     },
     "execution_count": 28,
     "metadata": {},
     "output_type": "execute_result"
    },
    {
     "data": {
      "image/png": "[encoded data removed]",
      "text/plain": [
       "<Figure size 288x288 with 1 Axes>"
      ]
     },
     "metadata": {
      "needs_background": "light"
     },
     "output_type": "display_data"
    }
   ],
   "source": [
    "plt.matshow(C2_gauss.values @ C2_gauss.values.T)"
   ]
  },
  {
   "cell_type": "code",
   "execution_count": null,
   "id": "0d30f1d5",
   "metadata": {},
   "outputs": [],
   "source": []
  },
  {
   "cell_type": "code",
   "execution_count": 21,
   "id": "3bea9dca",
   "metadata": {},
   "outputs": [],
   "source": [
    "#####################################\n",
    "############ Phenotypes #############\n",
    "#####################################"
   ]
  },
  {
   "cell_type": "code",
   "execution_count": 28,
   "id": "80ddba4c",
   "metadata": {},
   "outputs": [
    {
     "name": "stdout",
     "output_type": "stream",
     "text": [
      "Phenotype shape BEFORE selection: (11231, 34256)\n",
      "Phenotype shape AFTER selection: (11231, 33964)\n"
     ]
    }
   ],
   "source": [
    "# Phenotype (single-cell expression)\n",
    "phenotype_file = input_files_dir+\"phenotype.csv.pkl\"\n",
    "phenotype = pd.read_pickle(phenotype_file)\n",
    "print(\"Phenotype shape BEFORE selection: {}\".format(phenotype.shape))\n",
    "phenotype = xr.DataArray(phenotype.values, dims=[\"trait\", \"cell\"], coords={\"trait\": phenotype.index.values, \"cell\": phenotype.columns.values})\n",
    "phenotype = phenotype.sel(cell=sample_mapping[\"phenotype_sample_id\"].values)\n",
    "print(\"Phenotype shape AFTER selection: {}\".format(phenotype.shape))\n",
    "assert all(phenotype.cell.values == sample_mapping[\"phenotype_sample_id\"].values)"
   ]
  },
  {
   "cell_type": "code",
   "execution_count": null,
   "id": "0a93daaf",
   "metadata": {},
   "outputs": [],
   "source": []
  },
  {
   "cell_type": "code",
   "execution_count": 29,
   "id": "0e59e47b",
   "metadata": {},
   "outputs": [],
   "source": [
    "#####################################\n",
    "############ Filter file ############\n",
    "#####################################"
   ]
  },
  {
   "cell_type": "code",
   "execution_count": 30,
   "id": "e52051c9",
   "metadata": {},
   "outputs": [
    {
     "data": {
      "text/html": [
       "<div>\n",
       "<style scoped>\n",
       "    .dataframe tbody tr th:only-of-type {\n",
       "        vertical-align: middle;\n",
       "    }\n",
       "\n",
       "    .dataframe tbody tr th {\n",
       "        vertical-align: top;\n",
       "    }\n",
       "\n",
       "    .dataframe thead th {\n",
       "        text-align: right;\n",
       "    }\n",
       "</style>\n",
       "<table border=\"1\" class=\"dataframe\">\n",
       "  <thead>\n",
       "    <tr style=\"text-align: right;\">\n",
       "      <th></th>\n",
       "      <th>snp_id</th>\n",
       "      <th>feature</th>\n",
       "      <th>stage</th>\n",
       "      <th>chrom</th>\n",
       "    </tr>\n",
       "  </thead>\n",
       "  <tbody>\n",
       "    <tr>\n",
       "      <th>0</th>\n",
       "      <td>5_149826526_C_T</td>\n",
       "      <td>ENSG00000164587_RPS14</td>\n",
       "      <td>ips</td>\n",
       "      <td>5</td>\n",
       "    </tr>\n",
       "    <tr>\n",
       "      <th>1</th>\n",
       "      <td>11_57283988_C_T</td>\n",
       "      <td>ENSG00000134809_TIMM10</td>\n",
       "      <td>ips</td>\n",
       "      <td>11</td>\n",
       "    </tr>\n",
       "  </tbody>\n",
       "</table>\n",
       "</div>"
      ],
      "text/plain": [
       "            snp_id                 feature stage  chrom\n",
       "0  5_149826526_C_T   ENSG00000164587_RPS14   ips      5\n",
       "1  11_57283988_C_T  ENSG00000134809_TIMM10   ips     11"
      ]
     },
     "execution_count": 30,
     "metadata": {},
     "output_type": "execute_result"
    }
   ],
   "source": [
    "# filter file (columns: snp_id, gene)\n",
    "endo_eqtl_file = input_files_dir+\"endodiff_eqtl_allconditions_FDR10pct.csv\"\n",
    "endo_eqtl = pd.read_csv(endo_eqtl_file, index_col = False)\n",
    "endo_eqtl[\"chrom\"] = [int(i[:i.find(\"_\")]) for i in endo_eqtl[\"snp_id\"]]\n",
    "endo_eqtl.head(2)"
   ]
  },
  {
   "cell_type": "code",
   "execution_count": 31,
   "id": "e4e15bfc",
   "metadata": {},
   "outputs": [],
   "source": [
    "chrom = 22\n",
    "# and consider eGenes on that chromosome\n",
    "genes = endo_eqtl[endo_eqtl['chrom']==int(chrom)]['feature'].unique()"
   ]
  },
  {
   "cell_type": "code",
   "execution_count": 32,
   "id": "b1958832",
   "metadata": {},
   "outputs": [
    {
     "data": {
      "text/plain": [
       "88"
      ]
     },
     "execution_count": 32,
     "metadata": {},
     "output_type": "execute_result"
    }
   ],
   "source": [
    "len(genes)"
   ]
  },
  {
   "cell_type": "code",
   "execution_count": 33,
   "id": "55152c6d",
   "metadata": {},
   "outputs": [],
   "source": [
    "outdir = \"/hps/nobackup/stegle/users/acuomo/all_scripts/struct_LMM2/sc_endodiff/debug_May2021/REVISION/CRM_int_PCA/\""
   ]
  },
  {
   "cell_type": "code",
   "execution_count": 34,
   "id": "32c58ce3",
   "metadata": {},
   "outputs": [
    {
     "data": {
      "text/plain": [
       "array(['ENSG00000100058_CRYBB2P1', 'ENSG00000184674_GSTT1',\n",
       "       'ENSG00000196236_XPNPEP3', 'ENSG00000189306_RRP7A',\n",
       "       'ENSG00000100410_PHF5A', 'ENSG00000093072_CECR1',\n",
       "       'ENSG00000099974_DDTL', 'ENSG00000100033_PRODH',\n",
       "       'ENSG00000179750_APOBEC3B', 'ENSG00000099984_GSTT2',\n",
       "       'ENSG00000100429_HDAC10', 'ENSG00000100122_CRYBB1',\n",
       "       'ENSG00000133433_GSTT2B', 'ENSG00000128283_CDC42EP1',\n",
       "       'ENSG00000099942_CRKL', 'ENSG00000215012_C22orf29',\n",
       "       'ENSG00000100422_CERK', 'ENSG00000100376_FAM118A',\n",
       "       'ENSG00000099940_SNAP29', 'ENSG00000100417_PMM1',\n",
       "       'ENSG00000075234_TTC38', 'ENSG00000211643_IGLV5-52',\n",
       "       'ENSG00000099977_DDT', 'ENSG00000128191_DGCR8',\n",
       "       'ENSG00000100413_POLR3H', 'ENSG00000185339_TCN2',\n",
       "       'ENSG00000128294_TPST2', 'ENSG00000185838_GNB1L',\n",
       "       'ENSG00000184983_NDUFA6', 'ENSG00000185651_UBE2L3',\n",
       "       'ENSG00000100243_CYB5R3', 'ENSG00000169314_C22orf15',\n",
       "       'ENSG00000244509_APOBEC3C', 'ENSG00000100347_SAMM50',\n",
       "       'ENSG00000100292_HMOX1', 'ENSG00000099991_CABIN1',\n",
       "       'ENSG00000100196_KDELR3', 'ENSG00000100083_GGA1',\n",
       "       'ENSG00000183628_DGCR6', 'ENSG00000133422_MORC2',\n",
       "       'ENSG00000100097_LGALS1', 'ENSG00000100299_ARSA',\n",
       "       'ENSG00000100258_LMF2', 'ENSG00000100321_SYNGR1',\n",
       "       'ENSG00000100362_PVALB', 'ENSG00000184979_USP18',\n",
       "       'ENSG00000100263_RHBDD3', 'ENSG00000100304_TTLL12',\n",
       "       'ENSG00000184949_FAM227A', 'ENSG00000198951_NAGA',\n",
       "       'ENSG00000100330_MTMR3', 'ENSG00000077942_FBLN1',\n",
       "       'ENSG00000177663_IL17RA', 'ENSG00000219438_FAM19A5',\n",
       "       'ENSG00000100380_ST13', 'ENSG00000167065_DUSP18',\n",
       "       'ENSG00000185133_INPP5J', 'ENSG00000099995_SF3A1',\n",
       "       'ENSG00000128394_APOBEC3F', 'ENSG00000100027_YPEL1',\n",
       "       'ENSG00000184117_NIPSNAP1', 'ENSG00000100311_PDGFB',\n",
       "       'ENSG00000100242_SUN2', 'ENSG00000100234_TIMP3',\n",
       "       'ENSG00000100416_TRMU', 'ENSG00000100124_ANKRD54',\n",
       "       'ENSG00000214076_CPSF1P1', 'ENSG00000196419_XRCC6',\n",
       "       'ENSG00000196576_PLXNB2', 'ENSG00000100345_MYH9',\n",
       "       'ENSG00000187860_CCDC157', 'ENSG00000100344_PNPLA3',\n",
       "       'ENSG00000128185_DGCR6L', 'ENSG00000100031_GGT1',\n",
       "       'ENSG00000100241_SBF1', 'ENSG00000183864_TOB2',\n",
       "       'ENSG00000099949_LZTR1', 'ENSG00000100162_CENPM',\n",
       "       'ENSG00000198089_SFI1', 'ENSG00000189060_H1F0',\n",
       "       'ENSG00000183569_SERHL2', 'ENSG00000198355_PIM3',\n",
       "       'ENSG00000185022_MAFF', 'ENSG00000100038_TOP3B',\n",
       "       'ENSG00000100206_DMC1', 'ENSG00000100290_BIK',\n",
       "       'ENSG00000100316_RPL3', 'ENSG00000100201_DDX17'], dtype=object)"
      ]
     },
     "execution_count": 34,
     "metadata": {},
     "output_type": "execute_result"
    }
   ],
   "source": [
    "genes"
   ]
  },
  {
   "cell_type": "code",
   "execution_count": 119,
   "id": "5ddd671a",
   "metadata": {},
   "outputs": [
    {
     "data": {
      "text/plain": [
       "'ENSG00000211643_IGLV5-52'"
      ]
     },
     "execution_count": 119,
     "metadata": {},
     "output_type": "execute_result"
    }
   ],
   "source": [
    "gene_name = genes[21]\n",
    "gene_name"
   ]
  },
  {
   "cell_type": "code",
   "execution_count": 126,
   "id": "d5915cb9",
   "metadata": {},
   "outputs": [
    {
     "data": {
      "text/plain": [
       "'ENSG00000211643'"
      ]
     },
     "execution_count": 126,
     "metadata": {},
     "output_type": "execute_result"
    }
   ],
   "source": [
    "trait_name = re.sub(\"_.*\",\"\",gene_name)\n",
    "trait_name"
   ]
  },
  {
   "cell_type": "code",
   "execution_count": 121,
   "id": "7846e1fb",
   "metadata": {},
   "outputs": [
    {
     "name": "stderr",
     "output_type": "stream",
     "text": [
      "/nfs/software/stegle/users/acuomo/conda-envs/struct-lmm2/lib/python3.8/site-packages/xarray/core/indexing.py:1369: PerformanceWarning: Slicing with an out-of-order index is generating 2383 times more chunks\n",
      "  return self.array[key]\n"
     ]
    }
   ],
   "source": [
    "leads = endo_eqtl[endo_eqtl['feature']==gene_name]['snp_id'].unique()\n",
    "G_sel = G[:,G['snp'].isin(leads)]\n",
    "G_expanded = G_sel.sel(sample=sample_mapping[\"genotype_individual_id\"].values)\n",
    "assert all(hK_expanded.sample.values == G_expanded.sample.values)\n",
    "#     trait_name = re.sub(\"-\",\".\",trait_name)"
   ]
  },
  {
   "cell_type": "code",
   "execution_count": 122,
   "id": "580a43ce",
   "metadata": {},
   "outputs": [],
   "source": [
    "y = phenotype.sel(trait=gene_name)\n",
    "y = quantile_gaussianize(y)\n",
    "y = y.values.reshape(y.shape[0],1)\n",
    "n_cells = phenotype.shape[1]\n",
    "W = ones((n_cells, 1))\n",
    "GG = G_expanded.values"
   ]
  },
  {
   "cell_type": "code",
   "execution_count": null,
   "id": "e23611a9",
   "metadata": {},
   "outputs": [],
   "source": []
  },
  {
   "cell_type": "code",
   "execution_count": null,
   "id": "9d8b72e4",
   "metadata": {},
   "outputs": [],
   "source": [
    "# to plot in R\n",
    "\n",
    "## MOFA (pv2)\n",
    "x = c(8.465845e-10,  2.912894e-02, 3.468064e-10,  0.005462, 0.348159, 0.092094, 0.018068, 0.202231, 0.375638, 0.720105, 0.471773, \n",
    "     3.969373e-13, 5.576247e-13, 0.208862, 0.656033, 0.353284, 0.006725, 0.888190, 0.000003, 0.011491, 1.328878e-11, 6.727592e-12,\n",
    "     0.436182, 0.686520, 2.398976e-17,  1.300539e-11, 3.080535e-10, 3.930914e-09, 0.318595, 0.057419, 0.011458, 0.914385, 0.971026, 0.057087,\n",
    "     0.038254, 0.000005, 0.419376, 0.145234, 0.25096)\n",
    "## PCA same settings (pv1)\n",
    "y0 = c(3.925165e-08, 1.479959e-01, 0.000002, 0.000013, 0.506967, 0.623026, 0.573080, 0.617558, 0.010549, 0.063797,  0.737298, \n",
    "      4.305688e-08, 4.265852e-08,  0.496111, 0.113183, 0.770560, 0.006461, 0.843212, 0.000083, 0.790454, 0.371885, 0.000005,\n",
    "      0.002163, 0.000973, 0.002189, 2.790155e-01, 1.607384e-05, 7.375778e-07, 0.167699, 0.076387, 0.016253, 0.151978, 0.399287, 0.000248,\n",
    "      0.060604, 0.001412, 0.027694, 3.246701e-13, 0.235666)\n",
    "## PCA new settings (pv3)\n",
    "y1 = c(2.621800e-09, 1.523839e-01, 7.361991e-07, 0.000091,  0.150256, 0.208150, 0.071290,  0.103972, 0.594653, 0.873261, 0.880462, \n",
    "    5.975197e-11, 6.204527e-11, 0.073163, 0.522266, 0.157959, 0.000009, 0.771356,  0.000026, 0.015247, 0.000002,  0.000001,\n",
    "      0.068251, 0.344028, 1.544407e-11, 5.245872e-07, 7.264206e-06, 1.030548e-07, 0.032324, 0.660564, 0.026923, 0.761398, 0.941789, 0.027940,\n",
    "      0.138652, 0.000231, 0.123492, 0.212339, 0.099479)"
   ]
  },
  {
   "cell_type": "code",
   "execution_count": null,
   "id": "4dcee677",
   "metadata": {},
   "outputs": [],
   "source": [
    "### ENSG00000211643_IGLV5-52"
   ]
  },
  {
   "cell_type": "code",
   "execution_count": 127,
   "id": "70861d2e",
   "metadata": {},
   "outputs": [
    {
     "name": "stderr",
     "output_type": "stream",
     "text": [
      "\n",
      "  0%|          | 0/3 [00:00<?, ?it/s]\u001b[A\n",
      " 33%|███▎      | 1/3 [05:42<11:25, 342.94s/it]\u001b[A\n",
      " 67%|██████▋   | 2/3 [11:28<05:43, 343.71s/it]\u001b[A\n",
      "100%|██████████| 3/3 [17:14<00:00, 344.92s/it]\u001b[A\n"
     ]
    },
    {
     "data": {
      "text/html": [
       "<div>\n",
       "<style scoped>\n",
       "    .dataframe tbody tr th:only-of-type {\n",
       "        vertical-align: middle;\n",
       "    }\n",
       "\n",
       "    .dataframe tbody tr th {\n",
       "        vertical-align: top;\n",
       "    }\n",
       "\n",
       "    .dataframe thead th {\n",
       "        text-align: right;\n",
       "    }\n",
       "</style>\n",
       "<table border=\"1\" class=\"dataframe\">\n",
       "  <thead>\n",
       "    <tr style=\"text-align: right;\">\n",
       "      <th></th>\n",
       "      <th>chrom</th>\n",
       "      <th>pv</th>\n",
       "      <th>variant</th>\n",
       "    </tr>\n",
       "  </thead>\n",
       "  <tbody>\n",
       "    <tr>\n",
       "      <th>0</th>\n",
       "      <td>22</td>\n",
       "      <td>0.000897</td>\n",
       "      <td>22_22645490_G_A</td>\n",
       "    </tr>\n",
       "    <tr>\n",
       "      <th>1</th>\n",
       "      <td>22</td>\n",
       "      <td>0.000025</td>\n",
       "      <td>22_22661150_T_C</td>\n",
       "    </tr>\n",
       "    <tr>\n",
       "      <th>2</th>\n",
       "      <td>22</td>\n",
       "      <td>0.000079</td>\n",
       "      <td>22_22663216_A_G</td>\n",
       "    </tr>\n",
       "  </tbody>\n",
       "</table>\n",
       "</div>"
      ],
      "text/plain": [
       "  chrom        pv          variant\n",
       "0    22  0.000897  22_22645490_G_A\n",
       "1    22  0.000025  22_22661150_T_C\n",
       "2    22  0.000079  22_22663216_A_G"
      ]
     },
     "execution_count": 127,
     "metadata": {},
     "output_type": "execute_result"
    }
   ],
   "source": [
    "pvals1 = run_interaction(y=y, W=W, E=C1_gauss.values[:,0:10], E1=C1_gauss.values[:,0:10], E2=C1.values[:,0:20], G=GG, hK=hK_expanded)[0]\n",
    "pv1 = pd.DataFrame({\"chrom\":G_expanded.chrom.values,\n",
    "       \"pv\":pvals1,\n",
    "       \"variant\":G_expanded.snp.values})\n",
    "pv1.head()"
   ]
  },
  {
   "cell_type": "code",
   "execution_count": 128,
   "id": "60776652",
   "metadata": {},
   "outputs": [
    {
     "name": "stderr",
     "output_type": "stream",
     "text": [
      "\n",
      "  0%|          | 0/3 [00:00<?, ?it/s]\u001b[A\n",
      " 33%|███▎      | 1/3 [05:27<10:54, 327.44s/it]\u001b[A\n",
      " 67%|██████▋   | 2/3 [10:55<05:27, 327.53s/it]\u001b[A\n",
      "100%|██████████| 3/3 [16:06<00:00, 322.12s/it]\u001b[A\n"
     ]
    },
    {
     "data": {
      "text/html": [
       "<div>\n",
       "<style scoped>\n",
       "    .dataframe tbody tr th:only-of-type {\n",
       "        vertical-align: middle;\n",
       "    }\n",
       "\n",
       "    .dataframe tbody tr th {\n",
       "        vertical-align: top;\n",
       "    }\n",
       "\n",
       "    .dataframe thead th {\n",
       "        text-align: right;\n",
       "    }\n",
       "</style>\n",
       "<table border=\"1\" class=\"dataframe\">\n",
       "  <thead>\n",
       "    <tr style=\"text-align: right;\">\n",
       "      <th></th>\n",
       "      <th>chrom</th>\n",
       "      <th>pv</th>\n",
       "      <th>variant</th>\n",
       "    </tr>\n",
       "  </thead>\n",
       "  <tbody>\n",
       "    <tr>\n",
       "      <th>0</th>\n",
       "      <td>22</td>\n",
       "      <td>0.051724</td>\n",
       "      <td>22_22645490_G_A</td>\n",
       "    </tr>\n",
       "    <tr>\n",
       "      <th>1</th>\n",
       "      <td>22</td>\n",
       "      <td>0.004639</td>\n",
       "      <td>22_22661150_T_C</td>\n",
       "    </tr>\n",
       "    <tr>\n",
       "      <th>2</th>\n",
       "      <td>22</td>\n",
       "      <td>0.012965</td>\n",
       "      <td>22_22663216_A_G</td>\n",
       "    </tr>\n",
       "  </tbody>\n",
       "</table>\n",
       "</div>"
      ],
      "text/plain": [
       "  chrom        pv          variant\n",
       "0    22  0.051724  22_22645490_G_A\n",
       "1    22  0.004639  22_22661150_T_C\n",
       "2    22  0.012965  22_22663216_A_G"
      ]
     },
     "execution_count": 128,
     "metadata": {},
     "output_type": "execute_result"
    }
   ],
   "source": [
    "pvals2 = run_interaction(y=y, W=W, E=C2_gauss.values[:,0:10], E1=C2_gauss.values[:,0:10], E2=C2.values[:,0:20], G=GG, hK=hK_expanded)[0]\n",
    "pv2 = pd.DataFrame({\"chrom\":G_expanded.chrom.values,\n",
    "       \"pv\":pvals2,\n",
    "       \"variant\":G_expanded.snp.values})\n",
    "pv2.head()"
   ]
  },
  {
   "cell_type": "code",
   "execution_count": 129,
   "id": "08476d6d",
   "metadata": {},
   "outputs": [
    {
     "name": "stderr",
     "output_type": "stream",
     "text": [
      "\n",
      "  0%|          | 0/3 [00:00<?, ?it/s]\u001b[A\n",
      " 33%|███▎      | 1/3 [02:55<05:51, 175.76s/it]\u001b[A\n",
      " 67%|██████▋   | 2/3 [05:50<02:55, 175.31s/it]\u001b[A\n",
      "100%|██████████| 3/3 [08:46<00:00, 175.61s/it]\u001b[A\n"
     ]
    },
    {
     "data": {
      "text/html": [
       "<div>\n",
       "<style scoped>\n",
       "    .dataframe tbody tr th:only-of-type {\n",
       "        vertical-align: middle;\n",
       "    }\n",
       "\n",
       "    .dataframe tbody tr th {\n",
       "        vertical-align: top;\n",
       "    }\n",
       "\n",
       "    .dataframe thead th {\n",
       "        text-align: right;\n",
       "    }\n",
       "</style>\n",
       "<table border=\"1\" class=\"dataframe\">\n",
       "  <thead>\n",
       "    <tr style=\"text-align: right;\">\n",
       "      <th></th>\n",
       "      <th>chrom</th>\n",
       "      <th>pv</th>\n",
       "      <th>variant</th>\n",
       "    </tr>\n",
       "  </thead>\n",
       "  <tbody>\n",
       "    <tr>\n",
       "      <th>0</th>\n",
       "      <td>22</td>\n",
       "      <td>0.039506</td>\n",
       "      <td>22_22645490_G_A</td>\n",
       "    </tr>\n",
       "    <tr>\n",
       "      <th>1</th>\n",
       "      <td>22</td>\n",
       "      <td>0.015140</td>\n",
       "      <td>22_22661150_T_C</td>\n",
       "    </tr>\n",
       "    <tr>\n",
       "      <th>2</th>\n",
       "      <td>22</td>\n",
       "      <td>0.031601</td>\n",
       "      <td>22_22663216_A_G</td>\n",
       "    </tr>\n",
       "  </tbody>\n",
       "</table>\n",
       "</div>"
      ],
      "text/plain": [
       "  chrom        pv          variant\n",
       "0    22  0.039506  22_22645490_G_A\n",
       "1    22  0.015140  22_22661150_T_C\n",
       "2    22  0.031601  22_22663216_A_G"
      ]
     },
     "execution_count": 129,
     "metadata": {},
     "output_type": "execute_result"
    }
   ],
   "source": [
    "pvals3 = run_interaction(y=y, W=W, E=C1.values[:,0:10], E1=C1.values[:,0:10], E2=C1.values[:,0:10], G=GG, hK=hK_expanded)[0]\n",
    "pv3 = pd.DataFrame({\"chrom\":G_expanded.chrom.values,\n",
    "       \"pv\":pvals3,\n",
    "       \"variant\":G_expanded.snp.values})\n",
    "pv3.head()"
   ]
  },
  {
   "cell_type": "code",
   "execution_count": null,
   "id": "43d78d81",
   "metadata": {},
   "outputs": [],
   "source": [
    "### ENSG00000075234_TTC38"
   ]
  },
  {
   "cell_type": "code",
   "execution_count": 116,
   "id": "b4b6504c",
   "metadata": {},
   "outputs": [
    {
     "name": "stderr",
     "output_type": "stream",
     "text": [
      "\n",
      "  0%|          | 0/1 [00:00<?, ?it/s]\u001b[A\n",
      "100%|██████████| 1/1 [05:35<00:00, 335.41s/it]\u001b[A\n"
     ]
    },
    {
     "data": {
      "text/html": [
       "<div>\n",
       "<style scoped>\n",
       "    .dataframe tbody tr th:only-of-type {\n",
       "        vertical-align: middle;\n",
       "    }\n",
       "\n",
       "    .dataframe tbody tr th {\n",
       "        vertical-align: top;\n",
       "    }\n",
       "\n",
       "    .dataframe thead th {\n",
       "        text-align: right;\n",
       "    }\n",
       "</style>\n",
       "<table border=\"1\" class=\"dataframe\">\n",
       "  <thead>\n",
       "    <tr style=\"text-align: right;\">\n",
       "      <th></th>\n",
       "      <th>chrom</th>\n",
       "      <th>pv</th>\n",
       "      <th>variant</th>\n",
       "    </tr>\n",
       "  </thead>\n",
       "  <tbody>\n",
       "    <tr>\n",
       "      <th>0</th>\n",
       "      <td>22</td>\n",
       "      <td>0.235666</td>\n",
       "      <td>22_46719054_T_C</td>\n",
       "    </tr>\n",
       "  </tbody>\n",
       "</table>\n",
       "</div>"
      ],
      "text/plain": [
       "  chrom        pv          variant\n",
       "0    22  0.235666  22_46719054_T_C"
      ]
     },
     "execution_count": 116,
     "metadata": {},
     "output_type": "execute_result"
    }
   ],
   "source": [
    "pvals1 = run_interaction(y=y, W=W, E=C1_gauss.values[:,0:10], E1=C1_gauss.values[:,0:10], E2=C1.values[:,0:20], G=GG, hK=hK_expanded)[0]\n",
    "pv1 = pd.DataFrame({\"chrom\":G_expanded.chrom.values,\n",
    "       \"pv\":pvals1,\n",
    "       \"variant\":G_expanded.snp.values})\n",
    "pv1.head()"
   ]
  },
  {
   "cell_type": "code",
   "execution_count": 117,
   "id": "a3ecadac",
   "metadata": {},
   "outputs": [
    {
     "name": "stderr",
     "output_type": "stream",
     "text": [
      "\n",
      "  0%|          | 0/1 [00:00<?, ?it/s]\u001b[A\n",
      "100%|██████████| 1/1 [05:31<00:00, 331.38s/it]\u001b[A\n"
     ]
    },
    {
     "data": {
      "text/html": [
       "<div>\n",
       "<style scoped>\n",
       "    .dataframe tbody tr th:only-of-type {\n",
       "        vertical-align: middle;\n",
       "    }\n",
       "\n",
       "    .dataframe tbody tr th {\n",
       "        vertical-align: top;\n",
       "    }\n",
       "\n",
       "    .dataframe thead th {\n",
       "        text-align: right;\n",
       "    }\n",
       "</style>\n",
       "<table border=\"1\" class=\"dataframe\">\n",
       "  <thead>\n",
       "    <tr style=\"text-align: right;\">\n",
       "      <th></th>\n",
       "      <th>chrom</th>\n",
       "      <th>pv</th>\n",
       "      <th>variant</th>\n",
       "    </tr>\n",
       "  </thead>\n",
       "  <tbody>\n",
       "    <tr>\n",
       "      <th>0</th>\n",
       "      <td>22</td>\n",
       "      <td>0.25096</td>\n",
       "      <td>22_46719054_T_C</td>\n",
       "    </tr>\n",
       "  </tbody>\n",
       "</table>\n",
       "</div>"
      ],
      "text/plain": [
       "  chrom       pv          variant\n",
       "0    22  0.25096  22_46719054_T_C"
      ]
     },
     "execution_count": 117,
     "metadata": {},
     "output_type": "execute_result"
    }
   ],
   "source": [
    "pvals2 = run_interaction(y=y, W=W, E=C2_gauss.values[:,0:10], E1=C2_gauss.values[:,0:10], E2=C2.values[:,0:20], G=GG, hK=hK_expanded)[0]\n",
    "pv2 = pd.DataFrame({\"chrom\":G_expanded.chrom.values,\n",
    "       \"pv\":pvals2,\n",
    "       \"variant\":G_expanded.snp.values})\n",
    "pv2.head()"
   ]
  },
  {
   "cell_type": "code",
   "execution_count": 118,
   "id": "15a5c06d",
   "metadata": {},
   "outputs": [
    {
     "name": "stderr",
     "output_type": "stream",
     "text": [
      "\n",
      "  0%|          | 0/1 [00:00<?, ?it/s]\u001b[A\n",
      "100%|██████████| 1/1 [02:52<00:00, 172.54s/it]\u001b[A\n"
     ]
    },
    {
     "data": {
      "text/html": [
       "<div>\n",
       "<style scoped>\n",
       "    .dataframe tbody tr th:only-of-type {\n",
       "        vertical-align: middle;\n",
       "    }\n",
       "\n",
       "    .dataframe tbody tr th {\n",
       "        vertical-align: top;\n",
       "    }\n",
       "\n",
       "    .dataframe thead th {\n",
       "        text-align: right;\n",
       "    }\n",
       "</style>\n",
       "<table border=\"1\" class=\"dataframe\">\n",
       "  <thead>\n",
       "    <tr style=\"text-align: right;\">\n",
       "      <th></th>\n",
       "      <th>chrom</th>\n",
       "      <th>pv</th>\n",
       "      <th>variant</th>\n",
       "    </tr>\n",
       "  </thead>\n",
       "  <tbody>\n",
       "    <tr>\n",
       "      <th>0</th>\n",
       "      <td>22</td>\n",
       "      <td>0.099479</td>\n",
       "      <td>22_46719054_T_C</td>\n",
       "    </tr>\n",
       "  </tbody>\n",
       "</table>\n",
       "</div>"
      ],
      "text/plain": [
       "  chrom        pv          variant\n",
       "0    22  0.099479  22_46719054_T_C"
      ]
     },
     "execution_count": 118,
     "metadata": {},
     "output_type": "execute_result"
    }
   ],
   "source": [
    "pvals3 = run_interaction(y=y, W=W, E=C1.values[:,0:10], E1=C1.values[:,0:10], E2=C1.values[:,0:10], G=GG, hK=hK_expanded)[0]\n",
    "pv3 = pd.DataFrame({\"chrom\":G_expanded.chrom.values,\n",
    "       \"pv\":pvals3,\n",
    "       \"variant\":G_expanded.snp.values})\n",
    "pv3.head()"
   ]
  },
  {
   "cell_type": "code",
   "execution_count": null,
   "id": "4383b4a0",
   "metadata": {},
   "outputs": [],
   "source": [
    "### ENSG00000100417_PMM1"
   ]
  },
  {
   "cell_type": "code",
   "execution_count": 109,
   "id": "11d813b8",
   "metadata": {},
   "outputs": [
    {
     "name": "stderr",
     "output_type": "stream",
     "text": [
      "\n",
      "  0%|          | 0/1 [00:00<?, ?it/s]\u001b[A\n",
      "100%|██████████| 1/1 [05:22<00:00, 322.36s/it]\u001b[A\n"
     ]
    },
    {
     "data": {
      "text/html": [
       "<div>\n",
       "<style scoped>\n",
       "    .dataframe tbody tr th:only-of-type {\n",
       "        vertical-align: middle;\n",
       "    }\n",
       "\n",
       "    .dataframe tbody tr th {\n",
       "        vertical-align: top;\n",
       "    }\n",
       "\n",
       "    .dataframe thead th {\n",
       "        text-align: right;\n",
       "    }\n",
       "</style>\n",
       "<table border=\"1\" class=\"dataframe\">\n",
       "  <thead>\n",
       "    <tr style=\"text-align: right;\">\n",
       "      <th></th>\n",
       "      <th>chrom</th>\n",
       "      <th>pv</th>\n",
       "      <th>variant</th>\n",
       "    </tr>\n",
       "  </thead>\n",
       "  <tbody>\n",
       "    <tr>\n",
       "      <th>0</th>\n",
       "      <td>22</td>\n",
       "      <td>3.246701e-13</td>\n",
       "      <td>22_41877989_A_G</td>\n",
       "    </tr>\n",
       "  </tbody>\n",
       "</table>\n",
       "</div>"
      ],
      "text/plain": [
       "  chrom            pv          variant\n",
       "0    22  3.246701e-13  22_41877989_A_G"
      ]
     },
     "execution_count": 109,
     "metadata": {},
     "output_type": "execute_result"
    }
   ],
   "source": [
    "pvals1 = run_interaction(y=y, W=W, E=C1_gauss.values[:,0:10], E1=C1_gauss.values[:,0:10], E2=C1.values[:,0:20], G=GG, hK=hK_expanded)[0]\n",
    "pv1 = pd.DataFrame({\"chrom\":G_expanded.chrom.values,\n",
    "       \"pv\":pvals1,\n",
    "       \"variant\":G_expanded.snp.values})\n",
    "pv1.head()"
   ]
  },
  {
   "cell_type": "code",
   "execution_count": 110,
   "id": "73c41a1f",
   "metadata": {},
   "outputs": [
    {
     "name": "stderr",
     "output_type": "stream",
     "text": [
      "\n",
      "  0%|          | 0/1 [00:00<?, ?it/s]\u001b[A\n",
      "100%|██████████| 1/1 [05:14<00:00, 314.45s/it]\u001b[A\n"
     ]
    },
    {
     "data": {
      "text/html": [
       "<div>\n",
       "<style scoped>\n",
       "    .dataframe tbody tr th:only-of-type {\n",
       "        vertical-align: middle;\n",
       "    }\n",
       "\n",
       "    .dataframe tbody tr th {\n",
       "        vertical-align: top;\n",
       "    }\n",
       "\n",
       "    .dataframe thead th {\n",
       "        text-align: right;\n",
       "    }\n",
       "</style>\n",
       "<table border=\"1\" class=\"dataframe\">\n",
       "  <thead>\n",
       "    <tr style=\"text-align: right;\">\n",
       "      <th></th>\n",
       "      <th>chrom</th>\n",
       "      <th>pv</th>\n",
       "      <th>variant</th>\n",
       "    </tr>\n",
       "  </thead>\n",
       "  <tbody>\n",
       "    <tr>\n",
       "      <th>0</th>\n",
       "      <td>22</td>\n",
       "      <td>0.145234</td>\n",
       "      <td>22_41877989_A_G</td>\n",
       "    </tr>\n",
       "  </tbody>\n",
       "</table>\n",
       "</div>"
      ],
      "text/plain": [
       "  chrom        pv          variant\n",
       "0    22  0.145234  22_41877989_A_G"
      ]
     },
     "execution_count": 110,
     "metadata": {},
     "output_type": "execute_result"
    }
   ],
   "source": [
    "pvals2 = run_interaction(y=y, W=W, E=C2_gauss.values[:,0:10], E1=C2_gauss.values[:,0:10], E2=C2.values[:,0:20], G=GG, hK=hK_expanded)[0]\n",
    "pv2 = pd.DataFrame({\"chrom\":G_expanded.chrom.values,\n",
    "       \"pv\":pvals2,\n",
    "       \"variant\":G_expanded.snp.values})\n",
    "pv2.head()"
   ]
  },
  {
   "cell_type": "code",
   "execution_count": 111,
   "id": "0fdbeb17",
   "metadata": {},
   "outputs": [
    {
     "name": "stderr",
     "output_type": "stream",
     "text": [
      "\n",
      "  0%|          | 0/1 [00:00<?, ?it/s]\u001b[A\n",
      "100%|██████████| 1/1 [02:58<00:00, 178.70s/it]\u001b[A\n"
     ]
    },
    {
     "data": {
      "text/html": [
       "<div>\n",
       "<style scoped>\n",
       "    .dataframe tbody tr th:only-of-type {\n",
       "        vertical-align: middle;\n",
       "    }\n",
       "\n",
       "    .dataframe tbody tr th {\n",
       "        vertical-align: top;\n",
       "    }\n",
       "\n",
       "    .dataframe thead th {\n",
       "        text-align: right;\n",
       "    }\n",
       "</style>\n",
       "<table border=\"1\" class=\"dataframe\">\n",
       "  <thead>\n",
       "    <tr style=\"text-align: right;\">\n",
       "      <th></th>\n",
       "      <th>chrom</th>\n",
       "      <th>pv</th>\n",
       "      <th>variant</th>\n",
       "    </tr>\n",
       "  </thead>\n",
       "  <tbody>\n",
       "    <tr>\n",
       "      <th>0</th>\n",
       "      <td>22</td>\n",
       "      <td>0.212339</td>\n",
       "      <td>22_41877989_A_G</td>\n",
       "    </tr>\n",
       "  </tbody>\n",
       "</table>\n",
       "</div>"
      ],
      "text/plain": [
       "  chrom        pv          variant\n",
       "0    22  0.212339  22_41877989_A_G"
      ]
     },
     "execution_count": 111,
     "metadata": {},
     "output_type": "execute_result"
    }
   ],
   "source": [
    "pvals3 = run_interaction(y=y, W=W, E=C1.values[:,0:10], E1=C1.values[:,0:10], E2=C1.values[:,0:10], G=GG, hK=hK_expanded)[0]\n",
    "pv3 = pd.DataFrame({\"chrom\":G_expanded.chrom.values,\n",
    "       \"pv\":pvals3,\n",
    "       \"variant\":G_expanded.snp.values})\n",
    "pv3.head()"
   ]
  },
  {
   "cell_type": "code",
   "execution_count": null,
   "id": "a01fa733",
   "metadata": {},
   "outputs": [],
   "source": [
    "### ENSG00000099940_SNAP29"
   ]
  },
  {
   "cell_type": "code",
   "execution_count": 101,
   "id": "c343b40c",
   "metadata": {},
   "outputs": [
    {
     "name": "stderr",
     "output_type": "stream",
     "text": [
      "\n",
      "  0%|          | 0/1 [00:00<?, ?it/s]\u001b[A\n",
      "100%|██████████| 1/1 [05:10<00:00, 310.45s/it]\u001b[A\n"
     ]
    },
    {
     "data": {
      "text/html": [
       "<div>\n",
       "<style scoped>\n",
       "    .dataframe tbody tr th:only-of-type {\n",
       "        vertical-align: middle;\n",
       "    }\n",
       "\n",
       "    .dataframe tbody tr th {\n",
       "        vertical-align: top;\n",
       "    }\n",
       "\n",
       "    .dataframe thead th {\n",
       "        text-align: right;\n",
       "    }\n",
       "</style>\n",
       "<table border=\"1\" class=\"dataframe\">\n",
       "  <thead>\n",
       "    <tr style=\"text-align: right;\">\n",
       "      <th></th>\n",
       "      <th>chrom</th>\n",
       "      <th>pv</th>\n",
       "      <th>variant</th>\n",
       "    </tr>\n",
       "  </thead>\n",
       "  <tbody>\n",
       "    <tr>\n",
       "      <th>0</th>\n",
       "      <td>22</td>\n",
       "      <td>0.027694</td>\n",
       "      <td>22_21113793_G_A</td>\n",
       "    </tr>\n",
       "  </tbody>\n",
       "</table>\n",
       "</div>"
      ],
      "text/plain": [
       "  chrom        pv          variant\n",
       "0    22  0.027694  22_21113793_G_A"
      ]
     },
     "execution_count": 101,
     "metadata": {},
     "output_type": "execute_result"
    }
   ],
   "source": [
    "pvals1 = run_interaction(y=y, W=W, E=C1_gauss.values[:,0:10], E1=C1_gauss.values[:,0:10], E2=C1.values[:,0:20], G=GG, hK=hK_expanded)[0]\n",
    "pv1 = pd.DataFrame({\"chrom\":G_expanded.chrom.values,\n",
    "       \"pv\":pvals1,\n",
    "       \"variant\":G_expanded.snp.values})\n",
    "pv1.head()"
   ]
  },
  {
   "cell_type": "code",
   "execution_count": 102,
   "id": "21c29a3e",
   "metadata": {},
   "outputs": [
    {
     "name": "stderr",
     "output_type": "stream",
     "text": [
      "\n",
      "  0%|          | 0/1 [00:00<?, ?it/s]\u001b[A\n",
      "100%|██████████| 1/1 [05:07<00:00, 307.26s/it]\u001b[A\n"
     ]
    },
    {
     "data": {
      "text/html": [
       "<div>\n",
       "<style scoped>\n",
       "    .dataframe tbody tr th:only-of-type {\n",
       "        vertical-align: middle;\n",
       "    }\n",
       "\n",
       "    .dataframe tbody tr th {\n",
       "        vertical-align: top;\n",
       "    }\n",
       "\n",
       "    .dataframe thead th {\n",
       "        text-align: right;\n",
       "    }\n",
       "</style>\n",
       "<table border=\"1\" class=\"dataframe\">\n",
       "  <thead>\n",
       "    <tr style=\"text-align: right;\">\n",
       "      <th></th>\n",
       "      <th>chrom</th>\n",
       "      <th>pv</th>\n",
       "      <th>variant</th>\n",
       "    </tr>\n",
       "  </thead>\n",
       "  <tbody>\n",
       "    <tr>\n",
       "      <th>0</th>\n",
       "      <td>22</td>\n",
       "      <td>0.419376</td>\n",
       "      <td>22_21113793_G_A</td>\n",
       "    </tr>\n",
       "  </tbody>\n",
       "</table>\n",
       "</div>"
      ],
      "text/plain": [
       "  chrom        pv          variant\n",
       "0    22  0.419376  22_21113793_G_A"
      ]
     },
     "execution_count": 102,
     "metadata": {},
     "output_type": "execute_result"
    }
   ],
   "source": [
    "pvals2 = run_interaction(y=y, W=W, E=C2_gauss.values[:,0:10], E1=C2_gauss.values[:,0:10], E2=C2.values[:,0:20], G=GG, hK=hK_expanded)[0]\n",
    "pv2 = pd.DataFrame({\"chrom\":G_expanded.chrom.values,\n",
    "       \"pv\":pvals2,\n",
    "       \"variant\":G_expanded.snp.values})\n",
    "pv2.head()"
   ]
  },
  {
   "cell_type": "code",
   "execution_count": 103,
   "id": "fe3137f6",
   "metadata": {},
   "outputs": [
    {
     "name": "stderr",
     "output_type": "stream",
     "text": [
      "\n",
      "  0%|          | 0/1 [00:00<?, ?it/s]\u001b[A\n",
      "100%|██████████| 1/1 [02:48<00:00, 168.76s/it]\u001b[A\n"
     ]
    },
    {
     "data": {
      "text/html": [
       "<div>\n",
       "<style scoped>\n",
       "    .dataframe tbody tr th:only-of-type {\n",
       "        vertical-align: middle;\n",
       "    }\n",
       "\n",
       "    .dataframe tbody tr th {\n",
       "        vertical-align: top;\n",
       "    }\n",
       "\n",
       "    .dataframe thead th {\n",
       "        text-align: right;\n",
       "    }\n",
       "</style>\n",
       "<table border=\"1\" class=\"dataframe\">\n",
       "  <thead>\n",
       "    <tr style=\"text-align: right;\">\n",
       "      <th></th>\n",
       "      <th>chrom</th>\n",
       "      <th>pv</th>\n",
       "      <th>variant</th>\n",
       "    </tr>\n",
       "  </thead>\n",
       "  <tbody>\n",
       "    <tr>\n",
       "      <th>0</th>\n",
       "      <td>22</td>\n",
       "      <td>0.123492</td>\n",
       "      <td>22_21113793_G_A</td>\n",
       "    </tr>\n",
       "  </tbody>\n",
       "</table>\n",
       "</div>"
      ],
      "text/plain": [
       "  chrom        pv          variant\n",
       "0    22  0.123492  22_21113793_G_A"
      ]
     },
     "execution_count": 103,
     "metadata": {},
     "output_type": "execute_result"
    }
   ],
   "source": [
    "pvals3 = run_interaction(y=y, W=W, E=C1.values[:,0:10], E1=C1.values[:,0:10], E2=C1.values[:,0:10], G=GG, hK=hK_expanded)[0]\n",
    "pv3 = pd.DataFrame({\"chrom\":G_expanded.chrom.values,\n",
    "       \"pv\":pvals3,\n",
    "       \"variant\":G_expanded.snp.values})\n",
    "pv3.head()"
   ]
  },
  {
   "cell_type": "code",
   "execution_count": null,
   "id": "a78e4fef",
   "metadata": {},
   "outputs": [],
   "source": [
    "### ENSG00000100376_FAM118A"
   ]
  },
  {
   "cell_type": "code",
   "execution_count": 94,
   "id": "44e9c180",
   "metadata": {},
   "outputs": [
    {
     "name": "stderr",
     "output_type": "stream",
     "text": [
      "\n",
      "  0%|          | 0/2 [00:00<?, ?it/s]\u001b[A\n",
      " 50%|█████     | 1/2 [05:04<05:04, 304.38s/it]\u001b[A\n",
      "100%|██████████| 2/2 [10:15<00:00, 307.91s/it]\u001b[A\n"
     ]
    },
    {
     "data": {
      "text/html": [
       "<div>\n",
       "<style scoped>\n",
       "    .dataframe tbody tr th:only-of-type {\n",
       "        vertical-align: middle;\n",
       "    }\n",
       "\n",
       "    .dataframe tbody tr th {\n",
       "        vertical-align: top;\n",
       "    }\n",
       "\n",
       "    .dataframe thead th {\n",
       "        text-align: right;\n",
       "    }\n",
       "</style>\n",
       "<table border=\"1\" class=\"dataframe\">\n",
       "  <thead>\n",
       "    <tr style=\"text-align: right;\">\n",
       "      <th></th>\n",
       "      <th>chrom</th>\n",
       "      <th>pv</th>\n",
       "      <th>variant</th>\n",
       "    </tr>\n",
       "  </thead>\n",
       "  <tbody>\n",
       "    <tr>\n",
       "      <th>0</th>\n",
       "      <td>22</td>\n",
       "      <td>0.060604</td>\n",
       "      <td>22_45714489_T_C</td>\n",
       "    </tr>\n",
       "    <tr>\n",
       "      <th>1</th>\n",
       "      <td>22</td>\n",
       "      <td>0.001412</td>\n",
       "      <td>22_45789743_T_G</td>\n",
       "    </tr>\n",
       "  </tbody>\n",
       "</table>\n",
       "</div>"
      ],
      "text/plain": [
       "  chrom        pv          variant\n",
       "0    22  0.060604  22_45714489_T_C\n",
       "1    22  0.001412  22_45789743_T_G"
      ]
     },
     "execution_count": 94,
     "metadata": {},
     "output_type": "execute_result"
    }
   ],
   "source": [
    "pvals1 = run_interaction(y=y, W=W, E=C1_gauss.values[:,0:10], E1=C1_gauss.values[:,0:10], E2=C1.values[:,0:20], G=GG, hK=hK_expanded)[0]\n",
    "pv1 = pd.DataFrame({\"chrom\":G_expanded.chrom.values,\n",
    "       \"pv\":pvals1,\n",
    "       \"variant\":G_expanded.snp.values})\n",
    "pv1.head()"
   ]
  },
  {
   "cell_type": "code",
   "execution_count": 95,
   "id": "98312148",
   "metadata": {},
   "outputs": [
    {
     "name": "stderr",
     "output_type": "stream",
     "text": [
      "\n",
      "  0%|          | 0/2 [00:00<?, ?it/s]\u001b[A\n",
      " 50%|█████     | 1/2 [04:55<04:55, 295.81s/it]\u001b[A\n",
      "100%|██████████| 2/2 [09:57<00:00, 298.53s/it]\u001b[A\n"
     ]
    },
    {
     "data": {
      "text/html": [
       "<div>\n",
       "<style scoped>\n",
       "    .dataframe tbody tr th:only-of-type {\n",
       "        vertical-align: middle;\n",
       "    }\n",
       "\n",
       "    .dataframe tbody tr th {\n",
       "        vertical-align: top;\n",
       "    }\n",
       "\n",
       "    .dataframe thead th {\n",
       "        text-align: right;\n",
       "    }\n",
       "</style>\n",
       "<table border=\"1\" class=\"dataframe\">\n",
       "  <thead>\n",
       "    <tr style=\"text-align: right;\">\n",
       "      <th></th>\n",
       "      <th>chrom</th>\n",
       "      <th>pv</th>\n",
       "      <th>variant</th>\n",
       "    </tr>\n",
       "  </thead>\n",
       "  <tbody>\n",
       "    <tr>\n",
       "      <th>0</th>\n",
       "      <td>22</td>\n",
       "      <td>0.038254</td>\n",
       "      <td>22_45714489_T_C</td>\n",
       "    </tr>\n",
       "    <tr>\n",
       "      <th>1</th>\n",
       "      <td>22</td>\n",
       "      <td>0.000005</td>\n",
       "      <td>22_45789743_T_G</td>\n",
       "    </tr>\n",
       "  </tbody>\n",
       "</table>\n",
       "</div>"
      ],
      "text/plain": [
       "  chrom        pv          variant\n",
       "0    22  0.038254  22_45714489_T_C\n",
       "1    22  0.000005  22_45789743_T_G"
      ]
     },
     "execution_count": 95,
     "metadata": {},
     "output_type": "execute_result"
    }
   ],
   "source": [
    "pvals2 = run_interaction(y=y, W=W, E=C2_gauss.values[:,0:10], E1=C2_gauss.values[:,0:10], E2=C2.values[:,0:20], G=GG, hK=hK_expanded)[0]\n",
    "pv2 = pd.DataFrame({\"chrom\":G_expanded.chrom.values,\n",
    "       \"pv\":pvals2,\n",
    "       \"variant\":G_expanded.snp.values})\n",
    "pv2.head()"
   ]
  },
  {
   "cell_type": "code",
   "execution_count": 96,
   "id": "664d24dc",
   "metadata": {},
   "outputs": [
    {
     "name": "stderr",
     "output_type": "stream",
     "text": [
      "\n",
      "  0%|          | 0/2 [00:00<?, ?it/s]\u001b[A\n",
      " 50%|█████     | 1/2 [02:44<02:44, 164.36s/it]\u001b[A\n",
      "100%|██████████| 2/2 [05:29<00:00, 164.93s/it]\u001b[A\n"
     ]
    },
    {
     "data": {
      "text/html": [
       "<div>\n",
       "<style scoped>\n",
       "    .dataframe tbody tr th:only-of-type {\n",
       "        vertical-align: middle;\n",
       "    }\n",
       "\n",
       "    .dataframe tbody tr th {\n",
       "        vertical-align: top;\n",
       "    }\n",
       "\n",
       "    .dataframe thead th {\n",
       "        text-align: right;\n",
       "    }\n",
       "</style>\n",
       "<table border=\"1\" class=\"dataframe\">\n",
       "  <thead>\n",
       "    <tr style=\"text-align: right;\">\n",
       "      <th></th>\n",
       "      <th>chrom</th>\n",
       "      <th>pv</th>\n",
       "      <th>variant</th>\n",
       "    </tr>\n",
       "  </thead>\n",
       "  <tbody>\n",
       "    <tr>\n",
       "      <th>0</th>\n",
       "      <td>22</td>\n",
       "      <td>0.138652</td>\n",
       "      <td>22_45714489_T_C</td>\n",
       "    </tr>\n",
       "    <tr>\n",
       "      <th>1</th>\n",
       "      <td>22</td>\n",
       "      <td>0.000231</td>\n",
       "      <td>22_45789743_T_G</td>\n",
       "    </tr>\n",
       "  </tbody>\n",
       "</table>\n",
       "</div>"
      ],
      "text/plain": [
       "  chrom        pv          variant\n",
       "0    22  0.138652  22_45714489_T_C\n",
       "1    22  0.000231  22_45789743_T_G"
      ]
     },
     "execution_count": 96,
     "metadata": {},
     "output_type": "execute_result"
    }
   ],
   "source": [
    "pvals3 = run_interaction(y=y, W=W, E=C1.values[:,0:10], E1=C1.values[:,0:10], E2=C1.values[:,0:10], G=GG, hK=hK_expanded)[0]\n",
    "pv3 = pd.DataFrame({\"chrom\":G_expanded.chrom.values,\n",
    "       \"pv\":pvals3,\n",
    "       \"variant\":G_expanded.snp.values})\n",
    "pv3.head()"
   ]
  },
  {
   "cell_type": "code",
   "execution_count": null,
   "id": "35b59416",
   "metadata": {},
   "outputs": [],
   "source": [
    "### ENSG00000100422_CERK"
   ]
  },
  {
   "cell_type": "code",
   "execution_count": 87,
   "id": "bba8f586",
   "metadata": {},
   "outputs": [
    {
     "name": "stderr",
     "output_type": "stream",
     "text": [
      "\n",
      "  0%|          | 0/3 [00:00<?, ?it/s]\u001b[A\n",
      " 33%|███▎      | 1/3 [05:03<10:07, 303.65s/it]\u001b[A\n",
      " 67%|██████▋   | 2/3 [10:20<05:07, 307.60s/it]\u001b[A\n",
      "100%|██████████| 3/3 [15:30<00:00, 310.20s/it]\u001b[A\n"
     ]
    },
    {
     "data": {
      "text/html": [
       "<div>\n",
       "<style scoped>\n",
       "    .dataframe tbody tr th:only-of-type {\n",
       "        vertical-align: middle;\n",
       "    }\n",
       "\n",
       "    .dataframe tbody tr th {\n",
       "        vertical-align: top;\n",
       "    }\n",
       "\n",
       "    .dataframe thead th {\n",
       "        text-align: right;\n",
       "    }\n",
       "</style>\n",
       "<table border=\"1\" class=\"dataframe\">\n",
       "  <thead>\n",
       "    <tr style=\"text-align: right;\">\n",
       "      <th></th>\n",
       "      <th>chrom</th>\n",
       "      <th>pv</th>\n",
       "      <th>variant</th>\n",
       "    </tr>\n",
       "  </thead>\n",
       "  <tbody>\n",
       "    <tr>\n",
       "      <th>0</th>\n",
       "      <td>22</td>\n",
       "      <td>0.151978</td>\n",
       "      <td>22_47066294_T_C</td>\n",
       "    </tr>\n",
       "    <tr>\n",
       "      <th>1</th>\n",
       "      <td>22</td>\n",
       "      <td>0.399287</td>\n",
       "      <td>22_47076718_T_G</td>\n",
       "    </tr>\n",
       "    <tr>\n",
       "      <th>2</th>\n",
       "      <td>22</td>\n",
       "      <td>0.000248</td>\n",
       "      <td>22_47124827_A_C</td>\n",
       "    </tr>\n",
       "  </tbody>\n",
       "</table>\n",
       "</div>"
      ],
      "text/plain": [
       "  chrom        pv          variant\n",
       "0    22  0.151978  22_47066294_T_C\n",
       "1    22  0.399287  22_47076718_T_G\n",
       "2    22  0.000248  22_47124827_A_C"
      ]
     },
     "execution_count": 87,
     "metadata": {},
     "output_type": "execute_result"
    }
   ],
   "source": [
    "pvals1 = run_interaction(y=y, W=W, E=C1_gauss.values[:,0:10], E1=C1_gauss.values[:,0:10], E2=C1.values[:,0:20], G=GG, hK=hK_expanded)[0]\n",
    "pv1 = pd.DataFrame({\"chrom\":G_expanded.chrom.values,\n",
    "       \"pv\":pvals1,\n",
    "       \"variant\":G_expanded.snp.values})\n",
    "pv1.head()"
   ]
  },
  {
   "cell_type": "code",
   "execution_count": 88,
   "id": "70bb6ac2",
   "metadata": {},
   "outputs": [
    {
     "name": "stderr",
     "output_type": "stream",
     "text": [
      "\n",
      "  0%|          | 0/3 [00:00<?, ?it/s]\u001b[A\n",
      " 33%|███▎      | 1/3 [05:03<10:06, 303.41s/it]\u001b[A\n",
      " 67%|██████▋   | 2/3 [10:07<05:03, 303.70s/it]\u001b[A\n",
      "100%|██████████| 3/3 [15:18<00:00, 306.13s/it]\u001b[A\n"
     ]
    },
    {
     "data": {
      "text/html": [
       "<div>\n",
       "<style scoped>\n",
       "    .dataframe tbody tr th:only-of-type {\n",
       "        vertical-align: middle;\n",
       "    }\n",
       "\n",
       "    .dataframe tbody tr th {\n",
       "        vertical-align: top;\n",
       "    }\n",
       "\n",
       "    .dataframe thead th {\n",
       "        text-align: right;\n",
       "    }\n",
       "</style>\n",
       "<table border=\"1\" class=\"dataframe\">\n",
       "  <thead>\n",
       "    <tr style=\"text-align: right;\">\n",
       "      <th></th>\n",
       "      <th>chrom</th>\n",
       "      <th>pv</th>\n",
       "      <th>variant</th>\n",
       "    </tr>\n",
       "  </thead>\n",
       "  <tbody>\n",
       "    <tr>\n",
       "      <th>0</th>\n",
       "      <td>22</td>\n",
       "      <td>0.914385</td>\n",
       "      <td>22_47066294_T_C</td>\n",
       "    </tr>\n",
       "    <tr>\n",
       "      <th>1</th>\n",
       "      <td>22</td>\n",
       "      <td>0.971026</td>\n",
       "      <td>22_47076718_T_G</td>\n",
       "    </tr>\n",
       "    <tr>\n",
       "      <th>2</th>\n",
       "      <td>22</td>\n",
       "      <td>0.057087</td>\n",
       "      <td>22_47124827_A_C</td>\n",
       "    </tr>\n",
       "  </tbody>\n",
       "</table>\n",
       "</div>"
      ],
      "text/plain": [
       "  chrom        pv          variant\n",
       "0    22  0.914385  22_47066294_T_C\n",
       "1    22  0.971026  22_47076718_T_G\n",
       "2    22  0.057087  22_47124827_A_C"
      ]
     },
     "execution_count": 88,
     "metadata": {},
     "output_type": "execute_result"
    }
   ],
   "source": [
    "pvals2 = run_interaction(y=y, W=W, E=C2_gauss.values[:,0:10], E1=C2_gauss.values[:,0:10], E2=C2.values[:,0:20], G=GG, hK=hK_expanded)[0]\n",
    "pv2 = pd.DataFrame({\"chrom\":G_expanded.chrom.values,\n",
    "       \"pv\":pvals2,\n",
    "       \"variant\":G_expanded.snp.values})\n",
    "pv2.head()"
   ]
  },
  {
   "cell_type": "code",
   "execution_count": 89,
   "id": "b97aed5c",
   "metadata": {},
   "outputs": [
    {
     "name": "stderr",
     "output_type": "stream",
     "text": [
      "\n",
      "  0%|          | 0/3 [00:00<?, ?it/s]\u001b[A\n",
      " 33%|███▎      | 1/3 [02:41<05:22, 161.31s/it]\u001b[A\n",
      " 67%|██████▋   | 2/3 [05:26<02:42, 162.46s/it]\u001b[A\n",
      "100%|██████████| 3/3 [08:09<00:00, 163.14s/it]\u001b[A\n"
     ]
    },
    {
     "data": {
      "text/html": [
       "<div>\n",
       "<style scoped>\n",
       "    .dataframe tbody tr th:only-of-type {\n",
       "        vertical-align: middle;\n",
       "    }\n",
       "\n",
       "    .dataframe tbody tr th {\n",
       "        vertical-align: top;\n",
       "    }\n",
       "\n",
       "    .dataframe thead th {\n",
       "        text-align: right;\n",
       "    }\n",
       "</style>\n",
       "<table border=\"1\" class=\"dataframe\">\n",
       "  <thead>\n",
       "    <tr style=\"text-align: right;\">\n",
       "      <th></th>\n",
       "      <th>chrom</th>\n",
       "      <th>pv</th>\n",
       "      <th>variant</th>\n",
       "    </tr>\n",
       "  </thead>\n",
       "  <tbody>\n",
       "    <tr>\n",
       "      <th>0</th>\n",
       "      <td>22</td>\n",
       "      <td>0.761398</td>\n",
       "      <td>22_47066294_T_C</td>\n",
       "    </tr>\n",
       "    <tr>\n",
       "      <th>1</th>\n",
       "      <td>22</td>\n",
       "      <td>0.941789</td>\n",
       "      <td>22_47076718_T_G</td>\n",
       "    </tr>\n",
       "    <tr>\n",
       "      <th>2</th>\n",
       "      <td>22</td>\n",
       "      <td>0.027940</td>\n",
       "      <td>22_47124827_A_C</td>\n",
       "    </tr>\n",
       "  </tbody>\n",
       "</table>\n",
       "</div>"
      ],
      "text/plain": [
       "  chrom        pv          variant\n",
       "0    22  0.761398  22_47066294_T_C\n",
       "1    22  0.941789  22_47076718_T_G\n",
       "2    22  0.027940  22_47124827_A_C"
      ]
     },
     "execution_count": 89,
     "metadata": {},
     "output_type": "execute_result"
    }
   ],
   "source": [
    "pvals3 = run_interaction(y=y, W=W, E=C1.values[:,0:10], E1=C1.values[:,0:10], E2=C1.values[:,0:10], G=GG, hK=hK_expanded)[0]\n",
    "pv3 = pd.DataFrame({\"chrom\":G_expanded.chrom.values,\n",
    "       \"pv\":pvals3,\n",
    "       \"variant\":G_expanded.snp.values})\n",
    "pv3.head()"
   ]
  },
  {
   "cell_type": "code",
   "execution_count": null,
   "id": "c55200d6",
   "metadata": {},
   "outputs": [],
   "source": [
    "### ENSG00000215012_C22orf29"
   ]
  },
  {
   "cell_type": "code",
   "execution_count": 80,
   "id": "da142fe3",
   "metadata": {},
   "outputs": [
    {
     "name": "stderr",
     "output_type": "stream",
     "text": [
      "\n",
      "  0%|          | 0/1 [00:00<?, ?it/s]\u001b[A\n",
      "100%|██████████| 1/1 [05:03<00:00, 303.16s/it]\u001b[A\n"
     ]
    },
    {
     "data": {
      "text/html": [
       "<div>\n",
       "<style scoped>\n",
       "    .dataframe tbody tr th:only-of-type {\n",
       "        vertical-align: middle;\n",
       "    }\n",
       "\n",
       "    .dataframe tbody tr th {\n",
       "        vertical-align: top;\n",
       "    }\n",
       "\n",
       "    .dataframe thead th {\n",
       "        text-align: right;\n",
       "    }\n",
       "</style>\n",
       "<table border=\"1\" class=\"dataframe\">\n",
       "  <thead>\n",
       "    <tr style=\"text-align: right;\">\n",
       "      <th></th>\n",
       "      <th>chrom</th>\n",
       "      <th>pv</th>\n",
       "      <th>variant</th>\n",
       "    </tr>\n",
       "  </thead>\n",
       "  <tbody>\n",
       "    <tr>\n",
       "      <th>0</th>\n",
       "      <td>22</td>\n",
       "      <td>0.016253</td>\n",
       "      <td>22_19833781_G_A</td>\n",
       "    </tr>\n",
       "  </tbody>\n",
       "</table>\n",
       "</div>"
      ],
      "text/plain": [
       "  chrom        pv          variant\n",
       "0    22  0.016253  22_19833781_G_A"
      ]
     },
     "execution_count": 80,
     "metadata": {},
     "output_type": "execute_result"
    }
   ],
   "source": [
    "pvals1 = run_interaction(y=y, W=W, E=C1_gauss.values[:,0:10], E1=C1_gauss.values[:,0:10], E2=C1.values[:,0:20], G=GG, hK=hK_expanded)[0]\n",
    "pv1 = pd.DataFrame({\"chrom\":G_expanded.chrom.values,\n",
    "       \"pv\":pvals1,\n",
    "       \"variant\":G_expanded.snp.values})\n",
    "pv1.head()"
   ]
  },
  {
   "cell_type": "code",
   "execution_count": 81,
   "id": "68cc53f5",
   "metadata": {},
   "outputs": [
    {
     "name": "stderr",
     "output_type": "stream",
     "text": [
      "\n",
      "  0%|          | 0/1 [00:00<?, ?it/s]\u001b[A\n",
      "100%|██████████| 1/1 [04:59<00:00, 299.47s/it]\u001b[A\n"
     ]
    },
    {
     "data": {
      "text/html": [
       "<div>\n",
       "<style scoped>\n",
       "    .dataframe tbody tr th:only-of-type {\n",
       "        vertical-align: middle;\n",
       "    }\n",
       "\n",
       "    .dataframe tbody tr th {\n",
       "        vertical-align: top;\n",
       "    }\n",
       "\n",
       "    .dataframe thead th {\n",
       "        text-align: right;\n",
       "    }\n",
       "</style>\n",
       "<table border=\"1\" class=\"dataframe\">\n",
       "  <thead>\n",
       "    <tr style=\"text-align: right;\">\n",
       "      <th></th>\n",
       "      <th>chrom</th>\n",
       "      <th>pv</th>\n",
       "      <th>variant</th>\n",
       "    </tr>\n",
       "  </thead>\n",
       "  <tbody>\n",
       "    <tr>\n",
       "      <th>0</th>\n",
       "      <td>22</td>\n",
       "      <td>0.011458</td>\n",
       "      <td>22_19833781_G_A</td>\n",
       "    </tr>\n",
       "  </tbody>\n",
       "</table>\n",
       "</div>"
      ],
      "text/plain": [
       "  chrom        pv          variant\n",
       "0    22  0.011458  22_19833781_G_A"
      ]
     },
     "execution_count": 81,
     "metadata": {},
     "output_type": "execute_result"
    }
   ],
   "source": [
    "pvals2 = run_interaction(y=y, W=W, E=C2_gauss.values[:,0:10], E1=C2_gauss.values[:,0:10], E2=C2.values[:,0:20], G=GG, hK=hK_expanded)[0]\n",
    "pv2 = pd.DataFrame({\"chrom\":G_expanded.chrom.values,\n",
    "       \"pv\":pvals2,\n",
    "       \"variant\":G_expanded.snp.values})\n",
    "pv2.head()"
   ]
  },
  {
   "cell_type": "code",
   "execution_count": 82,
   "id": "c78c6284",
   "metadata": {},
   "outputs": [
    {
     "name": "stderr",
     "output_type": "stream",
     "text": [
      "\n",
      "  0%|          | 0/1 [00:00<?, ?it/s]\u001b[A\n",
      "100%|██████████| 1/1 [02:46<00:00, 166.79s/it]\u001b[A\n"
     ]
    },
    {
     "data": {
      "text/html": [
       "<div>\n",
       "<style scoped>\n",
       "    .dataframe tbody tr th:only-of-type {\n",
       "        vertical-align: middle;\n",
       "    }\n",
       "\n",
       "    .dataframe tbody tr th {\n",
       "        vertical-align: top;\n",
       "    }\n",
       "\n",
       "    .dataframe thead th {\n",
       "        text-align: right;\n",
       "    }\n",
       "</style>\n",
       "<table border=\"1\" class=\"dataframe\">\n",
       "  <thead>\n",
       "    <tr style=\"text-align: right;\">\n",
       "      <th></th>\n",
       "      <th>chrom</th>\n",
       "      <th>pv</th>\n",
       "      <th>variant</th>\n",
       "    </tr>\n",
       "  </thead>\n",
       "  <tbody>\n",
       "    <tr>\n",
       "      <th>0</th>\n",
       "      <td>22</td>\n",
       "      <td>0.026923</td>\n",
       "      <td>22_19833781_G_A</td>\n",
       "    </tr>\n",
       "  </tbody>\n",
       "</table>\n",
       "</div>"
      ],
      "text/plain": [
       "  chrom        pv          variant\n",
       "0    22  0.026923  22_19833781_G_A"
      ]
     },
     "execution_count": 82,
     "metadata": {},
     "output_type": "execute_result"
    }
   ],
   "source": [
    "pvals3 = run_interaction(y=y, W=W, E=C1.values[:,0:10], E1=C1.values[:,0:10], E2=C1.values[:,0:10], G=GG, hK=hK_expanded)[0]\n",
    "pv3 = pd.DataFrame({\"chrom\":G_expanded.chrom.values,\n",
    "       \"pv\":pvals3,\n",
    "       \"variant\":G_expanded.snp.values})\n",
    "pv3.head()"
   ]
  },
  {
   "cell_type": "code",
   "execution_count": null,
   "id": "430c9f90",
   "metadata": {},
   "outputs": [],
   "source": [
    "### ENSG00000099942_CRKL"
   ]
  },
  {
   "cell_type": "code",
   "execution_count": 73,
   "id": "ef31cd5e",
   "metadata": {},
   "outputs": [
    {
     "name": "stderr",
     "output_type": "stream",
     "text": [
      "\n",
      "  0%|          | 0/1 [00:00<?, ?it/s]\u001b[A\n",
      "100%|██████████| 1/1 [04:37<00:00, 277.18s/it]\u001b[A\n"
     ]
    },
    {
     "data": {
      "text/html": [
       "<div>\n",
       "<style scoped>\n",
       "    .dataframe tbody tr th:only-of-type {\n",
       "        vertical-align: middle;\n",
       "    }\n",
       "\n",
       "    .dataframe tbody tr th {\n",
       "        vertical-align: top;\n",
       "    }\n",
       "\n",
       "    .dataframe thead th {\n",
       "        text-align: right;\n",
       "    }\n",
       "</style>\n",
       "<table border=\"1\" class=\"dataframe\">\n",
       "  <thead>\n",
       "    <tr style=\"text-align: right;\">\n",
       "      <th></th>\n",
       "      <th>chrom</th>\n",
       "      <th>pv</th>\n",
       "      <th>variant</th>\n",
       "    </tr>\n",
       "  </thead>\n",
       "  <tbody>\n",
       "    <tr>\n",
       "      <th>0</th>\n",
       "      <td>22</td>\n",
       "      <td>0.076387</td>\n",
       "      <td>22_21309934_C_G</td>\n",
       "    </tr>\n",
       "  </tbody>\n",
       "</table>\n",
       "</div>"
      ],
      "text/plain": [
       "  chrom        pv          variant\n",
       "0    22  0.076387  22_21309934_C_G"
      ]
     },
     "execution_count": 73,
     "metadata": {},
     "output_type": "execute_result"
    }
   ],
   "source": [
    "pvals1 = run_interaction(y=y, W=W, E=C1_gauss.values[:,0:10], E1=C1_gauss.values[:,0:10], E2=C1.values[:,0:20], G=GG, hK=hK_expanded)[0]\n",
    "pv1 = pd.DataFrame({\"chrom\":G_expanded.chrom.values,\n",
    "       \"pv\":pvals1,\n",
    "       \"variant\":G_expanded.snp.values})\n",
    "pv1.head()"
   ]
  },
  {
   "cell_type": "code",
   "execution_count": 74,
   "id": "1fbea094",
   "metadata": {},
   "outputs": [
    {
     "name": "stderr",
     "output_type": "stream",
     "text": [
      "\n",
      "  0%|          | 0/1 [00:00<?, ?it/s]\u001b[A\n",
      "100%|██████████| 1/1 [04:26<00:00, 266.45s/it]\u001b[A\n"
     ]
    },
    {
     "data": {
      "text/html": [
       "<div>\n",
       "<style scoped>\n",
       "    .dataframe tbody tr th:only-of-type {\n",
       "        vertical-align: middle;\n",
       "    }\n",
       "\n",
       "    .dataframe tbody tr th {\n",
       "        vertical-align: top;\n",
       "    }\n",
       "\n",
       "    .dataframe thead th {\n",
       "        text-align: right;\n",
       "    }\n",
       "</style>\n",
       "<table border=\"1\" class=\"dataframe\">\n",
       "  <thead>\n",
       "    <tr style=\"text-align: right;\">\n",
       "      <th></th>\n",
       "      <th>chrom</th>\n",
       "      <th>pv</th>\n",
       "      <th>variant</th>\n",
       "    </tr>\n",
       "  </thead>\n",
       "  <tbody>\n",
       "    <tr>\n",
       "      <th>0</th>\n",
       "      <td>22</td>\n",
       "      <td>0.057419</td>\n",
       "      <td>22_21309934_C_G</td>\n",
       "    </tr>\n",
       "  </tbody>\n",
       "</table>\n",
       "</div>"
      ],
      "text/plain": [
       "  chrom        pv          variant\n",
       "0    22  0.057419  22_21309934_C_G"
      ]
     },
     "execution_count": 74,
     "metadata": {},
     "output_type": "execute_result"
    }
   ],
   "source": [
    "pvals2 = run_interaction(y=y, W=W, E=C2_gauss.values[:,0:10], E1=C2_gauss.values[:,0:10], E2=C2.values[:,0:20], G=GG, hK=hK_expanded)[0]\n",
    "pv2 = pd.DataFrame({\"chrom\":G_expanded.chrom.values,\n",
    "       \"pv\":pvals2,\n",
    "       \"variant\":G_expanded.snp.values})\n",
    "pv2.head()"
   ]
  },
  {
   "cell_type": "code",
   "execution_count": 75,
   "id": "89a73f9e",
   "metadata": {},
   "outputs": [
    {
     "name": "stderr",
     "output_type": "stream",
     "text": [
      "\n",
      "  0%|          | 0/1 [00:00<?, ?it/s]\u001b[A\n",
      "100%|██████████| 1/1 [02:23<00:00, 143.62s/it]\u001b[A\n"
     ]
    },
    {
     "data": {
      "text/html": [
       "<div>\n",
       "<style scoped>\n",
       "    .dataframe tbody tr th:only-of-type {\n",
       "        vertical-align: middle;\n",
       "    }\n",
       "\n",
       "    .dataframe tbody tr th {\n",
       "        vertical-align: top;\n",
       "    }\n",
       "\n",
       "    .dataframe thead th {\n",
       "        text-align: right;\n",
       "    }\n",
       "</style>\n",
       "<table border=\"1\" class=\"dataframe\">\n",
       "  <thead>\n",
       "    <tr style=\"text-align: right;\">\n",
       "      <th></th>\n",
       "      <th>chrom</th>\n",
       "      <th>pv</th>\n",
       "      <th>variant</th>\n",
       "    </tr>\n",
       "  </thead>\n",
       "  <tbody>\n",
       "    <tr>\n",
       "      <th>0</th>\n",
       "      <td>22</td>\n",
       "      <td>0.660564</td>\n",
       "      <td>22_21309934_C_G</td>\n",
       "    </tr>\n",
       "  </tbody>\n",
       "</table>\n",
       "</div>"
      ],
      "text/plain": [
       "  chrom        pv          variant\n",
       "0    22  0.660564  22_21309934_C_G"
      ]
     },
     "execution_count": 75,
     "metadata": {},
     "output_type": "execute_result"
    }
   ],
   "source": [
    "pvals3 = run_interaction(y=y, W=W, E=C1.values[:,0:10], E1=C1.values[:,0:10], E2=C1.values[:,0:10], G=GG, hK=hK_expanded)[0]\n",
    "pv3 = pd.DataFrame({\"chrom\":G_expanded.chrom.values,\n",
    "       \"pv\":pvals3,\n",
    "       \"variant\":G_expanded.snp.values})\n",
    "pv3.head()"
   ]
  },
  {
   "cell_type": "code",
   "execution_count": null,
   "id": "283c8a34",
   "metadata": {},
   "outputs": [],
   "source": [
    "### ENSG00000128283_CDC42EP1"
   ]
  },
  {
   "cell_type": "code",
   "execution_count": 66,
   "id": "5f376b5b",
   "metadata": {},
   "outputs": [
    {
     "name": "stderr",
     "output_type": "stream",
     "text": [
      "\n",
      "  0%|          | 0/1 [00:00<?, ?it/s]\u001b[A\n",
      "100%|██████████| 1/1 [04:43<00:00, 283.31s/it]\u001b[A\n"
     ]
    },
    {
     "data": {
      "text/html": [
       "<div>\n",
       "<style scoped>\n",
       "    .dataframe tbody tr th:only-of-type {\n",
       "        vertical-align: middle;\n",
       "    }\n",
       "\n",
       "    .dataframe tbody tr th {\n",
       "        vertical-align: top;\n",
       "    }\n",
       "\n",
       "    .dataframe thead th {\n",
       "        text-align: right;\n",
       "    }\n",
       "</style>\n",
       "<table border=\"1\" class=\"dataframe\">\n",
       "  <thead>\n",
       "    <tr style=\"text-align: right;\">\n",
       "      <th></th>\n",
       "      <th>chrom</th>\n",
       "      <th>pv</th>\n",
       "      <th>variant</th>\n",
       "    </tr>\n",
       "  </thead>\n",
       "  <tbody>\n",
       "    <tr>\n",
       "      <th>0</th>\n",
       "      <td>22</td>\n",
       "      <td>0.167699</td>\n",
       "      <td>22_37949661_A_T</td>\n",
       "    </tr>\n",
       "  </tbody>\n",
       "</table>\n",
       "</div>"
      ],
      "text/plain": [
       "  chrom        pv          variant\n",
       "0    22  0.167699  22_37949661_A_T"
      ]
     },
     "execution_count": 66,
     "metadata": {},
     "output_type": "execute_result"
    }
   ],
   "source": [
    "pvals1 = run_interaction(y=y, W=W, E=C1_gauss.values[:,0:10], E1=C1_gauss.values[:,0:10], E2=C1.values[:,0:20], G=GG, hK=hK_expanded)[0]\n",
    "pv1 = pd.DataFrame({\"chrom\":G_expanded.chrom.values,\n",
    "       \"pv\":pvals1,\n",
    "       \"variant\":G_expanded.snp.values})\n",
    "pv1.head()"
   ]
  },
  {
   "cell_type": "code",
   "execution_count": 67,
   "id": "cac1527b",
   "metadata": {},
   "outputs": [
    {
     "name": "stderr",
     "output_type": "stream",
     "text": [
      "\n",
      "  0%|          | 0/1 [00:00<?, ?it/s]\u001b[A\n",
      "100%|██████████| 1/1 [04:34<00:00, 274.03s/it]\u001b[A\n"
     ]
    },
    {
     "data": {
      "text/html": [
       "<div>\n",
       "<style scoped>\n",
       "    .dataframe tbody tr th:only-of-type {\n",
       "        vertical-align: middle;\n",
       "    }\n",
       "\n",
       "    .dataframe tbody tr th {\n",
       "        vertical-align: top;\n",
       "    }\n",
       "\n",
       "    .dataframe thead th {\n",
       "        text-align: right;\n",
       "    }\n",
       "</style>\n",
       "<table border=\"1\" class=\"dataframe\">\n",
       "  <thead>\n",
       "    <tr style=\"text-align: right;\">\n",
       "      <th></th>\n",
       "      <th>chrom</th>\n",
       "      <th>pv</th>\n",
       "      <th>variant</th>\n",
       "    </tr>\n",
       "  </thead>\n",
       "  <tbody>\n",
       "    <tr>\n",
       "      <th>0</th>\n",
       "      <td>22</td>\n",
       "      <td>0.318595</td>\n",
       "      <td>22_37949661_A_T</td>\n",
       "    </tr>\n",
       "  </tbody>\n",
       "</table>\n",
       "</div>"
      ],
      "text/plain": [
       "  chrom        pv          variant\n",
       "0    22  0.318595  22_37949661_A_T"
      ]
     },
     "execution_count": 67,
     "metadata": {},
     "output_type": "execute_result"
    }
   ],
   "source": [
    "pvals2 = run_interaction(y=y, W=W, E=C2_gauss.values[:,0:10], E1=C2_gauss.values[:,0:10], E2=C2.values[:,0:20], G=GG, hK=hK_expanded)[0]\n",
    "pv2 = pd.DataFrame({\"chrom\":G_expanded.chrom.values,\n",
    "       \"pv\":pvals2,\n",
    "       \"variant\":G_expanded.snp.values})\n",
    "pv2.head()"
   ]
  },
  {
   "cell_type": "code",
   "execution_count": 68,
   "id": "853b692a",
   "metadata": {},
   "outputs": [
    {
     "name": "stderr",
     "output_type": "stream",
     "text": [
      "\n",
      "  0%|          | 0/1 [00:00<?, ?it/s]\u001b[A\n",
      "100%|██████████| 1/1 [02:38<00:00, 158.39s/it]\u001b[A\n"
     ]
    },
    {
     "data": {
      "text/html": [
       "<div>\n",
       "<style scoped>\n",
       "    .dataframe tbody tr th:only-of-type {\n",
       "        vertical-align: middle;\n",
       "    }\n",
       "\n",
       "    .dataframe tbody tr th {\n",
       "        vertical-align: top;\n",
       "    }\n",
       "\n",
       "    .dataframe thead th {\n",
       "        text-align: right;\n",
       "    }\n",
       "</style>\n",
       "<table border=\"1\" class=\"dataframe\">\n",
       "  <thead>\n",
       "    <tr style=\"text-align: right;\">\n",
       "      <th></th>\n",
       "      <th>chrom</th>\n",
       "      <th>pv</th>\n",
       "      <th>variant</th>\n",
       "    </tr>\n",
       "  </thead>\n",
       "  <tbody>\n",
       "    <tr>\n",
       "      <th>0</th>\n",
       "      <td>22</td>\n",
       "      <td>0.032324</td>\n",
       "      <td>22_37949661_A_T</td>\n",
       "    </tr>\n",
       "  </tbody>\n",
       "</table>\n",
       "</div>"
      ],
      "text/plain": [
       "  chrom        pv          variant\n",
       "0    22  0.032324  22_37949661_A_T"
      ]
     },
     "execution_count": 68,
     "metadata": {},
     "output_type": "execute_result"
    }
   ],
   "source": [
    "pvals3 = run_interaction(y=y, W=W, E=C1.values[:,0:10], E1=C1.values[:,0:10], E2=C1.values[:,0:10], G=GG, hK=hK_expanded)[0]\n",
    "pv3 = pd.DataFrame({\"chrom\":G_expanded.chrom.values,\n",
    "       \"pv\":pvals3,\n",
    "       \"variant\":G_expanded.snp.values})\n",
    "pv3.head()"
   ]
  },
  {
   "cell_type": "code",
   "execution_count": null,
   "id": "a8f49eb3",
   "metadata": {},
   "outputs": [],
   "source": [
    "### ENSG00000133433_GSTT2B"
   ]
  },
  {
   "cell_type": "code",
   "execution_count": 59,
   "id": "1af5ae81",
   "metadata": {},
   "outputs": [
    {
     "name": "stderr",
     "output_type": "stream",
     "text": [
      "\n",
      "  0%|          | 0/3 [00:00<?, ?it/s]\u001b[A\n",
      " 33%|███▎      | 1/3 [04:33<09:07, 273.61s/it]\u001b[A\n",
      " 67%|██████▋   | 2/3 [09:09<04:34, 274.33s/it]\u001b[A\n",
      "100%|██████████| 3/3 [13:52<00:00, 277.59s/it]\u001b[A\n"
     ]
    },
    {
     "data": {
      "text/html": [
       "<div>\n",
       "<style scoped>\n",
       "    .dataframe tbody tr th:only-of-type {\n",
       "        vertical-align: middle;\n",
       "    }\n",
       "\n",
       "    .dataframe tbody tr th {\n",
       "        vertical-align: top;\n",
       "    }\n",
       "\n",
       "    .dataframe thead th {\n",
       "        text-align: right;\n",
       "    }\n",
       "</style>\n",
       "<table border=\"1\" class=\"dataframe\">\n",
       "  <thead>\n",
       "    <tr style=\"text-align: right;\">\n",
       "      <th></th>\n",
       "      <th>chrom</th>\n",
       "      <th>pv</th>\n",
       "      <th>variant</th>\n",
       "    </tr>\n",
       "  </thead>\n",
       "  <tbody>\n",
       "    <tr>\n",
       "      <th>0</th>\n",
       "      <td>22</td>\n",
       "      <td>2.790155e-01</td>\n",
       "      <td>22_24314006_G_T</td>\n",
       "    </tr>\n",
       "    <tr>\n",
       "      <th>1</th>\n",
       "      <td>22</td>\n",
       "      <td>1.607384e-05</td>\n",
       "      <td>22_24323514_C_T</td>\n",
       "    </tr>\n",
       "    <tr>\n",
       "      <th>2</th>\n",
       "      <td>22</td>\n",
       "      <td>7.375778e-07</td>\n",
       "      <td>22_24335228_A_C</td>\n",
       "    </tr>\n",
       "  </tbody>\n",
       "</table>\n",
       "</div>"
      ],
      "text/plain": [
       "  chrom            pv          variant\n",
       "0    22  2.790155e-01  22_24314006_G_T\n",
       "1    22  1.607384e-05  22_24323514_C_T\n",
       "2    22  7.375778e-07  22_24335228_A_C"
      ]
     },
     "execution_count": 59,
     "metadata": {},
     "output_type": "execute_result"
    }
   ],
   "source": [
    "pvals1 = run_interaction(y=y, W=W, E=C1_gauss.values[:,0:10], E1=C1_gauss.values[:,0:10], E2=C1.values[:,0:20], G=GG, hK=hK_expanded)[0]\n",
    "pv1 = pd.DataFrame({\"chrom\":G_expanded.chrom.values,\n",
    "       \"pv\":pvals1,\n",
    "       \"variant\":G_expanded.snp.values})\n",
    "pv1.head()"
   ]
  },
  {
   "cell_type": "code",
   "execution_count": 60,
   "id": "8491506c",
   "metadata": {},
   "outputs": [
    {
     "name": "stderr",
     "output_type": "stream",
     "text": [
      "\n",
      "  0%|          | 0/3 [00:00<?, ?it/s]\u001b[A\n",
      " 33%|███▎      | 1/3 [04:43<09:26, 283.15s/it]\u001b[A\n",
      " 67%|██████▋   | 2/3 [09:20<04:41, 281.29s/it]\u001b[A\n",
      "100%|██████████| 3/3 [13:57<00:00, 279.31s/it]\u001b[A\n"
     ]
    },
    {
     "data": {
      "text/html": [
       "<div>\n",
       "<style scoped>\n",
       "    .dataframe tbody tr th:only-of-type {\n",
       "        vertical-align: middle;\n",
       "    }\n",
       "\n",
       "    .dataframe tbody tr th {\n",
       "        vertical-align: top;\n",
       "    }\n",
       "\n",
       "    .dataframe thead th {\n",
       "        text-align: right;\n",
       "    }\n",
       "</style>\n",
       "<table border=\"1\" class=\"dataframe\">\n",
       "  <thead>\n",
       "    <tr style=\"text-align: right;\">\n",
       "      <th></th>\n",
       "      <th>chrom</th>\n",
       "      <th>pv</th>\n",
       "      <th>variant</th>\n",
       "    </tr>\n",
       "  </thead>\n",
       "  <tbody>\n",
       "    <tr>\n",
       "      <th>0</th>\n",
       "      <td>22</td>\n",
       "      <td>1.300539e-11</td>\n",
       "      <td>22_24314006_G_T</td>\n",
       "    </tr>\n",
       "    <tr>\n",
       "      <th>1</th>\n",
       "      <td>22</td>\n",
       "      <td>3.080535e-10</td>\n",
       "      <td>22_24323514_C_T</td>\n",
       "    </tr>\n",
       "    <tr>\n",
       "      <th>2</th>\n",
       "      <td>22</td>\n",
       "      <td>3.930914e-09</td>\n",
       "      <td>22_24335228_A_C</td>\n",
       "    </tr>\n",
       "  </tbody>\n",
       "</table>\n",
       "</div>"
      ],
      "text/plain": [
       "  chrom            pv          variant\n",
       "0    22  1.300539e-11  22_24314006_G_T\n",
       "1    22  3.080535e-10  22_24323514_C_T\n",
       "2    22  3.930914e-09  22_24335228_A_C"
      ]
     },
     "execution_count": 60,
     "metadata": {},
     "output_type": "execute_result"
    }
   ],
   "source": [
    "pvals2 = run_interaction(y=y, W=W, E=C2_gauss.values[:,0:10], E1=C2_gauss.values[:,0:10], E2=C2.values[:,0:20], G=GG, hK=hK_expanded)[0]\n",
    "pv2 = pd.DataFrame({\"chrom\":G_expanded.chrom.values,\n",
    "       \"pv\":pvals2,\n",
    "       \"variant\":G_expanded.snp.values})\n",
    "pv2.head()"
   ]
  },
  {
   "cell_type": "code",
   "execution_count": 61,
   "id": "7b89cbbd",
   "metadata": {},
   "outputs": [
    {
     "name": "stderr",
     "output_type": "stream",
     "text": [
      "\n",
      "  0%|          | 0/3 [00:00<?, ?it/s]\u001b[A\n",
      " 33%|███▎      | 1/3 [02:26<04:53, 146.55s/it]\u001b[A\n",
      " 67%|██████▋   | 2/3 [04:58<02:28, 148.15s/it]\u001b[A\n",
      "100%|██████████| 3/3 [07:25<00:00, 148.66s/it]\u001b[A\n"
     ]
    },
    {
     "data": {
      "text/html": [
       "<div>\n",
       "<style scoped>\n",
       "    .dataframe tbody tr th:only-of-type {\n",
       "        vertical-align: middle;\n",
       "    }\n",
       "\n",
       "    .dataframe tbody tr th {\n",
       "        vertical-align: top;\n",
       "    }\n",
       "\n",
       "    .dataframe thead th {\n",
       "        text-align: right;\n",
       "    }\n",
       "</style>\n",
       "<table border=\"1\" class=\"dataframe\">\n",
       "  <thead>\n",
       "    <tr style=\"text-align: right;\">\n",
       "      <th></th>\n",
       "      <th>chrom</th>\n",
       "      <th>pv</th>\n",
       "      <th>variant</th>\n",
       "    </tr>\n",
       "  </thead>\n",
       "  <tbody>\n",
       "    <tr>\n",
       "      <th>0</th>\n",
       "      <td>22</td>\n",
       "      <td>5.245872e-07</td>\n",
       "      <td>22_24314006_G_T</td>\n",
       "    </tr>\n",
       "    <tr>\n",
       "      <th>1</th>\n",
       "      <td>22</td>\n",
       "      <td>7.264206e-06</td>\n",
       "      <td>22_24323514_C_T</td>\n",
       "    </tr>\n",
       "    <tr>\n",
       "      <th>2</th>\n",
       "      <td>22</td>\n",
       "      <td>1.030548e-07</td>\n",
       "      <td>22_24335228_A_C</td>\n",
       "    </tr>\n",
       "  </tbody>\n",
       "</table>\n",
       "</div>"
      ],
      "text/plain": [
       "  chrom            pv          variant\n",
       "0    22  5.245872e-07  22_24314006_G_T\n",
       "1    22  7.264206e-06  22_24323514_C_T\n",
       "2    22  1.030548e-07  22_24335228_A_C"
      ]
     },
     "execution_count": 61,
     "metadata": {},
     "output_type": "execute_result"
    }
   ],
   "source": [
    "pvals3 = run_interaction(y=y, W=W, E=C1.values[:,0:10], E1=C1.values[:,0:10], E2=C1.values[:,0:10], G=GG, hK=hK_expanded)[0]\n",
    "pv3 = pd.DataFrame({\"chrom\":G_expanded.chrom.values,\n",
    "       \"pv\":pvals3,\n",
    "       \"variant\":G_expanded.snp.values})\n",
    "pv3.head()"
   ]
  },
  {
   "cell_type": "code",
   "execution_count": null,
   "id": "1cb5a497",
   "metadata": {},
   "outputs": [],
   "source": [
    "### ENSG00000100122_CRYBB1"
   ]
  },
  {
   "cell_type": "code",
   "execution_count": 52,
   "id": "32afcd57",
   "metadata": {},
   "outputs": [
    {
     "name": "stderr",
     "output_type": "stream",
     "text": [
      "\n",
      "  0%|          | 0/1 [00:00<?, ?it/s]\u001b[A\n",
      "100%|██████████| 1/1 [04:49<00:00, 289.06s/it]\u001b[A\n"
     ]
    },
    {
     "data": {
      "text/html": [
       "<div>\n",
       "<style scoped>\n",
       "    .dataframe tbody tr th:only-of-type {\n",
       "        vertical-align: middle;\n",
       "    }\n",
       "\n",
       "    .dataframe tbody tr th {\n",
       "        vertical-align: top;\n",
       "    }\n",
       "\n",
       "    .dataframe thead th {\n",
       "        text-align: right;\n",
       "    }\n",
       "</style>\n",
       "<table border=\"1\" class=\"dataframe\">\n",
       "  <thead>\n",
       "    <tr style=\"text-align: right;\">\n",
       "      <th></th>\n",
       "      <th>chrom</th>\n",
       "      <th>pv</th>\n",
       "      <th>variant</th>\n",
       "    </tr>\n",
       "  </thead>\n",
       "  <tbody>\n",
       "    <tr>\n",
       "      <th>0</th>\n",
       "      <td>22</td>\n",
       "      <td>0.002189</td>\n",
       "      <td>22_26996946_G_A</td>\n",
       "    </tr>\n",
       "  </tbody>\n",
       "</table>\n",
       "</div>"
      ],
      "text/plain": [
       "  chrom        pv          variant\n",
       "0    22  0.002189  22_26996946_G_A"
      ]
     },
     "execution_count": 52,
     "metadata": {},
     "output_type": "execute_result"
    }
   ],
   "source": [
    "pvals1 = run_interaction(y=y, W=W, E=C1_gauss.values[:,0:10], E1=C1_gauss.values[:,0:10], E2=C1.values[:,0:20], G=GG, hK=hK_expanded)[0]\n",
    "pv1 = pd.DataFrame({\"chrom\":G_expanded.chrom.values,\n",
    "       \"pv\":pvals1,\n",
    "       \"variant\":G_expanded.snp.values})\n",
    "pv1.head()"
   ]
  },
  {
   "cell_type": "code",
   "execution_count": 53,
   "id": "83357416",
   "metadata": {},
   "outputs": [
    {
     "name": "stderr",
     "output_type": "stream",
     "text": [
      "\n",
      "  0%|          | 0/1 [00:00<?, ?it/s]\u001b[A\n",
      "100%|██████████| 1/1 [05:01<00:00, 301.96s/it]\u001b[A\n"
     ]
    },
    {
     "data": {
      "text/html": [
       "<div>\n",
       "<style scoped>\n",
       "    .dataframe tbody tr th:only-of-type {\n",
       "        vertical-align: middle;\n",
       "    }\n",
       "\n",
       "    .dataframe tbody tr th {\n",
       "        vertical-align: top;\n",
       "    }\n",
       "\n",
       "    .dataframe thead th {\n",
       "        text-align: right;\n",
       "    }\n",
       "</style>\n",
       "<table border=\"1\" class=\"dataframe\">\n",
       "  <thead>\n",
       "    <tr style=\"text-align: right;\">\n",
       "      <th></th>\n",
       "      <th>chrom</th>\n",
       "      <th>pv</th>\n",
       "      <th>variant</th>\n",
       "    </tr>\n",
       "  </thead>\n",
       "  <tbody>\n",
       "    <tr>\n",
       "      <th>0</th>\n",
       "      <td>22</td>\n",
       "      <td>2.398976e-17</td>\n",
       "      <td>22_26996946_G_A</td>\n",
       "    </tr>\n",
       "  </tbody>\n",
       "</table>\n",
       "</div>"
      ],
      "text/plain": [
       "  chrom            pv          variant\n",
       "0    22  2.398976e-17  22_26996946_G_A"
      ]
     },
     "execution_count": 53,
     "metadata": {},
     "output_type": "execute_result"
    }
   ],
   "source": [
    "pvals2 = run_interaction(y=y, W=W, E=C2_gauss.values[:,0:10], E1=C2_gauss.values[:,0:10], E2=C2.values[:,0:20], G=GG, hK=hK_expanded)[0]\n",
    "pv2 = pd.DataFrame({\"chrom\":G_expanded.chrom.values,\n",
    "       \"pv\":pvals2,\n",
    "       \"variant\":G_expanded.snp.values})\n",
    "pv2.head()"
   ]
  },
  {
   "cell_type": "code",
   "execution_count": 54,
   "id": "b5092b08",
   "metadata": {},
   "outputs": [
    {
     "name": "stderr",
     "output_type": "stream",
     "text": [
      "\n",
      "  0%|          | 0/1 [00:00<?, ?it/s]\u001b[A\n",
      "100%|██████████| 1/1 [02:32<00:00, 152.92s/it]\u001b[A\n"
     ]
    },
    {
     "data": {
      "text/html": [
       "<div>\n",
       "<style scoped>\n",
       "    .dataframe tbody tr th:only-of-type {\n",
       "        vertical-align: middle;\n",
       "    }\n",
       "\n",
       "    .dataframe tbody tr th {\n",
       "        vertical-align: top;\n",
       "    }\n",
       "\n",
       "    .dataframe thead th {\n",
       "        text-align: right;\n",
       "    }\n",
       "</style>\n",
       "<table border=\"1\" class=\"dataframe\">\n",
       "  <thead>\n",
       "    <tr style=\"text-align: right;\">\n",
       "      <th></th>\n",
       "      <th>chrom</th>\n",
       "      <th>pv</th>\n",
       "      <th>variant</th>\n",
       "    </tr>\n",
       "  </thead>\n",
       "  <tbody>\n",
       "    <tr>\n",
       "      <th>0</th>\n",
       "      <td>22</td>\n",
       "      <td>1.544407e-11</td>\n",
       "      <td>22_26996946_G_A</td>\n",
       "    </tr>\n",
       "  </tbody>\n",
       "</table>\n",
       "</div>"
      ],
      "text/plain": [
       "  chrom            pv          variant\n",
       "0    22  1.544407e-11  22_26996946_G_A"
      ]
     },
     "execution_count": 54,
     "metadata": {},
     "output_type": "execute_result"
    }
   ],
   "source": [
    "pvals3 = run_interaction(y=y, W=W, E=C1.values[:,0:10], E1=C1.values[:,0:10], E2=C1.values[:,0:10], G=GG, hK=hK_expanded)[0]\n",
    "pv3 = pd.DataFrame({\"chrom\":G_expanded.chrom.values,\n",
    "       \"pv\":pvals3,\n",
    "       \"variant\":G_expanded.snp.values})\n",
    "pv3.head()"
   ]
  },
  {
   "cell_type": "code",
   "execution_count": null,
   "id": "4670f2d8",
   "metadata": {},
   "outputs": [],
   "source": [
    "### ENSG00000100429_HDAC10"
   ]
  },
  {
   "cell_type": "code",
   "execution_count": 45,
   "id": "4342016e",
   "metadata": {},
   "outputs": [
    {
     "name": "stderr",
     "output_type": "stream",
     "text": [
      "\n",
      "  0%|          | 0/2 [00:00<?, ?it/s]\u001b[A\n",
      " 50%|█████     | 1/2 [05:21<05:21, 321.88s/it]\u001b[A\n",
      "100%|██████████| 2/2 [10:41<00:00, 320.51s/it]\u001b[A\n"
     ]
    },
    {
     "data": {
      "text/html": [
       "<div>\n",
       "<style scoped>\n",
       "    .dataframe tbody tr th:only-of-type {\n",
       "        vertical-align: middle;\n",
       "    }\n",
       "\n",
       "    .dataframe tbody tr th {\n",
       "        vertical-align: top;\n",
       "    }\n",
       "\n",
       "    .dataframe thead th {\n",
       "        text-align: right;\n",
       "    }\n",
       "</style>\n",
       "<table border=\"1\" class=\"dataframe\">\n",
       "  <thead>\n",
       "    <tr style=\"text-align: right;\">\n",
       "      <th></th>\n",
       "      <th>chrom</th>\n",
       "      <th>pv</th>\n",
       "      <th>variant</th>\n",
       "    </tr>\n",
       "  </thead>\n",
       "  <tbody>\n",
       "    <tr>\n",
       "      <th>0</th>\n",
       "      <td>22</td>\n",
       "      <td>0.002163</td>\n",
       "      <td>22_50674232_G_A</td>\n",
       "    </tr>\n",
       "    <tr>\n",
       "      <th>1</th>\n",
       "      <td>22</td>\n",
       "      <td>0.000973</td>\n",
       "      <td>22_50676459_A_G</td>\n",
       "    </tr>\n",
       "  </tbody>\n",
       "</table>\n",
       "</div>"
      ],
      "text/plain": [
       "  chrom        pv          variant\n",
       "0    22  0.002163  22_50674232_G_A\n",
       "1    22  0.000973  22_50676459_A_G"
      ]
     },
     "execution_count": 45,
     "metadata": {},
     "output_type": "execute_result"
    }
   ],
   "source": [
    "pvals1 = run_interaction(y=y, W=W, E=C1_gauss.values[:,0:10], E1=C1_gauss.values[:,0:10], E2=C1.values[:,0:20], G=GG, hK=hK_expanded)[0]\n",
    "pv1 = pd.DataFrame({\"chrom\":G_expanded.chrom.values,\n",
    "       \"pv\":pvals1,\n",
    "       \"variant\":G_expanded.snp.values})\n",
    "pv1.head()"
   ]
  },
  {
   "cell_type": "code",
   "execution_count": 46,
   "id": "bd0a0e07",
   "metadata": {},
   "outputs": [
    {
     "name": "stderr",
     "output_type": "stream",
     "text": [
      "\n",
      "  0%|          | 0/2 [00:00<?, ?it/s]\u001b[A\n",
      " 50%|█████     | 1/2 [05:02<05:02, 302.32s/it]\u001b[A\n",
      "100%|██████████| 2/2 [10:22<00:00, 311.47s/it]\u001b[A\n"
     ]
    },
    {
     "data": {
      "text/html": [
       "<div>\n",
       "<style scoped>\n",
       "    .dataframe tbody tr th:only-of-type {\n",
       "        vertical-align: middle;\n",
       "    }\n",
       "\n",
       "    .dataframe tbody tr th {\n",
       "        vertical-align: top;\n",
       "    }\n",
       "\n",
       "    .dataframe thead th {\n",
       "        text-align: right;\n",
       "    }\n",
       "</style>\n",
       "<table border=\"1\" class=\"dataframe\">\n",
       "  <thead>\n",
       "    <tr style=\"text-align: right;\">\n",
       "      <th></th>\n",
       "      <th>chrom</th>\n",
       "      <th>pv</th>\n",
       "      <th>variant</th>\n",
       "    </tr>\n",
       "  </thead>\n",
       "  <tbody>\n",
       "    <tr>\n",
       "      <th>0</th>\n",
       "      <td>22</td>\n",
       "      <td>0.436182</td>\n",
       "      <td>22_50674232_G_A</td>\n",
       "    </tr>\n",
       "    <tr>\n",
       "      <th>1</th>\n",
       "      <td>22</td>\n",
       "      <td>0.686520</td>\n",
       "      <td>22_50676459_A_G</td>\n",
       "    </tr>\n",
       "  </tbody>\n",
       "</table>\n",
       "</div>"
      ],
      "text/plain": [
       "  chrom        pv          variant\n",
       "0    22  0.436182  22_50674232_G_A\n",
       "1    22  0.686520  22_50676459_A_G"
      ]
     },
     "execution_count": 46,
     "metadata": {},
     "output_type": "execute_result"
    }
   ],
   "source": [
    "pvals2 = run_interaction(y=y, W=W, E=C2_gauss.values[:,0:10], E1=C2_gauss.values[:,0:10], E2=C2.values[:,0:20], G=GG, hK=hK_expanded)[0]\n",
    "pv2 = pd.DataFrame({\"chrom\":G_expanded.chrom.values,\n",
    "       \"pv\":pvals2,\n",
    "       \"variant\":G_expanded.snp.values})\n",
    "pv2.head()"
   ]
  },
  {
   "cell_type": "code",
   "execution_count": 47,
   "id": "c7681a86",
   "metadata": {},
   "outputs": [
    {
     "name": "stderr",
     "output_type": "stream",
     "text": [
      "\n",
      "  0%|          | 0/2 [00:00<?, ?it/s]\u001b[A\n",
      " 50%|█████     | 1/2 [02:43<02:43, 163.87s/it]\u001b[A\n",
      "100%|██████████| 2/2 [05:33<00:00, 166.58s/it]\u001b[A\n"
     ]
    },
    {
     "data": {
      "text/html": [
       "<div>\n",
       "<style scoped>\n",
       "    .dataframe tbody tr th:only-of-type {\n",
       "        vertical-align: middle;\n",
       "    }\n",
       "\n",
       "    .dataframe tbody tr th {\n",
       "        vertical-align: top;\n",
       "    }\n",
       "\n",
       "    .dataframe thead th {\n",
       "        text-align: right;\n",
       "    }\n",
       "</style>\n",
       "<table border=\"1\" class=\"dataframe\">\n",
       "  <thead>\n",
       "    <tr style=\"text-align: right;\">\n",
       "      <th></th>\n",
       "      <th>chrom</th>\n",
       "      <th>pv</th>\n",
       "      <th>variant</th>\n",
       "    </tr>\n",
       "  </thead>\n",
       "  <tbody>\n",
       "    <tr>\n",
       "      <th>0</th>\n",
       "      <td>22</td>\n",
       "      <td>0.068251</td>\n",
       "      <td>22_50674232_G_A</td>\n",
       "    </tr>\n",
       "    <tr>\n",
       "      <th>1</th>\n",
       "      <td>22</td>\n",
       "      <td>0.344028</td>\n",
       "      <td>22_50676459_A_G</td>\n",
       "    </tr>\n",
       "  </tbody>\n",
       "</table>\n",
       "</div>"
      ],
      "text/plain": [
       "  chrom        pv          variant\n",
       "0    22  0.068251  22_50674232_G_A\n",
       "1    22  0.344028  22_50676459_A_G"
      ]
     },
     "execution_count": 47,
     "metadata": {},
     "output_type": "execute_result"
    }
   ],
   "source": [
    "pvals3 = run_interaction(y=y, W=W, E=C1.values[:,0:10], E1=C1.values[:,0:10], E2=C1.values[:,0:10], G=GG, hK=hK_expanded)[0]\n",
    "pv3 = pd.DataFrame({\"chrom\":G_expanded.chrom.values,\n",
    "       \"pv\":pvals3,\n",
    "       \"variant\":G_expanded.snp.values})\n",
    "pv3.head()"
   ]
  },
  {
   "cell_type": "code",
   "execution_count": null,
   "id": "dcf4effa",
   "metadata": {},
   "outputs": [],
   "source": [
    "### ENSG00000099984_GSTT2"
   ]
  },
  {
   "cell_type": "code",
   "execution_count": 148,
   "id": "0a1d6db8",
   "metadata": {},
   "outputs": [
    {
     "name": "stderr",
     "output_type": "stream",
     "text": [
      "100%|██████████| 2/2 [11:02<00:00, 331.41s/it]\n"
     ]
    },
    {
     "data": {
      "text/html": [
       "<div>\n",
       "<style scoped>\n",
       "    .dataframe tbody tr th:only-of-type {\n",
       "        vertical-align: middle;\n",
       "    }\n",
       "\n",
       "    .dataframe tbody tr th {\n",
       "        vertical-align: top;\n",
       "    }\n",
       "\n",
       "    .dataframe thead th {\n",
       "        text-align: right;\n",
       "    }\n",
       "</style>\n",
       "<table border=\"1\" class=\"dataframe\">\n",
       "  <thead>\n",
       "    <tr style=\"text-align: right;\">\n",
       "      <th></th>\n",
       "      <th>chrom</th>\n",
       "      <th>pv</th>\n",
       "      <th>variant</th>\n",
       "    </tr>\n",
       "  </thead>\n",
       "  <tbody>\n",
       "    <tr>\n",
       "      <th>0</th>\n",
       "      <td>22</td>\n",
       "      <td>0.371885</td>\n",
       "      <td>22_24255296_C_T</td>\n",
       "    </tr>\n",
       "    <tr>\n",
       "      <th>1</th>\n",
       "      <td>22</td>\n",
       "      <td>0.000005</td>\n",
       "      <td>22_24323514_C_T</td>\n",
       "    </tr>\n",
       "  </tbody>\n",
       "</table>\n",
       "</div>"
      ],
      "text/plain": [
       "  chrom        pv          variant\n",
       "0    22  0.371885  22_24255296_C_T\n",
       "1    22  0.000005  22_24323514_C_T"
      ]
     },
     "execution_count": 148,
     "metadata": {},
     "output_type": "execute_result"
    }
   ],
   "source": [
    "pvals1 = run_interaction(y=y, W=W, E=C1_gauss.values[:,0:10], E1=C1_gauss.values[:,0:10], E2=C1.values[:,0:20], G=GG, hK=hK_expanded)[0]\n",
    "pv1 = pd.DataFrame({\"chrom\":G_expanded.chrom.values,\n",
    "       \"pv\":pvals1,\n",
    "       \"variant\":G_expanded.snp.values})\n",
    "pv1.head()"
   ]
  },
  {
   "cell_type": "code",
   "execution_count": 39,
   "id": "c1a99f83",
   "metadata": {},
   "outputs": [
    {
     "name": "stderr",
     "output_type": "stream",
     "text": [
      "\n",
      "  0%|          | 0/2 [00:00<?, ?it/s]\u001b[A\n",
      " 50%|█████     | 1/2 [04:42<04:42, 282.48s/it]\u001b[A\n",
      "100%|██████████| 2/2 [09:12<00:00, 276.19s/it]\u001b[A\n"
     ]
    },
    {
     "data": {
      "text/html": [
       "<div>\n",
       "<style scoped>\n",
       "    .dataframe tbody tr th:only-of-type {\n",
       "        vertical-align: middle;\n",
       "    }\n",
       "\n",
       "    .dataframe tbody tr th {\n",
       "        vertical-align: top;\n",
       "    }\n",
       "\n",
       "    .dataframe thead th {\n",
       "        text-align: right;\n",
       "    }\n",
       "</style>\n",
       "<table border=\"1\" class=\"dataframe\">\n",
       "  <thead>\n",
       "    <tr style=\"text-align: right;\">\n",
       "      <th></th>\n",
       "      <th>chrom</th>\n",
       "      <th>pv</th>\n",
       "      <th>variant</th>\n",
       "    </tr>\n",
       "  </thead>\n",
       "  <tbody>\n",
       "    <tr>\n",
       "      <th>0</th>\n",
       "      <td>22</td>\n",
       "      <td>1.328878e-11</td>\n",
       "      <td>22_24255296_C_T</td>\n",
       "    </tr>\n",
       "    <tr>\n",
       "      <th>1</th>\n",
       "      <td>22</td>\n",
       "      <td>6.727592e-12</td>\n",
       "      <td>22_24323514_C_T</td>\n",
       "    </tr>\n",
       "  </tbody>\n",
       "</table>\n",
       "</div>"
      ],
      "text/plain": [
       "  chrom            pv          variant\n",
       "0    22  1.328878e-11  22_24255296_C_T\n",
       "1    22  6.727592e-12  22_24323514_C_T"
      ]
     },
     "execution_count": 39,
     "metadata": {},
     "output_type": "execute_result"
    }
   ],
   "source": [
    "pvals2 = run_interaction(y=y, W=W, E=C2_gauss.values[:,0:10], E1=C2_gauss.values[:,0:10], E2=C2.values[:,0:20], G=GG, hK=hK_expanded)[0]\n",
    "pv2 = pd.DataFrame({\"chrom\":G_expanded.chrom.values,\n",
    "       \"pv\":pvals2,\n",
    "       \"variant\":G_expanded.snp.values})\n",
    "pv2.head()"
   ]
  },
  {
   "cell_type": "code",
   "execution_count": 40,
   "id": "e357f832",
   "metadata": {},
   "outputs": [
    {
     "name": "stderr",
     "output_type": "stream",
     "text": [
      "\n",
      "  0%|          | 0/2 [00:00<?, ?it/s]\u001b[A\n",
      " 50%|█████     | 1/2 [02:32<02:32, 152.22s/it]\u001b[A\n",
      "100%|██████████| 2/2 [05:07<00:00, 153.71s/it]\u001b[A\n"
     ]
    },
    {
     "data": {
      "text/html": [
       "<div>\n",
       "<style scoped>\n",
       "    .dataframe tbody tr th:only-of-type {\n",
       "        vertical-align: middle;\n",
       "    }\n",
       "\n",
       "    .dataframe tbody tr th {\n",
       "        vertical-align: top;\n",
       "    }\n",
       "\n",
       "    .dataframe thead th {\n",
       "        text-align: right;\n",
       "    }\n",
       "</style>\n",
       "<table border=\"1\" class=\"dataframe\">\n",
       "  <thead>\n",
       "    <tr style=\"text-align: right;\">\n",
       "      <th></th>\n",
       "      <th>chrom</th>\n",
       "      <th>pv</th>\n",
       "      <th>variant</th>\n",
       "    </tr>\n",
       "  </thead>\n",
       "  <tbody>\n",
       "    <tr>\n",
       "      <th>0</th>\n",
       "      <td>22</td>\n",
       "      <td>0.000002</td>\n",
       "      <td>22_24255296_C_T</td>\n",
       "    </tr>\n",
       "    <tr>\n",
       "      <th>1</th>\n",
       "      <td>22</td>\n",
       "      <td>0.000001</td>\n",
       "      <td>22_24323514_C_T</td>\n",
       "    </tr>\n",
       "  </tbody>\n",
       "</table>\n",
       "</div>"
      ],
      "text/plain": [
       "  chrom        pv          variant\n",
       "0    22  0.000002  22_24255296_C_T\n",
       "1    22  0.000001  22_24323514_C_T"
      ]
     },
     "execution_count": 40,
     "metadata": {},
     "output_type": "execute_result"
    }
   ],
   "source": [
    "pvals3 = run_interaction(y=y, W=W, E=C1.values[:,0:10], E1=C1.values[:,0:10], E2=C1.values[:,0:10], G=GG, hK=hK_expanded)[0]\n",
    "pv3 = pd.DataFrame({\"chrom\":G_expanded.chrom.values,\n",
    "       \"pv\":pvals3,\n",
    "       \"variant\":G_expanded.snp.values})\n",
    "pv3.head()"
   ]
  },
  {
   "cell_type": "code",
   "execution_count": null,
   "id": "dccf452f",
   "metadata": {},
   "outputs": [],
   "source": [
    "### ENSG00000179750_APOBEC3B"
   ]
  },
  {
   "cell_type": "code",
   "execution_count": 105,
   "id": "e6c34aed",
   "metadata": {},
   "outputs": [
    {
     "name": "stderr",
     "output_type": "stream",
     "text": [
      "100%|██████████| 2/2 [11:54<00:00, 357.37s/it]\n"
     ]
    },
    {
     "data": {
      "text/html": [
       "<div>\n",
       "<style scoped>\n",
       "    .dataframe tbody tr th:only-of-type {\n",
       "        vertical-align: middle;\n",
       "    }\n",
       "\n",
       "    .dataframe tbody tr th {\n",
       "        vertical-align: top;\n",
       "    }\n",
       "\n",
       "    .dataframe thead th {\n",
       "        text-align: right;\n",
       "    }\n",
       "</style>\n",
       "<table border=\"1\" class=\"dataframe\">\n",
       "  <thead>\n",
       "    <tr style=\"text-align: right;\">\n",
       "      <th></th>\n",
       "      <th>chrom</th>\n",
       "      <th>pv</th>\n",
       "      <th>variant</th>\n",
       "    </tr>\n",
       "  </thead>\n",
       "  <tbody>\n",
       "    <tr>\n",
       "      <th>0</th>\n",
       "      <td>22</td>\n",
       "      <td>0.000083</td>\n",
       "      <td>22_39358037_A_C</td>\n",
       "    </tr>\n",
       "    <tr>\n",
       "      <th>1</th>\n",
       "      <td>22</td>\n",
       "      <td>0.790454</td>\n",
       "      <td>22_39383918_G_A</td>\n",
       "    </tr>\n",
       "  </tbody>\n",
       "</table>\n",
       "</div>"
      ],
      "text/plain": [
       "  chrom        pv          variant\n",
       "0    22  0.000083  22_39358037_A_C\n",
       "1    22  0.790454  22_39383918_G_A"
      ]
     },
     "execution_count": 105,
     "metadata": {},
     "output_type": "execute_result"
    }
   ],
   "source": [
    "pvals1 = run_interaction(y=y, W=W, E=C1_gauss.values[:,0:10], E1=C1_gauss.values[:,0:10], E2=C1.values[:,0:20], G=GG, hK=hK_expanded)[0]\n",
    "pv1 = pd.DataFrame({\"chrom\":G_expanded.chrom.values,\n",
    "       \"pv\":pvals1,\n",
    "       \"variant\":G_expanded.snp.values})\n",
    "pv1.head()"
   ]
  },
  {
   "cell_type": "code",
   "execution_count": 106,
   "id": "d0b1c3cf",
   "metadata": {},
   "outputs": [
    {
     "name": "stderr",
     "output_type": "stream",
     "text": [
      "100%|██████████| 2/2 [10:58<00:00, 329.00s/it]\n"
     ]
    },
    {
     "data": {
      "text/html": [
       "<div>\n",
       "<style scoped>\n",
       "    .dataframe tbody tr th:only-of-type {\n",
       "        vertical-align: middle;\n",
       "    }\n",
       "\n",
       "    .dataframe tbody tr th {\n",
       "        vertical-align: top;\n",
       "    }\n",
       "\n",
       "    .dataframe thead th {\n",
       "        text-align: right;\n",
       "    }\n",
       "</style>\n",
       "<table border=\"1\" class=\"dataframe\">\n",
       "  <thead>\n",
       "    <tr style=\"text-align: right;\">\n",
       "      <th></th>\n",
       "      <th>chrom</th>\n",
       "      <th>pv</th>\n",
       "      <th>variant</th>\n",
       "    </tr>\n",
       "  </thead>\n",
       "  <tbody>\n",
       "    <tr>\n",
       "      <th>0</th>\n",
       "      <td>22</td>\n",
       "      <td>0.000003</td>\n",
       "      <td>22_39358037_A_C</td>\n",
       "    </tr>\n",
       "    <tr>\n",
       "      <th>1</th>\n",
       "      <td>22</td>\n",
       "      <td>0.011491</td>\n",
       "      <td>22_39383918_G_A</td>\n",
       "    </tr>\n",
       "  </tbody>\n",
       "</table>\n",
       "</div>"
      ],
      "text/plain": [
       "  chrom        pv          variant\n",
       "0    22  0.000003  22_39358037_A_C\n",
       "1    22  0.011491  22_39383918_G_A"
      ]
     },
     "execution_count": 106,
     "metadata": {},
     "output_type": "execute_result"
    }
   ],
   "source": [
    "pvals2 = run_interaction(y=y, W=W, E=C2_gauss.values[:,0:10], E1=C2_gauss.values[:,0:10], E2=C2.values[:,0:20], G=GG, hK=hK_expanded)[0]\n",
    "pv2 = pd.DataFrame({\"chrom\":G_expanded.chrom.values,\n",
    "       \"pv\":pvals2,\n",
    "       \"variant\":G_expanded.snp.values})\n",
    "pv2.head()"
   ]
  },
  {
   "cell_type": "code",
   "execution_count": 107,
   "id": "507ab1be",
   "metadata": {},
   "outputs": [
    {
     "name": "stderr",
     "output_type": "stream",
     "text": [
      "100%|██████████| 2/2 [06:27<00:00, 193.64s/it]\n"
     ]
    },
    {
     "data": {
      "text/html": [
       "<div>\n",
       "<style scoped>\n",
       "    .dataframe tbody tr th:only-of-type {\n",
       "        vertical-align: middle;\n",
       "    }\n",
       "\n",
       "    .dataframe tbody tr th {\n",
       "        vertical-align: top;\n",
       "    }\n",
       "\n",
       "    .dataframe thead th {\n",
       "        text-align: right;\n",
       "    }\n",
       "</style>\n",
       "<table border=\"1\" class=\"dataframe\">\n",
       "  <thead>\n",
       "    <tr style=\"text-align: right;\">\n",
       "      <th></th>\n",
       "      <th>chrom</th>\n",
       "      <th>pv</th>\n",
       "      <th>variant</th>\n",
       "    </tr>\n",
       "  </thead>\n",
       "  <tbody>\n",
       "    <tr>\n",
       "      <th>0</th>\n",
       "      <td>22</td>\n",
       "      <td>0.000026</td>\n",
       "      <td>22_39358037_A_C</td>\n",
       "    </tr>\n",
       "    <tr>\n",
       "      <th>1</th>\n",
       "      <td>22</td>\n",
       "      <td>0.015247</td>\n",
       "      <td>22_39383918_G_A</td>\n",
       "    </tr>\n",
       "  </tbody>\n",
       "</table>\n",
       "</div>"
      ],
      "text/plain": [
       "  chrom        pv          variant\n",
       "0    22  0.000026  22_39358037_A_C\n",
       "1    22  0.015247  22_39383918_G_A"
      ]
     },
     "execution_count": 107,
     "metadata": {},
     "output_type": "execute_result"
    }
   ],
   "source": [
    "pvals3 = run_interaction(y=y, W=W, E=C1.values[:,0:10], E1=C1.values[:,0:10], E2=C1.values[:,0:10], G=GG, hK=hK_expanded)[0]\n",
    "pv3 = pd.DataFrame({\"chrom\":G_expanded.chrom.values,\n",
    "       \"pv\":pvals3,\n",
    "       \"variant\":G_expanded.snp.values})\n",
    "pv3.head()"
   ]
  },
  {
   "cell_type": "code",
   "execution_count": null,
   "id": "39effb90",
   "metadata": {},
   "outputs": [],
   "source": [
    "### ENSG00000100033_PRODH"
   ]
  },
  {
   "cell_type": "code",
   "execution_count": 96,
   "id": "9cf3567a",
   "metadata": {},
   "outputs": [
    {
     "name": "stderr",
     "output_type": "stream",
     "text": [
      "100%|██████████| 2/2 [09:38<00:00, 289.33s/it]\n"
     ]
    },
    {
     "data": {
      "text/html": [
       "<div>\n",
       "<style scoped>\n",
       "    .dataframe tbody tr th:only-of-type {\n",
       "        vertical-align: middle;\n",
       "    }\n",
       "\n",
       "    .dataframe tbody tr th {\n",
       "        vertical-align: top;\n",
       "    }\n",
       "\n",
       "    .dataframe thead th {\n",
       "        text-align: right;\n",
       "    }\n",
       "</style>\n",
       "<table border=\"1\" class=\"dataframe\">\n",
       "  <thead>\n",
       "    <tr style=\"text-align: right;\">\n",
       "      <th></th>\n",
       "      <th>chrom</th>\n",
       "      <th>pv</th>\n",
       "      <th>variant</th>\n",
       "    </tr>\n",
       "  </thead>\n",
       "  <tbody>\n",
       "    <tr>\n",
       "      <th>0</th>\n",
       "      <td>22</td>\n",
       "      <td>0.006461</td>\n",
       "      <td>22_18909505_T_C</td>\n",
       "    </tr>\n",
       "    <tr>\n",
       "      <th>1</th>\n",
       "      <td>22</td>\n",
       "      <td>0.843212</td>\n",
       "      <td>22_18915282_C_T</td>\n",
       "    </tr>\n",
       "  </tbody>\n",
       "</table>\n",
       "</div>"
      ],
      "text/plain": [
       "  chrom        pv          variant\n",
       "0    22  0.006461  22_18909505_T_C\n",
       "1    22  0.843212  22_18915282_C_T"
      ]
     },
     "execution_count": 96,
     "metadata": {},
     "output_type": "execute_result"
    }
   ],
   "source": [
    "pvals1 = run_interaction(y=y, W=W, E=C1_gauss.values[:,0:10], E1=C1_gauss.values[:,0:10], E2=C1.values[:,0:20], G=GG, hK=hK_expanded)[0]\n",
    "pv1 = pd.DataFrame({\"chrom\":G_expanded.chrom.values,\n",
    "       \"pv\":pvals1,\n",
    "       \"variant\":G_expanded.snp.values})\n",
    "pv1.head()"
   ]
  },
  {
   "cell_type": "code",
   "execution_count": 99,
   "id": "2bfb67c8",
   "metadata": {},
   "outputs": [
    {
     "name": "stderr",
     "output_type": "stream",
     "text": [
      "100%|██████████| 2/2 [09:56<00:00, 298.12s/it]\n"
     ]
    },
    {
     "data": {
      "text/html": [
       "<div>\n",
       "<style scoped>\n",
       "    .dataframe tbody tr th:only-of-type {\n",
       "        vertical-align: middle;\n",
       "    }\n",
       "\n",
       "    .dataframe tbody tr th {\n",
       "        vertical-align: top;\n",
       "    }\n",
       "\n",
       "    .dataframe thead th {\n",
       "        text-align: right;\n",
       "    }\n",
       "</style>\n",
       "<table border=\"1\" class=\"dataframe\">\n",
       "  <thead>\n",
       "    <tr style=\"text-align: right;\">\n",
       "      <th></th>\n",
       "      <th>chrom</th>\n",
       "      <th>pv</th>\n",
       "      <th>variant</th>\n",
       "    </tr>\n",
       "  </thead>\n",
       "  <tbody>\n",
       "    <tr>\n",
       "      <th>0</th>\n",
       "      <td>22</td>\n",
       "      <td>0.006725</td>\n",
       "      <td>22_18909505_T_C</td>\n",
       "    </tr>\n",
       "    <tr>\n",
       "      <th>1</th>\n",
       "      <td>22</td>\n",
       "      <td>0.888190</td>\n",
       "      <td>22_18915282_C_T</td>\n",
       "    </tr>\n",
       "  </tbody>\n",
       "</table>\n",
       "</div>"
      ],
      "text/plain": [
       "  chrom        pv          variant\n",
       "0    22  0.006725  22_18909505_T_C\n",
       "1    22  0.888190  22_18915282_C_T"
      ]
     },
     "execution_count": 99,
     "metadata": {},
     "output_type": "execute_result"
    }
   ],
   "source": [
    "pvals2 = run_interaction(y=y, W=W, E=C2_gauss.values[:,0:10], E1=C2_gauss.values[:,0:10], E2=C2.values[:,0:20], G=GG, hK=hK_expanded)[0]\n",
    "pv2 = pd.DataFrame({\"chrom\":G_expanded.chrom.values,\n",
    "       \"pv\":pvals2,\n",
    "       \"variant\":G_expanded.snp.values})\n",
    "pv2.head()"
   ]
  },
  {
   "cell_type": "code",
   "execution_count": 100,
   "id": "ef7c655c",
   "metadata": {},
   "outputs": [
    {
     "name": "stderr",
     "output_type": "stream",
     "text": [
      "100%|██████████| 2/2 [06:03<00:00, 181.97s/it]\n"
     ]
    },
    {
     "data": {
      "text/html": [
       "<div>\n",
       "<style scoped>\n",
       "    .dataframe tbody tr th:only-of-type {\n",
       "        vertical-align: middle;\n",
       "    }\n",
       "\n",
       "    .dataframe tbody tr th {\n",
       "        vertical-align: top;\n",
       "    }\n",
       "\n",
       "    .dataframe thead th {\n",
       "        text-align: right;\n",
       "    }\n",
       "</style>\n",
       "<table border=\"1\" class=\"dataframe\">\n",
       "  <thead>\n",
       "    <tr style=\"text-align: right;\">\n",
       "      <th></th>\n",
       "      <th>chrom</th>\n",
       "      <th>pv</th>\n",
       "      <th>variant</th>\n",
       "    </tr>\n",
       "  </thead>\n",
       "  <tbody>\n",
       "    <tr>\n",
       "      <th>0</th>\n",
       "      <td>22</td>\n",
       "      <td>0.000009</td>\n",
       "      <td>22_18909505_T_C</td>\n",
       "    </tr>\n",
       "    <tr>\n",
       "      <th>1</th>\n",
       "      <td>22</td>\n",
       "      <td>0.771356</td>\n",
       "      <td>22_18915282_C_T</td>\n",
       "    </tr>\n",
       "  </tbody>\n",
       "</table>\n",
       "</div>"
      ],
      "text/plain": [
       "  chrom        pv          variant\n",
       "0    22  0.000009  22_18909505_T_C\n",
       "1    22  0.771356  22_18915282_C_T"
      ]
     },
     "execution_count": 100,
     "metadata": {},
     "output_type": "execute_result"
    }
   ],
   "source": [
    "pvals3 = run_interaction(y=y, W=W, E=C1.values[:,0:10], E1=C1.values[:,0:10], E2=C1.values[:,0:10], G=GG, hK=hK_expanded)[0]\n",
    "pv3 = pd.DataFrame({\"chrom\":G_expanded.chrom.values,\n",
    "       \"pv\":pvals3,\n",
    "       \"variant\":G_expanded.snp.values})\n",
    "pv3.head()"
   ]
  },
  {
   "cell_type": "code",
   "execution_count": 88,
   "id": "76de1548",
   "metadata": {},
   "outputs": [],
   "source": [
    "### ENSG00000099974_DDTL"
   ]
  },
  {
   "cell_type": "code",
   "execution_count": 89,
   "id": "d28718f6",
   "metadata": {},
   "outputs": [
    {
     "name": "stderr",
     "output_type": "stream",
     "text": [
      "100%|██████████| 3/3 [17:06<00:00, 342.27s/it]\n"
     ]
    },
    {
     "data": {
      "text/html": [
       "<div>\n",
       "<style scoped>\n",
       "    .dataframe tbody tr th:only-of-type {\n",
       "        vertical-align: middle;\n",
       "    }\n",
       "\n",
       "    .dataframe tbody tr th {\n",
       "        vertical-align: top;\n",
       "    }\n",
       "\n",
       "    .dataframe thead th {\n",
       "        text-align: right;\n",
       "    }\n",
       "</style>\n",
       "<table border=\"1\" class=\"dataframe\">\n",
       "  <thead>\n",
       "    <tr style=\"text-align: right;\">\n",
       "      <th></th>\n",
       "      <th>chrom</th>\n",
       "      <th>pv</th>\n",
       "      <th>variant</th>\n",
       "    </tr>\n",
       "  </thead>\n",
       "  <tbody>\n",
       "    <tr>\n",
       "      <th>0</th>\n",
       "      <td>22</td>\n",
       "      <td>0.496111</td>\n",
       "      <td>22_24302194_G_A</td>\n",
       "    </tr>\n",
       "    <tr>\n",
       "      <th>1</th>\n",
       "      <td>22</td>\n",
       "      <td>0.113183</td>\n",
       "      <td>22_24323878_G_A</td>\n",
       "    </tr>\n",
       "    <tr>\n",
       "      <th>2</th>\n",
       "      <td>22</td>\n",
       "      <td>0.770560</td>\n",
       "      <td>22_24333977_G_C</td>\n",
       "    </tr>\n",
       "  </tbody>\n",
       "</table>\n",
       "</div>"
      ],
      "text/plain": [
       "  chrom        pv          variant\n",
       "0    22  0.496111  22_24302194_G_A\n",
       "1    22  0.113183  22_24323878_G_A\n",
       "2    22  0.770560  22_24333977_G_C"
      ]
     },
     "execution_count": 89,
     "metadata": {},
     "output_type": "execute_result"
    }
   ],
   "source": [
    "pvals1 = run_interaction(y=y, W=W, E=C1_gauss.values[:,0:10], E1=C1_gauss.values[:,0:10], E2=C1.values[:,0:20], G=GG, hK=hK_expanded)[0]\n",
    "pv1 = pd.DataFrame({\"chrom\":G_expanded.chrom.values,\n",
    "       \"pv\":pvals1,\n",
    "       \"variant\":G_expanded.snp.values})\n",
    "pv1.head()"
   ]
  },
  {
   "cell_type": "code",
   "execution_count": 90,
   "id": "c513e9b4",
   "metadata": {},
   "outputs": [
    {
     "name": "stderr",
     "output_type": "stream",
     "text": [
      "100%|██████████| 3/3 [16:23<00:00, 327.80s/it]\n"
     ]
    },
    {
     "data": {
      "text/html": [
       "<div>\n",
       "<style scoped>\n",
       "    .dataframe tbody tr th:only-of-type {\n",
       "        vertical-align: middle;\n",
       "    }\n",
       "\n",
       "    .dataframe tbody tr th {\n",
       "        vertical-align: top;\n",
       "    }\n",
       "\n",
       "    .dataframe thead th {\n",
       "        text-align: right;\n",
       "    }\n",
       "</style>\n",
       "<table border=\"1\" class=\"dataframe\">\n",
       "  <thead>\n",
       "    <tr style=\"text-align: right;\">\n",
       "      <th></th>\n",
       "      <th>chrom</th>\n",
       "      <th>pv</th>\n",
       "      <th>variant</th>\n",
       "    </tr>\n",
       "  </thead>\n",
       "  <tbody>\n",
       "    <tr>\n",
       "      <th>0</th>\n",
       "      <td>22</td>\n",
       "      <td>0.208862</td>\n",
       "      <td>22_24302194_G_A</td>\n",
       "    </tr>\n",
       "    <tr>\n",
       "      <th>1</th>\n",
       "      <td>22</td>\n",
       "      <td>0.656033</td>\n",
       "      <td>22_24323878_G_A</td>\n",
       "    </tr>\n",
       "    <tr>\n",
       "      <th>2</th>\n",
       "      <td>22</td>\n",
       "      <td>0.353284</td>\n",
       "      <td>22_24333977_G_C</td>\n",
       "    </tr>\n",
       "  </tbody>\n",
       "</table>\n",
       "</div>"
      ],
      "text/plain": [
       "  chrom        pv          variant\n",
       "0    22  0.208862  22_24302194_G_A\n",
       "1    22  0.656033  22_24323878_G_A\n",
       "2    22  0.353284  22_24333977_G_C"
      ]
     },
     "execution_count": 90,
     "metadata": {},
     "output_type": "execute_result"
    }
   ],
   "source": [
    "pvals2 = run_interaction(y=y, W=W, E=C2_gauss.values[:,0:10], E1=C2_gauss.values[:,0:10], E2=C2.values[:,0:20], G=GG, hK=hK_expanded)[0]\n",
    "pv2 = pd.DataFrame({\"chrom\":G_expanded.chrom.values,\n",
    "       \"pv\":pvals2,\n",
    "       \"variant\":G_expanded.snp.values})\n",
    "pv2.head()"
   ]
  },
  {
   "cell_type": "code",
   "execution_count": 91,
   "id": "0f9f25e5",
   "metadata": {},
   "outputs": [
    {
     "name": "stderr",
     "output_type": "stream",
     "text": [
      "100%|██████████| 3/3 [09:02<00:00, 180.98s/it]\n"
     ]
    },
    {
     "data": {
      "text/html": [
       "<div>\n",
       "<style scoped>\n",
       "    .dataframe tbody tr th:only-of-type {\n",
       "        vertical-align: middle;\n",
       "    }\n",
       "\n",
       "    .dataframe tbody tr th {\n",
       "        vertical-align: top;\n",
       "    }\n",
       "\n",
       "    .dataframe thead th {\n",
       "        text-align: right;\n",
       "    }\n",
       "</style>\n",
       "<table border=\"1\" class=\"dataframe\">\n",
       "  <thead>\n",
       "    <tr style=\"text-align: right;\">\n",
       "      <th></th>\n",
       "      <th>chrom</th>\n",
       "      <th>pv</th>\n",
       "      <th>variant</th>\n",
       "    </tr>\n",
       "  </thead>\n",
       "  <tbody>\n",
       "    <tr>\n",
       "      <th>0</th>\n",
       "      <td>22</td>\n",
       "      <td>0.073163</td>\n",
       "      <td>22_24302194_G_A</td>\n",
       "    </tr>\n",
       "    <tr>\n",
       "      <th>1</th>\n",
       "      <td>22</td>\n",
       "      <td>0.522266</td>\n",
       "      <td>22_24323878_G_A</td>\n",
       "    </tr>\n",
       "    <tr>\n",
       "      <th>2</th>\n",
       "      <td>22</td>\n",
       "      <td>0.157959</td>\n",
       "      <td>22_24333977_G_C</td>\n",
       "    </tr>\n",
       "  </tbody>\n",
       "</table>\n",
       "</div>"
      ],
      "text/plain": [
       "  chrom        pv          variant\n",
       "0    22  0.073163  22_24302194_G_A\n",
       "1    22  0.522266  22_24323878_G_A\n",
       "2    22  0.157959  22_24333977_G_C"
      ]
     },
     "execution_count": 91,
     "metadata": {},
     "output_type": "execute_result"
    }
   ],
   "source": [
    "pvals3 = run_interaction(y=y, W=W, E=C1.values[:,0:10], E1=C1.values[:,0:10], E2=C1.values[:,0:10], G=GG, hK=hK_expanded)[0]\n",
    "pv3 = pd.DataFrame({\"chrom\":G_expanded.chrom.values,\n",
    "       \"pv\":pvals3,\n",
    "       \"variant\":G_expanded.snp.values})\n",
    "pv3.head()"
   ]
  },
  {
   "cell_type": "code",
   "execution_count": null,
   "id": "3c09942e",
   "metadata": {},
   "outputs": [],
   "source": [
    "### ENSG00000093072_CECR1"
   ]
  },
  {
   "cell_type": "code",
   "execution_count": 81,
   "id": "77f6ea52",
   "metadata": {},
   "outputs": [
    {
     "name": "stderr",
     "output_type": "stream",
     "text": [
      "100%|██████████| 2/2 [11:15<00:00, 337.85s/it]\n"
     ]
    },
    {
     "data": {
      "text/html": [
       "<div>\n",
       "<style scoped>\n",
       "    .dataframe tbody tr th:only-of-type {\n",
       "        vertical-align: middle;\n",
       "    }\n",
       "\n",
       "    .dataframe tbody tr th {\n",
       "        vertical-align: top;\n",
       "    }\n",
       "\n",
       "    .dataframe thead th {\n",
       "        text-align: right;\n",
       "    }\n",
       "</style>\n",
       "<table border=\"1\" class=\"dataframe\">\n",
       "  <thead>\n",
       "    <tr style=\"text-align: right;\">\n",
       "      <th></th>\n",
       "      <th>chrom</th>\n",
       "      <th>pv</th>\n",
       "      <th>variant</th>\n",
       "    </tr>\n",
       "  </thead>\n",
       "  <tbody>\n",
       "    <tr>\n",
       "      <th>0</th>\n",
       "      <td>22</td>\n",
       "      <td>4.305688e-08</td>\n",
       "      <td>22_17680519_A_C</td>\n",
       "    </tr>\n",
       "    <tr>\n",
       "      <th>1</th>\n",
       "      <td>22</td>\n",
       "      <td>4.265852e-08</td>\n",
       "      <td>22_17685194_T_A</td>\n",
       "    </tr>\n",
       "  </tbody>\n",
       "</table>\n",
       "</div>"
      ],
      "text/plain": [
       "  chrom            pv          variant\n",
       "0    22  4.305688e-08  22_17680519_A_C\n",
       "1    22  4.265852e-08  22_17685194_T_A"
      ]
     },
     "execution_count": 81,
     "metadata": {},
     "output_type": "execute_result"
    }
   ],
   "source": [
    "pvals1 = run_interaction(y=y, W=W, E=C1_gauss.values[:,0:10], E1=C1_gauss.values[:,0:10], E2=C1.values[:,0:20], G=GG, hK=hK_expanded)[0]\n",
    "pv1 = pd.DataFrame({\"chrom\":G_expanded.chrom.values,\n",
    "       \"pv\":pvals1,\n",
    "       \"variant\":G_expanded.snp.values})\n",
    "pv1.head()"
   ]
  },
  {
   "cell_type": "code",
   "execution_count": 82,
   "id": "cd0eb9a1",
   "metadata": {},
   "outputs": [
    {
     "name": "stderr",
     "output_type": "stream",
     "text": [
      "100%|██████████| 2/2 [10:56<00:00, 328.27s/it]\n"
     ]
    },
    {
     "data": {
      "text/html": [
       "<div>\n",
       "<style scoped>\n",
       "    .dataframe tbody tr th:only-of-type {\n",
       "        vertical-align: middle;\n",
       "    }\n",
       "\n",
       "    .dataframe tbody tr th {\n",
       "        vertical-align: top;\n",
       "    }\n",
       "\n",
       "    .dataframe thead th {\n",
       "        text-align: right;\n",
       "    }\n",
       "</style>\n",
       "<table border=\"1\" class=\"dataframe\">\n",
       "  <thead>\n",
       "    <tr style=\"text-align: right;\">\n",
       "      <th></th>\n",
       "      <th>chrom</th>\n",
       "      <th>pv</th>\n",
       "      <th>variant</th>\n",
       "    </tr>\n",
       "  </thead>\n",
       "  <tbody>\n",
       "    <tr>\n",
       "      <th>0</th>\n",
       "      <td>22</td>\n",
       "      <td>3.969373e-13</td>\n",
       "      <td>22_17680519_A_C</td>\n",
       "    </tr>\n",
       "    <tr>\n",
       "      <th>1</th>\n",
       "      <td>22</td>\n",
       "      <td>5.576247e-13</td>\n",
       "      <td>22_17685194_T_A</td>\n",
       "    </tr>\n",
       "  </tbody>\n",
       "</table>\n",
       "</div>"
      ],
      "text/plain": [
       "  chrom            pv          variant\n",
       "0    22  3.969373e-13  22_17680519_A_C\n",
       "1    22  5.576247e-13  22_17685194_T_A"
      ]
     },
     "execution_count": 82,
     "metadata": {},
     "output_type": "execute_result"
    }
   ],
   "source": [
    "pvals2 = run_interaction(y=y, W=W, E=C2_gauss.values[:,0:10], E1=C2_gauss.values[:,0:10], E2=C2.values[:,0:20], G=GG, hK=hK_expanded)[0]\n",
    "pv2 = pd.DataFrame({\"chrom\":G_expanded.chrom.values,\n",
    "       \"pv\":pvals2,\n",
    "       \"variant\":G_expanded.snp.values})\n",
    "pv2.head()"
   ]
  },
  {
   "cell_type": "code",
   "execution_count": 83,
   "id": "727bd2f0",
   "metadata": {},
   "outputs": [
    {
     "name": "stderr",
     "output_type": "stream",
     "text": [
      "100%|██████████| 2/2 [05:42<00:00, 171.04s/it]\n"
     ]
    },
    {
     "data": {
      "text/html": [
       "<div>\n",
       "<style scoped>\n",
       "    .dataframe tbody tr th:only-of-type {\n",
       "        vertical-align: middle;\n",
       "    }\n",
       "\n",
       "    .dataframe tbody tr th {\n",
       "        vertical-align: top;\n",
       "    }\n",
       "\n",
       "    .dataframe thead th {\n",
       "        text-align: right;\n",
       "    }\n",
       "</style>\n",
       "<table border=\"1\" class=\"dataframe\">\n",
       "  <thead>\n",
       "    <tr style=\"text-align: right;\">\n",
       "      <th></th>\n",
       "      <th>chrom</th>\n",
       "      <th>pv</th>\n",
       "      <th>variant</th>\n",
       "    </tr>\n",
       "  </thead>\n",
       "  <tbody>\n",
       "    <tr>\n",
       "      <th>0</th>\n",
       "      <td>22</td>\n",
       "      <td>5.975197e-11</td>\n",
       "      <td>22_17680519_A_C</td>\n",
       "    </tr>\n",
       "    <tr>\n",
       "      <th>1</th>\n",
       "      <td>22</td>\n",
       "      <td>6.204527e-11</td>\n",
       "      <td>22_17685194_T_A</td>\n",
       "    </tr>\n",
       "  </tbody>\n",
       "</table>\n",
       "</div>"
      ],
      "text/plain": [
       "  chrom            pv          variant\n",
       "0    22  5.975197e-11  22_17680519_A_C\n",
       "1    22  6.204527e-11  22_17685194_T_A"
      ]
     },
     "execution_count": 83,
     "metadata": {},
     "output_type": "execute_result"
    }
   ],
   "source": [
    "pvals3 = run_interaction(y=y, W=W, E=C1.values[:,0:10], E1=C1.values[:,0:10], E2=C1.values[:,0:10], G=GG, hK=hK_expanded)[0]\n",
    "pv3 = pd.DataFrame({\"chrom\":G_expanded.chrom.values,\n",
    "       \"pv\":pvals3,\n",
    "       \"variant\":G_expanded.snp.values})\n",
    "pv3.head()"
   ]
  },
  {
   "cell_type": "code",
   "execution_count": null,
   "id": "66abc22e",
   "metadata": {},
   "outputs": [],
   "source": [
    "### ENSG00000100410_PHF5A"
   ]
  },
  {
   "cell_type": "code",
   "execution_count": 73,
   "id": "8aad80b1",
   "metadata": {},
   "outputs": [
    {
     "name": "stderr",
     "output_type": "stream",
     "text": [
      "100%|██████████| 3/3 [15:12<00:00, 304.17s/it]\n"
     ]
    },
    {
     "data": {
      "text/html": [
       "<div>\n",
       "<style scoped>\n",
       "    .dataframe tbody tr th:only-of-type {\n",
       "        vertical-align: middle;\n",
       "    }\n",
       "\n",
       "    .dataframe tbody tr th {\n",
       "        vertical-align: top;\n",
       "    }\n",
       "\n",
       "    .dataframe thead th {\n",
       "        text-align: right;\n",
       "    }\n",
       "</style>\n",
       "<table border=\"1\" class=\"dataframe\">\n",
       "  <thead>\n",
       "    <tr style=\"text-align: right;\">\n",
       "      <th></th>\n",
       "      <th>chrom</th>\n",
       "      <th>pv</th>\n",
       "      <th>variant</th>\n",
       "    </tr>\n",
       "  </thead>\n",
       "  <tbody>\n",
       "    <tr>\n",
       "      <th>0</th>\n",
       "      <td>22</td>\n",
       "      <td>0.010549</td>\n",
       "      <td>22_41806768_C_G</td>\n",
       "    </tr>\n",
       "    <tr>\n",
       "      <th>1</th>\n",
       "      <td>22</td>\n",
       "      <td>0.063797</td>\n",
       "      <td>22_41854446_C_T</td>\n",
       "    </tr>\n",
       "    <tr>\n",
       "      <th>2</th>\n",
       "      <td>22</td>\n",
       "      <td>0.737298</td>\n",
       "      <td>22_41925535_T_C</td>\n",
       "    </tr>\n",
       "  </tbody>\n",
       "</table>\n",
       "</div>"
      ],
      "text/plain": [
       "  chrom        pv          variant\n",
       "0    22  0.010549  22_41806768_C_G\n",
       "1    22  0.063797  22_41854446_C_T\n",
       "2    22  0.737298  22_41925535_T_C"
      ]
     },
     "execution_count": 73,
     "metadata": {},
     "output_type": "execute_result"
    }
   ],
   "source": [
    "pvals1 = run_interaction(y=y, W=W, E=C1_gauss.values[:,0:10], E1=C1_gauss.values[:,0:10], E2=C1.values[:,0:20], G=GG, hK=hK_expanded)[0]\n",
    "pv1 = pd.DataFrame({\"chrom\":G_expanded.chrom.values,\n",
    "       \"pv\":pvals1,\n",
    "       \"variant\":G_expanded.snp.values})\n",
    "pv1.head()"
   ]
  },
  {
   "cell_type": "code",
   "execution_count": 74,
   "id": "abd6aeb5",
   "metadata": {},
   "outputs": [
    {
     "name": "stderr",
     "output_type": "stream",
     "text": [
      "100%|██████████| 3/3 [16:23<00:00, 327.85s/it]\n"
     ]
    },
    {
     "data": {
      "text/html": [
       "<div>\n",
       "<style scoped>\n",
       "    .dataframe tbody tr th:only-of-type {\n",
       "        vertical-align: middle;\n",
       "    }\n",
       "\n",
       "    .dataframe tbody tr th {\n",
       "        vertical-align: top;\n",
       "    }\n",
       "\n",
       "    .dataframe thead th {\n",
       "        text-align: right;\n",
       "    }\n",
       "</style>\n",
       "<table border=\"1\" class=\"dataframe\">\n",
       "  <thead>\n",
       "    <tr style=\"text-align: right;\">\n",
       "      <th></th>\n",
       "      <th>chrom</th>\n",
       "      <th>pv</th>\n",
       "      <th>variant</th>\n",
       "    </tr>\n",
       "  </thead>\n",
       "  <tbody>\n",
       "    <tr>\n",
       "      <th>0</th>\n",
       "      <td>22</td>\n",
       "      <td>0.375638</td>\n",
       "      <td>22_41806768_C_G</td>\n",
       "    </tr>\n",
       "    <tr>\n",
       "      <th>1</th>\n",
       "      <td>22</td>\n",
       "      <td>0.720105</td>\n",
       "      <td>22_41854446_C_T</td>\n",
       "    </tr>\n",
       "    <tr>\n",
       "      <th>2</th>\n",
       "      <td>22</td>\n",
       "      <td>0.471773</td>\n",
       "      <td>22_41925535_T_C</td>\n",
       "    </tr>\n",
       "  </tbody>\n",
       "</table>\n",
       "</div>"
      ],
      "text/plain": [
       "  chrom        pv          variant\n",
       "0    22  0.375638  22_41806768_C_G\n",
       "1    22  0.720105  22_41854446_C_T\n",
       "2    22  0.471773  22_41925535_T_C"
      ]
     },
     "execution_count": 74,
     "metadata": {},
     "output_type": "execute_result"
    }
   ],
   "source": [
    "pvals2 = run_interaction(y=y, W=W, E=C2_gauss.values[:,0:10], E1=C2_gauss.values[:,0:10], E2=C2.values[:,0:20], G=GG, hK=hK_expanded)[0]\n",
    "pv2 = pd.DataFrame({\"chrom\":G_expanded.chrom.values,\n",
    "       \"pv\":pvals2,\n",
    "       \"variant\":G_expanded.snp.values})\n",
    "pv2.head()"
   ]
  },
  {
   "cell_type": "code",
   "execution_count": 76,
   "id": "06cd7c62",
   "metadata": {},
   "outputs": [
    {
     "name": "stderr",
     "output_type": "stream",
     "text": [
      "100%|██████████| 3/3 [09:05<00:00, 181.95s/it]\n"
     ]
    },
    {
     "data": {
      "text/html": [
       "<div>\n",
       "<style scoped>\n",
       "    .dataframe tbody tr th:only-of-type {\n",
       "        vertical-align: middle;\n",
       "    }\n",
       "\n",
       "    .dataframe tbody tr th {\n",
       "        vertical-align: top;\n",
       "    }\n",
       "\n",
       "    .dataframe thead th {\n",
       "        text-align: right;\n",
       "    }\n",
       "</style>\n",
       "<table border=\"1\" class=\"dataframe\">\n",
       "  <thead>\n",
       "    <tr style=\"text-align: right;\">\n",
       "      <th></th>\n",
       "      <th>chrom</th>\n",
       "      <th>pv</th>\n",
       "      <th>variant</th>\n",
       "    </tr>\n",
       "  </thead>\n",
       "  <tbody>\n",
       "    <tr>\n",
       "      <th>0</th>\n",
       "      <td>22</td>\n",
       "      <td>0.594653</td>\n",
       "      <td>22_41806768_C_G</td>\n",
       "    </tr>\n",
       "    <tr>\n",
       "      <th>1</th>\n",
       "      <td>22</td>\n",
       "      <td>0.873261</td>\n",
       "      <td>22_41854446_C_T</td>\n",
       "    </tr>\n",
       "    <tr>\n",
       "      <th>2</th>\n",
       "      <td>22</td>\n",
       "      <td>0.880462</td>\n",
       "      <td>22_41925535_T_C</td>\n",
       "    </tr>\n",
       "  </tbody>\n",
       "</table>\n",
       "</div>"
      ],
      "text/plain": [
       "  chrom        pv          variant\n",
       "0    22  0.594653  22_41806768_C_G\n",
       "1    22  0.873261  22_41854446_C_T\n",
       "2    22  0.880462  22_41925535_T_C"
      ]
     },
     "execution_count": 76,
     "metadata": {},
     "output_type": "execute_result"
    }
   ],
   "source": [
    "pvals3 = run_interaction(y=y, W=W, E=C1.values[:,0:10], E1=C1.values[:,0:10], E2=C1.values[:,0:10], G=GG, hK=hK_expanded)[0]\n",
    "pv3 = pd.DataFrame({\"chrom\":G_expanded.chrom.values,\n",
    "       \"pv\":pvals3,\n",
    "       \"variant\":G_expanded.snp.values})\n",
    "pv3.head()"
   ]
  },
  {
   "cell_type": "code",
   "execution_count": null,
   "id": "14fd16b2",
   "metadata": {},
   "outputs": [],
   "source": [
    "### ENSG00000189306_RRP7A"
   ]
  },
  {
   "cell_type": "code",
   "execution_count": 65,
   "id": "73930b7d",
   "metadata": {},
   "outputs": [
    {
     "name": "stderr",
     "output_type": "stream",
     "text": [
      "100%|██████████| 3/3 [15:50<00:00, 316.84s/it]\n"
     ]
    },
    {
     "data": {
      "text/html": [
       "<div>\n",
       "<style scoped>\n",
       "    .dataframe tbody tr th:only-of-type {\n",
       "        vertical-align: middle;\n",
       "    }\n",
       "\n",
       "    .dataframe tbody tr th {\n",
       "        vertical-align: top;\n",
       "    }\n",
       "\n",
       "    .dataframe thead th {\n",
       "        text-align: right;\n",
       "    }\n",
       "</style>\n",
       "<table border=\"1\" class=\"dataframe\">\n",
       "  <thead>\n",
       "    <tr style=\"text-align: right;\">\n",
       "      <th></th>\n",
       "      <th>chrom</th>\n",
       "      <th>pv</th>\n",
       "      <th>variant</th>\n",
       "    </tr>\n",
       "  </thead>\n",
       "  <tbody>\n",
       "    <tr>\n",
       "      <th>0</th>\n",
       "      <td>22</td>\n",
       "      <td>0.623026</td>\n",
       "      <td>22_42896474_T_C</td>\n",
       "    </tr>\n",
       "    <tr>\n",
       "      <th>1</th>\n",
       "      <td>22</td>\n",
       "      <td>0.573080</td>\n",
       "      <td>22_42897414_A_C</td>\n",
       "    </tr>\n",
       "    <tr>\n",
       "      <th>2</th>\n",
       "      <td>22</td>\n",
       "      <td>0.617558</td>\n",
       "      <td>22_42903671_T_G</td>\n",
       "    </tr>\n",
       "  </tbody>\n",
       "</table>\n",
       "</div>"
      ],
      "text/plain": [
       "  chrom        pv          variant\n",
       "0    22  0.623026  22_42896474_T_C\n",
       "1    22  0.573080  22_42897414_A_C\n",
       "2    22  0.617558  22_42903671_T_G"
      ]
     },
     "execution_count": 65,
     "metadata": {},
     "output_type": "execute_result"
    }
   ],
   "source": [
    "pvals1 = run_interaction(y=y, W=W, E=C1_gauss.values[:,0:10], E1=C1_gauss.values[:,0:10], E2=C1.values[:,0:20], G=GG, hK=hK_expanded)[0]\n",
    "pv1 = pd.DataFrame({\"chrom\":G_expanded.chrom.values,\n",
    "       \"pv\":pvals1,\n",
    "       \"variant\":G_expanded.snp.values})\n",
    "pv1.head()"
   ]
  },
  {
   "cell_type": "code",
   "execution_count": 66,
   "id": "d32ad26a",
   "metadata": {},
   "outputs": [
    {
     "name": "stderr",
     "output_type": "stream",
     "text": [
      "100%|██████████| 3/3 [15:06<00:00, 302.25s/it]\n"
     ]
    },
    {
     "data": {
      "text/html": [
       "<div>\n",
       "<style scoped>\n",
       "    .dataframe tbody tr th:only-of-type {\n",
       "        vertical-align: middle;\n",
       "    }\n",
       "\n",
       "    .dataframe tbody tr th {\n",
       "        vertical-align: top;\n",
       "    }\n",
       "\n",
       "    .dataframe thead th {\n",
       "        text-align: right;\n",
       "    }\n",
       "</style>\n",
       "<table border=\"1\" class=\"dataframe\">\n",
       "  <thead>\n",
       "    <tr style=\"text-align: right;\">\n",
       "      <th></th>\n",
       "      <th>chrom</th>\n",
       "      <th>pv</th>\n",
       "      <th>variant</th>\n",
       "    </tr>\n",
       "  </thead>\n",
       "  <tbody>\n",
       "    <tr>\n",
       "      <th>0</th>\n",
       "      <td>22</td>\n",
       "      <td>0.092094</td>\n",
       "      <td>22_42896474_T_C</td>\n",
       "    </tr>\n",
       "    <tr>\n",
       "      <th>1</th>\n",
       "      <td>22</td>\n",
       "      <td>0.018068</td>\n",
       "      <td>22_42897414_A_C</td>\n",
       "    </tr>\n",
       "    <tr>\n",
       "      <th>2</th>\n",
       "      <td>22</td>\n",
       "      <td>0.202231</td>\n",
       "      <td>22_42903671_T_G</td>\n",
       "    </tr>\n",
       "  </tbody>\n",
       "</table>\n",
       "</div>"
      ],
      "text/plain": [
       "  chrom        pv          variant\n",
       "0    22  0.092094  22_42896474_T_C\n",
       "1    22  0.018068  22_42897414_A_C\n",
       "2    22  0.202231  22_42903671_T_G"
      ]
     },
     "execution_count": 66,
     "metadata": {},
     "output_type": "execute_result"
    }
   ],
   "source": [
    "pvals2 = run_interaction(y=y, W=W, E=C2_gauss.values[:,0:10], E1=C2_gauss.values[:,0:10], E2=C2.values[:,0:20], G=GG, hK=hK_expanded)[0]\n",
    "pv2 = pd.DataFrame({\"chrom\":G_expanded.chrom.values,\n",
    "       \"pv\":pvals2,\n",
    "       \"variant\":G_expanded.snp.values})\n",
    "pv2.head()"
   ]
  },
  {
   "cell_type": "code",
   "execution_count": 68,
   "id": "866ec6d3",
   "metadata": {},
   "outputs": [
    {
     "name": "stderr",
     "output_type": "stream",
     "text": [
      "100%|██████████| 3/3 [08:36<00:00, 172.29s/it]\n"
     ]
    },
    {
     "data": {
      "text/html": [
       "<div>\n",
       "<style scoped>\n",
       "    .dataframe tbody tr th:only-of-type {\n",
       "        vertical-align: middle;\n",
       "    }\n",
       "\n",
       "    .dataframe tbody tr th {\n",
       "        vertical-align: top;\n",
       "    }\n",
       "\n",
       "    .dataframe thead th {\n",
       "        text-align: right;\n",
       "    }\n",
       "</style>\n",
       "<table border=\"1\" class=\"dataframe\">\n",
       "  <thead>\n",
       "    <tr style=\"text-align: right;\">\n",
       "      <th></th>\n",
       "      <th>chrom</th>\n",
       "      <th>pv</th>\n",
       "      <th>variant</th>\n",
       "    </tr>\n",
       "  </thead>\n",
       "  <tbody>\n",
       "    <tr>\n",
       "      <th>0</th>\n",
       "      <td>22</td>\n",
       "      <td>0.208150</td>\n",
       "      <td>22_42896474_T_C</td>\n",
       "    </tr>\n",
       "    <tr>\n",
       "      <th>1</th>\n",
       "      <td>22</td>\n",
       "      <td>0.071290</td>\n",
       "      <td>22_42897414_A_C</td>\n",
       "    </tr>\n",
       "    <tr>\n",
       "      <th>2</th>\n",
       "      <td>22</td>\n",
       "      <td>0.103972</td>\n",
       "      <td>22_42903671_T_G</td>\n",
       "    </tr>\n",
       "  </tbody>\n",
       "</table>\n",
       "</div>"
      ],
      "text/plain": [
       "  chrom        pv          variant\n",
       "0    22  0.208150  22_42896474_T_C\n",
       "1    22  0.071290  22_42897414_A_C\n",
       "2    22  0.103972  22_42903671_T_G"
      ]
     },
     "execution_count": 68,
     "metadata": {},
     "output_type": "execute_result"
    }
   ],
   "source": [
    "pvals3 = run_interaction(y=y, W=W, E=C1.values[:,0:10], E1=C1.values[:,0:10], E2=C1.values[:,0:10], G=GG, hK=hK_expanded)[0]\n",
    "pv3 = pd.DataFrame({\"chrom\":G_expanded.chrom.values,\n",
    "       \"pv\":pvals3,\n",
    "       \"variant\":G_expanded.snp.values})\n",
    "pv3.head()"
   ]
  },
  {
   "cell_type": "code",
   "execution_count": 52,
   "id": "c9c2c034",
   "metadata": {},
   "outputs": [],
   "source": [
    "### ENSG00000196236_XPNPEP3"
   ]
  },
  {
   "cell_type": "code",
   "execution_count": 55,
   "id": "fb1882c3",
   "metadata": {},
   "outputs": [
    {
     "name": "stderr",
     "output_type": "stream",
     "text": [
      "100%|██████████| 2/2 [11:27<00:00, 343.52s/it]\n"
     ]
    },
    {
     "data": {
      "text/html": [
       "<div>\n",
       "<style scoped>\n",
       "    .dataframe tbody tr th:only-of-type {\n",
       "        vertical-align: middle;\n",
       "    }\n",
       "\n",
       "    .dataframe tbody tr th {\n",
       "        vertical-align: top;\n",
       "    }\n",
       "\n",
       "    .dataframe thead th {\n",
       "        text-align: right;\n",
       "    }\n",
       "</style>\n",
       "<table border=\"1\" class=\"dataframe\">\n",
       "  <thead>\n",
       "    <tr style=\"text-align: right;\">\n",
       "      <th></th>\n",
       "      <th>chrom</th>\n",
       "      <th>pv</th>\n",
       "      <th>variant</th>\n",
       "    </tr>\n",
       "  </thead>\n",
       "  <tbody>\n",
       "    <tr>\n",
       "      <th>0</th>\n",
       "      <td>22</td>\n",
       "      <td>0.000013</td>\n",
       "      <td>22_41256802_A_G</td>\n",
       "    </tr>\n",
       "    <tr>\n",
       "      <th>1</th>\n",
       "      <td>22</td>\n",
       "      <td>0.506967</td>\n",
       "      <td>22_41394128_C_T</td>\n",
       "    </tr>\n",
       "  </tbody>\n",
       "</table>\n",
       "</div>"
      ],
      "text/plain": [
       "  chrom        pv          variant\n",
       "0    22  0.000013  22_41256802_A_G\n",
       "1    22  0.506967  22_41394128_C_T"
      ]
     },
     "execution_count": 55,
     "metadata": {},
     "output_type": "execute_result"
    }
   ],
   "source": [
    "pvals1 = run_interaction(y=y, W=W, E=C1_gauss.values[:,0:10], E1=C1_gauss.values[:,0:10], E2=C1.values[:,0:20], G=GG, hK=hK_expanded)[0]\n",
    "pv1 = pd.DataFrame({\"chrom\":G_expanded.chrom.values,\n",
    "       \"pv\":pvals1,\n",
    "       \"variant\":G_expanded.snp.values})\n",
    "pv1.head()"
   ]
  },
  {
   "cell_type": "code",
   "execution_count": 53,
   "id": "eb7613bc",
   "metadata": {},
   "outputs": [
    {
     "name": "stderr",
     "output_type": "stream",
     "text": [
      "100%|██████████| 2/2 [11:39<00:00, 349.94s/it]\n"
     ]
    },
    {
     "data": {
      "text/html": [
       "<div>\n",
       "<style scoped>\n",
       "    .dataframe tbody tr th:only-of-type {\n",
       "        vertical-align: middle;\n",
       "    }\n",
       "\n",
       "    .dataframe tbody tr th {\n",
       "        vertical-align: top;\n",
       "    }\n",
       "\n",
       "    .dataframe thead th {\n",
       "        text-align: right;\n",
       "    }\n",
       "</style>\n",
       "<table border=\"1\" class=\"dataframe\">\n",
       "  <thead>\n",
       "    <tr style=\"text-align: right;\">\n",
       "      <th></th>\n",
       "      <th>chrom</th>\n",
       "      <th>pv</th>\n",
       "      <th>variant</th>\n",
       "    </tr>\n",
       "  </thead>\n",
       "  <tbody>\n",
       "    <tr>\n",
       "      <th>0</th>\n",
       "      <td>22</td>\n",
       "      <td>0.005462</td>\n",
       "      <td>22_41256802_A_G</td>\n",
       "    </tr>\n",
       "    <tr>\n",
       "      <th>1</th>\n",
       "      <td>22</td>\n",
       "      <td>0.348159</td>\n",
       "      <td>22_41394128_C_T</td>\n",
       "    </tr>\n",
       "  </tbody>\n",
       "</table>\n",
       "</div>"
      ],
      "text/plain": [
       "  chrom        pv          variant\n",
       "0    22  0.005462  22_41256802_A_G\n",
       "1    22  0.348159  22_41394128_C_T"
      ]
     },
     "execution_count": 53,
     "metadata": {},
     "output_type": "execute_result"
    }
   ],
   "source": [
    "pvals2 = run_interaction(y=y, W=W, E=C2_gauss.values[:,0:10], E1=C2_gauss.values[:,0:10], E2=C2.values[:,0:20], G=GG, hK=hK_expanded)[0]\n",
    "pv2 = pd.DataFrame({\"chrom\":G_expanded.chrom.values,\n",
    "       \"pv\":pvals2,\n",
    "       \"variant\":G_expanded.snp.values})\n",
    "pv2.head()"
   ]
  },
  {
   "cell_type": "code",
   "execution_count": 54,
   "id": "780c0c4b",
   "metadata": {},
   "outputs": [
    {
     "name": "stderr",
     "output_type": "stream",
     "text": [
      "100%|██████████| 2/2 [05:50<00:00, 175.35s/it]\n"
     ]
    },
    {
     "data": {
      "text/html": [
       "<div>\n",
       "<style scoped>\n",
       "    .dataframe tbody tr th:only-of-type {\n",
       "        vertical-align: middle;\n",
       "    }\n",
       "\n",
       "    .dataframe tbody tr th {\n",
       "        vertical-align: top;\n",
       "    }\n",
       "\n",
       "    .dataframe thead th {\n",
       "        text-align: right;\n",
       "    }\n",
       "</style>\n",
       "<table border=\"1\" class=\"dataframe\">\n",
       "  <thead>\n",
       "    <tr style=\"text-align: right;\">\n",
       "      <th></th>\n",
       "      <th>chrom</th>\n",
       "      <th>pv</th>\n",
       "      <th>variant</th>\n",
       "    </tr>\n",
       "  </thead>\n",
       "  <tbody>\n",
       "    <tr>\n",
       "      <th>0</th>\n",
       "      <td>22</td>\n",
       "      <td>0.000091</td>\n",
       "      <td>22_41256802_A_G</td>\n",
       "    </tr>\n",
       "    <tr>\n",
       "      <th>1</th>\n",
       "      <td>22</td>\n",
       "      <td>0.150256</td>\n",
       "      <td>22_41394128_C_T</td>\n",
       "    </tr>\n",
       "  </tbody>\n",
       "</table>\n",
       "</div>"
      ],
      "text/plain": [
       "  chrom        pv          variant\n",
       "0    22  0.000091  22_41256802_A_G\n",
       "1    22  0.150256  22_41394128_C_T"
      ]
     },
     "execution_count": 54,
     "metadata": {},
     "output_type": "execute_result"
    }
   ],
   "source": [
    "pvals3 = run_interaction(y=y, W=W, E=C1.values[:,0:10], E1=C1.values[:,0:10], E2=C1.values[:,0:10], G=GG, hK=hK_expanded)[0]\n",
    "pv3 = pd.DataFrame({\"chrom\":G_expanded.chrom.values,\n",
    "       \"pv\":pvals3,\n",
    "       \"variant\":G_expanded.snp.values})\n",
    "pv3.head()"
   ]
  },
  {
   "cell_type": "code",
   "execution_count": 45,
   "id": "9e5532ac",
   "metadata": {},
   "outputs": [],
   "source": [
    "### ENSG00000184674_GSTT1"
   ]
  },
  {
   "cell_type": "code",
   "execution_count": 60,
   "id": "cdd7c6f2",
   "metadata": {},
   "outputs": [
    {
     "name": "stderr",
     "output_type": "stream",
     "text": [
      "100%|██████████| 1/1 [05:46<00:00, 346.94s/it]\n"
     ]
    },
    {
     "data": {
      "text/html": [
       "<div>\n",
       "<style scoped>\n",
       "    .dataframe tbody tr th:only-of-type {\n",
       "        vertical-align: middle;\n",
       "    }\n",
       "\n",
       "    .dataframe tbody tr th {\n",
       "        vertical-align: top;\n",
       "    }\n",
       "\n",
       "    .dataframe thead th {\n",
       "        text-align: right;\n",
       "    }\n",
       "</style>\n",
       "<table border=\"1\" class=\"dataframe\">\n",
       "  <thead>\n",
       "    <tr style=\"text-align: right;\">\n",
       "      <th></th>\n",
       "      <th>chrom</th>\n",
       "      <th>pv</th>\n",
       "      <th>variant</th>\n",
       "    </tr>\n",
       "  </thead>\n",
       "  <tbody>\n",
       "    <tr>\n",
       "      <th>0</th>\n",
       "      <td>22</td>\n",
       "      <td>0.000002</td>\n",
       "      <td>22_24295427_C_T</td>\n",
       "    </tr>\n",
       "  </tbody>\n",
       "</table>\n",
       "</div>"
      ],
      "text/plain": [
       "  chrom        pv          variant\n",
       "0    22  0.000002  22_24295427_C_T"
      ]
     },
     "execution_count": 60,
     "metadata": {},
     "output_type": "execute_result"
    }
   ],
   "source": [
    "pvals1 = run_interaction(y=y, W=W, E=C1_gauss.values[:,0:10], E1=C1_gauss.values[:,0:10], E2=C1.values[:,0:20], G=GG, hK=hK_expanded)[0]\n",
    "pv1 = pd.DataFrame({\"chrom\":G_expanded.chrom.values,\n",
    "       \"pv\":pvals1,\n",
    "       \"variant\":G_expanded.snp.values})\n",
    "pv1.head()"
   ]
  },
  {
   "cell_type": "code",
   "execution_count": 46,
   "id": "82d1a2b3",
   "metadata": {},
   "outputs": [
    {
     "name": "stderr",
     "output_type": "stream",
     "text": [
      "100%|██████████| 1/1 [04:52<00:00, 292.59s/it]\n"
     ]
    },
    {
     "data": {
      "text/html": [
       "<div>\n",
       "<style scoped>\n",
       "    .dataframe tbody tr th:only-of-type {\n",
       "        vertical-align: middle;\n",
       "    }\n",
       "\n",
       "    .dataframe tbody tr th {\n",
       "        vertical-align: top;\n",
       "    }\n",
       "\n",
       "    .dataframe thead th {\n",
       "        text-align: right;\n",
       "    }\n",
       "</style>\n",
       "<table border=\"1\" class=\"dataframe\">\n",
       "  <thead>\n",
       "    <tr style=\"text-align: right;\">\n",
       "      <th></th>\n",
       "      <th>chrom</th>\n",
       "      <th>pv</th>\n",
       "      <th>variant</th>\n",
       "    </tr>\n",
       "  </thead>\n",
       "  <tbody>\n",
       "    <tr>\n",
       "      <th>0</th>\n",
       "      <td>22</td>\n",
       "      <td>3.468064e-10</td>\n",
       "      <td>22_24295427_C_T</td>\n",
       "    </tr>\n",
       "  </tbody>\n",
       "</table>\n",
       "</div>"
      ],
      "text/plain": [
       "  chrom            pv          variant\n",
       "0    22  3.468064e-10  22_24295427_C_T"
      ]
     },
     "execution_count": 46,
     "metadata": {},
     "output_type": "execute_result"
    }
   ],
   "source": [
    "pvals2 = run_interaction(y=y, W=W, E=C2_gauss.values[:,0:10], E1=C2_gauss.values[:,0:10], E2=C2.values[:,0:20], G=GG, hK=hK_expanded)[0]\n",
    "pv2 = pd.DataFrame({\"chrom\":G_expanded.chrom.values,\n",
    "       \"pv\":pvals2,\n",
    "       \"variant\":G_expanded.snp.values})\n",
    "pv2.head()"
   ]
  },
  {
   "cell_type": "code",
   "execution_count": 47,
   "id": "beb77843",
   "metadata": {},
   "outputs": [
    {
     "name": "stderr",
     "output_type": "stream",
     "text": [
      "100%|██████████| 1/1 [02:54<00:00, 174.45s/it]\n"
     ]
    },
    {
     "data": {
      "text/html": [
       "<div>\n",
       "<style scoped>\n",
       "    .dataframe tbody tr th:only-of-type {\n",
       "        vertical-align: middle;\n",
       "    }\n",
       "\n",
       "    .dataframe tbody tr th {\n",
       "        vertical-align: top;\n",
       "    }\n",
       "\n",
       "    .dataframe thead th {\n",
       "        text-align: right;\n",
       "    }\n",
       "</style>\n",
       "<table border=\"1\" class=\"dataframe\">\n",
       "  <thead>\n",
       "    <tr style=\"text-align: right;\">\n",
       "      <th></th>\n",
       "      <th>chrom</th>\n",
       "      <th>pv</th>\n",
       "      <th>variant</th>\n",
       "    </tr>\n",
       "  </thead>\n",
       "  <tbody>\n",
       "    <tr>\n",
       "      <th>0</th>\n",
       "      <td>22</td>\n",
       "      <td>7.361991e-07</td>\n",
       "      <td>22_24295427_C_T</td>\n",
       "    </tr>\n",
       "  </tbody>\n",
       "</table>\n",
       "</div>"
      ],
      "text/plain": [
       "  chrom            pv          variant\n",
       "0    22  7.361991e-07  22_24295427_C_T"
      ]
     },
     "execution_count": 47,
     "metadata": {},
     "output_type": "execute_result"
    }
   ],
   "source": [
    "pvals3 = run_interaction(y=y, W=W, E=C1.values[:,0:10], E1=C1.values[:,0:10], E2=C1.values[:,0:10], G=GG, hK=hK_expanded)[0]\n",
    "pv3 = pd.DataFrame({\"chrom\":G_expanded.chrom.values,\n",
    "       \"pv\":pvals3,\n",
    "       \"variant\":G_expanded.snp.values})\n",
    "pv3.head()"
   ]
  },
  {
   "cell_type": "code",
   "execution_count": null,
   "id": "0e48e5d4",
   "metadata": {},
   "outputs": [],
   "source": [
    "### ENSG00000100058_CRYBB2P1"
   ]
  },
  {
   "cell_type": "code",
   "execution_count": 40,
   "id": "3852fb06",
   "metadata": {},
   "outputs": [
    {
     "name": "stderr",
     "output_type": "stream",
     "text": [
      "100%|██████████| 2/2 [11:39<00:00, 349.67s/it]\n"
     ]
    },
    {
     "data": {
      "text/html": [
       "<div>\n",
       "<style scoped>\n",
       "    .dataframe tbody tr th:only-of-type {\n",
       "        vertical-align: middle;\n",
       "    }\n",
       "\n",
       "    .dataframe tbody tr th {\n",
       "        vertical-align: top;\n",
       "    }\n",
       "\n",
       "    .dataframe thead th {\n",
       "        text-align: right;\n",
       "    }\n",
       "</style>\n",
       "<table border=\"1\" class=\"dataframe\">\n",
       "  <thead>\n",
       "    <tr style=\"text-align: right;\">\n",
       "      <th></th>\n",
       "      <th>chrom</th>\n",
       "      <th>pv</th>\n",
       "      <th>variant</th>\n",
       "    </tr>\n",
       "  </thead>\n",
       "  <tbody>\n",
       "    <tr>\n",
       "      <th>0</th>\n",
       "      <td>22</td>\n",
       "      <td>3.925165e-08</td>\n",
       "      <td>22_25845855_C_G</td>\n",
       "    </tr>\n",
       "    <tr>\n",
       "      <th>1</th>\n",
       "      <td>22</td>\n",
       "      <td>1.479959e-01</td>\n",
       "      <td>22_25924999_G_A</td>\n",
       "    </tr>\n",
       "  </tbody>\n",
       "</table>\n",
       "</div>"
      ],
      "text/plain": [
       "  chrom            pv          variant\n",
       "0    22  3.925165e-08  22_25845855_C_G\n",
       "1    22  1.479959e-01  22_25924999_G_A"
      ]
     },
     "execution_count": 40,
     "metadata": {},
     "output_type": "execute_result"
    }
   ],
   "source": [
    "pvals1 = run_interaction(y=y, W=W, E=C1_gauss.values[:,0:10], E1=C1_gauss.values[:,0:10], E2=C1.values[:,0:20], G=GG, hK=hK_expanded)[0]\n",
    "pv1 = pd.DataFrame({\"chrom\":G_expanded.chrom.values,\n",
    "       \"pv\":pvals1,\n",
    "       \"variant\":G_expanded.snp.values})\n",
    "pv1.head()"
   ]
  },
  {
   "cell_type": "code",
   "execution_count": 34,
   "id": "10044b9e",
   "metadata": {},
   "outputs": [
    {
     "name": "stderr",
     "output_type": "stream",
     "text": [
      "100%|██████████| 2/2 [10:21<00:00, 310.71s/it]\n"
     ]
    },
    {
     "data": {
      "text/html": [
       "<div>\n",
       "<style scoped>\n",
       "    .dataframe tbody tr th:only-of-type {\n",
       "        vertical-align: middle;\n",
       "    }\n",
       "\n",
       "    .dataframe tbody tr th {\n",
       "        vertical-align: top;\n",
       "    }\n",
       "\n",
       "    .dataframe thead th {\n",
       "        text-align: right;\n",
       "    }\n",
       "</style>\n",
       "<table border=\"1\" class=\"dataframe\">\n",
       "  <thead>\n",
       "    <tr style=\"text-align: right;\">\n",
       "      <th></th>\n",
       "      <th>chrom</th>\n",
       "      <th>pv</th>\n",
       "      <th>variant</th>\n",
       "    </tr>\n",
       "  </thead>\n",
       "  <tbody>\n",
       "    <tr>\n",
       "      <th>0</th>\n",
       "      <td>22</td>\n",
       "      <td>8.465845e-10</td>\n",
       "      <td>22_25845855_C_G</td>\n",
       "    </tr>\n",
       "    <tr>\n",
       "      <th>1</th>\n",
       "      <td>22</td>\n",
       "      <td>2.912894e-02</td>\n",
       "      <td>22_25924999_G_A</td>\n",
       "    </tr>\n",
       "  </tbody>\n",
       "</table>\n",
       "</div>"
      ],
      "text/plain": [
       "  chrom            pv          variant\n",
       "0    22  8.465845e-10  22_25845855_C_G\n",
       "1    22  2.912894e-02  22_25924999_G_A"
      ]
     },
     "execution_count": 34,
     "metadata": {},
     "output_type": "execute_result"
    }
   ],
   "source": [
    "pvals2 = run_interaction(y=y, W=W, E=C2_gauss.values[:,0:10], E1=C2_gauss.values[:,0:10], E2=C2.values[:,0:20], G=GG, hK=hK_expanded)[0]\n",
    "pv2 = pd.DataFrame({\"chrom\":G_expanded.chrom.values,\n",
    "       \"pv\":pvals2,\n",
    "       \"variant\":G_expanded.snp.values})\n",
    "pv2.head()"
   ]
  },
  {
   "cell_type": "code",
   "execution_count": 40,
   "id": "19e23e95",
   "metadata": {},
   "outputs": [
    {
     "name": "stderr",
     "output_type": "stream",
     "text": [
      "100%|██████████| 2/2 [05:46<00:00, 173.32s/it]\n"
     ]
    },
    {
     "data": {
      "text/html": [
       "<div>\n",
       "<style scoped>\n",
       "    .dataframe tbody tr th:only-of-type {\n",
       "        vertical-align: middle;\n",
       "    }\n",
       "\n",
       "    .dataframe tbody tr th {\n",
       "        vertical-align: top;\n",
       "    }\n",
       "\n",
       "    .dataframe thead th {\n",
       "        text-align: right;\n",
       "    }\n",
       "</style>\n",
       "<table border=\"1\" class=\"dataframe\">\n",
       "  <thead>\n",
       "    <tr style=\"text-align: right;\">\n",
       "      <th></th>\n",
       "      <th>chrom</th>\n",
       "      <th>pv</th>\n",
       "      <th>variant</th>\n",
       "    </tr>\n",
       "  </thead>\n",
       "  <tbody>\n",
       "    <tr>\n",
       "      <th>0</th>\n",
       "      <td>22</td>\n",
       "      <td>2.621800e-09</td>\n",
       "      <td>22_25845855_C_G</td>\n",
       "    </tr>\n",
       "    <tr>\n",
       "      <th>1</th>\n",
       "      <td>22</td>\n",
       "      <td>1.523839e-01</td>\n",
       "      <td>22_25924999_G_A</td>\n",
       "    </tr>\n",
       "  </tbody>\n",
       "</table>\n",
       "</div>"
      ],
      "text/plain": [
       "  chrom            pv          variant\n",
       "0    22  2.621800e-09  22_25845855_C_G\n",
       "1    22  1.523839e-01  22_25924999_G_A"
      ]
     },
     "execution_count": 40,
     "metadata": {},
     "output_type": "execute_result"
    }
   ],
   "source": [
    "pvals3 = run_interaction(y=y, W=W, E=C1.values[:,0:10], E1=C1.values[:,0:10], E2=C1.values[:,0:10], G=GG, hK=hK_expanded)[0]\n",
    "pv3 = pd.DataFrame({\"chrom\":G_expanded.chrom.values,\n",
    "       \"pv\":pvals3,\n",
    "       \"variant\":G_expanded.snp.values})\n",
    "pv3.head()"
   ]
  },
  {
   "cell_type": "code",
   "execution_count": null,
   "id": "18eb672c",
   "metadata": {},
   "outputs": [],
   "source": []
  },
  {
   "cell_type": "code",
   "execution_count": null,
   "id": "5712223e",
   "metadata": {},
   "outputs": [],
   "source": []
  },
  {
   "cell_type": "code",
   "execution_count": null,
   "id": "e18db80e",
   "metadata": {},
   "outputs": [],
   "source": []
  },
  {
   "cell_type": "code",
   "execution_count": null,
   "id": "8f1644d4",
   "metadata": {},
   "outputs": [],
   "source": []
  },
  {
   "cell_type": "code",
   "execution_count": null,
   "id": "ca4354c9",
   "metadata": {},
   "outputs": [],
   "source": []
  },
  {
   "cell_type": "code",
   "execution_count": 29,
   "id": "3808625b",
   "metadata": {
    "scrolled": true
   },
   "outputs": [
    {
     "name": "stdout",
     "output_type": "stream",
     "text": [
      "File already exists, exiting\n",
      "File already exists, exiting\n",
      "File already exists, exiting\n",
      "File already exists, exiting\n",
      "File already exists, exiting\n",
      "File already exists, exiting\n",
      "File already exists, exiting\n",
      "File already exists, exiting\n",
      "File already exists, exiting\n",
      "File already exists, exiting\n",
      "File already exists, exiting\n",
      "File already exists, exiting\n",
      "File already exists, exiting\n",
      "File already exists, exiting\n",
      "File already exists, exiting\n",
      "File already exists, exiting\n",
      "File already exists, exiting\n",
      "File already exists, exiting\n",
      "File already exists, exiting\n",
      "File already exists, exiting\n",
      "File already exists, exiting\n",
      "File already exists, exiting\n",
      "File already exists, exiting\n",
      "File already exists, exiting\n",
      "File already exists, exiting\n",
      "File already exists, exiting\n",
      "File already exists, exiting\n",
      "File already exists, exiting\n",
      "File already exists, exiting\n",
      "File already exists, exiting\n"
     ]
    },
    {
     "name": "stderr",
     "output_type": "stream",
     "text": [
      "/nfs/software/stegle/users/acuomo/conda-envs/struct-lmm2/lib/python3.8/site-packages/xarray/core/indexing.py:1369: PerformanceWarning: Slicing with an out-of-order index is generating 2383 times more chunks\n",
      "  return self.array[key]\n"
     ]
    },
    {
     "name": "stdout",
     "output_type": "stream",
     "text": [
      "Running for gene ENSG00000082397_EPB41L3\n"
     ]
    },
    {
     "name": "stderr",
     "output_type": "stream",
     "text": [
      "100%|██████████| 1/1 [05:12<00:00, 312.49s/it]\n",
      "/nfs/software/stegle/users/acuomo/conda-envs/struct-lmm2/lib/python3.8/site-packages/xarray/core/indexing.py:1369: PerformanceWarning: Slicing with an out-of-order index is generating 2383 times more chunks\n",
      "  return self.array[key]\n"
     ]
    },
    {
     "name": "stdout",
     "output_type": "stream",
     "text": [
      "Running for gene ENSG00000066926_FECH\n"
     ]
    },
    {
     "name": "stderr",
     "output_type": "stream",
     "text": [
      "100%|██████████| 1/1 [04:48<00:00, 288.70s/it]\n",
      "/nfs/software/stegle/users/acuomo/conda-envs/struct-lmm2/lib/python3.8/site-packages/xarray/core/indexing.py:1369: PerformanceWarning: Slicing with an out-of-order index is generating 2383 times more chunks\n",
      "  return self.array[key]\n"
     ]
    },
    {
     "name": "stdout",
     "output_type": "stream",
     "text": [
      "Running for gene ENSG00000158201_ABHD3\n"
     ]
    },
    {
     "name": "stderr",
     "output_type": "stream",
     "text": [
      "100%|██████████| 2/2 [10:03<00:00, 301.56s/it]\n",
      "/nfs/software/stegle/users/acuomo/conda-envs/struct-lmm2/lib/python3.8/site-packages/xarray/core/indexing.py:1369: PerformanceWarning: Slicing with an out-of-order index is generating 2383 times more chunks\n",
      "  return self.array[key]\n"
     ]
    },
    {
     "name": "stdout",
     "output_type": "stream",
     "text": [
      "Running for gene ENSG00000134278_SPIRE1\n"
     ]
    },
    {
     "name": "stderr",
     "output_type": "stream",
     "text": [
      "100%|██████████| 1/1 [05:16<00:00, 316.17s/it]\n",
      "/nfs/software/stegle/users/acuomo/conda-envs/struct-lmm2/lib/python3.8/site-packages/xarray/core/indexing.py:1369: PerformanceWarning: Slicing with an out-of-order index is generating 2383 times more chunks\n",
      "  return self.array[key]\n"
     ]
    },
    {
     "name": "stdout",
     "output_type": "stream",
     "text": [
      "Running for gene ENSG00000215472_RPL17-C18orf32\n"
     ]
    },
    {
     "name": "stderr",
     "output_type": "stream",
     "text": [
      "100%|██████████| 1/1 [04:52<00:00, 292.52s/it]\n",
      "/nfs/software/stegle/users/acuomo/conda-envs/struct-lmm2/lib/python3.8/site-packages/xarray/core/indexing.py:1369: PerformanceWarning: Slicing with an out-of-order index is generating 2383 times more chunks\n",
      "  return self.array[key]\n"
     ]
    },
    {
     "name": "stdout",
     "output_type": "stream",
     "text": [
      "Running for gene ENSG00000078142_PIK3C3\n"
     ]
    },
    {
     "name": "stderr",
     "output_type": "stream",
     "text": [
      "100%|██████████| 1/1 [05:10<00:00, 310.89s/it]\n",
      "/nfs/software/stegle/users/acuomo/conda-envs/struct-lmm2/lib/python3.8/site-packages/xarray/core/indexing.py:1369: PerformanceWarning: Slicing with an out-of-order index is generating 2383 times more chunks\n",
      "  return self.array[key]\n"
     ]
    },
    {
     "name": "stdout",
     "output_type": "stream",
     "text": [
      "Running for gene ENSG00000128789_PSMG2\n"
     ]
    },
    {
     "name": "stderr",
     "output_type": "stream",
     "text": [
      "100%|██████████| 1/1 [04:58<00:00, 298.76s/it]\n",
      "/nfs/software/stegle/users/acuomo/conda-envs/struct-lmm2/lib/python3.8/site-packages/xarray/core/indexing.py:1369: PerformanceWarning: Slicing with an out-of-order index is generating 2383 times more chunks\n",
      "  return self.array[key]\n"
     ]
    },
    {
     "name": "stdout",
     "output_type": "stream",
     "text": [
      "Running for gene ENSG00000101577_LPIN2\n"
     ]
    },
    {
     "name": "stderr",
     "output_type": "stream",
     "text": [
      "100%|██████████| 1/1 [05:07<00:00, 307.83s/it]\n",
      "/nfs/software/stegle/users/acuomo/conda-envs/struct-lmm2/lib/python3.8/site-packages/xarray/core/indexing.py:1369: PerformanceWarning: Slicing with an out-of-order index is generating 2383 times more chunks\n",
      "  return self.array[key]\n"
     ]
    },
    {
     "name": "stdout",
     "output_type": "stream",
     "text": [
      "Running for gene ENSG00000265681_RPL17\n"
     ]
    },
    {
     "name": "stderr",
     "output_type": "stream",
     "text": [
      "100%|██████████| 1/1 [04:48<00:00, 288.27s/it]\n",
      "/nfs/software/stegle/users/acuomo/conda-envs/struct-lmm2/lib/python3.8/site-packages/xarray/core/indexing.py:1369: PerformanceWarning: Slicing with an out-of-order index is generating 2383 times more chunks\n",
      "  return self.array[key]\n"
     ]
    },
    {
     "name": "stdout",
     "output_type": "stream",
     "text": [
      "Running for gene ENSG00000134049_IER3IP1\n"
     ]
    },
    {
     "name": "stderr",
     "output_type": "stream",
     "text": [
      "100%|██████████| 1/1 [05:05<00:00, 305.21s/it]\n",
      "/nfs/software/stegle/users/acuomo/conda-envs/struct-lmm2/lib/python3.8/site-packages/xarray/core/indexing.py:1369: PerformanceWarning: Slicing with an out-of-order index is generating 2383 times more chunks\n",
      "  return self.array[key]\n"
     ]
    },
    {
     "name": "stdout",
     "output_type": "stream",
     "text": [
      "Running for gene ENSG00000141655_TNFRSF11A\n"
     ]
    },
    {
     "name": "stderr",
     "output_type": "stream",
     "text": [
      "100%|██████████| 2/2 [09:32<00:00, 286.09s/it]\n",
      "/nfs/software/stegle/users/acuomo/conda-envs/struct-lmm2/lib/python3.8/site-packages/xarray/core/indexing.py:1369: PerformanceWarning: Slicing with an out-of-order index is generating 2383 times more chunks\n",
      "  return self.array[key]\n"
     ]
    },
    {
     "name": "stdout",
     "output_type": "stream",
     "text": [
      "Running for gene ENSG00000178184_PARD6G\n"
     ]
    },
    {
     "name": "stderr",
     "output_type": "stream",
     "text": [
      "100%|██████████| 2/2 [10:40<00:00, 320.33s/it]\n",
      "/nfs/software/stegle/users/acuomo/conda-envs/struct-lmm2/lib/python3.8/site-packages/xarray/core/indexing.py:1369: PerformanceWarning: Slicing with an out-of-order index is generating 2383 times more chunks\n",
      "  return self.array[key]\n"
     ]
    },
    {
     "name": "stdout",
     "output_type": "stream",
     "text": [
      "Running for gene ENSG00000141682_PMAIP1\n"
     ]
    },
    {
     "name": "stderr",
     "output_type": "stream",
     "text": [
      "100%|██████████| 1/1 [04:44<00:00, 284.14s/it]\n",
      "/nfs/software/stegle/users/acuomo/conda-envs/struct-lmm2/lib/python3.8/site-packages/xarray/core/indexing.py:1369: PerformanceWarning: Slicing with an out-of-order index is generating 2383 times more chunks\n",
      "  return self.array[key]\n"
     ]
    },
    {
     "name": "stdout",
     "output_type": "stream",
     "text": [
      "Running for gene ENSG00000175387_SMAD2\n"
     ]
    },
    {
     "name": "stderr",
     "output_type": "stream",
     "text": [
      "100%|██████████| 1/1 [04:50<00:00, 290.55s/it]\n",
      "/nfs/software/stegle/users/acuomo/conda-envs/struct-lmm2/lib/python3.8/site-packages/xarray/core/indexing.py:1369: PerformanceWarning: Slicing with an out-of-order index is generating 2383 times more chunks\n",
      "  return self.array[key]\n"
     ]
    },
    {
     "name": "stdout",
     "output_type": "stream",
     "text": [
      "Running for gene ENSG00000175354_PTPN2\n"
     ]
    },
    {
     "name": "stderr",
     "output_type": "stream",
     "text": [
      "100%|██████████| 1/1 [04:46<00:00, 286.10s/it]\n",
      "/nfs/software/stegle/users/acuomo/conda-envs/struct-lmm2/lib/python3.8/site-packages/xarray/core/indexing.py:1369: PerformanceWarning: Slicing with an out-of-order index is generating 2383 times more chunks\n",
      "  return self.array[key]\n"
     ]
    },
    {
     "name": "stdout",
     "output_type": "stream",
     "text": [
      "Running for gene ENSG00000133313_CNDP2\n"
     ]
    },
    {
     "name": "stderr",
     "output_type": "stream",
     "text": [
      "100%|██████████| 1/1 [04:34<00:00, 274.63s/it]\n",
      "/nfs/software/stegle/users/acuomo/conda-envs/struct-lmm2/lib/python3.8/site-packages/xarray/core/indexing.py:1369: PerformanceWarning: Slicing with an out-of-order index is generating 2383 times more chunks\n",
      "  return self.array[key]\n"
     ]
    },
    {
     "name": "stdout",
     "output_type": "stream",
     "text": [
      "Running for gene ENSG00000176641_RNF152\n"
     ]
    },
    {
     "name": "stderr",
     "output_type": "stream",
     "text": [
      "100%|██████████| 1/1 [04:28<00:00, 268.49s/it]\n",
      "/nfs/software/stegle/users/acuomo/conda-envs/struct-lmm2/lib/python3.8/site-packages/xarray/core/indexing.py:1369: PerformanceWarning: Slicing with an out-of-order index is generating 2383 times more chunks\n",
      "  return self.array[key]\n"
     ]
    },
    {
     "name": "stdout",
     "output_type": "stream",
     "text": [
      "Running for gene ENSG00000134440_NARS\n"
     ]
    },
    {
     "name": "stderr",
     "output_type": "stream",
     "text": [
      "100%|██████████| 1/1 [04:44<00:00, 284.70s/it]\n",
      "/nfs/software/stegle/users/acuomo/conda-envs/struct-lmm2/lib/python3.8/site-packages/xarray/core/indexing.py:1369: PerformanceWarning: Slicing with an out-of-order index is generating 2383 times more chunks\n",
      "  return self.array[key]\n"
     ]
    },
    {
     "name": "stdout",
     "output_type": "stream",
     "text": [
      "Running for gene ENSG00000197971_MBP\n"
     ]
    },
    {
     "name": "stderr",
     "output_type": "stream",
     "text": [
      "100%|██████████| 1/1 [04:48<00:00, 288.71s/it]\n",
      "/nfs/software/stegle/users/acuomo/conda-envs/struct-lmm2/lib/python3.8/site-packages/xarray/core/indexing.py:1369: PerformanceWarning: Slicing with an out-of-order index is generating 2383 times more chunks\n",
      "  return self.array[key]\n"
     ]
    },
    {
     "name": "stdout",
     "output_type": "stream",
     "text": [
      "Running for gene ENSG00000141385_AFG3L2\n"
     ]
    },
    {
     "name": "stderr",
     "output_type": "stream",
     "text": [
      "100%|██████████| 1/1 [04:56<00:00, 296.73s/it]\n",
      "/nfs/software/stegle/users/acuomo/conda-envs/struct-lmm2/lib/python3.8/site-packages/xarray/core/indexing.py:1369: PerformanceWarning: Slicing with an out-of-order index is generating 2383 times more chunks\n",
      "  return self.array[key]\n"
     ]
    },
    {
     "name": "stdout",
     "output_type": "stream",
     "text": [
      "Running for gene ENSG00000101596_SMCHD1\n"
     ]
    },
    {
     "name": "stderr",
     "output_type": "stream",
     "text": [
      "100%|██████████| 1/1 [05:10<00:00, 310.34s/it]\n"
     ]
    }
   ],
   "source": [
    "for gene_name in genes:\n",
    "    trait_name = re.sub(\"_.*\",\"\",gene_name)\n",
    "    outfilename = outdir + str(gene_name) + \".tsv\"\n",
    "    if os.path.exists(outfilename):\n",
    "        print(\"File already exists, exiting\")\n",
    "        continue\n",
    "    leads = endo_eqtl[endo_eqtl['feature']==gene_name]['snp_id'].unique()\n",
    "    G_sel = G[:,G['snp'].isin(leads)]\n",
    "    G_expanded = G_sel.sel(sample=sample_mapping[\"genotype_individual_id\"].values)\n",
    "    assert all(hK_expanded.sample.values == G_expanded.sample.values)\n",
    "#     trait_name = re.sub(\"-\",\".\",trait_name)\n",
    "    y = phenotype.sel(trait=gene_name)\n",
    "    y = quantile_gaussianize(y)\n",
    "    y = y.values.reshape(y.shape[0],1)\n",
    "    n_cells = phenotype.shape[1]\n",
    "    W = ones((n_cells, 1))\n",
    "    GG = G_expanded.values\n",
    "    print(\"Running for gene {}\".format(gene_name))\n",
    "    pvals = run_interaction(y=y, W=W, E=C_gauss.values[:,0:10], E1=C_gauss.values[:,0:10], E2=C.values[:,0:20], G=GG, hK=hK_expanded)[0]\n",
    "    pv = pd.DataFrame({\"chrom\":G_expanded.chrom.values,\n",
    "           \"pv\":pvals,\n",
    "           \"variant\":G_expanded.snp.values})\n",
    "#     pv.to_csv(outfilename)"
   ]
  },
  {
   "cell_type": "code",
   "execution_count": null,
   "id": "cc5006b5",
   "metadata": {},
   "outputs": [],
   "source": []
  },
  {
   "cell_type": "code",
   "execution_count": null,
   "id": "5b9cafa2",
   "metadata": {},
   "outputs": [],
   "source": []
  }
 ],
 "metadata": {
  "kernelspec": {
   "display_name": "Python (struct-lmm2)",
   "language": "python",
   "name": "struct-lmm2"
  },
  "language_info": {
   "codemirror_mode": {
    "name": "ipython",
    "version": 3
   },
   "file_extension": ".py",
   "mimetype": "text/x-python",
   "name": "python",
   "nbconvert_exporter": "python",
   "pygments_lexer": "ipython3",
   "version": "3.8.5"
  }
 },
 "nbformat": 4,
 "nbformat_minor": 5
}
