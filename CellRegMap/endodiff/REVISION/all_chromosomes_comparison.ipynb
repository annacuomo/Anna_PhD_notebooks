{
 "cells": [
  {
   "cell_type": "code",
   "execution_count": 1,
   "id": "df540fe4",
   "metadata": {},
   "outputs": [
    {
     "name": "stderr",
     "output_type": "stream",
     "text": [
      "\n",
      "Attaching package: ‘dplyr’\n",
      "\n",
      "The following objects are masked from ‘package:stats’:\n",
      "\n",
      "    filter, lag\n",
      "\n",
      "The following objects are masked from ‘package:base’:\n",
      "\n",
      "    intersect, setdiff, setequal, union\n",
      "\n"
     ]
    }
   ],
   "source": [
    "library(dplyr)\n",
    "library(ggplot2)"
   ]
  },
  {
   "cell_type": "code",
   "execution_count": 2,
   "id": "0faca119",
   "metadata": {},
   "outputs": [],
   "source": [
    "##### results from paper (Cuomo*, Seaton*, McCarthy* et al Nat Commun 2020)"
   ]
  },
  {
   "cell_type": "code",
   "execution_count": 3,
   "id": "6079fbc2",
   "metadata": {},
   "outputs": [],
   "source": [
    "# union of ips + mesendo + defendo eQTL (pseudobulk, expanded K)"
   ]
  },
  {
   "cell_type": "code",
   "execution_count": 4,
   "id": "62d39ce5",
   "metadata": {},
   "outputs": [],
   "source": [
    "# load lead variant results sc stages (iPS, mesendo, defendo)\n",
    "leads.ips = read.csv(\"/nfs/leia/research/stegle/acuomo/mean/day0/all_expts/leads.csv\", row.names = 1)\n",
    "leads.mes = read.csv(\"/nfs/leia/research/stegle/acuomo/mean/mesendo_est_June20/leads.csv\", row.names = 1)\n",
    "leads.defendo = read.csv(\"/nfs/leia/research/stegle/acuomo/mean/defendo_est_June20/leads.csv\", row.names = 1)"
   ]
  },
  {
   "cell_type": "code",
   "execution_count": 5,
   "id": "5914ff54",
   "metadata": {},
   "outputs": [],
   "source": [
    "leads.ips$stage = \"ips\"\n",
    "leads.mes$stage = \"mesendo\"\n",
    "leads.defendo$stage = \"defendo\""
   ]
  },
  {
   "cell_type": "code",
   "execution_count": 6,
   "id": "f4716c18",
   "metadata": {},
   "outputs": [],
   "source": [
    "### combine results"
   ]
  },
  {
   "cell_type": "code",
   "execution_count": 7,
   "id": "1bc94068",
   "metadata": {},
   "outputs": [],
   "source": [
    "leads = rbind(leads.ips, leads.mes, leads.defendo)"
   ]
  },
  {
   "cell_type": "code",
   "execution_count": 8,
   "id": "294ae10f",
   "metadata": {},
   "outputs": [],
   "source": [
    "leads$ensembl_gene_id = gsub(\"_.*\",\"\",leads$feature)"
   ]
  },
  {
   "cell_type": "code",
   "execution_count": 9,
   "id": "afd908b8",
   "metadata": {},
   "outputs": [
    {
     "data": {
      "text/html": [
       "<table>\n",
       "<thead><tr><th scope=col>beta</th><th scope=col>beta_se</th><th scope=col>empirical_feature_p_value</th><th scope=col>p_value</th><th scope=col>snp_id</th><th scope=col>feature</th><th scope=col>global_corr_p_value</th><th scope=col>chrom</th><th scope=col>pos</th><th scope=col>ref_allele</th><th scope=col>...</th><th scope=col>permutation_2</th><th scope=col>permutation_3</th><th scope=col>permutation_4</th><th scope=col>permutation_5</th><th scope=col>permutation_6</th><th scope=col>permutation_7</th><th scope=col>permutation_8</th><th scope=col>permutation_9</th><th scope=col>stage</th><th scope=col>ensembl_gene_id</th></tr></thead>\n",
       "<tbody>\n",
       "\t<tr><td>-1.0048674            </td><td>0.08005311            </td><td>3.631688e-34          </td><td>3.851118e-36          </td><td>5_149826526_C_T       </td><td>ENSG00000164587_RPS14 </td><td>2.880363e-30          </td><td> 5                    </td><td>149826526             </td><td>C                     </td><td>...                   </td><td>0.56508683            </td><td>0.6296458             </td><td>0.004683908           </td><td>0.5159591             </td><td>0.7734028             </td><td>0.6450821             </td><td>0.6001209             </td><td>0.9876646             </td><td>ips                   </td><td>ENSG00000164587       </td></tr>\n",
       "\t<tr><td>-0.9881017            </td><td>0.08648823            </td><td>2.432216e-26          </td><td>3.147553e-30          </td><td>11_57283988_C_T       </td><td>ENSG00000134809_TIMM10</td><td>8.853960e-23          </td><td>11                    </td><td> 57283988             </td><td>C                     </td><td>...                   </td><td>0.08194005            </td><td>0.6897261             </td><td>0.683497330           </td><td>0.5137511             </td><td>0.7877572             </td><td>0.6064095             </td><td>0.5419861             </td><td>0.5654441             </td><td>ips                   </td><td>ENSG00000134809       </td></tr>\n",
       "</tbody>\n",
       "</table>\n"
      ],
      "text/latex": [
       "\\begin{tabular}{r|lllllllllllllllllllllll}\n",
       " beta & beta\\_se & empirical\\_feature\\_p\\_value & p\\_value & snp\\_id & feature & global\\_corr\\_p\\_value & chrom & pos & ref\\_allele & ... & permutation\\_2 & permutation\\_3 & permutation\\_4 & permutation\\_5 & permutation\\_6 & permutation\\_7 & permutation\\_8 & permutation\\_9 & stage & ensembl\\_gene\\_id\\\\\n",
       "\\hline\n",
       "\t -1.0048674               & 0.08005311               & 3.631688e-34             & 3.851118e-36             & 5\\_149826526\\_C\\_T    & ENSG00000164587\\_RPS14  & 2.880363e-30             &  5                       & 149826526                & C                        & ...                      & 0.56508683               & 0.6296458                & 0.004683908              & 0.5159591                & 0.7734028                & 0.6450821                & 0.6001209                & 0.9876646                & ips                      & ENSG00000164587         \\\\\n",
       "\t -0.9881017               & 0.08648823               & 2.432216e-26             & 3.147553e-30             & 11\\_57283988\\_C\\_T    & ENSG00000134809\\_TIMM10 & 8.853960e-23             & 11                       &  57283988                & C                        & ...                      & 0.08194005               & 0.6897261                & 0.683497330              & 0.5137511                & 0.7877572                & 0.6064095                & 0.5419861                & 0.5654441                & ips                      & ENSG00000134809         \\\\\n",
       "\\end{tabular}\n"
      ],
      "text/markdown": [
       "\n",
       "| beta | beta_se | empirical_feature_p_value | p_value | snp_id | feature | global_corr_p_value | chrom | pos | ref_allele | ... | permutation_2 | permutation_3 | permutation_4 | permutation_5 | permutation_6 | permutation_7 | permutation_8 | permutation_9 | stage | ensembl_gene_id |\n",
       "|---|---|---|---|---|---|---|---|---|---|---|---|---|---|---|---|---|---|---|---|---|\n",
       "| -1.0048674             | 0.08005311             | 3.631688e-34           | 3.851118e-36           | 5_149826526_C_T        | ENSG00000164587_RPS14  | 2.880363e-30           |  5                     | 149826526              | C                      | ...                    | 0.56508683             | 0.6296458              | 0.004683908            | 0.5159591              | 0.7734028              | 0.6450821              | 0.6001209              | 0.9876646              | ips                    | ENSG00000164587        |\n",
       "| -0.9881017             | 0.08648823             | 2.432216e-26           | 3.147553e-30           | 11_57283988_C_T        | ENSG00000134809_TIMM10 | 8.853960e-23           | 11                     |  57283988              | C                      | ...                    | 0.08194005             | 0.6897261              | 0.683497330            | 0.5137511              | 0.7877572              | 0.6064095              | 0.5419861              | 0.5654441              | ips                    | ENSG00000134809        |\n",
       "\n"
      ],
      "text/plain": [
       "  beta       beta_se    empirical_feature_p_value p_value      snp_id         \n",
       "1 -1.0048674 0.08005311 3.631688e-34              3.851118e-36 5_149826526_C_T\n",
       "2 -0.9881017 0.08648823 2.432216e-26              3.147553e-30 11_57283988_C_T\n",
       "  feature                global_corr_p_value chrom pos       ref_allele ...\n",
       "1 ENSG00000164587_RPS14  2.880363e-30         5    149826526 C          ...\n",
       "2 ENSG00000134809_TIMM10 8.853960e-23        11     57283988 C          ...\n",
       "  permutation_2 permutation_3 permutation_4 permutation_5 permutation_6\n",
       "1 0.56508683    0.6296458     0.004683908   0.5159591     0.7734028    \n",
       "2 0.08194005    0.6897261     0.683497330   0.5137511     0.7877572    \n",
       "  permutation_7 permutation_8 permutation_9 stage ensembl_gene_id\n",
       "1 0.6450821     0.6001209     0.9876646     ips   ENSG00000164587\n",
       "2 0.6064095     0.5419861     0.5654441     ips   ENSG00000134809"
      ]
     },
     "metadata": {},
     "output_type": "display_data"
    }
   ],
   "source": [
    "head(leads,2)"
   ]
  },
  {
   "cell_type": "code",
   "execution_count": 10,
   "id": "bf5e2616",
   "metadata": {},
   "outputs": [],
   "source": [
    "#### pick top SNP per gene (min p-value across stages)"
   ]
  },
  {
   "cell_type": "code",
   "execution_count": 11,
   "id": "e763faee",
   "metadata": {},
   "outputs": [
    {
     "data": {
      "text/html": [
       "32665"
      ],
      "text/latex": [
       "32665"
      ],
      "text/markdown": [
       "32665"
      ],
      "text/plain": [
       "[1] 32665"
      ]
     },
     "metadata": {},
     "output_type": "display_data"
    },
    {
     "data": {
      "text/html": [
       "10788"
      ],
      "text/latex": [
       "10788"
      ],
      "text/markdown": [
       "10788"
      ],
      "text/plain": [
       "[1] 10788"
      ]
     },
     "metadata": {},
     "output_type": "display_data"
    }
   ],
   "source": [
    "nrow(leads)\n",
    "leads = leads[order(leads$p_value),]\n",
    "leads = leads[-which(duplicated(leads$feature)),]\n",
    "nrow(leads)"
   ]
  },
  {
   "cell_type": "code",
   "execution_count": 12,
   "id": "cafb233a",
   "metadata": {},
   "outputs": [
    {
     "data": {
      "text/html": [
       "2080"
      ],
      "text/latex": [
       "2080"
      ],
      "text/markdown": [
       "2080"
      ],
      "text/plain": [
       "[1] 2080"
      ]
     },
     "metadata": {},
     "output_type": "display_data"
    }
   ],
   "source": [
    "nrow(leads[leads$global_corr_p_value<0.05,])"
   ]
  },
  {
   "cell_type": "code",
   "execution_count": 13,
   "id": "4fb25ded",
   "metadata": {},
   "outputs": [],
   "source": [
    "# load all results sc stages (iPS, mesendo, defendo)\n",
    "res.ips = read.csv(\"/nfs/leia/research/stegle/acuomo/mean/day0/all_expts/allresults.csv\", row.names = 1)\n",
    "res.mes = read.csv(\"/nfs/leia/research/stegle/acuomo/mean/mesendo_est_June20/allresults.csv\", row.names = 1)\n",
    "res.defendo = read.csv(\"/nfs/leia/research/stegle/acuomo/mean/defendo_est_June20/allresults.csv\", row.names = 1)"
   ]
  },
  {
   "cell_type": "code",
   "execution_count": 14,
   "id": "4314e583",
   "metadata": {},
   "outputs": [],
   "source": [
    "res.ips$stage = \"ips\"\n",
    "res.mes$stage = \"mesendo\"\n",
    "res.defendo$stage = \"defendo\""
   ]
  },
  {
   "cell_type": "code",
   "execution_count": 15,
   "id": "ffb08488",
   "metadata": {},
   "outputs": [],
   "source": [
    "res = rbind(res.ips, res.mes, res.defendo)"
   ]
  },
  {
   "cell_type": "code",
   "execution_count": 16,
   "id": "32b3512b",
   "metadata": {},
   "outputs": [],
   "source": [
    "res$ensembl_gene_id = gsub(\"_.*\",\"\",res$feature)"
   ]
  },
  {
   "cell_type": "code",
   "execution_count": 17,
   "id": "69cc2da4",
   "metadata": {},
   "outputs": [
    {
     "data": {
      "text/html": [
       "<table>\n",
       "<thead><tr><th scope=col>beta</th><th scope=col>beta_se</th><th scope=col>empirical_feature_p_value</th><th scope=col>p_value</th><th scope=col>snp_id</th><th scope=col>feature</th><th scope=col>permutation_0</th><th scope=col>permutation_1</th><th scope=col>permutation_2</th><th scope=col>permutation_3</th><th scope=col>...</th><th scope=col>permutation_6</th><th scope=col>permutation_7</th><th scope=col>permutation_8</th><th scope=col>permutation_9</th><th scope=col>ensembl_gene_id</th><th scope=col>chrom</th><th scope=col>pos</th><th scope=col>ref_allele</th><th scope=col>alt_allele</th><th scope=col>stage</th></tr></thead>\n",
       "<tbody>\n",
       "\t<tr><td>0.1034053             </td><td>0.1156505             </td><td>1                     </td><td>0.3712581             </td><td>1_100712195_G_C       </td><td>ENSG00000079335_CDC14A</td><td>0.4119083             </td><td>0.02609394            </td><td>0.6008147             </td><td>0.1373799             </td><td>...                   </td><td>0.1993281             </td><td>0.2655322             </td><td>0.9174491             </td><td>0.8586736             </td><td>ENSG00000079335       </td><td>1                     </td><td>100712195             </td><td>G                     </td><td>C                     </td><td>ips                   </td></tr>\n",
       "\t<tr><td>0.1034053             </td><td>0.1156505             </td><td>1                     </td><td>0.3712581             </td><td>1_100713300_G_T       </td><td>ENSG00000079335_CDC14A</td><td>0.4119083             </td><td>0.02609394            </td><td>0.6008147             </td><td>0.1373799             </td><td>...                   </td><td>0.1993281             </td><td>0.2655322             </td><td>0.9174491             </td><td>0.8586736             </td><td>ENSG00000079335       </td><td>1                     </td><td>100713300             </td><td>G                     </td><td>T                     </td><td>ips                   </td></tr>\n",
       "</tbody>\n",
       "</table>\n"
      ],
      "text/latex": [
       "\\begin{tabular}{r|llllllllllllllllllllll}\n",
       " beta & beta\\_se & empirical\\_feature\\_p\\_value & p\\_value & snp\\_id & feature & permutation\\_0 & permutation\\_1 & permutation\\_2 & permutation\\_3 & ... & permutation\\_6 & permutation\\_7 & permutation\\_8 & permutation\\_9 & ensembl\\_gene\\_id & chrom & pos & ref\\_allele & alt\\_allele & stage\\\\\n",
       "\\hline\n",
       "\t 0.1034053                & 0.1156505                & 1                        & 0.3712581                & 1\\_100712195\\_G\\_C    & ENSG00000079335\\_CDC14A & 0.4119083                & 0.02609394               & 0.6008147                & 0.1373799                & ...                      & 0.1993281                & 0.2655322                & 0.9174491                & 0.8586736                & ENSG00000079335          & 1                        & 100712195                & G                        & C                        & ips                     \\\\\n",
       "\t 0.1034053                & 0.1156505                & 1                        & 0.3712581                & 1\\_100713300\\_G\\_T    & ENSG00000079335\\_CDC14A & 0.4119083                & 0.02609394               & 0.6008147                & 0.1373799                & ...                      & 0.1993281                & 0.2655322                & 0.9174491                & 0.8586736                & ENSG00000079335          & 1                        & 100713300                & G                        & T                        & ips                     \\\\\n",
       "\\end{tabular}\n"
      ],
      "text/markdown": [
       "\n",
       "| beta | beta_se | empirical_feature_p_value | p_value | snp_id | feature | permutation_0 | permutation_1 | permutation_2 | permutation_3 | ... | permutation_6 | permutation_7 | permutation_8 | permutation_9 | ensembl_gene_id | chrom | pos | ref_allele | alt_allele | stage |\n",
       "|---|---|---|---|---|---|---|---|---|---|---|---|---|---|---|---|---|---|---|---|---|\n",
       "| 0.1034053              | 0.1156505              | 1                      | 0.3712581              | 1_100712195_G_C        | ENSG00000079335_CDC14A | 0.4119083              | 0.02609394             | 0.6008147              | 0.1373799              | ...                    | 0.1993281              | 0.2655322              | 0.9174491              | 0.8586736              | ENSG00000079335        | 1                      | 100712195              | G                      | C                      | ips                    |\n",
       "| 0.1034053              | 0.1156505              | 1                      | 0.3712581              | 1_100713300_G_T        | ENSG00000079335_CDC14A | 0.4119083              | 0.02609394             | 0.6008147              | 0.1373799              | ...                    | 0.1993281              | 0.2655322              | 0.9174491              | 0.8586736              | ENSG00000079335        | 1                      | 100713300              | G                      | T                      | ips                    |\n",
       "\n"
      ],
      "text/plain": [
       "  beta      beta_se   empirical_feature_p_value p_value   snp_id         \n",
       "1 0.1034053 0.1156505 1                         0.3712581 1_100712195_G_C\n",
       "2 0.1034053 0.1156505 1                         0.3712581 1_100713300_G_T\n",
       "  feature                permutation_0 permutation_1 permutation_2\n",
       "1 ENSG00000079335_CDC14A 0.4119083     0.02609394    0.6008147    \n",
       "2 ENSG00000079335_CDC14A 0.4119083     0.02609394    0.6008147    \n",
       "  permutation_3 ... permutation_6 permutation_7 permutation_8 permutation_9\n",
       "1 0.1373799     ... 0.1993281     0.2655322     0.9174491     0.8586736    \n",
       "2 0.1373799     ... 0.1993281     0.2655322     0.9174491     0.8586736    \n",
       "  ensembl_gene_id chrom pos       ref_allele alt_allele stage\n",
       "1 ENSG00000079335 1     100712195 G          C          ips  \n",
       "2 ENSG00000079335 1     100713300 G          T          ips  "
      ]
     },
     "metadata": {},
     "output_type": "display_data"
    }
   ],
   "source": [
    "head(res,2)"
   ]
  },
  {
   "cell_type": "code",
   "execution_count": 18,
   "id": "c7b69626",
   "metadata": {},
   "outputs": [],
   "source": [
    "#### pick top eQTL per stage (min p-value across stages)"
   ]
  },
  {
   "cell_type": "code",
   "execution_count": 19,
   "id": "3f467029",
   "metadata": {},
   "outputs": [
    {
     "data": {
      "text/html": [
       "16059303"
      ],
      "text/latex": [
       "16059303"
      ],
      "text/markdown": [
       "16059303"
      ],
      "text/plain": [
       "[1] 16059303"
      ]
     },
     "metadata": {},
     "output_type": "display_data"
    }
   ],
   "source": [
    "res$eqtl = paste0(res$feature,\"-\",res$snp_id)\n",
    "nrow(res)"
   ]
  },
  {
   "cell_type": "code",
   "execution_count": 20,
   "id": "ef842939",
   "metadata": {},
   "outputs": [
    {
     "data": {
      "text/html": [
       "5567940"
      ],
      "text/latex": [
       "5567940"
      ],
      "text/markdown": [
       "5567940"
      ],
      "text/plain": [
       "[1] 5567940"
      ]
     },
     "metadata": {},
     "output_type": "display_data"
    }
   ],
   "source": [
    "res = res[order(res$p_value),]\n",
    "res = res[-which(duplicated(res$eqtl)),]\n",
    "nrow(res)"
   ]
  },
  {
   "cell_type": "code",
   "execution_count": null,
   "id": "8753c2b6",
   "metadata": {},
   "outputs": [],
   "source": []
  },
  {
   "cell_type": "code",
   "execution_count": 21,
   "id": "da0e851f",
   "metadata": {},
   "outputs": [],
   "source": [
    "##### limix QTL reproducing CellRegMap association test"
   ]
  },
  {
   "cell_type": "code",
   "execution_count": 22,
   "id": "63e5cfe8",
   "metadata": {},
   "outputs": [],
   "source": [
    "# limix_qtl with two random effects (single cells, expanded K + CCt)"
   ]
  },
  {
   "cell_type": "code",
   "execution_count": 23,
   "id": "55717268",
   "metadata": {},
   "outputs": [],
   "source": [
    "mydir = \"/hps/nobackup/stegle/users/acuomo/all_scripts/struct_LMM2/sc_endodiff/debug_May2021/REVISION/limix_qtl_pipeline_Gtest/Gtest_10MOFA/\""
   ]
  },
  {
   "cell_type": "code",
   "execution_count": 24,
   "id": "b10502d7",
   "metadata": {},
   "outputs": [
    {
     "data": {
      "text/html": [
       "11083"
      ],
      "text/latex": [
       "11083"
      ],
      "text/markdown": [
       "11083"
      ],
      "text/plain": [
       "[1] 11083"
      ]
     },
     "metadata": {},
     "output_type": "display_data"
    },
    {
     "data": {
      "text/html": [
       "<table>\n",
       "<thead><tr><th scope=col>snp_id</th><th scope=col>p_value</th><th scope=col>beta</th><th scope=col>beta_se</th><th scope=col>empirical_feature_p_value</th><th scope=col>feature_chromosome</th><th scope=col>feature_start</th><th scope=col>feature_end</th><th scope=col>n_samples</th><th scope=col>n_e_samples</th><th scope=col>alpha_param</th><th scope=col>beta_param</th><th scope=col>rho</th><th scope=col>snp_chromosome</th><th scope=col>snp_position</th><th scope=col>assessed_allele</th><th scope=col>call_rate</th><th scope=col>maf</th><th scope=col>hwe_p</th><th scope=col>feature_id</th></tr></thead>\n",
       "<tbody>\n",
       "\t<tr><td>7_99442565_A_G </td><td>0.03640359     </td><td>-0.19143557    </td><td>0.09148769     </td><td>0.9328839      </td><td>7              </td><td>99245817       </td><td>99277621       </td><td>27598          </td><td>99             </td><td>0.612032       </td><td>52.19879       </td><td>0.9            </td><td>7              </td><td>99442565       </td><td>G              </td><td>1              </td><td>0.05050505     </td><td>1              </td><td>ENSG00000106258</td></tr>\n",
       "\t<tr><td>7_99143503_A_T </td><td>0.02247299     </td><td>-0.08541319    </td><td>0.03742278     </td><td>0.6305276      </td><td>7              </td><td>99214569       </td><td>99230030       </td><td>27598          </td><td>99             </td><td>1.121871       </td><td>50.00241       </td><td>0.8            </td><td>7              </td><td>99143503       </td><td>T              </td><td>1              </td><td>0.07575758     </td><td>1              </td><td>ENSG00000197037</td></tr>\n",
       "</tbody>\n",
       "</table>\n"
      ],
      "text/latex": [
       "\\begin{tabular}{r|llllllllllllllllllll}\n",
       " snp\\_id & p\\_value & beta & beta\\_se & empirical\\_feature\\_p\\_value & feature\\_chromosome & feature\\_start & feature\\_end & n\\_samples & n\\_e\\_samples & alpha\\_param & beta\\_param & rho & snp\\_chromosome & snp\\_position & assessed\\_allele & call\\_rate & maf & hwe\\_p & feature\\_id\\\\\n",
       "\\hline\n",
       "\t 7\\_99442565\\_A\\_G & 0.03640359           & -0.19143557          & 0.09148769           & 0.9328839            & 7                    & 99245817             & 99277621             & 27598                & 99                   & 0.612032             & 52.19879             & 0.9                  & 7                    & 99442565             & G                    & 1                    & 0.05050505           & 1                    & ENSG00000106258     \\\\\n",
       "\t 7\\_99143503\\_A\\_T & 0.02247299           & -0.08541319          & 0.03742278           & 0.6305276            & 7                    & 99214569             & 99230030             & 27598                & 99                   & 1.121871             & 50.00241             & 0.8                  & 7                    & 99143503             & T                    & 1                    & 0.07575758           & 1                    & ENSG00000197037     \\\\\n",
       "\\end{tabular}\n"
      ],
      "text/markdown": [
       "\n",
       "| snp_id | p_value | beta | beta_se | empirical_feature_p_value | feature_chromosome | feature_start | feature_end | n_samples | n_e_samples | alpha_param | beta_param | rho | snp_chromosome | snp_position | assessed_allele | call_rate | maf | hwe_p | feature_id |\n",
       "|---|---|---|---|---|---|---|---|---|---|---|---|---|---|---|---|---|---|---|---|\n",
       "| 7_99442565_A_G  | 0.03640359      | -0.19143557     | 0.09148769      | 0.9328839       | 7               | 99245817        | 99277621        | 27598           | 99              | 0.612032        | 52.19879        | 0.9             | 7               | 99442565        | G               | 1               | 0.05050505      | 1               | ENSG00000106258 |\n",
       "| 7_99143503_A_T  | 0.02247299      | -0.08541319     | 0.03742278      | 0.6305276       | 7               | 99214569        | 99230030        | 27598           | 99              | 1.121871        | 50.00241        | 0.8             | 7               | 99143503        | T               | 1               | 0.07575758      | 1               | ENSG00000197037 |\n",
       "\n"
      ],
      "text/plain": [
       "  snp_id         p_value    beta        beta_se    empirical_feature_p_value\n",
       "1 7_99442565_A_G 0.03640359 -0.19143557 0.09148769 0.9328839                \n",
       "2 7_99143503_A_T 0.02247299 -0.08541319 0.03742278 0.6305276                \n",
       "  feature_chromosome feature_start feature_end n_samples n_e_samples\n",
       "1 7                  99245817      99277621    27598     99         \n",
       "2 7                  99214569      99230030    27598     99         \n",
       "  alpha_param beta_param rho snp_chromosome snp_position assessed_allele\n",
       "1 0.612032    52.19879   0.9 7              99442565     G              \n",
       "2 1.121871    50.00241   0.8 7              99143503     T              \n",
       "  call_rate maf        hwe_p feature_id     \n",
       "1 1         0.05050505 1     ENSG00000106258\n",
       "2 1         0.07575758 1     ENSG00000197037"
      ]
     },
     "metadata": {},
     "output_type": "display_data"
    }
   ],
   "source": [
    "myfile = paste0(mydir,\"results_mj/TestOut/top_qtl_results_all.txt\")\n",
    "df = read.csv(myfile, sep=\"\\t\")\n",
    "nrow(df)\n",
    "head(df,2)"
   ]
  },
  {
   "cell_type": "code",
   "execution_count": 25,
   "id": "fc0110b2",
   "metadata": {},
   "outputs": [
    {
     "data": {
      "text/html": [
       "10802"
      ],
      "text/latex": [
       "10802"
      ],
      "text/markdown": [
       "10802"
      ],
      "text/plain": [
       "[1] 10802"
      ]
     },
     "metadata": {},
     "output_type": "display_data"
    }
   ],
   "source": [
    "length(unique(df$feature_id))"
   ]
  },
  {
   "cell_type": "code",
   "execution_count": 79,
   "id": "e9cf5923",
   "metadata": {},
   "outputs": [
    {
     "data": {
      "text/html": [
       "19131741"
      ],
      "text/latex": [
       "19131741"
      ],
      "text/markdown": [
       "19131741"
      ],
      "text/plain": [
       "[1] 19131741"
      ]
     },
     "metadata": {},
     "output_type": "display_data"
    },
    {
     "data": {
      "text/html": [
       "<table>\n",
       "<thead><tr><th scope=col>feature_id</th><th scope=col>snp_id</th><th scope=col>p_value</th><th scope=col>beta</th><th scope=col>beta_se</th><th scope=col>empirical_feature_p_value</th><th scope=col>feature_chromosome</th><th scope=col>feature_start</th><th scope=col>feature_end</th><th scope=col>n_samples</th><th scope=col>...</th><th scope=col>alpha_param</th><th scope=col>beta_param</th><th scope=col>rho</th><th scope=col>snp_chromosome</th><th scope=col>snp_position</th><th scope=col>assessed_allele</th><th scope=col>call_rate</th><th scope=col>maf</th><th scope=col>hwe_p</th><th scope=col>ensembl_gene_id</th></tr></thead>\n",
       "<tbody>\n",
       "\t<tr><td>ENSG00000221909</td><td>7_99141373_G_A </td><td>0.0288737      </td><td>0.05597193     </td><td>0.02561291     </td><td>0.4631133      </td><td>7              </td><td>99143931       </td><td>99156159       </td><td>27598          </td><td>...            </td><td>0.964815       </td><td>20.15266       </td><td>0.8            </td><td>7              </td><td>99141373       </td><td>A              </td><td>1              </td><td>0.07575758     </td><td>0.4360553      </td><td>ENSG00000221909</td></tr>\n",
       "\t<tr><td>ENSG00000221909</td><td>7_99024636_C_T </td><td>0.0366472      </td><td>0.05150536     </td><td>0.02464660     </td><td>0.5453543      </td><td>7              </td><td>99143931       </td><td>99156159       </td><td>27598          </td><td>...            </td><td>0.964815       </td><td>20.15266       </td><td>0.8            </td><td>7              </td><td>99024636       </td><td>T              </td><td>1              </td><td>0.10606061     </td><td>0.5939258      </td><td>ENSG00000221909</td></tr>\n",
       "</tbody>\n",
       "</table>\n"
      ],
      "text/latex": [
       "\\begin{tabular}{r|lllllllllllllllllllll}\n",
       " feature\\_id & snp\\_id & p\\_value & beta & beta\\_se & empirical\\_feature\\_p\\_value & feature\\_chromosome & feature\\_start & feature\\_end & n\\_samples & ... & alpha\\_param & beta\\_param & rho & snp\\_chromosome & snp\\_position & assessed\\_allele & call\\_rate & maf & hwe\\_p & ensembl\\_gene\\_id\\\\\n",
       "\\hline\n",
       "\t ENSG00000221909      & 7\\_99141373\\_G\\_A & 0.0288737            & 0.05597193           & 0.02561291           & 0.4631133            & 7                    & 99143931             & 99156159             & 27598                & ...                  & 0.964815             & 20.15266             & 0.8                  & 7                    & 99141373             & A                    & 1                    & 0.07575758           & 0.4360553            & ENSG00000221909     \\\\\n",
       "\t ENSG00000221909      & 7\\_99024636\\_C\\_T & 0.0366472            & 0.05150536           & 0.02464660           & 0.5453543            & 7                    & 99143931             & 99156159             & 27598                & ...                  & 0.964815             & 20.15266             & 0.8                  & 7                    & 99024636             & T                    & 1                    & 0.10606061           & 0.5939258            & ENSG00000221909     \\\\\n",
       "\\end{tabular}\n"
      ],
      "text/markdown": [
       "\n",
       "| feature_id | snp_id | p_value | beta | beta_se | empirical_feature_p_value | feature_chromosome | feature_start | feature_end | n_samples | ... | alpha_param | beta_param | rho | snp_chromosome | snp_position | assessed_allele | call_rate | maf | hwe_p | ensembl_gene_id |\n",
       "|---|---|---|---|---|---|---|---|---|---|---|---|---|---|---|---|---|---|---|---|---|\n",
       "| ENSG00000221909 | 7_99141373_G_A  | 0.0288737       | 0.05597193      | 0.02561291      | 0.4631133       | 7               | 99143931        | 99156159        | 27598           | ...             | 0.964815        | 20.15266        | 0.8             | 7               | 99141373        | A               | 1               | 0.07575758      | 0.4360553       | ENSG00000221909 |\n",
       "| ENSG00000221909 | 7_99024636_C_T  | 0.0366472       | 0.05150536      | 0.02464660      | 0.5453543       | 7               | 99143931        | 99156159        | 27598           | ...             | 0.964815        | 20.15266        | 0.8             | 7               | 99024636        | T               | 1               | 0.10606061      | 0.5939258       | ENSG00000221909 |\n",
       "\n"
      ],
      "text/plain": [
       "  feature_id      snp_id         p_value   beta       beta_se   \n",
       "1 ENSG00000221909 7_99141373_G_A 0.0288737 0.05597193 0.02561291\n",
       "2 ENSG00000221909 7_99024636_C_T 0.0366472 0.05150536 0.02464660\n",
       "  empirical_feature_p_value feature_chromosome feature_start feature_end\n",
       "1 0.4631133                 7                  99143931      99156159   \n",
       "2 0.5453543                 7                  99143931      99156159   \n",
       "  n_samples ... alpha_param beta_param rho snp_chromosome snp_position\n",
       "1 27598     ... 0.964815    20.15266   0.8 7              99141373    \n",
       "2 27598     ... 0.964815    20.15266   0.8 7              99024636    \n",
       "  assessed_allele call_rate maf        hwe_p     ensembl_gene_id\n",
       "1 A               1         0.07575758 0.4360553 ENSG00000221909\n",
       "2 T               1         0.10606061 0.5939258 ENSG00000221909"
      ]
     },
     "metadata": {},
     "output_type": "display_data"
    }
   ],
   "source": [
    "myfile0 = paste0(mydir,\"results_mj/TestOut/qtl_results_all.txt.gz\")\n",
    "# df0 = read.csv(gzfile(myfile0), sep=\"\\t\")\n",
    "nrow(df0)\n",
    "head(df0,2)"
   ]
  },
  {
   "cell_type": "code",
   "execution_count": 80,
   "id": "40b2bd29",
   "metadata": {},
   "outputs": [
    {
     "data": {
      "text/html": [
       "<ol class=list-inline>\n",
       "\t<li>'feature_id'</li>\n",
       "\t<li>'snp_id'</li>\n",
       "\t<li>'p_value'</li>\n",
       "\t<li>'beta'</li>\n",
       "\t<li>'beta_se'</li>\n",
       "\t<li>'empirical_feature_p_value'</li>\n",
       "\t<li>'feature_chromosome'</li>\n",
       "\t<li>'feature_start'</li>\n",
       "\t<li>'feature_end'</li>\n",
       "\t<li>'n_samples'</li>\n",
       "\t<li>'n_e_samples'</li>\n",
       "\t<li>'alpha_param'</li>\n",
       "\t<li>'beta_param'</li>\n",
       "\t<li>'rho'</li>\n",
       "\t<li>'snp_chromosome'</li>\n",
       "\t<li>'snp_position'</li>\n",
       "\t<li>'assessed_allele'</li>\n",
       "\t<li>'call_rate'</li>\n",
       "\t<li>'maf'</li>\n",
       "\t<li>'hwe_p'</li>\n",
       "\t<li>'ensembl_gene_id'</li>\n",
       "</ol>\n"
      ],
      "text/latex": [
       "\\begin{enumerate*}\n",
       "\\item 'feature\\_id'\n",
       "\\item 'snp\\_id'\n",
       "\\item 'p\\_value'\n",
       "\\item 'beta'\n",
       "\\item 'beta\\_se'\n",
       "\\item 'empirical\\_feature\\_p\\_value'\n",
       "\\item 'feature\\_chromosome'\n",
       "\\item 'feature\\_start'\n",
       "\\item 'feature\\_end'\n",
       "\\item 'n\\_samples'\n",
       "\\item 'n\\_e\\_samples'\n",
       "\\item 'alpha\\_param'\n",
       "\\item 'beta\\_param'\n",
       "\\item 'rho'\n",
       "\\item 'snp\\_chromosome'\n",
       "\\item 'snp\\_position'\n",
       "\\item 'assessed\\_allele'\n",
       "\\item 'call\\_rate'\n",
       "\\item 'maf'\n",
       "\\item 'hwe\\_p'\n",
       "\\item 'ensembl\\_gene\\_id'\n",
       "\\end{enumerate*}\n"
      ],
      "text/markdown": [
       "1. 'feature_id'\n",
       "2. 'snp_id'\n",
       "3. 'p_value'\n",
       "4. 'beta'\n",
       "5. 'beta_se'\n",
       "6. 'empirical_feature_p_value'\n",
       "7. 'feature_chromosome'\n",
       "8. 'feature_start'\n",
       "9. 'feature_end'\n",
       "10. 'n_samples'\n",
       "11. 'n_e_samples'\n",
       "12. 'alpha_param'\n",
       "13. 'beta_param'\n",
       "14. 'rho'\n",
       "15. 'snp_chromosome'\n",
       "16. 'snp_position'\n",
       "17. 'assessed_allele'\n",
       "18. 'call_rate'\n",
       "19. 'maf'\n",
       "20. 'hwe_p'\n",
       "21. 'ensembl_gene_id'\n",
       "\n",
       "\n"
      ],
      "text/plain": [
       " [1] \"feature_id\"                \"snp_id\"                   \n",
       " [3] \"p_value\"                   \"beta\"                     \n",
       " [5] \"beta_se\"                   \"empirical_feature_p_value\"\n",
       " [7] \"feature_chromosome\"        \"feature_start\"            \n",
       " [9] \"feature_end\"               \"n_samples\"                \n",
       "[11] \"n_e_samples\"               \"alpha_param\"              \n",
       "[13] \"beta_param\"                \"rho\"                      \n",
       "[15] \"snp_chromosome\"            \"snp_position\"             \n",
       "[17] \"assessed_allele\"           \"call_rate\"                \n",
       "[19] \"maf\"                       \"hwe_p\"                    \n",
       "[21] \"ensembl_gene_id\"          "
      ]
     },
     "metadata": {},
     "output_type": "display_data"
    }
   ],
   "source": [
    "colnames(df0)"
   ]
  },
  {
   "cell_type": "code",
   "execution_count": 27,
   "id": "a5cbe72e",
   "metadata": {},
   "outputs": [
    {
     "data": {
      "text/html": [
       "10802"
      ],
      "text/latex": [
       "10802"
      ],
      "text/markdown": [
       "10802"
      ],
      "text/plain": [
       "[1] 10802"
      ]
     },
     "metadata": {},
     "output_type": "display_data"
    }
   ],
   "source": [
    "length(unique(df0$feature_id))"
   ]
  },
  {
   "cell_type": "code",
   "execution_count": 28,
   "id": "dba82560",
   "metadata": {},
   "outputs": [],
   "source": [
    "####################\n",
    "#### merge"
   ]
  },
  {
   "cell_type": "code",
   "execution_count": 29,
   "id": "a1cbdf98",
   "metadata": {},
   "outputs": [],
   "source": [
    "genes_new = as.character(unique(df0$feature_id))\n",
    "genes_old = as.character(unique(res$ensembl_gene_id))"
   ]
  },
  {
   "cell_type": "code",
   "execution_count": 30,
   "id": "ac810ecf",
   "metadata": {},
   "outputs": [
    {
     "data": {
      "text/html": [
       "10788"
      ],
      "text/latex": [
       "10788"
      ],
      "text/markdown": [
       "10788"
      ],
      "text/plain": [
       "[1] 10788"
      ]
     },
     "metadata": {},
     "output_type": "display_data"
    },
    {
     "data": {
      "text/html": [
       "<ol class=list-inline>\n",
       "\t<li>'ENSG00000163682'</li>\n",
       "\t<li>'ENSG00000226278'</li>\n",
       "</ol>\n"
      ],
      "text/latex": [
       "\\begin{enumerate*}\n",
       "\\item 'ENSG00000163682'\n",
       "\\item 'ENSG00000226278'\n",
       "\\end{enumerate*}\n"
      ],
      "text/markdown": [
       "1. 'ENSG00000163682'\n",
       "2. 'ENSG00000226278'\n",
       "\n",
       "\n"
      ],
      "text/plain": [
       "[1] \"ENSG00000163682\" \"ENSG00000226278\""
      ]
     },
     "metadata": {},
     "output_type": "display_data"
    }
   ],
   "source": [
    "length(genes_old)\n",
    "head(genes_old,2)"
   ]
  },
  {
   "cell_type": "code",
   "execution_count": 31,
   "id": "0f878ca6",
   "metadata": {},
   "outputs": [
    {
     "data": {
      "text/html": [
       "10802"
      ],
      "text/latex": [
       "10802"
      ],
      "text/markdown": [
       "10802"
      ],
      "text/plain": [
       "[1] 10802"
      ]
     },
     "metadata": {},
     "output_type": "display_data"
    },
    {
     "data": {
      "text/html": [
       "<ol class=list-inline>\n",
       "\t<li>'ENSG00000221909'</li>\n",
       "\t<li>'ENSG00000197037'</li>\n",
       "</ol>\n"
      ],
      "text/latex": [
       "\\begin{enumerate*}\n",
       "\\item 'ENSG00000221909'\n",
       "\\item 'ENSG00000197037'\n",
       "\\end{enumerate*}\n"
      ],
      "text/markdown": [
       "1. 'ENSG00000221909'\n",
       "2. 'ENSG00000197037'\n",
       "\n",
       "\n"
      ],
      "text/plain": [
       "[1] \"ENSG00000221909\" \"ENSG00000197037\""
      ]
     },
     "metadata": {},
     "output_type": "display_data"
    }
   ],
   "source": [
    "length(genes_new)\n",
    "head(genes_new,2)"
   ]
  },
  {
   "cell_type": "code",
   "execution_count": 32,
   "id": "9f2a5f5f",
   "metadata": {},
   "outputs": [
    {
     "data": {
      "text/html": [
       "10782"
      ],
      "text/latex": [
       "10782"
      ],
      "text/markdown": [
       "10782"
      ],
      "text/plain": [
       "[1] 10782"
      ]
     },
     "metadata": {},
     "output_type": "display_data"
    }
   ],
   "source": [
    "common_genes = genes_new[genes_new %in% genes_old]\n",
    "length(common_genes)"
   ]
  },
  {
   "cell_type": "code",
   "execution_count": 33,
   "id": "c4f08780",
   "metadata": {},
   "outputs": [],
   "source": [
    "########## new leads & old results"
   ]
  },
  {
   "cell_type": "code",
   "execution_count": 34,
   "id": "8b43b8ad",
   "metadata": {},
   "outputs": [],
   "source": [
    "df$ensembl_gene_id = df$feature_id"
   ]
  },
  {
   "cell_type": "code",
   "execution_count": 35,
   "id": "56487862",
   "metadata": {},
   "outputs": [],
   "source": [
    "df1 = inner_join(df,res, by=c(\"ensembl_gene_id\",\"snp_id\"), suffix = c(\".new\",\".old\"))"
   ]
  },
  {
   "cell_type": "code",
   "execution_count": 36,
   "id": "5d245228",
   "metadata": {},
   "outputs": [
    {
     "data": {
      "text/html": [
       "5870"
      ],
      "text/latex": [
       "5870"
      ],
      "text/markdown": [
       "5870"
      ],
      "text/plain": [
       "[1] 5870"
      ]
     },
     "metadata": {},
     "output_type": "display_data"
    }
   ],
   "source": [
    "nrow(df1)"
   ]
  },
  {
   "cell_type": "code",
   "execution_count": 37,
   "id": "37abfb75",
   "metadata": {},
   "outputs": [
    {
     "data": {
      "text/plain": [
       "\n",
       "\tPearson's product-moment correlation\n",
       "\n",
       "data:  -log10(df1$p_value.new) and -log10(df1$p_value.old)\n",
       "t = 98.776, df = 5868, p-value < 2.2e-16\n",
       "alternative hypothesis: true correlation is not equal to 0\n",
       "95 percent confidence interval:\n",
       " 0.7804111 0.7996344\n",
       "sample estimates:\n",
       "     cor \n",
       "0.790217 \n"
      ]
     },
     "metadata": {},
     "output_type": "display_data"
    }
   ],
   "source": [
    "cor.test(-log10(df1$p_value.new),-log10(df1$p_value.old))"
   ]
  },
  {
   "cell_type": "code",
   "execution_count": 38,
   "id": "329ee17f",
   "metadata": {},
   "outputs": [
    {
     "data": {
      "image/png": "[encoded data removed]",
      "text/plain": [
       "plot without title"
      ]
     },
     "metadata": {},
     "output_type": "display_data"
    }
   ],
   "source": [
    "options(repr.plot.width = 5, repr.plot.height = 5)\n",
    "ggplot(df1, aes(x=-log10(p_value.new),y=-log10(p_value.old))) + geom_point() + theme_bw() + geom_abline()"
   ]
  },
  {
   "cell_type": "code",
   "execution_count": 39,
   "id": "67f8829c",
   "metadata": {},
   "outputs": [],
   "source": [
    "########## old leads & new results"
   ]
  },
  {
   "cell_type": "code",
   "execution_count": 40,
   "id": "9c3da967",
   "metadata": {},
   "outputs": [],
   "source": [
    "df0$ensembl_gene_id = df0$feature_id\n",
    "df2 = inner_join(df0,leads, by=c(\"ensembl_gene_id\",\"snp_id\"), suffix = c(\".new\",\".old\"))"
   ]
  },
  {
   "cell_type": "code",
   "execution_count": 41,
   "id": "98f836c8",
   "metadata": {},
   "outputs": [
    {
     "data": {
      "text/html": [
       "16810"
      ],
      "text/latex": [
       "16810"
      ],
      "text/markdown": [
       "16810"
      ],
      "text/plain": [
       "[1] 16810"
      ]
     },
     "metadata": {},
     "output_type": "display_data"
    }
   ],
   "source": [
    "nrow(df2)"
   ]
  },
  {
   "cell_type": "code",
   "execution_count": 42,
   "id": "8d8d5462",
   "metadata": {},
   "outputs": [
    {
     "data": {
      "text/plain": [
       "\n",
       "\tPearson's product-moment correlation\n",
       "\n",
       "data:  -log10(df2$p_value.new) and -log10(df2$p_value.old)\n",
       "t = 205.54, df = 16808, p-value < 2.2e-16\n",
       "alternative hypothesis: true correlation is not equal to 0\n",
       "95 percent confidence interval:\n",
       " 0.8414386 0.8500455\n",
       "sample estimates:\n",
       "      cor \n",
       "0.8457971 \n"
      ]
     },
     "metadata": {},
     "output_type": "display_data"
    }
   ],
   "source": [
    "cor.test(-log10(df2$p_value.new),-log10(df2$p_value.old))"
   ]
  },
  {
   "cell_type": "code",
   "execution_count": 43,
   "id": "67d19718",
   "metadata": {},
   "outputs": [
    {
     "data": {
      "image/png": "[encoded data removed]",
      "text/plain": [
       "plot without title"
      ]
     },
     "metadata": {},
     "output_type": "display_data"
    }
   ],
   "source": [
    "ggplot(df2, aes(x=-log10(p_value.new),y=-log10(p_value.old))) + geom_point() + theme_bw() + geom_abline()"
   ]
  },
  {
   "cell_type": "code",
   "execution_count": 44,
   "id": "1516e378",
   "metadata": {},
   "outputs": [],
   "source": [
    "########## old & new results"
   ]
  },
  {
   "cell_type": "code",
   "execution_count": 45,
   "id": "37fb6525",
   "metadata": {},
   "outputs": [],
   "source": [
    "df3 = inner_join(df0,res, by=c(\"ensembl_gene_id\",\"snp_id\"), suffix = c(\".new\",\".old\"))"
   ]
  },
  {
   "cell_type": "code",
   "execution_count": 46,
   "id": "2cbbcbe5",
   "metadata": {},
   "outputs": [
    {
     "data": {
      "text/html": [
       "8732372"
      ],
      "text/latex": [
       "8732372"
      ],
      "text/markdown": [
       "8732372"
      ],
      "text/plain": [
       "[1] 8732372"
      ]
     },
     "metadata": {},
     "output_type": "display_data"
    }
   ],
   "source": [
    "nrow(df3)"
   ]
  },
  {
   "cell_type": "code",
   "execution_count": 47,
   "id": "6dc6dbc4",
   "metadata": {},
   "outputs": [
    {
     "data": {
      "text/plain": [
       "\n",
       "\tPearson's product-moment correlation\n",
       "\n",
       "data:  -log10(df3$p_value.new) and -log10(df3$p_value.old)\n",
       "t = 3599.3, df = 8732370, p-value < 2.2e-16\n",
       "alternative hypothesis: true correlation is not equal to 0\n",
       "95 percent confidence interval:\n",
       " 0.7726174 0.7731515\n",
       "sample estimates:\n",
       "      cor \n",
       "0.7728846 \n"
      ]
     },
     "metadata": {},
     "output_type": "display_data"
    }
   ],
   "source": [
    "cor.test(-log10(df3$p_value.new),-log10(df3$p_value.old))"
   ]
  },
  {
   "cell_type": "code",
   "execution_count": 48,
   "id": "8458b889",
   "metadata": {},
   "outputs": [
    {
     "data": {
      "image/png": "[encoded data removed]",
      "text/plain": [
       "plot without title"
      ]
     },
     "metadata": {},
     "output_type": "display_data"
    }
   ],
   "source": [
    "ggplot(df3, aes(x=-log10(p_value.new),y=-log10(p_value.old))) + geom_point() + theme_bw() + geom_abline()"
   ]
  },
  {
   "cell_type": "code",
   "execution_count": 66,
   "id": "f1bd7940",
   "metadata": {},
   "outputs": [
    {
     "data": {
      "text/html": [
       "<ol class=list-inline>\n",
       "\t<li>'ENSG00000271043'</li>\n",
       "\t<li>'ENSG00000109475'</li>\n",
       "\t<li>'ENSG00000085733'</li>\n",
       "\t<li>'ENSG00000181350'</li>\n",
       "\t<li>'ENSG00000166441'</li>\n",
       "\t<li>'ENSG00000142534'</li>\n",
       "\t<li>'ENSG00000118181'</li>\n",
       "\t<li>'ENSG00000089009'</li>\n",
       "\t<li>'ENSG00000125691'</li>\n",
       "\t<li>'ENSG00000108953'</li>\n",
       "\t<li>'ENSG00000163041'</li>\n",
       "\t<li>'ENSG00000105426'</li>\n",
       "\t<li>'ENSG00000172809'</li>\n",
       "\t<li>'ENSG00000131469'</li>\n",
       "\t<li>'ENSG00000008988'</li>\n",
       "\t<li>'ENSG00000184697'</li>\n",
       "\t<li>'ENSG00000117519'</li>\n",
       "</ol>\n"
      ],
      "text/latex": [
       "\\begin{enumerate*}\n",
       "\\item 'ENSG00000271043'\n",
       "\\item 'ENSG00000109475'\n",
       "\\item 'ENSG00000085733'\n",
       "\\item 'ENSG00000181350'\n",
       "\\item 'ENSG00000166441'\n",
       "\\item 'ENSG00000142534'\n",
       "\\item 'ENSG00000118181'\n",
       "\\item 'ENSG00000089009'\n",
       "\\item 'ENSG00000125691'\n",
       "\\item 'ENSG00000108953'\n",
       "\\item 'ENSG00000163041'\n",
       "\\item 'ENSG00000105426'\n",
       "\\item 'ENSG00000172809'\n",
       "\\item 'ENSG00000131469'\n",
       "\\item 'ENSG00000008988'\n",
       "\\item 'ENSG00000184697'\n",
       "\\item 'ENSG00000117519'\n",
       "\\end{enumerate*}\n"
      ],
      "text/markdown": [
       "1. 'ENSG00000271043'\n",
       "2. 'ENSG00000109475'\n",
       "3. 'ENSG00000085733'\n",
       "4. 'ENSG00000181350'\n",
       "5. 'ENSG00000166441'\n",
       "6. 'ENSG00000142534'\n",
       "7. 'ENSG00000118181'\n",
       "8. 'ENSG00000089009'\n",
       "9. 'ENSG00000125691'\n",
       "10. 'ENSG00000108953'\n",
       "11. 'ENSG00000163041'\n",
       "12. 'ENSG00000105426'\n",
       "13. 'ENSG00000172809'\n",
       "14. 'ENSG00000131469'\n",
       "15. 'ENSG00000008988'\n",
       "16. 'ENSG00000184697'\n",
       "17. 'ENSG00000117519'\n",
       "\n",
       "\n"
      ],
      "text/plain": [
       " [1] \"ENSG00000271043\" \"ENSG00000109475\" \"ENSG00000085733\" \"ENSG00000181350\"\n",
       " [5] \"ENSG00000166441\" \"ENSG00000142534\" \"ENSG00000118181\" \"ENSG00000089009\"\n",
       " [9] \"ENSG00000125691\" \"ENSG00000108953\" \"ENSG00000163041\" \"ENSG00000105426\"\n",
       "[13] \"ENSG00000172809\" \"ENSG00000131469\" \"ENSG00000008988\" \"ENSG00000184697\"\n",
       "[17] \"ENSG00000117519\""
      ]
     },
     "metadata": {},
     "output_type": "display_data"
    }
   ],
   "source": [
    "# df3[-log10(df3$p_value.new)>15 & -log10(df3$p_value.old)<5,\n",
    "#     c(\"feature_id\",\"snp_id\",\"p_value.new\",\"p_value.old\",\"beta.new\",\"beta.old\")]\n",
    "int_genes = unique(as.character(df3[-log10(df3$p_value.new)>15 & -log10(df3$p_value.old)<5,\"feature_id\"]))\n",
    "int_genes"
   ]
  },
  {
   "cell_type": "code",
   "execution_count": 63,
   "id": "9df9df3e",
   "metadata": {},
   "outputs": [],
   "source": [
    "###### look these up in betaGxE results?"
   ]
  },
  {
   "cell_type": "code",
   "execution_count": 1,
   "id": "bf0a5f31",
   "metadata": {},
   "outputs": [
    {
     "data": {
      "text/html": [
       "<table>\n",
       "<thead><tr><th></th><th scope=col>ENSG00000005059_CCDC109B_.4_110648632_T_A</th><th scope=col>ENSG00000006016_CRLF1_.19_18735221_G_T</th><th scope=col>ENSG00000006459_KDM7A_.7_139913409_G_A</th><th scope=col>ENSG00000013297_CLDN11_.3_170402765_T_C</th><th scope=col>ENSG00000021300_PLEKHB1_.11_73339784_G_A</th><th scope=col>ENSG00000029639_TFB1M_.6_155635808_C_G</th><th scope=col>ENSG00000033178_UBA6_.4_68480525_C_T</th><th scope=col>ENSG00000035115_SH3YL1_.2_256116_G_T</th><th scope=col>ENSG00000059377_TBXAS1_.7_139547370_G_A</th><th scope=col>ENSG00000063761_ADCK1_.14_78311319_G_A</th><th scope=col>...</th><th scope=col>ENSG00000248098_BCKDHA_.19_41937095_G_A</th><th scope=col>ENSG00000248124_RRN3P1_.16_21818292_A_C</th><th scope=col>ENSG00000250317_SMIM20_.4_25918516_A_G</th><th scope=col>ENSG00000253203_GUSBP3_.5_68922087_T_G</th><th scope=col>ENSG00000254184_TYW1B_.7_72200923_G_A</th><th scope=col>ENSG00000256018_HIST1H3G_.6_26198845_G_C</th><th scope=col>ENSG00000256073_C21orf119_.21_33728588_C_A</th><th scope=col>ENSG00000259024_TVP23C.CDRT4_.17_15434991_C_T</th><th scope=col>ENSG00000259803_SLC22A31_.16_89234110_G_C</th><th scope=col>ENSG00000267323_SLC25A1P5_.19_28298186_T_C</th></tr></thead>\n",
       "<tbody>\n",
       "\t<tr><th scope=row>21843_1#10</th><td>-0.02336156 </td><td> 0.037167263</td><td>-0.029627685</td><td>0.18296979  </td><td>-0.03793941 </td><td>-0.029324411</td><td> 0.031398501</td><td>-0.03962300 </td><td>0.08013833  </td><td>0.027498382 </td><td>...         </td><td>-0.08185803 </td><td>-0.10862369 </td><td>-0.10317566 </td><td>-0.048543205</td><td>0.095111678 </td><td>-0.002571070</td><td>-0.055608331</td><td>0.1931245   </td><td>-0.06168149 </td><td> 0.054686251</td></tr>\n",
       "\t<tr><th scope=row>21843_1#100</th><td>-0.04797379 </td><td>-0.002567715</td><td>-0.050303678</td><td>0.14204539  </td><td>-0.06425603 </td><td>-0.017894114</td><td>-0.064683766</td><td>-0.08820444 </td><td>0.23273882  </td><td>0.040375905 </td><td>...         </td><td>-0.16133495 </td><td>-0.45571807 </td><td>-0.09858982 </td><td>-0.095641305</td><td>0.007662211 </td><td>-0.001386594</td><td>-0.094118770</td><td>0.2614240   </td><td>-0.16271379 </td><td>-0.037051849</td></tr>\n",
       "\t<tr><th scope=row>21843_1#101</th><td>-0.01707154 </td><td>-0.038323702</td><td> 0.001072175</td><td>0.05068042  </td><td>-0.04211749 </td><td>-0.028163711</td><td>-0.079442257</td><td>-0.05854781 </td><td>0.14245545  </td><td>0.019225081 </td><td>...         </td><td>-0.08464140 </td><td>-0.22917228 </td><td>-0.08647358 </td><td>-0.027566411</td><td>0.030433187 </td><td>-0.038522875</td><td>-0.007152012</td><td>0.1489600   </td><td>-0.08467373 </td><td>-0.001068028</td></tr>\n",
       "\t<tr><th scope=row>21843_1#102</th><td>-0.06849843 </td><td> 0.029141143</td><td> 0.006591071</td><td>0.27772236  </td><td> 0.05210891 </td><td>-0.039448204</td><td> 0.002744249</td><td>-0.08783030 </td><td>0.06083871  </td><td>0.034590880 </td><td>...         </td><td>-0.05465162 </td><td>-0.09382258 </td><td>-0.12475134 </td><td>-0.009728905</td><td>0.052761776 </td><td>-0.008942713</td><td>-0.024298554</td><td>0.2108875   </td><td>-0.06577307 </td><td> 0.020432219</td></tr>\n",
       "\t<tr><th scope=row>21843_1#103</th><td>-0.02065975 </td><td> 0.017882432</td><td>-0.019780588</td><td>0.12713250  </td><td>-0.04432031 </td><td>-0.010911430</td><td>-0.024407791</td><td>-0.03931027 </td><td>0.06883815  </td><td>0.009218694 </td><td>...         </td><td>-0.04543236 </td><td>-0.13128624 </td><td>-0.06491895 </td><td>-0.033262391</td><td>0.063575007 </td><td> 0.044047100</td><td>-0.037472203</td><td>0.1392061   </td><td>-0.06160699 </td><td> 0.047756355</td></tr>\n",
       "\t<tr><th scope=row>21843_1#105</th><td> 0.03203034 </td><td> 0.029327187</td><td>-0.015424171</td><td>0.13315777  </td><td>-0.03401761 </td><td>-0.004702419</td><td>-0.075634975</td><td>-0.02003224 </td><td>0.09548422  </td><td>0.003292832 </td><td>...         </td><td>-0.08535482 </td><td>-0.14593277 </td><td>-0.07771164 </td><td>-0.053617513</td><td>0.141638220 </td><td> 0.019637691</td><td> 0.041395040</td><td>0.1576655   </td><td>-0.03509197 </td><td> 0.113248113</td></tr>\n",
       "</tbody>\n",
       "</table>\n"
      ],
      "text/latex": [
       "\\begin{tabular}{r|llllllllllllllllllllllllllllllllllllllllllllllllllllllllllllllllllllllllllllllllllllllllllllllllllllllllllllllllllllllllllllllllllllllllllllllllllllllllllllllllllllllllllllllllllllllllllllllllllllllllllllllllllllllllllllllllllllllllllllllllllllllllllllllllllllllllllllllllllllllllllllllllllllllllllllllllllllllllllllllllll}\n",
       "  & ENSG00000005059\\_CCDC109B\\_.4\\_110648632\\_T\\_A & ENSG00000006016\\_CRLF1\\_.19\\_18735221\\_G\\_T & ENSG00000006459\\_KDM7A\\_.7\\_139913409\\_G\\_A & ENSG00000013297\\_CLDN11\\_.3\\_170402765\\_T\\_C & ENSG00000021300\\_PLEKHB1\\_.11\\_73339784\\_G\\_A & ENSG00000029639\\_TFB1M\\_.6\\_155635808\\_C\\_G & ENSG00000033178\\_UBA6\\_.4\\_68480525\\_C\\_T & ENSG00000035115\\_SH3YL1\\_.2\\_256116\\_G\\_T & ENSG00000059377\\_TBXAS1\\_.7\\_139547370\\_G\\_A & ENSG00000063761\\_ADCK1\\_.14\\_78311319\\_G\\_A & ... & ENSG00000248098\\_BCKDHA\\_.19\\_41937095\\_G\\_A & ENSG00000248124\\_RRN3P1\\_.16\\_21818292\\_A\\_C & ENSG00000250317\\_SMIM20\\_.4\\_25918516\\_A\\_G & ENSG00000253203\\_GUSBP3\\_.5\\_68922087\\_T\\_G & ENSG00000254184\\_TYW1B\\_.7\\_72200923\\_G\\_A & ENSG00000256018\\_HIST1H3G\\_.6\\_26198845\\_G\\_C & ENSG00000256073\\_C21orf119\\_.21\\_33728588\\_C\\_A & ENSG00000259024\\_TVP23C.CDRT4\\_.17\\_15434991\\_C\\_T & ENSG00000259803\\_SLC22A31\\_.16\\_89234110\\_G\\_C & ENSG00000267323\\_SLC25A1P5\\_.19\\_28298186\\_T\\_C\\\\\n",
       "\\hline\n",
       "\t21843\\_1\\#10 & -0.02336156  &  0.037167263 & -0.029627685 & 0.18296979   & -0.03793941  & -0.029324411 &  0.031398501 & -0.03962300  & 0.08013833   & 0.027498382  & ...          & -0.08185803  & -0.10862369  & -0.10317566  & -0.048543205 & 0.095111678  & -0.002571070 & -0.055608331 & 0.1931245    & -0.06168149  &  0.054686251\\\\\n",
       "\t21843\\_1\\#100 & -0.04797379  & -0.002567715 & -0.050303678 & 0.14204539   & -0.06425603  & -0.017894114 & -0.064683766 & -0.08820444  & 0.23273882   & 0.040375905  & ...          & -0.16133495  & -0.45571807  & -0.09858982  & -0.095641305 & 0.007662211  & -0.001386594 & -0.094118770 & 0.2614240    & -0.16271379  & -0.037051849\\\\\n",
       "\t21843\\_1\\#101 & -0.01707154  & -0.038323702 &  0.001072175 & 0.05068042   & -0.04211749  & -0.028163711 & -0.079442257 & -0.05854781  & 0.14245545   & 0.019225081  & ...          & -0.08464140  & -0.22917228  & -0.08647358  & -0.027566411 & 0.030433187  & -0.038522875 & -0.007152012 & 0.1489600    & -0.08467373  & -0.001068028\\\\\n",
       "\t21843\\_1\\#102 & -0.06849843  &  0.029141143 &  0.006591071 & 0.27772236   &  0.05210891  & -0.039448204 &  0.002744249 & -0.08783030  & 0.06083871   & 0.034590880  & ...          & -0.05465162  & -0.09382258  & -0.12475134  & -0.009728905 & 0.052761776  & -0.008942713 & -0.024298554 & 0.2108875    & -0.06577307  &  0.020432219\\\\\n",
       "\t21843\\_1\\#103 & -0.02065975  &  0.017882432 & -0.019780588 & 0.12713250   & -0.04432031  & -0.010911430 & -0.024407791 & -0.03931027  & 0.06883815   & 0.009218694  & ...          & -0.04543236  & -0.13128624  & -0.06491895  & -0.033262391 & 0.063575007  &  0.044047100 & -0.037472203 & 0.1392061    & -0.06160699  &  0.047756355\\\\\n",
       "\t21843\\_1\\#105 &  0.03203034  &  0.029327187 & -0.015424171 & 0.13315777   & -0.03401761  & -0.004702419 & -0.075634975 & -0.02003224  & 0.09548422   & 0.003292832  & ...          & -0.08535482  & -0.14593277  & -0.07771164  & -0.053617513 & 0.141638220  &  0.019637691 &  0.041395040 & 0.1576655    & -0.03509197  &  0.113248113\\\\\n",
       "\\end{tabular}\n"
      ],
      "text/markdown": [
       "\n",
       "| <!--/--> | ENSG00000005059_CCDC109B_.4_110648632_T_A | ENSG00000006016_CRLF1_.19_18735221_G_T | ENSG00000006459_KDM7A_.7_139913409_G_A | ENSG00000013297_CLDN11_.3_170402765_T_C | ENSG00000021300_PLEKHB1_.11_73339784_G_A | ENSG00000029639_TFB1M_.6_155635808_C_G | ENSG00000033178_UBA6_.4_68480525_C_T | ENSG00000035115_SH3YL1_.2_256116_G_T | ENSG00000059377_TBXAS1_.7_139547370_G_A | ENSG00000063761_ADCK1_.14_78311319_G_A | ... | ENSG00000248098_BCKDHA_.19_41937095_G_A | ENSG00000248124_RRN3P1_.16_21818292_A_C | ENSG00000250317_SMIM20_.4_25918516_A_G | ENSG00000253203_GUSBP3_.5_68922087_T_G | ENSG00000254184_TYW1B_.7_72200923_G_A | ENSG00000256018_HIST1H3G_.6_26198845_G_C | ENSG00000256073_C21orf119_.21_33728588_C_A | ENSG00000259024_TVP23C.CDRT4_.17_15434991_C_T | ENSG00000259803_SLC22A31_.16_89234110_G_C | ENSG00000267323_SLC25A1P5_.19_28298186_T_C |\n",
       "|---|---|---|---|---|---|---|---|---|---|---|---|---|---|---|---|---|---|---|---|---|---|\n",
       "| 21843_1#10 | -0.02336156  |  0.037167263 | -0.029627685 | 0.18296979   | -0.03793941  | -0.029324411 |  0.031398501 | -0.03962300  | 0.08013833   | 0.027498382  | ...          | -0.08185803  | -0.10862369  | -0.10317566  | -0.048543205 | 0.095111678  | -0.002571070 | -0.055608331 | 0.1931245    | -0.06168149  |  0.054686251 |\n",
       "| 21843_1#100 | -0.04797379  | -0.002567715 | -0.050303678 | 0.14204539   | -0.06425603  | -0.017894114 | -0.064683766 | -0.08820444  | 0.23273882   | 0.040375905  | ...          | -0.16133495  | -0.45571807  | -0.09858982  | -0.095641305 | 0.007662211  | -0.001386594 | -0.094118770 | 0.2614240    | -0.16271379  | -0.037051849 |\n",
       "| 21843_1#101 | -0.01707154  | -0.038323702 |  0.001072175 | 0.05068042   | -0.04211749  | -0.028163711 | -0.079442257 | -0.05854781  | 0.14245545   | 0.019225081  | ...          | -0.08464140  | -0.22917228  | -0.08647358  | -0.027566411 | 0.030433187  | -0.038522875 | -0.007152012 | 0.1489600    | -0.08467373  | -0.001068028 |\n",
       "| 21843_1#102 | -0.06849843  |  0.029141143 |  0.006591071 | 0.27772236   |  0.05210891  | -0.039448204 |  0.002744249 | -0.08783030  | 0.06083871   | 0.034590880  | ...          | -0.05465162  | -0.09382258  | -0.12475134  | -0.009728905 | 0.052761776  | -0.008942713 | -0.024298554 | 0.2108875    | -0.06577307  |  0.020432219 |\n",
       "| 21843_1#103 | -0.02065975  |  0.017882432 | -0.019780588 | 0.12713250   | -0.04432031  | -0.010911430 | -0.024407791 | -0.03931027  | 0.06883815   | 0.009218694  | ...          | -0.04543236  | -0.13128624  | -0.06491895  | -0.033262391 | 0.063575007  |  0.044047100 | -0.037472203 | 0.1392061    | -0.06160699  |  0.047756355 |\n",
       "| 21843_1#105 |  0.03203034  |  0.029327187 | -0.015424171 | 0.13315777   | -0.03401761  | -0.004702419 | -0.075634975 | -0.02003224  | 0.09548422   | 0.003292832  | ...          | -0.08535482  | -0.14593277  | -0.07771164  | -0.053617513 | 0.141638220  |  0.019637691 |  0.041395040 | 0.1576655    | -0.03509197  |  0.113248113 |\n",
       "\n"
      ],
      "text/plain": [
       "            ENSG00000005059_CCDC109B_.4_110648632_T_A\n",
       "21843_1#10  -0.02336156                              \n",
       "21843_1#100 -0.04797379                              \n",
       "21843_1#101 -0.01707154                              \n",
       "21843_1#102 -0.06849843                              \n",
       "21843_1#103 -0.02065975                              \n",
       "21843_1#105  0.03203034                              \n",
       "            ENSG00000006016_CRLF1_.19_18735221_G_T\n",
       "21843_1#10   0.037167263                          \n",
       "21843_1#100 -0.002567715                          \n",
       "21843_1#101 -0.038323702                          \n",
       "21843_1#102  0.029141143                          \n",
       "21843_1#103  0.017882432                          \n",
       "21843_1#105  0.029327187                          \n",
       "            ENSG00000006459_KDM7A_.7_139913409_G_A\n",
       "21843_1#10  -0.029627685                          \n",
       "21843_1#100 -0.050303678                          \n",
       "21843_1#101  0.001072175                          \n",
       "21843_1#102  0.006591071                          \n",
       "21843_1#103 -0.019780588                          \n",
       "21843_1#105 -0.015424171                          \n",
       "            ENSG00000013297_CLDN11_.3_170402765_T_C\n",
       "21843_1#10  0.18296979                             \n",
       "21843_1#100 0.14204539                             \n",
       "21843_1#101 0.05068042                             \n",
       "21843_1#102 0.27772236                             \n",
       "21843_1#103 0.12713250                             \n",
       "21843_1#105 0.13315777                             \n",
       "            ENSG00000021300_PLEKHB1_.11_73339784_G_A\n",
       "21843_1#10  -0.03793941                             \n",
       "21843_1#100 -0.06425603                             \n",
       "21843_1#101 -0.04211749                             \n",
       "21843_1#102  0.05210891                             \n",
       "21843_1#103 -0.04432031                             \n",
       "21843_1#105 -0.03401761                             \n",
       "            ENSG00000029639_TFB1M_.6_155635808_C_G\n",
       "21843_1#10  -0.029324411                          \n",
       "21843_1#100 -0.017894114                          \n",
       "21843_1#101 -0.028163711                          \n",
       "21843_1#102 -0.039448204                          \n",
       "21843_1#103 -0.010911430                          \n",
       "21843_1#105 -0.004702419                          \n",
       "            ENSG00000033178_UBA6_.4_68480525_C_T\n",
       "21843_1#10   0.031398501                        \n",
       "21843_1#100 -0.064683766                        \n",
       "21843_1#101 -0.079442257                        \n",
       "21843_1#102  0.002744249                        \n",
       "21843_1#103 -0.024407791                        \n",
       "21843_1#105 -0.075634975                        \n",
       "            ENSG00000035115_SH3YL1_.2_256116_G_T\n",
       "21843_1#10  -0.03962300                         \n",
       "21843_1#100 -0.08820444                         \n",
       "21843_1#101 -0.05854781                         \n",
       "21843_1#102 -0.08783030                         \n",
       "21843_1#103 -0.03931027                         \n",
       "21843_1#105 -0.02003224                         \n",
       "            ENSG00000059377_TBXAS1_.7_139547370_G_A\n",
       "21843_1#10  0.08013833                             \n",
       "21843_1#100 0.23273882                             \n",
       "21843_1#101 0.14245545                             \n",
       "21843_1#102 0.06083871                             \n",
       "21843_1#103 0.06883815                             \n",
       "21843_1#105 0.09548422                             \n",
       "            ENSG00000063761_ADCK1_.14_78311319_G_A ...\n",
       "21843_1#10  0.027498382                            ...\n",
       "21843_1#100 0.040375905                            ...\n",
       "21843_1#101 0.019225081                            ...\n",
       "21843_1#102 0.034590880                            ...\n",
       "21843_1#103 0.009218694                            ...\n",
       "21843_1#105 0.003292832                            ...\n",
       "            ENSG00000248098_BCKDHA_.19_41937095_G_A\n",
       "21843_1#10  -0.08185803                            \n",
       "21843_1#100 -0.16133495                            \n",
       "21843_1#101 -0.08464140                            \n",
       "21843_1#102 -0.05465162                            \n",
       "21843_1#103 -0.04543236                            \n",
       "21843_1#105 -0.08535482                            \n",
       "            ENSG00000248124_RRN3P1_.16_21818292_A_C\n",
       "21843_1#10  -0.10862369                            \n",
       "21843_1#100 -0.45571807                            \n",
       "21843_1#101 -0.22917228                            \n",
       "21843_1#102 -0.09382258                            \n",
       "21843_1#103 -0.13128624                            \n",
       "21843_1#105 -0.14593277                            \n",
       "            ENSG00000250317_SMIM20_.4_25918516_A_G\n",
       "21843_1#10  -0.10317566                           \n",
       "21843_1#100 -0.09858982                           \n",
       "21843_1#101 -0.08647358                           \n",
       "21843_1#102 -0.12475134                           \n",
       "21843_1#103 -0.06491895                           \n",
       "21843_1#105 -0.07771164                           \n",
       "            ENSG00000253203_GUSBP3_.5_68922087_T_G\n",
       "21843_1#10  -0.048543205                          \n",
       "21843_1#100 -0.095641305                          \n",
       "21843_1#101 -0.027566411                          \n",
       "21843_1#102 -0.009728905                          \n",
       "21843_1#103 -0.033262391                          \n",
       "21843_1#105 -0.053617513                          \n",
       "            ENSG00000254184_TYW1B_.7_72200923_G_A\n",
       "21843_1#10  0.095111678                          \n",
       "21843_1#100 0.007662211                          \n",
       "21843_1#101 0.030433187                          \n",
       "21843_1#102 0.052761776                          \n",
       "21843_1#103 0.063575007                          \n",
       "21843_1#105 0.141638220                          \n",
       "            ENSG00000256018_HIST1H3G_.6_26198845_G_C\n",
       "21843_1#10  -0.002571070                            \n",
       "21843_1#100 -0.001386594                            \n",
       "21843_1#101 -0.038522875                            \n",
       "21843_1#102 -0.008942713                            \n",
       "21843_1#103  0.044047100                            \n",
       "21843_1#105  0.019637691                            \n",
       "            ENSG00000256073_C21orf119_.21_33728588_C_A\n",
       "21843_1#10  -0.055608331                              \n",
       "21843_1#100 -0.094118770                              \n",
       "21843_1#101 -0.007152012                              \n",
       "21843_1#102 -0.024298554                              \n",
       "21843_1#103 -0.037472203                              \n",
       "21843_1#105  0.041395040                              \n",
       "            ENSG00000259024_TVP23C.CDRT4_.17_15434991_C_T\n",
       "21843_1#10  0.1931245                                    \n",
       "21843_1#100 0.2614240                                    \n",
       "21843_1#101 0.1489600                                    \n",
       "21843_1#102 0.2108875                                    \n",
       "21843_1#103 0.1392061                                    \n",
       "21843_1#105 0.1576655                                    \n",
       "            ENSG00000259803_SLC22A31_.16_89234110_G_C\n",
       "21843_1#10  -0.06168149                              \n",
       "21843_1#100 -0.16271379                              \n",
       "21843_1#101 -0.08467373                              \n",
       "21843_1#102 -0.06577307                              \n",
       "21843_1#103 -0.06160699                              \n",
       "21843_1#105 -0.03509197                              \n",
       "            ENSG00000267323_SLC25A1P5_.19_28298186_T_C\n",
       "21843_1#10   0.054686251                              \n",
       "21843_1#100 -0.037051849                              \n",
       "21843_1#101 -0.001068028                              \n",
       "21843_1#102  0.020432219                              \n",
       "21843_1#103  0.047756355                              \n",
       "21843_1#105  0.113248113                              "
      ]
     },
     "metadata": {},
     "output_type": "display_data"
    }
   ],
   "source": [
    "df_beta = read.csv(\"/hps/nobackup/stegle/users/acuomo/all_scripts/struct_LMM2/sc_endodiff/debug_May2021/genetic_effect/MOFA10/eqtl_tot_genetic_effect_all.txt\", sep=\"\\t\",row.names = 1)\n",
    "head(df_beta)"
   ]
  },
  {
   "cell_type": "code",
   "execution_count": 2,
   "id": "c54b1ee9",
   "metadata": {},
   "outputs": [
    {
     "data": {
      "text/html": [
       "'ENSG00000109625_CPZ_.4_8567600_T_A'"
      ],
      "text/latex": [
       "'ENSG00000109625\\_CPZ\\_.4\\_8567600\\_T\\_A'"
      ],
      "text/markdown": [
       "'ENSG00000109625_CPZ_.4_8567600_T_A'"
      ],
      "text/plain": [
       "[1] \"ENSG00000109625_CPZ_.4_8567600_T_A\""
      ]
     },
     "metadata": {},
     "output_type": "display_data"
    }
   ],
   "source": [
    "colnames(df_beta)[grep(\"CPZ\",colnames(df_beta))]"
   ]
  },
  {
   "cell_type": "code",
   "execution_count": 68,
   "id": "f646956e",
   "metadata": {},
   "outputs": [
    {
     "name": "stdout",
     "output_type": "stream",
     "text": [
      "character(0)\n",
      "character(0)\n",
      "character(0)\n",
      "character(0)\n",
      "character(0)\n",
      "character(0)\n",
      "character(0)\n",
      "character(0)\n",
      "character(0)\n",
      "character(0)\n",
      "character(0)\n",
      "character(0)\n",
      "character(0)\n",
      "character(0)\n",
      "character(0)\n",
      "character(0)\n",
      "character(0)\n"
     ]
    }
   ],
   "source": [
    "for (ig in int_genes){\n",
    "    print(colnames(df_beta)[grep(ig,colnames(df_beta))])\n",
    "}"
   ]
  },
  {
   "cell_type": "code",
   "execution_count": 61,
   "id": "a59b492b",
   "metadata": {},
   "outputs": [
    {
     "data": {
      "text/html": [],
      "text/latex": [],
      "text/markdown": [],
      "text/plain": [
       "integer(0)"
      ]
     },
     "metadata": {},
     "output_type": "display_data"
    },
    {
     "data": {
      "text/html": [],
      "text/latex": [],
      "text/markdown": [],
      "text/plain": [
       "integer(0)"
      ]
     },
     "metadata": {},
     "output_type": "display_data"
    }
   ],
   "source": [
    "grep(\"ENSG00000271043\",colnames(df_beta))\n",
    "grep(\"PTPRS\",colnames(df_beta))"
   ]
  },
  {
   "cell_type": "code",
   "execution_count": null,
   "id": "91c3ebe2",
   "metadata": {},
   "outputs": [],
   "source": []
  },
  {
   "cell_type": "code",
   "execution_count": null,
   "id": "b05bfffe",
   "metadata": {},
   "outputs": [],
   "source": [
    "# compare power"
   ]
  },
  {
   "cell_type": "code",
   "execution_count": 53,
   "id": "963036f9",
   "metadata": {},
   "outputs": [
    {
     "data": {
      "text/html": [
       "10782"
      ],
      "text/latex": [
       "10782"
      ],
      "text/markdown": [
       "10782"
      ],
      "text/plain": [
       "[1] 10782"
      ]
     },
     "metadata": {},
     "output_type": "display_data"
    },
    {
     "data": {
      "text/html": [
       "11061"
      ],
      "text/latex": [
       "11061"
      ],
      "text/markdown": [
       "11061"
      ],
      "text/plain": [
       "[1] 11061"
      ]
     },
     "metadata": {},
     "output_type": "display_data"
    }
   ],
   "source": [
    "leads_common = leads[leads$ensembl_gene_id %in% common_genes,]\n",
    "df_common = df[df$feature_id %in% common_genes,]\n",
    "nrow(leads_common)\n",
    "nrow(df_common)"
   ]
  },
  {
   "cell_type": "code",
   "execution_count": 57,
   "id": "36628699",
   "metadata": {},
   "outputs": [],
   "source": [
    "library(qvalue)\n",
    "df_common$global_corr_p_value = qvalue(df_common$empirical_feature_p_value)$qvalues"
   ]
  },
  {
   "cell_type": "code",
   "execution_count": 78,
   "id": "582b4f39",
   "metadata": {},
   "outputs": [
    {
     "data": {
      "text/html": [
       "<ol class=list-inline>\n",
       "\t<li>2079</li>\n",
       "\t<li>0.192821368948247</li>\n",
       "</ol>\n"
      ],
      "text/latex": [
       "\\begin{enumerate*}\n",
       "\\item 2079\n",
       "\\item 0.192821368948247\n",
       "\\end{enumerate*}\n"
      ],
      "text/markdown": [
       "1. 2079\n",
       "2. 0.192821368948247\n",
       "\n",
       "\n"
      ],
      "text/plain": [
       "[1] 2079.0000000    0.1928214"
      ]
     },
     "metadata": {},
     "output_type": "display_data"
    },
    {
     "data": {
      "text/html": [
       "<ol class=list-inline>\n",
       "\t<li>1802</li>\n",
       "\t<li>0.167130402522723</li>\n",
       "</ol>\n"
      ],
      "text/latex": [
       "\\begin{enumerate*}\n",
       "\\item 1802\n",
       "\\item 0.167130402522723\n",
       "\\end{enumerate*}\n"
      ],
      "text/markdown": [
       "1. 1802\n",
       "2. 0.167130402522723\n",
       "\n",
       "\n"
      ],
      "text/plain": [
       "[1] 1802.0000000    0.1671304"
      ]
     },
     "metadata": {},
     "output_type": "display_data"
    }
   ],
   "source": [
    "c(length(unique(leads_common[leads_common$global_corr_p_value < 0.05,\"feature\"])),\n",
    "length(unique(leads_common[leads_common$global_corr_p_value < 0.05,\"feature\"]))/length(unique(leads_common$feature)))\n",
    "c(length(unique(df_common[df_common$global_corr_p_value < 0.05,\"feature_id\"])),\n",
    "length(unique(df_common[df_common$global_corr_p_value < 0.05,\"feature_id\"]))/length(unique(df_common$feature_id)))"
   ]
  },
  {
   "cell_type": "code",
   "execution_count": null,
   "id": "40400a31",
   "metadata": {},
   "outputs": [],
   "source": []
  }
 ],
 "metadata": {
  "kernelspec": {
   "display_name": "R",
   "language": "R",
   "name": "ir"
  },
  "language_info": {
   "codemirror_mode": "r",
   "file_extension": ".r",
   "mimetype": "text/x-r-source",
   "name": "R",
   "pygments_lexer": "r",
   "version": "3.6.1"
  }
 },
 "nbformat": 4,
 "nbformat_minor": 5
}
