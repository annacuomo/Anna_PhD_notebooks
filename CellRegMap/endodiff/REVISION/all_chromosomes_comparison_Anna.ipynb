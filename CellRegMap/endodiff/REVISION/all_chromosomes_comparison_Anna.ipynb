{
 "cells": [
  {
   "cell_type": "code",
   "execution_count": 50,
   "id": "df540fe4",
   "metadata": {},
   "outputs": [],
   "source": [
    "library(dplyr)\n",
    "library(ggplot2)"
   ]
  },
  {
   "cell_type": "code",
   "execution_count": 2,
   "id": "0faca119",
   "metadata": {},
   "outputs": [],
   "source": [
    "##### results from paper (Cuomo*, Seaton*, McCarthy* et al Nat Commun 2020)"
   ]
  },
  {
   "cell_type": "code",
   "execution_count": 3,
   "id": "6079fbc2",
   "metadata": {},
   "outputs": [],
   "source": [
    "# union of ips + mesendo + defendo eQTL (pseudobulk, expanded K)"
   ]
  },
  {
   "cell_type": "code",
   "execution_count": 4,
   "id": "62d39ce5",
   "metadata": {},
   "outputs": [],
   "source": [
    "# load lead variant results sc stages (iPS, mesendo, defendo)\n",
    "leads.ips = read.csv(\"/nfs/leia/research/stegle/acuomo/mean/day0/all_expts/leads.csv\", row.names = 1)\n",
    "leads.mes = read.csv(\"/nfs/leia/research/stegle/acuomo/mean/mesendo_est_June20/leads.csv\", row.names = 1)\n",
    "leads.defendo = read.csv(\"/nfs/leia/research/stegle/acuomo/mean/defendo_est_June20/leads.csv\", row.names = 1)"
   ]
  },
  {
   "cell_type": "code",
   "execution_count": 5,
   "id": "5914ff54",
   "metadata": {},
   "outputs": [],
   "source": [
    "leads.ips$stage = \"ips\"\n",
    "leads.mes$stage = \"mesendo\"\n",
    "leads.defendo$stage = \"defendo\""
   ]
  },
  {
   "cell_type": "code",
   "execution_count": 6,
   "id": "f4716c18",
   "metadata": {},
   "outputs": [],
   "source": [
    "### combine results"
   ]
  },
  {
   "cell_type": "code",
   "execution_count": 7,
   "id": "1bc94068",
   "metadata": {},
   "outputs": [],
   "source": [
    "leads = rbind(leads.ips, leads.mes, leads.defendo)"
   ]
  },
  {
   "cell_type": "code",
   "execution_count": 8,
   "id": "294ae10f",
   "metadata": {},
   "outputs": [],
   "source": [
    "leads$ensembl_gene_id = gsub(\"_.*\",\"\",leads$feature)"
   ]
  },
  {
   "cell_type": "code",
   "execution_count": 9,
   "id": "afd908b8",
   "metadata": {},
   "outputs": [
    {
     "data": {
      "text/html": [
       "<table>\n",
       "<thead><tr><th scope=col>beta</th><th scope=col>beta_se</th><th scope=col>empirical_feature_p_value</th><th scope=col>p_value</th><th scope=col>snp_id</th><th scope=col>feature</th><th scope=col>global_corr_p_value</th><th scope=col>chrom</th><th scope=col>pos</th><th scope=col>ref_allele</th><th scope=col>...</th><th scope=col>permutation_2</th><th scope=col>permutation_3</th><th scope=col>permutation_4</th><th scope=col>permutation_5</th><th scope=col>permutation_6</th><th scope=col>permutation_7</th><th scope=col>permutation_8</th><th scope=col>permutation_9</th><th scope=col>stage</th><th scope=col>ensembl_gene_id</th></tr></thead>\n",
       "<tbody>\n",
       "\t<tr><td>-1.0048674            </td><td>0.08005311            </td><td>3.631688e-34          </td><td>3.851118e-36          </td><td>5_149826526_C_T       </td><td>ENSG00000164587_RPS14 </td><td>2.880363e-30          </td><td> 5                    </td><td>149826526             </td><td>C                     </td><td>...                   </td><td>0.56508683            </td><td>0.6296458             </td><td>0.004683908           </td><td>0.5159591             </td><td>0.7734028             </td><td>0.6450821             </td><td>0.6001209             </td><td>0.9876646             </td><td>ips                   </td><td>ENSG00000164587       </td></tr>\n",
       "\t<tr><td>-0.9881017            </td><td>0.08648823            </td><td>2.432216e-26          </td><td>3.147553e-30          </td><td>11_57283988_C_T       </td><td>ENSG00000134809_TIMM10</td><td>8.853960e-23          </td><td>11                    </td><td> 57283988             </td><td>C                     </td><td>...                   </td><td>0.08194005            </td><td>0.6897261             </td><td>0.683497330           </td><td>0.5137511             </td><td>0.7877572             </td><td>0.6064095             </td><td>0.5419861             </td><td>0.5654441             </td><td>ips                   </td><td>ENSG00000134809       </td></tr>\n",
       "</tbody>\n",
       "</table>\n"
      ],
      "text/latex": [
       "\\begin{tabular}{r|lllllllllllllllllllllll}\n",
       " beta & beta\\_se & empirical\\_feature\\_p\\_value & p\\_value & snp\\_id & feature & global\\_corr\\_p\\_value & chrom & pos & ref\\_allele & ... & permutation\\_2 & permutation\\_3 & permutation\\_4 & permutation\\_5 & permutation\\_6 & permutation\\_7 & permutation\\_8 & permutation\\_9 & stage & ensembl\\_gene\\_id\\\\\n",
       "\\hline\n",
       "\t -1.0048674               & 0.08005311               & 3.631688e-34             & 3.851118e-36             & 5\\_149826526\\_C\\_T    & ENSG00000164587\\_RPS14  & 2.880363e-30             &  5                       & 149826526                & C                        & ...                      & 0.56508683               & 0.6296458                & 0.004683908              & 0.5159591                & 0.7734028                & 0.6450821                & 0.6001209                & 0.9876646                & ips                      & ENSG00000164587         \\\\\n",
       "\t -0.9881017               & 0.08648823               & 2.432216e-26             & 3.147553e-30             & 11\\_57283988\\_C\\_T    & ENSG00000134809\\_TIMM10 & 8.853960e-23             & 11                       &  57283988                & C                        & ...                      & 0.08194005               & 0.6897261                & 0.683497330              & 0.5137511                & 0.7877572                & 0.6064095                & 0.5419861                & 0.5654441                & ips                      & ENSG00000134809         \\\\\n",
       "\\end{tabular}\n"
      ],
      "text/markdown": [
       "\n",
       "| beta | beta_se | empirical_feature_p_value | p_value | snp_id | feature | global_corr_p_value | chrom | pos | ref_allele | ... | permutation_2 | permutation_3 | permutation_4 | permutation_5 | permutation_6 | permutation_7 | permutation_8 | permutation_9 | stage | ensembl_gene_id |\n",
       "|---|---|---|---|---|---|---|---|---|---|---|---|---|---|---|---|---|---|---|---|---|\n",
       "| -1.0048674             | 0.08005311             | 3.631688e-34           | 3.851118e-36           | 5_149826526_C_T        | ENSG00000164587_RPS14  | 2.880363e-30           |  5                     | 149826526              | C                      | ...                    | 0.56508683             | 0.6296458              | 0.004683908            | 0.5159591              | 0.7734028              | 0.6450821              | 0.6001209              | 0.9876646              | ips                    | ENSG00000164587        |\n",
       "| -0.9881017             | 0.08648823             | 2.432216e-26           | 3.147553e-30           | 11_57283988_C_T        | ENSG00000134809_TIMM10 | 8.853960e-23           | 11                     |  57283988              | C                      | ...                    | 0.08194005             | 0.6897261              | 0.683497330            | 0.5137511              | 0.7877572              | 0.6064095              | 0.5419861              | 0.5654441              | ips                    | ENSG00000134809        |\n",
       "\n"
      ],
      "text/plain": [
       "  beta       beta_se    empirical_feature_p_value p_value      snp_id         \n",
       "1 -1.0048674 0.08005311 3.631688e-34              3.851118e-36 5_149826526_C_T\n",
       "2 -0.9881017 0.08648823 2.432216e-26              3.147553e-30 11_57283988_C_T\n",
       "  feature                global_corr_p_value chrom pos       ref_allele ...\n",
       "1 ENSG00000164587_RPS14  2.880363e-30         5    149826526 C          ...\n",
       "2 ENSG00000134809_TIMM10 8.853960e-23        11     57283988 C          ...\n",
       "  permutation_2 permutation_3 permutation_4 permutation_5 permutation_6\n",
       "1 0.56508683    0.6296458     0.004683908   0.5159591     0.7734028    \n",
       "2 0.08194005    0.6897261     0.683497330   0.5137511     0.7877572    \n",
       "  permutation_7 permutation_8 permutation_9 stage ensembl_gene_id\n",
       "1 0.6450821     0.6001209     0.9876646     ips   ENSG00000164587\n",
       "2 0.6064095     0.5419861     0.5654441     ips   ENSG00000134809"
      ]
     },
     "metadata": {},
     "output_type": "display_data"
    }
   ],
   "source": [
    "head(leads,2)"
   ]
  },
  {
   "cell_type": "code",
   "execution_count": 10,
   "id": "bf5e2616",
   "metadata": {},
   "outputs": [],
   "source": [
    "#### pick top SNP per gene (min p-value across stages)"
   ]
  },
  {
   "cell_type": "code",
   "execution_count": 11,
   "id": "e763faee",
   "metadata": {},
   "outputs": [
    {
     "data": {
      "text/html": [
       "32665"
      ],
      "text/latex": [
       "32665"
      ],
      "text/markdown": [
       "32665"
      ],
      "text/plain": [
       "[1] 32665"
      ]
     },
     "metadata": {},
     "output_type": "display_data"
    },
    {
     "data": {
      "text/html": [
       "10788"
      ],
      "text/latex": [
       "10788"
      ],
      "text/markdown": [
       "10788"
      ],
      "text/plain": [
       "[1] 10788"
      ]
     },
     "metadata": {},
     "output_type": "display_data"
    }
   ],
   "source": [
    "nrow(leads)\n",
    "leads = leads[order(leads$p_value),]\n",
    "leads = leads[-which(duplicated(leads$feature)),]\n",
    "nrow(leads)"
   ]
  },
  {
   "cell_type": "code",
   "execution_count": 12,
   "id": "26fcc189",
   "metadata": {},
   "outputs": [],
   "source": [
    "input_files_dir = \"/hps/nobackup/stegle/users/acuomo/all_scripts/struct_LMM2/sc_endodiff/new/input_files/\"\n",
    "# write.csv(leads[,c(\"feature\",\"chrom\")], paste0(input_files_dir,\"genes_tested.csv\"))"
   ]
  },
  {
   "cell_type": "code",
   "execution_count": 13,
   "id": "4fb25ded",
   "metadata": {},
   "outputs": [],
   "source": [
    "# load all results sc stages (iPS, mesendo, defendo)\n",
    "res.ips = read.csv(\"/nfs/leia/research/stegle/acuomo/mean/day0/all_expts/allresults.csv\", row.names = 1)\n",
    "res.mes = read.csv(\"/nfs/leia/research/stegle/acuomo/mean/mesendo_est_June20/allresults.csv\", row.names = 1)\n",
    "res.defendo = read.csv(\"/nfs/leia/research/stegle/acuomo/mean/defendo_est_June20/allresults.csv\", row.names = 1)"
   ]
  },
  {
   "cell_type": "code",
   "execution_count": 14,
   "id": "4314e583",
   "metadata": {},
   "outputs": [],
   "source": [
    "res.ips$stage = \"ips\"\n",
    "res.mes$stage = \"mesendo\"\n",
    "res.defendo$stage = \"defendo\""
   ]
  },
  {
   "cell_type": "code",
   "execution_count": 15,
   "id": "ffb08488",
   "metadata": {},
   "outputs": [],
   "source": [
    "res = rbind(res.ips, res.mes, res.defendo)"
   ]
  },
  {
   "cell_type": "code",
   "execution_count": 16,
   "id": "32b3512b",
   "metadata": {},
   "outputs": [],
   "source": [
    "res$ensembl_gene_id = gsub(\"_.*\",\"\",res$feature)"
   ]
  },
  {
   "cell_type": "code",
   "execution_count": 17,
   "id": "69cc2da4",
   "metadata": {},
   "outputs": [
    {
     "data": {
      "text/html": [
       "<table>\n",
       "<thead><tr><th scope=col>beta</th><th scope=col>beta_se</th><th scope=col>empirical_feature_p_value</th><th scope=col>p_value</th><th scope=col>snp_id</th><th scope=col>feature</th><th scope=col>permutation_0</th><th scope=col>permutation_1</th><th scope=col>permutation_2</th><th scope=col>permutation_3</th><th scope=col>...</th><th scope=col>permutation_6</th><th scope=col>permutation_7</th><th scope=col>permutation_8</th><th scope=col>permutation_9</th><th scope=col>ensembl_gene_id</th><th scope=col>chrom</th><th scope=col>pos</th><th scope=col>ref_allele</th><th scope=col>alt_allele</th><th scope=col>stage</th></tr></thead>\n",
       "<tbody>\n",
       "\t<tr><td>0.1034053             </td><td>0.1156505             </td><td>1                     </td><td>0.3712581             </td><td>1_100712195_G_C       </td><td>ENSG00000079335_CDC14A</td><td>0.4119083             </td><td>0.02609394            </td><td>0.6008147             </td><td>0.1373799             </td><td>...                   </td><td>0.1993281             </td><td>0.2655322             </td><td>0.9174491             </td><td>0.8586736             </td><td>ENSG00000079335       </td><td>1                     </td><td>100712195             </td><td>G                     </td><td>C                     </td><td>ips                   </td></tr>\n",
       "\t<tr><td>0.1034053             </td><td>0.1156505             </td><td>1                     </td><td>0.3712581             </td><td>1_100713300_G_T       </td><td>ENSG00000079335_CDC14A</td><td>0.4119083             </td><td>0.02609394            </td><td>0.6008147             </td><td>0.1373799             </td><td>...                   </td><td>0.1993281             </td><td>0.2655322             </td><td>0.9174491             </td><td>0.8586736             </td><td>ENSG00000079335       </td><td>1                     </td><td>100713300             </td><td>G                     </td><td>T                     </td><td>ips                   </td></tr>\n",
       "</tbody>\n",
       "</table>\n"
      ],
      "text/latex": [
       "\\begin{tabular}{r|llllllllllllllllllllll}\n",
       " beta & beta\\_se & empirical\\_feature\\_p\\_value & p\\_value & snp\\_id & feature & permutation\\_0 & permutation\\_1 & permutation\\_2 & permutation\\_3 & ... & permutation\\_6 & permutation\\_7 & permutation\\_8 & permutation\\_9 & ensembl\\_gene\\_id & chrom & pos & ref\\_allele & alt\\_allele & stage\\\\\n",
       "\\hline\n",
       "\t 0.1034053                & 0.1156505                & 1                        & 0.3712581                & 1\\_100712195\\_G\\_C    & ENSG00000079335\\_CDC14A & 0.4119083                & 0.02609394               & 0.6008147                & 0.1373799                & ...                      & 0.1993281                & 0.2655322                & 0.9174491                & 0.8586736                & ENSG00000079335          & 1                        & 100712195                & G                        & C                        & ips                     \\\\\n",
       "\t 0.1034053                & 0.1156505                & 1                        & 0.3712581                & 1\\_100713300\\_G\\_T    & ENSG00000079335\\_CDC14A & 0.4119083                & 0.02609394               & 0.6008147                & 0.1373799                & ...                      & 0.1993281                & 0.2655322                & 0.9174491                & 0.8586736                & ENSG00000079335          & 1                        & 100713300                & G                        & T                        & ips                     \\\\\n",
       "\\end{tabular}\n"
      ],
      "text/markdown": [
       "\n",
       "| beta | beta_se | empirical_feature_p_value | p_value | snp_id | feature | permutation_0 | permutation_1 | permutation_2 | permutation_3 | ... | permutation_6 | permutation_7 | permutation_8 | permutation_9 | ensembl_gene_id | chrom | pos | ref_allele | alt_allele | stage |\n",
       "|---|---|---|---|---|---|---|---|---|---|---|---|---|---|---|---|---|---|---|---|---|\n",
       "| 0.1034053              | 0.1156505              | 1                      | 0.3712581              | 1_100712195_G_C        | ENSG00000079335_CDC14A | 0.4119083              | 0.02609394             | 0.6008147              | 0.1373799              | ...                    | 0.1993281              | 0.2655322              | 0.9174491              | 0.8586736              | ENSG00000079335        | 1                      | 100712195              | G                      | C                      | ips                    |\n",
       "| 0.1034053              | 0.1156505              | 1                      | 0.3712581              | 1_100713300_G_T        | ENSG00000079335_CDC14A | 0.4119083              | 0.02609394             | 0.6008147              | 0.1373799              | ...                    | 0.1993281              | 0.2655322              | 0.9174491              | 0.8586736              | ENSG00000079335        | 1                      | 100713300              | G                      | T                      | ips                    |\n",
       "\n"
      ],
      "text/plain": [
       "  beta      beta_se   empirical_feature_p_value p_value   snp_id         \n",
       "1 0.1034053 0.1156505 1                         0.3712581 1_100712195_G_C\n",
       "2 0.1034053 0.1156505 1                         0.3712581 1_100713300_G_T\n",
       "  feature                permutation_0 permutation_1 permutation_2\n",
       "1 ENSG00000079335_CDC14A 0.4119083     0.02609394    0.6008147    \n",
       "2 ENSG00000079335_CDC14A 0.4119083     0.02609394    0.6008147    \n",
       "  permutation_3 ... permutation_6 permutation_7 permutation_8 permutation_9\n",
       "1 0.1373799     ... 0.1993281     0.2655322     0.9174491     0.8586736    \n",
       "2 0.1373799     ... 0.1993281     0.2655322     0.9174491     0.8586736    \n",
       "  ensembl_gene_id chrom pos       ref_allele alt_allele stage\n",
       "1 ENSG00000079335 1     100712195 G          C          ips  \n",
       "2 ENSG00000079335 1     100713300 G          T          ips  "
      ]
     },
     "metadata": {},
     "output_type": "display_data"
    }
   ],
   "source": [
    "head(res,2)"
   ]
  },
  {
   "cell_type": "code",
   "execution_count": 18,
   "id": "c7b69626",
   "metadata": {},
   "outputs": [],
   "source": [
    "#### pick top eQTL per stage (min p-value across stages)"
   ]
  },
  {
   "cell_type": "code",
   "execution_count": 19,
   "id": "3f467029",
   "metadata": {},
   "outputs": [
    {
     "data": {
      "text/html": [
       "16059303"
      ],
      "text/latex": [
       "16059303"
      ],
      "text/markdown": [
       "16059303"
      ],
      "text/plain": [
       "[1] 16059303"
      ]
     },
     "metadata": {},
     "output_type": "display_data"
    }
   ],
   "source": [
    "res$eqtl = paste0(res$feature,\"-\",res$snp_id)\n",
    "nrow(res)"
   ]
  },
  {
   "cell_type": "code",
   "execution_count": 20,
   "id": "ef842939",
   "metadata": {},
   "outputs": [
    {
     "data": {
      "text/html": [
       "5567940"
      ],
      "text/latex": [
       "5567940"
      ],
      "text/markdown": [
       "5567940"
      ],
      "text/plain": [
       "[1] 5567940"
      ]
     },
     "metadata": {},
     "output_type": "display_data"
    }
   ],
   "source": [
    "res = res[order(res$p_value),]\n",
    "res = res[-which(duplicated(res$eqtl)),]\n",
    "nrow(res)"
   ]
  },
  {
   "cell_type": "code",
   "execution_count": null,
   "id": "8753c2b6",
   "metadata": {},
   "outputs": [],
   "source": []
  },
  {
   "cell_type": "code",
   "execution_count": 21,
   "id": "da0e851f",
   "metadata": {},
   "outputs": [],
   "source": [
    "##### CellRegMap association test"
   ]
  },
  {
   "cell_type": "code",
   "execution_count": 22,
   "id": "0c5741ac",
   "metadata": {},
   "outputs": [],
   "source": [
    "revision_folder = \"/hps/nobackup/stegle/users/acuomo/all_scripts/struct_LMM2/sc_endodiff/debug_May2021/REVISION/\"\n",
    "crm_file = paste0(revision_folder, \"CRM_association/summary.csv\")"
   ]
  },
  {
   "cell_type": "code",
   "execution_count": 51,
   "id": "0da39550",
   "metadata": {},
   "outputs": [
    {
     "data": {
      "text/html": [
       "10003258"
      ],
      "text/latex": [
       "10003258"
      ],
      "text/markdown": [
       "10003258"
      ],
      "text/plain": [
       "[1] 10003258"
      ]
     },
     "metadata": {},
     "output_type": "display_data"
    },
    {
     "data": {
      "text/html": [
       "<table>\n",
       "<thead><tr><th></th><th scope=col>feature_id</th><th scope=col>n_snps</th><th scope=col>feature_chromosome</th><th scope=col>p_value</th><th scope=col>snp_id</th><th scope=col>p_value_Bonferroni</th></tr></thead>\n",
       "<tbody>\n",
       "\t<tr><th scope=row>0</th><td>ENSG00000250462</td><td>909            </td><td>17             </td><td>0.5215900      </td><td>17_28857239_G_A</td><td>1              </td></tr>\n",
       "\t<tr><th scope=row>1</th><td>ENSG00000250462</td><td>909            </td><td>17             </td><td>0.6535075      </td><td>17_28857794_C_T</td><td>1              </td></tr>\n",
       "</tbody>\n",
       "</table>\n"
      ],
      "text/latex": [
       "\\begin{tabular}{r|llllll}\n",
       "  & feature\\_id & n\\_snps & feature\\_chromosome & p\\_value & snp\\_id & p\\_value\\_Bonferroni\\\\\n",
       "\\hline\n",
       "\t0 & ENSG00000250462       & 909                   & 17                    & 0.5215900             & 17\\_28857239\\_G\\_A & 1                    \\\\\n",
       "\t1 & ENSG00000250462       & 909                   & 17                    & 0.6535075             & 17\\_28857794\\_C\\_T & 1                    \\\\\n",
       "\\end{tabular}\n"
      ],
      "text/markdown": [
       "\n",
       "| <!--/--> | feature_id | n_snps | feature_chromosome | p_value | snp_id | p_value_Bonferroni |\n",
       "|---|---|---|---|---|---|---|\n",
       "| 0 | ENSG00000250462 | 909             | 17              | 0.5215900       | 17_28857239_G_A | 1               |\n",
       "| 1 | ENSG00000250462 | 909             | 17              | 0.6535075       | 17_28857794_C_T | 1               |\n",
       "\n"
      ],
      "text/plain": [
       "  feature_id      n_snps feature_chromosome p_value   snp_id         \n",
       "0 ENSG00000250462 909    17                 0.5215900 17_28857239_G_A\n",
       "1 ENSG00000250462 909    17                 0.6535075 17_28857794_C_T\n",
       "  p_value_Bonferroni\n",
       "0 1                 \n",
       "1 1                 "
      ]
     },
     "metadata": {},
     "output_type": "display_data"
    }
   ],
   "source": [
    "crm = read.csv(crm_file, row.names=1)\n",
    "colnames(crm) = c(\"feature_id\", \"n_snps\", \"feature_chromosome\",\"p_value\",\"snp_id\",\"p_value_Bonferroni\") \n",
    "nrow(crm)\n",
    "head(crm,2)"
   ]
  },
  {
   "cell_type": "code",
   "execution_count": 52,
   "id": "a5cbe72e",
   "metadata": {},
   "outputs": [
    {
     "data": {
      "text/html": [
       "10493"
      ],
      "text/latex": [
       "10493"
      ],
      "text/markdown": [
       "10493"
      ],
      "text/plain": [
       "[1] 10493"
      ]
     },
     "metadata": {},
     "output_type": "display_data"
    }
   ],
   "source": [
    "# number of genes\n",
    "df0 = crm\n",
    "length(unique(df0$feature_id))"
   ]
  },
  {
   "cell_type": "code",
   "execution_count": 53,
   "id": "2ee19758",
   "metadata": {},
   "outputs": [],
   "source": [
    "df = df0[order(df0$p_value),]\n",
    "df = df[-which(duplicated(df$feature_id)),]"
   ]
  },
  {
   "cell_type": "code",
   "execution_count": 54,
   "id": "dba82560",
   "metadata": {},
   "outputs": [],
   "source": [
    "####################\n",
    "#### merge"
   ]
  },
  {
   "cell_type": "code",
   "execution_count": 55,
   "id": "a1cbdf98",
   "metadata": {},
   "outputs": [],
   "source": [
    "genes_new = as.character(unique(df0$feature_id))\n",
    "genes_old = as.character(unique(res$ensembl_gene_id))"
   ]
  },
  {
   "cell_type": "code",
   "execution_count": 56,
   "id": "ac810ecf",
   "metadata": {},
   "outputs": [
    {
     "data": {
      "text/html": [
       "10788"
      ],
      "text/latex": [
       "10788"
      ],
      "text/markdown": [
       "10788"
      ],
      "text/plain": [
       "[1] 10788"
      ]
     },
     "metadata": {},
     "output_type": "display_data"
    },
    {
     "data": {
      "text/html": [
       "<ol class=list-inline>\n",
       "\t<li>'ENSG00000163682'</li>\n",
       "\t<li>'ENSG00000226278'</li>\n",
       "</ol>\n"
      ],
      "text/latex": [
       "\\begin{enumerate*}\n",
       "\\item 'ENSG00000163682'\n",
       "\\item 'ENSG00000226278'\n",
       "\\end{enumerate*}\n"
      ],
      "text/markdown": [
       "1. 'ENSG00000163682'\n",
       "2. 'ENSG00000226278'\n",
       "\n",
       "\n"
      ],
      "text/plain": [
       "[1] \"ENSG00000163682\" \"ENSG00000226278\""
      ]
     },
     "metadata": {},
     "output_type": "display_data"
    }
   ],
   "source": [
    "length(genes_old)\n",
    "head(genes_old,2)"
   ]
  },
  {
   "cell_type": "code",
   "execution_count": 57,
   "id": "0f878ca6",
   "metadata": {},
   "outputs": [
    {
     "data": {
      "text/html": [
       "10493"
      ],
      "text/latex": [
       "10493"
      ],
      "text/markdown": [
       "10493"
      ],
      "text/plain": [
       "[1] 10493"
      ]
     },
     "metadata": {},
     "output_type": "display_data"
    },
    {
     "data": {
      "text/html": [
       "<ol class=list-inline>\n",
       "\t<li>'ENSG00000250462'</li>\n",
       "\t<li>'ENSG00000131558'</li>\n",
       "</ol>\n"
      ],
      "text/latex": [
       "\\begin{enumerate*}\n",
       "\\item 'ENSG00000250462'\n",
       "\\item 'ENSG00000131558'\n",
       "\\end{enumerate*}\n"
      ],
      "text/markdown": [
       "1. 'ENSG00000250462'\n",
       "2. 'ENSG00000131558'\n",
       "\n",
       "\n"
      ],
      "text/plain": [
       "[1] \"ENSG00000250462\" \"ENSG00000131558\""
      ]
     },
     "metadata": {},
     "output_type": "display_data"
    }
   ],
   "source": [
    "length(genes_new)\n",
    "head(genes_new,2)"
   ]
  },
  {
   "cell_type": "code",
   "execution_count": 58,
   "id": "9f2a5f5f",
   "metadata": {},
   "outputs": [
    {
     "data": {
      "text/html": [
       "10493"
      ],
      "text/latex": [
       "10493"
      ],
      "text/markdown": [
       "10493"
      ],
      "text/plain": [
       "[1] 10493"
      ]
     },
     "metadata": {},
     "output_type": "display_data"
    }
   ],
   "source": [
    "common_genes = genes_new[genes_new %in% genes_old]\n",
    "length(common_genes)"
   ]
  },
  {
   "cell_type": "code",
   "execution_count": 59,
   "id": "c4f08780",
   "metadata": {},
   "outputs": [],
   "source": [
    "########## new leads & old results"
   ]
  },
  {
   "cell_type": "code",
   "execution_count": 60,
   "id": "8b43b8ad",
   "metadata": {},
   "outputs": [],
   "source": [
    "df$ensembl_gene_id = df$feature_id"
   ]
  },
  {
   "cell_type": "code",
   "execution_count": 61,
   "id": "56487862",
   "metadata": {},
   "outputs": [],
   "source": [
    "df1 = inner_join(df,res, by=c(\"ensembl_gene_id\",\"snp_id\"), suffix = c(\".new\",\".old\"))"
   ]
  },
  {
   "cell_type": "code",
   "execution_count": 62,
   "id": "5d245228",
   "metadata": {},
   "outputs": [
    {
     "data": {
      "text/html": [
       "4600"
      ],
      "text/latex": [
       "4600"
      ],
      "text/markdown": [
       "4600"
      ],
      "text/plain": [
       "[1] 4600"
      ]
     },
     "metadata": {},
     "output_type": "display_data"
    }
   ],
   "source": [
    "nrow(df1)"
   ]
  },
  {
   "cell_type": "code",
   "execution_count": 63,
   "id": "37abfb75",
   "metadata": {},
   "outputs": [
    {
     "data": {
      "text/plain": [
       "\n",
       "\tPearson's product-moment correlation\n",
       "\n",
       "data:  -log10(df1$p_value.new) and -log10(df1$p_value.old)\n",
       "t = 89.003, df = 4598, p-value < 2.2e-16\n",
       "alternative hypothesis: true correlation is not equal to 0\n",
       "95 percent confidence interval:\n",
       " 0.7845814 0.8058203\n",
       "sample estimates:\n",
       "     cor \n",
       "0.795445 \n"
      ]
     },
     "metadata": {},
     "output_type": "display_data"
    }
   ],
   "source": [
    "cor.test(-log10(df1$p_value.new),-log10(df1$p_value.old))"
   ]
  },
  {
   "cell_type": "code",
   "execution_count": 64,
   "id": "329ee17f",
   "metadata": {},
   "outputs": [
    {
     "data": {
      "image/png": "[encoded data removed]",
      "text/plain": [
       "plot without title"
      ]
     },
     "metadata": {},
     "output_type": "display_data"
    }
   ],
   "source": [
    "options(repr.plot.width = 5, repr.plot.height = 5)\n",
    "ggplot(df1, aes(x=-log10(p_value.new),y=-log10(p_value.old))) + geom_point() + theme_bw() + geom_abline()"
   ]
  },
  {
   "cell_type": "code",
   "execution_count": 65,
   "id": "67f8829c",
   "metadata": {},
   "outputs": [],
   "source": [
    "########## old leads & new results"
   ]
  },
  {
   "cell_type": "code",
   "execution_count": 66,
   "id": "9c3da967",
   "metadata": {},
   "outputs": [],
   "source": [
    "df0$ensembl_gene_id = df0$feature_id\n",
    "df2 = inner_join(df0,leads, by=c(\"ensembl_gene_id\",\"snp_id\"), suffix = c(\".new\",\".old\"))"
   ]
  },
  {
   "cell_type": "code",
   "execution_count": 67,
   "id": "98f836c8",
   "metadata": {},
   "outputs": [
    {
     "data": {
      "text/html": [
       "10493"
      ],
      "text/latex": [
       "10493"
      ],
      "text/markdown": [
       "10493"
      ],
      "text/plain": [
       "[1] 10493"
      ]
     },
     "metadata": {},
     "output_type": "display_data"
    }
   ],
   "source": [
    "nrow(df2)"
   ]
  },
  {
   "cell_type": "code",
   "execution_count": 68,
   "id": "8d8d5462",
   "metadata": {},
   "outputs": [
    {
     "data": {
      "text/plain": [
       "\n",
       "\tPearson's product-moment correlation\n",
       "\n",
       "data:  -log10(df2$p_value.new) and -log10(df2$p_value.old)\n",
       "t = 157.35, df = 10491, p-value < 2.2e-16\n",
       "alternative hypothesis: true correlation is not equal to 0\n",
       "95 percent confidence interval:\n",
       " 0.8323037 0.8436953\n",
       "sample estimates:\n",
       "      cor \n",
       "0.8380908 \n"
      ]
     },
     "metadata": {},
     "output_type": "display_data"
    }
   ],
   "source": [
    "cor.test(-log10(df2$p_value.new),-log10(df2$p_value.old))"
   ]
  },
  {
   "cell_type": "code",
   "execution_count": 69,
   "id": "67d19718",
   "metadata": {},
   "outputs": [
    {
     "data": {
      "image/png": "[encoded data removed]",
      "text/plain": [
       "plot without title"
      ]
     },
     "metadata": {},
     "output_type": "display_data"
    }
   ],
   "source": [
    "ggplot(df2, aes(x=-log10(p_value.new),y=-log10(p_value.old))) + geom_point() + theme_bw() + geom_abline()"
   ]
  },
  {
   "cell_type": "code",
   "execution_count": 70,
   "id": "1516e378",
   "metadata": {},
   "outputs": [],
   "source": [
    "########## old & new results"
   ]
  },
  {
   "cell_type": "code",
   "execution_count": 71,
   "id": "37fb6525",
   "metadata": {},
   "outputs": [],
   "source": [
    "df3 = inner_join(df0,res, by=c(\"ensembl_gene_id\",\"snp_id\"), suffix = c(\".new\",\".old\"))"
   ]
  },
  {
   "cell_type": "code",
   "execution_count": 72,
   "id": "2cbbcbe5",
   "metadata": {},
   "outputs": [
    {
     "data": {
      "text/html": [
       "5413076"
      ],
      "text/latex": [
       "5413076"
      ],
      "text/markdown": [
       "5413076"
      ],
      "text/plain": [
       "[1] 5413076"
      ]
     },
     "metadata": {},
     "output_type": "display_data"
    }
   ],
   "source": [
    "nrow(df3)"
   ]
  },
  {
   "cell_type": "code",
   "execution_count": 73,
   "id": "6dc6dbc4",
   "metadata": {},
   "outputs": [
    {
     "data": {
      "text/plain": [
       "\n",
       "\tPearson's product-moment correlation\n",
       "\n",
       "data:  -log10(df3$p_value.new) and -log10(df3$p_value.old)\n",
       "t = 2829.5, df = 5413074, p-value < 2.2e-16\n",
       "alternative hypothesis: true correlation is not equal to 0\n",
       "95 percent confidence interval:\n",
       " 0.7720667 0.7727463\n",
       "sample estimates:\n",
       "      cor \n",
       "0.7724067 \n"
      ]
     },
     "metadata": {},
     "output_type": "display_data"
    }
   ],
   "source": [
    "cor.test(-log10(df3$p_value.new),-log10(df3$p_value.old))"
   ]
  },
  {
   "cell_type": "code",
   "execution_count": 74,
   "id": "8458b889",
   "metadata": {},
   "outputs": [
    {
     "data": {
      "image/png": "[encoded data removed]",
      "text/plain": [
       "plot without title"
      ]
     },
     "metadata": {},
     "output_type": "display_data"
    }
   ],
   "source": [
    "ggplot(df3, aes(x=-log10(p_value.new),y=-log10(p_value.old))) + geom_point() + theme_bw() + geom_abline()"
   ]
  },
  {
   "cell_type": "code",
   "execution_count": null,
   "id": "589052b5",
   "metadata": {},
   "outputs": [],
   "source": []
  },
  {
   "cell_type": "code",
   "execution_count": 75,
   "id": "b7715879",
   "metadata": {},
   "outputs": [
    {
     "data": {
      "text/html": [
       "<ol class=list-inline>\n",
       "\t<li>'ENSG00000105426'</li>\n",
       "\t<li>'ENSG00000181350'</li>\n",
       "\t<li>'ENSG00000109475'</li>\n",
       "\t<li>'ENSG00000119335'</li>\n",
       "\t<li>'ENSG00000125691'</li>\n",
       "\t<li>'ENSG00000269028'</li>\n",
       "\t<li>'ENSG00000256618'</li>\n",
       "\t<li>'ENSG00000108953'</li>\n",
       "\t<li>'ENSG00000089685'</li>\n",
       "\t<li>'ENSG00000142534'</li>\n",
       "\t<li>'ENSG00000008988'</li>\n",
       "\t<li>'ENSG00000125995'</li>\n",
       "\t<li>'ENSG00000166441'</li>\n",
       "\t<li>'ENSG00000118181'</li>\n",
       "\t<li>'ENSG00000131469'</li>\n",
       "\t<li>'ENSG00000168887'</li>\n",
       "\t<li>'ENSG00000086062'</li>\n",
       "\t<li>'ENSG00000172809'</li>\n",
       "\t<li>'ENSG00000143742'</li>\n",
       "</ol>\n"
      ],
      "text/latex": [
       "\\begin{enumerate*}\n",
       "\\item 'ENSG00000105426'\n",
       "\\item 'ENSG00000181350'\n",
       "\\item 'ENSG00000109475'\n",
       "\\item 'ENSG00000119335'\n",
       "\\item 'ENSG00000125691'\n",
       "\\item 'ENSG00000269028'\n",
       "\\item 'ENSG00000256618'\n",
       "\\item 'ENSG00000108953'\n",
       "\\item 'ENSG00000089685'\n",
       "\\item 'ENSG00000142534'\n",
       "\\item 'ENSG00000008988'\n",
       "\\item 'ENSG00000125995'\n",
       "\\item 'ENSG00000166441'\n",
       "\\item 'ENSG00000118181'\n",
       "\\item 'ENSG00000131469'\n",
       "\\item 'ENSG00000168887'\n",
       "\\item 'ENSG00000086062'\n",
       "\\item 'ENSG00000172809'\n",
       "\\item 'ENSG00000143742'\n",
       "\\end{enumerate*}\n"
      ],
      "text/markdown": [
       "1. 'ENSG00000105426'\n",
       "2. 'ENSG00000181350'\n",
       "3. 'ENSG00000109475'\n",
       "4. 'ENSG00000119335'\n",
       "5. 'ENSG00000125691'\n",
       "6. 'ENSG00000269028'\n",
       "7. 'ENSG00000256618'\n",
       "8. 'ENSG00000108953'\n",
       "9. 'ENSG00000089685'\n",
       "10. 'ENSG00000142534'\n",
       "11. 'ENSG00000008988'\n",
       "12. 'ENSG00000125995'\n",
       "13. 'ENSG00000166441'\n",
       "14. 'ENSG00000118181'\n",
       "15. 'ENSG00000131469'\n",
       "16. 'ENSG00000168887'\n",
       "17. 'ENSG00000086062'\n",
       "18. 'ENSG00000172809'\n",
       "19. 'ENSG00000143742'\n",
       "\n",
       "\n"
      ],
      "text/plain": [
       " [1] \"ENSG00000105426\" \"ENSG00000181350\" \"ENSG00000109475\" \"ENSG00000119335\"\n",
       " [5] \"ENSG00000125691\" \"ENSG00000269028\" \"ENSG00000256618\" \"ENSG00000108953\"\n",
       " [9] \"ENSG00000089685\" \"ENSG00000142534\" \"ENSG00000008988\" \"ENSG00000125995\"\n",
       "[13] \"ENSG00000166441\" \"ENSG00000118181\" \"ENSG00000131469\" \"ENSG00000168887\"\n",
       "[17] \"ENSG00000086062\" \"ENSG00000172809\" \"ENSG00000143742\""
      ]
     },
     "metadata": {},
     "output_type": "display_data"
    }
   ],
   "source": [
    "unique(as.character(df3[-log10(df3$p_value.new)>15 & -log10(df3$p_value.old)<5,\"feature_id\"]))"
   ]
  },
  {
   "cell_type": "code",
   "execution_count": 76,
   "id": "f1bd7940",
   "metadata": {
    "scrolled": true
   },
   "outputs": [
    {
     "data": {
      "text/html": [
       "<table>\n",
       "<thead><tr><th></th><th scope=col>feature_id</th><th scope=col>snp_id</th><th scope=col>p_value.new</th><th scope=col>p_value.old</th><th scope=col>feature</th></tr></thead>\n",
       "<tbody>\n",
       "\t<tr><th scope=row>397102</th><td>ENSG00000105426          </td><td>19_5181195_C_T           </td><td>4.055903e-17             </td><td>0.029758176              </td><td>ENSG00000105426_PTPRS    </td></tr>\n",
       "\t<tr><th scope=row>397110</th><td>ENSG00000105426          </td><td>19_5184684_C_T           </td><td>1.864027e-16             </td><td>0.061413976              </td><td>ENSG00000105426_PTPRS    </td></tr>\n",
       "\t<tr><th scope=row>397127</th><td>ENSG00000105426          </td><td>19_5189297_C_T           </td><td>2.217907e-18             </td><td>0.193563733              </td><td>ENSG00000105426_PTPRS    </td></tr>\n",
       "\t<tr><th scope=row>397131</th><td>ENSG00000105426          </td><td>19_5192372_C_G           </td><td>3.851331e-21             </td><td>0.255973340              </td><td>ENSG00000105426_PTPRS    </td></tr>\n",
       "\t<tr><th scope=row>397276</th><td>ENSG00000105426          </td><td>19_5233070_T_C           </td><td>3.938237e-20             </td><td>0.213547877              </td><td>ENSG00000105426_PTPRS    </td></tr>\n",
       "\t<tr><th scope=row>650761</th><td>ENSG00000181350          </td><td>17_16308654_G_A          </td><td>6.310117e-19             </td><td>0.264086023              </td><td>ENSG00000181350_FAM211A  </td></tr>\n",
       "\t<tr><th scope=row>651024</th><td>ENSG00000181350          </td><td>17_16411522_G_A          </td><td>2.474478e-18             </td><td>0.253063835              </td><td>ENSG00000181350_FAM211A  </td></tr>\n",
       "\t<tr><th scope=row>692593</th><td>ENSG00000109475          </td><td>4_109568463_G_A          </td><td>5.226280e-18             </td><td>0.366416765              </td><td>ENSG00000109475_RPL34    </td></tr>\n",
       "\t<tr><th scope=row>692604</th><td>ENSG00000109475          </td><td>4_109574357_G_A          </td><td>8.134449e-24             </td><td>0.359919847              </td><td>ENSG00000109475_RPL34    </td></tr>\n",
       "\t<tr><th scope=row>692617</th><td>ENSG00000109475          </td><td>4_109579798_C_T          </td><td>5.208943e-18             </td><td>0.181031465              </td><td>ENSG00000109475_RPL34    </td></tr>\n",
       "\t<tr><th scope=row>692630</th><td>ENSG00000109475          </td><td>4_109585997_C_T          </td><td>8.134449e-24             </td><td>0.359919847              </td><td>ENSG00000109475_RPL34    </td></tr>\n",
       "\t<tr><th scope=row>692638</th><td>ENSG00000109475          </td><td>4_109587652_G_C          </td><td>1.350612e-17             </td><td>0.318572593              </td><td>ENSG00000109475_RPL34    </td></tr>\n",
       "\t<tr><th scope=row>692645</th><td>ENSG00000109475          </td><td>4_109592475_C_T          </td><td>8.134449e-24             </td><td>0.359919847              </td><td>ENSG00000109475_RPL34    </td></tr>\n",
       "\t<tr><th scope=row>692651</th><td>ENSG00000109475          </td><td>4_109595582_T_A          </td><td>1.216025e-22             </td><td>0.568606134              </td><td>ENSG00000109475_RPL34    </td></tr>\n",
       "\t<tr><th scope=row>692686</th><td>ENSG00000109475          </td><td>4_109612771_A_G          </td><td>3.306977e-16             </td><td>0.563790094              </td><td>ENSG00000109475_RPL34    </td></tr>\n",
       "\t<tr><th scope=row>692691</th><td>ENSG00000109475          </td><td>4_109613107_C_T          </td><td>1.263860e-23             </td><td>0.057650911              </td><td>ENSG00000109475_RPL34    </td></tr>\n",
       "\t<tr><th scope=row>692724</th><td>ENSG00000109475          </td><td>4_109628025_A_C          </td><td>2.127678e-17             </td><td>0.381300537              </td><td>ENSG00000109475_RPL34    </td></tr>\n",
       "\t<tr><th scope=row>744673</th><td>ENSG00000119335          </td><td>9_131476236_G_A          </td><td>4.623305e-17             </td><td>0.529138346              </td><td>ENSG00000119335_SET      </td></tr>\n",
       "\t<tr><th scope=row>786814</th><td>ENSG00000125691          </td><td>17_36911933_A_G          </td><td>4.710052e-20             </td><td>0.052833682              </td><td>ENSG00000125691_RPL23    </td></tr>\n",
       "\t<tr><th scope=row>786838</th><td>ENSG00000125691          </td><td>17_36927055_G_A          </td><td>2.297727e-23             </td><td>0.019836638              </td><td>ENSG00000125691_RPL23    </td></tr>\n",
       "\t<tr><th scope=row>786839</th><td>ENSG00000125691          </td><td>17_36927056_C_T          </td><td>2.297727e-23             </td><td>0.019836638              </td><td>ENSG00000125691_RPL23    </td></tr>\n",
       "\t<tr><th scope=row>786902</th><td>ENSG00000125691          </td><td>17_36975354_T_C          </td><td>1.781593e-21             </td><td>0.410396224              </td><td>ENSG00000125691_RPL23    </td></tr>\n",
       "\t<tr><th scope=row>786903</th><td>ENSG00000125691          </td><td>17_36975732_G_T          </td><td>1.781593e-21             </td><td>0.410396224              </td><td>ENSG00000125691_RPL23    </td></tr>\n",
       "\t<tr><th scope=row>786904</th><td>ENSG00000125691          </td><td>17_36975903_C_T          </td><td>1.786071e-26             </td><td>0.348443000              </td><td>ENSG00000125691_RPL23    </td></tr>\n",
       "\t<tr><th scope=row>881382</th><td>ENSG00000269028          </td><td>3_96248222_C_T           </td><td>1.014089e-25             </td><td>0.004346173              </td><td>ENSG00000269028_MTRNR2L12</td></tr>\n",
       "\t<tr><th scope=row>881417</th><td>ENSG00000269028          </td><td>3_96321901_T_A           </td><td>7.022967e-25             </td><td>0.262121326              </td><td>ENSG00000269028_MTRNR2L12</td></tr>\n",
       "\t<tr><th scope=row>881440</th><td>ENSG00000269028          </td><td>3_96338998_A_T           </td><td>3.200395e-21             </td><td>0.588404805              </td><td>ENSG00000269028_MTRNR2L12</td></tr>\n",
       "\t<tr><th scope=row>881441</th><td>ENSG00000269028          </td><td>3_96339059_A_C           </td><td>1.431976e-19             </td><td>0.326992823              </td><td>ENSG00000269028_MTRNR2L12</td></tr>\n",
       "\t<tr><th scope=row>881532</th><td>ENSG00000269028          </td><td>3_96360522_T_C           </td><td>2.144131e-20             </td><td>0.038332616              </td><td>ENSG00000269028_MTRNR2L12</td></tr>\n",
       "\t<tr><th scope=row>1007157</th><td>ENSG00000256618          </td><td>17_21974576_G_T          </td><td>2.148953e-20             </td><td>0.053170125              </td><td>ENSG00000256618_MTRNR2L1 </td></tr>\n",
       "\t<tr><th scope=row>...</th><td>...</td><td>...</td><td>...</td><td>...</td><td>...</td></tr>\n",
       "\t<tr><th scope=row>1461373</th><td>ENSG00000142534        </td><td>19_49966394_C_T        </td><td>3.989087e-21           </td><td>0.1558860946           </td><td>ENSG00000142534_RPS11  </td></tr>\n",
       "\t<tr><th scope=row>1461462</th><td>ENSG00000142534        </td><td>19_50014977_G_A        </td><td>1.058579e-26           </td><td>0.0127211995           </td><td>ENSG00000142534_RPS11  </td></tr>\n",
       "\t<tr><th scope=row>1461586</th><td>ENSG00000142534        </td><td>19_50055209_G_A        </td><td>4.846094e-21           </td><td>0.4740233699           </td><td>ENSG00000142534_RPS11  </td></tr>\n",
       "\t<tr><th scope=row>1591182</th><td>ENSG00000008988        </td><td>8_56910701_G_A         </td><td>1.353065e-19           </td><td>0.6232292227           </td><td>ENSG00000008988_RPS20  </td></tr>\n",
       "\t<tr><th scope=row>1821852</th><td>ENSG00000125995        </td><td>20_34251693_A_G        </td><td>4.203261e-18           </td><td>0.6286294665           </td><td>ENSG00000125995_ROMO1  </td></tr>\n",
       "\t<tr><th scope=row>1822073</th><td>ENSG00000125995        </td><td>20_34364447_A_T        </td><td>4.203261e-18           </td><td>0.9226331751           </td><td>ENSG00000125995_ROMO1  </td></tr>\n",
       "\t<tr><th scope=row>1923632</th><td>ENSG00000166441        </td><td>11_8627912_G_C         </td><td>7.863612e-22           </td><td>0.0001803183           </td><td>ENSG00000166441_RPL27A </td></tr>\n",
       "\t<tr><th scope=row>2598279</th><td>ENSG00000118181        </td><td>11_118877621_G_C       </td><td>3.931425e-24           </td><td>0.1822808196           </td><td>ENSG00000118181_RPS25  </td></tr>\n",
       "\t<tr><th scope=row>2598439</th><td>ENSG00000118181        </td><td>11_118957388_A_T       </td><td>8.774282e-19           </td><td>0.0948621106           </td><td>ENSG00000118181_RPS25  </td></tr>\n",
       "\t<tr><th scope=row>2787696</th><td>ENSG00000131469        </td><td>17_41137136_T_C        </td><td>2.465862e-25           </td><td>0.7106849433           </td><td>ENSG00000131469_RPL27  </td></tr>\n",
       "\t<tr><th scope=row>3866694</th><td>ENSG00000168887        </td><td>2_85796216_G_A         </td><td>5.538498e-17           </td><td>0.5474398453           </td><td>ENSG00000168887_C2orf68</td></tr>\n",
       "\t<tr><th scope=row>4425694</th><td>ENSG00000086062        </td><td>9_33025503_G_A         </td><td>3.839468e-20           </td><td>0.2629709614           </td><td>ENSG00000086062_B4GALT1</td></tr>\n",
       "\t<tr><th scope=row>4426037</th><td>ENSG00000086062        </td><td>9_33160611_A_G         </td><td>3.204047e-20           </td><td>0.3056324395           </td><td>ENSG00000086062_B4GALT1</td></tr>\n",
       "\t<tr><th scope=row>4426039</th><td>ENSG00000086062        </td><td>9_33163059_G_A         </td><td>3.204047e-20           </td><td>0.3056324395           </td><td>ENSG00000086062_B4GALT1</td></tr>\n",
       "\t<tr><th scope=row>4426042</th><td>ENSG00000086062        </td><td>9_33163523_C_G         </td><td>3.204047e-20           </td><td>0.3056324395           </td><td>ENSG00000086062_B4GALT1</td></tr>\n",
       "\t<tr><th scope=row>4426063</th><td>ENSG00000086062        </td><td>9_33174642_G_A         </td><td>5.745096e-20           </td><td>0.2184851135           </td><td>ENSG00000086062_B4GALT1</td></tr>\n",
       "\t<tr><th scope=row>4426073</th><td>ENSG00000086062        </td><td>9_33177053_T_C         </td><td>1.504614e-20           </td><td>0.3475587795           </td><td>ENSG00000086062_B4GALT1</td></tr>\n",
       "\t<tr><th scope=row>4426083</th><td>ENSG00000086062        </td><td>9_33180747_G_A         </td><td>2.053822e-20           </td><td>0.2911107302           </td><td>ENSG00000086062_B4GALT1</td></tr>\n",
       "\t<tr><th scope=row>4560798</th><td>ENSG00000172809        </td><td>17_72114992_A_G        </td><td>7.098726e-30           </td><td>0.2001295710           </td><td>ENSG00000172809_RPL38  </td></tr>\n",
       "\t<tr><th scope=row>4560870</th><td>ENSG00000172809        </td><td>17_72153816_C_T        </td><td>4.176330e-16           </td><td>0.1172017129           </td><td>ENSG00000172809_RPL38  </td></tr>\n",
       "\t<tr><th scope=row>4560871</th><td>ENSG00000172809        </td><td>17_72155302_G_A        </td><td>4.176330e-16           </td><td>0.1172017129           </td><td>ENSG00000172809_RPL38  </td></tr>\n",
       "\t<tr><th scope=row>4560874</th><td>ENSG00000172809        </td><td>17_72156714_C_T        </td><td>4.176330e-16           </td><td>0.1172017129           </td><td>ENSG00000172809_RPL38  </td></tr>\n",
       "\t<tr><th scope=row>4560957</th><td>ENSG00000172809        </td><td>17_72191496_G_C        </td><td>2.839404e-16           </td><td>0.2627521265           </td><td>ENSG00000172809_RPL38  </td></tr>\n",
       "\t<tr><th scope=row>4560958</th><td>ENSG00000172809        </td><td>17_72191649_C_T        </td><td>2.839404e-16           </td><td>0.2627521265           </td><td>ENSG00000172809_RPL38  </td></tr>\n",
       "\t<tr><th scope=row>4560963</th><td>ENSG00000172809        </td><td>17_72192667_C_G        </td><td>1.468311e-20           </td><td>0.4203525498           </td><td>ENSG00000172809_RPL38  </td></tr>\n",
       "\t<tr><th scope=row>4560973</th><td>ENSG00000172809        </td><td>17_72195405_A_G        </td><td>1.642952e-17           </td><td>0.4392920081           </td><td>ENSG00000172809_RPL38  </td></tr>\n",
       "\t<tr><th scope=row>4560976</th><td>ENSG00000172809        </td><td>17_72196124_C_G        </td><td>6.527091e-29           </td><td>0.5402091601           </td><td>ENSG00000172809_RPL38  </td></tr>\n",
       "\t<tr><th scope=row>4560982</th><td>ENSG00000172809        </td><td>17_72198375_G_A        </td><td>2.193184e-18           </td><td>0.2964646290           </td><td>ENSG00000172809_RPL38  </td></tr>\n",
       "\t<tr><th scope=row>4561071</th><td>ENSG00000172809        </td><td>17_72255808_C_T        </td><td>5.493983e-22           </td><td>0.7601694830           </td><td>ENSG00000172809_RPL38  </td></tr>\n",
       "\t<tr><th scope=row>4713598</th><td>ENSG00000143742        </td><td>1_226006792_A_G        </td><td>1.574176e-18           </td><td>0.3636891801           </td><td>ENSG00000143742_SRP9   </td></tr>\n",
       "</tbody>\n",
       "</table>\n"
      ],
      "text/latex": [
       "\\begin{tabular}{r|lllll}\n",
       "  & feature\\_id & snp\\_id & p\\_value.new & p\\_value.old & feature\\\\\n",
       "\\hline\n",
       "\t397102 & ENSG00000105426             & 19\\_5181195\\_C\\_T        & 4.055903e-17                & 0.029758176                 & ENSG00000105426\\_PTPRS    \\\\\n",
       "\t397110 & ENSG00000105426             & 19\\_5184684\\_C\\_T        & 1.864027e-16                & 0.061413976                 & ENSG00000105426\\_PTPRS    \\\\\n",
       "\t397127 & ENSG00000105426             & 19\\_5189297\\_C\\_T        & 2.217907e-18                & 0.193563733                 & ENSG00000105426\\_PTPRS    \\\\\n",
       "\t397131 & ENSG00000105426             & 19\\_5192372\\_C\\_G        & 3.851331e-21                & 0.255973340                 & ENSG00000105426\\_PTPRS    \\\\\n",
       "\t397276 & ENSG00000105426             & 19\\_5233070\\_T\\_C        & 3.938237e-20                & 0.213547877                 & ENSG00000105426\\_PTPRS    \\\\\n",
       "\t650761 & ENSG00000181350             & 17\\_16308654\\_G\\_A       & 6.310117e-19                & 0.264086023                 & ENSG00000181350\\_FAM211A  \\\\\n",
       "\t651024 & ENSG00000181350             & 17\\_16411522\\_G\\_A       & 2.474478e-18                & 0.253063835                 & ENSG00000181350\\_FAM211A  \\\\\n",
       "\t692593 & ENSG00000109475             & 4\\_109568463\\_G\\_A       & 5.226280e-18                & 0.366416765                 & ENSG00000109475\\_RPL34    \\\\\n",
       "\t692604 & ENSG00000109475             & 4\\_109574357\\_G\\_A       & 8.134449e-24                & 0.359919847                 & ENSG00000109475\\_RPL34    \\\\\n",
       "\t692617 & ENSG00000109475             & 4\\_109579798\\_C\\_T       & 5.208943e-18                & 0.181031465                 & ENSG00000109475\\_RPL34    \\\\\n",
       "\t692630 & ENSG00000109475             & 4\\_109585997\\_C\\_T       & 8.134449e-24                & 0.359919847                 & ENSG00000109475\\_RPL34    \\\\\n",
       "\t692638 & ENSG00000109475             & 4\\_109587652\\_G\\_C       & 1.350612e-17                & 0.318572593                 & ENSG00000109475\\_RPL34    \\\\\n",
       "\t692645 & ENSG00000109475             & 4\\_109592475\\_C\\_T       & 8.134449e-24                & 0.359919847                 & ENSG00000109475\\_RPL34    \\\\\n",
       "\t692651 & ENSG00000109475             & 4\\_109595582\\_T\\_A       & 1.216025e-22                & 0.568606134                 & ENSG00000109475\\_RPL34    \\\\\n",
       "\t692686 & ENSG00000109475             & 4\\_109612771\\_A\\_G       & 3.306977e-16                & 0.563790094                 & ENSG00000109475\\_RPL34    \\\\\n",
       "\t692691 & ENSG00000109475             & 4\\_109613107\\_C\\_T       & 1.263860e-23                & 0.057650911                 & ENSG00000109475\\_RPL34    \\\\\n",
       "\t692724 & ENSG00000109475             & 4\\_109628025\\_A\\_C       & 2.127678e-17                & 0.381300537                 & ENSG00000109475\\_RPL34    \\\\\n",
       "\t744673 & ENSG00000119335             & 9\\_131476236\\_G\\_A       & 4.623305e-17                & 0.529138346                 & ENSG00000119335\\_SET      \\\\\n",
       "\t786814 & ENSG00000125691             & 17\\_36911933\\_A\\_G       & 4.710052e-20                & 0.052833682                 & ENSG00000125691\\_RPL23    \\\\\n",
       "\t786838 & ENSG00000125691             & 17\\_36927055\\_G\\_A       & 2.297727e-23                & 0.019836638                 & ENSG00000125691\\_RPL23    \\\\\n",
       "\t786839 & ENSG00000125691             & 17\\_36927056\\_C\\_T       & 2.297727e-23                & 0.019836638                 & ENSG00000125691\\_RPL23    \\\\\n",
       "\t786902 & ENSG00000125691             & 17\\_36975354\\_T\\_C       & 1.781593e-21                & 0.410396224                 & ENSG00000125691\\_RPL23    \\\\\n",
       "\t786903 & ENSG00000125691             & 17\\_36975732\\_G\\_T       & 1.781593e-21                & 0.410396224                 & ENSG00000125691\\_RPL23    \\\\\n",
       "\t786904 & ENSG00000125691             & 17\\_36975903\\_C\\_T       & 1.786071e-26                & 0.348443000                 & ENSG00000125691\\_RPL23    \\\\\n",
       "\t881382 & ENSG00000269028             & 3\\_96248222\\_C\\_T        & 1.014089e-25                & 0.004346173                 & ENSG00000269028\\_MTRNR2L12\\\\\n",
       "\t881417 & ENSG00000269028             & 3\\_96321901\\_T\\_A        & 7.022967e-25                & 0.262121326                 & ENSG00000269028\\_MTRNR2L12\\\\\n",
       "\t881440 & ENSG00000269028             & 3\\_96338998\\_A\\_T        & 3.200395e-21                & 0.588404805                 & ENSG00000269028\\_MTRNR2L12\\\\\n",
       "\t881441 & ENSG00000269028             & 3\\_96339059\\_A\\_C        & 1.431976e-19                & 0.326992823                 & ENSG00000269028\\_MTRNR2L12\\\\\n",
       "\t881532 & ENSG00000269028             & 3\\_96360522\\_T\\_C        & 2.144131e-20                & 0.038332616                 & ENSG00000269028\\_MTRNR2L12\\\\\n",
       "\t1007157 & ENSG00000256618             & 17\\_21974576\\_G\\_T       & 2.148953e-20                & 0.053170125                 & ENSG00000256618\\_MTRNR2L1 \\\\\n",
       "\t... & ... & ... & ... & ... & ...\\\\\n",
       "\t1461373 & ENSG00000142534           & 19\\_49966394\\_C\\_T     & 3.989087e-21              & 0.1558860946              & ENSG00000142534\\_RPS11  \\\\\n",
       "\t1461462 & ENSG00000142534           & 19\\_50014977\\_G\\_A     & 1.058579e-26              & 0.0127211995              & ENSG00000142534\\_RPS11  \\\\\n",
       "\t1461586 & ENSG00000142534           & 19\\_50055209\\_G\\_A     & 4.846094e-21              & 0.4740233699              & ENSG00000142534\\_RPS11  \\\\\n",
       "\t1591182 & ENSG00000008988           & 8\\_56910701\\_G\\_A      & 1.353065e-19              & 0.6232292227              & ENSG00000008988\\_RPS20  \\\\\n",
       "\t1821852 & ENSG00000125995           & 20\\_34251693\\_A\\_G     & 4.203261e-18              & 0.6286294665              & ENSG00000125995\\_ROMO1  \\\\\n",
       "\t1822073 & ENSG00000125995           & 20\\_34364447\\_A\\_T     & 4.203261e-18              & 0.9226331751              & ENSG00000125995\\_ROMO1  \\\\\n",
       "\t1923632 & ENSG00000166441           & 11\\_8627912\\_G\\_C      & 7.863612e-22              & 0.0001803183              & ENSG00000166441\\_RPL27A \\\\\n",
       "\t2598279 & ENSG00000118181           & 11\\_118877621\\_G\\_C    & 3.931425e-24              & 0.1822808196              & ENSG00000118181\\_RPS25  \\\\\n",
       "\t2598439 & ENSG00000118181           & 11\\_118957388\\_A\\_T    & 8.774282e-19              & 0.0948621106              & ENSG00000118181\\_RPS25  \\\\\n",
       "\t2787696 & ENSG00000131469           & 17\\_41137136\\_T\\_C     & 2.465862e-25              & 0.7106849433              & ENSG00000131469\\_RPL27  \\\\\n",
       "\t3866694 & ENSG00000168887           & 2\\_85796216\\_G\\_A      & 5.538498e-17              & 0.5474398453              & ENSG00000168887\\_C2orf68\\\\\n",
       "\t4425694 & ENSG00000086062           & 9\\_33025503\\_G\\_A      & 3.839468e-20              & 0.2629709614              & ENSG00000086062\\_B4GALT1\\\\\n",
       "\t4426037 & ENSG00000086062           & 9\\_33160611\\_A\\_G      & 3.204047e-20              & 0.3056324395              & ENSG00000086062\\_B4GALT1\\\\\n",
       "\t4426039 & ENSG00000086062           & 9\\_33163059\\_G\\_A      & 3.204047e-20              & 0.3056324395              & ENSG00000086062\\_B4GALT1\\\\\n",
       "\t4426042 & ENSG00000086062           & 9\\_33163523\\_C\\_G      & 3.204047e-20              & 0.3056324395              & ENSG00000086062\\_B4GALT1\\\\\n",
       "\t4426063 & ENSG00000086062           & 9\\_33174642\\_G\\_A      & 5.745096e-20              & 0.2184851135              & ENSG00000086062\\_B4GALT1\\\\\n",
       "\t4426073 & ENSG00000086062           & 9\\_33177053\\_T\\_C      & 1.504614e-20              & 0.3475587795              & ENSG00000086062\\_B4GALT1\\\\\n",
       "\t4426083 & ENSG00000086062           & 9\\_33180747\\_G\\_A      & 2.053822e-20              & 0.2911107302              & ENSG00000086062\\_B4GALT1\\\\\n",
       "\t4560798 & ENSG00000172809           & 17\\_72114992\\_A\\_G     & 7.098726e-30              & 0.2001295710              & ENSG00000172809\\_RPL38  \\\\\n",
       "\t4560870 & ENSG00000172809           & 17\\_72153816\\_C\\_T     & 4.176330e-16              & 0.1172017129              & ENSG00000172809\\_RPL38  \\\\\n",
       "\t4560871 & ENSG00000172809           & 17\\_72155302\\_G\\_A     & 4.176330e-16              & 0.1172017129              & ENSG00000172809\\_RPL38  \\\\\n",
       "\t4560874 & ENSG00000172809           & 17\\_72156714\\_C\\_T     & 4.176330e-16              & 0.1172017129              & ENSG00000172809\\_RPL38  \\\\\n",
       "\t4560957 & ENSG00000172809           & 17\\_72191496\\_G\\_C     & 2.839404e-16              & 0.2627521265              & ENSG00000172809\\_RPL38  \\\\\n",
       "\t4560958 & ENSG00000172809           & 17\\_72191649\\_C\\_T     & 2.839404e-16              & 0.2627521265              & ENSG00000172809\\_RPL38  \\\\\n",
       "\t4560963 & ENSG00000172809           & 17\\_72192667\\_C\\_G     & 1.468311e-20              & 0.4203525498              & ENSG00000172809\\_RPL38  \\\\\n",
       "\t4560973 & ENSG00000172809           & 17\\_72195405\\_A\\_G     & 1.642952e-17              & 0.4392920081              & ENSG00000172809\\_RPL38  \\\\\n",
       "\t4560976 & ENSG00000172809           & 17\\_72196124\\_C\\_G     & 6.527091e-29              & 0.5402091601              & ENSG00000172809\\_RPL38  \\\\\n",
       "\t4560982 & ENSG00000172809           & 17\\_72198375\\_G\\_A     & 2.193184e-18              & 0.2964646290              & ENSG00000172809\\_RPL38  \\\\\n",
       "\t4561071 & ENSG00000172809           & 17\\_72255808\\_C\\_T     & 5.493983e-22              & 0.7601694830              & ENSG00000172809\\_RPL38  \\\\\n",
       "\t4713598 & ENSG00000143742           & 1\\_226006792\\_A\\_G     & 1.574176e-18              & 0.3636891801              & ENSG00000143742\\_SRP9   \\\\\n",
       "\\end{tabular}\n"
      ],
      "text/markdown": [
       "\n",
       "| <!--/--> | feature_id | snp_id | p_value.new | p_value.old | feature |\n",
       "|---|---|---|---|---|---|\n",
       "| 397102 | ENSG00000105426           | 19_5181195_C_T            | 4.055903e-17              | 0.029758176               | ENSG00000105426_PTPRS     |\n",
       "| 397110 | ENSG00000105426           | 19_5184684_C_T            | 1.864027e-16              | 0.061413976               | ENSG00000105426_PTPRS     |\n",
       "| 397127 | ENSG00000105426           | 19_5189297_C_T            | 2.217907e-18              | 0.193563733               | ENSG00000105426_PTPRS     |\n",
       "| 397131 | ENSG00000105426           | 19_5192372_C_G            | 3.851331e-21              | 0.255973340               | ENSG00000105426_PTPRS     |\n",
       "| 397276 | ENSG00000105426           | 19_5233070_T_C            | 3.938237e-20              | 0.213547877               | ENSG00000105426_PTPRS     |\n",
       "| 650761 | ENSG00000181350           | 17_16308654_G_A           | 6.310117e-19              | 0.264086023               | ENSG00000181350_FAM211A   |\n",
       "| 651024 | ENSG00000181350           | 17_16411522_G_A           | 2.474478e-18              | 0.253063835               | ENSG00000181350_FAM211A   |\n",
       "| 692593 | ENSG00000109475           | 4_109568463_G_A           | 5.226280e-18              | 0.366416765               | ENSG00000109475_RPL34     |\n",
       "| 692604 | ENSG00000109475           | 4_109574357_G_A           | 8.134449e-24              | 0.359919847               | ENSG00000109475_RPL34     |\n",
       "| 692617 | ENSG00000109475           | 4_109579798_C_T           | 5.208943e-18              | 0.181031465               | ENSG00000109475_RPL34     |\n",
       "| 692630 | ENSG00000109475           | 4_109585997_C_T           | 8.134449e-24              | 0.359919847               | ENSG00000109475_RPL34     |\n",
       "| 692638 | ENSG00000109475           | 4_109587652_G_C           | 1.350612e-17              | 0.318572593               | ENSG00000109475_RPL34     |\n",
       "| 692645 | ENSG00000109475           | 4_109592475_C_T           | 8.134449e-24              | 0.359919847               | ENSG00000109475_RPL34     |\n",
       "| 692651 | ENSG00000109475           | 4_109595582_T_A           | 1.216025e-22              | 0.568606134               | ENSG00000109475_RPL34     |\n",
       "| 692686 | ENSG00000109475           | 4_109612771_A_G           | 3.306977e-16              | 0.563790094               | ENSG00000109475_RPL34     |\n",
       "| 692691 | ENSG00000109475           | 4_109613107_C_T           | 1.263860e-23              | 0.057650911               | ENSG00000109475_RPL34     |\n",
       "| 692724 | ENSG00000109475           | 4_109628025_A_C           | 2.127678e-17              | 0.381300537               | ENSG00000109475_RPL34     |\n",
       "| 744673 | ENSG00000119335           | 9_131476236_G_A           | 4.623305e-17              | 0.529138346               | ENSG00000119335_SET       |\n",
       "| 786814 | ENSG00000125691           | 17_36911933_A_G           | 4.710052e-20              | 0.052833682               | ENSG00000125691_RPL23     |\n",
       "| 786838 | ENSG00000125691           | 17_36927055_G_A           | 2.297727e-23              | 0.019836638               | ENSG00000125691_RPL23     |\n",
       "| 786839 | ENSG00000125691           | 17_36927056_C_T           | 2.297727e-23              | 0.019836638               | ENSG00000125691_RPL23     |\n",
       "| 786902 | ENSG00000125691           | 17_36975354_T_C           | 1.781593e-21              | 0.410396224               | ENSG00000125691_RPL23     |\n",
       "| 786903 | ENSG00000125691           | 17_36975732_G_T           | 1.781593e-21              | 0.410396224               | ENSG00000125691_RPL23     |\n",
       "| 786904 | ENSG00000125691           | 17_36975903_C_T           | 1.786071e-26              | 0.348443000               | ENSG00000125691_RPL23     |\n",
       "| 881382 | ENSG00000269028           | 3_96248222_C_T            | 1.014089e-25              | 0.004346173               | ENSG00000269028_MTRNR2L12 |\n",
       "| 881417 | ENSG00000269028           | 3_96321901_T_A            | 7.022967e-25              | 0.262121326               | ENSG00000269028_MTRNR2L12 |\n",
       "| 881440 | ENSG00000269028           | 3_96338998_A_T            | 3.200395e-21              | 0.588404805               | ENSG00000269028_MTRNR2L12 |\n",
       "| 881441 | ENSG00000269028           | 3_96339059_A_C            | 1.431976e-19              | 0.326992823               | ENSG00000269028_MTRNR2L12 |\n",
       "| 881532 | ENSG00000269028           | 3_96360522_T_C            | 2.144131e-20              | 0.038332616               | ENSG00000269028_MTRNR2L12 |\n",
       "| 1007157 | ENSG00000256618           | 17_21974576_G_T           | 2.148953e-20              | 0.053170125               | ENSG00000256618_MTRNR2L1  |\n",
       "| ... | ... | ... | ... | ... | ... |\n",
       "| 1461373 | ENSG00000142534         | 19_49966394_C_T         | 3.989087e-21            | 0.1558860946            | ENSG00000142534_RPS11   |\n",
       "| 1461462 | ENSG00000142534         | 19_50014977_G_A         | 1.058579e-26            | 0.0127211995            | ENSG00000142534_RPS11   |\n",
       "| 1461586 | ENSG00000142534         | 19_50055209_G_A         | 4.846094e-21            | 0.4740233699            | ENSG00000142534_RPS11   |\n",
       "| 1591182 | ENSG00000008988         | 8_56910701_G_A          | 1.353065e-19            | 0.6232292227            | ENSG00000008988_RPS20   |\n",
       "| 1821852 | ENSG00000125995         | 20_34251693_A_G         | 4.203261e-18            | 0.6286294665            | ENSG00000125995_ROMO1   |\n",
       "| 1822073 | ENSG00000125995         | 20_34364447_A_T         | 4.203261e-18            | 0.9226331751            | ENSG00000125995_ROMO1   |\n",
       "| 1923632 | ENSG00000166441         | 11_8627912_G_C          | 7.863612e-22            | 0.0001803183            | ENSG00000166441_RPL27A  |\n",
       "| 2598279 | ENSG00000118181         | 11_118877621_G_C        | 3.931425e-24            | 0.1822808196            | ENSG00000118181_RPS25   |\n",
       "| 2598439 | ENSG00000118181         | 11_118957388_A_T        | 8.774282e-19            | 0.0948621106            | ENSG00000118181_RPS25   |\n",
       "| 2787696 | ENSG00000131469         | 17_41137136_T_C         | 2.465862e-25            | 0.7106849433            | ENSG00000131469_RPL27   |\n",
       "| 3866694 | ENSG00000168887         | 2_85796216_G_A          | 5.538498e-17            | 0.5474398453            | ENSG00000168887_C2orf68 |\n",
       "| 4425694 | ENSG00000086062         | 9_33025503_G_A          | 3.839468e-20            | 0.2629709614            | ENSG00000086062_B4GALT1 |\n",
       "| 4426037 | ENSG00000086062         | 9_33160611_A_G          | 3.204047e-20            | 0.3056324395            | ENSG00000086062_B4GALT1 |\n",
       "| 4426039 | ENSG00000086062         | 9_33163059_G_A          | 3.204047e-20            | 0.3056324395            | ENSG00000086062_B4GALT1 |\n",
       "| 4426042 | ENSG00000086062         | 9_33163523_C_G          | 3.204047e-20            | 0.3056324395            | ENSG00000086062_B4GALT1 |\n",
       "| 4426063 | ENSG00000086062         | 9_33174642_G_A          | 5.745096e-20            | 0.2184851135            | ENSG00000086062_B4GALT1 |\n",
       "| 4426073 | ENSG00000086062         | 9_33177053_T_C          | 1.504614e-20            | 0.3475587795            | ENSG00000086062_B4GALT1 |\n",
       "| 4426083 | ENSG00000086062         | 9_33180747_G_A          | 2.053822e-20            | 0.2911107302            | ENSG00000086062_B4GALT1 |\n",
       "| 4560798 | ENSG00000172809         | 17_72114992_A_G         | 7.098726e-30            | 0.2001295710            | ENSG00000172809_RPL38   |\n",
       "| 4560870 | ENSG00000172809         | 17_72153816_C_T         | 4.176330e-16            | 0.1172017129            | ENSG00000172809_RPL38   |\n",
       "| 4560871 | ENSG00000172809         | 17_72155302_G_A         | 4.176330e-16            | 0.1172017129            | ENSG00000172809_RPL38   |\n",
       "| 4560874 | ENSG00000172809         | 17_72156714_C_T         | 4.176330e-16            | 0.1172017129            | ENSG00000172809_RPL38   |\n",
       "| 4560957 | ENSG00000172809         | 17_72191496_G_C         | 2.839404e-16            | 0.2627521265            | ENSG00000172809_RPL38   |\n",
       "| 4560958 | ENSG00000172809         | 17_72191649_C_T         | 2.839404e-16            | 0.2627521265            | ENSG00000172809_RPL38   |\n",
       "| 4560963 | ENSG00000172809         | 17_72192667_C_G         | 1.468311e-20            | 0.4203525498            | ENSG00000172809_RPL38   |\n",
       "| 4560973 | ENSG00000172809         | 17_72195405_A_G         | 1.642952e-17            | 0.4392920081            | ENSG00000172809_RPL38   |\n",
       "| 4560976 | ENSG00000172809         | 17_72196124_C_G         | 6.527091e-29            | 0.5402091601            | ENSG00000172809_RPL38   |\n",
       "| 4560982 | ENSG00000172809         | 17_72198375_G_A         | 2.193184e-18            | 0.2964646290            | ENSG00000172809_RPL38   |\n",
       "| 4561071 | ENSG00000172809         | 17_72255808_C_T         | 5.493983e-22            | 0.7601694830            | ENSG00000172809_RPL38   |\n",
       "| 4713598 | ENSG00000143742         | 1_226006792_A_G         | 1.574176e-18            | 0.3636891801            | ENSG00000143742_SRP9    |\n",
       "\n"
      ],
      "text/plain": [
       "        feature_id      snp_id           p_value.new  p_value.old \n",
       "397102  ENSG00000105426 19_5181195_C_T   4.055903e-17 0.029758176 \n",
       "397110  ENSG00000105426 19_5184684_C_T   1.864027e-16 0.061413976 \n",
       "397127  ENSG00000105426 19_5189297_C_T   2.217907e-18 0.193563733 \n",
       "397131  ENSG00000105426 19_5192372_C_G   3.851331e-21 0.255973340 \n",
       "397276  ENSG00000105426 19_5233070_T_C   3.938237e-20 0.213547877 \n",
       "650761  ENSG00000181350 17_16308654_G_A  6.310117e-19 0.264086023 \n",
       "651024  ENSG00000181350 17_16411522_G_A  2.474478e-18 0.253063835 \n",
       "692593  ENSG00000109475 4_109568463_G_A  5.226280e-18 0.366416765 \n",
       "692604  ENSG00000109475 4_109574357_G_A  8.134449e-24 0.359919847 \n",
       "692617  ENSG00000109475 4_109579798_C_T  5.208943e-18 0.181031465 \n",
       "692630  ENSG00000109475 4_109585997_C_T  8.134449e-24 0.359919847 \n",
       "692638  ENSG00000109475 4_109587652_G_C  1.350612e-17 0.318572593 \n",
       "692645  ENSG00000109475 4_109592475_C_T  8.134449e-24 0.359919847 \n",
       "692651  ENSG00000109475 4_109595582_T_A  1.216025e-22 0.568606134 \n",
       "692686  ENSG00000109475 4_109612771_A_G  3.306977e-16 0.563790094 \n",
       "692691  ENSG00000109475 4_109613107_C_T  1.263860e-23 0.057650911 \n",
       "692724  ENSG00000109475 4_109628025_A_C  2.127678e-17 0.381300537 \n",
       "744673  ENSG00000119335 9_131476236_G_A  4.623305e-17 0.529138346 \n",
       "786814  ENSG00000125691 17_36911933_A_G  4.710052e-20 0.052833682 \n",
       "786838  ENSG00000125691 17_36927055_G_A  2.297727e-23 0.019836638 \n",
       "786839  ENSG00000125691 17_36927056_C_T  2.297727e-23 0.019836638 \n",
       "786902  ENSG00000125691 17_36975354_T_C  1.781593e-21 0.410396224 \n",
       "786903  ENSG00000125691 17_36975732_G_T  1.781593e-21 0.410396224 \n",
       "786904  ENSG00000125691 17_36975903_C_T  1.786071e-26 0.348443000 \n",
       "881382  ENSG00000269028 3_96248222_C_T   1.014089e-25 0.004346173 \n",
       "881417  ENSG00000269028 3_96321901_T_A   7.022967e-25 0.262121326 \n",
       "881440  ENSG00000269028 3_96338998_A_T   3.200395e-21 0.588404805 \n",
       "881441  ENSG00000269028 3_96339059_A_C   1.431976e-19 0.326992823 \n",
       "881532  ENSG00000269028 3_96360522_T_C   2.144131e-20 0.038332616 \n",
       "1007157 ENSG00000256618 17_21974576_G_T  2.148953e-20 0.053170125 \n",
       "...     ...             ...              ...          ...         \n",
       "1461373 ENSG00000142534 19_49966394_C_T  3.989087e-21 0.1558860946\n",
       "1461462 ENSG00000142534 19_50014977_G_A  1.058579e-26 0.0127211995\n",
       "1461586 ENSG00000142534 19_50055209_G_A  4.846094e-21 0.4740233699\n",
       "1591182 ENSG00000008988 8_56910701_G_A   1.353065e-19 0.6232292227\n",
       "1821852 ENSG00000125995 20_34251693_A_G  4.203261e-18 0.6286294665\n",
       "1822073 ENSG00000125995 20_34364447_A_T  4.203261e-18 0.9226331751\n",
       "1923632 ENSG00000166441 11_8627912_G_C   7.863612e-22 0.0001803183\n",
       "2598279 ENSG00000118181 11_118877621_G_C 3.931425e-24 0.1822808196\n",
       "2598439 ENSG00000118181 11_118957388_A_T 8.774282e-19 0.0948621106\n",
       "2787696 ENSG00000131469 17_41137136_T_C  2.465862e-25 0.7106849433\n",
       "3866694 ENSG00000168887 2_85796216_G_A   5.538498e-17 0.5474398453\n",
       "4425694 ENSG00000086062 9_33025503_G_A   3.839468e-20 0.2629709614\n",
       "4426037 ENSG00000086062 9_33160611_A_G   3.204047e-20 0.3056324395\n",
       "4426039 ENSG00000086062 9_33163059_G_A   3.204047e-20 0.3056324395\n",
       "4426042 ENSG00000086062 9_33163523_C_G   3.204047e-20 0.3056324395\n",
       "4426063 ENSG00000086062 9_33174642_G_A   5.745096e-20 0.2184851135\n",
       "4426073 ENSG00000086062 9_33177053_T_C   1.504614e-20 0.3475587795\n",
       "4426083 ENSG00000086062 9_33180747_G_A   2.053822e-20 0.2911107302\n",
       "4560798 ENSG00000172809 17_72114992_A_G  7.098726e-30 0.2001295710\n",
       "4560870 ENSG00000172809 17_72153816_C_T  4.176330e-16 0.1172017129\n",
       "4560871 ENSG00000172809 17_72155302_G_A  4.176330e-16 0.1172017129\n",
       "4560874 ENSG00000172809 17_72156714_C_T  4.176330e-16 0.1172017129\n",
       "4560957 ENSG00000172809 17_72191496_G_C  2.839404e-16 0.2627521265\n",
       "4560958 ENSG00000172809 17_72191649_C_T  2.839404e-16 0.2627521265\n",
       "4560963 ENSG00000172809 17_72192667_C_G  1.468311e-20 0.4203525498\n",
       "4560973 ENSG00000172809 17_72195405_A_G  1.642952e-17 0.4392920081\n",
       "4560976 ENSG00000172809 17_72196124_C_G  6.527091e-29 0.5402091601\n",
       "4560982 ENSG00000172809 17_72198375_G_A  2.193184e-18 0.2964646290\n",
       "4561071 ENSG00000172809 17_72255808_C_T  5.493983e-22 0.7601694830\n",
       "4713598 ENSG00000143742 1_226006792_A_G  1.574176e-18 0.3636891801\n",
       "        feature                  \n",
       "397102  ENSG00000105426_PTPRS    \n",
       "397110  ENSG00000105426_PTPRS    \n",
       "397127  ENSG00000105426_PTPRS    \n",
       "397131  ENSG00000105426_PTPRS    \n",
       "397276  ENSG00000105426_PTPRS    \n",
       "650761  ENSG00000181350_FAM211A  \n",
       "651024  ENSG00000181350_FAM211A  \n",
       "692593  ENSG00000109475_RPL34    \n",
       "692604  ENSG00000109475_RPL34    \n",
       "692617  ENSG00000109475_RPL34    \n",
       "692630  ENSG00000109475_RPL34    \n",
       "692638  ENSG00000109475_RPL34    \n",
       "692645  ENSG00000109475_RPL34    \n",
       "692651  ENSG00000109475_RPL34    \n",
       "692686  ENSG00000109475_RPL34    \n",
       "692691  ENSG00000109475_RPL34    \n",
       "692724  ENSG00000109475_RPL34    \n",
       "744673  ENSG00000119335_SET      \n",
       "786814  ENSG00000125691_RPL23    \n",
       "786838  ENSG00000125691_RPL23    \n",
       "786839  ENSG00000125691_RPL23    \n",
       "786902  ENSG00000125691_RPL23    \n",
       "786903  ENSG00000125691_RPL23    \n",
       "786904  ENSG00000125691_RPL23    \n",
       "881382  ENSG00000269028_MTRNR2L12\n",
       "881417  ENSG00000269028_MTRNR2L12\n",
       "881440  ENSG00000269028_MTRNR2L12\n",
       "881441  ENSG00000269028_MTRNR2L12\n",
       "881532  ENSG00000269028_MTRNR2L12\n",
       "1007157 ENSG00000256618_MTRNR2L1 \n",
       "...     ...                      \n",
       "1461373 ENSG00000142534_RPS11    \n",
       "1461462 ENSG00000142534_RPS11    \n",
       "1461586 ENSG00000142534_RPS11    \n",
       "1591182 ENSG00000008988_RPS20    \n",
       "1821852 ENSG00000125995_ROMO1    \n",
       "1822073 ENSG00000125995_ROMO1    \n",
       "1923632 ENSG00000166441_RPL27A   \n",
       "2598279 ENSG00000118181_RPS25    \n",
       "2598439 ENSG00000118181_RPS25    \n",
       "2787696 ENSG00000131469_RPL27    \n",
       "3866694 ENSG00000168887_C2orf68  \n",
       "4425694 ENSG00000086062_B4GALT1  \n",
       "4426037 ENSG00000086062_B4GALT1  \n",
       "4426039 ENSG00000086062_B4GALT1  \n",
       "4426042 ENSG00000086062_B4GALT1  \n",
       "4426063 ENSG00000086062_B4GALT1  \n",
       "4426073 ENSG00000086062_B4GALT1  \n",
       "4426083 ENSG00000086062_B4GALT1  \n",
       "4560798 ENSG00000172809_RPL38    \n",
       "4560870 ENSG00000172809_RPL38    \n",
       "4560871 ENSG00000172809_RPL38    \n",
       "4560874 ENSG00000172809_RPL38    \n",
       "4560957 ENSG00000172809_RPL38    \n",
       "4560958 ENSG00000172809_RPL38    \n",
       "4560963 ENSG00000172809_RPL38    \n",
       "4560973 ENSG00000172809_RPL38    \n",
       "4560976 ENSG00000172809_RPL38    \n",
       "4560982 ENSG00000172809_RPL38    \n",
       "4561071 ENSG00000172809_RPL38    \n",
       "4713598 ENSG00000143742_SRP9     "
      ]
     },
     "metadata": {},
     "output_type": "display_data"
    }
   ],
   "source": [
    "df3[-log10(df3$p_value.new)>15 & -log10(df3$p_value.old)<5,\n",
    "    c(\"feature_id\",\"snp_id\",\"p_value.new\",\"p_value.old\",\"feature\")]"
   ]
  },
  {
   "cell_type": "code",
   "execution_count": 77,
   "id": "1490a6e4",
   "metadata": {},
   "outputs": [],
   "source": [
    "fvf_filename = paste0(revision_folder,\"fvf_new_outliers.csv\")\n",
    "write.csv(df3[-log10(df3$p_value.new)>15 & -log10(df3$p_value.old)<5,c(\"feature\",\"snp_id\")], fvf_filename)"
   ]
  },
  {
   "cell_type": "code",
   "execution_count": null,
   "id": "2e191379",
   "metadata": {},
   "outputs": [],
   "source": []
  },
  {
   "cell_type": "code",
   "execution_count": null,
   "id": "596cae7b",
   "metadata": {},
   "outputs": [],
   "source": []
  },
  {
   "cell_type": "code",
   "execution_count": null,
   "id": "6dd60ce8",
   "metadata": {},
   "outputs": [],
   "source": []
  },
  {
   "cell_type": "code",
   "execution_count": 76,
   "id": "bf0a5f31",
   "metadata": {},
   "outputs": [
    {
     "data": {
      "text/html": [
       "<table>\n",
       "<thead><tr><th></th><th scope=col>ENSG00000005059_CCDC109B_.4_110648632_T_A</th><th scope=col>ENSG00000006016_CRLF1_.19_18735221_G_T</th><th scope=col>ENSG00000006459_KDM7A_.7_139913409_G_A</th><th scope=col>ENSG00000013297_CLDN11_.3_170402765_T_C</th><th scope=col>ENSG00000021300_PLEKHB1_.11_73339784_G_A</th><th scope=col>ENSG00000029639_TFB1M_.6_155635808_C_G</th><th scope=col>ENSG00000033178_UBA6_.4_68480525_C_T</th><th scope=col>ENSG00000035115_SH3YL1_.2_256116_G_T</th><th scope=col>ENSG00000059377_TBXAS1_.7_139547370_G_A</th><th scope=col>ENSG00000063761_ADCK1_.14_78311319_G_A</th><th scope=col>...</th><th scope=col>ENSG00000248098_BCKDHA_.19_41937095_G_A</th><th scope=col>ENSG00000248124_RRN3P1_.16_21818292_A_C</th><th scope=col>ENSG00000250317_SMIM20_.4_25918516_A_G</th><th scope=col>ENSG00000253203_GUSBP3_.5_68922087_T_G</th><th scope=col>ENSG00000254184_TYW1B_.7_72200923_G_A</th><th scope=col>ENSG00000256018_HIST1H3G_.6_26198845_G_C</th><th scope=col>ENSG00000256073_C21orf119_.21_33728588_C_A</th><th scope=col>ENSG00000259024_TVP23C.CDRT4_.17_15434991_C_T</th><th scope=col>ENSG00000259803_SLC22A31_.16_89234110_G_C</th><th scope=col>ENSG00000267323_SLC25A1P5_.19_28298186_T_C</th></tr></thead>\n",
       "<tbody>\n",
       "\t<tr><th scope=row>21843_1#10</th><td>-0.02336156 </td><td> 0.037167263</td><td>-0.029627685</td><td>0.18296979  </td><td>-0.03793941 </td><td>-0.029324411</td><td> 0.031398501</td><td>-0.03962300 </td><td>0.08013833  </td><td>0.027498382 </td><td>...         </td><td>-0.08185803 </td><td>-0.10862369 </td><td>-0.10317566 </td><td>-0.048543205</td><td>0.095111678 </td><td>-0.002571070</td><td>-0.055608331</td><td>0.1931245   </td><td>-0.06168149 </td><td> 0.054686251</td></tr>\n",
       "\t<tr><th scope=row>21843_1#100</th><td>-0.04797379 </td><td>-0.002567715</td><td>-0.050303678</td><td>0.14204539  </td><td>-0.06425603 </td><td>-0.017894114</td><td>-0.064683766</td><td>-0.08820444 </td><td>0.23273882  </td><td>0.040375905 </td><td>...         </td><td>-0.16133495 </td><td>-0.45571807 </td><td>-0.09858982 </td><td>-0.095641305</td><td>0.007662211 </td><td>-0.001386594</td><td>-0.094118770</td><td>0.2614240   </td><td>-0.16271379 </td><td>-0.037051849</td></tr>\n",
       "\t<tr><th scope=row>21843_1#101</th><td>-0.01707154 </td><td>-0.038323702</td><td> 0.001072175</td><td>0.05068042  </td><td>-0.04211749 </td><td>-0.028163711</td><td>-0.079442257</td><td>-0.05854781 </td><td>0.14245545  </td><td>0.019225081 </td><td>...         </td><td>-0.08464140 </td><td>-0.22917228 </td><td>-0.08647358 </td><td>-0.027566411</td><td>0.030433187 </td><td>-0.038522875</td><td>-0.007152012</td><td>0.1489600   </td><td>-0.08467373 </td><td>-0.001068028</td></tr>\n",
       "\t<tr><th scope=row>21843_1#102</th><td>-0.06849843 </td><td> 0.029141143</td><td> 0.006591071</td><td>0.27772236  </td><td> 0.05210891 </td><td>-0.039448204</td><td> 0.002744249</td><td>-0.08783030 </td><td>0.06083871  </td><td>0.034590880 </td><td>...         </td><td>-0.05465162 </td><td>-0.09382258 </td><td>-0.12475134 </td><td>-0.009728905</td><td>0.052761776 </td><td>-0.008942713</td><td>-0.024298554</td><td>0.2108875   </td><td>-0.06577307 </td><td> 0.020432219</td></tr>\n",
       "\t<tr><th scope=row>21843_1#103</th><td>-0.02065975 </td><td> 0.017882432</td><td>-0.019780588</td><td>0.12713250  </td><td>-0.04432031 </td><td>-0.010911430</td><td>-0.024407791</td><td>-0.03931027 </td><td>0.06883815  </td><td>0.009218694 </td><td>...         </td><td>-0.04543236 </td><td>-0.13128624 </td><td>-0.06491895 </td><td>-0.033262391</td><td>0.063575007 </td><td> 0.044047100</td><td>-0.037472203</td><td>0.1392061   </td><td>-0.06160699 </td><td> 0.047756355</td></tr>\n",
       "\t<tr><th scope=row>21843_1#105</th><td> 0.03203034 </td><td> 0.029327187</td><td>-0.015424171</td><td>0.13315777  </td><td>-0.03401761 </td><td>-0.004702419</td><td>-0.075634975</td><td>-0.02003224 </td><td>0.09548422  </td><td>0.003292832 </td><td>...         </td><td>-0.08535482 </td><td>-0.14593277 </td><td>-0.07771164 </td><td>-0.053617513</td><td>0.141638220 </td><td> 0.019637691</td><td> 0.041395040</td><td>0.1576655   </td><td>-0.03509197 </td><td> 0.113248113</td></tr>\n",
       "</tbody>\n",
       "</table>\n"
      ],
      "text/latex": [
       "\\begin{tabular}{r|llllllllllllllllllllllllllllllllllllllllllllllllllllllllllllllllllllllllllllllllllllllllllllllllllllllllllllllllllllllllllllllllllllllllllllllllllllllllllllllllllllllllllllllllllllllllllllllllllllllllllllllllllllllllllllllllllllllllllllllllllllllllllllllllllllllllllllllllllllllllllllllllllllllllllllllllllllllllllllllllll}\n",
       "  & ENSG00000005059\\_CCDC109B\\_.4\\_110648632\\_T\\_A & ENSG00000006016\\_CRLF1\\_.19\\_18735221\\_G\\_T & ENSG00000006459\\_KDM7A\\_.7\\_139913409\\_G\\_A & ENSG00000013297\\_CLDN11\\_.3\\_170402765\\_T\\_C & ENSG00000021300\\_PLEKHB1\\_.11\\_73339784\\_G\\_A & ENSG00000029639\\_TFB1M\\_.6\\_155635808\\_C\\_G & ENSG00000033178\\_UBA6\\_.4\\_68480525\\_C\\_T & ENSG00000035115\\_SH3YL1\\_.2\\_256116\\_G\\_T & ENSG00000059377\\_TBXAS1\\_.7\\_139547370\\_G\\_A & ENSG00000063761\\_ADCK1\\_.14\\_78311319\\_G\\_A & ... & ENSG00000248098\\_BCKDHA\\_.19\\_41937095\\_G\\_A & ENSG00000248124\\_RRN3P1\\_.16\\_21818292\\_A\\_C & ENSG00000250317\\_SMIM20\\_.4\\_25918516\\_A\\_G & ENSG00000253203\\_GUSBP3\\_.5\\_68922087\\_T\\_G & ENSG00000254184\\_TYW1B\\_.7\\_72200923\\_G\\_A & ENSG00000256018\\_HIST1H3G\\_.6\\_26198845\\_G\\_C & ENSG00000256073\\_C21orf119\\_.21\\_33728588\\_C\\_A & ENSG00000259024\\_TVP23C.CDRT4\\_.17\\_15434991\\_C\\_T & ENSG00000259803\\_SLC22A31\\_.16\\_89234110\\_G\\_C & ENSG00000267323\\_SLC25A1P5\\_.19\\_28298186\\_T\\_C\\\\\n",
       "\\hline\n",
       "\t21843\\_1\\#10 & -0.02336156  &  0.037167263 & -0.029627685 & 0.18296979   & -0.03793941  & -0.029324411 &  0.031398501 & -0.03962300  & 0.08013833   & 0.027498382  & ...          & -0.08185803  & -0.10862369  & -0.10317566  & -0.048543205 & 0.095111678  & -0.002571070 & -0.055608331 & 0.1931245    & -0.06168149  &  0.054686251\\\\\n",
       "\t21843\\_1\\#100 & -0.04797379  & -0.002567715 & -0.050303678 & 0.14204539   & -0.06425603  & -0.017894114 & -0.064683766 & -0.08820444  & 0.23273882   & 0.040375905  & ...          & -0.16133495  & -0.45571807  & -0.09858982  & -0.095641305 & 0.007662211  & -0.001386594 & -0.094118770 & 0.2614240    & -0.16271379  & -0.037051849\\\\\n",
       "\t21843\\_1\\#101 & -0.01707154  & -0.038323702 &  0.001072175 & 0.05068042   & -0.04211749  & -0.028163711 & -0.079442257 & -0.05854781  & 0.14245545   & 0.019225081  & ...          & -0.08464140  & -0.22917228  & -0.08647358  & -0.027566411 & 0.030433187  & -0.038522875 & -0.007152012 & 0.1489600    & -0.08467373  & -0.001068028\\\\\n",
       "\t21843\\_1\\#102 & -0.06849843  &  0.029141143 &  0.006591071 & 0.27772236   &  0.05210891  & -0.039448204 &  0.002744249 & -0.08783030  & 0.06083871   & 0.034590880  & ...          & -0.05465162  & -0.09382258  & -0.12475134  & -0.009728905 & 0.052761776  & -0.008942713 & -0.024298554 & 0.2108875    & -0.06577307  &  0.020432219\\\\\n",
       "\t21843\\_1\\#103 & -0.02065975  &  0.017882432 & -0.019780588 & 0.12713250   & -0.04432031  & -0.010911430 & -0.024407791 & -0.03931027  & 0.06883815   & 0.009218694  & ...          & -0.04543236  & -0.13128624  & -0.06491895  & -0.033262391 & 0.063575007  &  0.044047100 & -0.037472203 & 0.1392061    & -0.06160699  &  0.047756355\\\\\n",
       "\t21843\\_1\\#105 &  0.03203034  &  0.029327187 & -0.015424171 & 0.13315777   & -0.03401761  & -0.004702419 & -0.075634975 & -0.02003224  & 0.09548422   & 0.003292832  & ...          & -0.08535482  & -0.14593277  & -0.07771164  & -0.053617513 & 0.141638220  &  0.019637691 &  0.041395040 & 0.1576655    & -0.03509197  &  0.113248113\\\\\n",
       "\\end{tabular}\n"
      ],
      "text/markdown": [
       "\n",
       "| <!--/--> | ENSG00000005059_CCDC109B_.4_110648632_T_A | ENSG00000006016_CRLF1_.19_18735221_G_T | ENSG00000006459_KDM7A_.7_139913409_G_A | ENSG00000013297_CLDN11_.3_170402765_T_C | ENSG00000021300_PLEKHB1_.11_73339784_G_A | ENSG00000029639_TFB1M_.6_155635808_C_G | ENSG00000033178_UBA6_.4_68480525_C_T | ENSG00000035115_SH3YL1_.2_256116_G_T | ENSG00000059377_TBXAS1_.7_139547370_G_A | ENSG00000063761_ADCK1_.14_78311319_G_A | ... | ENSG00000248098_BCKDHA_.19_41937095_G_A | ENSG00000248124_RRN3P1_.16_21818292_A_C | ENSG00000250317_SMIM20_.4_25918516_A_G | ENSG00000253203_GUSBP3_.5_68922087_T_G | ENSG00000254184_TYW1B_.7_72200923_G_A | ENSG00000256018_HIST1H3G_.6_26198845_G_C | ENSG00000256073_C21orf119_.21_33728588_C_A | ENSG00000259024_TVP23C.CDRT4_.17_15434991_C_T | ENSG00000259803_SLC22A31_.16_89234110_G_C | ENSG00000267323_SLC25A1P5_.19_28298186_T_C |\n",
       "|---|---|---|---|---|---|---|---|---|---|---|---|---|---|---|---|---|---|---|---|---|---|\n",
       "| 21843_1#10 | -0.02336156  |  0.037167263 | -0.029627685 | 0.18296979   | -0.03793941  | -0.029324411 |  0.031398501 | -0.03962300  | 0.08013833   | 0.027498382  | ...          | -0.08185803  | -0.10862369  | -0.10317566  | -0.048543205 | 0.095111678  | -0.002571070 | -0.055608331 | 0.1931245    | -0.06168149  |  0.054686251 |\n",
       "| 21843_1#100 | -0.04797379  | -0.002567715 | -0.050303678 | 0.14204539   | -0.06425603  | -0.017894114 | -0.064683766 | -0.08820444  | 0.23273882   | 0.040375905  | ...          | -0.16133495  | -0.45571807  | -0.09858982  | -0.095641305 | 0.007662211  | -0.001386594 | -0.094118770 | 0.2614240    | -0.16271379  | -0.037051849 |\n",
       "| 21843_1#101 | -0.01707154  | -0.038323702 |  0.001072175 | 0.05068042   | -0.04211749  | -0.028163711 | -0.079442257 | -0.05854781  | 0.14245545   | 0.019225081  | ...          | -0.08464140  | -0.22917228  | -0.08647358  | -0.027566411 | 0.030433187  | -0.038522875 | -0.007152012 | 0.1489600    | -0.08467373  | -0.001068028 |\n",
       "| 21843_1#102 | -0.06849843  |  0.029141143 |  0.006591071 | 0.27772236   |  0.05210891  | -0.039448204 |  0.002744249 | -0.08783030  | 0.06083871   | 0.034590880  | ...          | -0.05465162  | -0.09382258  | -0.12475134  | -0.009728905 | 0.052761776  | -0.008942713 | -0.024298554 | 0.2108875    | -0.06577307  |  0.020432219 |\n",
       "| 21843_1#103 | -0.02065975  |  0.017882432 | -0.019780588 | 0.12713250   | -0.04432031  | -0.010911430 | -0.024407791 | -0.03931027  | 0.06883815   | 0.009218694  | ...          | -0.04543236  | -0.13128624  | -0.06491895  | -0.033262391 | 0.063575007  |  0.044047100 | -0.037472203 | 0.1392061    | -0.06160699  |  0.047756355 |\n",
       "| 21843_1#105 |  0.03203034  |  0.029327187 | -0.015424171 | 0.13315777   | -0.03401761  | -0.004702419 | -0.075634975 | -0.02003224  | 0.09548422   | 0.003292832  | ...          | -0.08535482  | -0.14593277  | -0.07771164  | -0.053617513 | 0.141638220  |  0.019637691 |  0.041395040 | 0.1576655    | -0.03509197  |  0.113248113 |\n",
       "\n"
      ],
      "text/plain": [
       "            ENSG00000005059_CCDC109B_.4_110648632_T_A\n",
       "21843_1#10  -0.02336156                              \n",
       "21843_1#100 -0.04797379                              \n",
       "21843_1#101 -0.01707154                              \n",
       "21843_1#102 -0.06849843                              \n",
       "21843_1#103 -0.02065975                              \n",
       "21843_1#105  0.03203034                              \n",
       "            ENSG00000006016_CRLF1_.19_18735221_G_T\n",
       "21843_1#10   0.037167263                          \n",
       "21843_1#100 -0.002567715                          \n",
       "21843_1#101 -0.038323702                          \n",
       "21843_1#102  0.029141143                          \n",
       "21843_1#103  0.017882432                          \n",
       "21843_1#105  0.029327187                          \n",
       "            ENSG00000006459_KDM7A_.7_139913409_G_A\n",
       "21843_1#10  -0.029627685                          \n",
       "21843_1#100 -0.050303678                          \n",
       "21843_1#101  0.001072175                          \n",
       "21843_1#102  0.006591071                          \n",
       "21843_1#103 -0.019780588                          \n",
       "21843_1#105 -0.015424171                          \n",
       "            ENSG00000013297_CLDN11_.3_170402765_T_C\n",
       "21843_1#10  0.18296979                             \n",
       "21843_1#100 0.14204539                             \n",
       "21843_1#101 0.05068042                             \n",
       "21843_1#102 0.27772236                             \n",
       "21843_1#103 0.12713250                             \n",
       "21843_1#105 0.13315777                             \n",
       "            ENSG00000021300_PLEKHB1_.11_73339784_G_A\n",
       "21843_1#10  -0.03793941                             \n",
       "21843_1#100 -0.06425603                             \n",
       "21843_1#101 -0.04211749                             \n",
       "21843_1#102  0.05210891                             \n",
       "21843_1#103 -0.04432031                             \n",
       "21843_1#105 -0.03401761                             \n",
       "            ENSG00000029639_TFB1M_.6_155635808_C_G\n",
       "21843_1#10  -0.029324411                          \n",
       "21843_1#100 -0.017894114                          \n",
       "21843_1#101 -0.028163711                          \n",
       "21843_1#102 -0.039448204                          \n",
       "21843_1#103 -0.010911430                          \n",
       "21843_1#105 -0.004702419                          \n",
       "            ENSG00000033178_UBA6_.4_68480525_C_T\n",
       "21843_1#10   0.031398501                        \n",
       "21843_1#100 -0.064683766                        \n",
       "21843_1#101 -0.079442257                        \n",
       "21843_1#102  0.002744249                        \n",
       "21843_1#103 -0.024407791                        \n",
       "21843_1#105 -0.075634975                        \n",
       "            ENSG00000035115_SH3YL1_.2_256116_G_T\n",
       "21843_1#10  -0.03962300                         \n",
       "21843_1#100 -0.08820444                         \n",
       "21843_1#101 -0.05854781                         \n",
       "21843_1#102 -0.08783030                         \n",
       "21843_1#103 -0.03931027                         \n",
       "21843_1#105 -0.02003224                         \n",
       "            ENSG00000059377_TBXAS1_.7_139547370_G_A\n",
       "21843_1#10  0.08013833                             \n",
       "21843_1#100 0.23273882                             \n",
       "21843_1#101 0.14245545                             \n",
       "21843_1#102 0.06083871                             \n",
       "21843_1#103 0.06883815                             \n",
       "21843_1#105 0.09548422                             \n",
       "            ENSG00000063761_ADCK1_.14_78311319_G_A ...\n",
       "21843_1#10  0.027498382                            ...\n",
       "21843_1#100 0.040375905                            ...\n",
       "21843_1#101 0.019225081                            ...\n",
       "21843_1#102 0.034590880                            ...\n",
       "21843_1#103 0.009218694                            ...\n",
       "21843_1#105 0.003292832                            ...\n",
       "            ENSG00000248098_BCKDHA_.19_41937095_G_A\n",
       "21843_1#10  -0.08185803                            \n",
       "21843_1#100 -0.16133495                            \n",
       "21843_1#101 -0.08464140                            \n",
       "21843_1#102 -0.05465162                            \n",
       "21843_1#103 -0.04543236                            \n",
       "21843_1#105 -0.08535482                            \n",
       "            ENSG00000248124_RRN3P1_.16_21818292_A_C\n",
       "21843_1#10  -0.10862369                            \n",
       "21843_1#100 -0.45571807                            \n",
       "21843_1#101 -0.22917228                            \n",
       "21843_1#102 -0.09382258                            \n",
       "21843_1#103 -0.13128624                            \n",
       "21843_1#105 -0.14593277                            \n",
       "            ENSG00000250317_SMIM20_.4_25918516_A_G\n",
       "21843_1#10  -0.10317566                           \n",
       "21843_1#100 -0.09858982                           \n",
       "21843_1#101 -0.08647358                           \n",
       "21843_1#102 -0.12475134                           \n",
       "21843_1#103 -0.06491895                           \n",
       "21843_1#105 -0.07771164                           \n",
       "            ENSG00000253203_GUSBP3_.5_68922087_T_G\n",
       "21843_1#10  -0.048543205                          \n",
       "21843_1#100 -0.095641305                          \n",
       "21843_1#101 -0.027566411                          \n",
       "21843_1#102 -0.009728905                          \n",
       "21843_1#103 -0.033262391                          \n",
       "21843_1#105 -0.053617513                          \n",
       "            ENSG00000254184_TYW1B_.7_72200923_G_A\n",
       "21843_1#10  0.095111678                          \n",
       "21843_1#100 0.007662211                          \n",
       "21843_1#101 0.030433187                          \n",
       "21843_1#102 0.052761776                          \n",
       "21843_1#103 0.063575007                          \n",
       "21843_1#105 0.141638220                          \n",
       "            ENSG00000256018_HIST1H3G_.6_26198845_G_C\n",
       "21843_1#10  -0.002571070                            \n",
       "21843_1#100 -0.001386594                            \n",
       "21843_1#101 -0.038522875                            \n",
       "21843_1#102 -0.008942713                            \n",
       "21843_1#103  0.044047100                            \n",
       "21843_1#105  0.019637691                            \n",
       "            ENSG00000256073_C21orf119_.21_33728588_C_A\n",
       "21843_1#10  -0.055608331                              \n",
       "21843_1#100 -0.094118770                              \n",
       "21843_1#101 -0.007152012                              \n",
       "21843_1#102 -0.024298554                              \n",
       "21843_1#103 -0.037472203                              \n",
       "21843_1#105  0.041395040                              \n",
       "            ENSG00000259024_TVP23C.CDRT4_.17_15434991_C_T\n",
       "21843_1#10  0.1931245                                    \n",
       "21843_1#100 0.2614240                                    \n",
       "21843_1#101 0.1489600                                    \n",
       "21843_1#102 0.2108875                                    \n",
       "21843_1#103 0.1392061                                    \n",
       "21843_1#105 0.1576655                                    \n",
       "            ENSG00000259803_SLC22A31_.16_89234110_G_C\n",
       "21843_1#10  -0.06168149                              \n",
       "21843_1#100 -0.16271379                              \n",
       "21843_1#101 -0.08467373                              \n",
       "21843_1#102 -0.06577307                              \n",
       "21843_1#103 -0.06160699                              \n",
       "21843_1#105 -0.03509197                              \n",
       "            ENSG00000267323_SLC25A1P5_.19_28298186_T_C\n",
       "21843_1#10   0.054686251                              \n",
       "21843_1#100 -0.037051849                              \n",
       "21843_1#101 -0.001068028                              \n",
       "21843_1#102  0.020432219                              \n",
       "21843_1#103  0.047756355                              \n",
       "21843_1#105  0.113248113                              "
      ]
     },
     "metadata": {},
     "output_type": "display_data"
    }
   ],
   "source": [
    "df_beta = read.csv(\"/hps/nobackup/stegle/users/acuomo/all_scripts/struct_LMM2/sc_endodiff/debug_May2021/genetic_effect/MOFA10/eqtl_tot_genetic_effect_all.txt\", sep=\"\\t\",row.names = 1)\n",
    "head(df_beta)"
   ]
  },
  {
   "cell_type": "code",
   "execution_count": 81,
   "id": "a59b492b",
   "metadata": {
    "scrolled": true
   },
   "outputs": [
    {
     "data": {
      "text/html": [],
      "text/latex": [],
      "text/markdown": [],
      "text/plain": [
       "integer(0)"
      ]
     },
     "metadata": {},
     "output_type": "display_data"
    },
    {
     "data": {
      "text/html": [],
      "text/latex": [],
      "text/markdown": [],
      "text/plain": [
       "integer(0)"
      ]
     },
     "metadata": {},
     "output_type": "display_data"
    }
   ],
   "source": [
    "grep(\"RPS11\",colnames(df_beta))\n",
    "grep(\"PTPRS\",colnames(df_beta))"
   ]
  },
  {
   "cell_type": "code",
   "execution_count": null,
   "id": "f05dcfa5",
   "metadata": {},
   "outputs": [],
   "source": []
  },
  {
   "cell_type": "code",
   "execution_count": null,
   "id": "3eb6f056",
   "metadata": {},
   "outputs": [],
   "source": []
  }
 ],
 "metadata": {
  "kernelspec": {
   "display_name": "R",
   "language": "R",
   "name": "ir"
  },
  "language_info": {
   "codemirror_mode": "r",
   "file_extension": ".r",
   "mimetype": "text/x-r-source",
   "name": "R",
   "pygments_lexer": "r",
   "version": "3.6.1"
  }
 },
 "nbformat": 4,
 "nbformat_minor": 5
}
