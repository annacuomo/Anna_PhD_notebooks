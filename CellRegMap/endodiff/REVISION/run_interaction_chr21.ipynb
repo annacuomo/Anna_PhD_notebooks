{
 "cells": [
  {
   "cell_type": "code",
   "execution_count": 1,
   "id": "fdcfe8f4",
   "metadata": {},
   "outputs": [],
   "source": [
    "import re\n",
    "import time\n",
    "import pandas as pd\n",
    "import xarray as xr\n",
    "from numpy import ones\n",
    "from numpy.linalg import cholesky\n",
    "from pandas_plink import read_plink1_bin\n",
    "from limix.qc import quantile_gaussianize"
   ]
  },
  {
   "cell_type": "code",
   "execution_count": 2,
   "id": "4a553549",
   "metadata": {},
   "outputs": [
    {
     "data": {
      "text/plain": [
       "<module 'cellregmap' from '/hps/nobackup2/stegle/users/acuomo/git_repos/CellRegMap/cellregmap/__init__.py'>"
      ]
     },
     "execution_count": 2,
     "metadata": {},
     "output_type": "execute_result"
    }
   ],
   "source": [
    "import cellregmap \n",
    "cellregmap "
   ]
  },
  {
   "cell_type": "code",
   "execution_count": 3,
   "id": "ba56d6c4",
   "metadata": {},
   "outputs": [],
   "source": [
    "from cellregmap import run_interaction"
   ]
  },
  {
   "cell_type": "code",
   "execution_count": 33,
   "id": "015e3adc",
   "metadata": {},
   "outputs": [],
   "source": [
    "revision_folder = \"/hps/nobackup2/stegle/users/acuomo/all_scripts/struct_LMM2/sc_endodiff/debug_May2021/REVISION/\""
   ]
  },
  {
   "cell_type": "code",
   "execution_count": 5,
   "id": "73057a5e",
   "metadata": {},
   "outputs": [],
   "source": [
    "# run 10 tests per job"
   ]
  },
  {
   "cell_type": "code",
   "execution_count": 8,
   "id": "334627f8",
   "metadata": {},
   "outputs": [],
   "source": [
    "input_files_dir = \"/hps/nobackup2/stegle/users/acuomo/all_scripts/struct_LMM2/sc_endodiff/new/input_files/\""
   ]
  },
  {
   "cell_type": "code",
   "execution_count": 9,
   "id": "e335fd07",
   "metadata": {},
   "outputs": [],
   "source": [
    "## sample mapping file\n",
    "## this file will map cells to donors \n",
    "## it will also only include donors we have single-cell data for (a subset of all of HipSci donors)\n",
    "sample_mapping_file = input_files_dir+\"sample_mapping_file.csv\"\n",
    "sample_mapping = pd.read_csv(sample_mapping_file, dtype={\"genotype_individual_id\": str, \"phenotype_sample_id\": str})"
   ]
  },
  {
   "cell_type": "code",
   "execution_count": 10,
   "id": "2376f693",
   "metadata": {},
   "outputs": [
    {
     "data": {
      "text/html": [
       "<div>\n",
       "<style scoped>\n",
       "    .dataframe tbody tr th:only-of-type {\n",
       "        vertical-align: middle;\n",
       "    }\n",
       "\n",
       "    .dataframe tbody tr th {\n",
       "        vertical-align: top;\n",
       "    }\n",
       "\n",
       "    .dataframe thead th {\n",
       "        text-align: right;\n",
       "    }\n",
       "</style>\n",
       "<table border=\"1\" class=\"dataframe\">\n",
       "  <thead>\n",
       "    <tr style=\"text-align: right;\">\n",
       "      <th></th>\n",
       "      <th>genotype_individual_id</th>\n",
       "      <th>phenotype_sample_id</th>\n",
       "    </tr>\n",
       "  </thead>\n",
       "  <tbody>\n",
       "    <tr>\n",
       "      <th>0</th>\n",
       "      <td>HPSI0114i-joxm_1</td>\n",
       "      <td>21843_1#10</td>\n",
       "    </tr>\n",
       "    <tr>\n",
       "      <th>1</th>\n",
       "      <td>HPSI0314i-fafq_1</td>\n",
       "      <td>21843_1#100</td>\n",
       "    </tr>\n",
       "    <tr>\n",
       "      <th>2</th>\n",
       "      <td>HPSI0314i-fafq_1</td>\n",
       "      <td>21843_1#101</td>\n",
       "    </tr>\n",
       "    <tr>\n",
       "      <th>3</th>\n",
       "      <td>HPSI1013i-wuye_2</td>\n",
       "      <td>21843_1#102</td>\n",
       "    </tr>\n",
       "    <tr>\n",
       "      <th>4</th>\n",
       "      <td>HPSI0114i-joxm_1</td>\n",
       "      <td>21843_1#103</td>\n",
       "    </tr>\n",
       "  </tbody>\n",
       "</table>\n",
       "</div>"
      ],
      "text/plain": [
       "  genotype_individual_id phenotype_sample_id\n",
       "0       HPSI0114i-joxm_1          21843_1#10\n",
       "1       HPSI0314i-fafq_1         21843_1#100\n",
       "2       HPSI0314i-fafq_1         21843_1#101\n",
       "3       HPSI1013i-wuye_2         21843_1#102\n",
       "4       HPSI0114i-joxm_1         21843_1#103"
      ]
     },
     "execution_count": 10,
     "metadata": {},
     "output_type": "execute_result"
    }
   ],
   "source": [
    "## genotype_individual_id are donor IDs, as found in the genotype matrix (G) and GRM covariance (K)\n",
    "## phenotype_sample_id are cell IDs, as found in the scRNA-seq phenotype vector (y) and cell context covariance (C)\n",
    "sample_mapping.head()"
   ]
  },
  {
   "cell_type": "code",
   "execution_count": 11,
   "id": "36438945",
   "metadata": {},
   "outputs": [
    {
     "name": "stdout",
     "output_type": "stream",
     "text": [
      "Number of unique donors: 126\n"
     ]
    }
   ],
   "source": [
    "## extract unique individuals\n",
    "donors = sample_mapping[\"genotype_individual_id\"].unique()\n",
    "donors.sort()\n",
    "print(\"Number of unique donors: {}\".format(len(donors)))"
   ]
  },
  {
   "cell_type": "code",
   "execution_count": 12,
   "id": "a877e72a",
   "metadata": {},
   "outputs": [],
   "source": [
    "############################################\n",
    "################ Kinship matrix ############\n",
    "############################################"
   ]
  },
  {
   "cell_type": "code",
   "execution_count": 23,
   "id": "81fee358",
   "metadata": {},
   "outputs": [],
   "source": [
    "## read in GRM (genotype relationship matrix; kinship matrix)\n",
    "kinship_folder=\"/hps/nobackup2/stegle/users/acuomo/hipsci_genotype_files/\"\n",
    "kinship_file=kinship_folder+\"hipsci.wec.gtarray.HumanCoreExome.imputed_phased.20170327.genotypes.norm.renamed.kinship\"\n",
    "K = pd.read_csv(kinship_file, sep=\"\\t\", index_col=0)\n",
    "assert all(K.columns == K.index) #symmetric matrix, donors x donors"
   ]
  },
  {
   "cell_type": "code",
   "execution_count": 24,
   "id": "e45b9e45",
   "metadata": {},
   "outputs": [
    {
     "name": "stdout",
     "output_type": "stream",
     "text": [
      "Number of donors after kinship intersection: 125\n"
     ]
    }
   ],
   "source": [
    "K = xr.DataArray(K.values, dims=[\"sample_0\", \"sample_1\"], coords={\"sample_0\": K.columns, \"sample_1\": K.index})\n",
    "K = K.sortby(\"sample_0\").sortby(\"sample_1\")\n",
    "donors = sorted(set(list(K.sample_0.values)).intersection(donors))\n",
    "print(\"Number of donors after kinship intersection: {}\".format(len(donors)))"
   ]
  },
  {
   "cell_type": "code",
   "execution_count": 25,
   "id": "93129520",
   "metadata": {},
   "outputs": [],
   "source": [
    "## subset to relevant donors\n",
    "K = K.sel(sample_0=donors, sample_1=donors)\n",
    "assert all(K.sample_0 == donors)\n",
    "assert all(K.sample_1 == donors)"
   ]
  },
  {
   "cell_type": "code",
   "execution_count": 26,
   "id": "731b83fc",
   "metadata": {},
   "outputs": [],
   "source": [
    "## and decompose such as K = hK @ hK.T (using Cholesky decomposition)\n",
    "hK = cholesky(K.values)\n",
    "hK = xr.DataArray(hK, dims=[\"sample\", \"col\"], coords={\"sample\": K.sample_0.values})\n",
    "assert all(hK.sample.values == K.sample_0.values)"
   ]
  },
  {
   "cell_type": "code",
   "execution_count": 27,
   "id": "f23d6aaa",
   "metadata": {},
   "outputs": [
    {
     "name": "stdout",
     "output_type": "stream",
     "text": [
      "Sample mapping number of rows BEFORE intersection: 33964\n",
      "Sample mapping number of rows AFTER intersection: 33964\n"
     ]
    }
   ],
   "source": [
    "del K\n",
    "print(\"Sample mapping number of rows BEFORE intersection: {}\".format(sample_mapping.shape[0]))\n",
    "## subsample sample mapping file to donors in the kinship matrix\n",
    "sample_mapping = sample_mapping[sample_mapping[\"genotype_individual_id\"].isin(donors)]\n",
    "print(\"Sample mapping number of rows AFTER intersection: {}\".format(sample_mapping.shape[0]))"
   ]
  },
  {
   "cell_type": "code",
   "execution_count": 28,
   "id": "dcd69eab",
   "metadata": {},
   "outputs": [],
   "source": [
    "############################################\n",
    "##### expand from donors to cells ##########"
   ]
  },
  {
   "cell_type": "code",
   "execution_count": 29,
   "id": "a79f1b11",
   "metadata": {},
   "outputs": [],
   "source": [
    "## use sel from xarray to expand hK (using the sample mapping file)\n",
    "hK_expanded = hK.sel(sample=sample_mapping[\"genotype_individual_id\"].values)\n",
    "assert all(hK_expanded.sample.values == sample_mapping[\"genotype_individual_id\"].values)"
   ]
  },
  {
   "cell_type": "code",
   "execution_count": null,
   "id": "33b8a4b7",
   "metadata": {},
   "outputs": [],
   "source": []
  },
  {
   "cell_type": "code",
   "execution_count": 30,
   "id": "d4737a86",
   "metadata": {},
   "outputs": [],
   "source": [
    "######################################\n",
    "############### Genotypes ############\n",
    "######################################"
   ]
  },
  {
   "cell_type": "code",
   "execution_count": 31,
   "id": "f074819d",
   "metadata": {},
   "outputs": [
    {
     "name": "stderr",
     "output_type": "stream",
     "text": [
      "Mapping files: 100%|██████████| 3/3 [05:54<00:00, 118.29s/it]\n"
     ]
    }
   ],
   "source": [
    "## read in genotype file (plink format)\n",
    "plink_folder = \"/hps/nobackup2/stegle/users/acuomo/hipsci_genotype_files/\"\n",
    "plink_file = plink_folder+\"hipsci.wec.gtarray.HumanCoreExome.imputed_phased.20170327.genotypes.norm.renamed.bed\"\n",
    "G = read_plink1_bin(plink_file)"
   ]
  },
  {
   "cell_type": "code",
   "execution_count": 20,
   "id": "23fd8df2",
   "metadata": {},
   "outputs": [],
   "source": [
    "#############################\n",
    "###### SNP selection"
   ]
  },
  {
   "cell_type": "code",
   "execution_count": 34,
   "id": "e52051c9",
   "metadata": {},
   "outputs": [
    {
     "data": {
      "text/html": [
       "<div>\n",
       "<style scoped>\n",
       "    .dataframe tbody tr th:only-of-type {\n",
       "        vertical-align: middle;\n",
       "    }\n",
       "\n",
       "    .dataframe tbody tr th {\n",
       "        vertical-align: top;\n",
       "    }\n",
       "\n",
       "    .dataframe thead th {\n",
       "        text-align: right;\n",
       "    }\n",
       "</style>\n",
       "<table border=\"1\" class=\"dataframe\">\n",
       "  <thead>\n",
       "    <tr style=\"text-align: right;\">\n",
       "      <th></th>\n",
       "      <th>feature</th>\n",
       "      <th>snpID</th>\n",
       "      <th>chrom</th>\n",
       "    </tr>\n",
       "  </thead>\n",
       "  <tbody>\n",
       "    <tr>\n",
       "      <th>1</th>\n",
       "      <td>ENSG00000256073_C21orf119</td>\n",
       "      <td>21_33666631_T_C</td>\n",
       "      <td>21</td>\n",
       "    </tr>\n",
       "    <tr>\n",
       "      <th>2</th>\n",
       "      <td>ENSG00000256073_C21orf119</td>\n",
       "      <td>21_33667566_G_A</td>\n",
       "      <td>21</td>\n",
       "    </tr>\n",
       "    <tr>\n",
       "      <th>3</th>\n",
       "      <td>ENSG00000256073_C21orf119</td>\n",
       "      <td>21_33667866_C_T</td>\n",
       "      <td>21</td>\n",
       "    </tr>\n",
       "    <tr>\n",
       "      <th>4</th>\n",
       "      <td>ENSG00000256073_C21orf119</td>\n",
       "      <td>21_33668024_T_C</td>\n",
       "      <td>21</td>\n",
       "    </tr>\n",
       "    <tr>\n",
       "      <th>5</th>\n",
       "      <td>ENSG00000256073_C21orf119</td>\n",
       "      <td>21_33668131_A_G</td>\n",
       "      <td>21</td>\n",
       "    </tr>\n",
       "    <tr>\n",
       "      <th>6</th>\n",
       "      <td>ENSG00000256073_C21orf119</td>\n",
       "      <td>21_33668493_A_C</td>\n",
       "      <td>21</td>\n",
       "    </tr>\n",
       "    <tr>\n",
       "      <th>7</th>\n",
       "      <td>ENSG00000256073_C21orf119</td>\n",
       "      <td>21_33668891_A_G</td>\n",
       "      <td>21</td>\n",
       "    </tr>\n",
       "    <tr>\n",
       "      <th>8</th>\n",
       "      <td>ENSG00000256073_C21orf119</td>\n",
       "      <td>21_33669542_A_G</td>\n",
       "      <td>21</td>\n",
       "    </tr>\n",
       "    <tr>\n",
       "      <th>9</th>\n",
       "      <td>ENSG00000256073_C21orf119</td>\n",
       "      <td>21_33670219_C_T</td>\n",
       "      <td>21</td>\n",
       "    </tr>\n",
       "    <tr>\n",
       "      <th>10</th>\n",
       "      <td>ENSG00000256073_C21orf119</td>\n",
       "      <td>21_33670344_C_T</td>\n",
       "      <td>21</td>\n",
       "    </tr>\n",
       "    <tr>\n",
       "      <th>11</th>\n",
       "      <td>ENSG00000256073_C21orf119</td>\n",
       "      <td>21_33670607_G_C</td>\n",
       "      <td>21</td>\n",
       "    </tr>\n",
       "    <tr>\n",
       "      <th>12</th>\n",
       "      <td>ENSG00000256073_C21orf119</td>\n",
       "      <td>21_33671479_T_C</td>\n",
       "      <td>21</td>\n",
       "    </tr>\n",
       "    <tr>\n",
       "      <th>13</th>\n",
       "      <td>ENSG00000256073_C21orf119</td>\n",
       "      <td>21_33671671_G_A</td>\n",
       "      <td>21</td>\n",
       "    </tr>\n",
       "    <tr>\n",
       "      <th>14</th>\n",
       "      <td>ENSG00000256073_C21orf119</td>\n",
       "      <td>21_33672789_G_A</td>\n",
       "      <td>21</td>\n",
       "    </tr>\n",
       "    <tr>\n",
       "      <th>15</th>\n",
       "      <td>ENSG00000256073_C21orf119</td>\n",
       "      <td>21_33672904_C_T</td>\n",
       "      <td>21</td>\n",
       "    </tr>\n",
       "    <tr>\n",
       "      <th>16</th>\n",
       "      <td>ENSG00000256073_C21orf119</td>\n",
       "      <td>21_33673157_C_T</td>\n",
       "      <td>21</td>\n",
       "    </tr>\n",
       "    <tr>\n",
       "      <th>17</th>\n",
       "      <td>ENSG00000256073_C21orf119</td>\n",
       "      <td>21_33673171_C_T</td>\n",
       "      <td>21</td>\n",
       "    </tr>\n",
       "    <tr>\n",
       "      <th>18</th>\n",
       "      <td>ENSG00000256073_C21orf119</td>\n",
       "      <td>21_33674424_A_G</td>\n",
       "      <td>21</td>\n",
       "    </tr>\n",
       "    <tr>\n",
       "      <th>19</th>\n",
       "      <td>ENSG00000256073_C21orf119</td>\n",
       "      <td>21_33675195_A_G</td>\n",
       "      <td>21</td>\n",
       "    </tr>\n",
       "    <tr>\n",
       "      <th>20</th>\n",
       "      <td>ENSG00000256073_C21orf119</td>\n",
       "      <td>21_33676298_T_G</td>\n",
       "      <td>21</td>\n",
       "    </tr>\n",
       "  </tbody>\n",
       "</table>\n",
       "</div>"
      ],
      "text/plain": [
       "                      feature            snpID  chrom\n",
       "1   ENSG00000256073_C21orf119  21_33666631_T_C     21\n",
       "2   ENSG00000256073_C21orf119  21_33667566_G_A     21\n",
       "3   ENSG00000256073_C21orf119  21_33667866_C_T     21\n",
       "4   ENSG00000256073_C21orf119  21_33668024_T_C     21\n",
       "5   ENSG00000256073_C21orf119  21_33668131_A_G     21\n",
       "6   ENSG00000256073_C21orf119  21_33668493_A_C     21\n",
       "7   ENSG00000256073_C21orf119  21_33668891_A_G     21\n",
       "8   ENSG00000256073_C21orf119  21_33669542_A_G     21\n",
       "9   ENSG00000256073_C21orf119  21_33670219_C_T     21\n",
       "10  ENSG00000256073_C21orf119  21_33670344_C_T     21\n",
       "11  ENSG00000256073_C21orf119  21_33670607_G_C     21\n",
       "12  ENSG00000256073_C21orf119  21_33671479_T_C     21\n",
       "13  ENSG00000256073_C21orf119  21_33671671_G_A     21\n",
       "14  ENSG00000256073_C21orf119  21_33672789_G_A     21\n",
       "15  ENSG00000256073_C21orf119  21_33672904_C_T     21\n",
       "16  ENSG00000256073_C21orf119  21_33673157_C_T     21\n",
       "17  ENSG00000256073_C21orf119  21_33673171_C_T     21\n",
       "18  ENSG00000256073_C21orf119  21_33674424_A_G     21\n",
       "19  ENSG00000256073_C21orf119  21_33675195_A_G     21\n",
       "20  ENSG00000256073_C21orf119  21_33676298_T_G     21"
      ]
     },
     "execution_count": 34,
     "metadata": {},
     "output_type": "execute_result"
    }
   ],
   "source": [
    "# filter file (columns: snp_id, gene)\n",
    "fvf_filename = revision_folder+\"/CRM_interaction_chr21/fvf.csv\"\n",
    "fvf = pd.read_csv(fvf_filename, index_col = 0)\n",
    "fvf.head(20)"
   ]
  },
  {
   "cell_type": "code",
   "execution_count": 578,
   "id": "ae260825",
   "metadata": {},
   "outputs": [],
   "source": [
    "i = 61\n",
    "genes = fvf['feature'].unique()"
   ]
  },
  {
   "cell_type": "code",
   "execution_count": 579,
   "id": "7f9aa46c",
   "metadata": {},
   "outputs": [],
   "source": [
    "gene = genes[i]"
   ]
  },
  {
   "cell_type": "code",
   "execution_count": 580,
   "id": "7ccacf3e",
   "metadata": {},
   "outputs": [],
   "source": [
    "fvf_gene = fvf[fvf['feature']==gene]"
   ]
  },
  {
   "cell_type": "code",
   "execution_count": 581,
   "id": "7952bbf2",
   "metadata": {},
   "outputs": [
    {
     "data": {
      "text/plain": [
       "646"
      ]
     },
     "execution_count": 581,
     "metadata": {},
     "output_type": "execute_result"
    }
   ],
   "source": [
    "n = fvf_gene.shape[0]\n",
    "n"
   ]
  },
  {
   "cell_type": "code",
   "execution_count": 582,
   "id": "37af517d",
   "metadata": {},
   "outputs": [],
   "source": [
    "# for i in range(0,n,10):\n",
    "#     print(i)"
   ]
  },
  {
   "cell_type": "code",
   "execution_count": 614,
   "id": "b9913d60",
   "metadata": {},
   "outputs": [],
   "source": [
    "j = 30"
   ]
  },
  {
   "cell_type": "code",
   "execution_count": 615,
   "id": "84df229d",
   "metadata": {},
   "outputs": [
    {
     "data": {
      "text/html": [
       "<div>\n",
       "<style scoped>\n",
       "    .dataframe tbody tr th:only-of-type {\n",
       "        vertical-align: middle;\n",
       "    }\n",
       "\n",
       "    .dataframe tbody tr th {\n",
       "        vertical-align: top;\n",
       "    }\n",
       "\n",
       "    .dataframe thead th {\n",
       "        text-align: right;\n",
       "    }\n",
       "</style>\n",
       "<table border=\"1\" class=\"dataframe\">\n",
       "  <thead>\n",
       "    <tr style=\"text-align: right;\">\n",
       "      <th></th>\n",
       "      <th>feature</th>\n",
       "      <th>snpID</th>\n",
       "      <th>chrom</th>\n",
       "    </tr>\n",
       "  </thead>\n",
       "  <tbody>\n",
       "    <tr>\n",
       "      <th>39346</th>\n",
       "      <td>ENSG00000159256_MORC3</td>\n",
       "      <td>21_37609571_T_C</td>\n",
       "      <td>21</td>\n",
       "    </tr>\n",
       "    <tr>\n",
       "      <th>39347</th>\n",
       "      <td>ENSG00000159256_MORC3</td>\n",
       "      <td>21_37609954_G_A</td>\n",
       "      <td>21</td>\n",
       "    </tr>\n",
       "    <tr>\n",
       "      <th>39348</th>\n",
       "      <td>ENSG00000159256_MORC3</td>\n",
       "      <td>21_37610551_C_G</td>\n",
       "      <td>21</td>\n",
       "    </tr>\n",
       "    <tr>\n",
       "      <th>39349</th>\n",
       "      <td>ENSG00000159256_MORC3</td>\n",
       "      <td>21_37611563_G_C</td>\n",
       "      <td>21</td>\n",
       "    </tr>\n",
       "    <tr>\n",
       "      <th>39350</th>\n",
       "      <td>ENSG00000159256_MORC3</td>\n",
       "      <td>21_37611577_G_T</td>\n",
       "      <td>21</td>\n",
       "    </tr>\n",
       "    <tr>\n",
       "      <th>39351</th>\n",
       "      <td>ENSG00000159256_MORC3</td>\n",
       "      <td>21_37611892_G_A</td>\n",
       "      <td>21</td>\n",
       "    </tr>\n",
       "    <tr>\n",
       "      <th>39352</th>\n",
       "      <td>ENSG00000159256_MORC3</td>\n",
       "      <td>21_37612407_C_G</td>\n",
       "      <td>21</td>\n",
       "    </tr>\n",
       "    <tr>\n",
       "      <th>39353</th>\n",
       "      <td>ENSG00000159256_MORC3</td>\n",
       "      <td>21_37612564_G_A</td>\n",
       "      <td>21</td>\n",
       "    </tr>\n",
       "    <tr>\n",
       "      <th>39354</th>\n",
       "      <td>ENSG00000159256_MORC3</td>\n",
       "      <td>21_37612673_G_A</td>\n",
       "      <td>21</td>\n",
       "    </tr>\n",
       "    <tr>\n",
       "      <th>39355</th>\n",
       "      <td>ENSG00000159256_MORC3</td>\n",
       "      <td>21_37612696_T_C</td>\n",
       "      <td>21</td>\n",
       "    </tr>\n",
       "  </tbody>\n",
       "</table>\n",
       "</div>"
      ],
      "text/plain": [
       "                     feature            snpID  chrom\n",
       "39346  ENSG00000159256_MORC3  21_37609571_T_C     21\n",
       "39347  ENSG00000159256_MORC3  21_37609954_G_A     21\n",
       "39348  ENSG00000159256_MORC3  21_37610551_C_G     21\n",
       "39349  ENSG00000159256_MORC3  21_37611563_G_C     21\n",
       "39350  ENSG00000159256_MORC3  21_37611577_G_T     21\n",
       "39351  ENSG00000159256_MORC3  21_37611892_G_A     21\n",
       "39352  ENSG00000159256_MORC3  21_37612407_C_G     21\n",
       "39353  ENSG00000159256_MORC3  21_37612564_G_A     21\n",
       "39354  ENSG00000159256_MORC3  21_37612673_G_A     21\n",
       "39355  ENSG00000159256_MORC3  21_37612696_T_C     21"
      ]
     },
     "execution_count": 615,
     "metadata": {},
     "output_type": "execute_result"
    }
   ],
   "source": [
    "fvf_sel = fvf_gene.iloc[j:(j+10)]\n",
    "fvf_sel"
   ]
  },
  {
   "cell_type": "code",
   "execution_count": 616,
   "id": "e4e15bfc",
   "metadata": {},
   "outputs": [],
   "source": [
    "genes = fvf_sel['feature'].unique()"
   ]
  },
  {
   "cell_type": "code",
   "execution_count": 617,
   "id": "1cd6e4c3",
   "metadata": {},
   "outputs": [
    {
     "data": {
      "text/plain": [
       "array(['ENSG00000159256_MORC3'], dtype=object)"
      ]
     },
     "execution_count": 617,
     "metadata": {},
     "output_type": "execute_result"
    }
   ],
   "source": [
    "genes"
   ]
  },
  {
   "cell_type": "code",
   "execution_count": 618,
   "id": "b718d62b",
   "metadata": {},
   "outputs": [
    {
     "data": {
      "text/plain": [
       "'ENSG00000159256'"
      ]
     },
     "execution_count": 618,
     "metadata": {},
     "output_type": "execute_result"
    }
   ],
   "source": [
    "# (1) gene name (feature_id)\n",
    "gene_name = genes[0]\n",
    "trait_name = re.sub(\"_.*\",\"\",gene_name)\n",
    "trait_name"
   ]
  },
  {
   "cell_type": "code",
   "execution_count": 619,
   "id": "f28a6c24",
   "metadata": {},
   "outputs": [],
   "source": [
    "leads = fvf_sel[fvf_sel['feature']==gene_name]['snpID'].unique()"
   ]
  },
  {
   "cell_type": "code",
   "execution_count": 620,
   "id": "81b51ecd",
   "metadata": {},
   "outputs": [],
   "source": [
    "G_sel = G[:,G['snp'].isin(leads)]"
   ]
  },
  {
   "cell_type": "code",
   "execution_count": 621,
   "id": "efe8a93b",
   "metadata": {},
   "outputs": [
    {
     "data": {
      "text/plain": [
       "(1610, 10)"
      ]
     },
     "execution_count": 621,
     "metadata": {},
     "output_type": "execute_result"
    }
   ],
   "source": [
    "G_sel.shape"
   ]
  },
  {
   "cell_type": "code",
   "execution_count": null,
   "id": "2cc7f802",
   "metadata": {},
   "outputs": [],
   "source": []
  },
  {
   "cell_type": "code",
   "execution_count": 622,
   "id": "417860ef",
   "metadata": {},
   "outputs": [],
   "source": [
    "############################################\n",
    "##### expand from donors to cells ##########"
   ]
  },
  {
   "cell_type": "code",
   "execution_count": 623,
   "id": "21bf6373",
   "metadata": {},
   "outputs": [
    {
     "name": "stderr",
     "output_type": "stream",
     "text": [
      "/nfs/software/stegle/users/acuomo/conda-envs/struct-lmm2/lib/python3.8/site-packages/xarray/core/indexing.py:1369: PerformanceWarning: Slicing with an out-of-order index is generating 2383 times more chunks\n",
      "  return self.array[key]\n"
     ]
    }
   ],
   "source": [
    "# expand out genotypes from cells to donors (and select relevant donors in the same step)\n",
    "G_expanded = G_sel.sel(sample=sample_mapping[\"genotype_individual_id\"].values)\n",
    "assert all(hK_expanded.sample.values == G_expanded.sample.values)"
   ]
  },
  {
   "cell_type": "code",
   "execution_count": 624,
   "id": "ce37358d",
   "metadata": {},
   "outputs": [
    {
     "data": {
      "text/plain": [
       "(33964, 10)"
      ]
     },
     "execution_count": 624,
     "metadata": {},
     "output_type": "execute_result"
    }
   ],
   "source": [
    "G_expanded.shape"
   ]
  },
  {
   "cell_type": "code",
   "execution_count": null,
   "id": "0bcd98ca",
   "metadata": {},
   "outputs": [],
   "source": []
  },
  {
   "cell_type": "code",
   "execution_count": 625,
   "id": "367c187c",
   "metadata": {},
   "outputs": [],
   "source": [
    "######################################\n",
    "############## Phenotypes ############\n",
    "######################################"
   ]
  },
  {
   "cell_type": "code",
   "execution_count": 626,
   "id": "9e3ae394",
   "metadata": {},
   "outputs": [
    {
     "name": "stdout",
     "output_type": "stream",
     "text": [
      "Phenotype shape BEFORE selection: (11231, 34256)\n",
      "Phenotype shape AFTER selection: (11231, 33964)\n"
     ]
    }
   ],
   "source": [
    "# Phenotype (single-cell expression)\n",
    "phenotype_file = input_files_dir+\"phenotype.csv.pkl\"\n",
    "phenotype = pd.read_pickle(phenotype_file)\n",
    "print(\"Phenotype shape BEFORE selection: {}\".format(phenotype.shape))\n",
    "phenotype = xr.DataArray(phenotype.values, dims=[\"trait\", \"cell\"], coords={\"trait\": phenotype.index.values, \"cell\": phenotype.columns.values})\n",
    "phenotype = phenotype.sel(cell=sample_mapping[\"phenotype_sample_id\"].values)\n",
    "print(\"Phenotype shape AFTER selection: {}\".format(phenotype.shape))\n",
    "assert all(phenotype.cell.values == sample_mapping[\"phenotype_sample_id\"].values)"
   ]
  },
  {
   "cell_type": "code",
   "execution_count": 627,
   "id": "810e813d",
   "metadata": {},
   "outputs": [],
   "source": [
    "# select gene\n",
    "y = phenotype.sel(trait=gene_name)\n",
    "# quantile normalise\n",
    "y = quantile_gaussianize(y)"
   ]
  },
  {
   "cell_type": "code",
   "execution_count": null,
   "id": "9b3663fd",
   "metadata": {},
   "outputs": [],
   "source": []
  },
  {
   "cell_type": "code",
   "execution_count": 628,
   "id": "65c6ac78",
   "metadata": {},
   "outputs": [],
   "source": [
    "######################################\n",
    "########## Cell contexts #############\n",
    "######################################"
   ]
  },
  {
   "cell_type": "code",
   "execution_count": 629,
   "id": "46b13bff",
   "metadata": {},
   "outputs": [],
   "source": [
    "# cells by MOFA factors (20)\n",
    "C_file = \"/hps/nobackup2/stegle/users/acuomo/all_scripts/struct_LMM2/sc_endodiff/debug_May2021/mofa_logcounts_model_factors.csv\"\n",
    "C = pd.read_csv(C_file, index_col = 0)\n",
    "C = xr.DataArray(C.values, dims=[\"cell\", \"pc\"], coords={\"cell\": C.index.values, \"pc\": C.columns.values})\n",
    "C = C.sel(cell=sample_mapping[\"phenotype_sample_id\"].values)\n",
    "assert all(C.cell.values == sample_mapping[\"phenotype_sample_id\"].values)"
   ]
  },
  {
   "cell_type": "code",
   "execution_count": 630,
   "id": "649d9b53",
   "metadata": {},
   "outputs": [],
   "source": [
    "# quantile normalise cell contexts\n",
    "C_gauss = quantile_gaussianize(C)"
   ]
  },
  {
   "cell_type": "code",
   "execution_count": null,
   "id": "5b9cafa2",
   "metadata": {},
   "outputs": [],
   "source": []
  },
  {
   "cell_type": "code",
   "execution_count": 631,
   "id": "209c5f56",
   "metadata": {},
   "outputs": [],
   "source": [
    "######################################\n",
    "############ Covariates ##############\n",
    "######################################"
   ]
  },
  {
   "cell_type": "code",
   "execution_count": 632,
   "id": "d766e993",
   "metadata": {},
   "outputs": [],
   "source": [
    "n_cells = phenotype.shape[1]\n",
    "W = ones((n_cells, 1))"
   ]
  },
  {
   "cell_type": "code",
   "execution_count": null,
   "id": "d392b068",
   "metadata": {},
   "outputs": [],
   "source": []
  },
  {
   "cell_type": "code",
   "execution_count": 633,
   "id": "8ac0aac6",
   "metadata": {},
   "outputs": [
    {
     "data": {
      "text/plain": [
       "(33964, 1)"
      ]
     },
     "execution_count": 633,
     "metadata": {},
     "output_type": "execute_result"
    }
   ],
   "source": [
    "y = y.values.reshape(y.shape[0],1)\n",
    "y.shape"
   ]
  },
  {
   "cell_type": "code",
   "execution_count": 634,
   "id": "ab305874",
   "metadata": {},
   "outputs": [
    {
     "data": {
      "text/plain": [
       "array([[1.],\n",
       "       [1.],\n",
       "       [1.],\n",
       "       ...,\n",
       "       [1.],\n",
       "       [1.],\n",
       "       [1.]])"
      ]
     },
     "execution_count": 634,
     "metadata": {},
     "output_type": "execute_result"
    }
   ],
   "source": [
    "W"
   ]
  },
  {
   "cell_type": "code",
   "execution_count": 635,
   "id": "5ec161de",
   "metadata": {},
   "outputs": [
    {
     "data": {
      "text/plain": [
       "array([[-0.59770402,  1.0674358 ,  0.0564961 , ...,  0.01520844,\n",
       "         0.29224277, -0.63273743],\n",
       "       [ 0.23328472,  2.13788372,  0.64681148, ..., -0.37349156,\n",
       "         1.78959325, -0.65923266],\n",
       "       [-0.05471216,  1.78603081, -0.09962504, ...,  0.07594282,\n",
       "         0.87996128,  0.6806354 ],\n",
       "       ...,\n",
       "       [-0.80078862,  0.93532776, -1.06457988, ..., -0.26132522,\n",
       "         0.29988706, -0.34527378],\n",
       "       [-0.65763778,  1.30469584, -0.52890777, ...,  0.07814063,\n",
       "         0.53126179, -0.13242109],\n",
       "       [-0.78633873,  1.4659787 , -0.61704333, ...,  0.28598122,\n",
       "         0.43912266,  0.24403696]])"
      ]
     },
     "execution_count": 635,
     "metadata": {},
     "output_type": "execute_result"
    }
   ],
   "source": [
    "C.values[:,0:10].shape\n",
    "C.values[:,0:10]"
   ]
  },
  {
   "cell_type": "code",
   "execution_count": 636,
   "id": "984dc601",
   "metadata": {},
   "outputs": [
    {
     "name": "stdout",
     "output_type": "stream",
     "text": [
      "--- 236.69298768043518 seconds ---\n"
     ]
    }
   ],
   "source": [
    "start_time = time.time()\n",
    "GG = G_expanded.values\n",
    "print(\"--- %s seconds ---\" % (time.time() - start_time))"
   ]
  },
  {
   "cell_type": "code",
   "execution_count": 637,
   "id": "35040283",
   "metadata": {},
   "outputs": [
    {
     "data": {
      "text/plain": [
       "(33964, 10)"
      ]
     },
     "execution_count": 637,
     "metadata": {},
     "output_type": "execute_result"
    }
   ],
   "source": [
    "GG.shape"
   ]
  },
  {
   "cell_type": "code",
   "execution_count": 638,
   "id": "e19f3b2f",
   "metadata": {},
   "outputs": [
    {
     "data": {
      "text/plain": [
       "array([[2., 0., 2., ..., 0., 0., 2.],\n",
       "       [1., 0., 1., ..., 0., 0., 1.],\n",
       "       [1., 0., 1., ..., 0., 0., 1.],\n",
       "       ...,\n",
       "       [2., 0., 2., ..., 0., 0., 2.],\n",
       "       [0., 1., 2., ..., 1., 1., 1.],\n",
       "       [0., 1., 2., ..., 1., 1., 1.]], dtype=float32)"
      ]
     },
     "execution_count": 638,
     "metadata": {},
     "output_type": "execute_result"
    }
   ],
   "source": [
    "GG"
   ]
  },
  {
   "cell_type": "code",
   "execution_count": null,
   "id": "9aed553f",
   "metadata": {},
   "outputs": [
    {
     "name": "stderr",
     "output_type": "stream",
     "text": [
      " 70%|███████   | 7/10 [36:01<15:26, 308.68s/it]"
     ]
    }
   ],
   "source": [
    "start_time = time.time()\n",
    "pvals = run_interaction(y, W=W, E=C_gauss.values[:,0:10], E1=C_gauss.values[:,0:10], E2=C.values[:,0:20], G=GG, hK=hK_expanded)[0]\n",
    "print(\"--- %s seconds ---\" % (time.time() - start_time))"
   ]
  },
  {
   "cell_type": "code",
   "execution_count": null,
   "id": "bc91e05f",
   "metadata": {},
   "outputs": [],
   "source": [
    "pv = pd.DataFrame({\"chrom\":G_expanded.chrom.values,\n",
    "               \"pv\":pvals,\n",
    "               \"variant\":G_expanded.snp.values})\n",
    "pv.head()"
   ]
  },
  {
   "cell_type": "code",
   "execution_count": null,
   "id": "7cec52cf",
   "metadata": {},
   "outputs": [],
   "source": [
    "folder = revision_folder+\"CRM_interaction_chr22/results/\"\n",
    "outfilename = f\"{folder}{trait_name}_{j}.tsv\""
   ]
  },
  {
   "cell_type": "code",
   "execution_count": null,
   "id": "a20d29b8",
   "metadata": {},
   "outputs": [],
   "source": [
    "outfilename"
   ]
  },
  {
   "cell_type": "code",
   "execution_count": null,
   "id": "d247e319",
   "metadata": {},
   "outputs": [],
   "source": [
    "import os\n",
    "if os.path.exists(outfilename):\n",
    "    print(\"File already exists, exiting\")"
   ]
  },
  {
   "cell_type": "code",
   "execution_count": null,
   "id": "ec33253b",
   "metadata": {},
   "outputs": [],
   "source": [
    "pv.to_csv(outfilename)"
   ]
  },
  {
   "cell_type": "code",
   "execution_count": null,
   "id": "b7722c7f",
   "metadata": {},
   "outputs": [],
   "source": []
  },
  {
   "cell_type": "code",
   "execution_count": null,
   "id": "8f92072f",
   "metadata": {},
   "outputs": [],
   "source": []
  },
  {
   "cell_type": "code",
   "execution_count": null,
   "id": "bf8d4d86",
   "metadata": {},
   "outputs": [],
   "source": []
  },
  {
   "cell_type": "code",
   "execution_count": null,
   "id": "dbd3ff13",
   "metadata": {},
   "outputs": [],
   "source": []
  },
  {
   "cell_type": "code",
   "execution_count": null,
   "id": "f9b565e5",
   "metadata": {},
   "outputs": [],
   "source": []
  },
  {
   "cell_type": "code",
   "execution_count": null,
   "id": "f92a88b0",
   "metadata": {},
   "outputs": [],
   "source": []
  }
 ],
 "metadata": {
  "kernelspec": {
   "display_name": "Python (struct-lmm2)",
   "language": "python",
   "name": "struct-lmm2"
  },
  "language_info": {
   "codemirror_mode": {
    "name": "ipython",
    "version": 3
   },
   "file_extension": ".py",
   "mimetype": "text/x-python",
   "name": "python",
   "nbconvert_exporter": "python",
   "pygments_lexer": "ipython3",
   "version": "3.8.5"
  }
 },
 "nbformat": 4,
 "nbformat_minor": 5
}
