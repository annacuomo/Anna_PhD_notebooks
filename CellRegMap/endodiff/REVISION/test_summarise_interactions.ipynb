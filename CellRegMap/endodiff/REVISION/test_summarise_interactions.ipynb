{
 "cells": [
  {
   "cell_type": "code",
   "execution_count": 8,
   "id": "415d7753",
   "metadata": {},
   "outputs": [],
   "source": [
    "import os\n",
    "import glob\n",
    "import pandas as pd"
   ]
  },
  {
   "cell_type": "code",
   "execution_count": 3,
   "id": "ea95da95",
   "metadata": {},
   "outputs": [],
   "source": [
    "path_results = \"/hps/nobackup/stegle/users/acuomo/all_scripts/struct_LMM2/sc_endodiff/debug_May2021/REVISION/CRM_interaction_chr22/results/\""
   ]
  },
  {
   "cell_type": "code",
   "execution_count": 4,
   "id": "845395b0",
   "metadata": {},
   "outputs": [
    {
     "name": "stdout",
     "output_type": "stream",
     "text": [
      "['/hps/nobackup/stegle/users/acuomo/all_scripts/struct_LMM2/sc_endodiff/debug_May2021/REVISION/CRM_interaction_chr22/results/ENSG00000100206_10.tsv', '/hps/nobackup/stegle/users/acuomo/all_scripts/struct_LMM2/sc_endodiff/debug_May2021/REVISION/CRM_interaction_chr22/results/ENSG00000100206_290.tsv', '/hps/nobackup/stegle/users/acuomo/all_scripts/struct_LMM2/sc_endodiff/debug_May2021/REVISION/CRM_interaction_chr22/results/ENSG00000100206_0.tsv']\n"
     ]
    }
   ],
   "source": [
    "fname = os.path.join(path_results,\"*.tsv\")\n",
    "files = glob.glob(fname)\n",
    "print (files)"
   ]
  },
  {
   "cell_type": "code",
   "execution_count": 6,
   "id": "b4ae7639",
   "metadata": {},
   "outputs": [
    {
     "data": {
      "text/plain": [
       "'/hps/nobackup/stegle/users/acuomo/all_scripts/struct_LMM2/sc_endodiff/debug_May2021/REVISION/CRM_interaction_chr22/results/ENSG00000100206_10.tsv'"
      ]
     },
     "execution_count": 6,
     "metadata": {},
     "output_type": "execute_result"
    }
   ],
   "source": [
    "file = files[0]\n",
    "file"
   ]
  },
  {
   "cell_type": "code",
   "execution_count": 9,
   "id": "38d6ce44",
   "metadata": {},
   "outputs": [
    {
     "data": {
      "text/html": [
       "<div>\n",
       "<style scoped>\n",
       "    .dataframe tbody tr th:only-of-type {\n",
       "        vertical-align: middle;\n",
       "    }\n",
       "\n",
       "    .dataframe tbody tr th {\n",
       "        vertical-align: top;\n",
       "    }\n",
       "\n",
       "    .dataframe thead th {\n",
       "        text-align: right;\n",
       "    }\n",
       "</style>\n",
       "<table border=\"1\" class=\"dataframe\">\n",
       "  <thead>\n",
       "    <tr style=\"text-align: right;\">\n",
       "      <th></th>\n",
       "      <th>chrom</th>\n",
       "      <th>pv</th>\n",
       "      <th>variant</th>\n",
       "    </tr>\n",
       "  </thead>\n",
       "  <tbody>\n",
       "    <tr>\n",
       "      <th>0</th>\n",
       "      <td>22</td>\n",
       "      <td>0.472747</td>\n",
       "      <td>22_38818243_G_A</td>\n",
       "    </tr>\n",
       "    <tr>\n",
       "      <th>1</th>\n",
       "      <td>22</td>\n",
       "      <td>0.991658</td>\n",
       "      <td>22_38818676_C_G</td>\n",
       "    </tr>\n",
       "    <tr>\n",
       "      <th>2</th>\n",
       "      <td>22</td>\n",
       "      <td>0.991658</td>\n",
       "      <td>22_38819194_G_C</td>\n",
       "    </tr>\n",
       "    <tr>\n",
       "      <th>3</th>\n",
       "      <td>22</td>\n",
       "      <td>0.433430</td>\n",
       "      <td>22_38819613_G_A</td>\n",
       "    </tr>\n",
       "    <tr>\n",
       "      <th>4</th>\n",
       "      <td>22</td>\n",
       "      <td>0.457743</td>\n",
       "      <td>22_38821504_G_A</td>\n",
       "    </tr>\n",
       "  </tbody>\n",
       "</table>\n",
       "</div>"
      ],
      "text/plain": [
       "   chrom        pv          variant\n",
       "0     22  0.472747  22_38818243_G_A\n",
       "1     22  0.991658  22_38818676_C_G\n",
       "2     22  0.991658  22_38819194_G_C\n",
       "3     22  0.433430  22_38819613_G_A\n",
       "4     22  0.457743  22_38821504_G_A"
      ]
     },
     "execution_count": 9,
     "metadata": {},
     "output_type": "execute_result"
    }
   ],
   "source": [
    "df = pd.read_csv(file, index_col=0)\n",
    "df.head()"
   ]
  },
  {
   "cell_type": "code",
   "execution_count": 10,
   "id": "53734135",
   "metadata": {},
   "outputs": [
    {
     "data": {
      "text/plain": [
       "10"
      ]
     },
     "execution_count": 10,
     "metadata": {},
     "output_type": "execute_result"
    }
   ],
   "source": [
    "nsnps = int(len(df))\n",
    "nsnps"
   ]
  },
  {
   "cell_type": "code",
   "execution_count": 18,
   "id": "b5fd59cc",
   "metadata": {},
   "outputs": [],
   "source": [
    "line = str(file).split(\"/\")\n",
    "# line"
   ]
  },
  {
   "cell_type": "code",
   "execution_count": 19,
   "id": "c6fc9f86",
   "metadata": {},
   "outputs": [
    {
     "data": {
      "text/plain": [
       "'ENSG00000100206'"
      ]
     },
     "execution_count": 19,
     "metadata": {},
     "output_type": "execute_result"
    }
   ],
   "source": [
    "gene = str(line[-1]).split(\"_\")[0]\n",
    "gene"
   ]
  },
  {
   "cell_type": "code",
   "execution_count": 20,
   "id": "24b95a4c",
   "metadata": {},
   "outputs": [
    {
     "data": {
      "text/plain": [
       "'10'"
      ]
     },
     "execution_count": 20,
     "metadata": {},
     "output_type": "execute_result"
    }
   ],
   "source": [
    "chunk = str(line[-1]).split(\"_\")[1].split(\".\")[0]\n",
    "chunk"
   ]
  },
  {
   "cell_type": "code",
   "execution_count": 21,
   "id": "884a21c9",
   "metadata": {},
   "outputs": [
    {
     "data": {
      "text/plain": [
       "22"
      ]
     },
     "execution_count": 21,
     "metadata": {},
     "output_type": "execute_result"
    }
   ],
   "source": [
    "chrom = df['chrom'].values[0]\n",
    "chrom"
   ]
  },
  {
   "cell_type": "code",
   "execution_count": 22,
   "id": "abb78ebc",
   "metadata": {},
   "outputs": [
    {
     "data": {
      "text/plain": [
       "array([0.47274666, 0.9916579 , 0.9916579 , 0.43343022, 0.45774327,\n",
       "       0.97073514, 0.53811297, 0.59874603, 0.23222526, 0.45774327])"
      ]
     },
     "execution_count": 22,
     "metadata": {},
     "output_type": "execute_result"
    }
   ],
   "source": [
    "pval = df['pv'].values\n",
    "pval"
   ]
  },
  {
   "cell_type": "code",
   "execution_count": 23,
   "id": "9f824d18",
   "metadata": {},
   "outputs": [
    {
     "data": {
      "text/plain": [
       "array([0.47274666, 0.9916579 , 0.9916579 , 0.43343022, 0.45774327,\n",
       "       0.97073514, 0.53811297, 0.59874603, 0.23222526, 0.45774327])"
      ]
     },
     "execution_count": 23,
     "metadata": {},
     "output_type": "execute_result"
    }
   ],
   "source": [
    "pval[pd.isnull(pval)]=1\n",
    "pval"
   ]
  },
  {
   "cell_type": "code",
   "execution_count": null,
   "id": "dcdce469",
   "metadata": {},
   "outputs": [],
   "source": []
  },
  {
   "cell_type": "code",
   "execution_count": null,
   "id": "510642c9",
   "metadata": {},
   "outputs": [],
   "source": [
    "import sys\n",
    "import re\n",
    "import glob\n",
    "import os\n",
    "import h5py\n",
    "import pdb\n",
    "import pandas as pd\n",
    "import scipy as sp\n",
    "import numpy as np\n",
    "import statsmodels\n",
    "# import limix.stats.fdr as fdr\n",
    "\n",
    "def smartAppend(table,name,value):\n",
    "    \"\"\" helper function for appending in a dictionary \"\"\"\n",
    "    if name not in table.keys():\n",
    "        table[name] = []\n",
    "    table[name].append(value)\n",
    "\n",
    "def dumpDictHdf5(RV,o):\n",
    "    \"\"\" Dump a dictionary where each page is a list or an array \"\"\"\n",
    "    for key in RV.keys():\n",
    "        o.create_dataset(name=key,data=sp.array(RV[key]),chunks=True,compression='gzip')\n",
    "\n",
    "def smartDumpDictHdf5(RV,o):\n",
    "    \"\"\" Dump a dictionary where each page is a list or an array or still a dictionary (in this case, it iterates) \"\"\"\n",
    "    for key in RV.keys():\n",
    "        if type(RV[key])==dict:\n",
    "            g = o.create_group(key)\n",
    "            smartDumpDictHdf5(RV[key],g)\n",
    "        else:\n",
    "            o.create_dataset(name=key,data=sp.array(RV[key]),chunks=True,compression='gzip')\n",
    "\n",
    "def fdr(p_vals):\n",
    "\n",
    "    from scipy.stats import rankdata\n",
    "    ranked_p_values = rankdata(p_vals)\n",
    "    fdr = p_vals * len(p_vals) / ranked_p_values\n",
    "    fdr[fdr > 1] = 1\n",
    "\n",
    "    return fdr\n",
    "\n",
    "path_results = \"/hps/nobackup/stegle/users/acuomo/all_scripts/struct_LMM2/sc_endodiff/debug_May2021/REVISION/CRM_interaction_chr22/results/\"\n",
    "\n",
    "\n",
    "if __name__ == '__main__':\n",
    "\n",
    "    fname = os.path.join(path_results,\"*.tsv\")\n",
    "    #prinm(outfilename)\n",
    "    files = glob.glob(fname)\n",
    "    # print (files)\n",
    "    #import pdb; pdb.set_trace()\n",
    "    x = 0\n",
    "    table = {}\n",
    "    count_success = 0\n",
    "    count_failed = 0\n",
    "    #breakpoint()\n",
    "    for file in files:\n",
    "        #breakpoint()\n",
    "        # if re.search(\"perm\",file) is not None:\n",
    "        #     continue\n",
    "        # x += 1\n",
    "        if x%500 == 0: print (x)\n",
    "        df = pd.read_csv(file, index_col=0)\n",
    "        nsnps = int(len(df))\n",
    "        if nsnps==0:\n",
    "            continue\n",
    "        line = str(file).split(\"/\")\n",
    "        gene = str(line[-1]).split(\".\")[0]\n",
    "        chrom = df['chrom'].values[0]\n",
    "        #print(gene)\n",
    "        pval = df['pv'].values\n",
    "        #pval[np.isnan(pval)]=1\n",
    "        pval[pd.isnull(pval)]=1\n",
    "        for i in range(nsnps):\n",
    "            try:\n",
    "                #import pdb; pdb.set_trace()\n",
    "                temp={}\n",
    "                temp['gene'] = gene\n",
    "                temp['n_snps'] = nsnps\n",
    "                temp['chrom'] = chrom\n",
    "                #print(nsnps)\n",
    "                temp['pv_raw'] = df['pv'].values[i]\n",
    "                temp['snpID'] = df['variant'].values[i]\n",
    "                #FWER adjusted (gene-level) pvalue\n",
    "                temp['pv'] = nsnps*temp['pv_raw']\n",
    "                if temp['pv']>1: temp['pv'] = 1\n",
    "                if temp['pv']<0: temp['pv'] = 0\n",
    "                count_success+=1\n",
    "            \n",
    "            except:\n",
    "                count_failed+=1\n",
    "                continue\n",
    "        \n",
    "            for key in temp.keys():\n",
    "                smartAppend(table,key,temp[key])\n",
    "    \n",
    "    #import pdb; pdb.set_trace()\n",
    "    for key in table.keys():\n",
    "        table[key] = sp.array(table[key])\n",
    "    print (count_success)\n",
    "    \n",
    "    df = pd.DataFrame.from_dict(table)\n",
    "    import os\n",
    "    outfile = \"summary.csv\"\n",
    "    myp = os.path.join(path_results,outfile)\n",
    "    df.to_csv(myp)"
   ]
  }
 ],
 "metadata": {
  "kernelspec": {
   "display_name": "Python (struct-lmm2)",
   "language": "python",
   "name": "struct-lmm2"
  },
  "language_info": {
   "codemirror_mode": {
    "name": "ipython",
    "version": 3
   },
   "file_extension": ".py",
   "mimetype": "text/x-python",
   "name": "python",
   "nbconvert_exporter": "python",
   "pygments_lexer": "ipython3",
   "version": "3.8.5"
  }
 },
 "nbformat": 4,
 "nbformat_minor": 5
}
