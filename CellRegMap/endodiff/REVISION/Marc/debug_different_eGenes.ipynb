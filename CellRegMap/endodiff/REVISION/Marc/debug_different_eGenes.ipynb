{
 "cells": [
  {
   "cell_type": "code",
   "execution_count": 55,
   "id": "d3bf38e4",
   "metadata": {},
   "outputs": [],
   "source": [
    "library(qvalue)\n",
    "library(ggplot2)\n",
    "library(dplyr)\n",
    "library(cowplot)"
   ]
  },
  {
   "cell_type": "code",
   "execution_count": 1,
   "id": "b67afa86",
   "metadata": {},
   "outputs": [],
   "source": [
    "revision_folder = \"/hps/nobackup/stegle/users/acuomo/all_scripts/struct_LMM2/sc_endodiff/debug_May2021/REVISION/\""
   ]
  },
  {
   "cell_type": "code",
   "execution_count": null,
   "id": "2b6f98d7",
   "metadata": {},
   "outputs": [],
   "source": [
    "# # all results\n",
    "# myfile0 = paste0(revision_folder,\"Marcs_results_all.csv\")\n",
    "# df0 = read.csv(myfile0, row.names=1)"
   ]
  },
  {
   "cell_type": "code",
   "execution_count": 2,
   "id": "dbb306a6",
   "metadata": {},
   "outputs": [
    {
     "data": {
      "text/html": [
       "11083"
      ],
      "text/latex": [
       "11083"
      ],
      "text/markdown": [
       "11083"
      ],
      "text/plain": [
       "[1] 11083"
      ]
     },
     "metadata": {},
     "output_type": "display_data"
    },
    {
     "data": {
      "text/html": [
       "<table>\n",
       "<thead><tr><th scope=col>snp_id</th><th scope=col>p_value</th><th scope=col>beta</th><th scope=col>beta_se</th><th scope=col>empirical_feature_p_value</th><th scope=col>feature_chromosome</th><th scope=col>feature_start</th><th scope=col>feature_end</th><th scope=col>n_samples</th><th scope=col>n_e_samples</th><th scope=col>...</th><th scope=col>beta_param</th><th scope=col>rho</th><th scope=col>snp_chromosome</th><th scope=col>snp_position</th><th scope=col>assessed_allele</th><th scope=col>call_rate</th><th scope=col>maf</th><th scope=col>hwe_p</th><th scope=col>feature_id</th><th scope=col>q_value</th></tr></thead>\n",
       "<tbody>\n",
       "\t<tr><td>7_99442565_A_G </td><td>0.03640359     </td><td>-0.19143557    </td><td>0.09148769     </td><td>0.9328839      </td><td>7              </td><td>99245817       </td><td>99277621       </td><td>27598          </td><td>99             </td><td>...            </td><td>52.19879       </td><td>0.9            </td><td>7              </td><td>99442565       </td><td>G              </td><td>1              </td><td>0.05050505     </td><td>1              </td><td>ENSG00000106258</td><td>1              </td></tr>\n",
       "\t<tr><td>7_99143503_A_T </td><td>0.02247299     </td><td>-0.08541319    </td><td>0.03742278     </td><td>0.6305276      </td><td>7              </td><td>99214569       </td><td>99230030       </td><td>27598          </td><td>99             </td><td>...            </td><td>50.00241       </td><td>0.8            </td><td>7              </td><td>99143503       </td><td>T              </td><td>1              </td><td>0.07575758     </td><td>1              </td><td>ENSG00000197037</td><td>1              </td></tr>\n",
       "</tbody>\n",
       "</table>\n"
      ],
      "text/latex": [
       "\\begin{tabular}{r|lllllllllllllllllllll}\n",
       " snp\\_id & p\\_value & beta & beta\\_se & empirical\\_feature\\_p\\_value & feature\\_chromosome & feature\\_start & feature\\_end & n\\_samples & n\\_e\\_samples & ... & beta\\_param & rho & snp\\_chromosome & snp\\_position & assessed\\_allele & call\\_rate & maf & hwe\\_p & feature\\_id & q\\_value\\\\\n",
       "\\hline\n",
       "\t 7\\_99442565\\_A\\_G & 0.03640359           & -0.19143557          & 0.09148769           & 0.9328839            & 7                    & 99245817             & 99277621             & 27598                & 99                   & ...                  & 52.19879             & 0.9                  & 7                    & 99442565             & G                    & 1                    & 0.05050505           & 1                    & ENSG00000106258      & 1                   \\\\\n",
       "\t 7\\_99143503\\_A\\_T & 0.02247299           & -0.08541319          & 0.03742278           & 0.6305276            & 7                    & 99214569             & 99230030             & 27598                & 99                   & ...                  & 50.00241             & 0.8                  & 7                    & 99143503             & T                    & 1                    & 0.07575758           & 1                    & ENSG00000197037      & 1                   \\\\\n",
       "\\end{tabular}\n"
      ],
      "text/markdown": [
       "\n",
       "| snp_id | p_value | beta | beta_se | empirical_feature_p_value | feature_chromosome | feature_start | feature_end | n_samples | n_e_samples | ... | beta_param | rho | snp_chromosome | snp_position | assessed_allele | call_rate | maf | hwe_p | feature_id | q_value |\n",
       "|---|---|---|---|---|---|---|---|---|---|---|---|---|---|---|---|---|---|---|---|---|\n",
       "| 7_99442565_A_G  | 0.03640359      | -0.19143557     | 0.09148769      | 0.9328839       | 7               | 99245817        | 99277621        | 27598           | 99              | ...             | 52.19879        | 0.9             | 7               | 99442565        | G               | 1               | 0.05050505      | 1               | ENSG00000106258 | 1               |\n",
       "| 7_99143503_A_T  | 0.02247299      | -0.08541319     | 0.03742278      | 0.6305276       | 7               | 99214569        | 99230030        | 27598           | 99              | ...             | 50.00241        | 0.8             | 7               | 99143503        | T               | 1               | 0.07575758      | 1               | ENSG00000197037 | 1               |\n",
       "\n"
      ],
      "text/plain": [
       "  snp_id         p_value    beta        beta_se    empirical_feature_p_value\n",
       "1 7_99442565_A_G 0.03640359 -0.19143557 0.09148769 0.9328839                \n",
       "2 7_99143503_A_T 0.02247299 -0.08541319 0.03742278 0.6305276                \n",
       "  feature_chromosome feature_start feature_end n_samples n_e_samples ...\n",
       "1 7                  99245817      99277621    27598     99          ...\n",
       "2 7                  99214569      99230030    27598     99          ...\n",
       "  beta_param rho snp_chromosome snp_position assessed_allele call_rate\n",
       "1 52.19879   0.9 7              99442565     G               1        \n",
       "2 50.00241   0.8 7              99143503     T               1        \n",
       "  maf        hwe_p feature_id      q_value\n",
       "1 0.05050505 1     ENSG00000106258 1      \n",
       "2 0.07575758 1     ENSG00000197037 1      "
      ]
     },
     "metadata": {},
     "output_type": "display_data"
    }
   ],
   "source": [
    "# leads\n",
    "myfile = paste0(revision_folder,\"Marcs_results_qvalue.csv\")\n",
    "df = read.csv(myfile, row.names=1)\n",
    "nrow(df)\n",
    "head(df,2)"
   ]
  },
  {
   "cell_type": "code",
   "execution_count": 3,
   "id": "2921369a",
   "metadata": {},
   "outputs": [
    {
     "data": {
      "text/html": [
       "2262"
      ],
      "text/latex": [
       "2262"
      ],
      "text/markdown": [
       "2262"
      ],
      "text/plain": [
       "[1] 2262"
      ]
     },
     "metadata": {},
     "output_type": "display_data"
    }
   ],
   "source": [
    "nrow(df[df$q_value < 0.1,])"
   ]
  },
  {
   "cell_type": "code",
   "execution_count": 4,
   "id": "907208ff",
   "metadata": {},
   "outputs": [],
   "source": [
    "genes = unique(as.character(df[df$q_value < 0.1,\"feature_id\"]))"
   ]
  },
  {
   "cell_type": "code",
   "execution_count": 5,
   "id": "125c7e8b",
   "metadata": {},
   "outputs": [
    {
     "data": {
      "text/html": [
       "<ol class=list-inline>\n",
       "\t<li>'ENSG00000142166'</li>\n",
       "\t<li>'ENSG00000142188'</li>\n",
       "\t<li>'ENSG00000243646'</li>\n",
       "\t<li>'ENSG00000130714'</li>\n",
       "\t<li>'ENSG00000130723'</li>\n",
       "\t<li>'ENSG00000154945'</li>\n",
       "</ol>\n"
      ],
      "text/latex": [
       "\\begin{enumerate*}\n",
       "\\item 'ENSG00000142166'\n",
       "\\item 'ENSG00000142188'\n",
       "\\item 'ENSG00000243646'\n",
       "\\item 'ENSG00000130714'\n",
       "\\item 'ENSG00000130723'\n",
       "\\item 'ENSG00000154945'\n",
       "\\end{enumerate*}\n"
      ],
      "text/markdown": [
       "1. 'ENSG00000142166'\n",
       "2. 'ENSG00000142188'\n",
       "3. 'ENSG00000243646'\n",
       "4. 'ENSG00000130714'\n",
       "5. 'ENSG00000130723'\n",
       "6. 'ENSG00000154945'\n",
       "\n",
       "\n"
      ],
      "text/plain": [
       "[1] \"ENSG00000142166\" \"ENSG00000142188\" \"ENSG00000243646\" \"ENSG00000130714\"\n",
       "[5] \"ENSG00000130723\" \"ENSG00000154945\""
      ]
     },
     "metadata": {},
     "output_type": "display_data"
    }
   ],
   "source": [
    "head(genes)"
   ]
  },
  {
   "cell_type": "code",
   "execution_count": 6,
   "id": "937f7b6c",
   "metadata": {},
   "outputs": [
    {
     "data": {
      "text/html": [
       "<table>\n",
       "<thead><tr><th scope=col>snp_id</th><th scope=col>feature</th><th scope=col>stage</th></tr></thead>\n",
       "<tbody>\n",
       "\t<tr><td>5_149826526_C_T       </td><td>ENSG00000164587_RPS14 </td><td>ips                   </td></tr>\n",
       "\t<tr><td>11_57283988_C_T       </td><td>ENSG00000134809_TIMM10</td><td>ips                   </td></tr>\n",
       "\t<tr><td>12_56401085_G_A       </td><td>ENSG00000197728_RPS26 </td><td>ips                   </td></tr>\n",
       "\t<tr><td>17_79634162_T_G       </td><td>ENSG00000214087_ARL16 </td><td>ips                   </td></tr>\n",
       "\t<tr><td>6_31486901_T_C        </td><td>ENSG00000198563_DDX39B</td><td>ips                   </td></tr>\n",
       "\t<tr><td>4_39446549_G_A        </td><td>ENSG00000163682_RPL9  </td><td>ips                   </td></tr>\n",
       "</tbody>\n",
       "</table>\n"
      ],
      "text/latex": [
       "\\begin{tabular}{r|lll}\n",
       " snp\\_id & feature & stage\\\\\n",
       "\\hline\n",
       "\t 5\\_149826526\\_C\\_T    & ENSG00000164587\\_RPS14  & ips                     \\\\\n",
       "\t 11\\_57283988\\_C\\_T    & ENSG00000134809\\_TIMM10 & ips                     \\\\\n",
       "\t 12\\_56401085\\_G\\_A    & ENSG00000197728\\_RPS26  & ips                     \\\\\n",
       "\t 17\\_79634162\\_T\\_G    & ENSG00000214087\\_ARL16  & ips                     \\\\\n",
       "\t 6\\_31486901\\_T\\_C     & ENSG00000198563\\_DDX39B & ips                     \\\\\n",
       "\t 4\\_39446549\\_G\\_A     & ENSG00000163682\\_RPL9   & ips                     \\\\\n",
       "\\end{tabular}\n"
      ],
      "text/markdown": [
       "\n",
       "| snp_id | feature | stage |\n",
       "|---|---|---|\n",
       "| 5_149826526_C_T        | ENSG00000164587_RPS14  | ips                    |\n",
       "| 11_57283988_C_T        | ENSG00000134809_TIMM10 | ips                    |\n",
       "| 12_56401085_G_A        | ENSG00000197728_RPS26  | ips                    |\n",
       "| 17_79634162_T_G        | ENSG00000214087_ARL16  | ips                    |\n",
       "| 6_31486901_T_C         | ENSG00000198563_DDX39B | ips                    |\n",
       "| 4_39446549_G_A         | ENSG00000163682_RPL9   | ips                    |\n",
       "\n"
      ],
      "text/plain": [
       "  snp_id          feature                stage\n",
       "1 5_149826526_C_T ENSG00000164587_RPS14  ips  \n",
       "2 11_57283988_C_T ENSG00000134809_TIMM10 ips  \n",
       "3 12_56401085_G_A ENSG00000197728_RPS26  ips  \n",
       "4 17_79634162_T_G ENSG00000214087_ARL16  ips  \n",
       "5 6_31486901_T_C  ENSG00000198563_DDX39B ips  \n",
       "6 4_39446549_G_A  ENSG00000163682_RPL9   ips  "
      ]
     },
     "metadata": {},
     "output_type": "display_data"
    }
   ],
   "source": [
    "input_files_dir = \"/hps/nobackup/stegle/users/acuomo/all_scripts/struct_LMM2/sc_endodiff/new/input_files/\"\n",
    "endo_eqtl_file = paste0(input_files_dir,\"endodiff_eqtl_allconditions_FDR10pct.csv\")\n",
    "df1 = read.csv(endo_eqtl_file)\n",
    "head(df1)"
   ]
  },
  {
   "cell_type": "code",
   "execution_count": 9,
   "id": "65120fbf",
   "metadata": {},
   "outputs": [
    {
     "data": {
      "text/html": [
       "<ol class=list-inline>\n",
       "\t<li>'ENSG00000164587'</li>\n",
       "\t<li>'ENSG00000134809'</li>\n",
       "\t<li>'ENSG00000197728'</li>\n",
       "\t<li>'ENSG00000214087'</li>\n",
       "\t<li>'ENSG00000198563'</li>\n",
       "\t<li>'ENSG00000163682'</li>\n",
       "</ol>\n"
      ],
      "text/latex": [
       "\\begin{enumerate*}\n",
       "\\item 'ENSG00000164587'\n",
       "\\item 'ENSG00000134809'\n",
       "\\item 'ENSG00000197728'\n",
       "\\item 'ENSG00000214087'\n",
       "\\item 'ENSG00000198563'\n",
       "\\item 'ENSG00000163682'\n",
       "\\end{enumerate*}\n"
      ],
      "text/markdown": [
       "1. 'ENSG00000164587'\n",
       "2. 'ENSG00000134809'\n",
       "3. 'ENSG00000197728'\n",
       "4. 'ENSG00000214087'\n",
       "5. 'ENSG00000198563'\n",
       "6. 'ENSG00000163682'\n",
       "\n",
       "\n"
      ],
      "text/plain": [
       "[1] \"ENSG00000164587\" \"ENSG00000134809\" \"ENSG00000197728\" \"ENSG00000214087\"\n",
       "[5] \"ENSG00000198563\" \"ENSG00000163682\""
      ]
     },
     "metadata": {},
     "output_type": "display_data"
    }
   ],
   "source": [
    "genes1 = unique(gsub(\"_.*\",\"\",as.character(df1$feature)))\n",
    "head(genes1)"
   ]
  },
  {
   "cell_type": "code",
   "execution_count": 10,
   "id": "3328edff",
   "metadata": {},
   "outputs": [
    {
     "data": {
      "text/html": [
       "2188"
      ],
      "text/latex": [
       "2188"
      ],
      "text/markdown": [
       "2188"
      ],
      "text/plain": [
       "[1] 2188"
      ]
     },
     "metadata": {},
     "output_type": "display_data"
    },
    {
     "data": {
      "text/html": [
       "3240"
      ],
      "text/latex": [
       "3240"
      ],
      "text/markdown": [
       "3240"
      ],
      "text/plain": [
       "[1] 3240"
      ]
     },
     "metadata": {},
     "output_type": "display_data"
    },
    {
     "data": {
      "text/html": [
       "1125"
      ],
      "text/latex": [
       "1125"
      ],
      "text/markdown": [
       "1125"
      ],
      "text/plain": [
       "[1] 1125"
      ]
     },
     "metadata": {},
     "output_type": "display_data"
    }
   ],
   "source": [
    "length(genes)\n",
    "length(genes1)\n",
    "length(genes[genes %in% genes1])"
   ]
  },
  {
   "cell_type": "code",
   "execution_count": 12,
   "id": "22499ab9",
   "metadata": {},
   "outputs": [
    {
     "data": {
      "text/html": [
       "10003258"
      ],
      "text/latex": [
       "10003258"
      ],
      "text/markdown": [
       "10003258"
      ],
      "text/plain": [
       "[1] 10003258"
      ]
     },
     "metadata": {},
     "output_type": "display_data"
    }
   ],
   "source": [
    "revision_folder = \"/hps/nobackup/stegle/users/acuomo/all_scripts/struct_LMM2/sc_endodiff/debug_May2021/REVISION/\"\n",
    "crm_file = paste0(revision_folder, \"CRM_association/summary.csv\")\n",
    "crm = read.csv(crm_file)\n",
    "nrow(crm)"
   ]
  },
  {
   "cell_type": "code",
   "execution_count": 13,
   "id": "abc4dee6",
   "metadata": {},
   "outputs": [
    {
     "data": {
      "text/html": [
       "<table>\n",
       "<thead><tr><th scope=col>X</th><th scope=col>gene</th><th scope=col>n_snps</th><th scope=col>chrom</th><th scope=col>pv_raw</th><th scope=col>snpID</th><th scope=col>pv</th></tr></thead>\n",
       "<tbody>\n",
       "\t<tr><td>0              </td><td>ENSG00000250462</td><td>909            </td><td>17             </td><td>0.5215900      </td><td>17_28857239_G_A</td><td>1              </td></tr>\n",
       "\t<tr><td>1              </td><td>ENSG00000250462</td><td>909            </td><td>17             </td><td>0.6535075      </td><td>17_28857794_C_T</td><td>1              </td></tr>\n",
       "</tbody>\n",
       "</table>\n"
      ],
      "text/latex": [
       "\\begin{tabular}{r|lllllll}\n",
       " X & gene & n\\_snps & chrom & pv\\_raw & snpID & pv\\\\\n",
       "\\hline\n",
       "\t 0                     & ENSG00000250462       & 909                   & 17                    & 0.5215900             & 17\\_28857239\\_G\\_A & 1                    \\\\\n",
       "\t 1                     & ENSG00000250462       & 909                   & 17                    & 0.6535075             & 17\\_28857794\\_C\\_T & 1                    \\\\\n",
       "\\end{tabular}\n"
      ],
      "text/markdown": [
       "\n",
       "| X | gene | n_snps | chrom | pv_raw | snpID | pv |\n",
       "|---|---|---|---|---|---|---|\n",
       "| 0               | ENSG00000250462 | 909             | 17              | 0.5215900       | 17_28857239_G_A | 1               |\n",
       "| 1               | ENSG00000250462 | 909             | 17              | 0.6535075       | 17_28857794_C_T | 1               |\n",
       "\n"
      ],
      "text/plain": [
       "  X gene            n_snps chrom pv_raw    snpID           pv\n",
       "1 0 ENSG00000250462 909    17    0.5215900 17_28857239_G_A 1 \n",
       "2 1 ENSG00000250462 909    17    0.6535075 17_28857794_C_T 1 "
      ]
     },
     "metadata": {},
     "output_type": "display_data"
    }
   ],
   "source": [
    "head(crm,2)"
   ]
  },
  {
   "cell_type": "code",
   "execution_count": 15,
   "id": "af588c9e",
   "metadata": {},
   "outputs": [],
   "source": [
    "crm = crm[order(crm$pv),]\n",
    "top_crm = crm[-which(duplicated(crm$gene)),]"
   ]
  },
  {
   "cell_type": "code",
   "execution_count": 19,
   "id": "2c64cf5e",
   "metadata": {},
   "outputs": [],
   "source": [
    "top_crm$q_value = qvalue(top_crm$pv)$qvalues"
   ]
  },
  {
   "cell_type": "code",
   "execution_count": 23,
   "id": "00820e9f",
   "metadata": {},
   "outputs": [
    {
     "data": {
      "text/html": [
       "1781"
      ],
      "text/latex": [
       "1781"
      ],
      "text/markdown": [
       "1781"
      ],
      "text/plain": [
       "[1] 1781"
      ]
     },
     "metadata": {},
     "output_type": "display_data"
    }
   ],
   "source": [
    "nrow(top_crm[top_crm$q_value<0.1,])"
   ]
  },
  {
   "cell_type": "code",
   "execution_count": 24,
   "id": "b91016ae",
   "metadata": {},
   "outputs": [],
   "source": [
    "genes2 = unique(as.character(top_crm[top_crm$q_value<0.1,\"gene\"]))"
   ]
  },
  {
   "cell_type": "code",
   "execution_count": 25,
   "id": "97d3bc3c",
   "metadata": {},
   "outputs": [
    {
     "data": {
      "text/html": [
       "761"
      ],
      "text/latex": [
       "761"
      ],
      "text/markdown": [
       "761"
      ],
      "text/plain": [
       "[1] 761"
      ]
     },
     "metadata": {},
     "output_type": "display_data"
    },
    {
     "data": {
      "text/html": [
       "965"
      ],
      "text/latex": [
       "965"
      ],
      "text/markdown": [
       "965"
      ],
      "text/plain": [
       "[1] 965"
      ]
     },
     "metadata": {},
     "output_type": "display_data"
    }
   ],
   "source": [
    "length(genes2[genes2 %in% genes])\n",
    "length(genes2[genes2 %in% genes1])"
   ]
  },
  {
   "cell_type": "code",
   "execution_count": 26,
   "id": "40e1006e",
   "metadata": {},
   "outputs": [
    {
     "data": {
      "text/html": [
       "1125"
      ],
      "text/latex": [
       "1125"
      ],
      "text/markdown": [
       "1125"
      ],
      "text/plain": [
       "[1] 1125"
      ]
     },
     "metadata": {},
     "output_type": "display_data"
    },
    {
     "data": {
      "text/html": [
       "761"
      ],
      "text/latex": [
       "761"
      ],
      "text/markdown": [
       "761"
      ],
      "text/plain": [
       "[1] 761"
      ]
     },
     "metadata": {},
     "output_type": "display_data"
    }
   ],
   "source": [
    "length(genes[genes %in% genes1])\n",
    "length(genes[genes %in% genes2])"
   ]
  },
  {
   "cell_type": "code",
   "execution_count": 27,
   "id": "59e63804",
   "metadata": {},
   "outputs": [],
   "source": [
    "sce = readRDS(\"/hps/nobackup/hipsci/scratch/singlecell_endodiff/data_processed/merged/20180618/sce_merged_afterqc_filt_allexpts.rds\")"
   ]
  },
  {
   "cell_type": "code",
   "execution_count": 29,
   "id": "5ac5b0ad",
   "metadata": {},
   "outputs": [],
   "source": [
    "counts = logcounts(sce)"
   ]
  },
  {
   "cell_type": "code",
   "execution_count": 30,
   "id": "fcb2bb8f",
   "metadata": {},
   "outputs": [
    {
     "data": {
      "text/html": [
       "<table>\n",
       "<thead><tr><th></th><th scope=col>21843_1#10</th><th scope=col>21843_1#100</th><th scope=col>21843_1#101</th><th scope=col>21843_1#102</th><th scope=col>21843_1#103</th></tr></thead>\n",
       "<tbody>\n",
       "\t<tr><th scope=row>ENSG00000000003_TSPAN6</th><td>5.5207770563</td><td>6.4562078   </td><td>5.878671    </td><td>4.8608241   </td><td>5.903640    </td></tr>\n",
       "\t<tr><th scope=row>ENSG00000000419_DPM1</th><td>5.3924605058</td><td>6.0659226   </td><td>6.838769    </td><td>6.6142685   </td><td>6.512403    </td></tr>\n",
       "\t<tr><th scope=row>ENSG00000000457_SCYL3</th><td>0.0001741556</td><td>0.3525966   </td><td>0.000000    </td><td>0.8259555   </td><td>2.201697    </td></tr>\n",
       "\t<tr><th scope=row>ENSG00000000460_C1orf112</th><td>1.4719275194</td><td>4.5369683   </td><td>4.318528    </td><td>5.3730090   </td><td>4.636175    </td></tr>\n",
       "\t<tr><th scope=row>ENSG00000001036_FUCA2</th><td>2.9088018801</td><td>3.8673273   </td><td>3.321747    </td><td>3.7364760   </td><td>4.917576    </td></tr>\n",
       "</tbody>\n",
       "</table>\n"
      ],
      "text/latex": [
       "\\begin{tabular}{r|lllll}\n",
       "  & 21843\\_1\\#10 & 21843\\_1\\#100 & 21843\\_1\\#101 & 21843\\_1\\#102 & 21843\\_1\\#103\\\\\n",
       "\\hline\n",
       "\tENSG00000000003\\_TSPAN6 & 5.5207770563 & 6.4562078    & 5.878671     & 4.8608241    & 5.903640    \\\\\n",
       "\tENSG00000000419\\_DPM1 & 5.3924605058 & 6.0659226    & 6.838769     & 6.6142685    & 6.512403    \\\\\n",
       "\tENSG00000000457\\_SCYL3 & 0.0001741556 & 0.3525966    & 0.000000     & 0.8259555    & 2.201697    \\\\\n",
       "\tENSG00000000460\\_C1orf112 & 1.4719275194 & 4.5369683    & 4.318528     & 5.3730090    & 4.636175    \\\\\n",
       "\tENSG00000001036\\_FUCA2 & 2.9088018801 & 3.8673273    & 3.321747     & 3.7364760    & 4.917576    \\\\\n",
       "\\end{tabular}\n"
      ],
      "text/markdown": [
       "\n",
       "| <!--/--> | 21843_1#10 | 21843_1#100 | 21843_1#101 | 21843_1#102 | 21843_1#103 |\n",
       "|---|---|---|---|---|---|\n",
       "| ENSG00000000003_TSPAN6 | 5.5207770563 | 6.4562078    | 5.878671     | 4.8608241    | 5.903640     |\n",
       "| ENSG00000000419_DPM1 | 5.3924605058 | 6.0659226    | 6.838769     | 6.6142685    | 6.512403     |\n",
       "| ENSG00000000457_SCYL3 | 0.0001741556 | 0.3525966    | 0.000000     | 0.8259555    | 2.201697     |\n",
       "| ENSG00000000460_C1orf112 | 1.4719275194 | 4.5369683    | 4.318528     | 5.3730090    | 4.636175     |\n",
       "| ENSG00000001036_FUCA2 | 2.9088018801 | 3.8673273    | 3.321747     | 3.7364760    | 4.917576     |\n",
       "\n"
      ],
      "text/plain": [
       "                         21843_1#10   21843_1#100 21843_1#101 21843_1#102\n",
       "ENSG00000000003_TSPAN6   5.5207770563 6.4562078   5.878671    4.8608241  \n",
       "ENSG00000000419_DPM1     5.3924605058 6.0659226   6.838769    6.6142685  \n",
       "ENSG00000000457_SCYL3    0.0001741556 0.3525966   0.000000    0.8259555  \n",
       "ENSG00000000460_C1orf112 1.4719275194 4.5369683   4.318528    5.3730090  \n",
       "ENSG00000001036_FUCA2    2.9088018801 3.8673273   3.321747    3.7364760  \n",
       "                         21843_1#103\n",
       "ENSG00000000003_TSPAN6   5.903640   \n",
       "ENSG00000000419_DPM1     6.512403   \n",
       "ENSG00000000457_SCYL3    2.201697   \n",
       "ENSG00000000460_C1orf112 4.636175   \n",
       "ENSG00000001036_FUCA2    4.917576   "
      ]
     },
     "metadata": {},
     "output_type": "display_data"
    }
   ],
   "source": [
    "counts[1:5,1:5]"
   ]
  },
  {
   "cell_type": "code",
   "execution_count": 42,
   "id": "b2c18d92",
   "metadata": {},
   "outputs": [
    {
     "data": {
      "text/html": [
       "<table>\n",
       "<thead><tr><th></th><th scope=col>gene</th><th scope=col>mean</th><th scope=col>var</th></tr></thead>\n",
       "<tbody>\n",
       "\t<tr><th scope=row>ENSG00000000003_TSPAN6</th><td>ENSG00000000003</td><td>5.4684470      </td><td>1.169600       </td></tr>\n",
       "\t<tr><th scope=row>ENSG00000000419_DPM1</th><td>ENSG00000000419</td><td>5.6828451      </td><td>1.736982       </td></tr>\n",
       "\t<tr><th scope=row>ENSG00000000457_SCYL3</th><td>ENSG00000000457</td><td>0.7900145      </td><td>1.257087       </td></tr>\n",
       "\t<tr><th scope=row>ENSG00000000460_C1orf112</th><td>ENSG00000000460</td><td>3.0843196      </td><td>1.815009       </td></tr>\n",
       "\t<tr><th scope=row>ENSG00000001036_FUCA2</th><td>ENSG00000001036</td><td>3.5822585      </td><td>2.486181       </td></tr>\n",
       "\t<tr><th scope=row>ENSG00000001084_GCLC</th><td>ENSG00000001084</td><td>1.7308616      </td><td>2.491006       </td></tr>\n",
       "</tbody>\n",
       "</table>\n"
      ],
      "text/latex": [
       "\\begin{tabular}{r|lll}\n",
       "  & gene & mean & var\\\\\n",
       "\\hline\n",
       "\tENSG00000000003\\_TSPAN6 & ENSG00000000003 & 5.4684470       & 1.169600       \\\\\n",
       "\tENSG00000000419\\_DPM1 & ENSG00000000419 & 5.6828451       & 1.736982       \\\\\n",
       "\tENSG00000000457\\_SCYL3 & ENSG00000000457 & 0.7900145       & 1.257087       \\\\\n",
       "\tENSG00000000460\\_C1orf112 & ENSG00000000460 & 3.0843196       & 1.815009       \\\\\n",
       "\tENSG00000001036\\_FUCA2 & ENSG00000001036 & 3.5822585       & 2.486181       \\\\\n",
       "\tENSG00000001084\\_GCLC & ENSG00000001084 & 1.7308616       & 2.491006       \\\\\n",
       "\\end{tabular}\n"
      ],
      "text/markdown": [
       "\n",
       "| <!--/--> | gene | mean | var |\n",
       "|---|---|---|---|\n",
       "| ENSG00000000003_TSPAN6 | ENSG00000000003 | 5.4684470       | 1.169600        |\n",
       "| ENSG00000000419_DPM1 | ENSG00000000419 | 5.6828451       | 1.736982        |\n",
       "| ENSG00000000457_SCYL3 | ENSG00000000457 | 0.7900145       | 1.257087        |\n",
       "| ENSG00000000460_C1orf112 | ENSG00000000460 | 3.0843196       | 1.815009        |\n",
       "| ENSG00000001036_FUCA2 | ENSG00000001036 | 3.5822585       | 2.486181        |\n",
       "| ENSG00000001084_GCLC | ENSG00000001084 | 1.7308616       | 2.491006        |\n",
       "\n"
      ],
      "text/plain": [
       "                         gene            mean      var     \n",
       "ENSG00000000003_TSPAN6   ENSG00000000003 5.4684470 1.169600\n",
       "ENSG00000000419_DPM1     ENSG00000000419 5.6828451 1.736982\n",
       "ENSG00000000457_SCYL3    ENSG00000000457 0.7900145 1.257087\n",
       "ENSG00000000460_C1orf112 ENSG00000000460 3.0843196 1.815009\n",
       "ENSG00000001036_FUCA2    ENSG00000001036 3.5822585 2.486181\n",
       "ENSG00000001084_GCLC     ENSG00000001084 1.7308616 2.491006"
      ]
     },
     "metadata": {},
     "output_type": "display_data"
    }
   ],
   "source": [
    "stats_df = data.frame(gene = gsub(\"_.*\",\"\",rownames(counts)), \n",
    "                                  mean = rowMeans(counts), var = rowVars(counts))\n",
    "head(stats_df)"
   ]
  },
  {
   "cell_type": "code",
   "execution_count": 43,
   "id": "7e89d601",
   "metadata": {},
   "outputs": [],
   "source": [
    "stats_df$test = 'no'\n",
    "stats_df$test[stats_df$gene %in% genes] = 'Marc'\n",
    "stats_df$test[stats_df$gene %in% genes1] = 'endo'\n",
    "stats_df$test[stats_df$gene %in% genes2] = 'Anna'"
   ]
  },
  {
   "cell_type": "code",
   "execution_count": 44,
   "id": "8effd76b",
   "metadata": {},
   "outputs": [
    {
     "data": {
      "text/html": [
       "<table>\n",
       "<thead><tr><th></th><th scope=col>gene</th><th scope=col>mean</th><th scope=col>var</th><th scope=col>test</th></tr></thead>\n",
       "<tbody>\n",
       "\t<tr><th scope=row>ENSG00000000003_TSPAN6</th><td>ENSG00000000003</td><td>5.4684470      </td><td>1.169600       </td><td>no             </td></tr>\n",
       "\t<tr><th scope=row>ENSG00000000419_DPM1</th><td>ENSG00000000419</td><td>5.6828451      </td><td>1.736982       </td><td>Marc           </td></tr>\n",
       "\t<tr><th scope=row>ENSG00000000457_SCYL3</th><td>ENSG00000000457</td><td>0.7900145      </td><td>1.257087       </td><td>no             </td></tr>\n",
       "\t<tr><th scope=row>ENSG00000000460_C1orf112</th><td>ENSG00000000460</td><td>3.0843196      </td><td>1.815009       </td><td>no             </td></tr>\n",
       "\t<tr><th scope=row>ENSG00000001036_FUCA2</th><td>ENSG00000001036</td><td>3.5822585      </td><td>2.486181       </td><td>no             </td></tr>\n",
       "\t<tr><th scope=row>ENSG00000001084_GCLC</th><td>ENSG00000001084</td><td>1.7308616      </td><td>2.491006       </td><td>no             </td></tr>\n",
       "</tbody>\n",
       "</table>\n"
      ],
      "text/latex": [
       "\\begin{tabular}{r|llll}\n",
       "  & gene & mean & var & test\\\\\n",
       "\\hline\n",
       "\tENSG00000000003\\_TSPAN6 & ENSG00000000003 & 5.4684470       & 1.169600        & no             \\\\\n",
       "\tENSG00000000419\\_DPM1 & ENSG00000000419 & 5.6828451       & 1.736982        & Marc           \\\\\n",
       "\tENSG00000000457\\_SCYL3 & ENSG00000000457 & 0.7900145       & 1.257087        & no             \\\\\n",
       "\tENSG00000000460\\_C1orf112 & ENSG00000000460 & 3.0843196       & 1.815009        & no             \\\\\n",
       "\tENSG00000001036\\_FUCA2 & ENSG00000001036 & 3.5822585       & 2.486181        & no             \\\\\n",
       "\tENSG00000001084\\_GCLC & ENSG00000001084 & 1.7308616       & 2.491006        & no             \\\\\n",
       "\\end{tabular}\n"
      ],
      "text/markdown": [
       "\n",
       "| <!--/--> | gene | mean | var | test |\n",
       "|---|---|---|---|---|\n",
       "| ENSG00000000003_TSPAN6 | ENSG00000000003 | 5.4684470       | 1.169600        | no              |\n",
       "| ENSG00000000419_DPM1 | ENSG00000000419 | 5.6828451       | 1.736982        | Marc            |\n",
       "| ENSG00000000457_SCYL3 | ENSG00000000457 | 0.7900145       | 1.257087        | no              |\n",
       "| ENSG00000000460_C1orf112 | ENSG00000000460 | 3.0843196       | 1.815009        | no              |\n",
       "| ENSG00000001036_FUCA2 | ENSG00000001036 | 3.5822585       | 2.486181        | no              |\n",
       "| ENSG00000001084_GCLC | ENSG00000001084 | 1.7308616       | 2.491006        | no              |\n",
       "\n"
      ],
      "text/plain": [
       "                         gene            mean      var      test\n",
       "ENSG00000000003_TSPAN6   ENSG00000000003 5.4684470 1.169600 no  \n",
       "ENSG00000000419_DPM1     ENSG00000000419 5.6828451 1.736982 Marc\n",
       "ENSG00000000457_SCYL3    ENSG00000000457 0.7900145 1.257087 no  \n",
       "ENSG00000000460_C1orf112 ENSG00000000460 3.0843196 1.815009 no  \n",
       "ENSG00000001036_FUCA2    ENSG00000001036 3.5822585 2.486181 no  \n",
       "ENSG00000001084_GCLC     ENSG00000001084 1.7308616 2.491006 no  "
      ]
     },
     "metadata": {},
     "output_type": "display_data"
    }
   ],
   "source": [
    "head(stats_df)"
   ]
  },
  {
   "cell_type": "code",
   "execution_count": 48,
   "id": "cb415078",
   "metadata": {},
   "outputs": [
    {
     "data": {
      "text/html": [
       "<table>\n",
       "<thead><tr><th scope=col>test</th><th scope=col>n</th></tr></thead>\n",
       "<tbody>\n",
       "\t<tr><td>Anna</td><td>1470</td></tr>\n",
       "\t<tr><td>endo</td><td>2275</td></tr>\n",
       "\t<tr><td>Marc</td><td> 937</td></tr>\n",
       "\t<tr><td>no  </td><td>6549</td></tr>\n",
       "</tbody>\n",
       "</table>\n"
      ],
      "text/latex": [
       "\\begin{tabular}{r|ll}\n",
       " test & n\\\\\n",
       "\\hline\n",
       "\t Anna & 1470\\\\\n",
       "\t endo & 2275\\\\\n",
       "\t Marc &  937\\\\\n",
       "\t no   & 6549\\\\\n",
       "\\end{tabular}\n"
      ],
      "text/markdown": [
       "\n",
       "| test | n |\n",
       "|---|---|\n",
       "| Anna | 1470 |\n",
       "| endo | 2275 |\n",
       "| Marc |  937 |\n",
       "| no   | 6549 |\n",
       "\n"
      ],
      "text/plain": [
       "  test n   \n",
       "1 Anna 1470\n",
       "2 endo 2275\n",
       "3 Marc  937\n",
       "4 no   6549"
      ]
     },
     "metadata": {},
     "output_type": "display_data"
    }
   ],
   "source": [
    "count_df = stats_df %>% group_by(test) %>% summarise(n=n())\n",
    "head(count_df)"
   ]
  },
  {
   "cell_type": "code",
   "execution_count": 62,
   "id": "889ed78f",
   "metadata": {},
   "outputs": [],
   "source": [
    "p1 = ggplot(count_df, aes(x = test, y=n)) + geom_bar(stat=\"identity\") + theme_classic()"
   ]
  },
  {
   "cell_type": "code",
   "execution_count": 63,
   "id": "f0e2cb16",
   "metadata": {},
   "outputs": [],
   "source": [
    "p2 = ggplot(stats_df, aes(x = test, y = mean)) + geom_boxplot() + theme_classic()\n",
    "p3 = ggplot(stats_df, aes(x = test, y = var)) + geom_boxplot() + theme_classic()"
   ]
  },
  {
   "cell_type": "code",
   "execution_count": 64,
   "id": "63af6c4b",
   "metadata": {},
   "outputs": [
    {
     "data": {
      "image/png": "[encoded data removed]",
      "text/plain": [
       "plot without title"
      ]
     },
     "metadata": {},
     "output_type": "display_data"
    }
   ],
   "source": [
    "options(repr.plot.width = 10, repr.plot.height = 4)\n",
    "plot_grid(p1,p2,p3,ncol=3)"
   ]
  },
  {
   "cell_type": "code",
   "execution_count": null,
   "id": "115abec3",
   "metadata": {},
   "outputs": [],
   "source": []
  }
 ],
 "metadata": {
  "kernelspec": {
   "display_name": "R",
   "language": "R",
   "name": "ir"
  },
  "language_info": {
   "codemirror_mode": "r",
   "file_extension": ".r",
   "mimetype": "text/x-r-source",
   "name": "R",
   "pygments_lexer": "r",
   "version": "3.6.1"
  }
 },
 "nbformat": 4,
 "nbformat_minor": 5
}
