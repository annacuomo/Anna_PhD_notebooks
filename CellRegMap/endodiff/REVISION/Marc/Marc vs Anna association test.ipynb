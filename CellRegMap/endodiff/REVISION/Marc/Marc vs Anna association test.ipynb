{
 "cells": [
  {
   "cell_type": "code",
   "execution_count": 9,
   "id": "a63c0ed9",
   "metadata": {},
   "outputs": [],
   "source": [
    "library(dplyr)\n",
    "library(ggplot2)"
   ]
  },
  {
   "cell_type": "code",
   "execution_count": 2,
   "id": "906d00c4",
   "metadata": {},
   "outputs": [],
   "source": [
    "revision_folder = \"/hps/nobackup/stegle/users/acuomo/all_scripts/struct_LMM2/sc_endodiff/debug_May2021/REVISION/\""
   ]
  },
  {
   "cell_type": "code",
   "execution_count": 3,
   "id": "7fc97096",
   "metadata": {},
   "outputs": [],
   "source": [
    "## Marc's"
   ]
  },
  {
   "cell_type": "code",
   "execution_count": 4,
   "id": "0f88ef4e",
   "metadata": {},
   "outputs": [],
   "source": [
    "std_folder = paste0(revision_folder,\"limix_qtl_pipeline_Gtest/Gtest_10MOFA/results_mj/TestOutChr19_Std/\")\n",
    "gauss_folder = paste0(revision_folder,\"limix_qtl_pipeline_Gtest/Gtest_10MOFA/results_mj/TestOutChr19_Gauss/\")"
   ]
  },
  {
   "cell_type": "code",
   "execution_count": 5,
   "id": "e97c905f",
   "metadata": {},
   "outputs": [],
   "source": [
    "res_filename = paste0(std_folder,\"qtl_results_all.txt\")\n",
    "res_filename = paste0(gauss_folder,\"qtl_results_all.txt\")"
   ]
  },
  {
   "cell_type": "code",
   "execution_count": 6,
   "id": "8c5b0106",
   "metadata": {},
   "outputs": [
    {
     "data": {
      "text/html": [
       "997544"
      ],
      "text/latex": [
       "997544"
      ],
      "text/markdown": [
       "997544"
      ],
      "text/plain": [
       "[1] 997544"
      ]
     },
     "metadata": {},
     "output_type": "display_data"
    },
    {
     "data": {
      "text/html": [
       "<table>\n",
       "<thead><tr><th scope=col>feature_id</th><th scope=col>snp_id</th><th scope=col>p_value</th><th scope=col>beta</th><th scope=col>beta_se</th><th scope=col>empirical_feature_p_value</th><th scope=col>feature_chromosome</th><th scope=col>feature_start</th><th scope=col>feature_end</th><th scope=col>n_samples</th><th scope=col>n_e_samples</th><th scope=col>alpha_param</th><th scope=col>beta_param</th><th scope=col>rho</th><th scope=col>snp_chromosome</th><th scope=col>snp_position</th><th scope=col>assessed_allele</th><th scope=col>call_rate</th><th scope=col>maf</th><th scope=col>hwe_p</th></tr></thead>\n",
       "<tbody>\n",
       "\t<tr><td>ENSG00000083844</td><td>19_57703077_T_G</td><td>7.682972e-06   </td><td>-0.08074288    </td><td>0.01804454     </td><td>4.813915e-09   </td><td>19             </td><td>57702868       </td><td>57724724       </td><td>27598          </td><td>99             </td><td>2.369113       </td><td>62.11524       </td><td>0.8            </td><td>19             </td><td>57703077       </td><td>G              </td><td>1              </td><td>0.4141414      </td><td>1              </td></tr>\n",
       "\t<tr><td>ENSG00000083844</td><td>19_57703209_T_C</td><td>7.682972e-06   </td><td>-0.08074288    </td><td>0.01804454     </td><td>4.813915e-09   </td><td>19             </td><td>57702868       </td><td>57724724       </td><td>27598          </td><td>99             </td><td>2.369113       </td><td>62.11524       </td><td>0.8            </td><td>19             </td><td>57703209       </td><td>C              </td><td>1              </td><td>0.4141414      </td><td>1              </td></tr>\n",
       "</tbody>\n",
       "</table>\n"
      ],
      "text/latex": [
       "\\begin{tabular}{r|llllllllllllllllllll}\n",
       " feature\\_id & snp\\_id & p\\_value & beta & beta\\_se & empirical\\_feature\\_p\\_value & feature\\_chromosome & feature\\_start & feature\\_end & n\\_samples & n\\_e\\_samples & alpha\\_param & beta\\_param & rho & snp\\_chromosome & snp\\_position & assessed\\_allele & call\\_rate & maf & hwe\\_p\\\\\n",
       "\\hline\n",
       "\t ENSG00000083844       & 19\\_57703077\\_T\\_G & 7.682972e-06          & -0.08074288           & 0.01804454            & 4.813915e-09          & 19                    & 57702868              & 57724724              & 27598                 & 99                    & 2.369113              & 62.11524              & 0.8                   & 19                    & 57703077              & G                     & 1                     & 0.4141414             & 1                    \\\\\n",
       "\t ENSG00000083844       & 19\\_57703209\\_T\\_C & 7.682972e-06          & -0.08074288           & 0.01804454            & 4.813915e-09          & 19                    & 57702868              & 57724724              & 27598                 & 99                    & 2.369113              & 62.11524              & 0.8                   & 19                    & 57703209              & C                     & 1                     & 0.4141414             & 1                    \\\\\n",
       "\\end{tabular}\n"
      ],
      "text/markdown": [
       "\n",
       "| feature_id | snp_id | p_value | beta | beta_se | empirical_feature_p_value | feature_chromosome | feature_start | feature_end | n_samples | n_e_samples | alpha_param | beta_param | rho | snp_chromosome | snp_position | assessed_allele | call_rate | maf | hwe_p |\n",
       "|---|---|---|---|---|---|---|---|---|---|---|---|---|---|---|---|---|---|---|---|\n",
       "| ENSG00000083844 | 19_57703077_T_G | 7.682972e-06    | -0.08074288     | 0.01804454      | 4.813915e-09    | 19              | 57702868        | 57724724        | 27598           | 99              | 2.369113        | 62.11524        | 0.8             | 19              | 57703077        | G               | 1               | 0.4141414       | 1               |\n",
       "| ENSG00000083844 | 19_57703209_T_C | 7.682972e-06    | -0.08074288     | 0.01804454      | 4.813915e-09    | 19              | 57702868        | 57724724        | 27598           | 99              | 2.369113        | 62.11524        | 0.8             | 19              | 57703209        | C               | 1               | 0.4141414       | 1               |\n",
       "\n"
      ],
      "text/plain": [
       "  feature_id      snp_id          p_value      beta        beta_se   \n",
       "1 ENSG00000083844 19_57703077_T_G 7.682972e-06 -0.08074288 0.01804454\n",
       "2 ENSG00000083844 19_57703209_T_C 7.682972e-06 -0.08074288 0.01804454\n",
       "  empirical_feature_p_value feature_chromosome feature_start feature_end\n",
       "1 4.813915e-09              19                 57702868      57724724   \n",
       "2 4.813915e-09              19                 57702868      57724724   \n",
       "  n_samples n_e_samples alpha_param beta_param rho snp_chromosome snp_position\n",
       "1 27598     99          2.369113    62.11524   0.8 19             57703077    \n",
       "2 27598     99          2.369113    62.11524   0.8 19             57703209    \n",
       "  assessed_allele call_rate maf       hwe_p\n",
       "1 G               1         0.4141414 1    \n",
       "2 C               1         0.4141414 1    "
      ]
     },
     "metadata": {},
     "output_type": "display_data"
    }
   ],
   "source": [
    "res = read.csv(res_filename, sep=\"\\t\")\n",
    "nrow(res)\n",
    "head(res,2)"
   ]
  },
  {
   "cell_type": "code",
   "execution_count": 7,
   "id": "5f0fad7d",
   "metadata": {},
   "outputs": [],
   "source": [
    "## Anna's"
   ]
  },
  {
   "cell_type": "code",
   "execution_count": 8,
   "id": "32f014e1",
   "metadata": {},
   "outputs": [],
   "source": [
    "crm_file = paste0(revision_folder, \"CRM_association/summary.csv\")"
   ]
  },
  {
   "cell_type": "code",
   "execution_count": 10,
   "id": "97da6a9c",
   "metadata": {},
   "outputs": [
    {
     "data": {
      "text/html": [
       "10003258"
      ],
      "text/latex": [
       "10003258"
      ],
      "text/markdown": [
       "10003258"
      ],
      "text/plain": [
       "[1] 10003258"
      ]
     },
     "metadata": {},
     "output_type": "display_data"
    },
    {
     "data": {
      "text/html": [
       "<table>\n",
       "<thead><tr><th></th><th scope=col>feature_id</th><th scope=col>n_snps</th><th scope=col>feature_chromosome</th><th scope=col>p_value</th><th scope=col>snp_id</th><th scope=col>p_value_Bonferroni</th></tr></thead>\n",
       "<tbody>\n",
       "\t<tr><th scope=row>0</th><td>ENSG00000250462</td><td>909            </td><td>17             </td><td>0.5215900      </td><td>17_28857239_G_A</td><td>1              </td></tr>\n",
       "\t<tr><th scope=row>1</th><td>ENSG00000250462</td><td>909            </td><td>17             </td><td>0.6535075      </td><td>17_28857794_C_T</td><td>1              </td></tr>\n",
       "</tbody>\n",
       "</table>\n"
      ],
      "text/latex": [
       "\\begin{tabular}{r|llllll}\n",
       "  & feature\\_id & n\\_snps & feature\\_chromosome & p\\_value & snp\\_id & p\\_value\\_Bonferroni\\\\\n",
       "\\hline\n",
       "\t0 & ENSG00000250462       & 909                   & 17                    & 0.5215900             & 17\\_28857239\\_G\\_A & 1                    \\\\\n",
       "\t1 & ENSG00000250462       & 909                   & 17                    & 0.6535075             & 17\\_28857794\\_C\\_T & 1                    \\\\\n",
       "\\end{tabular}\n"
      ],
      "text/markdown": [
       "\n",
       "| <!--/--> | feature_id | n_snps | feature_chromosome | p_value | snp_id | p_value_Bonferroni |\n",
       "|---|---|---|---|---|---|---|\n",
       "| 0 | ENSG00000250462 | 909             | 17              | 0.5215900       | 17_28857239_G_A | 1               |\n",
       "| 1 | ENSG00000250462 | 909             | 17              | 0.6535075       | 17_28857794_C_T | 1               |\n",
       "\n"
      ],
      "text/plain": [
       "  feature_id      n_snps feature_chromosome p_value   snp_id         \n",
       "0 ENSG00000250462 909    17                 0.5215900 17_28857239_G_A\n",
       "1 ENSG00000250462 909    17                 0.6535075 17_28857794_C_T\n",
       "  p_value_Bonferroni\n",
       "0 1                 \n",
       "1 1                 "
      ]
     },
     "metadata": {},
     "output_type": "display_data"
    }
   ],
   "source": [
    "crm = read.csv(crm_file, row.names=1)\n",
    "colnames(crm) = c(\"feature_id\", \"n_snps\", \"feature_chromosome\",\"p_value\",\"snp_id\",\"p_value_Bonferroni\") \n",
    "nrow(crm)\n",
    "head(crm,2)"
   ]
  },
  {
   "cell_type": "code",
   "execution_count": null,
   "id": "320153a1",
   "metadata": {},
   "outputs": [],
   "source": [
    "for (i in 1:22){\n",
    "    print(c(i, length(unique(crm[crm$feature_chromosome == i,\"feature_id\"])), nrow(crm[crm$feature_chromosome == i,])))\n",
    "}"
   ]
  },
  {
   "cell_type": "code",
   "execution_count": 11,
   "id": "74e9540b",
   "metadata": {},
   "outputs": [
    {
     "name": "stdout",
     "output_type": "stream",
     "text": [
      "[1]      1   1075 900729\n",
      "[1]      2    726 724029\n",
      "[1]      3    645 683196\n",
      "[1]      4    390 440016\n",
      "[1]      5    495 516933\n",
      "[1]      6    523 595765\n",
      "[1]      7    524 531165\n",
      "[1]      8    385 393530\n",
      "[1]      9    435 432338\n",
      "[1]     10    410 433590\n",
      "[1]     11    601 539645\n",
      "[1]     12    584 520458\n",
      "[1]     13    191 209960\n",
      "[1]     14    345 333461\n",
      "[1]     15    368 337971\n",
      "[1]     16    512 445543\n",
      "[1]     17    646 492841\n",
      "[1]     18    164 179367\n",
      "[1]     19    830 672590\n",
      "[1]     20    280 258036\n",
      "[1]    21    93 99425\n",
      "[1]     22    271 262670\n"
     ]
    }
   ],
   "source": [
    "for (i in 1:22){\n",
    "    print(c(i, length(unique(crm[crm$feature_chromosome == i,\"feature_id\"])), nrow(crm[crm$feature_chromosome == i,])))\n",
    "}"
   ]
  },
  {
   "cell_type": "code",
   "execution_count": 12,
   "id": "c07bc585",
   "metadata": {},
   "outputs": [
    {
     "data": {
      "text/html": [
       "406389"
      ],
      "text/latex": [
       "406389"
      ],
      "text/markdown": [
       "406389"
      ],
      "text/plain": [
       "[1] 406389"
      ]
     },
     "metadata": {},
     "output_type": "display_data"
    },
    {
     "data": {
      "text/html": [
       "<table>\n",
       "<thead><tr><th scope=col>feature_id</th><th scope=col>snp_id</th><th scope=col>p_value.M</th><th scope=col>beta</th><th scope=col>beta_se</th><th scope=col>empirical_feature_p_value</th><th scope=col>feature_chromosome.M</th><th scope=col>feature_start</th><th scope=col>feature_end</th><th scope=col>n_samples</th><th scope=col>...</th><th scope=col>snp_chromosome</th><th scope=col>snp_position</th><th scope=col>assessed_allele</th><th scope=col>call_rate</th><th scope=col>maf</th><th scope=col>hwe_p</th><th scope=col>n_snps</th><th scope=col>feature_chromosome.A</th><th scope=col>p_value.A</th><th scope=col>p_value_Bonferroni</th></tr></thead>\n",
       "<tbody>\n",
       "\t<tr><td>ENSG00000083844</td><td>19_57703077_T_G</td><td>7.682972e-06   </td><td>-0.08074288    </td><td>0.01804454     </td><td>4.813915e-09   </td><td>19             </td><td>57702868       </td><td>57724724       </td><td>27598          </td><td>...            </td><td>19             </td><td>57703077       </td><td>G              </td><td>1              </td><td>0.4141414      </td><td>1              </td><td>988            </td><td>19             </td><td>2.333279e-06   </td><td>0.00230528     </td></tr>\n",
       "\t<tr><td>ENSG00000083844</td><td>19_57703209_T_C</td><td>7.682972e-06   </td><td>-0.08074288    </td><td>0.01804454     </td><td>4.813915e-09   </td><td>19             </td><td>57702868       </td><td>57724724       </td><td>27598          </td><td>...            </td><td>19             </td><td>57703209       </td><td>C              </td><td>1              </td><td>0.4141414      </td><td>1              </td><td>988            </td><td>19             </td><td>2.333279e-06   </td><td>0.00230528     </td></tr>\n",
       "</tbody>\n",
       "</table>\n"
      ],
      "text/latex": [
       "\\begin{tabular}{r|llllllllllllllllllllllll}\n",
       " feature\\_id & snp\\_id & p\\_value.M & beta & beta\\_se & empirical\\_feature\\_p\\_value & feature\\_chromosome.M & feature\\_start & feature\\_end & n\\_samples & ... & snp\\_chromosome & snp\\_position & assessed\\_allele & call\\_rate & maf & hwe\\_p & n\\_snps & feature\\_chromosome.A & p\\_value.A & p\\_value\\_Bonferroni\\\\\n",
       "\\hline\n",
       "\t ENSG00000083844       & 19\\_57703077\\_T\\_G & 7.682972e-06          & -0.08074288           & 0.01804454            & 4.813915e-09          & 19                    & 57702868              & 57724724              & 27598                 & ...                   & 19                    & 57703077              & G                     & 1                     & 0.4141414             & 1                     & 988                   & 19                    & 2.333279e-06          & 0.00230528           \\\\\n",
       "\t ENSG00000083844       & 19\\_57703209\\_T\\_C & 7.682972e-06          & -0.08074288           & 0.01804454            & 4.813915e-09          & 19                    & 57702868              & 57724724              & 27598                 & ...                   & 19                    & 57703209              & C                     & 1                     & 0.4141414             & 1                     & 988                   & 19                    & 2.333279e-06          & 0.00230528           \\\\\n",
       "\\end{tabular}\n"
      ],
      "text/markdown": [
       "\n",
       "| feature_id | snp_id | p_value.M | beta | beta_se | empirical_feature_p_value | feature_chromosome.M | feature_start | feature_end | n_samples | ... | snp_chromosome | snp_position | assessed_allele | call_rate | maf | hwe_p | n_snps | feature_chromosome.A | p_value.A | p_value_Bonferroni |\n",
       "|---|---|---|---|---|---|---|---|---|---|---|---|---|---|---|---|---|---|---|---|---|\n",
       "| ENSG00000083844 | 19_57703077_T_G | 7.682972e-06    | -0.08074288     | 0.01804454      | 4.813915e-09    | 19              | 57702868        | 57724724        | 27598           | ...             | 19              | 57703077        | G               | 1               | 0.4141414       | 1               | 988             | 19              | 2.333279e-06    | 0.00230528      |\n",
       "| ENSG00000083844 | 19_57703209_T_C | 7.682972e-06    | -0.08074288     | 0.01804454      | 4.813915e-09    | 19              | 57702868        | 57724724        | 27598           | ...             | 19              | 57703209        | C               | 1               | 0.4141414       | 1               | 988             | 19              | 2.333279e-06    | 0.00230528      |\n",
       "\n"
      ],
      "text/plain": [
       "  feature_id      snp_id          p_value.M    beta        beta_se   \n",
       "1 ENSG00000083844 19_57703077_T_G 7.682972e-06 -0.08074288 0.01804454\n",
       "2 ENSG00000083844 19_57703209_T_C 7.682972e-06 -0.08074288 0.01804454\n",
       "  empirical_feature_p_value feature_chromosome.M feature_start feature_end\n",
       "1 4.813915e-09              19                   57702868      57724724   \n",
       "2 4.813915e-09              19                   57702868      57724724   \n",
       "  n_samples ... snp_chromosome snp_position assessed_allele call_rate maf      \n",
       "1 27598     ... 19             57703077     G               1         0.4141414\n",
       "2 27598     ... 19             57703209     C               1         0.4141414\n",
       "  hwe_p n_snps feature_chromosome.A p_value.A    p_value_Bonferroni\n",
       "1 1     988    19                   2.333279e-06 0.00230528        \n",
       "2 1     988    19                   2.333279e-06 0.00230528        "
      ]
     },
     "metadata": {},
     "output_type": "display_data"
    }
   ],
   "source": [
    "res2 = inner_join(res, crm, by = c(\"snp_id\",\"feature_id\"), suffix = c(\".M\",\".A\"))\n",
    "nrow(res2)\n",
    "head(res2,2)"
   ]
  },
  {
   "cell_type": "code",
   "execution_count": 13,
   "id": "4488766c",
   "metadata": {},
   "outputs": [],
   "source": [
    "## Gauss"
   ]
  },
  {
   "cell_type": "code",
   "execution_count": 14,
   "id": "697dbf5f",
   "metadata": {},
   "outputs": [
    {
     "data": {
      "text/plain": [
       "\n",
       "\tPearson's product-moment correlation\n",
       "\n",
       "data:  -log10(res2$p_value.M) and -log10(res2$p_value.A)\n",
       "t = 1209.2, df = 406387, p-value < 2.2e-16\n",
       "alternative hypothesis: true correlation is not equal to 0\n",
       "95 percent confidence interval:\n",
       " 0.8839205 0.8852579\n",
       "sample estimates:\n",
       "     cor \n",
       "0.884591 \n"
      ]
     },
     "metadata": {},
     "output_type": "display_data"
    }
   ],
   "source": [
    "cor.test(-log10(res2$p_value.M), -log10(res2$p_value.A))"
   ]
  },
  {
   "cell_type": "code",
   "execution_count": 15,
   "id": "b99bdd99",
   "metadata": {},
   "outputs": [
    {
     "data": {
      "image/png": "[encoded data removed]",
      "text/plain": [
       "plot without title"
      ]
     },
     "metadata": {},
     "output_type": "display_data"
    }
   ],
   "source": [
    "options(repr.plot.width = 5, repr.plot.height = 5) \n",
    "p = ggplot(res2, aes(x=-log10(p_value.M), y=-log10(p_value.A))) + geom_point() + geom_abline()\n",
    "p + theme_minimal()"
   ]
  },
  {
   "cell_type": "code",
   "execution_count": 16,
   "id": "1263e113",
   "metadata": {},
   "outputs": [],
   "source": [
    "#### Std"
   ]
  },
  {
   "cell_type": "code",
   "execution_count": 87,
   "id": "e3ecafa4",
   "metadata": {},
   "outputs": [
    {
     "data": {
      "text/plain": [
       "\n",
       "\tPearson's product-moment correlation\n",
       "\n",
       "data:  -log10(res2$p_value.M) and -log10(res2$p_value.A)\n",
       "t = 479.25, df = 21983, p-value < 2.2e-16\n",
       "alternative hypothesis: true correlation is not equal to 0\n",
       "95 percent confidence interval:\n",
       " 0.9541572 0.9564669\n",
       "sample estimates:\n",
       "      cor \n",
       "0.9553266 \n"
      ]
     },
     "metadata": {},
     "output_type": "display_data"
    }
   ],
   "source": [
    "cor.test(-log10(res2$p_value.M), -log10(res2$p_value.A))"
   ]
  },
  {
   "cell_type": "code",
   "execution_count": 88,
   "id": "a0081310",
   "metadata": {},
   "outputs": [
    {
     "data": {
      "image/png": "[encoded data removed]",
      "text/plain": [
       "plot without title"
      ]
     },
     "metadata": {},
     "output_type": "display_data"
    }
   ],
   "source": [
    "options(repr.plot.width = 5, repr.plot.height = 5) \n",
    "ggplot(res2, aes(x=-log10(p_value.M), y=-log10(p_value.A))) + geom_point() + theme_minimal()"
   ]
  },
  {
   "cell_type": "code",
   "execution_count": null,
   "id": "873330cb",
   "metadata": {},
   "outputs": [],
   "source": []
  }
 ],
 "metadata": {
  "kernelspec": {
   "display_name": "R",
   "language": "R",
   "name": "ir"
  },
  "language_info": {
   "codemirror_mode": "r",
   "file_extension": ".r",
   "mimetype": "text/x-r-source",
   "name": "R",
   "pygments_lexer": "r",
   "version": "3.6.1"
  }
 },
 "nbformat": 4,
 "nbformat_minor": 5
}
