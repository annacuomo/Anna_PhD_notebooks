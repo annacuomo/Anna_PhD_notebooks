{
 "cells": [
  {
   "cell_type": "code",
   "execution_count": 12,
   "id": "de08ef6e",
   "metadata": {},
   "outputs": [],
   "source": [
    "import pandas as pd"
   ]
  },
  {
   "cell_type": "code",
   "execution_count": 13,
   "id": "1f45d5c7",
   "metadata": {},
   "outputs": [],
   "source": [
    "revision_folder = \"/hps/nobackup/stegle/users/acuomo/all_scripts/struct_LMM2/sc_endodiff/debug_May2021/REVISION/\""
   ]
  },
  {
   "cell_type": "code",
   "execution_count": 14,
   "id": "33a38c04",
   "metadata": {},
   "outputs": [],
   "source": [
    "# all results (Marc, common_eQTLs only)\n",
    "myfile0 = revision_folder+\"Marcs_results_all_common_eqtls.csv\"\n",
    "df0 = pd.read_csv(myfile0)"
   ]
  },
  {
   "cell_type": "code",
   "execution_count": 15,
   "id": "e5579920",
   "metadata": {},
   "outputs": [
    {
     "data": {
      "text/html": [
       "<div>\n",
       "<style scoped>\n",
       "    .dataframe tbody tr th:only-of-type {\n",
       "        vertical-align: middle;\n",
       "    }\n",
       "\n",
       "    .dataframe tbody tr th {\n",
       "        vertical-align: top;\n",
       "    }\n",
       "\n",
       "    .dataframe thead th {\n",
       "        text-align: right;\n",
       "    }\n",
       "</style>\n",
       "<table border=\"1\" class=\"dataframe\">\n",
       "  <thead>\n",
       "    <tr style=\"text-align: right;\">\n",
       "      <th></th>\n",
       "      <th>Unnamed: 0</th>\n",
       "      <th>feature_id</th>\n",
       "      <th>snp_id</th>\n",
       "      <th>p_value</th>\n",
       "      <th>beta</th>\n",
       "      <th>beta_se</th>\n",
       "      <th>empirical_feature_p_value</th>\n",
       "      <th>feature_chromosome</th>\n",
       "      <th>feature_start</th>\n",
       "      <th>feature_end</th>\n",
       "      <th>...</th>\n",
       "      <th>alpha_param</th>\n",
       "      <th>beta_param</th>\n",
       "      <th>rho</th>\n",
       "      <th>snp_chromosome</th>\n",
       "      <th>snp_position</th>\n",
       "      <th>assessed_allele</th>\n",
       "      <th>call_rate</th>\n",
       "      <th>maf</th>\n",
       "      <th>hwe_p</th>\n",
       "      <th>eqtl</th>\n",
       "    </tr>\n",
       "  </thead>\n",
       "  <tbody>\n",
       "    <tr>\n",
       "      <th>0</th>\n",
       "      <td>1</td>\n",
       "      <td>ENSG00000221909</td>\n",
       "      <td>7_99141373_G_A</td>\n",
       "      <td>0.028874</td>\n",
       "      <td>0.055972</td>\n",
       "      <td>0.025613</td>\n",
       "      <td>0.463113</td>\n",
       "      <td>7</td>\n",
       "      <td>99143931</td>\n",
       "      <td>99156159</td>\n",
       "      <td>...</td>\n",
       "      <td>0.964815</td>\n",
       "      <td>20.152657</td>\n",
       "      <td>0.8</td>\n",
       "      <td>7</td>\n",
       "      <td>99141373</td>\n",
       "      <td>A</td>\n",
       "      <td>1</td>\n",
       "      <td>0.075758</td>\n",
       "      <td>0.436055</td>\n",
       "      <td>ENSG00000221909-7_99141373_G_A</td>\n",
       "    </tr>\n",
       "    <tr>\n",
       "      <th>1</th>\n",
       "      <td>7</td>\n",
       "      <td>ENSG00000221909</td>\n",
       "      <td>7_99046617_G_A</td>\n",
       "      <td>0.036647</td>\n",
       "      <td>0.051505</td>\n",
       "      <td>0.024647</td>\n",
       "      <td>0.545354</td>\n",
       "      <td>7</td>\n",
       "      <td>99143931</td>\n",
       "      <td>99156159</td>\n",
       "      <td>...</td>\n",
       "      <td>0.964815</td>\n",
       "      <td>20.152657</td>\n",
       "      <td>0.8</td>\n",
       "      <td>7</td>\n",
       "      <td>99046617</td>\n",
       "      <td>A</td>\n",
       "      <td>1</td>\n",
       "      <td>0.106061</td>\n",
       "      <td>0.593926</td>\n",
       "      <td>ENSG00000221909-7_99046617_G_A</td>\n",
       "    </tr>\n",
       "  </tbody>\n",
       "</table>\n",
       "<p>2 rows × 22 columns</p>\n",
       "</div>"
      ],
      "text/plain": [
       "   Unnamed: 0       feature_id          snp_id   p_value      beta   beta_se  \\\n",
       "0           1  ENSG00000221909  7_99141373_G_A  0.028874  0.055972  0.025613   \n",
       "1           7  ENSG00000221909  7_99046617_G_A  0.036647  0.051505  0.024647   \n",
       "\n",
       "   empirical_feature_p_value  feature_chromosome  feature_start  feature_end  \\\n",
       "0                   0.463113                   7       99143931     99156159   \n",
       "1                   0.545354                   7       99143931     99156159   \n",
       "\n",
       "   ...  alpha_param  beta_param  rho  snp_chromosome  snp_position  \\\n",
       "0  ...     0.964815   20.152657  0.8               7      99141373   \n",
       "1  ...     0.964815   20.152657  0.8               7      99046617   \n",
       "\n",
       "   assessed_allele  call_rate       maf     hwe_p  \\\n",
       "0                A          1  0.075758  0.436055   \n",
       "1                A          1  0.106061  0.593926   \n",
       "\n",
       "                             eqtl  \n",
       "0  ENSG00000221909-7_99141373_G_A  \n",
       "1  ENSG00000221909-7_99046617_G_A  \n",
       "\n",
       "[2 rows x 22 columns]"
      ]
     },
     "execution_count": 15,
     "metadata": {},
     "output_type": "execute_result"
    }
   ],
   "source": [
    "df0.head(2)"
   ]
  },
  {
   "cell_type": "code",
   "execution_count": 16,
   "id": "bed12ec7",
   "metadata": {},
   "outputs": [
    {
     "data": {
      "text/plain": [
       "10487"
      ]
     },
     "execution_count": 16,
     "metadata": {},
     "output_type": "execute_result"
    }
   ],
   "source": [
    "all_genes_Marc = df0[\"feature_id\"].unique()\n",
    "len(all_genes_Marc)"
   ]
  },
  {
   "cell_type": "code",
   "execution_count": 17,
   "id": "1107e60a",
   "metadata": {},
   "outputs": [],
   "source": [
    "# all results (Anna)\n",
    "crm_file = revision_folder+\"Annas_results_all_common_eqtls.csv\"\n",
    "crm = pd.read_csv(crm_file)"
   ]
  },
  {
   "cell_type": "code",
   "execution_count": 18,
   "id": "18936a3a",
   "metadata": {},
   "outputs": [
    {
     "data": {
      "text/html": [
       "<div>\n",
       "<style scoped>\n",
       "    .dataframe tbody tr th:only-of-type {\n",
       "        vertical-align: middle;\n",
       "    }\n",
       "\n",
       "    .dataframe tbody tr th {\n",
       "        vertical-align: top;\n",
       "    }\n",
       "\n",
       "    .dataframe thead th {\n",
       "        text-align: right;\n",
       "    }\n",
       "</style>\n",
       "<table border=\"1\" class=\"dataframe\">\n",
       "  <thead>\n",
       "    <tr style=\"text-align: right;\">\n",
       "      <th></th>\n",
       "      <th>Unnamed: 0</th>\n",
       "      <th>gene</th>\n",
       "      <th>n_snps</th>\n",
       "      <th>chrom</th>\n",
       "      <th>pv_raw</th>\n",
       "      <th>snpID</th>\n",
       "      <th>pv</th>\n",
       "      <th>eqtl</th>\n",
       "    </tr>\n",
       "  </thead>\n",
       "  <tbody>\n",
       "    <tr>\n",
       "      <th>0</th>\n",
       "      <td>3</td>\n",
       "      <td>ENSG00000250462</td>\n",
       "      <td>909</td>\n",
       "      <td>17</td>\n",
       "      <td>0.301036</td>\n",
       "      <td>17_28859432_G_A</td>\n",
       "      <td>1.0</td>\n",
       "      <td>ENSG00000250462-17_28859432_G_A</td>\n",
       "    </tr>\n",
       "    <tr>\n",
       "      <th>1</th>\n",
       "      <td>5</td>\n",
       "      <td>ENSG00000250462</td>\n",
       "      <td>909</td>\n",
       "      <td>17</td>\n",
       "      <td>0.195837</td>\n",
       "      <td>17_28859670_C_A</td>\n",
       "      <td>1.0</td>\n",
       "      <td>ENSG00000250462-17_28859670_C_A</td>\n",
       "    </tr>\n",
       "  </tbody>\n",
       "</table>\n",
       "</div>"
      ],
      "text/plain": [
       "   Unnamed: 0             gene  n_snps  chrom    pv_raw            snpID   pv  \\\n",
       "0           3  ENSG00000250462     909     17  0.301036  17_28859432_G_A  1.0   \n",
       "1           5  ENSG00000250462     909     17  0.195837  17_28859670_C_A  1.0   \n",
       "\n",
       "                              eqtl  \n",
       "0  ENSG00000250462-17_28859432_G_A  \n",
       "1  ENSG00000250462-17_28859670_C_A  "
      ]
     },
     "execution_count": 18,
     "metadata": {},
     "output_type": "execute_result"
    }
   ],
   "source": [
    "crm.head(2)"
   ]
  },
  {
   "cell_type": "code",
   "execution_count": 19,
   "id": "cfd46a00",
   "metadata": {},
   "outputs": [
    {
     "data": {
      "text/plain": [
       "10487"
      ]
     },
     "execution_count": 19,
     "metadata": {},
     "output_type": "execute_result"
    }
   ],
   "source": [
    "all_genes_Anna = crm[\"gene\"].unique()\n",
    "len(all_genes_Anna)"
   ]
  },
  {
   "cell_type": "code",
   "execution_count": null,
   "id": "9d7f1f88",
   "metadata": {},
   "outputs": [],
   "source": [
    "########## begin multiple testing correction"
   ]
  },
  {
   "cell_type": "code",
   "execution_count": null,
   "id": "0439a6e6",
   "metadata": {},
   "outputs": [],
   "source": [
    "### step1: Bonferroni at gene-level (FWER)"
   ]
  },
  {
   "cell_type": "code",
   "execution_count": 21,
   "id": "73b46f98",
   "metadata": {},
   "outputs": [
    {
     "name": "stderr",
     "output_type": "stream",
     "text": [
      "<ipython-input-21-53cc2492a640>:4: SettingWithCopyWarning: \n",
      "A value is trying to be set on a copy of a slice from a DataFrame.\n",
      "Try using .loc[row_indexer,col_indexer] = value instead\n",
      "\n",
      "See the caveats in the documentation: https://pandas.pydata.org/pandas-docs/stable/user_guide/indexing.html#returning-a-view-versus-a-copy\n",
      "  df3[df3[\"feature_id\"]==gene]['pv_Bonf'] = df3[df3[\"feature_id\"]==gene]['p_value']*n\n"
     ]
    },
    {
     "ename": "KeyboardInterrupt",
     "evalue": "",
     "output_type": "error",
     "traceback": [
      "\u001b[0;31m---------------------------------------------------------------------------\u001b[0m",
      "\u001b[0;31mKeyboardInterrupt\u001b[0m                         Traceback (most recent call last)",
      "\u001b[0;32m<ipython-input-21-53cc2492a640>\u001b[0m in \u001b[0;36m<module>\u001b[0;34m\u001b[0m\n\u001b[1;32m      2\u001b[0m \u001b[0;32mfor\u001b[0m \u001b[0mgene\u001b[0m \u001b[0;32min\u001b[0m \u001b[0mall_genes_Marc\u001b[0m\u001b[0;34m:\u001b[0m\u001b[0;34m\u001b[0m\u001b[0;34m\u001b[0m\u001b[0m\n\u001b[1;32m      3\u001b[0m     \u001b[0mn\u001b[0m \u001b[0;34m=\u001b[0m \u001b[0mdf3\u001b[0m\u001b[0;34m[\u001b[0m\u001b[0mdf3\u001b[0m\u001b[0;34m[\u001b[0m\u001b[0;34m\"feature_id\"\u001b[0m\u001b[0;34m]\u001b[0m\u001b[0;34m==\u001b[0m\u001b[0mgene\u001b[0m\u001b[0;34m]\u001b[0m\u001b[0;34m.\u001b[0m\u001b[0mshape\u001b[0m\u001b[0;34m[\u001b[0m\u001b[0;36m0\u001b[0m\u001b[0;34m]\u001b[0m\u001b[0;34m\u001b[0m\u001b[0;34m\u001b[0m\u001b[0m\n\u001b[0;32m----> 4\u001b[0;31m     \u001b[0mdf3\u001b[0m\u001b[0;34m[\u001b[0m\u001b[0mdf3\u001b[0m\u001b[0;34m[\u001b[0m\u001b[0;34m\"feature_id\"\u001b[0m\u001b[0;34m]\u001b[0m\u001b[0;34m==\u001b[0m\u001b[0mgene\u001b[0m\u001b[0;34m]\u001b[0m\u001b[0;34m[\u001b[0m\u001b[0;34m'pv_Bonf'\u001b[0m\u001b[0;34m]\u001b[0m \u001b[0;34m=\u001b[0m \u001b[0mdf3\u001b[0m\u001b[0;34m[\u001b[0m\u001b[0mdf3\u001b[0m\u001b[0;34m[\u001b[0m\u001b[0;34m\"feature_id\"\u001b[0m\u001b[0;34m]\u001b[0m\u001b[0;34m==\u001b[0m\u001b[0mgene\u001b[0m\u001b[0;34m]\u001b[0m\u001b[0;34m[\u001b[0m\u001b[0;34m'p_value'\u001b[0m\u001b[0;34m]\u001b[0m\u001b[0;34m*\u001b[0m\u001b[0mn\u001b[0m\u001b[0;34m\u001b[0m\u001b[0;34m\u001b[0m\u001b[0m\n\u001b[0m",
      "\u001b[0;32m/nfs/software/stegle/users/acuomo/conda-envs/struct-lmm2/lib/python3.8/site-packages/pandas/core/ops/common.py\u001b[0m in \u001b[0;36mnew_method\u001b[0;34m(self, other)\u001b[0m\n\u001b[1;32m     63\u001b[0m         \u001b[0mother\u001b[0m \u001b[0;34m=\u001b[0m \u001b[0mitem_from_zerodim\u001b[0m\u001b[0;34m(\u001b[0m\u001b[0mother\u001b[0m\u001b[0;34m)\u001b[0m\u001b[0;34m\u001b[0m\u001b[0;34m\u001b[0m\u001b[0m\n\u001b[1;32m     64\u001b[0m \u001b[0;34m\u001b[0m\u001b[0m\n\u001b[0;32m---> 65\u001b[0;31m         \u001b[0;32mreturn\u001b[0m \u001b[0mmethod\u001b[0m\u001b[0;34m(\u001b[0m\u001b[0mself\u001b[0m\u001b[0;34m,\u001b[0m \u001b[0mother\u001b[0m\u001b[0;34m)\u001b[0m\u001b[0;34m\u001b[0m\u001b[0;34m\u001b[0m\u001b[0m\n\u001b[0m\u001b[1;32m     66\u001b[0m \u001b[0;34m\u001b[0m\u001b[0m\n\u001b[1;32m     67\u001b[0m     \u001b[0;32mreturn\u001b[0m \u001b[0mnew_method\u001b[0m\u001b[0;34m\u001b[0m\u001b[0;34m\u001b[0m\u001b[0m\n",
      "\u001b[0;32m/nfs/software/stegle/users/acuomo/conda-envs/struct-lmm2/lib/python3.8/site-packages/pandas/core/ops/__init__.py\u001b[0m in \u001b[0;36mwrapper\u001b[0;34m(self, other)\u001b[0m\n\u001b[1;32m    368\u001b[0m         \u001b[0mrvalues\u001b[0m \u001b[0;34m=\u001b[0m \u001b[0mextract_array\u001b[0m\u001b[0;34m(\u001b[0m\u001b[0mother\u001b[0m\u001b[0;34m,\u001b[0m \u001b[0mextract_numpy\u001b[0m\u001b[0;34m=\u001b[0m\u001b[0;32mTrue\u001b[0m\u001b[0;34m)\u001b[0m\u001b[0;34m\u001b[0m\u001b[0;34m\u001b[0m\u001b[0m\n\u001b[1;32m    369\u001b[0m \u001b[0;34m\u001b[0m\u001b[0m\n\u001b[0;32m--> 370\u001b[0;31m         \u001b[0mres_values\u001b[0m \u001b[0;34m=\u001b[0m \u001b[0mcomparison_op\u001b[0m\u001b[0;34m(\u001b[0m\u001b[0mlvalues\u001b[0m\u001b[0;34m,\u001b[0m \u001b[0mrvalues\u001b[0m\u001b[0;34m,\u001b[0m \u001b[0mop\u001b[0m\u001b[0;34m)\u001b[0m\u001b[0;34m\u001b[0m\u001b[0;34m\u001b[0m\u001b[0m\n\u001b[0m\u001b[1;32m    371\u001b[0m \u001b[0;34m\u001b[0m\u001b[0m\n\u001b[1;32m    372\u001b[0m         \u001b[0;32mreturn\u001b[0m \u001b[0mself\u001b[0m\u001b[0;34m.\u001b[0m\u001b[0m_construct_result\u001b[0m\u001b[0;34m(\u001b[0m\u001b[0mres_values\u001b[0m\u001b[0;34m,\u001b[0m \u001b[0mname\u001b[0m\u001b[0;34m=\u001b[0m\u001b[0mres_name\u001b[0m\u001b[0;34m)\u001b[0m\u001b[0;34m\u001b[0m\u001b[0;34m\u001b[0m\u001b[0m\n",
      "\u001b[0;32m/nfs/software/stegle/users/acuomo/conda-envs/struct-lmm2/lib/python3.8/site-packages/pandas/core/ops/array_ops.py\u001b[0m in \u001b[0;36mcomparison_op\u001b[0;34m(left, right, op)\u001b[0m\n\u001b[1;32m    242\u001b[0m \u001b[0;34m\u001b[0m\u001b[0m\n\u001b[1;32m    243\u001b[0m     \u001b[0;32melif\u001b[0m \u001b[0mis_object_dtype\u001b[0m\u001b[0;34m(\u001b[0m\u001b[0mlvalues\u001b[0m\u001b[0;34m.\u001b[0m\u001b[0mdtype\u001b[0m\u001b[0;34m)\u001b[0m\u001b[0;34m:\u001b[0m\u001b[0;34m\u001b[0m\u001b[0;34m\u001b[0m\u001b[0m\n\u001b[0;32m--> 244\u001b[0;31m         \u001b[0mres_values\u001b[0m \u001b[0;34m=\u001b[0m \u001b[0mcomp_method_OBJECT_ARRAY\u001b[0m\u001b[0;34m(\u001b[0m\u001b[0mop\u001b[0m\u001b[0;34m,\u001b[0m \u001b[0mlvalues\u001b[0m\u001b[0;34m,\u001b[0m \u001b[0mrvalues\u001b[0m\u001b[0;34m)\u001b[0m\u001b[0;34m\u001b[0m\u001b[0;34m\u001b[0m\u001b[0m\n\u001b[0m\u001b[1;32m    245\u001b[0m \u001b[0;34m\u001b[0m\u001b[0m\n\u001b[1;32m    246\u001b[0m     \u001b[0;32melse\u001b[0m\u001b[0;34m:\u001b[0m\u001b[0;34m\u001b[0m\u001b[0;34m\u001b[0m\u001b[0m\n",
      "\u001b[0;32m/nfs/software/stegle/users/acuomo/conda-envs/struct-lmm2/lib/python3.8/site-packages/pandas/core/ops/array_ops.py\u001b[0m in \u001b[0;36mcomp_method_OBJECT_ARRAY\u001b[0;34m(op, x, y)\u001b[0m\n\u001b[1;32m     54\u001b[0m         \u001b[0mresult\u001b[0m \u001b[0;34m=\u001b[0m \u001b[0mlibops\u001b[0m\u001b[0;34m.\u001b[0m\u001b[0mvec_compare\u001b[0m\u001b[0;34m(\u001b[0m\u001b[0mx\u001b[0m\u001b[0;34m.\u001b[0m\u001b[0mravel\u001b[0m\u001b[0;34m(\u001b[0m\u001b[0;34m)\u001b[0m\u001b[0;34m,\u001b[0m \u001b[0my\u001b[0m\u001b[0;34m.\u001b[0m\u001b[0mravel\u001b[0m\u001b[0;34m(\u001b[0m\u001b[0;34m)\u001b[0m\u001b[0;34m,\u001b[0m \u001b[0mop\u001b[0m\u001b[0;34m)\u001b[0m\u001b[0;34m\u001b[0m\u001b[0;34m\u001b[0m\u001b[0m\n\u001b[1;32m     55\u001b[0m     \u001b[0;32melse\u001b[0m\u001b[0;34m:\u001b[0m\u001b[0;34m\u001b[0m\u001b[0;34m\u001b[0m\u001b[0m\n\u001b[0;32m---> 56\u001b[0;31m         \u001b[0mresult\u001b[0m \u001b[0;34m=\u001b[0m \u001b[0mlibops\u001b[0m\u001b[0;34m.\u001b[0m\u001b[0mscalar_compare\u001b[0m\u001b[0;34m(\u001b[0m\u001b[0mx\u001b[0m\u001b[0;34m.\u001b[0m\u001b[0mravel\u001b[0m\u001b[0;34m(\u001b[0m\u001b[0;34m)\u001b[0m\u001b[0;34m,\u001b[0m \u001b[0my\u001b[0m\u001b[0;34m,\u001b[0m \u001b[0mop\u001b[0m\u001b[0;34m)\u001b[0m\u001b[0;34m\u001b[0m\u001b[0;34m\u001b[0m\u001b[0m\n\u001b[0m\u001b[1;32m     57\u001b[0m     \u001b[0;32mreturn\u001b[0m \u001b[0mresult\u001b[0m\u001b[0;34m.\u001b[0m\u001b[0mreshape\u001b[0m\u001b[0;34m(\u001b[0m\u001b[0mx\u001b[0m\u001b[0;34m.\u001b[0m\u001b[0mshape\u001b[0m\u001b[0;34m)\u001b[0m\u001b[0;34m\u001b[0m\u001b[0;34m\u001b[0m\u001b[0m\n\u001b[1;32m     58\u001b[0m \u001b[0;34m\u001b[0m\u001b[0m\n",
      "\u001b[0;31mKeyboardInterrupt\u001b[0m: "
     ]
    }
   ],
   "source": [
    "df3 = df0.copy()\n",
    "for gene in all_genes_Marc:\n",
    "    n = df3[df3[\"feature_id\"]==gene].shape[0]\n",
    "    df3[df3[\"feature_id\"]==gene]['pv_Bonf'] = min(1,df3[df3[\"feature_id\"]==gene]['p_value']*n)"
   ]
  },
  {
   "cell_type": "code",
   "execution_count": 22,
   "id": "915a146c",
   "metadata": {},
   "outputs": [
    {
     "data": {
      "text/html": [
       "<div>\n",
       "<style scoped>\n",
       "    .dataframe tbody tr th:only-of-type {\n",
       "        vertical-align: middle;\n",
       "    }\n",
       "\n",
       "    .dataframe tbody tr th {\n",
       "        vertical-align: top;\n",
       "    }\n",
       "\n",
       "    .dataframe thead th {\n",
       "        text-align: right;\n",
       "    }\n",
       "</style>\n",
       "<table border=\"1\" class=\"dataframe\">\n",
       "  <thead>\n",
       "    <tr style=\"text-align: right;\">\n",
       "      <th></th>\n",
       "      <th>Unnamed: 0</th>\n",
       "      <th>feature_id</th>\n",
       "      <th>snp_id</th>\n",
       "      <th>p_value</th>\n",
       "      <th>beta</th>\n",
       "      <th>beta_se</th>\n",
       "      <th>empirical_feature_p_value</th>\n",
       "      <th>feature_chromosome</th>\n",
       "      <th>feature_start</th>\n",
       "      <th>feature_end</th>\n",
       "      <th>...</th>\n",
       "      <th>alpha_param</th>\n",
       "      <th>beta_param</th>\n",
       "      <th>rho</th>\n",
       "      <th>snp_chromosome</th>\n",
       "      <th>snp_position</th>\n",
       "      <th>assessed_allele</th>\n",
       "      <th>call_rate</th>\n",
       "      <th>maf</th>\n",
       "      <th>hwe_p</th>\n",
       "      <th>eqtl</th>\n",
       "    </tr>\n",
       "  </thead>\n",
       "  <tbody>\n",
       "    <tr>\n",
       "      <th>0</th>\n",
       "      <td>1</td>\n",
       "      <td>ENSG00000221909</td>\n",
       "      <td>7_99141373_G_A</td>\n",
       "      <td>0.028874</td>\n",
       "      <td>0.055972</td>\n",
       "      <td>0.025613</td>\n",
       "      <td>0.463113</td>\n",
       "      <td>7</td>\n",
       "      <td>99143931</td>\n",
       "      <td>99156159</td>\n",
       "      <td>...</td>\n",
       "      <td>0.964815</td>\n",
       "      <td>20.152657</td>\n",
       "      <td>0.8</td>\n",
       "      <td>7</td>\n",
       "      <td>99141373</td>\n",
       "      <td>A</td>\n",
       "      <td>1</td>\n",
       "      <td>0.075758</td>\n",
       "      <td>0.436055</td>\n",
       "      <td>ENSG00000221909-7_99141373_G_A</td>\n",
       "    </tr>\n",
       "    <tr>\n",
       "      <th>1</th>\n",
       "      <td>7</td>\n",
       "      <td>ENSG00000221909</td>\n",
       "      <td>7_99046617_G_A</td>\n",
       "      <td>0.036647</td>\n",
       "      <td>0.051505</td>\n",
       "      <td>0.024647</td>\n",
       "      <td>0.545354</td>\n",
       "      <td>7</td>\n",
       "      <td>99143931</td>\n",
       "      <td>99156159</td>\n",
       "      <td>...</td>\n",
       "      <td>0.964815</td>\n",
       "      <td>20.152657</td>\n",
       "      <td>0.8</td>\n",
       "      <td>7</td>\n",
       "      <td>99046617</td>\n",
       "      <td>A</td>\n",
       "      <td>1</td>\n",
       "      <td>0.106061</td>\n",
       "      <td>0.593926</td>\n",
       "      <td>ENSG00000221909-7_99046617_G_A</td>\n",
       "    </tr>\n",
       "    <tr>\n",
       "      <th>2</th>\n",
       "      <td>8</td>\n",
       "      <td>ENSG00000221909</td>\n",
       "      <td>7_99053314_G_C</td>\n",
       "      <td>0.036647</td>\n",
       "      <td>0.051505</td>\n",
       "      <td>0.024647</td>\n",
       "      <td>0.545354</td>\n",
       "      <td>7</td>\n",
       "      <td>99143931</td>\n",
       "      <td>99156159</td>\n",
       "      <td>...</td>\n",
       "      <td>0.964815</td>\n",
       "      <td>20.152657</td>\n",
       "      <td>0.8</td>\n",
       "      <td>7</td>\n",
       "      <td>99053314</td>\n",
       "      <td>C</td>\n",
       "      <td>1</td>\n",
       "      <td>0.106061</td>\n",
       "      <td>0.593926</td>\n",
       "      <td>ENSG00000221909-7_99053314_G_C</td>\n",
       "    </tr>\n",
       "    <tr>\n",
       "      <th>3</th>\n",
       "      <td>9</td>\n",
       "      <td>ENSG00000221909</td>\n",
       "      <td>7_99053816_G_A</td>\n",
       "      <td>0.036647</td>\n",
       "      <td>0.051505</td>\n",
       "      <td>0.024647</td>\n",
       "      <td>0.545354</td>\n",
       "      <td>7</td>\n",
       "      <td>99143931</td>\n",
       "      <td>99156159</td>\n",
       "      <td>...</td>\n",
       "      <td>0.964815</td>\n",
       "      <td>20.152657</td>\n",
       "      <td>0.8</td>\n",
       "      <td>7</td>\n",
       "      <td>99053816</td>\n",
       "      <td>A</td>\n",
       "      <td>1</td>\n",
       "      <td>0.106061</td>\n",
       "      <td>0.593926</td>\n",
       "      <td>ENSG00000221909-7_99053816_G_A</td>\n",
       "    </tr>\n",
       "    <tr>\n",
       "      <th>4</th>\n",
       "      <td>10</td>\n",
       "      <td>ENSG00000221909</td>\n",
       "      <td>7_99070884_T_A</td>\n",
       "      <td>0.036647</td>\n",
       "      <td>0.051505</td>\n",
       "      <td>0.024647</td>\n",
       "      <td>0.545354</td>\n",
       "      <td>7</td>\n",
       "      <td>99143931</td>\n",
       "      <td>99156159</td>\n",
       "      <td>...</td>\n",
       "      <td>0.964815</td>\n",
       "      <td>20.152657</td>\n",
       "      <td>0.8</td>\n",
       "      <td>7</td>\n",
       "      <td>99070884</td>\n",
       "      <td>A</td>\n",
       "      <td>1</td>\n",
       "      <td>0.106061</td>\n",
       "      <td>0.593926</td>\n",
       "      <td>ENSG00000221909-7_99070884_T_A</td>\n",
       "    </tr>\n",
       "  </tbody>\n",
       "</table>\n",
       "<p>5 rows × 22 columns</p>\n",
       "</div>"
      ],
      "text/plain": [
       "   Unnamed: 0       feature_id          snp_id   p_value      beta   beta_se  \\\n",
       "0           1  ENSG00000221909  7_99141373_G_A  0.028874  0.055972  0.025613   \n",
       "1           7  ENSG00000221909  7_99046617_G_A  0.036647  0.051505  0.024647   \n",
       "2           8  ENSG00000221909  7_99053314_G_C  0.036647  0.051505  0.024647   \n",
       "3           9  ENSG00000221909  7_99053816_G_A  0.036647  0.051505  0.024647   \n",
       "4          10  ENSG00000221909  7_99070884_T_A  0.036647  0.051505  0.024647   \n",
       "\n",
       "   empirical_feature_p_value  feature_chromosome  feature_start  feature_end  \\\n",
       "0                   0.463113                   7       99143931     99156159   \n",
       "1                   0.545354                   7       99143931     99156159   \n",
       "2                   0.545354                   7       99143931     99156159   \n",
       "3                   0.545354                   7       99143931     99156159   \n",
       "4                   0.545354                   7       99143931     99156159   \n",
       "\n",
       "   ...  alpha_param  beta_param  rho  snp_chromosome  snp_position  \\\n",
       "0  ...     0.964815   20.152657  0.8               7      99141373   \n",
       "1  ...     0.964815   20.152657  0.8               7      99046617   \n",
       "2  ...     0.964815   20.152657  0.8               7      99053314   \n",
       "3  ...     0.964815   20.152657  0.8               7      99053816   \n",
       "4  ...     0.964815   20.152657  0.8               7      99070884   \n",
       "\n",
       "   assessed_allele  call_rate       maf     hwe_p  \\\n",
       "0                A          1  0.075758  0.436055   \n",
       "1                A          1  0.106061  0.593926   \n",
       "2                C          1  0.106061  0.593926   \n",
       "3                A          1  0.106061  0.593926   \n",
       "4                A          1  0.106061  0.593926   \n",
       "\n",
       "                             eqtl  \n",
       "0  ENSG00000221909-7_99141373_G_A  \n",
       "1  ENSG00000221909-7_99046617_G_A  \n",
       "2  ENSG00000221909-7_99053314_G_C  \n",
       "3  ENSG00000221909-7_99053816_G_A  \n",
       "4  ENSG00000221909-7_99070884_T_A  \n",
       "\n",
       "[5 rows x 22 columns]"
      ]
     },
     "execution_count": 22,
     "metadata": {},
     "output_type": "execute_result"
    }
   ],
   "source": [
    "df3.head()"
   ]
  },
  {
   "cell_type": "code",
   "execution_count": null,
   "id": "596284e7",
   "metadata": {},
   "outputs": [],
   "source": [
    "# loop over genes, correct using Bonferroni (Marc)\n",
    "df3 = data.frame()\n",
    "for (gene in common_genes){\n",
    "    df_gene = df2[df2$feature_id == gene,]\n",
    "    df_gene = df_gene[order(df_gene$snp_id),]\n",
    "    df_gene$pv_Bonf = min(1, df_gene$p_value * nrow(df_gene))\n",
    "    df3 = rbind(df3, df_gene)\n",
    "}"
   ]
  },
  {
   "cell_type": "code",
   "execution_count": null,
   "id": "36788b58",
   "metadata": {},
   "outputs": [],
   "source": [
    "nrow(df3)\n",
    "head(df3,2)"
   ]
  },
  {
   "cell_type": "code",
   "execution_count": 28,
   "id": "dec7d1c5",
   "metadata": {},
   "outputs": [
    {
     "data": {
      "text/html": [
       "'ENSG00000250462'"
      ],
      "text/latex": [
       "'ENSG00000250462'"
      ],
      "text/markdown": [
       "'ENSG00000250462'"
      ],
      "text/plain": [
       "[1] \"ENSG00000250462\""
      ]
     },
     "metadata": {},
     "output_type": "display_data"
    },
    {
     "data": {
      "text/html": [
       "315"
      ],
      "text/latex": [
       "315"
      ],
      "text/markdown": [
       "315"
      ],
      "text/plain": [
       "[1] 315"
      ]
     },
     "metadata": {},
     "output_type": "display_data"
    },
    {
     "data": {
      "text/html": [
       "<table>\n",
       "<thead><tr><th></th><th scope=col>feature_id</th><th scope=col>snp_id</th><th scope=col>p_value</th><th scope=col>beta</th><th scope=col>beta_se</th><th scope=col>empirical_feature_p_value</th><th scope=col>feature_chromosome</th><th scope=col>feature_start</th><th scope=col>feature_end</th><th scope=col>n_samples</th><th scope=col>...</th><th scope=col>beta_param</th><th scope=col>rho</th><th scope=col>snp_chromosome</th><th scope=col>snp_position</th><th scope=col>assessed_allele</th><th scope=col>call_rate</th><th scope=col>maf</th><th scope=col>hwe_p</th><th scope=col>eqtl</th><th scope=col>pv_Bonf</th></tr></thead>\n",
       "<tbody>\n",
       "\t<tr><th scope=row>5574540</th><td>ENSG00000250462                </td><td>17_28859432_G_A                </td><td>0.4639955                      </td><td> 0.03297456                    </td><td>0.04502954                     </td><td>1                              </td><td>17                             </td><td>28956698                       </td><td>28964482                       </td><td>27598                          </td><td>...                            </td><td>876.2291                       </td><td>0.9                            </td><td>17                             </td><td>28859432                       </td><td>A                              </td><td>1                              </td><td>0.06060606                     </td><td>1.00000000                     </td><td>ENSG00000250462-17_28859432_G_A</td><td>1                              </td></tr>\n",
       "\t<tr><th scope=row>5574208</th><td>ENSG00000250462                </td><td>17_28859670_C_A                </td><td>0.2317081                      </td><td> 0.03129845                    </td><td>0.02616958                     </td><td>1                              </td><td>17                             </td><td>28956698                       </td><td>28964482                       </td><td>27598                          </td><td>...                            </td><td>876.2291                       </td><td>0.9                            </td><td>17                             </td><td>28859670                       </td><td>A                              </td><td>1                              </td><td>0.28787879                     </td><td>0.05087881                     </td><td>ENSG00000250462-17_28859670_C_A</td><td>1                              </td></tr>\n",
       "\t<tr><th scope=row>5574541</th><td>ENSG00000250462                </td><td>17_28859809_C_T                </td><td>0.4639955                      </td><td> 0.03297456                    </td><td>0.04502954                     </td><td>1                              </td><td>17                             </td><td>28956698                       </td><td>28964482                       </td><td>27598                          </td><td>...                            </td><td>876.2291                       </td><td>0.9                            </td><td>17                             </td><td>28859809                       </td><td>T                              </td><td>1                              </td><td>0.06060606                     </td><td>1.00000000                     </td><td>ENSG00000250462-17_28859809_C_T</td><td>1                              </td></tr>\n",
       "\t<tr><th scope=row>5574502</th><td>ENSG00000250462                </td><td>17_28859954_C_T                </td><td>0.4454330                      </td><td>-0.01713104                    </td><td>0.02245059                     </td><td>1                              </td><td>17                             </td><td>28956698                       </td><td>28964482                       </td><td>27598                          </td><td>...                            </td><td>876.2291                       </td><td>0.9                            </td><td>17                             </td><td>28859954                       </td><td>T                              </td><td>1                              </td><td>0.46464646                     </td><td>0.42044341                     </td><td>ENSG00000250462-17_28859954_C_T</td><td>1                              </td></tr>\n",
       "\t<tr><th scope=row>5575106</th><td>ENSG00000250462                </td><td>17_28860333_T_C                </td><td>0.6704946                      </td><td>-0.01021265                    </td><td>0.02400323                     </td><td>1                              </td><td>17                             </td><td>28956698                       </td><td>28964482                       </td><td>27598                          </td><td>...                            </td><td>876.2291                       </td><td>0.9                            </td><td>17                             </td><td>28860333                       </td><td>C                              </td><td>1                              </td><td>0.47474747                     </td><td>0.04446272                     </td><td>ENSG00000250462-17_28860333_T_C</td><td>1                              </td></tr>\n",
       "\t<tr><th scope=row>5575127</th><td>ENSG00000250462                </td><td>17_28861134_A_G                </td><td>0.7214558                      </td><td>-0.01078809                    </td><td>0.03025993                     </td><td>1                              </td><td>17                             </td><td>28956698                       </td><td>28964482                       </td><td>27598                          </td><td>...                            </td><td>876.2291                       </td><td>0.9                            </td><td>17                             </td><td>28861134                       </td><td>G                              </td><td>1                              </td><td>0.16161616                     </td><td>0.45461132                     </td><td>ENSG00000250462-17_28861134_A_G</td><td>1                              </td></tr>\n",
       "</tbody>\n",
       "</table>\n"
      ],
      "text/latex": [
       "\\begin{tabular}{r|llllllllllllllllllllll}\n",
       "  & feature\\_id & snp\\_id & p\\_value & beta & beta\\_se & empirical\\_feature\\_p\\_value & feature\\_chromosome & feature\\_start & feature\\_end & n\\_samples & ... & beta\\_param & rho & snp\\_chromosome & snp\\_position & assessed\\_allele & call\\_rate & maf & hwe\\_p & eqtl & pv\\_Bonf\\\\\n",
       "\\hline\n",
       "\t5574540 & ENSG00000250462                       & 17\\_28859432\\_G\\_A                 & 0.4639955                             &  0.03297456                           & 0.04502954                            & 1                                     & 17                                    & 28956698                              & 28964482                              & 27598                                 & ...                                   & 876.2291                              & 0.9                                   & 17                                    & 28859432                              & A                                     & 1                                     & 0.06060606                            & 1.00000000                            & ENSG00000250462-17\\_28859432\\_G\\_A & 1                                    \\\\\n",
       "\t5574208 & ENSG00000250462                       & 17\\_28859670\\_C\\_A                 & 0.2317081                             &  0.03129845                           & 0.02616958                            & 1                                     & 17                                    & 28956698                              & 28964482                              & 27598                                 & ...                                   & 876.2291                              & 0.9                                   & 17                                    & 28859670                              & A                                     & 1                                     & 0.28787879                            & 0.05087881                            & ENSG00000250462-17\\_28859670\\_C\\_A & 1                                    \\\\\n",
       "\t5574541 & ENSG00000250462                       & 17\\_28859809\\_C\\_T                 & 0.4639955                             &  0.03297456                           & 0.04502954                            & 1                                     & 17                                    & 28956698                              & 28964482                              & 27598                                 & ...                                   & 876.2291                              & 0.9                                   & 17                                    & 28859809                              & T                                     & 1                                     & 0.06060606                            & 1.00000000                            & ENSG00000250462-17\\_28859809\\_C\\_T & 1                                    \\\\\n",
       "\t5574502 & ENSG00000250462                       & 17\\_28859954\\_C\\_T                 & 0.4454330                             & -0.01713104                           & 0.02245059                            & 1                                     & 17                                    & 28956698                              & 28964482                              & 27598                                 & ...                                   & 876.2291                              & 0.9                                   & 17                                    & 28859954                              & T                                     & 1                                     & 0.46464646                            & 0.42044341                            & ENSG00000250462-17\\_28859954\\_C\\_T & 1                                    \\\\\n",
       "\t5575106 & ENSG00000250462                       & 17\\_28860333\\_T\\_C                 & 0.6704946                             & -0.01021265                           & 0.02400323                            & 1                                     & 17                                    & 28956698                              & 28964482                              & 27598                                 & ...                                   & 876.2291                              & 0.9                                   & 17                                    & 28860333                              & C                                     & 1                                     & 0.47474747                            & 0.04446272                            & ENSG00000250462-17\\_28860333\\_T\\_C & 1                                    \\\\\n",
       "\t5575127 & ENSG00000250462                       & 17\\_28861134\\_A\\_G                 & 0.7214558                             & -0.01078809                           & 0.03025993                            & 1                                     & 17                                    & 28956698                              & 28964482                              & 27598                                 & ...                                   & 876.2291                              & 0.9                                   & 17                                    & 28861134                              & G                                     & 1                                     & 0.16161616                            & 0.45461132                            & ENSG00000250462-17\\_28861134\\_A\\_G & 1                                    \\\\\n",
       "\\end{tabular}\n"
      ],
      "text/markdown": [
       "\n",
       "| <!--/--> | feature_id | snp_id | p_value | beta | beta_se | empirical_feature_p_value | feature_chromosome | feature_start | feature_end | n_samples | ... | beta_param | rho | snp_chromosome | snp_position | assessed_allele | call_rate | maf | hwe_p | eqtl | pv_Bonf |\n",
       "|---|---|---|---|---|---|---|---|---|---|---|---|---|---|---|---|---|---|---|---|---|---|\n",
       "| 5574540 | ENSG00000250462                 | 17_28859432_G_A                 | 0.4639955                       |  0.03297456                     | 0.04502954                      | 1                               | 17                              | 28956698                        | 28964482                        | 27598                           | ...                             | 876.2291                        | 0.9                             | 17                              | 28859432                        | A                               | 1                               | 0.06060606                      | 1.00000000                      | ENSG00000250462-17_28859432_G_A | 1                               |\n",
       "| 5574208 | ENSG00000250462                 | 17_28859670_C_A                 | 0.2317081                       |  0.03129845                     | 0.02616958                      | 1                               | 17                              | 28956698                        | 28964482                        | 27598                           | ...                             | 876.2291                        | 0.9                             | 17                              | 28859670                        | A                               | 1                               | 0.28787879                      | 0.05087881                      | ENSG00000250462-17_28859670_C_A | 1                               |\n",
       "| 5574541 | ENSG00000250462                 | 17_28859809_C_T                 | 0.4639955                       |  0.03297456                     | 0.04502954                      | 1                               | 17                              | 28956698                        | 28964482                        | 27598                           | ...                             | 876.2291                        | 0.9                             | 17                              | 28859809                        | T                               | 1                               | 0.06060606                      | 1.00000000                      | ENSG00000250462-17_28859809_C_T | 1                               |\n",
       "| 5574502 | ENSG00000250462                 | 17_28859954_C_T                 | 0.4454330                       | -0.01713104                     | 0.02245059                      | 1                               | 17                              | 28956698                        | 28964482                        | 27598                           | ...                             | 876.2291                        | 0.9                             | 17                              | 28859954                        | T                               | 1                               | 0.46464646                      | 0.42044341                      | ENSG00000250462-17_28859954_C_T | 1                               |\n",
       "| 5575106 | ENSG00000250462                 | 17_28860333_T_C                 | 0.6704946                       | -0.01021265                     | 0.02400323                      | 1                               | 17                              | 28956698                        | 28964482                        | 27598                           | ...                             | 876.2291                        | 0.9                             | 17                              | 28860333                        | C                               | 1                               | 0.47474747                      | 0.04446272                      | ENSG00000250462-17_28860333_T_C | 1                               |\n",
       "| 5575127 | ENSG00000250462                 | 17_28861134_A_G                 | 0.7214558                       | -0.01078809                     | 0.03025993                      | 1                               | 17                              | 28956698                        | 28964482                        | 27598                           | ...                             | 876.2291                        | 0.9                             | 17                              | 28861134                        | G                               | 1                               | 0.16161616                      | 0.45461132                      | ENSG00000250462-17_28861134_A_G | 1                               |\n",
       "\n"
      ],
      "text/plain": [
       "        feature_id      snp_id          p_value   beta        beta_se   \n",
       "5574540 ENSG00000250462 17_28859432_G_A 0.4639955  0.03297456 0.04502954\n",
       "5574208 ENSG00000250462 17_28859670_C_A 0.2317081  0.03129845 0.02616958\n",
       "5574541 ENSG00000250462 17_28859809_C_T 0.4639955  0.03297456 0.04502954\n",
       "5574502 ENSG00000250462 17_28859954_C_T 0.4454330 -0.01713104 0.02245059\n",
       "5575106 ENSG00000250462 17_28860333_T_C 0.6704946 -0.01021265 0.02400323\n",
       "5575127 ENSG00000250462 17_28861134_A_G 0.7214558 -0.01078809 0.03025993\n",
       "        empirical_feature_p_value feature_chromosome feature_start feature_end\n",
       "5574540 1                         17                 28956698      28964482   \n",
       "5574208 1                         17                 28956698      28964482   \n",
       "5574541 1                         17                 28956698      28964482   \n",
       "5574502 1                         17                 28956698      28964482   \n",
       "5575106 1                         17                 28956698      28964482   \n",
       "5575127 1                         17                 28956698      28964482   \n",
       "        n_samples ... beta_param rho snp_chromosome snp_position\n",
       "5574540 27598     ... 876.2291   0.9 17             28859432    \n",
       "5574208 27598     ... 876.2291   0.9 17             28859670    \n",
       "5574541 27598     ... 876.2291   0.9 17             28859809    \n",
       "5574502 27598     ... 876.2291   0.9 17             28859954    \n",
       "5575106 27598     ... 876.2291   0.9 17             28860333    \n",
       "5575127 27598     ... 876.2291   0.9 17             28861134    \n",
       "        assessed_allele call_rate maf        hwe_p     \n",
       "5574540 A               1         0.06060606 1.00000000\n",
       "5574208 A               1         0.28787879 0.05087881\n",
       "5574541 T               1         0.06060606 1.00000000\n",
       "5574502 T               1         0.46464646 0.42044341\n",
       "5575106 C               1         0.47474747 0.04446272\n",
       "5575127 G               1         0.16161616 0.45461132\n",
       "        eqtl                            pv_Bonf\n",
       "5574540 ENSG00000250462-17_28859432_G_A 1      \n",
       "5574208 ENSG00000250462-17_28859670_C_A 1      \n",
       "5574541 ENSG00000250462-17_28859809_C_T 1      \n",
       "5574502 ENSG00000250462-17_28859954_C_T 1      \n",
       "5575106 ENSG00000250462-17_28860333_T_C 1      \n",
       "5575127 ENSG00000250462-17_28861134_A_G 1      "
      ]
     },
     "metadata": {},
     "output_type": "display_data"
    }
   ],
   "source": [
    "# gene = common_genes[1]\n",
    "# gene\n",
    "# df_gene = df2[df2$feature_id == gene,]\n",
    "# df_gene = df_gene[order(df_gene$snp_id),]\n",
    "# df_gene$pv_Bonf = min(1, df_gene$p_value * nrow(df_gene))\n",
    "# nrow(df_gene)\n",
    "# head(df_gene)"
   ]
  },
  {
   "cell_type": "code",
   "execution_count": null,
   "id": "aa02b0c0",
   "metadata": {},
   "outputs": [],
   "source": [
    "# loop over genes, correct using Bonferroni (Anna)\n",
    "crm3 = data.frame()\n",
    "for (gene in common_genes){\n",
    "    df_gene = crm2[crm2$gene == gene,]\n",
    "    df_gene = df_gene[order(df_gene$snpID),]\n",
    "    df_gene$pv_Bonf = min(1, df_gene$pv_raw * nrow(df_gene))\n",
    "    crm3 = rbind(crm3, df_gene)\n",
    "}"
   ]
  },
  {
   "cell_type": "code",
   "execution_count": null,
   "id": "f3b2f24b",
   "metadata": {},
   "outputs": [],
   "source": [
    "nrow(crm3)\n",
    "head(crm3,2)"
   ]
  },
  {
   "cell_type": "code",
   "execution_count": 29,
   "id": "fd3171ff",
   "metadata": {},
   "outputs": [
    {
     "data": {
      "text/html": [
       "'ENSG00000250462'"
      ],
      "text/latex": [
       "'ENSG00000250462'"
      ],
      "text/markdown": [
       "'ENSG00000250462'"
      ],
      "text/plain": [
       "[1] \"ENSG00000250462\""
      ]
     },
     "metadata": {},
     "output_type": "display_data"
    },
    {
     "data": {
      "text/html": [
       "315"
      ],
      "text/latex": [
       "315"
      ],
      "text/markdown": [
       "315"
      ],
      "text/plain": [
       "[1] 315"
      ]
     },
     "metadata": {},
     "output_type": "display_data"
    },
    {
     "data": {
      "text/html": [
       "<table>\n",
       "<thead><tr><th></th><th scope=col>gene</th><th scope=col>n_snps</th><th scope=col>chrom</th><th scope=col>pv_raw</th><th scope=col>snpID</th><th scope=col>pv</th><th scope=col>eqtl</th><th scope=col>pv_Bonf</th></tr></thead>\n",
       "<tbody>\n",
       "\t<tr><th scope=row>3</th><td>ENSG00000250462                </td><td>909                            </td><td>17                             </td><td>0.3010359                      </td><td>17_28859432_G_A                </td><td>1                              </td><td>ENSG00000250462-17_28859432_G_A</td><td>1                              </td></tr>\n",
       "\t<tr><th scope=row>5</th><td>ENSG00000250462                </td><td>909                            </td><td>17                             </td><td>0.1958365                      </td><td>17_28859670_C_A                </td><td>1                              </td><td>ENSG00000250462-17_28859670_C_A</td><td>1                              </td></tr>\n",
       "\t<tr><th scope=row>7</th><td>ENSG00000250462                </td><td>909                            </td><td>17                             </td><td>0.3010359                      </td><td>17_28859809_C_T                </td><td>1                              </td><td>ENSG00000250462-17_28859809_C_T</td><td>1                              </td></tr>\n",
       "\t<tr><th scope=row>8</th><td>ENSG00000250462                </td><td>909                            </td><td>17                             </td><td>0.5887707                      </td><td>17_28859954_C_T                </td><td>1                              </td><td>ENSG00000250462-17_28859954_C_T</td><td>1                              </td></tr>\n",
       "\t<tr><th scope=row>10</th><td>ENSG00000250462                </td><td>909                            </td><td>17                             </td><td>0.9747966                      </td><td>17_28860333_T_C                </td><td>1                              </td><td>ENSG00000250462-17_28860333_T_C</td><td>1                              </td></tr>\n",
       "\t<tr><th scope=row>12</th><td>ENSG00000250462                </td><td>909                            </td><td>17                             </td><td>0.7584255                      </td><td>17_28861134_A_G                </td><td>1                              </td><td>ENSG00000250462-17_28861134_A_G</td><td>1                              </td></tr>\n",
       "</tbody>\n",
       "</table>\n"
      ],
      "text/latex": [
       "\\begin{tabular}{r|llllllll}\n",
       "  & gene & n\\_snps & chrom & pv\\_raw & snpID & pv & eqtl & pv\\_Bonf\\\\\n",
       "\\hline\n",
       "\t3 & ENSG00000250462                       & 909                                   & 17                                    & 0.3010359                             & 17\\_28859432\\_G\\_A                 & 1                                     & ENSG00000250462-17\\_28859432\\_G\\_A & 1                                    \\\\\n",
       "\t5 & ENSG00000250462                       & 909                                   & 17                                    & 0.1958365                             & 17\\_28859670\\_C\\_A                 & 1                                     & ENSG00000250462-17\\_28859670\\_C\\_A & 1                                    \\\\\n",
       "\t7 & ENSG00000250462                       & 909                                   & 17                                    & 0.3010359                             & 17\\_28859809\\_C\\_T                 & 1                                     & ENSG00000250462-17\\_28859809\\_C\\_T & 1                                    \\\\\n",
       "\t8 & ENSG00000250462                       & 909                                   & 17                                    & 0.5887707                             & 17\\_28859954\\_C\\_T                 & 1                                     & ENSG00000250462-17\\_28859954\\_C\\_T & 1                                    \\\\\n",
       "\t10 & ENSG00000250462                       & 909                                   & 17                                    & 0.9747966                             & 17\\_28860333\\_T\\_C                 & 1                                     & ENSG00000250462-17\\_28860333\\_T\\_C & 1                                    \\\\\n",
       "\t12 & ENSG00000250462                       & 909                                   & 17                                    & 0.7584255                             & 17\\_28861134\\_A\\_G                 & 1                                     & ENSG00000250462-17\\_28861134\\_A\\_G & 1                                    \\\\\n",
       "\\end{tabular}\n"
      ],
      "text/markdown": [
       "\n",
       "| <!--/--> | gene | n_snps | chrom | pv_raw | snpID | pv | eqtl | pv_Bonf |\n",
       "|---|---|---|---|---|---|---|---|---|\n",
       "| 3 | ENSG00000250462                 | 909                             | 17                              | 0.3010359                       | 17_28859432_G_A                 | 1                               | ENSG00000250462-17_28859432_G_A | 1                               |\n",
       "| 5 | ENSG00000250462                 | 909                             | 17                              | 0.1958365                       | 17_28859670_C_A                 | 1                               | ENSG00000250462-17_28859670_C_A | 1                               |\n",
       "| 7 | ENSG00000250462                 | 909                             | 17                              | 0.3010359                       | 17_28859809_C_T                 | 1                               | ENSG00000250462-17_28859809_C_T | 1                               |\n",
       "| 8 | ENSG00000250462                 | 909                             | 17                              | 0.5887707                       | 17_28859954_C_T                 | 1                               | ENSG00000250462-17_28859954_C_T | 1                               |\n",
       "| 10 | ENSG00000250462                 | 909                             | 17                              | 0.9747966                       | 17_28860333_T_C                 | 1                               | ENSG00000250462-17_28860333_T_C | 1                               |\n",
       "| 12 | ENSG00000250462                 | 909                             | 17                              | 0.7584255                       | 17_28861134_A_G                 | 1                               | ENSG00000250462-17_28861134_A_G | 1                               |\n",
       "\n"
      ],
      "text/plain": [
       "   gene            n_snps chrom pv_raw    snpID           pv\n",
       "3  ENSG00000250462 909    17    0.3010359 17_28859432_G_A 1 \n",
       "5  ENSG00000250462 909    17    0.1958365 17_28859670_C_A 1 \n",
       "7  ENSG00000250462 909    17    0.3010359 17_28859809_C_T 1 \n",
       "8  ENSG00000250462 909    17    0.5887707 17_28859954_C_T 1 \n",
       "10 ENSG00000250462 909    17    0.9747966 17_28860333_T_C 1 \n",
       "12 ENSG00000250462 909    17    0.7584255 17_28861134_A_G 1 \n",
       "   eqtl                            pv_Bonf\n",
       "3  ENSG00000250462-17_28859432_G_A 1      \n",
       "5  ENSG00000250462-17_28859670_C_A 1      \n",
       "7  ENSG00000250462-17_28859809_C_T 1      \n",
       "8  ENSG00000250462-17_28859954_C_T 1      \n",
       "10 ENSG00000250462-17_28860333_T_C 1      \n",
       "12 ENSG00000250462-17_28861134_A_G 1      "
      ]
     },
     "metadata": {},
     "output_type": "display_data"
    }
   ],
   "source": [
    "# gene = common_genes[1]\n",
    "# gene\n",
    "# df_gene = crm2[crm2$gene == gene,]\n",
    "# df_gene = df_gene[order(df_gene$snpID),]\n",
    "# df_gene$pv_Bonf = min(1, df_gene$pv_raw * nrow(df_gene))\n",
    "# nrow(df_gene)\n",
    "# head(df_gene)"
   ]
  },
  {
   "cell_type": "code",
   "execution_count": null,
   "id": "a0ecf5ed",
   "metadata": {},
   "outputs": [],
   "source": [
    "### step2: Storey across genes (FDR)"
   ]
  },
  {
   "cell_type": "code",
   "execution_count": null,
   "id": "e6c356e7",
   "metadata": {},
   "outputs": [],
   "source": [
    "# select top SNP per gene by\n",
    "# 1) ordering by p-value\n",
    "df4 = df3[order(df3$p_value, df3$pv_Bonf),]\n",
    "# 2) select only first row per gene (SNP with min p-value)\n",
    "df4 = df4[-which(duplicated(df4$feature_id)),]\n",
    "nrow(df3)\n",
    "nrow(df4)"
   ]
  },
  {
   "cell_type": "code",
   "execution_count": null,
   "id": "1e1e07fd",
   "metadata": {},
   "outputs": [],
   "source": [
    "# get q values using Storey (from Bonferroni corrected p-values)\n",
    "df4$qv = qvalue(df4$pv_Bonf)$qvalues"
   ]
  },
  {
   "cell_type": "code",
   "execution_count": null,
   "id": "aeb6190c",
   "metadata": {},
   "outputs": [],
   "source": [
    "T = 0.1 # set threshold, e.g. 10%\n",
    "nrow(df4[df4$qv < T,])"
   ]
  },
  {
   "cell_type": "code",
   "execution_count": null,
   "id": "87438c6c",
   "metadata": {},
   "outputs": [],
   "source": [
    "length(unique(df4$feature_id))\n",
    "length(unique(df4[df4$qv < T,\"feature_id\"]))"
   ]
  }
 ],
 "metadata": {
  "kernelspec": {
   "display_name": "Python (struct-lmm2)",
   "language": "python",
   "name": "struct-lmm2"
  }
 },
 "nbformat": 4,
 "nbformat_minor": 5
}
