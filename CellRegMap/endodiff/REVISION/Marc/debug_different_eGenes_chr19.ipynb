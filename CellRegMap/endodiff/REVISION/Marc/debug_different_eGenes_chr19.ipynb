{
 "cells": [
  {
   "cell_type": "code",
   "execution_count": 24,
   "id": "d3bf38e4",
   "metadata": {},
   "outputs": [],
   "source": [
    "library(qvalue)\n",
    "library(ggplot2)\n",
    "library(dplyr)\n",
    "library(cowplot)"
   ]
  },
  {
   "cell_type": "code",
   "execution_count": 2,
   "id": "b67afa86",
   "metadata": {},
   "outputs": [],
   "source": [
    "revision_folder = \"/hps/nobackup/stegle/users/acuomo/all_scripts/struct_LMM2/sc_endodiff/debug_May2021/REVISION/\""
   ]
  },
  {
   "cell_type": "code",
   "execution_count": 49,
   "id": "5b83e6b1",
   "metadata": {},
   "outputs": [],
   "source": [
    "std_folder = paste0(revision_folder,\"limix_qtl_pipeline_Gtest/Gtest_10MOFA/results_mj/TestOutChr19_Std/\")"
   ]
  },
  {
   "cell_type": "code",
   "execution_count": 50,
   "id": "a10fe44d",
   "metadata": {},
   "outputs": [
    {
     "data": {
      "text/html": [
       "894"
      ],
      "text/latex": [
       "894"
      ],
      "text/markdown": [
       "894"
      ],
      "text/plain": [
       "[1] 894"
      ]
     },
     "metadata": {},
     "output_type": "display_data"
    },
    {
     "data": {
      "text/html": [
       "<table>\n",
       "<thead><tr><th scope=col>snp_id</th><th scope=col>p_value</th><th scope=col>beta</th><th scope=col>beta_se</th><th scope=col>empirical_feature_p_value</th><th scope=col>feature_chromosome</th><th scope=col>feature_start</th><th scope=col>feature_end</th><th scope=col>n_samples</th><th scope=col>n_e_samples</th><th scope=col>alpha_param</th><th scope=col>beta_param</th><th scope=col>rho</th><th scope=col>snp_chromosome</th><th scope=col>snp_position</th><th scope=col>assessed_allele</th><th scope=col>call_rate</th><th scope=col>maf</th><th scope=col>hwe_p</th><th scope=col>feature_id</th></tr></thead>\n",
       "<tbody>\n",
       "\t<tr><td>19_58142436_T_C</td><td>0.0081413827   </td><td>-0.0649779     </td><td>0.02455408     </td><td>0.9214486787   </td><td>19             </td><td>58082934       </td><td>58090295       </td><td>27598          </td><td>99             </td><td>1.365833       </td><td>388.6255       </td><td>0.7            </td><td>19             </td><td>58142436       </td><td>C              </td><td>1              </td><td>0.1363636      </td><td>0.6878423      </td><td>ENSG00000083817</td></tr>\n",
       "\t<tr><td>19_58011006_C_T</td><td>0.0001527829   </td><td>-0.0551530     </td><td>0.01456379     </td><td>0.0002590229   </td><td>19             </td><td>57999079       </td><td>58006048       </td><td>27598          </td><td>99             </td><td>1.931094       </td><td>126.3703       </td><td>0.8            </td><td>19             </td><td>58011006       </td><td>T              </td><td>1              </td><td>0.4696970      </td><td>0.8408932      </td><td>ENSG00000105136</td></tr>\n",
       "</tbody>\n",
       "</table>\n"
      ],
      "text/latex": [
       "\\begin{tabular}{r|llllllllllllllllllll}\n",
       " snp\\_id & p\\_value & beta & beta\\_se & empirical\\_feature\\_p\\_value & feature\\_chromosome & feature\\_start & feature\\_end & n\\_samples & n\\_e\\_samples & alpha\\_param & beta\\_param & rho & snp\\_chromosome & snp\\_position & assessed\\_allele & call\\_rate & maf & hwe\\_p & feature\\_id\\\\\n",
       "\\hline\n",
       "\t 19\\_58142436\\_T\\_C & 0.0081413827          & -0.0649779            & 0.02455408            & 0.9214486787          & 19                    & 58082934              & 58090295              & 27598                 & 99                    & 1.365833              & 388.6255              & 0.7                   & 19                    & 58142436              & C                     & 1                     & 0.1363636             & 0.6878423             & ENSG00000083817      \\\\\n",
       "\t 19\\_58011006\\_C\\_T & 0.0001527829          & -0.0551530            & 0.01456379            & 0.0002590229          & 19                    & 57999079              & 58006048              & 27598                 & 99                    & 1.931094              & 126.3703              & 0.8                   & 19                    & 58011006              & T                     & 1                     & 0.4696970             & 0.8408932             & ENSG00000105136      \\\\\n",
       "\\end{tabular}\n"
      ],
      "text/markdown": [
       "\n",
       "| snp_id | p_value | beta | beta_se | empirical_feature_p_value | feature_chromosome | feature_start | feature_end | n_samples | n_e_samples | alpha_param | beta_param | rho | snp_chromosome | snp_position | assessed_allele | call_rate | maf | hwe_p | feature_id |\n",
       "|---|---|---|---|---|---|---|---|---|---|---|---|---|---|---|---|---|---|---|---|\n",
       "| 19_58142436_T_C | 0.0081413827    | -0.0649779      | 0.02455408      | 0.9214486787    | 19              | 58082934        | 58090295        | 27598           | 99              | 1.365833        | 388.6255        | 0.7             | 19              | 58142436        | C               | 1               | 0.1363636       | 0.6878423       | ENSG00000083817 |\n",
       "| 19_58011006_C_T | 0.0001527829    | -0.0551530      | 0.01456379      | 0.0002590229    | 19              | 57999079        | 58006048        | 27598           | 99              | 1.931094        | 126.3703        | 0.8             | 19              | 58011006        | T               | 1               | 0.4696970       | 0.8408932       | ENSG00000105136 |\n",
       "\n"
      ],
      "text/plain": [
       "  snp_id          p_value      beta       beta_se    empirical_feature_p_value\n",
       "1 19_58142436_T_C 0.0081413827 -0.0649779 0.02455408 0.9214486787             \n",
       "2 19_58011006_C_T 0.0001527829 -0.0551530 0.01456379 0.0002590229             \n",
       "  feature_chromosome feature_start feature_end n_samples n_e_samples\n",
       "1 19                 58082934      58090295    27598     99         \n",
       "2 19                 57999079      58006048    27598     99         \n",
       "  alpha_param beta_param rho snp_chromosome snp_position assessed_allele\n",
       "1 1.365833    388.6255   0.7 19             58142436     C              \n",
       "2 1.931094    126.3703   0.8 19             58011006     T              \n",
       "  call_rate maf       hwe_p     feature_id     \n",
       "1 1         0.1363636 0.6878423 ENSG00000083817\n",
       "2 1         0.4696970 0.8408932 ENSG00000105136"
      ]
     },
     "metadata": {},
     "output_type": "display_data"
    }
   ],
   "source": [
    "leads_filename = paste0(std_folder,\"top_qtl_results_all.txt\")\n",
    "df0 = read.csv(leads_filename, sep=\"\\t\")\n",
    "nrow(df0)\n",
    "head(df0,2)"
   ]
  },
  {
   "cell_type": "code",
   "execution_count": 51,
   "id": "5a4b8f46",
   "metadata": {},
   "outputs": [],
   "source": [
    "df0$q_value = qvalue(df0$empirical_feature_p_value)$qvalues"
   ]
  },
  {
   "cell_type": "code",
   "execution_count": 52,
   "id": "73190221",
   "metadata": {},
   "outputs": [],
   "source": [
    "genes0 = unique(as.character(df0[df0$q_value < 0.1,\"feature_id\"]))"
   ]
  },
  {
   "cell_type": "code",
   "execution_count": 3,
   "id": "c2e48ce3",
   "metadata": {},
   "outputs": [],
   "source": [
    "gauss_folder = paste0(revision_folder,\"limix_qtl_pipeline_Gtest/Gtest_10MOFA/results_mj/TestOutChr19_Gauss/\")"
   ]
  },
  {
   "cell_type": "code",
   "execution_count": 4,
   "id": "dbb306a6",
   "metadata": {},
   "outputs": [
    {
     "data": {
      "text/html": [
       "894"
      ],
      "text/latex": [
       "894"
      ],
      "text/markdown": [
       "894"
      ],
      "text/plain": [
       "[1] 894"
      ]
     },
     "metadata": {},
     "output_type": "display_data"
    },
    {
     "data": {
      "text/html": [
       "<table>\n",
       "<thead><tr><th scope=col>snp_id</th><th scope=col>p_value</th><th scope=col>beta</th><th scope=col>beta_se</th><th scope=col>empirical_feature_p_value</th><th scope=col>feature_chromosome</th><th scope=col>feature_start</th><th scope=col>feature_end</th><th scope=col>n_samples</th><th scope=col>n_e_samples</th><th scope=col>alpha_param</th><th scope=col>beta_param</th><th scope=col>rho</th><th scope=col>snp_chromosome</th><th scope=col>snp_position</th><th scope=col>assessed_allele</th><th scope=col>call_rate</th><th scope=col>maf</th><th scope=col>hwe_p</th><th scope=col>feature_id</th></tr></thead>\n",
       "<tbody>\n",
       "\t<tr><td>19_57703077_T_G</td><td>7.682972e-06   </td><td>-0.08074288    </td><td>0.01804454     </td><td>4.813915e-09   </td><td>19             </td><td>57702868       </td><td>57724724       </td><td>27598          </td><td>99             </td><td>2.369113       </td><td>  62.11524     </td><td>0.8            </td><td>19             </td><td>57703077       </td><td>G              </td><td>1              </td><td>0.4141414      </td><td>1.0000000      </td><td>ENSG00000083844</td></tr>\n",
       "\t<tr><td>19_53813914_G_A</td><td>5.022754e-05   </td><td>-0.13196793    </td><td>0.03254313     </td><td>1.804120e-01   </td><td>19             </td><td>53662466       </td><td>53696639       </td><td>27598          </td><td>99             </td><td>1.156792       </td><td>5471.45482     </td><td>0.9            </td><td>19             </td><td>53813914       </td><td>A              </td><td>1              </td><td>0.4343434      </td><td>0.3134153      </td><td>ENSG00000197497</td></tr>\n",
       "</tbody>\n",
       "</table>\n"
      ],
      "text/latex": [
       "\\begin{tabular}{r|llllllllllllllllllll}\n",
       " snp\\_id & p\\_value & beta & beta\\_se & empirical\\_feature\\_p\\_value & feature\\_chromosome & feature\\_start & feature\\_end & n\\_samples & n\\_e\\_samples & alpha\\_param & beta\\_param & rho & snp\\_chromosome & snp\\_position & assessed\\_allele & call\\_rate & maf & hwe\\_p & feature\\_id\\\\\n",
       "\\hline\n",
       "\t 19\\_57703077\\_T\\_G & 7.682972e-06          & -0.08074288           & 0.01804454            & 4.813915e-09          & 19                    & 57702868              & 57724724              & 27598                 & 99                    & 2.369113              &   62.11524            & 0.8                   & 19                    & 57703077              & G                     & 1                     & 0.4141414             & 1.0000000             & ENSG00000083844      \\\\\n",
       "\t 19\\_53813914\\_G\\_A & 5.022754e-05          & -0.13196793           & 0.03254313            & 1.804120e-01          & 19                    & 53662466              & 53696639              & 27598                 & 99                    & 1.156792              & 5471.45482            & 0.9                   & 19                    & 53813914              & A                     & 1                     & 0.4343434             & 0.3134153             & ENSG00000197497      \\\\\n",
       "\\end{tabular}\n"
      ],
      "text/markdown": [
       "\n",
       "| snp_id | p_value | beta | beta_se | empirical_feature_p_value | feature_chromosome | feature_start | feature_end | n_samples | n_e_samples | alpha_param | beta_param | rho | snp_chromosome | snp_position | assessed_allele | call_rate | maf | hwe_p | feature_id |\n",
       "|---|---|---|---|---|---|---|---|---|---|---|---|---|---|---|---|---|---|---|---|\n",
       "| 19_57703077_T_G | 7.682972e-06    | -0.08074288     | 0.01804454      | 4.813915e-09    | 19              | 57702868        | 57724724        | 27598           | 99              | 2.369113        |   62.11524      | 0.8             | 19              | 57703077        | G               | 1               | 0.4141414       | 1.0000000       | ENSG00000083844 |\n",
       "| 19_53813914_G_A | 5.022754e-05    | -0.13196793     | 0.03254313      | 1.804120e-01    | 19              | 53662466        | 53696639        | 27598           | 99              | 1.156792        | 5471.45482      | 0.9             | 19              | 53813914        | A               | 1               | 0.4343434       | 0.3134153       | ENSG00000197497 |\n",
       "\n"
      ],
      "text/plain": [
       "  snp_id          p_value      beta        beta_se    empirical_feature_p_value\n",
       "1 19_57703077_T_G 7.682972e-06 -0.08074288 0.01804454 4.813915e-09             \n",
       "2 19_53813914_G_A 5.022754e-05 -0.13196793 0.03254313 1.804120e-01             \n",
       "  feature_chromosome feature_start feature_end n_samples n_e_samples\n",
       "1 19                 57702868      57724724    27598     99         \n",
       "2 19                 53662466      53696639    27598     99         \n",
       "  alpha_param beta_param rho snp_chromosome snp_position assessed_allele\n",
       "1 2.369113      62.11524 0.8 19             57703077     G              \n",
       "2 1.156792    5471.45482 0.9 19             53813914     A              \n",
       "  call_rate maf       hwe_p     feature_id     \n",
       "1 1         0.4141414 1.0000000 ENSG00000083844\n",
       "2 1         0.4343434 0.3134153 ENSG00000197497"
      ]
     },
     "metadata": {},
     "output_type": "display_data"
    }
   ],
   "source": [
    "# leads\n",
    "leads_filename = paste0(gauss_folder,\"top_qtl_results_all.txt\")\n",
    "df = read.csv(leads_filename, sep=\"\\t\")\n",
    "nrow(df)\n",
    "head(df,2)"
   ]
  },
  {
   "cell_type": "code",
   "execution_count": 5,
   "id": "3cb8bf9b",
   "metadata": {},
   "outputs": [],
   "source": [
    "df$q_value = qvalue(df$empirical_feature_p_value)$qvalues"
   ]
  },
  {
   "cell_type": "code",
   "execution_count": 6,
   "id": "2921369a",
   "metadata": {},
   "outputs": [
    {
     "data": {
      "text/html": [
       "249"
      ],
      "text/latex": [
       "249"
      ],
      "text/markdown": [
       "249"
      ],
      "text/plain": [
       "[1] 249"
      ]
     },
     "metadata": {},
     "output_type": "display_data"
    }
   ],
   "source": [
    "nrow(df[df$q_value < 0.1,])"
   ]
  },
  {
   "cell_type": "code",
   "execution_count": 7,
   "id": "907208ff",
   "metadata": {},
   "outputs": [],
   "source": [
    "genes = unique(as.character(df[df$q_value < 0.1,\"feature_id\"]))"
   ]
  },
  {
   "cell_type": "code",
   "execution_count": 8,
   "id": "125c7e8b",
   "metadata": {},
   "outputs": [
    {
     "data": {
      "text/html": [
       "<ol class=list-inline>\n",
       "\t<li>'ENSG00000083844'</li>\n",
       "\t<li>'ENSG00000105707'</li>\n",
       "\t<li>'ENSG00000142530'</li>\n",
       "\t<li>'ENSG00000161671'</li>\n",
       "\t<li>'ENSG00000161677'</li>\n",
       "\t<li>'ENSG00000213023'</li>\n",
       "</ol>\n"
      ],
      "text/latex": [
       "\\begin{enumerate*}\n",
       "\\item 'ENSG00000083844'\n",
       "\\item 'ENSG00000105707'\n",
       "\\item 'ENSG00000142530'\n",
       "\\item 'ENSG00000161671'\n",
       "\\item 'ENSG00000161677'\n",
       "\\item 'ENSG00000213023'\n",
       "\\end{enumerate*}\n"
      ],
      "text/markdown": [
       "1. 'ENSG00000083844'\n",
       "2. 'ENSG00000105707'\n",
       "3. 'ENSG00000142530'\n",
       "4. 'ENSG00000161671'\n",
       "5. 'ENSG00000161677'\n",
       "6. 'ENSG00000213023'\n",
       "\n",
       "\n"
      ],
      "text/plain": [
       "[1] \"ENSG00000083844\" \"ENSG00000105707\" \"ENSG00000142530\" \"ENSG00000161671\"\n",
       "[5] \"ENSG00000161677\" \"ENSG00000213023\""
      ]
     },
     "metadata": {},
     "output_type": "display_data"
    }
   ],
   "source": [
    "head(genes)"
   ]
  },
  {
   "cell_type": "code",
   "execution_count": 9,
   "id": "937f7b6c",
   "metadata": {},
   "outputs": [
    {
     "data": {
      "text/html": [
       "<table>\n",
       "<thead><tr><th scope=col>snp_id</th><th scope=col>feature</th><th scope=col>stage</th></tr></thead>\n",
       "<tbody>\n",
       "\t<tr><td>5_149826526_C_T       </td><td>ENSG00000164587_RPS14 </td><td>ips                   </td></tr>\n",
       "\t<tr><td>11_57283988_C_T       </td><td>ENSG00000134809_TIMM10</td><td>ips                   </td></tr>\n",
       "\t<tr><td>12_56401085_G_A       </td><td>ENSG00000197728_RPS26 </td><td>ips                   </td></tr>\n",
       "\t<tr><td>17_79634162_T_G       </td><td>ENSG00000214087_ARL16 </td><td>ips                   </td></tr>\n",
       "\t<tr><td>6_31486901_T_C        </td><td>ENSG00000198563_DDX39B</td><td>ips                   </td></tr>\n",
       "\t<tr><td>4_39446549_G_A        </td><td>ENSG00000163682_RPL9  </td><td>ips                   </td></tr>\n",
       "</tbody>\n",
       "</table>\n"
      ],
      "text/latex": [
       "\\begin{tabular}{r|lll}\n",
       " snp\\_id & feature & stage\\\\\n",
       "\\hline\n",
       "\t 5\\_149826526\\_C\\_T    & ENSG00000164587\\_RPS14  & ips                     \\\\\n",
       "\t 11\\_57283988\\_C\\_T    & ENSG00000134809\\_TIMM10 & ips                     \\\\\n",
       "\t 12\\_56401085\\_G\\_A    & ENSG00000197728\\_RPS26  & ips                     \\\\\n",
       "\t 17\\_79634162\\_T\\_G    & ENSG00000214087\\_ARL16  & ips                     \\\\\n",
       "\t 6\\_31486901\\_T\\_C     & ENSG00000198563\\_DDX39B & ips                     \\\\\n",
       "\t 4\\_39446549\\_G\\_A     & ENSG00000163682\\_RPL9   & ips                     \\\\\n",
       "\\end{tabular}\n"
      ],
      "text/markdown": [
       "\n",
       "| snp_id | feature | stage |\n",
       "|---|---|---|\n",
       "| 5_149826526_C_T        | ENSG00000164587_RPS14  | ips                    |\n",
       "| 11_57283988_C_T        | ENSG00000134809_TIMM10 | ips                    |\n",
       "| 12_56401085_G_A        | ENSG00000197728_RPS26  | ips                    |\n",
       "| 17_79634162_T_G        | ENSG00000214087_ARL16  | ips                    |\n",
       "| 6_31486901_T_C         | ENSG00000198563_DDX39B | ips                    |\n",
       "| 4_39446549_G_A         | ENSG00000163682_RPL9   | ips                    |\n",
       "\n"
      ],
      "text/plain": [
       "  snp_id          feature                stage\n",
       "1 5_149826526_C_T ENSG00000164587_RPS14  ips  \n",
       "2 11_57283988_C_T ENSG00000134809_TIMM10 ips  \n",
       "3 12_56401085_G_A ENSG00000197728_RPS26  ips  \n",
       "4 17_79634162_T_G ENSG00000214087_ARL16  ips  \n",
       "5 6_31486901_T_C  ENSG00000198563_DDX39B ips  \n",
       "6 4_39446549_G_A  ENSG00000163682_RPL9   ips  "
      ]
     },
     "metadata": {},
     "output_type": "display_data"
    }
   ],
   "source": [
    "input_files_dir = \"/hps/nobackup/stegle/users/acuomo/all_scripts/struct_LMM2/sc_endodiff/new/input_files/\"\n",
    "endo_eqtl_file = paste0(input_files_dir,\"endodiff_eqtl_allconditions_FDR10pct.csv\")\n",
    "df1 = read.csv(endo_eqtl_file)\n",
    "head(df1)"
   ]
  },
  {
   "cell_type": "code",
   "execution_count": 10,
   "id": "505ed1ce",
   "metadata": {},
   "outputs": [
    {
     "data": {
      "text/html": [
       "<table>\n",
       "<thead><tr><th scope=col>snp_id</th><th scope=col>feature</th><th scope=col>stage</th><th scope=col>chr</th></tr></thead>\n",
       "<tbody>\n",
       "\t<tr><td>5_149826526_C_T       </td><td>ENSG00000164587_RPS14 </td><td>ips                   </td><td>5                     </td></tr>\n",
       "\t<tr><td>11_57283988_C_T       </td><td>ENSG00000134809_TIMM10</td><td>ips                   </td><td>11                    </td></tr>\n",
       "</tbody>\n",
       "</table>\n"
      ],
      "text/latex": [
       "\\begin{tabular}{r|llll}\n",
       " snp\\_id & feature & stage & chr\\\\\n",
       "\\hline\n",
       "\t 5\\_149826526\\_C\\_T    & ENSG00000164587\\_RPS14  & ips                      & 5                       \\\\\n",
       "\t 11\\_57283988\\_C\\_T    & ENSG00000134809\\_TIMM10 & ips                      & 11                      \\\\\n",
       "\\end{tabular}\n"
      ],
      "text/markdown": [
       "\n",
       "| snp_id | feature | stage | chr |\n",
       "|---|---|---|---|\n",
       "| 5_149826526_C_T        | ENSG00000164587_RPS14  | ips                    | 5                      |\n",
       "| 11_57283988_C_T        | ENSG00000134809_TIMM10 | ips                    | 11                     |\n",
       "\n"
      ],
      "text/plain": [
       "  snp_id          feature                stage chr\n",
       "1 5_149826526_C_T ENSG00000164587_RPS14  ips   5  \n",
       "2 11_57283988_C_T ENSG00000134809_TIMM10 ips   11 "
      ]
     },
     "metadata": {},
     "output_type": "display_data"
    }
   ],
   "source": [
    "df1$chr = t(matrix(t(unlist(strsplit(as.character(df1$snp_id),\"_\"))), nrow=4))[,1]\n",
    "head(df1,2)"
   ]
  },
  {
   "cell_type": "code",
   "execution_count": 11,
   "id": "25cd7a15",
   "metadata": {},
   "outputs": [
    {
     "data": {
      "text/html": [
       "369"
      ],
      "text/latex": [
       "369"
      ],
      "text/markdown": [
       "369"
      ],
      "text/plain": [
       "[1] 369"
      ]
     },
     "metadata": {},
     "output_type": "display_data"
    }
   ],
   "source": [
    "df1 = df1[df1$chr == 19,]\n",
    "nrow(df1)"
   ]
  },
  {
   "cell_type": "code",
   "execution_count": 12,
   "id": "65120fbf",
   "metadata": {},
   "outputs": [
    {
     "data": {
      "text/html": [
       "<ol class=list-inline>\n",
       "\t<li>'ENSG00000186230'</li>\n",
       "\t<li>'ENSG00000233927'</li>\n",
       "\t<li>'ENSG00000076924'</li>\n",
       "\t<li>'ENSG00000141994'</li>\n",
       "\t<li>'ENSG00000172687'</li>\n",
       "\t<li>'ENSG00000170892'</li>\n",
       "</ol>\n"
      ],
      "text/latex": [
       "\\begin{enumerate*}\n",
       "\\item 'ENSG00000186230'\n",
       "\\item 'ENSG00000233927'\n",
       "\\item 'ENSG00000076924'\n",
       "\\item 'ENSG00000141994'\n",
       "\\item 'ENSG00000172687'\n",
       "\\item 'ENSG00000170892'\n",
       "\\end{enumerate*}\n"
      ],
      "text/markdown": [
       "1. 'ENSG00000186230'\n",
       "2. 'ENSG00000233927'\n",
       "3. 'ENSG00000076924'\n",
       "4. 'ENSG00000141994'\n",
       "5. 'ENSG00000172687'\n",
       "6. 'ENSG00000170892'\n",
       "\n",
       "\n"
      ],
      "text/plain": [
       "[1] \"ENSG00000186230\" \"ENSG00000233927\" \"ENSG00000076924\" \"ENSG00000141994\"\n",
       "[5] \"ENSG00000172687\" \"ENSG00000170892\""
      ]
     },
     "metadata": {},
     "output_type": "display_data"
    }
   ],
   "source": [
    "genes1 = unique(gsub(\"_.*\",\"\",as.character(df1$feature)))\n",
    "head(genes1)"
   ]
  },
  {
   "cell_type": "code",
   "execution_count": 13,
   "id": "3328edff",
   "metadata": {},
   "outputs": [
    {
     "data": {
      "text/html": [
       "237"
      ],
      "text/latex": [
       "237"
      ],
      "text/markdown": [
       "237"
      ],
      "text/plain": [
       "[1] 237"
      ]
     },
     "metadata": {},
     "output_type": "display_data"
    },
    {
     "data": {
      "text/html": [
       "246"
      ],
      "text/latex": [
       "246"
      ],
      "text/markdown": [
       "246"
      ],
      "text/plain": [
       "[1] 246"
      ]
     },
     "metadata": {},
     "output_type": "display_data"
    },
    {
     "data": {
      "text/html": [
       "105"
      ],
      "text/latex": [
       "105"
      ],
      "text/markdown": [
       "105"
      ],
      "text/plain": [
       "[1] 105"
      ]
     },
     "metadata": {},
     "output_type": "display_data"
    }
   ],
   "source": [
    "length(genes)\n",
    "length(genes1)\n",
    "length(genes[genes %in% genes1])"
   ]
  },
  {
   "cell_type": "code",
   "execution_count": 14,
   "id": "22499ab9",
   "metadata": {},
   "outputs": [
    {
     "data": {
      "text/html": [
       "10003258"
      ],
      "text/latex": [
       "10003258"
      ],
      "text/markdown": [
       "10003258"
      ],
      "text/plain": [
       "[1] 10003258"
      ]
     },
     "metadata": {},
     "output_type": "display_data"
    }
   ],
   "source": [
    "crm_file = paste0(revision_folder, \"CRM_association/summary.csv\")\n",
    "crm = read.csv(crm_file)\n",
    "nrow(crm)"
   ]
  },
  {
   "cell_type": "code",
   "execution_count": 15,
   "id": "abc4dee6",
   "metadata": {},
   "outputs": [
    {
     "data": {
      "text/html": [
       "<table>\n",
       "<thead><tr><th scope=col>X</th><th scope=col>gene</th><th scope=col>n_snps</th><th scope=col>chrom</th><th scope=col>pv_raw</th><th scope=col>snpID</th><th scope=col>pv</th></tr></thead>\n",
       "<tbody>\n",
       "\t<tr><td>0              </td><td>ENSG00000250462</td><td>909            </td><td>17             </td><td>0.5215900      </td><td>17_28857239_G_A</td><td>1              </td></tr>\n",
       "\t<tr><td>1              </td><td>ENSG00000250462</td><td>909            </td><td>17             </td><td>0.6535075      </td><td>17_28857794_C_T</td><td>1              </td></tr>\n",
       "</tbody>\n",
       "</table>\n"
      ],
      "text/latex": [
       "\\begin{tabular}{r|lllllll}\n",
       " X & gene & n\\_snps & chrom & pv\\_raw & snpID & pv\\\\\n",
       "\\hline\n",
       "\t 0                     & ENSG00000250462       & 909                   & 17                    & 0.5215900             & 17\\_28857239\\_G\\_A & 1                    \\\\\n",
       "\t 1                     & ENSG00000250462       & 909                   & 17                    & 0.6535075             & 17\\_28857794\\_C\\_T & 1                    \\\\\n",
       "\\end{tabular}\n"
      ],
      "text/markdown": [
       "\n",
       "| X | gene | n_snps | chrom | pv_raw | snpID | pv |\n",
       "|---|---|---|---|---|---|---|\n",
       "| 0               | ENSG00000250462 | 909             | 17              | 0.5215900       | 17_28857239_G_A | 1               |\n",
       "| 1               | ENSG00000250462 | 909             | 17              | 0.6535075       | 17_28857794_C_T | 1               |\n",
       "\n"
      ],
      "text/plain": [
       "  X gene            n_snps chrom pv_raw    snpID           pv\n",
       "1 0 ENSG00000250462 909    17    0.5215900 17_28857239_G_A 1 \n",
       "2 1 ENSG00000250462 909    17    0.6535075 17_28857794_C_T 1 "
      ]
     },
     "metadata": {},
     "output_type": "display_data"
    }
   ],
   "source": [
    "head(crm,2)"
   ]
  },
  {
   "cell_type": "code",
   "execution_count": 16,
   "id": "af588c9e",
   "metadata": {},
   "outputs": [],
   "source": [
    "crm = crm[order(crm$pv),]\n",
    "top_crm = crm[-which(duplicated(crm$gene)),]\n",
    "top_crm = top_crm[top_crm$chrom == 19,]"
   ]
  },
  {
   "cell_type": "code",
   "execution_count": 17,
   "id": "2c64cf5e",
   "metadata": {},
   "outputs": [],
   "source": [
    "top_crm$q_value = qvalue(top_crm$pv)$qvalues"
   ]
  },
  {
   "cell_type": "code",
   "execution_count": 18,
   "id": "00820e9f",
   "metadata": {},
   "outputs": [
    {
     "data": {
      "text/html": [
       "132"
      ],
      "text/latex": [
       "132"
      ],
      "text/markdown": [
       "132"
      ],
      "text/plain": [
       "[1] 132"
      ]
     },
     "metadata": {},
     "output_type": "display_data"
    }
   ],
   "source": [
    "nrow(top_crm[top_crm$q_value<0.1,])"
   ]
  },
  {
   "cell_type": "code",
   "execution_count": 19,
   "id": "b91016ae",
   "metadata": {},
   "outputs": [],
   "source": [
    "genes2 = unique(as.character(top_crm[top_crm$q_value<0.1,\"gene\"]))"
   ]
  },
  {
   "cell_type": "code",
   "execution_count": 20,
   "id": "97d3bc3c",
   "metadata": {},
   "outputs": [
    {
     "data": {
      "text/html": [
       "77"
      ],
      "text/latex": [
       "77"
      ],
      "text/markdown": [
       "77"
      ],
      "text/plain": [
       "[1] 77"
      ]
     },
     "metadata": {},
     "output_type": "display_data"
    },
    {
     "data": {
      "text/html": [
       "81"
      ],
      "text/latex": [
       "81"
      ],
      "text/markdown": [
       "81"
      ],
      "text/plain": [
       "[1] 81"
      ]
     },
     "metadata": {},
     "output_type": "display_data"
    }
   ],
   "source": [
    "length(genes2[genes2 %in% genes])\n",
    "length(genes2[genes2 %in% genes1])"
   ]
  },
  {
   "cell_type": "code",
   "execution_count": 21,
   "id": "40e1006e",
   "metadata": {},
   "outputs": [
    {
     "data": {
      "text/html": [
       "105"
      ],
      "text/latex": [
       "105"
      ],
      "text/markdown": [
       "105"
      ],
      "text/plain": [
       "[1] 105"
      ]
     },
     "metadata": {},
     "output_type": "display_data"
    },
    {
     "data": {
      "text/html": [
       "77"
      ],
      "text/latex": [
       "77"
      ],
      "text/markdown": [
       "77"
      ],
      "text/plain": [
       "[1] 77"
      ]
     },
     "metadata": {},
     "output_type": "display_data"
    }
   ],
   "source": [
    "length(genes[genes %in% genes1])\n",
    "length(genes[genes %in% genes2])"
   ]
  },
  {
   "cell_type": "code",
   "execution_count": 37,
   "id": "59e63804",
   "metadata": {},
   "outputs": [],
   "source": [
    "sce = readRDS(\"/hps/nobackup/hipsci/scratch/singlecell_endodiff/data_processed/merged/20180618/sce_merged_afterqc_filt_allexpts.rds\")"
   ]
  },
  {
   "cell_type": "code",
   "execution_count": 38,
   "id": "20045c7c",
   "metadata": {},
   "outputs": [
    {
     "data": {
      "text/plain": [
       "class: SingleCellExperiment \n",
       "dim: 11231 36044 \n",
       "metadata(4): log.exprs.offset log.exprs.offset log.exprs.offset\n",
       "  log.exprs.offset\n",
       "assays(3): tpm counts logcounts\n",
       "rownames(11231): ENSG00000000003_TSPAN6 ENSG00000000419_DPM1 ...\n",
       "  ENSG00000272325_NUDT3 ENSG00000272398_CD24\n",
       "rowData names(17): exprs_collapsed_to ensembl_transcript_id ...\n",
       "  is_intop2000hvg is_hvg\n",
       "colnames(36044): 21843_1#10 21843_1#100 ... 24539_8#97 24539_8#98\n",
       "colData names(123): adj_x adj_y ... princ_curve princ_curve_scaled01\n",
       "reducedDimNames(1): PCA\n",
       "spikeNames(1): ERCC\n",
       "altExpNames(0):"
      ]
     },
     "metadata": {},
     "output_type": "display_data"
    }
   ],
   "source": [
    "sce"
   ]
  },
  {
   "cell_type": "code",
   "execution_count": 39,
   "id": "243ffe92",
   "metadata": {},
   "outputs": [],
   "source": [
    "sce1 = sce[rowData(sce)$chromosome_name == '19',]"
   ]
  },
  {
   "cell_type": "code",
   "execution_count": 40,
   "id": "5ac5b0ad",
   "metadata": {},
   "outputs": [],
   "source": [
    "counts = logcounts(sce1)"
   ]
  },
  {
   "cell_type": "code",
   "execution_count": 41,
   "id": "fcb2bb8f",
   "metadata": {},
   "outputs": [
    {
     "data": {
      "text/html": [
       "<table>\n",
       "<thead><tr><th></th><th scope=col>21843_1#10</th><th scope=col>21843_1#100</th><th scope=col>21843_1#101</th><th scope=col>21843_1#102</th><th scope=col>21843_1#103</th></tr></thead>\n",
       "<tbody>\n",
       "\t<tr><th scope=row>ENSG00000005007_UPF1</th><td>0.000000000</td><td>0.000000   </td><td>0.000000   </td><td>0.000000   </td><td>3.214902   </td></tr>\n",
       "\t<tr><th scope=row>ENSG00000006015_C19orf60</th><td>7.735019370</td><td>5.577988   </td><td>6.774730   </td><td>5.458110   </td><td>6.238580   </td></tr>\n",
       "\t<tr><th scope=row>ENSG00000006016_CRLF1</th><td>1.191411002</td><td>4.430329   </td><td>2.460003   </td><td>0.000000   </td><td>4.044289   </td></tr>\n",
       "\t<tr><th scope=row>ENSG00000006712_PAF1</th><td>3.139675905</td><td>5.499951   </td><td>4.130641   </td><td>4.814361   </td><td>3.290116   </td></tr>\n",
       "\t<tr><th scope=row>ENSG00000007047_MARK4</th><td>0.003519872</td><td>0.000000   </td><td>1.295976   </td><td>0.000000   </td><td>0.000000   </td></tr>\n",
       "</tbody>\n",
       "</table>\n"
      ],
      "text/latex": [
       "\\begin{tabular}{r|lllll}\n",
       "  & 21843\\_1\\#10 & 21843\\_1\\#100 & 21843\\_1\\#101 & 21843\\_1\\#102 & 21843\\_1\\#103\\\\\n",
       "\\hline\n",
       "\tENSG00000005007\\_UPF1 & 0.000000000 & 0.000000    & 0.000000    & 0.000000    & 3.214902   \\\\\n",
       "\tENSG00000006015\\_C19orf60 & 7.735019370 & 5.577988    & 6.774730    & 5.458110    & 6.238580   \\\\\n",
       "\tENSG00000006016\\_CRLF1 & 1.191411002 & 4.430329    & 2.460003    & 0.000000    & 4.044289   \\\\\n",
       "\tENSG00000006712\\_PAF1 & 3.139675905 & 5.499951    & 4.130641    & 4.814361    & 3.290116   \\\\\n",
       "\tENSG00000007047\\_MARK4 & 0.003519872 & 0.000000    & 1.295976    & 0.000000    & 0.000000   \\\\\n",
       "\\end{tabular}\n"
      ],
      "text/markdown": [
       "\n",
       "| <!--/--> | 21843_1#10 | 21843_1#100 | 21843_1#101 | 21843_1#102 | 21843_1#103 |\n",
       "|---|---|---|---|---|---|\n",
       "| ENSG00000005007_UPF1 | 0.000000000 | 0.000000    | 0.000000    | 0.000000    | 3.214902    |\n",
       "| ENSG00000006015_C19orf60 | 7.735019370 | 5.577988    | 6.774730    | 5.458110    | 6.238580    |\n",
       "| ENSG00000006016_CRLF1 | 1.191411002 | 4.430329    | 2.460003    | 0.000000    | 4.044289    |\n",
       "| ENSG00000006712_PAF1 | 3.139675905 | 5.499951    | 4.130641    | 4.814361    | 3.290116    |\n",
       "| ENSG00000007047_MARK4 | 0.003519872 | 0.000000    | 1.295976    | 0.000000    | 0.000000    |\n",
       "\n"
      ],
      "text/plain": [
       "                         21843_1#10  21843_1#100 21843_1#101 21843_1#102\n",
       "ENSG00000005007_UPF1     0.000000000 0.000000    0.000000    0.000000   \n",
       "ENSG00000006015_C19orf60 7.735019370 5.577988    6.774730    5.458110   \n",
       "ENSG00000006016_CRLF1    1.191411002 4.430329    2.460003    0.000000   \n",
       "ENSG00000006712_PAF1     3.139675905 5.499951    4.130641    4.814361   \n",
       "ENSG00000007047_MARK4    0.003519872 0.000000    1.295976    0.000000   \n",
       "                         21843_1#103\n",
       "ENSG00000005007_UPF1     3.214902   \n",
       "ENSG00000006015_C19orf60 6.238580   \n",
       "ENSG00000006016_CRLF1    4.044289   \n",
       "ENSG00000006712_PAF1     3.290116   \n",
       "ENSG00000007047_MARK4    0.000000   "
      ]
     },
     "metadata": {},
     "output_type": "display_data"
    }
   ],
   "source": [
    "counts[1:5,1:5]"
   ]
  },
  {
   "cell_type": "code",
   "execution_count": 53,
   "id": "b2c18d92",
   "metadata": {},
   "outputs": [
    {
     "data": {
      "text/html": [
       "<table>\n",
       "<thead><tr><th></th><th scope=col>gene</th><th scope=col>mean</th><th scope=col>var</th></tr></thead>\n",
       "<tbody>\n",
       "\t<tr><th scope=row>ENSG00000005007_UPF1</th><td>ENSG00000005007</td><td>0.8839367      </td><td>1.376425       </td></tr>\n",
       "\t<tr><th scope=row>ENSG00000006015_C19orf60</th><td>ENSG00000006015</td><td>6.5163558      </td><td>1.714059       </td></tr>\n",
       "\t<tr><th scope=row>ENSG00000006016_CRLF1</th><td>ENSG00000006016</td><td>1.0498909      </td><td>2.975966       </td></tr>\n",
       "\t<tr><th scope=row>ENSG00000006712_PAF1</th><td>ENSG00000006712</td><td>3.4672491      </td><td>3.046113       </td></tr>\n",
       "\t<tr><th scope=row>ENSG00000007047_MARK4</th><td>ENSG00000007047</td><td>0.9499710      </td><td>1.484040       </td></tr>\n",
       "\t<tr><th scope=row>ENSG00000007080_CCDC124</th><td>ENSG00000007080</td><td>6.7527160      </td><td>1.165599       </td></tr>\n",
       "</tbody>\n",
       "</table>\n"
      ],
      "text/latex": [
       "\\begin{tabular}{r|lll}\n",
       "  & gene & mean & var\\\\\n",
       "\\hline\n",
       "\tENSG00000005007\\_UPF1 & ENSG00000005007 & 0.8839367       & 1.376425       \\\\\n",
       "\tENSG00000006015\\_C19orf60 & ENSG00000006015 & 6.5163558       & 1.714059       \\\\\n",
       "\tENSG00000006016\\_CRLF1 & ENSG00000006016 & 1.0498909       & 2.975966       \\\\\n",
       "\tENSG00000006712\\_PAF1 & ENSG00000006712 & 3.4672491       & 3.046113       \\\\\n",
       "\tENSG00000007047\\_MARK4 & ENSG00000007047 & 0.9499710       & 1.484040       \\\\\n",
       "\tENSG00000007080\\_CCDC124 & ENSG00000007080 & 6.7527160       & 1.165599       \\\\\n",
       "\\end{tabular}\n"
      ],
      "text/markdown": [
       "\n",
       "| <!--/--> | gene | mean | var |\n",
       "|---|---|---|---|\n",
       "| ENSG00000005007_UPF1 | ENSG00000005007 | 0.8839367       | 1.376425        |\n",
       "| ENSG00000006015_C19orf60 | ENSG00000006015 | 6.5163558       | 1.714059        |\n",
       "| ENSG00000006016_CRLF1 | ENSG00000006016 | 1.0498909       | 2.975966        |\n",
       "| ENSG00000006712_PAF1 | ENSG00000006712 | 3.4672491       | 3.046113        |\n",
       "| ENSG00000007047_MARK4 | ENSG00000007047 | 0.9499710       | 1.484040        |\n",
       "| ENSG00000007080_CCDC124 | ENSG00000007080 | 6.7527160       | 1.165599        |\n",
       "\n"
      ],
      "text/plain": [
       "                         gene            mean      var     \n",
       "ENSG00000005007_UPF1     ENSG00000005007 0.8839367 1.376425\n",
       "ENSG00000006015_C19orf60 ENSG00000006015 6.5163558 1.714059\n",
       "ENSG00000006016_CRLF1    ENSG00000006016 1.0498909 2.975966\n",
       "ENSG00000006712_PAF1     ENSG00000006712 3.4672491 3.046113\n",
       "ENSG00000007047_MARK4    ENSG00000007047 0.9499710 1.484040\n",
       "ENSG00000007080_CCDC124  ENSG00000007080 6.7527160 1.165599"
      ]
     },
     "metadata": {},
     "output_type": "display_data"
    }
   ],
   "source": [
    "stats_df = data.frame(gene = gsub(\"_.*\",\"\",rownames(counts)), \n",
    "                                  mean = rowMeans(counts), var = rowVars(counts))\n",
    "head(stats_df)"
   ]
  },
  {
   "cell_type": "code",
   "execution_count": 54,
   "id": "7e89d601",
   "metadata": {},
   "outputs": [],
   "source": [
    "stats_df$test = 'no'\n",
    "stats_df$test[stats_df$gene %in% genes0] = 'Marc_std'\n",
    "stats_df$test[stats_df$gene %in% genes] = 'Marc_gauss'\n",
    "stats_df$test[stats_df$gene %in% genes1] = 'endo'\n",
    "stats_df$test[stats_df$gene %in% genes2] = 'Anna'"
   ]
  },
  {
   "cell_type": "code",
   "execution_count": 55,
   "id": "8effd76b",
   "metadata": {},
   "outputs": [
    {
     "data": {
      "text/html": [
       "<table>\n",
       "<thead><tr><th></th><th scope=col>gene</th><th scope=col>mean</th><th scope=col>var</th><th scope=col>test</th></tr></thead>\n",
       "<tbody>\n",
       "\t<tr><th scope=row>ENSG00000005007_UPF1</th><td>ENSG00000005007</td><td>0.8839367      </td><td>1.376425       </td><td>no             </td></tr>\n",
       "\t<tr><th scope=row>ENSG00000006015_C19orf60</th><td>ENSG00000006015</td><td>6.5163558      </td><td>1.714059       </td><td>no             </td></tr>\n",
       "\t<tr><th scope=row>ENSG00000006016_CRLF1</th><td>ENSG00000006016</td><td>1.0498909      </td><td>2.975966       </td><td>endo           </td></tr>\n",
       "\t<tr><th scope=row>ENSG00000006712_PAF1</th><td>ENSG00000006712</td><td>3.4672491      </td><td>3.046113       </td><td>no             </td></tr>\n",
       "\t<tr><th scope=row>ENSG00000007047_MARK4</th><td>ENSG00000007047</td><td>0.9499710      </td><td>1.484040       </td><td>Marc_gauss     </td></tr>\n",
       "\t<tr><th scope=row>ENSG00000007080_CCDC124</th><td>ENSG00000007080</td><td>6.7527160      </td><td>1.165599       </td><td>no             </td></tr>\n",
       "</tbody>\n",
       "</table>\n"
      ],
      "text/latex": [
       "\\begin{tabular}{r|llll}\n",
       "  & gene & mean & var & test\\\\\n",
       "\\hline\n",
       "\tENSG00000005007\\_UPF1 & ENSG00000005007 & 0.8839367       & 1.376425        & no             \\\\\n",
       "\tENSG00000006015\\_C19orf60 & ENSG00000006015 & 6.5163558       & 1.714059        & no             \\\\\n",
       "\tENSG00000006016\\_CRLF1 & ENSG00000006016 & 1.0498909       & 2.975966        & endo           \\\\\n",
       "\tENSG00000006712\\_PAF1 & ENSG00000006712 & 3.4672491       & 3.046113        & no             \\\\\n",
       "\tENSG00000007047\\_MARK4 & ENSG00000007047 & 0.9499710       & 1.484040        & Marc\\_gauss   \\\\\n",
       "\tENSG00000007080\\_CCDC124 & ENSG00000007080 & 6.7527160       & 1.165599        & no             \\\\\n",
       "\\end{tabular}\n"
      ],
      "text/markdown": [
       "\n",
       "| <!--/--> | gene | mean | var | test |\n",
       "|---|---|---|---|---|\n",
       "| ENSG00000005007_UPF1 | ENSG00000005007 | 0.8839367       | 1.376425        | no              |\n",
       "| ENSG00000006015_C19orf60 | ENSG00000006015 | 6.5163558       | 1.714059        | no              |\n",
       "| ENSG00000006016_CRLF1 | ENSG00000006016 | 1.0498909       | 2.975966        | endo            |\n",
       "| ENSG00000006712_PAF1 | ENSG00000006712 | 3.4672491       | 3.046113        | no              |\n",
       "| ENSG00000007047_MARK4 | ENSG00000007047 | 0.9499710       | 1.484040        | Marc_gauss      |\n",
       "| ENSG00000007080_CCDC124 | ENSG00000007080 | 6.7527160       | 1.165599        | no              |\n",
       "\n"
      ],
      "text/plain": [
       "                         gene            mean      var      test      \n",
       "ENSG00000005007_UPF1     ENSG00000005007 0.8839367 1.376425 no        \n",
       "ENSG00000006015_C19orf60 ENSG00000006015 6.5163558 1.714059 no        \n",
       "ENSG00000006016_CRLF1    ENSG00000006016 1.0498909 2.975966 endo      \n",
       "ENSG00000006712_PAF1     ENSG00000006712 3.4672491 3.046113 no        \n",
       "ENSG00000007047_MARK4    ENSG00000007047 0.9499710 1.484040 Marc_gauss\n",
       "ENSG00000007080_CCDC124  ENSG00000007080 6.7527160 1.165599 no        "
      ]
     },
     "metadata": {},
     "output_type": "display_data"
    }
   ],
   "source": [
    "head(stats_df)"
   ]
  },
  {
   "cell_type": "code",
   "execution_count": 56,
   "id": "cb415078",
   "metadata": {},
   "outputs": [
    {
     "data": {
      "text/html": [
       "<table>\n",
       "<thead><tr><th scope=col>test</th><th scope=col>n</th></tr></thead>\n",
       "<tbody>\n",
       "\t<tr><td>Anna      </td><td>132       </td></tr>\n",
       "\t<tr><td>endo      </td><td>165       </td></tr>\n",
       "\t<tr><td>Marc_gauss</td><td>114       </td></tr>\n",
       "\t<tr><td>Marc_std  </td><td> 87       </td></tr>\n",
       "\t<tr><td>no        </td><td>357       </td></tr>\n",
       "</tbody>\n",
       "</table>\n"
      ],
      "text/latex": [
       "\\begin{tabular}{r|ll}\n",
       " test & n\\\\\n",
       "\\hline\n",
       "\t Anna       & 132       \\\\\n",
       "\t endo       & 165       \\\\\n",
       "\t Marc\\_gauss & 114         \\\\\n",
       "\t Marc\\_std   &  87         \\\\\n",
       "\t no         & 357       \\\\\n",
       "\\end{tabular}\n"
      ],
      "text/markdown": [
       "\n",
       "| test | n |\n",
       "|---|---|\n",
       "| Anna       | 132        |\n",
       "| endo       | 165        |\n",
       "| Marc_gauss | 114        |\n",
       "| Marc_std   |  87        |\n",
       "| no         | 357        |\n",
       "\n"
      ],
      "text/plain": [
       "  test       n  \n",
       "1 Anna       132\n",
       "2 endo       165\n",
       "3 Marc_gauss 114\n",
       "4 Marc_std    87\n",
       "5 no         357"
      ]
     },
     "metadata": {},
     "output_type": "display_data"
    }
   ],
   "source": [
    "count_df = stats_df %>% group_by(test) %>% summarise(n=n())\n",
    "head(count_df)"
   ]
  },
  {
   "cell_type": "code",
   "execution_count": 57,
   "id": "889ed78f",
   "metadata": {},
   "outputs": [],
   "source": [
    "p1 = ggplot(count_df, aes(x = test, y=n)) + geom_bar(stat=\"identity\") + theme_classic()"
   ]
  },
  {
   "cell_type": "code",
   "execution_count": 58,
   "id": "f0e2cb16",
   "metadata": {},
   "outputs": [],
   "source": [
    "p2 = ggplot(stats_df, aes(x = test, y = mean)) + geom_boxplot() + theme_classic()\n",
    "p3 = ggplot(stats_df, aes(x = test, y = var)) + geom_boxplot() + theme_classic()"
   ]
  },
  {
   "cell_type": "code",
   "execution_count": 60,
   "id": "63af6c4b",
   "metadata": {},
   "outputs": [
    {
     "data": {
      "image/png": "[encoded data removed]",
      "text/plain": [
       "plot without title"
      ]
     },
     "metadata": {},
     "output_type": "display_data"
    }
   ],
   "source": [
    "options(repr.plot.width = 12, repr.plot.height = 4)\n",
    "plot_grid(p1,p2,p3,ncol=3)"
   ]
  },
  {
   "cell_type": "code",
   "execution_count": null,
   "id": "115abec3",
   "metadata": {},
   "outputs": [],
   "source": [
    "genes"
   ]
  }
 ],
 "metadata": {
  "kernelspec": {
   "display_name": "R",
   "language": "R",
   "name": "ir"
  },
  "language_info": {
   "codemirror_mode": "r",
   "file_extension": ".r",
   "mimetype": "text/x-r-source",
   "name": "R",
   "pygments_lexer": "r",
   "version": "3.6.1"
  }
 },
 "nbformat": 4,
 "nbformat_minor": 5
}
