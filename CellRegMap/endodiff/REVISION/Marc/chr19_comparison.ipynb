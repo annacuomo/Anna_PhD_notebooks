{
 "cells": [
  {
   "cell_type": "code",
   "execution_count": 4,
   "id": "df540fe4",
   "metadata": {},
   "outputs": [
    {
     "name": "stderr",
     "output_type": "stream",
     "text": [
      "\n",
      "Attaching package: ‘dplyr’\n",
      "\n",
      "The following objects are masked from ‘package:stats’:\n",
      "\n",
      "    filter, lag\n",
      "\n",
      "The following objects are masked from ‘package:base’:\n",
      "\n",
      "    intersect, setdiff, setequal, union\n",
      "\n"
     ]
    }
   ],
   "source": [
    "library(dplyr)\n",
    "library(ggplot2)"
   ]
  },
  {
   "cell_type": "code",
   "execution_count": null,
   "id": "0faca119",
   "metadata": {},
   "outputs": [],
   "source": [
    "##### results from paper (Cuomo*, Seaton*, McCarthy* et al Nat Commun 2020)"
   ]
  },
  {
   "cell_type": "code",
   "execution_count": null,
   "id": "6079fbc2",
   "metadata": {},
   "outputs": [],
   "source": [
    "# union of ips + mesendo + defendo eQTL (pseudobulk, expanded K)"
   ]
  },
  {
   "cell_type": "code",
   "execution_count": 8,
   "id": "62d39ce5",
   "metadata": {},
   "outputs": [],
   "source": [
    "# load lead variant results sc stages (iPS, mesendo, defendo)\n",
    "leads.ips = read.csv(\"/nfs/leia/research/stegle/acuomo/mean/day0/all_expts/leads.csv\", row.names = 1)\n",
    "leads.mes = read.csv(\"/nfs/leia/research/stegle/acuomo/mean/mesendo_est_June20/leads.csv\", row.names = 1)\n",
    "leads.defendo = read.csv(\"/nfs/leia/research/stegle/acuomo/mean/defendo_est_June20/leads.csv\", row.names = 1)"
   ]
  },
  {
   "cell_type": "code",
   "execution_count": 9,
   "id": "5914ff54",
   "metadata": {},
   "outputs": [],
   "source": [
    "leads.ips$stage = \"ips\"\n",
    "leads.mes$stage = \"mesendo\"\n",
    "leads.defendo$stage = \"defendo\""
   ]
  },
  {
   "cell_type": "code",
   "execution_count": 10,
   "id": "f4716c18",
   "metadata": {},
   "outputs": [],
   "source": [
    "### combine results"
   ]
  },
  {
   "cell_type": "code",
   "execution_count": 11,
   "id": "1bc94068",
   "metadata": {},
   "outputs": [],
   "source": [
    "leads = rbind(leads.ips, leads.mes, leads.defendo)"
   ]
  },
  {
   "cell_type": "code",
   "execution_count": 12,
   "id": "294ae10f",
   "metadata": {},
   "outputs": [],
   "source": [
    "leads$ensembl_gene_id = gsub(\"_.*\",\"\",leads$feature)"
   ]
  },
  {
   "cell_type": "code",
   "execution_count": 32,
   "id": "afd908b8",
   "metadata": {},
   "outputs": [
    {
     "data": {
      "text/html": [
       "<table>\n",
       "<thead><tr><th scope=col>beta</th><th scope=col>beta_se</th><th scope=col>empirical_feature_p_value</th><th scope=col>p_value</th><th scope=col>snp_id</th><th scope=col>feature</th><th scope=col>global_corr_p_value</th><th scope=col>chrom</th><th scope=col>pos</th><th scope=col>ref_allele</th><th scope=col>...</th><th scope=col>permutation_1</th><th scope=col>permutation_2</th><th scope=col>permutation_3</th><th scope=col>permutation_4</th><th scope=col>permutation_5</th><th scope=col>permutation_6</th><th scope=col>permutation_7</th><th scope=col>permutation_8</th><th scope=col>permutation_9</th><th scope=col>stage</th></tr></thead>\n",
       "<tbody>\n",
       "\t<tr><td>-1.0048674            </td><td>0.08005311            </td><td>3.631688e-34          </td><td>3.851118e-36          </td><td>5_149826526_C_T       </td><td>ENSG00000164587_RPS14 </td><td>2.880363e-30          </td><td> 5                    </td><td>149826526             </td><td>C                     </td><td>...                   </td><td>0.5867415             </td><td>0.56508683            </td><td>0.6296458             </td><td>0.004683908           </td><td>0.5159591             </td><td>0.7734028             </td><td>0.6450821             </td><td>0.6001209             </td><td>0.9876646             </td><td>ips                   </td></tr>\n",
       "\t<tr><td>-0.9881017            </td><td>0.08648823            </td><td>2.432216e-26          </td><td>3.147553e-30          </td><td>11_57283988_C_T       </td><td>ENSG00000134809_TIMM10</td><td>8.853960e-23          </td><td>11                    </td><td> 57283988             </td><td>C                     </td><td>...                   </td><td>0.1093548             </td><td>0.08194005            </td><td>0.6897261             </td><td>0.683497330           </td><td>0.5137511             </td><td>0.7877572             </td><td>0.6064095             </td><td>0.5419861             </td><td>0.5654441             </td><td>ips                   </td></tr>\n",
       "</tbody>\n",
       "</table>\n"
      ],
      "text/latex": [
       "\\begin{tabular}{r|llllllllllllllllllllll}\n",
       " beta & beta\\_se & empirical\\_feature\\_p\\_value & p\\_value & snp\\_id & feature & global\\_corr\\_p\\_value & chrom & pos & ref\\_allele & ... & permutation\\_1 & permutation\\_2 & permutation\\_3 & permutation\\_4 & permutation\\_5 & permutation\\_6 & permutation\\_7 & permutation\\_8 & permutation\\_9 & stage\\\\\n",
       "\\hline\n",
       "\t -1.0048674               & 0.08005311               & 3.631688e-34             & 3.851118e-36             & 5\\_149826526\\_C\\_T    & ENSG00000164587\\_RPS14  & 2.880363e-30             &  5                       & 149826526                & C                        & ...                      & 0.5867415                & 0.56508683               & 0.6296458                & 0.004683908              & 0.5159591                & 0.7734028                & 0.6450821                & 0.6001209                & 0.9876646                & ips                     \\\\\n",
       "\t -0.9881017               & 0.08648823               & 2.432216e-26             & 3.147553e-30             & 11\\_57283988\\_C\\_T    & ENSG00000134809\\_TIMM10 & 8.853960e-23             & 11                       &  57283988                & C                        & ...                      & 0.1093548                & 0.08194005               & 0.6897261                & 0.683497330              & 0.5137511                & 0.7877572                & 0.6064095                & 0.5419861                & 0.5654441                & ips                     \\\\\n",
       "\\end{tabular}\n"
      ],
      "text/markdown": [
       "\n",
       "| beta | beta_se | empirical_feature_p_value | p_value | snp_id | feature | global_corr_p_value | chrom | pos | ref_allele | ... | permutation_1 | permutation_2 | permutation_3 | permutation_4 | permutation_5 | permutation_6 | permutation_7 | permutation_8 | permutation_9 | stage |\n",
       "|---|---|---|---|---|---|---|---|---|---|---|---|---|---|---|---|---|---|---|---|---|\n",
       "| -1.0048674             | 0.08005311             | 3.631688e-34           | 3.851118e-36           | 5_149826526_C_T        | ENSG00000164587_RPS14  | 2.880363e-30           |  5                     | 149826526              | C                      | ...                    | 0.5867415              | 0.56508683             | 0.6296458              | 0.004683908            | 0.5159591              | 0.7734028              | 0.6450821              | 0.6001209              | 0.9876646              | ips                    |\n",
       "| -0.9881017             | 0.08648823             | 2.432216e-26           | 3.147553e-30           | 11_57283988_C_T        | ENSG00000134809_TIMM10 | 8.853960e-23           | 11                     |  57283988              | C                      | ...                    | 0.1093548              | 0.08194005             | 0.6897261              | 0.683497330            | 0.5137511              | 0.7877572              | 0.6064095              | 0.5419861              | 0.5654441              | ips                    |\n",
       "\n"
      ],
      "text/plain": [
       "  beta       beta_se    empirical_feature_p_value p_value      snp_id         \n",
       "1 -1.0048674 0.08005311 3.631688e-34              3.851118e-36 5_149826526_C_T\n",
       "2 -0.9881017 0.08648823 2.432216e-26              3.147553e-30 11_57283988_C_T\n",
       "  feature                global_corr_p_value chrom pos       ref_allele ...\n",
       "1 ENSG00000164587_RPS14  2.880363e-30         5    149826526 C          ...\n",
       "2 ENSG00000134809_TIMM10 8.853960e-23        11     57283988 C          ...\n",
       "  permutation_1 permutation_2 permutation_3 permutation_4 permutation_5\n",
       "1 0.5867415     0.56508683    0.6296458     0.004683908   0.5159591    \n",
       "2 0.1093548     0.08194005    0.6897261     0.683497330   0.5137511    \n",
       "  permutation_6 permutation_7 permutation_8 permutation_9 stage\n",
       "1 0.7734028     0.6450821     0.6001209     0.9876646     ips  \n",
       "2 0.7877572     0.6064095     0.5419861     0.5654441     ips  "
      ]
     },
     "metadata": {},
     "output_type": "display_data"
    }
   ],
   "source": [
    "head(leads,2)"
   ]
  },
  {
   "cell_type": "code",
   "execution_count": 26,
   "id": "bf5e2616",
   "metadata": {},
   "outputs": [],
   "source": [
    "#### pick top SNP per gene (min p-value across stages)"
   ]
  },
  {
   "cell_type": "code",
   "execution_count": 34,
   "id": "e763faee",
   "metadata": {},
   "outputs": [
    {
     "data": {
      "text/html": [
       "32665"
      ],
      "text/latex": [
       "32665"
      ],
      "text/markdown": [
       "32665"
      ],
      "text/plain": [
       "[1] 32665"
      ]
     },
     "metadata": {},
     "output_type": "display_data"
    },
    {
     "data": {
      "text/html": [
       "10788"
      ],
      "text/latex": [
       "10788"
      ],
      "text/markdown": [
       "10788"
      ],
      "text/plain": [
       "[1] 10788"
      ]
     },
     "metadata": {},
     "output_type": "display_data"
    }
   ],
   "source": [
    "nrow(leads)\n",
    "leads = leads[order(leads$p_value),]\n",
    "leads = leads[-which(duplicated(leads$feature)),]\n",
    "nrow(leads)"
   ]
  },
  {
   "cell_type": "code",
   "execution_count": 10,
   "id": "4fb25ded",
   "metadata": {},
   "outputs": [],
   "source": [
    "# load all results sc stages (iPS, mesendo, defendo)\n",
    "res.ips = read.csv(\"/nfs/leia/research/stegle/acuomo/mean/day0/all_expts/allresults.csv\", row.names = 1)\n",
    "res.mes = read.csv(\"/nfs/leia/research/stegle/acuomo/mean/mesendo_est_June20/allresults.csv\", row.names = 1)\n",
    "res.defendo = read.csv(\"/nfs/leia/research/stegle/acuomo/mean/defendo_est_June20/allresults.csv\", row.names = 1)"
   ]
  },
  {
   "cell_type": "code",
   "execution_count": 11,
   "id": "4314e583",
   "metadata": {},
   "outputs": [],
   "source": [
    "res.ips$stage = \"ips\"\n",
    "res.mes$stage = \"mesendo\"\n",
    "res.defendo$stage = \"defendo\""
   ]
  },
  {
   "cell_type": "code",
   "execution_count": 35,
   "id": "ffb08488",
   "metadata": {},
   "outputs": [],
   "source": [
    "res = rbind(res.ips, res.mes, res.defendo)"
   ]
  },
  {
   "cell_type": "code",
   "execution_count": null,
   "id": "32b3512b",
   "metadata": {},
   "outputs": [],
   "source": [
    "res$ensembl_gene_id = gsub(\"_.*\",\"\",res$feature)"
   ]
  },
  {
   "cell_type": "code",
   "execution_count": 36,
   "id": "69cc2da4",
   "metadata": {},
   "outputs": [
    {
     "data": {
      "text/html": [
       "<table>\n",
       "<thead><tr><th scope=col>beta</th><th scope=col>beta_se</th><th scope=col>empirical_feature_p_value</th><th scope=col>p_value</th><th scope=col>snp_id</th><th scope=col>feature</th><th scope=col>permutation_0</th><th scope=col>permutation_1</th><th scope=col>permutation_2</th><th scope=col>permutation_3</th><th scope=col>...</th><th scope=col>permutation_6</th><th scope=col>permutation_7</th><th scope=col>permutation_8</th><th scope=col>permutation_9</th><th scope=col>ensembl_gene_id</th><th scope=col>chrom</th><th scope=col>pos</th><th scope=col>ref_allele</th><th scope=col>alt_allele</th><th scope=col>stage</th></tr></thead>\n",
       "<tbody>\n",
       "\t<tr><td>0.1034053             </td><td>0.1156505             </td><td>1                     </td><td>0.3712581             </td><td>1_100712195_G_C       </td><td>ENSG00000079335_CDC14A</td><td>0.4119083             </td><td>0.02609394            </td><td>0.6008147             </td><td>0.1373799             </td><td>...                   </td><td>0.1993281             </td><td>0.2655322             </td><td>0.9174491             </td><td>0.8586736             </td><td>ENSG00000079335       </td><td>1                     </td><td>100712195             </td><td>G                     </td><td>C                     </td><td>ips                   </td></tr>\n",
       "\t<tr><td>0.1034053             </td><td>0.1156505             </td><td>1                     </td><td>0.3712581             </td><td>1_100713300_G_T       </td><td>ENSG00000079335_CDC14A</td><td>0.4119083             </td><td>0.02609394            </td><td>0.6008147             </td><td>0.1373799             </td><td>...                   </td><td>0.1993281             </td><td>0.2655322             </td><td>0.9174491             </td><td>0.8586736             </td><td>ENSG00000079335       </td><td>1                     </td><td>100713300             </td><td>G                     </td><td>T                     </td><td>ips                   </td></tr>\n",
       "</tbody>\n",
       "</table>\n"
      ],
      "text/latex": [
       "\\begin{tabular}{r|llllllllllllllllllllll}\n",
       " beta & beta\\_se & empirical\\_feature\\_p\\_value & p\\_value & snp\\_id & feature & permutation\\_0 & permutation\\_1 & permutation\\_2 & permutation\\_3 & ... & permutation\\_6 & permutation\\_7 & permutation\\_8 & permutation\\_9 & ensembl\\_gene\\_id & chrom & pos & ref\\_allele & alt\\_allele & stage\\\\\n",
       "\\hline\n",
       "\t 0.1034053                & 0.1156505                & 1                        & 0.3712581                & 1\\_100712195\\_G\\_C    & ENSG00000079335\\_CDC14A & 0.4119083                & 0.02609394               & 0.6008147                & 0.1373799                & ...                      & 0.1993281                & 0.2655322                & 0.9174491                & 0.8586736                & ENSG00000079335          & 1                        & 100712195                & G                        & C                        & ips                     \\\\\n",
       "\t 0.1034053                & 0.1156505                & 1                        & 0.3712581                & 1\\_100713300\\_G\\_T    & ENSG00000079335\\_CDC14A & 0.4119083                & 0.02609394               & 0.6008147                & 0.1373799                & ...                      & 0.1993281                & 0.2655322                & 0.9174491                & 0.8586736                & ENSG00000079335          & 1                        & 100713300                & G                        & T                        & ips                     \\\\\n",
       "\\end{tabular}\n"
      ],
      "text/markdown": [
       "\n",
       "| beta | beta_se | empirical_feature_p_value | p_value | snp_id | feature | permutation_0 | permutation_1 | permutation_2 | permutation_3 | ... | permutation_6 | permutation_7 | permutation_8 | permutation_9 | ensembl_gene_id | chrom | pos | ref_allele | alt_allele | stage |\n",
       "|---|---|---|---|---|---|---|---|---|---|---|---|---|---|---|---|---|---|---|---|---|\n",
       "| 0.1034053              | 0.1156505              | 1                      | 0.3712581              | 1_100712195_G_C        | ENSG00000079335_CDC14A | 0.4119083              | 0.02609394             | 0.6008147              | 0.1373799              | ...                    | 0.1993281              | 0.2655322              | 0.9174491              | 0.8586736              | ENSG00000079335        | 1                      | 100712195              | G                      | C                      | ips                    |\n",
       "| 0.1034053              | 0.1156505              | 1                      | 0.3712581              | 1_100713300_G_T        | ENSG00000079335_CDC14A | 0.4119083              | 0.02609394             | 0.6008147              | 0.1373799              | ...                    | 0.1993281              | 0.2655322              | 0.9174491              | 0.8586736              | ENSG00000079335        | 1                      | 100713300              | G                      | T                      | ips                    |\n",
       "\n"
      ],
      "text/plain": [
       "  beta      beta_se   empirical_feature_p_value p_value   snp_id         \n",
       "1 0.1034053 0.1156505 1                         0.3712581 1_100712195_G_C\n",
       "2 0.1034053 0.1156505 1                         0.3712581 1_100713300_G_T\n",
       "  feature                permutation_0 permutation_1 permutation_2\n",
       "1 ENSG00000079335_CDC14A 0.4119083     0.02609394    0.6008147    \n",
       "2 ENSG00000079335_CDC14A 0.4119083     0.02609394    0.6008147    \n",
       "  permutation_3 ... permutation_6 permutation_7 permutation_8 permutation_9\n",
       "1 0.1373799     ... 0.1993281     0.2655322     0.9174491     0.8586736    \n",
       "2 0.1373799     ... 0.1993281     0.2655322     0.9174491     0.8586736    \n",
       "  ensembl_gene_id chrom pos       ref_allele alt_allele stage\n",
       "1 ENSG00000079335 1     100712195 G          C          ips  \n",
       "2 ENSG00000079335 1     100713300 G          T          ips  "
      ]
     },
     "metadata": {},
     "output_type": "display_data"
    }
   ],
   "source": [
    "head(res,2)"
   ]
  },
  {
   "cell_type": "code",
   "execution_count": 37,
   "id": "c7b69626",
   "metadata": {},
   "outputs": [],
   "source": [
    "#### pick top eQTL per stage (min p-value across stages)"
   ]
  },
  {
   "cell_type": "code",
   "execution_count": 38,
   "id": "3f467029",
   "metadata": {},
   "outputs": [
    {
     "data": {
      "text/html": [
       "16059303"
      ],
      "text/latex": [
       "16059303"
      ],
      "text/markdown": [
       "16059303"
      ],
      "text/plain": [
       "[1] 16059303"
      ]
     },
     "metadata": {},
     "output_type": "display_data"
    }
   ],
   "source": [
    "res$eqtl = paste0(res$feature,\"-\",res$snp_id)\n",
    "nrow(res)"
   ]
  },
  {
   "cell_type": "code",
   "execution_count": 39,
   "id": "ef842939",
   "metadata": {},
   "outputs": [
    {
     "data": {
      "text/html": [
       "5567940"
      ],
      "text/latex": [
       "5567940"
      ],
      "text/markdown": [
       "5567940"
      ],
      "text/plain": [
       "[1] 5567940"
      ]
     },
     "metadata": {},
     "output_type": "display_data"
    }
   ],
   "source": [
    "res = res[order(res$p_value),]\n",
    "res = res[-which(duplicated(res$eqtl)),]\n",
    "nrow(res)"
   ]
  },
  {
   "cell_type": "code",
   "execution_count": null,
   "id": "8753c2b6",
   "metadata": {},
   "outputs": [],
   "source": []
  },
  {
   "cell_type": "code",
   "execution_count": null,
   "id": "da0e851f",
   "metadata": {},
   "outputs": [],
   "source": [
    "##### limix QTL reproducing CellRegMap association test"
   ]
  },
  {
   "cell_type": "code",
   "execution_count": null,
   "id": "63e5cfe8",
   "metadata": {},
   "outputs": [],
   "source": [
    "# limix_qtl with two random effects (single cells, expanded K + CCt)"
   ]
  },
  {
   "cell_type": "code",
   "execution_count": 1,
   "id": "55717268",
   "metadata": {},
   "outputs": [],
   "source": [
    "mydir = \"/hps/nobackup/stegle/users/acuomo/all_scripts/struct_LMM2/sc_endodiff/debug_May2021/REVISION/limix_qtl_pipeline_Gtest/Gtest_10MOFA/\""
   ]
  },
  {
   "cell_type": "code",
   "execution_count": 5,
   "id": "b10502d7",
   "metadata": {},
   "outputs": [
    {
     "data": {
      "text/html": [
       "864"
      ],
      "text/latex": [
       "864"
      ],
      "text/markdown": [
       "864"
      ],
      "text/plain": [
       "[1] 864"
      ]
     },
     "metadata": {},
     "output_type": "display_data"
    },
    {
     "data": {
      "text/html": [
       "<table>\n",
       "<thead><tr><th scope=col>snp_id</th><th scope=col>p_value</th><th scope=col>beta</th><th scope=col>beta_se</th><th scope=col>empirical_feature_p_value</th><th scope=col>feature_chromosome</th><th scope=col>feature_start</th><th scope=col>feature_end</th><th scope=col>n_samples</th><th scope=col>n_e_samples</th><th scope=col>alpha_param</th><th scope=col>beta_param</th><th scope=col>rho</th><th scope=col>snp_chromosome</th><th scope=col>snp_position</th><th scope=col>assessed_allele</th><th scope=col>call_rate</th><th scope=col>maf</th><th scope=col>hwe_p</th><th scope=col>feature_id</th></tr></thead>\n",
       "<tbody>\n",
       "\t<tr><td>19_57703077_T_G</td><td>9.758964e-06   </td><td>-0.06163494    </td><td>0.01393437     </td><td>2.335648e-07   </td><td>19             </td><td>57702868       </td><td>57724724       </td><td>27598          </td><td>99             </td><td>1.859690       </td><td>37.35126       </td><td>0.8            </td><td>19             </td><td>57703077       </td><td>G              </td><td>1              </td><td>0.4141414      </td><td>1.00000000     </td><td>ENSG00000083844</td></tr>\n",
       "\t<tr><td>19_53816432_C_T</td><td>5.936559e-04   </td><td>-0.06402515    </td><td>0.01863979     </td><td>6.353399e-03   </td><td>19             </td><td>53662466       </td><td>53696639       </td><td>27598          </td><td>99             </td><td>1.519646       </td><td>74.48449       </td><td>0.9            </td><td>19             </td><td>53816432       </td><td>T              </td><td>1              </td><td>0.3939394      </td><td>0.09246273     </td><td>ENSG00000197497</td></tr>\n",
       "</tbody>\n",
       "</table>\n"
      ],
      "text/latex": [
       "\\begin{tabular}{r|llllllllllllllllllll}\n",
       " snp\\_id & p\\_value & beta & beta\\_se & empirical\\_feature\\_p\\_value & feature\\_chromosome & feature\\_start & feature\\_end & n\\_samples & n\\_e\\_samples & alpha\\_param & beta\\_param & rho & snp\\_chromosome & snp\\_position & assessed\\_allele & call\\_rate & maf & hwe\\_p & feature\\_id\\\\\n",
       "\\hline\n",
       "\t 19\\_57703077\\_T\\_G & 9.758964e-06          & -0.06163494           & 0.01393437            & 2.335648e-07          & 19                    & 57702868              & 57724724              & 27598                 & 99                    & 1.859690              & 37.35126              & 0.8                   & 19                    & 57703077              & G                     & 1                     & 0.4141414             & 1.00000000            & ENSG00000083844      \\\\\n",
       "\t 19\\_53816432\\_C\\_T & 5.936559e-04          & -0.06402515           & 0.01863979            & 6.353399e-03          & 19                    & 53662466              & 53696639              & 27598                 & 99                    & 1.519646              & 74.48449              & 0.9                   & 19                    & 53816432              & T                     & 1                     & 0.3939394             & 0.09246273            & ENSG00000197497      \\\\\n",
       "\\end{tabular}\n"
      ],
      "text/markdown": [
       "\n",
       "| snp_id | p_value | beta | beta_se | empirical_feature_p_value | feature_chromosome | feature_start | feature_end | n_samples | n_e_samples | alpha_param | beta_param | rho | snp_chromosome | snp_position | assessed_allele | call_rate | maf | hwe_p | feature_id |\n",
       "|---|---|---|---|---|---|---|---|---|---|---|---|---|---|---|---|---|---|---|---|\n",
       "| 19_57703077_T_G | 9.758964e-06    | -0.06163494     | 0.01393437      | 2.335648e-07    | 19              | 57702868        | 57724724        | 27598           | 99              | 1.859690        | 37.35126        | 0.8             | 19              | 57703077        | G               | 1               | 0.4141414       | 1.00000000      | ENSG00000083844 |\n",
       "| 19_53816432_C_T | 5.936559e-04    | -0.06402515     | 0.01863979      | 6.353399e-03    | 19              | 53662466        | 53696639        | 27598           | 99              | 1.519646        | 74.48449        | 0.9             | 19              | 53816432        | T               | 1               | 0.3939394       | 0.09246273      | ENSG00000197497 |\n",
       "\n"
      ],
      "text/plain": [
       "  snp_id          p_value      beta        beta_se    empirical_feature_p_value\n",
       "1 19_57703077_T_G 9.758964e-06 -0.06163494 0.01393437 2.335648e-07             \n",
       "2 19_53816432_C_T 5.936559e-04 -0.06402515 0.01863979 6.353399e-03             \n",
       "  feature_chromosome feature_start feature_end n_samples n_e_samples\n",
       "1 19                 57702868      57724724    27598     99         \n",
       "2 19                 53662466      53696639    27598     99         \n",
       "  alpha_param beta_param rho snp_chromosome snp_position assessed_allele\n",
       "1 1.859690    37.35126   0.8 19             57703077     G              \n",
       "2 1.519646    74.48449   0.9 19             53816432     T              \n",
       "  call_rate maf       hwe_p      feature_id     \n",
       "1 1         0.4141414 1.00000000 ENSG00000083844\n",
       "2 1         0.3939394 0.09246273 ENSG00000197497"
      ]
     },
     "metadata": {},
     "output_type": "display_data"
    }
   ],
   "source": [
    "myfile = paste0(mydir,\"results_mj/TestOutChr19/top_qtl_results_all.txt\")\n",
    "df = read.csv(myfile, sep=\"\\t\")\n",
    "nrow(df)\n",
    "head(df,2)"
   ]
  },
  {
   "cell_type": "code",
   "execution_count": 3,
   "id": "fc0110b2",
   "metadata": {},
   "outputs": [
    {
     "data": {
      "text/html": [
       "825"
      ],
      "text/latex": [
       "825"
      ],
      "text/markdown": [
       "825"
      ],
      "text/plain": [
       "[1] 825"
      ]
     },
     "metadata": {},
     "output_type": "display_data"
    }
   ],
   "source": [
    "length(unique(df$feature_id))"
   ]
  },
  {
   "cell_type": "code",
   "execution_count": 4,
   "id": "e9cf5923",
   "metadata": {},
   "outputs": [
    {
     "data": {
      "text/html": [
       "963276"
      ],
      "text/latex": [
       "963276"
      ],
      "text/markdown": [
       "963276"
      ],
      "text/plain": [
       "[1] 963276"
      ]
     },
     "metadata": {},
     "output_type": "display_data"
    }
   ],
   "source": [
    "myfile0 = paste0(mydir,\"results_mj/qtl_results_all.txt\")\n",
    "df0 = read.csv(myfile0, sep=\"\\t\")\n",
    "nrow(df0)\n",
    "# head(df0,2)"
   ]
  },
  {
   "cell_type": "code",
   "execution_count": 5,
   "id": "a5cbe72e",
   "metadata": {},
   "outputs": [
    {
     "data": {
      "text/html": [
       "825"
      ],
      "text/latex": [
       "825"
      ],
      "text/markdown": [
       "825"
      ],
      "text/plain": [
       "[1] 825"
      ]
     },
     "metadata": {},
     "output_type": "display_data"
    }
   ],
   "source": [
    "length(unique(df0$feature_id))"
   ]
  },
  {
   "cell_type": "code",
   "execution_count": null,
   "id": "dba82560",
   "metadata": {},
   "outputs": [],
   "source": [
    "####################\n",
    "#### merge"
   ]
  },
  {
   "cell_type": "code",
   "execution_count": 45,
   "id": "a1cbdf98",
   "metadata": {},
   "outputs": [],
   "source": [
    "genes_new = as.character(unique(df0$feature_id))\n",
    "genes_old = as.character(unique(res$ensembl_gene_id))"
   ]
  },
  {
   "cell_type": "code",
   "execution_count": 46,
   "id": "ac810ecf",
   "metadata": {},
   "outputs": [
    {
     "data": {
      "text/html": [
       "10788"
      ],
      "text/latex": [
       "10788"
      ],
      "text/markdown": [
       "10788"
      ],
      "text/plain": [
       "[1] 10788"
      ]
     },
     "metadata": {},
     "output_type": "display_data"
    },
    {
     "data": {
      "text/html": [
       "<ol class=list-inline>\n",
       "\t<li>'ENSG00000163682'</li>\n",
       "\t<li>'ENSG00000226278'</li>\n",
       "</ol>\n"
      ],
      "text/latex": [
       "\\begin{enumerate*}\n",
       "\\item 'ENSG00000163682'\n",
       "\\item 'ENSG00000226278'\n",
       "\\end{enumerate*}\n"
      ],
      "text/markdown": [
       "1. 'ENSG00000163682'\n",
       "2. 'ENSG00000226278'\n",
       "\n",
       "\n"
      ],
      "text/plain": [
       "[1] \"ENSG00000163682\" \"ENSG00000226278\""
      ]
     },
     "metadata": {},
     "output_type": "display_data"
    }
   ],
   "source": [
    "length(genes_old)\n",
    "head(genes_old,2)"
   ]
  },
  {
   "cell_type": "code",
   "execution_count": 47,
   "id": "0f878ca6",
   "metadata": {},
   "outputs": [
    {
     "data": {
      "text/html": [
       "825"
      ],
      "text/latex": [
       "825"
      ],
      "text/markdown": [
       "825"
      ],
      "text/plain": [
       "[1] 825"
      ]
     },
     "metadata": {},
     "output_type": "display_data"
    },
    {
     "data": {
      "text/html": [
       "<ol class=list-inline>\n",
       "\t<li>'ENSG00000083844'</li>\n",
       "\t<li>'ENSG00000267809'</li>\n",
       "</ol>\n"
      ],
      "text/latex": [
       "\\begin{enumerate*}\n",
       "\\item 'ENSG00000083844'\n",
       "\\item 'ENSG00000267809'\n",
       "\\end{enumerate*}\n"
      ],
      "text/markdown": [
       "1. 'ENSG00000083844'\n",
       "2. 'ENSG00000267809'\n",
       "\n",
       "\n"
      ],
      "text/plain": [
       "[1] \"ENSG00000083844\" \"ENSG00000267809\""
      ]
     },
     "metadata": {},
     "output_type": "display_data"
    }
   ],
   "source": [
    "length(genes_new)\n",
    "head(genes_new,2)"
   ]
  },
  {
   "cell_type": "code",
   "execution_count": 48,
   "id": "9f2a5f5f",
   "metadata": {},
   "outputs": [
    {
     "data": {
      "text/html": [
       "822"
      ],
      "text/latex": [
       "822"
      ],
      "text/markdown": [
       "822"
      ],
      "text/plain": [
       "[1] 822"
      ]
     },
     "metadata": {},
     "output_type": "display_data"
    }
   ],
   "source": [
    "common_genes = genes_new[genes_new %in% genes_old]\n",
    "length(common_genes)"
   ]
  },
  {
   "cell_type": "code",
   "execution_count": 49,
   "id": "c4f08780",
   "metadata": {},
   "outputs": [],
   "source": [
    "########## new leads & old results"
   ]
  },
  {
   "cell_type": "code",
   "execution_count": 51,
   "id": "8b43b8ad",
   "metadata": {},
   "outputs": [],
   "source": [
    "df$ensembl_gene_id = df$feature_id"
   ]
  },
  {
   "cell_type": "code",
   "execution_count": 52,
   "id": "56487862",
   "metadata": {},
   "outputs": [],
   "source": [
    "df1 = inner_join(df,res, by=c(\"ensembl_gene_id\",\"snp_id\"), suffix = c(\".new\",\".old\"))"
   ]
  },
  {
   "cell_type": "code",
   "execution_count": 53,
   "id": "5d245228",
   "metadata": {},
   "outputs": [
    {
     "data": {
      "text/html": [
       "437"
      ],
      "text/latex": [
       "437"
      ],
      "text/markdown": [
       "437"
      ],
      "text/plain": [
       "[1] 437"
      ]
     },
     "metadata": {},
     "output_type": "display_data"
    }
   ],
   "source": [
    "nrow(df1)"
   ]
  },
  {
   "cell_type": "code",
   "execution_count": 58,
   "id": "37abfb75",
   "metadata": {},
   "outputs": [
    {
     "data": {
      "text/plain": [
       "\n",
       "\tPearson's product-moment correlation\n",
       "\n",
       "data:  -log10(df1$p_value.new) and -log10(df1$p_value.old)\n",
       "t = 16.439, df = 435, p-value < 2.2e-16\n",
       "alternative hypothesis: true correlation is not equal to 0\n",
       "95 percent confidence interval:\n",
       " 0.5576044 0.6737137\n",
       "sample estimates:\n",
       "      cor \n",
       "0.6190301 \n"
      ]
     },
     "metadata": {},
     "output_type": "display_data"
    }
   ],
   "source": [
    "cor.test(-log10(df1$p_value.new),-log10(df1$p_value.old))"
   ]
  },
  {
   "cell_type": "code",
   "execution_count": 73,
   "id": "329ee17f",
   "metadata": {},
   "outputs": [
    {
     "data": {
      "image/png": "[encoded data removed]",
      "text/plain": [
       "plot without title"
      ]
     },
     "metadata": {},
     "output_type": "display_data"
    }
   ],
   "source": [
    "options(repr.plot.width = 5, repr.plot.height = 5)\n",
    "ggplot(df1, aes(x=-log10(p_value.new),y=-log10(p_value.old))) + geom_point() + theme_bw() + geom_abline()"
   ]
  },
  {
   "cell_type": "code",
   "execution_count": null,
   "id": "67f8829c",
   "metadata": {},
   "outputs": [],
   "source": [
    "########## old leads & new results"
   ]
  },
  {
   "cell_type": "code",
   "execution_count": 60,
   "id": "9c3da967",
   "metadata": {},
   "outputs": [],
   "source": [
    "df0$ensembl_gene_id = df0$feature_id\n",
    "df2 = inner_join(df0,leads, by=c(\"ensembl_gene_id\",\"snp_id\"), suffix = c(\".new\",\".old\"))"
   ]
  },
  {
   "cell_type": "code",
   "execution_count": 61,
   "id": "98f836c8",
   "metadata": {},
   "outputs": [
    {
     "data": {
      "text/html": [
       "815"
      ],
      "text/latex": [
       "815"
      ],
      "text/markdown": [
       "815"
      ],
      "text/plain": [
       "[1] 815"
      ]
     },
     "metadata": {},
     "output_type": "display_data"
    }
   ],
   "source": [
    "nrow(df2)"
   ]
  },
  {
   "cell_type": "code",
   "execution_count": 62,
   "id": "8d8d5462",
   "metadata": {},
   "outputs": [
    {
     "data": {
      "text/plain": [
       "\n",
       "\tPearson's product-moment correlation\n",
       "\n",
       "data:  -log10(df2$p_value.new) and -log10(df2$p_value.old)\n",
       "t = 41.019, df = 813, p-value < 2.2e-16\n",
       "alternative hypothesis: true correlation is not equal to 0\n",
       "95 percent confidence interval:\n",
       " 0.7974013 0.8422883\n",
       "sample estimates:\n",
       "      cor \n",
       "0.8211103 \n"
      ]
     },
     "metadata": {},
     "output_type": "display_data"
    }
   ],
   "source": [
    "cor.test(-log10(df2$p_value.new),-log10(df2$p_value.old))"
   ]
  },
  {
   "cell_type": "code",
   "execution_count": 72,
   "id": "67d19718",
   "metadata": {},
   "outputs": [
    {
     "data": {
      "image/png": "[encoded data removed]",
      "text/plain": [
       "plot without title"
      ]
     },
     "metadata": {},
     "output_type": "display_data"
    }
   ],
   "source": [
    "ggplot(df2, aes(x=-log10(p_value.new),y=-log10(p_value.old))) + geom_point() + theme_bw() + geom_abline()"
   ]
  },
  {
   "cell_type": "code",
   "execution_count": null,
   "id": "1516e378",
   "metadata": {},
   "outputs": [],
   "source": [
    "########## old & new results"
   ]
  },
  {
   "cell_type": "code",
   "execution_count": 64,
   "id": "37fb6525",
   "metadata": {},
   "outputs": [],
   "source": [
    "df3 = inner_join(df0,res, by=c(\"ensembl_gene_id\",\"snp_id\"), suffix = c(\".new\",\".old\"))"
   ]
  },
  {
   "cell_type": "code",
   "execution_count": 65,
   "id": "2cbbcbe5",
   "metadata": {},
   "outputs": [
    {
     "data": {
      "text/html": [
       "400662"
      ],
      "text/latex": [
       "400662"
      ],
      "text/markdown": [
       "400662"
      ],
      "text/plain": [
       "[1] 400662"
      ]
     },
     "metadata": {},
     "output_type": "display_data"
    }
   ],
   "source": [
    "nrow(df3)"
   ]
  },
  {
   "cell_type": "code",
   "execution_count": 66,
   "id": "6dc6dbc4",
   "metadata": {},
   "outputs": [
    {
     "data": {
      "text/plain": [
       "\n",
       "\tPearson's product-moment correlation\n",
       "\n",
       "data:  -log10(df3$p_value.new) and -log10(df3$p_value.old)\n",
       "t = 606.25, df = 400660, p-value < 2.2e-16\n",
       "alternative hypothesis: true correlation is not equal to 0\n",
       "95 percent confidence interval:\n",
       " 0.6900771 0.6933070\n",
       "sample estimates:\n",
       "      cor \n",
       "0.6916955 \n"
      ]
     },
     "metadata": {},
     "output_type": "display_data"
    }
   ],
   "source": [
    "cor.test(-log10(df3$p_value.new),-log10(df3$p_value.old))"
   ]
  },
  {
   "cell_type": "code",
   "execution_count": 71,
   "id": "8458b889",
   "metadata": {},
   "outputs": [
    {
     "data": {
      "image/png": "[encoded data removed]",
      "text/plain": [
       "plot without title"
      ]
     },
     "metadata": {},
     "output_type": "display_data"
    }
   ],
   "source": [
    "ggplot(df3, aes(x=-log10(p_value.new),y=-log10(p_value.old))) + geom_point() + theme_bw() + geom_abline()"
   ]
  },
  {
   "cell_type": "code",
   "execution_count": 82,
   "id": "f1bd7940",
   "metadata": {},
   "outputs": [
    {
     "data": {
      "text/html": [
       "<table>\n",
       "<thead><tr><th></th><th scope=col>feature_id</th><th scope=col>snp_id</th><th scope=col>p_value.new</th><th scope=col>p_value.old</th><th scope=col>beta.new</th><th scope=col>beta.old</th></tr></thead>\n",
       "<tbody>\n",
       "\t<tr><th scope=row>95359</th><td>ENSG00000142534</td><td>19_50014977_G_A</td><td>4.590556e-48   </td><td>0.0127212      </td><td> 0.9765529     </td><td> 0.14362828    </td></tr>\n",
       "\t<tr><th scope=row>95360</th><td>ENSG00000142534</td><td>19_49966394_C_T</td><td>1.385978e-35   </td><td>0.1558861      </td><td> 0.7112633     </td><td> 0.06157825    </td></tr>\n",
       "\t<tr><th scope=row>95361</th><td>ENSG00000142534</td><td>19_50055209_G_A</td><td>1.722373e-31   </td><td>0.4740234      </td><td> 0.7021791     </td><td>-0.03876508    </td></tr>\n",
       "\t<tr><th scope=row>139137</th><td>ENSG00000105426</td><td>19_5233070_T_C </td><td>9.511993e-21   </td><td>0.2135479      </td><td> 0.6647556     </td><td> 0.07731829    </td></tr>\n",
       "\t<tr><th scope=row>139138</th><td>ENSG00000105426</td><td>19_5192372_C_G </td><td>6.607784e-18   </td><td>0.2559733      </td><td>-0.5790160     </td><td>-0.10891169    </td></tr>\n",
       "</tbody>\n",
       "</table>\n"
      ],
      "text/latex": [
       "\\begin{tabular}{r|llllll}\n",
       "  & feature\\_id & snp\\_id & p\\_value.new & p\\_value.old & beta.new & beta.old\\\\\n",
       "\\hline\n",
       "\t95359 & ENSG00000142534       & 19\\_50014977\\_G\\_A & 4.590556e-48          & 0.0127212             &  0.9765529            &  0.14362828          \\\\\n",
       "\t95360 & ENSG00000142534       & 19\\_49966394\\_C\\_T & 1.385978e-35          & 0.1558861             &  0.7112633            &  0.06157825          \\\\\n",
       "\t95361 & ENSG00000142534       & 19\\_50055209\\_G\\_A & 1.722373e-31          & 0.4740234             &  0.7021791            & -0.03876508          \\\\\n",
       "\t139137 & ENSG00000105426       & 19\\_5233070\\_T\\_C  & 9.511993e-21          & 0.2135479             &  0.6647556            &  0.07731829          \\\\\n",
       "\t139138 & ENSG00000105426       & 19\\_5192372\\_C\\_G  & 6.607784e-18          & 0.2559733             & -0.5790160            & -0.10891169          \\\\\n",
       "\\end{tabular}\n"
      ],
      "text/markdown": [
       "\n",
       "| <!--/--> | feature_id | snp_id | p_value.new | p_value.old | beta.new | beta.old |\n",
       "|---|---|---|---|---|---|---|\n",
       "| 95359 | ENSG00000142534 | 19_50014977_G_A | 4.590556e-48    | 0.0127212       |  0.9765529      |  0.14362828     |\n",
       "| 95360 | ENSG00000142534 | 19_49966394_C_T | 1.385978e-35    | 0.1558861       |  0.7112633      |  0.06157825     |\n",
       "| 95361 | ENSG00000142534 | 19_50055209_G_A | 1.722373e-31    | 0.4740234       |  0.7021791      | -0.03876508     |\n",
       "| 139137 | ENSG00000105426 | 19_5233070_T_C  | 9.511993e-21    | 0.2135479       |  0.6647556      |  0.07731829     |\n",
       "| 139138 | ENSG00000105426 | 19_5192372_C_G  | 6.607784e-18    | 0.2559733       | -0.5790160      | -0.10891169     |\n",
       "\n"
      ],
      "text/plain": [
       "       feature_id      snp_id          p_value.new  p_value.old beta.new  \n",
       "95359  ENSG00000142534 19_50014977_G_A 4.590556e-48 0.0127212    0.9765529\n",
       "95360  ENSG00000142534 19_49966394_C_T 1.385978e-35 0.1558861    0.7112633\n",
       "95361  ENSG00000142534 19_50055209_G_A 1.722373e-31 0.4740234    0.7021791\n",
       "139137 ENSG00000105426 19_5233070_T_C  9.511993e-21 0.2135479    0.6647556\n",
       "139138 ENSG00000105426 19_5192372_C_G  6.607784e-18 0.2559733   -0.5790160\n",
       "       beta.old   \n",
       "95359   0.14362828\n",
       "95360   0.06157825\n",
       "95361  -0.03876508\n",
       "139137  0.07731829\n",
       "139138 -0.10891169"
      ]
     },
     "metadata": {},
     "output_type": "display_data"
    }
   ],
   "source": [
    "df3[-log10(df3$p_value.new)>15 & -log10(df3$p_value.old)<5,\n",
    "    c(\"feature_id\",\"snp_id\",\"p_value.new\",\"p_value.old\",\"beta.new\",\"beta.old\")]"
   ]
  },
  {
   "cell_type": "code",
   "execution_count": null,
   "id": "9df9df3e",
   "metadata": {},
   "outputs": [],
   "source": [
    "###### look these up in betaGxE results?"
   ]
  },
  {
   "cell_type": "code",
   "execution_count": 76,
   "id": "bf0a5f31",
   "metadata": {},
   "outputs": [
    {
     "data": {
      "text/html": [
       "<table>\n",
       "<thead><tr><th></th><th scope=col>ENSG00000005059_CCDC109B_.4_110648632_T_A</th><th scope=col>ENSG00000006016_CRLF1_.19_18735221_G_T</th><th scope=col>ENSG00000006459_KDM7A_.7_139913409_G_A</th><th scope=col>ENSG00000013297_CLDN11_.3_170402765_T_C</th><th scope=col>ENSG00000021300_PLEKHB1_.11_73339784_G_A</th><th scope=col>ENSG00000029639_TFB1M_.6_155635808_C_G</th><th scope=col>ENSG00000033178_UBA6_.4_68480525_C_T</th><th scope=col>ENSG00000035115_SH3YL1_.2_256116_G_T</th><th scope=col>ENSG00000059377_TBXAS1_.7_139547370_G_A</th><th scope=col>ENSG00000063761_ADCK1_.14_78311319_G_A</th><th scope=col>...</th><th scope=col>ENSG00000248098_BCKDHA_.19_41937095_G_A</th><th scope=col>ENSG00000248124_RRN3P1_.16_21818292_A_C</th><th scope=col>ENSG00000250317_SMIM20_.4_25918516_A_G</th><th scope=col>ENSG00000253203_GUSBP3_.5_68922087_T_G</th><th scope=col>ENSG00000254184_TYW1B_.7_72200923_G_A</th><th scope=col>ENSG00000256018_HIST1H3G_.6_26198845_G_C</th><th scope=col>ENSG00000256073_C21orf119_.21_33728588_C_A</th><th scope=col>ENSG00000259024_TVP23C.CDRT4_.17_15434991_C_T</th><th scope=col>ENSG00000259803_SLC22A31_.16_89234110_G_C</th><th scope=col>ENSG00000267323_SLC25A1P5_.19_28298186_T_C</th></tr></thead>\n",
       "<tbody>\n",
       "\t<tr><th scope=row>21843_1#10</th><td>-0.02336156 </td><td> 0.037167263</td><td>-0.029627685</td><td>0.18296979  </td><td>-0.03793941 </td><td>-0.029324411</td><td> 0.031398501</td><td>-0.03962300 </td><td>0.08013833  </td><td>0.027498382 </td><td>...         </td><td>-0.08185803 </td><td>-0.10862369 </td><td>-0.10317566 </td><td>-0.048543205</td><td>0.095111678 </td><td>-0.002571070</td><td>-0.055608331</td><td>0.1931245   </td><td>-0.06168149 </td><td> 0.054686251</td></tr>\n",
       "\t<tr><th scope=row>21843_1#100</th><td>-0.04797379 </td><td>-0.002567715</td><td>-0.050303678</td><td>0.14204539  </td><td>-0.06425603 </td><td>-0.017894114</td><td>-0.064683766</td><td>-0.08820444 </td><td>0.23273882  </td><td>0.040375905 </td><td>...         </td><td>-0.16133495 </td><td>-0.45571807 </td><td>-0.09858982 </td><td>-0.095641305</td><td>0.007662211 </td><td>-0.001386594</td><td>-0.094118770</td><td>0.2614240   </td><td>-0.16271379 </td><td>-0.037051849</td></tr>\n",
       "\t<tr><th scope=row>21843_1#101</th><td>-0.01707154 </td><td>-0.038323702</td><td> 0.001072175</td><td>0.05068042  </td><td>-0.04211749 </td><td>-0.028163711</td><td>-0.079442257</td><td>-0.05854781 </td><td>0.14245545  </td><td>0.019225081 </td><td>...         </td><td>-0.08464140 </td><td>-0.22917228 </td><td>-0.08647358 </td><td>-0.027566411</td><td>0.030433187 </td><td>-0.038522875</td><td>-0.007152012</td><td>0.1489600   </td><td>-0.08467373 </td><td>-0.001068028</td></tr>\n",
       "\t<tr><th scope=row>21843_1#102</th><td>-0.06849843 </td><td> 0.029141143</td><td> 0.006591071</td><td>0.27772236  </td><td> 0.05210891 </td><td>-0.039448204</td><td> 0.002744249</td><td>-0.08783030 </td><td>0.06083871  </td><td>0.034590880 </td><td>...         </td><td>-0.05465162 </td><td>-0.09382258 </td><td>-0.12475134 </td><td>-0.009728905</td><td>0.052761776 </td><td>-0.008942713</td><td>-0.024298554</td><td>0.2108875   </td><td>-0.06577307 </td><td> 0.020432219</td></tr>\n",
       "\t<tr><th scope=row>21843_1#103</th><td>-0.02065975 </td><td> 0.017882432</td><td>-0.019780588</td><td>0.12713250  </td><td>-0.04432031 </td><td>-0.010911430</td><td>-0.024407791</td><td>-0.03931027 </td><td>0.06883815  </td><td>0.009218694 </td><td>...         </td><td>-0.04543236 </td><td>-0.13128624 </td><td>-0.06491895 </td><td>-0.033262391</td><td>0.063575007 </td><td> 0.044047100</td><td>-0.037472203</td><td>0.1392061   </td><td>-0.06160699 </td><td> 0.047756355</td></tr>\n",
       "\t<tr><th scope=row>21843_1#105</th><td> 0.03203034 </td><td> 0.029327187</td><td>-0.015424171</td><td>0.13315777  </td><td>-0.03401761 </td><td>-0.004702419</td><td>-0.075634975</td><td>-0.02003224 </td><td>0.09548422  </td><td>0.003292832 </td><td>...         </td><td>-0.08535482 </td><td>-0.14593277 </td><td>-0.07771164 </td><td>-0.053617513</td><td>0.141638220 </td><td> 0.019637691</td><td> 0.041395040</td><td>0.1576655   </td><td>-0.03509197 </td><td> 0.113248113</td></tr>\n",
       "</tbody>\n",
       "</table>\n"
      ],
      "text/latex": [
       "\\begin{tabular}{r|llllllllllllllllllllllllllllllllllllllllllllllllllllllllllllllllllllllllllllllllllllllllllllllllllllllllllllllllllllllllllllllllllllllllllllllllllllllllllllllllllllllllllllllllllllllllllllllllllllllllllllllllllllllllllllllllllllllllllllllllllllllllllllllllllllllllllllllllllllllllllllllllllllllllllllllllllllllllllllllllll}\n",
       "  & ENSG00000005059\\_CCDC109B\\_.4\\_110648632\\_T\\_A & ENSG00000006016\\_CRLF1\\_.19\\_18735221\\_G\\_T & ENSG00000006459\\_KDM7A\\_.7\\_139913409\\_G\\_A & ENSG00000013297\\_CLDN11\\_.3\\_170402765\\_T\\_C & ENSG00000021300\\_PLEKHB1\\_.11\\_73339784\\_G\\_A & ENSG00000029639\\_TFB1M\\_.6\\_155635808\\_C\\_G & ENSG00000033178\\_UBA6\\_.4\\_68480525\\_C\\_T & ENSG00000035115\\_SH3YL1\\_.2\\_256116\\_G\\_T & ENSG00000059377\\_TBXAS1\\_.7\\_139547370\\_G\\_A & ENSG00000063761\\_ADCK1\\_.14\\_78311319\\_G\\_A & ... & ENSG00000248098\\_BCKDHA\\_.19\\_41937095\\_G\\_A & ENSG00000248124\\_RRN3P1\\_.16\\_21818292\\_A\\_C & ENSG00000250317\\_SMIM20\\_.4\\_25918516\\_A\\_G & ENSG00000253203\\_GUSBP3\\_.5\\_68922087\\_T\\_G & ENSG00000254184\\_TYW1B\\_.7\\_72200923\\_G\\_A & ENSG00000256018\\_HIST1H3G\\_.6\\_26198845\\_G\\_C & ENSG00000256073\\_C21orf119\\_.21\\_33728588\\_C\\_A & ENSG00000259024\\_TVP23C.CDRT4\\_.17\\_15434991\\_C\\_T & ENSG00000259803\\_SLC22A31\\_.16\\_89234110\\_G\\_C & ENSG00000267323\\_SLC25A1P5\\_.19\\_28298186\\_T\\_C\\\\\n",
       "\\hline\n",
       "\t21843\\_1\\#10 & -0.02336156  &  0.037167263 & -0.029627685 & 0.18296979   & -0.03793941  & -0.029324411 &  0.031398501 & -0.03962300  & 0.08013833   & 0.027498382  & ...          & -0.08185803  & -0.10862369  & -0.10317566  & -0.048543205 & 0.095111678  & -0.002571070 & -0.055608331 & 0.1931245    & -0.06168149  &  0.054686251\\\\\n",
       "\t21843\\_1\\#100 & -0.04797379  & -0.002567715 & -0.050303678 & 0.14204539   & -0.06425603  & -0.017894114 & -0.064683766 & -0.08820444  & 0.23273882   & 0.040375905  & ...          & -0.16133495  & -0.45571807  & -0.09858982  & -0.095641305 & 0.007662211  & -0.001386594 & -0.094118770 & 0.2614240    & -0.16271379  & -0.037051849\\\\\n",
       "\t21843\\_1\\#101 & -0.01707154  & -0.038323702 &  0.001072175 & 0.05068042   & -0.04211749  & -0.028163711 & -0.079442257 & -0.05854781  & 0.14245545   & 0.019225081  & ...          & -0.08464140  & -0.22917228  & -0.08647358  & -0.027566411 & 0.030433187  & -0.038522875 & -0.007152012 & 0.1489600    & -0.08467373  & -0.001068028\\\\\n",
       "\t21843\\_1\\#102 & -0.06849843  &  0.029141143 &  0.006591071 & 0.27772236   &  0.05210891  & -0.039448204 &  0.002744249 & -0.08783030  & 0.06083871   & 0.034590880  & ...          & -0.05465162  & -0.09382258  & -0.12475134  & -0.009728905 & 0.052761776  & -0.008942713 & -0.024298554 & 0.2108875    & -0.06577307  &  0.020432219\\\\\n",
       "\t21843\\_1\\#103 & -0.02065975  &  0.017882432 & -0.019780588 & 0.12713250   & -0.04432031  & -0.010911430 & -0.024407791 & -0.03931027  & 0.06883815   & 0.009218694  & ...          & -0.04543236  & -0.13128624  & -0.06491895  & -0.033262391 & 0.063575007  &  0.044047100 & -0.037472203 & 0.1392061    & -0.06160699  &  0.047756355\\\\\n",
       "\t21843\\_1\\#105 &  0.03203034  &  0.029327187 & -0.015424171 & 0.13315777   & -0.03401761  & -0.004702419 & -0.075634975 & -0.02003224  & 0.09548422   & 0.003292832  & ...          & -0.08535482  & -0.14593277  & -0.07771164  & -0.053617513 & 0.141638220  &  0.019637691 &  0.041395040 & 0.1576655    & -0.03509197  &  0.113248113\\\\\n",
       "\\end{tabular}\n"
      ],
      "text/markdown": [
       "\n",
       "| <!--/--> | ENSG00000005059_CCDC109B_.4_110648632_T_A | ENSG00000006016_CRLF1_.19_18735221_G_T | ENSG00000006459_KDM7A_.7_139913409_G_A | ENSG00000013297_CLDN11_.3_170402765_T_C | ENSG00000021300_PLEKHB1_.11_73339784_G_A | ENSG00000029639_TFB1M_.6_155635808_C_G | ENSG00000033178_UBA6_.4_68480525_C_T | ENSG00000035115_SH3YL1_.2_256116_G_T | ENSG00000059377_TBXAS1_.7_139547370_G_A | ENSG00000063761_ADCK1_.14_78311319_G_A | ... | ENSG00000248098_BCKDHA_.19_41937095_G_A | ENSG00000248124_RRN3P1_.16_21818292_A_C | ENSG00000250317_SMIM20_.4_25918516_A_G | ENSG00000253203_GUSBP3_.5_68922087_T_G | ENSG00000254184_TYW1B_.7_72200923_G_A | ENSG00000256018_HIST1H3G_.6_26198845_G_C | ENSG00000256073_C21orf119_.21_33728588_C_A | ENSG00000259024_TVP23C.CDRT4_.17_15434991_C_T | ENSG00000259803_SLC22A31_.16_89234110_G_C | ENSG00000267323_SLC25A1P5_.19_28298186_T_C |\n",
       "|---|---|---|---|---|---|---|---|---|---|---|---|---|---|---|---|---|---|---|---|---|---|\n",
       "| 21843_1#10 | -0.02336156  |  0.037167263 | -0.029627685 | 0.18296979   | -0.03793941  | -0.029324411 |  0.031398501 | -0.03962300  | 0.08013833   | 0.027498382  | ...          | -0.08185803  | -0.10862369  | -0.10317566  | -0.048543205 | 0.095111678  | -0.002571070 | -0.055608331 | 0.1931245    | -0.06168149  |  0.054686251 |\n",
       "| 21843_1#100 | -0.04797379  | -0.002567715 | -0.050303678 | 0.14204539   | -0.06425603  | -0.017894114 | -0.064683766 | -0.08820444  | 0.23273882   | 0.040375905  | ...          | -0.16133495  | -0.45571807  | -0.09858982  | -0.095641305 | 0.007662211  | -0.001386594 | -0.094118770 | 0.2614240    | -0.16271379  | -0.037051849 |\n",
       "| 21843_1#101 | -0.01707154  | -0.038323702 |  0.001072175 | 0.05068042   | -0.04211749  | -0.028163711 | -0.079442257 | -0.05854781  | 0.14245545   | 0.019225081  | ...          | -0.08464140  | -0.22917228  | -0.08647358  | -0.027566411 | 0.030433187  | -0.038522875 | -0.007152012 | 0.1489600    | -0.08467373  | -0.001068028 |\n",
       "| 21843_1#102 | -0.06849843  |  0.029141143 |  0.006591071 | 0.27772236   |  0.05210891  | -0.039448204 |  0.002744249 | -0.08783030  | 0.06083871   | 0.034590880  | ...          | -0.05465162  | -0.09382258  | -0.12475134  | -0.009728905 | 0.052761776  | -0.008942713 | -0.024298554 | 0.2108875    | -0.06577307  |  0.020432219 |\n",
       "| 21843_1#103 | -0.02065975  |  0.017882432 | -0.019780588 | 0.12713250   | -0.04432031  | -0.010911430 | -0.024407791 | -0.03931027  | 0.06883815   | 0.009218694  | ...          | -0.04543236  | -0.13128624  | -0.06491895  | -0.033262391 | 0.063575007  |  0.044047100 | -0.037472203 | 0.1392061    | -0.06160699  |  0.047756355 |\n",
       "| 21843_1#105 |  0.03203034  |  0.029327187 | -0.015424171 | 0.13315777   | -0.03401761  | -0.004702419 | -0.075634975 | -0.02003224  | 0.09548422   | 0.003292832  | ...          | -0.08535482  | -0.14593277  | -0.07771164  | -0.053617513 | 0.141638220  |  0.019637691 |  0.041395040 | 0.1576655    | -0.03509197  |  0.113248113 |\n",
       "\n"
      ],
      "text/plain": [
       "            ENSG00000005059_CCDC109B_.4_110648632_T_A\n",
       "21843_1#10  -0.02336156                              \n",
       "21843_1#100 -0.04797379                              \n",
       "21843_1#101 -0.01707154                              \n",
       "21843_1#102 -0.06849843                              \n",
       "21843_1#103 -0.02065975                              \n",
       "21843_1#105  0.03203034                              \n",
       "            ENSG00000006016_CRLF1_.19_18735221_G_T\n",
       "21843_1#10   0.037167263                          \n",
       "21843_1#100 -0.002567715                          \n",
       "21843_1#101 -0.038323702                          \n",
       "21843_1#102  0.029141143                          \n",
       "21843_1#103  0.017882432                          \n",
       "21843_1#105  0.029327187                          \n",
       "            ENSG00000006459_KDM7A_.7_139913409_G_A\n",
       "21843_1#10  -0.029627685                          \n",
       "21843_1#100 -0.050303678                          \n",
       "21843_1#101  0.001072175                          \n",
       "21843_1#102  0.006591071                          \n",
       "21843_1#103 -0.019780588                          \n",
       "21843_1#105 -0.015424171                          \n",
       "            ENSG00000013297_CLDN11_.3_170402765_T_C\n",
       "21843_1#10  0.18296979                             \n",
       "21843_1#100 0.14204539                             \n",
       "21843_1#101 0.05068042                             \n",
       "21843_1#102 0.27772236                             \n",
       "21843_1#103 0.12713250                             \n",
       "21843_1#105 0.13315777                             \n",
       "            ENSG00000021300_PLEKHB1_.11_73339784_G_A\n",
       "21843_1#10  -0.03793941                             \n",
       "21843_1#100 -0.06425603                             \n",
       "21843_1#101 -0.04211749                             \n",
       "21843_1#102  0.05210891                             \n",
       "21843_1#103 -0.04432031                             \n",
       "21843_1#105 -0.03401761                             \n",
       "            ENSG00000029639_TFB1M_.6_155635808_C_G\n",
       "21843_1#10  -0.029324411                          \n",
       "21843_1#100 -0.017894114                          \n",
       "21843_1#101 -0.028163711                          \n",
       "21843_1#102 -0.039448204                          \n",
       "21843_1#103 -0.010911430                          \n",
       "21843_1#105 -0.004702419                          \n",
       "            ENSG00000033178_UBA6_.4_68480525_C_T\n",
       "21843_1#10   0.031398501                        \n",
       "21843_1#100 -0.064683766                        \n",
       "21843_1#101 -0.079442257                        \n",
       "21843_1#102  0.002744249                        \n",
       "21843_1#103 -0.024407791                        \n",
       "21843_1#105 -0.075634975                        \n",
       "            ENSG00000035115_SH3YL1_.2_256116_G_T\n",
       "21843_1#10  -0.03962300                         \n",
       "21843_1#100 -0.08820444                         \n",
       "21843_1#101 -0.05854781                         \n",
       "21843_1#102 -0.08783030                         \n",
       "21843_1#103 -0.03931027                         \n",
       "21843_1#105 -0.02003224                         \n",
       "            ENSG00000059377_TBXAS1_.7_139547370_G_A\n",
       "21843_1#10  0.08013833                             \n",
       "21843_1#100 0.23273882                             \n",
       "21843_1#101 0.14245545                             \n",
       "21843_1#102 0.06083871                             \n",
       "21843_1#103 0.06883815                             \n",
       "21843_1#105 0.09548422                             \n",
       "            ENSG00000063761_ADCK1_.14_78311319_G_A ...\n",
       "21843_1#10  0.027498382                            ...\n",
       "21843_1#100 0.040375905                            ...\n",
       "21843_1#101 0.019225081                            ...\n",
       "21843_1#102 0.034590880                            ...\n",
       "21843_1#103 0.009218694                            ...\n",
       "21843_1#105 0.003292832                            ...\n",
       "            ENSG00000248098_BCKDHA_.19_41937095_G_A\n",
       "21843_1#10  -0.08185803                            \n",
       "21843_1#100 -0.16133495                            \n",
       "21843_1#101 -0.08464140                            \n",
       "21843_1#102 -0.05465162                            \n",
       "21843_1#103 -0.04543236                            \n",
       "21843_1#105 -0.08535482                            \n",
       "            ENSG00000248124_RRN3P1_.16_21818292_A_C\n",
       "21843_1#10  -0.10862369                            \n",
       "21843_1#100 -0.45571807                            \n",
       "21843_1#101 -0.22917228                            \n",
       "21843_1#102 -0.09382258                            \n",
       "21843_1#103 -0.13128624                            \n",
       "21843_1#105 -0.14593277                            \n",
       "            ENSG00000250317_SMIM20_.4_25918516_A_G\n",
       "21843_1#10  -0.10317566                           \n",
       "21843_1#100 -0.09858982                           \n",
       "21843_1#101 -0.08647358                           \n",
       "21843_1#102 -0.12475134                           \n",
       "21843_1#103 -0.06491895                           \n",
       "21843_1#105 -0.07771164                           \n",
       "            ENSG00000253203_GUSBP3_.5_68922087_T_G\n",
       "21843_1#10  -0.048543205                          \n",
       "21843_1#100 -0.095641305                          \n",
       "21843_1#101 -0.027566411                          \n",
       "21843_1#102 -0.009728905                          \n",
       "21843_1#103 -0.033262391                          \n",
       "21843_1#105 -0.053617513                          \n",
       "            ENSG00000254184_TYW1B_.7_72200923_G_A\n",
       "21843_1#10  0.095111678                          \n",
       "21843_1#100 0.007662211                          \n",
       "21843_1#101 0.030433187                          \n",
       "21843_1#102 0.052761776                          \n",
       "21843_1#103 0.063575007                          \n",
       "21843_1#105 0.141638220                          \n",
       "            ENSG00000256018_HIST1H3G_.6_26198845_G_C\n",
       "21843_1#10  -0.002571070                            \n",
       "21843_1#100 -0.001386594                            \n",
       "21843_1#101 -0.038522875                            \n",
       "21843_1#102 -0.008942713                            \n",
       "21843_1#103  0.044047100                            \n",
       "21843_1#105  0.019637691                            \n",
       "            ENSG00000256073_C21orf119_.21_33728588_C_A\n",
       "21843_1#10  -0.055608331                              \n",
       "21843_1#100 -0.094118770                              \n",
       "21843_1#101 -0.007152012                              \n",
       "21843_1#102 -0.024298554                              \n",
       "21843_1#103 -0.037472203                              \n",
       "21843_1#105  0.041395040                              \n",
       "            ENSG00000259024_TVP23C.CDRT4_.17_15434991_C_T\n",
       "21843_1#10  0.1931245                                    \n",
       "21843_1#100 0.2614240                                    \n",
       "21843_1#101 0.1489600                                    \n",
       "21843_1#102 0.2108875                                    \n",
       "21843_1#103 0.1392061                                    \n",
       "21843_1#105 0.1576655                                    \n",
       "            ENSG00000259803_SLC22A31_.16_89234110_G_C\n",
       "21843_1#10  -0.06168149                              \n",
       "21843_1#100 -0.16271379                              \n",
       "21843_1#101 -0.08467373                              \n",
       "21843_1#102 -0.06577307                              \n",
       "21843_1#103 -0.06160699                              \n",
       "21843_1#105 -0.03509197                              \n",
       "            ENSG00000267323_SLC25A1P5_.19_28298186_T_C\n",
       "21843_1#10   0.054686251                              \n",
       "21843_1#100 -0.037051849                              \n",
       "21843_1#101 -0.001068028                              \n",
       "21843_1#102  0.020432219                              \n",
       "21843_1#103  0.047756355                              \n",
       "21843_1#105  0.113248113                              "
      ]
     },
     "metadata": {},
     "output_type": "display_data"
    }
   ],
   "source": [
    "df_beta = read.csv(\"/hps/nobackup/stegle/users/acuomo/all_scripts/struct_LMM2/sc_endodiff/debug_May2021/genetic_effect/MOFA10/eqtl_tot_genetic_effect_all.txt\", sep=\"\\t\",row.names = 1)\n",
    "head(df_beta)"
   ]
  },
  {
   "cell_type": "code",
   "execution_count": 81,
   "id": "a59b492b",
   "metadata": {
    "scrolled": true
   },
   "outputs": [
    {
     "data": {
      "text/html": [],
      "text/latex": [],
      "text/markdown": [],
      "text/plain": [
       "integer(0)"
      ]
     },
     "metadata": {},
     "output_type": "display_data"
    },
    {
     "data": {
      "text/html": [],
      "text/latex": [],
      "text/markdown": [],
      "text/plain": [
       "integer(0)"
      ]
     },
     "metadata": {},
     "output_type": "display_data"
    }
   ],
   "source": [
    "grep(\"RPS11\",colnames(df_beta))\n",
    "grep(\"PTPRS\",colnames(df_beta))"
   ]
  },
  {
   "cell_type": "code",
   "execution_count": null,
   "id": "f05dcfa5",
   "metadata": {},
   "outputs": [],
   "source": []
  },
  {
   "cell_type": "code",
   "execution_count": null,
   "id": "3eb6f056",
   "metadata": {},
   "outputs": [],
   "source": []
  },
  {
   "cell_type": "code",
   "execution_count": null,
   "id": "8584e795",
   "metadata": {},
   "outputs": [],
   "source": [
    "####################### gaussianised"
   ]
  },
  {
   "cell_type": "code",
   "execution_count": 24,
   "id": "03c72213",
   "metadata": {},
   "outputs": [],
   "source": [
    "gauss_folder = \"/hps/nobackup/stegle/users/acuomo/all_scripts/struct_LMM2/sc_endodiff/debug_May2021/REVISION/limix_qtl_pipeline_Gtest/Gtest_10MOFA/results_mj/TestOutChr19_Gauss/\""
   ]
  },
  {
   "cell_type": "code",
   "execution_count": 25,
   "id": "accd53cc",
   "metadata": {},
   "outputs": [
    {
     "data": {
      "text/html": [
       "<ol class=list-inline>\n",
       "\t<li>'Perm'</li>\n",
       "\t<li>'permutationInformation.txt'</li>\n",
       "\t<li>'qtl_results_all.txt'</li>\n",
       "\t<li>'top_qtl_results_all.txt'</li>\n",
       "</ol>\n"
      ],
      "text/latex": [
       "\\begin{enumerate*}\n",
       "\\item 'Perm'\n",
       "\\item 'permutationInformation.txt'\n",
       "\\item 'qtl\\_results\\_all.txt'\n",
       "\\item 'top\\_qtl\\_results\\_all.txt'\n",
       "\\end{enumerate*}\n"
      ],
      "text/markdown": [
       "1. 'Perm'\n",
       "2. 'permutationInformation.txt'\n",
       "3. 'qtl_results_all.txt'\n",
       "4. 'top_qtl_results_all.txt'\n",
       "\n",
       "\n"
      ],
      "text/plain": [
       "[1] \"Perm\"                       \"permutationInformation.txt\"\n",
       "[3] \"qtl_results_all.txt\"        \"top_qtl_results_all.txt\"   "
      ]
     },
     "metadata": {},
     "output_type": "display_data"
    }
   ],
   "source": [
    "list.files(gauss_folder)"
   ]
  },
  {
   "cell_type": "code",
   "execution_count": 26,
   "id": "bfdca34f",
   "metadata": {},
   "outputs": [],
   "source": [
    "perm_filename = paste0(gauss_folder,'permutationInformation.txt')\n",
    "df_p = read.csv(perm_filename, sep=\"\\t\")"
   ]
  },
  {
   "cell_type": "code",
   "execution_count": 27,
   "id": "8de4176b",
   "metadata": {},
   "outputs": [
    {
     "data": {
      "image/png": "[encoded data removed]",
      "text/plain": [
       "plot without title"
      ]
     },
     "metadata": {},
     "output_type": "display_data"
    }
   ],
   "source": [
    "df_p$pv_uniform = runif(dim(df_p)[1], min = 0, max = 1)\n",
    "p1 = ggplot(df_p, aes(x = sort(-log10(pv_uniform)), y = sort(-log10(permutation_0)))) + \n",
    "        geom_abline(slope = 1, intercept = 0, col = \"firebrick\") +\n",
    "        geom_point(alpha = 0.5, pch = 1) + xlab(\"-log10(expected p-values)\") + ylab(\"-log10(permuted p-values)\") +\n",
    "        theme_bw() + \n",
    "        theme(legend.position=\"none\", panel.border = element_blank())\n",
    "p1"
   ]
  },
  {
   "cell_type": "code",
   "execution_count": null,
   "id": "f5777af5",
   "metadata": {},
   "outputs": [],
   "source": [
    "####################### permutations"
   ]
  },
  {
   "cell_type": "code",
   "execution_count": 1,
   "id": "91c3ebe2",
   "metadata": {},
   "outputs": [],
   "source": [
    "perm_filename = \"/hps/nobackup/stegle/users/acuomo/all_scripts/struct_LMM2/sc_endodiff/debug_May2021/REVISION/limix_qtl_pipeline_Gtest/Gtest_10MOFA/results_mj/TestOutChr19/Perm/permutationInformation.txt\""
   ]
  },
  {
   "cell_type": "code",
   "execution_count": 2,
   "id": "5a414d71",
   "metadata": {},
   "outputs": [
    {
     "data": {
      "text/html": [
       "<table>\n",
       "<thead><tr><th scope=col>permutation_0</th><th scope=col>permutation_1</th><th scope=col>permutation_2</th><th scope=col>permutation_3</th><th scope=col>permutation_4</th><th scope=col>permutation_5</th><th scope=col>permutation_6</th><th scope=col>permutation_7</th><th scope=col>permutation_8</th><th scope=col>permutation_9</th><th scope=col>snp_id</th><th scope=col>feature</th><th scope=col>QTL</th></tr></thead>\n",
       "<tbody>\n",
       "\t<tr><td>0.3968642                    </td><td>0.1572322                    </td><td>0.6636137                    </td><td>0.6048414                    </td><td>0.2296011                    </td><td>0.4366199                    </td><td>0.8005798                    </td><td>0.2582176                    </td><td>0.4278385                    </td><td>0.4159007                    </td><td>19_226776_C_T                </td><td>ENSG00000225373              </td><td>19_226776_C_T-ENSG00000225373</td></tr>\n",
       "\t<tr><td>0.5495692                    </td><td>0.8175322                    </td><td>0.5967550                    </td><td>0.3545064                    </td><td>0.4021758                    </td><td>0.5639303                    </td><td>0.9012174                    </td><td>0.1638183                    </td><td>0.1198824                    </td><td>0.4415691                    </td><td>19_240867_A_C                </td><td>ENSG00000225373              </td><td>19_240867_A_C-ENSG00000225373</td></tr>\n",
       "\t<tr><td>0.8810182                    </td><td>0.5456809                    </td><td>0.7888184                    </td><td>0.2943725                    </td><td>0.2266230                    </td><td>0.9829922                    </td><td>0.7687514                    </td><td>0.3142120                    </td><td>0.2097647                    </td><td>0.3697653                    </td><td>19_244421_A_G                </td><td>ENSG00000225373              </td><td>19_244421_A_G-ENSG00000225373</td></tr>\n",
       "\t<tr><td>0.8810182                    </td><td>0.5456809                    </td><td>0.7888184                    </td><td>0.2943725                    </td><td>0.2266230                    </td><td>0.9829922                    </td><td>0.7687514                    </td><td>0.3142120                    </td><td>0.2097647                    </td><td>0.3697653                    </td><td>19_244426_C_T                </td><td>ENSG00000225373              </td><td>19_244426_C_T-ENSG00000225373</td></tr>\n",
       "\t<tr><td>0.9707168                    </td><td>0.3380196                    </td><td>0.9632803                    </td><td>0.3076609                    </td><td>0.5091291                    </td><td>0.7668432                    </td><td>0.5451516                    </td><td>0.2318570                    </td><td>0.1780557                    </td><td>0.2542763                    </td><td>19_245631_C_T                </td><td>ENSG00000225373              </td><td>19_245631_C_T-ENSG00000225373</td></tr>\n",
       "\t<tr><td>0.9375692                    </td><td>0.4902079                    </td><td>0.8255577                    </td><td>0.2721282                    </td><td>0.2470866                    </td><td>0.8593799                    </td><td>0.6996990                    </td><td>0.2883479                    </td><td>0.1671771                    </td><td>0.3223684                    </td><td>19_245844_A_G                </td><td>ENSG00000225373              </td><td>19_245844_A_G-ENSG00000225373</td></tr>\n",
       "</tbody>\n",
       "</table>\n"
      ],
      "text/latex": [
       "\\begin{tabular}{r|lllllllllllll}\n",
       " permutation\\_0 & permutation\\_1 & permutation\\_2 & permutation\\_3 & permutation\\_4 & permutation\\_5 & permutation\\_6 & permutation\\_7 & permutation\\_8 & permutation\\_9 & snp\\_id & feature & QTL\\\\\n",
       "\\hline\n",
       "\t 0.3968642                           & 0.1572322                           & 0.6636137                           & 0.6048414                           & 0.2296011                           & 0.4366199                           & 0.8005798                           & 0.2582176                           & 0.4278385                           & 0.4159007                           & 19\\_226776\\_C\\_T                 & ENSG00000225373                     & 19\\_226776\\_C\\_T-ENSG00000225373\\\\\n",
       "\t 0.5495692                           & 0.8175322                           & 0.5967550                           & 0.3545064                           & 0.4021758                           & 0.5639303                           & 0.9012174                           & 0.1638183                           & 0.1198824                           & 0.4415691                           & 19\\_240867\\_A\\_C                 & ENSG00000225373                     & 19\\_240867\\_A\\_C-ENSG00000225373\\\\\n",
       "\t 0.8810182                           & 0.5456809                           & 0.7888184                           & 0.2943725                           & 0.2266230                           & 0.9829922                           & 0.7687514                           & 0.3142120                           & 0.2097647                           & 0.3697653                           & 19\\_244421\\_A\\_G                 & ENSG00000225373                     & 19\\_244421\\_A\\_G-ENSG00000225373\\\\\n",
       "\t 0.8810182                           & 0.5456809                           & 0.7888184                           & 0.2943725                           & 0.2266230                           & 0.9829922                           & 0.7687514                           & 0.3142120                           & 0.2097647                           & 0.3697653                           & 19\\_244426\\_C\\_T                 & ENSG00000225373                     & 19\\_244426\\_C\\_T-ENSG00000225373\\\\\n",
       "\t 0.9707168                           & 0.3380196                           & 0.9632803                           & 0.3076609                           & 0.5091291                           & 0.7668432                           & 0.5451516                           & 0.2318570                           & 0.1780557                           & 0.2542763                           & 19\\_245631\\_C\\_T                 & ENSG00000225373                     & 19\\_245631\\_C\\_T-ENSG00000225373\\\\\n",
       "\t 0.9375692                           & 0.4902079                           & 0.8255577                           & 0.2721282                           & 0.2470866                           & 0.8593799                           & 0.6996990                           & 0.2883479                           & 0.1671771                           & 0.3223684                           & 19\\_245844\\_A\\_G                 & ENSG00000225373                     & 19\\_245844\\_A\\_G-ENSG00000225373\\\\\n",
       "\\end{tabular}\n"
      ],
      "text/markdown": [
       "\n",
       "| permutation_0 | permutation_1 | permutation_2 | permutation_3 | permutation_4 | permutation_5 | permutation_6 | permutation_7 | permutation_8 | permutation_9 | snp_id | feature | QTL |\n",
       "|---|---|---|---|---|---|---|---|---|---|---|---|---|\n",
       "| 0.3968642                     | 0.1572322                     | 0.6636137                     | 0.6048414                     | 0.2296011                     | 0.4366199                     | 0.8005798                     | 0.2582176                     | 0.4278385                     | 0.4159007                     | 19_226776_C_T                 | ENSG00000225373               | 19_226776_C_T-ENSG00000225373 |\n",
       "| 0.5495692                     | 0.8175322                     | 0.5967550                     | 0.3545064                     | 0.4021758                     | 0.5639303                     | 0.9012174                     | 0.1638183                     | 0.1198824                     | 0.4415691                     | 19_240867_A_C                 | ENSG00000225373               | 19_240867_A_C-ENSG00000225373 |\n",
       "| 0.8810182                     | 0.5456809                     | 0.7888184                     | 0.2943725                     | 0.2266230                     | 0.9829922                     | 0.7687514                     | 0.3142120                     | 0.2097647                     | 0.3697653                     | 19_244421_A_G                 | ENSG00000225373               | 19_244421_A_G-ENSG00000225373 |\n",
       "| 0.8810182                     | 0.5456809                     | 0.7888184                     | 0.2943725                     | 0.2266230                     | 0.9829922                     | 0.7687514                     | 0.3142120                     | 0.2097647                     | 0.3697653                     | 19_244426_C_T                 | ENSG00000225373               | 19_244426_C_T-ENSG00000225373 |\n",
       "| 0.9707168                     | 0.3380196                     | 0.9632803                     | 0.3076609                     | 0.5091291                     | 0.7668432                     | 0.5451516                     | 0.2318570                     | 0.1780557                     | 0.2542763                     | 19_245631_C_T                 | ENSG00000225373               | 19_245631_C_T-ENSG00000225373 |\n",
       "| 0.9375692                     | 0.4902079                     | 0.8255577                     | 0.2721282                     | 0.2470866                     | 0.8593799                     | 0.6996990                     | 0.2883479                     | 0.1671771                     | 0.3223684                     | 19_245844_A_G                 | ENSG00000225373               | 19_245844_A_G-ENSG00000225373 |\n",
       "\n"
      ],
      "text/plain": [
       "  permutation_0 permutation_1 permutation_2 permutation_3 permutation_4\n",
       "1 0.3968642     0.1572322     0.6636137     0.6048414     0.2296011    \n",
       "2 0.5495692     0.8175322     0.5967550     0.3545064     0.4021758    \n",
       "3 0.8810182     0.5456809     0.7888184     0.2943725     0.2266230    \n",
       "4 0.8810182     0.5456809     0.7888184     0.2943725     0.2266230    \n",
       "5 0.9707168     0.3380196     0.9632803     0.3076609     0.5091291    \n",
       "6 0.9375692     0.4902079     0.8255577     0.2721282     0.2470866    \n",
       "  permutation_5 permutation_6 permutation_7 permutation_8 permutation_9\n",
       "1 0.4366199     0.8005798     0.2582176     0.4278385     0.4159007    \n",
       "2 0.5639303     0.9012174     0.1638183     0.1198824     0.4415691    \n",
       "3 0.9829922     0.7687514     0.3142120     0.2097647     0.3697653    \n",
       "4 0.9829922     0.7687514     0.3142120     0.2097647     0.3697653    \n",
       "5 0.7668432     0.5451516     0.2318570     0.1780557     0.2542763    \n",
       "6 0.8593799     0.6996990     0.2883479     0.1671771     0.3223684    \n",
       "  snp_id        feature         QTL                          \n",
       "1 19_226776_C_T ENSG00000225373 19_226776_C_T-ENSG00000225373\n",
       "2 19_240867_A_C ENSG00000225373 19_240867_A_C-ENSG00000225373\n",
       "3 19_244421_A_G ENSG00000225373 19_244421_A_G-ENSG00000225373\n",
       "4 19_244426_C_T ENSG00000225373 19_244426_C_T-ENSG00000225373\n",
       "5 19_245631_C_T ENSG00000225373 19_245631_C_T-ENSG00000225373\n",
       "6 19_245844_A_G ENSG00000225373 19_245844_A_G-ENSG00000225373"
      ]
     },
     "metadata": {},
     "output_type": "display_data"
    }
   ],
   "source": [
    "df_p = read.csv(perm_filename, sep=\"\\t\")\n",
    "head(df_p)"
   ]
  },
  {
   "cell_type": "code",
   "execution_count": 13,
   "id": "29713877",
   "metadata": {},
   "outputs": [
    {
     "data": {
      "text/html": [
       "855"
      ],
      "text/latex": [
       "855"
      ],
      "text/markdown": [
       "855"
      ],
      "text/plain": [
       "[1] 855"
      ]
     },
     "metadata": {},
     "output_type": "display_data"
    }
   ],
   "source": [
    "length(unique(df_p$feature))"
   ]
  },
  {
   "cell_type": "code",
   "execution_count": 14,
   "id": "5585aba4",
   "metadata": {},
   "outputs": [
    {
     "data": {
      "text/html": [
       "10788"
      ],
      "text/latex": [
       "10788"
      ],
      "text/markdown": [
       "10788"
      ],
      "text/plain": [
       "[1] 10788"
      ]
     },
     "metadata": {},
     "output_type": "display_data"
    }
   ],
   "source": [
    "features = unique(leads$ensembl_gene_id)\n",
    "length(features)"
   ]
  },
  {
   "cell_type": "code",
   "execution_count": 15,
   "id": "bf93e001",
   "metadata": {},
   "outputs": [
    {
     "data": {
      "text/html": [
       "852"
      ],
      "text/latex": [
       "852"
      ],
      "text/markdown": [
       "852"
      ],
      "text/plain": [
       "[1] 852"
      ]
     },
     "metadata": {},
     "output_type": "display_data"
    }
   ],
   "source": [
    "df_p = df_p[df_p$feature %in% features,]\n",
    "length(unique(df_p$feature))"
   ]
  },
  {
   "cell_type": "code",
   "execution_count": 17,
   "id": "522fb5f5",
   "metadata": {},
   "outputs": [],
   "source": [
    "df_p = df_p[-which(duplicated(df_p$feature)),]"
   ]
  },
  {
   "cell_type": "code",
   "execution_count": 19,
   "id": "b33c9f65",
   "metadata": {},
   "outputs": [
    {
     "data": {
      "image/png": "[encoded data removed]",
      "text/plain": [
       "plot without title"
      ]
     },
     "metadata": {},
     "output_type": "display_data"
    }
   ],
   "source": [
    "df_p$pv_uniform = runif(dim(df_p)[1], min = 0, max = 1)\n",
    "p1 = ggplot(df_p, aes(x = sort(-log10(pv_uniform)), y = sort(-log10(permutation_9)))) + \n",
    "        geom_abline(slope = 1, intercept = 0, col = \"firebrick\") +\n",
    "        geom_point(alpha = 0.5, pch = 1) + xlab(\"-log10(expected p-values)\") + ylab(\"-log10(permuted p-values)\") +\n",
    "        theme_bw() + \n",
    "        theme(legend.position=\"none\", panel.border = element_blank())\n",
    "p1"
   ]
  },
  {
   "cell_type": "code",
   "execution_count": null,
   "id": "f8dcd84a",
   "metadata": {},
   "outputs": [],
   "source": [
    "df = results\n",
    "df$pv_uniform = runif(dim(df)[1], min = 0, max = 1)\n",
    "p1 = ggplot(df, aes(x = sort(-log10(pv_uniform)), y = sort(-log10(permutation_3)))) + \n",
    "        geom_abline(slope = 1, intercept = 0, col = \"firebrick\") +\n",
    "        geom_point(alpha = 0.5, pch = 1) + xlab(\"-log10(expected p-values)\") + ylab(\"-log10(permuted p-values)\") +\n",
    "        theme_bw() + \n",
    "        theme(legend.position=\"none\", panel.border = element_blank())\n",
    "p2 = ggplot(df) + \n",
    "        geom_abline(slope = 1, intercept = 0, col = \"firebrick\") +\n",
    "        geom_point(alpha = 0.5, pch = 1, aes(x = sort(-log10(pv_uniform)), y = sort(-log10(permutation_3)))) +\n",
    "        geom_point(color = \"cornflowerblue\", alpha = 0.5, pch = 1, \n",
    "                   aes(x = sort(-log10(pv_uniform)), y = sort(-log10(p_value)))) + \n",
    "        xlab(\"-log10(expected p-values)\") + ylab(\"-log10(observed p-values)\") + \n",
    "        theme_bw() + \n",
    "        theme(legend.position=\"none\", panel.border = element_blank())\n",
    "options(repr.plot.width = 10, repr.plot.height = 4) \n",
    "library(cowplot)\n",
    "plot_grid(p1, p2, ncol = 2)"
   ]
  }
 ],
 "metadata": {
  "kernelspec": {
   "display_name": "R",
   "language": "R",
   "name": "ir"
  },
  "language_info": {
   "codemirror_mode": "r",
   "file_extension": ".r",
   "mimetype": "text/x-r-source",
   "name": "R",
   "pygments_lexer": "r",
   "version": "3.6.1"
  }
 },
 "nbformat": 4,
 "nbformat_minor": 5
}
