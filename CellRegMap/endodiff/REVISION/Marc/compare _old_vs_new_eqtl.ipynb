{
 "cells": [
  {
   "cell_type": "code",
   "execution_count": 2,
   "id": "d9d0bbf0",
   "metadata": {},
   "outputs": [],
   "source": [
    "library(dplyr)\n",
    "library(ggplot2)"
   ]
  },
  {
   "cell_type": "code",
   "execution_count": 3,
   "id": "40582c22",
   "metadata": {},
   "outputs": [],
   "source": [
    "# v0: union of ips + mesendo + defendo eQTL (pseudobulk, expanded K, FDR<10%)"
   ]
  },
  {
   "cell_type": "code",
   "execution_count": 4,
   "id": "cbd6926a",
   "metadata": {},
   "outputs": [],
   "source": [
    "# load lead variant results sc stages (iPS, mesendo, defendo)\n",
    "leads.ips = read.csv(\"/nfs/leia/research/stegle/acuomo/mean/day0/all_expts/leads.csv\", row.names = 1)\n",
    "leads.mes = read.csv(\"/nfs/leia/research/stegle/acuomo/mean/mesendo_est_June20/leads.csv\", row.names = 1)\n",
    "leads.defendo = read.csv(\"/nfs/leia/research/stegle/acuomo/mean/defendo_est_June20/leads.csv\", row.names = 1)"
   ]
  },
  {
   "cell_type": "code",
   "execution_count": 5,
   "id": "04221730",
   "metadata": {},
   "outputs": [
    {
     "data": {
      "text/html": [
       "10840"
      ],
      "text/latex": [
       "10840"
      ],
      "text/markdown": [
       "10840"
      ],
      "text/plain": [
       "[1] 10840"
      ]
     },
     "metadata": {},
     "output_type": "display_data"
    }
   ],
   "source": [
    "leads.ips.sign = leads.ips[leads.ips$global_corr_p_value < 1,]\n",
    "nrow(leads.ips.sign)"
   ]
  },
  {
   "cell_type": "code",
   "execution_count": 6,
   "id": "1472a784",
   "metadata": {},
   "outputs": [
    {
     "data": {
      "text/html": [
       "10924"
      ],
      "text/latex": [
       "10924"
      ],
      "text/markdown": [
       "10924"
      ],
      "text/plain": [
       "[1] 10924"
      ]
     },
     "metadata": {},
     "output_type": "display_data"
    }
   ],
   "source": [
    "leads.mes.sign = leads.mes[leads.mes$global_corr_p_value < 1,]\n",
    "nrow(leads.mes.sign)"
   ]
  },
  {
   "cell_type": "code",
   "execution_count": 7,
   "id": "c189aa58",
   "metadata": {},
   "outputs": [
    {
     "data": {
      "text/html": [
       "10901"
      ],
      "text/latex": [
       "10901"
      ],
      "text/markdown": [
       "10901"
      ],
      "text/plain": [
       "[1] 10901"
      ]
     },
     "metadata": {},
     "output_type": "display_data"
    }
   ],
   "source": [
    "leads.defendo.sign = leads.defendo[leads.defendo$global_corr_p_value < 1,]\n",
    "nrow(leads.defendo.sign)"
   ]
  },
  {
   "cell_type": "code",
   "execution_count": 8,
   "id": "a4d41cc0",
   "metadata": {},
   "outputs": [],
   "source": [
    "leads.ips.sign$stage = \"ips\"\n",
    "leads.mes.sign$stage = \"mesendo\"\n",
    "leads.defendo.sign$stage = \"defendo\""
   ]
  },
  {
   "cell_type": "code",
   "execution_count": 9,
   "id": "dba68350",
   "metadata": {},
   "outputs": [
    {
     "data": {
      "text/html": [
       "<ol class=list-inline>\n",
       "\t<li>'beta'</li>\n",
       "\t<li>'beta_se'</li>\n",
       "\t<li>'empirical_feature_p_value'</li>\n",
       "\t<li>'p_value'</li>\n",
       "\t<li>'snp_id'</li>\n",
       "\t<li>'feature'</li>\n",
       "\t<li>'global_corr_p_value'</li>\n",
       "\t<li>'chrom'</li>\n",
       "\t<li>'pos'</li>\n",
       "\t<li>'ref_allele'</li>\n",
       "\t<li>'alt_allele'</li>\n",
       "\t<li>'permutation_0'</li>\n",
       "\t<li>'permutation_1'</li>\n",
       "\t<li>'permutation_2'</li>\n",
       "\t<li>'permutation_3'</li>\n",
       "\t<li>'permutation_4'</li>\n",
       "\t<li>'permutation_5'</li>\n",
       "\t<li>'permutation_6'</li>\n",
       "\t<li>'permutation_7'</li>\n",
       "\t<li>'permutation_8'</li>\n",
       "\t<li>'permutation_9'</li>\n",
       "\t<li>'stage'</li>\n",
       "</ol>\n"
      ],
      "text/latex": [
       "\\begin{enumerate*}\n",
       "\\item 'beta'\n",
       "\\item 'beta\\_se'\n",
       "\\item 'empirical\\_feature\\_p\\_value'\n",
       "\\item 'p\\_value'\n",
       "\\item 'snp\\_id'\n",
       "\\item 'feature'\n",
       "\\item 'global\\_corr\\_p\\_value'\n",
       "\\item 'chrom'\n",
       "\\item 'pos'\n",
       "\\item 'ref\\_allele'\n",
       "\\item 'alt\\_allele'\n",
       "\\item 'permutation\\_0'\n",
       "\\item 'permutation\\_1'\n",
       "\\item 'permutation\\_2'\n",
       "\\item 'permutation\\_3'\n",
       "\\item 'permutation\\_4'\n",
       "\\item 'permutation\\_5'\n",
       "\\item 'permutation\\_6'\n",
       "\\item 'permutation\\_7'\n",
       "\\item 'permutation\\_8'\n",
       "\\item 'permutation\\_9'\n",
       "\\item 'stage'\n",
       "\\end{enumerate*}\n"
      ],
      "text/markdown": [
       "1. 'beta'\n",
       "2. 'beta_se'\n",
       "3. 'empirical_feature_p_value'\n",
       "4. 'p_value'\n",
       "5. 'snp_id'\n",
       "6. 'feature'\n",
       "7. 'global_corr_p_value'\n",
       "8. 'chrom'\n",
       "9. 'pos'\n",
       "10. 'ref_allele'\n",
       "11. 'alt_allele'\n",
       "12. 'permutation_0'\n",
       "13. 'permutation_1'\n",
       "14. 'permutation_2'\n",
       "15. 'permutation_3'\n",
       "16. 'permutation_4'\n",
       "17. 'permutation_5'\n",
       "18. 'permutation_6'\n",
       "19. 'permutation_7'\n",
       "20. 'permutation_8'\n",
       "21. 'permutation_9'\n",
       "22. 'stage'\n",
       "\n",
       "\n"
      ],
      "text/plain": [
       " [1] \"beta\"                      \"beta_se\"                  \n",
       " [3] \"empirical_feature_p_value\" \"p_value\"                  \n",
       " [5] \"snp_id\"                    \"feature\"                  \n",
       " [7] \"global_corr_p_value\"       \"chrom\"                    \n",
       " [9] \"pos\"                       \"ref_allele\"               \n",
       "[11] \"alt_allele\"                \"permutation_0\"            \n",
       "[13] \"permutation_1\"             \"permutation_2\"            \n",
       "[15] \"permutation_3\"             \"permutation_4\"            \n",
       "[17] \"permutation_5\"             \"permutation_6\"            \n",
       "[19] \"permutation_7\"             \"permutation_8\"            \n",
       "[21] \"permutation_9\"             \"stage\"                    "
      ]
     },
     "metadata": {},
     "output_type": "display_data"
    }
   ],
   "source": [
    "colnames(leads.ips.sign)"
   ]
  },
  {
   "cell_type": "code",
   "execution_count": 10,
   "id": "ba21687a",
   "metadata": {},
   "outputs": [],
   "source": [
    "cols = c(\"snp_id\",\"feature\",\"stage\",\"p_value\",\"beta\",\"global_corr_p_value\")"
   ]
  },
  {
   "cell_type": "code",
   "execution_count": 11,
   "id": "28578a6c",
   "metadata": {},
   "outputs": [],
   "source": [
    "endo_eqtl = rbind(leads.ips.sign[,cols], \n",
    "                 leads.mes.sign[,cols],\n",
    "                 leads.defendo.sign[,cols])"
   ]
  },
  {
   "cell_type": "code",
   "execution_count": 12,
   "id": "e686b789",
   "metadata": {},
   "outputs": [
    {
     "data": {
      "text/html": [
       "<table>\n",
       "<thead><tr><th scope=col>snp_id</th><th scope=col>feature</th><th scope=col>stage</th><th scope=col>p_value</th><th scope=col>beta</th><th scope=col>global_corr_p_value</th></tr></thead>\n",
       "<tbody>\n",
       "\t<tr><td>5_149826526_C_T       </td><td>ENSG00000164587_RPS14 </td><td>ips                   </td><td>3.851118e-36          </td><td>-1.0048674            </td><td>2.880363e-30          </td></tr>\n",
       "\t<tr><td>11_57283988_C_T       </td><td>ENSG00000134809_TIMM10</td><td>ips                   </td><td>3.147553e-30          </td><td>-0.9881017            </td><td>8.853960e-23          </td></tr>\n",
       "</tbody>\n",
       "</table>\n"
      ],
      "text/latex": [
       "\\begin{tabular}{r|llllll}\n",
       " snp\\_id & feature & stage & p\\_value & beta & global\\_corr\\_p\\_value\\\\\n",
       "\\hline\n",
       "\t 5\\_149826526\\_C\\_T    & ENSG00000164587\\_RPS14  & ips                      & 3.851118e-36             & -1.0048674               & 2.880363e-30            \\\\\n",
       "\t 11\\_57283988\\_C\\_T    & ENSG00000134809\\_TIMM10 & ips                      & 3.147553e-30             & -0.9881017               & 8.853960e-23            \\\\\n",
       "\\end{tabular}\n"
      ],
      "text/markdown": [
       "\n",
       "| snp_id | feature | stage | p_value | beta | global_corr_p_value |\n",
       "|---|---|---|---|---|---|\n",
       "| 5_149826526_C_T        | ENSG00000164587_RPS14  | ips                    | 3.851118e-36           | -1.0048674             | 2.880363e-30           |\n",
       "| 11_57283988_C_T        | ENSG00000134809_TIMM10 | ips                    | 3.147553e-30           | -0.9881017             | 8.853960e-23           |\n",
       "\n"
      ],
      "text/plain": [
       "  snp_id          feature                stage p_value      beta      \n",
       "1 5_149826526_C_T ENSG00000164587_RPS14  ips   3.851118e-36 -1.0048674\n",
       "2 11_57283988_C_T ENSG00000134809_TIMM10 ips   3.147553e-30 -0.9881017\n",
       "  global_corr_p_value\n",
       "1 2.880363e-30       \n",
       "2 8.853960e-23       "
      ]
     },
     "metadata": {},
     "output_type": "display_data"
    }
   ],
   "source": [
    "head(endo_eqtl,2)"
   ]
  },
  {
   "cell_type": "code",
   "execution_count": 13,
   "id": "88d904df",
   "metadata": {},
   "outputs": [],
   "source": [
    "# v0: CellRegMap (single cells, expanded K*CCt + CCt)"
   ]
  },
  {
   "cell_type": "code",
   "execution_count": 14,
   "id": "2d4bccd3",
   "metadata": {},
   "outputs": [],
   "source": [
    "mydir = \"/hps/nobackup/stegle/users/acuomo/all_scripts/struct_LMM2/sc_endodiff/debug_May2021/REVISION/CellRegMap_Gtest/MOFA/\""
   ]
  },
  {
   "cell_type": "code",
   "execution_count": 15,
   "id": "91d7132d",
   "metadata": {},
   "outputs": [
    {
     "data": {
      "text/html": [
       "2236"
      ],
      "text/latex": [
       "2236"
      ],
      "text/markdown": [
       "2236"
      ],
      "text/plain": [
       "[1] 2236"
      ]
     },
     "metadata": {},
     "output_type": "display_data"
    },
    {
     "data": {
      "text/html": [
       "<table>\n",
       "<thead><tr><th></th><th scope=col>gene</th><th scope=col>n_snps</th><th scope=col>chrom</th><th scope=col>pv_raw</th><th scope=col>snpID</th><th scope=col>pv</th><th scope=col>feature</th><th scope=col>snp_id</th><th scope=col>p_value</th></tr></thead>\n",
       "<tbody>\n",
       "\t<tr><th scope=row>0</th><td>ENSG00000011523_CEP68</td><td>2                    </td><td>2                    </td><td>6.092514e-06         </td><td>2_65279223_C_T       </td><td>1.218503e-05         </td><td>ENSG00000011523_CEP68</td><td>2_65279223_C_T       </td><td>1.218503e-05         </td></tr>\n",
       "\t<tr><th scope=row>1</th><td>ENSG00000011523_CEP68</td><td>2                    </td><td>2                    </td><td>2.872373e-06         </td><td>2_65290842_C_A       </td><td>5.744745e-06         </td><td>ENSG00000011523_CEP68</td><td>2_65290842_C_A       </td><td>5.744745e-06         </td></tr>\n",
       "</tbody>\n",
       "</table>\n"
      ],
      "text/latex": [
       "\\begin{tabular}{r|lllllllll}\n",
       "  & gene & n\\_snps & chrom & pv\\_raw & snpID & pv & feature & snp\\_id & p\\_value\\\\\n",
       "\\hline\n",
       "\t0 & ENSG00000011523\\_CEP68 & 2                       & 2                       & 6.092514e-06            & 2\\_65279223\\_C\\_T    & 1.218503e-05            & ENSG00000011523\\_CEP68 & 2\\_65279223\\_C\\_T    & 1.218503e-05           \\\\\n",
       "\t1 & ENSG00000011523\\_CEP68 & 2                       & 2                       & 2.872373e-06            & 2\\_65290842\\_C\\_A    & 5.744745e-06            & ENSG00000011523\\_CEP68 & 2\\_65290842\\_C\\_A    & 5.744745e-06           \\\\\n",
       "\\end{tabular}\n"
      ],
      "text/markdown": [
       "\n",
       "| <!--/--> | gene | n_snps | chrom | pv_raw | snpID | pv | feature | snp_id | p_value |\n",
       "|---|---|---|---|---|---|---|---|---|---|\n",
       "| 0 | ENSG00000011523_CEP68 | 2                     | 2                     | 6.092514e-06          | 2_65279223_C_T        | 1.218503e-05          | ENSG00000011523_CEP68 | 2_65279223_C_T        | 1.218503e-05          |\n",
       "| 1 | ENSG00000011523_CEP68 | 2                     | 2                     | 2.872373e-06          | 2_65290842_C_A        | 5.744745e-06          | ENSG00000011523_CEP68 | 2_65290842_C_A        | 5.744745e-06          |\n",
       "\n"
      ],
      "text/plain": [
       "  gene                  n_snps chrom pv_raw       snpID          pv          \n",
       "0 ENSG00000011523_CEP68 2      2     6.092514e-06 2_65279223_C_T 1.218503e-05\n",
       "1 ENSG00000011523_CEP68 2      2     2.872373e-06 2_65290842_C_A 5.744745e-06\n",
       "  feature               snp_id         p_value     \n",
       "0 ENSG00000011523_CEP68 2_65279223_C_T 1.218503e-05\n",
       "1 ENSG00000011523_CEP68 2_65290842_C_A 5.744745e-06"
      ]
     },
     "metadata": {},
     "output_type": "display_data"
    }
   ],
   "source": [
    "res_file = paste0(mydir, \"summary.csv\")\n",
    "res = read.csv(res_file, row.names=1)\n",
    "nrow(res)\n",
    "res$feature = res$gene\n",
    "res$snp_id = res$snpID\n",
    "res$p_value = res$pv\n",
    "head(res,2)"
   ]
  },
  {
   "cell_type": "code",
   "execution_count": 16,
   "id": "27b2ad4f",
   "metadata": {},
   "outputs": [
    {
     "data": {
      "image/png": "[encoded data removed]",
      "text/plain": [
       "Plot with title “Histogram of res$pv”"
      ]
     },
     "metadata": {},
     "output_type": "display_data"
    }
   ],
   "source": [
    "hist(res$pv)"
   ]
  },
  {
   "cell_type": "code",
   "execution_count": 17,
   "id": "56cd31d2",
   "metadata": {},
   "outputs": [],
   "source": [
    "cols = c(\"feature\",\"snp_id\",\"p_value\")\n",
    "df = inner_join(endo_eqtl[,cols], res[,cols], by = c(\"feature\",\"snp_id\"), suffix=c(\".old\",\".new\"))"
   ]
  },
  {
   "cell_type": "code",
   "execution_count": 18,
   "id": "00301cea",
   "metadata": {},
   "outputs": [
    {
     "data": {
      "text/html": [
       "<table>\n",
       "<thead><tr><th scope=col>feature</th><th scope=col>snp_id</th><th scope=col>p_value.old</th><th scope=col>p_value.new</th></tr></thead>\n",
       "<tbody>\n",
       "\t<tr><td>ENSG00000163682_RPL9  </td><td>4_39446549_G_A        </td><td>2.553619e-46          </td><td>2.225074e-308         </td></tr>\n",
       "\t<tr><td>ENSG00000189266_PNRC2 </td><td>1_24364016_T_C        </td><td>2.749088e-24          </td><td>2.225074e-308         </td></tr>\n",
       "\t<tr><td>ENSG00000186230_ZNF749</td><td>19_57939619_C_T       </td><td>4.595999e-28          </td><td>1.552269e-288         </td></tr>\n",
       "\t<tr><td>ENSG00000233927_RPS28 </td><td>19_8387207_G_A        </td><td>1.060863e-36          </td><td>2.225074e-308         </td></tr>\n",
       "\t<tr><td>ENSG00000076924_XAB2  </td><td>19_7675917_C_G        </td><td>1.796718e-31          </td><td>4.450148e-308         </td></tr>\n",
       "\t<tr><td>ENSG00000229150_CRYGEP</td><td>2_208977797_G_T       </td><td>3.356299e-24          </td><td>7.060338e-134         </td></tr>\n",
       "</tbody>\n",
       "</table>\n"
      ],
      "text/latex": [
       "\\begin{tabular}{r|llll}\n",
       " feature & snp\\_id & p\\_value.old & p\\_value.new\\\\\n",
       "\\hline\n",
       "\t ENSG00000163682\\_RPL9   & 4\\_39446549\\_G\\_A     & 2.553619e-46             & 2.225074e-308           \\\\\n",
       "\t ENSG00000189266\\_PNRC2  & 1\\_24364016\\_T\\_C     & 2.749088e-24             & 2.225074e-308           \\\\\n",
       "\t ENSG00000186230\\_ZNF749 & 19\\_57939619\\_C\\_T    & 4.595999e-28             & 1.552269e-288           \\\\\n",
       "\t ENSG00000233927\\_RPS28  & 19\\_8387207\\_G\\_A     & 1.060863e-36             & 2.225074e-308           \\\\\n",
       "\t ENSG00000076924\\_XAB2   & 19\\_7675917\\_C\\_G     & 1.796718e-31             & 4.450148e-308           \\\\\n",
       "\t ENSG00000229150\\_CRYGEP & 2\\_208977797\\_G\\_T    & 3.356299e-24             & 7.060338e-134           \\\\\n",
       "\\end{tabular}\n"
      ],
      "text/markdown": [
       "\n",
       "| feature | snp_id | p_value.old | p_value.new |\n",
       "|---|---|---|---|\n",
       "| ENSG00000163682_RPL9   | 4_39446549_G_A         | 2.553619e-46           | 2.225074e-308          |\n",
       "| ENSG00000189266_PNRC2  | 1_24364016_T_C         | 2.749088e-24           | 2.225074e-308          |\n",
       "| ENSG00000186230_ZNF749 | 19_57939619_C_T        | 4.595999e-28           | 1.552269e-288          |\n",
       "| ENSG00000233927_RPS28  | 19_8387207_G_A         | 1.060863e-36           | 2.225074e-308          |\n",
       "| ENSG00000076924_XAB2   | 19_7675917_C_G         | 1.796718e-31           | 4.450148e-308          |\n",
       "| ENSG00000229150_CRYGEP | 2_208977797_G_T        | 3.356299e-24           | 7.060338e-134          |\n",
       "\n"
      ],
      "text/plain": [
       "  feature                snp_id          p_value.old  p_value.new  \n",
       "1 ENSG00000163682_RPL9   4_39446549_G_A  2.553619e-46 2.225074e-308\n",
       "2 ENSG00000189266_PNRC2  1_24364016_T_C  2.749088e-24 2.225074e-308\n",
       "3 ENSG00000186230_ZNF749 19_57939619_C_T 4.595999e-28 1.552269e-288\n",
       "4 ENSG00000233927_RPS28  19_8387207_G_A  1.060863e-36 2.225074e-308\n",
       "5 ENSG00000076924_XAB2   19_7675917_C_G  1.796718e-31 4.450148e-308\n",
       "6 ENSG00000229150_CRYGEP 2_208977797_G_T 3.356299e-24 7.060338e-134"
      ]
     },
     "metadata": {},
     "output_type": "display_data"
    }
   ],
   "source": [
    "head(df)"
   ]
  },
  {
   "cell_type": "code",
   "execution_count": 19,
   "id": "3fa4c3a1",
   "metadata": {},
   "outputs": [
    {
     "data": {
      "text/plain": [
       "\n",
       "\tPearson's product-moment correlation\n",
       "\n",
       "data:  -log10(df$p_value.old) and -log10(df$p_value.new)\n",
       "t = 59.954, df = 1905, p-value < 2.2e-16\n",
       "alternative hypothesis: true correlation is not equal to 0\n",
       "95 percent confidence interval:\n",
       " 0.7923220 0.8234607\n",
       "sample estimates:\n",
       "      cor \n",
       "0.8084564 \n"
      ]
     },
     "metadata": {},
     "output_type": "display_data"
    }
   ],
   "source": [
    "cor.test(-log10(df$p_value.old), -log10(df$p_value.new))"
   ]
  },
  {
   "cell_type": "code",
   "execution_count": 20,
   "id": "d2314114",
   "metadata": {},
   "outputs": [
    {
     "data": {
      "image/png": "[encoded data removed]",
      "text/plain": [
       "plot without title"
      ]
     },
     "metadata": {},
     "output_type": "display_data"
    }
   ],
   "source": [
    "options(repr.plot.width=5, repr.plot.height=5)\n",
    "ggplot(df, aes(x=-log10(p_value.old), y=-log10(p_value.new))) + geom_point() + theme_bw()"
   ]
  },
  {
   "cell_type": "code",
   "execution_count": null,
   "id": "d8bd340f",
   "metadata": {},
   "outputs": [],
   "source": []
  },
  {
   "cell_type": "code",
   "execution_count": null,
   "id": "b31994d3",
   "metadata": {},
   "outputs": [],
   "source": [
    "# v1: limix_qtl with two random effects (single cells, expanded K + CCt)"
   ]
  },
  {
   "cell_type": "code",
   "execution_count": 1,
   "id": "0c63458f",
   "metadata": {},
   "outputs": [],
   "source": [
    "mydir = \"/hps/nobackup/stegle/users/acuomo/all_scripts/struct_LMM2/sc_endodiff/debug_May2021/REVISION/limix_qtl_pipeline_Gtest/Gtest_10MOFA/\""
   ]
  },
  {
   "cell_type": "code",
   "execution_count": 2,
   "id": "2025031a",
   "metadata": {},
   "outputs": [],
   "source": [
    "res_file = paste0(mydir, \"results_mj/top_qtl_results_all.txt\")\n",
    "res = read.csv(res_file, sep=\"\\t\")"
   ]
  },
  {
   "cell_type": "code",
   "execution_count": 3,
   "id": "1807ad88",
   "metadata": {},
   "outputs": [
    {
     "data": {
      "text/html": [
       "864"
      ],
      "text/latex": [
       "864"
      ],
      "text/markdown": [
       "864"
      ],
      "text/plain": [
       "[1] 864"
      ]
     },
     "metadata": {},
     "output_type": "display_data"
    },
    {
     "data": {
      "text/html": [
       "<table>\n",
       "<thead><tr><th scope=col>snp_id</th><th scope=col>p_value</th><th scope=col>beta</th><th scope=col>beta_se</th><th scope=col>empirical_feature_p_value</th><th scope=col>feature_chromosome</th><th scope=col>feature_start</th><th scope=col>feature_end</th><th scope=col>n_samples</th><th scope=col>n_e_samples</th><th scope=col>alpha_param</th><th scope=col>beta_param</th><th scope=col>rho</th><th scope=col>snp_chromosome</th><th scope=col>snp_position</th><th scope=col>assessed_allele</th><th scope=col>call_rate</th><th scope=col>maf</th><th scope=col>hwe_p</th><th scope=col>feature_id</th></tr></thead>\n",
       "<tbody>\n",
       "\t<tr><td>19_57703077_T_G</td><td>9.758964e-06   </td><td>-0.06163494    </td><td>0.01393437     </td><td>2.335648e-07   </td><td>19             </td><td>57702868       </td><td>57724724       </td><td>27598          </td><td>99             </td><td>1.859690       </td><td>37.35126       </td><td>0.8            </td><td>19             </td><td>57703077       </td><td>G              </td><td>1              </td><td>0.4141414      </td><td>1.00000000     </td><td>ENSG00000083844</td></tr>\n",
       "\t<tr><td>19_53816432_C_T</td><td>5.936559e-04   </td><td>-0.06402515    </td><td>0.01863979     </td><td>6.353399e-03   </td><td>19             </td><td>53662466       </td><td>53696639       </td><td>27598          </td><td>99             </td><td>1.519646       </td><td>74.48449       </td><td>0.9            </td><td>19             </td><td>53816432       </td><td>T              </td><td>1              </td><td>0.3939394      </td><td>0.09246273     </td><td>ENSG00000197497</td></tr>\n",
       "</tbody>\n",
       "</table>\n"
      ],
      "text/latex": [
       "\\begin{tabular}{r|llllllllllllllllllll}\n",
       " snp\\_id & p\\_value & beta & beta\\_se & empirical\\_feature\\_p\\_value & feature\\_chromosome & feature\\_start & feature\\_end & n\\_samples & n\\_e\\_samples & alpha\\_param & beta\\_param & rho & snp\\_chromosome & snp\\_position & assessed\\_allele & call\\_rate & maf & hwe\\_p & feature\\_id\\\\\n",
       "\\hline\n",
       "\t 19\\_57703077\\_T\\_G & 9.758964e-06          & -0.06163494           & 0.01393437            & 2.335648e-07          & 19                    & 57702868              & 57724724              & 27598                 & 99                    & 1.859690              & 37.35126              & 0.8                   & 19                    & 57703077              & G                     & 1                     & 0.4141414             & 1.00000000            & ENSG00000083844      \\\\\n",
       "\t 19\\_53816432\\_C\\_T & 5.936559e-04          & -0.06402515           & 0.01863979            & 6.353399e-03          & 19                    & 53662466              & 53696639              & 27598                 & 99                    & 1.519646              & 74.48449              & 0.9                   & 19                    & 53816432              & T                     & 1                     & 0.3939394             & 0.09246273            & ENSG00000197497      \\\\\n",
       "\\end{tabular}\n"
      ],
      "text/markdown": [
       "\n",
       "| snp_id | p_value | beta | beta_se | empirical_feature_p_value | feature_chromosome | feature_start | feature_end | n_samples | n_e_samples | alpha_param | beta_param | rho | snp_chromosome | snp_position | assessed_allele | call_rate | maf | hwe_p | feature_id |\n",
       "|---|---|---|---|---|---|---|---|---|---|---|---|---|---|---|---|---|---|---|---|\n",
       "| 19_57703077_T_G | 9.758964e-06    | -0.06163494     | 0.01393437      | 2.335648e-07    | 19              | 57702868        | 57724724        | 27598           | 99              | 1.859690        | 37.35126        | 0.8             | 19              | 57703077        | G               | 1               | 0.4141414       | 1.00000000      | ENSG00000083844 |\n",
       "| 19_53816432_C_T | 5.936559e-04    | -0.06402515     | 0.01863979      | 6.353399e-03    | 19              | 53662466        | 53696639        | 27598           | 99              | 1.519646        | 74.48449        | 0.9             | 19              | 53816432        | T               | 1               | 0.3939394       | 0.09246273      | ENSG00000197497 |\n",
       "\n"
      ],
      "text/plain": [
       "  snp_id          p_value      beta        beta_se    empirical_feature_p_value\n",
       "1 19_57703077_T_G 9.758964e-06 -0.06163494 0.01393437 2.335648e-07             \n",
       "2 19_53816432_C_T 5.936559e-04 -0.06402515 0.01863979 6.353399e-03             \n",
       "  feature_chromosome feature_start feature_end n_samples n_e_samples\n",
       "1 19                 57702868      57724724    27598     99         \n",
       "2 19                 53662466      53696639    27598     99         \n",
       "  alpha_param beta_param rho snp_chromosome snp_position assessed_allele\n",
       "1 1.859690    37.35126   0.8 19             57703077     G              \n",
       "2 1.519646    74.48449   0.9 19             53816432     T              \n",
       "  call_rate maf       hwe_p      feature_id     \n",
       "1 1         0.4141414 1.00000000 ENSG00000083844\n",
       "2 1         0.3939394 0.09246273 ENSG00000197497"
      ]
     },
     "metadata": {},
     "output_type": "display_data"
    }
   ],
   "source": [
    "nrow(res)\n",
    "head(res,2)"
   ]
  },
  {
   "cell_type": "code",
   "execution_count": 24,
   "id": "933d26c1",
   "metadata": {},
   "outputs": [
    {
     "data": {
      "image/png": "[encoded data removed]",
      "text/plain": [
       "Plot with title “Histogram of res$p_value”"
      ]
     },
     "metadata": {},
     "output_type": "display_data"
    }
   ],
   "source": [
    "hist(res$p_value)"
   ]
  },
  {
   "cell_type": "code",
   "execution_count": 25,
   "id": "3b87c4be",
   "metadata": {},
   "outputs": [],
   "source": [
    "endo_eqtl$feature_id = gsub(\"_.*\",\"\",endo_eqtl$feature)"
   ]
  },
  {
   "cell_type": "code",
   "execution_count": 26,
   "id": "12ddd300",
   "metadata": {},
   "outputs": [
    {
     "data": {
      "text/html": [
       "<ol class=list-inline>\n",
       "\t<li>'ENSG00000164587'</li>\n",
       "\t<li>'ENSG00000134809'</li>\n",
       "\t<li>'ENSG00000197728'</li>\n",
       "\t<li>'ENSG00000214087'</li>\n",
       "\t<li>'ENSG00000198563'</li>\n",
       "\t<li>'ENSG00000163682'</li>\n",
       "</ol>\n"
      ],
      "text/latex": [
       "\\begin{enumerate*}\n",
       "\\item 'ENSG00000164587'\n",
       "\\item 'ENSG00000134809'\n",
       "\\item 'ENSG00000197728'\n",
       "\\item 'ENSG00000214087'\n",
       "\\item 'ENSG00000198563'\n",
       "\\item 'ENSG00000163682'\n",
       "\\end{enumerate*}\n"
      ],
      "text/markdown": [
       "1. 'ENSG00000164587'\n",
       "2. 'ENSG00000134809'\n",
       "3. 'ENSG00000197728'\n",
       "4. 'ENSG00000214087'\n",
       "5. 'ENSG00000198563'\n",
       "6. 'ENSG00000163682'\n",
       "\n",
       "\n"
      ],
      "text/plain": [
       "[1] \"ENSG00000164587\" \"ENSG00000134809\" \"ENSG00000197728\" \"ENSG00000214087\"\n",
       "[5] \"ENSG00000198563\" \"ENSG00000163682\""
      ]
     },
     "metadata": {},
     "output_type": "display_data"
    }
   ],
   "source": [
    "head(endo_eqtl$feature_id)"
   ]
  },
  {
   "cell_type": "code",
   "execution_count": 27,
   "id": "0b25cc7e",
   "metadata": {},
   "outputs": [],
   "source": [
    "cols = c(\"feature_id\",\"snp_id\",\"p_value\")\n",
    "df = inner_join(endo_eqtl[,cols], res[,cols], by = c(\"feature_id\",\"snp_id\"), suffix=c(\".old\",\".new\"))"
   ]
  },
  {
   "cell_type": "code",
   "execution_count": 28,
   "id": "b6aa785b",
   "metadata": {},
   "outputs": [
    {
     "data": {
      "text/html": [
       "104"
      ],
      "text/latex": [
       "104"
      ],
      "text/markdown": [
       "104"
      ],
      "text/plain": [
       "[1] 104"
      ]
     },
     "metadata": {},
     "output_type": "display_data"
    }
   ],
   "source": [
    "nrow(df)"
   ]
  },
  {
   "cell_type": "code",
   "execution_count": 29,
   "id": "90df1761",
   "metadata": {},
   "outputs": [
    {
     "data": {
      "text/plain": [
       "\n",
       "\tPearson's product-moment correlation\n",
       "\n",
       "data:  -log10(df$p_value.old) and -log10(df$p_value.new)\n",
       "t = 18.276, df = 102, p-value < 2.2e-16\n",
       "alternative hypothesis: true correlation is not equal to 0\n",
       "95 percent confidence interval:\n",
       " 0.8210612 0.9138041\n",
       "sample estimates:\n",
       "      cor \n",
       "0.8752492 \n"
      ]
     },
     "metadata": {},
     "output_type": "display_data"
    }
   ],
   "source": [
    "cor.test(-log10(df$p_value.old), -log10(df$p_value.new))"
   ]
  },
  {
   "cell_type": "code",
   "execution_count": 30,
   "id": "f2b95228",
   "metadata": {},
   "outputs": [
    {
     "data": {
      "image/png": "[encoded data removed]",
      "text/plain": [
       "plot without title"
      ]
     },
     "metadata": {},
     "output_type": "display_data"
    }
   ],
   "source": [
    "options(repr.plot.width=5, repr.plot.height=5)\n",
    "ggplot(df, aes(x=-log10(p_value.old), y=-log10(p_value.new))) + geom_point() + theme_bw()"
   ]
  },
  {
   "cell_type": "code",
   "execution_count": null,
   "id": "7d7b22cb",
   "metadata": {},
   "outputs": [],
   "source": []
  }
 ],
 "metadata": {
  "kernelspec": {
   "display_name": "R",
   "language": "R",
   "name": "ir"
  },
  "language_info": {
   "codemirror_mode": "r",
   "file_extension": ".r",
   "mimetype": "text/x-r-source",
   "name": "R",
   "pygments_lexer": "r",
   "version": "3.6.1"
  }
 },
 "nbformat": 4,
 "nbformat_minor": 5
}
