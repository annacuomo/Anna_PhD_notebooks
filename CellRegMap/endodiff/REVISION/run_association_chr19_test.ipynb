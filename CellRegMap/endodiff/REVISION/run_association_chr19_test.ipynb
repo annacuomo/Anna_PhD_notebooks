{
 "cells": [
  {
   "cell_type": "code",
   "execution_count": 1,
   "id": "fdcfe8f4",
   "metadata": {},
   "outputs": [],
   "source": [
    "import re\n",
    "import pandas as pd\n",
    "import xarray as xr\n",
    "from numpy import ones\n",
    "from numpy.linalg import cholesky\n",
    "from pandas_plink import read_plink1_bin\n",
    "from limix.qc import quantile_gaussianize"
   ]
  },
  {
   "cell_type": "code",
   "execution_count": 2,
   "id": "4a553549",
   "metadata": {},
   "outputs": [
    {
     "data": {
      "text/plain": [
       "<module 'cellregmap' from '/hps/nobackup/stegle/users/acuomo/git_repos/CellRegMap/cellregmap/__init__.py'>"
      ]
     },
     "execution_count": 2,
     "metadata": {},
     "output_type": "execute_result"
    }
   ],
   "source": [
    "import cellregmap \n",
    "cellregmap "
   ]
  },
  {
   "cell_type": "code",
   "execution_count": 3,
   "id": "ba56d6c4",
   "metadata": {},
   "outputs": [],
   "source": [
    "from cellregmap import run_association, run_association0"
   ]
  },
  {
   "cell_type": "code",
   "execution_count": 4,
   "id": "334627f8",
   "metadata": {},
   "outputs": [],
   "source": [
    "input_files_dir = \"/hps/nobackup/stegle/users/acuomo/all_scripts/struct_LMM2/sc_endodiff/new/input_files/\""
   ]
  },
  {
   "cell_type": "code",
   "execution_count": 5,
   "id": "e335fd07",
   "metadata": {},
   "outputs": [],
   "source": [
    "## sample mapping file\n",
    "## this file will map cells to donors \n",
    "## it will also only include donors we have single-cell data for (a subset of all of HipSci donors)\n",
    "sample_mapping_file = input_files_dir+\"sample_mapping_file.csv\"\n",
    "sample_mapping = pd.read_csv(sample_mapping_file, dtype={\"genotype_individual_id\": str, \"phenotype_sample_id\": str})"
   ]
  },
  {
   "cell_type": "code",
   "execution_count": 6,
   "id": "2376f693",
   "metadata": {},
   "outputs": [
    {
     "data": {
      "text/html": [
       "<div>\n",
       "<style scoped>\n",
       "    .dataframe tbody tr th:only-of-type {\n",
       "        vertical-align: middle;\n",
       "    }\n",
       "\n",
       "    .dataframe tbody tr th {\n",
       "        vertical-align: top;\n",
       "    }\n",
       "\n",
       "    .dataframe thead th {\n",
       "        text-align: right;\n",
       "    }\n",
       "</style>\n",
       "<table border=\"1\" class=\"dataframe\">\n",
       "  <thead>\n",
       "    <tr style=\"text-align: right;\">\n",
       "      <th></th>\n",
       "      <th>genotype_individual_id</th>\n",
       "      <th>phenotype_sample_id</th>\n",
       "    </tr>\n",
       "  </thead>\n",
       "  <tbody>\n",
       "    <tr>\n",
       "      <th>0</th>\n",
       "      <td>HPSI0114i-joxm_1</td>\n",
       "      <td>21843_1#10</td>\n",
       "    </tr>\n",
       "    <tr>\n",
       "      <th>1</th>\n",
       "      <td>HPSI0314i-fafq_1</td>\n",
       "      <td>21843_1#100</td>\n",
       "    </tr>\n",
       "    <tr>\n",
       "      <th>2</th>\n",
       "      <td>HPSI0314i-fafq_1</td>\n",
       "      <td>21843_1#101</td>\n",
       "    </tr>\n",
       "    <tr>\n",
       "      <th>3</th>\n",
       "      <td>HPSI1013i-wuye_2</td>\n",
       "      <td>21843_1#102</td>\n",
       "    </tr>\n",
       "    <tr>\n",
       "      <th>4</th>\n",
       "      <td>HPSI0114i-joxm_1</td>\n",
       "      <td>21843_1#103</td>\n",
       "    </tr>\n",
       "  </tbody>\n",
       "</table>\n",
       "</div>"
      ],
      "text/plain": [
       "  genotype_individual_id phenotype_sample_id\n",
       "0       HPSI0114i-joxm_1          21843_1#10\n",
       "1       HPSI0314i-fafq_1         21843_1#100\n",
       "2       HPSI0314i-fafq_1         21843_1#101\n",
       "3       HPSI1013i-wuye_2         21843_1#102\n",
       "4       HPSI0114i-joxm_1         21843_1#103"
      ]
     },
     "execution_count": 6,
     "metadata": {},
     "output_type": "execute_result"
    }
   ],
   "source": [
    "## genotype_individual_id are donor IDs, as found in the genotype matrix (G) and GRM covariance (K)\n",
    "## phenotype_sample_id are cell IDs, as found in the scRNA-seq phenotype vector (y) and cell context covariance (C)\n",
    "sample_mapping.head()"
   ]
  },
  {
   "cell_type": "code",
   "execution_count": 7,
   "id": "36438945",
   "metadata": {},
   "outputs": [
    {
     "name": "stdout",
     "output_type": "stream",
     "text": [
      "Number of unique donors: 126\n"
     ]
    }
   ],
   "source": [
    "## extract unique individuals\n",
    "donors = sample_mapping[\"genotype_individual_id\"].unique()\n",
    "donors.sort()\n",
    "print(\"Number of unique donors: {}\".format(len(donors)))"
   ]
  },
  {
   "cell_type": "code",
   "execution_count": 8,
   "id": "a877e72a",
   "metadata": {},
   "outputs": [],
   "source": [
    "############################################\n",
    "################ Kinship matrix ############\n",
    "############################################"
   ]
  },
  {
   "cell_type": "code",
   "execution_count": 9,
   "id": "81fee358",
   "metadata": {},
   "outputs": [],
   "source": [
    "## read in GRM (genotype relationship matrix; kinship matrix)\n",
    "kinship_folder=\"/hps/nobackup/hipsci/scratch/genotypes/imputed/2017-03-27/Full_Filtered_SNPs_Plink-F/\"\n",
    "kinship_file=kinship_folder+\"hipsci.wec.gtarray.HumanCoreExome.imputed_phased.20170327.genotypes.norm.renamed.kinship\"\n",
    "K = pd.read_csv(kinship_file, sep=\"\\t\", index_col=0)\n",
    "assert all(K.columns == K.index) #symmetric matrix, donors x donors"
   ]
  },
  {
   "cell_type": "code",
   "execution_count": 10,
   "id": "e45b9e45",
   "metadata": {},
   "outputs": [
    {
     "name": "stdout",
     "output_type": "stream",
     "text": [
      "Number of donors after kinship intersection: 125\n"
     ]
    }
   ],
   "source": [
    "K = xr.DataArray(K.values, dims=[\"sample_0\", \"sample_1\"], coords={\"sample_0\": K.columns, \"sample_1\": K.index})\n",
    "K = K.sortby(\"sample_0\").sortby(\"sample_1\")\n",
    "donors = sorted(set(list(K.sample_0.values)).intersection(donors))\n",
    "print(\"Number of donors after kinship intersection: {}\".format(len(donors)))"
   ]
  },
  {
   "cell_type": "code",
   "execution_count": 11,
   "id": "93129520",
   "metadata": {},
   "outputs": [],
   "source": [
    "## subset to relevant donors\n",
    "K = K.sel(sample_0=donors, sample_1=donors)\n",
    "assert all(K.sample_0 == donors)\n",
    "assert all(K.sample_1 == donors)"
   ]
  },
  {
   "cell_type": "code",
   "execution_count": 12,
   "id": "731b83fc",
   "metadata": {},
   "outputs": [],
   "source": [
    "## and decompose such as K = hK @ hK.T (using Cholesky decomposition)\n",
    "hK = cholesky(K.values)\n",
    "hK = xr.DataArray(hK, dims=[\"sample\", \"col\"], coords={\"sample\": K.sample_0.values})\n",
    "assert all(hK.sample.values == K.sample_0.values)"
   ]
  },
  {
   "cell_type": "code",
   "execution_count": 13,
   "id": "f23d6aaa",
   "metadata": {},
   "outputs": [
    {
     "name": "stdout",
     "output_type": "stream",
     "text": [
      "Sample mapping number of rows BEFORE intersection: 34256\n",
      "Sample mapping number of rows AFTER intersection: 33964\n"
     ]
    }
   ],
   "source": [
    "del K\n",
    "print(\"Sample mapping number of rows BEFORE intersection: {}\".format(sample_mapping.shape[0]))\n",
    "## subsample sample mapping file to donors in the kinship matrix\n",
    "sample_mapping = sample_mapping[sample_mapping[\"genotype_individual_id\"].isin(donors)]\n",
    "print(\"Sample mapping number of rows AFTER intersection: {}\".format(sample_mapping.shape[0]))"
   ]
  },
  {
   "cell_type": "code",
   "execution_count": 14,
   "id": "dcd69eab",
   "metadata": {},
   "outputs": [],
   "source": [
    "############################################\n",
    "##### expand from donors to cells ##########"
   ]
  },
  {
   "cell_type": "code",
   "execution_count": 15,
   "id": "a79f1b11",
   "metadata": {},
   "outputs": [],
   "source": [
    "## use sel from xarray to expand hK (using the sample mapping file)\n",
    "hK_expanded = hK.sel(sample=sample_mapping[\"genotype_individual_id\"].values)\n",
    "assert all(hK_expanded.sample.values == sample_mapping[\"genotype_individual_id\"].values)"
   ]
  },
  {
   "cell_type": "code",
   "execution_count": null,
   "id": "33b8a4b7",
   "metadata": {},
   "outputs": [],
   "source": []
  },
  {
   "cell_type": "code",
   "execution_count": 16,
   "id": "d4737a86",
   "metadata": {},
   "outputs": [],
   "source": [
    "######################################\n",
    "############### Genotypes ############\n",
    "######################################"
   ]
  },
  {
   "cell_type": "code",
   "execution_count": 17,
   "id": "f074819d",
   "metadata": {},
   "outputs": [
    {
     "name": "stderr",
     "output_type": "stream",
     "text": [
      "Mapping files: 100%|██████████| 3/3 [05:49<00:00, 116.52s/it]\n"
     ]
    }
   ],
   "source": [
    "## read in genotype file (plink format)\n",
    "plink_folder = \"/hps/nobackup/hipsci/scratch/genotypes/imputed/2017-03-27/Full_Filtered_SNPs_Plink/\"\n",
    "plink_file = plink_folder+\"hipsci.wec.gtarray.HumanCoreExome.imputed_phased.20170327.genotypes.norm.renamed.bed\"\n",
    "G = read_plink1_bin(plink_file)"
   ]
  },
  {
   "cell_type": "code",
   "execution_count": 18,
   "id": "23fd8df2",
   "metadata": {},
   "outputs": [],
   "source": [
    "#############################\n",
    "###### SNP selection"
   ]
  },
  {
   "cell_type": "code",
   "execution_count": 19,
   "id": "e52051c9",
   "metadata": {},
   "outputs": [
    {
     "data": {
      "text/html": [
       "<div>\n",
       "<style scoped>\n",
       "    .dataframe tbody tr th:only-of-type {\n",
       "        vertical-align: middle;\n",
       "    }\n",
       "\n",
       "    .dataframe tbody tr th {\n",
       "        vertical-align: top;\n",
       "    }\n",
       "\n",
       "    .dataframe thead th {\n",
       "        text-align: right;\n",
       "    }\n",
       "</style>\n",
       "<table border=\"1\" class=\"dataframe\">\n",
       "  <thead>\n",
       "    <tr style=\"text-align: right;\">\n",
       "      <th></th>\n",
       "      <th>snp_id</th>\n",
       "      <th>feature</th>\n",
       "      <th>stage</th>\n",
       "      <th>chrom</th>\n",
       "    </tr>\n",
       "  </thead>\n",
       "  <tbody>\n",
       "    <tr>\n",
       "      <th>0</th>\n",
       "      <td>5_149826526_C_T</td>\n",
       "      <td>ENSG00000164587_RPS14</td>\n",
       "      <td>ips</td>\n",
       "      <td>5</td>\n",
       "    </tr>\n",
       "    <tr>\n",
       "      <th>1</th>\n",
       "      <td>11_57283988_C_T</td>\n",
       "      <td>ENSG00000134809_TIMM10</td>\n",
       "      <td>ips</td>\n",
       "      <td>11</td>\n",
       "    </tr>\n",
       "  </tbody>\n",
       "</table>\n",
       "</div>"
      ],
      "text/plain": [
       "            snp_id                 feature stage  chrom\n",
       "0  5_149826526_C_T   ENSG00000164587_RPS14   ips      5\n",
       "1  11_57283988_C_T  ENSG00000134809_TIMM10   ips     11"
      ]
     },
     "execution_count": 19,
     "metadata": {},
     "output_type": "execute_result"
    }
   ],
   "source": [
    "# filter file (columns: snp_id, gene)\n",
    "endo_eqtl_file = input_files_dir+\"endodiff_eqtl_allconditions_FDR10pct.csv\"\n",
    "endo_eqtl = pd.read_csv(endo_eqtl_file, index_col = False)\n",
    "endo_eqtl[\"chrom\"] = [int(i[:i.find(\"_\")]) for i in endo_eqtl[\"snp_id\"]]\n",
    "endo_eqtl.head(2)"
   ]
  },
  {
   "cell_type": "code",
   "execution_count": 20,
   "id": "e4e15bfc",
   "metadata": {},
   "outputs": [],
   "source": [
    "chrom = 22\n",
    "# and consider eGenes on that chromosome\n",
    "genes = endo_eqtl[endo_eqtl['chrom']==int(chrom)]['feature'].unique()"
   ]
  },
  {
   "cell_type": "code",
   "execution_count": 21,
   "id": "473fd49d",
   "metadata": {},
   "outputs": [],
   "source": [
    "#########################################################\n",
    "# cis window around a specific gene (discovery)"
   ]
  },
  {
   "cell_type": "code",
   "execution_count": 35,
   "id": "33162c42",
   "metadata": {},
   "outputs": [],
   "source": [
    "def cis_snp_selection(feature_id, annotation_df, G, window_size):\n",
    "    feature = annotation_df.query(\"feature_id==\\\"{}\\\"\".format(feature_id)).squeeze()\n",
    "    chrom = str(feature['chromosome'])\n",
    "    start = feature['start']\n",
    "    end = feature['end']\n",
    "    # make robust to features self-specified back-to-front\n",
    "    lowest = min([start,end])\n",
    "    highest = max([start,end])\n",
    "    # for cis, we sequentially add snps that fall within each region\n",
    "    G = G.where((G.chrom == str(chrom)) & (G.pos > (lowest-window_size)) & (G.pos < (highest+window_size)), drop=True)\n",
    "    return G"
   ]
  },
  {
   "cell_type": "code",
   "execution_count": 81,
   "id": "b718d62b",
   "metadata": {},
   "outputs": [
    {
     "data": {
      "text/plain": [
       "'ENSG00000100058'"
      ]
     },
     "execution_count": 81,
     "metadata": {},
     "output_type": "execute_result"
    }
   ],
   "source": [
    "# (1) gene name (feature_id)\n",
    "gene_name = genes[0]\n",
    "trait_name = re.sub(\"_.*\",\"\",gene_name)\n",
    "trait_name"
   ]
  },
  {
   "cell_type": "code",
   "execution_count": 82,
   "id": "8ed10a25",
   "metadata": {},
   "outputs": [
    {
     "data": {
      "text/html": [
       "<div>\n",
       "<style scoped>\n",
       "    .dataframe tbody tr th:only-of-type {\n",
       "        vertical-align: middle;\n",
       "    }\n",
       "\n",
       "    .dataframe tbody tr th {\n",
       "        vertical-align: top;\n",
       "    }\n",
       "\n",
       "    .dataframe thead th {\n",
       "        text-align: right;\n",
       "    }\n",
       "</style>\n",
       "<table border=\"1\" class=\"dataframe\">\n",
       "  <thead>\n",
       "    <tr style=\"text-align: right;\">\n",
       "      <th></th>\n",
       "      <th>chromosome</th>\n",
       "      <th>start</th>\n",
       "      <th>end</th>\n",
       "    </tr>\n",
       "    <tr>\n",
       "      <th>feature_id</th>\n",
       "      <th></th>\n",
       "      <th></th>\n",
       "      <th></th>\n",
       "    </tr>\n",
       "  </thead>\n",
       "  <tbody>\n",
       "    <tr>\n",
       "      <th>ENSG00000271782</th>\n",
       "      <td>1</td>\n",
       "      <td>50902700</td>\n",
       "      <td>50902978</td>\n",
       "    </tr>\n",
       "    <tr>\n",
       "      <th>ENSG00000232753</th>\n",
       "      <td>1</td>\n",
       "      <td>103817769</td>\n",
       "      <td>103828355</td>\n",
       "    </tr>\n",
       "  </tbody>\n",
       "</table>\n",
       "</div>"
      ],
      "text/plain": [
       "                chromosome      start        end\n",
       "feature_id                                      \n",
       "ENSG00000271782          1   50902700   50902978\n",
       "ENSG00000232753          1  103817769  103828355"
      ]
     },
     "execution_count": 82,
     "metadata": {},
     "output_type": "execute_result"
    }
   ],
   "source": [
    "# (2) annotation linking gene to genomic position\n",
    "annotation_file = \"/hps/nobackup/hipsci/scratch/processed_data/rna_seq/annotationFiles/Ensembl_75_Limix_Annotation_FC_Gene.txt\"\n",
    "anno_df = pd.read_csv(annotation_file, sep=\"\\t\", index_col=0)\n",
    "anno_df.head(2)"
   ]
  },
  {
   "cell_type": "code",
   "execution_count": 83,
   "id": "ab28c118",
   "metadata": {},
   "outputs": [],
   "source": [
    "# (3) window size (cis)\n",
    "w = 100000"
   ]
  },
  {
   "cell_type": "code",
   "execution_count": 84,
   "id": "81b51ecd",
   "metadata": {},
   "outputs": [],
   "source": [
    "G_sel = cis_snp_selection(trait_name, anno_df, G, w)"
   ]
  },
  {
   "cell_type": "code",
   "execution_count": 85,
   "id": "efe8a93b",
   "metadata": {},
   "outputs": [
    {
     "data": {
      "text/plain": [
       "(1610, 1078)"
      ]
     },
     "execution_count": 85,
     "metadata": {},
     "output_type": "execute_result"
    }
   ],
   "source": [
    "G_sel.shape"
   ]
  },
  {
   "cell_type": "code",
   "execution_count": null,
   "id": "2cc7f802",
   "metadata": {},
   "outputs": [],
   "source": []
  },
  {
   "cell_type": "code",
   "execution_count": 86,
   "id": "417860ef",
   "metadata": {},
   "outputs": [],
   "source": [
    "############################################\n",
    "##### expand from donors to cells ##########"
   ]
  },
  {
   "cell_type": "code",
   "execution_count": 87,
   "id": "21bf6373",
   "metadata": {},
   "outputs": [
    {
     "name": "stderr",
     "output_type": "stream",
     "text": [
      "/nfs/software/stegle/users/acuomo/conda-envs/struct-lmm2/lib/python3.8/site-packages/xarray/core/indexing.py:1369: PerformanceWarning: Slicing with an out-of-order index is generating 2383 times more chunks\n",
      "  return self.array[key]\n"
     ]
    }
   ],
   "source": [
    "# expand out genotypes from cells to donors (and select relevant donors in the same step)\n",
    "G_expanded = G_sel.sel(sample=sample_mapping[\"genotype_individual_id\"].values)\n",
    "assert all(hK_expanded.sample.values == G_expanded.sample.values)"
   ]
  },
  {
   "cell_type": "code",
   "execution_count": 88,
   "id": "ce37358d",
   "metadata": {},
   "outputs": [
    {
     "data": {
      "text/plain": [
       "(33964, 1078)"
      ]
     },
     "execution_count": 88,
     "metadata": {},
     "output_type": "execute_result"
    }
   ],
   "source": [
    "G_expanded.shape"
   ]
  },
  {
   "cell_type": "code",
   "execution_count": null,
   "id": "0bcd98ca",
   "metadata": {},
   "outputs": [],
   "source": []
  },
  {
   "cell_type": "code",
   "execution_count": 89,
   "id": "367c187c",
   "metadata": {},
   "outputs": [],
   "source": [
    "######################################\n",
    "############## Phenotypes ############\n",
    "######################################"
   ]
  },
  {
   "cell_type": "code",
   "execution_count": 90,
   "id": "9e3ae394",
   "metadata": {},
   "outputs": [
    {
     "name": "stdout",
     "output_type": "stream",
     "text": [
      "Phenotype shape BEFORE selection: (11231, 34256)\n",
      "Phenotype shape AFTER selection: (11231, 33964)\n"
     ]
    }
   ],
   "source": [
    "# Phenotype (single-cell expression)\n",
    "phenotype_file = input_files_dir+\"phenotype.csv.pkl\"\n",
    "phenotype = pd.read_pickle(phenotype_file)\n",
    "print(\"Phenotype shape BEFORE selection: {}\".format(phenotype.shape))\n",
    "phenotype = xr.DataArray(phenotype.values, dims=[\"trait\", \"cell\"], coords={\"trait\": phenotype.index.values, \"cell\": phenotype.columns.values})\n",
    "phenotype = phenotype.sel(cell=sample_mapping[\"phenotype_sample_id\"].values)\n",
    "print(\"Phenotype shape AFTER selection: {}\".format(phenotype.shape))\n",
    "assert all(phenotype.cell.values == sample_mapping[\"phenotype_sample_id\"].values)"
   ]
  },
  {
   "cell_type": "code",
   "execution_count": 91,
   "id": "810e813d",
   "metadata": {},
   "outputs": [],
   "source": [
    "# select gene\n",
    "y = phenotype.sel(trait=gene_name)\n",
    "# quantile normalise\n",
    "y = quantile_gaussianize(y)"
   ]
  },
  {
   "cell_type": "code",
   "execution_count": null,
   "id": "9b3663fd",
   "metadata": {},
   "outputs": [],
   "source": []
  },
  {
   "cell_type": "code",
   "execution_count": 92,
   "id": "65c6ac78",
   "metadata": {},
   "outputs": [],
   "source": [
    "######################################\n",
    "########## Cell contexts #############\n",
    "######################################"
   ]
  },
  {
   "cell_type": "code",
   "execution_count": 93,
   "id": "46b13bff",
   "metadata": {},
   "outputs": [],
   "source": [
    "# cells by MOFA factors (20)\n",
    "C_file = \"/hps/nobackup/stegle/users/acuomo/all_scripts/struct_LMM2/sc_endodiff/debug_May2021/mofa_logcounts_model_factors.csv\"\n",
    "C = pd.read_csv(C_file, index_col = 0)\n",
    "C = xr.DataArray(C.values, dims=[\"cell\", \"pc\"], coords={\"cell\": C.index.values, \"pc\": C.columns.values})\n",
    "C = C.sel(cell=sample_mapping[\"phenotype_sample_id\"].values)\n",
    "assert all(C.cell.values == sample_mapping[\"phenotype_sample_id\"].values)"
   ]
  },
  {
   "cell_type": "code",
   "execution_count": 94,
   "id": "649d9b53",
   "metadata": {},
   "outputs": [],
   "source": [
    "# quantile normalise cell contexts\n",
    "C = quantile_gaussianize(C)"
   ]
  },
  {
   "cell_type": "code",
   "execution_count": null,
   "id": "5b9cafa2",
   "metadata": {},
   "outputs": [],
   "source": []
  },
  {
   "cell_type": "code",
   "execution_count": 95,
   "id": "209c5f56",
   "metadata": {},
   "outputs": [],
   "source": [
    "######################################\n",
    "############ Covariates ##############\n",
    "######################################"
   ]
  },
  {
   "cell_type": "code",
   "execution_count": 96,
   "id": "d766e993",
   "metadata": {},
   "outputs": [],
   "source": [
    "n_cells = phenotype.shape[1]\n",
    "W = ones((n_cells, 1))"
   ]
  },
  {
   "cell_type": "code",
   "execution_count": null,
   "id": "d392b068",
   "metadata": {},
   "outputs": [],
   "source": []
  },
  {
   "cell_type": "code",
   "execution_count": 97,
   "id": "8ac0aac6",
   "metadata": {},
   "outputs": [
    {
     "data": {
      "text/plain": [
       "(33964, 1)"
      ]
     },
     "execution_count": 97,
     "metadata": {},
     "output_type": "execute_result"
    }
   ],
   "source": [
    "y = y.values.reshape(y.shape[0],1)\n",
    "y.shape"
   ]
  },
  {
   "cell_type": "code",
   "execution_count": 98,
   "id": "ab305874",
   "metadata": {},
   "outputs": [
    {
     "data": {
      "text/plain": [
       "array([[1.],\n",
       "       [1.],\n",
       "       [1.],\n",
       "       ...,\n",
       "       [1.],\n",
       "       [1.],\n",
       "       [1.]])"
      ]
     },
     "execution_count": 98,
     "metadata": {},
     "output_type": "execute_result"
    }
   ],
   "source": [
    "W"
   ]
  },
  {
   "cell_type": "code",
   "execution_count": 99,
   "id": "5ec161de",
   "metadata": {},
   "outputs": [
    {
     "data": {
      "text/plain": [
       "array([[-0.22698835,  0.82917178,  0.23411244, ...,  0.07390445,\n",
       "         0.30870685, -0.66988754],\n",
       "       [ 0.11928532,  2.94980516,  0.8196344 , ..., -0.3224365 ,\n",
       "         1.85295159, -0.70238707],\n",
       "       [ 0.05970302,  1.86963924,  0.02166209, ...,  0.1331965 ,\n",
       "         1.00717123,  0.75346536],\n",
       "       ...,\n",
       "       [-0.39533548,  0.72850657, -1.20369879, ..., -0.20673893,\n",
       "         0.31816383, -0.3551869 ],\n",
       "       [-0.26984302,  1.04975257, -0.57387367, ...,  0.13543057,\n",
       "         0.58636113, -0.12188718],\n",
       "       [-0.38132928,  1.2401305 , -0.68501989, ...,  0.33271513,\n",
       "         0.47799852,  0.28748933]])"
      ]
     },
     "execution_count": 99,
     "metadata": {},
     "output_type": "execute_result"
    }
   ],
   "source": [
    "C.values[:,0:10].shape\n",
    "C.values[:,0:10]"
   ]
  },
  {
   "cell_type": "code",
   "execution_count": 100,
   "id": "984dc601",
   "metadata": {},
   "outputs": [],
   "source": [
    "GG = G_expanded.values"
   ]
  },
  {
   "cell_type": "code",
   "execution_count": 101,
   "id": "35040283",
   "metadata": {},
   "outputs": [
    {
     "data": {
      "text/plain": [
       "(33964, 1078)"
      ]
     },
     "execution_count": 101,
     "metadata": {},
     "output_type": "execute_result"
    }
   ],
   "source": [
    "GG.shape"
   ]
  },
  {
   "cell_type": "code",
   "execution_count": 102,
   "id": "e19f3b2f",
   "metadata": {},
   "outputs": [
    {
     "data": {
      "text/plain": [
       "array([[0., 0., 0., ..., 0., 0., 0.],\n",
       "       [0., 0., 0., ..., 0., 0., 0.],\n",
       "       [0., 0., 0., ..., 0., 0., 0.],\n",
       "       ...,\n",
       "       [0., 0., 0., ..., 0., 0., 0.],\n",
       "       [0., 0., 0., ..., 0., 0., 0.],\n",
       "       [0., 0., 0., ..., 0., 0., 0.]], dtype=float32)"
      ]
     },
     "execution_count": 102,
     "metadata": {},
     "output_type": "execute_result"
    }
   ],
   "source": [
    "GG"
   ]
  },
  {
   "cell_type": "code",
   "execution_count": 103,
   "id": "c1cb5af5",
   "metadata": {},
   "outputs": [],
   "source": [
    "revision_folder = \"/hps/nobackup/stegle/users/acuomo/all_scripts/struct_LMM2/sc_endodiff/debug_May2021/REVISION/\""
   ]
  },
  {
   "cell_type": "code",
   "execution_count": 104,
   "id": "30a4730d",
   "metadata": {},
   "outputs": [
    {
     "data": {
      "text/html": [
       "<div>\n",
       "<style scoped>\n",
       "    .dataframe tbody tr th:only-of-type {\n",
       "        vertical-align: middle;\n",
       "    }\n",
       "\n",
       "    .dataframe tbody tr th {\n",
       "        vertical-align: top;\n",
       "    }\n",
       "\n",
       "    .dataframe thead th {\n",
       "        text-align: right;\n",
       "    }\n",
       "</style>\n",
       "<table border=\"1\" class=\"dataframe\">\n",
       "  <thead>\n",
       "    <tr style=\"text-align: right;\">\n",
       "      <th></th>\n",
       "      <th>ENSG00000100058_CRYBB2P1</th>\n",
       "    </tr>\n",
       "  </thead>\n",
       "  <tbody>\n",
       "    <tr>\n",
       "      <th>0</th>\n",
       "      <td>-0.312579</td>\n",
       "    </tr>\n",
       "    <tr>\n",
       "      <th>1</th>\n",
       "      <td>-1.686282</td>\n",
       "    </tr>\n",
       "  </tbody>\n",
       "</table>\n",
       "</div>"
      ],
      "text/plain": [
       "   ENSG00000100058_CRYBB2P1\n",
       "0                 -0.312579\n",
       "1                 -1.686282"
      ]
     },
     "execution_count": 104,
     "metadata": {},
     "output_type": "execute_result"
    }
   ],
   "source": [
    "y_df = pd.DataFrame(y, columns = [str(gene_name)])\n",
    "y_df.head(2)"
   ]
  },
  {
   "cell_type": "code",
   "execution_count": 105,
   "id": "e2be13ba",
   "metadata": {},
   "outputs": [
    {
     "data": {
      "text/html": [
       "<div>\n",
       "<style scoped>\n",
       "    .dataframe tbody tr th:only-of-type {\n",
       "        vertical-align: middle;\n",
       "    }\n",
       "\n",
       "    .dataframe tbody tr th {\n",
       "        vertical-align: top;\n",
       "    }\n",
       "\n",
       "    .dataframe thead th {\n",
       "        text-align: right;\n",
       "    }\n",
       "</style>\n",
       "<table border=\"1\" class=\"dataframe\">\n",
       "  <thead>\n",
       "    <tr style=\"text-align: right;\">\n",
       "      <th></th>\n",
       "      <th>22_25744472_C_T</th>\n",
       "      <th>22_25744915_T_C</th>\n",
       "      <th>22_25745441_G_A</th>\n",
       "      <th>22_25746593_C_T</th>\n",
       "      <th>22_25746647_C_T</th>\n",
       "      <th>22_25746766_C_G</th>\n",
       "      <th>22_25746838_C_G</th>\n",
       "      <th>22_25747123_G_A</th>\n",
       "      <th>22_25747160_G_A</th>\n",
       "      <th>22_25747716_A_G</th>\n",
       "      <th>...</th>\n",
       "      <th>22_26012979_G_C</th>\n",
       "      <th>22_26012999_A_G</th>\n",
       "      <th>22_26013350_C_T</th>\n",
       "      <th>22_26014158_G_A</th>\n",
       "      <th>22_26014175_C_T</th>\n",
       "      <th>22_26014831_C_T</th>\n",
       "      <th>22_26015423_A_G</th>\n",
       "      <th>22_26015480_T_C</th>\n",
       "      <th>22_26015591_C_T</th>\n",
       "      <th>22_26016746_A_G</th>\n",
       "    </tr>\n",
       "  </thead>\n",
       "  <tbody>\n",
       "    <tr>\n",
       "      <th>0</th>\n",
       "      <td>0.0</td>\n",
       "      <td>0.0</td>\n",
       "      <td>0.0</td>\n",
       "      <td>0.0</td>\n",
       "      <td>1.0</td>\n",
       "      <td>1.0</td>\n",
       "      <td>0.0</td>\n",
       "      <td>0.0</td>\n",
       "      <td>0.0</td>\n",
       "      <td>0.0</td>\n",
       "      <td>...</td>\n",
       "      <td>0.0</td>\n",
       "      <td>0.0</td>\n",
       "      <td>1.0</td>\n",
       "      <td>0.0</td>\n",
       "      <td>0.0</td>\n",
       "      <td>0.0</td>\n",
       "      <td>0.0</td>\n",
       "      <td>0.0</td>\n",
       "      <td>0.0</td>\n",
       "      <td>0.0</td>\n",
       "    </tr>\n",
       "    <tr>\n",
       "      <th>1</th>\n",
       "      <td>0.0</td>\n",
       "      <td>0.0</td>\n",
       "      <td>0.0</td>\n",
       "      <td>0.0</td>\n",
       "      <td>2.0</td>\n",
       "      <td>2.0</td>\n",
       "      <td>0.0</td>\n",
       "      <td>0.0</td>\n",
       "      <td>0.0</td>\n",
       "      <td>0.0</td>\n",
       "      <td>...</td>\n",
       "      <td>0.0</td>\n",
       "      <td>0.0</td>\n",
       "      <td>0.0</td>\n",
       "      <td>0.0</td>\n",
       "      <td>0.0</td>\n",
       "      <td>0.0</td>\n",
       "      <td>0.0</td>\n",
       "      <td>0.0</td>\n",
       "      <td>0.0</td>\n",
       "      <td>0.0</td>\n",
       "    </tr>\n",
       "  </tbody>\n",
       "</table>\n",
       "<p>2 rows × 1078 columns</p>\n",
       "</div>"
      ],
      "text/plain": [
       "   22_25744472_C_T  22_25744915_T_C  22_25745441_G_A  22_25746593_C_T  \\\n",
       "0              0.0              0.0              0.0              0.0   \n",
       "1              0.0              0.0              0.0              0.0   \n",
       "\n",
       "   22_25746647_C_T  22_25746766_C_G  22_25746838_C_G  22_25747123_G_A  \\\n",
       "0              1.0              1.0              0.0              0.0   \n",
       "1              2.0              2.0              0.0              0.0   \n",
       "\n",
       "   22_25747160_G_A  22_25747716_A_G  ...  22_26012979_G_C  22_26012999_A_G  \\\n",
       "0              0.0              0.0  ...              0.0              0.0   \n",
       "1              0.0              0.0  ...              0.0              0.0   \n",
       "\n",
       "   22_26013350_C_T  22_26014158_G_A  22_26014175_C_T  22_26014831_C_T  \\\n",
       "0              1.0              0.0              0.0              0.0   \n",
       "1              0.0              0.0              0.0              0.0   \n",
       "\n",
       "   22_26015423_A_G  22_26015480_T_C  22_26015591_C_T  22_26016746_A_G  \n",
       "0              0.0              0.0              0.0              0.0  \n",
       "1              0.0              0.0              0.0              0.0  \n",
       "\n",
       "[2 rows x 1078 columns]"
      ]
     },
     "execution_count": 105,
     "metadata": {},
     "output_type": "execute_result"
    }
   ],
   "source": [
    "G_df = pd.DataFrame(GG, columns = G_expanded.snp.values)\n",
    "G_df.head(2)"
   ]
  },
  {
   "cell_type": "code",
   "execution_count": 79,
   "id": "16910985",
   "metadata": {},
   "outputs": [
    {
     "data": {
      "text/html": [
       "<div>\n",
       "<style scoped>\n",
       "    .dataframe tbody tr th:only-of-type {\n",
       "        vertical-align: middle;\n",
       "    }\n",
       "\n",
       "    .dataframe tbody tr th {\n",
       "        vertical-align: top;\n",
       "    }\n",
       "\n",
       "    .dataframe thead th {\n",
       "        text-align: right;\n",
       "    }\n",
       "</style>\n",
       "<table border=\"1\" class=\"dataframe\">\n",
       "  <thead>\n",
       "    <tr style=\"text-align: right;\">\n",
       "      <th></th>\n",
       "      <th>MOFA1</th>\n",
       "      <th>MOFA2</th>\n",
       "      <th>MOFA3</th>\n",
       "      <th>MOFA4</th>\n",
       "      <th>MOFA5</th>\n",
       "      <th>MOFA6</th>\n",
       "      <th>MOFA7</th>\n",
       "      <th>MOFA8</th>\n",
       "      <th>MOFA9</th>\n",
       "      <th>MOFA10</th>\n",
       "    </tr>\n",
       "  </thead>\n",
       "  <tbody>\n",
       "    <tr>\n",
       "      <th>0</th>\n",
       "      <td>-0.226988</td>\n",
       "      <td>0.829172</td>\n",
       "      <td>0.234112</td>\n",
       "      <td>1.343998</td>\n",
       "      <td>0.594003</td>\n",
       "      <td>0.309558</td>\n",
       "      <td>-0.434996</td>\n",
       "      <td>0.073904</td>\n",
       "      <td>0.308707</td>\n",
       "      <td>-0.669888</td>\n",
       "    </tr>\n",
       "    <tr>\n",
       "      <th>1</th>\n",
       "      <td>0.119285</td>\n",
       "      <td>2.949805</td>\n",
       "      <td>0.819634</td>\n",
       "      <td>1.203699</td>\n",
       "      <td>-0.361482</td>\n",
       "      <td>-0.073830</td>\n",
       "      <td>0.951731</td>\n",
       "      <td>-0.322436</td>\n",
       "      <td>1.852952</td>\n",
       "      <td>-0.702387</td>\n",
       "    </tr>\n",
       "    <tr>\n",
       "      <th>2</th>\n",
       "      <td>0.059703</td>\n",
       "      <td>1.869639</td>\n",
       "      <td>0.021662</td>\n",
       "      <td>0.557850</td>\n",
       "      <td>0.058151</td>\n",
       "      <td>0.199431</td>\n",
       "      <td>0.332403</td>\n",
       "      <td>0.133196</td>\n",
       "      <td>1.007171</td>\n",
       "      <td>0.753465</td>\n",
       "    </tr>\n",
       "    <tr>\n",
       "      <th>3</th>\n",
       "      <td>-0.328117</td>\n",
       "      <td>0.882065</td>\n",
       "      <td>0.402768</td>\n",
       "      <td>0.783509</td>\n",
       "      <td>1.675973</td>\n",
       "      <td>0.232444</td>\n",
       "      <td>-0.355737</td>\n",
       "      <td>-0.153478</td>\n",
       "      <td>0.104952</td>\n",
       "      <td>0.090492</td>\n",
       "    </tr>\n",
       "    <tr>\n",
       "      <th>4</th>\n",
       "      <td>-0.024615</td>\n",
       "      <td>1.308609</td>\n",
       "      <td>-0.053124</td>\n",
       "      <td>0.366056</td>\n",
       "      <td>0.676553</td>\n",
       "      <td>-0.250452</td>\n",
       "      <td>-0.389278</td>\n",
       "      <td>-0.172923</td>\n",
       "      <td>0.076347</td>\n",
       "      <td>-0.444426</td>\n",
       "    </tr>\n",
       "  </tbody>\n",
       "</table>\n",
       "</div>"
      ],
      "text/plain": [
       "      MOFA1     MOFA2     MOFA3     MOFA4     MOFA5     MOFA6     MOFA7  \\\n",
       "0 -0.226988  0.829172  0.234112  1.343998  0.594003  0.309558 -0.434996   \n",
       "1  0.119285  2.949805  0.819634  1.203699 -0.361482 -0.073830  0.951731   \n",
       "2  0.059703  1.869639  0.021662  0.557850  0.058151  0.199431  0.332403   \n",
       "3 -0.328117  0.882065  0.402768  0.783509  1.675973  0.232444 -0.355737   \n",
       "4 -0.024615  1.308609 -0.053124  0.366056  0.676553 -0.250452 -0.389278   \n",
       "\n",
       "      MOFA8     MOFA9    MOFA10  \n",
       "0  0.073904  0.308707 -0.669888  \n",
       "1 -0.322436  1.852952 -0.702387  \n",
       "2  0.133196  1.007171  0.753465  \n",
       "3 -0.153478  0.104952  0.090492  \n",
       "4 -0.172923  0.076347 -0.444426  "
      ]
     },
     "execution_count": 79,
     "metadata": {},
     "output_type": "execute_result"
    }
   ],
   "source": [
    "# C_df = pd.DataFrame(C.values[:,0:10], columns = [\"MOFA\"+str(i+1) for i in range(10)])\n",
    "# C_df.head()"
   ]
  },
  {
   "cell_type": "code",
   "execution_count": 106,
   "id": "59f22fae",
   "metadata": {},
   "outputs": [],
   "source": [
    "y_df.to_csv(revision_folder+\"example_y_ENSG00000100058.csv\")\n",
    "G_df.to_csv(revision_folder+\"example_G_ENSG00000100058.csv\")\n",
    "# C_df.to_csv(revision_folder+\"example_C.csv\")"
   ]
  },
  {
   "cell_type": "code",
   "execution_count": null,
   "id": "136afc0c",
   "metadata": {},
   "outputs": [],
   "source": []
  },
  {
   "cell_type": "code",
   "execution_count": 56,
   "id": "1357eb44",
   "metadata": {},
   "outputs": [],
   "source": [
    "import time"
   ]
  },
  {
   "cell_type": "code",
   "execution_count": 57,
   "id": "5a52ae29",
   "metadata": {},
   "outputs": [
    {
     "name": "stdout",
     "output_type": "stream",
     "text": [
      "--- 14.400843620300293 seconds ---\n"
     ]
    }
   ],
   "source": [
    "start_time = time.time()\n",
    "pvals0 = run_association0(y, W, C.values[:,0:10], G=GG[:,0:10], hK=hK_expanded)[0]\n",
    "print(\"--- %s seconds ---\" % (time.time() - start_time))"
   ]
  },
  {
   "cell_type": "code",
   "execution_count": 58,
   "id": "6070164d",
   "metadata": {},
   "outputs": [
    {
     "name": "stderr",
     "output_type": "stream",
     "text": [
      "100%|██████████| 10/10 [00:13<00:00,  1.36s/it]"
     ]
    },
    {
     "name": "stdout",
     "output_type": "stream",
     "text": [
      "--- 27.94093656539917 seconds ---\n"
     ]
    },
    {
     "name": "stderr",
     "output_type": "stream",
     "text": [
      "\n"
     ]
    }
   ],
   "source": [
    "start_time = time.time()\n",
    "pvals = run_association(y, W, C.values[:,0:10], G=GG[:,0:10], hK=hK_expanded)[0]\n",
    "print(\"--- %s seconds ---\" % (time.time() - start_time))"
   ]
  },
  {
   "cell_type": "code",
   "execution_count": 52,
   "id": "7a180db4",
   "metadata": {},
   "outputs": [
    {
     "data": {
      "text/html": [
       "<div>\n",
       "<style scoped>\n",
       "    .dataframe tbody tr th:only-of-type {\n",
       "        vertical-align: middle;\n",
       "    }\n",
       "\n",
       "    .dataframe tbody tr th {\n",
       "        vertical-align: top;\n",
       "    }\n",
       "\n",
       "    .dataframe thead th {\n",
       "        text-align: right;\n",
       "    }\n",
       "</style>\n",
       "<table border=\"1\" class=\"dataframe\">\n",
       "  <thead>\n",
       "    <tr style=\"text-align: right;\">\n",
       "      <th></th>\n",
       "      <th>chrom</th>\n",
       "      <th>pv</th>\n",
       "      <th>variant</th>\n",
       "    </tr>\n",
       "  </thead>\n",
       "  <tbody>\n",
       "    <tr>\n",
       "      <th>0</th>\n",
       "      <td>19</td>\n",
       "      <td>0.000113</td>\n",
       "      <td>19_57847904_C_T</td>\n",
       "    </tr>\n",
       "    <tr>\n",
       "      <th>1</th>\n",
       "      <td>19</td>\n",
       "      <td>0.392785</td>\n",
       "      <td>19_57847915_G_A</td>\n",
       "    </tr>\n",
       "    <tr>\n",
       "      <th>2</th>\n",
       "      <td>19</td>\n",
       "      <td>0.017736</td>\n",
       "      <td>19_57848002_C_T</td>\n",
       "    </tr>\n",
       "    <tr>\n",
       "      <th>3</th>\n",
       "      <td>19</td>\n",
       "      <td>0.000235</td>\n",
       "      <td>19_57848207_T_C</td>\n",
       "    </tr>\n",
       "    <tr>\n",
       "      <th>4</th>\n",
       "      <td>19</td>\n",
       "      <td>0.017736</td>\n",
       "      <td>19_57848474_G_T</td>\n",
       "    </tr>\n",
       "  </tbody>\n",
       "</table>\n",
       "</div>"
      ],
      "text/plain": [
       "  chrom        pv          variant\n",
       "0    19  0.000113  19_57847904_C_T\n",
       "1    19  0.392785  19_57847915_G_A\n",
       "2    19  0.017736  19_57848002_C_T\n",
       "3    19  0.000235  19_57848207_T_C\n",
       "4    19  0.017736  19_57848474_G_T"
      ]
     },
     "execution_count": 52,
     "metadata": {},
     "output_type": "execute_result"
    }
   ],
   "source": [
    "pv0 = pd.DataFrame({\"chrom\":G_expanded[:,0:10].chrom.values,\n",
    "               \"pv\":pvals0,\n",
    "               \"variant\":G_expanded[:,0:10].snp.values})\n",
    "pv0.head()"
   ]
  },
  {
   "cell_type": "code",
   "execution_count": 53,
   "id": "6ebfbbb3",
   "metadata": {},
   "outputs": [
    {
     "data": {
      "text/html": [
       "<div>\n",
       "<style scoped>\n",
       "    .dataframe tbody tr th:only-of-type {\n",
       "        vertical-align: middle;\n",
       "    }\n",
       "\n",
       "    .dataframe tbody tr th {\n",
       "        vertical-align: top;\n",
       "    }\n",
       "\n",
       "    .dataframe thead th {\n",
       "        text-align: right;\n",
       "    }\n",
       "</style>\n",
       "<table border=\"1\" class=\"dataframe\">\n",
       "  <thead>\n",
       "    <tr style=\"text-align: right;\">\n",
       "      <th></th>\n",
       "      <th>chrom</th>\n",
       "      <th>pv</th>\n",
       "      <th>variant</th>\n",
       "    </tr>\n",
       "  </thead>\n",
       "  <tbody>\n",
       "    <tr>\n",
       "      <th>0</th>\n",
       "      <td>19</td>\n",
       "      <td>0.000074</td>\n",
       "      <td>19_57847904_C_T</td>\n",
       "    </tr>\n",
       "    <tr>\n",
       "      <th>1</th>\n",
       "      <td>19</td>\n",
       "      <td>0.392059</td>\n",
       "      <td>19_57847915_G_A</td>\n",
       "    </tr>\n",
       "    <tr>\n",
       "      <th>2</th>\n",
       "      <td>19</td>\n",
       "      <td>0.016497</td>\n",
       "      <td>19_57848002_C_T</td>\n",
       "    </tr>\n",
       "    <tr>\n",
       "      <th>3</th>\n",
       "      <td>19</td>\n",
       "      <td>0.000166</td>\n",
       "      <td>19_57848207_T_C</td>\n",
       "    </tr>\n",
       "    <tr>\n",
       "      <th>4</th>\n",
       "      <td>19</td>\n",
       "      <td>0.016497</td>\n",
       "      <td>19_57848474_G_T</td>\n",
       "    </tr>\n",
       "  </tbody>\n",
       "</table>\n",
       "</div>"
      ],
      "text/plain": [
       "  chrom        pv          variant\n",
       "0    19  0.000074  19_57847904_C_T\n",
       "1    19  0.392059  19_57847915_G_A\n",
       "2    19  0.016497  19_57848002_C_T\n",
       "3    19  0.000166  19_57848207_T_C\n",
       "4    19  0.016497  19_57848474_G_T"
      ]
     },
     "execution_count": 53,
     "metadata": {},
     "output_type": "execute_result"
    }
   ],
   "source": [
    "pv = pd.DataFrame({\"chrom\":G_expanded[:,0:10].chrom.values,\n",
    "               \"pv\":pvals,\n",
    "               \"variant\":G_expanded[:,0:10].snp.values})\n",
    "pv.head()"
   ]
  },
  {
   "cell_type": "code",
   "execution_count": null,
   "id": "bb7cc5d8",
   "metadata": {},
   "outputs": [],
   "source": []
  }
 ],
 "metadata": {
  "kernelspec": {
   "display_name": "Python (struct-lmm2)",
   "language": "python",
   "name": "struct-lmm2"
  },
  "language_info": {
   "codemirror_mode": {
    "name": "ipython",
    "version": 3
   },
   "file_extension": ".py",
   "mimetype": "text/x-python",
   "name": "python",
   "nbconvert_exporter": "python",
   "pygments_lexer": "ipython3",
   "version": "3.8.5"
  }
 },
 "nbformat": 4,
 "nbformat_minor": 5
}
