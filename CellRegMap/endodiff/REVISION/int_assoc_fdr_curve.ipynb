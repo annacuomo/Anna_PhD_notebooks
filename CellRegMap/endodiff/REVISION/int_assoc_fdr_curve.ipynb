{
 "cells": [
  {
   "cell_type": "code",
   "execution_count": 23,
   "id": "b43828a3",
   "metadata": {},
   "outputs": [],
   "source": [
    "library(dplyr)\n",
    "library(ggplot2)\n",
    "library(cowplot)\n",
    "library(qvalue)"
   ]
  },
  {
   "cell_type": "code",
   "execution_count": 24,
   "id": "12d598cd",
   "metadata": {},
   "outputs": [],
   "source": [
    "revision_folder = \"/hps/nobackup2/stegle/users/acuomo/all_scripts/struct_LMM2/sc_endodiff/debug_May2021/REVISION/\""
   ]
  },
  {
   "cell_type": "code",
   "execution_count": null,
   "id": "dc88b96e",
   "metadata": {},
   "outputs": [],
   "source": []
  },
  {
   "cell_type": "code",
   "execution_count": 25,
   "id": "96ce2537",
   "metadata": {},
   "outputs": [],
   "source": [
    "crm_file = paste0(revision_folder, \"Annas_results_all_common_eqtls.csv\")\n",
    "# crm_file = paste0(revision_folder,\"Annas_results_all_common_eqtls_with_Bonferroni.csv\")\n",
    "crm = read.csv(crm_file, row.names=1)"
   ]
  },
  {
   "cell_type": "code",
   "execution_count": 28,
   "id": "19251e69",
   "metadata": {},
   "outputs": [],
   "source": [
    "crm_assoc = crm[crm$chrom %in% c(20,21,22),]"
   ]
  },
  {
   "cell_type": "code",
   "execution_count": 29,
   "id": "4308a47f",
   "metadata": {},
   "outputs": [
    {
     "data": {
      "text/html": [
       "<table>\n",
       "<thead><tr><th></th><th scope=col>gene</th><th scope=col>n_snps</th><th scope=col>chrom</th><th scope=col>pv_raw</th><th scope=col>snpID</th><th scope=col>pv</th><th scope=col>eqtl</th></tr></thead>\n",
       "<tbody>\n",
       "\t<tr><th scope=row>7476</th><td>ENSG00000100206                </td><td>639                            </td><td>22                             </td><td>0.4846768                      </td><td>22_38815543_G_T                </td><td>1                              </td><td>ENSG00000100206-22_38815543_G_T</td></tr>\n",
       "\t<tr><th scope=row>7477</th><td>ENSG00000100206                </td><td>639                            </td><td>22                             </td><td>0.5735132                      </td><td>22_38815767_C_T                </td><td>1                              </td><td>ENSG00000100206-22_38815767_C_T</td></tr>\n",
       "\t<tr><th scope=row>7478</th><td>ENSG00000100206                </td><td>639                            </td><td>22                             </td><td>0.8756466                      </td><td>22_38816059_T_C                </td><td>1                              </td><td>ENSG00000100206-22_38816059_T_C</td></tr>\n",
       "\t<tr><th scope=row>7479</th><td>ENSG00000100206                </td><td>639                            </td><td>22                             </td><td>0.1460246                      </td><td>22_38816351_G_A                </td><td>1                              </td><td>ENSG00000100206-22_38816351_G_A</td></tr>\n",
       "\t<tr><th scope=row>7480</th><td>ENSG00000100206                </td><td>639                            </td><td>22                             </td><td>0.2546127                      </td><td>22_38817047_A_G                </td><td>1                              </td><td>ENSG00000100206-22_38817047_A_G</td></tr>\n",
       "\t<tr><th scope=row>7481</th><td>ENSG00000100206                </td><td>639                            </td><td>22                             </td><td>0.1834585                      </td><td>22_38817105_C_T                </td><td>1                              </td><td>ENSG00000100206-22_38817105_C_T</td></tr>\n",
       "</tbody>\n",
       "</table>\n"
      ],
      "text/latex": [
       "\\begin{tabular}{r|lllllll}\n",
       "  & gene & n\\_snps & chrom & pv\\_raw & snpID & pv & eqtl\\\\\n",
       "\\hline\n",
       "\t7476 & ENSG00000100206                       & 639                                   & 22                                    & 0.4846768                             & 22\\_38815543\\_G\\_T                 & 1                                     & ENSG00000100206-22\\_38815543\\_G\\_T\\\\\n",
       "\t7477 & ENSG00000100206                       & 639                                   & 22                                    & 0.5735132                             & 22\\_38815767\\_C\\_T                 & 1                                     & ENSG00000100206-22\\_38815767\\_C\\_T\\\\\n",
       "\t7478 & ENSG00000100206                       & 639                                   & 22                                    & 0.8756466                             & 22\\_38816059\\_T\\_C                 & 1                                     & ENSG00000100206-22\\_38816059\\_T\\_C\\\\\n",
       "\t7479 & ENSG00000100206                       & 639                                   & 22                                    & 0.1460246                             & 22\\_38816351\\_G\\_A                 & 1                                     & ENSG00000100206-22\\_38816351\\_G\\_A\\\\\n",
       "\t7480 & ENSG00000100206                       & 639                                   & 22                                    & 0.2546127                             & 22\\_38817047\\_A\\_G                 & 1                                     & ENSG00000100206-22\\_38817047\\_A\\_G\\\\\n",
       "\t7481 & ENSG00000100206                       & 639                                   & 22                                    & 0.1834585                             & 22\\_38817105\\_C\\_T                 & 1                                     & ENSG00000100206-22\\_38817105\\_C\\_T\\\\\n",
       "\\end{tabular}\n"
      ],
      "text/markdown": [
       "\n",
       "| <!--/--> | gene | n_snps | chrom | pv_raw | snpID | pv | eqtl |\n",
       "|---|---|---|---|---|---|---|---|\n",
       "| 7476 | ENSG00000100206                 | 639                             | 22                              | 0.4846768                       | 22_38815543_G_T                 | 1                               | ENSG00000100206-22_38815543_G_T |\n",
       "| 7477 | ENSG00000100206                 | 639                             | 22                              | 0.5735132                       | 22_38815767_C_T                 | 1                               | ENSG00000100206-22_38815767_C_T |\n",
       "| 7478 | ENSG00000100206                 | 639                             | 22                              | 0.8756466                       | 22_38816059_T_C                 | 1                               | ENSG00000100206-22_38816059_T_C |\n",
       "| 7479 | ENSG00000100206                 | 639                             | 22                              | 0.1460246                       | 22_38816351_G_A                 | 1                               | ENSG00000100206-22_38816351_G_A |\n",
       "| 7480 | ENSG00000100206                 | 639                             | 22                              | 0.2546127                       | 22_38817047_A_G                 | 1                               | ENSG00000100206-22_38817047_A_G |\n",
       "| 7481 | ENSG00000100206                 | 639                             | 22                              | 0.1834585                       | 22_38817105_C_T                 | 1                               | ENSG00000100206-22_38817105_C_T |\n",
       "\n"
      ],
      "text/plain": [
       "     gene            n_snps chrom pv_raw    snpID           pv\n",
       "7476 ENSG00000100206 639    22    0.4846768 22_38815543_G_T 1 \n",
       "7477 ENSG00000100206 639    22    0.5735132 22_38815767_C_T 1 \n",
       "7478 ENSG00000100206 639    22    0.8756466 22_38816059_T_C 1 \n",
       "7479 ENSG00000100206 639    22    0.1460246 22_38816351_G_A 1 \n",
       "7480 ENSG00000100206 639    22    0.2546127 22_38817047_A_G 1 \n",
       "7481 ENSG00000100206 639    22    0.1834585 22_38817105_C_T 1 \n",
       "     eqtl                           \n",
       "7476 ENSG00000100206-22_38815543_G_T\n",
       "7477 ENSG00000100206-22_38815767_C_T\n",
       "7478 ENSG00000100206-22_38816059_T_C\n",
       "7479 ENSG00000100206-22_38816351_G_A\n",
       "7480 ENSG00000100206-22_38817047_A_G\n",
       "7481 ENSG00000100206-22_38817105_C_T"
      ]
     },
     "metadata": {},
     "output_type": "display_data"
    }
   ],
   "source": [
    "head(crm_assoc)"
   ]
  },
  {
   "cell_type": "code",
   "execution_count": 7,
   "id": "d55c2d25",
   "metadata": {},
   "outputs": [],
   "source": [
    "# crm_assoc$fdr = p.adjust(crm_assoc$pv_raw, method = \"BH\")"
   ]
  },
  {
   "cell_type": "code",
   "execution_count": null,
   "id": "0072662c",
   "metadata": {},
   "outputs": [],
   "source": []
  },
  {
   "cell_type": "code",
   "execution_count": 7,
   "id": "14ac4a45",
   "metadata": {},
   "outputs": [
    {
     "data": {
      "text/html": [
       "23213"
      ],
      "text/latex": [
       "23213"
      ],
      "text/markdown": [
       "23213"
      ],
      "text/plain": [
       "[1] 23213"
      ]
     },
     "metadata": {},
     "output_type": "display_data"
    }
   ],
   "source": [
    "res_dir = \"/hps/nobackup2/stegle/users/acuomo/all_scripts/struct_LMM2/sc_endodiff/debug_May2021/REVISION/CRM_interaction_chr22/results/\"\n",
    "all_files = list.files(res_dir)\n",
    "length(all_files)"
   ]
  },
  {
   "cell_type": "code",
   "execution_count": 8,
   "id": "c928ebf9",
   "metadata": {},
   "outputs": [
    {
     "data": {
      "text/html": [
       "23212"
      ],
      "text/latex": [
       "23212"
      ],
      "text/markdown": [
       "23212"
      ],
      "text/plain": [
       "[1] 23212"
      ]
     },
     "metadata": {},
     "output_type": "display_data"
    }
   ],
   "source": [
    "correct_files = list.files(res_dir,\"*0.tsv\")\n",
    "length(correct_files)"
   ]
  },
  {
   "cell_type": "code",
   "execution_count": 9,
   "id": "e51e8db3",
   "metadata": {},
   "outputs": [
    {
     "data": {
      "text/html": [
       "'summary.csv'"
      ],
      "text/latex": [
       "'summary.csv'"
      ],
      "text/markdown": [
       "'summary.csv'"
      ],
      "text/plain": [
       "[1] \"summary.csv\""
      ]
     },
     "metadata": {},
     "output_type": "display_data"
    }
   ],
   "source": [
    "all_files[!(all_files %in% correct_files)]"
   ]
  },
  {
   "cell_type": "code",
   "execution_count": null,
   "id": "4dcadd2e",
   "metadata": {},
   "outputs": [],
   "source": []
  },
  {
   "cell_type": "code",
   "execution_count": 44,
   "id": "73e9efa9",
   "metadata": {},
   "outputs": [
    {
     "data": {
      "text/html": [
       "245350"
      ],
      "text/latex": [
       "245350"
      ],
      "text/markdown": [
       "245350"
      ],
      "text/plain": [
       "[1] 245350"
      ]
     },
     "metadata": {},
     "output_type": "display_data"
    },
    {
     "data": {
      "text/html": [
       "<table>\n",
       "<thead><tr><th></th><th scope=col>gene</th><th scope=col>n_snps</th><th scope=col>chrom</th><th scope=col>pv_raw</th><th scope=col>snpID</th></tr></thead>\n",
       "<tbody>\n",
       "\t<tr><th scope=row>0</th><td>ENSG00000250479</td><td>10             </td><td>22             </td><td>0.3439653      </td><td>22_24071877_G_A</td></tr>\n",
       "\t<tr><th scope=row>1</th><td>ENSG00000250479</td><td>10             </td><td>22             </td><td>0.4098352      </td><td>22_24072256_G_C</td></tr>\n",
       "</tbody>\n",
       "</table>\n"
      ],
      "text/latex": [
       "\\begin{tabular}{r|lllll}\n",
       "  & gene & n\\_snps & chrom & pv\\_raw & snpID\\\\\n",
       "\\hline\n",
       "\t0 & ENSG00000250479       & 10                    & 22                    & 0.3439653             & 22\\_24071877\\_G\\_A\\\\\n",
       "\t1 & ENSG00000250479       & 10                    & 22                    & 0.4098352             & 22\\_24072256\\_G\\_C\\\\\n",
       "\\end{tabular}\n"
      ],
      "text/markdown": [
       "\n",
       "| <!--/--> | gene | n_snps | chrom | pv_raw | snpID |\n",
       "|---|---|---|---|---|---|\n",
       "| 0 | ENSG00000250479 | 10              | 22              | 0.3439653       | 22_24071877_G_A |\n",
       "| 1 | ENSG00000250479 | 10              | 22              | 0.4098352       | 22_24072256_G_C |\n",
       "\n"
      ],
      "text/plain": [
       "  gene            n_snps chrom pv_raw    snpID          \n",
       "0 ENSG00000250479 10     22    0.3439653 22_24071877_G_A\n",
       "1 ENSG00000250479 10     22    0.4098352 22_24072256_G_C"
      ]
     },
     "metadata": {},
     "output_type": "display_data"
    }
   ],
   "source": [
    "crm_int_file = paste0(revision_folder, \"CRM_interaction_chr22/results/summary.csv\")\n",
    "crm_int = read.csv(crm_int_file, row.names=1)\n",
    "nrow(crm_int)\n",
    "head(crm_int,2)"
   ]
  },
  {
   "cell_type": "code",
   "execution_count": 45,
   "id": "3b555638",
   "metadata": {},
   "outputs": [
    {
     "data": {
      "text/html": [
       "'/hps/nobackup2/stegle/users/acuomo/all_scripts/struct_LMM2/sc_endodiff/debug_May2021/REVISION/CRM_interaction_chr22/results/summary.csv'"
      ],
      "text/latex": [
       "'/hps/nobackup2/stegle/users/acuomo/all\\_scripts/struct\\_LMM2/sc\\_endodiff/debug\\_May2021/REVISION/CRM\\_interaction\\_chr22/results/summary.csv'"
      ],
      "text/markdown": [
       "'/hps/nobackup2/stegle/users/acuomo/all_scripts/struct_LMM2/sc_endodiff/debug_May2021/REVISION/CRM_interaction_chr22/results/summary.csv'"
      ],
      "text/plain": [
       "[1] \"/hps/nobackup2/stegle/users/acuomo/all_scripts/struct_LMM2/sc_endodiff/debug_May2021/REVISION/CRM_interaction_chr22/results/summary.csv\""
      ]
     },
     "metadata": {},
     "output_type": "display_data"
    }
   ],
   "source": [
    "crm_int_file"
   ]
  },
  {
   "cell_type": "code",
   "execution_count": 46,
   "id": "08fb9844",
   "metadata": {},
   "outputs": [
    {
     "data": {
      "text/html": [
       "<ol class=list-inline>\n",
       "\t<li>'22'</li>\n",
       "\t<li>'20'</li>\n",
       "\t<li>'21'</li>\n",
       "</ol>\n"
      ],
      "text/latex": [
       "\\begin{enumerate*}\n",
       "\\item '22'\n",
       "\\item '20'\n",
       "\\item '21'\n",
       "\\end{enumerate*}\n"
      ],
      "text/markdown": [
       "1. '22'\n",
       "2. '20'\n",
       "3. '21'\n",
       "\n",
       "\n"
      ],
      "text/plain": [
       "[1] \"22\" \"20\" \"21\""
      ]
     },
     "metadata": {},
     "output_type": "display_data"
    }
   ],
   "source": [
    "unique(as.character(crm_int$chrom))"
   ]
  },
  {
   "cell_type": "code",
   "execution_count": 48,
   "id": "4f774efd",
   "metadata": {},
   "outputs": [
    {
     "data": {
      "text/html": [
       "81"
      ],
      "text/latex": [
       "81"
      ],
      "text/markdown": [
       "81"
      ],
      "text/plain": [
       "[1] 81"
      ]
     },
     "metadata": {},
     "output_type": "display_data"
    },
    {
     "data": {
      "text/html": [
       "93"
      ],
      "text/latex": [
       "93"
      ],
      "text/markdown": [
       "93"
      ],
      "text/plain": [
       "[1] 93"
      ]
     },
     "metadata": {},
     "output_type": "display_data"
    },
    {
     "data": {
      "text/html": [
       "271"
      ],
      "text/latex": [
       "271"
      ],
      "text/markdown": [
       "271"
      ],
      "text/plain": [
       "[1] 271"
      ]
     },
     "metadata": {},
     "output_type": "display_data"
    }
   ],
   "source": [
    "# unique(as.character(crm_int[crm_int$chrom == 20, ]$gene))\n",
    "length(unique(as.character(crm_int[crm_int$chrom == 20, ]$gene)))\n",
    "length(unique(as.character(crm_int[crm_int$chrom == 21, ]$gene)))\n",
    "length(unique(as.character(crm_int[crm_int$chrom == 22, ]$gene)))"
   ]
  },
  {
   "cell_type": "code",
   "execution_count": 49,
   "id": "4a8caf72",
   "metadata": {},
   "outputs": [
    {
     "data": {
      "text/html": [
       "445"
      ],
      "text/latex": [
       "445"
      ],
      "text/markdown": [
       "445"
      ],
      "text/plain": [
       "[1] 445"
      ]
     },
     "metadata": {},
     "output_type": "display_data"
    }
   ],
   "source": [
    "length(unique(as.character(crm_int$gene)))"
   ]
  },
  {
   "cell_type": "code",
   "execution_count": 50,
   "id": "33db2cc1",
   "metadata": {},
   "outputs": [],
   "source": [
    "crm_int$fdr = p.adjust(crm_int$pv_raw, method = \"BH\")"
   ]
  },
  {
   "cell_type": "code",
   "execution_count": 51,
   "id": "0bbc9ebb",
   "metadata": {},
   "outputs": [],
   "source": [
    "df_join = inner_join(crm_assoc, crm_int, by=c(\"snpID\",\"gene\"), suffix=c(\".assoc\",\".int\"))\n",
    "df_join$fdr_assoc = p.adjust(df_join$pv_raw.assoc, method = \"BH\")"
   ]
  },
  {
   "cell_type": "code",
   "execution_count": 52,
   "id": "b14eb8a1",
   "metadata": {},
   "outputs": [
    {
     "data": {
      "text/html": [
       "245350"
      ],
      "text/latex": [
       "245350"
      ],
      "text/markdown": [
       "245350"
      ],
      "text/plain": [
       "[1] 245350"
      ]
     },
     "metadata": {},
     "output_type": "display_data"
    }
   ],
   "source": [
    "nrow(df_join)"
   ]
  },
  {
   "cell_type": "code",
   "execution_count": 53,
   "id": "044f7bb3",
   "metadata": {},
   "outputs": [],
   "source": [
    "thresholds = seq(0, 1, length.out = 100)"
   ]
  },
  {
   "cell_type": "code",
   "execution_count": 54,
   "id": "bb347a68",
   "metadata": {},
   "outputs": [],
   "source": [
    "df_plot = data.frame(assoc_FDR = thresholds, n_GxC=0, n_eGenes=0)"
   ]
  },
  {
   "cell_type": "code",
   "execution_count": 55,
   "id": "68c86109",
   "metadata": {
    "scrolled": true
   },
   "outputs": [],
   "source": [
    "# FDR < 20%\n",
    "for (t in thresholds){\n",
    "    res = df_join[df_join$fdr_assoc < t,]\n",
    "    res$fdr = p.adjust(res$pv_raw.int, method = \"BH\")\n",
    "    df_plot[df_plot$assoc_FDR == t,\"n_GxC\"] = nrow(res[res$fdr < 0.2,])\n",
    "    df_plot[df_plot$assoc_FDR == t,\"n_eGenes\"] = length(unique(res[res$fdr < 0.2,\"gene\"]))\n",
    "}"
   ]
  },
  {
   "cell_type": "code",
   "execution_count": 56,
   "id": "bc05ea05",
   "metadata": {},
   "outputs": [
    {
     "data": {
      "text/html": [
       "<table>\n",
       "<thead><tr><th scope=col>assoc_FDR</th><th scope=col>n_GxC</th><th scope=col>n_eGenes</th></tr></thead>\n",
       "<tbody>\n",
       "\t<tr><td>0.00000000</td><td>   0      </td><td> 0        </td></tr>\n",
       "\t<tr><td>0.01010101</td><td>1855      </td><td>52        </td></tr>\n",
       "\t<tr><td>0.02020202</td><td>2080      </td><td>61        </td></tr>\n",
       "\t<tr><td>0.03030303</td><td>2427      </td><td>72        </td></tr>\n",
       "\t<tr><td>0.04040404</td><td>2669      </td><td>78        </td></tr>\n",
       "\t<tr><td>0.05050505</td><td>2752      </td><td>79        </td></tr>\n",
       "</tbody>\n",
       "</table>\n"
      ],
      "text/latex": [
       "\\begin{tabular}{r|lll}\n",
       " assoc\\_FDR & n\\_GxC & n\\_eGenes\\\\\n",
       "\\hline\n",
       "\t 0.00000000 &    0       &  0        \\\\\n",
       "\t 0.01010101 & 1855       & 52        \\\\\n",
       "\t 0.02020202 & 2080       & 61        \\\\\n",
       "\t 0.03030303 & 2427       & 72        \\\\\n",
       "\t 0.04040404 & 2669       & 78        \\\\\n",
       "\t 0.05050505 & 2752       & 79        \\\\\n",
       "\\end{tabular}\n"
      ],
      "text/markdown": [
       "\n",
       "| assoc_FDR | n_GxC | n_eGenes |\n",
       "|---|---|---|\n",
       "| 0.00000000 |    0       |  0         |\n",
       "| 0.01010101 | 1855       | 52         |\n",
       "| 0.02020202 | 2080       | 61         |\n",
       "| 0.03030303 | 2427       | 72         |\n",
       "| 0.04040404 | 2669       | 78         |\n",
       "| 0.05050505 | 2752       | 79         |\n",
       "\n"
      ],
      "text/plain": [
       "  assoc_FDR  n_GxC n_eGenes\n",
       "1 0.00000000    0   0      \n",
       "2 0.01010101 1855  52      \n",
       "3 0.02020202 2080  61      \n",
       "4 0.03030303 2427  72      \n",
       "5 0.04040404 2669  78      \n",
       "6 0.05050505 2752  79      "
      ]
     },
     "metadata": {},
     "output_type": "display_data"
    }
   ],
   "source": [
    "head(df_plot)"
   ]
  },
  {
   "cell_type": "code",
   "execution_count": 57,
   "id": "99cce005",
   "metadata": {},
   "outputs": [
    {
     "data": {
      "image/png": "[encoded data removed]",
      "text/plain": [
       "plot without title"
      ]
     },
     "metadata": {},
     "output_type": "display_data"
    },
    {
     "data": {
      "image/png": "[encoded data removed]",
      "text/plain": [
       "plot without title"
      ]
     },
     "metadata": {},
     "output_type": "display_data"
    }
   ],
   "source": [
    "options(repr.plot.width = 8, repr.plot.height = 3) \n",
    "ggplot(df_plot, aes(x = assoc_FDR, y = n_eGenes)) + geom_line(col=\"grey\") + theme_bw()\n",
    "ggplot(df_plot, aes(x = assoc_FDR, y = n_GxC)) + geom_line() + theme_bw()"
   ]
  },
  {
   "cell_type": "code",
   "execution_count": null,
   "id": "b13048b6",
   "metadata": {},
   "outputs": [],
   "source": []
  },
  {
   "cell_type": "code",
   "execution_count": 58,
   "id": "4dc376b1",
   "metadata": {},
   "outputs": [],
   "source": [
    "df_plot = data.frame(assoc_FDR = thresholds, n_GxC=0, n_eGenes=0)\n",
    "# FDR < 10%\n",
    "for (t in thresholds){\n",
    "    res = df_join[df_join$fdr_assoc < t,]\n",
    "    res$fdr = p.adjust(res$pv_raw.int, method = \"BH\")\n",
    "    df_plot[df_plot$assoc_FDR == t,\"n_GxC\"] = nrow(res[res$fdr < 0.1,])\n",
    "    df_plot[df_plot$assoc_FDR == t,\"n_eGenes\"] = length(unique(res[res$fdr < 0.1,\"gene\"]))\n",
    "}"
   ]
  },
  {
   "cell_type": "code",
   "execution_count": 59,
   "id": "98aa83b4",
   "metadata": {},
   "outputs": [
    {
     "data": {
      "image/png": "[encoded data removed]",
      "text/plain": [
       "plot without title"
      ]
     },
     "metadata": {},
     "output_type": "display_data"
    },
    {
     "data": {
      "image/png": "[encoded data removed]",
      "text/plain": [
       "plot without title"
      ]
     },
     "metadata": {},
     "output_type": "display_data"
    }
   ],
   "source": [
    "options(repr.plot.width = 8, repr.plot.height = 3) \n",
    "ggplot(df_plot, aes(x = assoc_FDR, y = n_eGenes)) + geom_line(col=\"grey\") + theme_bw()\n",
    "ggplot(df_plot, aes(x = assoc_FDR, y = n_GxC)) + geom_line() + theme_bw()"
   ]
  },
  {
   "cell_type": "code",
   "execution_count": null,
   "id": "d5cff42d",
   "metadata": {},
   "outputs": [],
   "source": []
  },
  {
   "cell_type": "code",
   "execution_count": 60,
   "id": "73412012",
   "metadata": {},
   "outputs": [],
   "source": [
    "# FDR < 5%\n",
    "df_plot = data.frame(assoc_FDR = thresholds, n_GxC=0, n_eGenes=0)\n",
    "for (t in thresholds){\n",
    "    res = df_join[df_join$fdr_assoc < t,]\n",
    "    res$fdr = p.adjust(res$pv_raw.int, method = \"BH\")\n",
    "    df_plot[df_plot$assoc_FDR == t,\"n_GxC\"] = nrow(res[res$fdr < 0.05,])\n",
    "    df_plot[df_plot$assoc_FDR == t,\"n_eGenes\"] = length(unique(res[res$fdr < 0.05,\"gene\"]))\n",
    "}"
   ]
  },
  {
   "cell_type": "code",
   "execution_count": 61,
   "id": "1c8af683",
   "metadata": {},
   "outputs": [
    {
     "data": {
      "image/png": "[encoded data removed]",
      "text/plain": [
       "plot without title"
      ]
     },
     "metadata": {},
     "output_type": "display_data"
    },
    {
     "data": {
      "image/png": "[encoded data removed]",
      "text/plain": [
       "plot without title"
      ]
     },
     "metadata": {},
     "output_type": "display_data"
    }
   ],
   "source": [
    "options(repr.plot.width = 8, repr.plot.height = 3) \n",
    "ggplot(df_plot, aes(x = assoc_FDR, y = n_eGenes)) + geom_line(col=\"grey\") + theme_bw()\n",
    "ggplot(df_plot, aes(x = assoc_FDR, y = n_GxC)) + geom_line() + theme_bw()"
   ]
  },
  {
   "cell_type": "code",
   "execution_count": null,
   "id": "e5399bd5",
   "metadata": {},
   "outputs": [],
   "source": []
  },
  {
   "cell_type": "code",
   "execution_count": 62,
   "id": "a00b18e1",
   "metadata": {},
   "outputs": [],
   "source": [
    "df_plot = data.frame(assoc_FDR = thresholds, n_GxC=0, n_eGenes=0)\n",
    "# FDR < 1%\n",
    "for (t in thresholds){\n",
    "    res = df_join[df_join$fdr_assoc < t,]\n",
    "    res$fdr = p.adjust(res$pv_raw.int, method = \"BH\")\n",
    "    df_plot[df_plot$assoc_FDR == t,\"n_GxC\"] = nrow(res[res$fdr < 0.01,])\n",
    "    df_plot[df_plot$assoc_FDR == t,\"n_eGenes\"] = length(unique(res[res$fdr < 0.01,\"gene\"]))\n",
    "}"
   ]
  },
  {
   "cell_type": "code",
   "execution_count": 63,
   "id": "cab4533f",
   "metadata": {},
   "outputs": [
    {
     "data": {
      "image/png": "[encoded data removed]",
      "text/plain": [
       "plot without title"
      ]
     },
     "metadata": {},
     "output_type": "display_data"
    },
    {
     "data": {
      "image/png": "[encoded data removed]",
      "text/plain": [
       "plot without title"
      ]
     },
     "metadata": {},
     "output_type": "display_data"
    }
   ],
   "source": [
    "options(repr.plot.width = 8, repr.plot.height = 3) \n",
    "ggplot(df_plot, aes(x = assoc_FDR, y = n_eGenes)) + geom_line(col=\"grey\") + theme_bw()\n",
    "ggplot(df_plot, aes(x = assoc_FDR, y = n_GxC)) + geom_line() + theme_bw()"
   ]
  },
  {
   "cell_type": "code",
   "execution_count": null,
   "id": "b16df9e7",
   "metadata": {},
   "outputs": [],
   "source": []
  },
  {
   "cell_type": "code",
   "execution_count": null,
   "id": "32168be7",
   "metadata": {},
   "outputs": [],
   "source": []
  },
  {
   "cell_type": "code",
   "execution_count": null,
   "id": "2c8e222f",
   "metadata": {},
   "outputs": [],
   "source": []
  },
  {
   "cell_type": "code",
   "execution_count": null,
   "id": "a222c6d2",
   "metadata": {},
   "outputs": [],
   "source": []
  },
  {
   "cell_type": "code",
   "execution_count": null,
   "id": "94472ce9",
   "metadata": {},
   "outputs": [],
   "source": []
  },
  {
   "cell_type": "code",
   "execution_count": null,
   "id": "b9b7d6c9",
   "metadata": {},
   "outputs": [],
   "source": []
  }
 ],
 "metadata": {
  "kernelspec": {
   "display_name": "R",
   "language": "R",
   "name": "ir"
  },
  "language_info": {
   "codemirror_mode": "r",
   "file_extension": ".r",
   "mimetype": "text/x-r-source",
   "name": "R",
   "pygments_lexer": "r",
   "version": "3.6.1"
  }
 },
 "nbformat": 4,
 "nbformat_minor": 5
}
