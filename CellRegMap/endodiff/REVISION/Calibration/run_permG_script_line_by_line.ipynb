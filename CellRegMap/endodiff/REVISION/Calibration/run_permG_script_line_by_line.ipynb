{
 "cells": [
  {
   "cell_type": "code",
   "execution_count": 1,
   "id": "f84a7485",
   "metadata": {},
   "outputs": [],
   "source": [
    "import re\n",
    "import os\n",
    "import sys\n",
    "import time\n",
    "import pandas as pd\n",
    "import xarray as xr\n",
    "from numpy import ones, random\n",
    "from numpy.linalg import cholesky\n",
    "from pandas_plink import read_plink1_bin\n",
    "from limix.qc import quantile_gaussianize"
   ]
  },
  {
   "cell_type": "code",
   "execution_count": 2,
   "id": "f3513b5a",
   "metadata": {},
   "outputs": [],
   "source": [
    "from cellregmap import run_interaction"
   ]
  },
  {
   "cell_type": "code",
   "execution_count": 3,
   "id": "fdcd6a6a",
   "metadata": {},
   "outputs": [],
   "source": [
    "?run_interaction"
   ]
  },
  {
   "cell_type": "code",
   "execution_count": 64,
   "id": "acc0fc49",
   "metadata": {},
   "outputs": [],
   "source": [
    "i = 2\n",
    "seed = 0"
   ]
  },
  {
   "cell_type": "code",
   "execution_count": 65,
   "id": "4c9ae51f",
   "metadata": {},
   "outputs": [],
   "source": [
    "revision_folder = \"/hps/nobackup/stegle/users/acuomo/all_scripts/struct_LMM2/sc_endodiff/debug_May2021/REVISION/\""
   ]
  },
  {
   "cell_type": "code",
   "execution_count": 66,
   "id": "d6f9bace",
   "metadata": {},
   "outputs": [
    {
     "data": {
      "text/html": [
       "<div>\n",
       "<style scoped>\n",
       "    .dataframe tbody tr th:only-of-type {\n",
       "        vertical-align: middle;\n",
       "    }\n",
       "\n",
       "    .dataframe tbody tr th {\n",
       "        vertical-align: top;\n",
       "    }\n",
       "\n",
       "    .dataframe thead th {\n",
       "        text-align: right;\n",
       "    }\n",
       "</style>\n",
       "<table border=\"1\" class=\"dataframe\">\n",
       "  <thead>\n",
       "    <tr style=\"text-align: right;\">\n",
       "      <th></th>\n",
       "      <th>feature</th>\n",
       "      <th>snpID</th>\n",
       "      <th>chrom</th>\n",
       "    </tr>\n",
       "  </thead>\n",
       "  <tbody>\n",
       "    <tr>\n",
       "      <th>1</th>\n",
       "      <td>ENSG00000100206_DMC1</td>\n",
       "      <td>22_38815543_G_T</td>\n",
       "      <td>22</td>\n",
       "    </tr>\n",
       "    <tr>\n",
       "      <th>2</th>\n",
       "      <td>ENSG00000100206_DMC1</td>\n",
       "      <td>22_38815767_C_T</td>\n",
       "      <td>22</td>\n",
       "    </tr>\n",
       "    <tr>\n",
       "      <th>3</th>\n",
       "      <td>ENSG00000100206_DMC1</td>\n",
       "      <td>22_38816059_T_C</td>\n",
       "      <td>22</td>\n",
       "    </tr>\n",
       "    <tr>\n",
       "      <th>4</th>\n",
       "      <td>ENSG00000100206_DMC1</td>\n",
       "      <td>22_38816351_G_A</td>\n",
       "      <td>22</td>\n",
       "    </tr>\n",
       "    <tr>\n",
       "      <th>5</th>\n",
       "      <td>ENSG00000100206_DMC1</td>\n",
       "      <td>22_38817047_A_G</td>\n",
       "      <td>22</td>\n",
       "    </tr>\n",
       "  </tbody>\n",
       "</table>\n",
       "</div>"
      ],
      "text/plain": [
       "                feature            snpID  chrom\n",
       "1  ENSG00000100206_DMC1  22_38815543_G_T     22\n",
       "2  ENSG00000100206_DMC1  22_38815767_C_T     22\n",
       "3  ENSG00000100206_DMC1  22_38816059_T_C     22\n",
       "4  ENSG00000100206_DMC1  22_38816351_G_A     22\n",
       "5  ENSG00000100206_DMC1  22_38817047_A_G     22"
      ]
     },
     "execution_count": 66,
     "metadata": {},
     "output_type": "execute_result"
    }
   ],
   "source": [
    "####### right away check if this was already run for this gene\n",
    "# filter file (columns: snp_id, gene)\n",
    "fvf_filename = revision_folder+\"/CRM_interaction_chr22/fvf.csv\"\n",
    "fvf = pd.read_csv(fvf_filename, index_col = 0)\n",
    "fvf.head()"
   ]
  },
  {
   "cell_type": "code",
   "execution_count": 67,
   "id": "21698718",
   "metadata": {},
   "outputs": [
    {
     "data": {
      "text/plain": [
       "array(['ENSG00000100206_DMC1', 'ENSG00000182858_ALG12',\n",
       "       'ENSG00000100243_CYB5R3', 'ENSG00000099974_DDTL',\n",
       "       'ENSG00000128340_RAC2', 'ENSG00000240972_MIF',\n",
       "       'ENSG00000100034_PPM1F', 'ENSG00000130638_ATXN10',\n",
       "       'ENSG00000198355_PIM3', 'ENSG00000099904_ZDHHC8',\n",
       "       'ENSG00000100029_PES1', 'ENSG00000133466_C1QTNF6',\n",
       "       'ENSG00000186716_BCR', 'ENSG00000100263_RHBDD3',\n",
       "       'ENSG00000099889_ARVCF', 'ENSG00000100151_PICK1',\n",
       "       'ENSG00000099949_LZTR1', 'ENSG00000184674_GSTT1',\n",
       "       'ENSG00000099958_DERL3', 'ENSG00000099977_DDT',\n",
       "       'ENSG00000185252_ZNF74', 'ENSG00000100014_SPECC1L',\n",
       "       'ENSG00000128191_DGCR8', 'ENSG00000100350_FOXRED2',\n",
       "       'ENSG00000239713_APOBEC3G', 'ENSG00000128309_MPST',\n",
       "       'ENSG00000100099_HPS4', 'ENSG00000100033_PRODH',\n",
       "       'ENSG00000188130_MAPK12', 'ENSG00000184164_CRELD2',\n",
       "       'ENSG00000100410_PHF5A', 'ENSG00000100056_DGCR14',\n",
       "       'ENSG00000100354_TNRC6B', 'ENSG00000205853_RFPL3S',\n",
       "       'ENSG00000100225_FBXO7', 'ENSG00000015475_BID',\n",
       "       'ENSG00000100196_KDELR3', 'ENSG00000128311_TST',\n",
       "       'ENSG00000100083_GGA1', 'ENSG00000184208_C22orf46',\n",
       "       'ENSG00000069998_CECR5', 'ENSG00000099991_CABIN1',\n",
       "       'ENSG00000100362_PVALB', 'ENSG00000100294_MCAT',\n",
       "       'ENSG00000185651_UBE2L3', 'ENSG00000100219_XBP1',\n",
       "       'ENSG00000185838_GNB1L', 'ENSG00000243811_APOBEC3D',\n",
       "       'ENSG00000128242_GAL3ST1', 'ENSG00000099910_KLHL22',\n",
       "       'ENSG00000161179_YDJC', 'ENSG00000100288_CHKB',\n",
       "       'ENSG00000241973_PI4KA', 'ENSG00000025770_NCAPH2',\n",
       "       'ENSG00000226085_UQCRFS1P1', 'ENSG00000100325_ASCC2',\n",
       "       'ENSG00000100300_TSPO', 'ENSG00000184979_USP18',\n",
       "       'ENSG00000183506_PI4KAP2', 'ENSG00000100142_POLR2F',\n",
       "       'ENSG00000100246_DNAL4', 'ENSG00000183597_TANGO2',\n",
       "       'ENSG00000169635_HIC2', 'ENSG00000183963_SMTN',\n",
       "       'ENSG00000100413_POLR3H', 'ENSG00000100201_DDX17',\n",
       "       'ENSG00000100335_MIEF1', 'ENSG00000184983_NDUFA6',\n",
       "       'ENSG00000100422_CERK', 'ENSG00000100003_SEC14L2',\n",
       "       'ENSG00000100129_EIF3L', 'ENSG00000233603_JTBP1',\n",
       "       'ENSG00000100321_SYNGR1', 'ENSG00000100068_LRP5L',\n",
       "       'ENSG00000183569_SERHL2', 'ENSG00000099992_TBC1D10A',\n",
       "       'ENSG00000100162_CENPM', 'ENSG00000239282_GATSL3',\n",
       "       'ENSG00000215193_PEX26', 'ENSG00000100266_PACSIN2',\n",
       "       'ENSG00000100122_CRYBB1', 'ENSG00000185666_SYN3',\n",
       "       'ENSG00000100216_TOMM22', 'ENSG00000100345_MYH9',\n",
       "       'ENSG00000093009_CDC45', 'ENSG00000100395_L3MBTL2',\n",
       "       'ENSG00000186575_NF2', 'ENSG00000250479_CHCHD10',\n",
       "       'ENSG00000100065_CARD10', 'ENSG00000054611_TBC1D22A',\n",
       "       'ENSG00000185721_DRG1', 'ENSG00000099940_SNAP29',\n",
       "       'ENSG00000205856_C22orf42', 'ENSG00000242247_ARFGAP3',\n",
       "       'ENSG00000180957_PITPNB', 'ENSG00000242114_MTFP1',\n",
       "       'ENSG00000100078_PLA2G3', 'ENSG00000100401_RANGAP1',\n",
       "       'ENSG00000100221_JOSD1', 'ENSG00000219438_FAM19A5',\n",
       "       'ENSG00000100372_SLC25A17', 'ENSG00000100150_DEPDC5',\n",
       "       'ENSG00000161149_TUBA3FP', 'ENSG00000128266_GNAZ',\n",
       "       'ENSG00000100241_SBF1', 'ENSG00000205643_CDPF1',\n",
       "       'ENSG00000185340_GAS2L1', 'ENSG00000183628_DGCR6',\n",
       "       'ENSG00000241484_ARHGAP8', 'ENSG00000099942_CRKL',\n",
       "       'ENSG00000182541_LIMK2', 'ENSG00000242259_C22orf39',\n",
       "       'ENSG00000100330_MTMR3', 'ENSG00000100296_THOC5',\n",
       "       'ENSG00000100109_TFIP11', 'ENSG00000100234_TIMP3',\n",
       "       'ENSG00000130489_SCO2', 'ENSG00000070010_UFD1L',\n",
       "       'ENSG00000185022_MAFF', 'ENSG00000100348_TXN2',\n",
       "       'ENSG00000179750_APOBEC3B', 'ENSG00000133460_SLC2A11',\n",
       "       'ENSG00000188677_PARVB', 'ENSG00000198089_SFI1',\n",
       "       'ENSG00000182841_RRP7B', 'ENSG00000100280_AP1B1',\n",
       "       'ENSG00000215012_C22orf29', 'ENSG00000100304_TTLL12',\n",
       "       'ENSG00000099956_SMARCB1', 'ENSG00000183741_CBX6',\n",
       "       'ENSG00000075218_GTSE1', 'ENSG00000100220_RTCB',\n",
       "       'ENSG00000183765_CHEK2', 'ENSG00000128271_ADORA2A',\n",
       "       'ENSG00000099901_RANBP1', 'ENSG00000100075_SLC25A1',\n",
       "       'ENSG00000100297_MCM5', 'ENSG00000133424_LARGE',\n",
       "       'ENSG00000100226_GTPBP1', 'ENSG00000100336_APOL4',\n",
       "       'ENSG00000100425_BRD1', 'ENSG00000221963_APOL6',\n",
       "       'ENSG00000159873_CCDC117', 'ENSG00000100258_LMF2',\n",
       "       'ENSG00000070413_DGCR2', 'ENSG00000184708_EIF4ENIF1',\n",
       "       'ENSG00000186951_PPARA', 'ENSG00000183530_PRR14L',\n",
       "       'ENSG00000170638_TRABD', 'ENSG00000099899_TRMT2A',\n",
       "       'ENSG00000184113_CLDN5', 'ENSG00000100319_ZMAT5',\n",
       "       'ENSG00000182944_EWSR1', 'ENSG00000239900_ADSL',\n",
       "       'ENSG00000093072_CECR1', 'ENSG00000198792_TMEM184B',\n",
       "       'ENSG00000184076_UQCR10', 'ENSG00000185608_MRPL40',\n",
       "       'ENSG00000100038_TOP3B', 'ENSG00000186654_PRR5',\n",
       "       'ENSG00000169314_C22orf15', 'ENSG00000205560_CPT1B',\n",
       "       'ENSG00000243156_MICAL3', 'ENSG00000198911_SREBF2',\n",
       "       'ENSG00000184470_TXNRD2', 'ENSG00000196236_XPNPEP3',\n",
       "       'ENSG00000100347_SAMM50', 'ENSG00000183579_ZNRF3',\n",
       "       'ENSG00000128159_TUBGCP6', 'ENSG00000198951_NAGA',\n",
       "       'ENSG00000187051_RPS19BP1', 'ENSG00000099954_CECR2',\n",
       "       'ENSG00000196419_XRCC6', 'ENSG00000100271_TTLL1',\n",
       "       'ENSG00000100360_IFT27', 'ENSG00000213923_CSNK1E',\n",
       "       'ENSG00000100027_YPEL1', 'ENSG00000100227_POLDIP3',\n",
       "       'ENSG00000099953_MMP11', 'ENSG00000198477_ZNF280B',\n",
       "       'ENSG00000100031_GGT1', 'ENSG00000100104_SRRD',\n",
       "       'ENSG00000100299_ARSA', 'ENSG00000075234_TTC38',\n",
       "       'ENSG00000167065_DUSP18', 'ENSG00000196576_PLXNB2',\n",
       "       'ENSG00000196588_MKL1', 'ENSG00000100154_TTC28',\n",
       "       'ENSG00000100147_CCDC134', 'ENSG00000100276_RASL10A',\n",
       "       'ENSG00000128253_RFPL2', 'ENSG00000187860_CCDC157',\n",
       "       'ENSG00000128245_YWHAH', 'ENSG00000100344_PNPLA3',\n",
       "       'ENSG00000128294_TPST2', 'ENSG00000100209_HSCB',\n",
       "       'ENSG00000241878_PISD', 'ENSG00000184702_SEPT5',\n",
       "       'ENSG00000100292_HMOX1', 'ENSG00000100030_MAPK1',\n",
       "       'ENSG00000185339_TCN2', 'ENSG00000128394_APOBEC3F',\n",
       "       'ENSG00000183864_TOB2', 'ENSG00000244509_APOBEC3C',\n",
       "       'ENSG00000100418_DESI1', 'ENSG00000100167_SEPT3',\n",
       "       'ENSG00000100105_PATZ1', 'ENSG00000100324_TAB1',\n",
       "       'ENSG00000184117_NIPSNAP1', 'ENSG00000128272_ATF4',\n",
       "       'ENSG00000100359_SGSM3', 'ENSG00000138942_RNF185',\n",
       "       'ENSG00000128203_ASPHD2', 'ENSG00000185133_INPP5J',\n",
       "       'ENSG00000100429_HDAC10', 'ENSG00000100316_RPL3',\n",
       "       'ENSG00000178026_FAM211B', 'ENSG00000177663_IL17RA',\n",
       "       'ENSG00000128274_A4GALT', 'ENSG00000138867_GUCD1',\n",
       "       'ENSG00000100379_KCTD17', 'ENSG00000133422_MORC2',\n",
       "       'ENSG00000189306_RRP7A', 'ENSG00000215513_PI4KAP1',\n",
       "       'ENSG00000077942_FBLN1', 'ENSG00000100284_TOM1',\n",
       "       'ENSG00000184319_RPL23AP82', 'ENSG00000100138_NHP2L1',\n",
       "       'ENSG00000099995_SF3A1', 'ENSG00000099968_BCL2L13',\n",
       "       'ENSG00000100281_HMGXB4', 'ENSG00000128335_APOL2',\n",
       "       'ENSG00000248405_PRR5-ARHGAP8', 'ENSG00000214076_CPSF1P1',\n",
       "       'ENSG00000100364_KIAA0930', 'ENSG00000128185_DGCR6L',\n",
       "       'ENSG00000100387_RBX1', 'ENSG00000100380_ST13',\n",
       "       'ENSG00000100036_SLC35E4', 'ENSG00000100139_MICALL1',\n",
       "       'ENSG00000100393_EP300', 'ENSG00000100417_PMM1',\n",
       "       'ENSG00000093010_COMT', 'ENSG00000100311_PDGFB',\n",
       "       'ENSG00000100353_EIF3D', 'ENSG00000100412_ACO2',\n",
       "       'ENSG00000128283_CDC42EP1', 'ENSG00000079974_RABL2B',\n",
       "       'ENSG00000056487_PHF21B', 'ENSG00000128408_RIBC2',\n",
       "       'ENSG00000100058_CRYBB2P1', 'ENSG00000100028_SNRPD3',\n",
       "       'ENSG00000184381_PLA2G6', 'ENSG00000100376_FAM118A',\n",
       "       'ENSG00000100239_PPP6R2', 'ENSG00000100320_RBFOX2',\n",
       "       'ENSG00000133433_GSTT2B', 'ENSG00000128228_SDF2L1',\n",
       "       'ENSG00000183172_SMDT1', 'ENSG00000093000_NUP50',\n",
       "       'ENSG00000100023_PPIL2', 'ENSG00000099984_GSTT2',\n",
       "       'ENSG00000099917_MED15', 'ENSG00000100416_TRMU',\n",
       "       'ENSG00000184949_FAM227A', 'ENSG00000100242_SUN2',\n",
       "       'ENSG00000100211_CBY1', 'ENSG00000131100_ATP6V1E1',\n",
       "       'ENSG00000184436_THAP7', 'ENSG00000040608_RTN4R',\n",
       "       'ENSG00000100290_BIK'], dtype=object)"
      ]
     },
     "execution_count": 67,
     "metadata": {},
     "output_type": "execute_result"
    }
   ],
   "source": [
    "genes = fvf['feature'].unique()\n",
    "genes"
   ]
  },
  {
   "cell_type": "code",
   "execution_count": 68,
   "id": "84ce7e50",
   "metadata": {},
   "outputs": [
    {
     "name": "stdout",
     "output_type": "stream",
     "text": [
      "ENSG00000100243_CYB5R3\n",
      "ENSG00000100243\n"
     ]
    }
   ],
   "source": [
    "gene_name= genes[i]\n",
    "trait_name = re.sub(\"_.*\",\"\",gene_name)\n",
    "print(gene_name)\n",
    "print(trait_name)"
   ]
  },
  {
   "cell_type": "code",
   "execution_count": 69,
   "id": "49994e47",
   "metadata": {},
   "outputs": [
    {
     "data": {
      "text/html": [
       "<div>\n",
       "<style scoped>\n",
       "    .dataframe tbody tr th:only-of-type {\n",
       "        vertical-align: middle;\n",
       "    }\n",
       "\n",
       "    .dataframe tbody tr th {\n",
       "        vertical-align: top;\n",
       "    }\n",
       "\n",
       "    .dataframe thead th {\n",
       "        text-align: right;\n",
       "    }\n",
       "</style>\n",
       "<table border=\"1\" class=\"dataframe\">\n",
       "  <thead>\n",
       "    <tr style=\"text-align: right;\">\n",
       "      <th></th>\n",
       "      <th>feature</th>\n",
       "      <th>snpID</th>\n",
       "      <th>chrom</th>\n",
       "    </tr>\n",
       "  </thead>\n",
       "  <tbody>\n",
       "    <tr>\n",
       "      <th>735</th>\n",
       "      <td>ENSG00000100243_CYB5R3</td>\n",
       "      <td>22_42914931_T_C</td>\n",
       "      <td>22</td>\n",
       "    </tr>\n",
       "    <tr>\n",
       "      <th>736</th>\n",
       "      <td>ENSG00000100243_CYB5R3</td>\n",
       "      <td>22_42914937_A_G</td>\n",
       "      <td>22</td>\n",
       "    </tr>\n",
       "    <tr>\n",
       "      <th>737</th>\n",
       "      <td>ENSG00000100243_CYB5R3</td>\n",
       "      <td>22_42914974_T_C</td>\n",
       "      <td>22</td>\n",
       "    </tr>\n",
       "    <tr>\n",
       "      <th>738</th>\n",
       "      <td>ENSG00000100243_CYB5R3</td>\n",
       "      <td>22_42915479_G_A</td>\n",
       "      <td>22</td>\n",
       "    </tr>\n",
       "    <tr>\n",
       "      <th>739</th>\n",
       "      <td>ENSG00000100243_CYB5R3</td>\n",
       "      <td>22_42916215_C_G</td>\n",
       "      <td>22</td>\n",
       "    </tr>\n",
       "    <tr>\n",
       "      <th>...</th>\n",
       "      <td>...</td>\n",
       "      <td>...</td>\n",
       "      <td>...</td>\n",
       "    </tr>\n",
       "    <tr>\n",
       "      <th>1416</th>\n",
       "      <td>ENSG00000100243_CYB5R3</td>\n",
       "      <td>22_43144054_G_C</td>\n",
       "      <td>22</td>\n",
       "    </tr>\n",
       "    <tr>\n",
       "      <th>1417</th>\n",
       "      <td>ENSG00000100243_CYB5R3</td>\n",
       "      <td>22_43144502_A_G</td>\n",
       "      <td>22</td>\n",
       "    </tr>\n",
       "    <tr>\n",
       "      <th>1418</th>\n",
       "      <td>ENSG00000100243_CYB5R3</td>\n",
       "      <td>22_43144771_G_C</td>\n",
       "      <td>22</td>\n",
       "    </tr>\n",
       "    <tr>\n",
       "      <th>1419</th>\n",
       "      <td>ENSG00000100243_CYB5R3</td>\n",
       "      <td>22_43145421_G_C</td>\n",
       "      <td>22</td>\n",
       "    </tr>\n",
       "    <tr>\n",
       "      <th>1420</th>\n",
       "      <td>ENSG00000100243_CYB5R3</td>\n",
       "      <td>22_43145466_C_T</td>\n",
       "      <td>22</td>\n",
       "    </tr>\n",
       "  </tbody>\n",
       "</table>\n",
       "<p>686 rows × 3 columns</p>\n",
       "</div>"
      ],
      "text/plain": [
       "                     feature            snpID  chrom\n",
       "735   ENSG00000100243_CYB5R3  22_42914931_T_C     22\n",
       "736   ENSG00000100243_CYB5R3  22_42914937_A_G     22\n",
       "737   ENSG00000100243_CYB5R3  22_42914974_T_C     22\n",
       "738   ENSG00000100243_CYB5R3  22_42915479_G_A     22\n",
       "739   ENSG00000100243_CYB5R3  22_42916215_C_G     22\n",
       "...                      ...              ...    ...\n",
       "1416  ENSG00000100243_CYB5R3  22_43144054_G_C     22\n",
       "1417  ENSG00000100243_CYB5R3  22_43144502_A_G     22\n",
       "1418  ENSG00000100243_CYB5R3  22_43144771_G_C     22\n",
       "1419  ENSG00000100243_CYB5R3  22_43145421_G_C     22\n",
       "1420  ENSG00000100243_CYB5R3  22_43145466_C_T     22\n",
       "\n",
       "[686 rows x 3 columns]"
      ]
     },
     "execution_count": 69,
     "metadata": {},
     "output_type": "execute_result"
    }
   ],
   "source": [
    "fvf_gene = fvf[fvf['feature']==gene_name]\n",
    "fvf_gene"
   ]
  },
  {
   "cell_type": "code",
   "execution_count": 70,
   "id": "a5622ae2",
   "metadata": {},
   "outputs": [
    {
     "name": "stdout",
     "output_type": "stream",
     "text": [
      "/hps/nobackup/stegle/users/acuomo/all_scripts/struct_LMM2/sc_endodiff/debug_May2021/REVISION/CRM_interaction_chr22/results_permG/ENSG00000100243_0.tsv\n"
     ]
    }
   ],
   "source": [
    "folder = revision_folder+\"CRM_interaction_chr22/results_permG/\"\n",
    "outfilename = f\"{folder}{trait_name}_{seed}.tsv\"\n",
    "print(outfilename)"
   ]
  },
  {
   "cell_type": "code",
   "execution_count": 71,
   "id": "01632bcd",
   "metadata": {},
   "outputs": [],
   "source": [
    "if os.path.exists(outfilename):\n",
    "    print(\"File already exists, exiting\")"
   ]
  },
  {
   "cell_type": "code",
   "execution_count": 72,
   "id": "4fe5a833",
   "metadata": {},
   "outputs": [],
   "source": [
    "# input files directory\n",
    "input_files_dir = \"/hps/nobackup/stegle/users/acuomo/all_scripts/struct_LMM2/sc_endodiff/new/input_files/\""
   ]
  },
  {
   "cell_type": "code",
   "execution_count": 73,
   "id": "e63aaa0d",
   "metadata": {},
   "outputs": [],
   "source": [
    "############################################\n",
    "########## Sample mapping file #############\n",
    "############################################"
   ]
  },
  {
   "cell_type": "code",
   "execution_count": 74,
   "id": "754dc735",
   "metadata": {},
   "outputs": [
    {
     "data": {
      "text/html": [
       "<div>\n",
       "<style scoped>\n",
       "    .dataframe tbody tr th:only-of-type {\n",
       "        vertical-align: middle;\n",
       "    }\n",
       "\n",
       "    .dataframe tbody tr th {\n",
       "        vertical-align: top;\n",
       "    }\n",
       "\n",
       "    .dataframe thead th {\n",
       "        text-align: right;\n",
       "    }\n",
       "</style>\n",
       "<table border=\"1\" class=\"dataframe\">\n",
       "  <thead>\n",
       "    <tr style=\"text-align: right;\">\n",
       "      <th></th>\n",
       "      <th>genotype_individual_id</th>\n",
       "      <th>phenotype_sample_id</th>\n",
       "    </tr>\n",
       "  </thead>\n",
       "  <tbody>\n",
       "    <tr>\n",
       "      <th>0</th>\n",
       "      <td>HPSI0114i-joxm_1</td>\n",
       "      <td>21843_1#10</td>\n",
       "    </tr>\n",
       "    <tr>\n",
       "      <th>1</th>\n",
       "      <td>HPSI0314i-fafq_1</td>\n",
       "      <td>21843_1#100</td>\n",
       "    </tr>\n",
       "    <tr>\n",
       "      <th>2</th>\n",
       "      <td>HPSI0314i-fafq_1</td>\n",
       "      <td>21843_1#101</td>\n",
       "    </tr>\n",
       "    <tr>\n",
       "      <th>3</th>\n",
       "      <td>HPSI1013i-wuye_2</td>\n",
       "      <td>21843_1#102</td>\n",
       "    </tr>\n",
       "    <tr>\n",
       "      <th>4</th>\n",
       "      <td>HPSI0114i-joxm_1</td>\n",
       "      <td>21843_1#103</td>\n",
       "    </tr>\n",
       "  </tbody>\n",
       "</table>\n",
       "</div>"
      ],
      "text/plain": [
       "  genotype_individual_id phenotype_sample_id\n",
       "0       HPSI0114i-joxm_1          21843_1#10\n",
       "1       HPSI0314i-fafq_1         21843_1#100\n",
       "2       HPSI0314i-fafq_1         21843_1#101\n",
       "3       HPSI1013i-wuye_2         21843_1#102\n",
       "4       HPSI0114i-joxm_1         21843_1#103"
      ]
     },
     "execution_count": 74,
     "metadata": {},
     "output_type": "execute_result"
    }
   ],
   "source": [
    "## this file will map cells to donors \n",
    "## it will also only include donors we have single-cell data for (a subset of all of HipSci donors)\n",
    "sample_mapping_file = input_files_dir+\"sample_mapping_file.csv\"\n",
    "sample_mapping = pd.read_csv(sample_mapping_file, dtype={\"genotype_individual_id\": str, \"phenotype_sample_id\": str})\n",
    "## genotype_individual_id are donor IDs, as found in the genotype matrix (G) and GRM covariance (K)\n",
    "## phenotype_sample_id are cell IDs, as found in the scRNA-seq phenotype vector (y) and cell context covariance (C)\n",
    "sample_mapping.head()"
   ]
  },
  {
   "cell_type": "code",
   "execution_count": 75,
   "id": "7c4594fe",
   "metadata": {},
   "outputs": [
    {
     "name": "stdout",
     "output_type": "stream",
     "text": [
      "Number of unique donors: 126\n"
     ]
    }
   ],
   "source": [
    "## extract unique individuals\n",
    "donors = sample_mapping[\"genotype_individual_id\"].unique()\n",
    "donors.sort()\n",
    "print(\"Number of unique donors: {}\".format(len(donors)))"
   ]
  },
  {
   "cell_type": "code",
   "execution_count": 76,
   "id": "e73c553c",
   "metadata": {},
   "outputs": [],
   "source": [
    "############################################\n",
    "############# Kinship matrix ###############\n",
    "############################################"
   ]
  },
  {
   "cell_type": "code",
   "execution_count": 77,
   "id": "35b24733",
   "metadata": {},
   "outputs": [],
   "source": [
    "## read in GRM (genotype relationship matrix; kinship matrix)\n",
    "kinship_folder=\"/hps/nobackup/hipsci/scratch/genotypes/imputed/2017-03-27/Full_Filtered_SNPs_Plink-F/\"\n",
    "kinship_file=kinship_folder+\"hipsci.wec.gtarray.HumanCoreExome.imputed_phased.20170327.genotypes.norm.renamed.kinship\"\n",
    "K = pd.read_csv(kinship_file, sep=\"\\t\", index_col=0)\n",
    "assert all(K.columns == K.index) #symmetric matrix, donors x donors"
   ]
  },
  {
   "cell_type": "code",
   "execution_count": 78,
   "id": "68f65054",
   "metadata": {},
   "outputs": [
    {
     "name": "stdout",
     "output_type": "stream",
     "text": [
      "Number of donors after kinship intersection: 125\n"
     ]
    }
   ],
   "source": [
    "K = xr.DataArray(K.values, dims=[\"sample_0\", \"sample_1\"], coords={\"sample_0\": K.columns, \"sample_1\": K.index})\n",
    "K = K.sortby(\"sample_0\").sortby(\"sample_1\")\n",
    "donors = sorted(set(list(K.sample_0.values)).intersection(donors))\n",
    "print(\"Number of donors after kinship intersection: {}\".format(len(donors)))"
   ]
  },
  {
   "cell_type": "code",
   "execution_count": 79,
   "id": "eda6ce39",
   "metadata": {},
   "outputs": [],
   "source": [
    "## subset to relevant donors\n",
    "K = K.sel(sample_0=donors, sample_1=donors)\n",
    "assert all(K.sample_0 == donors)\n",
    "assert all(K.sample_1 == donors)"
   ]
  },
  {
   "cell_type": "code",
   "execution_count": 80,
   "id": "7f55aaf8",
   "metadata": {},
   "outputs": [
    {
     "name": "stdout",
     "output_type": "stream",
     "text": [
      "Sample mapping number of rows BEFORE intersection: 34256\n",
      "Sample mapping number of rows AFTER intersection: 33964\n"
     ]
    }
   ],
   "source": [
    "## and decompose such as K = hK @ hK.T (using Cholesky decomposition)\n",
    "hK = cholesky(K.values)\n",
    "hK = xr.DataArray(hK, dims=[\"sample\", \"col\"], coords={\"sample\": K.sample_0.values})\n",
    "assert all(hK.sample.values == K.sample_0.values)\n",
    "\n",
    "del K\n",
    "print(\"Sample mapping number of rows BEFORE intersection: {}\".format(sample_mapping.shape[0]))\n",
    "## subsample sample mapping file to donors in the kinship matrix\n",
    "sample_mapping = sample_mapping[sample_mapping[\"genotype_individual_id\"].isin(donors)]\n",
    "print(\"Sample mapping number of rows AFTER intersection: {}\".format(sample_mapping.shape[0]))"
   ]
  },
  {
   "cell_type": "code",
   "execution_count": 81,
   "id": "78a42eeb",
   "metadata": {},
   "outputs": [],
   "source": [
    "############################################\n",
    "##### expand from donors to cells ##########\n",
    "\n",
    "## use sel from xarray to expand hK (using the sample mapping file)\n",
    "hK_expanded = hK.sel(sample=sample_mapping[\"genotype_individual_id\"].values)\n",
    "assert all(hK_expanded.sample.values == sample_mapping[\"genotype_individual_id\"].values)"
   ]
  },
  {
   "cell_type": "code",
   "execution_count": 82,
   "id": "af6487e1",
   "metadata": {},
   "outputs": [
    {
     "name": "stderr",
     "output_type": "stream",
     "text": [
      "Mapping files: 100%|██████████| 3/3 [06:12<00:00, 124.15s/it]\n"
     ]
    }
   ],
   "source": [
    "#####################################\n",
    "############ Genotypes ##############\n",
    "#####################################\n",
    "\n",
    "## read in genotype file (plink format)\n",
    "plink_folder = \"/hps/nobackup/hipsci/scratch/genotypes/imputed/2017-03-27/Full_Filtered_SNPs_Plink/\"\n",
    "plink_file = plink_folder+\"hipsci.wec.gtarray.HumanCoreExome.imputed_phased.20170327.genotypes.norm.renamed.bed\"\n",
    "G = read_plink1_bin(plink_file)"
   ]
  },
  {
   "cell_type": "code",
   "execution_count": 83,
   "id": "ac094e58",
   "metadata": {},
   "outputs": [],
   "source": [
    "######################################\n",
    "########## Cell contexts #############\n",
    "######################################\n",
    "\n",
    "# cells by MOFA factors (20)\n",
    "C_file = \"/hps/nobackup/stegle/users/acuomo/all_scripts/struct_LMM2/sc_endodiff/debug_May2021/mofa_logcounts_model_factors.csv\"\n",
    "C = pd.read_csv(C_file, index_col = 0)\n",
    "C = xr.DataArray(C.values, dims=[\"cell\", \"pc\"], coords={\"cell\": C.index.values, \"pc\": C.columns.values})\n",
    "C = C.sel(cell=sample_mapping[\"phenotype_sample_id\"].values)\n",
    "assert all(C.cell.values == sample_mapping[\"phenotype_sample_id\"].values)\n",
    "\n",
    "# quantile normalise cell contexts\n",
    "C_gauss = quantile_gaussianize(C)"
   ]
  },
  {
   "cell_type": "code",
   "execution_count": 84,
   "id": "ff1d17a9",
   "metadata": {},
   "outputs": [
    {
     "name": "stdout",
     "output_type": "stream",
     "text": [
      "Phenotype shape BEFORE selection: (11231, 34256)\n",
      "Phenotype shape AFTER selection: (11231, 33964)\n"
     ]
    }
   ],
   "source": [
    "#####################################\n",
    "############ Phenotypes #############\n",
    "#####################################\n",
    "\n",
    "# Phenotype (single-cell expression)\n",
    "phenotype_file = input_files_dir+\"phenotype.csv.pkl\"\n",
    "phenotype = pd.read_pickle(phenotype_file)\n",
    "print(\"Phenotype shape BEFORE selection: {}\".format(phenotype.shape))\n",
    "phenotype = xr.DataArray(phenotype.values, dims=[\"trait\", \"cell\"], coords={\"trait\": phenotype.index.values, \"cell\": phenotype.columns.values})\n",
    "phenotype = phenotype.sel(cell=sample_mapping[\"phenotype_sample_id\"].values)\n",
    "print(\"Phenotype shape AFTER selection: {}\".format(phenotype.shape))\n",
    "assert all(phenotype.cell.values == sample_mapping[\"phenotype_sample_id\"].values)"
   ]
  },
  {
   "cell_type": "code",
   "execution_count": 85,
   "id": "760b373a",
   "metadata": {},
   "outputs": [
    {
     "data": {
      "text/html": [
       "<div>\n",
       "<style scoped>\n",
       "    .dataframe tbody tr th:only-of-type {\n",
       "        vertical-align: middle;\n",
       "    }\n",
       "\n",
       "    .dataframe tbody tr th {\n",
       "        vertical-align: top;\n",
       "    }\n",
       "\n",
       "    .dataframe thead th {\n",
       "        text-align: right;\n",
       "    }\n",
       "</style>\n",
       "<table border=\"1\" class=\"dataframe\">\n",
       "  <thead>\n",
       "    <tr style=\"text-align: right;\">\n",
       "      <th></th>\n",
       "      <th>feature</th>\n",
       "      <th>snpID</th>\n",
       "      <th>chrom</th>\n",
       "    </tr>\n",
       "  </thead>\n",
       "  <tbody>\n",
       "    <tr>\n",
       "      <th>735</th>\n",
       "      <td>ENSG00000100243_CYB5R3</td>\n",
       "      <td>22_42914931_T_C</td>\n",
       "      <td>22</td>\n",
       "    </tr>\n",
       "    <tr>\n",
       "      <th>736</th>\n",
       "      <td>ENSG00000100243_CYB5R3</td>\n",
       "      <td>22_42914937_A_G</td>\n",
       "      <td>22</td>\n",
       "    </tr>\n",
       "  </tbody>\n",
       "</table>\n",
       "</div>"
      ],
      "text/plain": [
       "                    feature            snpID  chrom\n",
       "735  ENSG00000100243_CYB5R3  22_42914931_T_C     22\n",
       "736  ENSG00000100243_CYB5R3  22_42914937_A_G     22"
      ]
     },
     "execution_count": 85,
     "metadata": {},
     "output_type": "execute_result"
    }
   ],
   "source": [
    "fvf_sel = fvf_gene.iloc[seed:(seed+2)]\n",
    "fvf_sel "
   ]
  },
  {
   "cell_type": "code",
   "execution_count": 86,
   "id": "c5677ebd",
   "metadata": {},
   "outputs": [],
   "source": [
    "# SNP selection\n",
    "leads = fvf_sel[fvf_sel['feature']==gene_name]['snpID'].unique()\n",
    "G_sel = G[:,G['snp'].isin(leads)]"
   ]
  },
  {
   "cell_type": "code",
   "execution_count": 87,
   "id": "f8f419e2",
   "metadata": {},
   "outputs": [],
   "source": [
    "#### to permute G, create shuffled index\n",
    "# step 1 - shuffle G across donors (prior to expanding)\n",
    "# step 2 - expand normally\n",
    "# this is such as all cells from a given donor will keep the same genotype, but it will be that from another donor\n",
    "\n",
    "rand = random.RandomState(int(seed))\n",
    "idx = rand.permutation(G_sel.shape[0])\n",
    "Idx = xr.DataArray(idx, dims=[\"sample\"], coords = {\"sample\": G_sel.sample.values})\n",
    "idx_G = Idx.sel(sample=sample_mapping[\"genotype_individual_id\"].values)"
   ]
  },
  {
   "cell_type": "code",
   "execution_count": 88,
   "id": "fee6dc3a",
   "metadata": {},
   "outputs": [
    {
     "name": "stderr",
     "output_type": "stream",
     "text": [
      "/nfs/software/stegle/users/acuomo/conda-envs/struct-lmm2/lib/python3.8/site-packages/xarray/core/indexing.py:1369: PerformanceWarning: Slicing with an out-of-order index is generating 2383 times more chunks\n",
      "  return self.array[key]\n"
     ]
    }
   ],
   "source": [
    "############################################\n",
    "##### expand from donors to cells ##########\n",
    "\n",
    "# expand out genotypes from cells to donors (and select relevant donors in the same step)\n",
    "G_expanded = G_sel.sel(sample=sample_mapping[\"genotype_individual_id\"].values)\n",
    "assert all(hK_expanded.sample.values == G_expanded.sample.values)"
   ]
  },
  {
   "cell_type": "code",
   "execution_count": 89,
   "id": "3721e401",
   "metadata": {},
   "outputs": [
    {
     "name": "stdout",
     "output_type": "stream",
     "text": [
      "(33964, 2)\n"
     ]
    }
   ],
   "source": [
    "print(G_expanded.shape)"
   ]
  },
  {
   "cell_type": "code",
   "execution_count": 90,
   "id": "5a900bce",
   "metadata": {},
   "outputs": [
    {
     "name": "stdout",
     "output_type": "stream",
     "text": [
      "(33964, 1)\n"
     ]
    }
   ],
   "source": [
    "# select gene\n",
    "y = phenotype.sel(trait=gene_name)\n",
    "# quantile normalise\n",
    "y = quantile_gaussianize(y)\n",
    "# reshape\n",
    "y = y.values.reshape(y.shape[0],1)\n",
    "print(y.shape)"
   ]
  },
  {
   "cell_type": "code",
   "execution_count": 91,
   "id": "566fcc67",
   "metadata": {},
   "outputs": [],
   "source": [
    "######################################\n",
    "############ Covariates ##############\n",
    "######################################\n",
    "\n",
    "# just an intercept in this case\n",
    "n_cells = phenotype.shape[1]\n",
    "W = ones((n_cells, 1))\n",
    "\n",
    "# unpack G\n",
    "GG = G_expanded.values"
   ]
  },
  {
   "cell_type": "code",
   "execution_count": 92,
   "id": "96f289e3",
   "metadata": {},
   "outputs": [
    {
     "name": "stdout",
     "output_type": "stream",
     "text": [
      "Running for gene ENSG00000100243\n"
     ]
    },
    {
     "name": "stderr",
     "output_type": "stream",
     "text": [
      "100%|██████████| 2/2 [10:43<00:00, 321.88s/it]\n"
     ]
    }
   ],
   "source": [
    "print(\"Running for gene {}\".format(trait_name))\n",
    "\n",
    "# run association test using CellRegMap\n",
    "pvals = run_interaction(y=y, W=W, E=C_gauss.values[:,0:10], E1=C_gauss.values[:,0:10], \n",
    "                        E2=C.values[:,0:20], G=GG, hK=hK_expanded, idx_G=idx_G)[0]"
   ]
  },
  {
   "cell_type": "code",
   "execution_count": 93,
   "id": "47395bfa",
   "metadata": {},
   "outputs": [
    {
     "data": {
      "text/html": [
       "<div>\n",
       "<style scoped>\n",
       "    .dataframe tbody tr th:only-of-type {\n",
       "        vertical-align: middle;\n",
       "    }\n",
       "\n",
       "    .dataframe tbody tr th {\n",
       "        vertical-align: top;\n",
       "    }\n",
       "\n",
       "    .dataframe thead th {\n",
       "        text-align: right;\n",
       "    }\n",
       "</style>\n",
       "<table border=\"1\" class=\"dataframe\">\n",
       "  <thead>\n",
       "    <tr style=\"text-align: right;\">\n",
       "      <th></th>\n",
       "      <th>chrom</th>\n",
       "      <th>pv</th>\n",
       "      <th>variant</th>\n",
       "    </tr>\n",
       "  </thead>\n",
       "  <tbody>\n",
       "    <tr>\n",
       "      <th>0</th>\n",
       "      <td>22</td>\n",
       "      <td>0.007616</td>\n",
       "      <td>22_42914931_T_C</td>\n",
       "    </tr>\n",
       "    <tr>\n",
       "      <th>1</th>\n",
       "      <td>22</td>\n",
       "      <td>0.007616</td>\n",
       "      <td>22_42914937_A_G</td>\n",
       "    </tr>\n",
       "  </tbody>\n",
       "</table>\n",
       "</div>"
      ],
      "text/plain": [
       "  chrom        pv          variant\n",
       "0    22  0.007616  22_42914931_T_C\n",
       "1    22  0.007616  22_42914937_A_G"
      ]
     },
     "execution_count": 93,
     "metadata": {},
     "output_type": "execute_result"
    }
   ],
   "source": [
    "pv = pd.DataFrame({\"chrom\":G_expanded.chrom.values,\n",
    "               \"pv\":pvals,\n",
    "               \"variant\":G_expanded.snp.values})\n",
    "pv.head()"
   ]
  },
  {
   "cell_type": "code",
   "execution_count": 63,
   "id": "8ccef0b0",
   "metadata": {},
   "outputs": [
    {
     "data": {
      "text/html": [
       "<div>\n",
       "<style scoped>\n",
       "    .dataframe tbody tr th:only-of-type {\n",
       "        vertical-align: middle;\n",
       "    }\n",
       "\n",
       "    .dataframe tbody tr th {\n",
       "        vertical-align: top;\n",
       "    }\n",
       "\n",
       "    .dataframe thead th {\n",
       "        text-align: right;\n",
       "    }\n",
       "</style>\n",
       "<table border=\"1\" class=\"dataframe\">\n",
       "  <thead>\n",
       "    <tr style=\"text-align: right;\">\n",
       "      <th></th>\n",
       "      <th>chrom</th>\n",
       "      <th>pv</th>\n",
       "      <th>variant</th>\n",
       "    </tr>\n",
       "  </thead>\n",
       "  <tbody>\n",
       "    <tr>\n",
       "      <th>0</th>\n",
       "      <td>22</td>\n",
       "      <td>0.002625</td>\n",
       "      <td>22_50195375_A_G</td>\n",
       "    </tr>\n",
       "    <tr>\n",
       "      <th>1</th>\n",
       "      <td>22</td>\n",
       "      <td>0.029408</td>\n",
       "      <td>22_50196343_G_A</td>\n",
       "    </tr>\n",
       "  </tbody>\n",
       "</table>\n",
       "</div>"
      ],
      "text/plain": [
       "  chrom        pv          variant\n",
       "0    22  0.002625  22_50195375_A_G\n",
       "1    22  0.029408  22_50196343_G_A"
      ]
     },
     "execution_count": 63,
     "metadata": {},
     "output_type": "execute_result"
    }
   ],
   "source": [
    "pv = pd.DataFrame({\"chrom\":G_expanded.chrom.values,\n",
    "               \"pv\":pvals,\n",
    "               \"variant\":G_expanded.snp.values})\n",
    "pv.head()"
   ]
  },
  {
   "cell_type": "code",
   "execution_count": 33,
   "id": "298a5dcd",
   "metadata": {},
   "outputs": [
    {
     "data": {
      "text/html": [
       "<div>\n",
       "<style scoped>\n",
       "    .dataframe tbody tr th:only-of-type {\n",
       "        vertical-align: middle;\n",
       "    }\n",
       "\n",
       "    .dataframe tbody tr th {\n",
       "        vertical-align: top;\n",
       "    }\n",
       "\n",
       "    .dataframe thead th {\n",
       "        text-align: right;\n",
       "    }\n",
       "</style>\n",
       "<table border=\"1\" class=\"dataframe\">\n",
       "  <thead>\n",
       "    <tr style=\"text-align: right;\">\n",
       "      <th></th>\n",
       "      <th>chrom</th>\n",
       "      <th>pv</th>\n",
       "      <th>variant</th>\n",
       "    </tr>\n",
       "  </thead>\n",
       "  <tbody>\n",
       "    <tr>\n",
       "      <th>0</th>\n",
       "      <td>22</td>\n",
       "      <td>0.113902</td>\n",
       "      <td>22_38815543_G_T</td>\n",
       "    </tr>\n",
       "    <tr>\n",
       "      <th>1</th>\n",
       "      <td>22</td>\n",
       "      <td>0.021920</td>\n",
       "      <td>22_38815767_C_T</td>\n",
       "    </tr>\n",
       "  </tbody>\n",
       "</table>\n",
       "</div>"
      ],
      "text/plain": [
       "  chrom        pv          variant\n",
       "0    22  0.113902  22_38815543_G_T\n",
       "1    22  0.021920  22_38815767_C_T"
      ]
     },
     "execution_count": 33,
     "metadata": {},
     "output_type": "execute_result"
    }
   ],
   "source": [
    "pv = pd.DataFrame({\"chrom\":G_expanded.chrom.values,\n",
    "               \"pv\":pvals,\n",
    "               \"variant\":G_expanded.snp.values})\n",
    "pv.head()"
   ]
  },
  {
   "cell_type": "code",
   "execution_count": 26,
   "id": "812257f9",
   "metadata": {},
   "outputs": [
    {
     "name": "stderr",
     "output_type": "stream",
     "text": [
      "\n",
      "Mapping files:   0%|          | 0/3 [00:00<?, ?it/s]\u001b[A"
     ]
    },
    {
     "ename": "KeyboardInterrupt",
     "evalue": "",
     "output_type": "error",
     "traceback": [
      "\u001b[0;31m---------------------------------------------------------------------------\u001b[0m",
      "\u001b[0;31mKeyboardInterrupt\u001b[0m                         Traceback (most recent call last)",
      "\u001b[0;32m<ipython-input-26-27191ff646c6>\u001b[0m in \u001b[0;36m<module>\u001b[0;34m\u001b[0m\n\u001b[1;32m     13\u001b[0m \u001b[0mplink_folder\u001b[0m \u001b[0;34m=\u001b[0m \u001b[0;34m\"/hps/nobackup/hipsci/scratch/genotypes/imputed/2017-03-27/Full_Filtered_SNPs_Plink/\"\u001b[0m\u001b[0;34m\u001b[0m\u001b[0;34m\u001b[0m\u001b[0m\n\u001b[1;32m     14\u001b[0m \u001b[0mplink_file\u001b[0m \u001b[0;34m=\u001b[0m \u001b[0mplink_folder\u001b[0m\u001b[0;34m+\u001b[0m\u001b[0;34m\"hipsci.wec.gtarray.HumanCoreExome.imputed_phased.20170327.genotypes.norm.renamed.bed\"\u001b[0m\u001b[0;34m\u001b[0m\u001b[0;34m\u001b[0m\u001b[0m\n\u001b[0;32m---> 15\u001b[0;31m \u001b[0mG\u001b[0m \u001b[0;34m=\u001b[0m \u001b[0mread_plink1_bin\u001b[0m\u001b[0;34m(\u001b[0m\u001b[0mplink_file\u001b[0m\u001b[0;34m)\u001b[0m\u001b[0;34m\u001b[0m\u001b[0;34m\u001b[0m\u001b[0m\n\u001b[0m\u001b[1;32m     16\u001b[0m \u001b[0;34m\u001b[0m\u001b[0m\n\u001b[1;32m     17\u001b[0m \u001b[0;31m######################################\u001b[0m\u001b[0;34m\u001b[0m\u001b[0;34m\u001b[0m\u001b[0;34m\u001b[0m\u001b[0m\n",
      "\u001b[0;32m/nfs/software/stegle/users/acuomo/conda-envs/struct-lmm2/lib/python3.8/site-packages/pandas_plink/_read.py\u001b[0m in \u001b[0;36mread_plink1_bin\u001b[0;34m(bed, bim, fam, verbose, ref, chunk)\u001b[0m\n\u001b[1;32m    292\u001b[0m     \u001b[0mpbar\u001b[0m \u001b[0;34m=\u001b[0m \u001b[0mtqdm\u001b[0m\u001b[0;34m(\u001b[0m\u001b[0mdesc\u001b[0m\u001b[0;34m=\u001b[0m\u001b[0;34m\"Mapping files\"\u001b[0m\u001b[0;34m,\u001b[0m \u001b[0mtotal\u001b[0m\u001b[0;34m=\u001b[0m\u001b[0mnfiles\u001b[0m\u001b[0;34m,\u001b[0m \u001b[0mdisable\u001b[0m\u001b[0;34m=\u001b[0m\u001b[0;32mnot\u001b[0m \u001b[0mverbose\u001b[0m\u001b[0;34m)\u001b[0m\u001b[0;34m\u001b[0m\u001b[0;34m\u001b[0m\u001b[0m\n\u001b[1;32m    293\u001b[0m \u001b[0;34m\u001b[0m\u001b[0m\n\u001b[0;32m--> 294\u001b[0;31m     \u001b[0mbims\u001b[0m \u001b[0;34m=\u001b[0m \u001b[0m_read_file\u001b[0m\u001b[0;34m(\u001b[0m\u001b[0mbim_files\u001b[0m\u001b[0;34m,\u001b[0m \u001b[0;32mlambda\u001b[0m \u001b[0mf\u001b[0m\u001b[0;34m:\u001b[0m \u001b[0m_read_bim\u001b[0m\u001b[0;34m(\u001b[0m\u001b[0mf\u001b[0m\u001b[0;34m)\u001b[0m\u001b[0;34m,\u001b[0m \u001b[0mpbar\u001b[0m\u001b[0;34m)\u001b[0m\u001b[0;34m\u001b[0m\u001b[0;34m\u001b[0m\u001b[0m\n\u001b[0m\u001b[1;32m    295\u001b[0m     \u001b[0mnmarkers\u001b[0m \u001b[0;34m=\u001b[0m \u001b[0;34m{\u001b[0m\u001b[0mbed_files\u001b[0m\u001b[0;34m[\u001b[0m\u001b[0mi\u001b[0m\u001b[0;34m]\u001b[0m\u001b[0;34m:\u001b[0m \u001b[0mb\u001b[0m\u001b[0;34m.\u001b[0m\u001b[0mshape\u001b[0m\u001b[0;34m[\u001b[0m\u001b[0;36m0\u001b[0m\u001b[0;34m]\u001b[0m \u001b[0;32mfor\u001b[0m \u001b[0mi\u001b[0m\u001b[0;34m,\u001b[0m \u001b[0mb\u001b[0m \u001b[0;32min\u001b[0m \u001b[0menumerate\u001b[0m\u001b[0;34m(\u001b[0m\u001b[0mbims\u001b[0m\u001b[0;34m)\u001b[0m\u001b[0;34m}\u001b[0m\u001b[0;34m\u001b[0m\u001b[0;34m\u001b[0m\u001b[0m\n\u001b[1;32m    296\u001b[0m     \u001b[0mbim_df\u001b[0m \u001b[0;34m=\u001b[0m \u001b[0mpd\u001b[0m\u001b[0;34m.\u001b[0m\u001b[0mconcat\u001b[0m\u001b[0;34m(\u001b[0m\u001b[0mbims\u001b[0m\u001b[0;34m,\u001b[0m \u001b[0maxis\u001b[0m\u001b[0;34m=\u001b[0m\u001b[0;36m0\u001b[0m\u001b[0;34m,\u001b[0m \u001b[0mignore_index\u001b[0m\u001b[0;34m=\u001b[0m\u001b[0;32mTrue\u001b[0m\u001b[0;34m)\u001b[0m\u001b[0;34m\u001b[0m\u001b[0;34m\u001b[0m\u001b[0m\n",
      "\u001b[0;32m/nfs/software/stegle/users/acuomo/conda-envs/struct-lmm2/lib/python3.8/site-packages/pandas_plink/_read.py\u001b[0m in \u001b[0;36m_read_file\u001b[0;34m(fn, read_func, pbar)\u001b[0m\n\u001b[1;32m    330\u001b[0m     \u001b[0mdata\u001b[0m \u001b[0;34m=\u001b[0m \u001b[0;34m[\u001b[0m\u001b[0;34m]\u001b[0m\u001b[0;34m\u001b[0m\u001b[0;34m\u001b[0m\u001b[0m\n\u001b[1;32m    331\u001b[0m     \u001b[0;32mfor\u001b[0m \u001b[0mf\u001b[0m \u001b[0;32min\u001b[0m \u001b[0mfn\u001b[0m\u001b[0;34m:\u001b[0m\u001b[0;34m\u001b[0m\u001b[0;34m\u001b[0m\u001b[0m\n\u001b[0;32m--> 332\u001b[0;31m         \u001b[0mdata\u001b[0m\u001b[0;34m.\u001b[0m\u001b[0mappend\u001b[0m\u001b[0;34m(\u001b[0m\u001b[0mread_func\u001b[0m\u001b[0;34m(\u001b[0m\u001b[0mf\u001b[0m\u001b[0;34m)\u001b[0m\u001b[0;34m)\u001b[0m\u001b[0;34m\u001b[0m\u001b[0;34m\u001b[0m\u001b[0m\n\u001b[0m\u001b[1;32m    333\u001b[0m         \u001b[0mpbar\u001b[0m\u001b[0;34m.\u001b[0m\u001b[0mupdate\u001b[0m\u001b[0;34m(\u001b[0m\u001b[0;36m1\u001b[0m\u001b[0;34m)\u001b[0m\u001b[0;34m\u001b[0m\u001b[0;34m\u001b[0m\u001b[0m\n\u001b[1;32m    334\u001b[0m     \u001b[0;32mreturn\u001b[0m \u001b[0mdata\u001b[0m\u001b[0;34m\u001b[0m\u001b[0;34m\u001b[0m\u001b[0m\n",
      "\u001b[0;32m/nfs/software/stegle/users/acuomo/conda-envs/struct-lmm2/lib/python3.8/site-packages/pandas_plink/_read.py\u001b[0m in \u001b[0;36m<lambda>\u001b[0;34m(f)\u001b[0m\n\u001b[1;32m    292\u001b[0m     \u001b[0mpbar\u001b[0m \u001b[0;34m=\u001b[0m \u001b[0mtqdm\u001b[0m\u001b[0;34m(\u001b[0m\u001b[0mdesc\u001b[0m\u001b[0;34m=\u001b[0m\u001b[0;34m\"Mapping files\"\u001b[0m\u001b[0;34m,\u001b[0m \u001b[0mtotal\u001b[0m\u001b[0;34m=\u001b[0m\u001b[0mnfiles\u001b[0m\u001b[0;34m,\u001b[0m \u001b[0mdisable\u001b[0m\u001b[0;34m=\u001b[0m\u001b[0;32mnot\u001b[0m \u001b[0mverbose\u001b[0m\u001b[0;34m)\u001b[0m\u001b[0;34m\u001b[0m\u001b[0;34m\u001b[0m\u001b[0m\n\u001b[1;32m    293\u001b[0m \u001b[0;34m\u001b[0m\u001b[0m\n\u001b[0;32m--> 294\u001b[0;31m     \u001b[0mbims\u001b[0m \u001b[0;34m=\u001b[0m \u001b[0m_read_file\u001b[0m\u001b[0;34m(\u001b[0m\u001b[0mbim_files\u001b[0m\u001b[0;34m,\u001b[0m \u001b[0;32mlambda\u001b[0m \u001b[0mf\u001b[0m\u001b[0;34m:\u001b[0m \u001b[0m_read_bim\u001b[0m\u001b[0;34m(\u001b[0m\u001b[0mf\u001b[0m\u001b[0;34m)\u001b[0m\u001b[0;34m,\u001b[0m \u001b[0mpbar\u001b[0m\u001b[0;34m)\u001b[0m\u001b[0;34m\u001b[0m\u001b[0;34m\u001b[0m\u001b[0m\n\u001b[0m\u001b[1;32m    295\u001b[0m     \u001b[0mnmarkers\u001b[0m \u001b[0;34m=\u001b[0m \u001b[0;34m{\u001b[0m\u001b[0mbed_files\u001b[0m\u001b[0;34m[\u001b[0m\u001b[0mi\u001b[0m\u001b[0;34m]\u001b[0m\u001b[0;34m:\u001b[0m \u001b[0mb\u001b[0m\u001b[0;34m.\u001b[0m\u001b[0mshape\u001b[0m\u001b[0;34m[\u001b[0m\u001b[0;36m0\u001b[0m\u001b[0;34m]\u001b[0m \u001b[0;32mfor\u001b[0m \u001b[0mi\u001b[0m\u001b[0;34m,\u001b[0m \u001b[0mb\u001b[0m \u001b[0;32min\u001b[0m \u001b[0menumerate\u001b[0m\u001b[0;34m(\u001b[0m\u001b[0mbims\u001b[0m\u001b[0;34m)\u001b[0m\u001b[0;34m}\u001b[0m\u001b[0;34m\u001b[0m\u001b[0;34m\u001b[0m\u001b[0m\n\u001b[1;32m    296\u001b[0m     \u001b[0mbim_df\u001b[0m \u001b[0;34m=\u001b[0m \u001b[0mpd\u001b[0m\u001b[0;34m.\u001b[0m\u001b[0mconcat\u001b[0m\u001b[0;34m(\u001b[0m\u001b[0mbims\u001b[0m\u001b[0;34m,\u001b[0m \u001b[0maxis\u001b[0m\u001b[0;34m=\u001b[0m\u001b[0;36m0\u001b[0m\u001b[0;34m,\u001b[0m \u001b[0mignore_index\u001b[0m\u001b[0;34m=\u001b[0m\u001b[0;32mTrue\u001b[0m\u001b[0;34m)\u001b[0m\u001b[0;34m\u001b[0m\u001b[0;34m\u001b[0m\u001b[0m\n",
      "\u001b[0;32m/nfs/software/stegle/users/acuomo/conda-envs/struct-lmm2/lib/python3.8/site-packages/pandas_plink/_read.py\u001b[0m in \u001b[0;36m_read_bim\u001b[0;34m(fn)\u001b[0m\n\u001b[1;32m    362\u001b[0m         ]\n\u001b[1;32m    363\u001b[0m     )\n\u001b[0;32m--> 364\u001b[0;31m     \u001b[0mdf\u001b[0m \u001b[0;34m=\u001b[0m \u001b[0m_read_csv\u001b[0m\u001b[0;34m(\u001b[0m\u001b[0mfn\u001b[0m\u001b[0;34m,\u001b[0m \u001b[0mheader\u001b[0m\u001b[0;34m)\u001b[0m\u001b[0;34m\u001b[0m\u001b[0;34m\u001b[0m\u001b[0m\n\u001b[0m\u001b[1;32m    365\u001b[0m \u001b[0;34m\u001b[0m\u001b[0m\n\u001b[1;32m    366\u001b[0m     \u001b[0mdf\u001b[0m\u001b[0;34m[\u001b[0m\u001b[0;34m\"i\"\u001b[0m\u001b[0;34m]\u001b[0m \u001b[0;34m=\u001b[0m \u001b[0mrange\u001b[0m\u001b[0;34m(\u001b[0m\u001b[0mdf\u001b[0m\u001b[0;34m.\u001b[0m\u001b[0mshape\u001b[0m\u001b[0;34m[\u001b[0m\u001b[0;36m0\u001b[0m\u001b[0;34m]\u001b[0m\u001b[0;34m)\u001b[0m\u001b[0;34m\u001b[0m\u001b[0;34m\u001b[0m\u001b[0m\n",
      "\u001b[0;32m/nfs/software/stegle/users/acuomo/conda-envs/struct-lmm2/lib/python3.8/site-packages/pandas_plink/_read.py\u001b[0m in \u001b[0;36m_read_csv\u001b[0;34m(fn, header)\u001b[0m\n\u001b[1;32m    338\u001b[0m     \u001b[0;32mfrom\u001b[0m \u001b[0mpandas\u001b[0m \u001b[0;32mimport\u001b[0m \u001b[0mread_csv\u001b[0m\u001b[0;34m\u001b[0m\u001b[0;34m\u001b[0m\u001b[0m\n\u001b[1;32m    339\u001b[0m \u001b[0;34m\u001b[0m\u001b[0m\n\u001b[0;32m--> 340\u001b[0;31m     return read_csv(\n\u001b[0m\u001b[1;32m    341\u001b[0m         \u001b[0mfn\u001b[0m\u001b[0;34m,\u001b[0m\u001b[0;34m\u001b[0m\u001b[0;34m\u001b[0m\u001b[0m\n\u001b[1;32m    342\u001b[0m         \u001b[0mdelim_whitespace\u001b[0m\u001b[0;34m=\u001b[0m\u001b[0;32mTrue\u001b[0m\u001b[0;34m,\u001b[0m\u001b[0;34m\u001b[0m\u001b[0;34m\u001b[0m\u001b[0m\n",
      "\u001b[0;32m/nfs/software/stegle/users/acuomo/conda-envs/struct-lmm2/lib/python3.8/site-packages/pandas/io/parsers.py\u001b[0m in \u001b[0;36mread_csv\u001b[0;34m(filepath_or_buffer, sep, delimiter, header, names, index_col, usecols, squeeze, prefix, mangle_dupe_cols, dtype, engine, converters, true_values, false_values, skipinitialspace, skiprows, skipfooter, nrows, na_values, keep_default_na, na_filter, verbose, skip_blank_lines, parse_dates, infer_datetime_format, keep_date_col, date_parser, dayfirst, cache_dates, iterator, chunksize, compression, thousands, decimal, lineterminator, quotechar, quoting, doublequote, escapechar, comment, encoding, dialect, error_bad_lines, warn_bad_lines, delim_whitespace, low_memory, memory_map, float_precision)\u001b[0m\n\u001b[1;32m    684\u001b[0m     )\n\u001b[1;32m    685\u001b[0m \u001b[0;34m\u001b[0m\u001b[0m\n\u001b[0;32m--> 686\u001b[0;31m     \u001b[0;32mreturn\u001b[0m \u001b[0m_read\u001b[0m\u001b[0;34m(\u001b[0m\u001b[0mfilepath_or_buffer\u001b[0m\u001b[0;34m,\u001b[0m \u001b[0mkwds\u001b[0m\u001b[0;34m)\u001b[0m\u001b[0;34m\u001b[0m\u001b[0;34m\u001b[0m\u001b[0m\n\u001b[0m\u001b[1;32m    687\u001b[0m \u001b[0;34m\u001b[0m\u001b[0m\n\u001b[1;32m    688\u001b[0m \u001b[0;34m\u001b[0m\u001b[0m\n",
      "\u001b[0;32m/nfs/software/stegle/users/acuomo/conda-envs/struct-lmm2/lib/python3.8/site-packages/pandas/io/parsers.py\u001b[0m in \u001b[0;36m_read\u001b[0;34m(filepath_or_buffer, kwds)\u001b[0m\n\u001b[1;32m    456\u001b[0m \u001b[0;34m\u001b[0m\u001b[0m\n\u001b[1;32m    457\u001b[0m     \u001b[0;32mtry\u001b[0m\u001b[0;34m:\u001b[0m\u001b[0;34m\u001b[0m\u001b[0;34m\u001b[0m\u001b[0m\n\u001b[0;32m--> 458\u001b[0;31m         \u001b[0mdata\u001b[0m \u001b[0;34m=\u001b[0m \u001b[0mparser\u001b[0m\u001b[0;34m.\u001b[0m\u001b[0mread\u001b[0m\u001b[0;34m(\u001b[0m\u001b[0mnrows\u001b[0m\u001b[0;34m)\u001b[0m\u001b[0;34m\u001b[0m\u001b[0;34m\u001b[0m\u001b[0m\n\u001b[0m\u001b[1;32m    459\u001b[0m     \u001b[0;32mfinally\u001b[0m\u001b[0;34m:\u001b[0m\u001b[0;34m\u001b[0m\u001b[0;34m\u001b[0m\u001b[0m\n\u001b[1;32m    460\u001b[0m         \u001b[0mparser\u001b[0m\u001b[0;34m.\u001b[0m\u001b[0mclose\u001b[0m\u001b[0;34m(\u001b[0m\u001b[0;34m)\u001b[0m\u001b[0;34m\u001b[0m\u001b[0;34m\u001b[0m\u001b[0m\n",
      "\u001b[0;32m/nfs/software/stegle/users/acuomo/conda-envs/struct-lmm2/lib/python3.8/site-packages/pandas/io/parsers.py\u001b[0m in \u001b[0;36mread\u001b[0;34m(self, nrows)\u001b[0m\n\u001b[1;32m   1194\u001b[0m     \u001b[0;32mdef\u001b[0m \u001b[0mread\u001b[0m\u001b[0;34m(\u001b[0m\u001b[0mself\u001b[0m\u001b[0;34m,\u001b[0m \u001b[0mnrows\u001b[0m\u001b[0;34m=\u001b[0m\u001b[0;32mNone\u001b[0m\u001b[0;34m)\u001b[0m\u001b[0;34m:\u001b[0m\u001b[0;34m\u001b[0m\u001b[0;34m\u001b[0m\u001b[0m\n\u001b[1;32m   1195\u001b[0m         \u001b[0mnrows\u001b[0m \u001b[0;34m=\u001b[0m \u001b[0m_validate_integer\u001b[0m\u001b[0;34m(\u001b[0m\u001b[0;34m\"nrows\"\u001b[0m\u001b[0;34m,\u001b[0m \u001b[0mnrows\u001b[0m\u001b[0;34m)\u001b[0m\u001b[0;34m\u001b[0m\u001b[0;34m\u001b[0m\u001b[0m\n\u001b[0;32m-> 1196\u001b[0;31m         \u001b[0mret\u001b[0m \u001b[0;34m=\u001b[0m \u001b[0mself\u001b[0m\u001b[0;34m.\u001b[0m\u001b[0m_engine\u001b[0m\u001b[0;34m.\u001b[0m\u001b[0mread\u001b[0m\u001b[0;34m(\u001b[0m\u001b[0mnrows\u001b[0m\u001b[0;34m)\u001b[0m\u001b[0;34m\u001b[0m\u001b[0;34m\u001b[0m\u001b[0m\n\u001b[0m\u001b[1;32m   1197\u001b[0m \u001b[0;34m\u001b[0m\u001b[0m\n\u001b[1;32m   1198\u001b[0m         \u001b[0;31m# May alter columns / col_dict\u001b[0m\u001b[0;34m\u001b[0m\u001b[0;34m\u001b[0m\u001b[0;34m\u001b[0m\u001b[0m\n",
      "\u001b[0;32m/nfs/software/stegle/users/acuomo/conda-envs/struct-lmm2/lib/python3.8/site-packages/pandas/io/parsers.py\u001b[0m in \u001b[0;36mread\u001b[0;34m(self, nrows)\u001b[0m\n\u001b[1;32m   2153\u001b[0m     \u001b[0;32mdef\u001b[0m \u001b[0mread\u001b[0m\u001b[0;34m(\u001b[0m\u001b[0mself\u001b[0m\u001b[0;34m,\u001b[0m \u001b[0mnrows\u001b[0m\u001b[0;34m=\u001b[0m\u001b[0;32mNone\u001b[0m\u001b[0;34m)\u001b[0m\u001b[0;34m:\u001b[0m\u001b[0;34m\u001b[0m\u001b[0;34m\u001b[0m\u001b[0m\n\u001b[1;32m   2154\u001b[0m         \u001b[0;32mtry\u001b[0m\u001b[0;34m:\u001b[0m\u001b[0;34m\u001b[0m\u001b[0;34m\u001b[0m\u001b[0m\n\u001b[0;32m-> 2155\u001b[0;31m             \u001b[0mdata\u001b[0m \u001b[0;34m=\u001b[0m \u001b[0mself\u001b[0m\u001b[0;34m.\u001b[0m\u001b[0m_reader\u001b[0m\u001b[0;34m.\u001b[0m\u001b[0mread\u001b[0m\u001b[0;34m(\u001b[0m\u001b[0mnrows\u001b[0m\u001b[0;34m)\u001b[0m\u001b[0;34m\u001b[0m\u001b[0;34m\u001b[0m\u001b[0m\n\u001b[0m\u001b[1;32m   2156\u001b[0m         \u001b[0;32mexcept\u001b[0m \u001b[0mStopIteration\u001b[0m\u001b[0;34m:\u001b[0m\u001b[0;34m\u001b[0m\u001b[0;34m\u001b[0m\u001b[0m\n\u001b[1;32m   2157\u001b[0m             \u001b[0;32mif\u001b[0m \u001b[0mself\u001b[0m\u001b[0;34m.\u001b[0m\u001b[0m_first_chunk\u001b[0m\u001b[0;34m:\u001b[0m\u001b[0;34m\u001b[0m\u001b[0;34m\u001b[0m\u001b[0m\n",
      "\u001b[0;32mpandas/_libs/parsers.pyx\u001b[0m in \u001b[0;36mpandas._libs.parsers.TextReader.read\u001b[0;34m()\u001b[0m\n",
      "\u001b[0;32mpandas/_libs/parsers.pyx\u001b[0m in \u001b[0;36mpandas._libs.parsers.TextReader._read_low_memory\u001b[0;34m()\u001b[0m\n",
      "\u001b[0;32mpandas/_libs/parsers.pyx\u001b[0m in \u001b[0;36mpandas._libs.parsers.TextReader._read_rows\u001b[0;34m()\u001b[0m\n",
      "\u001b[0;32mpandas/_libs/parsers.pyx\u001b[0m in \u001b[0;36mpandas._libs.parsers.TextReader._convert_column_data\u001b[0;34m()\u001b[0m\n",
      "\u001b[0;32mpandas/_libs/parsers.pyx\u001b[0m in \u001b[0;36mpandas._libs.parsers.TextReader._convert_tokens\u001b[0;34m()\u001b[0m\n",
      "\u001b[0;32mpandas/_libs/parsers.pyx\u001b[0m in \u001b[0;36mpandas._libs.parsers.TextReader._convert_with_dtype\u001b[0;34m()\u001b[0m\n",
      "\u001b[0;32m/nfs/software/stegle/users/acuomo/conda-envs/struct-lmm2/lib/python3.8/site-packages/pandas/core/arrays/string_.py\u001b[0m in \u001b[0;36m_from_sequence_of_strings\u001b[0;34m(cls, strings, dtype, copy)\u001b[0m\n\u001b[1;32m    209\u001b[0m     \u001b[0;34m@\u001b[0m\u001b[0mclassmethod\u001b[0m\u001b[0;34m\u001b[0m\u001b[0;34m\u001b[0m\u001b[0m\n\u001b[1;32m    210\u001b[0m     \u001b[0;32mdef\u001b[0m \u001b[0m_from_sequence_of_strings\u001b[0m\u001b[0;34m(\u001b[0m\u001b[0mcls\u001b[0m\u001b[0;34m,\u001b[0m \u001b[0mstrings\u001b[0m\u001b[0;34m,\u001b[0m \u001b[0mdtype\u001b[0m\u001b[0;34m=\u001b[0m\u001b[0;32mNone\u001b[0m\u001b[0;34m,\u001b[0m \u001b[0mcopy\u001b[0m\u001b[0;34m=\u001b[0m\u001b[0;32mFalse\u001b[0m\u001b[0;34m)\u001b[0m\u001b[0;34m:\u001b[0m\u001b[0;34m\u001b[0m\u001b[0;34m\u001b[0m\u001b[0m\n\u001b[0;32m--> 211\u001b[0;31m         \u001b[0;32mreturn\u001b[0m \u001b[0mcls\u001b[0m\u001b[0;34m.\u001b[0m\u001b[0m_from_sequence\u001b[0m\u001b[0;34m(\u001b[0m\u001b[0mstrings\u001b[0m\u001b[0;34m,\u001b[0m \u001b[0mdtype\u001b[0m\u001b[0;34m=\u001b[0m\u001b[0mdtype\u001b[0m\u001b[0;34m,\u001b[0m \u001b[0mcopy\u001b[0m\u001b[0;34m=\u001b[0m\u001b[0mcopy\u001b[0m\u001b[0;34m)\u001b[0m\u001b[0;34m\u001b[0m\u001b[0;34m\u001b[0m\u001b[0m\n\u001b[0m\u001b[1;32m    212\u001b[0m \u001b[0;34m\u001b[0m\u001b[0m\n\u001b[1;32m    213\u001b[0m     \u001b[0;32mdef\u001b[0m \u001b[0m__arrow_array__\u001b[0m\u001b[0;34m(\u001b[0m\u001b[0mself\u001b[0m\u001b[0;34m,\u001b[0m \u001b[0mtype\u001b[0m\u001b[0;34m=\u001b[0m\u001b[0;32mNone\u001b[0m\u001b[0;34m)\u001b[0m\u001b[0;34m:\u001b[0m\u001b[0;34m\u001b[0m\u001b[0;34m\u001b[0m\u001b[0m\n",
      "\u001b[0;32m/nfs/software/stegle/users/acuomo/conda-envs/struct-lmm2/lib/python3.8/site-packages/pandas/core/arrays/string_.py\u001b[0m in \u001b[0;36m_from_sequence\u001b[0;34m(cls, scalars, dtype, copy)\u001b[0m\n\u001b[1;32m    201\u001b[0m \u001b[0;34m\u001b[0m\u001b[0m\n\u001b[1;32m    202\u001b[0m         \u001b[0;31m# convert non-na-likes to str, and nan-likes to StringDtype.na_value\u001b[0m\u001b[0;34m\u001b[0m\u001b[0;34m\u001b[0m\u001b[0;34m\u001b[0m\u001b[0m\n\u001b[0;32m--> 203\u001b[0;31m         result = lib.ensure_string_array(\n\u001b[0m\u001b[1;32m    204\u001b[0m             \u001b[0mscalars\u001b[0m\u001b[0;34m,\u001b[0m \u001b[0mna_value\u001b[0m\u001b[0;34m=\u001b[0m\u001b[0mStringDtype\u001b[0m\u001b[0;34m.\u001b[0m\u001b[0mna_value\u001b[0m\u001b[0;34m,\u001b[0m \u001b[0mcopy\u001b[0m\u001b[0;34m=\u001b[0m\u001b[0mcopy\u001b[0m\u001b[0;34m\u001b[0m\u001b[0;34m\u001b[0m\u001b[0m\n\u001b[1;32m    205\u001b[0m         )\n",
      "\u001b[0;32mpandas/_libs/lib.pyx\u001b[0m in \u001b[0;36mpandas._libs.lib.ensure_string_array\u001b[0;34m()\u001b[0m\n",
      "\u001b[0;32mpandas/_libs/lib.pyx\u001b[0m in \u001b[0;36mpandas._libs.lib.ensure_string_array\u001b[0;34m()\u001b[0m\n",
      "\u001b[0;31mKeyboardInterrupt\u001b[0m: "
     ]
    }
   ],
   "source": [
    "pv.to_csv(outfilename)"
   ]
  },
  {
   "cell_type": "code",
   "execution_count": null,
   "id": "68b27ccb",
   "metadata": {},
   "outputs": [],
   "source": []
  }
 ],
 "metadata": {
  "kernelspec": {
   "display_name": "Python (struct-lmm2)",
   "language": "python",
   "name": "struct-lmm2"
  },
  "language_info": {
   "codemirror_mode": {
    "name": "ipython",
    "version": 3
   },
   "file_extension": ".py",
   "mimetype": "text/x-python",
   "name": "python",
   "nbconvert_exporter": "python",
   "pygments_lexer": "ipython3",
   "version": "3.8.5"
  }
 },
 "nbformat": 4,
 "nbformat_minor": 5
}
