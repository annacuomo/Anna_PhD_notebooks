{
 "cells": [
  {
   "cell_type": "code",
   "execution_count": 1,
   "id": "7853d77d",
   "metadata": {},
   "outputs": [],
   "source": [
    "import os"
   ]
  },
  {
   "cell_type": "code",
   "execution_count": 2,
   "id": "1e7ded12",
   "metadata": {},
   "outputs": [],
   "source": [
    "import re\n",
    "import time\n",
    "import pandas as pd\n",
    "import xarray as xr\n",
    "from numpy import ones\n",
    "from numpy.linalg import cholesky\n",
    "from pandas_plink import read_plink1_bin\n",
    "from limix.qc import quantile_gaussianize\n",
    "\n",
    "from cellregmap import CellRegMap, run_interaction"
   ]
  },
  {
   "cell_type": "code",
   "execution_count": 3,
   "id": "032f8121",
   "metadata": {},
   "outputs": [],
   "source": [
    "i = 2\n",
    "seed = 0"
   ]
  },
  {
   "cell_type": "code",
   "execution_count": 4,
   "id": "0049650b",
   "metadata": {},
   "outputs": [
    {
     "name": "stdout",
     "output_type": "stream",
     "text": [
      "                feature            snpID  chrom\n",
      "1  ENSG00000100206_DMC1  22_38815543_G_T     22\n",
      "2  ENSG00000100206_DMC1  22_38815767_C_T     22\n",
      "3  ENSG00000100206_DMC1  22_38816059_T_C     22\n",
      "4  ENSG00000100206_DMC1  22_38816351_G_A     22\n",
      "5  ENSG00000100206_DMC1  22_38817047_A_G     22\n"
     ]
    }
   ],
   "source": [
    "revision_folder = \"/hps/nobackup/stegle/users/acuomo/all_scripts/struct_LMM2/sc_endodiff/debug_May2021/REVISION/\"\n",
    "\n",
    "####### right away check if this was already run for this gene\n",
    "# filter file (columns: snp_id, gene)\n",
    "fvf_filename = revision_folder+\"/CRM_interaction_chr22/fvf.csv\"\n",
    "fvf = pd.read_csv(fvf_filename, index_col = 0)\n",
    "print(fvf.head())"
   ]
  },
  {
   "cell_type": "code",
   "execution_count": 5,
   "id": "904d375c",
   "metadata": {
    "scrolled": true
   },
   "outputs": [
    {
     "name": "stdout",
     "output_type": "stream",
     "text": [
      "['ENSG00000100206_DMC1' 'ENSG00000182858_ALG12' 'ENSG00000100243_CYB5R3'\n",
      " 'ENSG00000099974_DDTL' 'ENSG00000128340_RAC2' 'ENSG00000240972_MIF'\n",
      " 'ENSG00000100034_PPM1F' 'ENSG00000130638_ATXN10' 'ENSG00000198355_PIM3'\n",
      " 'ENSG00000099904_ZDHHC8' 'ENSG00000100029_PES1' 'ENSG00000133466_C1QTNF6'\n",
      " 'ENSG00000186716_BCR' 'ENSG00000100263_RHBDD3' 'ENSG00000099889_ARVCF'\n",
      " 'ENSG00000100151_PICK1' 'ENSG00000099949_LZTR1' 'ENSG00000184674_GSTT1'\n",
      " 'ENSG00000099958_DERL3' 'ENSG00000099977_DDT' 'ENSG00000185252_ZNF74'\n",
      " 'ENSG00000100014_SPECC1L' 'ENSG00000128191_DGCR8'\n",
      " 'ENSG00000100350_FOXRED2' 'ENSG00000239713_APOBEC3G'\n",
      " 'ENSG00000128309_MPST' 'ENSG00000100099_HPS4' 'ENSG00000100033_PRODH'\n",
      " 'ENSG00000188130_MAPK12' 'ENSG00000184164_CRELD2' 'ENSG00000100410_PHF5A'\n",
      " 'ENSG00000100056_DGCR14' 'ENSG00000100354_TNRC6B'\n",
      " 'ENSG00000205853_RFPL3S' 'ENSG00000100225_FBXO7' 'ENSG00000015475_BID'\n",
      " 'ENSG00000100196_KDELR3' 'ENSG00000128311_TST' 'ENSG00000100083_GGA1'\n",
      " 'ENSG00000184208_C22orf46' 'ENSG00000069998_CECR5'\n",
      " 'ENSG00000099991_CABIN1' 'ENSG00000100362_PVALB' 'ENSG00000100294_MCAT'\n",
      " 'ENSG00000185651_UBE2L3' 'ENSG00000100219_XBP1' 'ENSG00000185838_GNB1L'\n",
      " 'ENSG00000243811_APOBEC3D' 'ENSG00000128242_GAL3ST1'\n",
      " 'ENSG00000099910_KLHL22' 'ENSG00000161179_YDJC' 'ENSG00000100288_CHKB'\n",
      " 'ENSG00000241973_PI4KA' 'ENSG00000025770_NCAPH2'\n",
      " 'ENSG00000226085_UQCRFS1P1' 'ENSG00000100325_ASCC2'\n",
      " 'ENSG00000100300_TSPO' 'ENSG00000184979_USP18' 'ENSG00000183506_PI4KAP2'\n",
      " 'ENSG00000100142_POLR2F' 'ENSG00000100246_DNAL4' 'ENSG00000183597_TANGO2'\n",
      " 'ENSG00000169635_HIC2' 'ENSG00000183963_SMTN' 'ENSG00000100413_POLR3H'\n",
      " 'ENSG00000100201_DDX17' 'ENSG00000100335_MIEF1' 'ENSG00000184983_NDUFA6'\n",
      " 'ENSG00000100422_CERK' 'ENSG00000100003_SEC14L2' 'ENSG00000100129_EIF3L'\n",
      " 'ENSG00000233603_JTBP1' 'ENSG00000100321_SYNGR1' 'ENSG00000100068_LRP5L'\n",
      " 'ENSG00000183569_SERHL2' 'ENSG00000099992_TBC1D10A'\n",
      " 'ENSG00000100162_CENPM' 'ENSG00000239282_GATSL3' 'ENSG00000215193_PEX26'\n",
      " 'ENSG00000100266_PACSIN2' 'ENSG00000100122_CRYBB1' 'ENSG00000185666_SYN3'\n",
      " 'ENSG00000100216_TOMM22' 'ENSG00000100345_MYH9' 'ENSG00000093009_CDC45'\n",
      " 'ENSG00000100395_L3MBTL2' 'ENSG00000186575_NF2' 'ENSG00000250479_CHCHD10'\n",
      " 'ENSG00000100065_CARD10' 'ENSG00000054611_TBC1D22A'\n",
      " 'ENSG00000185721_DRG1' 'ENSG00000099940_SNAP29'\n",
      " 'ENSG00000205856_C22orf42' 'ENSG00000242247_ARFGAP3'\n",
      " 'ENSG00000180957_PITPNB' 'ENSG00000242114_MTFP1' 'ENSG00000100078_PLA2G3'\n",
      " 'ENSG00000100401_RANGAP1' 'ENSG00000100221_JOSD1'\n",
      " 'ENSG00000219438_FAM19A5' 'ENSG00000100372_SLC25A17'\n",
      " 'ENSG00000100150_DEPDC5' 'ENSG00000161149_TUBA3FP' 'ENSG00000128266_GNAZ'\n",
      " 'ENSG00000100241_SBF1' 'ENSG00000205643_CDPF1' 'ENSG00000185340_GAS2L1'\n",
      " 'ENSG00000183628_DGCR6' 'ENSG00000241484_ARHGAP8' 'ENSG00000099942_CRKL'\n",
      " 'ENSG00000182541_LIMK2' 'ENSG00000242259_C22orf39'\n",
      " 'ENSG00000100330_MTMR3' 'ENSG00000100296_THOC5' 'ENSG00000100109_TFIP11'\n",
      " 'ENSG00000100234_TIMP3' 'ENSG00000130489_SCO2' 'ENSG00000070010_UFD1L'\n",
      " 'ENSG00000185022_MAFF' 'ENSG00000100348_TXN2' 'ENSG00000179750_APOBEC3B'\n",
      " 'ENSG00000133460_SLC2A11' 'ENSG00000188677_PARVB' 'ENSG00000198089_SFI1'\n",
      " 'ENSG00000182841_RRP7B' 'ENSG00000100280_AP1B1'\n",
      " 'ENSG00000215012_C22orf29' 'ENSG00000100304_TTLL12'\n",
      " 'ENSG00000099956_SMARCB1' 'ENSG00000183741_CBX6' 'ENSG00000075218_GTSE1'\n",
      " 'ENSG00000100220_RTCB' 'ENSG00000183765_CHEK2' 'ENSG00000128271_ADORA2A'\n",
      " 'ENSG00000099901_RANBP1' 'ENSG00000100075_SLC25A1' 'ENSG00000100297_MCM5'\n",
      " 'ENSG00000133424_LARGE' 'ENSG00000100226_GTPBP1' 'ENSG00000100336_APOL4'\n",
      " 'ENSG00000100425_BRD1' 'ENSG00000221963_APOL6' 'ENSG00000159873_CCDC117'\n",
      " 'ENSG00000100258_LMF2' 'ENSG00000070413_DGCR2'\n",
      " 'ENSG00000184708_EIF4ENIF1' 'ENSG00000186951_PPARA'\n",
      " 'ENSG00000183530_PRR14L' 'ENSG00000170638_TRABD' 'ENSG00000099899_TRMT2A'\n",
      " 'ENSG00000184113_CLDN5' 'ENSG00000100319_ZMAT5' 'ENSG00000182944_EWSR1'\n",
      " 'ENSG00000239900_ADSL' 'ENSG00000093072_CECR1' 'ENSG00000198792_TMEM184B'\n",
      " 'ENSG00000184076_UQCR10' 'ENSG00000185608_MRPL40' 'ENSG00000100038_TOP3B'\n",
      " 'ENSG00000186654_PRR5' 'ENSG00000169314_C22orf15' 'ENSG00000205560_CPT1B'\n",
      " 'ENSG00000243156_MICAL3' 'ENSG00000198911_SREBF2'\n",
      " 'ENSG00000184470_TXNRD2' 'ENSG00000196236_XPNPEP3'\n",
      " 'ENSG00000100347_SAMM50' 'ENSG00000183579_ZNRF3'\n",
      " 'ENSG00000128159_TUBGCP6' 'ENSG00000198951_NAGA'\n",
      " 'ENSG00000187051_RPS19BP1' 'ENSG00000099954_CECR2'\n",
      " 'ENSG00000196419_XRCC6' 'ENSG00000100271_TTLL1' 'ENSG00000100360_IFT27'\n",
      " 'ENSG00000213923_CSNK1E' 'ENSG00000100027_YPEL1'\n",
      " 'ENSG00000100227_POLDIP3' 'ENSG00000099953_MMP11'\n",
      " 'ENSG00000198477_ZNF280B' 'ENSG00000100031_GGT1' 'ENSG00000100104_SRRD'\n",
      " 'ENSG00000100299_ARSA' 'ENSG00000075234_TTC38' 'ENSG00000167065_DUSP18'\n",
      " 'ENSG00000196576_PLXNB2' 'ENSG00000196588_MKL1' 'ENSG00000100154_TTC28'\n",
      " 'ENSG00000100147_CCDC134' 'ENSG00000100276_RASL10A'\n",
      " 'ENSG00000128253_RFPL2' 'ENSG00000187860_CCDC157' 'ENSG00000128245_YWHAH'\n",
      " 'ENSG00000100344_PNPLA3' 'ENSG00000128294_TPST2' 'ENSG00000100209_HSCB'\n",
      " 'ENSG00000241878_PISD' 'ENSG00000184702_SEPT5' 'ENSG00000100292_HMOX1'\n",
      " 'ENSG00000100030_MAPK1' 'ENSG00000185339_TCN2' 'ENSG00000128394_APOBEC3F'\n",
      " 'ENSG00000183864_TOB2' 'ENSG00000244509_APOBEC3C' 'ENSG00000100418_DESI1'\n",
      " 'ENSG00000100167_SEPT3' 'ENSG00000100105_PATZ1' 'ENSG00000100324_TAB1'\n",
      " 'ENSG00000184117_NIPSNAP1' 'ENSG00000128272_ATF4' 'ENSG00000100359_SGSM3'\n",
      " 'ENSG00000138942_RNF185' 'ENSG00000128203_ASPHD2'\n",
      " 'ENSG00000185133_INPP5J' 'ENSG00000100429_HDAC10' 'ENSG00000100316_RPL3'\n",
      " 'ENSG00000178026_FAM211B' 'ENSG00000177663_IL17RA'\n",
      " 'ENSG00000128274_A4GALT' 'ENSG00000138867_GUCD1' 'ENSG00000100379_KCTD17'\n",
      " 'ENSG00000133422_MORC2' 'ENSG00000189306_RRP7A' 'ENSG00000215513_PI4KAP1'\n",
      " 'ENSG00000077942_FBLN1' 'ENSG00000100284_TOM1'\n",
      " 'ENSG00000184319_RPL23AP82' 'ENSG00000100138_NHP2L1'\n",
      " 'ENSG00000099995_SF3A1' 'ENSG00000099968_BCL2L13'\n",
      " 'ENSG00000100281_HMGXB4' 'ENSG00000128335_APOL2'\n",
      " 'ENSG00000248405_PRR5-ARHGAP8' 'ENSG00000214076_CPSF1P1'\n",
      " 'ENSG00000100364_KIAA0930' 'ENSG00000128185_DGCR6L'\n",
      " 'ENSG00000100387_RBX1' 'ENSG00000100380_ST13' 'ENSG00000100036_SLC35E4'\n",
      " 'ENSG00000100139_MICALL1' 'ENSG00000100393_EP300' 'ENSG00000100417_PMM1'\n",
      " 'ENSG00000093010_COMT' 'ENSG00000100311_PDGFB' 'ENSG00000100353_EIF3D'\n",
      " 'ENSG00000100412_ACO2' 'ENSG00000128283_CDC42EP1'\n",
      " 'ENSG00000079974_RABL2B' 'ENSG00000056487_PHF21B' 'ENSG00000128408_RIBC2'\n",
      " 'ENSG00000100058_CRYBB2P1' 'ENSG00000100028_SNRPD3'\n",
      " 'ENSG00000184381_PLA2G6' 'ENSG00000100376_FAM118A'\n",
      " 'ENSG00000100239_PPP6R2' 'ENSG00000100320_RBFOX2'\n",
      " 'ENSG00000133433_GSTT2B' 'ENSG00000128228_SDF2L1' 'ENSG00000183172_SMDT1'\n",
      " 'ENSG00000093000_NUP50' 'ENSG00000100023_PPIL2' 'ENSG00000099984_GSTT2'\n",
      " 'ENSG00000099917_MED15' 'ENSG00000100416_TRMU' 'ENSG00000184949_FAM227A'\n",
      " 'ENSG00000100242_SUN2' 'ENSG00000100211_CBY1' 'ENSG00000131100_ATP6V1E1'\n",
      " 'ENSG00000184436_THAP7' 'ENSG00000040608_RTN4R' 'ENSG00000100290_BIK']\n"
     ]
    }
   ],
   "source": [
    "genes = fvf['feature'].unique()\n",
    "print(genes)"
   ]
  },
  {
   "cell_type": "code",
   "execution_count": 6,
   "id": "c638a26c",
   "metadata": {},
   "outputs": [
    {
     "name": "stdout",
     "output_type": "stream",
     "text": [
      "ENSG00000100243_CYB5R3\n",
      "ENSG00000100243\n"
     ]
    }
   ],
   "source": [
    "gene_name = genes[i]\n",
    "trait_name = re.sub(\"_.*\",\"\",gene_name)\n",
    "print(gene_name)\n",
    "print(trait_name)"
   ]
  },
  {
   "cell_type": "code",
   "execution_count": 7,
   "id": "f8631de9",
   "metadata": {},
   "outputs": [
    {
     "data": {
      "text/html": [
       "<div>\n",
       "<style scoped>\n",
       "    .dataframe tbody tr th:only-of-type {\n",
       "        vertical-align: middle;\n",
       "    }\n",
       "\n",
       "    .dataframe tbody tr th {\n",
       "        vertical-align: top;\n",
       "    }\n",
       "\n",
       "    .dataframe thead th {\n",
       "        text-align: right;\n",
       "    }\n",
       "</style>\n",
       "<table border=\"1\" class=\"dataframe\">\n",
       "  <thead>\n",
       "    <tr style=\"text-align: right;\">\n",
       "      <th></th>\n",
       "      <th>feature</th>\n",
       "      <th>snpID</th>\n",
       "      <th>chrom</th>\n",
       "    </tr>\n",
       "  </thead>\n",
       "  <tbody>\n",
       "    <tr>\n",
       "      <th>735</th>\n",
       "      <td>ENSG00000100243_CYB5R3</td>\n",
       "      <td>22_42914931_T_C</td>\n",
       "      <td>22</td>\n",
       "    </tr>\n",
       "    <tr>\n",
       "      <th>736</th>\n",
       "      <td>ENSG00000100243_CYB5R3</td>\n",
       "      <td>22_42914937_A_G</td>\n",
       "      <td>22</td>\n",
       "    </tr>\n",
       "    <tr>\n",
       "      <th>737</th>\n",
       "      <td>ENSG00000100243_CYB5R3</td>\n",
       "      <td>22_42914974_T_C</td>\n",
       "      <td>22</td>\n",
       "    </tr>\n",
       "    <tr>\n",
       "      <th>738</th>\n",
       "      <td>ENSG00000100243_CYB5R3</td>\n",
       "      <td>22_42915479_G_A</td>\n",
       "      <td>22</td>\n",
       "    </tr>\n",
       "    <tr>\n",
       "      <th>739</th>\n",
       "      <td>ENSG00000100243_CYB5R3</td>\n",
       "      <td>22_42916215_C_G</td>\n",
       "      <td>22</td>\n",
       "    </tr>\n",
       "    <tr>\n",
       "      <th>...</th>\n",
       "      <td>...</td>\n",
       "      <td>...</td>\n",
       "      <td>...</td>\n",
       "    </tr>\n",
       "    <tr>\n",
       "      <th>1416</th>\n",
       "      <td>ENSG00000100243_CYB5R3</td>\n",
       "      <td>22_43144054_G_C</td>\n",
       "      <td>22</td>\n",
       "    </tr>\n",
       "    <tr>\n",
       "      <th>1417</th>\n",
       "      <td>ENSG00000100243_CYB5R3</td>\n",
       "      <td>22_43144502_A_G</td>\n",
       "      <td>22</td>\n",
       "    </tr>\n",
       "    <tr>\n",
       "      <th>1418</th>\n",
       "      <td>ENSG00000100243_CYB5R3</td>\n",
       "      <td>22_43144771_G_C</td>\n",
       "      <td>22</td>\n",
       "    </tr>\n",
       "    <tr>\n",
       "      <th>1419</th>\n",
       "      <td>ENSG00000100243_CYB5R3</td>\n",
       "      <td>22_43145421_G_C</td>\n",
       "      <td>22</td>\n",
       "    </tr>\n",
       "    <tr>\n",
       "      <th>1420</th>\n",
       "      <td>ENSG00000100243_CYB5R3</td>\n",
       "      <td>22_43145466_C_T</td>\n",
       "      <td>22</td>\n",
       "    </tr>\n",
       "  </tbody>\n",
       "</table>\n",
       "<p>686 rows × 3 columns</p>\n",
       "</div>"
      ],
      "text/plain": [
       "                     feature            snpID  chrom\n",
       "735   ENSG00000100243_CYB5R3  22_42914931_T_C     22\n",
       "736   ENSG00000100243_CYB5R3  22_42914937_A_G     22\n",
       "737   ENSG00000100243_CYB5R3  22_42914974_T_C     22\n",
       "738   ENSG00000100243_CYB5R3  22_42915479_G_A     22\n",
       "739   ENSG00000100243_CYB5R3  22_42916215_C_G     22\n",
       "...                      ...              ...    ...\n",
       "1416  ENSG00000100243_CYB5R3  22_43144054_G_C     22\n",
       "1417  ENSG00000100243_CYB5R3  22_43144502_A_G     22\n",
       "1418  ENSG00000100243_CYB5R3  22_43144771_G_C     22\n",
       "1419  ENSG00000100243_CYB5R3  22_43145421_G_C     22\n",
       "1420  ENSG00000100243_CYB5R3  22_43145466_C_T     22\n",
       "\n",
       "[686 rows x 3 columns]"
      ]
     },
     "execution_count": 7,
     "metadata": {},
     "output_type": "execute_result"
    }
   ],
   "source": [
    "fvf_gene = fvf[fvf['feature']==gene_name]\n",
    "fvf_gene"
   ]
  },
  {
   "cell_type": "code",
   "execution_count": 8,
   "id": "dc35492c",
   "metadata": {},
   "outputs": [
    {
     "data": {
      "text/plain": [
       "686"
      ]
     },
     "execution_count": 8,
     "metadata": {},
     "output_type": "execute_result"
    }
   ],
   "source": [
    "n = fvf_gene.shape[0]\n",
    "n"
   ]
  },
  {
   "cell_type": "code",
   "execution_count": 9,
   "id": "80e75763",
   "metadata": {},
   "outputs": [
    {
     "name": "stdout",
     "output_type": "stream",
     "text": [
      "/hps/nobackup/stegle/users/acuomo/all_scripts/struct_LMM2/sc_endodiff/debug_May2021/REVISION/CRM_interaction_chr22/results_permG/ENSG00000100243_0.tsv\n"
     ]
    }
   ],
   "source": [
    "folder = revision_folder+\"CRM_interaction_chr22/results_permG/\"\n",
    "outfilename = f\"{folder}{trait_name}_{seed}.tsv\"\n",
    "print(outfilename)"
   ]
  },
  {
   "cell_type": "code",
   "execution_count": 10,
   "id": "053805cc",
   "metadata": {},
   "outputs": [],
   "source": [
    "if os.path.exists(outfilename):\n",
    "    print(\"File already exists, exiting\")\n",
    "#     sys.exit()"
   ]
  },
  {
   "cell_type": "code",
   "execution_count": 11,
   "id": "c6472864",
   "metadata": {},
   "outputs": [],
   "source": [
    "input_files_dir = \"/hps/nobackup/stegle/users/acuomo/all_scripts/struct_LMM2/sc_endodiff/new/input_files/\""
   ]
  },
  {
   "cell_type": "code",
   "execution_count": 12,
   "id": "870e76ad",
   "metadata": {},
   "outputs": [],
   "source": [
    "## sample mapping file\n",
    "## this file will map cells to donors \n",
    "## it will also only include donors we have single-cell data for (a subset of all of HipSci donors)\n",
    "sample_mapping_file = input_files_dir+\"sample_mapping_file.csv\"\n",
    "sample_mapping = pd.read_csv(sample_mapping_file, dtype={\"genotype_individual_id\": str, \"phenotype_sample_id\": str})"
   ]
  },
  {
   "cell_type": "code",
   "execution_count": 13,
   "id": "92092c71",
   "metadata": {},
   "outputs": [
    {
     "data": {
      "text/html": [
       "<div>\n",
       "<style scoped>\n",
       "    .dataframe tbody tr th:only-of-type {\n",
       "        vertical-align: middle;\n",
       "    }\n",
       "\n",
       "    .dataframe tbody tr th {\n",
       "        vertical-align: top;\n",
       "    }\n",
       "\n",
       "    .dataframe thead th {\n",
       "        text-align: right;\n",
       "    }\n",
       "</style>\n",
       "<table border=\"1\" class=\"dataframe\">\n",
       "  <thead>\n",
       "    <tr style=\"text-align: right;\">\n",
       "      <th></th>\n",
       "      <th>genotype_individual_id</th>\n",
       "      <th>phenotype_sample_id</th>\n",
       "    </tr>\n",
       "  </thead>\n",
       "  <tbody>\n",
       "    <tr>\n",
       "      <th>0</th>\n",
       "      <td>HPSI0114i-joxm_1</td>\n",
       "      <td>21843_1#10</td>\n",
       "    </tr>\n",
       "    <tr>\n",
       "      <th>1</th>\n",
       "      <td>HPSI0314i-fafq_1</td>\n",
       "      <td>21843_1#100</td>\n",
       "    </tr>\n",
       "    <tr>\n",
       "      <th>2</th>\n",
       "      <td>HPSI0314i-fafq_1</td>\n",
       "      <td>21843_1#101</td>\n",
       "    </tr>\n",
       "    <tr>\n",
       "      <th>3</th>\n",
       "      <td>HPSI1013i-wuye_2</td>\n",
       "      <td>21843_1#102</td>\n",
       "    </tr>\n",
       "    <tr>\n",
       "      <th>4</th>\n",
       "      <td>HPSI0114i-joxm_1</td>\n",
       "      <td>21843_1#103</td>\n",
       "    </tr>\n",
       "  </tbody>\n",
       "</table>\n",
       "</div>"
      ],
      "text/plain": [
       "  genotype_individual_id phenotype_sample_id\n",
       "0       HPSI0114i-joxm_1          21843_1#10\n",
       "1       HPSI0314i-fafq_1         21843_1#100\n",
       "2       HPSI0314i-fafq_1         21843_1#101\n",
       "3       HPSI1013i-wuye_2         21843_1#102\n",
       "4       HPSI0114i-joxm_1         21843_1#103"
      ]
     },
     "execution_count": 13,
     "metadata": {},
     "output_type": "execute_result"
    }
   ],
   "source": [
    "## genotype_individual_id are donor IDs, as found in the genotype matrix (G) and GRM covariance (K)\n",
    "## phenotype_sample_id are cell IDs, as found in the scRNA-seq phenotype vector (y) and cell context covariance (C)\n",
    "sample_mapping.head()"
   ]
  },
  {
   "cell_type": "code",
   "execution_count": 14,
   "id": "b901c7db",
   "metadata": {},
   "outputs": [
    {
     "name": "stdout",
     "output_type": "stream",
     "text": [
      "Number of unique donors: 126\n"
     ]
    }
   ],
   "source": [
    "## extract unique individuals\n",
    "donors = sample_mapping[\"genotype_individual_id\"].unique()\n",
    "donors.sort()\n",
    "print(\"Number of unique donors: {}\".format(len(donors)))"
   ]
  },
  {
   "cell_type": "code",
   "execution_count": 15,
   "id": "d2106b02",
   "metadata": {},
   "outputs": [],
   "source": [
    "## read in GRM (genotype relationship matrix; kinship matrix)\n",
    "kinship_folder=\"/hps/nobackup/hipsci/scratch/genotypes/imputed/2017-03-27/Full_Filtered_SNPs_Plink-F/\"\n",
    "kinship_file=kinship_folder+\"hipsci.wec.gtarray.HumanCoreExome.imputed_phased.20170327.genotypes.norm.renamed.kinship\"\n",
    "K = pd.read_csv(kinship_file, sep=\"\\t\", index_col=0)\n",
    "assert all(K.columns == K.index) #symmetric matrix, donors x donors"
   ]
  },
  {
   "cell_type": "code",
   "execution_count": 16,
   "id": "c2f6e27c",
   "metadata": {},
   "outputs": [
    {
     "name": "stdout",
     "output_type": "stream",
     "text": [
      "Number of donors after kinship intersection: 125\n"
     ]
    }
   ],
   "source": [
    "K = xr.DataArray(K.values, dims=[\"sample_0\", \"sample_1\"], coords={\"sample_0\": K.columns, \"sample_1\": K.index})\n",
    "K = K.sortby(\"sample_0\").sortby(\"sample_1\")\n",
    "donors = sorted(set(list(K.sample_0.values)).intersection(donors))\n",
    "print(\"Number of donors after kinship intersection: {}\".format(len(donors)))"
   ]
  },
  {
   "cell_type": "code",
   "execution_count": 17,
   "id": "d8340e7d",
   "metadata": {},
   "outputs": [],
   "source": [
    "## subset to relevant donors\n",
    "K = K.sel(sample_0=donors, sample_1=donors)\n",
    "assert all(K.sample_0 == donors)\n",
    "assert all(K.sample_1 == donors)"
   ]
  },
  {
   "cell_type": "code",
   "execution_count": 18,
   "id": "8b49d62d",
   "metadata": {},
   "outputs": [],
   "source": [
    "## and decompose such as K = hK @ hK.T (using Cholesky decomposition)\n",
    "hK = cholesky(K.values)\n",
    "hK = xr.DataArray(hK, dims=[\"sample\", \"col\"], coords={\"sample\": K.sample_0.values})\n",
    "assert all(hK.sample.values == K.sample_0.values)"
   ]
  },
  {
   "cell_type": "code",
   "execution_count": 19,
   "id": "e0df09e5",
   "metadata": {},
   "outputs": [
    {
     "name": "stdout",
     "output_type": "stream",
     "text": [
      "Sample mapping number of rows BEFORE intersection: 34256\n",
      "Sample mapping number of rows AFTER intersection: 33964\n"
     ]
    }
   ],
   "source": [
    "del K\n",
    "print(\"Sample mapping number of rows BEFORE intersection: {}\".format(sample_mapping.shape[0]))\n",
    "## subsample sample mapping file to donors in the kinship matrix\n",
    "sample_mapping = sample_mapping[sample_mapping[\"genotype_individual_id\"].isin(donors)]\n",
    "print(\"Sample mapping number of rows AFTER intersection: {}\".format(sample_mapping.shape[0]))"
   ]
  },
  {
   "cell_type": "code",
   "execution_count": 20,
   "id": "98b39f0c",
   "metadata": {},
   "outputs": [],
   "source": [
    "## use sel from xarray to expand hK (using the sample mapping file)\n",
    "hK_expanded = hK.sel(sample=sample_mapping[\"genotype_individual_id\"].values)\n",
    "assert all(hK_expanded.sample.values == sample_mapping[\"genotype_individual_id\"].values)"
   ]
  },
  {
   "cell_type": "code",
   "execution_count": 21,
   "id": "b4db27ac",
   "metadata": {},
   "outputs": [
    {
     "name": "stderr",
     "output_type": "stream",
     "text": [
      "Mapping files: 100%|██████████| 3/3 [06:09<00:00, 123.00s/it]\n"
     ]
    }
   ],
   "source": [
    "## read in genotype file (plink format)\n",
    "plink_folder = \"/hps/nobackup/hipsci/scratch/genotypes/imputed/2017-03-27/Full_Filtered_SNPs_Plink/\"\n",
    "plink_file = plink_folder+\"hipsci.wec.gtarray.HumanCoreExome.imputed_phased.20170327.genotypes.norm.renamed.bed\"\n",
    "G = read_plink1_bin(plink_file)"
   ]
  },
  {
   "cell_type": "code",
   "execution_count": 22,
   "id": "c6e891c6",
   "metadata": {},
   "outputs": [
    {
     "data": {
      "text/plain": [
       "0"
      ]
     },
     "execution_count": 22,
     "metadata": {},
     "output_type": "execute_result"
    }
   ],
   "source": [
    "j = seed\n",
    "j"
   ]
  },
  {
   "cell_type": "code",
   "execution_count": 23,
   "id": "258c147e",
   "metadata": {},
   "outputs": [],
   "source": [
    "fvf_sel = fvf_gene.iloc[j:(j+10)]"
   ]
  },
  {
   "cell_type": "code",
   "execution_count": 24,
   "id": "5205820e",
   "metadata": {},
   "outputs": [
    {
     "data": {
      "text/plain": [
       "'ENSG00000100243_CYB5R3'"
      ]
     },
     "execution_count": 24,
     "metadata": {},
     "output_type": "execute_result"
    }
   ],
   "source": [
    "gene_name"
   ]
  },
  {
   "cell_type": "code",
   "execution_count": 25,
   "id": "a9a01809",
   "metadata": {},
   "outputs": [],
   "source": [
    "leads = fvf_sel[fvf_sel['feature']==gene_name]['snpID'].unique()"
   ]
  },
  {
   "cell_type": "code",
   "execution_count": 26,
   "id": "aee389c9",
   "metadata": {},
   "outputs": [],
   "source": [
    "G_sel = G[:,G['snp'].isin(leads)]"
   ]
  },
  {
   "cell_type": "code",
   "execution_count": 27,
   "id": "83412026",
   "metadata": {},
   "outputs": [
    {
     "data": {
      "text/plain": [
       "(1610, 10)"
      ]
     },
     "execution_count": 27,
     "metadata": {},
     "output_type": "execute_result"
    }
   ],
   "source": [
    "G_sel.shape"
   ]
  },
  {
   "cell_type": "code",
   "execution_count": 28,
   "id": "823dcdf7",
   "metadata": {},
   "outputs": [],
   "source": [
    "import numpy as np"
   ]
  },
  {
   "cell_type": "code",
   "execution_count": 29,
   "id": "32ae4dea",
   "metadata": {},
   "outputs": [],
   "source": [
    "#### to permute G, create shuffled index\n",
    "# step 1 - shuffle G across donors (prior to expanding)\n",
    "# step 2 - expand normally\n",
    "# this is such as all cells from a given donor will keep the same genotype, but it will be that from another donor\n",
    "\n",
    "random = np.random.RandomState(int(seed))\n",
    "idx = random.permutation(G_sel.shape[0])\n",
    "Idx = xr.DataArray(idx, dims=[\"sample\"], coords = {\"sample\": G_sel.sample.values})\n",
    "idx_G = Idx.sel(sample=sample_mapping[\"genotype_individual_id\"].values)"
   ]
  },
  {
   "cell_type": "code",
   "execution_count": 30,
   "id": "7b340f51",
   "metadata": {},
   "outputs": [
    {
     "name": "stderr",
     "output_type": "stream",
     "text": [
      "/nfs/software/stegle/users/acuomo/conda-envs/struct-lmm2/lib/python3.8/site-packages/xarray/core/indexing.py:1369: PerformanceWarning: Slicing with an out-of-order index is generating 2383 times more chunks\n",
      "  return self.array[key]\n"
     ]
    }
   ],
   "source": [
    "# expand out genotypes from cells to donors (and select relevant donors in the same step)\n",
    "G_expanded = G_sel.sel(sample=sample_mapping[\"genotype_individual_id\"].values)\n",
    "assert all(hK_expanded.sample.values == G_expanded.sample.values)"
   ]
  },
  {
   "cell_type": "code",
   "execution_count": 31,
   "id": "0d2cc0ca",
   "metadata": {},
   "outputs": [
    {
     "data": {
      "text/plain": [
       "(33964, 10)"
      ]
     },
     "execution_count": 31,
     "metadata": {},
     "output_type": "execute_result"
    }
   ],
   "source": [
    "G_expanded.shape"
   ]
  },
  {
   "cell_type": "code",
   "execution_count": 32,
   "id": "e76ba95e",
   "metadata": {},
   "outputs": [
    {
     "name": "stdout",
     "output_type": "stream",
     "text": [
      "Phenotype shape BEFORE selection: (11231, 34256)\n",
      "Phenotype shape AFTER selection: (11231, 33964)\n"
     ]
    }
   ],
   "source": [
    "# Phenotype (single-cell expression)\n",
    "phenotype_file = input_files_dir+\"phenotype.csv.pkl\"\n",
    "phenotype = pd.read_pickle(phenotype_file)\n",
    "print(\"Phenotype shape BEFORE selection: {}\".format(phenotype.shape))\n",
    "phenotype = xr.DataArray(phenotype.values, dims=[\"trait\", \"cell\"], coords={\"trait\": phenotype.index.values, \"cell\": phenotype.columns.values})\n",
    "phenotype = phenotype.sel(cell=sample_mapping[\"phenotype_sample_id\"].values)\n",
    "print(\"Phenotype shape AFTER selection: {}\".format(phenotype.shape))\n",
    "assert all(phenotype.cell.values == sample_mapping[\"phenotype_sample_id\"].values)"
   ]
  },
  {
   "cell_type": "code",
   "execution_count": 33,
   "id": "623e50d7",
   "metadata": {},
   "outputs": [],
   "source": [
    "# select gene\n",
    "y = phenotype.sel(trait=gene_name)"
   ]
  },
  {
   "cell_type": "code",
   "execution_count": 34,
   "id": "49205a24",
   "metadata": {},
   "outputs": [],
   "source": [
    "import matplotlib.pyplot as plt"
   ]
  },
  {
   "cell_type": "code",
   "execution_count": 35,
   "id": "9811d609",
   "metadata": {},
   "outputs": [
    {
     "data": {
      "image/png": "[encoded data removed]",
      "text/plain": [
       "<Figure size 432x288 with 1 Axes>"
      ]
     },
     "metadata": {
      "needs_background": "light"
     },
     "output_type": "display_data"
    }
   ],
   "source": [
    "plt.hist(y)\n",
    "plt.show()"
   ]
  },
  {
   "cell_type": "code",
   "execution_count": 36,
   "id": "90d5e765",
   "metadata": {},
   "outputs": [],
   "source": [
    "# quantile normalise\n",
    "y = quantile_gaussianize(y)"
   ]
  },
  {
   "cell_type": "code",
   "execution_count": 37,
   "id": "75cd7401",
   "metadata": {},
   "outputs": [],
   "source": [
    "# cells by MOFA factors (20)\n",
    "C_file = \"/hps/nobackup/stegle/users/acuomo/all_scripts/struct_LMM2/sc_endodiff/debug_May2021/mofa_logcounts_model_factors.csv\"\n",
    "C = pd.read_csv(C_file, index_col = 0)\n",
    "C = xr.DataArray(C.values, dims=[\"cell\", \"pc\"], coords={\"cell\": C.index.values, \"pc\": C.columns.values})\n",
    "C = C.sel(cell=sample_mapping[\"phenotype_sample_id\"].values)\n",
    "assert all(C.cell.values == sample_mapping[\"phenotype_sample_id\"].values)"
   ]
  },
  {
   "cell_type": "code",
   "execution_count": 38,
   "id": "d1cb5316",
   "metadata": {},
   "outputs": [],
   "source": [
    "# quantile normalise cell contexts\n",
    "C_gauss = quantile_gaussianize(C)"
   ]
  },
  {
   "cell_type": "code",
   "execution_count": 39,
   "id": "b8bf78db",
   "metadata": {},
   "outputs": [],
   "source": [
    "n_cells = phenotype.shape[1]\n",
    "W = ones((n_cells, 1))"
   ]
  },
  {
   "cell_type": "code",
   "execution_count": 40,
   "id": "62472646",
   "metadata": {},
   "outputs": [
    {
     "data": {
      "text/plain": [
       "(33964, 1)"
      ]
     },
     "execution_count": 40,
     "metadata": {},
     "output_type": "execute_result"
    }
   ],
   "source": [
    "y = y.values.reshape(y.shape[0],1)\n",
    "y.shape"
   ]
  },
  {
   "cell_type": "code",
   "execution_count": 41,
   "id": "24aba7ef",
   "metadata": {},
   "outputs": [
    {
     "name": "stdout",
     "output_type": "stream",
     "text": [
      "--- 240.81879377365112 seconds ---\n"
     ]
    }
   ],
   "source": [
    "start_time = time.time()\n",
    "GG = G_expanded.values\n",
    "print(\"--- %s seconds ---\" % (time.time() - start_time))"
   ]
  },
  {
   "cell_type": "code",
   "execution_count": 42,
   "id": "e3387e9f",
   "metadata": {},
   "outputs": [],
   "source": [
    "# from typing import Optional\n",
    "\n",
    "from glimix_core.lmm import LMM\n",
    "from numpy import (\n",
    "    asarray,\n",
    "#     atleast_1d,\n",
    "#     atleast_2d,\n",
    "    concatenate,\n",
    "    inf,\n",
    "#     linspace,\n",
    "#     ones,\n",
    "#     sqrt,\n",
    "#     stack,\n",
    ")\n",
    "# from numpy.linalg import cholesky\n",
    "from numpy_sugar import ddot\n",
    "from numpy_sugar.linalg import economic_qs_linear, economic_svd\n",
    "# from tqdm import tqdm\n",
    "\n",
    "from cellregmap._math import PMat, QSCov, ScoreStatistic"
   ]
  },
  {
   "cell_type": "code",
   "execution_count": 43,
   "id": "8225f532",
   "metadata": {},
   "outputs": [],
   "source": [
    "# get decomposition of K*EEt \n",
    "# i.e. get Li's such that K*EEt = L1L1t + L2L2t + ..\n",
    "# [U, S, _] = economic_svd(C.values[:,0:20])\n",
    "[U, S, _] = economic_svd(C)\n",
    "del _\n",
    "us = U * S\n",
    "Ls = [ddot(us[:,i], hK_expanded) for i in range(us.shape[1])]\n",
    "del us"
   ]
  },
  {
   "cell_type": "code",
   "execution_count": 44,
   "id": "03b57460",
   "metadata": {},
   "outputs": [],
   "source": [
    "crm = CellRegMap(y=y, W=W, E=C_gauss.values[:,0:10], Ls=Ls)"
   ]
  },
  {
   "cell_type": "code",
   "execution_count": 45,
   "id": "a9320a53",
   "metadata": {},
   "outputs": [
    {
     "name": "stderr",
     "output_type": "stream",
     "text": [
      "100%|██████████| 10/10 [47:21<00:00, 284.18s/it]\n"
     ]
    },
    {
     "data": {
      "text/plain": [
       "array([0.75490263, 0.75490263, 0.66332932, 0.75490263, 0.2714031 ,\n",
       "       0.50592643, 0.75917819, 0.50592643, 0.41992576, 0.5493864 ])"
      ]
     },
     "execution_count": 45,
     "metadata": {},
     "output_type": "execute_result"
    }
   ],
   "source": [
    "pv = crm.scan_interaction(G=GG, idx_G = idx_G)[0]\n",
    "pv"
   ]
  },
  {
   "cell_type": "code",
   "execution_count": 46,
   "id": "d0aed0ef",
   "metadata": {},
   "outputs": [
    {
     "data": {
      "image/png": "[encoded data removed]",
      "text/plain": [
       "<Figure size 432x288 with 1 Axes>"
      ]
     },
     "metadata": {
      "needs_background": "light"
     },
     "output_type": "display_data"
    }
   ],
   "source": [
    "plt.hist(pv)\n",
    "plt.show()"
   ]
  },
  {
   "cell_type": "code",
   "execution_count": null,
   "id": "33a67b48",
   "metadata": {},
   "outputs": [],
   "source": []
  }
 ],
 "metadata": {
  "kernelspec": {
   "display_name": "Python (struct-lmm2)",
   "language": "python",
   "name": "struct-lmm2"
  },
  "language_info": {
   "codemirror_mode": {
    "name": "ipython",
    "version": 3
   },
   "file_extension": ".py",
   "mimetype": "text/x-python",
   "name": "python",
   "nbconvert_exporter": "python",
   "pygments_lexer": "ipython3",
   "version": "3.8.5"
  }
 },
 "nbformat": 4,
 "nbformat_minor": 5
}
