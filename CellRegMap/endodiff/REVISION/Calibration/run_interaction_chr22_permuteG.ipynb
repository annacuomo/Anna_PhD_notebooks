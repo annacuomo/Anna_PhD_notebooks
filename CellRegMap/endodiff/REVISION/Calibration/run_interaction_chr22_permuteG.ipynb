{
 "cells": [
  {
   "cell_type": "code",
   "execution_count": 7,
   "id": "fdcfe8f4",
   "metadata": {},
   "outputs": [],
   "source": [
    "import re\n",
    "import time\n",
    "import pandas as pd\n",
    "import xarray as xr\n",
    "from numpy import ones\n",
    "from numpy.linalg import cholesky\n",
    "from pandas_plink import read_plink1_bin\n",
    "from limix.qc import quantile_gaussianize"
   ]
  },
  {
   "cell_type": "code",
   "execution_count": 247,
   "id": "4a553549",
   "metadata": {},
   "outputs": [
    {
     "data": {
      "text/plain": [
       "<module 'cellregmap' from '/hps/nobackup/stegle/users/acuomo/git_repos/CellRegMap/cellregmap/__init__.py'>"
      ]
     },
     "execution_count": 247,
     "metadata": {},
     "output_type": "execute_result"
    }
   ],
   "source": [
    "import cellregmap\n",
    "cellregmap "
   ]
  },
  {
   "cell_type": "code",
   "execution_count": 248,
   "id": "ba56d6c4",
   "metadata": {},
   "outputs": [],
   "source": [
    "from cellregmap import CellRegMap, run_interaction"
   ]
  },
  {
   "cell_type": "code",
   "execution_count": 5,
   "id": "015e3adc",
   "metadata": {},
   "outputs": [],
   "source": [
    "revision_folder = \"/hps/nobackup/stegle/users/acuomo/all_scripts/struct_LMM2/sc_endodiff/debug_May2021/REVISION/\""
   ]
  },
  {
   "cell_type": "code",
   "execution_count": 250,
   "id": "73057a5e",
   "metadata": {},
   "outputs": [],
   "source": [
    "# run 10 tests per job"
   ]
  },
  {
   "cell_type": "code",
   "execution_count": 251,
   "id": "334627f8",
   "metadata": {},
   "outputs": [],
   "source": [
    "input_files_dir = \"/hps/nobackup/stegle/users/acuomo/all_scripts/struct_LMM2/sc_endodiff/new/input_files/\""
   ]
  },
  {
   "cell_type": "code",
   "execution_count": 252,
   "id": "e335fd07",
   "metadata": {},
   "outputs": [],
   "source": [
    "## sample mapping file\n",
    "## this file will map cells to donors \n",
    "## it will also only include donors we have single-cell data for (a subset of all of HipSci donors)\n",
    "sample_mapping_file = input_files_dir+\"sample_mapping_file.csv\"\n",
    "sample_mapping = pd.read_csv(sample_mapping_file, dtype={\"genotype_individual_id\": str, \"phenotype_sample_id\": str})"
   ]
  },
  {
   "cell_type": "code",
   "execution_count": 253,
   "id": "2376f693",
   "metadata": {},
   "outputs": [
    {
     "data": {
      "text/html": [
       "<div>\n",
       "<style scoped>\n",
       "    .dataframe tbody tr th:only-of-type {\n",
       "        vertical-align: middle;\n",
       "    }\n",
       "\n",
       "    .dataframe tbody tr th {\n",
       "        vertical-align: top;\n",
       "    }\n",
       "\n",
       "    .dataframe thead th {\n",
       "        text-align: right;\n",
       "    }\n",
       "</style>\n",
       "<table border=\"1\" class=\"dataframe\">\n",
       "  <thead>\n",
       "    <tr style=\"text-align: right;\">\n",
       "      <th></th>\n",
       "      <th>genotype_individual_id</th>\n",
       "      <th>phenotype_sample_id</th>\n",
       "    </tr>\n",
       "  </thead>\n",
       "  <tbody>\n",
       "    <tr>\n",
       "      <th>0</th>\n",
       "      <td>HPSI0114i-joxm_1</td>\n",
       "      <td>21843_1#10</td>\n",
       "    </tr>\n",
       "    <tr>\n",
       "      <th>1</th>\n",
       "      <td>HPSI0314i-fafq_1</td>\n",
       "      <td>21843_1#100</td>\n",
       "    </tr>\n",
       "    <tr>\n",
       "      <th>2</th>\n",
       "      <td>HPSI0314i-fafq_1</td>\n",
       "      <td>21843_1#101</td>\n",
       "    </tr>\n",
       "    <tr>\n",
       "      <th>3</th>\n",
       "      <td>HPSI1013i-wuye_2</td>\n",
       "      <td>21843_1#102</td>\n",
       "    </tr>\n",
       "    <tr>\n",
       "      <th>4</th>\n",
       "      <td>HPSI0114i-joxm_1</td>\n",
       "      <td>21843_1#103</td>\n",
       "    </tr>\n",
       "  </tbody>\n",
       "</table>\n",
       "</div>"
      ],
      "text/plain": [
       "  genotype_individual_id phenotype_sample_id\n",
       "0       HPSI0114i-joxm_1          21843_1#10\n",
       "1       HPSI0314i-fafq_1         21843_1#100\n",
       "2       HPSI0314i-fafq_1         21843_1#101\n",
       "3       HPSI1013i-wuye_2         21843_1#102\n",
       "4       HPSI0114i-joxm_1         21843_1#103"
      ]
     },
     "execution_count": 253,
     "metadata": {},
     "output_type": "execute_result"
    }
   ],
   "source": [
    "## genotype_individual_id are donor IDs, as found in the genotype matrix (G) and GRM covariance (K)\n",
    "## phenotype_sample_id are cell IDs, as found in the scRNA-seq phenotype vector (y) and cell context covariance (C)\n",
    "sample_mapping.head()"
   ]
  },
  {
   "cell_type": "code",
   "execution_count": 254,
   "id": "36438945",
   "metadata": {},
   "outputs": [
    {
     "name": "stdout",
     "output_type": "stream",
     "text": [
      "Number of unique donors: 126\n"
     ]
    }
   ],
   "source": [
    "## extract unique individuals\n",
    "donors = sample_mapping[\"genotype_individual_id\"].unique()\n",
    "donors.sort()\n",
    "print(\"Number of unique donors: {}\".format(len(donors)))"
   ]
  },
  {
   "cell_type": "code",
   "execution_count": 255,
   "id": "a877e72a",
   "metadata": {},
   "outputs": [],
   "source": [
    "############################################\n",
    "################ Kinship matrix ############\n",
    "############################################"
   ]
  },
  {
   "cell_type": "code",
   "execution_count": 256,
   "id": "81fee358",
   "metadata": {},
   "outputs": [],
   "source": [
    "## read in GRM (genotype relationship matrix; kinship matrix)\n",
    "kinship_folder=\"/hps/nobackup/hipsci/scratch/genotypes/imputed/2017-03-27/Full_Filtered_SNPs_Plink-F/\"\n",
    "kinship_file=kinship_folder+\"hipsci.wec.gtarray.HumanCoreExome.imputed_phased.20170327.genotypes.norm.renamed.kinship\"\n",
    "K = pd.read_csv(kinship_file, sep=\"\\t\", index_col=0)\n",
    "assert all(K.columns == K.index) #symmetric matrix, donors x donors"
   ]
  },
  {
   "cell_type": "code",
   "execution_count": 257,
   "id": "e45b9e45",
   "metadata": {},
   "outputs": [
    {
     "name": "stdout",
     "output_type": "stream",
     "text": [
      "Number of donors after kinship intersection: 125\n"
     ]
    }
   ],
   "source": [
    "K = xr.DataArray(K.values, dims=[\"sample_0\", \"sample_1\"], coords={\"sample_0\": K.columns, \"sample_1\": K.index})\n",
    "K = K.sortby(\"sample_0\").sortby(\"sample_1\")\n",
    "donors = sorted(set(list(K.sample_0.values)).intersection(donors))\n",
    "print(\"Number of donors after kinship intersection: {}\".format(len(donors)))"
   ]
  },
  {
   "cell_type": "code",
   "execution_count": 258,
   "id": "93129520",
   "metadata": {},
   "outputs": [],
   "source": [
    "## subset to relevant donors\n",
    "K = K.sel(sample_0=donors, sample_1=donors)\n",
    "assert all(K.sample_0 == donors)\n",
    "assert all(K.sample_1 == donors)"
   ]
  },
  {
   "cell_type": "code",
   "execution_count": 259,
   "id": "731b83fc",
   "metadata": {},
   "outputs": [],
   "source": [
    "## and decompose such as K = hK @ hK.T (using Cholesky decomposition)\n",
    "hK = cholesky(K.values)\n",
    "hK = xr.DataArray(hK, dims=[\"sample\", \"col\"], coords={\"sample\": K.sample_0.values})\n",
    "assert all(hK.sample.values == K.sample_0.values)"
   ]
  },
  {
   "cell_type": "code",
   "execution_count": 260,
   "id": "f23d6aaa",
   "metadata": {},
   "outputs": [
    {
     "name": "stdout",
     "output_type": "stream",
     "text": [
      "Sample mapping number of rows BEFORE intersection: 34256\n",
      "Sample mapping number of rows AFTER intersection: 33964\n"
     ]
    }
   ],
   "source": [
    "del K\n",
    "print(\"Sample mapping number of rows BEFORE intersection: {}\".format(sample_mapping.shape[0]))\n",
    "## subsample sample mapping file to donors in the kinship matrix\n",
    "sample_mapping = sample_mapping[sample_mapping[\"genotype_individual_id\"].isin(donors)]\n",
    "print(\"Sample mapping number of rows AFTER intersection: {}\".format(sample_mapping.shape[0]))"
   ]
  },
  {
   "cell_type": "code",
   "execution_count": 261,
   "id": "dcd69eab",
   "metadata": {},
   "outputs": [],
   "source": [
    "############################################\n",
    "##### expand from donors to cells ##########"
   ]
  },
  {
   "cell_type": "code",
   "execution_count": 262,
   "id": "a79f1b11",
   "metadata": {},
   "outputs": [],
   "source": [
    "## use sel from xarray to expand hK (using the sample mapping file)\n",
    "hK_expanded = hK.sel(sample=sample_mapping[\"genotype_individual_id\"].values)\n",
    "assert all(hK_expanded.sample.values == sample_mapping[\"genotype_individual_id\"].values)"
   ]
  },
  {
   "cell_type": "code",
   "execution_count": null,
   "id": "33b8a4b7",
   "metadata": {},
   "outputs": [],
   "source": []
  },
  {
   "cell_type": "code",
   "execution_count": 263,
   "id": "d4737a86",
   "metadata": {},
   "outputs": [],
   "source": [
    "######################################\n",
    "############### Genotypes ############\n",
    "######################################"
   ]
  },
  {
   "cell_type": "code",
   "execution_count": 264,
   "id": "f074819d",
   "metadata": {},
   "outputs": [
    {
     "name": "stderr",
     "output_type": "stream",
     "text": [
      "Mapping files: 100%|██████████| 3/3 [06:59<00:00, 139.79s/it]\n"
     ]
    }
   ],
   "source": [
    "## read in genotype file (plink format)\n",
    "plink_folder = \"/hps/nobackup/hipsci/scratch/genotypes/imputed/2017-03-27/Full_Filtered_SNPs_Plink/\"\n",
    "plink_file = plink_folder+\"hipsci.wec.gtarray.HumanCoreExome.imputed_phased.20170327.genotypes.norm.renamed.bed\"\n",
    "G = read_plink1_bin(plink_file)"
   ]
  },
  {
   "cell_type": "code",
   "execution_count": 265,
   "id": "23fd8df2",
   "metadata": {},
   "outputs": [],
   "source": [
    "#############################\n",
    "###### SNP selection"
   ]
  },
  {
   "cell_type": "code",
   "execution_count": null,
   "id": "d298bb3c",
   "metadata": {},
   "outputs": [],
   "source": [
    "# filter file (columns: snp_id, gene)\n",
    "fvf_filename = revision_folder+\"/CRM_interaction_chr22/fvf.csv\"\n",
    "fvf = pd.read_csv(fvf_filename, index_col = 0)\n",
    "fvf.head(20)"
   ]
  },
  {
   "cell_type": "code",
   "execution_count": 208,
   "id": "ae260825",
   "metadata": {},
   "outputs": [
    {
     "data": {
      "text/plain": [
       "'ENSG00000100418_DESI1'"
      ]
     },
     "execution_count": 208,
     "metadata": {},
     "output_type": "execute_result"
    }
   ],
   "source": [
    "i = 204\n",
    "genes = fvf['feature'].unique()\n",
    "gene = genes[i]\n",
    "gene"
   ]
  },
  {
   "cell_type": "code",
   "execution_count": 3,
   "id": "7ccacf3e",
   "metadata": {},
   "outputs": [
    {
     "ename": "NameError",
     "evalue": "name 'fvf' is not defined",
     "output_type": "error",
     "traceback": [
      "\u001b[0;31m---------------------------------------------------------------------------\u001b[0m",
      "\u001b[0;31mNameError\u001b[0m                                 Traceback (most recent call last)",
      "\u001b[0;32m<ipython-input-3-e7e5ade08cd4>\u001b[0m in \u001b[0;36m<module>\u001b[0;34m\u001b[0m\n\u001b[0;32m----> 1\u001b[0;31m \u001b[0mfvf_gene\u001b[0m \u001b[0;34m=\u001b[0m \u001b[0mfvf\u001b[0m\u001b[0;34m[\u001b[0m\u001b[0mfvf\u001b[0m\u001b[0;34m[\u001b[0m\u001b[0;34m'feature'\u001b[0m\u001b[0;34m]\u001b[0m\u001b[0;34m==\u001b[0m\u001b[0mgene\u001b[0m\u001b[0;34m]\u001b[0m\u001b[0;34m\u001b[0m\u001b[0;34m\u001b[0m\u001b[0m\n\u001b[0m",
      "\u001b[0;31mNameError\u001b[0m: name 'fvf' is not defined"
     ]
    }
   ],
   "source": [
    "fvf_gene = fvf[fvf['feature']==gene]"
   ]
  },
  {
   "cell_type": "code",
   "execution_count": 270,
   "id": "7952bbf2",
   "metadata": {},
   "outputs": [
    {
     "data": {
      "text/plain": [
       "686"
      ]
     },
     "execution_count": 270,
     "metadata": {},
     "output_type": "execute_result"
    }
   ],
   "source": [
    "n = fvf_gene.shape[0]\n",
    "n"
   ]
  },
  {
   "cell_type": "code",
   "execution_count": 271,
   "id": "37af517d",
   "metadata": {},
   "outputs": [],
   "source": [
    "# for i in range(0,n,10):\n",
    "#     print(i)"
   ]
  },
  {
   "cell_type": "code",
   "execution_count": 272,
   "id": "b9913d60",
   "metadata": {},
   "outputs": [],
   "source": [
    "j = 0"
   ]
  },
  {
   "cell_type": "code",
   "execution_count": 273,
   "id": "84df229d",
   "metadata": {},
   "outputs": [
    {
     "data": {
      "text/html": [
       "<div>\n",
       "<style scoped>\n",
       "    .dataframe tbody tr th:only-of-type {\n",
       "        vertical-align: middle;\n",
       "    }\n",
       "\n",
       "    .dataframe tbody tr th {\n",
       "        vertical-align: top;\n",
       "    }\n",
       "\n",
       "    .dataframe thead th {\n",
       "        text-align: right;\n",
       "    }\n",
       "</style>\n",
       "<table border=\"1\" class=\"dataframe\">\n",
       "  <thead>\n",
       "    <tr style=\"text-align: right;\">\n",
       "      <th></th>\n",
       "      <th>feature</th>\n",
       "      <th>snpID</th>\n",
       "      <th>chrom</th>\n",
       "    </tr>\n",
       "  </thead>\n",
       "  <tbody>\n",
       "    <tr>\n",
       "      <th>735</th>\n",
       "      <td>ENSG00000100243_CYB5R3</td>\n",
       "      <td>22_42914931_T_C</td>\n",
       "      <td>22</td>\n",
       "    </tr>\n",
       "    <tr>\n",
       "      <th>736</th>\n",
       "      <td>ENSG00000100243_CYB5R3</td>\n",
       "      <td>22_42914937_A_G</td>\n",
       "      <td>22</td>\n",
       "    </tr>\n",
       "    <tr>\n",
       "      <th>737</th>\n",
       "      <td>ENSG00000100243_CYB5R3</td>\n",
       "      <td>22_42914974_T_C</td>\n",
       "      <td>22</td>\n",
       "    </tr>\n",
       "    <tr>\n",
       "      <th>738</th>\n",
       "      <td>ENSG00000100243_CYB5R3</td>\n",
       "      <td>22_42915479_G_A</td>\n",
       "      <td>22</td>\n",
       "    </tr>\n",
       "    <tr>\n",
       "      <th>739</th>\n",
       "      <td>ENSG00000100243_CYB5R3</td>\n",
       "      <td>22_42916215_C_G</td>\n",
       "      <td>22</td>\n",
       "    </tr>\n",
       "    <tr>\n",
       "      <th>740</th>\n",
       "      <td>ENSG00000100243_CYB5R3</td>\n",
       "      <td>22_42917154_C_T</td>\n",
       "      <td>22</td>\n",
       "    </tr>\n",
       "    <tr>\n",
       "      <th>741</th>\n",
       "      <td>ENSG00000100243_CYB5R3</td>\n",
       "      <td>22_42917813_C_T</td>\n",
       "      <td>22</td>\n",
       "    </tr>\n",
       "    <tr>\n",
       "      <th>742</th>\n",
       "      <td>ENSG00000100243_CYB5R3</td>\n",
       "      <td>22_42918859_A_G</td>\n",
       "      <td>22</td>\n",
       "    </tr>\n",
       "    <tr>\n",
       "      <th>743</th>\n",
       "      <td>ENSG00000100243_CYB5R3</td>\n",
       "      <td>22_42919010_C_T</td>\n",
       "      <td>22</td>\n",
       "    </tr>\n",
       "    <tr>\n",
       "      <th>744</th>\n",
       "      <td>ENSG00000100243_CYB5R3</td>\n",
       "      <td>22_42919125_C_T</td>\n",
       "      <td>22</td>\n",
       "    </tr>\n",
       "  </tbody>\n",
       "</table>\n",
       "</div>"
      ],
      "text/plain": [
       "                    feature            snpID  chrom\n",
       "735  ENSG00000100243_CYB5R3  22_42914931_T_C     22\n",
       "736  ENSG00000100243_CYB5R3  22_42914937_A_G     22\n",
       "737  ENSG00000100243_CYB5R3  22_42914974_T_C     22\n",
       "738  ENSG00000100243_CYB5R3  22_42915479_G_A     22\n",
       "739  ENSG00000100243_CYB5R3  22_42916215_C_G     22\n",
       "740  ENSG00000100243_CYB5R3  22_42917154_C_T     22\n",
       "741  ENSG00000100243_CYB5R3  22_42917813_C_T     22\n",
       "742  ENSG00000100243_CYB5R3  22_42918859_A_G     22\n",
       "743  ENSG00000100243_CYB5R3  22_42919010_C_T     22\n",
       "744  ENSG00000100243_CYB5R3  22_42919125_C_T     22"
      ]
     },
     "execution_count": 273,
     "metadata": {},
     "output_type": "execute_result"
    }
   ],
   "source": [
    "fvf_sel = fvf_gene.iloc[j:(j+10)]\n",
    "fvf_sel"
   ]
  },
  {
   "cell_type": "code",
   "execution_count": 274,
   "id": "e4e15bfc",
   "metadata": {},
   "outputs": [],
   "source": [
    "genes = fvf_sel['feature'].unique()"
   ]
  },
  {
   "cell_type": "code",
   "execution_count": 275,
   "id": "1cd6e4c3",
   "metadata": {},
   "outputs": [
    {
     "data": {
      "text/plain": [
       "array(['ENSG00000100243_CYB5R3'], dtype=object)"
      ]
     },
     "execution_count": 275,
     "metadata": {},
     "output_type": "execute_result"
    }
   ],
   "source": [
    "genes"
   ]
  },
  {
   "cell_type": "code",
   "execution_count": 276,
   "id": "b718d62b",
   "metadata": {},
   "outputs": [
    {
     "data": {
      "text/plain": [
       "'ENSG00000100243'"
      ]
     },
     "execution_count": 276,
     "metadata": {},
     "output_type": "execute_result"
    }
   ],
   "source": [
    "# (1) gene name (feature_id)\n",
    "gene_name = genes[0]\n",
    "trait_name = re.sub(\"_.*\",\"\",gene_name)\n",
    "trait_name"
   ]
  },
  {
   "cell_type": "code",
   "execution_count": 277,
   "id": "f28a6c24",
   "metadata": {},
   "outputs": [],
   "source": [
    "leads = fvf_sel[fvf_sel['feature']==gene_name]['snpID'].unique()"
   ]
  },
  {
   "cell_type": "code",
   "execution_count": 278,
   "id": "81b51ecd",
   "metadata": {},
   "outputs": [],
   "source": [
    "G_sel = G[:,G['snp'].isin(leads)]"
   ]
  },
  {
   "cell_type": "code",
   "execution_count": 279,
   "id": "efe8a93b",
   "metadata": {},
   "outputs": [
    {
     "data": {
      "text/plain": [
       "(1610, 10)"
      ]
     },
     "execution_count": 279,
     "metadata": {},
     "output_type": "execute_result"
    }
   ],
   "source": [
    "G_sel.shape"
   ]
  },
  {
   "cell_type": "code",
   "execution_count": 280,
   "id": "4acbd5c7",
   "metadata": {},
   "outputs": [],
   "source": [
    "seed = 0"
   ]
  },
  {
   "cell_type": "code",
   "execution_count": 281,
   "id": "db64d5fe",
   "metadata": {},
   "outputs": [],
   "source": [
    "import numpy as np"
   ]
  },
  {
   "cell_type": "code",
   "execution_count": 282,
   "id": "db8dd26b",
   "metadata": {},
   "outputs": [],
   "source": [
    "#### to permute G, create shuffled index\n",
    "# step 1 - shuffle G across donors (prior to expanding)\n",
    "# step 2 - expand normally\n",
    "# this is such as all cells from a given donor will keep the same genotype, but it will be that from another donor\n",
    "\n",
    "random = np.random.RandomState(int(seed))\n",
    "idx = random.permutation(G_sel.shape[0])\n",
    "Idx = xr.DataArray(idx, dims=[\"sample\"], coords = {\"sample\": G_sel.sample.values})\n",
    "idx_G = Idx.sel(sample=sample_mapping[\"genotype_individual_id\"].values)"
   ]
  },
  {
   "cell_type": "code",
   "execution_count": 283,
   "id": "417860ef",
   "metadata": {},
   "outputs": [],
   "source": [
    "############################################\n",
    "##### expand from donors to cells ##########"
   ]
  },
  {
   "cell_type": "code",
   "execution_count": 284,
   "id": "21bf6373",
   "metadata": {},
   "outputs": [
    {
     "name": "stderr",
     "output_type": "stream",
     "text": [
      "/nfs/software/stegle/users/acuomo/conda-envs/struct-lmm2/lib/python3.8/site-packages/xarray/core/indexing.py:1369: PerformanceWarning: Slicing with an out-of-order index is generating 2383 times more chunks\n",
      "  return self.array[key]\n"
     ]
    }
   ],
   "source": [
    "# expand out genotypes from cells to donors (and select relevant donors in the same step)\n",
    "G_expanded = G_sel.sel(sample=sample_mapping[\"genotype_individual_id\"].values)\n",
    "assert all(hK_expanded.sample.values == G_expanded.sample.values)"
   ]
  },
  {
   "cell_type": "code",
   "execution_count": 285,
   "id": "ce37358d",
   "metadata": {},
   "outputs": [
    {
     "data": {
      "text/plain": [
       "(33964, 10)"
      ]
     },
     "execution_count": 285,
     "metadata": {},
     "output_type": "execute_result"
    }
   ],
   "source": [
    "G_expanded.shape"
   ]
  },
  {
   "cell_type": "code",
   "execution_count": null,
   "id": "0bcd98ca",
   "metadata": {},
   "outputs": [],
   "source": []
  },
  {
   "cell_type": "code",
   "execution_count": 286,
   "id": "367c187c",
   "metadata": {},
   "outputs": [],
   "source": [
    "######################################\n",
    "############## Phenotypes ############\n",
    "######################################"
   ]
  },
  {
   "cell_type": "code",
   "execution_count": 287,
   "id": "9e3ae394",
   "metadata": {},
   "outputs": [
    {
     "name": "stdout",
     "output_type": "stream",
     "text": [
      "Phenotype shape BEFORE selection: (11231, 34256)\n",
      "Phenotype shape AFTER selection: (11231, 33964)\n"
     ]
    }
   ],
   "source": [
    "# Phenotype (single-cell expression)\n",
    "phenotype_file = input_files_dir+\"phenotype.csv.pkl\"\n",
    "phenotype = pd.read_pickle(phenotype_file)\n",
    "print(\"Phenotype shape BEFORE selection: {}\".format(phenotype.shape))\n",
    "phenotype = xr.DataArray(phenotype.values, dims=[\"trait\", \"cell\"], coords={\"trait\": phenotype.index.values, \"cell\": phenotype.columns.values})\n",
    "phenotype = phenotype.sel(cell=sample_mapping[\"phenotype_sample_id\"].values)\n",
    "print(\"Phenotype shape AFTER selection: {}\".format(phenotype.shape))\n",
    "assert all(phenotype.cell.values == sample_mapping[\"phenotype_sample_id\"].values)"
   ]
  },
  {
   "cell_type": "code",
   "execution_count": 288,
   "id": "810e813d",
   "metadata": {},
   "outputs": [],
   "source": [
    "# select gene\n",
    "y = phenotype.sel(trait=gene_name)\n",
    "# quantile normalise\n",
    "y = quantile_gaussianize(y)"
   ]
  },
  {
   "cell_type": "code",
   "execution_count": null,
   "id": "9b3663fd",
   "metadata": {},
   "outputs": [],
   "source": []
  },
  {
   "cell_type": "code",
   "execution_count": 289,
   "id": "65c6ac78",
   "metadata": {},
   "outputs": [],
   "source": [
    "######################################\n",
    "########## Cell contexts #############\n",
    "######################################"
   ]
  },
  {
   "cell_type": "code",
   "execution_count": 290,
   "id": "46b13bff",
   "metadata": {},
   "outputs": [],
   "source": [
    "# cells by MOFA factors (20)\n",
    "C_file = \"/hps/nobackup/stegle/users/acuomo/all_scripts/struct_LMM2/sc_endodiff/debug_May2021/mofa_logcounts_model_factors.csv\"\n",
    "C = pd.read_csv(C_file, index_col = 0)\n",
    "C = xr.DataArray(C.values, dims=[\"cell\", \"pc\"], coords={\"cell\": C.index.values, \"pc\": C.columns.values})\n",
    "C = C.sel(cell=sample_mapping[\"phenotype_sample_id\"].values)\n",
    "assert all(C.cell.values == sample_mapping[\"phenotype_sample_id\"].values)"
   ]
  },
  {
   "cell_type": "code",
   "execution_count": 291,
   "id": "649d9b53",
   "metadata": {},
   "outputs": [],
   "source": [
    "# quantile normalise cell contexts\n",
    "C_gauss = quantile_gaussianize(C)"
   ]
  },
  {
   "cell_type": "code",
   "execution_count": null,
   "id": "5b9cafa2",
   "metadata": {},
   "outputs": [],
   "source": []
  },
  {
   "cell_type": "code",
   "execution_count": 292,
   "id": "209c5f56",
   "metadata": {},
   "outputs": [],
   "source": [
    "######################################\n",
    "############ Covariates ##############\n",
    "######################################"
   ]
  },
  {
   "cell_type": "code",
   "execution_count": 293,
   "id": "d766e993",
   "metadata": {},
   "outputs": [],
   "source": [
    "n_cells = phenotype.shape[1]\n",
    "W = ones((n_cells, 1))"
   ]
  },
  {
   "cell_type": "code",
   "execution_count": null,
   "id": "d392b068",
   "metadata": {},
   "outputs": [],
   "source": []
  },
  {
   "cell_type": "code",
   "execution_count": 294,
   "id": "8ac0aac6",
   "metadata": {},
   "outputs": [
    {
     "data": {
      "text/plain": [
       "(33964, 1)"
      ]
     },
     "execution_count": 294,
     "metadata": {},
     "output_type": "execute_result"
    }
   ],
   "source": [
    "y = y.values.reshape(y.shape[0],1)\n",
    "y.shape"
   ]
  },
  {
   "cell_type": "code",
   "execution_count": 295,
   "id": "ab305874",
   "metadata": {},
   "outputs": [
    {
     "data": {
      "text/plain": [
       "array([[1.],\n",
       "       [1.],\n",
       "       [1.],\n",
       "       ...,\n",
       "       [1.],\n",
       "       [1.],\n",
       "       [1.]])"
      ]
     },
     "execution_count": 295,
     "metadata": {},
     "output_type": "execute_result"
    }
   ],
   "source": [
    "W"
   ]
  },
  {
   "cell_type": "code",
   "execution_count": 296,
   "id": "5ec161de",
   "metadata": {},
   "outputs": [
    {
     "data": {
      "text/plain": [
       "array([[-0.59770402,  1.0674358 ,  0.0564961 , ...,  0.01520844,\n",
       "         0.29224277, -0.63273743],\n",
       "       [ 0.23328472,  2.13788372,  0.64681148, ..., -0.37349156,\n",
       "         1.78959325, -0.65923266],\n",
       "       [-0.05471216,  1.78603081, -0.09962504, ...,  0.07594282,\n",
       "         0.87996128,  0.6806354 ],\n",
       "       ...,\n",
       "       [-0.80078862,  0.93532776, -1.06457988, ..., -0.26132522,\n",
       "         0.29988706, -0.34527378],\n",
       "       [-0.65763778,  1.30469584, -0.52890777, ...,  0.07814063,\n",
       "         0.53126179, -0.13242109],\n",
       "       [-0.78633873,  1.4659787 , -0.61704333, ...,  0.28598122,\n",
       "         0.43912266,  0.24403696]])"
      ]
     },
     "execution_count": 296,
     "metadata": {},
     "output_type": "execute_result"
    }
   ],
   "source": [
    "C.values[:,0:10].shape\n",
    "C.values[:,0:10]"
   ]
  },
  {
   "cell_type": "code",
   "execution_count": 297,
   "id": "984dc601",
   "metadata": {},
   "outputs": [
    {
     "name": "stdout",
     "output_type": "stream",
     "text": [
      "--- 317.9826719760895 seconds ---\n"
     ]
    }
   ],
   "source": [
    "start_time = time.time()\n",
    "GG = G_expanded.values\n",
    "print(\"--- %s seconds ---\" % (time.time() - start_time))"
   ]
  },
  {
   "cell_type": "code",
   "execution_count": 298,
   "id": "35040283",
   "metadata": {},
   "outputs": [
    {
     "data": {
      "text/plain": [
       "(33964, 10)"
      ]
     },
     "execution_count": 298,
     "metadata": {},
     "output_type": "execute_result"
    }
   ],
   "source": [
    "GG.shape"
   ]
  },
  {
   "cell_type": "code",
   "execution_count": 299,
   "id": "e19f3b2f",
   "metadata": {},
   "outputs": [
    {
     "data": {
      "text/plain": [
       "array([[0., 0., 0., ..., 2., 1., 1.],\n",
       "       [0., 0., 0., ..., 0., 1., 1.],\n",
       "       [0., 0., 0., ..., 0., 1., 1.],\n",
       "       ...,\n",
       "       [0., 0., 0., ..., 0., 0., 2.],\n",
       "       [1., 1., 0., ..., 0., 1., 1.],\n",
       "       [1., 1., 0., ..., 0., 1., 1.]], dtype=float32)"
      ]
     },
     "execution_count": 299,
     "metadata": {},
     "output_type": "execute_result"
    }
   ],
   "source": [
    "GG"
   ]
  },
  {
   "cell_type": "code",
   "execution_count": 300,
   "id": "3f678e27",
   "metadata": {},
   "outputs": [],
   "source": [
    "## test permutations"
   ]
  },
  {
   "cell_type": "code",
   "execution_count": 301,
   "id": "894681a9",
   "metadata": {},
   "outputs": [],
   "source": [
    "# from typing import Optional\n",
    "\n",
    "from glimix_core.lmm import LMM\n",
    "from numpy import (\n",
    "    asarray,\n",
    "#     atleast_1d,\n",
    "#     atleast_2d,\n",
    "    concatenate,\n",
    "    inf,\n",
    "#     linspace,\n",
    "#     ones,\n",
    "#     sqrt,\n",
    "#     stack,\n",
    ")\n",
    "# from numpy.linalg import cholesky\n",
    "from numpy_sugar import ddot\n",
    "from numpy_sugar.linalg import economic_qs_linear, economic_svd\n",
    "# from tqdm import tqdm\n",
    "\n",
    "from cellregmap._math import PMat, QSCov, ScoreStatistic"
   ]
  },
  {
   "cell_type": "code",
   "execution_count": 302,
   "id": "2dcc10b5",
   "metadata": {},
   "outputs": [],
   "source": [
    "### null model"
   ]
  },
  {
   "cell_type": "code",
   "execution_count": 303,
   "id": "1c562d85",
   "metadata": {},
   "outputs": [],
   "source": [
    "# get decomposition of K*EEt \n",
    "# i.e. get Li's such that K*EEt = L1L1t + L2L2t + ..\n",
    "# [U, S, _] = economic_svd(C.values[:,0:20])\n",
    "[U, S, _] = economic_svd(C)\n",
    "del _\n",
    "us = U * S\n",
    "Ls = [ddot(us[:,i], hK_expanded) for i in range(us.shape[1])]\n",
    "del us"
   ]
  },
  {
   "cell_type": "code",
   "execution_count": 304,
   "id": "a594f01a",
   "metadata": {},
   "outputs": [],
   "source": [
    "crm = CellRegMap(y=y, W=W, E=C_gauss.values[:,0:10], Ls=Ls)"
   ]
  },
  {
   "cell_type": "code",
   "execution_count": 305,
   "id": "917e7980",
   "metadata": {
    "scrolled": true
   },
   "outputs": [
    {
     "data": {
      "text/plain": [
       "array([0. , 0.1, 0.2, 0.3, 0.4, 0.5, 0.6, 0.7, 0.8, 0.9, 1. ])"
      ]
     },
     "execution_count": 305,
     "metadata": {},
     "output_type": "execute_result"
    }
   ],
   "source": [
    "crm._rho1"
   ]
  },
  {
   "cell_type": "code",
   "execution_count": 306,
   "id": "7d1dec4a",
   "metadata": {},
   "outputs": [],
   "source": [
    "### scan interactions"
   ]
  },
  {
   "cell_type": "code",
   "execution_count": 307,
   "id": "f296b286",
   "metadata": {},
   "outputs": [],
   "source": [
    "G = asarray(GG, float)"
   ]
  },
  {
   "cell_type": "code",
   "execution_count": 309,
   "id": "802fb110",
   "metadata": {},
   "outputs": [],
   "source": [
    "i=0\n",
    "g = G[:, [i]]"
   ]
  },
  {
   "cell_type": "code",
   "execution_count": 310,
   "id": "215763eb",
   "metadata": {},
   "outputs": [],
   "source": [
    "X = concatenate((W, g), axis=1)"
   ]
  },
  {
   "cell_type": "code",
   "execution_count": 311,
   "id": "24648565",
   "metadata": {},
   "outputs": [],
   "source": [
    "best = {\"lml\": -inf, \"rho1\": 0}"
   ]
  },
  {
   "cell_type": "code",
   "execution_count": 312,
   "id": "795aab9f",
   "metadata": {},
   "outputs": [],
   "source": [
    "for rho1 in crm._rho1:\n",
    "    # Σ = ρ₁𝙴𝙴ᵀ + (1-ρ₁)𝙺⊙E\n",
    "    # cov(y₀) = 𝓋₁Σ + 𝓋₂I\n",
    "    QS = crm._Sigma_qs[rho1]\n",
    "    lmm = LMM(crm._y, X, QS, restricted=True)\n",
    "    lmm.fit(verbose=False)\n",
    "\n",
    "    if lmm.lml() > best[\"lml\"]:\n",
    "        best[\"lml\"] = lmm.lml()\n",
    "        best[\"rho1\"] = rho1\n",
    "        best[\"lmm\"] = lmm           "
   ]
  },
  {
   "cell_type": "code",
   "execution_count": 313,
   "id": "acbc010f",
   "metadata": {},
   "outputs": [],
   "source": [
    "lmm = best[\"lmm\"]"
   ]
  },
  {
   "cell_type": "code",
   "execution_count": 314,
   "id": "26332027",
   "metadata": {},
   "outputs": [
    {
     "data": {
      "text/plain": [
       "<glimix_core.lmm._lmm.LMM at 0x2b52d73a4370>"
      ]
     },
     "execution_count": 314,
     "metadata": {},
     "output_type": "execute_result"
    }
   ],
   "source": [
    "lmm"
   ]
  },
  {
   "cell_type": "code",
   "execution_count": 315,
   "id": "950fff83",
   "metadata": {},
   "outputs": [],
   "source": [
    "Q0 = crm._Sigma_qs[best[\"rho1\"]][0][0]\n",
    "S0 = crm._Sigma_qs[best[\"rho1\"]][1]"
   ]
  },
  {
   "cell_type": "code",
   "execution_count": 316,
   "id": "5ea3f1fd",
   "metadata": {},
   "outputs": [],
   "source": [
    "qscov = QSCov(\n",
    "    Q0,\n",
    "    S0,\n",
    "    lmm.v0,  # 𝓋₁\n",
    "    lmm.v1,  # 𝓋₂\n",
    ")"
   ]
  },
  {
   "cell_type": "code",
   "execution_count": 317,
   "id": "9a6057ff",
   "metadata": {},
   "outputs": [],
   "source": [
    "P = PMat(qscov, X)"
   ]
  },
  {
   "cell_type": "code",
   "execution_count": 318,
   "id": "79cb329e",
   "metadata": {},
   "outputs": [],
   "source": [
    "# use permuted index"
   ]
  },
  {
   "cell_type": "code",
   "execution_count": 319,
   "id": "6da5038a",
   "metadata": {},
   "outputs": [],
   "source": [
    "gtest = g.ravel()[idx_G]"
   ]
  },
  {
   "cell_type": "code",
   "execution_count": 320,
   "id": "2ae5154c",
   "metadata": {},
   "outputs": [
    {
     "data": {
      "text/plain": [
       "array([[0.],\n",
       "       [0.],\n",
       "       [0.],\n",
       "       ...,\n",
       "       [0.],\n",
       "       [1.],\n",
       "       [1.]])"
      ]
     },
     "execution_count": 320,
     "metadata": {},
     "output_type": "execute_result"
    }
   ],
   "source": [
    "g"
   ]
  },
  {
   "cell_type": "code",
   "execution_count": 321,
   "id": "16b8e1dd",
   "metadata": {},
   "outputs": [
    {
     "data": {
      "text/plain": [
       "array([0., 0., 0., ..., 0., 0., 0.])"
      ]
     },
     "execution_count": 321,
     "metadata": {},
     "output_type": "execute_result"
    }
   ],
   "source": [
    "gtest"
   ]
  },
  {
   "cell_type": "code",
   "execution_count": 322,
   "id": "676bc6d7",
   "metadata": {},
   "outputs": [],
   "source": [
    "E0 = C_gauss.values[:,0:10]"
   ]
  },
  {
   "cell_type": "code",
   "execution_count": 323,
   "id": "ea992c5d",
   "metadata": {},
   "outputs": [],
   "source": [
    "ss = ScoreStatistic(P, qscov, ddot(gtest, E0))\n",
    "Q = ss.statistic(crm._y)"
   ]
  },
  {
   "cell_type": "code",
   "execution_count": 324,
   "id": "4b8729f8",
   "metadata": {},
   "outputs": [],
   "source": [
    "from chiscore import davies_pvalue"
   ]
  },
  {
   "cell_type": "code",
   "execution_count": 325,
   "id": "38e38d9b",
   "metadata": {},
   "outputs": [
    {
     "data": {
      "text/plain": [
       "0.7549026346995376"
      ]
     },
     "execution_count": 325,
     "metadata": {},
     "output_type": "execute_result"
    }
   ],
   "source": [
    "pval, pinfo = davies_pvalue(Q, ss.matrix_for_dist_weights(), True)\n",
    "pval"
   ]
  },
  {
   "cell_type": "code",
   "execution_count": 326,
   "id": "a1d0aafa",
   "metadata": {},
   "outputs": [
    {
     "name": "stderr",
     "output_type": "stream",
     "text": [
      "100%|██████████| 10/10 [53:39<00:00, 321.93s/it]\n"
     ]
    },
    {
     "data": {
      "text/plain": [
       "array([0.75490263, 0.75490263, 0.66332932, 0.75490263, 0.2714031 ,\n",
       "       0.50592643, 0.75917819, 0.50592643, 0.41992576, 0.5493864 ])"
      ]
     },
     "execution_count": 326,
     "metadata": {},
     "output_type": "execute_result"
    }
   ],
   "source": [
    "pv = crm.scan_interaction(G=GG, idx_G = idx_G)[0]\n",
    "pv"
   ]
  },
  {
   "cell_type": "code",
   "execution_count": 327,
   "id": "f2417bc7",
   "metadata": {},
   "outputs": [
    {
     "data": {
      "image/png": "[encoded data removed]",
      "text/plain": [
       "<Figure size 432x288 with 1 Axes>"
      ]
     },
     "metadata": {
      "needs_background": "light"
     },
     "output_type": "display_data"
    }
   ],
   "source": [
    "plt.hist(pv)\n",
    "plt.show()"
   ]
  },
  {
   "cell_type": "code",
   "execution_count": null,
   "id": "3a3f94a4",
   "metadata": {},
   "outputs": [],
   "source": []
  },
  {
   "cell_type": "code",
   "execution_count": null,
   "id": "025c8d19",
   "metadata": {},
   "outputs": [],
   "source": [
    "#####"
   ]
  },
  {
   "cell_type": "code",
   "execution_count": 243,
   "id": "11af918b",
   "metadata": {},
   "outputs": [
    {
     "data": {
      "text/plain": [
       "0.20259700890235555"
      ]
     },
     "execution_count": 243,
     "metadata": {},
     "output_type": "execute_result"
    }
   ],
   "source": [
    "pval, pinfo = davies_pvalue(Q, ss.matrix_for_dist_weights(), True)\n",
    "pval"
   ]
  },
  {
   "cell_type": "code",
   "execution_count": 226,
   "id": "b05693bb",
   "metadata": {},
   "outputs": [
    {
     "data": {
      "text/plain": [
       "0.24756271803677266"
      ]
     },
     "execution_count": 226,
     "metadata": {},
     "output_type": "execute_result"
    }
   ],
   "source": [
    "pval, pinfo = davies_pvalue(Q, ss.matrix_for_dist_weights(), True)\n",
    "pval"
   ]
  },
  {
   "cell_type": "code",
   "execution_count": 206,
   "id": "2ec791a3",
   "metadata": {},
   "outputs": [
    {
     "data": {
      "text/plain": [
       "0.202151045491757"
      ]
     },
     "execution_count": 206,
     "metadata": {},
     "output_type": "execute_result"
    }
   ],
   "source": [
    "pval, pinfo = davies_pvalue(Q, ss.matrix_for_dist_weights(), True)\n",
    "pval"
   ]
  },
  {
   "cell_type": "code",
   "execution_count": 244,
   "id": "03af8076",
   "metadata": {},
   "outputs": [],
   "source": [
    "# pv = crm.scan_interaction(G=GG, idx_G = idx_G)[0]\n",
    "pv = [0.202151045491757, 0.24756271803677266, 0.20259700890235555]"
   ]
  },
  {
   "cell_type": "code",
   "execution_count": 245,
   "id": "cdada155",
   "metadata": {},
   "outputs": [
    {
     "data": {
      "image/png": "[encoded data removed]",
      "text/plain": [
       "<Figure size 432x288 with 1 Axes>"
      ]
     },
     "metadata": {
      "needs_background": "light"
     },
     "output_type": "display_data"
    }
   ],
   "source": [
    "import matplotlib.pyplot as plt\n",
    "plt.hist(pv)\n",
    "plt.show()"
   ]
  },
  {
   "cell_type": "code",
   "execution_count": null,
   "id": "e20f52d2",
   "metadata": {},
   "outputs": [],
   "source": [
    "#####"
   ]
  },
  {
   "cell_type": "code",
   "execution_count": 108,
   "id": "849d44a7",
   "metadata": {},
   "outputs": [
    {
     "data": {
      "image/png": "[encoded data removed]",
      "text/plain": [
       "<Figure size 432x288 with 1 Axes>"
      ]
     },
     "metadata": {
      "needs_background": "light"
     },
     "output_type": "display_data"
    }
   ],
   "source": [
    "import matplotlib.pyplot as plt\n",
    "plt.hist(pv)\n",
    "plt.show()"
   ]
  },
  {
   "cell_type": "code",
   "execution_count": null,
   "id": "b521af93",
   "metadata": {},
   "outputs": [],
   "source": []
  },
  {
   "cell_type": "code",
   "execution_count": 48,
   "id": "1357eb44",
   "metadata": {},
   "outputs": [],
   "source": [
    "# compare to pv=4.441206e-52 for both SNPs"
   ]
  },
  {
   "cell_type": "code",
   "execution_count": 49,
   "id": "bc8ddc15",
   "metadata": {},
   "outputs": [],
   "source": [
    "from cellregmap import CellRegMap\n",
    "from numpy_sugar.linalg import economic_svd\n",
    "from numpy_sugar import ddot"
   ]
  },
  {
   "cell_type": "code",
   "execution_count": 50,
   "id": "956da154",
   "metadata": {},
   "outputs": [],
   "source": [
    "# get decomposition of K*EEt \n",
    "# i.e. get Li's such that K*EEt = L1L1t + L2L2t + ..\n",
    "# [U, S, _] = economic_svd(C.values[:,0:20])\n",
    "[U, S, _] = economic_svd(C)\n",
    "del _\n",
    "us = U * S\n",
    "Ls = [ddot(us[:,i], hK_expanded) for i in range(us.shape[1])]\n",
    "del us"
   ]
  },
  {
   "cell_type": "code",
   "execution_count": 51,
   "id": "846b9866",
   "metadata": {},
   "outputs": [
    {
     "data": {
      "text/plain": [
       "(33964, 20)"
      ]
     },
     "execution_count": 51,
     "metadata": {},
     "output_type": "execute_result"
    }
   ],
   "source": [
    "C.shape"
   ]
  },
  {
   "cell_type": "code",
   "execution_count": 52,
   "id": "bb7cc5d8",
   "metadata": {},
   "outputs": [
    {
     "name": "stderr",
     "output_type": "stream",
     "text": [
      "100%|██████████| 10/10 [50:32<00:00, 303.23s/it]"
     ]
    },
    {
     "name": "stdout",
     "output_type": "stream",
     "text": [
      "--- 3101.3919353485107 seconds ---\n"
     ]
    },
    {
     "name": "stderr",
     "output_type": "stream",
     "text": [
      "\n"
     ]
    }
   ],
   "source": [
    "start_time = time.time()\n",
    "crm = CellRegMap(y=y, W=W, E=C_gauss.values[:,0:10], Ls=Ls)\n",
    "pvals = crm.scan_interaction(GG)[0]\n",
    "print(\"--- %s seconds ---\" % (time.time() - start_time))"
   ]
  },
  {
   "cell_type": "code",
   "execution_count": 53,
   "id": "c1ab4679",
   "metadata": {},
   "outputs": [
    {
     "data": {
      "text/html": [
       "<div>\n",
       "<style scoped>\n",
       "    .dataframe tbody tr th:only-of-type {\n",
       "        vertical-align: middle;\n",
       "    }\n",
       "\n",
       "    .dataframe tbody tr th {\n",
       "        vertical-align: top;\n",
       "    }\n",
       "\n",
       "    .dataframe thead th {\n",
       "        text-align: right;\n",
       "    }\n",
       "</style>\n",
       "<table border=\"1\" class=\"dataframe\">\n",
       "  <thead>\n",
       "    <tr style=\"text-align: right;\">\n",
       "      <th></th>\n",
       "      <th>chrom</th>\n",
       "      <th>pv</th>\n",
       "      <th>variant</th>\n",
       "    </tr>\n",
       "  </thead>\n",
       "  <tbody>\n",
       "    <tr>\n",
       "      <th>0</th>\n",
       "      <td>22</td>\n",
       "      <td>0.614792</td>\n",
       "      <td>22_38815543_G_T</td>\n",
       "    </tr>\n",
       "    <tr>\n",
       "      <th>1</th>\n",
       "      <td>22</td>\n",
       "      <td>0.679391</td>\n",
       "      <td>22_38815767_C_T</td>\n",
       "    </tr>\n",
       "    <tr>\n",
       "      <th>2</th>\n",
       "      <td>22</td>\n",
       "      <td>0.679953</td>\n",
       "      <td>22_38816059_T_C</td>\n",
       "    </tr>\n",
       "    <tr>\n",
       "      <th>3</th>\n",
       "      <td>22</td>\n",
       "      <td>0.472747</td>\n",
       "      <td>22_38816351_G_A</td>\n",
       "    </tr>\n",
       "    <tr>\n",
       "      <th>4</th>\n",
       "      <td>22</td>\n",
       "      <td>0.991658</td>\n",
       "      <td>22_38817047_A_G</td>\n",
       "    </tr>\n",
       "  </tbody>\n",
       "</table>\n",
       "</div>"
      ],
      "text/plain": [
       "  chrom        pv          variant\n",
       "0    22  0.614792  22_38815543_G_T\n",
       "1    22  0.679391  22_38815767_C_T\n",
       "2    22  0.679953  22_38816059_T_C\n",
       "3    22  0.472747  22_38816351_G_A\n",
       "4    22  0.991658  22_38817047_A_G"
      ]
     },
     "execution_count": 53,
     "metadata": {},
     "output_type": "execute_result"
    }
   ],
   "source": [
    "pv = pd.DataFrame({\"chrom\":G_expanded.chrom.values,\n",
    "               \"pv\":pvals,\n",
    "               \"variant\":G_expanded.snp.values})\n",
    "pv.head()"
   ]
  },
  {
   "cell_type": "code",
   "execution_count": 54,
   "id": "57fb5b4c",
   "metadata": {},
   "outputs": [
    {
     "name": "stderr",
     "output_type": "stream",
     "text": [
      "100%|██████████| 10/10 [51:41<00:00, 310.12s/it]"
     ]
    },
    {
     "name": "stdout",
     "output_type": "stream",
     "text": [
      "--- 3247.722886323929 seconds ---\n"
     ]
    },
    {
     "name": "stderr",
     "output_type": "stream",
     "text": [
      "\n"
     ]
    }
   ],
   "source": [
    "start_time = time.time()\n",
    "crm = CellRegMap(y=y, W=W, E=C_gauss.values[:,0:10], Ls=Ls)\n",
    "pvals = run_interaction(y=y, W=W, E=C_gauss.values[:,0:10], G=GG, E2=C, hK=hK_expanded)[0]\n",
    "print(\"--- %s seconds ---\" % (time.time() - start_time))"
   ]
  },
  {
   "cell_type": "code",
   "execution_count": 55,
   "id": "09d75a15",
   "metadata": {},
   "outputs": [
    {
     "data": {
      "text/html": [
       "<div>\n",
       "<style scoped>\n",
       "    .dataframe tbody tr th:only-of-type {\n",
       "        vertical-align: middle;\n",
       "    }\n",
       "\n",
       "    .dataframe tbody tr th {\n",
       "        vertical-align: top;\n",
       "    }\n",
       "\n",
       "    .dataframe thead th {\n",
       "        text-align: right;\n",
       "    }\n",
       "</style>\n",
       "<table border=\"1\" class=\"dataframe\">\n",
       "  <thead>\n",
       "    <tr style=\"text-align: right;\">\n",
       "      <th></th>\n",
       "      <th>chrom</th>\n",
       "      <th>pv</th>\n",
       "      <th>variant</th>\n",
       "    </tr>\n",
       "  </thead>\n",
       "  <tbody>\n",
       "    <tr>\n",
       "      <th>0</th>\n",
       "      <td>22</td>\n",
       "      <td>0.614792</td>\n",
       "      <td>22_38815543_G_T</td>\n",
       "    </tr>\n",
       "    <tr>\n",
       "      <th>1</th>\n",
       "      <td>22</td>\n",
       "      <td>0.679391</td>\n",
       "      <td>22_38815767_C_T</td>\n",
       "    </tr>\n",
       "    <tr>\n",
       "      <th>2</th>\n",
       "      <td>22</td>\n",
       "      <td>0.679953</td>\n",
       "      <td>22_38816059_T_C</td>\n",
       "    </tr>\n",
       "    <tr>\n",
       "      <th>3</th>\n",
       "      <td>22</td>\n",
       "      <td>0.472747</td>\n",
       "      <td>22_38816351_G_A</td>\n",
       "    </tr>\n",
       "    <tr>\n",
       "      <th>4</th>\n",
       "      <td>22</td>\n",
       "      <td>0.991658</td>\n",
       "      <td>22_38817047_A_G</td>\n",
       "    </tr>\n",
       "  </tbody>\n",
       "</table>\n",
       "</div>"
      ],
      "text/plain": [
       "  chrom        pv          variant\n",
       "0    22  0.614792  22_38815543_G_T\n",
       "1    22  0.679391  22_38815767_C_T\n",
       "2    22  0.679953  22_38816059_T_C\n",
       "3    22  0.472747  22_38816351_G_A\n",
       "4    22  0.991658  22_38817047_A_G"
      ]
     },
     "execution_count": 55,
     "metadata": {},
     "output_type": "execute_result"
    }
   ],
   "source": [
    "pv = pd.DataFrame({\"chrom\":G_expanded.chrom.values,\n",
    "               \"pv\":pvals,\n",
    "               \"variant\":G_expanded.snp.values})\n",
    "pv.head()"
   ]
  },
  {
   "cell_type": "code",
   "execution_count": 56,
   "id": "9aed553f",
   "metadata": {},
   "outputs": [
    {
     "name": "stderr",
     "output_type": "stream",
     "text": [
      "100%|██████████| 10/10 [51:26<00:00, 308.65s/it]"
     ]
    },
    {
     "name": "stdout",
     "output_type": "stream",
     "text": [
      "--- 3158.3022513389587 seconds ---\n"
     ]
    },
    {
     "name": "stderr",
     "output_type": "stream",
     "text": [
      "\n"
     ]
    }
   ],
   "source": [
    "start_time = time.time()\n",
    "pvals = run_interaction(y, W=W, E=C_gauss.values[:,0:10], E1=C_gauss.values[:,0:10], E2=C.values[:,0:20], G=GG, hK=hK_expanded)[0]\n",
    "print(\"--- %s seconds ---\" % (time.time() - start_time))"
   ]
  },
  {
   "cell_type": "code",
   "execution_count": 57,
   "id": "bc91e05f",
   "metadata": {},
   "outputs": [
    {
     "data": {
      "text/html": [
       "<div>\n",
       "<style scoped>\n",
       "    .dataframe tbody tr th:only-of-type {\n",
       "        vertical-align: middle;\n",
       "    }\n",
       "\n",
       "    .dataframe tbody tr th {\n",
       "        vertical-align: top;\n",
       "    }\n",
       "\n",
       "    .dataframe thead th {\n",
       "        text-align: right;\n",
       "    }\n",
       "</style>\n",
       "<table border=\"1\" class=\"dataframe\">\n",
       "  <thead>\n",
       "    <tr style=\"text-align: right;\">\n",
       "      <th></th>\n",
       "      <th>chrom</th>\n",
       "      <th>pv</th>\n",
       "      <th>variant</th>\n",
       "    </tr>\n",
       "  </thead>\n",
       "  <tbody>\n",
       "    <tr>\n",
       "      <th>0</th>\n",
       "      <td>22</td>\n",
       "      <td>0.614792</td>\n",
       "      <td>22_38815543_G_T</td>\n",
       "    </tr>\n",
       "    <tr>\n",
       "      <th>1</th>\n",
       "      <td>22</td>\n",
       "      <td>0.679391</td>\n",
       "      <td>22_38815767_C_T</td>\n",
       "    </tr>\n",
       "    <tr>\n",
       "      <th>2</th>\n",
       "      <td>22</td>\n",
       "      <td>0.679953</td>\n",
       "      <td>22_38816059_T_C</td>\n",
       "    </tr>\n",
       "    <tr>\n",
       "      <th>3</th>\n",
       "      <td>22</td>\n",
       "      <td>0.472747</td>\n",
       "      <td>22_38816351_G_A</td>\n",
       "    </tr>\n",
       "    <tr>\n",
       "      <th>4</th>\n",
       "      <td>22</td>\n",
       "      <td>0.991658</td>\n",
       "      <td>22_38817047_A_G</td>\n",
       "    </tr>\n",
       "  </tbody>\n",
       "</table>\n",
       "</div>"
      ],
      "text/plain": [
       "  chrom        pv          variant\n",
       "0    22  0.614792  22_38815543_G_T\n",
       "1    22  0.679391  22_38815767_C_T\n",
       "2    22  0.679953  22_38816059_T_C\n",
       "3    22  0.472747  22_38816351_G_A\n",
       "4    22  0.991658  22_38817047_A_G"
      ]
     },
     "execution_count": 57,
     "metadata": {},
     "output_type": "execute_result"
    }
   ],
   "source": [
    "pv = pd.DataFrame({\"chrom\":G_expanded.chrom.values,\n",
    "               \"pv\":pvals,\n",
    "               \"variant\":G_expanded.snp.values})\n",
    "pv.head()"
   ]
  },
  {
   "cell_type": "code",
   "execution_count": 60,
   "id": "7cec52cf",
   "metadata": {},
   "outputs": [],
   "source": [
    "folder = revision_folder+\"CRM_interaction_chr22/results/\"\n",
    "outfilename = f\"{folder}{trait_name}_{i}.tsv\""
   ]
  },
  {
   "cell_type": "code",
   "execution_count": 61,
   "id": "a20d29b8",
   "metadata": {},
   "outputs": [
    {
     "data": {
      "text/plain": [
       "'/hps/nobackup/stegle/users/acuomo/all_scripts/struct_LMM2/sc_endodiff/debug_May2021/REVISION/CRM_interaction_chr22/results/ENSG00000100206_0.tsv'"
      ]
     },
     "execution_count": 61,
     "metadata": {},
     "output_type": "execute_result"
    }
   ],
   "source": [
    "outfilename"
   ]
  },
  {
   "cell_type": "code",
   "execution_count": 62,
   "id": "ec33253b",
   "metadata": {},
   "outputs": [],
   "source": [
    "pv.to_csv(outfilename)"
   ]
  },
  {
   "cell_type": "code",
   "execution_count": null,
   "id": "b7722c7f",
   "metadata": {},
   "outputs": [],
   "source": []
  }
 ],
 "metadata": {
  "kernelspec": {
   "display_name": "Python (struct-lmm2)",
   "language": "python",
   "name": "struct-lmm2"
  },
  "language_info": {
   "codemirror_mode": {
    "name": "ipython",
    "version": 3
   },
   "file_extension": ".py",
   "mimetype": "text/x-python",
   "name": "python",
   "nbconvert_exporter": "python",
   "pygments_lexer": "ipython3",
   "version": "3.8.5"
  }
 },
 "nbformat": 4,
 "nbformat_minor": 5
}
