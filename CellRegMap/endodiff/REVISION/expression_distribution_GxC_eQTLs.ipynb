{
 "cells": [
  {
   "cell_type": "code",
   "execution_count": 22,
   "id": "391c1ead",
   "metadata": {},
   "outputs": [],
   "source": [
    "library(qvalue)\n",
    "library(ggplot2)\n",
    "library(cowplot)\n",
    "library(dplyr)"
   ]
  },
  {
   "cell_type": "code",
   "execution_count": 1,
   "id": "28624011",
   "metadata": {},
   "outputs": [],
   "source": [
    "# interaction results"
   ]
  },
  {
   "cell_type": "code",
   "execution_count": 2,
   "id": "b2741033",
   "metadata": {},
   "outputs": [],
   "source": [
    "mydir = \"/hps/nobackup/stegle/users/acuomo/all_scripts/struct_LMM2/sc_endodiff/debug_May2021/\""
   ]
  },
  {
   "cell_type": "code",
   "execution_count": 3,
   "id": "225b2e41",
   "metadata": {},
   "outputs": [
    {
     "data": {
      "text/html": [
       "4470"
      ],
      "text/latex": [
       "4470"
      ],
      "text/markdown": [
       "4470"
      ],
      "text/plain": [
       "[1] 4470"
      ]
     },
     "metadata": {},
     "output_type": "display_data"
    },
    {
     "data": {
      "text/html": [
       "<table>\n",
       "<thead><tr><th></th><th scope=col>gene</th><th scope=col>n_snps</th><th scope=col>chrom</th><th scope=col>pv_raw</th><th scope=col>snpID</th><th scope=col>pv</th></tr></thead>\n",
       "<tbody>\n",
       "\t<tr><th scope=row>0</th><td>ENSG00000140905_GCSH </td><td>1                    </td><td>16                   </td><td>0.02606257           </td><td>16_81118466_A_G      </td><td>0.02606257           </td></tr>\n",
       "\t<tr><th scope=row>1</th><td>ENSG00000011523_CEP68</td><td>2                    </td><td> 2                   </td><td>0.03995225           </td><td>2_65279223_C_T       </td><td>0.07990451           </td></tr>\n",
       "</tbody>\n",
       "</table>\n"
      ],
      "text/latex": [
       "\\begin{tabular}{r|llllll}\n",
       "  & gene & n\\_snps & chrom & pv\\_raw & snpID & pv\\\\\n",
       "\\hline\n",
       "\t0 & ENSG00000140905\\_GCSH  & 1                       & 16                      & 0.02606257              & 16\\_81118466\\_A\\_G   & 0.02606257             \\\\\n",
       "\t1 & ENSG00000011523\\_CEP68 & 2                       &  2                      & 0.03995225              & 2\\_65279223\\_C\\_T    & 0.07990451             \\\\\n",
       "\\end{tabular}\n"
      ],
      "text/markdown": [
       "\n",
       "| <!--/--> | gene | n_snps | chrom | pv_raw | snpID | pv |\n",
       "|---|---|---|---|---|---|---|\n",
       "| 0 | ENSG00000140905_GCSH  | 1                     | 16                    | 0.02606257            | 16_81118466_A_G       | 0.02606257            |\n",
       "| 1 | ENSG00000011523_CEP68 | 2                     |  2                    | 0.03995225            | 2_65279223_C_T        | 0.07990451            |\n",
       "\n"
      ],
      "text/plain": [
       "  gene                  n_snps chrom pv_raw     snpID           pv        \n",
       "0 ENSG00000140905_GCSH  1      16    0.02606257 16_81118466_A_G 0.02606257\n",
       "1 ENSG00000011523_CEP68 2       2    0.03995225 2_65279223_C_T  0.07990451"
      ]
     },
     "metadata": {},
     "output_type": "display_data"
    }
   ],
   "source": [
    "########## MOFA 1:10\n",
    "# results when using MOFA components 1-10 as cell context\n",
    "file1 = paste0(mydir, \"MOFA10/new4/summary.csv\")\n",
    "df1 = read.csv(file1, row.names=1)\n",
    "nrow(df1)\n",
    "head(df1,2)"
   ]
  },
  {
   "cell_type": "code",
   "execution_count": 5,
   "id": "894f7694",
   "metadata": {},
   "outputs": [
    {
     "data": {
      "text/html": [
       "411"
      ],
      "text/latex": [
       "411"
      ],
      "text/markdown": [
       "411"
      ],
      "text/plain": [
       "[1] 411"
      ]
     },
     "metadata": {},
     "output_type": "display_data"
    },
    {
     "data": {
      "text/html": [
       "315"
      ],
      "text/latex": [
       "315"
      ],
      "text/markdown": [
       "315"
      ],
      "text/plain": [
       "[1] 315"
      ]
     },
     "metadata": {},
     "output_type": "display_data"
    }
   ],
   "source": [
    "df1$qv = qvalue(df1$pv, pi0 = 1)$qvalue\n",
    "# significant eQTLs (FDR<5%)\n",
    "nrow(df1[df1$qv<0.05,])\n",
    "# significant eGenes (FDR<5%)\n",
    "length(unique(df1[df1$qv<0.05,\"gene\"]))"
   ]
  },
  {
   "cell_type": "code",
   "execution_count": 49,
   "id": "a73ef0a6",
   "metadata": {
    "scrolled": true
   },
   "outputs": [
    {
     "data": {
      "text/html": [
       "<table>\n",
       "<thead><tr><th></th><th scope=col>gene</th><th scope=col>n_snps</th><th scope=col>chrom</th><th scope=col>pv_raw</th><th scope=col>snpID</th><th scope=col>pv</th><th scope=col>qv</th></tr></thead>\n",
       "<tbody>\n",
       "\t<tr><th scope=row>3483</th><td>ENSG00000169877_AHSP  </td><td>2                     </td><td>16                    </td><td>4.441206e-52          </td><td>16_31522723_T_C       </td><td>8.882413e-52          </td><td>1.985219e-48          </td></tr>\n",
       "\t<tr><th scope=row>3484</th><td>ENSG00000169877_AHSP  </td><td>2                     </td><td>16                    </td><td>4.441206e-52          </td><td>16_31526823_G_A       </td><td>8.882413e-52          </td><td>1.985219e-48          </td></tr>\n",
       "\t<tr><th scope=row>207</th><td>ENSG00000229150_CRYGEP</td><td>2                     </td><td> 2                    </td><td>2.649644e-48          </td><td>2_208977797_G_T       </td><td>5.299288e-48          </td><td>7.895939e-45          </td></tr>\n",
       "\t<tr><th scope=row>206</th><td>ENSG00000229150_CRYGEP</td><td>2                     </td><td> 2                    </td><td>1.646080e-46          </td><td>2_208977362_C_A       </td><td>3.292161e-46          </td><td>3.678990e-43          </td></tr>\n",
       "\t<tr><th scope=row>2295</th><td>ENSG00000111913_FAM65B</td><td>1                     </td><td> 6                    </td><td>5.863853e-44          </td><td>6_24979164_T_A        </td><td>5.863853e-44          </td><td>5.242285e-41          </td></tr>\n",
       "\t<tr><th scope=row>268</th><td>ENSG00000243566_UPK3B </td><td>1                     </td><td> 7                    </td><td>1.700073e-29          </td><td>7_76137375_C_T        </td><td>1.700073e-29          </td><td>1.266554e-26          </td></tr>\n",
       "</tbody>\n",
       "</table>\n"
      ],
      "text/latex": [
       "\\begin{tabular}{r|lllllll}\n",
       "  & gene & n\\_snps & chrom & pv\\_raw & snpID & pv & qv\\\\\n",
       "\\hline\n",
       "\t3483 & ENSG00000169877\\_AHSP   & 2                        & 16                       & 4.441206e-52             & 16\\_31522723\\_T\\_C    & 8.882413e-52             & 1.985219e-48            \\\\\n",
       "\t3484 & ENSG00000169877\\_AHSP   & 2                        & 16                       & 4.441206e-52             & 16\\_31526823\\_G\\_A    & 8.882413e-52             & 1.985219e-48            \\\\\n",
       "\t207 & ENSG00000229150\\_CRYGEP & 2                        &  2                       & 2.649644e-48             & 2\\_208977797\\_G\\_T    & 5.299288e-48             & 7.895939e-45            \\\\\n",
       "\t206 & ENSG00000229150\\_CRYGEP & 2                        &  2                       & 1.646080e-46             & 2\\_208977362\\_C\\_A    & 3.292161e-46             & 3.678990e-43            \\\\\n",
       "\t2295 & ENSG00000111913\\_FAM65B & 1                        &  6                       & 5.863853e-44             & 6\\_24979164\\_T\\_A     & 5.863853e-44             & 5.242285e-41            \\\\\n",
       "\t268 & ENSG00000243566\\_UPK3B  & 1                        &  7                       & 1.700073e-29             & 7\\_76137375\\_C\\_T     & 1.700073e-29             & 1.266554e-26            \\\\\n",
       "\\end{tabular}\n"
      ],
      "text/markdown": [
       "\n",
       "| <!--/--> | gene | n_snps | chrom | pv_raw | snpID | pv | qv |\n",
       "|---|---|---|---|---|---|---|---|\n",
       "| 3483 | ENSG00000169877_AHSP   | 2                      | 16                     | 4.441206e-52           | 16_31522723_T_C        | 8.882413e-52           | 1.985219e-48           |\n",
       "| 3484 | ENSG00000169877_AHSP   | 2                      | 16                     | 4.441206e-52           | 16_31526823_G_A        | 8.882413e-52           | 1.985219e-48           |\n",
       "| 207 | ENSG00000229150_CRYGEP | 2                      |  2                     | 2.649644e-48           | 2_208977797_G_T        | 5.299288e-48           | 7.895939e-45           |\n",
       "| 206 | ENSG00000229150_CRYGEP | 2                      |  2                     | 1.646080e-46           | 2_208977362_C_A        | 3.292161e-46           | 3.678990e-43           |\n",
       "| 2295 | ENSG00000111913_FAM65B | 1                      |  6                     | 5.863853e-44           | 6_24979164_T_A         | 5.863853e-44           | 5.242285e-41           |\n",
       "| 268 | ENSG00000243566_UPK3B  | 1                      |  7                     | 1.700073e-29           | 7_76137375_C_T         | 1.700073e-29           | 1.266554e-26           |\n",
       "\n"
      ],
      "text/plain": [
       "     gene                   n_snps chrom pv_raw       snpID          \n",
       "3483 ENSG00000169877_AHSP   2      16    4.441206e-52 16_31522723_T_C\n",
       "3484 ENSG00000169877_AHSP   2      16    4.441206e-52 16_31526823_G_A\n",
       "207  ENSG00000229150_CRYGEP 2       2    2.649644e-48 2_208977797_G_T\n",
       "206  ENSG00000229150_CRYGEP 2       2    1.646080e-46 2_208977362_C_A\n",
       "2295 ENSG00000111913_FAM65B 1       6    5.863853e-44 6_24979164_T_A \n",
       "268  ENSG00000243566_UPK3B  1       7    1.700073e-29 7_76137375_C_T \n",
       "     pv           qv          \n",
       "3483 8.882413e-52 1.985219e-48\n",
       "3484 8.882413e-52 1.985219e-48\n",
       "207  5.299288e-48 7.895939e-45\n",
       "206  3.292161e-46 3.678990e-43\n",
       "2295 5.863853e-44 5.242285e-41\n",
       "268  1.700073e-29 1.266554e-26"
      ]
     },
     "metadata": {},
     "output_type": "display_data"
    }
   ],
   "source": [
    "df2 = df1[df1$qv<0.05,]\n",
    "head(df2[order(df2$pv_raw),])"
   ]
  },
  {
   "cell_type": "code",
   "execution_count": 8,
   "id": "9d3d4dff",
   "metadata": {},
   "outputs": [],
   "source": [
    "sce = readRDS(\"/hps/nobackup/hipsci/scratch/singlecell_endodiff/data_processed/merged/20180618/sce_merged_afterqc_filt_allexpts.rds\")"
   ]
  },
  {
   "cell_type": "code",
   "execution_count": 10,
   "id": "25c936d2",
   "metadata": {},
   "outputs": [
    {
     "data": {
      "text/plain": [
       "class: SingleCellExperiment \n",
       "dim: 11231 36044 \n",
       "metadata(4): log.exprs.offset log.exprs.offset log.exprs.offset\n",
       "  log.exprs.offset\n",
       "assays(3): tpm counts logcounts\n",
       "rownames(11231): ENSG00000000003_TSPAN6 ENSG00000000419_DPM1 ...\n",
       "  ENSG00000272325_NUDT3 ENSG00000272398_CD24\n",
       "rowData names(17): exprs_collapsed_to ensembl_transcript_id ...\n",
       "  is_intop2000hvg is_hvg\n",
       "colnames(36044): 21843_1#10 21843_1#100 ... 24539_8#97 24539_8#98\n",
       "colData names(123): adj_x adj_y ... princ_curve princ_curve_scaled01\n",
       "reducedDimNames(1): PCA\n",
       "spikeNames(1): ERCC\n",
       "altExpNames(0):"
      ]
     },
     "metadata": {},
     "output_type": "display_data"
    }
   ],
   "source": [
    "sce"
   ]
  },
  {
   "cell_type": "code",
   "execution_count": 11,
   "id": "3998ff19",
   "metadata": {},
   "outputs": [],
   "source": [
    "counts = logcounts(sce)"
   ]
  },
  {
   "cell_type": "code",
   "execution_count": 12,
   "id": "c6fb57a8",
   "metadata": {},
   "outputs": [
    {
     "data": {
      "text/html": [
       "<table>\n",
       "<thead><tr><th></th><th scope=col>gene</th><th scope=col>mean</th><th scope=col>var</th></tr></thead>\n",
       "<tbody>\n",
       "\t<tr><th scope=row>ENSG00000000003_TSPAN6</th><td>ENSG00000000003_TSPAN6  </td><td>5.4684470               </td><td>1.169600                </td></tr>\n",
       "\t<tr><th scope=row>ENSG00000000419_DPM1</th><td>ENSG00000000419_DPM1    </td><td>5.6828451               </td><td>1.736982                </td></tr>\n",
       "\t<tr><th scope=row>ENSG00000000457_SCYL3</th><td>ENSG00000000457_SCYL3   </td><td>0.7900145               </td><td>1.257087                </td></tr>\n",
       "\t<tr><th scope=row>ENSG00000000460_C1orf112</th><td>ENSG00000000460_C1orf112</td><td>3.0843196               </td><td>1.815009                </td></tr>\n",
       "\t<tr><th scope=row>ENSG00000001036_FUCA2</th><td>ENSG00000001036_FUCA2   </td><td>3.5822585               </td><td>2.486181                </td></tr>\n",
       "\t<tr><th scope=row>ENSG00000001084_GCLC</th><td>ENSG00000001084_GCLC    </td><td>1.7308616               </td><td>2.491006                </td></tr>\n",
       "</tbody>\n",
       "</table>\n"
      ],
      "text/latex": [
       "\\begin{tabular}{r|lll}\n",
       "  & gene & mean & var\\\\\n",
       "\\hline\n",
       "\tENSG00000000003\\_TSPAN6 & ENSG00000000003\\_TSPAN6   & 5.4684470                  & 1.169600                  \\\\\n",
       "\tENSG00000000419\\_DPM1 & ENSG00000000419\\_DPM1     & 5.6828451                  & 1.736982                  \\\\\n",
       "\tENSG00000000457\\_SCYL3 & ENSG00000000457\\_SCYL3    & 0.7900145                  & 1.257087                  \\\\\n",
       "\tENSG00000000460\\_C1orf112 & ENSG00000000460\\_C1orf112 & 3.0843196                  & 1.815009                  \\\\\n",
       "\tENSG00000001036\\_FUCA2 & ENSG00000001036\\_FUCA2    & 3.5822585                  & 2.486181                  \\\\\n",
       "\tENSG00000001084\\_GCLC & ENSG00000001084\\_GCLC     & 1.7308616                  & 2.491006                  \\\\\n",
       "\\end{tabular}\n"
      ],
      "text/markdown": [
       "\n",
       "| <!--/--> | gene | mean | var |\n",
       "|---|---|---|---|\n",
       "| ENSG00000000003_TSPAN6 | ENSG00000000003_TSPAN6   | 5.4684470                | 1.169600                 |\n",
       "| ENSG00000000419_DPM1 | ENSG00000000419_DPM1     | 5.6828451                | 1.736982                 |\n",
       "| ENSG00000000457_SCYL3 | ENSG00000000457_SCYL3    | 0.7900145                | 1.257087                 |\n",
       "| ENSG00000000460_C1orf112 | ENSG00000000460_C1orf112 | 3.0843196                | 1.815009                 |\n",
       "| ENSG00000001036_FUCA2 | ENSG00000001036_FUCA2    | 3.5822585                | 2.486181                 |\n",
       "| ENSG00000001084_GCLC | ENSG00000001084_GCLC     | 1.7308616                | 2.491006                 |\n",
       "\n"
      ],
      "text/plain": [
       "                         gene                     mean      var     \n",
       "ENSG00000000003_TSPAN6   ENSG00000000003_TSPAN6   5.4684470 1.169600\n",
       "ENSG00000000419_DPM1     ENSG00000000419_DPM1     5.6828451 1.736982\n",
       "ENSG00000000457_SCYL3    ENSG00000000457_SCYL3    0.7900145 1.257087\n",
       "ENSG00000000460_C1orf112 ENSG00000000460_C1orf112 3.0843196 1.815009\n",
       "ENSG00000001036_FUCA2    ENSG00000001036_FUCA2    3.5822585 2.486181\n",
       "ENSG00000001084_GCLC     ENSG00000001084_GCLC     1.7308616 2.491006"
      ]
     },
     "metadata": {},
     "output_type": "display_data"
    }
   ],
   "source": [
    "stats_df = data.frame(gene = rownames(counts), mean = rowMeans(counts), var = rowVars(counts))\n",
    "head(stats_df)"
   ]
  },
  {
   "cell_type": "code",
   "execution_count": 48,
   "id": "786495f8",
   "metadata": {},
   "outputs": [
    {
     "data": {
      "text/html": [
       "3240"
      ],
      "text/latex": [
       "3240"
      ],
      "text/markdown": [
       "3240"
      ],
      "text/plain": [
       "[1] 3240"
      ]
     },
     "metadata": {},
     "output_type": "display_data"
    }
   ],
   "source": [
    "stats_df = stats_df[stats_df$gene %in% unique(df1$gene),]\n",
    "nrow(stats_df)"
   ]
  },
  {
   "cell_type": "code",
   "execution_count": 43,
   "id": "e78e13f9",
   "metadata": {},
   "outputs": [],
   "source": [
    "stats_df$sign = 'no'\n",
    "stats_df$sign[stats_df$gene %in% unique(df1[df1$qv<0.05,\"gene\"])] = 'yes'"
   ]
  },
  {
   "cell_type": "code",
   "execution_count": 44,
   "id": "9bc16524",
   "metadata": {},
   "outputs": [],
   "source": [
    "p1 = ggplot(stats_df, aes(x = sign, y = mean)) + geom_boxplot() + theme_classic()\n",
    "p2 = ggplot(stats_df, aes(x = sign, y = var)) + geom_boxplot() + theme_classic()"
   ]
  },
  {
   "cell_type": "code",
   "execution_count": 45,
   "id": "19d78070",
   "metadata": {},
   "outputs": [
    {
     "name": "stderr",
     "output_type": "stream",
     "text": [
      "Joining, by = \"gene\"\n"
     ]
    },
    {
     "data": {
      "text/html": [
       "4470"
      ],
      "text/latex": [
       "4470"
      ],
      "text/markdown": [
       "4470"
      ],
      "text/plain": [
       "[1] 4470"
      ]
     },
     "metadata": {},
     "output_type": "display_data"
    }
   ],
   "source": [
    "df3 = inner_join(df1, stats_df)\n",
    "nrow(df3)"
   ]
  },
  {
   "cell_type": "code",
   "execution_count": 46,
   "id": "b5451e5b",
   "metadata": {},
   "outputs": [],
   "source": [
    "p3 = ggplot(df3, aes(x = mean, y = -log10(qv))) +  geom_point()  + stat_smooth(method = \"loess\") + theme_classic()"
   ]
  },
  {
   "cell_type": "code",
   "execution_count": 47,
   "id": "b29aebd7",
   "metadata": {
    "scrolled": false
   },
   "outputs": [
    {
     "name": "stderr",
     "output_type": "stream",
     "text": [
      "`geom_smooth()` using formula 'y ~ x'\n"
     ]
    },
    {
     "data": {
      "image/png": "[encoded data removed]",
      "text/plain": [
       "plot without title"
      ]
     },
     "metadata": {},
     "output_type": "display_data"
    }
   ],
   "source": [
    "options(repr.plot.width = 12, repr.plot.height = 4)\n",
    "plot_grid(p1,p2,p3,ncol=3)"
   ]
  },
  {
   "cell_type": "code",
   "execution_count": null,
   "id": "6d778b55",
   "metadata": {},
   "outputs": [],
   "source": []
  }
 ],
 "metadata": {
  "kernelspec": {
   "display_name": "R",
   "language": "R",
   "name": "ir"
  },
  "language_info": {
   "codemirror_mode": "r",
   "file_extension": ".r",
   "mimetype": "text/x-r-source",
   "name": "R",
   "pygments_lexer": "r",
   "version": "3.6.1"
  }
 },
 "nbformat": 4,
 "nbformat_minor": 5
}
