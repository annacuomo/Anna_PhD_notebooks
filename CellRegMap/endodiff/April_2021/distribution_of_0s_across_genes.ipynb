{
 "cells": [
  {
   "cell_type": "code",
   "execution_count": 1,
   "metadata": {},
   "outputs": [],
   "source": [
    "import pandas as pd\n",
    "import matplotlib.pyplot as plt"
   ]
  },
  {
   "cell_type": "code",
   "execution_count": 2,
   "metadata": {},
   "outputs": [],
   "source": [
    "input_files_dir = \"/hps/nobackup/stegle/users/acuomo/all_scripts/struct_LMM2/sc_endodiff/new/input_files/\""
   ]
  },
  {
   "cell_type": "code",
   "execution_count": 3,
   "metadata": {},
   "outputs": [
    {
     "data": {
      "text/html": [
       "<div>\n",
       "<style scoped>\n",
       "    .dataframe tbody tr th:only-of-type {\n",
       "        vertical-align: middle;\n",
       "    }\n",
       "\n",
       "    .dataframe tbody tr th {\n",
       "        vertical-align: top;\n",
       "    }\n",
       "\n",
       "    .dataframe thead th {\n",
       "        text-align: right;\n",
       "    }\n",
       "</style>\n",
       "<table border=\"1\" class=\"dataframe\">\n",
       "  <thead>\n",
       "    <tr style=\"text-align: right;\">\n",
       "      <th></th>\n",
       "      <th>21843_1#10</th>\n",
       "      <th>21843_1#100</th>\n",
       "      <th>21843_1#101</th>\n",
       "      <th>21843_1#102</th>\n",
       "      <th>21843_1#103</th>\n",
       "      <th>21843_1#105</th>\n",
       "      <th>21843_1#106</th>\n",
       "      <th>21843_1#107</th>\n",
       "      <th>21843_1#108</th>\n",
       "      <th>21843_1#109</th>\n",
       "      <th>...</th>\n",
       "      <th>24539_8#88</th>\n",
       "      <th>24539_8#89</th>\n",
       "      <th>24539_8#90</th>\n",
       "      <th>24539_8#91</th>\n",
       "      <th>24539_8#92</th>\n",
       "      <th>24539_8#93</th>\n",
       "      <th>24539_8#94</th>\n",
       "      <th>24539_8#95</th>\n",
       "      <th>24539_8#97</th>\n",
       "      <th>24539_8#98</th>\n",
       "    </tr>\n",
       "  </thead>\n",
       "  <tbody>\n",
       "    <tr>\n",
       "      <th>ENSG00000000003_TSPAN6</th>\n",
       "      <td>5.520777</td>\n",
       "      <td>6.456208</td>\n",
       "      <td>5.878671</td>\n",
       "      <td>4.860824</td>\n",
       "      <td>5.903640</td>\n",
       "      <td>4.513537</td>\n",
       "      <td>6.401983</td>\n",
       "      <td>5.909216</td>\n",
       "      <td>5.366645</td>\n",
       "      <td>3.228852</td>\n",
       "      <td>...</td>\n",
       "      <td>5.841814</td>\n",
       "      <td>6.104105</td>\n",
       "      <td>6.275649</td>\n",
       "      <td>7.029407</td>\n",
       "      <td>5.806978</td>\n",
       "      <td>6.199875</td>\n",
       "      <td>7.014180</td>\n",
       "      <td>6.228476</td>\n",
       "      <td>6.217161</td>\n",
       "      <td>6.034232</td>\n",
       "    </tr>\n",
       "    <tr>\n",
       "      <th>ENSG00000000419_DPM1</th>\n",
       "      <td>5.392461</td>\n",
       "      <td>6.065923</td>\n",
       "      <td>6.838769</td>\n",
       "      <td>6.614268</td>\n",
       "      <td>6.512403</td>\n",
       "      <td>5.527439</td>\n",
       "      <td>6.525591</td>\n",
       "      <td>6.381135</td>\n",
       "      <td>6.157296</td>\n",
       "      <td>6.248478</td>\n",
       "      <td>...</td>\n",
       "      <td>6.543807</td>\n",
       "      <td>6.369119</td>\n",
       "      <td>7.185421</td>\n",
       "      <td>6.337047</td>\n",
       "      <td>6.162437</td>\n",
       "      <td>5.885993</td>\n",
       "      <td>7.431358</td>\n",
       "      <td>7.013124</td>\n",
       "      <td>4.851771</td>\n",
       "      <td>4.937248</td>\n",
       "    </tr>\n",
       "    <tr>\n",
       "      <th>ENSG00000000457_SCYL3</th>\n",
       "      <td>0.000174</td>\n",
       "      <td>0.352597</td>\n",
       "      <td>0.000000</td>\n",
       "      <td>0.825955</td>\n",
       "      <td>2.201697</td>\n",
       "      <td>0.262446</td>\n",
       "      <td>0.000000</td>\n",
       "      <td>1.506837</td>\n",
       "      <td>0.283516</td>\n",
       "      <td>3.241977</td>\n",
       "      <td>...</td>\n",
       "      <td>0.017386</td>\n",
       "      <td>0.949668</td>\n",
       "      <td>0.035526</td>\n",
       "      <td>0.032044</td>\n",
       "      <td>1.773369</td>\n",
       "      <td>0.000000</td>\n",
       "      <td>0.108025</td>\n",
       "      <td>1.756339</td>\n",
       "      <td>2.492943</td>\n",
       "      <td>1.363441</td>\n",
       "    </tr>\n",
       "    <tr>\n",
       "      <th>ENSG00000000460_C1orf112</th>\n",
       "      <td>1.471928</td>\n",
       "      <td>4.536968</td>\n",
       "      <td>4.318528</td>\n",
       "      <td>5.373009</td>\n",
       "      <td>4.636175</td>\n",
       "      <td>4.225468</td>\n",
       "      <td>0.409785</td>\n",
       "      <td>3.668277</td>\n",
       "      <td>3.057933</td>\n",
       "      <td>3.154891</td>\n",
       "      <td>...</td>\n",
       "      <td>4.720967</td>\n",
       "      <td>3.791536</td>\n",
       "      <td>2.696476</td>\n",
       "      <td>4.227515</td>\n",
       "      <td>4.243689</td>\n",
       "      <td>3.227508</td>\n",
       "      <td>2.621121</td>\n",
       "      <td>3.950978</td>\n",
       "      <td>3.926914</td>\n",
       "      <td>4.211904</td>\n",
       "    </tr>\n",
       "    <tr>\n",
       "      <th>ENSG00000001036_FUCA2</th>\n",
       "      <td>2.908802</td>\n",
       "      <td>3.867327</td>\n",
       "      <td>3.321747</td>\n",
       "      <td>3.736476</td>\n",
       "      <td>4.917576</td>\n",
       "      <td>2.456866</td>\n",
       "      <td>0.577839</td>\n",
       "      <td>4.777404</td>\n",
       "      <td>2.873857</td>\n",
       "      <td>2.536708</td>\n",
       "      <td>...</td>\n",
       "      <td>3.070608</td>\n",
       "      <td>4.491643</td>\n",
       "      <td>4.206249</td>\n",
       "      <td>3.695005</td>\n",
       "      <td>2.652845</td>\n",
       "      <td>4.221847</td>\n",
       "      <td>3.188030</td>\n",
       "      <td>4.741496</td>\n",
       "      <td>3.872743</td>\n",
       "      <td>4.374577</td>\n",
       "    </tr>\n",
       "  </tbody>\n",
       "</table>\n",
       "<p>5 rows × 34256 columns</p>\n",
       "</div>"
      ],
      "text/plain": [
       "                          21843_1#10  21843_1#100  21843_1#101  21843_1#102  \\\n",
       "ENSG00000000003_TSPAN6      5.520777     6.456208     5.878671     4.860824   \n",
       "ENSG00000000419_DPM1        5.392461     6.065923     6.838769     6.614268   \n",
       "ENSG00000000457_SCYL3       0.000174     0.352597     0.000000     0.825955   \n",
       "ENSG00000000460_C1orf112    1.471928     4.536968     4.318528     5.373009   \n",
       "ENSG00000001036_FUCA2       2.908802     3.867327     3.321747     3.736476   \n",
       "\n",
       "                          21843_1#103  21843_1#105  21843_1#106  21843_1#107  \\\n",
       "ENSG00000000003_TSPAN6       5.903640     4.513537     6.401983     5.909216   \n",
       "ENSG00000000419_DPM1         6.512403     5.527439     6.525591     6.381135   \n",
       "ENSG00000000457_SCYL3        2.201697     0.262446     0.000000     1.506837   \n",
       "ENSG00000000460_C1orf112     4.636175     4.225468     0.409785     3.668277   \n",
       "ENSG00000001036_FUCA2        4.917576     2.456866     0.577839     4.777404   \n",
       "\n",
       "                          21843_1#108  21843_1#109  ...  24539_8#88  \\\n",
       "ENSG00000000003_TSPAN6       5.366645     3.228852  ...    5.841814   \n",
       "ENSG00000000419_DPM1         6.157296     6.248478  ...    6.543807   \n",
       "ENSG00000000457_SCYL3        0.283516     3.241977  ...    0.017386   \n",
       "ENSG00000000460_C1orf112     3.057933     3.154891  ...    4.720967   \n",
       "ENSG00000001036_FUCA2        2.873857     2.536708  ...    3.070608   \n",
       "\n",
       "                          24539_8#89  24539_8#90  24539_8#91  24539_8#92  \\\n",
       "ENSG00000000003_TSPAN6      6.104105    6.275649    7.029407    5.806978   \n",
       "ENSG00000000419_DPM1        6.369119    7.185421    6.337047    6.162437   \n",
       "ENSG00000000457_SCYL3       0.949668    0.035526    0.032044    1.773369   \n",
       "ENSG00000000460_C1orf112    3.791536    2.696476    4.227515    4.243689   \n",
       "ENSG00000001036_FUCA2       4.491643    4.206249    3.695005    2.652845   \n",
       "\n",
       "                          24539_8#93  24539_8#94  24539_8#95  24539_8#97  \\\n",
       "ENSG00000000003_TSPAN6      6.199875    7.014180    6.228476    6.217161   \n",
       "ENSG00000000419_DPM1        5.885993    7.431358    7.013124    4.851771   \n",
       "ENSG00000000457_SCYL3       0.000000    0.108025    1.756339    2.492943   \n",
       "ENSG00000000460_C1orf112    3.227508    2.621121    3.950978    3.926914   \n",
       "ENSG00000001036_FUCA2       4.221847    3.188030    4.741496    3.872743   \n",
       "\n",
       "                          24539_8#98  \n",
       "ENSG00000000003_TSPAN6      6.034232  \n",
       "ENSG00000000419_DPM1        4.937248  \n",
       "ENSG00000000457_SCYL3       1.363441  \n",
       "ENSG00000000460_C1orf112    4.211904  \n",
       "ENSG00000001036_FUCA2       4.374577  \n",
       "\n",
       "[5 rows x 34256 columns]"
      ]
     },
     "execution_count": 3,
     "metadata": {},
     "output_type": "execute_result"
    }
   ],
   "source": [
    "# Phenotype (genes X cells)\n",
    "phenotype_file = input_files_dir+\"phenotype.csv.pkl\"\n",
    "phenotype = pd.read_pickle(phenotype_file)\n",
    "phenotype.head()"
   ]
  },
  {
   "cell_type": "code",
   "execution_count": 9,
   "metadata": {},
   "outputs": [
    {
     "data": {
      "text/plain": [
       "5239"
      ]
     },
     "execution_count": 9,
     "metadata": {},
     "output_type": "execute_result"
    }
   ],
   "source": [
    "sum((phenotype == 0).astype(int).sum(axis=1)/phenotype.shape[1]>0.2)"
   ]
  },
  {
   "cell_type": "code",
   "execution_count": 14,
   "metadata": {},
   "outputs": [
    {
     "data": {
      "image/png": "[encoded data removed]",
      "text/plain": [
       "<Figure size 432x288 with 1 Axes>"
      ]
     },
     "metadata": {
      "needs_background": "light"
     },
     "output_type": "display_data"
    }
   ],
   "source": [
    "plt.hist((phenotype == 0).astype(int).sum(axis=1)/phenotype.shape[1])\n",
    "plt.show()"
   ]
  },
  {
   "cell_type": "code",
   "execution_count": 19,
   "metadata": {},
   "outputs": [
    {
     "data": {
      "text/plain": [
       "0.46647671623185827"
      ]
     },
     "execution_count": 19,
     "metadata": {},
     "output_type": "execute_result"
    }
   ],
   "source": [
    "5239/11231"
   ]
  },
  {
   "cell_type": "code",
   "execution_count": 10,
   "metadata": {},
   "outputs": [
    {
     "data": {
      "text/html": [
       "<div>\n",
       "<style scoped>\n",
       "    .dataframe tbody tr th:only-of-type {\n",
       "        vertical-align: middle;\n",
       "    }\n",
       "\n",
       "    .dataframe tbody tr th {\n",
       "        vertical-align: top;\n",
       "    }\n",
       "\n",
       "    .dataframe thead th {\n",
       "        text-align: right;\n",
       "    }\n",
       "</style>\n",
       "<table border=\"1\" class=\"dataframe\">\n",
       "  <thead>\n",
       "    <tr style=\"text-align: right;\">\n",
       "      <th></th>\n",
       "      <th>snp_id</th>\n",
       "      <th>feature</th>\n",
       "      <th>stage</th>\n",
       "    </tr>\n",
       "  </thead>\n",
       "  <tbody>\n",
       "    <tr>\n",
       "      <th>0</th>\n",
       "      <td>5_149826526_C_T</td>\n",
       "      <td>ENSG00000164587_RPS14</td>\n",
       "      <td>ips</td>\n",
       "    </tr>\n",
       "    <tr>\n",
       "      <th>1</th>\n",
       "      <td>11_57283988_C_T</td>\n",
       "      <td>ENSG00000134809_TIMM10</td>\n",
       "      <td>ips</td>\n",
       "    </tr>\n",
       "    <tr>\n",
       "      <th>2</th>\n",
       "      <td>12_56401085_G_A</td>\n",
       "      <td>ENSG00000197728_RPS26</td>\n",
       "      <td>ips</td>\n",
       "    </tr>\n",
       "    <tr>\n",
       "      <th>3</th>\n",
       "      <td>17_79634162_T_G</td>\n",
       "      <td>ENSG00000214087_ARL16</td>\n",
       "      <td>ips</td>\n",
       "    </tr>\n",
       "    <tr>\n",
       "      <th>4</th>\n",
       "      <td>6_31486901_T_C</td>\n",
       "      <td>ENSG00000198563_DDX39B</td>\n",
       "      <td>ips</td>\n",
       "    </tr>\n",
       "  </tbody>\n",
       "</table>\n",
       "</div>"
      ],
      "text/plain": [
       "            snp_id                 feature stage\n",
       "0  5_149826526_C_T   ENSG00000164587_RPS14   ips\n",
       "1  11_57283988_C_T  ENSG00000134809_TIMM10   ips\n",
       "2  12_56401085_G_A   ENSG00000197728_RPS26   ips\n",
       "3  17_79634162_T_G   ENSG00000214087_ARL16   ips\n",
       "4   6_31486901_T_C  ENSG00000198563_DDX39B   ips"
      ]
     },
     "execution_count": 10,
     "metadata": {},
     "output_type": "execute_result"
    }
   ],
   "source": [
    "# Filter on specific gene-SNP pairs\n",
    "# eQTL from endodiff (ips+mesendo+defendo)\n",
    "endo_eqtl_file = input_files_dir+\"endodiff_eqtl_allconditions_FDR10pct.csv\"\n",
    "endo_eqtl = pd.read_csv(endo_eqtl_file, index_col = False)\n",
    "endo_eqtl.head()"
   ]
  },
  {
   "cell_type": "code",
   "execution_count": 11,
   "metadata": {},
   "outputs": [
    {
     "data": {
      "text/plain": [
       "array(['ENSG00000164587_RPS14', 'ENSG00000134809_TIMM10',\n",
       "       'ENSG00000197728_RPS26', ..., 'ENSG00000132130_LHX1',\n",
       "       'ENSG00000112559_MDFI', 'ENSG00000141012_GALNS'], dtype=object)"
      ]
     },
     "execution_count": 11,
     "metadata": {},
     "output_type": "execute_result"
    }
   ],
   "source": [
    "genes = endo_eqtl['feature'].unique()\n",
    "len(genes)"
   ]
  },
  {
   "cell_type": "code",
   "execution_count": 15,
   "metadata": {},
   "outputs": [
    {
     "data": {
      "text/plain": [
       "(3240, 34256)"
      ]
     },
     "execution_count": 15,
     "metadata": {},
     "output_type": "execute_result"
    }
   ],
   "source": [
    "pheno = phenotype.loc[genes]\n",
    "pheno.shape"
   ]
  },
  {
   "cell_type": "code",
   "execution_count": 17,
   "metadata": {},
   "outputs": [
    {
     "data": {
      "image/png": "[encoded data removed]",
      "text/plain": [
       "<Figure size 432x288 with 1 Axes>"
      ]
     },
     "metadata": {
      "needs_background": "light"
     },
     "output_type": "display_data"
    }
   ],
   "source": [
    "plt.hist((pheno == 0).astype(int).sum(axis=1)/pheno.shape[1])\n",
    "plt.show()"
   ]
  },
  {
   "cell_type": "code",
   "execution_count": 16,
   "metadata": {},
   "outputs": [
    {
     "data": {
      "text/plain": [
       "1414"
      ]
     },
     "execution_count": 16,
     "metadata": {},
     "output_type": "execute_result"
    }
   ],
   "source": [
    "sum((pheno == 0).astype(int).sum(axis=1)/pheno.shape[1]>0.2)"
   ]
  },
  {
   "cell_type": "code",
   "execution_count": 18,
   "metadata": {},
   "outputs": [
    {
     "data": {
      "text/plain": [
       "0.4364197530864197"
      ]
     },
     "execution_count": 18,
     "metadata": {},
     "output_type": "execute_result"
    }
   ],
   "source": [
    "1414/3240"
   ]
  },
  {
   "cell_type": "code",
   "execution_count": 20,
   "metadata": {},
   "outputs": [
    {
     "data": {
      "text/plain": [
       "1016"
      ]
     },
     "execution_count": 20,
     "metadata": {},
     "output_type": "execute_result"
    }
   ],
   "source": [
    "sum((pheno == 0).astype(int).sum(axis=1)/pheno.shape[1]>0.3)"
   ]
  },
  {
   "cell_type": "code",
   "execution_count": 21,
   "metadata": {},
   "outputs": [
    {
     "data": {
      "text/plain": [
       "0.3135802469135803"
      ]
     },
     "execution_count": 21,
     "metadata": {},
     "output_type": "execute_result"
    }
   ],
   "source": [
    "1016/3240"
   ]
  },
  {
   "cell_type": "code",
   "execution_count": null,
   "metadata": {},
   "outputs": [],
   "source": []
  }
 ],
 "metadata": {
  "kernelspec": {
   "display_name": "Python (struct-lmm2)",
   "language": "python",
   "name": "struct-lmm2"
  },
  "language_info": {
   "codemirror_mode": {
    "name": "ipython",
    "version": 3
   },
   "file_extension": ".py",
   "mimetype": "text/x-python",
   "name": "python",
   "nbconvert_exporter": "python",
   "pygments_lexer": "ipython3",
   "version": "3.8.5"
  }
 },
 "nbformat": 4,
 "nbformat_minor": 4
}
