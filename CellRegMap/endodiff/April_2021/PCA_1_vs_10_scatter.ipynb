{
 "cells": [
  {
   "cell_type": "code",
   "execution_count": 219,
   "metadata": {},
   "outputs": [],
   "source": [
    "library(dplyr)\n",
    "library(ggplot2)\n",
    "library(qvalue)"
   ]
  },
  {
   "cell_type": "code",
   "execution_count": 220,
   "metadata": {},
   "outputs": [],
   "source": [
    "folder = \"/hps/nobackup/stegle/users/acuomo/all_scripts/struct_LMM2/sc_endodiff/April2021/PCA/\""
   ]
  },
  {
   "cell_type": "code",
   "execution_count": 221,
   "metadata": {},
   "outputs": [
    {
     "data": {
      "text/html": [
       "2448"
      ],
      "text/latex": [
       "2448"
      ],
      "text/markdown": [
       "2448"
      ],
      "text/plain": [
       "[1] 2448"
      ]
     },
     "metadata": {},
     "output_type": "display_data"
    },
    {
     "data": {
      "text/html": [
       "<table>\n",
       "<thead><tr><th></th><th scope=col>gene</th><th scope=col>n_snps</th><th scope=col>chrom</th><th scope=col>pv_raw</th><th scope=col>snpID</th><th scope=col>pv</th><th scope=col>qv</th></tr></thead>\n",
       "<tbody>\n",
       "\t<tr><th scope=row>0</th><td>ENSG00000011523_CEP68</td><td>2                    </td><td>2                    </td><td>0.0006375662         </td><td>2_65279223_C_T       </td><td>0.001275132          </td><td>0.007192452          </td></tr>\n",
       "\t<tr><th scope=row>1</th><td>ENSG00000011523_CEP68</td><td>2                    </td><td>2                    </td><td>0.0013394110         </td><td>2_65290842_C_A       </td><td>0.002678822          </td><td>0.012908969          </td></tr>\n",
       "</tbody>\n",
       "</table>\n"
      ],
      "text/latex": [
       "\\begin{tabular}{r|lllllll}\n",
       "  & gene & n\\_snps & chrom & pv\\_raw & snpID & pv & qv\\\\\n",
       "\\hline\n",
       "\t0 & ENSG00000011523\\_CEP68 & 2                       & 2                       & 0.0006375662            & 2\\_65279223\\_C\\_T    & 0.001275132             & 0.007192452            \\\\\n",
       "\t1 & ENSG00000011523\\_CEP68 & 2                       & 2                       & 0.0013394110            & 2\\_65290842\\_C\\_A    & 0.002678822             & 0.012908969            \\\\\n",
       "\\end{tabular}\n"
      ],
      "text/markdown": [
       "\n",
       "| <!--/--> | gene | n_snps | chrom | pv_raw | snpID | pv | qv |\n",
       "|---|---|---|---|---|---|---|---|\n",
       "| 0 | ENSG00000011523_CEP68 | 2                     | 2                     | 0.0006375662          | 2_65279223_C_T        | 0.001275132           | 0.007192452           |\n",
       "| 1 | ENSG00000011523_CEP68 | 2                     | 2                     | 0.0013394110          | 2_65290842_C_A        | 0.002678822           | 0.012908969           |\n",
       "\n"
      ],
      "text/plain": [
       "  gene                  n_snps chrom pv_raw       snpID          pv         \n",
       "0 ENSG00000011523_CEP68 2      2     0.0006375662 2_65279223_C_T 0.001275132\n",
       "1 ENSG00000011523_CEP68 2      2     0.0013394110 2_65290842_C_A 0.002678822\n",
       "  qv         \n",
       "0 0.007192452\n",
       "1 0.012908969"
      ]
     },
     "metadata": {},
     "output_type": "display_data"
    }
   ],
   "source": [
    "summary_filename = paste0(folder, \"PC1/summary.csv\")\n",
    "df0 = read.csv(summary_filename, row.names = 1)\n",
    "# df0 = df0[df0$chrom == 2,]\n",
    "df0$qv = qvalue(df0$pv, pi0 = 1)$qvalue\n",
    "nrow(df0)\n",
    "head(df0,2)"
   ]
  },
  {
   "cell_type": "code",
   "execution_count": 222,
   "metadata": {},
   "outputs": [
    {
     "data": {
      "text/html": [
       "<ol class=list-inline>\n",
       "\t<li>560</li>\n",
       "\t<li>0.347826086956522</li>\n",
       "</ol>\n"
      ],
      "text/latex": [
       "\\begin{enumerate*}\n",
       "\\item 560\n",
       "\\item 0.347826086956522\n",
       "\\end{enumerate*}\n"
      ],
      "text/markdown": [
       "1. 560\n",
       "2. 0.347826086956522\n",
       "\n",
       "\n"
      ],
      "text/plain": [
       "[1] 560.0000000   0.3478261"
      ]
     },
     "metadata": {},
     "output_type": "display_data"
    }
   ],
   "source": [
    "# hist(df0$qv)\n",
    "c(length(unique(df0[df0$qv<0.05,\"gene\"])), length(unique(df0[df0$qv<0.05,\"gene\"]))/length(unique(df0$gene)))"
   ]
  },
  {
   "cell_type": "code",
   "execution_count": 223,
   "metadata": {},
   "outputs": [
    {
     "data": {
      "text/html": [
       "2172"
      ],
      "text/latex": [
       "2172"
      ],
      "text/markdown": [
       "2172"
      ],
      "text/plain": [
       "[1] 2172"
      ]
     },
     "metadata": {},
     "output_type": "display_data"
    },
    {
     "data": {
      "text/html": [
       "<table>\n",
       "<thead><tr><th></th><th scope=col>gene</th><th scope=col>n_snps</th><th scope=col>chrom</th><th scope=col>pv_raw</th><th scope=col>snpID</th><th scope=col>pv</th><th scope=col>qv</th></tr></thead>\n",
       "<tbody>\n",
       "\t<tr><th scope=row>0</th><td>ENSG00000011523_CEP68</td><td>2                    </td><td>2                    </td><td>0.30551608           </td><td>2_65279223_C_T       </td><td>0.6110322            </td><td>0.8331211            </td></tr>\n",
       "\t<tr><th scope=row>1</th><td>ENSG00000011523_CEP68</td><td>2                    </td><td>2                    </td><td>0.09095796           </td><td>2_65290842_C_A       </td><td>0.1819159            </td><td>0.3624865            </td></tr>\n",
       "</tbody>\n",
       "</table>\n"
      ],
      "text/latex": [
       "\\begin{tabular}{r|lllllll}\n",
       "  & gene & n\\_snps & chrom & pv\\_raw & snpID & pv & qv\\\\\n",
       "\\hline\n",
       "\t0 & ENSG00000011523\\_CEP68 & 2                       & 2                       & 0.30551608              & 2\\_65279223\\_C\\_T    & 0.6110322               & 0.8331211              \\\\\n",
       "\t1 & ENSG00000011523\\_CEP68 & 2                       & 2                       & 0.09095796              & 2\\_65290842\\_C\\_A    & 0.1819159               & 0.3624865              \\\\\n",
       "\\end{tabular}\n"
      ],
      "text/markdown": [
       "\n",
       "| <!--/--> | gene | n_snps | chrom | pv_raw | snpID | pv | qv |\n",
       "|---|---|---|---|---|---|---|---|\n",
       "| 0 | ENSG00000011523_CEP68 | 2                     | 2                     | 0.30551608            | 2_65279223_C_T        | 0.6110322             | 0.8331211             |\n",
       "| 1 | ENSG00000011523_CEP68 | 2                     | 2                     | 0.09095796            | 2_65290842_C_A        | 0.1819159             | 0.3624865             |\n",
       "\n"
      ],
      "text/plain": [
       "  gene                  n_snps chrom pv_raw     snpID          pv       \n",
       "0 ENSG00000011523_CEP68 2      2     0.30551608 2_65279223_C_T 0.6110322\n",
       "1 ENSG00000011523_CEP68 2      2     0.09095796 2_65290842_C_A 0.1819159\n",
       "  qv       \n",
       "0 0.8331211\n",
       "1 0.3624865"
      ]
     },
     "metadata": {},
     "output_type": "display_data"
    }
   ],
   "source": [
    "summary_filename = paste0(folder, \"PC10/summary.csv\")\n",
    "df1 = read.csv(summary_filename, row.names = 1)\n",
    "# df1 = df1[df1$chrom == 2,]\n",
    "df1$qv = qvalue(df1$pv, pi0 = 1)$qvalue\n",
    "nrow(df1)\n",
    "head(df1,2)"
   ]
  },
  {
   "cell_type": "code",
   "execution_count": 224,
   "metadata": {},
   "outputs": [
    {
     "data": {
      "text/html": [
       "<ol class=list-inline>\n",
       "\t<li>417</li>\n",
       "\t<li>0.301518438177874</li>\n",
       "</ol>\n"
      ],
      "text/latex": [
       "\\begin{enumerate*}\n",
       "\\item 417\n",
       "\\item 0.301518438177874\n",
       "\\end{enumerate*}\n"
      ],
      "text/markdown": [
       "1. 417\n",
       "2. 0.301518438177874\n",
       "\n",
       "\n"
      ],
      "text/plain": [
       "[1] 417.0000000   0.3015184"
      ]
     },
     "metadata": {},
     "output_type": "display_data"
    }
   ],
   "source": [
    "# hist(df1$qv)\n",
    "c(length(unique(df1[df1$qv<0.05,\"gene\"])), length(unique(df1[df1$qv<0.05,\"gene\"]))/length(unique(df1$gene)))"
   ]
  },
  {
   "cell_type": "code",
   "execution_count": 225,
   "metadata": {},
   "outputs": [
    {
     "name": "stderr",
     "output_type": "stream",
     "text": [
      "Warning message:\n",
      "“Column `snpID` joining factors with different levels, coercing to character vector”Warning message:\n",
      "“Column `gene` joining factors with different levels, coercing to character vector”"
     ]
    },
    {
     "data": {
      "text/html": [
       "2172"
      ],
      "text/latex": [
       "2172"
      ],
      "text/markdown": [
       "2172"
      ],
      "text/plain": [
       "[1] 2172"
      ]
     },
     "metadata": {},
     "output_type": "display_data"
    },
    {
     "data": {
      "text/html": [
       "<table>\n",
       "<thead><tr><th scope=col>gene</th><th scope=col>n_snps</th><th scope=col>chrom</th><th scope=col>pv_raw.1</th><th scope=col>snpID</th><th scope=col>pv.1</th><th scope=col>qv.1</th><th scope=col>pv_raw.10</th><th scope=col>pv.10</th><th scope=col>qv.10</th></tr></thead>\n",
       "<tbody>\n",
       "\t<tr><td>ENSG00000011523_CEP68</td><td>2                    </td><td>2                    </td><td>0.0006375662         </td><td>2_65279223_C_T       </td><td>0.001275132          </td><td>0.007192452          </td><td>0.30551608           </td><td>0.6110322            </td><td>0.8331211            </td></tr>\n",
       "\t<tr><td>ENSG00000011523_CEP68</td><td>2                    </td><td>2                    </td><td>0.0013394110         </td><td>2_65290842_C_A       </td><td>0.002678822          </td><td>0.012908969          </td><td>0.09095796           </td><td>0.1819159            </td><td>0.3624865            </td></tr>\n",
       "</tbody>\n",
       "</table>\n"
      ],
      "text/latex": [
       "\\begin{tabular}{r|llllllllll}\n",
       " gene & n\\_snps & chrom & pv\\_raw.1 & snpID & pv.1 & qv.1 & pv\\_raw.10 & pv.10 & qv.10\\\\\n",
       "\\hline\n",
       "\t ENSG00000011523\\_CEP68 & 2                       & 2                       & 0.0006375662            & 2\\_65279223\\_C\\_T    & 0.001275132             & 0.007192452             & 0.30551608              & 0.6110322               & 0.8331211              \\\\\n",
       "\t ENSG00000011523\\_CEP68 & 2                       & 2                       & 0.0013394110            & 2\\_65290842\\_C\\_A    & 0.002678822             & 0.012908969             & 0.09095796              & 0.1819159               & 0.3624865              \\\\\n",
       "\\end{tabular}\n"
      ],
      "text/markdown": [
       "\n",
       "| gene | n_snps | chrom | pv_raw.1 | snpID | pv.1 | qv.1 | pv_raw.10 | pv.10 | qv.10 |\n",
       "|---|---|---|---|---|---|---|---|---|---|\n",
       "| ENSG00000011523_CEP68 | 2                     | 2                     | 0.0006375662          | 2_65279223_C_T        | 0.001275132           | 0.007192452           | 0.30551608            | 0.6110322             | 0.8331211             |\n",
       "| ENSG00000011523_CEP68 | 2                     | 2                     | 0.0013394110          | 2_65290842_C_A        | 0.002678822           | 0.012908969           | 0.09095796            | 0.1819159             | 0.3624865             |\n",
       "\n"
      ],
      "text/plain": [
       "  gene                  n_snps chrom pv_raw.1     snpID          pv.1       \n",
       "1 ENSG00000011523_CEP68 2      2     0.0006375662 2_65279223_C_T 0.001275132\n",
       "2 ENSG00000011523_CEP68 2      2     0.0013394110 2_65290842_C_A 0.002678822\n",
       "  qv.1        pv_raw.10  pv.10     qv.10    \n",
       "1 0.007192452 0.30551608 0.6110322 0.8331211\n",
       "2 0.012908969 0.09095796 0.1819159 0.3624865"
      ]
     },
     "metadata": {},
     "output_type": "display_data"
    }
   ],
   "source": [
    "df2 = inner_join(df0, df1, by = c(\"snpID\",\"gene\",\"chrom\",\"n_snps\"), suffix = c(\".1\",\".10\"))\n",
    "nrow(df2)\n",
    "head(df2,2)"
   ]
  },
  {
   "cell_type": "code",
   "execution_count": 226,
   "metadata": {},
   "outputs": [],
   "source": [
    "# unique(df2$chrom[order(df2$chrom)])"
   ]
  },
  {
   "cell_type": "code",
   "execution_count": 227,
   "metadata": {},
   "outputs": [
    {
     "data": {
      "image/png": "[encoded data removed]",
      "text/plain": [
       "plot without title"
      ]
     },
     "metadata": {},
     "output_type": "display_data"
    }
   ],
   "source": [
    "# p = ggplot(df2, aes(x = -log10(qv.1), y = -log10(qv.10))) + geom_point(alpha = 0.6) \n",
    "p = ggplot(df2, aes(x = -log10(pv_raw.1), y = -log10(pv_raw.10))) + geom_point(alpha = 0.6) \n",
    "p = p + geom_abline() + theme_bw()\n",
    "p = p + geom_vline(xintercept = -log10(0.05), alpha = 0.5) + geom_hline(yintercept = -log10(0.05), alpha = 0.5)\n",
    "m = -log10(min(min(df2$pv_raw.1),min(df2$pv_raw.10)))\n",
    "p = p + xlim(c(0,m)) + ylim(c(0,m))\n",
    "p"
   ]
  },
  {
   "cell_type": "code",
   "execution_count": 228,
   "metadata": {},
   "outputs": [
    {
     "data": {
      "text/html": [
       "<table>\n",
       "<thead><tr><th></th><th scope=col>gene</th><th scope=col>n_snps</th><th scope=col>chrom</th><th scope=col>pv_raw.1</th><th scope=col>snpID</th><th scope=col>pv.1</th><th scope=col>qv.1</th><th scope=col>pv_raw.10</th><th scope=col>pv.10</th><th scope=col>qv.10</th></tr></thead>\n",
       "<tbody>\n",
       "\t<tr><th scope=row>422</th><td>ENSG00000137812_CASC5 </td><td>2                     </td><td>15                    </td><td>8.217124e-05          </td><td>15_40891319_T_A       </td><td>1.643425e-04          </td><td>1.314740e-03          </td><td>3.138106e-28          </td><td>6.276212e-28          </td><td>1.363193e-24          </td></tr>\n",
       "\t<tr><th scope=row>17</th><td>ENSG00000147813_NAPRT1</td><td>1                     </td><td> 8                    </td><td>8.412191e-01          </td><td>8_144676862_C_T       </td><td>8.412191e-01          </td><td>1.000000e+00          </td><td>2.884586e-20          </td><td>2.884586e-20          </td><td>3.132661e-17          </td></tr>\n",
       "\t<tr><th scope=row>1073</th><td>ENSG00000165650_PDZD8 </td><td>2                     </td><td>10                    </td><td>4.735472e-02          </td><td>10_119020736_A_C      </td><td>9.470944e-02          </td><td>2.132176e-01          </td><td>1.256048e-18          </td><td>2.512096e-18          </td><td>1.818758e-15          </td></tr>\n",
       "\t<tr><th scope=row>613</th><td>ENSG00000134222_PSRC1 </td><td>1                     </td><td> 1                    </td><td>1.123669e-04          </td><td>1_109822143_G_A       </td><td>1.123669e-04          </td><td>9.824080e-04          </td><td>9.094711e-18          </td><td>9.094711e-18          </td><td>4.938428e-15          </td></tr>\n",
       "\t<tr><th scope=row>1128</th><td>ENSG00000100526_CDKN3 </td><td>1                     </td><td>14                    </td><td>4.863517e-08          </td><td>14_54861622_G_C       </td><td>4.863517e-08          </td><td>1.384406e-06          </td><td>6.180530e-15          </td><td>6.180530e-15          </td><td>2.684822e-12          </td></tr>\n",
       "\t<tr><th scope=row>1261</th><td>ENSG00000092208_GEMIN2</td><td>1                     </td><td>14                    </td><td>5.714760e-09          </td><td>14_39583481_A_G       </td><td>5.714760e-09          </td><td>2.256409e-07          </td><td>9.257249e-15          </td><td>9.257249e-15          </td><td>3.351124e-12          </td></tr>\n",
       "</tbody>\n",
       "</table>\n"
      ],
      "text/latex": [
       "\\begin{tabular}{r|llllllllll}\n",
       "  & gene & n\\_snps & chrom & pv\\_raw.1 & snpID & pv.1 & qv.1 & pv\\_raw.10 & pv.10 & qv.10\\\\\n",
       "\\hline\n",
       "\t422 & ENSG00000137812\\_CASC5  & 2                        & 15                       & 8.217124e-05             & 15\\_40891319\\_T\\_A    & 1.643425e-04             & 1.314740e-03             & 3.138106e-28             & 6.276212e-28             & 1.363193e-24            \\\\\n",
       "\t17 & ENSG00000147813\\_NAPRT1 & 1                        &  8                       & 8.412191e-01             & 8\\_144676862\\_C\\_T    & 8.412191e-01             & 1.000000e+00             & 2.884586e-20             & 2.884586e-20             & 3.132661e-17            \\\\\n",
       "\t1073 & ENSG00000165650\\_PDZD8  & 2                        & 10                       & 4.735472e-02             & 10\\_119020736\\_A\\_C   & 9.470944e-02             & 2.132176e-01             & 1.256048e-18             & 2.512096e-18             & 1.818758e-15            \\\\\n",
       "\t613 & ENSG00000134222\\_PSRC1  & 1                        &  1                       & 1.123669e-04             & 1\\_109822143\\_G\\_A    & 1.123669e-04             & 9.824080e-04             & 9.094711e-18             & 9.094711e-18             & 4.938428e-15            \\\\\n",
       "\t1128 & ENSG00000100526\\_CDKN3  & 1                        & 14                       & 4.863517e-08             & 14\\_54861622\\_G\\_C    & 4.863517e-08             & 1.384406e-06             & 6.180530e-15             & 6.180530e-15             & 2.684822e-12            \\\\\n",
       "\t1261 & ENSG00000092208\\_GEMIN2 & 1                        & 14                       & 5.714760e-09             & 14\\_39583481\\_A\\_G    & 5.714760e-09             & 2.256409e-07             & 9.257249e-15             & 9.257249e-15             & 3.351124e-12            \\\\\n",
       "\\end{tabular}\n"
      ],
      "text/markdown": [
       "\n",
       "| <!--/--> | gene | n_snps | chrom | pv_raw.1 | snpID | pv.1 | qv.1 | pv_raw.10 | pv.10 | qv.10 |\n",
       "|---|---|---|---|---|---|---|---|---|---|---|\n",
       "| 422 | ENSG00000137812_CASC5  | 2                      | 15                     | 8.217124e-05           | 15_40891319_T_A        | 1.643425e-04           | 1.314740e-03           | 3.138106e-28           | 6.276212e-28           | 1.363193e-24           |\n",
       "| 17 | ENSG00000147813_NAPRT1 | 1                      |  8                     | 8.412191e-01           | 8_144676862_C_T        | 8.412191e-01           | 1.000000e+00           | 2.884586e-20           | 2.884586e-20           | 3.132661e-17           |\n",
       "| 1073 | ENSG00000165650_PDZD8  | 2                      | 10                     | 4.735472e-02           | 10_119020736_A_C       | 9.470944e-02           | 2.132176e-01           | 1.256048e-18           | 2.512096e-18           | 1.818758e-15           |\n",
       "| 613 | ENSG00000134222_PSRC1  | 1                      |  1                     | 1.123669e-04           | 1_109822143_G_A        | 1.123669e-04           | 9.824080e-04           | 9.094711e-18           | 9.094711e-18           | 4.938428e-15           |\n",
       "| 1128 | ENSG00000100526_CDKN3  | 1                      | 14                     | 4.863517e-08           | 14_54861622_G_C        | 4.863517e-08           | 1.384406e-06           | 6.180530e-15           | 6.180530e-15           | 2.684822e-12           |\n",
       "| 1261 | ENSG00000092208_GEMIN2 | 1                      | 14                     | 5.714760e-09           | 14_39583481_A_G        | 5.714760e-09           | 2.256409e-07           | 9.257249e-15           | 9.257249e-15           | 3.351124e-12           |\n",
       "\n"
      ],
      "text/plain": [
       "     gene                   n_snps chrom pv_raw.1     snpID           \n",
       "422  ENSG00000137812_CASC5  2      15    8.217124e-05 15_40891319_T_A \n",
       "17   ENSG00000147813_NAPRT1 1       8    8.412191e-01 8_144676862_C_T \n",
       "1073 ENSG00000165650_PDZD8  2      10    4.735472e-02 10_119020736_A_C\n",
       "613  ENSG00000134222_PSRC1  1       1    1.123669e-04 1_109822143_G_A \n",
       "1128 ENSG00000100526_CDKN3  1      14    4.863517e-08 14_54861622_G_C \n",
       "1261 ENSG00000092208_GEMIN2 1      14    5.714760e-09 14_39583481_A_G \n",
       "     pv.1         qv.1         pv_raw.10    pv.10        qv.10       \n",
       "422  1.643425e-04 1.314740e-03 3.138106e-28 6.276212e-28 1.363193e-24\n",
       "17   8.412191e-01 1.000000e+00 2.884586e-20 2.884586e-20 3.132661e-17\n",
       "1073 9.470944e-02 2.132176e-01 1.256048e-18 2.512096e-18 1.818758e-15\n",
       "613  1.123669e-04 9.824080e-04 9.094711e-18 9.094711e-18 4.938428e-15\n",
       "1128 4.863517e-08 1.384406e-06 6.180530e-15 6.180530e-15 2.684822e-12\n",
       "1261 5.714760e-09 2.256409e-07 9.257249e-15 9.257249e-15 3.351124e-12"
      ]
     },
     "metadata": {},
     "output_type": "display_data"
    }
   ],
   "source": [
    "# df3 = df2[df2$qv.1>0.05 & df2$qv.10<0.05, ]\n",
    "df3 = df2[df2$qv.10<0.05, ]\n",
    "head(df3[order(df3$qv.10),])"
   ]
  },
  {
   "cell_type": "code",
   "execution_count": 229,
   "metadata": {},
   "outputs": [
    {
     "data": {
      "text/html": [
       "<table>\n",
       "<thead><tr><th></th><th scope=col>gene</th><th scope=col>n_snps</th><th scope=col>chrom</th><th scope=col>pv_raw.1</th><th scope=col>snpID</th><th scope=col>pv.1</th><th scope=col>qv.1</th><th scope=col>pv_raw.10</th><th scope=col>pv.10</th><th scope=col>qv.10</th></tr></thead>\n",
       "<tbody>\n",
       "\t<tr><th scope=row>600</th><td>ENSG00000184674_GSTT1   </td><td>1                       </td><td>22                      </td><td>1.044819e-30            </td><td>22_24295427_C_T         </td><td>1.044819e-30            </td><td>2.557716e-27            </td><td>1.103940e-10            </td><td>1.103940e-10            </td><td>1.042503e-08            </td></tr>\n",
       "\t<tr><th scope=row>678</th><td>ENSG00000099284_H2AFY2  </td><td>2                       </td><td>10                      </td><td>4.642900e-29            </td><td>10_71796616_G_A         </td><td>9.285801e-29            </td><td>1.136582e-25            </td><td>3.257951e-01            </td><td>6.515901e-01            </td><td>8.666588e-01            </td></tr>\n",
       "\t<tr><th scope=row>377</th><td>ENSG00000232196_MTRNR2L4</td><td>1                       </td><td>16                      </td><td>7.330204e-27            </td><td>16_3508261_C_G          </td><td>7.330204e-27            </td><td>5.981446e-24            </td><td>2.170228e-02            </td><td>2.170228e-02            </td><td>7.741503e-02            </td></tr>\n",
       "\t<tr><th scope=row>2154</th><td>ENSG00000148200_NR6A1   </td><td>1                       </td><td> 9                      </td><td>1.916265e-22            </td><td>9_127246812_T_C         </td><td>1.916265e-22            </td><td>1.172754e-19            </td><td>3.447949e-01            </td><td>3.447949e-01            </td><td>5.539161e-01            </td></tr>\n",
       "\t<tr><th scope=row>1069</th><td>ENSG00000112378_PERP    </td><td>2                       </td><td> 6                      </td><td>4.746487e-21            </td><td>6_138426798_G_T         </td><td>9.492975e-21            </td><td>4.647760e-18            </td><td>4.367653e-04            </td><td>8.735306e-04            </td><td>6.282479e-03            </td></tr>\n",
       "\t<tr><th scope=row>388</th><td>ENSG00000120675_DNAJC15 </td><td>1                       </td><td>13                      </td><td>4.329049e-19            </td><td>13_43597706_C_T         </td><td>4.329049e-19            </td><td>1.766252e-16            </td><td>5.647016e-07            </td><td>5.647016e-07            </td><td>1.460157e-05            </td></tr>\n",
       "</tbody>\n",
       "</table>\n"
      ],
      "text/latex": [
       "\\begin{tabular}{r|llllllllll}\n",
       "  & gene & n\\_snps & chrom & pv\\_raw.1 & snpID & pv.1 & qv.1 & pv\\_raw.10 & pv.10 & qv.10\\\\\n",
       "\\hline\n",
       "\t600 & ENSG00000184674\\_GSTT1    & 1                          & 22                         & 1.044819e-30               & 22\\_24295427\\_C\\_T      & 1.044819e-30               & 2.557716e-27               & 1.103940e-10               & 1.103940e-10               & 1.042503e-08              \\\\\n",
       "\t678 & ENSG00000099284\\_H2AFY2   & 2                          & 10                         & 4.642900e-29               & 10\\_71796616\\_G\\_A      & 9.285801e-29               & 1.136582e-25               & 3.257951e-01               & 6.515901e-01               & 8.666588e-01              \\\\\n",
       "\t377 & ENSG00000232196\\_MTRNR2L4 & 1                          & 16                         & 7.330204e-27               & 16\\_3508261\\_C\\_G       & 7.330204e-27               & 5.981446e-24               & 2.170228e-02               & 2.170228e-02               & 7.741503e-02              \\\\\n",
       "\t2154 & ENSG00000148200\\_NR6A1    & 1                          &  9                         & 1.916265e-22               & 9\\_127246812\\_T\\_C      & 1.916265e-22               & 1.172754e-19               & 3.447949e-01               & 3.447949e-01               & 5.539161e-01              \\\\\n",
       "\t1069 & ENSG00000112378\\_PERP     & 2                          &  6                         & 4.746487e-21               & 6\\_138426798\\_G\\_T      & 9.492975e-21               & 4.647760e-18               & 4.367653e-04               & 8.735306e-04               & 6.282479e-03              \\\\\n",
       "\t388 & ENSG00000120675\\_DNAJC15  & 1                          & 13                         & 4.329049e-19               & 13\\_43597706\\_C\\_T      & 4.329049e-19               & 1.766252e-16               & 5.647016e-07               & 5.647016e-07               & 1.460157e-05              \\\\\n",
       "\\end{tabular}\n"
      ],
      "text/markdown": [
       "\n",
       "| <!--/--> | gene | n_snps | chrom | pv_raw.1 | snpID | pv.1 | qv.1 | pv_raw.10 | pv.10 | qv.10 |\n",
       "|---|---|---|---|---|---|---|---|---|---|---|\n",
       "| 600 | ENSG00000184674_GSTT1    | 1                        | 22                       | 1.044819e-30             | 22_24295427_C_T          | 1.044819e-30             | 2.557716e-27             | 1.103940e-10             | 1.103940e-10             | 1.042503e-08             |\n",
       "| 678 | ENSG00000099284_H2AFY2   | 2                        | 10                       | 4.642900e-29             | 10_71796616_G_A          | 9.285801e-29             | 1.136582e-25             | 3.257951e-01             | 6.515901e-01             | 8.666588e-01             |\n",
       "| 377 | ENSG00000232196_MTRNR2L4 | 1                        | 16                       | 7.330204e-27             | 16_3508261_C_G           | 7.330204e-27             | 5.981446e-24             | 2.170228e-02             | 2.170228e-02             | 7.741503e-02             |\n",
       "| 2154 | ENSG00000148200_NR6A1    | 1                        |  9                       | 1.916265e-22             | 9_127246812_T_C          | 1.916265e-22             | 1.172754e-19             | 3.447949e-01             | 3.447949e-01             | 5.539161e-01             |\n",
       "| 1069 | ENSG00000112378_PERP     | 2                        |  6                       | 4.746487e-21             | 6_138426798_G_T          | 9.492975e-21             | 4.647760e-18             | 4.367653e-04             | 8.735306e-04             | 6.282479e-03             |\n",
       "| 388 | ENSG00000120675_DNAJC15  | 1                        | 13                       | 4.329049e-19             | 13_43597706_C_T          | 4.329049e-19             | 1.766252e-16             | 5.647016e-07             | 5.647016e-07             | 1.460157e-05             |\n",
       "\n"
      ],
      "text/plain": [
       "     gene                     n_snps chrom pv_raw.1     snpID          \n",
       "600  ENSG00000184674_GSTT1    1      22    1.044819e-30 22_24295427_C_T\n",
       "678  ENSG00000099284_H2AFY2   2      10    4.642900e-29 10_71796616_G_A\n",
       "377  ENSG00000232196_MTRNR2L4 1      16    7.330204e-27 16_3508261_C_G \n",
       "2154 ENSG00000148200_NR6A1    1       9    1.916265e-22 9_127246812_T_C\n",
       "1069 ENSG00000112378_PERP     2       6    4.746487e-21 6_138426798_G_T\n",
       "388  ENSG00000120675_DNAJC15  1      13    4.329049e-19 13_43597706_C_T\n",
       "     pv.1         qv.1         pv_raw.10    pv.10        qv.10       \n",
       "600  1.044819e-30 2.557716e-27 1.103940e-10 1.103940e-10 1.042503e-08\n",
       "678  9.285801e-29 1.136582e-25 3.257951e-01 6.515901e-01 8.666588e-01\n",
       "377  7.330204e-27 5.981446e-24 2.170228e-02 2.170228e-02 7.741503e-02\n",
       "2154 1.916265e-22 1.172754e-19 3.447949e-01 3.447949e-01 5.539161e-01\n",
       "1069 9.492975e-21 4.647760e-18 4.367653e-04 8.735306e-04 6.282479e-03\n",
       "388  4.329049e-19 1.766252e-16 5.647016e-07 5.647016e-07 1.460157e-05"
      ]
     },
     "metadata": {},
     "output_type": "display_data"
    }
   ],
   "source": [
    "# df4 = df2[df2$qv.1<0.05 & df2$qv.10>0.05, ]\n",
    "df4 = df2[df2$qv.1<0.05, ]\n",
    "head(df4[order(df4$qv.1),])"
   ]
  },
  {
   "cell_type": "code",
   "execution_count": null,
   "metadata": {},
   "outputs": [],
   "source": []
  },
  {
   "cell_type": "code",
   "execution_count": null,
   "metadata": {},
   "outputs": [],
   "source": []
  }
 ],
 "metadata": {
  "kernelspec": {
   "display_name": "R",
   "language": "R",
   "name": "ir"
  },
  "language_info": {
   "codemirror_mode": "r",
   "file_extension": ".r",
   "mimetype": "text/x-r-source",
   "name": "R",
   "pygments_lexer": "r",
   "version": "3.6.1"
  }
 },
 "nbformat": 4,
 "nbformat_minor": 4
}
