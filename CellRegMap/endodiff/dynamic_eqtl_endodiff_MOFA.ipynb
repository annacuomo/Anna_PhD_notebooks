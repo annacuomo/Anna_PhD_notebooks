{
 "cells": [
  {
   "cell_type": "code",
   "execution_count": 49,
   "metadata": {},
   "outputs": [],
   "source": [
    "library(qvalue)\n",
    "library(ggplot2)\n",
    "library(dplyr)"
   ]
  },
  {
   "cell_type": "code",
   "execution_count": 50,
   "metadata": {},
   "outputs": [
    {
     "data": {
      "text/html": [
       "3240"
      ],
      "text/latex": [
       "3240"
      ],
      "text/markdown": [
       "3240"
      ],
      "text/plain": [
       "[1] 3240"
      ]
     },
     "metadata": {},
     "output_type": "display_data"
    },
    {
     "data": {
      "text/html": [
       "<table>\n",
       "<thead><tr><th scope=col>snp_id</th><th scope=col>feature</th><th scope=col>stage</th></tr></thead>\n",
       "<tbody>\n",
       "\t<tr><td>5_149826526_C_T       </td><td>ENSG00000164587_RPS14 </td><td>ips                   </td></tr>\n",
       "\t<tr><td>11_57283988_C_T       </td><td>ENSG00000134809_TIMM10</td><td>ips                   </td></tr>\n",
       "</tbody>\n",
       "</table>\n"
      ],
      "text/latex": [
       "\\begin{tabular}{r|lll}\n",
       " snp\\_id & feature & stage\\\\\n",
       "\\hline\n",
       "\t 5\\_149826526\\_C\\_T    & ENSG00000164587\\_RPS14  & ips                     \\\\\n",
       "\t 11\\_57283988\\_C\\_T    & ENSG00000134809\\_TIMM10 & ips                     \\\\\n",
       "\\end{tabular}\n"
      ],
      "text/markdown": [
       "\n",
       "| snp_id | feature | stage |\n",
       "|---|---|---|\n",
       "| 5_149826526_C_T        | ENSG00000164587_RPS14  | ips                    |\n",
       "| 11_57283988_C_T        | ENSG00000134809_TIMM10 | ips                    |\n",
       "\n"
      ],
      "text/plain": [
       "  snp_id          feature                stage\n",
       "1 5_149826526_C_T ENSG00000164587_RPS14  ips  \n",
       "2 11_57283988_C_T ENSG00000134809_TIMM10 ips  "
      ]
     },
     "metadata": {},
     "output_type": "display_data"
    }
   ],
   "source": [
    "endo_eqtl_file = \"/hps/nobackup/stegle/users/acuomo/all_scripts/struct_LMM2/sc_endodiff/eqtl_allstages.tsv\"\n",
    "df0 = read.csv(endo_eqtl_file, sep = \"\\t\")\n",
    "# nrow(df0)\n",
    "length(unique(df0$feature))\n",
    "head(df0,2)"
   ]
  },
  {
   "cell_type": "code",
   "execution_count": 51,
   "metadata": {},
   "outputs": [
    {
     "data": {
      "text/html": [
       "<table>\n",
       "<thead><tr><th scope=col>snp_id</th><th scope=col>feature</th><th scope=col>stage</th><th scope=col>chrom</th><th scope=col>ensembl_gene_id</th></tr></thead>\n",
       "<tbody>\n",
       "\t<tr><td>5_149826526_C_T       </td><td>ENSG00000164587_RPS14 </td><td>ips                   </td><td>5                     </td><td>ENSG00000164587       </td></tr>\n",
       "\t<tr><td>11_57283988_C_T       </td><td>ENSG00000134809_TIMM10</td><td>ips                   </td><td>11                    </td><td>ENSG00000134809       </td></tr>\n",
       "</tbody>\n",
       "</table>\n"
      ],
      "text/latex": [
       "\\begin{tabular}{r|lllll}\n",
       " snp\\_id & feature & stage & chrom & ensembl\\_gene\\_id\\\\\n",
       "\\hline\n",
       "\t 5\\_149826526\\_C\\_T    & ENSG00000164587\\_RPS14  & ips                      & 5                        & ENSG00000164587         \\\\\n",
       "\t 11\\_57283988\\_C\\_T    & ENSG00000134809\\_TIMM10 & ips                      & 11                       & ENSG00000134809         \\\\\n",
       "\\end{tabular}\n"
      ],
      "text/markdown": [
       "\n",
       "| snp_id | feature | stage | chrom | ensembl_gene_id |\n",
       "|---|---|---|---|---|\n",
       "| 5_149826526_C_T        | ENSG00000164587_RPS14  | ips                    | 5                      | ENSG00000164587        |\n",
       "| 11_57283988_C_T        | ENSG00000134809_TIMM10 | ips                    | 11                     | ENSG00000134809        |\n",
       "\n"
      ],
      "text/plain": [
       "  snp_id          feature                stage chrom ensembl_gene_id\n",
       "1 5_149826526_C_T ENSG00000164587_RPS14  ips   5     ENSG00000164587\n",
       "2 11_57283988_C_T ENSG00000134809_TIMM10 ips   11    ENSG00000134809"
      ]
     },
     "metadata": {},
     "output_type": "display_data"
    }
   ],
   "source": [
    "df0$chrom = gsub(\"_.*\",\"\",df0$snp_id)\n",
    "df0$ensembl_gene_id = gsub(\"_.*\",\"\",df0$feature)\n",
    "head(df0,2)"
   ]
  },
  {
   "cell_type": "code",
   "execution_count": 52,
   "metadata": {},
   "outputs": [
    {
     "data": {
      "text/html": [
       "3972"
      ],
      "text/latex": [
       "3972"
      ],
      "text/markdown": [
       "3972"
      ],
      "text/plain": [
       "[1] 3972"
      ]
     },
     "metadata": {},
     "output_type": "display_data"
    },
    {
     "data": {
      "text/html": [
       "872"
      ],
      "text/latex": [
       "872"
      ],
      "text/markdown": [
       "872"
      ],
      "text/plain": [
       "[1] 872"
      ]
     },
     "metadata": {},
     "output_type": "display_data"
    },
    {
     "data": {
      "text/html": [
       "641"
      ],
      "text/latex": [
       "641"
      ],
      "text/markdown": [
       "641"
      ],
      "text/plain": [
       "[1] 641"
      ]
     },
     "metadata": {},
     "output_type": "display_data"
    },
    {
     "data": {
      "text/html": [
       "<table>\n",
       "<thead><tr><th scope=col>ensembl_gene_id</th><th scope=col>snp_id</th><th scope=col>pval</th><th scope=col>n_cells</th><th scope=col>factor</th><th scope=col>qval</th></tr></thead>\n",
       "<tbody>\n",
       "\t<tr><td>ENSG00000142089</td><td>11_320394_C_T  </td><td>6.053215e-275  </td><td>21955          </td><td>pseudotime     </td><td>2.404337e-271  </td></tr>\n",
       "\t<tr><td>ENSG00000120675</td><td>13_43597706_C_T</td><td>1.582229e-266  </td><td>13767          </td><td>pseudotime     </td><td>3.142307e-263  </td></tr>\n",
       "</tbody>\n",
       "</table>\n"
      ],
      "text/latex": [
       "\\begin{tabular}{r|llllll}\n",
       " ensembl\\_gene\\_id & snp\\_id & pval & n\\_cells & factor & qval\\\\\n",
       "\\hline\n",
       "\t ENSG00000142089       & 11\\_320394\\_C\\_T   & 6.053215e-275         & 21955                 & pseudotime            & 2.404337e-271        \\\\\n",
       "\t ENSG00000120675       & 13\\_43597706\\_C\\_T & 1.582229e-266         & 13767                 & pseudotime            & 3.142307e-263        \\\\\n",
       "\\end{tabular}\n"
      ],
      "text/markdown": [
       "\n",
       "| ensembl_gene_id | snp_id | pval | n_cells | factor | qval |\n",
       "|---|---|---|---|---|---|\n",
       "| ENSG00000142089 | 11_320394_C_T   | 6.053215e-275   | 21955           | pseudotime      | 2.404337e-271   |\n",
       "| ENSG00000120675 | 13_43597706_C_T | 1.582229e-266   | 13767           | pseudotime      | 3.142307e-263   |\n",
       "\n"
      ],
      "text/plain": [
       "  ensembl_gene_id snp_id          pval          n_cells factor    \n",
       "1 ENSG00000142089 11_320394_C_T   6.053215e-275 21955   pseudotime\n",
       "2 ENSG00000120675 13_43597706_C_T 1.582229e-266 13767   pseudotime\n",
       "  qval         \n",
       "1 2.404337e-271\n",
       "2 3.142307e-263"
      ]
     },
     "metadata": {},
     "output_type": "display_data"
    }
   ],
   "source": [
    "mydir = \"/nfs/leia/research/stegle/dseaton/hipsci/singlecell_endodiff/data/tables_for_anna_Aug2019/ase_interaction_results/\"\n",
    "dynamic_eqtl_file = paste0(mydir,\"pseudotimeandmodules.pseudotime_2dof_test.all_leads.multitest_corrected.tsv\")\n",
    "df1 = read.csv(dynamic_eqtl_file, sep = \"\\t\")\n",
    "nrow(df1)\n",
    "nrow(df1[df1$qval < 0.1,])\n",
    "length(unique(df1[df1$qval < 0.1,\"ensembl_gene_id\"]))\n",
    "head(df1,2)"
   ]
  },
  {
   "cell_type": "code",
   "execution_count": 53,
   "metadata": {},
   "outputs": [
    {
     "name": "stderr",
     "output_type": "stream",
     "text": [
      "Warning message:\n",
      "“Column `ensembl_gene_id` joining character vector and factor, coercing into character vector”Warning message:\n",
      "“Column `snp_id` joining factors with different levels, coercing to character vector”"
     ]
    },
    {
     "data": {
      "text/html": [
       "<table>\n",
       "<thead><tr><th scope=col>snp_id</th><th scope=col>feature</th><th scope=col>stage</th><th scope=col>chrom</th><th scope=col>ensembl_gene_id</th><th scope=col>pval</th><th scope=col>n_cells</th><th scope=col>factor</th><th scope=col>qval</th></tr></thead>\n",
       "<tbody>\n",
       "\t<tr><td>5_149826526_C_T      </td><td>ENSG00000164587_RPS14</td><td>ips                  </td><td>5                    </td><td>ENSG00000164587      </td><td>1.758952e-08         </td><td>13025                </td><td>pseudotime           </td><td>4.688964e-07         </td></tr>\n",
       "\t<tr><td>12_56401085_G_A      </td><td>ENSG00000197728_RPS26</td><td>ips                  </td><td>12                   </td><td>ENSG00000197728      </td><td>1.190617e-38         </td><td>16959                </td><td>pseudotime           </td><td>3.637793e-36         </td></tr>\n",
       "</tbody>\n",
       "</table>\n"
      ],
      "text/latex": [
       "\\begin{tabular}{r|lllllllll}\n",
       " snp\\_id & feature & stage & chrom & ensembl\\_gene\\_id & pval & n\\_cells & factor & qval\\\\\n",
       "\\hline\n",
       "\t 5\\_149826526\\_C\\_T   & ENSG00000164587\\_RPS14 & ips                     & 5                       & ENSG00000164587         & 1.758952e-08            & 13025                   & pseudotime              & 4.688964e-07           \\\\\n",
       "\t 12\\_56401085\\_G\\_A   & ENSG00000197728\\_RPS26 & ips                     & 12                      & ENSG00000197728         & 1.190617e-38            & 16959                   & pseudotime              & 3.637793e-36           \\\\\n",
       "\\end{tabular}\n"
      ],
      "text/markdown": [
       "\n",
       "| snp_id | feature | stage | chrom | ensembl_gene_id | pval | n_cells | factor | qval |\n",
       "|---|---|---|---|---|---|---|---|---|\n",
       "| 5_149826526_C_T       | ENSG00000164587_RPS14 | ips                   | 5                     | ENSG00000164587       | 1.758952e-08          | 13025                 | pseudotime            | 4.688964e-07          |\n",
       "| 12_56401085_G_A       | ENSG00000197728_RPS26 | ips                   | 12                    | ENSG00000197728       | 1.190617e-38          | 16959                 | pseudotime            | 3.637793e-36          |\n",
       "\n"
      ],
      "text/plain": [
       "  snp_id          feature               stage chrom ensembl_gene_id\n",
       "1 5_149826526_C_T ENSG00000164587_RPS14 ips   5     ENSG00000164587\n",
       "2 12_56401085_G_A ENSG00000197728_RPS26 ips   12    ENSG00000197728\n",
       "  pval         n_cells factor     qval        \n",
       "1 1.758952e-08 13025   pseudotime 4.688964e-07\n",
       "2 1.190617e-38 16959   pseudotime 3.637793e-36"
      ]
     },
     "metadata": {},
     "output_type": "display_data"
    },
    {
     "data": {
      "text/html": [
       "4302"
      ],
      "text/latex": [
       "4302"
      ],
      "text/markdown": [
       "4302"
      ],
      "text/plain": [
       "[1] 4302"
      ]
     },
     "metadata": {},
     "output_type": "display_data"
    }
   ],
   "source": [
    "df2 = inner_join(df0,df1, by = c(\"ensembl_gene_id\",\"snp_id\"))\n",
    "head(df2,2)\n",
    "nrow(df2)"
   ]
  },
  {
   "cell_type": "code",
   "execution_count": 54,
   "metadata": {},
   "outputs": [
    {
     "data": {
      "text/html": [
       "502"
      ],
      "text/latex": [
       "502"
      ],
      "text/markdown": [
       "502"
      ],
      "text/plain": [
       "[1] 502"
      ]
     },
     "metadata": {},
     "output_type": "display_data"
    }
   ],
   "source": [
    "finished_chromosomes = c(3,4,5,6,7,8,9,10,11,12,13,14,15,16,18,20,21,22)\n",
    "# finished_chromosomes = c(8,10,13,15,18,22)\n",
    "# finished_chromosomes = 22\n",
    "df2 = df2[df2$chrom %in% finished_chromosomes,]\n",
    "df2$eqtl = paste0(df2$feature,\"-\",df2$snp_id)\n",
    "T = 0.05\n",
    "dynamic_eqtls = unique(df2[df2$qval<T,\"eqtl\"])\n",
    "length(dynamic_eqtls)"
   ]
  },
  {
   "cell_type": "code",
   "execution_count": null,
   "metadata": {},
   "outputs": [],
   "source": []
  },
  {
   "cell_type": "code",
   "execution_count": 55,
   "metadata": {},
   "outputs": [],
   "source": [
    "folder = \"/hps/nobackup/stegle/users/acuomo/all_scripts/struct_LMM2/sc_endodiff/new/MOFA/\""
   ]
  },
  {
   "cell_type": "code",
   "execution_count": 56,
   "metadata": {},
   "outputs": [],
   "source": [
    "##### MOFA 1"
   ]
  },
  {
   "cell_type": "code",
   "execution_count": 57,
   "metadata": {},
   "outputs": [
    {
     "data": {
      "text/html": [
       "<ol class=list-inline>\n",
       "\t<li>60</li>\n",
       "\t<li>134</li>\n",
       "\t<li>3107</li>\n",
       "</ol>\n"
      ],
      "text/latex": [
       "\\begin{enumerate*}\n",
       "\\item 60\n",
       "\\item 134\n",
       "\\item 3107\n",
       "\\end{enumerate*}\n"
      ],
      "text/markdown": [
       "1. 60\n",
       "2. 134\n",
       "3. 3107\n",
       "\n",
       "\n"
      ],
      "text/plain": [
       "[1]   60  134 3107"
      ]
     },
     "metadata": {},
     "output_type": "display_data"
    }
   ],
   "source": [
    "T = 0.05\n",
    "summary_filename = paste0(folder, \"MOFA1/summary_endo_eqtl.csv\")\n",
    "df = read.csv(summary_filename, row.names = 1)\n",
    "df = df[df$chrom %in% finished_chromosomes,]\n",
    "df$eqtl = paste0(df$gene,\"-\",df$snpID)\n",
    "df$qv = qvalue(df$pv, pi0 = 1)$qvalue\n",
    "mofa1_dyn = nrow(df[df$qv<T & df$eqtl %in% dynamic_eqtls,])\n",
    "mofa1 = nrow(df[df$qv<T,])\n",
    "n_genes1 = nrow(df)\n",
    "# mofa1 = length(unique(df[df$qv<0.05,\"gene\"]))\n",
    "# n_genes1 = length(unique(df$gene))\n",
    "c(mofa1_dyn, mofa1, n_genes1)"
   ]
  },
  {
   "cell_type": "code",
   "execution_count": 58,
   "metadata": {},
   "outputs": [
    {
     "data": {
      "text/html": [
       "502"
      ],
      "text/latex": [
       "502"
      ],
      "text/markdown": [
       "502"
      ],
      "text/plain": [
       "[1] 502"
      ]
     },
     "metadata": {},
     "output_type": "display_data"
    },
    {
     "data": {
      "text/html": [
       "60"
      ],
      "text/latex": [
       "60"
      ],
      "text/markdown": [
       "60"
      ],
      "text/plain": [
       "[1] 60"
      ]
     },
     "metadata": {},
     "output_type": "display_data"
    }
   ],
   "source": [
    "length(dynamic_eqtls)\n",
    "length(dynamic_eqtls[dynamic_eqtls %in% df[df$qv<T,]$eqtl])"
   ]
  },
  {
   "cell_type": "code",
   "execution_count": 59,
   "metadata": {},
   "outputs": [],
   "source": [
    "##### MOFA 2"
   ]
  },
  {
   "cell_type": "code",
   "execution_count": 60,
   "metadata": {},
   "outputs": [
    {
     "data": {
      "text/html": [
       "<ol class=list-inline>\n",
       "\t<li>63</li>\n",
       "\t<li>146</li>\n",
       "\t<li>3107</li>\n",
       "</ol>\n"
      ],
      "text/latex": [
       "\\begin{enumerate*}\n",
       "\\item 63\n",
       "\\item 146\n",
       "\\item 3107\n",
       "\\end{enumerate*}\n"
      ],
      "text/markdown": [
       "1. 63\n",
       "2. 146\n",
       "3. 3107\n",
       "\n",
       "\n"
      ],
      "text/plain": [
       "[1]   63  146 3107"
      ]
     },
     "metadata": {},
     "output_type": "display_data"
    }
   ],
   "source": [
    "summary_filename = paste0(folder, \"MOFA2/summary_endo_eqtl.csv\")\n",
    "df = read.csv(summary_filename, row.names = 1)\n",
    "df = df[df$chrom %in% finished_chromosomes,]\n",
    "df$eqtl = paste0(df$gene,\"-\",df$snpID)\n",
    "df$qv = qvalue(df$pv, pi0 = 1)$qvalue\n",
    "mofa2_dyn = nrow(df[df$qv<T & df$eqtl %in% dynamic_eqtls,])\n",
    "mofa2 = nrow(df[df$qv<T,])\n",
    "n_genes2 = nrow(df)\n",
    "# mofa2 = length(unique(df[df$qv<0.05,\"gene\"]))\n",
    "# n_genes2 = length(unique(df$gene))\n",
    "c(mofa2_dyn, mofa2, n_genes2)"
   ]
  },
  {
   "cell_type": "code",
   "execution_count": 61,
   "metadata": {},
   "outputs": [
    {
     "data": {
      "text/html": [
       "502"
      ],
      "text/latex": [
       "502"
      ],
      "text/markdown": [
       "502"
      ],
      "text/plain": [
       "[1] 502"
      ]
     },
     "metadata": {},
     "output_type": "display_data"
    },
    {
     "data": {
      "text/html": [
       "63"
      ],
      "text/latex": [
       "63"
      ],
      "text/markdown": [
       "63"
      ],
      "text/plain": [
       "[1] 63"
      ]
     },
     "metadata": {},
     "output_type": "display_data"
    }
   ],
   "source": [
    "length(dynamic_eqtls)\n",
    "length(dynamic_eqtls[dynamic_eqtls %in% df[df$qv<T,]$eqtl])"
   ]
  },
  {
   "cell_type": "code",
   "execution_count": 62,
   "metadata": {},
   "outputs": [],
   "source": [
    "##### MOFA 5"
   ]
  },
  {
   "cell_type": "code",
   "execution_count": 63,
   "metadata": {},
   "outputs": [
    {
     "data": {
      "text/html": [
       "<ol class=list-inline>\n",
       "\t<li>71</li>\n",
       "\t<li>195</li>\n",
       "\t<li>3107</li>\n",
       "</ol>\n"
      ],
      "text/latex": [
       "\\begin{enumerate*}\n",
       "\\item 71\n",
       "\\item 195\n",
       "\\item 3107\n",
       "\\end{enumerate*}\n"
      ],
      "text/markdown": [
       "1. 71\n",
       "2. 195\n",
       "3. 3107\n",
       "\n",
       "\n"
      ],
      "text/plain": [
       "[1]   71  195 3107"
      ]
     },
     "metadata": {},
     "output_type": "display_data"
    }
   ],
   "source": [
    "summary_filename = paste0(folder, \"MOFA5/summary_endo_eqtl.csv\")\n",
    "df = read.csv(summary_filename, row.names = 1)\n",
    "df = df[df$chrom %in% finished_chromosomes,]\n",
    "df$eqtl = paste0(df$gene,\"-\",df$snpID)\n",
    "df$qv = qvalue(df$pv, pi0 = 1)$qvalue\n",
    "mofa5_dyn = nrow(df[df$qv<T & df$eqtl %in% dynamic_eqtls,])\n",
    "mofa5 = nrow(df[df$qv<T,])\n",
    "n_genes5 = nrow(df)\n",
    "# mofa5 = length(unique(df[df$qv<0.05,\"gene\"]))\n",
    "# n_genes5 = length(unique(df$gene))\n",
    "c(mofa5_dyn, mofa5, n_genes5)"
   ]
  },
  {
   "cell_type": "code",
   "execution_count": 64,
   "metadata": {},
   "outputs": [
    {
     "data": {
      "text/html": [
       "502"
      ],
      "text/latex": [
       "502"
      ],
      "text/markdown": [
       "502"
      ],
      "text/plain": [
       "[1] 502"
      ]
     },
     "metadata": {},
     "output_type": "display_data"
    },
    {
     "data": {
      "text/html": [
       "71"
      ],
      "text/latex": [
       "71"
      ],
      "text/markdown": [
       "71"
      ],
      "text/plain": [
       "[1] 71"
      ]
     },
     "metadata": {},
     "output_type": "display_data"
    }
   ],
   "source": [
    "length(dynamic_eqtls)\n",
    "length(dynamic_eqtls[dynamic_eqtls %in% df[df$qv<T,]$eqtl])"
   ]
  },
  {
   "cell_type": "code",
   "execution_count": 65,
   "metadata": {},
   "outputs": [],
   "source": [
    "##### MOFA 10"
   ]
  },
  {
   "cell_type": "code",
   "execution_count": 66,
   "metadata": {},
   "outputs": [
    {
     "data": {
      "text/html": [
       "<ol class=list-inline>\n",
       "\t<li>128</li>\n",
       "\t<li>345</li>\n",
       "\t<li>3107</li>\n",
       "</ol>\n"
      ],
      "text/latex": [
       "\\begin{enumerate*}\n",
       "\\item 128\n",
       "\\item 345\n",
       "\\item 3107\n",
       "\\end{enumerate*}\n"
      ],
      "text/markdown": [
       "1. 128\n",
       "2. 345\n",
       "3. 3107\n",
       "\n",
       "\n"
      ],
      "text/plain": [
       "[1]  128  345 3107"
      ]
     },
     "metadata": {},
     "output_type": "display_data"
    }
   ],
   "source": [
    "summary_filename = paste0(folder, \"MOFA10/summary_endo_eqtl.csv\")\n",
    "df = read.csv(summary_filename, row.names = 1)\n",
    "df = df[df$chrom %in% finished_chromosomes,]\n",
    "df$eqtl = paste0(df$gene,\"-\",df$snpID)\n",
    "df$qv = qvalue(df$pv, pi0 = 1)$qvalue\n",
    "mofa10_dyn = nrow(df[df$qv<T & df$eqtl %in% dynamic_eqtls,])\n",
    "mofa10 = nrow(df[df$qv<T,])\n",
    "n_genes10 = nrow(df)\n",
    "# mofa10 = length(unique(df[df$qv<0.05,\"gene\"]))\n",
    "# n_genes10 = length(unique(df$gene))\n",
    "c(mofa10_dyn, mofa10, n_genes10)"
   ]
  },
  {
   "cell_type": "code",
   "execution_count": 67,
   "metadata": {},
   "outputs": [
    {
     "data": {
      "text/html": [
       "502"
      ],
      "text/latex": [
       "502"
      ],
      "text/markdown": [
       "502"
      ],
      "text/plain": [
       "[1] 502"
      ]
     },
     "metadata": {},
     "output_type": "display_data"
    },
    {
     "data": {
      "text/html": [
       "128"
      ],
      "text/latex": [
       "128"
      ],
      "text/markdown": [
       "128"
      ],
      "text/plain": [
       "[1] 128"
      ]
     },
     "metadata": {},
     "output_type": "display_data"
    }
   ],
   "source": [
    "length(dynamic_eqtls)\n",
    "length(dynamic_eqtls[dynamic_eqtls %in% df[df$qv<T,]$eqtl])"
   ]
  },
  {
   "cell_type": "code",
   "execution_count": null,
   "metadata": {},
   "outputs": [],
   "source": []
  },
  {
   "cell_type": "code",
   "execution_count": 68,
   "metadata": {},
   "outputs": [],
   "source": [
    "df_to_plot = data.frame(n_MOFA = c(1,2,5,10), \n",
    "                        n_dynamic_eGenes = c(mofa1_dyn, mofa2_dyn, mofa5_dyn, mofa10_dyn), \n",
    "                        n_eGenes = c(mofa1, mofa2, mofa5, mofa10), \n",
    "                        n_genes = c(n_genes1, n_genes2, n_genes5, n_genes10))"
   ]
  },
  {
   "cell_type": "code",
   "execution_count": 69,
   "metadata": {},
   "outputs": [
    {
     "data": {
      "image/png": "[encoded data removed]",
      "text/plain": [
       "plot without title"
      ]
     },
     "metadata": {},
     "output_type": "display_data"
    }
   ],
   "source": [
    "options(repr.plot.width = 5, repr.plot.height = 4)\n",
    "ggplot(df_to_plot, aes(x = as.factor(n_MOFA), y = n_eGenes)) + #ggtitle(\"chromosome 21\") + \n",
    "    geom_bar(stat=\"identity\", width = 0.6, fill = \"indianred\", col = \"indianred\") + \n",
    "    geom_bar(aes(x = as.factor(n_MOFA), y = n_dynamic_eGenes), stat=\"identity\", width = 0.6, \n",
    "             fill = \"darkred\", col = \"darkred\") +\n",
    "    xlab(\"# MOFA factors used as E\") + ylab(\"# dynamic eGenes out of # eGenes\") + theme_bw() +\n",
    "    annotate(\"text\", x=1, y=9, label= paste0(round(mofa1_dyn/mofa1,digits=2)*100,\"%\"), size = 3.5, col = \"white\") +\n",
    "    annotate(\"text\", x=2, y=9, label= paste0(round(mofa2_dyn/mofa2,digits=2)*100,\"%\"), size = 3.5, col = \"white\") +\n",
    "    annotate(\"text\", x=3, y=9, label= paste0(round(mofa5_dyn/mofa5,digits=2)*100,\"%\"), size = 3.5, col = \"white\") +\n",
    "    annotate(\"text\", x=4, y=9, label= paste0(round(mofa10_dyn/mofa10,digits=2)*100,\"%\"), size = 3.5, col = \"white\")"
   ]
  },
  {
   "cell_type": "code",
   "execution_count": 70,
   "metadata": {},
   "outputs": [
    {
     "data": {
      "image/png": "[encoded data removed]",
      "text/plain": [
       "plot without title"
      ]
     },
     "metadata": {},
     "output_type": "display_data"
    }
   ],
   "source": [
    "options(repr.plot.width = 5, repr.plot.height = 4)\n",
    "ggplot(df_to_plot, aes(x = as.factor(n_MOFA), y = n_genes)) + #ggtitle(\"chromosome 21\") + \n",
    "    geom_bar(stat=\"identity\", width = 0.6, fill = \"lightcoral\", col = \"lightcoral\") + \n",
    "    geom_bar(aes(x = as.factor(n_MOFA), y = n_eGenes), stat=\"identity\", width = 0.6, \n",
    "             fill = \"indianred\", col = \"indianred\") +\n",
    "    geom_bar(aes(x = as.factor(n_MOFA), y = n_dynamic_eGenes), stat=\"identity\", width = 0.6, \n",
    "             fill = \"darkred\", col = \"darkred\") +\n",
    "    xlab(\"# MOFA factors used as E\") + ylab(\"# dynamic eGenes out of # eGenes\") + theme_bw() +\n",
    "    annotate(\"text\", x=1, y=50, label= paste0(round(mofa1_dyn/mofa1,digits=2)*100,\"%\"), size = 3.5, col = \"white\") +\n",
    "    annotate(\"text\", x=2, y=50, label= paste0(round(mofa2_dyn/mofa2,digits=2)*100,\"%\"), size = 3.5, col = \"white\") +\n",
    "    annotate(\"text\", x=3, y=50, label= paste0(round(mofa5_dyn/mofa5,digits=2)*100,\"%\"), size = 3.5, col = \"white\") +\n",
    "    annotate(\"text\", x=4, y=50, label= paste0(round(mofa10_dyn/mofa10,digits=2)*100,\"%\"), size = 3.5, col = \"white\") +\n",
    "    annotate(\"text\", x=1, y=200, label= paste0(round(mofa1/n_genes1,digits=2)*100,\"%\"), size = 3.5, col = \"black\") +\n",
    "    annotate(\"text\", x=2, y=200, label= paste0(round(mofa2/n_genes2,digits=2)*100,\"%\"), size = 3.5, col = \"black\") +\n",
    "    annotate(\"text\", x=3, y=200, label= paste0(round(mofa5/n_genes5,digits=2)*100,\"%\"), size = 3.5, col = \"black\") +\n",
    "    annotate(\"text\", x=4, y=200, label= paste0(round(mofa10/n_genes10,digits=2)*100,\"%\"), size = 3.5, col = \"black\")"
   ]
  },
  {
   "cell_type": "code",
   "execution_count": 71,
   "metadata": {},
   "outputs": [
    {
     "data": {
      "image/png": "[encoded data removed]",
      "text/plain": [
       "plot without title"
      ]
     },
     "metadata": {},
     "output_type": "display_data"
    }
   ],
   "source": [
    "ggplot(df_to_plot, aes(x = as.factor(n_MOFA), y = n_genes)) + #ggtitle(\"chromosome 21\") + \n",
    "    geom_bar(stat=\"identity\", width = 0.6, fill = \"cornflowerblue\", col = \"cornflowerblue\") + \n",
    "    geom_bar(aes(x = as.factor(n_MOFA), y = n_eGenes), stat=\"identity\", width = 0.6, \n",
    "             fill = \"dodgerblue4\", col = \"dodgerblue4\") + \n",
    "    xlab(\"# MOFA factors used as E\") + ylab(\"# eGenes out of # genes tested\") + theme_bw() +\n",
    "    annotate(\"text\", x=1, y=400, label= paste0(round(mofa1/n_genes1,digits=2)*100,\"%\"), size = 3.5, col = \"white\") +\n",
    "    annotate(\"text\", x=2, y=400, label= paste0(round(mofa2/n_genes2,digits=2)*100,\"%\"), size = 3.5, col = \"white\") +\n",
    "    annotate(\"text\", x=3, y=400, label= paste0(round(mofa5/n_genes5,digits=2)*100,\"%\"), size = 3.5, col = \"white\") +\n",
    "    annotate(\"text\", x=4, y=400, label= paste0(round(mofa10/n_genes10,digits=2)*100,\"%\"), size = 3.5, col = \"white\")"
   ]
  },
  {
   "cell_type": "code",
   "execution_count": null,
   "metadata": {},
   "outputs": [],
   "source": []
  },
  {
   "cell_type": "code",
   "execution_count": null,
   "metadata": {},
   "outputs": [],
   "source": []
  }
 ],
 "metadata": {
  "kernelspec": {
   "display_name": "R",
   "language": "R",
   "name": "ir"
  },
  "language_info": {
   "codemirror_mode": "r",
   "file_extension": ".r",
   "mimetype": "text/x-r-source",
   "name": "R",
   "pygments_lexer": "r",
   "version": "3.6.1"
  }
 },
 "nbformat": 4,
 "nbformat_minor": 4
}
