{
 "cells": [
  {
   "cell_type": "code",
   "execution_count": 188,
   "metadata": {},
   "outputs": [],
   "source": [
    "import pandas as pd\n",
    "import numpy as np\n",
    "import anndata as ad\n",
    "import xarray as xr\n",
    "from SpatialDE import spatial_patterns\n",
    "import pickle"
   ]
  },
  {
   "cell_type": "code",
   "execution_count": null,
   "metadata": {},
   "outputs": [],
   "source": [
    "### single-cell eQTL effects"
   ]
  },
  {
   "cell_type": "code",
   "execution_count": 85,
   "metadata": {},
   "outputs": [
    {
     "data": {
      "text/html": [
       "<div>\n",
       "<style scoped>\n",
       "    .dataframe tbody tr th:only-of-type {\n",
       "        vertical-align: middle;\n",
       "    }\n",
       "\n",
       "    .dataframe tbody tr th {\n",
       "        vertical-align: top;\n",
       "    }\n",
       "\n",
       "    .dataframe thead th {\n",
       "        text-align: right;\n",
       "    }\n",
       "</style>\n",
       "<table border=\"1\" class=\"dataframe\">\n",
       "  <thead>\n",
       "    <tr style=\"text-align: right;\">\n",
       "      <th></th>\n",
       "      <th>ENSG00000176125_UFSP1-7_100492322_C_T</th>\n",
       "      <th>ENSG00000175106_TVP23C-17_15478507_G_C</th>\n",
       "      <th>ENSG00000147677_EIF3H-8_117688031_G_A</th>\n",
       "      <th>ENSG00000204389_HSPA1A-6_31761865_T_C</th>\n",
       "      <th>ENSG00000204389_HSPA1A-6_31785228_G_C</th>\n",
       "      <th>ENSG00000116731_PRDM2-1_14235022_G_A</th>\n",
       "      <th>ENSG00000203485_INF2-14_105216381_C_T</th>\n",
       "      <th>ENSG00000091317_CMTM6-3_32523777_T_C</th>\n",
       "      <th>ENSG00000126524_SBDS-7_66440718_A_G</th>\n",
       "      <th>ENSG00000144134_RABL2A-2_114406459_G_A</th>\n",
       "      <th>...</th>\n",
       "      <th>ENSG00000206535_LNP1-3_100055273_G_A</th>\n",
       "      <th>ENSG00000206535_LNP1-3_100060779_C_T</th>\n",
       "      <th>ENSG00000206535_LNP1-3_100181999_G_T</th>\n",
       "      <th>ENSG00000143971_ETAA1-2_67712034_T_G</th>\n",
       "      <th>ENSG00000054277_OPN3-1_241892235_T_C</th>\n",
       "      <th>ENSG00000069667_RORA-15_61467734_T_C</th>\n",
       "      <th>ENSG00000173894_CBX2-17_77814533_G_A</th>\n",
       "      <th>ENSG00000164930_FZD6-8_104312432_A_G</th>\n",
       "      <th>ENSG00000164930_FZD6-8_104317011_A_G</th>\n",
       "      <th>ENSG00000164930_FZD6-8_104345778_A_G</th>\n",
       "    </tr>\n",
       "  </thead>\n",
       "  <tbody>\n",
       "    <tr>\n",
       "      <th>21843_1#99</th>\n",
       "      <td>-0.092291</td>\n",
       "      <td>-0.020901</td>\n",
       "      <td>-0.054118</td>\n",
       "      <td>-0.617919</td>\n",
       "      <td>-0.654549</td>\n",
       "      <td>-0.013270</td>\n",
       "      <td>-0.185045</td>\n",
       "      <td>0.150489</td>\n",
       "      <td>-0.064830</td>\n",
       "      <td>0.041793</td>\n",
       "      <td>...</td>\n",
       "      <td>-0.039099</td>\n",
       "      <td>-0.142666</td>\n",
       "      <td>-0.091894</td>\n",
       "      <td>-0.094953</td>\n",
       "      <td>-0.080701</td>\n",
       "      <td>-0.067996</td>\n",
       "      <td>0.026881</td>\n",
       "      <td>-0.202234</td>\n",
       "      <td>-0.197769</td>\n",
       "      <td>-0.203371</td>\n",
       "    </tr>\n",
       "    <tr>\n",
       "      <th>24229_5#47</th>\n",
       "      <td>-0.094179</td>\n",
       "      <td>-0.418200</td>\n",
       "      <td>0.039307</td>\n",
       "      <td>-1.340217</td>\n",
       "      <td>-1.205610</td>\n",
       "      <td>-0.028206</td>\n",
       "      <td>-0.306860</td>\n",
       "      <td>0.050959</td>\n",
       "      <td>-0.089726</td>\n",
       "      <td>0.208231</td>\n",
       "      <td>...</td>\n",
       "      <td>-0.061028</td>\n",
       "      <td>-0.100131</td>\n",
       "      <td>-0.267392</td>\n",
       "      <td>-0.111616</td>\n",
       "      <td>-0.015448</td>\n",
       "      <td>-0.110905</td>\n",
       "      <td>0.030413</td>\n",
       "      <td>-0.006998</td>\n",
       "      <td>0.006067</td>\n",
       "      <td>-0.068799</td>\n",
       "    </tr>\n",
       "    <tr>\n",
       "      <th>25535_2#136</th>\n",
       "      <td>-0.080449</td>\n",
       "      <td>-0.044425</td>\n",
       "      <td>-0.047899</td>\n",
       "      <td>-0.879945</td>\n",
       "      <td>-0.889774</td>\n",
       "      <td>0.008512</td>\n",
       "      <td>-0.163487</td>\n",
       "      <td>0.146643</td>\n",
       "      <td>-0.030945</td>\n",
       "      <td>0.042243</td>\n",
       "      <td>...</td>\n",
       "      <td>-0.106094</td>\n",
       "      <td>-0.148331</td>\n",
       "      <td>-0.133007</td>\n",
       "      <td>-0.088487</td>\n",
       "      <td>-0.088059</td>\n",
       "      <td>-0.050601</td>\n",
       "      <td>0.009392</td>\n",
       "      <td>-0.249793</td>\n",
       "      <td>-0.244262</td>\n",
       "      <td>-0.224866</td>\n",
       "    </tr>\n",
       "    <tr>\n",
       "      <th>23794_1#233</th>\n",
       "      <td>-0.091711</td>\n",
       "      <td>-0.042417</td>\n",
       "      <td>-0.120662</td>\n",
       "      <td>-0.429285</td>\n",
       "      <td>-0.449291</td>\n",
       "      <td>-0.049670</td>\n",
       "      <td>-0.173315</td>\n",
       "      <td>0.185699</td>\n",
       "      <td>-0.005271</td>\n",
       "      <td>0.036158</td>\n",
       "      <td>...</td>\n",
       "      <td>-0.139418</td>\n",
       "      <td>-0.191834</td>\n",
       "      <td>-0.090162</td>\n",
       "      <td>-0.129926</td>\n",
       "      <td>-0.137495</td>\n",
       "      <td>-0.043284</td>\n",
       "      <td>0.043521</td>\n",
       "      <td>-0.317619</td>\n",
       "      <td>-0.326827</td>\n",
       "      <td>-0.264026</td>\n",
       "    </tr>\n",
       "    <tr>\n",
       "      <th>25475_3#27</th>\n",
       "      <td>-0.089183</td>\n",
       "      <td>-0.029810</td>\n",
       "      <td>-0.100041</td>\n",
       "      <td>-0.405588</td>\n",
       "      <td>-0.401307</td>\n",
       "      <td>-0.033448</td>\n",
       "      <td>-0.225870</td>\n",
       "      <td>0.170078</td>\n",
       "      <td>-0.069707</td>\n",
       "      <td>0.007676</td>\n",
       "      <td>...</td>\n",
       "      <td>-0.225352</td>\n",
       "      <td>-0.196503</td>\n",
       "      <td>-0.158505</td>\n",
       "      <td>-0.112523</td>\n",
       "      <td>-0.072948</td>\n",
       "      <td>-0.041999</td>\n",
       "      <td>0.088213</td>\n",
       "      <td>-0.265396</td>\n",
       "      <td>-0.300596</td>\n",
       "      <td>-0.242712</td>\n",
       "    </tr>\n",
       "  </tbody>\n",
       "</table>\n",
       "<p>5 rows × 4062 columns</p>\n",
       "</div>"
      ],
      "text/plain": [
       "             ENSG00000176125_UFSP1-7_100492322_C_T  \\\n",
       "21843_1#99                               -0.092291   \n",
       "24229_5#47                               -0.094179   \n",
       "25535_2#136                              -0.080449   \n",
       "23794_1#233                              -0.091711   \n",
       "25475_3#27                               -0.089183   \n",
       "\n",
       "             ENSG00000175106_TVP23C-17_15478507_G_C  \\\n",
       "21843_1#99                                -0.020901   \n",
       "24229_5#47                                -0.418200   \n",
       "25535_2#136                               -0.044425   \n",
       "23794_1#233                               -0.042417   \n",
       "25475_3#27                                -0.029810   \n",
       "\n",
       "             ENSG00000147677_EIF3H-8_117688031_G_A  \\\n",
       "21843_1#99                               -0.054118   \n",
       "24229_5#47                                0.039307   \n",
       "25535_2#136                              -0.047899   \n",
       "23794_1#233                              -0.120662   \n",
       "25475_3#27                               -0.100041   \n",
       "\n",
       "             ENSG00000204389_HSPA1A-6_31761865_T_C  \\\n",
       "21843_1#99                               -0.617919   \n",
       "24229_5#47                               -1.340217   \n",
       "25535_2#136                              -0.879945   \n",
       "23794_1#233                              -0.429285   \n",
       "25475_3#27                               -0.405588   \n",
       "\n",
       "             ENSG00000204389_HSPA1A-6_31785228_G_C  \\\n",
       "21843_1#99                               -0.654549   \n",
       "24229_5#47                               -1.205610   \n",
       "25535_2#136                              -0.889774   \n",
       "23794_1#233                              -0.449291   \n",
       "25475_3#27                               -0.401307   \n",
       "\n",
       "             ENSG00000116731_PRDM2-1_14235022_G_A  \\\n",
       "21843_1#99                              -0.013270   \n",
       "24229_5#47                              -0.028206   \n",
       "25535_2#136                              0.008512   \n",
       "23794_1#233                             -0.049670   \n",
       "25475_3#27                              -0.033448   \n",
       "\n",
       "             ENSG00000203485_INF2-14_105216381_C_T  \\\n",
       "21843_1#99                               -0.185045   \n",
       "24229_5#47                               -0.306860   \n",
       "25535_2#136                              -0.163487   \n",
       "23794_1#233                              -0.173315   \n",
       "25475_3#27                               -0.225870   \n",
       "\n",
       "             ENSG00000091317_CMTM6-3_32523777_T_C  \\\n",
       "21843_1#99                               0.150489   \n",
       "24229_5#47                               0.050959   \n",
       "25535_2#136                              0.146643   \n",
       "23794_1#233                              0.185699   \n",
       "25475_3#27                               0.170078   \n",
       "\n",
       "             ENSG00000126524_SBDS-7_66440718_A_G  \\\n",
       "21843_1#99                             -0.064830   \n",
       "24229_5#47                             -0.089726   \n",
       "25535_2#136                            -0.030945   \n",
       "23794_1#233                            -0.005271   \n",
       "25475_3#27                             -0.069707   \n",
       "\n",
       "             ENSG00000144134_RABL2A-2_114406459_G_A  ...  \\\n",
       "21843_1#99                                 0.041793  ...   \n",
       "24229_5#47                                 0.208231  ...   \n",
       "25535_2#136                                0.042243  ...   \n",
       "23794_1#233                                0.036158  ...   \n",
       "25475_3#27                                 0.007676  ...   \n",
       "\n",
       "             ENSG00000206535_LNP1-3_100055273_G_A  \\\n",
       "21843_1#99                              -0.039099   \n",
       "24229_5#47                              -0.061028   \n",
       "25535_2#136                             -0.106094   \n",
       "23794_1#233                             -0.139418   \n",
       "25475_3#27                              -0.225352   \n",
       "\n",
       "             ENSG00000206535_LNP1-3_100060779_C_T  \\\n",
       "21843_1#99                              -0.142666   \n",
       "24229_5#47                              -0.100131   \n",
       "25535_2#136                             -0.148331   \n",
       "23794_1#233                             -0.191834   \n",
       "25475_3#27                              -0.196503   \n",
       "\n",
       "             ENSG00000206535_LNP1-3_100181999_G_T  \\\n",
       "21843_1#99                              -0.091894   \n",
       "24229_5#47                              -0.267392   \n",
       "25535_2#136                             -0.133007   \n",
       "23794_1#233                             -0.090162   \n",
       "25475_3#27                              -0.158505   \n",
       "\n",
       "             ENSG00000143971_ETAA1-2_67712034_T_G  \\\n",
       "21843_1#99                              -0.094953   \n",
       "24229_5#47                              -0.111616   \n",
       "25535_2#136                             -0.088487   \n",
       "23794_1#233                             -0.129926   \n",
       "25475_3#27                              -0.112523   \n",
       "\n",
       "             ENSG00000054277_OPN3-1_241892235_T_C  \\\n",
       "21843_1#99                              -0.080701   \n",
       "24229_5#47                              -0.015448   \n",
       "25535_2#136                             -0.088059   \n",
       "23794_1#233                             -0.137495   \n",
       "25475_3#27                              -0.072948   \n",
       "\n",
       "             ENSG00000069667_RORA-15_61467734_T_C  \\\n",
       "21843_1#99                              -0.067996   \n",
       "24229_5#47                              -0.110905   \n",
       "25535_2#136                             -0.050601   \n",
       "23794_1#233                             -0.043284   \n",
       "25475_3#27                              -0.041999   \n",
       "\n",
       "             ENSG00000173894_CBX2-17_77814533_G_A  \\\n",
       "21843_1#99                               0.026881   \n",
       "24229_5#47                               0.030413   \n",
       "25535_2#136                              0.009392   \n",
       "23794_1#233                              0.043521   \n",
       "25475_3#27                               0.088213   \n",
       "\n",
       "             ENSG00000164930_FZD6-8_104312432_A_G  \\\n",
       "21843_1#99                              -0.202234   \n",
       "24229_5#47                              -0.006998   \n",
       "25535_2#136                             -0.249793   \n",
       "23794_1#233                             -0.317619   \n",
       "25475_3#27                              -0.265396   \n",
       "\n",
       "             ENSG00000164930_FZD6-8_104317011_A_G  \\\n",
       "21843_1#99                              -0.197769   \n",
       "24229_5#47                               0.006067   \n",
       "25535_2#136                             -0.244262   \n",
       "23794_1#233                             -0.326827   \n",
       "25475_3#27                              -0.300596   \n",
       "\n",
       "             ENSG00000164930_FZD6-8_104345778_A_G  \n",
       "21843_1#99                              -0.203371  \n",
       "24229_5#47                              -0.068799  \n",
       "25535_2#136                             -0.224866  \n",
       "23794_1#233                             -0.264026  \n",
       "25475_3#27                              -0.242712  \n",
       "\n",
       "[5 rows x 4062 columns]"
      ]
     },
     "execution_count": 85,
     "metadata": {},
     "output_type": "execute_result"
    }
   ],
   "source": [
    "filename = \"/nfs/leia/research/stegle/acuomo/singlecell_endodiff/data/pipeline_snakemakes/output_structlmm_alldays_10PCs/eqtl_tot_genetic_effect_all.txt\"\n",
    "df = pd.read_csv(filename, sep = \"\\t\", index_col=0)\n",
    "df.head()"
   ]
  },
  {
   "cell_type": "code",
   "execution_count": null,
   "metadata": {},
   "outputs": [],
   "source": [
    "### PC coordinates"
   ]
  },
  {
   "cell_type": "code",
   "execution_count": 104,
   "metadata": {},
   "outputs": [
    {
     "data": {
      "text/plain": [
       "Index(['21843_1#10', '21843_1#100', '21843_1#101', '21843_1#102',\n",
       "       '21843_1#103', '21843_1#105', '21843_1#106', '21843_1#107',\n",
       "       '21843_1#108', '21843_1#109',\n",
       "       ...\n",
       "       '24539_8#88', '24539_8#89', '24539_8#90', '24539_8#91', '24539_8#92',\n",
       "       '24539_8#93', '24539_8#94', '24539_8#95', '24539_8#97', '24539_8#98'],\n",
       "      dtype='object', length=36044)"
      ]
     },
     "execution_count": 104,
     "metadata": {},
     "output_type": "execute_result"
    }
   ],
   "source": [
    "pcs_filename = \"/hps/nobackup/stegle/users/acuomo/all_scripts/struct_LMM2/sc_endodiff/10pcs_500hvgs.csv\"\n",
    "df_pcs = pd.read_csv(pcs_filename, index_col=0)\n",
    "df_pcs.head()\n",
    "df_pcs.index"
   ]
  },
  {
   "cell_type": "code",
   "execution_count": 105,
   "metadata": {},
   "outputs": [],
   "source": [
    "### build \"fake\" AnnData file\n",
    "#\n",
    "# counts: single-cell eQTL effects\n",
    "# adata.obsm['spatial']: coordinates (PCA, UMAP..)"
   ]
  },
  {
   "cell_type": "code",
   "execution_count": 136,
   "metadata": {},
   "outputs": [],
   "source": [
    "cells = df_pcs.index.values\n",
    "cells = sorted(set(list(df.index.values)).intersection(cells))"
   ]
  },
  {
   "cell_type": "code",
   "execution_count": 137,
   "metadata": {},
   "outputs": [
    {
     "data": {
      "text/plain": [
       "(33478, 4062)"
      ]
     },
     "execution_count": 137,
     "metadata": {},
     "output_type": "execute_result"
    }
   ],
   "source": [
    "df = df[df.index.isin(cells)]\n",
    "df.shape"
   ]
  },
  {
   "cell_type": "code",
   "execution_count": 138,
   "metadata": {},
   "outputs": [
    {
     "data": {
      "text/plain": [
       "(33478, 10)"
      ]
     },
     "execution_count": 138,
     "metadata": {},
     "output_type": "execute_result"
    }
   ],
   "source": [
    "df_pcs = df_pcs[df_pcs.index.isin(cells)]\n",
    "df_pcs.shape"
   ]
  },
  {
   "cell_type": "code",
   "execution_count": 153,
   "metadata": {},
   "outputs": [],
   "source": [
    "df = df.sort_index(axis=0)\n",
    "df_pcs = df_pcs.sort_index(axis=0)"
   ]
  },
  {
   "cell_type": "code",
   "execution_count": 154,
   "metadata": {},
   "outputs": [
    {
     "data": {
      "text/plain": [
       "33478"
      ]
     },
     "execution_count": 154,
     "metadata": {},
     "output_type": "execute_result"
    }
   ],
   "source": [
    "obs_names = df.index.values\n",
    "obs = pd.DataFrame(index=obs_names)\n",
    "# obs\n",
    "n_obs = len(obs)\n",
    "n_obs"
   ]
  },
  {
   "cell_type": "code",
   "execution_count": 155,
   "metadata": {},
   "outputs": [
    {
     "data": {
      "text/plain": [
       "4062"
      ]
     },
     "execution_count": 155,
     "metadata": {},
     "output_type": "execute_result"
    }
   ],
   "source": [
    "var_names = df.columns.values\n",
    "var = pd.DataFrame(index=var_names)\n",
    "# var\n",
    "n_vars = len(var)\n",
    "n_vars"
   ]
  },
  {
   "cell_type": "code",
   "execution_count": 156,
   "metadata": {},
   "outputs": [
    {
     "data": {
      "text/plain": [
       "numpy.ndarray"
      ]
     },
     "execution_count": 156,
     "metadata": {},
     "output_type": "execute_result"
    }
   ],
   "source": [
    "X = df.to_numpy()\n",
    "X.shape\n",
    "type(X)"
   ]
  },
  {
   "cell_type": "code",
   "execution_count": 180,
   "metadata": {},
   "outputs": [
    {
     "data": {
      "text/plain": [
       "AnnData object with n_obs × n_vars = 33478 × 4062"
      ]
     },
     "execution_count": 180,
     "metadata": {},
     "output_type": "execute_result"
    }
   ],
   "source": [
    "adata = ad.AnnData(X=X, obs=obs, var=var, dtype='float')\n",
    "adata"
   ]
  },
  {
   "cell_type": "code",
   "execution_count": 181,
   "metadata": {},
   "outputs": [
    {
     "data": {
      "text/html": [
       "<div>\n",
       "<style scoped>\n",
       "    .dataframe tbody tr th:only-of-type {\n",
       "        vertical-align: middle;\n",
       "    }\n",
       "\n",
       "    .dataframe tbody tr th {\n",
       "        vertical-align: top;\n",
       "    }\n",
       "\n",
       "    .dataframe thead th {\n",
       "        text-align: right;\n",
       "    }\n",
       "</style>\n",
       "<table border=\"1\" class=\"dataframe\">\n",
       "  <thead>\n",
       "    <tr style=\"text-align: right;\">\n",
       "      <th></th>\n",
       "      <th>PC1</th>\n",
       "      <th>PC2</th>\n",
       "      <th>PC3</th>\n",
       "      <th>PC4</th>\n",
       "      <th>PC5</th>\n",
       "      <th>PC6</th>\n",
       "      <th>PC7</th>\n",
       "      <th>PC8</th>\n",
       "      <th>PC9</th>\n",
       "      <th>PC10</th>\n",
       "    </tr>\n",
       "  </thead>\n",
       "  <tbody>\n",
       "    <tr>\n",
       "      <th>21241_6#10</th>\n",
       "      <td>32.193582</td>\n",
       "      <td>-2.686568</td>\n",
       "      <td>5.318807</td>\n",
       "      <td>-17.205658</td>\n",
       "      <td>10.304770</td>\n",
       "      <td>-5.122648</td>\n",
       "      <td>-10.114578</td>\n",
       "      <td>0.475732</td>\n",
       "      <td>9.525488</td>\n",
       "      <td>3.975142</td>\n",
       "    </tr>\n",
       "    <tr>\n",
       "      <th>21241_6#100</th>\n",
       "      <td>29.271910</td>\n",
       "      <td>-3.382487</td>\n",
       "      <td>7.217431</td>\n",
       "      <td>-26.379431</td>\n",
       "      <td>2.138624</td>\n",
       "      <td>-3.758808</td>\n",
       "      <td>-9.407537</td>\n",
       "      <td>1.431489</td>\n",
       "      <td>5.081567</td>\n",
       "      <td>3.704345</td>\n",
       "    </tr>\n",
       "    <tr>\n",
       "      <th>21241_6#101</th>\n",
       "      <td>30.458309</td>\n",
       "      <td>3.273150</td>\n",
       "      <td>14.441991</td>\n",
       "      <td>-6.860621</td>\n",
       "      <td>-12.636434</td>\n",
       "      <td>-6.208608</td>\n",
       "      <td>-7.710519</td>\n",
       "      <td>7.424244</td>\n",
       "      <td>-4.576510</td>\n",
       "      <td>7.680715</td>\n",
       "    </tr>\n",
       "    <tr>\n",
       "      <th>21241_6#103</th>\n",
       "      <td>31.063225</td>\n",
       "      <td>9.701125</td>\n",
       "      <td>12.602948</td>\n",
       "      <td>-9.719614</td>\n",
       "      <td>-12.252897</td>\n",
       "      <td>-5.496166</td>\n",
       "      <td>-2.239845</td>\n",
       "      <td>3.811890</td>\n",
       "      <td>0.578312</td>\n",
       "      <td>3.418790</td>\n",
       "    </tr>\n",
       "    <tr>\n",
       "      <th>21241_6#104</th>\n",
       "      <td>36.168878</td>\n",
       "      <td>1.966633</td>\n",
       "      <td>1.364692</td>\n",
       "      <td>-25.534776</td>\n",
       "      <td>0.097970</td>\n",
       "      <td>-0.272529</td>\n",
       "      <td>-5.594344</td>\n",
       "      <td>5.138253</td>\n",
       "      <td>7.231300</td>\n",
       "      <td>0.642229</td>\n",
       "    </tr>\n",
       "  </tbody>\n",
       "</table>\n",
       "</div>"
      ],
      "text/plain": [
       "                   PC1       PC2        PC3        PC4        PC5       PC6  \\\n",
       "21241_6#10   32.193582 -2.686568   5.318807 -17.205658  10.304770 -5.122648   \n",
       "21241_6#100  29.271910 -3.382487   7.217431 -26.379431   2.138624 -3.758808   \n",
       "21241_6#101  30.458309  3.273150  14.441991  -6.860621 -12.636434 -6.208608   \n",
       "21241_6#103  31.063225  9.701125  12.602948  -9.719614 -12.252897 -5.496166   \n",
       "21241_6#104  36.168878  1.966633   1.364692 -25.534776   0.097970 -0.272529   \n",
       "\n",
       "                   PC7       PC8       PC9      PC10  \n",
       "21241_6#10  -10.114578  0.475732  9.525488  3.975142  \n",
       "21241_6#100  -9.407537  1.431489  5.081567  3.704345  \n",
       "21241_6#101  -7.710519  7.424244 -4.576510  7.680715  \n",
       "21241_6#103  -2.239845  3.811890  0.578312  3.418790  \n",
       "21241_6#104  -5.594344  5.138253  7.231300  0.642229  "
      ]
     },
     "execution_count": 181,
     "metadata": {},
     "output_type": "execute_result"
    }
   ],
   "source": [
    "df_pcs.head()"
   ]
  },
  {
   "cell_type": "code",
   "execution_count": 182,
   "metadata": {},
   "outputs": [],
   "source": [
    "adata.obsm['spatial'] = df_pcs\n",
    "# adata.obsm['spatial'] = df_pcs.to_numpy()"
   ]
  },
  {
   "cell_type": "code",
   "execution_count": 183,
   "metadata": {},
   "outputs": [
    {
     "data": {
      "text/plain": [
       "(33478, 10)"
      ]
     },
     "execution_count": 183,
     "metadata": {},
     "output_type": "execute_result"
    }
   ],
   "source": [
    "# adata\n",
    "adata.obsm['spatial'].shape"
   ]
  },
  {
   "cell_type": "code",
   "execution_count": 189,
   "metadata": {},
   "outputs": [
    {
     "data": {
      "text/plain": [
       "AnnData object with n_obs × n_vars = 33478 × 4062\n",
       "    obsm: 'spatial'"
      ]
     },
     "execution_count": 189,
     "metadata": {},
     "output_type": "execute_result"
    }
   ],
   "source": [
    "adata"
   ]
  },
  {
   "cell_type": "code",
   "execution_count": 190,
   "metadata": {},
   "outputs": [],
   "source": [
    "adata.write(\"/hps/nobackup/stegle/users/acuomo/all_scripts/struct_LMM2/sc_endodiff/new/effect_sizes_clustering/non_scaled_old_eff_sizes_10pcs_as_spatial.h5\")"
   ]
  },
  {
   "cell_type": "code",
   "execution_count": 184,
   "metadata": {},
   "outputs": [],
   "source": [
    "### run SpatialDE to identify clusters"
   ]
  },
  {
   "cell_type": "code",
   "execution_count": null,
   "metadata": {},
   "outputs": [],
   "source": [
    "sp = spatial_patterns(adata, normalized = True)"
   ]
  },
  {
   "cell_type": "code",
   "execution_count": null,
   "metadata": {},
   "outputs": [],
   "source": [
    "sp"
   ]
  },
  {
   "cell_type": "code",
   "execution_count": null,
   "metadata": {},
   "outputs": [],
   "source": [
    "pickle.dump(sp, \"/hps/nobackup/stegle/users/acuomo/all_scripts/struct_LMM2/sc_endodiff/new/effect_sizes_clustering/non_scaled_old_eff_sizes_10pcs_spatial_patterns.p\")"
   ]
  },
  {
   "cell_type": "code",
   "execution_count": null,
   "metadata": {},
   "outputs": [],
   "source": [
    "adata.write(\"/hps/nobackup/stegle/users/acuomo/all_scripts/struct_LMM2/sc_endodiff/new/effect_sizes_clustering/non_scaled_old_eff_sizes_10pcs_as_spatial.h5\")"
   ]
  },
  {
   "cell_type": "code",
   "execution_count": null,
   "metadata": {},
   "outputs": [],
   "source": []
  }
 ],
 "metadata": {
  "kernelspec": {
   "display_name": "Python (spatialde)",
   "language": "python",
   "name": "spatialde"
  },
  "language_info": {
   "codemirror_mode": {
    "name": "ipython",
    "version": 3
   },
   "file_extension": ".py",
   "mimetype": "text/x-python",
   "name": "python",
   "nbconvert_exporter": "python",
   "pygments_lexer": "ipython3",
   "version": "3.7.9"
  }
 },
 "nbformat": 4,
 "nbformat_minor": 4
}
