{
 "cells": [
  {
   "cell_type": "code",
   "execution_count": 8,
   "id": "42467a48",
   "metadata": {},
   "outputs": [],
   "source": [
    "# if (!requireNamespace(\"BiocManager\", quietly = TRUE))\n",
    "#     install.packages(\"BiocManager\")\n",
    "\n",
    "# BiocManager::install(\"fgsea\")"
   ]
  },
  {
   "cell_type": "code",
   "execution_count": 110,
   "id": "4e113b90",
   "metadata": {},
   "outputs": [],
   "source": [
    "library(fgsea)\n",
    "library(dplyr)"
   ]
  },
  {
   "cell_type": "code",
   "execution_count": 111,
   "id": "09dcb7de",
   "metadata": {},
   "outputs": [],
   "source": [
    "GO_file = \"/hps/nobackup/stegle/users/acuomo/all_scripts/struct_LMM2/msigdb.v7.4.symbols.gmt.txt\"\n",
    "myGO = fgsea::gmtPathways(GO_file)"
   ]
  },
  {
   "cell_type": "code",
   "execution_count": 3,
   "id": "c7d94361",
   "metadata": {},
   "outputs": [],
   "source": [
    "filename = \"/hps/nobackup/stegle/users/acuomo/all_scripts/struct_LMM2/sc_endodiff/debug_May2021/genetic_effect/scaled_absolute_eff_sizes_20mofas_as_spatial_downsample_20pct_cluster_labels.csv\"\n",
    "df_clusters = read.csv(filename, row.names = 1)"
   ]
  },
  {
   "cell_type": "code",
   "execution_count": 4,
   "id": "938e18fc",
   "metadata": {},
   "outputs": [
    {
     "data": {
      "text/html": [
       "<table>\n",
       "<thead><tr><th></th><th scope=col>label</th><th scope=col>gene</th></tr></thead>\n",
       "<tbody>\n",
       "\t<tr><th scope=row>0</th><td>12                                       </td><td>ENSG00000005059_CCDC109B_-4_110648632_T_A</td></tr>\n",
       "\t<tr><th scope=row>1</th><td> 6                                       </td><td>ENSG00000006016_CRLF1_-19_18735221_G_T   </td></tr>\n",
       "</tbody>\n",
       "</table>\n"
      ],
      "text/latex": [
       "\\begin{tabular}{r|ll}\n",
       "  & label & gene\\\\\n",
       "\\hline\n",
       "\t0 & 12                                                  & ENSG00000005059\\_CCDC109B\\_-4\\_110648632\\_T\\_A\\\\\n",
       "\t1 &  6                                                  & ENSG00000006016\\_CRLF1\\_-19\\_18735221\\_G\\_T   \\\\\n",
       "\\end{tabular}\n"
      ],
      "text/markdown": [
       "\n",
       "| <!--/--> | label | gene |\n",
       "|---|---|---|\n",
       "| 0 | 12                                        | ENSG00000005059_CCDC109B_-4_110648632_T_A |\n",
       "| 1 |  6                                        | ENSG00000006016_CRLF1_-19_18735221_G_T    |\n",
       "\n"
      ],
      "text/plain": [
       "  label gene                                     \n",
       "0 12    ENSG00000005059_CCDC109B_-4_110648632_T_A\n",
       "1  6    ENSG00000006016_CRLF1_-19_18735221_G_T   "
      ]
     },
     "metadata": {},
     "output_type": "display_data"
    }
   ],
   "source": [
    "head(df_clusters[,c(\"label\",\"gene\")],2)"
   ]
  },
  {
   "cell_type": "code",
   "execution_count": 5,
   "id": "9280f0f4",
   "metadata": {},
   "outputs": [
    {
     "data": {
      "text/html": [
       "<table>\n",
       "<thead><tr><th></th><th scope=col>cluster0</th><th scope=col>cluster1</th><th scope=col>cluster2</th><th scope=col>cluster3</th><th scope=col>cluster4</th><th scope=col>cluster5</th><th scope=col>cluster6</th><th scope=col>cluster7</th><th scope=col>cluster8</th><th scope=col>cluster9</th><th scope=col>cluster10</th><th scope=col>cluster11</th><th scope=col>cluster12</th><th scope=col>cluster13</th><th scope=col>cluster14</th><th scope=col>cluster15</th><th scope=col>cluster16</th></tr></thead>\n",
       "<tbody>\n",
       "\t<tr><th scope=row>21241_6#101</th><td> 0.1680083  </td><td>1.467499    </td><td>-0.04738185 </td><td>-1.1890982  </td><td>-0.44598433 </td><td>-0.3017349  </td><td> 0.6407952  </td><td>1.6552159   </td><td>-1.909218   </td><td>0.9298816   </td><td>-0.007411288</td><td>-0.5327193  </td><td> 0.3091328  </td><td>-0.9619672  </td><td>0.5665350   </td><td>-0.8121361  </td><td>-0.72275553 </td></tr>\n",
       "\t<tr><th scope=row>21241_6#109</th><td>-0.1129149  </td><td>1.231645    </td><td>-1.02890629 </td><td>-0.8263663  </td><td>-0.04170535 </td><td> 0.6850877  </td><td>-0.4509523  </td><td>0.1248104   </td><td>-1.776294   </td><td>0.9899942   </td><td> 0.457897144</td><td>-0.4169017  </td><td>-0.1743749  </td><td>-1.3186190  </td><td>0.6201114   </td><td>-0.8507167  </td><td>-0.08365583 </td></tr>\n",
       "</tbody>\n",
       "</table>\n"
      ],
      "text/latex": [
       "\\begin{tabular}{r|lllllllllllllllll}\n",
       "  & cluster0 & cluster1 & cluster2 & cluster3 & cluster4 & cluster5 & cluster6 & cluster7 & cluster8 & cluster9 & cluster10 & cluster11 & cluster12 & cluster13 & cluster14 & cluster15 & cluster16\\\\\n",
       "\\hline\n",
       "\t21241\\_6\\#101 &  0.1680083   & 1.467499     & -0.04738185  & -1.1890982   & -0.44598433  & -0.3017349   &  0.6407952   & 1.6552159    & -1.909218    & 0.9298816    & -0.007411288 & -0.5327193   &  0.3091328   & -0.9619672   & 0.5665350    & -0.8121361   & -0.72275553 \\\\\n",
       "\t21241\\_6\\#109 & -0.1129149   & 1.231645     & -1.02890629  & -0.8263663   & -0.04170535  &  0.6850877   & -0.4509523   & 0.1248104    & -1.776294    & 0.9899942    &  0.457897144 & -0.4169017   & -0.1743749   & -1.3186190   & 0.6201114    & -0.8507167   & -0.08365583 \\\\\n",
       "\\end{tabular}\n"
      ],
      "text/markdown": [
       "\n",
       "| <!--/--> | cluster0 | cluster1 | cluster2 | cluster3 | cluster4 | cluster5 | cluster6 | cluster7 | cluster8 | cluster9 | cluster10 | cluster11 | cluster12 | cluster13 | cluster14 | cluster15 | cluster16 |\n",
       "|---|---|---|---|---|---|---|---|---|---|---|---|---|---|---|---|---|---|\n",
       "| 21241_6#101 |  0.1680083   | 1.467499     | -0.04738185  | -1.1890982   | -0.44598433  | -0.3017349   |  0.6407952   | 1.6552159    | -1.909218    | 0.9298816    | -0.007411288 | -0.5327193   |  0.3091328   | -0.9619672   | 0.5665350    | -0.8121361   | -0.72275553  |\n",
       "| 21241_6#109 | -0.1129149   | 1.231645     | -1.02890629  | -0.8263663   | -0.04170535  |  0.6850877   | -0.4509523   | 0.1248104    | -1.776294    | 0.9899942    |  0.457897144 | -0.4169017   | -0.1743749   | -1.3186190   | 0.6201114    | -0.8507167   | -0.08365583  |\n",
       "\n"
      ],
      "text/plain": [
       "            cluster0   cluster1 cluster2    cluster3   cluster4    cluster5  \n",
       "21241_6#101  0.1680083 1.467499 -0.04738185 -1.1890982 -0.44598433 -0.3017349\n",
       "21241_6#109 -0.1129149 1.231645 -1.02890629 -0.8263663 -0.04170535  0.6850877\n",
       "            cluster6   cluster7  cluster8  cluster9  cluster10    cluster11 \n",
       "21241_6#101  0.6407952 1.6552159 -1.909218 0.9298816 -0.007411288 -0.5327193\n",
       "21241_6#109 -0.4509523 0.1248104 -1.776294 0.9899942  0.457897144 -0.4169017\n",
       "            cluster12  cluster13  cluster14 cluster15  cluster16  \n",
       "21241_6#101  0.3091328 -0.9619672 0.5665350 -0.8121361 -0.72275553\n",
       "21241_6#109 -0.1743749 -1.3186190 0.6201114 -0.8507167 -0.08365583"
      ]
     },
     "metadata": {},
     "output_type": "display_data"
    }
   ],
   "source": [
    "# load cluster summaries\n",
    "cluster_summaries = read.csv(\"/hps/nobackup/stegle/users/acuomo/all_scripts/struct_LMM2/sc_endodiff/debug_May2021/genetic_effect/scaled_absolute_eff_sizes_20mofas_as_spatial_downsample_20pct_cluster_summaries.csv\", row.names=1)\n",
    "colnames(cluster_summaries) = paste0(\"cluster\",0:16)\n",
    "head(cluster_summaries,2)"
   ]
  },
  {
   "cell_type": "code",
   "execution_count": 6,
   "id": "2024876b",
   "metadata": {},
   "outputs": [],
   "source": [
    "###################################################### \n",
    "### approach 1: enrichment of genes (eQTL) in the clusters"
   ]
  },
  {
   "cell_type": "code",
   "execution_count": 7,
   "id": "6dff0493",
   "metadata": {},
   "outputs": [
    {
     "data": {
      "text/html": [
       "<table>\n",
       "<thead><tr><th></th><th scope=col>ENSG00000005059_CCDC109B_-4_110648632_T_A</th><th scope=col>ENSG00000006016_CRLF1_-19_18735221_G_T</th><th scope=col>ENSG00000006459_KDM7A_-7_139913409_G_A</th><th scope=col>ENSG00000013297_CLDN11_-3_170402765_T_C</th><th scope=col>ENSG00000021300_PLEKHB1_-11_73339784_G_A</th><th scope=col>ENSG00000029639_TFB1M_-6_155635808_C_G</th><th scope=col>ENSG00000033178_UBA6_-4_68480525_C_T</th><th scope=col>ENSG00000035115_SH3YL1_-2_256116_G_T</th><th scope=col>ENSG00000059377_TBXAS1_-7_139547370_G_A</th><th scope=col>ENSG00000063761_ADCK1_-14_78311319_G_A</th><th scope=col>...</th><th scope=col>ENSG00000248098_BCKDHA_-19_41937095_G_A</th><th scope=col>ENSG00000248124_RRN3P1_-16_21818292_A_C</th><th scope=col>ENSG00000250317_SMIM20_-4_25918516_A_G</th><th scope=col>ENSG00000253203_GUSBP3_-5_68922087_T_G</th><th scope=col>ENSG00000254184_TYW1B_-7_72200923_G_A</th><th scope=col>ENSG00000256018_HIST1H3G_-6_26198845_G_C</th><th scope=col>ENSG00000256073_C21orf119_-21_33728588_C_A</th><th scope=col>ENSG00000259024_TVP23C-CDRT4_-17_15434991_C_T</th><th scope=col>ENSG00000259803_SLC22A31_-16_89234110_G_C</th><th scope=col>ENSG00000267323_SLC25A1P5_-19_28298186_T_C</th></tr></thead>\n",
       "<tbody>\n",
       "\t<tr><th scope=row>21843_1#10</th><td>-0.02336156 </td><td> 0.037167263</td><td>-0.02962768 </td><td>0.1829698   </td><td>-0.03793941 </td><td>-0.02932441 </td><td> 0.03139850 </td><td>-0.03962300 </td><td>0.08013833  </td><td>0.02749838  </td><td>...         </td><td>-0.08185803 </td><td>-0.1086237  </td><td>-0.10317566 </td><td>-0.04854321 </td><td>0.095111678 </td><td>-0.002571070</td><td>-0.05560833 </td><td>0.1931245   </td><td>-0.06168149 </td><td> 0.05468625 </td></tr>\n",
       "\t<tr><th scope=row>21843_1#100</th><td>-0.04797379 </td><td>-0.002567715</td><td>-0.05030368 </td><td>0.1420454   </td><td>-0.06425603 </td><td>-0.01789411 </td><td>-0.06468377 </td><td>-0.08820444 </td><td>0.23273882  </td><td>0.04037590  </td><td>...         </td><td>-0.16133495 </td><td>-0.4557181  </td><td>-0.09858982 </td><td>-0.09564130 </td><td>0.007662211 </td><td>-0.001386594</td><td>-0.09411877 </td><td>0.2614240   </td><td>-0.16271379 </td><td>-0.03705185 </td></tr>\n",
       "</tbody>\n",
       "</table>\n"
      ],
      "text/latex": [
       "\\begin{tabular}{r|llllllllllllllllllllllllllllllllllllllllllllllllllllllllllllllllllllllllllllllllllllllllllllllllllllllllllllllllllllllllllllllllllllllllllllllllllllllllllllllllllllllllllllllllllllllllllllllllllllllllllllllllllllllllllllllllllllllllllllllllllllllllllllllllllllllllllllllllllllllllllllllllllllllllllllllllllllllllllllllllll}\n",
       "  & ENSG00000005059\\_CCDC109B\\_-4\\_110648632\\_T\\_A & ENSG00000006016\\_CRLF1\\_-19\\_18735221\\_G\\_T & ENSG00000006459\\_KDM7A\\_-7\\_139913409\\_G\\_A & ENSG00000013297\\_CLDN11\\_-3\\_170402765\\_T\\_C & ENSG00000021300\\_PLEKHB1\\_-11\\_73339784\\_G\\_A & ENSG00000029639\\_TFB1M\\_-6\\_155635808\\_C\\_G & ENSG00000033178\\_UBA6\\_-4\\_68480525\\_C\\_T & ENSG00000035115\\_SH3YL1\\_-2\\_256116\\_G\\_T & ENSG00000059377\\_TBXAS1\\_-7\\_139547370\\_G\\_A & ENSG00000063761\\_ADCK1\\_-14\\_78311319\\_G\\_A & ... & ENSG00000248098\\_BCKDHA\\_-19\\_41937095\\_G\\_A & ENSG00000248124\\_RRN3P1\\_-16\\_21818292\\_A\\_C & ENSG00000250317\\_SMIM20\\_-4\\_25918516\\_A\\_G & ENSG00000253203\\_GUSBP3\\_-5\\_68922087\\_T\\_G & ENSG00000254184\\_TYW1B\\_-7\\_72200923\\_G\\_A & ENSG00000256018\\_HIST1H3G\\_-6\\_26198845\\_G\\_C & ENSG00000256073\\_C21orf119\\_-21\\_33728588\\_C\\_A & ENSG00000259024\\_TVP23C-CDRT4\\_-17\\_15434991\\_C\\_T & ENSG00000259803\\_SLC22A31\\_-16\\_89234110\\_G\\_C & ENSG00000267323\\_SLC25A1P5\\_-19\\_28298186\\_T\\_C\\\\\n",
       "\\hline\n",
       "\t21843\\_1\\#10 & -0.02336156  &  0.037167263 & -0.02962768  & 0.1829698    & -0.03793941  & -0.02932441  &  0.03139850  & -0.03962300  & 0.08013833   & 0.02749838   & ...          & -0.08185803  & -0.1086237   & -0.10317566  & -0.04854321  & 0.095111678  & -0.002571070 & -0.05560833  & 0.1931245    & -0.06168149  &  0.05468625 \\\\\n",
       "\t21843\\_1\\#100 & -0.04797379  & -0.002567715 & -0.05030368  & 0.1420454    & -0.06425603  & -0.01789411  & -0.06468377  & -0.08820444  & 0.23273882   & 0.04037590   & ...          & -0.16133495  & -0.4557181   & -0.09858982  & -0.09564130  & 0.007662211  & -0.001386594 & -0.09411877  & 0.2614240    & -0.16271379  & -0.03705185 \\\\\n",
       "\\end{tabular}\n"
      ],
      "text/markdown": [
       "\n",
       "| <!--/--> | ENSG00000005059_CCDC109B_-4_110648632_T_A | ENSG00000006016_CRLF1_-19_18735221_G_T | ENSG00000006459_KDM7A_-7_139913409_G_A | ENSG00000013297_CLDN11_-3_170402765_T_C | ENSG00000021300_PLEKHB1_-11_73339784_G_A | ENSG00000029639_TFB1M_-6_155635808_C_G | ENSG00000033178_UBA6_-4_68480525_C_T | ENSG00000035115_SH3YL1_-2_256116_G_T | ENSG00000059377_TBXAS1_-7_139547370_G_A | ENSG00000063761_ADCK1_-14_78311319_G_A | ... | ENSG00000248098_BCKDHA_-19_41937095_G_A | ENSG00000248124_RRN3P1_-16_21818292_A_C | ENSG00000250317_SMIM20_-4_25918516_A_G | ENSG00000253203_GUSBP3_-5_68922087_T_G | ENSG00000254184_TYW1B_-7_72200923_G_A | ENSG00000256018_HIST1H3G_-6_26198845_G_C | ENSG00000256073_C21orf119_-21_33728588_C_A | ENSG00000259024_TVP23C-CDRT4_-17_15434991_C_T | ENSG00000259803_SLC22A31_-16_89234110_G_C | ENSG00000267323_SLC25A1P5_-19_28298186_T_C |\n",
       "|---|---|---|---|---|---|---|---|---|---|---|---|---|---|---|---|---|---|---|---|---|---|\n",
       "| 21843_1#10 | -0.02336156  |  0.037167263 | -0.02962768  | 0.1829698    | -0.03793941  | -0.02932441  |  0.03139850  | -0.03962300  | 0.08013833   | 0.02749838   | ...          | -0.08185803  | -0.1086237   | -0.10317566  | -0.04854321  | 0.095111678  | -0.002571070 | -0.05560833  | 0.1931245    | -0.06168149  |  0.05468625  |\n",
       "| 21843_1#100 | -0.04797379  | -0.002567715 | -0.05030368  | 0.1420454    | -0.06425603  | -0.01789411  | -0.06468377  | -0.08820444  | 0.23273882   | 0.04037590   | ...          | -0.16133495  | -0.4557181   | -0.09858982  | -0.09564130  | 0.007662211  | -0.001386594 | -0.09411877  | 0.2614240    | -0.16271379  | -0.03705185  |\n",
       "\n"
      ],
      "text/plain": [
       "            ENSG00000005059_CCDC109B_-4_110648632_T_A\n",
       "21843_1#10  -0.02336156                              \n",
       "21843_1#100 -0.04797379                              \n",
       "            ENSG00000006016_CRLF1_-19_18735221_G_T\n",
       "21843_1#10   0.037167263                          \n",
       "21843_1#100 -0.002567715                          \n",
       "            ENSG00000006459_KDM7A_-7_139913409_G_A\n",
       "21843_1#10  -0.02962768                           \n",
       "21843_1#100 -0.05030368                           \n",
       "            ENSG00000013297_CLDN11_-3_170402765_T_C\n",
       "21843_1#10  0.1829698                              \n",
       "21843_1#100 0.1420454                              \n",
       "            ENSG00000021300_PLEKHB1_-11_73339784_G_A\n",
       "21843_1#10  -0.03793941                             \n",
       "21843_1#100 -0.06425603                             \n",
       "            ENSG00000029639_TFB1M_-6_155635808_C_G\n",
       "21843_1#10  -0.02932441                           \n",
       "21843_1#100 -0.01789411                           \n",
       "            ENSG00000033178_UBA6_-4_68480525_C_T\n",
       "21843_1#10   0.03139850                         \n",
       "21843_1#100 -0.06468377                         \n",
       "            ENSG00000035115_SH3YL1_-2_256116_G_T\n",
       "21843_1#10  -0.03962300                         \n",
       "21843_1#100 -0.08820444                         \n",
       "            ENSG00000059377_TBXAS1_-7_139547370_G_A\n",
       "21843_1#10  0.08013833                             \n",
       "21843_1#100 0.23273882                             \n",
       "            ENSG00000063761_ADCK1_-14_78311319_G_A ...\n",
       "21843_1#10  0.02749838                             ...\n",
       "21843_1#100 0.04037590                             ...\n",
       "            ENSG00000248098_BCKDHA_-19_41937095_G_A\n",
       "21843_1#10  -0.08185803                            \n",
       "21843_1#100 -0.16133495                            \n",
       "            ENSG00000248124_RRN3P1_-16_21818292_A_C\n",
       "21843_1#10  -0.1086237                             \n",
       "21843_1#100 -0.4557181                             \n",
       "            ENSG00000250317_SMIM20_-4_25918516_A_G\n",
       "21843_1#10  -0.10317566                           \n",
       "21843_1#100 -0.09858982                           \n",
       "            ENSG00000253203_GUSBP3_-5_68922087_T_G\n",
       "21843_1#10  -0.04854321                           \n",
       "21843_1#100 -0.09564130                           \n",
       "            ENSG00000254184_TYW1B_-7_72200923_G_A\n",
       "21843_1#10  0.095111678                          \n",
       "21843_1#100 0.007662211                          \n",
       "            ENSG00000256018_HIST1H3G_-6_26198845_G_C\n",
       "21843_1#10  -0.002571070                            \n",
       "21843_1#100 -0.001386594                            \n",
       "            ENSG00000256073_C21orf119_-21_33728588_C_A\n",
       "21843_1#10  -0.05560833                               \n",
       "21843_1#100 -0.09411877                               \n",
       "            ENSG00000259024_TVP23C-CDRT4_-17_15434991_C_T\n",
       "21843_1#10  0.1931245                                    \n",
       "21843_1#100 0.2614240                                    \n",
       "            ENSG00000259803_SLC22A31_-16_89234110_G_C\n",
       "21843_1#10  -0.06168149                              \n",
       "21843_1#100 -0.16271379                              \n",
       "            ENSG00000267323_SLC25A1P5_-19_28298186_T_C\n",
       "21843_1#10   0.05468625                               \n",
       "21843_1#100 -0.03705185                               "
      ]
     },
     "metadata": {},
     "output_type": "display_data"
    },
    {
     "data": {
      "text/html": [
       "33964"
      ],
      "text/latex": [
       "33964"
      ],
      "text/markdown": [
       "33964"
      ],
      "text/plain": [
       "[1] 33964"
      ]
     },
     "metadata": {},
     "output_type": "display_data"
    }
   ],
   "source": [
    "## load individual eQTL genetic effects\n",
    "df = read.csv(\"/hps/nobackup/stegle/users/acuomo/all_scripts/struct_LMM2/sc_endodiff/debug_May2021/genetic_effect/MOFA10/eqtl_tot_genetic_effect_all.txt\", sep=\"\\t\",row.names = 1)\n",
    "colnames(df) = gsub(\"\\\\.\",\"-\",colnames(df))\n",
    "head(df,2)\n",
    "nrow(df)"
   ]
  },
  {
   "cell_type": "code",
   "execution_count": 138,
   "id": "9af35fbe",
   "metadata": {
    "scrolled": true
   },
   "outputs": [
    {
     "data": {
      "text/html": [
       "<dl class=dl-horizontal>\n",
       "\t<dt>ENSG00000115648_MLPH_-2_238402830_G_A</dt>\n",
       "\t\t<dd>0.938600532374235</dd>\n",
       "\t<dt>ENSG00000110931_CAMKK2_-12_121680460_G_C</dt>\n",
       "\t\t<dd>0.918297370729492</dd>\n",
       "\t<dt>ENSG00000187097_ENTPD5_-14_74328905_G_T</dt>\n",
       "\t\t<dd>0.918202182624052</dd>\n",
       "\t<dt>ENSG00000099984_GSTT2_-22_24323514_C_T</dt>\n",
       "\t\t<dd>0.841237197255145</dd>\n",
       "\t<dt>ENSG00000156049_GNA14_-9_80149918_G_A</dt>\n",
       "\t\t<dd>0.831154501161388</dd>\n",
       "\t<dt>ENSG00000183735_TBK1_-12_64759820_A_G</dt>\n",
       "\t\t<dd>0.646286149177976</dd>\n",
       "</dl>\n"
      ],
      "text/latex": [
       "\\begin{description*}\n",
       "\\item[ENSG00000115648\\textbackslash{}\\_MLPH\\textbackslash{}\\_-2\\textbackslash{}\\_238402830\\textbackslash{}\\_G\\textbackslash{}\\_A] 0.938600532374235\n",
       "\\item[ENSG00000110931\\textbackslash{}\\_CAMKK2\\textbackslash{}\\_-12\\textbackslash{}\\_121680460\\textbackslash{}\\_G\\textbackslash{}\\_C] 0.918297370729492\n",
       "\\item[ENSG00000187097\\textbackslash{}\\_ENTPD5\\textbackslash{}\\_-14\\textbackslash{}\\_74328905\\textbackslash{}\\_G\\textbackslash{}\\_T] 0.918202182624052\n",
       "\\item[ENSG00000099984\\textbackslash{}\\_GSTT2\\textbackslash{}\\_-22\\textbackslash{}\\_24323514\\textbackslash{}\\_C\\textbackslash{}\\_T] 0.841237197255145\n",
       "\\item[ENSG00000156049\\textbackslash{}\\_GNA14\\textbackslash{}\\_-9\\textbackslash{}\\_80149918\\textbackslash{}\\_G\\textbackslash{}\\_A] 0.831154501161388\n",
       "\\item[ENSG00000183735\\textbackslash{}\\_TBK1\\textbackslash{}\\_-12\\textbackslash{}\\_64759820\\textbackslash{}\\_A\\textbackslash{}\\_G] 0.646286149177976\n",
       "\\end{description*}\n"
      ],
      "text/markdown": [
       "ENSG00000115648_MLPH_-2_238402830_G_A\n",
       ":   0.938600532374235ENSG00000110931_CAMKK2_-12_121680460_G_C\n",
       ":   0.918297370729492ENSG00000187097_ENTPD5_-14_74328905_G_T\n",
       ":   0.918202182624052ENSG00000099984_GSTT2_-22_24323514_C_T\n",
       ":   0.841237197255145ENSG00000156049_GNA14_-9_80149918_G_A\n",
       ":   0.831154501161388ENSG00000183735_TBK1_-12_64759820_A_G\n",
       ":   0.646286149177976\n",
       "\n"
      ],
      "text/plain": [
       "   ENSG00000115648_MLPH_-2_238402830_G_A \n",
       "                               0.9386005 \n",
       "ENSG00000110931_CAMKK2_-12_121680460_G_C \n",
       "                               0.9182974 \n",
       " ENSG00000187097_ENTPD5_-14_74328905_G_T \n",
       "                               0.9182022 \n",
       "  ENSG00000099984_GSTT2_-22_24323514_C_T \n",
       "                               0.8412372 \n",
       "   ENSG00000156049_GNA14_-9_80149918_G_A \n",
       "                               0.8311545 \n",
       "   ENSG00000183735_TBK1_-12_64759820_A_G \n",
       "                               0.6462861 "
      ]
     },
     "metadata": {},
     "output_type": "display_data"
    }
   ],
   "source": [
    "cluster = 14\n",
    "gene_list = c()\n",
    "genes = df_clusters[df_clusters$label==cluster,\"gene\"]\n",
    "for (gene in genes){\n",
    "    gene_list = c(gene_list, cor(df[rownames(cluster_summaries),gene], cluster_summaries[,cluster+1]))\n",
    "}\n",
    "names(gene_list) = genes\n",
    "gene_list = gene_list[order(gene_list, decreasing=T)]\n",
    "gene_list"
   ]
  },
  {
   "cell_type": "code",
   "execution_count": 139,
   "id": "fc8b954e",
   "metadata": {},
   "outputs": [],
   "source": [
    "## for gprofiler https://biit.cs.ut.ee/gprofiler/gost"
   ]
  },
  {
   "cell_type": "code",
   "execution_count": 140,
   "id": "bea9f86c",
   "metadata": {},
   "outputs": [
    {
     "data": {
      "text/plain": [
       "[1] MLPH   CAMKK2 ENTPD5 GSTT2  GNA14  TBK1  "
      ]
     },
     "metadata": {},
     "output_type": "display_data"
    }
   ],
   "source": [
    "# cluster 14\n",
    "noquote(gsub(\".*_\",\"\",gsub(\"_-.*\",\"\",names(gene_list))))"
   ]
  },
  {
   "cell_type": "code",
   "execution_count": 137,
   "id": "3bc4d5bb",
   "metadata": {},
   "outputs": [
    {
     "data": {
      "text/plain": [
       " [1] ARHGAP11A      TYW1B          ZNHIT3         POMZP3         CCDC58        \n",
       " [6] XAB2           SLC25A1P5      VAMP4          ZNF816-ZNF321P GPR137B       \n",
       "[11] FBP1           DECR2          SNRNP27        DISP1         "
      ]
     },
     "metadata": {},
     "output_type": "display_data"
    }
   ],
   "source": [
    "# cluster 4\n",
    "noquote(gsub(\".*_\",\"\",gsub(\"_-.*\",\"\",names(gene_list))))"
   ]
  },
  {
   "cell_type": "code",
   "execution_count": 134,
   "id": "534f2679",
   "metadata": {},
   "outputs": [
    {
     "data": {
      "text/plain": [
       " [1] PELP1    WBSCR27  MACROD2  PMS2P5   GIGYF1   RAB6A    REEP3    CSNK2B  \n",
       " [9] SYT3     APOBEC3B WBSCR16  RFTN1    LTC4S    HEXIM1   HLA-C    TMEM101 \n",
       "[17] SEMA4C   HSPA1A  "
      ]
     },
     "metadata": {},
     "output_type": "display_data"
    }
   ],
   "source": [
    "# cluster 1\n",
    "noquote(gsub(\".*_\",\"\",gsub(\"_-.*\",\"\",names(gene_list))))"
   ]
  },
  {
   "cell_type": "code",
   "execution_count": 130,
   "id": "ce728e48",
   "metadata": {},
   "outputs": [
    {
     "data": {
      "text/plain": [
       " [1] SLC9A3R1  MATN3     ZDHHC2    THNSL2    ANKS1B    CLGN      VWDE     \n",
       " [8] SLC2A14   IFI27     GSDMD     SLC25A24  ACKR3     NANOG     SH3YL1   \n",
       "[15] GTF2A2    PTGR1     C21orf119 NQO2      RBFA      IFI16     KLKB1    \n",
       "[22] CCDC109B  CRELD1    ZNF461    SAR1A     SLC22A31  TTC32     SNX25    "
      ]
     },
     "metadata": {},
     "output_type": "display_data"
    }
   ],
   "source": [
    "# cluster 12\n",
    "noquote(gsub(\".*_\",\"\",gsub(\"_-.*\",\"\",names(gene_list))))"
   ]
  },
  {
   "cell_type": "code",
   "execution_count": 127,
   "id": "4ec24f76",
   "metadata": {},
   "outputs": [
    {
     "data": {
      "text/plain": [
       " [1] CHST4    DIS3L    GLRX     USP18    CRHBP    CDC42EP3 ZNF726   TMEM38B \n",
       " [9] EPT1     NEK3     MYOCD    RCAN3    SLC2A8   ST6GAL2  SPIRE1   NTS     \n",
       "[17] CST1     MCM8     NKD2     GLIPR1L1 SP8      C6orf57  PEX6     RBCK1   \n",
       "[25] BLOC1S3  KALRN    PRAC1    HIST1H3B ITGB3BP  DPYSL4   FAM86B3P"
      ]
     },
     "metadata": {},
     "output_type": "display_data"
    }
   ],
   "source": [
    "# cluster 16\n",
    "noquote(gsub(\".*_\",\"\",gsub(\"_-.*\",\"\",names(gene_list))))"
   ]
  },
  {
   "cell_type": "code",
   "execution_count": 124,
   "id": "8a048a3d",
   "metadata": {},
   "outputs": [
    {
     "data": {
      "text/plain": [
       " [1] GMCL1      NAAA       TMEM177    DNAJC18    PPIP5K2    PALLD     \n",
       " [7] ABHD6      COL6A2     SRR        PTGR2      SLC16A9    ADCK1     \n",
       "[13] ULK4       AEN        KCNK1      SLC5A9     UPK1B      GGT1      \n",
       "[19] YEATS4     ZNF69      VASH2      TDP2       SCAMP5     STARD5    \n",
       "[25] ZNF738     SLFN12     ST6GALNAC3 METAP2     RAD51C     GPM6A     \n",
       "[31] TBXAS1     SNRNP25    MT1G       ELP5       FLOT1     "
      ]
     },
     "metadata": {},
     "output_type": "display_data"
    }
   ],
   "source": [
    "# cluster 3\n",
    "noquote(gsub(\".*_\",\"\",gsub(\"_-.*\",\"\",names(gene_list))))"
   ]
  },
  {
   "cell_type": "code",
   "execution_count": 121,
   "id": "c8ea6729",
   "metadata": {},
   "outputs": [
    {
     "data": {
      "text/plain": [
       " [1] TMEM50B   TFB1M     PELI1     LYPD2     FBLN1     C2orf40   AURKC    \n",
       " [8] CNTNAP2   SORL1     TUBBP5    FAM26F    HTR7      C8orf31   DYDC2    \n",
       "[15] RPS26     LHFP      AHSP      UPK3B     DUSP16    SURF2     NSUN5    \n",
       "[22] SMIM20    DNAJC15   ADD2      FN1       ATG10     KDM7A     BCKDHA   \n",
       "[29] ALCAM     TTC23     CBWD1     PROCR     FAH       IFITM3    CECR1    \n",
       "[36] POU5F1    GUSBP3    FAM118A   C19orf33  NIPAL1    ARHGAP24  ZDHHC19  \n",
       "[43] CCHCR1    PLAGL1    SPP1      NME7      CRHR1-IT1 S1PR3     DUS3L    \n",
       "[50] CENPU     LRRC69    PXK       C14orf119 TMED8     COBLL1    SBDSP1   \n",
       "[57] ASRGL1    CTBS      GRID2    "
      ]
     },
     "metadata": {},
     "output_type": "display_data"
    }
   ],
   "source": [
    "# cluster 9\n",
    "noquote(gsub(\".*_\",\"\",gsub(\"_-.*\",\"\",names(gene_list))))"
   ]
  },
  {
   "cell_type": "code",
   "execution_count": 118,
   "id": "4dc12721",
   "metadata": {},
   "outputs": [
    {
     "data": {
      "text/plain": [
       " [1] UCKL1        C21orf88     LIMCH1       RRN3P1       IER3        \n",
       " [6] DHDH         CRYGEP       SERPINF1     KDR          COA6        \n",
       "[11] CHST13       BST2         PPAPDC1A     HLA-DQB1     C9orf135    \n",
       "[16] ACTA1        CLDN11       CRYGD        TRBC2        CPSF1P1     \n",
       "[21] SH3BGR       TDRD7        CDRT4        RIPK4        FAM65B      \n",
       "[26] CD59         SCG5         TVP23C-CDRT4 CASP6        SPTSSB      \n",
       "[31] TMEM64       MRPL28       NANOGP1      S1PR1        DNAAF3      \n",
       "[36] RHOC         TVP23C       KRT7         STEAP2       GLB1L2      \n",
       "[41] PRKCQ        RAB17        C20orf96     CYBRD1       APOBEC3F    \n",
       "[46] TGFB1I1      CUL4A        RHOD         PLA2G4C      STEAP1B     \n",
       "[51] RNF2P1       TNNI3        CD151        ZNF749       SPINK5      \n",
       "[56] HES6         GSTT2B       LAPTM4A      PLEKHB1      MLLT3       \n",
       "[61] PLAU         PSPHP1       PLAC9        LRRC37A4P    RWDD2B      \n",
       "[66] CRYBB2P1    "
      ]
     },
     "metadata": {},
     "output_type": "display_data"
    }
   ],
   "source": [
    "# cluster 13\n",
    "noquote(gsub(\".*_\",\"\",gsub(\"_-.*\",\"\",names(gene_list))))"
   ]
  },
  {
   "cell_type": "code",
   "execution_count": 57,
   "id": "d0949826",
   "metadata": {},
   "outputs": [],
   "source": [
    "fgRes <- fgsea::fgsea(pathways = myGO, \n",
    "                           stats = gene_list1,\n",
    "#                            minSize=15,\n",
    "#                            maxSize=600,\n",
    "                           nperm=10000) %>% \n",
    "                  as.data.frame() %>% \n",
    "                  dplyr::filter(padj < !!1)"
   ]
  },
  {
   "cell_type": "code",
   "execution_count": 58,
   "id": "9451b3a0",
   "metadata": {},
   "outputs": [
    {
     "data": {
      "text/html": [
       "<table>\n",
       "<thead><tr><th scope=col>pathway</th><th scope=col>pval</th><th scope=col>padj</th><th scope=col>ES</th><th scope=col>NES</th><th scope=col>nMoreExtreme</th><th scope=col>size</th><th scope=col>leadingEdge</th></tr></thead>\n",
       "<tbody>\n",
       "</tbody>\n",
       "</table>\n"
      ],
      "text/latex": [
       "\\begin{tabular}{r|llllllll}\n",
       " pathway & pval & padj & ES & NES & nMoreExtreme & size & leadingEdge\\\\\n",
       "\\hline\n",
       "\\end{tabular}\n"
      ],
      "text/markdown": [
       "\n",
       "| pathway | pval | padj | ES | NES | nMoreExtreme | size | leadingEdge |\n",
       "|---|---|---|---|---|---|---|---|\n",
       "\n"
      ],
      "text/plain": [
       "     pathway pval padj ES NES nMoreExtreme size leadingEdge"
      ]
     },
     "metadata": {},
     "output_type": "display_data"
    }
   ],
   "source": [
    "fgRes"
   ]
  },
  {
   "cell_type": "code",
   "execution_count": null,
   "id": "4d1354b6",
   "metadata": {},
   "outputs": [],
   "source": [
    "##########################################################################################\n",
    "### approach 2: enrichment of genes correlated with each clusters (using the cluster summaries)"
   ]
  },
  {
   "cell_type": "code",
   "execution_count": 141,
   "id": "2dd34eba",
   "metadata": {},
   "outputs": [],
   "source": [
    "input_files_dir = \"/hps/nobackup/stegle/users/acuomo/all_scripts/struct_LMM2/sc_endodiff/new/input_files/\"\n",
    "# Phenotype\n",
    "phenotype_file = paste0(input_files_dir,\"phenotype.csv\")"
   ]
  },
  {
   "cell_type": "code",
   "execution_count": null,
   "id": "4a16d893",
   "metadata": {},
   "outputs": [],
   "source": [
    "# df0 = read.csv(phenotype_file, row.names=1)\n",
    "# colnames(df0) = gsub(\"\\\\.\",\"#\",colnames(df0))\n",
    "# colnames(df0) = sub(\".\",\"\",colnames(df0))\n",
    "df0[1:5,1:5]"
   ]
  },
  {
   "cell_type": "code",
   "execution_count": 159,
   "id": "e53347bd",
   "metadata": {},
   "outputs": [
    {
     "data": {
      "text/html": [
       "34256"
      ],
      "text/latex": [
       "34256"
      ],
      "text/markdown": [
       "34256"
      ],
      "text/plain": [
       "[1] 34256"
      ]
     },
     "metadata": {},
     "output_type": "display_data"
    },
    {
     "data": {
      "text/html": [
       "6784"
      ],
      "text/latex": [
       "6784"
      ],
      "text/markdown": [
       "6784"
      ],
      "text/plain": [
       "[1] 6784"
      ]
     },
     "metadata": {},
     "output_type": "display_data"
    },
    {
     "data": {
      "text/html": [
       "<table>\n",
       "<thead><tr><th></th><th scope=col>21241_6#101</th><th scope=col>21241_6#109</th><th scope=col>21241_6#112</th><th scope=col>21241_6#12</th><th scope=col>21241_6#123</th></tr></thead>\n",
       "<tbody>\n",
       "\t<tr><th scope=row>ENSG00000000003_TSPAN6</th><td>3.8440581 </td><td>5.6471515 </td><td>6.112655  </td><td>5.02743109</td><td>5.99644794</td></tr>\n",
       "\t<tr><th scope=row>ENSG00000000419_DPM1</th><td>6.0441420 </td><td>6.0754514 </td><td>7.272333  </td><td>5.70471002</td><td>5.43597484</td></tr>\n",
       "\t<tr><th scope=row>ENSG00000000457_SCYL3</th><td>0.2319908 </td><td>0.1760917 </td><td>3.277097  </td><td>0.03105648</td><td>4.06356923</td></tr>\n",
       "\t<tr><th scope=row>ENSG00000000460_C1orf112</th><td>1.0123370 </td><td>2.3431061 </td><td>3.035646  </td><td>1.64062578</td><td>0.01304527</td></tr>\n",
       "\t<tr><th scope=row>ENSG00000001036_FUCA2</th><td>0.0000000 </td><td>3.3033989 </td><td>5.531081  </td><td>3.11254960</td><td>0.00000000</td></tr>\n",
       "</tbody>\n",
       "</table>\n"
      ],
      "text/latex": [
       "\\begin{tabular}{r|lllll}\n",
       "  & 21241\\_6\\#101 & 21241\\_6\\#109 & 21241\\_6\\#112 & 21241\\_6\\#12 & 21241\\_6\\#123\\\\\n",
       "\\hline\n",
       "\tENSG00000000003\\_TSPAN6 & 3.8440581  & 5.6471515  & 6.112655   & 5.02743109 & 5.99644794\\\\\n",
       "\tENSG00000000419\\_DPM1 & 6.0441420  & 6.0754514  & 7.272333   & 5.70471002 & 5.43597484\\\\\n",
       "\tENSG00000000457\\_SCYL3 & 0.2319908  & 0.1760917  & 3.277097   & 0.03105648 & 4.06356923\\\\\n",
       "\tENSG00000000460\\_C1orf112 & 1.0123370  & 2.3431061  & 3.035646   & 1.64062578 & 0.01304527\\\\\n",
       "\tENSG00000001036\\_FUCA2 & 0.0000000  & 3.3033989  & 5.531081   & 3.11254960 & 0.00000000\\\\\n",
       "\\end{tabular}\n"
      ],
      "text/markdown": [
       "\n",
       "| <!--/--> | 21241_6#101 | 21241_6#109 | 21241_6#112 | 21241_6#12 | 21241_6#123 |\n",
       "|---|---|---|---|---|---|\n",
       "| ENSG00000000003_TSPAN6 | 3.8440581  | 5.6471515  | 6.112655   | 5.02743109 | 5.99644794 |\n",
       "| ENSG00000000419_DPM1 | 6.0441420  | 6.0754514  | 7.272333   | 5.70471002 | 5.43597484 |\n",
       "| ENSG00000000457_SCYL3 | 0.2319908  | 0.1760917  | 3.277097   | 0.03105648 | 4.06356923 |\n",
       "| ENSG00000000460_C1orf112 | 1.0123370  | 2.3431061  | 3.035646   | 1.64062578 | 0.01304527 |\n",
       "| ENSG00000001036_FUCA2 | 0.0000000  | 3.3033989  | 5.531081   | 3.11254960 | 0.00000000 |\n",
       "\n"
      ],
      "text/plain": [
       "                         21241_6#101 21241_6#109 21241_6#112 21241_6#12\n",
       "ENSG00000000003_TSPAN6   3.8440581   5.6471515   6.112655    5.02743109\n",
       "ENSG00000000419_DPM1     6.0441420   6.0754514   7.272333    5.70471002\n",
       "ENSG00000000457_SCYL3    0.2319908   0.1760917   3.277097    0.03105648\n",
       "ENSG00000000460_C1orf112 1.0123370   2.3431061   3.035646    1.64062578\n",
       "ENSG00000001036_FUCA2    0.0000000   3.3033989   5.531081    3.11254960\n",
       "                         21241_6#123\n",
       "ENSG00000000003_TSPAN6   5.99644794 \n",
       "ENSG00000000419_DPM1     5.43597484 \n",
       "ENSG00000000457_SCYL3    4.06356923 \n",
       "ENSG00000000460_C1orf112 0.01304527 \n",
       "ENSG00000001036_FUCA2    0.00000000 "
      ]
     },
     "metadata": {},
     "output_type": "display_data"
    }
   ],
   "source": [
    "df1 = df0[,rownames(cluster_summaries)]\n",
    "ncol(df0)\n",
    "ncol(df1)\n",
    "df1[1:5,1:5]"
   ]
  },
  {
   "cell_type": "code",
   "execution_count": 160,
   "id": "5f9a0f67",
   "metadata": {},
   "outputs": [
    {
     "data": {
      "text/html": [
       "11231"
      ],
      "text/latex": [
       "11231"
      ],
      "text/markdown": [
       "11231"
      ],
      "text/plain": [
       "[1] 11231"
      ]
     },
     "metadata": {},
     "output_type": "display_data"
    },
    {
     "data": {
      "text/html": [
       "<ol class=list-inline>\n",
       "\t<li>'ENSG00000000003_TSPAN6'</li>\n",
       "\t<li>'ENSG00000000419_DPM1'</li>\n",
       "\t<li>'ENSG00000000457_SCYL3'</li>\n",
       "\t<li>'ENSG00000000460_C1orf112'</li>\n",
       "\t<li>'ENSG00000001036_FUCA2'</li>\n",
       "\t<li>'ENSG00000001084_GCLC'</li>\n",
       "</ol>\n"
      ],
      "text/latex": [
       "\\begin{enumerate*}\n",
       "\\item 'ENSG00000000003\\_TSPAN6'\n",
       "\\item 'ENSG00000000419\\_DPM1'\n",
       "\\item 'ENSG00000000457\\_SCYL3'\n",
       "\\item 'ENSG00000000460\\_C1orf112'\n",
       "\\item 'ENSG00000001036\\_FUCA2'\n",
       "\\item 'ENSG00000001084\\_GCLC'\n",
       "\\end{enumerate*}\n"
      ],
      "text/markdown": [
       "1. 'ENSG00000000003_TSPAN6'\n",
       "2. 'ENSG00000000419_DPM1'\n",
       "3. 'ENSG00000000457_SCYL3'\n",
       "4. 'ENSG00000000460_C1orf112'\n",
       "5. 'ENSG00000001036_FUCA2'\n",
       "6. 'ENSG00000001084_GCLC'\n",
       "\n",
       "\n"
      ],
      "text/plain": [
       "[1] \"ENSG00000000003_TSPAN6\"   \"ENSG00000000419_DPM1\"    \n",
       "[3] \"ENSG00000000457_SCYL3\"    \"ENSG00000000460_C1orf112\"\n",
       "[5] \"ENSG00000001036_FUCA2\"    \"ENSG00000001084_GCLC\"    "
      ]
     },
     "metadata": {},
     "output_type": "display_data"
    }
   ],
   "source": [
    "genes = rownames(df1)\n",
    "length(genes)\n",
    "head(genes)"
   ]
  },
  {
   "cell_type": "code",
   "execution_count": 166,
   "id": "dac1a6db",
   "metadata": {},
   "outputs": [],
   "source": [
    "cluster = 13\n",
    "gene_list = c()\n",
    "for (gene in genes){\n",
    "    gene_list = c(gene_list, cor(as.numeric(df1[gene,]), cluster_summaries[,cluster+1]))\n",
    "}\n",
    "names(gene_list) = genes\n",
    "gene_list = gene_list[order(gene_list, decreasing=T)]"
   ]
  },
  {
   "cell_type": "code",
   "execution_count": 186,
   "id": "7cdb5bb4",
   "metadata": {},
   "outputs": [
    {
     "data": {
      "text/html": [
       "<dl class=dl-horizontal>\n",
       "\t<dt>ENSG00000136110_LECT1</dt>\n",
       "\t\t<dd>0.833498599472846</dd>\n",
       "\t<dt>ENSG00000163032_VSNL1</dt>\n",
       "\t\t<dd>0.826589066484009</dd>\n",
       "\t<dt>ENSG00000113356_POLR3G</dt>\n",
       "\t\t<dd>0.790200774005657</dd>\n",
       "\t<dt>ENSG00000136014_USP44</dt>\n",
       "\t\t<dd>0.788495214708727</dd>\n",
       "\t<dt>ENSG00000167600_CYP2S1</dt>\n",
       "\t\t<dd>0.787296687149419</dd>\n",
       "\t<dt>ENSG00000104112_SCG3</dt>\n",
       "\t\t<dd>0.766518999861284</dd>\n",
       "</dl>\n"
      ],
      "text/latex": [
       "\\begin{description*}\n",
       "\\item[ENSG00000136110\\textbackslash{}\\_LECT1] 0.833498599472846\n",
       "\\item[ENSG00000163032\\textbackslash{}\\_VSNL1] 0.826589066484009\n",
       "\\item[ENSG00000113356\\textbackslash{}\\_POLR3G] 0.790200774005657\n",
       "\\item[ENSG00000136014\\textbackslash{}\\_USP44] 0.788495214708727\n",
       "\\item[ENSG00000167600\\textbackslash{}\\_CYP2S1] 0.787296687149419\n",
       "\\item[ENSG00000104112\\textbackslash{}\\_SCG3] 0.766518999861284\n",
       "\\end{description*}\n"
      ],
      "text/markdown": [
       "ENSG00000136110_LECT1\n",
       ":   0.833498599472846ENSG00000163032_VSNL1\n",
       ":   0.826589066484009ENSG00000113356_POLR3G\n",
       ":   0.790200774005657ENSG00000136014_USP44\n",
       ":   0.788495214708727ENSG00000167600_CYP2S1\n",
       ":   0.787296687149419ENSG00000104112_SCG3\n",
       ":   0.766518999861284\n",
       "\n"
      ],
      "text/plain": [
       " ENSG00000136110_LECT1  ENSG00000163032_VSNL1 ENSG00000113356_POLR3G \n",
       "             0.8334986              0.8265891              0.7902008 \n",
       " ENSG00000136014_USP44 ENSG00000167600_CYP2S1   ENSG00000104112_SCG3 \n",
       "             0.7884952              0.7872967              0.7665190 "
      ]
     },
     "metadata": {},
     "output_type": "display_data"
    }
   ],
   "source": [
    "head(gene_list)"
   ]
  },
  {
   "cell_type": "code",
   "execution_count": 183,
   "id": "609fd1a9",
   "metadata": {},
   "outputs": [],
   "source": [
    "genes_13_pos = gene_list[gene_list>0.5]\n",
    "genes_13_neg = gene_list[gene_list<(-0.5)]\n",
    "genes_13_neg = genes_13_neg[order(genes_13_neg)]"
   ]
  },
  {
   "cell_type": "code",
   "execution_count": 174,
   "id": "e6663434",
   "metadata": {},
   "outputs": [],
   "source": [
    "# hist(gene_list)"
   ]
  },
  {
   "cell_type": "code",
   "execution_count": 182,
   "id": "31100da5",
   "metadata": {},
   "outputs": [
    {
     "name": "stdout",
     "output_type": "stream",
     "text": [
      "LECT1 VSNL1 POLR3G USP44 CYP2S1 SCG3 PHC1 THY1 LCK SOX2 NANOG CKMT1B PHC1P1 GLB1L3 CDH1 CDH3 SFRP2 VASH2 TERF1 CAMKV TRBC2 EPCAM CKMT1A DPPA4 NMRK2 PDPN ZSCAN10 CLDN7 ZDHHC22 SLC7A8 CLDN10 IDO1 CLU FAM46B CYB5A OLFML3 SLC29A1 VAT1L SEMA6A PMEL GPR160 PEBP1 SCG5 CD9 ADD2 PPAP2C GDPD2 AP1M2 SMPDL3B PTPRZ1 CLDN4 RASGRP2 TFPI TMEM125 PYCARD AK4 B3GALT1 RARRES2 SPP1 HAPLN3 GPC3 C9orf135 ESRP1 SCNN1A L1TD1 CRIP3 RAMP2 ALPL FUT3 PDGFA RPL39L UBE2L6 NPM1 ERVMER34-1 HSPE1 MAD2L2 PLP1 ICA1 BTBD17 DHRS3 CDYL GRIA4 PPAP2B SYT6 MT1X HSPD1 JAKMIP2 COX7C GGCT SYT1 SLC2A1 ZFP42 SPTSSB ANKRD18CP SPINT1 TTYH1 LRRC16A RABGAP1L LAD1 TUBB4A ADM CRABP1 NANOGP8 SPIB ITGA6 PSIP1 CD74 C1orf210 TMEM55A UGP2 STOM HHLA1 RASL11B HMGN5 TKT PIM2 KRTCAP3 ATP1A2 ERVW-1 CDCA7L CTSC RBM47 TUBA4A BCAM TRIML2 GYLTL1B GULP1 IGSF1 SLIRP AIG1 GRB7 THYN1 PIP4K2A S100A4 KHK FABP3 SERPINF1 SAMHD1 PHGDH EDNRB PPM1H ACOXL GPR143 MAP2K6 RBFOX3 GFPT2 C1orf172 OAZ2 ARG2 TIMP4 MYCN PTMA SNCG JADE1 MGST1 ZNF589 NTM LDHB CDCP1 FAR2P2 NLGN4X FAM171B DDX25 TAC3 TNNI3 ERBB2 ABHD12B PSMG4 TFDP2 HES3 PPP3CA DNMT3B S100A6 KIF1A"
     ]
    }
   ],
   "source": [
    "cat(noquote(gsub(\".*_\",\"\",names(genes_13_pos))))"
   ]
  },
  {
   "cell_type": "code",
   "execution_count": 184,
   "id": "091a3ec5",
   "metadata": {},
   "outputs": [
    {
     "name": "stdout",
     "output_type": "stream",
     "text": [
      "CER1 GATA6 FGF17 CDH2 EOMES LEPREL1 POU2AF1 CYP26A1 RHOBTB3 APOBEC3G ROR2 LHX1 ITGA5 C1orf61 CNTNAP2 SERHL2 GSC PKM WLS SERPINE2 DLC1 SERPINB9 NFKBIA ENC1 H2AFY2 DYNC1I1 TMSB10 COL5A2 APOL6 ENPP7P8 VIM MAGEB17 COL13A1 LZTS1 PLXNA2 ADAM19 CFLAR ARL4D FREM1 ACOX3 SLCO2A1 MCF2L2 LRIG3 PLSCR1 GYPB BHLHE40 COL5A1 PCDH10 VAMP8 BEST3 EPHA2 OTX2 DUSP4 TRMT44 BMP2 CCDC81 NRP1 ZNF571 APLP2 KLF8 DDAH2 RHOC ST8SIA4 IFITM1 B4GALT4 LAPTM4B COL6A1 HAS2 CYP27A1 APOBEC3F JAKMIP1 MAP2K1 GATA4 NPC2 WBP5 FBLN1 CPE NTN4 BTG2 ANGPT2 ANXA6 ELMO1 FAM89A PPAPDC1A P4HA1 SOX17 GSTO1 FLRT3 MCC ZIC3 SLC46A3 TSKU LINC00888 PREX1 FBXO34 MIXL1 AGL ACSS3 CAMK2D CRIP1 TMOD1 GYPE MYL7 H1F0 NRP2 IL6ST NPPB PRDM1 MDK MYL12A HRG SMARCD3 FSCN1 NTN1 COL6A2 MAGED1 PPP1R15A TDRD7 GRP FBN2 FAM65A CHL1 MAGI3 SULF2"
     ]
    }
   ],
   "source": [
    "cat(noquote(gsub(\".*_\",\"\",names(genes_13_neg))))"
   ]
  },
  {
   "cell_type": "code",
   "execution_count": 196,
   "id": "db0c42a1",
   "metadata": {},
   "outputs": [],
   "source": [
    "mat = matrix(0,nrow = length(genes), ncol = ncol(cluster_summaries))\n",
    "rownames(mat) = genes\n",
    "colnames(mat) = colnames(cluster_summaries)\n",
    "for (cluster in 0:16){\n",
    "    for (gene in genes){\n",
    "        mat[gene,cluster+1] = cor(as.numeric(df1[gene,]), cluster_summaries[,cluster+1])\n",
    "    }\n",
    "}"
   ]
  },
  {
   "cell_type": "code",
   "execution_count": 197,
   "id": "9ae572ec",
   "metadata": {},
   "outputs": [
    {
     "data": {
      "text/html": [
       "<table>\n",
       "<thead><tr><th></th><th scope=col>cluster0</th><th scope=col>cluster1</th><th scope=col>cluster2</th><th scope=col>cluster3</th><th scope=col>cluster4</th><th scope=col>cluster5</th><th scope=col>cluster6</th><th scope=col>cluster7</th><th scope=col>cluster8</th><th scope=col>cluster9</th><th scope=col>cluster10</th><th scope=col>cluster11</th><th scope=col>cluster12</th><th scope=col>cluster13</th><th scope=col>cluster14</th><th scope=col>cluster15</th><th scope=col>cluster16</th></tr></thead>\n",
       "<tbody>\n",
       "\t<tr><th scope=row>ENSG00000000003_TSPAN6</th><td>-0.03278743 </td><td>-0.02595152 </td><td>-0.019489200</td><td>0.20812960  </td><td>0.17928511  </td><td>-0.088145315</td><td>-0.040269599</td><td>-0.158662375</td><td>0.15397092  </td><td>-0.22751871 </td><td>-0.156336242</td><td>-0.07582469 </td><td>-0.123315748</td><td>0.16045604  </td><td>-0.036377457</td><td>-0.002197800</td><td> 0.228378584</td></tr>\n",
       "\t<tr><th scope=row>ENSG00000000419_DPM1</th><td>-0.08145661 </td><td>-0.11340380 </td><td> 0.019654544</td><td>0.20310854  </td><td>0.29530274  </td><td>-0.079552321</td><td> 0.021093978</td><td>-0.151843105</td><td>0.20247987  </td><td>-0.20891601 </td><td>-0.224050465</td><td>-0.14857201 </td><td>-0.027481700</td><td>0.13360443  </td><td>-0.011352074</td><td> 0.019903492</td><td> 0.183526454</td></tr>\n",
       "\t<tr><th scope=row>ENSG00000000457_SCYL3</th><td> 0.01138163 </td><td>-0.01006154 </td><td> 0.003808672</td><td>0.01177544  </td><td>0.03234050  </td><td>-0.047882180</td><td> 0.007956968</td><td>-0.001453939</td><td>0.03135984  </td><td>-0.01929688 </td><td>-0.008375386</td><td>-0.03011747 </td><td> 0.000307631</td><td>0.02226312  </td><td> 0.007341185</td><td>-0.010535033</td><td> 0.004225529</td></tr>\n",
       "\t<tr><th scope=row>ENSG00000000460_C1orf112</th><td>-0.02364342 </td><td>-0.13402487 </td><td> 0.078225980</td><td>0.06275032  </td><td>0.18055390  </td><td>-0.049309400</td><td> 0.016680058</td><td>-0.039126612</td><td>0.12964136  </td><td>-0.06779328 </td><td>-0.143645815</td><td>-0.09973966 </td><td> 0.053287117</td><td>0.06215576  </td><td> 0.005501806</td><td> 0.004165092</td><td> 0.025859535</td></tr>\n",
       "\t<tr><th scope=row>ENSG00000001036_FUCA2</th><td>-0.22178467 </td><td>-0.18145921 </td><td> 0.149194493</td><td>0.25267897  </td><td>0.19711342  </td><td>-0.007098826</td><td> 0.256418349</td><td>-0.072815457</td><td>0.20619317  </td><td>-0.28575780 </td><td> 0.044347077</td><td> 0.01882798 </td><td>-0.076504633</td><td>0.31591438  </td><td>-0.251135733</td><td> 0.212603173</td><td>-0.085116960</td></tr>\n",
       "\t<tr><th scope=row>ENSG00000001084_GCLC</th><td>-0.04837921 </td><td>-0.06994902 </td><td> 0.096400635</td><td>0.09821645  </td><td>0.02199214  </td><td> 0.053369134</td><td> 0.059449915</td><td>-0.008822399</td><td>0.02540003  </td><td>-0.09170745 </td><td>-0.055233689</td><td> 0.09582720 </td><td>-0.011069014</td><td>0.09428823  </td><td>-0.118771810</td><td> 0.092344802</td><td>-0.003718091</td></tr>\n",
       "</tbody>\n",
       "</table>\n"
      ],
      "text/latex": [
       "\\begin{tabular}{r|lllllllllllllllll}\n",
       "  & cluster0 & cluster1 & cluster2 & cluster3 & cluster4 & cluster5 & cluster6 & cluster7 & cluster8 & cluster9 & cluster10 & cluster11 & cluster12 & cluster13 & cluster14 & cluster15 & cluster16\\\\\n",
       "\\hline\n",
       "\tENSG00000000003\\_TSPAN6 & -0.03278743  & -0.02595152  & -0.019489200 & 0.20812960   & 0.17928511   & -0.088145315 & -0.040269599 & -0.158662375 & 0.15397092   & -0.22751871  & -0.156336242 & -0.07582469  & -0.123315748 & 0.16045604   & -0.036377457 & -0.002197800 &  0.228378584\\\\\n",
       "\tENSG00000000419\\_DPM1 & -0.08145661  & -0.11340380  &  0.019654544 & 0.20310854   & 0.29530274   & -0.079552321 &  0.021093978 & -0.151843105 & 0.20247987   & -0.20891601  & -0.224050465 & -0.14857201  & -0.027481700 & 0.13360443   & -0.011352074 &  0.019903492 &  0.183526454\\\\\n",
       "\tENSG00000000457\\_SCYL3 &  0.01138163  & -0.01006154  &  0.003808672 & 0.01177544   & 0.03234050   & -0.047882180 &  0.007956968 & -0.001453939 & 0.03135984   & -0.01929688  & -0.008375386 & -0.03011747  &  0.000307631 & 0.02226312   &  0.007341185 & -0.010535033 &  0.004225529\\\\\n",
       "\tENSG00000000460\\_C1orf112 & -0.02364342  & -0.13402487  &  0.078225980 & 0.06275032   & 0.18055390   & -0.049309400 &  0.016680058 & -0.039126612 & 0.12964136   & -0.06779328  & -0.143645815 & -0.09973966  &  0.053287117 & 0.06215576   &  0.005501806 &  0.004165092 &  0.025859535\\\\\n",
       "\tENSG00000001036\\_FUCA2 & -0.22178467  & -0.18145921  &  0.149194493 & 0.25267897   & 0.19711342   & -0.007098826 &  0.256418349 & -0.072815457 & 0.20619317   & -0.28575780  &  0.044347077 &  0.01882798  & -0.076504633 & 0.31591438   & -0.251135733 &  0.212603173 & -0.085116960\\\\\n",
       "\tENSG00000001084\\_GCLC & -0.04837921  & -0.06994902  &  0.096400635 & 0.09821645   & 0.02199214   &  0.053369134 &  0.059449915 & -0.008822399 & 0.02540003   & -0.09170745  & -0.055233689 &  0.09582720  & -0.011069014 & 0.09428823   & -0.118771810 &  0.092344802 & -0.003718091\\\\\n",
       "\\end{tabular}\n"
      ],
      "text/markdown": [
       "\n",
       "| <!--/--> | cluster0 | cluster1 | cluster2 | cluster3 | cluster4 | cluster5 | cluster6 | cluster7 | cluster8 | cluster9 | cluster10 | cluster11 | cluster12 | cluster13 | cluster14 | cluster15 | cluster16 |\n",
       "|---|---|---|---|---|---|---|---|---|---|---|---|---|---|---|---|---|---|\n",
       "| ENSG00000000003_TSPAN6 | -0.03278743  | -0.02595152  | -0.019489200 | 0.20812960   | 0.17928511   | -0.088145315 | -0.040269599 | -0.158662375 | 0.15397092   | -0.22751871  | -0.156336242 | -0.07582469  | -0.123315748 | 0.16045604   | -0.036377457 | -0.002197800 |  0.228378584 |\n",
       "| ENSG00000000419_DPM1 | -0.08145661  | -0.11340380  |  0.019654544 | 0.20310854   | 0.29530274   | -0.079552321 |  0.021093978 | -0.151843105 | 0.20247987   | -0.20891601  | -0.224050465 | -0.14857201  | -0.027481700 | 0.13360443   | -0.011352074 |  0.019903492 |  0.183526454 |\n",
       "| ENSG00000000457_SCYL3 |  0.01138163  | -0.01006154  |  0.003808672 | 0.01177544   | 0.03234050   | -0.047882180 |  0.007956968 | -0.001453939 | 0.03135984   | -0.01929688  | -0.008375386 | -0.03011747  |  0.000307631 | 0.02226312   |  0.007341185 | -0.010535033 |  0.004225529 |\n",
       "| ENSG00000000460_C1orf112 | -0.02364342  | -0.13402487  |  0.078225980 | 0.06275032   | 0.18055390   | -0.049309400 |  0.016680058 | -0.039126612 | 0.12964136   | -0.06779328  | -0.143645815 | -0.09973966  |  0.053287117 | 0.06215576   |  0.005501806 |  0.004165092 |  0.025859535 |\n",
       "| ENSG00000001036_FUCA2 | -0.22178467  | -0.18145921  |  0.149194493 | 0.25267897   | 0.19711342   | -0.007098826 |  0.256418349 | -0.072815457 | 0.20619317   | -0.28575780  |  0.044347077 |  0.01882798  | -0.076504633 | 0.31591438   | -0.251135733 |  0.212603173 | -0.085116960 |\n",
       "| ENSG00000001084_GCLC | -0.04837921  | -0.06994902  |  0.096400635 | 0.09821645   | 0.02199214   |  0.053369134 |  0.059449915 | -0.008822399 | 0.02540003   | -0.09170745  | -0.055233689 |  0.09582720  | -0.011069014 | 0.09428823   | -0.118771810 |  0.092344802 | -0.003718091 |\n",
       "\n"
      ],
      "text/plain": [
       "                         cluster0    cluster1    cluster2     cluster3  \n",
       "ENSG00000000003_TSPAN6   -0.03278743 -0.02595152 -0.019489200 0.20812960\n",
       "ENSG00000000419_DPM1     -0.08145661 -0.11340380  0.019654544 0.20310854\n",
       "ENSG00000000457_SCYL3     0.01138163 -0.01006154  0.003808672 0.01177544\n",
       "ENSG00000000460_C1orf112 -0.02364342 -0.13402487  0.078225980 0.06275032\n",
       "ENSG00000001036_FUCA2    -0.22178467 -0.18145921  0.149194493 0.25267897\n",
       "ENSG00000001084_GCLC     -0.04837921 -0.06994902  0.096400635 0.09821645\n",
       "                         cluster4   cluster5     cluster6     cluster7    \n",
       "ENSG00000000003_TSPAN6   0.17928511 -0.088145315 -0.040269599 -0.158662375\n",
       "ENSG00000000419_DPM1     0.29530274 -0.079552321  0.021093978 -0.151843105\n",
       "ENSG00000000457_SCYL3    0.03234050 -0.047882180  0.007956968 -0.001453939\n",
       "ENSG00000000460_C1orf112 0.18055390 -0.049309400  0.016680058 -0.039126612\n",
       "ENSG00000001036_FUCA2    0.19711342 -0.007098826  0.256418349 -0.072815457\n",
       "ENSG00000001084_GCLC     0.02199214  0.053369134  0.059449915 -0.008822399\n",
       "                         cluster8   cluster9    cluster10    cluster11  \n",
       "ENSG00000000003_TSPAN6   0.15397092 -0.22751871 -0.156336242 -0.07582469\n",
       "ENSG00000000419_DPM1     0.20247987 -0.20891601 -0.224050465 -0.14857201\n",
       "ENSG00000000457_SCYL3    0.03135984 -0.01929688 -0.008375386 -0.03011747\n",
       "ENSG00000000460_C1orf112 0.12964136 -0.06779328 -0.143645815 -0.09973966\n",
       "ENSG00000001036_FUCA2    0.20619317 -0.28575780  0.044347077  0.01882798\n",
       "ENSG00000001084_GCLC     0.02540003 -0.09170745 -0.055233689  0.09582720\n",
       "                         cluster12    cluster13  cluster14    cluster15   \n",
       "ENSG00000000003_TSPAN6   -0.123315748 0.16045604 -0.036377457 -0.002197800\n",
       "ENSG00000000419_DPM1     -0.027481700 0.13360443 -0.011352074  0.019903492\n",
       "ENSG00000000457_SCYL3     0.000307631 0.02226312  0.007341185 -0.010535033\n",
       "ENSG00000000460_C1orf112  0.053287117 0.06215576  0.005501806  0.004165092\n",
       "ENSG00000001036_FUCA2    -0.076504633 0.31591438 -0.251135733  0.212603173\n",
       "ENSG00000001084_GCLC     -0.011069014 0.09428823 -0.118771810  0.092344802\n",
       "                         cluster16   \n",
       "ENSG00000000003_TSPAN6    0.228378584\n",
       "ENSG00000000419_DPM1      0.183526454\n",
       "ENSG00000000457_SCYL3     0.004225529\n",
       "ENSG00000000460_C1orf112  0.025859535\n",
       "ENSG00000001036_FUCA2    -0.085116960\n",
       "ENSG00000001084_GCLC     -0.003718091"
      ]
     },
     "metadata": {},
     "output_type": "display_data"
    }
   ],
   "source": [
    "df_mat = as.data.frame(mat)\n",
    "head(df_mat)\n",
    "write.csv(df_mat, \"/hps/nobackup/stegle/users/acuomo/all_scripts/struct_LMM2/sc_endodiff/debug_May2021/genetic_effect/gene_expression_correlation_cluster_summaries.csv\")"
   ]
  },
  {
   "cell_type": "code",
   "execution_count": 210,
   "id": "4f44b134",
   "metadata": {},
   "outputs": [
    {
     "data": {
      "image/png": "[encoded data removed]",
      "text/plain": [
       "Plot with title “Histogram of df_mat[, \"cluster13\"]”"
      ]
     },
     "metadata": {},
     "output_type": "display_data"
    }
   ],
   "source": [
    "# 13, 9, 3, 16, 12, 1, 4, 6, 2, 7, 0, 11, 14, 10, 8, 5, 15\n",
    "hist(df_mat[,\"cluster13\"])"
   ]
  },
  {
   "cell_type": "code",
   "execution_count": 209,
   "id": "ca25feb6",
   "metadata": {
    "scrolled": true
   },
   "outputs": [
    {
     "data": {
      "image/png": "[encoded data removed]",
      "text/plain": [
       "Plot with title “Histogram of gene_list”"
      ]
     },
     "metadata": {},
     "output_type": "display_data"
    }
   ],
   "source": [
    "########### cluster 9\n",
    "gene_list = df_mat[,\"cluster9\"]\n",
    "names(gene_list) = rownames(df_mat)\n",
    "options(repr.plot.width = 6, repr.plot.height = 3)\n",
    "hist(gene_list)"
   ]
  },
  {
   "cell_type": "code",
   "execution_count": 204,
   "id": "7ab822ec",
   "metadata": {},
   "outputs": [
    {
     "data": {
      "text/html": [
       "<ol class=list-inline>\n",
       "\t<li>124</li>\n",
       "\t<li>183</li>\n",
       "</ol>\n"
      ],
      "text/latex": [
       "\\begin{enumerate*}\n",
       "\\item 124\n",
       "\\item 183\n",
       "\\end{enumerate*}\n"
      ],
      "text/markdown": [
       "1. 124\n",
       "2. 183\n",
       "\n",
       "\n"
      ],
      "text/plain": [
       "[1] 124 183"
      ]
     },
     "metadata": {},
     "output_type": "display_data"
    }
   ],
   "source": [
    "genes_9_pos = gene_list[gene_list>0.5]\n",
    "genes_9_neg = gene_list[gene_list<(-0.5)]\n",
    "c(length(genes_9_pos), length(genes_9_neg))"
   ]
  },
  {
   "cell_type": "code",
   "execution_count": 205,
   "id": "ac3345cc",
   "metadata": {},
   "outputs": [],
   "source": [
    "genes_9_pos = genes_9_pos[order(genes_9_pos, decreasing = T)]\n",
    "genes_9_neg = genes_9_neg[order(genes_9_neg)]"
   ]
  },
  {
   "cell_type": "code",
   "execution_count": 206,
   "id": "3b725435",
   "metadata": {},
   "outputs": [
    {
     "name": "stdout",
     "output_type": "stream",
     "text": [
      "FGF17 CER1 RHOBTB3 GATA6 APOL6 APOBEC3G LEPREL1 POU2AF1 CYP26A1 CCDC81 CDH2 SERHL2 BEST3 EOMES FREM1 LHX1 MAGEB17 CNTNAP2 ROR2 CFLAR SERPINB9 TRMT44 DUSP4 ACOX3 COL5A2 GSC MCF2L2 SOX17 ARL4D TMSB10 ZNF571 IFITM1 KLF8 ITGA5 NFKBIA C1orf61 ENPP7P8 DLC1 PKM GYPB DYNC1I1 ADAM19 PLXNA2 OTX2 CPE ST8SIA4 B4GALT4 PLSCR1 CYP27A1 LAPTM4B LRIG3 PCDH10 PRDM1 VIM SLCO2A1 AGL H2AFY2 TDRD7 SEMA3E BTG2 COL13A1 APOBEC3F ENC1 CAMK2D GATA4 VAMP8 BMP2 CCKBR HAS2 MAP2K1 APLP2 LZTS1 NTN4 DDAH2 ANGPT2 ELMO1 CD99 SERPINE2 COL6A1 GATM MGST2 LINC00888 H1F0 WLS JAKMIP1 HRG MDK WBP5 ANXA6 DIO3 SMARCD3 RHOC OVCH2 COLEC12 MAGED1 GPSM2 PPAPDC1A COL5A1 COL6A2 PLSCR2 P4HA1 FBXO34 EPSTI1 S1PR3 SLC35A3 BNIP3 MYL7 ZIC3 FBLN1 TMOD1 EPHA2 TTC3 CRIP1 NPC2 NRP2 MAGED2 KCNK12 MRPL22 PIK3R5 FAM65A DACT2 BHLHE40 MCC SERPINB6"
     ]
    }
   ],
   "source": [
    "cat(noquote(gsub(\".*_\",\"\",names(genes_9_pos))))"
   ]
  },
  {
   "cell_type": "code",
   "execution_count": 207,
   "id": "7d1a42ac",
   "metadata": {},
   "outputs": [
    {
     "name": "stdout",
     "output_type": "stream",
     "text": [
      "LECT1 POLR3G VSNL1 SCG3 SFRP2 THY1 CYP2S1 USP44 CKMT1B TERF1 PHC1 NPM1 CKMT1A GLB1L3 PDPN HSPD1 HSPE1 LCK CLU NANOG SOX2 PHC1P1 VASH2 CDH1 ZDHHC22 CAMKV CLDN10 NME1 SLC7A8 TRBC2 ERVMER34-1 ZSCAN10 PTMA MT1X DPPA4 RARRES2 NMRK2 PEBP1 ADD2 SEMA6A FABP5 LDHB ZFP42 CDH3 L1TD1 B3GALT1 OLFML3 C1QBP PTPRZ1 SLIRP CYB5A FAM46B PMEL MAD2L2 GGCT SPP1 SERBP1 VAT1L GPC3 GPR160 HAPLN3 CLDN7 NOP16 AP1M2 IDO1 SCG5 SMPDL3B SLC29A1 SLC2A1 COTL1 PYCARD TUBA4A ALPL PAK1IP1 CD9 GDPD2 TMEM125 MCM3 PAICS RASGRP2 EPCAM TMX1 HPRT1 EEF1E1 RAMP2 HMGN5 C9orf135 SCNN1A PDGFA TOMM5 CDCA7L SSBP1 TKT RAN CDYL UBE2L6 HSPA9 MCM4 PPAP2B PROM1 PMAIP1 ADM RSL1D1 CLDN4 CRIP3 HSP90AB1 AK4 UGP2 DCAF13 TIMM8A FAM64A PCNA PHGDH BTBD17 PPAP2C GULP1 CCND1 CYCS PSMB10 GRIA4 SYT6 CRABP1 PLP1 NASP PSMG4 RPL22L1 RRS1 RASL11B SPIB JAKMIP2 ADSL STOM DNMT3B SNRPD1 LAD1 NANOGP8 ABRACL ESRP1 GPATCH4 RRM2 EXOSC5 IMP3 TSR1 CD74 SLC1A5 NEFM HSPA8 TXLNG DEK GINS2 ARG2 COX7C TTYH1 LYAR NOLC1 MGST1 DSCC1 MCM5 CSRP2 DPYSL2 PPP3CA JADE1 TIMM13 CMTM7 MRPL3 TIMP4 CEBPZ SYT1 SPTSSB APEX1 RPF2 KHK DHRS3 EFEMP1 BCAT1 AIG1 WDR12 AIF1L SPINT1 NCL GMNN FARSB KRTCAP3"
     ]
    }
   ],
   "source": [
    "cat(noquote(gsub(\".*_\",\"\",names(genes_9_neg))))"
   ]
  },
  {
   "cell_type": "code",
   "execution_count": 211,
   "id": "77e67e46",
   "metadata": {},
   "outputs": [
    {
     "data": {
      "image/png": "[encoded data removed]",
      "text/plain": [
       "Plot with title “Histogram of gene_list”"
      ]
     },
     "metadata": {},
     "output_type": "display_data"
    }
   ],
   "source": [
    "########### cluster 3\n",
    "gene_list = df_mat[,\"cluster3\"]\n",
    "names(gene_list) = rownames(df_mat)\n",
    "options(repr.plot.width = 6, repr.plot.height = 3)\n",
    "hist(gene_list)"
   ]
  },
  {
   "cell_type": "code",
   "execution_count": 212,
   "id": "71d4724f",
   "metadata": {},
   "outputs": [
    {
     "data": {
      "text/html": [
       "<ol class=list-inline>\n",
       "\t<li>156</li>\n",
       "\t<li>90</li>\n",
       "</ol>\n"
      ],
      "text/latex": [
       "\\begin{enumerate*}\n",
       "\\item 156\n",
       "\\item 90\n",
       "\\end{enumerate*}\n"
      ],
      "text/markdown": [
       "1. 156\n",
       "2. 90\n",
       "\n",
       "\n"
      ],
      "text/plain": [
       "[1] 156  90"
      ]
     },
     "metadata": {},
     "output_type": "display_data"
    }
   ],
   "source": [
    "genes_3_pos = gene_list[gene_list>0.5]\n",
    "genes_3_neg = gene_list[gene_list<(-0.5)]\n",
    "c(length(genes_3_pos), length(genes_3_neg))"
   ]
  },
  {
   "cell_type": "code",
   "execution_count": 213,
   "id": "a354603c",
   "metadata": {},
   "outputs": [],
   "source": [
    "genes_3_pos = genes_3_pos[order(genes_3_pos, decreasing = T)]\n",
    "genes_3_neg = genes_3_neg[order(genes_3_neg)]"
   ]
  },
  {
   "cell_type": "code",
   "execution_count": 215,
   "id": "22976872",
   "metadata": {},
   "outputs": [
    {
     "name": "stdout",
     "output_type": "stream",
     "text": [
      "POLR3G LECT1 VSNL1 TERF1 THY1 NPM1 PTMA SFRP2 USP44 PHC1 SCG3 HSPD1 NME1 CYP2S1 HSPE1 PDPN TRBC2 CKMT1B SOX2 ZDHHC22 PHC1P1 GLB1L3 MT1X LCK CAMKV VASH2 LDHB CLU CKMT1A C1QBP MAD2L2 CLDN10 ERVMER34-1 ZFP42 FAM46B FABP5 FAM64A B3GALT1 SERBP1 RARRES2 RRM2 COTL1 NOP16 HAPLN3 SLIRP SLC7A8 PEBP1 ZSCAN10 DPPA4 PAICS OLFML3 NANOG SPP1 IDO1 TUBA4A ADD2 RAN GGCT GDPD2 EEF1E1 SLC2A1 SEMA6A PAK1IP1 RASGRP2 MCM3 CDH1 HPRT1 NMRK2 TMX1 L1TD1 PTPRZ1 TOMM5 PCNA NASP C9orf135 HSPA9 MCM4 CYCS VAT1L SNRPD1 GPR160 GPC3 PMEL ADM SCG5 TMEM125 TKT RSL1D1 BTBD17 PMAIP1 RAMP2 PDGFA SLC29A1 RPL22L1 DNMT3B DCAF13 SSBP1 CYB5A MCM7 PYCARD GPATCH4 BUB3 HSP90AB1 EXOSC5 SLC1A5 CDCA7L GMNN PPAP2B CENPU KPNA2 UGP2 HMGN5 ADSL SKA3 PHGDH DEK SMPDL3B UBE2L6 CMTM7 SNRPB PSMB10 BCAT1 TSR1 SPIB IMP3 GINS2 CLDN4 GRIA4 TIMM8A DPYSL2 DSCC1 CDH3 FARSB LYAR HSPA8 OIP5 CDYL H2AFZ SYT6 TIMM13 TRIML2 ZWINT BUB1B CRIP3 PROM1 JADE1 NCL CDCA5 CENPF NOLC1 RRS1 ALPL PLP1 CSRP2 AP1M2 SCNN1A"
     ]
    }
   ],
   "source": [
    "cat(noquote(gsub(\".*_\",\"\",names(genes_3_pos))))"
   ]
  },
  {
   "cell_type": "code",
   "execution_count": 214,
   "id": "3f9ff729",
   "metadata": {},
   "outputs": [
    {
     "name": "stdout",
     "output_type": "stream",
     "text": [
      "FGF17 CER1 APOL6 RHOBTB3 CDH2 CCDC81 GATA6 BEST3 EOMES SERPINB9 LEPREL1 IFITM1 CNTNAP2 FREM1 APOBEC3G POU2AF1 CYP26A1 SOX17 MAGEB17 SERHL2 ROR2 TRMT44 DUSP4 GSC ZNF571 ACOX3 CFLAR LHX1 ENPP7P8 KLF8 PRDM1 COL5A2 ADAM19 TMSB10 SEMA3E MCF2L2 TDRD7 ARL4D DLC1 ST8SIA4 MGST2 PCDH10 CPE GATM VAMP8 AGL CYP27A1 NFKBIA H2AFY2 OTX2 C1orf61 LAPTM4B LRIG3 ITGA5 PLXNA2 PLSCR1 GYPB BTG2 CCKBR GATA4 CAMK2D DIO3 BNIP3 B4GALT4 SLCO2A1 PKM DYNC1I1 APLP2 COLEC12 HRG HAS2 EPSTI1 OVCH2 CD99 S1PR3 APOBEC3F COL6A1 VIM KCNK12 PITX2 MAGED1 BNIP3P1 MDK H1F0 DDAH2 COL6A2 WBP5 TTC3 LINC00888 GPSM2"
     ]
    }
   ],
   "source": [
    "cat(noquote(gsub(\".*_\",\"\",names(genes_3_neg))))"
   ]
  },
  {
   "cell_type": "code",
   "execution_count": 1,
   "id": "58f72fe0",
   "metadata": {},
   "outputs": [],
   "source": [
    "library(gprofiler2)"
   ]
  },
  {
   "cell_type": "code",
   "execution_count": 2,
   "id": "d66077b2",
   "metadata": {},
   "outputs": [
    {
     "ename": "ERROR",
     "evalue": "Error in gost(genes_3_pos): object 'genes_3_pos' not found\n",
     "output_type": "error",
     "traceback": [
      "Error in gost(genes_3_pos): object 'genes_3_pos' not found\nTraceback:\n",
      "1. gost(genes_3_pos)"
     ]
    }
   ],
   "source": [
    "gostres = gost(genes_3_pos)"
   ]
  },
  {
   "cell_type": "code",
   "execution_count": null,
   "id": "d488aa13",
   "metadata": {},
   "outputs": [],
   "source": []
  }
 ],
 "metadata": {
  "kernelspec": {
   "display_name": "R",
   "language": "R",
   "name": "ir"
  },
  "language_info": {
   "codemirror_mode": "r",
   "file_extension": ".r",
   "mimetype": "text/x-r-source",
   "name": "R",
   "pygments_lexer": "r",
   "version": "3.6.1"
  }
 },
 "nbformat": 4,
 "nbformat_minor": 5
}
