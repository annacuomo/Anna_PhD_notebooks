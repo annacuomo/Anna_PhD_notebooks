{
 "cells": [
  {
   "cell_type": "code",
   "execution_count": 1,
   "metadata": {},
   "outputs": [],
   "source": [
    "# library(dplyr)"
   ]
  },
  {
   "cell_type": "code",
   "execution_count": 15,
   "metadata": {},
   "outputs": [],
   "source": [
    "sce = readRDS(\"/hps/nobackup/hipsci/scratch/singlecell_endodiff/data_processed/merged/20180618/sce_merged_afterqc_filt_allexpts.rds\")"
   ]
  },
  {
   "cell_type": "code",
   "execution_count": 17,
   "metadata": {},
   "outputs": [
    {
     "data": {
      "text/plain": [
       "class: SingleCellExperiment \n",
       "dim: 11231 36044 \n",
       "metadata(4): log.exprs.offset log.exprs.offset log.exprs.offset\n",
       "  log.exprs.offset\n",
       "assays(3): tpm counts logcounts\n",
       "rownames(11231): ENSG00000000003_TSPAN6 ENSG00000000419_DPM1 ...\n",
       "  ENSG00000272325_NUDT3 ENSG00000272398_CD24\n",
       "rowData names(17): exprs_collapsed_to ensembl_transcript_id ...\n",
       "  is_intop2000hvg is_hvg\n",
       "colnames(36044): 21843_1#10 21843_1#100 ... 24539_8#97 24539_8#98\n",
       "colData names(123): adj_x adj_y ... princ_curve princ_curve_scaled01\n",
       "reducedDimNames(1): PCA\n",
       "spikeNames(1): ERCC\n",
       "altExpNames(0):"
      ]
     },
     "metadata": {},
     "output_type": "display_data"
    }
   ],
   "source": [
    "sce"
   ]
  },
  {
   "cell_type": "code",
   "execution_count": 18,
   "metadata": {},
   "outputs": [
    {
     "name": "stderr",
     "output_type": "stream",
     "text": [
      "ERROR while rich displaying an object: Error in sprintf(wrap, header, body): 'fmt' length exceeds maximal format length 8192\n",
      "\n",
      "Traceback:\n",
      "1. FUN(X[[i]], ...)\n",
      "2. tryCatch(withCallingHandlers({\n",
      " .     if (!mime %in% names(repr::mime2repr)) \n",
      " .         stop(\"No repr_* for mimetype \", mime, \" in repr::mime2repr\")\n",
      " .     rpr <- repr::mime2repr[[mime]](obj)\n",
      " .     if (is.null(rpr)) \n",
      " .         return(NULL)\n",
      " .     prepare_content(is.raw(rpr), rpr)\n",
      " . }, error = error_handler), error = outer_handler)\n",
      "3. tryCatchList(expr, classes, parentenv, handlers)\n",
      "4. tryCatchOne(expr, names, parentenv, handlers[[1L]])\n",
      "5. doTryCatch(return(expr), name, parentenv, handler)\n",
      "6. withCallingHandlers({\n",
      " .     if (!mime %in% names(repr::mime2repr)) \n",
      " .         stop(\"No repr_* for mimetype \", mime, \" in repr::mime2repr\")\n",
      " .     rpr <- repr::mime2repr[[mime]](obj)\n",
      " .     if (is.null(rpr)) \n",
      " .         return(NULL)\n",
      " .     prepare_content(is.raw(rpr), rpr)\n",
      " . }, error = error_handler)\n",
      "7. repr::mime2repr[[mime]](obj)\n",
      "8. repr_latex.matrix(obj)\n",
      "9. repr_matrix_generic(obj, sprintf(\"\\\\begin{tabular}{%s}\\n%%s%%s\\\\end{tabular}\\n\", \n",
      " .     cols), \"%s\\\\\\\\\\n\\\\hline\\n\", \"  &\", \" %s &\", \"%s\", \"\\t%s\\\\\\\\\\n\", \n",
      " .     \"%s &\", \" %s &\", escape_fun = latex_escape_vec, ...)\n",
      "10. sprintf(wrap, header, body)\n"
     ]
    },
    {
     "data": {
      "text/html": [
       "<table>\n",
       "<thead><tr><th></th><th scope=col>PC1</th><th scope=col>PC2</th><th scope=col>PC3</th><th scope=col>PC4</th><th scope=col>PC5</th><th scope=col>PC6</th><th scope=col>PC7</th><th scope=col>PC8</th><th scope=col>PC9</th><th scope=col>PC10</th><th scope=col>...</th><th scope=col>PC11222</th><th scope=col>PC11223</th><th scope=col>PC11224</th><th scope=col>PC11225</th><th scope=col>PC11226</th><th scope=col>PC11227</th><th scope=col>PC11228</th><th scope=col>PC11229</th><th scope=col>PC11230</th><th scope=col>PC11231</th></tr></thead>\n",
       "<tbody>\n",
       "\t<tr><th scope=row>21843_1#10</th><td>-23.227679  </td><td> -6.0009258 </td><td>-32.68624   </td><td> -0.7904285 </td><td>-12.584615  </td><td>-13.4459846 </td><td>-15.788099  </td><td> -5.9075634 </td><td>  7.575801  </td><td> 1.7204686  </td><td>...         </td><td> 0.02600810 </td><td> 0.20191467 </td><td> 0.07853953 </td><td> 0.36882114 </td><td>-0.01420292 </td><td>-0.22538482 </td><td>-0.12418367 </td><td> 0.24993465 </td><td>-0.05775163 </td><td>-0.007163219</td></tr>\n",
       "\t<tr><th scope=row>21843_1#100</th><td> 13.571592  </td><td>  7.8418443 </td><td>-47.41864   </td><td>-11.0722754 </td><td> -9.363870  </td><td> -8.3934704 </td><td> -5.404028  </td><td>  0.2771606 </td><td>-14.956195  </td><td>11.5546540  </td><td>...         </td><td>-0.04382482 </td><td> 0.18493760 </td><td>-0.08530492 </td><td>-0.09427262 </td><td>-0.11665462 </td><td> 0.37198748 </td><td> 0.23043800 </td><td> 0.25159334 </td><td> 0.04316014 </td><td> 0.023618341</td></tr>\n",
       "\t<tr><th scope=row>21843_1#101</th><td> -7.832704  </td><td>-11.1778749 </td><td>-43.90159   </td><td> -6.3643469 </td><td> -9.685120  </td><td> -1.6502613 </td><td> -6.636440  </td><td> -3.7294354 </td><td> -5.597625  </td><td> 2.3217678  </td><td>...         </td><td>-0.14964073 </td><td>-0.03390775 </td><td>-0.02680538 </td><td> 0.05879037 </td><td> 0.09398908 </td><td> 0.13524005 </td><td>-0.06011713 </td><td>-0.03516413 </td><td>-0.03478412 </td><td> 0.006905351</td></tr>\n",
       "\t<tr><th scope=row>21843_1#102</th><td>-29.235707  </td><td> -0.7913266 </td><td>-28.76609   </td><td> -0.6348420 </td><td> -9.783291  </td><td>-11.6102220 </td><td>-16.771528  </td><td>-13.7352534 </td><td>  5.783761  </td><td>-1.9236940  </td><td>...         </td><td>-0.21559489 </td><td> 0.05345536 </td><td> 0.03255812 </td><td>-0.06300694 </td><td>-0.01876697 </td><td> 0.19128796 </td><td> 0.10911190 </td><td>-0.11057070 </td><td>-0.03363305 </td><td>-0.019938914</td></tr>\n",
       "\t<tr><th scope=row>21843_1#103</th><td>-18.718534  </td><td>-11.3441004 </td><td>-33.91354   </td><td> -7.4310880 </td><td> -6.942560  </td><td> -0.8479096 </td><td> -8.440198  </td><td> -7.9938275 </td><td>  8.287621  </td><td>-0.5456826  </td><td>...         </td><td> 0.05154399 </td><td> 0.08267765 </td><td>-0.07190234 </td><td>-0.11272162 </td><td> 0.05047582 </td><td>-0.02738050 </td><td> 0.06832835 </td><td> 0.03173459 </td><td> 0.04149785 </td><td> 0.031291337</td></tr>\n",
       "\t<tr><th scope=row>21843_1#105</th><td>-17.234983  </td><td>-15.0690889 </td><td>-33.02414   </td><td>-16.6611149 </td><td>-10.665460  </td><td> -5.3639742 </td><td> -1.308154  </td><td> -3.3771144 </td><td> -2.133909  </td><td>-5.9796761  </td><td>...         </td><td> 0.19799677 </td><td> 0.12883183 </td><td> 0.01369757 </td><td> 0.07500173 </td><td> 0.02315921 </td><td> 0.02504725 </td><td>-0.11466582 </td><td>-0.02050860 </td><td>-0.07013681 </td><td> 0.014025219</td></tr>\n",
       "</tbody>\n",
       "</table>\n"
      ],
      "text/markdown": [
       "\n",
       "| <!--/--> | PC1 | PC2 | PC3 | PC4 | PC5 | PC6 | PC7 | PC8 | PC9 | PC10 | ... | PC11222 | PC11223 | PC11224 | PC11225 | PC11226 | PC11227 | PC11228 | PC11229 | PC11230 | PC11231 |\n",
       "|---|---|---|---|---|---|---|---|---|---|---|---|---|---|---|---|---|---|---|---|---|---|\n",
       "| 21843_1#10 | -23.227679   |  -6.0009258  | -32.68624    |  -0.7904285  | -12.584615   | -13.4459846  | -15.788099   |  -5.9075634  |   7.575801   |  1.7204686   | ...          |  0.02600810  |  0.20191467  |  0.07853953  |  0.36882114  | -0.01420292  | -0.22538482  | -0.12418367  |  0.24993465  | -0.05775163  | -0.007163219 |\n",
       "| 21843_1#100 |  13.571592   |   7.8418443  | -47.41864    | -11.0722754  |  -9.363870   |  -8.3934704  |  -5.404028   |   0.2771606  | -14.956195   | 11.5546540   | ...          | -0.04382482  |  0.18493760  | -0.08530492  | -0.09427262  | -0.11665462  |  0.37198748  |  0.23043800  |  0.25159334  |  0.04316014  |  0.023618341 |\n",
       "| 21843_1#101 |  -7.832704   | -11.1778749  | -43.90159    |  -6.3643469  |  -9.685120   |  -1.6502613  |  -6.636440   |  -3.7294354  |  -5.597625   |  2.3217678   | ...          | -0.14964073  | -0.03390775  | -0.02680538  |  0.05879037  |  0.09398908  |  0.13524005  | -0.06011713  | -0.03516413  | -0.03478412  |  0.006905351 |\n",
       "| 21843_1#102 | -29.235707   |  -0.7913266  | -28.76609    |  -0.6348420  |  -9.783291   | -11.6102220  | -16.771528   | -13.7352534  |   5.783761   | -1.9236940   | ...          | -0.21559489  |  0.05345536  |  0.03255812  | -0.06300694  | -0.01876697  |  0.19128796  |  0.10911190  | -0.11057070  | -0.03363305  | -0.019938914 |\n",
       "| 21843_1#103 | -18.718534   | -11.3441004  | -33.91354    |  -7.4310880  |  -6.942560   |  -0.8479096  |  -8.440198   |  -7.9938275  |   8.287621   | -0.5456826   | ...          |  0.05154399  |  0.08267765  | -0.07190234  | -0.11272162  |  0.05047582  | -0.02738050  |  0.06832835  |  0.03173459  |  0.04149785  |  0.031291337 |\n",
       "| 21843_1#105 | -17.234983   | -15.0690889  | -33.02414    | -16.6611149  | -10.665460   |  -5.3639742  |  -1.308154   |  -3.3771144  |  -2.133909   | -5.9796761   | ...          |  0.19799677  |  0.12883183  |  0.01369757  |  0.07500173  |  0.02315921  |  0.02504725  | -0.11466582  | -0.02050860  | -0.07013681  |  0.014025219 |\n",
       "\n"
      ],
      "text/plain": [
       "            PC1        PC2         PC3       PC4         PC5        PC6        \n",
       "21843_1#10  -23.227679  -6.0009258 -32.68624  -0.7904285 -12.584615 -13.4459846\n",
       "21843_1#100  13.571592   7.8418443 -47.41864 -11.0722754  -9.363870  -8.3934704\n",
       "21843_1#101  -7.832704 -11.1778749 -43.90159  -6.3643469  -9.685120  -1.6502613\n",
       "21843_1#102 -29.235707  -0.7913266 -28.76609  -0.6348420  -9.783291 -11.6102220\n",
       "21843_1#103 -18.718534 -11.3441004 -33.91354  -7.4310880  -6.942560  -0.8479096\n",
       "21843_1#105 -17.234983 -15.0690889 -33.02414 -16.6611149 -10.665460  -5.3639742\n",
       "            PC7        PC8         PC9        PC10       ... PC11222    \n",
       "21843_1#10  -15.788099  -5.9075634   7.575801  1.7204686 ...  0.02600810\n",
       "21843_1#100  -5.404028   0.2771606 -14.956195 11.5546540 ... -0.04382482\n",
       "21843_1#101  -6.636440  -3.7294354  -5.597625  2.3217678 ... -0.14964073\n",
       "21843_1#102 -16.771528 -13.7352534   5.783761 -1.9236940 ... -0.21559489\n",
       "21843_1#103  -8.440198  -7.9938275   8.287621 -0.5456826 ...  0.05154399\n",
       "21843_1#105  -1.308154  -3.3771144  -2.133909 -5.9796761 ...  0.19799677\n",
       "            PC11223     PC11224     PC11225     PC11226     PC11227    \n",
       "21843_1#10   0.20191467  0.07853953  0.36882114 -0.01420292 -0.22538482\n",
       "21843_1#100  0.18493760 -0.08530492 -0.09427262 -0.11665462  0.37198748\n",
       "21843_1#101 -0.03390775 -0.02680538  0.05879037  0.09398908  0.13524005\n",
       "21843_1#102  0.05345536  0.03255812 -0.06300694 -0.01876697  0.19128796\n",
       "21843_1#103  0.08267765 -0.07190234 -0.11272162  0.05047582 -0.02738050\n",
       "21843_1#105  0.12883183  0.01369757  0.07500173  0.02315921  0.02504725\n",
       "            PC11228     PC11229     PC11230     PC11231     \n",
       "21843_1#10  -0.12418367  0.24993465 -0.05775163 -0.007163219\n",
       "21843_1#100  0.23043800  0.25159334  0.04316014  0.023618341\n",
       "21843_1#101 -0.06011713 -0.03516413 -0.03478412  0.006905351\n",
       "21843_1#102  0.10911190 -0.11057070 -0.03363305 -0.019938914\n",
       "21843_1#103  0.06832835  0.03173459  0.04149785  0.031291337\n",
       "21843_1#105 -0.11466582 -0.02050860 -0.07013681  0.014025219"
      ]
     },
     "metadata": {},
     "output_type": "display_data"
    }
   ],
   "source": [
    "pcs = prcomp(t(logcounts(sce)))$x\n",
    "head(pcs)"
   ]
  },
  {
   "cell_type": "code",
   "execution_count": 19,
   "metadata": {},
   "outputs": [],
   "source": [
    "df = as.data.frame(pcs)"
   ]
  },
  {
   "cell_type": "code",
   "execution_count": 20,
   "metadata": {},
   "outputs": [
    {
     "name": "stderr",
     "output_type": "stream",
     "text": [
      "ERROR while rich displaying an object: Error in sprintf(wrap, header, body): 'fmt' length exceeds maximal format length 8192\n",
      "\n",
      "Traceback:\n",
      "1. FUN(X[[i]], ...)\n",
      "2. tryCatch(withCallingHandlers({\n",
      " .     if (!mime %in% names(repr::mime2repr)) \n",
      " .         stop(\"No repr_* for mimetype \", mime, \" in repr::mime2repr\")\n",
      " .     rpr <- repr::mime2repr[[mime]](obj)\n",
      " .     if (is.null(rpr)) \n",
      " .         return(NULL)\n",
      " .     prepare_content(is.raw(rpr), rpr)\n",
      " . }, error = error_handler), error = outer_handler)\n",
      "3. tryCatchList(expr, classes, parentenv, handlers)\n",
      "4. tryCatchOne(expr, names, parentenv, handlers[[1L]])\n",
      "5. doTryCatch(return(expr), name, parentenv, handler)\n",
      "6. withCallingHandlers({\n",
      " .     if (!mime %in% names(repr::mime2repr)) \n",
      " .         stop(\"No repr_* for mimetype \", mime, \" in repr::mime2repr\")\n",
      " .     rpr <- repr::mime2repr[[mime]](obj)\n",
      " .     if (is.null(rpr)) \n",
      " .         return(NULL)\n",
      " .     prepare_content(is.raw(rpr), rpr)\n",
      " . }, error = error_handler)\n",
      "7. repr::mime2repr[[mime]](obj)\n",
      "8. repr_latex.data.frame(obj)\n",
      "9. repr_matrix_generic(obj, sprintf(\"\\\\begin{tabular}{%s}\\n%%s%%s\\\\end{tabular}\\n\", \n",
      " .     cols), \"%s\\\\\\\\\\n\\\\hline\\n\", \"  &\", \" %s &\", \"%s\", \"\\t%s\\\\\\\\\\n\", \n",
      " .     \"%s &\", \" %s &\", escape_fun = latex_escape_vec, ...)\n",
      "10. sprintf(wrap, header, body)\n"
     ]
    },
    {
     "data": {
      "text/html": [
       "<table>\n",
       "<thead><tr><th></th><th scope=col>PC1</th><th scope=col>PC2</th><th scope=col>PC3</th><th scope=col>PC4</th><th scope=col>PC5</th><th scope=col>PC6</th><th scope=col>PC7</th><th scope=col>PC8</th><th scope=col>PC9</th><th scope=col>PC10</th><th scope=col>...</th><th scope=col>PC11222</th><th scope=col>PC11223</th><th scope=col>PC11224</th><th scope=col>PC11225</th><th scope=col>PC11226</th><th scope=col>PC11227</th><th scope=col>PC11228</th><th scope=col>PC11229</th><th scope=col>PC11230</th><th scope=col>PC11231</th></tr></thead>\n",
       "<tbody>\n",
       "\t<tr><th scope=row>21843_1#10</th><td>-23.227679  </td><td> -6.0009258 </td><td>-32.68624   </td><td> -0.7904285 </td><td>-12.584615  </td><td>-13.4459846 </td><td>-15.788099  </td><td> -5.9075634 </td><td>  7.575801  </td><td> 1.7204686  </td><td>...         </td><td> 0.02600810 </td><td> 0.20191467 </td><td> 0.07853953 </td><td> 0.36882114 </td><td>-0.01420292 </td><td>-0.22538482 </td><td>-0.12418367 </td><td> 0.24993465 </td><td>-0.05775163 </td><td>-0.007163219</td></tr>\n",
       "\t<tr><th scope=row>21843_1#100</th><td> 13.571592  </td><td>  7.8418443 </td><td>-47.41864   </td><td>-11.0722754 </td><td> -9.363870  </td><td> -8.3934704 </td><td> -5.404028  </td><td>  0.2771606 </td><td>-14.956195  </td><td>11.5546540  </td><td>...         </td><td>-0.04382482 </td><td> 0.18493760 </td><td>-0.08530492 </td><td>-0.09427262 </td><td>-0.11665462 </td><td> 0.37198748 </td><td> 0.23043800 </td><td> 0.25159334 </td><td> 0.04316014 </td><td> 0.023618341</td></tr>\n",
       "\t<tr><th scope=row>21843_1#101</th><td> -7.832704  </td><td>-11.1778749 </td><td>-43.90159   </td><td> -6.3643469 </td><td> -9.685120  </td><td> -1.6502613 </td><td> -6.636440  </td><td> -3.7294354 </td><td> -5.597625  </td><td> 2.3217678  </td><td>...         </td><td>-0.14964073 </td><td>-0.03390775 </td><td>-0.02680538 </td><td> 0.05879037 </td><td> 0.09398908 </td><td> 0.13524005 </td><td>-0.06011713 </td><td>-0.03516413 </td><td>-0.03478412 </td><td> 0.006905351</td></tr>\n",
       "\t<tr><th scope=row>21843_1#102</th><td>-29.235707  </td><td> -0.7913266 </td><td>-28.76609   </td><td> -0.6348420 </td><td> -9.783291  </td><td>-11.6102220 </td><td>-16.771528  </td><td>-13.7352534 </td><td>  5.783761  </td><td>-1.9236940  </td><td>...         </td><td>-0.21559489 </td><td> 0.05345536 </td><td> 0.03255812 </td><td>-0.06300694 </td><td>-0.01876697 </td><td> 0.19128796 </td><td> 0.10911190 </td><td>-0.11057070 </td><td>-0.03363305 </td><td>-0.019938914</td></tr>\n",
       "\t<tr><th scope=row>21843_1#103</th><td>-18.718534  </td><td>-11.3441004 </td><td>-33.91354   </td><td> -7.4310880 </td><td> -6.942560  </td><td> -0.8479096 </td><td> -8.440198  </td><td> -7.9938275 </td><td>  8.287621  </td><td>-0.5456826  </td><td>...         </td><td> 0.05154399 </td><td> 0.08267765 </td><td>-0.07190234 </td><td>-0.11272162 </td><td> 0.05047582 </td><td>-0.02738050 </td><td> 0.06832835 </td><td> 0.03173459 </td><td> 0.04149785 </td><td> 0.031291337</td></tr>\n",
       "\t<tr><th scope=row>21843_1#105</th><td>-17.234983  </td><td>-15.0690889 </td><td>-33.02414   </td><td>-16.6611149 </td><td>-10.665460  </td><td> -5.3639742 </td><td> -1.308154  </td><td> -3.3771144 </td><td> -2.133909  </td><td>-5.9796761  </td><td>...         </td><td> 0.19799677 </td><td> 0.12883183 </td><td> 0.01369757 </td><td> 0.07500173 </td><td> 0.02315921 </td><td> 0.02504725 </td><td>-0.11466582 </td><td>-0.02050860 </td><td>-0.07013681 </td><td> 0.014025219</td></tr>\n",
       "</tbody>\n",
       "</table>\n"
      ],
      "text/markdown": [
       "\n",
       "| <!--/--> | PC1 | PC2 | PC3 | PC4 | PC5 | PC6 | PC7 | PC8 | PC9 | PC10 | ... | PC11222 | PC11223 | PC11224 | PC11225 | PC11226 | PC11227 | PC11228 | PC11229 | PC11230 | PC11231 |\n",
       "|---|---|---|---|---|---|---|---|---|---|---|---|---|---|---|---|---|---|---|---|---|---|\n",
       "| 21843_1#10 | -23.227679   |  -6.0009258  | -32.68624    |  -0.7904285  | -12.584615   | -13.4459846  | -15.788099   |  -5.9075634  |   7.575801   |  1.7204686   | ...          |  0.02600810  |  0.20191467  |  0.07853953  |  0.36882114  | -0.01420292  | -0.22538482  | -0.12418367  |  0.24993465  | -0.05775163  | -0.007163219 |\n",
       "| 21843_1#100 |  13.571592   |   7.8418443  | -47.41864    | -11.0722754  |  -9.363870   |  -8.3934704  |  -5.404028   |   0.2771606  | -14.956195   | 11.5546540   | ...          | -0.04382482  |  0.18493760  | -0.08530492  | -0.09427262  | -0.11665462  |  0.37198748  |  0.23043800  |  0.25159334  |  0.04316014  |  0.023618341 |\n",
       "| 21843_1#101 |  -7.832704   | -11.1778749  | -43.90159    |  -6.3643469  |  -9.685120   |  -1.6502613  |  -6.636440   |  -3.7294354  |  -5.597625   |  2.3217678   | ...          | -0.14964073  | -0.03390775  | -0.02680538  |  0.05879037  |  0.09398908  |  0.13524005  | -0.06011713  | -0.03516413  | -0.03478412  |  0.006905351 |\n",
       "| 21843_1#102 | -29.235707   |  -0.7913266  | -28.76609    |  -0.6348420  |  -9.783291   | -11.6102220  | -16.771528   | -13.7352534  |   5.783761   | -1.9236940   | ...          | -0.21559489  |  0.05345536  |  0.03255812  | -0.06300694  | -0.01876697  |  0.19128796  |  0.10911190  | -0.11057070  | -0.03363305  | -0.019938914 |\n",
       "| 21843_1#103 | -18.718534   | -11.3441004  | -33.91354    |  -7.4310880  |  -6.942560   |  -0.8479096  |  -8.440198   |  -7.9938275  |   8.287621   | -0.5456826   | ...          |  0.05154399  |  0.08267765  | -0.07190234  | -0.11272162  |  0.05047582  | -0.02738050  |  0.06832835  |  0.03173459  |  0.04149785  |  0.031291337 |\n",
       "| 21843_1#105 | -17.234983   | -15.0690889  | -33.02414    | -16.6611149  | -10.665460   |  -5.3639742  |  -1.308154   |  -3.3771144  |  -2.133909   | -5.9796761   | ...          |  0.19799677  |  0.12883183  |  0.01369757  |  0.07500173  |  0.02315921  |  0.02504725  | -0.11466582  | -0.02050860  | -0.07013681  |  0.014025219 |\n",
       "\n"
      ],
      "text/plain": [
       "            PC1        PC2         PC3       PC4         PC5        PC6        \n",
       "21843_1#10  -23.227679  -6.0009258 -32.68624  -0.7904285 -12.584615 -13.4459846\n",
       "21843_1#100  13.571592   7.8418443 -47.41864 -11.0722754  -9.363870  -8.3934704\n",
       "21843_1#101  -7.832704 -11.1778749 -43.90159  -6.3643469  -9.685120  -1.6502613\n",
       "21843_1#102 -29.235707  -0.7913266 -28.76609  -0.6348420  -9.783291 -11.6102220\n",
       "21843_1#103 -18.718534 -11.3441004 -33.91354  -7.4310880  -6.942560  -0.8479096\n",
       "21843_1#105 -17.234983 -15.0690889 -33.02414 -16.6611149 -10.665460  -5.3639742\n",
       "            PC7        PC8         PC9        PC10       ... PC11222    \n",
       "21843_1#10  -15.788099  -5.9075634   7.575801  1.7204686 ...  0.02600810\n",
       "21843_1#100  -5.404028   0.2771606 -14.956195 11.5546540 ... -0.04382482\n",
       "21843_1#101  -6.636440  -3.7294354  -5.597625  2.3217678 ... -0.14964073\n",
       "21843_1#102 -16.771528 -13.7352534   5.783761 -1.9236940 ... -0.21559489\n",
       "21843_1#103  -8.440198  -7.9938275   8.287621 -0.5456826 ...  0.05154399\n",
       "21843_1#105  -1.308154  -3.3771144  -2.133909 -5.9796761 ...  0.19799677\n",
       "            PC11223     PC11224     PC11225     PC11226     PC11227    \n",
       "21843_1#10   0.20191467  0.07853953  0.36882114 -0.01420292 -0.22538482\n",
       "21843_1#100  0.18493760 -0.08530492 -0.09427262 -0.11665462  0.37198748\n",
       "21843_1#101 -0.03390775 -0.02680538  0.05879037  0.09398908  0.13524005\n",
       "21843_1#102  0.05345536  0.03255812 -0.06300694 -0.01876697  0.19128796\n",
       "21843_1#103  0.08267765 -0.07190234 -0.11272162  0.05047582 -0.02738050\n",
       "21843_1#105  0.12883183  0.01369757  0.07500173  0.02315921  0.02504725\n",
       "            PC11228     PC11229     PC11230     PC11231     \n",
       "21843_1#10  -0.12418367  0.24993465 -0.05775163 -0.007163219\n",
       "21843_1#100  0.23043800  0.25159334  0.04316014  0.023618341\n",
       "21843_1#101 -0.06011713 -0.03516413 -0.03478412  0.006905351\n",
       "21843_1#102  0.10911190 -0.11057070 -0.03363305 -0.019938914\n",
       "21843_1#103  0.06832835  0.03173459  0.04149785  0.031291337\n",
       "21843_1#105 -0.11466582 -0.02050860 -0.07013681  0.014025219"
      ]
     },
     "metadata": {},
     "output_type": "display_data"
    }
   ],
   "source": [
    "head(df)"
   ]
  },
  {
   "cell_type": "code",
   "execution_count": 21,
   "metadata": {},
   "outputs": [],
   "source": [
    "write.csv(df[,1:500],\"/hps/nobackup/stegle/users/acuomo/all_scripts/struct_LMM2/sc_endodiff/expression_pcs.csv\")"
   ]
  },
  {
   "cell_type": "code",
   "execution_count": null,
   "metadata": {},
   "outputs": [],
   "source": []
  },
  {
   "cell_type": "code",
   "execution_count": 10,
   "metadata": {},
   "outputs": [],
   "source": [
    "# names(colData(sce))"
   ]
  },
  {
   "cell_type": "code",
   "execution_count": 11,
   "metadata": {},
   "outputs": [],
   "source": [
    "range01 <- function(x){(x-min(x))/(max(x)-min(x))}\n",
    "pseudo  <- range01(sce$PC1_top500hvgs)"
   ]
  },
  {
   "cell_type": "code",
   "execution_count": 12,
   "metadata": {},
   "outputs": [
    {
     "data": {
      "text/html": [
       "<table>\n",
       "<thead><tr><th></th><th scope=col>intercept</th><th scope=col>libSize</th><th scope=col>pseudo2</th><th scope=col>pseudo3</th></tr></thead>\n",
       "<tbody>\n",
       "\t<tr><th scope=row>21843_1#10</th><td>1         </td><td>26233     </td><td>0.09134899</td><td>0.02760931</td></tr>\n",
       "\t<tr><th scope=row>21843_1#100</th><td>1         </td><td> 9200     </td><td>0.25429771</td><td>0.12823710</td></tr>\n",
       "\t<tr><th scope=row>21843_1#101</th><td>1         </td><td>25506     </td><td>0.18944166</td><td>0.08245429</td></tr>\n",
       "\t<tr><th scope=row>21843_1#102</th><td>1         </td><td>21434     </td><td>0.07263203</td><td>0.01957457</td></tr>\n",
       "\t<tr><th scope=row>21843_1#103</th><td>1         </td><td>17863     </td><td>0.13955116</td><td>0.05213149</td></tr>\n",
       "\t<tr><th scope=row>21843_1#105</th><td>1         </td><td>16383     </td><td>0.17215228</td><td>0.07142811</td></tr>\n",
       "</tbody>\n",
       "</table>\n"
      ],
      "text/latex": [
       "\\begin{tabular}{r|llll}\n",
       "  & intercept & libSize & pseudo2 & pseudo3\\\\\n",
       "\\hline\n",
       "\t21843\\_1\\#10 & 1          & 26233      & 0.09134899 & 0.02760931\\\\\n",
       "\t21843\\_1\\#100 & 1          &  9200      & 0.25429771 & 0.12823710\\\\\n",
       "\t21843\\_1\\#101 & 1          & 25506      & 0.18944166 & 0.08245429\\\\\n",
       "\t21843\\_1\\#102 & 1          & 21434      & 0.07263203 & 0.01957457\\\\\n",
       "\t21843\\_1\\#103 & 1          & 17863      & 0.13955116 & 0.05213149\\\\\n",
       "\t21843\\_1\\#105 & 1          & 16383      & 0.17215228 & 0.07142811\\\\\n",
       "\\end{tabular}\n"
      ],
      "text/markdown": [
       "\n",
       "| <!--/--> | intercept | libSize | pseudo2 | pseudo3 |\n",
       "|---|---|---|---|---|\n",
       "| 21843_1#10 | 1          | 26233      | 0.09134899 | 0.02760931 |\n",
       "| 21843_1#100 | 1          |  9200      | 0.25429771 | 0.12823710 |\n",
       "| 21843_1#101 | 1          | 25506      | 0.18944166 | 0.08245429 |\n",
       "| 21843_1#102 | 1          | 21434      | 0.07263203 | 0.01957457 |\n",
       "| 21843_1#103 | 1          | 17863      | 0.13955116 | 0.05213149 |\n",
       "| 21843_1#105 | 1          | 16383      | 0.17215228 | 0.07142811 |\n",
       "\n"
      ],
      "text/plain": [
       "            intercept libSize pseudo2    pseudo3   \n",
       "21843_1#10  1         26233   0.09134899 0.02760931\n",
       "21843_1#100 1          9200   0.25429771 0.12823710\n",
       "21843_1#101 1         25506   0.18944166 0.08245429\n",
       "21843_1#102 1         21434   0.07263203 0.01957457\n",
       "21843_1#103 1         17863   0.13955116 0.05213149\n",
       "21843_1#105 1         16383   0.17215228 0.07142811"
      ]
     },
     "metadata": {},
     "output_type": "display_data"
    }
   ],
   "source": [
    "df = data.frame(intercept = 1, libSize = sce$n_total_reads, pseudo2 = pseudo**2, pseudo3 = pseudo**3)\n",
    "rownames(df) = colnames(sce)\n",
    "head(df)"
   ]
  },
  {
   "cell_type": "code",
   "execution_count": 17,
   "metadata": {},
   "outputs": [
    {
     "name": "stderr",
     "output_type": "stream",
     "text": [
      "Warning message in write.csv(df, \"/hps/nobackup/stegle/users/acuomo/all_scripts/struct_LMM2/sc_endodiff/covariates_file.tsv\", :\n",
      "“attempt to set 'col.names' ignored”Warning message in write.csv(df, \"/hps/nobackup/stegle/users/acuomo/all_scripts/struct_LMM2/sc_endodiff/covariates_file.tsv\", :\n",
      "“attempt to set 'sep' ignored”"
     ]
    }
   ],
   "source": [
    "write.csv(df, \"/hps/nobackup/stegle/users/acuomo/all_scripts/struct_LMM2/sc_endodiff/covariates_file.tsv\", quote = F, sep = \"\\t\", row.names = T, col.names=1)"
   ]
  },
  {
   "cell_type": "code",
   "execution_count": null,
   "metadata": {},
   "outputs": [],
   "source": []
  },
  {
   "cell_type": "code",
   "execution_count": 43,
   "metadata": {},
   "outputs": [
    {
     "data": {
      "text/html": [
       "125"
      ],
      "text/latex": [
       "125"
      ],
      "text/markdown": [
       "125"
      ],
      "text/plain": [
       "[1] 125"
      ]
     },
     "metadata": {},
     "output_type": "display_data"
    },
    {
     "data": {
      "text/html": [
       "117"
      ],
      "text/latex": [
       "117"
      ],
      "text/markdown": [
       "117"
      ],
      "text/plain": [
       "[1] 117"
      ]
     },
     "metadata": {},
     "output_type": "display_data"
    },
    {
     "data": {
      "text/html": [
       "96"
      ],
      "text/latex": [
       "96"
      ],
      "text/markdown": [
       "96"
      ],
      "text/plain": [
       "[1] 96"
      ]
     },
     "metadata": {},
     "output_type": "display_data"
    }
   ],
   "source": [
    "length(table(sce$donor))\n",
    "length(table(sce$donor)[table(sce$donor)>50])\n",
    "length(table(sce$donor)[table(sce$donor)>100])"
   ]
  },
  {
   "cell_type": "code",
   "execution_count": 44,
   "metadata": {},
   "outputs": [],
   "source": [
    "sample_mapping_file = \"/hps/nobackup/stegle/users/acuomo/all_scripts/struct_LMM2/sc_endodiff/sample_mapping_file.tsv\""
   ]
  },
  {
   "cell_type": "code",
   "execution_count": 45,
   "metadata": {},
   "outputs": [
    {
     "data": {
      "text/html": [
       "36044"
      ],
      "text/latex": [
       "36044"
      ],
      "text/markdown": [
       "36044"
      ],
      "text/plain": [
       "[1] 36044"
      ]
     },
     "metadata": {},
     "output_type": "display_data"
    },
    {
     "data": {
      "text/html": [
       "<table>\n",
       "<thead><tr><th scope=col>genotype_individual_id</th><th scope=col>phenotype_sample_id</th></tr></thead>\n",
       "<tbody>\n",
       "\t<tr><td>HPSI0114i-joxm_1</td><td>21843_1#10      </td></tr>\n",
       "\t<tr><td>HPSI0314i-fafq_1</td><td>21843_1#100     </td></tr>\n",
       "\t<tr><td>HPSI0314i-fafq_1</td><td>21843_1#101     </td></tr>\n",
       "\t<tr><td>HPSI1013i-wuye_2</td><td>21843_1#102     </td></tr>\n",
       "\t<tr><td>HPSI0114i-joxm_1</td><td>21843_1#103     </td></tr>\n",
       "\t<tr><td>HPSI0114i-iisa_3</td><td>21843_1#105     </td></tr>\n",
       "</tbody>\n",
       "</table>\n"
      ],
      "text/latex": [
       "\\begin{tabular}{r|ll}\n",
       " genotype\\_individual\\_id & phenotype\\_sample\\_id\\\\\n",
       "\\hline\n",
       "\t HPSI0114i-joxm\\_1 & 21843\\_1\\#10    \\\\\n",
       "\t HPSI0314i-fafq\\_1 & 21843\\_1\\#100   \\\\\n",
       "\t HPSI0314i-fafq\\_1 & 21843\\_1\\#101   \\\\\n",
       "\t HPSI1013i-wuye\\_2 & 21843\\_1\\#102   \\\\\n",
       "\t HPSI0114i-joxm\\_1 & 21843\\_1\\#103   \\\\\n",
       "\t HPSI0114i-iisa\\_3 & 21843\\_1\\#105   \\\\\n",
       "\\end{tabular}\n"
      ],
      "text/markdown": [
       "\n",
       "| genotype_individual_id | phenotype_sample_id |\n",
       "|---|---|\n",
       "| HPSI0114i-joxm_1 | 21843_1#10       |\n",
       "| HPSI0314i-fafq_1 | 21843_1#100      |\n",
       "| HPSI0314i-fafq_1 | 21843_1#101      |\n",
       "| HPSI1013i-wuye_2 | 21843_1#102      |\n",
       "| HPSI0114i-joxm_1 | 21843_1#103      |\n",
       "| HPSI0114i-iisa_3 | 21843_1#105      |\n",
       "\n"
      ],
      "text/plain": [
       "  genotype_individual_id phenotype_sample_id\n",
       "1 HPSI0114i-joxm_1       21843_1#10         \n",
       "2 HPSI0314i-fafq_1       21843_1#100        \n",
       "3 HPSI0314i-fafq_1       21843_1#101        \n",
       "4 HPSI1013i-wuye_2       21843_1#102        \n",
       "5 HPSI0114i-joxm_1       21843_1#103        \n",
       "6 HPSI0114i-iisa_3       21843_1#105        "
      ]
     },
     "metadata": {},
     "output_type": "display_data"
    }
   ],
   "source": [
    "sample_mapping = read.csv(sample_mapping_file, sep = \"\\t\")\n",
    "nrow(sample_mapping)\n",
    "head(sample_mapping)"
   ]
  },
  {
   "cell_type": "code",
   "execution_count": 46,
   "metadata": {},
   "outputs": [
    {
     "data": {
      "text/html": [
       "118"
      ],
      "text/latex": [
       "118"
      ],
      "text/markdown": [
       "118"
      ],
      "text/plain": [
       "[1] 118"
      ]
     },
     "metadata": {},
     "output_type": "display_data"
    },
    {
     "data": {
      "text/html": [
       "<ol class=list-inline>\n",
       "\t<li>'HPSI0114i-eipl_1'</li>\n",
       "\t<li>'HPSI0114i-iisa_1'</li>\n",
       "\t<li>'HPSI0114i-iisa_3'</li>\n",
       "\t<li>'HPSI0114i-joxm_1'</li>\n",
       "\t<li>'HPSI0114i-kolf_2'</li>\n",
       "\t<li>'HPSI0114i-vass_1'</li>\n",
       "</ol>\n"
      ],
      "text/latex": [
       "\\begin{enumerate*}\n",
       "\\item 'HPSI0114i-eipl\\_1'\n",
       "\\item 'HPSI0114i-iisa\\_1'\n",
       "\\item 'HPSI0114i-iisa\\_3'\n",
       "\\item 'HPSI0114i-joxm\\_1'\n",
       "\\item 'HPSI0114i-kolf\\_2'\n",
       "\\item 'HPSI0114i-vass\\_1'\n",
       "\\end{enumerate*}\n"
      ],
      "text/markdown": [
       "1. 'HPSI0114i-eipl_1'\n",
       "2. 'HPSI0114i-iisa_1'\n",
       "3. 'HPSI0114i-iisa_3'\n",
       "4. 'HPSI0114i-joxm_1'\n",
       "5. 'HPSI0114i-kolf_2'\n",
       "6. 'HPSI0114i-vass_1'\n",
       "\n",
       "\n"
      ],
      "text/plain": [
       "[1] \"HPSI0114i-eipl_1\" \"HPSI0114i-iisa_1\" \"HPSI0114i-iisa_3\" \"HPSI0114i-joxm_1\"\n",
       "[5] \"HPSI0114i-kolf_2\" \"HPSI0114i-vass_1\""
      ]
     },
     "metadata": {},
     "output_type": "display_data"
    }
   ],
   "source": [
    "donors_50cells = names(table(sce$donor_long_id)[table(sce$donor_long_id)>50])\n",
    "length(donors_50cells)\n",
    "head(donors_50cells)"
   ]
  },
  {
   "cell_type": "code",
   "execution_count": 47,
   "metadata": {},
   "outputs": [
    {
     "data": {
      "text/html": [
       "96"
      ],
      "text/latex": [
       "96"
      ],
      "text/markdown": [
       "96"
      ],
      "text/plain": [
       "[1] 96"
      ]
     },
     "metadata": {},
     "output_type": "display_data"
    },
    {
     "data": {
      "text/html": [
       "<ol class=list-inline>\n",
       "\t<li>'HPSI0114i-eipl_1'</li>\n",
       "\t<li>'HPSI0114i-iisa_3'</li>\n",
       "\t<li>'HPSI0114i-joxm_1'</li>\n",
       "\t<li>'HPSI0114i-kolf_2'</li>\n",
       "\t<li>'HPSI0114i-vass_1'</li>\n",
       "\t<li>'HPSI0114i-wegi_1'</li>\n",
       "</ol>\n"
      ],
      "text/latex": [
       "\\begin{enumerate*}\n",
       "\\item 'HPSI0114i-eipl\\_1'\n",
       "\\item 'HPSI0114i-iisa\\_3'\n",
       "\\item 'HPSI0114i-joxm\\_1'\n",
       "\\item 'HPSI0114i-kolf\\_2'\n",
       "\\item 'HPSI0114i-vass\\_1'\n",
       "\\item 'HPSI0114i-wegi\\_1'\n",
       "\\end{enumerate*}\n"
      ],
      "text/markdown": [
       "1. 'HPSI0114i-eipl_1'\n",
       "2. 'HPSI0114i-iisa_3'\n",
       "3. 'HPSI0114i-joxm_1'\n",
       "4. 'HPSI0114i-kolf_2'\n",
       "5. 'HPSI0114i-vass_1'\n",
       "6. 'HPSI0114i-wegi_1'\n",
       "\n",
       "\n"
      ],
      "text/plain": [
       "[1] \"HPSI0114i-eipl_1\" \"HPSI0114i-iisa_3\" \"HPSI0114i-joxm_1\" \"HPSI0114i-kolf_2\"\n",
       "[5] \"HPSI0114i-vass_1\" \"HPSI0114i-wegi_1\""
      ]
     },
     "metadata": {},
     "output_type": "display_data"
    }
   ],
   "source": [
    "donors_100cells = names(table(sce$donor_long_id)[table(sce$donor_long_id)>100])\n",
    "length(donors_100cells)\n",
    "head(donors_100cells)"
   ]
  },
  {
   "cell_type": "code",
   "execution_count": 48,
   "metadata": {},
   "outputs": [],
   "source": [
    "sample_mapping_50_file = \"/hps/nobackup/stegle/users/acuomo/all_scripts/struct_LMM2/sc_endodiff/sample_mapping_file_over50cells.tsv\"\n",
    "sample_mapping_100_file = \"/hps/nobackup/stegle/users/acuomo/all_scripts/struct_LMM2/sc_endodiff/sample_mapping_file_over100cells.tsv\""
   ]
  },
  {
   "cell_type": "code",
   "execution_count": 49,
   "metadata": {},
   "outputs": [
    {
     "data": {
      "text/html": [
       "118"
      ],
      "text/latex": [
       "118"
      ],
      "text/markdown": [
       "118"
      ],
      "text/plain": [
       "[1] 118"
      ]
     },
     "metadata": {},
     "output_type": "display_data"
    },
    {
     "data": {
      "text/html": [
       "35892"
      ],
      "text/latex": [
       "35892"
      ],
      "text/markdown": [
       "35892"
      ],
      "text/plain": [
       "[1] 35892"
      ]
     },
     "metadata": {},
     "output_type": "display_data"
    }
   ],
   "source": [
    "sm_50 = sample_mapping[sample_mapping$genotype_individual_id %in% donors_50cells,]\n",
    "length(unique(sm_50$genotype_individual_id))\n",
    "nrow(sm_50)"
   ]
  },
  {
   "cell_type": "code",
   "execution_count": 50,
   "metadata": {},
   "outputs": [
    {
     "data": {
      "text/html": [
       "96"
      ],
      "text/latex": [
       "96"
      ],
      "text/markdown": [
       "96"
      ],
      "text/plain": [
       "[1] 96"
      ]
     },
     "metadata": {},
     "output_type": "display_data"
    },
    {
     "data": {
      "text/html": [
       "34221"
      ],
      "text/latex": [
       "34221"
      ],
      "text/markdown": [
       "34221"
      ],
      "text/plain": [
       "[1] 34221"
      ]
     },
     "metadata": {},
     "output_type": "display_data"
    }
   ],
   "source": [
    "sm_100 = sample_mapping[sample_mapping$genotype_individual_id %in% donors_100cells,]\n",
    "length(unique(sm_100$genotype_individual_id))\n",
    "nrow(sm_100)"
   ]
  },
  {
   "cell_type": "code",
   "execution_count": 51,
   "metadata": {},
   "outputs": [],
   "source": [
    "# write.table(sm_50, sample_mapping_50_file, quote = F, sep = \"\\t\", row.names = F)\n",
    "# write.table(sm_100, sample_mapping_100_file, quote = F, sep = \"\\t\", row.names = F)"
   ]
  },
  {
   "cell_type": "code",
   "execution_count": null,
   "metadata": {},
   "outputs": [],
   "source": []
  },
  {
   "cell_type": "code",
   "execution_count": 94,
   "metadata": {},
   "outputs": [],
   "source": [
    "sample_mapping_50per_file = \"/hps/nobackup/stegle/users/acuomo/all_scripts/struct_LMM2/sc_endodiff/sample_mapping_file_50cells_perdonor.tsv\"\n",
    "sample_mapping_100per_file = \"/hps/nobackup/stegle/users/acuomo/all_scripts/struct_LMM2/sc_endodiff/sample_mapping_file_100cells_perdonor.tsv\""
   ]
  },
  {
   "cell_type": "code",
   "execution_count": 102,
   "metadata": {},
   "outputs": [
    {
     "data": {
      "text/html": [
       "<table>\n",
       "<thead><tr><th scope=col>phenotype_sample_id</th><th scope=col>day</th></tr></thead>\n",
       "<tbody>\n",
       "\t<tr><td>21843_1#10 </td><td>day1       </td></tr>\n",
       "\t<tr><td>21843_1#100</td><td>day1       </td></tr>\n",
       "</tbody>\n",
       "</table>\n"
      ],
      "text/latex": [
       "\\begin{tabular}{r|ll}\n",
       " phenotype\\_sample\\_id & day\\\\\n",
       "\\hline\n",
       "\t 21843\\_1\\#10  & day1           \\\\\n",
       "\t 21843\\_1\\#100 & day1           \\\\\n",
       "\\end{tabular}\n"
      ],
      "text/markdown": [
       "\n",
       "| phenotype_sample_id | day |\n",
       "|---|---|\n",
       "| 21843_1#10  | day1        |\n",
       "| 21843_1#100 | day1        |\n",
       "\n"
      ],
      "text/plain": [
       "  phenotype_sample_id day \n",
       "1 21843_1#10          day1\n",
       "2 21843_1#100         day1"
      ]
     },
     "metadata": {},
     "output_type": "display_data"
    }
   ],
   "source": [
    "df0 = data.frame(phenotype_sample_id = colnames(sce), day = sce$day)\n",
    "head(df0,2)"
   ]
  },
  {
   "cell_type": "code",
   "execution_count": 103,
   "metadata": {},
   "outputs": [
    {
     "data": {
      "text/html": [
       "36044"
      ],
      "text/latex": [
       "36044"
      ],
      "text/markdown": [
       "36044"
      ],
      "text/plain": [
       "[1] 36044"
      ]
     },
     "metadata": {},
     "output_type": "display_data"
    },
    {
     "name": "stderr",
     "output_type": "stream",
     "text": [
      "Joining, by = c(\"phenotype_sample_id\", \"day\")\n"
     ]
    },
    {
     "data": {
      "text/html": [
       "36044"
      ],
      "text/latex": [
       "36044"
      ],
      "text/markdown": [
       "36044"
      ],
      "text/plain": [
       "[1] 36044"
      ]
     },
     "metadata": {},
     "output_type": "display_data"
    }
   ],
   "source": [
    "nrow(sample_mapping)\n",
    "sample_mapping = inner_join(sample_mapping,df0)\n",
    "nrow(sample_mapping)"
   ]
  },
  {
   "cell_type": "code",
   "execution_count": 104,
   "metadata": {},
   "outputs": [
    {
     "data": {
      "text/html": [
       "118"
      ],
      "text/latex": [
       "118"
      ],
      "text/markdown": [
       "118"
      ],
      "text/plain": [
       "[1] 118"
      ]
     },
     "metadata": {},
     "output_type": "display_data"
    },
    {
     "data": {
      "text/html": [
       "<ol class=list-inline>\n",
       "\t<li>'HPSI0114i-eipl_1'</li>\n",
       "\t<li>'HPSI0114i-iisa_1'</li>\n",
       "\t<li>'HPSI0114i-iisa_3'</li>\n",
       "\t<li>'HPSI0114i-joxm_1'</li>\n",
       "\t<li>'HPSI0114i-kolf_2'</li>\n",
       "\t<li>'HPSI0114i-vass_1'</li>\n",
       "</ol>\n"
      ],
      "text/latex": [
       "\\begin{enumerate*}\n",
       "\\item 'HPSI0114i-eipl\\_1'\n",
       "\\item 'HPSI0114i-iisa\\_1'\n",
       "\\item 'HPSI0114i-iisa\\_3'\n",
       "\\item 'HPSI0114i-joxm\\_1'\n",
       "\\item 'HPSI0114i-kolf\\_2'\n",
       "\\item 'HPSI0114i-vass\\_1'\n",
       "\\end{enumerate*}\n"
      ],
      "text/markdown": [
       "1. 'HPSI0114i-eipl_1'\n",
       "2. 'HPSI0114i-iisa_1'\n",
       "3. 'HPSI0114i-iisa_3'\n",
       "4. 'HPSI0114i-joxm_1'\n",
       "5. 'HPSI0114i-kolf_2'\n",
       "6. 'HPSI0114i-vass_1'\n",
       "\n",
       "\n"
      ],
      "text/plain": [
       "[1] \"HPSI0114i-eipl_1\" \"HPSI0114i-iisa_1\" \"HPSI0114i-iisa_3\" \"HPSI0114i-joxm_1\"\n",
       "[5] \"HPSI0114i-kolf_2\" \"HPSI0114i-vass_1\""
      ]
     },
     "metadata": {},
     "output_type": "display_data"
    }
   ],
   "source": [
    "n = 50\n",
    "donors = names(table(sce$donor_long_id)[table(sce$donor_long_id)>n])\n",
    "length(donors_50cells)\n",
    "head(donors_50cells)"
   ]
  },
  {
   "cell_type": "code",
   "execution_count": 106,
   "metadata": {},
   "outputs": [],
   "source": [
    "df = data.frame()\n",
    "for (donor in donors){\n",
    "    for (day in unique(sample_mapping$day)){\n",
    "        smf = sample_mapping[sample_mapping$genotype_individual_id == donor & sample_mapping$day == day,]\n",
    "        m = min(ceiling(n/4),nrow(smf))\n",
    "        smf_sub = smf[smf$phenotype_sample_id %in% as.character(sample(smf$phenotype_sample_id,m)),]\n",
    "        df = rbind(df,smf_sub)\n",
    "    }  \n",
    "}"
   ]
  },
  {
   "cell_type": "code",
   "execution_count": 111,
   "metadata": {},
   "outputs": [
    {
     "data": {
      "text/html": [
       "1321"
      ],
      "text/latex": [
       "1321"
      ],
      "text/markdown": [
       "1321"
      ],
      "text/plain": [
       "[1] 1321"
      ]
     },
     "metadata": {},
     "output_type": "display_data"
    }
   ],
   "source": [
    "nrow(df[df$day==\"day2\",])"
   ]
  },
  {
   "cell_type": "code",
   "execution_count": 112,
   "metadata": {},
   "outputs": [
    {
     "data": {
      "text/html": [
       "<table>\n",
       "<thead><tr><th></th><th scope=col>genotype_individual_id</th><th scope=col>phenotype_sample_id</th><th scope=col>day</th></tr></thead>\n",
       "<tbody>\n",
       "\t<tr><th scope=row>14773</th><td>HPSI0114i-eipl_1</td><td>25013_7#158     </td><td>day1            </td></tr>\n",
       "\t<tr><th scope=row>14788</th><td>HPSI0114i-eipl_1</td><td>25013_7#178     </td><td>day1            </td></tr>\n",
       "</tbody>\n",
       "</table>\n"
      ],
      "text/latex": [
       "\\begin{tabular}{r|lll}\n",
       "  & genotype\\_individual\\_id & phenotype\\_sample\\_id & day\\\\\n",
       "\\hline\n",
       "\t14773 & HPSI0114i-eipl\\_1 & 25013\\_7\\#158    & day1              \\\\\n",
       "\t14788 & HPSI0114i-eipl\\_1 & 25013\\_7\\#178    & day1              \\\\\n",
       "\\end{tabular}\n"
      ],
      "text/markdown": [
       "\n",
       "| <!--/--> | genotype_individual_id | phenotype_sample_id | day |\n",
       "|---|---|---|---|\n",
       "| 14773 | HPSI0114i-eipl_1 | 25013_7#158      | day1             |\n",
       "| 14788 | HPSI0114i-eipl_1 | 25013_7#178      | day1             |\n",
       "\n"
      ],
      "text/plain": [
       "      genotype_individual_id phenotype_sample_id day \n",
       "14773 HPSI0114i-eipl_1       25013_7#158         day1\n",
       "14788 HPSI0114i-eipl_1       25013_7#178         day1"
      ]
     },
     "metadata": {},
     "output_type": "display_data"
    },
    {
     "data": {
      "text/html": [
       "<table>\n",
       "<thead><tr><th></th><th scope=col>genotype_individual_id</th><th scope=col>phenotype_sample_id</th><th scope=col>day</th></tr></thead>\n",
       "<tbody>\n",
       "\t<tr><th scope=row>9653</th><td>HPSI1213i-tolg_6</td><td>25262_3#49      </td><td>day2            </td></tr>\n",
       "\t<tr><th scope=row>9683</th><td>HPSI1213i-tolg_6</td><td>25262_3#8       </td><td>day2            </td></tr>\n",
       "</tbody>\n",
       "</table>\n"
      ],
      "text/latex": [
       "\\begin{tabular}{r|lll}\n",
       "  & genotype\\_individual\\_id & phenotype\\_sample\\_id & day\\\\\n",
       "\\hline\n",
       "\t9653 & HPSI1213i-tolg\\_6 & 25262\\_3\\#49     & day2              \\\\\n",
       "\t9683 & HPSI1213i-tolg\\_6 & 25262\\_3\\#8      & day2              \\\\\n",
       "\\end{tabular}\n"
      ],
      "text/markdown": [
       "\n",
       "| <!--/--> | genotype_individual_id | phenotype_sample_id | day |\n",
       "|---|---|---|---|\n",
       "| 9653 | HPSI1213i-tolg_6 | 25262_3#49       | day2             |\n",
       "| 9683 | HPSI1213i-tolg_6 | 25262_3#8        | day2             |\n",
       "\n"
      ],
      "text/plain": [
       "     genotype_individual_id phenotype_sample_id day \n",
       "9653 HPSI1213i-tolg_6       25262_3#49          day2\n",
       "9683 HPSI1213i-tolg_6       25262_3#8           day2"
      ]
     },
     "metadata": {},
     "output_type": "display_data"
    },
    {
     "data": {
      "text/html": [
       "5379"
      ],
      "text/latex": [
       "5379"
      ],
      "text/markdown": [
       "5379"
      ],
      "text/plain": [
       "[1] 5379"
      ]
     },
     "metadata": {},
     "output_type": "display_data"
    },
    {
     "data": {
      "text/html": [
       "5900"
      ],
      "text/latex": [
       "5900"
      ],
      "text/markdown": [
       "5900"
      ],
      "text/plain": [
       "[1] 5900"
      ]
     },
     "metadata": {},
     "output_type": "display_data"
    }
   ],
   "source": [
    "head(df,2)\n",
    "tail(df,2)\n",
    "nrow(df)\n",
    "length(donors)*n"
   ]
  },
  {
   "cell_type": "code",
   "execution_count": 113,
   "metadata": {},
   "outputs": [],
   "source": [
    "write.table(df, sample_mapping_50per_file, quote = F, sep = \"\\t\", row.names = F)\n",
    "# write.table(df, sample_mapping_100per_file, quote = F, sep = \"\\t\", row.names = F)"
   ]
  },
  {
   "cell_type": "code",
   "execution_count": null,
   "metadata": {},
   "outputs": [],
   "source": []
  }
 ],
 "metadata": {
  "kernelspec": {
   "display_name": "R",
   "language": "R",
   "name": "ir"
  },
  "language_info": {
   "codemirror_mode": "r",
   "file_extension": ".r",
   "mimetype": "text/x-r-source",
   "name": "R",
   "pygments_lexer": "r",
   "version": "3.6.1"
  }
 },
 "nbformat": 4,
 "nbformat_minor": 4
}
