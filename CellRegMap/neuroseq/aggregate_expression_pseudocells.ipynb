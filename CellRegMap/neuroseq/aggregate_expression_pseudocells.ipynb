{
 "cells": [
  {
   "cell_type": "code",
   "execution_count": 19,
   "metadata": {},
   "outputs": [
    {
     "data": {
      "text/plain": [
       "class: SingleCellExperiment \n",
       "dim: 32738 79801 \n",
       "metadata(0):\n",
       "assays(1): counts\n",
       "rownames(32738): MIR1302-10 FAM138A ... AC002321.2 AC002321.1\n",
       "rowData names(0):\n",
       "colnames(79801): CCAGCGAGTTACTGAC-1-64 ACGCAGCGTTCGCTAA-1-45 ...\n",
       "  CTTAGGAAGATTACCC-1-13 TCAACGACATAGAAAC-1-39\n",
       "colData names(21): batch celltype ... treatment index\n",
       "reducedDimNames(0):\n",
       "spikeNames(0):\n",
       "altExpNames(0):"
      ]
     },
     "metadata": {},
     "output_type": "display_data"
    }
   ],
   "source": [
    "## load SCE object\n",
    "sce_R_filename = \"/hps/nobackup/stegle/users/acuomo/all_scripts/struct_LMM2/sc_neuroseq/all_da_d52_cells_sce.Rds\"\n",
    "sce = readRDS(sce_R_filename)\n",
    "sce"
   ]
  },
  {
   "cell_type": "code",
   "execution_count": 20,
   "metadata": {},
   "outputs": [
    {
     "data": {
      "text/html": [
       "79801"
      ],
      "text/latex": [
       "79801"
      ],
      "text/markdown": [
       "79801"
      ],
      "text/plain": [
       "[1] 79801"
      ]
     },
     "metadata": {},
     "output_type": "display_data"
    },
    {
     "name": "stderr",
     "output_type": "stream",
     "text": [
      "Warning message in NSBS(i, x, exact = exact, strict.upper.bound = !allow.append, :\n",
      "“subscript is an array, passing it thru as.vector() first”"
     ]
    },
    {
     "data": {
      "text/html": [
       "54217"
      ],
      "text/latex": [
       "54217"
      ],
      "text/markdown": [
       "54217"
      ],
      "text/plain": [
       "[1] 54217"
      ]
     },
     "metadata": {},
     "output_type": "display_data"
    }
   ],
   "source": [
    "### Filter SCE object\n",
    "ncol(sce)\n",
    "######\n",
    "# consider only untreated cells\n",
    "sce_filt = sce[,sce$treatment == 'NONE']\n",
    "######\n",
    "# consider only donors with > 10 cells\n",
    "N=10\n",
    "donors_keep = names(table(sce_filt$donor_id)[table(sce_filt$donor_id)>N])\n",
    "sce_filt = sce_filt[, sce_filt$donor_id %in% donors_keep]  \n",
    "ncol(sce_filt)"
   ]
  },
  {
   "cell_type": "code",
   "execution_count": 21,
   "metadata": {},
   "outputs": [],
   "source": [
    "# filename = \"/hps/nobackup/stegle/users/acuomo/all_scripts/struct_LMM2/sc_neuroseq/da_d52_untreated_pseudocells_20_harmony_PCs_atleast10cells_10nn.csv\"\n",
    "# filename = \"/hps/nobackup/stegle/users/acuomo/all_scripts/struct_LMM2/sc_neuroseq/da_d52_untreated_pseudocells_20_harmony_PCs_atleast10cells_5nn.csv\"\n",
    "filename = \"/hps/nobackup/stegle/users/acuomo/all_scripts/struct_LMM2/sc_neuroseq/da_d52_untreated_pseudocells_20_harmony_PCs_atleast10cells_20nn.csv\"\n",
    "df_clusters = read.csv(filename, row.names = 1)"
   ]
  },
  {
   "cell_type": "code",
   "execution_count": 22,
   "metadata": {},
   "outputs": [
    {
     "data": {
      "text/html": [
       "<table>\n",
       "<thead><tr><th scope=col>cell</th><th scope=col>cluster</th><th scope=col>donor_id</th><th scope=col>ncells</th><th scope=col>pseudo_cell</th></tr></thead>\n",
       "<tbody>\n",
       "\t<tr><td>CCAGCGAGTTACTGAC-1-64    </td><td>cluster1                 </td><td>HPSI0513i-veve_2         </td><td>88                       </td><td>HPSI0513i-veve_2-cluster1</td></tr>\n",
       "\t<tr><td>GATCTAGCATCCAACA-1-65    </td><td>cluster1                 </td><td>HPSI0513i-veve_2         </td><td>88                       </td><td>HPSI0513i-veve_2-cluster1</td></tr>\n",
       "\t<tr><td>TGGCCAGCAAGCTGTT-1-64    </td><td>cluster1                 </td><td>HPSI0513i-veve_2         </td><td>88                       </td><td>HPSI0513i-veve_2-cluster1</td></tr>\n",
       "\t<tr><td>GCTGCGACAAGGACAC-1-64    </td><td>cluster1                 </td><td>HPSI0513i-veve_2         </td><td>88                       </td><td>HPSI0513i-veve_2-cluster1</td></tr>\n",
       "\t<tr><td>ACATGGTGTTATCACG-1-64    </td><td>cluster1                 </td><td>HPSI0513i-veve_2         </td><td>88                       </td><td>HPSI0513i-veve_2-cluster1</td></tr>\n",
       "\t<tr><td>GTTACAGCACAGAGGT-1-64    </td><td>cluster1                 </td><td>HPSI0513i-veve_2         </td><td>88                       </td><td>HPSI0513i-veve_2-cluster1</td></tr>\n",
       "</tbody>\n",
       "</table>\n"
      ],
      "text/latex": [
       "\\begin{tabular}{r|lllll}\n",
       " cell & cluster & donor\\_id & ncells & pseudo\\_cell\\\\\n",
       "\\hline\n",
       "\t CCAGCGAGTTACTGAC-1-64       & cluster1                    & HPSI0513i-veve\\_2          & 88                          & HPSI0513i-veve\\_2-cluster1\\\\\n",
       "\t GATCTAGCATCCAACA-1-65       & cluster1                    & HPSI0513i-veve\\_2          & 88                          & HPSI0513i-veve\\_2-cluster1\\\\\n",
       "\t TGGCCAGCAAGCTGTT-1-64       & cluster1                    & HPSI0513i-veve\\_2          & 88                          & HPSI0513i-veve\\_2-cluster1\\\\\n",
       "\t GCTGCGACAAGGACAC-1-64       & cluster1                    & HPSI0513i-veve\\_2          & 88                          & HPSI0513i-veve\\_2-cluster1\\\\\n",
       "\t ACATGGTGTTATCACG-1-64       & cluster1                    & HPSI0513i-veve\\_2          & 88                          & HPSI0513i-veve\\_2-cluster1\\\\\n",
       "\t GTTACAGCACAGAGGT-1-64       & cluster1                    & HPSI0513i-veve\\_2          & 88                          & HPSI0513i-veve\\_2-cluster1\\\\\n",
       "\\end{tabular}\n"
      ],
      "text/markdown": [
       "\n",
       "| cell | cluster | donor_id | ncells | pseudo_cell |\n",
       "|---|---|---|---|---|\n",
       "| CCAGCGAGTTACTGAC-1-64     | cluster1                  | HPSI0513i-veve_2          | 88                        | HPSI0513i-veve_2-cluster1 |\n",
       "| GATCTAGCATCCAACA-1-65     | cluster1                  | HPSI0513i-veve_2          | 88                        | HPSI0513i-veve_2-cluster1 |\n",
       "| TGGCCAGCAAGCTGTT-1-64     | cluster1                  | HPSI0513i-veve_2          | 88                        | HPSI0513i-veve_2-cluster1 |\n",
       "| GCTGCGACAAGGACAC-1-64     | cluster1                  | HPSI0513i-veve_2          | 88                        | HPSI0513i-veve_2-cluster1 |\n",
       "| ACATGGTGTTATCACG-1-64     | cluster1                  | HPSI0513i-veve_2          | 88                        | HPSI0513i-veve_2-cluster1 |\n",
       "| GTTACAGCACAGAGGT-1-64     | cluster1                  | HPSI0513i-veve_2          | 88                        | HPSI0513i-veve_2-cluster1 |\n",
       "\n"
      ],
      "text/plain": [
       "  cell                  cluster  donor_id         ncells\n",
       "1 CCAGCGAGTTACTGAC-1-64 cluster1 HPSI0513i-veve_2 88    \n",
       "2 GATCTAGCATCCAACA-1-65 cluster1 HPSI0513i-veve_2 88    \n",
       "3 TGGCCAGCAAGCTGTT-1-64 cluster1 HPSI0513i-veve_2 88    \n",
       "4 GCTGCGACAAGGACAC-1-64 cluster1 HPSI0513i-veve_2 88    \n",
       "5 ACATGGTGTTATCACG-1-64 cluster1 HPSI0513i-veve_2 88    \n",
       "6 GTTACAGCACAGAGGT-1-64 cluster1 HPSI0513i-veve_2 88    \n",
       "  pseudo_cell              \n",
       "1 HPSI0513i-veve_2-cluster1\n",
       "2 HPSI0513i-veve_2-cluster1\n",
       "3 HPSI0513i-veve_2-cluster1\n",
       "4 HPSI0513i-veve_2-cluster1\n",
       "5 HPSI0513i-veve_2-cluster1\n",
       "6 HPSI0513i-veve_2-cluster1"
      ]
     },
     "metadata": {},
     "output_type": "display_data"
    }
   ],
   "source": [
    "head(df_clusters)"
   ]
  },
  {
   "cell_type": "code",
   "execution_count": 23,
   "metadata": {},
   "outputs": [
    {
     "data": {
      "text/html": [
       "1013"
      ],
      "text/latex": [
       "1013"
      ],
      "text/markdown": [
       "1013"
      ],
      "text/plain": [
       "[1] 1013"
      ]
     },
     "metadata": {},
     "output_type": "display_data"
    }
   ],
   "source": [
    "length(unique(df_clusters$pseudo_cell))"
   ]
  },
  {
   "cell_type": "code",
   "execution_count": 24,
   "metadata": {},
   "outputs": [
    {
     "data": {
      "text/html": [
       "173"
      ],
      "text/latex": [
       "173"
      ],
      "text/markdown": [
       "173"
      ],
      "text/plain": [
       "[1] 173"
      ]
     },
     "metadata": {},
     "output_type": "display_data"
    }
   ],
   "source": [
    "length(unique(df_clusters$donor_id))"
   ]
  },
  {
   "cell_type": "code",
   "execution_count": 25,
   "metadata": {},
   "outputs": [],
   "source": [
    "##### normalisation and log"
   ]
  },
  {
   "cell_type": "code",
   "execution_count": 26,
   "metadata": {},
   "outputs": [
    {
     "data": {
      "text/plain": [
       "class: SingleCellExperiment \n",
       "dim: 32738 54217 \n",
       "metadata(0):\n",
       "assays(2): counts logcounts\n",
       "rownames(32738): MIR1302-10 FAM138A ... AC002321.2 AC002321.1\n",
       "rowData names(0):\n",
       "colnames(54217): CCAGCGAGTTACTGAC-1-64 ACGTCAAGTCTAGCCG-1-51 ...\n",
       "  CCCAATCCACAGGAGT-1-25 CTTAGGAAGATTACCC-1-13\n",
       "colData names(21): batch celltype ... treatment index\n",
       "reducedDimNames(0):\n",
       "spikeNames(0):\n",
       "altExpNames(0):"
      ]
     },
     "metadata": {},
     "output_type": "display_data"
    }
   ],
   "source": [
    "sce_filt = scater::logNormCounts(sce_filt)\n",
    "sce_filt"
   ]
  },
  {
   "cell_type": "code",
   "execution_count": 27,
   "metadata": {},
   "outputs": [],
   "source": [
    "##### (mean) aggregation"
   ]
  },
  {
   "cell_type": "code",
   "execution_count": 28,
   "metadata": {
    "scrolled": false
   },
   "outputs": [],
   "source": [
    "mean = matrix(0, nrow = nrow(sce_filt), ncol = length(unique(df_clusters$pseudo_cell)))\n",
    "for (i in 1:length(unique(df_clusters$pseudo_cell))){\n",
    "    pseudocell = unique(df_clusters$pseudo_cell)[i]\n",
    "    cells = df_clusters[df_clusters$pseudo_cell == pseudocell,\"cell\"]\n",
    "    if (length(cells)==1){\n",
    "        mean[,i] = as.matrix(logcounts(sce_filt))[,cells]\n",
    "    }\n",
    "    else{\n",
    "        mat = as.matrix(logcounts(sce_filt))[,cells]\n",
    "        mean[,i] = rowMeans(mat)\n",
    "    }  \n",
    "}"
   ]
  },
  {
   "cell_type": "code",
   "execution_count": 29,
   "metadata": {},
   "outputs": [
    {
     "data": {
      "text/html": [
       "<table>\n",
       "<tbody>\n",
       "\t<tr><td>0.00000000</td><td>0         </td><td>0         </td><td>0.01026937</td><td>0         </td></tr>\n",
       "\t<tr><td>0.00000000</td><td>0         </td><td>0         </td><td>0.00000000</td><td>0         </td></tr>\n",
       "\t<tr><td>0.00000000</td><td>0         </td><td>0         </td><td>0.00000000</td><td>0         </td></tr>\n",
       "\t<tr><td>0.01005067</td><td>0         </td><td>0         </td><td>0.00000000</td><td>0         </td></tr>\n",
       "\t<tr><td>0.00000000</td><td>0         </td><td>0         </td><td>0.00000000</td><td>0         </td></tr>\n",
       "</tbody>\n",
       "</table>\n"
      ],
      "text/latex": [
       "\\begin{tabular}{lllll}\n",
       "\t 0.00000000 & 0          & 0          & 0.01026937 & 0         \\\\\n",
       "\t 0.00000000 & 0          & 0          & 0.00000000 & 0         \\\\\n",
       "\t 0.00000000 & 0          & 0          & 0.00000000 & 0         \\\\\n",
       "\t 0.01005067 & 0          & 0          & 0.00000000 & 0         \\\\\n",
       "\t 0.00000000 & 0          & 0          & 0.00000000 & 0         \\\\\n",
       "\\end{tabular}\n"
      ],
      "text/markdown": [
       "\n",
       "| 0.00000000 | 0          | 0          | 0.01026937 | 0          |\n",
       "| 0.00000000 | 0          | 0          | 0.00000000 | 0          |\n",
       "| 0.00000000 | 0          | 0          | 0.00000000 | 0          |\n",
       "| 0.01005067 | 0          | 0          | 0.00000000 | 0          |\n",
       "| 0.00000000 | 0          | 0          | 0.00000000 | 0          |\n",
       "\n"
      ],
      "text/plain": [
       "     [,1]       [,2] [,3] [,4]       [,5]\n",
       "[1,] 0.00000000 0    0    0.01026937 0   \n",
       "[2,] 0.00000000 0    0    0.00000000 0   \n",
       "[3,] 0.00000000 0    0    0.00000000 0   \n",
       "[4,] 0.01005067 0    0    0.00000000 0   \n",
       "[5,] 0.00000000 0    0    0.00000000 0   "
      ]
     },
     "metadata": {},
     "output_type": "display_data"
    }
   ],
   "source": [
    "mean[1:5,1:5]"
   ]
  },
  {
   "cell_type": "code",
   "execution_count": 30,
   "metadata": {},
   "outputs": [],
   "source": [
    "rownames(mean) = rownames(sce_filt)\n",
    "colnames(mean) = unique(df_clusters$pseudo_cell)"
   ]
  },
  {
   "cell_type": "code",
   "execution_count": 31,
   "metadata": {},
   "outputs": [],
   "source": [
    "# write.csv(mean, \"/hps/nobackup/stegle/users/acuomo/all_scripts/struct_LMM2/sc_neuroseq/da_d52_untreated_pseudocells_20_harmony_PCs_atleast10cells_10nn_means.csv\")\n",
    "# write.csv(mean, \"/hps/nobackup/stegle/users/acuomo/all_scripts/struct_LMM2/sc_neuroseq/da_d52_untreated_pseudocells_20_harmony_PCs_atleast10cells_5nn_means.csv\")\n",
    "write.csv(mean, \"/hps/nobackup/stegle/users/acuomo/all_scripts/struct_LMM2/sc_neuroseq/da_d52_untreated_pseudocells_20_harmony_PCs_atleast10cells_20nn_means.csv\")"
   ]
  },
  {
   "cell_type": "code",
   "execution_count": 32,
   "metadata": {},
   "outputs": [
    {
     "data": {
      "text/html": [
       "<ol class=list-inline>\n",
       "\t<li>32738</li>\n",
       "\t<li>1013</li>\n",
       "</ol>\n"
      ],
      "text/latex": [
       "\\begin{enumerate*}\n",
       "\\item 32738\n",
       "\\item 1013\n",
       "\\end{enumerate*}\n"
      ],
      "text/markdown": [
       "1. 32738\n",
       "2. 1013\n",
       "\n",
       "\n"
      ],
      "text/plain": [
       "[1] 32738  1013"
      ]
     },
     "metadata": {},
     "output_type": "display_data"
    }
   ],
   "source": [
    "dim(mean)"
   ]
  },
  {
   "cell_type": "code",
   "execution_count": null,
   "metadata": {},
   "outputs": [],
   "source": []
  },
  {
   "cell_type": "code",
   "execution_count": 33,
   "metadata": {},
   "outputs": [],
   "source": [
    "##### PCs computation"
   ]
  },
  {
   "cell_type": "code",
   "execution_count": 34,
   "metadata": {},
   "outputs": [
    {
     "data": {
      "text/html": [
       "<table>\n",
       "<thead><tr><th></th><th scope=col>PC1</th><th scope=col>PC2</th><th scope=col>PC3</th><th scope=col>PC4</th><th scope=col>PC5</th><th scope=col>PC6</th><th scope=col>PC7</th><th scope=col>PC8</th><th scope=col>PC9</th><th scope=col>PC10</th><th scope=col>...</th><th scope=col>PC1004</th><th scope=col>PC1005</th><th scope=col>PC1006</th><th scope=col>PC1007</th><th scope=col>PC1008</th><th scope=col>PC1009</th><th scope=col>PC1010</th><th scope=col>PC1011</th><th scope=col>PC1012</th><th scope=col>PC1013</th></tr></thead>\n",
       "<tbody>\n",
       "\t<tr><th scope=row>HPSI0513i-veve_2-cluster1</th><td>-1.17523125  </td><td> 0.84892215  </td><td>-0.08146942  </td><td> 0.15655695  </td><td>-0.6967274   </td><td> 0.28227213  </td><td>-0.05731137  </td><td> 0.02687786  </td><td>-0.02134157  </td><td> 0.10126158  </td><td>...          </td><td>-0.0380371445</td><td>-0.013026875 </td><td> 0.021552168 </td><td> 0.012350756 </td><td>-0.0122232423</td><td>-4.897995e-03</td><td>-0.004438731 </td><td> 0.0101493398</td><td>-0.045066088 </td><td>-3.184952e-15</td></tr>\n",
       "\t<tr><th scope=row>HPSI0513i-veve_2-cluster2</th><td> 0.84146079  </td><td> 0.22260747  </td><td> 0.84807600  </td><td>-0.07730129  </td><td>-0.7728794   </td><td> 0.13413230  </td><td> 0.12760102  </td><td> 0.19813195  </td><td> 0.15956085  </td><td>-0.26819218  </td><td>...          </td><td> 0.0003896857</td><td> 0.004858092 </td><td>-0.010901712 </td><td> 0.009847001 </td><td> 0.0040027973</td><td>-1.451151e-02</td><td> 0.002304555 </td><td> 0.0058711976</td><td>-0.007868976 </td><td>-3.195361e-15</td></tr>\n",
       "\t<tr><th scope=row>HPSI0513i-veve_2-cluster3</th><td>-0.63925555  </td><td>-0.31068403  </td><td> 0.01348205  </td><td>-0.22818228  </td><td> 0.4359577   </td><td>-0.06800035  </td><td> 0.30661798  </td><td> 0.14596256  </td><td>-0.11628088  </td><td>-0.04343866  </td><td>...          </td><td>-0.0132364111</td><td>-0.008627547 </td><td> 0.010072140 </td><td> 0.015795353 </td><td>-0.0159749592</td><td>-3.684294e-03</td><td>-0.018438656 </td><td> 0.0140914393</td><td>-0.008501964 </td><td>-3.646389e-15</td></tr>\n",
       "\t<tr><th scope=row>HPSI0513i-veve_2-cluster4</th><td> 0.67626037  </td><td>-0.04684597  </td><td> 0.25972304  </td><td>-0.00993146  </td><td>-0.3681330   </td><td> 0.11597488  </td><td> 0.01237422  </td><td>-0.07470260  </td><td> 0.23524685  </td><td>-0.34115176  </td><td>...          </td><td>-0.0158844297</td><td> 0.006075425 </td><td> 0.034507976 </td><td> 0.021268194 </td><td> 0.0177197597</td><td>-2.590899e-02</td><td>-0.003574705 </td><td> 0.0003941334</td><td> 0.025279101 </td><td>-3.438222e-15</td></tr>\n",
       "\t<tr><th scope=row>HPSI0513i-veve_2-cluster5</th><td>-1.08851900  </td><td>-0.54299994  </td><td>-0.66155683  </td><td> 0.01496061  </td><td> 0.4611878   </td><td>-0.29070602  </td><td>-0.04436174  </td><td>-0.09526424  </td><td> 0.25365940  </td><td>-0.30596934  </td><td>...          </td><td>-0.0173799232</td><td> 0.036185689 </td><td>-0.003629423 </td><td>-0.016869085 </td><td>-0.0002670184</td><td>-5.756575e-03</td><td> 0.009373425 </td><td> 0.0075149462</td><td> 0.011009543 </td><td>-3.330669e-15</td></tr>\n",
       "\t<tr><th scope=row>HPSI0513i-veve_2-cluster6</th><td>-0.01467169  </td><td>-0.23621582  </td><td>-0.53758700  </td><td>-0.14241322  </td><td> 0.5468148   </td><td>-0.23856872  </td><td> 0.13824077  </td><td>-0.23273385  </td><td> 0.21031312  </td><td>-0.12296327  </td><td>...          </td><td>-0.0187629626</td><td>-0.014601022 </td><td>-0.006108957 </td><td> 0.005000708 </td><td> 0.0046744487</td><td> 5.541614e-05</td><td>-0.002709230 </td><td>-0.0101321198</td><td>-0.021644834 </td><td>-3.150258e-15</td></tr>\n",
       "</tbody>\n",
       "</table>\n"
      ],
      "text/latex": [
       "\\begin{tabular}{r|lllllllllllllllllllllllllllllllllllllllllllllllllllllllllllllllllllllllllllllllllllllllllllllllllllllllllllllllllllllllllllllllllllllllllllllllllllllllllllllllllllllllllllllllllllllllllllllllllllllllllllllllllllllllllllllllllllllllllllllllllllllllllllllllllllllllllllllllllllllllllllllllllllllllllllllllllllllllllllllllllllllllllllllllllllllllllllllllllllllllllllllllllllllllllllllllllllllllllllllllllllllllllllllllllllllllllllllllllllllllllllllllllllllllllllllllllllllllllllllllllllllllllllllllllllllllllllllllllllllllllllllllllllllllllllllllllllllllllllllllllllllllllllllllllllllllllllllllllllllllllllllllllllllllllllllllllllllllllllllllllllllllllllllllllllllllllllllllllllllllllllllllllllllllllllllllllllllllllllllllllllllllllllllllllllllllllllllllllllllllllllllllllllllllllllllllllllllllllllllllllllllllllllllllllllllllllllllllllllllllllllllllllllllllllllllllllllllllllllllllllllllllllllllllllllllllllllllllllllllllllllllllllllllllllllllllllllllllllllllllllllllllllllllllllllllllllllllllllllllllllllllllllllll}\n",
       "  & PC1 & PC2 & PC3 & PC4 & PC5 & PC6 & PC7 & PC8 & PC9 & PC10 & ... & PC1004 & PC1005 & PC1006 & PC1007 & PC1008 & PC1009 & PC1010 & PC1011 & PC1012 & PC1013\\\\\n",
       "\\hline\n",
       "\tHPSI0513i-veve\\_2-cluster1 & -1.17523125   &  0.84892215   & -0.08146942   &  0.15655695   & -0.6967274    &  0.28227213   & -0.05731137   &  0.02687786   & -0.02134157   &  0.10126158   & ...           & -0.0380371445 & -0.013026875  &  0.021552168  &  0.012350756  & -0.0122232423 & -4.897995e-03 & -0.004438731  &  0.0101493398 & -0.045066088  & -3.184952e-15\\\\\n",
       "\tHPSI0513i-veve\\_2-cluster2 &  0.84146079   &  0.22260747   &  0.84807600   & -0.07730129   & -0.7728794    &  0.13413230   &  0.12760102   &  0.19813195   &  0.15956085   & -0.26819218   & ...           &  0.0003896857 &  0.004858092  & -0.010901712  &  0.009847001  &  0.0040027973 & -1.451151e-02 &  0.002304555  &  0.0058711976 & -0.007868976  & -3.195361e-15\\\\\n",
       "\tHPSI0513i-veve\\_2-cluster3 & -0.63925555   & -0.31068403   &  0.01348205   & -0.22818228   &  0.4359577    & -0.06800035   &  0.30661798   &  0.14596256   & -0.11628088   & -0.04343866   & ...           & -0.0132364111 & -0.008627547  &  0.010072140  &  0.015795353  & -0.0159749592 & -3.684294e-03 & -0.018438656  &  0.0140914393 & -0.008501964  & -3.646389e-15\\\\\n",
       "\tHPSI0513i-veve\\_2-cluster4 &  0.67626037   & -0.04684597   &  0.25972304   & -0.00993146   & -0.3681330    &  0.11597488   &  0.01237422   & -0.07470260   &  0.23524685   & -0.34115176   & ...           & -0.0158844297 &  0.006075425  &  0.034507976  &  0.021268194  &  0.0177197597 & -2.590899e-02 & -0.003574705  &  0.0003941334 &  0.025279101  & -3.438222e-15\\\\\n",
       "\tHPSI0513i-veve\\_2-cluster5 & -1.08851900   & -0.54299994   & -0.66155683   &  0.01496061   &  0.4611878    & -0.29070602   & -0.04436174   & -0.09526424   &  0.25365940   & -0.30596934   & ...           & -0.0173799232 &  0.036185689  & -0.003629423  & -0.016869085  & -0.0002670184 & -5.756575e-03 &  0.009373425  &  0.0075149462 &  0.011009543  & -3.330669e-15\\\\\n",
       "\tHPSI0513i-veve\\_2-cluster6 & -0.01467169   & -0.23621582   & -0.53758700   & -0.14241322   &  0.5468148    & -0.23856872   &  0.13824077   & -0.23273385   &  0.21031312   & -0.12296327   & ...           & -0.0187629626 & -0.014601022  & -0.006108957  &  0.005000708  &  0.0046744487 &  5.541614e-05 & -0.002709230  & -0.0101321198 & -0.021644834  & -3.150258e-15\\\\\n",
       "\\end{tabular}\n"
      ],
      "text/markdown": [
       "\n",
       "| <!--/--> | PC1 | PC2 | PC3 | PC4 | PC5 | PC6 | PC7 | PC8 | PC9 | PC10 | ... | PC1004 | PC1005 | PC1006 | PC1007 | PC1008 | PC1009 | PC1010 | PC1011 | PC1012 | PC1013 |\n",
       "|---|---|---|---|---|---|---|---|---|---|---|---|---|---|---|---|---|---|---|---|---|---|\n",
       "| HPSI0513i-veve_2-cluster1 | -1.17523125   |  0.84892215   | -0.08146942   |  0.15655695   | -0.6967274    |  0.28227213   | -0.05731137   |  0.02687786   | -0.02134157   |  0.10126158   | ...           | -0.0380371445 | -0.013026875  |  0.021552168  |  0.012350756  | -0.0122232423 | -4.897995e-03 | -0.004438731  |  0.0101493398 | -0.045066088  | -3.184952e-15 |\n",
       "| HPSI0513i-veve_2-cluster2 |  0.84146079   |  0.22260747   |  0.84807600   | -0.07730129   | -0.7728794    |  0.13413230   |  0.12760102   |  0.19813195   |  0.15956085   | -0.26819218   | ...           |  0.0003896857 |  0.004858092  | -0.010901712  |  0.009847001  |  0.0040027973 | -1.451151e-02 |  0.002304555  |  0.0058711976 | -0.007868976  | -3.195361e-15 |\n",
       "| HPSI0513i-veve_2-cluster3 | -0.63925555   | -0.31068403   |  0.01348205   | -0.22818228   |  0.4359577    | -0.06800035   |  0.30661798   |  0.14596256   | -0.11628088   | -0.04343866   | ...           | -0.0132364111 | -0.008627547  |  0.010072140  |  0.015795353  | -0.0159749592 | -3.684294e-03 | -0.018438656  |  0.0140914393 | -0.008501964  | -3.646389e-15 |\n",
       "| HPSI0513i-veve_2-cluster4 |  0.67626037   | -0.04684597   |  0.25972304   | -0.00993146   | -0.3681330    |  0.11597488   |  0.01237422   | -0.07470260   |  0.23524685   | -0.34115176   | ...           | -0.0158844297 |  0.006075425  |  0.034507976  |  0.021268194  |  0.0177197597 | -2.590899e-02 | -0.003574705  |  0.0003941334 |  0.025279101  | -3.438222e-15 |\n",
       "| HPSI0513i-veve_2-cluster5 | -1.08851900   | -0.54299994   | -0.66155683   |  0.01496061   |  0.4611878    | -0.29070602   | -0.04436174   | -0.09526424   |  0.25365940   | -0.30596934   | ...           | -0.0173799232 |  0.036185689  | -0.003629423  | -0.016869085  | -0.0002670184 | -5.756575e-03 |  0.009373425  |  0.0075149462 |  0.011009543  | -3.330669e-15 |\n",
       "| HPSI0513i-veve_2-cluster6 | -0.01467169   | -0.23621582   | -0.53758700   | -0.14241322   |  0.5468148    | -0.23856872   |  0.13824077   | -0.23273385   |  0.21031312   | -0.12296327   | ...           | -0.0187629626 | -0.014601022  | -0.006108957  |  0.005000708  |  0.0046744487 |  5.541614e-05 | -0.002709230  | -0.0101321198 | -0.021644834  | -3.150258e-15 |\n",
       "\n"
      ],
      "text/plain": [
       "                          PC1         PC2         PC3         PC4        \n",
       "HPSI0513i-veve_2-cluster1 -1.17523125  0.84892215 -0.08146942  0.15655695\n",
       "HPSI0513i-veve_2-cluster2  0.84146079  0.22260747  0.84807600 -0.07730129\n",
       "HPSI0513i-veve_2-cluster3 -0.63925555 -0.31068403  0.01348205 -0.22818228\n",
       "HPSI0513i-veve_2-cluster4  0.67626037 -0.04684597  0.25972304 -0.00993146\n",
       "HPSI0513i-veve_2-cluster5 -1.08851900 -0.54299994 -0.66155683  0.01496061\n",
       "HPSI0513i-veve_2-cluster6 -0.01467169 -0.23621582 -0.53758700 -0.14241322\n",
       "                          PC5        PC6         PC7         PC8        \n",
       "HPSI0513i-veve_2-cluster1 -0.6967274  0.28227213 -0.05731137  0.02687786\n",
       "HPSI0513i-veve_2-cluster2 -0.7728794  0.13413230  0.12760102  0.19813195\n",
       "HPSI0513i-veve_2-cluster3  0.4359577 -0.06800035  0.30661798  0.14596256\n",
       "HPSI0513i-veve_2-cluster4 -0.3681330  0.11597488  0.01237422 -0.07470260\n",
       "HPSI0513i-veve_2-cluster5  0.4611878 -0.29070602 -0.04436174 -0.09526424\n",
       "HPSI0513i-veve_2-cluster6  0.5468148 -0.23856872  0.13824077 -0.23273385\n",
       "                          PC9         PC10        ... PC1004       \n",
       "HPSI0513i-veve_2-cluster1 -0.02134157  0.10126158 ... -0.0380371445\n",
       "HPSI0513i-veve_2-cluster2  0.15956085 -0.26819218 ...  0.0003896857\n",
       "HPSI0513i-veve_2-cluster3 -0.11628088 -0.04343866 ... -0.0132364111\n",
       "HPSI0513i-veve_2-cluster4  0.23524685 -0.34115176 ... -0.0158844297\n",
       "HPSI0513i-veve_2-cluster5  0.25365940 -0.30596934 ... -0.0173799232\n",
       "HPSI0513i-veve_2-cluster6  0.21031312 -0.12296327 ... -0.0187629626\n",
       "                          PC1005       PC1006       PC1007       PC1008       \n",
       "HPSI0513i-veve_2-cluster1 -0.013026875  0.021552168  0.012350756 -0.0122232423\n",
       "HPSI0513i-veve_2-cluster2  0.004858092 -0.010901712  0.009847001  0.0040027973\n",
       "HPSI0513i-veve_2-cluster3 -0.008627547  0.010072140  0.015795353 -0.0159749592\n",
       "HPSI0513i-veve_2-cluster4  0.006075425  0.034507976  0.021268194  0.0177197597\n",
       "HPSI0513i-veve_2-cluster5  0.036185689 -0.003629423 -0.016869085 -0.0002670184\n",
       "HPSI0513i-veve_2-cluster6 -0.014601022 -0.006108957  0.005000708  0.0046744487\n",
       "                          PC1009        PC1010       PC1011        PC1012      \n",
       "HPSI0513i-veve_2-cluster1 -4.897995e-03 -0.004438731  0.0101493398 -0.045066088\n",
       "HPSI0513i-veve_2-cluster2 -1.451151e-02  0.002304555  0.0058711976 -0.007868976\n",
       "HPSI0513i-veve_2-cluster3 -3.684294e-03 -0.018438656  0.0140914393 -0.008501964\n",
       "HPSI0513i-veve_2-cluster4 -2.590899e-02 -0.003574705  0.0003941334  0.025279101\n",
       "HPSI0513i-veve_2-cluster5 -5.756575e-03  0.009373425  0.0075149462  0.011009543\n",
       "HPSI0513i-veve_2-cluster6  5.541614e-05 -0.002709230 -0.0101321198 -0.021644834\n",
       "                          PC1013       \n",
       "HPSI0513i-veve_2-cluster1 -3.184952e-15\n",
       "HPSI0513i-veve_2-cluster2 -3.195361e-15\n",
       "HPSI0513i-veve_2-cluster3 -3.646389e-15\n",
       "HPSI0513i-veve_2-cluster4 -3.438222e-15\n",
       "HPSI0513i-veve_2-cluster5 -3.330669e-15\n",
       "HPSI0513i-veve_2-cluster6 -3.150258e-15"
      ]
     },
     "metadata": {},
     "output_type": "display_data"
    }
   ],
   "source": [
    "pcs = prcomp(t(mean))\n",
    "head(pcs$x)"
   ]
  },
  {
   "cell_type": "code",
   "execution_count": 35,
   "metadata": {},
   "outputs": [],
   "source": [
    "# write.csv(pcs$x[,1:500], \"/hps/nobackup/stegle/users/acuomo/all_scripts/struct_LMM2/sc_neuroseq/da_d52_untreated_pseudocells_20_harmony_PCs_atleast10cells_10nn_mean_500pcs.csv\")\n",
    "# write.csv(pcs$x[,1:500], \"/hps/nobackup/stegle/users/acuomo/all_scripts/struct_LMM2/sc_neuroseq/da_d52_untreated_pseudocells_20_harmony_PCs_atleast10cells_5nn_mean_500pcs.csv\")\n",
    "write.csv(pcs$x[,1:500], \"/hps/nobackup/stegle/users/acuomo/all_scripts/struct_LMM2/sc_neuroseq/da_d52_untreated_pseudocells_20_harmony_PCs_atleast10cells_20nn_mean_500pcs.csv\")"
   ]
  },
  {
   "cell_type": "code",
   "execution_count": 36,
   "metadata": {},
   "outputs": [
    {
     "data": {
      "text/html": [
       "<table>\n",
       "<thead><tr><th></th><th scope=col>genotype_individual_id</th><th scope=col>phenotype_sample_id</th></tr></thead>\n",
       "<tbody>\n",
       "\t<tr><th scope=row>1008</th><td>HPSI1113i-ieki_3          </td><td>HPSI1113i-ieki_3-cluster12</td></tr>\n",
       "\t<tr><th scope=row>1009</th><td>HPSI1113i-ieki_3          </td><td>HPSI1113i-ieki_3-cluster13</td></tr>\n",
       "\t<tr><th scope=row>1010</th><td>HPSI0414i-ceik_1          </td><td>HPSI0414i-ceik_1-cluster1 </td></tr>\n",
       "\t<tr><th scope=row>1011</th><td>HPSI0414i-ceik_1          </td><td>HPSI0414i-ceik_1-cluster2 </td></tr>\n",
       "\t<tr><th scope=row>1012</th><td>HPSI0114i-vass_1          </td><td>HPSI0114i-vass_1-cluster1 </td></tr>\n",
       "\t<tr><th scope=row>1013</th><td>HPSI0114i-vass_1          </td><td>HPSI0114i-vass_1-cluster2 </td></tr>\n",
       "</tbody>\n",
       "</table>\n"
      ],
      "text/latex": [
       "\\begin{tabular}{r|ll}\n",
       "  & genotype\\_individual\\_id & phenotype\\_sample\\_id\\\\\n",
       "\\hline\n",
       "\t1008 & HPSI1113i-ieki\\_3           & HPSI1113i-ieki\\_3-cluster12\\\\\n",
       "\t1009 & HPSI1113i-ieki\\_3           & HPSI1113i-ieki\\_3-cluster13\\\\\n",
       "\t1010 & HPSI0414i-ceik\\_1           & HPSI0414i-ceik\\_1-cluster1 \\\\\n",
       "\t1011 & HPSI0414i-ceik\\_1           & HPSI0414i-ceik\\_1-cluster2 \\\\\n",
       "\t1012 & HPSI0114i-vass\\_1           & HPSI0114i-vass\\_1-cluster1 \\\\\n",
       "\t1013 & HPSI0114i-vass\\_1           & HPSI0114i-vass\\_1-cluster2 \\\\\n",
       "\\end{tabular}\n"
      ],
      "text/markdown": [
       "\n",
       "| <!--/--> | genotype_individual_id | phenotype_sample_id |\n",
       "|---|---|---|\n",
       "| 1008 | HPSI1113i-ieki_3           | HPSI1113i-ieki_3-cluster12 |\n",
       "| 1009 | HPSI1113i-ieki_3           | HPSI1113i-ieki_3-cluster13 |\n",
       "| 1010 | HPSI0414i-ceik_1           | HPSI0414i-ceik_1-cluster1  |\n",
       "| 1011 | HPSI0414i-ceik_1           | HPSI0414i-ceik_1-cluster2  |\n",
       "| 1012 | HPSI0114i-vass_1           | HPSI0114i-vass_1-cluster1  |\n",
       "| 1013 | HPSI0114i-vass_1           | HPSI0114i-vass_1-cluster2  |\n",
       "\n"
      ],
      "text/plain": [
       "     genotype_individual_id phenotype_sample_id       \n",
       "1008 HPSI1113i-ieki_3       HPSI1113i-ieki_3-cluster12\n",
       "1009 HPSI1113i-ieki_3       HPSI1113i-ieki_3-cluster13\n",
       "1010 HPSI0414i-ceik_1       HPSI0414i-ceik_1-cluster1 \n",
       "1011 HPSI0414i-ceik_1       HPSI0414i-ceik_1-cluster2 \n",
       "1012 HPSI0114i-vass_1       HPSI0114i-vass_1-cluster1 \n",
       "1013 HPSI0114i-vass_1       HPSI0114i-vass_1-cluster2 "
      ]
     },
     "metadata": {},
     "output_type": "display_data"
    }
   ],
   "source": [
    "sample_df = data.frame(genotype_individual_id = gsub(\"-cluster.*\",\"\",rownames(pcs$x)),\n",
    "                       phenotype_sample_id = rownames(pcs$x))\n",
    "tail(sample_df)"
   ]
  },
  {
   "cell_type": "code",
   "execution_count": 37,
   "metadata": {},
   "outputs": [],
   "source": [
    "# write.csv(sample_df, \"/hps/nobackup/stegle/users/acuomo/all_scripts/struct_LMM2/sc_neuroseq/da_d52_untreated_pseudocells_20_harmony_PCs_atleast10cells_10nn_sample_mapping.csv\", quote = F)\n",
    "# write.csv(sample_df, \"/hps/nobackup/stegle/users/acuomo/all_scripts/struct_LMM2/sc_neuroseq/da_d52_untreated_pseudocells_20_harmony_PCs_atleast10cells_5nn_sample_mapping.csv\", quote = F)\n",
    "write.csv(sample_df, \"/hps/nobackup/stegle/users/acuomo/all_scripts/struct_LMM2/sc_neuroseq/da_d52_untreated_pseudocells_20_harmony_PCs_atleast10cells_20nn_sample_mapping.csv\", quote = F)"
   ]
  },
  {
   "cell_type": "code",
   "execution_count": null,
   "metadata": {},
   "outputs": [],
   "source": []
  },
  {
   "cell_type": "code",
   "execution_count": null,
   "metadata": {},
   "outputs": [],
   "source": []
  }
 ],
 "metadata": {
  "kernelspec": {
   "display_name": "R",
   "language": "R",
   "name": "ir"
  },
  "language_info": {
   "codemirror_mode": "r",
   "file_extension": ".r",
   "mimetype": "text/x-r-source",
   "name": "R",
   "pygments_lexer": "r",
   "version": "3.6.1"
  }
 },
 "nbformat": 4,
 "nbformat_minor": 4
}
