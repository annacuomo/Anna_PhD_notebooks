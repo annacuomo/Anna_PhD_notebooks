{
 "cells": [
  {
   "cell_type": "code",
   "execution_count": 229,
   "metadata": {},
   "outputs": [],
   "source": [
    "library(qvalue)\n",
    "library(dplyr)\n",
    "library(ggplot2)"
   ]
  },
  {
   "cell_type": "code",
   "execution_count": 230,
   "metadata": {},
   "outputs": [],
   "source": [
    "###### Day 52 untreated dopaminergic neurons (DA)\n",
    "### only donors with at least 10 cells"
   ]
  },
  {
   "cell_type": "code",
   "execution_count": 231,
   "metadata": {},
   "outputs": [],
   "source": [
    "##### k=10 nearest neighbours"
   ]
  },
  {
   "cell_type": "code",
   "execution_count": 232,
   "metadata": {},
   "outputs": [],
   "source": [
    "### 10 PCs as envs"
   ]
  },
  {
   "cell_type": "code",
   "execution_count": 233,
   "metadata": {},
   "outputs": [],
   "source": [
    "mydir = \"/hps/nobackup/stegle/users/acuomo/all_scripts/struct_LMM2/sc_neuroseq/\"\n",
    "folder = paste0(mydir, \"da_d52_untreated_pseudocells_20_harmony_PCs_atleast10cells_10nn/10_PCs/\")\n",
    "filename = paste0(folder, \"summary_results.csv\")\n",
    "df = read.csv(filename, row.names=1)"
   ]
  },
  {
   "cell_type": "code",
   "execution_count": 234,
   "metadata": {},
   "outputs": [
    {
     "data": {
      "text/html": [
       "1024"
      ],
      "text/latex": [
       "1024"
      ],
      "text/markdown": [
       "1024"
      ],
      "text/plain": [
       "[1] 1024"
      ]
     },
     "metadata": {},
     "output_type": "display_data"
    },
    {
     "data": {
      "text/html": [
       "<table>\n",
       "<thead><tr><th></th><th scope=col>gene</th><th scope=col>pv</th><th scope=col>chrom</th><th scope=col>snp_id</th></tr></thead>\n",
       "<tbody>\n",
       "\t<tr><th scope=row>0</th><td>ENSG00000100804</td><td>0.8408623      </td><td>14             </td><td>14_23499321_C_A</td></tr>\n",
       "\t<tr><th scope=row>1</th><td>ENSG00000159063</td><td>0.7972347      </td><td>11             </td><td>11_77809456_C_T</td></tr>\n",
       "\t<tr><th scope=row>2</th><td>ENSG00000160404</td><td>0.4569540      </td><td> 9             </td><td>9_130494667_G_A</td></tr>\n",
       "\t<tr><th scope=row>3</th><td>ENSG00000123159</td><td>0.1765076      </td><td>19             </td><td>19_14602318_A_G</td></tr>\n",
       "\t<tr><th scope=row>4</th><td>ENSG00000106077</td><td>0.4115576      </td><td> 7             </td><td>7_73150694_A_C </td></tr>\n",
       "\t<tr><th scope=row>5</th><td>ENSG00000120915</td><td>0.9464081      </td><td> 8             </td><td>8_27390192_G_A </td></tr>\n",
       "</tbody>\n",
       "</table>\n"
      ],
      "text/latex": [
       "\\begin{tabular}{r|llll}\n",
       "  & gene & pv & chrom & snp\\_id\\\\\n",
       "\\hline\n",
       "\t0 & ENSG00000100804       & 0.8408623             & 14                    & 14\\_23499321\\_C\\_A\\\\\n",
       "\t1 & ENSG00000159063       & 0.7972347             & 11                    & 11\\_77809456\\_C\\_T\\\\\n",
       "\t2 & ENSG00000160404       & 0.4569540             &  9                    & 9\\_130494667\\_G\\_A\\\\\n",
       "\t3 & ENSG00000123159       & 0.1765076             & 19                    & 19\\_14602318\\_A\\_G\\\\\n",
       "\t4 & ENSG00000106077       & 0.4115576             &  7                    & 7\\_73150694\\_A\\_C \\\\\n",
       "\t5 & ENSG00000120915       & 0.9464081             &  8                    & 8\\_27390192\\_G\\_A \\\\\n",
       "\\end{tabular}\n"
      ],
      "text/markdown": [
       "\n",
       "| <!--/--> | gene | pv | chrom | snp_id |\n",
       "|---|---|---|---|---|\n",
       "| 0 | ENSG00000100804 | 0.8408623       | 14              | 14_23499321_C_A |\n",
       "| 1 | ENSG00000159063 | 0.7972347       | 11              | 11_77809456_C_T |\n",
       "| 2 | ENSG00000160404 | 0.4569540       |  9              | 9_130494667_G_A |\n",
       "| 3 | ENSG00000123159 | 0.1765076       | 19              | 19_14602318_A_G |\n",
       "| 4 | ENSG00000106077 | 0.4115576       |  7              | 7_73150694_A_C  |\n",
       "| 5 | ENSG00000120915 | 0.9464081       |  8              | 8_27390192_G_A  |\n",
       "\n"
      ],
      "text/plain": [
       "  gene            pv        chrom snp_id         \n",
       "0 ENSG00000100804 0.8408623 14    14_23499321_C_A\n",
       "1 ENSG00000159063 0.7972347 11    11_77809456_C_T\n",
       "2 ENSG00000160404 0.4569540  9    9_130494667_G_A\n",
       "3 ENSG00000123159 0.1765076 19    19_14602318_A_G\n",
       "4 ENSG00000106077 0.4115576  7    7_73150694_A_C \n",
       "5 ENSG00000120915 0.9464081  8    8_27390192_G_A "
      ]
     },
     "metadata": {},
     "output_type": "display_data"
    }
   ],
   "source": [
    "nrow(df)\n",
    "head(df)"
   ]
  },
  {
   "cell_type": "code",
   "execution_count": 235,
   "metadata": {},
   "outputs": [
    {
     "data": {
      "text/html": [
       "134"
      ],
      "text/latex": [
       "134"
      ],
      "text/markdown": [
       "134"
      ],
      "text/plain": [
       "[1] 134"
      ]
     },
     "metadata": {},
     "output_type": "display_data"
    },
    {
     "data": {
      "text/html": [
       "0.130859375"
      ],
      "text/latex": [
       "0.130859375"
      ],
      "text/markdown": [
       "0.130859375"
      ],
      "text/plain": [
       "[1] 0.1308594"
      ]
     },
     "metadata": {},
     "output_type": "display_data"
    }
   ],
   "source": [
    "df$qv = qvalue(df$pv)$qvalues\n",
    "nrow(df[df$qv<0.05,])\n",
    "nrow(df[df$qv<0.05,])/nrow(df)"
   ]
  },
  {
   "cell_type": "code",
   "execution_count": 236,
   "metadata": {},
   "outputs": [],
   "source": [
    "df_10nn = df"
   ]
  },
  {
   "cell_type": "code",
   "execution_count": 237,
   "metadata": {},
   "outputs": [
    {
     "data": {
      "text/html": [
       "<table>\n",
       "<thead><tr><th></th><th scope=col>gene</th><th scope=col>pv</th><th scope=col>chrom</th><th scope=col>snp_id</th><th scope=col>qv</th><th scope=col>feature_id</th></tr></thead>\n",
       "<tbody>\n",
       "\t<tr><th scope=row>15</th><td>ENSG00000240972</td><td>0.007460793    </td><td>22             </td><td>22_24249458_A_C</td><td>0.03146892     </td><td>ENSG00000240972</td></tr>\n",
       "\t<tr><th scope=row>16</th><td>ENSG00000077080</td><td>0.006022181    </td><td> 7             </td><td>7_100220850_C_G</td><td>0.02897300     </td><td>ENSG00000077080</td></tr>\n",
       "\t<tr><th scope=row>24</th><td>ENSG00000198242</td><td>0.009418784    </td><td>17             </td><td>17_26887271_G_A</td><td>0.03325127     </td><td>ENSG00000198242</td></tr>\n",
       "\t<tr><th scope=row>42</th><td>ENSG00000227354</td><td>0.002573053    </td><td>13             </td><td>13_79980340_C_T</td><td>0.02161137     </td><td>ENSG00000227354</td></tr>\n",
       "\t<tr><th scope=row>43</th><td>ENSG00000077458</td><td>0.006915427    </td><td>11             </td><td>11_95760920_G_A</td><td>0.03146892     </td><td>ENSG00000077458</td></tr>\n",
       "\t<tr><th scope=row>48</th><td>ENSG00000172247</td><td>0.018803697    </td><td>11             </td><td>11_47699883_T_C</td><td>0.04779913     </td><td>ENSG00000172247</td></tr>\n",
       "</tbody>\n",
       "</table>\n"
      ],
      "text/latex": [
       "\\begin{tabular}{r|llllll}\n",
       "  & gene & pv & chrom & snp\\_id & qv & feature\\_id\\\\\n",
       "\\hline\n",
       "\t15 & ENSG00000240972       & 0.007460793           & 22                    & 22\\_24249458\\_A\\_C & 0.03146892            & ENSG00000240972      \\\\\n",
       "\t16 & ENSG00000077080       & 0.006022181           &  7                    & 7\\_100220850\\_C\\_G & 0.02897300            & ENSG00000077080      \\\\\n",
       "\t24 & ENSG00000198242       & 0.009418784           & 17                    & 17\\_26887271\\_G\\_A & 0.03325127            & ENSG00000198242      \\\\\n",
       "\t42 & ENSG00000227354       & 0.002573053           & 13                    & 13\\_79980340\\_C\\_T & 0.02161137            & ENSG00000227354      \\\\\n",
       "\t43 & ENSG00000077458       & 0.006915427           & 11                    & 11\\_95760920\\_G\\_A & 0.03146892            & ENSG00000077458      \\\\\n",
       "\t48 & ENSG00000172247       & 0.018803697           & 11                    & 11\\_47699883\\_T\\_C & 0.04779913            & ENSG00000172247      \\\\\n",
       "\\end{tabular}\n"
      ],
      "text/markdown": [
       "\n",
       "| <!--/--> | gene | pv | chrom | snp_id | qv | feature_id |\n",
       "|---|---|---|---|---|---|---|\n",
       "| 15 | ENSG00000240972 | 0.007460793     | 22              | 22_24249458_A_C | 0.03146892      | ENSG00000240972 |\n",
       "| 16 | ENSG00000077080 | 0.006022181     |  7              | 7_100220850_C_G | 0.02897300      | ENSG00000077080 |\n",
       "| 24 | ENSG00000198242 | 0.009418784     | 17              | 17_26887271_G_A | 0.03325127      | ENSG00000198242 |\n",
       "| 42 | ENSG00000227354 | 0.002573053     | 13              | 13_79980340_C_T | 0.02161137      | ENSG00000227354 |\n",
       "| 43 | ENSG00000077458 | 0.006915427     | 11              | 11_95760920_G_A | 0.03146892      | ENSG00000077458 |\n",
       "| 48 | ENSG00000172247 | 0.018803697     | 11              | 11_47699883_T_C | 0.04779913      | ENSG00000172247 |\n",
       "\n"
      ],
      "text/plain": [
       "   gene            pv          chrom snp_id          qv         feature_id     \n",
       "15 ENSG00000240972 0.007460793 22    22_24249458_A_C 0.03146892 ENSG00000240972\n",
       "16 ENSG00000077080 0.006022181  7    7_100220850_C_G 0.02897300 ENSG00000077080\n",
       "24 ENSG00000198242 0.009418784 17    17_26887271_G_A 0.03325127 ENSG00000198242\n",
       "42 ENSG00000227354 0.002573053 13    13_79980340_C_T 0.02161137 ENSG00000227354\n",
       "43 ENSG00000077458 0.006915427 11    11_95760920_G_A 0.03146892 ENSG00000077458\n",
       "48 ENSG00000172247 0.018803697 11    11_47699883_T_C 0.04779913 ENSG00000172247"
      ]
     },
     "metadata": {},
     "output_type": "display_data"
    }
   ],
   "source": [
    "df_sign = df[df$qv<0.05,]\n",
    "df_sign$feature_id = df_sign$gene\n",
    "head(df_sign)"
   ]
  },
  {
   "cell_type": "code",
   "execution_count": 238,
   "metadata": {},
   "outputs": [],
   "source": [
    "#### Save significant to estimate (pseudo)cell-level effect sizes"
   ]
  },
  {
   "cell_type": "code",
   "execution_count": 239,
   "metadata": {},
   "outputs": [],
   "source": [
    "mydir = \"/hps/nobackup/stegle/users/acuomo/all_scripts/struct_LMM2/sc_neuroseq/\"\n",
    "myfolder = paste0(mydir, \"da_d52_untreated_pseudocells_20_harmony_PCs_atleast10cells_10nn/10_PCs/\")\n",
    "filename = paste0(myfolder, \"sc_slmm_significant_fdr_5pct.csv\")\n",
    "write.csv(df_sign[,c(\"feature_id\",\"snp_id\")], filename)"
   ]
  },
  {
   "cell_type": "code",
   "execution_count": null,
   "metadata": {},
   "outputs": [],
   "source": []
  },
  {
   "cell_type": "code",
   "execution_count": 240,
   "metadata": {},
   "outputs": [],
   "source": [
    "##### k=5 nearest neighbours"
   ]
  },
  {
   "cell_type": "code",
   "execution_count": 256,
   "metadata": {},
   "outputs": [],
   "source": [
    "### 10 PCs as envs"
   ]
  },
  {
   "cell_type": "code",
   "execution_count": 285,
   "metadata": {},
   "outputs": [],
   "source": [
    "mydir = \"/hps/nobackup/stegle/users/acuomo/all_scripts/struct_LMM2/sc_neuroseq/\"\n",
    "folder = paste0(mydir, \"da_d52_untreated_pseudocells_20_harmony_PCs_atleast10cells_5nn/10_PCs/\")\n",
    "filename = paste0(folder, \"summary_results.csv\")\n",
    "df = read.csv(filename, row.names=1)"
   ]
  },
  {
   "cell_type": "code",
   "execution_count": 286,
   "metadata": {},
   "outputs": [
    {
     "data": {
      "text/html": [
       "1024"
      ],
      "text/latex": [
       "1024"
      ],
      "text/markdown": [
       "1024"
      ],
      "text/plain": [
       "[1] 1024"
      ]
     },
     "metadata": {},
     "output_type": "display_data"
    },
    {
     "data": {
      "text/html": [
       "<table>\n",
       "<thead><tr><th></th><th scope=col>gene</th><th scope=col>pv</th><th scope=col>chrom</th><th scope=col>snp_id</th></tr></thead>\n",
       "<tbody>\n",
       "\t<tr><th scope=row>0</th><td>ENSG00000100804</td><td>0.814450299    </td><td>14             </td><td>14_23499321_C_A</td></tr>\n",
       "\t<tr><th scope=row>1</th><td>ENSG00000159063</td><td>0.379909415    </td><td>11             </td><td>11_77809456_C_T</td></tr>\n",
       "\t<tr><th scope=row>2</th><td>ENSG00000160404</td><td>0.031438049    </td><td> 9             </td><td>9_130494667_G_A</td></tr>\n",
       "\t<tr><th scope=row>3</th><td>ENSG00000123159</td><td>0.002709874    </td><td>19             </td><td>19_14602318_A_G</td></tr>\n",
       "\t<tr><th scope=row>4</th><td>ENSG00000106077</td><td>0.027514641    </td><td> 7             </td><td>7_73150694_A_C </td></tr>\n",
       "\t<tr><th scope=row>5</th><td>ENSG00000120915</td><td>0.361467018    </td><td> 8             </td><td>8_27390192_G_A </td></tr>\n",
       "</tbody>\n",
       "</table>\n"
      ],
      "text/latex": [
       "\\begin{tabular}{r|llll}\n",
       "  & gene & pv & chrom & snp\\_id\\\\\n",
       "\\hline\n",
       "\t0 & ENSG00000100804       & 0.814450299           & 14                    & 14\\_23499321\\_C\\_A\\\\\n",
       "\t1 & ENSG00000159063       & 0.379909415           & 11                    & 11\\_77809456\\_C\\_T\\\\\n",
       "\t2 & ENSG00000160404       & 0.031438049           &  9                    & 9\\_130494667\\_G\\_A\\\\\n",
       "\t3 & ENSG00000123159       & 0.002709874           & 19                    & 19\\_14602318\\_A\\_G\\\\\n",
       "\t4 & ENSG00000106077       & 0.027514641           &  7                    & 7\\_73150694\\_A\\_C \\\\\n",
       "\t5 & ENSG00000120915       & 0.361467018           &  8                    & 8\\_27390192\\_G\\_A \\\\\n",
       "\\end{tabular}\n"
      ],
      "text/markdown": [
       "\n",
       "| <!--/--> | gene | pv | chrom | snp_id |\n",
       "|---|---|---|---|---|\n",
       "| 0 | ENSG00000100804 | 0.814450299     | 14              | 14_23499321_C_A |\n",
       "| 1 | ENSG00000159063 | 0.379909415     | 11              | 11_77809456_C_T |\n",
       "| 2 | ENSG00000160404 | 0.031438049     |  9              | 9_130494667_G_A |\n",
       "| 3 | ENSG00000123159 | 0.002709874     | 19              | 19_14602318_A_G |\n",
       "| 4 | ENSG00000106077 | 0.027514641     |  7              | 7_73150694_A_C  |\n",
       "| 5 | ENSG00000120915 | 0.361467018     |  8              | 8_27390192_G_A  |\n",
       "\n"
      ],
      "text/plain": [
       "  gene            pv          chrom snp_id         \n",
       "0 ENSG00000100804 0.814450299 14    14_23499321_C_A\n",
       "1 ENSG00000159063 0.379909415 11    11_77809456_C_T\n",
       "2 ENSG00000160404 0.031438049  9    9_130494667_G_A\n",
       "3 ENSG00000123159 0.002709874 19    19_14602318_A_G\n",
       "4 ENSG00000106077 0.027514641  7    7_73150694_A_C \n",
       "5 ENSG00000120915 0.361467018  8    8_27390192_G_A "
      ]
     },
     "metadata": {},
     "output_type": "display_data"
    }
   ],
   "source": [
    "nrow(df)\n",
    "head(df)"
   ]
  },
  {
   "cell_type": "code",
   "execution_count": 287,
   "metadata": {},
   "outputs": [
    {
     "data": {
      "text/html": [
       "41"
      ],
      "text/latex": [
       "41"
      ],
      "text/markdown": [
       "41"
      ],
      "text/plain": [
       "[1] 41"
      ]
     },
     "metadata": {},
     "output_type": "display_data"
    },
    {
     "data": {
      "text/html": [
       "0.0400390625"
      ],
      "text/latex": [
       "0.0400390625"
      ],
      "text/markdown": [
       "0.0400390625"
      ],
      "text/plain": [
       "[1] 0.04003906"
      ]
     },
     "metadata": {},
     "output_type": "display_data"
    }
   ],
   "source": [
    "df$qv = qvalue(df$pv)$qvalues\n",
    "nrow(df[df$qv<0.05,])\n",
    "nrow(df[df$qv<0.05,])/nrow(df)"
   ]
  },
  {
   "cell_type": "code",
   "execution_count": 288,
   "metadata": {},
   "outputs": [],
   "source": [
    "df_5nn = df"
   ]
  },
  {
   "cell_type": "code",
   "execution_count": 289,
   "metadata": {},
   "outputs": [],
   "source": [
    "#### Save significant to estimate (pseudo)cell-level effect sizes"
   ]
  },
  {
   "cell_type": "code",
   "execution_count": 290,
   "metadata": {},
   "outputs": [
    {
     "data": {
      "text/html": [
       "<table>\n",
       "<thead><tr><th></th><th scope=col>gene</th><th scope=col>pv</th><th scope=col>chrom</th><th scope=col>snp_id</th><th scope=col>qv</th><th scope=col>feature_id</th></tr></thead>\n",
       "<tbody>\n",
       "\t<tr><th scope=row>3</th><td>ENSG00000123159</td><td>0.002709874    </td><td>19             </td><td>19_14602318_A_G</td><td>0.03857056     </td><td>ENSG00000123159</td></tr>\n",
       "\t<tr><th scope=row>10</th><td>ENSG00000164615</td><td>0.001261634    </td><td> 5             </td><td>5_134036784_G_A</td><td>0.02882014     </td><td>ENSG00000164615</td></tr>\n",
       "\t<tr><th scope=row>15</th><td>ENSG00000240972</td><td>0.003371007    </td><td>22             </td><td>22_24249458_A_C</td><td>0.04141260     </td><td>ENSG00000240972</td></tr>\n",
       "\t<tr><th scope=row>16</th><td>ENSG00000077080</td><td>0.002843356    </td><td> 7             </td><td>7_100220850_C_G</td><td>0.03912145     </td><td>ENSG00000077080</td></tr>\n",
       "\t<tr><th scope=row>34</th><td>ENSG00000143155</td><td>0.001326615    </td><td> 1             </td><td>1_168153801_T_C</td><td>0.02882014     </td><td>ENSG00000143155</td></tr>\n",
       "\t<tr><th scope=row>76</th><td>ENSG00000145348</td><td>0.002498025    </td><td> 4             </td><td>4_106945077_A_G</td><td>0.03857056     </td><td>ENSG00000145348</td></tr>\n",
       "</tbody>\n",
       "</table>\n"
      ],
      "text/latex": [
       "\\begin{tabular}{r|llllll}\n",
       "  & gene & pv & chrom & snp\\_id & qv & feature\\_id\\\\\n",
       "\\hline\n",
       "\t3 & ENSG00000123159       & 0.002709874           & 19                    & 19\\_14602318\\_A\\_G & 0.03857056            & ENSG00000123159      \\\\\n",
       "\t10 & ENSG00000164615       & 0.001261634           &  5                    & 5\\_134036784\\_G\\_A & 0.02882014            & ENSG00000164615      \\\\\n",
       "\t15 & ENSG00000240972       & 0.003371007           & 22                    & 22\\_24249458\\_A\\_C & 0.04141260            & ENSG00000240972      \\\\\n",
       "\t16 & ENSG00000077080       & 0.002843356           &  7                    & 7\\_100220850\\_C\\_G & 0.03912145            & ENSG00000077080      \\\\\n",
       "\t34 & ENSG00000143155       & 0.001326615           &  1                    & 1\\_168153801\\_T\\_C & 0.02882014            & ENSG00000143155      \\\\\n",
       "\t76 & ENSG00000145348       & 0.002498025           &  4                    & 4\\_106945077\\_A\\_G & 0.03857056            & ENSG00000145348      \\\\\n",
       "\\end{tabular}\n"
      ],
      "text/markdown": [
       "\n",
       "| <!--/--> | gene | pv | chrom | snp_id | qv | feature_id |\n",
       "|---|---|---|---|---|---|---|\n",
       "| 3 | ENSG00000123159 | 0.002709874     | 19              | 19_14602318_A_G | 0.03857056      | ENSG00000123159 |\n",
       "| 10 | ENSG00000164615 | 0.001261634     |  5              | 5_134036784_G_A | 0.02882014      | ENSG00000164615 |\n",
       "| 15 | ENSG00000240972 | 0.003371007     | 22              | 22_24249458_A_C | 0.04141260      | ENSG00000240972 |\n",
       "| 16 | ENSG00000077080 | 0.002843356     |  7              | 7_100220850_C_G | 0.03912145      | ENSG00000077080 |\n",
       "| 34 | ENSG00000143155 | 0.001326615     |  1              | 1_168153801_T_C | 0.02882014      | ENSG00000143155 |\n",
       "| 76 | ENSG00000145348 | 0.002498025     |  4              | 4_106945077_A_G | 0.03857056      | ENSG00000145348 |\n",
       "\n"
      ],
      "text/plain": [
       "   gene            pv          chrom snp_id          qv         feature_id     \n",
       "3  ENSG00000123159 0.002709874 19    19_14602318_A_G 0.03857056 ENSG00000123159\n",
       "10 ENSG00000164615 0.001261634  5    5_134036784_G_A 0.02882014 ENSG00000164615\n",
       "15 ENSG00000240972 0.003371007 22    22_24249458_A_C 0.04141260 ENSG00000240972\n",
       "16 ENSG00000077080 0.002843356  7    7_100220850_C_G 0.03912145 ENSG00000077080\n",
       "34 ENSG00000143155 0.001326615  1    1_168153801_T_C 0.02882014 ENSG00000143155\n",
       "76 ENSG00000145348 0.002498025  4    4_106945077_A_G 0.03857056 ENSG00000145348"
      ]
     },
     "metadata": {},
     "output_type": "display_data"
    }
   ],
   "source": [
    "df_sign = df[df$qv<0.05,]\n",
    "df_sign$feature_id = df_sign$gene\n",
    "head(df_sign)"
   ]
  },
  {
   "cell_type": "code",
   "execution_count": 291,
   "metadata": {},
   "outputs": [],
   "source": [
    "mydir = \"/hps/nobackup/stegle/users/acuomo/all_scripts/struct_LMM2/sc_neuroseq/\"\n",
    "myfolder = paste0(mydir, \"da_d52_untreated_pseudocells_20_harmony_PCs_atleast10cells_5nn/10_PCs/\")\n",
    "filename = paste0(myfolder, \"sc_slmm_significant_fdr_5pct.csv\")\n",
    "write.csv(df_sign[,c(\"feature_id\",\"snp_id\")], filename)"
   ]
  },
  {
   "cell_type": "code",
   "execution_count": null,
   "metadata": {},
   "outputs": [],
   "source": []
  },
  {
   "cell_type": "code",
   "execution_count": null,
   "metadata": {},
   "outputs": [],
   "source": []
  },
  {
   "cell_type": "code",
   "execution_count": 292,
   "metadata": {},
   "outputs": [],
   "source": [
    "#### Compare results"
   ]
  },
  {
   "cell_type": "code",
   "execution_count": 293,
   "metadata": {},
   "outputs": [],
   "source": [
    "df1 = df_10nn[df_10nn$qv<0.05,]\n",
    "df2 = df_5nn[df_5nn$qv<0.05,]"
   ]
  },
  {
   "cell_type": "code",
   "execution_count": 294,
   "metadata": {},
   "outputs": [],
   "source": [
    "egenes_10 = df1$gene\n",
    "egenes_5 = df2$gene"
   ]
  },
  {
   "cell_type": "code",
   "execution_count": 295,
   "metadata": {},
   "outputs": [
    {
     "data": {
      "text/html": [
       "134"
      ],
      "text/latex": [
       "134"
      ],
      "text/markdown": [
       "134"
      ],
      "text/plain": [
       "[1] 134"
      ]
     },
     "metadata": {},
     "output_type": "display_data"
    },
    {
     "data": {
      "text/html": [
       "41"
      ],
      "text/latex": [
       "41"
      ],
      "text/markdown": [
       "41"
      ],
      "text/plain": [
       "[1] 41"
      ]
     },
     "metadata": {},
     "output_type": "display_data"
    },
    {
     "data": {
      "text/html": [
       "19"
      ],
      "text/latex": [
       "19"
      ],
      "text/markdown": [
       "19"
      ],
      "text/plain": [
       "[1] 19"
      ]
     },
     "metadata": {},
     "output_type": "display_data"
    },
    {
     "data": {
      "text/html": [
       "0.463414634146341"
      ],
      "text/latex": [
       "0.463414634146341"
      ],
      "text/markdown": [
       "0.463414634146341"
      ],
      "text/plain": [
       "[1] 0.4634146"
      ]
     },
     "metadata": {},
     "output_type": "display_data"
    }
   ],
   "source": [
    "length(egenes_10)\n",
    "length(egenes_5)\n",
    "length(egenes_5[egenes_5 %in% egenes_10])\n",
    "length(egenes_5[egenes_5 %in% egenes_10])/length(egenes_5)"
   ]
  },
  {
   "cell_type": "code",
   "execution_count": 296,
   "metadata": {},
   "outputs": [
    {
     "data": {
      "text/html": [
       "1024"
      ],
      "text/latex": [
       "1024"
      ],
      "text/markdown": [
       "1024"
      ],
      "text/plain": [
       "[1] 1024"
      ]
     },
     "metadata": {},
     "output_type": "display_data"
    }
   ],
   "source": [
    "df3 = inner_join(df_5nn, df_10nn, by = c(\"gene\",\"chrom\",\"snp_id\"), suffix = c(\".5\",\".10\"))\n",
    "nrow(df3)"
   ]
  },
  {
   "cell_type": "code",
   "execution_count": 297,
   "metadata": {},
   "outputs": [
    {
     "data": {
      "text/plain": [
       "\n",
       "\tPearson's product-moment correlation\n",
       "\n",
       "data:  -log10(df3$pv.5) and -log10(df3$pv.10)\n",
       "t = 10.729, df = 1022, p-value < 2.2e-16\n",
       "alternative hypothesis: true correlation is not equal to 0\n",
       "95 percent confidence interval:\n",
       " 0.2620160 0.3721784\n",
       "sample estimates:\n",
       "      cor \n",
       "0.3181708 \n"
      ]
     },
     "metadata": {},
     "output_type": "display_data"
    }
   ],
   "source": [
    "cor.test(-log10(df3$pv.5),-log10(df3$pv.10))"
   ]
  },
  {
   "cell_type": "code",
   "execution_count": 298,
   "metadata": {},
   "outputs": [
    {
     "data": {
      "text/html": [
       "0.318170791449549"
      ],
      "text/latex": [
       "0.318170791449549"
      ],
      "text/markdown": [
       "0.318170791449549"
      ],
      "text/plain": [
       "[1] 0.3181708"
      ]
     },
     "metadata": {},
     "output_type": "display_data"
    },
    {
     "data": {
      "image/png": "[encoded data removed]",
      "text/plain": [
       "plot without title"
      ]
     },
     "metadata": {},
     "output_type": "display_data"
    }
   ],
   "source": [
    "cor(-log10(df3$pv.5),-log10(df3$pv.10))\n",
    "options(repr.plot.width=5, repr.plot.height=5)\n",
    "ggplot(df3, aes(x = -log10(pv.5), y = -log10(pv.10))) + geom_point(col = 'grey') +\n",
    "    geom_point(aes(x = -log10(pv.5), y = -log10(pv.10)), data = df3[df3$qv.10<0.05,], col = \"cornflowerblue\", alpha = 0.5)+\n",
    "    geom_point(aes(x = -log10(pv.5), y = -log10(pv.10)), data = df3[df3$qv.5<0.05,], col = \"firebrick\", alpha = 0.8) + \n",
    "    geom_point(aes(x = -log10(pv.5), y = -log10(pv.10)), data = df3[df3$qv.5<0.05 & df3$qv.10<0.05,], col = \"gold\", alpha = 0.8) + \n",
    "    theme_bw()"
   ]
  },
  {
   "cell_type": "code",
   "execution_count": null,
   "metadata": {},
   "outputs": [],
   "source": []
  },
  {
   "cell_type": "code",
   "execution_count": null,
   "metadata": {},
   "outputs": [],
   "source": []
  }
 ],
 "metadata": {
  "kernelspec": {
   "display_name": "R",
   "language": "R",
   "name": "ir"
  },
  "language_info": {
   "codemirror_mode": "r",
   "file_extension": ".r",
   "mimetype": "text/x-r-source",
   "name": "R",
   "pygments_lexer": "r",
   "version": "3.6.1"
  }
 },
 "nbformat": 4,
 "nbformat_minor": 4
}
