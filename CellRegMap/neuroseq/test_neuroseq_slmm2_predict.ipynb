{
 "cells": [
  {
   "cell_type": "code",
   "execution_count": 1,
   "metadata": {},
   "outputs": [],
   "source": [
    "import numpy as np\n",
    "from numpy import ones\n",
    "from numpy_sugar import ddot\n",
    "import os\n",
    "import sys\n",
    "import pandas as pd\n",
    "from pandas_plink import read_plink1_bin\n",
    "from numpy.linalg import cholesky\n",
    "from numpy_sugar.linalg import economic_svd\n",
    "import xarray as xr\n",
    "from struct_lmm2 import StructLMM2\n",
    "from limix.qc import quantile_gaussianize"
   ]
  },
  {
   "cell_type": "code",
   "execution_count": 2,
   "metadata": {},
   "outputs": [],
   "source": [
    "perm = None\n",
    "chrom = 1"
   ]
  },
  {
   "cell_type": "code",
   "execution_count": 3,
   "metadata": {},
   "outputs": [
    {
     "data": {
      "text/html": [
       "<div>\n",
       "<style scoped>\n",
       "    .dataframe tbody tr th:only-of-type {\n",
       "        vertical-align: middle;\n",
       "    }\n",
       "\n",
       "    .dataframe tbody tr th {\n",
       "        vertical-align: top;\n",
       "    }\n",
       "\n",
       "    .dataframe thead th {\n",
       "        text-align: right;\n",
       "    }\n",
       "</style>\n",
       "<table border=\"1\" class=\"dataframe\">\n",
       "  <thead>\n",
       "    <tr style=\"text-align: right;\">\n",
       "      <th></th>\n",
       "      <th>genotype_individual_id</th>\n",
       "      <th>phenotype_sample_id</th>\n",
       "    </tr>\n",
       "  </thead>\n",
       "  <tbody>\n",
       "    <tr>\n",
       "      <th>0</th>\n",
       "      <td>HPSI0714i-iudw_1</td>\n",
       "      <td>iudw_1-d30-cluster0</td>\n",
       "    </tr>\n",
       "    <tr>\n",
       "      <th>1</th>\n",
       "      <td>HPSI0714i-iudw_1</td>\n",
       "      <td>iudw_1-d30-cluster1</td>\n",
       "    </tr>\n",
       "    <tr>\n",
       "      <th>2</th>\n",
       "      <td>HPSI0714i-iudw_1</td>\n",
       "      <td>iudw_1-d30-cluster2</td>\n",
       "    </tr>\n",
       "    <tr>\n",
       "      <th>3</th>\n",
       "      <td>HPSI0714i-iudw_1</td>\n",
       "      <td>iudw_1-d30-cluster3</td>\n",
       "    </tr>\n",
       "    <tr>\n",
       "      <th>4</th>\n",
       "      <td>HPSI0714i-iudw_1</td>\n",
       "      <td>iudw_1-d30-cluster4</td>\n",
       "    </tr>\n",
       "  </tbody>\n",
       "</table>\n",
       "</div>"
      ],
      "text/plain": [
       "  genotype_individual_id  phenotype_sample_id\n",
       "0       HPSI0714i-iudw_1  iudw_1-d30-cluster0\n",
       "1       HPSI0714i-iudw_1  iudw_1-d30-cluster1\n",
       "2       HPSI0714i-iudw_1  iudw_1-d30-cluster2\n",
       "3       HPSI0714i-iudw_1  iudw_1-d30-cluster3\n",
       "4       HPSI0714i-iudw_1  iudw_1-d30-cluster4"
      ]
     },
     "execution_count": 3,
     "metadata": {},
     "output_type": "execute_result"
    }
   ],
   "source": [
    "## this file will map cells to donors, it will also only including donors we have single cell data (a subset of all of HipSci donors)\n",
    "sample_mapping_file = \"/hps/nobackup/stegle/users/acuomo/all_scripts/struct_LMM2/sc_neuroseq/input_files/sample_mapping_file.csv\"\n",
    "sample_mapping = pd.read_csv(sample_mapping_file, dtype={\"genotype_individual_id\": str, \"phenotype_sample_id\": str})\n",
    "sample_mapping.head()"
   ]
  },
  {
   "cell_type": "code",
   "execution_count": 4,
   "metadata": {},
   "outputs": [
    {
     "name": "stdout",
     "output_type": "stream",
     "text": [
      "Number of unique donors: 188\n"
     ]
    }
   ],
   "source": [
    "## extract unique individuals\n",
    "donors = sample_mapping[\"genotype_individual_id\"].unique()\n",
    "donors.sort()\n",
    "print(\"Number of unique donors: {}\".format(len(donors)))"
   ]
  },
  {
   "cell_type": "code",
   "execution_count": 5,
   "metadata": {},
   "outputs": [
    {
     "name": "stderr",
     "output_type": "stream",
     "text": [
      "Mapping files: 100%|██████████| 3/3 [06:19<00:00, 126.41s/it]\n"
     ]
    }
   ],
   "source": [
    "## read in genotype file\n",
    "plink_file = \"/hps/nobackup/hipsci/scratch/genotypes/imputed/2017-03-27/Full_Filtered_SNPs_Plink/hipsci.wec.gtarray.HumanCoreExome.imputed_phased.20170327.genotypes.norm.renamed.bed\"\n",
    "G = read_plink1_bin(plink_file)"
   ]
  },
  {
   "cell_type": "code",
   "execution_count": 6,
   "metadata": {},
   "outputs": [
    {
     "name": "stdout",
     "output_type": "stream",
     "text": [
      "Number of donors after kinship intersection: 171\n"
     ]
    }
   ],
   "source": [
    "## read in GRM kinship matrix\n",
    "kinship_file = \"/hps/nobackup/hipsci/scratch/genotypes/imputed/2017-03-27/Full_Filtered_SNPs_Plink-F/hipsci.wec.gtarray.HumanCoreExome.imputed_phased.20170327.genotypes.norm.renamed.kinship\"\n",
    "K = pd.read_csv(kinship_file, sep=\"\\t\", index_col=0)\n",
    "assert all(K.columns == K.index)\n",
    "K = xr.DataArray(K.values, dims=[\"sample_0\", \"sample_1\"], coords={\"sample_0\": K.columns, \"sample_1\": K.index})\n",
    "K = K.sortby(\"sample_0\").sortby(\"sample_1\")\n",
    "donors = sorted(set(list(K.sample_0.values)).intersection(donors))\n",
    "print(\"Number of donors after kinship intersection: {}\".format(len(donors)))"
   ]
  },
  {
   "cell_type": "code",
   "execution_count": 7,
   "metadata": {},
   "outputs": [],
   "source": [
    "## subset to relevant donors\n",
    "K = K.sel(sample_0=donors, sample_1=donors)\n",
    "assert all(K.sample_0 == donors)\n",
    "assert all(K.sample_1 == donors)"
   ]
  },
  {
   "cell_type": "code",
   "execution_count": 8,
   "metadata": {},
   "outputs": [],
   "source": [
    "## and decompose such as K = L @ L.T\n",
    "L_kinship = cholesky(K.values)\n",
    "L_kinship = xr.DataArray(L_kinship, dims=[\"sample\", \"col\"], coords={\"sample\": K.sample_0.values})\n",
    "assert all(L_kinship.sample.values == K.sample_0.values)\n",
    "del K"
   ]
  },
  {
   "cell_type": "code",
   "execution_count": 9,
   "metadata": {},
   "outputs": [
    {
     "name": "stdout",
     "output_type": "stream",
     "text": [
      "Sample mapping number of rows BEFORE intersection: 8479\n",
      "Sample mapping number of rows AFTER intersection: 7691\n"
     ]
    }
   ],
   "source": [
    "print(\"Sample mapping number of rows BEFORE intersection: {}\".format(sample_mapping.shape[0]))\n",
    "sample_mapping = sample_mapping[sample_mapping[\"genotype_individual_id\"].isin(donors)]\n",
    "print(\"Sample mapping number of rows AFTER intersection: {}\".format(sample_mapping.shape[0]))"
   ]
  },
  {
   "cell_type": "code",
   "execution_count": 10,
   "metadata": {},
   "outputs": [],
   "source": [
    "# expand from donors to cells\n",
    "L_expanded = L_kinship.sel(sample=sample_mapping[\"genotype_individual_id\"].values)\n",
    "assert all(L_expanded.sample.values == sample_mapping[\"genotype_individual_id\"].values)"
   ]
  },
  {
   "cell_type": "code",
   "execution_count": 11,
   "metadata": {},
   "outputs": [],
   "source": [
    "# environments\n",
    "# meta-cells by PCs (15)\n",
    "E_file = \"/hps/nobackup/stegle/users/acuomo/all_scripts/struct_LMM2/sc_neuroseq/input_files/15PCs.csv\"\n",
    "E = pd.read_csv(E_file, index_col = 0)\n",
    "E = xr.DataArray(E.values, dims=[\"cell\", \"pc\"], coords={\"cell\": E.index.values, \"pc\": E.columns.values})\n",
    "E = E.sel(cell=sample_mapping[\"phenotype_sample_id\"].values)\n",
    "assert all(E.cell.values == sample_mapping[\"phenotype_sample_id\"].values)"
   ]
  },
  {
   "cell_type": "code",
   "execution_count": 12,
   "metadata": {},
   "outputs": [
    {
     "name": "stderr",
     "output_type": "stream",
     "text": [
      "/nfs/software/stegle/users/acuomo/conda-envs/struct-lmm2/lib/python3.8/site-packages/xarray/core/indexing.py:1369: PerformanceWarning: Slicing with an out-of-order index is generating 38 times more chunks\n",
      "  return self.array[key]\n",
      "/nfs/software/stegle/users/acuomo/conda-envs/struct-lmm2/lib/python3.8/site-packages/xarray/core/indexing.py:1369: PerformanceWarning: Slicing is producing a large chunk. To accept the large\n",
      "chunk and silence this warning, set the option\n",
      "    >>> with dask.config.set(**{'array.slicing.split_large_chunks': False}):\n",
      "    ...     array[indexer]\n",
      "\n",
      "To avoid creating the large chunks, set the option\n",
      "    >>> with dask.config.set(**{'array.slicing.split_large_chunks': True}):\n",
      "    ...     array[indexer]\n",
      "  return self.array[key]\n"
     ]
    }
   ],
   "source": [
    "# subselect to only SNPs on right chromosome\n",
    "G_sel = G.where(G.chrom == str(chrom), drop=True)\n",
    "# and to individuals in smf\n",
    "G_exp = G_sel.sel(sample=sample_mapping[\"genotype_individual_id\"].values)\n",
    "assert all(L_expanded.sample.values == G_exp.sample.values)"
   ]
  },
  {
   "cell_type": "code",
   "execution_count": 13,
   "metadata": {},
   "outputs": [],
   "source": [
    "n_factors = 15\n",
    "# E = E.values[:,0:n_factors]"
   ]
  },
  {
   "cell_type": "code",
   "execution_count": 14,
   "metadata": {},
   "outputs": [],
   "source": [
    "# get eigendecomposition of EEt\n",
    "[U, S, _] = economic_svd(E)\n",
    "us = U * S\n",
    "# get decomposition of K*EEt\n",
    "Ls = [ddot(us[:,i], L_expanded) for i in range(us.shape[1])]"
   ]
  },
  {
   "cell_type": "code",
   "execution_count": 15,
   "metadata": {},
   "outputs": [],
   "source": [
    "# Phenotype (meta-cell gene expression)\n",
    "phenotype_file = \"/hps/nobackup/stegle/users/acuomo/all_scripts/struct_LMM2/sc_neuroseq/input_files/phenotype.csv.pkl\"\n",
    "phenotype = pd.read_pickle(phenotype_file)"
   ]
  },
  {
   "cell_type": "code",
   "execution_count": 16,
   "metadata": {},
   "outputs": [
    {
     "name": "stdout",
     "output_type": "stream",
     "text": [
      "Phenotype shape BEFORE selection: (32738, 8479)\n",
      "Phenotype shape AFTER selection: (32738, 7691)\n"
     ]
    }
   ],
   "source": [
    "print(\"Phenotype shape BEFORE selection: {}\".format(phenotype.shape))\n",
    "phenotype = xr.DataArray(phenotype.values, dims=[\"trait\", \"cell\"], coords={\"trait\": phenotype.index.values, \"cell\": phenotype.columns.values})\n",
    "phenotype = phenotype.sel(cell=sample_mapping[\"phenotype_sample_id\"].values)\n",
    "print(\"Phenotype shape AFTER selection: {}\".format(phenotype.shape))\n",
    "assert all(phenotype.cell.values == sample_mapping[\"phenotype_sample_id\"].values)"
   ]
  },
  {
   "cell_type": "code",
   "execution_count": 17,
   "metadata": {},
   "outputs": [],
   "source": [
    "# Filter on specific gene-SNP pairs\n",
    "# eQTL from neuroseq DA (day30 + day52 + day52 ROT treated)\n",
    "neuro_eqtl_file = \"/hps/nobackup/stegle/users/acuomo/all_scripts/struct_LMM2/sc_neuroseq/input_files/DA_eqtl_allconditions_FDR5pct.csv\" # consider filter further (significant only)\n",
    "neuro_eqtl = pd.read_csv(neuro_eqtl_file)\n",
    "neuro_eqtl[\"chrom\"] = [int(i[:i.find(\"_\")]) for i in neuro_eqtl[\"snp_id\"]]\n",
    "genes = neuro_eqtl[neuro_eqtl['chrom']==int(chrom)]['feature'].unique()"
   ]
  },
  {
   "cell_type": "code",
   "execution_count": 18,
   "metadata": {},
   "outputs": [],
   "source": [
    "n_samples = phenotype.shape[1]\n",
    "M = ones((n_samples, 1))"
   ]
  },
  {
   "cell_type": "code",
   "execution_count": 19,
   "metadata": {},
   "outputs": [
    {
     "data": {
      "text/plain": [
       "'ENSG00000117245'"
      ]
     },
     "execution_count": 19,
     "metadata": {},
     "output_type": "execute_result"
    }
   ],
   "source": [
    "i=109\n",
    "trait_name = genes[i]\n",
    "trait_name"
   ]
  },
  {
   "cell_type": "code",
   "execution_count": 20,
   "metadata": {},
   "outputs": [
    {
     "name": "stdout",
     "output_type": "stream",
     "text": [
      "/hps/nobackup/stegle/users/acuomo/all_scripts/struct_LMM2/sc_neuroseq/PCA/genetic_effects/PCA15/ENSG00000117245.tsv\n"
     ]
    }
   ],
   "source": [
    "folder = \"/hps/nobackup/stegle/users/acuomo/all_scripts/struct_LMM2/sc_neuroseq/PCA/genetic_effects\"\n",
    "outfilename = f\"{folder}/PCA{n_factors}/{trait_name}.tsv\"\n",
    "print(outfilename)"
   ]
  },
  {
   "cell_type": "code",
   "execution_count": 21,
   "metadata": {},
   "outputs": [],
   "source": [
    "y = phenotype.sel(trait=trait_name)\n",
    "# y = quantile_gaussianize(y)\n",
    "y = np.asarray(y)\n",
    "\n",
    "# E = quantile_gaussianize(E)"
   ]
  },
  {
   "cell_type": "code",
   "execution_count": 22,
   "metadata": {},
   "outputs": [],
   "source": [
    "# null model\n",
    "slmm2 = StructLMM2(y, M, E, Ls)"
   ]
  },
  {
   "cell_type": "code",
   "execution_count": 23,
   "metadata": {},
   "outputs": [],
   "source": [
    "leads = neuro_eqtl[neuro_eqtl['feature']==trait_name]['snp_id'].unique()\n",
    "G_tmp = G_exp[:,G_exp['snp'].isin(leads)]"
   ]
  },
  {
   "cell_type": "code",
   "execution_count": 24,
   "metadata": {},
   "outputs": [],
   "source": [
    "# predict in-sample effect size\n",
    "b = slmm2.predict_interaction(G_tmp)"
   ]
  },
  {
   "cell_type": "code",
   "execution_count": 25,
   "metadata": {},
   "outputs": [],
   "source": [
    "beta_star = b[0:y.shape[0],:]"
   ]
  },
  {
   "cell_type": "code",
   "execution_count": 26,
   "metadata": {},
   "outputs": [
    {
     "data": {
      "text/html": [
       "<div>\n",
       "<style scoped>\n",
       "    .dataframe tbody tr th:only-of-type {\n",
       "        vertical-align: middle;\n",
       "    }\n",
       "\n",
       "    .dataframe tbody tr th {\n",
       "        vertical-align: top;\n",
       "    }\n",
       "\n",
       "    .dataframe thead th {\n",
       "        text-align: right;\n",
       "    }\n",
       "</style>\n",
       "<table border=\"1\" class=\"dataframe\">\n",
       "  <thead>\n",
       "    <tr style=\"text-align: right;\">\n",
       "      <th></th>\n",
       "      <th>1_1_21041116_T_C</th>\n",
       "    </tr>\n",
       "  </thead>\n",
       "  <tbody>\n",
       "    <tr>\n",
       "      <th>iudw_1-d30-cluster0</th>\n",
       "      <td>0.000017</td>\n",
       "    </tr>\n",
       "    <tr>\n",
       "      <th>iudw_1-d30-cluster1</th>\n",
       "      <td>-0.013735</td>\n",
       "    </tr>\n",
       "    <tr>\n",
       "      <th>iudw_1-d30-cluster2</th>\n",
       "      <td>0.016429</td>\n",
       "    </tr>\n",
       "    <tr>\n",
       "      <th>iudw_1-d30-cluster3</th>\n",
       "      <td>-0.014477</td>\n",
       "    </tr>\n",
       "    <tr>\n",
       "      <th>iudw_1-d30-cluster4</th>\n",
       "      <td>-0.009633</td>\n",
       "    </tr>\n",
       "  </tbody>\n",
       "</table>\n",
       "</div>"
      ],
      "text/plain": [
       "                     1_1_21041116_T_C\n",
       "iudw_1-d30-cluster0          0.000017\n",
       "iudw_1-d30-cluster1         -0.013735\n",
       "iudw_1-d30-cluster2          0.016429\n",
       "iudw_1-d30-cluster3         -0.014477\n",
       "iudw_1-d30-cluster4         -0.009633"
      ]
     },
     "execution_count": 26,
     "metadata": {},
     "output_type": "execute_result"
    }
   ],
   "source": [
    "cells = phenotype[\"cell\"].values\n",
    "snps = G_tmp[\"variant\"].values\n",
    "betas_df = pd.DataFrame(data = beta_star, columns = snps, index = cells)\n",
    "betas_df.head()"
   ]
  },
  {
   "cell_type": "code",
   "execution_count": 27,
   "metadata": {},
   "outputs": [],
   "source": [
    "betas_df.to_csv(outfilename, sep='\\t')"
   ]
  },
  {
   "cell_type": "code",
   "execution_count": null,
   "metadata": {},
   "outputs": [
    {
     "name": "stdout",
     "output_type": "stream",
     "text": [
      "File already exists, skipping gene\n",
      "File already exists, skipping gene\n",
      "File already exists, skipping gene\n",
      "File already exists, skipping gene\n",
      "File already exists, skipping gene\n",
      "File already exists, skipping gene\n",
      "File already exists, skipping gene\n",
      "File already exists, skipping gene\n",
      "File already exists, skipping gene\n",
      "File already exists, skipping gene\n",
      "File already exists, skipping gene\n",
      "File already exists, skipping gene\n",
      "File already exists, skipping gene\n",
      "File already exists, skipping gene\n",
      "File already exists, skipping gene\n",
      "File already exists, skipping gene\n",
      "File already exists, skipping gene\n",
      "File already exists, skipping gene\n",
      "File already exists, skipping gene\n",
      "File already exists, skipping gene\n",
      "File already exists, skipping gene\n",
      "File already exists, skipping gene\n",
      "File already exists, skipping gene\n",
      "File already exists, skipping gene\n",
      "File already exists, skipping gene\n",
      "File already exists, skipping gene\n",
      "File already exists, skipping gene\n",
      "File already exists, skipping gene\n",
      "File already exists, skipping gene\n",
      "File already exists, skipping gene\n",
      "File already exists, skipping gene\n",
      "File already exists, skipping gene\n",
      "File already exists, skipping gene\n",
      "File already exists, skipping gene\n",
      "File already exists, skipping gene\n"
     ]
    }
   ],
   "source": [
    "for trait_name in genes:\n",
    "\n",
    "    folder = \"/hps/nobackup/stegle/users/acuomo/all_scripts/struct_LMM2/sc_neuroseq/PCA/genetic_effects\"\n",
    "\n",
    "    outfilename = f\"{folder}/PCA{n_factors}/{trait_name}.tsv\"\n",
    "    if os.path.exists(outfilename):\n",
    "        print(\"File already exists, skipping gene\")\n",
    "        continue\n",
    "\n",
    "    y = phenotype.sel(trait=trait_name)\n",
    "    y = np.asarray(y)\n",
    "    \n",
    "    # null model\n",
    "    slmm2 = StructLMM2(y, M, E, Ls)\n",
    "    leads = neuro_eqtl[neuro_eqtl['feature']==trait_name]['snp_id'].unique()\n",
    "    G_tmp = G_exp[:,G_exp['snp'].isin(leads)]\n",
    "    \n",
    "    # predict in-sample effect size\n",
    "    b = slmm2.predict_interaction(G_tmp)\n",
    "    beta_star = b[0:y.shape[0],:]\n",
    "    cells = phenotype[\"cell\"].values\n",
    "    snps = G_tmp[\"variant\"].values\n",
    "    betas_df = pd.DataFrame(data = beta_star, columns = snps, index = cells)\n",
    "    betas_df.to_csv(outfilename, sep='\\t')\n"
   ]
  },
  {
   "cell_type": "code",
   "execution_count": null,
   "metadata": {},
   "outputs": [],
   "source": []
  }
 ],
 "metadata": {
  "kernelspec": {
   "display_name": "Python (struct-lmm2)",
   "language": "python",
   "name": "struct-lmm2"
  },
  "language_info": {
   "codemirror_mode": {
    "name": "ipython",
    "version": 3
   },
   "file_extension": ".py",
   "mimetype": "text/x-python",
   "name": "python",
   "nbconvert_exporter": "python",
   "pygments_lexer": "ipython3",
   "version": "3.8.5"
  }
 },
 "nbformat": 4,
 "nbformat_minor": 4
}
