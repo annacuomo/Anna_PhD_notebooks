{
 "cells": [
  {
   "cell_type": "code",
   "execution_count": 1,
   "metadata": {},
   "outputs": [],
   "source": [
    "library(qvalue)"
   ]
  },
  {
   "cell_type": "code",
   "execution_count": 2,
   "metadata": {},
   "outputs": [],
   "source": [
    "## DA day 52 untreated"
   ]
  },
  {
   "cell_type": "code",
   "execution_count": 3,
   "metadata": {},
   "outputs": [
    {
     "data": {
      "text/html": [
       "<table>\n",
       "<thead><tr><th scope=col>snp_id</th><th scope=col>p_value</th><th scope=col>beta</th><th scope=col>beta_se</th><th scope=col>empirical_feature_p_value</th><th scope=col>feature_chromosome</th><th scope=col>feature_start</th><th scope=col>feature_end</th><th scope=col>n_samples</th><th scope=col>n_e_samples</th><th scope=col>alpha_param</th><th scope=col>beta_param</th><th scope=col>snp_chromosome</th><th scope=col>snp_position</th><th scope=col>assessed_allele</th><th scope=col>call_rate</th><th scope=col>maf</th><th scope=col>hwe_p</th><th scope=col>feature_id</th></tr></thead>\n",
       "<tbody>\n",
       "\t<tr><td>5_6605829_G_T  </td><td>4.526650e-04   </td><td>0.2143554      </td><td>0.06111680     </td><td>0.3137267      </td><td>5              </td><td>6599352        </td><td>6633404        </td><td>175            </td><td>175            </td><td>0.5234127      </td><td>210.2815       </td><td>5              </td><td>6605829        </td><td>T              </td><td>1              </td><td>0.4657143      </td><td>1.000000       </td><td>ENSG00000037474</td></tr>\n",
       "\t<tr><td>5_7344998_A_T  </td><td>3.154604e-05   </td><td>0.3821088      </td><td>0.09180874     </td><td>0.1073642      </td><td>5              </td><td>7396321        </td><td>7830194        </td><td>175            </td><td>175            </td><td>0.4945272      </td><td>274.1518       </td><td>5              </td><td>7344998        </td><td>T              </td><td>1              </td><td>0.1200000      </td><td>0.717637       </td><td>ENSG00000078295</td></tr>\n",
       "</tbody>\n",
       "</table>\n"
      ],
      "text/latex": [
       "\\begin{tabular}{r|lllllllllllllllllll}\n",
       " snp\\_id & p\\_value & beta & beta\\_se & empirical\\_feature\\_p\\_value & feature\\_chromosome & feature\\_start & feature\\_end & n\\_samples & n\\_e\\_samples & alpha\\_param & beta\\_param & snp\\_chromosome & snp\\_position & assessed\\_allele & call\\_rate & maf & hwe\\_p & feature\\_id\\\\\n",
       "\\hline\n",
       "\t 5\\_6605829\\_G\\_T & 4.526650e-04        & 0.2143554           & 0.06111680          & 0.3137267           & 5                   & 6599352             & 6633404             & 175                 & 175                 & 0.5234127           & 210.2815            & 5                   & 6605829             & T                   & 1                   & 0.4657143           & 1.000000            & ENSG00000037474    \\\\\n",
       "\t 5\\_7344998\\_A\\_T & 3.154604e-05        & 0.3821088           & 0.09180874          & 0.1073642           & 5                   & 7396321             & 7830194             & 175                 & 175                 & 0.4945272           & 274.1518            & 5                   & 7344998             & T                   & 1                   & 0.1200000           & 0.717637            & ENSG00000078295    \\\\\n",
       "\\end{tabular}\n"
      ],
      "text/markdown": [
       "\n",
       "| snp_id | p_value | beta | beta_se | empirical_feature_p_value | feature_chromosome | feature_start | feature_end | n_samples | n_e_samples | alpha_param | beta_param | snp_chromosome | snp_position | assessed_allele | call_rate | maf | hwe_p | feature_id |\n",
       "|---|---|---|---|---|---|---|---|---|---|---|---|---|---|---|---|---|---|---|\n",
       "| 5_6605829_G_T   | 4.526650e-04    | 0.2143554       | 0.06111680      | 0.3137267       | 5               | 6599352         | 6633404         | 175             | 175             | 0.5234127       | 210.2815        | 5               | 6605829         | T               | 1               | 0.4657143       | 1.000000        | ENSG00000037474 |\n",
       "| 5_7344998_A_T   | 3.154604e-05    | 0.3821088       | 0.09180874      | 0.1073642       | 5               | 7396321         | 7830194         | 175             | 175             | 0.4945272       | 274.1518        | 5               | 7344998         | T               | 1               | 0.1200000       | 0.717637        | ENSG00000078295 |\n",
       "\n"
      ],
      "text/plain": [
       "  snp_id        p_value      beta      beta_se    empirical_feature_p_value\n",
       "1 5_6605829_G_T 4.526650e-04 0.2143554 0.06111680 0.3137267                \n",
       "2 5_7344998_A_T 3.154604e-05 0.3821088 0.09180874 0.1073642                \n",
       "  feature_chromosome feature_start feature_end n_samples n_e_samples\n",
       "1 5                  6599352       6633404     175       175        \n",
       "2 5                  7396321       7830194     175       175        \n",
       "  alpha_param beta_param snp_chromosome snp_position assessed_allele call_rate\n",
       "1 0.5234127   210.2815   5              6605829      T               1        \n",
       "2 0.4945272   274.1518   5              7344998      T               1        \n",
       "  maf       hwe_p    feature_id     \n",
       "1 0.4657143 1.000000 ENSG00000037474\n",
       "2 0.1200000 0.717637 ENSG00000078295"
      ]
     },
     "metadata": {},
     "output_type": "display_data"
    },
    {
     "data": {
      "text/html": [
       "1024"
      ],
      "text/latex": [
       "1024"
      ],
      "text/markdown": [
       "1024"
      ],
      "text/plain": [
       "[1] 1024"
      ]
     },
     "metadata": {},
     "output_type": "display_data"
    }
   ],
   "source": [
    "filename2 = \"/nfs/leia/research/stegle/dseaton/hipsci/singlecell_neuroseq/data/data_processed/pool1_17_D52/qtl_analysis/eqtl_discovery_separated_by_treatment/input_files_untreated/celltype_DA/top_qtl_results_all.txt\"\n",
    "myfile2 = read.csv(filename2,sep=\"\\t\")\n",
    "head(myfile2,2)\n",
    "myfile2$q_value = qvalue(myfile2$empirical_feature_p_value)$qvalues\n",
    "length(unique(myfile2[myfile2$q_value < 0.05,'feature_id']))"
   ]
  },
  {
   "cell_type": "code",
   "execution_count": 5,
   "metadata": {},
   "outputs": [],
   "source": [
    "da_d52_none_eqtl = myfile2[myfile2$q_value < 0.05,c(\"feature_id\",\"snp_id\")]"
   ]
  },
  {
   "cell_type": "code",
   "execution_count": 6,
   "metadata": {},
   "outputs": [
    {
     "data": {
      "text/html": [
       "<table>\n",
       "<thead><tr><th></th><th scope=col>feature_id</th><th scope=col>snp_id</th></tr></thead>\n",
       "<tbody>\n",
       "\t<tr><th scope=row>20</th><td>ENSG00000090054</td><td>9_94639418_T_A </td></tr>\n",
       "\t<tr><th scope=row>22</th><td>ENSG00000123975</td><td>9_91743809_C_T </td></tr>\n",
       "\t<tr><th scope=row>27</th><td>ENSG00000148090</td><td>9_93981649_G_A </td></tr>\n",
       "\t<tr><th scope=row>50</th><td>ENSG00000180481</td><td>12_75836087_C_A</td></tr>\n",
       "\t<tr><th scope=row>52</th><td>ENSG00000186908</td><td>12_77128577_G_A</td></tr>\n",
       "\t<tr><th scope=row>79</th><td>ENSG00000129925</td><td>16_421723_A_C  </td></tr>\n",
       "</tbody>\n",
       "</table>\n"
      ],
      "text/latex": [
       "\\begin{tabular}{r|ll}\n",
       "  & feature\\_id & snp\\_id\\\\\n",
       "\\hline\n",
       "\t20 & ENSG00000090054       & 9\\_94639418\\_T\\_A \\\\\n",
       "\t22 & ENSG00000123975       & 9\\_91743809\\_C\\_T \\\\\n",
       "\t27 & ENSG00000148090       & 9\\_93981649\\_G\\_A \\\\\n",
       "\t50 & ENSG00000180481       & 12\\_75836087\\_C\\_A\\\\\n",
       "\t52 & ENSG00000186908       & 12\\_77128577\\_G\\_A\\\\\n",
       "\t79 & ENSG00000129925       & 16\\_421723\\_A\\_C  \\\\\n",
       "\\end{tabular}\n"
      ],
      "text/markdown": [
       "\n",
       "| <!--/--> | feature_id | snp_id |\n",
       "|---|---|---|\n",
       "| 20 | ENSG00000090054 | 9_94639418_T_A  |\n",
       "| 22 | ENSG00000123975 | 9_91743809_C_T  |\n",
       "| 27 | ENSG00000148090 | 9_93981649_G_A  |\n",
       "| 50 | ENSG00000180481 | 12_75836087_C_A |\n",
       "| 52 | ENSG00000186908 | 12_77128577_G_A |\n",
       "| 79 | ENSG00000129925 | 16_421723_A_C   |\n",
       "\n"
      ],
      "text/plain": [
       "   feature_id      snp_id         \n",
       "20 ENSG00000090054 9_94639418_T_A \n",
       "22 ENSG00000123975 9_91743809_C_T \n",
       "27 ENSG00000148090 9_93981649_G_A \n",
       "50 ENSG00000180481 12_75836087_C_A\n",
       "52 ENSG00000186908 12_77128577_G_A\n",
       "79 ENSG00000129925 16_421723_A_C  "
      ]
     },
     "metadata": {},
     "output_type": "display_data"
    }
   ],
   "source": [
    "head(da_d52_none_eqtl)"
   ]
  },
  {
   "cell_type": "code",
   "execution_count": 7,
   "metadata": {},
   "outputs": [],
   "source": [
    "mydir = \"/hps/nobackup/stegle/users/acuomo/all_scripts/struct_LMM2/sc_neuroseq/\"\n",
    "filename = paste0(mydir, \"da_d52_none_eqtl_fdr5pct.csv\")\n",
    "write.csv(da_d52_none_eqtl, filename)"
   ]
  },
  {
   "cell_type": "code",
   "execution_count": null,
   "metadata": {},
   "outputs": [],
   "source": []
  }
 ],
 "metadata": {
  "kernelspec": {
   "display_name": "R",
   "language": "R",
   "name": "ir"
  },
  "language_info": {
   "codemirror_mode": "r",
   "file_extension": ".r",
   "mimetype": "text/x-r-source",
   "name": "R",
   "pygments_lexer": "r",
   "version": "3.6.1"
  }
 },
 "nbformat": 4,
 "nbformat_minor": 4
}
