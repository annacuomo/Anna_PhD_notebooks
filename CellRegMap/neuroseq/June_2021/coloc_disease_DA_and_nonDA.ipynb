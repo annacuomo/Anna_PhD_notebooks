{
 "cells": [
  {
   "cell_type": "code",
   "execution_count": 1,
   "id": "87f21c17",
   "metadata": {},
   "outputs": [],
   "source": [
    "df_coloc = read.csv(\"/hps/nobackup/stegle/users/acuomo/all_scripts/struct_LMM2/sc_neuroseq/coloc_GxC.csv\", row.names=1)"
   ]
  },
  {
   "cell_type": "code",
   "execution_count": 4,
   "id": "8520096b",
   "metadata": {},
   "outputs": [
    {
     "data": {
      "text/html": [
       "<ol class=list-inline>\n",
       "\t<li>'ATG10'</li>\n",
       "\t<li>'CHRNA3'</li>\n",
       "\t<li>'EIF5A'</li>\n",
       "\t<li>'GALNT10'</li>\n",
       "\t<li>'GPR171'</li>\n",
       "\t<li>'KIF17'</li>\n",
       "\t<li>'KLRC2'</li>\n",
       "\t<li>'MAPT-AS1'</li>\n",
       "\t<li>'MAST3'</li>\n",
       "\t<li>'MPHOSPH9'</li>\n",
       "\t<li>'NDST4'</li>\n",
       "\t<li>'PCDHA9'</li>\n",
       "\t<li>'PEX6'</li>\n",
       "\t<li>'PRKCA'</li>\n",
       "\t<li>'PRR7-AS1'</li>\n",
       "\t<li>'PRSS36'</li>\n",
       "\t<li>'RGS14'</li>\n",
       "\t<li>'RHEBL1'</li>\n",
       "\t<li>'SLC35E2'</li>\n",
       "\t<li>'STAT6'</li>\n",
       "\t<li>'SUMF1'</li>\n",
       "\t<li>'TUBGCP4'</li>\n",
       "\t<li>'ZFR2'</li>\n",
       "</ol>\n"
      ],
      "text/latex": [
       "\\begin{enumerate*}\n",
       "\\item 'ATG10'\n",
       "\\item 'CHRNA3'\n",
       "\\item 'EIF5A'\n",
       "\\item 'GALNT10'\n",
       "\\item 'GPR171'\n",
       "\\item 'KIF17'\n",
       "\\item 'KLRC2'\n",
       "\\item 'MAPT-AS1'\n",
       "\\item 'MAST3'\n",
       "\\item 'MPHOSPH9'\n",
       "\\item 'NDST4'\n",
       "\\item 'PCDHA9'\n",
       "\\item 'PEX6'\n",
       "\\item 'PRKCA'\n",
       "\\item 'PRR7-AS1'\n",
       "\\item 'PRSS36'\n",
       "\\item 'RGS14'\n",
       "\\item 'RHEBL1'\n",
       "\\item 'SLC35E2'\n",
       "\\item 'STAT6'\n",
       "\\item 'SUMF1'\n",
       "\\item 'TUBGCP4'\n",
       "\\item 'ZFR2'\n",
       "\\end{enumerate*}\n"
      ],
      "text/markdown": [
       "1. 'ATG10'\n",
       "2. 'CHRNA3'\n",
       "3. 'EIF5A'\n",
       "4. 'GALNT10'\n",
       "5. 'GPR171'\n",
       "6. 'KIF17'\n",
       "7. 'KLRC2'\n",
       "8. 'MAPT-AS1'\n",
       "9. 'MAST3'\n",
       "10. 'MPHOSPH9'\n",
       "11. 'NDST4'\n",
       "12. 'PCDHA9'\n",
       "13. 'PEX6'\n",
       "14. 'PRKCA'\n",
       "15. 'PRR7-AS1'\n",
       "16. 'PRSS36'\n",
       "17. 'RGS14'\n",
       "18. 'RHEBL1'\n",
       "19. 'SLC35E2'\n",
       "20. 'STAT6'\n",
       "21. 'SUMF1'\n",
       "22. 'TUBGCP4'\n",
       "23. 'ZFR2'\n",
       "\n",
       "\n"
      ],
      "text/plain": [
       " [1] \"ATG10\"    \"CHRNA3\"   \"EIF5A\"    \"GALNT10\"  \"GPR171\"   \"KIF17\"   \n",
       " [7] \"KLRC2\"    \"MAPT-AS1\" \"MAST3\"    \"MPHOSPH9\" \"NDST4\"    \"PCDHA9\"  \n",
       "[13] \"PEX6\"     \"PRKCA\"    \"PRR7-AS1\" \"PRSS36\"   \"RGS14\"    \"RHEBL1\"  \n",
       "[19] \"SLC35E2\"  \"STAT6\"    \"SUMF1\"    \"TUBGCP4\"  \"ZFR2\"    "
      ]
     },
     "metadata": {},
     "output_type": "display_data"
    }
   ],
   "source": [
    "df_coloc$gene = as.character(df_coloc$gene)\n",
    "unique(as.character(df_coloc$gene))"
   ]
  },
  {
   "cell_type": "code",
   "execution_count": null,
   "id": "879a39c8",
   "metadata": {},
   "outputs": [],
   "source": [
    "################### DA only"
   ]
  },
  {
   "cell_type": "code",
   "execution_count": 16,
   "id": "455322ed",
   "metadata": {
    "scrolled": false
   },
   "outputs": [
    {
     "data": {
      "text/html": [
       "<table>\n",
       "<thead><tr><th scope=col>gene</th><th scope=col>label</th><th scope=col>eqtl</th><th scope=col>PP4</th><th scope=col>study_id</th><th scope=col>celltype_tissue</th></tr></thead>\n",
       "<tbody>\n",
       "\t<tr><td>ATG10               </td><td>9                   </td><td>ATG10-5_81395824_T_G</td><td>0.8845845           </td><td>GCST006572          </td><td>FPP_D11             </td></tr>\n",
       "\t<tr><td>ATG10               </td><td>9                   </td><td>ATG10-5_81395824_T_G</td><td>0.8968670           </td><td>GCST006572          </td><td>P_FPP_D11           </td></tr>\n",
       "\t<tr><td>ATG10               </td><td>9                   </td><td>ATG10-5_81395824_T_G</td><td>0.8259245           </td><td>GCST006572          </td><td>FPP_D30             </td></tr>\n",
       "\t<tr><td>ATG10               </td><td>9                   </td><td>ATG10-5_81395824_T_G</td><td>0.8773539           </td><td>GCST006572          </td><td>DA_D30              </td></tr>\n",
       "\t<tr><td>ATG10               </td><td>9                   </td><td>ATG10-5_81395824_T_G</td><td>0.7808354           </td><td>GCST006572          </td><td>Astro_D52_ROT       </td></tr>\n",
       "\t<tr><td>ATG10               </td><td>9                   </td><td>ATG10-5_81395824_T_G</td><td>0.7256878           </td><td>GCST006572          </td><td>Astro_D52_NONE      </td></tr>\n",
       "\t<tr><td>ATG10               </td><td>9                   </td><td>ATG10-5_81395824_T_G</td><td>0.5351271           </td><td>GCST006572          </td><td>DA_D52_ROT          </td></tr>\n",
       "\t<tr><td>ATG10               </td><td>9                   </td><td>ATG10-5_81395824_T_G</td><td>0.8461358           </td><td>GCST006572          </td><td>DA_D52_NONE         </td></tr>\n",
       "\t<tr><td>ATG10               </td><td>9                   </td><td>ATG10-5_81395824_T_G</td><td>0.5203575           </td><td>GCST006572          </td><td>Epen1_D52_NONE      </td></tr>\n",
       "\t<tr><td>ATG10               </td><td>9                   </td><td>ATG10-5_81395824_T_G</td><td>0.6054000           </td><td>GCST006572          </td><td>Sert_D52_ROT        </td></tr>\n",
       "</tbody>\n",
       "</table>\n"
      ],
      "text/latex": [
       "\\begin{tabular}{r|llllll}\n",
       " gene & label & eqtl & PP4 & study\\_id & celltype\\_tissue\\\\\n",
       "\\hline\n",
       "\t ATG10                      & 9                          & ATG10-5\\_81395824\\_T\\_G & 0.8845845                  & GCST006572                 & FPP\\_D11                 \\\\\n",
       "\t ATG10                      & 9                          & ATG10-5\\_81395824\\_T\\_G & 0.8968670                  & GCST006572                 & P\\_FPP\\_D11             \\\\\n",
       "\t ATG10                      & 9                          & ATG10-5\\_81395824\\_T\\_G & 0.8259245                  & GCST006572                 & FPP\\_D30                 \\\\\n",
       "\t ATG10                      & 9                          & ATG10-5\\_81395824\\_T\\_G & 0.8773539                  & GCST006572                 & DA\\_D30                  \\\\\n",
       "\t ATG10                      & 9                          & ATG10-5\\_81395824\\_T\\_G & 0.7808354                  & GCST006572                 & Astro\\_D52\\_ROT         \\\\\n",
       "\t ATG10                      & 9                          & ATG10-5\\_81395824\\_T\\_G & 0.7256878                  & GCST006572                 & Astro\\_D52\\_NONE        \\\\\n",
       "\t ATG10                      & 9                          & ATG10-5\\_81395824\\_T\\_G & 0.5351271                  & GCST006572                 & DA\\_D52\\_ROT            \\\\\n",
       "\t ATG10                      & 9                          & ATG10-5\\_81395824\\_T\\_G & 0.8461358                  & GCST006572                 & DA\\_D52\\_NONE           \\\\\n",
       "\t ATG10                      & 9                          & ATG10-5\\_81395824\\_T\\_G & 0.5203575                  & GCST006572                 & Epen1\\_D52\\_NONE        \\\\\n",
       "\t ATG10                      & 9                          & ATG10-5\\_81395824\\_T\\_G & 0.6054000                  & GCST006572                 & Sert\\_D52\\_ROT          \\\\\n",
       "\\end{tabular}\n"
      ],
      "text/markdown": [
       "\n",
       "| gene | label | eqtl | PP4 | study_id | celltype_tissue |\n",
       "|---|---|---|---|---|---|\n",
       "| ATG10                | 9                    | ATG10-5_81395824_T_G | 0.8845845            | GCST006572           | FPP_D11              |\n",
       "| ATG10                | 9                    | ATG10-5_81395824_T_G | 0.8968670            | GCST006572           | P_FPP_D11            |\n",
       "| ATG10                | 9                    | ATG10-5_81395824_T_G | 0.8259245            | GCST006572           | FPP_D30              |\n",
       "| ATG10                | 9                    | ATG10-5_81395824_T_G | 0.8773539            | GCST006572           | DA_D30               |\n",
       "| ATG10                | 9                    | ATG10-5_81395824_T_G | 0.7808354            | GCST006572           | Astro_D52_ROT        |\n",
       "| ATG10                | 9                    | ATG10-5_81395824_T_G | 0.7256878            | GCST006572           | Astro_D52_NONE       |\n",
       "| ATG10                | 9                    | ATG10-5_81395824_T_G | 0.5351271            | GCST006572           | DA_D52_ROT           |\n",
       "| ATG10                | 9                    | ATG10-5_81395824_T_G | 0.8461358            | GCST006572           | DA_D52_NONE          |\n",
       "| ATG10                | 9                    | ATG10-5_81395824_T_G | 0.5203575            | GCST006572           | Epen1_D52_NONE       |\n",
       "| ATG10                | 9                    | ATG10-5_81395824_T_G | 0.6054000            | GCST006572           | Sert_D52_ROT         |\n",
       "\n"
      ],
      "text/plain": [
       "   gene  label eqtl                 PP4       study_id   celltype_tissue\n",
       "1  ATG10 9     ATG10-5_81395824_T_G 0.8845845 GCST006572 FPP_D11        \n",
       "2  ATG10 9     ATG10-5_81395824_T_G 0.8968670 GCST006572 P_FPP_D11      \n",
       "3  ATG10 9     ATG10-5_81395824_T_G 0.8259245 GCST006572 FPP_D30        \n",
       "4  ATG10 9     ATG10-5_81395824_T_G 0.8773539 GCST006572 DA_D30         \n",
       "5  ATG10 9     ATG10-5_81395824_T_G 0.7808354 GCST006572 Astro_D52_ROT  \n",
       "6  ATG10 9     ATG10-5_81395824_T_G 0.7256878 GCST006572 Astro_D52_NONE \n",
       "7  ATG10 9     ATG10-5_81395824_T_G 0.5351271 GCST006572 DA_D52_ROT     \n",
       "8  ATG10 9     ATG10-5_81395824_T_G 0.8461358 GCST006572 DA_D52_NONE    \n",
       "9  ATG10 9     ATG10-5_81395824_T_G 0.5203575 GCST006572 Epen1_D52_NONE \n",
       "10 ATG10 9     ATG10-5_81395824_T_G 0.6054000 GCST006572 Sert_D52_ROT   "
      ]
     },
     "metadata": {},
     "output_type": "display_data"
    }
   ],
   "source": [
    "# cognitive performance\n",
    "df_coloc[df_coloc$gene == \"ATG10\",]"
   ]
  },
  {
   "cell_type": "code",
   "execution_count": 17,
   "id": "699b48e1",
   "metadata": {},
   "outputs": [
    {
     "data": {
      "text/html": [
       "<table>\n",
       "<thead><tr><th></th><th scope=col>gene</th><th scope=col>label</th><th scope=col>eqtl</th><th scope=col>PP4</th><th scope=col>study_id</th><th scope=col>celltype_tissue</th></tr></thead>\n",
       "<tbody>\n",
       "\t<tr><th scope=row>11</th><td>CHRNA3                </td><td>12                    </td><td>CHRNA3-15_78849034_T_C</td><td>0.5748824             </td><td>SCZ2                  </td><td>DA_D52_NONE           </td></tr>\n",
       "</tbody>\n",
       "</table>\n"
      ],
      "text/latex": [
       "\\begin{tabular}{r|llllll}\n",
       "  & gene & label & eqtl & PP4 & study\\_id & celltype\\_tissue\\\\\n",
       "\\hline\n",
       "\t11 & CHRNA3                       & 12                           & CHRNA3-15\\_78849034\\_T\\_C & 0.5748824                    & SCZ2                         & DA\\_D52\\_NONE             \\\\\n",
       "\\end{tabular}\n"
      ],
      "text/markdown": [
       "\n",
       "| <!--/--> | gene | label | eqtl | PP4 | study_id | celltype_tissue |\n",
       "|---|---|---|---|---|---|---|\n",
       "| 11 | CHRNA3                 | 12                     | CHRNA3-15_78849034_T_C | 0.5748824              | SCZ2                   | DA_D52_NONE            |\n",
       "\n"
      ],
      "text/plain": [
       "   gene   label eqtl                   PP4       study_id celltype_tissue\n",
       "11 CHRNA3 12    CHRNA3-15_78849034_T_C 0.5748824 SCZ2     DA_D52_NONE    "
      ]
     },
     "metadata": {},
     "output_type": "display_data"
    }
   ],
   "source": [
    "# SCZ\n",
    "df_coloc[df_coloc$gene == \"CHRNA3\",]"
   ]
  },
  {
   "cell_type": "code",
   "execution_count": 18,
   "id": "687ff901",
   "metadata": {},
   "outputs": [
    {
     "data": {
      "text/html": [
       "<table>\n",
       "<thead><tr><th></th><th scope=col>gene</th><th scope=col>label</th><th scope=col>eqtl</th><th scope=col>PP4</th><th scope=col>study_id</th><th scope=col>celltype_tissue</th></tr></thead>\n",
       "<tbody>\n",
       "\t<tr><th scope=row>12</th><td>EIF5A               </td><td>12                  </td><td>EIF5A-17_7207964_A_C</td><td>0.5022492           </td><td>NEALE2_6138_2       </td><td>FPP_D11             </td></tr>\n",
       "\t<tr><th scope=row>13</th><td>EIF5A               </td><td>12                  </td><td>EIF5A-17_7207964_A_C</td><td>0.5238649           </td><td>NEALE2_6138_2       </td><td>P_FPP_D11           </td></tr>\n",
       "\t<tr><th scope=row>14</th><td>EIF5A               </td><td>12                  </td><td>EIF5A-17_7207964_A_C</td><td>0.5210598           </td><td>NEALE2_6138_2       </td><td>Epen1_D30           </td></tr>\n",
       "\t<tr><th scope=row>15</th><td>EIF5A               </td><td>12                  </td><td>EIF5A-17_7207964_A_C</td><td>0.5212586           </td><td>NEALE2_6138_2       </td><td>Astro_D52_NONE      </td></tr>\n",
       "\t<tr><th scope=row>16</th><td>EIF5A               </td><td>12                  </td><td>EIF5A-17_7207964_A_C</td><td>0.5258434           </td><td>NEALE2_6138_2       </td><td>DA_D52_ROT          </td></tr>\n",
       "\t<tr><th scope=row>17</th><td>EIF5A               </td><td>12                  </td><td>EIF5A-17_7207964_A_C</td><td>0.5236645           </td><td>NEALE2_6138_2       </td><td>DA_D52_NONE         </td></tr>\n",
       "\t<tr><th scope=row>18</th><td>EIF5A               </td><td>12                  </td><td>EIF5A-17_7207964_A_C</td><td>0.5142983           </td><td>NEALE2_6138_2       </td><td>Epen1_D52_NONE      </td></tr>\n",
       "\t<tr><th scope=row>19</th><td>EIF5A               </td><td>12                  </td><td>EIF5A-17_7207964_A_C</td><td>0.5238012           </td><td>NEALE2_6138_2       </td><td>Sert_D52_ROT        </td></tr>\n",
       "\t<tr><th scope=row>20</th><td>EIF5A               </td><td>12                  </td><td>EIF5A-17_7207964_A_C</td><td>0.5246247           </td><td>NEALE2_6138_2       </td><td>Sert_D52_NONE       </td></tr>\n",
       "</tbody>\n",
       "</table>\n"
      ],
      "text/latex": [
       "\\begin{tabular}{r|llllll}\n",
       "  & gene & label & eqtl & PP4 & study\\_id & celltype\\_tissue\\\\\n",
       "\\hline\n",
       "\t12 & EIF5A                      & 12                         & EIF5A-17\\_7207964\\_A\\_C & 0.5022492                  & NEALE2\\_6138\\_2          & FPP\\_D11                 \\\\\n",
       "\t13 & EIF5A                      & 12                         & EIF5A-17\\_7207964\\_A\\_C & 0.5238649                  & NEALE2\\_6138\\_2          & P\\_FPP\\_D11             \\\\\n",
       "\t14 & EIF5A                      & 12                         & EIF5A-17\\_7207964\\_A\\_C & 0.5210598                  & NEALE2\\_6138\\_2          & Epen1\\_D30               \\\\\n",
       "\t15 & EIF5A                      & 12                         & EIF5A-17\\_7207964\\_A\\_C & 0.5212586                  & NEALE2\\_6138\\_2          & Astro\\_D52\\_NONE        \\\\\n",
       "\t16 & EIF5A                      & 12                         & EIF5A-17\\_7207964\\_A\\_C & 0.5258434                  & NEALE2\\_6138\\_2          & DA\\_D52\\_ROT            \\\\\n",
       "\t17 & EIF5A                      & 12                         & EIF5A-17\\_7207964\\_A\\_C & 0.5236645                  & NEALE2\\_6138\\_2          & DA\\_D52\\_NONE           \\\\\n",
       "\t18 & EIF5A                      & 12                         & EIF5A-17\\_7207964\\_A\\_C & 0.5142983                  & NEALE2\\_6138\\_2          & Epen1\\_D52\\_NONE        \\\\\n",
       "\t19 & EIF5A                      & 12                         & EIF5A-17\\_7207964\\_A\\_C & 0.5238012                  & NEALE2\\_6138\\_2          & Sert\\_D52\\_ROT          \\\\\n",
       "\t20 & EIF5A                      & 12                         & EIF5A-17\\_7207964\\_A\\_C & 0.5246247                  & NEALE2\\_6138\\_2          & Sert\\_D52\\_NONE         \\\\\n",
       "\\end{tabular}\n"
      ],
      "text/markdown": [
       "\n",
       "| <!--/--> | gene | label | eqtl | PP4 | study_id | celltype_tissue |\n",
       "|---|---|---|---|---|---|---|\n",
       "| 12 | EIF5A                | 12                   | EIF5A-17_7207964_A_C | 0.5022492            | NEALE2_6138_2        | FPP_D11              |\n",
       "| 13 | EIF5A                | 12                   | EIF5A-17_7207964_A_C | 0.5238649            | NEALE2_6138_2        | P_FPP_D11            |\n",
       "| 14 | EIF5A                | 12                   | EIF5A-17_7207964_A_C | 0.5210598            | NEALE2_6138_2        | Epen1_D30            |\n",
       "| 15 | EIF5A                | 12                   | EIF5A-17_7207964_A_C | 0.5212586            | NEALE2_6138_2        | Astro_D52_NONE       |\n",
       "| 16 | EIF5A                | 12                   | EIF5A-17_7207964_A_C | 0.5258434            | NEALE2_6138_2        | DA_D52_ROT           |\n",
       "| 17 | EIF5A                | 12                   | EIF5A-17_7207964_A_C | 0.5236645            | NEALE2_6138_2        | DA_D52_NONE          |\n",
       "| 18 | EIF5A                | 12                   | EIF5A-17_7207964_A_C | 0.5142983            | NEALE2_6138_2        | Epen1_D52_NONE       |\n",
       "| 19 | EIF5A                | 12                   | EIF5A-17_7207964_A_C | 0.5238012            | NEALE2_6138_2        | Sert_D52_ROT         |\n",
       "| 20 | EIF5A                | 12                   | EIF5A-17_7207964_A_C | 0.5246247            | NEALE2_6138_2        | Sert_D52_NONE        |\n",
       "\n"
      ],
      "text/plain": [
       "   gene  label eqtl                 PP4       study_id      celltype_tissue\n",
       "12 EIF5A 12    EIF5A-17_7207964_A_C 0.5022492 NEALE2_6138_2 FPP_D11        \n",
       "13 EIF5A 12    EIF5A-17_7207964_A_C 0.5238649 NEALE2_6138_2 P_FPP_D11      \n",
       "14 EIF5A 12    EIF5A-17_7207964_A_C 0.5210598 NEALE2_6138_2 Epen1_D30      \n",
       "15 EIF5A 12    EIF5A-17_7207964_A_C 0.5212586 NEALE2_6138_2 Astro_D52_NONE \n",
       "16 EIF5A 12    EIF5A-17_7207964_A_C 0.5258434 NEALE2_6138_2 DA_D52_ROT     \n",
       "17 EIF5A 12    EIF5A-17_7207964_A_C 0.5236645 NEALE2_6138_2 DA_D52_NONE    \n",
       "18 EIF5A 12    EIF5A-17_7207964_A_C 0.5142983 NEALE2_6138_2 Epen1_D52_NONE \n",
       "19 EIF5A 12    EIF5A-17_7207964_A_C 0.5238012 NEALE2_6138_2 Sert_D52_ROT   \n",
       "20 EIF5A 12    EIF5A-17_7207964_A_C 0.5246247 NEALE2_6138_2 Sert_D52_NONE  "
      ]
     },
     "metadata": {},
     "output_type": "display_data"
    }
   ],
   "source": [
    "# A levels\n",
    "df_coloc[df_coloc$gene == \"EIF5A\",]"
   ]
  },
  {
   "cell_type": "code",
   "execution_count": 19,
   "id": "d7be4cd6",
   "metadata": {},
   "outputs": [
    {
     "data": {
      "text/html": [
       "<table>\n",
       "<thead><tr><th></th><th scope=col>gene</th><th scope=col>label</th><th scope=col>eqtl</th><th scope=col>PP4</th><th scope=col>study_id</th><th scope=col>celltype_tissue</th></tr></thead>\n",
       "<tbody>\n",
       "\t<tr><th scope=row>21</th><td>GALNT10                </td><td>12                     </td><td>GALNT10-5_153526051_G_A</td><td>0.7278416              </td><td>GCST005232             </td><td>FPP_D30                </td></tr>\n",
       "\t<tr><th scope=row>22</th><td>GALNT10                </td><td>12                     </td><td>GALNT10-5_153526051_G_A</td><td>0.9802572              </td><td>GCST005232             </td><td>DA_D30                 </td></tr>\n",
       "\t<tr><th scope=row>23</th><td>GALNT10                </td><td>12                     </td><td>GALNT10-5_153526051_G_A</td><td>0.9802629              </td><td>GCST005232             </td><td>Sert_D30               </td></tr>\n",
       "\t<tr><th scope=row>24</th><td>GALNT10                </td><td>12                     </td><td>GALNT10-5_153526051_G_A</td><td>0.9303400              </td><td>GCST005232             </td><td>DA_D52_ROT             </td></tr>\n",
       "\t<tr><th scope=row>25</th><td>GALNT10                </td><td>12                     </td><td>GALNT10-5_153526051_G_A</td><td>0.9807478              </td><td>GCST005232             </td><td>DA_D52_NONE            </td></tr>\n",
       "\t<tr><th scope=row>26</th><td>GALNT10                </td><td>12                     </td><td>GALNT10-5_153526051_G_A</td><td>0.7358216              </td><td>GCST005232             </td><td>Epen1_D52_NONE         </td></tr>\n",
       "\t<tr><th scope=row>27</th><td>GALNT10                </td><td>12                     </td><td>GALNT10-5_153526051_G_A</td><td>0.9803649              </td><td>GCST005232             </td><td>Sert_D52_ROT           </td></tr>\n",
       "\t<tr><th scope=row>28</th><td>GALNT10                </td><td>12                     </td><td>GALNT10-5_153526051_G_A</td><td>0.9704334              </td><td>GCST005232             </td><td>Sert_D52_NONE          </td></tr>\n",
       "</tbody>\n",
       "</table>\n"
      ],
      "text/latex": [
       "\\begin{tabular}{r|llllll}\n",
       "  & gene & label & eqtl & PP4 & study\\_id & celltype\\_tissue\\\\\n",
       "\\hline\n",
       "\t21 & GALNT10                       & 12                            & GALNT10-5\\_153526051\\_G\\_A & 0.7278416                     & GCST005232                    & FPP\\_D30                    \\\\\n",
       "\t22 & GALNT10                       & 12                            & GALNT10-5\\_153526051\\_G\\_A & 0.9802572                     & GCST005232                    & DA\\_D30                     \\\\\n",
       "\t23 & GALNT10                       & 12                            & GALNT10-5\\_153526051\\_G\\_A & 0.9802629                     & GCST005232                    & Sert\\_D30                   \\\\\n",
       "\t24 & GALNT10                       & 12                            & GALNT10-5\\_153526051\\_G\\_A & 0.9303400                     & GCST005232                    & DA\\_D52\\_ROT               \\\\\n",
       "\t25 & GALNT10                       & 12                            & GALNT10-5\\_153526051\\_G\\_A & 0.9807478                     & GCST005232                    & DA\\_D52\\_NONE              \\\\\n",
       "\t26 & GALNT10                       & 12                            & GALNT10-5\\_153526051\\_G\\_A & 0.7358216                     & GCST005232                    & Epen1\\_D52\\_NONE           \\\\\n",
       "\t27 & GALNT10                       & 12                            & GALNT10-5\\_153526051\\_G\\_A & 0.9803649                     & GCST005232                    & Sert\\_D52\\_ROT             \\\\\n",
       "\t28 & GALNT10                       & 12                            & GALNT10-5\\_153526051\\_G\\_A & 0.9704334                     & GCST005232                    & Sert\\_D52\\_NONE            \\\\\n",
       "\\end{tabular}\n"
      ],
      "text/markdown": [
       "\n",
       "| <!--/--> | gene | label | eqtl | PP4 | study_id | celltype_tissue |\n",
       "|---|---|---|---|---|---|---|\n",
       "| 21 | GALNT10                 | 12                      | GALNT10-5_153526051_G_A | 0.7278416               | GCST005232              | FPP_D30                 |\n",
       "| 22 | GALNT10                 | 12                      | GALNT10-5_153526051_G_A | 0.9802572               | GCST005232              | DA_D30                  |\n",
       "| 23 | GALNT10                 | 12                      | GALNT10-5_153526051_G_A | 0.9802629               | GCST005232              | Sert_D30                |\n",
       "| 24 | GALNT10                 | 12                      | GALNT10-5_153526051_G_A | 0.9303400               | GCST005232              | DA_D52_ROT              |\n",
       "| 25 | GALNT10                 | 12                      | GALNT10-5_153526051_G_A | 0.9807478               | GCST005232              | DA_D52_NONE             |\n",
       "| 26 | GALNT10                 | 12                      | GALNT10-5_153526051_G_A | 0.7358216               | GCST005232              | Epen1_D52_NONE          |\n",
       "| 27 | GALNT10                 | 12                      | GALNT10-5_153526051_G_A | 0.9803649               | GCST005232              | Sert_D52_ROT            |\n",
       "| 28 | GALNT10                 | 12                      | GALNT10-5_153526051_G_A | 0.9704334               | GCST005232              | Sert_D52_NONE           |\n",
       "\n"
      ],
      "text/plain": [
       "   gene    label eqtl                    PP4       study_id   celltype_tissue\n",
       "21 GALNT10 12    GALNT10-5_153526051_G_A 0.7278416 GCST005232 FPP_D30        \n",
       "22 GALNT10 12    GALNT10-5_153526051_G_A 0.9802572 GCST005232 DA_D30         \n",
       "23 GALNT10 12    GALNT10-5_153526051_G_A 0.9802629 GCST005232 Sert_D30       \n",
       "24 GALNT10 12    GALNT10-5_153526051_G_A 0.9303400 GCST005232 DA_D52_ROT     \n",
       "25 GALNT10 12    GALNT10-5_153526051_G_A 0.9807478 GCST005232 DA_D52_NONE    \n",
       "26 GALNT10 12    GALNT10-5_153526051_G_A 0.7358216 GCST005232 Epen1_D52_NONE \n",
       "27 GALNT10 12    GALNT10-5_153526051_G_A 0.9803649 GCST005232 Sert_D52_ROT   \n",
       "28 GALNT10 12    GALNT10-5_153526051_G_A 0.9704334 GCST005232 Sert_D52_NONE  "
      ]
     },
     "metadata": {},
     "output_type": "display_data"
    }
   ],
   "source": [
    "# neuroticism\n",
    "df_coloc[df_coloc$gene == \"GALNT10\",]"
   ]
  },
  {
   "cell_type": "code",
   "execution_count": 20,
   "id": "ec800a56",
   "metadata": {},
   "outputs": [
    {
     "data": {
      "text/html": [
       "<table>\n",
       "<thead><tr><th></th><th scope=col>gene</th><th scope=col>label</th><th scope=col>eqtl</th><th scope=col>PP4</th><th scope=col>study_id</th><th scope=col>celltype_tissue</th></tr></thead>\n",
       "<tbody>\n",
       "\t<tr><th scope=row>32</th><td>MAPT-AS1                </td><td>12                      </td><td>MAPT.AS1-17_43925297_C_T</td><td>0.5093034               </td><td>NEALE2_1970             </td><td>DA_D30                  </td></tr>\n",
       "</tbody>\n",
       "</table>\n"
      ],
      "text/latex": [
       "\\begin{tabular}{r|llllll}\n",
       "  & gene & label & eqtl & PP4 & study\\_id & celltype\\_tissue\\\\\n",
       "\\hline\n",
       "\t32 & MAPT-AS1                       & 12                             & MAPT.AS1-17\\_43925297\\_C\\_T & 0.5093034                      & NEALE2\\_1970                  & DA\\_D30                      \\\\\n",
       "\\end{tabular}\n"
      ],
      "text/markdown": [
       "\n",
       "| <!--/--> | gene | label | eqtl | PP4 | study_id | celltype_tissue |\n",
       "|---|---|---|---|---|---|---|\n",
       "| 32 | MAPT-AS1                 | 12                       | MAPT.AS1-17_43925297_C_T | 0.5093034                | NEALE2_1970              | DA_D30                   |\n",
       "\n"
      ],
      "text/plain": [
       "   gene     label eqtl                     PP4       study_id   \n",
       "32 MAPT-AS1 12    MAPT.AS1-17_43925297_C_T 0.5093034 NEALE2_1970\n",
       "   celltype_tissue\n",
       "32 DA_D30         "
      ]
     },
     "metadata": {},
     "output_type": "display_data"
    }
   ],
   "source": [
    "# nervous feeling\n",
    "df_coloc[df_coloc$gene == \"MAPT-AS1\",]"
   ]
  },
  {
   "cell_type": "code",
   "execution_count": 21,
   "id": "3a647520",
   "metadata": {},
   "outputs": [
    {
     "data": {
      "text/html": [
       "<table>\n",
       "<thead><tr><th></th><th scope=col>gene</th><th scope=col>label</th><th scope=col>eqtl</th><th scope=col>PP4</th><th scope=col>study_id</th><th scope=col>celltype_tissue</th></tr></thead>\n",
       "<tbody>\n",
       "\t<tr><th scope=row>33</th><td>MAST3                </td><td>5                    </td><td>MAST3-19_18275532_G_A</td><td>0.9632765            </td><td>GCST006572           </td><td>FPP_D11              </td></tr>\n",
       "\t<tr><th scope=row>34</th><td>MAST3                </td><td>5                    </td><td>MAST3-19_18275532_G_A</td><td>0.9709341            </td><td>GCST006572           </td><td>P_FPP_D11            </td></tr>\n",
       "\t<tr><th scope=row>35</th><td>MAST3                </td><td>5                    </td><td>MAST3-19_18275532_G_A</td><td>0.9717755            </td><td>GCST006572           </td><td>FPP_D30              </td></tr>\n",
       "\t<tr><th scope=row>36</th><td>MAST3                </td><td>5                    </td><td>MAST3-19_18275532_G_A</td><td>0.9701860            </td><td>GCST006572           </td><td>DA_D30               </td></tr>\n",
       "\t<tr><th scope=row>37</th><td>MAST3                </td><td>5                    </td><td>MAST3-19_18275532_G_A</td><td>0.9091633            </td><td>GCST006572           </td><td>Sert_D30             </td></tr>\n",
       "\t<tr><th scope=row>38</th><td>MAST3                </td><td>5                    </td><td>MAST3-19_18275532_G_A</td><td>0.7882224            </td><td>GCST006572           </td><td>Astro_D52_NONE       </td></tr>\n",
       "\t<tr><th scope=row>39</th><td>MAST3                </td><td>5                    </td><td>MAST3-19_18275532_G_A</td><td>0.9538574            </td><td>GCST006572           </td><td>DA_D52_ROT           </td></tr>\n",
       "\t<tr><th scope=row>40</th><td>MAST3                </td><td>5                    </td><td>MAST3-19_18275532_G_A</td><td>0.9683404            </td><td>GCST006572           </td><td>DA_D52_NONE          </td></tr>\n",
       "\t<tr><th scope=row>41</th><td>MAST3                </td><td>5                    </td><td>MAST3-19_18275532_G_A</td><td>0.9557109            </td><td>GCST006572           </td><td>Epen1_D52_ROT        </td></tr>\n",
       "\t<tr><th scope=row>42</th><td>MAST3                </td><td>5                    </td><td>MAST3-19_18275532_G_A</td><td>0.9460911            </td><td>GCST006572           </td><td>Sert_D52_NONE        </td></tr>\n",
       "</tbody>\n",
       "</table>\n"
      ],
      "text/latex": [
       "\\begin{tabular}{r|llllll}\n",
       "  & gene & label & eqtl & PP4 & study\\_id & celltype\\_tissue\\\\\n",
       "\\hline\n",
       "\t33 & MAST3                       & 5                           & MAST3-19\\_18275532\\_G\\_A & 0.9632765                   & GCST006572                  & FPP\\_D11                  \\\\\n",
       "\t34 & MAST3                       & 5                           & MAST3-19\\_18275532\\_G\\_A & 0.9709341                   & GCST006572                  & P\\_FPP\\_D11              \\\\\n",
       "\t35 & MAST3                       & 5                           & MAST3-19\\_18275532\\_G\\_A & 0.9717755                   & GCST006572                  & FPP\\_D30                  \\\\\n",
       "\t36 & MAST3                       & 5                           & MAST3-19\\_18275532\\_G\\_A & 0.9701860                   & GCST006572                  & DA\\_D30                   \\\\\n",
       "\t37 & MAST3                       & 5                           & MAST3-19\\_18275532\\_G\\_A & 0.9091633                   & GCST006572                  & Sert\\_D30                 \\\\\n",
       "\t38 & MAST3                       & 5                           & MAST3-19\\_18275532\\_G\\_A & 0.7882224                   & GCST006572                  & Astro\\_D52\\_NONE         \\\\\n",
       "\t39 & MAST3                       & 5                           & MAST3-19\\_18275532\\_G\\_A & 0.9538574                   & GCST006572                  & DA\\_D52\\_ROT             \\\\\n",
       "\t40 & MAST3                       & 5                           & MAST3-19\\_18275532\\_G\\_A & 0.9683404                   & GCST006572                  & DA\\_D52\\_NONE            \\\\\n",
       "\t41 & MAST3                       & 5                           & MAST3-19\\_18275532\\_G\\_A & 0.9557109                   & GCST006572                  & Epen1\\_D52\\_ROT          \\\\\n",
       "\t42 & MAST3                       & 5                           & MAST3-19\\_18275532\\_G\\_A & 0.9460911                   & GCST006572                  & Sert\\_D52\\_NONE          \\\\\n",
       "\\end{tabular}\n"
      ],
      "text/markdown": [
       "\n",
       "| <!--/--> | gene | label | eqtl | PP4 | study_id | celltype_tissue |\n",
       "|---|---|---|---|---|---|---|\n",
       "| 33 | MAST3                 | 5                     | MAST3-19_18275532_G_A | 0.9632765             | GCST006572            | FPP_D11               |\n",
       "| 34 | MAST3                 | 5                     | MAST3-19_18275532_G_A | 0.9709341             | GCST006572            | P_FPP_D11             |\n",
       "| 35 | MAST3                 | 5                     | MAST3-19_18275532_G_A | 0.9717755             | GCST006572            | FPP_D30               |\n",
       "| 36 | MAST3                 | 5                     | MAST3-19_18275532_G_A | 0.9701860             | GCST006572            | DA_D30                |\n",
       "| 37 | MAST3                 | 5                     | MAST3-19_18275532_G_A | 0.9091633             | GCST006572            | Sert_D30              |\n",
       "| 38 | MAST3                 | 5                     | MAST3-19_18275532_G_A | 0.7882224             | GCST006572            | Astro_D52_NONE        |\n",
       "| 39 | MAST3                 | 5                     | MAST3-19_18275532_G_A | 0.9538574             | GCST006572            | DA_D52_ROT            |\n",
       "| 40 | MAST3                 | 5                     | MAST3-19_18275532_G_A | 0.9683404             | GCST006572            | DA_D52_NONE           |\n",
       "| 41 | MAST3                 | 5                     | MAST3-19_18275532_G_A | 0.9557109             | GCST006572            | Epen1_D52_ROT         |\n",
       "| 42 | MAST3                 | 5                     | MAST3-19_18275532_G_A | 0.9460911             | GCST006572            | Sert_D52_NONE         |\n",
       "\n"
      ],
      "text/plain": [
       "   gene  label eqtl                  PP4       study_id   celltype_tissue\n",
       "33 MAST3 5     MAST3-19_18275532_G_A 0.9632765 GCST006572 FPP_D11        \n",
       "34 MAST3 5     MAST3-19_18275532_G_A 0.9709341 GCST006572 P_FPP_D11      \n",
       "35 MAST3 5     MAST3-19_18275532_G_A 0.9717755 GCST006572 FPP_D30        \n",
       "36 MAST3 5     MAST3-19_18275532_G_A 0.9701860 GCST006572 DA_D30         \n",
       "37 MAST3 5     MAST3-19_18275532_G_A 0.9091633 GCST006572 Sert_D30       \n",
       "38 MAST3 5     MAST3-19_18275532_G_A 0.7882224 GCST006572 Astro_D52_NONE \n",
       "39 MAST3 5     MAST3-19_18275532_G_A 0.9538574 GCST006572 DA_D52_ROT     \n",
       "40 MAST3 5     MAST3-19_18275532_G_A 0.9683404 GCST006572 DA_D52_NONE    \n",
       "41 MAST3 5     MAST3-19_18275532_G_A 0.9557109 GCST006572 Epen1_D52_ROT  \n",
       "42 MAST3 5     MAST3-19_18275532_G_A 0.9460911 GCST006572 Sert_D52_NONE  "
      ]
     },
     "metadata": {},
     "output_type": "display_data"
    }
   ],
   "source": [
    "# cognitive performance\n",
    "df_coloc[df_coloc$gene == \"MAST3\",]"
   ]
  },
  {
   "cell_type": "code",
   "execution_count": 22,
   "id": "b163426f",
   "metadata": {
    "scrolled": true
   },
   "outputs": [
    {
     "data": {
      "text/html": [
       "<table>\n",
       "<thead><tr><th></th><th scope=col>gene</th><th scope=col>label</th><th scope=col>eqtl</th><th scope=col>PP4</th><th scope=col>study_id</th><th scope=col>celltype_tissue</th></tr></thead>\n",
       "<tbody>\n",
       "\t<tr><th scope=row>43</th><td>MPHOSPH9                 </td><td>12                       </td><td>MPHOSPH9-12_123604053_C_T</td><td>0.6774176                </td><td>GCST003496               </td><td>FPP_D11                  </td></tr>\n",
       "\t<tr><th scope=row>44</th><td>MPHOSPH9                 </td><td>12                       </td><td>MPHOSPH9-12_123604053_C_T</td><td>0.8362284                </td><td>GCST003496               </td><td>P_FPP_D11                </td></tr>\n",
       "\t<tr><th scope=row>45</th><td>MPHOSPH9                 </td><td>12                       </td><td>MPHOSPH9-12_123604053_C_T</td><td>0.7457715                </td><td>NEALE2_6138_1            </td><td>P_FPP_D11                </td></tr>\n",
       "\t<tr><th scope=row>46</th><td>MPHOSPH9                 </td><td>12                       </td><td>MPHOSPH9-12_123604053_C_T</td><td>0.6290568                </td><td>SCZ2                     </td><td>P_FPP_D11                </td></tr>\n",
       "\t<tr><th scope=row>47</th><td>MPHOSPH9                 </td><td>12                       </td><td>MPHOSPH9-12_123604053_C_T</td><td>0.8089721                </td><td>GCST003496               </td><td>FPP_D30                  </td></tr>\n",
       "\t<tr><th scope=row>48</th><td>MPHOSPH9                 </td><td>12                       </td><td>MPHOSPH9-12_123604053_C_T</td><td>0.6501958                </td><td>NEALE2_6138_1            </td><td>FPP_D30                  </td></tr>\n",
       "\t<tr><th scope=row>49</th><td>MPHOSPH9                 </td><td>12                       </td><td>MPHOSPH9-12_123604053_C_T</td><td>0.6881036                </td><td>NEALE2_6138_6            </td><td>FPP_D30                  </td></tr>\n",
       "\t<tr><th scope=row>50</th><td>MPHOSPH9                 </td><td>12                       </td><td>MPHOSPH9-12_123604053_C_T</td><td>0.8508979                </td><td>GCST003496               </td><td>DA_D30                   </td></tr>\n",
       "\t<tr><th scope=row>51</th><td>MPHOSPH9                 </td><td>12                       </td><td>MPHOSPH9-12_123604053_C_T</td><td>0.8295694                </td><td>GCST003496               </td><td>Epen1_D30                </td></tr>\n",
       "\t<tr><th scope=row>52</th><td>MPHOSPH9                 </td><td>12                       </td><td>MPHOSPH9-12_123604053_C_T</td><td>0.5602301                </td><td>NEALE2_6138_6            </td><td>Epen1_D30                </td></tr>\n",
       "\t<tr><th scope=row>53</th><td>MPHOSPH9                 </td><td>12                       </td><td>MPHOSPH9-12_123604053_C_T</td><td>0.7860523                </td><td>GCST003496               </td><td>Sert_D30                 </td></tr>\n",
       "\t<tr><th scope=row>54</th><td>MPHOSPH9                 </td><td>12                       </td><td>MPHOSPH9-12_123604053_C_T</td><td>0.5933712                </td><td>NEALE2_6138_1            </td><td>Sert_D30                 </td></tr>\n",
       "\t<tr><th scope=row>55</th><td>MPHOSPH9                 </td><td>12                       </td><td>MPHOSPH9-12_123604053_C_T</td><td>0.8542340                </td><td>NEALE2_6138_6            </td><td>Sert_D30                 </td></tr>\n",
       "\t<tr><th scope=row>56</th><td>MPHOSPH9                 </td><td>12                       </td><td>MPHOSPH9-12_123604053_C_T</td><td>0.7462659                </td><td>GCST003496               </td><td>Astro_D52_NONE           </td></tr>\n",
       "\t<tr><th scope=row>57</th><td>MPHOSPH9                 </td><td>12                       </td><td>MPHOSPH9-12_123604053_C_T</td><td>0.6847087                </td><td>NEALE2_6138_1            </td><td>Astro_D52_NONE           </td></tr>\n",
       "\t<tr><th scope=row>58</th><td>MPHOSPH9                 </td><td>12                       </td><td>MPHOSPH9-12_123604053_C_T</td><td>0.6825021                </td><td>NEALE2_6138_6            </td><td>Astro_D52_NONE           </td></tr>\n",
       "\t<tr><th scope=row>59</th><td>MPHOSPH9                 </td><td>12                       </td><td>MPHOSPH9-12_123604053_C_T</td><td>0.7071876                </td><td>SCZ2                     </td><td>Astro_D52_NONE           </td></tr>\n",
       "\t<tr><th scope=row>60</th><td>MPHOSPH9                 </td><td>12                       </td><td>MPHOSPH9-12_123604053_C_T</td><td>0.7702382                </td><td>NEALE2_6138_6            </td><td>DA_D52_ROT               </td></tr>\n",
       "\t<tr><th scope=row>61</th><td>MPHOSPH9                 </td><td>12                       </td><td>MPHOSPH9-12_123604053_C_T</td><td>0.5965651                </td><td>SCZ2                     </td><td>DA_D52_ROT               </td></tr>\n",
       "\t<tr><th scope=row>62</th><td>MPHOSPH9                 </td><td>12                       </td><td>MPHOSPH9-12_123604053_C_T</td><td>0.8172592                </td><td>GCST003496               </td><td>DA_D52_NONE              </td></tr>\n",
       "\t<tr><th scope=row>63</th><td>MPHOSPH9                 </td><td>12                       </td><td>MPHOSPH9-12_123604053_C_T</td><td>0.6619176                </td><td>NEALE2_6138_6            </td><td>DA_D52_NONE              </td></tr>\n",
       "\t<tr><th scope=row>64</th><td>MPHOSPH9                 </td><td>12                       </td><td>MPHOSPH9-12_123604053_C_T</td><td>0.7003568                </td><td>SCZ2                     </td><td>DA_D52_NONE              </td></tr>\n",
       "\t<tr><th scope=row>65</th><td>MPHOSPH9                 </td><td>12                       </td><td>MPHOSPH9-12_123604053_C_T</td><td>0.7682892                </td><td>GCST003496               </td><td>Epen1_D52_ROT            </td></tr>\n",
       "\t<tr><th scope=row>66</th><td>MPHOSPH9                 </td><td>12                       </td><td>MPHOSPH9-12_123604053_C_T</td><td>0.5513365                </td><td>NEALE2_6138_1            </td><td>Epen1_D52_ROT            </td></tr>\n",
       "\t<tr><th scope=row>67</th><td>MPHOSPH9                 </td><td>12                       </td><td>MPHOSPH9-12_123604053_C_T</td><td>0.7731928                </td><td>NEALE2_6138_6            </td><td>Epen1_D52_ROT            </td></tr>\n",
       "\t<tr><th scope=row>68</th><td>MPHOSPH9                 </td><td>12                       </td><td>MPHOSPH9-12_123604053_C_T</td><td>0.8020228                </td><td>GCST003496               </td><td>Epen1_D52_NONE           </td></tr>\n",
       "\t<tr><th scope=row>69</th><td>MPHOSPH9                 </td><td>12                       </td><td>MPHOSPH9-12_123604053_C_T</td><td>0.7495995                </td><td>NEALE2_6138_1            </td><td>Epen1_D52_NONE           </td></tr>\n",
       "\t<tr><th scope=row>70</th><td>MPHOSPH9                 </td><td>12                       </td><td>MPHOSPH9-12_123604053_C_T</td><td>0.7082984                </td><td>NEALE2_6138_6            </td><td>Epen1_D52_NONE           </td></tr>\n",
       "\t<tr><th scope=row>71</th><td>MPHOSPH9                 </td><td>12                       </td><td>MPHOSPH9-12_123604053_C_T</td><td>0.6932904                </td><td>SCZ2                     </td><td>Epen1_D52_NONE           </td></tr>\n",
       "\t<tr><th scope=row>72</th><td>MPHOSPH9                 </td><td>12                       </td><td>MPHOSPH9-12_123604053_C_T</td><td>0.7855273                </td><td>GCST003496               </td><td>Sert_D52_ROT             </td></tr>\n",
       "\t<tr><th scope=row>73</th><td>MPHOSPH9                 </td><td>12                       </td><td>MPHOSPH9-12_123604053_C_T</td><td>0.6550267                </td><td>NEALE2_6138_6            </td><td>Sert_D52_ROT             </td></tr>\n",
       "\t<tr><th scope=row>74</th><td>MPHOSPH9                 </td><td>12                       </td><td>MPHOSPH9-12_123604053_C_T</td><td>0.6040596                </td><td>SCZ2                     </td><td>Sert_D52_ROT             </td></tr>\n",
       "\t<tr><th scope=row>75</th><td>MPHOSPH9                 </td><td>12                       </td><td>MPHOSPH9-12_123604053_C_T</td><td>0.8355788                </td><td>GCST003496               </td><td>Sert_D52_NONE            </td></tr>\n",
       "\t<tr><th scope=row>76</th><td>MPHOSPH9                 </td><td>12                       </td><td>MPHOSPH9-12_123604053_C_T</td><td>0.6566330                </td><td>NEALE2_6138_1            </td><td>Sert_D52_NONE            </td></tr>\n",
       "\t<tr><th scope=row>77</th><td>MPHOSPH9                 </td><td>12                       </td><td>MPHOSPH9-12_123604053_C_T</td><td>0.5982297                </td><td>NEALE2_6138_6            </td><td>Sert_D52_NONE            </td></tr>\n",
       "</tbody>\n",
       "</table>\n"
      ],
      "text/latex": [
       "\\begin{tabular}{r|llllll}\n",
       "  & gene & label & eqtl & PP4 & study\\_id & celltype\\_tissue\\\\\n",
       "\\hline\n",
       "\t43 & MPHOSPH9                        & 12                              & MPHOSPH9-12\\_123604053\\_C\\_T & 0.6774176                       & GCST003496                      & FPP\\_D11                      \\\\\n",
       "\t44 & MPHOSPH9                        & 12                              & MPHOSPH9-12\\_123604053\\_C\\_T & 0.8362284                       & GCST003496                      & P\\_FPP\\_D11                  \\\\\n",
       "\t45 & MPHOSPH9                        & 12                              & MPHOSPH9-12\\_123604053\\_C\\_T & 0.7457715                       & NEALE2\\_6138\\_1               & P\\_FPP\\_D11                  \\\\\n",
       "\t46 & MPHOSPH9                        & 12                              & MPHOSPH9-12\\_123604053\\_C\\_T & 0.6290568                       & SCZ2                            & P\\_FPP\\_D11                  \\\\\n",
       "\t47 & MPHOSPH9                        & 12                              & MPHOSPH9-12\\_123604053\\_C\\_T & 0.8089721                       & GCST003496                      & FPP\\_D30                      \\\\\n",
       "\t48 & MPHOSPH9                        & 12                              & MPHOSPH9-12\\_123604053\\_C\\_T & 0.6501958                       & NEALE2\\_6138\\_1               & FPP\\_D30                      \\\\\n",
       "\t49 & MPHOSPH9                        & 12                              & MPHOSPH9-12\\_123604053\\_C\\_T & 0.6881036                       & NEALE2\\_6138\\_6               & FPP\\_D30                      \\\\\n",
       "\t50 & MPHOSPH9                        & 12                              & MPHOSPH9-12\\_123604053\\_C\\_T & 0.8508979                       & GCST003496                      & DA\\_D30                       \\\\\n",
       "\t51 & MPHOSPH9                        & 12                              & MPHOSPH9-12\\_123604053\\_C\\_T & 0.8295694                       & GCST003496                      & Epen1\\_D30                    \\\\\n",
       "\t52 & MPHOSPH9                        & 12                              & MPHOSPH9-12\\_123604053\\_C\\_T & 0.5602301                       & NEALE2\\_6138\\_6               & Epen1\\_D30                    \\\\\n",
       "\t53 & MPHOSPH9                        & 12                              & MPHOSPH9-12\\_123604053\\_C\\_T & 0.7860523                       & GCST003496                      & Sert\\_D30                     \\\\\n",
       "\t54 & MPHOSPH9                        & 12                              & MPHOSPH9-12\\_123604053\\_C\\_T & 0.5933712                       & NEALE2\\_6138\\_1               & Sert\\_D30                     \\\\\n",
       "\t55 & MPHOSPH9                        & 12                              & MPHOSPH9-12\\_123604053\\_C\\_T & 0.8542340                       & NEALE2\\_6138\\_6               & Sert\\_D30                     \\\\\n",
       "\t56 & MPHOSPH9                        & 12                              & MPHOSPH9-12\\_123604053\\_C\\_T & 0.7462659                       & GCST003496                      & Astro\\_D52\\_NONE             \\\\\n",
       "\t57 & MPHOSPH9                        & 12                              & MPHOSPH9-12\\_123604053\\_C\\_T & 0.6847087                       & NEALE2\\_6138\\_1               & Astro\\_D52\\_NONE             \\\\\n",
       "\t58 & MPHOSPH9                        & 12                              & MPHOSPH9-12\\_123604053\\_C\\_T & 0.6825021                       & NEALE2\\_6138\\_6               & Astro\\_D52\\_NONE             \\\\\n",
       "\t59 & MPHOSPH9                        & 12                              & MPHOSPH9-12\\_123604053\\_C\\_T & 0.7071876                       & SCZ2                            & Astro\\_D52\\_NONE             \\\\\n",
       "\t60 & MPHOSPH9                        & 12                              & MPHOSPH9-12\\_123604053\\_C\\_T & 0.7702382                       & NEALE2\\_6138\\_6               & DA\\_D52\\_ROT                 \\\\\n",
       "\t61 & MPHOSPH9                        & 12                              & MPHOSPH9-12\\_123604053\\_C\\_T & 0.5965651                       & SCZ2                            & DA\\_D52\\_ROT                 \\\\\n",
       "\t62 & MPHOSPH9                        & 12                              & MPHOSPH9-12\\_123604053\\_C\\_T & 0.8172592                       & GCST003496                      & DA\\_D52\\_NONE                \\\\\n",
       "\t63 & MPHOSPH9                        & 12                              & MPHOSPH9-12\\_123604053\\_C\\_T & 0.6619176                       & NEALE2\\_6138\\_6               & DA\\_D52\\_NONE                \\\\\n",
       "\t64 & MPHOSPH9                        & 12                              & MPHOSPH9-12\\_123604053\\_C\\_T & 0.7003568                       & SCZ2                            & DA\\_D52\\_NONE                \\\\\n",
       "\t65 & MPHOSPH9                        & 12                              & MPHOSPH9-12\\_123604053\\_C\\_T & 0.7682892                       & GCST003496                      & Epen1\\_D52\\_ROT              \\\\\n",
       "\t66 & MPHOSPH9                        & 12                              & MPHOSPH9-12\\_123604053\\_C\\_T & 0.5513365                       & NEALE2\\_6138\\_1               & Epen1\\_D52\\_ROT              \\\\\n",
       "\t67 & MPHOSPH9                        & 12                              & MPHOSPH9-12\\_123604053\\_C\\_T & 0.7731928                       & NEALE2\\_6138\\_6               & Epen1\\_D52\\_ROT              \\\\\n",
       "\t68 & MPHOSPH9                        & 12                              & MPHOSPH9-12\\_123604053\\_C\\_T & 0.8020228                       & GCST003496                      & Epen1\\_D52\\_NONE             \\\\\n",
       "\t69 & MPHOSPH9                        & 12                              & MPHOSPH9-12\\_123604053\\_C\\_T & 0.7495995                       & NEALE2\\_6138\\_1               & Epen1\\_D52\\_NONE             \\\\\n",
       "\t70 & MPHOSPH9                        & 12                              & MPHOSPH9-12\\_123604053\\_C\\_T & 0.7082984                       & NEALE2\\_6138\\_6               & Epen1\\_D52\\_NONE             \\\\\n",
       "\t71 & MPHOSPH9                        & 12                              & MPHOSPH9-12\\_123604053\\_C\\_T & 0.6932904                       & SCZ2                            & Epen1\\_D52\\_NONE             \\\\\n",
       "\t72 & MPHOSPH9                        & 12                              & MPHOSPH9-12\\_123604053\\_C\\_T & 0.7855273                       & GCST003496                      & Sert\\_D52\\_ROT               \\\\\n",
       "\t73 & MPHOSPH9                        & 12                              & MPHOSPH9-12\\_123604053\\_C\\_T & 0.6550267                       & NEALE2\\_6138\\_6               & Sert\\_D52\\_ROT               \\\\\n",
       "\t74 & MPHOSPH9                        & 12                              & MPHOSPH9-12\\_123604053\\_C\\_T & 0.6040596                       & SCZ2                            & Sert\\_D52\\_ROT               \\\\\n",
       "\t75 & MPHOSPH9                        & 12                              & MPHOSPH9-12\\_123604053\\_C\\_T & 0.8355788                       & GCST003496                      & Sert\\_D52\\_NONE              \\\\\n",
       "\t76 & MPHOSPH9                        & 12                              & MPHOSPH9-12\\_123604053\\_C\\_T & 0.6566330                       & NEALE2\\_6138\\_1               & Sert\\_D52\\_NONE              \\\\\n",
       "\t77 & MPHOSPH9                        & 12                              & MPHOSPH9-12\\_123604053\\_C\\_T & 0.5982297                       & NEALE2\\_6138\\_6               & Sert\\_D52\\_NONE              \\\\\n",
       "\\end{tabular}\n"
      ],
      "text/markdown": [
       "\n",
       "| <!--/--> | gene | label | eqtl | PP4 | study_id | celltype_tissue |\n",
       "|---|---|---|---|---|---|---|\n",
       "| 43 | MPHOSPH9                  | 12                        | MPHOSPH9-12_123604053_C_T | 0.6774176                 | GCST003496                | FPP_D11                   |\n",
       "| 44 | MPHOSPH9                  | 12                        | MPHOSPH9-12_123604053_C_T | 0.8362284                 | GCST003496                | P_FPP_D11                 |\n",
       "| 45 | MPHOSPH9                  | 12                        | MPHOSPH9-12_123604053_C_T | 0.7457715                 | NEALE2_6138_1             | P_FPP_D11                 |\n",
       "| 46 | MPHOSPH9                  | 12                        | MPHOSPH9-12_123604053_C_T | 0.6290568                 | SCZ2                      | P_FPP_D11                 |\n",
       "| 47 | MPHOSPH9                  | 12                        | MPHOSPH9-12_123604053_C_T | 0.8089721                 | GCST003496                | FPP_D30                   |\n",
       "| 48 | MPHOSPH9                  | 12                        | MPHOSPH9-12_123604053_C_T | 0.6501958                 | NEALE2_6138_1             | FPP_D30                   |\n",
       "| 49 | MPHOSPH9                  | 12                        | MPHOSPH9-12_123604053_C_T | 0.6881036                 | NEALE2_6138_6             | FPP_D30                   |\n",
       "| 50 | MPHOSPH9                  | 12                        | MPHOSPH9-12_123604053_C_T | 0.8508979                 | GCST003496                | DA_D30                    |\n",
       "| 51 | MPHOSPH9                  | 12                        | MPHOSPH9-12_123604053_C_T | 0.8295694                 | GCST003496                | Epen1_D30                 |\n",
       "| 52 | MPHOSPH9                  | 12                        | MPHOSPH9-12_123604053_C_T | 0.5602301                 | NEALE2_6138_6             | Epen1_D30                 |\n",
       "| 53 | MPHOSPH9                  | 12                        | MPHOSPH9-12_123604053_C_T | 0.7860523                 | GCST003496                | Sert_D30                  |\n",
       "| 54 | MPHOSPH9                  | 12                        | MPHOSPH9-12_123604053_C_T | 0.5933712                 | NEALE2_6138_1             | Sert_D30                  |\n",
       "| 55 | MPHOSPH9                  | 12                        | MPHOSPH9-12_123604053_C_T | 0.8542340                 | NEALE2_6138_6             | Sert_D30                  |\n",
       "| 56 | MPHOSPH9                  | 12                        | MPHOSPH9-12_123604053_C_T | 0.7462659                 | GCST003496                | Astro_D52_NONE            |\n",
       "| 57 | MPHOSPH9                  | 12                        | MPHOSPH9-12_123604053_C_T | 0.6847087                 | NEALE2_6138_1             | Astro_D52_NONE            |\n",
       "| 58 | MPHOSPH9                  | 12                        | MPHOSPH9-12_123604053_C_T | 0.6825021                 | NEALE2_6138_6             | Astro_D52_NONE            |\n",
       "| 59 | MPHOSPH9                  | 12                        | MPHOSPH9-12_123604053_C_T | 0.7071876                 | SCZ2                      | Astro_D52_NONE            |\n",
       "| 60 | MPHOSPH9                  | 12                        | MPHOSPH9-12_123604053_C_T | 0.7702382                 | NEALE2_6138_6             | DA_D52_ROT                |\n",
       "| 61 | MPHOSPH9                  | 12                        | MPHOSPH9-12_123604053_C_T | 0.5965651                 | SCZ2                      | DA_D52_ROT                |\n",
       "| 62 | MPHOSPH9                  | 12                        | MPHOSPH9-12_123604053_C_T | 0.8172592                 | GCST003496                | DA_D52_NONE               |\n",
       "| 63 | MPHOSPH9                  | 12                        | MPHOSPH9-12_123604053_C_T | 0.6619176                 | NEALE2_6138_6             | DA_D52_NONE               |\n",
       "| 64 | MPHOSPH9                  | 12                        | MPHOSPH9-12_123604053_C_T | 0.7003568                 | SCZ2                      | DA_D52_NONE               |\n",
       "| 65 | MPHOSPH9                  | 12                        | MPHOSPH9-12_123604053_C_T | 0.7682892                 | GCST003496                | Epen1_D52_ROT             |\n",
       "| 66 | MPHOSPH9                  | 12                        | MPHOSPH9-12_123604053_C_T | 0.5513365                 | NEALE2_6138_1             | Epen1_D52_ROT             |\n",
       "| 67 | MPHOSPH9                  | 12                        | MPHOSPH9-12_123604053_C_T | 0.7731928                 | NEALE2_6138_6             | Epen1_D52_ROT             |\n",
       "| 68 | MPHOSPH9                  | 12                        | MPHOSPH9-12_123604053_C_T | 0.8020228                 | GCST003496                | Epen1_D52_NONE            |\n",
       "| 69 | MPHOSPH9                  | 12                        | MPHOSPH9-12_123604053_C_T | 0.7495995                 | NEALE2_6138_1             | Epen1_D52_NONE            |\n",
       "| 70 | MPHOSPH9                  | 12                        | MPHOSPH9-12_123604053_C_T | 0.7082984                 | NEALE2_6138_6             | Epen1_D52_NONE            |\n",
       "| 71 | MPHOSPH9                  | 12                        | MPHOSPH9-12_123604053_C_T | 0.6932904                 | SCZ2                      | Epen1_D52_NONE            |\n",
       "| 72 | MPHOSPH9                  | 12                        | MPHOSPH9-12_123604053_C_T | 0.7855273                 | GCST003496                | Sert_D52_ROT              |\n",
       "| 73 | MPHOSPH9                  | 12                        | MPHOSPH9-12_123604053_C_T | 0.6550267                 | NEALE2_6138_6             | Sert_D52_ROT              |\n",
       "| 74 | MPHOSPH9                  | 12                        | MPHOSPH9-12_123604053_C_T | 0.6040596                 | SCZ2                      | Sert_D52_ROT              |\n",
       "| 75 | MPHOSPH9                  | 12                        | MPHOSPH9-12_123604053_C_T | 0.8355788                 | GCST003496                | Sert_D52_NONE             |\n",
       "| 76 | MPHOSPH9                  | 12                        | MPHOSPH9-12_123604053_C_T | 0.6566330                 | NEALE2_6138_1             | Sert_D52_NONE             |\n",
       "| 77 | MPHOSPH9                  | 12                        | MPHOSPH9-12_123604053_C_T | 0.5982297                 | NEALE2_6138_6             | Sert_D52_NONE             |\n",
       "\n"
      ],
      "text/plain": [
       "   gene     label eqtl                      PP4       study_id     \n",
       "43 MPHOSPH9 12    MPHOSPH9-12_123604053_C_T 0.6774176 GCST003496   \n",
       "44 MPHOSPH9 12    MPHOSPH9-12_123604053_C_T 0.8362284 GCST003496   \n",
       "45 MPHOSPH9 12    MPHOSPH9-12_123604053_C_T 0.7457715 NEALE2_6138_1\n",
       "46 MPHOSPH9 12    MPHOSPH9-12_123604053_C_T 0.6290568 SCZ2         \n",
       "47 MPHOSPH9 12    MPHOSPH9-12_123604053_C_T 0.8089721 GCST003496   \n",
       "48 MPHOSPH9 12    MPHOSPH9-12_123604053_C_T 0.6501958 NEALE2_6138_1\n",
       "49 MPHOSPH9 12    MPHOSPH9-12_123604053_C_T 0.6881036 NEALE2_6138_6\n",
       "50 MPHOSPH9 12    MPHOSPH9-12_123604053_C_T 0.8508979 GCST003496   \n",
       "51 MPHOSPH9 12    MPHOSPH9-12_123604053_C_T 0.8295694 GCST003496   \n",
       "52 MPHOSPH9 12    MPHOSPH9-12_123604053_C_T 0.5602301 NEALE2_6138_6\n",
       "53 MPHOSPH9 12    MPHOSPH9-12_123604053_C_T 0.7860523 GCST003496   \n",
       "54 MPHOSPH9 12    MPHOSPH9-12_123604053_C_T 0.5933712 NEALE2_6138_1\n",
       "55 MPHOSPH9 12    MPHOSPH9-12_123604053_C_T 0.8542340 NEALE2_6138_6\n",
       "56 MPHOSPH9 12    MPHOSPH9-12_123604053_C_T 0.7462659 GCST003496   \n",
       "57 MPHOSPH9 12    MPHOSPH9-12_123604053_C_T 0.6847087 NEALE2_6138_1\n",
       "58 MPHOSPH9 12    MPHOSPH9-12_123604053_C_T 0.6825021 NEALE2_6138_6\n",
       "59 MPHOSPH9 12    MPHOSPH9-12_123604053_C_T 0.7071876 SCZ2         \n",
       "60 MPHOSPH9 12    MPHOSPH9-12_123604053_C_T 0.7702382 NEALE2_6138_6\n",
       "61 MPHOSPH9 12    MPHOSPH9-12_123604053_C_T 0.5965651 SCZ2         \n",
       "62 MPHOSPH9 12    MPHOSPH9-12_123604053_C_T 0.8172592 GCST003496   \n",
       "63 MPHOSPH9 12    MPHOSPH9-12_123604053_C_T 0.6619176 NEALE2_6138_6\n",
       "64 MPHOSPH9 12    MPHOSPH9-12_123604053_C_T 0.7003568 SCZ2         \n",
       "65 MPHOSPH9 12    MPHOSPH9-12_123604053_C_T 0.7682892 GCST003496   \n",
       "66 MPHOSPH9 12    MPHOSPH9-12_123604053_C_T 0.5513365 NEALE2_6138_1\n",
       "67 MPHOSPH9 12    MPHOSPH9-12_123604053_C_T 0.7731928 NEALE2_6138_6\n",
       "68 MPHOSPH9 12    MPHOSPH9-12_123604053_C_T 0.8020228 GCST003496   \n",
       "69 MPHOSPH9 12    MPHOSPH9-12_123604053_C_T 0.7495995 NEALE2_6138_1\n",
       "70 MPHOSPH9 12    MPHOSPH9-12_123604053_C_T 0.7082984 NEALE2_6138_6\n",
       "71 MPHOSPH9 12    MPHOSPH9-12_123604053_C_T 0.6932904 SCZ2         \n",
       "72 MPHOSPH9 12    MPHOSPH9-12_123604053_C_T 0.7855273 GCST003496   \n",
       "73 MPHOSPH9 12    MPHOSPH9-12_123604053_C_T 0.6550267 NEALE2_6138_6\n",
       "74 MPHOSPH9 12    MPHOSPH9-12_123604053_C_T 0.6040596 SCZ2         \n",
       "75 MPHOSPH9 12    MPHOSPH9-12_123604053_C_T 0.8355788 GCST003496   \n",
       "76 MPHOSPH9 12    MPHOSPH9-12_123604053_C_T 0.6566330 NEALE2_6138_1\n",
       "77 MPHOSPH9 12    MPHOSPH9-12_123604053_C_T 0.5982297 NEALE2_6138_6\n",
       "   celltype_tissue\n",
       "43 FPP_D11        \n",
       "44 P_FPP_D11      \n",
       "45 P_FPP_D11      \n",
       "46 P_FPP_D11      \n",
       "47 FPP_D30        \n",
       "48 FPP_D30        \n",
       "49 FPP_D30        \n",
       "50 DA_D30         \n",
       "51 Epen1_D30      \n",
       "52 Epen1_D30      \n",
       "53 Sert_D30       \n",
       "54 Sert_D30       \n",
       "55 Sert_D30       \n",
       "56 Astro_D52_NONE \n",
       "57 Astro_D52_NONE \n",
       "58 Astro_D52_NONE \n",
       "59 Astro_D52_NONE \n",
       "60 DA_D52_ROT     \n",
       "61 DA_D52_ROT     \n",
       "62 DA_D52_NONE    \n",
       "63 DA_D52_NONE    \n",
       "64 DA_D52_NONE    \n",
       "65 Epen1_D52_ROT  \n",
       "66 Epen1_D52_ROT  \n",
       "67 Epen1_D52_ROT  \n",
       "68 Epen1_D52_NONE \n",
       "69 Epen1_D52_NONE \n",
       "70 Epen1_D52_NONE \n",
       "71 Epen1_D52_NONE \n",
       "72 Sert_D52_ROT   \n",
       "73 Sert_D52_ROT   \n",
       "74 Sert_D52_ROT   \n",
       "75 Sert_D52_NONE  \n",
       "76 Sert_D52_NONE  \n",
       "77 Sert_D52_NONE  "
      ]
     },
     "metadata": {},
     "output_type": "display_data"
    }
   ],
   "source": [
    "# SCZ, educational attainment, college degree, other qualifications\n",
    "df_coloc[df_coloc$gene == \"MPHOSPH9\",]"
   ]
  },
  {
   "cell_type": "code",
   "execution_count": 23,
   "id": "0c0e4f67",
   "metadata": {},
   "outputs": [
    {
     "data": {
      "text/html": [
       "<table>\n",
       "<thead><tr><th></th><th scope=col>gene</th><th scope=col>label</th><th scope=col>eqtl</th><th scope=col>PP4</th><th scope=col>study_id</th><th scope=col>celltype_tissue</th></tr></thead>\n",
       "<tbody>\n",
       "\t<tr><th scope=row>86</th><td>PRR7-AS1                </td><td>12                      </td><td>PRR7.AS1-5_176904279_C_G</td><td>0.9599703               </td><td>GCST006572              </td><td>DA_D30                  </td></tr>\n",
       "\t<tr><th scope=row>87</th><td>PRR7-AS1                </td><td>12                      </td><td>PRR7.AS1-5_176904279_C_G</td><td>0.9674883               </td><td>NEALE2_6138_1           </td><td>DA_D30                  </td></tr>\n",
       "\t<tr><th scope=row>88</th><td>PRR7-AS1                </td><td>12                      </td><td>PRR7.AS1-5_176904279_C_G</td><td>0.9205356               </td><td>NEALE2_6138_2           </td><td>DA_D30                  </td></tr>\n",
       "\t<tr><th scope=row>89</th><td>PRR7-AS1                </td><td>12                      </td><td>PRR7.AS1-5_176904279_C_G</td><td>0.9677237               </td><td>NEALE2_6138_1           </td><td>Sert_D30                </td></tr>\n",
       "\t<tr><th scope=row>90</th><td>PRR7-AS1                </td><td>12                      </td><td>PRR7.AS1-5_176904279_C_G</td><td>0.8885283               </td><td>NEALE2_6138_2           </td><td>Sert_D30                </td></tr>\n",
       "\t<tr><th scope=row>91</th><td>PRR7-AS1                </td><td>12                      </td><td>PRR7.AS1-5_176904279_C_G</td><td>0.9043744               </td><td>GCST006572              </td><td>DA_D52_NONE             </td></tr>\n",
       "\t<tr><th scope=row>92</th><td>PRR7-AS1                </td><td>12                      </td><td>PRR7.AS1-5_176904279_C_G</td><td>0.9666102               </td><td>NEALE2_6138_1           </td><td>DA_D52_NONE             </td></tr>\n",
       "\t<tr><th scope=row>93</th><td>PRR7-AS1                </td><td>12                      </td><td>PRR7.AS1-5_176904279_C_G</td><td>0.8789299               </td><td>NEALE2_6138_2           </td><td>DA_D52_NONE             </td></tr>\n",
       "</tbody>\n",
       "</table>\n"
      ],
      "text/latex": [
       "\\begin{tabular}{r|llllll}\n",
       "  & gene & label & eqtl & PP4 & study\\_id & celltype\\_tissue\\\\\n",
       "\\hline\n",
       "\t86 & PRR7-AS1                       & 12                             & PRR7.AS1-5\\_176904279\\_C\\_G & 0.9599703                      & GCST006572                     & DA\\_D30                      \\\\\n",
       "\t87 & PRR7-AS1                       & 12                             & PRR7.AS1-5\\_176904279\\_C\\_G & 0.9674883                      & NEALE2\\_6138\\_1              & DA\\_D30                      \\\\\n",
       "\t88 & PRR7-AS1                       & 12                             & PRR7.AS1-5\\_176904279\\_C\\_G & 0.9205356                      & NEALE2\\_6138\\_2              & DA\\_D30                      \\\\\n",
       "\t89 & PRR7-AS1                       & 12                             & PRR7.AS1-5\\_176904279\\_C\\_G & 0.9677237                      & NEALE2\\_6138\\_1              & Sert\\_D30                    \\\\\n",
       "\t90 & PRR7-AS1                       & 12                             & PRR7.AS1-5\\_176904279\\_C\\_G & 0.8885283                      & NEALE2\\_6138\\_2              & Sert\\_D30                    \\\\\n",
       "\t91 & PRR7-AS1                       & 12                             & PRR7.AS1-5\\_176904279\\_C\\_G & 0.9043744                      & GCST006572                     & DA\\_D52\\_NONE               \\\\\n",
       "\t92 & PRR7-AS1                       & 12                             & PRR7.AS1-5\\_176904279\\_C\\_G & 0.9666102                      & NEALE2\\_6138\\_1              & DA\\_D52\\_NONE               \\\\\n",
       "\t93 & PRR7-AS1                       & 12                             & PRR7.AS1-5\\_176904279\\_C\\_G & 0.8789299                      & NEALE2\\_6138\\_2              & DA\\_D52\\_NONE               \\\\\n",
       "\\end{tabular}\n"
      ],
      "text/markdown": [
       "\n",
       "| <!--/--> | gene | label | eqtl | PP4 | study_id | celltype_tissue |\n",
       "|---|---|---|---|---|---|---|\n",
       "| 86 | PRR7-AS1                 | 12                       | PRR7.AS1-5_176904279_C_G | 0.9599703                | GCST006572               | DA_D30                   |\n",
       "| 87 | PRR7-AS1                 | 12                       | PRR7.AS1-5_176904279_C_G | 0.9674883                | NEALE2_6138_1            | DA_D30                   |\n",
       "| 88 | PRR7-AS1                 | 12                       | PRR7.AS1-5_176904279_C_G | 0.9205356                | NEALE2_6138_2            | DA_D30                   |\n",
       "| 89 | PRR7-AS1                 | 12                       | PRR7.AS1-5_176904279_C_G | 0.9677237                | NEALE2_6138_1            | Sert_D30                 |\n",
       "| 90 | PRR7-AS1                 | 12                       | PRR7.AS1-5_176904279_C_G | 0.8885283                | NEALE2_6138_2            | Sert_D30                 |\n",
       "| 91 | PRR7-AS1                 | 12                       | PRR7.AS1-5_176904279_C_G | 0.9043744                | GCST006572               | DA_D52_NONE              |\n",
       "| 92 | PRR7-AS1                 | 12                       | PRR7.AS1-5_176904279_C_G | 0.9666102                | NEALE2_6138_1            | DA_D52_NONE              |\n",
       "| 93 | PRR7-AS1                 | 12                       | PRR7.AS1-5_176904279_C_G | 0.8789299                | NEALE2_6138_2            | DA_D52_NONE              |\n",
       "\n"
      ],
      "text/plain": [
       "   gene     label eqtl                     PP4       study_id     \n",
       "86 PRR7-AS1 12    PRR7.AS1-5_176904279_C_G 0.9599703 GCST006572   \n",
       "87 PRR7-AS1 12    PRR7.AS1-5_176904279_C_G 0.9674883 NEALE2_6138_1\n",
       "88 PRR7-AS1 12    PRR7.AS1-5_176904279_C_G 0.9205356 NEALE2_6138_2\n",
       "89 PRR7-AS1 12    PRR7.AS1-5_176904279_C_G 0.9677237 NEALE2_6138_1\n",
       "90 PRR7-AS1 12    PRR7.AS1-5_176904279_C_G 0.8885283 NEALE2_6138_2\n",
       "91 PRR7-AS1 12    PRR7.AS1-5_176904279_C_G 0.9043744 GCST006572   \n",
       "92 PRR7-AS1 12    PRR7.AS1-5_176904279_C_G 0.9666102 NEALE2_6138_1\n",
       "93 PRR7-AS1 12    PRR7.AS1-5_176904279_C_G 0.8789299 NEALE2_6138_2\n",
       "   celltype_tissue\n",
       "86 DA_D30         \n",
       "87 DA_D30         \n",
       "88 DA_D30         \n",
       "89 Sert_D30       \n",
       "90 Sert_D30       \n",
       "91 DA_D52_NONE    \n",
       "92 DA_D52_NONE    \n",
       "93 DA_D52_NONE    "
      ]
     },
     "metadata": {},
     "output_type": "display_data"
    }
   ],
   "source": [
    "# college degree, A levels, cognitive performance\n",
    "df_coloc[df_coloc$gene == \"PRR7-AS1\",]"
   ]
  },
  {
   "cell_type": "code",
   "execution_count": 24,
   "id": "84862cea",
   "metadata": {},
   "outputs": [
    {
     "data": {
      "text/html": [
       "<table>\n",
       "<thead><tr><th></th><th scope=col>gene</th><th scope=col>label</th><th scope=col>eqtl</th><th scope=col>PP4</th><th scope=col>study_id</th><th scope=col>celltype_tissue</th></tr></thead>\n",
       "<tbody>\n",
       "\t<tr><th scope=row>94</th><td>PRSS36                </td><td>11                    </td><td>PRSS36-16_31117698_C_T</td><td>0.7592868             </td><td>NEALE2_1980           </td><td>DA_D52_NONE           </td></tr>\n",
       "</tbody>\n",
       "</table>\n"
      ],
      "text/latex": [
       "\\begin{tabular}{r|llllll}\n",
       "  & gene & label & eqtl & PP4 & study\\_id & celltype\\_tissue\\\\\n",
       "\\hline\n",
       "\t94 & PRSS36                       & 11                           & PRSS36-16\\_31117698\\_C\\_T & 0.7592868                    & NEALE2\\_1980                & DA\\_D52\\_NONE             \\\\\n",
       "\\end{tabular}\n"
      ],
      "text/markdown": [
       "\n",
       "| <!--/--> | gene | label | eqtl | PP4 | study_id | celltype_tissue |\n",
       "|---|---|---|---|---|---|---|\n",
       "| 94 | PRSS36                 | 11                     | PRSS36-16_31117698_C_T | 0.7592868              | NEALE2_1980            | DA_D52_NONE            |\n",
       "\n"
      ],
      "text/plain": [
       "   gene   label eqtl                   PP4       study_id    celltype_tissue\n",
       "94 PRSS36 11    PRSS36-16_31117698_C_T 0.7592868 NEALE2_1980 DA_D52_NONE    "
      ]
     },
     "metadata": {},
     "output_type": "display_data"
    }
   ],
   "source": [
    "# anxious feeling\n",
    "df_coloc[df_coloc$gene == \"PRSS36\",]"
   ]
  },
  {
   "cell_type": "code",
   "execution_count": 25,
   "id": "ca83680c",
   "metadata": {},
   "outputs": [
    {
     "data": {
      "text/html": [
       "<table>\n",
       "<thead><tr><th></th><th scope=col>gene</th><th scope=col>label</th><th scope=col>eqtl</th><th scope=col>PP4</th><th scope=col>study_id</th><th scope=col>celltype_tissue</th></tr></thead>\n",
       "<tbody>\n",
       "\t<tr><th scope=row>97</th><td>RHEBL1                </td><td>1                     </td><td>RHEBL1-12_49464449_A_G</td><td>0.7150162             </td><td>GCST006572            </td><td>DA_D52_ROT            </td></tr>\n",
       "\t<tr><th scope=row>98</th><td>RHEBL1                </td><td>1                     </td><td>RHEBL1-12_49464449_A_G</td><td>0.7722369             </td><td>NEALE2_6138_1         </td><td>DA_D52_ROT            </td></tr>\n",
       "\t<tr><th scope=row>99</th><td>RHEBL1                </td><td>1                     </td><td>RHEBL1-12_49464449_A_G</td><td>0.7127373             </td><td>GCST003724            </td><td>DA_D52_NONE           </td></tr>\n",
       "\t<tr><th scope=row>100</th><td>RHEBL1                </td><td>1                     </td><td>RHEBL1-12_49464449_A_G</td><td>0.9651229             </td><td>GCST006572            </td><td>DA_D52_NONE           </td></tr>\n",
       "\t<tr><th scope=row>101</th><td>RHEBL1                </td><td>1                     </td><td>RHEBL1-12_49464449_A_G</td><td>0.9802562             </td><td>NEALE2_6138_1         </td><td>DA_D52_NONE           </td></tr>\n",
       "</tbody>\n",
       "</table>\n"
      ],
      "text/latex": [
       "\\begin{tabular}{r|llllll}\n",
       "  & gene & label & eqtl & PP4 & study\\_id & celltype\\_tissue\\\\\n",
       "\\hline\n",
       "\t97 & RHEBL1                       & 1                            & RHEBL1-12\\_49464449\\_A\\_G & 0.7150162                    & GCST006572                   & DA\\_D52\\_ROT              \\\\\n",
       "\t98 & RHEBL1                       & 1                            & RHEBL1-12\\_49464449\\_A\\_G & 0.7722369                    & NEALE2\\_6138\\_1            & DA\\_D52\\_ROT              \\\\\n",
       "\t99 & RHEBL1                       & 1                            & RHEBL1-12\\_49464449\\_A\\_G & 0.7127373                    & GCST003724                   & DA\\_D52\\_NONE             \\\\\n",
       "\t100 & RHEBL1                       & 1                            & RHEBL1-12\\_49464449\\_A\\_G & 0.9651229                    & GCST006572                   & DA\\_D52\\_NONE             \\\\\n",
       "\t101 & RHEBL1                       & 1                            & RHEBL1-12\\_49464449\\_A\\_G & 0.9802562                    & NEALE2\\_6138\\_1            & DA\\_D52\\_NONE             \\\\\n",
       "\\end{tabular}\n"
      ],
      "text/markdown": [
       "\n",
       "| <!--/--> | gene | label | eqtl | PP4 | study_id | celltype_tissue |\n",
       "|---|---|---|---|---|---|---|\n",
       "| 97 | RHEBL1                 | 1                      | RHEBL1-12_49464449_A_G | 0.7150162              | GCST006572             | DA_D52_ROT             |\n",
       "| 98 | RHEBL1                 | 1                      | RHEBL1-12_49464449_A_G | 0.7722369              | NEALE2_6138_1          | DA_D52_ROT             |\n",
       "| 99 | RHEBL1                 | 1                      | RHEBL1-12_49464449_A_G | 0.7127373              | GCST003724             | DA_D52_NONE            |\n",
       "| 100 | RHEBL1                 | 1                      | RHEBL1-12_49464449_A_G | 0.9651229              | GCST006572             | DA_D52_NONE            |\n",
       "| 101 | RHEBL1                 | 1                      | RHEBL1-12_49464449_A_G | 0.9802562              | NEALE2_6138_1          | DA_D52_NONE            |\n",
       "\n"
      ],
      "text/plain": [
       "    gene   label eqtl                   PP4       study_id      celltype_tissue\n",
       "97  RHEBL1 1     RHEBL1-12_49464449_A_G 0.7150162 GCST006572    DA_D52_ROT     \n",
       "98  RHEBL1 1     RHEBL1-12_49464449_A_G 0.7722369 NEALE2_6138_1 DA_D52_ROT     \n",
       "99  RHEBL1 1     RHEBL1-12_49464449_A_G 0.7127373 GCST003724    DA_D52_NONE    \n",
       "100 RHEBL1 1     RHEBL1-12_49464449_A_G 0.9651229 GCST006572    DA_D52_NONE    \n",
       "101 RHEBL1 1     RHEBL1-12_49464449_A_G 0.9802562 NEALE2_6138_1 DA_D52_NONE    "
      ]
     },
     "metadata": {},
     "output_type": "display_data"
    }
   ],
   "source": [
    "# BD, college degree, cognitive perfirmance\n",
    "df_coloc[df_coloc$gene == \"RHEBL1\",]"
   ]
  },
  {
   "cell_type": "code",
   "execution_count": 26,
   "id": "0c0b5047",
   "metadata": {},
   "outputs": [
    {
     "data": {
      "text/html": [
       "<table>\n",
       "<thead><tr><th></th><th scope=col>gene</th><th scope=col>label</th><th scope=col>eqtl</th><th scope=col>PP4</th><th scope=col>study_id</th><th scope=col>celltype_tissue</th></tr></thead>\n",
       "<tbody>\n",
       "\t<tr><th scope=row>102</th><td>SLC35E2              </td><td>9                    </td><td>SLC35E2-1_1660978_C_A</td><td>0.5329842            </td><td>NEALE2_1200          </td><td>FPP_D11              </td></tr>\n",
       "\t<tr><th scope=row>103</th><td>SLC35E2              </td><td>9                    </td><td>SLC35E2-1_1660978_C_A</td><td>0.5372507            </td><td>NEALE2_1200          </td><td>DA_D52_ROT           </td></tr>\n",
       "\t<tr><th scope=row>104</th><td>SLC35E2              </td><td>9                    </td><td>SLC35E2-1_1660978_C_A</td><td>0.5171821            </td><td>NEALE2_1200          </td><td>Epen1_D52_ROT        </td></tr>\n",
       "</tbody>\n",
       "</table>\n"
      ],
      "text/latex": [
       "\\begin{tabular}{r|llllll}\n",
       "  & gene & label & eqtl & PP4 & study\\_id & celltype\\_tissue\\\\\n",
       "\\hline\n",
       "\t102 & SLC35E2                     & 9                           & SLC35E2-1\\_1660978\\_C\\_A & 0.5329842                   & NEALE2\\_1200               & FPP\\_D11                  \\\\\n",
       "\t103 & SLC35E2                     & 9                           & SLC35E2-1\\_1660978\\_C\\_A & 0.5372507                   & NEALE2\\_1200               & DA\\_D52\\_ROT             \\\\\n",
       "\t104 & SLC35E2                     & 9                           & SLC35E2-1\\_1660978\\_C\\_A & 0.5171821                   & NEALE2\\_1200               & Epen1\\_D52\\_ROT          \\\\\n",
       "\\end{tabular}\n"
      ],
      "text/markdown": [
       "\n",
       "| <!--/--> | gene | label | eqtl | PP4 | study_id | celltype_tissue |\n",
       "|---|---|---|---|---|---|---|\n",
       "| 102 | SLC35E2               | 9                     | SLC35E2-1_1660978_C_A | 0.5329842             | NEALE2_1200           | FPP_D11               |\n",
       "| 103 | SLC35E2               | 9                     | SLC35E2-1_1660978_C_A | 0.5372507             | NEALE2_1200           | DA_D52_ROT            |\n",
       "| 104 | SLC35E2               | 9                     | SLC35E2-1_1660978_C_A | 0.5171821             | NEALE2_1200           | Epen1_D52_ROT         |\n",
       "\n"
      ],
      "text/plain": [
       "    gene    label eqtl                  PP4       study_id    celltype_tissue\n",
       "102 SLC35E2 9     SLC35E2-1_1660978_C_A 0.5329842 NEALE2_1200 FPP_D11        \n",
       "103 SLC35E2 9     SLC35E2-1_1660978_C_A 0.5372507 NEALE2_1200 DA_D52_ROT     \n",
       "104 SLC35E2 9     SLC35E2-1_1660978_C_A 0.5171821 NEALE2_1200 Epen1_D52_ROT  "
      ]
     },
     "metadata": {},
     "output_type": "display_data"
    }
   ],
   "source": [
    "# sleeplessness / insomnia\n",
    "df_coloc[df_coloc$gene == \"SLC35E2\",]"
   ]
  },
  {
   "cell_type": "code",
   "execution_count": 27,
   "id": "ed49ec4e",
   "metadata": {},
   "outputs": [
    {
     "data": {
      "text/html": [
       "<table>\n",
       "<thead><tr><th></th><th scope=col>gene</th><th scope=col>label</th><th scope=col>eqtl</th><th scope=col>PP4</th><th scope=col>study_id</th><th scope=col>celltype_tissue</th></tr></thead>\n",
       "<tbody>\n",
       "\t<tr><th scope=row>105</th><td>STAT6                </td><td>1                    </td><td>STAT6-12_57509569_C_T</td><td>0.5121404            </td><td>NEALE2_1200          </td><td>DA_D52_ROT           </td></tr>\n",
       "</tbody>\n",
       "</table>\n"
      ],
      "text/latex": [
       "\\begin{tabular}{r|llllll}\n",
       "  & gene & label & eqtl & PP4 & study\\_id & celltype\\_tissue\\\\\n",
       "\\hline\n",
       "\t105 & STAT6                       & 1                           & STAT6-12\\_57509569\\_C\\_T & 0.5121404                   & NEALE2\\_1200               & DA\\_D52\\_ROT             \\\\\n",
       "\\end{tabular}\n"
      ],
      "text/markdown": [
       "\n",
       "| <!--/--> | gene | label | eqtl | PP4 | study_id | celltype_tissue |\n",
       "|---|---|---|---|---|---|---|\n",
       "| 105 | STAT6                 | 1                     | STAT6-12_57509569_C_T | 0.5121404             | NEALE2_1200           | DA_D52_ROT            |\n",
       "\n"
      ],
      "text/plain": [
       "    gene  label eqtl                  PP4       study_id    celltype_tissue\n",
       "105 STAT6 1     STAT6-12_57509569_C_T 0.5121404 NEALE2_1200 DA_D52_ROT     "
      ]
     },
     "metadata": {},
     "output_type": "display_data"
    }
   ],
   "source": [
    "# sleeplessness / insomnia\n",
    "df_coloc[df_coloc$gene == \"STAT6\",]"
   ]
  },
  {
   "cell_type": "code",
   "execution_count": 28,
   "id": "f39a2b6b",
   "metadata": {},
   "outputs": [
    {
     "data": {
      "text/html": [
       "<table>\n",
       "<thead><tr><th></th><th scope=col>gene</th><th scope=col>label</th><th scope=col>eqtl</th><th scope=col>PP4</th><th scope=col>study_id</th><th scope=col>celltype_tissue</th></tr></thead>\n",
       "<tbody>\n",
       "\t<tr><th scope=row>108</th><td>TUBGCP4                </td><td>10                     </td><td>TUBGCP4-15_43597297_T_A</td><td>0.9120858              </td><td>NEALE2_1990            </td><td>FPP_D11                </td></tr>\n",
       "\t<tr><th scope=row>109</th><td>TUBGCP4                </td><td>10                     </td><td>TUBGCP4-15_43597297_T_A</td><td>0.9148024              </td><td>NEALE2_1990            </td><td>P_FPP_D11              </td></tr>\n",
       "\t<tr><th scope=row>110</th><td>TUBGCP4                </td><td>10                     </td><td>TUBGCP4-15_43597297_T_A</td><td>0.9018151              </td><td>NEALE2_1990            </td><td>FPP_D30                </td></tr>\n",
       "\t<tr><th scope=row>111</th><td>TUBGCP4                </td><td>10                     </td><td>TUBGCP4-15_43597297_T_A</td><td>0.8337012              </td><td>NEALE2_1990            </td><td>Astro_D52_ROT          </td></tr>\n",
       "\t<tr><th scope=row>112</th><td>TUBGCP4                </td><td>10                     </td><td>TUBGCP4-15_43597297_T_A</td><td>0.8457717              </td><td>NEALE2_1990            </td><td>Astro_D52_NONE         </td></tr>\n",
       "\t<tr><th scope=row>113</th><td>TUBGCP4                </td><td>10                     </td><td>TUBGCP4-15_43597297_T_A</td><td>0.8967117              </td><td>NEALE2_1990            </td><td>DA_D52_NONE            </td></tr>\n",
       "\t<tr><th scope=row>114</th><td>TUBGCP4                </td><td>10                     </td><td>TUBGCP4-15_43597297_T_A</td><td>0.9116701              </td><td>NEALE2_1990            </td><td>Epen1_D52_ROT          </td></tr>\n",
       "\t<tr><th scope=row>115</th><td>TUBGCP4                </td><td>10                     </td><td>TUBGCP4-15_43597297_T_A</td><td>0.9078382              </td><td>NEALE2_1990            </td><td>Sert_D52_ROT           </td></tr>\n",
       "\t<tr><th scope=row>116</th><td>TUBGCP4                </td><td>10                     </td><td>TUBGCP4-15_43597297_T_A</td><td>0.9180354              </td><td>NEALE2_1990            </td><td>Sert_D52_NONE          </td></tr>\n",
       "</tbody>\n",
       "</table>\n"
      ],
      "text/latex": [
       "\\begin{tabular}{r|llllll}\n",
       "  & gene & label & eqtl & PP4 & study\\_id & celltype\\_tissue\\\\\n",
       "\\hline\n",
       "\t108 & TUBGCP4                       & 10                            & TUBGCP4-15\\_43597297\\_T\\_A & 0.9120858                     & NEALE2\\_1990                 & FPP\\_D11                    \\\\\n",
       "\t109 & TUBGCP4                       & 10                            & TUBGCP4-15\\_43597297\\_T\\_A & 0.9148024                     & NEALE2\\_1990                 & P\\_FPP\\_D11                \\\\\n",
       "\t110 & TUBGCP4                       & 10                            & TUBGCP4-15\\_43597297\\_T\\_A & 0.9018151                     & NEALE2\\_1990                 & FPP\\_D30                    \\\\\n",
       "\t111 & TUBGCP4                       & 10                            & TUBGCP4-15\\_43597297\\_T\\_A & 0.8337012                     & NEALE2\\_1990                 & Astro\\_D52\\_ROT            \\\\\n",
       "\t112 & TUBGCP4                       & 10                            & TUBGCP4-15\\_43597297\\_T\\_A & 0.8457717                     & NEALE2\\_1990                 & Astro\\_D52\\_NONE           \\\\\n",
       "\t113 & TUBGCP4                       & 10                            & TUBGCP4-15\\_43597297\\_T\\_A & 0.8967117                     & NEALE2\\_1990                 & DA\\_D52\\_NONE              \\\\\n",
       "\t114 & TUBGCP4                       & 10                            & TUBGCP4-15\\_43597297\\_T\\_A & 0.9116701                     & NEALE2\\_1990                 & Epen1\\_D52\\_ROT            \\\\\n",
       "\t115 & TUBGCP4                       & 10                            & TUBGCP4-15\\_43597297\\_T\\_A & 0.9078382                     & NEALE2\\_1990                 & Sert\\_D52\\_ROT             \\\\\n",
       "\t116 & TUBGCP4                       & 10                            & TUBGCP4-15\\_43597297\\_T\\_A & 0.9180354                     & NEALE2\\_1990                 & Sert\\_D52\\_NONE            \\\\\n",
       "\\end{tabular}\n"
      ],
      "text/markdown": [
       "\n",
       "| <!--/--> | gene | label | eqtl | PP4 | study_id | celltype_tissue |\n",
       "|---|---|---|---|---|---|---|\n",
       "| 108 | TUBGCP4                 | 10                      | TUBGCP4-15_43597297_T_A | 0.9120858               | NEALE2_1990             | FPP_D11                 |\n",
       "| 109 | TUBGCP4                 | 10                      | TUBGCP4-15_43597297_T_A | 0.9148024               | NEALE2_1990             | P_FPP_D11               |\n",
       "| 110 | TUBGCP4                 | 10                      | TUBGCP4-15_43597297_T_A | 0.9018151               | NEALE2_1990             | FPP_D30                 |\n",
       "| 111 | TUBGCP4                 | 10                      | TUBGCP4-15_43597297_T_A | 0.8337012               | NEALE2_1990             | Astro_D52_ROT           |\n",
       "| 112 | TUBGCP4                 | 10                      | TUBGCP4-15_43597297_T_A | 0.8457717               | NEALE2_1990             | Astro_D52_NONE          |\n",
       "| 113 | TUBGCP4                 | 10                      | TUBGCP4-15_43597297_T_A | 0.8967117               | NEALE2_1990             | DA_D52_NONE             |\n",
       "| 114 | TUBGCP4                 | 10                      | TUBGCP4-15_43597297_T_A | 0.9116701               | NEALE2_1990             | Epen1_D52_ROT           |\n",
       "| 115 | TUBGCP4                 | 10                      | TUBGCP4-15_43597297_T_A | 0.9078382               | NEALE2_1990             | Sert_D52_ROT            |\n",
       "| 116 | TUBGCP4                 | 10                      | TUBGCP4-15_43597297_T_A | 0.9180354               | NEALE2_1990             | Sert_D52_NONE           |\n",
       "\n"
      ],
      "text/plain": [
       "    gene    label eqtl                    PP4       study_id    celltype_tissue\n",
       "108 TUBGCP4 10    TUBGCP4-15_43597297_T_A 0.9120858 NEALE2_1990 FPP_D11        \n",
       "109 TUBGCP4 10    TUBGCP4-15_43597297_T_A 0.9148024 NEALE2_1990 P_FPP_D11      \n",
       "110 TUBGCP4 10    TUBGCP4-15_43597297_T_A 0.9018151 NEALE2_1990 FPP_D30        \n",
       "111 TUBGCP4 10    TUBGCP4-15_43597297_T_A 0.8337012 NEALE2_1990 Astro_D52_ROT  \n",
       "112 TUBGCP4 10    TUBGCP4-15_43597297_T_A 0.8457717 NEALE2_1990 Astro_D52_NONE \n",
       "113 TUBGCP4 10    TUBGCP4-15_43597297_T_A 0.8967117 NEALE2_1990 DA_D52_NONE    \n",
       "114 TUBGCP4 10    TUBGCP4-15_43597297_T_A 0.9116701 NEALE2_1990 Epen1_D52_ROT  \n",
       "115 TUBGCP4 10    TUBGCP4-15_43597297_T_A 0.9078382 NEALE2_1990 Sert_D52_ROT   \n",
       "116 TUBGCP4 10    TUBGCP4-15_43597297_T_A 0.9180354 NEALE2_1990 Sert_D52_NONE  "
      ]
     },
     "metadata": {},
     "output_type": "display_data"
    }
   ],
   "source": [
    "# tense / highly strung\n",
    "df_coloc[df_coloc$gene == \"TUBGCP4\",]"
   ]
  },
  {
   "cell_type": "code",
   "execution_count": null,
   "id": "ce2f9b63",
   "metadata": {},
   "outputs": [],
   "source": []
  },
  {
   "cell_type": "code",
   "execution_count": null,
   "id": "c750f9b2",
   "metadata": {},
   "outputs": [],
   "source": [
    "################### non DA "
   ]
  },
  {
   "cell_type": "code",
   "execution_count": 6,
   "id": "61df163c",
   "metadata": {
    "scrolled": true
   },
   "outputs": [
    {
     "data": {
      "text/html": [
       "<table>\n",
       "<thead><tr><th></th><th scope=col>gene</th><th scope=col>label</th><th scope=col>eqtl</th><th scope=col>PP4</th><th scope=col>study_id</th><th scope=col>celltype_tissue</th></tr></thead>\n",
       "<tbody>\n",
       "\t<tr><th scope=row>29</th><td>GPR171                </td><td>12                    </td><td>GPR171-3_150847047_A_G</td><td>0.6805391             </td><td>PD                    </td><td>Astro_D52_ROT         </td></tr>\n",
       "</tbody>\n",
       "</table>\n"
      ],
      "text/latex": [
       "\\begin{tabular}{r|llllll}\n",
       "  & gene & label & eqtl & PP4 & study\\_id & celltype\\_tissue\\\\\n",
       "\\hline\n",
       "\t29 & GPR171                       & 12                           & GPR171-3\\_150847047\\_A\\_G & 0.6805391                    & PD                           & Astro\\_D52\\_ROT           \\\\\n",
       "\\end{tabular}\n"
      ],
      "text/markdown": [
       "\n",
       "| <!--/--> | gene | label | eqtl | PP4 | study_id | celltype_tissue |\n",
       "|---|---|---|---|---|---|---|\n",
       "| 29 | GPR171                 | 12                     | GPR171-3_150847047_A_G | 0.6805391              | PD                     | Astro_D52_ROT          |\n",
       "\n"
      ],
      "text/plain": [
       "   gene   label eqtl                   PP4       study_id celltype_tissue\n",
       "29 GPR171 12    GPR171-3_150847047_A_G 0.6805391 PD       Astro_D52_ROT  "
      ]
     },
     "metadata": {},
     "output_type": "display_data"
    }
   ],
   "source": [
    "# PD\n",
    "df_coloc[df_coloc$gene == \"GPR171\",]"
   ]
  },
  {
   "cell_type": "code",
   "execution_count": 5,
   "id": "5fb5130f",
   "metadata": {},
   "outputs": [
    {
     "data": {
      "text/html": [
       "<table>\n",
       "<thead><tr><th></th><th scope=col>gene</th><th scope=col>label</th><th scope=col>eqtl</th><th scope=col>PP4</th><th scope=col>study_id</th><th scope=col>celltype_tissue</th></tr></thead>\n",
       "<tbody>\n",
       "\t<tr><th scope=row>30</th><td>KIF17               </td><td>0                   </td><td>KIF17-1_21041116_T_C</td><td>0.5590998           </td><td>NEALE2_20127_raw    </td><td>Epen1_D30           </td></tr>\n",
       "</tbody>\n",
       "</table>\n"
      ],
      "text/latex": [
       "\\begin{tabular}{r|llllll}\n",
       "  & gene & label & eqtl & PP4 & study\\_id & celltype\\_tissue\\\\\n",
       "\\hline\n",
       "\t30 & KIF17                      & 0                          & KIF17-1\\_21041116\\_T\\_C & 0.5590998                  & NEALE2\\_20127\\_raw       & Epen1\\_D30               \\\\\n",
       "\\end{tabular}\n"
      ],
      "text/markdown": [
       "\n",
       "| <!--/--> | gene | label | eqtl | PP4 | study_id | celltype_tissue |\n",
       "|---|---|---|---|---|---|---|\n",
       "| 30 | KIF17                | 0                    | KIF17-1_21041116_T_C | 0.5590998            | NEALE2_20127_raw     | Epen1_D30            |\n",
       "\n"
      ],
      "text/plain": [
       "   gene  label eqtl                 PP4       study_id         celltype_tissue\n",
       "30 KIF17 0     KIF17-1_21041116_T_C 0.5590998 NEALE2_20127_raw Epen1_D30      "
      ]
     },
     "metadata": {},
     "output_type": "display_data"
    }
   ],
   "source": [
    "# neuroticism score\n",
    "df_coloc[df_coloc$gene == \"KIF17\",]"
   ]
  },
  {
   "cell_type": "code",
   "execution_count": 7,
   "id": "29a87556",
   "metadata": {},
   "outputs": [
    {
     "data": {
      "text/html": [
       "<table>\n",
       "<thead><tr><th></th><th scope=col>gene</th><th scope=col>label</th><th scope=col>eqtl</th><th scope=col>PP4</th><th scope=col>study_id</th><th scope=col>celltype_tissue</th></tr></thead>\n",
       "<tbody>\n",
       "\t<tr><th scope=row>31</th><td>KLRC2                </td><td>0                    </td><td>KLRC2-12_10628822_T_C</td><td>0.5332529            </td><td>NEALE2_6138_1        </td><td>Sert_D52_ROT         </td></tr>\n",
       "</tbody>\n",
       "</table>\n"
      ],
      "text/latex": [
       "\\begin{tabular}{r|llllll}\n",
       "  & gene & label & eqtl & PP4 & study\\_id & celltype\\_tissue\\\\\n",
       "\\hline\n",
       "\t31 & KLRC2                       & 0                           & KLRC2-12\\_10628822\\_T\\_C & 0.5332529                   & NEALE2\\_6138\\_1           & Sert\\_D52\\_ROT           \\\\\n",
       "\\end{tabular}\n"
      ],
      "text/markdown": [
       "\n",
       "| <!--/--> | gene | label | eqtl | PP4 | study_id | celltype_tissue |\n",
       "|---|---|---|---|---|---|---|\n",
       "| 31 | KLRC2                 | 0                     | KLRC2-12_10628822_T_C | 0.5332529             | NEALE2_6138_1         | Sert_D52_ROT          |\n",
       "\n"
      ],
      "text/plain": [
       "   gene  label eqtl                  PP4       study_id      celltype_tissue\n",
       "31 KLRC2 0     KLRC2-12_10628822_T_C 0.5332529 NEALE2_6138_1 Sert_D52_ROT   "
      ]
     },
     "metadata": {},
     "output_type": "display_data"
    }
   ],
   "source": [
    "# college or university degree\n",
    "df_coloc[df_coloc$gene == \"KLRC2\",]"
   ]
  },
  {
   "cell_type": "code",
   "execution_count": 8,
   "id": "5be6f956",
   "metadata": {},
   "outputs": [
    {
     "data": {
      "text/html": [
       "<table>\n",
       "<thead><tr><th></th><th scope=col>gene</th><th scope=col>label</th><th scope=col>eqtl</th><th scope=col>PP4</th><th scope=col>study_id</th><th scope=col>celltype_tissue</th></tr></thead>\n",
       "<tbody>\n",
       "\t<tr><th scope=row>78</th><td>NDST4                </td><td>12                   </td><td>NDST4-4_115734311_A_G</td><td>0.9729403            </td><td>NEALE2_6138_1        </td><td>Sert_D52_NONE        </td></tr>\n",
       "</tbody>\n",
       "</table>\n"
      ],
      "text/latex": [
       "\\begin{tabular}{r|llllll}\n",
       "  & gene & label & eqtl & PP4 & study\\_id & celltype\\_tissue\\\\\n",
       "\\hline\n",
       "\t78 & NDST4                       & 12                          & NDST4-4\\_115734311\\_A\\_G & 0.9729403                   & NEALE2\\_6138\\_1           & Sert\\_D52\\_NONE          \\\\\n",
       "\\end{tabular}\n"
      ],
      "text/markdown": [
       "\n",
       "| <!--/--> | gene | label | eqtl | PP4 | study_id | celltype_tissue |\n",
       "|---|---|---|---|---|---|---|\n",
       "| 78 | NDST4                 | 12                    | NDST4-4_115734311_A_G | 0.9729403             | NEALE2_6138_1         | Sert_D52_NONE         |\n",
       "\n"
      ],
      "text/plain": [
       "   gene  label eqtl                  PP4       study_id      celltype_tissue\n",
       "78 NDST4 12    NDST4-4_115734311_A_G 0.9729403 NEALE2_6138_1 Sert_D52_NONE  "
      ]
     },
     "metadata": {},
     "output_type": "display_data"
    }
   ],
   "source": [
    "# college or university degree\n",
    "df_coloc[df_coloc$gene == \"NDST4\",]"
   ]
  },
  {
   "cell_type": "code",
   "execution_count": 9,
   "id": "d2502839",
   "metadata": {},
   "outputs": [
    {
     "data": {
      "text/html": [
       "<table>\n",
       "<thead><tr><th></th><th scope=col>gene</th><th scope=col>label</th><th scope=col>eqtl</th><th scope=col>PP4</th><th scope=col>study_id</th><th scope=col>celltype_tissue</th></tr></thead>\n",
       "<tbody>\n",
       "\t<tr><th scope=row>79</th><td>PCDHA9                </td><td>5                     </td><td>PCDHA9-5_140186438_G_C</td><td>0.6301593             </td><td>SCZ2                  </td><td>FPP_D30               </td></tr>\n",
       "\t<tr><th scope=row>80</th><td>PCDHA9                </td><td>5                     </td><td>PCDHA9-5_140186438_G_C</td><td>0.5440437             </td><td>SCZ2                  </td><td>Epen1_D30             </td></tr>\n",
       "\t<tr><th scope=row>81</th><td>PCDHA9                </td><td>5                     </td><td>PCDHA9-5_140186438_G_C</td><td>0.5710991             </td><td>GCST002245            </td><td>Sert_D52_ROT          </td></tr>\n",
       "\t<tr><th scope=row>82</th><td>PCDHA9                </td><td>5                     </td><td>PCDHA9-5_140186438_G_C</td><td>0.7058493             </td><td>SCZ2                  </td><td>Sert_D52_ROT          </td></tr>\n",
       "</tbody>\n",
       "</table>\n"
      ],
      "text/latex": [
       "\\begin{tabular}{r|llllll}\n",
       "  & gene & label & eqtl & PP4 & study\\_id & celltype\\_tissue\\\\\n",
       "\\hline\n",
       "\t79 & PCDHA9                       & 5                            & PCDHA9-5\\_140186438\\_G\\_C & 0.6301593                    & SCZ2                         & FPP\\_D30                   \\\\\n",
       "\t80 & PCDHA9                       & 5                            & PCDHA9-5\\_140186438\\_G\\_C & 0.5440437                    & SCZ2                         & Epen1\\_D30                 \\\\\n",
       "\t81 & PCDHA9                       & 5                            & PCDHA9-5\\_140186438\\_G\\_C & 0.5710991                    & GCST002245                   & Sert\\_D52\\_ROT            \\\\\n",
       "\t82 & PCDHA9                       & 5                            & PCDHA9-5\\_140186438\\_G\\_C & 0.7058493                    & SCZ2                         & Sert\\_D52\\_ROT            \\\\\n",
       "\\end{tabular}\n"
      ],
      "text/markdown": [
       "\n",
       "| <!--/--> | gene | label | eqtl | PP4 | study_id | celltype_tissue |\n",
       "|---|---|---|---|---|---|---|\n",
       "| 79 | PCDHA9                 | 5                      | PCDHA9-5_140186438_G_C | 0.6301593              | SCZ2                   | FPP_D30                |\n",
       "| 80 | PCDHA9                 | 5                      | PCDHA9-5_140186438_G_C | 0.5440437              | SCZ2                   | Epen1_D30              |\n",
       "| 81 | PCDHA9                 | 5                      | PCDHA9-5_140186438_G_C | 0.5710991              | GCST002245             | Sert_D52_ROT           |\n",
       "| 82 | PCDHA9                 | 5                      | PCDHA9-5_140186438_G_C | 0.7058493              | SCZ2                   | Sert_D52_ROT           |\n",
       "\n"
      ],
      "text/plain": [
       "   gene   label eqtl                   PP4       study_id   celltype_tissue\n",
       "79 PCDHA9 5     PCDHA9-5_140186438_G_C 0.6301593 SCZ2       FPP_D30        \n",
       "80 PCDHA9 5     PCDHA9-5_140186438_G_C 0.5440437 SCZ2       Epen1_D30      \n",
       "81 PCDHA9 5     PCDHA9-5_140186438_G_C 0.5710991 GCST002245 Sert_D52_ROT   \n",
       "82 PCDHA9 5     PCDHA9-5_140186438_G_C 0.7058493 SCZ2       Sert_D52_ROT   "
      ]
     },
     "metadata": {},
     "output_type": "display_data"
    }
   ],
   "source": [
    "# SCZ, AD\n",
    "df_coloc[df_coloc$gene == \"PCDHA9\",]"
   ]
  },
  {
   "cell_type": "code",
   "execution_count": 10,
   "id": "ee5b81e9",
   "metadata": {},
   "outputs": [
    {
     "data": {
      "text/html": [
       "<table>\n",
       "<thead><tr><th></th><th scope=col>gene</th><th scope=col>label</th><th scope=col>eqtl</th><th scope=col>PP4</th><th scope=col>study_id</th><th scope=col>celltype_tissue</th></tr></thead>\n",
       "<tbody>\n",
       "\t<tr><th scope=row>83</th><td>PEX6               </td><td>8                  </td><td>PEX6-6_42918984_T_A</td><td>0.501635           </td><td>SCZ2               </td><td>Epen1_D30          </td></tr>\n",
       "</tbody>\n",
       "</table>\n"
      ],
      "text/latex": [
       "\\begin{tabular}{r|llllll}\n",
       "  & gene & label & eqtl & PP4 & study\\_id & celltype\\_tissue\\\\\n",
       "\\hline\n",
       "\t83 & PEX6                      & 8                         & PEX6-6\\_42918984\\_T\\_A & 0.501635                  & SCZ2                      & Epen1\\_D30              \\\\\n",
       "\\end{tabular}\n"
      ],
      "text/markdown": [
       "\n",
       "| <!--/--> | gene | label | eqtl | PP4 | study_id | celltype_tissue |\n",
       "|---|---|---|---|---|---|---|\n",
       "| 83 | PEX6                | 8                   | PEX6-6_42918984_T_A | 0.501635            | SCZ2                | Epen1_D30           |\n",
       "\n"
      ],
      "text/plain": [
       "   gene label eqtl                PP4      study_id celltype_tissue\n",
       "83 PEX6 8     PEX6-6_42918984_T_A 0.501635 SCZ2     Epen1_D30      "
      ]
     },
     "metadata": {},
     "output_type": "display_data"
    }
   ],
   "source": [
    "# SCZ\n",
    "df_coloc[df_coloc$gene == \"PEX6\",]"
   ]
  },
  {
   "cell_type": "code",
   "execution_count": 11,
   "id": "ccd8fe8d",
   "metadata": {},
   "outputs": [
    {
     "data": {
      "text/html": [
       "<table>\n",
       "<thead><tr><th></th><th scope=col>gene</th><th scope=col>label</th><th scope=col>eqtl</th><th scope=col>PP4</th><th scope=col>study_id</th><th scope=col>celltype_tissue</th></tr></thead>\n",
       "<tbody>\n",
       "\t<tr><th scope=row>84</th><td>PRKCA                </td><td>11                   </td><td>PRKCA-17_64807228_C_G</td><td>0.8175212            </td><td>GCST005232           </td><td>Epen1_D52_NONE       </td></tr>\n",
       "\t<tr><th scope=row>85</th><td>PRKCA                </td><td>11                   </td><td>PRKCA-17_64807228_C_G</td><td>0.8481745            </td><td>NEALE2_20127_raw     </td><td>Epen1_D52_NONE       </td></tr>\n",
       "</tbody>\n",
       "</table>\n"
      ],
      "text/latex": [
       "\\begin{tabular}{r|llllll}\n",
       "  & gene & label & eqtl & PP4 & study\\_id & celltype\\_tissue\\\\\n",
       "\\hline\n",
       "\t84 & PRKCA                       & 11                          & PRKCA-17\\_64807228\\_C\\_G & 0.8175212                   & GCST005232                  & Epen1\\_D52\\_NONE         \\\\\n",
       "\t85 & PRKCA                       & 11                          & PRKCA-17\\_64807228\\_C\\_G & 0.8481745                   & NEALE2\\_20127\\_raw        & Epen1\\_D52\\_NONE         \\\\\n",
       "\\end{tabular}\n"
      ],
      "text/markdown": [
       "\n",
       "| <!--/--> | gene | label | eqtl | PP4 | study_id | celltype_tissue |\n",
       "|---|---|---|---|---|---|---|\n",
       "| 84 | PRKCA                 | 11                    | PRKCA-17_64807228_C_G | 0.8175212             | GCST005232            | Epen1_D52_NONE        |\n",
       "| 85 | PRKCA                 | 11                    | PRKCA-17_64807228_C_G | 0.8481745             | NEALE2_20127_raw      | Epen1_D52_NONE        |\n",
       "\n"
      ],
      "text/plain": [
       "   gene  label eqtl                  PP4       study_id         celltype_tissue\n",
       "84 PRKCA 11    PRKCA-17_64807228_C_G 0.8175212 GCST005232       Epen1_D52_NONE \n",
       "85 PRKCA 11    PRKCA-17_64807228_C_G 0.8481745 NEALE2_20127_raw Epen1_D52_NONE "
      ]
     },
     "metadata": {},
     "output_type": "display_data"
    }
   ],
   "source": [
    "# neuroticism, neuroticism score\n",
    "df_coloc[df_coloc$gene == \"PRKCA\",]"
   ]
  },
  {
   "cell_type": "code",
   "execution_count": 12,
   "id": "b7ac51e4",
   "metadata": {},
   "outputs": [
    {
     "data": {
      "text/html": [
       "<table>\n",
       "<thead><tr><th></th><th scope=col>gene</th><th scope=col>label</th><th scope=col>eqtl</th><th scope=col>PP4</th><th scope=col>study_id</th><th scope=col>celltype_tissue</th></tr></thead>\n",
       "<tbody>\n",
       "\t<tr><th scope=row>95</th><td>RGS14                </td><td>12                   </td><td>RGS14-5_176799992_T_C</td><td>0.5102122            </td><td>GCST006572           </td><td>Epen1_D30            </td></tr>\n",
       "\t<tr><th scope=row>96</th><td>RGS14                </td><td>12                   </td><td>RGS14-5_176799992_T_C</td><td>0.5188783            </td><td>NEALE2_6138_2        </td><td>Epen1_D30            </td></tr>\n",
       "</tbody>\n",
       "</table>\n"
      ],
      "text/latex": [
       "\\begin{tabular}{r|llllll}\n",
       "  & gene & label & eqtl & PP4 & study\\_id & celltype\\_tissue\\\\\n",
       "\\hline\n",
       "\t95 & RGS14                       & 12                          & RGS14-5\\_176799992\\_T\\_C & 0.5102122                   & GCST006572                  & Epen1\\_D30                \\\\\n",
       "\t96 & RGS14                       & 12                          & RGS14-5\\_176799992\\_T\\_C & 0.5188783                   & NEALE2\\_6138\\_2           & Epen1\\_D30                \\\\\n",
       "\\end{tabular}\n"
      ],
      "text/markdown": [
       "\n",
       "| <!--/--> | gene | label | eqtl | PP4 | study_id | celltype_tissue |\n",
       "|---|---|---|---|---|---|---|\n",
       "| 95 | RGS14                 | 12                    | RGS14-5_176799992_T_C | 0.5102122             | GCST006572            | Epen1_D30             |\n",
       "| 96 | RGS14                 | 12                    | RGS14-5_176799992_T_C | 0.5188783             | NEALE2_6138_2         | Epen1_D30             |\n",
       "\n"
      ],
      "text/plain": [
       "   gene  label eqtl                  PP4       study_id      celltype_tissue\n",
       "95 RGS14 12    RGS14-5_176799992_T_C 0.5102122 GCST006572    Epen1_D30      \n",
       "96 RGS14 12    RGS14-5_176799992_T_C 0.5188783 NEALE2_6138_2 Epen1_D30      "
      ]
     },
     "metadata": {},
     "output_type": "display_data"
    }
   ],
   "source": [
    "# cognitive performance, A levels\n",
    "df_coloc[df_coloc$gene == \"RGS14\",]"
   ]
  },
  {
   "cell_type": "code",
   "execution_count": 14,
   "id": "e2d8f7b8",
   "metadata": {},
   "outputs": [
    {
     "data": {
      "text/html": [
       "<table>\n",
       "<thead><tr><th></th><th scope=col>gene</th><th scope=col>label</th><th scope=col>eqtl</th><th scope=col>PP4</th><th scope=col>study_id</th><th scope=col>celltype_tissue</th></tr></thead>\n",
       "<tbody>\n",
       "\t<tr><th scope=row>106</th><td>SUMF1              </td><td>1                  </td><td>SUMF1-3_4393684_G_A</td><td>0.8222214          </td><td>NEALE2_6138_2      </td><td>FPP_D11            </td></tr>\n",
       "\t<tr><th scope=row>107</th><td>SUMF1              </td><td>1                  </td><td>SUMF1-3_4393684_G_A</td><td>0.8582602          </td><td>NEALE2_6138_2      </td><td>P_FPP_D11          </td></tr>\n",
       "</tbody>\n",
       "</table>\n"
      ],
      "text/latex": [
       "\\begin{tabular}{r|llllll}\n",
       "  & gene & label & eqtl & PP4 & study\\_id & celltype\\_tissue\\\\\n",
       "\\hline\n",
       "\t106 & SUMF1                     & 1                         & SUMF1-3\\_4393684\\_G\\_A & 0.8222214                 & NEALE2\\_6138\\_2         & FPP\\_D11                \\\\\n",
       "\t107 & SUMF1                     & 1                         & SUMF1-3\\_4393684\\_G\\_A & 0.8582602                 & NEALE2\\_6138\\_2         & P\\_FPP\\_D11            \\\\\n",
       "\\end{tabular}\n"
      ],
      "text/markdown": [
       "\n",
       "| <!--/--> | gene | label | eqtl | PP4 | study_id | celltype_tissue |\n",
       "|---|---|---|---|---|---|---|\n",
       "| 106 | SUMF1               | 1                   | SUMF1-3_4393684_G_A | 0.8222214           | NEALE2_6138_2       | FPP_D11             |\n",
       "| 107 | SUMF1               | 1                   | SUMF1-3_4393684_G_A | 0.8582602           | NEALE2_6138_2       | P_FPP_D11           |\n",
       "\n"
      ],
      "text/plain": [
       "    gene  label eqtl                PP4       study_id      celltype_tissue\n",
       "106 SUMF1 1     SUMF1-3_4393684_G_A 0.8222214 NEALE2_6138_2 FPP_D11        \n",
       "107 SUMF1 1     SUMF1-3_4393684_G_A 0.8582602 NEALE2_6138_2 P_FPP_D11      "
      ]
     },
     "metadata": {},
     "output_type": "display_data"
    }
   ],
   "source": [
    "# A levels\n",
    "df_coloc[df_coloc$gene == \"SUMF1\",]"
   ]
  },
  {
   "cell_type": "code",
   "execution_count": 15,
   "id": "9142b5ed",
   "metadata": {},
   "outputs": [
    {
     "data": {
      "text/html": [
       "<table>\n",
       "<thead><tr><th></th><th scope=col>gene</th><th scope=col>label</th><th scope=col>eqtl</th><th scope=col>PP4</th><th scope=col>study_id</th><th scope=col>celltype_tissue</th></tr></thead>\n",
       "<tbody>\n",
       "\t<tr><th scope=row>117</th><td>ZFR2               </td><td>9                  </td><td>ZFR2-19_3840157_C_T</td><td>0.7388924          </td><td>NEALE2_6138_2      </td><td>Astro_D52_NONE     </td></tr>\n",
       "</tbody>\n",
       "</table>\n"
      ],
      "text/latex": [
       "\\begin{tabular}{r|llllll}\n",
       "  & gene & label & eqtl & PP4 & study\\_id & celltype\\_tissue\\\\\n",
       "\\hline\n",
       "\t117 & ZFR2                      & 9                         & ZFR2-19\\_3840157\\_C\\_T & 0.7388924                 & NEALE2\\_6138\\_2         & Astro\\_D52\\_NONE       \\\\\n",
       "\\end{tabular}\n"
      ],
      "text/markdown": [
       "\n",
       "| <!--/--> | gene | label | eqtl | PP4 | study_id | celltype_tissue |\n",
       "|---|---|---|---|---|---|---|\n",
       "| 117 | ZFR2                | 9                   | ZFR2-19_3840157_C_T | 0.7388924           | NEALE2_6138_2       | Astro_D52_NONE      |\n",
       "\n"
      ],
      "text/plain": [
       "    gene label eqtl                PP4       study_id      celltype_tissue\n",
       "117 ZFR2 9     ZFR2-19_3840157_C_T 0.7388924 NEALE2_6138_2 Astro_D52_NONE "
      ]
     },
     "metadata": {},
     "output_type": "display_data"
    }
   ],
   "source": [
    "# A levels\n",
    "df_coloc[df_coloc$gene == \"ZFR2\",]"
   ]
  },
  {
   "cell_type": "code",
   "execution_count": null,
   "id": "a27aae45",
   "metadata": {},
   "outputs": [],
   "source": []
  }
 ],
 "metadata": {
  "kernelspec": {
   "display_name": "R",
   "language": "R",
   "name": "ir"
  },
  "language_info": {
   "codemirror_mode": "r",
   "file_extension": ".r",
   "mimetype": "text/x-r-source",
   "name": "R",
   "pygments_lexer": "r",
   "version": "3.6.1"
  }
 },
 "nbformat": 4,
 "nbformat_minor": 5
}
