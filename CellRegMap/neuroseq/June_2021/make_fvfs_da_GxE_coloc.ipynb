{
 "cells": [
  {
   "cell_type": "code",
   "execution_count": 20,
   "id": "6412a414",
   "metadata": {},
   "outputs": [
    {
     "data": {
      "text/html": [
       "<table>\n",
       "<thead><tr><th scope=col>gene</th><th scope=col>label</th><th scope=col>eqtl</th><th scope=col>PP4</th><th scope=col>study_id</th><th scope=col>celltype_tissue</th><th scope=col>ensembl_gene_id</th></tr></thead>\n",
       "<tbody>\n",
       "\t<tr><td>ATG10               </td><td>7                   </td><td>ATG10-5_81395824_T_G</td><td>0.8773539           </td><td>GCST006572          </td><td>DA_D30              </td><td>ENSG00000152348     </td></tr>\n",
       "\t<tr><td>ATG10               </td><td>7                   </td><td>ATG10-5_81395824_T_G</td><td>0.5351271           </td><td>GCST006572          </td><td>DA_D52_ROT          </td><td>ENSG00000152348     </td></tr>\n",
       "</tbody>\n",
       "</table>\n"
      ],
      "text/latex": [
       "\\begin{tabular}{r|lllllll}\n",
       " gene & label & eqtl & PP4 & study\\_id & celltype\\_tissue & ensembl\\_gene\\_id\\\\\n",
       "\\hline\n",
       "\t ATG10                      & 7                          & ATG10-5\\_81395824\\_T\\_G & 0.8773539                  & GCST006572                 & DA\\_D30                   & ENSG00000152348           \\\\\n",
       "\t ATG10                      & 7                          & ATG10-5\\_81395824\\_T\\_G & 0.5351271                  & GCST006572                 & DA\\_D52\\_ROT             & ENSG00000152348           \\\\\n",
       "\\end{tabular}\n"
      ],
      "text/markdown": [
       "\n",
       "| gene | label | eqtl | PP4 | study_id | celltype_tissue | ensembl_gene_id |\n",
       "|---|---|---|---|---|---|---|\n",
       "| ATG10                | 7                    | ATG10-5_81395824_T_G | 0.8773539            | GCST006572           | DA_D30               | ENSG00000152348      |\n",
       "| ATG10                | 7                    | ATG10-5_81395824_T_G | 0.5351271            | GCST006572           | DA_D52_ROT           | ENSG00000152348      |\n",
       "\n"
      ],
      "text/plain": [
       "  gene  label eqtl                 PP4       study_id   celltype_tissue\n",
       "1 ATG10 7     ATG10-5_81395824_T_G 0.8773539 GCST006572 DA_D30         \n",
       "2 ATG10 7     ATG10-5_81395824_T_G 0.5351271 GCST006572 DA_D52_ROT     \n",
       "  ensembl_gene_id\n",
       "1 ENSG00000152348\n",
       "2 ENSG00000152348"
      ]
     },
     "metadata": {},
     "output_type": "display_data"
    }
   ],
   "source": [
    "df = read.csv(\"/hps/nobackup/stegle/users/acuomo/all_scripts/struct_LMM2/sc_neuroseq/da_coloc_GxC.csv\", row.names = 1)\n",
    "head(df,2)"
   ]
  },
  {
   "cell_type": "code",
   "execution_count": 21,
   "id": "2d310b80",
   "metadata": {},
   "outputs": [],
   "source": [
    "mydir = \"/hps/nobackup/stegle/users/acuomo/all_scripts/struct_LMM2/sc_neuroseq/da_coloc_GxC/\""
   ]
  },
  {
   "cell_type": "code",
   "execution_count": 145,
   "id": "6927eb5e",
   "metadata": {},
   "outputs": [],
   "source": [
    "mydirs = list.files(mydir,\"input*\")"
   ]
  },
  {
   "cell_type": "code",
   "execution_count": 146,
   "id": "06cb308e",
   "metadata": {},
   "outputs": [
    {
     "data": {
      "text/html": [
       "<ol class=list-inline>\n",
       "\t<li>'input_files_ATG10-5_81395824_T_G_top10quantile'</li>\n",
       "\t<li>'input_files_CHRNA3-15_78849034_T_C_bottom10quantile'</li>\n",
       "\t<li>'input_files_EIF5A-17_7207964_A_C_top10quantile'</li>\n",
       "\t<li>'input_files_GALNT10-5_153526051_G_A_top10quantile'</li>\n",
       "\t<li>'input_files_MAPT-AS1-17_43925297_C_T_top10quantile'</li>\n",
       "\t<li>'input_files_MAST3-19_18275532_G_A_bottom10quantile'</li>\n",
       "\t<li>'input_files_MAST3-19_18275532_G_A_top10quantile'</li>\n",
       "\t<li>'input_files_MPHOSPH9-12_123604053_C_T_bottom10quantile'</li>\n",
       "\t<li>'input_files_MPHOSPH9-12_123604053_C_T_top10quantile'</li>\n",
       "\t<li>'input_files_PRR7-AS1-5_176904279_C_G_bottom10quantile'</li>\n",
       "\t<li>'input_files_PRR7-AS1-5_176904279_C_G_top10quantile'</li>\n",
       "\t<li>'input_files_PRSS36-16_31117698_C_T_bottom10quantile'</li>\n",
       "\t<li>'input_files_PRSS36-16_31117698_C_T_top10quantile'</li>\n",
       "\t<li>'input_files_RHEBL1-12_49464449_A_G_bottom10quantile'</li>\n",
       "\t<li>'input_files_RHEBL1-12_49464449_A_G_top10quantile'</li>\n",
       "\t<li>'input_files_SLC35E2-1_1660978_C_A_bottom10quantile'</li>\n",
       "\t<li>'input_files_SLC35E2-1_1660978_C_A_top10quantile'</li>\n",
       "\t<li>'input_files_STAT6-12_57509569_C_T_bottom10quantile'</li>\n",
       "\t<li>'input_files_STAT6-12_57509569_C_T_top10quantile'</li>\n",
       "\t<li>'input_files_TUBGCP4-15_43597297_T_A_bottom10quantile'</li>\n",
       "</ol>\n"
      ],
      "text/latex": [
       "\\begin{enumerate*}\n",
       "\\item 'input\\_files\\_ATG10-5\\_81395824\\_T\\_G\\_top10quantile'\n",
       "\\item 'input\\_files\\_CHRNA3-15\\_78849034\\_T\\_C\\_bottom10quantile'\n",
       "\\item 'input\\_files\\_EIF5A-17\\_7207964\\_A\\_C\\_top10quantile'\n",
       "\\item 'input\\_files\\_GALNT10-5\\_153526051\\_G\\_A\\_top10quantile'\n",
       "\\item 'input\\_files\\_MAPT-AS1-17\\_43925297\\_C\\_T\\_top10quantile'\n",
       "\\item 'input\\_files\\_MAST3-19\\_18275532\\_G\\_A\\_bottom10quantile'\n",
       "\\item 'input\\_files\\_MAST3-19\\_18275532\\_G\\_A\\_top10quantile'\n",
       "\\item 'input\\_files\\_MPHOSPH9-12\\_123604053\\_C\\_T\\_bottom10quantile'\n",
       "\\item 'input\\_files\\_MPHOSPH9-12\\_123604053\\_C\\_T\\_top10quantile'\n",
       "\\item 'input\\_files\\_PRR7-AS1-5\\_176904279\\_C\\_G\\_bottom10quantile'\n",
       "\\item 'input\\_files\\_PRR7-AS1-5\\_176904279\\_C\\_G\\_top10quantile'\n",
       "\\item 'input\\_files\\_PRSS36-16\\_31117698\\_C\\_T\\_bottom10quantile'\n",
       "\\item 'input\\_files\\_PRSS36-16\\_31117698\\_C\\_T\\_top10quantile'\n",
       "\\item 'input\\_files\\_RHEBL1-12\\_49464449\\_A\\_G\\_bottom10quantile'\n",
       "\\item 'input\\_files\\_RHEBL1-12\\_49464449\\_A\\_G\\_top10quantile'\n",
       "\\item 'input\\_files\\_SLC35E2-1\\_1660978\\_C\\_A\\_bottom10quantile'\n",
       "\\item 'input\\_files\\_SLC35E2-1\\_1660978\\_C\\_A\\_top10quantile'\n",
       "\\item 'input\\_files\\_STAT6-12\\_57509569\\_C\\_T\\_bottom10quantile'\n",
       "\\item 'input\\_files\\_STAT6-12\\_57509569\\_C\\_T\\_top10quantile'\n",
       "\\item 'input\\_files\\_TUBGCP4-15\\_43597297\\_T\\_A\\_bottom10quantile'\n",
       "\\end{enumerate*}\n"
      ],
      "text/markdown": [
       "1. 'input_files_ATG10-5_81395824_T_G_top10quantile'\n",
       "2. 'input_files_CHRNA3-15_78849034_T_C_bottom10quantile'\n",
       "3. 'input_files_EIF5A-17_7207964_A_C_top10quantile'\n",
       "4. 'input_files_GALNT10-5_153526051_G_A_top10quantile'\n",
       "5. 'input_files_MAPT-AS1-17_43925297_C_T_top10quantile'\n",
       "6. 'input_files_MAST3-19_18275532_G_A_bottom10quantile'\n",
       "7. 'input_files_MAST3-19_18275532_G_A_top10quantile'\n",
       "8. 'input_files_MPHOSPH9-12_123604053_C_T_bottom10quantile'\n",
       "9. 'input_files_MPHOSPH9-12_123604053_C_T_top10quantile'\n",
       "10. 'input_files_PRR7-AS1-5_176904279_C_G_bottom10quantile'\n",
       "11. 'input_files_PRR7-AS1-5_176904279_C_G_top10quantile'\n",
       "12. 'input_files_PRSS36-16_31117698_C_T_bottom10quantile'\n",
       "13. 'input_files_PRSS36-16_31117698_C_T_top10quantile'\n",
       "14. 'input_files_RHEBL1-12_49464449_A_G_bottom10quantile'\n",
       "15. 'input_files_RHEBL1-12_49464449_A_G_top10quantile'\n",
       "16. 'input_files_SLC35E2-1_1660978_C_A_bottom10quantile'\n",
       "17. 'input_files_SLC35E2-1_1660978_C_A_top10quantile'\n",
       "18. 'input_files_STAT6-12_57509569_C_T_bottom10quantile'\n",
       "19. 'input_files_STAT6-12_57509569_C_T_top10quantile'\n",
       "20. 'input_files_TUBGCP4-15_43597297_T_A_bottom10quantile'\n",
       "\n",
       "\n"
      ],
      "text/plain": [
       " [1] \"input_files_ATG10-5_81395824_T_G_top10quantile\"        \n",
       " [2] \"input_files_CHRNA3-15_78849034_T_C_bottom10quantile\"   \n",
       " [3] \"input_files_EIF5A-17_7207964_A_C_top10quantile\"        \n",
       " [4] \"input_files_GALNT10-5_153526051_G_A_top10quantile\"     \n",
       " [5] \"input_files_MAPT-AS1-17_43925297_C_T_top10quantile\"    \n",
       " [6] \"input_files_MAST3-19_18275532_G_A_bottom10quantile\"    \n",
       " [7] \"input_files_MAST3-19_18275532_G_A_top10quantile\"       \n",
       " [8] \"input_files_MPHOSPH9-12_123604053_C_T_bottom10quantile\"\n",
       " [9] \"input_files_MPHOSPH9-12_123604053_C_T_top10quantile\"   \n",
       "[10] \"input_files_PRR7-AS1-5_176904279_C_G_bottom10quantile\" \n",
       "[11] \"input_files_PRR7-AS1-5_176904279_C_G_top10quantile\"    \n",
       "[12] \"input_files_PRSS36-16_31117698_C_T_bottom10quantile\"   \n",
       "[13] \"input_files_PRSS36-16_31117698_C_T_top10quantile\"      \n",
       "[14] \"input_files_RHEBL1-12_49464449_A_G_bottom10quantile\"   \n",
       "[15] \"input_files_RHEBL1-12_49464449_A_G_top10quantile\"      \n",
       "[16] \"input_files_SLC35E2-1_1660978_C_A_bottom10quantile\"    \n",
       "[17] \"input_files_SLC35E2-1_1660978_C_A_top10quantile\"       \n",
       "[18] \"input_files_STAT6-12_57509569_C_T_bottom10quantile\"    \n",
       "[19] \"input_files_STAT6-12_57509569_C_T_top10quantile\"       \n",
       "[20] \"input_files_TUBGCP4-15_43597297_T_A_bottom10quantile\"  "
      ]
     },
     "metadata": {},
     "output_type": "display_data"
    }
   ],
   "source": [
    "mydirs"
   ]
  },
  {
   "cell_type": "code",
   "execution_count": 147,
   "id": "d2d53c83",
   "metadata": {},
   "outputs": [
    {
     "data": {
      "text/html": [
       "'/hps/nobackup/stegle/users/acuomo/all_scripts/struct_LMM2/sc_neuroseq/da_coloc_GxC/input_files_TUBGCP4-15_43597297_T_A_bottom10quantile'"
      ],
      "text/latex": [
       "'/hps/nobackup/stegle/users/acuomo/all\\_scripts/struct\\_LMM2/sc\\_neuroseq/da\\_coloc\\_GxC/input\\_files\\_TUBGCP4-15\\_43597297\\_T\\_A\\_bottom10quantile'"
      ],
      "text/markdown": [
       "'/hps/nobackup/stegle/users/acuomo/all_scripts/struct_LMM2/sc_neuroseq/da_coloc_GxC/input_files_TUBGCP4-15_43597297_T_A_bottom10quantile'"
      ],
      "text/plain": [
       "[1] \"/hps/nobackup/stegle/users/acuomo/all_scripts/struct_LMM2/sc_neuroseq/da_coloc_GxC/input_files_TUBGCP4-15_43597297_T_A_bottom10quantile\""
      ]
     },
     "metadata": {},
     "output_type": "display_data"
    }
   ],
   "source": [
    "i=20\n",
    "outdir = paste0(mydir, mydirs[i])\n",
    "outdir"
   ]
  },
  {
   "cell_type": "code",
   "execution_count": 148,
   "id": "50ae314d",
   "metadata": {},
   "outputs": [
    {
     "data": {
      "text/html": [
       "'TUBGCP4-15_43597297_T_A'"
      ],
      "text/latex": [
       "'TUBGCP4-15\\_43597297\\_T\\_A'"
      ],
      "text/markdown": [
       "'TUBGCP4-15_43597297_T_A'"
      ],
      "text/plain": [
       "[1] \"TUBGCP4-15_43597297_T_A\""
      ]
     },
     "metadata": {},
     "output_type": "display_data"
    }
   ],
   "source": [
    "eqtl = gsub(\"_top10quantile\",\"\",gsub(\"_bottom10quantile\",\"\",gsub(\"input_files_\",\"\",mydirs[i])))\n",
    "eqtl"
   ]
  },
  {
   "cell_type": "code",
   "execution_count": 149,
   "id": "5b20415a",
   "metadata": {},
   "outputs": [
    {
     "data": {
      "text/html": [
       "'TUBGCP4'"
      ],
      "text/latex": [
       "'TUBGCP4'"
      ],
      "text/markdown": [
       "'TUBGCP4'"
      ],
      "text/plain": [
       "[1] \"TUBGCP4\""
      ]
     },
     "metadata": {},
     "output_type": "display_data"
    },
    {
     "data": {
      "text/html": [
       "'15_43597297_T_A'"
      ],
      "text/latex": [
       "'15\\_43597297\\_T\\_A'"
      ],
      "text/markdown": [
       "'15_43597297_T_A'"
      ],
      "text/plain": [
       "[1] \"15_43597297_T_A\""
      ]
     },
     "metadata": {},
     "output_type": "display_data"
    }
   ],
   "source": [
    "gene = unlist(strsplit(eqtl,\"-\"))[1]\n",
    "snp = unlist(strsplit(eqtl,\"-\"))[2]\n",
    "gene\n",
    "snp"
   ]
  },
  {
   "cell_type": "code",
   "execution_count": 150,
   "id": "a79c9e06",
   "metadata": {},
   "outputs": [],
   "source": [
    "# gene = 'PRR7-AS1'\n",
    "# snp = '5_176904279_C_G'"
   ]
  },
  {
   "cell_type": "code",
   "execution_count": 151,
   "id": "d7470f6a",
   "metadata": {},
   "outputs": [
    {
     "data": {
      "text/html": [
       "'ENSG00000137822'"
      ],
      "text/latex": [
       "'ENSG00000137822'"
      ],
      "text/markdown": [
       "'ENSG00000137822'"
      ],
      "text/plain": [
       "[1] \"ENSG00000137822\""
      ]
     },
     "metadata": {},
     "output_type": "display_data"
    }
   ],
   "source": [
    "ensembl_gene_id = as.character(df[df$gene == gene, \"ensembl_gene_id\"][1])\n",
    "ensembl_gene_id"
   ]
  },
  {
   "cell_type": "code",
   "execution_count": 152,
   "id": "8c126e27",
   "metadata": {},
   "outputs": [
    {
     "data": {
      "text/html": [
       "<table>\n",
       "<thead><tr><th scope=col>snp_id</th><th scope=col>feature_id</th></tr></thead>\n",
       "<tbody>\n",
       "\t<tr><td>15_43597297_T_A</td><td>ENSG00000137822</td></tr>\n",
       "</tbody>\n",
       "</table>\n"
      ],
      "text/latex": [
       "\\begin{tabular}{r|ll}\n",
       " snp\\_id & feature\\_id\\\\\n",
       "\\hline\n",
       "\t 15\\_43597297\\_T\\_A & ENSG00000137822      \\\\\n",
       "\\end{tabular}\n"
      ],
      "text/markdown": [
       "\n",
       "| snp_id | feature_id |\n",
       "|---|---|\n",
       "| 15_43597297_T_A | ENSG00000137822 |\n",
       "\n"
      ],
      "text/plain": [
       "  snp_id          feature_id     \n",
       "1 15_43597297_T_A ENSG00000137822"
      ]
     },
     "metadata": {},
     "output_type": "display_data"
    }
   ],
   "source": [
    "df_fvf = data.frame(snp_id = snp, feature_id = ensembl_gene_id)\n",
    "df_fvf"
   ]
  },
  {
   "cell_type": "code",
   "execution_count": 153,
   "id": "4ed2f805",
   "metadata": {},
   "outputs": [],
   "source": [
    "write.table(df_fvf, paste0(outdir,\"/fvf.tsv\"), quote=F, row.names=F, sep='\\t')"
   ]
  },
  {
   "cell_type": "code",
   "execution_count": 154,
   "id": "390ed280",
   "metadata": {},
   "outputs": [
    {
     "data": {
      "text/html": [
       "'/hps/nobackup/stegle/users/acuomo/all_scripts/struct_LMM2/sc_neuroseq/da_coloc_GxC/input_files_TUBGCP4-15_43597297_T_A_bottom10quantile/fvf.tsv'"
      ],
      "text/latex": [
       "'/hps/nobackup/stegle/users/acuomo/all\\_scripts/struct\\_LMM2/sc\\_neuroseq/da\\_coloc\\_GxC/input\\_files\\_TUBGCP4-15\\_43597297\\_T\\_A\\_bottom10quantile/fvf.tsv'"
      ],
      "text/markdown": [
       "'/hps/nobackup/stegle/users/acuomo/all_scripts/struct_LMM2/sc_neuroseq/da_coloc_GxC/input_files_TUBGCP4-15_43597297_T_A_bottom10quantile/fvf.tsv'"
      ],
      "text/plain": [
       "[1] \"/hps/nobackup/stegle/users/acuomo/all_scripts/struct_LMM2/sc_neuroseq/da_coloc_GxC/input_files_TUBGCP4-15_43597297_T_A_bottom10quantile/fvf.tsv\""
      ]
     },
     "metadata": {},
     "output_type": "display_data"
    }
   ],
   "source": [
    "paste0(outdir,\"/fvf.tsv\")"
   ]
  },
  {
   "cell_type": "code",
   "execution_count": 155,
   "id": "2b4cc97a",
   "metadata": {},
   "outputs": [
    {
     "data": {
      "text/html": [
       "<table>\n",
       "<thead><tr><th scope=col>feature_id</th></tr></thead>\n",
       "<tbody>\n",
       "\t<tr><td>ENSG00000137822</td></tr>\n",
       "</tbody>\n",
       "</table>\n"
      ],
      "text/latex": [
       "\\begin{tabular}{r|l}\n",
       " feature\\_id\\\\\n",
       "\\hline\n",
       "\t ENSG00000137822\\\\\n",
       "\\end{tabular}\n"
      ],
      "text/markdown": [
       "\n",
       "| feature_id |\n",
       "|---|\n",
       "| ENSG00000137822 |\n",
       "\n"
      ],
      "text/plain": [
       "  feature_id     \n",
       "1 ENSG00000137822"
      ]
     },
     "metadata": {},
     "output_type": "display_data"
    }
   ],
   "source": [
    "df_ff = data.frame(feature_id = ensembl_gene_id)\n",
    "df_ff"
   ]
  },
  {
   "cell_type": "code",
   "execution_count": 156,
   "id": "497ebf33",
   "metadata": {},
   "outputs": [],
   "source": [
    "write.table(df_ff, paste0(outdir,\"/ff.tsv\"), quote=F, row.names=F, sep='\\t')"
   ]
  },
  {
   "cell_type": "code",
   "execution_count": null,
   "id": "6d95ea94",
   "metadata": {},
   "outputs": [],
   "source": []
  }
 ],
 "metadata": {
  "kernelspec": {
   "display_name": "R",
   "language": "R",
   "name": "ir"
  },
  "language_info": {
   "codemirror_mode": "r",
   "file_extension": ".r",
   "mimetype": "text/x-r-source",
   "name": "R",
   "pygments_lexer": "r",
   "version": "3.6.1"
  }
 },
 "nbformat": 4,
 "nbformat_minor": 5
}
