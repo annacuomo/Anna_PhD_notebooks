{
 "cells": [
  {
   "cell_type": "code",
   "execution_count": 277,
   "id": "431f8fcc",
   "metadata": {},
   "outputs": [],
   "source": [
    "library(dplyr)"
   ]
  },
  {
   "cell_type": "code",
   "execution_count": 315,
   "id": "8e77b9e2",
   "metadata": {},
   "outputs": [],
   "source": [
    "mydir = \"/hps/nobackup/stegle/users/acuomo/all_scripts/struct_LMM2/sc_neuroseq/da_coloc_GxC/structlmm2_eQTLgenes_Pseudobulk/\""
   ]
  },
  {
   "cell_type": "code",
   "execution_count": 316,
   "id": "8bda79b1",
   "metadata": {
    "scrolled": true
   },
   "outputs": [
    {
     "data": {
      "text/html": [
       "<ol class=list-inline>\n",
       "\t<li>'ATG10-5_81395824_T_G_bottom10quantile'</li>\n",
       "\t<li>'ATG10-5_81395824_T_G_bottom10quantile_covariates.tsv'</li>\n",
       "\t<li>'ATG10-5_81395824_T_G_bottom10quantile_noise.tsv'</li>\n",
       "\t<li>'ATG10-5_81395824_T_G_bottom10quantile_phenotype_morethan5cells.tsv'</li>\n",
       "\t<li>'ATG10-5_81395824_T_G_bottom10quantile_phenotype.tsv'</li>\n",
       "\t<li>'ATG10-5_81395824_T_G_bottom10quantile_Pseudobulk_Metadata.tsv'</li>\n",
       "\t<li>'ATG10-5_81395824_T_G_bottom10quantile_PSEUDOBULK.tsv'</li>\n",
       "\t<li>'ATG10-5_81395824_T_G_bottom10quantile_smf.tsv'</li>\n",
       "\t<li>'ATG10-5_81395824_T_G_top10quantile_covariates.tsv'</li>\n",
       "\t<li>'ATG10-5_81395824_T_G_top10quantile_noise.tsv'</li>\n",
       "\t<li>'ATG10-5_81395824_T_G_top10quantile_phenotype_morethan5cells.tsv'</li>\n",
       "\t<li>'ATG10-5_81395824_T_G_top10quantile_phenotype.tsv'</li>\n",
       "\t<li>'ATG10-5_81395824_T_G_top10quantile_Pseudobulk_Metadata.tsv'</li>\n",
       "\t<li>'ATG10-5_81395824_T_G_top10quantile_PSEUDOBULK.tsv'</li>\n",
       "\t<li>'ATG10-5_81395824_T_G_top10quantile_smf.tsv'</li>\n",
       "\t<li>'CHRNA3-15_78849034_T_C_bottom10quantile_covariates.tsv'</li>\n",
       "\t<li>'CHRNA3-15_78849034_T_C_bottom10quantile_noise.tsv'</li>\n",
       "\t<li>'CHRNA3-15_78849034_T_C_bottom10quantile_phenotype_morethan5cells.tsv'</li>\n",
       "\t<li>'CHRNA3-15_78849034_T_C_bottom10quantile_phenotype.tsv'</li>\n",
       "\t<li>'CHRNA3-15_78849034_T_C_bottom10quantile_Pseudobulk_Metadata.tsv'</li>\n",
       "\t<li>'CHRNA3-15_78849034_T_C_bottom10quantile_PSEUDOBULK.tsv'</li>\n",
       "\t<li>'CHRNA3-15_78849034_T_C_bottom10quantile_smf.tsv'</li>\n",
       "\t<li>'CHRNA3-15_78849034_T_C_top10quantile_covariates.tsv'</li>\n",
       "\t<li>'CHRNA3-15_78849034_T_C_top10quantile_noise.tsv'</li>\n",
       "\t<li>'CHRNA3-15_78849034_T_C_top10quantile_phenotype_morethan5cells.tsv'</li>\n",
       "\t<li>'CHRNA3-15_78849034_T_C_top10quantile_phenotype.tsv'</li>\n",
       "\t<li>'CHRNA3-15_78849034_T_C_top10quantile_Pseudobulk_Metadata.tsv'</li>\n",
       "\t<li>'CHRNA3-15_78849034_T_C_top10quantile_PSEUDOBULK.tsv'</li>\n",
       "\t<li>'CHRNA3-15_78849034_T_C_top10quantile_smf.tsv'</li>\n",
       "\t<li>'EIF5A-17_7207964_A_C_bottom10quantile_covariates.tsv'</li>\n",
       "\t<li>'EIF5A-17_7207964_A_C_bottom10quantile_noise.tsv'</li>\n",
       "\t<li>'EIF5A-17_7207964_A_C_bottom10quantile_phenotype_morethan5cells.tsv'</li>\n",
       "\t<li>'EIF5A-17_7207964_A_C_bottom10quantile_phenotype.tsv'</li>\n",
       "\t<li>'EIF5A-17_7207964_A_C_bottom10quantile_Pseudobulk_Metadata.tsv'</li>\n",
       "\t<li>'EIF5A-17_7207964_A_C_bottom10quantile_PSEUDOBULK.tsv'</li>\n",
       "\t<li>'EIF5A-17_7207964_A_C_bottom10quantile_smf.tsv'</li>\n",
       "\t<li>'EIF5A-17_7207964_A_C_top10quantile_covariates.tsv'</li>\n",
       "\t<li>'EIF5A-17_7207964_A_C_top10quantile_noise.tsv'</li>\n",
       "\t<li>'EIF5A-17_7207964_A_C_top10quantile_phenotype_morethan5cells.tsv'</li>\n",
       "\t<li>'EIF5A-17_7207964_A_C_top10quantile_phenotype.tsv'</li>\n",
       "\t<li>'EIF5A-17_7207964_A_C_top10quantile_Pseudobulk_Metadata.tsv'</li>\n",
       "\t<li>'EIF5A-17_7207964_A_C_top10quantile_PSEUDOBULK.tsv'</li>\n",
       "\t<li>'EIF5A-17_7207964_A_C_top10quantile_smf.tsv'</li>\n",
       "\t<li>'GALNT10-5_153526051_G_A_bottom10quantile_covariates.tsv'</li>\n",
       "\t<li>'GALNT10-5_153526051_G_A_bottom10quantile_noise.tsv'</li>\n",
       "\t<li>'GALNT10-5_153526051_G_A_bottom10quantile_phenotype_morethan5cells.tsv'</li>\n",
       "\t<li>'GALNT10-5_153526051_G_A_bottom10quantile_phenotype.tsv'</li>\n",
       "\t<li>'GALNT10-5_153526051_G_A_bottom10quantile_Pseudobulk_Metadata.tsv'</li>\n",
       "\t<li>'GALNT10-5_153526051_G_A_bottom10quantile_PSEUDOBULK.tsv'</li>\n",
       "\t<li>'GALNT10-5_153526051_G_A_bottom10quantile_smf.tsv'</li>\n",
       "\t<li>'GALNT10-5_153526051_G_A_top10quantile_covariates.tsv'</li>\n",
       "\t<li>'GALNT10-5_153526051_G_A_top10quantile_noise.tsv'</li>\n",
       "\t<li>'GALNT10-5_153526051_G_A_top10quantile_phenotype_morethan5cells.tsv'</li>\n",
       "\t<li>'GALNT10-5_153526051_G_A_top10quantile_phenotype.tsv'</li>\n",
       "\t<li>'GALNT10-5_153526051_G_A_top10quantile_Pseudobulk_Metadata.tsv'</li>\n",
       "\t<li>'GALNT10-5_153526051_G_A_top10quantile_PSEUDOBULK.tsv'</li>\n",
       "\t<li>'GALNT10-5_153526051_G_A_top10quantile_smf.tsv'</li>\n",
       "\t<li>'MAPT-AS1-17_43925297_C_T_bottom10quantile_covariates.tsv'</li>\n",
       "\t<li>'MAPT-AS1-17_43925297_C_T_bottom10quantile_noise.tsv'</li>\n",
       "\t<li>'MAPT-AS1-17_43925297_C_T_bottom10quantile_phenotype_morethan5cells.tsv'</li>\n",
       "\t<li>'MAPT-AS1-17_43925297_C_T_bottom10quantile_phenotype.tsv'</li>\n",
       "\t<li>'MAPT-AS1-17_43925297_C_T_bottom10quantile_Pseudobulk_Metadata.tsv'</li>\n",
       "\t<li>'MAPT-AS1-17_43925297_C_T_bottom10quantile_PSEUDOBULK.tsv'</li>\n",
       "\t<li>'MAPT-AS1-17_43925297_C_T_bottom10quantile_smf.tsv'</li>\n",
       "\t<li>'MAPT-AS1-17_43925297_C_T_top10quantile_covariates.tsv'</li>\n",
       "\t<li>'MAPT-AS1-17_43925297_C_T_top10quantile_noise.tsv'</li>\n",
       "\t<li>'MAPT-AS1-17_43925297_C_T_top10quantile_phenotype_morethan5cells.tsv'</li>\n",
       "\t<li>'MAPT-AS1-17_43925297_C_T_top10quantile_phenotype.tsv'</li>\n",
       "\t<li>'MAPT-AS1-17_43925297_C_T_top10quantile_Pseudobulk_Metadata.tsv'</li>\n",
       "\t<li>'MAPT-AS1-17_43925297_C_T_top10quantile_PSEUDOBULK.tsv'</li>\n",
       "\t<li>'MAPT-AS1-17_43925297_C_T_top10quantile_smf.tsv'</li>\n",
       "\t<li>'MAST3-19_18275532_G_A_bottom10quantile_covariates.tsv'</li>\n",
       "\t<li>'MAST3-19_18275532_G_A_bottom10quantile_noise.tsv'</li>\n",
       "\t<li>'MAST3-19_18275532_G_A_bottom10quantile_phenotype_morethan5cells.tsv'</li>\n",
       "\t<li>'MAST3-19_18275532_G_A_bottom10quantile_phenotype.tsv'</li>\n",
       "\t<li>'MAST3-19_18275532_G_A_bottom10quantile_Pseudobulk_Metadata.tsv'</li>\n",
       "\t<li>'MAST3-19_18275532_G_A_bottom10quantile_PSEUDOBULK.tsv'</li>\n",
       "\t<li>'MAST3-19_18275532_G_A_bottom10quantile_smf.tsv'</li>\n",
       "\t<li>'MAST3-19_18275532_G_A_top10quantile_covariates.tsv'</li>\n",
       "\t<li>'MAST3-19_18275532_G_A_top10quantile_noise.tsv'</li>\n",
       "\t<li>'MAST3-19_18275532_G_A_top10quantile_phenotype_morethan5cells.tsv'</li>\n",
       "\t<li>'MAST3-19_18275532_G_A_top10quantile_phenotype.tsv'</li>\n",
       "\t<li>'MAST3-19_18275532_G_A_top10quantile_Pseudobulk_Metadata.tsv'</li>\n",
       "\t<li>'MAST3-19_18275532_G_A_top10quantile_PSEUDOBULK.tsv'</li>\n",
       "\t<li>'MAST3-19_18275532_G_A_top10quantile_smf.tsv'</li>\n",
       "\t<li>'MPHOSPH9-12_123604053_C_T_bottom10quantile_covariates.tsv'</li>\n",
       "\t<li>'MPHOSPH9-12_123604053_C_T_bottom10quantile_noise.tsv'</li>\n",
       "\t<li>'MPHOSPH9-12_123604053_C_T_bottom10quantile_phenotype_morethan5cells.tsv'</li>\n",
       "\t<li>'MPHOSPH9-12_123604053_C_T_bottom10quantile_phenotype.tsv'</li>\n",
       "\t<li>'MPHOSPH9-12_123604053_C_T_bottom10quantile_Pseudobulk_Metadata.tsv'</li>\n",
       "\t<li>'MPHOSPH9-12_123604053_C_T_bottom10quantile_PSEUDOBULK.tsv'</li>\n",
       "\t<li>'MPHOSPH9-12_123604053_C_T_bottom10quantile_smf.tsv'</li>\n",
       "\t<li>'MPHOSPH9-12_123604053_C_T_top10quantile_covariates.tsv'</li>\n",
       "\t<li>'MPHOSPH9-12_123604053_C_T_top10quantile_noise.tsv'</li>\n",
       "\t<li>'MPHOSPH9-12_123604053_C_T_top10quantile_phenotype_morethan5cells.tsv'</li>\n",
       "\t<li>'MPHOSPH9-12_123604053_C_T_top10quantile_phenotype.tsv'</li>\n",
       "\t<li>'MPHOSPH9-12_123604053_C_T_top10quantile_Pseudobulk_Metadata.tsv'</li>\n",
       "\t<li>'MPHOSPH9-12_123604053_C_T_top10quantile_PSEUDOBULK.tsv'</li>\n",
       "\t<li>'MPHOSPH9-12_123604053_C_T_top10quantile_smf.tsv'</li>\n",
       "\t<li>'PRR7-AS1-5_176904279_C_G_bottom10quantile_covariates.tsv'</li>\n",
       "\t<li>'PRR7-AS1-5_176904279_C_G_bottom10quantile_noise.tsv'</li>\n",
       "\t<li>'PRR7-AS1-5_176904279_C_G_bottom10quantile_phenotype_morethan5cells.tsv'</li>\n",
       "\t<li>'PRR7-AS1-5_176904279_C_G_bottom10quantile_phenotype.tsv'</li>\n",
       "\t<li>'PRR7-AS1-5_176904279_C_G_bottom10quantile_Pseudobulk_Metadata.tsv'</li>\n",
       "\t<li>'PRR7-AS1-5_176904279_C_G_bottom10quantile_PSEUDOBULK.tsv'</li>\n",
       "\t<li>'PRR7-AS1-5_176904279_C_G_bottom10quantile_smf.tsv'</li>\n",
       "\t<li>'PRR7-AS1-5_176904279_C_G_top10quantile_covariates.tsv'</li>\n",
       "\t<li>'PRR7-AS1-5_176904279_C_G_top10quantile_noise.tsv'</li>\n",
       "\t<li>'PRR7-AS1-5_176904279_C_G_top10quantile_phenotype_morethan5cells.tsv'</li>\n",
       "\t<li>'PRR7-AS1-5_176904279_C_G_top10quantile_phenotype.tsv'</li>\n",
       "\t<li>'PRR7-AS1-5_176904279_C_G_top10quantile_Pseudobulk_Metadata.tsv'</li>\n",
       "\t<li>'PRR7-AS1-5_176904279_C_G_top10quantile_PSEUDOBULK.tsv'</li>\n",
       "\t<li>'PRR7-AS1-5_176904279_C_G_top10quantile_smf.tsv'</li>\n",
       "\t<li>'PRSS36-16_31117698_C_T_bottom10quantile_covariates.tsv'</li>\n",
       "\t<li>'PRSS36-16_31117698_C_T_bottom10quantile_noise.tsv'</li>\n",
       "\t<li>'PRSS36-16_31117698_C_T_bottom10quantile_phenotype_morethan5cells.tsv'</li>\n",
       "\t<li>'PRSS36-16_31117698_C_T_bottom10quantile_phenotype.tsv'</li>\n",
       "\t<li>'PRSS36-16_31117698_C_T_bottom10quantile_Pseudobulk_Metadata.tsv'</li>\n",
       "\t<li>'PRSS36-16_31117698_C_T_bottom10quantile_PSEUDOBULK.tsv'</li>\n",
       "\t<li>'PRSS36-16_31117698_C_T_bottom10quantile_smf.tsv'</li>\n",
       "\t<li>'PRSS36-16_31117698_C_T_top10quantile_covariates.tsv'</li>\n",
       "\t<li>'PRSS36-16_31117698_C_T_top10quantile_noise.tsv'</li>\n",
       "\t<li>'PRSS36-16_31117698_C_T_top10quantile_phenotype_morethan5cells.tsv'</li>\n",
       "\t<li>'PRSS36-16_31117698_C_T_top10quantile_phenotype.tsv'</li>\n",
       "\t<li>'PRSS36-16_31117698_C_T_top10quantile_Pseudobulk_Metadata.tsv'</li>\n",
       "\t<li>'PRSS36-16_31117698_C_T_top10quantile_PSEUDOBULK.tsv'</li>\n",
       "\t<li>'PRSS36-16_31117698_C_T_top10quantile_smf.tsv'</li>\n",
       "\t<li>'RHEBL1-12_49464449_A_G_bottom10quantile_covariates.tsv'</li>\n",
       "\t<li>'RHEBL1-12_49464449_A_G_bottom10quantile_noise.tsv'</li>\n",
       "\t<li>'RHEBL1-12_49464449_A_G_bottom10quantile_phenotype_morethan5cells.tsv'</li>\n",
       "\t<li>'RHEBL1-12_49464449_A_G_bottom10quantile_phenotype.tsv'</li>\n",
       "\t<li>'RHEBL1-12_49464449_A_G_bottom10quantile_Pseudobulk_Metadata.tsv'</li>\n",
       "\t<li>'RHEBL1-12_49464449_A_G_bottom10quantile_PSEUDOBULK.tsv'</li>\n",
       "\t<li>'RHEBL1-12_49464449_A_G_bottom10quantile_smf.tsv'</li>\n",
       "\t<li>'RHEBL1-12_49464449_A_G_top10quantile_covariates.tsv'</li>\n",
       "\t<li>'RHEBL1-12_49464449_A_G_top10quantile_noise.tsv'</li>\n",
       "\t<li>'RHEBL1-12_49464449_A_G_top10quantile_phenotype_morethan5cells.tsv'</li>\n",
       "\t<li>'RHEBL1-12_49464449_A_G_top10quantile_phenotype.tsv'</li>\n",
       "\t<li>'RHEBL1-12_49464449_A_G_top10quantile_Pseudobulk_Metadata.tsv'</li>\n",
       "\t<li>'RHEBL1-12_49464449_A_G_top10quantile_PSEUDOBULK.tsv'</li>\n",
       "\t<li>'RHEBL1-12_49464449_A_G_top10quantile_smf.tsv'</li>\n",
       "\t<li>'SLC35E2-1_1660978_C_A_bottom10quantile_covariates.tsv'</li>\n",
       "\t<li>'SLC35E2-1_1660978_C_A_bottom10quantile_noise.tsv'</li>\n",
       "\t<li>'SLC35E2-1_1660978_C_A_bottom10quantile_phenotype_morethan5cells.tsv'</li>\n",
       "\t<li>'SLC35E2-1_1660978_C_A_bottom10quantile_phenotype.tsv'</li>\n",
       "\t<li>'SLC35E2-1_1660978_C_A_bottom10quantile_Pseudobulk_Metadata.tsv'</li>\n",
       "\t<li>'SLC35E2-1_1660978_C_A_bottom10quantile_PSEUDOBULK.tsv'</li>\n",
       "\t<li>'SLC35E2-1_1660978_C_A_bottom10quantile_smf.tsv'</li>\n",
       "\t<li>'SLC35E2-1_1660978_C_A_top10quantile_covariates.tsv'</li>\n",
       "\t<li>'SLC35E2-1_1660978_C_A_top10quantile_noise.tsv'</li>\n",
       "\t<li>'SLC35E2-1_1660978_C_A_top10quantile_phenotype_morethan5cells.tsv'</li>\n",
       "\t<li>'SLC35E2-1_1660978_C_A_top10quantile_phenotype.tsv'</li>\n",
       "\t<li>'SLC35E2-1_1660978_C_A_top10quantile_Pseudobulk_Metadata.tsv'</li>\n",
       "\t<li>'SLC35E2-1_1660978_C_A_top10quantile_PSEUDOBULK.tsv'</li>\n",
       "\t<li>'SLC35E2-1_1660978_C_A_top10quantile_smf.tsv'</li>\n",
       "\t<li>'STAT6-12_57509569_C_T_bottom10quantile_covariates.tsv'</li>\n",
       "\t<li>'STAT6-12_57509569_C_T_bottom10quantile_noise.tsv'</li>\n",
       "\t<li>'STAT6-12_57509569_C_T_bottom10quantile_phenotype_morethan5cells.tsv'</li>\n",
       "\t<li>'STAT6-12_57509569_C_T_bottom10quantile_phenotype.tsv'</li>\n",
       "\t<li>'STAT6-12_57509569_C_T_bottom10quantile_Pseudobulk_Metadata.tsv'</li>\n",
       "\t<li>'STAT6-12_57509569_C_T_bottom10quantile_PSEUDOBULK.tsv'</li>\n",
       "\t<li>'STAT6-12_57509569_C_T_bottom10quantile_smf.tsv'</li>\n",
       "\t<li>'STAT6-12_57509569_C_T_top10quantile_covariates.tsv'</li>\n",
       "\t<li>'STAT6-12_57509569_C_T_top10quantile_noise.tsv'</li>\n",
       "\t<li>'STAT6-12_57509569_C_T_top10quantile_phenotype_morethan5cells.tsv'</li>\n",
       "\t<li>'STAT6-12_57509569_C_T_top10quantile_phenotype.tsv'</li>\n",
       "\t<li>'STAT6-12_57509569_C_T_top10quantile_Pseudobulk_Metadata.tsv'</li>\n",
       "\t<li>'STAT6-12_57509569_C_T_top10quantile_PSEUDOBULK.tsv'</li>\n",
       "\t<li>'STAT6-12_57509569_C_T_top10quantile_smf.tsv'</li>\n",
       "\t<li>'TUBGCP4-15_43597297_T_A_bottom10quantile_covariates.tsv'</li>\n",
       "\t<li>'TUBGCP4-15_43597297_T_A_bottom10quantile_noise.tsv'</li>\n",
       "\t<li>'TUBGCP4-15_43597297_T_A_bottom10quantile_phenotype_morethan5cells.tsv'</li>\n",
       "\t<li>'TUBGCP4-15_43597297_T_A_bottom10quantile_phenotype.tsv'</li>\n",
       "\t<li>'TUBGCP4-15_43597297_T_A_bottom10quantile_Pseudobulk_Metadata.tsv'</li>\n",
       "\t<li>'TUBGCP4-15_43597297_T_A_bottom10quantile_PSEUDOBULK.tsv'</li>\n",
       "\t<li>'TUBGCP4-15_43597297_T_A_bottom10quantile_smf.tsv'</li>\n",
       "\t<li>'TUBGCP4-15_43597297_T_A_top10quantile_covariates.tsv'</li>\n",
       "\t<li>'TUBGCP4-15_43597297_T_A_top10quantile_noise.tsv'</li>\n",
       "\t<li>'TUBGCP4-15_43597297_T_A_top10quantile_phenotype_morethan5cells.tsv'</li>\n",
       "\t<li>'TUBGCP4-15_43597297_T_A_top10quantile_phenotype.tsv'</li>\n",
       "\t<li>'TUBGCP4-15_43597297_T_A_top10quantile_Pseudobulk_Metadata.tsv'</li>\n",
       "\t<li>'TUBGCP4-15_43597297_T_A_top10quantile_PSEUDOBULK.tsv'</li>\n",
       "\t<li>'TUBGCP4-15_43597297_T_A_top10quantile_smf.tsv'</li>\n",
       "</ol>\n"
      ],
      "text/latex": [
       "\\begin{enumerate*}\n",
       "\\item 'ATG10-5\\_81395824\\_T\\_G\\_bottom10quantile'\n",
       "\\item 'ATG10-5\\_81395824\\_T\\_G\\_bottom10quantile\\_covariates.tsv'\n",
       "\\item 'ATG10-5\\_81395824\\_T\\_G\\_bottom10quantile\\_noise.tsv'\n",
       "\\item 'ATG10-5\\_81395824\\_T\\_G\\_bottom10quantile\\_phenotype\\_morethan5cells.tsv'\n",
       "\\item 'ATG10-5\\_81395824\\_T\\_G\\_bottom10quantile\\_phenotype.tsv'\n",
       "\\item 'ATG10-5\\_81395824\\_T\\_G\\_bottom10quantile\\_Pseudobulk\\_Metadata.tsv'\n",
       "\\item 'ATG10-5\\_81395824\\_T\\_G\\_bottom10quantile\\_PSEUDOBULK.tsv'\n",
       "\\item 'ATG10-5\\_81395824\\_T\\_G\\_bottom10quantile\\_smf.tsv'\n",
       "\\item 'ATG10-5\\_81395824\\_T\\_G\\_top10quantile\\_covariates.tsv'\n",
       "\\item 'ATG10-5\\_81395824\\_T\\_G\\_top10quantile\\_noise.tsv'\n",
       "\\item 'ATG10-5\\_81395824\\_T\\_G\\_top10quantile\\_phenotype\\_morethan5cells.tsv'\n",
       "\\item 'ATG10-5\\_81395824\\_T\\_G\\_top10quantile\\_phenotype.tsv'\n",
       "\\item 'ATG10-5\\_81395824\\_T\\_G\\_top10quantile\\_Pseudobulk\\_Metadata.tsv'\n",
       "\\item 'ATG10-5\\_81395824\\_T\\_G\\_top10quantile\\_PSEUDOBULK.tsv'\n",
       "\\item 'ATG10-5\\_81395824\\_T\\_G\\_top10quantile\\_smf.tsv'\n",
       "\\item 'CHRNA3-15\\_78849034\\_T\\_C\\_bottom10quantile\\_covariates.tsv'\n",
       "\\item 'CHRNA3-15\\_78849034\\_T\\_C\\_bottom10quantile\\_noise.tsv'\n",
       "\\item 'CHRNA3-15\\_78849034\\_T\\_C\\_bottom10quantile\\_phenotype\\_morethan5cells.tsv'\n",
       "\\item 'CHRNA3-15\\_78849034\\_T\\_C\\_bottom10quantile\\_phenotype.tsv'\n",
       "\\item 'CHRNA3-15\\_78849034\\_T\\_C\\_bottom10quantile\\_Pseudobulk\\_Metadata.tsv'\n",
       "\\item 'CHRNA3-15\\_78849034\\_T\\_C\\_bottom10quantile\\_PSEUDOBULK.tsv'\n",
       "\\item 'CHRNA3-15\\_78849034\\_T\\_C\\_bottom10quantile\\_smf.tsv'\n",
       "\\item 'CHRNA3-15\\_78849034\\_T\\_C\\_top10quantile\\_covariates.tsv'\n",
       "\\item 'CHRNA3-15\\_78849034\\_T\\_C\\_top10quantile\\_noise.tsv'\n",
       "\\item 'CHRNA3-15\\_78849034\\_T\\_C\\_top10quantile\\_phenotype\\_morethan5cells.tsv'\n",
       "\\item 'CHRNA3-15\\_78849034\\_T\\_C\\_top10quantile\\_phenotype.tsv'\n",
       "\\item 'CHRNA3-15\\_78849034\\_T\\_C\\_top10quantile\\_Pseudobulk\\_Metadata.tsv'\n",
       "\\item 'CHRNA3-15\\_78849034\\_T\\_C\\_top10quantile\\_PSEUDOBULK.tsv'\n",
       "\\item 'CHRNA3-15\\_78849034\\_T\\_C\\_top10quantile\\_smf.tsv'\n",
       "\\item 'EIF5A-17\\_7207964\\_A\\_C\\_bottom10quantile\\_covariates.tsv'\n",
       "\\item 'EIF5A-17\\_7207964\\_A\\_C\\_bottom10quantile\\_noise.tsv'\n",
       "\\item 'EIF5A-17\\_7207964\\_A\\_C\\_bottom10quantile\\_phenotype\\_morethan5cells.tsv'\n",
       "\\item 'EIF5A-17\\_7207964\\_A\\_C\\_bottom10quantile\\_phenotype.tsv'\n",
       "\\item 'EIF5A-17\\_7207964\\_A\\_C\\_bottom10quantile\\_Pseudobulk\\_Metadata.tsv'\n",
       "\\item 'EIF5A-17\\_7207964\\_A\\_C\\_bottom10quantile\\_PSEUDOBULK.tsv'\n",
       "\\item 'EIF5A-17\\_7207964\\_A\\_C\\_bottom10quantile\\_smf.tsv'\n",
       "\\item 'EIF5A-17\\_7207964\\_A\\_C\\_top10quantile\\_covariates.tsv'\n",
       "\\item 'EIF5A-17\\_7207964\\_A\\_C\\_top10quantile\\_noise.tsv'\n",
       "\\item 'EIF5A-17\\_7207964\\_A\\_C\\_top10quantile\\_phenotype\\_morethan5cells.tsv'\n",
       "\\item 'EIF5A-17\\_7207964\\_A\\_C\\_top10quantile\\_phenotype.tsv'\n",
       "\\item 'EIF5A-17\\_7207964\\_A\\_C\\_top10quantile\\_Pseudobulk\\_Metadata.tsv'\n",
       "\\item 'EIF5A-17\\_7207964\\_A\\_C\\_top10quantile\\_PSEUDOBULK.tsv'\n",
       "\\item 'EIF5A-17\\_7207964\\_A\\_C\\_top10quantile\\_smf.tsv'\n",
       "\\item 'GALNT10-5\\_153526051\\_G\\_A\\_bottom10quantile\\_covariates.tsv'\n",
       "\\item 'GALNT10-5\\_153526051\\_G\\_A\\_bottom10quantile\\_noise.tsv'\n",
       "\\item 'GALNT10-5\\_153526051\\_G\\_A\\_bottom10quantile\\_phenotype\\_morethan5cells.tsv'\n",
       "\\item 'GALNT10-5\\_153526051\\_G\\_A\\_bottom10quantile\\_phenotype.tsv'\n",
       "\\item 'GALNT10-5\\_153526051\\_G\\_A\\_bottom10quantile\\_Pseudobulk\\_Metadata.tsv'\n",
       "\\item 'GALNT10-5\\_153526051\\_G\\_A\\_bottom10quantile\\_PSEUDOBULK.tsv'\n",
       "\\item 'GALNT10-5\\_153526051\\_G\\_A\\_bottom10quantile\\_smf.tsv'\n",
       "\\item 'GALNT10-5\\_153526051\\_G\\_A\\_top10quantile\\_covariates.tsv'\n",
       "\\item 'GALNT10-5\\_153526051\\_G\\_A\\_top10quantile\\_noise.tsv'\n",
       "\\item 'GALNT10-5\\_153526051\\_G\\_A\\_top10quantile\\_phenotype\\_morethan5cells.tsv'\n",
       "\\item 'GALNT10-5\\_153526051\\_G\\_A\\_top10quantile\\_phenotype.tsv'\n",
       "\\item 'GALNT10-5\\_153526051\\_G\\_A\\_top10quantile\\_Pseudobulk\\_Metadata.tsv'\n",
       "\\item 'GALNT10-5\\_153526051\\_G\\_A\\_top10quantile\\_PSEUDOBULK.tsv'\n",
       "\\item 'GALNT10-5\\_153526051\\_G\\_A\\_top10quantile\\_smf.tsv'\n",
       "\\item 'MAPT-AS1-17\\_43925297\\_C\\_T\\_bottom10quantile\\_covariates.tsv'\n",
       "\\item 'MAPT-AS1-17\\_43925297\\_C\\_T\\_bottom10quantile\\_noise.tsv'\n",
       "\\item 'MAPT-AS1-17\\_43925297\\_C\\_T\\_bottom10quantile\\_phenotype\\_morethan5cells.tsv'\n",
       "\\item 'MAPT-AS1-17\\_43925297\\_C\\_T\\_bottom10quantile\\_phenotype.tsv'\n",
       "\\item 'MAPT-AS1-17\\_43925297\\_C\\_T\\_bottom10quantile\\_Pseudobulk\\_Metadata.tsv'\n",
       "\\item 'MAPT-AS1-17\\_43925297\\_C\\_T\\_bottom10quantile\\_PSEUDOBULK.tsv'\n",
       "\\item 'MAPT-AS1-17\\_43925297\\_C\\_T\\_bottom10quantile\\_smf.tsv'\n",
       "\\item 'MAPT-AS1-17\\_43925297\\_C\\_T\\_top10quantile\\_covariates.tsv'\n",
       "\\item 'MAPT-AS1-17\\_43925297\\_C\\_T\\_top10quantile\\_noise.tsv'\n",
       "\\item 'MAPT-AS1-17\\_43925297\\_C\\_T\\_top10quantile\\_phenotype\\_morethan5cells.tsv'\n",
       "\\item 'MAPT-AS1-17\\_43925297\\_C\\_T\\_top10quantile\\_phenotype.tsv'\n",
       "\\item 'MAPT-AS1-17\\_43925297\\_C\\_T\\_top10quantile\\_Pseudobulk\\_Metadata.tsv'\n",
       "\\item 'MAPT-AS1-17\\_43925297\\_C\\_T\\_top10quantile\\_PSEUDOBULK.tsv'\n",
       "\\item 'MAPT-AS1-17\\_43925297\\_C\\_T\\_top10quantile\\_smf.tsv'\n",
       "\\item 'MAST3-19\\_18275532\\_G\\_A\\_bottom10quantile\\_covariates.tsv'\n",
       "\\item 'MAST3-19\\_18275532\\_G\\_A\\_bottom10quantile\\_noise.tsv'\n",
       "\\item 'MAST3-19\\_18275532\\_G\\_A\\_bottom10quantile\\_phenotype\\_morethan5cells.tsv'\n",
       "\\item 'MAST3-19\\_18275532\\_G\\_A\\_bottom10quantile\\_phenotype.tsv'\n",
       "\\item 'MAST3-19\\_18275532\\_G\\_A\\_bottom10quantile\\_Pseudobulk\\_Metadata.tsv'\n",
       "\\item 'MAST3-19\\_18275532\\_G\\_A\\_bottom10quantile\\_PSEUDOBULK.tsv'\n",
       "\\item 'MAST3-19\\_18275532\\_G\\_A\\_bottom10quantile\\_smf.tsv'\n",
       "\\item 'MAST3-19\\_18275532\\_G\\_A\\_top10quantile\\_covariates.tsv'\n",
       "\\item 'MAST3-19\\_18275532\\_G\\_A\\_top10quantile\\_noise.tsv'\n",
       "\\item 'MAST3-19\\_18275532\\_G\\_A\\_top10quantile\\_phenotype\\_morethan5cells.tsv'\n",
       "\\item 'MAST3-19\\_18275532\\_G\\_A\\_top10quantile\\_phenotype.tsv'\n",
       "\\item 'MAST3-19\\_18275532\\_G\\_A\\_top10quantile\\_Pseudobulk\\_Metadata.tsv'\n",
       "\\item 'MAST3-19\\_18275532\\_G\\_A\\_top10quantile\\_PSEUDOBULK.tsv'\n",
       "\\item 'MAST3-19\\_18275532\\_G\\_A\\_top10quantile\\_smf.tsv'\n",
       "\\item 'MPHOSPH9-12\\_123604053\\_C\\_T\\_bottom10quantile\\_covariates.tsv'\n",
       "\\item 'MPHOSPH9-12\\_123604053\\_C\\_T\\_bottom10quantile\\_noise.tsv'\n",
       "\\item 'MPHOSPH9-12\\_123604053\\_C\\_T\\_bottom10quantile\\_phenotype\\_morethan5cells.tsv'\n",
       "\\item 'MPHOSPH9-12\\_123604053\\_C\\_T\\_bottom10quantile\\_phenotype.tsv'\n",
       "\\item 'MPHOSPH9-12\\_123604053\\_C\\_T\\_bottom10quantile\\_Pseudobulk\\_Metadata.tsv'\n",
       "\\item 'MPHOSPH9-12\\_123604053\\_C\\_T\\_bottom10quantile\\_PSEUDOBULK.tsv'\n",
       "\\item 'MPHOSPH9-12\\_123604053\\_C\\_T\\_bottom10quantile\\_smf.tsv'\n",
       "\\item 'MPHOSPH9-12\\_123604053\\_C\\_T\\_top10quantile\\_covariates.tsv'\n",
       "\\item 'MPHOSPH9-12\\_123604053\\_C\\_T\\_top10quantile\\_noise.tsv'\n",
       "\\item 'MPHOSPH9-12\\_123604053\\_C\\_T\\_top10quantile\\_phenotype\\_morethan5cells.tsv'\n",
       "\\item 'MPHOSPH9-12\\_123604053\\_C\\_T\\_top10quantile\\_phenotype.tsv'\n",
       "\\item 'MPHOSPH9-12\\_123604053\\_C\\_T\\_top10quantile\\_Pseudobulk\\_Metadata.tsv'\n",
       "\\item 'MPHOSPH9-12\\_123604053\\_C\\_T\\_top10quantile\\_PSEUDOBULK.tsv'\n",
       "\\item 'MPHOSPH9-12\\_123604053\\_C\\_T\\_top10quantile\\_smf.tsv'\n",
       "\\item 'PRR7-AS1-5\\_176904279\\_C\\_G\\_bottom10quantile\\_covariates.tsv'\n",
       "\\item 'PRR7-AS1-5\\_176904279\\_C\\_G\\_bottom10quantile\\_noise.tsv'\n",
       "\\item 'PRR7-AS1-5\\_176904279\\_C\\_G\\_bottom10quantile\\_phenotype\\_morethan5cells.tsv'\n",
       "\\item 'PRR7-AS1-5\\_176904279\\_C\\_G\\_bottom10quantile\\_phenotype.tsv'\n",
       "\\item 'PRR7-AS1-5\\_176904279\\_C\\_G\\_bottom10quantile\\_Pseudobulk\\_Metadata.tsv'\n",
       "\\item 'PRR7-AS1-5\\_176904279\\_C\\_G\\_bottom10quantile\\_PSEUDOBULK.tsv'\n",
       "\\item 'PRR7-AS1-5\\_176904279\\_C\\_G\\_bottom10quantile\\_smf.tsv'\n",
       "\\item 'PRR7-AS1-5\\_176904279\\_C\\_G\\_top10quantile\\_covariates.tsv'\n",
       "\\item 'PRR7-AS1-5\\_176904279\\_C\\_G\\_top10quantile\\_noise.tsv'\n",
       "\\item 'PRR7-AS1-5\\_176904279\\_C\\_G\\_top10quantile\\_phenotype\\_morethan5cells.tsv'\n",
       "\\item 'PRR7-AS1-5\\_176904279\\_C\\_G\\_top10quantile\\_phenotype.tsv'\n",
       "\\item 'PRR7-AS1-5\\_176904279\\_C\\_G\\_top10quantile\\_Pseudobulk\\_Metadata.tsv'\n",
       "\\item 'PRR7-AS1-5\\_176904279\\_C\\_G\\_top10quantile\\_PSEUDOBULK.tsv'\n",
       "\\item 'PRR7-AS1-5\\_176904279\\_C\\_G\\_top10quantile\\_smf.tsv'\n",
       "\\item 'PRSS36-16\\_31117698\\_C\\_T\\_bottom10quantile\\_covariates.tsv'\n",
       "\\item 'PRSS36-16\\_31117698\\_C\\_T\\_bottom10quantile\\_noise.tsv'\n",
       "\\item 'PRSS36-16\\_31117698\\_C\\_T\\_bottom10quantile\\_phenotype\\_morethan5cells.tsv'\n",
       "\\item 'PRSS36-16\\_31117698\\_C\\_T\\_bottom10quantile\\_phenotype.tsv'\n",
       "\\item 'PRSS36-16\\_31117698\\_C\\_T\\_bottom10quantile\\_Pseudobulk\\_Metadata.tsv'\n",
       "\\item 'PRSS36-16\\_31117698\\_C\\_T\\_bottom10quantile\\_PSEUDOBULK.tsv'\n",
       "\\item 'PRSS36-16\\_31117698\\_C\\_T\\_bottom10quantile\\_smf.tsv'\n",
       "\\item 'PRSS36-16\\_31117698\\_C\\_T\\_top10quantile\\_covariates.tsv'\n",
       "\\item 'PRSS36-16\\_31117698\\_C\\_T\\_top10quantile\\_noise.tsv'\n",
       "\\item 'PRSS36-16\\_31117698\\_C\\_T\\_top10quantile\\_phenotype\\_morethan5cells.tsv'\n",
       "\\item 'PRSS36-16\\_31117698\\_C\\_T\\_top10quantile\\_phenotype.tsv'\n",
       "\\item 'PRSS36-16\\_31117698\\_C\\_T\\_top10quantile\\_Pseudobulk\\_Metadata.tsv'\n",
       "\\item 'PRSS36-16\\_31117698\\_C\\_T\\_top10quantile\\_PSEUDOBULK.tsv'\n",
       "\\item 'PRSS36-16\\_31117698\\_C\\_T\\_top10quantile\\_smf.tsv'\n",
       "\\item 'RHEBL1-12\\_49464449\\_A\\_G\\_bottom10quantile\\_covariates.tsv'\n",
       "\\item 'RHEBL1-12\\_49464449\\_A\\_G\\_bottom10quantile\\_noise.tsv'\n",
       "\\item 'RHEBL1-12\\_49464449\\_A\\_G\\_bottom10quantile\\_phenotype\\_morethan5cells.tsv'\n",
       "\\item 'RHEBL1-12\\_49464449\\_A\\_G\\_bottom10quantile\\_phenotype.tsv'\n",
       "\\item 'RHEBL1-12\\_49464449\\_A\\_G\\_bottom10quantile\\_Pseudobulk\\_Metadata.tsv'\n",
       "\\item 'RHEBL1-12\\_49464449\\_A\\_G\\_bottom10quantile\\_PSEUDOBULK.tsv'\n",
       "\\item 'RHEBL1-12\\_49464449\\_A\\_G\\_bottom10quantile\\_smf.tsv'\n",
       "\\item 'RHEBL1-12\\_49464449\\_A\\_G\\_top10quantile\\_covariates.tsv'\n",
       "\\item 'RHEBL1-12\\_49464449\\_A\\_G\\_top10quantile\\_noise.tsv'\n",
       "\\item 'RHEBL1-12\\_49464449\\_A\\_G\\_top10quantile\\_phenotype\\_morethan5cells.tsv'\n",
       "\\item 'RHEBL1-12\\_49464449\\_A\\_G\\_top10quantile\\_phenotype.tsv'\n",
       "\\item 'RHEBL1-12\\_49464449\\_A\\_G\\_top10quantile\\_Pseudobulk\\_Metadata.tsv'\n",
       "\\item 'RHEBL1-12\\_49464449\\_A\\_G\\_top10quantile\\_PSEUDOBULK.tsv'\n",
       "\\item 'RHEBL1-12\\_49464449\\_A\\_G\\_top10quantile\\_smf.tsv'\n",
       "\\item 'SLC35E2-1\\_1660978\\_C\\_A\\_bottom10quantile\\_covariates.tsv'\n",
       "\\item 'SLC35E2-1\\_1660978\\_C\\_A\\_bottom10quantile\\_noise.tsv'\n",
       "\\item 'SLC35E2-1\\_1660978\\_C\\_A\\_bottom10quantile\\_phenotype\\_morethan5cells.tsv'\n",
       "\\item 'SLC35E2-1\\_1660978\\_C\\_A\\_bottom10quantile\\_phenotype.tsv'\n",
       "\\item 'SLC35E2-1\\_1660978\\_C\\_A\\_bottom10quantile\\_Pseudobulk\\_Metadata.tsv'\n",
       "\\item 'SLC35E2-1\\_1660978\\_C\\_A\\_bottom10quantile\\_PSEUDOBULK.tsv'\n",
       "\\item 'SLC35E2-1\\_1660978\\_C\\_A\\_bottom10quantile\\_smf.tsv'\n",
       "\\item 'SLC35E2-1\\_1660978\\_C\\_A\\_top10quantile\\_covariates.tsv'\n",
       "\\item 'SLC35E2-1\\_1660978\\_C\\_A\\_top10quantile\\_noise.tsv'\n",
       "\\item 'SLC35E2-1\\_1660978\\_C\\_A\\_top10quantile\\_phenotype\\_morethan5cells.tsv'\n",
       "\\item 'SLC35E2-1\\_1660978\\_C\\_A\\_top10quantile\\_phenotype.tsv'\n",
       "\\item 'SLC35E2-1\\_1660978\\_C\\_A\\_top10quantile\\_Pseudobulk\\_Metadata.tsv'\n",
       "\\item 'SLC35E2-1\\_1660978\\_C\\_A\\_top10quantile\\_PSEUDOBULK.tsv'\n",
       "\\item 'SLC35E2-1\\_1660978\\_C\\_A\\_top10quantile\\_smf.tsv'\n",
       "\\item 'STAT6-12\\_57509569\\_C\\_T\\_bottom10quantile\\_covariates.tsv'\n",
       "\\item 'STAT6-12\\_57509569\\_C\\_T\\_bottom10quantile\\_noise.tsv'\n",
       "\\item 'STAT6-12\\_57509569\\_C\\_T\\_bottom10quantile\\_phenotype\\_morethan5cells.tsv'\n",
       "\\item 'STAT6-12\\_57509569\\_C\\_T\\_bottom10quantile\\_phenotype.tsv'\n",
       "\\item 'STAT6-12\\_57509569\\_C\\_T\\_bottom10quantile\\_Pseudobulk\\_Metadata.tsv'\n",
       "\\item 'STAT6-12\\_57509569\\_C\\_T\\_bottom10quantile\\_PSEUDOBULK.tsv'\n",
       "\\item 'STAT6-12\\_57509569\\_C\\_T\\_bottom10quantile\\_smf.tsv'\n",
       "\\item 'STAT6-12\\_57509569\\_C\\_T\\_top10quantile\\_covariates.tsv'\n",
       "\\item 'STAT6-12\\_57509569\\_C\\_T\\_top10quantile\\_noise.tsv'\n",
       "\\item 'STAT6-12\\_57509569\\_C\\_T\\_top10quantile\\_phenotype\\_morethan5cells.tsv'\n",
       "\\item 'STAT6-12\\_57509569\\_C\\_T\\_top10quantile\\_phenotype.tsv'\n",
       "\\item 'STAT6-12\\_57509569\\_C\\_T\\_top10quantile\\_Pseudobulk\\_Metadata.tsv'\n",
       "\\item 'STAT6-12\\_57509569\\_C\\_T\\_top10quantile\\_PSEUDOBULK.tsv'\n",
       "\\item 'STAT6-12\\_57509569\\_C\\_T\\_top10quantile\\_smf.tsv'\n",
       "\\item 'TUBGCP4-15\\_43597297\\_T\\_A\\_bottom10quantile\\_covariates.tsv'\n",
       "\\item 'TUBGCP4-15\\_43597297\\_T\\_A\\_bottom10quantile\\_noise.tsv'\n",
       "\\item 'TUBGCP4-15\\_43597297\\_T\\_A\\_bottom10quantile\\_phenotype\\_morethan5cells.tsv'\n",
       "\\item 'TUBGCP4-15\\_43597297\\_T\\_A\\_bottom10quantile\\_phenotype.tsv'\n",
       "\\item 'TUBGCP4-15\\_43597297\\_T\\_A\\_bottom10quantile\\_Pseudobulk\\_Metadata.tsv'\n",
       "\\item 'TUBGCP4-15\\_43597297\\_T\\_A\\_bottom10quantile\\_PSEUDOBULK.tsv'\n",
       "\\item 'TUBGCP4-15\\_43597297\\_T\\_A\\_bottom10quantile\\_smf.tsv'\n",
       "\\item 'TUBGCP4-15\\_43597297\\_T\\_A\\_top10quantile\\_covariates.tsv'\n",
       "\\item 'TUBGCP4-15\\_43597297\\_T\\_A\\_top10quantile\\_noise.tsv'\n",
       "\\item 'TUBGCP4-15\\_43597297\\_T\\_A\\_top10quantile\\_phenotype\\_morethan5cells.tsv'\n",
       "\\item 'TUBGCP4-15\\_43597297\\_T\\_A\\_top10quantile\\_phenotype.tsv'\n",
       "\\item 'TUBGCP4-15\\_43597297\\_T\\_A\\_top10quantile\\_Pseudobulk\\_Metadata.tsv'\n",
       "\\item 'TUBGCP4-15\\_43597297\\_T\\_A\\_top10quantile\\_PSEUDOBULK.tsv'\n",
       "\\item 'TUBGCP4-15\\_43597297\\_T\\_A\\_top10quantile\\_smf.tsv'\n",
       "\\end{enumerate*}\n"
      ],
      "text/markdown": [
       "1. 'ATG10-5_81395824_T_G_bottom10quantile'\n",
       "2. 'ATG10-5_81395824_T_G_bottom10quantile_covariates.tsv'\n",
       "3. 'ATG10-5_81395824_T_G_bottom10quantile_noise.tsv'\n",
       "4. 'ATG10-5_81395824_T_G_bottom10quantile_phenotype_morethan5cells.tsv'\n",
       "5. 'ATG10-5_81395824_T_G_bottom10quantile_phenotype.tsv'\n",
       "6. 'ATG10-5_81395824_T_G_bottom10quantile_Pseudobulk_Metadata.tsv'\n",
       "7. 'ATG10-5_81395824_T_G_bottom10quantile_PSEUDOBULK.tsv'\n",
       "8. 'ATG10-5_81395824_T_G_bottom10quantile_smf.tsv'\n",
       "9. 'ATG10-5_81395824_T_G_top10quantile_covariates.tsv'\n",
       "10. 'ATG10-5_81395824_T_G_top10quantile_noise.tsv'\n",
       "11. 'ATG10-5_81395824_T_G_top10quantile_phenotype_morethan5cells.tsv'\n",
       "12. 'ATG10-5_81395824_T_G_top10quantile_phenotype.tsv'\n",
       "13. 'ATG10-5_81395824_T_G_top10quantile_Pseudobulk_Metadata.tsv'\n",
       "14. 'ATG10-5_81395824_T_G_top10quantile_PSEUDOBULK.tsv'\n",
       "15. 'ATG10-5_81395824_T_G_top10quantile_smf.tsv'\n",
       "16. 'CHRNA3-15_78849034_T_C_bottom10quantile_covariates.tsv'\n",
       "17. 'CHRNA3-15_78849034_T_C_bottom10quantile_noise.tsv'\n",
       "18. 'CHRNA3-15_78849034_T_C_bottom10quantile_phenotype_morethan5cells.tsv'\n",
       "19. 'CHRNA3-15_78849034_T_C_bottom10quantile_phenotype.tsv'\n",
       "20. 'CHRNA3-15_78849034_T_C_bottom10quantile_Pseudobulk_Metadata.tsv'\n",
       "21. 'CHRNA3-15_78849034_T_C_bottom10quantile_PSEUDOBULK.tsv'\n",
       "22. 'CHRNA3-15_78849034_T_C_bottom10quantile_smf.tsv'\n",
       "23. 'CHRNA3-15_78849034_T_C_top10quantile_covariates.tsv'\n",
       "24. 'CHRNA3-15_78849034_T_C_top10quantile_noise.tsv'\n",
       "25. 'CHRNA3-15_78849034_T_C_top10quantile_phenotype_morethan5cells.tsv'\n",
       "26. 'CHRNA3-15_78849034_T_C_top10quantile_phenotype.tsv'\n",
       "27. 'CHRNA3-15_78849034_T_C_top10quantile_Pseudobulk_Metadata.tsv'\n",
       "28. 'CHRNA3-15_78849034_T_C_top10quantile_PSEUDOBULK.tsv'\n",
       "29. 'CHRNA3-15_78849034_T_C_top10quantile_smf.tsv'\n",
       "30. 'EIF5A-17_7207964_A_C_bottom10quantile_covariates.tsv'\n",
       "31. 'EIF5A-17_7207964_A_C_bottom10quantile_noise.tsv'\n",
       "32. 'EIF5A-17_7207964_A_C_bottom10quantile_phenotype_morethan5cells.tsv'\n",
       "33. 'EIF5A-17_7207964_A_C_bottom10quantile_phenotype.tsv'\n",
       "34. 'EIF5A-17_7207964_A_C_bottom10quantile_Pseudobulk_Metadata.tsv'\n",
       "35. 'EIF5A-17_7207964_A_C_bottom10quantile_PSEUDOBULK.tsv'\n",
       "36. 'EIF5A-17_7207964_A_C_bottom10quantile_smf.tsv'\n",
       "37. 'EIF5A-17_7207964_A_C_top10quantile_covariates.tsv'\n",
       "38. 'EIF5A-17_7207964_A_C_top10quantile_noise.tsv'\n",
       "39. 'EIF5A-17_7207964_A_C_top10quantile_phenotype_morethan5cells.tsv'\n",
       "40. 'EIF5A-17_7207964_A_C_top10quantile_phenotype.tsv'\n",
       "41. 'EIF5A-17_7207964_A_C_top10quantile_Pseudobulk_Metadata.tsv'\n",
       "42. 'EIF5A-17_7207964_A_C_top10quantile_PSEUDOBULK.tsv'\n",
       "43. 'EIF5A-17_7207964_A_C_top10quantile_smf.tsv'\n",
       "44. 'GALNT10-5_153526051_G_A_bottom10quantile_covariates.tsv'\n",
       "45. 'GALNT10-5_153526051_G_A_bottom10quantile_noise.tsv'\n",
       "46. 'GALNT10-5_153526051_G_A_bottom10quantile_phenotype_morethan5cells.tsv'\n",
       "47. 'GALNT10-5_153526051_G_A_bottom10quantile_phenotype.tsv'\n",
       "48. 'GALNT10-5_153526051_G_A_bottom10quantile_Pseudobulk_Metadata.tsv'\n",
       "49. 'GALNT10-5_153526051_G_A_bottom10quantile_PSEUDOBULK.tsv'\n",
       "50. 'GALNT10-5_153526051_G_A_bottom10quantile_smf.tsv'\n",
       "51. 'GALNT10-5_153526051_G_A_top10quantile_covariates.tsv'\n",
       "52. 'GALNT10-5_153526051_G_A_top10quantile_noise.tsv'\n",
       "53. 'GALNT10-5_153526051_G_A_top10quantile_phenotype_morethan5cells.tsv'\n",
       "54. 'GALNT10-5_153526051_G_A_top10quantile_phenotype.tsv'\n",
       "55. 'GALNT10-5_153526051_G_A_top10quantile_Pseudobulk_Metadata.tsv'\n",
       "56. 'GALNT10-5_153526051_G_A_top10quantile_PSEUDOBULK.tsv'\n",
       "57. 'GALNT10-5_153526051_G_A_top10quantile_smf.tsv'\n",
       "58. 'MAPT-AS1-17_43925297_C_T_bottom10quantile_covariates.tsv'\n",
       "59. 'MAPT-AS1-17_43925297_C_T_bottom10quantile_noise.tsv'\n",
       "60. 'MAPT-AS1-17_43925297_C_T_bottom10quantile_phenotype_morethan5cells.tsv'\n",
       "61. 'MAPT-AS1-17_43925297_C_T_bottom10quantile_phenotype.tsv'\n",
       "62. 'MAPT-AS1-17_43925297_C_T_bottom10quantile_Pseudobulk_Metadata.tsv'\n",
       "63. 'MAPT-AS1-17_43925297_C_T_bottom10quantile_PSEUDOBULK.tsv'\n",
       "64. 'MAPT-AS1-17_43925297_C_T_bottom10quantile_smf.tsv'\n",
       "65. 'MAPT-AS1-17_43925297_C_T_top10quantile_covariates.tsv'\n",
       "66. 'MAPT-AS1-17_43925297_C_T_top10quantile_noise.tsv'\n",
       "67. 'MAPT-AS1-17_43925297_C_T_top10quantile_phenotype_morethan5cells.tsv'\n",
       "68. 'MAPT-AS1-17_43925297_C_T_top10quantile_phenotype.tsv'\n",
       "69. 'MAPT-AS1-17_43925297_C_T_top10quantile_Pseudobulk_Metadata.tsv'\n",
       "70. 'MAPT-AS1-17_43925297_C_T_top10quantile_PSEUDOBULK.tsv'\n",
       "71. 'MAPT-AS1-17_43925297_C_T_top10quantile_smf.tsv'\n",
       "72. 'MAST3-19_18275532_G_A_bottom10quantile_covariates.tsv'\n",
       "73. 'MAST3-19_18275532_G_A_bottom10quantile_noise.tsv'\n",
       "74. 'MAST3-19_18275532_G_A_bottom10quantile_phenotype_morethan5cells.tsv'\n",
       "75. 'MAST3-19_18275532_G_A_bottom10quantile_phenotype.tsv'\n",
       "76. 'MAST3-19_18275532_G_A_bottom10quantile_Pseudobulk_Metadata.tsv'\n",
       "77. 'MAST3-19_18275532_G_A_bottom10quantile_PSEUDOBULK.tsv'\n",
       "78. 'MAST3-19_18275532_G_A_bottom10quantile_smf.tsv'\n",
       "79. 'MAST3-19_18275532_G_A_top10quantile_covariates.tsv'\n",
       "80. 'MAST3-19_18275532_G_A_top10quantile_noise.tsv'\n",
       "81. 'MAST3-19_18275532_G_A_top10quantile_phenotype_morethan5cells.tsv'\n",
       "82. 'MAST3-19_18275532_G_A_top10quantile_phenotype.tsv'\n",
       "83. 'MAST3-19_18275532_G_A_top10quantile_Pseudobulk_Metadata.tsv'\n",
       "84. 'MAST3-19_18275532_G_A_top10quantile_PSEUDOBULK.tsv'\n",
       "85. 'MAST3-19_18275532_G_A_top10quantile_smf.tsv'\n",
       "86. 'MPHOSPH9-12_123604053_C_T_bottom10quantile_covariates.tsv'\n",
       "87. 'MPHOSPH9-12_123604053_C_T_bottom10quantile_noise.tsv'\n",
       "88. 'MPHOSPH9-12_123604053_C_T_bottom10quantile_phenotype_morethan5cells.tsv'\n",
       "89. 'MPHOSPH9-12_123604053_C_T_bottom10quantile_phenotype.tsv'\n",
       "90. 'MPHOSPH9-12_123604053_C_T_bottom10quantile_Pseudobulk_Metadata.tsv'\n",
       "91. 'MPHOSPH9-12_123604053_C_T_bottom10quantile_PSEUDOBULK.tsv'\n",
       "92. 'MPHOSPH9-12_123604053_C_T_bottom10quantile_smf.tsv'\n",
       "93. 'MPHOSPH9-12_123604053_C_T_top10quantile_covariates.tsv'\n",
       "94. 'MPHOSPH9-12_123604053_C_T_top10quantile_noise.tsv'\n",
       "95. 'MPHOSPH9-12_123604053_C_T_top10quantile_phenotype_morethan5cells.tsv'\n",
       "96. 'MPHOSPH9-12_123604053_C_T_top10quantile_phenotype.tsv'\n",
       "97. 'MPHOSPH9-12_123604053_C_T_top10quantile_Pseudobulk_Metadata.tsv'\n",
       "98. 'MPHOSPH9-12_123604053_C_T_top10quantile_PSEUDOBULK.tsv'\n",
       "99. 'MPHOSPH9-12_123604053_C_T_top10quantile_smf.tsv'\n",
       "100. 'PRR7-AS1-5_176904279_C_G_bottom10quantile_covariates.tsv'\n",
       "101. 'PRR7-AS1-5_176904279_C_G_bottom10quantile_noise.tsv'\n",
       "102. 'PRR7-AS1-5_176904279_C_G_bottom10quantile_phenotype_morethan5cells.tsv'\n",
       "103. 'PRR7-AS1-5_176904279_C_G_bottom10quantile_phenotype.tsv'\n",
       "104. 'PRR7-AS1-5_176904279_C_G_bottom10quantile_Pseudobulk_Metadata.tsv'\n",
       "105. 'PRR7-AS1-5_176904279_C_G_bottom10quantile_PSEUDOBULK.tsv'\n",
       "106. 'PRR7-AS1-5_176904279_C_G_bottom10quantile_smf.tsv'\n",
       "107. 'PRR7-AS1-5_176904279_C_G_top10quantile_covariates.tsv'\n",
       "108. 'PRR7-AS1-5_176904279_C_G_top10quantile_noise.tsv'\n",
       "109. 'PRR7-AS1-5_176904279_C_G_top10quantile_phenotype_morethan5cells.tsv'\n",
       "110. 'PRR7-AS1-5_176904279_C_G_top10quantile_phenotype.tsv'\n",
       "111. 'PRR7-AS1-5_176904279_C_G_top10quantile_Pseudobulk_Metadata.tsv'\n",
       "112. 'PRR7-AS1-5_176904279_C_G_top10quantile_PSEUDOBULK.tsv'\n",
       "113. 'PRR7-AS1-5_176904279_C_G_top10quantile_smf.tsv'\n",
       "114. 'PRSS36-16_31117698_C_T_bottom10quantile_covariates.tsv'\n",
       "115. 'PRSS36-16_31117698_C_T_bottom10quantile_noise.tsv'\n",
       "116. 'PRSS36-16_31117698_C_T_bottom10quantile_phenotype_morethan5cells.tsv'\n",
       "117. 'PRSS36-16_31117698_C_T_bottom10quantile_phenotype.tsv'\n",
       "118. 'PRSS36-16_31117698_C_T_bottom10quantile_Pseudobulk_Metadata.tsv'\n",
       "119. 'PRSS36-16_31117698_C_T_bottom10quantile_PSEUDOBULK.tsv'\n",
       "120. 'PRSS36-16_31117698_C_T_bottom10quantile_smf.tsv'\n",
       "121. 'PRSS36-16_31117698_C_T_top10quantile_covariates.tsv'\n",
       "122. 'PRSS36-16_31117698_C_T_top10quantile_noise.tsv'\n",
       "123. 'PRSS36-16_31117698_C_T_top10quantile_phenotype_morethan5cells.tsv'\n",
       "124. 'PRSS36-16_31117698_C_T_top10quantile_phenotype.tsv'\n",
       "125. 'PRSS36-16_31117698_C_T_top10quantile_Pseudobulk_Metadata.tsv'\n",
       "126. 'PRSS36-16_31117698_C_T_top10quantile_PSEUDOBULK.tsv'\n",
       "127. 'PRSS36-16_31117698_C_T_top10quantile_smf.tsv'\n",
       "128. 'RHEBL1-12_49464449_A_G_bottom10quantile_covariates.tsv'\n",
       "129. 'RHEBL1-12_49464449_A_G_bottom10quantile_noise.tsv'\n",
       "130. 'RHEBL1-12_49464449_A_G_bottom10quantile_phenotype_morethan5cells.tsv'\n",
       "131. 'RHEBL1-12_49464449_A_G_bottom10quantile_phenotype.tsv'\n",
       "132. 'RHEBL1-12_49464449_A_G_bottom10quantile_Pseudobulk_Metadata.tsv'\n",
       "133. 'RHEBL1-12_49464449_A_G_bottom10quantile_PSEUDOBULK.tsv'\n",
       "134. 'RHEBL1-12_49464449_A_G_bottom10quantile_smf.tsv'\n",
       "135. 'RHEBL1-12_49464449_A_G_top10quantile_covariates.tsv'\n",
       "136. 'RHEBL1-12_49464449_A_G_top10quantile_noise.tsv'\n",
       "137. 'RHEBL1-12_49464449_A_G_top10quantile_phenotype_morethan5cells.tsv'\n",
       "138. 'RHEBL1-12_49464449_A_G_top10quantile_phenotype.tsv'\n",
       "139. 'RHEBL1-12_49464449_A_G_top10quantile_Pseudobulk_Metadata.tsv'\n",
       "140. 'RHEBL1-12_49464449_A_G_top10quantile_PSEUDOBULK.tsv'\n",
       "141. 'RHEBL1-12_49464449_A_G_top10quantile_smf.tsv'\n",
       "142. 'SLC35E2-1_1660978_C_A_bottom10quantile_covariates.tsv'\n",
       "143. 'SLC35E2-1_1660978_C_A_bottom10quantile_noise.tsv'\n",
       "144. 'SLC35E2-1_1660978_C_A_bottom10quantile_phenotype_morethan5cells.tsv'\n",
       "145. 'SLC35E2-1_1660978_C_A_bottom10quantile_phenotype.tsv'\n",
       "146. 'SLC35E2-1_1660978_C_A_bottom10quantile_Pseudobulk_Metadata.tsv'\n",
       "147. 'SLC35E2-1_1660978_C_A_bottom10quantile_PSEUDOBULK.tsv'\n",
       "148. 'SLC35E2-1_1660978_C_A_bottom10quantile_smf.tsv'\n",
       "149. 'SLC35E2-1_1660978_C_A_top10quantile_covariates.tsv'\n",
       "150. 'SLC35E2-1_1660978_C_A_top10quantile_noise.tsv'\n",
       "151. 'SLC35E2-1_1660978_C_A_top10quantile_phenotype_morethan5cells.tsv'\n",
       "152. 'SLC35E2-1_1660978_C_A_top10quantile_phenotype.tsv'\n",
       "153. 'SLC35E2-1_1660978_C_A_top10quantile_Pseudobulk_Metadata.tsv'\n",
       "154. 'SLC35E2-1_1660978_C_A_top10quantile_PSEUDOBULK.tsv'\n",
       "155. 'SLC35E2-1_1660978_C_A_top10quantile_smf.tsv'\n",
       "156. 'STAT6-12_57509569_C_T_bottom10quantile_covariates.tsv'\n",
       "157. 'STAT6-12_57509569_C_T_bottom10quantile_noise.tsv'\n",
       "158. 'STAT6-12_57509569_C_T_bottom10quantile_phenotype_morethan5cells.tsv'\n",
       "159. 'STAT6-12_57509569_C_T_bottom10quantile_phenotype.tsv'\n",
       "160. 'STAT6-12_57509569_C_T_bottom10quantile_Pseudobulk_Metadata.tsv'\n",
       "161. 'STAT6-12_57509569_C_T_bottom10quantile_PSEUDOBULK.tsv'\n",
       "162. 'STAT6-12_57509569_C_T_bottom10quantile_smf.tsv'\n",
       "163. 'STAT6-12_57509569_C_T_top10quantile_covariates.tsv'\n",
       "164. 'STAT6-12_57509569_C_T_top10quantile_noise.tsv'\n",
       "165. 'STAT6-12_57509569_C_T_top10quantile_phenotype_morethan5cells.tsv'\n",
       "166. 'STAT6-12_57509569_C_T_top10quantile_phenotype.tsv'\n",
       "167. 'STAT6-12_57509569_C_T_top10quantile_Pseudobulk_Metadata.tsv'\n",
       "168. 'STAT6-12_57509569_C_T_top10quantile_PSEUDOBULK.tsv'\n",
       "169. 'STAT6-12_57509569_C_T_top10quantile_smf.tsv'\n",
       "170. 'TUBGCP4-15_43597297_T_A_bottom10quantile_covariates.tsv'\n",
       "171. 'TUBGCP4-15_43597297_T_A_bottom10quantile_noise.tsv'\n",
       "172. 'TUBGCP4-15_43597297_T_A_bottom10quantile_phenotype_morethan5cells.tsv'\n",
       "173. 'TUBGCP4-15_43597297_T_A_bottom10quantile_phenotype.tsv'\n",
       "174. 'TUBGCP4-15_43597297_T_A_bottom10quantile_Pseudobulk_Metadata.tsv'\n",
       "175. 'TUBGCP4-15_43597297_T_A_bottom10quantile_PSEUDOBULK.tsv'\n",
       "176. 'TUBGCP4-15_43597297_T_A_bottom10quantile_smf.tsv'\n",
       "177. 'TUBGCP4-15_43597297_T_A_top10quantile_covariates.tsv'\n",
       "178. 'TUBGCP4-15_43597297_T_A_top10quantile_noise.tsv'\n",
       "179. 'TUBGCP4-15_43597297_T_A_top10quantile_phenotype_morethan5cells.tsv'\n",
       "180. 'TUBGCP4-15_43597297_T_A_top10quantile_phenotype.tsv'\n",
       "181. 'TUBGCP4-15_43597297_T_A_top10quantile_Pseudobulk_Metadata.tsv'\n",
       "182. 'TUBGCP4-15_43597297_T_A_top10quantile_PSEUDOBULK.tsv'\n",
       "183. 'TUBGCP4-15_43597297_T_A_top10quantile_smf.tsv'\n",
       "\n",
       "\n"
      ],
      "text/plain": [
       "  [1] \"ATG10-5_81395824_T_G_bottom10quantile\"                                  \n",
       "  [2] \"ATG10-5_81395824_T_G_bottom10quantile_covariates.tsv\"                   \n",
       "  [3] \"ATG10-5_81395824_T_G_bottom10quantile_noise.tsv\"                        \n",
       "  [4] \"ATG10-5_81395824_T_G_bottom10quantile_phenotype_morethan5cells.tsv\"     \n",
       "  [5] \"ATG10-5_81395824_T_G_bottom10quantile_phenotype.tsv\"                    \n",
       "  [6] \"ATG10-5_81395824_T_G_bottom10quantile_Pseudobulk_Metadata.tsv\"          \n",
       "  [7] \"ATG10-5_81395824_T_G_bottom10quantile_PSEUDOBULK.tsv\"                   \n",
       "  [8] \"ATG10-5_81395824_T_G_bottom10quantile_smf.tsv\"                          \n",
       "  [9] \"ATG10-5_81395824_T_G_top10quantile_covariates.tsv\"                      \n",
       " [10] \"ATG10-5_81395824_T_G_top10quantile_noise.tsv\"                           \n",
       " [11] \"ATG10-5_81395824_T_G_top10quantile_phenotype_morethan5cells.tsv\"        \n",
       " [12] \"ATG10-5_81395824_T_G_top10quantile_phenotype.tsv\"                       \n",
       " [13] \"ATG10-5_81395824_T_G_top10quantile_Pseudobulk_Metadata.tsv\"             \n",
       " [14] \"ATG10-5_81395824_T_G_top10quantile_PSEUDOBULK.tsv\"                      \n",
       " [15] \"ATG10-5_81395824_T_G_top10quantile_smf.tsv\"                             \n",
       " [16] \"CHRNA3-15_78849034_T_C_bottom10quantile_covariates.tsv\"                 \n",
       " [17] \"CHRNA3-15_78849034_T_C_bottom10quantile_noise.tsv\"                      \n",
       " [18] \"CHRNA3-15_78849034_T_C_bottom10quantile_phenotype_morethan5cells.tsv\"   \n",
       " [19] \"CHRNA3-15_78849034_T_C_bottom10quantile_phenotype.tsv\"                  \n",
       " [20] \"CHRNA3-15_78849034_T_C_bottom10quantile_Pseudobulk_Metadata.tsv\"        \n",
       " [21] \"CHRNA3-15_78849034_T_C_bottom10quantile_PSEUDOBULK.tsv\"                 \n",
       " [22] \"CHRNA3-15_78849034_T_C_bottom10quantile_smf.tsv\"                        \n",
       " [23] \"CHRNA3-15_78849034_T_C_top10quantile_covariates.tsv\"                    \n",
       " [24] \"CHRNA3-15_78849034_T_C_top10quantile_noise.tsv\"                         \n",
       " [25] \"CHRNA3-15_78849034_T_C_top10quantile_phenotype_morethan5cells.tsv\"      \n",
       " [26] \"CHRNA3-15_78849034_T_C_top10quantile_phenotype.tsv\"                     \n",
       " [27] \"CHRNA3-15_78849034_T_C_top10quantile_Pseudobulk_Metadata.tsv\"           \n",
       " [28] \"CHRNA3-15_78849034_T_C_top10quantile_PSEUDOBULK.tsv\"                    \n",
       " [29] \"CHRNA3-15_78849034_T_C_top10quantile_smf.tsv\"                           \n",
       " [30] \"EIF5A-17_7207964_A_C_bottom10quantile_covariates.tsv\"                   \n",
       " [31] \"EIF5A-17_7207964_A_C_bottom10quantile_noise.tsv\"                        \n",
       " [32] \"EIF5A-17_7207964_A_C_bottom10quantile_phenotype_morethan5cells.tsv\"     \n",
       " [33] \"EIF5A-17_7207964_A_C_bottom10quantile_phenotype.tsv\"                    \n",
       " [34] \"EIF5A-17_7207964_A_C_bottom10quantile_Pseudobulk_Metadata.tsv\"          \n",
       " [35] \"EIF5A-17_7207964_A_C_bottom10quantile_PSEUDOBULK.tsv\"                   \n",
       " [36] \"EIF5A-17_7207964_A_C_bottom10quantile_smf.tsv\"                          \n",
       " [37] \"EIF5A-17_7207964_A_C_top10quantile_covariates.tsv\"                      \n",
       " [38] \"EIF5A-17_7207964_A_C_top10quantile_noise.tsv\"                           \n",
       " [39] \"EIF5A-17_7207964_A_C_top10quantile_phenotype_morethan5cells.tsv\"        \n",
       " [40] \"EIF5A-17_7207964_A_C_top10quantile_phenotype.tsv\"                       \n",
       " [41] \"EIF5A-17_7207964_A_C_top10quantile_Pseudobulk_Metadata.tsv\"             \n",
       " [42] \"EIF5A-17_7207964_A_C_top10quantile_PSEUDOBULK.tsv\"                      \n",
       " [43] \"EIF5A-17_7207964_A_C_top10quantile_smf.tsv\"                             \n",
       " [44] \"GALNT10-5_153526051_G_A_bottom10quantile_covariates.tsv\"                \n",
       " [45] \"GALNT10-5_153526051_G_A_bottom10quantile_noise.tsv\"                     \n",
       " [46] \"GALNT10-5_153526051_G_A_bottom10quantile_phenotype_morethan5cells.tsv\"  \n",
       " [47] \"GALNT10-5_153526051_G_A_bottom10quantile_phenotype.tsv\"                 \n",
       " [48] \"GALNT10-5_153526051_G_A_bottom10quantile_Pseudobulk_Metadata.tsv\"       \n",
       " [49] \"GALNT10-5_153526051_G_A_bottom10quantile_PSEUDOBULK.tsv\"                \n",
       " [50] \"GALNT10-5_153526051_G_A_bottom10quantile_smf.tsv\"                       \n",
       " [51] \"GALNT10-5_153526051_G_A_top10quantile_covariates.tsv\"                   \n",
       " [52] \"GALNT10-5_153526051_G_A_top10quantile_noise.tsv\"                        \n",
       " [53] \"GALNT10-5_153526051_G_A_top10quantile_phenotype_morethan5cells.tsv\"     \n",
       " [54] \"GALNT10-5_153526051_G_A_top10quantile_phenotype.tsv\"                    \n",
       " [55] \"GALNT10-5_153526051_G_A_top10quantile_Pseudobulk_Metadata.tsv\"          \n",
       " [56] \"GALNT10-5_153526051_G_A_top10quantile_PSEUDOBULK.tsv\"                   \n",
       " [57] \"GALNT10-5_153526051_G_A_top10quantile_smf.tsv\"                          \n",
       " [58] \"MAPT-AS1-17_43925297_C_T_bottom10quantile_covariates.tsv\"               \n",
       " [59] \"MAPT-AS1-17_43925297_C_T_bottom10quantile_noise.tsv\"                    \n",
       " [60] \"MAPT-AS1-17_43925297_C_T_bottom10quantile_phenotype_morethan5cells.tsv\" \n",
       " [61] \"MAPT-AS1-17_43925297_C_T_bottom10quantile_phenotype.tsv\"                \n",
       " [62] \"MAPT-AS1-17_43925297_C_T_bottom10quantile_Pseudobulk_Metadata.tsv\"      \n",
       " [63] \"MAPT-AS1-17_43925297_C_T_bottom10quantile_PSEUDOBULK.tsv\"               \n",
       " [64] \"MAPT-AS1-17_43925297_C_T_bottom10quantile_smf.tsv\"                      \n",
       " [65] \"MAPT-AS1-17_43925297_C_T_top10quantile_covariates.tsv\"                  \n",
       " [66] \"MAPT-AS1-17_43925297_C_T_top10quantile_noise.tsv\"                       \n",
       " [67] \"MAPT-AS1-17_43925297_C_T_top10quantile_phenotype_morethan5cells.tsv\"    \n",
       " [68] \"MAPT-AS1-17_43925297_C_T_top10quantile_phenotype.tsv\"                   \n",
       " [69] \"MAPT-AS1-17_43925297_C_T_top10quantile_Pseudobulk_Metadata.tsv\"         \n",
       " [70] \"MAPT-AS1-17_43925297_C_T_top10quantile_PSEUDOBULK.tsv\"                  \n",
       " [71] \"MAPT-AS1-17_43925297_C_T_top10quantile_smf.tsv\"                         \n",
       " [72] \"MAST3-19_18275532_G_A_bottom10quantile_covariates.tsv\"                  \n",
       " [73] \"MAST3-19_18275532_G_A_bottom10quantile_noise.tsv\"                       \n",
       " [74] \"MAST3-19_18275532_G_A_bottom10quantile_phenotype_morethan5cells.tsv\"    \n",
       " [75] \"MAST3-19_18275532_G_A_bottom10quantile_phenotype.tsv\"                   \n",
       " [76] \"MAST3-19_18275532_G_A_bottom10quantile_Pseudobulk_Metadata.tsv\"         \n",
       " [77] \"MAST3-19_18275532_G_A_bottom10quantile_PSEUDOBULK.tsv\"                  \n",
       " [78] \"MAST3-19_18275532_G_A_bottom10quantile_smf.tsv\"                         \n",
       " [79] \"MAST3-19_18275532_G_A_top10quantile_covariates.tsv\"                     \n",
       " [80] \"MAST3-19_18275532_G_A_top10quantile_noise.tsv\"                          \n",
       " [81] \"MAST3-19_18275532_G_A_top10quantile_phenotype_morethan5cells.tsv\"       \n",
       " [82] \"MAST3-19_18275532_G_A_top10quantile_phenotype.tsv\"                      \n",
       " [83] \"MAST3-19_18275532_G_A_top10quantile_Pseudobulk_Metadata.tsv\"            \n",
       " [84] \"MAST3-19_18275532_G_A_top10quantile_PSEUDOBULK.tsv\"                     \n",
       " [85] \"MAST3-19_18275532_G_A_top10quantile_smf.tsv\"                            \n",
       " [86] \"MPHOSPH9-12_123604053_C_T_bottom10quantile_covariates.tsv\"              \n",
       " [87] \"MPHOSPH9-12_123604053_C_T_bottom10quantile_noise.tsv\"                   \n",
       " [88] \"MPHOSPH9-12_123604053_C_T_bottom10quantile_phenotype_morethan5cells.tsv\"\n",
       " [89] \"MPHOSPH9-12_123604053_C_T_bottom10quantile_phenotype.tsv\"               \n",
       " [90] \"MPHOSPH9-12_123604053_C_T_bottom10quantile_Pseudobulk_Metadata.tsv\"     \n",
       " [91] \"MPHOSPH9-12_123604053_C_T_bottom10quantile_PSEUDOBULK.tsv\"              \n",
       " [92] \"MPHOSPH9-12_123604053_C_T_bottom10quantile_smf.tsv\"                     \n",
       " [93] \"MPHOSPH9-12_123604053_C_T_top10quantile_covariates.tsv\"                 \n",
       " [94] \"MPHOSPH9-12_123604053_C_T_top10quantile_noise.tsv\"                      \n",
       " [95] \"MPHOSPH9-12_123604053_C_T_top10quantile_phenotype_morethan5cells.tsv\"   \n",
       " [96] \"MPHOSPH9-12_123604053_C_T_top10quantile_phenotype.tsv\"                  \n",
       " [97] \"MPHOSPH9-12_123604053_C_T_top10quantile_Pseudobulk_Metadata.tsv\"        \n",
       " [98] \"MPHOSPH9-12_123604053_C_T_top10quantile_PSEUDOBULK.tsv\"                 \n",
       " [99] \"MPHOSPH9-12_123604053_C_T_top10quantile_smf.tsv\"                        \n",
       "[100] \"PRR7-AS1-5_176904279_C_G_bottom10quantile_covariates.tsv\"               \n",
       "[101] \"PRR7-AS1-5_176904279_C_G_bottom10quantile_noise.tsv\"                    \n",
       "[102] \"PRR7-AS1-5_176904279_C_G_bottom10quantile_phenotype_morethan5cells.tsv\" \n",
       "[103] \"PRR7-AS1-5_176904279_C_G_bottom10quantile_phenotype.tsv\"                \n",
       "[104] \"PRR7-AS1-5_176904279_C_G_bottom10quantile_Pseudobulk_Metadata.tsv\"      \n",
       "[105] \"PRR7-AS1-5_176904279_C_G_bottom10quantile_PSEUDOBULK.tsv\"               \n",
       "[106] \"PRR7-AS1-5_176904279_C_G_bottom10quantile_smf.tsv\"                      \n",
       "[107] \"PRR7-AS1-5_176904279_C_G_top10quantile_covariates.tsv\"                  \n",
       "[108] \"PRR7-AS1-5_176904279_C_G_top10quantile_noise.tsv\"                       \n",
       "[109] \"PRR7-AS1-5_176904279_C_G_top10quantile_phenotype_morethan5cells.tsv\"    \n",
       "[110] \"PRR7-AS1-5_176904279_C_G_top10quantile_phenotype.tsv\"                   \n",
       "[111] \"PRR7-AS1-5_176904279_C_G_top10quantile_Pseudobulk_Metadata.tsv\"         \n",
       "[112] \"PRR7-AS1-5_176904279_C_G_top10quantile_PSEUDOBULK.tsv\"                  \n",
       "[113] \"PRR7-AS1-5_176904279_C_G_top10quantile_smf.tsv\"                         \n",
       "[114] \"PRSS36-16_31117698_C_T_bottom10quantile_covariates.tsv\"                 \n",
       "[115] \"PRSS36-16_31117698_C_T_bottom10quantile_noise.tsv\"                      \n",
       "[116] \"PRSS36-16_31117698_C_T_bottom10quantile_phenotype_morethan5cells.tsv\"   \n",
       "[117] \"PRSS36-16_31117698_C_T_bottom10quantile_phenotype.tsv\"                  \n",
       "[118] \"PRSS36-16_31117698_C_T_bottom10quantile_Pseudobulk_Metadata.tsv\"        \n",
       "[119] \"PRSS36-16_31117698_C_T_bottom10quantile_PSEUDOBULK.tsv\"                 \n",
       "[120] \"PRSS36-16_31117698_C_T_bottom10quantile_smf.tsv\"                        \n",
       "[121] \"PRSS36-16_31117698_C_T_top10quantile_covariates.tsv\"                    \n",
       "[122] \"PRSS36-16_31117698_C_T_top10quantile_noise.tsv\"                         \n",
       "[123] \"PRSS36-16_31117698_C_T_top10quantile_phenotype_morethan5cells.tsv\"      \n",
       "[124] \"PRSS36-16_31117698_C_T_top10quantile_phenotype.tsv\"                     \n",
       "[125] \"PRSS36-16_31117698_C_T_top10quantile_Pseudobulk_Metadata.tsv\"           \n",
       "[126] \"PRSS36-16_31117698_C_T_top10quantile_PSEUDOBULK.tsv\"                    \n",
       "[127] \"PRSS36-16_31117698_C_T_top10quantile_smf.tsv\"                           \n",
       "[128] \"RHEBL1-12_49464449_A_G_bottom10quantile_covariates.tsv\"                 \n",
       "[129] \"RHEBL1-12_49464449_A_G_bottom10quantile_noise.tsv\"                      \n",
       "[130] \"RHEBL1-12_49464449_A_G_bottom10quantile_phenotype_morethan5cells.tsv\"   \n",
       "[131] \"RHEBL1-12_49464449_A_G_bottom10quantile_phenotype.tsv\"                  \n",
       "[132] \"RHEBL1-12_49464449_A_G_bottom10quantile_Pseudobulk_Metadata.tsv\"        \n",
       "[133] \"RHEBL1-12_49464449_A_G_bottom10quantile_PSEUDOBULK.tsv\"                 \n",
       "[134] \"RHEBL1-12_49464449_A_G_bottom10quantile_smf.tsv\"                        \n",
       "[135] \"RHEBL1-12_49464449_A_G_top10quantile_covariates.tsv\"                    \n",
       "[136] \"RHEBL1-12_49464449_A_G_top10quantile_noise.tsv\"                         \n",
       "[137] \"RHEBL1-12_49464449_A_G_top10quantile_phenotype_morethan5cells.tsv\"      \n",
       "[138] \"RHEBL1-12_49464449_A_G_top10quantile_phenotype.tsv\"                     \n",
       "[139] \"RHEBL1-12_49464449_A_G_top10quantile_Pseudobulk_Metadata.tsv\"           \n",
       "[140] \"RHEBL1-12_49464449_A_G_top10quantile_PSEUDOBULK.tsv\"                    \n",
       "[141] \"RHEBL1-12_49464449_A_G_top10quantile_smf.tsv\"                           \n",
       "[142] \"SLC35E2-1_1660978_C_A_bottom10quantile_covariates.tsv\"                  \n",
       "[143] \"SLC35E2-1_1660978_C_A_bottom10quantile_noise.tsv\"                       \n",
       "[144] \"SLC35E2-1_1660978_C_A_bottom10quantile_phenotype_morethan5cells.tsv\"    \n",
       "[145] \"SLC35E2-1_1660978_C_A_bottom10quantile_phenotype.tsv\"                   \n",
       "[146] \"SLC35E2-1_1660978_C_A_bottom10quantile_Pseudobulk_Metadata.tsv\"         \n",
       "[147] \"SLC35E2-1_1660978_C_A_bottom10quantile_PSEUDOBULK.tsv\"                  \n",
       "[148] \"SLC35E2-1_1660978_C_A_bottom10quantile_smf.tsv\"                         \n",
       "[149] \"SLC35E2-1_1660978_C_A_top10quantile_covariates.tsv\"                     \n",
       "[150] \"SLC35E2-1_1660978_C_A_top10quantile_noise.tsv\"                          \n",
       "[151] \"SLC35E2-1_1660978_C_A_top10quantile_phenotype_morethan5cells.tsv\"       \n",
       "[152] \"SLC35E2-1_1660978_C_A_top10quantile_phenotype.tsv\"                      \n",
       "[153] \"SLC35E2-1_1660978_C_A_top10quantile_Pseudobulk_Metadata.tsv\"            \n",
       "[154] \"SLC35E2-1_1660978_C_A_top10quantile_PSEUDOBULK.tsv\"                     \n",
       "[155] \"SLC35E2-1_1660978_C_A_top10quantile_smf.tsv\"                            \n",
       "[156] \"STAT6-12_57509569_C_T_bottom10quantile_covariates.tsv\"                  \n",
       "[157] \"STAT6-12_57509569_C_T_bottom10quantile_noise.tsv\"                       \n",
       "[158] \"STAT6-12_57509569_C_T_bottom10quantile_phenotype_morethan5cells.tsv\"    \n",
       "[159] \"STAT6-12_57509569_C_T_bottom10quantile_phenotype.tsv\"                   \n",
       "[160] \"STAT6-12_57509569_C_T_bottom10quantile_Pseudobulk_Metadata.tsv\"         \n",
       "[161] \"STAT6-12_57509569_C_T_bottom10quantile_PSEUDOBULK.tsv\"                  \n",
       "[162] \"STAT6-12_57509569_C_T_bottom10quantile_smf.tsv\"                         \n",
       "[163] \"STAT6-12_57509569_C_T_top10quantile_covariates.tsv\"                     \n",
       "[164] \"STAT6-12_57509569_C_T_top10quantile_noise.tsv\"                          \n",
       "[165] \"STAT6-12_57509569_C_T_top10quantile_phenotype_morethan5cells.tsv\"       \n",
       "[166] \"STAT6-12_57509569_C_T_top10quantile_phenotype.tsv\"                      \n",
       "[167] \"STAT6-12_57509569_C_T_top10quantile_Pseudobulk_Metadata.tsv\"            \n",
       "[168] \"STAT6-12_57509569_C_T_top10quantile_PSEUDOBULK.tsv\"                     \n",
       "[169] \"STAT6-12_57509569_C_T_top10quantile_smf.tsv\"                            \n",
       "[170] \"TUBGCP4-15_43597297_T_A_bottom10quantile_covariates.tsv\"                \n",
       "[171] \"TUBGCP4-15_43597297_T_A_bottom10quantile_noise.tsv\"                     \n",
       "[172] \"TUBGCP4-15_43597297_T_A_bottom10quantile_phenotype_morethan5cells.tsv\"  \n",
       "[173] \"TUBGCP4-15_43597297_T_A_bottom10quantile_phenotype.tsv\"                 \n",
       "[174] \"TUBGCP4-15_43597297_T_A_bottom10quantile_Pseudobulk_Metadata.tsv\"       \n",
       "[175] \"TUBGCP4-15_43597297_T_A_bottom10quantile_PSEUDOBULK.tsv\"                \n",
       "[176] \"TUBGCP4-15_43597297_T_A_bottom10quantile_smf.tsv\"                       \n",
       "[177] \"TUBGCP4-15_43597297_T_A_top10quantile_covariates.tsv\"                   \n",
       "[178] \"TUBGCP4-15_43597297_T_A_top10quantile_noise.tsv\"                        \n",
       "[179] \"TUBGCP4-15_43597297_T_A_top10quantile_phenotype_morethan5cells.tsv\"     \n",
       "[180] \"TUBGCP4-15_43597297_T_A_top10quantile_phenotype.tsv\"                    \n",
       "[181] \"TUBGCP4-15_43597297_T_A_top10quantile_Pseudobulk_Metadata.tsv\"          \n",
       "[182] \"TUBGCP4-15_43597297_T_A_top10quantile_PSEUDOBULK.tsv\"                   \n",
       "[183] \"TUBGCP4-15_43597297_T_A_top10quantile_smf.tsv\"                          "
      ]
     },
     "metadata": {},
     "output_type": "display_data"
    }
   ],
   "source": [
    "list.files(mydir)"
   ]
  },
  {
   "cell_type": "code",
   "execution_count": 280,
   "id": "1874fe20",
   "metadata": {},
   "outputs": [],
   "source": [
    "################# phenotype files"
   ]
  },
  {
   "cell_type": "code",
   "execution_count": 281,
   "id": "7cb63c2c",
   "metadata": {},
   "outputs": [
    {
     "data": {
      "text/html": [
       "<table>\n",
       "<thead><tr><th scope=col>hgnc_symbol</th><th scope=col>ensembl_gene_id</th></tr></thead>\n",
       "<tbody>\n",
       "\t<tr><td>SLC25A26       </td><td>ENSG00000261657</td></tr>\n",
       "\t<tr><td>               </td><td>ENSG00000223116</td></tr>\n",
       "\t<tr><td>HMGA1P6        </td><td>ENSG00000233440</td></tr>\n",
       "\t<tr><td>RNY3P4         </td><td>ENSG00000207157</td></tr>\n",
       "\t<tr><td>LINC00362      </td><td>ENSG00000229483</td></tr>\n",
       "\t<tr><td>RNU6-58P       </td><td>ENSG00000252952</td></tr>\n",
       "</tbody>\n",
       "</table>\n"
      ],
      "text/latex": [
       "\\begin{tabular}{r|ll}\n",
       " hgnc\\_symbol & ensembl\\_gene\\_id\\\\\n",
       "\\hline\n",
       "\t SLC25A26        & ENSG00000261657\\\\\n",
       "\t                 & ENSG00000223116\\\\\n",
       "\t HMGA1P6         & ENSG00000233440\\\\\n",
       "\t RNY3P4          & ENSG00000207157\\\\\n",
       "\t LINC00362       & ENSG00000229483\\\\\n",
       "\t RNU6-58P        & ENSG00000252952\\\\\n",
       "\\end{tabular}\n"
      ],
      "text/markdown": [
       "\n",
       "| hgnc_symbol | ensembl_gene_id |\n",
       "|---|---|\n",
       "| SLC25A26        | ENSG00000261657 |\n",
       "|                 | ENSG00000223116 |\n",
       "| HMGA1P6         | ENSG00000233440 |\n",
       "| RNY3P4          | ENSG00000207157 |\n",
       "| LINC00362       | ENSG00000229483 |\n",
       "| RNU6-58P        | ENSG00000252952 |\n",
       "\n"
      ],
      "text/plain": [
       "  hgnc_symbol ensembl_gene_id\n",
       "1 SLC25A26    ENSG00000261657\n",
       "2             ENSG00000223116\n",
       "3 HMGA1P6     ENSG00000233440\n",
       "4 RNY3P4      ENSG00000207157\n",
       "5 LINC00362   ENSG00000229483\n",
       "6 RNU6-58P    ENSG00000252952"
      ]
     },
     "metadata": {},
     "output_type": "display_data"
    }
   ],
   "source": [
    "#load map HGNC to ensembl\n",
    "mapping_df = read.csv('/nfs/leia/research/stegle/dseaton/genomes/hg19/annotation/geneid_mappings/hgnc_symbol2ensembl_gene_id.txt', sep='\\t')\n",
    "head(mapping_df)"
   ]
  },
  {
   "cell_type": "code",
   "execution_count": 282,
   "id": "91d05f38",
   "metadata": {
    "scrolled": true
   },
   "outputs": [],
   "source": [
    "# list.files(mydir)"
   ]
  },
  {
   "cell_type": "code",
   "execution_count": 283,
   "id": "d1e3474e",
   "metadata": {},
   "outputs": [],
   "source": [
    "myfiles0 = list.files(mydir, \"Meta\")\n",
    "myfiles = list.files(mydir, \"PSEUDO\")"
   ]
  },
  {
   "cell_type": "code",
   "execution_count": 284,
   "id": "79b60645",
   "metadata": {
    "scrolled": true
   },
   "outputs": [],
   "source": [
    "for (i in 1:length(myfiles)){\n",
    "    ## get metadata\n",
    "    file0 = paste0(mydir,myfiles0[i])\n",
    "    df0 = read.csv(file0, sep=\"\\t\")\n",
    "    df0$donor_condition = paste0(df0$donor_id, \"--\",df0$Condition)\n",
    "    ## get pseudobulk\n",
    "    file = paste0(mydir,myfiles[i])\n",
    "    df = read.csv(file, sep=\"\\t\")\n",
    "    rownames(df) = df0$donor_condition\n",
    "    colnames(df) = gsub(\"_pseudobulk\",\"\",colnames(df))\n",
    "    colnames(df) = mapping_df[mapping_df$hgnc_symbol==colnames(df),\"ensembl_gene_id\"]\n",
    "    ## transpose\n",
    "    df_t = as.data.frame(t(df))\n",
    "    filename = gsub(\"_PSEUDOBULK\",\"_phenotype\",file)\n",
    "#     print(filename)\n",
    "    write.table(df_t, filename, sep=\"\\t\", quote=F)\n",
    "    \n",
    "}"
   ]
  },
  {
   "cell_type": "code",
   "execution_count": 285,
   "id": "566ff438",
   "metadata": {},
   "outputs": [
    {
     "data": {
      "text/html": [
       "<table>\n",
       "<thead><tr><th></th><th scope=col>HPSI0114i-bezi_3--d52_tr</th><th scope=col>HPSI0114i-eipl_1--d52_tr</th><th scope=col>HPSI0114i-lexy_2--d52_tr</th><th scope=col>HPSI0114i-posc_1--d52_tr</th><th scope=col>HPSI0114i-rozh_4--d52_tr</th><th scope=col>HPSI0114i-vass_1--d52_tr</th><th scope=col>HPSI0114i-wegi_1--d52_tr</th><th scope=col>HPSI0114i-wegi_1--d52_untr</th><th scope=col>HPSI0115i-aion_2--d52_tr</th><th scope=col>HPSI0115i-aoxv_1--d52_tr</th><th scope=col>...</th><th scope=col>HPSI1014i-sehl_6--d52_tr</th><th scope=col>HPSI1014i-sehl_6--d52_untr</th><th scope=col>HPSI1014i-tixi_4--d52_tr</th><th scope=col>HPSI1014i-vils_1--d52_tr</th><th scope=col>HPSI1014i-vils_1--d52_untr</th><th scope=col>HPSI1113i-bima_1--d52_tr</th><th scope=col>HPSI1113i-podx_1--d52_tr</th><th scope=col>HPSI1113i-vuud_2--d52_tr</th><th scope=col>HPSI1213i-hehd_1--d52_tr</th><th scope=col>HPSI1213i-hehd_1--d52_untr</th></tr></thead>\n",
       "<tbody>\n",
       "\t<tr><th scope=row>ENSG00000137822</th><td>3.462601</td><td>0       </td><td>1.392832</td><td>0       </td><td>1.487615</td><td>2.304181</td><td>1.50029 </td><td>1.118259</td><td>0       </td><td>2.370603</td><td>...     </td><td>1.33011 </td><td>2.919733</td><td>3.381663</td><td>1.754453</td><td>5.263182</td><td>0       </td><td>1.654613</td><td>2.807627</td><td>1.002733</td><td>2.271287</td></tr>\n",
       "</tbody>\n",
       "</table>\n"
      ],
      "text/latex": [
       "\\begin{tabular}{r|llllllllllllllllllllllllllllllllllllllllllllllllllllllllllllllllllllllllllllllllllllllllllllllllllllllllllllllll}\n",
       "  & HPSI0114i-bezi\\_3--d52\\_tr & HPSI0114i-eipl\\_1--d52\\_tr & HPSI0114i-lexy\\_2--d52\\_tr & HPSI0114i-posc\\_1--d52\\_tr & HPSI0114i-rozh\\_4--d52\\_tr & HPSI0114i-vass\\_1--d52\\_tr & HPSI0114i-wegi\\_1--d52\\_tr & HPSI0114i-wegi\\_1--d52\\_untr & HPSI0115i-aion\\_2--d52\\_tr & HPSI0115i-aoxv\\_1--d52\\_tr & ... & HPSI1014i-sehl\\_6--d52\\_tr & HPSI1014i-sehl\\_6--d52\\_untr & HPSI1014i-tixi\\_4--d52\\_tr & HPSI1014i-vils\\_1--d52\\_tr & HPSI1014i-vils\\_1--d52\\_untr & HPSI1113i-bima\\_1--d52\\_tr & HPSI1113i-podx\\_1--d52\\_tr & HPSI1113i-vuud\\_2--d52\\_tr & HPSI1213i-hehd\\_1--d52\\_tr & HPSI1213i-hehd\\_1--d52\\_untr\\\\\n",
       "\\hline\n",
       "\tENSG00000137822 & 3.462601 & 0        & 1.392832 & 0        & 1.487615 & 2.304181 & 1.50029  & 1.118259 & 0        & 2.370603 & ...      & 1.33011  & 2.919733 & 3.381663 & 1.754453 & 5.263182 & 0        & 1.654613 & 2.807627 & 1.002733 & 2.271287\\\\\n",
       "\\end{tabular}\n"
      ],
      "text/markdown": [
       "\n",
       "| <!--/--> | HPSI0114i-bezi_3--d52_tr | HPSI0114i-eipl_1--d52_tr | HPSI0114i-lexy_2--d52_tr | HPSI0114i-posc_1--d52_tr | HPSI0114i-rozh_4--d52_tr | HPSI0114i-vass_1--d52_tr | HPSI0114i-wegi_1--d52_tr | HPSI0114i-wegi_1--d52_untr | HPSI0115i-aion_2--d52_tr | HPSI0115i-aoxv_1--d52_tr | ... | HPSI1014i-sehl_6--d52_tr | HPSI1014i-sehl_6--d52_untr | HPSI1014i-tixi_4--d52_tr | HPSI1014i-vils_1--d52_tr | HPSI1014i-vils_1--d52_untr | HPSI1113i-bima_1--d52_tr | HPSI1113i-podx_1--d52_tr | HPSI1113i-vuud_2--d52_tr | HPSI1213i-hehd_1--d52_tr | HPSI1213i-hehd_1--d52_untr |\n",
       "|---|---|---|---|---|---|---|---|---|---|---|---|---|---|---|---|---|---|---|---|---|---|\n",
       "| ENSG00000137822 | 3.462601 | 0        | 1.392832 | 0        | 1.487615 | 2.304181 | 1.50029  | 1.118259 | 0        | 2.370603 | ...      | 1.33011  | 2.919733 | 3.381663 | 1.754453 | 5.263182 | 0        | 1.654613 | 2.807627 | 1.002733 | 2.271287 |\n",
       "\n"
      ],
      "text/plain": [
       "                HPSI0114i-bezi_3--d52_tr HPSI0114i-eipl_1--d52_tr\n",
       "ENSG00000137822 3.462601                 0                       \n",
       "                HPSI0114i-lexy_2--d52_tr HPSI0114i-posc_1--d52_tr\n",
       "ENSG00000137822 1.392832                 0                       \n",
       "                HPSI0114i-rozh_4--d52_tr HPSI0114i-vass_1--d52_tr\n",
       "ENSG00000137822 1.487615                 2.304181                \n",
       "                HPSI0114i-wegi_1--d52_tr HPSI0114i-wegi_1--d52_untr\n",
       "ENSG00000137822 1.50029                  1.118259                  \n",
       "                HPSI0115i-aion_2--d52_tr HPSI0115i-aoxv_1--d52_tr ...\n",
       "ENSG00000137822 0                        2.370603                 ...\n",
       "                HPSI1014i-sehl_6--d52_tr HPSI1014i-sehl_6--d52_untr\n",
       "ENSG00000137822 1.33011                  2.919733                  \n",
       "                HPSI1014i-tixi_4--d52_tr HPSI1014i-vils_1--d52_tr\n",
       "ENSG00000137822 3.381663                 1.754453                \n",
       "                HPSI1014i-vils_1--d52_untr HPSI1113i-bima_1--d52_tr\n",
       "ENSG00000137822 5.263182                   0                       \n",
       "                HPSI1113i-podx_1--d52_tr HPSI1113i-vuud_2--d52_tr\n",
       "ENSG00000137822 1.654613                 2.807627                \n",
       "                HPSI1213i-hehd_1--d52_tr HPSI1213i-hehd_1--d52_untr\n",
       "ENSG00000137822 1.002733                 2.271287                  "
      ]
     },
     "metadata": {},
     "output_type": "display_data"
    }
   ],
   "source": [
    "df_t"
   ]
  },
  {
   "cell_type": "code",
   "execution_count": 286,
   "id": "21b3f5eb",
   "metadata": {},
   "outputs": [
    {
     "data": {
      "text/html": [
       "78"
      ],
      "text/latex": [
       "78"
      ],
      "text/markdown": [
       "78"
      ],
      "text/plain": [
       "[1] 78"
      ]
     },
     "metadata": {},
     "output_type": "display_data"
    }
   ],
   "source": [
    "nrow(df0[df0$Number_of_cells > 5,])"
   ]
  },
  {
   "cell_type": "code",
   "execution_count": 287,
   "id": "a515096f",
   "metadata": {},
   "outputs": [],
   "source": [
    "for (i in 1:length(myfiles)){\n",
    "    ## get metadata\n",
    "    file0 = paste0(mydir,myfiles0[i])\n",
    "    df0 = read.csv(file0, sep=\"\\t\")\n",
    "    df0$donor_condition = paste0(df0$donor_id, \"--\",df0$Condition)\n",
    "    # select donor-condition combination with at least 5 cells\n",
    "    dc_sel = df0[df0$Number_of_cells > 5,\"donor_condition\"]\n",
    "    ## get pseudobulk\n",
    "    file = paste0(mydir,myfiles[i])\n",
    "    df = read.csv(file, sep=\"\\t\")\n",
    "    rownames(df) = df0$donor_condition\n",
    "    colnames(df) = gsub(\"_pseudobulk\",\"\",colnames(df))\n",
    "    # consider only selected donor-condition combinations\n",
    "    df = df[dc_sel,]\n",
    "    ## transpose\n",
    "    df_t = as.data.frame(t(df))\n",
    "    filename = gsub(\"_PSEUDOBULK\",\"_phenotype_morethan5cells\",file)\n",
    "#     print(filename)\n",
    "    write.table(df_t, filename, sep=\"\\t\", quote=F)\n",
    "    \n",
    "}"
   ]
  },
  {
   "cell_type": "code",
   "execution_count": 288,
   "id": "98f21f70",
   "metadata": {},
   "outputs": [],
   "source": [
    "################# covariate files (from other runs)"
   ]
  },
  {
   "cell_type": "code",
   "execution_count": 289,
   "id": "a512ae73",
   "metadata": {},
   "outputs": [],
   "source": [
    "cov_file_d30 = '/hps/nobackup/stegle/users/acuomo/all_scripts/sc_neuroseq/eqtl/timepoint_D30/input_files/celltype_DA/covariates.tsv'\n",
    "cov_file_d52_untr = '/hps/nobackup/stegle/users/acuomo/all_scripts/sc_neuroseq/eqtl/timepoint_D52/input_files_untreated/celltype_DA/covariates.tsv'\n",
    "cov_file_d52_ROT_tr = '/hps/nobackup/stegle/users/acuomo/all_scripts/sc_neuroseq/eqtl/timepoint_D52/input_files_ROT_treated/celltype_DA/covariates.tsv'"
   ]
  },
  {
   "cell_type": "code",
   "execution_count": 290,
   "id": "bec8ba62",
   "metadata": {},
   "outputs": [
    {
     "data": {
      "text/html": [
       "<ol class=list-inline>\n",
       "\t<li>'ATG10-5_81395824_T_G_bottom10quantile_phenotype.tsv'</li>\n",
       "\t<li>'ATG10-5_81395824_T_G_top10quantile_phenotype.tsv'</li>\n",
       "\t<li>'CHRNA3-15_78849034_T_C_bottom10quantile_phenotype.tsv'</li>\n",
       "\t<li>'CHRNA3-15_78849034_T_C_top10quantile_phenotype.tsv'</li>\n",
       "\t<li>'EIF5A-17_7207964_A_C_bottom10quantile_phenotype.tsv'</li>\n",
       "\t<li>'EIF5A-17_7207964_A_C_top10quantile_phenotype.tsv'</li>\n",
       "</ol>\n"
      ],
      "text/latex": [
       "\\begin{enumerate*}\n",
       "\\item 'ATG10-5\\_81395824\\_T\\_G\\_bottom10quantile\\_phenotype.tsv'\n",
       "\\item 'ATG10-5\\_81395824\\_T\\_G\\_top10quantile\\_phenotype.tsv'\n",
       "\\item 'CHRNA3-15\\_78849034\\_T\\_C\\_bottom10quantile\\_phenotype.tsv'\n",
       "\\item 'CHRNA3-15\\_78849034\\_T\\_C\\_top10quantile\\_phenotype.tsv'\n",
       "\\item 'EIF5A-17\\_7207964\\_A\\_C\\_bottom10quantile\\_phenotype.tsv'\n",
       "\\item 'EIF5A-17\\_7207964\\_A\\_C\\_top10quantile\\_phenotype.tsv'\n",
       "\\end{enumerate*}\n"
      ],
      "text/markdown": [
       "1. 'ATG10-5_81395824_T_G_bottom10quantile_phenotype.tsv'\n",
       "2. 'ATG10-5_81395824_T_G_top10quantile_phenotype.tsv'\n",
       "3. 'CHRNA3-15_78849034_T_C_bottom10quantile_phenotype.tsv'\n",
       "4. 'CHRNA3-15_78849034_T_C_top10quantile_phenotype.tsv'\n",
       "5. 'EIF5A-17_7207964_A_C_bottom10quantile_phenotype.tsv'\n",
       "6. 'EIF5A-17_7207964_A_C_top10quantile_phenotype.tsv'\n",
       "\n",
       "\n"
      ],
      "text/plain": [
       "[1] \"ATG10-5_81395824_T_G_bottom10quantile_phenotype.tsv\"  \n",
       "[2] \"ATG10-5_81395824_T_G_top10quantile_phenotype.tsv\"     \n",
       "[3] \"CHRNA3-15_78849034_T_C_bottom10quantile_phenotype.tsv\"\n",
       "[4] \"CHRNA3-15_78849034_T_C_top10quantile_phenotype.tsv\"   \n",
       "[5] \"EIF5A-17_7207964_A_C_bottom10quantile_phenotype.tsv\"  \n",
       "[6] \"EIF5A-17_7207964_A_C_top10quantile_phenotype.tsv\"     "
      ]
     },
     "metadata": {},
     "output_type": "display_data"
    }
   ],
   "source": [
    "myfiles1 = list.files(mydir, \"phenotype.tsv\")\n",
    "head(myfiles1)"
   ]
  },
  {
   "cell_type": "code",
   "execution_count": 272,
   "id": "19202830",
   "metadata": {},
   "outputs": [],
   "source": [
    "#### make sample mapping, covariate"
   ]
  },
  {
   "cell_type": "code",
   "execution_count": 314,
   "id": "3905944a",
   "metadata": {},
   "outputs": [
    {
     "name": "stderr",
     "output_type": "stream",
     "text": [
      "Joining, by = \"genotype_individual_id\"\n",
      "Joining, by = \"genotype_individual_id\"\n",
      "Joining, by = \"genotype_individual_id\"\n",
      "Joining, by = \"genotype_individual_id\"\n",
      "Joining, by = \"genotype_individual_id\"\n",
      "Joining, by = \"genotype_individual_id\"\n",
      "Joining, by = \"genotype_individual_id\"\n",
      "Joining, by = \"genotype_individual_id\"\n",
      "Joining, by = \"genotype_individual_id\"\n",
      "Joining, by = \"genotype_individual_id\"\n",
      "Joining, by = \"genotype_individual_id\"\n",
      "Joining, by = \"genotype_individual_id\"\n",
      "Joining, by = \"genotype_individual_id\"\n",
      "Joining, by = \"genotype_individual_id\"\n",
      "Joining, by = \"genotype_individual_id\"\n",
      "Joining, by = \"genotype_individual_id\"\n",
      "Joining, by = \"genotype_individual_id\"\n",
      "Joining, by = \"genotype_individual_id\"\n",
      "Joining, by = \"genotype_individual_id\"\n",
      "Joining, by = \"genotype_individual_id\"\n",
      "Joining, by = \"genotype_individual_id\"\n",
      "Joining, by = \"genotype_individual_id\"\n",
      "Joining, by = \"genotype_individual_id\"\n",
      "Joining, by = \"genotype_individual_id\"\n",
      "Joining, by = \"genotype_individual_id\"\n",
      "Joining, by = \"genotype_individual_id\"\n",
      "Joining, by = \"genotype_individual_id\"\n",
      "Joining, by = \"genotype_individual_id\"\n",
      "Joining, by = \"genotype_individual_id\"\n",
      "Joining, by = \"genotype_individual_id\"\n",
      "Joining, by = \"genotype_individual_id\"\n",
      "Joining, by = \"genotype_individual_id\"\n",
      "Joining, by = \"genotype_individual_id\"\n",
      "Joining, by = \"genotype_individual_id\"\n",
      "Joining, by = \"genotype_individual_id\"\n",
      "Joining, by = \"genotype_individual_id\"\n",
      "Joining, by = \"genotype_individual_id\"\n",
      "Joining, by = \"genotype_individual_id\"\n",
      "Joining, by = \"genotype_individual_id\"\n",
      "Joining, by = \"genotype_individual_id\"\n",
      "Joining, by = \"genotype_individual_id\"\n",
      "Joining, by = \"genotype_individual_id\"\n",
      "Joining, by = \"genotype_individual_id\"\n",
      "Joining, by = \"genotype_individual_id\"\n",
      "Joining, by = \"genotype_individual_id\"\n",
      "Joining, by = \"genotype_individual_id\"\n",
      "Joining, by = \"genotype_individual_id\"\n",
      "Joining, by = \"genotype_individual_id\"\n",
      "Joining, by = \"genotype_individual_id\"\n",
      "Joining, by = \"genotype_individual_id\"\n",
      "Joining, by = \"genotype_individual_id\"\n",
      "Joining, by = \"genotype_individual_id\"\n",
      "Joining, by = \"genotype_individual_id\"\n",
      "Joining, by = \"genotype_individual_id\"\n",
      "Joining, by = \"genotype_individual_id\"\n",
      "Joining, by = \"genotype_individual_id\"\n",
      "Joining, by = \"genotype_individual_id\"\n",
      "Joining, by = \"genotype_individual_id\"\n",
      "Joining, by = \"genotype_individual_id\"\n",
      "Joining, by = \"genotype_individual_id\"\n",
      "Joining, by = \"genotype_individual_id\"\n",
      "Joining, by = \"genotype_individual_id\"\n",
      "Joining, by = \"genotype_individual_id\"\n",
      "Joining, by = \"genotype_individual_id\"\n",
      "Joining, by = \"genotype_individual_id\"\n",
      "Joining, by = \"genotype_individual_id\"\n",
      "Joining, by = \"genotype_individual_id\"\n",
      "Joining, by = \"genotype_individual_id\"\n",
      "Joining, by = \"genotype_individual_id\"\n",
      "Joining, by = \"genotype_individual_id\"\n",
      "Joining, by = \"genotype_individual_id\"\n",
      "Joining, by = \"genotype_individual_id\"\n",
      "Joining, by = \"genotype_individual_id\"\n",
      "Joining, by = \"genotype_individual_id\"\n",
      "Joining, by = \"genotype_individual_id\"\n",
      "Joining, by = \"genotype_individual_id\"\n",
      "Joining, by = \"genotype_individual_id\"\n",
      "Joining, by = \"genotype_individual_id\"\n"
     ]
    }
   ],
   "source": [
    "for (i in 1:length(myfiles)){\n",
    "    # get phenotype file\n",
    "    file1 = paste0(mydir,myfiles1[i])\n",
    "    df1 = read.csv(file1, sep=\"\\t\")\n",
    "    ##############################\n",
    "    ########## sample mapping file\n",
    "    smf = data.frame(phenotype_sample_id = gsub(\"\\\\.\",\"-\",colnames(df1)))\n",
    "    smf$genotype_individual_id = gsub(\"--.*\",\"\",smf$phenotype_sample_id)\n",
    "    ### save sample mapping file\n",
    "    filename1 = gsub(\"phenotype\",\"smf\",file1)\n",
    "    write.table(smf[,c(2,1)], filename1, sep=\"\\t\", quote=F, row.names = F)\n",
    "    ##############################\n",
    "    ########## covariates\n",
    "    df2 = smf\n",
    "    df2$condition = gsub(\".*--\",\"\",df2$phenotype_sample_id)\n",
    "    #### day 30\n",
    "    df2_d30 = df2[df2$condition == \"d30\",]\n",
    "    cov_d30 = read.csv(cov_file_d30, sep=\"\\t\")\n",
    "    cov_d30$genotype_individual_id = cov_d30$index\n",
    "    cov_d30_df = left_join(df2_d30, cov_d30)\n",
    "    #### day 52 untreated\n",
    "    df2_d52 = df2[df2$condition == \"d52_untr\",]\n",
    "    cov_d52 = read.csv(cov_file_d52_untr, sep=\"\\t\")\n",
    "    cov_d52$genotype_individual_id = cov_d52$index\n",
    "    cov_d52_df = left_join(df2_d52, cov_d52)\n",
    "    #### day 52 ROT-treated\n",
    "    df2_d52_rot = df2[df2$condition == \"d52_tr\",]\n",
    "    cov_d52_rot = read.csv(cov_file_d52_ROT_tr, sep=\"\\t\")\n",
    "    cov_d52_rot$genotype_individual_id = cov_d52_rot$index\n",
    "    cov_d52_rot_df = left_join(df2_d52_rot, cov_d52_rot)\n",
    "    #### merge\n",
    "    covs = rbind(cov_d30_df, cov_d52_df, cov_d52_rot_df)\n",
    "    rownames(covs) = covs$phenotype_sample_id\n",
    "    covs_df = covs[,!(colnames(covs) %in% c(\"phenotype_sample_id\",\"genotype_individual_id\",\"condition\",\"index\"))]\n",
    "    ### save covariates file\n",
    "    filename2 = gsub(\"phenotype\",\"covariates\",file1)\n",
    "    write.table(covs_df, filename2, sep=\"\\t\", quote=F)\n",
    "    ##############################\n",
    "    ########## noise matrix\n",
    "    ## get metadata\n",
    "    file0 = paste0(mydir,myfiles0[i])\n",
    "    df0 = read.csv(file0, sep=\"\\t\")\n",
    "    df0$donor_condition = paste0(df0$donor_id, \"--\",df0$Condition)\n",
    "    mat = diag(df0$Number_of_cells)\n",
    "    colnames(mat) = df0$donor_condition\n",
    "    rownames(mat) = df0$donor_condition\n",
    "    ### save noise matrix file\n",
    "    filename3 = gsub(\"phenotype\",\"noise\",file1)\n",
    "    write.table(as.data.frame(mat), filename3, sep=\"\\t\", quote=F)\n",
    "}"
   ]
  },
  {
   "cell_type": "code",
   "execution_count": null,
   "id": "d257586d",
   "metadata": {},
   "outputs": [],
   "source": []
  },
  {
   "cell_type": "code",
   "execution_count": 291,
   "id": "ad71c98a",
   "metadata": {},
   "outputs": [
    {
     "data": {
      "text/html": [
       "'/hps/nobackup/stegle/users/acuomo/all_scripts/struct_LMM2/sc_neuroseq/da_coloc_GxC/structlmm2_eQTLgenes_Pseudobulk/ATG10-5_81395824_T_G_top10quantile_phenotype.tsv'"
      ],
      "text/latex": [
       "'/hps/nobackup/stegle/users/acuomo/all\\_scripts/struct\\_LMM2/sc\\_neuroseq/da\\_coloc\\_GxC/structlmm2\\_eQTLgenes\\_Pseudobulk/ATG10-5\\_81395824\\_T\\_G\\_top10quantile\\_phenotype.tsv'"
      ],
      "text/markdown": [
       "'/hps/nobackup/stegle/users/acuomo/all_scripts/struct_LMM2/sc_neuroseq/da_coloc_GxC/structlmm2_eQTLgenes_Pseudobulk/ATG10-5_81395824_T_G_top10quantile_phenotype.tsv'"
      ],
      "text/plain": [
       "[1] \"/hps/nobackup/stegle/users/acuomo/all_scripts/struct_LMM2/sc_neuroseq/da_coloc_GxC/structlmm2_eQTLgenes_Pseudobulk/ATG10-5_81395824_T_G_top10quantile_phenotype.tsv\""
      ]
     },
     "metadata": {},
     "output_type": "display_data"
    },
    {
     "data": {
      "text/html": [
       "<table>\n",
       "<thead><tr><th></th><th scope=col>HPSI0114i.bezi_3..d52_tr</th><th scope=col>HPSI0114i.eipl_1..d52_tr</th><th scope=col>HPSI0114i.lexy_2..d52_tr</th><th scope=col>HPSI0114i.posc_1..d52_tr</th><th scope=col>HPSI0114i.rozh_4..d52_tr</th><th scope=col>HPSI0114i.vass_1..d52_tr</th><th scope=col>HPSI0114i.wegi_1..d52_tr</th><th scope=col>HPSI0114i.wegi_1..d52_untr</th><th scope=col>HPSI0115i.aion_2..d52_tr</th><th scope=col>HPSI0115i.aoxv_1..d52_tr</th><th scope=col>...</th><th scope=col>HPSI1014i.sehl_6..d52_tr</th><th scope=col>HPSI1014i.sehl_6..d52_untr</th><th scope=col>HPSI1014i.tixi_4..d52_tr</th><th scope=col>HPSI1014i.vils_1..d52_tr</th><th scope=col>HPSI1014i.vils_1..d52_untr</th><th scope=col>HPSI1113i.bima_1..d52_tr</th><th scope=col>HPSI1113i.podx_1..d52_tr</th><th scope=col>HPSI1113i.vuud_2..d52_tr</th><th scope=col>HPSI1213i.hehd_1..d52_tr</th><th scope=col>HPSI1213i.hehd_1..d52_untr</th></tr></thead>\n",
       "<tbody>\n",
       "\t<tr><th scope=row>ENSG00000152348</th><td>6.59535  </td><td>0        </td><td>0.9207488</td><td>2.675988 </td><td>0        </td><td>0        </td><td>1.651158 </td><td>1.108538 </td><td>0        </td><td>1.794525 </td><td>...      </td><td>1.23908  </td><td>1.230739 </td><td>3.64743  </td><td>1.708405 </td><td>2.661565 </td><td>0        </td><td>0.7597426</td><td>0        </td><td>0.8718379</td><td>1.879413 </td></tr>\n",
       "</tbody>\n",
       "</table>\n"
      ],
      "text/latex": [
       "\\begin{tabular}{r|llllllllllllllllllllllllllllllllllllllllllllllllllllllllllllllllllllllllllllllllllllllllllllllllllllllllllllllll}\n",
       "  & HPSI0114i.bezi\\_3..d52\\_tr & HPSI0114i.eipl\\_1..d52\\_tr & HPSI0114i.lexy\\_2..d52\\_tr & HPSI0114i.posc\\_1..d52\\_tr & HPSI0114i.rozh\\_4..d52\\_tr & HPSI0114i.vass\\_1..d52\\_tr & HPSI0114i.wegi\\_1..d52\\_tr & HPSI0114i.wegi\\_1..d52\\_untr & HPSI0115i.aion\\_2..d52\\_tr & HPSI0115i.aoxv\\_1..d52\\_tr & ... & HPSI1014i.sehl\\_6..d52\\_tr & HPSI1014i.sehl\\_6..d52\\_untr & HPSI1014i.tixi\\_4..d52\\_tr & HPSI1014i.vils\\_1..d52\\_tr & HPSI1014i.vils\\_1..d52\\_untr & HPSI1113i.bima\\_1..d52\\_tr & HPSI1113i.podx\\_1..d52\\_tr & HPSI1113i.vuud\\_2..d52\\_tr & HPSI1213i.hehd\\_1..d52\\_tr & HPSI1213i.hehd\\_1..d52\\_untr\\\\\n",
       "\\hline\n",
       "\tENSG00000152348 & 6.59535   & 0         & 0.9207488 & 2.675988  & 0         & 0         & 1.651158  & 1.108538  & 0         & 1.794525  & ...       & 1.23908   & 1.230739  & 3.64743   & 1.708405  & 2.661565  & 0         & 0.7597426 & 0         & 0.8718379 & 1.879413 \\\\\n",
       "\\end{tabular}\n"
      ],
      "text/markdown": [
       "\n",
       "| <!--/--> | HPSI0114i.bezi_3..d52_tr | HPSI0114i.eipl_1..d52_tr | HPSI0114i.lexy_2..d52_tr | HPSI0114i.posc_1..d52_tr | HPSI0114i.rozh_4..d52_tr | HPSI0114i.vass_1..d52_tr | HPSI0114i.wegi_1..d52_tr | HPSI0114i.wegi_1..d52_untr | HPSI0115i.aion_2..d52_tr | HPSI0115i.aoxv_1..d52_tr | ... | HPSI1014i.sehl_6..d52_tr | HPSI1014i.sehl_6..d52_untr | HPSI1014i.tixi_4..d52_tr | HPSI1014i.vils_1..d52_tr | HPSI1014i.vils_1..d52_untr | HPSI1113i.bima_1..d52_tr | HPSI1113i.podx_1..d52_tr | HPSI1113i.vuud_2..d52_tr | HPSI1213i.hehd_1..d52_tr | HPSI1213i.hehd_1..d52_untr |\n",
       "|---|---|---|---|---|---|---|---|---|---|---|---|---|---|---|---|---|---|---|---|---|---|\n",
       "| ENSG00000152348 | 6.59535   | 0         | 0.9207488 | 2.675988  | 0         | 0         | 1.651158  | 1.108538  | 0         | 1.794525  | ...       | 1.23908   | 1.230739  | 3.64743   | 1.708405  | 2.661565  | 0         | 0.7597426 | 0         | 0.8718379 | 1.879413  |\n",
       "\n"
      ],
      "text/plain": [
       "                HPSI0114i.bezi_3..d52_tr HPSI0114i.eipl_1..d52_tr\n",
       "ENSG00000152348 6.59535                  0                       \n",
       "                HPSI0114i.lexy_2..d52_tr HPSI0114i.posc_1..d52_tr\n",
       "ENSG00000152348 0.9207488                2.675988                \n",
       "                HPSI0114i.rozh_4..d52_tr HPSI0114i.vass_1..d52_tr\n",
       "ENSG00000152348 0                        0                       \n",
       "                HPSI0114i.wegi_1..d52_tr HPSI0114i.wegi_1..d52_untr\n",
       "ENSG00000152348 1.651158                 1.108538                  \n",
       "                HPSI0115i.aion_2..d52_tr HPSI0115i.aoxv_1..d52_tr ...\n",
       "ENSG00000152348 0                        1.794525                 ...\n",
       "                HPSI1014i.sehl_6..d52_tr HPSI1014i.sehl_6..d52_untr\n",
       "ENSG00000152348 1.23908                  1.230739                  \n",
       "                HPSI1014i.tixi_4..d52_tr HPSI1014i.vils_1..d52_tr\n",
       "ENSG00000152348 3.64743                  1.708405                \n",
       "                HPSI1014i.vils_1..d52_untr HPSI1113i.bima_1..d52_tr\n",
       "ENSG00000152348 2.661565                   0                       \n",
       "                HPSI1113i.podx_1..d52_tr HPSI1113i.vuud_2..d52_tr\n",
       "ENSG00000152348 0.7597426                0                       \n",
       "                HPSI1213i.hehd_1..d52_tr HPSI1213i.hehd_1..d52_untr\n",
       "ENSG00000152348 0.8718379                1.879413                  "
      ]
     },
     "metadata": {},
     "output_type": "display_data"
    }
   ],
   "source": [
    "i=2\n",
    "file1 = paste0(mydir,myfiles1[i])\n",
    "file1\n",
    "df1 = read.csv(file1, sep=\"\\t\")\n",
    "head(df1)"
   ]
  },
  {
   "cell_type": "code",
   "execution_count": 292,
   "id": "2bd479a7",
   "metadata": {},
   "outputs": [
    {
     "data": {
      "text/html": [
       "<table>\n",
       "<thead><tr><th scope=col>genotype_individual_id</th><th scope=col>phenotype_sample_id</th></tr></thead>\n",
       "<tbody>\n",
       "\t<tr><td>HPSI0114i-bezi_3        </td><td>HPSI0114i-bezi_3--d52_tr</td></tr>\n",
       "\t<tr><td>HPSI0114i-eipl_1        </td><td>HPSI0114i-eipl_1--d52_tr</td></tr>\n",
       "\t<tr><td>HPSI0114i-lexy_2        </td><td>HPSI0114i-lexy_2--d52_tr</td></tr>\n",
       "\t<tr><td>HPSI0114i-posc_1        </td><td>HPSI0114i-posc_1--d52_tr</td></tr>\n",
       "\t<tr><td>HPSI0114i-rozh_4        </td><td>HPSI0114i-rozh_4--d52_tr</td></tr>\n",
       "\t<tr><td>HPSI0114i-vass_1        </td><td>HPSI0114i-vass_1--d52_tr</td></tr>\n",
       "</tbody>\n",
       "</table>\n"
      ],
      "text/latex": [
       "\\begin{tabular}{r|ll}\n",
       " genotype\\_individual\\_id & phenotype\\_sample\\_id\\\\\n",
       "\\hline\n",
       "\t HPSI0114i-bezi\\_3           & HPSI0114i-bezi\\_3--d52\\_tr\\\\\n",
       "\t HPSI0114i-eipl\\_1           & HPSI0114i-eipl\\_1--d52\\_tr\\\\\n",
       "\t HPSI0114i-lexy\\_2           & HPSI0114i-lexy\\_2--d52\\_tr\\\\\n",
       "\t HPSI0114i-posc\\_1           & HPSI0114i-posc\\_1--d52\\_tr\\\\\n",
       "\t HPSI0114i-rozh\\_4           & HPSI0114i-rozh\\_4--d52\\_tr\\\\\n",
       "\t HPSI0114i-vass\\_1           & HPSI0114i-vass\\_1--d52\\_tr\\\\\n",
       "\\end{tabular}\n"
      ],
      "text/markdown": [
       "\n",
       "| genotype_individual_id | phenotype_sample_id |\n",
       "|---|---|\n",
       "| HPSI0114i-bezi_3         | HPSI0114i-bezi_3--d52_tr |\n",
       "| HPSI0114i-eipl_1         | HPSI0114i-eipl_1--d52_tr |\n",
       "| HPSI0114i-lexy_2         | HPSI0114i-lexy_2--d52_tr |\n",
       "| HPSI0114i-posc_1         | HPSI0114i-posc_1--d52_tr |\n",
       "| HPSI0114i-rozh_4         | HPSI0114i-rozh_4--d52_tr |\n",
       "| HPSI0114i-vass_1         | HPSI0114i-vass_1--d52_tr |\n",
       "\n"
      ],
      "text/plain": [
       "  genotype_individual_id phenotype_sample_id     \n",
       "1 HPSI0114i-bezi_3       HPSI0114i-bezi_3--d52_tr\n",
       "2 HPSI0114i-eipl_1       HPSI0114i-eipl_1--d52_tr\n",
       "3 HPSI0114i-lexy_2       HPSI0114i-lexy_2--d52_tr\n",
       "4 HPSI0114i-posc_1       HPSI0114i-posc_1--d52_tr\n",
       "5 HPSI0114i-rozh_4       HPSI0114i-rozh_4--d52_tr\n",
       "6 HPSI0114i-vass_1       HPSI0114i-vass_1--d52_tr"
      ]
     },
     "metadata": {},
     "output_type": "display_data"
    }
   ],
   "source": [
    "smf = data.frame(phenotype_sample_id = gsub(\"\\\\.\",\"-\",colnames(df1)))\n",
    "smf$genotype_individual_id = gsub(\"--.*\",\"\",smf$phenotype_sample_id)\n",
    "head(smf[,c(2,1)])"
   ]
  },
  {
   "cell_type": "code",
   "execution_count": 293,
   "id": "ccc35cac",
   "metadata": {},
   "outputs": [
    {
     "data": {
      "text/html": [
       "'/hps/nobackup/stegle/users/acuomo/all_scripts/struct_LMM2/sc_neuroseq/da_coloc_GxC/structlmm2_eQTLgenes_Pseudobulk/ATG10-5_81395824_T_G_top10quantile_smf.tsv'"
      ],
      "text/latex": [
       "'/hps/nobackup/stegle/users/acuomo/all\\_scripts/struct\\_LMM2/sc\\_neuroseq/da\\_coloc\\_GxC/structlmm2\\_eQTLgenes\\_Pseudobulk/ATG10-5\\_81395824\\_T\\_G\\_top10quantile\\_smf.tsv'"
      ],
      "text/markdown": [
       "'/hps/nobackup/stegle/users/acuomo/all_scripts/struct_LMM2/sc_neuroseq/da_coloc_GxC/structlmm2_eQTLgenes_Pseudobulk/ATG10-5_81395824_T_G_top10quantile_smf.tsv'"
      ],
      "text/plain": [
       "[1] \"/hps/nobackup/stegle/users/acuomo/all_scripts/struct_LMM2/sc_neuroseq/da_coloc_GxC/structlmm2_eQTLgenes_Pseudobulk/ATG10-5_81395824_T_G_top10quantile_smf.tsv\""
      ]
     },
     "metadata": {},
     "output_type": "display_data"
    }
   ],
   "source": [
    "### save sample mapping file\n",
    "filename1 = gsub(\"phenotype\",\"smf\",file1)\n",
    "filename1\n",
    "write.table(smf[,c(2,1)], filename1, sep=\"\\t\", quote=F, row.names = F)"
   ]
  },
  {
   "cell_type": "code",
   "execution_count": 294,
   "id": "8555ce57",
   "metadata": {},
   "outputs": [
    {
     "data": {
      "text/html": [
       "<table>\n",
       "<thead><tr><th scope=col>phenotype_sample_id</th><th scope=col>genotype_individual_id</th><th scope=col>condition</th></tr></thead>\n",
       "<tbody>\n",
       "\t<tr><td>HPSI0114i-bezi_3--d52_tr</td><td>HPSI0114i-bezi_3        </td><td>d52_tr                  </td></tr>\n",
       "\t<tr><td>HPSI0114i-eipl_1--d52_tr</td><td>HPSI0114i-eipl_1        </td><td>d52_tr                  </td></tr>\n",
       "\t<tr><td>HPSI0114i-lexy_2--d52_tr</td><td>HPSI0114i-lexy_2        </td><td>d52_tr                  </td></tr>\n",
       "\t<tr><td>HPSI0114i-posc_1--d52_tr</td><td>HPSI0114i-posc_1        </td><td>d52_tr                  </td></tr>\n",
       "\t<tr><td>HPSI0114i-rozh_4--d52_tr</td><td>HPSI0114i-rozh_4        </td><td>d52_tr                  </td></tr>\n",
       "\t<tr><td>HPSI0114i-vass_1--d52_tr</td><td>HPSI0114i-vass_1        </td><td>d52_tr                  </td></tr>\n",
       "</tbody>\n",
       "</table>\n"
      ],
      "text/latex": [
       "\\begin{tabular}{r|lll}\n",
       " phenotype\\_sample\\_id & genotype\\_individual\\_id & condition\\\\\n",
       "\\hline\n",
       "\t HPSI0114i-bezi\\_3--d52\\_tr & HPSI0114i-bezi\\_3           & d52\\_tr                    \\\\\n",
       "\t HPSI0114i-eipl\\_1--d52\\_tr & HPSI0114i-eipl\\_1           & d52\\_tr                    \\\\\n",
       "\t HPSI0114i-lexy\\_2--d52\\_tr & HPSI0114i-lexy\\_2           & d52\\_tr                    \\\\\n",
       "\t HPSI0114i-posc\\_1--d52\\_tr & HPSI0114i-posc\\_1           & d52\\_tr                    \\\\\n",
       "\t HPSI0114i-rozh\\_4--d52\\_tr & HPSI0114i-rozh\\_4           & d52\\_tr                    \\\\\n",
       "\t HPSI0114i-vass\\_1--d52\\_tr & HPSI0114i-vass\\_1           & d52\\_tr                    \\\\\n",
       "\\end{tabular}\n"
      ],
      "text/markdown": [
       "\n",
       "| phenotype_sample_id | genotype_individual_id | condition |\n",
       "|---|---|---|\n",
       "| HPSI0114i-bezi_3--d52_tr | HPSI0114i-bezi_3         | d52_tr                   |\n",
       "| HPSI0114i-eipl_1--d52_tr | HPSI0114i-eipl_1         | d52_tr                   |\n",
       "| HPSI0114i-lexy_2--d52_tr | HPSI0114i-lexy_2         | d52_tr                   |\n",
       "| HPSI0114i-posc_1--d52_tr | HPSI0114i-posc_1         | d52_tr                   |\n",
       "| HPSI0114i-rozh_4--d52_tr | HPSI0114i-rozh_4         | d52_tr                   |\n",
       "| HPSI0114i-vass_1--d52_tr | HPSI0114i-vass_1         | d52_tr                   |\n",
       "\n"
      ],
      "text/plain": [
       "  phenotype_sample_id      genotype_individual_id condition\n",
       "1 HPSI0114i-bezi_3--d52_tr HPSI0114i-bezi_3       d52_tr   \n",
       "2 HPSI0114i-eipl_1--d52_tr HPSI0114i-eipl_1       d52_tr   \n",
       "3 HPSI0114i-lexy_2--d52_tr HPSI0114i-lexy_2       d52_tr   \n",
       "4 HPSI0114i-posc_1--d52_tr HPSI0114i-posc_1       d52_tr   \n",
       "5 HPSI0114i-rozh_4--d52_tr HPSI0114i-rozh_4       d52_tr   \n",
       "6 HPSI0114i-vass_1--d52_tr HPSI0114i-vass_1       d52_tr   "
      ]
     },
     "metadata": {},
     "output_type": "display_data"
    }
   ],
   "source": [
    "df2 = smf\n",
    "df2$condition = gsub(\".*--\",\"\",df2$phenotype_sample_id)\n",
    "head(df2)"
   ]
  },
  {
   "cell_type": "code",
   "execution_count": 295,
   "id": "74a0b3de",
   "metadata": {},
   "outputs": [],
   "source": [
    "########## Day 30"
   ]
  },
  {
   "cell_type": "code",
   "execution_count": 296,
   "id": "a6363a21",
   "metadata": {},
   "outputs": [
    {
     "data": {
      "text/html": [
       "0"
      ],
      "text/latex": [
       "0"
      ],
      "text/markdown": [
       "0"
      ],
      "text/plain": [
       "[1] 0"
      ]
     },
     "metadata": {},
     "output_type": "display_data"
    },
    {
     "data": {
      "text/html": [
       "<table>\n",
       "<thead><tr><th scope=col>phenotype_sample_id</th><th scope=col>genotype_individual_id</th><th scope=col>condition</th></tr></thead>\n",
       "<tbody>\n",
       "</tbody>\n",
       "</table>\n"
      ],
      "text/latex": [
       "\\begin{tabular}{r|lll}\n",
       " phenotype\\_sample\\_id & genotype\\_individual\\_id & condition\\\\\n",
       "\\hline\n",
       "\\end{tabular}\n"
      ],
      "text/markdown": [
       "\n",
       "| phenotype_sample_id | genotype_individual_id | condition |\n",
       "|---|---|---|\n",
       "\n"
      ],
      "text/plain": [
       "     phenotype_sample_id genotype_individual_id condition"
      ]
     },
     "metadata": {},
     "output_type": "display_data"
    }
   ],
   "source": [
    "df2_d30 = df2[df2$condition == \"d30\",]\n",
    "nrow(df2_d30)\n",
    "head(df2_d30)"
   ]
  },
  {
   "cell_type": "code",
   "execution_count": 297,
   "id": "4f9e99d7",
   "metadata": {},
   "outputs": [
    {
     "data": {
      "text/html": [
       "<table>\n",
       "<thead><tr><th scope=col>index</th><th scope=col>PC1</th><th scope=col>PC2</th><th scope=col>PC3</th><th scope=col>PC4</th><th scope=col>PC5</th><th scope=col>PC6</th><th scope=col>PC7</th><th scope=col>PC8</th><th scope=col>PC9</th><th scope=col>PC10</th><th scope=col>PC11</th><th scope=col>PC12</th><th scope=col>PC13</th><th scope=col>PC14</th><th scope=col>PC15</th></tr></thead>\n",
       "<tbody>\n",
       "\t<tr><td>HPSI0114i-bezi_3</td><td>-1.948027       </td><td>-2.5900708      </td><td>4.5089495       </td><td>-2.6350146      </td><td>-4.453665       </td><td>-0.178637       </td><td>-0.05334337     </td><td>2.363373        </td><td>-0.26922274     </td><td>0.3278587       </td><td>-0.7361589      </td><td>0.581806        </td><td>-0.1116243      </td><td>-0.1301133      </td><td> 0.739564784    </td></tr>\n",
       "\t<tr><td>HPSI0114i-eipl_1</td><td>-3.956477       </td><td> 0.5653737      </td><td>0.8938484       </td><td> 0.7699863      </td><td> 1.267275       </td><td>-1.144328       </td><td> 0.14796224     </td><td>2.736208        </td><td>-0.04392253     </td><td>0.6213446       </td><td> 1.0482619      </td><td>1.747395        </td><td>-0.3976385      </td><td>-0.5208290      </td><td>-0.004070794    </td></tr>\n",
       "</tbody>\n",
       "</table>\n"
      ],
      "text/latex": [
       "\\begin{tabular}{r|llllllllllllllll}\n",
       " index & PC1 & PC2 & PC3 & PC4 & PC5 & PC6 & PC7 & PC8 & PC9 & PC10 & PC11 & PC12 & PC13 & PC14 & PC15\\\\\n",
       "\\hline\n",
       "\t HPSI0114i-bezi\\_3 & -1.948027          & -2.5900708         & 4.5089495          & -2.6350146         & -4.453665          & -0.178637          & -0.05334337        & 2.363373           & -0.26922274        & 0.3278587          & -0.7361589         & 0.581806           & -0.1116243         & -0.1301133         &  0.739564784      \\\\\n",
       "\t HPSI0114i-eipl\\_1 & -3.956477          &  0.5653737         & 0.8938484          &  0.7699863         &  1.267275          & -1.144328          &  0.14796224        & 2.736208           & -0.04392253        & 0.6213446          &  1.0482619         & 1.747395           & -0.3976385         & -0.5208290         & -0.004070794      \\\\\n",
       "\\end{tabular}\n"
      ],
      "text/markdown": [
       "\n",
       "| index | PC1 | PC2 | PC3 | PC4 | PC5 | PC6 | PC7 | PC8 | PC9 | PC10 | PC11 | PC12 | PC13 | PC14 | PC15 |\n",
       "|---|---|---|---|---|---|---|---|---|---|---|---|---|---|---|---|\n",
       "| HPSI0114i-bezi_3 | -1.948027        | -2.5900708       | 4.5089495        | -2.6350146       | -4.453665        | -0.178637        | -0.05334337      | 2.363373         | -0.26922274      | 0.3278587        | -0.7361589       | 0.581806         | -0.1116243       | -0.1301133       |  0.739564784     |\n",
       "| HPSI0114i-eipl_1 | -3.956477        |  0.5653737       | 0.8938484        |  0.7699863       |  1.267275        | -1.144328        |  0.14796224      | 2.736208         | -0.04392253      | 0.6213446        |  1.0482619       | 1.747395         | -0.3976385       | -0.5208290       | -0.004070794     |\n",
       "\n"
      ],
      "text/plain": [
       "  index            PC1       PC2        PC3       PC4        PC5      \n",
       "1 HPSI0114i-bezi_3 -1.948027 -2.5900708 4.5089495 -2.6350146 -4.453665\n",
       "2 HPSI0114i-eipl_1 -3.956477  0.5653737 0.8938484  0.7699863  1.267275\n",
       "  PC6       PC7         PC8      PC9         PC10      PC11       PC12    \n",
       "1 -0.178637 -0.05334337 2.363373 -0.26922274 0.3278587 -0.7361589 0.581806\n",
       "2 -1.144328  0.14796224 2.736208 -0.04392253 0.6213446  1.0482619 1.747395\n",
       "  PC13       PC14       PC15        \n",
       "1 -0.1116243 -0.1301133  0.739564784\n",
       "2 -0.3976385 -0.5208290 -0.004070794"
      ]
     },
     "metadata": {},
     "output_type": "display_data"
    }
   ],
   "source": [
    "cov_d30 = read.csv(cov_file_d30, sep=\"\\t\")\n",
    "head(cov_d30,2)"
   ]
  },
  {
   "cell_type": "code",
   "execution_count": 298,
   "id": "fed60443",
   "metadata": {},
   "outputs": [
    {
     "name": "stderr",
     "output_type": "stream",
     "text": [
      "Joining, by = \"genotype_individual_id\"\n"
     ]
    },
    {
     "data": {
      "text/html": [
       "0"
      ],
      "text/latex": [
       "0"
      ],
      "text/markdown": [
       "0"
      ],
      "text/plain": [
       "[1] 0"
      ]
     },
     "metadata": {},
     "output_type": "display_data"
    },
    {
     "data": {
      "text/html": [
       "<table>\n",
       "<thead><tr><th scope=col>phenotype_sample_id</th><th scope=col>genotype_individual_id</th><th scope=col>condition</th><th scope=col>index</th><th scope=col>PC1</th><th scope=col>PC2</th><th scope=col>PC3</th><th scope=col>PC4</th><th scope=col>PC5</th><th scope=col>PC6</th><th scope=col>PC7</th><th scope=col>PC8</th><th scope=col>PC9</th><th scope=col>PC10</th><th scope=col>PC11</th><th scope=col>PC12</th><th scope=col>PC13</th><th scope=col>PC14</th><th scope=col>PC15</th></tr></thead>\n",
       "<tbody>\n",
       "</tbody>\n",
       "</table>\n"
      ],
      "text/latex": [
       "\\begin{tabular}{r|lllllllllllllllllll}\n",
       " phenotype\\_sample\\_id & genotype\\_individual\\_id & condition & index & PC1 & PC2 & PC3 & PC4 & PC5 & PC6 & PC7 & PC8 & PC9 & PC10 & PC11 & PC12 & PC13 & PC14 & PC15\\\\\n",
       "\\hline\n",
       "\\end{tabular}\n"
      ],
      "text/markdown": [
       "\n",
       "| phenotype_sample_id | genotype_individual_id | condition | index | PC1 | PC2 | PC3 | PC4 | PC5 | PC6 | PC7 | PC8 | PC9 | PC10 | PC11 | PC12 | PC13 | PC14 | PC15 |\n",
       "|---|---|---|---|---|---|---|---|---|---|---|---|---|---|---|---|---|---|---|\n",
       "\n"
      ],
      "text/plain": [
       "     phenotype_sample_id genotype_individual_id condition index PC1 PC2 PC3 PC4\n",
       "     PC5 PC6 PC7 PC8 PC9 PC10 PC11 PC12 PC13 PC14 PC15"
      ]
     },
     "metadata": {},
     "output_type": "display_data"
    }
   ],
   "source": [
    "cov_d30$genotype_individual_id = cov_d30$index\n",
    "cov_d30_df = left_join(df2_d30, cov_d30)\n",
    "nrow(cov_d30_df)\n",
    "head(cov_d30_df)"
   ]
  },
  {
   "cell_type": "code",
   "execution_count": 299,
   "id": "ea65e601",
   "metadata": {},
   "outputs": [],
   "source": [
    "########## Day 52 untreated"
   ]
  },
  {
   "cell_type": "code",
   "execution_count": 300,
   "id": "c03b9545",
   "metadata": {},
   "outputs": [
    {
     "data": {
      "text/html": [
       "27"
      ],
      "text/latex": [
       "27"
      ],
      "text/markdown": [
       "27"
      ],
      "text/plain": [
       "[1] 27"
      ]
     },
     "metadata": {},
     "output_type": "display_data"
    },
    {
     "data": {
      "text/html": [
       "<table>\n",
       "<thead><tr><th></th><th scope=col>phenotype_sample_id</th><th scope=col>genotype_individual_id</th><th scope=col>condition</th></tr></thead>\n",
       "<tbody>\n",
       "\t<tr><th scope=row>8</th><td>HPSI0114i-wegi_1--d52_untr</td><td>HPSI0114i-wegi_1          </td><td>d52_untr                  </td></tr>\n",
       "\t<tr><th scope=row>14</th><td>HPSI0214i-datg_2--d52_untr</td><td>HPSI0214i-datg_2          </td><td>d52_untr                  </td></tr>\n",
       "\t<tr><th scope=row>17</th><td>HPSI0214i-giju_3--d52_untr</td><td>HPSI0214i-giju_3          </td><td>d52_untr                  </td></tr>\n",
       "\t<tr><th scope=row>22</th><td>HPSI0215i-deyz_2--d52_untr</td><td>HPSI0215i-deyz_2          </td><td>d52_untr                  </td></tr>\n",
       "\t<tr><th scope=row>24</th><td>HPSI0215i-fawm_2--d52_untr</td><td>HPSI0215i-fawm_2          </td><td>d52_untr                  </td></tr>\n",
       "\t<tr><th scope=row>27</th><td>HPSI0215i-zett_5--d52_untr</td><td>HPSI0215i-zett_5          </td><td>d52_untr                  </td></tr>\n",
       "</tbody>\n",
       "</table>\n"
      ],
      "text/latex": [
       "\\begin{tabular}{r|lll}\n",
       "  & phenotype\\_sample\\_id & genotype\\_individual\\_id & condition\\\\\n",
       "\\hline\n",
       "\t8 & HPSI0114i-wegi\\_1--d52\\_untr & HPSI0114i-wegi\\_1             & d52\\_untr                    \\\\\n",
       "\t14 & HPSI0214i-datg\\_2--d52\\_untr & HPSI0214i-datg\\_2             & d52\\_untr                    \\\\\n",
       "\t17 & HPSI0214i-giju\\_3--d52\\_untr & HPSI0214i-giju\\_3             & d52\\_untr                    \\\\\n",
       "\t22 & HPSI0215i-deyz\\_2--d52\\_untr & HPSI0215i-deyz\\_2             & d52\\_untr                    \\\\\n",
       "\t24 & HPSI0215i-fawm\\_2--d52\\_untr & HPSI0215i-fawm\\_2             & d52\\_untr                    \\\\\n",
       "\t27 & HPSI0215i-zett\\_5--d52\\_untr & HPSI0215i-zett\\_5             & d52\\_untr                    \\\\\n",
       "\\end{tabular}\n"
      ],
      "text/markdown": [
       "\n",
       "| <!--/--> | phenotype_sample_id | genotype_individual_id | condition |\n",
       "|---|---|---|---|\n",
       "| 8 | HPSI0114i-wegi_1--d52_untr | HPSI0114i-wegi_1           | d52_untr                   |\n",
       "| 14 | HPSI0214i-datg_2--d52_untr | HPSI0214i-datg_2           | d52_untr                   |\n",
       "| 17 | HPSI0214i-giju_3--d52_untr | HPSI0214i-giju_3           | d52_untr                   |\n",
       "| 22 | HPSI0215i-deyz_2--d52_untr | HPSI0215i-deyz_2           | d52_untr                   |\n",
       "| 24 | HPSI0215i-fawm_2--d52_untr | HPSI0215i-fawm_2           | d52_untr                   |\n",
       "| 27 | HPSI0215i-zett_5--d52_untr | HPSI0215i-zett_5           | d52_untr                   |\n",
       "\n"
      ],
      "text/plain": [
       "   phenotype_sample_id        genotype_individual_id condition\n",
       "8  HPSI0114i-wegi_1--d52_untr HPSI0114i-wegi_1       d52_untr \n",
       "14 HPSI0214i-datg_2--d52_untr HPSI0214i-datg_2       d52_untr \n",
       "17 HPSI0214i-giju_3--d52_untr HPSI0214i-giju_3       d52_untr \n",
       "22 HPSI0215i-deyz_2--d52_untr HPSI0215i-deyz_2       d52_untr \n",
       "24 HPSI0215i-fawm_2--d52_untr HPSI0215i-fawm_2       d52_untr \n",
       "27 HPSI0215i-zett_5--d52_untr HPSI0215i-zett_5       d52_untr "
      ]
     },
     "metadata": {},
     "output_type": "display_data"
    }
   ],
   "source": [
    "df2_d52 = df2[df2$condition == \"d52_untr\",]\n",
    "nrow(df2_d52)\n",
    "head(df2_d52)"
   ]
  },
  {
   "cell_type": "code",
   "execution_count": 301,
   "id": "327a3eeb",
   "metadata": {},
   "outputs": [
    {
     "data": {
      "text/html": [
       "<table>\n",
       "<thead><tr><th scope=col>index</th><th scope=col>PC1</th><th scope=col>PC2</th><th scope=col>PC3</th><th scope=col>PC4</th><th scope=col>PC5</th><th scope=col>PC6</th><th scope=col>PC7</th><th scope=col>PC8</th><th scope=col>PC9</th><th scope=col>PC10</th><th scope=col>PC11</th><th scope=col>PC12</th><th scope=col>PC13</th><th scope=col>PC14</th><th scope=col>PC15</th></tr></thead>\n",
       "<tbody>\n",
       "\t<tr><td>HPSI0114i-bezi_3</td><td> 0.8640814      </td><td>-4.361559       </td><td>-1.0140034      </td><td>0.555423        </td><td>-2.8582352      </td><td> 1.992928       </td><td>-2.3758218      </td><td>1.708212        </td><td>-1.239689       </td><td>-1.4294052      </td><td>-2.727559       </td><td> 1.1538751      </td><td>-0.05030145     </td><td>0.01835942      </td><td>-0.04474154     </td></tr>\n",
       "\t<tr><td>HPSI0114i-eipl_1</td><td>-1.5518218      </td><td> 1.542313       </td><td> 0.3813373      </td><td>2.837237        </td><td>-0.6405574      </td><td>-2.218037       </td><td> 0.1144922      </td><td>1.650143        </td><td> 1.147809       </td><td>-0.7261294      </td><td>-1.046760       </td><td>-0.9495843      </td><td>-0.09725949     </td><td>0.22564761      </td><td> 0.58281519     </td></tr>\n",
       "</tbody>\n",
       "</table>\n"
      ],
      "text/latex": [
       "\\begin{tabular}{r|llllllllllllllll}\n",
       " index & PC1 & PC2 & PC3 & PC4 & PC5 & PC6 & PC7 & PC8 & PC9 & PC10 & PC11 & PC12 & PC13 & PC14 & PC15\\\\\n",
       "\\hline\n",
       "\t HPSI0114i-bezi\\_3 &  0.8640814         & -4.361559          & -1.0140034         & 0.555423           & -2.8582352         &  1.992928          & -2.3758218         & 1.708212           & -1.239689          & -1.4294052         & -2.727559          &  1.1538751         & -0.05030145        & 0.01835942         & -0.04474154       \\\\\n",
       "\t HPSI0114i-eipl\\_1 & -1.5518218         &  1.542313          &  0.3813373         & 2.837237           & -0.6405574         & -2.218037          &  0.1144922         & 1.650143           &  1.147809          & -0.7261294         & -1.046760          & -0.9495843         & -0.09725949        & 0.22564761         &  0.58281519       \\\\\n",
       "\\end{tabular}\n"
      ],
      "text/markdown": [
       "\n",
       "| index | PC1 | PC2 | PC3 | PC4 | PC5 | PC6 | PC7 | PC8 | PC9 | PC10 | PC11 | PC12 | PC13 | PC14 | PC15 |\n",
       "|---|---|---|---|---|---|---|---|---|---|---|---|---|---|---|---|\n",
       "| HPSI0114i-bezi_3 |  0.8640814       | -4.361559        | -1.0140034       | 0.555423         | -2.8582352       |  1.992928        | -2.3758218       | 1.708212         | -1.239689        | -1.4294052       | -2.727559        |  1.1538751       | -0.05030145      | 0.01835942       | -0.04474154      |\n",
       "| HPSI0114i-eipl_1 | -1.5518218       |  1.542313        |  0.3813373       | 2.837237         | -0.6405574       | -2.218037        |  0.1144922       | 1.650143         |  1.147809        | -0.7261294       | -1.046760        | -0.9495843       | -0.09725949      | 0.22564761       |  0.58281519      |\n",
       "\n"
      ],
      "text/plain": [
       "  index            PC1        PC2       PC3        PC4      PC5       \n",
       "1 HPSI0114i-bezi_3  0.8640814 -4.361559 -1.0140034 0.555423 -2.8582352\n",
       "2 HPSI0114i-eipl_1 -1.5518218  1.542313  0.3813373 2.837237 -0.6405574\n",
       "  PC6       PC7        PC8      PC9       PC10       PC11      PC12      \n",
       "1  1.992928 -2.3758218 1.708212 -1.239689 -1.4294052 -2.727559  1.1538751\n",
       "2 -2.218037  0.1144922 1.650143  1.147809 -0.7261294 -1.046760 -0.9495843\n",
       "  PC13        PC14       PC15       \n",
       "1 -0.05030145 0.01835942 -0.04474154\n",
       "2 -0.09725949 0.22564761  0.58281519"
      ]
     },
     "metadata": {},
     "output_type": "display_data"
    }
   ],
   "source": [
    "cov_d52 = read.csv(cov_file_d52_untr, sep=\"\\t\")\n",
    "head(cov_d52,2)"
   ]
  },
  {
   "cell_type": "code",
   "execution_count": 302,
   "id": "96f5019b",
   "metadata": {},
   "outputs": [
    {
     "name": "stderr",
     "output_type": "stream",
     "text": [
      "Joining, by = \"genotype_individual_id\"\n"
     ]
    },
    {
     "data": {
      "text/html": [
       "27"
      ],
      "text/latex": [
       "27"
      ],
      "text/markdown": [
       "27"
      ],
      "text/plain": [
       "[1] 27"
      ]
     },
     "metadata": {},
     "output_type": "display_data"
    },
    {
     "data": {
      "text/html": [
       "<table>\n",
       "<thead><tr><th scope=col>phenotype_sample_id</th><th scope=col>genotype_individual_id</th><th scope=col>condition</th><th scope=col>index</th><th scope=col>PC1</th><th scope=col>PC2</th><th scope=col>PC3</th><th scope=col>PC4</th><th scope=col>PC5</th><th scope=col>PC6</th><th scope=col>PC7</th><th scope=col>PC8</th><th scope=col>PC9</th><th scope=col>PC10</th><th scope=col>PC11</th><th scope=col>PC12</th><th scope=col>PC13</th><th scope=col>PC14</th><th scope=col>PC15</th></tr></thead>\n",
       "<tbody>\n",
       "\t<tr><td>HPSI0114i-wegi_1--d52_untr</td><td>HPSI0114i-wegi_1          </td><td>d52_untr                  </td><td>HPSI0114i-wegi_1          </td><td>-3.4143435                </td><td> 2.2390724                </td><td> 1.4260678                </td><td>-2.288009                 </td><td>-0.3690028                </td><td>-0.81461126               </td><td>-1.6999524                </td><td>-0.6134962                </td><td>-0.70425987               </td><td>-0.3472279                </td><td>-1.714723                 </td><td> 0.1043934                </td><td> 0.4736800                </td><td> 0.5696887                </td><td> 0.01207237               </td></tr>\n",
       "\t<tr><td>HPSI0214i-datg_2--d52_untr</td><td>HPSI0214i-datg_2          </td><td>d52_untr                  </td><td>HPSI0214i-datg_2          </td><td>-1.4859684                </td><td>-2.2352488                </td><td> 1.2074826                </td><td>-1.555106                 </td><td>-1.3003985                </td><td>-1.87283981               </td><td>-1.2474994                </td><td> 1.8331822                </td><td>-0.51896956               </td><td> 1.1374874                </td><td> 1.274917                 </td><td>-0.2315937                </td><td>-1.2808534                </td><td>-0.3971818                </td><td>-0.14173153               </td></tr>\n",
       "\t<tr><td>HPSI0214i-giju_3--d52_untr</td><td>HPSI0214i-giju_3          </td><td>d52_untr                  </td><td>HPSI0214i-giju_3          </td><td>-0.4439215                </td><td>-1.4518310                </td><td>-0.2615706                </td><td>-1.234298                 </td><td>-1.8252151                </td><td>-1.32627480               </td><td>-0.1206340                </td><td> 0.1853509                </td><td> 0.68407796               </td><td>-0.6603311                </td><td>-1.504026                 </td><td>-1.6422411                </td><td> 0.4443124                </td><td>-0.3004245                </td><td>-0.16583843               </td></tr>\n",
       "\t<tr><td>HPSI0215i-deyz_2--d52_untr</td><td>HPSI0215i-deyz_2          </td><td>d52_untr                  </td><td>HPSI0215i-deyz_2          </td><td>-1.1952100                </td><td>-0.1484187                </td><td> 1.2283526                </td><td>-2.314684                 </td><td>-2.6866960                </td><td>-0.39763077               </td><td>-0.3680670                </td><td> 1.0442771                </td><td> 0.95798793               </td><td> 2.2887171                </td><td>-1.311187                 </td><td>-2.6016133                </td><td>-0.7846649                </td><td> 0.7096001                </td><td> 0.10725726               </td></tr>\n",
       "\t<tr><td>HPSI0215i-fawm_2--d52_untr</td><td>HPSI0215i-fawm_2          </td><td>d52_untr                  </td><td>HPSI0215i-fawm_2          </td><td>-1.3982049                </td><td>-0.2705334                </td><td> 0.5505791                </td><td>-1.709138                 </td><td>-1.8219630                </td><td>-0.06412213               </td><td> 0.5447668                </td><td>-0.6171462                </td><td> 0.07699718               </td><td> 2.3019333                </td><td>-1.316103                 </td><td>-1.6793541                </td><td>-0.2272098                </td><td> 0.6063496                </td><td> 1.02185860               </td></tr>\n",
       "\t<tr><td>HPSI0215i-zett_5--d52_untr</td><td>HPSI0215i-zett_5          </td><td>d52_untr                  </td><td>HPSI0215i-zett_5          </td><td>-3.3118948                </td><td> 1.8054551                </td><td> 1.2571571                </td><td>-1.212694                 </td><td>-3.7717619                </td><td>-0.54597984               </td><td>-2.4345343                </td><td> 0.7249700                </td><td> 0.59139851               </td><td>-1.1066454                </td><td> 1.115697                 </td><td> 0.2764818                </td><td>-0.7270389                </td><td>-0.7085684                </td><td>-0.56170487               </td></tr>\n",
       "</tbody>\n",
       "</table>\n"
      ],
      "text/latex": [
       "\\begin{tabular}{r|lllllllllllllllllll}\n",
       " phenotype\\_sample\\_id & genotype\\_individual\\_id & condition & index & PC1 & PC2 & PC3 & PC4 & PC5 & PC6 & PC7 & PC8 & PC9 & PC10 & PC11 & PC12 & PC13 & PC14 & PC15\\\\\n",
       "\\hline\n",
       "\t HPSI0114i-wegi\\_1--d52\\_untr & HPSI0114i-wegi\\_1             & d52\\_untr                     & HPSI0114i-wegi\\_1             & -3.4143435                     &  2.2390724                     &  1.4260678                     & -2.288009                      & -0.3690028                     & -0.81461126                    & -1.6999524                     & -0.6134962                     & -0.70425987                    & -0.3472279                     & -1.714723                      &  0.1043934                     &  0.4736800                     &  0.5696887                     &  0.01207237                   \\\\\n",
       "\t HPSI0214i-datg\\_2--d52\\_untr & HPSI0214i-datg\\_2             & d52\\_untr                     & HPSI0214i-datg\\_2             & -1.4859684                     & -2.2352488                     &  1.2074826                     & -1.555106                      & -1.3003985                     & -1.87283981                    & -1.2474994                     &  1.8331822                     & -0.51896956                    &  1.1374874                     &  1.274917                      & -0.2315937                     & -1.2808534                     & -0.3971818                     & -0.14173153                   \\\\\n",
       "\t HPSI0214i-giju\\_3--d52\\_untr & HPSI0214i-giju\\_3             & d52\\_untr                     & HPSI0214i-giju\\_3             & -0.4439215                     & -1.4518310                     & -0.2615706                     & -1.234298                      & -1.8252151                     & -1.32627480                    & -0.1206340                     &  0.1853509                     &  0.68407796                    & -0.6603311                     & -1.504026                      & -1.6422411                     &  0.4443124                     & -0.3004245                     & -0.16583843                   \\\\\n",
       "\t HPSI0215i-deyz\\_2--d52\\_untr & HPSI0215i-deyz\\_2             & d52\\_untr                     & HPSI0215i-deyz\\_2             & -1.1952100                     & -0.1484187                     &  1.2283526                     & -2.314684                      & -2.6866960                     & -0.39763077                    & -0.3680670                     &  1.0442771                     &  0.95798793                    &  2.2887171                     & -1.311187                      & -2.6016133                     & -0.7846649                     &  0.7096001                     &  0.10725726                   \\\\\n",
       "\t HPSI0215i-fawm\\_2--d52\\_untr & HPSI0215i-fawm\\_2             & d52\\_untr                     & HPSI0215i-fawm\\_2             & -1.3982049                     & -0.2705334                     &  0.5505791                     & -1.709138                      & -1.8219630                     & -0.06412213                    &  0.5447668                     & -0.6171462                     &  0.07699718                    &  2.3019333                     & -1.316103                      & -1.6793541                     & -0.2272098                     &  0.6063496                     &  1.02185860                   \\\\\n",
       "\t HPSI0215i-zett\\_5--d52\\_untr & HPSI0215i-zett\\_5             & d52\\_untr                     & HPSI0215i-zett\\_5             & -3.3118948                     &  1.8054551                     &  1.2571571                     & -1.212694                      & -3.7717619                     & -0.54597984                    & -2.4345343                     &  0.7249700                     &  0.59139851                    & -1.1066454                     &  1.115697                      &  0.2764818                     & -0.7270389                     & -0.7085684                     & -0.56170487                   \\\\\n",
       "\\end{tabular}\n"
      ],
      "text/markdown": [
       "\n",
       "| phenotype_sample_id | genotype_individual_id | condition | index | PC1 | PC2 | PC3 | PC4 | PC5 | PC6 | PC7 | PC8 | PC9 | PC10 | PC11 | PC12 | PC13 | PC14 | PC15 |\n",
       "|---|---|---|---|---|---|---|---|---|---|---|---|---|---|---|---|---|---|---|\n",
       "| HPSI0114i-wegi_1--d52_untr | HPSI0114i-wegi_1           | d52_untr                   | HPSI0114i-wegi_1           | -3.4143435                 |  2.2390724                 |  1.4260678                 | -2.288009                  | -0.3690028                 | -0.81461126                | -1.6999524                 | -0.6134962                 | -0.70425987                | -0.3472279                 | -1.714723                  |  0.1043934                 |  0.4736800                 |  0.5696887                 |  0.01207237                |\n",
       "| HPSI0214i-datg_2--d52_untr | HPSI0214i-datg_2           | d52_untr                   | HPSI0214i-datg_2           | -1.4859684                 | -2.2352488                 |  1.2074826                 | -1.555106                  | -1.3003985                 | -1.87283981                | -1.2474994                 |  1.8331822                 | -0.51896956                |  1.1374874                 |  1.274917                  | -0.2315937                 | -1.2808534                 | -0.3971818                 | -0.14173153                |\n",
       "| HPSI0214i-giju_3--d52_untr | HPSI0214i-giju_3           | d52_untr                   | HPSI0214i-giju_3           | -0.4439215                 | -1.4518310                 | -0.2615706                 | -1.234298                  | -1.8252151                 | -1.32627480                | -0.1206340                 |  0.1853509                 |  0.68407796                | -0.6603311                 | -1.504026                  | -1.6422411                 |  0.4443124                 | -0.3004245                 | -0.16583843                |\n",
       "| HPSI0215i-deyz_2--d52_untr | HPSI0215i-deyz_2           | d52_untr                   | HPSI0215i-deyz_2           | -1.1952100                 | -0.1484187                 |  1.2283526                 | -2.314684                  | -2.6866960                 | -0.39763077                | -0.3680670                 |  1.0442771                 |  0.95798793                |  2.2887171                 | -1.311187                  | -2.6016133                 | -0.7846649                 |  0.7096001                 |  0.10725726                |\n",
       "| HPSI0215i-fawm_2--d52_untr | HPSI0215i-fawm_2           | d52_untr                   | HPSI0215i-fawm_2           | -1.3982049                 | -0.2705334                 |  0.5505791                 | -1.709138                  | -1.8219630                 | -0.06412213                |  0.5447668                 | -0.6171462                 |  0.07699718                |  2.3019333                 | -1.316103                  | -1.6793541                 | -0.2272098                 |  0.6063496                 |  1.02185860                |\n",
       "| HPSI0215i-zett_5--d52_untr | HPSI0215i-zett_5           | d52_untr                   | HPSI0215i-zett_5           | -3.3118948                 |  1.8054551                 |  1.2571571                 | -1.212694                  | -3.7717619                 | -0.54597984                | -2.4345343                 |  0.7249700                 |  0.59139851                | -1.1066454                 |  1.115697                  |  0.2764818                 | -0.7270389                 | -0.7085684                 | -0.56170487                |\n",
       "\n"
      ],
      "text/plain": [
       "  phenotype_sample_id        genotype_individual_id condition index           \n",
       "1 HPSI0114i-wegi_1--d52_untr HPSI0114i-wegi_1       d52_untr  HPSI0114i-wegi_1\n",
       "2 HPSI0214i-datg_2--d52_untr HPSI0214i-datg_2       d52_untr  HPSI0214i-datg_2\n",
       "3 HPSI0214i-giju_3--d52_untr HPSI0214i-giju_3       d52_untr  HPSI0214i-giju_3\n",
       "4 HPSI0215i-deyz_2--d52_untr HPSI0215i-deyz_2       d52_untr  HPSI0215i-deyz_2\n",
       "5 HPSI0215i-fawm_2--d52_untr HPSI0215i-fawm_2       d52_untr  HPSI0215i-fawm_2\n",
       "6 HPSI0215i-zett_5--d52_untr HPSI0215i-zett_5       d52_untr  HPSI0215i-zett_5\n",
       "  PC1        PC2        PC3        PC4       PC5        PC6         PC7       \n",
       "1 -3.4143435  2.2390724  1.4260678 -2.288009 -0.3690028 -0.81461126 -1.6999524\n",
       "2 -1.4859684 -2.2352488  1.2074826 -1.555106 -1.3003985 -1.87283981 -1.2474994\n",
       "3 -0.4439215 -1.4518310 -0.2615706 -1.234298 -1.8252151 -1.32627480 -0.1206340\n",
       "4 -1.1952100 -0.1484187  1.2283526 -2.314684 -2.6866960 -0.39763077 -0.3680670\n",
       "5 -1.3982049 -0.2705334  0.5505791 -1.709138 -1.8219630 -0.06412213  0.5447668\n",
       "6 -3.3118948  1.8054551  1.2571571 -1.212694 -3.7717619 -0.54597984 -2.4345343\n",
       "  PC8        PC9         PC10       PC11      PC12       PC13       PC14      \n",
       "1 -0.6134962 -0.70425987 -0.3472279 -1.714723  0.1043934  0.4736800  0.5696887\n",
       "2  1.8331822 -0.51896956  1.1374874  1.274917 -0.2315937 -1.2808534 -0.3971818\n",
       "3  0.1853509  0.68407796 -0.6603311 -1.504026 -1.6422411  0.4443124 -0.3004245\n",
       "4  1.0442771  0.95798793  2.2887171 -1.311187 -2.6016133 -0.7846649  0.7096001\n",
       "5 -0.6171462  0.07699718  2.3019333 -1.316103 -1.6793541 -0.2272098  0.6063496\n",
       "6  0.7249700  0.59139851 -1.1066454  1.115697  0.2764818 -0.7270389 -0.7085684\n",
       "  PC15       \n",
       "1  0.01207237\n",
       "2 -0.14173153\n",
       "3 -0.16583843\n",
       "4  0.10725726\n",
       "5  1.02185860\n",
       "6 -0.56170487"
      ]
     },
     "metadata": {},
     "output_type": "display_data"
    }
   ],
   "source": [
    "cov_d52$genotype_individual_id = cov_d52$index\n",
    "cov_d52_df = left_join(df2_d52, cov_d52)\n",
    "nrow(cov_d52_df)\n",
    "head(cov_d52_df)"
   ]
  },
  {
   "cell_type": "code",
   "execution_count": 303,
   "id": "6d8ee6bc",
   "metadata": {},
   "outputs": [],
   "source": [
    "########## Day 52 rotenone-treated"
   ]
  },
  {
   "cell_type": "code",
   "execution_count": 304,
   "id": "6b878b38",
   "metadata": {},
   "outputs": [
    {
     "data": {
      "text/html": [
       "85"
      ],
      "text/latex": [
       "85"
      ],
      "text/markdown": [
       "85"
      ],
      "text/plain": [
       "[1] 85"
      ]
     },
     "metadata": {},
     "output_type": "display_data"
    },
    {
     "data": {
      "text/html": [
       "<table>\n",
       "<thead><tr><th scope=col>phenotype_sample_id</th><th scope=col>genotype_individual_id</th><th scope=col>condition</th></tr></thead>\n",
       "<tbody>\n",
       "\t<tr><td>HPSI0114i-bezi_3--d52_tr</td><td>HPSI0114i-bezi_3        </td><td>d52_tr                  </td></tr>\n",
       "\t<tr><td>HPSI0114i-eipl_1--d52_tr</td><td>HPSI0114i-eipl_1        </td><td>d52_tr                  </td></tr>\n",
       "\t<tr><td>HPSI0114i-lexy_2--d52_tr</td><td>HPSI0114i-lexy_2        </td><td>d52_tr                  </td></tr>\n",
       "\t<tr><td>HPSI0114i-posc_1--d52_tr</td><td>HPSI0114i-posc_1        </td><td>d52_tr                  </td></tr>\n",
       "\t<tr><td>HPSI0114i-rozh_4--d52_tr</td><td>HPSI0114i-rozh_4        </td><td>d52_tr                  </td></tr>\n",
       "\t<tr><td>HPSI0114i-vass_1--d52_tr</td><td>HPSI0114i-vass_1        </td><td>d52_tr                  </td></tr>\n",
       "</tbody>\n",
       "</table>\n"
      ],
      "text/latex": [
       "\\begin{tabular}{r|lll}\n",
       " phenotype\\_sample\\_id & genotype\\_individual\\_id & condition\\\\\n",
       "\\hline\n",
       "\t HPSI0114i-bezi\\_3--d52\\_tr & HPSI0114i-bezi\\_3           & d52\\_tr                    \\\\\n",
       "\t HPSI0114i-eipl\\_1--d52\\_tr & HPSI0114i-eipl\\_1           & d52\\_tr                    \\\\\n",
       "\t HPSI0114i-lexy\\_2--d52\\_tr & HPSI0114i-lexy\\_2           & d52\\_tr                    \\\\\n",
       "\t HPSI0114i-posc\\_1--d52\\_tr & HPSI0114i-posc\\_1           & d52\\_tr                    \\\\\n",
       "\t HPSI0114i-rozh\\_4--d52\\_tr & HPSI0114i-rozh\\_4           & d52\\_tr                    \\\\\n",
       "\t HPSI0114i-vass\\_1--d52\\_tr & HPSI0114i-vass\\_1           & d52\\_tr                    \\\\\n",
       "\\end{tabular}\n"
      ],
      "text/markdown": [
       "\n",
       "| phenotype_sample_id | genotype_individual_id | condition |\n",
       "|---|---|---|\n",
       "| HPSI0114i-bezi_3--d52_tr | HPSI0114i-bezi_3         | d52_tr                   |\n",
       "| HPSI0114i-eipl_1--d52_tr | HPSI0114i-eipl_1         | d52_tr                   |\n",
       "| HPSI0114i-lexy_2--d52_tr | HPSI0114i-lexy_2         | d52_tr                   |\n",
       "| HPSI0114i-posc_1--d52_tr | HPSI0114i-posc_1         | d52_tr                   |\n",
       "| HPSI0114i-rozh_4--d52_tr | HPSI0114i-rozh_4         | d52_tr                   |\n",
       "| HPSI0114i-vass_1--d52_tr | HPSI0114i-vass_1         | d52_tr                   |\n",
       "\n"
      ],
      "text/plain": [
       "  phenotype_sample_id      genotype_individual_id condition\n",
       "1 HPSI0114i-bezi_3--d52_tr HPSI0114i-bezi_3       d52_tr   \n",
       "2 HPSI0114i-eipl_1--d52_tr HPSI0114i-eipl_1       d52_tr   \n",
       "3 HPSI0114i-lexy_2--d52_tr HPSI0114i-lexy_2       d52_tr   \n",
       "4 HPSI0114i-posc_1--d52_tr HPSI0114i-posc_1       d52_tr   \n",
       "5 HPSI0114i-rozh_4--d52_tr HPSI0114i-rozh_4       d52_tr   \n",
       "6 HPSI0114i-vass_1--d52_tr HPSI0114i-vass_1       d52_tr   "
      ]
     },
     "metadata": {},
     "output_type": "display_data"
    }
   ],
   "source": [
    "df2_d52_rot = df2[df2$condition == \"d52_tr\",]\n",
    "nrow(df2_d52_rot)\n",
    "head(df2_d52_rot)"
   ]
  },
  {
   "cell_type": "code",
   "execution_count": 305,
   "id": "22b49e30",
   "metadata": {},
   "outputs": [
    {
     "data": {
      "text/html": [
       "<table>\n",
       "<thead><tr><th scope=col>index</th><th scope=col>PC1</th><th scope=col>PC2</th><th scope=col>PC3</th><th scope=col>PC4</th><th scope=col>PC5</th><th scope=col>PC6</th><th scope=col>PC7</th><th scope=col>PC8</th><th scope=col>PC9</th><th scope=col>PC10</th><th scope=col>PC11</th><th scope=col>PC12</th><th scope=col>PC13</th><th scope=col>PC14</th><th scope=col>PC15</th></tr></thead>\n",
       "<tbody>\n",
       "\t<tr><td>HPSI0114i-bezi_3</td><td>-4.045387       </td><td>-3.502709       </td><td>1.774986        </td><td> 1.950318       </td><td>-2.087305       </td><td> 0.2173488      </td><td>-0.88865820     </td><td>2.3408758       </td><td> 1.7517868      </td><td>-2.4528090      </td><td>-0.08444563     </td><td>1.065154        </td><td>0.6622905       </td><td> 0.1241967      </td><td>-0.5390908      </td></tr>\n",
       "\t<tr><td>HPSI0114i-eipl_1</td><td> 5.297163       </td><td> 4.485782       </td><td>1.849603        </td><td>-1.622522       </td><td>-2.434677       </td><td>-2.5270915      </td><td> 0.03017665     </td><td>0.0134612       </td><td>-0.5269457      </td><td>-0.7186207      </td><td>-0.23752928     </td><td>2.344607        </td><td>0.5972651       </td><td>-0.5493923      </td><td> 0.1193866      </td></tr>\n",
       "</tbody>\n",
       "</table>\n"
      ],
      "text/latex": [
       "\\begin{tabular}{r|llllllllllllllll}\n",
       " index & PC1 & PC2 & PC3 & PC4 & PC5 & PC6 & PC7 & PC8 & PC9 & PC10 & PC11 & PC12 & PC13 & PC14 & PC15\\\\\n",
       "\\hline\n",
       "\t HPSI0114i-bezi\\_3 & -4.045387          & -3.502709          & 1.774986           &  1.950318          & -2.087305          &  0.2173488         & -0.88865820        & 2.3408758          &  1.7517868         & -2.4528090         & -0.08444563        & 1.065154           & 0.6622905          &  0.1241967         & -0.5390908        \\\\\n",
       "\t HPSI0114i-eipl\\_1 &  5.297163          &  4.485782          & 1.849603           & -1.622522          & -2.434677          & -2.5270915         &  0.03017665        & 0.0134612          & -0.5269457         & -0.7186207         & -0.23752928        & 2.344607           & 0.5972651          & -0.5493923         &  0.1193866        \\\\\n",
       "\\end{tabular}\n"
      ],
      "text/markdown": [
       "\n",
       "| index | PC1 | PC2 | PC3 | PC4 | PC5 | PC6 | PC7 | PC8 | PC9 | PC10 | PC11 | PC12 | PC13 | PC14 | PC15 |\n",
       "|---|---|---|---|---|---|---|---|---|---|---|---|---|---|---|---|\n",
       "| HPSI0114i-bezi_3 | -4.045387        | -3.502709        | 1.774986         |  1.950318        | -2.087305        |  0.2173488       | -0.88865820      | 2.3408758        |  1.7517868       | -2.4528090       | -0.08444563      | 1.065154         | 0.6622905        |  0.1241967       | -0.5390908       |\n",
       "| HPSI0114i-eipl_1 |  5.297163        |  4.485782        | 1.849603         | -1.622522        | -2.434677        | -2.5270915       |  0.03017665      | 0.0134612        | -0.5269457       | -0.7186207       | -0.23752928      | 2.344607         | 0.5972651        | -0.5493923       |  0.1193866       |\n",
       "\n"
      ],
      "text/plain": [
       "  index            PC1       PC2       PC3      PC4       PC5       PC6       \n",
       "1 HPSI0114i-bezi_3 -4.045387 -3.502709 1.774986  1.950318 -2.087305  0.2173488\n",
       "2 HPSI0114i-eipl_1  5.297163  4.485782 1.849603 -1.622522 -2.434677 -2.5270915\n",
       "  PC7         PC8       PC9        PC10       PC11        PC12     PC13     \n",
       "1 -0.88865820 2.3408758  1.7517868 -2.4528090 -0.08444563 1.065154 0.6622905\n",
       "2  0.03017665 0.0134612 -0.5269457 -0.7186207 -0.23752928 2.344607 0.5972651\n",
       "  PC14       PC15      \n",
       "1  0.1241967 -0.5390908\n",
       "2 -0.5493923  0.1193866"
      ]
     },
     "metadata": {},
     "output_type": "display_data"
    }
   ],
   "source": [
    "cov_d52_rot = read.csv(cov_file_d52_ROT_tr, sep=\"\\t\")\n",
    "head(cov_d52_rot,2)"
   ]
  },
  {
   "cell_type": "code",
   "execution_count": 306,
   "id": "4d4520d8",
   "metadata": {},
   "outputs": [
    {
     "name": "stderr",
     "output_type": "stream",
     "text": [
      "Joining, by = \"genotype_individual_id\"\n"
     ]
    },
    {
     "data": {
      "text/html": [
       "85"
      ],
      "text/latex": [
       "85"
      ],
      "text/markdown": [
       "85"
      ],
      "text/plain": [
       "[1] 85"
      ]
     },
     "metadata": {},
     "output_type": "display_data"
    },
    {
     "data": {
      "text/html": [
       "<table>\n",
       "<thead><tr><th scope=col>phenotype_sample_id</th><th scope=col>genotype_individual_id</th><th scope=col>condition</th><th scope=col>index</th><th scope=col>PC1</th><th scope=col>PC2</th><th scope=col>PC3</th><th scope=col>PC4</th><th scope=col>PC5</th><th scope=col>PC6</th><th scope=col>PC7</th><th scope=col>PC8</th><th scope=col>PC9</th><th scope=col>PC10</th><th scope=col>PC11</th><th scope=col>PC12</th><th scope=col>PC13</th><th scope=col>PC14</th><th scope=col>PC15</th></tr></thead>\n",
       "<tbody>\n",
       "\t<tr><td>HPSI0114i-bezi_3--d52_tr</td><td>HPSI0114i-bezi_3        </td><td>d52_tr                  </td><td>HPSI0114i-bezi_3        </td><td>-4.045387               </td><td>-3.5027092              </td><td> 1.7749864              </td><td> 1.950318               </td><td>-2.087305               </td><td> 0.2173488              </td><td>-0.88865820             </td><td> 2.34087577             </td><td> 1.7517868              </td><td>-2.4528090              </td><td>-0.08444563             </td><td>1.065154                </td><td> 0.6622905              </td><td> 0.1241967              </td><td>-0.5390908              </td></tr>\n",
       "\t<tr><td>HPSI0114i-eipl_1--d52_tr</td><td>HPSI0114i-eipl_1        </td><td>d52_tr                  </td><td>HPSI0114i-eipl_1        </td><td> 5.297163               </td><td> 4.4857823              </td><td> 1.8496031              </td><td>-1.622522               </td><td>-2.434677               </td><td>-2.5270915              </td><td> 0.03017665             </td><td> 0.01346120             </td><td>-0.5269457              </td><td>-0.7186207              </td><td>-0.23752928             </td><td>2.344607                </td><td> 0.5972651              </td><td>-0.5493923              </td><td> 0.1193866              </td></tr>\n",
       "\t<tr><td>HPSI0114i-lexy_2--d52_tr</td><td>HPSI0114i-lexy_2        </td><td>d52_tr                  </td><td>HPSI0114i-lexy_2        </td><td> 1.912110               </td><td> 0.8607209              </td><td>-0.6344026              </td><td> 3.836240               </td><td>-1.305179               </td><td> 1.2676517              </td><td>-2.60683534             </td><td>-0.03860684             </td><td>-0.1034515              </td><td>-0.7196617              </td><td>-0.67290347             </td><td>2.182599                </td><td> 0.1526125              </td><td> 0.7636219              </td><td> 0.9206913              </td></tr>\n",
       "\t<tr><td>HPSI0114i-posc_1--d52_tr</td><td>HPSI0114i-posc_1        </td><td>d52_tr                  </td><td>HPSI0114i-posc_1        </td><td>-2.497497               </td><td>-1.1292973              </td><td> 1.4097880              </td><td> 2.928060               </td><td>-2.989704               </td><td> 2.2871120              </td><td>-1.20585166             </td><td> 3.04401355             </td><td> 0.8718931              </td><td> 0.8932499              </td><td> 1.40654216             </td><td>1.892200                </td><td>-0.7438282              </td><td>-0.2230109              </td><td> 1.4124049              </td></tr>\n",
       "\t<tr><td>HPSI0114i-rozh_4--d52_tr</td><td>HPSI0114i-rozh_4        </td><td>d52_tr                  </td><td>HPSI0114i-rozh_4        </td><td> 1.778787               </td><td>-0.5566458              </td><td>-1.9235269              </td><td> 1.848905               </td><td> 1.303405               </td><td> 0.3251141              </td><td>-2.75219334             </td><td>-1.34743274             </td><td> 1.0560941              </td><td> 2.5947769              </td><td>-1.61569365             </td><td>1.872300                </td><td>-0.2801073              </td><td> 0.7248649              </td><td> 0.6100002              </td></tr>\n",
       "\t<tr><td>HPSI0114i-vass_1--d52_tr</td><td>HPSI0114i-vass_1        </td><td>d52_tr                  </td><td>HPSI0114i-vass_1        </td><td> 3.697581               </td><td> 0.1527177              </td><td>-1.5672573              </td><td> 3.294216               </td><td> 1.537045               </td><td> 2.4718041              </td><td>-1.48477221             </td><td>-1.82400549             </td><td> 0.7703524              </td><td> 2.2550527              </td><td>-1.83767903             </td><td>1.217088                </td><td>-0.9583159              </td><td> 1.3543816              </td><td> 0.6197956              </td></tr>\n",
       "</tbody>\n",
       "</table>\n"
      ],
      "text/latex": [
       "\\begin{tabular}{r|lllllllllllllllllll}\n",
       " phenotype\\_sample\\_id & genotype\\_individual\\_id & condition & index & PC1 & PC2 & PC3 & PC4 & PC5 & PC6 & PC7 & PC8 & PC9 & PC10 & PC11 & PC12 & PC13 & PC14 & PC15\\\\\n",
       "\\hline\n",
       "\t HPSI0114i-bezi\\_3--d52\\_tr & HPSI0114i-bezi\\_3           & d52\\_tr                     & HPSI0114i-bezi\\_3           & -4.045387                    & -3.5027092                   &  1.7749864                   &  1.950318                    & -2.087305                    &  0.2173488                   & -0.88865820                  &  2.34087577                  &  1.7517868                   & -2.4528090                   & -0.08444563                  & 1.065154                     &  0.6622905                   &  0.1241967                   & -0.5390908                  \\\\\n",
       "\t HPSI0114i-eipl\\_1--d52\\_tr & HPSI0114i-eipl\\_1           & d52\\_tr                     & HPSI0114i-eipl\\_1           &  5.297163                    &  4.4857823                   &  1.8496031                   & -1.622522                    & -2.434677                    & -2.5270915                   &  0.03017665                  &  0.01346120                  & -0.5269457                   & -0.7186207                   & -0.23752928                  & 2.344607                     &  0.5972651                   & -0.5493923                   &  0.1193866                  \\\\\n",
       "\t HPSI0114i-lexy\\_2--d52\\_tr & HPSI0114i-lexy\\_2           & d52\\_tr                     & HPSI0114i-lexy\\_2           &  1.912110                    &  0.8607209                   & -0.6344026                   &  3.836240                    & -1.305179                    &  1.2676517                   & -2.60683534                  & -0.03860684                  & -0.1034515                   & -0.7196617                   & -0.67290347                  & 2.182599                     &  0.1526125                   &  0.7636219                   &  0.9206913                  \\\\\n",
       "\t HPSI0114i-posc\\_1--d52\\_tr & HPSI0114i-posc\\_1           & d52\\_tr                     & HPSI0114i-posc\\_1           & -2.497497                    & -1.1292973                   &  1.4097880                   &  2.928060                    & -2.989704                    &  2.2871120                   & -1.20585166                  &  3.04401355                  &  0.8718931                   &  0.8932499                   &  1.40654216                  & 1.892200                     & -0.7438282                   & -0.2230109                   &  1.4124049                  \\\\\n",
       "\t HPSI0114i-rozh\\_4--d52\\_tr & HPSI0114i-rozh\\_4           & d52\\_tr                     & HPSI0114i-rozh\\_4           &  1.778787                    & -0.5566458                   & -1.9235269                   &  1.848905                    &  1.303405                    &  0.3251141                   & -2.75219334                  & -1.34743274                  &  1.0560941                   &  2.5947769                   & -1.61569365                  & 1.872300                     & -0.2801073                   &  0.7248649                   &  0.6100002                  \\\\\n",
       "\t HPSI0114i-vass\\_1--d52\\_tr & HPSI0114i-vass\\_1           & d52\\_tr                     & HPSI0114i-vass\\_1           &  3.697581                    &  0.1527177                   & -1.5672573                   &  3.294216                    &  1.537045                    &  2.4718041                   & -1.48477221                  & -1.82400549                  &  0.7703524                   &  2.2550527                   & -1.83767903                  & 1.217088                     & -0.9583159                   &  1.3543816                   &  0.6197956                  \\\\\n",
       "\\end{tabular}\n"
      ],
      "text/markdown": [
       "\n",
       "| phenotype_sample_id | genotype_individual_id | condition | index | PC1 | PC2 | PC3 | PC4 | PC5 | PC6 | PC7 | PC8 | PC9 | PC10 | PC11 | PC12 | PC13 | PC14 | PC15 |\n",
       "|---|---|---|---|---|---|---|---|---|---|---|---|---|---|---|---|---|---|---|\n",
       "| HPSI0114i-bezi_3--d52_tr | HPSI0114i-bezi_3         | d52_tr                   | HPSI0114i-bezi_3         | -4.045387                | -3.5027092               |  1.7749864               |  1.950318                | -2.087305                |  0.2173488               | -0.88865820              |  2.34087577              |  1.7517868               | -2.4528090               | -0.08444563              | 1.065154                 |  0.6622905               |  0.1241967               | -0.5390908               |\n",
       "| HPSI0114i-eipl_1--d52_tr | HPSI0114i-eipl_1         | d52_tr                   | HPSI0114i-eipl_1         |  5.297163                |  4.4857823               |  1.8496031               | -1.622522                | -2.434677                | -2.5270915               |  0.03017665              |  0.01346120              | -0.5269457               | -0.7186207               | -0.23752928              | 2.344607                 |  0.5972651               | -0.5493923               |  0.1193866               |\n",
       "| HPSI0114i-lexy_2--d52_tr | HPSI0114i-lexy_2         | d52_tr                   | HPSI0114i-lexy_2         |  1.912110                |  0.8607209               | -0.6344026               |  3.836240                | -1.305179                |  1.2676517               | -2.60683534              | -0.03860684              | -0.1034515               | -0.7196617               | -0.67290347              | 2.182599                 |  0.1526125               |  0.7636219               |  0.9206913               |\n",
       "| HPSI0114i-posc_1--d52_tr | HPSI0114i-posc_1         | d52_tr                   | HPSI0114i-posc_1         | -2.497497                | -1.1292973               |  1.4097880               |  2.928060                | -2.989704                |  2.2871120               | -1.20585166              |  3.04401355              |  0.8718931               |  0.8932499               |  1.40654216              | 1.892200                 | -0.7438282               | -0.2230109               |  1.4124049               |\n",
       "| HPSI0114i-rozh_4--d52_tr | HPSI0114i-rozh_4         | d52_tr                   | HPSI0114i-rozh_4         |  1.778787                | -0.5566458               | -1.9235269               |  1.848905                |  1.303405                |  0.3251141               | -2.75219334              | -1.34743274              |  1.0560941               |  2.5947769               | -1.61569365              | 1.872300                 | -0.2801073               |  0.7248649               |  0.6100002               |\n",
       "| HPSI0114i-vass_1--d52_tr | HPSI0114i-vass_1         | d52_tr                   | HPSI0114i-vass_1         |  3.697581                |  0.1527177               | -1.5672573               |  3.294216                |  1.537045                |  2.4718041               | -1.48477221              | -1.82400549              |  0.7703524               |  2.2550527               | -1.83767903              | 1.217088                 | -0.9583159               |  1.3543816               |  0.6197956               |\n",
       "\n"
      ],
      "text/plain": [
       "  phenotype_sample_id      genotype_individual_id condition index           \n",
       "1 HPSI0114i-bezi_3--d52_tr HPSI0114i-bezi_3       d52_tr    HPSI0114i-bezi_3\n",
       "2 HPSI0114i-eipl_1--d52_tr HPSI0114i-eipl_1       d52_tr    HPSI0114i-eipl_1\n",
       "3 HPSI0114i-lexy_2--d52_tr HPSI0114i-lexy_2       d52_tr    HPSI0114i-lexy_2\n",
       "4 HPSI0114i-posc_1--d52_tr HPSI0114i-posc_1       d52_tr    HPSI0114i-posc_1\n",
       "5 HPSI0114i-rozh_4--d52_tr HPSI0114i-rozh_4       d52_tr    HPSI0114i-rozh_4\n",
       "6 HPSI0114i-vass_1--d52_tr HPSI0114i-vass_1       d52_tr    HPSI0114i-vass_1\n",
       "  PC1       PC2        PC3        PC4       PC5       PC6        PC7        \n",
       "1 -4.045387 -3.5027092  1.7749864  1.950318 -2.087305  0.2173488 -0.88865820\n",
       "2  5.297163  4.4857823  1.8496031 -1.622522 -2.434677 -2.5270915  0.03017665\n",
       "3  1.912110  0.8607209 -0.6344026  3.836240 -1.305179  1.2676517 -2.60683534\n",
       "4 -2.497497 -1.1292973  1.4097880  2.928060 -2.989704  2.2871120 -1.20585166\n",
       "5  1.778787 -0.5566458 -1.9235269  1.848905  1.303405  0.3251141 -2.75219334\n",
       "6  3.697581  0.1527177 -1.5672573  3.294216  1.537045  2.4718041 -1.48477221\n",
       "  PC8         PC9        PC10       PC11        PC12     PC13       PC14      \n",
       "1  2.34087577  1.7517868 -2.4528090 -0.08444563 1.065154  0.6622905  0.1241967\n",
       "2  0.01346120 -0.5269457 -0.7186207 -0.23752928 2.344607  0.5972651 -0.5493923\n",
       "3 -0.03860684 -0.1034515 -0.7196617 -0.67290347 2.182599  0.1526125  0.7636219\n",
       "4  3.04401355  0.8718931  0.8932499  1.40654216 1.892200 -0.7438282 -0.2230109\n",
       "5 -1.34743274  1.0560941  2.5947769 -1.61569365 1.872300 -0.2801073  0.7248649\n",
       "6 -1.82400549  0.7703524  2.2550527 -1.83767903 1.217088 -0.9583159  1.3543816\n",
       "  PC15      \n",
       "1 -0.5390908\n",
       "2  0.1193866\n",
       "3  0.9206913\n",
       "4  1.4124049\n",
       "5  0.6100002\n",
       "6  0.6197956"
      ]
     },
     "metadata": {},
     "output_type": "display_data"
    }
   ],
   "source": [
    "cov_d52_rot$genotype_individual_id = cov_d52_rot$index\n",
    "cov_d52_rot_df = left_join(df2_d52_rot, cov_d52_rot)\n",
    "nrow(cov_d52_rot_df)\n",
    "head(cov_d52_rot_df)"
   ]
  },
  {
   "cell_type": "code",
   "execution_count": 307,
   "id": "b87a2a71",
   "metadata": {},
   "outputs": [
    {
     "data": {
      "text/html": [
       "112"
      ],
      "text/latex": [
       "112"
      ],
      "text/markdown": [
       "112"
      ],
      "text/plain": [
       "[1] 112"
      ]
     },
     "metadata": {},
     "output_type": "display_data"
    },
    {
     "data": {
      "text/html": [
       "<table>\n",
       "<thead><tr><th></th><th scope=col>phenotype_sample_id</th><th scope=col>genotype_individual_id</th><th scope=col>condition</th><th scope=col>index</th><th scope=col>PC1</th><th scope=col>PC2</th><th scope=col>PC3</th><th scope=col>PC4</th><th scope=col>PC5</th><th scope=col>PC6</th><th scope=col>PC7</th><th scope=col>PC8</th><th scope=col>PC9</th><th scope=col>PC10</th><th scope=col>PC11</th><th scope=col>PC12</th><th scope=col>PC13</th><th scope=col>PC14</th><th scope=col>PC15</th></tr></thead>\n",
       "<tbody>\n",
       "\t<tr><th scope=row>HPSI0114i-wegi_1--d52_untr</th><td>HPSI0114i-wegi_1--d52_untr</td><td>HPSI0114i-wegi_1          </td><td>d52_untr                  </td><td>HPSI0114i-wegi_1          </td><td>-3.4143435                </td><td> 2.2390724                </td><td> 1.4260678                </td><td>-2.288009                 </td><td>-0.3690028                </td><td>-0.81461126               </td><td>-1.6999524                </td><td>-0.6134962                </td><td>-0.70425987               </td><td>-0.3472279                </td><td>-1.714723                 </td><td> 0.1043934                </td><td> 0.4736800                </td><td> 0.5696887                </td><td> 0.01207237               </td></tr>\n",
       "\t<tr><th scope=row>HPSI0214i-datg_2--d52_untr</th><td>HPSI0214i-datg_2--d52_untr</td><td>HPSI0214i-datg_2          </td><td>d52_untr                  </td><td>HPSI0214i-datg_2          </td><td>-1.4859684                </td><td>-2.2352488                </td><td> 1.2074826                </td><td>-1.555106                 </td><td>-1.3003985                </td><td>-1.87283981               </td><td>-1.2474994                </td><td> 1.8331822                </td><td>-0.51896956               </td><td> 1.1374874                </td><td> 1.274917                 </td><td>-0.2315937                </td><td>-1.2808534                </td><td>-0.3971818                </td><td>-0.14173153               </td></tr>\n",
       "\t<tr><th scope=row>HPSI0214i-giju_3--d52_untr</th><td>HPSI0214i-giju_3--d52_untr</td><td>HPSI0214i-giju_3          </td><td>d52_untr                  </td><td>HPSI0214i-giju_3          </td><td>-0.4439215                </td><td>-1.4518310                </td><td>-0.2615706                </td><td>-1.234298                 </td><td>-1.8252151                </td><td>-1.32627480               </td><td>-0.1206340                </td><td> 0.1853509                </td><td> 0.68407796               </td><td>-0.6603311                </td><td>-1.504026                 </td><td>-1.6422411                </td><td> 0.4443124                </td><td>-0.3004245                </td><td>-0.16583843               </td></tr>\n",
       "\t<tr><th scope=row>HPSI0215i-deyz_2--d52_untr</th><td>HPSI0215i-deyz_2--d52_untr</td><td>HPSI0215i-deyz_2          </td><td>d52_untr                  </td><td>HPSI0215i-deyz_2          </td><td>-1.1952100                </td><td>-0.1484187                </td><td> 1.2283526                </td><td>-2.314684                 </td><td>-2.6866960                </td><td>-0.39763077               </td><td>-0.3680670                </td><td> 1.0442771                </td><td> 0.95798793               </td><td> 2.2887171                </td><td>-1.311187                 </td><td>-2.6016133                </td><td>-0.7846649                </td><td> 0.7096001                </td><td> 0.10725726               </td></tr>\n",
       "\t<tr><th scope=row>HPSI0215i-fawm_2--d52_untr</th><td>HPSI0215i-fawm_2--d52_untr</td><td>HPSI0215i-fawm_2          </td><td>d52_untr                  </td><td>HPSI0215i-fawm_2          </td><td>-1.3982049                </td><td>-0.2705334                </td><td> 0.5505791                </td><td>-1.709138                 </td><td>-1.8219630                </td><td>-0.06412213               </td><td> 0.5447668                </td><td>-0.6171462                </td><td> 0.07699718               </td><td> 2.3019333                </td><td>-1.316103                 </td><td>-1.6793541                </td><td>-0.2272098                </td><td> 0.6063496                </td><td> 1.02185860               </td></tr>\n",
       "\t<tr><th scope=row>HPSI0215i-zett_5--d52_untr</th><td>HPSI0215i-zett_5--d52_untr</td><td>HPSI0215i-zett_5          </td><td>d52_untr                  </td><td>HPSI0215i-zett_5          </td><td>-3.3118948                </td><td> 1.8054551                </td><td> 1.2571571                </td><td>-1.212694                 </td><td>-3.7717619                </td><td>-0.54597984               </td><td>-2.4345343                </td><td> 0.7249700                </td><td> 0.59139851               </td><td>-1.1066454                </td><td> 1.115697                 </td><td> 0.2764818                </td><td>-0.7270389                </td><td>-0.7085684                </td><td>-0.56170487               </td></tr>\n",
       "</tbody>\n",
       "</table>\n"
      ],
      "text/latex": [
       "\\begin{tabular}{r|lllllllllllllllllll}\n",
       "  & phenotype\\_sample\\_id & genotype\\_individual\\_id & condition & index & PC1 & PC2 & PC3 & PC4 & PC5 & PC6 & PC7 & PC8 & PC9 & PC10 & PC11 & PC12 & PC13 & PC14 & PC15\\\\\n",
       "\\hline\n",
       "\tHPSI0114i-wegi\\_1--d52\\_untr & HPSI0114i-wegi\\_1--d52\\_untr & HPSI0114i-wegi\\_1             & d52\\_untr                     & HPSI0114i-wegi\\_1             & -3.4143435                     &  2.2390724                     &  1.4260678                     & -2.288009                      & -0.3690028                     & -0.81461126                    & -1.6999524                     & -0.6134962                     & -0.70425987                    & -0.3472279                     & -1.714723                      &  0.1043934                     &  0.4736800                     &  0.5696887                     &  0.01207237                   \\\\\n",
       "\tHPSI0214i-datg\\_2--d52\\_untr & HPSI0214i-datg\\_2--d52\\_untr & HPSI0214i-datg\\_2             & d52\\_untr                     & HPSI0214i-datg\\_2             & -1.4859684                     & -2.2352488                     &  1.2074826                     & -1.555106                      & -1.3003985                     & -1.87283981                    & -1.2474994                     &  1.8331822                     & -0.51896956                    &  1.1374874                     &  1.274917                      & -0.2315937                     & -1.2808534                     & -0.3971818                     & -0.14173153                   \\\\\n",
       "\tHPSI0214i-giju\\_3--d52\\_untr & HPSI0214i-giju\\_3--d52\\_untr & HPSI0214i-giju\\_3             & d52\\_untr                     & HPSI0214i-giju\\_3             & -0.4439215                     & -1.4518310                     & -0.2615706                     & -1.234298                      & -1.8252151                     & -1.32627480                    & -0.1206340                     &  0.1853509                     &  0.68407796                    & -0.6603311                     & -1.504026                      & -1.6422411                     &  0.4443124                     & -0.3004245                     & -0.16583843                   \\\\\n",
       "\tHPSI0215i-deyz\\_2--d52\\_untr & HPSI0215i-deyz\\_2--d52\\_untr & HPSI0215i-deyz\\_2             & d52\\_untr                     & HPSI0215i-deyz\\_2             & -1.1952100                     & -0.1484187                     &  1.2283526                     & -2.314684                      & -2.6866960                     & -0.39763077                    & -0.3680670                     &  1.0442771                     &  0.95798793                    &  2.2887171                     & -1.311187                      & -2.6016133                     & -0.7846649                     &  0.7096001                     &  0.10725726                   \\\\\n",
       "\tHPSI0215i-fawm\\_2--d52\\_untr & HPSI0215i-fawm\\_2--d52\\_untr & HPSI0215i-fawm\\_2             & d52\\_untr                     & HPSI0215i-fawm\\_2             & -1.3982049                     & -0.2705334                     &  0.5505791                     & -1.709138                      & -1.8219630                     & -0.06412213                    &  0.5447668                     & -0.6171462                     &  0.07699718                    &  2.3019333                     & -1.316103                      & -1.6793541                     & -0.2272098                     &  0.6063496                     &  1.02185860                   \\\\\n",
       "\tHPSI0215i-zett\\_5--d52\\_untr & HPSI0215i-zett\\_5--d52\\_untr & HPSI0215i-zett\\_5             & d52\\_untr                     & HPSI0215i-zett\\_5             & -3.3118948                     &  1.8054551                     &  1.2571571                     & -1.212694                      & -3.7717619                     & -0.54597984                    & -2.4345343                     &  0.7249700                     &  0.59139851                    & -1.1066454                     &  1.115697                      &  0.2764818                     & -0.7270389                     & -0.7085684                     & -0.56170487                   \\\\\n",
       "\\end{tabular}\n"
      ],
      "text/markdown": [
       "\n",
       "| <!--/--> | phenotype_sample_id | genotype_individual_id | condition | index | PC1 | PC2 | PC3 | PC4 | PC5 | PC6 | PC7 | PC8 | PC9 | PC10 | PC11 | PC12 | PC13 | PC14 | PC15 |\n",
       "|---|---|---|---|---|---|---|---|---|---|---|---|---|---|---|---|---|---|---|---|\n",
       "| HPSI0114i-wegi_1--d52_untr | HPSI0114i-wegi_1--d52_untr | HPSI0114i-wegi_1           | d52_untr                   | HPSI0114i-wegi_1           | -3.4143435                 |  2.2390724                 |  1.4260678                 | -2.288009                  | -0.3690028                 | -0.81461126                | -1.6999524                 | -0.6134962                 | -0.70425987                | -0.3472279                 | -1.714723                  |  0.1043934                 |  0.4736800                 |  0.5696887                 |  0.01207237                |\n",
       "| HPSI0214i-datg_2--d52_untr | HPSI0214i-datg_2--d52_untr | HPSI0214i-datg_2           | d52_untr                   | HPSI0214i-datg_2           | -1.4859684                 | -2.2352488                 |  1.2074826                 | -1.555106                  | -1.3003985                 | -1.87283981                | -1.2474994                 |  1.8331822                 | -0.51896956                |  1.1374874                 |  1.274917                  | -0.2315937                 | -1.2808534                 | -0.3971818                 | -0.14173153                |\n",
       "| HPSI0214i-giju_3--d52_untr | HPSI0214i-giju_3--d52_untr | HPSI0214i-giju_3           | d52_untr                   | HPSI0214i-giju_3           | -0.4439215                 | -1.4518310                 | -0.2615706                 | -1.234298                  | -1.8252151                 | -1.32627480                | -0.1206340                 |  0.1853509                 |  0.68407796                | -0.6603311                 | -1.504026                  | -1.6422411                 |  0.4443124                 | -0.3004245                 | -0.16583843                |\n",
       "| HPSI0215i-deyz_2--d52_untr | HPSI0215i-deyz_2--d52_untr | HPSI0215i-deyz_2           | d52_untr                   | HPSI0215i-deyz_2           | -1.1952100                 | -0.1484187                 |  1.2283526                 | -2.314684                  | -2.6866960                 | -0.39763077                | -0.3680670                 |  1.0442771                 |  0.95798793                |  2.2887171                 | -1.311187                  | -2.6016133                 | -0.7846649                 |  0.7096001                 |  0.10725726                |\n",
       "| HPSI0215i-fawm_2--d52_untr | HPSI0215i-fawm_2--d52_untr | HPSI0215i-fawm_2           | d52_untr                   | HPSI0215i-fawm_2           | -1.3982049                 | -0.2705334                 |  0.5505791                 | -1.709138                  | -1.8219630                 | -0.06412213                |  0.5447668                 | -0.6171462                 |  0.07699718                |  2.3019333                 | -1.316103                  | -1.6793541                 | -0.2272098                 |  0.6063496                 |  1.02185860                |\n",
       "| HPSI0215i-zett_5--d52_untr | HPSI0215i-zett_5--d52_untr | HPSI0215i-zett_5           | d52_untr                   | HPSI0215i-zett_5           | -3.3118948                 |  1.8054551                 |  1.2571571                 | -1.212694                  | -3.7717619                 | -0.54597984                | -2.4345343                 |  0.7249700                 |  0.59139851                | -1.1066454                 |  1.115697                  |  0.2764818                 | -0.7270389                 | -0.7085684                 | -0.56170487                |\n",
       "\n"
      ],
      "text/plain": [
       "                           phenotype_sample_id        genotype_individual_id\n",
       "HPSI0114i-wegi_1--d52_untr HPSI0114i-wegi_1--d52_untr HPSI0114i-wegi_1      \n",
       "HPSI0214i-datg_2--d52_untr HPSI0214i-datg_2--d52_untr HPSI0214i-datg_2      \n",
       "HPSI0214i-giju_3--d52_untr HPSI0214i-giju_3--d52_untr HPSI0214i-giju_3      \n",
       "HPSI0215i-deyz_2--d52_untr HPSI0215i-deyz_2--d52_untr HPSI0215i-deyz_2      \n",
       "HPSI0215i-fawm_2--d52_untr HPSI0215i-fawm_2--d52_untr HPSI0215i-fawm_2      \n",
       "HPSI0215i-zett_5--d52_untr HPSI0215i-zett_5--d52_untr HPSI0215i-zett_5      \n",
       "                           condition index            PC1        PC2       \n",
       "HPSI0114i-wegi_1--d52_untr d52_untr  HPSI0114i-wegi_1 -3.4143435  2.2390724\n",
       "HPSI0214i-datg_2--d52_untr d52_untr  HPSI0214i-datg_2 -1.4859684 -2.2352488\n",
       "HPSI0214i-giju_3--d52_untr d52_untr  HPSI0214i-giju_3 -0.4439215 -1.4518310\n",
       "HPSI0215i-deyz_2--d52_untr d52_untr  HPSI0215i-deyz_2 -1.1952100 -0.1484187\n",
       "HPSI0215i-fawm_2--d52_untr d52_untr  HPSI0215i-fawm_2 -1.3982049 -0.2705334\n",
       "HPSI0215i-zett_5--d52_untr d52_untr  HPSI0215i-zett_5 -3.3118948  1.8054551\n",
       "                           PC3        PC4       PC5        PC6        \n",
       "HPSI0114i-wegi_1--d52_untr  1.4260678 -2.288009 -0.3690028 -0.81461126\n",
       "HPSI0214i-datg_2--d52_untr  1.2074826 -1.555106 -1.3003985 -1.87283981\n",
       "HPSI0214i-giju_3--d52_untr -0.2615706 -1.234298 -1.8252151 -1.32627480\n",
       "HPSI0215i-deyz_2--d52_untr  1.2283526 -2.314684 -2.6866960 -0.39763077\n",
       "HPSI0215i-fawm_2--d52_untr  0.5505791 -1.709138 -1.8219630 -0.06412213\n",
       "HPSI0215i-zett_5--d52_untr  1.2571571 -1.212694 -3.7717619 -0.54597984\n",
       "                           PC7        PC8        PC9         PC10      \n",
       "HPSI0114i-wegi_1--d52_untr -1.6999524 -0.6134962 -0.70425987 -0.3472279\n",
       "HPSI0214i-datg_2--d52_untr -1.2474994  1.8331822 -0.51896956  1.1374874\n",
       "HPSI0214i-giju_3--d52_untr -0.1206340  0.1853509  0.68407796 -0.6603311\n",
       "HPSI0215i-deyz_2--d52_untr -0.3680670  1.0442771  0.95798793  2.2887171\n",
       "HPSI0215i-fawm_2--d52_untr  0.5447668 -0.6171462  0.07699718  2.3019333\n",
       "HPSI0215i-zett_5--d52_untr -2.4345343  0.7249700  0.59139851 -1.1066454\n",
       "                           PC11      PC12       PC13       PC14      \n",
       "HPSI0114i-wegi_1--d52_untr -1.714723  0.1043934  0.4736800  0.5696887\n",
       "HPSI0214i-datg_2--d52_untr  1.274917 -0.2315937 -1.2808534 -0.3971818\n",
       "HPSI0214i-giju_3--d52_untr -1.504026 -1.6422411  0.4443124 -0.3004245\n",
       "HPSI0215i-deyz_2--d52_untr -1.311187 -2.6016133 -0.7846649  0.7096001\n",
       "HPSI0215i-fawm_2--d52_untr -1.316103 -1.6793541 -0.2272098  0.6063496\n",
       "HPSI0215i-zett_5--d52_untr  1.115697  0.2764818 -0.7270389 -0.7085684\n",
       "                           PC15       \n",
       "HPSI0114i-wegi_1--d52_untr  0.01207237\n",
       "HPSI0214i-datg_2--d52_untr -0.14173153\n",
       "HPSI0214i-giju_3--d52_untr -0.16583843\n",
       "HPSI0215i-deyz_2--d52_untr  0.10725726\n",
       "HPSI0215i-fawm_2--d52_untr  1.02185860\n",
       "HPSI0215i-zett_5--d52_untr -0.56170487"
      ]
     },
     "metadata": {},
     "output_type": "display_data"
    }
   ],
   "source": [
    "covs = rbind(cov_d30_df, cov_d52_df, cov_d52_rot_df)\n",
    "rownames(covs) = covs$phenotype_sample_id\n",
    "nrow(covs)\n",
    "head(covs)"
   ]
  },
  {
   "cell_type": "code",
   "execution_count": 308,
   "id": "8d1adfe4",
   "metadata": {},
   "outputs": [
    {
     "data": {
      "text/html": [
       "<table>\n",
       "<thead><tr><th></th><th scope=col>PC1</th><th scope=col>PC2</th><th scope=col>PC3</th><th scope=col>PC4</th><th scope=col>PC5</th><th scope=col>PC6</th><th scope=col>PC7</th><th scope=col>PC8</th><th scope=col>PC9</th><th scope=col>PC10</th><th scope=col>PC11</th><th scope=col>PC12</th><th scope=col>PC13</th><th scope=col>PC14</th><th scope=col>PC15</th></tr></thead>\n",
       "<tbody>\n",
       "\t<tr><th scope=row>HPSI0114i-wegi_1--d52_untr</th><td>-3.4143435 </td><td> 2.2390724 </td><td> 1.4260678 </td><td>-2.288009  </td><td>-0.3690028 </td><td>-0.81461126</td><td>-1.6999524 </td><td>-0.6134962 </td><td>-0.70425987</td><td>-0.3472279 </td><td>-1.714723  </td><td> 0.1043934 </td><td> 0.4736800 </td><td> 0.5696887 </td><td> 0.01207237</td></tr>\n",
       "\t<tr><th scope=row>HPSI0214i-datg_2--d52_untr</th><td>-1.4859684 </td><td>-2.2352488 </td><td> 1.2074826 </td><td>-1.555106  </td><td>-1.3003985 </td><td>-1.87283981</td><td>-1.2474994 </td><td> 1.8331822 </td><td>-0.51896956</td><td> 1.1374874 </td><td> 1.274917  </td><td>-0.2315937 </td><td>-1.2808534 </td><td>-0.3971818 </td><td>-0.14173153</td></tr>\n",
       "\t<tr><th scope=row>HPSI0214i-giju_3--d52_untr</th><td>-0.4439215 </td><td>-1.4518310 </td><td>-0.2615706 </td><td>-1.234298  </td><td>-1.8252151 </td><td>-1.32627480</td><td>-0.1206340 </td><td> 0.1853509 </td><td> 0.68407796</td><td>-0.6603311 </td><td>-1.504026  </td><td>-1.6422411 </td><td> 0.4443124 </td><td>-0.3004245 </td><td>-0.16583843</td></tr>\n",
       "\t<tr><th scope=row>HPSI0215i-deyz_2--d52_untr</th><td>-1.1952100 </td><td>-0.1484187 </td><td> 1.2283526 </td><td>-2.314684  </td><td>-2.6866960 </td><td>-0.39763077</td><td>-0.3680670 </td><td> 1.0442771 </td><td> 0.95798793</td><td> 2.2887171 </td><td>-1.311187  </td><td>-2.6016133 </td><td>-0.7846649 </td><td> 0.7096001 </td><td> 0.10725726</td></tr>\n",
       "\t<tr><th scope=row>HPSI0215i-fawm_2--d52_untr</th><td>-1.3982049 </td><td>-0.2705334 </td><td> 0.5505791 </td><td>-1.709138  </td><td>-1.8219630 </td><td>-0.06412213</td><td> 0.5447668 </td><td>-0.6171462 </td><td> 0.07699718</td><td> 2.3019333 </td><td>-1.316103  </td><td>-1.6793541 </td><td>-0.2272098 </td><td> 0.6063496 </td><td> 1.02185860</td></tr>\n",
       "\t<tr><th scope=row>HPSI0215i-zett_5--d52_untr</th><td>-3.3118948 </td><td> 1.8054551 </td><td> 1.2571571 </td><td>-1.212694  </td><td>-3.7717619 </td><td>-0.54597984</td><td>-2.4345343 </td><td> 0.7249700 </td><td> 0.59139851</td><td>-1.1066454 </td><td> 1.115697  </td><td> 0.2764818 </td><td>-0.7270389 </td><td>-0.7085684 </td><td>-0.56170487</td></tr>\n",
       "</tbody>\n",
       "</table>\n"
      ],
      "text/latex": [
       "\\begin{tabular}{r|lllllllllllllll}\n",
       "  & PC1 & PC2 & PC3 & PC4 & PC5 & PC6 & PC7 & PC8 & PC9 & PC10 & PC11 & PC12 & PC13 & PC14 & PC15\\\\\n",
       "\\hline\n",
       "\tHPSI0114i-wegi\\_1--d52\\_untr & -3.4143435  &  2.2390724  &  1.4260678  & -2.288009   & -0.3690028  & -0.81461126 & -1.6999524  & -0.6134962  & -0.70425987 & -0.3472279  & -1.714723   &  0.1043934  &  0.4736800  &  0.5696887  &  0.01207237\\\\\n",
       "\tHPSI0214i-datg\\_2--d52\\_untr & -1.4859684  & -2.2352488  &  1.2074826  & -1.555106   & -1.3003985  & -1.87283981 & -1.2474994  &  1.8331822  & -0.51896956 &  1.1374874  &  1.274917   & -0.2315937  & -1.2808534  & -0.3971818  & -0.14173153\\\\\n",
       "\tHPSI0214i-giju\\_3--d52\\_untr & -0.4439215  & -1.4518310  & -0.2615706  & -1.234298   & -1.8252151  & -1.32627480 & -0.1206340  &  0.1853509  &  0.68407796 & -0.6603311  & -1.504026   & -1.6422411  &  0.4443124  & -0.3004245  & -0.16583843\\\\\n",
       "\tHPSI0215i-deyz\\_2--d52\\_untr & -1.1952100  & -0.1484187  &  1.2283526  & -2.314684   & -2.6866960  & -0.39763077 & -0.3680670  &  1.0442771  &  0.95798793 &  2.2887171  & -1.311187   & -2.6016133  & -0.7846649  &  0.7096001  &  0.10725726\\\\\n",
       "\tHPSI0215i-fawm\\_2--d52\\_untr & -1.3982049  & -0.2705334  &  0.5505791  & -1.709138   & -1.8219630  & -0.06412213 &  0.5447668  & -0.6171462  &  0.07699718 &  2.3019333  & -1.316103   & -1.6793541  & -0.2272098  &  0.6063496  &  1.02185860\\\\\n",
       "\tHPSI0215i-zett\\_5--d52\\_untr & -3.3118948  &  1.8054551  &  1.2571571  & -1.212694   & -3.7717619  & -0.54597984 & -2.4345343  &  0.7249700  &  0.59139851 & -1.1066454  &  1.115697   &  0.2764818  & -0.7270389  & -0.7085684  & -0.56170487\\\\\n",
       "\\end{tabular}\n"
      ],
      "text/markdown": [
       "\n",
       "| <!--/--> | PC1 | PC2 | PC3 | PC4 | PC5 | PC6 | PC7 | PC8 | PC9 | PC10 | PC11 | PC12 | PC13 | PC14 | PC15 |\n",
       "|---|---|---|---|---|---|---|---|---|---|---|---|---|---|---|---|\n",
       "| HPSI0114i-wegi_1--d52_untr | -3.4143435  |  2.2390724  |  1.4260678  | -2.288009   | -0.3690028  | -0.81461126 | -1.6999524  | -0.6134962  | -0.70425987 | -0.3472279  | -1.714723   |  0.1043934  |  0.4736800  |  0.5696887  |  0.01207237 |\n",
       "| HPSI0214i-datg_2--d52_untr | -1.4859684  | -2.2352488  |  1.2074826  | -1.555106   | -1.3003985  | -1.87283981 | -1.2474994  |  1.8331822  | -0.51896956 |  1.1374874  |  1.274917   | -0.2315937  | -1.2808534  | -0.3971818  | -0.14173153 |\n",
       "| HPSI0214i-giju_3--d52_untr | -0.4439215  | -1.4518310  | -0.2615706  | -1.234298   | -1.8252151  | -1.32627480 | -0.1206340  |  0.1853509  |  0.68407796 | -0.6603311  | -1.504026   | -1.6422411  |  0.4443124  | -0.3004245  | -0.16583843 |\n",
       "| HPSI0215i-deyz_2--d52_untr | -1.1952100  | -0.1484187  |  1.2283526  | -2.314684   | -2.6866960  | -0.39763077 | -0.3680670  |  1.0442771  |  0.95798793 |  2.2887171  | -1.311187   | -2.6016133  | -0.7846649  |  0.7096001  |  0.10725726 |\n",
       "| HPSI0215i-fawm_2--d52_untr | -1.3982049  | -0.2705334  |  0.5505791  | -1.709138   | -1.8219630  | -0.06412213 |  0.5447668  | -0.6171462  |  0.07699718 |  2.3019333  | -1.316103   | -1.6793541  | -0.2272098  |  0.6063496  |  1.02185860 |\n",
       "| HPSI0215i-zett_5--d52_untr | -3.3118948  |  1.8054551  |  1.2571571  | -1.212694   | -3.7717619  | -0.54597984 | -2.4345343  |  0.7249700  |  0.59139851 | -1.1066454  |  1.115697   |  0.2764818  | -0.7270389  | -0.7085684  | -0.56170487 |\n",
       "\n"
      ],
      "text/plain": [
       "                           PC1        PC2        PC3        PC4      \n",
       "HPSI0114i-wegi_1--d52_untr -3.4143435  2.2390724  1.4260678 -2.288009\n",
       "HPSI0214i-datg_2--d52_untr -1.4859684 -2.2352488  1.2074826 -1.555106\n",
       "HPSI0214i-giju_3--d52_untr -0.4439215 -1.4518310 -0.2615706 -1.234298\n",
       "HPSI0215i-deyz_2--d52_untr -1.1952100 -0.1484187  1.2283526 -2.314684\n",
       "HPSI0215i-fawm_2--d52_untr -1.3982049 -0.2705334  0.5505791 -1.709138\n",
       "HPSI0215i-zett_5--d52_untr -3.3118948  1.8054551  1.2571571 -1.212694\n",
       "                           PC5        PC6         PC7        PC8       \n",
       "HPSI0114i-wegi_1--d52_untr -0.3690028 -0.81461126 -1.6999524 -0.6134962\n",
       "HPSI0214i-datg_2--d52_untr -1.3003985 -1.87283981 -1.2474994  1.8331822\n",
       "HPSI0214i-giju_3--d52_untr -1.8252151 -1.32627480 -0.1206340  0.1853509\n",
       "HPSI0215i-deyz_2--d52_untr -2.6866960 -0.39763077 -0.3680670  1.0442771\n",
       "HPSI0215i-fawm_2--d52_untr -1.8219630 -0.06412213  0.5447668 -0.6171462\n",
       "HPSI0215i-zett_5--d52_untr -3.7717619 -0.54597984 -2.4345343  0.7249700\n",
       "                           PC9         PC10       PC11      PC12      \n",
       "HPSI0114i-wegi_1--d52_untr -0.70425987 -0.3472279 -1.714723  0.1043934\n",
       "HPSI0214i-datg_2--d52_untr -0.51896956  1.1374874  1.274917 -0.2315937\n",
       "HPSI0214i-giju_3--d52_untr  0.68407796 -0.6603311 -1.504026 -1.6422411\n",
       "HPSI0215i-deyz_2--d52_untr  0.95798793  2.2887171 -1.311187 -2.6016133\n",
       "HPSI0215i-fawm_2--d52_untr  0.07699718  2.3019333 -1.316103 -1.6793541\n",
       "HPSI0215i-zett_5--d52_untr  0.59139851 -1.1066454  1.115697  0.2764818\n",
       "                           PC13       PC14       PC15       \n",
       "HPSI0114i-wegi_1--d52_untr  0.4736800  0.5696887  0.01207237\n",
       "HPSI0214i-datg_2--d52_untr -1.2808534 -0.3971818 -0.14173153\n",
       "HPSI0214i-giju_3--d52_untr  0.4443124 -0.3004245 -0.16583843\n",
       "HPSI0215i-deyz_2--d52_untr -0.7846649  0.7096001  0.10725726\n",
       "HPSI0215i-fawm_2--d52_untr -0.2272098  0.6063496  1.02185860\n",
       "HPSI0215i-zett_5--d52_untr -0.7270389 -0.7085684 -0.56170487"
      ]
     },
     "metadata": {},
     "output_type": "display_data"
    }
   ],
   "source": [
    "covs_df = covs[,!(colnames(covs) %in% c(\"phenotype_sample_id\",\"genotype_individual_id\",\"condition\",\"index\"))]\n",
    "head(covs_df)"
   ]
  },
  {
   "cell_type": "code",
   "execution_count": 309,
   "id": "2a193e60",
   "metadata": {},
   "outputs": [
    {
     "data": {
      "text/html": [
       "'/hps/nobackup/stegle/users/acuomo/all_scripts/struct_LMM2/sc_neuroseq/da_coloc_GxC/structlmm2_eQTLgenes_Pseudobulk/ATG10-5_81395824_T_G_top10quantile_covariates.tsv'"
      ],
      "text/latex": [
       "'/hps/nobackup/stegle/users/acuomo/all\\_scripts/struct\\_LMM2/sc\\_neuroseq/da\\_coloc\\_GxC/structlmm2\\_eQTLgenes\\_Pseudobulk/ATG10-5\\_81395824\\_T\\_G\\_top10quantile\\_covariates.tsv'"
      ],
      "text/markdown": [
       "'/hps/nobackup/stegle/users/acuomo/all_scripts/struct_LMM2/sc_neuroseq/da_coloc_GxC/structlmm2_eQTLgenes_Pseudobulk/ATG10-5_81395824_T_G_top10quantile_covariates.tsv'"
      ],
      "text/plain": [
       "[1] \"/hps/nobackup/stegle/users/acuomo/all_scripts/struct_LMM2/sc_neuroseq/da_coloc_GxC/structlmm2_eQTLgenes_Pseudobulk/ATG10-5_81395824_T_G_top10quantile_covariates.tsv\""
      ]
     },
     "metadata": {},
     "output_type": "display_data"
    }
   ],
   "source": [
    "### save covariates file\n",
    "filename2 = gsub(\"phenotype\",\"covariates\",file1)\n",
    "filename2\n",
    "write.table(covs_df, filename2, sep=\"\\t\", quote=F)"
   ]
  },
  {
   "cell_type": "code",
   "execution_count": 310,
   "id": "3de922f7",
   "metadata": {},
   "outputs": [],
   "source": [
    "############## noise matrix"
   ]
  },
  {
   "cell_type": "code",
   "execution_count": 311,
   "id": "b0939bcd",
   "metadata": {},
   "outputs": [
    {
     "data": {
      "text/html": [
       "'/hps/nobackup/stegle/users/acuomo/all_scripts/struct_LMM2/sc_neuroseq/da_coloc_GxC/structlmm2_eQTLgenes_Pseudobulk/ATG10-5_81395824_T_G_top10quantile_Pseudobulk_Metadata.tsv'"
      ],
      "text/latex": [
       "'/hps/nobackup/stegle/users/acuomo/all\\_scripts/struct\\_LMM2/sc\\_neuroseq/da\\_coloc\\_GxC/structlmm2\\_eQTLgenes\\_Pseudobulk/ATG10-5\\_81395824\\_T\\_G\\_top10quantile\\_Pseudobulk\\_Metadata.tsv'"
      ],
      "text/markdown": [
       "'/hps/nobackup/stegle/users/acuomo/all_scripts/struct_LMM2/sc_neuroseq/da_coloc_GxC/structlmm2_eQTLgenes_Pseudobulk/ATG10-5_81395824_T_G_top10quantile_Pseudobulk_Metadata.tsv'"
      ],
      "text/plain": [
       "[1] \"/hps/nobackup/stegle/users/acuomo/all_scripts/struct_LMM2/sc_neuroseq/da_coloc_GxC/structlmm2_eQTLgenes_Pseudobulk/ATG10-5_81395824_T_G_top10quantile_Pseudobulk_Metadata.tsv\""
      ]
     },
     "metadata": {},
     "output_type": "display_data"
    },
    {
     "data": {
      "text/html": [
       "112"
      ],
      "text/latex": [
       "112"
      ],
      "text/markdown": [
       "112"
      ],
      "text/plain": [
       "[1] 112"
      ]
     },
     "metadata": {},
     "output_type": "display_data"
    },
    {
     "data": {
      "text/html": [
       "<ol class=list-inline>\n",
       "\t<li>2</li>\n",
       "\t<li>4</li>\n",
       "\t<li>16</li>\n",
       "\t<li>3</li>\n",
       "\t<li>5</li>\n",
       "\t<li>6</li>\n",
       "</ol>\n"
      ],
      "text/latex": [
       "\\begin{enumerate*}\n",
       "\\item 2\n",
       "\\item 4\n",
       "\\item 16\n",
       "\\item 3\n",
       "\\item 5\n",
       "\\item 6\n",
       "\\end{enumerate*}\n"
      ],
      "text/markdown": [
       "1. 2\n",
       "2. 4\n",
       "3. 16\n",
       "4. 3\n",
       "5. 5\n",
       "6. 6\n",
       "\n",
       "\n"
      ],
      "text/plain": [
       "[1]  2  4 16  3  5  6"
      ]
     },
     "metadata": {},
     "output_type": "display_data"
    }
   ],
   "source": [
    "file0 = paste0(mydir,myfiles0[i])\n",
    "file0\n",
    "df0 = read.csv(file0, sep=\"\\t\")\n",
    "df0$donor_condition = paste0(df0$donor_id, \"--\",df0$Condition)\n",
    "# nrow(df0)\n",
    "# head(df0)\n",
    "length(df0$Number_of_cells)\n",
    "head(df0$Number_of_cells)"
   ]
  },
  {
   "cell_type": "code",
   "execution_count": 312,
   "id": "33504bae",
   "metadata": {},
   "outputs": [
    {
     "data": {
      "text/html": [
       "<table>\n",
       "<thead><tr><th></th><th scope=col>HPSI0114i-bezi_3--d52_tr</th><th scope=col>HPSI0114i-eipl_1--d52_tr</th><th scope=col>HPSI0114i-lexy_2--d52_tr</th><th scope=col>HPSI0114i-posc_1--d52_tr</th><th scope=col>HPSI0114i-rozh_4--d52_tr</th><th scope=col>HPSI0114i-vass_1--d52_tr</th><th scope=col>HPSI0114i-wegi_1--d52_tr</th><th scope=col>HPSI0114i-wegi_1--d52_untr</th><th scope=col>HPSI0115i-aion_2--d52_tr</th><th scope=col>HPSI0115i-aoxv_1--d52_tr</th><th scope=col>...</th><th scope=col>HPSI1014i-sehl_6--d52_tr</th><th scope=col>HPSI1014i-sehl_6--d52_untr</th><th scope=col>HPSI1014i-tixi_4--d52_tr</th><th scope=col>HPSI1014i-vils_1--d52_tr</th><th scope=col>HPSI1014i-vils_1--d52_untr</th><th scope=col>HPSI1113i-bima_1--d52_tr</th><th scope=col>HPSI1113i-podx_1--d52_tr</th><th scope=col>HPSI1113i-vuud_2--d52_tr</th><th scope=col>HPSI1213i-hehd_1--d52_tr</th><th scope=col>HPSI1213i-hehd_1--d52_untr</th></tr></thead>\n",
       "<tbody>\n",
       "\t<tr><th scope=row>HPSI0114i-bezi_3--d52_tr</th><td>2  </td><td>0  </td><td> 0 </td><td>0  </td><td>0  </td><td>0  </td><td>0  </td><td>0  </td><td>0  </td><td>0  </td><td>...</td><td>0  </td><td>0  </td><td>0  </td><td>0  </td><td>0  </td><td>0  </td><td>0  </td><td>0  </td><td>0  </td><td>0  </td></tr>\n",
       "\t<tr><th scope=row>HPSI0114i-eipl_1--d52_tr</th><td>0  </td><td>4  </td><td> 0 </td><td>0  </td><td>0  </td><td>0  </td><td>0  </td><td>0  </td><td>0  </td><td>0  </td><td>...</td><td>0  </td><td>0  </td><td>0  </td><td>0  </td><td>0  </td><td>0  </td><td>0  </td><td>0  </td><td>0  </td><td>0  </td></tr>\n",
       "\t<tr><th scope=row>HPSI0114i-lexy_2--d52_tr</th><td>0  </td><td>0  </td><td>16 </td><td>0  </td><td>0  </td><td>0  </td><td>0  </td><td>0  </td><td>0  </td><td>0  </td><td>...</td><td>0  </td><td>0  </td><td>0  </td><td>0  </td><td>0  </td><td>0  </td><td>0  </td><td>0  </td><td>0  </td><td>0  </td></tr>\n",
       "\t<tr><th scope=row>HPSI0114i-posc_1--d52_tr</th><td>0  </td><td>0  </td><td> 0 </td><td>3  </td><td>0  </td><td>0  </td><td>0  </td><td>0  </td><td>0  </td><td>0  </td><td>...</td><td>0  </td><td>0  </td><td>0  </td><td>0  </td><td>0  </td><td>0  </td><td>0  </td><td>0  </td><td>0  </td><td>0  </td></tr>\n",
       "\t<tr><th scope=row>HPSI0114i-rozh_4--d52_tr</th><td>0  </td><td>0  </td><td> 0 </td><td>0  </td><td>5  </td><td>0  </td><td>0  </td><td>0  </td><td>0  </td><td>0  </td><td>...</td><td>0  </td><td>0  </td><td>0  </td><td>0  </td><td>0  </td><td>0  </td><td>0  </td><td>0  </td><td>0  </td><td>0  </td></tr>\n",
       "\t<tr><th scope=row>HPSI0114i-vass_1--d52_tr</th><td>0  </td><td>0  </td><td> 0 </td><td>0  </td><td>0  </td><td>6  </td><td>0  </td><td>0  </td><td>0  </td><td>0  </td><td>...</td><td>0  </td><td>0  </td><td>0  </td><td>0  </td><td>0  </td><td>0  </td><td>0  </td><td>0  </td><td>0  </td><td>0  </td></tr>\n",
       "</tbody>\n",
       "</table>\n"
      ],
      "text/latex": [
       "\\begin{tabular}{r|llllllllllllllllllllllllllllllllllllllllllllllllllllllllllllllllllllllllllllllllllllllllllllllllllllllllllllllll}\n",
       "  & HPSI0114i-bezi\\_3--d52\\_tr & HPSI0114i-eipl\\_1--d52\\_tr & HPSI0114i-lexy\\_2--d52\\_tr & HPSI0114i-posc\\_1--d52\\_tr & HPSI0114i-rozh\\_4--d52\\_tr & HPSI0114i-vass\\_1--d52\\_tr & HPSI0114i-wegi\\_1--d52\\_tr & HPSI0114i-wegi\\_1--d52\\_untr & HPSI0115i-aion\\_2--d52\\_tr & HPSI0115i-aoxv\\_1--d52\\_tr & ... & HPSI1014i-sehl\\_6--d52\\_tr & HPSI1014i-sehl\\_6--d52\\_untr & HPSI1014i-tixi\\_4--d52\\_tr & HPSI1014i-vils\\_1--d52\\_tr & HPSI1014i-vils\\_1--d52\\_untr & HPSI1113i-bima\\_1--d52\\_tr & HPSI1113i-podx\\_1--d52\\_tr & HPSI1113i-vuud\\_2--d52\\_tr & HPSI1213i-hehd\\_1--d52\\_tr & HPSI1213i-hehd\\_1--d52\\_untr\\\\\n",
       "\\hline\n",
       "\tHPSI0114i-bezi\\_3--d52\\_tr & 2   & 0   &  0  & 0   & 0   & 0   & 0   & 0   & 0   & 0   & ... & 0   & 0   & 0   & 0   & 0   & 0   & 0   & 0   & 0   & 0  \\\\\n",
       "\tHPSI0114i-eipl\\_1--d52\\_tr & 0   & 4   &  0  & 0   & 0   & 0   & 0   & 0   & 0   & 0   & ... & 0   & 0   & 0   & 0   & 0   & 0   & 0   & 0   & 0   & 0  \\\\\n",
       "\tHPSI0114i-lexy\\_2--d52\\_tr & 0   & 0   & 16  & 0   & 0   & 0   & 0   & 0   & 0   & 0   & ... & 0   & 0   & 0   & 0   & 0   & 0   & 0   & 0   & 0   & 0  \\\\\n",
       "\tHPSI0114i-posc\\_1--d52\\_tr & 0   & 0   &  0  & 3   & 0   & 0   & 0   & 0   & 0   & 0   & ... & 0   & 0   & 0   & 0   & 0   & 0   & 0   & 0   & 0   & 0  \\\\\n",
       "\tHPSI0114i-rozh\\_4--d52\\_tr & 0   & 0   &  0  & 0   & 5   & 0   & 0   & 0   & 0   & 0   & ... & 0   & 0   & 0   & 0   & 0   & 0   & 0   & 0   & 0   & 0  \\\\\n",
       "\tHPSI0114i-vass\\_1--d52\\_tr & 0   & 0   &  0  & 0   & 0   & 6   & 0   & 0   & 0   & 0   & ... & 0   & 0   & 0   & 0   & 0   & 0   & 0   & 0   & 0   & 0  \\\\\n",
       "\\end{tabular}\n"
      ],
      "text/markdown": [
       "\n",
       "| <!--/--> | HPSI0114i-bezi_3--d52_tr | HPSI0114i-eipl_1--d52_tr | HPSI0114i-lexy_2--d52_tr | HPSI0114i-posc_1--d52_tr | HPSI0114i-rozh_4--d52_tr | HPSI0114i-vass_1--d52_tr | HPSI0114i-wegi_1--d52_tr | HPSI0114i-wegi_1--d52_untr | HPSI0115i-aion_2--d52_tr | HPSI0115i-aoxv_1--d52_tr | ... | HPSI1014i-sehl_6--d52_tr | HPSI1014i-sehl_6--d52_untr | HPSI1014i-tixi_4--d52_tr | HPSI1014i-vils_1--d52_tr | HPSI1014i-vils_1--d52_untr | HPSI1113i-bima_1--d52_tr | HPSI1113i-podx_1--d52_tr | HPSI1113i-vuud_2--d52_tr | HPSI1213i-hehd_1--d52_tr | HPSI1213i-hehd_1--d52_untr |\n",
       "|---|---|---|---|---|---|---|---|---|---|---|---|---|---|---|---|---|---|---|---|---|---|\n",
       "| HPSI0114i-bezi_3--d52_tr | 2   | 0   |  0  | 0   | 0   | 0   | 0   | 0   | 0   | 0   | ... | 0   | 0   | 0   | 0   | 0   | 0   | 0   | 0   | 0   | 0   |\n",
       "| HPSI0114i-eipl_1--d52_tr | 0   | 4   |  0  | 0   | 0   | 0   | 0   | 0   | 0   | 0   | ... | 0   | 0   | 0   | 0   | 0   | 0   | 0   | 0   | 0   | 0   |\n",
       "| HPSI0114i-lexy_2--d52_tr | 0   | 0   | 16  | 0   | 0   | 0   | 0   | 0   | 0   | 0   | ... | 0   | 0   | 0   | 0   | 0   | 0   | 0   | 0   | 0   | 0   |\n",
       "| HPSI0114i-posc_1--d52_tr | 0   | 0   |  0  | 3   | 0   | 0   | 0   | 0   | 0   | 0   | ... | 0   | 0   | 0   | 0   | 0   | 0   | 0   | 0   | 0   | 0   |\n",
       "| HPSI0114i-rozh_4--d52_tr | 0   | 0   |  0  | 0   | 5   | 0   | 0   | 0   | 0   | 0   | ... | 0   | 0   | 0   | 0   | 0   | 0   | 0   | 0   | 0   | 0   |\n",
       "| HPSI0114i-vass_1--d52_tr | 0   | 0   |  0  | 0   | 0   | 6   | 0   | 0   | 0   | 0   | ... | 0   | 0   | 0   | 0   | 0   | 0   | 0   | 0   | 0   | 0   |\n",
       "\n"
      ],
      "text/plain": [
       "                         HPSI0114i-bezi_3--d52_tr HPSI0114i-eipl_1--d52_tr\n",
       "HPSI0114i-bezi_3--d52_tr 2                        0                       \n",
       "HPSI0114i-eipl_1--d52_tr 0                        4                       \n",
       "HPSI0114i-lexy_2--d52_tr 0                        0                       \n",
       "HPSI0114i-posc_1--d52_tr 0                        0                       \n",
       "HPSI0114i-rozh_4--d52_tr 0                        0                       \n",
       "HPSI0114i-vass_1--d52_tr 0                        0                       \n",
       "                         HPSI0114i-lexy_2--d52_tr HPSI0114i-posc_1--d52_tr\n",
       "HPSI0114i-bezi_3--d52_tr  0                       0                       \n",
       "HPSI0114i-eipl_1--d52_tr  0                       0                       \n",
       "HPSI0114i-lexy_2--d52_tr 16                       0                       \n",
       "HPSI0114i-posc_1--d52_tr  0                       3                       \n",
       "HPSI0114i-rozh_4--d52_tr  0                       0                       \n",
       "HPSI0114i-vass_1--d52_tr  0                       0                       \n",
       "                         HPSI0114i-rozh_4--d52_tr HPSI0114i-vass_1--d52_tr\n",
       "HPSI0114i-bezi_3--d52_tr 0                        0                       \n",
       "HPSI0114i-eipl_1--d52_tr 0                        0                       \n",
       "HPSI0114i-lexy_2--d52_tr 0                        0                       \n",
       "HPSI0114i-posc_1--d52_tr 0                        0                       \n",
       "HPSI0114i-rozh_4--d52_tr 5                        0                       \n",
       "HPSI0114i-vass_1--d52_tr 0                        6                       \n",
       "                         HPSI0114i-wegi_1--d52_tr HPSI0114i-wegi_1--d52_untr\n",
       "HPSI0114i-bezi_3--d52_tr 0                        0                         \n",
       "HPSI0114i-eipl_1--d52_tr 0                        0                         \n",
       "HPSI0114i-lexy_2--d52_tr 0                        0                         \n",
       "HPSI0114i-posc_1--d52_tr 0                        0                         \n",
       "HPSI0114i-rozh_4--d52_tr 0                        0                         \n",
       "HPSI0114i-vass_1--d52_tr 0                        0                         \n",
       "                         HPSI0115i-aion_2--d52_tr HPSI0115i-aoxv_1--d52_tr ...\n",
       "HPSI0114i-bezi_3--d52_tr 0                        0                        ...\n",
       "HPSI0114i-eipl_1--d52_tr 0                        0                        ...\n",
       "HPSI0114i-lexy_2--d52_tr 0                        0                        ...\n",
       "HPSI0114i-posc_1--d52_tr 0                        0                        ...\n",
       "HPSI0114i-rozh_4--d52_tr 0                        0                        ...\n",
       "HPSI0114i-vass_1--d52_tr 0                        0                        ...\n",
       "                         HPSI1014i-sehl_6--d52_tr HPSI1014i-sehl_6--d52_untr\n",
       "HPSI0114i-bezi_3--d52_tr 0                        0                         \n",
       "HPSI0114i-eipl_1--d52_tr 0                        0                         \n",
       "HPSI0114i-lexy_2--d52_tr 0                        0                         \n",
       "HPSI0114i-posc_1--d52_tr 0                        0                         \n",
       "HPSI0114i-rozh_4--d52_tr 0                        0                         \n",
       "HPSI0114i-vass_1--d52_tr 0                        0                         \n",
       "                         HPSI1014i-tixi_4--d52_tr HPSI1014i-vils_1--d52_tr\n",
       "HPSI0114i-bezi_3--d52_tr 0                        0                       \n",
       "HPSI0114i-eipl_1--d52_tr 0                        0                       \n",
       "HPSI0114i-lexy_2--d52_tr 0                        0                       \n",
       "HPSI0114i-posc_1--d52_tr 0                        0                       \n",
       "HPSI0114i-rozh_4--d52_tr 0                        0                       \n",
       "HPSI0114i-vass_1--d52_tr 0                        0                       \n",
       "                         HPSI1014i-vils_1--d52_untr HPSI1113i-bima_1--d52_tr\n",
       "HPSI0114i-bezi_3--d52_tr 0                          0                       \n",
       "HPSI0114i-eipl_1--d52_tr 0                          0                       \n",
       "HPSI0114i-lexy_2--d52_tr 0                          0                       \n",
       "HPSI0114i-posc_1--d52_tr 0                          0                       \n",
       "HPSI0114i-rozh_4--d52_tr 0                          0                       \n",
       "HPSI0114i-vass_1--d52_tr 0                          0                       \n",
       "                         HPSI1113i-podx_1--d52_tr HPSI1113i-vuud_2--d52_tr\n",
       "HPSI0114i-bezi_3--d52_tr 0                        0                       \n",
       "HPSI0114i-eipl_1--d52_tr 0                        0                       \n",
       "HPSI0114i-lexy_2--d52_tr 0                        0                       \n",
       "HPSI0114i-posc_1--d52_tr 0                        0                       \n",
       "HPSI0114i-rozh_4--d52_tr 0                        0                       \n",
       "HPSI0114i-vass_1--d52_tr 0                        0                       \n",
       "                         HPSI1213i-hehd_1--d52_tr HPSI1213i-hehd_1--d52_untr\n",
       "HPSI0114i-bezi_3--d52_tr 0                        0                         \n",
       "HPSI0114i-eipl_1--d52_tr 0                        0                         \n",
       "HPSI0114i-lexy_2--d52_tr 0                        0                         \n",
       "HPSI0114i-posc_1--d52_tr 0                        0                         \n",
       "HPSI0114i-rozh_4--d52_tr 0                        0                         \n",
       "HPSI0114i-vass_1--d52_tr 0                        0                         "
      ]
     },
     "metadata": {},
     "output_type": "display_data"
    }
   ],
   "source": [
    "mat = diag(df0$Number_of_cells)\n",
    "colnames(mat) = df0$donor_condition\n",
    "rownames(mat) = df0$donor_condition\n",
    "head(mat)"
   ]
  },
  {
   "cell_type": "code",
   "execution_count": 313,
   "id": "26f6d62d",
   "metadata": {},
   "outputs": [
    {
     "data": {
      "text/html": [
       "'/hps/nobackup/stegle/users/acuomo/all_scripts/struct_LMM2/sc_neuroseq/da_coloc_GxC/structlmm2_eQTLgenes_Pseudobulk/ATG10-5_81395824_T_G_top10quantile_noise.tsv'"
      ],
      "text/latex": [
       "'/hps/nobackup/stegle/users/acuomo/all\\_scripts/struct\\_LMM2/sc\\_neuroseq/da\\_coloc\\_GxC/structlmm2\\_eQTLgenes\\_Pseudobulk/ATG10-5\\_81395824\\_T\\_G\\_top10quantile\\_noise.tsv'"
      ],
      "text/markdown": [
       "'/hps/nobackup/stegle/users/acuomo/all_scripts/struct_LMM2/sc_neuroseq/da_coloc_GxC/structlmm2_eQTLgenes_Pseudobulk/ATG10-5_81395824_T_G_top10quantile_noise.tsv'"
      ],
      "text/plain": [
       "[1] \"/hps/nobackup/stegle/users/acuomo/all_scripts/struct_LMM2/sc_neuroseq/da_coloc_GxC/structlmm2_eQTLgenes_Pseudobulk/ATG10-5_81395824_T_G_top10quantile_noise.tsv\""
      ]
     },
     "metadata": {},
     "output_type": "display_data"
    }
   ],
   "source": [
    "### save noise matrix file\n",
    "filename3 = gsub(\"phenotype\",\"noise\",file1)\n",
    "filename3\n",
    "write.table(as.data.frame(mat), filename3, sep=\"\\t\", quote=F)"
   ]
  },
  {
   "cell_type": "code",
   "execution_count": null,
   "id": "6221bcd7",
   "metadata": {},
   "outputs": [],
   "source": []
  }
 ],
 "metadata": {
  "kernelspec": {
   "display_name": "R",
   "language": "R",
   "name": "ir"
  },
  "language_info": {
   "codemirror_mode": "r",
   "file_extension": ".r",
   "mimetype": "text/x-r-source",
   "name": "R",
   "pygments_lexer": "r",
   "version": "3.6.1"
  }
 },
 "nbformat": 4,
 "nbformat_minor": 5
}
