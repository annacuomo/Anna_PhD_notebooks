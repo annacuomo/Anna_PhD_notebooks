{
 "cells": [
  {
   "cell_type": "code",
   "execution_count": 1,
   "id": "5e74baf6",
   "metadata": {},
   "outputs": [],
   "source": [
    "import scanpy as sc\n",
    "import pandas as pd"
   ]
  },
  {
   "cell_type": "code",
   "execution_count": 2,
   "id": "36e42830",
   "metadata": {},
   "outputs": [
    {
     "data": {
      "text/plain": [
       "(250923, 32738)"
      ]
     },
     "execution_count": 2,
     "metadata": {},
     "output_type": "execute_result"
    }
   ],
   "source": [
    "### day 30\n",
    "file = '/nfs/leia/research/stegle/dseaton/hipsci/singlecell_neuroseq/data/data_processed/pool1_13_noddd_D30/pool1_13_noddd_D30.scanpy.h5'\n",
    "adatafull_d30 = sc.read(file)\n",
    "adatafull_d30.shape"
   ]
  },
  {
   "cell_type": "code",
   "execution_count": 3,
   "id": "ec0a1588",
   "metadata": {},
   "outputs": [],
   "source": [
    "### day 52\n",
    "file = '/nfs/leia/research/stegle/dseaton/hipsci/singlecell_neuroseq/data/data_processed/pool1_17_D52/pool1_17_D52.scanpy.h5'\n",
    "adatafull_d52 = sc.read(file)"
   ]
  },
  {
   "cell_type": "code",
   "execution_count": 4,
   "id": "7a078717",
   "metadata": {},
   "outputs": [
    {
     "data": {
      "text/plain": [
       "(523094, 32738)"
      ]
     },
     "execution_count": 4,
     "metadata": {},
     "output_type": "execute_result"
    }
   ],
   "source": [
    "adatafull_d52.shape"
   ]
  },
  {
   "cell_type": "code",
   "execution_count": 5,
   "id": "6c3b6354",
   "metadata": {},
   "outputs": [],
   "source": [
    "# adatafull_d52.obs"
   ]
  },
  {
   "cell_type": "code",
   "execution_count": 6,
   "id": "875e0002",
   "metadata": {},
   "outputs": [],
   "source": [
    "##### cells from top pseudocells for eQTL XX only\n",
    "mydir = \"/hps/nobackup/stegle/users/acuomo/all_scripts/struct_LMM2/sc_neuroseq/da_coloc_GxC/\""
   ]
  },
  {
   "cell_type": "code",
   "execution_count": 7,
   "id": "0c99a9dc",
   "metadata": {},
   "outputs": [],
   "source": [
    "import glob\n",
    "myfiles = glob.glob(mydir+\"*map.csv\")"
   ]
  },
  {
   "cell_type": "code",
   "execution_count": 8,
   "id": "cc774e64",
   "metadata": {
    "scrolled": true
   },
   "outputs": [
    {
     "data": {
      "text/plain": [
       "['/hps/nobackup/stegle/users/acuomo/all_scripts/struct_LMM2/sc_neuroseq/da_coloc_GxC/SLC35E2-1_1660978_C_A_top30quantile_d52_pseudocell_cell_map.csv',\n",
       " '/hps/nobackup/stegle/users/acuomo/all_scripts/struct_LMM2/sc_neuroseq/da_coloc_GxC/ATG10-5_81395824_T_G_top10quantile_pseudocell_cell_map.csv',\n",
       " '/hps/nobackup/stegle/users/acuomo/all_scripts/struct_LMM2/sc_neuroseq/da_coloc_GxC/ATG10-5_81395824_T_G_bottom10quantile_pseudocell_cell_map.csv',\n",
       " '/hps/nobackup/stegle/users/acuomo/all_scripts/struct_LMM2/sc_neuroseq/da_coloc_GxC/PRSS36-16_31117698_C_T_bottom10quantile_pseudocell_cell_map.csv',\n",
       " '/hps/nobackup/stegle/users/acuomo/all_scripts/struct_LMM2/sc_neuroseq/da_coloc_GxC/MAST3-19_18275532_G_A_top10quantile_pseudocell_cell_map.csv',\n",
       " '/hps/nobackup/stegle/users/acuomo/all_scripts/struct_LMM2/sc_neuroseq/da_coloc_GxC/PRR7-AS1-5_176904279_C_G_top10quantile_pseudocell_cell_map.csv',\n",
       " '/hps/nobackup/stegle/users/acuomo/all_scripts/struct_LMM2/sc_neuroseq/da_coloc_GxC/MAPT-AS1-17_43925297_C_T_bottom10quantile_pseudocell_cell_map.csv',\n",
       " '/hps/nobackup/stegle/users/acuomo/all_scripts/struct_LMM2/sc_neuroseq/da_coloc_GxC/PRSS36-16_31117698_C_T_top10quantile_pseudocell_cell_map.csv',\n",
       " '/hps/nobackup/stegle/users/acuomo/all_scripts/struct_LMM2/sc_neuroseq/da_coloc_GxC/TUBGCP4-15_43597297_T_A_top10quantile_pseudocell_cell_map.csv',\n",
       " '/hps/nobackup/stegle/users/acuomo/all_scripts/struct_LMM2/sc_neuroseq/da_coloc_GxC/STAT6-12_57509569_C_T_bottom10quantile_pseudocell_cell_map.csv',\n",
       " '/hps/nobackup/stegle/users/acuomo/all_scripts/struct_LMM2/sc_neuroseq/da_coloc_GxC/CHRNA3-15_78849034_T_C_top10quantile_pseudocell_cell_map.csv',\n",
       " '/hps/nobackup/stegle/users/acuomo/all_scripts/struct_LMM2/sc_neuroseq/da_coloc_GxC/CHRNA3-15_78849034_T_C_bottom10quantile_pseudocell_cell_map.csv',\n",
       " '/hps/nobackup/stegle/users/acuomo/all_scripts/struct_LMM2/sc_neuroseq/da_coloc_GxC/STAT6-12_57509569_C_T_top10quantile_pseudocell_cell_map.csv',\n",
       " '/hps/nobackup/stegle/users/acuomo/all_scripts/struct_LMM2/sc_neuroseq/da_coloc_GxC/MPHOSPH9-12_123604053_C_T_top10quantile_pseudocell_cell_map.csv',\n",
       " '/hps/nobackup/stegle/users/acuomo/all_scripts/struct_LMM2/sc_neuroseq/da_coloc_GxC/PRR7-AS1-5_176904279_C_G_bottom10quantile_pseudocell_cell_map.csv',\n",
       " '/hps/nobackup/stegle/users/acuomo/all_scripts/struct_LMM2/sc_neuroseq/da_coloc_GxC/TUBGCP4-15_43597297_T_A_bottom10quantile_pseudocell_cell_map.csv',\n",
       " '/hps/nobackup/stegle/users/acuomo/all_scripts/struct_LMM2/sc_neuroseq/da_coloc_GxC/RHEBL1-12_49464449_A_G_top10quantile_pseudocell_cell_map.csv',\n",
       " '/hps/nobackup/stegle/users/acuomo/all_scripts/struct_LMM2/sc_neuroseq/da_coloc_GxC/GALNT10-5_153526051_G_A_top10quantile_pseudocell_cell_map.csv',\n",
       " '/hps/nobackup/stegle/users/acuomo/all_scripts/struct_LMM2/sc_neuroseq/da_coloc_GxC/SLC35E2-1_1660978_C_A_bottom30quantile_d52_pseudocell_cell_map.csv',\n",
       " '/hps/nobackup/stegle/users/acuomo/all_scripts/struct_LMM2/sc_neuroseq/da_coloc_GxC/PRR7-AS1-5_176904279_C_G_top30quantile_d30_pseudocell_cell_map.csv',\n",
       " '/hps/nobackup/stegle/users/acuomo/all_scripts/struct_LMM2/sc_neuroseq/da_coloc_GxC/SLC35E2-1_1660978_C_A_bottom10quantile_pseudocell_cell_map.csv',\n",
       " '/hps/nobackup/stegle/users/acuomo/all_scripts/struct_LMM2/sc_neuroseq/da_coloc_GxC/PRR7-AS1-5_176904279_C_G_bottom30quantile_d30_pseudocell_cell_map.csv',\n",
       " '/hps/nobackup/stegle/users/acuomo/all_scripts/struct_LMM2/sc_neuroseq/da_coloc_GxC/RHEBL1-12_49464449_A_G_bottom10quantile_pseudocell_cell_map.csv',\n",
       " '/hps/nobackup/stegle/users/acuomo/all_scripts/struct_LMM2/sc_neuroseq/da_coloc_GxC/EIF5A-17_7207964_A_C_bottom10quantile_pseudocell_cell_map.csv',\n",
       " '/hps/nobackup/stegle/users/acuomo/all_scripts/struct_LMM2/sc_neuroseq/da_coloc_GxC/MAPT-AS1-17_43925297_C_T_top10quantile_pseudocell_cell_map.csv',\n",
       " '/hps/nobackup/stegle/users/acuomo/all_scripts/struct_LMM2/sc_neuroseq/da_coloc_GxC/MAST3-19_18275532_G_A_bottom10quantile_pseudocell_cell_map.csv',\n",
       " '/hps/nobackup/stegle/users/acuomo/all_scripts/struct_LMM2/sc_neuroseq/da_coloc_GxC/EIF5A-17_7207964_A_C_top10quantile_pseudocell_cell_map.csv',\n",
       " '/hps/nobackup/stegle/users/acuomo/all_scripts/struct_LMM2/sc_neuroseq/da_coloc_GxC/SLC35E2-1_1660978_C_A_top10quantile_pseudocell_cell_map.csv',\n",
       " '/hps/nobackup/stegle/users/acuomo/all_scripts/struct_LMM2/sc_neuroseq/da_coloc_GxC/MPHOSPH9-12_123604053_C_T_bottom10quantile_pseudocell_cell_map.csv',\n",
       " '/hps/nobackup/stegle/users/acuomo/all_scripts/struct_LMM2/sc_neuroseq/da_coloc_GxC/GALNT10-5_153526051_G_A_bottom10quantile_pseudocell_cell_map.csv']"
      ]
     },
     "execution_count": 8,
     "metadata": {},
     "output_type": "execute_result"
    }
   ],
   "source": [
    "myfiles"
   ]
  },
  {
   "cell_type": "code",
   "execution_count": 36,
   "id": "c6503052",
   "metadata": {},
   "outputs": [
    {
     "data": {
      "text/plain": [
       "'/hps/nobackup/stegle/users/acuomo/all_scripts/struct_LMM2/sc_neuroseq/da_coloc_GxC/SLC35E2-1_1660978_C_A_bottom30quantile_d52_pseudocell_cell_map.csv'"
      ]
     },
     "execution_count": 36,
     "metadata": {},
     "output_type": "execute_result"
    }
   ],
   "source": [
    "file = myfiles[18]\n",
    "file"
   ]
  },
  {
   "cell_type": "code",
   "execution_count": 37,
   "id": "d5ff8d5a",
   "metadata": {},
   "outputs": [
    {
     "data": {
      "text/html": [
       "<div>\n",
       "<style scoped>\n",
       "    .dataframe tbody tr th:only-of-type {\n",
       "        vertical-align: middle;\n",
       "    }\n",
       "\n",
       "    .dataframe tbody tr th {\n",
       "        vertical-align: top;\n",
       "    }\n",
       "\n",
       "    .dataframe thead th {\n",
       "        text-align: right;\n",
       "    }\n",
       "</style>\n",
       "<table border=\"1\" class=\"dataframe\">\n",
       "  <thead>\n",
       "    <tr style=\"text-align: right;\">\n",
       "      <th></th>\n",
       "      <th>pseudocell</th>\n",
       "      <th>cell</th>\n",
       "    </tr>\n",
       "  </thead>\n",
       "  <tbody>\n",
       "    <tr>\n",
       "      <th>1</th>\n",
       "      <td>HPSI0115i-paim_1--DA--d52_untr--0</td>\n",
       "      <td>ACTTGTTTCGTTGACA-1-0</td>\n",
       "    </tr>\n",
       "    <tr>\n",
       "      <th>2</th>\n",
       "      <td>HPSI0115i-paim_1--DA--d52_untr--0</td>\n",
       "      <td>AGTCTTTGTAAGTGTA-1-0</td>\n",
       "    </tr>\n",
       "    <tr>\n",
       "      <th>3</th>\n",
       "      <td>HPSI0115i-paim_1--DA--d52_untr--0</td>\n",
       "      <td>ATGGGAGTCCGTTGCT-1-0</td>\n",
       "    </tr>\n",
       "    <tr>\n",
       "      <th>4</th>\n",
       "      <td>HPSI0115i-paim_1--DA--d52_untr--0</td>\n",
       "      <td>CCTAGCTAGATAGGAG-1-0</td>\n",
       "    </tr>\n",
       "    <tr>\n",
       "      <th>5</th>\n",
       "      <td>HPSI0115i-paim_1--DA--d52_untr--0</td>\n",
       "      <td>CGATCGGAGCGTCAAG-1-0</td>\n",
       "    </tr>\n",
       "  </tbody>\n",
       "</table>\n",
       "</div>"
      ],
      "text/plain": [
       "                          pseudocell                  cell\n",
       "1  HPSI0115i-paim_1--DA--d52_untr--0  ACTTGTTTCGTTGACA-1-0\n",
       "2  HPSI0115i-paim_1--DA--d52_untr--0  AGTCTTTGTAAGTGTA-1-0\n",
       "3  HPSI0115i-paim_1--DA--d52_untr--0  ATGGGAGTCCGTTGCT-1-0\n",
       "4  HPSI0115i-paim_1--DA--d52_untr--0  CCTAGCTAGATAGGAG-1-0\n",
       "5  HPSI0115i-paim_1--DA--d52_untr--0  CGATCGGAGCGTCAAG-1-0"
      ]
     },
     "execution_count": 37,
     "metadata": {},
     "output_type": "execute_result"
    }
   ],
   "source": [
    "df_cell = pd.read_csv(file, index_col=0)\n",
    "df_cell.head()"
   ]
  },
  {
   "cell_type": "code",
   "execution_count": 38,
   "id": "004f2536",
   "metadata": {
    "scrolled": false
   },
   "outputs": [],
   "source": [
    "selected_cells = list(df_cell['cell'])\n",
    "# selected_cells"
   ]
  },
  {
   "cell_type": "code",
   "execution_count": 39,
   "id": "a0aa3be5",
   "metadata": {},
   "outputs": [
    {
     "data": {
      "text/plain": [
       "103"
      ]
     },
     "execution_count": 39,
     "metadata": {},
     "output_type": "execute_result"
    }
   ],
   "source": [
    "cells_d30 = sorted(set(list(adatafull_d30.obs.index.values)).intersection(selected_cells))\n",
    "len(cells_d30)"
   ]
  },
  {
   "cell_type": "code",
   "execution_count": 40,
   "id": "8ed01346",
   "metadata": {},
   "outputs": [],
   "source": [
    "# # alternative: select other day 30 cells\n",
    "# adata30 = adatafull_d30[~adatafull_d30.obs.index.isin(selected_cells),:]\n",
    "# adata = adata30"
   ]
  },
  {
   "cell_type": "code",
   "execution_count": 41,
   "id": "3c1d9a55",
   "metadata": {},
   "outputs": [
    {
     "data": {
      "text/plain": [
       "16099"
      ]
     },
     "execution_count": 41,
     "metadata": {},
     "output_type": "execute_result"
    }
   ],
   "source": [
    "cells_d52 = sorted(set(list(adatafull_d52.obs.index.values)).intersection(selected_cells))\n",
    "len(cells_d52)"
   ]
  },
  {
   "cell_type": "code",
   "execution_count": 42,
   "id": "b1001269",
   "metadata": {
    "scrolled": true
   },
   "outputs": [
    {
     "name": "stderr",
     "output_type": "stream",
     "text": [
      "/nfs/software/stegle/users/acuomo/conda-envs/spatialde/lib/python3.7/site-packages/pandas/core/arrays/categorical.py:2487: FutureWarning: The `inplace` parameter in pandas.Categorical.remove_unused_categories is deprecated and will be removed in a future version.\n",
      "  res = method(*args, **kwargs)\n"
     ]
    }
   ],
   "source": [
    "adata_d30 = adatafull_d30[cells_d30].copy()\n",
    "adata_d52 = adatafull_d52[cells_d52].copy()"
   ]
  },
  {
   "cell_type": "code",
   "execution_count": 43,
   "id": "893ed612",
   "metadata": {},
   "outputs": [],
   "source": [
    "# adata = adata_d30.concatenate(adata_d52, batch_key='timepoint')"
   ]
  },
  {
   "cell_type": "code",
   "execution_count": 44,
   "id": "bc324211",
   "metadata": {},
   "outputs": [],
   "source": [
    "# adata = adata_d30\n",
    "adata = adata_d52"
   ]
  },
  {
   "cell_type": "code",
   "execution_count": 45,
   "id": "b9780b81",
   "metadata": {},
   "outputs": [
    {
     "data": {
      "text/plain": [
       "AnnData object with n_obs × n_vars = 16099 × 32738\n",
       "    obs: 'batch', 'donor_id', 'log1p_n_genes_by_counts', 'log1p_total_counts', 'log1p_total_counts_mito', 'n_genes_by_counts', 'pct_counts_in_top_100_genes', 'pct_counts_in_top_200_genes', 'pct_counts_in_top_500_genes', 'pct_counts_in_top_50_genes', 'pct_counts_mito', 'sample_id', 'total_counts', 'total_counts_mito'"
      ]
     },
     "execution_count": 45,
     "metadata": {},
     "output_type": "execute_result"
    }
   ],
   "source": [
    "adata"
   ]
  },
  {
   "cell_type": "code",
   "execution_count": 46,
   "id": "1aa37717",
   "metadata": {
    "scrolled": true
   },
   "outputs": [
    {
     "data": {
      "text/plain": [
       "Index(['MIR1302-10', 'FAM138A', 'OR4F5', 'RP11-34P13.7', 'RP11-34P13.8',\n",
       "       'AL627309.1', 'RP11-34P13.14', 'RP11-34P13.9', 'AP006222.2',\n",
       "       'RP4-669L17.10',\n",
       "       ...\n",
       "       'KIR3DL2-1', 'AL590523.1', 'CT476828.1', 'PNRC2-1', 'SRSF10-1',\n",
       "       'AC145205.1', 'BAGE5', 'CU459201.1', 'AC002321.2', 'AC002321.1'],\n",
       "      dtype='object', name='index', length=32738)"
      ]
     },
     "execution_count": 46,
     "metadata": {},
     "output_type": "execute_result"
    }
   ],
   "source": [
    "genes = adata.var_names\n",
    "genes"
   ]
  },
  {
   "cell_type": "code",
   "execution_count": 47,
   "id": "e90239f7",
   "metadata": {},
   "outputs": [
    {
     "data": {
      "text/plain": [
       "index\n",
       "AAACCTGAGAAGGCCT-1-13    HPSI0215i-deyz_2\n",
       "AAACCTGAGAGCTGGT-1-64    HPSI0513i-uoxz_4\n",
       "AAACCTGAGAGTGAGA-1-13    HPSI0215i-deyz_2\n",
       "AAACCTGAGTTACGGG-1-33    HPSI0614i-wihj_4\n",
       "AAACCTGAGTTTAGGA-1-32    HPSI1014i-roug_3\n",
       "                               ...       \n",
       "TTTGTCATCAGTTGAC-1-8     HPSI0115i-hecn_6\n",
       "TTTGTCATCGCAGGCT-1-49    HPSI0115i-aoxv_1\n",
       "TTTGTCATCGGCGCTA-1-8     HPSI0714i-pipw_4\n",
       "TTTGTCATCTTACCTA-1-13    HPSI0514i-lako_1\n",
       "TTTGTCATCTTGAGAC-1-14    HPSI0215i-deyz_2\n",
       "Name: donor_id, Length: 16099, dtype: category\n",
       "Categories (141, object): ['HPSI0114i-bezi_3', 'HPSI0114i-eipl_1', 'HPSI0114i-fikt_3', 'HPSI0114i-kolf_2', ..., 'HPSI1113i-qorq_1', 'HPSI1113i-vuud_2', 'HPSI1114i-kuul_1', 'HPSI1213i-hehd_1']"
      ]
     },
     "execution_count": 47,
     "metadata": {},
     "output_type": "execute_result"
    }
   ],
   "source": [
    "adata.obs['donor_id']"
   ]
  },
  {
   "cell_type": "code",
   "execution_count": 48,
   "id": "9e83cf18",
   "metadata": {
    "scrolled": true
   },
   "outputs": [
    {
     "data": {
      "text/plain": [
       "Index(['HPSI0114i-bezi_3', 'HPSI0114i-eipl_1', 'HPSI0114i-fikt_3',\n",
       "       'HPSI0114i-kolf_2', 'HPSI0114i-lexy_2', 'HPSI0114i-posc_1',\n",
       "       'HPSI0114i-rozh_4', 'HPSI0114i-vass_1', 'HPSI0114i-wegi_1',\n",
       "       'HPSI0114i-zapk_2',\n",
       "       ...\n",
       "       'HPSI1014i-tixi_4', 'HPSI1014i-vils_1', 'HPSI1113i-bima_1',\n",
       "       'HPSI1113i-hayt_3', 'HPSI1113i-podx_1', 'HPSI1113i-qolg_1',\n",
       "       'HPSI1113i-qorq_1', 'HPSI1113i-vuud_2', 'HPSI1114i-kuul_1',\n",
       "       'HPSI1213i-hehd_1'],\n",
       "      dtype='object', length=141)"
      ]
     },
     "execution_count": 48,
     "metadata": {},
     "output_type": "execute_result"
    }
   ],
   "source": [
    "donors = adata.obs['donor_id'].astype(\"category\").cat.categories\n",
    "donors"
   ]
  },
  {
   "cell_type": "code",
   "execution_count": 49,
   "id": "20f14834",
   "metadata": {},
   "outputs": [
    {
     "data": {
      "text/html": [
       "<div>\n",
       "<style scoped>\n",
       "    .dataframe tbody tr th:only-of-type {\n",
       "        vertical-align: middle;\n",
       "    }\n",
       "\n",
       "    .dataframe tbody tr th {\n",
       "        vertical-align: top;\n",
       "    }\n",
       "\n",
       "    .dataframe thead th {\n",
       "        text-align: right;\n",
       "    }\n",
       "</style>\n",
       "<table border=\"1\" class=\"dataframe\">\n",
       "  <thead>\n",
       "    <tr style=\"text-align: right;\">\n",
       "      <th>index</th>\n",
       "      <th>MIR1302-10</th>\n",
       "      <th>FAM138A</th>\n",
       "      <th>OR4F5</th>\n",
       "      <th>RP11-34P13.7</th>\n",
       "      <th>RP11-34P13.8</th>\n",
       "      <th>AL627309.1</th>\n",
       "      <th>RP11-34P13.14</th>\n",
       "      <th>RP11-34P13.9</th>\n",
       "      <th>AP006222.2</th>\n",
       "      <th>RP4-669L17.10</th>\n",
       "      <th>...</th>\n",
       "      <th>KIR3DL2-1</th>\n",
       "      <th>AL590523.1</th>\n",
       "      <th>CT476828.1</th>\n",
       "      <th>PNRC2-1</th>\n",
       "      <th>SRSF10-1</th>\n",
       "      <th>AC145205.1</th>\n",
       "      <th>BAGE5</th>\n",
       "      <th>CU459201.1</th>\n",
       "      <th>AC002321.2</th>\n",
       "      <th>AC002321.1</th>\n",
       "    </tr>\n",
       "  </thead>\n",
       "  <tbody>\n",
       "    <tr>\n",
       "      <th>HPSI0114i-bezi_3</th>\n",
       "      <td>NaN</td>\n",
       "      <td>NaN</td>\n",
       "      <td>NaN</td>\n",
       "      <td>NaN</td>\n",
       "      <td>NaN</td>\n",
       "      <td>NaN</td>\n",
       "      <td>NaN</td>\n",
       "      <td>NaN</td>\n",
       "      <td>NaN</td>\n",
       "      <td>NaN</td>\n",
       "      <td>...</td>\n",
       "      <td>NaN</td>\n",
       "      <td>NaN</td>\n",
       "      <td>NaN</td>\n",
       "      <td>NaN</td>\n",
       "      <td>NaN</td>\n",
       "      <td>NaN</td>\n",
       "      <td>NaN</td>\n",
       "      <td>NaN</td>\n",
       "      <td>NaN</td>\n",
       "      <td>NaN</td>\n",
       "    </tr>\n",
       "    <tr>\n",
       "      <th>HPSI0114i-eipl_1</th>\n",
       "      <td>NaN</td>\n",
       "      <td>NaN</td>\n",
       "      <td>NaN</td>\n",
       "      <td>NaN</td>\n",
       "      <td>NaN</td>\n",
       "      <td>NaN</td>\n",
       "      <td>NaN</td>\n",
       "      <td>NaN</td>\n",
       "      <td>NaN</td>\n",
       "      <td>NaN</td>\n",
       "      <td>...</td>\n",
       "      <td>NaN</td>\n",
       "      <td>NaN</td>\n",
       "      <td>NaN</td>\n",
       "      <td>NaN</td>\n",
       "      <td>NaN</td>\n",
       "      <td>NaN</td>\n",
       "      <td>NaN</td>\n",
       "      <td>NaN</td>\n",
       "      <td>NaN</td>\n",
       "      <td>NaN</td>\n",
       "    </tr>\n",
       "    <tr>\n",
       "      <th>HPSI0114i-fikt_3</th>\n",
       "      <td>NaN</td>\n",
       "      <td>NaN</td>\n",
       "      <td>NaN</td>\n",
       "      <td>NaN</td>\n",
       "      <td>NaN</td>\n",
       "      <td>NaN</td>\n",
       "      <td>NaN</td>\n",
       "      <td>NaN</td>\n",
       "      <td>NaN</td>\n",
       "      <td>NaN</td>\n",
       "      <td>...</td>\n",
       "      <td>NaN</td>\n",
       "      <td>NaN</td>\n",
       "      <td>NaN</td>\n",
       "      <td>NaN</td>\n",
       "      <td>NaN</td>\n",
       "      <td>NaN</td>\n",
       "      <td>NaN</td>\n",
       "      <td>NaN</td>\n",
       "      <td>NaN</td>\n",
       "      <td>NaN</td>\n",
       "    </tr>\n",
       "    <tr>\n",
       "      <th>HPSI0114i-kolf_2</th>\n",
       "      <td>NaN</td>\n",
       "      <td>NaN</td>\n",
       "      <td>NaN</td>\n",
       "      <td>NaN</td>\n",
       "      <td>NaN</td>\n",
       "      <td>NaN</td>\n",
       "      <td>NaN</td>\n",
       "      <td>NaN</td>\n",
       "      <td>NaN</td>\n",
       "      <td>NaN</td>\n",
       "      <td>...</td>\n",
       "      <td>NaN</td>\n",
       "      <td>NaN</td>\n",
       "      <td>NaN</td>\n",
       "      <td>NaN</td>\n",
       "      <td>NaN</td>\n",
       "      <td>NaN</td>\n",
       "      <td>NaN</td>\n",
       "      <td>NaN</td>\n",
       "      <td>NaN</td>\n",
       "      <td>NaN</td>\n",
       "    </tr>\n",
       "    <tr>\n",
       "      <th>HPSI0114i-lexy_2</th>\n",
       "      <td>NaN</td>\n",
       "      <td>NaN</td>\n",
       "      <td>NaN</td>\n",
       "      <td>NaN</td>\n",
       "      <td>NaN</td>\n",
       "      <td>NaN</td>\n",
       "      <td>NaN</td>\n",
       "      <td>NaN</td>\n",
       "      <td>NaN</td>\n",
       "      <td>NaN</td>\n",
       "      <td>...</td>\n",
       "      <td>NaN</td>\n",
       "      <td>NaN</td>\n",
       "      <td>NaN</td>\n",
       "      <td>NaN</td>\n",
       "      <td>NaN</td>\n",
       "      <td>NaN</td>\n",
       "      <td>NaN</td>\n",
       "      <td>NaN</td>\n",
       "      <td>NaN</td>\n",
       "      <td>NaN</td>\n",
       "    </tr>\n",
       "  </tbody>\n",
       "</table>\n",
       "<p>5 rows × 32738 columns</p>\n",
       "</div>"
      ],
      "text/plain": [
       "index            MIR1302-10 FAM138A OR4F5 RP11-34P13.7 RP11-34P13.8  \\\n",
       "HPSI0114i-bezi_3        NaN     NaN   NaN          NaN          NaN   \n",
       "HPSI0114i-eipl_1        NaN     NaN   NaN          NaN          NaN   \n",
       "HPSI0114i-fikt_3        NaN     NaN   NaN          NaN          NaN   \n",
       "HPSI0114i-kolf_2        NaN     NaN   NaN          NaN          NaN   \n",
       "HPSI0114i-lexy_2        NaN     NaN   NaN          NaN          NaN   \n",
       "\n",
       "index            AL627309.1 RP11-34P13.14 RP11-34P13.9 AP006222.2  \\\n",
       "HPSI0114i-bezi_3        NaN           NaN          NaN        NaN   \n",
       "HPSI0114i-eipl_1        NaN           NaN          NaN        NaN   \n",
       "HPSI0114i-fikt_3        NaN           NaN          NaN        NaN   \n",
       "HPSI0114i-kolf_2        NaN           NaN          NaN        NaN   \n",
       "HPSI0114i-lexy_2        NaN           NaN          NaN        NaN   \n",
       "\n",
       "index            RP4-669L17.10  ... KIR3DL2-1 AL590523.1 CT476828.1 PNRC2-1  \\\n",
       "HPSI0114i-bezi_3           NaN  ...       NaN        NaN        NaN     NaN   \n",
       "HPSI0114i-eipl_1           NaN  ...       NaN        NaN        NaN     NaN   \n",
       "HPSI0114i-fikt_3           NaN  ...       NaN        NaN        NaN     NaN   \n",
       "HPSI0114i-kolf_2           NaN  ...       NaN        NaN        NaN     NaN   \n",
       "HPSI0114i-lexy_2           NaN  ...       NaN        NaN        NaN     NaN   \n",
       "\n",
       "index            SRSF10-1 AC145205.1 BAGE5 CU459201.1 AC002321.2 AC002321.1  \n",
       "HPSI0114i-bezi_3      NaN        NaN   NaN        NaN        NaN        NaN  \n",
       "HPSI0114i-eipl_1      NaN        NaN   NaN        NaN        NaN        NaN  \n",
       "HPSI0114i-fikt_3      NaN        NaN   NaN        NaN        NaN        NaN  \n",
       "HPSI0114i-kolf_2      NaN        NaN   NaN        NaN        NaN        NaN  \n",
       "HPSI0114i-lexy_2      NaN        NaN   NaN        NaN        NaN        NaN  \n",
       "\n",
       "[5 rows x 32738 columns]"
      ]
     },
     "execution_count": 49,
     "metadata": {},
     "output_type": "execute_result"
    }
   ],
   "source": [
    "res = pd.DataFrame(columns=genes, index=donors)\n",
    "res.head()"
   ]
  },
  {
   "cell_type": "code",
   "execution_count": 50,
   "id": "b28ea0a2",
   "metadata": {},
   "outputs": [
    {
     "name": "stderr",
     "output_type": "stream",
     "text": [
      "/nfs/software/stegle/users/acuomo/conda-envs/spatialde/lib/python3.7/site-packages/pandas/core/arrays/categorical.py:2487: FutureWarning: The `inplace` parameter in pandas.Categorical.remove_unused_categories is deprecated and will be removed in a future version.\n",
      "  res = method(*args, **kwargs)\n"
     ]
    },
    {
     "data": {
      "text/html": [
       "<div>\n",
       "<style scoped>\n",
       "    .dataframe tbody tr th:only-of-type {\n",
       "        vertical-align: middle;\n",
       "    }\n",
       "\n",
       "    .dataframe tbody tr th {\n",
       "        vertical-align: top;\n",
       "    }\n",
       "\n",
       "    .dataframe thead th {\n",
       "        text-align: right;\n",
       "    }\n",
       "</style>\n",
       "<table border=\"1\" class=\"dataframe\">\n",
       "  <thead>\n",
       "    <tr style=\"text-align: right;\">\n",
       "      <th>index</th>\n",
       "      <th>MIR1302-10</th>\n",
       "      <th>FAM138A</th>\n",
       "      <th>OR4F5</th>\n",
       "      <th>RP11-34P13.7</th>\n",
       "      <th>RP11-34P13.8</th>\n",
       "      <th>AL627309.1</th>\n",
       "      <th>RP11-34P13.14</th>\n",
       "      <th>RP11-34P13.9</th>\n",
       "      <th>AP006222.2</th>\n",
       "      <th>RP4-669L17.10</th>\n",
       "      <th>...</th>\n",
       "      <th>KIR3DL2-1</th>\n",
       "      <th>AL590523.1</th>\n",
       "      <th>CT476828.1</th>\n",
       "      <th>PNRC2-1</th>\n",
       "      <th>SRSF10-1</th>\n",
       "      <th>AC145205.1</th>\n",
       "      <th>BAGE5</th>\n",
       "      <th>CU459201.1</th>\n",
       "      <th>AC002321.2</th>\n",
       "      <th>AC002321.1</th>\n",
       "    </tr>\n",
       "  </thead>\n",
       "  <tbody>\n",
       "    <tr>\n",
       "      <th>HPSI0114i-bezi_3</th>\n",
       "      <td>0.0</td>\n",
       "      <td>0.0</td>\n",
       "      <td>0.0</td>\n",
       "      <td>0.0</td>\n",
       "      <td>0.0</td>\n",
       "      <td>0.0</td>\n",
       "      <td>0.0</td>\n",
       "      <td>0.0</td>\n",
       "      <td>0.576923</td>\n",
       "      <td>0.0</td>\n",
       "      <td>...</td>\n",
       "      <td>0.0</td>\n",
       "      <td>0.0</td>\n",
       "      <td>0.0</td>\n",
       "      <td>0.0</td>\n",
       "      <td>0.038462</td>\n",
       "      <td>0.0</td>\n",
       "      <td>0.0</td>\n",
       "      <td>0.0</td>\n",
       "      <td>0.0</td>\n",
       "      <td>0.0</td>\n",
       "    </tr>\n",
       "    <tr>\n",
       "      <th>HPSI0114i-eipl_1</th>\n",
       "      <td>0.011236</td>\n",
       "      <td>0.0</td>\n",
       "      <td>0.0</td>\n",
       "      <td>0.0</td>\n",
       "      <td>0.0</td>\n",
       "      <td>0.0</td>\n",
       "      <td>0.0</td>\n",
       "      <td>0.0</td>\n",
       "      <td>0.505618</td>\n",
       "      <td>0.0</td>\n",
       "      <td>...</td>\n",
       "      <td>0.0</td>\n",
       "      <td>0.0</td>\n",
       "      <td>0.0</td>\n",
       "      <td>0.0</td>\n",
       "      <td>0.123595</td>\n",
       "      <td>0.0</td>\n",
       "      <td>0.0</td>\n",
       "      <td>0.0</td>\n",
       "      <td>0.0</td>\n",
       "      <td>0.0</td>\n",
       "    </tr>\n",
       "    <tr>\n",
       "      <th>HPSI0114i-fikt_3</th>\n",
       "      <td>0.0</td>\n",
       "      <td>0.0</td>\n",
       "      <td>0.0</td>\n",
       "      <td>0.0</td>\n",
       "      <td>0.0</td>\n",
       "      <td>0.0</td>\n",
       "      <td>0.0</td>\n",
       "      <td>0.0</td>\n",
       "      <td>0.28</td>\n",
       "      <td>0.0</td>\n",
       "      <td>...</td>\n",
       "      <td>0.0</td>\n",
       "      <td>0.0</td>\n",
       "      <td>0.0</td>\n",
       "      <td>0.0</td>\n",
       "      <td>0.08</td>\n",
       "      <td>0.0</td>\n",
       "      <td>0.0</td>\n",
       "      <td>0.0</td>\n",
       "      <td>0.0</td>\n",
       "      <td>0.0</td>\n",
       "    </tr>\n",
       "    <tr>\n",
       "      <th>HPSI0114i-kolf_2</th>\n",
       "      <td>0.0</td>\n",
       "      <td>0.0</td>\n",
       "      <td>0.0</td>\n",
       "      <td>0.025</td>\n",
       "      <td>0.0</td>\n",
       "      <td>0.025</td>\n",
       "      <td>0.0</td>\n",
       "      <td>0.0</td>\n",
       "      <td>0.65</td>\n",
       "      <td>0.0</td>\n",
       "      <td>...</td>\n",
       "      <td>0.0</td>\n",
       "      <td>0.0</td>\n",
       "      <td>0.0</td>\n",
       "      <td>0.0</td>\n",
       "      <td>0.025</td>\n",
       "      <td>0.0</td>\n",
       "      <td>0.0</td>\n",
       "      <td>0.0</td>\n",
       "      <td>0.0</td>\n",
       "      <td>0.0</td>\n",
       "    </tr>\n",
       "    <tr>\n",
       "      <th>HPSI0114i-lexy_2</th>\n",
       "      <td>0.0</td>\n",
       "      <td>0.0</td>\n",
       "      <td>0.0</td>\n",
       "      <td>0.0</td>\n",
       "      <td>0.0</td>\n",
       "      <td>0.0</td>\n",
       "      <td>0.0</td>\n",
       "      <td>0.0</td>\n",
       "      <td>0.276596</td>\n",
       "      <td>0.0</td>\n",
       "      <td>...</td>\n",
       "      <td>0.0</td>\n",
       "      <td>0.0</td>\n",
       "      <td>0.0</td>\n",
       "      <td>0.021277</td>\n",
       "      <td>0.148936</td>\n",
       "      <td>0.0</td>\n",
       "      <td>0.0</td>\n",
       "      <td>0.0</td>\n",
       "      <td>0.0</td>\n",
       "      <td>0.0</td>\n",
       "    </tr>\n",
       "  </tbody>\n",
       "</table>\n",
       "<p>5 rows × 32738 columns</p>\n",
       "</div>"
      ],
      "text/plain": [
       "index            MIR1302-10 FAM138A OR4F5 RP11-34P13.7 RP11-34P13.8  \\\n",
       "HPSI0114i-bezi_3        0.0     0.0   0.0          0.0          0.0   \n",
       "HPSI0114i-eipl_1   0.011236     0.0   0.0          0.0          0.0   \n",
       "HPSI0114i-fikt_3        0.0     0.0   0.0          0.0          0.0   \n",
       "HPSI0114i-kolf_2        0.0     0.0   0.0        0.025          0.0   \n",
       "HPSI0114i-lexy_2        0.0     0.0   0.0          0.0          0.0   \n",
       "\n",
       "index            AL627309.1 RP11-34P13.14 RP11-34P13.9 AP006222.2  \\\n",
       "HPSI0114i-bezi_3        0.0           0.0          0.0   0.576923   \n",
       "HPSI0114i-eipl_1        0.0           0.0          0.0   0.505618   \n",
       "HPSI0114i-fikt_3        0.0           0.0          0.0       0.28   \n",
       "HPSI0114i-kolf_2      0.025           0.0          0.0       0.65   \n",
       "HPSI0114i-lexy_2        0.0           0.0          0.0   0.276596   \n",
       "\n",
       "index            RP4-669L17.10  ... KIR3DL2-1 AL590523.1 CT476828.1   PNRC2-1  \\\n",
       "HPSI0114i-bezi_3           0.0  ...       0.0        0.0        0.0       0.0   \n",
       "HPSI0114i-eipl_1           0.0  ...       0.0        0.0        0.0       0.0   \n",
       "HPSI0114i-fikt_3           0.0  ...       0.0        0.0        0.0       0.0   \n",
       "HPSI0114i-kolf_2           0.0  ...       0.0        0.0        0.0       0.0   \n",
       "HPSI0114i-lexy_2           0.0  ...       0.0        0.0        0.0  0.021277   \n",
       "\n",
       "index             SRSF10-1 AC145205.1 BAGE5 CU459201.1 AC002321.2 AC002321.1  \n",
       "HPSI0114i-bezi_3  0.038462        0.0   0.0        0.0        0.0        0.0  \n",
       "HPSI0114i-eipl_1  0.123595        0.0   0.0        0.0        0.0        0.0  \n",
       "HPSI0114i-fikt_3      0.08        0.0   0.0        0.0        0.0        0.0  \n",
       "HPSI0114i-kolf_2     0.025        0.0   0.0        0.0        0.0        0.0  \n",
       "HPSI0114i-lexy_2  0.148936        0.0   0.0        0.0        0.0        0.0  \n",
       "\n",
       "[5 rows x 32738 columns]"
      ]
     },
     "execution_count": 50,
     "metadata": {},
     "output_type": "execute_result"
    }
   ],
   "source": [
    "for donor in donors: \n",
    "#     print(donor)\n",
    "    res.loc[donor] = adata[adata.obs['donor_id'].isin([donor]),:].X.mean(0)\n",
    "res.head()"
   ]
  },
  {
   "cell_type": "code",
   "execution_count": 51,
   "id": "af114131",
   "metadata": {
    "scrolled": true
   },
   "outputs": [
    {
     "name": "stderr",
     "output_type": "stream",
     "text": [
      "/nfs/software/stegle/users/acuomo/conda-envs/spatialde/lib/python3.7/site-packages/pandas/core/arrays/categorical.py:2487: FutureWarning: The `inplace` parameter in pandas.Categorical.remove_unused_categories is deprecated and will be removed in a future version.\n",
      "  res = method(*args, **kwargs)\n",
      "/nfs/software/stegle/users/acuomo/conda-envs/spatialde/lib/python3.7/site-packages/ipykernel_launcher.py:3: SettingWithCopyWarning: \n",
      "A value is trying to be set on a copy of a slice from a DataFrame\n",
      "\n",
      "See the caveats in the documentation: https://pandas.pydata.org/pandas-docs/stable/user_guide/indexing.html#returning-a-view-versus-a-copy\n",
      "  This is separate from the ipykernel package so we can avoid doing imports until\n"
     ]
    }
   ],
   "source": [
    "res['n_cells'] = 0\n",
    "for donor in donors: \n",
    "    res.n_cells[donor] = adata[adata.obs['donor_id'].isin([donor]),:].shape[0]\n",
    "#     print(adata[adata.obs['donor_id'].isin([donor]),:].shape[0])"
   ]
  },
  {
   "cell_type": "code",
   "execution_count": 52,
   "id": "5e10979b",
   "metadata": {},
   "outputs": [
    {
     "data": {
      "text/html": [
       "<div>\n",
       "<style scoped>\n",
       "    .dataframe tbody tr th:only-of-type {\n",
       "        vertical-align: middle;\n",
       "    }\n",
       "\n",
       "    .dataframe tbody tr th {\n",
       "        vertical-align: top;\n",
       "    }\n",
       "\n",
       "    .dataframe thead th {\n",
       "        text-align: right;\n",
       "    }\n",
       "</style>\n",
       "<table border=\"1\" class=\"dataframe\">\n",
       "  <thead>\n",
       "    <tr style=\"text-align: right;\">\n",
       "      <th>index</th>\n",
       "      <th>MIR1302-10</th>\n",
       "      <th>FAM138A</th>\n",
       "      <th>OR4F5</th>\n",
       "      <th>RP11-34P13.7</th>\n",
       "      <th>RP11-34P13.8</th>\n",
       "      <th>AL627309.1</th>\n",
       "      <th>RP11-34P13.14</th>\n",
       "      <th>RP11-34P13.9</th>\n",
       "      <th>AP006222.2</th>\n",
       "      <th>RP4-669L17.10</th>\n",
       "      <th>...</th>\n",
       "      <th>AL590523.1</th>\n",
       "      <th>CT476828.1</th>\n",
       "      <th>PNRC2-1</th>\n",
       "      <th>SRSF10-1</th>\n",
       "      <th>AC145205.1</th>\n",
       "      <th>BAGE5</th>\n",
       "      <th>CU459201.1</th>\n",
       "      <th>AC002321.2</th>\n",
       "      <th>AC002321.1</th>\n",
       "      <th>n_cells</th>\n",
       "    </tr>\n",
       "  </thead>\n",
       "  <tbody>\n",
       "    <tr>\n",
       "      <th>HPSI0114i-bezi_3</th>\n",
       "      <td>0.0</td>\n",
       "      <td>0.0</td>\n",
       "      <td>0.0</td>\n",
       "      <td>0.0</td>\n",
       "      <td>0.0</td>\n",
       "      <td>0.0</td>\n",
       "      <td>0.0</td>\n",
       "      <td>0.0</td>\n",
       "      <td>0.576923</td>\n",
       "      <td>0.0</td>\n",
       "      <td>...</td>\n",
       "      <td>0.0</td>\n",
       "      <td>0.0</td>\n",
       "      <td>0.0</td>\n",
       "      <td>0.038462</td>\n",
       "      <td>0.0</td>\n",
       "      <td>0.0</td>\n",
       "      <td>0.0</td>\n",
       "      <td>0.0</td>\n",
       "      <td>0.0</td>\n",
       "      <td>26</td>\n",
       "    </tr>\n",
       "    <tr>\n",
       "      <th>HPSI0114i-eipl_1</th>\n",
       "      <td>0.011236</td>\n",
       "      <td>0.0</td>\n",
       "      <td>0.0</td>\n",
       "      <td>0.0</td>\n",
       "      <td>0.0</td>\n",
       "      <td>0.0</td>\n",
       "      <td>0.0</td>\n",
       "      <td>0.0</td>\n",
       "      <td>0.505618</td>\n",
       "      <td>0.0</td>\n",
       "      <td>...</td>\n",
       "      <td>0.0</td>\n",
       "      <td>0.0</td>\n",
       "      <td>0.0</td>\n",
       "      <td>0.123595</td>\n",
       "      <td>0.0</td>\n",
       "      <td>0.0</td>\n",
       "      <td>0.0</td>\n",
       "      <td>0.0</td>\n",
       "      <td>0.0</td>\n",
       "      <td>89</td>\n",
       "    </tr>\n",
       "    <tr>\n",
       "      <th>HPSI0114i-fikt_3</th>\n",
       "      <td>0.0</td>\n",
       "      <td>0.0</td>\n",
       "      <td>0.0</td>\n",
       "      <td>0.0</td>\n",
       "      <td>0.0</td>\n",
       "      <td>0.0</td>\n",
       "      <td>0.0</td>\n",
       "      <td>0.0</td>\n",
       "      <td>0.28</td>\n",
       "      <td>0.0</td>\n",
       "      <td>...</td>\n",
       "      <td>0.0</td>\n",
       "      <td>0.0</td>\n",
       "      <td>0.0</td>\n",
       "      <td>0.08</td>\n",
       "      <td>0.0</td>\n",
       "      <td>0.0</td>\n",
       "      <td>0.0</td>\n",
       "      <td>0.0</td>\n",
       "      <td>0.0</td>\n",
       "      <td>25</td>\n",
       "    </tr>\n",
       "    <tr>\n",
       "      <th>HPSI0114i-kolf_2</th>\n",
       "      <td>0.0</td>\n",
       "      <td>0.0</td>\n",
       "      <td>0.0</td>\n",
       "      <td>0.025</td>\n",
       "      <td>0.0</td>\n",
       "      <td>0.025</td>\n",
       "      <td>0.0</td>\n",
       "      <td>0.0</td>\n",
       "      <td>0.65</td>\n",
       "      <td>0.0</td>\n",
       "      <td>...</td>\n",
       "      <td>0.0</td>\n",
       "      <td>0.0</td>\n",
       "      <td>0.0</td>\n",
       "      <td>0.025</td>\n",
       "      <td>0.0</td>\n",
       "      <td>0.0</td>\n",
       "      <td>0.0</td>\n",
       "      <td>0.0</td>\n",
       "      <td>0.0</td>\n",
       "      <td>40</td>\n",
       "    </tr>\n",
       "    <tr>\n",
       "      <th>HPSI0114i-lexy_2</th>\n",
       "      <td>0.0</td>\n",
       "      <td>0.0</td>\n",
       "      <td>0.0</td>\n",
       "      <td>0.0</td>\n",
       "      <td>0.0</td>\n",
       "      <td>0.0</td>\n",
       "      <td>0.0</td>\n",
       "      <td>0.0</td>\n",
       "      <td>0.276596</td>\n",
       "      <td>0.0</td>\n",
       "      <td>...</td>\n",
       "      <td>0.0</td>\n",
       "      <td>0.0</td>\n",
       "      <td>0.021277</td>\n",
       "      <td>0.148936</td>\n",
       "      <td>0.0</td>\n",
       "      <td>0.0</td>\n",
       "      <td>0.0</td>\n",
       "      <td>0.0</td>\n",
       "      <td>0.0</td>\n",
       "      <td>47</td>\n",
       "    </tr>\n",
       "  </tbody>\n",
       "</table>\n",
       "<p>5 rows × 32739 columns</p>\n",
       "</div>"
      ],
      "text/plain": [
       "index            MIR1302-10 FAM138A OR4F5 RP11-34P13.7 RP11-34P13.8  \\\n",
       "HPSI0114i-bezi_3        0.0     0.0   0.0          0.0          0.0   \n",
       "HPSI0114i-eipl_1   0.011236     0.0   0.0          0.0          0.0   \n",
       "HPSI0114i-fikt_3        0.0     0.0   0.0          0.0          0.0   \n",
       "HPSI0114i-kolf_2        0.0     0.0   0.0        0.025          0.0   \n",
       "HPSI0114i-lexy_2        0.0     0.0   0.0          0.0          0.0   \n",
       "\n",
       "index            AL627309.1 RP11-34P13.14 RP11-34P13.9 AP006222.2  \\\n",
       "HPSI0114i-bezi_3        0.0           0.0          0.0   0.576923   \n",
       "HPSI0114i-eipl_1        0.0           0.0          0.0   0.505618   \n",
       "HPSI0114i-fikt_3        0.0           0.0          0.0       0.28   \n",
       "HPSI0114i-kolf_2      0.025           0.0          0.0       0.65   \n",
       "HPSI0114i-lexy_2        0.0           0.0          0.0   0.276596   \n",
       "\n",
       "index            RP4-669L17.10  ... AL590523.1 CT476828.1   PNRC2-1  SRSF10-1  \\\n",
       "HPSI0114i-bezi_3           0.0  ...        0.0        0.0       0.0  0.038462   \n",
       "HPSI0114i-eipl_1           0.0  ...        0.0        0.0       0.0  0.123595   \n",
       "HPSI0114i-fikt_3           0.0  ...        0.0        0.0       0.0      0.08   \n",
       "HPSI0114i-kolf_2           0.0  ...        0.0        0.0       0.0     0.025   \n",
       "HPSI0114i-lexy_2           0.0  ...        0.0        0.0  0.021277  0.148936   \n",
       "\n",
       "index            AC145205.1 BAGE5 CU459201.1 AC002321.2 AC002321.1 n_cells  \n",
       "HPSI0114i-bezi_3        0.0   0.0        0.0        0.0        0.0      26  \n",
       "HPSI0114i-eipl_1        0.0   0.0        0.0        0.0        0.0      89  \n",
       "HPSI0114i-fikt_3        0.0   0.0        0.0        0.0        0.0      25  \n",
       "HPSI0114i-kolf_2        0.0   0.0        0.0        0.0        0.0      40  \n",
       "HPSI0114i-lexy_2        0.0   0.0        0.0        0.0        0.0      47  \n",
       "\n",
       "[5 rows x 32739 columns]"
      ]
     },
     "execution_count": 52,
     "metadata": {},
     "output_type": "execute_result"
    }
   ],
   "source": [
    "res.head()"
   ]
  },
  {
   "cell_type": "code",
   "execution_count": 53,
   "id": "f1c634c9",
   "metadata": {},
   "outputs": [
    {
     "data": {
      "text/plain": [
       "(141, 32739)"
      ]
     },
     "execution_count": 53,
     "metadata": {},
     "output_type": "execute_result"
    }
   ],
   "source": [
    "res.shape"
   ]
  },
  {
   "cell_type": "code",
   "execution_count": 54,
   "id": "46ffb84b",
   "metadata": {},
   "outputs": [
    {
     "data": {
      "text/plain": [
       "(138, 32739)"
      ]
     },
     "execution_count": 54,
     "metadata": {},
     "output_type": "execute_result"
    }
   ],
   "source": [
    "res[res['n_cells']>5].shape"
   ]
  },
  {
   "cell_type": "code",
   "execution_count": null,
   "id": "24758448",
   "metadata": {},
   "outputs": [],
   "source": []
  },
  {
   "cell_type": "code",
   "execution_count": 55,
   "id": "06b9b664",
   "metadata": {},
   "outputs": [
    {
     "data": {
      "text/plain": [
       "'/hps/nobackup/stegle/users/acuomo/all_scripts/struct_LMM2/sc_neuroseq/da_coloc_GxC/SLC35E2-1_1660978_C_A_bottom30quantile_d52_mean_donor_level.csv'"
      ]
     },
     "execution_count": 55,
     "metadata": {},
     "output_type": "execute_result"
    }
   ],
   "source": [
    "import re\n",
    "file_new = re.sub(\"pseudocell_cell_map\", \"mean_donor_level\", file)\n",
    "file_new"
   ]
  },
  {
   "cell_type": "code",
   "execution_count": 56,
   "id": "72591192",
   "metadata": {},
   "outputs": [],
   "source": [
    "res.to_csv(file_new)"
   ]
  },
  {
   "cell_type": "code",
   "execution_count": null,
   "id": "00d4be1a",
   "metadata": {},
   "outputs": [],
   "source": []
  },
  {
   "cell_type": "code",
   "execution_count": null,
   "id": "9d59a5f4",
   "metadata": {},
   "outputs": [],
   "source": []
  },
  {
   "cell_type": "code",
   "execution_count": null,
   "id": "7adfcddb",
   "metadata": {},
   "outputs": [],
   "source": []
  }
 ],
 "metadata": {
  "kernelspec": {
   "display_name": "Python (spatialde)",
   "language": "python",
   "name": "spatialde"
  },
  "language_info": {
   "codemirror_mode": {
    "name": "ipython",
    "version": 3
   },
   "file_extension": ".py",
   "mimetype": "text/x-python",
   "name": "python",
   "nbconvert_exporter": "python",
   "pygments_lexer": "ipython3",
   "version": "3.7.9"
  }
 },
 "nbformat": 4,
 "nbformat_minor": 5
}
