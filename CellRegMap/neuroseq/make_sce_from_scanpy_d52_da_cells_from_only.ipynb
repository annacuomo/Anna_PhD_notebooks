{
 "cells": [
  {
   "cell_type": "code",
   "execution_count": 1,
   "metadata": {},
   "outputs": [
    {
     "name": "stderr",
     "output_type": "stream",
     "text": [
      "Loading required package: SummarizedExperiment\n",
      "Loading required package: GenomicRanges\n",
      "Loading required package: stats4\n",
      "Loading required package: BiocGenerics\n",
      "Loading required package: parallel\n",
      "\n",
      "Attaching package: ‘BiocGenerics’\n",
      "\n",
      "The following objects are masked from ‘package:parallel’:\n",
      "\n",
      "    clusterApply, clusterApplyLB, clusterCall, clusterEvalQ,\n",
      "    clusterExport, clusterMap, parApply, parCapply, parLapply,\n",
      "    parLapplyLB, parRapply, parSapply, parSapplyLB\n",
      "\n",
      "The following object is masked from ‘package:Matrix’:\n",
      "\n",
      "    which\n",
      "\n",
      "The following objects are masked from ‘package:stats’:\n",
      "\n",
      "    IQR, mad, sd, var, xtabs\n",
      "\n",
      "The following objects are masked from ‘package:base’:\n",
      "\n",
      "    anyDuplicated, append, as.data.frame, basename, cbind, colnames,\n",
      "    dirname, do.call, duplicated, eval, evalq, Filter, Find, get, grep,\n",
      "    grepl, intersect, is.unsorted, lapply, Map, mapply, match, mget,\n",
      "    order, paste, pmax, pmax.int, pmin, pmin.int, Position, rank,\n",
      "    rbind, Reduce, rownames, sapply, setdiff, sort, table, tapply,\n",
      "    union, unique, unsplit, which, which.max, which.min\n",
      "\n",
      "Loading required package: S4Vectors\n",
      "\n",
      "Attaching package: ‘S4Vectors’\n",
      "\n",
      "The following object is masked from ‘package:Matrix’:\n",
      "\n",
      "    expand\n",
      "\n",
      "The following object is masked from ‘package:base’:\n",
      "\n",
      "    expand.grid\n",
      "\n",
      "Loading required package: IRanges\n",
      "Loading required package: GenomeInfoDb\n",
      "Loading required package: Biobase\n",
      "Welcome to Bioconductor\n",
      "\n",
      "    Vignettes contain introductory material; view with\n",
      "    'browseVignettes()'. To cite Bioconductor, see\n",
      "    'citation(\"Biobase\")', and for packages 'citation(\"pkgname\")'.\n",
      "\n",
      "Loading required package: DelayedArray\n",
      "Loading required package: matrixStats\n",
      "\n",
      "Attaching package: ‘matrixStats’\n",
      "\n",
      "The following objects are masked from ‘package:Biobase’:\n",
      "\n",
      "    anyMissing, rowMedians\n",
      "\n",
      "Loading required package: BiocParallel\n",
      "\n",
      "Attaching package: ‘DelayedArray’\n",
      "\n",
      "The following objects are masked from ‘package:matrixStats’:\n",
      "\n",
      "    colMaxs, colMins, colRanges, rowMaxs, rowMins, rowRanges\n",
      "\n",
      "The following objects are masked from ‘package:base’:\n",
      "\n",
      "    aperm, apply, rowsum\n",
      "\n"
     ]
    }
   ],
   "source": [
    "library(rhdf5)\n",
    "library(Matrix)\n",
    "library(SingleCellExperiment)"
   ]
  },
  {
   "cell_type": "code",
   "execution_count": 2,
   "metadata": {},
   "outputs": [],
   "source": [
    "filename = \"/hps/nobackup/stegle/users/acuomo/all_scripts/struct_LMM2/sc_neuroseq/all_da_d52_cells.h5\""
   ]
  },
  {
   "cell_type": "code",
   "execution_count": 3,
   "metadata": {},
   "outputs": [
    {
     "data": {
      "text/html": [
       "<table>\n",
       "<tbody>\n",
       "\t<tr><td>/                          </td><td>X                          </td></tr>\n",
       "\t<tr><td>/X                         </td><td>data                       </td></tr>\n",
       "\t<tr><td>/X                         </td><td>indices                    </td></tr>\n",
       "\t<tr><td>/X                         </td><td>indptr                     </td></tr>\n",
       "\t<tr><td>/                          </td><td>obs                        </td></tr>\n",
       "\t<tr><td>/obs                       </td><td>__categories               </td></tr>\n",
       "\t<tr><td>/obs/__categories          </td><td>batch                      </td></tr>\n",
       "\t<tr><td>/obs/__categories          </td><td>celltype                   </td></tr>\n",
       "\t<tr><td>/obs/__categories          </td><td>donor_id                   </td></tr>\n",
       "\t<tr><td>/obs/__categories          </td><td>pool_id                    </td></tr>\n",
       "\t<tr><td>/obs/__categories          </td><td>sample_id                  </td></tr>\n",
       "\t<tr><td>/obs/__categories          </td><td>time_point                 </td></tr>\n",
       "\t<tr><td>/obs/__categories          </td><td>treatment                  </td></tr>\n",
       "\t<tr><td>/obs                       </td><td>batch                      </td></tr>\n",
       "\t<tr><td>/obs                       </td><td>celltype                   </td></tr>\n",
       "\t<tr><td>/obs                       </td><td>cluster_id                 </td></tr>\n",
       "\t<tr><td>/obs                       </td><td>donor_id                   </td></tr>\n",
       "\t<tr><td>/obs                       </td><td>index                      </td></tr>\n",
       "\t<tr><td>/obs                       </td><td>log1p_n_genes_by_counts    </td></tr>\n",
       "\t<tr><td>/obs                       </td><td>log1p_total_counts         </td></tr>\n",
       "\t<tr><td>/obs                       </td><td>log1p_total_counts_mito    </td></tr>\n",
       "\t<tr><td>/obs                       </td><td>n_counts_all               </td></tr>\n",
       "\t<tr><td>/obs                       </td><td>n_genes_by_counts          </td></tr>\n",
       "\t<tr><td>/obs                       </td><td>pct_counts_in_top_100_genes</td></tr>\n",
       "\t<tr><td>/obs                       </td><td>pct_counts_in_top_200_genes</td></tr>\n",
       "\t<tr><td>/obs                       </td><td>pct_counts_in_top_500_genes</td></tr>\n",
       "\t<tr><td>/obs                       </td><td>pct_counts_in_top_50_genes </td></tr>\n",
       "\t<tr><td>/obs                       </td><td>pct_counts_mito            </td></tr>\n",
       "\t<tr><td>/obs                       </td><td>pool_id                    </td></tr>\n",
       "\t<tr><td>/obs                       </td><td>sample_id                  </td></tr>\n",
       "\t<tr><td>/obs                       </td><td>time_point                 </td></tr>\n",
       "\t<tr><td>/obs                       </td><td>total_counts               </td></tr>\n",
       "\t<tr><td>/obs                       </td><td>total_counts_mito          </td></tr>\n",
       "\t<tr><td>/obs                       </td><td>treatment                  </td></tr>\n",
       "\t<tr><td>/                          </td><td>obsm                       </td></tr>\n",
       "\t<tr><td>/obsm                      </td><td>X_umap                     </td></tr>\n",
       "\t<tr><td>/                          </td><td>var                        </td></tr>\n",
       "\t<tr><td>/var                       </td><td>index                      </td></tr>\n",
       "</tbody>\n",
       "</table>\n"
      ],
      "text/latex": [
       "\\begin{tabular}{ll}\n",
       "\t /                           & X                          \\\\\n",
       "\t /X                          & data                       \\\\\n",
       "\t /X                          & indices                    \\\\\n",
       "\t /X                          & indptr                     \\\\\n",
       "\t /                           & obs                        \\\\\n",
       "\t /obs                            & \\_\\_categories               \\\\\n",
       "\t /obs/\\_\\_categories       & batch                      \\\\\n",
       "\t /obs/\\_\\_categories       & celltype                   \\\\\n",
       "\t /obs/\\_\\_categories         & donor\\_id                   \\\\\n",
       "\t /obs/\\_\\_categories         & pool\\_id                    \\\\\n",
       "\t /obs/\\_\\_categories         & sample\\_id                  \\\\\n",
       "\t /obs/\\_\\_categories         & time\\_point                 \\\\\n",
       "\t /obs/\\_\\_categories       & treatment                  \\\\\n",
       "\t /obs                        & batch                      \\\\\n",
       "\t /obs                        & celltype                   \\\\\n",
       "\t /obs                          & cluster\\_id                 \\\\\n",
       "\t /obs                          & donor\\_id                   \\\\\n",
       "\t /obs                        & index                      \\\\\n",
       "\t /obs                                & log1p\\_n\\_genes\\_by\\_counts    \\\\\n",
       "\t /obs                            & log1p\\_total\\_counts         \\\\\n",
       "\t /obs                              & log1p\\_total\\_counts\\_mito    \\\\\n",
       "\t /obs                            & n\\_counts\\_all               \\\\\n",
       "\t /obs                              & n\\_genes\\_by\\_counts          \\\\\n",
       "\t /obs                                  & pct\\_counts\\_in\\_top\\_100\\_genes\\\\\n",
       "\t /obs                                  & pct\\_counts\\_in\\_top\\_200\\_genes\\\\\n",
       "\t /obs                                  & pct\\_counts\\_in\\_top\\_500\\_genes\\\\\n",
       "\t /obs                                  & pct\\_counts\\_in\\_top\\_50\\_genes \\\\\n",
       "\t /obs                            & pct\\_counts\\_mito            \\\\\n",
       "\t /obs                          & pool\\_id                    \\\\\n",
       "\t /obs                          & sample\\_id                  \\\\\n",
       "\t /obs                          & time\\_point                 \\\\\n",
       "\t /obs                          & total\\_counts               \\\\\n",
       "\t /obs                            & total\\_counts\\_mito          \\\\\n",
       "\t /obs                        & treatment                  \\\\\n",
       "\t /                           & obsm                       \\\\\n",
       "\t /obsm                         & X\\_umap                     \\\\\n",
       "\t /                           & var                        \\\\\n",
       "\t /var                        & index                      \\\\\n",
       "\\end{tabular}\n"
      ],
      "text/markdown": [
       "\n",
       "| /                           | X                           |\n",
       "| /X                          | data                        |\n",
       "| /X                          | indices                     |\n",
       "| /X                          | indptr                      |\n",
       "| /                           | obs                         |\n",
       "| /obs                        | __categories                |\n",
       "| /obs/__categories           | batch                       |\n",
       "| /obs/__categories           | celltype                    |\n",
       "| /obs/__categories           | donor_id                    |\n",
       "| /obs/__categories           | pool_id                     |\n",
       "| /obs/__categories           | sample_id                   |\n",
       "| /obs/__categories           | time_point                  |\n",
       "| /obs/__categories           | treatment                   |\n",
       "| /obs                        | batch                       |\n",
       "| /obs                        | celltype                    |\n",
       "| /obs                        | cluster_id                  |\n",
       "| /obs                        | donor_id                    |\n",
       "| /obs                        | index                       |\n",
       "| /obs                        | log1p_n_genes_by_counts     |\n",
       "| /obs                        | log1p_total_counts          |\n",
       "| /obs                        | log1p_total_counts_mito     |\n",
       "| /obs                        | n_counts_all                |\n",
       "| /obs                        | n_genes_by_counts           |\n",
       "| /obs                        | pct_counts_in_top_100_genes |\n",
       "| /obs                        | pct_counts_in_top_200_genes |\n",
       "| /obs                        | pct_counts_in_top_500_genes |\n",
       "| /obs                        | pct_counts_in_top_50_genes  |\n",
       "| /obs                        | pct_counts_mito             |\n",
       "| /obs                        | pool_id                     |\n",
       "| /obs                        | sample_id                   |\n",
       "| /obs                        | time_point                  |\n",
       "| /obs                        | total_counts                |\n",
       "| /obs                        | total_counts_mito           |\n",
       "| /obs                        | treatment                   |\n",
       "| /                           | obsm                        |\n",
       "| /obsm                       | X_umap                      |\n",
       "| /                           | var                         |\n",
       "| /var                        | index                       |\n",
       "\n"
      ],
      "text/plain": [
       "      [,1]              [,2]                       \n",
       " [1,] /                 X                          \n",
       " [2,] /X                data                       \n",
       " [3,] /X                indices                    \n",
       " [4,] /X                indptr                     \n",
       " [5,] /                 obs                        \n",
       " [6,] /obs              __categories               \n",
       " [7,] /obs/__categories batch                      \n",
       " [8,] /obs/__categories celltype                   \n",
       " [9,] /obs/__categories donor_id                   \n",
       "[10,] /obs/__categories pool_id                    \n",
       "[11,] /obs/__categories sample_id                  \n",
       "[12,] /obs/__categories time_point                 \n",
       "[13,] /obs/__categories treatment                  \n",
       "[14,] /obs              batch                      \n",
       "[15,] /obs              celltype                   \n",
       "[16,] /obs              cluster_id                 \n",
       "[17,] /obs              donor_id                   \n",
       "[18,] /obs              index                      \n",
       "[19,] /obs              log1p_n_genes_by_counts    \n",
       "[20,] /obs              log1p_total_counts         \n",
       "[21,] /obs              log1p_total_counts_mito    \n",
       "[22,] /obs              n_counts_all               \n",
       "[23,] /obs              n_genes_by_counts          \n",
       "[24,] /obs              pct_counts_in_top_100_genes\n",
       "[25,] /obs              pct_counts_in_top_200_genes\n",
       "[26,] /obs              pct_counts_in_top_500_genes\n",
       "[27,] /obs              pct_counts_in_top_50_genes \n",
       "[28,] /obs              pct_counts_mito            \n",
       "[29,] /obs              pool_id                    \n",
       "[30,] /obs              sample_id                  \n",
       "[31,] /obs              time_point                 \n",
       "[32,] /obs              total_counts               \n",
       "[33,] /obs              total_counts_mito          \n",
       "[34,] /obs              treatment                  \n",
       "[35,] /                 obsm                       \n",
       "[36,] /obsm             X_umap                     \n",
       "[37,] /                 var                        \n",
       "[38,] /var              index                      "
      ]
     },
     "metadata": {},
     "output_type": "display_data"
    }
   ],
   "source": [
    "cbind(h5ls(filename)$group,\n",
    "h5ls(filename)$name)"
   ]
  },
  {
   "cell_type": "code",
   "execution_count": 4,
   "metadata": {},
   "outputs": [],
   "source": [
    "ind = h5read(file = filename, \"obs\")$index # cell names\n",
    "var = h5read(file = filename, \"var\") # gene names"
   ]
  },
  {
   "cell_type": "code",
   "execution_count": 6,
   "metadata": {},
   "outputs": [
    {
     "data": {
      "text/html": [
       "<ol class=list-inline>\n",
       "\t<li>'CCAGCGAGTTACTGAC-1-64'</li>\n",
       "\t<li>'ACGCAGCGTTCGCTAA-1-45'</li>\n",
       "\t<li>'ACGTCAAGTCTAGCCG-1-51'</li>\n",
       "\t<li>'GACACGCGTGTGAAAT-1-19'</li>\n",
       "\t<li>'CGTCTACGTCGGGTCT-1-35'</li>\n",
       "\t<li>'AAATGCCTCGGATGGA-1-53'</li>\n",
       "</ol>\n"
      ],
      "text/latex": [
       "\\begin{enumerate*}\n",
       "\\item 'CCAGCGAGTTACTGAC-1-64'\n",
       "\\item 'ACGCAGCGTTCGCTAA-1-45'\n",
       "\\item 'ACGTCAAGTCTAGCCG-1-51'\n",
       "\\item 'GACACGCGTGTGAAAT-1-19'\n",
       "\\item 'CGTCTACGTCGGGTCT-1-35'\n",
       "\\item 'AAATGCCTCGGATGGA-1-53'\n",
       "\\end{enumerate*}\n"
      ],
      "text/markdown": [
       "1. 'CCAGCGAGTTACTGAC-1-64'\n",
       "2. 'ACGCAGCGTTCGCTAA-1-45'\n",
       "3. 'ACGTCAAGTCTAGCCG-1-51'\n",
       "4. 'GACACGCGTGTGAAAT-1-19'\n",
       "5. 'CGTCTACGTCGGGTCT-1-35'\n",
       "6. 'AAATGCCTCGGATGGA-1-53'\n",
       "\n",
       "\n"
      ],
      "text/plain": [
       "[1] \"CCAGCGAGTTACTGAC-1-64\" \"ACGCAGCGTTCGCTAA-1-45\" \"ACGTCAAGTCTAGCCG-1-51\"\n",
       "[4] \"GACACGCGTGTGAAAT-1-19\" \"CGTCTACGTCGGGTCT-1-35\" \"AAATGCCTCGGATGGA-1-53\""
      ]
     },
     "metadata": {},
     "output_type": "display_data"
    }
   ],
   "source": [
    "head(ind)"
   ]
  },
  {
   "cell_type": "code",
   "execution_count": 7,
   "metadata": {},
   "outputs": [
    {
     "data": {
      "text/html": [
       "<ol class=list-inline>\n",
       "\t<li>'MIR1302-10'</li>\n",
       "\t<li>'FAM138A'</li>\n",
       "\t<li>'OR4F5'</li>\n",
       "\t<li>'RP11-34P13.7'</li>\n",
       "\t<li>'RP11-34P13.8'</li>\n",
       "\t<li>'AL627309.1'</li>\n",
       "</ol>\n"
      ],
      "text/latex": [
       "\\begin{enumerate*}\n",
       "\\item 'MIR1302-10'\n",
       "\\item 'FAM138A'\n",
       "\\item 'OR4F5'\n",
       "\\item 'RP11-34P13.7'\n",
       "\\item 'RP11-34P13.8'\n",
       "\\item 'AL627309.1'\n",
       "\\end{enumerate*}\n"
      ],
      "text/markdown": [
       "1. 'MIR1302-10'\n",
       "2. 'FAM138A'\n",
       "3. 'OR4F5'\n",
       "4. 'RP11-34P13.7'\n",
       "5. 'RP11-34P13.8'\n",
       "6. 'AL627309.1'\n",
       "\n",
       "\n"
      ],
      "text/plain": [
       "[1] \"MIR1302-10\"   \"FAM138A\"      \"OR4F5\"        \"RP11-34P13.7\" \"RP11-34P13.8\"\n",
       "[6] \"AL627309.1\"  "
      ]
     },
     "metadata": {},
     "output_type": "display_data"
    }
   ],
   "source": [
    "head(var$index)\n",
    "# var$index[grep(\"NANOG\",var$index)]"
   ]
  },
  {
   "cell_type": "code",
   "execution_count": 8,
   "metadata": {},
   "outputs": [],
   "source": [
    "X = h5read(file = filename, \"X\")\n",
    "X_data = as.integer(X$data)\n",
    "X_indptr = as.integer(X$indptr)\n",
    "X_indices = as.integer(X$indices)\n",
    "rm(X)"
   ]
  },
  {
   "cell_type": "code",
   "execution_count": 9,
   "metadata": {},
   "outputs": [],
   "source": [
    "sMat = sparseMatrix(\n",
    "i = X_indices,\n",
    "p = X_indptr,\n",
    "x = X_data,\n",
    "dims = c(length(var[[1]]), length(ind)),\n",
    "index1 = FALSE\n",
    ")\n",
    "rownames(sMat) <- as.character(var[[1]])\n",
    "colnames(sMat) <- as.character(ind)"
   ]
  },
  {
   "cell_type": "code",
   "execution_count": 10,
   "metadata": {},
   "outputs": [
    {
     "data": {
      "text/html": [
       "<ol class=list-inline>\n",
       "\t<li>'QSOX1'</li>\n",
       "\t<li>'SOX13'</li>\n",
       "\t<li>'SOX11'</li>\n",
       "\t<li>'SOX14'</li>\n",
       "\t<li>'SOX2'</li>\n",
       "\t<li>'SOX30'</li>\n",
       "\t<li>'SOX4'</li>\n",
       "\t<li>'SOX3'</li>\n",
       "\t<li>'SOX7'</li>\n",
       "\t<li>'SOX7-1'</li>\n",
       "\t<li>'SOX17'</li>\n",
       "\t<li>'QSOX2'</li>\n",
       "\t<li>'SOX6'</li>\n",
       "\t<li>'SOX5'</li>\n",
       "\t<li>'SOX21'</li>\n",
       "\t<li>'SOX21-AS1'</li>\n",
       "\t<li>'SOX1'</li>\n",
       "\t<li>'SOX8'</li>\n",
       "\t<li>'SOX15'</li>\n",
       "\t<li>'SOX9'</li>\n",
       "\t<li>'SOX12'</li>\n",
       "\t<li>'SOX18'</li>\n",
       "\t<li>'SOX10'</li>\n",
       "</ol>\n"
      ],
      "text/latex": [
       "\\begin{enumerate*}\n",
       "\\item 'QSOX1'\n",
       "\\item 'SOX13'\n",
       "\\item 'SOX11'\n",
       "\\item 'SOX14'\n",
       "\\item 'SOX2'\n",
       "\\item 'SOX30'\n",
       "\\item 'SOX4'\n",
       "\\item 'SOX3'\n",
       "\\item 'SOX7'\n",
       "\\item 'SOX7-1'\n",
       "\\item 'SOX17'\n",
       "\\item 'QSOX2'\n",
       "\\item 'SOX6'\n",
       "\\item 'SOX5'\n",
       "\\item 'SOX21'\n",
       "\\item 'SOX21-AS1'\n",
       "\\item 'SOX1'\n",
       "\\item 'SOX8'\n",
       "\\item 'SOX15'\n",
       "\\item 'SOX9'\n",
       "\\item 'SOX12'\n",
       "\\item 'SOX18'\n",
       "\\item 'SOX10'\n",
       "\\end{enumerate*}\n"
      ],
      "text/markdown": [
       "1. 'QSOX1'\n",
       "2. 'SOX13'\n",
       "3. 'SOX11'\n",
       "4. 'SOX14'\n",
       "5. 'SOX2'\n",
       "6. 'SOX30'\n",
       "7. 'SOX4'\n",
       "8. 'SOX3'\n",
       "9. 'SOX7'\n",
       "10. 'SOX7-1'\n",
       "11. 'SOX17'\n",
       "12. 'QSOX2'\n",
       "13. 'SOX6'\n",
       "14. 'SOX5'\n",
       "15. 'SOX21'\n",
       "16. 'SOX21-AS1'\n",
       "17. 'SOX1'\n",
       "18. 'SOX8'\n",
       "19. 'SOX15'\n",
       "20. 'SOX9'\n",
       "21. 'SOX12'\n",
       "22. 'SOX18'\n",
       "23. 'SOX10'\n",
       "\n",
       "\n"
      ],
      "text/plain": [
       " [1] \"QSOX1\"     \"SOX13\"     \"SOX11\"     \"SOX14\"     \"SOX2\"      \"SOX30\"    \n",
       " [7] \"SOX4\"      \"SOX3\"      \"SOX7\"      \"SOX7-1\"    \"SOX17\"     \"QSOX2\"    \n",
       "[13] \"SOX6\"      \"SOX5\"      \"SOX21\"     \"SOX21-AS1\" \"SOX1\"      \"SOX8\"     \n",
       "[19] \"SOX15\"     \"SOX9\"      \"SOX12\"     \"SOX18\"     \"SOX10\"    "
      ]
     },
     "metadata": {},
     "output_type": "display_data"
    }
   ],
   "source": [
    "rownames(sMat)[grep(\"SOX\",rownames(sMat))]"
   ]
  },
  {
   "cell_type": "code",
   "execution_count": 11,
   "metadata": {},
   "outputs": [],
   "source": [
    "R_filename = \"/hps/nobackup/stegle/users/acuomo/all_scripts/struct_LMM2/sc_neuroseq/all_da_d52_cells.Rds\"\n",
    "saveRDS(sMat, file = R_filename)"
   ]
  },
  {
   "cell_type": "code",
   "execution_count": null,
   "metadata": {},
   "outputs": [],
   "source": []
  },
  {
   "cell_type": "code",
   "execution_count": 22,
   "metadata": {},
   "outputs": [
    {
     "data": {
      "text/html": [
       "<ol class=list-inline>\n",
       "\t<li>'__categories'</li>\n",
       "\t<li>'batch'</li>\n",
       "\t<li>'celltype'</li>\n",
       "\t<li>'cluster_id'</li>\n",
       "\t<li>'donor_id'</li>\n",
       "\t<li>'index'</li>\n",
       "\t<li>'log1p_n_genes_by_counts'</li>\n",
       "\t<li>'log1p_total_counts'</li>\n",
       "\t<li>'log1p_total_counts_mito'</li>\n",
       "\t<li>'n_counts_all'</li>\n",
       "\t<li>'n_genes_by_counts'</li>\n",
       "\t<li>'pct_counts_in_top_100_genes'</li>\n",
       "\t<li>'pct_counts_in_top_200_genes'</li>\n",
       "\t<li>'pct_counts_in_top_500_genes'</li>\n",
       "\t<li>'pct_counts_in_top_50_genes'</li>\n",
       "\t<li>'pct_counts_mito'</li>\n",
       "\t<li>'pool_id'</li>\n",
       "\t<li>'sample_id'</li>\n",
       "\t<li>'time_point'</li>\n",
       "\t<li>'total_counts'</li>\n",
       "\t<li>'total_counts_mito'</li>\n",
       "\t<li>'treatment'</li>\n",
       "</ol>\n"
      ],
      "text/latex": [
       "\\begin{enumerate*}\n",
       "\\item '\\_\\_categories'\n",
       "\\item 'batch'\n",
       "\\item 'celltype'\n",
       "\\item 'cluster\\_id'\n",
       "\\item 'donor\\_id'\n",
       "\\item 'index'\n",
       "\\item 'log1p\\_n\\_genes\\_by\\_counts'\n",
       "\\item 'log1p\\_total\\_counts'\n",
       "\\item 'log1p\\_total\\_counts\\_mito'\n",
       "\\item 'n\\_counts\\_all'\n",
       "\\item 'n\\_genes\\_by\\_counts'\n",
       "\\item 'pct\\_counts\\_in\\_top\\_100\\_genes'\n",
       "\\item 'pct\\_counts\\_in\\_top\\_200\\_genes'\n",
       "\\item 'pct\\_counts\\_in\\_top\\_500\\_genes'\n",
       "\\item 'pct\\_counts\\_in\\_top\\_50\\_genes'\n",
       "\\item 'pct\\_counts\\_mito'\n",
       "\\item 'pool\\_id'\n",
       "\\item 'sample\\_id'\n",
       "\\item 'time\\_point'\n",
       "\\item 'total\\_counts'\n",
       "\\item 'total\\_counts\\_mito'\n",
       "\\item 'treatment'\n",
       "\\end{enumerate*}\n"
      ],
      "text/markdown": [
       "1. '__categories'\n",
       "2. 'batch'\n",
       "3. 'celltype'\n",
       "4. 'cluster_id'\n",
       "5. 'donor_id'\n",
       "6. 'index'\n",
       "7. 'log1p_n_genes_by_counts'\n",
       "8. 'log1p_total_counts'\n",
       "9. 'log1p_total_counts_mito'\n",
       "10. 'n_counts_all'\n",
       "11. 'n_genes_by_counts'\n",
       "12. 'pct_counts_in_top_100_genes'\n",
       "13. 'pct_counts_in_top_200_genes'\n",
       "14. 'pct_counts_in_top_500_genes'\n",
       "15. 'pct_counts_in_top_50_genes'\n",
       "16. 'pct_counts_mito'\n",
       "17. 'pool_id'\n",
       "18. 'sample_id'\n",
       "19. 'time_point'\n",
       "20. 'total_counts'\n",
       "21. 'total_counts_mito'\n",
       "22. 'treatment'\n",
       "\n",
       "\n"
      ],
      "text/plain": [
       " [1] \"__categories\"                \"batch\"                      \n",
       " [3] \"celltype\"                    \"cluster_id\"                 \n",
       " [5] \"donor_id\"                    \"index\"                      \n",
       " [7] \"log1p_n_genes_by_counts\"     \"log1p_total_counts\"         \n",
       " [9] \"log1p_total_counts_mito\"     \"n_counts_all\"               \n",
       "[11] \"n_genes_by_counts\"           \"pct_counts_in_top_100_genes\"\n",
       "[13] \"pct_counts_in_top_200_genes\" \"pct_counts_in_top_500_genes\"\n",
       "[15] \"pct_counts_in_top_50_genes\"  \"pct_counts_mito\"            \n",
       "[17] \"pool_id\"                     \"sample_id\"                  \n",
       "[19] \"time_point\"                  \"total_counts\"               \n",
       "[21] \"total_counts_mito\"           \"treatment\"                  "
      ]
     },
     "metadata": {},
     "output_type": "display_data"
    },
    {
     "data": {
      "text/html": [
       "<ol class=list-inline>\n",
       "\t<li>'batch'</li>\n",
       "\t<li>'celltype'</li>\n",
       "\t<li>'donor_id'</li>\n",
       "\t<li>'pool_id'</li>\n",
       "\t<li>'sample_id'</li>\n",
       "\t<li>'time_point'</li>\n",
       "\t<li>'treatment'</li>\n",
       "</ol>\n"
      ],
      "text/latex": [
       "\\begin{enumerate*}\n",
       "\\item 'batch'\n",
       "\\item 'celltype'\n",
       "\\item 'donor\\_id'\n",
       "\\item 'pool\\_id'\n",
       "\\item 'sample\\_id'\n",
       "\\item 'time\\_point'\n",
       "\\item 'treatment'\n",
       "\\end{enumerate*}\n"
      ],
      "text/markdown": [
       "1. 'batch'\n",
       "2. 'celltype'\n",
       "3. 'donor_id'\n",
       "4. 'pool_id'\n",
       "5. 'sample_id'\n",
       "6. 'time_point'\n",
       "7. 'treatment'\n",
       "\n",
       "\n"
      ],
      "text/plain": [
       "[1] \"batch\"      \"celltype\"   \"donor_id\"   \"pool_id\"    \"sample_id\" \n",
       "[6] \"time_point\" \"treatment\" "
      ]
     },
     "metadata": {},
     "output_type": "display_data"
    }
   ],
   "source": [
    "obs = h5read(file = filename, \"obs\")\n",
    "all_cols = names(obs)\n",
    "all_cols\n",
    "categorical_cols = names(h5read(file = filename, \"obs/__categories\"))\n",
    "categorical_cols"
   ]
  },
  {
   "cell_type": "code",
   "execution_count": null,
   "metadata": {},
   "outputs": [],
   "source": []
  },
  {
   "cell_type": "code",
   "execution_count": 54,
   "metadata": {},
   "outputs": [
    {
     "data": {
      "text/html": [
       "<table>\n",
       "<tbody>\n",
       "\t<tr><th scope=row>CCAGCGAGTTACTGAC-1-64</th></tr>\n",
       "\t<tr><th scope=row>ACGCAGCGTTCGCTAA-1-45</th></tr>\n",
       "\t<tr><th scope=row>ACGTCAAGTCTAGCCG-1-51</th></tr>\n",
       "\t<tr><th scope=row>GACACGCGTGTGAAAT-1-19</th></tr>\n",
       "\t<tr><th scope=row>CGTCTACGTCGGGTCT-1-35</th></tr>\n",
       "\t<tr><th scope=row>AAATGCCTCGGATGGA-1-53</th></tr>\n",
       "</tbody>\n",
       "</table>\n"
      ],
      "text/latex": [
       "\\begin{tabular}{r|}\n",
       "\tCCAGCGAGTTACTGAC-1-64\\\\\n",
       "\tACGCAGCGTTCGCTAA-1-45\\\\\n",
       "\tACGTCAAGTCTAGCCG-1-51\\\\\n",
       "\tGACACGCGTGTGAAAT-1-19\\\\\n",
       "\tCGTCTACGTCGGGTCT-1-35\\\\\n",
       "\tAAATGCCTCGGATGGA-1-53\\\\\n",
       "\\end{tabular}\n"
      ],
      "text/markdown": [
       "\n",
       "| CCAGCGAGTTACTGAC-1-64 |\n",
       "| ACGCAGCGTTCGCTAA-1-45 |\n",
       "| ACGTCAAGTCTAGCCG-1-51 |\n",
       "| GACACGCGTGTGAAAT-1-19 |\n",
       "| CGTCTACGTCGGGTCT-1-35 |\n",
       "| AAATGCCTCGGATGGA-1-53 |\n",
       "\n"
      ],
      "text/plain": [
       "                     \n",
       "CCAGCGAGTTACTGAC-1-64\n",
       "ACGCAGCGTTCGCTAA-1-45\n",
       "ACGTCAAGTCTAGCCG-1-51\n",
       "GACACGCGTGTGAAAT-1-19\n",
       "CGTCTACGTCGGGTCT-1-35\n",
       "AAATGCCTCGGATGGA-1-53"
      ]
     },
     "metadata": {},
     "output_type": "display_data"
    }
   ],
   "source": [
    "df = data.frame(row.names = obs$index)\n",
    "head(df)"
   ]
  },
  {
   "cell_type": "code",
   "execution_count": 55,
   "metadata": {
    "scrolled": true
   },
   "outputs": [],
   "source": [
    "for (col in all_cols){\n",
    "#     print(col)\n",
    "    if (!(col %in% c(categorical_cols, \"__categories\",\"index\"))){\n",
    "#         print(col)\n",
    "#         print(obs[[col]])\n",
    "        df[[col]] = (as.numeric(unlist(obs[[col]])))   \n",
    "    }\n",
    "    if (col %in% c(categorical_cols)){\n",
    "        colname = paste0(\"obs/__categories/\",col)\n",
    "        df[[col]] = h5read(file = filename,colname)[((as.numeric(obs[[col]]))+1)]\n",
    "    }\n",
    "}"
   ]
  },
  {
   "cell_type": "code",
   "execution_count": 56,
   "metadata": {},
   "outputs": [
    {
     "data": {
      "text/html": [
       "<table>\n",
       "<thead><tr><th></th><th scope=col>batch</th><th scope=col>celltype</th><th scope=col>cluster_id</th><th scope=col>donor_id</th><th scope=col>log1p_n_genes_by_counts</th><th scope=col>log1p_total_counts</th><th scope=col>log1p_total_counts_mito</th><th scope=col>n_counts_all</th><th scope=col>n_genes_by_counts</th><th scope=col>pct_counts_in_top_100_genes</th><th scope=col>pct_counts_in_top_200_genes</th><th scope=col>pct_counts_in_top_500_genes</th><th scope=col>pct_counts_in_top_50_genes</th><th scope=col>pct_counts_mito</th><th scope=col>pool_id</th><th scope=col>sample_id</th><th scope=col>time_point</th><th scope=col>total_counts</th><th scope=col>total_counts_mito</th><th scope=col>treatment</th></tr></thead>\n",
       "<tbody>\n",
       "\t<tr><th scope=row>CCAGCGAGTTACTGAC-1-64</th><td>64              </td><td>DA              </td><td>3               </td><td>HPSI0513i-veve_2</td><td>8.417373        </td><td>9.667068        </td><td>6.216606        </td><td>15788           </td><td>4524            </td><td>28.88903        </td><td>38.44059        </td><td>54.28807        </td><td>21.56068        </td><td>3.166962        </td><td>pool11          </td><td>5245STDY7923746 </td><td>D52             </td><td>15788           </td><td>500             </td><td>NONE            </td></tr>\n",
       "\t<tr><th scope=row>ACGCAGCGTTCGCTAA-1-45</th><td>45              </td><td>DA              </td><td>3               </td><td>HPSI1013i-hiaf_1</td><td>7.995307        </td><td>9.307104        </td><td>5.327876        </td><td>11015           </td><td>2966            </td><td>39.48252        </td><td>51.52973        </td><td>67.32637        </td><td>28.35225        </td><td>1.861099        </td><td>pool6           </td><td>5245STDY7685556 </td><td>D52             </td><td>11015           </td><td>205             </td><td>ROT             </td></tr>\n",
       "\t<tr><th scope=row>ACGTCAAGTCTAGCCG-1-51</th><td>51              </td><td>DA              </td><td>3               </td><td>HPSI1014i-babz_3</td><td>7.956126        </td><td>8.983565        </td><td>5.327876        </td><td> 7970           </td><td>2852            </td><td>34.84316        </td><td>46.18570        </td><td>61.96989        </td><td>25.10665        </td><td>2.572145        </td><td>pool8           </td><td>5245STDY7685562 </td><td>D52             </td><td> 7970           </td><td>205             </td><td>NONE            </td></tr>\n",
       "\t<tr><th scope=row>GACACGCGTGTGAAAT-1-19</th><td>19              </td><td>DA              </td><td>3               </td><td>HPSI1213i-hehd_1</td><td>7.880804        </td><td>8.988196        </td><td>4.744932        </td><td> 8007           </td><td>2645            </td><td>37.29237        </td><td>48.47009        </td><td>65.04309        </td><td>27.77570        </td><td>1.423754        </td><td>pool4           </td><td>5245STDY7544161 </td><td>D52             </td><td> 8007           </td><td>114             </td><td>ROT             </td></tr>\n",
       "\t<tr><th scope=row>CGTCTACGTCGGGTCT-1-35</th><td>35              </td><td>DA              </td><td>3               </td><td>HPSI0215i-hipn_1</td><td>8.022569        </td><td>9.096051        </td><td>5.902633        </td><td> 8919           </td><td>3048            </td><td>30.46306        </td><td>41.58538        </td><td>58.84068        </td><td>21.61677        </td><td>4.092387        </td><td>pool7           </td><td>5245STDY7660072 </td><td>D52             </td><td> 8919           </td><td>365             </td><td>NONE            </td></tr>\n",
       "\t<tr><th scope=row>AAATGCCTCGGATGGA-1-53</th><td>53              </td><td>DA              </td><td>3               </td><td>HPSI0715i-aowh_2</td><td>7.765145        </td><td>8.867146        </td><td>5.420535        </td><td> 7094           </td><td>2356            </td><td>42.09191        </td><td>53.12941        </td><td>68.70595        </td><td>31.26586        </td><td>3.171694        </td><td>pool8           </td><td>5245STDY7685564 </td><td>D52             </td><td> 7094           </td><td>225             </td><td>ROT             </td></tr>\n",
       "</tbody>\n",
       "</table>\n"
      ],
      "text/latex": [
       "\\begin{tabular}{r|llllllllllllllllllll}\n",
       "  & batch & celltype & cluster\\_id & donor\\_id & log1p\\_n\\_genes\\_by\\_counts & log1p\\_total\\_counts & log1p\\_total\\_counts\\_mito & n\\_counts\\_all & n\\_genes\\_by\\_counts & pct\\_counts\\_in\\_top\\_100\\_genes & pct\\_counts\\_in\\_top\\_200\\_genes & pct\\_counts\\_in\\_top\\_500\\_genes & pct\\_counts\\_in\\_top\\_50\\_genes & pct\\_counts\\_mito & pool\\_id & sample\\_id & time\\_point & total\\_counts & total\\_counts\\_mito & treatment\\\\\n",
       "\\hline\n",
       "\tCCAGCGAGTTACTGAC-1-64 & 64                 & DA                 & 3                  & HPSI0513i-veve\\_2 & 8.417373           & 9.667068           & 6.216606           & 15788              & 4524               & 28.88903           & 38.44059           & 54.28807           & 21.56068           & 3.166962           & pool11             & 5245STDY7923746    & D52                & 15788              & 500                & NONE              \\\\\n",
       "\tACGCAGCGTTCGCTAA-1-45 & 45                 & DA                 & 3                  & HPSI1013i-hiaf\\_1 & 7.995307           & 9.307104           & 5.327876           & 11015              & 2966               & 39.48252           & 51.52973           & 67.32637           & 28.35225           & 1.861099           & pool6              & 5245STDY7685556    & D52                & 11015              & 205                & ROT               \\\\\n",
       "\tACGTCAAGTCTAGCCG-1-51 & 51                 & DA                 & 3                  & HPSI1014i-babz\\_3 & 7.956126           & 8.983565           & 5.327876           &  7970              & 2852               & 34.84316           & 46.18570           & 61.96989           & 25.10665           & 2.572145           & pool8              & 5245STDY7685562    & D52                &  7970              & 205                & NONE              \\\\\n",
       "\tGACACGCGTGTGAAAT-1-19 & 19                 & DA                 & 3                  & HPSI1213i-hehd\\_1 & 7.880804           & 8.988196           & 4.744932           &  8007              & 2645               & 37.29237           & 48.47009           & 65.04309           & 27.77570           & 1.423754           & pool4              & 5245STDY7544161    & D52                &  8007              & 114                & ROT               \\\\\n",
       "\tCGTCTACGTCGGGTCT-1-35 & 35                 & DA                 & 3                  & HPSI0215i-hipn\\_1 & 8.022569           & 9.096051           & 5.902633           &  8919              & 3048               & 30.46306           & 41.58538           & 58.84068           & 21.61677           & 4.092387           & pool7              & 5245STDY7660072    & D52                &  8919              & 365                & NONE              \\\\\n",
       "\tAAATGCCTCGGATGGA-1-53 & 53                 & DA                 & 3                  & HPSI0715i-aowh\\_2 & 7.765145           & 8.867146           & 5.420535           &  7094              & 2356               & 42.09191           & 53.12941           & 68.70595           & 31.26586           & 3.171694           & pool8              & 5245STDY7685564    & D52                &  7094              & 225                & ROT               \\\\\n",
       "\\end{tabular}\n"
      ],
      "text/markdown": [
       "\n",
       "| <!--/--> | batch | celltype | cluster_id | donor_id | log1p_n_genes_by_counts | log1p_total_counts | log1p_total_counts_mito | n_counts_all | n_genes_by_counts | pct_counts_in_top_100_genes | pct_counts_in_top_200_genes | pct_counts_in_top_500_genes | pct_counts_in_top_50_genes | pct_counts_mito | pool_id | sample_id | time_point | total_counts | total_counts_mito | treatment |\n",
       "|---|---|---|---|---|---|---|---|---|---|---|---|---|---|---|---|---|---|---|---|---|\n",
       "| CCAGCGAGTTACTGAC-1-64 | 64               | DA               | 3                | HPSI0513i-veve_2 | 8.417373         | 9.667068         | 6.216606         | 15788            | 4524             | 28.88903         | 38.44059         | 54.28807         | 21.56068         | 3.166962         | pool11           | 5245STDY7923746  | D52              | 15788            | 500              | NONE             |\n",
       "| ACGCAGCGTTCGCTAA-1-45 | 45               | DA               | 3                | HPSI1013i-hiaf_1 | 7.995307         | 9.307104         | 5.327876         | 11015            | 2966             | 39.48252         | 51.52973         | 67.32637         | 28.35225         | 1.861099         | pool6            | 5245STDY7685556  | D52              | 11015            | 205              | ROT              |\n",
       "| ACGTCAAGTCTAGCCG-1-51 | 51               | DA               | 3                | HPSI1014i-babz_3 | 7.956126         | 8.983565         | 5.327876         |  7970            | 2852             | 34.84316         | 46.18570         | 61.96989         | 25.10665         | 2.572145         | pool8            | 5245STDY7685562  | D52              |  7970            | 205              | NONE             |\n",
       "| GACACGCGTGTGAAAT-1-19 | 19               | DA               | 3                | HPSI1213i-hehd_1 | 7.880804         | 8.988196         | 4.744932         |  8007            | 2645             | 37.29237         | 48.47009         | 65.04309         | 27.77570         | 1.423754         | pool4            | 5245STDY7544161  | D52              |  8007            | 114              | ROT              |\n",
       "| CGTCTACGTCGGGTCT-1-35 | 35               | DA               | 3                | HPSI0215i-hipn_1 | 8.022569         | 9.096051         | 5.902633         |  8919            | 3048             | 30.46306         | 41.58538         | 58.84068         | 21.61677         | 4.092387         | pool7            | 5245STDY7660072  | D52              |  8919            | 365              | NONE             |\n",
       "| AAATGCCTCGGATGGA-1-53 | 53               | DA               | 3                | HPSI0715i-aowh_2 | 7.765145         | 8.867146         | 5.420535         |  7094            | 2356             | 42.09191         | 53.12941         | 68.70595         | 31.26586         | 3.171694         | pool8            | 5245STDY7685564  | D52              |  7094            | 225              | ROT              |\n",
       "\n"
      ],
      "text/plain": [
       "                      batch celltype cluster_id donor_id        \n",
       "CCAGCGAGTTACTGAC-1-64 64    DA       3          HPSI0513i-veve_2\n",
       "ACGCAGCGTTCGCTAA-1-45 45    DA       3          HPSI1013i-hiaf_1\n",
       "ACGTCAAGTCTAGCCG-1-51 51    DA       3          HPSI1014i-babz_3\n",
       "GACACGCGTGTGAAAT-1-19 19    DA       3          HPSI1213i-hehd_1\n",
       "CGTCTACGTCGGGTCT-1-35 35    DA       3          HPSI0215i-hipn_1\n",
       "AAATGCCTCGGATGGA-1-53 53    DA       3          HPSI0715i-aowh_2\n",
       "                      log1p_n_genes_by_counts log1p_total_counts\n",
       "CCAGCGAGTTACTGAC-1-64 8.417373                9.667068          \n",
       "ACGCAGCGTTCGCTAA-1-45 7.995307                9.307104          \n",
       "ACGTCAAGTCTAGCCG-1-51 7.956126                8.983565          \n",
       "GACACGCGTGTGAAAT-1-19 7.880804                8.988196          \n",
       "CGTCTACGTCGGGTCT-1-35 8.022569                9.096051          \n",
       "AAATGCCTCGGATGGA-1-53 7.765145                8.867146          \n",
       "                      log1p_total_counts_mito n_counts_all n_genes_by_counts\n",
       "CCAGCGAGTTACTGAC-1-64 6.216606                15788        4524             \n",
       "ACGCAGCGTTCGCTAA-1-45 5.327876                11015        2966             \n",
       "ACGTCAAGTCTAGCCG-1-51 5.327876                 7970        2852             \n",
       "GACACGCGTGTGAAAT-1-19 4.744932                 8007        2645             \n",
       "CGTCTACGTCGGGTCT-1-35 5.902633                 8919        3048             \n",
       "AAATGCCTCGGATGGA-1-53 5.420535                 7094        2356             \n",
       "                      pct_counts_in_top_100_genes pct_counts_in_top_200_genes\n",
       "CCAGCGAGTTACTGAC-1-64 28.88903                    38.44059                   \n",
       "ACGCAGCGTTCGCTAA-1-45 39.48252                    51.52973                   \n",
       "ACGTCAAGTCTAGCCG-1-51 34.84316                    46.18570                   \n",
       "GACACGCGTGTGAAAT-1-19 37.29237                    48.47009                   \n",
       "CGTCTACGTCGGGTCT-1-35 30.46306                    41.58538                   \n",
       "AAATGCCTCGGATGGA-1-53 42.09191                    53.12941                   \n",
       "                      pct_counts_in_top_500_genes pct_counts_in_top_50_genes\n",
       "CCAGCGAGTTACTGAC-1-64 54.28807                    21.56068                  \n",
       "ACGCAGCGTTCGCTAA-1-45 67.32637                    28.35225                  \n",
       "ACGTCAAGTCTAGCCG-1-51 61.96989                    25.10665                  \n",
       "GACACGCGTGTGAAAT-1-19 65.04309                    27.77570                  \n",
       "CGTCTACGTCGGGTCT-1-35 58.84068                    21.61677                  \n",
       "AAATGCCTCGGATGGA-1-53 68.70595                    31.26586                  \n",
       "                      pct_counts_mito pool_id sample_id       time_point\n",
       "CCAGCGAGTTACTGAC-1-64 3.166962        pool11  5245STDY7923746 D52       \n",
       "ACGCAGCGTTCGCTAA-1-45 1.861099        pool6   5245STDY7685556 D52       \n",
       "ACGTCAAGTCTAGCCG-1-51 2.572145        pool8   5245STDY7685562 D52       \n",
       "GACACGCGTGTGAAAT-1-19 1.423754        pool4   5245STDY7544161 D52       \n",
       "CGTCTACGTCGGGTCT-1-35 4.092387        pool7   5245STDY7660072 D52       \n",
       "AAATGCCTCGGATGGA-1-53 3.171694        pool8   5245STDY7685564 D52       \n",
       "                      total_counts total_counts_mito treatment\n",
       "CCAGCGAGTTACTGAC-1-64 15788        500               NONE     \n",
       "ACGCAGCGTTCGCTAA-1-45 11015        205               ROT      \n",
       "ACGTCAAGTCTAGCCG-1-51  7970        205               NONE     \n",
       "GACACGCGTGTGAAAT-1-19  8007        114               ROT      \n",
       "CGTCTACGTCGGGTCT-1-35  8919        365               NONE     \n",
       "AAATGCCTCGGATGGA-1-53  7094        225               ROT      "
      ]
     },
     "metadata": {},
     "output_type": "display_data"
    }
   ],
   "source": [
    "head(df,2)"
   ]
  },
  {
   "cell_type": "code",
   "execution_count": 57,
   "metadata": {},
   "outputs": [
    {
     "data": {
      "text/html": [
       "<table>\n",
       "<thead><tr><th></th><th scope=col>batch</th><th scope=col>celltype</th><th scope=col>cluster_id</th><th scope=col>donor_id</th><th scope=col>log1p_n_genes_by_counts</th><th scope=col>log1p_total_counts</th><th scope=col>log1p_total_counts_mito</th><th scope=col>n_counts_all</th><th scope=col>n_genes_by_counts</th><th scope=col>pct_counts_in_top_100_genes</th><th scope=col>...</th><th scope=col>pct_counts_in_top_500_genes</th><th scope=col>pct_counts_in_top_50_genes</th><th scope=col>pct_counts_mito</th><th scope=col>pool_id</th><th scope=col>sample_id</th><th scope=col>time_point</th><th scope=col>total_counts</th><th scope=col>total_counts_mito</th><th scope=col>treatment</th><th scope=col>index</th></tr></thead>\n",
       "<tbody>\n",
       "\t<tr><th scope=row>CCAGCGAGTTACTGAC-1-64</th><td>64                   </td><td>DA                   </td><td>3                    </td><td>HPSI0513i-veve_2     </td><td>8.417373             </td><td>9.667068             </td><td>6.216606             </td><td>15788                </td><td>4524                 </td><td>28.88903             </td><td>...                  </td><td>54.28807             </td><td>21.56068             </td><td>3.166962             </td><td>pool11               </td><td>5245STDY7923746      </td><td>D52                  </td><td>15788                </td><td>500                  </td><td>NONE                 </td><td>CCAGCGAGTTACTGAC-1-64</td></tr>\n",
       "\t<tr><th scope=row>ACGCAGCGTTCGCTAA-1-45</th><td>45                   </td><td>DA                   </td><td>3                    </td><td>HPSI1013i-hiaf_1     </td><td>7.995307             </td><td>9.307104             </td><td>5.327876             </td><td>11015                </td><td>2966                 </td><td>39.48252             </td><td>...                  </td><td>67.32637             </td><td>28.35225             </td><td>1.861099             </td><td>pool6                </td><td>5245STDY7685556      </td><td>D52                  </td><td>11015                </td><td>205                  </td><td>ROT                  </td><td>ACGCAGCGTTCGCTAA-1-45</td></tr>\n",
       "</tbody>\n",
       "</table>\n"
      ],
      "text/latex": [
       "\\begin{tabular}{r|lllllllllllllllllllll}\n",
       "  & batch & celltype & cluster\\_id & donor\\_id & log1p\\_n\\_genes\\_by\\_counts & log1p\\_total\\_counts & log1p\\_total\\_counts\\_mito & n\\_counts\\_all & n\\_genes\\_by\\_counts & pct\\_counts\\_in\\_top\\_100\\_genes & ... & pct\\_counts\\_in\\_top\\_500\\_genes & pct\\_counts\\_in\\_top\\_50\\_genes & pct\\_counts\\_mito & pool\\_id & sample\\_id & time\\_point & total\\_counts & total\\_counts\\_mito & treatment & index\\\\\n",
       "\\hline\n",
       "\tCCAGCGAGTTACTGAC-1-64 & 64                    & DA                    & 3                     & HPSI0513i-veve\\_2    & 8.417373              & 9.667068              & 6.216606              & 15788                 & 4524                  & 28.88903              & ...                   & 54.28807              & 21.56068              & 3.166962              & pool11                & 5245STDY7923746       & D52                   & 15788                 & 500                   & NONE                  & CCAGCGAGTTACTGAC-1-64\\\\\n",
       "\tACGCAGCGTTCGCTAA-1-45 & 45                    & DA                    & 3                     & HPSI1013i-hiaf\\_1    & 7.995307              & 9.307104              & 5.327876              & 11015                 & 2966                  & 39.48252              & ...                   & 67.32637              & 28.35225              & 1.861099              & pool6                 & 5245STDY7685556       & D52                   & 11015                 & 205                   & ROT                   & ACGCAGCGTTCGCTAA-1-45\\\\\n",
       "\\end{tabular}\n"
      ],
      "text/markdown": [
       "\n",
       "| <!--/--> | batch | celltype | cluster_id | donor_id | log1p_n_genes_by_counts | log1p_total_counts | log1p_total_counts_mito | n_counts_all | n_genes_by_counts | pct_counts_in_top_100_genes | ... | pct_counts_in_top_500_genes | pct_counts_in_top_50_genes | pct_counts_mito | pool_id | sample_id | time_point | total_counts | total_counts_mito | treatment | index |\n",
       "|---|---|---|---|---|---|---|---|---|---|---|---|---|---|---|---|---|---|---|---|---|---|\n",
       "| CCAGCGAGTTACTGAC-1-64 | 64                    | DA                    | 3                     | HPSI0513i-veve_2      | 8.417373              | 9.667068              | 6.216606              | 15788                 | 4524                  | 28.88903              | ...                   | 54.28807              | 21.56068              | 3.166962              | pool11                | 5245STDY7923746       | D52                   | 15788                 | 500                   | NONE                  | CCAGCGAGTTACTGAC-1-64 |\n",
       "| ACGCAGCGTTCGCTAA-1-45 | 45                    | DA                    | 3                     | HPSI1013i-hiaf_1      | 7.995307              | 9.307104              | 5.327876              | 11015                 | 2966                  | 39.48252              | ...                   | 67.32637              | 28.35225              | 1.861099              | pool6                 | 5245STDY7685556       | D52                   | 11015                 | 205                   | ROT                   | ACGCAGCGTTCGCTAA-1-45 |\n",
       "\n"
      ],
      "text/plain": [
       "                      batch celltype cluster_id donor_id        \n",
       "CCAGCGAGTTACTGAC-1-64 64    DA       3          HPSI0513i-veve_2\n",
       "ACGCAGCGTTCGCTAA-1-45 45    DA       3          HPSI1013i-hiaf_1\n",
       "                      log1p_n_genes_by_counts log1p_total_counts\n",
       "CCAGCGAGTTACTGAC-1-64 8.417373                9.667068          \n",
       "ACGCAGCGTTCGCTAA-1-45 7.995307                9.307104          \n",
       "                      log1p_total_counts_mito n_counts_all n_genes_by_counts\n",
       "CCAGCGAGTTACTGAC-1-64 6.216606                15788        4524             \n",
       "ACGCAGCGTTCGCTAA-1-45 5.327876                11015        2966             \n",
       "                      pct_counts_in_top_100_genes ...\n",
       "CCAGCGAGTTACTGAC-1-64 28.88903                    ...\n",
       "ACGCAGCGTTCGCTAA-1-45 39.48252                    ...\n",
       "                      pct_counts_in_top_500_genes pct_counts_in_top_50_genes\n",
       "CCAGCGAGTTACTGAC-1-64 54.28807                    21.56068                  \n",
       "ACGCAGCGTTCGCTAA-1-45 67.32637                    28.35225                  \n",
       "                      pct_counts_mito pool_id sample_id       time_point\n",
       "CCAGCGAGTTACTGAC-1-64 3.166962        pool11  5245STDY7923746 D52       \n",
       "ACGCAGCGTTCGCTAA-1-45 1.861099        pool6   5245STDY7685556 D52       \n",
       "                      total_counts total_counts_mito treatment\n",
       "CCAGCGAGTTACTGAC-1-64 15788        500               NONE     \n",
       "ACGCAGCGTTCGCTAA-1-45 11015        205               ROT      \n",
       "                      index                \n",
       "CCAGCGAGTTACTGAC-1-64 CCAGCGAGTTACTGAC-1-64\n",
       "ACGCAGCGTTCGCTAA-1-45 ACGCAGCGTTCGCTAA-1-45"
      ]
     },
     "metadata": {},
     "output_type": "display_data"
    }
   ],
   "source": [
    "cData_raw = df\n",
    "cData_raw$index = rownames(cData_raw)\n",
    "head(cData_raw,2)"
   ]
  },
  {
   "cell_type": "code",
   "execution_count": 58,
   "metadata": {},
   "outputs": [],
   "source": [
    "cData <- as.data.frame(cData_raw)\n",
    "cData_R_filename = \"/hps/nobackup/stegle/users/acuomo/all_scripts/struct_LMM2/sc_neuroseq/all_da_d52_cells_cData.Rds\"\n",
    "saveRDS(cData, file = cData_R_filename)"
   ]
  },
  {
   "cell_type": "code",
   "execution_count": 59,
   "metadata": {},
   "outputs": [
    {
     "data": {
      "text/plain": [
       "class: SingleCellExperiment \n",
       "dim: 32738 79801 \n",
       "metadata(0):\n",
       "assays(1): counts\n",
       "rownames(32738): MIR1302-10 FAM138A ... AC002321.2 AC002321.1\n",
       "rowData names(0):\n",
       "colnames(79801): CCAGCGAGTTACTGAC-1-64 ACGCAGCGTTCGCTAA-1-45 ...\n",
       "  CTTAGGAAGATTACCC-1-13 TCAACGACATAGAAAC-1-39\n",
       "colData names(21): batch celltype ... treatment index\n",
       "reducedDimNames(0):\n",
       "spikeNames(0):\n",
       "altExpNames(0):"
      ]
     },
     "metadata": {},
     "output_type": "display_data"
    }
   ],
   "source": [
    "# build the sce object\n",
    "sce <- SingleCellExperiment(\n",
    "assays = list(counts = sMat),\n",
    "colData = cData)\n",
    "sce"
   ]
  },
  {
   "cell_type": "code",
   "execution_count": 60,
   "metadata": {},
   "outputs": [],
   "source": [
    "sce_R_filename = \"/hps/nobackup/stegle/users/acuomo/all_scripts/struct_LMM2/sc_neuroseq/all_da_d52_cells_sce.Rds\"\n",
    "saveRDS(sce, file = sce_R_filename)"
   ]
  },
  {
   "cell_type": "code",
   "execution_count": null,
   "metadata": {},
   "outputs": [],
   "source": []
  }
 ],
 "metadata": {
  "kernelspec": {
   "display_name": "R",
   "language": "R",
   "name": "ir"
  },
  "language_info": {
   "codemirror_mode": "r",
   "file_extension": ".r",
   "mimetype": "text/x-r-source",
   "name": "R",
   "pygments_lexer": "r",
   "version": "3.6.1"
  }
 },
 "nbformat": 4,
 "nbformat_minor": 4
}
