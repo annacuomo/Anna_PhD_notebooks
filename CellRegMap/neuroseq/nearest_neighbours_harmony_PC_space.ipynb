{
 "cells": [
  {
   "cell_type": "code",
   "execution_count": 27,
   "metadata": {},
   "outputs": [],
   "source": [
    "library(dplyr)\n",
    "library(ggplot2)"
   ]
  },
  {
   "cell_type": "code",
   "execution_count": 28,
   "metadata": {},
   "outputs": [],
   "source": [
    "### Harmony corrected PCA for all day 52 cells"
   ]
  },
  {
   "cell_type": "code",
   "execution_count": 29,
   "metadata": {},
   "outputs": [],
   "source": [
    "mydir = \"/nfs/leia/research/stegle/dseaton/hipsci/singlecell_neuroseq/data/data_processed/pool1_17_D52/\"\n",
    "filename = paste0(mydir,\"pool1_17_D52.scanpy.dimreduction.harmonyPCA.tsv\")"
   ]
  },
  {
   "cell_type": "code",
   "execution_count": 30,
   "metadata": {},
   "outputs": [
    {
     "data": {
      "text/html": [
       "<table>\n",
       "<thead><tr><th></th><th scope=col>PC1</th><th scope=col>PC2</th><th scope=col>PC3</th><th scope=col>PC4</th><th scope=col>PC5</th><th scope=col>PC6</th><th scope=col>PC7</th><th scope=col>PC8</th><th scope=col>PC9</th><th scope=col>PC10</th><th scope=col>...</th><th scope=col>PC41</th><th scope=col>PC42</th><th scope=col>PC43</th><th scope=col>PC44</th><th scope=col>PC45</th><th scope=col>PC46</th><th scope=col>PC47</th><th scope=col>PC48</th><th scope=col>PC49</th><th scope=col>PC50</th></tr></thead>\n",
       "<tbody>\n",
       "\t<tr><th scope=row>AAACCTGAGAAAGTGG-1-0</th><td>-5.104239  </td><td>  9.886840 </td><td> 4.60978941</td><td>-6.5451223 </td><td> 8.2315778 </td><td> 3.945303  </td><td>-0.8844605 </td><td> 1.7741598 </td><td> 1.3352407 </td><td>-1.103909  </td><td>...        </td><td> 0.4663180 </td><td> 0.8122565 </td><td> 1.5829590 </td><td>-1.8375968 </td><td>-0.5688820 </td><td>-0.4898580 </td><td>-1.6154334 </td><td>-0.5708719 </td><td> 0.02656536</td><td> 1.2329471 </td></tr>\n",
       "\t<tr><th scope=row>AAACCTGAGATCTGCT-1-0</th><td>-7.725349  </td><td>  4.146478 </td><td>-0.01496614</td><td>-5.3041565 </td><td>-0.3797163 </td><td> 2.178033  </td><td> 0.6385038 </td><td> 0.5732125 </td><td> 0.5594368 </td><td>-2.965901  </td><td>...        </td><td> 0.6956724 </td><td> 0.6029649 </td><td>-4.3561376 </td><td>-0.8535823 </td><td> 0.8326317 </td><td> 1.5879197 </td><td> 1.2549221 </td><td>-2.0153846 </td><td> 1.43107255</td><td> 1.5092337 </td></tr>\n",
       "\t<tr><th scope=row>AAACCTGAGCTAGTGG-1-0</th><td>22.527179  </td><td>  1.776619 </td><td>-2.18050576</td><td> 0.1603308 </td><td>-1.8163934 </td><td>-0.227405  </td><td> 1.7230424 </td><td>-1.6876156 </td><td> 1.0149145 </td><td>-0.921135  </td><td>...        </td><td>-0.5411988 </td><td> 0.4930924 </td><td>-0.1628703 </td><td>-2.9728354 </td><td>-1.2915667 </td><td> 0.7910793 </td><td>-1.3855855 </td><td> 1.3433775 </td><td>-1.04475066</td><td> 1.5382338 </td></tr>\n",
       "\t<tr><th scope=row>AAACCTGAGGAGCGTT-1-0</th><td>-1.706279  </td><td>-12.850743 </td><td> 2.63706688</td><td> 0.6206723 </td><td>-0.2064441 </td><td> 5.521089  </td><td>-0.6396233 </td><td>-1.9702535 </td><td> 1.1769675 </td><td> 1.322094  </td><td>...        </td><td>-1.7856121 </td><td>-0.2955901 </td><td> 0.0957970 </td><td>-0.5488211 </td><td> 1.1304449 </td><td>-1.6795769 </td><td>-0.2930593 </td><td>-1.5527088 </td><td> 0.58208785</td><td> 1.1824614 </td></tr>\n",
       "\t<tr><th scope=row>AAACCTGAGGTGCTTT-1-0</th><td>-8.901477  </td><td>  7.098307 </td><td> 5.98557883</td><td>-8.7939237 </td><td>-1.0949268 </td><td> 1.534121  </td><td> 0.6509907 </td><td> 1.2637556 </td><td>-0.2021763 </td><td>-4.528739  </td><td>...        </td><td>-0.4655283 </td><td> 2.0145883 </td><td> 1.1561932 </td><td>-0.1805866 </td><td> 1.2734463 </td><td> 0.1063479 </td><td> 0.6201252 </td><td>-1.0623467 </td><td>-0.49898085</td><td>-2.2306966 </td></tr>\n",
       "\t<tr><th scope=row>AAACCTGCACCCATGG-1-0</th><td>-4.145123  </td><td>-14.535656 </td><td> 5.69486919</td><td>-0.7778741 </td><td> 0.4487712 </td><td>-5.004496  </td><td> 0.7838308 </td><td> 3.3537959 </td><td>-0.2926826 </td><td>-2.059134  </td><td>...        </td><td> 1.7058880 </td><td> 0.6402297 </td><td> 0.5934561 </td><td> 1.2574489 </td><td>-0.9614093 </td><td> 0.7151519 </td><td>-0.8891727 </td><td> 2.0602550 </td><td> 0.12318977</td><td>-0.4728717 </td></tr>\n",
       "</tbody>\n",
       "</table>\n"
      ],
      "text/latex": [
       "\\begin{tabular}{r|llllllllllllllllllllllllllllllllllllllllllllllllll}\n",
       "  & PC1 & PC2 & PC3 & PC4 & PC5 & PC6 & PC7 & PC8 & PC9 & PC10 & ... & PC41 & PC42 & PC43 & PC44 & PC45 & PC46 & PC47 & PC48 & PC49 & PC50\\\\\n",
       "\\hline\n",
       "\tAAACCTGAGAAAGTGG-1-0 & -5.104239   &   9.886840  &  4.60978941 & -6.5451223  &  8.2315778  &  3.945303   & -0.8844605  &  1.7741598  &  1.3352407  & -1.103909   & ...         &  0.4663180  &  0.8122565  &  1.5829590  & -1.8375968  & -0.5688820  & -0.4898580  & -1.6154334  & -0.5708719  &  0.02656536 &  1.2329471 \\\\\n",
       "\tAAACCTGAGATCTGCT-1-0 & -7.725349   &   4.146478  & -0.01496614 & -5.3041565  & -0.3797163  &  2.178033   &  0.6385038  &  0.5732125  &  0.5594368  & -2.965901   & ...         &  0.6956724  &  0.6029649  & -4.3561376  & -0.8535823  &  0.8326317  &  1.5879197  &  1.2549221  & -2.0153846  &  1.43107255 &  1.5092337 \\\\\n",
       "\tAAACCTGAGCTAGTGG-1-0 & 22.527179   &   1.776619  & -2.18050576 &  0.1603308  & -1.8163934  & -0.227405   &  1.7230424  & -1.6876156  &  1.0149145  & -0.921135   & ...         & -0.5411988  &  0.4930924  & -0.1628703  & -2.9728354  & -1.2915667  &  0.7910793  & -1.3855855  &  1.3433775  & -1.04475066 &  1.5382338 \\\\\n",
       "\tAAACCTGAGGAGCGTT-1-0 & -1.706279   & -12.850743  &  2.63706688 &  0.6206723  & -0.2064441  &  5.521089   & -0.6396233  & -1.9702535  &  1.1769675  &  1.322094   & ...         & -1.7856121  & -0.2955901  &  0.0957970  & -0.5488211  &  1.1304449  & -1.6795769  & -0.2930593  & -1.5527088  &  0.58208785 &  1.1824614 \\\\\n",
       "\tAAACCTGAGGTGCTTT-1-0 & -8.901477   &   7.098307  &  5.98557883 & -8.7939237  & -1.0949268  &  1.534121   &  0.6509907  &  1.2637556  & -0.2021763  & -4.528739   & ...         & -0.4655283  &  2.0145883  &  1.1561932  & -0.1805866  &  1.2734463  &  0.1063479  &  0.6201252  & -1.0623467  & -0.49898085 & -2.2306966 \\\\\n",
       "\tAAACCTGCACCCATGG-1-0 & -4.145123   & -14.535656  &  5.69486919 & -0.7778741  &  0.4487712  & -5.004496   &  0.7838308  &  3.3537959  & -0.2926826  & -2.059134   & ...         &  1.7058880  &  0.6402297  &  0.5934561  &  1.2574489  & -0.9614093  &  0.7151519  & -0.8891727  &  2.0602550  &  0.12318977 & -0.4728717 \\\\\n",
       "\\end{tabular}\n"
      ],
      "text/markdown": [
       "\n",
       "| <!--/--> | PC1 | PC2 | PC3 | PC4 | PC5 | PC6 | PC7 | PC8 | PC9 | PC10 | ... | PC41 | PC42 | PC43 | PC44 | PC45 | PC46 | PC47 | PC48 | PC49 | PC50 |\n",
       "|---|---|---|---|---|---|---|---|---|---|---|---|---|---|---|---|---|---|---|---|---|---|\n",
       "| AAACCTGAGAAAGTGG-1-0 | -5.104239   |   9.886840  |  4.60978941 | -6.5451223  |  8.2315778  |  3.945303   | -0.8844605  |  1.7741598  |  1.3352407  | -1.103909   | ...         |  0.4663180  |  0.8122565  |  1.5829590  | -1.8375968  | -0.5688820  | -0.4898580  | -1.6154334  | -0.5708719  |  0.02656536 |  1.2329471  |\n",
       "| AAACCTGAGATCTGCT-1-0 | -7.725349   |   4.146478  | -0.01496614 | -5.3041565  | -0.3797163  |  2.178033   |  0.6385038  |  0.5732125  |  0.5594368  | -2.965901   | ...         |  0.6956724  |  0.6029649  | -4.3561376  | -0.8535823  |  0.8326317  |  1.5879197  |  1.2549221  | -2.0153846  |  1.43107255 |  1.5092337  |\n",
       "| AAACCTGAGCTAGTGG-1-0 | 22.527179   |   1.776619  | -2.18050576 |  0.1603308  | -1.8163934  | -0.227405   |  1.7230424  | -1.6876156  |  1.0149145  | -0.921135   | ...         | -0.5411988  |  0.4930924  | -0.1628703  | -2.9728354  | -1.2915667  |  0.7910793  | -1.3855855  |  1.3433775  | -1.04475066 |  1.5382338  |\n",
       "| AAACCTGAGGAGCGTT-1-0 | -1.706279   | -12.850743  |  2.63706688 |  0.6206723  | -0.2064441  |  5.521089   | -0.6396233  | -1.9702535  |  1.1769675  |  1.322094   | ...         | -1.7856121  | -0.2955901  |  0.0957970  | -0.5488211  |  1.1304449  | -1.6795769  | -0.2930593  | -1.5527088  |  0.58208785 |  1.1824614  |\n",
       "| AAACCTGAGGTGCTTT-1-0 | -8.901477   |   7.098307  |  5.98557883 | -8.7939237  | -1.0949268  |  1.534121   |  0.6509907  |  1.2637556  | -0.2021763  | -4.528739   | ...         | -0.4655283  |  2.0145883  |  1.1561932  | -0.1805866  |  1.2734463  |  0.1063479  |  0.6201252  | -1.0623467  | -0.49898085 | -2.2306966  |\n",
       "| AAACCTGCACCCATGG-1-0 | -4.145123   | -14.535656  |  5.69486919 | -0.7778741  |  0.4487712  | -5.004496   |  0.7838308  |  3.3537959  | -0.2926826  | -2.059134   | ...         |  1.7058880  |  0.6402297  |  0.5934561  |  1.2574489  | -0.9614093  |  0.7151519  | -0.8891727  |  2.0602550  |  0.12318977 | -0.4728717  |\n",
       "\n"
      ],
      "text/plain": [
       "                     PC1       PC2        PC3         PC4        PC5       \n",
       "AAACCTGAGAAAGTGG-1-0 -5.104239   9.886840  4.60978941 -6.5451223  8.2315778\n",
       "AAACCTGAGATCTGCT-1-0 -7.725349   4.146478 -0.01496614 -5.3041565 -0.3797163\n",
       "AAACCTGAGCTAGTGG-1-0 22.527179   1.776619 -2.18050576  0.1603308 -1.8163934\n",
       "AAACCTGAGGAGCGTT-1-0 -1.706279 -12.850743  2.63706688  0.6206723 -0.2064441\n",
       "AAACCTGAGGTGCTTT-1-0 -8.901477   7.098307  5.98557883 -8.7939237 -1.0949268\n",
       "AAACCTGCACCCATGG-1-0 -4.145123 -14.535656  5.69486919 -0.7778741  0.4487712\n",
       "                     PC6       PC7        PC8        PC9        PC10      ...\n",
       "AAACCTGAGAAAGTGG-1-0  3.945303 -0.8844605  1.7741598  1.3352407 -1.103909 ...\n",
       "AAACCTGAGATCTGCT-1-0  2.178033  0.6385038  0.5732125  0.5594368 -2.965901 ...\n",
       "AAACCTGAGCTAGTGG-1-0 -0.227405  1.7230424 -1.6876156  1.0149145 -0.921135 ...\n",
       "AAACCTGAGGAGCGTT-1-0  5.521089 -0.6396233 -1.9702535  1.1769675  1.322094 ...\n",
       "AAACCTGAGGTGCTTT-1-0  1.534121  0.6509907  1.2637556 -0.2021763 -4.528739 ...\n",
       "AAACCTGCACCCATGG-1-0 -5.004496  0.7838308  3.3537959 -0.2926826 -2.059134 ...\n",
       "                     PC41       PC42       PC43       PC44       PC45      \n",
       "AAACCTGAGAAAGTGG-1-0  0.4663180  0.8122565  1.5829590 -1.8375968 -0.5688820\n",
       "AAACCTGAGATCTGCT-1-0  0.6956724  0.6029649 -4.3561376 -0.8535823  0.8326317\n",
       "AAACCTGAGCTAGTGG-1-0 -0.5411988  0.4930924 -0.1628703 -2.9728354 -1.2915667\n",
       "AAACCTGAGGAGCGTT-1-0 -1.7856121 -0.2955901  0.0957970 -0.5488211  1.1304449\n",
       "AAACCTGAGGTGCTTT-1-0 -0.4655283  2.0145883  1.1561932 -0.1805866  1.2734463\n",
       "AAACCTGCACCCATGG-1-0  1.7058880  0.6402297  0.5934561  1.2574489 -0.9614093\n",
       "                     PC46       PC47       PC48       PC49        PC50      \n",
       "AAACCTGAGAAAGTGG-1-0 -0.4898580 -1.6154334 -0.5708719  0.02656536  1.2329471\n",
       "AAACCTGAGATCTGCT-1-0  1.5879197  1.2549221 -2.0153846  1.43107255  1.5092337\n",
       "AAACCTGAGCTAGTGG-1-0  0.7910793 -1.3855855  1.3433775 -1.04475066  1.5382338\n",
       "AAACCTGAGGAGCGTT-1-0 -1.6795769 -0.2930593 -1.5527088  0.58208785  1.1824614\n",
       "AAACCTGAGGTGCTTT-1-0  0.1063479  0.6201252 -1.0623467 -0.49898085 -2.2306966\n",
       "AAACCTGCACCCATGG-1-0  0.7151519 -0.8891727  2.0602550  0.12318977 -0.4728717"
      ]
     },
     "metadata": {},
     "output_type": "display_data"
    }
   ],
   "source": [
    "df = read.csv(filename, sep = \"\\t\")\n",
    "head(df)"
   ]
  },
  {
   "cell_type": "code",
   "execution_count": 31,
   "metadata": {},
   "outputs": [],
   "source": [
    "### SCE object\n",
    "# count + metadata (DA D52 only)"
   ]
  },
  {
   "cell_type": "code",
   "execution_count": 33,
   "metadata": {},
   "outputs": [
    {
     "data": {
      "text/plain": [
       "class: SingleCellExperiment \n",
       "dim: 32738 79801 \n",
       "metadata(0):\n",
       "assays(1): counts\n",
       "rownames(32738): MIR1302-10 FAM138A ... AC002321.2 AC002321.1\n",
       "rowData names(0):\n",
       "colnames(79801): CCAGCGAGTTACTGAC-1-64 ACGCAGCGTTCGCTAA-1-45 ...\n",
       "  CTTAGGAAGATTACCC-1-13 TCAACGACATAGAAAC-1-39\n",
       "colData names(21): batch celltype ... treatment index\n",
       "reducedDimNames(0):\n",
       "spikeNames(0):\n",
       "altExpNames(0):"
      ]
     },
     "metadata": {},
     "output_type": "display_data"
    }
   ],
   "source": [
    "sce_R_filename = \"/hps/nobackup/stegle/users/acuomo/all_scripts/struct_LMM2/sc_neuroseq/all_da_d52_cells_sce.Rds\"\n",
    "sce = readRDS(sce_R_filename)\n",
    "sce"
   ]
  },
  {
   "cell_type": "code",
   "execution_count": 34,
   "metadata": {},
   "outputs": [
    {
     "data": {
      "text/html": [
       "196"
      ],
      "text/latex": [
       "196"
      ],
      "text/markdown": [
       "196"
      ],
      "text/plain": [
       "[1] 196"
      ]
     },
     "metadata": {},
     "output_type": "display_data"
    }
   ],
   "source": [
    "## 196 unique donors\n",
    "length(unique(sce$donor_id))"
   ]
  },
  {
   "cell_type": "code",
   "execution_count": 35,
   "metadata": {},
   "outputs": [
    {
     "data": {
      "text/html": [
       "1"
      ],
      "text/latex": [
       "1"
      ],
      "text/markdown": [
       "1"
      ],
      "text/plain": [
       "[1] 1"
      ]
     },
     "metadata": {},
     "output_type": "display_data"
    },
    {
     "data": {
      "text/html": [
       "407.147959183673"
      ],
      "text/latex": [
       "407.147959183673"
      ],
      "text/markdown": [
       "407.147959183673"
      ],
      "text/plain": [
       "[1] 407.148"
      ]
     },
     "metadata": {},
     "output_type": "display_data"
    },
    {
     "data": {
      "text/html": [
       "5332"
      ],
      "text/latex": [
       "5332"
      ],
      "text/markdown": [
       "5332"
      ],
      "text/plain": [
       "[1] 5332"
      ]
     },
     "metadata": {},
     "output_type": "display_data"
    }
   ],
   "source": [
    "## number of cells per donor varies widely, from 1 to 5,332\n",
    "min(table(sce$donor_id))\n",
    "mean(table(sce$donor_id))\n",
    "max(table(sce$donor_id))"
   ]
  },
  {
   "cell_type": "code",
   "execution_count": 36,
   "metadata": {},
   "outputs": [
    {
     "name": "stdout",
     "output_type": "stream",
     "text": [
      "[1]   0 196\n",
      "[1]   5 187\n",
      "[1]  10 179\n",
      "[1]  20 166\n",
      "[1]  50 146\n",
      "[1] 100 125\n",
      "[1] 200  91\n"
     ]
    }
   ],
   "source": [
    "## one parameter to tune could be the minimum number of cells per donod\n",
    "## for the donor to be included (with default the minimum)\n",
    "x = c(0,5,10,20,50,100,200)\n",
    "y=c()\n",
    "for (N in x){\n",
    "    y = c(y,length(table(sce$donor_id)[table(sce$donor_id)>N]))\n",
    "    print(c(N, length(table(sce$donor_id)[table(sce$donor_id)>N])))\n",
    "}"
   ]
  },
  {
   "cell_type": "code",
   "execution_count": 37,
   "metadata": {},
   "outputs": [
    {
     "data": {
      "image/png": "[encoded data removed]",
      "text/plain": [
       "plot without title"
      ]
     },
     "metadata": {},
     "output_type": "display_data"
    }
   ],
   "source": [
    "df_ncells = data.frame(x=x,y=y)\n",
    "ggplot(df_ncells, aes(x=x,y=y)) + geom_point() + geom_line(alpha = 0.5) + theme_bw() +\n",
    "    xlab(\"Minimum number of cells per donor\") + ylab(\"Number of donors\") + ylim(c(0,200)) +\n",
    "    geom_vline(xintercept = 10, col = \"firebrick\", linetype = \"dashed\")"
   ]
  },
  {
   "cell_type": "code",
   "execution_count": 38,
   "metadata": {},
   "outputs": [
    {
     "data": {
      "text/html": [
       "79801"
      ],
      "text/latex": [
       "79801"
      ],
      "text/markdown": [
       "79801"
      ],
      "text/plain": [
       "[1] 79801"
      ]
     },
     "metadata": {},
     "output_type": "display_data"
    },
    {
     "name": "stderr",
     "output_type": "stream",
     "text": [
      "Warning message in NSBS(i, x, exact = exact, strict.upper.bound = !allow.append, :\n",
      "“subscript is an array, passing it thru as.vector() first”"
     ]
    },
    {
     "data": {
      "text/html": [
       "54217"
      ],
      "text/latex": [
       "54217"
      ],
      "text/markdown": [
       "54217"
      ],
      "text/plain": [
       "[1] 54217"
      ]
     },
     "metadata": {},
     "output_type": "display_data"
    }
   ],
   "source": [
    "### Filter SCE object\n",
    "ncol(sce)\n",
    "######\n",
    "# consider only untreated cells\n",
    "sce_filt = sce[,sce$treatment == 'NONE']\n",
    "######\n",
    "# consider only donors with > 10 cells\n",
    "N=10\n",
    "donors_keep = names(table(sce_filt$donor_id)[table(sce_filt$donor_id)>N])\n",
    "sce_filt = sce_filt[, sce_filt$donor_id %in% donors_keep]  \n",
    "ncol(sce_filt)"
   ]
  },
  {
   "cell_type": "code",
   "execution_count": 39,
   "metadata": {
    "scrolled": true
   },
   "outputs": [
    {
     "data": {
      "text/html": [
       "523094"
      ],
      "text/latex": [
       "523094"
      ],
      "text/markdown": [
       "523094"
      ],
      "text/plain": [
       "[1] 523094"
      ]
     },
     "metadata": {},
     "output_type": "display_data"
    },
    {
     "data": {
      "text/html": [
       "54217"
      ],
      "text/latex": [
       "54217"
      ],
      "text/markdown": [
       "54217"
      ],
      "text/plain": [
       "[1] 54217"
      ]
     },
     "metadata": {},
     "output_type": "display_data"
    }
   ],
   "source": [
    "### Filter PCs to only cells of interest \n",
    "## (consider re-computing these for these cells only instead)\n",
    "nrow(df)\n",
    "cells_keep = colnames(sce_filt)\n",
    "df_filt = df[cells_keep,]\n",
    "nrow(df_filt)"
   ]
  },
  {
   "cell_type": "code",
   "execution_count": 40,
   "metadata": {},
   "outputs": [
    {
     "data": {
      "text/html": [
       "<ol class=list-inline>\n",
       "\t<li>54217</li>\n",
       "\t<li>20</li>\n",
       "</ol>\n"
      ],
      "text/latex": [
       "\\begin{enumerate*}\n",
       "\\item 54217\n",
       "\\item 20\n",
       "\\end{enumerate*}\n"
      ],
      "text/markdown": [
       "1. 54217\n",
       "2. 20\n",
       "\n",
       "\n"
      ],
      "text/plain": [
       "[1] 54217    20"
      ]
     },
     "metadata": {},
     "output_type": "display_data"
    }
   ],
   "source": [
    "P = 20 # set number of PCs to consider\n",
    "data_all = df_filt[,c(1:P)]\n",
    "dim(data_all)"
   ]
  },
  {
   "cell_type": "code",
   "execution_count": 41,
   "metadata": {},
   "outputs": [],
   "source": [
    "#### Get clusters (pseudo-cells) for each donor"
   ]
  },
  {
   "cell_type": "code",
   "execution_count": 50,
   "metadata": {},
   "outputs": [
    {
     "name": "stderr",
     "output_type": "stream",
     "text": [
      "Warning message in NSBS(i, x, exact = exact, strict.upper.bound = !allow.append, :\n",
      "“subscript is an array, passing it thru as.vector() first”Warning message in NSBS(i, x, exact = exact, strict.upper.bound = !allow.append, :\n",
      "“subscript is an array, passing it thru as.vector() first”Warning message in NSBS(i, x, exact = exact, strict.upper.bound = !allow.append, :\n",
      "“subscript is an array, passing it thru as.vector() first”Warning message in NSBS(i, x, exact = exact, strict.upper.bound = !allow.append, :\n",
      "“subscript is an array, passing it thru as.vector() first”Warning message in NSBS(i, x, exact = exact, strict.upper.bound = !allow.append, :\n",
      "“subscript is an array, passing it thru as.vector() first”Warning message in NSBS(i, x, exact = exact, strict.upper.bound = !allow.append, :\n",
      "“subscript is an array, passing it thru as.vector() first”Warning message in NSBS(i, x, exact = exact, strict.upper.bound = !allow.append, :\n",
      "“subscript is an array, passing it thru as.vector() first”Warning message in NSBS(i, x, exact = exact, strict.upper.bound = !allow.append, :\n",
      "“subscript is an array, passing it thru as.vector() first”Warning message in NSBS(i, x, exact = exact, strict.upper.bound = !allow.append, :\n",
      "“subscript is an array, passing it thru as.vector() first”Warning message in NSBS(i, x, exact = exact, strict.upper.bound = !allow.append, :\n",
      "“subscript is an array, passing it thru as.vector() first”Warning message in NSBS(i, x, exact = exact, strict.upper.bound = !allow.append, :\n",
      "“subscript is an array, passing it thru as.vector() first”Warning message in NSBS(i, x, exact = exact, strict.upper.bound = !allow.append, :\n",
      "“subscript is an array, passing it thru as.vector() first”Warning message in NSBS(i, x, exact = exact, strict.upper.bound = !allow.append, :\n",
      "“subscript is an array, passing it thru as.vector() first”Warning message in NSBS(i, x, exact = exact, strict.upper.bound = !allow.append, :\n",
      "“subscript is an array, passing it thru as.vector() first”Warning message in NSBS(i, x, exact = exact, strict.upper.bound = !allow.append, :\n",
      "“subscript is an array, passing it thru as.vector() first”Warning message in NSBS(i, x, exact = exact, strict.upper.bound = !allow.append, :\n",
      "“subscript is an array, passing it thru as.vector() first”Warning message in NSBS(i, x, exact = exact, strict.upper.bound = !allow.append, :\n",
      "“subscript is an array, passing it thru as.vector() first”Warning message in NSBS(i, x, exact = exact, strict.upper.bound = !allow.append, :\n",
      "“subscript is an array, passing it thru as.vector() first”Warning message in NSBS(i, x, exact = exact, strict.upper.bound = !allow.append, :\n",
      "“subscript is an array, passing it thru as.vector() first”Warning message in NSBS(i, x, exact = exact, strict.upper.bound = !allow.append, :\n",
      "“subscript is an array, passing it thru as.vector() first”Warning message in NSBS(i, x, exact = exact, strict.upper.bound = !allow.append, :\n",
      "“subscript is an array, passing it thru as.vector() first”Warning message in NSBS(i, x, exact = exact, strict.upper.bound = !allow.append, :\n",
      "“subscript is an array, passing it thru as.vector() first”Warning message in NSBS(i, x, exact = exact, strict.upper.bound = !allow.append, :\n",
      "“subscript is an array, passing it thru as.vector() first”Warning message in NSBS(i, x, exact = exact, strict.upper.bound = !allow.append, :\n",
      "“subscript is an array, passing it thru as.vector() first”Warning message in NSBS(i, x, exact = exact, strict.upper.bound = !allow.append, :\n",
      "“subscript is an array, passing it thru as.vector() first”Warning message in NSBS(i, x, exact = exact, strict.upper.bound = !allow.append, :\n",
      "“subscript is an array, passing it thru as.vector() first”Warning message in NSBS(i, x, exact = exact, strict.upper.bound = !allow.append, :\n",
      "“subscript is an array, passing it thru as.vector() first”Warning message in NSBS(i, x, exact = exact, strict.upper.bound = !allow.append, :\n",
      "“subscript is an array, passing it thru as.vector() first”Warning message in NSBS(i, x, exact = exact, strict.upper.bound = !allow.append, :\n",
      "“subscript is an array, passing it thru as.vector() first”Warning message in NSBS(i, x, exact = exact, strict.upper.bound = !allow.append, :\n",
      "“subscript is an array, passing it thru as.vector() first”Warning message in NSBS(i, x, exact = exact, strict.upper.bound = !allow.append, :\n",
      "“subscript is an array, passing it thru as.vector() first”Warning message in NSBS(i, x, exact = exact, strict.upper.bound = !allow.append, :\n",
      "“subscript is an array, passing it thru as.vector() first”Warning message in NSBS(i, x, exact = exact, strict.upper.bound = !allow.append, :\n",
      "“subscript is an array, passing it thru as.vector() first”Warning message in NSBS(i, x, exact = exact, strict.upper.bound = !allow.append, :\n",
      "“subscript is an array, passing it thru as.vector() first”Warning message in NSBS(i, x, exact = exact, strict.upper.bound = !allow.append, :\n",
      "“subscript is an array, passing it thru as.vector() first”Warning message in NSBS(i, x, exact = exact, strict.upper.bound = !allow.append, :\n",
      "“subscript is an array, passing it thru as.vector() first”Warning message in NSBS(i, x, exact = exact, strict.upper.bound = !allow.append, :\n",
      "“subscript is an array, passing it thru as.vector() first”Warning message in NSBS(i, x, exact = exact, strict.upper.bound = !allow.append, :\n",
      "“subscript is an array, passing it thru as.vector() first”Warning message in NSBS(i, x, exact = exact, strict.upper.bound = !allow.append, :\n",
      "“subscript is an array, passing it thru as.vector() first”Warning message in NSBS(i, x, exact = exact, strict.upper.bound = !allow.append, :\n",
      "“subscript is an array, passing it thru as.vector() first”Warning message in NSBS(i, x, exact = exact, strict.upper.bound = !allow.append, :\n",
      "“subscript is an array, passing it thru as.vector() first”Warning message in NSBS(i, x, exact = exact, strict.upper.bound = !allow.append, :\n",
      "“subscript is an array, passing it thru as.vector() first”Warning message in NSBS(i, x, exact = exact, strict.upper.bound = !allow.append, :\n",
      "“subscript is an array, passing it thru as.vector() first”Warning message in NSBS(i, x, exact = exact, strict.upper.bound = !allow.append, :\n",
      "“subscript is an array, passing it thru as.vector() first”Warning message in NSBS(i, x, exact = exact, strict.upper.bound = !allow.append, :\n",
      "“subscript is an array, passing it thru as.vector() first”Warning message in NSBS(i, x, exact = exact, strict.upper.bound = !allow.append, :\n",
      "“subscript is an array, passing it thru as.vector() first”Warning message in NSBS(i, x, exact = exact, strict.upper.bound = !allow.append, :\n",
      "“subscript is an array, passing it thru as.vector() first”Warning message in NSBS(i, x, exact = exact, strict.upper.bound = !allow.append, :\n",
      "“subscript is an array, passing it thru as.vector() first”Warning message in NSBS(i, x, exact = exact, strict.upper.bound = !allow.append, :\n",
      "“subscript is an array, passing it thru as.vector() first”Warning message in NSBS(i, x, exact = exact, strict.upper.bound = !allow.append, :\n",
      "“subscript is an array, passing it thru as.vector() first”Warning message in NSBS(i, x, exact = exact, strict.upper.bound = !allow.append, :\n",
      "“subscript is an array, passing it thru as.vector() first”Warning message in NSBS(i, x, exact = exact, strict.upper.bound = !allow.append, :\n",
      "“subscript is an array, passing it thru as.vector() first”Warning message in NSBS(i, x, exact = exact, strict.upper.bound = !allow.append, :\n",
      "“subscript is an array, passing it thru as.vector() first”Warning message in NSBS(i, x, exact = exact, strict.upper.bound = !allow.append, :\n",
      "“subscript is an array, passing it thru as.vector() first”Warning message in NSBS(i, x, exact = exact, strict.upper.bound = !allow.append, :\n",
      "“subscript is an array, passing it thru as.vector() first”Warning message in NSBS(i, x, exact = exact, strict.upper.bound = !allow.append, :\n",
      "“subscript is an array, passing it thru as.vector() first”Warning message in NSBS(i, x, exact = exact, strict.upper.bound = !allow.append, :\n",
      "“subscript is an array, passing it thru as.vector() first”Warning message in NSBS(i, x, exact = exact, strict.upper.bound = !allow.append, :\n",
      "“subscript is an array, passing it thru as.vector() first”Warning message in NSBS(i, x, exact = exact, strict.upper.bound = !allow.append, :\n"
     ]
    },
    {
     "name": "stderr",
     "output_type": "stream",
     "text": [
      "“subscript is an array, passing it thru as.vector() first”Warning message in NSBS(i, x, exact = exact, strict.upper.bound = !allow.append, :\n",
      "“subscript is an array, passing it thru as.vector() first”Warning message in NSBS(i, x, exact = exact, strict.upper.bound = !allow.append, :\n",
      "“subscript is an array, passing it thru as.vector() first”Warning message in NSBS(i, x, exact = exact, strict.upper.bound = !allow.append, :\n",
      "“subscript is an array, passing it thru as.vector() first”Warning message in NSBS(i, x, exact = exact, strict.upper.bound = !allow.append, :\n",
      "“subscript is an array, passing it thru as.vector() first”Warning message in NSBS(i, x, exact = exact, strict.upper.bound = !allow.append, :\n",
      "“subscript is an array, passing it thru as.vector() first”Warning message in NSBS(i, x, exact = exact, strict.upper.bound = !allow.append, :\n",
      "“subscript is an array, passing it thru as.vector() first”Warning message in NSBS(i, x, exact = exact, strict.upper.bound = !allow.append, :\n",
      "“subscript is an array, passing it thru as.vector() first”Warning message in NSBS(i, x, exact = exact, strict.upper.bound = !allow.append, :\n",
      "“subscript is an array, passing it thru as.vector() first”Warning message in NSBS(i, x, exact = exact, strict.upper.bound = !allow.append, :\n",
      "“subscript is an array, passing it thru as.vector() first”Warning message in NSBS(i, x, exact = exact, strict.upper.bound = !allow.append, :\n",
      "“subscript is an array, passing it thru as.vector() first”Warning message in NSBS(i, x, exact = exact, strict.upper.bound = !allow.append, :\n",
      "“subscript is an array, passing it thru as.vector() first”Warning message in NSBS(i, x, exact = exact, strict.upper.bound = !allow.append, :\n",
      "“subscript is an array, passing it thru as.vector() first”Warning message in NSBS(i, x, exact = exact, strict.upper.bound = !allow.append, :\n",
      "“subscript is an array, passing it thru as.vector() first”Warning message in NSBS(i, x, exact = exact, strict.upper.bound = !allow.append, :\n",
      "“subscript is an array, passing it thru as.vector() first”Warning message in NSBS(i, x, exact = exact, strict.upper.bound = !allow.append, :\n",
      "“subscript is an array, passing it thru as.vector() first”Warning message in NSBS(i, x, exact = exact, strict.upper.bound = !allow.append, :\n",
      "“subscript is an array, passing it thru as.vector() first”Warning message in NSBS(i, x, exact = exact, strict.upper.bound = !allow.append, :\n",
      "“subscript is an array, passing it thru as.vector() first”Warning message in NSBS(i, x, exact = exact, strict.upper.bound = !allow.append, :\n",
      "“subscript is an array, passing it thru as.vector() first”Warning message in NSBS(i, x, exact = exact, strict.upper.bound = !allow.append, :\n",
      "“subscript is an array, passing it thru as.vector() first”Warning message in NSBS(i, x, exact = exact, strict.upper.bound = !allow.append, :\n",
      "“subscript is an array, passing it thru as.vector() first”Warning message in NSBS(i, x, exact = exact, strict.upper.bound = !allow.append, :\n",
      "“subscript is an array, passing it thru as.vector() first”Warning message in NSBS(i, x, exact = exact, strict.upper.bound = !allow.append, :\n",
      "“subscript is an array, passing it thru as.vector() first”Warning message in NSBS(i, x, exact = exact, strict.upper.bound = !allow.append, :\n",
      "“subscript is an array, passing it thru as.vector() first”Warning message in NSBS(i, x, exact = exact, strict.upper.bound = !allow.append, :\n",
      "“subscript is an array, passing it thru as.vector() first”Warning message in NSBS(i, x, exact = exact, strict.upper.bound = !allow.append, :\n",
      "“subscript is an array, passing it thru as.vector() first”Warning message in NSBS(i, x, exact = exact, strict.upper.bound = !allow.append, :\n",
      "“subscript is an array, passing it thru as.vector() first”Warning message in NSBS(i, x, exact = exact, strict.upper.bound = !allow.append, :\n",
      "“subscript is an array, passing it thru as.vector() first”Warning message in NSBS(i, x, exact = exact, strict.upper.bound = !allow.append, :\n",
      "“subscript is an array, passing it thru as.vector() first”Warning message in NSBS(i, x, exact = exact, strict.upper.bound = !allow.append, :\n",
      "“subscript is an array, passing it thru as.vector() first”Warning message in NSBS(i, x, exact = exact, strict.upper.bound = !allow.append, :\n",
      "“subscript is an array, passing it thru as.vector() first”Warning message in NSBS(i, x, exact = exact, strict.upper.bound = !allow.append, :\n",
      "“subscript is an array, passing it thru as.vector() first”Warning message in NSBS(i, x, exact = exact, strict.upper.bound = !allow.append, :\n",
      "“subscript is an array, passing it thru as.vector() first”Warning message in NSBS(i, x, exact = exact, strict.upper.bound = !allow.append, :\n",
      "“subscript is an array, passing it thru as.vector() first”Warning message in NSBS(i, x, exact = exact, strict.upper.bound = !allow.append, :\n",
      "“subscript is an array, passing it thru as.vector() first”Warning message in NSBS(i, x, exact = exact, strict.upper.bound = !allow.append, :\n",
      "“subscript is an array, passing it thru as.vector() first”Warning message in NSBS(i, x, exact = exact, strict.upper.bound = !allow.append, :\n",
      "“subscript is an array, passing it thru as.vector() first”Warning message in NSBS(i, x, exact = exact, strict.upper.bound = !allow.append, :\n",
      "“subscript is an array, passing it thru as.vector() first”Warning message in NSBS(i, x, exact = exact, strict.upper.bound = !allow.append, :\n",
      "“subscript is an array, passing it thru as.vector() first”Warning message in NSBS(i, x, exact = exact, strict.upper.bound = !allow.append, :\n",
      "“subscript is an array, passing it thru as.vector() first”Warning message in NSBS(i, x, exact = exact, strict.upper.bound = !allow.append, :\n",
      "“subscript is an array, passing it thru as.vector() first”Warning message in NSBS(i, x, exact = exact, strict.upper.bound = !allow.append, :\n",
      "“subscript is an array, passing it thru as.vector() first”Warning message in NSBS(i, x, exact = exact, strict.upper.bound = !allow.append, :\n",
      "“subscript is an array, passing it thru as.vector() first”Warning message in NSBS(i, x, exact = exact, strict.upper.bound = !allow.append, :\n",
      "“subscript is an array, passing it thru as.vector() first”Warning message in NSBS(i, x, exact = exact, strict.upper.bound = !allow.append, :\n",
      "“subscript is an array, passing it thru as.vector() first”Warning message in NSBS(i, x, exact = exact, strict.upper.bound = !allow.append, :\n",
      "“subscript is an array, passing it thru as.vector() first”Warning message in NSBS(i, x, exact = exact, strict.upper.bound = !allow.append, :\n",
      "“subscript is an array, passing it thru as.vector() first”Warning message in NSBS(i, x, exact = exact, strict.upper.bound = !allow.append, :\n",
      "“subscript is an array, passing it thru as.vector() first”Warning message in NSBS(i, x, exact = exact, strict.upper.bound = !allow.append, :\n",
      "“subscript is an array, passing it thru as.vector() first”Warning message in NSBS(i, x, exact = exact, strict.upper.bound = !allow.append, :\n",
      "“subscript is an array, passing it thru as.vector() first”Warning message in NSBS(i, x, exact = exact, strict.upper.bound = !allow.append, :\n",
      "“subscript is an array, passing it thru as.vector() first”Warning message in NSBS(i, x, exact = exact, strict.upper.bound = !allow.append, :\n",
      "“subscript is an array, passing it thru as.vector() first”Warning message in NSBS(i, x, exact = exact, strict.upper.bound = !allow.append, :\n",
      "“subscript is an array, passing it thru as.vector() first”Warning message in NSBS(i, x, exact = exact, strict.upper.bound = !allow.append, :\n",
      "“subscript is an array, passing it thru as.vector() first”Warning message in NSBS(i, x, exact = exact, strict.upper.bound = !allow.append, :\n",
      "“subscript is an array, passing it thru as.vector() first”Warning message in NSBS(i, x, exact = exact, strict.upper.bound = !allow.append, :\n",
      "“subscript is an array, passing it thru as.vector() first”Warning message in NSBS(i, x, exact = exact, strict.upper.bound = !allow.append, :\n",
      "“subscript is an array, passing it thru as.vector() first”Warning message in NSBS(i, x, exact = exact, strict.upper.bound = !allow.append, :\n",
      "“subscript is an array, passing it thru as.vector() first”Warning message in NSBS(i, x, exact = exact, strict.upper.bound = !allow.append, :\n"
     ]
    },
    {
     "name": "stderr",
     "output_type": "stream",
     "text": [
      "“subscript is an array, passing it thru as.vector() first”Warning message in NSBS(i, x, exact = exact, strict.upper.bound = !allow.append, :\n",
      "“subscript is an array, passing it thru as.vector() first”Warning message in NSBS(i, x, exact = exact, strict.upper.bound = !allow.append, :\n",
      "“subscript is an array, passing it thru as.vector() first”Warning message in NSBS(i, x, exact = exact, strict.upper.bound = !allow.append, :\n",
      "“subscript is an array, passing it thru as.vector() first”Warning message in NSBS(i, x, exact = exact, strict.upper.bound = !allow.append, :\n",
      "“subscript is an array, passing it thru as.vector() first”Warning message in NSBS(i, x, exact = exact, strict.upper.bound = !allow.append, :\n",
      "“subscript is an array, passing it thru as.vector() first”Warning message in NSBS(i, x, exact = exact, strict.upper.bound = !allow.append, :\n",
      "“subscript is an array, passing it thru as.vector() first”Warning message in NSBS(i, x, exact = exact, strict.upper.bound = !allow.append, :\n",
      "“subscript is an array, passing it thru as.vector() first”Warning message in NSBS(i, x, exact = exact, strict.upper.bound = !allow.append, :\n",
      "“subscript is an array, passing it thru as.vector() first”Warning message in NSBS(i, x, exact = exact, strict.upper.bound = !allow.append, :\n",
      "“subscript is an array, passing it thru as.vector() first”Warning message in NSBS(i, x, exact = exact, strict.upper.bound = !allow.append, :\n",
      "“subscript is an array, passing it thru as.vector() first”Warning message in NSBS(i, x, exact = exact, strict.upper.bound = !allow.append, :\n",
      "“subscript is an array, passing it thru as.vector() first”Warning message in NSBS(i, x, exact = exact, strict.upper.bound = !allow.append, :\n",
      "“subscript is an array, passing it thru as.vector() first”Warning message in NSBS(i, x, exact = exact, strict.upper.bound = !allow.append, :\n",
      "“subscript is an array, passing it thru as.vector() first”Warning message in NSBS(i, x, exact = exact, strict.upper.bound = !allow.append, :\n",
      "“subscript is an array, passing it thru as.vector() first”Warning message in NSBS(i, x, exact = exact, strict.upper.bound = !allow.append, :\n",
      "“subscript is an array, passing it thru as.vector() first”Warning message in NSBS(i, x, exact = exact, strict.upper.bound = !allow.append, :\n",
      "“subscript is an array, passing it thru as.vector() first”Warning message in NSBS(i, x, exact = exact, strict.upper.bound = !allow.append, :\n",
      "“subscript is an array, passing it thru as.vector() first”Warning message in NSBS(i, x, exact = exact, strict.upper.bound = !allow.append, :\n",
      "“subscript is an array, passing it thru as.vector() first”Warning message in NSBS(i, x, exact = exact, strict.upper.bound = !allow.append, :\n",
      "“subscript is an array, passing it thru as.vector() first”Warning message in NSBS(i, x, exact = exact, strict.upper.bound = !allow.append, :\n",
      "“subscript is an array, passing it thru as.vector() first”Warning message in NSBS(i, x, exact = exact, strict.upper.bound = !allow.append, :\n",
      "“subscript is an array, passing it thru as.vector() first”Warning message in NSBS(i, x, exact = exact, strict.upper.bound = !allow.append, :\n",
      "“subscript is an array, passing it thru as.vector() first”Warning message in NSBS(i, x, exact = exact, strict.upper.bound = !allow.append, :\n",
      "“subscript is an array, passing it thru as.vector() first”Warning message in NSBS(i, x, exact = exact, strict.upper.bound = !allow.append, :\n",
      "“subscript is an array, passing it thru as.vector() first”Warning message in NSBS(i, x, exact = exact, strict.upper.bound = !allow.append, :\n",
      "“subscript is an array, passing it thru as.vector() first”Warning message in NSBS(i, x, exact = exact, strict.upper.bound = !allow.append, :\n",
      "“subscript is an array, passing it thru as.vector() first”Warning message in NSBS(i, x, exact = exact, strict.upper.bound = !allow.append, :\n",
      "“subscript is an array, passing it thru as.vector() first”Warning message in NSBS(i, x, exact = exact, strict.upper.bound = !allow.append, :\n",
      "“subscript is an array, passing it thru as.vector() first”Warning message in NSBS(i, x, exact = exact, strict.upper.bound = !allow.append, :\n",
      "“subscript is an array, passing it thru as.vector() first”Warning message in NSBS(i, x, exact = exact, strict.upper.bound = !allow.append, :\n",
      "“subscript is an array, passing it thru as.vector() first”Warning message in NSBS(i, x, exact = exact, strict.upper.bound = !allow.append, :\n",
      "“subscript is an array, passing it thru as.vector() first”Warning message in NSBS(i, x, exact = exact, strict.upper.bound = !allow.append, :\n",
      "“subscript is an array, passing it thru as.vector() first”Warning message in NSBS(i, x, exact = exact, strict.upper.bound = !allow.append, :\n",
      "“subscript is an array, passing it thru as.vector() first”Warning message in NSBS(i, x, exact = exact, strict.upper.bound = !allow.append, :\n",
      "“subscript is an array, passing it thru as.vector() first”Warning message in NSBS(i, x, exact = exact, strict.upper.bound = !allow.append, :\n",
      "“subscript is an array, passing it thru as.vector() first”Warning message in NSBS(i, x, exact = exact, strict.upper.bound = !allow.append, :\n",
      "“subscript is an array, passing it thru as.vector() first”Warning message in NSBS(i, x, exact = exact, strict.upper.bound = !allow.append, :\n",
      "“subscript is an array, passing it thru as.vector() first”Warning message in NSBS(i, x, exact = exact, strict.upper.bound = !allow.append, :\n",
      "“subscript is an array, passing it thru as.vector() first”Warning message in NSBS(i, x, exact = exact, strict.upper.bound = !allow.append, :\n",
      "“subscript is an array, passing it thru as.vector() first”Warning message in NSBS(i, x, exact = exact, strict.upper.bound = !allow.append, :\n",
      "“subscript is an array, passing it thru as.vector() first”Warning message in NSBS(i, x, exact = exact, strict.upper.bound = !allow.append, :\n",
      "“subscript is an array, passing it thru as.vector() first”Warning message in NSBS(i, x, exact = exact, strict.upper.bound = !allow.append, :\n",
      "“subscript is an array, passing it thru as.vector() first”Warning message in NSBS(i, x, exact = exact, strict.upper.bound = !allow.append, :\n",
      "“subscript is an array, passing it thru as.vector() first”Warning message in NSBS(i, x, exact = exact, strict.upper.bound = !allow.append, :\n",
      "“subscript is an array, passing it thru as.vector() first”Warning message in NSBS(i, x, exact = exact, strict.upper.bound = !allow.append, :\n",
      "“subscript is an array, passing it thru as.vector() first”Warning message in NSBS(i, x, exact = exact, strict.upper.bound = !allow.append, :\n",
      "“subscript is an array, passing it thru as.vector() first”Warning message in NSBS(i, x, exact = exact, strict.upper.bound = !allow.append, :\n",
      "“subscript is an array, passing it thru as.vector() first”Warning message in NSBS(i, x, exact = exact, strict.upper.bound = !allow.append, :\n",
      "“subscript is an array, passing it thru as.vector() first”Warning message in NSBS(i, x, exact = exact, strict.upper.bound = !allow.append, :\n",
      "“subscript is an array, passing it thru as.vector() first”Warning message in NSBS(i, x, exact = exact, strict.upper.bound = !allow.append, :\n",
      "“subscript is an array, passing it thru as.vector() first”Warning message in NSBS(i, x, exact = exact, strict.upper.bound = !allow.append, :\n",
      "“subscript is an array, passing it thru as.vector() first”Warning message in NSBS(i, x, exact = exact, strict.upper.bound = !allow.append, :\n",
      "“subscript is an array, passing it thru as.vector() first”Warning message in NSBS(i, x, exact = exact, strict.upper.bound = !allow.append, :\n",
      "“subscript is an array, passing it thru as.vector() first”Warning message in NSBS(i, x, exact = exact, strict.upper.bound = !allow.append, :\n",
      "“subscript is an array, passing it thru as.vector() first”Warning message in NSBS(i, x, exact = exact, strict.upper.bound = !allow.append, :\n",
      "“subscript is an array, passing it thru as.vector() first”Warning message in NSBS(i, x, exact = exact, strict.upper.bound = !allow.append, :\n",
      "“subscript is an array, passing it thru as.vector() first”"
     ]
    }
   ],
   "source": [
    "df_clusters = data.frame()\n",
    "for (i in 1:length(unique(sce_filt$donor_id))){\n",
    "    ## loop through donors\n",
    "    donor = unique(sce_filt$donor_id)[i]\n",
    "    ## select cells\n",
    "    donor_cells = colnames(sce_filt[,sce_filt$donor_id == donor])\n",
    "    data = data_all[donor_cells,] # select PCs to cells\n",
    "    ## compute kNNs (k=5,10,20)\n",
    "    k=20\n",
    "    nd <- RANN::nn2(data, query = data, k = min(k,length(donor_cells)))\n",
    "    ## cluster graph\n",
    "    cl <- louvainCluster(nd, data)\n",
    "    n_clusters = length(cl)\n",
    "    ## build cluster data.frame\n",
    "    for (j in 1:n_clusters){\n",
    "        df_clusters = rbind(df_clusters, data.frame(cell = cl[[j]], \n",
    "                                                cluster = paste0(\"cluster\",j),\n",
    "                                                donor_id = donor,\n",
    "                                                ncells = length(cl[[j]])))\n",
    "    }\n",
    "}"
   ]
  },
  {
   "cell_type": "code",
   "execution_count": 51,
   "metadata": {},
   "outputs": [],
   "source": [
    "df_clusters$pseudo_cell = paste0(df_clusters$donor_id,\"-\",df_clusters$cluster)"
   ]
  },
  {
   "cell_type": "code",
   "execution_count": 52,
   "metadata": {},
   "outputs": [
    {
     "data": {
      "text/html": [
       "<table>\n",
       "<thead><tr><th scope=col>cell</th><th scope=col>cluster</th><th scope=col>donor_id</th><th scope=col>ncells</th><th scope=col>pseudo_cell</th></tr></thead>\n",
       "<tbody>\n",
       "\t<tr><td>CCAGCGAGTTACTGAC-1-64    </td><td>cluster1                 </td><td>HPSI0513i-veve_2         </td><td>88                       </td><td>HPSI0513i-veve_2-cluster1</td></tr>\n",
       "\t<tr><td>GATCTAGCATCCAACA-1-65    </td><td>cluster1                 </td><td>HPSI0513i-veve_2         </td><td>88                       </td><td>HPSI0513i-veve_2-cluster1</td></tr>\n",
       "\t<tr><td>TGGCCAGCAAGCTGTT-1-64    </td><td>cluster1                 </td><td>HPSI0513i-veve_2         </td><td>88                       </td><td>HPSI0513i-veve_2-cluster1</td></tr>\n",
       "\t<tr><td>GCTGCGACAAGGACAC-1-64    </td><td>cluster1                 </td><td>HPSI0513i-veve_2         </td><td>88                       </td><td>HPSI0513i-veve_2-cluster1</td></tr>\n",
       "\t<tr><td>ACATGGTGTTATCACG-1-64    </td><td>cluster1                 </td><td>HPSI0513i-veve_2         </td><td>88                       </td><td>HPSI0513i-veve_2-cluster1</td></tr>\n",
       "\t<tr><td>GTTACAGCACAGAGGT-1-64    </td><td>cluster1                 </td><td>HPSI0513i-veve_2         </td><td>88                       </td><td>HPSI0513i-veve_2-cluster1</td></tr>\n",
       "</tbody>\n",
       "</table>\n"
      ],
      "text/latex": [
       "\\begin{tabular}{r|lllll}\n",
       " cell & cluster & donor\\_id & ncells & pseudo\\_cell\\\\\n",
       "\\hline\n",
       "\t CCAGCGAGTTACTGAC-1-64       & cluster1                    & HPSI0513i-veve\\_2          & 88                          & HPSI0513i-veve\\_2-cluster1\\\\\n",
       "\t GATCTAGCATCCAACA-1-65       & cluster1                    & HPSI0513i-veve\\_2          & 88                          & HPSI0513i-veve\\_2-cluster1\\\\\n",
       "\t TGGCCAGCAAGCTGTT-1-64       & cluster1                    & HPSI0513i-veve\\_2          & 88                          & HPSI0513i-veve\\_2-cluster1\\\\\n",
       "\t GCTGCGACAAGGACAC-1-64       & cluster1                    & HPSI0513i-veve\\_2          & 88                          & HPSI0513i-veve\\_2-cluster1\\\\\n",
       "\t ACATGGTGTTATCACG-1-64       & cluster1                    & HPSI0513i-veve\\_2          & 88                          & HPSI0513i-veve\\_2-cluster1\\\\\n",
       "\t GTTACAGCACAGAGGT-1-64       & cluster1                    & HPSI0513i-veve\\_2          & 88                          & HPSI0513i-veve\\_2-cluster1\\\\\n",
       "\\end{tabular}\n"
      ],
      "text/markdown": [
       "\n",
       "| cell | cluster | donor_id | ncells | pseudo_cell |\n",
       "|---|---|---|---|---|\n",
       "| CCAGCGAGTTACTGAC-1-64     | cluster1                  | HPSI0513i-veve_2          | 88                        | HPSI0513i-veve_2-cluster1 |\n",
       "| GATCTAGCATCCAACA-1-65     | cluster1                  | HPSI0513i-veve_2          | 88                        | HPSI0513i-veve_2-cluster1 |\n",
       "| TGGCCAGCAAGCTGTT-1-64     | cluster1                  | HPSI0513i-veve_2          | 88                        | HPSI0513i-veve_2-cluster1 |\n",
       "| GCTGCGACAAGGACAC-1-64     | cluster1                  | HPSI0513i-veve_2          | 88                        | HPSI0513i-veve_2-cluster1 |\n",
       "| ACATGGTGTTATCACG-1-64     | cluster1                  | HPSI0513i-veve_2          | 88                        | HPSI0513i-veve_2-cluster1 |\n",
       "| GTTACAGCACAGAGGT-1-64     | cluster1                  | HPSI0513i-veve_2          | 88                        | HPSI0513i-veve_2-cluster1 |\n",
       "\n"
      ],
      "text/plain": [
       "  cell                  cluster  donor_id         ncells\n",
       "1 CCAGCGAGTTACTGAC-1-64 cluster1 HPSI0513i-veve_2 88    \n",
       "2 GATCTAGCATCCAACA-1-65 cluster1 HPSI0513i-veve_2 88    \n",
       "3 TGGCCAGCAAGCTGTT-1-64 cluster1 HPSI0513i-veve_2 88    \n",
       "4 GCTGCGACAAGGACAC-1-64 cluster1 HPSI0513i-veve_2 88    \n",
       "5 ACATGGTGTTATCACG-1-64 cluster1 HPSI0513i-veve_2 88    \n",
       "6 GTTACAGCACAGAGGT-1-64 cluster1 HPSI0513i-veve_2 88    \n",
       "  pseudo_cell              \n",
       "1 HPSI0513i-veve_2-cluster1\n",
       "2 HPSI0513i-veve_2-cluster1\n",
       "3 HPSI0513i-veve_2-cluster1\n",
       "4 HPSI0513i-veve_2-cluster1\n",
       "5 HPSI0513i-veve_2-cluster1\n",
       "6 HPSI0513i-veve_2-cluster1"
      ]
     },
     "metadata": {},
     "output_type": "display_data"
    }
   ],
   "source": [
    "head(df_clusters)"
   ]
  },
  {
   "cell_type": "code",
   "execution_count": 53,
   "metadata": {},
   "outputs": [
    {
     "data": {
      "text/html": [
       "173"
      ],
      "text/latex": [
       "173"
      ],
      "text/markdown": [
       "173"
      ],
      "text/plain": [
       "[1] 173"
      ]
     },
     "metadata": {},
     "output_type": "display_data"
    }
   ],
   "source": [
    "length(unique(df_clusters$donor_id))"
   ]
  },
  {
   "cell_type": "code",
   "execution_count": 54,
   "metadata": {},
   "outputs": [],
   "source": [
    "# write.csv(df_clusters, \"/hps/nobackup/stegle/users/acuomo/all_scripts/struct_LMM2/sc_neuroseq/da_d52_untreated_pseudocells_20_harmony_PCs_atleast10cells_10nn.csv\")\n",
    "# write.csv(df_clusters, \"/hps/nobackup/stegle/users/acuomo/all_scripts/struct_LMM2/sc_neuroseq/da_d52_untreated_pseudocells_20_harmony_PCs_atleast10cells_5nn.csv\")\n",
    "write.csv(df_clusters, \"/hps/nobackup/stegle/users/acuomo/all_scripts/struct_LMM2/sc_neuroseq/da_d52_untreated_pseudocells_20_harmony_PCs_atleast10cells_20nn.csv\")"
   ]
  },
  {
   "cell_type": "code",
   "execution_count": 55,
   "metadata": {},
   "outputs": [],
   "source": [
    "filename = \"/hps/nobackup/stegle/users/acuomo/all_scripts/struct_LMM2/sc_neuroseq/da_d52_untreated_pseudocells_20_harmony_PCs_atleast10cells_20nn.csv\"\n",
    "df_clusters = read.csv(filename, row.names=1)"
   ]
  },
  {
   "cell_type": "code",
   "execution_count": 56,
   "metadata": {},
   "outputs": [
    {
     "data": {
      "text/html": [
       "1013"
      ],
      "text/latex": [
       "1013"
      ],
      "text/markdown": [
       "1013"
      ],
      "text/plain": [
       "[1] 1013"
      ]
     },
     "metadata": {},
     "output_type": "display_data"
    }
   ],
   "source": [
    "length(unique(df_clusters$pseudo_cell))"
   ]
  },
  {
   "cell_type": "code",
   "execution_count": 57,
   "metadata": {},
   "outputs": [
    {
     "data": {
      "text/html": [
       "1"
      ],
      "text/latex": [
       "1"
      ],
      "text/markdown": [
       "1"
      ],
      "text/plain": [
       "[1] 1"
      ]
     },
     "metadata": {},
     "output_type": "display_data"
    },
    {
     "data": {
      "text/html": [
       "572"
      ],
      "text/latex": [
       "572"
      ],
      "text/markdown": [
       "572"
      ],
      "text/plain": [
       "[1] 572"
      ]
     },
     "metadata": {},
     "output_type": "display_data"
    }
   ],
   "source": [
    "# k = 5,  1-360 cells per pseudocell\n",
    "# k = 10, 3-597 cells per pseudocell\n",
    "# k = 20, 1-572 cells per pseudocell\n",
    "min(df_clusters$ncells)\n",
    "max(df_clusters$ncells)"
   ]
  },
  {
   "cell_type": "code",
   "execution_count": null,
   "metadata": {},
   "outputs": [],
   "source": []
  },
  {
   "cell_type": "code",
   "execution_count": 24,
   "metadata": {},
   "outputs": [],
   "source": [
    "df_summary = df_clusters %>% group_by(donor_id) %>% summarise(mean = mean(ncells), sum = n(), nclusters = n_distinct(cluster))"
   ]
  },
  {
   "cell_type": "code",
   "execution_count": 25,
   "metadata": {},
   "outputs": [
    {
     "data": {
      "text/html": [
       "<table>\n",
       "<thead><tr><th scope=col>donor_id</th><th scope=col>mean</th><th scope=col>sum</th><th scope=col>nclusters</th></tr></thead>\n",
       "<tbody>\n",
       "\t<tr><td>HPSI0114i-kolf_2</td><td> 64.38940       </td><td>547             </td><td>9               </td></tr>\n",
       "\t<tr><td>HPSI0114i-rozh_4</td><td> 19.05000       </td><td> 40             </td><td>3               </td></tr>\n",
       "\t<tr><td>HPSI0114i-wegi_1</td><td> 66.96970       </td><td>330             </td><td>6               </td></tr>\n",
       "\t<tr><td>HPSI0114i-zapk_2</td><td>116.64129       </td><td>775             </td><td>7               </td></tr>\n",
       "\t<tr><td>HPSI0115i-aion_2</td><td> 30.83333       </td><td>180             </td><td>6               </td></tr>\n",
       "\t<tr><td>HPSI0115i-aoxv_1</td><td> 51.79325       </td><td>237             </td><td>5               </td></tr>\n",
       "</tbody>\n",
       "</table>\n"
      ],
      "text/latex": [
       "\\begin{tabular}{r|llll}\n",
       " donor\\_id & mean & sum & nclusters\\\\\n",
       "\\hline\n",
       "\t HPSI0114i-kolf\\_2 &  64.38940          & 547                & 9                 \\\\\n",
       "\t HPSI0114i-rozh\\_4 &  19.05000          &  40                & 3                 \\\\\n",
       "\t HPSI0114i-wegi\\_1 &  66.96970          & 330                & 6                 \\\\\n",
       "\t HPSI0114i-zapk\\_2 & 116.64129          & 775                & 7                 \\\\\n",
       "\t HPSI0115i-aion\\_2 &  30.83333          & 180                & 6                 \\\\\n",
       "\t HPSI0115i-aoxv\\_1 &  51.79325          & 237                & 5                 \\\\\n",
       "\\end{tabular}\n"
      ],
      "text/markdown": [
       "\n",
       "| donor_id | mean | sum | nclusters |\n",
       "|---|---|---|---|\n",
       "| HPSI0114i-kolf_2 |  64.38940        | 547              | 9                |\n",
       "| HPSI0114i-rozh_4 |  19.05000        |  40              | 3                |\n",
       "| HPSI0114i-wegi_1 |  66.96970        | 330              | 6                |\n",
       "| HPSI0114i-zapk_2 | 116.64129        | 775              | 7                |\n",
       "| HPSI0115i-aion_2 |  30.83333        | 180              | 6                |\n",
       "| HPSI0115i-aoxv_1 |  51.79325        | 237              | 5                |\n",
       "\n"
      ],
      "text/plain": [
       "  donor_id         mean      sum nclusters\n",
       "1 HPSI0114i-kolf_2  64.38940 547 9        \n",
       "2 HPSI0114i-rozh_4  19.05000  40 3        \n",
       "3 HPSI0114i-wegi_1  66.96970 330 6        \n",
       "4 HPSI0114i-zapk_2 116.64129 775 7        \n",
       "5 HPSI0115i-aion_2  30.83333 180 6        \n",
       "6 HPSI0115i-aoxv_1  51.79325 237 5        "
      ]
     },
     "metadata": {},
     "output_type": "display_data"
    }
   ],
   "source": [
    "head(df_summary)"
   ]
  },
  {
   "cell_type": "code",
   "execution_count": 26,
   "metadata": {},
   "outputs": [
    {
     "data": {
      "image/png": "[encoded data removed]",
      "text/plain": [
       "plot without title"
      ]
     },
     "metadata": {},
     "output_type": "display_data"
    },
    {
     "data": {
      "image/png": "[encoded data removed]",
      "text/plain": [
       "plot without title"
      ]
     },
     "metadata": {},
     "output_type": "display_data"
    }
   ],
   "source": [
    "options(repr.plot.width=4, repr.plot.height=4)\n",
    "ggplot(df_summary, aes(x=sum, y=mean)) + geom_point() + \n",
    "    xlab(\"Number of cells per donor\") + ylab(\"Average number of cells per pseudocell\") + theme_bw()\n",
    "ggplot(df_summary, aes(x=log10(sum), y=nclusters)) + geom_point() + \n",
    "    xlab(\"Number of cells per donor (log)\") + ylab(\"Number of pseudocells per donor\") + theme_bw()"
   ]
  },
  {
   "cell_type": "code",
   "execution_count": null,
   "metadata": {},
   "outputs": [],
   "source": []
  },
  {
   "cell_type": "code",
   "execution_count": null,
   "metadata": {},
   "outputs": [],
   "source": []
  },
  {
   "cell_type": "code",
   "execution_count": null,
   "metadata": {},
   "outputs": [],
   "source": []
  },
  {
   "cell_type": "code",
   "execution_count": null,
   "metadata": {},
   "outputs": [],
   "source": []
  },
  {
   "cell_type": "code",
   "execution_count": null,
   "metadata": {},
   "outputs": [],
   "source": []
  },
  {
   "cell_type": "code",
   "execution_count": null,
   "metadata": {},
   "outputs": [],
   "source": []
  },
  {
   "cell_type": "code",
   "execution_count": null,
   "metadata": {},
   "outputs": [],
   "source": []
  },
  {
   "cell_type": "code",
   "execution_count": null,
   "metadata": {},
   "outputs": [],
   "source": []
  },
  {
   "cell_type": "code",
   "execution_count": null,
   "metadata": {},
   "outputs": [],
   "source": []
  },
  {
   "cell_type": "code",
   "execution_count": null,
   "metadata": {},
   "outputs": [],
   "source": []
  },
  {
   "cell_type": "code",
   "execution_count": 109,
   "metadata": {},
   "outputs": [
    {
     "name": "stderr",
     "output_type": "stream",
     "text": [
      "Warning message in NSBS(i, x, exact = exact, strict.upper.bound = !allow.append, :\n",
      "“subscript is an array, passing it thru as.vector() first”"
     ]
    },
    {
     "name": "stdout",
     "output_type": "stream",
     "text": [
      "[1] \"1\"                \"HPSI0513i-veve_2\" \"535\"             \n"
     ]
    },
    {
     "name": "stderr",
     "output_type": "stream",
     "text": [
      "Warning message in NSBS(i, x, exact = exact, strict.upper.bound = !allow.append, :\n",
      "“subscript is an array, passing it thru as.vector() first”"
     ]
    },
    {
     "name": "stdout",
     "output_type": "stream",
     "text": [
      "[1] \"2\"                \"HPSI1014i-babz_3\" \"296\"             \n"
     ]
    },
    {
     "name": "stderr",
     "output_type": "stream",
     "text": [
      "Warning message in NSBS(i, x, exact = exact, strict.upper.bound = !allow.append, :\n",
      "“subscript is an array, passing it thru as.vector() first”"
     ]
    },
    {
     "name": "stdout",
     "output_type": "stream",
     "text": [
      "[1] \"3\"                \"HPSI0215i-hipn_1\" \"362\"             \n"
     ]
    },
    {
     "name": "stderr",
     "output_type": "stream",
     "text": [
      "Warning message in NSBS(i, x, exact = exact, strict.upper.bound = !allow.append, :\n",
      "“subscript is an array, passing it thru as.vector() first”"
     ]
    },
    {
     "name": "stdout",
     "output_type": "stream",
     "text": [
      "[1] \"4\"                \"HPSI1014i-qayj_4\" \"2503\"            \n"
     ]
    },
    {
     "name": "stderr",
     "output_type": "stream",
     "text": [
      "Warning message in NSBS(i, x, exact = exact, strict.upper.bound = !allow.append, :\n",
      "“subscript is an array, passing it thru as.vector() first”"
     ]
    },
    {
     "name": "stdout",
     "output_type": "stream",
     "text": [
      "[1] \"5\"                 \"HPSI0413i-coxy_33\" \"939\"              \n"
     ]
    },
    {
     "name": "stderr",
     "output_type": "stream",
     "text": [
      "Warning message in NSBS(i, x, exact = exact, strict.upper.bound = !allow.append, :\n",
      "“subscript is an array, passing it thru as.vector() first”"
     ]
    },
    {
     "name": "stdout",
     "output_type": "stream",
     "text": [
      "[1] \"6\"                \"HPSI0114i-kolf_2\" \"547\"             \n"
     ]
    },
    {
     "name": "stderr",
     "output_type": "stream",
     "text": [
      "Warning message in NSBS(i, x, exact = exact, strict.upper.bound = !allow.append, :\n",
      "“subscript is an array, passing it thru as.vector() first”"
     ]
    },
    {
     "name": "stdout",
     "output_type": "stream",
     "text": [
      "[1] \"7\"                \"HPSI0514i-lako_1\" \"813\"             \n"
     ]
    },
    {
     "name": "stderr",
     "output_type": "stream",
     "text": [
      "Warning message in NSBS(i, x, exact = exact, strict.upper.bound = !allow.append, :\n",
      "“subscript is an array, passing it thru as.vector() first”"
     ]
    },
    {
     "name": "stdout",
     "output_type": "stream",
     "text": [
      "[1] \"8\"                \"HPSI0714i-pipw_4\" \"934\"             \n"
     ]
    },
    {
     "name": "stderr",
     "output_type": "stream",
     "text": [
      "Warning message in NSBS(i, x, exact = exact, strict.upper.bound = !allow.append, :\n",
      "“subscript is an array, passing it thru as.vector() first”"
     ]
    },
    {
     "name": "stdout",
     "output_type": "stream",
     "text": [
      "[1] \"9\"                \"HPSI0215i-deyz_2\" \"1386\"            \n"
     ]
    },
    {
     "name": "stderr",
     "output_type": "stream",
     "text": [
      "Warning message in NSBS(i, x, exact = exact, strict.upper.bound = !allow.append, :\n",
      "“subscript is an array, passing it thru as.vector() first”"
     ]
    },
    {
     "name": "stdout",
     "output_type": "stream",
     "text": [
      "[1] \"10\"               \"HPSI0715i-meue_5\" \"578\"             \n"
     ]
    },
    {
     "name": "stderr",
     "output_type": "stream",
     "text": [
      "Warning message in NSBS(i, x, exact = exact, strict.upper.bound = !allow.append, :\n",
      "“subscript is an array, passing it thru as.vector() first”"
     ]
    },
    {
     "name": "stdout",
     "output_type": "stream",
     "text": [
      "[1] \"11\"               \"HPSI0215i-fawm_2\" \"219\"             \n"
     ]
    },
    {
     "name": "stderr",
     "output_type": "stream",
     "text": [
      "Warning message in NSBS(i, x, exact = exact, strict.upper.bound = !allow.append, :\n",
      "“subscript is an array, passing it thru as.vector() first”"
     ]
    },
    {
     "name": "stdout",
     "output_type": "stream",
     "text": [
      "[1] \"12\"               \"HPSI0614i-wihj_4\" \"1145\"            \n"
     ]
    },
    {
     "name": "stderr",
     "output_type": "stream",
     "text": [
      "Warning message in NSBS(i, x, exact = exact, strict.upper.bound = !allow.append, :\n",
      "“subscript is an array, passing it thru as.vector() first”"
     ]
    },
    {
     "name": "stdout",
     "output_type": "stream",
     "text": [
      "[1] \"13\"               \"HPSI1213i-hehd_1\" \"480\"             \n"
     ]
    },
    {
     "name": "stderr",
     "output_type": "stream",
     "text": [
      "Warning message in NSBS(i, x, exact = exact, strict.upper.bound = !allow.append, :\n",
      "“subscript is an array, passing it thru as.vector() first”"
     ]
    },
    {
     "name": "stdout",
     "output_type": "stream",
     "text": [
      "[1] \"14\"               \"HPSI0513i-uoxz_4\" \"434\"             \n"
     ]
    },
    {
     "name": "stderr",
     "output_type": "stream",
     "text": [
      "Warning message in NSBS(i, x, exact = exact, strict.upper.bound = !allow.append, :\n",
      "“subscript is an array, passing it thru as.vector() first”"
     ]
    },
    {
     "name": "stdout",
     "output_type": "stream",
     "text": [
      "[1] \"15\"               \"HPSI0914i-euts_3\" \"65\"              \n"
     ]
    },
    {
     "name": "stderr",
     "output_type": "stream",
     "text": [
      "Warning message in NSBS(i, x, exact = exact, strict.upper.bound = !allow.append, :\n",
      "“subscript is an array, passing it thru as.vector() first”"
     ]
    },
    {
     "name": "stdout",
     "output_type": "stream",
     "text": [
      "[1] \"16\"               \"HPSI1113i-podx_1\" \"1356\"            \n"
     ]
    },
    {
     "name": "stderr",
     "output_type": "stream",
     "text": [
      "Warning message in NSBS(i, x, exact = exact, strict.upper.bound = !allow.append, :\n",
      "“subscript is an array, passing it thru as.vector() first”"
     ]
    },
    {
     "name": "stdout",
     "output_type": "stream",
     "text": [
      "[1] \"17\"               \"HPSI0413i-peop_4\" \"346\"             \n"
     ]
    },
    {
     "name": "stderr",
     "output_type": "stream",
     "text": [
      "Warning message in NSBS(i, x, exact = exact, strict.upper.bound = !allow.append, :\n",
      "“subscript is an array, passing it thru as.vector() first”"
     ]
    },
    {
     "name": "stdout",
     "output_type": "stream",
     "text": [
      "[1] \"18\"               \"HPSI0314i-cuhk_2\" \"247\"             \n"
     ]
    },
    {
     "name": "stderr",
     "output_type": "stream",
     "text": [
      "Warning message in NSBS(i, x, exact = exact, strict.upper.bound = !allow.append, :\n",
      "“subscript is an array, passing it thru as.vector() first”"
     ]
    },
    {
     "name": "stdout",
     "output_type": "stream",
     "text": [
      "[1] \"19\"               \"HPSI0115i-paim_1\" \"4263\"            \n"
     ]
    },
    {
     "name": "stderr",
     "output_type": "stream",
     "text": [
      "Warning message in NSBS(i, x, exact = exact, strict.upper.bound = !allow.append, :\n",
      "“subscript is an array, passing it thru as.vector() first”"
     ]
    },
    {
     "name": "stdout",
     "output_type": "stream",
     "text": [
      "[1] \"20\"               \"HPSI0813i-zexw_3\" \"259\"             \n"
     ]
    },
    {
     "name": "stderr",
     "output_type": "stream",
     "text": [
      "Warning message in NSBS(i, x, exact = exact, strict.upper.bound = !allow.append, :\n",
      "“subscript is an array, passing it thru as.vector() first”"
     ]
    },
    {
     "name": "stdout",
     "output_type": "stream",
     "text": [
      "[1] \"21\"               \"HPSI0513i-giuf_1\" \"89\"              \n"
     ]
    },
    {
     "name": "stderr",
     "output_type": "stream",
     "text": [
      "Warning message in NSBS(i, x, exact = exact, strict.upper.bound = !allow.append, :\n",
      "“subscript is an array, passing it thru as.vector() first”"
     ]
    },
    {
     "name": "stdout",
     "output_type": "stream",
     "text": [
      "[1] \"22\"               \"HPSI0914i-yuvg_2\" \"150\"             \n"
     ]
    },
    {
     "name": "stderr",
     "output_type": "stream",
     "text": [
      "Warning message in NSBS(i, x, exact = exact, strict.upper.bound = !allow.append, :\n",
      "“subscript is an array, passing it thru as.vector() first”"
     ]
    },
    {
     "name": "stdout",
     "output_type": "stream",
     "text": [
      "[1] \"23\"                \"HPSI0613i-oomz_22\" \"178\"              \n"
     ]
    },
    {
     "name": "stderr",
     "output_type": "stream",
     "text": [
      "Warning message in NSBS(i, x, exact = exact, strict.upper.bound = !allow.append, :\n",
      "“subscript is an array, passing it thru as.vector() first”"
     ]
    },
    {
     "name": "stdout",
     "output_type": "stream",
     "text": [
      "[1] \"24\"               \"HPSI0514i-fiaj_1\" \"1552\"            \n"
     ]
    },
    {
     "name": "stderr",
     "output_type": "stream",
     "text": [
      "Warning message in NSBS(i, x, exact = exact, strict.upper.bound = !allow.append, :\n",
      "“subscript is an array, passing it thru as.vector() first”"
     ]
    },
    {
     "name": "stdout",
     "output_type": "stream",
     "text": [
      "[1] \"25\"               \"HPSI0813i-mioj_1\" \"429\"             \n"
     ]
    },
    {
     "name": "stderr",
     "output_type": "stream",
     "text": [
      "Warning message in NSBS(i, x, exact = exact, strict.upper.bound = !allow.append, :\n",
      "“subscript is an array, passing it thru as.vector() first”"
     ]
    },
    {
     "name": "stdout",
     "output_type": "stream",
     "text": [
      "[1] \"26\"               \"HPSI0514i-tert_1\" \"86\"              \n"
     ]
    },
    {
     "name": "stderr",
     "output_type": "stream",
     "text": [
      "Warning message in NSBS(i, x, exact = exact, strict.upper.bound = !allow.append, :\n",
      "“subscript is an array, passing it thru as.vector() first”"
     ]
    },
    {
     "name": "stdout",
     "output_type": "stream",
     "text": [
      "[1] \"27\"               \"HPSI1114i-kuul_1\" \"572\"             \n"
     ]
    },
    {
     "name": "stderr",
     "output_type": "stream",
     "text": [
      "Warning message in NSBS(i, x, exact = exact, strict.upper.bound = !allow.append, :\n",
      "“subscript is an array, passing it thru as.vector() first”"
     ]
    },
    {
     "name": "stdout",
     "output_type": "stream",
     "text": [
      "[1] \"28\"               \"HPSI0513i-sucd_3\" \"289\"             \n"
     ]
    },
    {
     "name": "stderr",
     "output_type": "stream",
     "text": [
      "Warning message in NSBS(i, x, exact = exact, strict.upper.bound = !allow.append, :\n",
      "“subscript is an array, passing it thru as.vector() first”"
     ]
    },
    {
     "name": "stdout",
     "output_type": "stream",
     "text": [
      "[1] \"29\"               \"HPSI0414i-sebn_3\" \"342\"             \n"
     ]
    },
    {
     "name": "stderr",
     "output_type": "stream",
     "text": [
      "Warning message in NSBS(i, x, exact = exact, strict.upper.bound = !allow.append, :\n",
      "“subscript is an array, passing it thru as.vector() first”"
     ]
    },
    {
     "name": "stdout",
     "output_type": "stream",
     "text": [
      "[1] \"30\"                \"HPSI0513i-oarz_22\" \"1077\"             \n"
     ]
    },
    {
     "name": "stderr",
     "output_type": "stream",
     "text": [
      "Warning message in NSBS(i, x, exact = exact, strict.upper.bound = !allow.append, :\n",
      "“subscript is an array, passing it thru as.vector() first”"
     ]
    },
    {
     "name": "stdout",
     "output_type": "stream",
     "text": [
      "[1] \"31\"               \"HPSI0114i-zapk_2\" \"775\"             \n"
     ]
    },
    {
     "name": "stderr",
     "output_type": "stream",
     "text": [
      "Warning message in NSBS(i, x, exact = exact, strict.upper.bound = !allow.append, :\n",
      "“subscript is an array, passing it thru as.vector() first”"
     ]
    },
    {
     "name": "stdout",
     "output_type": "stream",
     "text": [
      "[1] \"32\"               \"HPSI0214i-pelm_3\" \"1518\"            \n"
     ]
    },
    {
     "name": "stderr",
     "output_type": "stream",
     "text": [
      "Warning message in NSBS(i, x, exact = exact, strict.upper.bound = !allow.append, :\n",
      "“subscript is an array, passing it thru as.vector() first”"
     ]
    },
    {
     "name": "stdout",
     "output_type": "stream",
     "text": [
      "[1] \"33\"               \"HPSI0813i-uaqe_1\" \"67\"              \n"
     ]
    },
    {
     "name": "stderr",
     "output_type": "stream",
     "text": [
      "Warning message in NSBS(i, x, exact = exact, strict.upper.bound = !allow.append, :\n",
      "“subscript is an array, passing it thru as.vector() first”"
     ]
    },
    {
     "name": "stdout",
     "output_type": "stream",
     "text": [
      "[1] \"34\"               \"HPSI0913i-iuqb_1\" \"291\"             \n"
     ]
    },
    {
     "name": "stderr",
     "output_type": "stream",
     "text": [
      "Warning message in NSBS(i, x, exact = exact, strict.upper.bound = !allow.append, :\n",
      "“subscript is an array, passing it thru as.vector() first”"
     ]
    },
    {
     "name": "stdout",
     "output_type": "stream",
     "text": [
      "[1] \"35\"               \"HPSI0214i-rayr_1\" \"170\"             \n"
     ]
    },
    {
     "name": "stderr",
     "output_type": "stream",
     "text": [
      "Warning message in NSBS(i, x, exact = exact, strict.upper.bound = !allow.append, :\n",
      "“subscript is an array, passing it thru as.vector() first”"
     ]
    },
    {
     "name": "stdout",
     "output_type": "stream",
     "text": [
      "[1] \"36\"               \"HPSI0115i-gost_2\" \"998\"             \n"
     ]
    },
    {
     "name": "stderr",
     "output_type": "stream",
     "text": [
      "Warning message in NSBS(i, x, exact = exact, strict.upper.bound = !allow.append, :\n",
      "“subscript is an array, passing it thru as.vector() first”"
     ]
    },
    {
     "name": "stdout",
     "output_type": "stream",
     "text": [
      "[1] \"37\"               \"HPSI0614i-juzt_4\" \"133\"             \n"
     ]
    },
    {
     "name": "stderr",
     "output_type": "stream",
     "text": [
      "Warning message in NSBS(i, x, exact = exact, strict.upper.bound = !allow.append, :\n",
      "“subscript is an array, passing it thru as.vector() first”"
     ]
    },
    {
     "name": "stdout",
     "output_type": "stream",
     "text": [
      "[1] \"38\"               \"HPSI0214i-giju_3\" \"210\"             \n"
     ]
    },
    {
     "name": "stderr",
     "output_type": "stream",
     "text": [
      "Warning message in NSBS(i, x, exact = exact, strict.upper.bound = !allow.append, :\n",
      "“subscript is an array, passing it thru as.vector() first”"
     ]
    },
    {
     "name": "stdout",
     "output_type": "stream",
     "text": [
      "[1] \"39\"               \"HPSI0115i-jakt_1\" \"339\"             \n"
     ]
    },
    {
     "name": "stderr",
     "output_type": "stream",
     "text": [
      "Warning message in NSBS(i, x, exact = exact, strict.upper.bound = !allow.append, :\n",
      "“subscript is an array, passing it thru as.vector() first”"
     ]
    },
    {
     "name": "stdout",
     "output_type": "stream",
     "text": [
      "[1] \"40\"               \"HPSI1014i-roug_3\" \"2032\"            \n"
     ]
    },
    {
     "name": "stderr",
     "output_type": "stream",
     "text": [
      "Warning message in NSBS(i, x, exact = exact, strict.upper.bound = !allow.append, :\n",
      "“subscript is an array, passing it thru as.vector() first”"
     ]
    },
    {
     "name": "stdout",
     "output_type": "stream",
     "text": [
      "[1] \"41\"               \"HPSI1014i-eesb_1\" \"2587\"            \n"
     ]
    },
    {
     "name": "stderr",
     "output_type": "stream",
     "text": [
      "Warning message in NSBS(i, x, exact = exact, strict.upper.bound = !allow.append, :\n",
      "“subscript is an array, passing it thru as.vector() first”"
     ]
    },
    {
     "name": "stdout",
     "output_type": "stream",
     "text": [
      "[1] \"42\"               \"HPSI1013i-woci_1\" \"35\"              \n"
     ]
    },
    {
     "name": "stderr",
     "output_type": "stream",
     "text": [
      "Warning message in NSBS(i, x, exact = exact, strict.upper.bound = !allow.append, :\n",
      "“subscript is an array, passing it thru as.vector() first”"
     ]
    },
    {
     "name": "stdout",
     "output_type": "stream",
     "text": [
      "[1] \"43\"               \"HPSI0813i-wots_3\" \"175\"             \n"
     ]
    },
    {
     "name": "stderr",
     "output_type": "stream",
     "text": [
      "Warning message in NSBS(i, x, exact = exact, strict.upper.bound = !allow.append, :\n",
      "“subscript is an array, passing it thru as.vector() first”"
     ]
    },
    {
     "name": "stdout",
     "output_type": "stream",
     "text": [
      "[1] \"44\"               \"HPSI0514i-sohd_2\" \"207\"             \n"
     ]
    },
    {
     "name": "stderr",
     "output_type": "stream",
     "text": [
      "Warning message in NSBS(i, x, exact = exact, strict.upper.bound = !allow.append, :\n",
      "“subscript is an array, passing it thru as.vector() first”"
     ]
    },
    {
     "name": "stdout",
     "output_type": "stream",
     "text": [
      "[1] \"45\"               \"HPSI0614i-uevq_6\" \"344\"             \n"
     ]
    },
    {
     "name": "stderr",
     "output_type": "stream",
     "text": [
      "Warning message in NSBS(i, x, exact = exact, strict.upper.bound = !allow.append, :\n",
      "“subscript is an array, passing it thru as.vector() first”"
     ]
    },
    {
     "name": "stdout",
     "output_type": "stream",
     "text": [
      "[1] \"46\"               \"HPSI0414i-mita_1\" \"106\"             \n"
     ]
    },
    {
     "name": "stderr",
     "output_type": "stream",
     "text": [
      "Warning message in NSBS(i, x, exact = exact, strict.upper.bound = !allow.append, :\n",
      "“subscript is an array, passing it thru as.vector() first”"
     ]
    },
    {
     "name": "stdout",
     "output_type": "stream",
     "text": [
      "[1] \"47\"               \"HPSI0514i-uenn_3\" \"209\"             \n"
     ]
    },
    {
     "name": "stderr",
     "output_type": "stream",
     "text": [
      "Warning message in NSBS(i, x, exact = exact, strict.upper.bound = !allow.append, :\n",
      "“subscript is an array, passing it thru as.vector() first”"
     ]
    },
    {
     "name": "stdout",
     "output_type": "stream",
     "text": [
      "[1] \"48\"               \"HPSI1014i-quls_2\" \"140\"             \n"
     ]
    },
    {
     "name": "stderr",
     "output_type": "stream",
     "text": [
      "Warning message in NSBS(i, x, exact = exact, strict.upper.bound = !allow.append, :\n",
      "“subscript is an array, passing it thru as.vector() first”"
     ]
    },
    {
     "name": "stdout",
     "output_type": "stream",
     "text": [
      "[1] \"49\"               \"HPSI0414i-uawq_2\" \"230\"             \n"
     ]
    },
    {
     "name": "stderr",
     "output_type": "stream",
     "text": [
      "Warning message in NSBS(i, x, exact = exact, strict.upper.bound = !allow.append, :\n",
      "“subscript is an array, passing it thru as.vector() first”"
     ]
    },
    {
     "name": "stdout",
     "output_type": "stream",
     "text": [
      "[1] \"50\"               \"HPSI0115i-sehp_2\" \"614\"             \n"
     ]
    },
    {
     "name": "stderr",
     "output_type": "stream",
     "text": [
      "Warning message in NSBS(i, x, exact = exact, strict.upper.bound = !allow.append, :\n",
      "“subscript is an array, passing it thru as.vector() first”"
     ]
    },
    {
     "name": "stdout",
     "output_type": "stream",
     "text": [
      "[1] \"51\"               \"HPSI0914i-vaka_5\" \"383\"             \n"
     ]
    },
    {
     "name": "stderr",
     "output_type": "stream",
     "text": [
      "Warning message in NSBS(i, x, exact = exact, strict.upper.bound = !allow.append, :\n",
      "“subscript is an array, passing it thru as.vector() first”"
     ]
    },
    {
     "name": "stdout",
     "output_type": "stream",
     "text": [
      "[1] \"52\"               \"HPSI0413i-nudd_1\" \"133\"             \n"
     ]
    },
    {
     "name": "stderr",
     "output_type": "stream",
     "text": [
      "Warning message in NSBS(i, x, exact = exact, strict.upper.bound = !allow.append, :\n",
      "“subscript is an array, passing it thru as.vector() first”"
     ]
    },
    {
     "name": "stdout",
     "output_type": "stream",
     "text": [
      "[1] \"53\"               \"HPSI1014i-tixi_4\" \"144\"             \n"
     ]
    },
    {
     "name": "stderr",
     "output_type": "stream",
     "text": [
      "Warning message in NSBS(i, x, exact = exact, strict.upper.bound = !allow.append, :\n",
      "“subscript is an array, passing it thru as.vector() first”"
     ]
    },
    {
     "name": "stdout",
     "output_type": "stream",
     "text": [
      "[1] \"54\"               \"HPSI1014i-sehl_6\" \"198\"             \n"
     ]
    },
    {
     "name": "stderr",
     "output_type": "stream",
     "text": [
      "Warning message in NSBS(i, x, exact = exact, strict.upper.bound = !allow.append, :\n",
      "“subscript is an array, passing it thru as.vector() first”"
     ]
    },
    {
     "name": "stdout",
     "output_type": "stream",
     "text": [
      "[1] \"55\"               \"HPSI0514i-puie_4\" \"381\"             \n"
     ]
    },
    {
     "name": "stderr",
     "output_type": "stream",
     "text": [
      "Warning message in NSBS(i, x, exact = exact, strict.upper.bound = !allow.append, :\n",
      "“subscript is an array, passing it thru as.vector() first”"
     ]
    },
    {
     "name": "stdout",
     "output_type": "stream",
     "text": [
      "[1] \"56\"               \"HPSI0114i-rozh_4\" \"40\"              \n"
     ]
    },
    {
     "name": "stderr",
     "output_type": "stream",
     "text": [
      "Warning message in NSBS(i, x, exact = exact, strict.upper.bound = !allow.append, :\n",
      "“subscript is an array, passing it thru as.vector() first”"
     ]
    },
    {
     "name": "stdout",
     "output_type": "stream",
     "text": [
      "[1] \"57\"               \"HPSI0513i-momt_2\" \"683\"             \n"
     ]
    },
    {
     "name": "stderr",
     "output_type": "stream",
     "text": [
      "Warning message in NSBS(i, x, exact = exact, strict.upper.bound = !allow.append, :\n",
      "“subscript is an array, passing it thru as.vector() first”"
     ]
    },
    {
     "name": "stdout",
     "output_type": "stream",
     "text": [
      "[1] \"58\"               \"HPSI0115i-hecn_6\" \"481\"             \n"
     ]
    },
    {
     "name": "stderr",
     "output_type": "stream",
     "text": [
      "Warning message in NSBS(i, x, exact = exact, strict.upper.bound = !allow.append, :\n",
      "“subscript is an array, passing it thru as.vector() first”"
     ]
    },
    {
     "name": "stdout",
     "output_type": "stream",
     "text": [
      "[1] \"59\"               \"HPSI0115i-aion_2\" \"180\"             \n"
     ]
    },
    {
     "name": "stderr",
     "output_type": "stream",
     "text": [
      "Warning message in NSBS(i, x, exact = exact, strict.upper.bound = !allow.append, :\n",
      "“subscript is an array, passing it thru as.vector() first”"
     ]
    },
    {
     "name": "stdout",
     "output_type": "stream",
     "text": [
      "[1] \"60\"               \"HPSI1113i-hayt_3\" \"411\"             \n"
     ]
    },
    {
     "name": "stderr",
     "output_type": "stream",
     "text": [
      "Warning message in NSBS(i, x, exact = exact, strict.upper.bound = !allow.append, :\n",
      "“subscript is an array, passing it thru as.vector() first”"
     ]
    },
    {
     "name": "stdout",
     "output_type": "stream",
     "text": [
      "[1] \"61\"               \"HPSI0514i-rutc_2\" \"282\"             \n"
     ]
    },
    {
     "name": "stderr",
     "output_type": "stream",
     "text": [
      "Warning message in NSBS(i, x, exact = exact, strict.upper.bound = !allow.append, :\n",
      "“subscript is an array, passing it thru as.vector() first”"
     ]
    },
    {
     "name": "stdout",
     "output_type": "stream",
     "text": [
      "[1] \"62\"               \"HPSI0214i-poih_2\" \"1315\"            \n"
     ]
    },
    {
     "name": "stderr",
     "output_type": "stream",
     "text": [
      "Warning message in NSBS(i, x, exact = exact, strict.upper.bound = !allow.append, :\n",
      "“subscript is an array, passing it thru as.vector() first”"
     ]
    },
    {
     "name": "stdout",
     "output_type": "stream",
     "text": [
      "[1] \"63\"               \"HPSI0414i-xojn_3\" \"481\"             \n"
     ]
    },
    {
     "name": "stderr",
     "output_type": "stream",
     "text": [
      "Warning message in NSBS(i, x, exact = exact, strict.upper.bound = !allow.append, :\n",
      "“subscript is an array, passing it thru as.vector() first”"
     ]
    },
    {
     "name": "stdout",
     "output_type": "stream",
     "text": [
      "[1] \"64\"               \"HPSI0115i-quze_6\" \"23\"              \n"
     ]
    },
    {
     "name": "stderr",
     "output_type": "stream",
     "text": [
      "Warning message in NSBS(i, x, exact = exact, strict.upper.bound = !allow.append, :\n",
      "“subscript is an array, passing it thru as.vector() first”"
     ]
    },
    {
     "name": "stdout",
     "output_type": "stream",
     "text": [
      "[1] \"65\"               \"HPSI0813i-iill_3\" \"123\"             \n"
     ]
    },
    {
     "name": "stderr",
     "output_type": "stream",
     "text": [
      "Warning message in NSBS(i, x, exact = exact, strict.upper.bound = !allow.append, :\n",
      "“subscript is an array, passing it thru as.vector() first”"
     ]
    },
    {
     "name": "stdout",
     "output_type": "stream",
     "text": [
      "[1] \"66\"               \"HPSI1113i-vuud_2\" \"406\"             \n"
     ]
    },
    {
     "name": "stderr",
     "output_type": "stream",
     "text": [
      "Warning message in NSBS(i, x, exact = exact, strict.upper.bound = !allow.append, :\n",
      "“subscript is an array, passing it thru as.vector() first”"
     ]
    },
    {
     "name": "stdout",
     "output_type": "stream",
     "text": [
      "[1] \"67\"               \"HPSI0914i-jejf_2\" \"664\"             \n"
     ]
    },
    {
     "name": "stderr",
     "output_type": "stream",
     "text": [
      "Warning message in NSBS(i, x, exact = exact, strict.upper.bound = !allow.append, :\n",
      "“subscript is an array, passing it thru as.vector() first”"
     ]
    },
    {
     "name": "stdout",
     "output_type": "stream",
     "text": [
      "[1] \"68\"               \"HPSI1013i-hiaf_1\" \"374\"             \n"
     ]
    },
    {
     "name": "stderr",
     "output_type": "stream",
     "text": [
      "Warning message in NSBS(i, x, exact = exact, strict.upper.bound = !allow.append, :\n",
      "“subscript is an array, passing it thru as.vector() first”"
     ]
    },
    {
     "name": "stdout",
     "output_type": "stream",
     "text": [
      "[1] \"69\"               \"HPSI0514i-yewo_4\" \"72\"              \n"
     ]
    },
    {
     "name": "stderr",
     "output_type": "stream",
     "text": [
      "Warning message in NSBS(i, x, exact = exact, strict.upper.bound = !allow.append, :\n",
      "“subscript is an array, passing it thru as.vector() first”"
     ]
    },
    {
     "name": "stdout",
     "output_type": "stream",
     "text": [
      "[1] \"70\"               \"HPSI0514i-oekw_2\" \"81\"              \n"
     ]
    },
    {
     "name": "stderr",
     "output_type": "stream",
     "text": [
      "Warning message in NSBS(i, x, exact = exact, strict.upper.bound = !allow.append, :\n",
      "“subscript is an array, passing it thru as.vector() first”"
     ]
    },
    {
     "name": "stdout",
     "output_type": "stream",
     "text": [
      "[1] \"71\"               \"HPSI0115i-iuad_2\" \"387\"             \n"
     ]
    },
    {
     "name": "stderr",
     "output_type": "stream",
     "text": [
      "Warning message in NSBS(i, x, exact = exact, strict.upper.bound = !allow.append, :\n",
      "“subscript is an array, passing it thru as.vector() first”"
     ]
    },
    {
     "name": "stdout",
     "output_type": "stream",
     "text": [
      "[1] \"72\"               \"HPSI0613i-lizq_3\" \"258\"             \n"
     ]
    },
    {
     "name": "stderr",
     "output_type": "stream",
     "text": [
      "Warning message in NSBS(i, x, exact = exact, strict.upper.bound = !allow.append, :\n",
      "“subscript is an array, passing it thru as.vector() first”"
     ]
    },
    {
     "name": "stdout",
     "output_type": "stream",
     "text": [
      "[1] \"73\"               \"HPSI0714i-kute_5\" \"113\"             \n"
     ]
    },
    {
     "name": "stderr",
     "output_type": "stream",
     "text": [
      "Warning message in NSBS(i, x, exact = exact, strict.upper.bound = !allow.append, :\n",
      "“subscript is an array, passing it thru as.vector() first”"
     ]
    },
    {
     "name": "stdout",
     "output_type": "stream",
     "text": [
      "[1] \"74\"               \"HPSI0115i-timk_4\" \"290\"             \n"
     ]
    },
    {
     "name": "stderr",
     "output_type": "stream",
     "text": [
      "Warning message in NSBS(i, x, exact = exact, strict.upper.bound = !allow.append, :\n",
      "“subscript is an array, passing it thru as.vector() first”"
     ]
    },
    {
     "name": "stdout",
     "output_type": "stream",
     "text": [
      "[1] \"75\"               \"HPSI0115i-aoxv_1\" \"237\"             \n"
     ]
    },
    {
     "name": "stderr",
     "output_type": "stream",
     "text": [
      "Warning message in NSBS(i, x, exact = exact, strict.upper.bound = !allow.append, :\n",
      "“subscript is an array, passing it thru as.vector() first”"
     ]
    },
    {
     "name": "stdout",
     "output_type": "stream",
     "text": [
      "[1] \"76\"               \"HPSI0215i-zett_5\" \"462\"             \n"
     ]
    },
    {
     "name": "stderr",
     "output_type": "stream",
     "text": [
      "Warning message in NSBS(i, x, exact = exact, strict.upper.bound = !allow.append, :\n",
      "“subscript is an array, passing it thru as.vector() first”"
     ]
    },
    {
     "name": "stdout",
     "output_type": "stream",
     "text": [
      "[1] \"77\"               \"HPSI0314i-qaqx_1\" \"75\"              \n"
     ]
    },
    {
     "name": "stderr",
     "output_type": "stream",
     "text": [
      "Warning message in NSBS(i, x, exact = exact, strict.upper.bound = !allow.append, :\n",
      "“subscript is an array, passing it thru as.vector() first”"
     ]
    },
    {
     "name": "stdout",
     "output_type": "stream",
     "text": [
      "[1] \"78\"               \"HPSI0414i-seru_1\" \"192\"             \n"
     ]
    },
    {
     "name": "stderr",
     "output_type": "stream",
     "text": [
      "Warning message in NSBS(i, x, exact = exact, strict.upper.bound = !allow.append, :\n",
      "“subscript is an array, passing it thru as.vector() first”"
     ]
    },
    {
     "name": "stdout",
     "output_type": "stream",
     "text": [
      "[1] \"79\"               \"HPSI0115i-kozf_1\" \"104\"             \n"
     ]
    },
    {
     "name": "stderr",
     "output_type": "stream",
     "text": [
      "Warning message in NSBS(i, x, exact = exact, strict.upper.bound = !allow.append, :\n",
      "“subscript is an array, passing it thru as.vector() first”"
     ]
    },
    {
     "name": "stdout",
     "output_type": "stream",
     "text": [
      "[1] \"80\"               \"HPSI0914i-laey_6\" \"189\"             \n"
     ]
    },
    {
     "name": "stderr",
     "output_type": "stream",
     "text": [
      "Warning message in NSBS(i, x, exact = exact, strict.upper.bound = !allow.append, :\n",
      "“subscript is an array, passing it thru as.vector() first”"
     ]
    },
    {
     "name": "stdout",
     "output_type": "stream",
     "text": [
      "[1] \"81\"               \"HPSI0114i-wegi_1\" \"330\"             \n"
     ]
    },
    {
     "name": "stderr",
     "output_type": "stream",
     "text": [
      "Warning message in NSBS(i, x, exact = exact, strict.upper.bound = !allow.append, :\n",
      "“subscript is an array, passing it thru as.vector() first”"
     ]
    },
    {
     "name": "stdout",
     "output_type": "stream",
     "text": [
      "[1] \"82\"               \"HPSI0215i-uiao_2\" \"324\"             \n"
     ]
    },
    {
     "name": "stderr",
     "output_type": "stream",
     "text": [
      "Warning message in NSBS(i, x, exact = exact, strict.upper.bound = !allow.append, :\n",
      "“subscript is an array, passing it thru as.vector() first”"
     ]
    },
    {
     "name": "stdout",
     "output_type": "stream",
     "text": [
      "[1] \"83\"               \"HPSI0814i-siqu_4\" \"413\"             \n"
     ]
    },
    {
     "name": "stderr",
     "output_type": "stream",
     "text": [
      "Warning message in NSBS(i, x, exact = exact, strict.upper.bound = !allow.append, :\n",
      "“subscript is an array, passing it thru as.vector() first”"
     ]
    },
    {
     "name": "stdout",
     "output_type": "stream",
     "text": [
      "[1] \"84\"               \"HPSI0115i-iiyk_2\" \"41\"              \n"
     ]
    },
    {
     "name": "stderr",
     "output_type": "stream",
     "text": [
      "Warning message in NSBS(i, x, exact = exact, strict.upper.bound = !allow.append, :\n",
      "“subscript is an array, passing it thru as.vector() first”"
     ]
    },
    {
     "name": "stdout",
     "output_type": "stream",
     "text": [
      "[1] \"85\"               \"HPSI1014i-tuju_1\" \"11\"              \n"
     ]
    },
    {
     "name": "stderr",
     "output_type": "stream",
     "text": [
      "Warning message in NSBS(i, x, exact = exact, strict.upper.bound = !allow.append, :\n",
      "“subscript is an array, passing it thru as.vector() first”"
     ]
    },
    {
     "name": "stdout",
     "output_type": "stream",
     "text": [
      "[1] \"86\"               \"HPSI0314i-sojd_3\" \"115\"             \n"
     ]
    },
    {
     "name": "stderr",
     "output_type": "stream",
     "text": [
      "Warning message in NSBS(i, x, exact = exact, strict.upper.bound = !allow.append, :\n",
      "“subscript is an array, passing it thru as.vector() first”"
     ]
    },
    {
     "name": "stdout",
     "output_type": "stream",
     "text": [
      "[1] \"87\"               \"HPSI0114i-posc_1\" \"62\"              \n"
     ]
    },
    {
     "name": "stderr",
     "output_type": "stream",
     "text": [
      "Warning message in NSBS(i, x, exact = exact, strict.upper.bound = !allow.append, :\n",
      "“subscript is an array, passing it thru as.vector() first”"
     ]
    },
    {
     "name": "stdout",
     "output_type": "stream",
     "text": [
      "[1] \"88\"               \"HPSI0914i-kajh_2\" \"33\"              \n"
     ]
    },
    {
     "name": "stderr",
     "output_type": "stream",
     "text": [
      "Warning message in NSBS(i, x, exact = exact, strict.upper.bound = !allow.append, :\n",
      "“subscript is an array, passing it thru as.vector() first”"
     ]
    },
    {
     "name": "stdout",
     "output_type": "stream",
     "text": [
      "[1] \"89\"               \"HPSI0614i-liqa_1\" \"409\"             \n"
     ]
    },
    {
     "name": "stderr",
     "output_type": "stream",
     "text": [
      "Warning message in NSBS(i, x, exact = exact, strict.upper.bound = !allow.append, :\n",
      "“subscript is an array, passing it thru as.vector() first”"
     ]
    },
    {
     "name": "stdout",
     "output_type": "stream",
     "text": [
      "[1] \"90\"               \"HPSI0715i-zaie_5\" \"169\"             \n"
     ]
    },
    {
     "name": "stderr",
     "output_type": "stream",
     "text": [
      "Warning message in NSBS(i, x, exact = exact, strict.upper.bound = !allow.append, :\n",
      "“subscript is an array, passing it thru as.vector() first”"
     ]
    },
    {
     "name": "stdout",
     "output_type": "stream",
     "text": [
      "[1] \"91\"               \"HPSI0613i-aevs_1\" \"237\"             \n"
     ]
    },
    {
     "name": "stderr",
     "output_type": "stream",
     "text": [
      "Warning message in NSBS(i, x, exact = exact, strict.upper.bound = !allow.append, :\n",
      "“subscript is an array, passing it thru as.vector() first”"
     ]
    },
    {
     "name": "stdout",
     "output_type": "stream",
     "text": [
      "[1] \"92\"               \"HPSI0715i-aowh_2\" \"366\"             \n"
     ]
    },
    {
     "name": "stderr",
     "output_type": "stream",
     "text": [
      "Warning message in NSBS(i, x, exact = exact, strict.upper.bound = !allow.append, :\n",
      "“subscript is an array, passing it thru as.vector() first”"
     ]
    },
    {
     "name": "stdout",
     "output_type": "stream",
     "text": [
      "[1] \"93\"               \"HPSI0514i-oupf_6\" \"118\"             \n"
     ]
    },
    {
     "name": "stderr",
     "output_type": "stream",
     "text": [
      "Warning message in NSBS(i, x, exact = exact, strict.upper.bound = !allow.append, :\n",
      "“subscript is an array, passing it thru as.vector() first”"
     ]
    },
    {
     "name": "stdout",
     "output_type": "stream",
     "text": [
      "[1] \"94\"               \"HPSI0813i-aizi_3\" \"77\"              \n"
     ]
    },
    {
     "name": "stderr",
     "output_type": "stream",
     "text": [
      "Warning message in NSBS(i, x, exact = exact, strict.upper.bound = !allow.append, :\n",
      "“subscript is an array, passing it thru as.vector() first”"
     ]
    },
    {
     "name": "stdout",
     "output_type": "stream",
     "text": [
      "[1] \"95\"               \"HPSI0613i-bohf_1\" \"646\"             \n"
     ]
    },
    {
     "name": "stderr",
     "output_type": "stream",
     "text": [
      "Warning message in NSBS(i, x, exact = exact, strict.upper.bound = !allow.append, :\n",
      "“subscript is an array, passing it thru as.vector() first”"
     ]
    },
    {
     "name": "stdout",
     "output_type": "stream",
     "text": [
      "[1] \"96\"               \"HPSI0115i-tiku_3\" \"71\"              \n"
     ]
    },
    {
     "name": "stderr",
     "output_type": "stream",
     "text": [
      "Warning message in NSBS(i, x, exact = exact, strict.upper.bound = !allow.append, :\n",
      "“subscript is an array, passing it thru as.vector() first”"
     ]
    },
    {
     "name": "stdout",
     "output_type": "stream",
     "text": [
      "[1] \"97\"               \"HPSI0813i-peoj_1\" \"31\"              \n"
     ]
    },
    {
     "name": "stderr",
     "output_type": "stream",
     "text": [
      "Warning message in NSBS(i, x, exact = exact, strict.upper.bound = !allow.append, :\n",
      "“subscript is an array, passing it thru as.vector() first”"
     ]
    },
    {
     "name": "stdout",
     "output_type": "stream",
     "text": [
      "[1] \"98\"               \"HPSI0714i-iudw_1\" \"298\"             \n"
     ]
    },
    {
     "name": "stderr",
     "output_type": "stream",
     "text": [
      "Warning message in NSBS(i, x, exact = exact, strict.upper.bound = !allow.append, :\n",
      "“subscript is an array, passing it thru as.vector() first”"
     ]
    },
    {
     "name": "stdout",
     "output_type": "stream",
     "text": [
      "[1] \"99\"               \"HPSI1014i-vils_1\" \"223\"             \n"
     ]
    },
    {
     "name": "stderr",
     "output_type": "stream",
     "text": [
      "Warning message in NSBS(i, x, exact = exact, strict.upper.bound = !allow.append, :\n",
      "“subscript is an array, passing it thru as.vector() first”"
     ]
    },
    {
     "name": "stdout",
     "output_type": "stream",
     "text": [
      "[1] \"100\"              \"HPSI0914i-zerv_7\" \"265\"             \n"
     ]
    },
    {
     "name": "stderr",
     "output_type": "stream",
     "text": [
      "Warning message in NSBS(i, x, exact = exact, strict.upper.bound = !allow.append, :\n",
      "“subscript is an array, passing it thru as.vector() first”"
     ]
    },
    {
     "name": "stdout",
     "output_type": "stream",
     "text": [
      "[1] \"101\"              \"HPSI0115i-jotn_2\" \"367\"             \n"
     ]
    },
    {
     "name": "stderr",
     "output_type": "stream",
     "text": [
      "Warning message in NSBS(i, x, exact = exact, strict.upper.bound = !allow.append, :\n",
      "“subscript is an array, passing it thru as.vector() first”"
     ]
    },
    {
     "name": "stdout",
     "output_type": "stream",
     "text": [
      "[1] \"102\"              \"HPSI0714i-burb_1\" \"223\"             \n"
     ]
    },
    {
     "name": "stderr",
     "output_type": "stream",
     "text": [
      "Warning message in NSBS(i, x, exact = exact, strict.upper.bound = !allow.append, :\n",
      "“subscript is an array, passing it thru as.vector() first”"
     ]
    },
    {
     "name": "stdout",
     "output_type": "stream",
     "text": [
      "[1] \"103\"              \"HPSI0115i-uupc_2\" \"43\"              \n"
     ]
    },
    {
     "name": "stderr",
     "output_type": "stream",
     "text": [
      "Warning message in NSBS(i, x, exact = exact, strict.upper.bound = !allow.append, :\n",
      "“subscript is an array, passing it thru as.vector() first”"
     ]
    },
    {
     "name": "stdout",
     "output_type": "stream",
     "text": [
      "[1] \"104\"              \"HPSI0514i-letw_1\" \"264\"             \n"
     ]
    },
    {
     "name": "stderr",
     "output_type": "stream",
     "text": [
      "Warning message in NSBS(i, x, exact = exact, strict.upper.bound = !allow.append, :\n",
      "“subscript is an array, passing it thru as.vector() first”"
     ]
    },
    {
     "name": "stdout",
     "output_type": "stream",
     "text": [
      "[1] \"105\"              \"HPSI1113i-qorq_1\" \"274\"             \n"
     ]
    },
    {
     "name": "stderr",
     "output_type": "stream",
     "text": [
      "Warning message in NSBS(i, x, exact = exact, strict.upper.bound = !allow.append, :\n",
      "“subscript is an array, passing it thru as.vector() first”"
     ]
    },
    {
     "name": "stdout",
     "output_type": "stream",
     "text": [
      "[1] \"106\"              \"HPSI1013i-garx_2\" \"239\"             \n"
     ]
    },
    {
     "name": "stderr",
     "output_type": "stream",
     "text": [
      "Warning message in NSBS(i, x, exact = exact, strict.upper.bound = !allow.append, :\n",
      "“subscript is an array, passing it thru as.vector() first”"
     ]
    },
    {
     "name": "stdout",
     "output_type": "stream",
     "text": [
      "[1] \"107\"              \"HPSI0513i-dipe_1\" \"149\"             \n"
     ]
    },
    {
     "name": "stderr",
     "output_type": "stream",
     "text": [
      "Warning message in NSBS(i, x, exact = exact, strict.upper.bound = !allow.append, :\n",
      "“subscript is an array, passing it thru as.vector() first”"
     ]
    },
    {
     "name": "stdout",
     "output_type": "stream",
     "text": [
      "[1] \"108\"              \"HPSI0613i-bawa_1\" \"350\"             \n"
     ]
    },
    {
     "name": "stderr",
     "output_type": "stream",
     "text": [
      "Warning message in NSBS(i, x, exact = exact, strict.upper.bound = !allow.append, :\n",
      "“subscript is an array, passing it thru as.vector() first”"
     ]
    },
    {
     "name": "stdout",
     "output_type": "stream",
     "text": [
      "[1] \"109\"              \"HPSI0215i-romx_1\" \"101\"             \n"
     ]
    },
    {
     "name": "stderr",
     "output_type": "stream",
     "text": [
      "Warning message in NSBS(i, x, exact = exact, strict.upper.bound = !allow.append, :\n",
      "“subscript is an array, passing it thru as.vector() first”"
     ]
    },
    {
     "name": "stdout",
     "output_type": "stream",
     "text": [
      "[1] \"110\"              \"HPSI0613i-qony_1\" \"106\"             \n"
     ]
    },
    {
     "name": "stderr",
     "output_type": "stream",
     "text": [
      "Warning message in NSBS(i, x, exact = exact, strict.upper.bound = !allow.append, :\n",
      "“subscript is an array, passing it thru as.vector() first”"
     ]
    },
    {
     "name": "stdout",
     "output_type": "stream",
     "text": [
      "[1] \"111\"              \"HPSI0214i-heth_1\" \"92\"              \n"
     ]
    },
    {
     "name": "stderr",
     "output_type": "stream",
     "text": [
      "Warning message in NSBS(i, x, exact = exact, strict.upper.bound = !allow.append, :\n",
      "“subscript is an array, passing it thru as.vector() first”"
     ]
    },
    {
     "name": "stdout",
     "output_type": "stream",
     "text": [
      "[1] \"112\"              \"HPSI0913i-eorc_2\" \"207\"             \n"
     ]
    },
    {
     "name": "stderr",
     "output_type": "stream",
     "text": [
      "Warning message in NSBS(i, x, exact = exact, strict.upper.bound = !allow.append, :\n",
      "“subscript is an array, passing it thru as.vector() first”"
     ]
    },
    {
     "name": "stdout",
     "output_type": "stream",
     "text": [
      "[1] \"113\"              \"HPSI0914i-ouvb_2\" \"269\"             \n"
     ]
    },
    {
     "name": "stderr",
     "output_type": "stream",
     "text": [
      "Warning message in NSBS(i, x, exact = exact, strict.upper.bound = !allow.append, :\n",
      "“subscript is an array, passing it thru as.vector() first”"
     ]
    },
    {
     "name": "stdout",
     "output_type": "stream",
     "text": [
      "[1] \"114\"              \"HPSI0514i-wiii_3\" \"176\"             \n"
     ]
    },
    {
     "name": "stderr",
     "output_type": "stream",
     "text": [
      "Warning message in NSBS(i, x, exact = exact, strict.upper.bound = !allow.append, :\n",
      "“subscript is an array, passing it thru as.vector() first”"
     ]
    },
    {
     "name": "stdout",
     "output_type": "stream",
     "text": [
      "[1] \"115\"              \"HPSI1013i-jufd_3\" \"51\"              \n"
     ]
    },
    {
     "name": "stderr",
     "output_type": "stream",
     "text": [
      "Warning message in NSBS(i, x, exact = exact, strict.upper.bound = !allow.append, :\n",
      "“subscript is an array, passing it thru as.vector() first”"
     ]
    },
    {
     "name": "stdout",
     "output_type": "stream",
     "text": [
      "[1] \"116\"               \"HPSI0513i-aipt_33\" \"271\"              \n"
     ]
    },
    {
     "name": "stderr",
     "output_type": "stream",
     "text": [
      "Warning message in NSBS(i, x, exact = exact, strict.upper.bound = !allow.append, :\n",
      "“subscript is an array, passing it thru as.vector() first”"
     ]
    },
    {
     "name": "stdout",
     "output_type": "stream",
     "text": [
      "[1] \"117\"              \"HPSI0513i-oibg_1\" \"69\"              \n"
     ]
    },
    {
     "name": "stderr",
     "output_type": "stream",
     "text": [
      "Warning message in NSBS(i, x, exact = exact, strict.upper.bound = !allow.append, :\n",
      "“subscript is an array, passing it thru as.vector() first”"
     ]
    },
    {
     "name": "stdout",
     "output_type": "stream",
     "text": [
      "[1] \"118\"              \"HPSI1113i-bima_1\" \"170\"             \n"
     ]
    },
    {
     "name": "stderr",
     "output_type": "stream",
     "text": [
      "Warning message in NSBS(i, x, exact = exact, strict.upper.bound = !allow.append, :\n",
      "“subscript is an array, passing it thru as.vector() first”"
     ]
    },
    {
     "name": "stdout",
     "output_type": "stream",
     "text": [
      "[1] \"119\"              \"HPSI0714i-keui_4\" \"260\"             \n"
     ]
    },
    {
     "name": "stderr",
     "output_type": "stream",
     "text": [
      "Warning message in NSBS(i, x, exact = exact, strict.upper.bound = !allow.append, :\n",
      "“subscript is an array, passing it thru as.vector() first”"
     ]
    },
    {
     "name": "stdout",
     "output_type": "stream",
     "text": [
      "[1] \"120\"              \"HPSI0914i-suop_5\" \"149\"             \n"
     ]
    },
    {
     "name": "stderr",
     "output_type": "stream",
     "text": [
      "Warning message in NSBS(i, x, exact = exact, strict.upper.bound = !allow.append, :\n",
      "“subscript is an array, passing it thru as.vector() first”"
     ]
    },
    {
     "name": "stdout",
     "output_type": "stream",
     "text": [
      "[1] \"121\"              \"HPSI0914i-iezw_2\" \"248\"             \n"
     ]
    },
    {
     "name": "stderr",
     "output_type": "stream",
     "text": [
      "Warning message in NSBS(i, x, exact = exact, strict.upper.bound = !allow.append, :\n",
      "“subscript is an array, passing it thru as.vector() first”"
     ]
    },
    {
     "name": "stdout",
     "output_type": "stream",
     "text": [
      "[1] \"122\"              \"HPSI0814i-bokz_6\" \"39\"              \n"
     ]
    },
    {
     "name": "stderr",
     "output_type": "stream",
     "text": [
      "Warning message in NSBS(i, x, exact = exact, strict.upper.bound = !allow.append, :\n",
      "“subscript is an array, passing it thru as.vector() first”"
     ]
    },
    {
     "name": "stdout",
     "output_type": "stream",
     "text": [
      "[1] \"123\"              \"HPSI0613i-hikj_2\" \"128\"             \n"
     ]
    },
    {
     "name": "stderr",
     "output_type": "stream",
     "text": [
      "Warning message in NSBS(i, x, exact = exact, strict.upper.bound = !allow.append, :\n",
      "“subscript is an array, passing it thru as.vector() first”"
     ]
    },
    {
     "name": "stdout",
     "output_type": "stream",
     "text": [
      "[1] \"124\"              \"HPSI1114i-ualf_6\" \"14\"              \n"
     ]
    },
    {
     "name": "stderr",
     "output_type": "stream",
     "text": [
      "Warning message in NSBS(i, x, exact = exact, strict.upper.bound = !allow.append, :\n",
      "“subscript is an array, passing it thru as.vector() first”"
     ]
    },
    {
     "name": "stdout",
     "output_type": "stream",
     "text": [
      "[1] \"125\"              \"HPSI0314i-bubh_3\" \"25\"              \n"
     ]
    },
    {
     "name": "stderr",
     "output_type": "stream",
     "text": [
      "Warning message in NSBS(i, x, exact = exact, strict.upper.bound = !allow.append, :\n",
      "“subscript is an array, passing it thru as.vector() first”"
     ]
    },
    {
     "name": "stdout",
     "output_type": "stream",
     "text": [
      "[1] \"126\"              \"HPSI0114i-lexy_2\" \"96\"              \n"
     ]
    },
    {
     "name": "stderr",
     "output_type": "stream",
     "text": [
      "Warning message in NSBS(i, x, exact = exact, strict.upper.bound = !allow.append, :\n",
      "“subscript is an array, passing it thru as.vector() first”"
     ]
    },
    {
     "name": "stdout",
     "output_type": "stream",
     "text": [
      "[1] \"127\"              \"HPSI0613i-hegp_3\" \"85\"              \n"
     ]
    },
    {
     "name": "stderr",
     "output_type": "stream",
     "text": [
      "Warning message in NSBS(i, x, exact = exact, strict.upper.bound = !allow.append, :\n",
      "“subscript is an array, passing it thru as.vector() first”"
     ]
    },
    {
     "name": "stdout",
     "output_type": "stream",
     "text": [
      "[1] \"128\"              \"HPSI0514i-naah_2\" \"155\"             \n"
     ]
    },
    {
     "name": "stderr",
     "output_type": "stream",
     "text": [
      "Warning message in NSBS(i, x, exact = exact, strict.upper.bound = !allow.append, :\n",
      "“subscript is an array, passing it thru as.vector() first”"
     ]
    },
    {
     "name": "stdout",
     "output_type": "stream",
     "text": [
      "[1] \"129\"              \"HPSI0214i-eiwy_1\" \"54\"              \n"
     ]
    },
    {
     "name": "stderr",
     "output_type": "stream",
     "text": [
      "Warning message in NSBS(i, x, exact = exact, strict.upper.bound = !allow.append, :\n",
      "“subscript is an array, passing it thru as.vector() first”"
     ]
    },
    {
     "name": "stdout",
     "output_type": "stream",
     "text": [
      "[1] \"130\"              \"HPSI0614i-voce_1\" \"31\"              \n"
     ]
    },
    {
     "name": "stderr",
     "output_type": "stream",
     "text": [
      "Warning message in NSBS(i, x, exact = exact, strict.upper.bound = !allow.append, :\n",
      "“subscript is an array, passing it thru as.vector() first”"
     ]
    },
    {
     "name": "stdout",
     "output_type": "stream",
     "text": [
      "[1] \"131\"              \"HPSI0513i-debk_9\" \"128\"             \n"
     ]
    },
    {
     "name": "stderr",
     "output_type": "stream",
     "text": [
      "Warning message in NSBS(i, x, exact = exact, strict.upper.bound = !allow.append, :\n",
      "“subscript is an array, passing it thru as.vector() first”"
     ]
    },
    {
     "name": "stdout",
     "output_type": "stream",
     "text": [
      "[1] \"132\"              \"HPSI0614i-oicx_2\" \"33\"              \n"
     ]
    },
    {
     "name": "stderr",
     "output_type": "stream",
     "text": [
      "Warning message in NSBS(i, x, exact = exact, strict.upper.bound = !allow.append, :\n",
      "“subscript is an array, passing it thru as.vector() first”"
     ]
    },
    {
     "name": "stdout",
     "output_type": "stream",
     "text": [
      "[1] \"133\"              \"HPSI0214i-datg_2\" \"281\"             \n"
     ]
    },
    {
     "name": "stderr",
     "output_type": "stream",
     "text": [
      "Warning message in NSBS(i, x, exact = exact, strict.upper.bound = !allow.append, :\n",
      "“subscript is an array, passing it thru as.vector() first”"
     ]
    },
    {
     "name": "stdout",
     "output_type": "stream",
     "text": [
      "[1] \"134\"              \"HPSI0114i-eipl_1\" \"189\"             \n"
     ]
    },
    {
     "name": "stderr",
     "output_type": "stream",
     "text": [
      "Warning message in NSBS(i, x, exact = exact, strict.upper.bound = !allow.append, :\n",
      "“subscript is an array, passing it thru as.vector() first”"
     ]
    },
    {
     "name": "stdout",
     "output_type": "stream",
     "text": [
      "[1] \"135\"              \"HPSI0813i-ffdc_1\" \"25\"              \n"
     ]
    },
    {
     "name": "stderr",
     "output_type": "stream",
     "text": [
      "Warning message in NSBS(i, x, exact = exact, strict.upper.bound = !allow.append, :\n",
      "“subscript is an array, passing it thru as.vector() first”"
     ]
    },
    {
     "name": "stdout",
     "output_type": "stream",
     "text": [
      "[1] \"136\"               \"HPSI0713i-aehn_22\" \"42\"               \n"
     ]
    },
    {
     "name": "stderr",
     "output_type": "stream",
     "text": [
      "Warning message in NSBS(i, x, exact = exact, strict.upper.bound = !allow.append, :\n",
      "“subscript is an array, passing it thru as.vector() first”"
     ]
    },
    {
     "name": "stdout",
     "output_type": "stream",
     "text": [
      "[1] \"137\"              \"HPSI1013i-sita_1\" \"34\"              \n"
     ]
    },
    {
     "name": "stderr",
     "output_type": "stream",
     "text": [
      "Warning message in NSBS(i, x, exact = exact, strict.upper.bound = !allow.append, :\n",
      "“subscript is an array, passing it thru as.vector() first”"
     ]
    },
    {
     "name": "stdout",
     "output_type": "stream",
     "text": [
      "[1] \"138\"              \"HPSI0413i-yotv_2\" \"129\"             \n"
     ]
    },
    {
     "name": "stderr",
     "output_type": "stream",
     "text": [
      "Warning message in NSBS(i, x, exact = exact, strict.upper.bound = !allow.append, :\n",
      "“subscript is an array, passing it thru as.vector() first”"
     ]
    },
    {
     "name": "stdout",
     "output_type": "stream",
     "text": [
      "[1] \"139\"              \"HPSI0214i-feec_2\" \"57\"              \n"
     ]
    },
    {
     "name": "stderr",
     "output_type": "stream",
     "text": [
      "Warning message in NSBS(i, x, exact = exact, strict.upper.bound = !allow.append, :\n",
      "“subscript is an array, passing it thru as.vector() first”"
     ]
    },
    {
     "name": "stdout",
     "output_type": "stream",
     "text": [
      "[1] \"140\"              \"HPSI1013i-kuxp_1\" \"21\"              \n"
     ]
    },
    {
     "name": "stderr",
     "output_type": "stream",
     "text": [
      "Warning message in NSBS(i, x, exact = exact, strict.upper.bound = !allow.append, :\n",
      "“subscript is an array, passing it thru as.vector() first”"
     ]
    },
    {
     "name": "stdout",
     "output_type": "stream",
     "text": [
      "[1] \"141\"              \"HPSI0115i-gifk_1\" \"45\"              \n"
     ]
    },
    {
     "name": "stderr",
     "output_type": "stream",
     "text": [
      "Warning message in NSBS(i, x, exact = exact, strict.upper.bound = !allow.append, :\n",
      "“subscript is an array, passing it thru as.vector() first”"
     ]
    },
    {
     "name": "stdout",
     "output_type": "stream",
     "text": [
      "[1] \"142\"              \"HPSI0814i-doao_1\" \"58\"              \n"
     ]
    },
    {
     "name": "stderr",
     "output_type": "stream",
     "text": [
      "Warning message in NSBS(i, x, exact = exact, strict.upper.bound = !allow.append, :\n",
      "“subscript is an array, passing it thru as.vector() first”"
     ]
    },
    {
     "name": "stdout",
     "output_type": "stream",
     "text": [
      "[1] \"143\"              \"HPSI0215i-yoch_6\" \"15\"              \n"
     ]
    },
    {
     "name": "stderr",
     "output_type": "stream",
     "text": [
      "Warning message in NSBS(i, x, exact = exact, strict.upper.bound = !allow.append, :\n",
      "“subscript is an array, passing it thru as.vector() first”"
     ]
    },
    {
     "name": "stdout",
     "output_type": "stream",
     "text": [
      "[1] \"144\"              \"HPSI0214i-kucg_2\" \"54\"              \n"
     ]
    },
    {
     "name": "stderr",
     "output_type": "stream",
     "text": [
      "Warning message in NSBS(i, x, exact = exact, strict.upper.bound = !allow.append, :\n",
      "“subscript is an array, passing it thru as.vector() first”"
     ]
    },
    {
     "name": "stdout",
     "output_type": "stream",
     "text": [
      "[1] \"145\"              \"HPSI0614i-qunz_2\" \"57\"              \n"
     ]
    },
    {
     "name": "stderr",
     "output_type": "stream",
     "text": [
      "Warning message in NSBS(i, x, exact = exact, strict.upper.bound = !allow.append, :\n",
      "“subscript is an array, passing it thru as.vector() first”"
     ]
    },
    {
     "name": "stdout",
     "output_type": "stream",
     "text": [
      "[1] \"146\"              \"HPSI0513i-fejf_2\" \"117\"             \n"
     ]
    },
    {
     "name": "stderr",
     "output_type": "stream",
     "text": [
      "Warning message in NSBS(i, x, exact = exact, strict.upper.bound = !allow.append, :\n",
      "“subscript is an array, passing it thru as.vector() first”"
     ]
    },
    {
     "name": "stdout",
     "output_type": "stream",
     "text": [
      "[1] \"147\"              \"HPSI0115i-bimq_4\" \"50\"              \n"
     ]
    },
    {
     "name": "stderr",
     "output_type": "stream",
     "text": [
      "Warning message in NSBS(i, x, exact = exact, strict.upper.bound = !allow.append, :\n",
      "“subscript is an array, passing it thru as.vector() first”"
     ]
    },
    {
     "name": "stdout",
     "output_type": "stream",
     "text": [
      "[1] \"148\"              \"HPSI0314i-hoik_1\" \"71\"              \n"
     ]
    },
    {
     "name": "stderr",
     "output_type": "stream",
     "text": [
      "Warning message in NSBS(i, x, exact = exact, strict.upper.bound = !allow.append, :\n",
      "“subscript is an array, passing it thru as.vector() first”"
     ]
    },
    {
     "name": "stdout",
     "output_type": "stream",
     "text": [
      "[1] \"149\"               \"HPSI0613i-liun_22\" \"90\"               \n"
     ]
    },
    {
     "name": "stderr",
     "output_type": "stream",
     "text": [
      "Warning message in NSBS(i, x, exact = exact, strict.upper.bound = !allow.append, :\n",
      "“subscript is an array, passing it thru as.vector() first”"
     ]
    },
    {
     "name": "stdout",
     "output_type": "stream",
     "text": [
      "[1] \"150\"              \"HPSI0114i-bezi_3\" \"66\"              \n"
     ]
    },
    {
     "name": "stderr",
     "output_type": "stream",
     "text": [
      "Warning message in NSBS(i, x, exact = exact, strict.upper.bound = !allow.append, :\n",
      "“subscript is an array, passing it thru as.vector() first”"
     ]
    },
    {
     "name": "stdout",
     "output_type": "stream",
     "text": [
      "[1] \"151\"              \"HPSI0913i-ruql_3\" \"141\"             \n"
     ]
    },
    {
     "name": "stderr",
     "output_type": "stream",
     "text": [
      "Warning message in NSBS(i, x, exact = exact, strict.upper.bound = !allow.append, :\n",
      "“subscript is an array, passing it thru as.vector() first”"
     ]
    },
    {
     "name": "stdout",
     "output_type": "stream",
     "text": [
      "[1] \"152\"              \"HPSI1114i-zuuy_4\" \"25\"              \n"
     ]
    },
    {
     "name": "stderr",
     "output_type": "stream",
     "text": [
      "Warning message in NSBS(i, x, exact = exact, strict.upper.bound = !allow.append, :\n",
      "“subscript is an array, passing it thru as.vector() first”"
     ]
    },
    {
     "name": "stdout",
     "output_type": "stream",
     "text": [
      "[1] \"153\"              \"HPSI0314i-xugn_2\" \"37\"              \n"
     ]
    },
    {
     "name": "stderr",
     "output_type": "stream",
     "text": [
      "Warning message in NSBS(i, x, exact = exact, strict.upper.bound = !allow.append, :\n",
      "“subscript is an array, passing it thru as.vector() first”"
     ]
    },
    {
     "name": "stdout",
     "output_type": "stream",
     "text": [
      "[1] \"154\"              \"HPSI0413i-corn_1\" \"30\"              \n"
     ]
    },
    {
     "name": "stderr",
     "output_type": "stream",
     "text": [
      "Warning message in NSBS(i, x, exact = exact, strict.upper.bound = !allow.append, :\n",
      "“subscript is an array, passing it thru as.vector() first”"
     ]
    },
    {
     "name": "stdout",
     "output_type": "stream",
     "text": [
      "[1] \"155\"              \"HPSI0115i-boqx_2\" \"23\"              \n"
     ]
    },
    {
     "name": "stderr",
     "output_type": "stream",
     "text": [
      "Warning message in NSBS(i, x, exact = exact, strict.upper.bound = !allow.append, :\n",
      "“subscript is an array, passing it thru as.vector() first”"
     ]
    },
    {
     "name": "stdout",
     "output_type": "stream",
     "text": [
      "[1] \"156\"              \"HPSI0314i-wigw_2\" \"50\"              \n"
     ]
    },
    {
     "name": "stderr",
     "output_type": "stream",
     "text": [
      "Warning message in NSBS(i, x, exact = exact, strict.upper.bound = !allow.append, :\n",
      "“subscript is an array, passing it thru as.vector() first”"
     ]
    },
    {
     "name": "stdout",
     "output_type": "stream",
     "text": [
      "[1] \"157\"              \"HPSI0215i-oilg_1\" \"37\"              \n"
     ]
    },
    {
     "name": "stderr",
     "output_type": "stream",
     "text": [
      "Warning message in NSBS(i, x, exact = exact, strict.upper.bound = !allow.append, :\n",
      "“subscript is an array, passing it thru as.vector() first”"
     ]
    },
    {
     "name": "stdout",
     "output_type": "stream",
     "text": [
      "[1] \"158\"              \"HPSI0514i-qihv_1\" \"17\"              \n"
     ]
    },
    {
     "name": "stderr",
     "output_type": "stream",
     "text": [
      "Warning message in NSBS(i, x, exact = exact, strict.upper.bound = !allow.append, :\n",
      "“subscript is an array, passing it thru as.vector() first”"
     ]
    },
    {
     "name": "stdout",
     "output_type": "stream",
     "text": [
      "[1] \"159\"              \"HPSI0513i-suzg_3\" \"66\"              \n"
     ]
    },
    {
     "name": "stderr",
     "output_type": "stream",
     "text": [
      "Warning message in NSBS(i, x, exact = exact, strict.upper.bound = !allow.append, :\n",
      "“subscript is an array, passing it thru as.vector() first”"
     ]
    },
    {
     "name": "stdout",
     "output_type": "stream",
     "text": [
      "[1] \"160\"              \"HPSI0714i-oatm_1\" \"12\"              \n"
     ]
    },
    {
     "name": "stderr",
     "output_type": "stream",
     "text": [
      "Warning message in NSBS(i, x, exact = exact, strict.upper.bound = !allow.append, :\n",
      "“subscript is an array, passing it thru as.vector() first”"
     ]
    },
    {
     "name": "stdout",
     "output_type": "stream",
     "text": [
      "[1] \"161\"              \"HPSI0314i-uict_1\" \"16\"              \n"
     ]
    },
    {
     "name": "stderr",
     "output_type": "stream",
     "text": [
      "Warning message in NSBS(i, x, exact = exact, strict.upper.bound = !allow.append, :\n",
      "“subscript is an array, passing it thru as.vector() first”"
     ]
    },
    {
     "name": "stdout",
     "output_type": "stream",
     "text": [
      "[1] \"162\"              \"HPSI0613i-eojr_2\" \"31\"              \n"
     ]
    },
    {
     "name": "stderr",
     "output_type": "stream",
     "text": [
      "Warning message in NSBS(i, x, exact = exact, strict.upper.bound = !allow.append, :\n",
      "“subscript is an array, passing it thru as.vector() first”"
     ]
    },
    {
     "name": "stdout",
     "output_type": "stream",
     "text": [
      "[1] \"163\"              \"HPSI1113i-qolg_1\" \"131\"             \n"
     ]
    },
    {
     "name": "stderr",
     "output_type": "stream",
     "text": [
      "Warning message in NSBS(i, x, exact = exact, strict.upper.bound = !allow.append, :\n",
      "“subscript is an array, passing it thru as.vector() first”"
     ]
    },
    {
     "name": "stdout",
     "output_type": "stream",
     "text": [
      "[1] \"164\"              \"HPSI0414i-oaqd_2\" \"10\"              \n"
     ]
    },
    {
     "name": "stderr",
     "output_type": "stream",
     "text": [
      "Warning message in NSBS(i, x, exact = exact, strict.upper.bound = !allow.append, :\n",
      "“subscript is an array, passing it thru as.vector() first”"
     ]
    },
    {
     "name": "stdout",
     "output_type": "stream",
     "text": [
      "[1] \"165\"              \"HPSI0614i-lirf_5\" \"41\"              \n"
     ]
    },
    {
     "name": "stderr",
     "output_type": "stream",
     "text": [
      "Warning message in NSBS(i, x, exact = exact, strict.upper.bound = !allow.append, :\n",
      "“subscript is an array, passing it thru as.vector() first”"
     ]
    },
    {
     "name": "stdout",
     "output_type": "stream",
     "text": [
      "[1] \"166\"              \"HPSI0614i-puhk_2\" \"57\"              \n"
     ]
    },
    {
     "name": "stderr",
     "output_type": "stream",
     "text": [
      "Warning message in NSBS(i, x, exact = exact, strict.upper.bound = !allow.append, :\n",
      "“subscript is an array, passing it thru as.vector() first”"
     ]
    },
    {
     "name": "stdout",
     "output_type": "stream",
     "text": [
      "[1] \"167\"              \"HPSI0614i-miaj_4\" \"37\"              \n"
     ]
    },
    {
     "name": "stderr",
     "output_type": "stream",
     "text": [
      "Warning message in NSBS(i, x, exact = exact, strict.upper.bound = !allow.append, :\n",
      "“subscript is an array, passing it thru as.vector() first”"
     ]
    },
    {
     "name": "stdout",
     "output_type": "stream",
     "text": [
      "[1] \"168\"              \"HPSI0114i-fikt_3\" \"26\"              \n"
     ]
    },
    {
     "name": "stderr",
     "output_type": "stream",
     "text": [
      "Warning message in NSBS(i, x, exact = exact, strict.upper.bound = !allow.append, :\n",
      "“subscript is an array, passing it thru as.vector() first”"
     ]
    },
    {
     "name": "stdout",
     "output_type": "stream",
     "text": [
      "[1] \"169\"              \"HPSI0513i-dulv_1\" \"18\"              \n"
     ]
    },
    {
     "name": "stderr",
     "output_type": "stream",
     "text": [
      "Warning message in NSBS(i, x, exact = exact, strict.upper.bound = !allow.append, :\n",
      "“subscript is an array, passing it thru as.vector() first”"
     ]
    },
    {
     "name": "stdout",
     "output_type": "stream",
     "text": [
      "[1] \"170\"              \"HPSI0813i-guss_1\" \"10\"              \n"
     ]
    },
    {
     "name": "stderr",
     "output_type": "stream",
     "text": [
      "Warning message in NSBS(i, x, exact = exact, strict.upper.bound = !allow.append, :\n",
      "“subscript is an array, passing it thru as.vector() first”"
     ]
    },
    {
     "name": "stdout",
     "output_type": "stream",
     "text": [
      "[1] \"171\"              \"HPSI1014i-kefb_1\" \"9\"               \n"
     ]
    },
    {
     "name": "stderr",
     "output_type": "stream",
     "text": [
      "Warning message in NSBS(i, x, exact = exact, strict.upper.bound = !allow.append, :\n",
      "“subscript is an array, passing it thru as.vector() first”"
     ]
    },
    {
     "name": "stdout",
     "output_type": "stream",
     "text": [
      "[1] \"172\"              \"HPSI0914i-rejf_2\" \"18\"              \n"
     ]
    },
    {
     "name": "stderr",
     "output_type": "stream",
     "text": [
      "Warning message in NSBS(i, x, exact = exact, strict.upper.bound = !allow.append, :\n",
      "“subscript is an array, passing it thru as.vector() first”"
     ]
    },
    {
     "name": "stdout",
     "output_type": "stream",
     "text": [
      "[1] \"173\"               \"HPSI0213i-nawk_55\" \"6\"                \n"
     ]
    },
    {
     "name": "stderr",
     "output_type": "stream",
     "text": [
      "Warning message in NSBS(i, x, exact = exact, strict.upper.bound = !allow.append, :\n",
      "“subscript is an array, passing it thru as.vector() first”"
     ]
    },
    {
     "name": "stdout",
     "output_type": "stream",
     "text": [
      "[1] \"174\"              \"HPSI0115i-qecv_2\" \"16\"              \n"
     ]
    },
    {
     "name": "stderr",
     "output_type": "stream",
     "text": [
      "Warning message in NSBS(i, x, exact = exact, strict.upper.bound = !allow.append, :\n",
      "“subscript is an array, passing it thru as.vector() first”"
     ]
    },
    {
     "name": "stdout",
     "output_type": "stream",
     "text": [
      "[1] \"175\"              \"HPSI1113i-ieki_3\" \"13\"              \n"
     ]
    },
    {
     "name": "stderr",
     "output_type": "stream",
     "text": [
      "Warning message in NSBS(i, x, exact = exact, strict.upper.bound = !allow.append, :\n",
      "“subscript is an array, passing it thru as.vector() first”"
     ]
    },
    {
     "name": "stdout",
     "output_type": "stream",
     "text": [
      "[1] \"176\"              \"HPSI0414i-ceik_1\" \"22\"              \n"
     ]
    },
    {
     "name": "stderr",
     "output_type": "stream",
     "text": [
      "Warning message in NSBS(i, x, exact = exact, strict.upper.bound = !allow.append, :\n",
      "“subscript is an array, passing it thru as.vector() first”"
     ]
    },
    {
     "name": "stdout",
     "output_type": "stream",
     "text": [
      "[1] \"177\"              \"HPSI0414i-gesg_2\" \"7\"               \n"
     ]
    },
    {
     "name": "stderr",
     "output_type": "stream",
     "text": [
      "Warning message in NSBS(i, x, exact = exact, strict.upper.bound = !allow.append, :\n",
      "“subscript is an array, passing it thru as.vector() first”"
     ]
    },
    {
     "name": "stdout",
     "output_type": "stream",
     "text": [
      "[1] \"178\"              \"HPSI0114i-vass_1\" \"34\"              \n"
     ]
    },
    {
     "name": "stderr",
     "output_type": "stream",
     "text": [
      "Warning message in NSBS(i, x, exact = exact, strict.upper.bound = !allow.append, :\n",
      "“subscript is an array, passing it thru as.vector() first”"
     ]
    },
    {
     "name": "stdout",
     "output_type": "stream",
     "text": [
      "[1] \"179\"              \"HPSI0613i-xavk_3\" \"4\"               \n"
     ]
    }
   ],
   "source": [
    "for (i in 1:length(unique(sce_filt$donor_id))){\n",
    "    donor = unique(sce_filt$donor_id)[i]\n",
    "    donor_cells = colnames(sce_filt[,sce_filt$donor_id == donor])\n",
    "    print(c(i, donor, length(donor_cells)))\n",
    "}"
   ]
  },
  {
   "cell_type": "code",
   "execution_count": 250,
   "metadata": {},
   "outputs": [
    {
     "name": "stderr",
     "output_type": "stream",
     "text": [
      "Warning message in NSBS(i, x, exact = exact, strict.upper.bound = !allow.append, :\n",
      "“subscript is an array, passing it thru as.vector() first”"
     ]
    },
    {
     "data": {
      "text/html": [
       "'HPSI1014i-qayj_4'"
      ],
      "text/latex": [
       "'HPSI1014i-qayj\\_4'"
      ],
      "text/markdown": [
       "'HPSI1014i-qayj_4'"
      ],
      "text/plain": [
       "[1] \"HPSI1014i-qayj_4\""
      ]
     },
     "metadata": {},
     "output_type": "display_data"
    },
    {
     "data": {
      "text/html": [
       "2503"
      ],
      "text/latex": [
       "2503"
      ],
      "text/markdown": [
       "2503"
      ],
      "text/plain": [
       "[1] 2503"
      ]
     },
     "metadata": {},
     "output_type": "display_data"
    }
   ],
   "source": [
    "# select one donor\n",
    "donor = unique(sce_filt$donor_id)[4] # 15, 42, 56, 64, 97, 124\n",
    "donor_cells = colnames(sce_filt[,sce_filt$donor_id == donor])\n",
    "donor\n",
    "length(donor_cells)"
   ]
  },
  {
   "cell_type": "code",
   "execution_count": 251,
   "metadata": {},
   "outputs": [
    {
     "data": {
      "text/html": [
       "<ol class=list-inline>\n",
       "\t<li>2503</li>\n",
       "\t<li>20</li>\n",
       "</ol>\n"
      ],
      "text/latex": [
       "\\begin{enumerate*}\n",
       "\\item 2503\n",
       "\\item 20\n",
       "\\end{enumerate*}\n"
      ],
      "text/markdown": [
       "1. 2503\n",
       "2. 20\n",
       "\n",
       "\n"
      ],
      "text/plain": [
       "[1] 2503   20"
      ]
     },
     "metadata": {},
     "output_type": "display_data"
    }
   ],
   "source": [
    "data = data_all[donor_cells,]\n",
    "dim(data)"
   ]
  },
  {
   "cell_type": "code",
   "execution_count": 252,
   "metadata": {},
   "outputs": [],
   "source": [
    "nd <- RANN::nn2(data, query = data, k = 5)"
   ]
  },
  {
   "cell_type": "code",
   "execution_count": 253,
   "metadata": {},
   "outputs": [
    {
     "name": "stdout",
     "output_type": "stream",
     "text": [
      "List of 2\n",
      " $ nn.idx  : int [1:2503, 1:5] 1 2 3 4 5 6 7 8 9 10 ...\n",
      " $ nn.dists: num [1:2503, 1:5] 0 0 0 0 0 0 0 0 0 0 ...\n"
     ]
    }
   ],
   "source": [
    "str(nd)"
   ]
  },
  {
   "cell_type": "code",
   "execution_count": 16,
   "metadata": {},
   "outputs": [],
   "source": [
    "#' Applies the Louvain algorithm to generate micro-clustered data (Vision)\n",
    "#'\n",
    "#' @param kn List of nearest neighbor indices and euclidean distances to these\n",
    "#' nearest neighbors\n",
    "#' @param data Data matrix\n",
    "#' @return List of clusters, each entry being a vector of indices representing\n",
    "#' samples in the cluster.\n",
    "louvainCluster <- function(kn, data) {\n",
    "\n",
    "    nn <- kn[[1]]\n",
    "    d <- kn[[2]]\n",
    "    sigma <- apply(d, 1, function(x) quantile(x, c(.5))[[1]])\n",
    "    d <- exp(-1 * (d*d) / sigma^2)\n",
    "\n",
    "    nnl <- lapply(1:nrow(nn), function(i) nn[i,])\n",
    "\n",
    "    # Create an undirected knn graph\n",
    "    g <- igraph::graph_from_adj_list(nnl, mode=\"out\")\n",
    "    igraph::E(g)$weights <- as.vector(t(d))\n",
    "    g <- igraph::as.undirected(g, mode=\"each\")\n",
    "\n",
    "    # Now apply the louvain algorithm to cluster the graph\n",
    "    cl <- igraph::cluster_louvain(g)\n",
    "\n",
    "    # Gather cluster vector to list of clusters\n",
    "    clusters <- list()\n",
    "    mem <- as.vector(igraph::membership(cl))\n",
    "    for (i in 1:length(mem)) {\n",
    "        n <- as.character(mem[[i]])\n",
    "        if (n %in% names(clusters)) {\n",
    "            clusters[[n]] <- c(clusters[[n]], i)\n",
    "        } else {\n",
    "            clusters[[n]] <- c(i)\n",
    "        }\n",
    "    }\n",
    "\n",
    "    clusters <- lapply(clusters, function(i) i <- rownames(data)[i])\n",
    "\n",
    "    return(clusters)\n",
    "\n",
    "}"
   ]
  },
  {
   "cell_type": "code",
   "execution_count": 255,
   "metadata": {},
   "outputs": [],
   "source": [
    "cl <- louvainCluster(nd, data)"
   ]
  },
  {
   "cell_type": "code",
   "execution_count": 256,
   "metadata": {},
   "outputs": [
    {
     "data": {
      "text/html": [
       "24"
      ],
      "text/latex": [
       "24"
      ],
      "text/markdown": [
       "24"
      ],
      "text/plain": [
       "[1] 24"
      ]
     },
     "metadata": {},
     "output_type": "display_data"
    }
   ],
   "source": [
    "n_clusters = length(cl)\n",
    "n_clusters "
   ]
  },
  {
   "cell_type": "code",
   "execution_count": 257,
   "metadata": {},
   "outputs": [
    {
     "name": "stdout",
     "output_type": "stream",
     "text": [
      "[1] 157\n",
      "[1] 71\n",
      "[1] 67\n",
      "[1] 89\n",
      "[1] 121\n",
      "[1] 83\n",
      "[1] 36\n",
      "[1] 184\n",
      "[1] 81\n",
      "[1] 132\n",
      "[1] 43\n",
      "[1] 129\n",
      "[1] 150\n",
      "[1] 125\n",
      "[1] 119\n",
      "[1] 74\n",
      "[1] 122\n",
      "[1] 80\n",
      "[1] 145\n",
      "[1] 99\n",
      "[1] 184\n",
      "[1] 28\n",
      "[1] 108\n",
      "[1] 76\n"
     ]
    },
    {
     "data": {
      "text/html": [
       "<ol class=list-inline>\n",
       "\t<li>24</li>\n",
       "\t<li>2503</li>\n",
       "</ol>\n"
      ],
      "text/latex": [
       "\\begin{enumerate*}\n",
       "\\item 24\n",
       "\\item 2503\n",
       "\\end{enumerate*}\n"
      ],
      "text/markdown": [
       "1. 24\n",
       "2. 2503\n",
       "\n",
       "\n"
      ],
      "text/plain": [
       "[1]   24 2503"
      ]
     },
     "metadata": {},
     "output_type": "display_data"
    }
   ],
   "source": [
    "n = 0\n",
    "for (i in 1:n_clusters){\n",
    "    print(length(cl[[i]]))\n",
    "    n = n+length(cl[[i]])\n",
    "    }\n",
    "c(n_clusters,n)"
   ]
  },
  {
   "cell_type": "code",
   "execution_count": 182,
   "metadata": {},
   "outputs": [
    {
     "data": {
      "text/html": [
       "<table>\n",
       "<thead><tr><th scope=col>cell</th><th scope=col>cluster</th><th scope=col>donor</th><th scope=col>ncells</th></tr></thead>\n",
       "<tbody>\n",
       "\t<tr><td>ACGCAGCAGGATGGTC-1-50</td><td>cluster1             </td><td>HPSI0414i-oaqd_2     </td><td>1                    </td></tr>\n",
       "\t<tr><td>CTAACTTTCCAATGGT-1-49</td><td>cluster2             </td><td>HPSI0414i-oaqd_2     </td><td>1                    </td></tr>\n",
       "\t<tr><td>TGCGCAGTCCTATGTT-1-51</td><td>cluster3             </td><td>HPSI0414i-oaqd_2     </td><td>1                    </td></tr>\n",
       "\t<tr><td>GGAACTTAGAGCTATA-1-51</td><td>cluster4             </td><td>HPSI0414i-oaqd_2     </td><td>1                    </td></tr>\n",
       "\t<tr><td>AAAGTAGGTAAGGGCT-1-49</td><td>cluster5             </td><td>HPSI0414i-oaqd_2     </td><td>1                    </td></tr>\n",
       "\t<tr><td>GGACATTTCGTGACAT-1-51</td><td>cluster6             </td><td>HPSI0414i-oaqd_2     </td><td>1                    </td></tr>\n",
       "\t<tr><td>GGAGCAAGTCGCGAAA-1-48</td><td>cluster7             </td><td>HPSI0414i-oaqd_2     </td><td>1                    </td></tr>\n",
       "\t<tr><td>GGCAATTTCCCTTGTG-1-48</td><td>cluster8             </td><td>HPSI0414i-oaqd_2     </td><td>1                    </td></tr>\n",
       "\t<tr><td>GATCGTACAATGAATG-1-51</td><td>cluster9             </td><td>HPSI0414i-oaqd_2     </td><td>1                    </td></tr>\n",
       "\t<tr><td>CGCTATCCATGGGACA-1-50</td><td>cluster10            </td><td>HPSI0414i-oaqd_2     </td><td>1                    </td></tr>\n",
       "</tbody>\n",
       "</table>\n"
      ],
      "text/latex": [
       "\\begin{tabular}{r|llll}\n",
       " cell & cluster & donor & ncells\\\\\n",
       "\\hline\n",
       "\t ACGCAGCAGGATGGTC-1-50 & cluster1              & HPSI0414i-oaqd\\_2    & 1                    \\\\\n",
       "\t CTAACTTTCCAATGGT-1-49 & cluster2              & HPSI0414i-oaqd\\_2    & 1                    \\\\\n",
       "\t TGCGCAGTCCTATGTT-1-51 & cluster3              & HPSI0414i-oaqd\\_2    & 1                    \\\\\n",
       "\t GGAACTTAGAGCTATA-1-51 & cluster4              & HPSI0414i-oaqd\\_2    & 1                    \\\\\n",
       "\t AAAGTAGGTAAGGGCT-1-49 & cluster5              & HPSI0414i-oaqd\\_2    & 1                    \\\\\n",
       "\t GGACATTTCGTGACAT-1-51 & cluster6              & HPSI0414i-oaqd\\_2    & 1                    \\\\\n",
       "\t GGAGCAAGTCGCGAAA-1-48 & cluster7              & HPSI0414i-oaqd\\_2    & 1                    \\\\\n",
       "\t GGCAATTTCCCTTGTG-1-48 & cluster8              & HPSI0414i-oaqd\\_2    & 1                    \\\\\n",
       "\t GATCGTACAATGAATG-1-51 & cluster9              & HPSI0414i-oaqd\\_2    & 1                    \\\\\n",
       "\t CGCTATCCATGGGACA-1-50 & cluster10             & HPSI0414i-oaqd\\_2    & 1                    \\\\\n",
       "\\end{tabular}\n"
      ],
      "text/markdown": [
       "\n",
       "| cell | cluster | donor | ncells |\n",
       "|---|---|---|---|\n",
       "| ACGCAGCAGGATGGTC-1-50 | cluster1              | HPSI0414i-oaqd_2      | 1                     |\n",
       "| CTAACTTTCCAATGGT-1-49 | cluster2              | HPSI0414i-oaqd_2      | 1                     |\n",
       "| TGCGCAGTCCTATGTT-1-51 | cluster3              | HPSI0414i-oaqd_2      | 1                     |\n",
       "| GGAACTTAGAGCTATA-1-51 | cluster4              | HPSI0414i-oaqd_2      | 1                     |\n",
       "| AAAGTAGGTAAGGGCT-1-49 | cluster5              | HPSI0414i-oaqd_2      | 1                     |\n",
       "| GGACATTTCGTGACAT-1-51 | cluster6              | HPSI0414i-oaqd_2      | 1                     |\n",
       "| GGAGCAAGTCGCGAAA-1-48 | cluster7              | HPSI0414i-oaqd_2      | 1                     |\n",
       "| GGCAATTTCCCTTGTG-1-48 | cluster8              | HPSI0414i-oaqd_2      | 1                     |\n",
       "| GATCGTACAATGAATG-1-51 | cluster9              | HPSI0414i-oaqd_2      | 1                     |\n",
       "| CGCTATCCATGGGACA-1-50 | cluster10             | HPSI0414i-oaqd_2      | 1                     |\n",
       "\n"
      ],
      "text/plain": [
       "   cell                  cluster   donor            ncells\n",
       "1  ACGCAGCAGGATGGTC-1-50 cluster1  HPSI0414i-oaqd_2 1     \n",
       "2  CTAACTTTCCAATGGT-1-49 cluster2  HPSI0414i-oaqd_2 1     \n",
       "3  TGCGCAGTCCTATGTT-1-51 cluster3  HPSI0414i-oaqd_2 1     \n",
       "4  GGAACTTAGAGCTATA-1-51 cluster4  HPSI0414i-oaqd_2 1     \n",
       "5  AAAGTAGGTAAGGGCT-1-49 cluster5  HPSI0414i-oaqd_2 1     \n",
       "6  GGACATTTCGTGACAT-1-51 cluster6  HPSI0414i-oaqd_2 1     \n",
       "7  GGAGCAAGTCGCGAAA-1-48 cluster7  HPSI0414i-oaqd_2 1     \n",
       "8  GGCAATTTCCCTTGTG-1-48 cluster8  HPSI0414i-oaqd_2 1     \n",
       "9  GATCGTACAATGAATG-1-51 cluster9  HPSI0414i-oaqd_2 1     \n",
       "10 CGCTATCCATGGGACA-1-50 cluster10 HPSI0414i-oaqd_2 1     "
      ]
     },
     "metadata": {},
     "output_type": "display_data"
    }
   ],
   "source": [
    "df_clusters = data.frame()\n",
    "for (i in 1:n_clusters){\n",
    "    df_clusters = rbind(df_clusters, data.frame(cell = cl[[i]], \n",
    "                                                cluster = paste0(\"cluster\",i),\n",
    "                                                donor = donor,\n",
    "                                                ncells = length(cl[[i]])))\n",
    "    }\n",
    "df_clusters"
   ]
  },
  {
   "cell_type": "code",
   "execution_count": null,
   "metadata": {},
   "outputs": [],
   "source": []
  }
 ],
 "metadata": {
  "kernelspec": {
   "display_name": "R",
   "language": "R",
   "name": "ir"
  },
  "language_info": {
   "codemirror_mode": "r",
   "file_extension": ".r",
   "mimetype": "text/x-r-source",
   "name": "R",
   "pygments_lexer": "r",
   "version": "3.6.1"
  }
 },
 "nbformat": 4,
 "nbformat_minor": 4
}
