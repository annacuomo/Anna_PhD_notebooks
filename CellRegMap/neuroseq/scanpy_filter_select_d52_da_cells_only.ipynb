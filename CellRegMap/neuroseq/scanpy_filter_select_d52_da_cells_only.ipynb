{
 "cells": [
  {
   "cell_type": "code",
   "execution_count": 3,
   "metadata": {},
   "outputs": [
    {
     "name": "stderr",
     "output_type": "stream",
     "text": [
      "/nfs/software/stegle/users/acuomo/conda-envs/myscanpy/lib/python3.7/site-packages/anndata/_core/anndata.py:21: FutureWarning: pandas.core.index is deprecated and will be removed in a future version.  The public classes are available in the top-level namespace.\n",
      "  from pandas.core.index import RangeIndex\n"
     ]
    }
   ],
   "source": [
    "import scanpy as sc"
   ]
  },
  {
   "cell_type": "code",
   "execution_count": 4,
   "metadata": {},
   "outputs": [],
   "source": [
    "mydir = \"/nfs/leia/research/stegle/dseaton/hipsci/singlecell_neuroseq/data/data_processed/pool1_17_D52/\""
   ]
  },
  {
   "cell_type": "code",
   "execution_count": 5,
   "metadata": {},
   "outputs": [
    {
     "name": "stdout",
     "output_type": "stream",
     "text": [
      "WARNING: Your filename has more than two extensions: ['.scanpy', '.w_metadata', '.w_celltype', '.scanpy', '.h5'].\n",
      "Only considering the two last: ['.scanpy', '.h5'].\n",
      "WARNING: Your filename has more than two extensions: ['.scanpy', '.w_metadata', '.w_celltype', '.scanpy', '.h5'].\n",
      "Only considering the two last: ['.scanpy', '.h5'].\n"
     ]
    }
   ],
   "source": [
    "file = mydir+\"pool1_17_D52.scanpy.w_metadata.w_celltype.scanpy.h5\"\n",
    "adatafull = sc.read(file)"
   ]
  },
  {
   "cell_type": "code",
   "execution_count": 6,
   "metadata": {},
   "outputs": [
    {
     "data": {
      "text/plain": [
       "523094"
      ]
     },
     "execution_count": 6,
     "metadata": {},
     "output_type": "execute_result"
    }
   ],
   "source": [
    "fraction = 1\n",
    "adata = sc.pp.subsample(adatafull, fraction, copy=True)\n",
    "adata.n_obs"
   ]
  },
  {
   "cell_type": "code",
   "execution_count": 7,
   "metadata": {},
   "outputs": [
    {
     "data": {
      "text/html": [
       "<div>\n",
       "<style scoped>\n",
       "    .dataframe tbody tr th:only-of-type {\n",
       "        vertical-align: middle;\n",
       "    }\n",
       "\n",
       "    .dataframe tbody tr th {\n",
       "        vertical-align: top;\n",
       "    }\n",
       "\n",
       "    .dataframe thead th {\n",
       "        text-align: right;\n",
       "    }\n",
       "</style>\n",
       "<table border=\"1\" class=\"dataframe\">\n",
       "  <thead>\n",
       "    <tr style=\"text-align: right;\">\n",
       "      <th></th>\n",
       "      <th>batch</th>\n",
       "      <th>donor_id</th>\n",
       "      <th>log1p_n_genes_by_counts</th>\n",
       "      <th>log1p_total_counts</th>\n",
       "      <th>log1p_total_counts_mito</th>\n",
       "      <th>n_genes_by_counts</th>\n",
       "      <th>pct_counts_in_top_100_genes</th>\n",
       "      <th>pct_counts_in_top_200_genes</th>\n",
       "      <th>pct_counts_in_top_500_genes</th>\n",
       "      <th>pct_counts_in_top_50_genes</th>\n",
       "      <th>pct_counts_mito</th>\n",
       "      <th>sample_id</th>\n",
       "      <th>total_counts</th>\n",
       "      <th>total_counts_mito</th>\n",
       "      <th>cluster_id</th>\n",
       "      <th>time_point</th>\n",
       "      <th>pool_id</th>\n",
       "      <th>treatment</th>\n",
       "      <th>n_counts_all</th>\n",
       "      <th>celltype</th>\n",
       "    </tr>\n",
       "    <tr>\n",
       "      <th>index</th>\n",
       "      <th></th>\n",
       "      <th></th>\n",
       "      <th></th>\n",
       "      <th></th>\n",
       "      <th></th>\n",
       "      <th></th>\n",
       "      <th></th>\n",
       "      <th></th>\n",
       "      <th></th>\n",
       "      <th></th>\n",
       "      <th></th>\n",
       "      <th></th>\n",
       "      <th></th>\n",
       "      <th></th>\n",
       "      <th></th>\n",
       "      <th></th>\n",
       "      <th></th>\n",
       "      <th></th>\n",
       "      <th></th>\n",
       "      <th></th>\n",
       "    </tr>\n",
       "  </thead>\n",
       "  <tbody>\n",
       "    <tr>\n",
       "      <th>TCCACACAGGACAGAA-1-23</th>\n",
       "      <td>23</td>\n",
       "      <td>HPSI0114i-eipl_1</td>\n",
       "      <td>7.650169</td>\n",
       "      <td>8.834774</td>\n",
       "      <td>3.637586</td>\n",
       "      <td>2100</td>\n",
       "      <td>46.709377</td>\n",
       "      <td>58.095515</td>\n",
       "      <td>72.582994</td>\n",
       "      <td>35.206756</td>\n",
       "      <td>0.538730</td>\n",
       "      <td>5245STDY7631338</td>\n",
       "      <td>6868.0</td>\n",
       "      <td>37.0</td>\n",
       "      <td>4</td>\n",
       "      <td>D52</td>\n",
       "      <td>pool1</td>\n",
       "      <td>ROT</td>\n",
       "      <td>6868.0</td>\n",
       "      <td>FPP</td>\n",
       "    </tr>\n",
       "    <tr>\n",
       "      <th>TAAGAGAGTGGCGAAT-1-6</th>\n",
       "      <td>6</td>\n",
       "      <td>HPSI0115i-jakt_1</td>\n",
       "      <td>7.813592</td>\n",
       "      <td>8.701845</td>\n",
       "      <td>5.786897</td>\n",
       "      <td>2473</td>\n",
       "      <td>39.664061</td>\n",
       "      <td>48.361883</td>\n",
       "      <td>62.331615</td>\n",
       "      <td>32.346582</td>\n",
       "      <td>5.404956</td>\n",
       "      <td>5245STDY7458662</td>\n",
       "      <td>6013.0</td>\n",
       "      <td>325.0</td>\n",
       "      <td>7</td>\n",
       "      <td>D52</td>\n",
       "      <td>pool2</td>\n",
       "      <td>NONE</td>\n",
       "      <td>6013.0</td>\n",
       "      <td>Sert</td>\n",
       "    </tr>\n",
       "    <tr>\n",
       "      <th>TGACTAGCAGGAATGC-1-14</th>\n",
       "      <td>14</td>\n",
       "      <td>HPSI0314i-sojd_3</td>\n",
       "      <td>8.051341</td>\n",
       "      <td>9.357207</td>\n",
       "      <td>5.560682</td>\n",
       "      <td>3137</td>\n",
       "      <td>46.636733</td>\n",
       "      <td>55.306105</td>\n",
       "      <td>68.232450</td>\n",
       "      <td>39.228046</td>\n",
       "      <td>2.236422</td>\n",
       "      <td>5245STDY7544156</td>\n",
       "      <td>11581.0</td>\n",
       "      <td>259.0</td>\n",
       "      <td>1</td>\n",
       "      <td>D52</td>\n",
       "      <td>pool4</td>\n",
       "      <td>NONE</td>\n",
       "      <td>11581.0</td>\n",
       "      <td>Epen1</td>\n",
       "    </tr>\n",
       "    <tr>\n",
       "      <th>TGCTGCTAGCAGATCG-1-36</th>\n",
       "      <td>36</td>\n",
       "      <td>HPSI0115i-iuad_2</td>\n",
       "      <td>7.742836</td>\n",
       "      <td>9.016392</td>\n",
       "      <td>4.007333</td>\n",
       "      <td>2304</td>\n",
       "      <td>48.033026</td>\n",
       "      <td>58.232152</td>\n",
       "      <td>72.535211</td>\n",
       "      <td>36.728995</td>\n",
       "      <td>0.655658</td>\n",
       "      <td>5245STDY7660073</td>\n",
       "      <td>8236.0</td>\n",
       "      <td>54.0</td>\n",
       "      <td>1</td>\n",
       "      <td>D52</td>\n",
       "      <td>pool7</td>\n",
       "      <td>ROT</td>\n",
       "      <td>8236.0</td>\n",
       "      <td>Epen1</td>\n",
       "    </tr>\n",
       "    <tr>\n",
       "      <th>TTCGAAGAGACCGGAT-1-0</th>\n",
       "      <td>0</td>\n",
       "      <td>HPSI0114i-eipl_1</td>\n",
       "      <td>7.594884</td>\n",
       "      <td>8.261269</td>\n",
       "      <td>4.584968</td>\n",
       "      <td>1987</td>\n",
       "      <td>31.447028</td>\n",
       "      <td>42.325581</td>\n",
       "      <td>59.560724</td>\n",
       "      <td>21.989664</td>\n",
       "      <td>2.506460</td>\n",
       "      <td>5245STDY7426804</td>\n",
       "      <td>3870.0</td>\n",
       "      <td>97.0</td>\n",
       "      <td>2</td>\n",
       "      <td>D52</td>\n",
       "      <td>pool1</td>\n",
       "      <td>NONE</td>\n",
       "      <td>3870.0</td>\n",
       "      <td>Astro</td>\n",
       "    </tr>\n",
       "  </tbody>\n",
       "</table>\n",
       "</div>"
      ],
      "text/plain": [
       "                      batch          donor_id  log1p_n_genes_by_counts  \\\n",
       "index                                                                    \n",
       "TCCACACAGGACAGAA-1-23    23  HPSI0114i-eipl_1                 7.650169   \n",
       "TAAGAGAGTGGCGAAT-1-6      6  HPSI0115i-jakt_1                 7.813592   \n",
       "TGACTAGCAGGAATGC-1-14    14  HPSI0314i-sojd_3                 8.051341   \n",
       "TGCTGCTAGCAGATCG-1-36    36  HPSI0115i-iuad_2                 7.742836   \n",
       "TTCGAAGAGACCGGAT-1-0      0  HPSI0114i-eipl_1                 7.594884   \n",
       "\n",
       "                       log1p_total_counts  log1p_total_counts_mito  \\\n",
       "index                                                                \n",
       "TCCACACAGGACAGAA-1-23            8.834774                 3.637586   \n",
       "TAAGAGAGTGGCGAAT-1-6             8.701845                 5.786897   \n",
       "TGACTAGCAGGAATGC-1-14            9.357207                 5.560682   \n",
       "TGCTGCTAGCAGATCG-1-36            9.016392                 4.007333   \n",
       "TTCGAAGAGACCGGAT-1-0             8.261269                 4.584968   \n",
       "\n",
       "                       n_genes_by_counts  pct_counts_in_top_100_genes  \\\n",
       "index                                                                   \n",
       "TCCACACAGGACAGAA-1-23               2100                    46.709377   \n",
       "TAAGAGAGTGGCGAAT-1-6                2473                    39.664061   \n",
       "TGACTAGCAGGAATGC-1-14               3137                    46.636733   \n",
       "TGCTGCTAGCAGATCG-1-36               2304                    48.033026   \n",
       "TTCGAAGAGACCGGAT-1-0                1987                    31.447028   \n",
       "\n",
       "                       pct_counts_in_top_200_genes  \\\n",
       "index                                                \n",
       "TCCACACAGGACAGAA-1-23                    58.095515   \n",
       "TAAGAGAGTGGCGAAT-1-6                     48.361883   \n",
       "TGACTAGCAGGAATGC-1-14                    55.306105   \n",
       "TGCTGCTAGCAGATCG-1-36                    58.232152   \n",
       "TTCGAAGAGACCGGAT-1-0                     42.325581   \n",
       "\n",
       "                       pct_counts_in_top_500_genes  \\\n",
       "index                                                \n",
       "TCCACACAGGACAGAA-1-23                    72.582994   \n",
       "TAAGAGAGTGGCGAAT-1-6                     62.331615   \n",
       "TGACTAGCAGGAATGC-1-14                    68.232450   \n",
       "TGCTGCTAGCAGATCG-1-36                    72.535211   \n",
       "TTCGAAGAGACCGGAT-1-0                     59.560724   \n",
       "\n",
       "                       pct_counts_in_top_50_genes  pct_counts_mito  \\\n",
       "index                                                                \n",
       "TCCACACAGGACAGAA-1-23                   35.206756         0.538730   \n",
       "TAAGAGAGTGGCGAAT-1-6                    32.346582         5.404956   \n",
       "TGACTAGCAGGAATGC-1-14                   39.228046         2.236422   \n",
       "TGCTGCTAGCAGATCG-1-36                   36.728995         0.655658   \n",
       "TTCGAAGAGACCGGAT-1-0                    21.989664         2.506460   \n",
       "\n",
       "                             sample_id  total_counts  total_counts_mito  \\\n",
       "index                                                                     \n",
       "TCCACACAGGACAGAA-1-23  5245STDY7631338        6868.0               37.0   \n",
       "TAAGAGAGTGGCGAAT-1-6   5245STDY7458662        6013.0              325.0   \n",
       "TGACTAGCAGGAATGC-1-14  5245STDY7544156       11581.0              259.0   \n",
       "TGCTGCTAGCAGATCG-1-36  5245STDY7660073        8236.0               54.0   \n",
       "TTCGAAGAGACCGGAT-1-0   5245STDY7426804        3870.0               97.0   \n",
       "\n",
       "                       cluster_id time_point pool_id treatment  n_counts_all  \\\n",
       "index                                                                          \n",
       "TCCACACAGGACAGAA-1-23           4        D52   pool1       ROT        6868.0   \n",
       "TAAGAGAGTGGCGAAT-1-6            7        D52   pool2      NONE        6013.0   \n",
       "TGACTAGCAGGAATGC-1-14           1        D52   pool4      NONE       11581.0   \n",
       "TGCTGCTAGCAGATCG-1-36           1        D52   pool7       ROT        8236.0   \n",
       "TTCGAAGAGACCGGAT-1-0            2        D52   pool1      NONE        3870.0   \n",
       "\n",
       "                      celltype  \n",
       "index                           \n",
       "TCCACACAGGACAGAA-1-23      FPP  \n",
       "TAAGAGAGTGGCGAAT-1-6      Sert  \n",
       "TGACTAGCAGGAATGC-1-14    Epen1  \n",
       "TGCTGCTAGCAGATCG-1-36    Epen1  \n",
       "TTCGAAGAGACCGGAT-1-0     Astro  "
      ]
     },
     "execution_count": 7,
     "metadata": {},
     "output_type": "execute_result"
    }
   ],
   "source": [
    "adata.obs.head()"
   ]
  },
  {
   "cell_type": "code",
   "execution_count": 10,
   "metadata": {},
   "outputs": [
    {
     "data": {
      "text/plain": [
       "79801"
      ]
     },
     "execution_count": 10,
     "metadata": {},
     "output_type": "execute_result"
    }
   ],
   "source": [
    "adata_da = adata[adata.obs['celltype'] == 'DA']\n",
    "adata_da.n_obs"
   ]
  },
  {
   "cell_type": "code",
   "execution_count": 11,
   "metadata": {},
   "outputs": [],
   "source": [
    "adata_da.write(\"/hps/nobackup/stegle/users/acuomo/all_scripts/struct_LMM2/sc_neuroseq/all_da_d52_cells.h5\")"
   ]
  },
  {
   "cell_type": "code",
   "execution_count": null,
   "metadata": {},
   "outputs": [],
   "source": []
  }
 ],
 "metadata": {
  "kernelspec": {
   "display_name": "Python 3",
   "language": "python",
   "name": "python3"
  },
  "language_info": {
   "codemirror_mode": {
    "name": "ipython",
    "version": 3
   },
   "file_extension": ".py",
   "mimetype": "text/x-python",
   "name": "python",
   "nbconvert_exporter": "python",
   "pygments_lexer": "ipython3",
   "version": "3.7.6"
  }
 },
 "nbformat": 4,
 "nbformat_minor": 4
}
