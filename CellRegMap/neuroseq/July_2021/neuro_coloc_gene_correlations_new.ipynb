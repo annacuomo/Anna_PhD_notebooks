{
 "cells": [
  {
   "cell_type": "code",
   "execution_count": 21,
   "id": "014a19d4",
   "metadata": {},
   "outputs": [],
   "source": [
    "library(gprofiler2)"
   ]
  },
  {
   "cell_type": "code",
   "execution_count": 1,
   "id": "bdaa64f4",
   "metadata": {},
   "outputs": [],
   "source": [
    "df = read.csv(\"/hps/nobackup/stegle/users/acuomo/all_scripts/struct_LMM2/sc_neuroseq/May2021/genetic_effect/MOFA10/eqtl_tot_genetic_effect_all.txt\", sep=\"\\t\",row.names = 1)"
   ]
  },
  {
   "cell_type": "code",
   "execution_count": 22,
   "id": "efd56089",
   "metadata": {},
   "outputs": [
    {
     "data": {
      "text/html": [
       "<table>\n",
       "<thead><tr><th></th><th scope=col>ABHD10_.3_111697439_T_G</th><th scope=col>ABHD12B_.14_51328222_C_T</th><th scope=col>ACKR2_.3_42817129_C_T</th><th scope=col>ADD2_.2_70894426_A_T</th><th scope=col>ADSL_.22_40757228_A_C</th><th scope=col>AIM1L_.1_26673825_C_T</th><th scope=col>AKAP7_.6_131691964_C_A</th><th scope=col>ALDH7A1_.5_126011412_G_A</th><th scope=col>ANKRD18B_.9_33524775_C_A</th><th scope=col>APIP_.11_34905987_T_C</th><th scope=col>...</th><th scope=col>YWHAE_.17_1246420_G_A</th><th scope=col>ZBBX_.3_167080934_T_G</th><th scope=col>ZC3HAV1_.7_138730361_T_C</th><th scope=col>ZFR2_.19_3840157_C_T</th><th scope=col>ZG16B_.16_2871121_T_C</th><th scope=col>ZNF423_.16_49599995_C_G</th><th scope=col>ZNF552_.19_58315273_G_A</th><th scope=col>ZNF738_.19_21474173_G_A</th><th scope=col>ZNF77_.19_2936535_G_A</th><th scope=col>ZP3_.7_76177284_C_T</th></tr></thead>\n",
       "<tbody>\n",
       "\t<tr><th scope=row>HPSI0714i-iudw_1--DA--d30--0</th><td>-0.2108622   </td><td> 0.003924475 </td><td>0.02206444   </td><td>0.02834211   </td><td> 0.2235163   </td><td>-0.03575032  </td><td>-0.09473256  </td><td> 0.006901295 </td><td> 0.0006737957</td><td>-0.07499119  </td><td>...          </td><td> 0.06962421  </td><td>0.1120253    </td><td>-0.04172133  </td><td>0.01126897   </td><td> 0.1057579   </td><td>-0.03101814  </td><td>0.0909417    </td><td>0.3020245    </td><td>-0.1583842   </td><td>-0.05596878  </td></tr>\n",
       "\t<tr><th scope=row>HPSI0714i-iudw_1--DA--d30--1</th><td>-0.2283969   </td><td>-0.047217741 </td><td>0.10596178   </td><td>0.02514689   </td><td>-0.1921801   </td><td>-0.01471768  </td><td> 0.01878961  </td><td>-0.171038975 </td><td>-0.1105473675</td><td>-0.18686595  </td><td>...          </td><td>-0.21070417  </td><td>0.3759854    </td><td> 0.08774666  </td><td>0.02505916   </td><td>-0.1950055   </td><td>-0.22780547  </td><td>0.0775938    </td><td>0.3452492    </td><td>-0.3472152   </td><td>-0.15259400  </td></tr>\n",
       "</tbody>\n",
       "</table>\n"
      ],
      "text/latex": [
       "\\begin{tabular}{r|lllllllllllllllllllllllllllllllllllllllllllllllllllllllllllllllllllllllllllllllllllllllllllllllllllllllllllllllllllllllllllllllllllllllllllllllllllllllllllllllllllllllllllllllllllllllllllllllllllllllllllllllllllll}\n",
       "  & ABHD10\\_.3\\_111697439\\_T\\_G & ABHD12B\\_.14\\_51328222\\_C\\_T & ACKR2\\_.3\\_42817129\\_C\\_T & ADD2\\_.2\\_70894426\\_A\\_T & ADSL\\_.22\\_40757228\\_A\\_C & AIM1L\\_.1\\_26673825\\_C\\_T & AKAP7\\_.6\\_131691964\\_C\\_A & ALDH7A1\\_.5\\_126011412\\_G\\_A & ANKRD18B\\_.9\\_33524775\\_C\\_A & APIP\\_.11\\_34905987\\_T\\_C & ... & YWHAE\\_.17\\_1246420\\_G\\_A & ZBBX\\_.3\\_167080934\\_T\\_G & ZC3HAV1\\_.7\\_138730361\\_T\\_C & ZFR2\\_.19\\_3840157\\_C\\_T & ZG16B\\_.16\\_2871121\\_T\\_C & ZNF423\\_.16\\_49599995\\_C\\_G & ZNF552\\_.19\\_58315273\\_G\\_A & ZNF738\\_.19\\_21474173\\_G\\_A & ZNF77\\_.19\\_2936535\\_G\\_A & ZP3\\_.7\\_76177284\\_C\\_T\\\\\n",
       "\\hline\n",
       "\tHPSI0714i-iudw\\_1--DA--d30--0 & -0.2108622    &  0.003924475  & 0.02206444    & 0.02834211    &  0.2235163    & -0.03575032   & -0.09473256   &  0.006901295  &  0.0006737957 & -0.07499119   & ...           &  0.06962421   & 0.1120253     & -0.04172133   & 0.01126897    &  0.1057579    & -0.03101814   & 0.0909417     & 0.3020245     & -0.1583842    & -0.05596878  \\\\\n",
       "\tHPSI0714i-iudw\\_1--DA--d30--1 & -0.2283969    & -0.047217741  & 0.10596178    & 0.02514689    & -0.1921801    & -0.01471768   &  0.01878961   & -0.171038975  & -0.1105473675 & -0.18686595   & ...           & -0.21070417   & 0.3759854     &  0.08774666   & 0.02505916    & -0.1950055    & -0.22780547   & 0.0775938     & 0.3452492     & -0.3472152    & -0.15259400  \\\\\n",
       "\\end{tabular}\n"
      ],
      "text/markdown": [
       "\n",
       "| <!--/--> | ABHD10_.3_111697439_T_G | ABHD12B_.14_51328222_C_T | ACKR2_.3_42817129_C_T | ADD2_.2_70894426_A_T | ADSL_.22_40757228_A_C | AIM1L_.1_26673825_C_T | AKAP7_.6_131691964_C_A | ALDH7A1_.5_126011412_G_A | ANKRD18B_.9_33524775_C_A | APIP_.11_34905987_T_C | ... | YWHAE_.17_1246420_G_A | ZBBX_.3_167080934_T_G | ZC3HAV1_.7_138730361_T_C | ZFR2_.19_3840157_C_T | ZG16B_.16_2871121_T_C | ZNF423_.16_49599995_C_G | ZNF552_.19_58315273_G_A | ZNF738_.19_21474173_G_A | ZNF77_.19_2936535_G_A | ZP3_.7_76177284_C_T |\n",
       "|---|---|---|---|---|---|---|---|---|---|---|---|---|---|---|---|---|---|---|---|---|---|\n",
       "| HPSI0714i-iudw_1--DA--d30--0 | -0.2108622    |  0.003924475  | 0.02206444    | 0.02834211    |  0.2235163    | -0.03575032   | -0.09473256   |  0.006901295  |  0.0006737957 | -0.07499119   | ...           |  0.06962421   | 0.1120253     | -0.04172133   | 0.01126897    |  0.1057579    | -0.03101814   | 0.0909417     | 0.3020245     | -0.1583842    | -0.05596878   |\n",
       "| HPSI0714i-iudw_1--DA--d30--1 | -0.2283969    | -0.047217741  | 0.10596178    | 0.02514689    | -0.1921801    | -0.01471768   |  0.01878961   | -0.171038975  | -0.1105473675 | -0.18686595   | ...           | -0.21070417   | 0.3759854     |  0.08774666   | 0.02505916    | -0.1950055    | -0.22780547   | 0.0775938     | 0.3452492     | -0.3472152    | -0.15259400   |\n",
       "\n"
      ],
      "text/plain": [
       "                             ABHD10_.3_111697439_T_G ABHD12B_.14_51328222_C_T\n",
       "HPSI0714i-iudw_1--DA--d30--0 -0.2108622               0.003924475            \n",
       "HPSI0714i-iudw_1--DA--d30--1 -0.2283969              -0.047217741            \n",
       "                             ACKR2_.3_42817129_C_T ADD2_.2_70894426_A_T\n",
       "HPSI0714i-iudw_1--DA--d30--0 0.02206444            0.02834211          \n",
       "HPSI0714i-iudw_1--DA--d30--1 0.10596178            0.02514689          \n",
       "                             ADSL_.22_40757228_A_C AIM1L_.1_26673825_C_T\n",
       "HPSI0714i-iudw_1--DA--d30--0  0.2235163            -0.03575032          \n",
       "HPSI0714i-iudw_1--DA--d30--1 -0.1921801            -0.01471768          \n",
       "                             AKAP7_.6_131691964_C_A ALDH7A1_.5_126011412_G_A\n",
       "HPSI0714i-iudw_1--DA--d30--0 -0.09473256             0.006901295            \n",
       "HPSI0714i-iudw_1--DA--d30--1  0.01878961            -0.171038975            \n",
       "                             ANKRD18B_.9_33524775_C_A APIP_.11_34905987_T_C ...\n",
       "HPSI0714i-iudw_1--DA--d30--0  0.0006737957            -0.07499119           ...\n",
       "HPSI0714i-iudw_1--DA--d30--1 -0.1105473675            -0.18686595           ...\n",
       "                             YWHAE_.17_1246420_G_A ZBBX_.3_167080934_T_G\n",
       "HPSI0714i-iudw_1--DA--d30--0  0.06962421           0.1120253            \n",
       "HPSI0714i-iudw_1--DA--d30--1 -0.21070417           0.3759854            \n",
       "                             ZC3HAV1_.7_138730361_T_C ZFR2_.19_3840157_C_T\n",
       "HPSI0714i-iudw_1--DA--d30--0 -0.04172133              0.01126897          \n",
       "HPSI0714i-iudw_1--DA--d30--1  0.08774666              0.02505916          \n",
       "                             ZG16B_.16_2871121_T_C ZNF423_.16_49599995_C_G\n",
       "HPSI0714i-iudw_1--DA--d30--0  0.1057579            -0.03101814            \n",
       "HPSI0714i-iudw_1--DA--d30--1 -0.1950055            -0.22780547            \n",
       "                             ZNF552_.19_58315273_G_A ZNF738_.19_21474173_G_A\n",
       "HPSI0714i-iudw_1--DA--d30--0 0.0909417               0.3020245              \n",
       "HPSI0714i-iudw_1--DA--d30--1 0.0775938               0.3452492              \n",
       "                             ZNF77_.19_2936535_G_A ZP3_.7_76177284_C_T\n",
       "HPSI0714i-iudw_1--DA--d30--0 -0.1583842            -0.05596878        \n",
       "HPSI0714i-iudw_1--DA--d30--1 -0.3472152            -0.15259400        "
      ]
     },
     "metadata": {},
     "output_type": "display_data"
    }
   ],
   "source": [
    "head(df,2)"
   ]
  },
  {
   "cell_type": "code",
   "execution_count": 3,
   "id": "7cc4e086",
   "metadata": {},
   "outputs": [],
   "source": [
    "input_files_dir = \"/hps/nobackup/stegle/users/acuomo/all_scripts/struct_LMM2/sc_neuroseq/May2021/input_files/\"\n",
    "# Phenotype\n",
    "phenotype_file = paste0(input_files_dir,\"phenotype.csv\")"
   ]
  },
  {
   "cell_type": "code",
   "execution_count": 4,
   "id": "f092c7be",
   "metadata": {},
   "outputs": [
    {
     "data": {
      "text/html": [
       "<table>\n",
       "<thead><tr><th></th><th scope=col>HPSI0714i-iudw_1--DA--d30--0</th><th scope=col>HPSI0714i-iudw_1--DA--d30--1</th><th scope=col>HPSI0714i-iudw_1--DA--d30--2</th><th scope=col>HPSI0714i-iudw_1--DA--d30--3</th><th scope=col>HPSI0714i-iudw_1--DA--d30--4</th></tr></thead>\n",
       "<tbody>\n",
       "\t<tr><th scope=row>MIR1302.10</th><td>0</td><td>0</td><td>0</td><td>0</td><td>0</td></tr>\n",
       "\t<tr><th scope=row>FAM138A</th><td>0</td><td>0</td><td>0</td><td>0</td><td>0</td></tr>\n",
       "\t<tr><th scope=row>OR4F5</th><td>0</td><td>0</td><td>0</td><td>0</td><td>0</td></tr>\n",
       "\t<tr><th scope=row>RP11.34P13.7</th><td>0</td><td>0</td><td>0</td><td>0</td><td>0</td></tr>\n",
       "\t<tr><th scope=row>RP11.34P13.8</th><td>0</td><td>0</td><td>0</td><td>0</td><td>0</td></tr>\n",
       "</tbody>\n",
       "</table>\n"
      ],
      "text/latex": [
       "\\begin{tabular}{r|lllll}\n",
       "  & HPSI0714i-iudw\\_1--DA--d30--0 & HPSI0714i-iudw\\_1--DA--d30--1 & HPSI0714i-iudw\\_1--DA--d30--2 & HPSI0714i-iudw\\_1--DA--d30--3 & HPSI0714i-iudw\\_1--DA--d30--4\\\\\n",
       "\\hline\n",
       "\tMIR1302.10 & 0 & 0 & 0 & 0 & 0\\\\\n",
       "\tFAM138A & 0 & 0 & 0 & 0 & 0\\\\\n",
       "\tOR4F5 & 0 & 0 & 0 & 0 & 0\\\\\n",
       "\tRP11.34P13.7 & 0 & 0 & 0 & 0 & 0\\\\\n",
       "\tRP11.34P13.8 & 0 & 0 & 0 & 0 & 0\\\\\n",
       "\\end{tabular}\n"
      ],
      "text/markdown": [
       "\n",
       "| <!--/--> | HPSI0714i-iudw_1--DA--d30--0 | HPSI0714i-iudw_1--DA--d30--1 | HPSI0714i-iudw_1--DA--d30--2 | HPSI0714i-iudw_1--DA--d30--3 | HPSI0714i-iudw_1--DA--d30--4 |\n",
       "|---|---|---|---|---|---|\n",
       "| MIR1302.10 | 0 | 0 | 0 | 0 | 0 |\n",
       "| FAM138A | 0 | 0 | 0 | 0 | 0 |\n",
       "| OR4F5 | 0 | 0 | 0 | 0 | 0 |\n",
       "| RP11.34P13.7 | 0 | 0 | 0 | 0 | 0 |\n",
       "| RP11.34P13.8 | 0 | 0 | 0 | 0 | 0 |\n",
       "\n"
      ],
      "text/plain": [
       "             HPSI0714i-iudw_1--DA--d30--0 HPSI0714i-iudw_1--DA--d30--1\n",
       "MIR1302.10   0                            0                           \n",
       "FAM138A      0                            0                           \n",
       "OR4F5        0                            0                           \n",
       "RP11.34P13.7 0                            0                           \n",
       "RP11.34P13.8 0                            0                           \n",
       "             HPSI0714i-iudw_1--DA--d30--2 HPSI0714i-iudw_1--DA--d30--3\n",
       "MIR1302.10   0                            0                           \n",
       "FAM138A      0                            0                           \n",
       "OR4F5        0                            0                           \n",
       "RP11.34P13.7 0                            0                           \n",
       "RP11.34P13.8 0                            0                           \n",
       "             HPSI0714i-iudw_1--DA--d30--4\n",
       "MIR1302.10   0                           \n",
       "FAM138A      0                           \n",
       "OR4F5        0                           \n",
       "RP11.34P13.7 0                           \n",
       "RP11.34P13.8 0                           "
      ]
     },
     "metadata": {},
     "output_type": "display_data"
    }
   ],
   "source": [
    "df0 = read.csv(phenotype_file, row.names=1)\n",
    "newcols = gsub(\"\\\\.\",\"-\",colnames(df0))\n",
    "# head(newcols)\n",
    "colnames(df0) = newcols\n",
    "df0[1:5,1:5]"
   ]
  },
  {
   "cell_type": "code",
   "execution_count": 5,
   "id": "cef30e35",
   "metadata": {},
   "outputs": [
    {
     "data": {
      "text/html": [
       "9219"
      ],
      "text/latex": [
       "9219"
      ],
      "text/markdown": [
       "9219"
      ],
      "text/plain": [
       "[1] 9219"
      ]
     },
     "metadata": {},
     "output_type": "display_data"
    },
    {
     "data": {
      "text/html": [
       "8352"
      ],
      "text/latex": [
       "8352"
      ],
      "text/markdown": [
       "8352"
      ],
      "text/plain": [
       "[1] 8352"
      ]
     },
     "metadata": {},
     "output_type": "display_data"
    },
    {
     "data": {
      "text/html": [
       "<table>\n",
       "<thead><tr><th></th><th scope=col>HPSI0714i-iudw_1--DA--d30--0</th><th scope=col>HPSI0714i-iudw_1--DA--d30--1</th><th scope=col>HPSI0714i-iudw_1--DA--d30--2</th><th scope=col>HPSI0714i-iudw_1--DA--d30--3</th><th scope=col>HPSI0714i-iudw_1--DA--d30--4</th></tr></thead>\n",
       "<tbody>\n",
       "\t<tr><th scope=row>MIR1302.10</th><td>0</td><td>0</td><td>0</td><td>0</td><td>0</td></tr>\n",
       "\t<tr><th scope=row>FAM138A</th><td>0</td><td>0</td><td>0</td><td>0</td><td>0</td></tr>\n",
       "\t<tr><th scope=row>OR4F5</th><td>0</td><td>0</td><td>0</td><td>0</td><td>0</td></tr>\n",
       "\t<tr><th scope=row>RP11.34P13.7</th><td>0</td><td>0</td><td>0</td><td>0</td><td>0</td></tr>\n",
       "\t<tr><th scope=row>RP11.34P13.8</th><td>0</td><td>0</td><td>0</td><td>0</td><td>0</td></tr>\n",
       "</tbody>\n",
       "</table>\n"
      ],
      "text/latex": [
       "\\begin{tabular}{r|lllll}\n",
       "  & HPSI0714i-iudw\\_1--DA--d30--0 & HPSI0714i-iudw\\_1--DA--d30--1 & HPSI0714i-iudw\\_1--DA--d30--2 & HPSI0714i-iudw\\_1--DA--d30--3 & HPSI0714i-iudw\\_1--DA--d30--4\\\\\n",
       "\\hline\n",
       "\tMIR1302.10 & 0 & 0 & 0 & 0 & 0\\\\\n",
       "\tFAM138A & 0 & 0 & 0 & 0 & 0\\\\\n",
       "\tOR4F5 & 0 & 0 & 0 & 0 & 0\\\\\n",
       "\tRP11.34P13.7 & 0 & 0 & 0 & 0 & 0\\\\\n",
       "\tRP11.34P13.8 & 0 & 0 & 0 & 0 & 0\\\\\n",
       "\\end{tabular}\n"
      ],
      "text/markdown": [
       "\n",
       "| <!--/--> | HPSI0714i-iudw_1--DA--d30--0 | HPSI0714i-iudw_1--DA--d30--1 | HPSI0714i-iudw_1--DA--d30--2 | HPSI0714i-iudw_1--DA--d30--3 | HPSI0714i-iudw_1--DA--d30--4 |\n",
       "|---|---|---|---|---|---|\n",
       "| MIR1302.10 | 0 | 0 | 0 | 0 | 0 |\n",
       "| FAM138A | 0 | 0 | 0 | 0 | 0 |\n",
       "| OR4F5 | 0 | 0 | 0 | 0 | 0 |\n",
       "| RP11.34P13.7 | 0 | 0 | 0 | 0 | 0 |\n",
       "| RP11.34P13.8 | 0 | 0 | 0 | 0 | 0 |\n",
       "\n"
      ],
      "text/plain": [
       "             HPSI0714i-iudw_1--DA--d30--0 HPSI0714i-iudw_1--DA--d30--1\n",
       "MIR1302.10   0                            0                           \n",
       "FAM138A      0                            0                           \n",
       "OR4F5        0                            0                           \n",
       "RP11.34P13.7 0                            0                           \n",
       "RP11.34P13.8 0                            0                           \n",
       "             HPSI0714i-iudw_1--DA--d30--2 HPSI0714i-iudw_1--DA--d30--3\n",
       "MIR1302.10   0                            0                           \n",
       "FAM138A      0                            0                           \n",
       "OR4F5        0                            0                           \n",
       "RP11.34P13.7 0                            0                           \n",
       "RP11.34P13.8 0                            0                           \n",
       "             HPSI0714i-iudw_1--DA--d30--4\n",
       "MIR1302.10   0                           \n",
       "FAM138A      0                           \n",
       "OR4F5        0                           \n",
       "RP11.34P13.7 0                           \n",
       "RP11.34P13.8 0                           "
      ]
     },
     "metadata": {},
     "output_type": "display_data"
    }
   ],
   "source": [
    "df1 = df0[,rownames(df)]\n",
    "ncol(df0)\n",
    "ncol(df1)\n",
    "df1[1:5,1:5]"
   ]
  },
  {
   "cell_type": "code",
   "execution_count": 6,
   "id": "8178bd50",
   "metadata": {},
   "outputs": [],
   "source": [
    "rowsums = rowSums(df1)"
   ]
  },
  {
   "cell_type": "code",
   "execution_count": 7,
   "id": "ed12b8a5",
   "metadata": {},
   "outputs": [
    {
     "data": {
      "text/html": [
       "<ol class=list-inline>\n",
       "\t<li>'FAM138A'</li>\n",
       "\t<li>'OR4F5'</li>\n",
       "\t<li>'RP11.34P13.14'</li>\n",
       "\t<li>'OR4F29'</li>\n",
       "\t<li>'RP5.857K21.2'</li>\n",
       "\t<li>'OR4F16'</li>\n",
       "</ol>\n"
      ],
      "text/latex": [
       "\\begin{enumerate*}\n",
       "\\item 'FAM138A'\n",
       "\\item 'OR4F5'\n",
       "\\item 'RP11.34P13.14'\n",
       "\\item 'OR4F29'\n",
       "\\item 'RP5.857K21.2'\n",
       "\\item 'OR4F16'\n",
       "\\end{enumerate*}\n"
      ],
      "text/markdown": [
       "1. 'FAM138A'\n",
       "2. 'OR4F5'\n",
       "3. 'RP11.34P13.14'\n",
       "4. 'OR4F29'\n",
       "5. 'RP5.857K21.2'\n",
       "6. 'OR4F16'\n",
       "\n",
       "\n"
      ],
      "text/plain": [
       "[1] \"FAM138A\"       \"OR4F5\"         \"RP11.34P13.14\" \"OR4F29\"       \n",
       "[5] \"RP5.857K21.2\"  \"OR4F16\"       "
      ]
     },
     "metadata": {},
     "output_type": "display_data"
    },
    {
     "data": {
      "text/html": [
       "4476"
      ],
      "text/latex": [
       "4476"
      ],
      "text/markdown": [
       "4476"
      ],
      "text/plain": [
       "[1] 4476"
      ]
     },
     "metadata": {},
     "output_type": "display_data"
    }
   ],
   "source": [
    "# remove all 0 genes\n",
    "zero_genes = names(rowsums[rowsums==0])\n",
    "head(zero_genes)\n",
    "length(zero_genes)"
   ]
  },
  {
   "cell_type": "code",
   "execution_count": 8,
   "id": "3b733121",
   "metadata": {},
   "outputs": [
    {
     "data": {
      "text/html": [
       "<dl class=dl-horizontal>\n",
       "\t<dt>MIR1302.10</dt>\n",
       "\t\t<dd>56</dd>\n",
       "\t<dt>FAM138A</dt>\n",
       "\t\t<dd>0</dd>\n",
       "\t<dt>OR4F5</dt>\n",
       "\t\t<dd>0</dd>\n",
       "\t<dt>RP11.34P13.7</dt>\n",
       "\t\t<dd>287</dd>\n",
       "\t<dt>RP11.34P13.8</dt>\n",
       "\t\t<dd>15</dd>\n",
       "\t<dt>AL627309.1</dt>\n",
       "\t\t<dd>834</dd>\n",
       "</dl>\n"
      ],
      "text/latex": [
       "\\begin{description*}\n",
       "\\item[MIR1302.10] 56\n",
       "\\item[FAM138A] 0\n",
       "\\item[OR4F5] 0\n",
       "\\item[RP11.34P13.7] 287\n",
       "\\item[RP11.34P13.8] 15\n",
       "\\item[AL627309.1] 834\n",
       "\\end{description*}\n"
      ],
      "text/markdown": [
       "MIR1302.10\n",
       ":   56FAM138A\n",
       ":   0OR4F5\n",
       ":   0RP11.34P13.7\n",
       ":   287RP11.34P13.8\n",
       ":   15AL627309.1\n",
       ":   834\n",
       "\n"
      ],
      "text/plain": [
       "  MIR1302.10      FAM138A        OR4F5 RP11.34P13.7 RP11.34P13.8   AL627309.1 \n",
       "          56            0            0          287           15          834 "
      ]
     },
     "metadata": {},
     "output_type": "display_data"
    }
   ],
   "source": [
    "non0_pseudocells = rowSums(df1>0)\n",
    "head(non0_pseudocells)"
   ]
  },
  {
   "cell_type": "code",
   "execution_count": 9,
   "id": "89901d61",
   "metadata": {},
   "outputs": [
    {
     "data": {
      "text/html": [
       "<ol class=list-inline>\n",
       "\t<li>'MIR1302.10'</li>\n",
       "\t<li>'FAM138A'</li>\n",
       "\t<li>'OR4F5'</li>\n",
       "\t<li>'RP11.34P13.7'</li>\n",
       "\t<li>'RP11.34P13.8'</li>\n",
       "\t<li>'AL627309.1'</li>\n",
       "</ol>\n"
      ],
      "text/latex": [
       "\\begin{enumerate*}\n",
       "\\item 'MIR1302.10'\n",
       "\\item 'FAM138A'\n",
       "\\item 'OR4F5'\n",
       "\\item 'RP11.34P13.7'\n",
       "\\item 'RP11.34P13.8'\n",
       "\\item 'AL627309.1'\n",
       "\\end{enumerate*}\n"
      ],
      "text/markdown": [
       "1. 'MIR1302.10'\n",
       "2. 'FAM138A'\n",
       "3. 'OR4F5'\n",
       "4. 'RP11.34P13.7'\n",
       "5. 'RP11.34P13.8'\n",
       "6. 'AL627309.1'\n",
       "\n",
       "\n"
      ],
      "text/plain": [
       "[1] \"MIR1302.10\"   \"FAM138A\"      \"OR4F5\"        \"RP11.34P13.7\" \"RP11.34P13.8\"\n",
       "[6] \"AL627309.1\"  "
      ]
     },
     "metadata": {},
     "output_type": "display_data"
    },
    {
     "data": {
      "text/html": [
       "19035"
      ],
      "text/latex": [
       "19035"
      ],
      "text/markdown": [
       "19035"
      ],
      "text/plain": [
       "[1] 19035"
      ]
     },
     "metadata": {},
     "output_type": "display_data"
    }
   ],
   "source": [
    "# remove genes in less 10% of pseudocells\n",
    "low_genes = names(non0_pseudocells[non0_pseudocells<0.1*ncol(df1)])\n",
    "head(low_genes)\n",
    "length(low_genes)"
   ]
  },
  {
   "cell_type": "code",
   "execution_count": 10,
   "id": "75aca03b",
   "metadata": {},
   "outputs": [],
   "source": [
    "all_genes_df = df1"
   ]
  },
  {
   "cell_type": "code",
   "execution_count": 11,
   "id": "ebfd60b1",
   "metadata": {},
   "outputs": [
    {
     "data": {
      "text/html": [
       "13703"
      ],
      "text/latex": [
       "13703"
      ],
      "text/markdown": [
       "13703"
      ],
      "text/plain": [
       "[1] 13703"
      ]
     },
     "metadata": {},
     "output_type": "display_data"
    }
   ],
   "source": [
    "df1_new = df1[!(rownames(df1) %in% unique(c(zero_genes, low_genes))),]\n",
    "nrow(df1_new)"
   ]
  },
  {
   "cell_type": "code",
   "execution_count": 12,
   "id": "e1d3cdbd",
   "metadata": {},
   "outputs": [],
   "source": [
    "df1 = df1_new"
   ]
  },
  {
   "cell_type": "code",
   "execution_count": 13,
   "id": "8983b08c",
   "metadata": {},
   "outputs": [
    {
     "data": {
      "text/html": [
       "13703"
      ],
      "text/latex": [
       "13703"
      ],
      "text/markdown": [
       "13703"
      ],
      "text/plain": [
       "[1] 13703"
      ]
     },
     "metadata": {},
     "output_type": "display_data"
    },
    {
     "data": {
      "text/html": [
       "<ol class=list-inline>\n",
       "\t<li>'AP006222.2'</li>\n",
       "\t<li>'RP11.206L10.3'</li>\n",
       "\t<li>'RP11.206L10.9'</li>\n",
       "\t<li>'LINC00115'</li>\n",
       "\t<li>'FAM41C'</li>\n",
       "\t<li>'RP11.54O7.1'</li>\n",
       "</ol>\n"
      ],
      "text/latex": [
       "\\begin{enumerate*}\n",
       "\\item 'AP006222.2'\n",
       "\\item 'RP11.206L10.3'\n",
       "\\item 'RP11.206L10.9'\n",
       "\\item 'LINC00115'\n",
       "\\item 'FAM41C'\n",
       "\\item 'RP11.54O7.1'\n",
       "\\end{enumerate*}\n"
      ],
      "text/markdown": [
       "1. 'AP006222.2'\n",
       "2. 'RP11.206L10.3'\n",
       "3. 'RP11.206L10.9'\n",
       "4. 'LINC00115'\n",
       "5. 'FAM41C'\n",
       "6. 'RP11.54O7.1'\n",
       "\n",
       "\n"
      ],
      "text/plain": [
       "[1] \"AP006222.2\"    \"RP11.206L10.3\" \"RP11.206L10.9\" \"LINC00115\"    \n",
       "[5] \"FAM41C\"        \"RP11.54O7.1\"  "
      ]
     },
     "metadata": {},
     "output_type": "display_data"
    }
   ],
   "source": [
    "genes = rownames(df1)\n",
    "length(genes)\n",
    "head(genes)"
   ]
  },
  {
   "cell_type": "code",
   "execution_count": 14,
   "id": "9826d476",
   "metadata": {},
   "outputs": [
    {
     "data": {
      "text/html": [
       "'SLC35E2_.1_1660978_C_A'"
      ],
      "text/latex": [
       "'SLC35E2\\_.1\\_1660978\\_C\\_A'"
      ],
      "text/markdown": [
       "'SLC35E2_.1_1660978_C_A'"
      ],
      "text/plain": [
       "[1] \"SLC35E2_.1_1660978_C_A\""
      ]
     },
     "metadata": {},
     "output_type": "display_data"
    }
   ],
   "source": [
    "colnames(df)[grep(\"SLC35E2\", colnames(df))]"
   ]
  },
  {
   "cell_type": "code",
   "execution_count": 15,
   "id": "3f74528e",
   "metadata": {},
   "outputs": [],
   "source": [
    "eqtl = \"SLC35E2_.1_1660978_C_A\""
   ]
  },
  {
   "cell_type": "code",
   "execution_count": 16,
   "id": "0c98c8d9",
   "metadata": {},
   "outputs": [],
   "source": [
    "gene_list = c()\n",
    "for (gene in genes){\n",
    "    gene_list = c(gene_list, cor(as.numeric(df1[gene,]), df[,eqtl]))\n",
    "}\n",
    "names(gene_list) = genes\n",
    "gene_list = gene_list[order(gene_list, decreasing=T)]"
   ]
  },
  {
   "cell_type": "code",
   "execution_count": 17,
   "id": "d095314b",
   "metadata": {},
   "outputs": [
    {
     "data": {
      "text/html": [
       "13703"
      ],
      "text/latex": [
       "13703"
      ],
      "text/markdown": [
       "13703"
      ],
      "text/plain": [
       "[1] 13703"
      ]
     },
     "metadata": {},
     "output_type": "display_data"
    }
   ],
   "source": [
    "length(gene_list)"
   ]
  },
  {
   "cell_type": "code",
   "execution_count": 18,
   "id": "6b80a19d",
   "metadata": {},
   "outputs": [
    {
     "data": {
      "image/png": "[encoded data removed]",
      "text/plain": [
       "Plot with title “Histogram of gene_list”"
      ]
     },
     "metadata": {},
     "output_type": "display_data"
    }
   ],
   "source": [
    "hist(gene_list)"
   ]
  },
  {
   "cell_type": "code",
   "execution_count": 24,
   "id": "edce68ee",
   "metadata": {},
   "outputs": [
    {
     "data": {
      "text/html": [
       "<table>\n",
       "<thead><tr><th scope=col>query</th><th scope=col>significant</th><th scope=col>p_value</th><th scope=col>term_size</th><th scope=col>query_size</th><th scope=col>intersection_size</th><th scope=col>precision</th><th scope=col>recall</th><th scope=col>term_id</th><th scope=col>source</th><th scope=col>term_name</th><th scope=col>effective_domain_size</th><th scope=col>source_order</th><th scope=col>parents</th></tr></thead>\n",
       "<tbody>\n",
       "\t<tr><td>query_1                                             </td><td>TRUE                                                </td><td>6.902270e-11                                        </td><td>2484                                                </td><td>486                                                 </td><td>129                                                 </td><td>0.26543210                                          </td><td>0.05193237                                          </td><td>GO:0007399                                          </td><td>GO:BP                                               </td><td>nervous system development                          </td><td>18123                                               </td><td> 3289                                               </td><td>GO:0048731                                          </td></tr>\n",
       "\t<tr><td>query_1                                             </td><td>TRUE                                                </td><td>1.436149e-10                                        </td><td> 747                                                </td><td>362                                                 </td><td> 50                                                 </td><td>0.13812155                                          </td><td>0.06693440                                          </td><td>GO:0099536                                          </td><td>GO:BP                                               </td><td>synaptic signaling                                  </td><td>18123                                               </td><td>22390                                               </td><td>GO:0007267                                          </td></tr>\n",
       "\t<tr><td>query_1                                             </td><td>TRUE                                                </td><td>3.931150e-10                                        </td><td> 713                                                </td><td>362                                                 </td><td> 48                                                 </td><td>0.13259669                                          </td><td>0.06732118                                          </td><td>GO:0007268                                          </td><td>GO:BP                                               </td><td>chemical synaptic transmission                      </td><td>18123                                               </td><td> 3172                                               </td><td>GO:0098916                                          </td></tr>\n",
       "\t<tr><td>query_1                                             </td><td>TRUE                                                </td><td>3.931150e-10                                        </td><td> 713                                                </td><td>362                                                 </td><td> 48                                                 </td><td>0.13259669                                          </td><td>0.06732118                                          </td><td>GO:0098916                                          </td><td>GO:BP                                               </td><td>anterograde trans-synaptic signaling                </td><td>18123                                               </td><td>22221                                               </td><td>GO:0099537                                          </td></tr>\n",
       "\t<tr><td>query_1                                             </td><td>TRUE                                                </td><td>5.937664e-10                                        </td><td> 721                                                </td><td>362                                                 </td><td> 48                                                 </td><td>0.13259669                                          </td><td>0.06657420                                          </td><td>GO:0099537                                          </td><td>GO:BP                                               </td><td>trans-synaptic signaling                            </td><td>18123                                               </td><td>22391                                               </td><td>GO:0099536                                          </td></tr>\n",
       "\t<tr><td>query_1                                             </td><td>TRUE                                                </td><td>4.176148e-08                                        </td><td>  62                                                </td><td>439                                                 </td><td> 15                                                 </td><td>0.03416856                                          </td><td>0.24193548                                          </td><td>GO:0098930                                          </td><td>GO:BP                                               </td><td>axonal transport                                    </td><td>18123                                               </td><td>22231                                               </td><td>GO:0008088                                          </td></tr>\n",
       "\t<tr><td>query_1                                             </td><td>TRUE                                                </td><td>4.428443e-08                                        </td><td>  73                                                </td><td>439                                                 </td><td> 16                                                 </td><td>0.03644647                                          </td><td>0.21917808                                          </td><td>GO:0008088                                          </td><td>GO:BP                                               </td><td>axo-dendritic transport                             </td><td>18123                                               </td><td> 3538                                               </td><td>GO:0010970                                          </td></tr>\n",
       "\t<tr><td>query_1                                             </td><td>TRUE                                                </td><td>5.209740e-08                                        </td><td> 200                                                </td><td>439                                                 </td><td> 25                                                 </td><td>0.05694761                                          </td><td>0.12500000                                          </td><td>GO:0030705                                          </td><td>GO:BP                                               </td><td>cytoskeleton-dependent intracellular transport      </td><td>18123                                               </td><td> 7973                                               </td><td>GO:0046907                                          </td></tr>\n",
       "\t<tr><td>query_1                                             </td><td>TRUE                                                </td><td>4.749102e-07                                        </td><td> 223                                                </td><td>334                                                 </td><td> 22                                                 </td><td>0.06586826                                          </td><td>0.09865471                                          </td><td>GO:0006836                                          </td><td>GO:BP                                               </td><td>neurotransmitter transport                          </td><td>18123                                               </td><td> 2798                                               </td><td>GO:0006810                                          </td></tr>\n",
       "\t<tr><td>query_1                                             </td><td>TRUE                                                </td><td>8.878985e-07                                        </td><td>1159                                                </td><td>486                                                 </td><td> 69                                                 </td><td>0.14197531                                          </td><td>0.05953408                                          </td><td>GO:0048666                                          </td><td>GO:BP                                               </td><td>neuron development                                  </td><td>18123                                               </td><td>15012                                               </td><td>GO:0030182, GO:0048468                              </td></tr>\n",
       "\t<tr><td>query_1                                             </td><td>TRUE                                                </td><td>2.316963e-06                                        </td><td> 675                                                </td><td>471                                                 </td><td> 47                                                 </td><td>0.09978769                                          </td><td>0.06962963                                          </td><td>GO:0044283                                          </td><td>GO:BP                                               </td><td>small molecule biosynthetic process                 </td><td>18123                                               </td><td>12755                                               </td><td>GO:0009058, GO:0044281                              </td></tr>\n",
       "\t<tr><td>query_1                                             </td><td>TRUE                                                </td><td>2.431906e-06                                        </td><td> 434                                                </td><td>361                                                 </td><td> 31                                                 </td><td>0.08587258                                          </td><td>0.07142857                                          </td><td>GO:0050804                                          </td><td>GO:BP                                               </td><td>modulation of chemical synaptic transmission        </td><td>18123                                               </td><td>15379                                               </td><td>GO:0007268, GO:0099177                              </td></tr>\n",
       "\t<tr><td>query_1                                             </td><td>TRUE                                                </td><td>2.488557e-06                                        </td><td> 221                                                </td><td>334                                                 </td><td> 21                                                 </td><td>0.06287425                                          </td><td>0.09502262                                          </td><td>GO:0001505                                          </td><td>GO:BP                                               </td><td>regulation of neurotransmitter levels               </td><td>18123                                               </td><td>  435                                               </td><td>GO:0065008                                          </td></tr>\n",
       "\t<tr><td>query_1                                             </td><td>TRUE                                                </td><td>2.571662e-06                                        </td><td> 435                                                </td><td>361                                                 </td><td> 31                                                 </td><td>0.08587258                                          </td><td>0.07126437                                          </td><td>GO:0099177                                          </td><td>GO:BP                                               </td><td>regulation of trans-synaptic signaling              </td><td>18123                                               </td><td>22360                                               </td><td>GO:0010646, GO:0023051, GO:0099537                  </td></tr>\n",
       "\t<tr><td>query_1                                             </td><td>TRUE                                                </td><td>2.620196e-06                                        </td><td> 228                                                </td><td>499                                                 </td><td> 26                                                 </td><td>0.05210421                                          </td><td>0.11403509                                          </td><td>GO:0051648                                          </td><td>GO:BP                                               </td><td>vesicle localization                                </td><td>18123                                               </td><td>16053                                               </td><td>GO:0051640                                          </td></tr>\n",
       "\t<tr><td>query_1                                             </td><td>TRUE                                                </td><td>3.671398e-06                                        </td><td>1021                                                </td><td>486                                                 </td><td> 62                                                 </td><td>0.12757202                                          </td><td>0.06072478                                          </td><td>GO:0031175                                          </td><td>GO:BP                                               </td><td>neuron projection development                       </td><td>18123                                               </td><td> 8239                                               </td><td>GO:0048666, GO:0120036                              </td></tr>\n",
       "\t<tr><td>query_1                                             </td><td>TRUE                                                </td><td>4.315845e-06                                        </td><td>1413                                                </td><td>486                                                 </td><td> 77                                                 </td><td>0.15843621                                          </td><td>0.05449398                                          </td><td>GO:0140352                                          </td><td>GO:BP                                               </td><td>export from cell                                    </td><td>18123                                               </td><td>23108                                               </td><td>GO:0006810, GO:0009987                              </td></tr>\n",
       "\t<tr><td>query_1                                             </td><td>TRUE                                                </td><td>6.803196e-06                                        </td><td> 196                                                </td><td>439                                                 </td><td> 22                                                 </td><td>0.05011390                                          </td><td>0.11224490                                          </td><td>GO:0099111                                          </td><td>GO:BP                                               </td><td>microtubule-based transport                         </td><td>18123                                               </td><td>22318                                               </td><td>GO:0006810, GO:0007018                              </td></tr>\n",
       "\t<tr><td>query_1                                             </td><td>TRUE                                                </td><td>6.933835e-06                                        </td><td> 162                                                </td><td>439                                                 </td><td> 20                                                 </td><td>0.04555809                                          </td><td>0.12345679                                          </td><td>GO:0010970                                          </td><td>GO:BP                                               </td><td>transport along microtubule                         </td><td>18123                                               </td><td> 5101                                               </td><td>GO:0030705, GO:0099111                              </td></tr>\n",
       "\t<tr><td>query_1                                             </td><td>TRUE                                                </td><td>9.218900e-06                                        </td><td>  58                                                </td><td>486                                                 </td><td> 13                                                 </td><td>0.02674897                                          </td><td>0.22413793                                          </td><td>GO:0097479                                          </td><td>GO:BP                                               </td><td>synaptic vesicle localization                       </td><td>18123                                               </td><td>21910                                               </td><td>GO:0051648                                          </td></tr>\n",
       "\t<tr><td>query_1                                             </td><td>TRUE                                                </td><td>1.308113e-05                                        </td><td>  48                                                </td><td>499                                                 </td><td> 12                                                 </td><td>0.02404810                                          </td><td>0.25000000                                          </td><td>GO:0047496                                          </td><td>GO:BP                                               </td><td>vesicle transport along microtubule                 </td><td>18123                                               </td><td>14525                                               </td><td>GO:0072384, GO:0099518                              </td></tr>\n",
       "\t<tr><td>query_1                                             </td><td>TRUE                                                </td><td>1.433259e-05                                        </td><td>1839                                                </td><td>486                                                 </td><td> 91                                                 </td><td>0.18724280                                          </td><td>0.04948341                                          </td><td>GO:0051049                                          </td><td>GO:BP                                               </td><td>regulation of transport                             </td><td>18123                                               </td><td>15586                                               </td><td>GO:0006810, GO:0032879                              </td></tr>\n",
       "\t<tr><td>query_1                                             </td><td>TRUE                                                </td><td>1.666405e-05                                        </td><td>1735                                                </td><td>221                                                 </td><td> 50                                                 </td><td>0.22624434                                          </td><td>0.02881844                                          </td><td>GO:0007267                                          </td><td>GO:BP                                               </td><td>cell-cell signaling                                 </td><td>18123                                               </td><td> 3171                                               </td><td>GO:0007154, GO:0023052                              </td></tr>\n",
       "\t<tr><td>query_1                                             </td><td>TRUE                                                </td><td>1.700104e-05                                        </td><td> 754                                                </td><td>449                                                 </td><td> 47                                                 </td><td>0.10467706                                          </td><td>0.06233422                                          </td><td>GO:0000904                                          </td><td>GO:BP                                               </td><td>cell morphogenesis involved in differentiation      </td><td>18123                                               </td><td>  308                                               </td><td>GO:0000902, GO:0048468                              </td></tr>\n",
       "\t<tr><td>query_1                                             </td><td>TRUE                                                </td><td>2.115588e-05                                        </td><td>1596                                                </td><td>504                                                 </td><td> 84                                                 </td><td>0.16666667                                          </td><td>0.05263158                                          </td><td>GO:0120036                                          </td><td>GO:BP                                               </td><td>plasma membrane bounded cell projection organization</td><td>18123                                               </td><td>22821                                               </td><td>GO:0030030                                          </td></tr>\n",
       "\t<tr><td>query_1                                             </td><td>TRUE                                                </td><td>2.515146e-05                                        </td><td> 688                                                </td><td>449                                                 </td><td> 44                                                 </td><td>0.09799555                                          </td><td>0.06395349                                          </td><td>GO:0048858                                          </td><td>GO:BP                                               </td><td>cell projection morphogenesis                       </td><td>18123                                               </td><td>15193                                               </td><td>GO:0000902, GO:0030030, GO:0032990                  </td></tr>\n",
       "\t<tr><td>query_1                                             </td><td>TRUE                                                </td><td>2.784287e-05                                        </td><td>  73                                                </td><td>499                                                 </td><td> 14                                                 </td><td>0.02805611                                          </td><td>0.19178082                                          </td><td>GO:0099518                                          </td><td>GO:BP                                               </td><td>vesicle cytoskeletal trafficking                    </td><td>18123                                               </td><td>22382                                               </td><td>GO:0030705, GO:0051650                              </td></tr>\n",
       "\t<tr><td>query_1                                             </td><td>TRUE                                                </td><td>3.080435e-05                                        </td><td>1636                                                </td><td>504                                                 </td><td> 85                                                 </td><td>0.16865079                                          </td><td>0.05195599                                          </td><td>GO:0030030                                          </td><td>GO:BP                                               </td><td>cell projection organization                        </td><td>18123                                               </td><td> 7699                                               </td><td>GO:0016043                                          </td></tr>\n",
       "\t<tr><td>query_1                                             </td><td>TRUE                                                </td><td>3.384582e-05                                        </td><td> 670                                                </td><td>449                                                 </td><td> 43                                                 </td><td>0.09576837                                          </td><td>0.06417910                                          </td><td>GO:0048812                                          </td><td>GO:BP                                               </td><td>neuron projection morphogenesis                     </td><td>18123                                               </td><td>15148                                               </td><td>GO:0031175, GO:0120039                              </td></tr>\n",
       "\t<tr><td>query_1                                             </td><td>TRUE                                                </td><td>3.468184e-05                                        </td><td>1427                                                </td><td>486                                                 </td><td> 75                                                 </td><td>0.15432099                                          </td><td>0.05255781                                          </td><td>GO:0030182                                          </td><td>GO:BP                                               </td><td>neuron differentiation                              </td><td>18123                                               </td><td> 7753                                               </td><td>GO:0030154, GO:0048699                              </td></tr>\n",
       "\t<tr><td>...</td><td>...</td><td>...</td><td>...</td><td>...</td><td>...</td><td>...</td><td>...</td><td>...</td><td>...</td><td>...</td><td>...</td><td>...</td><td>...</td></tr>\n",
       "\t<tr><td>query_1                                                                    </td><td>TRUE                                                                       </td><td>0.022448542                                                                </td><td> 7781                                                                      </td><td>477                                                                        </td><td>233                                                                        </td><td>0.48846960                                                                 </td><td>0.029944737                                                                </td><td>TF:M04152                                                                  </td><td>TF                                                                         </td><td>Factor: TFAP2C; motif: NGCCCNNRGGCA                                        </td><td>19917                                                                      </td><td>8220                                                                       </td><td>TF:M00000                                                                  </td></tr>\n",
       "\t<tr><td>query_1                                                                    </td><td>TRUE                                                                       </td><td>0.022984801                                                                </td><td> 7671                                                                      </td><td>502                                                                        </td><td>241                                                                        </td><td>0.48007968                                                                 </td><td>0.031417025                                                                </td><td>TF:M10115                                                                  </td><td>TF                                                                         </td><td>Factor: LRF; motif: NRGGGKCKY                                              </td><td>19917                                                                      </td><td>8756                                                                       </td><td>TF:M00000                                                                  </td></tr>\n",
       "\t<tr><td>query_1                                                                    </td><td>TRUE                                                                       </td><td>0.023278270                                                                </td><td> 2041                                                                      </td><td>494                                                                        </td><td> 82                                                                        </td><td>0.16599190                                                                 </td><td>0.040176384                                                                </td><td>TF:M03899                                                                  </td><td>TF                                                                         </td><td>Factor: EGR4; motif: NNMCGCCCACGCANNN                                      </td><td>19917                                                                      </td><td>1584                                                                       </td><td>TF:M00000                                                                  </td></tr>\n",
       "\t<tr><td>query_1                                                                    </td><td>TRUE                                                                       </td><td>0.023590100                                                                </td><td> 1382                                                                      </td><td>450                                                                        </td><td> 57                                                                        </td><td>0.12666667                                                                 </td><td>0.041244573                                                                </td><td>TF:M00652                                                                  </td><td>TF                                                                         </td><td>Factor: NRF-1; motif: CGCATGCGCR                                           </td><td>19917                                                                      </td><td>5778                                                                       </td><td>TF:M00000                                                                  </td></tr>\n",
       "\t<tr><td>query_1                                                                    </td><td>TRUE                                                                       </td><td>0.025134530                                                                </td><td> 5165                                                                      </td><td>503                                                                        </td><td>174                                                                        </td><td>0.34592445                                                                 </td><td>0.033688287                                                                </td><td>TF:M03814                                                                  </td><td>TF                                                                         </td><td>Factor: BTEB2; motif: GNAGGGGGNGGGSSNN                                     </td><td>19917                                                                      </td><td> 594                                                                       </td><td>TF:M00000                                                                  </td></tr>\n",
       "\t<tr><td>query_1                                                                    </td><td>TRUE                                                                       </td><td>0.027499680                                                                </td><td> 3311                                                                      </td><td>502                                                                        </td><td>121                                                                        </td><td>0.24103586                                                                 </td><td>0.036544850                                                                </td><td>TF:M01273                                                                  </td><td>TF                                                                         </td><td>Factor: SP4; motif: SCCCCGCCCCS                                            </td><td>19917                                                                      </td><td>7556                                                                       </td><td>TF:M00000                                                                  </td></tr>\n",
       "\t<tr><td>query_1                                                                    </td><td>TRUE                                                                       </td><td>0.028000574                                                                </td><td>14245                                                                      </td><td>498                                                                        </td><td>398                                                                        </td><td>0.79919679                                                                 </td><td>0.027939628                                                                </td><td>TF:M04710                                                                  </td><td>TF                                                                         </td><td>Factor: CHD2; motif: TCTCGCGAG                                             </td><td>19917                                                                      </td><td> 796                                                                       </td><td>TF:M00000                                                                  </td></tr>\n",
       "\t<tr><td>query_1                                                                    </td><td>TRUE                                                                       </td><td>0.028064795                                                                </td><td> 6582                                                                      </td><td>420                                                                        </td><td>181                                                                        </td><td>0.43095238                                                                 </td><td>0.027499240                                                                </td><td>TF:M04146                                                                  </td><td>TF                                                                         </td><td>Factor: TFAP2A; motif: YGCCCNNRGGCN                                        </td><td>19917                                                                      </td><td>8176                                                                       </td><td>TF:M00000                                                                  </td></tr>\n",
       "\t<tr><td>query_1                                                                    </td><td>TRUE                                                                       </td><td>0.029709328                                                                </td><td> 5338                                                                      </td><td>505                                                                        </td><td>179                                                                        </td><td>0.35445545                                                                 </td><td>0.033533158                                                                </td><td>TF:M11877_1                                                                </td><td>TF                                                                         </td><td>Factor: pax-2; motif: NCGTCACGCNYSRNYGCNYN; match class: 1                 </td><td>19917                                                                      </td><td>6051                                                                       </td><td>TF:M11877                                                                  </td></tr>\n",
       "\t<tr><td>query_1                                                                    </td><td>TRUE                                                                       </td><td>0.031866384                                                                </td><td> 7954                                                                      </td><td>503                                                                        </td><td>248                                                                        </td><td>0.49304175                                                                 </td><td>0.031179281                                                                </td><td>TF:M11081_1                                                                </td><td>TF                                                                         </td><td>Factor: SREBP-1; motif: RTCRCGTGAY; match class: 1                         </td><td>19917                                                                      </td><td>7639                                                                       </td><td>TF:M11081                                                                  </td></tr>\n",
       "\t<tr><td>query_1                                                                    </td><td>TRUE                                                                       </td><td>0.032744686                                                                </td><td> 6406                                                                      </td><td>478                                                                        </td><td>198                                                                        </td><td>0.41422594                                                                 </td><td>0.030908523                                                                </td><td>TF:M07041_1                                                                </td><td>TF                                                                         </td><td>Factor: HDAC1; motif: KGCARGGTC; match class: 1                            </td><td>19917                                                                      </td><td>3171                                                                       </td><td>TF:M07041                                                                  </td></tr>\n",
       "\t<tr><td>query_1                                                                    </td><td>TRUE                                                                       </td><td>0.032969854                                                                </td><td> 5637                                                                      </td><td>502                                                                        </td><td>186                                                                        </td><td>0.37051793                                                                 </td><td>0.032996275                                                                </td><td>TF:M00470_1                                                                </td><td>TF                                                                         </td><td>Factor: AP-2gamma; motif: GCCYNNGGS; match class: 1                        </td><td>19917                                                                      </td><td> 137                                                                       </td><td>TF:M00470                                                                  </td></tr>\n",
       "\t<tr><td>query_1                                                                    </td><td>TRUE                                                                       </td><td>0.033650763                                                                </td><td>12479                                                                      </td><td>501                                                                        </td><td>359                                                                        </td><td>0.71656687                                                                 </td><td>0.028768331                                                                </td><td>TF:M04107                                                                  </td><td>TF                                                                         </td><td>Factor: RUNX2; motif: WRACCGCANWAACCGCAN                                   </td><td>19917                                                                      </td><td>7032                                                                       </td><td>TF:M00000                                                                  </td></tr>\n",
       "\t<tr><td>query_1                                                                    </td><td>TRUE                                                                       </td><td>0.035515711                                                                </td><td> 3047                                                                      </td><td>498                                                                        </td><td>112                                                                        </td><td>0.22489960                                                                 </td><td>0.036757466                                                                </td><td>TF:M03806                                                                  </td><td>TF                                                                         </td><td>Factor: ZBTB7C; motif: GKCCCGGGCKG                                         </td><td>19917                                                                      </td><td>8770                                                                       </td><td>TF:M00000                                                                  </td></tr>\n",
       "\t<tr><td>query_1                                                                    </td><td>TRUE                                                                       </td><td>0.035585706                                                                </td><td> 2078                                                                      </td><td>506                                                                        </td><td> 84                                                                        </td><td>0.16600791                                                                 </td><td>0.040423484                                                                </td><td>TF:M07249_1                                                                </td><td>TF                                                                         </td><td>Factor: ctcf; motif: CCNCNAGRKGGCRSTN; match class: 1                      </td><td>19917                                                                      </td><td>1099                                                                       </td><td>TF:M07249                                                                  </td></tr>\n",
       "\t<tr><td>query_1                                                                    </td><td>TRUE                                                                       </td><td>0.036152509                                                                </td><td> 1327                                                                      </td><td>475                                                                        </td><td> 57                                                                        </td><td>0.12000000                                                                 </td><td>0.042954032                                                                </td><td>TF:M09603_1                                                                </td><td>TF                                                                         </td><td>Factor: Egr-1; motif: NNNNNGYGKGGGNGGGNN; match class: 1                   </td><td>19917                                                                      </td><td>1541                                                                       </td><td>TF:M09603                                                                  </td></tr>\n",
       "\t<tr><td>query_1                                                                    </td><td>TRUE                                                                       </td><td>0.037911033                                                                </td><td> 4184                                                                      </td><td>456                                                                        </td><td>134                                                                        </td><td>0.29385965                                                                 </td><td>0.032026769                                                                </td><td>TF:M10086_1                                                                </td><td>TF                                                                         </td><td>Factor: TAFII250; motif: RARRWGGCGGMGGNGR; match class: 1                  </td><td>19917                                                                      </td><td>7815                                                                       </td><td>TF:M10086                                                                  </td></tr>\n",
       "\t<tr><td>query_1                                                                    </td><td>TRUE                                                                       </td><td>0.041167912                                                                </td><td>10034                                                                      </td><td>497                                                                        </td><td>297                                                                        </td><td>0.59758551                                                                 </td><td>0.029599362                                                                </td><td>TF:M09896                                                                  </td><td>TF                                                                         </td><td>Factor: E2F-7; motif: GRGGCGGGAANNN                                        </td><td>19917                                                                      </td><td>1458                                                                       </td><td>TF:M00000                                                                  </td></tr>\n",
       "\t<tr><td>query_1                                                                    </td><td>TRUE                                                                       </td><td>0.041870319                                                                </td><td> 2313                                                                      </td><td>506                                                                        </td><td> 91                                                                        </td><td>0.17984190                                                                 </td><td>0.039342845                                                                </td><td>TF:M00665_1                                                                </td><td>TF                                                                         </td><td>Factor: Sp3; motif: ASMCTTGGGSRGGG; match class: 1                         </td><td>19917                                                                      </td><td>7545                                                                       </td><td>TF:M00665                                                                  </td></tr>\n",
       "\t<tr><td>query_1                                                                    </td><td>TRUE                                                                       </td><td>0.042092340                                                                </td><td> 8827                                                                      </td><td> 21                                                                        </td><td> 19                                                                        </td><td>0.90476190                                                                 </td><td>0.002152487                                                                </td><td>TF:M02018                                                                  </td><td>TF                                                                         </td><td>Factor: HTF4; motif: CASCTGB                                               </td><td>19917                                                                      </td><td>4030                                                                       </td><td>TF:M00000                                                                  </td></tr>\n",
       "\t<tr><td>query_1                                                                    </td><td>TRUE                                                                       </td><td>0.042092340                                                                </td><td> 8827                                                                      </td><td> 21                                                                        </td><td> 19                                                                        </td><td>0.90476190                                                                 </td><td>0.002152487                                                                </td><td>TF:M03831                                                                  </td><td>TF                                                                         </td><td>Factor: MRF4; motif: CASCTGC                                               </td><td>19917                                                                      </td><td>5010                                                                       </td><td>TF:M00000                                                                  </td></tr>\n",
       "\t<tr><td>query_1                                                                    </td><td>TRUE                                                                       </td><td>0.044599384                                                                </td><td> 2599                                                                      </td><td>465                                                                        </td><td> 93                                                                        </td><td>0.20000000                                                                 </td><td>0.035782993                                                                </td><td>TF:M10020                                                                  </td><td>TF                                                                         </td><td>Factor: OSR2; motif: NNNNCWGCTNCTGNNG                                      </td><td>19917                                                                      </td><td>5934                                                                       </td><td>TF:M00000                                                                  </td></tr>\n",
       "\t<tr><td>query_1                                                                    </td><td>TRUE                                                                       </td><td>0.046509833                                                                </td><td> 2203                                                                      </td><td>503                                                                        </td><td> 87                                                                        </td><td>0.17296223                                                                 </td><td>0.039491602                                                                </td><td>TF:M07208_1                                                                </td><td>TF                                                                         </td><td>Factor: EGR1; motif: NCNCCGCCCCCGCN; match class: 1                        </td><td>19917                                                                      </td><td>1539                                                                       </td><td>TF:M07208                                                                  </td></tr>\n",
       "\t<tr><td>query_1                                                                    </td><td>TRUE                                                                       </td><td>0.049505354                                                                </td><td> 4566                                                                      </td><td>444                                                                        </td><td>140                                                                        </td><td>0.31531532                                                                 </td><td>0.030661410                                                                </td><td>TF:M09896_1                                                                </td><td>TF                                                                         </td><td>Factor: E2F-7; motif: GRGGCGGGAANNN; match class: 1                        </td><td>19917                                                                      </td><td>1459                                                                       </td><td>TF:M09896                                                                  </td></tr>\n",
       "\t<tr><td>query_1                                                                    </td><td>TRUE                                                                       </td><td>0.002531501                                                                </td><td>    7                                                                      </td><td> 60                                                                        </td><td>  3                                                                        </td><td>0.05000000                                                                 </td><td>0.428571429                                                                </td><td>WP:WP3963                                                                  </td><td>WP                                                                         </td><td>Mevalonate pathway                                                         </td><td> 7562                                                                      </td><td> 581                                                                       </td><td>WP:000000                                                                  </td></tr>\n",
       "\t<tr><td>query_1                                                                    </td><td>TRUE                                                                       </td><td>0.003249291                                                                </td><td>   47                                                                      </td><td>471                                                                        </td><td> 12                                                                        </td><td>0.02547771                                                                 </td><td>0.255319149                                                                </td><td>WP:WP4718                                                                  </td><td>WP                                                                         </td><td>Cholesterol metabolism (includes both Bloch and Kandutsch-Russell pathways)</td><td> 7562                                                                      </td><td> 466                                                                       </td><td>WP:000000                                                                  </td></tr>\n",
       "\t<tr><td>query_1                                                                    </td><td>TRUE                                                                       </td><td>0.003556784                                                                </td><td>   42                                                                      </td><td>449                                                                        </td><td> 11                                                                        </td><td>0.02449889                                                                 </td><td>0.261904762                                                                </td><td>WP:WP4148                                                                  </td><td>WP                                                                         </td><td>Splicing factor NOVA regulated synaptic proteins                           </td><td> 7562                                                                      </td><td> 572                                                                       </td><td>WP:000000                                                                  </td></tr>\n",
       "\t<tr><td>query_1                                                                    </td><td>TRUE                                                                       </td><td>0.015551896                                                                </td><td>   51                                                                      </td><td> 14                                                                        </td><td>  3                                                                        </td><td>0.21428571                                                                 </td><td>0.058823529                                                                </td><td>WP:WP4539                                                                  </td><td>WP                                                                         </td><td>Synaptic signaling pathways associated with autism spectrum disorder       </td><td> 7562                                                                      </td><td> 594                                                                       </td><td>WP:000000                                                                  </td></tr>\n",
       "\t<tr><td>query_1                                                                    </td><td>TRUE                                                                       </td><td>0.027181439                                                                </td><td>   15                                                                      </td><td>471                                                                        </td><td>  6                                                                        </td><td>0.01273885                                                                 </td><td>0.400000000                                                                </td><td>WP:WP197                                                                   </td><td>WP                                                                         </td><td>Cholesterol Biosynthesis Pathway                                           </td><td> 7562                                                                      </td><td> 652                                                                       </td><td>WP:000000                                                                  </td></tr>\n",
       "\t<tr><td>query_1                                                                    </td><td>TRUE                                                                       </td><td>0.029592961                                                                </td><td>   34                                                                      </td><td> 65                                                                        </td><td>  4                                                                        </td><td>0.06153846                                                                 </td><td>0.117647059                                                                </td><td>WP:WP4875                                                                  </td><td>WP                                                                         </td><td>Disruption of postsynaptic signalling by CNV                               </td><td> 7562                                                                      </td><td> 260                                                                       </td><td>WP:000000                                                                  </td></tr>\n",
       "</tbody>\n",
       "</table>\n"
      ],
      "text/latex": [
       "\\begin{tabular}{r|llllllllllllll}\n",
       " query & significant & p\\_value & term\\_size & query\\_size & intersection\\_size & precision & recall & term\\_id & source & term\\_name & effective\\_domain\\_size & source\\_order & parents\\\\\n",
       "\\hline\n",
       "\t query\\_1                                            & TRUE                                                 & 6.902270e-11                                         & 2484                                                 & 486                                                  & 129                                                  & 0.26543210                                           & 0.05193237                                           & GO:0007399                                           & GO:BP                                                & nervous system development                           & 18123                                                &  3289                                                & GO:0048731                                          \\\\\n",
       "\t query\\_1                                            & TRUE                                                 & 1.436149e-10                                         &  747                                                 & 362                                                  &  50                                                  & 0.13812155                                           & 0.06693440                                           & GO:0099536                                           & GO:BP                                                & synaptic signaling                                   & 18123                                                & 22390                                                & GO:0007267                                          \\\\\n",
       "\t query\\_1                                            & TRUE                                                 & 3.931150e-10                                         &  713                                                 & 362                                                  &  48                                                  & 0.13259669                                           & 0.06732118                                           & GO:0007268                                           & GO:BP                                                & chemical synaptic transmission                       & 18123                                                &  3172                                                & GO:0098916                                          \\\\\n",
       "\t query\\_1                                            & TRUE                                                 & 3.931150e-10                                         &  713                                                 & 362                                                  &  48                                                  & 0.13259669                                           & 0.06732118                                           & GO:0098916                                           & GO:BP                                                & anterograde trans-synaptic signaling                 & 18123                                                & 22221                                                & GO:0099537                                          \\\\\n",
       "\t query\\_1                                            & TRUE                                                 & 5.937664e-10                                         &  721                                                 & 362                                                  &  48                                                  & 0.13259669                                           & 0.06657420                                           & GO:0099537                                           & GO:BP                                                & trans-synaptic signaling                             & 18123                                                & 22391                                                & GO:0099536                                          \\\\\n",
       "\t query\\_1                                            & TRUE                                                 & 4.176148e-08                                         &   62                                                 & 439                                                  &  15                                                  & 0.03416856                                           & 0.24193548                                           & GO:0098930                                           & GO:BP                                                & axonal transport                                     & 18123                                                & 22231                                                & GO:0008088                                          \\\\\n",
       "\t query\\_1                                            & TRUE                                                 & 4.428443e-08                                         &   73                                                 & 439                                                  &  16                                                  & 0.03644647                                           & 0.21917808                                           & GO:0008088                                           & GO:BP                                                & axo-dendritic transport                              & 18123                                                &  3538                                                & GO:0010970                                          \\\\\n",
       "\t query\\_1                                            & TRUE                                                 & 5.209740e-08                                         &  200                                                 & 439                                                  &  25                                                  & 0.05694761                                           & 0.12500000                                           & GO:0030705                                           & GO:BP                                                & cytoskeleton-dependent intracellular transport       & 18123                                                &  7973                                                & GO:0046907                                          \\\\\n",
       "\t query\\_1                                            & TRUE                                                 & 4.749102e-07                                         &  223                                                 & 334                                                  &  22                                                  & 0.06586826                                           & 0.09865471                                           & GO:0006836                                           & GO:BP                                                & neurotransmitter transport                           & 18123                                                &  2798                                                & GO:0006810                                          \\\\\n",
       "\t query\\_1                                            & TRUE                                                 & 8.878985e-07                                         & 1159                                                 & 486                                                  &  69                                                  & 0.14197531                                           & 0.05953408                                           & GO:0048666                                           & GO:BP                                                & neuron development                                   & 18123                                                & 15012                                                & GO:0030182, GO:0048468                              \\\\\n",
       "\t query\\_1                                            & TRUE                                                 & 2.316963e-06                                         &  675                                                 & 471                                                  &  47                                                  & 0.09978769                                           & 0.06962963                                           & GO:0044283                                           & GO:BP                                                & small molecule biosynthetic process                  & 18123                                                & 12755                                                & GO:0009058, GO:0044281                              \\\\\n",
       "\t query\\_1                                            & TRUE                                                 & 2.431906e-06                                         &  434                                                 & 361                                                  &  31                                                  & 0.08587258                                           & 0.07142857                                           & GO:0050804                                           & GO:BP                                                & modulation of chemical synaptic transmission         & 18123                                                & 15379                                                & GO:0007268, GO:0099177                              \\\\\n",
       "\t query\\_1                                            & TRUE                                                 & 2.488557e-06                                         &  221                                                 & 334                                                  &  21                                                  & 0.06287425                                           & 0.09502262                                           & GO:0001505                                           & GO:BP                                                & regulation of neurotransmitter levels                & 18123                                                &   435                                                & GO:0065008                                          \\\\\n",
       "\t query\\_1                                            & TRUE                                                 & 2.571662e-06                                         &  435                                                 & 361                                                  &  31                                                  & 0.08587258                                           & 0.07126437                                           & GO:0099177                                           & GO:BP                                                & regulation of trans-synaptic signaling               & 18123                                                & 22360                                                & GO:0010646, GO:0023051, GO:0099537                  \\\\\n",
       "\t query\\_1                                            & TRUE                                                 & 2.620196e-06                                         &  228                                                 & 499                                                  &  26                                                  & 0.05210421                                           & 0.11403509                                           & GO:0051648                                           & GO:BP                                                & vesicle localization                                 & 18123                                                & 16053                                                & GO:0051640                                          \\\\\n",
       "\t query\\_1                                            & TRUE                                                 & 3.671398e-06                                         & 1021                                                 & 486                                                  &  62                                                  & 0.12757202                                           & 0.06072478                                           & GO:0031175                                           & GO:BP                                                & neuron projection development                        & 18123                                                &  8239                                                & GO:0048666, GO:0120036                              \\\\\n",
       "\t query\\_1                                            & TRUE                                                 & 4.315845e-06                                         & 1413                                                 & 486                                                  &  77                                                  & 0.15843621                                           & 0.05449398                                           & GO:0140352                                           & GO:BP                                                & export from cell                                     & 18123                                                & 23108                                                & GO:0006810, GO:0009987                              \\\\\n",
       "\t query\\_1                                            & TRUE                                                 & 6.803196e-06                                         &  196                                                 & 439                                                  &  22                                                  & 0.05011390                                           & 0.11224490                                           & GO:0099111                                           & GO:BP                                                & microtubule-based transport                          & 18123                                                & 22318                                                & GO:0006810, GO:0007018                              \\\\\n",
       "\t query\\_1                                            & TRUE                                                 & 6.933835e-06                                         &  162                                                 & 439                                                  &  20                                                  & 0.04555809                                           & 0.12345679                                           & GO:0010970                                           & GO:BP                                                & transport along microtubule                          & 18123                                                &  5101                                                & GO:0030705, GO:0099111                              \\\\\n",
       "\t query\\_1                                            & TRUE                                                 & 9.218900e-06                                         &   58                                                 & 486                                                  &  13                                                  & 0.02674897                                           & 0.22413793                                           & GO:0097479                                           & GO:BP                                                & synaptic vesicle localization                        & 18123                                                & 21910                                                & GO:0051648                                          \\\\\n",
       "\t query\\_1                                            & TRUE                                                 & 1.308113e-05                                         &   48                                                 & 499                                                  &  12                                                  & 0.02404810                                           & 0.25000000                                           & GO:0047496                                           & GO:BP                                                & vesicle transport along microtubule                  & 18123                                                & 14525                                                & GO:0072384, GO:0099518                              \\\\\n",
       "\t query\\_1                                            & TRUE                                                 & 1.433259e-05                                         & 1839                                                 & 486                                                  &  91                                                  & 0.18724280                                           & 0.04948341                                           & GO:0051049                                           & GO:BP                                                & regulation of transport                              & 18123                                                & 15586                                                & GO:0006810, GO:0032879                              \\\\\n",
       "\t query\\_1                                            & TRUE                                                 & 1.666405e-05                                         & 1735                                                 & 221                                                  &  50                                                  & 0.22624434                                           & 0.02881844                                           & GO:0007267                                           & GO:BP                                                & cell-cell signaling                                  & 18123                                                &  3171                                                & GO:0007154, GO:0023052                              \\\\\n",
       "\t query\\_1                                            & TRUE                                                 & 1.700104e-05                                         &  754                                                 & 449                                                  &  47                                                  & 0.10467706                                           & 0.06233422                                           & GO:0000904                                           & GO:BP                                                & cell morphogenesis involved in differentiation       & 18123                                                &   308                                                & GO:0000902, GO:0048468                              \\\\\n",
       "\t query\\_1                                            & TRUE                                                 & 2.115588e-05                                         & 1596                                                 & 504                                                  &  84                                                  & 0.16666667                                           & 0.05263158                                           & GO:0120036                                           & GO:BP                                                & plasma membrane bounded cell projection organization & 18123                                                & 22821                                                & GO:0030030                                          \\\\\n",
       "\t query\\_1                                            & TRUE                                                 & 2.515146e-05                                         &  688                                                 & 449                                                  &  44                                                  & 0.09799555                                           & 0.06395349                                           & GO:0048858                                           & GO:BP                                                & cell projection morphogenesis                        & 18123                                                & 15193                                                & GO:0000902, GO:0030030, GO:0032990                  \\\\\n",
       "\t query\\_1                                            & TRUE                                                 & 2.784287e-05                                         &   73                                                 & 499                                                  &  14                                                  & 0.02805611                                           & 0.19178082                                           & GO:0099518                                           & GO:BP                                                & vesicle cytoskeletal trafficking                     & 18123                                                & 22382                                                & GO:0030705, GO:0051650                              \\\\\n",
       "\t query\\_1                                            & TRUE                                                 & 3.080435e-05                                         & 1636                                                 & 504                                                  &  85                                                  & 0.16865079                                           & 0.05195599                                           & GO:0030030                                           & GO:BP                                                & cell projection organization                         & 18123                                                &  7699                                                & GO:0016043                                          \\\\\n",
       "\t query\\_1                                            & TRUE                                                 & 3.384582e-05                                         &  670                                                 & 449                                                  &  43                                                  & 0.09576837                                           & 0.06417910                                           & GO:0048812                                           & GO:BP                                                & neuron projection morphogenesis                      & 18123                                                & 15148                                                & GO:0031175, GO:0120039                              \\\\\n",
       "\t query\\_1                                            & TRUE                                                 & 3.468184e-05                                         & 1427                                                 & 486                                                  &  75                                                  & 0.15432099                                           & 0.05255781                                           & GO:0030182                                           & GO:BP                                                & neuron differentiation                               & 18123                                                &  7753                                                & GO:0030154, GO:0048699                              \\\\\n",
       "\t ... & ... & ... & ... & ... & ... & ... & ... & ... & ... & ... & ... & ... & ...\\\\\n",
       "\t query\\_1                                                                   & TRUE                                                                        & 0.022448542                                                                 &  7781                                                                       & 477                                                                         & 233                                                                         & 0.48846960                                                                  & 0.029944737                                                                 & TF:M04152                                                                   & TF                                                                          & Factor: TFAP2C; motif: NGCCCNNRGGCA                                         & 19917                                                                       & 8220                                                                        & TF:M00000                                                                  \\\\\n",
       "\t query\\_1                                                                   & TRUE                                                                        & 0.022984801                                                                 &  7671                                                                       & 502                                                                         & 241                                                                         & 0.48007968                                                                  & 0.031417025                                                                 & TF:M10115                                                                   & TF                                                                          & Factor: LRF; motif: NRGGGKCKY                                               & 19917                                                                       & 8756                                                                        & TF:M00000                                                                  \\\\\n",
       "\t query\\_1                                                                   & TRUE                                                                        & 0.023278270                                                                 &  2041                                                                       & 494                                                                         &  82                                                                         & 0.16599190                                                                  & 0.040176384                                                                 & TF:M03899                                                                   & TF                                                                          & Factor: EGR4; motif: NNMCGCCCACGCANNN                                       & 19917                                                                       & 1584                                                                        & TF:M00000                                                                  \\\\\n",
       "\t query\\_1                                                                   & TRUE                                                                        & 0.023590100                                                                 &  1382                                                                       & 450                                                                         &  57                                                                         & 0.12666667                                                                  & 0.041244573                                                                 & TF:M00652                                                                   & TF                                                                          & Factor: NRF-1; motif: CGCATGCGCR                                            & 19917                                                                       & 5778                                                                        & TF:M00000                                                                  \\\\\n",
       "\t query\\_1                                                                   & TRUE                                                                        & 0.025134530                                                                 &  5165                                                                       & 503                                                                         & 174                                                                         & 0.34592445                                                                  & 0.033688287                                                                 & TF:M03814                                                                   & TF                                                                          & Factor: BTEB2; motif: GNAGGGGGNGGGSSNN                                      & 19917                                                                       &  594                                                                        & TF:M00000                                                                  \\\\\n",
       "\t query\\_1                                                                   & TRUE                                                                        & 0.027499680                                                                 &  3311                                                                       & 502                                                                         & 121                                                                         & 0.24103586                                                                  & 0.036544850                                                                 & TF:M01273                                                                   & TF                                                                          & Factor: SP4; motif: SCCCCGCCCCS                                             & 19917                                                                       & 7556                                                                        & TF:M00000                                                                  \\\\\n",
       "\t query\\_1                                                                   & TRUE                                                                        & 0.028000574                                                                 & 14245                                                                       & 498                                                                         & 398                                                                         & 0.79919679                                                                  & 0.027939628                                                                 & TF:M04710                                                                   & TF                                                                          & Factor: CHD2; motif: TCTCGCGAG                                              & 19917                                                                       &  796                                                                        & TF:M00000                                                                  \\\\\n",
       "\t query\\_1                                                                   & TRUE                                                                        & 0.028064795                                                                 &  6582                                                                       & 420                                                                         & 181                                                                         & 0.43095238                                                                  & 0.027499240                                                                 & TF:M04146                                                                   & TF                                                                          & Factor: TFAP2A; motif: YGCCCNNRGGCN                                         & 19917                                                                       & 8176                                                                        & TF:M00000                                                                  \\\\\n",
       "\t query\\_1                                                                   & TRUE                                                                        & 0.029709328                                                                 &  5338                                                                       & 505                                                                         & 179                                                                         & 0.35445545                                                                  & 0.033533158                                                                 & TF:M11877\\_1                                                               & TF                                                                          & Factor: pax-2; motif: NCGTCACGCNYSRNYGCNYN; match class: 1                  & 19917                                                                       & 6051                                                                        & TF:M11877                                                                  \\\\\n",
       "\t query\\_1                                                                   & TRUE                                                                        & 0.031866384                                                                 &  7954                                                                       & 503                                                                         & 248                                                                         & 0.49304175                                                                  & 0.031179281                                                                 & TF:M11081\\_1                                                               & TF                                                                          & Factor: SREBP-1; motif: RTCRCGTGAY; match class: 1                          & 19917                                                                       & 7639                                                                        & TF:M11081                                                                  \\\\\n",
       "\t query\\_1                                                                   & TRUE                                                                        & 0.032744686                                                                 &  6406                                                                       & 478                                                                         & 198                                                                         & 0.41422594                                                                  & 0.030908523                                                                 & TF:M07041\\_1                                                               & TF                                                                          & Factor: HDAC1; motif: KGCARGGTC; match class: 1                             & 19917                                                                       & 3171                                                                        & TF:M07041                                                                  \\\\\n",
       "\t query\\_1                                                                   & TRUE                                                                        & 0.032969854                                                                 &  5637                                                                       & 502                                                                         & 186                                                                         & 0.37051793                                                                  & 0.032996275                                                                 & TF:M00470\\_1                                                               & TF                                                                          & Factor: AP-2gamma; motif: GCCYNNGGS; match class: 1                         & 19917                                                                       &  137                                                                        & TF:M00470                                                                  \\\\\n",
       "\t query\\_1                                                                   & TRUE                                                                        & 0.033650763                                                                 & 12479                                                                       & 501                                                                         & 359                                                                         & 0.71656687                                                                  & 0.028768331                                                                 & TF:M04107                                                                   & TF                                                                          & Factor: RUNX2; motif: WRACCGCANWAACCGCAN                                    & 19917                                                                       & 7032                                                                        & TF:M00000                                                                  \\\\\n",
       "\t query\\_1                                                                   & TRUE                                                                        & 0.035515711                                                                 &  3047                                                                       & 498                                                                         & 112                                                                         & 0.22489960                                                                  & 0.036757466                                                                 & TF:M03806                                                                   & TF                                                                          & Factor: ZBTB7C; motif: GKCCCGGGCKG                                          & 19917                                                                       & 8770                                                                        & TF:M00000                                                                  \\\\\n",
       "\t query\\_1                                                                   & TRUE                                                                        & 0.035585706                                                                 &  2078                                                                       & 506                                                                         &  84                                                                         & 0.16600791                                                                  & 0.040423484                                                                 & TF:M07249\\_1                                                               & TF                                                                          & Factor: ctcf; motif: CCNCNAGRKGGCRSTN; match class: 1                       & 19917                                                                       & 1099                                                                        & TF:M07249                                                                  \\\\\n",
       "\t query\\_1                                                                   & TRUE                                                                        & 0.036152509                                                                 &  1327                                                                       & 475                                                                         &  57                                                                         & 0.12000000                                                                  & 0.042954032                                                                 & TF:M09603\\_1                                                               & TF                                                                          & Factor: Egr-1; motif: NNNNNGYGKGGGNGGGNN; match class: 1                    & 19917                                                                       & 1541                                                                        & TF:M09603                                                                  \\\\\n",
       "\t query\\_1                                                                   & TRUE                                                                        & 0.037911033                                                                 &  4184                                                                       & 456                                                                         & 134                                                                         & 0.29385965                                                                  & 0.032026769                                                                 & TF:M10086\\_1                                                               & TF                                                                          & Factor: TAFII250; motif: RARRWGGCGGMGGNGR; match class: 1                   & 19917                                                                       & 7815                                                                        & TF:M10086                                                                  \\\\\n",
       "\t query\\_1                                                                   & TRUE                                                                        & 0.041167912                                                                 & 10034                                                                       & 497                                                                         & 297                                                                         & 0.59758551                                                                  & 0.029599362                                                                 & TF:M09896                                                                   & TF                                                                          & Factor: E2F-7; motif: GRGGCGGGAANNN                                         & 19917                                                                       & 1458                                                                        & TF:M00000                                                                  \\\\\n",
       "\t query\\_1                                                                   & TRUE                                                                        & 0.041870319                                                                 &  2313                                                                       & 506                                                                         &  91                                                                         & 0.17984190                                                                  & 0.039342845                                                                 & TF:M00665\\_1                                                               & TF                                                                          & Factor: Sp3; motif: ASMCTTGGGSRGGG; match class: 1                          & 19917                                                                       & 7545                                                                        & TF:M00665                                                                  \\\\\n",
       "\t query\\_1                                                                   & TRUE                                                                        & 0.042092340                                                                 &  8827                                                                       &  21                                                                         &  19                                                                         & 0.90476190                                                                  & 0.002152487                                                                 & TF:M02018                                                                   & TF                                                                          & Factor: HTF4; motif: CASCTGB                                                & 19917                                                                       & 4030                                                                        & TF:M00000                                                                  \\\\\n",
       "\t query\\_1                                                                   & TRUE                                                                        & 0.042092340                                                                 &  8827                                                                       &  21                                                                         &  19                                                                         & 0.90476190                                                                  & 0.002152487                                                                 & TF:M03831                                                                   & TF                                                                          & Factor: MRF4; motif: CASCTGC                                                & 19917                                                                       & 5010                                                                        & TF:M00000                                                                  \\\\\n",
       "\t query\\_1                                                                   & TRUE                                                                        & 0.044599384                                                                 &  2599                                                                       & 465                                                                         &  93                                                                         & 0.20000000                                                                  & 0.035782993                                                                 & TF:M10020                                                                   & TF                                                                          & Factor: OSR2; motif: NNNNCWGCTNCTGNNG                                       & 19917                                                                       & 5934                                                                        & TF:M00000                                                                  \\\\\n",
       "\t query\\_1                                                                   & TRUE                                                                        & 0.046509833                                                                 &  2203                                                                       & 503                                                                         &  87                                                                         & 0.17296223                                                                  & 0.039491602                                                                 & TF:M07208\\_1                                                               & TF                                                                          & Factor: EGR1; motif: NCNCCGCCCCCGCN; match class: 1                         & 19917                                                                       & 1539                                                                        & TF:M07208                                                                  \\\\\n",
       "\t query\\_1                                                                   & TRUE                                                                        & 0.049505354                                                                 &  4566                                                                       & 444                                                                         & 140                                                                         & 0.31531532                                                                  & 0.030661410                                                                 & TF:M09896\\_1                                                               & TF                                                                          & Factor: E2F-7; motif: GRGGCGGGAANNN; match class: 1                         & 19917                                                                       & 1459                                                                        & TF:M09896                                                                  \\\\\n",
       "\t query\\_1                                                                   & TRUE                                                                        & 0.002531501                                                                 &     7                                                                       &  60                                                                         &   3                                                                         & 0.05000000                                                                  & 0.428571429                                                                 & WP:WP3963                                                                   & WP                                                                          & Mevalonate pathway                                                          &  7562                                                                       &  581                                                                        & WP:000000                                                                  \\\\\n",
       "\t query\\_1                                                                   & TRUE                                                                        & 0.003249291                                                                 &    47                                                                       & 471                                                                         &  12                                                                         & 0.02547771                                                                  & 0.255319149                                                                 & WP:WP4718                                                                   & WP                                                                          & Cholesterol metabolism (includes both Bloch and Kandutsch-Russell pathways) &  7562                                                                       &  466                                                                        & WP:000000                                                                  \\\\\n",
       "\t query\\_1                                                                   & TRUE                                                                        & 0.003556784                                                                 &    42                                                                       & 449                                                                         &  11                                                                         & 0.02449889                                                                  & 0.261904762                                                                 & WP:WP4148                                                                   & WP                                                                          & Splicing factor NOVA regulated synaptic proteins                            &  7562                                                                       &  572                                                                        & WP:000000                                                                  \\\\\n",
       "\t query\\_1                                                                   & TRUE                                                                        & 0.015551896                                                                 &    51                                                                       &  14                                                                         &   3                                                                         & 0.21428571                                                                  & 0.058823529                                                                 & WP:WP4539                                                                   & WP                                                                          & Synaptic signaling pathways associated with autism spectrum disorder        &  7562                                                                       &  594                                                                        & WP:000000                                                                  \\\\\n",
       "\t query\\_1                                                                   & TRUE                                                                        & 0.027181439                                                                 &    15                                                                       & 471                                                                         &   6                                                                         & 0.01273885                                                                  & 0.400000000                                                                 & WP:WP197                                                                    & WP                                                                          & Cholesterol Biosynthesis Pathway                                            &  7562                                                                       &  652                                                                        & WP:000000                                                                  \\\\\n",
       "\t query\\_1                                                                   & TRUE                                                                        & 0.029592961                                                                 &    34                                                                       &  65                                                                         &   4                                                                         & 0.06153846                                                                  & 0.117647059                                                                 & WP:WP4875                                                                   & WP                                                                          & Disruption of postsynaptic signalling by CNV                                &  7562                                                                       &  260                                                                        & WP:000000                                                                  \\\\\n",
       "\\end{tabular}\n"
      ],
      "text/markdown": [
       "\n",
       "| query | significant | p_value | term_size | query_size | intersection_size | precision | recall | term_id | source | term_name | effective_domain_size | source_order | parents |\n",
       "|---|---|---|---|---|---|---|---|---|---|---|---|---|---|\n",
       "| query_1                                              | TRUE                                                 | 6.902270e-11                                         | 2484                                                 | 486                                                  | 129                                                  | 0.26543210                                           | 0.05193237                                           | GO:0007399                                           | GO:BP                                                | nervous system development                           | 18123                                                |  3289                                                | GO:0048731                                           |\n",
       "| query_1                                              | TRUE                                                 | 1.436149e-10                                         |  747                                                 | 362                                                  |  50                                                  | 0.13812155                                           | 0.06693440                                           | GO:0099536                                           | GO:BP                                                | synaptic signaling                                   | 18123                                                | 22390                                                | GO:0007267                                           |\n",
       "| query_1                                              | TRUE                                                 | 3.931150e-10                                         |  713                                                 | 362                                                  |  48                                                  | 0.13259669                                           | 0.06732118                                           | GO:0007268                                           | GO:BP                                                | chemical synaptic transmission                       | 18123                                                |  3172                                                | GO:0098916                                           |\n",
       "| query_1                                              | TRUE                                                 | 3.931150e-10                                         |  713                                                 | 362                                                  |  48                                                  | 0.13259669                                           | 0.06732118                                           | GO:0098916                                           | GO:BP                                                | anterograde trans-synaptic signaling                 | 18123                                                | 22221                                                | GO:0099537                                           |\n",
       "| query_1                                              | TRUE                                                 | 5.937664e-10                                         |  721                                                 | 362                                                  |  48                                                  | 0.13259669                                           | 0.06657420                                           | GO:0099537                                           | GO:BP                                                | trans-synaptic signaling                             | 18123                                                | 22391                                                | GO:0099536                                           |\n",
       "| query_1                                              | TRUE                                                 | 4.176148e-08                                         |   62                                                 | 439                                                  |  15                                                  | 0.03416856                                           | 0.24193548                                           | GO:0098930                                           | GO:BP                                                | axonal transport                                     | 18123                                                | 22231                                                | GO:0008088                                           |\n",
       "| query_1                                              | TRUE                                                 | 4.428443e-08                                         |   73                                                 | 439                                                  |  16                                                  | 0.03644647                                           | 0.21917808                                           | GO:0008088                                           | GO:BP                                                | axo-dendritic transport                              | 18123                                                |  3538                                                | GO:0010970                                           |\n",
       "| query_1                                              | TRUE                                                 | 5.209740e-08                                         |  200                                                 | 439                                                  |  25                                                  | 0.05694761                                           | 0.12500000                                           | GO:0030705                                           | GO:BP                                                | cytoskeleton-dependent intracellular transport       | 18123                                                |  7973                                                | GO:0046907                                           |\n",
       "| query_1                                              | TRUE                                                 | 4.749102e-07                                         |  223                                                 | 334                                                  |  22                                                  | 0.06586826                                           | 0.09865471                                           | GO:0006836                                           | GO:BP                                                | neurotransmitter transport                           | 18123                                                |  2798                                                | GO:0006810                                           |\n",
       "| query_1                                              | TRUE                                                 | 8.878985e-07                                         | 1159                                                 | 486                                                  |  69                                                  | 0.14197531                                           | 0.05953408                                           | GO:0048666                                           | GO:BP                                                | neuron development                                   | 18123                                                | 15012                                                | GO:0030182, GO:0048468                               |\n",
       "| query_1                                              | TRUE                                                 | 2.316963e-06                                         |  675                                                 | 471                                                  |  47                                                  | 0.09978769                                           | 0.06962963                                           | GO:0044283                                           | GO:BP                                                | small molecule biosynthetic process                  | 18123                                                | 12755                                                | GO:0009058, GO:0044281                               |\n",
       "| query_1                                              | TRUE                                                 | 2.431906e-06                                         |  434                                                 | 361                                                  |  31                                                  | 0.08587258                                           | 0.07142857                                           | GO:0050804                                           | GO:BP                                                | modulation of chemical synaptic transmission         | 18123                                                | 15379                                                | GO:0007268, GO:0099177                               |\n",
       "| query_1                                              | TRUE                                                 | 2.488557e-06                                         |  221                                                 | 334                                                  |  21                                                  | 0.06287425                                           | 0.09502262                                           | GO:0001505                                           | GO:BP                                                | regulation of neurotransmitter levels                | 18123                                                |   435                                                | GO:0065008                                           |\n",
       "| query_1                                              | TRUE                                                 | 2.571662e-06                                         |  435                                                 | 361                                                  |  31                                                  | 0.08587258                                           | 0.07126437                                           | GO:0099177                                           | GO:BP                                                | regulation of trans-synaptic signaling               | 18123                                                | 22360                                                | GO:0010646, GO:0023051, GO:0099537                   |\n",
       "| query_1                                              | TRUE                                                 | 2.620196e-06                                         |  228                                                 | 499                                                  |  26                                                  | 0.05210421                                           | 0.11403509                                           | GO:0051648                                           | GO:BP                                                | vesicle localization                                 | 18123                                                | 16053                                                | GO:0051640                                           |\n",
       "| query_1                                              | TRUE                                                 | 3.671398e-06                                         | 1021                                                 | 486                                                  |  62                                                  | 0.12757202                                           | 0.06072478                                           | GO:0031175                                           | GO:BP                                                | neuron projection development                        | 18123                                                |  8239                                                | GO:0048666, GO:0120036                               |\n",
       "| query_1                                              | TRUE                                                 | 4.315845e-06                                         | 1413                                                 | 486                                                  |  77                                                  | 0.15843621                                           | 0.05449398                                           | GO:0140352                                           | GO:BP                                                | export from cell                                     | 18123                                                | 23108                                                | GO:0006810, GO:0009987                               |\n",
       "| query_1                                              | TRUE                                                 | 6.803196e-06                                         |  196                                                 | 439                                                  |  22                                                  | 0.05011390                                           | 0.11224490                                           | GO:0099111                                           | GO:BP                                                | microtubule-based transport                          | 18123                                                | 22318                                                | GO:0006810, GO:0007018                               |\n",
       "| query_1                                              | TRUE                                                 | 6.933835e-06                                         |  162                                                 | 439                                                  |  20                                                  | 0.04555809                                           | 0.12345679                                           | GO:0010970                                           | GO:BP                                                | transport along microtubule                          | 18123                                                |  5101                                                | GO:0030705, GO:0099111                               |\n",
       "| query_1                                              | TRUE                                                 | 9.218900e-06                                         |   58                                                 | 486                                                  |  13                                                  | 0.02674897                                           | 0.22413793                                           | GO:0097479                                           | GO:BP                                                | synaptic vesicle localization                        | 18123                                                | 21910                                                | GO:0051648                                           |\n",
       "| query_1                                              | TRUE                                                 | 1.308113e-05                                         |   48                                                 | 499                                                  |  12                                                  | 0.02404810                                           | 0.25000000                                           | GO:0047496                                           | GO:BP                                                | vesicle transport along microtubule                  | 18123                                                | 14525                                                | GO:0072384, GO:0099518                               |\n",
       "| query_1                                              | TRUE                                                 | 1.433259e-05                                         | 1839                                                 | 486                                                  |  91                                                  | 0.18724280                                           | 0.04948341                                           | GO:0051049                                           | GO:BP                                                | regulation of transport                              | 18123                                                | 15586                                                | GO:0006810, GO:0032879                               |\n",
       "| query_1                                              | TRUE                                                 | 1.666405e-05                                         | 1735                                                 | 221                                                  |  50                                                  | 0.22624434                                           | 0.02881844                                           | GO:0007267                                           | GO:BP                                                | cell-cell signaling                                  | 18123                                                |  3171                                                | GO:0007154, GO:0023052                               |\n",
       "| query_1                                              | TRUE                                                 | 1.700104e-05                                         |  754                                                 | 449                                                  |  47                                                  | 0.10467706                                           | 0.06233422                                           | GO:0000904                                           | GO:BP                                                | cell morphogenesis involved in differentiation       | 18123                                                |   308                                                | GO:0000902, GO:0048468                               |\n",
       "| query_1                                              | TRUE                                                 | 2.115588e-05                                         | 1596                                                 | 504                                                  |  84                                                  | 0.16666667                                           | 0.05263158                                           | GO:0120036                                           | GO:BP                                                | plasma membrane bounded cell projection organization | 18123                                                | 22821                                                | GO:0030030                                           |\n",
       "| query_1                                              | TRUE                                                 | 2.515146e-05                                         |  688                                                 | 449                                                  |  44                                                  | 0.09799555                                           | 0.06395349                                           | GO:0048858                                           | GO:BP                                                | cell projection morphogenesis                        | 18123                                                | 15193                                                | GO:0000902, GO:0030030, GO:0032990                   |\n",
       "| query_1                                              | TRUE                                                 | 2.784287e-05                                         |   73                                                 | 499                                                  |  14                                                  | 0.02805611                                           | 0.19178082                                           | GO:0099518                                           | GO:BP                                                | vesicle cytoskeletal trafficking                     | 18123                                                | 22382                                                | GO:0030705, GO:0051650                               |\n",
       "| query_1                                              | TRUE                                                 | 3.080435e-05                                         | 1636                                                 | 504                                                  |  85                                                  | 0.16865079                                           | 0.05195599                                           | GO:0030030                                           | GO:BP                                                | cell projection organization                         | 18123                                                |  7699                                                | GO:0016043                                           |\n",
       "| query_1                                              | TRUE                                                 | 3.384582e-05                                         |  670                                                 | 449                                                  |  43                                                  | 0.09576837                                           | 0.06417910                                           | GO:0048812                                           | GO:BP                                                | neuron projection morphogenesis                      | 18123                                                | 15148                                                | GO:0031175, GO:0120039                               |\n",
       "| query_1                                              | TRUE                                                 | 3.468184e-05                                         | 1427                                                 | 486                                                  |  75                                                  | 0.15432099                                           | 0.05255781                                           | GO:0030182                                           | GO:BP                                                | neuron differentiation                               | 18123                                                |  7753                                                | GO:0030154, GO:0048699                               |\n",
       "| ... | ... | ... | ... | ... | ... | ... | ... | ... | ... | ... | ... | ... | ... |\n",
       "| query_1                                                                     | TRUE                                                                        | 0.022448542                                                                 |  7781                                                                       | 477                                                                         | 233                                                                         | 0.48846960                                                                  | 0.029944737                                                                 | TF:M04152                                                                   | TF                                                                          | Factor: TFAP2C; motif: NGCCCNNRGGCA                                         | 19917                                                                       | 8220                                                                        | TF:M00000                                                                   |\n",
       "| query_1                                                                     | TRUE                                                                        | 0.022984801                                                                 |  7671                                                                       | 502                                                                         | 241                                                                         | 0.48007968                                                                  | 0.031417025                                                                 | TF:M10115                                                                   | TF                                                                          | Factor: LRF; motif: NRGGGKCKY                                               | 19917                                                                       | 8756                                                                        | TF:M00000                                                                   |\n",
       "| query_1                                                                     | TRUE                                                                        | 0.023278270                                                                 |  2041                                                                       | 494                                                                         |  82                                                                         | 0.16599190                                                                  | 0.040176384                                                                 | TF:M03899                                                                   | TF                                                                          | Factor: EGR4; motif: NNMCGCCCACGCANNN                                       | 19917                                                                       | 1584                                                                        | TF:M00000                                                                   |\n",
       "| query_1                                                                     | TRUE                                                                        | 0.023590100                                                                 |  1382                                                                       | 450                                                                         |  57                                                                         | 0.12666667                                                                  | 0.041244573                                                                 | TF:M00652                                                                   | TF                                                                          | Factor: NRF-1; motif: CGCATGCGCR                                            | 19917                                                                       | 5778                                                                        | TF:M00000                                                                   |\n",
       "| query_1                                                                     | TRUE                                                                        | 0.025134530                                                                 |  5165                                                                       | 503                                                                         | 174                                                                         | 0.34592445                                                                  | 0.033688287                                                                 | TF:M03814                                                                   | TF                                                                          | Factor: BTEB2; motif: GNAGGGGGNGGGSSNN                                      | 19917                                                                       |  594                                                                        | TF:M00000                                                                   |\n",
       "| query_1                                                                     | TRUE                                                                        | 0.027499680                                                                 |  3311                                                                       | 502                                                                         | 121                                                                         | 0.24103586                                                                  | 0.036544850                                                                 | TF:M01273                                                                   | TF                                                                          | Factor: SP4; motif: SCCCCGCCCCS                                             | 19917                                                                       | 7556                                                                        | TF:M00000                                                                   |\n",
       "| query_1                                                                     | TRUE                                                                        | 0.028000574                                                                 | 14245                                                                       | 498                                                                         | 398                                                                         | 0.79919679                                                                  | 0.027939628                                                                 | TF:M04710                                                                   | TF                                                                          | Factor: CHD2; motif: TCTCGCGAG                                              | 19917                                                                       |  796                                                                        | TF:M00000                                                                   |\n",
       "| query_1                                                                     | TRUE                                                                        | 0.028064795                                                                 |  6582                                                                       | 420                                                                         | 181                                                                         | 0.43095238                                                                  | 0.027499240                                                                 | TF:M04146                                                                   | TF                                                                          | Factor: TFAP2A; motif: YGCCCNNRGGCN                                         | 19917                                                                       | 8176                                                                        | TF:M00000                                                                   |\n",
       "| query_1                                                                     | TRUE                                                                        | 0.029709328                                                                 |  5338                                                                       | 505                                                                         | 179                                                                         | 0.35445545                                                                  | 0.033533158                                                                 | TF:M11877_1                                                                 | TF                                                                          | Factor: pax-2; motif: NCGTCACGCNYSRNYGCNYN; match class: 1                  | 19917                                                                       | 6051                                                                        | TF:M11877                                                                   |\n",
       "| query_1                                                                     | TRUE                                                                        | 0.031866384                                                                 |  7954                                                                       | 503                                                                         | 248                                                                         | 0.49304175                                                                  | 0.031179281                                                                 | TF:M11081_1                                                                 | TF                                                                          | Factor: SREBP-1; motif: RTCRCGTGAY; match class: 1                          | 19917                                                                       | 7639                                                                        | TF:M11081                                                                   |\n",
       "| query_1                                                                     | TRUE                                                                        | 0.032744686                                                                 |  6406                                                                       | 478                                                                         | 198                                                                         | 0.41422594                                                                  | 0.030908523                                                                 | TF:M07041_1                                                                 | TF                                                                          | Factor: HDAC1; motif: KGCARGGTC; match class: 1                             | 19917                                                                       | 3171                                                                        | TF:M07041                                                                   |\n",
       "| query_1                                                                     | TRUE                                                                        | 0.032969854                                                                 |  5637                                                                       | 502                                                                         | 186                                                                         | 0.37051793                                                                  | 0.032996275                                                                 | TF:M00470_1                                                                 | TF                                                                          | Factor: AP-2gamma; motif: GCCYNNGGS; match class: 1                         | 19917                                                                       |  137                                                                        | TF:M00470                                                                   |\n",
       "| query_1                                                                     | TRUE                                                                        | 0.033650763                                                                 | 12479                                                                       | 501                                                                         | 359                                                                         | 0.71656687                                                                  | 0.028768331                                                                 | TF:M04107                                                                   | TF                                                                          | Factor: RUNX2; motif: WRACCGCANWAACCGCAN                                    | 19917                                                                       | 7032                                                                        | TF:M00000                                                                   |\n",
       "| query_1                                                                     | TRUE                                                                        | 0.035515711                                                                 |  3047                                                                       | 498                                                                         | 112                                                                         | 0.22489960                                                                  | 0.036757466                                                                 | TF:M03806                                                                   | TF                                                                          | Factor: ZBTB7C; motif: GKCCCGGGCKG                                          | 19917                                                                       | 8770                                                                        | TF:M00000                                                                   |\n",
       "| query_1                                                                     | TRUE                                                                        | 0.035585706                                                                 |  2078                                                                       | 506                                                                         |  84                                                                         | 0.16600791                                                                  | 0.040423484                                                                 | TF:M07249_1                                                                 | TF                                                                          | Factor: ctcf; motif: CCNCNAGRKGGCRSTN; match class: 1                       | 19917                                                                       | 1099                                                                        | TF:M07249                                                                   |\n",
       "| query_1                                                                     | TRUE                                                                        | 0.036152509                                                                 |  1327                                                                       | 475                                                                         |  57                                                                         | 0.12000000                                                                  | 0.042954032                                                                 | TF:M09603_1                                                                 | TF                                                                          | Factor: Egr-1; motif: NNNNNGYGKGGGNGGGNN; match class: 1                    | 19917                                                                       | 1541                                                                        | TF:M09603                                                                   |\n",
       "| query_1                                                                     | TRUE                                                                        | 0.037911033                                                                 |  4184                                                                       | 456                                                                         | 134                                                                         | 0.29385965                                                                  | 0.032026769                                                                 | TF:M10086_1                                                                 | TF                                                                          | Factor: TAFII250; motif: RARRWGGCGGMGGNGR; match class: 1                   | 19917                                                                       | 7815                                                                        | TF:M10086                                                                   |\n",
       "| query_1                                                                     | TRUE                                                                        | 0.041167912                                                                 | 10034                                                                       | 497                                                                         | 297                                                                         | 0.59758551                                                                  | 0.029599362                                                                 | TF:M09896                                                                   | TF                                                                          | Factor: E2F-7; motif: GRGGCGGGAANNN                                         | 19917                                                                       | 1458                                                                        | TF:M00000                                                                   |\n",
       "| query_1                                                                     | TRUE                                                                        | 0.041870319                                                                 |  2313                                                                       | 506                                                                         |  91                                                                         | 0.17984190                                                                  | 0.039342845                                                                 | TF:M00665_1                                                                 | TF                                                                          | Factor: Sp3; motif: ASMCTTGGGSRGGG; match class: 1                          | 19917                                                                       | 7545                                                                        | TF:M00665                                                                   |\n",
       "| query_1                                                                     | TRUE                                                                        | 0.042092340                                                                 |  8827                                                                       |  21                                                                         |  19                                                                         | 0.90476190                                                                  | 0.002152487                                                                 | TF:M02018                                                                   | TF                                                                          | Factor: HTF4; motif: CASCTGB                                                | 19917                                                                       | 4030                                                                        | TF:M00000                                                                   |\n",
       "| query_1                                                                     | TRUE                                                                        | 0.042092340                                                                 |  8827                                                                       |  21                                                                         |  19                                                                         | 0.90476190                                                                  | 0.002152487                                                                 | TF:M03831                                                                   | TF                                                                          | Factor: MRF4; motif: CASCTGC                                                | 19917                                                                       | 5010                                                                        | TF:M00000                                                                   |\n",
       "| query_1                                                                     | TRUE                                                                        | 0.044599384                                                                 |  2599                                                                       | 465                                                                         |  93                                                                         | 0.20000000                                                                  | 0.035782993                                                                 | TF:M10020                                                                   | TF                                                                          | Factor: OSR2; motif: NNNNCWGCTNCTGNNG                                       | 19917                                                                       | 5934                                                                        | TF:M00000                                                                   |\n",
       "| query_1                                                                     | TRUE                                                                        | 0.046509833                                                                 |  2203                                                                       | 503                                                                         |  87                                                                         | 0.17296223                                                                  | 0.039491602                                                                 | TF:M07208_1                                                                 | TF                                                                          | Factor: EGR1; motif: NCNCCGCCCCCGCN; match class: 1                         | 19917                                                                       | 1539                                                                        | TF:M07208                                                                   |\n",
       "| query_1                                                                     | TRUE                                                                        | 0.049505354                                                                 |  4566                                                                       | 444                                                                         | 140                                                                         | 0.31531532                                                                  | 0.030661410                                                                 | TF:M09896_1                                                                 | TF                                                                          | Factor: E2F-7; motif: GRGGCGGGAANNN; match class: 1                         | 19917                                                                       | 1459                                                                        | TF:M09896                                                                   |\n",
       "| query_1                                                                     | TRUE                                                                        | 0.002531501                                                                 |     7                                                                       |  60                                                                         |   3                                                                         | 0.05000000                                                                  | 0.428571429                                                                 | WP:WP3963                                                                   | WP                                                                          | Mevalonate pathway                                                          |  7562                                                                       |  581                                                                        | WP:000000                                                                   |\n",
       "| query_1                                                                     | TRUE                                                                        | 0.003249291                                                                 |    47                                                                       | 471                                                                         |  12                                                                         | 0.02547771                                                                  | 0.255319149                                                                 | WP:WP4718                                                                   | WP                                                                          | Cholesterol metabolism (includes both Bloch and Kandutsch-Russell pathways) |  7562                                                                       |  466                                                                        | WP:000000                                                                   |\n",
       "| query_1                                                                     | TRUE                                                                        | 0.003556784                                                                 |    42                                                                       | 449                                                                         |  11                                                                         | 0.02449889                                                                  | 0.261904762                                                                 | WP:WP4148                                                                   | WP                                                                          | Splicing factor NOVA regulated synaptic proteins                            |  7562                                                                       |  572                                                                        | WP:000000                                                                   |\n",
       "| query_1                                                                     | TRUE                                                                        | 0.015551896                                                                 |    51                                                                       |  14                                                                         |   3                                                                         | 0.21428571                                                                  | 0.058823529                                                                 | WP:WP4539                                                                   | WP                                                                          | Synaptic signaling pathways associated with autism spectrum disorder        |  7562                                                                       |  594                                                                        | WP:000000                                                                   |\n",
       "| query_1                                                                     | TRUE                                                                        | 0.027181439                                                                 |    15                                                                       | 471                                                                         |   6                                                                         | 0.01273885                                                                  | 0.400000000                                                                 | WP:WP197                                                                    | WP                                                                          | Cholesterol Biosynthesis Pathway                                            |  7562                                                                       |  652                                                                        | WP:000000                                                                   |\n",
       "| query_1                                                                     | TRUE                                                                        | 0.029592961                                                                 |    34                                                                       |  65                                                                         |   4                                                                         | 0.06153846                                                                  | 0.117647059                                                                 | WP:WP4875                                                                   | WP                                                                          | Disruption of postsynaptic signalling by CNV                                |  7562                                                                       |  260                                                                        | WP:000000                                                                   |\n",
       "\n"
      ],
      "text/plain": [
       "    query   significant p_value      term_size query_size intersection_size\n",
       "1   query_1 TRUE        6.902270e-11 2484      486        129              \n",
       "2   query_1 TRUE        1.436149e-10  747      362         50              \n",
       "3   query_1 TRUE        3.931150e-10  713      362         48              \n",
       "4   query_1 TRUE        3.931150e-10  713      362         48              \n",
       "5   query_1 TRUE        5.937664e-10  721      362         48              \n",
       "6   query_1 TRUE        4.176148e-08   62      439         15              \n",
       "7   query_1 TRUE        4.428443e-08   73      439         16              \n",
       "8   query_1 TRUE        5.209740e-08  200      439         25              \n",
       "9   query_1 TRUE        4.749102e-07  223      334         22              \n",
       "10  query_1 TRUE        8.878985e-07 1159      486         69              \n",
       "11  query_1 TRUE        2.316963e-06  675      471         47              \n",
       "12  query_1 TRUE        2.431906e-06  434      361         31              \n",
       "13  query_1 TRUE        2.488557e-06  221      334         21              \n",
       "14  query_1 TRUE        2.571662e-06  435      361         31              \n",
       "15  query_1 TRUE        2.620196e-06  228      499         26              \n",
       "16  query_1 TRUE        3.671398e-06 1021      486         62              \n",
       "17  query_1 TRUE        4.315845e-06 1413      486         77              \n",
       "18  query_1 TRUE        6.803196e-06  196      439         22              \n",
       "19  query_1 TRUE        6.933835e-06  162      439         20              \n",
       "20  query_1 TRUE        9.218900e-06   58      486         13              \n",
       "21  query_1 TRUE        1.308113e-05   48      499         12              \n",
       "22  query_1 TRUE        1.433259e-05 1839      486         91              \n",
       "23  query_1 TRUE        1.666405e-05 1735      221         50              \n",
       "24  query_1 TRUE        1.700104e-05  754      449         47              \n",
       "25  query_1 TRUE        2.115588e-05 1596      504         84              \n",
       "26  query_1 TRUE        2.515146e-05  688      449         44              \n",
       "27  query_1 TRUE        2.784287e-05   73      499         14              \n",
       "28  query_1 TRUE        3.080435e-05 1636      504         85              \n",
       "29  query_1 TRUE        3.384582e-05  670      449         43              \n",
       "30  query_1 TRUE        3.468184e-05 1427      486         75              \n",
       "... ...     ...         ...          ...       ...        ...              \n",
       "708 query_1 TRUE        0.022448542   7781     477        233              \n",
       "709 query_1 TRUE        0.022984801   7671     502        241              \n",
       "710 query_1 TRUE        0.023278270   2041     494         82              \n",
       "711 query_1 TRUE        0.023590100   1382     450         57              \n",
       "712 query_1 TRUE        0.025134530   5165     503        174              \n",
       "713 query_1 TRUE        0.027499680   3311     502        121              \n",
       "714 query_1 TRUE        0.028000574  14245     498        398              \n",
       "715 query_1 TRUE        0.028064795   6582     420        181              \n",
       "716 query_1 TRUE        0.029709328   5338     505        179              \n",
       "717 query_1 TRUE        0.031866384   7954     503        248              \n",
       "718 query_1 TRUE        0.032744686   6406     478        198              \n",
       "719 query_1 TRUE        0.032969854   5637     502        186              \n",
       "720 query_1 TRUE        0.033650763  12479     501        359              \n",
       "721 query_1 TRUE        0.035515711   3047     498        112              \n",
       "722 query_1 TRUE        0.035585706   2078     506         84              \n",
       "723 query_1 TRUE        0.036152509   1327     475         57              \n",
       "724 query_1 TRUE        0.037911033   4184     456        134              \n",
       "725 query_1 TRUE        0.041167912  10034     497        297              \n",
       "726 query_1 TRUE        0.041870319   2313     506         91              \n",
       "727 query_1 TRUE        0.042092340   8827      21         19              \n",
       "728 query_1 TRUE        0.042092340   8827      21         19              \n",
       "729 query_1 TRUE        0.044599384   2599     465         93              \n",
       "730 query_1 TRUE        0.046509833   2203     503         87              \n",
       "731 query_1 TRUE        0.049505354   4566     444        140              \n",
       "732 query_1 TRUE        0.002531501      7      60          3              \n",
       "733 query_1 TRUE        0.003249291     47     471         12              \n",
       "734 query_1 TRUE        0.003556784     42     449         11              \n",
       "735 query_1 TRUE        0.015551896     51      14          3              \n",
       "736 query_1 TRUE        0.027181439     15     471          6              \n",
       "737 query_1 TRUE        0.029592961     34      65          4              \n",
       "    precision  recall      term_id     source\n",
       "1   0.26543210 0.05193237  GO:0007399  GO:BP \n",
       "2   0.13812155 0.06693440  GO:0099536  GO:BP \n",
       "3   0.13259669 0.06732118  GO:0007268  GO:BP \n",
       "4   0.13259669 0.06732118  GO:0098916  GO:BP \n",
       "5   0.13259669 0.06657420  GO:0099537  GO:BP \n",
       "6   0.03416856 0.24193548  GO:0098930  GO:BP \n",
       "7   0.03644647 0.21917808  GO:0008088  GO:BP \n",
       "8   0.05694761 0.12500000  GO:0030705  GO:BP \n",
       "9   0.06586826 0.09865471  GO:0006836  GO:BP \n",
       "10  0.14197531 0.05953408  GO:0048666  GO:BP \n",
       "11  0.09978769 0.06962963  GO:0044283  GO:BP \n",
       "12  0.08587258 0.07142857  GO:0050804  GO:BP \n",
       "13  0.06287425 0.09502262  GO:0001505  GO:BP \n",
       "14  0.08587258 0.07126437  GO:0099177  GO:BP \n",
       "15  0.05210421 0.11403509  GO:0051648  GO:BP \n",
       "16  0.12757202 0.06072478  GO:0031175  GO:BP \n",
       "17  0.15843621 0.05449398  GO:0140352  GO:BP \n",
       "18  0.05011390 0.11224490  GO:0099111  GO:BP \n",
       "19  0.04555809 0.12345679  GO:0010970  GO:BP \n",
       "20  0.02674897 0.22413793  GO:0097479  GO:BP \n",
       "21  0.02404810 0.25000000  GO:0047496  GO:BP \n",
       "22  0.18724280 0.04948341  GO:0051049  GO:BP \n",
       "23  0.22624434 0.02881844  GO:0007267  GO:BP \n",
       "24  0.10467706 0.06233422  GO:0000904  GO:BP \n",
       "25  0.16666667 0.05263158  GO:0120036  GO:BP \n",
       "26  0.09799555 0.06395349  GO:0048858  GO:BP \n",
       "27  0.02805611 0.19178082  GO:0099518  GO:BP \n",
       "28  0.16865079 0.05195599  GO:0030030  GO:BP \n",
       "29  0.09576837 0.06417910  GO:0048812  GO:BP \n",
       "30  0.15432099 0.05255781  GO:0030182  GO:BP \n",
       "... ...        ...         ...         ...   \n",
       "708 0.48846960 0.029944737 TF:M04152   TF    \n",
       "709 0.48007968 0.031417025 TF:M10115   TF    \n",
       "710 0.16599190 0.040176384 TF:M03899   TF    \n",
       "711 0.12666667 0.041244573 TF:M00652   TF    \n",
       "712 0.34592445 0.033688287 TF:M03814   TF    \n",
       "713 0.24103586 0.036544850 TF:M01273   TF    \n",
       "714 0.79919679 0.027939628 TF:M04710   TF    \n",
       "715 0.43095238 0.027499240 TF:M04146   TF    \n",
       "716 0.35445545 0.033533158 TF:M11877_1 TF    \n",
       "717 0.49304175 0.031179281 TF:M11081_1 TF    \n",
       "718 0.41422594 0.030908523 TF:M07041_1 TF    \n",
       "719 0.37051793 0.032996275 TF:M00470_1 TF    \n",
       "720 0.71656687 0.028768331 TF:M04107   TF    \n",
       "721 0.22489960 0.036757466 TF:M03806   TF    \n",
       "722 0.16600791 0.040423484 TF:M07249_1 TF    \n",
       "723 0.12000000 0.042954032 TF:M09603_1 TF    \n",
       "724 0.29385965 0.032026769 TF:M10086_1 TF    \n",
       "725 0.59758551 0.029599362 TF:M09896   TF    \n",
       "726 0.17984190 0.039342845 TF:M00665_1 TF    \n",
       "727 0.90476190 0.002152487 TF:M02018   TF    \n",
       "728 0.90476190 0.002152487 TF:M03831   TF    \n",
       "729 0.20000000 0.035782993 TF:M10020   TF    \n",
       "730 0.17296223 0.039491602 TF:M07208_1 TF    \n",
       "731 0.31531532 0.030661410 TF:M09896_1 TF    \n",
       "732 0.05000000 0.428571429 WP:WP3963   WP    \n",
       "733 0.02547771 0.255319149 WP:WP4718   WP    \n",
       "734 0.02449889 0.261904762 WP:WP4148   WP    \n",
       "735 0.21428571 0.058823529 WP:WP4539   WP    \n",
       "736 0.01273885 0.400000000 WP:WP197    WP    \n",
       "737 0.06153846 0.117647059 WP:WP4875   WP    \n",
       "    term_name                                                                  \n",
       "1   nervous system development                                                 \n",
       "2   synaptic signaling                                                         \n",
       "3   chemical synaptic transmission                                             \n",
       "4   anterograde trans-synaptic signaling                                       \n",
       "5   trans-synaptic signaling                                                   \n",
       "6   axonal transport                                                           \n",
       "7   axo-dendritic transport                                                    \n",
       "8   cytoskeleton-dependent intracellular transport                             \n",
       "9   neurotransmitter transport                                                 \n",
       "10  neuron development                                                         \n",
       "11  small molecule biosynthetic process                                        \n",
       "12  modulation of chemical synaptic transmission                               \n",
       "13  regulation of neurotransmitter levels                                      \n",
       "14  regulation of trans-synaptic signaling                                     \n",
       "15  vesicle localization                                                       \n",
       "16  neuron projection development                                              \n",
       "17  export from cell                                                           \n",
       "18  microtubule-based transport                                                \n",
       "19  transport along microtubule                                                \n",
       "20  synaptic vesicle localization                                              \n",
       "21  vesicle transport along microtubule                                        \n",
       "22  regulation of transport                                                    \n",
       "23  cell-cell signaling                                                        \n",
       "24  cell morphogenesis involved in differentiation                             \n",
       "25  plasma membrane bounded cell projection organization                       \n",
       "26  cell projection morphogenesis                                              \n",
       "27  vesicle cytoskeletal trafficking                                           \n",
       "28  cell projection organization                                               \n",
       "29  neuron projection morphogenesis                                            \n",
       "30  neuron differentiation                                                     \n",
       "... ...                                                                        \n",
       "708 Factor: TFAP2C; motif: NGCCCNNRGGCA                                        \n",
       "709 Factor: LRF; motif: NRGGGKCKY                                              \n",
       "710 Factor: EGR4; motif: NNMCGCCCACGCANNN                                      \n",
       "711 Factor: NRF-1; motif: CGCATGCGCR                                           \n",
       "712 Factor: BTEB2; motif: GNAGGGGGNGGGSSNN                                     \n",
       "713 Factor: SP4; motif: SCCCCGCCCCS                                            \n",
       "714 Factor: CHD2; motif: TCTCGCGAG                                             \n",
       "715 Factor: TFAP2A; motif: YGCCCNNRGGCN                                        \n",
       "716 Factor: pax-2; motif: NCGTCACGCNYSRNYGCNYN; match class: 1                 \n",
       "717 Factor: SREBP-1; motif: RTCRCGTGAY; match class: 1                         \n",
       "718 Factor: HDAC1; motif: KGCARGGTC; match class: 1                            \n",
       "719 Factor: AP-2gamma; motif: GCCYNNGGS; match class: 1                        \n",
       "720 Factor: RUNX2; motif: WRACCGCANWAACCGCAN                                   \n",
       "721 Factor: ZBTB7C; motif: GKCCCGGGCKG                                         \n",
       "722 Factor: ctcf; motif: CCNCNAGRKGGCRSTN; match class: 1                      \n",
       "723 Factor: Egr-1; motif: NNNNNGYGKGGGNGGGNN; match class: 1                   \n",
       "724 Factor: TAFII250; motif: RARRWGGCGGMGGNGR; match class: 1                  \n",
       "725 Factor: E2F-7; motif: GRGGCGGGAANNN                                        \n",
       "726 Factor: Sp3; motif: ASMCTTGGGSRGGG; match class: 1                         \n",
       "727 Factor: HTF4; motif: CASCTGB                                               \n",
       "728 Factor: MRF4; motif: CASCTGC                                               \n",
       "729 Factor: OSR2; motif: NNNNCWGCTNCTGNNG                                      \n",
       "730 Factor: EGR1; motif: NCNCCGCCCCCGCN; match class: 1                        \n",
       "731 Factor: E2F-7; motif: GRGGCGGGAANNN; match class: 1                        \n",
       "732 Mevalonate pathway                                                         \n",
       "733 Cholesterol metabolism (includes both Bloch and Kandutsch-Russell pathways)\n",
       "734 Splicing factor NOVA regulated synaptic proteins                           \n",
       "735 Synaptic signaling pathways associated with autism spectrum disorder       \n",
       "736 Cholesterol Biosynthesis Pathway                                           \n",
       "737 Disruption of postsynaptic signalling by CNV                               \n",
       "    effective_domain_size source_order parents                           \n",
       "1   18123                  3289        GO:0048731                        \n",
       "2   18123                 22390        GO:0007267                        \n",
       "3   18123                  3172        GO:0098916                        \n",
       "4   18123                 22221        GO:0099537                        \n",
       "5   18123                 22391        GO:0099536                        \n",
       "6   18123                 22231        GO:0008088                        \n",
       "7   18123                  3538        GO:0010970                        \n",
       "8   18123                  7973        GO:0046907                        \n",
       "9   18123                  2798        GO:0006810                        \n",
       "10  18123                 15012        GO:0030182, GO:0048468            \n",
       "11  18123                 12755        GO:0009058, GO:0044281            \n",
       "12  18123                 15379        GO:0007268, GO:0099177            \n",
       "13  18123                   435        GO:0065008                        \n",
       "14  18123                 22360        GO:0010646, GO:0023051, GO:0099537\n",
       "15  18123                 16053        GO:0051640                        \n",
       "16  18123                  8239        GO:0048666, GO:0120036            \n",
       "17  18123                 23108        GO:0006810, GO:0009987            \n",
       "18  18123                 22318        GO:0006810, GO:0007018            \n",
       "19  18123                  5101        GO:0030705, GO:0099111            \n",
       "20  18123                 21910        GO:0051648                        \n",
       "21  18123                 14525        GO:0072384, GO:0099518            \n",
       "22  18123                 15586        GO:0006810, GO:0032879            \n",
       "23  18123                  3171        GO:0007154, GO:0023052            \n",
       "24  18123                   308        GO:0000902, GO:0048468            \n",
       "25  18123                 22821        GO:0030030                        \n",
       "26  18123                 15193        GO:0000902, GO:0030030, GO:0032990\n",
       "27  18123                 22382        GO:0030705, GO:0051650            \n",
       "28  18123                  7699        GO:0016043                        \n",
       "29  18123                 15148        GO:0031175, GO:0120039            \n",
       "30  18123                  7753        GO:0030154, GO:0048699            \n",
       "... ...                   ...          ...                               \n",
       "708 19917                 8220         TF:M00000                         \n",
       "709 19917                 8756         TF:M00000                         \n",
       "710 19917                 1584         TF:M00000                         \n",
       "711 19917                 5778         TF:M00000                         \n",
       "712 19917                  594         TF:M00000                         \n",
       "713 19917                 7556         TF:M00000                         \n",
       "714 19917                  796         TF:M00000                         \n",
       "715 19917                 8176         TF:M00000                         \n",
       "716 19917                 6051         TF:M11877                         \n",
       "717 19917                 7639         TF:M11081                         \n",
       "718 19917                 3171         TF:M07041                         \n",
       "719 19917                  137         TF:M00470                         \n",
       "720 19917                 7032         TF:M00000                         \n",
       "721 19917                 8770         TF:M00000                         \n",
       "722 19917                 1099         TF:M07249                         \n",
       "723 19917                 1541         TF:M09603                         \n",
       "724 19917                 7815         TF:M10086                         \n",
       "725 19917                 1458         TF:M00000                         \n",
       "726 19917                 7545         TF:M00665                         \n",
       "727 19917                 4030         TF:M00000                         \n",
       "728 19917                 5010         TF:M00000                         \n",
       "729 19917                 5934         TF:M00000                         \n",
       "730 19917                 1539         TF:M07208                         \n",
       "731 19917                 1459         TF:M09896                         \n",
       "732  7562                  581         WP:000000                         \n",
       "733  7562                  466         WP:000000                         \n",
       "734  7562                  572         WP:000000                         \n",
       "735  7562                  594         WP:000000                         \n",
       "736  7562                  652         WP:000000                         \n",
       "737  7562                  260         WP:000000                         "
      ]
     },
     "metadata": {},
     "output_type": "display_data"
    }
   ],
   "source": [
    "genes_pos = gene_list[gene_list>0.4]\n",
    "if (length(genes_pos)==0){next}\n",
    "# order\n",
    "genes_pos = genes_pos[order(genes_pos, decreasing = T)]\n",
    "# get gene names only\n",
    "genes = gsub(\".*_\",\"\",names(genes_pos))\n",
    "# run gprofiler\n",
    "gres = gost(query=genes, organism = \"hsapiens\", ordered_query = TRUE, significant=TRUE)\n",
    "gres$result"
   ]
  },
  {
   "cell_type": "code",
   "execution_count": null,
   "id": "7784de39",
   "metadata": {},
   "outputs": [],
   "source": []
  }
 ],
 "metadata": {
  "kernelspec": {
   "display_name": "R",
   "language": "R",
   "name": "ir"
  },
  "language_info": {
   "codemirror_mode": "r",
   "file_extension": ".r",
   "mimetype": "text/x-r-source",
   "name": "R",
   "pygments_lexer": "r",
   "version": "3.6.1"
  }
 },
 "nbformat": 4,
 "nbformat_minor": 5
}
