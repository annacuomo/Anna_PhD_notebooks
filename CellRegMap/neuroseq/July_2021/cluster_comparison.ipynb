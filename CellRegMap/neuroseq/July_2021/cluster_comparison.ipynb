{
 "cells": [
  {
   "cell_type": "code",
   "execution_count": 1,
   "id": "b5f84f51",
   "metadata": {},
   "outputs": [
    {
     "data": {
      "text/html": [
       "8352"
      ],
      "text/latex": [
       "8352"
      ],
      "text/markdown": [
       "8352"
      ],
      "text/plain": [
       "[1] 8352"
      ]
     },
     "metadata": {},
     "output_type": "display_data"
    },
    {
     "data": {
      "text/html": [
       "213"
      ],
      "text/latex": [
       "213"
      ],
      "text/markdown": [
       "213"
      ],
      "text/plain": [
       "[1] 213"
      ]
     },
     "metadata": {},
     "output_type": "display_data"
    },
    {
     "data": {
      "text/html": [
       "<table>\n",
       "<thead><tr><th></th><th scope=col>ABHD10_.3_111697439_T_G</th><th scope=col>ABHD12B_.14_51328222_C_T</th><th scope=col>ACKR2_.3_42817129_C_T</th><th scope=col>ADD2_.2_70894426_A_T</th><th scope=col>ADSL_.22_40757228_A_C</th><th scope=col>AIM1L_.1_26673825_C_T</th><th scope=col>AKAP7_.6_131691964_C_A</th><th scope=col>ALDH7A1_.5_126011412_G_A</th><th scope=col>ANKRD18B_.9_33524775_C_A</th><th scope=col>APIP_.11_34905987_T_C</th><th scope=col>...</th><th scope=col>YWHAE_.17_1246420_G_A</th><th scope=col>ZBBX_.3_167080934_T_G</th><th scope=col>ZC3HAV1_.7_138730361_T_C</th><th scope=col>ZFR2_.19_3840157_C_T</th><th scope=col>ZG16B_.16_2871121_T_C</th><th scope=col>ZNF423_.16_49599995_C_G</th><th scope=col>ZNF552_.19_58315273_G_A</th><th scope=col>ZNF738_.19_21474173_G_A</th><th scope=col>ZNF77_.19_2936535_G_A</th><th scope=col>ZP3_.7_76177284_C_T</th></tr></thead>\n",
       "<tbody>\n",
       "\t<tr><th scope=row>HPSI0714i-iudw_1--DA--d30--0</th><td>-0.2108622   </td><td> 0.003924475 </td><td>0.02206444   </td><td>0.02834211   </td><td> 0.2235163   </td><td>-0.03575032  </td><td>-0.09473256  </td><td> 0.006901295 </td><td> 0.0006737957</td><td>-0.07499119  </td><td>...          </td><td> 0.06962421  </td><td>0.1120253    </td><td>-0.04172133  </td><td>0.01126897   </td><td> 0.1057579   </td><td>-0.03101814  </td><td>0.0909417    </td><td>0.3020245    </td><td>-0.1583842   </td><td>-0.05596878  </td></tr>\n",
       "\t<tr><th scope=row>HPSI0714i-iudw_1--DA--d30--1</th><td>-0.2283969   </td><td>-0.047217741 </td><td>0.10596178   </td><td>0.02514689   </td><td>-0.1921801   </td><td>-0.01471768  </td><td> 0.01878961  </td><td>-0.171038975 </td><td>-0.1105473675</td><td>-0.18686595  </td><td>...          </td><td>-0.21070417  </td><td>0.3759854    </td><td> 0.08774666  </td><td>0.02505916   </td><td>-0.1950055   </td><td>-0.22780547  </td><td>0.0775938    </td><td>0.3452492    </td><td>-0.3472152   </td><td>-0.15259400  </td></tr>\n",
       "</tbody>\n",
       "</table>\n"
      ],
      "text/latex": [
       "\\begin{tabular}{r|lllllllllllllllllllllllllllllllllllllllllllllllllllllllllllllllllllllllllllllllllllllllllllllllllllllllllllllllllllllllllllllllllllllllllllllllllllllllllllllllllllllllllllllllllllllllllllllllllllllllllllllllllllll}\n",
       "  & ABHD10\\_.3\\_111697439\\_T\\_G & ABHD12B\\_.14\\_51328222\\_C\\_T & ACKR2\\_.3\\_42817129\\_C\\_T & ADD2\\_.2\\_70894426\\_A\\_T & ADSL\\_.22\\_40757228\\_A\\_C & AIM1L\\_.1\\_26673825\\_C\\_T & AKAP7\\_.6\\_131691964\\_C\\_A & ALDH7A1\\_.5\\_126011412\\_G\\_A & ANKRD18B\\_.9\\_33524775\\_C\\_A & APIP\\_.11\\_34905987\\_T\\_C & ... & YWHAE\\_.17\\_1246420\\_G\\_A & ZBBX\\_.3\\_167080934\\_T\\_G & ZC3HAV1\\_.7\\_138730361\\_T\\_C & ZFR2\\_.19\\_3840157\\_C\\_T & ZG16B\\_.16\\_2871121\\_T\\_C & ZNF423\\_.16\\_49599995\\_C\\_G & ZNF552\\_.19\\_58315273\\_G\\_A & ZNF738\\_.19\\_21474173\\_G\\_A & ZNF77\\_.19\\_2936535\\_G\\_A & ZP3\\_.7\\_76177284\\_C\\_T\\\\\n",
       "\\hline\n",
       "\tHPSI0714i-iudw\\_1--DA--d30--0 & -0.2108622    &  0.003924475  & 0.02206444    & 0.02834211    &  0.2235163    & -0.03575032   & -0.09473256   &  0.006901295  &  0.0006737957 & -0.07499119   & ...           &  0.06962421   & 0.1120253     & -0.04172133   & 0.01126897    &  0.1057579    & -0.03101814   & 0.0909417     & 0.3020245     & -0.1583842    & -0.05596878  \\\\\n",
       "\tHPSI0714i-iudw\\_1--DA--d30--1 & -0.2283969    & -0.047217741  & 0.10596178    & 0.02514689    & -0.1921801    & -0.01471768   &  0.01878961   & -0.171038975  & -0.1105473675 & -0.18686595   & ...           & -0.21070417   & 0.3759854     &  0.08774666   & 0.02505916    & -0.1950055    & -0.22780547   & 0.0775938     & 0.3452492     & -0.3472152    & -0.15259400  \\\\\n",
       "\\end{tabular}\n"
      ],
      "text/markdown": [
       "\n",
       "| <!--/--> | ABHD10_.3_111697439_T_G | ABHD12B_.14_51328222_C_T | ACKR2_.3_42817129_C_T | ADD2_.2_70894426_A_T | ADSL_.22_40757228_A_C | AIM1L_.1_26673825_C_T | AKAP7_.6_131691964_C_A | ALDH7A1_.5_126011412_G_A | ANKRD18B_.9_33524775_C_A | APIP_.11_34905987_T_C | ... | YWHAE_.17_1246420_G_A | ZBBX_.3_167080934_T_G | ZC3HAV1_.7_138730361_T_C | ZFR2_.19_3840157_C_T | ZG16B_.16_2871121_T_C | ZNF423_.16_49599995_C_G | ZNF552_.19_58315273_G_A | ZNF738_.19_21474173_G_A | ZNF77_.19_2936535_G_A | ZP3_.7_76177284_C_T |\n",
       "|---|---|---|---|---|---|---|---|---|---|---|---|---|---|---|---|---|---|---|---|---|---|\n",
       "| HPSI0714i-iudw_1--DA--d30--0 | -0.2108622    |  0.003924475  | 0.02206444    | 0.02834211    |  0.2235163    | -0.03575032   | -0.09473256   |  0.006901295  |  0.0006737957 | -0.07499119   | ...           |  0.06962421   | 0.1120253     | -0.04172133   | 0.01126897    |  0.1057579    | -0.03101814   | 0.0909417     | 0.3020245     | -0.1583842    | -0.05596878   |\n",
       "| HPSI0714i-iudw_1--DA--d30--1 | -0.2283969    | -0.047217741  | 0.10596178    | 0.02514689    | -0.1921801    | -0.01471768   |  0.01878961   | -0.171038975  | -0.1105473675 | -0.18686595   | ...           | -0.21070417   | 0.3759854     |  0.08774666   | 0.02505916    | -0.1950055    | -0.22780547   | 0.0775938     | 0.3452492     | -0.3472152    | -0.15259400   |\n",
       "\n"
      ],
      "text/plain": [
       "                             ABHD10_.3_111697439_T_G ABHD12B_.14_51328222_C_T\n",
       "HPSI0714i-iudw_1--DA--d30--0 -0.2108622               0.003924475            \n",
       "HPSI0714i-iudw_1--DA--d30--1 -0.2283969              -0.047217741            \n",
       "                             ACKR2_.3_42817129_C_T ADD2_.2_70894426_A_T\n",
       "HPSI0714i-iudw_1--DA--d30--0 0.02206444            0.02834211          \n",
       "HPSI0714i-iudw_1--DA--d30--1 0.10596178            0.02514689          \n",
       "                             ADSL_.22_40757228_A_C AIM1L_.1_26673825_C_T\n",
       "HPSI0714i-iudw_1--DA--d30--0  0.2235163            -0.03575032          \n",
       "HPSI0714i-iudw_1--DA--d30--1 -0.1921801            -0.01471768          \n",
       "                             AKAP7_.6_131691964_C_A ALDH7A1_.5_126011412_G_A\n",
       "HPSI0714i-iudw_1--DA--d30--0 -0.09473256             0.006901295            \n",
       "HPSI0714i-iudw_1--DA--d30--1  0.01878961            -0.171038975            \n",
       "                             ANKRD18B_.9_33524775_C_A APIP_.11_34905987_T_C ...\n",
       "HPSI0714i-iudw_1--DA--d30--0  0.0006737957            -0.07499119           ...\n",
       "HPSI0714i-iudw_1--DA--d30--1 -0.1105473675            -0.18686595           ...\n",
       "                             YWHAE_.17_1246420_G_A ZBBX_.3_167080934_T_G\n",
       "HPSI0714i-iudw_1--DA--d30--0  0.06962421           0.1120253            \n",
       "HPSI0714i-iudw_1--DA--d30--1 -0.21070417           0.3759854            \n",
       "                             ZC3HAV1_.7_138730361_T_C ZFR2_.19_3840157_C_T\n",
       "HPSI0714i-iudw_1--DA--d30--0 -0.04172133              0.01126897          \n",
       "HPSI0714i-iudw_1--DA--d30--1  0.08774666              0.02505916          \n",
       "                             ZG16B_.16_2871121_T_C ZNF423_.16_49599995_C_G\n",
       "HPSI0714i-iudw_1--DA--d30--0  0.1057579            -0.03101814            \n",
       "HPSI0714i-iudw_1--DA--d30--1 -0.1950055            -0.22780547            \n",
       "                             ZNF552_.19_58315273_G_A ZNF738_.19_21474173_G_A\n",
       "HPSI0714i-iudw_1--DA--d30--0 0.0909417               0.3020245              \n",
       "HPSI0714i-iudw_1--DA--d30--1 0.0775938               0.3452492              \n",
       "                             ZNF77_.19_2936535_G_A ZP3_.7_76177284_C_T\n",
       "HPSI0714i-iudw_1--DA--d30--0 -0.1583842            -0.05596878        \n",
       "HPSI0714i-iudw_1--DA--d30--1 -0.3472152            -0.15259400        "
      ]
     },
     "metadata": {},
     "output_type": "display_data"
    }
   ],
   "source": [
    "# this file contains estimated genetic effects due to GxC for 8,352 pseudo-cells, 213 significant sp-eQTL\n",
    "filename = \"/hps/nobackup/stegle/users/acuomo/all_scripts/struct_LMM2/sc_neuroseq/May2021/genetic_effect/MOFA10/eqtl_tot_genetic_effect_all.txt\"\n",
    "df0 = read.csv(filename, row.names=1, sep=\"\\t\")\n",
    "nrow(df0)\n",
    "ncol(df0)\n",
    "head(df0,2)"
   ]
  },
  {
   "cell_type": "code",
   "execution_count": 3,
   "id": "9470e233",
   "metadata": {},
   "outputs": [
    {
     "data": {
      "text/html": [
       "32738"
      ],
      "text/latex": [
       "32738"
      ],
      "text/markdown": [
       "32738"
      ],
      "text/plain": [
       "[1] 32738"
      ]
     },
     "metadata": {},
     "output_type": "display_data"
    },
    {
     "data": {
      "text/html": [
       "9219"
      ],
      "text/latex": [
       "9219"
      ],
      "text/markdown": [
       "9219"
      ],
      "text/plain": [
       "[1] 9219"
      ]
     },
     "metadata": {},
     "output_type": "display_data"
    },
    {
     "data": {
      "text/html": [
       "<table>\n",
       "<thead><tr><th></th><th scope=col>HPSI0714i-iudw_1--DA--d30--0</th><th scope=col>HPSI0714i-iudw_1--DA--d30--1</th><th scope=col>HPSI0714i-iudw_1--DA--d30--2</th><th scope=col>HPSI0714i-iudw_1--DA--d30--3</th><th scope=col>HPSI0714i-iudw_1--DA--d30--4</th></tr></thead>\n",
       "<tbody>\n",
       "\t<tr><th scope=row>MIR1302.10</th><td>0</td><td>0</td><td>0</td><td>0</td><td>0</td></tr>\n",
       "\t<tr><th scope=row>FAM138A</th><td>0</td><td>0</td><td>0</td><td>0</td><td>0</td></tr>\n",
       "\t<tr><th scope=row>OR4F5</th><td>0</td><td>0</td><td>0</td><td>0</td><td>0</td></tr>\n",
       "\t<tr><th scope=row>RP11.34P13.7</th><td>0</td><td>0</td><td>0</td><td>0</td><td>0</td></tr>\n",
       "\t<tr><th scope=row>RP11.34P13.8</th><td>0</td><td>0</td><td>0</td><td>0</td><td>0</td></tr>\n",
       "</tbody>\n",
       "</table>\n"
      ],
      "text/latex": [
       "\\begin{tabular}{r|lllll}\n",
       "  & HPSI0714i-iudw\\_1--DA--d30--0 & HPSI0714i-iudw\\_1--DA--d30--1 & HPSI0714i-iudw\\_1--DA--d30--2 & HPSI0714i-iudw\\_1--DA--d30--3 & HPSI0714i-iudw\\_1--DA--d30--4\\\\\n",
       "\\hline\n",
       "\tMIR1302.10 & 0 & 0 & 0 & 0 & 0\\\\\n",
       "\tFAM138A & 0 & 0 & 0 & 0 & 0\\\\\n",
       "\tOR4F5 & 0 & 0 & 0 & 0 & 0\\\\\n",
       "\tRP11.34P13.7 & 0 & 0 & 0 & 0 & 0\\\\\n",
       "\tRP11.34P13.8 & 0 & 0 & 0 & 0 & 0\\\\\n",
       "\\end{tabular}\n"
      ],
      "text/markdown": [
       "\n",
       "| <!--/--> | HPSI0714i-iudw_1--DA--d30--0 | HPSI0714i-iudw_1--DA--d30--1 | HPSI0714i-iudw_1--DA--d30--2 | HPSI0714i-iudw_1--DA--d30--3 | HPSI0714i-iudw_1--DA--d30--4 |\n",
       "|---|---|---|---|---|---|\n",
       "| MIR1302.10 | 0 | 0 | 0 | 0 | 0 |\n",
       "| FAM138A | 0 | 0 | 0 | 0 | 0 |\n",
       "| OR4F5 | 0 | 0 | 0 | 0 | 0 |\n",
       "| RP11.34P13.7 | 0 | 0 | 0 | 0 | 0 |\n",
       "| RP11.34P13.8 | 0 | 0 | 0 | 0 | 0 |\n",
       "\n"
      ],
      "text/plain": [
       "             HPSI0714i-iudw_1--DA--d30--0 HPSI0714i-iudw_1--DA--d30--1\n",
       "MIR1302.10   0                            0                           \n",
       "FAM138A      0                            0                           \n",
       "OR4F5        0                            0                           \n",
       "RP11.34P13.7 0                            0                           \n",
       "RP11.34P13.8 0                            0                           \n",
       "             HPSI0714i-iudw_1--DA--d30--2 HPSI0714i-iudw_1--DA--d30--3\n",
       "MIR1302.10   0                            0                           \n",
       "FAM138A      0                            0                           \n",
       "OR4F5        0                            0                           \n",
       "RP11.34P13.7 0                            0                           \n",
       "RP11.34P13.8 0                            0                           \n",
       "             HPSI0714i-iudw_1--DA--d30--4\n",
       "MIR1302.10   0                           \n",
       "FAM138A      0                           \n",
       "OR4F5        0                           \n",
       "RP11.34P13.7 0                           \n",
       "RP11.34P13.8 0                           "
      ]
     },
     "metadata": {},
     "output_type": "display_data"
    }
   ],
   "source": [
    "# this file contains gene expression for XX pseudocells\n",
    "input_files_dir = \"/hps/nobackup/stegle/users/acuomo/all_scripts/struct_LMM2/sc_neuroseq/May2021/input_files/\"\n",
    "phenotype_file = paste0(input_files_dir,\"phenotype.csv\")\n",
    "# df = read.csv(phenotype_file, row.names=1)\n",
    "colnames(df) = gsub(\"\\\\.\",\"-\",colnames(df))\n",
    "nrow(df)\n",
    "ncol(df)\n",
    "df[1:5,1:5]"
   ]
  },
  {
   "cell_type": "code",
   "execution_count": 4,
   "id": "80e3c0d9",
   "metadata": {},
   "outputs": [
    {
     "data": {
      "text/html": [
       "<ol class=list-inline>\n",
       "\t<li>'ABHD10'</li>\n",
       "\t<li>'ABHD12B'</li>\n",
       "\t<li>'ACKR2'</li>\n",
       "\t<li>'ADD2'</li>\n",
       "\t<li>'ADSL'</li>\n",
       "\t<li>'AIM1L'</li>\n",
       "</ol>\n"
      ],
      "text/latex": [
       "\\begin{enumerate*}\n",
       "\\item 'ABHD10'\n",
       "\\item 'ABHD12B'\n",
       "\\item 'ACKR2'\n",
       "\\item 'ADD2'\n",
       "\\item 'ADSL'\n",
       "\\item 'AIM1L'\n",
       "\\end{enumerate*}\n"
      ],
      "text/markdown": [
       "1. 'ABHD10'\n",
       "2. 'ABHD12B'\n",
       "3. 'ACKR2'\n",
       "4. 'ADD2'\n",
       "5. 'ADSL'\n",
       "6. 'AIM1L'\n",
       "\n",
       "\n"
      ],
      "text/plain": [
       "[1] \"ABHD10\"  \"ABHD12B\" \"ACKR2\"   \"ADD2\"    \"ADSL\"    \"AIM1L\"  "
      ]
     },
     "metadata": {},
     "output_type": "display_data"
    }
   ],
   "source": [
    "pseudocells = rownames(df0)\n",
    "genes = gsub(\"_.*\",\"\", colnames(df0))\n",
    "head(genes)"
   ]
  },
  {
   "cell_type": "code",
   "execution_count": 5,
   "id": "39673153",
   "metadata": {},
   "outputs": [
    {
     "data": {
      "text/html": [
       "8352"
      ],
      "text/latex": [
       "8352"
      ],
      "text/markdown": [
       "8352"
      ],
      "text/plain": [
       "[1] 8352"
      ]
     },
     "metadata": {},
     "output_type": "display_data"
    },
    {
     "data": {
      "text/html": [
       "213"
      ],
      "text/latex": [
       "213"
      ],
      "text/markdown": [
       "213"
      ],
      "text/plain": [
       "[1] 213"
      ]
     },
     "metadata": {},
     "output_type": "display_data"
    }
   ],
   "source": [
    "df1 = t(df)[pseudocells, genes]\n",
    "nrow(df1)\n",
    "ncol(df1)"
   ]
  },
  {
   "cell_type": "code",
   "execution_count": 6,
   "id": "26500af9",
   "metadata": {},
   "outputs": [
    {
     "data": {
      "text/html": [
       "<table>\n",
       "<thead><tr><th></th><th scope=col>ABHD10</th><th scope=col>ABHD12B</th><th scope=col>ACKR2</th><th scope=col>ADD2</th><th scope=col>ADSL</th><th scope=col>AIM1L</th><th scope=col>AKAP7</th><th scope=col>ALDH7A1</th><th scope=col>ANKRD18B</th><th scope=col>APIP</th><th scope=col>...</th><th scope=col>YWHAE</th><th scope=col>ZBBX</th><th scope=col>ZC3HAV1</th><th scope=col>ZFR2</th><th scope=col>ZG16B</th><th scope=col>ZNF423</th><th scope=col>ZNF552</th><th scope=col>ZNF738</th><th scope=col>ZNF77</th><th scope=col>ZP3</th></tr></thead>\n",
       "<tbody>\n",
       "\t<tr><th scope=row>HPSI0714i-iudw_1--DA--d30--0</th><td>0.9069611</td><td>0        </td><td>0.3104373</td><td>1.5149136</td><td>2.410316 </td><td>0.0000000</td><td>0.0000000</td><td>4.136461 </td><td>0        </td><td>2.4753144</td><td>...      </td><td>10.18838 </td><td>0.0000000</td><td>0.0000000</td><td>3.6613960</td><td>0        </td><td>0.6004102</td><td>0.6107332</td><td>2.7421923</td><td>0.6239571</td><td>0        </td></tr>\n",
       "\t<tr><th scope=row>HPSI0714i-iudw_1--DA--d30--1</th><td>1.5866959</td><td>0        </td><td>0.0000000</td><td>1.5376024</td><td>1.986789 </td><td>0.0000000</td><td>0.0000000</td><td>1.724699 </td><td>0        </td><td>0.3882883</td><td>...      </td><td>10.08915 </td><td>0.0000000</td><td>0.0000000</td><td>3.1470747</td><td>0        </td><td>0.0000000</td><td>0.0000000</td><td>2.3635495</td><td>0.0000000</td><td>0        </td></tr>\n",
       "\t<tr><th scope=row>HPSI0714i-iudw_1--DA--d30--2</th><td>0.4049409</td><td>0        </td><td>0.0000000</td><td>0.4062685</td><td>1.607444 </td><td>0.0000000</td><td>0.4079275</td><td>2.103320 </td><td>0        </td><td>0.8640696</td><td>...      </td><td>11.14642 </td><td>0.0000000</td><td>0.3895288</td><td>0.3928825</td><td>0        </td><td>0.0000000</td><td>0.4009511</td><td>0.8332208</td><td>0.4020928</td><td>0        </td></tr>\n",
       "\t<tr><th scope=row>HPSI0714i-iudw_1--DA--d30--3</th><td>0.4010626</td><td>0        </td><td>0.0000000</td><td>1.2998977</td><td>2.413601 </td><td>0.0000000</td><td>0.0000000</td><td>1.202624 </td><td>0        </td><td>1.6052195</td><td>...      </td><td>10.34104 </td><td>0.0000000</td><td>0.0000000</td><td>1.6448562</td><td>0        </td><td>0.4053939</td><td>0.4041211</td><td>1.2015479</td><td>0.0000000</td><td>0        </td></tr>\n",
       "\t<tr><th scope=row>HPSI0714i-iudw_1--DA--d30--4</th><td>1.2753801</td><td>0        </td><td>0.0000000</td><td>2.0741293</td><td>4.958904 </td><td>0.4074815</td><td>0.0000000</td><td>2.225805 </td><td>0        </td><td>1.6013066</td><td>...      </td><td>10.41267 </td><td>0.4062913</td><td>0.0000000</td><td>2.0701358</td><td>0        </td><td>0.0000000</td><td>0.0000000</td><td>3.2946339</td><td>0.0000000</td><td>0        </td></tr>\n",
       "\t<tr><th scope=row>HPSI0714i-iudw_1--DA--d30--5</th><td>0.4775726</td><td>0        </td><td>0.0000000</td><td>1.9345891</td><td>2.968554 </td><td>0.0000000</td><td>0.0000000</td><td>2.642472 </td><td>0        </td><td>1.9610822</td><td>...      </td><td>10.91882 </td><td>0.0000000</td><td>0.0000000</td><td>3.0634625</td><td>0        </td><td>0.4788871</td><td>0.0000000</td><td>2.9470398</td><td>0.0000000</td><td>0        </td></tr>\n",
       "</tbody>\n",
       "</table>\n"
      ],
      "text/latex": [
       "\\begin{tabular}{r|lllllllllllllllllllllllllllllllllllllllllllllllllllllllllllllllllllllllllllllllllllllllllllllllllllllllllllllllllllllllllllllllllllllllllllllllllllllllllllllllllllllllllllllllllllllllllllllllllllllllllllllllllllll}\n",
       "  & ABHD10 & ABHD12B & ACKR2 & ADD2 & ADSL & AIM1L & AKAP7 & ALDH7A1 & ANKRD18B & APIP & ... & YWHAE & ZBBX & ZC3HAV1 & ZFR2 & ZG16B & ZNF423 & ZNF552 & ZNF738 & ZNF77 & ZP3\\\\\n",
       "\\hline\n",
       "\tHPSI0714i-iudw\\_1--DA--d30--0 & 0.9069611 & 0         & 0.3104373 & 1.5149136 & 2.410316  & 0.0000000 & 0.0000000 & 4.136461  & 0         & 2.4753144 & ...       & 10.18838  & 0.0000000 & 0.0000000 & 3.6613960 & 0         & 0.6004102 & 0.6107332 & 2.7421923 & 0.6239571 & 0        \\\\\n",
       "\tHPSI0714i-iudw\\_1--DA--d30--1 & 1.5866959 & 0         & 0.0000000 & 1.5376024 & 1.986789  & 0.0000000 & 0.0000000 & 1.724699  & 0         & 0.3882883 & ...       & 10.08915  & 0.0000000 & 0.0000000 & 3.1470747 & 0         & 0.0000000 & 0.0000000 & 2.3635495 & 0.0000000 & 0        \\\\\n",
       "\tHPSI0714i-iudw\\_1--DA--d30--2 & 0.4049409 & 0         & 0.0000000 & 0.4062685 & 1.607444  & 0.0000000 & 0.4079275 & 2.103320  & 0         & 0.8640696 & ...       & 11.14642  & 0.0000000 & 0.3895288 & 0.3928825 & 0         & 0.0000000 & 0.4009511 & 0.8332208 & 0.4020928 & 0        \\\\\n",
       "\tHPSI0714i-iudw\\_1--DA--d30--3 & 0.4010626 & 0         & 0.0000000 & 1.2998977 & 2.413601  & 0.0000000 & 0.0000000 & 1.202624  & 0         & 1.6052195 & ...       & 10.34104  & 0.0000000 & 0.0000000 & 1.6448562 & 0         & 0.4053939 & 0.4041211 & 1.2015479 & 0.0000000 & 0        \\\\\n",
       "\tHPSI0714i-iudw\\_1--DA--d30--4 & 1.2753801 & 0         & 0.0000000 & 2.0741293 & 4.958904  & 0.4074815 & 0.0000000 & 2.225805  & 0         & 1.6013066 & ...       & 10.41267  & 0.4062913 & 0.0000000 & 2.0701358 & 0         & 0.0000000 & 0.0000000 & 3.2946339 & 0.0000000 & 0        \\\\\n",
       "\tHPSI0714i-iudw\\_1--DA--d30--5 & 0.4775726 & 0         & 0.0000000 & 1.9345891 & 2.968554  & 0.0000000 & 0.0000000 & 2.642472  & 0         & 1.9610822 & ...       & 10.91882  & 0.0000000 & 0.0000000 & 3.0634625 & 0         & 0.4788871 & 0.0000000 & 2.9470398 & 0.0000000 & 0        \\\\\n",
       "\\end{tabular}\n"
      ],
      "text/markdown": [
       "\n",
       "| <!--/--> | ABHD10 | ABHD12B | ACKR2 | ADD2 | ADSL | AIM1L | AKAP7 | ALDH7A1 | ANKRD18B | APIP | ... | YWHAE | ZBBX | ZC3HAV1 | ZFR2 | ZG16B | ZNF423 | ZNF552 | ZNF738 | ZNF77 | ZP3 |\n",
       "|---|---|---|---|---|---|---|---|---|---|---|---|---|---|---|---|---|---|---|---|---|---|\n",
       "| HPSI0714i-iudw_1--DA--d30--0 | 0.9069611 | 0         | 0.3104373 | 1.5149136 | 2.410316  | 0.0000000 | 0.0000000 | 4.136461  | 0         | 2.4753144 | ...       | 10.18838  | 0.0000000 | 0.0000000 | 3.6613960 | 0         | 0.6004102 | 0.6107332 | 2.7421923 | 0.6239571 | 0         |\n",
       "| HPSI0714i-iudw_1--DA--d30--1 | 1.5866959 | 0         | 0.0000000 | 1.5376024 | 1.986789  | 0.0000000 | 0.0000000 | 1.724699  | 0         | 0.3882883 | ...       | 10.08915  | 0.0000000 | 0.0000000 | 3.1470747 | 0         | 0.0000000 | 0.0000000 | 2.3635495 | 0.0000000 | 0         |\n",
       "| HPSI0714i-iudw_1--DA--d30--2 | 0.4049409 | 0         | 0.0000000 | 0.4062685 | 1.607444  | 0.0000000 | 0.4079275 | 2.103320  | 0         | 0.8640696 | ...       | 11.14642  | 0.0000000 | 0.3895288 | 0.3928825 | 0         | 0.0000000 | 0.4009511 | 0.8332208 | 0.4020928 | 0         |\n",
       "| HPSI0714i-iudw_1--DA--d30--3 | 0.4010626 | 0         | 0.0000000 | 1.2998977 | 2.413601  | 0.0000000 | 0.0000000 | 1.202624  | 0         | 1.6052195 | ...       | 10.34104  | 0.0000000 | 0.0000000 | 1.6448562 | 0         | 0.4053939 | 0.4041211 | 1.2015479 | 0.0000000 | 0         |\n",
       "| HPSI0714i-iudw_1--DA--d30--4 | 1.2753801 | 0         | 0.0000000 | 2.0741293 | 4.958904  | 0.4074815 | 0.0000000 | 2.225805  | 0         | 1.6013066 | ...       | 10.41267  | 0.4062913 | 0.0000000 | 2.0701358 | 0         | 0.0000000 | 0.0000000 | 3.2946339 | 0.0000000 | 0         |\n",
       "| HPSI0714i-iudw_1--DA--d30--5 | 0.4775726 | 0         | 0.0000000 | 1.9345891 | 2.968554  | 0.0000000 | 0.0000000 | 2.642472  | 0         | 1.9610822 | ...       | 10.91882  | 0.0000000 | 0.0000000 | 3.0634625 | 0         | 0.4788871 | 0.0000000 | 2.9470398 | 0.0000000 | 0         |\n",
       "\n"
      ],
      "text/plain": [
       "                             ABHD10    ABHD12B ACKR2     ADD2      ADSL    \n",
       "HPSI0714i-iudw_1--DA--d30--0 0.9069611 0       0.3104373 1.5149136 2.410316\n",
       "HPSI0714i-iudw_1--DA--d30--1 1.5866959 0       0.0000000 1.5376024 1.986789\n",
       "HPSI0714i-iudw_1--DA--d30--2 0.4049409 0       0.0000000 0.4062685 1.607444\n",
       "HPSI0714i-iudw_1--DA--d30--3 0.4010626 0       0.0000000 1.2998977 2.413601\n",
       "HPSI0714i-iudw_1--DA--d30--4 1.2753801 0       0.0000000 2.0741293 4.958904\n",
       "HPSI0714i-iudw_1--DA--d30--5 0.4775726 0       0.0000000 1.9345891 2.968554\n",
       "                             AIM1L     AKAP7     ALDH7A1  ANKRD18B APIP     \n",
       "HPSI0714i-iudw_1--DA--d30--0 0.0000000 0.0000000 4.136461 0        2.4753144\n",
       "HPSI0714i-iudw_1--DA--d30--1 0.0000000 0.0000000 1.724699 0        0.3882883\n",
       "HPSI0714i-iudw_1--DA--d30--2 0.0000000 0.4079275 2.103320 0        0.8640696\n",
       "HPSI0714i-iudw_1--DA--d30--3 0.0000000 0.0000000 1.202624 0        1.6052195\n",
       "HPSI0714i-iudw_1--DA--d30--4 0.4074815 0.0000000 2.225805 0        1.6013066\n",
       "HPSI0714i-iudw_1--DA--d30--5 0.0000000 0.0000000 2.642472 0        1.9610822\n",
       "                             ... YWHAE    ZBBX      ZC3HAV1   ZFR2      ZG16B\n",
       "HPSI0714i-iudw_1--DA--d30--0 ... 10.18838 0.0000000 0.0000000 3.6613960 0    \n",
       "HPSI0714i-iudw_1--DA--d30--1 ... 10.08915 0.0000000 0.0000000 3.1470747 0    \n",
       "HPSI0714i-iudw_1--DA--d30--2 ... 11.14642 0.0000000 0.3895288 0.3928825 0    \n",
       "HPSI0714i-iudw_1--DA--d30--3 ... 10.34104 0.0000000 0.0000000 1.6448562 0    \n",
       "HPSI0714i-iudw_1--DA--d30--4 ... 10.41267 0.4062913 0.0000000 2.0701358 0    \n",
       "HPSI0714i-iudw_1--DA--d30--5 ... 10.91882 0.0000000 0.0000000 3.0634625 0    \n",
       "                             ZNF423    ZNF552    ZNF738    ZNF77     ZP3\n",
       "HPSI0714i-iudw_1--DA--d30--0 0.6004102 0.6107332 2.7421923 0.6239571 0  \n",
       "HPSI0714i-iudw_1--DA--d30--1 0.0000000 0.0000000 2.3635495 0.0000000 0  \n",
       "HPSI0714i-iudw_1--DA--d30--2 0.0000000 0.4009511 0.8332208 0.4020928 0  \n",
       "HPSI0714i-iudw_1--DA--d30--3 0.4053939 0.4041211 1.2015479 0.0000000 0  \n",
       "HPSI0714i-iudw_1--DA--d30--4 0.0000000 0.0000000 3.2946339 0.0000000 0  \n",
       "HPSI0714i-iudw_1--DA--d30--5 0.4788871 0.0000000 2.9470398 0.0000000 0  "
      ]
     },
     "metadata": {},
     "output_type": "display_data"
    }
   ],
   "source": [
    "head(df1)"
   ]
  },
  {
   "cell_type": "code",
   "execution_count": 92,
   "id": "fec30b45",
   "metadata": {},
   "outputs": [],
   "source": [
    "n_clus=8"
   ]
  },
  {
   "cell_type": "code",
   "execution_count": 93,
   "id": "c4028c73",
   "metadata": {},
   "outputs": [
    {
     "data": {
      "text/html": [
       "213"
      ],
      "text/latex": [
       "213"
      ],
      "text/markdown": [
       "213"
      ],
      "text/plain": [
       "[1] 213"
      ]
     },
     "metadata": {},
     "output_type": "display_data"
    },
    {
     "data": {
      "text/html": [
       "<table>\n",
       "<thead><tr><th></th><th scope=col>clusters_eqtl</th><th scope=col>eqtl</th></tr></thead>\n",
       "<tbody>\n",
       "\t<tr><th scope=row>ABHD10_.3_111697439_T_G</th><td>7                       </td><td>ABHD10_.3_111697439_T_G </td></tr>\n",
       "\t<tr><th scope=row>ABHD12B_.14_51328222_C_T</th><td>2                       </td><td>ABHD12B_.14_51328222_C_T</td></tr>\n",
       "</tbody>\n",
       "</table>\n"
      ],
      "text/latex": [
       "\\begin{tabular}{r|ll}\n",
       "  & clusters\\_eqtl & eqtl\\\\\n",
       "\\hline\n",
       "\tABHD10\\_.3\\_111697439\\_T\\_G & 7                                & ABHD10\\_.3\\_111697439\\_T\\_G \\\\\n",
       "\tABHD12B\\_.14\\_51328222\\_C\\_T & 2                                & ABHD12B\\_.14\\_51328222\\_C\\_T\\\\\n",
       "\\end{tabular}\n"
      ],
      "text/markdown": [
       "\n",
       "| <!--/--> | clusters_eqtl | eqtl |\n",
       "|---|---|---|\n",
       "| ABHD10_.3_111697439_T_G | 7                        | ABHD10_.3_111697439_T_G  |\n",
       "| ABHD12B_.14_51328222_C_T | 2                        | ABHD12B_.14_51328222_C_T |\n",
       "\n"
      ],
      "text/plain": [
       "                         clusters_eqtl eqtl                    \n",
       "ABHD10_.3_111697439_T_G  7             ABHD10_.3_111697439_T_G \n",
       "ABHD12B_.14_51328222_C_T 2             ABHD12B_.14_51328222_C_T"
      ]
     },
     "metadata": {},
     "output_type": "display_data"
    }
   ],
   "source": [
    "df2 = data.frame(clusters_eqtl = kmeans(t(df0),n_clus)$cluster, eqtl = colnames(df0))\n",
    "nrow(df2)\n",
    "head(df2,2)"
   ]
  },
  {
   "cell_type": "code",
   "execution_count": 94,
   "id": "8bdfe9dd",
   "metadata": {},
   "outputs": [
    {
     "data": {
      "text/html": [
       "213"
      ],
      "text/latex": [
       "213"
      ],
      "text/markdown": [
       "213"
      ],
      "text/plain": [
       "[1] 213"
      ]
     },
     "metadata": {},
     "output_type": "display_data"
    },
    {
     "data": {
      "text/html": [
       "<table>\n",
       "<thead><tr><th></th><th scope=col>clusters_gene</th><th scope=col>gene</th></tr></thead>\n",
       "<tbody>\n",
       "\t<tr><th scope=row>ABHD10</th><td>3      </td><td>ABHD10 </td></tr>\n",
       "\t<tr><th scope=row>ABHD12B</th><td>5      </td><td>ABHD12B</td></tr>\n",
       "</tbody>\n",
       "</table>\n"
      ],
      "text/latex": [
       "\\begin{tabular}{r|ll}\n",
       "  & clusters\\_gene & gene\\\\\n",
       "\\hline\n",
       "\tABHD10 & 3       & ABHD10 \\\\\n",
       "\tABHD12B & 5       & ABHD12B\\\\\n",
       "\\end{tabular}\n"
      ],
      "text/markdown": [
       "\n",
       "| <!--/--> | clusters_gene | gene |\n",
       "|---|---|---|\n",
       "| ABHD10 | 3       | ABHD10  |\n",
       "| ABHD12B | 5       | ABHD12B |\n",
       "\n"
      ],
      "text/plain": [
       "        clusters_gene gene   \n",
       "ABHD10  3             ABHD10 \n",
       "ABHD12B 5             ABHD12B"
      ]
     },
     "metadata": {},
     "output_type": "display_data"
    }
   ],
   "source": [
    "df3 = data.frame(clusters_gene = kmeans(t(df1),n_clus)$cluster, gene = colnames(df1))\n",
    "nrow(df3)\n",
    "head(df3,2)"
   ]
  },
  {
   "cell_type": "code",
   "execution_count": 95,
   "id": "9d4f750b",
   "metadata": {},
   "outputs": [
    {
     "data": {
      "text/html": [
       "213"
      ],
      "text/latex": [
       "213"
      ],
      "text/markdown": [
       "213"
      ],
      "text/plain": [
       "[1] 213"
      ]
     },
     "metadata": {},
     "output_type": "display_data"
    },
    {
     "data": {
      "text/html": [
       "<table>\n",
       "<thead><tr><th></th><th scope=col>clusters_eqtl</th><th scope=col>eqtl</th><th scope=col>clusters_gene</th><th scope=col>gene</th></tr></thead>\n",
       "<tbody>\n",
       "\t<tr><th scope=row>ABHD10_.3_111697439_T_G</th><td>7                       </td><td>ABHD10_.3_111697439_T_G </td><td>3                       </td><td>ABHD10                  </td></tr>\n",
       "\t<tr><th scope=row>ABHD12B_.14_51328222_C_T</th><td>2                       </td><td>ABHD12B_.14_51328222_C_T</td><td>5                       </td><td>ABHD12B                 </td></tr>\n",
       "</tbody>\n",
       "</table>\n"
      ],
      "text/latex": [
       "\\begin{tabular}{r|llll}\n",
       "  & clusters\\_eqtl & eqtl & clusters\\_gene & gene\\\\\n",
       "\\hline\n",
       "\tABHD10\\_.3\\_111697439\\_T\\_G & 7                                & ABHD10\\_.3\\_111697439\\_T\\_G  & 3                                & ABHD10                          \\\\\n",
       "\tABHD12B\\_.14\\_51328222\\_C\\_T & 2                                & ABHD12B\\_.14\\_51328222\\_C\\_T & 5                                & ABHD12B                         \\\\\n",
       "\\end{tabular}\n"
      ],
      "text/markdown": [
       "\n",
       "| <!--/--> | clusters_eqtl | eqtl | clusters_gene | gene |\n",
       "|---|---|---|---|---|\n",
       "| ABHD10_.3_111697439_T_G | 7                        | ABHD10_.3_111697439_T_G  | 3                        | ABHD10                   |\n",
       "| ABHD12B_.14_51328222_C_T | 2                        | ABHD12B_.14_51328222_C_T | 5                        | ABHD12B                  |\n",
       "\n"
      ],
      "text/plain": [
       "                         clusters_eqtl eqtl                     clusters_gene\n",
       "ABHD10_.3_111697439_T_G  7             ABHD10_.3_111697439_T_G  3            \n",
       "ABHD12B_.14_51328222_C_T 2             ABHD12B_.14_51328222_C_T 5            \n",
       "                         gene   \n",
       "ABHD10_.3_111697439_T_G  ABHD10 \n",
       "ABHD12B_.14_51328222_C_T ABHD12B"
      ]
     },
     "metadata": {},
     "output_type": "display_data"
    }
   ],
   "source": [
    "df4 = cbind(df2,df3)\n",
    "nrow(df4)\n",
    "head(df4,2)"
   ]
  },
  {
   "cell_type": "code",
   "execution_count": 96,
   "id": "59c97981",
   "metadata": {},
   "outputs": [
    {
     "data": {
      "text/plain": [
       "   \n",
       "     1  2  3  4  5  6  7  8\n",
       "  1  0  1  1  2  3  2  0  0\n",
       "  2  0  2 10  5 12 13  1  2\n",
       "  3  0  0  0  0  1  0  0  0\n",
       "  4  1  4  3  0  7  3  0  1\n",
       "  5  3  2  7  4 15 11  1  1\n",
       "  6  0  0  0  0  1  0  0  0\n",
       "  7  2  1  6  8 42 18  2  2\n",
       "  8  1  0  2  0  7  0  2  1"
      ]
     },
     "metadata": {},
     "output_type": "display_data"
    }
   ],
   "source": [
    "mat = as.matrix(table(df4$clusters_eqtl, df4$clusters_gene))\n",
    "mat"
   ]
  },
  {
   "cell_type": "code",
   "execution_count": 99,
   "id": "2b94e5a0",
   "metadata": {},
   "outputs": [
    {
     "data": {
      "text/html": [
       "<table>\n",
       "<thead><tr><th scope=col>GxC</th><th scope=col>gene_expression</th><th scope=col>value</th></tr></thead>\n",
       "<tbody>\n",
       "\t<tr><td>1</td><td>1</td><td>0</td></tr>\n",
       "\t<tr><td>2</td><td>1</td><td>0</td></tr>\n",
       "</tbody>\n",
       "</table>\n"
      ],
      "text/latex": [
       "\\begin{tabular}{r|lll}\n",
       " GxC & gene\\_expression & value\\\\\n",
       "\\hline\n",
       "\t 1 & 1 & 0\\\\\n",
       "\t 2 & 1 & 0\\\\\n",
       "\\end{tabular}\n"
      ],
      "text/markdown": [
       "\n",
       "| GxC | gene_expression | value |\n",
       "|---|---|---|\n",
       "| 1 | 1 | 0 |\n",
       "| 2 | 1 | 0 |\n",
       "\n"
      ],
      "text/plain": [
       "  GxC gene_expression value\n",
       "1 1   1               0    \n",
       "2 2   1               0    "
      ]
     },
     "metadata": {},
     "output_type": "display_data"
    },
    {
     "data": {
      "image/png": "[encoded data removed]",
      "text/plain": [
       "plot without title"
      ]
     },
     "metadata": {},
     "output_type": "display_data"
    }
   ],
   "source": [
    "library(reshape)\n",
    "library(ggplot2)\n",
    "melted_mat = melt(mat)\n",
    "colnames(melted_mat) = c(\"GxC\",\"gene_expression\",\"value\")\n",
    "head(melted_mat,2)\n",
    "options(repr.plot.width=4.7, repr.plot.height=4)\n",
    "ggplot(as.data.frame(melted_mat), aes(gene_expression, GxC, fill= value)) + \n",
    "  geom_tile() + scale_fill_gradient(low = \"white\",high=\"firebrick\")"
   ]
  },
  {
   "cell_type": "code",
   "execution_count": 98,
   "id": "aff5148a",
   "metadata": {},
   "outputs": [
    {
     "data": {
      "image/png": "[encoded data removed]",
      "text/plain": [
       "Plot with title “Histogram of df4$clusters_eqtl”"
      ]
     },
     "metadata": {},
     "output_type": "display_data"
    },
    {
     "data": {
      "image/png": "[encoded data removed]",
      "text/plain": [
       "Plot with title “Histogram of df4$clusters_gene”"
      ]
     },
     "metadata": {},
     "output_type": "display_data"
    }
   ],
   "source": [
    "hist(df4$clusters_eqtl)\n",
    "hist(df4$clusters_gene)"
   ]
  },
  {
   "cell_type": "code",
   "execution_count": null,
   "id": "f4e6a612",
   "metadata": {},
   "outputs": [],
   "source": []
  }
 ],
 "metadata": {
  "kernelspec": {
   "display_name": "R",
   "language": "R",
   "name": "ir"
  },
  "language_info": {
   "codemirror_mode": "r",
   "file_extension": ".r",
   "mimetype": "text/x-r-source",
   "name": "R",
   "pygments_lexer": "r",
   "version": "3.6.1"
  }
 },
 "nbformat": 4,
 "nbformat_minor": 5
}
