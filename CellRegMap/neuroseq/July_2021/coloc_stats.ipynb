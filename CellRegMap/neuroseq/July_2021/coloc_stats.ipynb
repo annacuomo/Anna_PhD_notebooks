{
 "cells": [
  {
   "cell_type": "code",
   "execution_count": 51,
   "id": "6d24f25c",
   "metadata": {},
   "outputs": [],
   "source": [
    "library(dplyr)\n",
    "library(ggplot2)\n",
    "library(qvalue)"
   ]
  },
  {
   "cell_type": "code",
   "execution_count": 31,
   "id": "cf06a9c8",
   "metadata": {},
   "outputs": [
    {
     "data": {
      "text/html": [
       "<table>\n",
       "<thead><tr><th scope=col>GWAS</th><th scope=col>GWAS_locus_ID</th><th scope=col>Cell_type</th><th scope=col>EnsembleID_GRCh38_v90</th><th scope=col>N_variants_overlapping_btw_GWAS_eQTL</th><th scope=col>PP0</th><th scope=col>PP1</th><th scope=col>PP2</th><th scope=col>PP3</th><th scope=col>PP4</th><th scope=col>Chromosome_GRCh38</th><th scope=col>GWAS_index_position_GRCh38</th><th scope=col>eQTL_lead_position_GRCh38</th></tr></thead>\n",
       "<tbody>\n",
       "\t<tr><td>GCST002245     </td><td>1              </td><td>FPP_D11        </td><td>ENSG00000196352</td><td>1401           </td><td>9.013658e-10   </td><td>0.6315856      </td><td>4.294654e-10   </td><td>0.30085818     </td><td>0.06755621     </td><td>1              </td><td>207747296      </td><td>207299599      </td></tr>\n",
       "\t<tr><td>GCST002245     </td><td>1              </td><td>FPP_D11        </td><td>ENSG00000117335</td><td>1705           </td><td>1.350689e-09   </td><td>0.9464255      </td><td>5.305940e-11   </td><td>0.03716222     </td><td>0.01641229     </td><td>1              </td><td>207747296      </td><td>208176628      </td></tr>\n",
       "</tbody>\n",
       "</table>\n"
      ],
      "text/latex": [
       "\\begin{tabular}{r|lllllllllllll}\n",
       " GWAS & GWAS\\_locus\\_ID & Cell\\_type & EnsembleID\\_GRCh38\\_v90 & N\\_variants\\_overlapping\\_btw\\_GWAS\\_eQTL & PP0 & PP1 & PP2 & PP3 & PP4 & Chromosome\\_GRCh38 & GWAS\\_index\\_position\\_GRCh38 & eQTL\\_lead\\_position\\_GRCh38\\\\\n",
       "\\hline\n",
       "\t GCST002245      & 1               & FPP\\_D11       & ENSG00000196352 & 1401            & 9.013658e-10    & 0.6315856       & 4.294654e-10    & 0.30085818      & 0.06755621      & 1               & 207747296       & 207299599      \\\\\n",
       "\t GCST002245      & 1               & FPP\\_D11       & ENSG00000117335 & 1705            & 1.350689e-09    & 0.9464255       & 5.305940e-11    & 0.03716222      & 0.01641229      & 1               & 207747296       & 208176628      \\\\\n",
       "\\end{tabular}\n"
      ],
      "text/markdown": [
       "\n",
       "| GWAS | GWAS_locus_ID | Cell_type | EnsembleID_GRCh38_v90 | N_variants_overlapping_btw_GWAS_eQTL | PP0 | PP1 | PP2 | PP3 | PP4 | Chromosome_GRCh38 | GWAS_index_position_GRCh38 | eQTL_lead_position_GRCh38 |\n",
       "|---|---|---|---|---|---|---|---|---|---|---|---|---|\n",
       "| GCST002245      | 1               | FPP_D11         | ENSG00000196352 | 1401            | 9.013658e-10    | 0.6315856       | 4.294654e-10    | 0.30085818      | 0.06755621      | 1               | 207747296       | 207299599       |\n",
       "| GCST002245      | 1               | FPP_D11         | ENSG00000117335 | 1705            | 1.350689e-09    | 0.9464255       | 5.305940e-11    | 0.03716222      | 0.01641229      | 1               | 207747296       | 208176628       |\n",
       "\n"
      ],
      "text/plain": [
       "  GWAS       GWAS_locus_ID Cell_type EnsembleID_GRCh38_v90\n",
       "1 GCST002245 1             FPP_D11   ENSG00000196352      \n",
       "2 GCST002245 1             FPP_D11   ENSG00000117335      \n",
       "  N_variants_overlapping_btw_GWAS_eQTL PP0          PP1       PP2         \n",
       "1 1401                                 9.013658e-10 0.6315856 4.294654e-10\n",
       "2 1705                                 1.350689e-09 0.9464255 5.305940e-11\n",
       "  PP3        PP4        Chromosome_GRCh38 GWAS_index_position_GRCh38\n",
       "1 0.30085818 0.06755621 1                 207747296                 \n",
       "2 0.03716222 0.01641229 1                 207747296                 \n",
       "  eQTL_lead_position_GRCh38\n",
       "1 207299599                \n",
       "2 208176628                "
      ]
     },
     "metadata": {},
     "output_type": "display_data"
    }
   ],
   "source": [
    "coloc_file = \"/hps/nobackup/stegle/users/acuomo/all_scripts/struct_LMM2/sc_neuroseq/da_coloc_GxC/coloc_neuroseq_25_traits.tsv\"\n",
    "df = read.csv(coloc_file, sep=\"\\t\")\n",
    "head(df,2)"
   ]
  },
  {
   "cell_type": "code",
   "execution_count": 32,
   "id": "84d95076",
   "metadata": {},
   "outputs": [
    {
     "data": {
      "text/html": [
       "162313"
      ],
      "text/latex": [
       "162313"
      ],
      "text/markdown": [
       "162313"
      ],
      "text/plain": [
       "[1] 162313"
      ]
     },
     "metadata": {},
     "output_type": "display_data"
    }
   ],
   "source": [
    "nrow(df)"
   ]
  },
  {
   "cell_type": "code",
   "execution_count": 33,
   "id": "ffc188a9",
   "metadata": {},
   "outputs": [
    {
     "data": {
      "text/html": [
       "31774"
      ],
      "text/latex": [
       "31774"
      ],
      "text/markdown": [
       "31774"
      ],
      "text/plain": [
       "[1] 31774"
      ]
     },
     "metadata": {},
     "output_type": "display_data"
    },
    {
     "data": {
      "text/html": [
       "<table>\n",
       "<thead><tr><th></th><th scope=col>GWAS</th><th scope=col>GWAS_locus_ID</th><th scope=col>Cell_type</th><th scope=col>EnsembleID_GRCh38_v90</th><th scope=col>N_variants_overlapping_btw_GWAS_eQTL</th><th scope=col>PP0</th><th scope=col>PP1</th><th scope=col>PP2</th><th scope=col>PP3</th><th scope=col>PP4</th><th scope=col>Chromosome_GRCh38</th><th scope=col>GWAS_index_position_GRCh38</th><th scope=col>eQTL_lead_position_GRCh38</th></tr></thead>\n",
       "<tbody>\n",
       "\t<tr><th scope=row>483</th><td>GCST002245     </td><td>1              </td><td>DA_D30         </td><td>ENSG00000196352</td><td>1191           </td><td>1.230127e-09   </td><td>0.86194825     </td><td>1.578736e-10   </td><td>0.1105944      </td><td>0.027457396    </td><td>1              </td><td>207747296      </td><td>207496129      </td></tr>\n",
       "\t<tr><th scope=row>484</th><td>GCST002245     </td><td>1              </td><td>DA_D30         </td><td>ENSG00000076356</td><td> 768           </td><td>1.601556e-10   </td><td>0.09821254     </td><td>1.466396e-09   </td><td>0.8992388      </td><td>0.002548686    </td><td>1              </td><td>207747296      </td><td>207829220      </td></tr>\n",
       "</tbody>\n",
       "</table>\n"
      ],
      "text/latex": [
       "\\begin{tabular}{r|lllllllllllll}\n",
       "  & GWAS & GWAS\\_locus\\_ID & Cell\\_type & EnsembleID\\_GRCh38\\_v90 & N\\_variants\\_overlapping\\_btw\\_GWAS\\_eQTL & PP0 & PP1 & PP2 & PP3 & PP4 & Chromosome\\_GRCh38 & GWAS\\_index\\_position\\_GRCh38 & eQTL\\_lead\\_position\\_GRCh38\\\\\n",
       "\\hline\n",
       "\t483 & GCST002245      & 1               & DA\\_D30        & ENSG00000196352 & 1191            & 1.230127e-09    & 0.86194825      & 1.578736e-10    & 0.1105944       & 0.027457396     & 1               & 207747296       & 207496129      \\\\\n",
       "\t484 & GCST002245      & 1               & DA\\_D30        & ENSG00000076356 &  768            & 1.601556e-10    & 0.09821254      & 1.466396e-09    & 0.8992388       & 0.002548686     & 1               & 207747296       & 207829220      \\\\\n",
       "\\end{tabular}\n"
      ],
      "text/markdown": [
       "\n",
       "| <!--/--> | GWAS | GWAS_locus_ID | Cell_type | EnsembleID_GRCh38_v90 | N_variants_overlapping_btw_GWAS_eQTL | PP0 | PP1 | PP2 | PP3 | PP4 | Chromosome_GRCh38 | GWAS_index_position_GRCh38 | eQTL_lead_position_GRCh38 |\n",
       "|---|---|---|---|---|---|---|---|---|---|---|---|---|---|\n",
       "| 483 | GCST002245      | 1               | DA_D30          | ENSG00000196352 | 1191            | 1.230127e-09    | 0.86194825      | 1.578736e-10    | 0.1105944       | 0.027457396     | 1               | 207747296       | 207496129       |\n",
       "| 484 | GCST002245      | 1               | DA_D30          | ENSG00000076356 |  768            | 1.601556e-10    | 0.09821254      | 1.466396e-09    | 0.8992388       | 0.002548686     | 1               | 207747296       | 207829220       |\n",
       "\n"
      ],
      "text/plain": [
       "    GWAS       GWAS_locus_ID Cell_type EnsembleID_GRCh38_v90\n",
       "483 GCST002245 1             DA_D30    ENSG00000196352      \n",
       "484 GCST002245 1             DA_D30    ENSG00000076356      \n",
       "    N_variants_overlapping_btw_GWAS_eQTL PP0          PP1        PP2         \n",
       "483 1191                                 1.230127e-09 0.86194825 1.578736e-10\n",
       "484  768                                 1.601556e-10 0.09821254 1.466396e-09\n",
       "    PP3       PP4         Chromosome_GRCh38 GWAS_index_position_GRCh38\n",
       "483 0.1105944 0.027457396 1                 207747296                 \n",
       "484 0.8992388 0.002548686 1                 207747296                 \n",
       "    eQTL_lead_position_GRCh38\n",
       "483 207496129                \n",
       "484 207829220                "
      ]
     },
     "metadata": {},
     "output_type": "display_data"
    }
   ],
   "source": [
    "da_df = df[grep(\"DA\",df$Cell_type),]\n",
    "nrow(da_df)\n",
    "head(da_df,2)"
   ]
  },
  {
   "cell_type": "code",
   "execution_count": 34,
   "id": "88a7f335",
   "metadata": {},
   "outputs": [
    {
     "data": {
      "text/html": [
       "459"
      ],
      "text/latex": [
       "459"
      ],
      "text/markdown": [
       "459"
      ],
      "text/plain": [
       "[1] 459"
      ]
     },
     "metadata": {},
     "output_type": "display_data"
    },
    {
     "data": {
      "text/html": [
       "<table>\n",
       "<thead><tr><th></th><th scope=col>GWAS</th><th scope=col>GWAS_locus_ID</th><th scope=col>Cell_type</th><th scope=col>EnsembleID_GRCh38_v90</th><th scope=col>N_variants_overlapping_btw_GWAS_eQTL</th><th scope=col>PP0</th><th scope=col>PP1</th><th scope=col>PP2</th><th scope=col>PP3</th><th scope=col>PP4</th><th scope=col>Chromosome_GRCh38</th><th scope=col>GWAS_index_position_GRCh38</th><th scope=col>eQTL_lead_position_GRCh38</th></tr></thead>\n",
       "<tbody>\n",
       "\t<tr><th scope=row>3263</th><td>GCST003496     </td><td>17             </td><td>DA_D30         </td><td>ENSG00000051825</td><td>535            </td><td>1.743264e-14   </td><td>6.906471e-12   </td><td>0.0003775438   </td><td>0.1487246      </td><td>0.8508979      </td><td>12             </td><td>123688849      </td><td>123615098      </td></tr>\n",
       "\t<tr><th scope=row>3264</th><td>GCST003496     </td><td>17             </td><td>DA_D30         </td><td>ENSG00000182196</td><td>518            </td><td>3.131037e-04   </td><td>1.240456e-01   </td><td>0.0004172993   </td><td>0.1646152      </td><td>0.7106088      </td><td>12             </td><td>123688849      </td><td>123660721      </td></tr>\n",
       "</tbody>\n",
       "</table>\n"
      ],
      "text/latex": [
       "\\begin{tabular}{r|lllllllllllll}\n",
       "  & GWAS & GWAS\\_locus\\_ID & Cell\\_type & EnsembleID\\_GRCh38\\_v90 & N\\_variants\\_overlapping\\_btw\\_GWAS\\_eQTL & PP0 & PP1 & PP2 & PP3 & PP4 & Chromosome\\_GRCh38 & GWAS\\_index\\_position\\_GRCh38 & eQTL\\_lead\\_position\\_GRCh38\\\\\n",
       "\\hline\n",
       "\t3263 & GCST003496      & 17              & DA\\_D30        & ENSG00000051825 & 535             & 1.743264e-14    & 6.906471e-12    & 0.0003775438    & 0.1487246       & 0.8508979       & 12              & 123688849       & 123615098      \\\\\n",
       "\t3264 & GCST003496      & 17              & DA\\_D30        & ENSG00000182196 & 518             & 3.131037e-04    & 1.240456e-01    & 0.0004172993    & 0.1646152       & 0.7106088       & 12              & 123688849       & 123660721      \\\\\n",
       "\\end{tabular}\n"
      ],
      "text/markdown": [
       "\n",
       "| <!--/--> | GWAS | GWAS_locus_ID | Cell_type | EnsembleID_GRCh38_v90 | N_variants_overlapping_btw_GWAS_eQTL | PP0 | PP1 | PP2 | PP3 | PP4 | Chromosome_GRCh38 | GWAS_index_position_GRCh38 | eQTL_lead_position_GRCh38 |\n",
       "|---|---|---|---|---|---|---|---|---|---|---|---|---|---|\n",
       "| 3263 | GCST003496      | 17              | DA_D30          | ENSG00000051825 | 535             | 1.743264e-14    | 6.906471e-12    | 0.0003775438    | 0.1487246       | 0.8508979       | 12              | 123688849       | 123615098       |\n",
       "| 3264 | GCST003496      | 17              | DA_D30          | ENSG00000182196 | 518             | 3.131037e-04    | 1.240456e-01    | 0.0004172993    | 0.1646152       | 0.7106088       | 12              | 123688849       | 123660721       |\n",
       "\n"
      ],
      "text/plain": [
       "     GWAS       GWAS_locus_ID Cell_type EnsembleID_GRCh38_v90\n",
       "3263 GCST003496 17            DA_D30    ENSG00000051825      \n",
       "3264 GCST003496 17            DA_D30    ENSG00000182196      \n",
       "     N_variants_overlapping_btw_GWAS_eQTL PP0          PP1         \n",
       "3263 535                                  1.743264e-14 6.906471e-12\n",
       "3264 518                                  3.131037e-04 1.240456e-01\n",
       "     PP2          PP3       PP4       Chromosome_GRCh38\n",
       "3263 0.0003775438 0.1487246 0.8508979 12               \n",
       "3264 0.0004172993 0.1646152 0.7106088 12               \n",
       "     GWAS_index_position_GRCh38 eQTL_lead_position_GRCh38\n",
       "3263 123688849                  123615098                \n",
       "3264 123688849                  123660721                "
      ]
     },
     "metadata": {},
     "output_type": "display_data"
    }
   ],
   "source": [
    "da_sign_df = da_df[da_df$PP4>0.5,]\n",
    "nrow(da_sign_df)\n",
    "head(da_sign_df,2)"
   ]
  },
  {
   "cell_type": "code",
   "execution_count": 35,
   "id": "11f3f45f",
   "metadata": {},
   "outputs": [
    {
     "data": {
      "text/html": [
       "232"
      ],
      "text/latex": [
       "232"
      ],
      "text/markdown": [
       "232"
      ],
      "text/plain": [
       "[1] 232"
      ]
     },
     "metadata": {},
     "output_type": "display_data"
    }
   ],
   "source": [
    "length(unique(da_sign_df$EnsembleID_GRCh38_v90))"
   ]
  },
  {
   "cell_type": "code",
   "execution_count": 36,
   "id": "75ef25de",
   "metadata": {},
   "outputs": [
    {
     "data": {
      "text/html": [
       "213"
      ],
      "text/latex": [
       "213"
      ],
      "text/markdown": [
       "213"
      ],
      "text/plain": [
       "[1] 213"
      ]
     },
     "metadata": {},
     "output_type": "display_data"
    },
    {
     "data": {
      "text/html": [
       "<table>\n",
       "<thead><tr><th></th><th scope=col>ABHD10_.3_111697439_T_G</th><th scope=col>ABHD12B_.14_51328222_C_T</th><th scope=col>ACKR2_.3_42817129_C_T</th><th scope=col>ADD2_.2_70894426_A_T</th><th scope=col>ADSL_.22_40757228_A_C</th><th scope=col>AIM1L_.1_26673825_C_T</th><th scope=col>AKAP7_.6_131691964_C_A</th><th scope=col>ALDH7A1_.5_126011412_G_A</th><th scope=col>ANKRD18B_.9_33524775_C_A</th><th scope=col>APIP_.11_34905987_T_C</th><th scope=col>...</th><th scope=col>YWHAE_.17_1246420_G_A</th><th scope=col>ZBBX_.3_167080934_T_G</th><th scope=col>ZC3HAV1_.7_138730361_T_C</th><th scope=col>ZFR2_.19_3840157_C_T</th><th scope=col>ZG16B_.16_2871121_T_C</th><th scope=col>ZNF423_.16_49599995_C_G</th><th scope=col>ZNF552_.19_58315273_G_A</th><th scope=col>ZNF738_.19_21474173_G_A</th><th scope=col>ZNF77_.19_2936535_G_A</th><th scope=col>ZP3_.7_76177284_C_T</th></tr></thead>\n",
       "<tbody>\n",
       "\t<tr><th scope=row>HPSI0714i-iudw_1--DA--d30--0</th><td>-0.2108622   </td><td> 0.003924475 </td><td>0.02206444   </td><td>0.02834211   </td><td> 0.2235163   </td><td>-0.03575032  </td><td>-0.09473256  </td><td> 0.006901295 </td><td> 0.0006737957</td><td>-0.07499119  </td><td>...          </td><td> 0.06962421  </td><td>0.1120253    </td><td>-0.04172133  </td><td>0.01126897   </td><td> 0.1057579   </td><td>-0.03101814  </td><td>0.0909417    </td><td>0.3020245    </td><td>-0.1583842   </td><td>-0.05596878  </td></tr>\n",
       "\t<tr><th scope=row>HPSI0714i-iudw_1--DA--d30--1</th><td>-0.2283969   </td><td>-0.047217741 </td><td>0.10596178   </td><td>0.02514689   </td><td>-0.1921801   </td><td>-0.01471768  </td><td> 0.01878961  </td><td>-0.171038975 </td><td>-0.1105473675</td><td>-0.18686595  </td><td>...          </td><td>-0.21070417  </td><td>0.3759854    </td><td> 0.08774666  </td><td>0.02505916   </td><td>-0.1950055   </td><td>-0.22780547  </td><td>0.0775938    </td><td>0.3452492    </td><td>-0.3472152   </td><td>-0.15259400  </td></tr>\n",
       "</tbody>\n",
       "</table>\n"
      ],
      "text/latex": [
       "\\begin{tabular}{r|lllllllllllllllllllllllllllllllllllllllllllllllllllllllllllllllllllllllllllllllllllllllllllllllllllllllllllllllllllllllllllllllllllllllllllllllllllllllllllllllllllllllllllllllllllllllllllllllllllllllllllllllllllll}\n",
       "  & ABHD10\\_.3\\_111697439\\_T\\_G & ABHD12B\\_.14\\_51328222\\_C\\_T & ACKR2\\_.3\\_42817129\\_C\\_T & ADD2\\_.2\\_70894426\\_A\\_T & ADSL\\_.22\\_40757228\\_A\\_C & AIM1L\\_.1\\_26673825\\_C\\_T & AKAP7\\_.6\\_131691964\\_C\\_A & ALDH7A1\\_.5\\_126011412\\_G\\_A & ANKRD18B\\_.9\\_33524775\\_C\\_A & APIP\\_.11\\_34905987\\_T\\_C & ... & YWHAE\\_.17\\_1246420\\_G\\_A & ZBBX\\_.3\\_167080934\\_T\\_G & ZC3HAV1\\_.7\\_138730361\\_T\\_C & ZFR2\\_.19\\_3840157\\_C\\_T & ZG16B\\_.16\\_2871121\\_T\\_C & ZNF423\\_.16\\_49599995\\_C\\_G & ZNF552\\_.19\\_58315273\\_G\\_A & ZNF738\\_.19\\_21474173\\_G\\_A & ZNF77\\_.19\\_2936535\\_G\\_A & ZP3\\_.7\\_76177284\\_C\\_T\\\\\n",
       "\\hline\n",
       "\tHPSI0714i-iudw\\_1--DA--d30--0 & -0.2108622    &  0.003924475  & 0.02206444    & 0.02834211    &  0.2235163    & -0.03575032   & -0.09473256   &  0.006901295  &  0.0006737957 & -0.07499119   & ...           &  0.06962421   & 0.1120253     & -0.04172133   & 0.01126897    &  0.1057579    & -0.03101814   & 0.0909417     & 0.3020245     & -0.1583842    & -0.05596878  \\\\\n",
       "\tHPSI0714i-iudw\\_1--DA--d30--1 & -0.2283969    & -0.047217741  & 0.10596178    & 0.02514689    & -0.1921801    & -0.01471768   &  0.01878961   & -0.171038975  & -0.1105473675 & -0.18686595   & ...           & -0.21070417   & 0.3759854     &  0.08774666   & 0.02505916    & -0.1950055    & -0.22780547   & 0.0775938     & 0.3452492     & -0.3472152    & -0.15259400  \\\\\n",
       "\\end{tabular}\n"
      ],
      "text/markdown": [
       "\n",
       "| <!--/--> | ABHD10_.3_111697439_T_G | ABHD12B_.14_51328222_C_T | ACKR2_.3_42817129_C_T | ADD2_.2_70894426_A_T | ADSL_.22_40757228_A_C | AIM1L_.1_26673825_C_T | AKAP7_.6_131691964_C_A | ALDH7A1_.5_126011412_G_A | ANKRD18B_.9_33524775_C_A | APIP_.11_34905987_T_C | ... | YWHAE_.17_1246420_G_A | ZBBX_.3_167080934_T_G | ZC3HAV1_.7_138730361_T_C | ZFR2_.19_3840157_C_T | ZG16B_.16_2871121_T_C | ZNF423_.16_49599995_C_G | ZNF552_.19_58315273_G_A | ZNF738_.19_21474173_G_A | ZNF77_.19_2936535_G_A | ZP3_.7_76177284_C_T |\n",
       "|---|---|---|---|---|---|---|---|---|---|---|---|---|---|---|---|---|---|---|---|---|---|\n",
       "| HPSI0714i-iudw_1--DA--d30--0 | -0.2108622    |  0.003924475  | 0.02206444    | 0.02834211    |  0.2235163    | -0.03575032   | -0.09473256   |  0.006901295  |  0.0006737957 | -0.07499119   | ...           |  0.06962421   | 0.1120253     | -0.04172133   | 0.01126897    |  0.1057579    | -0.03101814   | 0.0909417     | 0.3020245     | -0.1583842    | -0.05596878   |\n",
       "| HPSI0714i-iudw_1--DA--d30--1 | -0.2283969    | -0.047217741  | 0.10596178    | 0.02514689    | -0.1921801    | -0.01471768   |  0.01878961   | -0.171038975  | -0.1105473675 | -0.18686595   | ...           | -0.21070417   | 0.3759854     |  0.08774666   | 0.02505916    | -0.1950055    | -0.22780547   | 0.0775938     | 0.3452492     | -0.3472152    | -0.15259400   |\n",
       "\n"
      ],
      "text/plain": [
       "                             ABHD10_.3_111697439_T_G ABHD12B_.14_51328222_C_T\n",
       "HPSI0714i-iudw_1--DA--d30--0 -0.2108622               0.003924475            \n",
       "HPSI0714i-iudw_1--DA--d30--1 -0.2283969              -0.047217741            \n",
       "                             ACKR2_.3_42817129_C_T ADD2_.2_70894426_A_T\n",
       "HPSI0714i-iudw_1--DA--d30--0 0.02206444            0.02834211          \n",
       "HPSI0714i-iudw_1--DA--d30--1 0.10596178            0.02514689          \n",
       "                             ADSL_.22_40757228_A_C AIM1L_.1_26673825_C_T\n",
       "HPSI0714i-iudw_1--DA--d30--0  0.2235163            -0.03575032          \n",
       "HPSI0714i-iudw_1--DA--d30--1 -0.1921801            -0.01471768          \n",
       "                             AKAP7_.6_131691964_C_A ALDH7A1_.5_126011412_G_A\n",
       "HPSI0714i-iudw_1--DA--d30--0 -0.09473256             0.006901295            \n",
       "HPSI0714i-iudw_1--DA--d30--1  0.01878961            -0.171038975            \n",
       "                             ANKRD18B_.9_33524775_C_A APIP_.11_34905987_T_C ...\n",
       "HPSI0714i-iudw_1--DA--d30--0  0.0006737957            -0.07499119           ...\n",
       "HPSI0714i-iudw_1--DA--d30--1 -0.1105473675            -0.18686595           ...\n",
       "                             YWHAE_.17_1246420_G_A ZBBX_.3_167080934_T_G\n",
       "HPSI0714i-iudw_1--DA--d30--0  0.06962421           0.1120253            \n",
       "HPSI0714i-iudw_1--DA--d30--1 -0.21070417           0.3759854            \n",
       "                             ZC3HAV1_.7_138730361_T_C ZFR2_.19_3840157_C_T\n",
       "HPSI0714i-iudw_1--DA--d30--0 -0.04172133              0.01126897          \n",
       "HPSI0714i-iudw_1--DA--d30--1  0.08774666              0.02505916          \n",
       "                             ZG16B_.16_2871121_T_C ZNF423_.16_49599995_C_G\n",
       "HPSI0714i-iudw_1--DA--d30--0  0.1057579            -0.03101814            \n",
       "HPSI0714i-iudw_1--DA--d30--1 -0.1950055            -0.22780547            \n",
       "                             ZNF552_.19_58315273_G_A ZNF738_.19_21474173_G_A\n",
       "HPSI0714i-iudw_1--DA--d30--0 0.0909417               0.3020245              \n",
       "HPSI0714i-iudw_1--DA--d30--1 0.0775938               0.3452492              \n",
       "                             ZNF77_.19_2936535_G_A ZP3_.7_76177284_C_T\n",
       "HPSI0714i-iudw_1--DA--d30--0 -0.1583842            -0.05596878        \n",
       "HPSI0714i-iudw_1--DA--d30--1 -0.3472152            -0.15259400        "
      ]
     },
     "metadata": {},
     "output_type": "display_data"
    }
   ],
   "source": [
    "# this file contains estimated genetic effects due to GxC for 8,352 pseudo-cells, 213 significant sp-eQTL\n",
    "filename = \"/hps/nobackup/stegle/users/acuomo/all_scripts/struct_LMM2/sc_neuroseq/May2021/genetic_effect/MOFA10/eqtl_tot_genetic_effect_all.txt\"\n",
    "df0 = read.csv(filename, sep = \"\\t\")\n",
    "ncol(df0)\n",
    "head(df0,2)"
   ]
  },
  {
   "cell_type": "code",
   "execution_count": 37,
   "id": "72f6de67",
   "metadata": {},
   "outputs": [
    {
     "data": {
      "text/html": [
       "<ol class=list-inline>\n",
       "\t<li>'ABHD10'</li>\n",
       "\t<li>'ABHD12B'</li>\n",
       "\t<li>'ACKR2'</li>\n",
       "\t<li>'ADD2'</li>\n",
       "\t<li>'ADSL'</li>\n",
       "\t<li>'AIM1L'</li>\n",
       "</ol>\n"
      ],
      "text/latex": [
       "\\begin{enumerate*}\n",
       "\\item 'ABHD10'\n",
       "\\item 'ABHD12B'\n",
       "\\item 'ACKR2'\n",
       "\\item 'ADD2'\n",
       "\\item 'ADSL'\n",
       "\\item 'AIM1L'\n",
       "\\end{enumerate*}\n"
      ],
      "text/markdown": [
       "1. 'ABHD10'\n",
       "2. 'ABHD12B'\n",
       "3. 'ACKR2'\n",
       "4. 'ADD2'\n",
       "5. 'ADSL'\n",
       "6. 'AIM1L'\n",
       "\n",
       "\n"
      ],
      "text/plain": [
       "[1] \"ABHD10\"  \"ABHD12B\" \"ACKR2\"   \"ADD2\"    \"ADSL\"    \"AIM1L\"  "
      ]
     },
     "metadata": {},
     "output_type": "display_data"
    }
   ],
   "source": [
    "genes_GxC = gsub(\"_.*\",\"\",colnames(df0))\n",
    "genes_GxC = gsub(\"\\\\.\",\"-\",genes_GxC)\n",
    "head(genes_GxC)"
   ]
  },
  {
   "cell_type": "code",
   "execution_count": 38,
   "id": "3986c5ea",
   "metadata": {},
   "outputs": [
    {
     "data": {
      "text/html": [
       "<table>\n",
       "<thead><tr><th scope=col>hgnc_symbol</th><th scope=col>ensembl_gene_id</th></tr></thead>\n",
       "<tbody>\n",
       "\t<tr><td>SLC25A26       </td><td>ENSG00000261657</td></tr>\n",
       "\t<tr><td>               </td><td>ENSG00000223116</td></tr>\n",
       "</tbody>\n",
       "</table>\n"
      ],
      "text/latex": [
       "\\begin{tabular}{r|ll}\n",
       " hgnc\\_symbol & ensembl\\_gene\\_id\\\\\n",
       "\\hline\n",
       "\t SLC25A26        & ENSG00000261657\\\\\n",
       "\t                 & ENSG00000223116\\\\\n",
       "\\end{tabular}\n"
      ],
      "text/markdown": [
       "\n",
       "| hgnc_symbol | ensembl_gene_id |\n",
       "|---|---|\n",
       "| SLC25A26        | ENSG00000261657 |\n",
       "|                 | ENSG00000223116 |\n",
       "\n"
      ],
      "text/plain": [
       "  hgnc_symbol ensembl_gene_id\n",
       "1 SLC25A26    ENSG00000261657\n",
       "2             ENSG00000223116"
      ]
     },
     "metadata": {},
     "output_type": "display_data"
    }
   ],
   "source": [
    "#load map HGNC to ensembl\n",
    "mapping_df = read.csv('/nfs/leia/research/stegle/dseaton/genomes/hg19/annotation/geneid_mappings/hgnc_symbol2ensembl_gene_id.txt', sep='\\t')\n",
    "head(mapping_df,2)"
   ]
  },
  {
   "cell_type": "code",
   "execution_count": 39,
   "id": "ffa75210",
   "metadata": {},
   "outputs": [
    {
     "name": "stderr",
     "output_type": "stream",
     "text": [
      "Joining, by = \"ensembl_gene_id\"\n"
     ]
    },
    {
     "data": {
      "text/html": [
       "459"
      ],
      "text/latex": [
       "459"
      ],
      "text/markdown": [
       "459"
      ],
      "text/plain": [
       "[1] 459"
      ]
     },
     "metadata": {},
     "output_type": "display_data"
    },
    {
     "data": {
      "text/html": [
       "<table>\n",
       "<thead><tr><th scope=col>GWAS</th><th scope=col>GWAS_locus_ID</th><th scope=col>Cell_type</th><th scope=col>EnsembleID_GRCh38_v90</th><th scope=col>N_variants_overlapping_btw_GWAS_eQTL</th><th scope=col>PP0</th><th scope=col>PP1</th><th scope=col>PP2</th><th scope=col>PP3</th><th scope=col>PP4</th><th scope=col>Chromosome_GRCh38</th><th scope=col>GWAS_index_position_GRCh38</th><th scope=col>eQTL_lead_position_GRCh38</th><th scope=col>ensembl_gene_id</th><th scope=col>hgnc_symbol</th></tr></thead>\n",
       "<tbody>\n",
       "\t<tr><td>GCST003496     </td><td>17             </td><td>DA_D30         </td><td>ENSG00000051825</td><td>535            </td><td>1.743264e-14   </td><td>6.906471e-12   </td><td>0.0003775438   </td><td>0.1487246      </td><td>0.8508979      </td><td>12             </td><td>123688849      </td><td>123615098      </td><td>ENSG00000051825</td><td>MPHOSPH9       </td></tr>\n",
       "\t<tr><td>GCST003496     </td><td>17             </td><td>DA_D30         </td><td>ENSG00000182196</td><td>518            </td><td>3.131037e-04   </td><td>1.240456e-01   </td><td>0.0004172993   </td><td>0.1646152      </td><td>0.7106088      </td><td>12             </td><td>123688849      </td><td>123660721      </td><td>ENSG00000182196</td><td>ARL6IP4        </td></tr>\n",
       "</tbody>\n",
       "</table>\n"
      ],
      "text/latex": [
       "\\begin{tabular}{r|lllllllllllllll}\n",
       " GWAS & GWAS\\_locus\\_ID & Cell\\_type & EnsembleID\\_GRCh38\\_v90 & N\\_variants\\_overlapping\\_btw\\_GWAS\\_eQTL & PP0 & PP1 & PP2 & PP3 & PP4 & Chromosome\\_GRCh38 & GWAS\\_index\\_position\\_GRCh38 & eQTL\\_lead\\_position\\_GRCh38 & ensembl\\_gene\\_id & hgnc\\_symbol\\\\\n",
       "\\hline\n",
       "\t GCST003496      & 17              & DA\\_D30        & ENSG00000051825 & 535             & 1.743264e-14    & 6.906471e-12    & 0.0003775438    & 0.1487246       & 0.8508979       & 12              & 123688849       & 123615098       & ENSG00000051825 & MPHOSPH9       \\\\\n",
       "\t GCST003496      & 17              & DA\\_D30        & ENSG00000182196 & 518             & 3.131037e-04    & 1.240456e-01    & 0.0004172993    & 0.1646152       & 0.7106088       & 12              & 123688849       & 123660721       & ENSG00000182196 & ARL6IP4        \\\\\n",
       "\\end{tabular}\n"
      ],
      "text/markdown": [
       "\n",
       "| GWAS | GWAS_locus_ID | Cell_type | EnsembleID_GRCh38_v90 | N_variants_overlapping_btw_GWAS_eQTL | PP0 | PP1 | PP2 | PP3 | PP4 | Chromosome_GRCh38 | GWAS_index_position_GRCh38 | eQTL_lead_position_GRCh38 | ensembl_gene_id | hgnc_symbol |\n",
       "|---|---|---|---|---|---|---|---|---|---|---|---|---|---|---|\n",
       "| GCST003496      | 17              | DA_D30          | ENSG00000051825 | 535             | 1.743264e-14    | 6.906471e-12    | 0.0003775438    | 0.1487246       | 0.8508979       | 12              | 123688849       | 123615098       | ENSG00000051825 | MPHOSPH9        |\n",
       "| GCST003496      | 17              | DA_D30          | ENSG00000182196 | 518             | 3.131037e-04    | 1.240456e-01    | 0.0004172993    | 0.1646152       | 0.7106088       | 12              | 123688849       | 123660721       | ENSG00000182196 | ARL6IP4         |\n",
       "\n"
      ],
      "text/plain": [
       "  GWAS       GWAS_locus_ID Cell_type EnsembleID_GRCh38_v90\n",
       "1 GCST003496 17            DA_D30    ENSG00000051825      \n",
       "2 GCST003496 17            DA_D30    ENSG00000182196      \n",
       "  N_variants_overlapping_btw_GWAS_eQTL PP0          PP1          PP2         \n",
       "1 535                                  1.743264e-14 6.906471e-12 0.0003775438\n",
       "2 518                                  3.131037e-04 1.240456e-01 0.0004172993\n",
       "  PP3       PP4       Chromosome_GRCh38 GWAS_index_position_GRCh38\n",
       "1 0.1487246 0.8508979 12                123688849                 \n",
       "2 0.1646152 0.7106088 12                123688849                 \n",
       "  eQTL_lead_position_GRCh38 ensembl_gene_id hgnc_symbol\n",
       "1 123615098                 ENSG00000051825 MPHOSPH9   \n",
       "2 123660721                 ENSG00000182196 ARL6IP4    "
      ]
     },
     "metadata": {},
     "output_type": "display_data"
    }
   ],
   "source": [
    "da_sign_df$ensembl_gene_id = da_sign_df$EnsembleID_GRCh38_v90\n",
    "df1 = left_join(da_sign_df, mapping_df)\n",
    "nrow(df1)\n",
    "head(df1,2)"
   ]
  },
  {
   "cell_type": "code",
   "execution_count": 40,
   "id": "b73054d6",
   "metadata": {},
   "outputs": [
    {
     "data": {
      "text/html": [
       "213"
      ],
      "text/latex": [
       "213"
      ],
      "text/markdown": [
       "213"
      ],
      "text/plain": [
       "[1] 213"
      ]
     },
     "metadata": {},
     "output_type": "display_data"
    },
    {
     "data": {
      "text/html": [
       "232"
      ],
      "text/latex": [
       "232"
      ],
      "text/markdown": [
       "232"
      ],
      "text/plain": [
       "[1] 232"
      ]
     },
     "metadata": {},
     "output_type": "display_data"
    },
    {
     "data": {
      "text/html": [
       "14"
      ],
      "text/latex": [
       "14"
      ],
      "text/markdown": [
       "14"
      ],
      "text/plain": [
       "[1] 14"
      ]
     },
     "metadata": {},
     "output_type": "display_data"
    }
   ],
   "source": [
    "genes_coloc = unique(df1$hgnc_symbol)\n",
    "length(genes_GxC)\n",
    "length(genes_coloc)\n",
    "length(genes_GxC[genes_GxC %in% genes_coloc])"
   ]
  },
  {
   "cell_type": "code",
   "execution_count": 41,
   "id": "7ea1a06b",
   "metadata": {},
   "outputs": [
    {
     "data": {
      "text/html": [
       "<ol class=list-inline>\n",
       "\t<li>'ATG10'</li>\n",
       "\t<li>'CHRNA3'</li>\n",
       "\t<li>'EIF5A'</li>\n",
       "\t<li>'GALNT10'</li>\n",
       "\t<li>'KANSL1'</li>\n",
       "\t<li>'MAPT-AS1'</li>\n",
       "\t<li>'MAST3'</li>\n",
       "\t<li>'MPHOSPH9'</li>\n",
       "\t<li>'PRR7-AS1'</li>\n",
       "\t<li>'PRSS36'</li>\n",
       "\t<li>'RHEBL1'</li>\n",
       "\t<li>'SLC35E2'</li>\n",
       "\t<li>'STAT6'</li>\n",
       "\t<li>'TUBGCP4'</li>\n",
       "</ol>\n"
      ],
      "text/latex": [
       "\\begin{enumerate*}\n",
       "\\item 'ATG10'\n",
       "\\item 'CHRNA3'\n",
       "\\item 'EIF5A'\n",
       "\\item 'GALNT10'\n",
       "\\item 'KANSL1'\n",
       "\\item 'MAPT-AS1'\n",
       "\\item 'MAST3'\n",
       "\\item 'MPHOSPH9'\n",
       "\\item 'PRR7-AS1'\n",
       "\\item 'PRSS36'\n",
       "\\item 'RHEBL1'\n",
       "\\item 'SLC35E2'\n",
       "\\item 'STAT6'\n",
       "\\item 'TUBGCP4'\n",
       "\\end{enumerate*}\n"
      ],
      "text/markdown": [
       "1. 'ATG10'\n",
       "2. 'CHRNA3'\n",
       "3. 'EIF5A'\n",
       "4. 'GALNT10'\n",
       "5. 'KANSL1'\n",
       "6. 'MAPT-AS1'\n",
       "7. 'MAST3'\n",
       "8. 'MPHOSPH9'\n",
       "9. 'PRR7-AS1'\n",
       "10. 'PRSS36'\n",
       "11. 'RHEBL1'\n",
       "12. 'SLC35E2'\n",
       "13. 'STAT6'\n",
       "14. 'TUBGCP4'\n",
       "\n",
       "\n"
      ],
      "text/plain": [
       " [1] \"ATG10\"    \"CHRNA3\"   \"EIF5A\"    \"GALNT10\"  \"KANSL1\"   \"MAPT-AS1\"\n",
       " [7] \"MAST3\"    \"MPHOSPH9\" \"PRR7-AS1\" \"PRSS36\"   \"RHEBL1\"   \"SLC35E2\" \n",
       "[13] \"STAT6\"    \"TUBGCP4\" "
      ]
     },
     "metadata": {},
     "output_type": "display_data"
    }
   ],
   "source": [
    "genes_GxC[genes_GxC %in% genes_coloc]"
   ]
  },
  {
   "cell_type": "code",
   "execution_count": 42,
   "id": "6d837679",
   "metadata": {},
   "outputs": [
    {
     "data": {
      "text/html": [
       "<table>\n",
       "<thead><tr><th></th><th scope=col>gene</th><th scope=col>n_snps</th><th scope=col>chrom</th><th scope=col>pv_raw</th><th scope=col>snpID</th><th scope=col>pv</th><th scope=col>gene_old</th></tr></thead>\n",
       "<tbody>\n",
       "\t<tr><th scope=row>0</th><td>LINC00662      </td><td>1              </td><td>19             </td><td>0.05827479     </td><td>19_28250771_G_A</td><td>0.05827479     </td><td>LINC00662      </td></tr>\n",
       "\t<tr><th scope=row>1</th><td>ATRAID         </td><td>2              </td><td> 2             </td><td>0.66353704     </td><td>2_27389195_A_G </td><td>1.00000000     </td><td>ATRAID         </td></tr>\n",
       "</tbody>\n",
       "</table>\n"
      ],
      "text/latex": [
       "\\begin{tabular}{r|lllllll}\n",
       "  & gene & n\\_snps & chrom & pv\\_raw & snpID & pv & gene\\_old\\\\\n",
       "\\hline\n",
       "\t0 & LINC00662             & 1                     & 19                    & 0.05827479            & 19\\_28250771\\_G\\_A & 0.05827479            & LINC00662            \\\\\n",
       "\t1 & ATRAID                & 2                     &  2                    & 0.66353704            & 2\\_27389195\\_A\\_G  & 1.00000000            & ATRAID               \\\\\n",
       "\\end{tabular}\n"
      ],
      "text/markdown": [
       "\n",
       "| <!--/--> | gene | n_snps | chrom | pv_raw | snpID | pv | gene_old |\n",
       "|---|---|---|---|---|---|---|---|\n",
       "| 0 | LINC00662       | 1               | 19              | 0.05827479      | 19_28250771_G_A | 0.05827479      | LINC00662       |\n",
       "| 1 | ATRAID          | 2               |  2              | 0.66353704      | 2_27389195_A_G  | 1.00000000      | ATRAID          |\n",
       "\n"
      ],
      "text/plain": [
       "  gene      n_snps chrom pv_raw     snpID           pv         gene_old \n",
       "0 LINC00662 1      19    0.05827479 19_28250771_G_A 0.05827479 LINC00662\n",
       "1 ATRAID    2       2    0.66353704 2_27389195_A_G  1.00000000 ATRAID   "
      ]
     },
     "metadata": {},
     "output_type": "display_data"
    }
   ],
   "source": [
    "mydir = \"/hps/nobackup/stegle/users/acuomo/all_scripts/struct_LMM2/sc_neuroseq/May2021/\"\n",
    "file = paste0(mydir,\"MOFA/MOFA10/summary.csv\")\n",
    "df2 = read.csv(file, row.names=1)\n",
    "head(df2,2)"
   ]
  },
  {
   "cell_type": "code",
   "execution_count": 43,
   "id": "d8310e5b",
   "metadata": {},
   "outputs": [
    {
     "data": {
      "text/html": [
       "<ol class=list-inline>\n",
       "\t<li>1374</li>\n",
       "\t<li>213</li>\n",
       "</ol>\n"
      ],
      "text/latex": [
       "\\begin{enumerate*}\n",
       "\\item 1374\n",
       "\\item 213\n",
       "\\end{enumerate*}\n"
      ],
      "text/markdown": [
       "1. 1374\n",
       "2. 213\n",
       "\n",
       "\n"
      ],
      "text/plain": [
       "[1] 1374  213"
      ]
     },
     "metadata": {},
     "output_type": "display_data"
    }
   ],
   "source": [
    "df2 = df2[order(df2$pv, df2$pv_raw),]\n",
    "df2 = df2[-which(duplicated(df2$gene)),]\n",
    "df2$qv = qvalue(df2$pv, pi0 = 1)$qvalue\n",
    "##\n",
    "c(nrow(df2), nrow(df2[df2$qv<0.05,]))"
   ]
  },
  {
   "cell_type": "code",
   "execution_count": 46,
   "id": "020ffe39",
   "metadata": {},
   "outputs": [
    {
     "data": {
      "text/html": [
       "94"
      ],
      "text/latex": [
       "94"
      ],
      "text/markdown": [
       "94"
      ],
      "text/plain": [
       "[1] 94"
      ]
     },
     "metadata": {},
     "output_type": "display_data"
    }
   ],
   "source": [
    "genes_all = unique(df2$gene)\n",
    "genes_all = gsub(\"\\\\.\",\"-\",genes_all)\n",
    "length(genes_all[genes_all %in% genes_coloc])"
   ]
  },
  {
   "cell_type": "code",
   "execution_count": 48,
   "id": "b67d7a03",
   "metadata": {},
   "outputs": [
    {
     "data": {
      "text/html": [
       "1374"
      ],
      "text/latex": [
       "1374"
      ],
      "text/markdown": [
       "1374"
      ],
      "text/plain": [
       "[1] 1374"
      ]
     },
     "metadata": {},
     "output_type": "display_data"
    }
   ],
   "source": [
    "length(genes_all)"
   ]
  },
  {
   "cell_type": "code",
   "execution_count": 63,
   "id": "637c05dc",
   "metadata": {},
   "outputs": [],
   "source": [
    "df_to_plot1 = data.frame(value = c(1374-213, 213), group=c(\"no GxC\",\"GxC\"))"
   ]
  },
  {
   "cell_type": "code",
   "execution_count": 67,
   "id": "6e1981f6",
   "metadata": {},
   "outputs": [
    {
     "data": {
      "image/png": "[encoded data removed]",
      "text/plain": [
       "plot without title"
      ]
     },
     "metadata": {},
     "output_type": "display_data"
    }
   ],
   "source": [
    "bp<- ggplot(df_to_plot1, aes(x=\"\", y=value, fill=group))+\n",
    "geom_bar(width = 1, stat = \"identity\")\n",
    "pie <- bp + coord_polar(\"y\", start=0) + theme_minimal() + scale_fill_brewer(palette=\"Paired\")\n",
    "pie"
   ]
  },
  {
   "cell_type": "code",
   "execution_count": 68,
   "id": "28627c98",
   "metadata": {},
   "outputs": [],
   "source": [
    "df_to_plot1 = data.frame(value = c(94-14, 14), group=c(\"no GxC\",\"GxC\"))"
   ]
  },
  {
   "cell_type": "code",
   "execution_count": 69,
   "id": "623c9d41",
   "metadata": {},
   "outputs": [
    {
     "data": {
      "image/png": "[encoded data removed]",
      "text/plain": [
       "plot without title"
      ]
     },
     "metadata": {},
     "output_type": "display_data"
    }
   ],
   "source": [
    "bp<- ggplot(df_to_plot1, aes(x=\"\", y=value, fill=group))+\n",
    "geom_bar(width = 1, stat = \"identity\")\n",
    "pie <- bp + coord_polar(\"y\", start=0) + theme_minimal()+ scale_fill_brewer(palette=\"Paired\")\n",
    "pie"
   ]
  },
  {
   "cell_type": "code",
   "execution_count": null,
   "id": "31d8d71a",
   "metadata": {},
   "outputs": [],
   "source": []
  }
 ],
 "metadata": {
  "kernelspec": {
   "display_name": "R",
   "language": "R",
   "name": "ir"
  },
  "language_info": {
   "codemirror_mode": "r",
   "file_extension": ".r",
   "mimetype": "text/x-r-source",
   "name": "R",
   "pygments_lexer": "r",
   "version": "3.6.1"
  }
 },
 "nbformat": 4,
 "nbformat_minor": 5
}
