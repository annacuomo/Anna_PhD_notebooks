{
 "cells": [
  {
   "cell_type": "code",
   "execution_count": 1,
   "id": "70758718",
   "metadata": {},
   "outputs": [
    {
     "name": "stderr",
     "output_type": "stream",
     "text": [
      "Loading required package: remotes\n",
      "Downloading GitHub repo chr1swallace/coloc@HEAD\n"
     ]
    },
    {
     "name": "stdout",
     "output_type": "stream",
     "text": [
      "plyr         (1.8.4       -> 1.8.6     ) [CRAN]\n",
      "RcppArmad... (0.9.850.1.0 -> 0.10.6.0.0) [CRAN]\n",
      "utf8         (1.1.4       -> 1.2.2     ) [CRAN]\n",
      "crayon       (1.3.4       -> 1.4.1     ) [CRAN]\n",
      "cli          (2.0.2       -> 3.0.1     ) [CRAN]\n",
      "colorspace   (1.4-1       -> 2.0-2     ) [CRAN]\n",
      "fansi        (0.4.1       -> 0.5.0     ) [CRAN]\n",
      "viridisLite  (0.3.0       -> 0.4.0     ) [CRAN]\n",
      "R6           (2.4.1       -> 2.5.0     ) [CRAN]\n",
      "labeling     (0.3         -> 0.4.2     ) [CRAN]\n",
      "farver       (2.0.3       -> 2.1.0     ) [CRAN]\n",
      "nlme         (3.1-139     -> 3.1-152   ) [CRAN]\n",
      "withr        (2.4.1       -> 2.4.2     ) [CRAN]\n",
      "tibble       (3.1.2       -> 3.1.3     ) [CRAN]\n",
      "scales       (1.0.0       -> 1.1.1     ) [CRAN]\n",
      "rlang        (0.4.10      -> 0.4.11    ) [CRAN]\n",
      "mgcv         (1.8-28      -> 1.8-36    ) [CRAN]\n",
      "isoband      (0.2.1       -> 0.2.5     ) [CRAN]\n",
      "glue         (1.4.0       -> 1.4.2     ) [CRAN]\n",
      "digest       (0.6.25      -> 0.6.27    ) [CRAN]\n",
      "ggplot2      (3.3.2       -> 3.3.5     ) [CRAN]\n",
      "mixsqp       (NA          -> 0.3-43    ) [CRAN]\n",
      "susieR       (NA          -> 0.11.42   ) [CRAN]\n",
      "viridis      (0.5.1       -> 0.6.1     ) [CRAN]\n",
      "data.table   (1.12.8      -> 1.14.0    ) [CRAN]\n"
     ]
    },
    {
     "name": "stderr",
     "output_type": "stream",
     "text": [
      "Installing 25 packages: plyr, RcppArmadillo, utf8, crayon, cli, colorspace, fansi, viridisLite, R6, labeling, farver, nlme, withr, tibble, scales, rlang, mgcv, isoband, glue, digest, ggplot2, mixsqp, susieR, viridis, data.table\n",
      "Warning message in i.p(...):\n",
      "“installation of package ‘tibble’ had non-zero exit status”Updating HTML index of packages in '.Library'\n",
      "Making 'packages.html' ... done\n"
     ]
    },
    {
     "name": "stdout",
     "output_type": "stream",
     "text": [
      "✔  checking for file ‘/homes/acuomo/tmp/RtmpSWhhom/remotes9a14570e9e3/chr1swallace-coloc-a2825b8/DESCRIPTION’ ...\n",
      "─  preparing ‘coloc’: (356ms)\n",
      "✔  checking DESCRIPTION meta-information\n",
      "─  installing the package to build vignettes\n",
      "✔  creating vignettes (12.1s)\n",
      "─  checking for LF line-endings in source and make files and shell scripts\n",
      "─  checking for empty or unneeded directories\n",
      "─  looking to see if a ‘data/datalist’ file should be added\n",
      "─  building ‘coloc_5.1.0.tar.gz’\n",
      "   \n",
      "\r"
     ]
    }
   ],
   "source": [
    "if(!require(\"remotes\"))\n",
    "   install.packages(\"remotes\") # if necessary\n",
    "library(remotes)\n",
    "install_github(\"chr1swallace/coloc\",build_vignettes=TRUE)"
   ]
  },
  {
   "cell_type": "code",
   "execution_count": 4,
   "id": "bbf7682d",
   "metadata": {},
   "outputs": [
    {
     "name": "stderr",
     "output_type": "stream",
     "text": [
      "This is a new update to coloc.\n"
     ]
    }
   ],
   "source": [
    "library(coloc)"
   ]
  },
  {
   "cell_type": "code",
   "execution_count": 5,
   "id": "731c734e",
   "metadata": {},
   "outputs": [],
   "source": [
    "?runsusie"
   ]
  },
  {
   "cell_type": "code",
   "execution_count": null,
   "id": "530af14c",
   "metadata": {},
   "outputs": [],
   "source": [
    "# these are the necessary columns\n",
    "D1[c(\"beta\",\"varbeta\",\"snp\",\"position\",\"type\",\"N\",\"MAF\")]"
   ]
  },
  {
   "cell_type": "code",
   "execution_count": null,
   "id": "77f0b05b",
   "metadata": {},
   "outputs": [],
   "source": [
    "result1=runsusie(data1)\n",
    "summary(result1)"
   ]
  },
  {
   "cell_type": "code",
   "execution_count": null,
   "id": "74f94902",
   "metadata": {},
   "outputs": [],
   "source": [
    "result2=runsusie(data2)\n",
    "summary(result2)"
   ]
  },
  {
   "cell_type": "code",
   "execution_count": null,
   "id": "2824a982",
   "metadata": {},
   "outputs": [],
   "source": [
    "c = coloc.susie(results1,results2)"
   ]
  }
 ],
 "metadata": {
  "kernelspec": {
   "display_name": "R",
   "language": "R",
   "name": "ir"
  },
  "language_info": {
   "codemirror_mode": "r",
   "file_extension": ".r",
   "mimetype": "text/x-r-source",
   "name": "R",
   "pygments_lexer": "r",
   "version": "3.6.1"
  }
 },
 "nbformat": 4,
 "nbformat_minor": 5
}
