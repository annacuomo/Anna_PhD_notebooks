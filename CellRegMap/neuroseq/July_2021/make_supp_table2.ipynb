{
 "cells": [
  {
   "cell_type": "code",
   "execution_count": 4,
   "id": "6e98ffae",
   "metadata": {},
   "outputs": [
    {
     "name": "stderr",
     "output_type": "stream",
     "text": [
      "\n",
      "Attaching package: ‘dplyr’\n",
      "\n",
      "The following objects are masked from ‘package:stats’:\n",
      "\n",
      "    filter, lag\n",
      "\n",
      "The following objects are masked from ‘package:base’:\n",
      "\n",
      "    intersect, setdiff, setequal, union\n",
      "\n"
     ]
    }
   ],
   "source": [
    "library(qvalue)\n",
    "library(dplyr)"
   ]
  },
  {
   "cell_type": "code",
   "execution_count": 1,
   "id": "83b30c32",
   "metadata": {},
   "outputs": [],
   "source": [
    "### 20 MOFA as background, 10 MOFA tested\n",
    "## DA eQTL only (D30+D52+D52ROT)"
   ]
  },
  {
   "cell_type": "code",
   "execution_count": 7,
   "id": "9d93b3d9",
   "metadata": {},
   "outputs": [
    {
     "data": {
      "text/html": [
       "<table>\n",
       "<thead><tr><th></th><th scope=col>gene</th><th scope=col>n_snps</th><th scope=col>chrom</th><th scope=col>pv_raw</th><th scope=col>snpID</th><th scope=col>pv</th><th scope=col>gene_old</th></tr></thead>\n",
       "<tbody>\n",
       "\t<tr><th scope=row>0</th><td>LINC00662      </td><td>1              </td><td>19             </td><td>0.058274791    </td><td>19_28250771_G_A</td><td>0.058274791    </td><td>LINC00662      </td></tr>\n",
       "\t<tr><th scope=row>1</th><td>ATRAID         </td><td>2              </td><td> 2             </td><td>0.663537037    </td><td>2_27389195_A_G </td><td>1.000000000    </td><td>ATRAID         </td></tr>\n",
       "\t<tr><th scope=row>2</th><td>ATRAID         </td><td>2              </td><td> 2             </td><td>0.815934343    </td><td>2_27527246_T_A </td><td>1.000000000    </td><td>ATRAID         </td></tr>\n",
       "\t<tr><th scope=row>3</th><td>CNDP2          </td><td>1              </td><td>18             </td><td>0.107678834    </td><td>18_72159310_T_A</td><td>0.107678834    </td><td>CNDP2          </td></tr>\n",
       "\t<tr><th scope=row>4</th><td>GPR22          </td><td>1              </td><td> 7             </td><td>0.005806852    </td><td>7_106914944_T_C</td><td>0.005806852    </td><td>GPR22          </td></tr>\n",
       "\t<tr><th scope=row>5</th><td>MGST3          </td><td>1              </td><td> 1             </td><td>0.006567903    </td><td>1_165599649_C_T</td><td>0.006567903    </td><td>MGST3          </td></tr>\n",
       "</tbody>\n",
       "</table>\n"
      ],
      "text/latex": [
       "\\begin{tabular}{r|lllllll}\n",
       "  & gene & n\\_snps & chrom & pv\\_raw & snpID & pv & gene\\_old\\\\\n",
       "\\hline\n",
       "\t0 & LINC00662             & 1                     & 19                    & 0.058274791           & 19\\_28250771\\_G\\_A & 0.058274791           & LINC00662            \\\\\n",
       "\t1 & ATRAID                & 2                     &  2                    & 0.663537037           & 2\\_27389195\\_A\\_G  & 1.000000000           & ATRAID               \\\\\n",
       "\t2 & ATRAID                & 2                     &  2                    & 0.815934343           & 2\\_27527246\\_T\\_A  & 1.000000000           & ATRAID               \\\\\n",
       "\t3 & CNDP2                 & 1                     & 18                    & 0.107678834           & 18\\_72159310\\_T\\_A & 0.107678834           & CNDP2                \\\\\n",
       "\t4 & GPR22                 & 1                     &  7                    & 0.005806852           & 7\\_106914944\\_T\\_C & 0.005806852           & GPR22                \\\\\n",
       "\t5 & MGST3                 & 1                     &  1                    & 0.006567903           & 1\\_165599649\\_C\\_T & 0.006567903           & MGST3                \\\\\n",
       "\\end{tabular}\n"
      ],
      "text/markdown": [
       "\n",
       "| <!--/--> | gene | n_snps | chrom | pv_raw | snpID | pv | gene_old |\n",
       "|---|---|---|---|---|---|---|---|\n",
       "| 0 | LINC00662       | 1               | 19              | 0.058274791     | 19_28250771_G_A | 0.058274791     | LINC00662       |\n",
       "| 1 | ATRAID          | 2               |  2              | 0.663537037     | 2_27389195_A_G  | 1.000000000     | ATRAID          |\n",
       "| 2 | ATRAID          | 2               |  2              | 0.815934343     | 2_27527246_T_A  | 1.000000000     | ATRAID          |\n",
       "| 3 | CNDP2           | 1               | 18              | 0.107678834     | 18_72159310_T_A | 0.107678834     | CNDP2           |\n",
       "| 4 | GPR22           | 1               |  7              | 0.005806852     | 7_106914944_T_C | 0.005806852     | GPR22           |\n",
       "| 5 | MGST3           | 1               |  1              | 0.006567903     | 1_165599649_C_T | 0.006567903     | MGST3           |\n",
       "\n"
      ],
      "text/plain": [
       "  gene      n_snps chrom pv_raw      snpID           pv          gene_old \n",
       "0 LINC00662 1      19    0.058274791 19_28250771_G_A 0.058274791 LINC00662\n",
       "1 ATRAID    2       2    0.663537037 2_27389195_A_G  1.000000000 ATRAID   \n",
       "2 ATRAID    2       2    0.815934343 2_27527246_T_A  1.000000000 ATRAID   \n",
       "3 CNDP2     1      18    0.107678834 18_72159310_T_A 0.107678834 CNDP2    \n",
       "4 GPR22     1       7    0.005806852 7_106914944_T_C 0.005806852 GPR22    \n",
       "5 MGST3     1       1    0.006567903 1_165599649_C_T 0.006567903 MGST3    "
      ]
     },
     "metadata": {},
     "output_type": "display_data"
    }
   ],
   "source": [
    "mydir = \"/hps/nobackup/stegle/users/acuomo/all_scripts/struct_LMM2/sc_neuroseq/May2021/\"\n",
    "file = paste0(mydir,\"MOFA/MOFA10/summary.csv\")\n",
    "df = read.csv(file, row.names=1)\n",
    "head(df)"
   ]
  },
  {
   "cell_type": "code",
   "execution_count": 8,
   "id": "ba84c4df",
   "metadata": {},
   "outputs": [],
   "source": [
    "df = df[order(df$pv, df$pv_raw),]\n",
    "df = df[-which(duplicated(df$gene)),]\n",
    "df$qv = qvalue(df$pv)$qvalue"
   ]
  },
  {
   "cell_type": "code",
   "execution_count": 9,
   "id": "36abfbfd",
   "metadata": {},
   "outputs": [
    {
     "data": {
      "text/html": [
       "213"
      ],
      "text/latex": [
       "213"
      ],
      "text/markdown": [
       "213"
      ],
      "text/plain": [
       "[1] 213"
      ]
     },
     "metadata": {},
     "output_type": "display_data"
    }
   ],
   "source": [
    "df2 = df[df$qv < 0.05,]\n",
    "nrow(df2)"
   ]
  },
  {
   "cell_type": "code",
   "execution_count": 10,
   "id": "24f74ccf",
   "metadata": {},
   "outputs": [
    {
     "data": {
      "text/html": [
       "<table>\n",
       "<thead><tr><th></th><th scope=col>gene</th><th scope=col>n_snps</th><th scope=col>chrom</th><th scope=col>pv_raw</th><th scope=col>snpID</th><th scope=col>pv</th><th scope=col>gene_old</th><th scope=col>qv</th><th scope=col>eqtl</th></tr></thead>\n",
       "<tbody>\n",
       "\t<tr><th scope=row>1387</th><td>PRPH2               </td><td>2                   </td><td>6                   </td><td>9.329769e-43        </td><td>6_42672574_G_A      </td><td>1.865954e-42        </td><td>PRPH2               </td><td>2.563820e-39        </td><td>PRPH2-6_42672574_G_A</td></tr>\n",
       "\t<tr><th scope=row>303</th><td>CD36                </td><td>1                   </td><td>7                   </td><td>4.839668e-42        </td><td>7_80240689_T_C      </td><td>4.839668e-42        </td><td>CD36                </td><td>3.324852e-39        </td><td>CD36-7_80240689_T_C </td></tr>\n",
       "</tbody>\n",
       "</table>\n"
      ],
      "text/latex": [
       "\\begin{tabular}{r|lllllllll}\n",
       "  & gene & n\\_snps & chrom & pv\\_raw & snpID & pv & gene\\_old & qv & eqtl\\\\\n",
       "\\hline\n",
       "\t1387 & PRPH2                      & 2                          & 6                          & 9.329769e-43               & 6\\_42672574\\_G\\_A       & 1.865954e-42               & PRPH2                      & 2.563820e-39               & PRPH2-6\\_42672574\\_G\\_A\\\\\n",
       "\t303 & CD36                       & 1                          & 7                          & 4.839668e-42               & 7\\_80240689\\_T\\_C       & 4.839668e-42               & CD36                       & 3.324852e-39               & CD36-7\\_80240689\\_T\\_C \\\\\n",
       "\\end{tabular}\n"
      ],
      "text/markdown": [
       "\n",
       "| <!--/--> | gene | n_snps | chrom | pv_raw | snpID | pv | gene_old | qv | eqtl |\n",
       "|---|---|---|---|---|---|---|---|---|---|\n",
       "| 1387 | PRPH2                | 2                    | 6                    | 9.329769e-43         | 6_42672574_G_A       | 1.865954e-42         | PRPH2                | 2.563820e-39         | PRPH2-6_42672574_G_A |\n",
       "| 303 | CD36                 | 1                    | 7                    | 4.839668e-42         | 7_80240689_T_C       | 4.839668e-42         | CD36                 | 3.324852e-39         | CD36-7_80240689_T_C  |\n",
       "\n"
      ],
      "text/plain": [
       "     gene  n_snps chrom pv_raw       snpID          pv           gene_old\n",
       "1387 PRPH2 2      6     9.329769e-43 6_42672574_G_A 1.865954e-42 PRPH2   \n",
       "303  CD36  1      7     4.839668e-42 7_80240689_T_C 4.839668e-42 CD36    \n",
       "     qv           eqtl                \n",
       "1387 2.563820e-39 PRPH2-6_42672574_G_A\n",
       "303  3.324852e-39 CD36-7_80240689_T_C "
      ]
     },
     "metadata": {},
     "output_type": "display_data"
    }
   ],
   "source": [
    "df2$eqtl = paste0(df2$gene,\"-\",df2$snpID)\n",
    "head(df2,2)"
   ]
  },
  {
   "cell_type": "code",
   "execution_count": 11,
   "id": "99028b48",
   "metadata": {},
   "outputs": [
    {
     "data": {
      "text/html": [
       "213"
      ],
      "text/latex": [
       "213"
      ],
      "text/markdown": [
       "213"
      ],
      "text/plain": [
       "[1] 213"
      ]
     },
     "metadata": {},
     "output_type": "display_data"
    },
    {
     "data": {
      "text/html": [
       "<table>\n",
       "<thead><tr><th></th><th scope=col>beta_GxC</th><th scope=col>eqtl</th></tr></thead>\n",
       "<tbody>\n",
       "\t<tr><th scope=row>0</th><td>0.7559366              </td><td>ABHD10-3_111697439_T_G </td></tr>\n",
       "\t<tr><th scope=row>1</th><td>0.3794608              </td><td>ABHD12B-14_51328222_C_T</td></tr>\n",
       "</tbody>\n",
       "</table>\n"
      ],
      "text/latex": [
       "\\begin{tabular}{r|ll}\n",
       "  & beta\\_GxC & eqtl\\\\\n",
       "\\hline\n",
       "\t0 & 0.7559366                     & ABHD10-3\\_111697439\\_T\\_G \\\\\n",
       "\t1 & 0.3794608                     & ABHD12B-14\\_51328222\\_C\\_T\\\\\n",
       "\\end{tabular}\n"
      ],
      "text/markdown": [
       "\n",
       "| <!--/--> | beta_GxC | eqtl |\n",
       "|---|---|---|\n",
       "| 0 | 0.7559366               | ABHD10-3_111697439_T_G  |\n",
       "| 1 | 0.3794608               | ABHD12B-14_51328222_C_T |\n",
       "\n"
      ],
      "text/plain": [
       "  beta_GxC  eqtl                   \n",
       "0 0.7559366 ABHD10-3_111697439_T_G \n",
       "1 0.3794608 ABHD12B-14_51328222_C_T"
      ]
     },
     "metadata": {},
     "output_type": "display_data"
    }
   ],
   "source": [
    "### betaGxC estimate of magnitude\n",
    "df_beta = read.csv(\"/hps/nobackup/stegle/users/acuomo/all_scripts/struct_LMM2/sc_neuroseq/May2021/genetic_effect/MOFA10/eqtl_est_single_GxE_genetic_effects.csv\", row.names=1)\n",
    "colnames(df_beta)[1] = \"beta_GxC\"\n",
    "df_beta$eqtl = gsub(\"_-\",\"-\",df_beta$eqtl)\n",
    "nrow(df_beta)\n",
    "head(df_beta,2)"
   ]
  },
  {
   "cell_type": "code",
   "execution_count": 12,
   "id": "644aa963",
   "metadata": {},
   "outputs": [
    {
     "data": {
      "text/html": [
       "213"
      ],
      "text/latex": [
       "213"
      ],
      "text/markdown": [
       "213"
      ],
      "text/plain": [
       "[1] 213"
      ]
     },
     "metadata": {},
     "output_type": "display_data"
    },
    {
     "data": {
      "text/html": [
       "<table>\n",
       "<thead><tr><th></th><th scope=col>beta_G</th><th scope=col>eqtl</th></tr></thead>\n",
       "<tbody>\n",
       "\t<tr><th scope=row>ABHD10-3_111697439_T_G</th><td> 0.3034083             </td><td>ABHD10-3_111697439_T_G </td></tr>\n",
       "\t<tr><th scope=row>ABHD12B-14_51328222_C_T</th><td>-0.1078338             </td><td>ABHD12B-14_51328222_C_T</td></tr>\n",
       "</tbody>\n",
       "</table>\n"
      ],
      "text/latex": [
       "\\begin{tabular}{r|ll}\n",
       "  & beta\\_G & eqtl\\\\\n",
       "\\hline\n",
       "\tABHD10-3\\_111697439\\_T\\_G &  0.3034083                    & ABHD10-3\\_111697439\\_T\\_G \\\\\n",
       "\tABHD12B-14\\_51328222\\_C\\_T & -0.1078338                    & ABHD12B-14\\_51328222\\_C\\_T\\\\\n",
       "\\end{tabular}\n"
      ],
      "text/markdown": [
       "\n",
       "| <!--/--> | beta_G | eqtl |\n",
       "|---|---|---|\n",
       "| ABHD10-3_111697439_T_G |  0.3034083              | ABHD10-3_111697439_T_G  |\n",
       "| ABHD12B-14_51328222_C_T | -0.1078338              | ABHD12B-14_51328222_C_T |\n",
       "\n"
      ],
      "text/plain": [
       "                        beta_G     eqtl                   \n",
       "ABHD10-3_111697439_T_G   0.3034083 ABHD10-3_111697439_T_G \n",
       "ABHD12B-14_51328222_C_T -0.1078338 ABHD12B-14_51328222_C_T"
      ]
     },
     "metadata": {},
     "output_type": "display_data"
    }
   ],
   "source": [
    "### betaG's across cells from model \n",
    "df_betaG = read.csv(\"/hps/nobackup/stegle/users/acuomo/all_scripts/struct_LMM2/sc_neuroseq/May2021/genetic_effect/MOFA10/eqtl_persistent_genetic_effect_all.txt\", sep=\"\\t\",row.names = 1)\n",
    "df_betaG$eqtl = rownames(df_betaG)\n",
    "nrow(df_betaG)\n",
    "head(df_betaG,2)"
   ]
  },
  {
   "cell_type": "code",
   "execution_count": 13,
   "id": "b155b8cb",
   "metadata": {},
   "outputs": [
    {
     "name": "stderr",
     "output_type": "stream",
     "text": [
      "Joining, by = \"eqtl\"\n"
     ]
    },
    {
     "data": {
      "text/html": [
       "213"
      ],
      "text/latex": [
       "213"
      ],
      "text/markdown": [
       "213"
      ],
      "text/plain": [
       "[1] 213"
      ]
     },
     "metadata": {},
     "output_type": "display_data"
    },
    {
     "data": {
      "text/html": [
       "<table>\n",
       "<thead><tr><th scope=col>beta_GxC</th><th scope=col>eqtl</th><th scope=col>beta_G</th></tr></thead>\n",
       "<tbody>\n",
       "\t<tr><td>0.7559366              </td><td>ABHD10-3_111697439_T_G </td><td> 0.3034083             </td></tr>\n",
       "\t<tr><td>0.3794608              </td><td>ABHD12B-14_51328222_C_T</td><td>-0.1078338             </td></tr>\n",
       "</tbody>\n",
       "</table>\n"
      ],
      "text/latex": [
       "\\begin{tabular}{r|lll}\n",
       " beta\\_GxC & eqtl & beta\\_G\\\\\n",
       "\\hline\n",
       "\t 0.7559366                     & ABHD10-3\\_111697439\\_T\\_G  &  0.3034083                   \\\\\n",
       "\t 0.3794608                     & ABHD12B-14\\_51328222\\_C\\_T & -0.1078338                   \\\\\n",
       "\\end{tabular}\n"
      ],
      "text/markdown": [
       "\n",
       "| beta_GxC | eqtl | beta_G |\n",
       "|---|---|---|\n",
       "| 0.7559366               | ABHD10-3_111697439_T_G  |  0.3034083              |\n",
       "| 0.3794608               | ABHD12B-14_51328222_C_T | -0.1078338              |\n",
       "\n"
      ],
      "text/plain": [
       "  beta_GxC  eqtl                    beta_G    \n",
       "1 0.7559366 ABHD10-3_111697439_T_G   0.3034083\n",
       "2 0.3794608 ABHD12B-14_51328222_C_T -0.1078338"
      ]
     },
     "metadata": {},
     "output_type": "display_data"
    }
   ],
   "source": [
    "df_betas = inner_join(df_beta, df_betaG)\n",
    "nrow(df_betas)\n",
    "head(df_betas,2)"
   ]
  },
  {
   "cell_type": "code",
   "execution_count": 14,
   "id": "8683d0bf",
   "metadata": {},
   "outputs": [
    {
     "name": "stderr",
     "output_type": "stream",
     "text": [
      "Joining, by = \"eqtl\"\n"
     ]
    },
    {
     "data": {
      "text/html": [
       "212"
      ],
      "text/latex": [
       "212"
      ],
      "text/markdown": [
       "212"
      ],
      "text/plain": [
       "[1] 212"
      ]
     },
     "metadata": {},
     "output_type": "display_data"
    },
    {
     "data": {
      "text/html": [
       "<table>\n",
       "<thead><tr><th scope=col>gene</th><th scope=col>n_snps</th><th scope=col>chrom</th><th scope=col>pv_raw</th><th scope=col>snpID</th><th scope=col>pv</th><th scope=col>gene_old</th><th scope=col>qv</th><th scope=col>eqtl</th><th scope=col>beta_GxC</th><th scope=col>beta_G</th></tr></thead>\n",
       "<tbody>\n",
       "\t<tr><td>PRPH2               </td><td>2                   </td><td>6                   </td><td>9.329769e-43        </td><td>6_42672574_G_A      </td><td>1.865954e-42        </td><td>PRPH2               </td><td>2.563820e-39        </td><td>PRPH2-6_42672574_G_A</td><td>0.9545840           </td><td>0.3375220           </td></tr>\n",
       "\t<tr><td>CD36                </td><td>1                   </td><td>7                   </td><td>4.839668e-42        </td><td>7_80240689_T_C      </td><td>4.839668e-42        </td><td>CD36                </td><td>3.324852e-39        </td><td>CD36-7_80240689_T_C </td><td>0.8591097           </td><td>0.2302262           </td></tr>\n",
       "</tbody>\n",
       "</table>\n"
      ],
      "text/latex": [
       "\\begin{tabular}{r|lllllllllll}\n",
       " gene & n\\_snps & chrom & pv\\_raw & snpID & pv & gene\\_old & qv & eqtl & beta\\_GxC & beta\\_G\\\\\n",
       "\\hline\n",
       "\t PRPH2                      & 2                          & 6                          & 9.329769e-43               & 6\\_42672574\\_G\\_A       & 1.865954e-42               & PRPH2                      & 2.563820e-39               & PRPH2-6\\_42672574\\_G\\_A & 0.9545840                  & 0.3375220                 \\\\\n",
       "\t CD36                       & 1                          & 7                          & 4.839668e-42               & 7\\_80240689\\_T\\_C       & 4.839668e-42               & CD36                       & 3.324852e-39               & CD36-7\\_80240689\\_T\\_C  & 0.8591097                  & 0.2302262                 \\\\\n",
       "\\end{tabular}\n"
      ],
      "text/markdown": [
       "\n",
       "| gene | n_snps | chrom | pv_raw | snpID | pv | gene_old | qv | eqtl | beta_GxC | beta_G |\n",
       "|---|---|---|---|---|---|---|---|---|---|---|\n",
       "| PRPH2                | 2                    | 6                    | 9.329769e-43         | 6_42672574_G_A       | 1.865954e-42         | PRPH2                | 2.563820e-39         | PRPH2-6_42672574_G_A | 0.9545840            | 0.3375220            |\n",
       "| CD36                 | 1                    | 7                    | 4.839668e-42         | 7_80240689_T_C       | 4.839668e-42         | CD36                 | 3.324852e-39         | CD36-7_80240689_T_C  | 0.8591097            | 0.2302262            |\n",
       "\n"
      ],
      "text/plain": [
       "  gene  n_snps chrom pv_raw       snpID          pv           gene_old\n",
       "1 PRPH2 2      6     9.329769e-43 6_42672574_G_A 1.865954e-42 PRPH2   \n",
       "2 CD36  1      7     4.839668e-42 7_80240689_T_C 4.839668e-42 CD36    \n",
       "  qv           eqtl                 beta_GxC  beta_G   \n",
       "1 2.563820e-39 PRPH2-6_42672574_G_A 0.9545840 0.3375220\n",
       "2 3.324852e-39 CD36-7_80240689_T_C  0.8591097 0.2302262"
      ]
     },
     "metadata": {},
     "output_type": "display_data"
    }
   ],
   "source": [
    "df3 = inner_join(df2, df_betas)\n",
    "nrow(df3)\n",
    "head(df3,2)"
   ]
  },
  {
   "cell_type": "code",
   "execution_count": 15,
   "id": "541b4479",
   "metadata": {},
   "outputs": [
    {
     "data": {
      "text/html": [
       "<table>\n",
       "<thead><tr><th scope=col>gene</th><th scope=col>n_snps</th><th scope=col>chrom</th><th scope=col>pv_raw</th><th scope=col>snpID</th><th scope=col>pv</th><th scope=col>gene_old</th><th scope=col>qv</th><th scope=col>eqtl</th><th scope=col>beta_GxC</th><th scope=col>beta_G</th><th scope=col>gene_name</th><th scope=col>snp_id</th></tr></thead>\n",
       "<tbody>\n",
       "\t<tr><td>PRPH2               </td><td>2                   </td><td>6                   </td><td>9.329769e-43        </td><td>6_42672574_G_A      </td><td>1.865954e-42        </td><td>PRPH2               </td><td>2.563820e-39        </td><td>PRPH2-6_42672574_G_A</td><td>0.9545840           </td><td>0.3375220           </td><td>PRPH2               </td><td>6_42672574_G_A      </td></tr>\n",
       "\t<tr><td>CD36                </td><td>1                   </td><td>7                   </td><td>4.839668e-42        </td><td>7_80240689_T_C      </td><td>4.839668e-42        </td><td>CD36                </td><td>3.324852e-39        </td><td>CD36-7_80240689_T_C </td><td>0.8591097           </td><td>0.2302262           </td><td>CD36                </td><td>7_80240689_T_C      </td></tr>\n",
       "</tbody>\n",
       "</table>\n"
      ],
      "text/latex": [
       "\\begin{tabular}{r|lllllllllllll}\n",
       " gene & n\\_snps & chrom & pv\\_raw & snpID & pv & gene\\_old & qv & eqtl & beta\\_GxC & beta\\_G & gene\\_name & snp\\_id\\\\\n",
       "\\hline\n",
       "\t PRPH2                      & 2                          & 6                          & 9.329769e-43               & 6\\_42672574\\_G\\_A       & 1.865954e-42               & PRPH2                      & 2.563820e-39               & PRPH2-6\\_42672574\\_G\\_A & 0.9545840                  & 0.3375220                  & PRPH2                      & 6\\_42672574\\_G\\_A      \\\\\n",
       "\t CD36                       & 1                          & 7                          & 4.839668e-42               & 7\\_80240689\\_T\\_C       & 4.839668e-42               & CD36                       & 3.324852e-39               & CD36-7\\_80240689\\_T\\_C  & 0.8591097                  & 0.2302262                  & CD36                       & 7\\_80240689\\_T\\_C      \\\\\n",
       "\\end{tabular}\n"
      ],
      "text/markdown": [
       "\n",
       "| gene | n_snps | chrom | pv_raw | snpID | pv | gene_old | qv | eqtl | beta_GxC | beta_G | gene_name | snp_id |\n",
       "|---|---|---|---|---|---|---|---|---|---|---|---|---|\n",
       "| PRPH2                | 2                    | 6                    | 9.329769e-43         | 6_42672574_G_A       | 1.865954e-42         | PRPH2                | 2.563820e-39         | PRPH2-6_42672574_G_A | 0.9545840            | 0.3375220            | PRPH2                | 6_42672574_G_A       |\n",
       "| CD36                 | 1                    | 7                    | 4.839668e-42         | 7_80240689_T_C       | 4.839668e-42         | CD36                 | 3.324852e-39         | CD36-7_80240689_T_C  | 0.8591097            | 0.2302262            | CD36                 | 7_80240689_T_C       |\n",
       "\n"
      ],
      "text/plain": [
       "  gene  n_snps chrom pv_raw       snpID          pv           gene_old\n",
       "1 PRPH2 2      6     9.329769e-43 6_42672574_G_A 1.865954e-42 PRPH2   \n",
       "2 CD36  1      7     4.839668e-42 7_80240689_T_C 4.839668e-42 CD36    \n",
       "  qv           eqtl                 beta_GxC  beta_G    gene_name\n",
       "1 2.563820e-39 PRPH2-6_42672574_G_A 0.9545840 0.3375220 PRPH2    \n",
       "2 3.324852e-39 CD36-7_80240689_T_C  0.8591097 0.2302262 CD36     \n",
       "  snp_id        \n",
       "1 6_42672574_G_A\n",
       "2 7_80240689_T_C"
      ]
     },
     "metadata": {},
     "output_type": "display_data"
    }
   ],
   "source": [
    "df3$gene_name = df3$gene\n",
    "df3$snp_id = df3$snpID\n",
    "head(df3,2)"
   ]
  },
  {
   "cell_type": "code",
   "execution_count": 19,
   "id": "588cbc47",
   "metadata": {},
   "outputs": [
    {
     "data": {
      "text/html": [
       "<table>\n",
       "<thead><tr><th scope=col>gene_name</th><th scope=col>ensembl_gene_id</th></tr></thead>\n",
       "<tbody>\n",
       "\t<tr><td>SLC25A26       </td><td>ENSG00000261657</td></tr>\n",
       "\t<tr><td>               </td><td>ENSG00000223116</td></tr>\n",
       "</tbody>\n",
       "</table>\n"
      ],
      "text/latex": [
       "\\begin{tabular}{r|ll}\n",
       " gene\\_name & ensembl\\_gene\\_id\\\\\n",
       "\\hline\n",
       "\t SLC25A26        & ENSG00000261657\\\\\n",
       "\t                 & ENSG00000223116\\\\\n",
       "\\end{tabular}\n"
      ],
      "text/markdown": [
       "\n",
       "| gene_name | ensembl_gene_id |\n",
       "|---|---|\n",
       "| SLC25A26        | ENSG00000261657 |\n",
       "|                 | ENSG00000223116 |\n",
       "\n"
      ],
      "text/plain": [
       "  gene_name ensembl_gene_id\n",
       "1 SLC25A26  ENSG00000261657\n",
       "2           ENSG00000223116"
      ]
     },
     "metadata": {},
     "output_type": "display_data"
    }
   ],
   "source": [
    "#load map HGNC to ensembl\n",
    "mapping_df = read.csv('/nfs/leia/research/stegle/dseaton/genomes/hg19/annotation/geneid_mappings/hgnc_symbol2ensembl_gene_id.txt', sep='\\t')\n",
    "colnames(mapping_df)[1] = \"gene_name\"\n",
    "head(mapping_df,2)"
   ]
  },
  {
   "cell_type": "code",
   "execution_count": 24,
   "id": "56325cb1",
   "metadata": {},
   "outputs": [
    {
     "name": "stderr",
     "output_type": "stream",
     "text": [
      "Joining, by = \"gene_name\"\n"
     ]
    }
   ],
   "source": [
    "df4 = df3[,c(\"gene_name\",\"snp_id\",\"pv_raw\",\"pv\",\"qv\",\"beta_G\",\"beta_GxC\")]\n",
    "df4 = left_join(df4, mapping_df)"
   ]
  },
  {
   "cell_type": "code",
   "execution_count": 25,
   "id": "189c14fb",
   "metadata": {},
   "outputs": [
    {
     "data": {
      "text/html": [
       "221"
      ],
      "text/latex": [
       "221"
      ],
      "text/markdown": [
       "221"
      ],
      "text/plain": [
       "[1] 221"
      ]
     },
     "metadata": {},
     "output_type": "display_data"
    },
    {
     "data": {
      "text/html": [
       "212"
      ],
      "text/latex": [
       "212"
      ],
      "text/markdown": [
       "212"
      ],
      "text/plain": [
       "[1] 212"
      ]
     },
     "metadata": {},
     "output_type": "display_data"
    },
    {
     "data": {
      "text/html": [
       "<table>\n",
       "<thead><tr><th scope=col>gene_name</th><th scope=col>snp_id</th><th scope=col>pv_raw</th><th scope=col>pv</th><th scope=col>qv</th><th scope=col>beta_G</th><th scope=col>beta_GxC</th><th scope=col>ensembl_gene_id</th></tr></thead>\n",
       "<tbody>\n",
       "\t<tr><td>PRPH2          </td><td>6_42672574_G_A </td><td>9.329769e-43   </td><td>1.865954e-42   </td><td>2.563820e-39   </td><td>0.3375220      </td><td>0.9545840      </td><td>ENSG00000112619</td></tr>\n",
       "\t<tr><td>CD36           </td><td>7_80240689_T_C </td><td>4.839668e-42   </td><td>4.839668e-42   </td><td>3.324852e-39   </td><td>0.2302262      </td><td>0.8591097      </td><td>ENSG00000135218</td></tr>\n",
       "</tbody>\n",
       "</table>\n"
      ],
      "text/latex": [
       "\\begin{tabular}{r|llllllll}\n",
       " gene\\_name & snp\\_id & pv\\_raw & pv & qv & beta\\_G & beta\\_GxC & ensembl\\_gene\\_id\\\\\n",
       "\\hline\n",
       "\t PRPH2                & 6\\_42672574\\_G\\_A & 9.329769e-43         & 1.865954e-42         & 2.563820e-39         & 0.3375220            & 0.9545840            & ENSG00000112619     \\\\\n",
       "\t CD36                 & 7\\_80240689\\_T\\_C & 4.839668e-42         & 4.839668e-42         & 3.324852e-39         & 0.2302262            & 0.8591097            & ENSG00000135218     \\\\\n",
       "\\end{tabular}\n"
      ],
      "text/markdown": [
       "\n",
       "| gene_name | snp_id | pv_raw | pv | qv | beta_G | beta_GxC | ensembl_gene_id |\n",
       "|---|---|---|---|---|---|---|---|\n",
       "| PRPH2           | 6_42672574_G_A  | 9.329769e-43    | 1.865954e-42    | 2.563820e-39    | 0.3375220       | 0.9545840       | ENSG00000112619 |\n",
       "| CD36            | 7_80240689_T_C  | 4.839668e-42    | 4.839668e-42    | 3.324852e-39    | 0.2302262       | 0.8591097       | ENSG00000135218 |\n",
       "\n"
      ],
      "text/plain": [
       "  gene_name snp_id         pv_raw       pv           qv           beta_G   \n",
       "1 PRPH2     6_42672574_G_A 9.329769e-43 1.865954e-42 2.563820e-39 0.3375220\n",
       "2 CD36      7_80240689_T_C 4.839668e-42 4.839668e-42 3.324852e-39 0.2302262\n",
       "  beta_GxC  ensembl_gene_id\n",
       "1 0.9545840 ENSG00000112619\n",
       "2 0.8591097 ENSG00000135218"
      ]
     },
     "metadata": {},
     "output_type": "display_data"
    }
   ],
   "source": [
    "nrow(df4)\n",
    "df4 = df4[-which(duplicated(df4$gene)),]\n",
    "nrow(df4)\n",
    "head(df4,2)"
   ]
  },
  {
   "cell_type": "code",
   "execution_count": 26,
   "id": "a7b200ab",
   "metadata": {},
   "outputs": [
    {
     "data": {
      "text/html": [
       "212"
      ],
      "text/latex": [
       "212"
      ],
      "text/markdown": [
       "212"
      ],
      "text/plain": [
       "[1] 212"
      ]
     },
     "metadata": {},
     "output_type": "display_data"
    }
   ],
   "source": [
    "length(unique(df4$gene_name))"
   ]
  },
  {
   "cell_type": "code",
   "execution_count": 27,
   "id": "7642011a",
   "metadata": {},
   "outputs": [],
   "source": [
    "write.csv(df4, \"/hps/nobackup/stegle/users/acuomo/singlecell_interaction_eqtls/neuroseq_GxC_SuppTable2.csv\")"
   ]
  },
  {
   "cell_type": "code",
   "execution_count": 1,
   "id": "6a4b35eb",
   "metadata": {},
   "outputs": [],
   "source": [
    "########################################################################################################\n",
    "########################################################################################################\n",
    "########################################################################################################\n",
    "########################################################################################################"
   ]
  },
  {
   "cell_type": "code",
   "execution_count": 2,
   "id": "e50dc02d",
   "metadata": {},
   "outputs": [],
   "source": [
    "library(ggplot2)"
   ]
  },
  {
   "cell_type": "code",
   "execution_count": 3,
   "id": "0255151e",
   "metadata": {},
   "outputs": [
    {
     "data": {
      "text/html": [
       "<table>\n",
       "<thead><tr><th scope=col>gene_name</th><th scope=col>snp_id</th><th scope=col>pv_raw</th><th scope=col>pv</th><th scope=col>qv</th><th scope=col>beta_G</th><th scope=col>beta_GxC</th><th scope=col>ensembl_gene_id</th></tr></thead>\n",
       "<tbody>\n",
       "\t<tr><td>PRPH2          </td><td>6_42672574_G_A </td><td>9.329769e-43   </td><td>1.865954e-42   </td><td>2.563820e-39   </td><td> 0.3375220     </td><td>0.9545840      </td><td>ENSG00000112619</td></tr>\n",
       "\t<tr><td>CD36           </td><td>7_80240689_T_C </td><td>4.839668e-42   </td><td>4.839668e-42   </td><td>3.324852e-39   </td><td> 0.2302262     </td><td>0.8591097      </td><td>ENSG00000135218</td></tr>\n",
       "\t<tr><td>RPS26          </td><td>12_56401085_G_A</td><td>9.758139e-39   </td><td>9.758139e-39   </td><td>4.469228e-36   </td><td>-0.9015587     </td><td>0.9185762      </td><td>ENSG00000197728</td></tr>\n",
       "\t<tr><td>CRYBB2         </td><td>22_25845855_C_G</td><td>3.215298e-35   </td><td>3.215298e-35   </td><td>1.104455e-32   </td><td> 0.7428577     </td><td>1.7763448      </td><td>ENSG00000244752</td></tr>\n",
       "\t<tr><td>HLA.DRB5       </td><td>6_32551716_C_G </td><td>5.604129e-35   </td><td>1.120826e-34   </td><td>3.080029e-32   </td><td>-0.5408206     </td><td>2.3994028      </td><td>NA             </td></tr>\n",
       "\t<tr><td>GPR171         </td><td>3_150847047_A_G</td><td>3.399394e-34   </td><td>3.399394e-34   </td><td>7.784612e-32   </td><td> 0.5102445     </td><td>0.9916148      </td><td>ENSG00000174946</td></tr>\n",
       "</tbody>\n",
       "</table>\n"
      ],
      "text/latex": [
       "\\begin{tabular}{r|llllllll}\n",
       " gene\\_name & snp\\_id & pv\\_raw & pv & qv & beta\\_G & beta\\_GxC & ensembl\\_gene\\_id\\\\\n",
       "\\hline\n",
       "\t PRPH2                 & 6\\_42672574\\_G\\_A  & 9.329769e-43          & 1.865954e-42          & 2.563820e-39          &  0.3375220            & 0.9545840             & ENSG00000112619      \\\\\n",
       "\t CD36                  & 7\\_80240689\\_T\\_C  & 4.839668e-42          & 4.839668e-42          & 3.324852e-39          &  0.2302262            & 0.8591097             & ENSG00000135218      \\\\\n",
       "\t RPS26                 & 12\\_56401085\\_G\\_A & 9.758139e-39          & 9.758139e-39          & 4.469228e-36          & -0.9015587            & 0.9185762             & ENSG00000197728      \\\\\n",
       "\t CRYBB2                & 22\\_25845855\\_C\\_G & 3.215298e-35          & 3.215298e-35          & 1.104455e-32          &  0.7428577            & 1.7763448             & ENSG00000244752      \\\\\n",
       "\t HLA.DRB5              & 6\\_32551716\\_C\\_G  & 5.604129e-35          & 1.120826e-34          & 3.080029e-32          & -0.5408206            & 2.3994028             & NA                   \\\\\n",
       "\t GPR171                & 3\\_150847047\\_A\\_G & 3.399394e-34          & 3.399394e-34          & 7.784612e-32          &  0.5102445            & 0.9916148             & ENSG00000174946      \\\\\n",
       "\\end{tabular}\n"
      ],
      "text/markdown": [
       "\n",
       "| gene_name | snp_id | pv_raw | pv | qv | beta_G | beta_GxC | ensembl_gene_id |\n",
       "|---|---|---|---|---|---|---|---|\n",
       "| PRPH2           | 6_42672574_G_A  | 9.329769e-43    | 1.865954e-42    | 2.563820e-39    |  0.3375220      | 0.9545840       | ENSG00000112619 |\n",
       "| CD36            | 7_80240689_T_C  | 4.839668e-42    | 4.839668e-42    | 3.324852e-39    |  0.2302262      | 0.8591097       | ENSG00000135218 |\n",
       "| RPS26           | 12_56401085_G_A | 9.758139e-39    | 9.758139e-39    | 4.469228e-36    | -0.9015587      | 0.9185762       | ENSG00000197728 |\n",
       "| CRYBB2          | 22_25845855_C_G | 3.215298e-35    | 3.215298e-35    | 1.104455e-32    |  0.7428577      | 1.7763448       | ENSG00000244752 |\n",
       "| HLA.DRB5        | 6_32551716_C_G  | 5.604129e-35    | 1.120826e-34    | 3.080029e-32    | -0.5408206      | 2.3994028       | NA              |\n",
       "| GPR171          | 3_150847047_A_G | 3.399394e-34    | 3.399394e-34    | 7.784612e-32    |  0.5102445      | 0.9916148       | ENSG00000174946 |\n",
       "\n"
      ],
      "text/plain": [
       "  gene_name snp_id          pv_raw       pv           qv           beta_G    \n",
       "1 PRPH2     6_42672574_G_A  9.329769e-43 1.865954e-42 2.563820e-39  0.3375220\n",
       "2 CD36      7_80240689_T_C  4.839668e-42 4.839668e-42 3.324852e-39  0.2302262\n",
       "3 RPS26     12_56401085_G_A 9.758139e-39 9.758139e-39 4.469228e-36 -0.9015587\n",
       "4 CRYBB2    22_25845855_C_G 3.215298e-35 3.215298e-35 1.104455e-32  0.7428577\n",
       "5 HLA.DRB5  6_32551716_C_G  5.604129e-35 1.120826e-34 3.080029e-32 -0.5408206\n",
       "6 GPR171    3_150847047_A_G 3.399394e-34 3.399394e-34 7.784612e-32  0.5102445\n",
       "  beta_GxC  ensembl_gene_id\n",
       "1 0.9545840 ENSG00000112619\n",
       "2 0.8591097 ENSG00000135218\n",
       "3 0.9185762 ENSG00000197728\n",
       "4 1.7763448 ENSG00000244752\n",
       "5 2.3994028 NA             \n",
       "6 0.9916148 ENSG00000174946"
      ]
     },
     "metadata": {},
     "output_type": "display_data"
    }
   ],
   "source": [
    "df = read.csv(\"/hps/nobackup/stegle/users/acuomo/singlecell_interaction_eqtls/neuroseq_GxC_SuppTable2.csv\", row.names = 1)\n",
    "head(df)"
   ]
  },
  {
   "cell_type": "code",
   "execution_count": 5,
   "id": "fcae8eb5",
   "metadata": {},
   "outputs": [
    {
     "data": {
      "text/html": [
       "0.506209624844917"
      ],
      "text/latex": [
       "0.506209624844917"
      ],
      "text/markdown": [
       "0.506209624844917"
      ],
      "text/plain": [
       "[1] 0.5062096"
      ]
     },
     "metadata": {},
     "output_type": "display_data"
    },
    {
     "data": {
      "image/png": "[encoded data removed]",
      "text/plain": [
       "plot without title"
      ]
     },
     "metadata": {},
     "output_type": "display_data"
    }
   ],
   "source": [
    "cor(abs(df$beta_G), df$beta_GxC)\n",
    "p = ggplot(df, aes(x=abs(beta_G), y=beta_GxC, colour=qv)) + geom_point() + theme_classic() \n",
    "p = p + theme(axis.text.x = element_text(size = 18), axis.text.y = element_text(size = 18))\n",
    "# p = p + scale_color_gradient2(low = \"white\",mid = \"coral\",high = \"firebrick\", midpoint = 15)\n",
    "# p = p + sc\n",
    "p"
   ]
  },
  {
   "cell_type": "code",
   "execution_count": null,
   "id": "2e6e9667",
   "metadata": {},
   "outputs": [],
   "source": []
  }
 ],
 "metadata": {
  "kernelspec": {
   "display_name": "R",
   "language": "R",
   "name": "ir"
  },
  "language_info": {
   "codemirror_mode": "r",
   "file_extension": ".r",
   "mimetype": "text/x-r-source",
   "name": "R",
   "pygments_lexer": "r",
   "version": "3.6.1"
  }
 },
 "nbformat": 4,
 "nbformat_minor": 5
}
