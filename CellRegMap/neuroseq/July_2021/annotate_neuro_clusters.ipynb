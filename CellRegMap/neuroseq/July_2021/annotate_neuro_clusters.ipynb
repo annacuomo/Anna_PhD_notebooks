{
 "cells": [
  {
   "cell_type": "code",
   "execution_count": 11,
   "id": "76933f77",
   "metadata": {},
   "outputs": [],
   "source": [
    "library(dplyr)\n",
    "library(qvalue)"
   ]
  },
  {
   "cell_type": "code",
   "execution_count": 22,
   "id": "37f21106",
   "metadata": {},
   "outputs": [],
   "source": [
    "#### DA day 30\n",
    "filename0 = \"/nfs/leia/research/stegle/dseaton/hipsci/singlecell_neuroseq/data/data_processed/pool1_13_noddd_D30/qtl_analysis/eqtl_discovery/celltype_DA/summary_stats/pool1_13_noddd_D30.DA.qtl_results_all.txt\"\n",
    "#### DA day 52 (untreated)\n",
    "filename1 = \"/nfs/leia/research/stegle/dseaton/hipsci/singlecell_neuroseq/data/data_processed/pool1_17_D52/qtl_analysis/eqtl_discovery_separated_by_treatment/input_files_untreated/celltype_DA/summary_stats/pool1_17_D52.DA.qtl_results_all.txt\"\n",
    "#### DA day 52 rotenone-treated\n",
    "filename2 = \"/nfs/leia/research/stegle/dseaton/hipsci/singlecell_neuroseq/data/data_processed/pool1_17_D52/qtl_analysis/eqtl_discovery_separated_by_treatment/input_files_ROT_treated/celltype_DA/summary_stats/pool1_17_D52.DA.qtl_results_all.txt\""
   ]
  },
  {
   "cell_type": "code",
   "execution_count": 25,
   "id": "3e4b52cf",
   "metadata": {},
   "outputs": [],
   "source": [
    "# load full list of results DA conditions (day30, day52, day52+ROT)\n",
    "# res.day30 = read.csv(filename0, sep=\"\\t\")\n",
    "# res.day52 = read.csv(filename1, sep=\"\\t\")\n",
    "# res.day52rot = read.csv(filename2, sep=\"\\t\")"
   ]
  },
  {
   "cell_type": "code",
   "execution_count": 26,
   "id": "bf895397",
   "metadata": {},
   "outputs": [],
   "source": [
    "# load lead variant results DA conditions (day30, day52, day52+ROT)\n",
    "leads.day30 = read.csv(gsub(\"summary_stats/pool1_13_noddd_D30.DA.\",\"top_\",filename0), sep=\"\\t\")\n",
    "leads.day52 = read.csv(gsub(\"summary_stats/pool1_17_D52.DA.\",\"top_\",filename1), sep=\"\\t\")\n",
    "leads.day52rot = read.csv(gsub(\"summary_stats/pool1_17_D52.DA.\",\"top_\",filename2), sep=\"\\t\")"
   ]
  },
  {
   "cell_type": "code",
   "execution_count": 27,
   "id": "d256b6f1",
   "metadata": {},
   "outputs": [],
   "source": [
    "leads.day30$global_corr_p_value = qvalue(leads.day30$empirical_feature_p_value)$qvalues\n",
    "leads.day52$global_corr_p_value = qvalue(leads.day52$empirical_feature_p_value)$qvalues\n",
    "leads.day52rot$global_corr_p_value = qvalue(leads.day52rot$empirical_feature_p_value)$qvalues"
   ]
  },
  {
   "cell_type": "code",
   "execution_count": 109,
   "id": "394c053e",
   "metadata": {},
   "outputs": [],
   "source": [
    "T=0.05"
   ]
  },
  {
   "cell_type": "code",
   "execution_count": 110,
   "id": "b0696653",
   "metadata": {},
   "outputs": [],
   "source": [
    "leads.d30.sign = leads.day30[leads.day30$global_corr_p_value < T,]\n",
    "leads.d52.sign = leads.day52[leads.day52$global_corr_p_value < T,]\n",
    "leads.d52rot.sign = leads.day52rot[leads.day52rot$global_corr_p_value < T,]"
   ]
  },
  {
   "cell_type": "code",
   "execution_count": 111,
   "id": "57d57398",
   "metadata": {},
   "outputs": [
    {
     "data": {
      "text/html": [
       "<ol class=list-inline>\n",
       "\t<li>875</li>\n",
       "\t<li>1027</li>\n",
       "\t<li>460</li>\n",
       "</ol>\n"
      ],
      "text/latex": [
       "\\begin{enumerate*}\n",
       "\\item 875\n",
       "\\item 1027\n",
       "\\item 460\n",
       "\\end{enumerate*}\n"
      ],
      "text/markdown": [
       "1. 875\n",
       "2. 1027\n",
       "3. 460\n",
       "\n",
       "\n"
      ],
      "text/plain": [
       "[1]  875 1027  460"
      ]
     },
     "metadata": {},
     "output_type": "display_data"
    }
   ],
   "source": [
    "c(nrow(leads.d30.sign), nrow(leads.d52.sign), nrow(leads.d52rot.sign))"
   ]
  },
  {
   "cell_type": "code",
   "execution_count": 112,
   "id": "f31ba949",
   "metadata": {},
   "outputs": [],
   "source": [
    "RankAndKeepTop <- function(leads){\n",
    "    leads1 = leads[order(leads$global_corr_p_value),]\n",
    "    leads2 = leads1[-which(duplicated(leads1$feature)),]  \n",
    "    leads2\n",
    "}"
   ]
  },
  {
   "cell_type": "code",
   "execution_count": 113,
   "id": "cd372b45",
   "metadata": {},
   "outputs": [],
   "source": [
    "t=0.05"
   ]
  },
  {
   "cell_type": "code",
   "execution_count": 114,
   "id": "32ac3daf",
   "metadata": {},
   "outputs": [],
   "source": [
    "### inner join significant sc day30 leads, all results from sc day52 leads\n",
    "leads.d30.in.d52 = left_join(leads.d30.sign, res.day52, by = c(\"snp_id\",\"feature_id\"), \n",
    "                            suffix = c(\".d30\",\".d52\"))\n",
    "# leads.d30.in.d52 = RankAndKeepTop(leads.d30.in.d52)"
   ]
  },
  {
   "cell_type": "code",
   "execution_count": 115,
   "id": "b9645bf5",
   "metadata": {},
   "outputs": [
    {
     "data": {
      "text/html": [
       "42"
      ],
      "text/latex": [
       "42"
      ],
      "text/markdown": [
       "42"
      ],
      "text/plain": [
       "[1] 42"
      ]
     },
     "metadata": {},
     "output_type": "display_data"
    }
   ],
   "source": [
    "### inner join significant sc d30 leads in d52, all results from sc d52rot\n",
    "leads.d30.in.d52.in.rot = left_join(leads.d30.in.d52, res.day52rot, by = c(\"snp_id\",\"feature_id\"))\n",
    "# leads.d30.in.d52.in.rot = RankAndKeepTop(leads.d30.in.d52.in.rot)\n",
    "d30 = leads.d30.in.d52.in.rot\n",
    "d30$p_value.rot = d30$p_value\n",
    "d30$beta.rot = d30$beta\n",
    "d30 = d30[!(is.na(d30$p_value.d52)) & !(is.na(d30$p_value.rot)),]\n",
    "nrow(d30[(d30$p_value.d52 >= t) & (d30$p_value.rot >= t),])"
   ]
  },
  {
   "cell_type": "code",
   "execution_count": 116,
   "id": "e6e33d83",
   "metadata": {},
   "outputs": [],
   "source": [
    "### inner join significant sc day52 leads, all results from sc day30 leads\n",
    "leads.d52.in.d30 = left_join(leads.d52.sign, res.day30, by = c(\"snp_id\",\"feature_id\"), \n",
    "                            suffix = c(\".d52\",\".d30\"))\n",
    "# leads.d52.in.d30 = RankAndKeepTop(leads.d52.in.d30)"
   ]
  },
  {
   "cell_type": "code",
   "execution_count": 117,
   "id": "2b8793ff",
   "metadata": {},
   "outputs": [
    {
     "data": {
      "text/html": [
       "30"
      ],
      "text/latex": [
       "30"
      ],
      "text/markdown": [
       "30"
      ],
      "text/plain": [
       "[1] 30"
      ]
     },
     "metadata": {},
     "output_type": "display_data"
    }
   ],
   "source": [
    "### inner join significant sc day52 leads in day30, all results from sc d52rot\n",
    "leads.d52.in.d30.in.rot = left_join(leads.d52.in.d30, res.day52rot, by = c(\"snp_id\",\"feature_id\"))\n",
    "# leads.d52.in.d30.in.rot = RankAndKeepTop(leads.d52.in.d30.in.rot)\n",
    "d52 = leads.d52.in.d30.in.rot\n",
    "d52$p_value.rot = d52$p_value\n",
    "d52$beta.rot = d52$beta\n",
    "d52 = d52[!(is.na(d52$p_value.d30)) & !(is.na(d52$p_value.rot)),]\n",
    "nrow(d52[(d52$p_value.d30 >= t) & (d52$p_value.rot >= t),])"
   ]
  },
  {
   "cell_type": "code",
   "execution_count": 118,
   "id": "7ab17250",
   "metadata": {},
   "outputs": [],
   "source": [
    "### inner join significant sc day52-ROT leads, all results from sc day30 leads\n",
    "leads.rot.in.d30 = left_join(leads.d52rot.sign, res.day30, by = c(\"snp_id\",\"feature_id\"), \n",
    "                            suffix = c(\".rot\",\".d30\"))\n",
    "# leads.rot.in.d30 = RankAndKeepTop(leads.rot.in.d30)"
   ]
  },
  {
   "cell_type": "code",
   "execution_count": 119,
   "id": "ff6b9721",
   "metadata": {},
   "outputs": [
    {
     "data": {
      "text/html": [
       "17"
      ],
      "text/latex": [
       "17"
      ],
      "text/markdown": [
       "17"
      ],
      "text/plain": [
       "[1] 17"
      ]
     },
     "metadata": {},
     "output_type": "display_data"
    }
   ],
   "source": [
    "# ### inner join significant sc day52-ROT leads in day30, all results from sc day52\n",
    "leads.rot.in.d30.in.d52 = left_join(leads.rot.in.d30, res.day52, by = c(\"snp_id\",\"feature_id\"))\n",
    "# leads.rot.in.d30.in.d52 = RankAndKeepTop(leads.rot.in.d30.in.d52)\n",
    "rot = leads.rot.in.d30.in.d52\n",
    "rot$p_value.d52 = rot$p_value\n",
    "rot$beta.d52 = rot$beta\n",
    "rot = rot[!(is.na(rot$p_value.d30)) & !(is.na(rot$p_value.d52)),]\n",
    "nrow(rot[(rot$p_value.d30 >= t) & (rot$p_value.d52 >= t),])"
   ]
  },
  {
   "cell_type": "code",
   "execution_count": 120,
   "id": "833279d2",
   "metadata": {},
   "outputs": [
    {
     "data": {
      "text/html": [
       "<table>\n",
       "<thead><tr><th scope=col>gene_name</th><th scope=col>feature_id</th></tr></thead>\n",
       "<tbody>\n",
       "\t<tr><td>SLC25A26       </td><td>ENSG00000261657</td></tr>\n",
       "\t<tr><td>               </td><td>ENSG00000223116</td></tr>\n",
       "</tbody>\n",
       "</table>\n"
      ],
      "text/latex": [
       "\\begin{tabular}{r|ll}\n",
       " gene\\_name & feature\\_id\\\\\n",
       "\\hline\n",
       "\t SLC25A26        & ENSG00000261657\\\\\n",
       "\t                 & ENSG00000223116\\\\\n",
       "\\end{tabular}\n"
      ],
      "text/markdown": [
       "\n",
       "| gene_name | feature_id |\n",
       "|---|---|\n",
       "| SLC25A26        | ENSG00000261657 |\n",
       "|                 | ENSG00000223116 |\n",
       "\n"
      ],
      "text/plain": [
       "  gene_name feature_id     \n",
       "1 SLC25A26  ENSG00000261657\n",
       "2           ENSG00000223116"
      ]
     },
     "metadata": {},
     "output_type": "display_data"
    }
   ],
   "source": [
    "#load map HGNC to ensembl\n",
    "mapping_df = read.csv('/nfs/leia/research/stegle/dseaton/genomes/hg19/annotation/geneid_mappings/hgnc_symbol2ensembl_gene_id.txt', sep='\\t')\n",
    "colnames(mapping_df) = c(\"gene_name\",\"feature_id\")\n",
    "head(mapping_df,2)"
   ]
  },
  {
   "cell_type": "code",
   "execution_count": 121,
   "id": "83c2300f",
   "metadata": {},
   "outputs": [
    {
     "name": "stderr",
     "output_type": "stream",
     "text": [
      "Joining, by = \"feature_id\"\n"
     ]
    },
    {
     "data": {
      "text/html": [
       "42"
      ],
      "text/latex": [
       "42"
      ],
      "text/markdown": [
       "42"
      ],
      "text/plain": [
       "[1] 42"
      ]
     },
     "metadata": {},
     "output_type": "display_data"
    },
    {
     "data": {
      "text/html": [
       "<ol class=list-inline>\n",
       "\t<li>'LRTM1-3_54949415_C_T'</li>\n",
       "\t<li>'BANF1-11_65750617_C_G'</li>\n",
       "</ol>\n"
      ],
      "text/latex": [
       "\\begin{enumerate*}\n",
       "\\item 'LRTM1-3\\_54949415\\_C\\_T'\n",
       "\\item 'BANF1-11\\_65750617\\_C\\_G'\n",
       "\\end{enumerate*}\n"
      ],
      "text/markdown": [
       "1. 'LRTM1-3_54949415_C_T'\n",
       "2. 'BANF1-11_65750617_C_G'\n",
       "\n",
       "\n"
      ],
      "text/plain": [
       "[1] \"LRTM1-3_54949415_C_T\"  \"BANF1-11_65750617_C_G\""
      ]
     },
     "metadata": {},
     "output_type": "display_data"
    }
   ],
   "source": [
    "d30_specific = d30[(d30$p_value.d52 >= t) & (d30$p_value.rot >= t),]\n",
    "### convert ensembl_gene_ids into gene names\n",
    "d30_specific = left_join(d30_specific, mapping_df) \n",
    "d30_specific$eqtl = paste0(d30_specific$gene_name,\"-\",d30_specific$snp_id)\n",
    "# head(d30_specific,2)\n",
    "d30_eqtls = unique(d30_specific$eqtl)\n",
    "length(d30_eqtls)\n",
    "head(d30_eqtls,2)"
   ]
  },
  {
   "cell_type": "code",
   "execution_count": 122,
   "id": "026e984f",
   "metadata": {},
   "outputs": [
    {
     "name": "stderr",
     "output_type": "stream",
     "text": [
      "Joining, by = \"feature_id\"\n"
     ]
    },
    {
     "data": {
      "text/html": [
       "30"
      ],
      "text/latex": [
       "30"
      ],
      "text/markdown": [
       "30"
      ],
      "text/plain": [
       "[1] 30"
      ]
     },
     "metadata": {},
     "output_type": "display_data"
    },
    {
     "data": {
      "text/html": [
       "<ol class=list-inline>\n",
       "\t<li>'NRP2-2_206356524_A_G'</li>\n",
       "\t<li>'KPNB1-17_45818550_T_C'</li>\n",
       "</ol>\n"
      ],
      "text/latex": [
       "\\begin{enumerate*}\n",
       "\\item 'NRP2-2\\_206356524\\_A\\_G'\n",
       "\\item 'KPNB1-17\\_45818550\\_T\\_C'\n",
       "\\end{enumerate*}\n"
      ],
      "text/markdown": [
       "1. 'NRP2-2_206356524_A_G'\n",
       "2. 'KPNB1-17_45818550_T_C'\n",
       "\n",
       "\n"
      ],
      "text/plain": [
       "[1] \"NRP2-2_206356524_A_G\"  \"KPNB1-17_45818550_T_C\""
      ]
     },
     "metadata": {},
     "output_type": "display_data"
    }
   ],
   "source": [
    "d52_specific = d52[(d52$p_value.d30 >= t) & (d52$p_value.rot >= t),]\n",
    "d52_specific = left_join(d52_specific, mapping_df)\n",
    "d52_specific$eqtl = paste0(d52_specific$gene_name,\"-\",d52_specific$snp_id)\n",
    "# head(d52_specific,2)\n",
    "d52_eqtls = unique(d52_specific$eqtl)\n",
    "length(d52_eqtls)\n",
    "head(d52_eqtls,2)"
   ]
  },
  {
   "cell_type": "code",
   "execution_count": 123,
   "id": "19e4a4f3",
   "metadata": {},
   "outputs": [
    {
     "name": "stderr",
     "output_type": "stream",
     "text": [
      "Joining, by = \"feature_id\"\n"
     ]
    },
    {
     "data": {
      "text/html": [
       "17"
      ],
      "text/latex": [
       "17"
      ],
      "text/markdown": [
       "17"
      ],
      "text/plain": [
       "[1] 17"
      ]
     },
     "metadata": {},
     "output_type": "display_data"
    },
    {
     "data": {
      "text/html": [
       "<ol class=list-inline>\n",
       "\t<li>'C5orf45-5_179253926_A_G'</li>\n",
       "\t<li>'EIF2AK3-2_88829687_G_A'</li>\n",
       "</ol>\n"
      ],
      "text/latex": [
       "\\begin{enumerate*}\n",
       "\\item 'C5orf45-5\\_179253926\\_A\\_G'\n",
       "\\item 'EIF2AK3-2\\_88829687\\_G\\_A'\n",
       "\\end{enumerate*}\n"
      ],
      "text/markdown": [
       "1. 'C5orf45-5_179253926_A_G'\n",
       "2. 'EIF2AK3-2_88829687_G_A'\n",
       "\n",
       "\n"
      ],
      "text/plain": [
       "[1] \"C5orf45-5_179253926_A_G\" \"EIF2AK3-2_88829687_G_A\" "
      ]
     },
     "metadata": {},
     "output_type": "display_data"
    }
   ],
   "source": [
    "rot_specific = rot[(rot$p_value.d30 >= t) & (rot$p_value.d52 >= t),]\n",
    "rot_specific = left_join(rot_specific, mapping_df) \n",
    "rot_specific$eqtl = paste0(rot_specific$gene_name,\"-\",rot_specific$snp_id)\n",
    "# head(rot_specific,2)\n",
    "rot_eqtls = unique(rot_specific$eqtl)\n",
    "length(rot_eqtls)\n",
    "head(rot_eqtls,2)"
   ]
  },
  {
   "cell_type": "code",
   "execution_count": 124,
   "id": "7f0166d7",
   "metadata": {},
   "outputs": [
    {
     "data": {
      "text/html": [
       "<table>\n",
       "<thead><tr><th></th><th scope=col>label</th><th scope=col>gene</th><th scope=col>pp0</th><th scope=col>pp1</th><th scope=col>pp2</th><th scope=col>pp3</th><th scope=col>pp4</th><th scope=col>pp5</th><th scope=col>pp6</th><th scope=col>pp7</th><th scope=col>pp8</th><th scope=col>pp9</th><th scope=col>pp10</th><th scope=col>pp11</th><th scope=col>eqtl</th></tr></thead>\n",
       "<tbody>\n",
       "\t<tr><th scope=row>0</th><td>4                       </td><td>ABHD10_-3_111697439_T_G </td><td>0                       </td><td>0                       </td><td>0                       </td><td>0                       </td><td>1                       </td><td>0                       </td><td>0                       </td><td>0                       </td><td>0                       </td><td>0                       </td><td>0                       </td><td>0                       </td><td>ABHD10-3_111697439_T_G  </td></tr>\n",
       "\t<tr><th scope=row>1</th><td>5                       </td><td>ABHD12B_-14_51328222_C_T</td><td>0                       </td><td>0                       </td><td>0                       </td><td>0                       </td><td>0                       </td><td>1                       </td><td>0                       </td><td>0                       </td><td>0                       </td><td>0                       </td><td>0                       </td><td>0                       </td><td>ABHD12B-14_51328222_C_T </td></tr>\n",
       "</tbody>\n",
       "</table>\n"
      ],
      "text/latex": [
       "\\begin{tabular}{r|lllllllllllllll}\n",
       "  & label & gene & pp0 & pp1 & pp2 & pp3 & pp4 & pp5 & pp6 & pp7 & pp8 & pp9 & pp10 & pp11 & eqtl\\\\\n",
       "\\hline\n",
       "\t0 & 4                                & ABHD10\\_-3\\_111697439\\_T\\_G  & 0                                & 0                                & 0                                & 0                                & 1                                & 0                                & 0                                & 0                                & 0                                & 0                                & 0                                & 0                                & ABHD10-3\\_111697439\\_T\\_G    \\\\\n",
       "\t1 & 5                                & ABHD12B\\_-14\\_51328222\\_C\\_T & 0                                & 0                                & 0                                & 0                                & 0                                & 1                                & 0                                & 0                                & 0                                & 0                                & 0                                & 0                                & ABHD12B-14\\_51328222\\_C\\_T   \\\\\n",
       "\\end{tabular}\n"
      ],
      "text/markdown": [
       "\n",
       "| <!--/--> | label | gene | pp0 | pp1 | pp2 | pp3 | pp4 | pp5 | pp6 | pp7 | pp8 | pp9 | pp10 | pp11 | eqtl |\n",
       "|---|---|---|---|---|---|---|---|---|---|---|---|---|---|---|---|\n",
       "| 0 | 4                        | ABHD10_-3_111697439_T_G  | 0                        | 0                        | 0                        | 0                        | 1                        | 0                        | 0                        | 0                        | 0                        | 0                        | 0                        | 0                        | ABHD10-3_111697439_T_G   |\n",
       "| 1 | 5                        | ABHD12B_-14_51328222_C_T | 0                        | 0                        | 0                        | 0                        | 0                        | 1                        | 0                        | 0                        | 0                        | 0                        | 0                        | 0                        | ABHD12B-14_51328222_C_T  |\n",
       "\n"
      ],
      "text/plain": [
       "  label gene                     pp0 pp1 pp2 pp3 pp4 pp5 pp6 pp7 pp8 pp9 pp10\n",
       "0 4     ABHD10_-3_111697439_T_G  0   0   0   0   1   0   0   0   0   0   0   \n",
       "1 5     ABHD12B_-14_51328222_C_T 0   0   0   0   0   1   0   0   0   0   0   \n",
       "  pp11 eqtl                   \n",
       "0 0    ABHD10-3_111697439_T_G \n",
       "1 0    ABHD12B-14_51328222_C_T"
      ]
     },
     "metadata": {},
     "output_type": "display_data"
    }
   ],
   "source": [
    "#### \n",
    "df = read.csv(\"/hps/nobackup/stegle/users/acuomo/all_scripts/struct_LMM2/sc_neuroseq/May2021/genetic_effect/scaled_absolute_eff_sizes_20mofas_as_spatial_downsample_50pct_cluster_labels.csv\", row.names = 1)\n",
    "df$eqtl = gsub(\"_-\",\"-\",df$gene)\n",
    "head(df,2)"
   ]
  },
  {
   "cell_type": "code",
   "execution_count": 125,
   "id": "079af2be",
   "metadata": {},
   "outputs": [
    {
     "data": {
      "text/html": [
       "<table>\n",
       "<thead><tr><th></th><th scope=col>label</th><th scope=col>eqtl</th><th scope=col>specific</th></tr></thead>\n",
       "<tbody>\n",
       "\t<tr><th scope=row>0</th><td>4                      </td><td>ABHD10-3_111697439_T_G </td><td>no                     </td></tr>\n",
       "\t<tr><th scope=row>1</th><td>5                      </td><td>ABHD12B-14_51328222_C_T</td><td>no                     </td></tr>\n",
       "\t<tr><th scope=row>2</th><td>2                      </td><td>ACKR2-3_42817129_C_T   </td><td>no                     </td></tr>\n",
       "\t<tr><th scope=row>3</th><td>5                      </td><td>ADD2-2_70894426_A_T    </td><td>no                     </td></tr>\n",
       "\t<tr><th scope=row>4</th><td>4                      </td><td>ADSL-22_40757228_A_C   </td><td>no                     </td></tr>\n",
       "\t<tr><th scope=row>5</th><td>4                      </td><td>AIM1L-1_26673825_C_T   </td><td>no                     </td></tr>\n",
       "</tbody>\n",
       "</table>\n"
      ],
      "text/latex": [
       "\\begin{tabular}{r|lll}\n",
       "  & label & eqtl & specific\\\\\n",
       "\\hline\n",
       "\t0 & 4                             & ABHD10-3\\_111697439\\_T\\_G  & no                           \\\\\n",
       "\t1 & 5                             & ABHD12B-14\\_51328222\\_C\\_T & no                           \\\\\n",
       "\t2 & 2                             & ACKR2-3\\_42817129\\_C\\_T    & no                           \\\\\n",
       "\t3 & 5                             & ADD2-2\\_70894426\\_A\\_T     & no                           \\\\\n",
       "\t4 & 4                             & ADSL-22\\_40757228\\_A\\_C    & no                           \\\\\n",
       "\t5 & 4                             & AIM1L-1\\_26673825\\_C\\_T    & no                           \\\\\n",
       "\\end{tabular}\n"
      ],
      "text/markdown": [
       "\n",
       "| <!--/--> | label | eqtl | specific |\n",
       "|---|---|---|---|\n",
       "| 0 | 4                       | ABHD10-3_111697439_T_G  | no                      |\n",
       "| 1 | 5                       | ABHD12B-14_51328222_C_T | no                      |\n",
       "| 2 | 2                       | ACKR2-3_42817129_C_T    | no                      |\n",
       "| 3 | 5                       | ADD2-2_70894426_A_T     | no                      |\n",
       "| 4 | 4                       | ADSL-22_40757228_A_C    | no                      |\n",
       "| 5 | 4                       | AIM1L-1_26673825_C_T    | no                      |\n",
       "\n"
      ],
      "text/plain": [
       "  label eqtl                    specific\n",
       "0 4     ABHD10-3_111697439_T_G  no      \n",
       "1 5     ABHD12B-14_51328222_C_T no      \n",
       "2 2     ACKR2-3_42817129_C_T    no      \n",
       "3 5     ADD2-2_70894426_A_T     no      \n",
       "4 4     ADSL-22_40757228_A_C    no      \n",
       "5 4     AIM1L-1_26673825_C_T    no      "
      ]
     },
     "metadata": {},
     "output_type": "display_data"
    }
   ],
   "source": [
    "df0 = df[,c(\"label\",\"eqtl\")]\n",
    "df0$specific = \"no\"\n",
    "df0[df0$eqtl %in% d30_eqtls,\"specific\"] = \"d30\"\n",
    "df0[df0$eqtl %in% d52_eqtls,\"specific\"] = \"d52\"\n",
    "df0[df0$eqtl %in% rot_eqtls,\"specific\"] = \"d52_rot\"\n",
    "head(df0)"
   ]
  },
  {
   "cell_type": "code",
   "execution_count": 126,
   "id": "7e840e90",
   "metadata": {},
   "outputs": [
    {
     "data": {
      "text/plain": [
       "\n",
       "    d30     d52 d52_rot      no \n",
       "      1       1       1     209 "
      ]
     },
     "metadata": {},
     "output_type": "display_data"
    }
   ],
   "source": [
    "table(df0$specific)"
   ]
  },
  {
   "cell_type": "code",
   "execution_count": 127,
   "id": "6a379322",
   "metadata": {},
   "outputs": [
    {
     "data": {
      "text/plain": [
       "\n",
       " 0  1  2  3  4  5  6  7  8  9 10 11 \n",
       " 2  2 41 18 39 43  9 12 10 15 13  8 "
      ]
     },
     "metadata": {},
     "output_type": "display_data"
    }
   ],
   "source": [
    "table(df0$label)"
   ]
  },
  {
   "cell_type": "code",
   "execution_count": 128,
   "id": "8972f58f",
   "metadata": {},
   "outputs": [
    {
     "data": {
      "text/plain": [
       "         \n",
       "           0  1  2  3  4  5  6  7  8  9 10 11\n",
       "  d30      0  0  1  0  0  0  0  0  0  0  0  0\n",
       "  d52      0  0  0  0  1  0  0  0  0  0  0  0\n",
       "  d52_rot  0  0  0  0  0  0  0  1  0  0  0  0\n",
       "  no       2  2 40 18 38 43  9 11 10 15 13  8"
      ]
     },
     "metadata": {},
     "output_type": "display_data"
    }
   ],
   "source": [
    "table(df0$specific, df0$label)"
   ]
  },
  {
   "cell_type": "code",
   "execution_count": null,
   "id": "0cfdbe3a",
   "metadata": {},
   "outputs": [],
   "source": []
  }
 ],
 "metadata": {
  "kernelspec": {
   "display_name": "R",
   "language": "R",
   "name": "ir"
  },
  "language_info": {
   "codemirror_mode": "r",
   "file_extension": ".r",
   "mimetype": "text/x-r-source",
   "name": "R",
   "pygments_lexer": "r",
   "version": "3.6.1"
  }
 },
 "nbformat": 4,
 "nbformat_minor": 5
}
