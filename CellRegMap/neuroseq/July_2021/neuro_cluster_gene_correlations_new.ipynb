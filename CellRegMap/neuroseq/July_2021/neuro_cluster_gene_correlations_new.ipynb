{
 "cells": [
  {
   "cell_type": "code",
   "execution_count": 4,
   "id": "023b59c0",
   "metadata": {},
   "outputs": [],
   "source": [
    "filename = \"/hps/nobackup/stegle/users/acuomo/all_scripts/struct_LMM2/sc_neuroseq/May2021/genetic_effect/scaled_absolute_eff_sizes_20mofas_as_spatial_downsample_50pct_cluster_labels.csv\"\n",
    "df_clusters = read.csv(filename, row.names = 1)"
   ]
  },
  {
   "cell_type": "code",
   "execution_count": 5,
   "id": "5874f140",
   "metadata": {},
   "outputs": [
    {
     "data": {
      "text/html": [
       "<table>\n",
       "<thead><tr><th></th><th scope=col>cluster0</th><th scope=col>cluster1</th><th scope=col>cluster2</th><th scope=col>cluster3</th><th scope=col>cluster4</th><th scope=col>cluster5</th><th scope=col>cluster6</th><th scope=col>cluster7</th><th scope=col>cluster8</th><th scope=col>cluster9</th><th scope=col>cluster10</th><th scope=col>cluster11</th></tr></thead>\n",
       "<tbody>\n",
       "\t<tr><th scope=row>HPSI0114i-bezi_3--DA--d30--0</th><td>-0.7098119  </td><td>-0.7728862  </td><td>0.4261967   </td><td>0.3463025   </td><td>0.06613719  </td><td>-0.7754718  </td><td>-0.002358341</td><td>0.8490074   </td><td>0.6622714   </td><td>-0.4312028  </td><td>-0.5843867  </td><td> 0.110538034</td></tr>\n",
       "\t<tr><th scope=row>HPSI0114i-bezi_3--DA--d30--1</th><td>-0.8473591  </td><td>-0.9178856  </td><td>0.5745484   </td><td>0.4789874   </td><td>0.06482869  </td><td>-0.8300944  </td><td>-0.012682349</td><td>0.9515093   </td><td>0.5936949   </td><td>-0.5913080  </td><td>-0.7768382  </td><td>-0.001228967</td></tr>\n",
       "</tbody>\n",
       "</table>\n"
      ],
      "text/latex": [
       "\\begin{tabular}{r|llllllllllll}\n",
       "  & cluster0 & cluster1 & cluster2 & cluster3 & cluster4 & cluster5 & cluster6 & cluster7 & cluster8 & cluster9 & cluster10 & cluster11\\\\\n",
       "\\hline\n",
       "\tHPSI0114i-bezi\\_3--DA--d30--0 & -0.7098119   & -0.7728862   & 0.4261967    & 0.3463025    & 0.06613719   & -0.7754718   & -0.002358341 & 0.8490074    & 0.6622714    & -0.4312028   & -0.5843867   &  0.110538034\\\\\n",
       "\tHPSI0114i-bezi\\_3--DA--d30--1 & -0.8473591   & -0.9178856   & 0.5745484    & 0.4789874    & 0.06482869   & -0.8300944   & -0.012682349 & 0.9515093    & 0.5936949    & -0.5913080   & -0.7768382   & -0.001228967\\\\\n",
       "\\end{tabular}\n"
      ],
      "text/markdown": [
       "\n",
       "| <!--/--> | cluster0 | cluster1 | cluster2 | cluster3 | cluster4 | cluster5 | cluster6 | cluster7 | cluster8 | cluster9 | cluster10 | cluster11 |\n",
       "|---|---|---|---|---|---|---|---|---|---|---|---|---|\n",
       "| HPSI0114i-bezi_3--DA--d30--0 | -0.7098119   | -0.7728862   | 0.4261967    | 0.3463025    | 0.06613719   | -0.7754718   | -0.002358341 | 0.8490074    | 0.6622714    | -0.4312028   | -0.5843867   |  0.110538034 |\n",
       "| HPSI0114i-bezi_3--DA--d30--1 | -0.8473591   | -0.9178856   | 0.5745484    | 0.4789874    | 0.06482869   | -0.8300944   | -0.012682349 | 0.9515093    | 0.5936949    | -0.5913080   | -0.7768382   | -0.001228967 |\n",
       "\n"
      ],
      "text/plain": [
       "                             cluster0   cluster1   cluster2  cluster3 \n",
       "HPSI0114i-bezi_3--DA--d30--0 -0.7098119 -0.7728862 0.4261967 0.3463025\n",
       "HPSI0114i-bezi_3--DA--d30--1 -0.8473591 -0.9178856 0.5745484 0.4789874\n",
       "                             cluster4   cluster5   cluster6     cluster7 \n",
       "HPSI0114i-bezi_3--DA--d30--0 0.06613719 -0.7754718 -0.002358341 0.8490074\n",
       "HPSI0114i-bezi_3--DA--d30--1 0.06482869 -0.8300944 -0.012682349 0.9515093\n",
       "                             cluster8  cluster9   cluster10  cluster11   \n",
       "HPSI0114i-bezi_3--DA--d30--0 0.6622714 -0.4312028 -0.5843867  0.110538034\n",
       "HPSI0114i-bezi_3--DA--d30--1 0.5936949 -0.5913080 -0.7768382 -0.001228967"
      ]
     },
     "metadata": {},
     "output_type": "display_data"
    }
   ],
   "source": [
    "# load cluster summaries\n",
    "cluster_summaries = read.csv(\"/hps/nobackup/stegle/users/acuomo/all_scripts/struct_LMM2/sc_neuroseq/May2021/genetic_effect/scaled_absolute_eff_sizes_20mofas_as_spatial_downsample_50pct_cluster_summaries.csv\", row.names=1)\n",
    "colnames(cluster_summaries) = paste0(\"cluster\",0:(ncol(cluster_summaries)-1))\n",
    "head(cluster_summaries,2)"
   ]
  },
  {
   "cell_type": "code",
   "execution_count": 6,
   "id": "7cc4e086",
   "metadata": {},
   "outputs": [],
   "source": [
    "input_files_dir = \"/hps/nobackup/stegle/users/acuomo/all_scripts/struct_LMM2/sc_neuroseq/May2021/input_files/\"\n",
    "# Phenotype\n",
    "phenotype_file = paste0(input_files_dir,\"phenotype.csv\")"
   ]
  },
  {
   "cell_type": "code",
   "execution_count": 7,
   "id": "f092c7be",
   "metadata": {},
   "outputs": [
    {
     "data": {
      "text/html": [
       "<table>\n",
       "<thead><tr><th></th><th scope=col>HPSI0714i-iudw_1--DA--d30--0</th><th scope=col>HPSI0714i-iudw_1--DA--d30--1</th><th scope=col>HPSI0714i-iudw_1--DA--d30--2</th><th scope=col>HPSI0714i-iudw_1--DA--d30--3</th><th scope=col>HPSI0714i-iudw_1--DA--d30--4</th></tr></thead>\n",
       "<tbody>\n",
       "\t<tr><th scope=row>MIR1302.10</th><td>0</td><td>0</td><td>0</td><td>0</td><td>0</td></tr>\n",
       "\t<tr><th scope=row>FAM138A</th><td>0</td><td>0</td><td>0</td><td>0</td><td>0</td></tr>\n",
       "\t<tr><th scope=row>OR4F5</th><td>0</td><td>0</td><td>0</td><td>0</td><td>0</td></tr>\n",
       "\t<tr><th scope=row>RP11.34P13.7</th><td>0</td><td>0</td><td>0</td><td>0</td><td>0</td></tr>\n",
       "\t<tr><th scope=row>RP11.34P13.8</th><td>0</td><td>0</td><td>0</td><td>0</td><td>0</td></tr>\n",
       "</tbody>\n",
       "</table>\n"
      ],
      "text/latex": [
       "\\begin{tabular}{r|lllll}\n",
       "  & HPSI0714i-iudw\\_1--DA--d30--0 & HPSI0714i-iudw\\_1--DA--d30--1 & HPSI0714i-iudw\\_1--DA--d30--2 & HPSI0714i-iudw\\_1--DA--d30--3 & HPSI0714i-iudw\\_1--DA--d30--4\\\\\n",
       "\\hline\n",
       "\tMIR1302.10 & 0 & 0 & 0 & 0 & 0\\\\\n",
       "\tFAM138A & 0 & 0 & 0 & 0 & 0\\\\\n",
       "\tOR4F5 & 0 & 0 & 0 & 0 & 0\\\\\n",
       "\tRP11.34P13.7 & 0 & 0 & 0 & 0 & 0\\\\\n",
       "\tRP11.34P13.8 & 0 & 0 & 0 & 0 & 0\\\\\n",
       "\\end{tabular}\n"
      ],
      "text/markdown": [
       "\n",
       "| <!--/--> | HPSI0714i-iudw_1--DA--d30--0 | HPSI0714i-iudw_1--DA--d30--1 | HPSI0714i-iudw_1--DA--d30--2 | HPSI0714i-iudw_1--DA--d30--3 | HPSI0714i-iudw_1--DA--d30--4 |\n",
       "|---|---|---|---|---|---|\n",
       "| MIR1302.10 | 0 | 0 | 0 | 0 | 0 |\n",
       "| FAM138A | 0 | 0 | 0 | 0 | 0 |\n",
       "| OR4F5 | 0 | 0 | 0 | 0 | 0 |\n",
       "| RP11.34P13.7 | 0 | 0 | 0 | 0 | 0 |\n",
       "| RP11.34P13.8 | 0 | 0 | 0 | 0 | 0 |\n",
       "\n"
      ],
      "text/plain": [
       "             HPSI0714i-iudw_1--DA--d30--0 HPSI0714i-iudw_1--DA--d30--1\n",
       "MIR1302.10   0                            0                           \n",
       "FAM138A      0                            0                           \n",
       "OR4F5        0                            0                           \n",
       "RP11.34P13.7 0                            0                           \n",
       "RP11.34P13.8 0                            0                           \n",
       "             HPSI0714i-iudw_1--DA--d30--2 HPSI0714i-iudw_1--DA--d30--3\n",
       "MIR1302.10   0                            0                           \n",
       "FAM138A      0                            0                           \n",
       "OR4F5        0                            0                           \n",
       "RP11.34P13.7 0                            0                           \n",
       "RP11.34P13.8 0                            0                           \n",
       "             HPSI0714i-iudw_1--DA--d30--4\n",
       "MIR1302.10   0                           \n",
       "FAM138A      0                           \n",
       "OR4F5        0                           \n",
       "RP11.34P13.7 0                           \n",
       "RP11.34P13.8 0                           "
      ]
     },
     "metadata": {},
     "output_type": "display_data"
    }
   ],
   "source": [
    "df0 = read.csv(phenotype_file, row.names=1)\n",
    "newcols = gsub(\"\\\\.\",\"-\",colnames(df0))\n",
    "# head(newcols)\n",
    "colnames(df0) = newcols\n",
    "df0[1:5,1:5]"
   ]
  },
  {
   "cell_type": "code",
   "execution_count": 8,
   "id": "cef30e35",
   "metadata": {},
   "outputs": [
    {
     "data": {
      "text/html": [
       "9219"
      ],
      "text/latex": [
       "9219"
      ],
      "text/markdown": [
       "9219"
      ],
      "text/plain": [
       "[1] 9219"
      ]
     },
     "metadata": {},
     "output_type": "display_data"
    },
    {
     "data": {
      "text/html": [
       "8352"
      ],
      "text/latex": [
       "8352"
      ],
      "text/markdown": [
       "8352"
      ],
      "text/plain": [
       "[1] 8352"
      ]
     },
     "metadata": {},
     "output_type": "display_data"
    },
    {
     "data": {
      "text/html": [
       "<table>\n",
       "<thead><tr><th></th><th scope=col>HPSI0114i-bezi_3--DA--d30--0</th><th scope=col>HPSI0114i-bezi_3--DA--d30--1</th><th scope=col>HPSI0114i-bezi_3--DA--d30--10</th><th scope=col>HPSI0114i-bezi_3--DA--d30--11</th><th scope=col>HPSI0114i-bezi_3--DA--d30--12</th></tr></thead>\n",
       "<tbody>\n",
       "\t<tr><th scope=row>MIR1302.10</th><td>0</td><td>0</td><td>0</td><td>0</td><td>0</td></tr>\n",
       "\t<tr><th scope=row>FAM138A</th><td>0</td><td>0</td><td>0</td><td>0</td><td>0</td></tr>\n",
       "\t<tr><th scope=row>OR4F5</th><td>0</td><td>0</td><td>0</td><td>0</td><td>0</td></tr>\n",
       "\t<tr><th scope=row>RP11.34P13.7</th><td>0</td><td>0</td><td>0</td><td>0</td><td>0</td></tr>\n",
       "\t<tr><th scope=row>RP11.34P13.8</th><td>0</td><td>0</td><td>0</td><td>0</td><td>0</td></tr>\n",
       "</tbody>\n",
       "</table>\n"
      ],
      "text/latex": [
       "\\begin{tabular}{r|lllll}\n",
       "  & HPSI0114i-bezi\\_3--DA--d30--0 & HPSI0114i-bezi\\_3--DA--d30--1 & HPSI0114i-bezi\\_3--DA--d30--10 & HPSI0114i-bezi\\_3--DA--d30--11 & HPSI0114i-bezi\\_3--DA--d30--12\\\\\n",
       "\\hline\n",
       "\tMIR1302.10 & 0 & 0 & 0 & 0 & 0\\\\\n",
       "\tFAM138A & 0 & 0 & 0 & 0 & 0\\\\\n",
       "\tOR4F5 & 0 & 0 & 0 & 0 & 0\\\\\n",
       "\tRP11.34P13.7 & 0 & 0 & 0 & 0 & 0\\\\\n",
       "\tRP11.34P13.8 & 0 & 0 & 0 & 0 & 0\\\\\n",
       "\\end{tabular}\n"
      ],
      "text/markdown": [
       "\n",
       "| <!--/--> | HPSI0114i-bezi_3--DA--d30--0 | HPSI0114i-bezi_3--DA--d30--1 | HPSI0114i-bezi_3--DA--d30--10 | HPSI0114i-bezi_3--DA--d30--11 | HPSI0114i-bezi_3--DA--d30--12 |\n",
       "|---|---|---|---|---|---|\n",
       "| MIR1302.10 | 0 | 0 | 0 | 0 | 0 |\n",
       "| FAM138A | 0 | 0 | 0 | 0 | 0 |\n",
       "| OR4F5 | 0 | 0 | 0 | 0 | 0 |\n",
       "| RP11.34P13.7 | 0 | 0 | 0 | 0 | 0 |\n",
       "| RP11.34P13.8 | 0 | 0 | 0 | 0 | 0 |\n",
       "\n"
      ],
      "text/plain": [
       "             HPSI0114i-bezi_3--DA--d30--0 HPSI0114i-bezi_3--DA--d30--1\n",
       "MIR1302.10   0                            0                           \n",
       "FAM138A      0                            0                           \n",
       "OR4F5        0                            0                           \n",
       "RP11.34P13.7 0                            0                           \n",
       "RP11.34P13.8 0                            0                           \n",
       "             HPSI0114i-bezi_3--DA--d30--10 HPSI0114i-bezi_3--DA--d30--11\n",
       "MIR1302.10   0                             0                            \n",
       "FAM138A      0                             0                            \n",
       "OR4F5        0                             0                            \n",
       "RP11.34P13.7 0                             0                            \n",
       "RP11.34P13.8 0                             0                            \n",
       "             HPSI0114i-bezi_3--DA--d30--12\n",
       "MIR1302.10   0                            \n",
       "FAM138A      0                            \n",
       "OR4F5        0                            \n",
       "RP11.34P13.7 0                            \n",
       "RP11.34P13.8 0                            "
      ]
     },
     "metadata": {},
     "output_type": "display_data"
    }
   ],
   "source": [
    "df1 = df0[,rownames(cluster_summaries)]\n",
    "ncol(df0)\n",
    "ncol(df1)\n",
    "df1[1:5,1:5]"
   ]
  },
  {
   "cell_type": "code",
   "execution_count": 9,
   "id": "8178bd50",
   "metadata": {},
   "outputs": [],
   "source": [
    "rowsums = rowSums(df1)"
   ]
  },
  {
   "cell_type": "code",
   "execution_count": 10,
   "id": "ed12b8a5",
   "metadata": {},
   "outputs": [
    {
     "data": {
      "text/html": [
       "<ol class=list-inline>\n",
       "\t<li>'FAM138A'</li>\n",
       "\t<li>'OR4F5'</li>\n",
       "\t<li>'RP11.34P13.14'</li>\n",
       "\t<li>'OR4F29'</li>\n",
       "\t<li>'RP5.857K21.2'</li>\n",
       "\t<li>'OR4F16'</li>\n",
       "</ol>\n"
      ],
      "text/latex": [
       "\\begin{enumerate*}\n",
       "\\item 'FAM138A'\n",
       "\\item 'OR4F5'\n",
       "\\item 'RP11.34P13.14'\n",
       "\\item 'OR4F29'\n",
       "\\item 'RP5.857K21.2'\n",
       "\\item 'OR4F16'\n",
       "\\end{enumerate*}\n"
      ],
      "text/markdown": [
       "1. 'FAM138A'\n",
       "2. 'OR4F5'\n",
       "3. 'RP11.34P13.14'\n",
       "4. 'OR4F29'\n",
       "5. 'RP5.857K21.2'\n",
       "6. 'OR4F16'\n",
       "\n",
       "\n"
      ],
      "text/plain": [
       "[1] \"FAM138A\"       \"OR4F5\"         \"RP11.34P13.14\" \"OR4F29\"       \n",
       "[5] \"RP5.857K21.2\"  \"OR4F16\"       "
      ]
     },
     "metadata": {},
     "output_type": "display_data"
    },
    {
     "data": {
      "text/html": [
       "4476"
      ],
      "text/latex": [
       "4476"
      ],
      "text/markdown": [
       "4476"
      ],
      "text/plain": [
       "[1] 4476"
      ]
     },
     "metadata": {},
     "output_type": "display_data"
    }
   ],
   "source": [
    "# remove all 0 genes\n",
    "zero_genes = names(rowsums[rowsums==0])\n",
    "head(zero_genes)\n",
    "length(zero_genes)"
   ]
  },
  {
   "cell_type": "code",
   "execution_count": 11,
   "id": "3b733121",
   "metadata": {},
   "outputs": [
    {
     "data": {
      "text/html": [
       "<dl class=dl-horizontal>\n",
       "\t<dt>MIR1302.10</dt>\n",
       "\t\t<dd>56</dd>\n",
       "\t<dt>FAM138A</dt>\n",
       "\t\t<dd>0</dd>\n",
       "\t<dt>OR4F5</dt>\n",
       "\t\t<dd>0</dd>\n",
       "\t<dt>RP11.34P13.7</dt>\n",
       "\t\t<dd>287</dd>\n",
       "\t<dt>RP11.34P13.8</dt>\n",
       "\t\t<dd>15</dd>\n",
       "\t<dt>AL627309.1</dt>\n",
       "\t\t<dd>834</dd>\n",
       "</dl>\n"
      ],
      "text/latex": [
       "\\begin{description*}\n",
       "\\item[MIR1302.10] 56\n",
       "\\item[FAM138A] 0\n",
       "\\item[OR4F5] 0\n",
       "\\item[RP11.34P13.7] 287\n",
       "\\item[RP11.34P13.8] 15\n",
       "\\item[AL627309.1] 834\n",
       "\\end{description*}\n"
      ],
      "text/markdown": [
       "MIR1302.10\n",
       ":   56FAM138A\n",
       ":   0OR4F5\n",
       ":   0RP11.34P13.7\n",
       ":   287RP11.34P13.8\n",
       ":   15AL627309.1\n",
       ":   834\n",
       "\n"
      ],
      "text/plain": [
       "  MIR1302.10      FAM138A        OR4F5 RP11.34P13.7 RP11.34P13.8   AL627309.1 \n",
       "          56            0            0          287           15          834 "
      ]
     },
     "metadata": {},
     "output_type": "display_data"
    }
   ],
   "source": [
    "non0_pseudocells = rowSums(df1>0)\n",
    "head(non0_pseudocells)"
   ]
  },
  {
   "cell_type": "code",
   "execution_count": 12,
   "id": "89901d61",
   "metadata": {},
   "outputs": [
    {
     "data": {
      "text/html": [
       "<ol class=list-inline>\n",
       "\t<li>'MIR1302.10'</li>\n",
       "\t<li>'FAM138A'</li>\n",
       "\t<li>'OR4F5'</li>\n",
       "\t<li>'RP11.34P13.7'</li>\n",
       "\t<li>'RP11.34P13.8'</li>\n",
       "\t<li>'AL627309.1'</li>\n",
       "</ol>\n"
      ],
      "text/latex": [
       "\\begin{enumerate*}\n",
       "\\item 'MIR1302.10'\n",
       "\\item 'FAM138A'\n",
       "\\item 'OR4F5'\n",
       "\\item 'RP11.34P13.7'\n",
       "\\item 'RP11.34P13.8'\n",
       "\\item 'AL627309.1'\n",
       "\\end{enumerate*}\n"
      ],
      "text/markdown": [
       "1. 'MIR1302.10'\n",
       "2. 'FAM138A'\n",
       "3. 'OR4F5'\n",
       "4. 'RP11.34P13.7'\n",
       "5. 'RP11.34P13.8'\n",
       "6. 'AL627309.1'\n",
       "\n",
       "\n"
      ],
      "text/plain": [
       "[1] \"MIR1302.10\"   \"FAM138A\"      \"OR4F5\"        \"RP11.34P13.7\" \"RP11.34P13.8\"\n",
       "[6] \"AL627309.1\"  "
      ]
     },
     "metadata": {},
     "output_type": "display_data"
    },
    {
     "data": {
      "text/html": [
       "19035"
      ],
      "text/latex": [
       "19035"
      ],
      "text/markdown": [
       "19035"
      ],
      "text/plain": [
       "[1] 19035"
      ]
     },
     "metadata": {},
     "output_type": "display_data"
    }
   ],
   "source": [
    "# remove genes in less 10% of pseudocells\n",
    "low_genes = names(non0_pseudocells[non0_pseudocells<0.1*ncol(df1)])\n",
    "head(low_genes)\n",
    "length(low_genes)"
   ]
  },
  {
   "cell_type": "code",
   "execution_count": 13,
   "id": "75aca03b",
   "metadata": {},
   "outputs": [],
   "source": [
    "all_genes_df = df1"
   ]
  },
  {
   "cell_type": "code",
   "execution_count": 14,
   "id": "ebfd60b1",
   "metadata": {},
   "outputs": [
    {
     "data": {
      "text/html": [
       "13703"
      ],
      "text/latex": [
       "13703"
      ],
      "text/markdown": [
       "13703"
      ],
      "text/plain": [
       "[1] 13703"
      ]
     },
     "metadata": {},
     "output_type": "display_data"
    }
   ],
   "source": [
    "df1_new = df1[!(rownames(df1) %in% unique(c(zero_genes, low_genes))),]\n",
    "nrow(df1_new)"
   ]
  },
  {
   "cell_type": "code",
   "execution_count": 15,
   "id": "e1d3cdbd",
   "metadata": {},
   "outputs": [],
   "source": [
    "df1 = df1_new"
   ]
  },
  {
   "cell_type": "code",
   "execution_count": 16,
   "id": "8983b08c",
   "metadata": {},
   "outputs": [
    {
     "data": {
      "text/html": [
       "13703"
      ],
      "text/latex": [
       "13703"
      ],
      "text/markdown": [
       "13703"
      ],
      "text/plain": [
       "[1] 13703"
      ]
     },
     "metadata": {},
     "output_type": "display_data"
    },
    {
     "data": {
      "text/html": [
       "<ol class=list-inline>\n",
       "\t<li>'AP006222.2'</li>\n",
       "\t<li>'RP11.206L10.3'</li>\n",
       "\t<li>'RP11.206L10.9'</li>\n",
       "\t<li>'LINC00115'</li>\n",
       "\t<li>'FAM41C'</li>\n",
       "\t<li>'RP11.54O7.1'</li>\n",
       "</ol>\n"
      ],
      "text/latex": [
       "\\begin{enumerate*}\n",
       "\\item 'AP006222.2'\n",
       "\\item 'RP11.206L10.3'\n",
       "\\item 'RP11.206L10.9'\n",
       "\\item 'LINC00115'\n",
       "\\item 'FAM41C'\n",
       "\\item 'RP11.54O7.1'\n",
       "\\end{enumerate*}\n"
      ],
      "text/markdown": [
       "1. 'AP006222.2'\n",
       "2. 'RP11.206L10.3'\n",
       "3. 'RP11.206L10.9'\n",
       "4. 'LINC00115'\n",
       "5. 'FAM41C'\n",
       "6. 'RP11.54O7.1'\n",
       "\n",
       "\n"
      ],
      "text/plain": [
       "[1] \"AP006222.2\"    \"RP11.206L10.3\" \"RP11.206L10.9\" \"LINC00115\"    \n",
       "[5] \"FAM41C\"        \"RP11.54O7.1\"  "
      ]
     },
     "metadata": {},
     "output_type": "display_data"
    }
   ],
   "source": [
    "genes = rownames(df1)\n",
    "length(genes)\n",
    "head(genes)"
   ]
  },
  {
   "cell_type": "code",
   "execution_count": 17,
   "id": "3f74528e",
   "metadata": {},
   "outputs": [],
   "source": [
    "cluster = 1"
   ]
  },
  {
   "cell_type": "code",
   "execution_count": 18,
   "id": "0c98c8d9",
   "metadata": {},
   "outputs": [],
   "source": [
    "gene_list = c()\n",
    "for (gene in genes){\n",
    "    gene_list = c(gene_list, cor(as.numeric(df1[gene,]), cluster_summaries[,cluster+1]))\n",
    "}\n",
    "names(gene_list) = genes\n",
    "gene_list = gene_list[order(gene_list, decreasing=T)]"
   ]
  },
  {
   "cell_type": "code",
   "execution_count": 19,
   "id": "d095314b",
   "metadata": {},
   "outputs": [
    {
     "data": {
      "text/html": [
       "13703"
      ],
      "text/latex": [
       "13703"
      ],
      "text/markdown": [
       "13703"
      ],
      "text/plain": [
       "[1] 13703"
      ]
     },
     "metadata": {},
     "output_type": "display_data"
    }
   ],
   "source": [
    "length(gene_list)"
   ]
  },
  {
   "cell_type": "code",
   "execution_count": 20,
   "id": "6b80a19d",
   "metadata": {},
   "outputs": [
    {
     "data": {
      "image/png": "[encoded data removed]",
      "text/plain": [
       "Plot with title “Histogram of gene_list”"
      ]
     },
     "metadata": {},
     "output_type": "display_data"
    }
   ],
   "source": [
    "hist(gene_list)"
   ]
  },
  {
   "cell_type": "code",
   "execution_count": 21,
   "id": "b2a45468",
   "metadata": {},
   "outputs": [
    {
     "data": {
      "text/html": [
       "<table>\n",
       "<thead><tr><th></th><th scope=col>gene</th><th scope=col>corr_cluster1</th></tr></thead>\n",
       "<tbody>\n",
       "\t<tr><th scope=row>TMEM176B</th><td>TMEM176B </td><td>0.6122006</td></tr>\n",
       "\t<tr><th scope=row>TMEM176A</th><td>TMEM176A </td><td>0.6035899</td></tr>\n",
       "\t<tr><th scope=row>TPH1</th><td>TPH1     </td><td>0.5967535</td></tr>\n",
       "\t<tr><th scope=row>C6orf141</th><td>C6orf141 </td><td>0.5663940</td></tr>\n",
       "\t<tr><th scope=row>BCAM</th><td>BCAM     </td><td>0.5562951</td></tr>\n",
       "\t<tr><th scope=row>CHGA</th><td>CHGA     </td><td>0.5509118</td></tr>\n",
       "</tbody>\n",
       "</table>\n"
      ],
      "text/latex": [
       "\\begin{tabular}{r|ll}\n",
       "  & gene & corr\\_cluster1\\\\\n",
       "\\hline\n",
       "\tTMEM176B & TMEM176B  & 0.6122006\\\\\n",
       "\tTMEM176A & TMEM176A  & 0.6035899\\\\\n",
       "\tTPH1 & TPH1      & 0.5967535\\\\\n",
       "\tC6orf141 & C6orf141  & 0.5663940\\\\\n",
       "\tBCAM & BCAM      & 0.5562951\\\\\n",
       "\tCHGA & CHGA      & 0.5509118\\\\\n",
       "\\end{tabular}\n"
      ],
      "text/markdown": [
       "\n",
       "| <!--/--> | gene | corr_cluster1 |\n",
       "|---|---|---|\n",
       "| TMEM176B | TMEM176B  | 0.6122006 |\n",
       "| TMEM176A | TMEM176A  | 0.6035899 |\n",
       "| TPH1 | TPH1      | 0.5967535 |\n",
       "| C6orf141 | C6orf141  | 0.5663940 |\n",
       "| BCAM | BCAM      | 0.5562951 |\n",
       "| CHGA | CHGA      | 0.5509118 |\n",
       "\n"
      ],
      "text/plain": [
       "         gene     corr_cluster1\n",
       "TMEM176B TMEM176B 0.6122006    \n",
       "TMEM176A TMEM176A 0.6035899    \n",
       "TPH1     TPH1     0.5967535    \n",
       "C6orf141 C6orf141 0.5663940    \n",
       "BCAM     BCAM     0.5562951    \n",
       "CHGA     CHGA     0.5509118    "
      ]
     },
     "metadata": {},
     "output_type": "display_data"
    }
   ],
   "source": [
    "df_corr = data.frame(gene = names(gene_list), corr_cluster1 = gene_list)\n",
    "head(df_corr)"
   ]
  },
  {
   "cell_type": "code",
   "execution_count": 22,
   "id": "daad333d",
   "metadata": {},
   "outputs": [],
   "source": [
    "# write.csv(df_corr, \"/hps/nobackup/stegle/users/acuomo/all_scripts/struct_LMM2/sc_neuroseq/July2021/corrs_cluster5.csv\")\n",
    "# write.csv(df_corr, \"/hps/nobackup/stegle/users/acuomo/all_scripts/struct_LMM2/sc_neuroseq/July2021/corrs_cluster2.csv\")\n",
    "# write.csv(df_corr, \"/hps/nobackup/stegle/users/acuomo/all_scripts/struct_LMM2/sc_neuroseq/July2021/corrs_cluster4.csv\")\n",
    "# write.csv(df_corr, \"/hps/nobackup/stegle/users/acuomo/all_scripts/struct_LMM2/sc_neuroseq/July2021/corrs_cluster9.csv\")\n",
    "# write.csv(df_corr, \"/hps/nobackup/stegle/users/acuomo/all_scripts/struct_LMM2/sc_neuroseq/July2021/corrs_cluster10.csv\")\n",
    "# write.csv(df_corr, \"/hps/nobackup/stegle/users/acuomo/all_scripts/struct_LMM2/sc_neuroseq/July2021/corrs_cluster8.csv\")\n",
    "# write.csv(df_corr, \"/hps/nobackup/stegle/users/acuomo/all_scripts/struct_LMM2/sc_neuroseq/July2021/corrs_cluster3.csv\")\n",
    "# write.csv(df_corr, \"/hps/nobackup/stegle/users/acuomo/all_scripts/struct_LMM2/sc_neuroseq/July2021/corrs_cluster7.csv\")\n",
    "# write.csv(df_corr, \"/hps/nobackup/stegle/users/acuomo/all_scripts/struct_LMM2/sc_neuroseq/July2021/corrs_cluster6.csv\")\n",
    "# write.csv(df_corr, \"/hps/nobackup/stegle/users/acuomo/all_scripts/struct_LMM2/sc_neuroseq/July2021/corrs_cluster11.csv\")\n",
    "# write.csv(df_corr, \"/hps/nobackup/stegle/users/acuomo/all_scripts/struct_LMM2/sc_neuroseq/July2021/corrs_cluster0.csv\")\n",
    "write.csv(df_corr, \"/hps/nobackup/stegle/users/acuomo/all_scripts/struct_LMM2/sc_neuroseq/July2021/corrs_cluster1.csv\")"
   ]
  },
  {
   "cell_type": "code",
   "execution_count": null,
   "id": "edce68ee",
   "metadata": {},
   "outputs": [],
   "source": []
  },
  {
   "cell_type": "code",
   "execution_count": null,
   "id": "7784de39",
   "metadata": {},
   "outputs": [],
   "source": []
  }
 ],
 "metadata": {
  "kernelspec": {
   "display_name": "R",
   "language": "R",
   "name": "ir"
  },
  "language_info": {
   "codemirror_mode": "r",
   "file_extension": ".r",
   "mimetype": "text/x-r-source",
   "name": "R",
   "pygments_lexer": "r",
   "version": "3.6.1"
  }
 },
 "nbformat": 4,
 "nbformat_minor": 5
}
