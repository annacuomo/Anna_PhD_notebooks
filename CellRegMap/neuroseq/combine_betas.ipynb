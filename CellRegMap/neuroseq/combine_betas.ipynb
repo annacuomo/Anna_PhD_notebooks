{
 "cells": [
  {
   "cell_type": "code",
   "execution_count": 78,
   "metadata": {},
   "outputs": [],
   "source": [
    "mydir = \"/hps/nobackup/stegle/users/acuomo/all_scripts/struct_LMM2/sc_neuroseq/PCA/genetic_effects/PCA15/\""
   ]
  },
  {
   "cell_type": "code",
   "execution_count": 79,
   "metadata": {},
   "outputs": [
    {
     "data": {
      "text/html": [
       "417"
      ],
      "text/latex": [
       "417"
      ],
      "text/markdown": [
       "417"
      ],
      "text/plain": [
       "[1] 417"
      ]
     },
     "metadata": {},
     "output_type": "display_data"
    },
    {
     "data": {
      "text/html": [
       "<ol class=list-inline>\n",
       "\t<li>'ENSG00000006282.tsv'</li>\n",
       "\t<li>'ENSG00000007341.tsv'</li>\n",
       "\t<li>'ENSG00000008988.tsv'</li>\n",
       "\t<li>'ENSG00000013573.tsv'</li>\n",
       "\t<li>'ENSG00000016391.tsv'</li>\n",
       "\t<li>'ENSG00000042317.tsv'</li>\n",
       "</ol>\n"
      ],
      "text/latex": [
       "\\begin{enumerate*}\n",
       "\\item 'ENSG00000006282.tsv'\n",
       "\\item 'ENSG00000007341.tsv'\n",
       "\\item 'ENSG00000008988.tsv'\n",
       "\\item 'ENSG00000013573.tsv'\n",
       "\\item 'ENSG00000016391.tsv'\n",
       "\\item 'ENSG00000042317.tsv'\n",
       "\\end{enumerate*}\n"
      ],
      "text/markdown": [
       "1. 'ENSG00000006282.tsv'\n",
       "2. 'ENSG00000007341.tsv'\n",
       "3. 'ENSG00000008988.tsv'\n",
       "4. 'ENSG00000013573.tsv'\n",
       "5. 'ENSG00000016391.tsv'\n",
       "6. 'ENSG00000042317.tsv'\n",
       "\n",
       "\n"
      ],
      "text/plain": [
       "[1] \"ENSG00000006282.tsv\" \"ENSG00000007341.tsv\" \"ENSG00000008988.tsv\"\n",
       "[4] \"ENSG00000013573.tsv\" \"ENSG00000016391.tsv\" \"ENSG00000042317.tsv\""
      ]
     },
     "metadata": {},
     "output_type": "display_data"
    }
   ],
   "source": [
    "mygenes = list.files(mydir,pattern = \".tsv\")\n",
    "length(mygenes)\n",
    "head(mygenes)"
   ]
  },
  {
   "cell_type": "code",
   "execution_count": 80,
   "metadata": {},
   "outputs": [
    {
     "data": {
      "text/html": [
       "'ENSG00000006282.tsv'"
      ],
      "text/latex": [
       "'ENSG00000006282.tsv'"
      ],
      "text/markdown": [
       "'ENSG00000006282.tsv'"
      ],
      "text/plain": [
       "[1] \"ENSG00000006282.tsv\""
      ]
     },
     "metadata": {},
     "output_type": "display_data"
    },
    {
     "data": {
      "text/html": [
       "<table>\n",
       "<thead><tr><th></th><th scope=col>X17_17_48615329_G_A</th></tr></thead>\n",
       "<tbody>\n",
       "\t<tr><th scope=row>iudw_1-d30-cluster0</th><td>-0.5013175</td></tr>\n",
       "\t<tr><th scope=row>iudw_1-d30-cluster1</th><td>-0.1420759</td></tr>\n",
       "\t<tr><th scope=row>iudw_1-d30-cluster2</th><td>-0.2870108</td></tr>\n",
       "\t<tr><th scope=row>iudw_1-d30-cluster3</th><td>-0.1336220</td></tr>\n",
       "\t<tr><th scope=row>iudw_1-d30-cluster4</th><td>-0.3015725</td></tr>\n",
       "\t<tr><th scope=row>iudw_1-d30-cluster5</th><td>-0.2051235</td></tr>\n",
       "</tbody>\n",
       "</table>\n"
      ],
      "text/latex": [
       "\\begin{tabular}{r|l}\n",
       "  & X17\\_17\\_48615329\\_G\\_A\\\\\n",
       "\\hline\n",
       "\tiudw\\_1-d30-cluster0 & -0.5013175\\\\\n",
       "\tiudw\\_1-d30-cluster1 & -0.1420759\\\\\n",
       "\tiudw\\_1-d30-cluster2 & -0.2870108\\\\\n",
       "\tiudw\\_1-d30-cluster3 & -0.1336220\\\\\n",
       "\tiudw\\_1-d30-cluster4 & -0.3015725\\\\\n",
       "\tiudw\\_1-d30-cluster5 & -0.2051235\\\\\n",
       "\\end{tabular}\n"
      ],
      "text/markdown": [
       "\n",
       "| <!--/--> | X17_17_48615329_G_A |\n",
       "|---|---|\n",
       "| iudw_1-d30-cluster0 | -0.5013175 |\n",
       "| iudw_1-d30-cluster1 | -0.1420759 |\n",
       "| iudw_1-d30-cluster2 | -0.2870108 |\n",
       "| iudw_1-d30-cluster3 | -0.1336220 |\n",
       "| iudw_1-d30-cluster4 | -0.3015725 |\n",
       "| iudw_1-d30-cluster5 | -0.2051235 |\n",
       "\n"
      ],
      "text/plain": [
       "                    X17_17_48615329_G_A\n",
       "iudw_1-d30-cluster0 -0.5013175         \n",
       "iudw_1-d30-cluster1 -0.1420759         \n",
       "iudw_1-d30-cluster2 -0.2870108         \n",
       "iudw_1-d30-cluster3 -0.1336220         \n",
       "iudw_1-d30-cluster4 -0.3015725         \n",
       "iudw_1-d30-cluster5 -0.2051235         "
      ]
     },
     "metadata": {},
     "output_type": "display_data"
    },
    {
     "data": {
      "text/html": [
       "7691"
      ],
      "text/latex": [
       "7691"
      ],
      "text/markdown": [
       "7691"
      ],
      "text/plain": [
       "[1] 7691"
      ]
     },
     "metadata": {},
     "output_type": "display_data"
    }
   ],
   "source": [
    "gene = mygenes[1]\n",
    "gene\n",
    "df0 = read.csv(paste0(mydir,gene),sep='\\t', row.names = 1)\n",
    "head(df0)\n",
    "metacells = rownames(df0)\n",
    "length(metacells)"
   ]
  },
  {
   "cell_type": "code",
   "execution_count": 81,
   "metadata": {
    "scrolled": true
   },
   "outputs": [
    {
     "data": {
      "text/html": [
       "7691"
      ],
      "text/latex": [
       "7691"
      ],
      "text/markdown": [
       "7691"
      ],
      "text/plain": [
       "[1] 7691"
      ]
     },
     "metadata": {},
     "output_type": "display_data"
    },
    {
     "data": {
      "text/html": [
       "717"
      ],
      "text/latex": [
       "717"
      ],
      "text/markdown": [
       "717"
      ],
      "text/plain": [
       "[1] 717"
      ]
     },
     "metadata": {},
     "output_type": "display_data"
    },
    {
     "data": {
      "text/html": [
       "<table>\n",
       "<thead><tr><th></th><th scope=col>metacells</th><th scope=col>ENSG00000006282-17_48615329_G_A</th><th scope=col>ENSG00000007341-1_113094022_G_A</th><th scope=col>ENSG00000008988-8_56894421_G_T</th><th scope=col>ENSG00000008988-8_56969683_T_C</th></tr></thead>\n",
       "<tbody>\n",
       "\t<tr><th scope=row>iudw_1-d30-cluster0</th><td>iudw_1-d30-cluster0</td><td>-0.5013175         </td><td>0.05832863         </td><td>0.1797192          </td><td>0.1334322          </td></tr>\n",
       "\t<tr><th scope=row>iudw_1-d30-cluster1</th><td>iudw_1-d30-cluster1</td><td>-0.1420759         </td><td>0.05832863         </td><td>0.1797192          </td><td>0.1334322          </td></tr>\n",
       "\t<tr><th scope=row>iudw_1-d30-cluster2</th><td>iudw_1-d30-cluster2</td><td>-0.2870108         </td><td>0.05832863         </td><td>0.1797192          </td><td>0.1334322          </td></tr>\n",
       "\t<tr><th scope=row>iudw_1-d30-cluster3</th><td>iudw_1-d30-cluster3</td><td>-0.1336220         </td><td>0.05832863         </td><td>0.1797192          </td><td>0.1334322          </td></tr>\n",
       "\t<tr><th scope=row>iudw_1-d30-cluster4</th><td>iudw_1-d30-cluster4</td><td>-0.3015725         </td><td>0.05832863         </td><td>0.1797192          </td><td>0.1334322          </td></tr>\n",
       "</tbody>\n",
       "</table>\n"
      ],
      "text/latex": [
       "\\begin{tabular}{r|lllll}\n",
       "  & metacells & ENSG00000006282-17\\_48615329\\_G\\_A & ENSG00000007341-1\\_113094022\\_G\\_A & ENSG00000008988-8\\_56894421\\_G\\_T & ENSG00000008988-8\\_56969683\\_T\\_C\\\\\n",
       "\\hline\n",
       "\tiudw\\_1-d30-cluster0 & iudw\\_1-d30-cluster0 & -0.5013175            & 0.05832863            & 0.1797192             & 0.1334322            \\\\\n",
       "\tiudw\\_1-d30-cluster1 & iudw\\_1-d30-cluster1 & -0.1420759            & 0.05832863            & 0.1797192             & 0.1334322            \\\\\n",
       "\tiudw\\_1-d30-cluster2 & iudw\\_1-d30-cluster2 & -0.2870108            & 0.05832863            & 0.1797192             & 0.1334322            \\\\\n",
       "\tiudw\\_1-d30-cluster3 & iudw\\_1-d30-cluster3 & -0.1336220            & 0.05832863            & 0.1797192             & 0.1334322            \\\\\n",
       "\tiudw\\_1-d30-cluster4 & iudw\\_1-d30-cluster4 & -0.3015725            & 0.05832863            & 0.1797192             & 0.1334322            \\\\\n",
       "\\end{tabular}\n"
      ],
      "text/markdown": [
       "\n",
       "| <!--/--> | metacells | ENSG00000006282-17_48615329_G_A | ENSG00000007341-1_113094022_G_A | ENSG00000008988-8_56894421_G_T | ENSG00000008988-8_56969683_T_C |\n",
       "|---|---|---|---|---|---|\n",
       "| iudw_1-d30-cluster0 | iudw_1-d30-cluster0 | -0.5013175          | 0.05832863          | 0.1797192           | 0.1334322           |\n",
       "| iudw_1-d30-cluster1 | iudw_1-d30-cluster1 | -0.1420759          | 0.05832863          | 0.1797192           | 0.1334322           |\n",
       "| iudw_1-d30-cluster2 | iudw_1-d30-cluster2 | -0.2870108          | 0.05832863          | 0.1797192           | 0.1334322           |\n",
       "| iudw_1-d30-cluster3 | iudw_1-d30-cluster3 | -0.1336220          | 0.05832863          | 0.1797192           | 0.1334322           |\n",
       "| iudw_1-d30-cluster4 | iudw_1-d30-cluster4 | -0.3015725          | 0.05832863          | 0.1797192           | 0.1334322           |\n",
       "\n"
      ],
      "text/plain": [
       "                    metacells           ENSG00000006282-17_48615329_G_A\n",
       "iudw_1-d30-cluster0 iudw_1-d30-cluster0 -0.5013175                     \n",
       "iudw_1-d30-cluster1 iudw_1-d30-cluster1 -0.1420759                     \n",
       "iudw_1-d30-cluster2 iudw_1-d30-cluster2 -0.2870108                     \n",
       "iudw_1-d30-cluster3 iudw_1-d30-cluster3 -0.1336220                     \n",
       "iudw_1-d30-cluster4 iudw_1-d30-cluster4 -0.3015725                     \n",
       "                    ENSG00000007341-1_113094022_G_A\n",
       "iudw_1-d30-cluster0 0.05832863                     \n",
       "iudw_1-d30-cluster1 0.05832863                     \n",
       "iudw_1-d30-cluster2 0.05832863                     \n",
       "iudw_1-d30-cluster3 0.05832863                     \n",
       "iudw_1-d30-cluster4 0.05832863                     \n",
       "                    ENSG00000008988-8_56894421_G_T\n",
       "iudw_1-d30-cluster0 0.1797192                     \n",
       "iudw_1-d30-cluster1 0.1797192                     \n",
       "iudw_1-d30-cluster2 0.1797192                     \n",
       "iudw_1-d30-cluster3 0.1797192                     \n",
       "iudw_1-d30-cluster4 0.1797192                     \n",
       "                    ENSG00000008988-8_56969683_T_C\n",
       "iudw_1-d30-cluster0 0.1334322                     \n",
       "iudw_1-d30-cluster1 0.1334322                     \n",
       "iudw_1-d30-cluster2 0.1334322                     \n",
       "iudw_1-d30-cluster3 0.1334322                     \n",
       "iudw_1-d30-cluster4 0.1334322                     "
      ]
     },
     "metadata": {},
     "output_type": "display_data"
    }
   ],
   "source": [
    "df = data.frame(metacells = metacells)\n",
    "for (gene in mygenes){\n",
    "#     print(gene)\n",
    "    df_curr = read.csv(paste0(mydir,gene),sep='\\t', row.names = 1)\n",
    "    colnames(df_curr) = gsub(\"X._\",\"\",colnames(df_curr))\n",
    "    colnames(df_curr) = gsub(\"X.._\",\"\",colnames(df_curr))\n",
    "#     print(head(df_curr))\n",
    "    colnames(df_curr) = paste0(gsub(\".tsv\",\"\",gene),\"-\",colnames(df_curr))\n",
    "    df = cbind(df, df_curr)\n",
    "}\n",
    "nrow(df)\n",
    "ncol(df)\n",
    "df[1:5,1:5]"
   ]
  },
  {
   "cell_type": "code",
   "execution_count": 82,
   "metadata": {},
   "outputs": [],
   "source": [
    "df$metacells = c()"
   ]
  },
  {
   "cell_type": "code",
   "execution_count": 83,
   "metadata": {},
   "outputs": [
    {
     "data": {
      "text/html": [
       "<table>\n",
       "<thead><tr><th></th><th scope=col>ENSG00000006282-17_48615329_G_A</th><th scope=col>ENSG00000007341-1_113094022_G_A</th><th scope=col>ENSG00000008988-8_56894421_G_T</th><th scope=col>ENSG00000008988-8_56969683_T_C</th><th scope=col>ENSG00000008988-8_56996675_C_T</th></tr></thead>\n",
       "<tbody>\n",
       "\t<tr><th scope=row>iudw_1-d30-cluster0</th><td>-0.5013175</td><td>0.05832863</td><td>0.1797192 </td><td>0.1334322 </td><td>0.1564938 </td></tr>\n",
       "\t<tr><th scope=row>iudw_1-d30-cluster1</th><td>-0.1420759</td><td>0.05832863</td><td>0.1797192 </td><td>0.1334322 </td><td>0.1564938 </td></tr>\n",
       "\t<tr><th scope=row>iudw_1-d30-cluster2</th><td>-0.2870108</td><td>0.05832863</td><td>0.1797192 </td><td>0.1334322 </td><td>0.1564938 </td></tr>\n",
       "\t<tr><th scope=row>iudw_1-d30-cluster3</th><td>-0.1336220</td><td>0.05832863</td><td>0.1797192 </td><td>0.1334322 </td><td>0.1564938 </td></tr>\n",
       "\t<tr><th scope=row>iudw_1-d30-cluster4</th><td>-0.3015725</td><td>0.05832863</td><td>0.1797192 </td><td>0.1334322 </td><td>0.1564938 </td></tr>\n",
       "</tbody>\n",
       "</table>\n"
      ],
      "text/latex": [
       "\\begin{tabular}{r|lllll}\n",
       "  & ENSG00000006282-17\\_48615329\\_G\\_A & ENSG00000007341-1\\_113094022\\_G\\_A & ENSG00000008988-8\\_56894421\\_G\\_T & ENSG00000008988-8\\_56969683\\_T\\_C & ENSG00000008988-8\\_56996675\\_C\\_T\\\\\n",
       "\\hline\n",
       "\tiudw\\_1-d30-cluster0 & -0.5013175 & 0.05832863 & 0.1797192  & 0.1334322  & 0.1564938 \\\\\n",
       "\tiudw\\_1-d30-cluster1 & -0.1420759 & 0.05832863 & 0.1797192  & 0.1334322  & 0.1564938 \\\\\n",
       "\tiudw\\_1-d30-cluster2 & -0.2870108 & 0.05832863 & 0.1797192  & 0.1334322  & 0.1564938 \\\\\n",
       "\tiudw\\_1-d30-cluster3 & -0.1336220 & 0.05832863 & 0.1797192  & 0.1334322  & 0.1564938 \\\\\n",
       "\tiudw\\_1-d30-cluster4 & -0.3015725 & 0.05832863 & 0.1797192  & 0.1334322  & 0.1564938 \\\\\n",
       "\\end{tabular}\n"
      ],
      "text/markdown": [
       "\n",
       "| <!--/--> | ENSG00000006282-17_48615329_G_A | ENSG00000007341-1_113094022_G_A | ENSG00000008988-8_56894421_G_T | ENSG00000008988-8_56969683_T_C | ENSG00000008988-8_56996675_C_T |\n",
       "|---|---|---|---|---|---|\n",
       "| iudw_1-d30-cluster0 | -0.5013175 | 0.05832863 | 0.1797192  | 0.1334322  | 0.1564938  |\n",
       "| iudw_1-d30-cluster1 | -0.1420759 | 0.05832863 | 0.1797192  | 0.1334322  | 0.1564938  |\n",
       "| iudw_1-d30-cluster2 | -0.2870108 | 0.05832863 | 0.1797192  | 0.1334322  | 0.1564938  |\n",
       "| iudw_1-d30-cluster3 | -0.1336220 | 0.05832863 | 0.1797192  | 0.1334322  | 0.1564938  |\n",
       "| iudw_1-d30-cluster4 | -0.3015725 | 0.05832863 | 0.1797192  | 0.1334322  | 0.1564938  |\n",
       "\n"
      ],
      "text/plain": [
       "                    ENSG00000006282-17_48615329_G_A\n",
       "iudw_1-d30-cluster0 -0.5013175                     \n",
       "iudw_1-d30-cluster1 -0.1420759                     \n",
       "iudw_1-d30-cluster2 -0.2870108                     \n",
       "iudw_1-d30-cluster3 -0.1336220                     \n",
       "iudw_1-d30-cluster4 -0.3015725                     \n",
       "                    ENSG00000007341-1_113094022_G_A\n",
       "iudw_1-d30-cluster0 0.05832863                     \n",
       "iudw_1-d30-cluster1 0.05832863                     \n",
       "iudw_1-d30-cluster2 0.05832863                     \n",
       "iudw_1-d30-cluster3 0.05832863                     \n",
       "iudw_1-d30-cluster4 0.05832863                     \n",
       "                    ENSG00000008988-8_56894421_G_T\n",
       "iudw_1-d30-cluster0 0.1797192                     \n",
       "iudw_1-d30-cluster1 0.1797192                     \n",
       "iudw_1-d30-cluster2 0.1797192                     \n",
       "iudw_1-d30-cluster3 0.1797192                     \n",
       "iudw_1-d30-cluster4 0.1797192                     \n",
       "                    ENSG00000008988-8_56969683_T_C\n",
       "iudw_1-d30-cluster0 0.1334322                     \n",
       "iudw_1-d30-cluster1 0.1334322                     \n",
       "iudw_1-d30-cluster2 0.1334322                     \n",
       "iudw_1-d30-cluster3 0.1334322                     \n",
       "iudw_1-d30-cluster4 0.1334322                     \n",
       "                    ENSG00000008988-8_56996675_C_T\n",
       "iudw_1-d30-cluster0 0.1564938                     \n",
       "iudw_1-d30-cluster1 0.1564938                     \n",
       "iudw_1-d30-cluster2 0.1564938                     \n",
       "iudw_1-d30-cluster3 0.1564938                     \n",
       "iudw_1-d30-cluster4 0.1564938                     "
      ]
     },
     "metadata": {},
     "output_type": "display_data"
    }
   ],
   "source": [
    "df[1:5,1:5]"
   ]
  },
  {
   "cell_type": "code",
   "execution_count": 84,
   "metadata": {},
   "outputs": [],
   "source": [
    "filename = paste0(mydir,\"eqtl_tot_genetic_effect_all.txt\")\n",
    "write.table(df, filename, quote = F, sep =\"\\t\")"
   ]
  },
  {
   "cell_type": "code",
   "execution_count": null,
   "metadata": {},
   "outputs": [],
   "source": []
  },
  {
   "cell_type": "code",
   "execution_count": null,
   "metadata": {},
   "outputs": [],
   "source": []
  }
 ],
 "metadata": {
  "kernelspec": {
   "display_name": "R",
   "language": "R",
   "name": "ir"
  },
  "language_info": {
   "codemirror_mode": "r",
   "file_extension": ".r",
   "mimetype": "text/x-r-source",
   "name": "R",
   "pygments_lexer": "r",
   "version": "3.6.1"
  }
 },
 "nbformat": 4,
 "nbformat_minor": 4
}
