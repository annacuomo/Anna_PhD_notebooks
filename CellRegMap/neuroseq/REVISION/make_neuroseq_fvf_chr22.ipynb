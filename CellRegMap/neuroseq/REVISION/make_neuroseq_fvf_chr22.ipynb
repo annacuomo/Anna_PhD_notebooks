{
 "cells": [
  {
   "cell_type": "code",
   "execution_count": 33,
   "id": "772b021f",
   "metadata": {},
   "outputs": [],
   "source": [
    "library(dplyr)"
   ]
  },
  {
   "cell_type": "code",
   "execution_count": 21,
   "id": "881b25f9",
   "metadata": {},
   "outputs": [
    {
     "data": {
      "text/html": [
       "<ol class=list-inline>\n",
       "\t<li>'pool1_13_noddd_D11.FPP.qtl_results_all.sorted.txt.gz'</li>\n",
       "\t<li>'pool1_13_noddd_D11.FPP.qtl_results_all.sorted.txt.gz.tbi'</li>\n",
       "\t<li>'pool1_13_noddd_D11.NB.qtl_results_all.sorted.txt.gz'</li>\n",
       "\t<li>'pool1_13_noddd_D11.NB.qtl_results_all.sorted.txt.gz.tbi'</li>\n",
       "\t<li>'pool1_13_noddd_D11.P_FPP.qtl_results_all.sorted.txt.gz'</li>\n",
       "\t<li>'pool1_13_noddd_D11.P_FPP.qtl_results_all.sorted.txt.gz.tbi'</li>\n",
       "\t<li>'pool1_13_noddd_D30.Astro.qtl_results_all.sorted.txt.gz'</li>\n",
       "\t<li>'pool1_13_noddd_D30.Astro.qtl_results_all.sorted.txt.gz.tbi'</li>\n",
       "\t<li>'pool1_13_noddd_D30.DA.qtl_results_all.sorted.txt.gz'</li>\n",
       "\t<li>'pool1_13_noddd_D30.DA.qtl_results_all.sorted.txt.gz.tbi'</li>\n",
       "\t<li>'pool1_13_noddd_D30.Epen1.qtl_results_all.sorted.txt.gz'</li>\n",
       "\t<li>'pool1_13_noddd_D30.Epen1.qtl_results_all.sorted.txt.gz.tbi'</li>\n",
       "\t<li>'pool1_13_noddd_D30.Sert.qtl_results_all.sorted.txt.gz'</li>\n",
       "\t<li>'pool1_13_noddd_D30.Sert.qtl_results_all.sorted.txt.gz.tbi'</li>\n",
       "\t<li>'pool1_17_D52.Astro.qtl_results_all.sorted.txt.gz'</li>\n",
       "\t<li>'pool1_17_D52.Astro.qtl_results_all.sorted.txt.gz.tbi'</li>\n",
       "\t<li>'pool1_17_D52.DA.qtl_results_all.sorted.txt.gz'</li>\n",
       "\t<li>'pool1_17_D52.DA.qtl_results_all.sorted.txt.gz.tbi'</li>\n",
       "\t<li>'pool1_17_D52.Epen1.qtl_results_all.sorted.txt.gz'</li>\n",
       "\t<li>'pool1_17_D52.Epen1.qtl_results_all.sorted.txt.gz.tbi'</li>\n",
       "\t<li>'pool1_17_D52.Sert.qtl_results_all.sorted.txt.gz'</li>\n",
       "\t<li>'pool1_17_D52.Sert.qtl_results_all.sorted.txt.gz.tbi'</li>\n",
       "</ol>\n"
      ],
      "text/latex": [
       "\\begin{enumerate*}\n",
       "\\item 'pool1\\_13\\_noddd\\_D11.FPP.qtl\\_results\\_all.sorted.txt.gz'\n",
       "\\item 'pool1\\_13\\_noddd\\_D11.FPP.qtl\\_results\\_all.sorted.txt.gz.tbi'\n",
       "\\item 'pool1\\_13\\_noddd\\_D11.NB.qtl\\_results\\_all.sorted.txt.gz'\n",
       "\\item 'pool1\\_13\\_noddd\\_D11.NB.qtl\\_results\\_all.sorted.txt.gz.tbi'\n",
       "\\item 'pool1\\_13\\_noddd\\_D11.P\\_FPP.qtl\\_results\\_all.sorted.txt.gz'\n",
       "\\item 'pool1\\_13\\_noddd\\_D11.P\\_FPP.qtl\\_results\\_all.sorted.txt.gz.tbi'\n",
       "\\item 'pool1\\_13\\_noddd\\_D30.Astro.qtl\\_results\\_all.sorted.txt.gz'\n",
       "\\item 'pool1\\_13\\_noddd\\_D30.Astro.qtl\\_results\\_all.sorted.txt.gz.tbi'\n",
       "\\item 'pool1\\_13\\_noddd\\_D30.DA.qtl\\_results\\_all.sorted.txt.gz'\n",
       "\\item 'pool1\\_13\\_noddd\\_D30.DA.qtl\\_results\\_all.sorted.txt.gz.tbi'\n",
       "\\item 'pool1\\_13\\_noddd\\_D30.Epen1.qtl\\_results\\_all.sorted.txt.gz'\n",
       "\\item 'pool1\\_13\\_noddd\\_D30.Epen1.qtl\\_results\\_all.sorted.txt.gz.tbi'\n",
       "\\item 'pool1\\_13\\_noddd\\_D30.Sert.qtl\\_results\\_all.sorted.txt.gz'\n",
       "\\item 'pool1\\_13\\_noddd\\_D30.Sert.qtl\\_results\\_all.sorted.txt.gz.tbi'\n",
       "\\item 'pool1\\_17\\_D52.Astro.qtl\\_results\\_all.sorted.txt.gz'\n",
       "\\item 'pool1\\_17\\_D52.Astro.qtl\\_results\\_all.sorted.txt.gz.tbi'\n",
       "\\item 'pool1\\_17\\_D52.DA.qtl\\_results\\_all.sorted.txt.gz'\n",
       "\\item 'pool1\\_17\\_D52.DA.qtl\\_results\\_all.sorted.txt.gz.tbi'\n",
       "\\item 'pool1\\_17\\_D52.Epen1.qtl\\_results\\_all.sorted.txt.gz'\n",
       "\\item 'pool1\\_17\\_D52.Epen1.qtl\\_results\\_all.sorted.txt.gz.tbi'\n",
       "\\item 'pool1\\_17\\_D52.Sert.qtl\\_results\\_all.sorted.txt.gz'\n",
       "\\item 'pool1\\_17\\_D52.Sert.qtl\\_results\\_all.sorted.txt.gz.tbi'\n",
       "\\end{enumerate*}\n"
      ],
      "text/markdown": [
       "1. 'pool1_13_noddd_D11.FPP.qtl_results_all.sorted.txt.gz'\n",
       "2. 'pool1_13_noddd_D11.FPP.qtl_results_all.sorted.txt.gz.tbi'\n",
       "3. 'pool1_13_noddd_D11.NB.qtl_results_all.sorted.txt.gz'\n",
       "4. 'pool1_13_noddd_D11.NB.qtl_results_all.sorted.txt.gz.tbi'\n",
       "5. 'pool1_13_noddd_D11.P_FPP.qtl_results_all.sorted.txt.gz'\n",
       "6. 'pool1_13_noddd_D11.P_FPP.qtl_results_all.sorted.txt.gz.tbi'\n",
       "7. 'pool1_13_noddd_D30.Astro.qtl_results_all.sorted.txt.gz'\n",
       "8. 'pool1_13_noddd_D30.Astro.qtl_results_all.sorted.txt.gz.tbi'\n",
       "9. 'pool1_13_noddd_D30.DA.qtl_results_all.sorted.txt.gz'\n",
       "10. 'pool1_13_noddd_D30.DA.qtl_results_all.sorted.txt.gz.tbi'\n",
       "11. 'pool1_13_noddd_D30.Epen1.qtl_results_all.sorted.txt.gz'\n",
       "12. 'pool1_13_noddd_D30.Epen1.qtl_results_all.sorted.txt.gz.tbi'\n",
       "13. 'pool1_13_noddd_D30.Sert.qtl_results_all.sorted.txt.gz'\n",
       "14. 'pool1_13_noddd_D30.Sert.qtl_results_all.sorted.txt.gz.tbi'\n",
       "15. 'pool1_17_D52.Astro.qtl_results_all.sorted.txt.gz'\n",
       "16. 'pool1_17_D52.Astro.qtl_results_all.sorted.txt.gz.tbi'\n",
       "17. 'pool1_17_D52.DA.qtl_results_all.sorted.txt.gz'\n",
       "18. 'pool1_17_D52.DA.qtl_results_all.sorted.txt.gz.tbi'\n",
       "19. 'pool1_17_D52.Epen1.qtl_results_all.sorted.txt.gz'\n",
       "20. 'pool1_17_D52.Epen1.qtl_results_all.sorted.txt.gz.tbi'\n",
       "21. 'pool1_17_D52.Sert.qtl_results_all.sorted.txt.gz'\n",
       "22. 'pool1_17_D52.Sert.qtl_results_all.sorted.txt.gz.tbi'\n",
       "\n",
       "\n"
      ],
      "text/plain": [
       " [1] \"pool1_13_noddd_D11.FPP.qtl_results_all.sorted.txt.gz\"      \n",
       " [2] \"pool1_13_noddd_D11.FPP.qtl_results_all.sorted.txt.gz.tbi\"  \n",
       " [3] \"pool1_13_noddd_D11.NB.qtl_results_all.sorted.txt.gz\"       \n",
       " [4] \"pool1_13_noddd_D11.NB.qtl_results_all.sorted.txt.gz.tbi\"   \n",
       " [5] \"pool1_13_noddd_D11.P_FPP.qtl_results_all.sorted.txt.gz\"    \n",
       " [6] \"pool1_13_noddd_D11.P_FPP.qtl_results_all.sorted.txt.gz.tbi\"\n",
       " [7] \"pool1_13_noddd_D30.Astro.qtl_results_all.sorted.txt.gz\"    \n",
       " [8] \"pool1_13_noddd_D30.Astro.qtl_results_all.sorted.txt.gz.tbi\"\n",
       " [9] \"pool1_13_noddd_D30.DA.qtl_results_all.sorted.txt.gz\"       \n",
       "[10] \"pool1_13_noddd_D30.DA.qtl_results_all.sorted.txt.gz.tbi\"   \n",
       "[11] \"pool1_13_noddd_D30.Epen1.qtl_results_all.sorted.txt.gz\"    \n",
       "[12] \"pool1_13_noddd_D30.Epen1.qtl_results_all.sorted.txt.gz.tbi\"\n",
       "[13] \"pool1_13_noddd_D30.Sert.qtl_results_all.sorted.txt.gz\"     \n",
       "[14] \"pool1_13_noddd_D30.Sert.qtl_results_all.sorted.txt.gz.tbi\" \n",
       "[15] \"pool1_17_D52.Astro.qtl_results_all.sorted.txt.gz\"          \n",
       "[16] \"pool1_17_D52.Astro.qtl_results_all.sorted.txt.gz.tbi\"      \n",
       "[17] \"pool1_17_D52.DA.qtl_results_all.sorted.txt.gz\"             \n",
       "[18] \"pool1_17_D52.DA.qtl_results_all.sorted.txt.gz.tbi\"         \n",
       "[19] \"pool1_17_D52.Epen1.qtl_results_all.sorted.txt.gz\"          \n",
       "[20] \"pool1_17_D52.Epen1.qtl_results_all.sorted.txt.gz.tbi\"      \n",
       "[21] \"pool1_17_D52.Sert.qtl_results_all.sorted.txt.gz\"           \n",
       "[22] \"pool1_17_D52.Sert.qtl_results_all.sorted.txt.gz.tbi\"       "
      ]
     },
     "metadata": {},
     "output_type": "display_data"
    }
   ],
   "source": [
    "mydir = \"/nfs/leia/research/stegle/dseaton/hipsci/singlecell_neuroseq/data/analysis_results/20200103_data_freeze/eqtl/summary_stats/\"\n",
    "list.files(mydir)"
   ]
  },
  {
   "cell_type": "code",
   "execution_count": 24,
   "id": "720865b0",
   "metadata": {},
   "outputs": [],
   "source": [
    "filename = paste0(mydir,\"pool1_17_D52.DA.qtl_results_all.sorted.txt.gz\")"
   ]
  },
  {
   "cell_type": "code",
   "execution_count": 29,
   "id": "3ce6a5e9",
   "metadata": {},
   "outputs": [
    {
     "data": {
      "text/html": [
       "<table>\n",
       "<thead><tr><th scope=col>feature_id</th><th scope=col>snp_id</th><th scope=col>p_value</th><th scope=col>beta</th><th scope=col>beta_se</th><th scope=col>empirical_feature_p_value</th><th scope=col>feature_chromosome</th><th scope=col>feature_start</th><th scope=col>feature_end</th><th scope=col>n_samples</th><th scope=col>n_e_samples</th><th scope=col>snp_chromosome</th><th scope=col>snp_position</th><th scope=col>assessed_allele</th><th scope=col>call_rate</th><th scope=col>maf</th><th scope=col>hwe_p</th></tr></thead>\n",
       "<tbody>\n",
       "\t<tr><td>ENSG00000131591</td><td>1_662622_G_A   </td><td>0.002053446    </td><td> 0.32333968    </td><td>0.10489897     </td><td>-1             </td><td>1              </td><td>1017198        </td><td>1051741        </td><td>179            </td><td>179            </td><td>1              </td><td>662622         </td><td>A              </td><td>1              </td><td>0.07541899     </td><td>1              </td></tr>\n",
       "\t<tr><td>ENSG00000187634</td><td>1_662622_G_A   </td><td>0.194135506    </td><td> 0.10917024    </td><td>0.08407787     </td><td>-1             </td><td>1              </td><td> 860260        </td><td> 879955        </td><td>179            </td><td>179            </td><td>1              </td><td>662622         </td><td>A              </td><td>1              </td><td>0.07541899     </td><td>1              </td></tr>\n",
       "\t<tr><td>ENSG00000188157</td><td>1_662622_G_A   </td><td>0.477183994    </td><td>-0.06239913    </td><td>0.08778236     </td><td>-1             </td><td>1              </td><td> 955503        </td><td> 991496        </td><td>179            </td><td>179            </td><td>1              </td><td>662622         </td><td>A              </td><td>1              </td><td>0.07541899     </td><td>1              </td></tr>\n",
       "\t<tr><td>ENSG00000188976</td><td>1_662622_G_A   </td><td>0.590148811    </td><td>-0.04348473    </td><td>0.08073353     </td><td>-1             </td><td>1              </td><td> 879584        </td><td> 894689        </td><td>179            </td><td>179            </td><td>1              </td><td>662622         </td><td>A              </td><td>1              </td><td>0.07541899     </td><td>1              </td></tr>\n",
       "\t<tr><td>ENSG00000188290</td><td>1_662622_G_A   </td><td>0.604467273    </td><td> 0.03193775    </td><td>0.06165743     </td><td>-1             </td><td>1              </td><td> 934342        </td><td> 935552        </td><td>179            </td><td>179            </td><td>1              </td><td>662622         </td><td>A              </td><td>1              </td><td>0.07541899     </td><td>1              </td></tr>\n",
       "\t<tr><td>ENSG00000078808</td><td>1_662622_G_A   </td><td>0.722368666    </td><td> 0.02834978    </td><td>0.07979225     </td><td>-1             </td><td>1              </td><td>1152288        </td><td>1167411        </td><td>179            </td><td>179            </td><td>1              </td><td>662622         </td><td>A              </td><td>1              </td><td>0.07541899     </td><td>1              </td></tr>\n",
       "</tbody>\n",
       "</table>\n"
      ],
      "text/latex": [
       "\\begin{tabular}{r|lllllllllllllllll}\n",
       " feature\\_id & snp\\_id & p\\_value & beta & beta\\_se & empirical\\_feature\\_p\\_value & feature\\_chromosome & feature\\_start & feature\\_end & n\\_samples & n\\_e\\_samples & snp\\_chromosome & snp\\_position & assessed\\_allele & call\\_rate & maf & hwe\\_p\\\\\n",
       "\\hline\n",
       "\t ENSG00000131591    & 1\\_662622\\_G\\_A & 0.002053446        &  0.32333968        & 0.10489897         & -1                 & 1                  & 1017198            & 1051741            & 179                & 179                & 1                  & 662622             & A                  & 1                  & 0.07541899         & 1                 \\\\\n",
       "\t ENSG00000187634    & 1\\_662622\\_G\\_A & 0.194135506        &  0.10917024        & 0.08407787         & -1                 & 1                  &  860260            &  879955            & 179                & 179                & 1                  & 662622             & A                  & 1                  & 0.07541899         & 1                 \\\\\n",
       "\t ENSG00000188157    & 1\\_662622\\_G\\_A & 0.477183994        & -0.06239913        & 0.08778236         & -1                 & 1                  &  955503            &  991496            & 179                & 179                & 1                  & 662622             & A                  & 1                  & 0.07541899         & 1                 \\\\\n",
       "\t ENSG00000188976    & 1\\_662622\\_G\\_A & 0.590148811        & -0.04348473        & 0.08073353         & -1                 & 1                  &  879584            &  894689            & 179                & 179                & 1                  & 662622             & A                  & 1                  & 0.07541899         & 1                 \\\\\n",
       "\t ENSG00000188290    & 1\\_662622\\_G\\_A & 0.604467273        &  0.03193775        & 0.06165743         & -1                 & 1                  &  934342            &  935552            & 179                & 179                & 1                  & 662622             & A                  & 1                  & 0.07541899         & 1                 \\\\\n",
       "\t ENSG00000078808    & 1\\_662622\\_G\\_A & 0.722368666        &  0.02834978        & 0.07979225         & -1                 & 1                  & 1152288            & 1167411            & 179                & 179                & 1                  & 662622             & A                  & 1                  & 0.07541899         & 1                 \\\\\n",
       "\\end{tabular}\n"
      ],
      "text/markdown": [
       "\n",
       "| feature_id | snp_id | p_value | beta | beta_se | empirical_feature_p_value | feature_chromosome | feature_start | feature_end | n_samples | n_e_samples | snp_chromosome | snp_position | assessed_allele | call_rate | maf | hwe_p |\n",
       "|---|---|---|---|---|---|---|---|---|---|---|---|---|---|---|---|---|\n",
       "| ENSG00000131591 | 1_662622_G_A    | 0.002053446     |  0.32333968     | 0.10489897      | -1              | 1               | 1017198         | 1051741         | 179             | 179             | 1               | 662622          | A               | 1               | 0.07541899      | 1               |\n",
       "| ENSG00000187634 | 1_662622_G_A    | 0.194135506     |  0.10917024     | 0.08407787      | -1              | 1               |  860260         |  879955         | 179             | 179             | 1               | 662622          | A               | 1               | 0.07541899      | 1               |\n",
       "| ENSG00000188157 | 1_662622_G_A    | 0.477183994     | -0.06239913     | 0.08778236      | -1              | 1               |  955503         |  991496         | 179             | 179             | 1               | 662622          | A               | 1               | 0.07541899      | 1               |\n",
       "| ENSG00000188976 | 1_662622_G_A    | 0.590148811     | -0.04348473     | 0.08073353      | -1              | 1               |  879584         |  894689         | 179             | 179             | 1               | 662622          | A               | 1               | 0.07541899      | 1               |\n",
       "| ENSG00000188290 | 1_662622_G_A    | 0.604467273     |  0.03193775     | 0.06165743      | -1              | 1               |  934342         |  935552         | 179             | 179             | 1               | 662622          | A               | 1               | 0.07541899      | 1               |\n",
       "| ENSG00000078808 | 1_662622_G_A    | 0.722368666     |  0.02834978     | 0.07979225      | -1              | 1               | 1152288         | 1167411         | 179             | 179             | 1               | 662622          | A               | 1               | 0.07541899      | 1               |\n",
       "\n"
      ],
      "text/plain": [
       "  feature_id      snp_id       p_value     beta        beta_se   \n",
       "1 ENSG00000131591 1_662622_G_A 0.002053446  0.32333968 0.10489897\n",
       "2 ENSG00000187634 1_662622_G_A 0.194135506  0.10917024 0.08407787\n",
       "3 ENSG00000188157 1_662622_G_A 0.477183994 -0.06239913 0.08778236\n",
       "4 ENSG00000188976 1_662622_G_A 0.590148811 -0.04348473 0.08073353\n",
       "5 ENSG00000188290 1_662622_G_A 0.604467273  0.03193775 0.06165743\n",
       "6 ENSG00000078808 1_662622_G_A 0.722368666  0.02834978 0.07979225\n",
       "  empirical_feature_p_value feature_chromosome feature_start feature_end\n",
       "1 -1                        1                  1017198       1051741    \n",
       "2 -1                        1                   860260        879955    \n",
       "3 -1                        1                   955503        991496    \n",
       "4 -1                        1                   879584        894689    \n",
       "5 -1                        1                   934342        935552    \n",
       "6 -1                        1                  1152288       1167411    \n",
       "  n_samples n_e_samples snp_chromosome snp_position assessed_allele call_rate\n",
       "1 179       179         1              662622       A               1        \n",
       "2 179       179         1              662622       A               1        \n",
       "3 179       179         1              662622       A               1        \n",
       "4 179       179         1              662622       A               1        \n",
       "5 179       179         1              662622       A               1        \n",
       "6 179       179         1              662622       A               1        \n",
       "  maf        hwe_p\n",
       "1 0.07541899 1    \n",
       "2 0.07541899 1    \n",
       "3 0.07541899 1    \n",
       "4 0.07541899 1    \n",
       "5 0.07541899 1    \n",
       "6 0.07541899 1    "
      ]
     },
     "metadata": {},
     "output_type": "display_data"
    }
   ],
   "source": [
    "# df = read.csv(gzfile(filename),sep=\"\\t\")\n",
    "head(df)"
   ]
  },
  {
   "cell_type": "code",
   "execution_count": 30,
   "id": "da634776",
   "metadata": {},
   "outputs": [
    {
     "data": {
      "text/html": [
       "20404235"
      ],
      "text/latex": [
       "20404235"
      ],
      "text/markdown": [
       "20404235"
      ],
      "text/plain": [
       "[1] 20404235"
      ]
     },
     "metadata": {},
     "output_type": "display_data"
    }
   ],
   "source": [
    "nrow(df)"
   ]
  },
  {
   "cell_type": "code",
   "execution_count": 31,
   "id": "93eb3245",
   "metadata": {},
   "outputs": [
    {
     "data": {
      "text/html": [
       "534695"
      ],
      "text/latex": [
       "534695"
      ],
      "text/markdown": [
       "534695"
      ],
      "text/plain": [
       "[1] 534695"
      ]
     },
     "metadata": {},
     "output_type": "display_data"
    }
   ],
   "source": [
    "df_22 = df[df$snp_chromosome == '22',]\n",
    "nrow(df_22)"
   ]
  },
  {
   "cell_type": "code",
   "execution_count": 11,
   "id": "29cacfc4",
   "metadata": {},
   "outputs": [
    {
     "data": {
      "text/html": [
       "<table>\n",
       "<thead><tr><th></th><th scope=col>chromosome</th><th scope=col>start</th><th scope=col>end</th></tr></thead>\n",
       "<tbody>\n",
       "\t<tr><th scope=row>ENSG00000271782</th><td>1        </td><td> 50902700</td><td> 50902978</td></tr>\n",
       "\t<tr><th scope=row>ENSG00000232753</th><td>1        </td><td>103817769</td><td>103828355</td></tr>\n",
       "\t<tr><th scope=row>ENSG00000225767</th><td>1        </td><td> 50927141</td><td> 50936822</td></tr>\n",
       "\t<tr><th scope=row>ENSG00000202140</th><td>1        </td><td> 50965430</td><td> 50965529</td></tr>\n",
       "\t<tr><th scope=row>ENSG00000207194</th><td>1        </td><td> 51048076</td><td> 51048183</td></tr>\n",
       "\t<tr><th scope=row>ENSG00000252825</th><td>1        </td><td> 51215968</td><td> 51216025</td></tr>\n",
       "</tbody>\n",
       "</table>\n"
      ],
      "text/latex": [
       "\\begin{tabular}{r|lll}\n",
       "  & chromosome & start & end\\\\\n",
       "\\hline\n",
       "\tENSG00000271782 & 1         &  50902700 &  50902978\\\\\n",
       "\tENSG00000232753 & 1         & 103817769 & 103828355\\\\\n",
       "\tENSG00000225767 & 1         &  50927141 &  50936822\\\\\n",
       "\tENSG00000202140 & 1         &  50965430 &  50965529\\\\\n",
       "\tENSG00000207194 & 1         &  51048076 &  51048183\\\\\n",
       "\tENSG00000252825 & 1         &  51215968 &  51216025\\\\\n",
       "\\end{tabular}\n"
      ],
      "text/markdown": [
       "\n",
       "| <!--/--> | chromosome | start | end |\n",
       "|---|---|---|---|\n",
       "| ENSG00000271782 | 1         |  50902700 |  50902978 |\n",
       "| ENSG00000232753 | 1         | 103817769 | 103828355 |\n",
       "| ENSG00000225767 | 1         |  50927141 |  50936822 |\n",
       "| ENSG00000202140 | 1         |  50965430 |  50965529 |\n",
       "| ENSG00000207194 | 1         |  51048076 |  51048183 |\n",
       "| ENSG00000252825 | 1         |  51215968 |  51216025 |\n",
       "\n"
      ],
      "text/plain": [
       "                chromosome start     end      \n",
       "ENSG00000271782 1           50902700  50902978\n",
       "ENSG00000232753 1          103817769 103828355\n",
       "ENSG00000225767 1           50927141  50936822\n",
       "ENSG00000202140 1           50965430  50965529\n",
       "ENSG00000207194 1           51048076  51048183\n",
       "ENSG00000252825 1           51215968  51216025"
      ]
     },
     "metadata": {},
     "output_type": "display_data"
    }
   ],
   "source": [
    "# annotation linking gene to genomic position\n",
    "annotation_file = \"/hps/nobackup2/stegle/users/acuomo/Ensembl_75_Limix_Annotation_FC_Gene.txt\"\n",
    "anno_df = read.csv(annotation_file, sep=\"\\t\", row.names=1)\n",
    "head(anno_df)"
   ]
  },
  {
   "cell_type": "code",
   "execution_count": 37,
   "id": "576b4788",
   "metadata": {},
   "outputs": [],
   "source": [
    "anno_df$feature_id = rownames(anno_df)"
   ]
  },
  {
   "cell_type": "code",
   "execution_count": 38,
   "id": "ad12fb0c",
   "metadata": {},
   "outputs": [
    {
     "name": "stderr",
     "output_type": "stream",
     "text": [
      "Joining, by = \"feature_id\"\n"
     ]
    }
   ],
   "source": [
    "df0 = inner_join(df_22[,c(\"feature_id\",\"snp_id\")], anno_df[,c(\"feature_id\",\"chromosome\")])"
   ]
  },
  {
   "cell_type": "code",
   "execution_count": 39,
   "id": "636f80f5",
   "metadata": {},
   "outputs": [
    {
     "data": {
      "text/html": [
       "534695"
      ],
      "text/latex": [
       "534695"
      ],
      "text/markdown": [
       "534695"
      ],
      "text/plain": [
       "[1] 534695"
      ]
     },
     "metadata": {},
     "output_type": "display_data"
    },
    {
     "data": {
      "text/html": [
       "<table>\n",
       "<thead><tr><th scope=col>feature_id</th><th scope=col>snp_id</th><th scope=col>chromosome</th></tr></thead>\n",
       "<tbody>\n",
       "\t<tr><td>ENSG00000069998</td><td>22_17118461_C_T</td><td>22             </td></tr>\n",
       "\t<tr><td>ENSG00000069998</td><td>22_17118505_A_T</td><td>22             </td></tr>\n",
       "</tbody>\n",
       "</table>\n"
      ],
      "text/latex": [
       "\\begin{tabular}{r|lll}\n",
       " feature\\_id & snp\\_id & chromosome\\\\\n",
       "\\hline\n",
       "\t ENSG00000069998       & 22\\_17118461\\_C\\_T & 22                   \\\\\n",
       "\t ENSG00000069998       & 22\\_17118505\\_A\\_T & 22                   \\\\\n",
       "\\end{tabular}\n"
      ],
      "text/markdown": [
       "\n",
       "| feature_id | snp_id | chromosome |\n",
       "|---|---|---|\n",
       "| ENSG00000069998 | 22_17118461_C_T | 22              |\n",
       "| ENSG00000069998 | 22_17118505_A_T | 22              |\n",
       "\n"
      ],
      "text/plain": [
       "  feature_id      snp_id          chromosome\n",
       "1 ENSG00000069998 22_17118461_C_T 22        \n",
       "2 ENSG00000069998 22_17118505_A_T 22        "
      ]
     },
     "metadata": {},
     "output_type": "display_data"
    }
   ],
   "source": [
    "nrow(df0)\n",
    "head(df0,2)"
   ]
  },
  {
   "cell_type": "code",
   "execution_count": 41,
   "id": "4b48cbe5",
   "metadata": {},
   "outputs": [
    {
     "data": {
      "text/html": [
       "<table>\n",
       "<thead><tr><th scope=col>feature</th><th scope=col>feature_id</th></tr></thead>\n",
       "<tbody>\n",
       "\t<tr><td>SLC25A26       </td><td>ENSG00000261657</td></tr>\n",
       "\t<tr><td>               </td><td>ENSG00000223116</td></tr>\n",
       "\t<tr><td>HMGA1P6        </td><td>ENSG00000233440</td></tr>\n",
       "\t<tr><td>RNY3P4         </td><td>ENSG00000207157</td></tr>\n",
       "\t<tr><td>LINC00362      </td><td>ENSG00000229483</td></tr>\n",
       "\t<tr><td>RNU6-58P       </td><td>ENSG00000252952</td></tr>\n",
       "</tbody>\n",
       "</table>\n"
      ],
      "text/latex": [
       "\\begin{tabular}{r|ll}\n",
       " feature & feature\\_id\\\\\n",
       "\\hline\n",
       "\t SLC25A26        & ENSG00000261657\\\\\n",
       "\t                 & ENSG00000223116\\\\\n",
       "\t HMGA1P6         & ENSG00000233440\\\\\n",
       "\t RNY3P4          & ENSG00000207157\\\\\n",
       "\t LINC00362       & ENSG00000229483\\\\\n",
       "\t RNU6-58P        & ENSG00000252952\\\\\n",
       "\\end{tabular}\n"
      ],
      "text/markdown": [
       "\n",
       "| feature | feature_id |\n",
       "|---|---|\n",
       "| SLC25A26        | ENSG00000261657 |\n",
       "|                 | ENSG00000223116 |\n",
       "| HMGA1P6         | ENSG00000233440 |\n",
       "| RNY3P4          | ENSG00000207157 |\n",
       "| LINC00362       | ENSG00000229483 |\n",
       "| RNU6-58P        | ENSG00000252952 |\n",
       "\n"
      ],
      "text/plain": [
       "  feature   feature_id     \n",
       "1 SLC25A26  ENSG00000261657\n",
       "2           ENSG00000223116\n",
       "3 HMGA1P6   ENSG00000233440\n",
       "4 RNY3P4    ENSG00000207157\n",
       "5 LINC00362 ENSG00000229483\n",
       "6 RNU6-58P  ENSG00000252952"
      ]
     },
     "metadata": {},
     "output_type": "display_data"
    }
   ],
   "source": [
    "#load map HGNC to ensembl\n",
    "mapping_df = read.csv('/nfs/leia/research/stegle/dseaton/genomes/hg19/annotation/geneid_mappings/hgnc_symbol2ensembl_gene_id.txt', sep='\\t')\n",
    "colnames(mapping_df) = c(\"feature\",\"feature_id\")\n",
    "head(mapping_df)"
   ]
  },
  {
   "cell_type": "code",
   "execution_count": 42,
   "id": "e4505020",
   "metadata": {},
   "outputs": [
    {
     "name": "stderr",
     "output_type": "stream",
     "text": [
      "Joining, by = \"feature_id\"\n"
     ]
    },
    {
     "data": {
      "text/html": [
       "534695"
      ],
      "text/latex": [
       "534695"
      ],
      "text/markdown": [
       "534695"
      ],
      "text/plain": [
       "[1] 534695"
      ]
     },
     "metadata": {},
     "output_type": "display_data"
    },
    {
     "data": {
      "text/html": [
       "<table>\n",
       "<thead><tr><th scope=col>feature_id</th><th scope=col>snp_id</th><th scope=col>chromosome</th><th scope=col>feature</th></tr></thead>\n",
       "<tbody>\n",
       "\t<tr><td>ENSG00000069998</td><td>22_17118461_C_T</td><td>22             </td><td>CECR5          </td></tr>\n",
       "\t<tr><td>ENSG00000069998</td><td>22_17118505_A_T</td><td>22             </td><td>CECR5          </td></tr>\n",
       "</tbody>\n",
       "</table>\n"
      ],
      "text/latex": [
       "\\begin{tabular}{r|llll}\n",
       " feature\\_id & snp\\_id & chromosome & feature\\\\\n",
       "\\hline\n",
       "\t ENSG00000069998       & 22\\_17118461\\_C\\_T & 22                    & CECR5                \\\\\n",
       "\t ENSG00000069998       & 22\\_17118505\\_A\\_T & 22                    & CECR5                \\\\\n",
       "\\end{tabular}\n"
      ],
      "text/markdown": [
       "\n",
       "| feature_id | snp_id | chromosome | feature |\n",
       "|---|---|---|---|\n",
       "| ENSG00000069998 | 22_17118461_C_T | 22              | CECR5           |\n",
       "| ENSG00000069998 | 22_17118505_A_T | 22              | CECR5           |\n",
       "\n"
      ],
      "text/plain": [
       "  feature_id      snp_id          chromosome feature\n",
       "1 ENSG00000069998 22_17118461_C_T 22         CECR5  \n",
       "2 ENSG00000069998 22_17118505_A_T 22         CECR5  "
      ]
     },
     "metadata": {},
     "output_type": "display_data"
    }
   ],
   "source": [
    "df1 = inner_join(df0,mapping_df)\n",
    "nrow(df1)\n",
    "head(df1,2)"
   ]
  },
  {
   "cell_type": "code",
   "execution_count": 43,
   "id": "917a81b8",
   "metadata": {},
   "outputs": [],
   "source": [
    "df1$snpID = df1$snp_id\n",
    "df1$chrom = df1$chromosome"
   ]
  },
  {
   "cell_type": "code",
   "execution_count": 44,
   "id": "49ffb259",
   "metadata": {},
   "outputs": [
    {
     "data": {
      "text/html": [
       "<table>\n",
       "<thead><tr><th scope=col>feature</th><th scope=col>snpID</th><th scope=col>chrom</th></tr></thead>\n",
       "<tbody>\n",
       "\t<tr><td>CECR5          </td><td>22_17118461_C_T</td><td>22             </td></tr>\n",
       "\t<tr><td>CECR5          </td><td>22_17118505_A_T</td><td>22             </td></tr>\n",
       "\t<tr><td>CECR5          </td><td>22_17118618_T_C</td><td>22             </td></tr>\n",
       "\t<tr><td>CECR5          </td><td>22_17118747_C_T</td><td>22             </td></tr>\n",
       "\t<tr><td>CECR5          </td><td>22_17118882_C_A</td><td>22             </td></tr>\n",
       "\t<tr><td>CECR5          </td><td>22_17118907_T_G</td><td>22             </td></tr>\n",
       "</tbody>\n",
       "</table>\n"
      ],
      "text/latex": [
       "\\begin{tabular}{r|lll}\n",
       " feature & snpID & chrom\\\\\n",
       "\\hline\n",
       "\t CECR5                 & 22\\_17118461\\_C\\_T & 22                   \\\\\n",
       "\t CECR5                 & 22\\_17118505\\_A\\_T & 22                   \\\\\n",
       "\t CECR5                 & 22\\_17118618\\_T\\_C & 22                   \\\\\n",
       "\t CECR5                 & 22\\_17118747\\_C\\_T & 22                   \\\\\n",
       "\t CECR5                 & 22\\_17118882\\_C\\_A & 22                   \\\\\n",
       "\t CECR5                 & 22\\_17118907\\_T\\_G & 22                   \\\\\n",
       "\\end{tabular}\n"
      ],
      "text/markdown": [
       "\n",
       "| feature | snpID | chrom |\n",
       "|---|---|---|\n",
       "| CECR5           | 22_17118461_C_T | 22              |\n",
       "| CECR5           | 22_17118505_A_T | 22              |\n",
       "| CECR5           | 22_17118618_T_C | 22              |\n",
       "| CECR5           | 22_17118747_C_T | 22              |\n",
       "| CECR5           | 22_17118882_C_A | 22              |\n",
       "| CECR5           | 22_17118907_T_G | 22              |\n",
       "\n"
      ],
      "text/plain": [
       "  feature snpID           chrom\n",
       "1 CECR5   22_17118461_C_T 22   \n",
       "2 CECR5   22_17118505_A_T 22   \n",
       "3 CECR5   22_17118618_T_C 22   \n",
       "4 CECR5   22_17118747_C_T 22   \n",
       "5 CECR5   22_17118882_C_A 22   \n",
       "6 CECR5   22_17118907_T_G 22   "
      ]
     },
     "metadata": {},
     "output_type": "display_data"
    }
   ],
   "source": [
    "fvf = df1[,c(\"feature\",\"snpID\",\"chrom\")]\n",
    "head(fvf)"
   ]
  },
  {
   "cell_type": "code",
   "execution_count": 49,
   "id": "b14b49c3",
   "metadata": {},
   "outputs": [],
   "source": [
    "revision_folder = \"/hps/nobackup2/stegle/users/acuomo/all_scripts/struct_LMM2/sc_neuroseq/May2021/REVISION/C\""
   ]
  },
  {
   "cell_type": "code",
   "execution_count": 51,
   "id": "f903bb72",
   "metadata": {},
   "outputs": [
    {
     "data": {
      "text/html": [
       "<ol class=list-inline>\n",
       "\t<li>'C_discrete.csv'</li>\n",
       "\t<li>'CRM_int'</li>\n",
       "</ol>\n"
      ],
      "text/latex": [
       "\\begin{enumerate*}\n",
       "\\item 'C\\_discrete.csv'\n",
       "\\item 'CRM\\_int'\n",
       "\\end{enumerate*}\n"
      ],
      "text/markdown": [
       "1. 'C_discrete.csv'\n",
       "2. 'CRM_int'\n",
       "\n",
       "\n"
      ],
      "text/plain": [
       "[1] \"C_discrete.csv\" \"CRM_int\"       "
      ]
     },
     "metadata": {},
     "output_type": "display_data"
    }
   ],
   "source": [
    "list.files(revision_folder)"
   ]
  },
  {
   "cell_type": "code",
   "execution_count": null,
   "id": "b92ee75d",
   "metadata": {},
   "outputs": [],
   "source": [
    "filename = paste0(revision_folder,\"CRM_interaction_chr22/fvf.csv\")\n",
    "write.csv(fvf, filename)"
   ]
  },
  {
   "cell_type": "code",
   "execution_count": null,
   "id": "163e5596",
   "metadata": {},
   "outputs": [],
   "source": []
  }
 ],
 "metadata": {
  "kernelspec": {
   "display_name": "R",
   "language": "R",
   "name": "ir"
  },
  "language_info": {
   "codemirror_mode": "r",
   "file_extension": ".r",
   "mimetype": "text/x-r-source",
   "name": "R",
   "pygments_lexer": "r",
   "version": "3.6.1"
  }
 },
 "nbformat": 4,
 "nbformat_minor": 5
}
