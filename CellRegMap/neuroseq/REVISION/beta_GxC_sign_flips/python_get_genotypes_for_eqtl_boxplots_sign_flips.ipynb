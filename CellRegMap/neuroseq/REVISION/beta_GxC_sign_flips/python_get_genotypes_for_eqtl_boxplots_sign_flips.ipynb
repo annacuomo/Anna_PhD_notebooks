{
 "cells": [
  {
   "cell_type": "code",
   "execution_count": 2,
   "id": "ccbdb829",
   "metadata": {},
   "outputs": [],
   "source": [
    "import limix\n",
    "import pandas as pd"
   ]
  },
  {
   "cell_type": "code",
   "execution_count": 3,
   "id": "4ef7408a",
   "metadata": {},
   "outputs": [],
   "source": [
    "geno_prefix='/hps/nobackup/hipsci/scratch/genotypes/imputed/REL-2018-01/Full_Filtered_Plink-f/hipsci.wec.gtarray.HumanCoreExome.imputed_phased.20170327.genotypes.norm.renamed.recode.filtered'\n",
    "#bim,fam,bed = limix.io.read_plink(geno_prefix,verbose=False)\n",
    "bim,fam,bed = limix.io.plink.read(geno_prefix,verbose=False)\n",
    "bim = bim.set_index('snp')\n",
    "fam = fam.set_index('iid')"
   ]
  },
  {
   "cell_type": "code",
   "execution_count": 4,
   "id": "ef6e1506",
   "metadata": {},
   "outputs": [
    {
     "data": {
      "text/html": [
       "<div>\n",
       "<style scoped>\n",
       "    .dataframe tbody tr th:only-of-type {\n",
       "        vertical-align: middle;\n",
       "    }\n",
       "\n",
       "    .dataframe tbody tr th {\n",
       "        vertical-align: top;\n",
       "    }\n",
       "\n",
       "    .dataframe thead th {\n",
       "        text-align: right;\n",
       "    }\n",
       "</style>\n",
       "<table border=\"1\" class=\"dataframe\">\n",
       "  <thead>\n",
       "    <tr style=\"text-align: right;\">\n",
       "      <th></th>\n",
       "      <th>pseudocell</th>\n",
       "      <th>cell</th>\n",
       "      <th>donor</th>\n",
       "    </tr>\n",
       "  </thead>\n",
       "  <tbody>\n",
       "    <tr>\n",
       "      <th>1</th>\n",
       "      <td>HPSI0714i-iudw_1--DA--d30--0</td>\n",
       "      <td>AACACGTAGTTATCGC-1-0</td>\n",
       "      <td>HPSI0714i-iudw_1</td>\n",
       "    </tr>\n",
       "    <tr>\n",
       "      <th>2</th>\n",
       "      <td>HPSI0714i-iudw_1--DA--d30--0</td>\n",
       "      <td>AACGTTGGTCTAAAGA-1-0</td>\n",
       "      <td>HPSI0714i-iudw_1</td>\n",
       "    </tr>\n",
       "    <tr>\n",
       "      <th>3</th>\n",
       "      <td>HPSI0714i-iudw_1--DA--d30--0</td>\n",
       "      <td>ACCCACTTCACAAACC-1-0</td>\n",
       "      <td>HPSI0714i-iudw_1</td>\n",
       "    </tr>\n",
       "    <tr>\n",
       "      <th>4</th>\n",
       "      <td>HPSI0714i-iudw_1--DA--d30--0</td>\n",
       "      <td>AGAGCTTGTCAAGCGA-1-0</td>\n",
       "      <td>HPSI0714i-iudw_1</td>\n",
       "    </tr>\n",
       "    <tr>\n",
       "      <th>5</th>\n",
       "      <td>HPSI0714i-iudw_1--DA--d30--0</td>\n",
       "      <td>AGGTCATAGTGTACCT-1-0</td>\n",
       "      <td>HPSI0714i-iudw_1</td>\n",
       "    </tr>\n",
       "  </tbody>\n",
       "</table>\n",
       "</div>"
      ],
      "text/plain": [
       "                     pseudocell                  cell             donor\n",
       "1  HPSI0714i-iudw_1--DA--d30--0  AACACGTAGTTATCGC-1-0  HPSI0714i-iudw_1\n",
       "2  HPSI0714i-iudw_1--DA--d30--0  AACGTTGGTCTAAAGA-1-0  HPSI0714i-iudw_1\n",
       "3  HPSI0714i-iudw_1--DA--d30--0  ACCCACTTCACAAACC-1-0  HPSI0714i-iudw_1\n",
       "4  HPSI0714i-iudw_1--DA--d30--0  AGAGCTTGTCAAGCGA-1-0  HPSI0714i-iudw_1\n",
       "5  HPSI0714i-iudw_1--DA--d30--0  AGGTCATAGTGTACCT-1-0  HPSI0714i-iudw_1"
      ]
     },
     "execution_count": 4,
     "metadata": {},
     "output_type": "execute_result"
    }
   ],
   "source": [
    "filename = \"/hps/nobackup/stegle/users/acuomo/all_scripts/struct_LMM2/sc_neuroseq/cells_pseudocells_donors_mapping.csv\"\n",
    "samples_df = pd.read_csv(filename, index_col=0)\n",
    "samples_df.head()"
   ]
  },
  {
   "cell_type": "code",
   "execution_count": 5,
   "id": "88957add",
   "metadata": {},
   "outputs": [
    {
     "data": {
      "text/plain": [
       "192"
      ]
     },
     "execution_count": 5,
     "metadata": {},
     "output_type": "execute_result"
    }
   ],
   "source": [
    "sample_list = samples_df['donor'].unique()\n",
    "len(sample_list)"
   ]
  },
  {
   "cell_type": "code",
   "execution_count": 6,
   "id": "b78d9be5",
   "metadata": {},
   "outputs": [
    {
     "data": {
      "text/html": [
       "<div>\n",
       "<style scoped>\n",
       "    .dataframe tbody tr th:only-of-type {\n",
       "        vertical-align: middle;\n",
       "    }\n",
       "\n",
       "    .dataframe tbody tr th {\n",
       "        vertical-align: top;\n",
       "    }\n",
       "\n",
       "    .dataframe thead th {\n",
       "        text-align: right;\n",
       "    }\n",
       "</style>\n",
       "<table border=\"1\" class=\"dataframe\">\n",
       "  <thead>\n",
       "    <tr style=\"text-align: right;\">\n",
       "      <th></th>\n",
       "      <th>beta_G</th>\n",
       "      <th>n</th>\n",
       "      <th>gene</th>\n",
       "      <th>snp_id</th>\n",
       "    </tr>\n",
       "  </thead>\n",
       "  <tbody>\n",
       "    <tr>\n",
       "      <th>ABHD12B-14_51328222_C_T</th>\n",
       "      <td>-0.107834</td>\n",
       "      <td>0.239344</td>\n",
       "      <td>ABHD12B</td>\n",
       "      <td>14_51328222_C_T</td>\n",
       "    </tr>\n",
       "    <tr>\n",
       "      <th>ADSL-22_40757228_A_C</th>\n",
       "      <td>0.094856</td>\n",
       "      <td>0.682711</td>\n",
       "      <td>ADSL</td>\n",
       "      <td>22_40757228_A_C</td>\n",
       "    </tr>\n",
       "  </tbody>\n",
       "</table>\n",
       "</div>"
      ],
      "text/plain": [
       "                           beta_G         n     gene           snp_id\n",
       "ABHD12B-14_51328222_C_T -0.107834  0.239344  ABHD12B  14_51328222_C_T\n",
       "ADSL-22_40757228_A_C     0.094856  0.682711     ADSL  22_40757228_A_C"
      ]
     },
     "execution_count": 6,
     "metadata": {},
     "output_type": "execute_result"
    }
   ],
   "source": [
    "beta_dir = \"/hps/nobackup/stegle/users/acuomo/all_scripts/struct_LMM2/sc_neuroseq/May2021/genetic_effect/MOFA10/\"\n",
    "flips_filename = beta_dir+\"eqtl_with_flip_sign.csv\"\n",
    "flips_df = pd.read_csv(flips_filename, index_col=0)\n",
    "flips_df.head(2)"
   ]
  },
  {
   "cell_type": "code",
   "execution_count": 16,
   "id": "7c7afa9b",
   "metadata": {},
   "outputs": [],
   "source": [
    "geno_folder = \"/hps/nobackup/stegle/users/acuomo/all_scripts/struct_LMM2/sc_neuroseq/May2021/genetic_effect/MOFA10/flip_signs/genotypes/\""
   ]
  },
  {
   "cell_type": "code",
   "execution_count": 44,
   "id": "d2dff0c0",
   "metadata": {},
   "outputs": [
    {
     "name": "stdout",
     "output_type": "stream",
     "text": [
      "0\n"
     ]
    },
    {
     "name": "stderr",
     "output_type": "stream",
     "text": [
      "/nfs/software/stegle/users/acuomo/conda-envs/myscanpy/lib/python3.7/site-packages/ipykernel_launcher.py:12: PerformanceWarning: Slicing with an out-of-order index is generating 15 times more chunks\n",
      "  if sys.path[0] == '':\n"
     ]
    },
    {
     "name": "stdout",
     "output_type": "stream",
     "text": [
      "1\n",
      "2\n"
     ]
    },
    {
     "name": "stderr",
     "output_type": "stream",
     "text": [
      "/nfs/software/stegle/users/acuomo/conda-envs/myscanpy/lib/python3.7/site-packages/ipykernel_launcher.py:12: PerformanceWarning: Slicing with an out-of-order index is generating 15 times more chunks\n",
      "  if sys.path[0] == '':\n",
      "/nfs/software/stegle/users/acuomo/conda-envs/myscanpy/lib/python3.7/site-packages/ipykernel_launcher.py:12: PerformanceWarning: Slicing with an out-of-order index is generating 15 times more chunks\n",
      "  if sys.path[0] == '':\n"
     ]
    },
    {
     "name": "stdout",
     "output_type": "stream",
     "text": [
      "3\n",
      "4\n",
      "5\n"
     ]
    },
    {
     "name": "stderr",
     "output_type": "stream",
     "text": [
      "/nfs/software/stegle/users/acuomo/conda-envs/myscanpy/lib/python3.7/site-packages/ipykernel_launcher.py:12: PerformanceWarning: Slicing with an out-of-order index is generating 15 times more chunks\n",
      "  if sys.path[0] == '':\n",
      "/nfs/software/stegle/users/acuomo/conda-envs/myscanpy/lib/python3.7/site-packages/ipykernel_launcher.py:12: PerformanceWarning: Slicing with an out-of-order index is generating 15 times more chunks\n",
      "  if sys.path[0] == '':\n"
     ]
    },
    {
     "name": "stdout",
     "output_type": "stream",
     "text": [
      "6\n",
      "7\n"
     ]
    },
    {
     "name": "stderr",
     "output_type": "stream",
     "text": [
      "/nfs/software/stegle/users/acuomo/conda-envs/myscanpy/lib/python3.7/site-packages/ipykernel_launcher.py:12: PerformanceWarning: Slicing with an out-of-order index is generating 15 times more chunks\n",
      "  if sys.path[0] == '':\n",
      "/nfs/software/stegle/users/acuomo/conda-envs/myscanpy/lib/python3.7/site-packages/ipykernel_launcher.py:12: PerformanceWarning: Slicing with an out-of-order index is generating 15 times more chunks\n",
      "  if sys.path[0] == '':\n"
     ]
    },
    {
     "name": "stdout",
     "output_type": "stream",
     "text": [
      "8\n",
      "9\n",
      "10\n",
      "11\n"
     ]
    },
    {
     "name": "stderr",
     "output_type": "stream",
     "text": [
      "/nfs/software/stegle/users/acuomo/conda-envs/myscanpy/lib/python3.7/site-packages/ipykernel_launcher.py:12: PerformanceWarning: Slicing with an out-of-order index is generating 15 times more chunks\n",
      "  if sys.path[0] == '':\n",
      "/nfs/software/stegle/users/acuomo/conda-envs/myscanpy/lib/python3.7/site-packages/ipykernel_launcher.py:12: PerformanceWarning: Slicing with an out-of-order index is generating 15 times more chunks\n",
      "  if sys.path[0] == '':\n"
     ]
    },
    {
     "name": "stdout",
     "output_type": "stream",
     "text": [
      "12\n",
      "13\n",
      "14\n"
     ]
    },
    {
     "name": "stderr",
     "output_type": "stream",
     "text": [
      "/nfs/software/stegle/users/acuomo/conda-envs/myscanpy/lib/python3.7/site-packages/ipykernel_launcher.py:12: PerformanceWarning: Slicing with an out-of-order index is generating 15 times more chunks\n",
      "  if sys.path[0] == '':\n",
      "/nfs/software/stegle/users/acuomo/conda-envs/myscanpy/lib/python3.7/site-packages/ipykernel_launcher.py:12: PerformanceWarning: Slicing with an out-of-order index is generating 15 times more chunks\n",
      "  if sys.path[0] == '':\n"
     ]
    },
    {
     "name": "stdout",
     "output_type": "stream",
     "text": [
      "15\n",
      "16\n"
     ]
    },
    {
     "name": "stderr",
     "output_type": "stream",
     "text": [
      "/nfs/software/stegle/users/acuomo/conda-envs/myscanpy/lib/python3.7/site-packages/ipykernel_launcher.py:12: PerformanceWarning: Slicing with an out-of-order index is generating 15 times more chunks\n",
      "  if sys.path[0] == '':\n"
     ]
    },
    {
     "name": "stdout",
     "output_type": "stream",
     "text": [
      "17\n",
      "18\n",
      "19\n",
      "20\n"
     ]
    },
    {
     "name": "stderr",
     "output_type": "stream",
     "text": [
      "/nfs/software/stegle/users/acuomo/conda-envs/myscanpy/lib/python3.7/site-packages/ipykernel_launcher.py:12: PerformanceWarning: Slicing with an out-of-order index is generating 15 times more chunks\n",
      "  if sys.path[0] == '':\n",
      "/nfs/software/stegle/users/acuomo/conda-envs/myscanpy/lib/python3.7/site-packages/ipykernel_launcher.py:12: PerformanceWarning: Slicing with an out-of-order index is generating 15 times more chunks\n",
      "  if sys.path[0] == '':\n"
     ]
    },
    {
     "name": "stdout",
     "output_type": "stream",
     "text": [
      "21\n",
      "22\n",
      "23\n",
      "24\n",
      "25\n",
      "26\n"
     ]
    },
    {
     "name": "stderr",
     "output_type": "stream",
     "text": [
      "/nfs/software/stegle/users/acuomo/conda-envs/myscanpy/lib/python3.7/site-packages/ipykernel_launcher.py:12: PerformanceWarning: Slicing with an out-of-order index is generating 15 times more chunks\n",
      "  if sys.path[0] == '':\n",
      "/nfs/software/stegle/users/acuomo/conda-envs/myscanpy/lib/python3.7/site-packages/ipykernel_launcher.py:12: PerformanceWarning: Slicing with an out-of-order index is generating 15 times more chunks\n",
      "  if sys.path[0] == '':\n"
     ]
    },
    {
     "name": "stdout",
     "output_type": "stream",
     "text": [
      "27\n",
      "28\n",
      "29\n",
      "30\n"
     ]
    },
    {
     "name": "stderr",
     "output_type": "stream",
     "text": [
      "/nfs/software/stegle/users/acuomo/conda-envs/myscanpy/lib/python3.7/site-packages/ipykernel_launcher.py:12: PerformanceWarning: Slicing with an out-of-order index is generating 15 times more chunks\n",
      "  if sys.path[0] == '':\n",
      "/nfs/software/stegle/users/acuomo/conda-envs/myscanpy/lib/python3.7/site-packages/ipykernel_launcher.py:12: PerformanceWarning: Slicing with an out-of-order index is generating 15 times more chunks\n",
      "  if sys.path[0] == '':\n"
     ]
    },
    {
     "name": "stdout",
     "output_type": "stream",
     "text": [
      "31\n",
      "32\n",
      "33\n"
     ]
    },
    {
     "name": "stderr",
     "output_type": "stream",
     "text": [
      "/nfs/software/stegle/users/acuomo/conda-envs/myscanpy/lib/python3.7/site-packages/ipykernel_launcher.py:12: PerformanceWarning: Slicing with an out-of-order index is generating 15 times more chunks\n",
      "  if sys.path[0] == '':\n",
      "/nfs/software/stegle/users/acuomo/conda-envs/myscanpy/lib/python3.7/site-packages/ipykernel_launcher.py:12: PerformanceWarning: Slicing with an out-of-order index is generating 15 times more chunks\n",
      "  if sys.path[0] == '':\n"
     ]
    },
    {
     "name": "stdout",
     "output_type": "stream",
     "text": [
      "34\n"
     ]
    },
    {
     "name": "stderr",
     "output_type": "stream",
     "text": [
      "/nfs/software/stegle/users/acuomo/conda-envs/myscanpy/lib/python3.7/site-packages/ipykernel_launcher.py:12: PerformanceWarning: Slicing with an out-of-order index is generating 15 times more chunks\n",
      "  if sys.path[0] == '':\n",
      "/nfs/software/stegle/users/acuomo/conda-envs/myscanpy/lib/python3.7/site-packages/ipykernel_launcher.py:12: PerformanceWarning: Slicing with an out-of-order index is generating 15 times more chunks\n",
      "  if sys.path[0] == '':\n"
     ]
    },
    {
     "name": "stdout",
     "output_type": "stream",
     "text": [
      "35\n",
      "36\n",
      "37\n"
     ]
    },
    {
     "name": "stderr",
     "output_type": "stream",
     "text": [
      "/nfs/software/stegle/users/acuomo/conda-envs/myscanpy/lib/python3.7/site-packages/ipykernel_launcher.py:12: PerformanceWarning: Slicing with an out-of-order index is generating 15 times more chunks\n",
      "  if sys.path[0] == '':\n"
     ]
    },
    {
     "name": "stdout",
     "output_type": "stream",
     "text": [
      "38\n",
      "39\n"
     ]
    },
    {
     "name": "stderr",
     "output_type": "stream",
     "text": [
      "/nfs/software/stegle/users/acuomo/conda-envs/myscanpy/lib/python3.7/site-packages/ipykernel_launcher.py:12: PerformanceWarning: Slicing with an out-of-order index is generating 15 times more chunks\n",
      "  if sys.path[0] == '':\n",
      "/nfs/software/stegle/users/acuomo/conda-envs/myscanpy/lib/python3.7/site-packages/ipykernel_launcher.py:12: PerformanceWarning: Slicing with an out-of-order index is generating 15 times more chunks\n",
      "  if sys.path[0] == '':\n"
     ]
    },
    {
     "name": "stdout",
     "output_type": "stream",
     "text": [
      "40\n",
      "41\n"
     ]
    },
    {
     "name": "stderr",
     "output_type": "stream",
     "text": [
      "/nfs/software/stegle/users/acuomo/conda-envs/myscanpy/lib/python3.7/site-packages/ipykernel_launcher.py:12: PerformanceWarning: Slicing with an out-of-order index is generating 15 times more chunks\n",
      "  if sys.path[0] == '':\n",
      "/nfs/software/stegle/users/acuomo/conda-envs/myscanpy/lib/python3.7/site-packages/ipykernel_launcher.py:12: PerformanceWarning: Slicing with an out-of-order index is generating 15 times more chunks\n",
      "  if sys.path[0] == '':\n"
     ]
    },
    {
     "name": "stdout",
     "output_type": "stream",
     "text": [
      "42\n",
      "43\n"
     ]
    },
    {
     "name": "stderr",
     "output_type": "stream",
     "text": [
      "/nfs/software/stegle/users/acuomo/conda-envs/myscanpy/lib/python3.7/site-packages/ipykernel_launcher.py:12: PerformanceWarning: Slicing with an out-of-order index is generating 15 times more chunks\n",
      "  if sys.path[0] == '':\n",
      "/nfs/software/stegle/users/acuomo/conda-envs/myscanpy/lib/python3.7/site-packages/ipykernel_launcher.py:12: PerformanceWarning: Slicing with an out-of-order index is generating 15 times more chunks\n",
      "  if sys.path[0] == '':\n"
     ]
    },
    {
     "name": "stdout",
     "output_type": "stream",
     "text": [
      "44\n",
      "45\n"
     ]
    },
    {
     "name": "stderr",
     "output_type": "stream",
     "text": [
      "/nfs/software/stegle/users/acuomo/conda-envs/myscanpy/lib/python3.7/site-packages/ipykernel_launcher.py:12: PerformanceWarning: Slicing with an out-of-order index is generating 15 times more chunks\n",
      "  if sys.path[0] == '':\n",
      "/nfs/software/stegle/users/acuomo/conda-envs/myscanpy/lib/python3.7/site-packages/ipykernel_launcher.py:12: PerformanceWarning: Slicing with an out-of-order index is generating 15 times more chunks\n",
      "  if sys.path[0] == '':\n"
     ]
    },
    {
     "name": "stdout",
     "output_type": "stream",
     "text": [
      "46\n"
     ]
    },
    {
     "name": "stderr",
     "output_type": "stream",
     "text": [
      "/nfs/software/stegle/users/acuomo/conda-envs/myscanpy/lib/python3.7/site-packages/ipykernel_launcher.py:12: PerformanceWarning: Slicing with an out-of-order index is generating 15 times more chunks\n",
      "  if sys.path[0] == '':\n"
     ]
    },
    {
     "name": "stdout",
     "output_type": "stream",
     "text": [
      "47\n",
      "48\n"
     ]
    },
    {
     "name": "stderr",
     "output_type": "stream",
     "text": [
      "/nfs/software/stegle/users/acuomo/conda-envs/myscanpy/lib/python3.7/site-packages/ipykernel_launcher.py:12: PerformanceWarning: Slicing with an out-of-order index is generating 15 times more chunks\n",
      "  if sys.path[0] == '':\n",
      "/nfs/software/stegle/users/acuomo/conda-envs/myscanpy/lib/python3.7/site-packages/ipykernel_launcher.py:12: PerformanceWarning: Slicing with an out-of-order index is generating 15 times more chunks\n",
      "  if sys.path[0] == '':\n"
     ]
    },
    {
     "name": "stdout",
     "output_type": "stream",
     "text": [
      "49\n",
      "50\n"
     ]
    },
    {
     "name": "stderr",
     "output_type": "stream",
     "text": [
      "/nfs/software/stegle/users/acuomo/conda-envs/myscanpy/lib/python3.7/site-packages/ipykernel_launcher.py:12: PerformanceWarning: Slicing with an out-of-order index is generating 15 times more chunks\n",
      "  if sys.path[0] == '':\n",
      "/nfs/software/stegle/users/acuomo/conda-envs/myscanpy/lib/python3.7/site-packages/ipykernel_launcher.py:12: PerformanceWarning: Slicing with an out-of-order index is generating 15 times more chunks\n",
      "  if sys.path[0] == '':\n"
     ]
    },
    {
     "name": "stdout",
     "output_type": "stream",
     "text": [
      "51\n",
      "52\n"
     ]
    },
    {
     "name": "stderr",
     "output_type": "stream",
     "text": [
      "/nfs/software/stegle/users/acuomo/conda-envs/myscanpy/lib/python3.7/site-packages/ipykernel_launcher.py:12: PerformanceWarning: Slicing with an out-of-order index is generating 15 times more chunks\n",
      "  if sys.path[0] == '':\n",
      "/nfs/software/stegle/users/acuomo/conda-envs/myscanpy/lib/python3.7/site-packages/ipykernel_launcher.py:12: PerformanceWarning: Slicing with an out-of-order index is generating 15 times more chunks\n",
      "  if sys.path[0] == '':\n"
     ]
    },
    {
     "name": "stdout",
     "output_type": "stream",
     "text": [
      "53\n",
      "54\n"
     ]
    },
    {
     "name": "stderr",
     "output_type": "stream",
     "text": [
      "/nfs/software/stegle/users/acuomo/conda-envs/myscanpy/lib/python3.7/site-packages/ipykernel_launcher.py:12: PerformanceWarning: Slicing with an out-of-order index is generating 15 times more chunks\n",
      "  if sys.path[0] == '':\n",
      "/nfs/software/stegle/users/acuomo/conda-envs/myscanpy/lib/python3.7/site-packages/ipykernel_launcher.py:12: PerformanceWarning: Slicing with an out-of-order index is generating 15 times more chunks\n",
      "  if sys.path[0] == '':\n"
     ]
    },
    {
     "name": "stdout",
     "output_type": "stream",
     "text": [
      "55\n"
     ]
    },
    {
     "name": "stderr",
     "output_type": "stream",
     "text": [
      "/nfs/software/stegle/users/acuomo/conda-envs/myscanpy/lib/python3.7/site-packages/ipykernel_launcher.py:12: PerformanceWarning: Slicing with an out-of-order index is generating 15 times more chunks\n",
      "  if sys.path[0] == '':\n",
      "/nfs/software/stegle/users/acuomo/conda-envs/myscanpy/lib/python3.7/site-packages/ipykernel_launcher.py:12: PerformanceWarning: Slicing with an out-of-order index is generating 15 times more chunks\n",
      "  if sys.path[0] == '':\n"
     ]
    },
    {
     "name": "stdout",
     "output_type": "stream",
     "text": [
      "56\n",
      "57\n"
     ]
    },
    {
     "name": "stderr",
     "output_type": "stream",
     "text": [
      "/nfs/software/stegle/users/acuomo/conda-envs/myscanpy/lib/python3.7/site-packages/ipykernel_launcher.py:12: PerformanceWarning: Slicing with an out-of-order index is generating 15 times more chunks\n",
      "  if sys.path[0] == '':\n"
     ]
    },
    {
     "name": "stdout",
     "output_type": "stream",
     "text": [
      "58\n",
      "59\n"
     ]
    },
    {
     "name": "stderr",
     "output_type": "stream",
     "text": [
      "/nfs/software/stegle/users/acuomo/conda-envs/myscanpy/lib/python3.7/site-packages/ipykernel_launcher.py:12: PerformanceWarning: Slicing with an out-of-order index is generating 15 times more chunks\n",
      "  if sys.path[0] == '':\n",
      "/nfs/software/stegle/users/acuomo/conda-envs/myscanpy/lib/python3.7/site-packages/ipykernel_launcher.py:12: PerformanceWarning: Slicing with an out-of-order index is generating 15 times more chunks\n",
      "  if sys.path[0] == '':\n"
     ]
    },
    {
     "name": "stdout",
     "output_type": "stream",
     "text": [
      "60\n",
      "61\n",
      "62\n",
      "63\n"
     ]
    },
    {
     "name": "stderr",
     "output_type": "stream",
     "text": [
      "/nfs/software/stegle/users/acuomo/conda-envs/myscanpy/lib/python3.7/site-packages/ipykernel_launcher.py:12: PerformanceWarning: Slicing with an out-of-order index is generating 15 times more chunks\n",
      "  if sys.path[0] == '':\n",
      "/nfs/software/stegle/users/acuomo/conda-envs/myscanpy/lib/python3.7/site-packages/ipykernel_launcher.py:12: PerformanceWarning: Slicing with an out-of-order index is generating 15 times more chunks\n",
      "  if sys.path[0] == '':\n"
     ]
    },
    {
     "name": "stdout",
     "output_type": "stream",
     "text": [
      "64\n",
      "65\n",
      "66\n"
     ]
    },
    {
     "name": "stderr",
     "output_type": "stream",
     "text": [
      "/nfs/software/stegle/users/acuomo/conda-envs/myscanpy/lib/python3.7/site-packages/ipykernel_launcher.py:12: PerformanceWarning: Slicing with an out-of-order index is generating 15 times more chunks\n",
      "  if sys.path[0] == '':\n",
      "/nfs/software/stegle/users/acuomo/conda-envs/myscanpy/lib/python3.7/site-packages/ipykernel_launcher.py:12: PerformanceWarning: Slicing with an out-of-order index is generating 15 times more chunks\n",
      "  if sys.path[0] == '':\n"
     ]
    },
    {
     "name": "stdout",
     "output_type": "stream",
     "text": [
      "67\n",
      "68\n"
     ]
    },
    {
     "name": "stderr",
     "output_type": "stream",
     "text": [
      "/nfs/software/stegle/users/acuomo/conda-envs/myscanpy/lib/python3.7/site-packages/ipykernel_launcher.py:12: PerformanceWarning: Slicing with an out-of-order index is generating 15 times more chunks\n",
      "  if sys.path[0] == '':\n",
      "/nfs/software/stegle/users/acuomo/conda-envs/myscanpy/lib/python3.7/site-packages/ipykernel_launcher.py:12: PerformanceWarning: Slicing with an out-of-order index is generating 15 times more chunks\n",
      "  if sys.path[0] == '':\n"
     ]
    },
    {
     "name": "stdout",
     "output_type": "stream",
     "text": [
      "69\n",
      "70\n"
     ]
    },
    {
     "name": "stderr",
     "output_type": "stream",
     "text": [
      "/nfs/software/stegle/users/acuomo/conda-envs/myscanpy/lib/python3.7/site-packages/ipykernel_launcher.py:12: PerformanceWarning: Slicing with an out-of-order index is generating 15 times more chunks\n",
      "  if sys.path[0] == '':\n"
     ]
    },
    {
     "name": "stdout",
     "output_type": "stream",
     "text": [
      "71\n",
      "72\n"
     ]
    },
    {
     "name": "stderr",
     "output_type": "stream",
     "text": [
      "/nfs/software/stegle/users/acuomo/conda-envs/myscanpy/lib/python3.7/site-packages/ipykernel_launcher.py:12: PerformanceWarning: Slicing with an out-of-order index is generating 15 times more chunks\n",
      "  if sys.path[0] == '':\n",
      "/nfs/software/stegle/users/acuomo/conda-envs/myscanpy/lib/python3.7/site-packages/ipykernel_launcher.py:12: PerformanceWarning: Slicing with an out-of-order index is generating 15 times more chunks\n",
      "  if sys.path[0] == '':\n"
     ]
    },
    {
     "name": "stdout",
     "output_type": "stream",
     "text": [
      "73\n",
      "74\n",
      "75\n"
     ]
    },
    {
     "name": "stderr",
     "output_type": "stream",
     "text": [
      "/nfs/software/stegle/users/acuomo/conda-envs/myscanpy/lib/python3.7/site-packages/ipykernel_launcher.py:12: PerformanceWarning: Slicing with an out-of-order index is generating 15 times more chunks\n",
      "  if sys.path[0] == '':\n",
      "/nfs/software/stegle/users/acuomo/conda-envs/myscanpy/lib/python3.7/site-packages/ipykernel_launcher.py:12: PerformanceWarning: Slicing with an out-of-order index is generating 15 times more chunks\n",
      "  if sys.path[0] == '':\n"
     ]
    },
    {
     "name": "stdout",
     "output_type": "stream",
     "text": [
      "76\n",
      "77\n"
     ]
    },
    {
     "name": "stderr",
     "output_type": "stream",
     "text": [
      "/nfs/software/stegle/users/acuomo/conda-envs/myscanpy/lib/python3.7/site-packages/ipykernel_launcher.py:12: PerformanceWarning: Slicing with an out-of-order index is generating 15 times more chunks\n",
      "  if sys.path[0] == '':\n",
      "/nfs/software/stegle/users/acuomo/conda-envs/myscanpy/lib/python3.7/site-packages/ipykernel_launcher.py:12: PerformanceWarning: Slicing with an out-of-order index is generating 15 times more chunks\n",
      "  if sys.path[0] == '':\n"
     ]
    },
    {
     "name": "stdout",
     "output_type": "stream",
     "text": [
      "78\n",
      "79\n",
      "80\n",
      "81\n"
     ]
    },
    {
     "name": "stderr",
     "output_type": "stream",
     "text": [
      "/nfs/software/stegle/users/acuomo/conda-envs/myscanpy/lib/python3.7/site-packages/ipykernel_launcher.py:12: PerformanceWarning: Slicing with an out-of-order index is generating 15 times more chunks\n",
      "  if sys.path[0] == '':\n",
      "/nfs/software/stegle/users/acuomo/conda-envs/myscanpy/lib/python3.7/site-packages/ipykernel_launcher.py:12: PerformanceWarning: Slicing with an out-of-order index is generating 15 times more chunks\n",
      "  if sys.path[0] == '':\n"
     ]
    },
    {
     "name": "stdout",
     "output_type": "stream",
     "text": [
      "82\n",
      "83\n",
      "84\n",
      "85\n"
     ]
    },
    {
     "name": "stderr",
     "output_type": "stream",
     "text": [
      "/nfs/software/stegle/users/acuomo/conda-envs/myscanpy/lib/python3.7/site-packages/ipykernel_launcher.py:12: PerformanceWarning: Slicing with an out-of-order index is generating 15 times more chunks\n",
      "  if sys.path[0] == '':\n",
      "/nfs/software/stegle/users/acuomo/conda-envs/myscanpy/lib/python3.7/site-packages/ipykernel_launcher.py:12: PerformanceWarning: Slicing with an out-of-order index is generating 15 times more chunks\n",
      "  if sys.path[0] == '':\n"
     ]
    },
    {
     "name": "stdout",
     "output_type": "stream",
     "text": [
      "86\n"
     ]
    },
    {
     "name": "stderr",
     "output_type": "stream",
     "text": [
      "/nfs/software/stegle/users/acuomo/conda-envs/myscanpy/lib/python3.7/site-packages/ipykernel_launcher.py:12: PerformanceWarning: Slicing with an out-of-order index is generating 15 times more chunks\n",
      "  if sys.path[0] == '':\n"
     ]
    },
    {
     "name": "stdout",
     "output_type": "stream",
     "text": [
      "87\n",
      "88\n"
     ]
    },
    {
     "name": "stderr",
     "output_type": "stream",
     "text": [
      "/nfs/software/stegle/users/acuomo/conda-envs/myscanpy/lib/python3.7/site-packages/ipykernel_launcher.py:12: PerformanceWarning: Slicing with an out-of-order index is generating 15 times more chunks\n",
      "  if sys.path[0] == '':\n",
      "/nfs/software/stegle/users/acuomo/conda-envs/myscanpy/lib/python3.7/site-packages/ipykernel_launcher.py:12: PerformanceWarning: Slicing with an out-of-order index is generating 15 times more chunks\n",
      "  if sys.path[0] == '':\n"
     ]
    },
    {
     "name": "stdout",
     "output_type": "stream",
     "text": [
      "89\n",
      "90\n",
      "91\n"
     ]
    },
    {
     "name": "stderr",
     "output_type": "stream",
     "text": [
      "/nfs/software/stegle/users/acuomo/conda-envs/myscanpy/lib/python3.7/site-packages/ipykernel_launcher.py:12: PerformanceWarning: Slicing with an out-of-order index is generating 15 times more chunks\n",
      "  if sys.path[0] == '':\n",
      "/nfs/software/stegle/users/acuomo/conda-envs/myscanpy/lib/python3.7/site-packages/ipykernel_launcher.py:12: PerformanceWarning: Slicing with an out-of-order index is generating 15 times more chunks\n",
      "  if sys.path[0] == '':\n"
     ]
    },
    {
     "name": "stdout",
     "output_type": "stream",
     "text": [
      "92\n",
      "93\n"
     ]
    },
    {
     "name": "stderr",
     "output_type": "stream",
     "text": [
      "/nfs/software/stegle/users/acuomo/conda-envs/myscanpy/lib/python3.7/site-packages/ipykernel_launcher.py:12: PerformanceWarning: Slicing with an out-of-order index is generating 15 times more chunks\n",
      "  if sys.path[0] == '':\n"
     ]
    }
   ],
   "source": [
    "for j in range(flips_df.shape[0]):\n",
    "    print(j)\n",
    "    if j==3 or j==8 or j==10 or j==13 or j==15 or j==17 or j==18 or j==21 or j==22 or j==23: continue\n",
    "    if j==24 or j==27 or j==29 or j==31 or j==36 or j==61 or j==62 or j==64 or j==69 or j==73: continue\n",
    "    if j==78 or j==79 or j==82 or j==83 or j==89 or j==93: continue\n",
    "    \n",
    "    gene = flips_df['gene'][j]\n",
    "    snp_id = flips_df['snp_id'][j]\n",
    "    snp_idx = bim.loc[snp_id, 'i']\n",
    "    sample_indices = fam.loc[sample_list,'i'].tolist()\n",
    "\n",
    "    genotypes = bed[snp_idx, sample_indices].compute()\n",
    "\n",
    "    g_ds = pd.Series(genotypes, index=sample_list)\n",
    "    g_ds.name = 'Genotype'\n",
    "    \n",
    "    geno_file = geno_folder + gene + \"-\" + snp_id + \"_g.csv\"\n",
    "    g_ds.to_csv(geno_file)"
   ]
  },
  {
   "cell_type": "code",
   "execution_count": null,
   "id": "a4631985",
   "metadata": {},
   "outputs": [],
   "source": []
  },
  {
   "cell_type": "code",
   "execution_count": null,
   "id": "a6df9187",
   "metadata": {},
   "outputs": [],
   "source": []
  },
  {
   "cell_type": "code",
   "execution_count": 45,
   "id": "73091faf",
   "metadata": {},
   "outputs": [],
   "source": [
    "j=3"
   ]
  },
  {
   "cell_type": "code",
   "execution_count": 46,
   "id": "7eec52ee",
   "metadata": {},
   "outputs": [
    {
     "data": {
      "text/plain": [
       "'AKAP7'"
      ]
     },
     "execution_count": 46,
     "metadata": {},
     "output_type": "execute_result"
    }
   ],
   "source": [
    "gene = flips_df['gene'][j]\n",
    "gene"
   ]
  },
  {
   "cell_type": "code",
   "execution_count": 47,
   "id": "e29165be",
   "metadata": {},
   "outputs": [
    {
     "data": {
      "text/plain": [
       "'6_131691964_C_A'"
      ]
     },
     "execution_count": 47,
     "metadata": {},
     "output_type": "execute_result"
    }
   ],
   "source": [
    "snp_id = flips_df['snp_id'][j]\n",
    "snp_id"
   ]
  },
  {
   "cell_type": "code",
   "execution_count": 48,
   "id": "4e0f0e83",
   "metadata": {
    "scrolled": true
   },
   "outputs": [
    {
     "ename": "KeyError",
     "evalue": "'6_131691964_C_A'",
     "output_type": "error",
     "traceback": [
      "\u001b[0;31m---------------------------------------------------------------------------\u001b[0m",
      "\u001b[0;31mKeyError\u001b[0m                                  Traceback (most recent call last)",
      "\u001b[0;32m/nfs/software/stegle/users/acuomo/conda-envs/myscanpy/lib/python3.7/site-packages/pandas/core/indexes/base.py\u001b[0m in \u001b[0;36mget_loc\u001b[0;34m(self, key, method, tolerance)\u001b[0m\n\u001b[1;32m   2645\u001b[0m             \u001b[0;32mtry\u001b[0m\u001b[0;34m:\u001b[0m\u001b[0;34m\u001b[0m\u001b[0;34m\u001b[0m\u001b[0m\n\u001b[0;32m-> 2646\u001b[0;31m                 \u001b[0;32mreturn\u001b[0m \u001b[0mself\u001b[0m\u001b[0;34m.\u001b[0m\u001b[0m_engine\u001b[0m\u001b[0;34m.\u001b[0m\u001b[0mget_loc\u001b[0m\u001b[0;34m(\u001b[0m\u001b[0mkey\u001b[0m\u001b[0;34m)\u001b[0m\u001b[0;34m\u001b[0m\u001b[0;34m\u001b[0m\u001b[0m\n\u001b[0m\u001b[1;32m   2647\u001b[0m             \u001b[0;32mexcept\u001b[0m \u001b[0mKeyError\u001b[0m\u001b[0;34m:\u001b[0m\u001b[0;34m\u001b[0m\u001b[0;34m\u001b[0m\u001b[0m\n",
      "\u001b[0;32mpandas/_libs/index.pyx\u001b[0m in \u001b[0;36mpandas._libs.index.IndexEngine.get_loc\u001b[0;34m()\u001b[0m\n",
      "\u001b[0;32mpandas/_libs/index.pyx\u001b[0m in \u001b[0;36mpandas._libs.index.IndexEngine.get_loc\u001b[0;34m()\u001b[0m\n",
      "\u001b[0;32mpandas/_libs/hashtable_class_helper.pxi\u001b[0m in \u001b[0;36mpandas._libs.hashtable.PyObjectHashTable.get_item\u001b[0;34m()\u001b[0m\n",
      "\u001b[0;32mpandas/_libs/hashtable_class_helper.pxi\u001b[0m in \u001b[0;36mpandas._libs.hashtable.PyObjectHashTable.get_item\u001b[0;34m()\u001b[0m\n",
      "\u001b[0;31mKeyError\u001b[0m: '6_131691964_C_A'",
      "\nDuring handling of the above exception, another exception occurred:\n",
      "\u001b[0;31mKeyError\u001b[0m                                  Traceback (most recent call last)",
      "\u001b[0;32m<ipython-input-48-2f004f49a695>\u001b[0m in \u001b[0;36m<module>\u001b[0;34m\u001b[0m\n\u001b[0;32m----> 1\u001b[0;31m \u001b[0msnp_idx\u001b[0m \u001b[0;34m=\u001b[0m \u001b[0mbim\u001b[0m\u001b[0;34m.\u001b[0m\u001b[0mloc\u001b[0m\u001b[0;34m[\u001b[0m\u001b[0msnp_id\u001b[0m\u001b[0;34m,\u001b[0m \u001b[0;34m'i'\u001b[0m\u001b[0;34m]\u001b[0m\u001b[0;34m\u001b[0m\u001b[0;34m\u001b[0m\u001b[0m\n\u001b[0m\u001b[1;32m      2\u001b[0m \u001b[0msample_indices\u001b[0m \u001b[0;34m=\u001b[0m \u001b[0mfam\u001b[0m\u001b[0;34m.\u001b[0m\u001b[0mloc\u001b[0m\u001b[0;34m[\u001b[0m\u001b[0msample_list\u001b[0m\u001b[0;34m,\u001b[0m\u001b[0;34m'i'\u001b[0m\u001b[0;34m]\u001b[0m\u001b[0;34m.\u001b[0m\u001b[0mtolist\u001b[0m\u001b[0;34m(\u001b[0m\u001b[0;34m)\u001b[0m\u001b[0;34m\u001b[0m\u001b[0;34m\u001b[0m\u001b[0m\n\u001b[1;32m      3\u001b[0m \u001b[0;34m\u001b[0m\u001b[0m\n\u001b[1;32m      4\u001b[0m \u001b[0mgenotypes\u001b[0m \u001b[0;34m=\u001b[0m \u001b[0mbed\u001b[0m\u001b[0;34m[\u001b[0m\u001b[0msnp_idx\u001b[0m\u001b[0;34m,\u001b[0m \u001b[0msample_indices\u001b[0m\u001b[0;34m]\u001b[0m\u001b[0;34m.\u001b[0m\u001b[0mcompute\u001b[0m\u001b[0;34m(\u001b[0m\u001b[0;34m)\u001b[0m\u001b[0;34m\u001b[0m\u001b[0;34m\u001b[0m\u001b[0m\n\u001b[1;32m      5\u001b[0m \u001b[0;34m\u001b[0m\u001b[0m\n",
      "\u001b[0;32m/nfs/software/stegle/users/acuomo/conda-envs/myscanpy/lib/python3.7/site-packages/pandas/core/indexing.py\u001b[0m in \u001b[0;36m__getitem__\u001b[0;34m(self, key)\u001b[0m\n\u001b[1;32m   1759\u001b[0m                 \u001b[0;32mexcept\u001b[0m \u001b[0;34m(\u001b[0m\u001b[0mKeyError\u001b[0m\u001b[0;34m,\u001b[0m \u001b[0mIndexError\u001b[0m\u001b[0;34m,\u001b[0m \u001b[0mAttributeError\u001b[0m\u001b[0;34m)\u001b[0m\u001b[0;34m:\u001b[0m\u001b[0;34m\u001b[0m\u001b[0;34m\u001b[0m\u001b[0m\n\u001b[1;32m   1760\u001b[0m                     \u001b[0;32mpass\u001b[0m\u001b[0;34m\u001b[0m\u001b[0;34m\u001b[0m\u001b[0m\n\u001b[0;32m-> 1761\u001b[0;31m             \u001b[0;32mreturn\u001b[0m \u001b[0mself\u001b[0m\u001b[0;34m.\u001b[0m\u001b[0m_getitem_tuple\u001b[0m\u001b[0;34m(\u001b[0m\u001b[0mkey\u001b[0m\u001b[0;34m)\u001b[0m\u001b[0;34m\u001b[0m\u001b[0;34m\u001b[0m\u001b[0m\n\u001b[0m\u001b[1;32m   1762\u001b[0m         \u001b[0;32melse\u001b[0m\u001b[0;34m:\u001b[0m\u001b[0;34m\u001b[0m\u001b[0;34m\u001b[0m\u001b[0m\n\u001b[1;32m   1763\u001b[0m             \u001b[0;31m# we by definition only have the 0th axis\u001b[0m\u001b[0;34m\u001b[0m\u001b[0;34m\u001b[0m\u001b[0;34m\u001b[0m\u001b[0m\n",
      "\u001b[0;32m/nfs/software/stegle/users/acuomo/conda-envs/myscanpy/lib/python3.7/site-packages/pandas/core/indexing.py\u001b[0m in \u001b[0;36m_getitem_tuple\u001b[0;34m(self, tup)\u001b[0m\n\u001b[1;32m   1269\u001b[0m     \u001b[0;32mdef\u001b[0m \u001b[0m_getitem_tuple\u001b[0m\u001b[0;34m(\u001b[0m\u001b[0mself\u001b[0m\u001b[0;34m,\u001b[0m \u001b[0mtup\u001b[0m\u001b[0;34m:\u001b[0m \u001b[0mTuple\u001b[0m\u001b[0;34m)\u001b[0m\u001b[0;34m:\u001b[0m\u001b[0;34m\u001b[0m\u001b[0;34m\u001b[0m\u001b[0m\n\u001b[1;32m   1270\u001b[0m         \u001b[0;32mtry\u001b[0m\u001b[0;34m:\u001b[0m\u001b[0;34m\u001b[0m\u001b[0;34m\u001b[0m\u001b[0m\n\u001b[0;32m-> 1271\u001b[0;31m             \u001b[0;32mreturn\u001b[0m \u001b[0mself\u001b[0m\u001b[0;34m.\u001b[0m\u001b[0m_getitem_lowerdim\u001b[0m\u001b[0;34m(\u001b[0m\u001b[0mtup\u001b[0m\u001b[0;34m)\u001b[0m\u001b[0;34m\u001b[0m\u001b[0;34m\u001b[0m\u001b[0m\n\u001b[0m\u001b[1;32m   1272\u001b[0m         \u001b[0;32mexcept\u001b[0m \u001b[0mIndexingError\u001b[0m\u001b[0;34m:\u001b[0m\u001b[0;34m\u001b[0m\u001b[0;34m\u001b[0m\u001b[0m\n\u001b[1;32m   1273\u001b[0m             \u001b[0;32mpass\u001b[0m\u001b[0;34m\u001b[0m\u001b[0;34m\u001b[0m\u001b[0m\n",
      "\u001b[0;32m/nfs/software/stegle/users/acuomo/conda-envs/myscanpy/lib/python3.7/site-packages/pandas/core/indexing.py\u001b[0m in \u001b[0;36m_getitem_lowerdim\u001b[0;34m(self, tup)\u001b[0m\n\u001b[1;32m   1386\u001b[0m         \u001b[0;32mfor\u001b[0m \u001b[0mi\u001b[0m\u001b[0;34m,\u001b[0m \u001b[0mkey\u001b[0m \u001b[0;32min\u001b[0m \u001b[0menumerate\u001b[0m\u001b[0;34m(\u001b[0m\u001b[0mtup\u001b[0m\u001b[0;34m)\u001b[0m\u001b[0;34m:\u001b[0m\u001b[0;34m\u001b[0m\u001b[0;34m\u001b[0m\u001b[0m\n\u001b[1;32m   1387\u001b[0m             \u001b[0;32mif\u001b[0m \u001b[0mis_label_like\u001b[0m\u001b[0;34m(\u001b[0m\u001b[0mkey\u001b[0m\u001b[0;34m)\u001b[0m \u001b[0;32mor\u001b[0m \u001b[0misinstance\u001b[0m\u001b[0;34m(\u001b[0m\u001b[0mkey\u001b[0m\u001b[0;34m,\u001b[0m \u001b[0mtuple\u001b[0m\u001b[0;34m)\u001b[0m\u001b[0;34m:\u001b[0m\u001b[0;34m\u001b[0m\u001b[0;34m\u001b[0m\u001b[0m\n\u001b[0;32m-> 1388\u001b[0;31m                 \u001b[0msection\u001b[0m \u001b[0;34m=\u001b[0m \u001b[0mself\u001b[0m\u001b[0;34m.\u001b[0m\u001b[0m_getitem_axis\u001b[0m\u001b[0;34m(\u001b[0m\u001b[0mkey\u001b[0m\u001b[0;34m,\u001b[0m \u001b[0maxis\u001b[0m\u001b[0;34m=\u001b[0m\u001b[0mi\u001b[0m\u001b[0;34m)\u001b[0m\u001b[0;34m\u001b[0m\u001b[0;34m\u001b[0m\u001b[0m\n\u001b[0m\u001b[1;32m   1389\u001b[0m \u001b[0;34m\u001b[0m\u001b[0m\n\u001b[1;32m   1390\u001b[0m                 \u001b[0;31m# we have yielded a scalar ?\u001b[0m\u001b[0;34m\u001b[0m\u001b[0;34m\u001b[0m\u001b[0;34m\u001b[0m\u001b[0m\n",
      "\u001b[0;32m/nfs/software/stegle/users/acuomo/conda-envs/myscanpy/lib/python3.7/site-packages/pandas/core/indexing.py\u001b[0m in \u001b[0;36m_getitem_axis\u001b[0;34m(self, key, axis)\u001b[0m\n\u001b[1;32m   1962\u001b[0m         \u001b[0;31m# fall thru to straight lookup\u001b[0m\u001b[0;34m\u001b[0m\u001b[0;34m\u001b[0m\u001b[0;34m\u001b[0m\u001b[0m\n\u001b[1;32m   1963\u001b[0m         \u001b[0mself\u001b[0m\u001b[0;34m.\u001b[0m\u001b[0m_validate_key\u001b[0m\u001b[0;34m(\u001b[0m\u001b[0mkey\u001b[0m\u001b[0;34m,\u001b[0m \u001b[0maxis\u001b[0m\u001b[0;34m)\u001b[0m\u001b[0;34m\u001b[0m\u001b[0;34m\u001b[0m\u001b[0m\n\u001b[0;32m-> 1964\u001b[0;31m         \u001b[0;32mreturn\u001b[0m \u001b[0mself\u001b[0m\u001b[0;34m.\u001b[0m\u001b[0m_get_label\u001b[0m\u001b[0;34m(\u001b[0m\u001b[0mkey\u001b[0m\u001b[0;34m,\u001b[0m \u001b[0maxis\u001b[0m\u001b[0;34m=\u001b[0m\u001b[0maxis\u001b[0m\u001b[0;34m)\u001b[0m\u001b[0;34m\u001b[0m\u001b[0;34m\u001b[0m\u001b[0m\n\u001b[0m\u001b[1;32m   1965\u001b[0m \u001b[0;34m\u001b[0m\u001b[0m\n\u001b[1;32m   1966\u001b[0m \u001b[0;34m\u001b[0m\u001b[0m\n",
      "\u001b[0;32m/nfs/software/stegle/users/acuomo/conda-envs/myscanpy/lib/python3.7/site-packages/pandas/core/indexing.py\u001b[0m in \u001b[0;36m_get_label\u001b[0;34m(self, label, axis)\u001b[0m\n\u001b[1;32m    622\u001b[0m             \u001b[0;32mraise\u001b[0m \u001b[0mIndexingError\u001b[0m\u001b[0;34m(\u001b[0m\u001b[0;34m\"no slices here, handle elsewhere\"\u001b[0m\u001b[0;34m)\u001b[0m\u001b[0;34m\u001b[0m\u001b[0;34m\u001b[0m\u001b[0m\n\u001b[1;32m    623\u001b[0m \u001b[0;34m\u001b[0m\u001b[0m\n\u001b[0;32m--> 624\u001b[0;31m         \u001b[0;32mreturn\u001b[0m \u001b[0mself\u001b[0m\u001b[0;34m.\u001b[0m\u001b[0mobj\u001b[0m\u001b[0;34m.\u001b[0m\u001b[0m_xs\u001b[0m\u001b[0;34m(\u001b[0m\u001b[0mlabel\u001b[0m\u001b[0;34m,\u001b[0m \u001b[0maxis\u001b[0m\u001b[0;34m=\u001b[0m\u001b[0maxis\u001b[0m\u001b[0;34m)\u001b[0m\u001b[0;34m\u001b[0m\u001b[0;34m\u001b[0m\u001b[0m\n\u001b[0m\u001b[1;32m    625\u001b[0m \u001b[0;34m\u001b[0m\u001b[0m\n\u001b[1;32m    626\u001b[0m     \u001b[0;32mdef\u001b[0m \u001b[0m_get_loc\u001b[0m\u001b[0;34m(\u001b[0m\u001b[0mself\u001b[0m\u001b[0;34m,\u001b[0m \u001b[0mkey\u001b[0m\u001b[0;34m:\u001b[0m \u001b[0mint\u001b[0m\u001b[0;34m,\u001b[0m \u001b[0maxis\u001b[0m\u001b[0;34m:\u001b[0m \u001b[0mint\u001b[0m\u001b[0;34m)\u001b[0m\u001b[0;34m:\u001b[0m\u001b[0;34m\u001b[0m\u001b[0;34m\u001b[0m\u001b[0m\n",
      "\u001b[0;32m/nfs/software/stegle/users/acuomo/conda-envs/myscanpy/lib/python3.7/site-packages/pandas/core/generic.py\u001b[0m in \u001b[0;36mxs\u001b[0;34m(self, key, axis, level, drop_level)\u001b[0m\n\u001b[1;32m   3535\u001b[0m             \u001b[0mloc\u001b[0m\u001b[0;34m,\u001b[0m \u001b[0mnew_index\u001b[0m \u001b[0;34m=\u001b[0m \u001b[0mself\u001b[0m\u001b[0;34m.\u001b[0m\u001b[0mindex\u001b[0m\u001b[0;34m.\u001b[0m\u001b[0mget_loc_level\u001b[0m\u001b[0;34m(\u001b[0m\u001b[0mkey\u001b[0m\u001b[0;34m,\u001b[0m \u001b[0mdrop_level\u001b[0m\u001b[0;34m=\u001b[0m\u001b[0mdrop_level\u001b[0m\u001b[0;34m)\u001b[0m\u001b[0;34m\u001b[0m\u001b[0;34m\u001b[0m\u001b[0m\n\u001b[1;32m   3536\u001b[0m         \u001b[0;32melse\u001b[0m\u001b[0;34m:\u001b[0m\u001b[0;34m\u001b[0m\u001b[0;34m\u001b[0m\u001b[0m\n\u001b[0;32m-> 3537\u001b[0;31m             \u001b[0mloc\u001b[0m \u001b[0;34m=\u001b[0m \u001b[0mself\u001b[0m\u001b[0;34m.\u001b[0m\u001b[0mindex\u001b[0m\u001b[0;34m.\u001b[0m\u001b[0mget_loc\u001b[0m\u001b[0;34m(\u001b[0m\u001b[0mkey\u001b[0m\u001b[0;34m)\u001b[0m\u001b[0;34m\u001b[0m\u001b[0;34m\u001b[0m\u001b[0m\n\u001b[0m\u001b[1;32m   3538\u001b[0m \u001b[0;34m\u001b[0m\u001b[0m\n\u001b[1;32m   3539\u001b[0m             \u001b[0;32mif\u001b[0m \u001b[0misinstance\u001b[0m\u001b[0;34m(\u001b[0m\u001b[0mloc\u001b[0m\u001b[0;34m,\u001b[0m \u001b[0mnp\u001b[0m\u001b[0;34m.\u001b[0m\u001b[0mndarray\u001b[0m\u001b[0;34m)\u001b[0m\u001b[0;34m:\u001b[0m\u001b[0;34m\u001b[0m\u001b[0;34m\u001b[0m\u001b[0m\n",
      "\u001b[0;32m/nfs/software/stegle/users/acuomo/conda-envs/myscanpy/lib/python3.7/site-packages/pandas/core/indexes/base.py\u001b[0m in \u001b[0;36mget_loc\u001b[0;34m(self, key, method, tolerance)\u001b[0m\n\u001b[1;32m   2646\u001b[0m                 \u001b[0;32mreturn\u001b[0m \u001b[0mself\u001b[0m\u001b[0;34m.\u001b[0m\u001b[0m_engine\u001b[0m\u001b[0;34m.\u001b[0m\u001b[0mget_loc\u001b[0m\u001b[0;34m(\u001b[0m\u001b[0mkey\u001b[0m\u001b[0;34m)\u001b[0m\u001b[0;34m\u001b[0m\u001b[0;34m\u001b[0m\u001b[0m\n\u001b[1;32m   2647\u001b[0m             \u001b[0;32mexcept\u001b[0m \u001b[0mKeyError\u001b[0m\u001b[0;34m:\u001b[0m\u001b[0;34m\u001b[0m\u001b[0;34m\u001b[0m\u001b[0m\n\u001b[0;32m-> 2648\u001b[0;31m                 \u001b[0;32mreturn\u001b[0m \u001b[0mself\u001b[0m\u001b[0;34m.\u001b[0m\u001b[0m_engine\u001b[0m\u001b[0;34m.\u001b[0m\u001b[0mget_loc\u001b[0m\u001b[0;34m(\u001b[0m\u001b[0mself\u001b[0m\u001b[0;34m.\u001b[0m\u001b[0m_maybe_cast_indexer\u001b[0m\u001b[0;34m(\u001b[0m\u001b[0mkey\u001b[0m\u001b[0;34m)\u001b[0m\u001b[0;34m)\u001b[0m\u001b[0;34m\u001b[0m\u001b[0;34m\u001b[0m\u001b[0m\n\u001b[0m\u001b[1;32m   2649\u001b[0m         \u001b[0mindexer\u001b[0m \u001b[0;34m=\u001b[0m \u001b[0mself\u001b[0m\u001b[0;34m.\u001b[0m\u001b[0mget_indexer\u001b[0m\u001b[0;34m(\u001b[0m\u001b[0;34m[\u001b[0m\u001b[0mkey\u001b[0m\u001b[0;34m]\u001b[0m\u001b[0;34m,\u001b[0m \u001b[0mmethod\u001b[0m\u001b[0;34m=\u001b[0m\u001b[0mmethod\u001b[0m\u001b[0;34m,\u001b[0m \u001b[0mtolerance\u001b[0m\u001b[0;34m=\u001b[0m\u001b[0mtolerance\u001b[0m\u001b[0;34m)\u001b[0m\u001b[0;34m\u001b[0m\u001b[0;34m\u001b[0m\u001b[0m\n\u001b[1;32m   2650\u001b[0m         \u001b[0;32mif\u001b[0m \u001b[0mindexer\u001b[0m\u001b[0;34m.\u001b[0m\u001b[0mndim\u001b[0m \u001b[0;34m>\u001b[0m \u001b[0;36m1\u001b[0m \u001b[0;32mor\u001b[0m \u001b[0mindexer\u001b[0m\u001b[0;34m.\u001b[0m\u001b[0msize\u001b[0m \u001b[0;34m>\u001b[0m \u001b[0;36m1\u001b[0m\u001b[0;34m:\u001b[0m\u001b[0;34m\u001b[0m\u001b[0;34m\u001b[0m\u001b[0m\n",
      "\u001b[0;32mpandas/_libs/index.pyx\u001b[0m in \u001b[0;36mpandas._libs.index.IndexEngine.get_loc\u001b[0;34m()\u001b[0m\n",
      "\u001b[0;32mpandas/_libs/index.pyx\u001b[0m in \u001b[0;36mpandas._libs.index.IndexEngine.get_loc\u001b[0;34m()\u001b[0m\n",
      "\u001b[0;32mpandas/_libs/hashtable_class_helper.pxi\u001b[0m in \u001b[0;36mpandas._libs.hashtable.PyObjectHashTable.get_item\u001b[0;34m()\u001b[0m\n",
      "\u001b[0;32mpandas/_libs/hashtable_class_helper.pxi\u001b[0m in \u001b[0;36mpandas._libs.hashtable.PyObjectHashTable.get_item\u001b[0;34m()\u001b[0m\n",
      "\u001b[0;31mKeyError\u001b[0m: '6_131691964_C_A'"
     ]
    }
   ],
   "source": [
    "snp_idx = bim.loc[snp_id, 'i']\n",
    "sample_indices = fam.loc[sample_list,'i'].tolist()\n",
    "\n",
    "genotypes = bed[snp_idx, sample_indices].compute()\n",
    "\n",
    "g_ds = pd.Series(genotypes, index=sample_list)\n",
    "g_ds.name = 'Genotype'\n",
    "g_ds.head()"
   ]
  },
  {
   "cell_type": "code",
   "execution_count": null,
   "id": "75b08d37",
   "metadata": {},
   "outputs": [],
   "source": []
  },
  {
   "cell_type": "code",
   "execution_count": 10,
   "id": "72a2fded",
   "metadata": {},
   "outputs": [],
   "source": [
    "geno_folder = \"/hps/nobackup/stegle/users/acuomo/all_scripts/struct_LMM2/sc_neuroseq/May2021/genetic_effect/MOFA10/flip_signs/genotypes/\""
   ]
  },
  {
   "cell_type": "code",
   "execution_count": 14,
   "id": "502e5737",
   "metadata": {},
   "outputs": [
    {
     "data": {
      "text/plain": [
       "'/hps/nobackup/stegle/users/acuomo/all_scripts/struct_LMM2/sc_neuroseq/May2021/genetic_effect/MOFA10/flip_signs/genotypes/ABHD12B-14_51328222_C_T_g.csv'"
      ]
     },
     "execution_count": 14,
     "metadata": {},
     "output_type": "execute_result"
    }
   ],
   "source": [
    "geno_file = geno_folder + gene + \"-\" + snp_id + \"_g.csv\"\n",
    "geno_file"
   ]
  },
  {
   "cell_type": "code",
   "execution_count": 15,
   "id": "9990e53a",
   "metadata": {},
   "outputs": [],
   "source": [
    "g_ds.to_csv(geno_file)"
   ]
  },
  {
   "cell_type": "code",
   "execution_count": null,
   "id": "1d009810",
   "metadata": {},
   "outputs": [],
   "source": []
  },
  {
   "cell_type": "code",
   "execution_count": null,
   "id": "7c0e533a",
   "metadata": {},
   "outputs": [],
   "source": []
  },
  {
   "cell_type": "code",
   "execution_count": null,
   "id": "e11eb919",
   "metadata": {},
   "outputs": [],
   "source": [
    "# snp_id = '5_81395824_T_G'   # ATG10\n",
    "# snp_id = '15_78849034_T_C'  # CHRNA3\n",
    "# snp_id = '17_7207964_A_C'   # EIF5A\n",
    "# snp_id = '5_153526051_G_A'  # GALNT10\n",
    "# snp_id = '17_43925297_C_T'  # MAPT-AS1\n",
    "# snp_id = '19_18275532_G_A'  # MAST3\n",
    "# snp_id = '12_123604053_C_T' # MPHOSPH9\n",
    "# snp_id = '5_176904279_C_G'  # PRR7-AS1\n",
    "# snp_id = '16_31117698_C_T'  # PRSS36\n",
    "# snp_id = '12_49464449_A_G'  # RHEBL1\n",
    "# snp_id = '1_1660978_C_A'    # SLC35E2\n",
    "# snp_id = '12_57509569_C_T'  # STAT6\n",
    "# snp_id = '15_43597297_T_A'  # TUBGCP4"
   ]
  },
  {
   "cell_type": "code",
   "execution_count": null,
   "id": "19b3552e",
   "metadata": {},
   "outputs": [],
   "source": [
    "# g_ds.to_csv(\"/hps/nobackup/stegle/users/acuomo/all_scripts/struct_LMM2/sc_neuroseq/coloc_examples/ATG10_g.csv\")\n",
    "# g_ds.to_csv(\"/hps/nobackup/stegle/users/acuomo/all_scripts/struct_LMM2/sc_neuroseq/coloc_examples/CHRNA3_g.csv\")\n",
    "# g_ds.to_csv(\"/hps/nobackup/stegle/users/acuomo/all_scripts/struct_LMM2/sc_neuroseq/coloc_examples/EIF5A_g.csv\")\n",
    "# g_ds.to_csv(\"/hps/nobackup/stegle/users/acuomo/all_scripts/struct_LMM2/sc_neuroseq/coloc_examples/GALNT10_g.csv\")\n",
    "# g_ds.to_csv(\"/hps/nobackup/stegle/users/acuomo/all_scripts/struct_LMM2/sc_neuroseq/coloc_examples/MAPT-AS1_g.csv\")\n",
    "# g_ds.to_csv(\"/hps/nobackup/stegle/users/acuomo/all_scripts/struct_LMM2/sc_neuroseq/coloc_examples/MAST3_g.csv\")\n",
    "# g_ds.to_csv(\"/hps/nobackup/stegle/users/acuomo/all_scripts/struct_LMM2/sc_neuroseq/coloc_examples/MPHOSPH9_g.csv\")\n",
    "# g_ds.to_csv(\"/hps/nobackup/stegle/users/acuomo/all_scripts/struct_LMM2/sc_neuroseq/coloc_examples/PRR7-AS1_g.csv\")\n",
    "# g_ds.to_csv(\"/hps/nobackup/stegle/users/acuomo/all_scripts/struct_LMM2/sc_neuroseq/coloc_examples/PRSS36_g.csv\")\n",
    "# g_ds.to_csv(\"/hps/nobackup/stegle/users/acuomo/all_scripts/struct_LMM2/sc_neuroseq/coloc_examples/RHEBL1_g.csv\")\n",
    "# g_ds.to_csv(\"/hps/nobackup/stegle/users/acuomo/all_scripts/struct_LMM2/sc_neuroseq/coloc_examples/SLC35E2_g.csv\")\n",
    "# g_ds.to_csv(\"/hps/nobackup/stegle/users/acuomo/all_scripts/struct_LMM2/sc_neuroseq/coloc_examples/STAT6_g.csv\")\n",
    "# g_ds.to_csv(\"/hps/nobackup/stegle/users/acuomo/all_scripts/struct_LMM2/sc_neuroseq/coloc_examples/TUBGCP4_g.csv\")"
   ]
  }
 ],
 "metadata": {
  "kernelspec": {
   "display_name": "Python 3",
   "language": "python",
   "name": "python3"
  },
  "language_info": {
   "codemirror_mode": {
    "name": "ipython",
    "version": 3
   },
   "file_extension": ".py",
   "mimetype": "text/x-python",
   "name": "python",
   "nbconvert_exporter": "python",
   "pygments_lexer": "ipython3",
   "version": "3.7.6"
  }
 },
 "nbformat": 4,
 "nbformat_minor": 5
}
