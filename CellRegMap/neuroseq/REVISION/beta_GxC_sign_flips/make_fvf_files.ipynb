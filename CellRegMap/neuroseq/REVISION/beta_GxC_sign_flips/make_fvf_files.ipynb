{
 "cells": [
  {
   "cell_type": "code",
   "execution_count": 55,
   "id": "f2335451",
   "metadata": {},
   "outputs": [],
   "source": [
    "mydir = \"/hps/nobackup2/stegle/users/acuomo/all_scripts/struct_LMM2/sc_neuroseq/May2021/genetic_effect/MOFA10/flip_signs/\""
   ]
  },
  {
   "cell_type": "code",
   "execution_count": 56,
   "id": "d38c97de",
   "metadata": {},
   "outputs": [
    {
     "data": {
      "text/html": [
       "188"
      ],
      "text/latex": [
       "188"
      ],
      "text/markdown": [
       "188"
      ],
      "text/plain": [
       "[1] 188"
      ]
     },
     "metadata": {},
     "output_type": "display_data"
    }
   ],
   "source": [
    "input_files_folders = list.files(mydir, \"input\")\n",
    "length(input_files_folders)"
   ]
  },
  {
   "cell_type": "code",
   "execution_count": 57,
   "id": "4a183ded",
   "metadata": {},
   "outputs": [
    {
     "data": {
      "text/html": [
       "<ol class=list-inline>\n",
       "\t<li>'input_files_ABHD12B-14_51328222_C_T_bottom20quantile'</li>\n",
       "\t<li>'input_files_ABHD12B-14_51328222_C_T_top20quantile'</li>\n",
       "\t<li>'input_files_ADSL-22_40757228_A_C_bottom20quantile'</li>\n",
       "\t<li>'input_files_ADSL-22_40757228_A_C_top20quantile'</li>\n",
       "\t<li>'input_files_AIM1L-1_26673825_C_T_bottom20quantile'</li>\n",
       "\t<li>'input_files_AIM1L-1_26673825_C_T_top20quantile'</li>\n",
       "</ol>\n"
      ],
      "text/latex": [
       "\\begin{enumerate*}\n",
       "\\item 'input\\_files\\_ABHD12B-14\\_51328222\\_C\\_T\\_bottom20quantile'\n",
       "\\item 'input\\_files\\_ABHD12B-14\\_51328222\\_C\\_T\\_top20quantile'\n",
       "\\item 'input\\_files\\_ADSL-22\\_40757228\\_A\\_C\\_bottom20quantile'\n",
       "\\item 'input\\_files\\_ADSL-22\\_40757228\\_A\\_C\\_top20quantile'\n",
       "\\item 'input\\_files\\_AIM1L-1\\_26673825\\_C\\_T\\_bottom20quantile'\n",
       "\\item 'input\\_files\\_AIM1L-1\\_26673825\\_C\\_T\\_top20quantile'\n",
       "\\end{enumerate*}\n"
      ],
      "text/markdown": [
       "1. 'input_files_ABHD12B-14_51328222_C_T_bottom20quantile'\n",
       "2. 'input_files_ABHD12B-14_51328222_C_T_top20quantile'\n",
       "3. 'input_files_ADSL-22_40757228_A_C_bottom20quantile'\n",
       "4. 'input_files_ADSL-22_40757228_A_C_top20quantile'\n",
       "5. 'input_files_AIM1L-1_26673825_C_T_bottom20quantile'\n",
       "6. 'input_files_AIM1L-1_26673825_C_T_top20quantile'\n",
       "\n",
       "\n"
      ],
      "text/plain": [
       "[1] \"input_files_ABHD12B-14_51328222_C_T_bottom20quantile\"\n",
       "[2] \"input_files_ABHD12B-14_51328222_C_T_top20quantile\"   \n",
       "[3] \"input_files_ADSL-22_40757228_A_C_bottom20quantile\"   \n",
       "[4] \"input_files_ADSL-22_40757228_A_C_top20quantile\"      \n",
       "[5] \"input_files_AIM1L-1_26673825_C_T_bottom20quantile\"   \n",
       "[6] \"input_files_AIM1L-1_26673825_C_T_top20quantile\"      "
      ]
     },
     "metadata": {},
     "output_type": "display_data"
    }
   ],
   "source": [
    "head(input_files_folders)"
   ]
  },
  {
   "cell_type": "code",
   "execution_count": 58,
   "id": "34dcdcf2",
   "metadata": {},
   "outputs": [
    {
     "data": {
      "text/html": [
       "<table>\n",
       "<thead><tr><th scope=col>hgnc_symbol</th><th scope=col>ensembl_gene_id</th><th scope=col>names</th></tr></thead>\n",
       "<tbody>\n",
       "\t<tr><td>SLC25A26       </td><td>ENSG00000261657</td><td>SLC25A26       </td></tr>\n",
       "\t<tr><td>               </td><td>ENSG00000223116</td><td>               </td></tr>\n",
       "\t<tr><td>HMGA1P6        </td><td>ENSG00000233440</td><td>HMGA1P6        </td></tr>\n",
       "\t<tr><td>RNY3P4         </td><td>ENSG00000207157</td><td>RNY3P4         </td></tr>\n",
       "\t<tr><td>LINC00362      </td><td>ENSG00000229483</td><td>LINC00362      </td></tr>\n",
       "\t<tr><td>RNU6-58P       </td><td>ENSG00000252952</td><td>RNU6-58P       </td></tr>\n",
       "</tbody>\n",
       "</table>\n"
      ],
      "text/latex": [
       "\\begin{tabular}{r|lll}\n",
       " hgnc\\_symbol & ensembl\\_gene\\_id & names\\\\\n",
       "\\hline\n",
       "\t SLC25A26        & ENSG00000261657 & SLC25A26       \\\\\n",
       "\t                 & ENSG00000223116 &                \\\\\n",
       "\t HMGA1P6         & ENSG00000233440 & HMGA1P6        \\\\\n",
       "\t RNY3P4          & ENSG00000207157 & RNY3P4         \\\\\n",
       "\t LINC00362       & ENSG00000229483 & LINC00362      \\\\\n",
       "\t RNU6-58P        & ENSG00000252952 & RNU6-58P       \\\\\n",
       "\\end{tabular}\n"
      ],
      "text/markdown": [
       "\n",
       "| hgnc_symbol | ensembl_gene_id | names |\n",
       "|---|---|---|\n",
       "| SLC25A26        | ENSG00000261657 | SLC25A26        |\n",
       "|                 | ENSG00000223116 |                 |\n",
       "| HMGA1P6         | ENSG00000233440 | HMGA1P6         |\n",
       "| RNY3P4          | ENSG00000207157 | RNY3P4          |\n",
       "| LINC00362       | ENSG00000229483 | LINC00362       |\n",
       "| RNU6-58P        | ENSG00000252952 | RNU6-58P        |\n",
       "\n"
      ],
      "text/plain": [
       "  hgnc_symbol ensembl_gene_id names    \n",
       "1 SLC25A26    ENSG00000261657 SLC25A26 \n",
       "2             ENSG00000223116          \n",
       "3 HMGA1P6     ENSG00000233440 HMGA1P6  \n",
       "4 RNY3P4      ENSG00000207157 RNY3P4   \n",
       "5 LINC00362   ENSG00000229483 LINC00362\n",
       "6 RNU6-58P    ENSG00000252952 RNU6-58P "
      ]
     },
     "metadata": {},
     "output_type": "display_data"
    }
   ],
   "source": [
    "#load map HGNC to ensembl\n",
    "mapping_df = read.csv('/nfs/leia/research/stegle/dseaton/genomes/hg19/annotation/geneid_mappings/hgnc_symbol2ensembl_gene_id.txt', sep='\\t')\n",
    "mapping_df$names = as.character(mapping_df$hgnc_symbol)\n",
    "head(mapping_df)"
   ]
  },
  {
   "cell_type": "code",
   "execution_count": 59,
   "id": "02ca3a18",
   "metadata": {},
   "outputs": [],
   "source": [
    "for (myfolder in input_files_folders[1]){\n",
    "    dir1 = paste0(mydir, myfolder)\n",
    "    eqtl = gsub(\"_top20quantile\",\"\",gsub(\"_bottom20quantile\",\"\",gsub(\"input_files_\",\"\",myfolder)))\n",
    "    snp = gsub(\".*-\",\"\",eqtl)\n",
    "    gene_name = gsub(\"-.*\",\"\",eqtl)\n",
    "    gene = as.character(mapping_df[grep(gene_name, mapping_df$names),\"ensembl_gene_id\"])\n",
    "    fvf_df =  data.frame(snp_id=snp, feature=gene)\n",
    "    fvf_filename = paste0(mydir,myfolder,\"/fvf.tsv\")\n",
    "    write.table(fvf_df, fvf_filename, sep=\"\\t\", quote=F)\n",
    "}"
   ]
  },
  {
   "cell_type": "code",
   "execution_count": null,
   "id": "aa365faa",
   "metadata": {},
   "outputs": [],
   "source": []
  },
  {
   "cell_type": "code",
   "execution_count": null,
   "id": "34e7e6a9",
   "metadata": {},
   "outputs": [],
   "source": []
  },
  {
   "cell_type": "code",
   "execution_count": 60,
   "id": "a803de3c",
   "metadata": {},
   "outputs": [
    {
     "data": {
      "text/html": [
       "<ol class=list-inline>\n",
       "\t<li>'covariates.tsv'</li>\n",
       "\t<li>'fvf.tsv'</li>\n",
       "\t<li>'noise_matrix.tsv'</li>\n",
       "\t<li>'phenotypes.tsv'</li>\n",
       "\t<li>'results'</li>\n",
       "</ol>\n"
      ],
      "text/latex": [
       "\\begin{enumerate*}\n",
       "\\item 'covariates.tsv'\n",
       "\\item 'fvf.tsv'\n",
       "\\item 'noise\\_matrix.tsv'\n",
       "\\item 'phenotypes.tsv'\n",
       "\\item 'results'\n",
       "\\end{enumerate*}\n"
      ],
      "text/markdown": [
       "1. 'covariates.tsv'\n",
       "2. 'fvf.tsv'\n",
       "3. 'noise_matrix.tsv'\n",
       "4. 'phenotypes.tsv'\n",
       "5. 'results'\n",
       "\n",
       "\n"
      ],
      "text/plain": [
       "[1] \"covariates.tsv\"   \"fvf.tsv\"          \"noise_matrix.tsv\" \"phenotypes.tsv\"  \n",
       "[5] \"results\"         "
      ]
     },
     "metadata": {},
     "output_type": "display_data"
    }
   ],
   "source": [
    "i = 1\n",
    "myfolder = input_files_folders[1]\n",
    "dir1 = paste0(mydir, myfolder)\n",
    "list.files(dir1)"
   ]
  },
  {
   "cell_type": "code",
   "execution_count": 61,
   "id": "52d458c8",
   "metadata": {},
   "outputs": [
    {
     "data": {
      "text/html": [
       "'input_files_ABHD12B-14_51328222_C_T_bottom20quantile'"
      ],
      "text/latex": [
       "'input\\_files\\_ABHD12B-14\\_51328222\\_C\\_T\\_bottom20quantile'"
      ],
      "text/markdown": [
       "'input_files_ABHD12B-14_51328222_C_T_bottom20quantile'"
      ],
      "text/plain": [
       "[1] \"input_files_ABHD12B-14_51328222_C_T_bottom20quantile\""
      ]
     },
     "metadata": {},
     "output_type": "display_data"
    }
   ],
   "source": [
    "myfolder"
   ]
  },
  {
   "cell_type": "code",
   "execution_count": 62,
   "id": "4e64936d",
   "metadata": {},
   "outputs": [
    {
     "data": {
      "text/html": [
       "'ABHD12B-14_51328222_C_T'"
      ],
      "text/latex": [
       "'ABHD12B-14\\_51328222\\_C\\_T'"
      ],
      "text/markdown": [
       "'ABHD12B-14_51328222_C_T'"
      ],
      "text/plain": [
       "[1] \"ABHD12B-14_51328222_C_T\""
      ]
     },
     "metadata": {},
     "output_type": "display_data"
    }
   ],
   "source": [
    "eqtl = gsub(\"_top20quantile\",\"\",gsub(\"_bottom20quantile\",\"\",gsub(\"input_files_\",\"\",myfolder)))\n",
    "eqtl"
   ]
  },
  {
   "cell_type": "code",
   "execution_count": 63,
   "id": "5d1b0471",
   "metadata": {},
   "outputs": [
    {
     "data": {
      "text/html": [
       "'14_51328222_C_T'"
      ],
      "text/latex": [
       "'14\\_51328222\\_C\\_T'"
      ],
      "text/markdown": [
       "'14_51328222_C_T'"
      ],
      "text/plain": [
       "[1] \"14_51328222_C_T\""
      ]
     },
     "metadata": {},
     "output_type": "display_data"
    }
   ],
   "source": [
    "snp = gsub(\".*-\",\"\",eqtl)\n",
    "snp"
   ]
  },
  {
   "cell_type": "code",
   "execution_count": 64,
   "id": "3f29dece",
   "metadata": {},
   "outputs": [
    {
     "data": {
      "text/html": [
       "'ABHD12B'"
      ],
      "text/latex": [
       "'ABHD12B'"
      ],
      "text/markdown": [
       "'ABHD12B'"
      ],
      "text/plain": [
       "[1] \"ABHD12B\""
      ]
     },
     "metadata": {},
     "output_type": "display_data"
    }
   ],
   "source": [
    "gene_name = gsub(\"-.*\",\"\",eqtl)\n",
    "gene_name"
   ]
  },
  {
   "cell_type": "code",
   "execution_count": 65,
   "id": "beef5e51",
   "metadata": {},
   "outputs": [
    {
     "data": {
      "text/html": [
       "<table>\n",
       "<thead><tr><th scope=col>hgnc_symbol</th><th scope=col>ensembl_gene_id</th></tr></thead>\n",
       "<tbody>\n",
       "\t<tr><td>SLC25A26       </td><td>ENSG00000261657</td></tr>\n",
       "\t<tr><td>               </td><td>ENSG00000223116</td></tr>\n",
       "\t<tr><td>HMGA1P6        </td><td>ENSG00000233440</td></tr>\n",
       "\t<tr><td>RNY3P4         </td><td>ENSG00000207157</td></tr>\n",
       "\t<tr><td>LINC00362      </td><td>ENSG00000229483</td></tr>\n",
       "\t<tr><td>RNU6-58P       </td><td>ENSG00000252952</td></tr>\n",
       "</tbody>\n",
       "</table>\n"
      ],
      "text/latex": [
       "\\begin{tabular}{r|ll}\n",
       " hgnc\\_symbol & ensembl\\_gene\\_id\\\\\n",
       "\\hline\n",
       "\t SLC25A26        & ENSG00000261657\\\\\n",
       "\t                 & ENSG00000223116\\\\\n",
       "\t HMGA1P6         & ENSG00000233440\\\\\n",
       "\t RNY3P4          & ENSG00000207157\\\\\n",
       "\t LINC00362       & ENSG00000229483\\\\\n",
       "\t RNU6-58P        & ENSG00000252952\\\\\n",
       "\\end{tabular}\n"
      ],
      "text/markdown": [
       "\n",
       "| hgnc_symbol | ensembl_gene_id |\n",
       "|---|---|\n",
       "| SLC25A26        | ENSG00000261657 |\n",
       "|                 | ENSG00000223116 |\n",
       "| HMGA1P6         | ENSG00000233440 |\n",
       "| RNY3P4          | ENSG00000207157 |\n",
       "| LINC00362       | ENSG00000229483 |\n",
       "| RNU6-58P        | ENSG00000252952 |\n",
       "\n"
      ],
      "text/plain": [
       "  hgnc_symbol ensembl_gene_id\n",
       "1 SLC25A26    ENSG00000261657\n",
       "2             ENSG00000223116\n",
       "3 HMGA1P6     ENSG00000233440\n",
       "4 RNY3P4      ENSG00000207157\n",
       "5 LINC00362   ENSG00000229483\n",
       "6 RNU6-58P    ENSG00000252952"
      ]
     },
     "metadata": {},
     "output_type": "display_data"
    }
   ],
   "source": [
    "#load map HGNC to ensembl\n",
    "mapping_df = read.csv('/nfs/leia/research/stegle/dseaton/genomes/hg19/annotation/geneid_mappings/hgnc_symbol2ensembl_gene_id.txt', sep='\\t')\n",
    "head(mapping_df)"
   ]
  },
  {
   "cell_type": "code",
   "execution_count": 66,
   "id": "eccac81b",
   "metadata": {},
   "outputs": [
    {
     "data": {
      "text/html": [
       "'ENSG00000131969'"
      ],
      "text/latex": [
       "'ENSG00000131969'"
      ],
      "text/markdown": [
       "'ENSG00000131969'"
      ],
      "text/plain": [
       "[1] \"ENSG00000131969\""
      ]
     },
     "metadata": {},
     "output_type": "display_data"
    }
   ],
   "source": [
    "mapping_df$names = as.character(mapping_df$hgnc_symbol)\n",
    "gene = as.character(mapping_df[grep(gene_name, mapping_df$names),\"ensembl_gene_id\"])\n",
    "gene"
   ]
  },
  {
   "cell_type": "code",
   "execution_count": 67,
   "id": "adc5b686",
   "metadata": {},
   "outputs": [
    {
     "data": {
      "text/html": [
       "<table>\n",
       "<thead><tr><th scope=col>snp_id</th><th scope=col>feature</th></tr></thead>\n",
       "<tbody>\n",
       "\t<tr><td>14_51328222_C_T</td><td>ENSG00000131969</td></tr>\n",
       "</tbody>\n",
       "</table>\n"
      ],
      "text/latex": [
       "\\begin{tabular}{r|ll}\n",
       " snp\\_id & feature\\\\\n",
       "\\hline\n",
       "\t 14\\_51328222\\_C\\_T & ENSG00000131969      \\\\\n",
       "\\end{tabular}\n"
      ],
      "text/markdown": [
       "\n",
       "| snp_id | feature |\n",
       "|---|---|\n",
       "| 14_51328222_C_T | ENSG00000131969 |\n",
       "\n"
      ],
      "text/plain": [
       "  snp_id          feature        \n",
       "1 14_51328222_C_T ENSG00000131969"
      ]
     },
     "metadata": {},
     "output_type": "display_data"
    }
   ],
   "source": [
    "fvf_df =  data.frame(snp_id=snp, feature=gene)\n",
    "head(fvf_df)"
   ]
  },
  {
   "cell_type": "code",
   "execution_count": 68,
   "id": "e67ad9ea",
   "metadata": {},
   "outputs": [
    {
     "data": {
      "text/html": [
       "'/hps/nobackup2/stegle/users/acuomo/all_scripts/struct_LMM2/sc_neuroseq/May2021/genetic_effect/MOFA10/flip_signs/input_files_ABHD12B-14_51328222_C_T_bottom20quantile/fvf.tsv'"
      ],
      "text/latex": [
       "'/hps/nobackup2/stegle/users/acuomo/all\\_scripts/struct\\_LMM2/sc\\_neuroseq/May2021/genetic\\_effect/MOFA10/flip\\_signs/input\\_files\\_ABHD12B-14\\_51328222\\_C\\_T\\_bottom20quantile/fvf.tsv'"
      ],
      "text/markdown": [
       "'/hps/nobackup2/stegle/users/acuomo/all_scripts/struct_LMM2/sc_neuroseq/May2021/genetic_effect/MOFA10/flip_signs/input_files_ABHD12B-14_51328222_C_T_bottom20quantile/fvf.tsv'"
      ],
      "text/plain": [
       "[1] \"/hps/nobackup2/stegle/users/acuomo/all_scripts/struct_LMM2/sc_neuroseq/May2021/genetic_effect/MOFA10/flip_signs/input_files_ABHD12B-14_51328222_C_T_bottom20quantile/fvf.tsv\""
      ]
     },
     "metadata": {},
     "output_type": "display_data"
    }
   ],
   "source": [
    "fvf_filename = paste0(mydir,myfolder,\"/fvf.tsv\")\n",
    "fvf_filename"
   ]
  },
  {
   "cell_type": "code",
   "execution_count": 69,
   "id": "1e986a10",
   "metadata": {},
   "outputs": [],
   "source": [
    "write.table(fvf_df, fvf_filename, sep=\"\\t\", quote=F, row.names = F)"
   ]
  },
  {
   "cell_type": "code",
   "execution_count": null,
   "id": "786b1a5c",
   "metadata": {},
   "outputs": [],
   "source": []
  },
  {
   "cell_type": "code",
   "execution_count": 12,
   "id": "ea85cc13",
   "metadata": {},
   "outputs": [
    {
     "data": {
      "text/html": [
       "<table>\n",
       "<thead><tr><th scope=col>ensembl_gene_id</th><th scope=col>HPSI0114i.bezi_3</th><th scope=col>HPSI0114i.eipl_1</th><th scope=col>HPSI0114i.fikt_3</th><th scope=col>HPSI0114i.kolf_2</th></tr></thead>\n",
       "<tbody>\n",
       "\t<tr><td>ENSG00000261657</td><td>0.1325301      </td><td>0.3055556      </td><td>0.1            </td><td>0.2866665      </td></tr>\n",
       "\t<tr><td>ENSG00000229483</td><td>0.0000000      </td><td>0.0000000      </td><td>0.0            </td><td>0.0000000      </td></tr>\n",
       "\t<tr><td>ENSG00000232849</td><td>0.0000000      </td><td>0.0000000      </td><td>0.0            </td><td>0.0000000      </td></tr>\n",
       "\t<tr><td>ENSG00000229558</td><td>0.0000000      </td><td>0.0000000      </td><td>0.0            </td><td>0.0000000      </td></tr>\n",
       "\t<tr><td>ENSG00000224394</td><td>0.0000000      </td><td>0.0000000      </td><td>0.0            </td><td>0.0000000      </td></tr>\n",
       "</tbody>\n",
       "</table>\n"
      ],
      "text/latex": [
       "\\begin{tabular}{r|lllll}\n",
       " ensembl\\_gene\\_id & HPSI0114i.bezi\\_3 & HPSI0114i.eipl\\_1 & HPSI0114i.fikt\\_3 & HPSI0114i.kolf\\_2\\\\\n",
       "\\hline\n",
       "\t ENSG00000261657 & 0.1325301       & 0.3055556       & 0.1             & 0.2866665      \\\\\n",
       "\t ENSG00000229483 & 0.0000000       & 0.0000000       & 0.0             & 0.0000000      \\\\\n",
       "\t ENSG00000232849 & 0.0000000       & 0.0000000       & 0.0             & 0.0000000      \\\\\n",
       "\t ENSG00000229558 & 0.0000000       & 0.0000000       & 0.0             & 0.0000000      \\\\\n",
       "\t ENSG00000224394 & 0.0000000       & 0.0000000       & 0.0             & 0.0000000      \\\\\n",
       "\\end{tabular}\n"
      ],
      "text/markdown": [
       "\n",
       "| ensembl_gene_id | HPSI0114i.bezi_3 | HPSI0114i.eipl_1 | HPSI0114i.fikt_3 | HPSI0114i.kolf_2 |\n",
       "|---|---|---|---|---|\n",
       "| ENSG00000261657 | 0.1325301       | 0.3055556       | 0.1             | 0.2866665       |\n",
       "| ENSG00000229483 | 0.0000000       | 0.0000000       | 0.0             | 0.0000000       |\n",
       "| ENSG00000232849 | 0.0000000       | 0.0000000       | 0.0             | 0.0000000       |\n",
       "| ENSG00000229558 | 0.0000000       | 0.0000000       | 0.0             | 0.0000000       |\n",
       "| ENSG00000224394 | 0.0000000       | 0.0000000       | 0.0             | 0.0000000       |\n",
       "\n"
      ],
      "text/plain": [
       "  ensembl_gene_id HPSI0114i.bezi_3 HPSI0114i.eipl_1 HPSI0114i.fikt_3\n",
       "1 ENSG00000261657 0.1325301        0.3055556        0.1             \n",
       "2 ENSG00000229483 0.0000000        0.0000000        0.0             \n",
       "3 ENSG00000232849 0.0000000        0.0000000        0.0             \n",
       "4 ENSG00000229558 0.0000000        0.0000000        0.0             \n",
       "5 ENSG00000224394 0.0000000        0.0000000        0.0             \n",
       "  HPSI0114i.kolf_2\n",
       "1 0.2866665       \n",
       "2 0.0000000       \n",
       "3 0.0000000       \n",
       "4 0.0000000       \n",
       "5 0.0000000       "
      ]
     },
     "metadata": {},
     "output_type": "display_data"
    }
   ],
   "source": [
    "# Phenotype file uses Ensembl gene IDs so I need to use those\n",
    "pheno = read.csv(paste0(dir1, \"/phenotypes.tsv\"),sep=\"\\t\")\n",
    "pheno[1:5,1:5]"
   ]
  },
  {
   "cell_type": "code",
   "execution_count": null,
   "id": "5dbc7b3d",
   "metadata": {},
   "outputs": [],
   "source": []
  }
 ],
 "metadata": {
  "kernelspec": {
   "display_name": "R",
   "language": "R",
   "name": "ir"
  },
  "language_info": {
   "codemirror_mode": "r",
   "file_extension": ".r",
   "mimetype": "text/x-r-source",
   "name": "R",
   "pygments_lexer": "r",
   "version": "3.6.1"
  }
 },
 "nbformat": 4,
 "nbformat_minor": 5
}
