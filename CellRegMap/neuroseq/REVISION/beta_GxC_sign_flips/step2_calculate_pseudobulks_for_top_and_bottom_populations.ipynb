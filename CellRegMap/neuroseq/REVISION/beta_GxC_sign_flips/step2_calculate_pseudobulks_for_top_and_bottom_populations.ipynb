{
 "cells": [
  {
   "cell_type": "code",
   "execution_count": 18,
   "id": "5e74baf6",
   "metadata": {},
   "outputs": [],
   "source": [
    "import scanpy as sc\n",
    "import pandas as pd\n",
    "import re"
   ]
  },
  {
   "cell_type": "code",
   "execution_count": 19,
   "id": "36e42830",
   "metadata": {},
   "outputs": [
    {
     "data": {
      "text/plain": [
       "(250923, 32738)"
      ]
     },
     "execution_count": 19,
     "metadata": {},
     "output_type": "execute_result"
    }
   ],
   "source": [
    "### day 30\n",
    "file = '/nfs/leia/research/stegle/dseaton/hipsci/singlecell_neuroseq/data/data_processed/pool1_13_noddd_D30/pool1_13_noddd_D30.scanpy.h5'\n",
    "adatafull_d30 = sc.read(file)\n",
    "adatafull_d30.shape"
   ]
  },
  {
   "cell_type": "code",
   "execution_count": 20,
   "id": "ec0a1588",
   "metadata": {},
   "outputs": [],
   "source": [
    "### day 52\n",
    "file = '/nfs/leia/research/stegle/dseaton/hipsci/singlecell_neuroseq/data/data_processed/pool1_17_D52/pool1_17_D52.scanpy.h5'\n",
    "adatafull_d52 = sc.read(file)"
   ]
  },
  {
   "cell_type": "code",
   "execution_count": 21,
   "id": "7a078717",
   "metadata": {},
   "outputs": [
    {
     "data": {
      "text/plain": [
       "(523094, 32738)"
      ]
     },
     "execution_count": 21,
     "metadata": {},
     "output_type": "execute_result"
    }
   ],
   "source": [
    "adatafull_d52.shape"
   ]
  },
  {
   "cell_type": "code",
   "execution_count": 22,
   "id": "6c3b6354",
   "metadata": {},
   "outputs": [],
   "source": [
    "# adatafull_d52.obs"
   ]
  },
  {
   "cell_type": "code",
   "execution_count": 23,
   "id": "875e0002",
   "metadata": {},
   "outputs": [],
   "source": [
    "##### cells from top pseudocells for eQTL XX only\n",
    "flip_folder = \"/hps/nobackup/stegle/users/acuomo/all_scripts/struct_LMM2/sc_neuroseq/May2021/genetic_effect/MOFA10/flip_signs/\""
   ]
  },
  {
   "cell_type": "code",
   "execution_count": 24,
   "id": "0c99a9dc",
   "metadata": {},
   "outputs": [],
   "source": [
    "import glob\n",
    "myfiles = glob.glob(flip_folder+\"*map.csv\")"
   ]
  },
  {
   "cell_type": "code",
   "execution_count": 25,
   "id": "cc774e64",
   "metadata": {
    "scrolled": true
   },
   "outputs": [
    {
     "data": {
      "text/plain": [
       "['/hps/nobackup/stegle/users/acuomo/all_scripts/struct_LMM2/sc_neuroseq/May2021/genetic_effect/MOFA10/flip_signs/C19orf10-19_4664038_T_C_bottom20quantile_pseudocell_cell_map.csv',\n",
       " '/hps/nobackup/stegle/users/acuomo/all_scripts/struct_LMM2/sc_neuroseq/May2021/genetic_effect/MOFA10/flip_signs/SLC18A2-10_119020918_A_G_top20quantile_pseudocell_cell_map.csv',\n",
       " '/hps/nobackup/stegle/users/acuomo/all_scripts/struct_LMM2/sc_neuroseq/May2021/genetic_effect/MOFA10/flip_signs/HSD17B4-5_118804583_C_A_bottom20quantile_pseudocell_cell_map.csv',\n",
       " '/hps/nobackup/stegle/users/acuomo/all_scripts/struct_LMM2/sc_neuroseq/May2021/genetic_effect/MOFA10/flip_signs/RBM26-AS1-13_79980340_C_T_top20quantile_pseudocell_cell_map.csv',\n",
       " '/hps/nobackup/stegle/users/acuomo/all_scripts/struct_LMM2/sc_neuroseq/May2021/genetic_effect/MOFA10/flip_signs/HSPA4-5_132428503_T_C_top20quantile_pseudocell_cell_map.csv',\n",
       " '/hps/nobackup/stegle/users/acuomo/all_scripts/struct_LMM2/sc_neuroseq/May2021/genetic_effect/MOFA10/flip_signs/PDZD7-10_102791911_C_A_top20quantile_pseudocell_cell_map.csv',\n",
       " '/hps/nobackup/stegle/users/acuomo/all_scripts/struct_LMM2/sc_neuroseq/May2021/genetic_effect/MOFA10/flip_signs/UTS2-1_7929819_T_C_bottom20quantile_pseudocell_cell_map.csv',\n",
       " '/hps/nobackup/stegle/users/acuomo/all_scripts/struct_LMM2/sc_neuroseq/May2021/genetic_effect/MOFA10/flip_signs/ABHD12B-14_51328222_C_T_top20quantile_pseudocell_cell_map.csv',\n",
       " '/hps/nobackup/stegle/users/acuomo/all_scripts/struct_LMM2/sc_neuroseq/May2021/genetic_effect/MOFA10/flip_signs/CHEK1-11_125468231_T_C_bottom20quantile_pseudocell_cell_map.csv',\n",
       " '/hps/nobackup/stegle/users/acuomo/all_scripts/struct_LMM2/sc_neuroseq/May2021/genetic_effect/MOFA10/flip_signs/ADSL-22_40757228_A_C_top20quantile_pseudocell_cell_map.csv',\n",
       " '/hps/nobackup/stegle/users/acuomo/all_scripts/struct_LMM2/sc_neuroseq/May2021/genetic_effect/MOFA10/flip_signs/DHRS4L2-14_24405051_G_A_bottom20quantile_pseudocell_cell_map.csv',\n",
       " '/hps/nobackup/stegle/users/acuomo/all_scripts/struct_LMM2/sc_neuroseq/May2021/genetic_effect/MOFA10/flip_signs/SLC18A2-10_119020918_A_G_bottom20quantile_pseudocell_cell_map.csv',\n",
       " '/hps/nobackup/stegle/users/acuomo/all_scripts/struct_LMM2/sc_neuroseq/May2021/genetic_effect/MOFA10/flip_signs/ZG16B-16_2871121_T_C_bottom20quantile_pseudocell_cell_map.csv',\n",
       " '/hps/nobackup/stegle/users/acuomo/all_scripts/struct_LMM2/sc_neuroseq/May2021/genetic_effect/MOFA10/flip_signs/NUSAP1-15_41655523_G_C_top20quantile_pseudocell_cell_map.csv',\n",
       " '/hps/nobackup/stegle/users/acuomo/all_scripts/struct_LMM2/sc_neuroseq/May2021/genetic_effect/MOFA10/flip_signs/FBP1-9_97408971_A_G_top20quantile_pseudocell_cell_map.csv',\n",
       " '/hps/nobackup/stegle/users/acuomo/all_scripts/struct_LMM2/sc_neuroseq/May2021/genetic_effect/MOFA10/flip_signs/C2orf40-2_106682705_A_G_top20quantile_pseudocell_cell_map.csv',\n",
       " '/hps/nobackup/stegle/users/acuomo/all_scripts/struct_LMM2/sc_neuroseq/May2021/genetic_effect/MOFA10/flip_signs/MYO5B-18_47341538_C_T_bottom20quantile_pseudocell_cell_map.csv',\n",
       " '/hps/nobackup/stegle/users/acuomo/all_scripts/struct_LMM2/sc_neuroseq/May2021/genetic_effect/MOFA10/flip_signs/CBWD2-2_114235568_A_C_top20quantile_pseudocell_cell_map.csv',\n",
       " '/hps/nobackup/stegle/users/acuomo/all_scripts/struct_LMM2/sc_neuroseq/May2021/genetic_effect/MOFA10/flip_signs/ADSL-22_40757228_A_C_bottom20quantile_pseudocell_cell_map.csv',\n",
       " '/hps/nobackup/stegle/users/acuomo/all_scripts/struct_LMM2/sc_neuroseq/May2021/genetic_effect/MOFA10/flip_signs/ZNF738-19_21474173_G_A_bottom20quantile_pseudocell_cell_map.csv',\n",
       " '/hps/nobackup/stegle/users/acuomo/all_scripts/struct_LMM2/sc_neuroseq/May2021/genetic_effect/MOFA10/flip_signs/TBCK-4_106945077_A_G_top20quantile_pseudocell_cell_map.csv',\n",
       " '/hps/nobackup/stegle/users/acuomo/all_scripts/struct_LMM2/sc_neuroseq/May2021/genetic_effect/MOFA10/flip_signs/MYO5B-18_47341538_C_T_top20quantile_pseudocell_cell_map.csv',\n",
       " '/hps/nobackup/stegle/users/acuomo/all_scripts/struct_LMM2/sc_neuroseq/May2021/genetic_effect/MOFA10/flip_signs/DHRS4L2-14_24405051_G_A_top20quantile_pseudocell_cell_map.csv',\n",
       " '/hps/nobackup/stegle/users/acuomo/all_scripts/struct_LMM2/sc_neuroseq/May2021/genetic_effect/MOFA10/flip_signs/PRPH2-6_42672574_G_A_top20quantile_pseudocell_cell_map.csv',\n",
       " '/hps/nobackup/stegle/users/acuomo/all_scripts/struct_LMM2/sc_neuroseq/May2021/genetic_effect/MOFA10/flip_signs/CBWD2-2_114235568_A_C_bottom20quantile_pseudocell_cell_map.csv',\n",
       " '/hps/nobackup/stegle/users/acuomo/all_scripts/struct_LMM2/sc_neuroseq/May2021/genetic_effect/MOFA10/flip_signs/FAM153B-5_175511318_C_T_top20quantile_pseudocell_cell_map.csv',\n",
       " '/hps/nobackup/stegle/users/acuomo/all_scripts/struct_LMM2/sc_neuroseq/May2021/genetic_effect/MOFA10/flip_signs/ORAI2-7_102053414_C_A_top20quantile_pseudocell_cell_map.csv',\n",
       " '/hps/nobackup/stegle/users/acuomo/all_scripts/struct_LMM2/sc_neuroseq/May2021/genetic_effect/MOFA10/flip_signs/SYCE3-22_51001271_G_A_top20quantile_pseudocell_cell_map.csv',\n",
       " '/hps/nobackup/stegle/users/acuomo/all_scripts/struct_LMM2/sc_neuroseq/May2021/genetic_effect/MOFA10/flip_signs/CEACAM21-19_42092815_T_A_bottom20quantile_pseudocell_cell_map.csv',\n",
       " '/hps/nobackup/stegle/users/acuomo/all_scripts/struct_LMM2/sc_neuroseq/May2021/genetic_effect/MOFA10/flip_signs/NIPAL1-4_48019626_C_T_top20quantile_pseudocell_cell_map.csv',\n",
       " '/hps/nobackup/stegle/users/acuomo/all_scripts/struct_LMM2/sc_neuroseq/May2021/genetic_effect/MOFA10/flip_signs/MIAT-22_27062038_T_C_bottom20quantile_pseudocell_cell_map.csv',\n",
       " '/hps/nobackup/stegle/users/acuomo/all_scripts/struct_LMM2/sc_neuroseq/May2021/genetic_effect/MOFA10/flip_signs/NEK8-17_27179518_A_G_bottom20quantile_pseudocell_cell_map.csv',\n",
       " '/hps/nobackup/stegle/users/acuomo/all_scripts/struct_LMM2/sc_neuroseq/May2021/genetic_effect/MOFA10/flip_signs/ZNF77-19_2936535_G_A_top20quantile_pseudocell_cell_map.csv',\n",
       " '/hps/nobackup/stegle/users/acuomo/all_scripts/struct_LMM2/sc_neuroseq/May2021/genetic_effect/MOFA10/flip_signs/BATF3-1_212852832_T_C_top20quantile_pseudocell_cell_map.csv',\n",
       " '/hps/nobackup/stegle/users/acuomo/all_scripts/struct_LMM2/sc_neuroseq/May2021/genetic_effect/MOFA10/flip_signs/MPHOSPH9-12_123604053_C_T_bottom20quantile_pseudocell_cell_map.csv',\n",
       " '/hps/nobackup/stegle/users/acuomo/all_scripts/struct_LMM2/sc_neuroseq/May2021/genetic_effect/MOFA10/flip_signs/CD36-7_80240689_T_C_top20quantile_pseudocell_cell_map.csv',\n",
       " '/hps/nobackup/stegle/users/acuomo/all_scripts/struct_LMM2/sc_neuroseq/May2021/genetic_effect/MOFA10/flip_signs/EXT2-11_44237680_T_C_bottom20quantile_pseudocell_cell_map.csv',\n",
       " '/hps/nobackup/stegle/users/acuomo/all_scripts/struct_LMM2/sc_neuroseq/May2021/genetic_effect/MOFA10/flip_signs/EPCAM-2_47590762_C_T_top20quantile_pseudocell_cell_map.csv',\n",
       " '/hps/nobackup/stegle/users/acuomo/all_scripts/struct_LMM2/sc_neuroseq/May2021/genetic_effect/MOFA10/flip_signs/C11orf24-11_68006555_G_A_top20quantile_pseudocell_cell_map.csv',\n",
       " '/hps/nobackup/stegle/users/acuomo/all_scripts/struct_LMM2/sc_neuroseq/May2021/genetic_effect/MOFA10/flip_signs/HLA-DRB5-6_32551716_C_G_bottom20quantile_pseudocell_cell_map.csv',\n",
       " '/hps/nobackup/stegle/users/acuomo/all_scripts/struct_LMM2/sc_neuroseq/May2021/genetic_effect/MOFA10/flip_signs/ANKRD18B-9_33524775_C_A_bottom20quantile_pseudocell_cell_map.csv',\n",
       " '/hps/nobackup/stegle/users/acuomo/all_scripts/struct_LMM2/sc_neuroseq/May2021/genetic_effect/MOFA10/flip_signs/CEACAM21-19_42092815_T_A_top20quantile_pseudocell_cell_map.csv',\n",
       " '/hps/nobackup/stegle/users/acuomo/all_scripts/struct_LMM2/sc_neuroseq/May2021/genetic_effect/MOFA10/flip_signs/CERS5-12_50506816_G_T_top20quantile_pseudocell_cell_map.csv',\n",
       " '/hps/nobackup/stegle/users/acuomo/all_scripts/struct_LMM2/sc_neuroseq/May2021/genetic_effect/MOFA10/flip_signs/VSTM2B-19_29852078_C_T_bottom20quantile_pseudocell_cell_map.csv',\n",
       " '/hps/nobackup/stegle/users/acuomo/all_scripts/struct_LMM2/sc_neuroseq/May2021/genetic_effect/MOFA10/flip_signs/OCLN-5_68792418_T_G_top20quantile_pseudocell_cell_map.csv',\n",
       " '/hps/nobackup/stegle/users/acuomo/all_scripts/struct_LMM2/sc_neuroseq/May2021/genetic_effect/MOFA10/flip_signs/AKAP7-6_131691964_C_A_top20quantile_pseudocell_cell_map.csv',\n",
       " '/hps/nobackup/stegle/users/acuomo/all_scripts/struct_LMM2/sc_neuroseq/May2021/genetic_effect/MOFA10/flip_signs/VSTM2B-19_29852078_C_T_top20quantile_pseudocell_cell_map.csv',\n",
       " '/hps/nobackup/stegle/users/acuomo/all_scripts/struct_LMM2/sc_neuroseq/May2021/genetic_effect/MOFA10/flip_signs/ZNF77-19_2936535_G_A_bottom20quantile_pseudocell_cell_map.csv',\n",
       " '/hps/nobackup/stegle/users/acuomo/all_scripts/struct_LMM2/sc_neuroseq/May2021/genetic_effect/MOFA10/flip_signs/HSD17B4-5_118804583_C_A_top20quantile_pseudocell_cell_map.csv',\n",
       " '/hps/nobackup/stegle/users/acuomo/all_scripts/struct_LMM2/sc_neuroseq/May2021/genetic_effect/MOFA10/flip_signs/EYA3-1_28347450_C_A_bottom20quantile_pseudocell_cell_map.csv',\n",
       " '/hps/nobackup/stegle/users/acuomo/all_scripts/struct_LMM2/sc_neuroseq/May2021/genetic_effect/MOFA10/flip_signs/TBCK-4_106945077_A_G_bottom20quantile_pseudocell_cell_map.csv',\n",
       " '/hps/nobackup/stegle/users/acuomo/all_scripts/struct_LMM2/sc_neuroseq/May2021/genetic_effect/MOFA10/flip_signs/REEP3-10_65347105_G_A_bottom20quantile_pseudocell_cell_map.csv',\n",
       " '/hps/nobackup/stegle/users/acuomo/all_scripts/struct_LMM2/sc_neuroseq/May2021/genetic_effect/MOFA10/flip_signs/AIM1L-1_26673825_C_T_top20quantile_pseudocell_cell_map.csv',\n",
       " '/hps/nobackup/stegle/users/acuomo/all_scripts/struct_LMM2/sc_neuroseq/May2021/genetic_effect/MOFA10/flip_signs/NEK8-17_27179518_A_G_top20quantile_pseudocell_cell_map.csv',\n",
       " '/hps/nobackup/stegle/users/acuomo/all_scripts/struct_LMM2/sc_neuroseq/May2021/genetic_effect/MOFA10/flip_signs/TSPYL1-6_116650558_A_G_bottom20quantile_pseudocell_cell_map.csv',\n",
       " '/hps/nobackup/stegle/users/acuomo/all_scripts/struct_LMM2/sc_neuroseq/May2021/genetic_effect/MOFA10/flip_signs/GM2A-5_150653612_C_G_top20quantile_pseudocell_cell_map.csv',\n",
       " '/hps/nobackup/stegle/users/acuomo/all_scripts/struct_LMM2/sc_neuroseq/May2021/genetic_effect/MOFA10/flip_signs/ZBBX-3_167080934_T_G_top20quantile_pseudocell_cell_map.csv',\n",
       " '/hps/nobackup/stegle/users/acuomo/all_scripts/struct_LMM2/sc_neuroseq/May2021/genetic_effect/MOFA10/flip_signs/MIAT-22_27062038_T_C_top20quantile_pseudocell_cell_map.csv',\n",
       " '/hps/nobackup/stegle/users/acuomo/all_scripts/struct_LMM2/sc_neuroseq/May2021/genetic_effect/MOFA10/flip_signs/CD14-5_140006430_C_T_bottom20quantile_pseudocell_cell_map.csv',\n",
       " '/hps/nobackup/stegle/users/acuomo/all_scripts/struct_LMM2/sc_neuroseq/May2021/genetic_effect/MOFA10/flip_signs/TTLL3-3_9645526_T_G_bottom20quantile_pseudocell_cell_map.csv',\n",
       " '/hps/nobackup/stegle/users/acuomo/all_scripts/struct_LMM2/sc_neuroseq/May2021/genetic_effect/MOFA10/flip_signs/GUCY2D-17_7922767_A_G_top20quantile_pseudocell_cell_map.csv',\n",
       " '/hps/nobackup/stegle/users/acuomo/all_scripts/struct_LMM2/sc_neuroseq/May2021/genetic_effect/MOFA10/flip_signs/VWA5A-11_124087308_C_T_bottom20quantile_pseudocell_cell_map.csv',\n",
       " '/hps/nobackup/stegle/users/acuomo/all_scripts/struct_LMM2/sc_neuroseq/May2021/genetic_effect/MOFA10/flip_signs/THAP5-7_108179726_G_C_bottom20quantile_pseudocell_cell_map.csv',\n",
       " '/hps/nobackup/stegle/users/acuomo/all_scripts/struct_LMM2/sc_neuroseq/May2021/genetic_effect/MOFA10/flip_signs/PRSS3-9_33803408_T_C_top20quantile_pseudocell_cell_map.csv',\n",
       " '/hps/nobackup/stegle/users/acuomo/all_scripts/struct_LMM2/sc_neuroseq/May2021/genetic_effect/MOFA10/flip_signs/EPCAM-2_47590762_C_T_bottom20quantile_pseudocell_cell_map.csv',\n",
       " '/hps/nobackup/stegle/users/acuomo/all_scripts/struct_LMM2/sc_neuroseq/May2021/genetic_effect/MOFA10/flip_signs/VWA5A-11_124087308_C_T_top20quantile_pseudocell_cell_map.csv',\n",
       " '/hps/nobackup/stegle/users/acuomo/all_scripts/struct_LMM2/sc_neuroseq/May2021/genetic_effect/MOFA10/flip_signs/SYCE3-22_51001271_G_A_bottom20quantile_pseudocell_cell_map.csv',\n",
       " '/hps/nobackup/stegle/users/acuomo/all_scripts/struct_LMM2/sc_neuroseq/May2021/genetic_effect/MOFA10/flip_signs/CPNE1-20_34355608_T_C_bottom20quantile_pseudocell_cell_map.csv',\n",
       " '/hps/nobackup/stegle/users/acuomo/all_scripts/struct_LMM2/sc_neuroseq/May2021/genetic_effect/MOFA10/flip_signs/PRPH-12_49685089_T_C_bottom20quantile_pseudocell_cell_map.csv',\n",
       " '/hps/nobackup/stegle/users/acuomo/all_scripts/struct_LMM2/sc_neuroseq/May2021/genetic_effect/MOFA10/flip_signs/ORAI2-7_102053414_C_A_bottom20quantile_pseudocell_cell_map.csv',\n",
       " '/hps/nobackup/stegle/users/acuomo/all_scripts/struct_LMM2/sc_neuroseq/May2021/genetic_effect/MOFA10/flip_signs/CNOT6L-4_78754433_T_C_top20quantile_pseudocell_cell_map.csv',\n",
       " '/hps/nobackup/stegle/users/acuomo/all_scripts/struct_LMM2/sc_neuroseq/May2021/genetic_effect/MOFA10/flip_signs/KIF6-6_39584856_T_C_top20quantile_pseudocell_cell_map.csv',\n",
       " '/hps/nobackup/stegle/users/acuomo/all_scripts/struct_LMM2/sc_neuroseq/May2021/genetic_effect/MOFA10/flip_signs/CCDC80-3_112337467_T_C_top20quantile_pseudocell_cell_map.csv',\n",
       " '/hps/nobackup/stegle/users/acuomo/all_scripts/struct_LMM2/sc_neuroseq/May2021/genetic_effect/MOFA10/flip_signs/RASSF4-10_45478876_T_C_bottom20quantile_pseudocell_cell_map.csv',\n",
       " '/hps/nobackup/stegle/users/acuomo/all_scripts/struct_LMM2/sc_neuroseq/May2021/genetic_effect/MOFA10/flip_signs/FAXC-6_99705415_C_T_top20quantile_pseudocell_cell_map.csv',\n",
       " '/hps/nobackup/stegle/users/acuomo/all_scripts/struct_LMM2/sc_neuroseq/May2021/genetic_effect/MOFA10/flip_signs/CERS5-12_50506816_G_T_bottom20quantile_pseudocell_cell_map.csv',\n",
       " '/hps/nobackup/stegle/users/acuomo/all_scripts/struct_LMM2/sc_neuroseq/May2021/genetic_effect/MOFA10/flip_signs/PDE4DIP-1_144894611_T_C_bottom20quantile_pseudocell_cell_map.csv',\n",
       " '/hps/nobackup/stegle/users/acuomo/all_scripts/struct_LMM2/sc_neuroseq/May2021/genetic_effect/MOFA10/flip_signs/SNX32-11_65595697_G_A_bottom20quantile_pseudocell_cell_map.csv',\n",
       " '/hps/nobackup/stegle/users/acuomo/all_scripts/struct_LMM2/sc_neuroseq/May2021/genetic_effect/MOFA10/flip_signs/ZG16B-16_2871121_T_C_top20quantile_pseudocell_cell_map.csv',\n",
       " '/hps/nobackup/stegle/users/acuomo/all_scripts/struct_LMM2/sc_neuroseq/May2021/genetic_effect/MOFA10/flip_signs/NDST4-4_115734311_A_G_bottom20quantile_pseudocell_cell_map.csv',\n",
       " '/hps/nobackup/stegle/users/acuomo/all_scripts/struct_LMM2/sc_neuroseq/May2021/genetic_effect/MOFA10/flip_signs/KLRC2-12_10628822_T_C_top20quantile_pseudocell_cell_map.csv',\n",
       " '/hps/nobackup/stegle/users/acuomo/all_scripts/struct_LMM2/sc_neuroseq/May2021/genetic_effect/MOFA10/flip_signs/KLRC2-12_10628822_T_C_bottom20quantile_pseudocell_cell_map.csv',\n",
       " '/hps/nobackup/stegle/users/acuomo/all_scripts/struct_LMM2/sc_neuroseq/May2021/genetic_effect/MOFA10/flip_signs/FAM153B-5_175511318_C_T_bottom20quantile_pseudocell_cell_map.csv',\n",
       " '/hps/nobackup/stegle/users/acuomo/all_scripts/struct_LMM2/sc_neuroseq/May2021/genetic_effect/MOFA10/flip_signs/ZBBX-3_167080934_T_G_bottom20quantile_pseudocell_cell_map.csv',\n",
       " '/hps/nobackup/stegle/users/acuomo/all_scripts/struct_LMM2/sc_neuroseq/May2021/genetic_effect/MOFA10/flip_signs/RPL10A-6_35422754_G_T_bottom20quantile_pseudocell_cell_map.csv',\n",
       " '/hps/nobackup/stegle/users/acuomo/all_scripts/struct_LMM2/sc_neuroseq/May2021/genetic_effect/MOFA10/flip_signs/SUN1-7_879573_G_A_top20quantile_pseudocell_cell_map.csv',\n",
       " '/hps/nobackup/stegle/users/acuomo/all_scripts/struct_LMM2/sc_neuroseq/May2021/genetic_effect/MOFA10/flip_signs/PRKCB-16_23914440_C_A_top20quantile_pseudocell_cell_map.csv',\n",
       " '/hps/nobackup/stegle/users/acuomo/all_scripts/struct_LMM2/sc_neuroseq/May2021/genetic_effect/MOFA10/flip_signs/CNOT6L-4_78754433_T_C_bottom20quantile_pseudocell_cell_map.csv',\n",
       " '/hps/nobackup/stegle/users/acuomo/all_scripts/struct_LMM2/sc_neuroseq/May2021/genetic_effect/MOFA10/flip_signs/ZNF738-19_21474173_G_A_top20quantile_pseudocell_cell_map.csv',\n",
       " '/hps/nobackup/stegle/users/acuomo/all_scripts/struct_LMM2/sc_neuroseq/May2021/genetic_effect/MOFA10/flip_signs/SLC44A2-19_10813795_A_G_top20quantile_pseudocell_cell_map.csv',\n",
       " '/hps/nobackup/stegle/users/acuomo/all_scripts/struct_LMM2/sc_neuroseq/May2021/genetic_effect/MOFA10/flip_signs/CD14-5_140006430_C_T_top20quantile_pseudocell_cell_map.csv',\n",
       " '/hps/nobackup/stegle/users/acuomo/all_scripts/struct_LMM2/sc_neuroseq/May2021/genetic_effect/MOFA10/flip_signs/C11orf24-11_68006555_G_A_bottom20quantile_pseudocell_cell_map.csv',\n",
       " '/hps/nobackup/stegle/users/acuomo/all_scripts/struct_LMM2/sc_neuroseq/May2021/genetic_effect/MOFA10/flip_signs/NSUN2-5_6600793_T_C_bottom20quantile_pseudocell_cell_map.csv',\n",
       " '/hps/nobackup/stegle/users/acuomo/all_scripts/struct_LMM2/sc_neuroseq/May2021/genetic_effect/MOFA10/flip_signs/DNPH1-6_43122062_C_A_bottom20quantile_pseudocell_cell_map.csv',\n",
       " '/hps/nobackup/stegle/users/acuomo/all_scripts/struct_LMM2/sc_neuroseq/May2021/genetic_effect/MOFA10/flip_signs/CDC42SE2-5_130921388_G_A_bottom20quantile_pseudocell_cell_map.csv',\n",
       " '/hps/nobackup/stegle/users/acuomo/all_scripts/struct_LMM2/sc_neuroseq/May2021/genetic_effect/MOFA10/flip_signs/CPNE1-20_34355608_T_C_top20quantile_pseudocell_cell_map.csv',\n",
       " '/hps/nobackup/stegle/users/acuomo/all_scripts/struct_LMM2/sc_neuroseq/May2021/genetic_effect/MOFA10/flip_signs/AIM1L-1_26673825_C_T_bottom20quantile_pseudocell_cell_map.csv',\n",
       " '/hps/nobackup/stegle/users/acuomo/all_scripts/struct_LMM2/sc_neuroseq/May2021/genetic_effect/MOFA10/flip_signs/PRKCB-16_23914440_C_A_bottom20quantile_pseudocell_cell_map.csv',\n",
       " '/hps/nobackup/stegle/users/acuomo/all_scripts/struct_LMM2/sc_neuroseq/May2021/genetic_effect/MOFA10/flip_signs/TRIT1-1_40342232_A_C_top20quantile_pseudocell_cell_map.csv',\n",
       " '/hps/nobackup/stegle/users/acuomo/all_scripts/struct_LMM2/sc_neuroseq/May2021/genetic_effect/MOFA10/flip_signs/ABHD12B-14_51328222_C_T_bottom20quantile_pseudocell_cell_map.csv',\n",
       " '/hps/nobackup/stegle/users/acuomo/all_scripts/struct_LMM2/sc_neuroseq/May2021/genetic_effect/MOFA10/flip_signs/KLK10-19_51518297_A_G_top20quantile_pseudocell_cell_map.csv',\n",
       " '/hps/nobackup/stegle/users/acuomo/all_scripts/struct_LMM2/sc_neuroseq/May2021/genetic_effect/MOFA10/flip_signs/NFATC4-14_24754023_G_A_bottom20quantile_pseudocell_cell_map.csv',\n",
       " '/hps/nobackup/stegle/users/acuomo/all_scripts/struct_LMM2/sc_neuroseq/May2021/genetic_effect/MOFA10/flip_signs/XKR9-8_71613089_A_G_top20quantile_pseudocell_cell_map.csv',\n",
       " '/hps/nobackup/stegle/users/acuomo/all_scripts/struct_LMM2/sc_neuroseq/May2021/genetic_effect/MOFA10/flip_signs/CHEK1-11_125468231_T_C_top20quantile_pseudocell_cell_map.csv',\n",
       " '/hps/nobackup/stegle/users/acuomo/all_scripts/struct_LMM2/sc_neuroseq/May2021/genetic_effect/MOFA10/flip_signs/VWC2-7_49627185_G_T_bottom20quantile_pseudocell_cell_map.csv',\n",
       " '/hps/nobackup/stegle/users/acuomo/all_scripts/struct_LMM2/sc_neuroseq/May2021/genetic_effect/MOFA10/flip_signs/AKAP7-6_131691964_C_A_bottom20quantile_pseudocell_cell_map.csv',\n",
       " '/hps/nobackup/stegle/users/acuomo/all_scripts/struct_LMM2/sc_neuroseq/May2021/genetic_effect/MOFA10/flip_signs/C19orf10-19_4664038_T_C_top20quantile_pseudocell_cell_map.csv',\n",
       " '/hps/nobackup/stegle/users/acuomo/all_scripts/struct_LMM2/sc_neuroseq/May2021/genetic_effect/MOFA10/flip_signs/CYB5A-18_72011117_T_A_top20quantile_pseudocell_cell_map.csv',\n",
       " '/hps/nobackup/stegle/users/acuomo/all_scripts/struct_LMM2/sc_neuroseq/May2021/genetic_effect/MOFA10/flip_signs/RBMS1-2_161519839_G_T_top20quantile_pseudocell_cell_map.csv',\n",
       " '/hps/nobackup/stegle/users/acuomo/all_scripts/struct_LMM2/sc_neuroseq/May2021/genetic_effect/MOFA10/flip_signs/TPD52L1-6_125475515_C_G_bottom20quantile_pseudocell_cell_map.csv',\n",
       " '/hps/nobackup/stegle/users/acuomo/all_scripts/struct_LMM2/sc_neuroseq/May2021/genetic_effect/MOFA10/flip_signs/TRAF3IP2-AS1-6_111941286_G_A_top20quantile_pseudocell_cell_map.csv',\n",
       " '/hps/nobackup/stegle/users/acuomo/all_scripts/struct_LMM2/sc_neuroseq/May2021/genetic_effect/MOFA10/flip_signs/CRB2-9_126155803_G_T_top20quantile_pseudocell_cell_map.csv',\n",
       " '/hps/nobackup/stegle/users/acuomo/all_scripts/struct_LMM2/sc_neuroseq/May2021/genetic_effect/MOFA10/flip_signs/TRIT1-1_40342232_A_C_bottom20quantile_pseudocell_cell_map.csv',\n",
       " '/hps/nobackup/stegle/users/acuomo/all_scripts/struct_LMM2/sc_neuroseq/May2021/genetic_effect/MOFA10/flip_signs/TBCA-5_77079452_T_C_bottom20quantile_pseudocell_cell_map.csv',\n",
       " '/hps/nobackup/stegle/users/acuomo/all_scripts/struct_LMM2/sc_neuroseq/May2021/genetic_effect/MOFA10/flip_signs/EXT2-11_44237680_T_C_top20quantile_pseudocell_cell_map.csv',\n",
       " '/hps/nobackup/stegle/users/acuomo/all_scripts/struct_LMM2/sc_neuroseq/May2021/genetic_effect/MOFA10/flip_signs/PRR7-AS1-5_176904279_C_G_top20quantile_pseudocell_cell_map.csv',\n",
       " '/hps/nobackup/stegle/users/acuomo/all_scripts/struct_LMM2/sc_neuroseq/May2021/genetic_effect/MOFA10/flip_signs/WDR11-10_122667130_A_T_top20quantile_pseudocell_cell_map.csv',\n",
       " '/hps/nobackup/stegle/users/acuomo/all_scripts/struct_LMM2/sc_neuroseq/May2021/genetic_effect/MOFA10/flip_signs/TSPYL1-6_116650558_A_G_top20quantile_pseudocell_cell_map.csv',\n",
       " '/hps/nobackup/stegle/users/acuomo/all_scripts/struct_LMM2/sc_neuroseq/May2021/genetic_effect/MOFA10/flip_signs/CCDC80-3_112337467_T_C_bottom20quantile_pseudocell_cell_map.csv',\n",
       " '/hps/nobackup/stegle/users/acuomo/all_scripts/struct_LMM2/sc_neuroseq/May2021/genetic_effect/MOFA10/flip_signs/NIPAL1-4_48019626_C_T_bottom20quantile_pseudocell_cell_map.csv',\n",
       " '/hps/nobackup/stegle/users/acuomo/all_scripts/struct_LMM2/sc_neuroseq/May2021/genetic_effect/MOFA10/flip_signs/PCMTD1-8_52830648_T_G_top20quantile_pseudocell_cell_map.csv',\n",
       " '/hps/nobackup/stegle/users/acuomo/all_scripts/struct_LMM2/sc_neuroseq/May2021/genetic_effect/MOFA10/flip_signs/ROPN1B-3_125706012_G_A_top20quantile_pseudocell_cell_map.csv',\n",
       " '/hps/nobackup/stegle/users/acuomo/all_scripts/struct_LMM2/sc_neuroseq/May2021/genetic_effect/MOFA10/flip_signs/FN3K-17_80751292_T_G_bottom20quantile_pseudocell_cell_map.csv',\n",
       " '/hps/nobackup/stegle/users/acuomo/all_scripts/struct_LMM2/sc_neuroseq/May2021/genetic_effect/MOFA10/flip_signs/TTLL3-3_9645526_T_G_top20quantile_pseudocell_cell_map.csv',\n",
       " '/hps/nobackup/stegle/users/acuomo/all_scripts/struct_LMM2/sc_neuroseq/May2021/genetic_effect/MOFA10/flip_signs/CDC42SE2-5_130921388_G_A_top20quantile_pseudocell_cell_map.csv',\n",
       " '/hps/nobackup/stegle/users/acuomo/all_scripts/struct_LMM2/sc_neuroseq/May2021/genetic_effect/MOFA10/flip_signs/MPHOSPH9-12_123604053_C_T_top20quantile_pseudocell_cell_map.csv',\n",
       " '/hps/nobackup/stegle/users/acuomo/all_scripts/struct_LMM2/sc_neuroseq/May2021/genetic_effect/MOFA10/flip_signs/REEP3-10_65347105_G_A_top20quantile_pseudocell_cell_map.csv',\n",
       " '/hps/nobackup/stegle/users/acuomo/all_scripts/struct_LMM2/sc_neuroseq/May2021/genetic_effect/MOFA10/flip_signs/GM2A-5_150653612_C_G_bottom20quantile_pseudocell_cell_map.csv',\n",
       " '/hps/nobackup/stegle/users/acuomo/all_scripts/struct_LMM2/sc_neuroseq/May2021/genetic_effect/MOFA10/flip_signs/ZNF423-16_49599995_C_G_top20quantile_pseudocell_cell_map.csv',\n",
       " '/hps/nobackup/stegle/users/acuomo/all_scripts/struct_LMM2/sc_neuroseq/May2021/genetic_effect/MOFA10/flip_signs/EYA3-1_28347450_C_A_top20quantile_pseudocell_cell_map.csv',\n",
       " '/hps/nobackup/stegle/users/acuomo/all_scripts/struct_LMM2/sc_neuroseq/May2021/genetic_effect/MOFA10/flip_signs/RPL10A-6_35422754_G_T_top20quantile_pseudocell_cell_map.csv',\n",
       " '/hps/nobackup/stegle/users/acuomo/all_scripts/struct_LMM2/sc_neuroseq/May2021/genetic_effect/MOFA10/flip_signs/ROPN1B-3_125706012_G_A_bottom20quantile_pseudocell_cell_map.csv',\n",
       " '/hps/nobackup/stegle/users/acuomo/all_scripts/struct_LMM2/sc_neuroseq/May2021/genetic_effect/MOFA10/flip_signs/PRR7-AS1-5_176904279_C_G_bottom20quantile_pseudocell_cell_map.csv',\n",
       " '/hps/nobackup/stegle/users/acuomo/all_scripts/struct_LMM2/sc_neuroseq/May2021/genetic_effect/MOFA10/flip_signs/FBP1-9_97408971_A_G_bottom20quantile_pseudocell_cell_map.csv',\n",
       " '/hps/nobackup/stegle/users/acuomo/all_scripts/struct_LMM2/sc_neuroseq/May2021/genetic_effect/MOFA10/flip_signs/XKR9-8_71613089_A_G_bottom20quantile_pseudocell_cell_map.csv',\n",
       " '/hps/nobackup/stegle/users/acuomo/all_scripts/struct_LMM2/sc_neuroseq/May2021/genetic_effect/MOFA10/flip_signs/SLC44A2-19_10813795_A_G_bottom20quantile_pseudocell_cell_map.csv',\n",
       " '/hps/nobackup/stegle/users/acuomo/all_scripts/struct_LMM2/sc_neuroseq/May2021/genetic_effect/MOFA10/flip_signs/SAR1A-10_71910630_G_A_top20quantile_pseudocell_cell_map.csv',\n",
       " '/hps/nobackup/stegle/users/acuomo/all_scripts/struct_LMM2/sc_neuroseq/May2021/genetic_effect/MOFA10/flip_signs/OCLN-5_68792418_T_G_bottom20quantile_pseudocell_cell_map.csv',\n",
       " '/hps/nobackup/stegle/users/acuomo/all_scripts/struct_LMM2/sc_neuroseq/May2021/genetic_effect/MOFA10/flip_signs/BATF3-1_212852832_T_C_bottom20quantile_pseudocell_cell_map.csv',\n",
       " '/hps/nobackup/stegle/users/acuomo/all_scripts/struct_LMM2/sc_neuroseq/May2021/genetic_effect/MOFA10/flip_signs/RASSF4-10_45478876_T_C_top20quantile_pseudocell_cell_map.csv',\n",
       " '/hps/nobackup/stegle/users/acuomo/all_scripts/struct_LMM2/sc_neuroseq/May2021/genetic_effect/MOFA10/flip_signs/MEIOB-16_1836393_G_A_bottom20quantile_pseudocell_cell_map.csv',\n",
       " '/hps/nobackup/stegle/users/acuomo/all_scripts/struct_LMM2/sc_neuroseq/May2021/genetic_effect/MOFA10/flip_signs/TPD52L1-6_125475515_C_G_top20quantile_pseudocell_cell_map.csv',\n",
       " '/hps/nobackup/stegle/users/acuomo/all_scripts/struct_LMM2/sc_neuroseq/May2021/genetic_effect/MOFA10/flip_signs/HLA-DRB5-6_32551716_C_G_top20quantile_pseudocell_cell_map.csv',\n",
       " '/hps/nobackup/stegle/users/acuomo/all_scripts/struct_LMM2/sc_neuroseq/May2021/genetic_effect/MOFA10/flip_signs/FAXC-6_99705415_C_T_bottom20quantile_pseudocell_cell_map.csv',\n",
       " '/hps/nobackup/stegle/users/acuomo/all_scripts/struct_LMM2/sc_neuroseq/May2021/genetic_effect/MOFA10/flip_signs/GUCY2D-17_7922767_A_G_bottom20quantile_pseudocell_cell_map.csv',\n",
       " '/hps/nobackup/stegle/users/acuomo/all_scripts/struct_LMM2/sc_neuroseq/May2021/genetic_effect/MOFA10/flip_signs/MEIOB-16_1836393_G_A_top20quantile_pseudocell_cell_map.csv',\n",
       " '/hps/nobackup/stegle/users/acuomo/all_scripts/struct_LMM2/sc_neuroseq/May2021/genetic_effect/MOFA10/flip_signs/SAR1A-10_71910630_G_A_bottom20quantile_pseudocell_cell_map.csv',\n",
       " '/hps/nobackup/stegle/users/acuomo/all_scripts/struct_LMM2/sc_neuroseq/May2021/genetic_effect/MOFA10/flip_signs/UTS2-1_7929819_T_C_top20quantile_pseudocell_cell_map.csv',\n",
       " '/hps/nobackup/stegle/users/acuomo/all_scripts/struct_LMM2/sc_neuroseq/May2021/genetic_effect/MOFA10/flip_signs/WDR11-10_122667130_A_T_bottom20quantile_pseudocell_cell_map.csv',\n",
       " '/hps/nobackup/stegle/users/acuomo/all_scripts/struct_LMM2/sc_neuroseq/May2021/genetic_effect/MOFA10/flip_signs/CD36-7_80240689_T_C_bottom20quantile_pseudocell_cell_map.csv',\n",
       " '/hps/nobackup/stegle/users/acuomo/all_scripts/struct_LMM2/sc_neuroseq/May2021/genetic_effect/MOFA10/flip_signs/VWC2-7_49627185_G_T_top20quantile_pseudocell_cell_map.csv',\n",
       " '/hps/nobackup/stegle/users/acuomo/all_scripts/struct_LMM2/sc_neuroseq/May2021/genetic_effect/MOFA10/flip_signs/SNX32-11_65595697_G_A_top20quantile_pseudocell_cell_map.csv',\n",
       " '/hps/nobackup/stegle/users/acuomo/all_scripts/struct_LMM2/sc_neuroseq/May2021/genetic_effect/MOFA10/flip_signs/NFATC4-14_24754023_G_A_top20quantile_pseudocell_cell_map.csv',\n",
       " '/hps/nobackup/stegle/users/acuomo/all_scripts/struct_LMM2/sc_neuroseq/May2021/genetic_effect/MOFA10/flip_signs/CRB2-9_126155803_G_T_bottom20quantile_pseudocell_cell_map.csv',\n",
       " '/hps/nobackup/stegle/users/acuomo/all_scripts/struct_LMM2/sc_neuroseq/May2021/genetic_effect/MOFA10/flip_signs/ZNF423-16_49599995_C_G_bottom20quantile_pseudocell_cell_map.csv',\n",
       " '/hps/nobackup/stegle/users/acuomo/all_scripts/struct_LMM2/sc_neuroseq/May2021/genetic_effect/MOFA10/flip_signs/FN3K-17_80751292_T_G_top20quantile_pseudocell_cell_map.csv',\n",
       " '/hps/nobackup/stegle/users/acuomo/all_scripts/struct_LMM2/sc_neuroseq/May2021/genetic_effect/MOFA10/flip_signs/NSUN2-5_6600793_T_C_top20quantile_pseudocell_cell_map.csv',\n",
       " '/hps/nobackup/stegle/users/acuomo/all_scripts/struct_LMM2/sc_neuroseq/May2021/genetic_effect/MOFA10/flip_signs/ANKRD18B-9_33524775_C_A_top20quantile_pseudocell_cell_map.csv',\n",
       " '/hps/nobackup/stegle/users/acuomo/all_scripts/struct_LMM2/sc_neuroseq/May2021/genetic_effect/MOFA10/flip_signs/TBCA-5_77079452_T_C_top20quantile_pseudocell_cell_map.csv',\n",
       " '/hps/nobackup/stegle/users/acuomo/all_scripts/struct_LMM2/sc_neuroseq/May2021/genetic_effect/MOFA10/flip_signs/TRAF3IP2-AS1-6_111941286_G_A_bottom20quantile_pseudocell_cell_map.csv',\n",
       " '/hps/nobackup/stegle/users/acuomo/all_scripts/struct_LMM2/sc_neuroseq/May2021/genetic_effect/MOFA10/flip_signs/PRSS3-9_33803408_T_C_bottom20quantile_pseudocell_cell_map.csv',\n",
       " '/hps/nobackup/stegle/users/acuomo/all_scripts/struct_LMM2/sc_neuroseq/May2021/genetic_effect/MOFA10/flip_signs/DNPH1-6_43122062_C_A_top20quantile_pseudocell_cell_map.csv',\n",
       " '/hps/nobackup/stegle/users/acuomo/all_scripts/struct_LMM2/sc_neuroseq/May2021/genetic_effect/MOFA10/flip_signs/PDE4DIP-1_144894611_T_C_top20quantile_pseudocell_cell_map.csv',\n",
       " '/hps/nobackup/stegle/users/acuomo/all_scripts/struct_LMM2/sc_neuroseq/May2021/genetic_effect/MOFA10/flip_signs/RBMS1-2_161519839_G_T_bottom20quantile_pseudocell_cell_map.csv',\n",
       " '/hps/nobackup/stegle/users/acuomo/all_scripts/struct_LMM2/sc_neuroseq/May2021/genetic_effect/MOFA10/flip_signs/SUMF1-3_4393684_G_A_bottom20quantile_pseudocell_cell_map.csv',\n",
       " '/hps/nobackup/stegle/users/acuomo/all_scripts/struct_LMM2/sc_neuroseq/May2021/genetic_effect/MOFA10/flip_signs/NDST4-4_115734311_A_G_top20quantile_pseudocell_cell_map.csv',\n",
       " '/hps/nobackup/stegle/users/acuomo/all_scripts/struct_LMM2/sc_neuroseq/May2021/genetic_effect/MOFA10/flip_signs/PDZD7-10_102791911_C_A_bottom20quantile_pseudocell_cell_map.csv',\n",
       " '/hps/nobackup/stegle/users/acuomo/all_scripts/struct_LMM2/sc_neuroseq/May2021/genetic_effect/MOFA10/flip_signs/TUBB4B-9_140276433_G_A_bottom20quantile_pseudocell_cell_map.csv',\n",
       " '/hps/nobackup/stegle/users/acuomo/all_scripts/struct_LMM2/sc_neuroseq/May2021/genetic_effect/MOFA10/flip_signs/SUMF1-3_4393684_G_A_top20quantile_pseudocell_cell_map.csv',\n",
       " '/hps/nobackup/stegle/users/acuomo/all_scripts/struct_LMM2/sc_neuroseq/May2021/genetic_effect/MOFA10/flip_signs/PRPH2-6_42672574_G_A_bottom20quantile_pseudocell_cell_map.csv',\n",
       " '/hps/nobackup/stegle/users/acuomo/all_scripts/struct_LMM2/sc_neuroseq/May2021/genetic_effect/MOFA10/flip_signs/ALDH7A1-5_126011412_G_A_bottom20quantile_pseudocell_cell_map.csv',\n",
       " '/hps/nobackup/stegle/users/acuomo/all_scripts/struct_LMM2/sc_neuroseq/May2021/genetic_effect/MOFA10/flip_signs/PCMTD1-8_52830648_T_G_bottom20quantile_pseudocell_cell_map.csv',\n",
       " '/hps/nobackup/stegle/users/acuomo/all_scripts/struct_LMM2/sc_neuroseq/May2021/genetic_effect/MOFA10/flip_signs/TUBB4B-9_140276433_G_A_top20quantile_pseudocell_cell_map.csv',\n",
       " '/hps/nobackup/stegle/users/acuomo/all_scripts/struct_LMM2/sc_neuroseq/May2021/genetic_effect/MOFA10/flip_signs/MTERFD2-2_242019288_C_T_top20quantile_pseudocell_cell_map.csv',\n",
       " '/hps/nobackup/stegle/users/acuomo/all_scripts/struct_LMM2/sc_neuroseq/May2021/genetic_effect/MOFA10/flip_signs/SUN1-7_879573_G_A_bottom20quantile_pseudocell_cell_map.csv',\n",
       " '/hps/nobackup/stegle/users/acuomo/all_scripts/struct_LMM2/sc_neuroseq/May2021/genetic_effect/MOFA10/flip_signs/PTBP2-1_97153245_G_A_bottom20quantile_pseudocell_cell_map.csv',\n",
       " '/hps/nobackup/stegle/users/acuomo/all_scripts/struct_LMM2/sc_neuroseq/May2021/genetic_effect/MOFA10/flip_signs/KLK10-19_51518297_A_G_bottom20quantile_pseudocell_cell_map.csv',\n",
       " '/hps/nobackup/stegle/users/acuomo/all_scripts/struct_LMM2/sc_neuroseq/May2021/genetic_effect/MOFA10/flip_signs/THAP5-7_108179726_G_C_top20quantile_pseudocell_cell_map.csv',\n",
       " '/hps/nobackup/stegle/users/acuomo/all_scripts/struct_LMM2/sc_neuroseq/May2021/genetic_effect/MOFA10/flip_signs/NUSAP1-15_41655523_G_C_bottom20quantile_pseudocell_cell_map.csv',\n",
       " '/hps/nobackup/stegle/users/acuomo/all_scripts/struct_LMM2/sc_neuroseq/May2021/genetic_effect/MOFA10/flip_signs/CYB5A-18_72011117_T_A_bottom20quantile_pseudocell_cell_map.csv',\n",
       " '/hps/nobackup/stegle/users/acuomo/all_scripts/struct_LMM2/sc_neuroseq/May2021/genetic_effect/MOFA10/flip_signs/HSPA4-5_132428503_T_C_bottom20quantile_pseudocell_cell_map.csv',\n",
       " '/hps/nobackup/stegle/users/acuomo/all_scripts/struct_LMM2/sc_neuroseq/May2021/genetic_effect/MOFA10/flip_signs/PTBP2-1_97153245_G_A_top20quantile_pseudocell_cell_map.csv',\n",
       " '/hps/nobackup/stegle/users/acuomo/all_scripts/struct_LMM2/sc_neuroseq/May2021/genetic_effect/MOFA10/flip_signs/RBM26-AS1-13_79980340_C_T_bottom20quantile_pseudocell_cell_map.csv',\n",
       " '/hps/nobackup/stegle/users/acuomo/all_scripts/struct_LMM2/sc_neuroseq/May2021/genetic_effect/MOFA10/flip_signs/MTERFD2-2_242019288_C_T_bottom20quantile_pseudocell_cell_map.csv',\n",
       " '/hps/nobackup/stegle/users/acuomo/all_scripts/struct_LMM2/sc_neuroseq/May2021/genetic_effect/MOFA10/flip_signs/KIF6-6_39584856_T_C_bottom20quantile_pseudocell_cell_map.csv',\n",
       " '/hps/nobackup/stegle/users/acuomo/all_scripts/struct_LMM2/sc_neuroseq/May2021/genetic_effect/MOFA10/flip_signs/PRPH-12_49685089_T_C_top20quantile_pseudocell_cell_map.csv',\n",
       " '/hps/nobackup/stegle/users/acuomo/all_scripts/struct_LMM2/sc_neuroseq/May2021/genetic_effect/MOFA10/flip_signs/ALDH7A1-5_126011412_G_A_top20quantile_pseudocell_cell_map.csv',\n",
       " '/hps/nobackup/stegle/users/acuomo/all_scripts/struct_LMM2/sc_neuroseq/May2021/genetic_effect/MOFA10/flip_signs/C2orf40-2_106682705_A_G_bottom20quantile_pseudocell_cell_map.csv']"
      ]
     },
     "execution_count": 25,
     "metadata": {},
     "output_type": "execute_result"
    }
   ],
   "source": [
    "myfiles"
   ]
  },
  {
   "cell_type": "code",
   "execution_count": null,
   "id": "2a604e71",
   "metadata": {},
   "outputs": [],
   "source": []
  },
  {
   "cell_type": "code",
   "execution_count": null,
   "id": "5b2bd84c",
   "metadata": {},
   "outputs": [],
   "source": [
    "############## option 1 (simple):\n",
    "### aggregate at donor level, irrespective of condition (d30, d52, d52ROT)\n",
    "### only 1/n as covariance"
   ]
  },
  {
   "cell_type": "code",
   "execution_count": 48,
   "id": "8f89a574",
   "metadata": {},
   "outputs": [
    {
     "name": "stderr",
     "output_type": "stream",
     "text": [
      "/nfs/software/stegle/users/acuomo/conda-envs/spatialde/lib/python3.7/site-packages/ipykernel_launcher.py:18: SettingWithCopyWarning: \n",
      "A value is trying to be set on a copy of a slice from a DataFrame\n",
      "\n",
      "See the caveats in the documentation: https://pandas.pydata.org/pandas-docs/stable/user_guide/indexing.html#returning-a-view-versus-a-copy\n"
     ]
    }
   ],
   "source": [
    "for file in myfiles:\n",
    "    df_cell = pd.read_csv(file, index_col=0)\n",
    "    selected_cells = list(df_cell['cell'])\n",
    "    cells_d30 = sorted(set(list(adatafull_d30.obs.index.values)).intersection(selected_cells))\n",
    "    cells_d52 = sorted(set(list(adatafull_d52.obs.index.values)).intersection(selected_cells))\n",
    "    adata_d30 = adatafull_d30[cells_d30].copy()\n",
    "    adata_d52 = adatafull_d52[cells_d52].copy()\n",
    "    adata = adata_d30.concatenate(adata_d52, batch_key='timepoint')\n",
    "    # make pseudobulk matrix\n",
    "    genes = adata.var_names\n",
    "    donors = adata.obs['donor_id'].astype(\"category\").cat.categories\n",
    "    res = pd.DataFrame(columns=genes, index=donors)\n",
    "    # loop over donors\n",
    "    for donor in donors: \n",
    "        res.loc[donor] = adata[adata.obs['donor_id'].isin([donor]),:].X.mean(0)\n",
    "    res['n_cells'] = 0\n",
    "    for donor in donors: \n",
    "        res.n_cells[donor] = adata[adata.obs['donor_id'].isin([donor]),:].shape[0]\n",
    "    file_new = re.sub(\"pseudocell_cell_map\", \"mean_donor_level\", file)\n",
    "    res.to_csv(file_new)"
   ]
  },
  {
   "cell_type": "code",
   "execution_count": null,
   "id": "2e069c30",
   "metadata": {},
   "outputs": [],
   "source": []
  }
 ],
 "metadata": {
  "kernelspec": {
   "display_name": "Python (spatialde)",
   "language": "python",
   "name": "spatialde"
  },
  "language_info": {
   "codemirror_mode": {
    "name": "ipython",
    "version": 3
   },
   "file_extension": ".py",
   "mimetype": "text/x-python",
   "name": "python",
   "nbconvert_exporter": "python",
   "pygments_lexer": "ipython3",
   "version": "3.7.9"
  }
 },
 "nbformat": 4,
 "nbformat_minor": 5
}
