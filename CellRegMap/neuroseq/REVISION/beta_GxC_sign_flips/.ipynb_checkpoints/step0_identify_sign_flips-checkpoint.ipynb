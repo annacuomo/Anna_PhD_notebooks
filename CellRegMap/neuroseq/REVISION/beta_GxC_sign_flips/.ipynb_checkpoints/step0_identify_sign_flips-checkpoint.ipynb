{
 "cells": [
  {
   "cell_type": "code",
   "execution_count": 1,
   "id": "5c884c4d",
   "metadata": {},
   "outputs": [],
   "source": [
    "library(ggplot2)"
   ]
  },
  {
   "cell_type": "code",
   "execution_count": 2,
   "id": "1bf8bfec",
   "metadata": {},
   "outputs": [],
   "source": [
    "beta_dir = \"/hps/nobackup2/stegle/users/acuomo/all_scripts/struct_LMM2/sc_neuroseq/May2021/genetic_effect/MOFA10/\""
   ]
  },
  {
   "cell_type": "code",
   "execution_count": 3,
   "id": "5ad2b8f8",
   "metadata": {},
   "outputs": [
    {
     "data": {
      "text/html": [
       "<table>\n",
       "<thead><tr><th></th><th scope=col>ABHD10-3_111697439_T_G</th><th scope=col>ABHD12B-14_51328222_C_T</th><th scope=col>ACKR2-3_42817129_C_T</th><th scope=col>ADD2-2_70894426_A_T</th><th scope=col>ADSL-22_40757228_A_C</th><th scope=col>AIM1L-1_26673825_C_T</th><th scope=col>AKAP7-6_131691964_C_A</th><th scope=col>ALDH7A1-5_126011412_G_A</th><th scope=col>ANKRD18B-9_33524775_C_A</th><th scope=col>APIP-11_34905987_T_C</th><th scope=col>...</th><th scope=col>YWHAE-17_1246420_G_A</th><th scope=col>ZBBX-3_167080934_T_G</th><th scope=col>ZC3HAV1-7_138730361_T_C</th><th scope=col>ZFR2-19_3840157_C_T</th><th scope=col>ZG16B-16_2871121_T_C</th><th scope=col>ZNF423-16_49599995_C_G</th><th scope=col>ZNF552-19_58315273_G_A</th><th scope=col>ZNF738-19_21474173_G_A</th><th scope=col>ZNF77-19_2936535_G_A</th><th scope=col>ZP3-7_76177284_C_T</th></tr></thead>\n",
       "<tbody>\n",
       "\t<tr><th scope=row>HPSI0714i-iudw_1--DA--d30--0</th><td>-0.2108622   </td><td> 0.003924475 </td><td>0.02206444   </td><td>0.02834211   </td><td> 0.2235163   </td><td>-0.03575032  </td><td>-0.09473256  </td><td> 0.006901295 </td><td> 0.0006737957</td><td>-0.07499119  </td><td>...          </td><td> 0.06962421  </td><td>0.1120253    </td><td>-0.04172133  </td><td>0.01126897   </td><td> 0.1057579   </td><td>-0.03101814  </td><td>0.0909417    </td><td>0.3020245    </td><td>-0.1583842   </td><td>-0.05596878  </td></tr>\n",
       "\t<tr><th scope=row>HPSI0714i-iudw_1--DA--d30--1</th><td>-0.2283969   </td><td>-0.047217741 </td><td>0.10596178   </td><td>0.02514689   </td><td>-0.1921801   </td><td>-0.01471768  </td><td> 0.01878961  </td><td>-0.171038975 </td><td>-0.1105473675</td><td>-0.18686595  </td><td>...          </td><td>-0.21070417  </td><td>0.3759854    </td><td> 0.08774666  </td><td>0.02505916   </td><td>-0.1950055   </td><td>-0.22780547  </td><td>0.0775938    </td><td>0.3452492    </td><td>-0.3472152   </td><td>-0.15259400  </td></tr>\n",
       "</tbody>\n",
       "</table>\n"
      ],
      "text/latex": [
       "\\begin{tabular}{r|lllllllllllllllllllllllllllllllllllllllllllllllllllllllllllllllllllllllllllllllllllllllllllllllllllllllllllllllllllllllllllllllllllllllllllllllllllllllllllllllllllllllllllllllllllllllllllllllllllllllllllllllllllll}\n",
       "  & ABHD10-3\\_111697439\\_T\\_G & ABHD12B-14\\_51328222\\_C\\_T & ACKR2-3\\_42817129\\_C\\_T & ADD2-2\\_70894426\\_A\\_T & ADSL-22\\_40757228\\_A\\_C & AIM1L-1\\_26673825\\_C\\_T & AKAP7-6\\_131691964\\_C\\_A & ALDH7A1-5\\_126011412\\_G\\_A & ANKRD18B-9\\_33524775\\_C\\_A & APIP-11\\_34905987\\_T\\_C & ... & YWHAE-17\\_1246420\\_G\\_A & ZBBX-3\\_167080934\\_T\\_G & ZC3HAV1-7\\_138730361\\_T\\_C & ZFR2-19\\_3840157\\_C\\_T & ZG16B-16\\_2871121\\_T\\_C & ZNF423-16\\_49599995\\_C\\_G & ZNF552-19\\_58315273\\_G\\_A & ZNF738-19\\_21474173\\_G\\_A & ZNF77-19\\_2936535\\_G\\_A & ZP3-7\\_76177284\\_C\\_T\\\\\n",
       "\\hline\n",
       "\tHPSI0714i-iudw\\_1--DA--d30--0 & -0.2108622    &  0.003924475  & 0.02206444    & 0.02834211    &  0.2235163    & -0.03575032   & -0.09473256   &  0.006901295  &  0.0006737957 & -0.07499119   & ...           &  0.06962421   & 0.1120253     & -0.04172133   & 0.01126897    &  0.1057579    & -0.03101814   & 0.0909417     & 0.3020245     & -0.1583842    & -0.05596878  \\\\\n",
       "\tHPSI0714i-iudw\\_1--DA--d30--1 & -0.2283969    & -0.047217741  & 0.10596178    & 0.02514689    & -0.1921801    & -0.01471768   &  0.01878961   & -0.171038975  & -0.1105473675 & -0.18686595   & ...           & -0.21070417   & 0.3759854     &  0.08774666   & 0.02505916    & -0.1950055    & -0.22780547   & 0.0775938     & 0.3452492     & -0.3472152    & -0.15259400  \\\\\n",
       "\\end{tabular}\n"
      ],
      "text/markdown": [
       "\n",
       "| <!--/--> | ABHD10-3_111697439_T_G | ABHD12B-14_51328222_C_T | ACKR2-3_42817129_C_T | ADD2-2_70894426_A_T | ADSL-22_40757228_A_C | AIM1L-1_26673825_C_T | AKAP7-6_131691964_C_A | ALDH7A1-5_126011412_G_A | ANKRD18B-9_33524775_C_A | APIP-11_34905987_T_C | ... | YWHAE-17_1246420_G_A | ZBBX-3_167080934_T_G | ZC3HAV1-7_138730361_T_C | ZFR2-19_3840157_C_T | ZG16B-16_2871121_T_C | ZNF423-16_49599995_C_G | ZNF552-19_58315273_G_A | ZNF738-19_21474173_G_A | ZNF77-19_2936535_G_A | ZP3-7_76177284_C_T |\n",
       "|---|---|---|---|---|---|---|---|---|---|---|---|---|---|---|---|---|---|---|---|---|---|\n",
       "| HPSI0714i-iudw_1--DA--d30--0 | -0.2108622    |  0.003924475  | 0.02206444    | 0.02834211    |  0.2235163    | -0.03575032   | -0.09473256   |  0.006901295  |  0.0006737957 | -0.07499119   | ...           |  0.06962421   | 0.1120253     | -0.04172133   | 0.01126897    |  0.1057579    | -0.03101814   | 0.0909417     | 0.3020245     | -0.1583842    | -0.05596878   |\n",
       "| HPSI0714i-iudw_1--DA--d30--1 | -0.2283969    | -0.047217741  | 0.10596178    | 0.02514689    | -0.1921801    | -0.01471768   |  0.01878961   | -0.171038975  | -0.1105473675 | -0.18686595   | ...           | -0.21070417   | 0.3759854     |  0.08774666   | 0.02505916    | -0.1950055    | -0.22780547   | 0.0775938     | 0.3452492     | -0.3472152    | -0.15259400   |\n",
       "\n"
      ],
      "text/plain": [
       "                             ABHD10-3_111697439_T_G ABHD12B-14_51328222_C_T\n",
       "HPSI0714i-iudw_1--DA--d30--0 -0.2108622              0.003924475           \n",
       "HPSI0714i-iudw_1--DA--d30--1 -0.2283969             -0.047217741           \n",
       "                             ACKR2-3_42817129_C_T ADD2-2_70894426_A_T\n",
       "HPSI0714i-iudw_1--DA--d30--0 0.02206444           0.02834211         \n",
       "HPSI0714i-iudw_1--DA--d30--1 0.10596178           0.02514689         \n",
       "                             ADSL-22_40757228_A_C AIM1L-1_26673825_C_T\n",
       "HPSI0714i-iudw_1--DA--d30--0  0.2235163           -0.03575032         \n",
       "HPSI0714i-iudw_1--DA--d30--1 -0.1921801           -0.01471768         \n",
       "                             AKAP7-6_131691964_C_A ALDH7A1-5_126011412_G_A\n",
       "HPSI0714i-iudw_1--DA--d30--0 -0.09473256            0.006901295           \n",
       "HPSI0714i-iudw_1--DA--d30--1  0.01878961           -0.171038975           \n",
       "                             ANKRD18B-9_33524775_C_A APIP-11_34905987_T_C ...\n",
       "HPSI0714i-iudw_1--DA--d30--0  0.0006737957           -0.07499119          ...\n",
       "HPSI0714i-iudw_1--DA--d30--1 -0.1105473675           -0.18686595          ...\n",
       "                             YWHAE-17_1246420_G_A ZBBX-3_167080934_T_G\n",
       "HPSI0714i-iudw_1--DA--d30--0  0.06962421          0.1120253           \n",
       "HPSI0714i-iudw_1--DA--d30--1 -0.21070417          0.3759854           \n",
       "                             ZC3HAV1-7_138730361_T_C ZFR2-19_3840157_C_T\n",
       "HPSI0714i-iudw_1--DA--d30--0 -0.04172133             0.01126897         \n",
       "HPSI0714i-iudw_1--DA--d30--1  0.08774666             0.02505916         \n",
       "                             ZG16B-16_2871121_T_C ZNF423-16_49599995_C_G\n",
       "HPSI0714i-iudw_1--DA--d30--0  0.1057579           -0.03101814           \n",
       "HPSI0714i-iudw_1--DA--d30--1 -0.1950055           -0.22780547           \n",
       "                             ZNF552-19_58315273_G_A ZNF738-19_21474173_G_A\n",
       "HPSI0714i-iudw_1--DA--d30--0 0.0909417              0.3020245             \n",
       "HPSI0714i-iudw_1--DA--d30--1 0.0775938              0.3452492             \n",
       "                             ZNF77-19_2936535_G_A ZP3-7_76177284_C_T\n",
       "HPSI0714i-iudw_1--DA--d30--0 -0.1583842           -0.05596878       \n",
       "HPSI0714i-iudw_1--DA--d30--1 -0.3472152           -0.15259400       "
      ]
     },
     "metadata": {},
     "output_type": "display_data"
    },
    {
     "data": {
      "text/html": [
       "8352"
      ],
      "text/latex": [
       "8352"
      ],
      "text/markdown": [
       "8352"
      ],
      "text/plain": [
       "[1] 8352"
      ]
     },
     "metadata": {},
     "output_type": "display_data"
    },
    {
     "data": {
      "text/html": [
       "213"
      ],
      "text/latex": [
       "213"
      ],
      "text/markdown": [
       "213"
      ],
      "text/plain": [
       "[1] 213"
      ]
     },
     "metadata": {},
     "output_type": "display_data"
    }
   ],
   "source": [
    "## load single-cell eQTL genetic effects due to GxC (beta_GxC)\n",
    "df = read.csv(paste0(beta_dir,\"eqtl_tot_genetic_effect_all.txt\"), sep=\"\\t\",row.names = 1)\n",
    "colnames(df) = gsub(\"_-\",\"-\",gsub(\"\\\\.\",\"-\",colnames(df)))\n",
    "head(df,2)\n",
    "nrow(df)\n",
    "ncol(df)"
   ]
  },
  {
   "cell_type": "code",
   "execution_count": 4,
   "id": "59cda70f",
   "metadata": {},
   "outputs": [
    {
     "data": {
      "text/html": [
       "<table>\n",
       "<thead><tr><th></th><th scope=col>beta_G</th></tr></thead>\n",
       "<tbody>\n",
       "\t<tr><th scope=row>ABHD10-3_111697439_T_G</th><td> 0.30340827</td></tr>\n",
       "\t<tr><th scope=row>ABHD12B-14_51328222_C_T</th><td>-0.10783378</td></tr>\n",
       "\t<tr><th scope=row>ACKR2-3_42817129_C_T</th><td>-0.09692314</td></tr>\n",
       "\t<tr><th scope=row>ADD2-2_70894426_A_T</th><td>-0.14525581</td></tr>\n",
       "\t<tr><th scope=row>ADSL-22_40757228_A_C</th><td> 0.09485572</td></tr>\n",
       "\t<tr><th scope=row>AIM1L-1_26673825_C_T</th><td> 0.04175069</td></tr>\n",
       "</tbody>\n",
       "</table>\n"
      ],
      "text/latex": [
       "\\begin{tabular}{r|l}\n",
       "  & beta\\_G\\\\\n",
       "\\hline\n",
       "\tABHD10-3\\_111697439\\_T\\_G &  0.30340827\\\\\n",
       "\tABHD12B-14\\_51328222\\_C\\_T & -0.10783378\\\\\n",
       "\tACKR2-3\\_42817129\\_C\\_T & -0.09692314\\\\\n",
       "\tADD2-2\\_70894426\\_A\\_T & -0.14525581\\\\\n",
       "\tADSL-22\\_40757228\\_A\\_C &  0.09485572\\\\\n",
       "\tAIM1L-1\\_26673825\\_C\\_T &  0.04175069\\\\\n",
       "\\end{tabular}\n"
      ],
      "text/markdown": [
       "\n",
       "| <!--/--> | beta_G |\n",
       "|---|---|\n",
       "| ABHD10-3_111697439_T_G |  0.30340827 |\n",
       "| ABHD12B-14_51328222_C_T | -0.10783378 |\n",
       "| ACKR2-3_42817129_C_T | -0.09692314 |\n",
       "| ADD2-2_70894426_A_T | -0.14525581 |\n",
       "| ADSL-22_40757228_A_C |  0.09485572 |\n",
       "| AIM1L-1_26673825_C_T |  0.04175069 |\n",
       "\n"
      ],
      "text/plain": [
       "                        beta_G     \n",
       "ABHD10-3_111697439_T_G   0.30340827\n",
       "ABHD12B-14_51328222_C_T -0.10783378\n",
       "ACKR2-3_42817129_C_T    -0.09692314\n",
       "ADD2-2_70894426_A_T     -0.14525581\n",
       "ADSL-22_40757228_A_C     0.09485572\n",
       "AIM1L-1_26673825_C_T     0.04175069"
      ]
     },
     "metadata": {},
     "output_type": "display_data"
    },
    {
     "data": {
      "text/html": [
       "213"
      ],
      "text/latex": [
       "213"
      ],
      "text/markdown": [
       "213"
      ],
      "text/plain": [
       "[1] 213"
      ]
     },
     "metadata": {},
     "output_type": "display_data"
    }
   ],
   "source": [
    "# load persistent genetic effects (shared across all cells, beta_G)\n",
    "df0 = read.csv(paste0(beta_dir,\"eqtl_persistent_genetic_effect_all.txt\"), sep=\"\\t\",row.names = 1)\n",
    "rownames(df0) = gsub(\"\\\\.\",\"-\",rownames(df0))\n",
    "head(df0)\n",
    "nrow(df0)"
   ]
  },
  {
   "cell_type": "code",
   "execution_count": 5,
   "id": "97274b43",
   "metadata": {},
   "outputs": [],
   "source": [
    "df1 = df0\n",
    "df1$n = c()"
   ]
  },
  {
   "cell_type": "code",
   "execution_count": 6,
   "id": "3d452467",
   "metadata": {},
   "outputs": [
    {
     "data": {
      "text/html": [
       "<table>\n",
       "<thead><tr><th></th><th scope=col>beta_G</th><th scope=col>n</th></tr></thead>\n",
       "<tbody>\n",
       "\t<tr><th scope=row>ABHD10-3_111697439_T_G</th><td> 0.30340827</td><td>0.85069444 </td></tr>\n",
       "\t<tr><th scope=row>ABHD12B-14_51328222_C_T</th><td>-0.10783378</td><td>0.23934387 </td></tr>\n",
       "\t<tr><th scope=row>ACKR2-3_42817129_C_T</th><td>-0.09692314</td><td>0.13350096 </td></tr>\n",
       "\t<tr><th scope=row>ADD2-2_70894426_A_T</th><td>-0.14525581</td><td>0.04106801 </td></tr>\n",
       "\t<tr><th scope=row>ADSL-22_40757228_A_C</th><td> 0.09485572</td><td>0.68271073 </td></tr>\n",
       "\t<tr><th scope=row>AIM1L-1_26673825_C_T</th><td> 0.04175069</td><td>0.72042625 </td></tr>\n",
       "</tbody>\n",
       "</table>\n"
      ],
      "text/latex": [
       "\\begin{tabular}{r|ll}\n",
       "  & beta\\_G & n\\\\\n",
       "\\hline\n",
       "\tABHD10-3\\_111697439\\_T\\_G &  0.30340827 & 0.85069444 \\\\\n",
       "\tABHD12B-14\\_51328222\\_C\\_T & -0.10783378 & 0.23934387 \\\\\n",
       "\tACKR2-3\\_42817129\\_C\\_T & -0.09692314 & 0.13350096 \\\\\n",
       "\tADD2-2\\_70894426\\_A\\_T & -0.14525581 & 0.04106801 \\\\\n",
       "\tADSL-22\\_40757228\\_A\\_C &  0.09485572 & 0.68271073 \\\\\n",
       "\tAIM1L-1\\_26673825\\_C\\_T &  0.04175069 & 0.72042625 \\\\\n",
       "\\end{tabular}\n"
      ],
      "text/markdown": [
       "\n",
       "| <!--/--> | beta_G | n |\n",
       "|---|---|---|\n",
       "| ABHD10-3_111697439_T_G |  0.30340827 | 0.85069444  |\n",
       "| ABHD12B-14_51328222_C_T | -0.10783378 | 0.23934387  |\n",
       "| ACKR2-3_42817129_C_T | -0.09692314 | 0.13350096  |\n",
       "| ADD2-2_70894426_A_T | -0.14525581 | 0.04106801  |\n",
       "| ADSL-22_40757228_A_C |  0.09485572 | 0.68271073  |\n",
       "| AIM1L-1_26673825_C_T |  0.04175069 | 0.72042625  |\n",
       "\n"
      ],
      "text/plain": [
       "                        beta_G      n         \n",
       "ABHD10-3_111697439_T_G   0.30340827 0.85069444\n",
       "ABHD12B-14_51328222_C_T -0.10783378 0.23934387\n",
       "ACKR2-3_42817129_C_T    -0.09692314 0.13350096\n",
       "ADD2-2_70894426_A_T     -0.14525581 0.04106801\n",
       "ADSL-22_40757228_A_C     0.09485572 0.68271073\n",
       "AIM1L-1_26673825_C_T     0.04175069 0.72042625"
      ]
     },
     "metadata": {},
     "output_type": "display_data"
    }
   ],
   "source": [
    "for (eqtl in rownames(df0)){\n",
    "    beta_all = df[,eqtl] + df0[eqtl,]\n",
    "    n = length(beta_all[beta_all > 0])/length(beta_all)\n",
    "    df1[eqtl,\"n\"]=n\n",
    "}\n",
    "head(df1)"
   ]
  },
  {
   "cell_type": "code",
   "execution_count": 7,
   "id": "5cab53ab",
   "metadata": {},
   "outputs": [],
   "source": [
    "# write.csv()"
   ]
  },
  {
   "cell_type": "code",
   "execution_count": null,
   "id": "4ecf9e8a",
   "metadata": {},
   "outputs": [],
   "source": []
  },
  {
   "cell_type": "code",
   "execution_count": 8,
   "id": "6c55beaa",
   "metadata": {},
   "outputs": [],
   "source": [
    "options(repr.plot.width=6, repr.plot.height=4)"
   ]
  },
  {
   "cell_type": "code",
   "execution_count": 9,
   "id": "6e1344a0",
   "metadata": {},
   "outputs": [
    {
     "data": {
      "image/png": "[encoded data removed]",
      "text/plain": [
       "Plot with title “Histogram of df1$n”"
      ]
     },
     "metadata": {},
     "output_type": "display_data"
    }
   ],
   "source": [
    "hist(df1$n)"
   ]
  },
  {
   "cell_type": "code",
   "execution_count": 10,
   "id": "c7b2350b",
   "metadata": {},
   "outputs": [
    {
     "data": {
      "image/png": "[encoded data removed]",
      "text/plain": [
       "plot without title"
      ]
     },
     "metadata": {},
     "output_type": "display_data"
    }
   ],
   "source": [
    "ggplot(df1, aes(x=n)) + geom_histogram(alpha = 0.8, bins = 50) + \n",
    "    xlab(\"Percentage of eQTLs with a flip sign\") + \n",
    "    ylab(\"Number of genes\") + theme_minimal() + \n",
    "    geom_vline(xintercept = 0.15, linetype=\"dashed\") + geom_vline(xintercept = 0.85, linetype=\"dashed\")"
   ]
  },
  {
   "cell_type": "code",
   "execution_count": null,
   "id": "0d0909f2",
   "metadata": {},
   "outputs": [],
   "source": []
  },
  {
   "cell_type": "code",
   "execution_count": 11,
   "id": "47d3a1a5",
   "metadata": {},
   "outputs": [],
   "source": [
    "thresholds = seq(0, 0.5, length.out = 100)"
   ]
  },
  {
   "cell_type": "code",
   "execution_count": 12,
   "id": "b8102bdb",
   "metadata": {},
   "outputs": [],
   "source": [
    "df_flips = data.frame(pct_w_different_sign = thresholds, n_genes=0)"
   ]
  },
  {
   "cell_type": "code",
   "execution_count": 13,
   "id": "3b3ecb1b",
   "metadata": {},
   "outputs": [],
   "source": [
    "for (t in thresholds){\n",
    "    df_flips[df_flips$pct_w_different_sign == t,\"n_genes\"] = nrow(df1[df1$n>t & df1$n<(1-t),])\n",
    "}"
   ]
  },
  {
   "cell_type": "code",
   "execution_count": 14,
   "id": "75928965",
   "metadata": {},
   "outputs": [
    {
     "data": {
      "image/png": "[encoded data removed]",
      "text/plain": [
       "plot without title"
      ]
     },
     "metadata": {},
     "output_type": "display_data"
    }
   ],
   "source": [
    "options(repr.plot.width = 8, repr.plot.height = 3) \n",
    "ggplot(df_flips, aes(x = pct_w_different_sign, y = n_genes)) + geom_line(col=\"grey\") + theme_minimal() +\n",
    "    geom_vline(xintercept = 0.15, linetype=\"dashed\", col=\"cornflowerblue\") + annotate(\"text\", label=\"44%\", x=0.135, y=150, col=\"cornflowerblue\") +\n",
    "    geom_vline(xintercept = 0.2, linetype=\"dashed\", col=\"firebrick\") + annotate(\"text\", label=\"30%\", x=0.185, y=150, col=\"firebrick\") +\n",
    "    geom_vline(xintercept = 0.25, linetype=\"dashed\") + annotate(\"text\", label=\"21%\", x=0.235, y=150)"
   ]
  },
  {
   "cell_type": "code",
   "execution_count": 15,
   "id": "edcccb9e",
   "metadata": {},
   "outputs": [
    {
     "data": {
      "image/png": "[encoded data removed]",
      "text/plain": [
       "plot without title"
      ]
     },
     "metadata": {},
     "output_type": "display_data"
    }
   ],
   "source": [
    "ggplot(df1, aes(x=n)) + geom_histogram(alpha = 0.8, bins = 50) + \n",
    "    xlab(\"Percentage of eQTLs with a flip sign\") + \n",
    "    ylab(\"Number of genes\") + theme_minimal() + \n",
    "    geom_vline(xintercept = 0.15, linetype=\"dashed\", col=\"cornflowerblue\") + geom_vline(xintercept = 0.85, linetype=\"dashed\", col=\"cornflowerblue\") +    \n",
    "    geom_vline(xintercept = 0.2, linetype=\"dashed\", col=\"firebrick\") + geom_vline(xintercept = 0.8, linetype=\"dashed\", col=\"firebrick\") +    \n",
    "    geom_vline(xintercept = 0.25, linetype=\"dashed\") + geom_vline(xintercept = 0.75, linetype=\"dashed\")"
   ]
  },
  {
   "cell_type": "code",
   "execution_count": null,
   "id": "f6384770",
   "metadata": {},
   "outputs": [],
   "source": []
  },
  {
   "cell_type": "code",
   "execution_count": 16,
   "id": "21d72f7f",
   "metadata": {},
   "outputs": [
    {
     "data": {
      "text/html": [
       "45"
      ],
      "text/latex": [
       "45"
      ],
      "text/markdown": [
       "45"
      ],
      "text/plain": [
       "[1] 45"
      ]
     },
     "metadata": {},
     "output_type": "display_data"
    },
    {
     "data": {
      "text/html": [
       "0.211267605633803"
      ],
      "text/latex": [
       "0.211267605633803"
      ],
      "text/markdown": [
       "0.211267605633803"
      ],
      "text/plain": [
       "[1] 0.2112676"
      ]
     },
     "metadata": {},
     "output_type": "display_data"
    }
   ],
   "source": [
    "nrow(df1[df1$n>0.25 & df1$n<0.75,])\n",
    "nrow(df1[df1$n>0.25 & df1$n<0.75,])/nrow(df1)"
   ]
  },
  {
   "cell_type": "code",
   "execution_count": 17,
   "id": "ddecf5c5",
   "metadata": {},
   "outputs": [
    {
     "data": {
      "text/html": [
       "64"
      ],
      "text/latex": [
       "64"
      ],
      "text/markdown": [
       "64"
      ],
      "text/plain": [
       "[1] 64"
      ]
     },
     "metadata": {},
     "output_type": "display_data"
    },
    {
     "data": {
      "text/html": [
       "0.300469483568075"
      ],
      "text/latex": [
       "0.300469483568075"
      ],
      "text/markdown": [
       "0.300469483568075"
      ],
      "text/plain": [
       "[1] 0.3004695"
      ]
     },
     "metadata": {},
     "output_type": "display_data"
    }
   ],
   "source": [
    "nrow(df1[df1$n>0.2 & df1$n<0.8,])\n",
    "nrow(df1[df1$n>0.2 & df1$n<0.8,])/nrow(df1)"
   ]
  },
  {
   "cell_type": "code",
   "execution_count": 18,
   "id": "5eaac4a3",
   "metadata": {},
   "outputs": [
    {
     "data": {
      "text/html": [
       "94"
      ],
      "text/latex": [
       "94"
      ],
      "text/markdown": [
       "94"
      ],
      "text/plain": [
       "[1] 94"
      ]
     },
     "metadata": {},
     "output_type": "display_data"
    },
    {
     "data": {
      "text/html": [
       "0.44131455399061"
      ],
      "text/latex": [
       "0.44131455399061"
      ],
      "text/markdown": [
       "0.44131455399061"
      ],
      "text/plain": [
       "[1] 0.4413146"
      ]
     },
     "metadata": {},
     "output_type": "display_data"
    }
   ],
   "source": [
    "nrow(df1[df1$n>0.15 & df1$n<0.85,])\n",
    "nrow(df1[df1$n>0.15 & df1$n<0.85,])/nrow(df1)"
   ]
  },
  {
   "cell_type": "code",
   "execution_count": 19,
   "id": "edbea954",
   "metadata": {
    "scrolled": true
   },
   "outputs": [
    {
     "data": {
      "text/html": [
       "94"
      ],
      "text/latex": [
       "94"
      ],
      "text/markdown": [
       "94"
      ],
      "text/plain": [
       "[1] 94"
      ]
     },
     "metadata": {},
     "output_type": "display_data"
    },
    {
     "data": {
      "text/html": [
       "<table>\n",
       "<thead><tr><th></th><th scope=col>beta_G</th><th scope=col>n</th></tr></thead>\n",
       "<tbody>\n",
       "\t<tr><th scope=row>ABHD12B-14_51328222_C_T</th><td>-0.10783378</td><td>0.2393439  </td></tr>\n",
       "\t<tr><th scope=row>ADSL-22_40757228_A_C</th><td> 0.09485572</td><td>0.6827107  </td></tr>\n",
       "</tbody>\n",
       "</table>\n"
      ],
      "text/latex": [
       "\\begin{tabular}{r|ll}\n",
       "  & beta\\_G & n\\\\\n",
       "\\hline\n",
       "\tABHD12B-14\\_51328222\\_C\\_T & -0.10783378 & 0.2393439  \\\\\n",
       "\tADSL-22\\_40757228\\_A\\_C &  0.09485572 & 0.6827107  \\\\\n",
       "\\end{tabular}\n"
      ],
      "text/markdown": [
       "\n",
       "| <!--/--> | beta_G | n |\n",
       "|---|---|---|\n",
       "| ABHD12B-14_51328222_C_T | -0.10783378 | 0.2393439   |\n",
       "| ADSL-22_40757228_A_C |  0.09485572 | 0.6827107   |\n",
       "\n"
      ],
      "text/plain": [
       "                        beta_G      n        \n",
       "ABHD12B-14_51328222_C_T -0.10783378 0.2393439\n",
       "ADSL-22_40757228_A_C     0.09485572 0.6827107"
      ]
     },
     "metadata": {},
     "output_type": "display_data"
    }
   ],
   "source": [
    "flips_df = df1[df1$n>0.15 & df1$n<0.85,]\n",
    "nrow(flips_df)\n",
    "head(flips_df,2)"
   ]
  },
  {
   "cell_type": "code",
   "execution_count": 20,
   "id": "d5ea6a87",
   "metadata": {},
   "outputs": [],
   "source": [
    "flips_filename = paste0(beta_dir, \"eqtl_with_flip_sign.csv\")\n",
    "write.csv(flips_df, flips_filename)"
   ]
  },
  {
   "cell_type": "code",
   "execution_count": null,
   "id": "b42889fb",
   "metadata": {},
   "outputs": [],
   "source": []
  },
  {
   "cell_type": "code",
   "execution_count": null,
   "id": "bb1978d5",
   "metadata": {},
   "outputs": [],
   "source": []
  },
  {
   "cell_type": "code",
   "execution_count": 22,
   "id": "12cfbeff",
   "metadata": {},
   "outputs": [
    {
     "data": {
      "image/png": "[encoded data removed]",
      "text/plain": [
       "plot without title"
      ]
     },
     "metadata": {},
     "output_type": "display_data"
    }
   ],
   "source": [
    "ggplot(df1, aes(x=n)) + geom_histogram(alpha = 0.8, bins = 50) + \n",
    "    xlab(\"Portion of cells with different sign\") + \n",
    "    ylab(\"Number of eQTLs\") + theme_minimal() + \n",
    "#     geom_vline(xintercept = 0.15, linetype=\"dashed\", col=\"cornflowerblue\") + geom_vline(xintercept = 0.85, linetype=\"dashed\", col=\"cornflowerblue\") +    \n",
    "#     geom_vline(xintercept = 0.2, linetype=\"dashed\", col=\"firebrick\") + geom_vline(xintercept = 0.8, linetype=\"dashed\", col=\"firebrick\") +    \n",
    "    geom_vline(xintercept = 0.25, linetype=\"dashed\") + geom_vline(xintercept = 0.75, linetype=\"dashed\")"
   ]
  },
  {
   "cell_type": "code",
   "execution_count": null,
   "id": "6e1520da",
   "metadata": {},
   "outputs": [],
   "source": []
  }
 ],
 "metadata": {
  "kernelspec": {
   "display_name": "R",
   "language": "R",
   "name": "ir"
  },
  "language_info": {
   "codemirror_mode": "r",
   "file_extension": ".r",
   "mimetype": "text/x-r-source",
   "name": "R",
   "pygments_lexer": "r",
   "version": "3.6.1"
  }
 },
 "nbformat": 4,
 "nbformat_minor": 5
}
