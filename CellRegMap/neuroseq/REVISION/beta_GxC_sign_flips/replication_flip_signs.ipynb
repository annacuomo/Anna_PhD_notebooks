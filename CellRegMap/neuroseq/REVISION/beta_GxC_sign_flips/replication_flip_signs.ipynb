{
 "cells": [
  {
   "cell_type": "code",
   "execution_count": 1,
   "id": "3757114a",
   "metadata": {},
   "outputs": [],
   "source": [
    "beta_dir = \"/hps/nobackup2/stegle/users/acuomo/all_scripts/struct_LMM2/sc_neuroseq/May2021/genetic_effect/MOFA10/\""
   ]
  },
  {
   "cell_type": "code",
   "execution_count": 4,
   "id": "20f3d2af",
   "metadata": {},
   "outputs": [],
   "source": [
    "df = read.csv(paste0(beta_dir,\"eqtl_with_flip_sign_replication.csv\"), row.names=1)"
   ]
  },
  {
   "cell_type": "code",
   "execution_count": 5,
   "id": "3f6f56b1",
   "metadata": {},
   "outputs": [
    {
     "data": {
      "text/html": [
       "<table>\n",
       "<thead><tr><th scope=col>eqtl</th><th scope=col>beta_G</th><th scope=col>n</th><th scope=col>beta_top</th><th scope=col>beta_bottom</th><th scope=col>beta_se_top</th><th scope=col>beta_se_bottom</th><th scope=col>pv_top</th><th scope=col>pv_bottom</th></tr></thead>\n",
       "<tbody>\n",
       "\t<tr><td>ABHD12B-14_51328222_C_T</td><td>-0.10783378            </td><td>0.2393439              </td><td>0.01259404             </td><td>-0.251275648           </td><td>0.01354299             </td><td>0.023188167            </td><td>3.525413e-01           </td><td>1.722813e-26           </td></tr>\n",
       "\t<tr><td>ADSL-22_40757228_A_C   </td><td> 0.09485572            </td><td>0.6827107              </td><td>0.45664549             </td><td>-0.069643491           </td><td>0.08163057             </td><td>0.087602675            </td><td>2.587780e-08           </td><td>4.267308e-01           </td></tr>\n",
       "\t<tr><td>AIM1L-1_26673825_C_T   </td><td> 0.04175069            </td><td>0.7204262              </td><td>0.13859081             </td><td> 0.058506328           </td><td>0.02194199             </td><td>0.021931552            </td><td>3.428819e-10           </td><td>7.711610e-03           </td></tr>\n",
       "\t<tr><td>ALDH7A1-5_126011412_G_A</td><td> 0.13257557            </td><td>0.7406609              </td><td>0.54471868             </td><td> 0.073115451           </td><td>0.08155943             </td><td>0.084624751            </td><td>3.271249e-11           </td><td>3.877142e-01           </td></tr>\n",
       "\t<tr><td>ANKRD18B-9_33524775_C_A</td><td> 0.07399059            </td><td>0.8421935              </td><td>0.05686478             </td><td> 0.006848767           </td><td>0.01135859             </td><td>0.004573128            </td><td>6.134502e-07           </td><td>1.344234e-01           </td></tr>\n",
       "\t<tr><td>BATF3-1_212852832_T_C  </td><td> 0.06635896            </td><td>0.5977011              </td><td>0.13523717             </td><td>-0.001157855           </td><td>0.02312108             </td><td>0.011366330            </td><td>5.935374e-09           </td><td>9.188744e-01           </td></tr>\n",
       "</tbody>\n",
       "</table>\n"
      ],
      "text/latex": [
       "\\begin{tabular}{r|lllllllll}\n",
       " eqtl & beta\\_G & n & beta\\_top & beta\\_bottom & beta\\_se\\_top & beta\\_se\\_bottom & pv\\_top & pv\\_bottom\\\\\n",
       "\\hline\n",
       "\t ABHD12B-14\\_51328222\\_C\\_T & -0.10783378                   & 0.2393439                     & 0.01259404                    & -0.251275648                  & 0.01354299                    & 0.023188167                   & 3.525413e-01                  & 1.722813e-26                 \\\\\n",
       "\t ADSL-22\\_40757228\\_A\\_C    &  0.09485572                   & 0.6827107                     & 0.45664549                    & -0.069643491                  & 0.08163057                    & 0.087602675                   & 2.587780e-08                  & 4.267308e-01                 \\\\\n",
       "\t AIM1L-1\\_26673825\\_C\\_T    &  0.04175069                   & 0.7204262                     & 0.13859081                    &  0.058506328                  & 0.02194199                    & 0.021931552                   & 3.428819e-10                  & 7.711610e-03                 \\\\\n",
       "\t ALDH7A1-5\\_126011412\\_G\\_A &  0.13257557                   & 0.7406609                     & 0.54471868                    &  0.073115451                  & 0.08155943                    & 0.084624751                   & 3.271249e-11                  & 3.877142e-01                 \\\\\n",
       "\t ANKRD18B-9\\_33524775\\_C\\_A &  0.07399059                   & 0.8421935                     & 0.05686478                    &  0.006848767                  & 0.01135859                    & 0.004573128                   & 6.134502e-07                  & 1.344234e-01                 \\\\\n",
       "\t BATF3-1\\_212852832\\_T\\_C   &  0.06635896                   & 0.5977011                     & 0.13523717                    & -0.001157855                  & 0.02312108                    & 0.011366330                   & 5.935374e-09                  & 9.188744e-01                 \\\\\n",
       "\\end{tabular}\n"
      ],
      "text/markdown": [
       "\n",
       "| eqtl | beta_G | n | beta_top | beta_bottom | beta_se_top | beta_se_bottom | pv_top | pv_bottom |\n",
       "|---|---|---|---|---|---|---|---|---|\n",
       "| ABHD12B-14_51328222_C_T | -0.10783378             | 0.2393439               | 0.01259404              | -0.251275648            | 0.01354299              | 0.023188167             | 3.525413e-01            | 1.722813e-26            |\n",
       "| ADSL-22_40757228_A_C    |  0.09485572             | 0.6827107               | 0.45664549              | -0.069643491            | 0.08163057              | 0.087602675             | 2.587780e-08            | 4.267308e-01            |\n",
       "| AIM1L-1_26673825_C_T    |  0.04175069             | 0.7204262               | 0.13859081              |  0.058506328            | 0.02194199              | 0.021931552             | 3.428819e-10            | 7.711610e-03            |\n",
       "| ALDH7A1-5_126011412_G_A |  0.13257557             | 0.7406609               | 0.54471868              |  0.073115451            | 0.08155943              | 0.084624751             | 3.271249e-11            | 3.877142e-01            |\n",
       "| ANKRD18B-9_33524775_C_A |  0.07399059             | 0.8421935               | 0.05686478              |  0.006848767            | 0.01135859              | 0.004573128             | 6.134502e-07            | 1.344234e-01            |\n",
       "| BATF3-1_212852832_T_C   |  0.06635896             | 0.5977011               | 0.13523717              | -0.001157855            | 0.02312108              | 0.011366330             | 5.935374e-09            | 9.188744e-01            |\n",
       "\n"
      ],
      "text/plain": [
       "  eqtl                    beta_G      n         beta_top   beta_bottom \n",
       "1 ABHD12B-14_51328222_C_T -0.10783378 0.2393439 0.01259404 -0.251275648\n",
       "2 ADSL-22_40757228_A_C     0.09485572 0.6827107 0.45664549 -0.069643491\n",
       "3 AIM1L-1_26673825_C_T     0.04175069 0.7204262 0.13859081  0.058506328\n",
       "4 ALDH7A1-5_126011412_G_A  0.13257557 0.7406609 0.54471868  0.073115451\n",
       "5 ANKRD18B-9_33524775_C_A  0.07399059 0.8421935 0.05686478  0.006848767\n",
       "6 BATF3-1_212852832_T_C    0.06635896 0.5977011 0.13523717 -0.001157855\n",
       "  beta_se_top beta_se_bottom pv_top       pv_bottom   \n",
       "1 0.01354299  0.023188167    3.525413e-01 1.722813e-26\n",
       "2 0.08163057  0.087602675    2.587780e-08 4.267308e-01\n",
       "3 0.02194199  0.021931552    3.428819e-10 7.711610e-03\n",
       "4 0.08155943  0.084624751    3.271249e-11 3.877142e-01\n",
       "5 0.01135859  0.004573128    6.134502e-07 1.344234e-01\n",
       "6 0.02312108  0.011366330    5.935374e-09 9.188744e-01"
      ]
     },
     "metadata": {},
     "output_type": "display_data"
    }
   ],
   "source": [
    "head(df)"
   ]
  },
  {
   "cell_type": "code",
   "execution_count": 8,
   "id": "97b54639",
   "metadata": {},
   "outputs": [
    {
     "data": {
      "text/html": [
       "68"
      ],
      "text/latex": [
       "68"
      ],
      "text/markdown": [
       "68"
      ],
      "text/plain": [
       "[1] 68"
      ]
     },
     "metadata": {},
     "output_type": "display_data"
    },
    {
     "data": {
      "text/html": [
       "40"
      ],
      "text/latex": [
       "40"
      ],
      "text/markdown": [
       "40"
      ],
      "text/plain": [
       "[1] 40"
      ]
     },
     "metadata": {},
     "output_type": "display_data"
    },
    {
     "data": {
      "text/html": [
       "0.588235294117647"
      ],
      "text/latex": [
       "0.588235294117647"
      ],
      "text/markdown": [
       "0.588235294117647"
      ],
      "text/plain": [
       "[1] 0.5882353"
      ]
     },
     "metadata": {},
     "output_type": "display_data"
    }
   ],
   "source": [
    "nrow(df)\n",
    "nrow(df[df$beta_top*df$beta_bottom<0,])\n",
    "nrow(df[df$beta_top*df$beta_bottom<0,])/nrow(df)"
   ]
  },
  {
   "cell_type": "code",
   "execution_count": 7,
   "id": "ee138b8e",
   "metadata": {},
   "outputs": [
    {
     "data": {
      "text/html": [
       "42"
      ],
      "text/latex": [
       "42"
      ],
      "text/markdown": [
       "42"
      ],
      "text/plain": [
       "[1] 42"
      ]
     },
     "metadata": {},
     "output_type": "display_data"
    },
    {
     "data": {
      "text/html": [
       "29"
      ],
      "text/latex": [
       "29"
      ],
      "text/markdown": [
       "29"
      ],
      "text/plain": [
       "[1] 29"
      ]
     },
     "metadata": {},
     "output_type": "display_data"
    },
    {
     "data": {
      "text/html": [
       "0.69047619047619"
      ],
      "text/latex": [
       "0.69047619047619"
      ],
      "text/markdown": [
       "0.69047619047619"
      ],
      "text/plain": [
       "[1] 0.6904762"
      ]
     },
     "metadata": {},
     "output_type": "display_data"
    }
   ],
   "source": [
    "df0 = df[df$n>0.2 & df$n <0.8,]\n",
    "nrow(df0)\n",
    "nrow(df0[df0$beta_top*df0$beta_bottom<0,])\n",
    "nrow(df0[df0$beta_top*df0$beta_bottom<0,])/nrow(df0)"
   ]
  },
  {
   "cell_type": "code",
   "execution_count": 10,
   "id": "bd208fc7",
   "metadata": {},
   "outputs": [
    {
     "data": {
      "text/html": [
       "29"
      ],
      "text/latex": [
       "29"
      ],
      "text/markdown": [
       "29"
      ],
      "text/plain": [
       "[1] 29"
      ]
     },
     "metadata": {},
     "output_type": "display_data"
    },
    {
     "data": {
      "text/html": [
       "21"
      ],
      "text/latex": [
       "21"
      ],
      "text/markdown": [
       "21"
      ],
      "text/plain": [
       "[1] 21"
      ]
     },
     "metadata": {},
     "output_type": "display_data"
    },
    {
     "data": {
      "text/html": [
       "0.724137931034483"
      ],
      "text/latex": [
       "0.724137931034483"
      ],
      "text/markdown": [
       "0.724137931034483"
      ],
      "text/plain": [
       "[1] 0.7241379"
      ]
     },
     "metadata": {},
     "output_type": "display_data"
    }
   ],
   "source": [
    "df1 = df[df$n>0.25 & df$n <0.75,]\n",
    "nrow(df1)\n",
    "nrow(df1[df1$beta_top*df1$beta_bottom<0,])\n",
    "nrow(df1[df1$beta_top*df1$beta_bottom<0,])/nrow(df1)"
   ]
  },
  {
   "cell_type": "code",
   "execution_count": 18,
   "id": "6d42756f",
   "metadata": {},
   "outputs": [
    {
     "data": {
      "image/png": "[encoded data removed]",
      "text/plain": [
       "plot without title"
      ]
     },
     "metadata": {},
     "output_type": "display_data"
    }
   ],
   "source": [
    "options(repr.plot.width = 8, repr.plot.height = 5)\n",
    "opar <- par(lwd = 1)\n",
    "barplot(c(68,42,29), border=\"grey\", col = c(\"cornflowerblue\", \"coral\", \"gray82\"), axes = 3)\n",
    "barplot(c(40,29,21), border=\"grey\", col = c(\"darkblue\", \"firebrick\", \"gray22\"), add = T) "
   ]
  },
  {
   "cell_type": "code",
   "execution_count": null,
   "id": "1736b020",
   "metadata": {},
   "outputs": [],
   "source": []
  }
 ],
 "metadata": {
  "kernelspec": {
   "display_name": "R",
   "language": "R",
   "name": "ir"
  },
  "language_info": {
   "codemirror_mode": "r",
   "file_extension": ".r",
   "mimetype": "text/x-r-source",
   "name": "R",
   "pygments_lexer": "r",
   "version": "3.6.1"
  }
 },
 "nbformat": 4,
 "nbformat_minor": 5
}
