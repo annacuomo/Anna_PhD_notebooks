{
 "cells": [
  {
   "cell_type": "code",
   "execution_count": 5,
   "id": "ccbdb829",
   "metadata": {},
   "outputs": [],
   "source": [
    "import limix\n",
    "import pandas as pd"
   ]
  },
  {
   "cell_type": "code",
   "execution_count": 3,
   "id": "4ef7408a",
   "metadata": {},
   "outputs": [],
   "source": [
    "geno_prefix='/hps/nobackup/hipsci/scratch/genotypes/imputed/REL-2018-01/Full_Filtered_Plink-f/hipsci.wec.gtarray.HumanCoreExome.imputed_phased.20170327.genotypes.norm.renamed.recode.filtered'\n",
    "#bim,fam,bed = limix.io.read_plink(geno_prefix,verbose=False)\n",
    "bim,fam,bed = limix.io.plink.read(geno_prefix,verbose=False)\n",
    "bim = bim.set_index('snp')\n",
    "fam = fam.set_index('iid')"
   ]
  },
  {
   "cell_type": "code",
   "execution_count": 7,
   "id": "ef6e1506",
   "metadata": {},
   "outputs": [
    {
     "data": {
      "text/html": [
       "<div>\n",
       "<style scoped>\n",
       "    .dataframe tbody tr th:only-of-type {\n",
       "        vertical-align: middle;\n",
       "    }\n",
       "\n",
       "    .dataframe tbody tr th {\n",
       "        vertical-align: top;\n",
       "    }\n",
       "\n",
       "    .dataframe thead th {\n",
       "        text-align: right;\n",
       "    }\n",
       "</style>\n",
       "<table border=\"1\" class=\"dataframe\">\n",
       "  <thead>\n",
       "    <tr style=\"text-align: right;\">\n",
       "      <th></th>\n",
       "      <th>pseudocell</th>\n",
       "      <th>cell</th>\n",
       "      <th>donor</th>\n",
       "    </tr>\n",
       "  </thead>\n",
       "  <tbody>\n",
       "    <tr>\n",
       "      <th>1</th>\n",
       "      <td>HPSI0714i-iudw_1--DA--d30--0</td>\n",
       "      <td>AACACGTAGTTATCGC-1-0</td>\n",
       "      <td>HPSI0714i-iudw_1</td>\n",
       "    </tr>\n",
       "    <tr>\n",
       "      <th>2</th>\n",
       "      <td>HPSI0714i-iudw_1--DA--d30--0</td>\n",
       "      <td>AACGTTGGTCTAAAGA-1-0</td>\n",
       "      <td>HPSI0714i-iudw_1</td>\n",
       "    </tr>\n",
       "    <tr>\n",
       "      <th>3</th>\n",
       "      <td>HPSI0714i-iudw_1--DA--d30--0</td>\n",
       "      <td>ACCCACTTCACAAACC-1-0</td>\n",
       "      <td>HPSI0714i-iudw_1</td>\n",
       "    </tr>\n",
       "    <tr>\n",
       "      <th>4</th>\n",
       "      <td>HPSI0714i-iudw_1--DA--d30--0</td>\n",
       "      <td>AGAGCTTGTCAAGCGA-1-0</td>\n",
       "      <td>HPSI0714i-iudw_1</td>\n",
       "    </tr>\n",
       "    <tr>\n",
       "      <th>5</th>\n",
       "      <td>HPSI0714i-iudw_1--DA--d30--0</td>\n",
       "      <td>AGGTCATAGTGTACCT-1-0</td>\n",
       "      <td>HPSI0714i-iudw_1</td>\n",
       "    </tr>\n",
       "  </tbody>\n",
       "</table>\n",
       "</div>"
      ],
      "text/plain": [
       "                     pseudocell                  cell             donor\n",
       "1  HPSI0714i-iudw_1--DA--d30--0  AACACGTAGTTATCGC-1-0  HPSI0714i-iudw_1\n",
       "2  HPSI0714i-iudw_1--DA--d30--0  AACGTTGGTCTAAAGA-1-0  HPSI0714i-iudw_1\n",
       "3  HPSI0714i-iudw_1--DA--d30--0  ACCCACTTCACAAACC-1-0  HPSI0714i-iudw_1\n",
       "4  HPSI0714i-iudw_1--DA--d30--0  AGAGCTTGTCAAGCGA-1-0  HPSI0714i-iudw_1\n",
       "5  HPSI0714i-iudw_1--DA--d30--0  AGGTCATAGTGTACCT-1-0  HPSI0714i-iudw_1"
      ]
     },
     "execution_count": 7,
     "metadata": {},
     "output_type": "execute_result"
    }
   ],
   "source": [
    "filename = \"/hps/nobackup/stegle/users/acuomo/all_scripts/struct_LMM2/sc_neuroseq/cells_pseudocells_donors_mapping.csv\"\n",
    "samples_df = pd.read_csv(filename, index_col=0)\n",
    "samples_df.head()"
   ]
  },
  {
   "cell_type": "code",
   "execution_count": 24,
   "id": "88957add",
   "metadata": {},
   "outputs": [
    {
     "data": {
      "text/plain": [
       "192"
      ]
     },
     "execution_count": 24,
     "metadata": {},
     "output_type": "execute_result"
    }
   ],
   "source": [
    "sample_list = samples_df['donor'].unique()\n",
    "len(sample_list)"
   ]
  },
  {
   "cell_type": "code",
   "execution_count": 64,
   "id": "714b7463",
   "metadata": {},
   "outputs": [],
   "source": [
    "snp_id = '5_81395824_T_G'   # ATG10\n",
    "snp_id = '15_78849034_T_C'  # CHRNA3\n",
    "snp_id = '17_7207964_A_C'   # EIF5A\n",
    "snp_id = '5_153526051_G_A'  # GALNT10\n",
    "snp_id = '17_43925297_C_T'  # MAPT-AS1\n",
    "snp_id = '19_18275532_G_A'  # MAST3\n",
    "snp_id = '12_123604053_C_T' # MPHOSPH9\n",
    "snp_id = '5_176904279_C_G'  # PRR7-AS1\n",
    "snp_id = '16_31117698_C_T'  # PRSS36\n",
    "snp_id = '12_49464449_A_G'  # RHEBL1\n",
    "snp_id = '1_1660978_C_A'    # SLC35E2\n",
    "snp_id = '12_57509569_C_T'  # STAT6\n",
    "snp_id = '15_43597297_T_A'  # TUBGCP4"
   ]
  },
  {
   "cell_type": "code",
   "execution_count": 65,
   "id": "4e0f0e83",
   "metadata": {},
   "outputs": [
    {
     "name": "stderr",
     "output_type": "stream",
     "text": [
      "/nfs/software/stegle/users/acuomo/conda-envs/myscanpy/lib/python3.7/site-packages/ipykernel_launcher.py:4: PerformanceWarning: Slicing with an out-of-order index is generating 15 times more chunks\n",
      "  after removing the cwd from sys.path.\n"
     ]
    },
    {
     "data": {
      "text/plain": [
       "HPSI0714i-iudw_1    0.0\n",
       "HPSI0115i-paim_1    1.0\n",
       "HPSI0614i-liqa_1    1.0\n",
       "HPSI0914i-suop_5    1.0\n",
       "HPSI0214i-eiwy_1    0.0\n",
       "Name: Genotype, dtype: float64"
      ]
     },
     "execution_count": 65,
     "metadata": {},
     "output_type": "execute_result"
    }
   ],
   "source": [
    "snp_idx = bim.loc[snp_id, 'i']\n",
    "sample_indices = fam.loc[sample_list,'i'].tolist()\n",
    "\n",
    "genotypes = bed[snp_idx, sample_indices].compute()\n",
    "\n",
    "g_ds = pd.Series(genotypes, index=sample_list)\n",
    "g_ds.name = 'Genotype'\n",
    "g_ds.head()"
   ]
  },
  {
   "cell_type": "code",
   "execution_count": 66,
   "id": "9990e53a",
   "metadata": {},
   "outputs": [],
   "source": [
    "# g_ds.to_csv(\"/hps/nobackup/stegle/users/acuomo/all_scripts/struct_LMM2/sc_neuroseq/coloc_examples/ATG10_g.csv\")\n",
    "# g_ds.to_csv(\"/hps/nobackup/stegle/users/acuomo/all_scripts/struct_LMM2/sc_neuroseq/coloc_examples/CHRNA3_g.csv\")\n",
    "# g_ds.to_csv(\"/hps/nobackup/stegle/users/acuomo/all_scripts/struct_LMM2/sc_neuroseq/coloc_examples/EIF5A_g.csv\")\n",
    "# g_ds.to_csv(\"/hps/nobackup/stegle/users/acuomo/all_scripts/struct_LMM2/sc_neuroseq/coloc_examples/GALNT10_g.csv\")\n",
    "# g_ds.to_csv(\"/hps/nobackup/stegle/users/acuomo/all_scripts/struct_LMM2/sc_neuroseq/coloc_examples/MAPT-AS1_g.csv\")\n",
    "# g_ds.to_csv(\"/hps/nobackup/stegle/users/acuomo/all_scripts/struct_LMM2/sc_neuroseq/coloc_examples/MAST3_g.csv\")\n",
    "# g_ds.to_csv(\"/hps/nobackup/stegle/users/acuomo/all_scripts/struct_LMM2/sc_neuroseq/coloc_examples/MPHOSPH9_g.csv\")\n",
    "# g_ds.to_csv(\"/hps/nobackup/stegle/users/acuomo/all_scripts/struct_LMM2/sc_neuroseq/coloc_examples/PRR7-AS1_g.csv\")\n",
    "# g_ds.to_csv(\"/hps/nobackup/stegle/users/acuomo/all_scripts/struct_LMM2/sc_neuroseq/coloc_examples/PRSS36_g.csv\")\n",
    "# g_ds.to_csv(\"/hps/nobackup/stegle/users/acuomo/all_scripts/struct_LMM2/sc_neuroseq/coloc_examples/RHEBL1_g.csv\")\n",
    "# g_ds.to_csv(\"/hps/nobackup/stegle/users/acuomo/all_scripts/struct_LMM2/sc_neuroseq/coloc_examples/SLC35E2_g.csv\")\n",
    "# g_ds.to_csv(\"/hps/nobackup/stegle/users/acuomo/all_scripts/struct_LMM2/sc_neuroseq/coloc_examples/STAT6_g.csv\")\n",
    "g_ds.to_csv(\"/hps/nobackup/stegle/users/acuomo/all_scripts/struct_LMM2/sc_neuroseq/coloc_examples/TUBGCP4_g.csv\")"
   ]
  },
  {
   "cell_type": "code",
   "execution_count": null,
   "id": "19b3552e",
   "metadata": {},
   "outputs": [],
   "source": []
  }
 ],
 "metadata": {
  "kernelspec": {
   "display_name": "Python 3",
   "language": "python",
   "name": "python3"
  },
  "language_info": {
   "codemirror_mode": {
    "name": "ipython",
    "version": 3
   },
   "file_extension": ".py",
   "mimetype": "text/x-python",
   "name": "python",
   "nbconvert_exporter": "python",
   "pygments_lexer": "ipython3",
   "version": "3.7.6"
  }
 },
 "nbformat": 4,
 "nbformat_minor": 5
}
