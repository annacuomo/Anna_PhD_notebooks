{
 "cells": [
  {
   "cell_type": "code",
   "execution_count": 2,
   "id": "7e2ad60a",
   "metadata": {},
   "outputs": [],
   "source": [
    "library(dplyr)\n",
    "library(ggplot2)\n",
    "library(qvalue)"
   ]
  },
  {
   "cell_type": "code",
   "execution_count": 3,
   "id": "faf7c0c4",
   "metadata": {},
   "outputs": [],
   "source": [
    "neuro_folder = \"/hps/nobackup/stegle/users/acuomo/all_scripts/struct_LMM2/sc_neuroseq/May2021/\""
   ]
  },
  {
   "cell_type": "code",
   "execution_count": 4,
   "id": "6090ae29",
   "metadata": {},
   "outputs": [
    {
     "data": {
      "text/html": [
       "<ol class=list-inline>\n",
       "\t<li>'err'</li>\n",
       "\t<li>'genetic_effect'</li>\n",
       "\t<li>'input_files'</li>\n",
       "\t<li>'MOFA'</li>\n",
       "\t<li>'mofa_logcounts_model_factors.csv'</li>\n",
       "\t<li>'mofa_tsne.csv'</li>\n",
       "\t<li>'mofa_weights.csv'</li>\n",
       "\t<li>'neuroseq_MOFA_ge.py'</li>\n",
       "\t<li>'neuroseq_MOFA.py'</li>\n",
       "\t<li>'out'</li>\n",
       "\t<li>'pca_from_geneticeffects_loadings.csv'</li>\n",
       "\t<li>'REVISION'</li>\n",
       "\t<li>'run.py'</li>\n",
       "\t<li>'summarise.py'</li>\n",
       "</ol>\n"
      ],
      "text/latex": [
       "\\begin{enumerate*}\n",
       "\\item 'err'\n",
       "\\item 'genetic\\_effect'\n",
       "\\item 'input\\_files'\n",
       "\\item 'MOFA'\n",
       "\\item 'mofa\\_logcounts\\_model\\_factors.csv'\n",
       "\\item 'mofa\\_tsne.csv'\n",
       "\\item 'mofa\\_weights.csv'\n",
       "\\item 'neuroseq\\_MOFA\\_ge.py'\n",
       "\\item 'neuroseq\\_MOFA.py'\n",
       "\\item 'out'\n",
       "\\item 'pca\\_from\\_geneticeffects\\_loadings.csv'\n",
       "\\item 'REVISION'\n",
       "\\item 'run.py'\n",
       "\\item 'summarise.py'\n",
       "\\end{enumerate*}\n"
      ],
      "text/markdown": [
       "1. 'err'\n",
       "2. 'genetic_effect'\n",
       "3. 'input_files'\n",
       "4. 'MOFA'\n",
       "5. 'mofa_logcounts_model_factors.csv'\n",
       "6. 'mofa_tsne.csv'\n",
       "7. 'mofa_weights.csv'\n",
       "8. 'neuroseq_MOFA_ge.py'\n",
       "9. 'neuroseq_MOFA.py'\n",
       "10. 'out'\n",
       "11. 'pca_from_geneticeffects_loadings.csv'\n",
       "12. 'REVISION'\n",
       "13. 'run.py'\n",
       "14. 'summarise.py'\n",
       "\n",
       "\n"
      ],
      "text/plain": [
       " [1] \"err\"                                 \n",
       " [2] \"genetic_effect\"                      \n",
       " [3] \"input_files\"                         \n",
       " [4] \"MOFA\"                                \n",
       " [5] \"mofa_logcounts_model_factors.csv\"    \n",
       " [6] \"mofa_tsne.csv\"                       \n",
       " [7] \"mofa_weights.csv\"                    \n",
       " [8] \"neuroseq_MOFA_ge.py\"                 \n",
       " [9] \"neuroseq_MOFA.py\"                    \n",
       "[10] \"out\"                                 \n",
       "[11] \"pca_from_geneticeffects_loadings.csv\"\n",
       "[12] \"REVISION\"                            \n",
       "[13] \"run.py\"                              \n",
       "[14] \"summarise.py\"                        "
      ]
     },
     "metadata": {},
     "output_type": "display_data"
    }
   ],
   "source": [
    "list.files(neuro_folder)"
   ]
  },
  {
   "cell_type": "code",
   "execution_count": 5,
   "id": "3e3d0b6f",
   "metadata": {
    "scrolled": true
   },
   "outputs": [
    {
     "data": {
      "text/html": [
       "<ol class=list-inline>\n",
       "\t<li>'SLC35E2'</li>\n",
       "\t<li>'UTS2'</li>\n",
       "\t<li>'TNFRSF9'</li>\n",
       "\t<li>'CROCCP2'</li>\n",
       "\t<li>'KIF17'</li>\n",
       "\t<li>'LINC00339'</li>\n",
       "\t<li>'AIM1L'</li>\n",
       "\t<li>'EYA3'</li>\n",
       "\t<li>'TRIT1'</li>\n",
       "\t<li>'ITGB3BP'</li>\n",
       "\t<li>'CRYZ'</li>\n",
       "\t<li>'TYW3'</li>\n",
       "\t<li>'PTBP2'</li>\n",
       "\t<li>'SLC22A15'</li>\n",
       "\t<li>'PHGDH'</li>\n",
       "\t<li>'PDE4DIP'</li>\n",
       "\t<li>'MGST3'</li>\n",
       "\t<li>'COLGALT2'</li>\n",
       "\t<li>'BATF3'</li>\n",
       "\t<li>'PGBD5'</li>\n",
       "\t<li>'RNASEH1.AS1'</li>\n",
       "\t<li>'SLC8A1'</li>\n",
       "\t<li>'EPCAM'</li>\n",
       "\t<li>'ADD2'</li>\n",
       "\t<li>'THNSL2'</li>\n",
       "\t<li>'C2orf40'</li>\n",
       "\t<li>'CBWD2'</li>\n",
       "\t<li>'MZT2A'</li>\n",
       "\t<li>'RBMS1'</li>\n",
       "\t<li>'PHOSPHO2'</li>\n",
       "\t<li>'RESP18'</li>\n",
       "\t<li>'MTERFD2'</li>\n",
       "\t<li>'SUMF1'</li>\n",
       "\t<li>'TTLL3'</li>\n",
       "\t<li>'EFHB'</li>\n",
       "\t<li>'ACKR2'</li>\n",
       "\t<li>'CHDH'</li>\n",
       "\t<li>'ABHD10'</li>\n",
       "\t<li>'CCDC80'</li>\n",
       "\t<li>'CCDC58'</li>\n",
       "\t<li>'ROPN1B'</li>\n",
       "\t<li>'GPR171'</li>\n",
       "\t<li>'ZBBX'</li>\n",
       "\t<li>'SENP2'</li>\n",
       "\t<li>'MUC20'</li>\n",
       "\t<li>'SEL1L3'</li>\n",
       "\t<li>'NIPAL1'</li>\n",
       "\t<li>'UBA6'</li>\n",
       "\t<li>'CNOT6L'</li>\n",
       "\t<li>'THAP9.AS1'</li>\n",
       "\t<li>'TBCK'</li>\n",
       "\t<li>'NDST4'</li>\n",
       "\t<li>'LSM6'</li>\n",
       "\t<li>'CYP4V2'</li>\n",
       "\t<li>'NSUN2'</li>\n",
       "\t<li>'OCLN'</li>\n",
       "\t<li>'MAP1B'</li>\n",
       "\t<li>'TBCA'</li>\n",
       "\t<li>'ATG10'</li>\n",
       "\t<li>'HSD17B4'</li>\n",
       "\t<li>'ALDH7A1'</li>\n",
       "\t<li>'CDC42SE2'</li>\n",
       "\t<li>'HSPA4'</li>\n",
       "\t<li>'CD14'</li>\n",
       "\t<li>'PCDHA9'</li>\n",
       "\t<li>'GM2A'</li>\n",
       "\t<li>'GALNT10'</li>\n",
       "\t<li>'FAM153B'</li>\n",
       "\t<li>'RGS14'</li>\n",
       "\t<li>'PRR7.AS1'</li>\n",
       "\t<li>'NQO2'</li>\n",
       "\t<li>'HLA.DRB5'</li>\n",
       "\t<li>'RPL10A'</li>\n",
       "\t<li>'BTBD9'</li>\n",
       "\t<li>'KIF6'</li>\n",
       "\t<li>'PRPH2'</li>\n",
       "\t<li>'PEX6'</li>\n",
       "\t<li>'DNPH1'</li>\n",
       "\t<li>'SLC25A27'</li>\n",
       "\t<li>'FAXC'</li>\n",
       "\t<li>'TRAF3IP2.AS1'</li>\n",
       "\t<li>'TSPYL1'</li>\n",
       "\t<li>'TPD52L1'</li>\n",
       "\t<li>'AKAP7'</li>\n",
       "\t<li>'SUN1'</li>\n",
       "\t<li>'CCZ1B'</li>\n",
       "\t<li>'VWC2'</li>\n",
       "\t<li>'ZP3'</li>\n",
       "\t<li>'POMZP3'</li>\n",
       "\t<li>'CD36'</li>\n",
       "\t<li>'PPP1R9A'</li>\n",
       "\t<li>'ORAI2'</li>\n",
       "\t<li>'GPR22'</li>\n",
       "\t<li>'THAP5'</li>\n",
       "\t<li>'TES'</li>\n",
       "\t<li>'IRF5'</li>\n",
       "\t<li>'ZC3HAV1'</li>\n",
       "\t<li>'HMBOX1'</li>\n",
       "\t<li>'PCMTD1'</li>\n",
       "\t<li>'XKR9'</li>\n",
       "\t<li>'NAPRT1'</li>\n",
       "\t<li>'DNAJA1'</li>\n",
       "\t<li>'ANKRD18B'</li>\n",
       "\t<li>'PRSS3'</li>\n",
       "\t<li>'C9orf64'</li>\n",
       "\t<li>'CENPP'</li>\n",
       "\t<li>'NINJ1'</li>\n",
       "\t<li>'FBP1'</li>\n",
       "\t<li>'TMEM38B'</li>\n",
       "\t<li>'PSMD5.AS1'</li>\n",
       "\t<li>'CRB2'</li>\n",
       "\t<li>'TUBB4B'</li>\n",
       "\t<li>'ECHDC3'</li>\n",
       "\t<li>'RASSF4'</li>\n",
       "\t<li>'FAM21A'</li>\n",
       "\t<li>'REEP3'</li>\n",
       "\t<li>'TSPAN15'</li>\n",
       "\t<li>'SAR1A'</li>\n",
       "\t<li>'PDZD7'</li>\n",
       "\t<li>'SLC18A2'</li>\n",
       "\t<li>'WDR11'</li>\n",
       "\t<li>'ATE1.AS1'</li>\n",
       "\t<li>'KRTAP5.AS1'</li>\n",
       "\t<li>'PHLDA2'</li>\n",
       "\t<li>'TUB'</li>\n",
       "\t<li>'IGSF22'</li>\n",
       "\t<li>'APIP'</li>\n",
       "\t<li>'EXT2'</li>\n",
       "\t<li>'SNX32'</li>\n",
       "\t<li>'CTSF'</li>\n",
       "\t<li>'C11orf24'</li>\n",
       "\t<li>'PLEKHB1'</li>\n",
       "\t<li>'VWA5A'</li>\n",
       "\t<li>'CHEK1'</li>\n",
       "\t<li>'KLRC2'</li>\n",
       "\t<li>'RHEBL1'</li>\n",
       "\t<li>'PRPH'</li>\n",
       "\t<li>'CERS5'</li>\n",
       "\t<li>'RPS26'</li>\n",
       "\t<li>'STAT6'</li>\n",
       "\t<li>'IKBIP'</li>\n",
       "\t<li>'CAMKK2'</li>\n",
       "\t<li>'MPHOSPH9'</li>\n",
       "\t<li>'DNAJC15'</li>\n",
       "\t<li>'NEK3'</li>\n",
       "\t<li>'CKAP2'</li>\n",
       "\t<li>'RBM26.AS1'</li>\n",
       "\t<li>'DHRS4L2'</li>\n",
       "\t<li>'NFATC4'</li>\n",
       "\t<li>'ABHD12B'</li>\n",
       "\t<li>'DAAM1'</li>\n",
       "\t<li>'C15orf57'</li>\n",
       "\t<li>'NUSAP1'</li>\n",
       "\t<li>'TUBGCP4'</li>\n",
       "\t<li>'CHRNA5'</li>\n",
       "\t<li>'CHRNA3'</li>\n",
       "\t<li>'FAHD1'</li>\n",
       "\t<li>'MEIOB'</li>\n",
       "\t<li>'ZG16B'</li>\n",
       "\t<li>'RMI2'</li>\n",
       "\t<li>'KNOP1'</li>\n",
       "\t<li>'PRKCB'</li>\n",
       "\t<li>'QPRT'</li>\n",
       "\t<li>'PRSS36'</li>\n",
       "\t<li>'ZNF423'</li>\n",
       "\t<li>'KIAA0513'</li>\n",
       "\t<li>'YWHAE'</li>\n",
       "\t<li>'EIF5A'</li>\n",
       "\t<li>'GUCY2D'</li>\n",
       "\t<li>'TMEM97'</li>\n",
       "\t<li>'NEK8'</li>\n",
       "\t<li>'C17orf50'</li>\n",
       "\t<li>'SRCIN1'</li>\n",
       "\t<li>'MAPT.AS1'</li>\n",
       "\t<li>'KANSL1'</li>\n",
       "\t<li>'WNT3'</li>\n",
       "\t<li>'SPATA20'</li>\n",
       "\t<li>'PRKCA'</li>\n",
       "\t<li>'FN3K'</li>\n",
       "\t<li>'RPL17.C18orf32'</li>\n",
       "\t<li>'MYO5B'</li>\n",
       "\t<li>'CYB5A'</li>\n",
       "\t<li>'RNF24'</li>\n",
       "\t<li>'CPNE1'</li>\n",
       "\t<li>'WFDC3'</li>\n",
       "\t<li>'B4GALT5'</li>\n",
       "\t<li>'C20orf201'</li>\n",
       "\t<li>'ZNF77'</li>\n",
       "\t<li>'ZFR2'</li>\n",
       "\t<li>'C19orf10'</li>\n",
       "\t<li>'KANK3'</li>\n",
       "\t<li>'SLC44A2'</li>\n",
       "\t<li>'MAST3'</li>\n",
       "\t<li>'ZNF738'</li>\n",
       "\t<li>'VSTM2B'</li>\n",
       "\t<li>'FBXO27'</li>\n",
       "\t<li>'CEACAM21'</li>\n",
       "\t<li>'DHDH'</li>\n",
       "\t<li>'KLK10'</li>\n",
       "\t<li>'TMEM190'</li>\n",
       "\t<li>'ZNF552'</li>\n",
       "\t<li>'CECR1'</li>\n",
       "\t<li>'C22orf29'</li>\n",
       "\t<li>'GSTT1'</li>\n",
       "\t<li>'CRYBB2'</li>\n",
       "\t<li>'MIAT'</li>\n",
       "\t<li>'RFPL2'</li>\n",
       "\t<li>'ADSL'</li>\n",
       "\t<li>'SMDT1'</li>\n",
       "\t<li>'FAM118A'</li>\n",
       "\t<li>'SYCE3'</li>\n",
       "\t<li>'RWDD2B'</li>\n",
       "\t<li>'C21orf119'</li>\n",
       "</ol>\n"
      ],
      "text/latex": [
       "\\begin{enumerate*}\n",
       "\\item 'SLC35E2'\n",
       "\\item 'UTS2'\n",
       "\\item 'TNFRSF9'\n",
       "\\item 'CROCCP2'\n",
       "\\item 'KIF17'\n",
       "\\item 'LINC00339'\n",
       "\\item 'AIM1L'\n",
       "\\item 'EYA3'\n",
       "\\item 'TRIT1'\n",
       "\\item 'ITGB3BP'\n",
       "\\item 'CRYZ'\n",
       "\\item 'TYW3'\n",
       "\\item 'PTBP2'\n",
       "\\item 'SLC22A15'\n",
       "\\item 'PHGDH'\n",
       "\\item 'PDE4DIP'\n",
       "\\item 'MGST3'\n",
       "\\item 'COLGALT2'\n",
       "\\item 'BATF3'\n",
       "\\item 'PGBD5'\n",
       "\\item 'RNASEH1.AS1'\n",
       "\\item 'SLC8A1'\n",
       "\\item 'EPCAM'\n",
       "\\item 'ADD2'\n",
       "\\item 'THNSL2'\n",
       "\\item 'C2orf40'\n",
       "\\item 'CBWD2'\n",
       "\\item 'MZT2A'\n",
       "\\item 'RBMS1'\n",
       "\\item 'PHOSPHO2'\n",
       "\\item 'RESP18'\n",
       "\\item 'MTERFD2'\n",
       "\\item 'SUMF1'\n",
       "\\item 'TTLL3'\n",
       "\\item 'EFHB'\n",
       "\\item 'ACKR2'\n",
       "\\item 'CHDH'\n",
       "\\item 'ABHD10'\n",
       "\\item 'CCDC80'\n",
       "\\item 'CCDC58'\n",
       "\\item 'ROPN1B'\n",
       "\\item 'GPR171'\n",
       "\\item 'ZBBX'\n",
       "\\item 'SENP2'\n",
       "\\item 'MUC20'\n",
       "\\item 'SEL1L3'\n",
       "\\item 'NIPAL1'\n",
       "\\item 'UBA6'\n",
       "\\item 'CNOT6L'\n",
       "\\item 'THAP9.AS1'\n",
       "\\item 'TBCK'\n",
       "\\item 'NDST4'\n",
       "\\item 'LSM6'\n",
       "\\item 'CYP4V2'\n",
       "\\item 'NSUN2'\n",
       "\\item 'OCLN'\n",
       "\\item 'MAP1B'\n",
       "\\item 'TBCA'\n",
       "\\item 'ATG10'\n",
       "\\item 'HSD17B4'\n",
       "\\item 'ALDH7A1'\n",
       "\\item 'CDC42SE2'\n",
       "\\item 'HSPA4'\n",
       "\\item 'CD14'\n",
       "\\item 'PCDHA9'\n",
       "\\item 'GM2A'\n",
       "\\item 'GALNT10'\n",
       "\\item 'FAM153B'\n",
       "\\item 'RGS14'\n",
       "\\item 'PRR7.AS1'\n",
       "\\item 'NQO2'\n",
       "\\item 'HLA.DRB5'\n",
       "\\item 'RPL10A'\n",
       "\\item 'BTBD9'\n",
       "\\item 'KIF6'\n",
       "\\item 'PRPH2'\n",
       "\\item 'PEX6'\n",
       "\\item 'DNPH1'\n",
       "\\item 'SLC25A27'\n",
       "\\item 'FAXC'\n",
       "\\item 'TRAF3IP2.AS1'\n",
       "\\item 'TSPYL1'\n",
       "\\item 'TPD52L1'\n",
       "\\item 'AKAP7'\n",
       "\\item 'SUN1'\n",
       "\\item 'CCZ1B'\n",
       "\\item 'VWC2'\n",
       "\\item 'ZP3'\n",
       "\\item 'POMZP3'\n",
       "\\item 'CD36'\n",
       "\\item 'PPP1R9A'\n",
       "\\item 'ORAI2'\n",
       "\\item 'GPR22'\n",
       "\\item 'THAP5'\n",
       "\\item 'TES'\n",
       "\\item 'IRF5'\n",
       "\\item 'ZC3HAV1'\n",
       "\\item 'HMBOX1'\n",
       "\\item 'PCMTD1'\n",
       "\\item 'XKR9'\n",
       "\\item 'NAPRT1'\n",
       "\\item 'DNAJA1'\n",
       "\\item 'ANKRD18B'\n",
       "\\item 'PRSS3'\n",
       "\\item 'C9orf64'\n",
       "\\item 'CENPP'\n",
       "\\item 'NINJ1'\n",
       "\\item 'FBP1'\n",
       "\\item 'TMEM38B'\n",
       "\\item 'PSMD5.AS1'\n",
       "\\item 'CRB2'\n",
       "\\item 'TUBB4B'\n",
       "\\item 'ECHDC3'\n",
       "\\item 'RASSF4'\n",
       "\\item 'FAM21A'\n",
       "\\item 'REEP3'\n",
       "\\item 'TSPAN15'\n",
       "\\item 'SAR1A'\n",
       "\\item 'PDZD7'\n",
       "\\item 'SLC18A2'\n",
       "\\item 'WDR11'\n",
       "\\item 'ATE1.AS1'\n",
       "\\item 'KRTAP5.AS1'\n",
       "\\item 'PHLDA2'\n",
       "\\item 'TUB'\n",
       "\\item 'IGSF22'\n",
       "\\item 'APIP'\n",
       "\\item 'EXT2'\n",
       "\\item 'SNX32'\n",
       "\\item 'CTSF'\n",
       "\\item 'C11orf24'\n",
       "\\item 'PLEKHB1'\n",
       "\\item 'VWA5A'\n",
       "\\item 'CHEK1'\n",
       "\\item 'KLRC2'\n",
       "\\item 'RHEBL1'\n",
       "\\item 'PRPH'\n",
       "\\item 'CERS5'\n",
       "\\item 'RPS26'\n",
       "\\item 'STAT6'\n",
       "\\item 'IKBIP'\n",
       "\\item 'CAMKK2'\n",
       "\\item 'MPHOSPH9'\n",
       "\\item 'DNAJC15'\n",
       "\\item 'NEK3'\n",
       "\\item 'CKAP2'\n",
       "\\item 'RBM26.AS1'\n",
       "\\item 'DHRS4L2'\n",
       "\\item 'NFATC4'\n",
       "\\item 'ABHD12B'\n",
       "\\item 'DAAM1'\n",
       "\\item 'C15orf57'\n",
       "\\item 'NUSAP1'\n",
       "\\item 'TUBGCP4'\n",
       "\\item 'CHRNA5'\n",
       "\\item 'CHRNA3'\n",
       "\\item 'FAHD1'\n",
       "\\item 'MEIOB'\n",
       "\\item 'ZG16B'\n",
       "\\item 'RMI2'\n",
       "\\item 'KNOP1'\n",
       "\\item 'PRKCB'\n",
       "\\item 'QPRT'\n",
       "\\item 'PRSS36'\n",
       "\\item 'ZNF423'\n",
       "\\item 'KIAA0513'\n",
       "\\item 'YWHAE'\n",
       "\\item 'EIF5A'\n",
       "\\item 'GUCY2D'\n",
       "\\item 'TMEM97'\n",
       "\\item 'NEK8'\n",
       "\\item 'C17orf50'\n",
       "\\item 'SRCIN1'\n",
       "\\item 'MAPT.AS1'\n",
       "\\item 'KANSL1'\n",
       "\\item 'WNT3'\n",
       "\\item 'SPATA20'\n",
       "\\item 'PRKCA'\n",
       "\\item 'FN3K'\n",
       "\\item 'RPL17.C18orf32'\n",
       "\\item 'MYO5B'\n",
       "\\item 'CYB5A'\n",
       "\\item 'RNF24'\n",
       "\\item 'CPNE1'\n",
       "\\item 'WFDC3'\n",
       "\\item 'B4GALT5'\n",
       "\\item 'C20orf201'\n",
       "\\item 'ZNF77'\n",
       "\\item 'ZFR2'\n",
       "\\item 'C19orf10'\n",
       "\\item 'KANK3'\n",
       "\\item 'SLC44A2'\n",
       "\\item 'MAST3'\n",
       "\\item 'ZNF738'\n",
       "\\item 'VSTM2B'\n",
       "\\item 'FBXO27'\n",
       "\\item 'CEACAM21'\n",
       "\\item 'DHDH'\n",
       "\\item 'KLK10'\n",
       "\\item 'TMEM190'\n",
       "\\item 'ZNF552'\n",
       "\\item 'CECR1'\n",
       "\\item 'C22orf29'\n",
       "\\item 'GSTT1'\n",
       "\\item 'CRYBB2'\n",
       "\\item 'MIAT'\n",
       "\\item 'RFPL2'\n",
       "\\item 'ADSL'\n",
       "\\item 'SMDT1'\n",
       "\\item 'FAM118A'\n",
       "\\item 'SYCE3'\n",
       "\\item 'RWDD2B'\n",
       "\\item 'C21orf119'\n",
       "\\end{enumerate*}\n"
      ],
      "text/markdown": [
       "1. 'SLC35E2'\n",
       "2. 'UTS2'\n",
       "3. 'TNFRSF9'\n",
       "4. 'CROCCP2'\n",
       "5. 'KIF17'\n",
       "6. 'LINC00339'\n",
       "7. 'AIM1L'\n",
       "8. 'EYA3'\n",
       "9. 'TRIT1'\n",
       "10. 'ITGB3BP'\n",
       "11. 'CRYZ'\n",
       "12. 'TYW3'\n",
       "13. 'PTBP2'\n",
       "14. 'SLC22A15'\n",
       "15. 'PHGDH'\n",
       "16. 'PDE4DIP'\n",
       "17. 'MGST3'\n",
       "18. 'COLGALT2'\n",
       "19. 'BATF3'\n",
       "20. 'PGBD5'\n",
       "21. 'RNASEH1.AS1'\n",
       "22. 'SLC8A1'\n",
       "23. 'EPCAM'\n",
       "24. 'ADD2'\n",
       "25. 'THNSL2'\n",
       "26. 'C2orf40'\n",
       "27. 'CBWD2'\n",
       "28. 'MZT2A'\n",
       "29. 'RBMS1'\n",
       "30. 'PHOSPHO2'\n",
       "31. 'RESP18'\n",
       "32. 'MTERFD2'\n",
       "33. 'SUMF1'\n",
       "34. 'TTLL3'\n",
       "35. 'EFHB'\n",
       "36. 'ACKR2'\n",
       "37. 'CHDH'\n",
       "38. 'ABHD10'\n",
       "39. 'CCDC80'\n",
       "40. 'CCDC58'\n",
       "41. 'ROPN1B'\n",
       "42. 'GPR171'\n",
       "43. 'ZBBX'\n",
       "44. 'SENP2'\n",
       "45. 'MUC20'\n",
       "46. 'SEL1L3'\n",
       "47. 'NIPAL1'\n",
       "48. 'UBA6'\n",
       "49. 'CNOT6L'\n",
       "50. 'THAP9.AS1'\n",
       "51. 'TBCK'\n",
       "52. 'NDST4'\n",
       "53. 'LSM6'\n",
       "54. 'CYP4V2'\n",
       "55. 'NSUN2'\n",
       "56. 'OCLN'\n",
       "57. 'MAP1B'\n",
       "58. 'TBCA'\n",
       "59. 'ATG10'\n",
       "60. 'HSD17B4'\n",
       "61. 'ALDH7A1'\n",
       "62. 'CDC42SE2'\n",
       "63. 'HSPA4'\n",
       "64. 'CD14'\n",
       "65. 'PCDHA9'\n",
       "66. 'GM2A'\n",
       "67. 'GALNT10'\n",
       "68. 'FAM153B'\n",
       "69. 'RGS14'\n",
       "70. 'PRR7.AS1'\n",
       "71. 'NQO2'\n",
       "72. 'HLA.DRB5'\n",
       "73. 'RPL10A'\n",
       "74. 'BTBD9'\n",
       "75. 'KIF6'\n",
       "76. 'PRPH2'\n",
       "77. 'PEX6'\n",
       "78. 'DNPH1'\n",
       "79. 'SLC25A27'\n",
       "80. 'FAXC'\n",
       "81. 'TRAF3IP2.AS1'\n",
       "82. 'TSPYL1'\n",
       "83. 'TPD52L1'\n",
       "84. 'AKAP7'\n",
       "85. 'SUN1'\n",
       "86. 'CCZ1B'\n",
       "87. 'VWC2'\n",
       "88. 'ZP3'\n",
       "89. 'POMZP3'\n",
       "90. 'CD36'\n",
       "91. 'PPP1R9A'\n",
       "92. 'ORAI2'\n",
       "93. 'GPR22'\n",
       "94. 'THAP5'\n",
       "95. 'TES'\n",
       "96. 'IRF5'\n",
       "97. 'ZC3HAV1'\n",
       "98. 'HMBOX1'\n",
       "99. 'PCMTD1'\n",
       "100. 'XKR9'\n",
       "101. 'NAPRT1'\n",
       "102. 'DNAJA1'\n",
       "103. 'ANKRD18B'\n",
       "104. 'PRSS3'\n",
       "105. 'C9orf64'\n",
       "106. 'CENPP'\n",
       "107. 'NINJ1'\n",
       "108. 'FBP1'\n",
       "109. 'TMEM38B'\n",
       "110. 'PSMD5.AS1'\n",
       "111. 'CRB2'\n",
       "112. 'TUBB4B'\n",
       "113. 'ECHDC3'\n",
       "114. 'RASSF4'\n",
       "115. 'FAM21A'\n",
       "116. 'REEP3'\n",
       "117. 'TSPAN15'\n",
       "118. 'SAR1A'\n",
       "119. 'PDZD7'\n",
       "120. 'SLC18A2'\n",
       "121. 'WDR11'\n",
       "122. 'ATE1.AS1'\n",
       "123. 'KRTAP5.AS1'\n",
       "124. 'PHLDA2'\n",
       "125. 'TUB'\n",
       "126. 'IGSF22'\n",
       "127. 'APIP'\n",
       "128. 'EXT2'\n",
       "129. 'SNX32'\n",
       "130. 'CTSF'\n",
       "131. 'C11orf24'\n",
       "132. 'PLEKHB1'\n",
       "133. 'VWA5A'\n",
       "134. 'CHEK1'\n",
       "135. 'KLRC2'\n",
       "136. 'RHEBL1'\n",
       "137. 'PRPH'\n",
       "138. 'CERS5'\n",
       "139. 'RPS26'\n",
       "140. 'STAT6'\n",
       "141. 'IKBIP'\n",
       "142. 'CAMKK2'\n",
       "143. 'MPHOSPH9'\n",
       "144. 'DNAJC15'\n",
       "145. 'NEK3'\n",
       "146. 'CKAP2'\n",
       "147. 'RBM26.AS1'\n",
       "148. 'DHRS4L2'\n",
       "149. 'NFATC4'\n",
       "150. 'ABHD12B'\n",
       "151. 'DAAM1'\n",
       "152. 'C15orf57'\n",
       "153. 'NUSAP1'\n",
       "154. 'TUBGCP4'\n",
       "155. 'CHRNA5'\n",
       "156. 'CHRNA3'\n",
       "157. 'FAHD1'\n",
       "158. 'MEIOB'\n",
       "159. 'ZG16B'\n",
       "160. 'RMI2'\n",
       "161. 'KNOP1'\n",
       "162. 'PRKCB'\n",
       "163. 'QPRT'\n",
       "164. 'PRSS36'\n",
       "165. 'ZNF423'\n",
       "166. 'KIAA0513'\n",
       "167. 'YWHAE'\n",
       "168. 'EIF5A'\n",
       "169. 'GUCY2D'\n",
       "170. 'TMEM97'\n",
       "171. 'NEK8'\n",
       "172. 'C17orf50'\n",
       "173. 'SRCIN1'\n",
       "174. 'MAPT.AS1'\n",
       "175. 'KANSL1'\n",
       "176. 'WNT3'\n",
       "177. 'SPATA20'\n",
       "178. 'PRKCA'\n",
       "179. 'FN3K'\n",
       "180. 'RPL17.C18orf32'\n",
       "181. 'MYO5B'\n",
       "182. 'CYB5A'\n",
       "183. 'RNF24'\n",
       "184. 'CPNE1'\n",
       "185. 'WFDC3'\n",
       "186. 'B4GALT5'\n",
       "187. 'C20orf201'\n",
       "188. 'ZNF77'\n",
       "189. 'ZFR2'\n",
       "190. 'C19orf10'\n",
       "191. 'KANK3'\n",
       "192. 'SLC44A2'\n",
       "193. 'MAST3'\n",
       "194. 'ZNF738'\n",
       "195. 'VSTM2B'\n",
       "196. 'FBXO27'\n",
       "197. 'CEACAM21'\n",
       "198. 'DHDH'\n",
       "199. 'KLK10'\n",
       "200. 'TMEM190'\n",
       "201. 'ZNF552'\n",
       "202. 'CECR1'\n",
       "203. 'C22orf29'\n",
       "204. 'GSTT1'\n",
       "205. 'CRYBB2'\n",
       "206. 'MIAT'\n",
       "207. 'RFPL2'\n",
       "208. 'ADSL'\n",
       "209. 'SMDT1'\n",
       "210. 'FAM118A'\n",
       "211. 'SYCE3'\n",
       "212. 'RWDD2B'\n",
       "213. 'C21orf119'\n",
       "\n",
       "\n"
      ],
      "text/plain": [
       "  [1] \"SLC35E2\"        \"UTS2\"           \"TNFRSF9\"        \"CROCCP2\"       \n",
       "  [5] \"KIF17\"          \"LINC00339\"      \"AIM1L\"          \"EYA3\"          \n",
       "  [9] \"TRIT1\"          \"ITGB3BP\"        \"CRYZ\"           \"TYW3\"          \n",
       " [13] \"PTBP2\"          \"SLC22A15\"       \"PHGDH\"          \"PDE4DIP\"       \n",
       " [17] \"MGST3\"          \"COLGALT2\"       \"BATF3\"          \"PGBD5\"         \n",
       " [21] \"RNASEH1.AS1\"    \"SLC8A1\"         \"EPCAM\"          \"ADD2\"          \n",
       " [25] \"THNSL2\"         \"C2orf40\"        \"CBWD2\"          \"MZT2A\"         \n",
       " [29] \"RBMS1\"          \"PHOSPHO2\"       \"RESP18\"         \"MTERFD2\"       \n",
       " [33] \"SUMF1\"          \"TTLL3\"          \"EFHB\"           \"ACKR2\"         \n",
       " [37] \"CHDH\"           \"ABHD10\"         \"CCDC80\"         \"CCDC58\"        \n",
       " [41] \"ROPN1B\"         \"GPR171\"         \"ZBBX\"           \"SENP2\"         \n",
       " [45] \"MUC20\"          \"SEL1L3\"         \"NIPAL1\"         \"UBA6\"          \n",
       " [49] \"CNOT6L\"         \"THAP9.AS1\"      \"TBCK\"           \"NDST4\"         \n",
       " [53] \"LSM6\"           \"CYP4V2\"         \"NSUN2\"          \"OCLN\"          \n",
       " [57] \"MAP1B\"          \"TBCA\"           \"ATG10\"          \"HSD17B4\"       \n",
       " [61] \"ALDH7A1\"        \"CDC42SE2\"       \"HSPA4\"          \"CD14\"          \n",
       " [65] \"PCDHA9\"         \"GM2A\"           \"GALNT10\"        \"FAM153B\"       \n",
       " [69] \"RGS14\"          \"PRR7.AS1\"       \"NQO2\"           \"HLA.DRB5\"      \n",
       " [73] \"RPL10A\"         \"BTBD9\"          \"KIF6\"           \"PRPH2\"         \n",
       " [77] \"PEX6\"           \"DNPH1\"          \"SLC25A27\"       \"FAXC\"          \n",
       " [81] \"TRAF3IP2.AS1\"   \"TSPYL1\"         \"TPD52L1\"        \"AKAP7\"         \n",
       " [85] \"SUN1\"           \"CCZ1B\"          \"VWC2\"           \"ZP3\"           \n",
       " [89] \"POMZP3\"         \"CD36\"           \"PPP1R9A\"        \"ORAI2\"         \n",
       " [93] \"GPR22\"          \"THAP5\"          \"TES\"            \"IRF5\"          \n",
       " [97] \"ZC3HAV1\"        \"HMBOX1\"         \"PCMTD1\"         \"XKR9\"          \n",
       "[101] \"NAPRT1\"         \"DNAJA1\"         \"ANKRD18B\"       \"PRSS3\"         \n",
       "[105] \"C9orf64\"        \"CENPP\"          \"NINJ1\"          \"FBP1\"          \n",
       "[109] \"TMEM38B\"        \"PSMD5.AS1\"      \"CRB2\"           \"TUBB4B\"        \n",
       "[113] \"ECHDC3\"         \"RASSF4\"         \"FAM21A\"         \"REEP3\"         \n",
       "[117] \"TSPAN15\"        \"SAR1A\"          \"PDZD7\"          \"SLC18A2\"       \n",
       "[121] \"WDR11\"          \"ATE1.AS1\"       \"KRTAP5.AS1\"     \"PHLDA2\"        \n",
       "[125] \"TUB\"            \"IGSF22\"         \"APIP\"           \"EXT2\"          \n",
       "[129] \"SNX32\"          \"CTSF\"           \"C11orf24\"       \"PLEKHB1\"       \n",
       "[133] \"VWA5A\"          \"CHEK1\"          \"KLRC2\"          \"RHEBL1\"        \n",
       "[137] \"PRPH\"           \"CERS5\"          \"RPS26\"          \"STAT6\"         \n",
       "[141] \"IKBIP\"          \"CAMKK2\"         \"MPHOSPH9\"       \"DNAJC15\"       \n",
       "[145] \"NEK3\"           \"CKAP2\"          \"RBM26.AS1\"      \"DHRS4L2\"       \n",
       "[149] \"NFATC4\"         \"ABHD12B\"        \"DAAM1\"          \"C15orf57\"      \n",
       "[153] \"NUSAP1\"         \"TUBGCP4\"        \"CHRNA5\"         \"CHRNA3\"        \n",
       "[157] \"FAHD1\"          \"MEIOB\"          \"ZG16B\"          \"RMI2\"          \n",
       "[161] \"KNOP1\"          \"PRKCB\"          \"QPRT\"           \"PRSS36\"        \n",
       "[165] \"ZNF423\"         \"KIAA0513\"       \"YWHAE\"          \"EIF5A\"         \n",
       "[169] \"GUCY2D\"         \"TMEM97\"         \"NEK8\"           \"C17orf50\"      \n",
       "[173] \"SRCIN1\"         \"MAPT.AS1\"       \"KANSL1\"         \"WNT3\"          \n",
       "[177] \"SPATA20\"        \"PRKCA\"          \"FN3K\"           \"RPL17.C18orf32\"\n",
       "[181] \"MYO5B\"          \"CYB5A\"          \"RNF24\"          \"CPNE1\"         \n",
       "[185] \"WFDC3\"          \"B4GALT5\"        \"C20orf201\"      \"ZNF77\"         \n",
       "[189] \"ZFR2\"           \"C19orf10\"       \"KANK3\"          \"SLC44A2\"       \n",
       "[193] \"MAST3\"          \"ZNF738\"         \"VSTM2B\"         \"FBXO27\"        \n",
       "[197] \"CEACAM21\"       \"DHDH\"           \"KLK10\"          \"TMEM190\"       \n",
       "[201] \"ZNF552\"         \"CECR1\"          \"C22orf29\"       \"GSTT1\"         \n",
       "[205] \"CRYBB2\"         \"MIAT\"           \"RFPL2\"          \"ADSL\"          \n",
       "[209] \"SMDT1\"          \"FAM118A\"        \"SYCE3\"          \"RWDD2B\"        \n",
       "[213] \"C21orf119\"     "
      ]
     },
     "metadata": {},
     "output_type": "display_data"
    }
   ],
   "source": [
    "as.character(read.csv(paste0(neuro_folder, 'genetic_effect/expression_20mofas_as_spatial_cluster_labels.csv'),row.names=1)$gene)"
   ]
  },
  {
   "cell_type": "code",
   "execution_count": 6,
   "id": "3f248b15",
   "metadata": {},
   "outputs": [
    {
     "data": {
      "text/html": [
       "<table>\n",
       "<thead><tr><th></th><th scope=col>MOFA1</th><th scope=col>MOFA2</th><th scope=col>MOFA3</th><th scope=col>MOFA4</th><th scope=col>MOFA5</th><th scope=col>MOFA6</th><th scope=col>MOFA7</th><th scope=col>MOFA8</th><th scope=col>MOFA9</th><th scope=col>MOFA10</th><th scope=col>MOFA11</th><th scope=col>MOFA12</th><th scope=col>MOFA13</th><th scope=col>MOFA14</th><th scope=col>MOFA15</th><th scope=col>MOFA16</th><th scope=col>MOFA17</th><th scope=col>MOFA18</th><th scope=col>MOFA19</th><th scope=col>MOFA20</th></tr></thead>\n",
       "<tbody>\n",
       "\t<tr><th scope=row>HPSI0714i-iudw_1--DA--d30--0</th><td> 1.6664557  </td><td> 0.589291718</td><td>-1.2180321  </td><td> 0.5332707  </td><td>-0.11471842 </td><td>-0.70044968 </td><td>-0.8720116  </td><td>-0.7222332  </td><td> 0.1454206  </td><td> 0.25517320 </td><td>-0.15370322 </td><td>0.04656182  </td><td>0.93356092  </td><td>-0.30333289 </td><td>-1.42060705 </td><td> 0.3760455  </td><td>-1.375034636</td><td>-1.321022478</td><td> 0.03628515 </td><td>-0.5237842  </td></tr>\n",
       "\t<tr><th scope=row>HPSI0714i-iudw_1--DA--d30--1</th><td> 1.7932753  </td><td>-1.089708277</td><td> 0.5161943  </td><td> 0.3031652  </td><td>-0.37070591 </td><td>-0.63629753 </td><td> 1.1359303  </td><td> 0.2466621  </td><td>-0.3232387  </td><td>-0.32895030 </td><td> 0.29749804 </td><td>0.10648809  </td><td>1.43480155  </td><td> 0.17350133 </td><td> 1.14906137 </td><td>-0.5206075  </td><td> 0.887737582</td><td>-0.130147039</td><td> 0.94184241 </td><td> 0.6611521  </td></tr>\n",
       "\t<tr><th scope=row>HPSI0714i-iudw_1--DA--d30--2</th><td> 1.4601733  </td><td>-0.920466384</td><td> 0.4333725  </td><td> 0.8382845  </td><td> 0.04179157 </td><td>-0.34931222 </td><td>-0.5665099  </td><td> 0.0331838  </td><td>-0.2947486  </td><td> 1.64709869 </td><td>-0.24431455 </td><td>1.19358563  </td><td>0.23443004  </td><td> 1.36761039 </td><td>-1.35462397 </td><td>-0.4356618  </td><td>-0.001933761</td><td> 0.004343457</td><td>-0.10995757 </td><td>-0.0299945  </td></tr>\n",
       "\t<tr><th scope=row>HPSI0714i-iudw_1--DA--d30--3</th><td> 2.1352168  </td><td> 0.007667889</td><td>-0.3406776  </td><td> 0.1694220  </td><td>-0.48726664 </td><td>-0.94746164 </td><td> 0.2343832  </td><td>-0.4423545  </td><td> 0.5563007  </td><td> 0.43464525 </td><td> 0.03194636 </td><td>0.58178461  </td><td>0.67307489  </td><td> 0.18879474 </td><td>-1.24651969 </td><td> 1.0372639  </td><td>-0.689319483</td><td>-0.844009905</td><td> 1.14812243 </td><td> 0.3715339  </td></tr>\n",
       "\t<tr><th scope=row>HPSI0714i-iudw_1--DA--d30--4</th><td>-0.2996176  </td><td>-1.471800929</td><td>-0.5598412  </td><td>-0.2879682  </td><td>-0.07147503 </td><td>-0.09441242 </td><td>-0.9727544  </td><td> 0.5814618  </td><td>-1.2320759  </td><td>-0.33422713 </td><td>-0.41475364 </td><td>1.17859668  </td><td>0.02182522  </td><td>-0.07057997 </td><td>-0.08639611 </td><td> 0.6566855  </td><td> 0.007250073</td><td>-0.023220657</td><td>-1.76654655 </td><td>-1.0820929  </td></tr>\n",
       "\t<tr><th scope=row>HPSI0714i-iudw_1--DA--d30--5</th><td> 0.2949934  </td><td>-1.601036803</td><td> 0.1386558  </td><td> 0.3616551  </td><td> 0.16234537 </td><td> 0.01715240 </td><td>-1.1952241  </td><td> 0.6175316  </td><td>-0.7246064  </td><td> 0.02455041 </td><td> 0.15996241 </td><td>0.56980108  </td><td>0.53407917  </td><td> 0.10825273 </td><td>-0.21115001 </td><td>-0.7207979  </td><td>-0.929239594</td><td>-0.583794032</td><td>-0.50870368 </td><td>-0.7649116  </td></tr>\n",
       "</tbody>\n",
       "</table>\n"
      ],
      "text/latex": [
       "\\begin{tabular}{r|llllllllllllllllllll}\n",
       "  & MOFA1 & MOFA2 & MOFA3 & MOFA4 & MOFA5 & MOFA6 & MOFA7 & MOFA8 & MOFA9 & MOFA10 & MOFA11 & MOFA12 & MOFA13 & MOFA14 & MOFA15 & MOFA16 & MOFA17 & MOFA18 & MOFA19 & MOFA20\\\\\n",
       "\\hline\n",
       "\tHPSI0714i-iudw\\_1--DA--d30--0 &  1.6664557   &  0.589291718 & -1.2180321   &  0.5332707   & -0.11471842  & -0.70044968  & -0.8720116   & -0.7222332   &  0.1454206   &  0.25517320  & -0.15370322  & 0.04656182   & 0.93356092   & -0.30333289  & -1.42060705  &  0.3760455   & -1.375034636 & -1.321022478 &  0.03628515  & -0.5237842  \\\\\n",
       "\tHPSI0714i-iudw\\_1--DA--d30--1 &  1.7932753   & -1.089708277 &  0.5161943   &  0.3031652   & -0.37070591  & -0.63629753  &  1.1359303   &  0.2466621   & -0.3232387   & -0.32895030  &  0.29749804  & 0.10648809   & 1.43480155   &  0.17350133  &  1.14906137  & -0.5206075   &  0.887737582 & -0.130147039 &  0.94184241  &  0.6611521  \\\\\n",
       "\tHPSI0714i-iudw\\_1--DA--d30--2 &  1.4601733   & -0.920466384 &  0.4333725   &  0.8382845   &  0.04179157  & -0.34931222  & -0.5665099   &  0.0331838   & -0.2947486   &  1.64709869  & -0.24431455  & 1.19358563   & 0.23443004   &  1.36761039  & -1.35462397  & -0.4356618   & -0.001933761 &  0.004343457 & -0.10995757  & -0.0299945  \\\\\n",
       "\tHPSI0714i-iudw\\_1--DA--d30--3 &  2.1352168   &  0.007667889 & -0.3406776   &  0.1694220   & -0.48726664  & -0.94746164  &  0.2343832   & -0.4423545   &  0.5563007   &  0.43464525  &  0.03194636  & 0.58178461   & 0.67307489   &  0.18879474  & -1.24651969  &  1.0372639   & -0.689319483 & -0.844009905 &  1.14812243  &  0.3715339  \\\\\n",
       "\tHPSI0714i-iudw\\_1--DA--d30--4 & -0.2996176   & -1.471800929 & -0.5598412   & -0.2879682   & -0.07147503  & -0.09441242  & -0.9727544   &  0.5814618   & -1.2320759   & -0.33422713  & -0.41475364  & 1.17859668   & 0.02182522   & -0.07057997  & -0.08639611  &  0.6566855   &  0.007250073 & -0.023220657 & -1.76654655  & -1.0820929  \\\\\n",
       "\tHPSI0714i-iudw\\_1--DA--d30--5 &  0.2949934   & -1.601036803 &  0.1386558   &  0.3616551   &  0.16234537  &  0.01715240  & -1.1952241   &  0.6175316   & -0.7246064   &  0.02455041  &  0.15996241  & 0.56980108   & 0.53407917   &  0.10825273  & -0.21115001  & -0.7207979   & -0.929239594 & -0.583794032 & -0.50870368  & -0.7649116  \\\\\n",
       "\\end{tabular}\n"
      ],
      "text/markdown": [
       "\n",
       "| <!--/--> | MOFA1 | MOFA2 | MOFA3 | MOFA4 | MOFA5 | MOFA6 | MOFA7 | MOFA8 | MOFA9 | MOFA10 | MOFA11 | MOFA12 | MOFA13 | MOFA14 | MOFA15 | MOFA16 | MOFA17 | MOFA18 | MOFA19 | MOFA20 |\n",
       "|---|---|---|---|---|---|---|---|---|---|---|---|---|---|---|---|---|---|---|---|---|\n",
       "| HPSI0714i-iudw_1--DA--d30--0 |  1.6664557   |  0.589291718 | -1.2180321   |  0.5332707   | -0.11471842  | -0.70044968  | -0.8720116   | -0.7222332   |  0.1454206   |  0.25517320  | -0.15370322  | 0.04656182   | 0.93356092   | -0.30333289  | -1.42060705  |  0.3760455   | -1.375034636 | -1.321022478 |  0.03628515  | -0.5237842   |\n",
       "| HPSI0714i-iudw_1--DA--d30--1 |  1.7932753   | -1.089708277 |  0.5161943   |  0.3031652   | -0.37070591  | -0.63629753  |  1.1359303   |  0.2466621   | -0.3232387   | -0.32895030  |  0.29749804  | 0.10648809   | 1.43480155   |  0.17350133  |  1.14906137  | -0.5206075   |  0.887737582 | -0.130147039 |  0.94184241  |  0.6611521   |\n",
       "| HPSI0714i-iudw_1--DA--d30--2 |  1.4601733   | -0.920466384 |  0.4333725   |  0.8382845   |  0.04179157  | -0.34931222  | -0.5665099   |  0.0331838   | -0.2947486   |  1.64709869  | -0.24431455  | 1.19358563   | 0.23443004   |  1.36761039  | -1.35462397  | -0.4356618   | -0.001933761 |  0.004343457 | -0.10995757  | -0.0299945   |\n",
       "| HPSI0714i-iudw_1--DA--d30--3 |  2.1352168   |  0.007667889 | -0.3406776   |  0.1694220   | -0.48726664  | -0.94746164  |  0.2343832   | -0.4423545   |  0.5563007   |  0.43464525  |  0.03194636  | 0.58178461   | 0.67307489   |  0.18879474  | -1.24651969  |  1.0372639   | -0.689319483 | -0.844009905 |  1.14812243  |  0.3715339   |\n",
       "| HPSI0714i-iudw_1--DA--d30--4 | -0.2996176   | -1.471800929 | -0.5598412   | -0.2879682   | -0.07147503  | -0.09441242  | -0.9727544   |  0.5814618   | -1.2320759   | -0.33422713  | -0.41475364  | 1.17859668   | 0.02182522   | -0.07057997  | -0.08639611  |  0.6566855   |  0.007250073 | -0.023220657 | -1.76654655  | -1.0820929   |\n",
       "| HPSI0714i-iudw_1--DA--d30--5 |  0.2949934   | -1.601036803 |  0.1386558   |  0.3616551   |  0.16234537  |  0.01715240  | -1.1952241   |  0.6175316   | -0.7246064   |  0.02455041  |  0.15996241  | 0.56980108   | 0.53407917   |  0.10825273  | -0.21115001  | -0.7207979   | -0.929239594 | -0.583794032 | -0.50870368  | -0.7649116   |\n",
       "\n"
      ],
      "text/plain": [
       "                             MOFA1      MOFA2        MOFA3      MOFA4     \n",
       "HPSI0714i-iudw_1--DA--d30--0  1.6664557  0.589291718 -1.2180321  0.5332707\n",
       "HPSI0714i-iudw_1--DA--d30--1  1.7932753 -1.089708277  0.5161943  0.3031652\n",
       "HPSI0714i-iudw_1--DA--d30--2  1.4601733 -0.920466384  0.4333725  0.8382845\n",
       "HPSI0714i-iudw_1--DA--d30--3  2.1352168  0.007667889 -0.3406776  0.1694220\n",
       "HPSI0714i-iudw_1--DA--d30--4 -0.2996176 -1.471800929 -0.5598412 -0.2879682\n",
       "HPSI0714i-iudw_1--DA--d30--5  0.2949934 -1.601036803  0.1386558  0.3616551\n",
       "                             MOFA5       MOFA6       MOFA7      MOFA8     \n",
       "HPSI0714i-iudw_1--DA--d30--0 -0.11471842 -0.70044968 -0.8720116 -0.7222332\n",
       "HPSI0714i-iudw_1--DA--d30--1 -0.37070591 -0.63629753  1.1359303  0.2466621\n",
       "HPSI0714i-iudw_1--DA--d30--2  0.04179157 -0.34931222 -0.5665099  0.0331838\n",
       "HPSI0714i-iudw_1--DA--d30--3 -0.48726664 -0.94746164  0.2343832 -0.4423545\n",
       "HPSI0714i-iudw_1--DA--d30--4 -0.07147503 -0.09441242 -0.9727544  0.5814618\n",
       "HPSI0714i-iudw_1--DA--d30--5  0.16234537  0.01715240 -1.1952241  0.6175316\n",
       "                             MOFA9      MOFA10      MOFA11      MOFA12    \n",
       "HPSI0714i-iudw_1--DA--d30--0  0.1454206  0.25517320 -0.15370322 0.04656182\n",
       "HPSI0714i-iudw_1--DA--d30--1 -0.3232387 -0.32895030  0.29749804 0.10648809\n",
       "HPSI0714i-iudw_1--DA--d30--2 -0.2947486  1.64709869 -0.24431455 1.19358563\n",
       "HPSI0714i-iudw_1--DA--d30--3  0.5563007  0.43464525  0.03194636 0.58178461\n",
       "HPSI0714i-iudw_1--DA--d30--4 -1.2320759 -0.33422713 -0.41475364 1.17859668\n",
       "HPSI0714i-iudw_1--DA--d30--5 -0.7246064  0.02455041  0.15996241 0.56980108\n",
       "                             MOFA13     MOFA14      MOFA15      MOFA16    \n",
       "HPSI0714i-iudw_1--DA--d30--0 0.93356092 -0.30333289 -1.42060705  0.3760455\n",
       "HPSI0714i-iudw_1--DA--d30--1 1.43480155  0.17350133  1.14906137 -0.5206075\n",
       "HPSI0714i-iudw_1--DA--d30--2 0.23443004  1.36761039 -1.35462397 -0.4356618\n",
       "HPSI0714i-iudw_1--DA--d30--3 0.67307489  0.18879474 -1.24651969  1.0372639\n",
       "HPSI0714i-iudw_1--DA--d30--4 0.02182522 -0.07057997 -0.08639611  0.6566855\n",
       "HPSI0714i-iudw_1--DA--d30--5 0.53407917  0.10825273 -0.21115001 -0.7207979\n",
       "                             MOFA17       MOFA18       MOFA19      MOFA20    \n",
       "HPSI0714i-iudw_1--DA--d30--0 -1.375034636 -1.321022478  0.03628515 -0.5237842\n",
       "HPSI0714i-iudw_1--DA--d30--1  0.887737582 -0.130147039  0.94184241  0.6611521\n",
       "HPSI0714i-iudw_1--DA--d30--2 -0.001933761  0.004343457 -0.10995757 -0.0299945\n",
       "HPSI0714i-iudw_1--DA--d30--3 -0.689319483 -0.844009905  1.14812243  0.3715339\n",
       "HPSI0714i-iudw_1--DA--d30--4  0.007250073 -0.023220657 -1.76654655 -1.0820929\n",
       "HPSI0714i-iudw_1--DA--d30--5 -0.929239594 -0.583794032 -0.50870368 -0.7649116"
      ]
     },
     "metadata": {},
     "output_type": "display_data"
    }
   ],
   "source": [
    "MOFAs = paste0(neuro_folder, 'mofa_logcounts_model_factors.csv')\n",
    "df_MOFA = read.csv(MOFAs, row.names=1)\n",
    "head(df_MOFA)"
   ]
  },
  {
   "cell_type": "code",
   "execution_count": 71,
   "id": "4f5c4ef6",
   "metadata": {},
   "outputs": [
    {
     "data": {
      "text/html": [
       "<table>\n",
       "<thead><tr><th></th><th scope=col>gene</th><th scope=col>n_snps</th><th scope=col>chrom</th><th scope=col>pv_raw</th><th scope=col>snpID</th><th scope=col>pv</th><th scope=col>gene_old</th></tr></thead>\n",
       "<tbody>\n",
       "\t<tr><th scope=row>0</th><td>LINC00662      </td><td>1              </td><td>19             </td><td>0.058274791    </td><td>19_28250771_G_A</td><td>0.058274791    </td><td>LINC00662      </td></tr>\n",
       "\t<tr><th scope=row>1</th><td>ATRAID         </td><td>2              </td><td> 2             </td><td>0.663537037    </td><td>2_27389195_A_G </td><td>1.000000000    </td><td>ATRAID         </td></tr>\n",
       "\t<tr><th scope=row>2</th><td>ATRAID         </td><td>2              </td><td> 2             </td><td>0.815934343    </td><td>2_27527246_T_A </td><td>1.000000000    </td><td>ATRAID         </td></tr>\n",
       "\t<tr><th scope=row>3</th><td>CNDP2          </td><td>1              </td><td>18             </td><td>0.107678834    </td><td>18_72159310_T_A</td><td>0.107678834    </td><td>CNDP2          </td></tr>\n",
       "\t<tr><th scope=row>4</th><td>GPR22          </td><td>1              </td><td> 7             </td><td>0.005806852    </td><td>7_106914944_T_C</td><td>0.005806852    </td><td>GPR22          </td></tr>\n",
       "\t<tr><th scope=row>5</th><td>MGST3          </td><td>1              </td><td> 1             </td><td>0.006567903    </td><td>1_165599649_C_T</td><td>0.006567903    </td><td>MGST3          </td></tr>\n",
       "</tbody>\n",
       "</table>\n"
      ],
      "text/latex": [
       "\\begin{tabular}{r|lllllll}\n",
       "  & gene & n\\_snps & chrom & pv\\_raw & snpID & pv & gene\\_old\\\\\n",
       "\\hline\n",
       "\t0 & LINC00662             & 1                     & 19                    & 0.058274791           & 19\\_28250771\\_G\\_A & 0.058274791           & LINC00662            \\\\\n",
       "\t1 & ATRAID                & 2                     &  2                    & 0.663537037           & 2\\_27389195\\_A\\_G  & 1.000000000           & ATRAID               \\\\\n",
       "\t2 & ATRAID                & 2                     &  2                    & 0.815934343           & 2\\_27527246\\_T\\_A  & 1.000000000           & ATRAID               \\\\\n",
       "\t3 & CNDP2                 & 1                     & 18                    & 0.107678834           & 18\\_72159310\\_T\\_A & 0.107678834           & CNDP2                \\\\\n",
       "\t4 & GPR22                 & 1                     &  7                    & 0.005806852           & 7\\_106914944\\_T\\_C & 0.005806852           & GPR22                \\\\\n",
       "\t5 & MGST3                 & 1                     &  1                    & 0.006567903           & 1\\_165599649\\_C\\_T & 0.006567903           & MGST3                \\\\\n",
       "\\end{tabular}\n"
      ],
      "text/markdown": [
       "\n",
       "| <!--/--> | gene | n_snps | chrom | pv_raw | snpID | pv | gene_old |\n",
       "|---|---|---|---|---|---|---|---|\n",
       "| 0 | LINC00662       | 1               | 19              | 0.058274791     | 19_28250771_G_A | 0.058274791     | LINC00662       |\n",
       "| 1 | ATRAID          | 2               |  2              | 0.663537037     | 2_27389195_A_G  | 1.000000000     | ATRAID          |\n",
       "| 2 | ATRAID          | 2               |  2              | 0.815934343     | 2_27527246_T_A  | 1.000000000     | ATRAID          |\n",
       "| 3 | CNDP2           | 1               | 18              | 0.107678834     | 18_72159310_T_A | 0.107678834     | CNDP2           |\n",
       "| 4 | GPR22           | 1               |  7              | 0.005806852     | 7_106914944_T_C | 0.005806852     | GPR22           |\n",
       "| 5 | MGST3           | 1               |  1              | 0.006567903     | 1_165599649_C_T | 0.006567903     | MGST3           |\n",
       "\n"
      ],
      "text/plain": [
       "  gene      n_snps chrom pv_raw      snpID           pv          gene_old \n",
       "0 LINC00662 1      19    0.058274791 19_28250771_G_A 0.058274791 LINC00662\n",
       "1 ATRAID    2       2    0.663537037 2_27389195_A_G  1.000000000 ATRAID   \n",
       "2 ATRAID    2       2    0.815934343 2_27527246_T_A  1.000000000 ATRAID   \n",
       "3 CNDP2     1      18    0.107678834 18_72159310_T_A 0.107678834 CNDP2    \n",
       "4 GPR22     1       7    0.005806852 7_106914944_T_C 0.005806852 GPR22    \n",
       "5 MGST3     1       1    0.006567903 1_165599649_C_T 0.006567903 MGST3    "
      ]
     },
     "metadata": {},
     "output_type": "display_data"
    }
   ],
   "source": [
    "MOFA_results_folder = paste0(neuro_folder, 'MOFA/MOFA10/')\n",
    "summary_filename = paste0(MOFA_results_folder, 'summary.csv')\n",
    "summary = read.csv(summary_filename, row.names=1)\n",
    "summary$gene = gsub(\"\\\\.\",\"-\",summary$gene)\n",
    "head(summary)"
   ]
  },
  {
   "cell_type": "code",
   "execution_count": 72,
   "id": "d1a2c314",
   "metadata": {},
   "outputs": [],
   "source": [
    "sign_genes = as.character(read.csv(paste0(neuro_folder, 'genetic_effect/expression_20mofas_as_spatial_cluster_labels.csv'),row.names=1)$gene)"
   ]
  },
  {
   "cell_type": "code",
   "execution_count": 73,
   "id": "e67c0c8f",
   "metadata": {
    "scrolled": true
   },
   "outputs": [
    {
     "data": {
      "text/html": [
       "48"
      ],
      "text/latex": [
       "48"
      ],
      "text/markdown": [
       "48"
      ],
      "text/plain": [
       "[1] 48"
      ]
     },
     "metadata": {},
     "output_type": "display_data"
    }
   ],
   "source": [
    "chr22_genes = unique(as.character(summary[summary$chr == 22,\"gene\"]))\n",
    "length(chr22_genes)"
   ]
  },
  {
   "cell_type": "code",
   "execution_count": 74,
   "id": "8874d178",
   "metadata": {},
   "outputs": [
    {
     "data": {
      "text/html": [
       "<ol class=list-inline>\n",
       "\t<li>'ADSL'</li>\n",
       "\t<li>'C22orf29'</li>\n",
       "\t<li>'CECR1'</li>\n",
       "\t<li>'CRYBB2'</li>\n",
       "\t<li>'FAM118A'</li>\n",
       "\t<li>'GSTT1'</li>\n",
       "\t<li>'MIAT'</li>\n",
       "\t<li>'RFPL2'</li>\n",
       "\t<li>'SMDT1'</li>\n",
       "\t<li>'SYCE3'</li>\n",
       "</ol>\n"
      ],
      "text/latex": [
       "\\begin{enumerate*}\n",
       "\\item 'ADSL'\n",
       "\\item 'C22orf29'\n",
       "\\item 'CECR1'\n",
       "\\item 'CRYBB2'\n",
       "\\item 'FAM118A'\n",
       "\\item 'GSTT1'\n",
       "\\item 'MIAT'\n",
       "\\item 'RFPL2'\n",
       "\\item 'SMDT1'\n",
       "\\item 'SYCE3'\n",
       "\\end{enumerate*}\n"
      ],
      "text/markdown": [
       "1. 'ADSL'\n",
       "2. 'C22orf29'\n",
       "3. 'CECR1'\n",
       "4. 'CRYBB2'\n",
       "5. 'FAM118A'\n",
       "6. 'GSTT1'\n",
       "7. 'MIAT'\n",
       "8. 'RFPL2'\n",
       "9. 'SMDT1'\n",
       "10. 'SYCE3'\n",
       "\n",
       "\n"
      ],
      "text/plain": [
       " [1] \"ADSL\"     \"C22orf29\" \"CECR1\"    \"CRYBB2\"   \"FAM118A\"  \"GSTT1\"   \n",
       " [7] \"MIAT\"     \"RFPL2\"    \"SMDT1\"    \"SYCE3\"   "
      ]
     },
     "metadata": {},
     "output_type": "display_data"
    }
   ],
   "source": [
    "chr22_genes[chr22_genes %in% sign_genes][order(chr22_genes[chr22_genes %in% sign_genes])]"
   ]
  },
  {
   "cell_type": "code",
   "execution_count": 75,
   "id": "fc4eb65c",
   "metadata": {},
   "outputs": [],
   "source": [
    "######## dicrete contexts"
   ]
  },
  {
   "cell_type": "code",
   "execution_count": 76,
   "id": "1e756d28",
   "metadata": {},
   "outputs": [
    {
     "data": {
      "text/html": [
       "<table>\n",
       "<thead><tr><th></th><th scope=col>gene</th><th scope=col>n_snps</th><th scope=col>chrom</th><th scope=col>pv_raw</th><th scope=col>snpID</th></tr></thead>\n",
       "<tbody>\n",
       "\t<tr><th scope=row>0</th><td>LINC00662.tsv  </td><td>1              </td><td>19             </td><td>0.10437110     </td><td>19_28250771_G_A</td></tr>\n",
       "\t<tr><th scope=row>1</th><td>ATRAID.tsv     </td><td>2              </td><td> 2             </td><td>0.86126123     </td><td>2_27389195_A_G </td></tr>\n",
       "\t<tr><th scope=row>2</th><td>ATRAID.tsv     </td><td>2              </td><td> 2             </td><td>0.98543098     </td><td>2_27527246_T_A </td></tr>\n",
       "\t<tr><th scope=row>3</th><td>CNDP2.tsv      </td><td>1              </td><td>18             </td><td>0.01964904     </td><td>18_72159310_T_A</td></tr>\n",
       "\t<tr><th scope=row>4</th><td>GPR22.tsv      </td><td>1              </td><td> 7             </td><td>0.96147037     </td><td>7_106914944_T_C</td></tr>\n",
       "\t<tr><th scope=row>5</th><td>MGST3.tsv      </td><td>1              </td><td> 1             </td><td>0.53107222     </td><td>1_165599649_C_T</td></tr>\n",
       "</tbody>\n",
       "</table>\n"
      ],
      "text/latex": [
       "\\begin{tabular}{r|lllll}\n",
       "  & gene & n\\_snps & chrom & pv\\_raw & snpID\\\\\n",
       "\\hline\n",
       "\t0 & LINC00662.tsv         & 1                     & 19                    & 0.10437110            & 19\\_28250771\\_G\\_A\\\\\n",
       "\t1 & ATRAID.tsv            & 2                     &  2                    & 0.86126123            & 2\\_27389195\\_A\\_G \\\\\n",
       "\t2 & ATRAID.tsv            & 2                     &  2                    & 0.98543098            & 2\\_27527246\\_T\\_A \\\\\n",
       "\t3 & CNDP2.tsv             & 1                     & 18                    & 0.01964904            & 18\\_72159310\\_T\\_A\\\\\n",
       "\t4 & GPR22.tsv             & 1                     &  7                    & 0.96147037            & 7\\_106914944\\_T\\_C\\\\\n",
       "\t5 & MGST3.tsv             & 1                     &  1                    & 0.53107222            & 1\\_165599649\\_C\\_T\\\\\n",
       "\\end{tabular}\n"
      ],
      "text/markdown": [
       "\n",
       "| <!--/--> | gene | n_snps | chrom | pv_raw | snpID |\n",
       "|---|---|---|---|---|---|\n",
       "| 0 | LINC00662.tsv   | 1               | 19              | 0.10437110      | 19_28250771_G_A |\n",
       "| 1 | ATRAID.tsv      | 2               |  2              | 0.86126123      | 2_27389195_A_G  |\n",
       "| 2 | ATRAID.tsv      | 2               |  2              | 0.98543098      | 2_27527246_T_A  |\n",
       "| 3 | CNDP2.tsv       | 1               | 18              | 0.01964904      | 18_72159310_T_A |\n",
       "| 4 | GPR22.tsv       | 1               |  7              | 0.96147037      | 7_106914944_T_C |\n",
       "| 5 | MGST3.tsv       | 1               |  1              | 0.53107222      | 1_165599649_C_T |\n",
       "\n"
      ],
      "text/plain": [
       "  gene          n_snps chrom pv_raw     snpID          \n",
       "0 LINC00662.tsv 1      19    0.10437110 19_28250771_G_A\n",
       "1 ATRAID.tsv    2       2    0.86126123 2_27389195_A_G \n",
       "2 ATRAID.tsv    2       2    0.98543098 2_27527246_T_A \n",
       "3 CNDP2.tsv     1      18    0.01964904 18_72159310_T_A\n",
       "4 GPR22.tsv     1       7    0.96147037 7_106914944_T_C\n",
       "5 MGST3.tsv     1       1    0.53107222 1_165599649_C_T"
      ]
     },
     "metadata": {},
     "output_type": "display_data"
    }
   ],
   "source": [
    "outdir = \"/hps/nobackup/stegle/users/acuomo/all_scripts/struct_LMM2/sc_neuroseq/May2021/REVISION/CRM_int/\"\n",
    "dc_filename = paste0(outdir, 'summary.csv')\n",
    "discrete = read.csv(dc_filename, row.names=1)\n",
    "head(discrete)"
   ]
  },
  {
   "cell_type": "code",
   "execution_count": 77,
   "id": "91993488",
   "metadata": {},
   "outputs": [],
   "source": [
    "# unique(discrete$chrom)[order(unique(discrete$chrom))]"
   ]
  },
  {
   "cell_type": "code",
   "execution_count": 78,
   "id": "28afa575",
   "metadata": {},
   "outputs": [],
   "source": [
    "discrete$gene = gsub(\".tsv\",\"\",discrete$gene)\n",
    "discrete$gene = gsub(\"\\\\.\",\"-\",discrete$gene)"
   ]
  },
  {
   "cell_type": "code",
   "execution_count": 79,
   "id": "8c4ad3b0",
   "metadata": {},
   "outputs": [],
   "source": [
    "df_plot = inner_join(summary, discrete, by=c(\"snpID\",\"gene\"), suffix=c(\".c\",\".d\"))"
   ]
  },
  {
   "cell_type": "code",
   "execution_count": 80,
   "id": "49ab1ae3",
   "metadata": {
    "scrolled": true
   },
   "outputs": [],
   "source": [
    "# unique(df_plot$gene)[order(unique(df_plot$gene))]"
   ]
  },
  {
   "cell_type": "code",
   "execution_count": 81,
   "id": "8e1f21fe",
   "metadata": {},
   "outputs": [
    {
     "data": {
      "text/html": [
       "2051"
      ],
      "text/latex": [
       "2051"
      ],
      "text/markdown": [
       "2051"
      ],
      "text/plain": [
       "[1] 2051"
      ]
     },
     "metadata": {},
     "output_type": "display_data"
    },
    {
     "data": {
      "text/html": [
       "<table>\n",
       "<thead><tr><th scope=col>gene</th><th scope=col>n_snps.c</th><th scope=col>chrom.c</th><th scope=col>pv_raw.c</th><th scope=col>snpID</th><th scope=col>pv</th><th scope=col>gene_old</th><th scope=col>n_snps.d</th><th scope=col>chrom.d</th><th scope=col>pv_raw.d</th></tr></thead>\n",
       "<tbody>\n",
       "\t<tr><td>LINC00662      </td><td>1              </td><td>19             </td><td>0.058274791    </td><td>19_28250771_G_A</td><td>0.058274791    </td><td>LINC00662      </td><td>1              </td><td>19             </td><td>0.10437110     </td></tr>\n",
       "\t<tr><td>ATRAID         </td><td>2              </td><td> 2             </td><td>0.663537037    </td><td>2_27389195_A_G </td><td>1.000000000    </td><td>ATRAID         </td><td>2              </td><td> 2             </td><td>0.86126123     </td></tr>\n",
       "\t<tr><td>ATRAID         </td><td>2              </td><td> 2             </td><td>0.815934343    </td><td>2_27527246_T_A </td><td>1.000000000    </td><td>ATRAID         </td><td>2              </td><td> 2             </td><td>0.98543098     </td></tr>\n",
       "\t<tr><td>CNDP2          </td><td>1              </td><td>18             </td><td>0.107678834    </td><td>18_72159310_T_A</td><td>0.107678834    </td><td>CNDP2          </td><td>1              </td><td>18             </td><td>0.01964904     </td></tr>\n",
       "\t<tr><td>GPR22          </td><td>1              </td><td> 7             </td><td>0.005806852    </td><td>7_106914944_T_C</td><td>0.005806852    </td><td>GPR22          </td><td>1              </td><td> 7             </td><td>0.96147037     </td></tr>\n",
       "\t<tr><td>MGST3          </td><td>1              </td><td> 1             </td><td>0.006567903    </td><td>1_165599649_C_T</td><td>0.006567903    </td><td>MGST3          </td><td>1              </td><td> 1             </td><td>0.53107222     </td></tr>\n",
       "</tbody>\n",
       "</table>\n"
      ],
      "text/latex": [
       "\\begin{tabular}{r|llllllllll}\n",
       " gene & n\\_snps.c & chrom.c & pv\\_raw.c & snpID & pv & gene\\_old & n\\_snps.d & chrom.d & pv\\_raw.d\\\\\n",
       "\\hline\n",
       "\t LINC00662             & 1                     & 19                    & 0.058274791           & 19\\_28250771\\_G\\_A & 0.058274791           & LINC00662             & 1                     & 19                    & 0.10437110           \\\\\n",
       "\t ATRAID                & 2                     &  2                    & 0.663537037           & 2\\_27389195\\_A\\_G  & 1.000000000           & ATRAID                & 2                     &  2                    & 0.86126123           \\\\\n",
       "\t ATRAID                & 2                     &  2                    & 0.815934343           & 2\\_27527246\\_T\\_A  & 1.000000000           & ATRAID                & 2                     &  2                    & 0.98543098           \\\\\n",
       "\t CNDP2                 & 1                     & 18                    & 0.107678834           & 18\\_72159310\\_T\\_A & 0.107678834           & CNDP2                 & 1                     & 18                    & 0.01964904           \\\\\n",
       "\t GPR22                 & 1                     &  7                    & 0.005806852           & 7\\_106914944\\_T\\_C & 0.005806852           & GPR22                 & 1                     &  7                    & 0.96147037           \\\\\n",
       "\t MGST3                 & 1                     &  1                    & 0.006567903           & 1\\_165599649\\_C\\_T & 0.006567903           & MGST3                 & 1                     &  1                    & 0.53107222           \\\\\n",
       "\\end{tabular}\n"
      ],
      "text/markdown": [
       "\n",
       "| gene | n_snps.c | chrom.c | pv_raw.c | snpID | pv | gene_old | n_snps.d | chrom.d | pv_raw.d |\n",
       "|---|---|---|---|---|---|---|---|---|---|\n",
       "| LINC00662       | 1               | 19              | 0.058274791     | 19_28250771_G_A | 0.058274791     | LINC00662       | 1               | 19              | 0.10437110      |\n",
       "| ATRAID          | 2               |  2              | 0.663537037     | 2_27389195_A_G  | 1.000000000     | ATRAID          | 2               |  2              | 0.86126123      |\n",
       "| ATRAID          | 2               |  2              | 0.815934343     | 2_27527246_T_A  | 1.000000000     | ATRAID          | 2               |  2              | 0.98543098      |\n",
       "| CNDP2           | 1               | 18              | 0.107678834     | 18_72159310_T_A | 0.107678834     | CNDP2           | 1               | 18              | 0.01964904      |\n",
       "| GPR22           | 1               |  7              | 0.005806852     | 7_106914944_T_C | 0.005806852     | GPR22           | 1               |  7              | 0.96147037      |\n",
       "| MGST3           | 1               |  1              | 0.006567903     | 1_165599649_C_T | 0.006567903     | MGST3           | 1               |  1              | 0.53107222      |\n",
       "\n"
      ],
      "text/plain": [
       "  gene      n_snps.c chrom.c pv_raw.c    snpID           pv          gene_old \n",
       "1 LINC00662 1        19      0.058274791 19_28250771_G_A 0.058274791 LINC00662\n",
       "2 ATRAID    2         2      0.663537037 2_27389195_A_G  1.000000000 ATRAID   \n",
       "3 ATRAID    2         2      0.815934343 2_27527246_T_A  1.000000000 ATRAID   \n",
       "4 CNDP2     1        18      0.107678834 18_72159310_T_A 0.107678834 CNDP2    \n",
       "5 GPR22     1         7      0.005806852 7_106914944_T_C 0.005806852 GPR22    \n",
       "6 MGST3     1         1      0.006567903 1_165599649_C_T 0.006567903 MGST3    \n",
       "  n_snps.d chrom.d pv_raw.d  \n",
       "1 1        19      0.10437110\n",
       "2 2         2      0.86126123\n",
       "3 2         2      0.98543098\n",
       "4 1        18      0.01964904\n",
       "5 1         7      0.96147037\n",
       "6 1         1      0.53107222"
      ]
     },
     "metadata": {},
     "output_type": "display_data"
    }
   ],
   "source": [
    "nrow(df_plot)\n",
    "head(df_plot)"
   ]
  },
  {
   "cell_type": "code",
   "execution_count": 82,
   "id": "a7f1e8cb",
   "metadata": {},
   "outputs": [
    {
     "data": {
      "text/html": [
       "1374"
      ],
      "text/latex": [
       "1374"
      ],
      "text/markdown": [
       "1374"
      ],
      "text/plain": [
       "[1] 1374"
      ]
     },
     "metadata": {},
     "output_type": "display_data"
    }
   ],
   "source": [
    "length(unique(df_plot$gene))"
   ]
  },
  {
   "cell_type": "code",
   "execution_count": 83,
   "id": "fcdebc91",
   "metadata": {},
   "outputs": [
    {
     "data": {
      "text/plain": [
       "\n",
       "\tPearson's product-moment correlation\n",
       "\n",
       "data:  -log10(df_plot$pv_raw.c) and -log10(df_plot$pv_raw.d)\n",
       "t = 42.101, df = 2049, p-value < 2.2e-16\n",
       "alternative hypothesis: true correlation is not equal to 0\n",
       "95 percent confidence interval:\n",
       " 0.6571371 0.7035912\n",
       "sample estimates:\n",
       "      cor \n",
       "0.6810489 \n"
      ]
     },
     "metadata": {},
     "output_type": "display_data"
    }
   ],
   "source": [
    "cor.test(-log10(df_plot$pv_raw.c),-log10(df_plot$pv_raw.d))"
   ]
  },
  {
   "cell_type": "code",
   "execution_count": 84,
   "id": "6cd1af4e",
   "metadata": {},
   "outputs": [
    {
     "data": {
      "image/png": "[encoded data removed]",
      "text/plain": [
       "plot without title"
      ]
     },
     "metadata": {},
     "output_type": "display_data"
    }
   ],
   "source": [
    "p = ggplot(df_plot, aes(x=-log10(pv_raw.c),y=-log10(pv_raw.d))) + geom_point()\n",
    "# p = p + geom_point(aes(x=-log10(pv_raw.c),y=-log10(pv_raw.d)),col=\"cornflowerblue\",data = df_plot[df_plot$gene %in% sign_genes,])\n",
    "p + theme_classic() + ylim(c(0,20)) + geom_abline(col=\"lightgrey\")"
   ]
  },
  {
   "cell_type": "code",
   "execution_count": null,
   "id": "cc55375e",
   "metadata": {},
   "outputs": [],
   "source": []
  },
  {
   "cell_type": "code",
   "execution_count": 85,
   "id": "3dfb0f13",
   "metadata": {},
   "outputs": [],
   "source": [
    "## compare power (number of eGenes)"
   ]
  },
  {
   "cell_type": "code",
   "execution_count": 86,
   "id": "f803c90e",
   "metadata": {},
   "outputs": [],
   "source": [
    "# continuous contexts"
   ]
  },
  {
   "cell_type": "code",
   "execution_count": 87,
   "id": "a0f30a9d",
   "metadata": {},
   "outputs": [],
   "source": [
    "summary$qv = qvalue(summary$pv)$qvalues"
   ]
  },
  {
   "cell_type": "code",
   "execution_count": 88,
   "id": "7746e2ef",
   "metadata": {},
   "outputs": [
    {
     "data": {
      "text/html": [
       "2051"
      ],
      "text/latex": [
       "2051"
      ],
      "text/markdown": [
       "2051"
      ],
      "text/plain": [
       "[1] 2051"
      ]
     },
     "metadata": {},
     "output_type": "display_data"
    },
    {
     "data": {
      "text/html": [
       "333"
      ],
      "text/latex": [
       "333"
      ],
      "text/markdown": [
       "333"
      ],
      "text/plain": [
       "[1] 333"
      ]
     },
     "metadata": {},
     "output_type": "display_data"
    },
    {
     "data": {
      "text/html": [
       "0.162359824475865"
      ],
      "text/latex": [
       "0.162359824475865"
      ],
      "text/markdown": [
       "0.162359824475865"
      ],
      "text/plain": [
       "[1] 0.1623598"
      ]
     },
     "metadata": {},
     "output_type": "display_data"
    }
   ],
   "source": [
    "nrow(summary)\n",
    "nrow(summary[summary$qv<0.1,])\n",
    "nrow(summary[summary$qv<0.1,])/nrow(summary)"
   ]
  },
  {
   "cell_type": "code",
   "execution_count": 89,
   "id": "ecced858",
   "metadata": {},
   "outputs": [],
   "source": [
    "# discrete contexts"
   ]
  },
  {
   "cell_type": "code",
   "execution_count": 90,
   "id": "87f3bd73",
   "metadata": {},
   "outputs": [],
   "source": [
    "discrete$pv = as.numeric(discrete$pv_raw) * as.numeric(discrete$n_snps)\n",
    "discrete$pv[discrete$pv>1]=1\n",
    "discrete$qv = qvalue(discrete$pv)$qvalues"
   ]
  },
  {
   "cell_type": "code",
   "execution_count": 91,
   "id": "9df5fb25",
   "metadata": {},
   "outputs": [
    {
     "data": {
      "text/html": [
       "2051"
      ],
      "text/latex": [
       "2051"
      ],
      "text/markdown": [
       "2051"
      ],
      "text/plain": [
       "[1] 2051"
      ]
     },
     "metadata": {},
     "output_type": "display_data"
    },
    {
     "data": {
      "text/html": [
       "44"
      ],
      "text/latex": [
       "44"
      ],
      "text/markdown": [
       "44"
      ],
      "text/plain": [
       "[1] 44"
      ]
     },
     "metadata": {},
     "output_type": "display_data"
    },
    {
     "data": {
      "text/html": [
       "0.0214529497805948"
      ],
      "text/latex": [
       "0.0214529497805948"
      ],
      "text/markdown": [
       "0.0214529497805948"
      ],
      "text/plain": [
       "[1] 0.02145295"
      ]
     },
     "metadata": {},
     "output_type": "display_data"
    }
   ],
   "source": [
    "nrow(discrete)\n",
    "nrow(discrete[discrete$qv<0.1,])\n",
    "nrow(discrete[discrete$qv<0.1,])/nrow(discrete)"
   ]
  },
  {
   "cell_type": "code",
   "execution_count": 92,
   "id": "5a222136",
   "metadata": {},
   "outputs": [],
   "source": [
    "## number of overlapping eGenes"
   ]
  },
  {
   "cell_type": "code",
   "execution_count": 93,
   "id": "a79e2dc2",
   "metadata": {},
   "outputs": [],
   "source": [
    "genes_c = unique(summary[summary$qv<0.05,\"gene\"])\n",
    "genes_d = unique(discrete[discrete$qv<0.05,\"gene\"])"
   ]
  },
  {
   "cell_type": "code",
   "execution_count": 94,
   "id": "0c8235a7",
   "metadata": {},
   "outputs": [
    {
     "data": {
      "text/html": [
       "209"
      ],
      "text/latex": [
       "209"
      ],
      "text/markdown": [
       "209"
      ],
      "text/plain": [
       "[1] 209"
      ]
     },
     "metadata": {},
     "output_type": "display_data"
    },
    {
     "data": {
      "text/html": [
       "27"
      ],
      "text/latex": [
       "27"
      ],
      "text/markdown": [
       "27"
      ],
      "text/plain": [
       "[1] 27"
      ]
     },
     "metadata": {},
     "output_type": "display_data"
    },
    {
     "data": {
      "text/html": [
       "24"
      ],
      "text/latex": [
       "24"
      ],
      "text/markdown": [
       "24"
      ],
      "text/plain": [
       "[1] 24"
      ]
     },
     "metadata": {},
     "output_type": "display_data"
    }
   ],
   "source": [
    "length(genes_c)\n",
    "length(genes_d)\n",
    "length(genes_c[genes_c %in% genes_d])"
   ]
  },
  {
   "cell_type": "code",
   "execution_count": 95,
   "id": "abb1fc14",
   "metadata": {},
   "outputs": [
    {
     "data": {
      "text/html": [
       "<ol class=list-inline>\n",
       "\t<li>'TRAPPC12-AS1'</li>\n",
       "\t<li>'LARP4B'</li>\n",
       "\t<li>'ASNS'</li>\n",
       "</ol>\n"
      ],
      "text/latex": [
       "\\begin{enumerate*}\n",
       "\\item 'TRAPPC12-AS1'\n",
       "\\item 'LARP4B'\n",
       "\\item 'ASNS'\n",
       "\\end{enumerate*}\n"
      ],
      "text/markdown": [
       "1. 'TRAPPC12-AS1'\n",
       "2. 'LARP4B'\n",
       "3. 'ASNS'\n",
       "\n",
       "\n"
      ],
      "text/plain": [
       "[1] \"TRAPPC12-AS1\" \"LARP4B\"       \"ASNS\"        "
      ]
     },
     "metadata": {},
     "output_type": "display_data"
    }
   ],
   "source": [
    "genes_d[!(genes_d %in% genes_c)]"
   ]
  },
  {
   "cell_type": "code",
   "execution_count": null,
   "id": "24912d56",
   "metadata": {},
   "outputs": [],
   "source": []
  }
 ],
 "metadata": {
  "kernelspec": {
   "display_name": "R",
   "language": "R",
   "name": "ir"
  },
  "language_info": {
   "codemirror_mode": "r",
   "file_extension": ".r",
   "mimetype": "text/x-r-source",
   "name": "R",
   "pygments_lexer": "r",
   "version": "3.6.1"
  }
 },
 "nbformat": 4,
 "nbformat_minor": 5
}
