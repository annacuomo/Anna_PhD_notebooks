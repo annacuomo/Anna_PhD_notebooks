{
 "cells": [
  {
   "cell_type": "code",
   "execution_count": 71,
   "id": "7e2ad60a",
   "metadata": {},
   "outputs": [],
   "source": [
    "library(dplyr)\n",
    "library(ggplot2)\n",
    "library(qvalue)"
   ]
  },
  {
   "cell_type": "code",
   "execution_count": 72,
   "id": "faf7c0c4",
   "metadata": {},
   "outputs": [],
   "source": [
    "neuro_folder = \"/hps/nobackup2/stegle/users/acuomo/all_scripts/struct_LMM2/sc_neuroseq/May2021/\""
   ]
  },
  {
   "cell_type": "code",
   "execution_count": null,
   "id": "0bd157d3",
   "metadata": {},
   "outputs": [],
   "source": []
  },
  {
   "cell_type": "code",
   "execution_count": 73,
   "id": "d6e7bf03",
   "metadata": {},
   "outputs": [],
   "source": [
    "############################################################################\n",
    "########## CellRegMap (GxC)\n",
    "## neuronal development data (\"neuroseq\") from Jerber et al, Nat Genet 2021\n",
    "## dopaminergic neurons (DA) eQTLs only - 2,051 eQTL, 1,374 unique eGenes"
   ]
  },
  {
   "cell_type": "code",
   "execution_count": 74,
   "id": "8232b939",
   "metadata": {},
   "outputs": [],
   "source": [
    "############################################################\n",
    "## testing 10 MOFA factors as (continuous) contexts"
   ]
  },
  {
   "cell_type": "code",
   "execution_count": 75,
   "id": "4f5c4ef6",
   "metadata": {},
   "outputs": [
    {
     "data": {
      "text/html": [
       "<table>\n",
       "<thead><tr><th></th><th scope=col>gene</th><th scope=col>n_snps</th><th scope=col>chrom</th><th scope=col>pv_raw</th><th scope=col>snpID</th><th scope=col>pv</th><th scope=col>gene_old</th></tr></thead>\n",
       "<tbody>\n",
       "\t<tr><th scope=row>0</th><td>LINC00662      </td><td>1              </td><td>19             </td><td>0.05827479     </td><td>19_28250771_G_A</td><td>0.05827479     </td><td>LINC00662      </td></tr>\n",
       "\t<tr><th scope=row>1</th><td>ATRAID         </td><td>2              </td><td> 2             </td><td>0.66353704     </td><td>2_27389195_A_G </td><td>1.00000000     </td><td>ATRAID         </td></tr>\n",
       "</tbody>\n",
       "</table>\n"
      ],
      "text/latex": [
       "\\begin{tabular}{r|lllllll}\n",
       "  & gene & n\\_snps & chrom & pv\\_raw & snpID & pv & gene\\_old\\\\\n",
       "\\hline\n",
       "\t0 & LINC00662             & 1                     & 19                    & 0.05827479            & 19\\_28250771\\_G\\_A & 0.05827479            & LINC00662            \\\\\n",
       "\t1 & ATRAID                & 2                     &  2                    & 0.66353704            & 2\\_27389195\\_A\\_G  & 1.00000000            & ATRAID               \\\\\n",
       "\\end{tabular}\n"
      ],
      "text/markdown": [
       "\n",
       "| <!--/--> | gene | n_snps | chrom | pv_raw | snpID | pv | gene_old |\n",
       "|---|---|---|---|---|---|---|---|\n",
       "| 0 | LINC00662       | 1               | 19              | 0.05827479      | 19_28250771_G_A | 0.05827479      | LINC00662       |\n",
       "| 1 | ATRAID          | 2               |  2              | 0.66353704      | 2_27389195_A_G  | 1.00000000      | ATRAID          |\n",
       "\n"
      ],
      "text/plain": [
       "  gene      n_snps chrom pv_raw     snpID           pv         gene_old \n",
       "0 LINC00662 1      19    0.05827479 19_28250771_G_A 0.05827479 LINC00662\n",
       "1 ATRAID    2       2    0.66353704 2_27389195_A_G  1.00000000 ATRAID   "
      ]
     },
     "metadata": {},
     "output_type": "display_data"
    }
   ],
   "source": [
    "MOFA_results_folder = paste0(neuro_folder, 'MOFA/MOFA10/')\n",
    "summary_filename = paste0(MOFA_results_folder, 'summary.csv')\n",
    "summary = read.csv(summary_filename, row.names=1)\n",
    "summary$gene = gsub(\"\\\\.\",\"-\",summary$gene)\n",
    "head(summary,2)"
   ]
  },
  {
   "cell_type": "code",
   "execution_count": 76,
   "id": "ef459a6f",
   "metadata": {},
   "outputs": [
    {
     "data": {
      "text/html": [
       "2051"
      ],
      "text/latex": [
       "2051"
      ],
      "text/markdown": [
       "2051"
      ],
      "text/plain": [
       "[1] 2051"
      ]
     },
     "metadata": {},
     "output_type": "display_data"
    },
    {
     "data": {
      "text/html": [
       "1374"
      ],
      "text/latex": [
       "1374"
      ],
      "text/markdown": [
       "1374"
      ],
      "text/plain": [
       "[1] 1374"
      ]
     },
     "metadata": {},
     "output_type": "display_data"
    }
   ],
   "source": [
    "nrow(summary)\n",
    "length(unique(summary$gene))"
   ]
  },
  {
   "cell_type": "code",
   "execution_count": 77,
   "id": "77ac145a",
   "metadata": {},
   "outputs": [],
   "source": [
    "###############################################################################\n",
    "## testing 3 conditions from the original paper as (discrete) contexts\n",
    "## conditions for dopaminergic neurons: day 30, day 52, rotenone-treated day 52 "
   ]
  },
  {
   "cell_type": "code",
   "execution_count": 78,
   "id": "9d0b90ee",
   "metadata": {},
   "outputs": [
    {
     "data": {
      "text/html": [
       "<table>\n",
       "<thead><tr><th></th><th scope=col>gene</th><th scope=col>n_snps</th><th scope=col>chrom</th><th scope=col>pv_raw</th><th scope=col>snpID</th></tr></thead>\n",
       "<tbody>\n",
       "\t<tr><th scope=row>0</th><td>LINC00662      </td><td>1              </td><td>19             </td><td>0.1043711      </td><td>19_28250771_G_A</td></tr>\n",
       "\t<tr><th scope=row>1</th><td>ATRAID         </td><td>2              </td><td> 2             </td><td>0.8612612      </td><td>2_27389195_A_G </td></tr>\n",
       "</tbody>\n",
       "</table>\n"
      ],
      "text/latex": [
       "\\begin{tabular}{r|lllll}\n",
       "  & gene & n\\_snps & chrom & pv\\_raw & snpID\\\\\n",
       "\\hline\n",
       "\t0 & LINC00662             & 1                     & 19                    & 0.1043711             & 19\\_28250771\\_G\\_A\\\\\n",
       "\t1 & ATRAID                & 2                     &  2                    & 0.8612612             & 2\\_27389195\\_A\\_G \\\\\n",
       "\\end{tabular}\n"
      ],
      "text/markdown": [
       "\n",
       "| <!--/--> | gene | n_snps | chrom | pv_raw | snpID |\n",
       "|---|---|---|---|---|---|\n",
       "| 0 | LINC00662       | 1               | 19              | 0.1043711       | 19_28250771_G_A |\n",
       "| 1 | ATRAID          | 2               |  2              | 0.8612612       | 2_27389195_A_G  |\n",
       "\n"
      ],
      "text/plain": [
       "  gene      n_snps chrom pv_raw    snpID          \n",
       "0 LINC00662 1      19    0.1043711 19_28250771_G_A\n",
       "1 ATRAID    2       2    0.8612612 2_27389195_A_G "
      ]
     },
     "metadata": {},
     "output_type": "display_data"
    }
   ],
   "source": [
    "outdir = \"/hps/nobackup2/stegle/users/acuomo/all_scripts/struct_LMM2/sc_neuroseq/May2021/REVISION/CRM_interaction_discrete_contexts/3conditions/\"\n",
    "dc_filename = paste0(outdir, 'summary.csv')\n",
    "discrete = read.csv(dc_filename, row.names=1)\n",
    "discrete$gene = gsub(\".tsv\",\"\",discrete$gene)\n",
    "discrete$gene = gsub(\"\\\\.\",\"-\",discrete$gene)\n",
    "head(discrete,2)"
   ]
  },
  {
   "cell_type": "code",
   "execution_count": 79,
   "id": "cfdd7bad",
   "metadata": {},
   "outputs": [
    {
     "data": {
      "text/html": [
       "2051"
      ],
      "text/latex": [
       "2051"
      ],
      "text/markdown": [
       "2051"
      ],
      "text/plain": [
       "[1] 2051"
      ]
     },
     "metadata": {},
     "output_type": "display_data"
    },
    {
     "data": {
      "text/html": [
       "1374"
      ],
      "text/latex": [
       "1374"
      ],
      "text/markdown": [
       "1374"
      ],
      "text/plain": [
       "[1] 1374"
      ]
     },
     "metadata": {},
     "output_type": "display_data"
    }
   ],
   "source": [
    "nrow(discrete)\n",
    "length(unique(discrete$gene))"
   ]
  },
  {
   "cell_type": "code",
   "execution_count": 80,
   "id": "54f4dcbb",
   "metadata": {},
   "outputs": [],
   "source": [
    "###############################################################################\n",
    "## testing 9 clusters from the MOFA factors as (discrete) contexts\n",
    "## using Leiden clustering, resolution = 0.3"
   ]
  },
  {
   "cell_type": "code",
   "execution_count": 806,
   "id": "dce3fb3a",
   "metadata": {},
   "outputs": [
    {
     "data": {
      "text/html": [
       "<table>\n",
       "<thead><tr><th></th><th scope=col>gene</th><th scope=col>n_snps</th><th scope=col>chrom</th><th scope=col>pv_raw</th><th scope=col>snpID</th></tr></thead>\n",
       "<tbody>\n",
       "\t<tr><th scope=row>0</th><td>CBY1           </td><td>1              </td><td>22             </td><td>0.8109377      </td><td>22_39091450_T_A</td></tr>\n",
       "\t<tr><th scope=row>1</th><td>LRTM1          </td><td>1              </td><td> 3             </td><td>0.1398070      </td><td>3_54949415_C_T </td></tr>\n",
       "</tbody>\n",
       "</table>\n"
      ],
      "text/latex": [
       "\\begin{tabular}{r|lllll}\n",
       "  & gene & n\\_snps & chrom & pv\\_raw & snpID\\\\\n",
       "\\hline\n",
       "\t0 & CBY1                  & 1                     & 22                    & 0.8109377             & 22\\_39091450\\_T\\_A\\\\\n",
       "\t1 & LRTM1                 & 1                     &  3                    & 0.1398070             & 3\\_54949415\\_C\\_T \\\\\n",
       "\\end{tabular}\n"
      ],
      "text/markdown": [
       "\n",
       "| <!--/--> | gene | n_snps | chrom | pv_raw | snpID |\n",
       "|---|---|---|---|---|---|\n",
       "| 0 | CBY1            | 1               | 22              | 0.8109377       | 22_39091450_T_A |\n",
       "| 1 | LRTM1           | 1               |  3              | 0.1398070       | 3_54949415_C_T  |\n",
       "\n"
      ],
      "text/plain": [
       "  gene  n_snps chrom pv_raw    snpID          \n",
       "0 CBY1  1      22    0.8109377 22_39091450_T_A\n",
       "1 LRTM1 1       3    0.1398070 3_54949415_C_T "
      ]
     },
     "metadata": {},
     "output_type": "display_data"
    }
   ],
   "source": [
    "outdir = \"/hps/nobackup2/stegle/users/acuomo/all_scripts/struct_LMM2/sc_neuroseq/May2021/REVISION/CRM_interaction_discrete_contexts/9clusters/\"\n",
    "dc_filename = paste0(outdir, 'summary.csv')\n",
    "discrete9 = read.csv(dc_filename, row.names=1)\n",
    "discrete9$gene = gsub(\".tsv\",\"\",discrete9$gene)\n",
    "discrete9$gene = gsub(\"\\\\.\",\"-\",discrete9$gene)\n",
    "head(discrete9,2)"
   ]
  },
  {
   "cell_type": "code",
   "execution_count": 807,
   "id": "33754d02",
   "metadata": {},
   "outputs": [
    {
     "data": {
      "text/html": [
       "<ol class=list-inline>\n",
       "\t<li>1</li>\n",
       "\t<li>2</li>\n",
       "\t<li>3</li>\n",
       "\t<li>17</li>\n",
       "\t<li>18</li>\n",
       "\t<li>19</li>\n",
       "\t<li>20</li>\n",
       "\t<li>21</li>\n",
       "\t<li>22</li>\n",
       "</ol>\n"
      ],
      "text/latex": [
       "\\begin{enumerate*}\n",
       "\\item 1\n",
       "\\item 2\n",
       "\\item 3\n",
       "\\item 17\n",
       "\\item 18\n",
       "\\item 19\n",
       "\\item 20\n",
       "\\item 21\n",
       "\\item 22\n",
       "\\end{enumerate*}\n"
      ],
      "text/markdown": [
       "1. 1\n",
       "2. 2\n",
       "3. 3\n",
       "4. 17\n",
       "5. 18\n",
       "6. 19\n",
       "7. 20\n",
       "8. 21\n",
       "9. 22\n",
       "\n",
       "\n"
      ],
      "text/plain": [
       "[1]  1  2  3 17 18 19 20 21 22"
      ]
     },
     "metadata": {},
     "output_type": "display_data"
    }
   ],
   "source": [
    "unique(discrete9$chrom)[order(unique(discrete9$chrom))]"
   ]
  },
  {
   "cell_type": "code",
   "execution_count": 808,
   "id": "4a35c7bd",
   "metadata": {},
   "outputs": [
    {
     "data": {
      "text/html": [
       "<ol class=list-inline>\n",
       "\t<li>1</li>\n",
       "\t<li>2</li>\n",
       "\t<li>3</li>\n",
       "\t<li>4</li>\n",
       "\t<li>5</li>\n",
       "\t<li>6</li>\n",
       "\t<li>7</li>\n",
       "\t<li>8</li>\n",
       "\t<li>9</li>\n",
       "\t<li>10</li>\n",
       "\t<li>11</li>\n",
       "\t<li>12</li>\n",
       "\t<li>13</li>\n",
       "\t<li>14</li>\n",
       "\t<li>15</li>\n",
       "\t<li>16</li>\n",
       "\t<li>17</li>\n",
       "\t<li>18</li>\n",
       "\t<li>19</li>\n",
       "</ol>\n"
      ],
      "text/latex": [
       "\\begin{enumerate*}\n",
       "\\item 1\n",
       "\\item 2\n",
       "\\item 3\n",
       "\\item 4\n",
       "\\item 5\n",
       "\\item 6\n",
       "\\item 7\n",
       "\\item 8\n",
       "\\item 9\n",
       "\\item 10\n",
       "\\item 11\n",
       "\\item 12\n",
       "\\item 13\n",
       "\\item 14\n",
       "\\item 15\n",
       "\\item 16\n",
       "\\item 17\n",
       "\\item 18\n",
       "\\item 19\n",
       "\\end{enumerate*}\n"
      ],
      "text/markdown": [
       "1. 1\n",
       "2. 2\n",
       "3. 3\n",
       "4. 4\n",
       "5. 5\n",
       "6. 6\n",
       "7. 7\n",
       "8. 8\n",
       "9. 9\n",
       "10. 10\n",
       "11. 11\n",
       "12. 12\n",
       "13. 13\n",
       "14. 14\n",
       "15. 15\n",
       "16. 16\n",
       "17. 17\n",
       "18. 18\n",
       "19. 19\n",
       "\n",
       "\n"
      ],
      "text/plain": [
       " [1]  1  2  3  4  5  6  7  8  9 10 11 12 13 14 15 16 17 18 19"
      ]
     },
     "metadata": {},
     "output_type": "display_data"
    }
   ],
   "source": [
    "discrete9_missing = summary[!(summary$gene %in% discrete9$gene),]\n",
    "unique(discrete9_missing$chrom)[order(unique(discrete9_missing$chrom))]"
   ]
  },
  {
   "cell_type": "code",
   "execution_count": 809,
   "id": "d9425e03",
   "metadata": {},
   "outputs": [
    {
     "data": {
      "text/html": [
       "455"
      ],
      "text/latex": [
       "455"
      ],
      "text/markdown": [
       "455"
      ],
      "text/plain": [
       "[1] 455"
      ]
     },
     "metadata": {},
     "output_type": "display_data"
    },
    {
     "data": {
      "text/html": [
       "269"
      ],
      "text/latex": [
       "269"
      ],
      "text/markdown": [
       "269"
      ],
      "text/plain": [
       "[1] 269"
      ]
     },
     "metadata": {},
     "output_type": "display_data"
    }
   ],
   "source": [
    "nrow(discrete9)\n",
    "length(unique(discrete9$gene))"
   ]
  },
  {
   "cell_type": "code",
   "execution_count": 810,
   "id": "0a6f3f43",
   "metadata": {},
   "outputs": [],
   "source": [
    "###############################################################################\n",
    "## testing 18 clusters from the MOFA factors as (discrete) contexts\n",
    "## using Leiden clustering, default parameters "
   ]
  },
  {
   "cell_type": "code",
   "execution_count": 811,
   "id": "153b02a1",
   "metadata": {},
   "outputs": [
    {
     "data": {
      "text/html": [
       "<table>\n",
       "<thead><tr><th></th><th scope=col>gene</th><th scope=col>n_snps</th><th scope=col>chrom</th><th scope=col>pv_raw</th><th scope=col>snpID</th></tr></thead>\n",
       "<tbody>\n",
       "\t<tr><th scope=row>0</th><td>RNF122        </td><td>1             </td><td>8             </td><td>0.2370413     </td><td>8_33432305_T_C</td></tr>\n",
       "\t<tr><th scope=row>1</th><td>RASEF         </td><td>1             </td><td>9             </td><td>0.4264631     </td><td>9_85596321_T_C</td></tr>\n",
       "</tbody>\n",
       "</table>\n"
      ],
      "text/latex": [
       "\\begin{tabular}{r|lllll}\n",
       "  & gene & n\\_snps & chrom & pv\\_raw & snpID\\\\\n",
       "\\hline\n",
       "\t0 & RNF122               & 1                    & 8                    & 0.2370413            & 8\\_33432305\\_T\\_C\\\\\n",
       "\t1 & RASEF                & 1                    & 9                    & 0.4264631            & 9\\_85596321\\_T\\_C\\\\\n",
       "\\end{tabular}\n"
      ],
      "text/markdown": [
       "\n",
       "| <!--/--> | gene | n_snps | chrom | pv_raw | snpID |\n",
       "|---|---|---|---|---|---|\n",
       "| 0 | RNF122         | 1              | 8              | 0.2370413      | 8_33432305_T_C |\n",
       "| 1 | RASEF          | 1              | 9              | 0.4264631      | 9_85596321_T_C |\n",
       "\n"
      ],
      "text/plain": [
       "  gene   n_snps chrom pv_raw    snpID         \n",
       "0 RNF122 1      8     0.2370413 8_33432305_T_C\n",
       "1 RASEF  1      9     0.4264631 9_85596321_T_C"
      ]
     },
     "metadata": {},
     "output_type": "display_data"
    }
   ],
   "source": [
    "outdir = \"/hps/nobackup2/stegle/users/acuomo/all_scripts/struct_LMM2/sc_neuroseq/May2021/REVISION/CRM_interaction_discrete_contexts/18clusters/\"\n",
    "dc_filename = paste0(outdir, 'summary.csv')\n",
    "discrete18 = read.csv(dc_filename, row.names=1)\n",
    "discrete18$gene = gsub(\".tsv\",\"\",discrete18$gene)\n",
    "discrete18$gene = gsub(\"\\\\.\",\"-\",discrete18$gene)\n",
    "head(discrete18,2)"
   ]
  },
  {
   "cell_type": "code",
   "execution_count": 812,
   "id": "0eb7f44e",
   "metadata": {},
   "outputs": [
    {
     "data": {
      "text/html": [
       "<ol class=list-inline>\n",
       "\t<li>1</li>\n",
       "\t<li>2</li>\n",
       "\t<li>3</li>\n",
       "\t<li>5</li>\n",
       "\t<li>6</li>\n",
       "\t<li>7</li>\n",
       "\t<li>10</li>\n",
       "\t<li>11</li>\n",
       "\t<li>12</li>\n",
       "\t<li>15</li>\n",
       "\t<li>16</li>\n",
       "\t<li>17</li>\n",
       "\t<li>18</li>\n",
       "\t<li>19</li>\n",
       "\t<li>20</li>\n",
       "</ol>\n"
      ],
      "text/latex": [
       "\\begin{enumerate*}\n",
       "\\item 1\n",
       "\\item 2\n",
       "\\item 3\n",
       "\\item 5\n",
       "\\item 6\n",
       "\\item 7\n",
       "\\item 10\n",
       "\\item 11\n",
       "\\item 12\n",
       "\\item 15\n",
       "\\item 16\n",
       "\\item 17\n",
       "\\item 18\n",
       "\\item 19\n",
       "\\item 20\n",
       "\\end{enumerate*}\n"
      ],
      "text/markdown": [
       "1. 1\n",
       "2. 2\n",
       "3. 3\n",
       "4. 5\n",
       "5. 6\n",
       "6. 7\n",
       "7. 10\n",
       "8. 11\n",
       "9. 12\n",
       "10. 15\n",
       "11. 16\n",
       "12. 17\n",
       "13. 18\n",
       "14. 19\n",
       "15. 20\n",
       "\n",
       "\n"
      ],
      "text/plain": [
       " [1]  1  2  3  5  6  7 10 11 12 15 16 17 18 19 20"
      ]
     },
     "metadata": {},
     "output_type": "display_data"
    }
   ],
   "source": [
    "discrete18_missing = summary[!(summary$gene %in% discrete18$gene),]\n",
    "unique(discrete18_missing$chrom)[order(unique(discrete18_missing$chrom))]"
   ]
  },
  {
   "cell_type": "code",
   "execution_count": 813,
   "id": "b0ddf647",
   "metadata": {},
   "outputs": [
    {
     "data": {
      "text/html": [
       "1487"
      ],
      "text/latex": [
       "1487"
      ],
      "text/markdown": [
       "1487"
      ],
      "text/plain": [
       "[1] 1487"
      ]
     },
     "metadata": {},
     "output_type": "display_data"
    },
    {
     "data": {
      "text/html": [
       "943"
      ],
      "text/latex": [
       "943"
      ],
      "text/markdown": [
       "943"
      ],
      "text/plain": [
       "[1] 943"
      ]
     },
     "metadata": {},
     "output_type": "display_data"
    }
   ],
   "source": [
    "nrow(discrete18)\n",
    "length(unique(discrete18$gene))"
   ]
  },
  {
   "cell_type": "code",
   "execution_count": null,
   "id": "c85bb71e",
   "metadata": {},
   "outputs": [],
   "source": []
  },
  {
   "cell_type": "code",
   "execution_count": 725,
   "id": "c470249e",
   "metadata": {},
   "outputs": [],
   "source": [
    "######### Scatter Plots "
   ]
  },
  {
   "cell_type": "code",
   "execution_count": 726,
   "id": "86b43b2e",
   "metadata": {},
   "outputs": [],
   "source": [
    "#############################################################\n",
    "################ continuous (MOFA) vs discrete (3 conditions)"
   ]
  },
  {
   "cell_type": "code",
   "execution_count": 727,
   "id": "4c4afbe5",
   "metadata": {},
   "outputs": [],
   "source": [
    "df_plot = inner_join(summary, discrete, by=c(\"snpID\",\"gene\"), suffix=c(\".c\",\".d\"))"
   ]
  },
  {
   "cell_type": "code",
   "execution_count": 728,
   "id": "984243c2",
   "metadata": {},
   "outputs": [
    {
     "data": {
      "text/html": [
       "2051"
      ],
      "text/latex": [
       "2051"
      ],
      "text/markdown": [
       "2051"
      ],
      "text/plain": [
       "[1] 2051"
      ]
     },
     "metadata": {},
     "output_type": "display_data"
    },
    {
     "data": {
      "text/html": [
       "1374"
      ],
      "text/latex": [
       "1374"
      ],
      "text/markdown": [
       "1374"
      ],
      "text/plain": [
       "[1] 1374"
      ]
     },
     "metadata": {},
     "output_type": "display_data"
    },
    {
     "data": {
      "text/html": [
       "<table>\n",
       "<thead><tr><th scope=col>gene</th><th scope=col>n_snps.c</th><th scope=col>chrom.c</th><th scope=col>pv_raw.c</th><th scope=col>snpID</th><th scope=col>pv.c</th><th scope=col>gene_old</th><th scope=col>qv.c</th><th scope=col>n_snps.d</th><th scope=col>chrom.d</th><th scope=col>pv_raw.d</th><th scope=col>pv.d</th><th scope=col>qv.d</th></tr></thead>\n",
       "<tbody>\n",
       "\t<tr><td>LINC00662      </td><td>1              </td><td>19             </td><td>0.05827479     </td><td>19_28250771_G_A</td><td>0.05827479     </td><td>LINC00662      </td><td>0.2429301      </td><td>1              </td><td>19             </td><td>0.1043711      </td><td>0.1043711      </td><td>0.6243003      </td></tr>\n",
       "\t<tr><td>ATRAID         </td><td>2              </td><td> 2             </td><td>0.66353704     </td><td>2_27389195_A_G </td><td>1.00000000     </td><td>ATRAID         </td><td>1.0000000      </td><td>2              </td><td> 2             </td><td>0.8612612      </td><td>1.0000000      </td><td>1.0000000      </td></tr>\n",
       "</tbody>\n",
       "</table>\n"
      ],
      "text/latex": [
       "\\begin{tabular}{r|lllllllllllll}\n",
       " gene & n\\_snps.c & chrom.c & pv\\_raw.c & snpID & pv.c & gene\\_old & qv.c & n\\_snps.d & chrom.d & pv\\_raw.d & pv.d & qv.d\\\\\n",
       "\\hline\n",
       "\t LINC00662             & 1                     & 19                    & 0.05827479            & 19\\_28250771\\_G\\_A & 0.05827479            & LINC00662             & 0.2429301             & 1                     & 19                    & 0.1043711             & 0.1043711             & 0.6243003            \\\\\n",
       "\t ATRAID                & 2                     &  2                    & 0.66353704            & 2\\_27389195\\_A\\_G  & 1.00000000            & ATRAID                & 1.0000000             & 2                     &  2                    & 0.8612612             & 1.0000000             & 1.0000000            \\\\\n",
       "\\end{tabular}\n"
      ],
      "text/markdown": [
       "\n",
       "| gene | n_snps.c | chrom.c | pv_raw.c | snpID | pv.c | gene_old | qv.c | n_snps.d | chrom.d | pv_raw.d | pv.d | qv.d |\n",
       "|---|---|---|---|---|---|---|---|---|---|---|---|---|\n",
       "| LINC00662       | 1               | 19              | 0.05827479      | 19_28250771_G_A | 0.05827479      | LINC00662       | 0.2429301       | 1               | 19              | 0.1043711       | 0.1043711       | 0.6243003       |\n",
       "| ATRAID          | 2               |  2              | 0.66353704      | 2_27389195_A_G  | 1.00000000      | ATRAID          | 1.0000000       | 2               |  2              | 0.8612612       | 1.0000000       | 1.0000000       |\n",
       "\n"
      ],
      "text/plain": [
       "  gene      n_snps.c chrom.c pv_raw.c   snpID           pv.c       gene_old \n",
       "1 LINC00662 1        19      0.05827479 19_28250771_G_A 0.05827479 LINC00662\n",
       "2 ATRAID    2         2      0.66353704 2_27389195_A_G  1.00000000 ATRAID   \n",
       "  qv.c      n_snps.d chrom.d pv_raw.d  pv.d      qv.d     \n",
       "1 0.2429301 1        19      0.1043711 0.1043711 0.6243003\n",
       "2 1.0000000 2         2      0.8612612 1.0000000 1.0000000"
      ]
     },
     "metadata": {},
     "output_type": "display_data"
    }
   ],
   "source": [
    "nrow(df_plot)\n",
    "length(unique(df_plot$gene))\n",
    "head(df_plot,2)"
   ]
  },
  {
   "cell_type": "code",
   "execution_count": 729,
   "id": "dd698a0d",
   "metadata": {},
   "outputs": [
    {
     "data": {
      "text/plain": [
       "\n",
       "\tPearson's product-moment correlation\n",
       "\n",
       "data:  -log10(df_plot$pv_raw.c) and -log10(df_plot$pv_raw.d)\n",
       "t = 42.101, df = 2049, p-value < 2.2e-16\n",
       "alternative hypothesis: true correlation is not equal to 0\n",
       "95 percent confidence interval:\n",
       " 0.6571371 0.7035912\n",
       "sample estimates:\n",
       "      cor \n",
       "0.6810489 \n"
      ]
     },
     "metadata": {},
     "output_type": "display_data"
    }
   ],
   "source": [
    "cor.test(-log10(df_plot$pv_raw.c),-log10(df_plot$pv_raw.d))"
   ]
  },
  {
   "cell_type": "code",
   "execution_count": 730,
   "id": "a6b92c99",
   "metadata": {},
   "outputs": [
    {
     "data": {
      "image/png": "[encoded data removed]",
      "text/plain": [
       "plot without title"
      ]
     },
     "metadata": {},
     "output_type": "display_data"
    }
   ],
   "source": [
    "options(repr.plot.width = 5, repr.plot.height = 5)\n",
    "p = ggplot(df_plot, aes(x=-log10(pv_raw.c),y=-log10(pv_raw.d))) + geom_point()\n",
    "p = p + theme_classic() + ylim(c(0,20)) + geom_abline(col=\"lightgrey\") + theme(text = element_text(size=20))\n",
    "p + xlab(\"-log P (MOFA)\") + ylab(\"-log P (condition)\")"
   ]
  },
  {
   "cell_type": "code",
   "execution_count": 731,
   "id": "043b9110",
   "metadata": {},
   "outputs": [
    {
     "data": {
      "text/html": [
       "<strong>png:</strong> 2"
      ],
      "text/latex": [
       "\\textbf{png:} 2"
      ],
      "text/markdown": [
       "**png:** 2"
      ],
      "text/plain": [
       "png \n",
       "  2 "
      ]
     },
     "metadata": {},
     "output_type": "display_data"
    }
   ],
   "source": [
    "fig_dir = \"/hps/nobackup2/stegle/users/acuomo/CellRegMap_data/figures/\"\n",
    "pdf(paste0(fig_dir,\"SF15_scatter_condition.pdf\"), width=5, height=5)\n",
    "p + xlab(\"-log P (MOFA)\") + ylab(\"-log P (condition)\")\n",
    "dev.off()"
   ]
  },
  {
   "cell_type": "code",
   "execution_count": 732,
   "id": "e364af9a",
   "metadata": {},
   "outputs": [],
   "source": [
    "#############################################################\n",
    "################ continuous (MOFA) vs discrete (9 clusters)"
   ]
  },
  {
   "cell_type": "code",
   "execution_count": 814,
   "id": "74a148ea",
   "metadata": {},
   "outputs": [],
   "source": [
    "df_plot1 = inner_join(summary, discrete9, by=c(\"snpID\",\"gene\"), suffix=c(\".c\",\".d\"))"
   ]
  },
  {
   "cell_type": "code",
   "execution_count": 815,
   "id": "81f6d1c8",
   "metadata": {},
   "outputs": [
    {
     "data": {
      "text/html": [
       "456"
      ],
      "text/latex": [
       "456"
      ],
      "text/markdown": [
       "456"
      ],
      "text/plain": [
       "[1] 456"
      ]
     },
     "metadata": {},
     "output_type": "display_data"
    },
    {
     "data": {
      "text/html": [
       "269"
      ],
      "text/latex": [
       "269"
      ],
      "text/markdown": [
       "269"
      ],
      "text/plain": [
       "[1] 269"
      ]
     },
     "metadata": {},
     "output_type": "display_data"
    },
    {
     "data": {
      "text/html": [
       "<table>\n",
       "<thead><tr><th scope=col>gene</th><th scope=col>n_snps.c</th><th scope=col>chrom.c</th><th scope=col>pv_raw.c</th><th scope=col>snpID</th><th scope=col>pv</th><th scope=col>gene_old</th><th scope=col>qv</th><th scope=col>n_snps.d</th><th scope=col>chrom.d</th><th scope=col>pv_raw.d</th></tr></thead>\n",
       "<tbody>\n",
       "\t<tr><td>ATRAID        </td><td>2             </td><td>2             </td><td>0.6635370     </td><td>2_27389195_A_G</td><td>1             </td><td>ATRAID        </td><td>1             </td><td>2             </td><td>2             </td><td>0.6201030     </td></tr>\n",
       "\t<tr><td>ATRAID        </td><td>2             </td><td>2             </td><td>0.8159343     </td><td>2_27527246_T_A</td><td>1             </td><td>ATRAID        </td><td>1             </td><td>2             </td><td>2             </td><td>0.7011326     </td></tr>\n",
       "</tbody>\n",
       "</table>\n"
      ],
      "text/latex": [
       "\\begin{tabular}{r|lllllllllll}\n",
       " gene & n\\_snps.c & chrom.c & pv\\_raw.c & snpID & pv & gene\\_old & qv & n\\_snps.d & chrom.d & pv\\_raw.d\\\\\n",
       "\\hline\n",
       "\t ATRAID               & 2                    & 2                    & 0.6635370            & 2\\_27389195\\_A\\_G & 1                    & ATRAID               & 1                    & 2                    & 2                    & 0.6201030           \\\\\n",
       "\t ATRAID               & 2                    & 2                    & 0.8159343            & 2\\_27527246\\_T\\_A & 1                    & ATRAID               & 1                    & 2                    & 2                    & 0.7011326           \\\\\n",
       "\\end{tabular}\n"
      ],
      "text/markdown": [
       "\n",
       "| gene | n_snps.c | chrom.c | pv_raw.c | snpID | pv | gene_old | qv | n_snps.d | chrom.d | pv_raw.d |\n",
       "|---|---|---|---|---|---|---|---|---|---|---|\n",
       "| ATRAID         | 2              | 2              | 0.6635370      | 2_27389195_A_G | 1              | ATRAID         | 1              | 2              | 2              | 0.6201030      |\n",
       "| ATRAID         | 2              | 2              | 0.8159343      | 2_27527246_T_A | 1              | ATRAID         | 1              | 2              | 2              | 0.7011326      |\n",
       "\n"
      ],
      "text/plain": [
       "  gene   n_snps.c chrom.c pv_raw.c  snpID          pv gene_old qv n_snps.d\n",
       "1 ATRAID 2        2       0.6635370 2_27389195_A_G 1  ATRAID   1  2       \n",
       "2 ATRAID 2        2       0.8159343 2_27527246_T_A 1  ATRAID   1  2       \n",
       "  chrom.d pv_raw.d \n",
       "1 2       0.6201030\n",
       "2 2       0.7011326"
      ]
     },
     "metadata": {},
     "output_type": "display_data"
    }
   ],
   "source": [
    "nrow(df_plot1)\n",
    "length(unique(df_plot1$gene))\n",
    "head(df_plot1,2)"
   ]
  },
  {
   "cell_type": "code",
   "execution_count": 816,
   "id": "63ddaaf2",
   "metadata": {},
   "outputs": [
    {
     "data": {
      "text/plain": [
       "\n",
       "\tPearson's product-moment correlation\n",
       "\n",
       "data:  -log10(df_plot1$pv_raw.c) and -log10(df_plot1$pv_raw.d)\n",
       "t = 18.085, df = 454, p-value < 2.2e-16\n",
       "alternative hypothesis: true correlation is not equal to 0\n",
       "95 percent confidence interval:\n",
       " 0.5903527 0.6974827\n",
       "sample estimates:\n",
       "      cor \n",
       "0.6471006 \n"
      ]
     },
     "metadata": {},
     "output_type": "display_data"
    }
   ],
   "source": [
    "cor.test(-log10(df_plot1$pv_raw.c),-log10(df_plot1$pv_raw.d))"
   ]
  },
  {
   "cell_type": "code",
   "execution_count": 817,
   "id": "3f0fd3a4",
   "metadata": {},
   "outputs": [
    {
     "data": {
      "image/png": "[encoded data removed]",
      "text/plain": [
       "plot without title"
      ]
     },
     "metadata": {},
     "output_type": "display_data"
    }
   ],
   "source": [
    "options(repr.plot.width = 5, repr.plot.height = 5)\n",
    "p = ggplot(df_plot1, aes(x=-log10(pv_raw.c),y=-log10(pv_raw.d))) + geom_point()\n",
    "p = p + theme_classic() + ylim(c(0,20)) + geom_abline(col=\"lightgrey\") + theme(text = element_text(size=20))\n",
    "p + xlab(\"-log P (MOFA)\") + ylab(\"-log P (Leiden9)\")"
   ]
  },
  {
   "cell_type": "code",
   "execution_count": 818,
   "id": "75841156",
   "metadata": {},
   "outputs": [
    {
     "data": {
      "text/html": [
       "<strong>png:</strong> 2"
      ],
      "text/latex": [
       "\\textbf{png:} 2"
      ],
      "text/markdown": [
       "**png:** 2"
      ],
      "text/plain": [
       "png \n",
       "  2 "
      ]
     },
     "metadata": {},
     "output_type": "display_data"
    }
   ],
   "source": [
    "fig_dir = \"/hps/nobackup2/stegle/users/acuomo/CellRegMap_data/figures/\"\n",
    "pdf(paste0(fig_dir,\"SF15_scatter_Leiden9.pdf\"), width=5, height=5)\n",
    "p + xlab(\"-log P (MOFA)\") + ylab(\"-log P (Leiden9)\")\n",
    "dev.off()"
   ]
  },
  {
   "cell_type": "code",
   "execution_count": 819,
   "id": "585ec613",
   "metadata": {},
   "outputs": [],
   "source": [
    "#############################################################\n",
    "################ continuous (MOFA) vs discrete (18 clusters)"
   ]
  },
  {
   "cell_type": "code",
   "execution_count": 820,
   "id": "8453a06c",
   "metadata": {},
   "outputs": [],
   "source": [
    "df_plot2 = inner_join(summary, discrete18, by=c(\"snpID\",\"gene\"), suffix=c(\".c\",\".d\"))"
   ]
  },
  {
   "cell_type": "code",
   "execution_count": 821,
   "id": "81642eec",
   "metadata": {},
   "outputs": [
    {
     "data": {
      "text/html": [
       "1487"
      ],
      "text/latex": [
       "1487"
      ],
      "text/markdown": [
       "1487"
      ],
      "text/plain": [
       "[1] 1487"
      ]
     },
     "metadata": {},
     "output_type": "display_data"
    },
    {
     "data": {
      "text/html": [
       "943"
      ],
      "text/latex": [
       "943"
      ],
      "text/markdown": [
       "943"
      ],
      "text/plain": [
       "[1] 943"
      ]
     },
     "metadata": {},
     "output_type": "display_data"
    },
    {
     "data": {
      "text/html": [
       "<table>\n",
       "<thead><tr><th scope=col>gene</th><th scope=col>n_snps.c</th><th scope=col>chrom.c</th><th scope=col>pv_raw.c</th><th scope=col>snpID</th><th scope=col>pv</th><th scope=col>gene_old</th><th scope=col>qv</th><th scope=col>n_snps.d</th><th scope=col>chrom.d</th><th scope=col>pv_raw.d</th></tr></thead>\n",
       "<tbody>\n",
       "\t<tr><td>ATRAID        </td><td>2             </td><td>2             </td><td>0.6635370     </td><td>2_27389195_A_G</td><td>1             </td><td>ATRAID        </td><td>1             </td><td>2             </td><td>2             </td><td>0.9033879     </td></tr>\n",
       "\t<tr><td>ATRAID        </td><td>2             </td><td>2             </td><td>0.8159343     </td><td>2_27527246_T_A</td><td>1             </td><td>ATRAID        </td><td>1             </td><td>2             </td><td>2             </td><td>0.7611598     </td></tr>\n",
       "</tbody>\n",
       "</table>\n"
      ],
      "text/latex": [
       "\\begin{tabular}{r|lllllllllll}\n",
       " gene & n\\_snps.c & chrom.c & pv\\_raw.c & snpID & pv & gene\\_old & qv & n\\_snps.d & chrom.d & pv\\_raw.d\\\\\n",
       "\\hline\n",
       "\t ATRAID               & 2                    & 2                    & 0.6635370            & 2\\_27389195\\_A\\_G & 1                    & ATRAID               & 1                    & 2                    & 2                    & 0.9033879           \\\\\n",
       "\t ATRAID               & 2                    & 2                    & 0.8159343            & 2\\_27527246\\_T\\_A & 1                    & ATRAID               & 1                    & 2                    & 2                    & 0.7611598           \\\\\n",
       "\\end{tabular}\n"
      ],
      "text/markdown": [
       "\n",
       "| gene | n_snps.c | chrom.c | pv_raw.c | snpID | pv | gene_old | qv | n_snps.d | chrom.d | pv_raw.d |\n",
       "|---|---|---|---|---|---|---|---|---|---|---|\n",
       "| ATRAID         | 2              | 2              | 0.6635370      | 2_27389195_A_G | 1              | ATRAID         | 1              | 2              | 2              | 0.9033879      |\n",
       "| ATRAID         | 2              | 2              | 0.8159343      | 2_27527246_T_A | 1              | ATRAID         | 1              | 2              | 2              | 0.7611598      |\n",
       "\n"
      ],
      "text/plain": [
       "  gene   n_snps.c chrom.c pv_raw.c  snpID          pv gene_old qv n_snps.d\n",
       "1 ATRAID 2        2       0.6635370 2_27389195_A_G 1  ATRAID   1  2       \n",
       "2 ATRAID 2        2       0.8159343 2_27527246_T_A 1  ATRAID   1  2       \n",
       "  chrom.d pv_raw.d \n",
       "1 2       0.9033879\n",
       "2 2       0.7611598"
      ]
     },
     "metadata": {},
     "output_type": "display_data"
    }
   ],
   "source": [
    "nrow(df_plot2)\n",
    "length(unique(df_plot2$gene))\n",
    "head(df_plot2,2)"
   ]
  },
  {
   "cell_type": "code",
   "execution_count": 822,
   "id": "ccf4792c",
   "metadata": {},
   "outputs": [
    {
     "data": {
      "text/plain": [
       "\n",
       "\tPearson's product-moment correlation\n",
       "\n",
       "data:  -log10(df_plot2$pv_raw.c) and -log10(df_plot2$pv_raw.d)\n",
       "t = 56.106, df = 1485, p-value < 2.2e-16\n",
       "alternative hypothesis: true correlation is not equal to 0\n",
       "95 percent confidence interval:\n",
       " 0.8072915 0.8399369\n",
       "sample estimates:\n",
       "      cor \n",
       "0.8242982 \n"
      ]
     },
     "metadata": {},
     "output_type": "display_data"
    }
   ],
   "source": [
    "cor.test(-log10(df_plot2$pv_raw.c),-log10(df_plot2$pv_raw.d))"
   ]
  },
  {
   "cell_type": "code",
   "execution_count": 823,
   "id": "90bc9b5d",
   "metadata": {},
   "outputs": [
    {
     "data": {
      "image/png": "[encoded data removed]",
      "text/plain": [
       "plot without title"
      ]
     },
     "metadata": {},
     "output_type": "display_data"
    }
   ],
   "source": [
    "options(repr.plot.width = 5, repr.plot.height = 5)\n",
    "p = ggplot(df_plot2, aes(x=-log10(pv_raw.c),y=-log10(pv_raw.d))) + geom_point()\n",
    "p = p + theme_classic() + ylim(c(0,25)) + geom_abline(col=\"lightgrey\") + theme(text = element_text(size=20))\n",
    "p + xlab(\"-log P (MOFA)\") + ylab(\"-log P (Leiden18)\")"
   ]
  },
  {
   "cell_type": "code",
   "execution_count": 824,
   "id": "bb8e9d55",
   "metadata": {},
   "outputs": [
    {
     "data": {
      "text/html": [
       "<strong>png:</strong> 2"
      ],
      "text/latex": [
       "\\textbf{png:} 2"
      ],
      "text/markdown": [
       "**png:** 2"
      ],
      "text/plain": [
       "png \n",
       "  2 "
      ]
     },
     "metadata": {},
     "output_type": "display_data"
    }
   ],
   "source": [
    "fig_dir = \"/hps/nobackup2/stegle/users/acuomo/CellRegMap_data/figures/\"\n",
    "pdf(paste0(fig_dir,\"SF15_scatter_Leiden18.pdf\"), width=5, height=5)\n",
    "p + xlab(\"-log P (MOFA)\") + ylab(\"-log P (Leiden18)\")\n",
    "dev.off()"
   ]
  },
  {
   "cell_type": "code",
   "execution_count": null,
   "id": "ad0fe45d",
   "metadata": {},
   "outputs": [],
   "source": []
  },
  {
   "cell_type": "code",
   "execution_count": 662,
   "id": "a77c3991",
   "metadata": {},
   "outputs": [],
   "source": [
    "######### Power Comparison\n",
    "# (number of eGenes at FDR<10%)"
   ]
  },
  {
   "cell_type": "code",
   "execution_count": 663,
   "id": "7f95570e",
   "metadata": {},
   "outputs": [],
   "source": [
    "########## continuous contexts (MOFA)"
   ]
  },
  {
   "cell_type": "code",
   "execution_count": 664,
   "id": "95b9595f",
   "metadata": {},
   "outputs": [],
   "source": [
    "summary$qv = qvalue(summary$pv)$qvalues"
   ]
  },
  {
   "cell_type": "code",
   "execution_count": 665,
   "id": "8ff88ba7",
   "metadata": {},
   "outputs": [
    {
     "data": {
      "text/html": [
       "2051"
      ],
      "text/latex": [
       "2051"
      ],
      "text/markdown": [
       "2051"
      ],
      "text/plain": [
       "[1] 2051"
      ]
     },
     "metadata": {},
     "output_type": "display_data"
    },
    {
     "data": {
      "text/html": [
       "333"
      ],
      "text/latex": [
       "333"
      ],
      "text/markdown": [
       "333"
      ],
      "text/plain": [
       "[1] 333"
      ]
     },
     "metadata": {},
     "output_type": "display_data"
    },
    {
     "data": {
      "text/html": [
       "0.162359824475865"
      ],
      "text/latex": [
       "0.162359824475865"
      ],
      "text/markdown": [
       "0.162359824475865"
      ],
      "text/plain": [
       "[1] 0.1623598"
      ]
     },
     "metadata": {},
     "output_type": "display_data"
    }
   ],
   "source": [
    "nrow(summary)\n",
    "nrow(summary[summary$qv<0.1,])\n",
    "nrow(summary[summary$qv<0.1,])/nrow(summary)"
   ]
  },
  {
   "cell_type": "code",
   "execution_count": 666,
   "id": "ecced858",
   "metadata": {},
   "outputs": [],
   "source": [
    "# discrete contexts (3 conditions)"
   ]
  },
  {
   "cell_type": "code",
   "execution_count": 667,
   "id": "87f3bd73",
   "metadata": {},
   "outputs": [],
   "source": [
    "discrete$pv = as.numeric(discrete$pv_raw) * as.numeric(discrete$n_snps)\n",
    "discrete$pv[discrete$pv>1]=1\n",
    "discrete$qv = qvalue(discrete$pv)$qvalues"
   ]
  },
  {
   "cell_type": "code",
   "execution_count": 668,
   "id": "9df5fb25",
   "metadata": {},
   "outputs": [
    {
     "data": {
      "text/html": [
       "2051"
      ],
      "text/latex": [
       "2051"
      ],
      "text/markdown": [
       "2051"
      ],
      "text/plain": [
       "[1] 2051"
      ]
     },
     "metadata": {},
     "output_type": "display_data"
    },
    {
     "data": {
      "text/html": [
       "44"
      ],
      "text/latex": [
       "44"
      ],
      "text/markdown": [
       "44"
      ],
      "text/plain": [
       "[1] 44"
      ]
     },
     "metadata": {},
     "output_type": "display_data"
    },
    {
     "data": {
      "text/html": [
       "0.0214529497805948"
      ],
      "text/latex": [
       "0.0214529497805948"
      ],
      "text/markdown": [
       "0.0214529497805948"
      ],
      "text/plain": [
       "[1] 0.02145295"
      ]
     },
     "metadata": {},
     "output_type": "display_data"
    }
   ],
   "source": [
    "nrow(discrete)\n",
    "nrow(discrete[discrete$qv<0.1,])\n",
    "nrow(discrete[discrete$qv<0.1,])/nrow(discrete)"
   ]
  },
  {
   "cell_type": "code",
   "execution_count": 669,
   "id": "5550aae8",
   "metadata": {},
   "outputs": [],
   "source": [
    "# discrete contexts (9 clusters)"
   ]
  },
  {
   "cell_type": "code",
   "execution_count": 825,
   "id": "8662df5f",
   "metadata": {},
   "outputs": [],
   "source": [
    "discrete9$pv = as.numeric(discrete9$pv_raw) * as.numeric(discrete9$n_snps)\n",
    "discrete9$pv[discrete9$pv>1]=1\n",
    "discrete9$qv = qvalue(discrete9$pv)$qvalues"
   ]
  },
  {
   "cell_type": "code",
   "execution_count": 826,
   "id": "5b563964",
   "metadata": {},
   "outputs": [
    {
     "data": {
      "text/html": [
       "455"
      ],
      "text/latex": [
       "455"
      ],
      "text/markdown": [
       "455"
      ],
      "text/plain": [
       "[1] 455"
      ]
     },
     "metadata": {},
     "output_type": "display_data"
    },
    {
     "data": {
      "text/html": [
       "30"
      ],
      "text/latex": [
       "30"
      ],
      "text/markdown": [
       "30"
      ],
      "text/plain": [
       "[1] 30"
      ]
     },
     "metadata": {},
     "output_type": "display_data"
    },
    {
     "data": {
      "text/html": [
       "0.0659340659340659"
      ],
      "text/latex": [
       "0.0659340659340659"
      ],
      "text/markdown": [
       "0.0659340659340659"
      ],
      "text/plain": [
       "[1] 0.06593407"
      ]
     },
     "metadata": {},
     "output_type": "display_data"
    }
   ],
   "source": [
    "nrow(discrete9)\n",
    "nrow(discrete9[discrete9$qv<0.1,])\n",
    "nrow(discrete9[discrete9$qv<0.1,])/nrow(discrete9)"
   ]
  },
  {
   "cell_type": "code",
   "execution_count": 827,
   "id": "cdc9fc53",
   "metadata": {},
   "outputs": [],
   "source": [
    "# discrete contexts (18 clusters)"
   ]
  },
  {
   "cell_type": "code",
   "execution_count": 828,
   "id": "2330680d",
   "metadata": {},
   "outputs": [],
   "source": [
    "discrete18$pv = as.numeric(discrete18$pv_raw) * as.numeric(discrete18$n_snps)\n",
    "discrete18$pv[discrete18$pv>1]=1\n",
    "discrete18$qv = qvalue(discrete18$pv)$qvalues"
   ]
  },
  {
   "cell_type": "code",
   "execution_count": 829,
   "id": "0558cb7d",
   "metadata": {},
   "outputs": [
    {
     "data": {
      "text/html": [
       "1487"
      ],
      "text/latex": [
       "1487"
      ],
      "text/markdown": [
       "1487"
      ],
      "text/plain": [
       "[1] 1487"
      ]
     },
     "metadata": {},
     "output_type": "display_data"
    },
    {
     "data": {
      "text/html": [
       "68"
      ],
      "text/latex": [
       "68"
      ],
      "text/markdown": [
       "68"
      ],
      "text/plain": [
       "[1] 68"
      ]
     },
     "metadata": {},
     "output_type": "display_data"
    },
    {
     "data": {
      "text/html": [
       "0.0457296570275723"
      ],
      "text/latex": [
       "0.0457296570275723"
      ],
      "text/markdown": [
       "0.0457296570275723"
      ],
      "text/plain": [
       "[1] 0.04572966"
      ]
     },
     "metadata": {},
     "output_type": "display_data"
    }
   ],
   "source": [
    "nrow(discrete18)\n",
    "nrow(discrete18[discrete18$qv<0.1,])\n",
    "nrow(discrete18[discrete18$qv<0.1,])/nrow(discrete18)"
   ]
  },
  {
   "cell_type": "code",
   "execution_count": null,
   "id": "affa8b8c",
   "metadata": {},
   "outputs": [],
   "source": []
  },
  {
   "cell_type": "code",
   "execution_count": null,
   "id": "2b4c30a6",
   "metadata": {},
   "outputs": [],
   "source": []
  },
  {
   "cell_type": "code",
   "execution_count": null,
   "id": "a9a02734",
   "metadata": {},
   "outputs": [],
   "source": []
  },
  {
   "cell_type": "code",
   "execution_count": null,
   "id": "23fd852f",
   "metadata": {},
   "outputs": [],
   "source": []
  },
  {
   "cell_type": "code",
   "execution_count": 92,
   "id": "5a222136",
   "metadata": {},
   "outputs": [],
   "source": [
    "## number of overlapping eGenes"
   ]
  },
  {
   "cell_type": "code",
   "execution_count": 836,
   "id": "6e464949",
   "metadata": {},
   "outputs": [],
   "source": [
    "# T = 0.05\n",
    "T = 0.1"
   ]
  },
  {
   "cell_type": "code",
   "execution_count": 837,
   "id": "a79e2dc2",
   "metadata": {},
   "outputs": [],
   "source": [
    "genes_c = unique(summary[summary$qv<T,\"gene\"])\n",
    "genes_d = unique(discrete[discrete$qv<T,\"gene\"])\n",
    "genes_d9 = unique(discrete9[discrete9$qv<T,\"gene\"])\n",
    "genes_d18 = unique(discrete18[discrete18$qv<T,\"gene\"])"
   ]
  },
  {
   "cell_type": "code",
   "execution_count": 838,
   "id": "0c8235a7",
   "metadata": {},
   "outputs": [
    {
     "data": {
      "text/html": [
       "<ol class=list-inline>\n",
       "\t<li>245</li>\n",
       "\t<li>35</li>\n",
       "\t<li>20</li>\n",
       "\t<li>52</li>\n",
       "</ol>\n"
      ],
      "text/latex": [
       "\\begin{enumerate*}\n",
       "\\item 245\n",
       "\\item 35\n",
       "\\item 20\n",
       "\\item 52\n",
       "\\end{enumerate*}\n"
      ],
      "text/markdown": [
       "1. 245\n",
       "2. 35\n",
       "3. 20\n",
       "4. 52\n",
       "\n",
       "\n"
      ],
      "text/plain": [
       "[1] 245  35  20  52"
      ]
     },
     "metadata": {},
     "output_type": "display_data"
    },
    {
     "data": {
      "text/html": [
       "<ol class=list-inline>\n",
       "\t<li>32</li>\n",
       "\t<li>35</li>\n",
       "</ol>\n"
      ],
      "text/latex": [
       "\\begin{enumerate*}\n",
       "\\item 32\n",
       "\\item 35\n",
       "\\end{enumerate*}\n"
      ],
      "text/markdown": [
       "1. 32\n",
       "2. 35\n",
       "\n",
       "\n"
      ],
      "text/plain": [
       "[1] 32 35"
      ]
     },
     "metadata": {},
     "output_type": "display_data"
    },
    {
     "data": {
      "text/html": [
       "<ol class=list-inline>\n",
       "\t<li>16</li>\n",
       "\t<li>20</li>\n",
       "</ol>\n"
      ],
      "text/latex": [
       "\\begin{enumerate*}\n",
       "\\item 16\n",
       "\\item 20\n",
       "\\end{enumerate*}\n"
      ],
      "text/markdown": [
       "1. 16\n",
       "2. 20\n",
       "\n",
       "\n"
      ],
      "text/plain": [
       "[1] 16 20"
      ]
     },
     "metadata": {},
     "output_type": "display_data"
    },
    {
     "data": {
      "text/html": [
       "<ol class=list-inline>\n",
       "\t<li>46</li>\n",
       "\t<li>52</li>\n",
       "</ol>\n"
      ],
      "text/latex": [
       "\\begin{enumerate*}\n",
       "\\item 46\n",
       "\\item 52\n",
       "\\end{enumerate*}\n"
      ],
      "text/markdown": [
       "1. 46\n",
       "2. 52\n",
       "\n",
       "\n"
      ],
      "text/plain": [
       "[1] 46 52"
      ]
     },
     "metadata": {},
     "output_type": "display_data"
    }
   ],
   "source": [
    "c(length(genes_c),\n",
    "length(genes_d),\n",
    "length(genes_d9),\n",
    "length(genes_d18))\n",
    "c(length(genes_c[genes_c %in% genes_d]),length(genes_d))\n",
    "c(length(genes_c[genes_c %in% genes_d9]),length(genes_d9))\n",
    "c(length(genes_c[genes_c %in% genes_d18]),length(genes_d18))"
   ]
  },
  {
   "cell_type": "code",
   "execution_count": 839,
   "id": "abb1fc14",
   "metadata": {},
   "outputs": [
    {
     "data": {
      "text/html": [
       "<ol class=list-inline>\n",
       "\t<li>'SLC35E2B'</li>\n",
       "\t<li>'LARP4B'</li>\n",
       "\t<li>'ASNS'</li>\n",
       "</ol>\n"
      ],
      "text/latex": [
       "\\begin{enumerate*}\n",
       "\\item 'SLC35E2B'\n",
       "\\item 'LARP4B'\n",
       "\\item 'ASNS'\n",
       "\\end{enumerate*}\n"
      ],
      "text/markdown": [
       "1. 'SLC35E2B'\n",
       "2. 'LARP4B'\n",
       "3. 'ASNS'\n",
       "\n",
       "\n"
      ],
      "text/plain": [
       "[1] \"SLC35E2B\" \"LARP4B\"   \"ASNS\"    "
      ]
     },
     "metadata": {},
     "output_type": "display_data"
    }
   ],
   "source": [
    "genes_d[!(genes_d %in% genes_c)]"
   ]
  },
  {
   "cell_type": "code",
   "execution_count": 840,
   "id": "24912d56",
   "metadata": {},
   "outputs": [
    {
     "data": {
      "text/html": [
       "<ol class=list-inline>\n",
       "\t<li>'SLC35E2B'</li>\n",
       "\t<li>'FEZ2'</li>\n",
       "\t<li>'ATP5G1'</li>\n",
       "\t<li>'SRSF10'</li>\n",
       "</ol>\n"
      ],
      "text/latex": [
       "\\begin{enumerate*}\n",
       "\\item 'SLC35E2B'\n",
       "\\item 'FEZ2'\n",
       "\\item 'ATP5G1'\n",
       "\\item 'SRSF10'\n",
       "\\end{enumerate*}\n"
      ],
      "text/markdown": [
       "1. 'SLC35E2B'\n",
       "2. 'FEZ2'\n",
       "3. 'ATP5G1'\n",
       "4. 'SRSF10'\n",
       "\n",
       "\n"
      ],
      "text/plain": [
       "[1] \"SLC35E2B\" \"FEZ2\"     \"ATP5G1\"   \"SRSF10\"  "
      ]
     },
     "metadata": {},
     "output_type": "display_data"
    }
   ],
   "source": [
    "genes_d9[!(genes_d9 %in% genes_c)]"
   ]
  },
  {
   "cell_type": "code",
   "execution_count": 841,
   "id": "4a4af994",
   "metadata": {},
   "outputs": [
    {
     "data": {
      "text/html": [
       "<ol class=list-inline>\n",
       "\t<li>'FEZ2'</li>\n",
       "\t<li>'KTN1'</li>\n",
       "\t<li>'USP7'</li>\n",
       "\t<li>'CKMT2-AS1'</li>\n",
       "\t<li>'MED28'</li>\n",
       "\t<li>'LARP4B'</li>\n",
       "</ol>\n"
      ],
      "text/latex": [
       "\\begin{enumerate*}\n",
       "\\item 'FEZ2'\n",
       "\\item 'KTN1'\n",
       "\\item 'USP7'\n",
       "\\item 'CKMT2-AS1'\n",
       "\\item 'MED28'\n",
       "\\item 'LARP4B'\n",
       "\\end{enumerate*}\n"
      ],
      "text/markdown": [
       "1. 'FEZ2'\n",
       "2. 'KTN1'\n",
       "3. 'USP7'\n",
       "4. 'CKMT2-AS1'\n",
       "5. 'MED28'\n",
       "6. 'LARP4B'\n",
       "\n",
       "\n"
      ],
      "text/plain": [
       "[1] \"FEZ2\"      \"KTN1\"      \"USP7\"      \"CKMT2-AS1\" \"MED28\"     \"LARP4B\"   "
      ]
     },
     "metadata": {},
     "output_type": "display_data"
    }
   ],
   "source": [
    "genes_d18[!(genes_d18 %in% genes_c)]"
   ]
  },
  {
   "cell_type": "code",
   "execution_count": null,
   "id": "f61ee659",
   "metadata": {},
   "outputs": [],
   "source": []
  },
  {
   "cell_type": "code",
   "execution_count": null,
   "id": "1e91ed74",
   "metadata": {},
   "outputs": [],
   "source": []
  }
 ],
 "metadata": {
  "kernelspec": {
   "display_name": "R",
   "language": "R",
   "name": "ir"
  },
  "language_info": {
   "codemirror_mode": "r",
   "file_extension": ".r",
   "mimetype": "text/x-r-source",
   "name": "R",
   "pygments_lexer": "r",
   "version": "3.6.1"
  }
 },
 "nbformat": 4,
 "nbformat_minor": 5
}
