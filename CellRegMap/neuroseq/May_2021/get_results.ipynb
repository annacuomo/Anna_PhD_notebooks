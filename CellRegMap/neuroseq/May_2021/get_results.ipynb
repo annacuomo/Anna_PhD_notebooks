{
 "cells": [
  {
   "cell_type": "code",
   "execution_count": 1,
   "id": "551f4d3d",
   "metadata": {},
   "outputs": [],
   "source": [
    "library(qvalue)"
   ]
  },
  {
   "cell_type": "code",
   "execution_count": 2,
   "id": "20c43320",
   "metadata": {},
   "outputs": [],
   "source": [
    "### 20 MOFA as background, 10 MOFA tested\n",
    "## DA eQTL only (D30+D52+D52ROT)"
   ]
  },
  {
   "cell_type": "code",
   "execution_count": 20,
   "id": "b94d9841",
   "metadata": {},
   "outputs": [
    {
     "data": {
      "text/html": [
       "<table>\n",
       "<thead><tr><th></th><th scope=col>gene</th><th scope=col>n_snps</th><th scope=col>chrom</th><th scope=col>pv_raw</th><th scope=col>snpID</th><th scope=col>pv</th><th scope=col>gene_old</th></tr></thead>\n",
       "<tbody>\n",
       "\t<tr><th scope=row>0</th><td>LINC00662      </td><td>1              </td><td>19             </td><td>0.058274791    </td><td>19_28250771_G_A</td><td>0.058274791    </td><td>LINC00662      </td></tr>\n",
       "\t<tr><th scope=row>1</th><td>ATRAID         </td><td>2              </td><td> 2             </td><td>0.663537037    </td><td>2_27389195_A_G </td><td>1.000000000    </td><td>ATRAID         </td></tr>\n",
       "\t<tr><th scope=row>2</th><td>ATRAID         </td><td>2              </td><td> 2             </td><td>0.815934343    </td><td>2_27527246_T_A </td><td>1.000000000    </td><td>ATRAID         </td></tr>\n",
       "\t<tr><th scope=row>3</th><td>CNDP2          </td><td>1              </td><td>18             </td><td>0.107678834    </td><td>18_72159310_T_A</td><td>0.107678834    </td><td>CNDP2          </td></tr>\n",
       "\t<tr><th scope=row>4</th><td>GPR22          </td><td>1              </td><td> 7             </td><td>0.005806852    </td><td>7_106914944_T_C</td><td>0.005806852    </td><td>GPR22          </td></tr>\n",
       "\t<tr><th scope=row>5</th><td>MGST3          </td><td>1              </td><td> 1             </td><td>0.006567903    </td><td>1_165599649_C_T</td><td>0.006567903    </td><td>MGST3          </td></tr>\n",
       "</tbody>\n",
       "</table>\n"
      ],
      "text/latex": [
       "\\begin{tabular}{r|lllllll}\n",
       "  & gene & n\\_snps & chrom & pv\\_raw & snpID & pv & gene\\_old\\\\\n",
       "\\hline\n",
       "\t0 & LINC00662             & 1                     & 19                    & 0.058274791           & 19\\_28250771\\_G\\_A & 0.058274791           & LINC00662            \\\\\n",
       "\t1 & ATRAID                & 2                     &  2                    & 0.663537037           & 2\\_27389195\\_A\\_G  & 1.000000000           & ATRAID               \\\\\n",
       "\t2 & ATRAID                & 2                     &  2                    & 0.815934343           & 2\\_27527246\\_T\\_A  & 1.000000000           & ATRAID               \\\\\n",
       "\t3 & CNDP2                 & 1                     & 18                    & 0.107678834           & 18\\_72159310\\_T\\_A & 0.107678834           & CNDP2                \\\\\n",
       "\t4 & GPR22                 & 1                     &  7                    & 0.005806852           & 7\\_106914944\\_T\\_C & 0.005806852           & GPR22                \\\\\n",
       "\t5 & MGST3                 & 1                     &  1                    & 0.006567903           & 1\\_165599649\\_C\\_T & 0.006567903           & MGST3                \\\\\n",
       "\\end{tabular}\n"
      ],
      "text/markdown": [
       "\n",
       "| <!--/--> | gene | n_snps | chrom | pv_raw | snpID | pv | gene_old |\n",
       "|---|---|---|---|---|---|---|---|\n",
       "| 0 | LINC00662       | 1               | 19              | 0.058274791     | 19_28250771_G_A | 0.058274791     | LINC00662       |\n",
       "| 1 | ATRAID          | 2               |  2              | 0.663537037     | 2_27389195_A_G  | 1.000000000     | ATRAID          |\n",
       "| 2 | ATRAID          | 2               |  2              | 0.815934343     | 2_27527246_T_A  | 1.000000000     | ATRAID          |\n",
       "| 3 | CNDP2           | 1               | 18              | 0.107678834     | 18_72159310_T_A | 0.107678834     | CNDP2           |\n",
       "| 4 | GPR22           | 1               |  7              | 0.005806852     | 7_106914944_T_C | 0.005806852     | GPR22           |\n",
       "| 5 | MGST3           | 1               |  1              | 0.006567903     | 1_165599649_C_T | 0.006567903     | MGST3           |\n",
       "\n"
      ],
      "text/plain": [
       "  gene      n_snps chrom pv_raw      snpID           pv          gene_old \n",
       "0 LINC00662 1      19    0.058274791 19_28250771_G_A 0.058274791 LINC00662\n",
       "1 ATRAID    2       2    0.663537037 2_27389195_A_G  1.000000000 ATRAID   \n",
       "2 ATRAID    2       2    0.815934343 2_27527246_T_A  1.000000000 ATRAID   \n",
       "3 CNDP2     1      18    0.107678834 18_72159310_T_A 0.107678834 CNDP2    \n",
       "4 GPR22     1       7    0.005806852 7_106914944_T_C 0.005806852 GPR22    \n",
       "5 MGST3     1       1    0.006567903 1_165599649_C_T 0.006567903 MGST3    "
      ]
     },
     "metadata": {},
     "output_type": "display_data"
    }
   ],
   "source": [
    "mydir = \"/hps/nobackup/stegle/users/acuomo/all_scripts/struct_LMM2/sc_neuroseq/May2021/\"\n",
    "file = paste0(mydir,\"MOFA/MOFA10/summary.csv\")\n",
    "df = read.csv(file, row.names=1)\n",
    "head(df)"
   ]
  },
  {
   "cell_type": "code",
   "execution_count": 21,
   "id": "5a5c0972",
   "metadata": {},
   "outputs": [
    {
     "data": {
      "text/html": [
       "2051"
      ],
      "text/latex": [
       "2051"
      ],
      "text/markdown": [
       "2051"
      ],
      "text/plain": [
       "[1] 2051"
      ]
     },
     "metadata": {},
     "output_type": "display_data"
    }
   ],
   "source": [
    "nrow(df)"
   ]
  },
  {
   "cell_type": "code",
   "execution_count": 22,
   "id": "9d62a9d2",
   "metadata": {},
   "outputs": [],
   "source": [
    "df = df[order(df$pv, df$pv_raw),]\n",
    "df = df[-which(duplicated(df$gene)),]\n",
    "df$qv = qvalue(df$pv, pi0 = 1)$qvalue"
   ]
  },
  {
   "cell_type": "code",
   "execution_count": 23,
   "id": "466fc8bc",
   "metadata": {},
   "outputs": [
    {
     "data": {
      "text/html": [
       "<ol class=list-inline>\n",
       "\t<li>1374</li>\n",
       "\t<li>213</li>\n",
       "\t<li>0.155021834061135</li>\n",
       "</ol>\n"
      ],
      "text/latex": [
       "\\begin{enumerate*}\n",
       "\\item 1374\n",
       "\\item 213\n",
       "\\item 0.155021834061135\n",
       "\\end{enumerate*}\n"
      ],
      "text/markdown": [
       "1. 1374\n",
       "2. 213\n",
       "3. 0.155021834061135\n",
       "\n",
       "\n"
      ],
      "text/plain": [
       "[1] 1374.0000000  213.0000000    0.1550218"
      ]
     },
     "metadata": {},
     "output_type": "display_data"
    }
   ],
   "source": [
    "c(nrow(df), nrow(df[df$qv<0.05,]),nrow(df[df$qv<0.05,])/nrow(df))"
   ]
  },
  {
   "cell_type": "code",
   "execution_count": 24,
   "id": "ed223334",
   "metadata": {},
   "outputs": [
    {
     "data": {
      "text/html": [
       "<table>\n",
       "<thead><tr><th></th><th scope=col>snp_id</th><th scope=col>p_value</th><th scope=col>beta</th><th scope=col>beta_se</th><th scope=col>empirical_feature_p_value</th><th scope=col>feature_chromosome</th><th scope=col>feature_start</th><th scope=col>feature_end</th><th scope=col>n_samples</th><th scope=col>n_e_samples</th><th scope=col>...</th><th scope=col>snp_chromosome</th><th scope=col>snp_position</th><th scope=col>assessed_allele</th><th scope=col>call_rate</th><th scope=col>maf</th><th scope=col>hwe_p</th><th scope=col>feature_id</th><th scope=col>BH_fdr</th><th scope=col>q_value</th><th scope=col>label</th></tr></thead>\n",
       "<tbody>\n",
       "\t<tr><th scope=row>9</th><td>9_36382790_A_G </td><td>3.841554e-09   </td><td>0.2678636      </td><td>0.04547094     </td><td>1.059426e-04   </td><td>9              </td><td>36336393       </td><td>36487545       </td><td>165            </td><td>165            </td><td>...            </td><td>9              </td><td>36382790       </td><td>G              </td><td>1              </td><td>0.2575758      </td><td>0.4164226      </td><td>ENSG00000137075</td><td>2.826764e-03   </td><td>1.610653e-03   </td><td>DA_D30         </td></tr>\n",
       "\t<tr><th scope=row>143</th><td>9_37422656_C_T </td><td>1.080706e-18   </td><td>0.4319122      </td><td>0.04893397     </td><td>1.254483e-09   </td><td>9              </td><td>37422663       </td><td>37436987       </td><td>165            </td><td>165            </td><td>...            </td><td>9              </td><td>37422656       </td><td>T              </td><td>1              </td><td>0.3606061      </td><td>0.6138967      </td><td>ENSG00000137106</td><td>1.482853e-07   </td><td>8.449102e-08   </td><td>DA_D30         </td></tr>\n",
       "</tbody>\n",
       "</table>\n"
      ],
      "text/latex": [
       "\\begin{tabular}{r|llllllllllllllllllllll}\n",
       "  & snp\\_id & p\\_value & beta & beta\\_se & empirical\\_feature\\_p\\_value & feature\\_chromosome & feature\\_start & feature\\_end & n\\_samples & n\\_e\\_samples & ... & snp\\_chromosome & snp\\_position & assessed\\_allele & call\\_rate & maf & hwe\\_p & feature\\_id & BH\\_fdr & q\\_value & label\\\\\n",
       "\\hline\n",
       "\t9 & 9\\_36382790\\_A\\_G & 3.841554e-09         & 0.2678636            & 0.04547094           & 1.059426e-04         & 9                    & 36336393             & 36487545             & 165                  & 165                  & ...                  & 9                    & 36382790             & G                    & 1                    & 0.2575758            & 0.4164226            & ENSG00000137075      & 2.826764e-03         & 1.610653e-03         & DA\\_D30            \\\\\n",
       "\t143 & 9\\_37422656\\_C\\_T & 1.080706e-18         & 0.4319122            & 0.04893397           & 1.254483e-09         & 9                    & 37422663             & 37436987             & 165                  & 165                  & ...                  & 9                    & 37422656             & T                    & 1                    & 0.3606061            & 0.6138967            & ENSG00000137106      & 1.482853e-07         & 8.449102e-08         & DA\\_D30            \\\\\n",
       "\\end{tabular}\n"
      ],
      "text/markdown": [
       "\n",
       "| <!--/--> | snp_id | p_value | beta | beta_se | empirical_feature_p_value | feature_chromosome | feature_start | feature_end | n_samples | n_e_samples | ... | snp_chromosome | snp_position | assessed_allele | call_rate | maf | hwe_p | feature_id | BH_fdr | q_value | label |\n",
       "|---|---|---|---|---|---|---|---|---|---|---|---|---|---|---|---|---|---|---|---|---|---|\n",
       "| 9 | 9_36382790_A_G  | 3.841554e-09    | 0.2678636       | 0.04547094      | 1.059426e-04    | 9               | 36336393        | 36487545        | 165             | 165             | ...             | 9               | 36382790        | G               | 1               | 0.2575758       | 0.4164226       | ENSG00000137075 | 2.826764e-03    | 1.610653e-03    | DA_D30          |\n",
       "| 143 | 9_37422656_C_T  | 1.080706e-18    | 0.4319122       | 0.04893397      | 1.254483e-09    | 9               | 37422663        | 37436987        | 165             | 165             | ...             | 9               | 37422656        | T               | 1               | 0.3606061       | 0.6138967       | ENSG00000137106 | 1.482853e-07    | 8.449102e-08    | DA_D30          |\n",
       "\n"
      ],
      "text/plain": [
       "    snp_id         p_value      beta      beta_se    empirical_feature_p_value\n",
       "9   9_36382790_A_G 3.841554e-09 0.2678636 0.04547094 1.059426e-04             \n",
       "143 9_37422656_C_T 1.080706e-18 0.4319122 0.04893397 1.254483e-09             \n",
       "    feature_chromosome feature_start feature_end n_samples n_e_samples ...\n",
       "9   9                  36336393      36487545    165       165         ...\n",
       "143 9                  37422663      37436987    165       165         ...\n",
       "    snp_chromosome snp_position assessed_allele call_rate maf       hwe_p    \n",
       "9   9              36382790     G               1         0.2575758 0.4164226\n",
       "143 9              37422656     T               1         0.3606061 0.6138967\n",
       "    feature_id      BH_fdr       q_value      label \n",
       "9   ENSG00000137075 2.826764e-03 1.610653e-03 DA_D30\n",
       "143 ENSG00000137106 1.482853e-07 8.449102e-08 DA_D30"
      ]
     },
     "metadata": {},
     "output_type": "display_data"
    }
   ],
   "source": [
    "neuro_eqtl_filename = \"/hps/nobackup/stegle/users/acuomo/all_scripts/sc_neuroseq/eqtl/all_leads_5pct_FDR_Storey.csv\"\n",
    "df_n = read.csv(neuro_eqtl_filename, row.names = 1)\n",
    "df0 = df_n[grep(\"DA\", df_n$label),] \n",
    "head(df0,2)"
   ]
  },
  {
   "cell_type": "code",
   "execution_count": 25,
   "id": "d6745840",
   "metadata": {},
   "outputs": [
    {
     "name": "stdout",
     "output_type": "stream",
     "text": [
      "[1]   1 125 125\n",
      "[1]   2 112 112\n",
      "[1]  3 75 75\n",
      "[1]  4 58 58\n",
      "[1]  5 70 70\n",
      "[1]  6 61 61\n",
      "[1]  7 78 78\n",
      "[1]  8 40 40\n",
      "[1]  9 56 56\n",
      "[1] 10 60 60\n",
      "[1] 11 79 79\n",
      "[1] 12 67 67\n",
      "[1] 13 33 33\n",
      "[1] 14 43 43\n",
      "[1] 15 45 45\n",
      "[1] 16 64 64\n",
      "[1] 17 80 80\n",
      "[1] 18 24 24\n",
      "[1]  19 101 101\n",
      "[1] 20 33 33\n",
      "[1] 21 22 22\n",
      "[1] 22 48 48\n"
     ]
    }
   ],
   "source": [
    "for (chrom in 1:22){\n",
    "    print(c(chrom, length(unique(df[df$chrom == chrom,]$gene)),length(unique(df0[df0$feature_chromosome == chrom,]$feature_id))))\n",
    "}"
   ]
  },
  {
   "cell_type": "code",
   "execution_count": null,
   "id": "d3687669",
   "metadata": {},
   "outputs": [],
   "source": []
  },
  {
   "cell_type": "code",
   "execution_count": 11,
   "id": "8dc97f41",
   "metadata": {},
   "outputs": [],
   "source": [
    "input_files_dir = \"/hps/nobackup/stegle/users/acuomo/all_scripts/struct_LMM2/sc_neuroseq/May2021/input_files/\"\n",
    "neuro_GxE_file = paste0(input_files_dir,\"neuroseq_eqtl_allDA_FDR5pct_scStructLMM_FDR5pct.csv\")"
   ]
  },
  {
   "cell_type": "code",
   "execution_count": 12,
   "id": "18632c4e",
   "metadata": {},
   "outputs": [
    {
     "data": {
      "text/html": [
       "<table>\n",
       "<thead><tr><th></th><th scope=col>gene</th><th scope=col>n_snps</th><th scope=col>chrom</th><th scope=col>pv_raw</th><th scope=col>snpID</th><th scope=col>pv</th><th scope=col>qv</th></tr></thead>\n",
       "<tbody>\n",
       "\t<tr><th scope=row>1387</th><td>PRPH2         </td><td>2             </td><td>6             </td><td>9.329769e-43  </td><td>6_42672574_G_A</td><td>1.865954e-42  </td><td>2.552625e-39  </td></tr>\n",
       "\t<tr><th scope=row>303</th><td>CD36          </td><td>1             </td><td>7             </td><td>4.839668e-42  </td><td>7_80240689_T_C</td><td>4.839668e-42  </td><td>3.310333e-39  </td></tr>\n",
       "</tbody>\n",
       "</table>\n"
      ],
      "text/latex": [
       "\\begin{tabular}{r|lllllll}\n",
       "  & gene & n\\_snps & chrom & pv\\_raw & snpID & pv & qv\\\\\n",
       "\\hline\n",
       "\t1387 & PRPH2                & 2                    & 6                    & 9.329769e-43         & 6\\_42672574\\_G\\_A & 1.865954e-42         & 2.552625e-39        \\\\\n",
       "\t303 & CD36                 & 1                    & 7                    & 4.839668e-42         & 7\\_80240689\\_T\\_C & 4.839668e-42         & 3.310333e-39        \\\\\n",
       "\\end{tabular}\n"
      ],
      "text/markdown": [
       "\n",
       "| <!--/--> | gene | n_snps | chrom | pv_raw | snpID | pv | qv |\n",
       "|---|---|---|---|---|---|---|---|\n",
       "| 1387 | PRPH2          | 2              | 6              | 9.329769e-43   | 6_42672574_G_A | 1.865954e-42   | 2.552625e-39   |\n",
       "| 303 | CD36           | 1              | 7              | 4.839668e-42   | 7_80240689_T_C | 4.839668e-42   | 3.310333e-39   |\n",
       "\n"
      ],
      "text/plain": [
       "     gene  n_snps chrom pv_raw       snpID          pv           qv          \n",
       "1387 PRPH2 2      6     9.329769e-43 6_42672574_G_A 1.865954e-42 2.552625e-39\n",
       "303  CD36  1      7     4.839668e-42 7_80240689_T_C 4.839668e-42 3.310333e-39"
      ]
     },
     "metadata": {},
     "output_type": "display_data"
    },
    {
     "data": {
      "text/html": [
       "<table>\n",
       "<thead><tr><th></th><th scope=col>snp_id</th><th scope=col>feature</th></tr></thead>\n",
       "<tbody>\n",
       "\t<tr><th scope=row>1387</th><td>6_42672574_G_A</td><td>PRPH2         </td></tr>\n",
       "\t<tr><th scope=row>303</th><td>7_80240689_T_C</td><td>CD36          </td></tr>\n",
       "</tbody>\n",
       "</table>\n"
      ],
      "text/latex": [
       "\\begin{tabular}{r|ll}\n",
       "  & snp\\_id & feature\\\\\n",
       "\\hline\n",
       "\t1387 & 6\\_42672574\\_G\\_A & PRPH2               \\\\\n",
       "\t303 & 7\\_80240689\\_T\\_C & CD36                \\\\\n",
       "\\end{tabular}\n"
      ],
      "text/markdown": [
       "\n",
       "| <!--/--> | snp_id | feature |\n",
       "|---|---|---|\n",
       "| 1387 | 6_42672574_G_A | PRPH2          |\n",
       "| 303 | 7_80240689_T_C | CD36           |\n",
       "\n"
      ],
      "text/plain": [
       "     snp_id         feature\n",
       "1387 6_42672574_G_A PRPH2  \n",
       "303  7_80240689_T_C CD36   "
      ]
     },
     "metadata": {},
     "output_type": "display_data"
    },
    {
     "data": {
      "text/html": [
       "213"
      ],
      "text/latex": [
       "213"
      ],
      "text/markdown": [
       "213"
      ],
      "text/plain": [
       "[1] 213"
      ]
     },
     "metadata": {},
     "output_type": "display_data"
    }
   ],
   "source": [
    "head(df[df$qv<0.05,],2)\n",
    "neuro_df = df[df$qv<0.05,]\n",
    "neuro_df$feature = neuro_df$gene\n",
    "neuro_df$snp_id = neuro_df$snpID\n",
    "neuro_df = neuro_df[df$qv<0.05,c(\"snp_id\",\"feature\")]\n",
    "head(neuro_df,2)\n",
    "nrow(neuro_df)"
   ]
  },
  {
   "cell_type": "code",
   "execution_count": 13,
   "id": "ce9ebcbd",
   "metadata": {},
   "outputs": [],
   "source": [
    "write.csv(neuro_df, neuro_GxE_file)"
   ]
  },
  {
   "cell_type": "code",
   "execution_count": null,
   "id": "5893bf06",
   "metadata": {},
   "outputs": [],
   "source": []
  }
 ],
 "metadata": {
  "kernelspec": {
   "display_name": "R",
   "language": "R",
   "name": "ir"
  },
  "language_info": {
   "codemirror_mode": "r",
   "file_extension": ".r",
   "mimetype": "text/x-r-source",
   "name": "R",
   "pygments_lexer": "r",
   "version": "3.6.1"
  }
 },
 "nbformat": 4,
 "nbformat_minor": 5
}
