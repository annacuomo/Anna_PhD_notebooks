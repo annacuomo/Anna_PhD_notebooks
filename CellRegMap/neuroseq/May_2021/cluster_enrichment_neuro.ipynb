{
 "cells": [
  {
   "cell_type": "code",
   "execution_count": 3,
   "id": "4e113b90",
   "metadata": {},
   "outputs": [
    {
     "name": "stderr",
     "output_type": "stream",
     "text": [
      "\n",
      "Attaching package: ‘dplyr’\n",
      "\n",
      "The following objects are masked from ‘package:stats’:\n",
      "\n",
      "    filter, lag\n",
      "\n",
      "The following objects are masked from ‘package:base’:\n",
      "\n",
      "    intersect, setdiff, setequal, union\n",
      "\n"
     ]
    }
   ],
   "source": [
    "library(dplyr)"
   ]
  },
  {
   "cell_type": "code",
   "execution_count": 4,
   "id": "c7d94361",
   "metadata": {},
   "outputs": [],
   "source": [
    "filename = \"/hps/nobackup/stegle/users/acuomo/all_scripts/struct_LMM2/sc_neuroseq/May2021/genetic_effect/scaled_absolute_eff_sizes_20mofas_as_spatial_downsample_50pct_cluster_labels.csv\"\n",
    "df_clusters = read.csv(filename, row.names = 1)"
   ]
  },
  {
   "cell_type": "code",
   "execution_count": 5,
   "id": "938e18fc",
   "metadata": {},
   "outputs": [
    {
     "data": {
      "text/html": [
       "<table>\n",
       "<thead><tr><th></th><th scope=col>label</th><th scope=col>gene</th></tr></thead>\n",
       "<tbody>\n",
       "\t<tr><th scope=row>0</th><td>2                       </td><td>ABHD10_-3_111697439_T_G </td></tr>\n",
       "\t<tr><th scope=row>1</th><td>9                       </td><td>ABHD12B_-14_51328222_C_T</td></tr>\n",
       "</tbody>\n",
       "</table>\n"
      ],
      "text/latex": [
       "\\begin{tabular}{r|ll}\n",
       "  & label & gene\\\\\n",
       "\\hline\n",
       "\t0 & 2                                & ABHD10\\_-3\\_111697439\\_T\\_G \\\\\n",
       "\t1 & 9                                & ABHD12B\\_-14\\_51328222\\_C\\_T\\\\\n",
       "\\end{tabular}\n"
      ],
      "text/markdown": [
       "\n",
       "| <!--/--> | label | gene |\n",
       "|---|---|---|\n",
       "| 0 | 2                        | ABHD10_-3_111697439_T_G  |\n",
       "| 1 | 9                        | ABHD12B_-14_51328222_C_T |\n",
       "\n"
      ],
      "text/plain": [
       "  label gene                    \n",
       "0 2     ABHD10_-3_111697439_T_G \n",
       "1 9     ABHD12B_-14_51328222_C_T"
      ]
     },
     "metadata": {},
     "output_type": "display_data"
    }
   ],
   "source": [
    "head(df_clusters[,c(\"label\",\"gene\")],2)"
   ]
  },
  {
   "cell_type": "code",
   "execution_count": 6,
   "id": "9280f0f4",
   "metadata": {},
   "outputs": [
    {
     "data": {
      "text/html": [
       "<table>\n",
       "<thead><tr><th></th><th scope=col>cluster0</th><th scope=col>cluster1</th><th scope=col>cluster2</th><th scope=col>cluster3</th><th scope=col>cluster4</th><th scope=col>cluster5</th><th scope=col>cluster6</th><th scope=col>cluster7</th><th scope=col>cluster8</th><th scope=col>cluster9</th><th scope=col>cluster10</th><th scope=col>cluster11</th></tr></thead>\n",
       "<tbody>\n",
       "\t<tr><th scope=row>HPSI0114i-bezi_3--DA--d30--0</th><td>0.4492843  </td><td>-0.7952382 </td><td>-0.4816106 </td><td>0.8658570  </td><td>-0.1223015 </td><td>0.0950069  </td><td>1.109847   </td><td>0.4850352  </td><td>-0.16113688</td><td>-0.4720093 </td><td>0.2110775  </td><td>-0.5376197 </td></tr>\n",
       "\t<tr><th scope=row>HPSI0114i-bezi_3--DA--d30--1</th><td>0.5092915  </td><td>-0.8019595 </td><td>-0.5017370 </td><td>0.9154453  </td><td> 0.1000676 </td><td>0.2789833  </td><td>1.170581   </td><td>0.6114963  </td><td>-0.07019794</td><td>-0.5283503 </td><td>0.2034086  </td><td>-0.6379603 </td></tr>\n",
       "</tbody>\n",
       "</table>\n"
      ],
      "text/latex": [
       "\\begin{tabular}{r|llllllllllll}\n",
       "  & cluster0 & cluster1 & cluster2 & cluster3 & cluster4 & cluster5 & cluster6 & cluster7 & cluster8 & cluster9 & cluster10 & cluster11\\\\\n",
       "\\hline\n",
       "\tHPSI0114i-bezi\\_3--DA--d30--0 & 0.4492843   & -0.7952382  & -0.4816106  & 0.8658570   & -0.1223015  & 0.0950069   & 1.109847    & 0.4850352   & -0.16113688 & -0.4720093  & 0.2110775   & -0.5376197 \\\\\n",
       "\tHPSI0114i-bezi\\_3--DA--d30--1 & 0.5092915   & -0.8019595  & -0.5017370  & 0.9154453   &  0.1000676  & 0.2789833   & 1.170581    & 0.6114963   & -0.07019794 & -0.5283503  & 0.2034086   & -0.6379603 \\\\\n",
       "\\end{tabular}\n"
      ],
      "text/markdown": [
       "\n",
       "| <!--/--> | cluster0 | cluster1 | cluster2 | cluster3 | cluster4 | cluster5 | cluster6 | cluster7 | cluster8 | cluster9 | cluster10 | cluster11 |\n",
       "|---|---|---|---|---|---|---|---|---|---|---|---|---|\n",
       "| HPSI0114i-bezi_3--DA--d30--0 | 0.4492843   | -0.7952382  | -0.4816106  | 0.8658570   | -0.1223015  | 0.0950069   | 1.109847    | 0.4850352   | -0.16113688 | -0.4720093  | 0.2110775   | -0.5376197  |\n",
       "| HPSI0114i-bezi_3--DA--d30--1 | 0.5092915   | -0.8019595  | -0.5017370  | 0.9154453   |  0.1000676  | 0.2789833   | 1.170581    | 0.6114963   | -0.07019794 | -0.5283503  | 0.2034086   | -0.6379603  |\n",
       "\n"
      ],
      "text/plain": [
       "                             cluster0  cluster1   cluster2   cluster3 \n",
       "HPSI0114i-bezi_3--DA--d30--0 0.4492843 -0.7952382 -0.4816106 0.8658570\n",
       "HPSI0114i-bezi_3--DA--d30--1 0.5092915 -0.8019595 -0.5017370 0.9154453\n",
       "                             cluster4   cluster5  cluster6 cluster7 \n",
       "HPSI0114i-bezi_3--DA--d30--0 -0.1223015 0.0950069 1.109847 0.4850352\n",
       "HPSI0114i-bezi_3--DA--d30--1  0.1000676 0.2789833 1.170581 0.6114963\n",
       "                             cluster8    cluster9   cluster10 cluster11 \n",
       "HPSI0114i-bezi_3--DA--d30--0 -0.16113688 -0.4720093 0.2110775 -0.5376197\n",
       "HPSI0114i-bezi_3--DA--d30--1 -0.07019794 -0.5283503 0.2034086 -0.6379603"
      ]
     },
     "metadata": {},
     "output_type": "display_data"
    }
   ],
   "source": [
    "# load cluster summaries\n",
    "cluster_summaries = read.csv(\"/hps/nobackup/stegle/users/acuomo/all_scripts/struct_LMM2/sc_neuroseq/May2021/genetic_effect/scaled_absolute_eff_sizes_20mofas_as_spatial_downsample_50pct_cluster_summaries.csv\", row.names=1)\n",
    "colnames(cluster_summaries) = paste0(\"cluster\",0:(ncol(cluster_summaries)-1))\n",
    "head(cluster_summaries,2)"
   ]
  },
  {
   "cell_type": "code",
   "execution_count": 7,
   "id": "2024876b",
   "metadata": {},
   "outputs": [],
   "source": [
    "###################################################### \n",
    "### approach 1: enrichment of genes (eQTL) in the clusters"
   ]
  },
  {
   "cell_type": "code",
   "execution_count": 8,
   "id": "6dff0493",
   "metadata": {},
   "outputs": [
    {
     "data": {
      "text/html": [
       "<table>\n",
       "<thead><tr><th></th><th scope=col>ABHD10_-3_111697439_T_G</th><th scope=col>ABHD12B_-14_51328222_C_T</th><th scope=col>ACKR2_-3_42817129_C_T</th><th scope=col>ADD2_-2_70894426_A_T</th><th scope=col>ADSL_-22_40757228_A_C</th><th scope=col>AIM1L_-1_26673825_C_T</th><th scope=col>AKAP7_-6_131691964_C_A</th><th scope=col>ALDH7A1_-5_126011412_G_A</th><th scope=col>ANKRD18B_-9_33524775_C_A</th><th scope=col>APIP_-11_34905987_T_C</th><th scope=col>...</th><th scope=col>YWHAE_-17_1246420_G_A</th><th scope=col>ZBBX_-3_167080934_T_G</th><th scope=col>ZC3HAV1_-7_138730361_T_C</th><th scope=col>ZFR2_-19_3840157_C_T</th><th scope=col>ZG16B_-16_2871121_T_C</th><th scope=col>ZNF423_-16_49599995_C_G</th><th scope=col>ZNF552_-19_58315273_G_A</th><th scope=col>ZNF738_-19_21474173_G_A</th><th scope=col>ZNF77_-19_2936535_G_A</th><th scope=col>ZP3_-7_76177284_C_T</th></tr></thead>\n",
       "<tbody>\n",
       "\t<tr><th scope=row>HPSI0714i-iudw_1--DA--d30--0</th><td>-0.2108622   </td><td> 0.003924475 </td><td>0.02206444   </td><td>0.02834211   </td><td> 0.2235163   </td><td>-0.03575032  </td><td>-0.09473256  </td><td> 0.006901295 </td><td> 0.0006737957</td><td>-0.07499119  </td><td>...          </td><td> 0.06962421  </td><td>0.1120253    </td><td>-0.04172133  </td><td>0.01126897   </td><td> 0.1057579   </td><td>-0.03101814  </td><td>0.0909417    </td><td>0.3020245    </td><td>-0.1583842   </td><td>-0.05596878  </td></tr>\n",
       "\t<tr><th scope=row>HPSI0714i-iudw_1--DA--d30--1</th><td>-0.2283969   </td><td>-0.047217741 </td><td>0.10596178   </td><td>0.02514689   </td><td>-0.1921801   </td><td>-0.01471768  </td><td> 0.01878961  </td><td>-0.171038975 </td><td>-0.1105473675</td><td>-0.18686595  </td><td>...          </td><td>-0.21070417  </td><td>0.3759854    </td><td> 0.08774666  </td><td>0.02505916   </td><td>-0.1950055   </td><td>-0.22780547  </td><td>0.0775938    </td><td>0.3452492    </td><td>-0.3472152   </td><td>-0.15259400  </td></tr>\n",
       "</tbody>\n",
       "</table>\n"
      ],
      "text/latex": [
       "\\begin{tabular}{r|lllllllllllllllllllllllllllllllllllllllllllllllllllllllllllllllllllllllllllllllllllllllllllllllllllllllllllllllllllllllllllllllllllllllllllllllllllllllllllllllllllllllllllllllllllllllllllllllllllllllllllllllllllll}\n",
       "  & ABHD10\\_-3\\_111697439\\_T\\_G & ABHD12B\\_-14\\_51328222\\_C\\_T & ACKR2\\_-3\\_42817129\\_C\\_T & ADD2\\_-2\\_70894426\\_A\\_T & ADSL\\_-22\\_40757228\\_A\\_C & AIM1L\\_-1\\_26673825\\_C\\_T & AKAP7\\_-6\\_131691964\\_C\\_A & ALDH7A1\\_-5\\_126011412\\_G\\_A & ANKRD18B\\_-9\\_33524775\\_C\\_A & APIP\\_-11\\_34905987\\_T\\_C & ... & YWHAE\\_-17\\_1246420\\_G\\_A & ZBBX\\_-3\\_167080934\\_T\\_G & ZC3HAV1\\_-7\\_138730361\\_T\\_C & ZFR2\\_-19\\_3840157\\_C\\_T & ZG16B\\_-16\\_2871121\\_T\\_C & ZNF423\\_-16\\_49599995\\_C\\_G & ZNF552\\_-19\\_58315273\\_G\\_A & ZNF738\\_-19\\_21474173\\_G\\_A & ZNF77\\_-19\\_2936535\\_G\\_A & ZP3\\_-7\\_76177284\\_C\\_T\\\\\n",
       "\\hline\n",
       "\tHPSI0714i-iudw\\_1--DA--d30--0 & -0.2108622    &  0.003924475  & 0.02206444    & 0.02834211    &  0.2235163    & -0.03575032   & -0.09473256   &  0.006901295  &  0.0006737957 & -0.07499119   & ...           &  0.06962421   & 0.1120253     & -0.04172133   & 0.01126897    &  0.1057579    & -0.03101814   & 0.0909417     & 0.3020245     & -0.1583842    & -0.05596878  \\\\\n",
       "\tHPSI0714i-iudw\\_1--DA--d30--1 & -0.2283969    & -0.047217741  & 0.10596178    & 0.02514689    & -0.1921801    & -0.01471768   &  0.01878961   & -0.171038975  & -0.1105473675 & -0.18686595   & ...           & -0.21070417   & 0.3759854     &  0.08774666   & 0.02505916    & -0.1950055    & -0.22780547   & 0.0775938     & 0.3452492     & -0.3472152    & -0.15259400  \\\\\n",
       "\\end{tabular}\n"
      ],
      "text/markdown": [
       "\n",
       "| <!--/--> | ABHD10_-3_111697439_T_G | ABHD12B_-14_51328222_C_T | ACKR2_-3_42817129_C_T | ADD2_-2_70894426_A_T | ADSL_-22_40757228_A_C | AIM1L_-1_26673825_C_T | AKAP7_-6_131691964_C_A | ALDH7A1_-5_126011412_G_A | ANKRD18B_-9_33524775_C_A | APIP_-11_34905987_T_C | ... | YWHAE_-17_1246420_G_A | ZBBX_-3_167080934_T_G | ZC3HAV1_-7_138730361_T_C | ZFR2_-19_3840157_C_T | ZG16B_-16_2871121_T_C | ZNF423_-16_49599995_C_G | ZNF552_-19_58315273_G_A | ZNF738_-19_21474173_G_A | ZNF77_-19_2936535_G_A | ZP3_-7_76177284_C_T |\n",
       "|---|---|---|---|---|---|---|---|---|---|---|---|---|---|---|---|---|---|---|---|---|---|\n",
       "| HPSI0714i-iudw_1--DA--d30--0 | -0.2108622    |  0.003924475  | 0.02206444    | 0.02834211    |  0.2235163    | -0.03575032   | -0.09473256   |  0.006901295  |  0.0006737957 | -0.07499119   | ...           |  0.06962421   | 0.1120253     | -0.04172133   | 0.01126897    |  0.1057579    | -0.03101814   | 0.0909417     | 0.3020245     | -0.1583842    | -0.05596878   |\n",
       "| HPSI0714i-iudw_1--DA--d30--1 | -0.2283969    | -0.047217741  | 0.10596178    | 0.02514689    | -0.1921801    | -0.01471768   |  0.01878961   | -0.171038975  | -0.1105473675 | -0.18686595   | ...           | -0.21070417   | 0.3759854     |  0.08774666   | 0.02505916    | -0.1950055    | -0.22780547   | 0.0775938     | 0.3452492     | -0.3472152    | -0.15259400   |\n",
       "\n"
      ],
      "text/plain": [
       "                             ABHD10_-3_111697439_T_G ABHD12B_-14_51328222_C_T\n",
       "HPSI0714i-iudw_1--DA--d30--0 -0.2108622               0.003924475            \n",
       "HPSI0714i-iudw_1--DA--d30--1 -0.2283969              -0.047217741            \n",
       "                             ACKR2_-3_42817129_C_T ADD2_-2_70894426_A_T\n",
       "HPSI0714i-iudw_1--DA--d30--0 0.02206444            0.02834211          \n",
       "HPSI0714i-iudw_1--DA--d30--1 0.10596178            0.02514689          \n",
       "                             ADSL_-22_40757228_A_C AIM1L_-1_26673825_C_T\n",
       "HPSI0714i-iudw_1--DA--d30--0  0.2235163            -0.03575032          \n",
       "HPSI0714i-iudw_1--DA--d30--1 -0.1921801            -0.01471768          \n",
       "                             AKAP7_-6_131691964_C_A ALDH7A1_-5_126011412_G_A\n",
       "HPSI0714i-iudw_1--DA--d30--0 -0.09473256             0.006901295            \n",
       "HPSI0714i-iudw_1--DA--d30--1  0.01878961            -0.171038975            \n",
       "                             ANKRD18B_-9_33524775_C_A APIP_-11_34905987_T_C ...\n",
       "HPSI0714i-iudw_1--DA--d30--0  0.0006737957            -0.07499119           ...\n",
       "HPSI0714i-iudw_1--DA--d30--1 -0.1105473675            -0.18686595           ...\n",
       "                             YWHAE_-17_1246420_G_A ZBBX_-3_167080934_T_G\n",
       "HPSI0714i-iudw_1--DA--d30--0  0.06962421           0.1120253            \n",
       "HPSI0714i-iudw_1--DA--d30--1 -0.21070417           0.3759854            \n",
       "                             ZC3HAV1_-7_138730361_T_C ZFR2_-19_3840157_C_T\n",
       "HPSI0714i-iudw_1--DA--d30--0 -0.04172133              0.01126897          \n",
       "HPSI0714i-iudw_1--DA--d30--1  0.08774666              0.02505916          \n",
       "                             ZG16B_-16_2871121_T_C ZNF423_-16_49599995_C_G\n",
       "HPSI0714i-iudw_1--DA--d30--0  0.1057579            -0.03101814            \n",
       "HPSI0714i-iudw_1--DA--d30--1 -0.1950055            -0.22780547            \n",
       "                             ZNF552_-19_58315273_G_A ZNF738_-19_21474173_G_A\n",
       "HPSI0714i-iudw_1--DA--d30--0 0.0909417               0.3020245              \n",
       "HPSI0714i-iudw_1--DA--d30--1 0.0775938               0.3452492              \n",
       "                             ZNF77_-19_2936535_G_A ZP3_-7_76177284_C_T\n",
       "HPSI0714i-iudw_1--DA--d30--0 -0.1583842            -0.05596878        \n",
       "HPSI0714i-iudw_1--DA--d30--1 -0.3472152            -0.15259400        "
      ]
     },
     "metadata": {},
     "output_type": "display_data"
    },
    {
     "data": {
      "text/html": [
       "8352"
      ],
      "text/latex": [
       "8352"
      ],
      "text/markdown": [
       "8352"
      ],
      "text/plain": [
       "[1] 8352"
      ]
     },
     "metadata": {},
     "output_type": "display_data"
    }
   ],
   "source": [
    "## load individual eQTL genetic effects\n",
    "df = read.csv(\"/hps/nobackup/stegle/users/acuomo/all_scripts/struct_LMM2/sc_neuroseq/May2021/genetic_effect/MOFA10/eqtl_tot_genetic_effect_all.txt\", sep=\"\\t\",row.names = 1)\n",
    "colnames(df) = gsub(\"\\\\.\",\"-\",colnames(df))\n",
    "head(df,2)\n",
    "nrow(df)"
   ]
  },
  {
   "cell_type": "code",
   "execution_count": 9,
   "id": "4d1354b6",
   "metadata": {},
   "outputs": [],
   "source": [
    "##########################################################################################\n",
    "### approach 2: enrichment of genes correlated with each clusters (using the cluster summaries)"
   ]
  },
  {
   "cell_type": "code",
   "execution_count": 10,
   "id": "2dd34eba",
   "metadata": {},
   "outputs": [],
   "source": [
    "input_files_dir = \"/hps/nobackup/stegle/users/acuomo/all_scripts/struct_LMM2/sc_neuroseq/May2021/input_files/\"\n",
    "# Phenotype\n",
    "phenotype_file = paste0(input_files_dir,\"phenotype.csv\")"
   ]
  },
  {
   "cell_type": "code",
   "execution_count": 11,
   "id": "4a16d893",
   "metadata": {},
   "outputs": [
    {
     "data": {
      "text/html": [
       "<table>\n",
       "<thead><tr><th></th><th scope=col>HPSI0714i-iudw_1--DA--d30--0</th><th scope=col>HPSI0714i-iudw_1--DA--d30--1</th><th scope=col>HPSI0714i-iudw_1--DA--d30--2</th><th scope=col>HPSI0714i-iudw_1--DA--d30--3</th><th scope=col>HPSI0714i-iudw_1--DA--d30--4</th></tr></thead>\n",
       "<tbody>\n",
       "\t<tr><th scope=row>MIR1302.10</th><td>0</td><td>0</td><td>0</td><td>0</td><td>0</td></tr>\n",
       "\t<tr><th scope=row>FAM138A</th><td>0</td><td>0</td><td>0</td><td>0</td><td>0</td></tr>\n",
       "\t<tr><th scope=row>OR4F5</th><td>0</td><td>0</td><td>0</td><td>0</td><td>0</td></tr>\n",
       "\t<tr><th scope=row>RP11.34P13.7</th><td>0</td><td>0</td><td>0</td><td>0</td><td>0</td></tr>\n",
       "\t<tr><th scope=row>RP11.34P13.8</th><td>0</td><td>0</td><td>0</td><td>0</td><td>0</td></tr>\n",
       "</tbody>\n",
       "</table>\n"
      ],
      "text/latex": [
       "\\begin{tabular}{r|lllll}\n",
       "  & HPSI0714i-iudw\\_1--DA--d30--0 & HPSI0714i-iudw\\_1--DA--d30--1 & HPSI0714i-iudw\\_1--DA--d30--2 & HPSI0714i-iudw\\_1--DA--d30--3 & HPSI0714i-iudw\\_1--DA--d30--4\\\\\n",
       "\\hline\n",
       "\tMIR1302.10 & 0 & 0 & 0 & 0 & 0\\\\\n",
       "\tFAM138A & 0 & 0 & 0 & 0 & 0\\\\\n",
       "\tOR4F5 & 0 & 0 & 0 & 0 & 0\\\\\n",
       "\tRP11.34P13.7 & 0 & 0 & 0 & 0 & 0\\\\\n",
       "\tRP11.34P13.8 & 0 & 0 & 0 & 0 & 0\\\\\n",
       "\\end{tabular}\n"
      ],
      "text/markdown": [
       "\n",
       "| <!--/--> | HPSI0714i-iudw_1--DA--d30--0 | HPSI0714i-iudw_1--DA--d30--1 | HPSI0714i-iudw_1--DA--d30--2 | HPSI0714i-iudw_1--DA--d30--3 | HPSI0714i-iudw_1--DA--d30--4 |\n",
       "|---|---|---|---|---|---|\n",
       "| MIR1302.10 | 0 | 0 | 0 | 0 | 0 |\n",
       "| FAM138A | 0 | 0 | 0 | 0 | 0 |\n",
       "| OR4F5 | 0 | 0 | 0 | 0 | 0 |\n",
       "| RP11.34P13.7 | 0 | 0 | 0 | 0 | 0 |\n",
       "| RP11.34P13.8 | 0 | 0 | 0 | 0 | 0 |\n",
       "\n"
      ],
      "text/plain": [
       "             HPSI0714i-iudw_1--DA--d30--0 HPSI0714i-iudw_1--DA--d30--1\n",
       "MIR1302.10   0                            0                           \n",
       "FAM138A      0                            0                           \n",
       "OR4F5        0                            0                           \n",
       "RP11.34P13.7 0                            0                           \n",
       "RP11.34P13.8 0                            0                           \n",
       "             HPSI0714i-iudw_1--DA--d30--2 HPSI0714i-iudw_1--DA--d30--3\n",
       "MIR1302.10   0                            0                           \n",
       "FAM138A      0                            0                           \n",
       "OR4F5        0                            0                           \n",
       "RP11.34P13.7 0                            0                           \n",
       "RP11.34P13.8 0                            0                           \n",
       "             HPSI0714i-iudw_1--DA--d30--4\n",
       "MIR1302.10   0                           \n",
       "FAM138A      0                           \n",
       "OR4F5        0                           \n",
       "RP11.34P13.7 0                           \n",
       "RP11.34P13.8 0                           "
      ]
     },
     "metadata": {},
     "output_type": "display_data"
    }
   ],
   "source": [
    "df0 = read.csv(phenotype_file, row.names=1)\n",
    "newcols = gsub(\"\\\\.\",\"-\",colnames(df0))\n",
    "# head(newcols)\n",
    "colnames(df0) = newcols\n",
    "df0[1:5,1:5]"
   ]
  },
  {
   "cell_type": "code",
   "execution_count": 12,
   "id": "e53347bd",
   "metadata": {},
   "outputs": [
    {
     "data": {
      "text/html": [
       "9219"
      ],
      "text/latex": [
       "9219"
      ],
      "text/markdown": [
       "9219"
      ],
      "text/plain": [
       "[1] 9219"
      ]
     },
     "metadata": {},
     "output_type": "display_data"
    },
    {
     "data": {
      "text/html": [
       "8352"
      ],
      "text/latex": [
       "8352"
      ],
      "text/markdown": [
       "8352"
      ],
      "text/plain": [
       "[1] 8352"
      ]
     },
     "metadata": {},
     "output_type": "display_data"
    },
    {
     "data": {
      "text/html": [
       "<table>\n",
       "<thead><tr><th></th><th scope=col>HPSI0114i-bezi_3--DA--d30--0</th><th scope=col>HPSI0114i-bezi_3--DA--d30--1</th><th scope=col>HPSI0114i-bezi_3--DA--d30--10</th><th scope=col>HPSI0114i-bezi_3--DA--d30--11</th><th scope=col>HPSI0114i-bezi_3--DA--d30--12</th></tr></thead>\n",
       "<tbody>\n",
       "\t<tr><th scope=row>MIR1302.10</th><td>0</td><td>0</td><td>0</td><td>0</td><td>0</td></tr>\n",
       "\t<tr><th scope=row>FAM138A</th><td>0</td><td>0</td><td>0</td><td>0</td><td>0</td></tr>\n",
       "\t<tr><th scope=row>OR4F5</th><td>0</td><td>0</td><td>0</td><td>0</td><td>0</td></tr>\n",
       "\t<tr><th scope=row>RP11.34P13.7</th><td>0</td><td>0</td><td>0</td><td>0</td><td>0</td></tr>\n",
       "\t<tr><th scope=row>RP11.34P13.8</th><td>0</td><td>0</td><td>0</td><td>0</td><td>0</td></tr>\n",
       "</tbody>\n",
       "</table>\n"
      ],
      "text/latex": [
       "\\begin{tabular}{r|lllll}\n",
       "  & HPSI0114i-bezi\\_3--DA--d30--0 & HPSI0114i-bezi\\_3--DA--d30--1 & HPSI0114i-bezi\\_3--DA--d30--10 & HPSI0114i-bezi\\_3--DA--d30--11 & HPSI0114i-bezi\\_3--DA--d30--12\\\\\n",
       "\\hline\n",
       "\tMIR1302.10 & 0 & 0 & 0 & 0 & 0\\\\\n",
       "\tFAM138A & 0 & 0 & 0 & 0 & 0\\\\\n",
       "\tOR4F5 & 0 & 0 & 0 & 0 & 0\\\\\n",
       "\tRP11.34P13.7 & 0 & 0 & 0 & 0 & 0\\\\\n",
       "\tRP11.34P13.8 & 0 & 0 & 0 & 0 & 0\\\\\n",
       "\\end{tabular}\n"
      ],
      "text/markdown": [
       "\n",
       "| <!--/--> | HPSI0114i-bezi_3--DA--d30--0 | HPSI0114i-bezi_3--DA--d30--1 | HPSI0114i-bezi_3--DA--d30--10 | HPSI0114i-bezi_3--DA--d30--11 | HPSI0114i-bezi_3--DA--d30--12 |\n",
       "|---|---|---|---|---|---|\n",
       "| MIR1302.10 | 0 | 0 | 0 | 0 | 0 |\n",
       "| FAM138A | 0 | 0 | 0 | 0 | 0 |\n",
       "| OR4F5 | 0 | 0 | 0 | 0 | 0 |\n",
       "| RP11.34P13.7 | 0 | 0 | 0 | 0 | 0 |\n",
       "| RP11.34P13.8 | 0 | 0 | 0 | 0 | 0 |\n",
       "\n"
      ],
      "text/plain": [
       "             HPSI0114i-bezi_3--DA--d30--0 HPSI0114i-bezi_3--DA--d30--1\n",
       "MIR1302.10   0                            0                           \n",
       "FAM138A      0                            0                           \n",
       "OR4F5        0                            0                           \n",
       "RP11.34P13.7 0                            0                           \n",
       "RP11.34P13.8 0                            0                           \n",
       "             HPSI0114i-bezi_3--DA--d30--10 HPSI0114i-bezi_3--DA--d30--11\n",
       "MIR1302.10   0                             0                            \n",
       "FAM138A      0                             0                            \n",
       "OR4F5        0                             0                            \n",
       "RP11.34P13.7 0                             0                            \n",
       "RP11.34P13.8 0                             0                            \n",
       "             HPSI0114i-bezi_3--DA--d30--12\n",
       "MIR1302.10   0                            \n",
       "FAM138A      0                            \n",
       "OR4F5        0                            \n",
       "RP11.34P13.7 0                            \n",
       "RP11.34P13.8 0                            "
      ]
     },
     "metadata": {},
     "output_type": "display_data"
    }
   ],
   "source": [
    "df1 = df0[,rownames(cluster_summaries)]\n",
    "ncol(df0)\n",
    "ncol(df1)\n",
    "df1[1:5,1:5]"
   ]
  },
  {
   "cell_type": "code",
   "execution_count": 13,
   "id": "a7b45be7",
   "metadata": {},
   "outputs": [
    {
     "data": {
      "text/html": [
       "<dl class=dl-horizontal>\n",
       "\t<dt>MIR1302.10</dt>\n",
       "\t\t<dd>33.089210935</dd>\n",
       "\t<dt>FAM138A</dt>\n",
       "\t\t<dd>0</dd>\n",
       "\t<dt>OR4F5</dt>\n",
       "\t\t<dd>0</dd>\n",
       "\t<dt>RP11.34P13.7</dt>\n",
       "\t\t<dd>154.172127725</dd>\n",
       "\t<dt>RP11.34P13.8</dt>\n",
       "\t\t<dd>8.009869349</dd>\n",
       "\t<dt>AL627309.1</dt>\n",
       "\t\t<dd>464.634622755</dd>\n",
       "</dl>\n"
      ],
      "text/latex": [
       "\\begin{description*}\n",
       "\\item[MIR1302.10] 33.089210935\n",
       "\\item[FAM138A] 0\n",
       "\\item[OR4F5] 0\n",
       "\\item[RP11.34P13.7] 154.172127725\n",
       "\\item[RP11.34P13.8] 8.009869349\n",
       "\\item[AL627309.1] 464.634622755\n",
       "\\end{description*}\n"
      ],
      "text/markdown": [
       "MIR1302.10\n",
       ":   33.089210935FAM138A\n",
       ":   0OR4F5\n",
       ":   0RP11.34P13.7\n",
       ":   154.172127725RP11.34P13.8\n",
       ":   8.009869349AL627309.1\n",
       ":   464.634622755\n",
       "\n"
      ],
      "text/plain": [
       "  MIR1302.10      FAM138A        OR4F5 RP11.34P13.7 RP11.34P13.8   AL627309.1 \n",
       "   33.089211     0.000000     0.000000   154.172128     8.009869   464.634623 "
      ]
     },
     "metadata": {},
     "output_type": "display_data"
    }
   ],
   "source": [
    "rowsums = rowSums(df1)\n",
    "head(rowsums)"
   ]
  },
  {
   "cell_type": "code",
   "execution_count": 14,
   "id": "8cf3df63",
   "metadata": {},
   "outputs": [
    {
     "data": {
      "text/html": [
       "<ol class=list-inline>\n",
       "\t<li>'FAM138A'</li>\n",
       "\t<li>'OR4F5'</li>\n",
       "\t<li>'RP11.34P13.14'</li>\n",
       "\t<li>'OR4F29'</li>\n",
       "\t<li>'RP5.857K21.2'</li>\n",
       "\t<li>'OR4F16'</li>\n",
       "</ol>\n"
      ],
      "text/latex": [
       "\\begin{enumerate*}\n",
       "\\item 'FAM138A'\n",
       "\\item 'OR4F5'\n",
       "\\item 'RP11.34P13.14'\n",
       "\\item 'OR4F29'\n",
       "\\item 'RP5.857K21.2'\n",
       "\\item 'OR4F16'\n",
       "\\end{enumerate*}\n"
      ],
      "text/markdown": [
       "1. 'FAM138A'\n",
       "2. 'OR4F5'\n",
       "3. 'RP11.34P13.14'\n",
       "4. 'OR4F29'\n",
       "5. 'RP5.857K21.2'\n",
       "6. 'OR4F16'\n",
       "\n",
       "\n"
      ],
      "text/plain": [
       "[1] \"FAM138A\"       \"OR4F5\"         \"RP11.34P13.14\" \"OR4F29\"       \n",
       "[5] \"RP5.857K21.2\"  \"OR4F16\"       "
      ]
     },
     "metadata": {},
     "output_type": "display_data"
    },
    {
     "data": {
      "text/html": [
       "4476"
      ],
      "text/latex": [
       "4476"
      ],
      "text/markdown": [
       "4476"
      ],
      "text/plain": [
       "[1] 4476"
      ]
     },
     "metadata": {},
     "output_type": "display_data"
    }
   ],
   "source": [
    "# remove all 0 genes\n",
    "zero_genes = names(rowsums[rowsums==0])\n",
    "head(zero_genes)\n",
    "length(zero_genes)"
   ]
  },
  {
   "cell_type": "code",
   "execution_count": 15,
   "id": "c139b47a",
   "metadata": {},
   "outputs": [
    {
     "data": {
      "text/html": [
       "<dl class=dl-horizontal>\n",
       "\t<dt>MIR1302.10</dt>\n",
       "\t\t<dd>56</dd>\n",
       "\t<dt>FAM138A</dt>\n",
       "\t\t<dd>0</dd>\n",
       "\t<dt>OR4F5</dt>\n",
       "\t\t<dd>0</dd>\n",
       "\t<dt>RP11.34P13.7</dt>\n",
       "\t\t<dd>287</dd>\n",
       "\t<dt>RP11.34P13.8</dt>\n",
       "\t\t<dd>15</dd>\n",
       "\t<dt>AL627309.1</dt>\n",
       "\t\t<dd>834</dd>\n",
       "</dl>\n"
      ],
      "text/latex": [
       "\\begin{description*}\n",
       "\\item[MIR1302.10] 56\n",
       "\\item[FAM138A] 0\n",
       "\\item[OR4F5] 0\n",
       "\\item[RP11.34P13.7] 287\n",
       "\\item[RP11.34P13.8] 15\n",
       "\\item[AL627309.1] 834\n",
       "\\end{description*}\n"
      ],
      "text/markdown": [
       "MIR1302.10\n",
       ":   56FAM138A\n",
       ":   0OR4F5\n",
       ":   0RP11.34P13.7\n",
       ":   287RP11.34P13.8\n",
       ":   15AL627309.1\n",
       ":   834\n",
       "\n"
      ],
      "text/plain": [
       "  MIR1302.10      FAM138A        OR4F5 RP11.34P13.7 RP11.34P13.8   AL627309.1 \n",
       "          56            0            0          287           15          834 "
      ]
     },
     "metadata": {},
     "output_type": "display_data"
    }
   ],
   "source": [
    "non0_pseudocells = rowSums(df1>0)\n",
    "head(non0_pseudocells)"
   ]
  },
  {
   "cell_type": "code",
   "execution_count": 16,
   "id": "93fb6234",
   "metadata": {
    "scrolled": true
   },
   "outputs": [
    {
     "data": {
      "text/html": [
       "835.2"
      ],
      "text/latex": [
       "835.2"
      ],
      "text/markdown": [
       "835.2"
      ],
      "text/plain": [
       "[1] 835.2"
      ]
     },
     "metadata": {},
     "output_type": "display_data"
    }
   ],
   "source": [
    "0.1*ncol(df1)"
   ]
  },
  {
   "cell_type": "code",
   "execution_count": 17,
   "id": "0feaa9db",
   "metadata": {},
   "outputs": [
    {
     "data": {
      "text/html": [
       "<ol class=list-inline>\n",
       "\t<li>'MIR1302.10'</li>\n",
       "\t<li>'FAM138A'</li>\n",
       "\t<li>'OR4F5'</li>\n",
       "\t<li>'RP11.34P13.7'</li>\n",
       "\t<li>'RP11.34P13.8'</li>\n",
       "\t<li>'AL627309.1'</li>\n",
       "</ol>\n"
      ],
      "text/latex": [
       "\\begin{enumerate*}\n",
       "\\item 'MIR1302.10'\n",
       "\\item 'FAM138A'\n",
       "\\item 'OR4F5'\n",
       "\\item 'RP11.34P13.7'\n",
       "\\item 'RP11.34P13.8'\n",
       "\\item 'AL627309.1'\n",
       "\\end{enumerate*}\n"
      ],
      "text/markdown": [
       "1. 'MIR1302.10'\n",
       "2. 'FAM138A'\n",
       "3. 'OR4F5'\n",
       "4. 'RP11.34P13.7'\n",
       "5. 'RP11.34P13.8'\n",
       "6. 'AL627309.1'\n",
       "\n",
       "\n"
      ],
      "text/plain": [
       "[1] \"MIR1302.10\"   \"FAM138A\"      \"OR4F5\"        \"RP11.34P13.7\" \"RP11.34P13.8\"\n",
       "[6] \"AL627309.1\"  "
      ]
     },
     "metadata": {},
     "output_type": "display_data"
    },
    {
     "data": {
      "text/html": [
       "19035"
      ],
      "text/latex": [
       "19035"
      ],
      "text/markdown": [
       "19035"
      ],
      "text/plain": [
       "[1] 19035"
      ]
     },
     "metadata": {},
     "output_type": "display_data"
    }
   ],
   "source": [
    "# remove genes in less 10% of pseudocells\n",
    "low_genes = names(non0_pseudocells[non0_pseudocells<0.1*ncol(df1)])\n",
    "head(low_genes)\n",
    "length(low_genes)"
   ]
  },
  {
   "cell_type": "code",
   "execution_count": 18,
   "id": "5f9a0f67",
   "metadata": {},
   "outputs": [
    {
     "data": {
      "text/html": [
       "32738"
      ],
      "text/latex": [
       "32738"
      ],
      "text/markdown": [
       "32738"
      ],
      "text/plain": [
       "[1] 32738"
      ]
     },
     "metadata": {},
     "output_type": "display_data"
    },
    {
     "data": {
      "text/html": [
       "<ol class=list-inline>\n",
       "\t<li>'MIR1302.10'</li>\n",
       "\t<li>'FAM138A'</li>\n",
       "\t<li>'OR4F5'</li>\n",
       "\t<li>'RP11.34P13.7'</li>\n",
       "\t<li>'RP11.34P13.8'</li>\n",
       "\t<li>'AL627309.1'</li>\n",
       "</ol>\n"
      ],
      "text/latex": [
       "\\begin{enumerate*}\n",
       "\\item 'MIR1302.10'\n",
       "\\item 'FAM138A'\n",
       "\\item 'OR4F5'\n",
       "\\item 'RP11.34P13.7'\n",
       "\\item 'RP11.34P13.8'\n",
       "\\item 'AL627309.1'\n",
       "\\end{enumerate*}\n"
      ],
      "text/markdown": [
       "1. 'MIR1302.10'\n",
       "2. 'FAM138A'\n",
       "3. 'OR4F5'\n",
       "4. 'RP11.34P13.7'\n",
       "5. 'RP11.34P13.8'\n",
       "6. 'AL627309.1'\n",
       "\n",
       "\n"
      ],
      "text/plain": [
       "[1] \"MIR1302.10\"   \"FAM138A\"      \"OR4F5\"        \"RP11.34P13.7\" \"RP11.34P13.8\"\n",
       "[6] \"AL627309.1\"  "
      ]
     },
     "metadata": {},
     "output_type": "display_data"
    }
   ],
   "source": [
    "genes = rownames(df1)\n",
    "length(genes)\n",
    "head(genes)"
   ]
  },
  {
   "cell_type": "code",
   "execution_count": 19,
   "id": "bbceac04",
   "metadata": {},
   "outputs": [],
   "source": [
    "all_genes_df = df1"
   ]
  },
  {
   "cell_type": "code",
   "execution_count": 20,
   "id": "807dd7c9",
   "metadata": {},
   "outputs": [
    {
     "data": {
      "text/html": [
       "13703"
      ],
      "text/latex": [
       "13703"
      ],
      "text/markdown": [
       "13703"
      ],
      "text/plain": [
       "[1] 13703"
      ]
     },
     "metadata": {},
     "output_type": "display_data"
    }
   ],
   "source": [
    "df1_new = df1[!(rownames(df1) %in% unique(c(zero_genes, low_genes))),]\n",
    "nrow(df1_new)"
   ]
  },
  {
   "cell_type": "code",
   "execution_count": 21,
   "id": "95930567",
   "metadata": {},
   "outputs": [],
   "source": [
    "df1 = df1_new"
   ]
  },
  {
   "cell_type": "code",
   "execution_count": 22,
   "id": "67e718d9",
   "metadata": {},
   "outputs": [
    {
     "data": {
      "text/html": [
       "13703"
      ],
      "text/latex": [
       "13703"
      ],
      "text/markdown": [
       "13703"
      ],
      "text/plain": [
       "[1] 13703"
      ]
     },
     "metadata": {},
     "output_type": "display_data"
    },
    {
     "data": {
      "text/html": [
       "<ol class=list-inline>\n",
       "\t<li>'AP006222.2'</li>\n",
       "\t<li>'RP11.206L10.3'</li>\n",
       "\t<li>'RP11.206L10.9'</li>\n",
       "\t<li>'LINC00115'</li>\n",
       "\t<li>'FAM41C'</li>\n",
       "\t<li>'RP11.54O7.1'</li>\n",
       "</ol>\n"
      ],
      "text/latex": [
       "\\begin{enumerate*}\n",
       "\\item 'AP006222.2'\n",
       "\\item 'RP11.206L10.3'\n",
       "\\item 'RP11.206L10.9'\n",
       "\\item 'LINC00115'\n",
       "\\item 'FAM41C'\n",
       "\\item 'RP11.54O7.1'\n",
       "\\end{enumerate*}\n"
      ],
      "text/markdown": [
       "1. 'AP006222.2'\n",
       "2. 'RP11.206L10.3'\n",
       "3. 'RP11.206L10.9'\n",
       "4. 'LINC00115'\n",
       "5. 'FAM41C'\n",
       "6. 'RP11.54O7.1'\n",
       "\n",
       "\n"
      ],
      "text/plain": [
       "[1] \"AP006222.2\"    \"RP11.206L10.3\" \"RP11.206L10.9\" \"LINC00115\"    \n",
       "[5] \"FAM41C\"        \"RP11.54O7.1\"  "
      ]
     },
     "metadata": {},
     "output_type": "display_data"
    }
   ],
   "source": [
    "genes = rownames(df1)\n",
    "length(genes)\n",
    "head(genes)"
   ]
  },
  {
   "cell_type": "code",
   "execution_count": 23,
   "id": "abe0265b",
   "metadata": {},
   "outputs": [],
   "source": [
    "cluster = 11"
   ]
  },
  {
   "cell_type": "code",
   "execution_count": 24,
   "id": "83d96f84",
   "metadata": {},
   "outputs": [],
   "source": [
    "gene = genes[1]"
   ]
  },
  {
   "cell_type": "code",
   "execution_count": 25,
   "id": "c92f64c3",
   "metadata": {},
   "outputs": [
    {
     "data": {
      "text/html": [
       "<ol class=list-inline>\n",
       "\t<li>2.9360807</li>\n",
       "\t<li>0.9526524</li>\n",
       "\t<li>4.831532</li>\n",
       "\t<li>3.0357327</li>\n",
       "\t<li>3.0441222</li>\n",
       "\t<li>0</li>\n",
       "</ol>\n"
      ],
      "text/latex": [
       "\\begin{enumerate*}\n",
       "\\item 2.9360807\n",
       "\\item 0.9526524\n",
       "\\item 4.831532\n",
       "\\item 3.0357327\n",
       "\\item 3.0441222\n",
       "\\item 0\n",
       "\\end{enumerate*}\n"
      ],
      "text/markdown": [
       "1. 2.9360807\n",
       "2. 0.9526524\n",
       "3. 4.831532\n",
       "4. 3.0357327\n",
       "5. 3.0441222\n",
       "6. 0\n",
       "\n",
       "\n"
      ],
      "text/plain": [
       "[1] 2.9360807 0.9526524 4.8315320 3.0357327 3.0441222 0.0000000"
      ]
     },
     "metadata": {},
     "output_type": "display_data"
    },
    {
     "data": {
      "text/html": [
       "<ol class=list-inline>\n",
       "\t<li>-0.53761972224375</li>\n",
       "\t<li>-0.637960318060502</li>\n",
       "\t<li>-0.461805529727988</li>\n",
       "\t<li>-0.573519195644592</li>\n",
       "\t<li>-0.565673973050742</li>\n",
       "\t<li>-0.667305666682224</li>\n",
       "</ol>\n"
      ],
      "text/latex": [
       "\\begin{enumerate*}\n",
       "\\item -0.53761972224375\n",
       "\\item -0.637960318060502\n",
       "\\item -0.461805529727988\n",
       "\\item -0.573519195644592\n",
       "\\item -0.565673973050742\n",
       "\\item -0.667305666682224\n",
       "\\end{enumerate*}\n"
      ],
      "text/markdown": [
       "1. -0.53761972224375\n",
       "2. -0.637960318060502\n",
       "3. -0.461805529727988\n",
       "4. -0.573519195644592\n",
       "5. -0.565673973050742\n",
       "6. -0.667305666682224\n",
       "\n",
       "\n"
      ],
      "text/plain": [
       "[1] -0.5376197 -0.6379603 -0.4618055 -0.5735192 -0.5656740 -0.6673057"
      ]
     },
     "metadata": {},
     "output_type": "display_data"
    }
   ],
   "source": [
    "head(as.numeric(df1[gene,]))\n",
    "head(cluster_summaries[,cluster+1])"
   ]
  },
  {
   "cell_type": "code",
   "execution_count": 26,
   "id": "3c411673",
   "metadata": {},
   "outputs": [
    {
     "data": {
      "text/html": [
       "0.279413865724454"
      ],
      "text/latex": [
       "0.279413865724454"
      ],
      "text/markdown": [
       "0.279413865724454"
      ],
      "text/plain": [
       "[1] 0.2794139"
      ]
     },
     "metadata": {},
     "output_type": "display_data"
    }
   ],
   "source": [
    "cor(as.numeric(df1[gene,]), cluster_summaries[,cluster+1])"
   ]
  },
  {
   "cell_type": "code",
   "execution_count": null,
   "id": "dac1a6db",
   "metadata": {},
   "outputs": [],
   "source": [
    "gene_list = c()\n",
    "for (gene in genes){\n",
    "    gene_list = c(gene_list, cor(as.numeric(df1[gene,]), cluster_summaries[,cluster+1]))\n",
    "}\n",
    "names(gene_list) = genes\n",
    "gene_list = gene_list[order(gene_list, decreasing=T)]"
   ]
  },
  {
   "cell_type": "code",
   "execution_count": null,
   "id": "e6663434",
   "metadata": {},
   "outputs": [],
   "source": [
    "hist(gene_list)"
   ]
  },
  {
   "cell_type": "code",
   "execution_count": null,
   "id": "609fd1a9",
   "metadata": {},
   "outputs": [],
   "source": [
    "genes_11_pos = gene_list[gene_list>0.5]\n",
    "genes_11_neg = gene_list[gene_list<(-0.5)]\n",
    "genes_11_neg = genes_11_neg[order(genes_11_neg)]"
   ]
  },
  {
   "cell_type": "code",
   "execution_count": 22,
   "id": "1efe31f5",
   "metadata": {},
   "outputs": [],
   "source": [
    "mat = matrix(0,nrow = length(genes), ncol = ncol(cluster_summaries))\n",
    "rownames(mat) = genes\n",
    "colnames(mat) = colnames(cluster_summaries)"
   ]
  },
  {
   "cell_type": "code",
   "execution_count": 23,
   "id": "9e6b61e1",
   "metadata": {},
   "outputs": [
    {
     "data": {
      "text/html": [
       "13703"
      ],
      "text/latex": [
       "13703"
      ],
      "text/markdown": [
       "13703"
      ],
      "text/plain": [
       "[1] 13703"
      ]
     },
     "metadata": {},
     "output_type": "display_data"
    },
    {
     "data": {
      "text/html": [
       "12"
      ],
      "text/latex": [
       "12"
      ],
      "text/markdown": [
       "12"
      ],
      "text/plain": [
       "[1] 12"
      ]
     },
     "metadata": {},
     "output_type": "display_data"
    }
   ],
   "source": [
    "nrow(mat)\n",
    "ncol(mat)"
   ]
  },
  {
   "cell_type": "code",
   "execution_count": null,
   "id": "db0c42a1",
   "metadata": {
    "scrolled": true
   },
   "outputs": [],
   "source": [
    "for (cluster in 0:11){\n",
    "    for (gene in genes){\n",
    "        mat[gene,cluster+1] = cor(as.numeric(df1[gene,]), cluster_summaries[,cluster+1])\n",
    "    }\n",
    "}"
   ]
  },
  {
   "cell_type": "code",
   "execution_count": null,
   "id": "9ae572ec",
   "metadata": {},
   "outputs": [],
   "source": [
    "df_mat = as.data.frame(mat)\n",
    "head(df_mat)\n",
    "write.csv(df_mat, \"/hps/nobackup/stegle/users/acuomo/all_scripts/struct_LMM2/sc_neuroseq/May2021/genetic_effect/gene_expression_correlation_cluster_summaries.csv\")"
   ]
  },
  {
   "cell_type": "code",
   "execution_count": null,
   "id": "180965e9",
   "metadata": {},
   "outputs": [],
   "source": [
    "for (i in 1:ncol(df_mat)){\n",
    "    print(hist(df_mat[,i]))\n",
    "}"
   ]
  },
  {
   "cell_type": "code",
   "execution_count": null,
   "id": "ddc4a618",
   "metadata": {},
   "outputs": [],
   "source": []
  }
 ],
 "metadata": {
  "kernelspec": {
   "display_name": "R",
   "language": "R",
   "name": "ir"
  },
  "language_info": {
   "codemirror_mode": "r",
   "file_extension": ".r",
   "mimetype": "text/x-r-source",
   "name": "R",
   "pygments_lexer": "r",
   "version": "3.6.1"
  }
 },
 "nbformat": 4,
 "nbformat_minor": 5
}
