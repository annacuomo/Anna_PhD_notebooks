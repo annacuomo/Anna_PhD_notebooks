{
 "cells": [
  {
   "cell_type": "code",
   "execution_count": 302,
   "metadata": {},
   "outputs": [],
   "source": [
    "mydir = \"/hps/nobackup/stegle/users/acuomo/all_scripts/struct_LMM2/sc_neuroseq/May2021/genetic_effect/MOFA10/\""
   ]
  },
  {
   "cell_type": "code",
   "execution_count": 303,
   "metadata": {},
   "outputs": [
    {
     "data": {
      "text/html": [
       "213"
      ],
      "text/latex": [
       "213"
      ],
      "text/markdown": [
       "213"
      ],
      "text/plain": [
       "[1] 213"
      ]
     },
     "metadata": {},
     "output_type": "display_data"
    },
    {
     "data": {
      "text/html": [
       "<ol class=list-inline>\n",
       "\t<li>'ABHD10_beta_G.tsv'</li>\n",
       "\t<li>'ABHD12B_beta_G.tsv'</li>\n",
       "\t<li>'ACKR2_beta_G.tsv'</li>\n",
       "\t<li>'ADD2_beta_G.tsv'</li>\n",
       "\t<li>'ADSL_beta_G.tsv'</li>\n",
       "\t<li>'AIM1L_beta_G.tsv'</li>\n",
       "</ol>\n"
      ],
      "text/latex": [
       "\\begin{enumerate*}\n",
       "\\item 'ABHD10\\_beta\\_G.tsv'\n",
       "\\item 'ABHD12B\\_beta\\_G.tsv'\n",
       "\\item 'ACKR2\\_beta\\_G.tsv'\n",
       "\\item 'ADD2\\_beta\\_G.tsv'\n",
       "\\item 'ADSL\\_beta\\_G.tsv'\n",
       "\\item 'AIM1L\\_beta\\_G.tsv'\n",
       "\\end{enumerate*}\n"
      ],
      "text/markdown": [
       "1. 'ABHD10_beta_G.tsv'\n",
       "2. 'ABHD12B_beta_G.tsv'\n",
       "3. 'ACKR2_beta_G.tsv'\n",
       "4. 'ADD2_beta_G.tsv'\n",
       "5. 'ADSL_beta_G.tsv'\n",
       "6. 'AIM1L_beta_G.tsv'\n",
       "\n",
       "\n"
      ],
      "text/plain": [
       "[1] \"ABHD10_beta_G.tsv\"  \"ABHD12B_beta_G.tsv\" \"ACKR2_beta_G.tsv\"  \n",
       "[4] \"ADD2_beta_G.tsv\"    \"ADSL_beta_G.tsv\"    \"AIM1L_beta_G.tsv\"  "
      ]
     },
     "metadata": {},
     "output_type": "display_data"
    }
   ],
   "source": [
    "mygenes = list.files(mydir,pattern = \"beta_G.tsv\")\n",
    "length(mygenes)\n",
    "head(mygenes)"
   ]
  },
  {
   "cell_type": "code",
   "execution_count": 304,
   "metadata": {},
   "outputs": [
    {
     "data": {
      "text/html": [
       "<table>\n",
       "<thead><tr><th></th><th scope=col>beta_G</th></tr></thead>\n",
       "<tbody>\n",
       "\t<tr><th scope=row>ABHD10-3_111697439_T_G</th><td>0.3034083</td></tr>\n",
       "</tbody>\n",
       "</table>\n"
      ],
      "text/latex": [
       "\\begin{tabular}{r|l}\n",
       "  & beta\\_G\\\\\n",
       "\\hline\n",
       "\tABHD10-3\\_111697439\\_T\\_G & 0.3034083\\\\\n",
       "\\end{tabular}\n"
      ],
      "text/markdown": [
       "\n",
       "| <!--/--> | beta_G |\n",
       "|---|---|\n",
       "| ABHD10-3_111697439_T_G | 0.3034083 |\n",
       "\n"
      ],
      "text/plain": [
       "                       beta_G   \n",
       "ABHD10-3_111697439_T_G 0.3034083"
      ]
     },
     "metadata": {},
     "output_type": "display_data"
    }
   ],
   "source": [
    "gene = mygenes[1]\n",
    "df0 = read.csv(paste0(mydir,gene),sep='\\t', row.names = 1)\n",
    "chrom = unlist(strsplit(rownames(df0),\"_\"))[1]\n",
    "pos = unlist(strsplit(rownames(df0),\"_\"))[3]\n",
    "alt = unlist(strsplit(rownames(df0),\"_\"))[4]\n",
    "ref = unlist(strsplit(rownames(df0),\"_\"))[5]\n",
    "snp = paste0(chrom,\"_\",pos,\"_\",alt,\"_\",ref)\n",
    "rownames(df0) = paste0(gsub(\"_beta_G.tsv\",\"\",gene),\"-\",snp)\n",
    "head(df0)"
   ]
  },
  {
   "cell_type": "code",
   "execution_count": 305,
   "metadata": {},
   "outputs": [
    {
     "data": {
      "text/html": [
       "213"
      ],
      "text/latex": [
       "213"
      ],
      "text/markdown": [
       "213"
      ],
      "text/plain": [
       "[1] 213"
      ]
     },
     "metadata": {},
     "output_type": "display_data"
    },
    {
     "data": {
      "text/html": [
       "<table>\n",
       "<thead><tr><th></th><th scope=col>beta_G</th></tr></thead>\n",
       "<tbody>\n",
       "\t<tr><th scope=row>ABHD10-3_111697439_T_G</th><td> 0.30340827</td></tr>\n",
       "\t<tr><th scope=row>ABHD12B-14_51328222_C_T</th><td>-0.10783378</td></tr>\n",
       "\t<tr><th scope=row>ACKR2-3_42817129_C_T</th><td>-0.09692314</td></tr>\n",
       "\t<tr><th scope=row>ADD2-2_70894426_A_T</th><td>-0.14525581</td></tr>\n",
       "\t<tr><th scope=row>ADSL-22_40757228_A_C</th><td> 0.09485572</td></tr>\n",
       "\t<tr><th scope=row>AIM1L-1_26673825_C_T</th><td> 0.04175069</td></tr>\n",
       "</tbody>\n",
       "</table>\n"
      ],
      "text/latex": [
       "\\begin{tabular}{r|l}\n",
       "  & beta\\_G\\\\\n",
       "\\hline\n",
       "\tABHD10-3\\_111697439\\_T\\_G &  0.30340827\\\\\n",
       "\tABHD12B-14\\_51328222\\_C\\_T & -0.10783378\\\\\n",
       "\tACKR2-3\\_42817129\\_C\\_T & -0.09692314\\\\\n",
       "\tADD2-2\\_70894426\\_A\\_T & -0.14525581\\\\\n",
       "\tADSL-22\\_40757228\\_A\\_C &  0.09485572\\\\\n",
       "\tAIM1L-1\\_26673825\\_C\\_T &  0.04175069\\\\\n",
       "\\end{tabular}\n"
      ],
      "text/markdown": [
       "\n",
       "| <!--/--> | beta_G |\n",
       "|---|---|\n",
       "| ABHD10-3_111697439_T_G |  0.30340827 |\n",
       "| ABHD12B-14_51328222_C_T | -0.10783378 |\n",
       "| ACKR2-3_42817129_C_T | -0.09692314 |\n",
       "| ADD2-2_70894426_A_T | -0.14525581 |\n",
       "| ADSL-22_40757228_A_C |  0.09485572 |\n",
       "| AIM1L-1_26673825_C_T |  0.04175069 |\n",
       "\n"
      ],
      "text/plain": [
       "                        beta_G     \n",
       "ABHD10-3_111697439_T_G   0.30340827\n",
       "ABHD12B-14_51328222_C_T -0.10783378\n",
       "ACKR2-3_42817129_C_T    -0.09692314\n",
       "ADD2-2_70894426_A_T     -0.14525581\n",
       "ADSL-22_40757228_A_C     0.09485572\n",
       "AIM1L-1_26673825_C_T     0.04175069"
      ]
     },
     "metadata": {},
     "output_type": "display_data"
    }
   ],
   "source": [
    "df = data.frame()\n",
    "for (gene in mygenes){\n",
    "    df_curr = read.csv(paste0(mydir,gene),sep='\\t', row.names = 1)\n",
    "    chrom = unlist(strsplit(rownames(df_curr),\"_\"))[1]\n",
    "    pos = unlist(strsplit(rownames(df_curr),\"_\"))[3]\n",
    "    alt = unlist(strsplit(rownames(df_curr),\"_\"))[4]\n",
    "    ref = unlist(strsplit(rownames(df_curr),\"_\"))[5]\n",
    "    snp = paste0(chrom,\"_\",pos,\"_\",alt,\"_\",ref)\n",
    "    rownames(df_curr) = paste0(gsub(\"_beta_G.tsv\",\"\",gene),\"-\",snp)\n",
    "    df = rbind(df, df_curr)\n",
    "    }\n",
    "nrow(df)\n",
    "head(df)"
   ]
  },
  {
   "cell_type": "code",
   "execution_count": 306,
   "metadata": {},
   "outputs": [],
   "source": [
    "filename = \"/hps/nobackup/stegle/users/acuomo/all_scripts/struct_LMM2/sc_neuroseq/May2021/genetic_effect/MOFA10/eqtl_persistent_genetic_effect_all.txt\"\n",
    "write.table(df, filename, quote = F, sep =\"\\t\")"
   ]
  },
  {
   "cell_type": "code",
   "execution_count": null,
   "metadata": {},
   "outputs": [],
   "source": []
  },
  {
   "cell_type": "code",
   "execution_count": 307,
   "metadata": {},
   "outputs": [
    {
     "data": {
      "text/html": [
       "<ol class=list-inline>\n",
       "\t<li>'ABHD10-3_111697439_T_G'</li>\n",
       "\t<li>'ABHD12B-14_51328222_C_T'</li>\n",
       "\t<li>'ACKR2-3_42817129_C_T'</li>\n",
       "\t<li>'ADD2-2_70894426_A_T'</li>\n",
       "\t<li>'ADSL-22_40757228_A_C'</li>\n",
       "\t<li>'AIM1L-1_26673825_C_T'</li>\n",
       "</ol>\n"
      ],
      "text/latex": [
       "\\begin{enumerate*}\n",
       "\\item 'ABHD10-3\\_111697439\\_T\\_G'\n",
       "\\item 'ABHD12B-14\\_51328222\\_C\\_T'\n",
       "\\item 'ACKR2-3\\_42817129\\_C\\_T'\n",
       "\\item 'ADD2-2\\_70894426\\_A\\_T'\n",
       "\\item 'ADSL-22\\_40757228\\_A\\_C'\n",
       "\\item 'AIM1L-1\\_26673825\\_C\\_T'\n",
       "\\end{enumerate*}\n"
      ],
      "text/markdown": [
       "1. 'ABHD10-3_111697439_T_G'\n",
       "2. 'ABHD12B-14_51328222_C_T'\n",
       "3. 'ACKR2-3_42817129_C_T'\n",
       "4. 'ADD2-2_70894426_A_T'\n",
       "5. 'ADSL-22_40757228_A_C'\n",
       "6. 'AIM1L-1_26673825_C_T'\n",
       "\n",
       "\n"
      ],
      "text/plain": [
       "[1] \"ABHD10-3_111697439_T_G\"  \"ABHD12B-14_51328222_C_T\"\n",
       "[3] \"ACKR2-3_42817129_C_T\"    \"ADD2-2_70894426_A_T\"    \n",
       "[5] \"ADSL-22_40757228_A_C\"    \"AIM1L-1_26673825_C_T\"   "
      ]
     },
     "metadata": {},
     "output_type": "display_data"
    }
   ],
   "source": [
    "eqtls0 = as.character(rownames(df))\n",
    "head(eqtls0)"
   ]
  },
  {
   "cell_type": "code",
   "execution_count": 308,
   "metadata": {
    "scrolled": true
   },
   "outputs": [
    {
     "data": {
      "text/html": [
       "'KRTAP5.AS1-11_1623976_T_C'"
      ],
      "text/latex": [
       "'KRTAP5.AS1-11\\_1623976\\_T\\_C'"
      ],
      "text/markdown": [
       "'KRTAP5.AS1-11_1623976_T_C'"
      ],
      "text/plain": [
       "[1] \"KRTAP5.AS1-11_1623976_T_C\""
      ]
     },
     "metadata": {},
     "output_type": "display_data"
    }
   ],
   "source": [
    "eqtls0[grep(\"KRTAP5\",eqtls0)]"
   ]
  },
  {
   "cell_type": "code",
   "execution_count": 309,
   "metadata": {},
   "outputs": [
    {
     "data": {
      "text/html": [
       "<table>\n",
       "<thead><tr><th></th><th scope=col>snp_id</th><th scope=col>feature</th><th scope=col>feature_old</th></tr></thead>\n",
       "<tbody>\n",
       "\t<tr><th scope=row>1387</th><td>6_42672574_G_A</td><td>PRPH2         </td><td>PRPH2         </td></tr>\n",
       "\t<tr><th scope=row>303</th><td>7_80240689_T_C</td><td>CD36          </td><td>CD36          </td></tr>\n",
       "</tbody>\n",
       "</table>\n"
      ],
      "text/latex": [
       "\\begin{tabular}{r|lll}\n",
       "  & snp\\_id & feature & feature\\_old\\\\\n",
       "\\hline\n",
       "\t1387 & 6\\_42672574\\_G\\_A & PRPH2                & PRPH2               \\\\\n",
       "\t303 & 7\\_80240689\\_T\\_C & CD36                 & CD36                \\\\\n",
       "\\end{tabular}\n"
      ],
      "text/markdown": [
       "\n",
       "| <!--/--> | snp_id | feature | feature_old |\n",
       "|---|---|---|---|\n",
       "| 1387 | 6_42672574_G_A | PRPH2          | PRPH2          |\n",
       "| 303 | 7_80240689_T_C | CD36           | CD36           |\n",
       "\n"
      ],
      "text/plain": [
       "     snp_id         feature feature_old\n",
       "1387 6_42672574_G_A PRPH2   PRPH2      \n",
       "303  7_80240689_T_C CD36    CD36       "
      ]
     },
     "metadata": {},
     "output_type": "display_data"
    }
   ],
   "source": [
    "input_files_dir = \"/hps/nobackup/stegle/users/acuomo/all_scripts/struct_LMM2/sc_neuroseq/May2021/input_files/\"\n",
    "neuro_GxE_file = paste0(input_files_dir,\"neuroseq_eqtl_allDA_FDR5pct_scStructLMM_FDR5pct.csv\")\n",
    "df_neuro = read.csv(neuro_GxE_file, row.names=1)\n",
    "head(df_neuro,2)"
   ]
  },
  {
   "cell_type": "code",
   "execution_count": 310,
   "metadata": {},
   "outputs": [],
   "source": [
    "df_neuro$eqtl = paste0(df_neuro$feature,\"-\",df_neuro$snp_id)\n",
    "eqtls1 = as.character(df_neuro$eqtl)"
   ]
  },
  {
   "cell_type": "code",
   "execution_count": 311,
   "metadata": {},
   "outputs": [
    {
     "data": {
      "text/html": [
       "<ol class=list-inline>\n",
       "\t<li>'PRPH2-6_42672574_G_A'</li>\n",
       "\t<li>'CD36-7_80240689_T_C'</li>\n",
       "\t<li>'RPS26-12_56401085_G_A'</li>\n",
       "\t<li>'CRYBB2-22_25845855_C_G'</li>\n",
       "\t<li>'HLA.DRB5-6_32551716_C_G'</li>\n",
       "\t<li>'GPR171-3_150847047_A_G'</li>\n",
       "</ol>\n"
      ],
      "text/latex": [
       "\\begin{enumerate*}\n",
       "\\item 'PRPH2-6\\_42672574\\_G\\_A'\n",
       "\\item 'CD36-7\\_80240689\\_T\\_C'\n",
       "\\item 'RPS26-12\\_56401085\\_G\\_A'\n",
       "\\item 'CRYBB2-22\\_25845855\\_C\\_G'\n",
       "\\item 'HLA.DRB5-6\\_32551716\\_C\\_G'\n",
       "\\item 'GPR171-3\\_150847047\\_A\\_G'\n",
       "\\end{enumerate*}\n"
      ],
      "text/markdown": [
       "1. 'PRPH2-6_42672574_G_A'\n",
       "2. 'CD36-7_80240689_T_C'\n",
       "3. 'RPS26-12_56401085_G_A'\n",
       "4. 'CRYBB2-22_25845855_C_G'\n",
       "5. 'HLA.DRB5-6_32551716_C_G'\n",
       "6. 'GPR171-3_150847047_A_G'\n",
       "\n",
       "\n"
      ],
      "text/plain": [
       "[1] \"PRPH2-6_42672574_G_A\"    \"CD36-7_80240689_T_C\"    \n",
       "[3] \"RPS26-12_56401085_G_A\"   \"CRYBB2-22_25845855_C_G\" \n",
       "[5] \"HLA.DRB5-6_32551716_C_G\" \"GPR171-3_150847047_A_G\" "
      ]
     },
     "metadata": {},
     "output_type": "display_data"
    }
   ],
   "source": [
    "head(eqtls1)"
   ]
  },
  {
   "cell_type": "code",
   "execution_count": 312,
   "metadata": {},
   "outputs": [
    {
     "data": {
      "text/html": [
       "213"
      ],
      "text/latex": [
       "213"
      ],
      "text/markdown": [
       "213"
      ],
      "text/plain": [
       "[1] 213"
      ]
     },
     "metadata": {},
     "output_type": "display_data"
    },
    {
     "data": {
      "text/html": [
       "213"
      ],
      "text/latex": [
       "213"
      ],
      "text/markdown": [
       "213"
      ],
      "text/plain": [
       "[1] 213"
      ]
     },
     "metadata": {},
     "output_type": "display_data"
    },
    {
     "data": {
      "text/html": [
       "0"
      ],
      "text/latex": [
       "0"
      ],
      "text/markdown": [
       "0"
      ],
      "text/plain": [
       "[1] 0"
      ]
     },
     "metadata": {},
     "output_type": "display_data"
    }
   ],
   "source": [
    "length(eqtls0)\n",
    "length(eqtls1)\n",
    "length(eqtls0[!(eqtls0 %in% eqtls1)])"
   ]
  },
  {
   "cell_type": "code",
   "execution_count": 313,
   "metadata": {},
   "outputs": [
    {
     "data": {
      "text/html": [],
      "text/latex": [],
      "text/markdown": [],
      "text/plain": [
       "character(0)"
      ]
     },
     "metadata": {},
     "output_type": "display_data"
    }
   ],
   "source": [
    "eqtls0[!(eqtls0 %in% eqtls1)]"
   ]
  },
  {
   "cell_type": "code",
   "execution_count": 314,
   "metadata": {},
   "outputs": [
    {
     "data": {
      "text/html": [],
      "text/latex": [],
      "text/markdown": [],
      "text/plain": [
       "character(0)"
      ]
     },
     "metadata": {},
     "output_type": "display_data"
    }
   ],
   "source": [
    "eqtls1[!(eqtls1 %in% eqtls0)]"
   ]
  },
  {
   "cell_type": "code",
   "execution_count": null,
   "metadata": {},
   "outputs": [],
   "source": []
  }
 ],
 "metadata": {
  "kernelspec": {
   "display_name": "R",
   "language": "R",
   "name": "ir"
  },
  "language_info": {
   "codemirror_mode": "r",
   "file_extension": ".r",
   "mimetype": "text/x-r-source",
   "name": "R",
   "pygments_lexer": "r",
   "version": "3.6.1"
  }
 },
 "nbformat": 4,
 "nbformat_minor": 4
}
