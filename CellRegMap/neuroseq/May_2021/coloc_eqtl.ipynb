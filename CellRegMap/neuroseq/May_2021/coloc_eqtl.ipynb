{
 "cells": [
  {
   "cell_type": "code",
   "execution_count": 2,
   "id": "82a46c7a",
   "metadata": {},
   "outputs": [
    {
     "name": "stderr",
     "output_type": "stream",
     "text": [
      "\n",
      "Attaching package: ‘dplyr’\n",
      "\n",
      "The following objects are masked from ‘package:stats’:\n",
      "\n",
      "    filter, lag\n",
      "\n",
      "The following objects are masked from ‘package:base’:\n",
      "\n",
      "    intersect, setdiff, setequal, union\n",
      "\n"
     ]
    }
   ],
   "source": [
    "library(dplyr)"
   ]
  },
  {
   "cell_type": "code",
   "execution_count": 3,
   "id": "9c7d174f",
   "metadata": {},
   "outputs": [],
   "source": [
    "# filename = \"/hps/nobackup/stegle/users/acuomo/all_scripts/sc_neuroseq/coloc/coloc_genes_w_sample_size.txt\"\n",
    "# df = read.csv(filename)\n",
    "# # df = read.csv(filename, sep = \"\\t\", header = F)\n",
    "# # colnames(df) = c(\"gwas_trait\",\"gene_name\",\"eqtl_map\",\"top_GTEx_brain\",\"top_GTEx_non_brain\",\"category\")\n",
    "# # df$X = c()\n",
    "# nrow(df)\n",
    "# length(unique(df$gene_name))\n",
    "# head(df)"
   ]
  },
  {
   "cell_type": "code",
   "execution_count": 4,
   "id": "ab9f9069",
   "metadata": {},
   "outputs": [
    {
     "data": {
      "text/html": [
       "2462"
      ],
      "text/latex": [
       "2462"
      ],
      "text/markdown": [
       "2462"
      ],
      "text/plain": [
       "[1] 2462"
      ]
     },
     "metadata": {},
     "output_type": "display_data"
    },
    {
     "data": {
      "text/html": [
       "856"
      ],
      "text/latex": [
       "856"
      ],
      "text/markdown": [
       "856"
      ],
      "text/plain": [
       "[1] 856"
      ]
     },
     "metadata": {},
     "output_type": "display_data"
    },
    {
     "data": {
      "text/html": [
       "<table>\n",
       "<thead><tr><th></th><th scope=col>study_id</th><th scope=col>locus_id</th><th scope=col>celltype_tissue</th><th scope=col>Ensemble_ID</th><th scope=col>n_variants</th><th scope=col>PP0</th><th scope=col>PP1</th><th scope=col>PP2</th><th scope=col>PP3</th><th scope=col>PP4</th><th scope=col>chromosome_grch37</th><th scope=col>GWAS_index_pos_grch37</th><th scope=col>eQTL_lead_pos_grch37</th></tr></thead>\n",
       "<tbody>\n",
       "\t<tr><th scope=row>2457</th><td>PD             </td><td>15             </td><td>Sert_D52_NONE  </td><td>ENSG00000214941</td><td> 609           </td><td>4.300000e-25   </td><td>4.480000e-22   </td><td>2.008660e-04   </td><td>0.20825133     </td><td>0.7915478      </td><td>17             </td><td>16010920       </td><td>15875147       </td></tr>\n",
       "\t<tr><th scope=row>2458</th><td>PD             </td><td>15             </td><td>Sert_D52_NONE  </td><td>ENSG00000011295</td><td> 582           </td><td>2.270000e-05   </td><td>2.360348e-02   </td><td>2.792960e-04   </td><td>0.28997993     </td><td>0.6861146      </td><td>17             </td><td>16010920       </td><td>15910286       </td></tr>\n",
       "\t<tr><th scope=row>2459</th><td>PD             </td><td>22             </td><td>Sert_D52_NONE  </td><td>ENSG00000198171</td><td> 968           </td><td>4.216662e-02   </td><td>3.292763e-01   </td><td>8.945394e-03   </td><td>0.06930368     </td><td>0.5503080      </td><td>20             </td><td> 3172246       </td><td> 3155375       </td></tr>\n",
       "\t<tr><th scope=row>2460</th><td>PD             </td><td>25             </td><td>Sert_D52_NONE  </td><td>ENSG00000163686</td><td>1358           </td><td>2.214291e-03   </td><td>1.524216e-01   </td><td>2.204194e-03   </td><td>0.15103451     </td><td>0.6921254      </td><td> 3             </td><td>58218352       </td><td>58225974       </td></tr>\n",
       "\t<tr><th scope=row>2461</th><td>PD             </td><td>32             </td><td>Sert_D52_NONE  </td><td>ENSG00000188725</td><td> 940           </td><td>2.560000e-08   </td><td>2.846833e-01   </td><td>5.390000e-09   </td><td>0.05917128     </td><td>0.6561454      </td><td> 5             </td><td>60345424       </td><td>60493200       </td></tr>\n",
       "\t<tr><th scope=row>2462</th><td>PD             </td><td>34             </td><td>Sert_D52_NONE  </td><td>ENSG00000136243</td><td> 695           </td><td>4.720000e-07   </td><td>1.717641e-03   </td><td>2.060000e-05   </td><td>0.07405854     </td><td>0.9242027      </td><td> 7             </td><td>23245569       </td><td>23241866       </td></tr>\n",
       "</tbody>\n",
       "</table>\n"
      ],
      "text/latex": [
       "\\begin{tabular}{r|lllllllllllll}\n",
       "  & study\\_id & locus\\_id & celltype\\_tissue & Ensemble\\_ID & n\\_variants & PP0 & PP1 & PP2 & PP3 & PP4 & chromosome\\_grch37 & GWAS\\_index\\_pos\\_grch37 & eQTL\\_lead\\_pos\\_grch37\\\\\n",
       "\\hline\n",
       "\t2457 & PD                & 15                & Sert\\_D52\\_NONE & ENSG00000214941   &  609              & 4.300000e-25      & 4.480000e-22      & 2.008660e-04      & 0.20825133        & 0.7915478         & 17                & 16010920          & 15875147         \\\\\n",
       "\t2458 & PD                & 15                & Sert\\_D52\\_NONE & ENSG00000011295   &  582              & 2.270000e-05      & 2.360348e-02      & 2.792960e-04      & 0.28997993        & 0.6861146         & 17                & 16010920          & 15910286         \\\\\n",
       "\t2459 & PD                & 22                & Sert\\_D52\\_NONE & ENSG00000198171   &  968              & 4.216662e-02      & 3.292763e-01      & 8.945394e-03      & 0.06930368        & 0.5503080         & 20                &  3172246          &  3155375         \\\\\n",
       "\t2460 & PD                & 25                & Sert\\_D52\\_NONE & ENSG00000163686   & 1358              & 2.214291e-03      & 1.524216e-01      & 2.204194e-03      & 0.15103451        & 0.6921254         &  3                & 58218352          & 58225974         \\\\\n",
       "\t2461 & PD                & 32                & Sert\\_D52\\_NONE & ENSG00000188725   &  940              & 2.560000e-08      & 2.846833e-01      & 5.390000e-09      & 0.05917128        & 0.6561454         &  5                & 60345424          & 60493200         \\\\\n",
       "\t2462 & PD                & 34                & Sert\\_D52\\_NONE & ENSG00000136243   &  695              & 4.720000e-07      & 1.717641e-03      & 2.060000e-05      & 0.07405854        & 0.9242027         &  7                & 23245569          & 23241866         \\\\\n",
       "\\end{tabular}\n"
      ],
      "text/markdown": [
       "\n",
       "| <!--/--> | study_id | locus_id | celltype_tissue | Ensemble_ID | n_variants | PP0 | PP1 | PP2 | PP3 | PP4 | chromosome_grch37 | GWAS_index_pos_grch37 | eQTL_lead_pos_grch37 |\n",
       "|---|---|---|---|---|---|---|---|---|---|---|---|---|---|\n",
       "| 2457 | PD              | 15              | Sert_D52_NONE   | ENSG00000214941 |  609            | 4.300000e-25    | 4.480000e-22    | 2.008660e-04    | 0.20825133      | 0.7915478       | 17              | 16010920        | 15875147        |\n",
       "| 2458 | PD              | 15              | Sert_D52_NONE   | ENSG00000011295 |  582            | 2.270000e-05    | 2.360348e-02    | 2.792960e-04    | 0.28997993      | 0.6861146       | 17              | 16010920        | 15910286        |\n",
       "| 2459 | PD              | 22              | Sert_D52_NONE   | ENSG00000198171 |  968            | 4.216662e-02    | 3.292763e-01    | 8.945394e-03    | 0.06930368      | 0.5503080       | 20              |  3172246        |  3155375        |\n",
       "| 2460 | PD              | 25              | Sert_D52_NONE   | ENSG00000163686 | 1358            | 2.214291e-03    | 1.524216e-01    | 2.204194e-03    | 0.15103451      | 0.6921254       |  3              | 58218352        | 58225974        |\n",
       "| 2461 | PD              | 32              | Sert_D52_NONE   | ENSG00000188725 |  940            | 2.560000e-08    | 2.846833e-01    | 5.390000e-09    | 0.05917128      | 0.6561454       |  5              | 60345424        | 60493200        |\n",
       "| 2462 | PD              | 34              | Sert_D52_NONE   | ENSG00000136243 |  695            | 4.720000e-07    | 1.717641e-03    | 2.060000e-05    | 0.07405854      | 0.9242027       |  7              | 23245569        | 23241866        |\n",
       "\n"
      ],
      "text/plain": [
       "     study_id locus_id celltype_tissue Ensemble_ID     n_variants PP0         \n",
       "2457 PD       15       Sert_D52_NONE   ENSG00000214941  609       4.300000e-25\n",
       "2458 PD       15       Sert_D52_NONE   ENSG00000011295  582       2.270000e-05\n",
       "2459 PD       22       Sert_D52_NONE   ENSG00000198171  968       4.216662e-02\n",
       "2460 PD       25       Sert_D52_NONE   ENSG00000163686 1358       2.214291e-03\n",
       "2461 PD       32       Sert_D52_NONE   ENSG00000188725  940       2.560000e-08\n",
       "2462 PD       34       Sert_D52_NONE   ENSG00000136243  695       4.720000e-07\n",
       "     PP1          PP2          PP3        PP4       chromosome_grch37\n",
       "2457 4.480000e-22 2.008660e-04 0.20825133 0.7915478 17               \n",
       "2458 2.360348e-02 2.792960e-04 0.28997993 0.6861146 17               \n",
       "2459 3.292763e-01 8.945394e-03 0.06930368 0.5503080 20               \n",
       "2460 1.524216e-01 2.204194e-03 0.15103451 0.6921254  3               \n",
       "2461 2.846833e-01 5.390000e-09 0.05917128 0.6561454  5               \n",
       "2462 1.717641e-03 2.060000e-05 0.07405854 0.9242027  7               \n",
       "     GWAS_index_pos_grch37 eQTL_lead_pos_grch37\n",
       "2457 16010920              15875147            \n",
       "2458 16010920              15910286            \n",
       "2459  3172246               3155375            \n",
       "2460 58218352              58225974            \n",
       "2461 60345424              60493200            \n",
       "2462 23245569              23241866            "
      ]
     },
     "metadata": {},
     "output_type": "display_data"
    }
   ],
   "source": [
    "filename = \"/hps/nobackup/stegle/users/acuomo/all_scripts/sc_neuroseq/coloc/SupplementaryTable9_ColocNeuroSeq.csv\"\n",
    "df = read.csv(filename)\n",
    "nrow(df)\n",
    "length(unique(df$Ensemble_ID))\n",
    "tail(df)"
   ]
  },
  {
   "cell_type": "code",
   "execution_count": 5,
   "id": "c2c004ff",
   "metadata": {},
   "outputs": [
    {
     "data": {
      "text/html": [
       "2462"
      ],
      "text/latex": [
       "2462"
      ],
      "text/markdown": [
       "2462"
      ],
      "text/plain": [
       "[1] 2462"
      ]
     },
     "metadata": {},
     "output_type": "display_data"
    },
    {
     "data": {
      "text/html": [
       "<table>\n",
       "<thead><tr><th scope=col>study_id</th><th scope=col>locus_id</th><th scope=col>celltype_tissue</th><th scope=col>Ensemble_ID</th><th scope=col>n_variants</th><th scope=col>PP0</th><th scope=col>PP1</th><th scope=col>PP2</th><th scope=col>PP3</th><th scope=col>PP4</th><th scope=col>chromosome_grch37</th><th scope=col>GWAS_index_pos_grch37</th><th scope=col>eQTL_lead_pos_grch37</th></tr></thead>\n",
       "<tbody>\n",
       "\t<tr><td>GCST003496     </td><td>17             </td><td>FPP_D11        </td><td>ENSG00000051825</td><td> 889           </td><td>4.539090e-04   </td><td>1.798307e-01   </td><td>0.000359974    </td><td>0.14193782     </td><td>0.6774176      </td><td>12             </td><td>123688849      </td><td>123404966      </td></tr>\n",
       "\t<tr><td>GCST003496     </td><td>28             </td><td>FPP_D11        </td><td>ENSG00000103512</td><td> 553           </td><td>3.690000e-14   </td><td>1.440000e-14   </td><td>0.082547906    </td><td>0.03138392     </td><td>0.8860682      </td><td>16             </td><td> 14579694      </td><td> 14975292      </td></tr>\n",
       "\t<tr><td>GCST003496     </td><td>33             </td><td>FPP_D11        </td><td>ENSG00000134490</td><td> 644           </td><td>9.601054e-02   </td><td>2.454605e-01   </td><td>0.041522537    </td><td>0.10564513     </td><td>0.5113613      </td><td>18             </td><td> 20885128      </td><td> 20876486      </td></tr>\n",
       "\t<tr><td>GCST003496     </td><td>58             </td><td>FPP_D11        </td><td>ENSG00000105968</td><td> 838           </td><td>3.853253e-02   </td><td>4.172537e-01   </td><td>0.003175182    </td><td>0.03387564     </td><td>0.5071629      </td><td> 7             </td><td> 44848740      </td><td> 44822731      </td></tr>\n",
       "\t<tr><td>GCST003724     </td><td> 6             </td><td>FPP_D11        </td><td>ENSG00000003249</td><td>1990           </td><td>3.407510e-04   </td><td>5.746611e-03   </td><td>0.007918431    </td><td>0.13268726     </td><td>0.8533069      </td><td>16             </td><td> 89706992      </td><td> 90054018      </td></tr>\n",
       "\t<tr><td>GCST003770     </td><td> 4             </td><td>FPP_D11        </td><td>ENSG00000109920</td><td> 747           </td><td>1.350620e-04   </td><td>6.973547e-02   </td><td>0.000370071    </td><td>0.19033619     </td><td>0.7394232      </td><td>11             </td><td> 47676170      </td><td> 47585348      </td></tr>\n",
       "</tbody>\n",
       "</table>\n"
      ],
      "text/latex": [
       "\\begin{tabular}{r|lllllllllllll}\n",
       " study\\_id & locus\\_id & celltype\\_tissue & Ensemble\\_ID & n\\_variants & PP0 & PP1 & PP2 & PP3 & PP4 & chromosome\\_grch37 & GWAS\\_index\\_pos\\_grch37 & eQTL\\_lead\\_pos\\_grch37\\\\\n",
       "\\hline\n",
       "\t GCST003496      & 17              & FPP\\_D11       & ENSG00000051825 &  889            & 4.539090e-04    & 1.798307e-01    & 0.000359974     & 0.14193782      & 0.6774176       & 12              & 123688849       & 123404966      \\\\\n",
       "\t GCST003496      & 28              & FPP\\_D11       & ENSG00000103512 &  553            & 3.690000e-14    & 1.440000e-14    & 0.082547906     & 0.03138392      & 0.8860682       & 16              &  14579694       &  14975292      \\\\\n",
       "\t GCST003496      & 33              & FPP\\_D11       & ENSG00000134490 &  644            & 9.601054e-02    & 2.454605e-01    & 0.041522537     & 0.10564513      & 0.5113613       & 18              &  20885128       &  20876486      \\\\\n",
       "\t GCST003496      & 58              & FPP\\_D11       & ENSG00000105968 &  838            & 3.853253e-02    & 4.172537e-01    & 0.003175182     & 0.03387564      & 0.5071629       &  7              &  44848740       &  44822731      \\\\\n",
       "\t GCST003724      &  6              & FPP\\_D11       & ENSG00000003249 & 1990            & 3.407510e-04    & 5.746611e-03    & 0.007918431     & 0.13268726      & 0.8533069       & 16              &  89706992       &  90054018      \\\\\n",
       "\t GCST003770      &  4              & FPP\\_D11       & ENSG00000109920 &  747            & 1.350620e-04    & 6.973547e-02    & 0.000370071     & 0.19033619      & 0.7394232       & 11              &  47676170       &  47585348      \\\\\n",
       "\\end{tabular}\n"
      ],
      "text/markdown": [
       "\n",
       "| study_id | locus_id | celltype_tissue | Ensemble_ID | n_variants | PP0 | PP1 | PP2 | PP3 | PP4 | chromosome_grch37 | GWAS_index_pos_grch37 | eQTL_lead_pos_grch37 |\n",
       "|---|---|---|---|---|---|---|---|---|---|---|---|---|\n",
       "| GCST003496      | 17              | FPP_D11         | ENSG00000051825 |  889            | 4.539090e-04    | 1.798307e-01    | 0.000359974     | 0.14193782      | 0.6774176       | 12              | 123688849       | 123404966       |\n",
       "| GCST003496      | 28              | FPP_D11         | ENSG00000103512 |  553            | 3.690000e-14    | 1.440000e-14    | 0.082547906     | 0.03138392      | 0.8860682       | 16              |  14579694       |  14975292       |\n",
       "| GCST003496      | 33              | FPP_D11         | ENSG00000134490 |  644            | 9.601054e-02    | 2.454605e-01    | 0.041522537     | 0.10564513      | 0.5113613       | 18              |  20885128       |  20876486       |\n",
       "| GCST003496      | 58              | FPP_D11         | ENSG00000105968 |  838            | 3.853253e-02    | 4.172537e-01    | 0.003175182     | 0.03387564      | 0.5071629       |  7              |  44848740       |  44822731       |\n",
       "| GCST003724      |  6              | FPP_D11         | ENSG00000003249 | 1990            | 3.407510e-04    | 5.746611e-03    | 0.007918431     | 0.13268726      | 0.8533069       | 16              |  89706992       |  90054018       |\n",
       "| GCST003770      |  4              | FPP_D11         | ENSG00000109920 |  747            | 1.350620e-04    | 6.973547e-02    | 0.000370071     | 0.19033619      | 0.7394232       | 11              |  47676170       |  47585348       |\n",
       "\n"
      ],
      "text/plain": [
       "  study_id   locus_id celltype_tissue Ensemble_ID     n_variants PP0         \n",
       "1 GCST003496 17       FPP_D11         ENSG00000051825  889       4.539090e-04\n",
       "2 GCST003496 28       FPP_D11         ENSG00000103512  553       3.690000e-14\n",
       "3 GCST003496 33       FPP_D11         ENSG00000134490  644       9.601054e-02\n",
       "4 GCST003496 58       FPP_D11         ENSG00000105968  838       3.853253e-02\n",
       "5 GCST003724  6       FPP_D11         ENSG00000003249 1990       3.407510e-04\n",
       "6 GCST003770  4       FPP_D11         ENSG00000109920  747       1.350620e-04\n",
       "  PP1          PP2         PP3        PP4       chromosome_grch37\n",
       "1 1.798307e-01 0.000359974 0.14193782 0.6774176 12               \n",
       "2 1.440000e-14 0.082547906 0.03138392 0.8860682 16               \n",
       "3 2.454605e-01 0.041522537 0.10564513 0.5113613 18               \n",
       "4 4.172537e-01 0.003175182 0.03387564 0.5071629  7               \n",
       "5 5.746611e-03 0.007918431 0.13268726 0.8533069 16               \n",
       "6 6.973547e-02 0.000370071 0.19033619 0.7394232 11               \n",
       "  GWAS_index_pos_grch37 eQTL_lead_pos_grch37\n",
       "1 123688849             123404966           \n",
       "2  14579694              14975292           \n",
       "3  20885128              20876486           \n",
       "4  44848740              44822731           \n",
       "5  89706992              90054018           \n",
       "6  47676170              47585348           "
      ]
     },
     "metadata": {},
     "output_type": "display_data"
    }
   ],
   "source": [
    "# DA_df = df[grep(\"DA\",df$celltype_tissue),]\n",
    "DA_df = df\n",
    "nrow(DA_df)\n",
    "head(DA_df)"
   ]
  },
  {
   "cell_type": "code",
   "execution_count": 6,
   "id": "0ac59e2b",
   "metadata": {},
   "outputs": [
    {
     "data": {
      "text/html": [
       "<table>\n",
       "<thead><tr><th scope=col>hgnc_symbol</th><th scope=col>ensembl_gene_id</th></tr></thead>\n",
       "<tbody>\n",
       "\t<tr><td>SLC25A26       </td><td>ENSG00000261657</td></tr>\n",
       "\t<tr><td>               </td><td>ENSG00000223116</td></tr>\n",
       "</tbody>\n",
       "</table>\n"
      ],
      "text/latex": [
       "\\begin{tabular}{r|ll}\n",
       " hgnc\\_symbol & ensembl\\_gene\\_id\\\\\n",
       "\\hline\n",
       "\t SLC25A26        & ENSG00000261657\\\\\n",
       "\t                 & ENSG00000223116\\\\\n",
       "\\end{tabular}\n"
      ],
      "text/markdown": [
       "\n",
       "| hgnc_symbol | ensembl_gene_id |\n",
       "|---|---|\n",
       "| SLC25A26        | ENSG00000261657 |\n",
       "|                 | ENSG00000223116 |\n",
       "\n"
      ],
      "text/plain": [
       "  hgnc_symbol ensembl_gene_id\n",
       "1 SLC25A26    ENSG00000261657\n",
       "2             ENSG00000223116"
      ]
     },
     "metadata": {},
     "output_type": "display_data"
    }
   ],
   "source": [
    "#load map HGNC to ensembl\n",
    "mapping_df = read.csv('/nfs/leia/research/stegle/dseaton/genomes/hg19/annotation/geneid_mappings/hgnc_symbol2ensembl_gene_id.txt', sep='\\t')\n",
    "head(mapping_df,2)"
   ]
  },
  {
   "cell_type": "code",
   "execution_count": 7,
   "id": "2499cd65",
   "metadata": {},
   "outputs": [
    {
     "name": "stderr",
     "output_type": "stream",
     "text": [
      "Joining, by = \"ensembl_gene_id\"\n"
     ]
    }
   ],
   "source": [
    "DA_df$ensembl_gene_id = DA_df$Ensemble_ID\n",
    "DA_df0 = left_join(DA_df, mapping_df)"
   ]
  },
  {
   "cell_type": "code",
   "execution_count": 8,
   "id": "93b52f86",
   "metadata": {},
   "outputs": [
    {
     "data": {
      "text/html": [
       "<table>\n",
       "<thead><tr><th scope=col>study_id</th><th scope=col>locus_id</th><th scope=col>celltype_tissue</th><th scope=col>Ensemble_ID</th><th scope=col>n_variants</th><th scope=col>PP0</th><th scope=col>PP1</th><th scope=col>PP2</th><th scope=col>PP3</th><th scope=col>PP4</th><th scope=col>chromosome_grch37</th><th scope=col>GWAS_index_pos_grch37</th><th scope=col>eQTL_lead_pos_grch37</th><th scope=col>ensembl_gene_id</th><th scope=col>hgnc_symbol</th></tr></thead>\n",
       "<tbody>\n",
       "\t<tr><td>GCST003496     </td><td>17             </td><td>FPP_D11        </td><td>ENSG00000051825</td><td>889            </td><td>4.53909e-04    </td><td>1.798307e-01   </td><td>0.000359974    </td><td>0.14193782     </td><td>0.6774176      </td><td>12             </td><td>123688849      </td><td>123404966      </td><td>ENSG00000051825</td><td>MPHOSPH9       </td></tr>\n",
       "\t<tr><td>GCST003496     </td><td>28             </td><td>FPP_D11        </td><td>ENSG00000103512</td><td>553            </td><td>3.69000e-14    </td><td>1.440000e-14   </td><td>0.082547906    </td><td>0.03138392     </td><td>0.8860682      </td><td>16             </td><td> 14579694      </td><td> 14975292      </td><td>ENSG00000103512</td><td>NOMO1          </td></tr>\n",
       "</tbody>\n",
       "</table>\n"
      ],
      "text/latex": [
       "\\begin{tabular}{r|lllllllllllllll}\n",
       " study\\_id & locus\\_id & celltype\\_tissue & Ensemble\\_ID & n\\_variants & PP0 & PP1 & PP2 & PP3 & PP4 & chromosome\\_grch37 & GWAS\\_index\\_pos\\_grch37 & eQTL\\_lead\\_pos\\_grch37 & ensembl\\_gene\\_id & hgnc\\_symbol\\\\\n",
       "\\hline\n",
       "\t GCST003496      & 17              & FPP\\_D11       & ENSG00000051825 & 889             & 4.53909e-04     & 1.798307e-01    & 0.000359974     & 0.14193782      & 0.6774176       & 12              & 123688849       & 123404966       & ENSG00000051825 & MPHOSPH9       \\\\\n",
       "\t GCST003496      & 28              & FPP\\_D11       & ENSG00000103512 & 553             & 3.69000e-14     & 1.440000e-14    & 0.082547906     & 0.03138392      & 0.8860682       & 16              &  14579694       &  14975292       & ENSG00000103512 & NOMO1          \\\\\n",
       "\\end{tabular}\n"
      ],
      "text/markdown": [
       "\n",
       "| study_id | locus_id | celltype_tissue | Ensemble_ID | n_variants | PP0 | PP1 | PP2 | PP3 | PP4 | chromosome_grch37 | GWAS_index_pos_grch37 | eQTL_lead_pos_grch37 | ensembl_gene_id | hgnc_symbol |\n",
       "|---|---|---|---|---|---|---|---|---|---|---|---|---|---|---|\n",
       "| GCST003496      | 17              | FPP_D11         | ENSG00000051825 | 889             | 4.53909e-04     | 1.798307e-01    | 0.000359974     | 0.14193782      | 0.6774176       | 12              | 123688849       | 123404966       | ENSG00000051825 | MPHOSPH9        |\n",
       "| GCST003496      | 28              | FPP_D11         | ENSG00000103512 | 553             | 3.69000e-14     | 1.440000e-14    | 0.082547906     | 0.03138392      | 0.8860682       | 16              |  14579694       |  14975292       | ENSG00000103512 | NOMO1           |\n",
       "\n"
      ],
      "text/plain": [
       "  study_id   locus_id celltype_tissue Ensemble_ID     n_variants PP0        \n",
       "1 GCST003496 17       FPP_D11         ENSG00000051825 889        4.53909e-04\n",
       "2 GCST003496 28       FPP_D11         ENSG00000103512 553        3.69000e-14\n",
       "  PP1          PP2         PP3        PP4       chromosome_grch37\n",
       "1 1.798307e-01 0.000359974 0.14193782 0.6774176 12               \n",
       "2 1.440000e-14 0.082547906 0.03138392 0.8860682 16               \n",
       "  GWAS_index_pos_grch37 eQTL_lead_pos_grch37 ensembl_gene_id hgnc_symbol\n",
       "1 123688849             123404966            ENSG00000051825 MPHOSPH9   \n",
       "2  14579694              14975292            ENSG00000103512 NOMO1      "
      ]
     },
     "metadata": {},
     "output_type": "display_data"
    }
   ],
   "source": [
    "head(DA_df0,2)"
   ]
  },
  {
   "cell_type": "code",
   "execution_count": 9,
   "id": "69810723",
   "metadata": {},
   "outputs": [],
   "source": [
    "DA_df0$gene = DA_df0$hgnc_symbol\n",
    "df_coloc = DA_df0[,c(\"gene\",\"PP4\",\"study_id\",\"celltype_tissue\")]"
   ]
  },
  {
   "cell_type": "code",
   "execution_count": 10,
   "id": "6419776a",
   "metadata": {},
   "outputs": [],
   "source": [
    "filename = \"/hps/nobackup/stegle/users/acuomo/all_scripts/struct_LMM2/sc_neuroseq/May2021/genetic_effect/scaled_absolute_eff_sizes_20mofas_as_spatial_downsample_50pct_cluster_labels.csv\"\n",
    "df_clusters = read.csv(filename, row.names=1)"
   ]
  },
  {
   "cell_type": "code",
   "execution_count": 11,
   "id": "6458d729",
   "metadata": {
    "scrolled": true
   },
   "outputs": [
    {
     "data": {
      "text/html": [
       "<table>\n",
       "<thead><tr><th></th><th scope=col>gene</th><th scope=col>label</th><th scope=col>eqtl</th></tr></thead>\n",
       "<tbody>\n",
       "\t<tr><th scope=row>0</th><td>ABHD10                 </td><td>11                     </td><td>ABHD10-3_111697439_T_G </td></tr>\n",
       "\t<tr><th scope=row>1</th><td>ABHD12B                </td><td>10                     </td><td>ABHD12B-14_51328222_C_T</td></tr>\n",
       "</tbody>\n",
       "</table>\n"
      ],
      "text/latex": [
       "\\begin{tabular}{r|lll}\n",
       "  & gene & label & eqtl\\\\\n",
       "\\hline\n",
       "\t0 & ABHD10                        & 11                            & ABHD10-3\\_111697439\\_T\\_G \\\\\n",
       "\t1 & ABHD12B                       & 10                            & ABHD12B-14\\_51328222\\_C\\_T\\\\\n",
       "\\end{tabular}\n"
      ],
      "text/markdown": [
       "\n",
       "| <!--/--> | gene | label | eqtl |\n",
       "|---|---|---|---|\n",
       "| 0 | ABHD10                  | 11                      | ABHD10-3_111697439_T_G  |\n",
       "| 1 | ABHD12B                 | 10                      | ABHD12B-14_51328222_C_T |\n",
       "\n"
      ],
      "text/plain": [
       "  gene    label eqtl                   \n",
       "0 ABHD10  11    ABHD10-3_111697439_T_G \n",
       "1 ABHD12B 10    ABHD12B-14_51328222_C_T"
      ]
     },
     "metadata": {},
     "output_type": "display_data"
    }
   ],
   "source": [
    "df_clusters$eqtl = df_clusters$gene\n",
    "df_clusters$gene = gsub(\"\\\\.\",\"-\",gsub(\"_.*\",\"\",df_clusters$eqtl))\n",
    "df_clusters$eqtl = gsub(\"_-\",\"-\",df_clusters$eqtl)\n",
    "head(df_clusters[,c(\"gene\",\"label\",\"eqtl\")],2)"
   ]
  },
  {
   "cell_type": "code",
   "execution_count": 12,
   "id": "82c1208e",
   "metadata": {},
   "outputs": [
    {
     "data": {
      "text/html": [
       "212"
      ],
      "text/latex": [
       "212"
      ],
      "text/markdown": [
       "212"
      ],
      "text/plain": [
       "[1] 212"
      ]
     },
     "metadata": {},
     "output_type": "display_data"
    }
   ],
   "source": [
    "nrow(df_clusters)"
   ]
  },
  {
   "cell_type": "code",
   "execution_count": 13,
   "id": "e18e3a0f",
   "metadata": {
    "scrolled": true
   },
   "outputs": [
    {
     "data": {
      "text/html": [
       "<table>\n",
       "<thead><tr><th scope=col>gene</th><th scope=col>PP4</th><th scope=col>study_id</th><th scope=col>celltype_tissue</th></tr></thead>\n",
       "<tbody>\n",
       "\t<tr><td>MPHOSPH9  </td><td>0.6774176 </td><td>GCST003496</td><td>FPP_D11   </td></tr>\n",
       "\t<tr><td>NOMO1     </td><td>0.8860682 </td><td>GCST003496</td><td>FPP_D11   </td></tr>\n",
       "</tbody>\n",
       "</table>\n"
      ],
      "text/latex": [
       "\\begin{tabular}{r|llll}\n",
       " gene & PP4 & study\\_id & celltype\\_tissue\\\\\n",
       "\\hline\n",
       "\t MPHOSPH9   & 0.6774176  & GCST003496 & FPP\\_D11 \\\\\n",
       "\t NOMO1      & 0.8860682  & GCST003496 & FPP\\_D11 \\\\\n",
       "\\end{tabular}\n"
      ],
      "text/markdown": [
       "\n",
       "| gene | PP4 | study_id | celltype_tissue |\n",
       "|---|---|---|---|\n",
       "| MPHOSPH9   | 0.6774176  | GCST003496 | FPP_D11    |\n",
       "| NOMO1      | 0.8860682  | GCST003496 | FPP_D11    |\n",
       "\n"
      ],
      "text/plain": [
       "  gene     PP4       study_id   celltype_tissue\n",
       "1 MPHOSPH9 0.6774176 GCST003496 FPP_D11        \n",
       "2 NOMO1    0.8860682 GCST003496 FPP_D11        "
      ]
     },
     "metadata": {},
     "output_type": "display_data"
    }
   ],
   "source": [
    "head(df_coloc,2)"
   ]
  },
  {
   "cell_type": "code",
   "execution_count": 14,
   "id": "f6f03261",
   "metadata": {},
   "outputs": [
    {
     "data": {
      "text/html": [
       "2462"
      ],
      "text/latex": [
       "2462"
      ],
      "text/markdown": [
       "2462"
      ],
      "text/plain": [
       "[1] 2462"
      ]
     },
     "metadata": {},
     "output_type": "display_data"
    }
   ],
   "source": [
    "nrow(df_coloc)"
   ]
  },
  {
   "cell_type": "code",
   "execution_count": 15,
   "id": "a188d151",
   "metadata": {},
   "outputs": [
    {
     "data": {
      "text/html": [
       "<ol class=list-inline>\n",
       "\t<li>'ATG10'</li>\n",
       "\t<li>'CHRNA3'</li>\n",
       "\t<li>'EIF5A'</li>\n",
       "\t<li>'GALNT10'</li>\n",
       "\t<li>'GPR171'</li>\n",
       "\t<li>'KIF17'</li>\n",
       "\t<li>'KLRC2'</li>\n",
       "\t<li>'MAPT-AS1'</li>\n",
       "\t<li>'MAST3'</li>\n",
       "\t<li>'MPHOSPH9'</li>\n",
       "\t<li>'NDST4'</li>\n",
       "\t<li>'PCDHA9'</li>\n",
       "\t<li>'PEX6'</li>\n",
       "\t<li>'PRKCA'</li>\n",
       "\t<li>'PRR7-AS1'</li>\n",
       "\t<li>'PRSS36'</li>\n",
       "\t<li>'RGS14'</li>\n",
       "\t<li>'RHEBL1'</li>\n",
       "\t<li>'SLC35E2'</li>\n",
       "\t<li>'STAT6'</li>\n",
       "\t<li>'SUMF1'</li>\n",
       "\t<li>'TUBGCP4'</li>\n",
       "\t<li>'ZFR2'</li>\n",
       "</ol>\n"
      ],
      "text/latex": [
       "\\begin{enumerate*}\n",
       "\\item 'ATG10'\n",
       "\\item 'CHRNA3'\n",
       "\\item 'EIF5A'\n",
       "\\item 'GALNT10'\n",
       "\\item 'GPR171'\n",
       "\\item 'KIF17'\n",
       "\\item 'KLRC2'\n",
       "\\item 'MAPT-AS1'\n",
       "\\item 'MAST3'\n",
       "\\item 'MPHOSPH9'\n",
       "\\item 'NDST4'\n",
       "\\item 'PCDHA9'\n",
       "\\item 'PEX6'\n",
       "\\item 'PRKCA'\n",
       "\\item 'PRR7-AS1'\n",
       "\\item 'PRSS36'\n",
       "\\item 'RGS14'\n",
       "\\item 'RHEBL1'\n",
       "\\item 'SLC35E2'\n",
       "\\item 'STAT6'\n",
       "\\item 'SUMF1'\n",
       "\\item 'TUBGCP4'\n",
       "\\item 'ZFR2'\n",
       "\\end{enumerate*}\n"
      ],
      "text/markdown": [
       "1. 'ATG10'\n",
       "2. 'CHRNA3'\n",
       "3. 'EIF5A'\n",
       "4. 'GALNT10'\n",
       "5. 'GPR171'\n",
       "6. 'KIF17'\n",
       "7. 'KLRC2'\n",
       "8. 'MAPT-AS1'\n",
       "9. 'MAST3'\n",
       "10. 'MPHOSPH9'\n",
       "11. 'NDST4'\n",
       "12. 'PCDHA9'\n",
       "13. 'PEX6'\n",
       "14. 'PRKCA'\n",
       "15. 'PRR7-AS1'\n",
       "16. 'PRSS36'\n",
       "17. 'RGS14'\n",
       "18. 'RHEBL1'\n",
       "19. 'SLC35E2'\n",
       "20. 'STAT6'\n",
       "21. 'SUMF1'\n",
       "22. 'TUBGCP4'\n",
       "23. 'ZFR2'\n",
       "\n",
       "\n"
      ],
      "text/plain": [
       " [1] \"ATG10\"    \"CHRNA3\"   \"EIF5A\"    \"GALNT10\"  \"GPR171\"   \"KIF17\"   \n",
       " [7] \"KLRC2\"    \"MAPT-AS1\" \"MAST3\"    \"MPHOSPH9\" \"NDST4\"    \"PCDHA9\"  \n",
       "[13] \"PEX6\"     \"PRKCA\"    \"PRR7-AS1\" \"PRSS36\"   \"RGS14\"    \"RHEBL1\"  \n",
       "[19] \"SLC35E2\"  \"STAT6\"    \"SUMF1\"    \"TUBGCP4\"  \"ZFR2\"    "
      ]
     },
     "metadata": {},
     "output_type": "display_data"
    }
   ],
   "source": [
    "unique(df_clusters$gene)[unique(df_clusters$gene) %in% unique(df_coloc$gene)]"
   ]
  },
  {
   "cell_type": "code",
   "execution_count": 21,
   "id": "914020c3",
   "metadata": {
    "scrolled": true
   },
   "outputs": [
    {
     "name": "stderr",
     "output_type": "stream",
     "text": [
      "Joining, by = \"gene\"\n"
     ]
    },
    {
     "data": {
      "text/html": [
       "23"
      ],
      "text/latex": [
       "23"
      ],
      "text/markdown": [
       "23"
      ],
      "text/plain": [
       "[1] 23"
      ]
     },
     "metadata": {},
     "output_type": "display_data"
    },
    {
     "data": {
      "text/html": [
       "<ol class=list-inline>\n",
       "\t<li>GCST006572</li>\n",
       "\t<li>SCZ2</li>\n",
       "\t<li>NEALE2_6138_2</li>\n",
       "\t<li>GCST005232</li>\n",
       "\t<li>PD</li>\n",
       "\t<li>NEALE2_20127_raw</li>\n",
       "\t<li>NEALE2_6138_1</li>\n",
       "\t<li>NEALE2_1970</li>\n",
       "\t<li>GCST003496</li>\n",
       "\t<li>NEALE2_6138_6</li>\n",
       "\t<li>GCST002245</li>\n",
       "\t<li>NEALE2_1980</li>\n",
       "\t<li>GCST003724</li>\n",
       "\t<li>NEALE2_1200</li>\n",
       "\t<li>NEALE2_1990</li>\n",
       "</ol>\n",
       "\n",
       "<details>\n",
       "\t<summary style=display:list-item;cursor:pointer>\n",
       "\t\t<strong>Levels</strong>:\n",
       "\t</summary>\n",
       "\t<ol class=list-inline>\n",
       "\t\t<li>'GCST002245'</li>\n",
       "\t\t<li>'GCST003496'</li>\n",
       "\t\t<li>'GCST003724'</li>\n",
       "\t\t<li>'GCST003770'</li>\n",
       "\t\t<li>'GCST005232'</li>\n",
       "\t\t<li>'GCST005327'</li>\n",
       "\t\t<li>'GCST005902'</li>\n",
       "\t\t<li>'GCST005920'</li>\n",
       "\t\t<li>'GCST005921'</li>\n",
       "\t\t<li>'GCST005923'</li>\n",
       "\t\t<li>'GCST006475'</li>\n",
       "\t\t<li>'GCST006572'</li>\n",
       "\t\t<li>'NEALE2_1200'</li>\n",
       "\t\t<li>'NEALE2_1970'</li>\n",
       "\t\t<li>'NEALE2_1980'</li>\n",
       "\t\t<li>'NEALE2_1990'</li>\n",
       "\t\t<li>'NEALE2_2010'</li>\n",
       "\t\t<li>'NEALE2_20127_raw'</li>\n",
       "\t\t<li>'NEALE2_20128'</li>\n",
       "\t\t<li>'NEALE2_2040'</li>\n",
       "\t\t<li>'NEALE2_6138_1'</li>\n",
       "\t\t<li>'NEALE2_6138_2'</li>\n",
       "\t\t<li>'NEALE2_6138_6'</li>\n",
       "\t\t<li>'PD'</li>\n",
       "\t\t<li>'SCZ2'</li>\n",
       "\t</ol>\n",
       "</details>"
      ],
      "text/latex": [
       "\\begin{enumerate*}\n",
       "\\item GCST006572\n",
       "\\item SCZ2\n",
       "\\item NEALE2\\_6138\\_2\n",
       "\\item GCST005232\n",
       "\\item PD\n",
       "\\item NEALE2\\_20127\\_raw\n",
       "\\item NEALE2\\_6138\\_1\n",
       "\\item NEALE2\\_1970\n",
       "\\item GCST003496\n",
       "\\item NEALE2\\_6138\\_6\n",
       "\\item GCST002245\n",
       "\\item NEALE2\\_1980\n",
       "\\item GCST003724\n",
       "\\item NEALE2\\_1200\n",
       "\\item NEALE2\\_1990\n",
       "\\end{enumerate*}\n",
       "\n",
       "\\emph{Levels}: \\begin{enumerate*}\n",
       "\\item 'GCST002245'\n",
       "\\item 'GCST003496'\n",
       "\\item 'GCST003724'\n",
       "\\item 'GCST003770'\n",
       "\\item 'GCST005232'\n",
       "\\item 'GCST005327'\n",
       "\\item 'GCST005902'\n",
       "\\item 'GCST005920'\n",
       "\\item 'GCST005921'\n",
       "\\item 'GCST005923'\n",
       "\\item 'GCST006475'\n",
       "\\item 'GCST006572'\n",
       "\\item 'NEALE2\\_1200'\n",
       "\\item 'NEALE2\\_1970'\n",
       "\\item 'NEALE2\\_1980'\n",
       "\\item 'NEALE2\\_1990'\n",
       "\\item 'NEALE2\\_2010'\n",
       "\\item 'NEALE2\\_20127\\_raw'\n",
       "\\item 'NEALE2\\_20128'\n",
       "\\item 'NEALE2\\_2040'\n",
       "\\item 'NEALE2\\_6138\\_1'\n",
       "\\item 'NEALE2\\_6138\\_2'\n",
       "\\item 'NEALE2\\_6138\\_6'\n",
       "\\item 'PD'\n",
       "\\item 'SCZ2'\n",
       "\\end{enumerate*}\n"
      ],
      "text/markdown": [
       "1. GCST006572\n",
       "2. SCZ2\n",
       "3. NEALE2_6138_2\n",
       "4. GCST005232\n",
       "5. PD\n",
       "6. NEALE2_20127_raw\n",
       "7. NEALE2_6138_1\n",
       "8. NEALE2_1970\n",
       "9. GCST003496\n",
       "10. NEALE2_6138_6\n",
       "11. GCST002245\n",
       "12. NEALE2_1980\n",
       "13. GCST003724\n",
       "14. NEALE2_1200\n",
       "15. NEALE2_1990\n",
       "\n",
       "\n",
       "\n",
       "**Levels**: 1. 'GCST002245'\n",
       "2. 'GCST003496'\n",
       "3. 'GCST003724'\n",
       "4. 'GCST003770'\n",
       "5. 'GCST005232'\n",
       "6. 'GCST005327'\n",
       "7. 'GCST005902'\n",
       "8. 'GCST005920'\n",
       "9. 'GCST005921'\n",
       "10. 'GCST005923'\n",
       "11. 'GCST006475'\n",
       "12. 'GCST006572'\n",
       "13. 'NEALE2_1200'\n",
       "14. 'NEALE2_1970'\n",
       "15. 'NEALE2_1980'\n",
       "16. 'NEALE2_1990'\n",
       "17. 'NEALE2_2010'\n",
       "18. 'NEALE2_20127_raw'\n",
       "19. 'NEALE2_20128'\n",
       "20. 'NEALE2_2040'\n",
       "21. 'NEALE2_6138_1'\n",
       "22. 'NEALE2_6138_2'\n",
       "23. 'NEALE2_6138_6'\n",
       "24. 'PD'\n",
       "25. 'SCZ2'\n",
       "\n",
       "\n"
      ],
      "text/plain": [
       " [1] GCST006572       SCZ2             NEALE2_6138_2    GCST005232      \n",
       " [5] PD               NEALE2_20127_raw NEALE2_6138_1    NEALE2_1970     \n",
       " [9] GCST003496       NEALE2_6138_6    GCST002245       NEALE2_1980     \n",
       "[13] GCST003724       NEALE2_1200      NEALE2_1990     \n",
       "25 Levels: GCST002245 GCST003496 GCST003724 GCST003770 ... SCZ2"
      ]
     },
     "metadata": {},
     "output_type": "display_data"
    },
    {
     "data": {
      "text/html": [
       "<table>\n",
       "<thead><tr><th></th><th scope=col>gene</th><th scope=col>label</th><th scope=col>eqtl</th><th scope=col>PP4</th><th scope=col>study_id</th><th scope=col>celltype_tissue</th></tr></thead>\n",
       "<tbody>\n",
       "\t<tr><th scope=row>29</th><td>GPR171                </td><td>12                    </td><td>GPR171-3_150847047_A_G</td><td>0.6805391             </td><td>PD                    </td><td>Astro_D52_ROT         </td></tr>\n",
       "</tbody>\n",
       "</table>\n"
      ],
      "text/latex": [
       "\\begin{tabular}{r|llllll}\n",
       "  & gene & label & eqtl & PP4 & study\\_id & celltype\\_tissue\\\\\n",
       "\\hline\n",
       "\t29 & GPR171                       & 12                           & GPR171-3\\_150847047\\_A\\_G & 0.6805391                    & PD                           & Astro\\_D52\\_ROT           \\\\\n",
       "\\end{tabular}\n"
      ],
      "text/markdown": [
       "\n",
       "| <!--/--> | gene | label | eqtl | PP4 | study_id | celltype_tissue |\n",
       "|---|---|---|---|---|---|---|\n",
       "| 29 | GPR171                 | 12                     | GPR171-3_150847047_A_G | 0.6805391              | PD                     | Astro_D52_ROT          |\n",
       "\n"
      ],
      "text/plain": [
       "   gene   label eqtl                   PP4       study_id celltype_tissue\n",
       "29 GPR171 12    GPR171-3_150847047_A_G 0.6805391 PD       Astro_D52_ROT  "
      ]
     },
     "metadata": {},
     "output_type": "display_data"
    }
   ],
   "source": [
    "df_to_plot = inner_join(df_clusters[,c(\"gene\",\"label\",\"eqtl\")], df_coloc)\n",
    "length(unique(df_to_plot$gene))\n",
    "unique(df_to_plot$study_id)\n",
    "df_to_plot[df_to_plot$study_id == \"PD\",]\n",
    "# unique(df_to_plot$gene)"
   ]
  },
  {
   "cell_type": "code",
   "execution_count": 80,
   "id": "dec85203",
   "metadata": {},
   "outputs": [
    {
     "data": {
      "text/html": [
       "<table>\n",
       "<thead><tr><th scope=col>gene</th><th scope=col>label</th><th scope=col>eqtl</th><th scope=col>PP4</th><th scope=col>study_id</th><th scope=col>celltype_tissue</th></tr></thead>\n",
       "<tbody>\n",
       "\t<tr><td>ATG10                    </td><td> 7                       </td><td>ATG10-5_81395824_T_G     </td><td>0.8773539                </td><td>GCST006572               </td><td>DA_D30                   </td></tr>\n",
       "\t<tr><td>ATG10                    </td><td> 7                       </td><td>ATG10-5_81395824_T_G     </td><td>0.5351271                </td><td>GCST006572               </td><td>DA_D52_ROT               </td></tr>\n",
       "\t<tr><td>ATG10                    </td><td> 7                       </td><td>ATG10-5_81395824_T_G     </td><td>0.8461358                </td><td>GCST006572               </td><td>DA_D52_NONE              </td></tr>\n",
       "\t<tr><td>CHRNA3                   </td><td>10                       </td><td>CHRNA3-15_78849034_T_C   </td><td>0.5748824                </td><td>SCZ2                     </td><td>DA_D52_NONE              </td></tr>\n",
       "\t<tr><td>EIF5A                    </td><td> 7                       </td><td>EIF5A-17_7207964_A_C     </td><td>0.5258434                </td><td>NEALE2_6138_2            </td><td>DA_D52_ROT               </td></tr>\n",
       "\t<tr><td>EIF5A                    </td><td> 7                       </td><td>EIF5A-17_7207964_A_C     </td><td>0.5236645                </td><td>NEALE2_6138_2            </td><td>DA_D52_NONE              </td></tr>\n",
       "\t<tr><td>GALNT10                  </td><td>10                       </td><td>GALNT10-5_153526051_G_A  </td><td>0.9802572                </td><td>GCST005232               </td><td>DA_D30                   </td></tr>\n",
       "\t<tr><td>GALNT10                  </td><td>10                       </td><td>GALNT10-5_153526051_G_A  </td><td>0.9303400                </td><td>GCST005232               </td><td>DA_D52_ROT               </td></tr>\n",
       "\t<tr><td>GALNT10                  </td><td>10                       </td><td>GALNT10-5_153526051_G_A  </td><td>0.9807478                </td><td>GCST005232               </td><td>DA_D52_NONE              </td></tr>\n",
       "\t<tr><td>MAPT-AS1                 </td><td> 0                       </td><td>MAPT.AS1-17_43925297_C_T </td><td>0.5093034                </td><td>NEALE2_1970              </td><td>DA_D30                   </td></tr>\n",
       "\t<tr><td>MAST3                    </td><td> 9                       </td><td>MAST3-19_18275532_G_A    </td><td>0.9701860                </td><td>GCST006572               </td><td>DA_D30                   </td></tr>\n",
       "\t<tr><td>MAST3                    </td><td> 9                       </td><td>MAST3-19_18275532_G_A    </td><td>0.9538574                </td><td>GCST006572               </td><td>DA_D52_ROT               </td></tr>\n",
       "\t<tr><td>MAST3                    </td><td> 9                       </td><td>MAST3-19_18275532_G_A    </td><td>0.9683404                </td><td>GCST006572               </td><td>DA_D52_NONE              </td></tr>\n",
       "\t<tr><td>MPHOSPH9                 </td><td> 3                       </td><td>MPHOSPH9-12_123604053_C_T</td><td>0.8508979                </td><td>GCST003496               </td><td>DA_D30                   </td></tr>\n",
       "\t<tr><td>MPHOSPH9                 </td><td> 3                       </td><td>MPHOSPH9-12_123604053_C_T</td><td>0.7702382                </td><td>NEALE2_6138_6            </td><td>DA_D52_ROT               </td></tr>\n",
       "\t<tr><td>MPHOSPH9                 </td><td> 3                       </td><td>MPHOSPH9-12_123604053_C_T</td><td>0.5965651                </td><td>SCZ2                     </td><td>DA_D52_ROT               </td></tr>\n",
       "\t<tr><td>MPHOSPH9                 </td><td> 3                       </td><td>MPHOSPH9-12_123604053_C_T</td><td>0.8172592                </td><td>GCST003496               </td><td>DA_D52_NONE              </td></tr>\n",
       "\t<tr><td>MPHOSPH9                 </td><td> 3                       </td><td>MPHOSPH9-12_123604053_C_T</td><td>0.6619176                </td><td>NEALE2_6138_6            </td><td>DA_D52_NONE              </td></tr>\n",
       "\t<tr><td>MPHOSPH9                 </td><td> 3                       </td><td>MPHOSPH9-12_123604053_C_T</td><td>0.7003568                </td><td>SCZ2                     </td><td>DA_D52_NONE              </td></tr>\n",
       "\t<tr><td>PRR7-AS1                 </td><td> 7                       </td><td>PRR7.AS1-5_176904279_C_G </td><td>0.9599703                </td><td>GCST006572               </td><td>DA_D30                   </td></tr>\n",
       "\t<tr><td>PRR7-AS1                 </td><td> 7                       </td><td>PRR7.AS1-5_176904279_C_G </td><td>0.9674883                </td><td>NEALE2_6138_1            </td><td>DA_D30                   </td></tr>\n",
       "\t<tr><td>PRR7-AS1                 </td><td> 7                       </td><td>PRR7.AS1-5_176904279_C_G </td><td>0.9205356                </td><td>NEALE2_6138_2            </td><td>DA_D30                   </td></tr>\n",
       "\t<tr><td>PRR7-AS1                 </td><td> 7                       </td><td>PRR7.AS1-5_176904279_C_G </td><td>0.9043744                </td><td>GCST006572               </td><td>DA_D52_NONE              </td></tr>\n",
       "\t<tr><td>PRR7-AS1                 </td><td> 7                       </td><td>PRR7.AS1-5_176904279_C_G </td><td>0.9666102                </td><td>NEALE2_6138_1            </td><td>DA_D52_NONE              </td></tr>\n",
       "\t<tr><td>PRR7-AS1                 </td><td> 7                       </td><td>PRR7.AS1-5_176904279_C_G </td><td>0.8789299                </td><td>NEALE2_6138_2            </td><td>DA_D52_NONE              </td></tr>\n",
       "\t<tr><td>PRSS36                   </td><td> 7                       </td><td>PRSS36-16_31117698_C_T   </td><td>0.7592868                </td><td>NEALE2_1980              </td><td>DA_D52_NONE              </td></tr>\n",
       "\t<tr><td>RHEBL1                   </td><td> 2                       </td><td>RHEBL1-12_49464449_A_G   </td><td>0.7150162                </td><td>GCST006572               </td><td>DA_D52_ROT               </td></tr>\n",
       "\t<tr><td>RHEBL1                   </td><td> 2                       </td><td>RHEBL1-12_49464449_A_G   </td><td>0.7722369                </td><td>NEALE2_6138_1            </td><td>DA_D52_ROT               </td></tr>\n",
       "\t<tr><td>RHEBL1                   </td><td> 2                       </td><td>RHEBL1-12_49464449_A_G   </td><td>0.7127373                </td><td>GCST003724               </td><td>DA_D52_NONE              </td></tr>\n",
       "\t<tr><td>RHEBL1                   </td><td> 2                       </td><td>RHEBL1-12_49464449_A_G   </td><td>0.9651229                </td><td>GCST006572               </td><td>DA_D52_NONE              </td></tr>\n",
       "\t<tr><td>RHEBL1                   </td><td> 2                       </td><td>RHEBL1-12_49464449_A_G   </td><td>0.9802562                </td><td>NEALE2_6138_1            </td><td>DA_D52_NONE              </td></tr>\n",
       "\t<tr><td>SLC35E2                  </td><td> 2                       </td><td>SLC35E2-1_1660978_C_A    </td><td>0.5372507                </td><td>NEALE2_1200              </td><td>DA_D52_ROT               </td></tr>\n",
       "\t<tr><td>STAT6                    </td><td> 1                       </td><td>STAT6-12_57509569_C_T    </td><td>0.5121404                </td><td>NEALE2_1200              </td><td>DA_D52_ROT               </td></tr>\n",
       "\t<tr><td>TUBGCP4                  </td><td>11                       </td><td>TUBGCP4-15_43597297_T_A  </td><td>0.8967117                </td><td>NEALE2_1990              </td><td>DA_D52_NONE              </td></tr>\n",
       "</tbody>\n",
       "</table>\n"
      ],
      "text/latex": [
       "\\begin{tabular}{r|llllll}\n",
       " gene & label & eqtl & PP4 & study\\_id & celltype\\_tissue\\\\\n",
       "\\hline\n",
       "\t ATG10                           &  7                              & ATG10-5\\_81395824\\_T\\_G      & 0.8773539                       & GCST006572                      & DA\\_D30                       \\\\\n",
       "\t ATG10                           &  7                              & ATG10-5\\_81395824\\_T\\_G      & 0.5351271                       & GCST006572                      & DA\\_D52\\_ROT                 \\\\\n",
       "\t ATG10                           &  7                              & ATG10-5\\_81395824\\_T\\_G      & 0.8461358                       & GCST006572                      & DA\\_D52\\_NONE                \\\\\n",
       "\t CHRNA3                          & 10                              & CHRNA3-15\\_78849034\\_T\\_C    & 0.5748824                       & SCZ2                            & DA\\_D52\\_NONE                \\\\\n",
       "\t EIF5A                           &  7                              & EIF5A-17\\_7207964\\_A\\_C      & 0.5258434                       & NEALE2\\_6138\\_2               & DA\\_D52\\_ROT                 \\\\\n",
       "\t EIF5A                           &  7                              & EIF5A-17\\_7207964\\_A\\_C      & 0.5236645                       & NEALE2\\_6138\\_2               & DA\\_D52\\_NONE                \\\\\n",
       "\t GALNT10                         & 10                              & GALNT10-5\\_153526051\\_G\\_A   & 0.9802572                       & GCST005232                      & DA\\_D30                       \\\\\n",
       "\t GALNT10                         & 10                              & GALNT10-5\\_153526051\\_G\\_A   & 0.9303400                       & GCST005232                      & DA\\_D52\\_ROT                 \\\\\n",
       "\t GALNT10                         & 10                              & GALNT10-5\\_153526051\\_G\\_A   & 0.9807478                       & GCST005232                      & DA\\_D52\\_NONE                \\\\\n",
       "\t MAPT-AS1                        &  0                              & MAPT.AS1-17\\_43925297\\_C\\_T  & 0.5093034                       & NEALE2\\_1970                   & DA\\_D30                       \\\\\n",
       "\t MAST3                           &  9                              & MAST3-19\\_18275532\\_G\\_A     & 0.9701860                       & GCST006572                      & DA\\_D30                       \\\\\n",
       "\t MAST3                           &  9                              & MAST3-19\\_18275532\\_G\\_A     & 0.9538574                       & GCST006572                      & DA\\_D52\\_ROT                 \\\\\n",
       "\t MAST3                           &  9                              & MAST3-19\\_18275532\\_G\\_A     & 0.9683404                       & GCST006572                      & DA\\_D52\\_NONE                \\\\\n",
       "\t MPHOSPH9                        &  3                              & MPHOSPH9-12\\_123604053\\_C\\_T & 0.8508979                       & GCST003496                      & DA\\_D30                       \\\\\n",
       "\t MPHOSPH9                        &  3                              & MPHOSPH9-12\\_123604053\\_C\\_T & 0.7702382                       & NEALE2\\_6138\\_6               & DA\\_D52\\_ROT                 \\\\\n",
       "\t MPHOSPH9                        &  3                              & MPHOSPH9-12\\_123604053\\_C\\_T & 0.5965651                       & SCZ2                            & DA\\_D52\\_ROT                 \\\\\n",
       "\t MPHOSPH9                        &  3                              & MPHOSPH9-12\\_123604053\\_C\\_T & 0.8172592                       & GCST003496                      & DA\\_D52\\_NONE                \\\\\n",
       "\t MPHOSPH9                        &  3                              & MPHOSPH9-12\\_123604053\\_C\\_T & 0.6619176                       & NEALE2\\_6138\\_6               & DA\\_D52\\_NONE                \\\\\n",
       "\t MPHOSPH9                        &  3                              & MPHOSPH9-12\\_123604053\\_C\\_T & 0.7003568                       & SCZ2                            & DA\\_D52\\_NONE                \\\\\n",
       "\t PRR7-AS1                        &  7                              & PRR7.AS1-5\\_176904279\\_C\\_G  & 0.9599703                       & GCST006572                      & DA\\_D30                       \\\\\n",
       "\t PRR7-AS1                        &  7                              & PRR7.AS1-5\\_176904279\\_C\\_G  & 0.9674883                       & NEALE2\\_6138\\_1               & DA\\_D30                       \\\\\n",
       "\t PRR7-AS1                        &  7                              & PRR7.AS1-5\\_176904279\\_C\\_G  & 0.9205356                       & NEALE2\\_6138\\_2               & DA\\_D30                       \\\\\n",
       "\t PRR7-AS1                        &  7                              & PRR7.AS1-5\\_176904279\\_C\\_G  & 0.9043744                       & GCST006572                      & DA\\_D52\\_NONE                \\\\\n",
       "\t PRR7-AS1                        &  7                              & PRR7.AS1-5\\_176904279\\_C\\_G  & 0.9666102                       & NEALE2\\_6138\\_1               & DA\\_D52\\_NONE                \\\\\n",
       "\t PRR7-AS1                        &  7                              & PRR7.AS1-5\\_176904279\\_C\\_G  & 0.8789299                       & NEALE2\\_6138\\_2               & DA\\_D52\\_NONE                \\\\\n",
       "\t PRSS36                          &  7                              & PRSS36-16\\_31117698\\_C\\_T    & 0.7592868                       & NEALE2\\_1980                   & DA\\_D52\\_NONE                \\\\\n",
       "\t RHEBL1                          &  2                              & RHEBL1-12\\_49464449\\_A\\_G    & 0.7150162                       & GCST006572                      & DA\\_D52\\_ROT                 \\\\\n",
       "\t RHEBL1                          &  2                              & RHEBL1-12\\_49464449\\_A\\_G    & 0.7722369                       & NEALE2\\_6138\\_1               & DA\\_D52\\_ROT                 \\\\\n",
       "\t RHEBL1                          &  2                              & RHEBL1-12\\_49464449\\_A\\_G    & 0.7127373                       & GCST003724                      & DA\\_D52\\_NONE                \\\\\n",
       "\t RHEBL1                          &  2                              & RHEBL1-12\\_49464449\\_A\\_G    & 0.9651229                       & GCST006572                      & DA\\_D52\\_NONE                \\\\\n",
       "\t RHEBL1                          &  2                              & RHEBL1-12\\_49464449\\_A\\_G    & 0.9802562                       & NEALE2\\_6138\\_1               & DA\\_D52\\_NONE                \\\\\n",
       "\t SLC35E2                         &  2                              & SLC35E2-1\\_1660978\\_C\\_A     & 0.5372507                       & NEALE2\\_1200                   & DA\\_D52\\_ROT                 \\\\\n",
       "\t STAT6                           &  1                              & STAT6-12\\_57509569\\_C\\_T     & 0.5121404                       & NEALE2\\_1200                   & DA\\_D52\\_ROT                 \\\\\n",
       "\t TUBGCP4                         & 11                              & TUBGCP4-15\\_43597297\\_T\\_A   & 0.8967117                       & NEALE2\\_1990                   & DA\\_D52\\_NONE                \\\\\n",
       "\\end{tabular}\n"
      ],
      "text/markdown": [
       "\n",
       "| gene | label | eqtl | PP4 | study_id | celltype_tissue |\n",
       "|---|---|---|---|---|---|\n",
       "| ATG10                     |  7                        | ATG10-5_81395824_T_G      | 0.8773539                 | GCST006572                | DA_D30                    |\n",
       "| ATG10                     |  7                        | ATG10-5_81395824_T_G      | 0.5351271                 | GCST006572                | DA_D52_ROT                |\n",
       "| ATG10                     |  7                        | ATG10-5_81395824_T_G      | 0.8461358                 | GCST006572                | DA_D52_NONE               |\n",
       "| CHRNA3                    | 10                        | CHRNA3-15_78849034_T_C    | 0.5748824                 | SCZ2                      | DA_D52_NONE               |\n",
       "| EIF5A                     |  7                        | EIF5A-17_7207964_A_C      | 0.5258434                 | NEALE2_6138_2             | DA_D52_ROT                |\n",
       "| EIF5A                     |  7                        | EIF5A-17_7207964_A_C      | 0.5236645                 | NEALE2_6138_2             | DA_D52_NONE               |\n",
       "| GALNT10                   | 10                        | GALNT10-5_153526051_G_A   | 0.9802572                 | GCST005232                | DA_D30                    |\n",
       "| GALNT10                   | 10                        | GALNT10-5_153526051_G_A   | 0.9303400                 | GCST005232                | DA_D52_ROT                |\n",
       "| GALNT10                   | 10                        | GALNT10-5_153526051_G_A   | 0.9807478                 | GCST005232                | DA_D52_NONE               |\n",
       "| MAPT-AS1                  |  0                        | MAPT.AS1-17_43925297_C_T  | 0.5093034                 | NEALE2_1970               | DA_D30                    |\n",
       "| MAST3                     |  9                        | MAST3-19_18275532_G_A     | 0.9701860                 | GCST006572                | DA_D30                    |\n",
       "| MAST3                     |  9                        | MAST3-19_18275532_G_A     | 0.9538574                 | GCST006572                | DA_D52_ROT                |\n",
       "| MAST3                     |  9                        | MAST3-19_18275532_G_A     | 0.9683404                 | GCST006572                | DA_D52_NONE               |\n",
       "| MPHOSPH9                  |  3                        | MPHOSPH9-12_123604053_C_T | 0.8508979                 | GCST003496                | DA_D30                    |\n",
       "| MPHOSPH9                  |  3                        | MPHOSPH9-12_123604053_C_T | 0.7702382                 | NEALE2_6138_6             | DA_D52_ROT                |\n",
       "| MPHOSPH9                  |  3                        | MPHOSPH9-12_123604053_C_T | 0.5965651                 | SCZ2                      | DA_D52_ROT                |\n",
       "| MPHOSPH9                  |  3                        | MPHOSPH9-12_123604053_C_T | 0.8172592                 | GCST003496                | DA_D52_NONE               |\n",
       "| MPHOSPH9                  |  3                        | MPHOSPH9-12_123604053_C_T | 0.6619176                 | NEALE2_6138_6             | DA_D52_NONE               |\n",
       "| MPHOSPH9                  |  3                        | MPHOSPH9-12_123604053_C_T | 0.7003568                 | SCZ2                      | DA_D52_NONE               |\n",
       "| PRR7-AS1                  |  7                        | PRR7.AS1-5_176904279_C_G  | 0.9599703                 | GCST006572                | DA_D30                    |\n",
       "| PRR7-AS1                  |  7                        | PRR7.AS1-5_176904279_C_G  | 0.9674883                 | NEALE2_6138_1             | DA_D30                    |\n",
       "| PRR7-AS1                  |  7                        | PRR7.AS1-5_176904279_C_G  | 0.9205356                 | NEALE2_6138_2             | DA_D30                    |\n",
       "| PRR7-AS1                  |  7                        | PRR7.AS1-5_176904279_C_G  | 0.9043744                 | GCST006572                | DA_D52_NONE               |\n",
       "| PRR7-AS1                  |  7                        | PRR7.AS1-5_176904279_C_G  | 0.9666102                 | NEALE2_6138_1             | DA_D52_NONE               |\n",
       "| PRR7-AS1                  |  7                        | PRR7.AS1-5_176904279_C_G  | 0.8789299                 | NEALE2_6138_2             | DA_D52_NONE               |\n",
       "| PRSS36                    |  7                        | PRSS36-16_31117698_C_T    | 0.7592868                 | NEALE2_1980               | DA_D52_NONE               |\n",
       "| RHEBL1                    |  2                        | RHEBL1-12_49464449_A_G    | 0.7150162                 | GCST006572                | DA_D52_ROT                |\n",
       "| RHEBL1                    |  2                        | RHEBL1-12_49464449_A_G    | 0.7722369                 | NEALE2_6138_1             | DA_D52_ROT                |\n",
       "| RHEBL1                    |  2                        | RHEBL1-12_49464449_A_G    | 0.7127373                 | GCST003724                | DA_D52_NONE               |\n",
       "| RHEBL1                    |  2                        | RHEBL1-12_49464449_A_G    | 0.9651229                 | GCST006572                | DA_D52_NONE               |\n",
       "| RHEBL1                    |  2                        | RHEBL1-12_49464449_A_G    | 0.9802562                 | NEALE2_6138_1             | DA_D52_NONE               |\n",
       "| SLC35E2                   |  2                        | SLC35E2-1_1660978_C_A     | 0.5372507                 | NEALE2_1200               | DA_D52_ROT                |\n",
       "| STAT6                     |  1                        | STAT6-12_57509569_C_T     | 0.5121404                 | NEALE2_1200               | DA_D52_ROT                |\n",
       "| TUBGCP4                   | 11                        | TUBGCP4-15_43597297_T_A   | 0.8967117                 | NEALE2_1990               | DA_D52_NONE               |\n",
       "\n"
      ],
      "text/plain": [
       "   gene     label eqtl                      PP4       study_id     \n",
       "1  ATG10     7    ATG10-5_81395824_T_G      0.8773539 GCST006572   \n",
       "2  ATG10     7    ATG10-5_81395824_T_G      0.5351271 GCST006572   \n",
       "3  ATG10     7    ATG10-5_81395824_T_G      0.8461358 GCST006572   \n",
       "4  CHRNA3   10    CHRNA3-15_78849034_T_C    0.5748824 SCZ2         \n",
       "5  EIF5A     7    EIF5A-17_7207964_A_C      0.5258434 NEALE2_6138_2\n",
       "6  EIF5A     7    EIF5A-17_7207964_A_C      0.5236645 NEALE2_6138_2\n",
       "7  GALNT10  10    GALNT10-5_153526051_G_A   0.9802572 GCST005232   \n",
       "8  GALNT10  10    GALNT10-5_153526051_G_A   0.9303400 GCST005232   \n",
       "9  GALNT10  10    GALNT10-5_153526051_G_A   0.9807478 GCST005232   \n",
       "10 MAPT-AS1  0    MAPT.AS1-17_43925297_C_T  0.5093034 NEALE2_1970  \n",
       "11 MAST3     9    MAST3-19_18275532_G_A     0.9701860 GCST006572   \n",
       "12 MAST3     9    MAST3-19_18275532_G_A     0.9538574 GCST006572   \n",
       "13 MAST3     9    MAST3-19_18275532_G_A     0.9683404 GCST006572   \n",
       "14 MPHOSPH9  3    MPHOSPH9-12_123604053_C_T 0.8508979 GCST003496   \n",
       "15 MPHOSPH9  3    MPHOSPH9-12_123604053_C_T 0.7702382 NEALE2_6138_6\n",
       "16 MPHOSPH9  3    MPHOSPH9-12_123604053_C_T 0.5965651 SCZ2         \n",
       "17 MPHOSPH9  3    MPHOSPH9-12_123604053_C_T 0.8172592 GCST003496   \n",
       "18 MPHOSPH9  3    MPHOSPH9-12_123604053_C_T 0.6619176 NEALE2_6138_6\n",
       "19 MPHOSPH9  3    MPHOSPH9-12_123604053_C_T 0.7003568 SCZ2         \n",
       "20 PRR7-AS1  7    PRR7.AS1-5_176904279_C_G  0.9599703 GCST006572   \n",
       "21 PRR7-AS1  7    PRR7.AS1-5_176904279_C_G  0.9674883 NEALE2_6138_1\n",
       "22 PRR7-AS1  7    PRR7.AS1-5_176904279_C_G  0.9205356 NEALE2_6138_2\n",
       "23 PRR7-AS1  7    PRR7.AS1-5_176904279_C_G  0.9043744 GCST006572   \n",
       "24 PRR7-AS1  7    PRR7.AS1-5_176904279_C_G  0.9666102 NEALE2_6138_1\n",
       "25 PRR7-AS1  7    PRR7.AS1-5_176904279_C_G  0.8789299 NEALE2_6138_2\n",
       "26 PRSS36    7    PRSS36-16_31117698_C_T    0.7592868 NEALE2_1980  \n",
       "27 RHEBL1    2    RHEBL1-12_49464449_A_G    0.7150162 GCST006572   \n",
       "28 RHEBL1    2    RHEBL1-12_49464449_A_G    0.7722369 NEALE2_6138_1\n",
       "29 RHEBL1    2    RHEBL1-12_49464449_A_G    0.7127373 GCST003724   \n",
       "30 RHEBL1    2    RHEBL1-12_49464449_A_G    0.9651229 GCST006572   \n",
       "31 RHEBL1    2    RHEBL1-12_49464449_A_G    0.9802562 NEALE2_6138_1\n",
       "32 SLC35E2   2    SLC35E2-1_1660978_C_A     0.5372507 NEALE2_1200  \n",
       "33 STAT6     1    STAT6-12_57509569_C_T     0.5121404 NEALE2_1200  \n",
       "34 TUBGCP4  11    TUBGCP4-15_43597297_T_A   0.8967117 NEALE2_1990  \n",
       "   celltype_tissue\n",
       "1  DA_D30         \n",
       "2  DA_D52_ROT     \n",
       "3  DA_D52_NONE    \n",
       "4  DA_D52_NONE    \n",
       "5  DA_D52_ROT     \n",
       "6  DA_D52_NONE    \n",
       "7  DA_D30         \n",
       "8  DA_D52_ROT     \n",
       "9  DA_D52_NONE    \n",
       "10 DA_D30         \n",
       "11 DA_D30         \n",
       "12 DA_D52_ROT     \n",
       "13 DA_D52_NONE    \n",
       "14 DA_D30         \n",
       "15 DA_D52_ROT     \n",
       "16 DA_D52_ROT     \n",
       "17 DA_D52_NONE    \n",
       "18 DA_D52_NONE    \n",
       "19 DA_D52_NONE    \n",
       "20 DA_D30         \n",
       "21 DA_D30         \n",
       "22 DA_D30         \n",
       "23 DA_D52_NONE    \n",
       "24 DA_D52_NONE    \n",
       "25 DA_D52_NONE    \n",
       "26 DA_D52_NONE    \n",
       "27 DA_D52_ROT     \n",
       "28 DA_D52_ROT     \n",
       "29 DA_D52_NONE    \n",
       "30 DA_D52_NONE    \n",
       "31 DA_D52_NONE    \n",
       "32 DA_D52_ROT     \n",
       "33 DA_D52_ROT     \n",
       "34 DA_D52_NONE    "
      ]
     },
     "metadata": {},
     "output_type": "display_data"
    }
   ],
   "source": [
    "df_to_plot"
   ]
  },
  {
   "cell_type": "code",
   "execution_count": 23,
   "id": "8f9cd886",
   "metadata": {},
   "outputs": [],
   "source": [
    "write.csv(df_to_plot,\"/hps/nobackup/stegle/users/acuomo/all_scripts/struct_LMM2/sc_neuroseq/coloc_GxC.csv\")"
   ]
  },
  {
   "cell_type": "code",
   "execution_count": null,
   "id": "ef424743",
   "metadata": {},
   "outputs": [],
   "source": []
  }
 ],
 "metadata": {
  "kernelspec": {
   "display_name": "R",
   "language": "R",
   "name": "ir"
  },
  "language_info": {
   "codemirror_mode": "r",
   "file_extension": ".r",
   "mimetype": "text/x-r-source",
   "name": "R",
   "pygments_lexer": "r",
   "version": "3.6.1"
  }
 },
 "nbformat": 4,
 "nbformat_minor": 5
}
