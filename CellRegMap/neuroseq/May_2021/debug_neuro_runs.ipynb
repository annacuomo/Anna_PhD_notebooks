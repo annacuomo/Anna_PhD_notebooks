{
 "cells": [
  {
   "cell_type": "code",
   "execution_count": 277,
   "id": "01d3d84f",
   "metadata": {},
   "outputs": [],
   "source": [
    "DA_eqtl_file = \"/hps/nobackup/stegle/users/acuomo/all_scripts/struct_LMM2/sc_neuroseq/May2021/input_files/DA_eqtl_allconditions_FDR5pct.csv\""
   ]
  },
  {
   "cell_type": "code",
   "execution_count": 278,
   "id": "b54d4dfa",
   "metadata": {},
   "outputs": [
    {
     "data": {
      "text/html": [
       "<table>\n",
       "<thead><tr><th scope=col>snp_id</th><th scope=col>ensembl_gene_id</th><th scope=col>hgnc_symbol</th><th scope=col>feature</th></tr></thead>\n",
       "<tbody>\n",
       "\t<tr><td>9_36382790_A_G </td><td>ENSG00000137075</td><td>RNF38          </td><td>RNF38          </td></tr>\n",
       "\t<tr><td>9_37422656_C_T </td><td>ENSG00000137106</td><td>GRHPR          </td><td>GRHPR          </td></tr>\n",
       "\t<tr><td>9_35595006_T_G </td><td>ENSG00000198722</td><td>UNC13B         </td><td>UNC13B         </td></tr>\n",
       "\t<tr><td>5_79950781_A_G </td><td>ENSG00000113318</td><td>MSH3           </td><td>MSH3           </td></tr>\n",
       "\t<tr><td>5_81395824_T_G </td><td>ENSG00000152348</td><td>ATG10          </td><td>ATG10          </td></tr>\n",
       "\t<tr><td>5_76728085_C_T </td><td>ENSG00000164253</td><td>WDR41          </td><td>WDR41          </td></tr>\n",
       "</tbody>\n",
       "</table>\n"
      ],
      "text/latex": [
       "\\begin{tabular}{r|llll}\n",
       " snp\\_id & ensembl\\_gene\\_id & hgnc\\_symbol & feature\\\\\n",
       "\\hline\n",
       "\t 9\\_36382790\\_A\\_G & ENSG00000137075      & RNF38                & RNF38               \\\\\n",
       "\t 9\\_37422656\\_C\\_T & ENSG00000137106      & GRHPR                & GRHPR               \\\\\n",
       "\t 9\\_35595006\\_T\\_G & ENSG00000198722      & UNC13B               & UNC13B              \\\\\n",
       "\t 5\\_79950781\\_A\\_G & ENSG00000113318      & MSH3                 & MSH3                \\\\\n",
       "\t 5\\_81395824\\_T\\_G & ENSG00000152348      & ATG10                & ATG10               \\\\\n",
       "\t 5\\_76728085\\_C\\_T & ENSG00000164253      & WDR41                & WDR41               \\\\\n",
       "\\end{tabular}\n"
      ],
      "text/markdown": [
       "\n",
       "| snp_id | ensembl_gene_id | hgnc_symbol | feature |\n",
       "|---|---|---|---|\n",
       "| 9_36382790_A_G  | ENSG00000137075 | RNF38           | RNF38           |\n",
       "| 9_37422656_C_T  | ENSG00000137106 | GRHPR           | GRHPR           |\n",
       "| 9_35595006_T_G  | ENSG00000198722 | UNC13B          | UNC13B          |\n",
       "| 5_79950781_A_G  | ENSG00000113318 | MSH3            | MSH3            |\n",
       "| 5_81395824_T_G  | ENSG00000152348 | ATG10           | ATG10           |\n",
       "| 5_76728085_C_T  | ENSG00000164253 | WDR41           | WDR41           |\n",
       "\n"
      ],
      "text/plain": [
       "  snp_id         ensembl_gene_id hgnc_symbol feature\n",
       "1 9_36382790_A_G ENSG00000137075 RNF38       RNF38  \n",
       "2 9_37422656_C_T ENSG00000137106 GRHPR       GRHPR  \n",
       "3 9_35595006_T_G ENSG00000198722 UNC13B      UNC13B \n",
       "4 5_79950781_A_G ENSG00000113318 MSH3        MSH3   \n",
       "5 5_81395824_T_G ENSG00000152348 ATG10       ATG10  \n",
       "6 5_76728085_C_T ENSG00000164253 WDR41       WDR41  "
      ]
     },
     "metadata": {},
     "output_type": "display_data"
    }
   ],
   "source": [
    "df0 = read.csv(DA_eqtl_file)\n",
    "head(df0)"
   ]
  },
  {
   "cell_type": "code",
   "execution_count": 279,
   "id": "9cd618b8",
   "metadata": {},
   "outputs": [],
   "source": [
    "DA_eqtl_GxE_file = \"/hps/nobackup/stegle/users/acuomo/all_scripts/struct_LMM2/sc_neuroseq/May2021/input_files/neuroseq_eqtl_allDA_FDR5pct_scStructLMM_FDR5pct.csv\""
   ]
  },
  {
   "cell_type": "code",
   "execution_count": 280,
   "id": "291b90de",
   "metadata": {},
   "outputs": [
    {
     "data": {
      "text/html": [
       "<table>\n",
       "<thead><tr><th></th><th scope=col>snp_id</th><th scope=col>feature</th><th scope=col>feature_old</th></tr></thead>\n",
       "<tbody>\n",
       "\t<tr><th scope=row>1387</th><td>6_42672574_G_A </td><td>PRPH2          </td><td>PRPH2          </td></tr>\n",
       "\t<tr><th scope=row>303</th><td>7_80240689_T_C </td><td>CD36           </td><td>CD36           </td></tr>\n",
       "\t<tr><th scope=row>1353</th><td>12_56401085_G_A</td><td>RPS26          </td><td>RPS26          </td></tr>\n",
       "\t<tr><th scope=row>1672</th><td>22_25845855_C_G</td><td>CRYBB2         </td><td>CRYBB2         </td></tr>\n",
       "\t<tr><th scope=row>1082</th><td>6_32551716_C_G </td><td>HLA.DRB5       </td><td>HLA            </td></tr>\n",
       "\t<tr><th scope=row>1713</th><td>3_150847047_A_G</td><td>GPR171         </td><td>GPR171         </td></tr>\n",
       "</tbody>\n",
       "</table>\n"
      ],
      "text/latex": [
       "\\begin{tabular}{r|lll}\n",
       "  & snp\\_id & feature & feature\\_old\\\\\n",
       "\\hline\n",
       "\t1387 & 6\\_42672574\\_G\\_A  & PRPH2                 & PRPH2                \\\\\n",
       "\t303 & 7\\_80240689\\_T\\_C  & CD36                  & CD36                 \\\\\n",
       "\t1353 & 12\\_56401085\\_G\\_A & RPS26                 & RPS26                \\\\\n",
       "\t1672 & 22\\_25845855\\_C\\_G & CRYBB2                & CRYBB2               \\\\\n",
       "\t1082 & 6\\_32551716\\_C\\_G  & HLA.DRB5              & HLA                  \\\\\n",
       "\t1713 & 3\\_150847047\\_A\\_G & GPR171                & GPR171               \\\\\n",
       "\\end{tabular}\n"
      ],
      "text/markdown": [
       "\n",
       "| <!--/--> | snp_id | feature | feature_old |\n",
       "|---|---|---|---|\n",
       "| 1387 | 6_42672574_G_A  | PRPH2           | PRPH2           |\n",
       "| 303 | 7_80240689_T_C  | CD36            | CD36            |\n",
       "| 1353 | 12_56401085_G_A | RPS26           | RPS26           |\n",
       "| 1672 | 22_25845855_C_G | CRYBB2          | CRYBB2          |\n",
       "| 1082 | 6_32551716_C_G  | HLA.DRB5        | HLA             |\n",
       "| 1713 | 3_150847047_A_G | GPR171          | GPR171          |\n",
       "\n"
      ],
      "text/plain": [
       "     snp_id          feature  feature_old\n",
       "1387 6_42672574_G_A  PRPH2    PRPH2      \n",
       "303  7_80240689_T_C  CD36     CD36       \n",
       "1353 12_56401085_G_A RPS26    RPS26      \n",
       "1672 22_25845855_C_G CRYBB2   CRYBB2     \n",
       "1082 6_32551716_C_G  HLA.DRB5 HLA        \n",
       "1713 3_150847047_A_G GPR171   GPR171     "
      ]
     },
     "metadata": {},
     "output_type": "display_data"
    }
   ],
   "source": [
    "df1 = read.csv(DA_eqtl_GxE_file, row.names=1)\n",
    "head(df1)"
   ]
  },
  {
   "cell_type": "code",
   "execution_count": 281,
   "id": "2dfc1c39",
   "metadata": {},
   "outputs": [
    {
     "data": {
      "text/html": [
       "1374"
      ],
      "text/latex": [
       "1374"
      ],
      "text/markdown": [
       "1374"
      ],
      "text/plain": [
       "[1] 1374"
      ]
     },
     "metadata": {},
     "output_type": "display_data"
    },
    {
     "data": {
      "text/html": [
       "2354"
      ],
      "text/latex": [
       "2354"
      ],
      "text/markdown": [
       "2354"
      ],
      "text/plain": [
       "[1] 2354"
      ]
     },
     "metadata": {},
     "output_type": "display_data"
    }
   ],
   "source": [
    "genes0 = as.character(unique(df0$feature))\n",
    "length(genes0)\n",
    "nrow(df0)"
   ]
  },
  {
   "cell_type": "code",
   "execution_count": 282,
   "id": "b6e30534",
   "metadata": {},
   "outputs": [
    {
     "data": {
      "text/html": [
       "213"
      ],
      "text/latex": [
       "213"
      ],
      "text/markdown": [
       "213"
      ],
      "text/plain": [
       "[1] 213"
      ]
     },
     "metadata": {},
     "output_type": "display_data"
    },
    {
     "data": {
      "text/html": [
       "213"
      ],
      "text/latex": [
       "213"
      ],
      "text/markdown": [
       "213"
      ],
      "text/plain": [
       "[1] 213"
      ]
     },
     "metadata": {},
     "output_type": "display_data"
    }
   ],
   "source": [
    "genes1 = as.character(unique(df1$feature))\n",
    "length(genes1)\n",
    "nrow(df1)"
   ]
  },
  {
   "cell_type": "code",
   "execution_count": 283,
   "id": "99b0bf8b",
   "metadata": {},
   "outputs": [
    {
     "data": {
      "text/html": [
       "213"
      ],
      "text/latex": [
       "213"
      ],
      "text/markdown": [
       "213"
      ],
      "text/plain": [
       "[1] 213"
      ]
     },
     "metadata": {},
     "output_type": "display_data"
    }
   ],
   "source": [
    "length(genes1[genes1 %in% genes0])"
   ]
  },
  {
   "cell_type": "code",
   "execution_count": 284,
   "id": "d5664c50",
   "metadata": {},
   "outputs": [
    {
     "data": {
      "text/html": [],
      "text/latex": [],
      "text/markdown": [],
      "text/plain": [
       "character(0)"
      ]
     },
     "metadata": {},
     "output_type": "display_data"
    }
   ],
   "source": [
    "genes1[!(genes1 %in% genes0)]"
   ]
  },
  {
   "cell_type": "code",
   "execution_count": 285,
   "id": "a8fe18c0",
   "metadata": {},
   "outputs": [],
   "source": [
    "# genes0[grep(\"HLA\",genes0)]\n",
    "# genes0[grep(\"KRTAP5\",genes0)]\n",
    "# genes0[grep(\"PRR7\",genes0)]\n",
    "# genes0[grep(\"ATE1\",genes0)]\n",
    "# genes0[grep(\"THAP9\",genes0)]\n",
    "# genes0[grep(\"RPL17\",genes0)]\n",
    "# genes0[grep(\"RBM26\",genes0)]\n",
    "# genes0[grep(\"PSMD5\",genes0)]\n",
    "# genes0[grep(\"MAPT\",genes0)]\n",
    "# genes0[grep(\"RNASEH1\",genes0)]\n",
    "# genes0[grep(\"TRAF3IP2\",genes0)]"
   ]
  },
  {
   "cell_type": "code",
   "execution_count": 286,
   "id": "f0d0f34f",
   "metadata": {},
   "outputs": [],
   "source": [
    "df1$feature = as.character(df1$feature)\n",
    "df1$feature_old = df1$feature\n",
    "df1[df1$feature_old == 'HLA',\"feature\"] = 'HLA.DRB5'"
   ]
  },
  {
   "cell_type": "code",
   "execution_count": 287,
   "id": "6ab0cd90",
   "metadata": {},
   "outputs": [
    {
     "data": {
      "text/html": [
       "<table>\n",
       "<thead><tr><th scope=col>snp_id</th><th scope=col>feature</th><th scope=col>feature_old</th></tr></thead>\n",
       "<tbody>\n",
       "</tbody>\n",
       "</table>\n"
      ],
      "text/latex": [
       "\\begin{tabular}{r|lll}\n",
       " snp\\_id & feature & feature\\_old\\\\\n",
       "\\hline\n",
       "\\end{tabular}\n"
      ],
      "text/markdown": [
       "\n",
       "| snp_id | feature | feature_old |\n",
       "|---|---|---|\n",
       "\n"
      ],
      "text/plain": [
       "     snp_id feature feature_old"
      ]
     },
     "metadata": {},
     "output_type": "display_data"
    }
   ],
   "source": [
    "df1[df1$feature_old == 'HLA',]"
   ]
  },
  {
   "cell_type": "code",
   "execution_count": 288,
   "id": "ed020fda",
   "metadata": {},
   "outputs": [],
   "source": [
    "# df1[df1$feature_old == 'KRTAP5',\"feature\"] = 'KRTAP5.AS1'\n",
    "# df1[df1$feature_old == 'PRR7',\"feature\"] = 'PRR7.AS1'\n",
    "# df1[df1$feature_old == 'ATE1',\"feature\"] = 'ATE1.AS1'\n",
    "# df1[df1$feature_old == 'THAP9',\"feature\"] = 'THAP9.AS1'\n",
    "# df1[df1$feature_old == 'RPL17',\"feature\"] = 'RPL17.C18orf32'\n",
    "# df1[df1$feature_old == 'RBM26',\"feature\"] = 'RBM26.AS1'\n",
    "# df1[df1$feature_old == 'PSMD5',\"feature\"] = 'PSMD5.AS1'\n",
    "# df1[df1$feature_old == 'MAPT',\"feature\"] = 'MAPT.AS1'\n",
    "# df1[df1$feature_old == 'RNASEH1',\"feature\"] = 'RNASEH1.AS1'\n",
    "df1[df1$feature_old == 'TRAF3IP2',\"feature\"] = 'TRAF3IP2.AS1'"
   ]
  },
  {
   "cell_type": "code",
   "execution_count": 289,
   "id": "6763829c",
   "metadata": {},
   "outputs": [],
   "source": [
    "write.csv(df1, DA_eqtl_GxE_file)"
   ]
  },
  {
   "cell_type": "code",
   "execution_count": 290,
   "id": "9971a3c1",
   "metadata": {},
   "outputs": [
    {
     "data": {
      "text/html": [
       "<table>\n",
       "<thead><tr><th></th><th scope=col>gene</th><th scope=col>n_snps</th><th scope=col>chrom</th><th scope=col>pv_raw</th><th scope=col>snpID</th><th scope=col>pv</th><th scope=col>gene_old</th></tr></thead>\n",
       "<tbody>\n",
       "\t<tr><th scope=row>0</th><td>LINC00662      </td><td>1              </td><td>19             </td><td>0.058274791    </td><td>19_28250771_G_A</td><td>0.058274791    </td><td>LINC00662      </td></tr>\n",
       "\t<tr><th scope=row>1</th><td>ATRAID         </td><td>2              </td><td> 2             </td><td>0.663537037    </td><td>2_27389195_A_G </td><td>1.000000000    </td><td>ATRAID         </td></tr>\n",
       "\t<tr><th scope=row>2</th><td>ATRAID         </td><td>2              </td><td> 2             </td><td>0.815934343    </td><td>2_27527246_T_A </td><td>1.000000000    </td><td>ATRAID         </td></tr>\n",
       "\t<tr><th scope=row>3</th><td>CNDP2          </td><td>1              </td><td>18             </td><td>0.107678834    </td><td>18_72159310_T_A</td><td>0.107678834    </td><td>CNDP2          </td></tr>\n",
       "\t<tr><th scope=row>4</th><td>GPR22          </td><td>1              </td><td> 7             </td><td>0.005806852    </td><td>7_106914944_T_C</td><td>0.005806852    </td><td>GPR22          </td></tr>\n",
       "\t<tr><th scope=row>5</th><td>MGST3          </td><td>1              </td><td> 1             </td><td>0.006567903    </td><td>1_165599649_C_T</td><td>0.006567903    </td><td>MGST3          </td></tr>\n",
       "</tbody>\n",
       "</table>\n"
      ],
      "text/latex": [
       "\\begin{tabular}{r|lllllll}\n",
       "  & gene & n\\_snps & chrom & pv\\_raw & snpID & pv & gene\\_old\\\\\n",
       "\\hline\n",
       "\t0 & LINC00662             & 1                     & 19                    & 0.058274791           & 19\\_28250771\\_G\\_A & 0.058274791           & LINC00662            \\\\\n",
       "\t1 & ATRAID                & 2                     &  2                    & 0.663537037           & 2\\_27389195\\_A\\_G  & 1.000000000           & ATRAID               \\\\\n",
       "\t2 & ATRAID                & 2                     &  2                    & 0.815934343           & 2\\_27527246\\_T\\_A  & 1.000000000           & ATRAID               \\\\\n",
       "\t3 & CNDP2                 & 1                     & 18                    & 0.107678834           & 18\\_72159310\\_T\\_A & 0.107678834           & CNDP2                \\\\\n",
       "\t4 & GPR22                 & 1                     &  7                    & 0.005806852           & 7\\_106914944\\_T\\_C & 0.005806852           & GPR22                \\\\\n",
       "\t5 & MGST3                 & 1                     &  1                    & 0.006567903           & 1\\_165599649\\_C\\_T & 0.006567903           & MGST3                \\\\\n",
       "\\end{tabular}\n"
      ],
      "text/markdown": [
       "\n",
       "| <!--/--> | gene | n_snps | chrom | pv_raw | snpID | pv | gene_old |\n",
       "|---|---|---|---|---|---|---|---|\n",
       "| 0 | LINC00662       | 1               | 19              | 0.058274791     | 19_28250771_G_A | 0.058274791     | LINC00662       |\n",
       "| 1 | ATRAID          | 2               |  2              | 0.663537037     | 2_27389195_A_G  | 1.000000000     | ATRAID          |\n",
       "| 2 | ATRAID          | 2               |  2              | 0.815934343     | 2_27527246_T_A  | 1.000000000     | ATRAID          |\n",
       "| 3 | CNDP2           | 1               | 18              | 0.107678834     | 18_72159310_T_A | 0.107678834     | CNDP2           |\n",
       "| 4 | GPR22           | 1               |  7              | 0.005806852     | 7_106914944_T_C | 0.005806852     | GPR22           |\n",
       "| 5 | MGST3           | 1               |  1              | 0.006567903     | 1_165599649_C_T | 0.006567903     | MGST3           |\n",
       "\n"
      ],
      "text/plain": [
       "  gene      n_snps chrom pv_raw      snpID           pv          gene_old \n",
       "0 LINC00662 1      19    0.058274791 19_28250771_G_A 0.058274791 LINC00662\n",
       "1 ATRAID    2       2    0.663537037 2_27389195_A_G  1.000000000 ATRAID   \n",
       "2 ATRAID    2       2    0.815934343 2_27527246_T_A  1.000000000 ATRAID   \n",
       "3 CNDP2     1      18    0.107678834 18_72159310_T_A 0.107678834 CNDP2    \n",
       "4 GPR22     1       7    0.005806852 7_106914944_T_C 0.005806852 GPR22    \n",
       "5 MGST3     1       1    0.006567903 1_165599649_C_T 0.006567903 MGST3    "
      ]
     },
     "metadata": {},
     "output_type": "display_data"
    }
   ],
   "source": [
    "mydir = \"/hps/nobackup/stegle/users/acuomo/all_scripts/struct_LMM2/sc_neuroseq/May2021/\"\n",
    "file = paste0(mydir,\"MOFA/MOFA10/summary.csv\")\n",
    "df = read.csv(file, row.names=1)\n",
    "head(df)"
   ]
  },
  {
   "cell_type": "code",
   "execution_count": 291,
   "id": "f17800a2",
   "metadata": {},
   "outputs": [],
   "source": [
    "df$gene = as.character(df$gene)\n",
    "genes = unique(df$gene)"
   ]
  },
  {
   "cell_type": "code",
   "execution_count": 292,
   "id": "313e4838",
   "metadata": {},
   "outputs": [
    {
     "data": {
      "text/html": [],
      "text/latex": [],
      "text/markdown": [],
      "text/plain": [
       "character(0)"
      ]
     },
     "metadata": {},
     "output_type": "display_data"
    }
   ],
   "source": [
    "genes[!(genes %in% genes0)]"
   ]
  },
  {
   "cell_type": "code",
   "execution_count": 293,
   "id": "5ef63873",
   "metadata": {},
   "outputs": [
    {
     "data": {
      "text/html": [
       "<table>\n",
       "<thead><tr><th></th><th scope=col>snp_id</th><th scope=col>ensembl_gene_id</th><th scope=col>hgnc_symbol</th><th scope=col>feature</th></tr></thead>\n",
       "<tbody>\n",
       "\t<tr><th scope=row>797</th><td>4_68511316_G_A </td><td>ENSG00000033178</td><td>UBA6           </td><td>UBA6           </td></tr>\n",
       "\t<tr><th scope=row>1149</th><td>4_68511316_G_A </td><td>ENSG00000033178</td><td>UBA6           </td><td>UBA6           </td></tr>\n",
       "\t<tr><th scope=row>1150</th><td>4_68586267_G_C </td><td>ENSG00000248049</td><td>UBA6-AS1       </td><td>UBA6.AS1       </td></tr>\n",
       "\t<tr><th scope=row>2354</th><td>4_68474631_T_C </td><td>ENSG00000033178</td><td>UBA6           </td><td>UBA6           </td></tr>\n",
       "</tbody>\n",
       "</table>\n"
      ],
      "text/latex": [
       "\\begin{tabular}{r|llll}\n",
       "  & snp\\_id & ensembl\\_gene\\_id & hgnc\\_symbol & feature\\\\\n",
       "\\hline\n",
       "\t797 & 4\\_68511316\\_G\\_A & ENSG00000033178      & UBA6                 & UBA6                \\\\\n",
       "\t1149 & 4\\_68511316\\_G\\_A & ENSG00000033178      & UBA6                 & UBA6                \\\\\n",
       "\t1150 & 4\\_68586267\\_G\\_C & ENSG00000248049      & UBA6-AS1             & UBA6.AS1            \\\\\n",
       "\t2354 & 4\\_68474631\\_T\\_C & ENSG00000033178      & UBA6                 & UBA6                \\\\\n",
       "\\end{tabular}\n"
      ],
      "text/markdown": [
       "\n",
       "| <!--/--> | snp_id | ensembl_gene_id | hgnc_symbol | feature |\n",
       "|---|---|---|---|---|\n",
       "| 797 | 4_68511316_G_A  | ENSG00000033178 | UBA6            | UBA6            |\n",
       "| 1149 | 4_68511316_G_A  | ENSG00000033178 | UBA6            | UBA6            |\n",
       "| 1150 | 4_68586267_G_C  | ENSG00000248049 | UBA6-AS1        | UBA6.AS1        |\n",
       "| 2354 | 4_68474631_T_C  | ENSG00000033178 | UBA6            | UBA6            |\n",
       "\n"
      ],
      "text/plain": [
       "     snp_id         ensembl_gene_id hgnc_symbol feature \n",
       "797  4_68511316_G_A ENSG00000033178 UBA6        UBA6    \n",
       "1149 4_68511316_G_A ENSG00000033178 UBA6        UBA6    \n",
       "1150 4_68586267_G_C ENSG00000248049 UBA6-AS1    UBA6.AS1\n",
       "2354 4_68474631_T_C ENSG00000033178 UBA6        UBA6    "
      ]
     },
     "metadata": {},
     "output_type": "display_data"
    }
   ],
   "source": [
    "df0[grep(\"UBA6\", df0$feature),]"
   ]
  },
  {
   "cell_type": "code",
   "execution_count": 294,
   "id": "3245d2c7",
   "metadata": {},
   "outputs": [
    {
     "data": {
      "text/html": [
       "<table>\n",
       "<thead><tr><th></th><th scope=col>gene</th><th scope=col>n_snps</th><th scope=col>chrom</th><th scope=col>pv_raw</th><th scope=col>snpID</th><th scope=col>pv</th><th scope=col>gene_old</th></tr></thead>\n",
       "<tbody>\n",
       "\t<tr><th scope=row>1540</th><td>UBA6          </td><td>2             </td><td>4             </td><td>4.595724e-08  </td><td>4_68474631_T_C</td><td>9.191449e-08  </td><td>UBA6          </td></tr>\n",
       "\t<tr><th scope=row>1541</th><td>UBA6          </td><td>2             </td><td>4             </td><td>3.810330e-12  </td><td>4_68511316_G_A</td><td>7.620660e-12  </td><td>UBA6          </td></tr>\n",
       "</tbody>\n",
       "</table>\n"
      ],
      "text/latex": [
       "\\begin{tabular}{r|lllllll}\n",
       "  & gene & n\\_snps & chrom & pv\\_raw & snpID & pv & gene\\_old\\\\\n",
       "\\hline\n",
       "\t1540 & UBA6                 & 2                    & 4                    & 4.595724e-08         & 4\\_68474631\\_T\\_C & 9.191449e-08         & UBA6                \\\\\n",
       "\t1541 & UBA6                 & 2                    & 4                    & 3.810330e-12         & 4\\_68511316\\_G\\_A & 7.620660e-12         & UBA6                \\\\\n",
       "\\end{tabular}\n"
      ],
      "text/markdown": [
       "\n",
       "| <!--/--> | gene | n_snps | chrom | pv_raw | snpID | pv | gene_old |\n",
       "|---|---|---|---|---|---|---|---|\n",
       "| 1540 | UBA6           | 2              | 4              | 4.595724e-08   | 4_68474631_T_C | 9.191449e-08   | UBA6           |\n",
       "| 1541 | UBA6           | 2              | 4              | 3.810330e-12   | 4_68511316_G_A | 7.620660e-12   | UBA6           |\n",
       "\n"
      ],
      "text/plain": [
       "     gene n_snps chrom pv_raw       snpID          pv           gene_old\n",
       "1540 UBA6 2      4     4.595724e-08 4_68474631_T_C 9.191449e-08 UBA6    \n",
       "1541 UBA6 2      4     3.810330e-12 4_68511316_G_A 7.620660e-12 UBA6    "
      ]
     },
     "metadata": {},
     "output_type": "display_data"
    }
   ],
   "source": [
    "df$gene_old = df$gene\n",
    "# df[df$gene_old == 'SRP14',\"gene\"] = 'SRP14.AS1'\n",
    "df[df$gene_old == 'UBA6' & df$snpID %in% c('4_68586267_G_C'),\"gene\"] = 'UBA6.AS1'\n",
    "df[df$gene_old == 'UBA6',]"
   ]
  },
  {
   "cell_type": "code",
   "execution_count": 270,
   "id": "ea269a81",
   "metadata": {},
   "outputs": [],
   "source": [
    "# df$gene_old = df$gene\n",
    "# df[df$gene_old == 'THAP9',\"gene\"] = 'THAP9.AS1'\n",
    "# df[df$gene_old == 'THAP9',]"
   ]
  },
  {
   "cell_type": "code",
   "execution_count": 276,
   "id": "c2cf1b23",
   "metadata": {},
   "outputs": [],
   "source": [
    "write.csv(df, file)"
   ]
  },
  {
   "cell_type": "code",
   "execution_count": 295,
   "id": "998c0c7f",
   "metadata": {},
   "outputs": [
    {
     "data": {
      "text/html": [
       "<table>\n",
       "<thead><tr><th></th><th scope=col>snp_id</th><th scope=col>p_value</th><th scope=col>beta</th><th scope=col>beta_se</th><th scope=col>empirical_feature_p_value</th><th scope=col>feature_chromosome</th><th scope=col>feature_start</th><th scope=col>feature_end</th><th scope=col>n_samples</th><th scope=col>n_e_samples</th><th scope=col>...</th><th scope=col>snp_chromosome</th><th scope=col>snp_position</th><th scope=col>assessed_allele</th><th scope=col>call_rate</th><th scope=col>maf</th><th scope=col>hwe_p</th><th scope=col>feature_id</th><th scope=col>BH_fdr</th><th scope=col>q_value</th><th scope=col>label</th></tr></thead>\n",
       "<tbody>\n",
       "\t<tr><th scope=row>9</th><td>9_36382790_A_G </td><td>3.841554e-09   </td><td>0.2678636      </td><td>0.04547094     </td><td>1.059426e-04   </td><td>9              </td><td>36336393       </td><td>36487545       </td><td>165            </td><td>165            </td><td>...            </td><td>9              </td><td>36382790       </td><td>G              </td><td>1              </td><td>0.2575758      </td><td>0.4164226      </td><td>ENSG00000137075</td><td>2.826764e-03   </td><td>1.610653e-03   </td><td>DA_D30         </td></tr>\n",
       "\t<tr><th scope=row>143</th><td>9_37422656_C_T </td><td>1.080706e-18   </td><td>0.4319122      </td><td>0.04893397     </td><td>1.254483e-09   </td><td>9              </td><td>37422663       </td><td>37436987       </td><td>165            </td><td>165            </td><td>...            </td><td>9              </td><td>37422656       </td><td>T              </td><td>1              </td><td>0.3606061      </td><td>0.6138967      </td><td>ENSG00000137106</td><td>1.482853e-07   </td><td>8.449102e-08   </td><td>DA_D30         </td></tr>\n",
       "</tbody>\n",
       "</table>\n"
      ],
      "text/latex": [
       "\\begin{tabular}{r|llllllllllllllllllllll}\n",
       "  & snp\\_id & p\\_value & beta & beta\\_se & empirical\\_feature\\_p\\_value & feature\\_chromosome & feature\\_start & feature\\_end & n\\_samples & n\\_e\\_samples & ... & snp\\_chromosome & snp\\_position & assessed\\_allele & call\\_rate & maf & hwe\\_p & feature\\_id & BH\\_fdr & q\\_value & label\\\\\n",
       "\\hline\n",
       "\t9 & 9\\_36382790\\_A\\_G & 3.841554e-09         & 0.2678636            & 0.04547094           & 1.059426e-04         & 9                    & 36336393             & 36487545             & 165                  & 165                  & ...                  & 9                    & 36382790             & G                    & 1                    & 0.2575758            & 0.4164226            & ENSG00000137075      & 2.826764e-03         & 1.610653e-03         & DA\\_D30            \\\\\n",
       "\t143 & 9\\_37422656\\_C\\_T & 1.080706e-18         & 0.4319122            & 0.04893397           & 1.254483e-09         & 9                    & 37422663             & 37436987             & 165                  & 165                  & ...                  & 9                    & 37422656             & T                    & 1                    & 0.3606061            & 0.6138967            & ENSG00000137106      & 1.482853e-07         & 8.449102e-08         & DA\\_D30            \\\\\n",
       "\\end{tabular}\n"
      ],
      "text/markdown": [
       "\n",
       "| <!--/--> | snp_id | p_value | beta | beta_se | empirical_feature_p_value | feature_chromosome | feature_start | feature_end | n_samples | n_e_samples | ... | snp_chromosome | snp_position | assessed_allele | call_rate | maf | hwe_p | feature_id | BH_fdr | q_value | label |\n",
       "|---|---|---|---|---|---|---|---|---|---|---|---|---|---|---|---|---|---|---|---|---|---|\n",
       "| 9 | 9_36382790_A_G  | 3.841554e-09    | 0.2678636       | 0.04547094      | 1.059426e-04    | 9               | 36336393        | 36487545        | 165             | 165             | ...             | 9               | 36382790        | G               | 1               | 0.2575758       | 0.4164226       | ENSG00000137075 | 2.826764e-03    | 1.610653e-03    | DA_D30          |\n",
       "| 143 | 9_37422656_C_T  | 1.080706e-18    | 0.4319122       | 0.04893397      | 1.254483e-09    | 9               | 37422663        | 37436987        | 165             | 165             | ...             | 9               | 37422656        | T               | 1               | 0.3606061       | 0.6138967       | ENSG00000137106 | 1.482853e-07    | 8.449102e-08    | DA_D30          |\n",
       "\n"
      ],
      "text/plain": [
       "    snp_id         p_value      beta      beta_se    empirical_feature_p_value\n",
       "9   9_36382790_A_G 3.841554e-09 0.2678636 0.04547094 1.059426e-04             \n",
       "143 9_37422656_C_T 1.080706e-18 0.4319122 0.04893397 1.254483e-09             \n",
       "    feature_chromosome feature_start feature_end n_samples n_e_samples ...\n",
       "9   9                  36336393      36487545    165       165         ...\n",
       "143 9                  37422663      37436987    165       165         ...\n",
       "    snp_chromosome snp_position assessed_allele call_rate maf       hwe_p    \n",
       "9   9              36382790     G               1         0.2575758 0.4164226\n",
       "143 9              37422656     T               1         0.3606061 0.6138967\n",
       "    feature_id      BH_fdr       q_value      label \n",
       "9   ENSG00000137075 2.826764e-03 1.610653e-03 DA_D30\n",
       "143 ENSG00000137106 1.482853e-07 8.449102e-08 DA_D30"
      ]
     },
     "metadata": {},
     "output_type": "display_data"
    }
   ],
   "source": [
    "neuro_eqtl_filename = \"/hps/nobackup/stegle/users/acuomo/all_scripts/sc_neuroseq/eqtl/all_leads_5pct_FDR_Storey.csv\"\n",
    "df_n = read.csv(neuro_eqtl_filename, row.names = 1)\n",
    "df_da = df_n[grep(\"DA\", df_n$label),] \n",
    "head(df_da,2)"
   ]
  },
  {
   "cell_type": "code",
   "execution_count": 296,
   "id": "eca55d7c",
   "metadata": {},
   "outputs": [],
   "source": [
    "features_da = as.character(unique(df_da$feature_id))\n",
    "features0 = as.character(unique(df0$ensembl_gene_id))"
   ]
  },
  {
   "cell_type": "code",
   "execution_count": 297,
   "id": "05a0956e",
   "metadata": {},
   "outputs": [
    {
     "data": {
      "text/html": [
       "<ol class=list-inline>\n",
       "\t<li>'ENSG00000137075'</li>\n",
       "\t<li>'ENSG00000137106'</li>\n",
       "\t<li>'ENSG00000198722'</li>\n",
       "\t<li>'ENSG00000113318'</li>\n",
       "\t<li>'ENSG00000152348'</li>\n",
       "\t<li>'ENSG00000164253'</li>\n",
       "</ol>\n"
      ],
      "text/latex": [
       "\\begin{enumerate*}\n",
       "\\item 'ENSG00000137075'\n",
       "\\item 'ENSG00000137106'\n",
       "\\item 'ENSG00000198722'\n",
       "\\item 'ENSG00000113318'\n",
       "\\item 'ENSG00000152348'\n",
       "\\item 'ENSG00000164253'\n",
       "\\end{enumerate*}\n"
      ],
      "text/markdown": [
       "1. 'ENSG00000137075'\n",
       "2. 'ENSG00000137106'\n",
       "3. 'ENSG00000198722'\n",
       "4. 'ENSG00000113318'\n",
       "5. 'ENSG00000152348'\n",
       "6. 'ENSG00000164253'\n",
       "\n",
       "\n"
      ],
      "text/plain": [
       "[1] \"ENSG00000137075\" \"ENSG00000137106\" \"ENSG00000198722\" \"ENSG00000113318\"\n",
       "[5] \"ENSG00000152348\" \"ENSG00000164253\""
      ]
     },
     "metadata": {},
     "output_type": "display_data"
    },
    {
     "data": {
      "text/html": [
       "<ol class=list-inline>\n",
       "\t<li>'ENSG00000137075'</li>\n",
       "\t<li>'ENSG00000137106'</li>\n",
       "\t<li>'ENSG00000198722'</li>\n",
       "\t<li>'ENSG00000113318'</li>\n",
       "\t<li>'ENSG00000152348'</li>\n",
       "\t<li>'ENSG00000164253'</li>\n",
       "</ol>\n"
      ],
      "text/latex": [
       "\\begin{enumerate*}\n",
       "\\item 'ENSG00000137075'\n",
       "\\item 'ENSG00000137106'\n",
       "\\item 'ENSG00000198722'\n",
       "\\item 'ENSG00000113318'\n",
       "\\item 'ENSG00000152348'\n",
       "\\item 'ENSG00000164253'\n",
       "\\end{enumerate*}\n"
      ],
      "text/markdown": [
       "1. 'ENSG00000137075'\n",
       "2. 'ENSG00000137106'\n",
       "3. 'ENSG00000198722'\n",
       "4. 'ENSG00000113318'\n",
       "5. 'ENSG00000152348'\n",
       "6. 'ENSG00000164253'\n",
       "\n",
       "\n"
      ],
      "text/plain": [
       "[1] \"ENSG00000137075\" \"ENSG00000137106\" \"ENSG00000198722\" \"ENSG00000113318\"\n",
       "[5] \"ENSG00000152348\" \"ENSG00000164253\""
      ]
     },
     "metadata": {},
     "output_type": "display_data"
    }
   ],
   "source": [
    "head(features_da)\n",
    "head(features0)"
   ]
  },
  {
   "cell_type": "code",
   "execution_count": 298,
   "id": "622835c4",
   "metadata": {},
   "outputs": [
    {
     "data": {
      "text/html": [
       "<table>\n",
       "<thead><tr><th scope=col>snp_id</th><th scope=col>ensembl_gene_id</th><th scope=col>hgnc_symbol</th><th scope=col>feature</th></tr></thead>\n",
       "<tbody>\n",
       "</tbody>\n",
       "</table>\n"
      ],
      "text/latex": [
       "\\begin{tabular}{r|llll}\n",
       " snp\\_id & ensembl\\_gene\\_id & hgnc\\_symbol & feature\\\\\n",
       "\\hline\n",
       "\\end{tabular}\n"
      ],
      "text/markdown": [
       "\n",
       "| snp_id | ensembl_gene_id | hgnc_symbol | feature |\n",
       "|---|---|---|---|\n",
       "\n"
      ],
      "text/plain": [
       "     snp_id ensembl_gene_id hgnc_symbol feature"
      ]
     },
     "metadata": {},
     "output_type": "display_data"
    }
   ],
   "source": [
    "df0[df0$feature %in% genes0[!(genes0 %in% genes)],]"
   ]
  },
  {
   "cell_type": "code",
   "execution_count": 299,
   "id": "b1d71392",
   "metadata": {},
   "outputs": [
    {
     "data": {
      "text/html": [
       "1374"
      ],
      "text/latex": [
       "1374"
      ],
      "text/markdown": [
       "1374"
      ],
      "text/plain": [
       "[1] 1374"
      ]
     },
     "metadata": {},
     "output_type": "display_data"
    },
    {
     "data": {
      "text/html": [
       "1374"
      ],
      "text/latex": [
       "1374"
      ],
      "text/markdown": [
       "1374"
      ],
      "text/plain": [
       "[1] 1374"
      ]
     },
     "metadata": {},
     "output_type": "display_data"
    },
    {
     "data": {
      "text/html": [
       "1374"
      ],
      "text/latex": [
       "1374"
      ],
      "text/markdown": [
       "1374"
      ],
      "text/plain": [
       "[1] 1374"
      ]
     },
     "metadata": {},
     "output_type": "display_data"
    }
   ],
   "source": [
    "length(genes)\n",
    "length(genes0)\n",
    "length(features0)"
   ]
  },
  {
   "cell_type": "code",
   "execution_count": 300,
   "id": "7c89f0d9",
   "metadata": {},
   "outputs": [
    {
     "data": {
      "text/html": [],
      "text/latex": [],
      "text/markdown": [],
      "text/plain": [
       "character(0)"
      ]
     },
     "metadata": {},
     "output_type": "display_data"
    }
   ],
   "source": [
    "features0[!(features0 %in% features_da)]"
   ]
  },
  {
   "cell_type": "code",
   "execution_count": null,
   "id": "8accab06",
   "metadata": {},
   "outputs": [],
   "source": []
  }
 ],
 "metadata": {
  "kernelspec": {
   "display_name": "R",
   "language": "R",
   "name": "ir"
  },
  "language_info": {
   "codemirror_mode": "r",
   "file_extension": ".r",
   "mimetype": "text/x-r-source",
   "name": "R",
   "pygments_lexer": "r",
   "version": "3.6.1"
  }
 },
 "nbformat": 4,
 "nbformat_minor": 5
}
