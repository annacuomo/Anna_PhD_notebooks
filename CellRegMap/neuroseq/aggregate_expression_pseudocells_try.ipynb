{
 "cells": [
  {
   "cell_type": "code",
   "execution_count": 1,
   "metadata": {},
   "outputs": [
    {
     "name": "stderr",
     "output_type": "stream",
     "text": [
      "Loading required package: SingleCellExperiment\n",
      "Loading required package: SummarizedExperiment\n",
      "Loading required package: GenomicRanges\n",
      "Loading required package: stats4\n",
      "Loading required package: BiocGenerics\n",
      "Loading required package: parallel\n",
      "\n",
      "Attaching package: ‘BiocGenerics’\n",
      "\n",
      "The following objects are masked from ‘package:parallel’:\n",
      "\n",
      "    clusterApply, clusterApplyLB, clusterCall, clusterEvalQ,\n",
      "    clusterExport, clusterMap, parApply, parCapply, parLapply,\n",
      "    parLapplyLB, parRapply, parSapply, parSapplyLB\n",
      "\n",
      "The following objects are masked from ‘package:stats’:\n",
      "\n",
      "    IQR, mad, sd, var, xtabs\n",
      "\n",
      "The following objects are masked from ‘package:base’:\n",
      "\n",
      "    anyDuplicated, append, as.data.frame, basename, cbind, colnames,\n",
      "    dirname, do.call, duplicated, eval, evalq, Filter, Find, get, grep,\n",
      "    grepl, intersect, is.unsorted, lapply, Map, mapply, match, mget,\n",
      "    order, paste, pmax, pmax.int, pmin, pmin.int, Position, rank,\n",
      "    rbind, Reduce, rownames, sapply, setdiff, sort, table, tapply,\n",
      "    union, unique, unsplit, which, which.max, which.min\n",
      "\n",
      "Loading required package: S4Vectors\n",
      "\n",
      "Attaching package: ‘S4Vectors’\n",
      "\n",
      "The following object is masked from ‘package:base’:\n",
      "\n",
      "    expand.grid\n",
      "\n",
      "Loading required package: IRanges\n",
      "Loading required package: GenomeInfoDb\n",
      "Loading required package: Biobase\n",
      "Welcome to Bioconductor\n",
      "\n",
      "    Vignettes contain introductory material; view with\n",
      "    'browseVignettes()'. To cite Bioconductor, see\n",
      "    'citation(\"Biobase\")', and for packages 'citation(\"pkgname\")'.\n",
      "\n",
      "Loading required package: DelayedArray\n",
      "Loading required package: matrixStats\n",
      "\n",
      "Attaching package: ‘matrixStats’\n",
      "\n",
      "The following objects are masked from ‘package:Biobase’:\n",
      "\n",
      "    anyMissing, rowMedians\n",
      "\n",
      "Loading required package: BiocParallel\n",
      "\n",
      "Attaching package: ‘DelayedArray’\n",
      "\n",
      "The following objects are masked from ‘package:matrixStats’:\n",
      "\n",
      "    colMaxs, colMins, colRanges, rowMaxs, rowMins, rowRanges\n",
      "\n",
      "The following objects are masked from ‘package:base’:\n",
      "\n",
      "    aperm, apply, rowsum\n",
      "\n"
     ]
    },
    {
     "data": {
      "text/plain": [
       "class: SingleCellExperiment \n",
       "dim: 32738 79801 \n",
       "metadata(0):\n",
       "assays(1): counts\n",
       "rownames(32738): MIR1302-10 FAM138A ... AC002321.2 AC002321.1\n",
       "rowData names(0):\n",
       "colnames(79801): CCAGCGAGTTACTGAC-1-64 ACGCAGCGTTCGCTAA-1-45 ...\n",
       "  CTTAGGAAGATTACCC-1-13 TCAACGACATAGAAAC-1-39\n",
       "colData names(21): batch celltype ... treatment index\n",
       "reducedDimNames(0):\n",
       "spikeNames(0):\n",
       "altExpNames(0):"
      ]
     },
     "metadata": {},
     "output_type": "display_data"
    }
   ],
   "source": [
    "## load SCE object\n",
    "sce_R_filename = \"/hps/nobackup/stegle/users/acuomo/all_scripts/struct_LMM2/sc_neuroseq/all_da_d52_cells_sce.Rds\"\n",
    "sce = readRDS(sce_R_filename)\n",
    "sce"
   ]
  },
  {
   "cell_type": "code",
   "execution_count": 2,
   "metadata": {},
   "outputs": [
    {
     "data": {
      "text/html": [
       "79801"
      ],
      "text/latex": [
       "79801"
      ],
      "text/markdown": [
       "79801"
      ],
      "text/plain": [
       "[1] 79801"
      ]
     },
     "metadata": {},
     "output_type": "display_data"
    },
    {
     "name": "stderr",
     "output_type": "stream",
     "text": [
      "Warning message in NSBS(i, x, exact = exact, strict.upper.bound = !allow.append, :\n",
      "“subscript is an array, passing it thru as.vector() first”"
     ]
    },
    {
     "data": {
      "text/html": [
       "54217"
      ],
      "text/latex": [
       "54217"
      ],
      "text/markdown": [
       "54217"
      ],
      "text/plain": [
       "[1] 54217"
      ]
     },
     "metadata": {},
     "output_type": "display_data"
    }
   ],
   "source": [
    "### Filter SCE object\n",
    "ncol(sce)\n",
    "######\n",
    "# consider only untreated cells\n",
    "sce_filt = sce[,sce$treatment == 'NONE']\n",
    "######\n",
    "# consider only donors with > 10 cells\n",
    "N=10\n",
    "donors_keep = names(table(sce_filt$donor_id)[table(sce_filt$donor_id)>N])\n",
    "sce_filt = sce_filt[, sce_filt$donor_id %in% donors_keep]  \n",
    "ncol(sce_filt)"
   ]
  },
  {
   "cell_type": "code",
   "execution_count": 3,
   "metadata": {},
   "outputs": [],
   "source": [
    "# filename = \"/hps/nobackup/stegle/users/acuomo/all_scripts/struct_LMM2/sc_neuroseq/da_d52_untreated_pseudocells_20_harmony_PCs_atleast10cells_10nn.csv\"\n",
    "# filename = \"/hps/nobackup/stegle/users/acuomo/all_scripts/struct_LMM2/sc_neuroseq/da_d52_untreated_pseudocells_20_harmony_PCs_atleast10cells_5nn.csv\"\n",
    "filename = \"/hps/nobackup/stegle/users/acuomo/all_scripts/struct_LMM2/sc_neuroseq/da_d52_untreated_pseudocells_20_harmony_PCs_atleast10cells_20nn.csv\"\n",
    "df_clusters = read.csv(filename, row.names = 1)"
   ]
  },
  {
   "cell_type": "code",
   "execution_count": 4,
   "metadata": {},
   "outputs": [
    {
     "data": {
      "text/html": [
       "<table>\n",
       "<thead><tr><th scope=col>cell</th><th scope=col>cluster</th><th scope=col>donor_id</th><th scope=col>ncells</th><th scope=col>pseudo_cell</th></tr></thead>\n",
       "<tbody>\n",
       "\t<tr><td>CCAGCGAGTTACTGAC-1-64    </td><td>cluster1                 </td><td>HPSI0513i-veve_2         </td><td>88                       </td><td>HPSI0513i-veve_2-cluster1</td></tr>\n",
       "\t<tr><td>GATCTAGCATCCAACA-1-65    </td><td>cluster1                 </td><td>HPSI0513i-veve_2         </td><td>88                       </td><td>HPSI0513i-veve_2-cluster1</td></tr>\n",
       "\t<tr><td>TGGCCAGCAAGCTGTT-1-64    </td><td>cluster1                 </td><td>HPSI0513i-veve_2         </td><td>88                       </td><td>HPSI0513i-veve_2-cluster1</td></tr>\n",
       "\t<tr><td>GCTGCGACAAGGACAC-1-64    </td><td>cluster1                 </td><td>HPSI0513i-veve_2         </td><td>88                       </td><td>HPSI0513i-veve_2-cluster1</td></tr>\n",
       "\t<tr><td>ACATGGTGTTATCACG-1-64    </td><td>cluster1                 </td><td>HPSI0513i-veve_2         </td><td>88                       </td><td>HPSI0513i-veve_2-cluster1</td></tr>\n",
       "\t<tr><td>GTTACAGCACAGAGGT-1-64    </td><td>cluster1                 </td><td>HPSI0513i-veve_2         </td><td>88                       </td><td>HPSI0513i-veve_2-cluster1</td></tr>\n",
       "</tbody>\n",
       "</table>\n"
      ],
      "text/latex": [
       "\\begin{tabular}{r|lllll}\n",
       " cell & cluster & donor\\_id & ncells & pseudo\\_cell\\\\\n",
       "\\hline\n",
       "\t CCAGCGAGTTACTGAC-1-64       & cluster1                    & HPSI0513i-veve\\_2          & 88                          & HPSI0513i-veve\\_2-cluster1\\\\\n",
       "\t GATCTAGCATCCAACA-1-65       & cluster1                    & HPSI0513i-veve\\_2          & 88                          & HPSI0513i-veve\\_2-cluster1\\\\\n",
       "\t TGGCCAGCAAGCTGTT-1-64       & cluster1                    & HPSI0513i-veve\\_2          & 88                          & HPSI0513i-veve\\_2-cluster1\\\\\n",
       "\t GCTGCGACAAGGACAC-1-64       & cluster1                    & HPSI0513i-veve\\_2          & 88                          & HPSI0513i-veve\\_2-cluster1\\\\\n",
       "\t ACATGGTGTTATCACG-1-64       & cluster1                    & HPSI0513i-veve\\_2          & 88                          & HPSI0513i-veve\\_2-cluster1\\\\\n",
       "\t GTTACAGCACAGAGGT-1-64       & cluster1                    & HPSI0513i-veve\\_2          & 88                          & HPSI0513i-veve\\_2-cluster1\\\\\n",
       "\\end{tabular}\n"
      ],
      "text/markdown": [
       "\n",
       "| cell | cluster | donor_id | ncells | pseudo_cell |\n",
       "|---|---|---|---|---|\n",
       "| CCAGCGAGTTACTGAC-1-64     | cluster1                  | HPSI0513i-veve_2          | 88                        | HPSI0513i-veve_2-cluster1 |\n",
       "| GATCTAGCATCCAACA-1-65     | cluster1                  | HPSI0513i-veve_2          | 88                        | HPSI0513i-veve_2-cluster1 |\n",
       "| TGGCCAGCAAGCTGTT-1-64     | cluster1                  | HPSI0513i-veve_2          | 88                        | HPSI0513i-veve_2-cluster1 |\n",
       "| GCTGCGACAAGGACAC-1-64     | cluster1                  | HPSI0513i-veve_2          | 88                        | HPSI0513i-veve_2-cluster1 |\n",
       "| ACATGGTGTTATCACG-1-64     | cluster1                  | HPSI0513i-veve_2          | 88                        | HPSI0513i-veve_2-cluster1 |\n",
       "| GTTACAGCACAGAGGT-1-64     | cluster1                  | HPSI0513i-veve_2          | 88                        | HPSI0513i-veve_2-cluster1 |\n",
       "\n"
      ],
      "text/plain": [
       "  cell                  cluster  donor_id         ncells\n",
       "1 CCAGCGAGTTACTGAC-1-64 cluster1 HPSI0513i-veve_2 88    \n",
       "2 GATCTAGCATCCAACA-1-65 cluster1 HPSI0513i-veve_2 88    \n",
       "3 TGGCCAGCAAGCTGTT-1-64 cluster1 HPSI0513i-veve_2 88    \n",
       "4 GCTGCGACAAGGACAC-1-64 cluster1 HPSI0513i-veve_2 88    \n",
       "5 ACATGGTGTTATCACG-1-64 cluster1 HPSI0513i-veve_2 88    \n",
       "6 GTTACAGCACAGAGGT-1-64 cluster1 HPSI0513i-veve_2 88    \n",
       "  pseudo_cell              \n",
       "1 HPSI0513i-veve_2-cluster1\n",
       "2 HPSI0513i-veve_2-cluster1\n",
       "3 HPSI0513i-veve_2-cluster1\n",
       "4 HPSI0513i-veve_2-cluster1\n",
       "5 HPSI0513i-veve_2-cluster1\n",
       "6 HPSI0513i-veve_2-cluster1"
      ]
     },
     "metadata": {},
     "output_type": "display_data"
    }
   ],
   "source": [
    "head(df_clusters)"
   ]
  },
  {
   "cell_type": "code",
   "execution_count": 5,
   "metadata": {},
   "outputs": [
    {
     "data": {
      "text/html": [
       "1013"
      ],
      "text/latex": [
       "1013"
      ],
      "text/markdown": [
       "1013"
      ],
      "text/plain": [
       "[1] 1013"
      ]
     },
     "metadata": {},
     "output_type": "display_data"
    }
   ],
   "source": [
    "length(unique(df_clusters$pseudo_cell))"
   ]
  },
  {
   "cell_type": "code",
   "execution_count": 6,
   "metadata": {},
   "outputs": [
    {
     "data": {
      "text/html": [
       "173"
      ],
      "text/latex": [
       "173"
      ],
      "text/markdown": [
       "173"
      ],
      "text/plain": [
       "[1] 173"
      ]
     },
     "metadata": {},
     "output_type": "display_data"
    }
   ],
   "source": [
    "length(unique(df_clusters$donor_id))"
   ]
  },
  {
   "cell_type": "code",
   "execution_count": 7,
   "metadata": {},
   "outputs": [],
   "source": [
    "##### normalisation and log"
   ]
  },
  {
   "cell_type": "code",
   "execution_count": 8,
   "metadata": {},
   "outputs": [
    {
     "data": {
      "text/plain": [
       "class: SingleCellExperiment \n",
       "dim: 32738 54217 \n",
       "metadata(0):\n",
       "assays(2): counts logcounts\n",
       "rownames(32738): MIR1302-10 FAM138A ... AC002321.2 AC002321.1\n",
       "rowData names(0):\n",
       "colnames(54217): CCAGCGAGTTACTGAC-1-64 ACGTCAAGTCTAGCCG-1-51 ...\n",
       "  CCCAATCCACAGGAGT-1-25 CTTAGGAAGATTACCC-1-13\n",
       "colData names(21): batch celltype ... treatment index\n",
       "reducedDimNames(0):\n",
       "spikeNames(0):\n",
       "altExpNames(0):"
      ]
     },
     "metadata": {},
     "output_type": "display_data"
    }
   ],
   "source": [
    "sce_filt = scater::logNormCounts(sce_filt)\n",
    "sce_filt"
   ]
  },
  {
   "cell_type": "code",
   "execution_count": 9,
   "metadata": {},
   "outputs": [
    {
     "data": {
      "text/html": [
       "<table>\n",
       "<thead><tr><th></th><th scope=col>CCAGCGAGTTACTGAC-1-64</th><th scope=col>ACGTCAAGTCTAGCCG-1-51</th><th scope=col>CGTCTACGTCGGGTCT-1-35</th><th scope=col>TGTATTCAGGCAAAGA-1-25</th><th scope=col>GTTCATTAGTGGTAAT-1-73</th></tr></thead>\n",
       "<tbody>\n",
       "\t<tr><th scope=row>MIR1302-10</th><td>0</td><td>0</td><td>0</td><td>0</td><td>0</td></tr>\n",
       "\t<tr><th scope=row>FAM138A</th><td>0</td><td>0</td><td>0</td><td>0</td><td>0</td></tr>\n",
       "\t<tr><th scope=row>OR4F5</th><td>0</td><td>0</td><td>0</td><td>0</td><td>0</td></tr>\n",
       "\t<tr><th scope=row>RP11-34P13.7</th><td>0</td><td>0</td><td>0</td><td>0</td><td>0</td></tr>\n",
       "\t<tr><th scope=row>RP11-34P13.8</th><td>0</td><td>0</td><td>0</td><td>0</td><td>0</td></tr>\n",
       "</tbody>\n",
       "</table>\n"
      ],
      "text/latex": [
       "\\begin{tabular}{r|lllll}\n",
       "  & CCAGCGAGTTACTGAC-1-64 & ACGTCAAGTCTAGCCG-1-51 & CGTCTACGTCGGGTCT-1-35 & TGTATTCAGGCAAAGA-1-25 & GTTCATTAGTGGTAAT-1-73\\\\\n",
       "\\hline\n",
       "\tMIR1302-10 & 0 & 0 & 0 & 0 & 0\\\\\n",
       "\tFAM138A & 0 & 0 & 0 & 0 & 0\\\\\n",
       "\tOR4F5 & 0 & 0 & 0 & 0 & 0\\\\\n",
       "\tRP11-34P13.7 & 0 & 0 & 0 & 0 & 0\\\\\n",
       "\tRP11-34P13.8 & 0 & 0 & 0 & 0 & 0\\\\\n",
       "\\end{tabular}\n"
      ],
      "text/markdown": [
       "\n",
       "| <!--/--> | CCAGCGAGTTACTGAC-1-64 | ACGTCAAGTCTAGCCG-1-51 | CGTCTACGTCGGGTCT-1-35 | TGTATTCAGGCAAAGA-1-25 | GTTCATTAGTGGTAAT-1-73 |\n",
       "|---|---|---|---|---|---|\n",
       "| MIR1302-10 | 0 | 0 | 0 | 0 | 0 |\n",
       "| FAM138A | 0 | 0 | 0 | 0 | 0 |\n",
       "| OR4F5 | 0 | 0 | 0 | 0 | 0 |\n",
       "| RP11-34P13.7 | 0 | 0 | 0 | 0 | 0 |\n",
       "| RP11-34P13.8 | 0 | 0 | 0 | 0 | 0 |\n",
       "\n"
      ],
      "text/plain": [
       "             CCAGCGAGTTACTGAC-1-64 ACGTCAAGTCTAGCCG-1-51 CGTCTACGTCGGGTCT-1-35\n",
       "MIR1302-10   0                     0                     0                    \n",
       "FAM138A      0                     0                     0                    \n",
       "OR4F5        0                     0                     0                    \n",
       "RP11-34P13.7 0                     0                     0                    \n",
       "RP11-34P13.8 0                     0                     0                    \n",
       "             TGTATTCAGGCAAAGA-1-25 GTTCATTAGTGGTAAT-1-73\n",
       "MIR1302-10   0                     0                    \n",
       "FAM138A      0                     0                    \n",
       "OR4F5        0                     0                    \n",
       "RP11-34P13.7 0                     0                    \n",
       "RP11-34P13.8 0                     0                    "
      ]
     },
     "metadata": {},
     "output_type": "display_data"
    }
   ],
   "source": [
    "df = as.data.frame(as.matrix(logcounts(sce_filt)))\n",
    "df[1:5,1:5]"
   ]
  },
  {
   "cell_type": "code",
   "execution_count": 10,
   "metadata": {},
   "outputs": [
    {
     "data": {
      "text/html": [
       "<table>\n",
       "<thead><tr><th></th><th scope=col>MIR1302-10</th><th scope=col>FAM138A</th><th scope=col>OR4F5</th><th scope=col>RP11-34P13.7</th><th scope=col>RP11-34P13.8</th></tr></thead>\n",
       "<tbody>\n",
       "\t<tr><th scope=row>CCAGCGAGTTACTGAC-1-64</th><td>0</td><td>0</td><td>0</td><td>0</td><td>0</td></tr>\n",
       "\t<tr><th scope=row>ACGTCAAGTCTAGCCG-1-51</th><td>0</td><td>0</td><td>0</td><td>0</td><td>0</td></tr>\n",
       "\t<tr><th scope=row>CGTCTACGTCGGGTCT-1-35</th><td>0</td><td>0</td><td>0</td><td>0</td><td>0</td></tr>\n",
       "\t<tr><th scope=row>TGTATTCAGGCAAAGA-1-25</th><td>0</td><td>0</td><td>0</td><td>0</td><td>0</td></tr>\n",
       "\t<tr><th scope=row>GTTCATTAGTGGTAAT-1-73</th><td>0</td><td>0</td><td>0</td><td>0</td><td>0</td></tr>\n",
       "</tbody>\n",
       "</table>\n"
      ],
      "text/latex": [
       "\\begin{tabular}{r|lllll}\n",
       "  & MIR1302-10 & FAM138A & OR4F5 & RP11-34P13.7 & RP11-34P13.8\\\\\n",
       "\\hline\n",
       "\tCCAGCGAGTTACTGAC-1-64 & 0 & 0 & 0 & 0 & 0\\\\\n",
       "\tACGTCAAGTCTAGCCG-1-51 & 0 & 0 & 0 & 0 & 0\\\\\n",
       "\tCGTCTACGTCGGGTCT-1-35 & 0 & 0 & 0 & 0 & 0\\\\\n",
       "\tTGTATTCAGGCAAAGA-1-25 & 0 & 0 & 0 & 0 & 0\\\\\n",
       "\tGTTCATTAGTGGTAAT-1-73 & 0 & 0 & 0 & 0 & 0\\\\\n",
       "\\end{tabular}\n"
      ],
      "text/markdown": [
       "\n",
       "| <!--/--> | MIR1302-10 | FAM138A | OR4F5 | RP11-34P13.7 | RP11-34P13.8 |\n",
       "|---|---|---|---|---|---|\n",
       "| CCAGCGAGTTACTGAC-1-64 | 0 | 0 | 0 | 0 | 0 |\n",
       "| ACGTCAAGTCTAGCCG-1-51 | 0 | 0 | 0 | 0 | 0 |\n",
       "| CGTCTACGTCGGGTCT-1-35 | 0 | 0 | 0 | 0 | 0 |\n",
       "| TGTATTCAGGCAAAGA-1-25 | 0 | 0 | 0 | 0 | 0 |\n",
       "| GTTCATTAGTGGTAAT-1-73 | 0 | 0 | 0 | 0 | 0 |\n",
       "\n"
      ],
      "text/plain": [
       "                      MIR1302-10 FAM138A OR4F5 RP11-34P13.7 RP11-34P13.8\n",
       "CCAGCGAGTTACTGAC-1-64 0          0       0     0            0           \n",
       "ACGTCAAGTCTAGCCG-1-51 0          0       0     0            0           \n",
       "CGTCTACGTCGGGTCT-1-35 0          0       0     0            0           \n",
       "TGTATTCAGGCAAAGA-1-25 0          0       0     0            0           \n",
       "GTTCATTAGTGGTAAT-1-73 0          0       0     0            0           "
      ]
     },
     "metadata": {},
     "output_type": "display_data"
    }
   ],
   "source": [
    "df1 = t(df)\n",
    "df1[1:5,1:5]"
   ]
  },
  {
   "cell_type": "code",
   "execution_count": null,
   "metadata": {},
   "outputs": [
    {
     "name": "stderr",
     "output_type": "stream",
     "text": [
      "Warning message in df1$cell = rownames(df1):\n",
      "“Coercing LHS to a list”"
     ]
    }
   ],
   "source": [
    "df1$cell = rownames(df1)"
   ]
  },
  {
   "cell_type": "code",
   "execution_count": null,
   "metadata": {},
   "outputs": [],
   "source": [
    "library(dplyr)"
   ]
  },
  {
   "cell_type": "code",
   "execution_count": null,
   "metadata": {},
   "outputs": [
    {
     "name": "stderr",
     "output_type": "stream",
     "text": [
      "Warning message in df1$cell = rownames(df1):\n",
      "“Coercing LHS to a list”"
     ]
    }
   ],
   "source": [
    "df2 = inner_join(df_clusters, df1)\n",
    "df2[1:5,(ncol(df2)-5):ncol(df2)]"
   ]
  },
  {
   "cell_type": "code",
   "execution_count": null,
   "metadata": {},
   "outputs": [],
   "source": []
  },
  {
   "cell_type": "code",
   "execution_count": 28,
   "metadata": {},
   "outputs": [],
   "source": [
    "##### (mean) aggregation"
   ]
  },
  {
   "cell_type": "code",
   "execution_count": null,
   "metadata": {
    "scrolled": false
   },
   "outputs": [],
   "source": [
    "mean = matrix(0, nrow = nrow(sce_filt), ncol = length(unique(df_clusters$pseudo_cell)))\n",
    "for (i in 1:length(unique(df_clusters$pseudo_cell))){\n",
    "    pseudocell = unique(df_clusters$pseudo_cell)[i]\n",
    "    cells = df_clusters[df_clusters$pseudo_cell == pseudocell,\"cell\"]\n",
    "    if (length(cells)==1){\n",
    "        mean[,i] = as.matrix(logcounts(sce_filt))[,cells]\n",
    "    }\n",
    "    else{\n",
    "        mat = as.matrix(logcounts(sce_filt))[,cells]\n",
    "        mean[,i] = rowMeans(mat)\n",
    "    }  \n",
    "}"
   ]
  },
  {
   "cell_type": "code",
   "execution_count": null,
   "metadata": {},
   "outputs": [],
   "source": [
    "mean[1:5,1:5]"
   ]
  },
  {
   "cell_type": "code",
   "execution_count": null,
   "metadata": {},
   "outputs": [],
   "source": [
    "rownames(mean) = rownames(sce_filt)\n",
    "colnames(mean) = unique(df_clusters$pseudo_cell)"
   ]
  },
  {
   "cell_type": "code",
   "execution_count": null,
   "metadata": {},
   "outputs": [],
   "source": [
    "# write.csv(mean, \"/hps/nobackup/stegle/users/acuomo/all_scripts/struct_LMM2/sc_neuroseq/da_d52_untreated_pseudocells_20_harmony_PCs_atleast10cells_10nn_means.csv\")\n",
    "# write.csv(mean, \"/hps/nobackup/stegle/users/acuomo/all_scripts/struct_LMM2/sc_neuroseq/da_d52_untreated_pseudocells_20_harmony_PCs_atleast10cells_5nn_means.csv\")\n",
    "write.csv(mean, \"/hps/nobackup/stegle/users/acuomo/all_scripts/struct_LMM2/sc_neuroseq/da_d52_untreated_pseudocells_20_harmony_PCs_atleast10cells_20nn_means.csv\")"
   ]
  },
  {
   "cell_type": "code",
   "execution_count": null,
   "metadata": {},
   "outputs": [],
   "source": [
    "dim(mean)"
   ]
  },
  {
   "cell_type": "code",
   "execution_count": null,
   "metadata": {},
   "outputs": [],
   "source": []
  },
  {
   "cell_type": "code",
   "execution_count": null,
   "metadata": {},
   "outputs": [],
   "source": [
    "##### PCs computation"
   ]
  },
  {
   "cell_type": "code",
   "execution_count": null,
   "metadata": {},
   "outputs": [],
   "source": [
    "pcs = prcomp(t(mean))\n",
    "head(pcs$x)"
   ]
  },
  {
   "cell_type": "code",
   "execution_count": null,
   "metadata": {},
   "outputs": [],
   "source": [
    "# write.csv(pcs$x[,1:500], \"/hps/nobackup/stegle/users/acuomo/all_scripts/struct_LMM2/sc_neuroseq/da_d52_untreated_pseudocells_20_harmony_PCs_atleast10cells_10nn_mean_500pcs.csv\")\n",
    "# write.csv(pcs$x[,1:500], \"/hps/nobackup/stegle/users/acuomo/all_scripts/struct_LMM2/sc_neuroseq/da_d52_untreated_pseudocells_20_harmony_PCs_atleast10cells_5nn_mean_500pcs.csv\")\n",
    "write.csv(pcs$x[,1:500], \"/hps/nobackup/stegle/users/acuomo/all_scripts/struct_LMM2/sc_neuroseq/da_d52_untreated_pseudocells_20_harmony_PCs_atleast10cells_20nn_mean_500pcs.csv\")"
   ]
  },
  {
   "cell_type": "code",
   "execution_count": null,
   "metadata": {},
   "outputs": [],
   "source": [
    "sample_df = data.frame(genotype_individual_id = gsub(\"-cluster.*\",\"\",rownames(pcs$x)),\n",
    "                       phenotype_sample_id = rownames(pcs$x))\n",
    "tail(sample_df)"
   ]
  },
  {
   "cell_type": "code",
   "execution_count": null,
   "metadata": {},
   "outputs": [],
   "source": [
    "# write.csv(sample_df, \"/hps/nobackup/stegle/users/acuomo/all_scripts/struct_LMM2/sc_neuroseq/da_d52_untreated_pseudocells_20_harmony_PCs_atleast10cells_10nn_sample_mapping.csv\", quote = F)\n",
    "# write.csv(sample_df, \"/hps/nobackup/stegle/users/acuomo/all_scripts/struct_LMM2/sc_neuroseq/da_d52_untreated_pseudocells_20_harmony_PCs_atleast10cells_5nn_sample_mapping.csv\", quote = F)\n",
    "write.csv(sample_df, \"/hps/nobackup/stegle/users/acuomo/all_scripts/struct_LMM2/sc_neuroseq/da_d52_untreated_pseudocells_20_harmony_PCs_atleast10cells_20nn_sample_mapping.csv\", quote = F)"
   ]
  },
  {
   "cell_type": "code",
   "execution_count": null,
   "metadata": {},
   "outputs": [],
   "source": []
  },
  {
   "cell_type": "code",
   "execution_count": null,
   "metadata": {},
   "outputs": [],
   "source": []
  }
 ],
 "metadata": {
  "kernelspec": {
   "display_name": "R",
   "language": "R",
   "name": "ir"
  },
  "language_info": {
   "codemirror_mode": "r",
   "file_extension": ".r",
   "mimetype": "text/x-r-source",
   "name": "R",
   "pygments_lexer": "r",
   "version": "3.6.1"
  }
 },
 "nbformat": 4,
 "nbformat_minor": 4
}
