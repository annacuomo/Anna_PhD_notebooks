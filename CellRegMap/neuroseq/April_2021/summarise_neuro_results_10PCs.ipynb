{
 "cells": [
  {
   "cell_type": "code",
   "execution_count": 31,
   "metadata": {},
   "outputs": [],
   "source": [
    "library(qvalue)"
   ]
  },
  {
   "cell_type": "code",
   "execution_count": 32,
   "metadata": {},
   "outputs": [],
   "source": [
    "folder = \"/hps/nobackup/stegle/users/acuomo/all_scripts/struct_LMM2/sc_neuroseq/April2021/PCA/\""
   ]
  },
  {
   "cell_type": "code",
   "execution_count": 33,
   "metadata": {},
   "outputs": [
    {
     "data": {
      "text/html": [
       "140"
      ],
      "text/latex": [
       "140"
      ],
      "text/markdown": [
       "140"
      ],
      "text/plain": [
       "[1] 140"
      ]
     },
     "metadata": {},
     "output_type": "display_data"
    },
    {
     "data": {
      "text/html": [
       "<table>\n",
       "<thead><tr><th></th><th scope=col>gene</th><th scope=col>n_snps</th><th scope=col>chrom</th><th scope=col>pv_raw</th><th scope=col>snpID</th><th scope=col>pv</th></tr></thead>\n",
       "<tbody>\n",
       "\t<tr><th scope=row>0</th><td>ATRAID        </td><td>2             </td><td>2             </td><td>0.03388709    </td><td>2_27389195_A_G</td><td>0.06777417    </td></tr>\n",
       "\t<tr><th scope=row>1</th><td>ATRAID        </td><td>2             </td><td>2             </td><td>0.45140610    </td><td>2_27527246_T_A</td><td>0.90281219    </td></tr>\n",
       "</tbody>\n",
       "</table>\n"
      ],
      "text/latex": [
       "\\begin{tabular}{r|llllll}\n",
       "  & gene & n\\_snps & chrom & pv\\_raw & snpID & pv\\\\\n",
       "\\hline\n",
       "\t0 & ATRAID               & 2                    & 2                    & 0.03388709           & 2\\_27389195\\_A\\_G & 0.06777417          \\\\\n",
       "\t1 & ATRAID               & 2                    & 2                    & 0.45140610           & 2\\_27527246\\_T\\_A & 0.90281219          \\\\\n",
       "\\end{tabular}\n"
      ],
      "text/markdown": [
       "\n",
       "| <!--/--> | gene | n_snps | chrom | pv_raw | snpID | pv |\n",
       "|---|---|---|---|---|---|---|\n",
       "| 0 | ATRAID         | 2              | 2              | 0.03388709     | 2_27389195_A_G | 0.06777417     |\n",
       "| 1 | ATRAID         | 2              | 2              | 0.45140610     | 2_27527246_T_A | 0.90281219     |\n",
       "\n"
      ],
      "text/plain": [
       "  gene   n_snps chrom pv_raw     snpID          pv        \n",
       "0 ATRAID 2      2     0.03388709 2_27389195_A_G 0.06777417\n",
       "1 ATRAID 2      2     0.45140610 2_27527246_T_A 0.90281219"
      ]
     },
     "metadata": {},
     "output_type": "display_data"
    }
   ],
   "source": [
    "file = paste0(folder, \"PC10/summary.csv\")\n",
    "df = read.csv(file, row.names=1)\n",
    "nrow(df)\n",
    "head(df,2)"
   ]
  },
  {
   "cell_type": "code",
   "execution_count": 34,
   "metadata": {},
   "outputs": [],
   "source": [
    "df = df[order(df$pv, df$pv_raw),]\n",
    "df = df[-which(duplicated(df$gene)),]\n",
    "# df$qv = p.adjust(df$pv, method = \"BH\")\n",
    "df$qv = qvalue(df$pv, pi0 = 1)$qvalue"
   ]
  },
  {
   "cell_type": "code",
   "execution_count": 35,
   "metadata": {},
   "outputs": [
    {
     "data": {
      "text/html": [
       "<ol class=list-inline>\n",
       "\t<li>54</li>\n",
       "\t<li>0.6</li>\n",
       "</ol>\n"
      ],
      "text/latex": [
       "\\begin{enumerate*}\n",
       "\\item 54\n",
       "\\item 0.6\n",
       "\\end{enumerate*}\n"
      ],
      "text/markdown": [
       "1. 54\n",
       "2. 0.6\n",
       "\n",
       "\n"
      ],
      "text/plain": [
       "[1] 54.0  0.6"
      ]
     },
     "metadata": {},
     "output_type": "display_data"
    }
   ],
   "source": [
    "c(length(unique(df[df$qv<0.05,\"gene\"])), length(unique(df[df$qv<0.05,\"gene\"]))/length(unique(df$gene)))"
   ]
  },
  {
   "cell_type": "code",
   "execution_count": 36,
   "metadata": {},
   "outputs": [
    {
     "data": {
      "image/png": "[encoded data removed]",
      "text/plain": [
       "Plot with title “Histogram of df$qv”"
      ]
     },
     "metadata": {},
     "output_type": "display_data"
    }
   ],
   "source": [
    "options(repr.plot.width = 5, repr.plot.height = 4)\n",
    "hist(df$qv)"
   ]
  },
  {
   "cell_type": "code",
   "execution_count": null,
   "metadata": {},
   "outputs": [],
   "source": []
  }
 ],
 "metadata": {
  "kernelspec": {
   "display_name": "R",
   "language": "R",
   "name": "ir"
  },
  "language_info": {
   "codemirror_mode": "r",
   "file_extension": ".r",
   "mimetype": "text/x-r-source",
   "name": "R",
   "pygments_lexer": "r",
   "version": "3.6.1"
  }
 },
 "nbformat": 4,
 "nbformat_minor": 4
}
