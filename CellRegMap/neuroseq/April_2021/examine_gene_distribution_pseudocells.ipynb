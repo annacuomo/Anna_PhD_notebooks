{
 "cells": [
  {
   "cell_type": "code",
   "execution_count": 1,
   "metadata": {},
   "outputs": [],
   "source": [
    "mydir = \"/hps/nobackup/stegle/users/acuomo/all_scripts/struct_LMM2/sc_neuroseq/pseudocells_Danai/txt_files/\""
   ]
  },
  {
   "cell_type": "code",
   "execution_count": 2,
   "metadata": {},
   "outputs": [
    {
     "data": {
      "text/html": [
       "<ol class=list-inline>\n",
       "\t<li>'Pseudobulk_DA_pseudocells_res4.tsv'</li>\n",
       "\t<li>'Pseudobulk_DA_pseudocells_res4.tsv.zip'</li>\n",
       "\t<li>'Pseudobulk_DA_res4_cell_pseudocell_id.tsv'</li>\n",
       "</ol>\n"
      ],
      "text/latex": [
       "\\begin{enumerate*}\n",
       "\\item 'Pseudobulk\\_DA\\_pseudocells\\_res4.tsv'\n",
       "\\item 'Pseudobulk\\_DA\\_pseudocells\\_res4.tsv.zip'\n",
       "\\item 'Pseudobulk\\_DA\\_res4\\_cell\\_pseudocell\\_id.tsv'\n",
       "\\end{enumerate*}\n"
      ],
      "text/markdown": [
       "1. 'Pseudobulk_DA_pseudocells_res4.tsv'\n",
       "2. 'Pseudobulk_DA_pseudocells_res4.tsv.zip'\n",
       "3. 'Pseudobulk_DA_res4_cell_pseudocell_id.tsv'\n",
       "\n",
       "\n"
      ],
      "text/plain": [
       "[1] \"Pseudobulk_DA_pseudocells_res4.tsv\"       \n",
       "[2] \"Pseudobulk_DA_pseudocells_res4.tsv.zip\"   \n",
       "[3] \"Pseudobulk_DA_res4_cell_pseudocell_id.tsv\""
      ]
     },
     "metadata": {},
     "output_type": "display_data"
    }
   ],
   "source": [
    "list.files(mydir)"
   ]
  },
  {
   "cell_type": "code",
   "execution_count": 5,
   "metadata": {},
   "outputs": [
    {
     "data": {
      "text/html": [
       "'/hps/nobackup/stegle/users/acuomo/all_scripts/struct_LMM2/sc_neuroseq/pseudocells_Danai/txt_files/Pseudobulk_DA_pseudocells_res4.tsv'"
      ],
      "text/latex": [
       "'/hps/nobackup/stegle/users/acuomo/all\\_scripts/struct\\_LMM2/sc\\_neuroseq/pseudocells\\_Danai/txt\\_files/Pseudobulk\\_DA\\_pseudocells\\_res4.tsv'"
      ],
      "text/markdown": [
       "'/hps/nobackup/stegle/users/acuomo/all_scripts/struct_LMM2/sc_neuroseq/pseudocells_Danai/txt_files/Pseudobulk_DA_pseudocells_res4.tsv'"
      ],
      "text/plain": [
       "[1] \"/hps/nobackup/stegle/users/acuomo/all_scripts/struct_LMM2/sc_neuroseq/pseudocells_Danai/txt_files/Pseudobulk_DA_pseudocells_res4.tsv\""
      ]
     },
     "metadata": {},
     "output_type": "display_data"
    }
   ],
   "source": [
    "myfile = paste0(mydir,list.files(mydir)[1])\n",
    "myfile"
   ]
  },
  {
   "cell_type": "code",
   "execution_count": 7,
   "metadata": {},
   "outputs": [
    {
     "data": {
      "text/html": [
       "<table>\n",
       "<thead><tr><th></th><th scope=col>MIR1302.10</th><th scope=col>FAM138A</th><th scope=col>OR4F5</th><th scope=col>RP11.34P13.7</th><th scope=col>RP11.34P13.8</th></tr></thead>\n",
       "<tbody>\n",
       "\t<tr><th scope=row>HPSI0714i-iudw_1--DA--d30--0</th><td>0</td><td>0</td><td>0</td><td>0</td><td>0</td></tr>\n",
       "\t<tr><th scope=row>HPSI0714i-iudw_1--DA--d30--1</th><td>0</td><td>0</td><td>0</td><td>0</td><td>0</td></tr>\n",
       "\t<tr><th scope=row>HPSI0714i-iudw_1--DA--d30--2</th><td>0</td><td>0</td><td>0</td><td>0</td><td>0</td></tr>\n",
       "\t<tr><th scope=row>HPSI0714i-iudw_1--DA--d30--3</th><td>0</td><td>0</td><td>0</td><td>0</td><td>0</td></tr>\n",
       "\t<tr><th scope=row>HPSI0714i-iudw_1--DA--d30--4</th><td>0</td><td>0</td><td>0</td><td>0</td><td>0</td></tr>\n",
       "</tbody>\n",
       "</table>\n"
      ],
      "text/latex": [
       "\\begin{tabular}{r|lllll}\n",
       "  & MIR1302.10 & FAM138A & OR4F5 & RP11.34P13.7 & RP11.34P13.8\\\\\n",
       "\\hline\n",
       "\tHPSI0714i-iudw\\_1--DA--d30--0 & 0 & 0 & 0 & 0 & 0\\\\\n",
       "\tHPSI0714i-iudw\\_1--DA--d30--1 & 0 & 0 & 0 & 0 & 0\\\\\n",
       "\tHPSI0714i-iudw\\_1--DA--d30--2 & 0 & 0 & 0 & 0 & 0\\\\\n",
       "\tHPSI0714i-iudw\\_1--DA--d30--3 & 0 & 0 & 0 & 0 & 0\\\\\n",
       "\tHPSI0714i-iudw\\_1--DA--d30--4 & 0 & 0 & 0 & 0 & 0\\\\\n",
       "\\end{tabular}\n"
      ],
      "text/markdown": [
       "\n",
       "| <!--/--> | MIR1302.10 | FAM138A | OR4F5 | RP11.34P13.7 | RP11.34P13.8 |\n",
       "|---|---|---|---|---|---|\n",
       "| HPSI0714i-iudw_1--DA--d30--0 | 0 | 0 | 0 | 0 | 0 |\n",
       "| HPSI0714i-iudw_1--DA--d30--1 | 0 | 0 | 0 | 0 | 0 |\n",
       "| HPSI0714i-iudw_1--DA--d30--2 | 0 | 0 | 0 | 0 | 0 |\n",
       "| HPSI0714i-iudw_1--DA--d30--3 | 0 | 0 | 0 | 0 | 0 |\n",
       "| HPSI0714i-iudw_1--DA--d30--4 | 0 | 0 | 0 | 0 | 0 |\n",
       "\n"
      ],
      "text/plain": [
       "                             MIR1302.10 FAM138A OR4F5 RP11.34P13.7 RP11.34P13.8\n",
       "HPSI0714i-iudw_1--DA--d30--0 0          0       0     0            0           \n",
       "HPSI0714i-iudw_1--DA--d30--1 0          0       0     0            0           \n",
       "HPSI0714i-iudw_1--DA--d30--2 0          0       0     0            0           \n",
       "HPSI0714i-iudw_1--DA--d30--3 0          0       0     0            0           \n",
       "HPSI0714i-iudw_1--DA--d30--4 0          0       0     0            0           "
      ]
     },
     "metadata": {},
     "output_type": "display_data"
    }
   ],
   "source": [
    "df = read.csv(myfile, sep = \"\\t\", row.names=1)\n",
    "df[1:5,1:5]"
   ]
  },
  {
   "cell_type": "code",
   "execution_count": 11,
   "metadata": {},
   "outputs": [
    {
     "data": {
      "text/html": [
       "<dl class=dl-horizontal>\n",
       "\t<dt>MIR1302.10</dt>\n",
       "\t\t<dd>0.0062111801242236</dd>\n",
       "\t<dt>FAM138A</dt>\n",
       "\t\t<dd>0</dd>\n",
       "\t<dt>OR4F5</dt>\n",
       "\t\t<dd>0</dd>\n",
       "\t<dt>RP11.34P13.7</dt>\n",
       "\t\t<dd>0.0311560809457023</dd>\n",
       "\t<dt>RP11.34P13.8</dt>\n",
       "\t\t<dd>0.00160288519334803</dd>\n",
       "\t<dt>AL627309.1</dt>\n",
       "\t\t<dd>0.0920657182929273</dd>\n",
       "</dl>\n"
      ],
      "text/latex": [
       "\\begin{description*}\n",
       "\\item[MIR1302.10] 0.0062111801242236\n",
       "\\item[FAM138A] 0\n",
       "\\item[OR4F5] 0\n",
       "\\item[RP11.34P13.7] 0.0311560809457023\n",
       "\\item[RP11.34P13.8] 0.00160288519334803\n",
       "\\item[AL627309.1] 0.0920657182929273\n",
       "\\end{description*}\n"
      ],
      "text/markdown": [
       "MIR1302.10\n",
       ":   0.0062111801242236FAM138A\n",
       ":   0OR4F5\n",
       ":   0RP11.34P13.7\n",
       ":   0.0311560809457023RP11.34P13.8\n",
       ":   0.00160288519334803AL627309.1\n",
       ":   0.0920657182929273\n",
       "\n"
      ],
      "text/plain": [
       "  MIR1302.10      FAM138A        OR4F5 RP11.34P13.7 RP11.34P13.8   AL627309.1 \n",
       " 0.006211180  0.000000000  0.000000000  0.031156081  0.001602885  0.092065718 "
      ]
     },
     "metadata": {},
     "output_type": "display_data"
    }
   ],
   "source": [
    "head(colSums(df>0)/nrow(df))"
   ]
  },
  {
   "cell_type": "code",
   "execution_count": 12,
   "metadata": {},
   "outputs": [
    {
     "data": {
      "image/png": "[encoded data removed]",
      "text/plain": [
       "Plot with title “Histogram of colSums(df > 0)/nrow(df)”"
      ]
     },
     "metadata": {},
     "output_type": "display_data"
    }
   ],
   "source": [
    "hist(colSums(df>0)/nrow(df))"
   ]
  },
  {
   "cell_type": "code",
   "execution_count": null,
   "metadata": {},
   "outputs": [],
   "source": [
    "filter_genes = "
   ]
  },
  {
   "cell_type": "code",
   "execution_count": null,
   "metadata": {},
   "outputs": [],
   "source": [
    "hist(df[,colnames(df)[1]])"
   ]
  },
  {
   "cell_type": "code",
   "execution_count": null,
   "metadata": {},
   "outputs": [],
   "source": []
  },
  {
   "cell_type": "code",
   "execution_count": null,
   "metadata": {},
   "outputs": [],
   "source": [
    "# Filter on specific gene-SNP pairs\n",
    "# eQTL from neuroseq DA (day30 + day52 + day52 ROT treated)\n",
    "neuro_eqtl_file = \"/hps/nobackup/stegle/users/acuomo/all_scripts/struct_LMM2/sc_neuroseq/input_files/DA_eqtl_allconditions_FDR5pct.csv\" # consider filter further (significant only)\n",
    "neuro_eqtl = pd.read_csv(neuro_eqtl_file)\n",
    "neuro_eqtl[\"chrom\"] = [int(i[:i.find(\"_\")]) for i in neuro_eqtl[\"snp_id\"]]\n",
    "genes = neuro_eqtl[neuro_eqtl['chrom']==int(chrom)]['feature'].unique()"
   ]
  }
 ],
 "metadata": {
  "kernelspec": {
   "display_name": "R",
   "language": "R",
   "name": "ir"
  },
  "language_info": {
   "codemirror_mode": "r",
   "file_extension": ".r",
   "mimetype": "text/x-r-source",
   "name": "R",
   "pygments_lexer": "r",
   "version": "3.6.1"
  }
 },
 "nbformat": 4,
 "nbformat_minor": 4
}
