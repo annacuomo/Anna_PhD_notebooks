{
 "cells": [
  {
   "cell_type": "code",
   "execution_count": 4,
   "metadata": {},
   "outputs": [],
   "source": [
    "import pandas as pd\n",
    "import matplotlib.pyplot as plt"
   ]
  },
  {
   "cell_type": "code",
   "execution_count": 5,
   "metadata": {},
   "outputs": [],
   "source": [
    "my_dir = \"/hps/nobackup/stegle/users/acuomo/all_scripts/struct_LMM2/sc_neuroseq/pseudocells_Danai/txt_files/\""
   ]
  },
  {
   "cell_type": "code",
   "execution_count": 6,
   "metadata": {},
   "outputs": [
    {
     "data": {
      "text/html": [
       "<div>\n",
       "<style scoped>\n",
       "    .dataframe tbody tr th:only-of-type {\n",
       "        vertical-align: middle;\n",
       "    }\n",
       "\n",
       "    .dataframe tbody tr th {\n",
       "        vertical-align: top;\n",
       "    }\n",
       "\n",
       "    .dataframe thead th {\n",
       "        text-align: right;\n",
       "    }\n",
       "</style>\n",
       "<table border=\"1\" class=\"dataframe\">\n",
       "  <thead>\n",
       "    <tr style=\"text-align: right;\">\n",
       "      <th></th>\n",
       "      <th>MIR1302-10</th>\n",
       "      <th>FAM138A</th>\n",
       "      <th>OR4F5</th>\n",
       "      <th>RP11-34P13.7</th>\n",
       "      <th>RP11-34P13.8</th>\n",
       "      <th>AL627309.1</th>\n",
       "      <th>RP11-34P13.14</th>\n",
       "      <th>RP11-34P13.9</th>\n",
       "      <th>AP006222.2</th>\n",
       "      <th>RP4-669L17.10</th>\n",
       "      <th>...</th>\n",
       "      <th>KIR3DL2-1</th>\n",
       "      <th>AL590523.1</th>\n",
       "      <th>CT476828.1</th>\n",
       "      <th>PNRC2-1</th>\n",
       "      <th>SRSF10-1</th>\n",
       "      <th>AC145205.1</th>\n",
       "      <th>BAGE5</th>\n",
       "      <th>CU459201.1</th>\n",
       "      <th>AC002321.2</th>\n",
       "      <th>AC002321.1</th>\n",
       "    </tr>\n",
       "  </thead>\n",
       "  <tbody>\n",
       "    <tr>\n",
       "      <th>HPSI0714i-iudw_1--DA--d30--0</th>\n",
       "      <td>0.0</td>\n",
       "      <td>0.0</td>\n",
       "      <td>0.0</td>\n",
       "      <td>0.0</td>\n",
       "      <td>0.0</td>\n",
       "      <td>0.0</td>\n",
       "      <td>0.0</td>\n",
       "      <td>0.0</td>\n",
       "      <td>0.900116</td>\n",
       "      <td>0.0</td>\n",
       "      <td>...</td>\n",
       "      <td>0.0</td>\n",
       "      <td>0.0</td>\n",
       "      <td>0.0</td>\n",
       "      <td>0.000000</td>\n",
       "      <td>1.514001</td>\n",
       "      <td>0.0</td>\n",
       "      <td>0.0</td>\n",
       "      <td>0.0</td>\n",
       "      <td>0.0</td>\n",
       "      <td>0.0</td>\n",
       "    </tr>\n",
       "    <tr>\n",
       "      <th>HPSI0714i-iudw_1--DA--d30--1</th>\n",
       "      <td>0.0</td>\n",
       "      <td>0.0</td>\n",
       "      <td>0.0</td>\n",
       "      <td>0.0</td>\n",
       "      <td>0.0</td>\n",
       "      <td>0.0</td>\n",
       "      <td>0.0</td>\n",
       "      <td>0.0</td>\n",
       "      <td>0.775420</td>\n",
       "      <td>0.0</td>\n",
       "      <td>...</td>\n",
       "      <td>0.0</td>\n",
       "      <td>0.0</td>\n",
       "      <td>0.0</td>\n",
       "      <td>0.388600</td>\n",
       "      <td>1.932043</td>\n",
       "      <td>0.0</td>\n",
       "      <td>0.0</td>\n",
       "      <td>0.0</td>\n",
       "      <td>0.0</td>\n",
       "      <td>0.0</td>\n",
       "    </tr>\n",
       "    <tr>\n",
       "      <th>HPSI0714i-iudw_1--DA--d30--2</th>\n",
       "      <td>0.0</td>\n",
       "      <td>0.0</td>\n",
       "      <td>0.0</td>\n",
       "      <td>0.0</td>\n",
       "      <td>0.0</td>\n",
       "      <td>0.0</td>\n",
       "      <td>0.0</td>\n",
       "      <td>0.0</td>\n",
       "      <td>1.603750</td>\n",
       "      <td>0.0</td>\n",
       "      <td>...</td>\n",
       "      <td>0.0</td>\n",
       "      <td>0.0</td>\n",
       "      <td>0.0</td>\n",
       "      <td>0.000000</td>\n",
       "      <td>0.446621</td>\n",
       "      <td>0.0</td>\n",
       "      <td>0.0</td>\n",
       "      <td>0.0</td>\n",
       "      <td>0.0</td>\n",
       "      <td>0.0</td>\n",
       "    </tr>\n",
       "    <tr>\n",
       "      <th>HPSI0714i-iudw_1--DA--d30--3</th>\n",
       "      <td>0.0</td>\n",
       "      <td>0.0</td>\n",
       "      <td>0.0</td>\n",
       "      <td>0.0</td>\n",
       "      <td>0.0</td>\n",
       "      <td>0.0</td>\n",
       "      <td>0.0</td>\n",
       "      <td>0.0</td>\n",
       "      <td>1.215118</td>\n",
       "      <td>0.0</td>\n",
       "      <td>...</td>\n",
       "      <td>0.0</td>\n",
       "      <td>0.0</td>\n",
       "      <td>0.0</td>\n",
       "      <td>0.000000</td>\n",
       "      <td>1.280547</td>\n",
       "      <td>0.0</td>\n",
       "      <td>0.0</td>\n",
       "      <td>0.0</td>\n",
       "      <td>0.0</td>\n",
       "      <td>0.0</td>\n",
       "    </tr>\n",
       "    <tr>\n",
       "      <th>HPSI0714i-iudw_1--DA--d30--4</th>\n",
       "      <td>0.0</td>\n",
       "      <td>0.0</td>\n",
       "      <td>0.0</td>\n",
       "      <td>0.0</td>\n",
       "      <td>0.0</td>\n",
       "      <td>0.0</td>\n",
       "      <td>0.0</td>\n",
       "      <td>0.0</td>\n",
       "      <td>2.389510</td>\n",
       "      <td>0.0</td>\n",
       "      <td>...</td>\n",
       "      <td>0.0</td>\n",
       "      <td>0.0</td>\n",
       "      <td>0.0</td>\n",
       "      <td>0.373329</td>\n",
       "      <td>3.733828</td>\n",
       "      <td>0.0</td>\n",
       "      <td>0.0</td>\n",
       "      <td>0.0</td>\n",
       "      <td>0.0</td>\n",
       "      <td>0.0</td>\n",
       "    </tr>\n",
       "  </tbody>\n",
       "</table>\n",
       "<p>5 rows × 32738 columns</p>\n",
       "</div>"
      ],
      "text/plain": [
       "                              MIR1302-10  FAM138A  OR4F5  RP11-34P13.7  \\\n",
       "HPSI0714i-iudw_1--DA--d30--0         0.0      0.0    0.0           0.0   \n",
       "HPSI0714i-iudw_1--DA--d30--1         0.0      0.0    0.0           0.0   \n",
       "HPSI0714i-iudw_1--DA--d30--2         0.0      0.0    0.0           0.0   \n",
       "HPSI0714i-iudw_1--DA--d30--3         0.0      0.0    0.0           0.0   \n",
       "HPSI0714i-iudw_1--DA--d30--4         0.0      0.0    0.0           0.0   \n",
       "\n",
       "                              RP11-34P13.8  AL627309.1  RP11-34P13.14  \\\n",
       "HPSI0714i-iudw_1--DA--d30--0           0.0         0.0            0.0   \n",
       "HPSI0714i-iudw_1--DA--d30--1           0.0         0.0            0.0   \n",
       "HPSI0714i-iudw_1--DA--d30--2           0.0         0.0            0.0   \n",
       "HPSI0714i-iudw_1--DA--d30--3           0.0         0.0            0.0   \n",
       "HPSI0714i-iudw_1--DA--d30--4           0.0         0.0            0.0   \n",
       "\n",
       "                              RP11-34P13.9  AP006222.2  RP4-669L17.10  ...  \\\n",
       "HPSI0714i-iudw_1--DA--d30--0           0.0    0.900116            0.0  ...   \n",
       "HPSI0714i-iudw_1--DA--d30--1           0.0    0.775420            0.0  ...   \n",
       "HPSI0714i-iudw_1--DA--d30--2           0.0    1.603750            0.0  ...   \n",
       "HPSI0714i-iudw_1--DA--d30--3           0.0    1.215118            0.0  ...   \n",
       "HPSI0714i-iudw_1--DA--d30--4           0.0    2.389510            0.0  ...   \n",
       "\n",
       "                              KIR3DL2-1  AL590523.1  CT476828.1   PNRC2-1  \\\n",
       "HPSI0714i-iudw_1--DA--d30--0        0.0         0.0         0.0  0.000000   \n",
       "HPSI0714i-iudw_1--DA--d30--1        0.0         0.0         0.0  0.388600   \n",
       "HPSI0714i-iudw_1--DA--d30--2        0.0         0.0         0.0  0.000000   \n",
       "HPSI0714i-iudw_1--DA--d30--3        0.0         0.0         0.0  0.000000   \n",
       "HPSI0714i-iudw_1--DA--d30--4        0.0         0.0         0.0  0.373329   \n",
       "\n",
       "                              SRSF10-1  AC145205.1  BAGE5  CU459201.1  \\\n",
       "HPSI0714i-iudw_1--DA--d30--0  1.514001         0.0    0.0         0.0   \n",
       "HPSI0714i-iudw_1--DA--d30--1  1.932043         0.0    0.0         0.0   \n",
       "HPSI0714i-iudw_1--DA--d30--2  0.446621         0.0    0.0         0.0   \n",
       "HPSI0714i-iudw_1--DA--d30--3  1.280547         0.0    0.0         0.0   \n",
       "HPSI0714i-iudw_1--DA--d30--4  3.733828         0.0    0.0         0.0   \n",
       "\n",
       "                              AC002321.2  AC002321.1  \n",
       "HPSI0714i-iudw_1--DA--d30--0         0.0         0.0  \n",
       "HPSI0714i-iudw_1--DA--d30--1         0.0         0.0  \n",
       "HPSI0714i-iudw_1--DA--d30--2         0.0         0.0  \n",
       "HPSI0714i-iudw_1--DA--d30--3         0.0         0.0  \n",
       "HPSI0714i-iudw_1--DA--d30--4         0.0         0.0  \n",
       "\n",
       "[5 rows x 32738 columns]"
      ]
     },
     "execution_count": 6,
     "metadata": {},
     "output_type": "execute_result"
    }
   ],
   "source": [
    "# Phenotype (genes X pseudo-cells)\n",
    "phenotype_file = my_dir+\"Pseudobulk_DA_pseudocells_res4.tsv.pkl\"\n",
    "phenotype = pd.read_pickle(phenotype_file)\n",
    "phenotype.head()"
   ]
  },
  {
   "cell_type": "code",
   "execution_count": 17,
   "metadata": {},
   "outputs": [
    {
     "data": {
      "image/png": "[encoded data removed]",
      "text/plain": [
       "<Figure size 432x288 with 1 Axes>"
      ]
     },
     "metadata": {
      "needs_background": "light"
     },
     "output_type": "display_data"
    }
   ],
   "source": [
    "plt.hist((phenotype == 0).astype(int).sum(axis=0)/phenotype.shape[0])\n",
    "plt.show()"
   ]
  },
  {
   "cell_type": "code",
   "execution_count": 18,
   "metadata": {},
   "outputs": [
    {
     "data": {
      "text/plain": [
       "29272"
      ]
     },
     "execution_count": 18,
     "metadata": {},
     "output_type": "execute_result"
    }
   ],
   "source": [
    "sum((phenotype == 0).astype(int).sum(axis=0)/phenotype.shape[0]>0.2)"
   ]
  },
  {
   "cell_type": "code",
   "execution_count": 20,
   "metadata": {},
   "outputs": [
    {
     "data": {
      "text/plain": [
       "0.8941291465575173"
      ]
     },
     "execution_count": 20,
     "metadata": {},
     "output_type": "execute_result"
    }
   ],
   "source": [
    "29272/32738"
   ]
  },
  {
   "cell_type": "code",
   "execution_count": 19,
   "metadata": {},
   "outputs": [
    {
     "data": {
      "text/plain": [
       "27785"
      ]
     },
     "execution_count": 19,
     "metadata": {},
     "output_type": "execute_result"
    }
   ],
   "source": [
    "sum((phenotype == 0).astype(int).sum(axis=0)/phenotype.shape[0]>0.3)"
   ]
  },
  {
   "cell_type": "code",
   "execution_count": 21,
   "metadata": {},
   "outputs": [
    {
     "data": {
      "text/plain": [
       "0.8487079235139593"
      ]
     },
     "execution_count": 21,
     "metadata": {},
     "output_type": "execute_result"
    }
   ],
   "source": [
    "27785/32738"
   ]
  },
  {
   "cell_type": "code",
   "execution_count": 27,
   "metadata": {},
   "outputs": [
    {
     "data": {
      "text/html": [
       "<div>\n",
       "<style scoped>\n",
       "    .dataframe tbody tr th:only-of-type {\n",
       "        vertical-align: middle;\n",
       "    }\n",
       "\n",
       "    .dataframe tbody tr th {\n",
       "        vertical-align: top;\n",
       "    }\n",
       "\n",
       "    .dataframe thead th {\n",
       "        text-align: right;\n",
       "    }\n",
       "</style>\n",
       "<table border=\"1\" class=\"dataframe\">\n",
       "  <thead>\n",
       "    <tr style=\"text-align: right;\">\n",
       "      <th></th>\n",
       "      <th>snp_id</th>\n",
       "      <th>feature</th>\n",
       "    </tr>\n",
       "  </thead>\n",
       "  <tbody>\n",
       "    <tr>\n",
       "      <th>0</th>\n",
       "      <td>9_36382790_A_G</td>\n",
       "      <td>ENSG00000137075</td>\n",
       "    </tr>\n",
       "    <tr>\n",
       "      <th>1</th>\n",
       "      <td>9_37422656_C_T</td>\n",
       "      <td>ENSG00000137106</td>\n",
       "    </tr>\n",
       "    <tr>\n",
       "      <th>2</th>\n",
       "      <td>9_35595006_T_G</td>\n",
       "      <td>ENSG00000198722</td>\n",
       "    </tr>\n",
       "    <tr>\n",
       "      <th>3</th>\n",
       "      <td>5_79950781_A_G</td>\n",
       "      <td>ENSG00000113318</td>\n",
       "    </tr>\n",
       "    <tr>\n",
       "      <th>4</th>\n",
       "      <td>5_81395824_T_G</td>\n",
       "      <td>ENSG00000152348</td>\n",
       "    </tr>\n",
       "  </tbody>\n",
       "</table>\n",
       "</div>"
      ],
      "text/plain": [
       "           snp_id          feature\n",
       "0  9_36382790_A_G  ENSG00000137075\n",
       "1  9_37422656_C_T  ENSG00000137106\n",
       "2  9_35595006_T_G  ENSG00000198722\n",
       "3  5_79950781_A_G  ENSG00000113318\n",
       "4  5_81395824_T_G  ENSG00000152348"
      ]
     },
     "execution_count": 27,
     "metadata": {},
     "output_type": "execute_result"
    }
   ],
   "source": [
    "# Filter on specific gene-SNP pairs\n",
    "# eQTL from neuroseq DA (day30 + day52 + day52 ROT treated)\n",
    "neuro_eqtl_file = \"/hps/nobackup/stegle/users/acuomo/all_scripts/struct_LMM2/sc_neuroseq/input_files/DA_eqtl_allconditions_FDR5pct.csv\" # consider filter further (significant only)\n",
    "neuro_eqtl = pd.read_csv(neuro_eqtl_file)\n",
    "neuro_eqtl.head()"
   ]
  },
  {
   "cell_type": "code",
   "execution_count": 24,
   "metadata": {},
   "outputs": [
    {
     "data": {
      "text/plain": [
       "1374"
      ]
     },
     "execution_count": 24,
     "metadata": {},
     "output_type": "execute_result"
    }
   ],
   "source": [
    "genes = neuro_eqtl['feature'].unique()\n",
    "len(genes)"
   ]
  },
  {
   "cell_type": "code",
   "execution_count": 41,
   "metadata": {},
   "outputs": [],
   "source": [
    "#load map HGNC to ensembl\n",
    "mapping_df = pd.read_csv('/nfs/leia/research/stegle/dseaton/genomes/hg19/annotation/geneid_mappings/hgnc_symbol2ensembl_gene_id.txt', sep='\\t')"
   ]
  },
  {
   "cell_type": "code",
   "execution_count": 33,
   "metadata": {},
   "outputs": [
    {
     "data": {
      "text/html": [
       "<div>\n",
       "<style scoped>\n",
       "    .dataframe tbody tr th:only-of-type {\n",
       "        vertical-align: middle;\n",
       "    }\n",
       "\n",
       "    .dataframe tbody tr th {\n",
       "        vertical-align: top;\n",
       "    }\n",
       "\n",
       "    .dataframe thead th {\n",
       "        text-align: right;\n",
       "    }\n",
       "</style>\n",
       "<table border=\"1\" class=\"dataframe\">\n",
       "  <thead>\n",
       "    <tr style=\"text-align: right;\">\n",
       "      <th></th>\n",
       "      <th>MIR1302-10</th>\n",
       "      <th>FAM138A</th>\n",
       "      <th>OR4F5</th>\n",
       "      <th>RP11-34P13.7</th>\n",
       "      <th>RP11-34P13.8</th>\n",
       "      <th>AL627309.1</th>\n",
       "      <th>RP11-34P13.14</th>\n",
       "      <th>RP11-34P13.9</th>\n",
       "      <th>AP006222.2</th>\n",
       "      <th>RP4-669L17.10</th>\n",
       "      <th>...</th>\n",
       "      <th>KIR3DL2-1</th>\n",
       "      <th>AL590523.1</th>\n",
       "      <th>CT476828.1</th>\n",
       "      <th>PNRC2-1</th>\n",
       "      <th>SRSF10-1</th>\n",
       "      <th>AC145205.1</th>\n",
       "      <th>BAGE5</th>\n",
       "      <th>CU459201.1</th>\n",
       "      <th>AC002321.2</th>\n",
       "      <th>AC002321.1</th>\n",
       "    </tr>\n",
       "  </thead>\n",
       "  <tbody>\n",
       "    <tr>\n",
       "      <th>HPSI0714i-iudw_1--DA--d30--0</th>\n",
       "      <td>0.0</td>\n",
       "      <td>0.0</td>\n",
       "      <td>0.0</td>\n",
       "      <td>0.0</td>\n",
       "      <td>0.0</td>\n",
       "      <td>0.0</td>\n",
       "      <td>0.0</td>\n",
       "      <td>0.0</td>\n",
       "      <td>0.900116</td>\n",
       "      <td>0.0</td>\n",
       "      <td>...</td>\n",
       "      <td>0.0</td>\n",
       "      <td>0.0</td>\n",
       "      <td>0.0</td>\n",
       "      <td>0.000000</td>\n",
       "      <td>1.514001</td>\n",
       "      <td>0.0</td>\n",
       "      <td>0.0</td>\n",
       "      <td>0.0</td>\n",
       "      <td>0.0</td>\n",
       "      <td>0.0</td>\n",
       "    </tr>\n",
       "    <tr>\n",
       "      <th>HPSI0714i-iudw_1--DA--d30--1</th>\n",
       "      <td>0.0</td>\n",
       "      <td>0.0</td>\n",
       "      <td>0.0</td>\n",
       "      <td>0.0</td>\n",
       "      <td>0.0</td>\n",
       "      <td>0.0</td>\n",
       "      <td>0.0</td>\n",
       "      <td>0.0</td>\n",
       "      <td>0.775420</td>\n",
       "      <td>0.0</td>\n",
       "      <td>...</td>\n",
       "      <td>0.0</td>\n",
       "      <td>0.0</td>\n",
       "      <td>0.0</td>\n",
       "      <td>0.388600</td>\n",
       "      <td>1.932043</td>\n",
       "      <td>0.0</td>\n",
       "      <td>0.0</td>\n",
       "      <td>0.0</td>\n",
       "      <td>0.0</td>\n",
       "      <td>0.0</td>\n",
       "    </tr>\n",
       "    <tr>\n",
       "      <th>HPSI0714i-iudw_1--DA--d30--2</th>\n",
       "      <td>0.0</td>\n",
       "      <td>0.0</td>\n",
       "      <td>0.0</td>\n",
       "      <td>0.0</td>\n",
       "      <td>0.0</td>\n",
       "      <td>0.0</td>\n",
       "      <td>0.0</td>\n",
       "      <td>0.0</td>\n",
       "      <td>1.603750</td>\n",
       "      <td>0.0</td>\n",
       "      <td>...</td>\n",
       "      <td>0.0</td>\n",
       "      <td>0.0</td>\n",
       "      <td>0.0</td>\n",
       "      <td>0.000000</td>\n",
       "      <td>0.446621</td>\n",
       "      <td>0.0</td>\n",
       "      <td>0.0</td>\n",
       "      <td>0.0</td>\n",
       "      <td>0.0</td>\n",
       "      <td>0.0</td>\n",
       "    </tr>\n",
       "    <tr>\n",
       "      <th>HPSI0714i-iudw_1--DA--d30--3</th>\n",
       "      <td>0.0</td>\n",
       "      <td>0.0</td>\n",
       "      <td>0.0</td>\n",
       "      <td>0.0</td>\n",
       "      <td>0.0</td>\n",
       "      <td>0.0</td>\n",
       "      <td>0.0</td>\n",
       "      <td>0.0</td>\n",
       "      <td>1.215118</td>\n",
       "      <td>0.0</td>\n",
       "      <td>...</td>\n",
       "      <td>0.0</td>\n",
       "      <td>0.0</td>\n",
       "      <td>0.0</td>\n",
       "      <td>0.000000</td>\n",
       "      <td>1.280547</td>\n",
       "      <td>0.0</td>\n",
       "      <td>0.0</td>\n",
       "      <td>0.0</td>\n",
       "      <td>0.0</td>\n",
       "      <td>0.0</td>\n",
       "    </tr>\n",
       "    <tr>\n",
       "      <th>HPSI0714i-iudw_1--DA--d30--4</th>\n",
       "      <td>0.0</td>\n",
       "      <td>0.0</td>\n",
       "      <td>0.0</td>\n",
       "      <td>0.0</td>\n",
       "      <td>0.0</td>\n",
       "      <td>0.0</td>\n",
       "      <td>0.0</td>\n",
       "      <td>0.0</td>\n",
       "      <td>2.389510</td>\n",
       "      <td>0.0</td>\n",
       "      <td>...</td>\n",
       "      <td>0.0</td>\n",
       "      <td>0.0</td>\n",
       "      <td>0.0</td>\n",
       "      <td>0.373329</td>\n",
       "      <td>3.733828</td>\n",
       "      <td>0.0</td>\n",
       "      <td>0.0</td>\n",
       "      <td>0.0</td>\n",
       "      <td>0.0</td>\n",
       "      <td>0.0</td>\n",
       "    </tr>\n",
       "  </tbody>\n",
       "</table>\n",
       "<p>5 rows × 32738 columns</p>\n",
       "</div>"
      ],
      "text/plain": [
       "                              MIR1302-10  FAM138A  OR4F5  RP11-34P13.7  \\\n",
       "HPSI0714i-iudw_1--DA--d30--0         0.0      0.0    0.0           0.0   \n",
       "HPSI0714i-iudw_1--DA--d30--1         0.0      0.0    0.0           0.0   \n",
       "HPSI0714i-iudw_1--DA--d30--2         0.0      0.0    0.0           0.0   \n",
       "HPSI0714i-iudw_1--DA--d30--3         0.0      0.0    0.0           0.0   \n",
       "HPSI0714i-iudw_1--DA--d30--4         0.0      0.0    0.0           0.0   \n",
       "\n",
       "                              RP11-34P13.8  AL627309.1  RP11-34P13.14  \\\n",
       "HPSI0714i-iudw_1--DA--d30--0           0.0         0.0            0.0   \n",
       "HPSI0714i-iudw_1--DA--d30--1           0.0         0.0            0.0   \n",
       "HPSI0714i-iudw_1--DA--d30--2           0.0         0.0            0.0   \n",
       "HPSI0714i-iudw_1--DA--d30--3           0.0         0.0            0.0   \n",
       "HPSI0714i-iudw_1--DA--d30--4           0.0         0.0            0.0   \n",
       "\n",
       "                              RP11-34P13.9  AP006222.2  RP4-669L17.10  ...  \\\n",
       "HPSI0714i-iudw_1--DA--d30--0           0.0    0.900116            0.0  ...   \n",
       "HPSI0714i-iudw_1--DA--d30--1           0.0    0.775420            0.0  ...   \n",
       "HPSI0714i-iudw_1--DA--d30--2           0.0    1.603750            0.0  ...   \n",
       "HPSI0714i-iudw_1--DA--d30--3           0.0    1.215118            0.0  ...   \n",
       "HPSI0714i-iudw_1--DA--d30--4           0.0    2.389510            0.0  ...   \n",
       "\n",
       "                              KIR3DL2-1  AL590523.1  CT476828.1   PNRC2-1  \\\n",
       "HPSI0714i-iudw_1--DA--d30--0        0.0         0.0         0.0  0.000000   \n",
       "HPSI0714i-iudw_1--DA--d30--1        0.0         0.0         0.0  0.388600   \n",
       "HPSI0714i-iudw_1--DA--d30--2        0.0         0.0         0.0  0.000000   \n",
       "HPSI0714i-iudw_1--DA--d30--3        0.0         0.0         0.0  0.000000   \n",
       "HPSI0714i-iudw_1--DA--d30--4        0.0         0.0         0.0  0.373329   \n",
       "\n",
       "                              SRSF10-1  AC145205.1  BAGE5  CU459201.1  \\\n",
       "HPSI0714i-iudw_1--DA--d30--0  1.514001         0.0    0.0         0.0   \n",
       "HPSI0714i-iudw_1--DA--d30--1  1.932043         0.0    0.0         0.0   \n",
       "HPSI0714i-iudw_1--DA--d30--2  0.446621         0.0    0.0         0.0   \n",
       "HPSI0714i-iudw_1--DA--d30--3  1.280547         0.0    0.0         0.0   \n",
       "HPSI0714i-iudw_1--DA--d30--4  3.733828         0.0    0.0         0.0   \n",
       "\n",
       "                              AC002321.2  AC002321.1  \n",
       "HPSI0714i-iudw_1--DA--d30--0         0.0         0.0  \n",
       "HPSI0714i-iudw_1--DA--d30--1         0.0         0.0  \n",
       "HPSI0714i-iudw_1--DA--d30--2         0.0         0.0  \n",
       "HPSI0714i-iudw_1--DA--d30--3         0.0         0.0  \n",
       "HPSI0714i-iudw_1--DA--d30--4         0.0         0.0  \n",
       "\n",
       "[5 rows x 32738 columns]"
      ]
     },
     "execution_count": 33,
     "metadata": {},
     "output_type": "execute_result"
    }
   ],
   "source": [
    "phenotype_df = phenotype.copy()\n",
    "phenotype_df.head()"
   ]
  },
  {
   "cell_type": "code",
   "execution_count": 39,
   "metadata": {},
   "outputs": [
    {
     "data": {
      "text/plain": [
       "Index(['MIR1302-10', 'FAM138A', 'OR4F5', 'RP11-34P13.7', 'RP11-34P13.8',\n",
       "       'AL627309.1', 'RP11-34P13.14', 'RP11-34P13.9', 'AP006222.2',\n",
       "       'RP4-669L17.10',\n",
       "       ...\n",
       "       'KIR3DL2-1', 'AL590523.1', 'CT476828.1', 'PNRC2-1', 'SRSF10-1',\n",
       "       'AC145205.1', 'BAGE5', 'CU459201.1', 'AC002321.2', 'AC002321.1'],\n",
       "      dtype='object', length=32738)"
      ]
     },
     "execution_count": 39,
     "metadata": {},
     "output_type": "execute_result"
    }
   ],
   "source": [
    "# phenotype_df = phenotype_df.transpose()\n",
    "phenotype_list = phenotype_df.index\n",
    "phenotype_list"
   ]
  },
  {
   "cell_type": "code",
   "execution_count": 42,
   "metadata": {},
   "outputs": [
    {
     "data": {
      "text/html": [
       "<div>\n",
       "<style scoped>\n",
       "    .dataframe tbody tr th:only-of-type {\n",
       "        vertical-align: middle;\n",
       "    }\n",
       "\n",
       "    .dataframe tbody tr th {\n",
       "        vertical-align: top;\n",
       "    }\n",
       "\n",
       "    .dataframe thead th {\n",
       "        text-align: right;\n",
       "    }\n",
       "</style>\n",
       "<table border=\"1\" class=\"dataframe\">\n",
       "  <thead>\n",
       "    <tr style=\"text-align: right;\">\n",
       "      <th></th>\n",
       "      <th>hgnc_symbol</th>\n",
       "      <th>ensembl_gene_id</th>\n",
       "    </tr>\n",
       "  </thead>\n",
       "  <tbody>\n",
       "    <tr>\n",
       "      <th>0</th>\n",
       "      <td>SLC25A26</td>\n",
       "      <td>ENSG00000261657</td>\n",
       "    </tr>\n",
       "    <tr>\n",
       "      <th>1</th>\n",
       "      <td>NaN</td>\n",
       "      <td>ENSG00000223116</td>\n",
       "    </tr>\n",
       "    <tr>\n",
       "      <th>2</th>\n",
       "      <td>HMGA1P6</td>\n",
       "      <td>ENSG00000233440</td>\n",
       "    </tr>\n",
       "    <tr>\n",
       "      <th>3</th>\n",
       "      <td>RNY3P4</td>\n",
       "      <td>ENSG00000207157</td>\n",
       "    </tr>\n",
       "    <tr>\n",
       "      <th>4</th>\n",
       "      <td>LINC00362</td>\n",
       "      <td>ENSG00000229483</td>\n",
       "    </tr>\n",
       "  </tbody>\n",
       "</table>\n",
       "</div>"
      ],
      "text/plain": [
       "  hgnc_symbol  ensembl_gene_id\n",
       "0    SLC25A26  ENSG00000261657\n",
       "1         NaN  ENSG00000223116\n",
       "2     HMGA1P6  ENSG00000233440\n",
       "3      RNY3P4  ENSG00000207157\n",
       "4   LINC00362  ENSG00000229483"
      ]
     },
     "execution_count": 42,
     "metadata": {},
     "output_type": "execute_result"
    }
   ],
   "source": [
    "mapping_df.head()"
   ]
  },
  {
   "cell_type": "code",
   "execution_count": 43,
   "metadata": {},
   "outputs": [],
   "source": [
    "mapping_df = mapping_df.query('hgnc_symbol in @phenotype_list')\n",
    "mapping_df = mapping_df.drop_duplicates(subset=['hgnc_symbol'])\n",
    "mapping_df = mapping_df.set_index('hgnc_symbol')"
   ]
  },
  {
   "cell_type": "code",
   "execution_count": 44,
   "metadata": {},
   "outputs": [
    {
     "data": {
      "text/html": [
       "<div>\n",
       "<style scoped>\n",
       "    .dataframe tbody tr th:only-of-type {\n",
       "        vertical-align: middle;\n",
       "    }\n",
       "\n",
       "    .dataframe tbody tr th {\n",
       "        vertical-align: top;\n",
       "    }\n",
       "\n",
       "    .dataframe thead th {\n",
       "        text-align: right;\n",
       "    }\n",
       "</style>\n",
       "<table border=\"1\" class=\"dataframe\">\n",
       "  <thead>\n",
       "    <tr style=\"text-align: right;\">\n",
       "      <th></th>\n",
       "      <th>HPSI0714i-iudw_1--DA--d30--0</th>\n",
       "      <th>HPSI0714i-iudw_1--DA--d30--1</th>\n",
       "      <th>HPSI0714i-iudw_1--DA--d30--2</th>\n",
       "      <th>HPSI0714i-iudw_1--DA--d30--3</th>\n",
       "      <th>HPSI0714i-iudw_1--DA--d30--4</th>\n",
       "      <th>HPSI0714i-iudw_1--DA--d30--5</th>\n",
       "      <th>HPSI0714i-iudw_1--DA--d30--6</th>\n",
       "      <th>HPSI0714i-iudw_1--DA--d30--7</th>\n",
       "      <th>HPSI0714i-iudw_1--DA--d30--8</th>\n",
       "      <th>HPSI0714i-iudw_1--DA--d30--9</th>\n",
       "      <th>...</th>\n",
       "      <th>HPSI0114i-rozh_4--DA--d52_tr--3</th>\n",
       "      <th>HPSI0114i-rozh_4--DA--d52_tr--4</th>\n",
       "      <th>HPSI0114i-rozh_4--DA--d52_tr--5</th>\n",
       "      <th>HPSI0114i-rozh_4--DA--d52_tr--6</th>\n",
       "      <th>HPSI0114i-rozh_4--DA--d52_tr--7</th>\n",
       "      <th>HPSI0114i-rozh_4--DA--d52_tr--8</th>\n",
       "      <th>HPSI0114i-rozh_4--DA--d52_tr--9</th>\n",
       "      <th>HPSI0114i-rozh_4--DA--d52_tr--10</th>\n",
       "      <th>HPSI0114i-rozh_4--DA--d52_tr--11</th>\n",
       "      <th>HPSI0114i-rozh_4--DA--d52_tr--12</th>\n",
       "    </tr>\n",
       "    <tr>\n",
       "      <th>ensembl_gene_id</th>\n",
       "      <th></th>\n",
       "      <th></th>\n",
       "      <th></th>\n",
       "      <th></th>\n",
       "      <th></th>\n",
       "      <th></th>\n",
       "      <th></th>\n",
       "      <th></th>\n",
       "      <th></th>\n",
       "      <th></th>\n",
       "      <th></th>\n",
       "      <th></th>\n",
       "      <th></th>\n",
       "      <th></th>\n",
       "      <th></th>\n",
       "      <th></th>\n",
       "      <th></th>\n",
       "      <th></th>\n",
       "      <th></th>\n",
       "      <th></th>\n",
       "      <th></th>\n",
       "    </tr>\n",
       "  </thead>\n",
       "  <tbody>\n",
       "    <tr>\n",
       "      <th>ENSG00000261657</th>\n",
       "      <td>2.557058</td>\n",
       "      <td>0.817285</td>\n",
       "      <td>0.406268</td>\n",
       "      <td>1.617208</td>\n",
       "      <td>0.833736</td>\n",
       "      <td>0.957703</td>\n",
       "      <td>0.0</td>\n",
       "      <td>0.518151</td>\n",
       "      <td>1.779975</td>\n",
       "      <td>1.7302</td>\n",
       "      <td>...</td>\n",
       "      <td>2.281446</td>\n",
       "      <td>2.674164</td>\n",
       "      <td>3.642436</td>\n",
       "      <td>4.216954</td>\n",
       "      <td>0.0</td>\n",
       "      <td>6.633148</td>\n",
       "      <td>0.0</td>\n",
       "      <td>0.0</td>\n",
       "      <td>0.0</td>\n",
       "      <td>0.0</td>\n",
       "    </tr>\n",
       "    <tr>\n",
       "      <th>ENSG00000229483</th>\n",
       "      <td>0.000000</td>\n",
       "      <td>0.000000</td>\n",
       "      <td>0.000000</td>\n",
       "      <td>0.000000</td>\n",
       "      <td>0.000000</td>\n",
       "      <td>0.000000</td>\n",
       "      <td>0.0</td>\n",
       "      <td>0.000000</td>\n",
       "      <td>0.000000</td>\n",
       "      <td>0.0000</td>\n",
       "      <td>...</td>\n",
       "      <td>0.000000</td>\n",
       "      <td>0.000000</td>\n",
       "      <td>0.000000</td>\n",
       "      <td>0.000000</td>\n",
       "      <td>0.0</td>\n",
       "      <td>0.000000</td>\n",
       "      <td>0.0</td>\n",
       "      <td>0.0</td>\n",
       "      <td>0.0</td>\n",
       "      <td>0.0</td>\n",
       "    </tr>\n",
       "    <tr>\n",
       "      <th>ENSG00000232849</th>\n",
       "      <td>0.000000</td>\n",
       "      <td>0.000000</td>\n",
       "      <td>0.000000</td>\n",
       "      <td>0.000000</td>\n",
       "      <td>0.000000</td>\n",
       "      <td>0.000000</td>\n",
       "      <td>0.0</td>\n",
       "      <td>0.000000</td>\n",
       "      <td>0.000000</td>\n",
       "      <td>0.0000</td>\n",
       "      <td>...</td>\n",
       "      <td>0.000000</td>\n",
       "      <td>0.000000</td>\n",
       "      <td>0.000000</td>\n",
       "      <td>0.000000</td>\n",
       "      <td>0.0</td>\n",
       "      <td>0.000000</td>\n",
       "      <td>0.0</td>\n",
       "      <td>0.0</td>\n",
       "      <td>0.0</td>\n",
       "      <td>0.0</td>\n",
       "    </tr>\n",
       "    <tr>\n",
       "      <th>ENSG00000229558</th>\n",
       "      <td>0.000000</td>\n",
       "      <td>0.000000</td>\n",
       "      <td>0.000000</td>\n",
       "      <td>0.000000</td>\n",
       "      <td>0.000000</td>\n",
       "      <td>0.000000</td>\n",
       "      <td>0.0</td>\n",
       "      <td>0.000000</td>\n",
       "      <td>0.000000</td>\n",
       "      <td>0.0000</td>\n",
       "      <td>...</td>\n",
       "      <td>0.000000</td>\n",
       "      <td>0.000000</td>\n",
       "      <td>0.000000</td>\n",
       "      <td>0.000000</td>\n",
       "      <td>0.0</td>\n",
       "      <td>0.000000</td>\n",
       "      <td>0.0</td>\n",
       "      <td>0.0</td>\n",
       "      <td>0.0</td>\n",
       "      <td>0.0</td>\n",
       "    </tr>\n",
       "    <tr>\n",
       "      <th>ENSG00000224394</th>\n",
       "      <td>0.000000</td>\n",
       "      <td>0.000000</td>\n",
       "      <td>0.000000</td>\n",
       "      <td>0.000000</td>\n",
       "      <td>0.000000</td>\n",
       "      <td>0.000000</td>\n",
       "      <td>0.0</td>\n",
       "      <td>0.000000</td>\n",
       "      <td>0.000000</td>\n",
       "      <td>0.0000</td>\n",
       "      <td>...</td>\n",
       "      <td>0.000000</td>\n",
       "      <td>0.000000</td>\n",
       "      <td>0.000000</td>\n",
       "      <td>0.000000</td>\n",
       "      <td>0.0</td>\n",
       "      <td>0.000000</td>\n",
       "      <td>0.0</td>\n",
       "      <td>0.0</td>\n",
       "      <td>0.0</td>\n",
       "      <td>0.0</td>\n",
       "    </tr>\n",
       "  </tbody>\n",
       "</table>\n",
       "<p>5 rows × 9982 columns</p>\n",
       "</div>"
      ],
      "text/plain": [
       "                 HPSI0714i-iudw_1--DA--d30--0  HPSI0714i-iudw_1--DA--d30--1  \\\n",
       "ensembl_gene_id                                                               \n",
       "ENSG00000261657                      2.557058                      0.817285   \n",
       "ENSG00000229483                      0.000000                      0.000000   \n",
       "ENSG00000232849                      0.000000                      0.000000   \n",
       "ENSG00000229558                      0.000000                      0.000000   \n",
       "ENSG00000224394                      0.000000                      0.000000   \n",
       "\n",
       "                 HPSI0714i-iudw_1--DA--d30--2  HPSI0714i-iudw_1--DA--d30--3  \\\n",
       "ensembl_gene_id                                                               \n",
       "ENSG00000261657                      0.406268                      1.617208   \n",
       "ENSG00000229483                      0.000000                      0.000000   \n",
       "ENSG00000232849                      0.000000                      0.000000   \n",
       "ENSG00000229558                      0.000000                      0.000000   \n",
       "ENSG00000224394                      0.000000                      0.000000   \n",
       "\n",
       "                 HPSI0714i-iudw_1--DA--d30--4  HPSI0714i-iudw_1--DA--d30--5  \\\n",
       "ensembl_gene_id                                                               \n",
       "ENSG00000261657                      0.833736                      0.957703   \n",
       "ENSG00000229483                      0.000000                      0.000000   \n",
       "ENSG00000232849                      0.000000                      0.000000   \n",
       "ENSG00000229558                      0.000000                      0.000000   \n",
       "ENSG00000224394                      0.000000                      0.000000   \n",
       "\n",
       "                 HPSI0714i-iudw_1--DA--d30--6  HPSI0714i-iudw_1--DA--d30--7  \\\n",
       "ensembl_gene_id                                                               \n",
       "ENSG00000261657                           0.0                      0.518151   \n",
       "ENSG00000229483                           0.0                      0.000000   \n",
       "ENSG00000232849                           0.0                      0.000000   \n",
       "ENSG00000229558                           0.0                      0.000000   \n",
       "ENSG00000224394                           0.0                      0.000000   \n",
       "\n",
       "                 HPSI0714i-iudw_1--DA--d30--8  HPSI0714i-iudw_1--DA--d30--9  \\\n",
       "ensembl_gene_id                                                               \n",
       "ENSG00000261657                      1.779975                        1.7302   \n",
       "ENSG00000229483                      0.000000                        0.0000   \n",
       "ENSG00000232849                      0.000000                        0.0000   \n",
       "ENSG00000229558                      0.000000                        0.0000   \n",
       "ENSG00000224394                      0.000000                        0.0000   \n",
       "\n",
       "                 ...  HPSI0114i-rozh_4--DA--d52_tr--3  \\\n",
       "ensembl_gene_id  ...                                    \n",
       "ENSG00000261657  ...                         2.281446   \n",
       "ENSG00000229483  ...                         0.000000   \n",
       "ENSG00000232849  ...                         0.000000   \n",
       "ENSG00000229558  ...                         0.000000   \n",
       "ENSG00000224394  ...                         0.000000   \n",
       "\n",
       "                 HPSI0114i-rozh_4--DA--d52_tr--4  \\\n",
       "ensembl_gene_id                                    \n",
       "ENSG00000261657                         2.674164   \n",
       "ENSG00000229483                         0.000000   \n",
       "ENSG00000232849                         0.000000   \n",
       "ENSG00000229558                         0.000000   \n",
       "ENSG00000224394                         0.000000   \n",
       "\n",
       "                 HPSI0114i-rozh_4--DA--d52_tr--5  \\\n",
       "ensembl_gene_id                                    \n",
       "ENSG00000261657                         3.642436   \n",
       "ENSG00000229483                         0.000000   \n",
       "ENSG00000232849                         0.000000   \n",
       "ENSG00000229558                         0.000000   \n",
       "ENSG00000224394                         0.000000   \n",
       "\n",
       "                 HPSI0114i-rozh_4--DA--d52_tr--6  \\\n",
       "ensembl_gene_id                                    \n",
       "ENSG00000261657                         4.216954   \n",
       "ENSG00000229483                         0.000000   \n",
       "ENSG00000232849                         0.000000   \n",
       "ENSG00000229558                         0.000000   \n",
       "ENSG00000224394                         0.000000   \n",
       "\n",
       "                 HPSI0114i-rozh_4--DA--d52_tr--7  \\\n",
       "ensembl_gene_id                                    \n",
       "ENSG00000261657                              0.0   \n",
       "ENSG00000229483                              0.0   \n",
       "ENSG00000232849                              0.0   \n",
       "ENSG00000229558                              0.0   \n",
       "ENSG00000224394                              0.0   \n",
       "\n",
       "                 HPSI0114i-rozh_4--DA--d52_tr--8  \\\n",
       "ensembl_gene_id                                    \n",
       "ENSG00000261657                         6.633148   \n",
       "ENSG00000229483                         0.000000   \n",
       "ENSG00000232849                         0.000000   \n",
       "ENSG00000229558                         0.000000   \n",
       "ENSG00000224394                         0.000000   \n",
       "\n",
       "                 HPSI0114i-rozh_4--DA--d52_tr--9  \\\n",
       "ensembl_gene_id                                    \n",
       "ENSG00000261657                              0.0   \n",
       "ENSG00000229483                              0.0   \n",
       "ENSG00000232849                              0.0   \n",
       "ENSG00000229558                              0.0   \n",
       "ENSG00000224394                              0.0   \n",
       "\n",
       "                 HPSI0114i-rozh_4--DA--d52_tr--10  \\\n",
       "ensembl_gene_id                                     \n",
       "ENSG00000261657                               0.0   \n",
       "ENSG00000229483                               0.0   \n",
       "ENSG00000232849                               0.0   \n",
       "ENSG00000229558                               0.0   \n",
       "ENSG00000224394                               0.0   \n",
       "\n",
       "                 HPSI0114i-rozh_4--DA--d52_tr--11  \\\n",
       "ensembl_gene_id                                     \n",
       "ENSG00000261657                               0.0   \n",
       "ENSG00000229483                               0.0   \n",
       "ENSG00000232849                               0.0   \n",
       "ENSG00000229558                               0.0   \n",
       "ENSG00000224394                               0.0   \n",
       "\n",
       "                 HPSI0114i-rozh_4--DA--d52_tr--12  \n",
       "ensembl_gene_id                                    \n",
       "ENSG00000261657                               0.0  \n",
       "ENSG00000229483                               0.0  \n",
       "ENSG00000232849                               0.0  \n",
       "ENSG00000229558                               0.0  \n",
       "ENSG00000224394                               0.0  \n",
       "\n",
       "[5 rows x 9982 columns]"
      ]
     },
     "execution_count": 44,
     "metadata": {},
     "output_type": "execute_result"
    }
   ],
   "source": [
    "# limit only to hgnc symbols that map to ensembl gene IDs\n",
    "phenotype_df = phenotype_df.loc[mapping_df.index,:]\n",
    "phenotype_df.index = mapping_df['ensembl_gene_id']\n",
    "phenotype_df.head()"
   ]
  },
  {
   "cell_type": "code",
   "execution_count": null,
   "metadata": {},
   "outputs": [],
   "source": []
  },
  {
   "cell_type": "code",
   "execution_count": 45,
   "metadata": {},
   "outputs": [
    {
     "data": {
      "text/plain": [
       "(1374, 9982)"
      ]
     },
     "execution_count": 45,
     "metadata": {},
     "output_type": "execute_result"
    }
   ],
   "source": [
    "pheno = phenotype_df.loc[genes]\n",
    "pheno.shape"
   ]
  },
  {
   "cell_type": "code",
   "execution_count": 52,
   "metadata": {},
   "outputs": [
    {
     "data": {
      "image/png": "[encoded data removed]",
      "text/plain": [
       "<Figure size 432x288 with 1 Axes>"
      ]
     },
     "metadata": {
      "needs_background": "light"
     },
     "output_type": "display_data"
    }
   ],
   "source": [
    "plt.hist((pheno == 0).astype(int).sum(axis=0)/pheno.shape[0])\n",
    "plt.show()"
   ]
  },
  {
   "cell_type": "code",
   "execution_count": 54,
   "metadata": {},
   "outputs": [
    {
     "data": {
      "text/plain": [
       "826"
      ]
     },
     "execution_count": 54,
     "metadata": {},
     "output_type": "execute_result"
    }
   ],
   "source": [
    "sum((pheno == 0).astype(int).sum(axis=1)/pheno.shape[1]>0.2)"
   ]
  },
  {
   "cell_type": "code",
   "execution_count": 55,
   "metadata": {},
   "outputs": [
    {
     "data": {
      "text/plain": [
       "0.6011644832605532"
      ]
     },
     "execution_count": 55,
     "metadata": {},
     "output_type": "execute_result"
    }
   ],
   "source": [
    "826/1374"
   ]
  },
  {
   "cell_type": "code",
   "execution_count": 56,
   "metadata": {},
   "outputs": [
    {
     "data": {
      "text/plain": [
       "617"
      ]
     },
     "execution_count": 56,
     "metadata": {},
     "output_type": "execute_result"
    }
   ],
   "source": [
    "sum((pheno == 0).astype(int).sum(axis=1)/pheno.shape[1]>0.3)"
   ]
  },
  {
   "cell_type": "code",
   "execution_count": 57,
   "metadata": {},
   "outputs": [
    {
     "data": {
      "text/plain": [
       "0.44905385735080056"
      ]
     },
     "execution_count": 57,
     "metadata": {},
     "output_type": "execute_result"
    }
   ],
   "source": [
    "617/1374"
   ]
  },
  {
   "cell_type": "code",
   "execution_count": 58,
   "metadata": {},
   "outputs": [
    {
     "data": {
      "text/plain": [
       "757"
      ]
     },
     "execution_count": 58,
     "metadata": {},
     "output_type": "execute_result"
    }
   ],
   "source": [
    "1374-617"
   ]
  },
  {
   "cell_type": "code",
   "execution_count": null,
   "metadata": {},
   "outputs": [],
   "source": []
  }
 ],
 "metadata": {
  "kernelspec": {
   "display_name": "Python (struct-lmm2)",
   "language": "python",
   "name": "struct-lmm2"
  },
  "language_info": {
   "codemirror_mode": {
    "name": "ipython",
    "version": 3
   },
   "file_extension": ".py",
   "mimetype": "text/x-python",
   "name": "python",
   "nbconvert_exporter": "python",
   "pygments_lexer": "ipython3",
   "version": "3.8.5"
  }
 },
 "nbformat": 4,
 "nbformat_minor": 4
}
