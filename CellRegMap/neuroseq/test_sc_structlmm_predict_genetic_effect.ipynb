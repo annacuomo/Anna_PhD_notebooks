{
 "cells": [
  {
   "cell_type": "code",
   "execution_count": 1,
   "metadata": {},
   "outputs": [],
   "source": [
    "## test only for DA D52 untreated eQTL (n=1,024, FDR<5%)\n",
    "# that also showed GxE effects (n=134) - probably one single run"
   ]
  },
  {
   "cell_type": "code",
   "execution_count": 2,
   "metadata": {},
   "outputs": [],
   "source": [
    "import numpy as np\n",
    "import pandas as pd\n",
    "from pandas_plink import read_plink1_bin\n",
    "import xarray as xr\n",
    "from numpy.linalg import cholesky\n",
    "from numpy import ones\n",
    "from struct_lmm2 import StructLMM2\n",
    "from limix.qc import quantile_gaussianize"
   ]
  },
  {
   "cell_type": "code",
   "execution_count": 3,
   "metadata": {},
   "outputs": [],
   "source": [
    "mydir = \"/hps/nobackup/stegle/users/acuomo/all_scripts/struct_LMM2/sc_neuroseq/\""
   ]
  },
  {
   "cell_type": "code",
   "execution_count": 4,
   "metadata": {},
   "outputs": [],
   "source": [
    "sample_mapping_file = mydir+\"da_d52_untreated_pseudocells_20_harmony_PCs_atleast10cells_10nn_sample_mapping.csv\"\n",
    "sample_mapping = pd.read_csv(sample_mapping_file, \n",
    "                             dtype={\"genotype_individual_id\": str, \"phenotype_sample_id\": str}, index_col=0)"
   ]
  },
  {
   "cell_type": "code",
   "execution_count": 5,
   "metadata": {},
   "outputs": [
    {
     "data": {
      "text/html": [
       "<div>\n",
       "<style scoped>\n",
       "    .dataframe tbody tr th:only-of-type {\n",
       "        vertical-align: middle;\n",
       "    }\n",
       "\n",
       "    .dataframe tbody tr th {\n",
       "        vertical-align: top;\n",
       "    }\n",
       "\n",
       "    .dataframe thead th {\n",
       "        text-align: right;\n",
       "    }\n",
       "</style>\n",
       "<table border=\"1\" class=\"dataframe\">\n",
       "  <thead>\n",
       "    <tr style=\"text-align: right;\">\n",
       "      <th></th>\n",
       "      <th>genotype_individual_id</th>\n",
       "      <th>phenotype_sample_id</th>\n",
       "    </tr>\n",
       "  </thead>\n",
       "  <tbody>\n",
       "    <tr>\n",
       "      <th>1</th>\n",
       "      <td>HPSI0513i-veve_2</td>\n",
       "      <td>HPSI0513i-veve_2-cluster1</td>\n",
       "    </tr>\n",
       "    <tr>\n",
       "      <th>2</th>\n",
       "      <td>HPSI0513i-veve_2</td>\n",
       "      <td>HPSI0513i-veve_2-cluster2</td>\n",
       "    </tr>\n",
       "    <tr>\n",
       "      <th>3</th>\n",
       "      <td>HPSI0513i-veve_2</td>\n",
       "      <td>HPSI0513i-veve_2-cluster3</td>\n",
       "    </tr>\n",
       "    <tr>\n",
       "      <th>4</th>\n",
       "      <td>HPSI0513i-veve_2</td>\n",
       "      <td>HPSI0513i-veve_2-cluster4</td>\n",
       "    </tr>\n",
       "    <tr>\n",
       "      <th>5</th>\n",
       "      <td>HPSI0513i-veve_2</td>\n",
       "      <td>HPSI0513i-veve_2-cluster5</td>\n",
       "    </tr>\n",
       "  </tbody>\n",
       "</table>\n",
       "</div>"
      ],
      "text/plain": [
       "  genotype_individual_id        phenotype_sample_id\n",
       "1       HPSI0513i-veve_2  HPSI0513i-veve_2-cluster1\n",
       "2       HPSI0513i-veve_2  HPSI0513i-veve_2-cluster2\n",
       "3       HPSI0513i-veve_2  HPSI0513i-veve_2-cluster3\n",
       "4       HPSI0513i-veve_2  HPSI0513i-veve_2-cluster4\n",
       "5       HPSI0513i-veve_2  HPSI0513i-veve_2-cluster5"
      ]
     },
     "execution_count": 5,
     "metadata": {},
     "output_type": "execute_result"
    }
   ],
   "source": [
    "sample_mapping.head()"
   ]
  },
  {
   "cell_type": "code",
   "execution_count": 6,
   "metadata": {},
   "outputs": [
    {
     "name": "stdout",
     "output_type": "stream",
     "text": [
      "Number of unique donors: 173\n"
     ]
    }
   ],
   "source": [
    "donors = sample_mapping[\"genotype_individual_id\"].unique()\n",
    "donors.sort()\n",
    "print(\"Number of unique donors: {}\".format(len(donors)))"
   ]
  },
  {
   "cell_type": "code",
   "execution_count": 7,
   "metadata": {},
   "outputs": [
    {
     "data": {
      "text/plain": [
       "(1953, 1953)"
      ]
     },
     "execution_count": 7,
     "metadata": {},
     "output_type": "execute_result"
    }
   ],
   "source": [
    "kinship_file = \"/hps/nobackup/hipsci/scratch/genotypes/imputed/REL-2018-01/Full_Filtered_Plink-f/hipsci.wec.gtarray.HumanCoreExome.imputed_phased.20170327.genotypes.norm.renamed.recode.filtered.rel\"\n",
    "K = pd.read_csv(kinship_file, sep=\"\\t\", index_col=0)\n",
    "assert all(K.columns == K.index)\n",
    "K.shape"
   ]
  },
  {
   "cell_type": "code",
   "execution_count": 8,
   "metadata": {},
   "outputs": [
    {
     "name": "stdout",
     "output_type": "stream",
     "text": [
      "Number of donors after kinship intersection: 173\n"
     ]
    }
   ],
   "source": [
    "K = xr.DataArray(K.values, dims=[\"sample_0\", \"sample_1\"], coords={\"sample_0\": K.columns, \"sample_1\": K.index})\n",
    "K = K.sortby(\"sample_0\").sortby(\"sample_1\")\n",
    "donors = sorted(set(list(K.sample_0.values)).intersection(donors))\n",
    "print(\"Number of donors after kinship intersection: {}\".format(len(donors)))"
   ]
  },
  {
   "cell_type": "code",
   "execution_count": 9,
   "metadata": {},
   "outputs": [
    {
     "data": {
      "text/plain": [
       "(173, 173)"
      ]
     },
     "execution_count": 9,
     "metadata": {},
     "output_type": "execute_result"
    }
   ],
   "source": [
    "K = K.sel(sample_0=donors, sample_1=donors)\n",
    "assert all(K.sample_0 == donors)\n",
    "assert all(K.sample_1 == donors)\n",
    "K.shape"
   ]
  },
  {
   "cell_type": "code",
   "execution_count": 10,
   "metadata": {},
   "outputs": [
    {
     "name": "stdout",
     "output_type": "stream",
     "text": [
      "Sample mapping number of rows BEFORE intersection: 1201\n",
      "Sample mapping number of rows AFTER intersection: 1201\n"
     ]
    }
   ],
   "source": [
    "L_kinship = cholesky(K.values)\n",
    "L_kinship = xr.DataArray(L_kinship, dims=[\"sample\", \"col\"], coords={\"sample\": K.sample_0.values})\n",
    "assert all(L_kinship.sample.values == K.sample_0.values)\n",
    "del K\n",
    "print(\"Sample mapping number of rows BEFORE intersection: {}\".format(sample_mapping.shape[0]))\n",
    "sample_mapping = sample_mapping[sample_mapping[\"genotype_individual_id\"].isin(donors)]\n",
    "print(\"Sample mapping number of rows AFTER intersection: {}\".format(sample_mapping.shape[0]))"
   ]
  },
  {
   "cell_type": "code",
   "execution_count": 11,
   "metadata": {},
   "outputs": [
    {
     "data": {
      "text/plain": [
       "(1201, 173)"
      ]
     },
     "execution_count": 11,
     "metadata": {},
     "output_type": "execute_result"
    }
   ],
   "source": [
    "L_expanded = L_kinship.sel(sample=sample_mapping[\"genotype_individual_id\"].values)\n",
    "assert all(L_expanded.sample.values == sample_mapping[\"genotype_individual_id\"].values)\n",
    "L_expanded.shape"
   ]
  },
  {
   "cell_type": "code",
   "execution_count": 12,
   "metadata": {
    "scrolled": true
   },
   "outputs": [
    {
     "name": "stderr",
     "output_type": "stream",
     "text": [
      "Mapping files: 100%|██████████| 3/3 [01:14<00:00, 24.83s/it]\n"
     ]
    }
   ],
   "source": [
    "plink_file = \"/hps/nobackup/hipsci/scratch/genotypes/imputed/REL-2018-01/Full_Plink/hipsci.wec.gtarray.HumanCoreExome.imputed_phased.20180102.genotypes.norm.renamed.recode.vcf.gz.bed\"\n",
    "G = read_plink1_bin(plink_file)"
   ]
  },
  {
   "cell_type": "code",
   "execution_count": 13,
   "metadata": {},
   "outputs": [
    {
     "name": "stdout",
     "output_type": "stream",
     "text": [
      "Phenotype shape BEFORE selection: (32738, 1201)\n"
     ]
    }
   ],
   "source": [
    "phenotype_file = mydir+\"da_d52_untreated_pseudocells_20_harmony_PCs_atleast10cells_10nn_means.csv\"\n",
    "phenotype = pd.read_csv(phenotype_file, index_col=0)\n",
    "print(\"Phenotype shape BEFORE selection: {}\".format(phenotype.shape))"
   ]
  },
  {
   "cell_type": "code",
   "execution_count": 14,
   "metadata": {},
   "outputs": [
    {
     "name": "stdout",
     "output_type": "stream",
     "text": [
      "Phenotype shape AFTER selection: (32738, 1201)\n"
     ]
    }
   ],
   "source": [
    "phenotype = xr.DataArray(phenotype.values, dims=[\"trait\", \"cell\"], coords={\"trait\": phenotype.index.values, \"cell\": phenotype.columns.values})\n",
    "phenotype = phenotype.sel(cell=sample_mapping[\"phenotype_sample_id\"].values)\n",
    "print(\"Phenotype shape AFTER selection: {}\".format(phenotype.shape))\n",
    "assert all(phenotype.cell.values == sample_mapping[\"phenotype_sample_id\"].values)"
   ]
  },
  {
   "cell_type": "code",
   "execution_count": 15,
   "metadata": {},
   "outputs": [
    {
     "data": {
      "text/html": [
       "<div>\n",
       "<style scoped>\n",
       "    .dataframe tbody tr th:only-of-type {\n",
       "        vertical-align: middle;\n",
       "    }\n",
       "\n",
       "    .dataframe tbody tr th {\n",
       "        vertical-align: top;\n",
       "    }\n",
       "\n",
       "    .dataframe thead th {\n",
       "        text-align: right;\n",
       "    }\n",
       "</style>\n",
       "<table border=\"1\" class=\"dataframe\">\n",
       "  <thead>\n",
       "    <tr style=\"text-align: right;\">\n",
       "      <th></th>\n",
       "      <th>PC1</th>\n",
       "      <th>PC2</th>\n",
       "      <th>PC3</th>\n",
       "      <th>PC4</th>\n",
       "      <th>PC5</th>\n",
       "      <th>PC6</th>\n",
       "      <th>PC7</th>\n",
       "      <th>PC8</th>\n",
       "      <th>PC9</th>\n",
       "      <th>PC10</th>\n",
       "      <th>...</th>\n",
       "      <th>PC491</th>\n",
       "      <th>PC492</th>\n",
       "      <th>PC493</th>\n",
       "      <th>PC494</th>\n",
       "      <th>PC495</th>\n",
       "      <th>PC496</th>\n",
       "      <th>PC497</th>\n",
       "      <th>PC498</th>\n",
       "      <th>PC499</th>\n",
       "      <th>PC500</th>\n",
       "    </tr>\n",
       "  </thead>\n",
       "  <tbody>\n",
       "    <tr>\n",
       "      <th>HPSI0513i-veve_2-cluster1</th>\n",
       "      <td>-1.077326</td>\n",
       "      <td>-0.627027</td>\n",
       "      <td>0.460020</td>\n",
       "      <td>-0.303477</td>\n",
       "      <td>1.081841</td>\n",
       "      <td>-0.743598</td>\n",
       "      <td>0.281105</td>\n",
       "      <td>-0.092173</td>\n",
       "      <td>0.309893</td>\n",
       "      <td>-0.142919</td>\n",
       "      <td>...</td>\n",
       "      <td>-0.228331</td>\n",
       "      <td>0.108394</td>\n",
       "      <td>0.094212</td>\n",
       "      <td>0.072755</td>\n",
       "      <td>0.072265</td>\n",
       "      <td>-0.153802</td>\n",
       "      <td>-0.020364</td>\n",
       "      <td>-0.051280</td>\n",
       "      <td>0.031763</td>\n",
       "      <td>0.030025</td>\n",
       "    </tr>\n",
       "    <tr>\n",
       "      <th>HPSI0513i-veve_2-cluster2</th>\n",
       "      <td>1.261613</td>\n",
       "      <td>0.064461</td>\n",
       "      <td>-0.574645</td>\n",
       "      <td>-0.210068</td>\n",
       "      <td>-0.119665</td>\n",
       "      <td>-0.513709</td>\n",
       "      <td>0.141375</td>\n",
       "      <td>0.237369</td>\n",
       "      <td>0.234771</td>\n",
       "      <td>0.832405</td>\n",
       "      <td>...</td>\n",
       "      <td>0.183989</td>\n",
       "      <td>-0.154420</td>\n",
       "      <td>0.125119</td>\n",
       "      <td>-0.253406</td>\n",
       "      <td>0.037648</td>\n",
       "      <td>-0.242901</td>\n",
       "      <td>-0.098564</td>\n",
       "      <td>-0.053207</td>\n",
       "      <td>-0.002465</td>\n",
       "      <td>-0.301348</td>\n",
       "    </tr>\n",
       "  </tbody>\n",
       "</table>\n",
       "<p>2 rows × 500 columns</p>\n",
       "</div>"
      ],
      "text/plain": [
       "                                PC1       PC2       PC3       PC4       PC5  \\\n",
       "HPSI0513i-veve_2-cluster1 -1.077326 -0.627027  0.460020 -0.303477  1.081841   \n",
       "HPSI0513i-veve_2-cluster2  1.261613  0.064461 -0.574645 -0.210068 -0.119665   \n",
       "\n",
       "                                PC6       PC7       PC8       PC9      PC10  \\\n",
       "HPSI0513i-veve_2-cluster1 -0.743598  0.281105 -0.092173  0.309893 -0.142919   \n",
       "HPSI0513i-veve_2-cluster2 -0.513709  0.141375  0.237369  0.234771  0.832405   \n",
       "\n",
       "                           ...     PC491     PC492     PC493     PC494  \\\n",
       "HPSI0513i-veve_2-cluster1  ... -0.228331  0.108394  0.094212  0.072755   \n",
       "HPSI0513i-veve_2-cluster2  ...  0.183989 -0.154420  0.125119 -0.253406   \n",
       "\n",
       "                              PC495     PC496     PC497     PC498     PC499  \\\n",
       "HPSI0513i-veve_2-cluster1  0.072265 -0.153802 -0.020364 -0.051280  0.031763   \n",
       "HPSI0513i-veve_2-cluster2  0.037648 -0.242901 -0.098564 -0.053207 -0.002465   \n",
       "\n",
       "                              PC500  \n",
       "HPSI0513i-veve_2-cluster1  0.030025  \n",
       "HPSI0513i-veve_2-cluster2 -0.301348  \n",
       "\n",
       "[2 rows x 500 columns]"
      ]
     },
     "execution_count": 15,
     "metadata": {},
     "output_type": "execute_result"
    }
   ],
   "source": [
    "E_file = mydir+\"da_d52_untreated_pseudocells_20_harmony_PCs_atleast10cells_10nn_mean_500pcs.csv\"\n",
    "E = pd.read_csv(E_file, index_col=0)\n",
    "E.head(2)"
   ]
  },
  {
   "cell_type": "code",
   "execution_count": 16,
   "metadata": {},
   "outputs": [],
   "source": [
    "E = xr.DataArray(E.values, dims=[\"cell\", \"pc\"], coords={\"cell\": E.index.values, \"pc\": E.columns.values})\n",
    "E = E.sel(cell=sample_mapping[\"phenotype_sample_id\"].values)\n",
    "assert all(E.cell.values == sample_mapping[\"phenotype_sample_id\"].values)"
   ]
  },
  {
   "cell_type": "code",
   "execution_count": 17,
   "metadata": {},
   "outputs": [
    {
     "data": {
      "text/html": [
       "<div>\n",
       "<style scoped>\n",
       "    .dataframe tbody tr th:only-of-type {\n",
       "        vertical-align: middle;\n",
       "    }\n",
       "\n",
       "    .dataframe tbody tr th {\n",
       "        vertical-align: top;\n",
       "    }\n",
       "\n",
       "    .dataframe thead th {\n",
       "        text-align: right;\n",
       "    }\n",
       "</style>\n",
       "<table border=\"1\" class=\"dataframe\">\n",
       "  <thead>\n",
       "    <tr style=\"text-align: right;\">\n",
       "      <th></th>\n",
       "      <th>feature_id</th>\n",
       "      <th>chromosome</th>\n",
       "      <th>start</th>\n",
       "      <th>end</th>\n",
       "    </tr>\n",
       "  </thead>\n",
       "  <tbody>\n",
       "    <tr>\n",
       "      <th>0</th>\n",
       "      <td>ENSG00000223972</td>\n",
       "      <td>1</td>\n",
       "      <td>11869</td>\n",
       "      <td>14412</td>\n",
       "    </tr>\n",
       "    <tr>\n",
       "      <th>1</th>\n",
       "      <td>ENSG00000227232</td>\n",
       "      <td>1</td>\n",
       "      <td>14363</td>\n",
       "      <td>29806</td>\n",
       "    </tr>\n",
       "    <tr>\n",
       "      <th>2</th>\n",
       "      <td>ENSG00000243485</td>\n",
       "      <td>1</td>\n",
       "      <td>29554</td>\n",
       "      <td>31109</td>\n",
       "    </tr>\n",
       "    <tr>\n",
       "      <th>3</th>\n",
       "      <td>ENSG00000237613</td>\n",
       "      <td>1</td>\n",
       "      <td>34554</td>\n",
       "      <td>36081</td>\n",
       "    </tr>\n",
       "    <tr>\n",
       "      <th>4</th>\n",
       "      <td>ENSG00000268020</td>\n",
       "      <td>1</td>\n",
       "      <td>52473</td>\n",
       "      <td>54936</td>\n",
       "    </tr>\n",
       "  </tbody>\n",
       "</table>\n",
       "</div>"
      ],
      "text/plain": [
       "        feature_id chromosome  start    end\n",
       "0  ENSG00000223972          1  11869  14412\n",
       "1  ENSG00000227232          1  14363  29806\n",
       "2  ENSG00000243485          1  29554  31109\n",
       "3  ENSG00000237613          1  34554  36081\n",
       "4  ENSG00000268020          1  52473  54936"
      ]
     },
     "execution_count": 17,
     "metadata": {},
     "output_type": "execute_result"
    }
   ],
   "source": [
    "gene_anno_file = \"/nfs/leia/research/stegle/dseaton/hipsci/singlecell_neuroseq/data/metadata/gene_annotation/Homo_sapiens.GRCh37.82.Limix_annotation_gene_level.txt\"\n",
    "annotation_df = pd.read_csv(gene_anno_file, sep=\"\\t\")\n",
    "annotation_df.head()"
   ]
  },
  {
   "cell_type": "code",
   "execution_count": 18,
   "metadata": {},
   "outputs": [
    {
     "data": {
      "text/plain": [
       "1024"
      ]
     },
     "execution_count": 18,
     "metadata": {},
     "output_type": "execute_result"
    }
   ],
   "source": [
    "neuro_eqtl_file = mydir+\"da_d52_none_eqtl_fdr5pct.csv\"\n",
    "neuro_eqtl = pd.read_csv(neuro_eqtl_file, index_col = 0)\n",
    "neuro_eqtl[\"chrom\"] = [int(i[:i.find(\"_\")]) for i in neuro_eqtl[\"snp_id\"]]\n",
    "neuro_eqtl.head()\n",
    "genes = neuro_eqtl['feature_id'].unique()\n",
    "len(genes)"
   ]
  },
  {
   "cell_type": "code",
   "execution_count": 19,
   "metadata": {},
   "outputs": [
    {
     "data": {
      "text/plain": [
       "1018"
      ]
     },
     "execution_count": 19,
     "metadata": {},
     "output_type": "execute_result"
    }
   ],
   "source": [
    "leads = neuro_eqtl['snp_id'].unique()\n",
    "len(leads)"
   ]
  },
  {
   "cell_type": "code",
   "execution_count": 20,
   "metadata": {},
   "outputs": [
    {
     "data": {
      "text/plain": [
       "(1953, 1018)"
      ]
     },
     "execution_count": 20,
     "metadata": {},
     "output_type": "execute_result"
    }
   ],
   "source": [
    "G_sel = G[:,G['snp'].isin(leads)]\n",
    "G_sel.shape"
   ]
  },
  {
   "cell_type": "code",
   "execution_count": 21,
   "metadata": {},
   "outputs": [
    {
     "name": "stderr",
     "output_type": "stream",
     "text": [
      "/nfs/software/stegle/users/acuomo/conda-envs/struct-lmm2/lib/python3.7/site-packages/xarray/core/indexing.py:1343: PerformanceWarning: Slicing with an out-of-order index is generating 34 times more chunks\n",
      "  return self.array[key]\n"
     ]
    }
   ],
   "source": [
    "G_exp = G_sel.sel(sample=sample_mapping[\"genotype_individual_id\"].values)\n",
    "assert all(L_expanded.sample.values == G_exp.sample.values)"
   ]
  },
  {
   "cell_type": "code",
   "execution_count": 22,
   "metadata": {},
   "outputs": [
    {
     "data": {
      "text/html": [
       "<div>\n",
       "<style scoped>\n",
       "    .dataframe tbody tr th:only-of-type {\n",
       "        vertical-align: middle;\n",
       "    }\n",
       "\n",
       "    .dataframe tbody tr th {\n",
       "        vertical-align: top;\n",
       "    }\n",
       "\n",
       "    .dataframe thead th {\n",
       "        text-align: right;\n",
       "    }\n",
       "</style>\n",
       "<table border=\"1\" class=\"dataframe\">\n",
       "  <thead>\n",
       "    <tr style=\"text-align: right;\">\n",
       "      <th></th>\n",
       "      <th>ensembl_gene_id</th>\n",
       "    </tr>\n",
       "    <tr>\n",
       "      <th>hgnc_symbol</th>\n",
       "      <th></th>\n",
       "    </tr>\n",
       "  </thead>\n",
       "  <tbody>\n",
       "    <tr>\n",
       "      <th>SLC25A26</th>\n",
       "      <td>ENSG00000261657</td>\n",
       "    </tr>\n",
       "    <tr>\n",
       "      <th>NaN</th>\n",
       "      <td>ENSG00000223116</td>\n",
       "    </tr>\n",
       "    <tr>\n",
       "      <th>HMGA1P6</th>\n",
       "      <td>ENSG00000233440</td>\n",
       "    </tr>\n",
       "    <tr>\n",
       "      <th>RNY3P4</th>\n",
       "      <td>ENSG00000207157</td>\n",
       "    </tr>\n",
       "    <tr>\n",
       "      <th>LINC00362</th>\n",
       "      <td>ENSG00000229483</td>\n",
       "    </tr>\n",
       "  </tbody>\n",
       "</table>\n",
       "</div>"
      ],
      "text/plain": [
       "             ensembl_gene_id\n",
       "hgnc_symbol                 \n",
       "SLC25A26     ENSG00000261657\n",
       "NaN          ENSG00000223116\n",
       "HMGA1P6      ENSG00000233440\n",
       "RNY3P4       ENSG00000207157\n",
       "LINC00362    ENSG00000229483"
      ]
     },
     "execution_count": 22,
     "metadata": {},
     "output_type": "execute_result"
    }
   ],
   "source": [
    "#load map HGNC to ensembl\n",
    "mapping_df = pd.read_csv('/nfs/leia/research/stegle/dseaton/genomes/hg19/annotation/geneid_mappings/hgnc_symbol2ensembl_gene_id.txt', sep='\\t')\n",
    "mapping_df = mapping_df.set_index('hgnc_symbol')\n",
    "mapping_df.head()"
   ]
  },
  {
   "cell_type": "code",
   "execution_count": 23,
   "metadata": {},
   "outputs": [
    {
     "data": {
      "text/plain": [
       "'ENSG00000090054'"
      ]
     },
     "execution_count": 23,
     "metadata": {},
     "output_type": "execute_result"
    }
   ],
   "source": [
    "gene = genes[0]\n",
    "gene"
   ]
  },
  {
   "cell_type": "code",
   "execution_count": 24,
   "metadata": {},
   "outputs": [
    {
     "data": {
      "text/plain": [
       "'SPTLC1'"
      ]
     },
     "execution_count": 24,
     "metadata": {},
     "output_type": "execute_result"
    }
   ],
   "source": [
    "trait_name = mapping_df.query(\"ensembl_gene_id==\\\"{}\\\"\".format(gene)).index[0]\n",
    "trait_name"
   ]
  },
  {
   "cell_type": "code",
   "execution_count": 25,
   "metadata": {},
   "outputs": [
    {
     "data": {
      "text/plain": [
       "1201"
      ]
     },
     "execution_count": 25,
     "metadata": {},
     "output_type": "execute_result"
    }
   ],
   "source": [
    "n_samples = phenotype.shape[1]\n",
    "M = ones((n_samples, 1))\n",
    "n_samples"
   ]
  },
  {
   "cell_type": "code",
   "execution_count": 27,
   "metadata": {},
   "outputs": [],
   "source": [
    "y = phenotype.sel(trait=trait_name)\n",
    "y.values = quantile_gaussianize(y.values)\n",
    "E.values = quantile_gaussianize(E.values)\n",
    "n_envs = 10\n",
    "slmm2 = StructLMM2(y.values, M, E.values[:,0:n_envs], L_expanded.values)\n",
    "evars = neuro_eqtl[neuro_eqtl['feature_id']==gene]['snp_id'].unique()\n",
    "G_tmp = G_exp[:,G_exp['snp'].isin(evars)]"
   ]
  },
  {
   "cell_type": "code",
   "execution_count": 30,
   "metadata": {},
   "outputs": [],
   "source": [
    "ok = np.var(G_tmp.values, axis=0) > 0.0\n",
    "betas = np.full((n_samples, G_tmp.shape[1]), np.nan)"
   ]
  },
  {
   "cell_type": "code",
   "execution_count": 31,
   "metadata": {},
   "outputs": [
    {
     "data": {
      "text/plain": [
       "array([[-0.09028429],\n",
       "       [-0.14016259],\n",
       "       [-0.05583952],\n",
       "       ...,\n",
       "       [-0.1371613 ],\n",
       "       [-0.11080672],\n",
       "       [-0.33967526]])"
      ]
     },
     "execution_count": 31,
     "metadata": {},
     "output_type": "execute_result"
    }
   ],
   "source": [
    "betas = slmm2.predict_interaction(G_tmp[:, ok])\n",
    "betas"
   ]
  },
  {
   "cell_type": "code",
   "execution_count": 32,
   "metadata": {},
   "outputs": [
    {
     "data": {
      "text/plain": [
       "(2402, 1)"
      ]
     },
     "execution_count": 32,
     "metadata": {},
     "output_type": "execute_result"
    }
   ],
   "source": [
    "betas.shape"
   ]
  },
  {
   "cell_type": "code",
   "execution_count": 42,
   "metadata": {},
   "outputs": [
    {
     "data": {
      "text/plain": [
       "(2402,)"
      ]
     },
     "execution_count": 42,
     "metadata": {},
     "output_type": "execute_result"
    }
   ],
   "source": [
    "np.tile(y.cell.values,2).shape"
   ]
  },
  {
   "cell_type": "code",
   "execution_count": 46,
   "metadata": {},
   "outputs": [
    {
     "data": {
      "text/plain": [
       "array(['9_94639418_T_A'], dtype='<U16')"
      ]
     },
     "execution_count": 46,
     "metadata": {},
     "output_type": "execute_result"
    }
   ],
   "source": [
    "G_tmp.snp.values"
   ]
  },
  {
   "cell_type": "code",
   "execution_count": 54,
   "metadata": {
    "scrolled": true
   },
   "outputs": [
    {
     "data": {
      "text/html": [
       "<div>\n",
       "<style scoped>\n",
       "    .dataframe tbody tr th:only-of-type {\n",
       "        vertical-align: middle;\n",
       "    }\n",
       "\n",
       "    .dataframe tbody tr th {\n",
       "        vertical-align: top;\n",
       "    }\n",
       "\n",
       "    .dataframe thead th {\n",
       "        text-align: right;\n",
       "    }\n",
       "</style>\n",
       "<table border=\"1\" class=\"dataframe\">\n",
       "  <thead>\n",
       "    <tr style=\"text-align: right;\">\n",
       "      <th></th>\n",
       "      <th>9_94639418_T_A</th>\n",
       "      <th>pseudocell</th>\n",
       "    </tr>\n",
       "  </thead>\n",
       "  <tbody>\n",
       "    <tr>\n",
       "      <th>0</th>\n",
       "      <td>-0.090284</td>\n",
       "      <td>HPSI0513i-veve_2-cluster1</td>\n",
       "    </tr>\n",
       "    <tr>\n",
       "      <th>1</th>\n",
       "      <td>-0.140163</td>\n",
       "      <td>HPSI0513i-veve_2-cluster2</td>\n",
       "    </tr>\n",
       "    <tr>\n",
       "      <th>2</th>\n",
       "      <td>-0.055840</td>\n",
       "      <td>HPSI0513i-veve_2-cluster3</td>\n",
       "    </tr>\n",
       "    <tr>\n",
       "      <th>3</th>\n",
       "      <td>-0.195948</td>\n",
       "      <td>HPSI0513i-veve_2-cluster4</td>\n",
       "    </tr>\n",
       "    <tr>\n",
       "      <th>4</th>\n",
       "      <td>-0.068237</td>\n",
       "      <td>HPSI0513i-veve_2-cluster5</td>\n",
       "    </tr>\n",
       "  </tbody>\n",
       "</table>\n",
       "</div>"
      ],
      "text/plain": [
       "   9_94639418_T_A                 pseudocell\n",
       "0       -0.090284  HPSI0513i-veve_2-cluster1\n",
       "1       -0.140163  HPSI0513i-veve_2-cluster2\n",
       "2       -0.055840  HPSI0513i-veve_2-cluster3\n",
       "3       -0.195948  HPSI0513i-veve_2-cluster4\n",
       "4       -0.068237  HPSI0513i-veve_2-cluster5"
      ]
     },
     "execution_count": 54,
     "metadata": {},
     "output_type": "execute_result"
    }
   ],
   "source": [
    "beta = pd.DataFrame({str(G_tmp.snp.values[0]):betas[:,0],\n",
    "                     \"pseudocell\":np.tile(y.cell.values,2)})\n",
    "beta.head()"
   ]
  },
  {
   "cell_type": "code",
   "execution_count": null,
   "metadata": {},
   "outputs": [],
   "source": []
  },
  {
   "cell_type": "code",
   "execution_count": null,
   "metadata": {},
   "outputs": [],
   "source": []
  }
 ],
 "metadata": {
  "kernelspec": {
   "display_name": "Python (struct-lmm2)",
   "language": "python",
   "name": "struct-lmm2"
  },
  "language_info": {
   "codemirror_mode": {
    "name": "ipython",
    "version": 3
   },
   "file_extension": ".py",
   "mimetype": "text/x-python",
   "name": "python",
   "nbconvert_exporter": "python",
   "pygments_lexer": "ipython3",
   "version": "3.7.7"
  }
 },
 "nbformat": 4,
 "nbformat_minor": 4
}
