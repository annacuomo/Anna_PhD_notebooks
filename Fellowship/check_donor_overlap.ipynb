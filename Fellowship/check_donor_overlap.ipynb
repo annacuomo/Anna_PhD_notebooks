{
 "cells": [
  {
   "cell_type": "code",
   "execution_count": 1,
   "id": "e1978d31",
   "metadata": {},
   "outputs": [],
   "source": [
    "wgs_donors = c(\"HPSI0114i-bezi_3\",\n",
    "               \"HPSI0114i-eipl_1\",\"HPSI0114i-eipl_3\",\n",
    "               \"HPSI0114i-fikt_3\",\n",
    "               \"HPSI0114i-iisa_1\",\"HPSI0114i-iisa_3\",\n",
    "               \"HPSI0114i-joxm_1\",\n",
    "               \"HPSI0114i-kolf_2\",\"HPSI0114i-kolf_3\",\n",
    "               \"HPSI0114i-lexy_1\",\"HPSI0114i-lexy_2\",\n",
    "               \"HPSI0114i-oevr_3\",\n",
    "               \"HPSI0114i-rozh_4\",\"HPSI0114i-rozh_5\",\n",
    "               \"HPSI0114i-vabj_3\",\n",
    "               \"HPSI0114i-vass_1\",\n",
    "               \"HPSI0114i-wegi_1\",\n",
    "               \"HPSI0114i-zapk_2\",\"HPSI0114i-zapk_3\",\n",
    "               \"HPSI0114i-zoxy_3\",\n",
    "               \"HPSI0115i-aion_2\",\"HPSI0115i-aion_3\",\n",
    "               \"HPSI0115i-aoxv_1\",\"HPSI0115i-aoxv_3\",\n",
    "               \"HPSI0115i-bimq_4\",\"HPSI0115i-bimq_5\",\n",
    "               \"HPSI0115i-boqx_1\",\"HPSI0115i-boqx_2\",\n",
    "               \"HPSI0115i-gifk_1\",\n",
    "               \"HPSI0115i-hecn_3\",\"HPSI0115i-hecn_6\",\n",
    "               \"HPSI0115i-iiyk_2\",\"HPSI0115i-iiyk_4\",\n",
    "               \"HPSI0115i-iuad_2\",\"HPSI0115i-iuad_3\",\n",
    "               \"HPSI0115i-kozf_1\",\"HPSI0115i-kozf_2\",\n",
    "               \"HPSI0115i-melw_1\",\"HPSI0115i-melw_2\",\n",
    "               \"HPSI0115i-paim_1\",\"HPSI0115i-paim_3\",\n",
    "               \"HPSI0115i-payf_1\",\"HPSI0115i-payf_2\",\n",
    "               \"HPSI0115i-qoog_4\",\"HPSI0115i-qoog_6\",\n",
    "               \"HPSI0115i-rakz_6\",\n",
    "               \"HPSI0115i-rehy_2\",\"HPSI0115i-rehy_3\",\n",
    "               \"HPSI0115i-timk_2\",\"HPSI0115i-timk_4\",\n",
    "               \"HPSI0115i-uolo_5\",\n",
    "               \"HPSI0115i-uupc_2\",\n",
    "               \"HPSI0115i-vazt_1\",\"HPSI0115i-vazt_2\",\n",
    "               \"HPSI0115i-vehl_2\",\"HPSI0115i-vehl_3\",\n",
    "               \"HPSI0115i-yaqw_1\",\"HPSI0115i-yaqw_3\",\n",
    "               \"HPSI0115i-zihe_1\",\n",
    "               \"HPSI0214i-datg_2\",\n",
    "               \"HPSI0214i-eiwy_1\",\n",
    "               \"HPSI0214i-feec_2\",\"HPSI0214i-feec_3\",\n",
    "               \"HPSI0214i-fiau_1\",\n",
    "               \"HPSI0214i-heja_1\",\"HPSI0214i-heja_2\",\n",
    "               \"HPSI0214i-heth_1\",\n",
    "               \"HPSI0214i-kehc_2\",\n",
    "               \"HPSI0214i-kucg_2\",\n",
    "               \"HPSI0214i-pelm_1\",\"HPSI0214i-pelm_3\",\n",
    "               \"HPSI0214i-poih_2\",\"HPSI0214i-poih_4\",\n",
    "               \"HPSI0214i-rayr_1\",\n",
    "               \"HPSI0214i-wibj_1\",\"HPSI0214i-wibj_2\",\n",
    "               \"HPSI0215i-deyz_2\",\"HPSI0215i-deyz_3\",\n",
    "               \"HPSI0215i-fawm_2\",\"HPSI0215i-fawm_4\",\n",
    "               \"HPSI0215i-hipn_1\",\"HPSI0215i-hipn_2\",\n",
    "               \"HPSI0215i-oilg_1\",\"HPSI0215i-oilg_3\",\n",
    "               \"HPSI0215i-romx_1\",\"HPSI0215i-romx_2\",\n",
    "               \"HPSI0215i-uiao_1\",\"HPSI0215i-uiao_2\",\n",
    "               \"HPSI0215i-yoch_6\",\n",
    "               \"HPSI0215i-zett_5\",\n",
    "               \"HPSI0314i-bipt_1\",\n",
    "               \"HPSI0314i-bubh_1\",\"HPSI0314i-bubh_3\",\n",
    "               \"HPSI0314i-cuhk_1\",\"HPSI0314i-cuhk_2\",\n",
    "               \"HPSI0314i-fafq_1\",\n",
    "               \"HPSI0314i-hoik_1\",\n",
    "               \"HPSI0314i-qaqx_1\",\n",
    "               \"HPSI0314i-qonc_1\",\n",
    "               \"HPSI0314i-sojd_2\",\"HPSI0314i-sojd_3\",\n",
    "               \"HPSI0314i-wigw_2\",\n",
    "               \"HPSI0314i-xagu_1\",\n",
    "               \"HPSI0314i-xugn_1\",\"HPSI0314i-xugn_2\",\n",
    "               \"HPSI0414i-ceik_1\",\"HPSI0414i-ceik_2\",\n",
    "               \"HPSI0414i-gesg_2\",\n",
    "               \"HPSI0414i-mita_2\",\n",
    "               \"HPSI0414i-naju_1\",\n",
    "               \"HPSI0414i-oaqd_2\",\"HPSI0414i-oaqd_3\",\n",
    "               \"HPSI0414i-oikd_2\",\"HPSI0414i-oikd_5\",\n",
    "               \"HPSI0414i-sebn_3\",\"HPSI0414i-sebn_4\",\n",
    "               \"HPSI0414i-seru_1\",\"HPSI0414i-seru_7\",\n",
    "               \"HPSI0414i-uawq_2\",\n",
    "               \"HPSI0414i-xojn_3\",\n",
    "               \"HPSI0514i-fiaj_1\",\"HPSI0514i-fiaj_3\",\n",
    "               \"HPSI0514i-kuco_5\",\n",
    "               \"HPSI0514i-lako_1\",\"HPSI0514i-lako_2\",\n",
    "               \"HPSI0514i-letw_1\",\"HPSI0514i-letw_5\",\n",
    "               \"HPSI0514i-naah_2\",\"HPSI0514i-naah_4\",\n",
    "               \"HPSI0514i-oekw_2\",\n",
    "               \"HPSI0514i-oupf_5\",\"HPSI0514i-oupf_6\",\n",
    "               \"HPSI0514i-puie_4\",\"HPSI0514i-puie_5\",\n",
    "               \"HPSI0514i-qihv_1\",\n",
    "               \"HPSI0514i-rutc_2\",\n",
    "               \"HPSI0514i-sohd_3\",\n",
    "               \"HPSI0514i-suul_1\",\"HPSI0514i-suul_2\",\n",
    "               \"HPSI0514i-tert_1\",\n",
    "               \"HPSI0514i-toco_5\",\n",
    "               \"HPSI0514i-vuna_3\",\n",
    "               \"HPSI0514i-wiii_2\",\"HPSI0514i-wiii_3\",\n",
    "               \"HPSI0514i-xufp_1\",\"HPSI0514i-xufp_2\",\n",
    "               \"HPSI0514i-yelp_3\",\"HPSI0514i-yelp_4\",\n",
    "               \"HPSI0514i-yewo_4\",\n",
    "               \"HPSI0614i-ciwj_1\",\"HPSI0614i-ciwj_2\",\n",
    "               \"HPSI0614i-denw_6\",\n",
    "               \"HPSI0614i-juzt_4\",\n",
    "               \"HPSI0614i-kegd_2\",\n",
    "               \"HPSI0614i-lepk_1\",\"HPSI0614i-lepk_4\",\n",
    "               \"HPSI0614i-liqa_1\",\"HPSI0614i-liqa_6\",\n",
    "               \"HPSI0614i-lirf_5\",\"HPSI0614i-lirf_6\",\n",
    "               \"HPSI0614i-miaj_4\",\"HPSI0614i-miaj_6\",\n",
    "               \"HPSI0614i-oicx_2\",\"HPSI0614i-oicx_6\",\n",
    "               \"HPSI0614i-paab_3\",\"HPSI0614i-paab_4\",\n",
    "               \"HPSI0614i-puhk_2\",\"HPSI0614i-puhk_5\",\n",
    "               \"HPSI0614i-qunz_2\",\"HPSI0614i-qunz_3\",\n",
    "               \"HPSI0614i-uevq_4\",\"HPSI0614i-uevq_6\",\n",
    "               \"HPSI0614i-uilk_2\",\"HPSI0614i-uilk_3\",\n",
    "               \"HPSI0614i-voce_1\",\"HPSI0614i-voce_2\",\n",
    "               \"HPSI0614i-wihj_1\",\"HPSI0614i-wihj_4\",\n",
    "               \"HPSI0714i-burb_1\",\"HPSI0714i-burb_3\",\n",
    "               \"HPSI0714i-iudw_1\",\"HPSI0714i-iudw_4\",\n",
    "               \"HPSI0714i-jilk_3\",\"HPSI0714i-jilk_4\",\n",
    "               \"HPSI0714i-keui_1\",\"HPSI0714i-keui_4\",\n",
    "               \"HPSI0714i-kute_4\",\"HPSI0714i-kute_5\",\n",
    "               \"HPSI0714i-nufh_3\",\"HPSI0714i-nufh_4\",\n",
    "               \"HPSI0714i-oatm_1\",\"HPSI0714i-oatm_2\",\n",
    "               \"HPSI0714i-pipw_4\",\"HPSI0714i-pipw_5\",\n",
    "               \"HPSI0715i-aowh_2\",\n",
    "               \"HPSI0715i-meue_4\",\"HPSI0715i-meue_5\",\n",
    "               \"HPSI0715i-zaie_1\",\"HPSI0715i-zaie_5\",\n",
    "               \"HPSI0814i-bokz_5\",\"HPSI0814i-bokz_6\",\n",
    "               \"HPSI0814i-doao_1\",\"HPSI0814i-doao_2\",\n",
    "               \"HPSI0814i-siqu_11\",\"HPSI0814i-siqu_4\",\n",
    "               \"HPSI0814i-uepz_3\",\"HPSI0814i-uepz_4\",\n",
    "               \"HPSI0913i-diku_1\",\n",
    "               \"HPSI0913i-eika_2\",\n",
    "               \"HPSI0913i-lise_1\",\"HPSI0913i-lise_3\",\n",
    "               \"HPSI0913i-oapg_5\",\n",
    "               \"HPSI0913i-xomm_1\",\"HPSI0913i-xomm_2\",\"HPSI0913i-xomm_3\",\n",
    "               \"HPSI0914i-euts_1\",\"HPSI0914i-euts_3\",\n",
    "               \"HPSI0914i-gine_2\",\n",
    "               \"HPSI0914i-jejf_2\",\"HPSI0914i-jejf_3\",\n",
    "               \"HPSI0914i-kajh_2\",\"HPSI0914i-kajh_3\",\n",
    "               \"HPSI0914i-laey_4\",\"HPSI0914i-laey_6\",\n",
    "               \"HPSI0914i-ouvb_2\",\n",
    "               \"HPSI0914i-qehq_3\",\"HPSI0914i-qehq_7\",\n",
    "               \"HPSI0914i-rejf_2\",\n",
    "               \"HPSI0914i-suop_2\",\"HPSI0914i-suop_5\",\n",
    "               \"HPSI0914i-vaka_5\",\n",
    "               \"HPSI0914i-yuvg_2\",\n",
    "               \"HPSI0914i-zerv_7\",\"HPSI0914i-zerv_8\",\n",
    "               \"HPSI1013i-cups_3\",\n",
    "               \"HPSI1013i-garx_2\",\n",
    "               \"HPSI1013i-hiaf_1\",\"HPSI1013i-hiaf_2\",\n",
    "               \"HPSI1013i-jogf_2\",\n",
    "               \"HPSI1013i-jufd_2\",\"HPSI1013i-jufd_3\",\n",
    "               \"HPSI1013i-kuxp_1\",\n",
    "               \"HPSI1013i-pamv_1\",\"HPSI1013i-pamv_3\",\n",
    "               \"HPSI1013i-sebz_1\",\n",
    "               \"HPSI1013i-sita_1\",\n",
    "               \"HPSI1013i-woci_1\",\"HPSI1013i-woci_2\",\n",
    "               \"HPSI1013i-wopl_1\",\n",
    "               \"HPSI1013i-wuye_2\",\"HPSI1013i-wuye_3\",\n",
    "               \"HPSI1013i-yemz_1\",\"HPSI1013i-yemz_3\",\n",
    "               \"HPSI1013i-zagm_1\",\n",
    "               \"HPSI1014i-babz_3\",\n",
    "               \"HPSI1014i-bilx_1\",\"HPSI1014i-bilx_2\",\n",
    "               \"HPSI1014i-eesb_1\",\n",
    "               \"HPSI1014i-juuy_2\",\n",
    "               \"HPSI1014i-kefb_1\",\n",
    "               \"HPSI1014i-nosn_1\",\"HPSI1014i-nosn_6\",\n",
    "               \"HPSI1014i-qayj_3\",\"HPSI1014i-qayj_4\",\n",
    "               \"HPSI1014i-quls_2\",\n",
    "               \"HPSI1014i-riun_1\",\n",
    "               \"HPSI1014i-roug_3\",\n",
    "               \"HPSI1014i-sehl_6\",\n",
    "               \"HPSI1014i-tixi_4\",\n",
    "               \"HPSI1014i-toss_3\",\n",
    "               \"HPSI1014i-tuju_1\",\"HPSI1014i-tuju_4\",\n",
    "               \"HPSI1014i-vils_1\",\n",
    "               \"HPSI1014i-xejd_1\",\"HPSI1014i-xejd_2\",\n",
    "               \"HPSI1113i-bima_1\",\"HPSI1113i-bima_2\",\n",
    "               \"HPSI1113i-dons_1\",\n",
    "               \"HPSI1113i-eofe_1\",\n",
    "               \"HPSI1113i-hajc_1\",\n",
    "               \"HPSI1113i-hayt_1\",\"HPSI1113i-hayt_3\",\n",
    "               \"HPSI1113i-ieki_2\",\"HPSI1113i-ieki_3\",\n",
    "               \"HPSI1113i-oaaz_2\",\"HPSI1113i-oaaz_3\",\n",
    "               \"HPSI1113i-podx_1\",\n",
    "               \"HPSI1113i-qolg_1\",\"HPSI1113i-qolg_3\",\n",
    "               \"HPSI1113i-qorq_1\",\"HPSI1113i-qorq_2\",\n",
    "               \"HPSI1113i-uofv_1\",\n",
    "               \"HPSI1113i-vuud_2\",\n",
    "               \"HPSI1113i-wahn_1\",\"HPSI1113i-wahn_2\",\n",
    "               \"HPSI1113i-wetu_2\",\n",
    "               \"HPSI1114i-kuul_1\",\"HPSI1114i-kuul_2\",\n",
    "               \"HPSI1114i-ualf_2\",\"HPSI1114i-ualf_6\",\n",
    "               \"HPSI1114i-xiby_4\",\"HPSI1114i-xiby_5\",\n",
    "               \"HPSI1114i-yair_2\",\n",
    "               \"HPSI1114i-ziyn_5\",\"HPSI1114i-ziyn_6\",\n",
    "               \"HPSI1114i-zuuy_4\",\"HPSI1114i-zuuy_5\",\n",
    "               \"HPSI1213i-babk_2\",\n",
    "               \"HPSI1213i-hehd_1\",\"HPSI1213i-hehd_2\",\n",
    "               \"HPSI1213i-nekd_1\",\n",
    "               \"HPSI1213i-nusw_2\",\n",
    "               \"HPSI1213i-pahc_4\",\"HPSI1213i-pahc_5\",\n",
    "               \"HPSI1213i-tolg_4\",\"HPSI1213i-tolg_6\",\n",
    "               \"HPSI1213i-xuja_2\")"
   ]
  },
  {
   "cell_type": "code",
   "execution_count": 2,
   "id": "d358964e",
   "metadata": {},
   "outputs": [
    {
     "data": {
      "text/html": [
       "317"
      ],
      "text/latex": [
       "317"
      ],
      "text/markdown": [
       "317"
      ],
      "text/plain": [
       "[1] 317"
      ]
     },
     "metadata": {},
     "output_type": "display_data"
    }
   ],
   "source": [
    "length(wgs_donors)"
   ]
  },
  {
   "cell_type": "code",
   "execution_count": 4,
   "id": "6c746c5b",
   "metadata": {},
   "outputs": [
    {
     "data": {
      "text/html": [
       "1027398"
      ],
      "text/latex": [
       "1027398"
      ],
      "text/markdown": [
       "1027398"
      ],
      "text/plain": [
       "[1] 1027398"
      ]
     },
     "metadata": {},
     "output_type": "display_data"
    },
    {
     "data": {
      "text/html": [
       "<table>\n",
       "<thead><tr><th scope=col>index</th><th scope=col>donor_id</th><th scope=col>sample_id</th><th scope=col>time_point</th><th scope=col>pool_id</th><th scope=col>treatment</th><th scope=col>celltype</th></tr></thead>\n",
       "<tbody>\n",
       "\t<tr><td>CTCGTACCACAGACAG-1-4 </td><td>HPSI0414i-sebn_3     </td><td>5245STDY7386987      </td><td>D11                  </td><td>pool3                </td><td>NONE                 </td><td>P_FPP                </td></tr>\n",
       "\t<tr><td>CTGTGCTGTTCGCGAC-1-23</td><td>HPSI1013i-hiaf_1     </td><td>5245STDY7632694      </td><td>D11                  </td><td>pool6                </td><td>NONE                 </td><td>P_FPP                </td></tr>\n",
       "\t<tr><td>AACGTTGCACGAAAGC-1-31</td><td>HPSI0214i-datg_2     </td><td>5245STDY7697816      </td><td>D11                  </td><td>pool9                </td><td>NONE                 </td><td>P_FPP                </td></tr>\n",
       "\t<tr><td>GATCAGTGTGATGTCT-1-7 </td><td>HPSI0514i-fiaj_1     </td><td>5245STDY7487302      </td><td>D11                  </td><td>pool4                </td><td>NONE                 </td><td>P_FPP                </td></tr>\n",
       "\t<tr><td>AGATTGCCATGGATGG-1-33</td><td>HPSI0513i-veve_2     </td><td>5245STDY7878553      </td><td>D11                  </td><td>pool11               </td><td>NONE                 </td><td>P_FPP                </td></tr>\n",
       "\t<tr><td>TCAACGAAGGTAGCTG-1-31</td><td>HPSI0214i-datg_2     </td><td>5245STDY7697816      </td><td>D11                  </td><td>pool9                </td><td>NONE                 </td><td>FPP                  </td></tr>\n",
       "</tbody>\n",
       "</table>\n"
      ],
      "text/latex": [
       "\\begin{tabular}{r|lllllll}\n",
       " index & donor\\_id & sample\\_id & time\\_point & pool\\_id & treatment & celltype\\\\\n",
       "\\hline\n",
       "\t CTCGTACCACAGACAG-1-4  & HPSI0414i-sebn\\_3    & 5245STDY7386987       & D11                   & pool3                 & NONE                  & P\\_FPP              \\\\\n",
       "\t CTGTGCTGTTCGCGAC-1-23 & HPSI1013i-hiaf\\_1    & 5245STDY7632694       & D11                   & pool6                 & NONE                  & P\\_FPP              \\\\\n",
       "\t AACGTTGCACGAAAGC-1-31 & HPSI0214i-datg\\_2    & 5245STDY7697816       & D11                   & pool9                 & NONE                  & P\\_FPP              \\\\\n",
       "\t GATCAGTGTGATGTCT-1-7  & HPSI0514i-fiaj\\_1    & 5245STDY7487302       & D11                   & pool4                 & NONE                  & P\\_FPP              \\\\\n",
       "\t AGATTGCCATGGATGG-1-33 & HPSI0513i-veve\\_2    & 5245STDY7878553       & D11                   & pool11                & NONE                  & P\\_FPP              \\\\\n",
       "\t TCAACGAAGGTAGCTG-1-31 & HPSI0214i-datg\\_2    & 5245STDY7697816       & D11                   & pool9                 & NONE                  & FPP                  \\\\\n",
       "\\end{tabular}\n"
      ],
      "text/markdown": [
       "\n",
       "| index | donor_id | sample_id | time_point | pool_id | treatment | celltype |\n",
       "|---|---|---|---|---|---|---|\n",
       "| CTCGTACCACAGACAG-1-4  | HPSI0414i-sebn_3      | 5245STDY7386987       | D11                   | pool3                 | NONE                  | P_FPP                 |\n",
       "| CTGTGCTGTTCGCGAC-1-23 | HPSI1013i-hiaf_1      | 5245STDY7632694       | D11                   | pool6                 | NONE                  | P_FPP                 |\n",
       "| AACGTTGCACGAAAGC-1-31 | HPSI0214i-datg_2      | 5245STDY7697816       | D11                   | pool9                 | NONE                  | P_FPP                 |\n",
       "| GATCAGTGTGATGTCT-1-7  | HPSI0514i-fiaj_1      | 5245STDY7487302       | D11                   | pool4                 | NONE                  | P_FPP                 |\n",
       "| AGATTGCCATGGATGG-1-33 | HPSI0513i-veve_2      | 5245STDY7878553       | D11                   | pool11                | NONE                  | P_FPP                 |\n",
       "| TCAACGAAGGTAGCTG-1-31 | HPSI0214i-datg_2      | 5245STDY7697816       | D11                   | pool9                 | NONE                  | FPP                   |\n",
       "\n"
      ],
      "text/plain": [
       "  index                 donor_id         sample_id       time_point pool_id\n",
       "1 CTCGTACCACAGACAG-1-4  HPSI0414i-sebn_3 5245STDY7386987 D11        pool3  \n",
       "2 CTGTGCTGTTCGCGAC-1-23 HPSI1013i-hiaf_1 5245STDY7632694 D11        pool6  \n",
       "3 AACGTTGCACGAAAGC-1-31 HPSI0214i-datg_2 5245STDY7697816 D11        pool9  \n",
       "4 GATCAGTGTGATGTCT-1-7  HPSI0514i-fiaj_1 5245STDY7487302 D11        pool4  \n",
       "5 AGATTGCCATGGATGG-1-33 HPSI0513i-veve_2 5245STDY7878553 D11        pool11 \n",
       "6 TCAACGAAGGTAGCTG-1-31 HPSI0214i-datg_2 5245STDY7697816 D11        pool9  \n",
       "  treatment celltype\n",
       "1 NONE      P_FPP   \n",
       "2 NONE      P_FPP   \n",
       "3 NONE      P_FPP   \n",
       "4 NONE      P_FPP   \n",
       "5 NONE      P_FPP   \n",
       "6 NONE      FPP     "
      ]
     },
     "metadata": {},
     "output_type": "display_data"
    }
   ],
   "source": [
    "### Neuroseq data\n",
    "df0 = read.csv(\"/hps/nobackup/stegle/users/acuomo/all_scripts/sc_neuroseq/scanpy/neuroseq_metadata_allcells.txt\",sep=\"\\t\")\n",
    "nrow(df0)\n",
    "head(df0)"
   ]
  },
  {
   "cell_type": "code",
   "execution_count": 7,
   "id": "57a86c58",
   "metadata": {},
   "outputs": [
    {
     "data": {
      "text/html": [
       "215"
      ],
      "text/latex": [
       "215"
      ],
      "text/markdown": [
       "215"
      ],
      "text/plain": [
       "[1] 215"
      ]
     },
     "metadata": {},
     "output_type": "display_data"
    }
   ],
   "source": [
    "neuro_donors = unique(df0$donor_id)\n",
    "length(neuro_donors)"
   ]
  },
  {
   "cell_type": "code",
   "execution_count": null,
   "id": "f936e5a3",
   "metadata": {},
   "outputs": [],
   "source": [
    "### Endoderm data"
   ]
  },
  {
   "cell_type": "code",
   "execution_count": 6,
   "id": "c28046a5",
   "metadata": {},
   "outputs": [
    {
     "data": {
      "text/html": [
       "36044"
      ],
      "text/latex": [
       "36044"
      ],
      "text/markdown": [
       "36044"
      ],
      "text/plain": [
       "[1] 36044"
      ]
     },
     "metadata": {},
     "output_type": "display_data"
    },
    {
     "data": {
      "text/html": [
       "<table>\n",
       "<thead><tr><th scope=col>cell</th><th scope=col>day</th><th scope=col>donor_long_id</th></tr></thead>\n",
       "<tbody>\n",
       "\t<tr><td>21843_1#10      </td><td>day1            </td><td>HPSI0114i-joxm_1</td></tr>\n",
       "\t<tr><td>21843_1#100     </td><td>day1            </td><td>HPSI0314i-fafq_1</td></tr>\n",
       "\t<tr><td>21843_1#101     </td><td>day1            </td><td>HPSI0314i-fafq_1</td></tr>\n",
       "\t<tr><td>21843_1#102     </td><td>day1            </td><td>HPSI1013i-wuye_2</td></tr>\n",
       "\t<tr><td>21843_1#103     </td><td>day1            </td><td>HPSI0114i-joxm_1</td></tr>\n",
       "\t<tr><td>21843_1#105     </td><td>day1            </td><td>HPSI0114i-iisa_3</td></tr>\n",
       "</tbody>\n",
       "</table>\n"
      ],
      "text/latex": [
       "\\begin{tabular}{r|lll}\n",
       " cell & day & donor\\_long\\_id\\\\\n",
       "\\hline\n",
       "\t 21843\\_1\\#10     & day1               & HPSI0114i-joxm\\_1\\\\\n",
       "\t 21843\\_1\\#100    & day1               & HPSI0314i-fafq\\_1\\\\\n",
       "\t 21843\\_1\\#101    & day1               & HPSI0314i-fafq\\_1\\\\\n",
       "\t 21843\\_1\\#102    & day1               & HPSI1013i-wuye\\_2\\\\\n",
       "\t 21843\\_1\\#103    & day1               & HPSI0114i-joxm\\_1\\\\\n",
       "\t 21843\\_1\\#105    & day1               & HPSI0114i-iisa\\_3\\\\\n",
       "\\end{tabular}\n"
      ],
      "text/markdown": [
       "\n",
       "| cell | day | donor_long_id |\n",
       "|---|---|---|\n",
       "| 21843_1#10       | day1             | HPSI0114i-joxm_1 |\n",
       "| 21843_1#100      | day1             | HPSI0314i-fafq_1 |\n",
       "| 21843_1#101      | day1             | HPSI0314i-fafq_1 |\n",
       "| 21843_1#102      | day1             | HPSI1013i-wuye_2 |\n",
       "| 21843_1#103      | day1             | HPSI0114i-joxm_1 |\n",
       "| 21843_1#105      | day1             | HPSI0114i-iisa_3 |\n",
       "\n"
      ],
      "text/plain": [
       "  cell        day  donor_long_id   \n",
       "1 21843_1#10  day1 HPSI0114i-joxm_1\n",
       "2 21843_1#100 day1 HPSI0314i-fafq_1\n",
       "3 21843_1#101 day1 HPSI0314i-fafq_1\n",
       "4 21843_1#102 day1 HPSI1013i-wuye_2\n",
       "5 21843_1#103 day1 HPSI0114i-joxm_1\n",
       "6 21843_1#105 day1 HPSI0114i-iisa_3"
      ]
     },
     "metadata": {},
     "output_type": "display_data"
    }
   ],
   "source": [
    "df1 = read.csv(\"/hps/nobackup/stegle/users/acuomo/all_scripts/sc_endodiff/coldata.csv\", row.names=1)\n",
    "nrow(df1)\n",
    "head(df1)"
   ]
  },
  {
   "cell_type": "code",
   "execution_count": 8,
   "id": "c9c06243",
   "metadata": {},
   "outputs": [
    {
     "data": {
      "text/html": [
       "126"
      ],
      "text/latex": [
       "126"
      ],
      "text/markdown": [
       "126"
      ],
      "text/plain": [
       "[1] 126"
      ]
     },
     "metadata": {},
     "output_type": "display_data"
    }
   ],
   "source": [
    "endo_donors = unique(df1$donor_long_id)\n",
    "length(endo_donors)"
   ]
  },
  {
   "cell_type": "code",
   "execution_count": 9,
   "id": "2cb57adc",
   "metadata": {},
   "outputs": [
    {
     "data": {
      "text/html": [
       "100"
      ],
      "text/latex": [
       "100"
      ],
      "text/markdown": [
       "100"
      ],
      "text/plain": [
       "[1] 100"
      ]
     },
     "metadata": {},
     "output_type": "display_data"
    },
    {
     "data": {
      "text/html": [
       "136"
      ],
      "text/latex": [
       "136"
      ],
      "text/markdown": [
       "136"
      ],
      "text/plain": [
       "[1] 136"
      ]
     },
     "metadata": {},
     "output_type": "display_data"
    }
   ],
   "source": [
    "length(endo_donors[endo_donors %in% wgs_donors])\n",
    "length(neuro_donors[neuro_donors %in% wgs_donors])"
   ]
  },
  {
   "cell_type": "code",
   "execution_count": null,
   "id": "e6abcefe",
   "metadata": {},
   "outputs": [],
   "source": []
  }
 ],
 "metadata": {
  "kernelspec": {
   "display_name": "R",
   "language": "R",
   "name": "ir"
  },
  "language_info": {
   "codemirror_mode": "r",
   "file_extension": ".r",
   "mimetype": "text/x-r-source",
   "name": "R",
   "pygments_lexer": "r",
   "version": "3.6.1"
  }
 },
 "nbformat": 4,
 "nbformat_minor": 5
}
