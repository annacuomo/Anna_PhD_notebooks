{
 "cells": [
  {
   "cell_type": "code",
   "execution_count": 1,
   "metadata": {},
   "outputs": [],
   "source": [
    "# this script processes the partial data matrix from h5ad to SingleCellExperiment R object\n",
    "# Note there are aspects that are hard-coded, so be careful generalising\n",
    "# last updated 25 March 2020\n",
    "# from Shila"
   ]
  },
  {
   "cell_type": "code",
   "execution_count": 5,
   "metadata": {},
   "outputs": [],
   "source": [
    "library(rhdf5)\n",
    "library(Matrix)\n",
    "library(SingleCellExperiment)"
   ]
  },
  {
   "cell_type": "code",
   "execution_count": 3,
   "metadata": {},
   "outputs": [],
   "source": [
    "mydir = \"/hps/nobackup/stegle/users/acuomo/all_scripts/covid/\""
   ]
  },
  {
   "cell_type": "code",
   "execution_count": 4,
   "metadata": {},
   "outputs": [],
   "source": [
    "filename = paste0(mydir,\"cov19_w_regev_tsankov_whitsett_kaminski_krasnow_misharin_new_schultze_schultze_falk_rawlins_xavier_meyer_new_spence_barbry_seibold_shalek_nawijnNasal.h5ad\")"
   ]
  },
  {
   "cell_type": "code",
   "execution_count": 6,
   "metadata": {},
   "outputs": [
    {
     "data": {
      "text/html": [
       "<table>\n",
       "<tbody>\n",
       "\t<tr><td>/                      </td><td>X                      </td></tr>\n",
       "\t<tr><td>/X                     </td><td>data                   </td></tr>\n",
       "\t<tr><td>/X                     </td><td>indices                </td></tr>\n",
       "\t<tr><td>/X                     </td><td>indptr                 </td></tr>\n",
       "\t<tr><td>/                      </td><td>obs                    </td></tr>\n",
       "\t<tr><td>/obs                   </td><td>__categories           </td></tr>\n",
       "\t<tr><td>/obs/__categories      </td><td>anatomical_region      </td></tr>\n",
       "\t<tr><td>/obs/__categories      </td><td>ann_level_1            </td></tr>\n",
       "\t<tr><td>/obs/__categories      </td><td>ann_level_2            </td></tr>\n",
       "\t<tr><td>/obs/__categories      </td><td>ann_level_3            </td></tr>\n",
       "\t<tr><td>/obs/__categories      </td><td>ann_level_4            </td></tr>\n",
       "\t<tr><td>/obs/__categories      </td><td>ann_level_5            </td></tr>\n",
       "\t<tr><td>/obs/__categories      </td><td>dataset                </td></tr>\n",
       "\t<tr><td>/obs/__categories      </td><td>donor                  </td></tr>\n",
       "\t<tr><td>/obs/__categories      </td><td>last_author            </td></tr>\n",
       "\t<tr><td>/obs/__categories      </td><td>lung_vs_nasal          </td></tr>\n",
       "\t<tr><td>/obs/__categories      </td><td>sample                 </td></tr>\n",
       "\t<tr><td>/obs/__categories      </td><td>sample_last_author_name</td></tr>\n",
       "\t<tr><td>/obs/__categories      </td><td>sex                    </td></tr>\n",
       "\t<tr><td>/obs/__categories      </td><td>smoking                </td></tr>\n",
       "\t<tr><td>/obs/__categories      </td><td>smoking_status         </td></tr>\n",
       "\t<tr><td>/obs                   </td><td>_index                 </td></tr>\n",
       "\t<tr><td>/obs                   </td><td>age                    </td></tr>\n",
       "\t<tr><td>/obs                   </td><td>anatomical_region      </td></tr>\n",
       "\t<tr><td>/obs                   </td><td>ann_level_1            </td></tr>\n",
       "\t<tr><td>/obs                   </td><td>ann_level_2            </td></tr>\n",
       "\t<tr><td>/obs                   </td><td>ann_level_3            </td></tr>\n",
       "\t<tr><td>/obs                   </td><td>ann_level_4            </td></tr>\n",
       "\t<tr><td>/obs                   </td><td>ann_level_5            </td></tr>\n",
       "\t<tr><td>/obs                   </td><td>dataset                </td></tr>\n",
       "\t<tr><td>/obs                   </td><td>donor                  </td></tr>\n",
       "\t<tr><td>/obs                   </td><td>last_author            </td></tr>\n",
       "\t<tr><td>/obs                   </td><td>lung_vs_nasal          </td></tr>\n",
       "\t<tr><td>/obs                   </td><td>pack_years             </td></tr>\n",
       "\t<tr><td>/obs                   </td><td>sample                 </td></tr>\n",
       "\t<tr><td>/obs                   </td><td>sample_last_author_name</td></tr>\n",
       "\t<tr><td>/obs                   </td><td>sex                    </td></tr>\n",
       "\t<tr><td>/obs                   </td><td>smoking                </td></tr>\n",
       "\t<tr><td>/obs                   </td><td>smoking_status         </td></tr>\n",
       "\t<tr><td>/obs                   </td><td>total_counts           </td></tr>\n",
       "\t<tr><td>/                      </td><td>var                    </td></tr>\n",
       "\t<tr><td>/var                   </td><td>_index                 </td></tr>\n",
       "</tbody>\n",
       "</table>\n"
      ],
      "text/latex": [
       "\\begin{tabular}{ll}\n",
       "\t /                       & X                      \\\\\n",
       "\t /X                      & data                   \\\\\n",
       "\t /X                      & indices                \\\\\n",
       "\t /X                      & indptr                 \\\\\n",
       "\t /                       & obs                    \\\\\n",
       "\t /obs                        & \\_\\_categories           \\\\\n",
       "\t /obs/\\_\\_categories     & anatomical\\_region      \\\\\n",
       "\t /obs/\\_\\_categories       & ann\\_level\\_1            \\\\\n",
       "\t /obs/\\_\\_categories       & ann\\_level\\_2            \\\\\n",
       "\t /obs/\\_\\_categories       & ann\\_level\\_3            \\\\\n",
       "\t /obs/\\_\\_categories       & ann\\_level\\_4            \\\\\n",
       "\t /obs/\\_\\_categories       & ann\\_level\\_5            \\\\\n",
       "\t /obs/\\_\\_categories   & dataset                \\\\\n",
       "\t /obs/\\_\\_categories   & donor                  \\\\\n",
       "\t /obs/\\_\\_categories     & last\\_author            \\\\\n",
       "\t /obs/\\_\\_categories       & lung\\_vs\\_nasal          \\\\\n",
       "\t /obs/\\_\\_categories   & sample                 \\\\\n",
       "\t /obs/\\_\\_categories         & sample\\_last\\_author\\_name\\\\\n",
       "\t /obs/\\_\\_categories   & sex                    \\\\\n",
       "\t /obs/\\_\\_categories   & smoking                \\\\\n",
       "\t /obs/\\_\\_categories     & smoking\\_status         \\\\\n",
       "\t /obs                      & \\_index                 \\\\\n",
       "\t /obs                    & age                    \\\\\n",
       "\t /obs                      & anatomical\\_region      \\\\\n",
       "\t /obs                        & ann\\_level\\_1            \\\\\n",
       "\t /obs                        & ann\\_level\\_2            \\\\\n",
       "\t /obs                        & ann\\_level\\_3            \\\\\n",
       "\t /obs                        & ann\\_level\\_4            \\\\\n",
       "\t /obs                        & ann\\_level\\_5            \\\\\n",
       "\t /obs                    & dataset                \\\\\n",
       "\t /obs                    & donor                  \\\\\n",
       "\t /obs                      & last\\_author            \\\\\n",
       "\t /obs                        & lung\\_vs\\_nasal          \\\\\n",
       "\t /obs                      & pack\\_years             \\\\\n",
       "\t /obs                    & sample                 \\\\\n",
       "\t /obs                          & sample\\_last\\_author\\_name\\\\\n",
       "\t /obs                    & sex                    \\\\\n",
       "\t /obs                    & smoking                \\\\\n",
       "\t /obs                      & smoking\\_status         \\\\\n",
       "\t /obs                      & total\\_counts           \\\\\n",
       "\t /                       & var                    \\\\\n",
       "\t /var                      & \\_index                 \\\\\n",
       "\\end{tabular}\n"
      ],
      "text/markdown": [
       "\n",
       "| /                       | X                       |\n",
       "| /X                      | data                    |\n",
       "| /X                      | indices                 |\n",
       "| /X                      | indptr                  |\n",
       "| /                       | obs                     |\n",
       "| /obs                    | __categories            |\n",
       "| /obs/__categories       | anatomical_region       |\n",
       "| /obs/__categories       | ann_level_1             |\n",
       "| /obs/__categories       | ann_level_2             |\n",
       "| /obs/__categories       | ann_level_3             |\n",
       "| /obs/__categories       | ann_level_4             |\n",
       "| /obs/__categories       | ann_level_5             |\n",
       "| /obs/__categories       | dataset                 |\n",
       "| /obs/__categories       | donor                   |\n",
       "| /obs/__categories       | last_author             |\n",
       "| /obs/__categories       | lung_vs_nasal           |\n",
       "| /obs/__categories       | sample                  |\n",
       "| /obs/__categories       | sample_last_author_name |\n",
       "| /obs/__categories       | sex                     |\n",
       "| /obs/__categories       | smoking                 |\n",
       "| /obs/__categories       | smoking_status          |\n",
       "| /obs                    | _index                  |\n",
       "| /obs                    | age                     |\n",
       "| /obs                    | anatomical_region       |\n",
       "| /obs                    | ann_level_1             |\n",
       "| /obs                    | ann_level_2             |\n",
       "| /obs                    | ann_level_3             |\n",
       "| /obs                    | ann_level_4             |\n",
       "| /obs                    | ann_level_5             |\n",
       "| /obs                    | dataset                 |\n",
       "| /obs                    | donor                   |\n",
       "| /obs                    | last_author             |\n",
       "| /obs                    | lung_vs_nasal           |\n",
       "| /obs                    | pack_years              |\n",
       "| /obs                    | sample                  |\n",
       "| /obs                    | sample_last_author_name |\n",
       "| /obs                    | sex                     |\n",
       "| /obs                    | smoking                 |\n",
       "| /obs                    | smoking_status          |\n",
       "| /obs                    | total_counts            |\n",
       "| /                       | var                     |\n",
       "| /var                    | _index                  |\n",
       "\n"
      ],
      "text/plain": [
       "      [,1]              [,2]                   \n",
       " [1,] /                 X                      \n",
       " [2,] /X                data                   \n",
       " [3,] /X                indices                \n",
       " [4,] /X                indptr                 \n",
       " [5,] /                 obs                    \n",
       " [6,] /obs              __categories           \n",
       " [7,] /obs/__categories anatomical_region      \n",
       " [8,] /obs/__categories ann_level_1            \n",
       " [9,] /obs/__categories ann_level_2            \n",
       "[10,] /obs/__categories ann_level_3            \n",
       "[11,] /obs/__categories ann_level_4            \n",
       "[12,] /obs/__categories ann_level_5            \n",
       "[13,] /obs/__categories dataset                \n",
       "[14,] /obs/__categories donor                  \n",
       "[15,] /obs/__categories last_author            \n",
       "[16,] /obs/__categories lung_vs_nasal          \n",
       "[17,] /obs/__categories sample                 \n",
       "[18,] /obs/__categories sample_last_author_name\n",
       "[19,] /obs/__categories sex                    \n",
       "[20,] /obs/__categories smoking                \n",
       "[21,] /obs/__categories smoking_status         \n",
       "[22,] /obs              _index                 \n",
       "[23,] /obs              age                    \n",
       "[24,] /obs              anatomical_region      \n",
       "[25,] /obs              ann_level_1            \n",
       "[26,] /obs              ann_level_2            \n",
       "[27,] /obs              ann_level_3            \n",
       "[28,] /obs              ann_level_4            \n",
       "[29,] /obs              ann_level_5            \n",
       "[30,] /obs              dataset                \n",
       "[31,] /obs              donor                  \n",
       "[32,] /obs              last_author            \n",
       "[33,] /obs              lung_vs_nasal          \n",
       "[34,] /obs              pack_years             \n",
       "[35,] /obs              sample                 \n",
       "[36,] /obs              sample_last_author_name\n",
       "[37,] /obs              sex                    \n",
       "[38,] /obs              smoking                \n",
       "[39,] /obs              smoking_status         \n",
       "[40,] /obs              total_counts           \n",
       "[41,] /                 var                    \n",
       "[42,] /var              _index                 "
      ]
     },
     "metadata": {},
     "output_type": "display_data"
    }
   ],
   "source": [
    "cbind(h5ls(filename)$group,\n",
    "h5ls(filename)$name)"
   ]
  },
  {
   "cell_type": "code",
   "execution_count": 7,
   "metadata": {},
   "outputs": [],
   "source": [
    "ind = h5read(file = filename, \"obs/_index\")\n",
    "var = h5read(file = filename, \"var\") # gene names"
   ]
  },
  {
   "cell_type": "code",
   "execution_count": 8,
   "metadata": {},
   "outputs": [],
   "source": [
    "X = h5read(file = filename, \"X\")\n",
    "X_data = as.integer(X$data)\n",
    "X_indptr = as.integer(X$indptr)\n",
    "X_indices = as.integer(X$indices)\n",
    "rm(X)"
   ]
  },
  {
   "cell_type": "code",
   "execution_count": 9,
   "metadata": {},
   "outputs": [],
   "source": [
    "# note dimensions are hardcoded!\n",
    "sMat = sparseMatrix(\n",
    "i = X_indices,\n",
    "p = X_indptr,\n",
    "x = X_data,\n",
    "dims = c(3, length(ind)),\n",
    "index1 = FALSE\n",
    ")\n",
    "rownames(sMat) <- as.character(var[[1]])\n",
    "colnames(sMat) <- as.character(ind)"
   ]
  },
  {
   "cell_type": "code",
   "execution_count": 11,
   "metadata": {},
   "outputs": [],
   "source": [
    "sMat_R_filename = paste0(mydir,\"partial_counts_sMat.Rds\")"
   ]
  },
  {
   "cell_type": "code",
   "execution_count": 12,
   "metadata": {},
   "outputs": [],
   "source": [
    "saveRDS(sMat, file = sMat_R_filename)"
   ]
  },
  {
   "cell_type": "code",
   "execution_count": 13,
   "metadata": {},
   "outputs": [],
   "source": [
    "# now the column data information\n",
    "colinfo_all = apply(cbind(h5ls(filename)$group,\n",
    "    h5ls(filename)$name)\n",
    "    ,1,paste0, collapse = \"/\")"
   ]
  },
  {
   "cell_type": "code",
   "execution_count": 14,
   "metadata": {},
   "outputs": [],
   "source": [
    "colinfo <- grep(\"categories|//\",grep(\"obs\",colinfo_all, value = TRUE), invert = TRUE, value = TRUE)"
   ]
  },
  {
   "cell_type": "code",
   "execution_count": 15,
   "metadata": {},
   "outputs": [
    {
     "name": "stdout",
     "output_type": "stream",
     "text": [
      "[1] \"/obs/_index\"\n",
      "[1] 1227421\n",
      "[1] \"/obs/age\"\n",
      "[1] 1227421\n",
      "[1] \"/obs/anatomical_region\"\n",
      "[1] 1227421\n",
      "[1] \"/obs/ann_level_1\"\n",
      "[1] 1227421\n",
      "[1] \"/obs/ann_level_2\"\n",
      "[1] 1227421\n",
      "[1] \"/obs/ann_level_3\"\n",
      "[1] 1227421\n",
      "[1] \"/obs/ann_level_4\"\n",
      "[1] 1227421\n",
      "[1] \"/obs/ann_level_5\"\n",
      "[1] 1227421\n",
      "[1] \"/obs/dataset\"\n",
      "[1] 1227421\n",
      "[1] \"/obs/donor\"\n",
      "[1] 1227421\n",
      "[1] \"/obs/last_author\"\n",
      "[1] 1227421\n",
      "[1] \"/obs/lung_vs_nasal\"\n",
      "[1] 1227421\n",
      "[1] \"/obs/pack_years\"\n",
      "[1] 1227421\n",
      "[1] \"/obs/sample\"\n",
      "[1] 1227421\n",
      "[1] \"/obs/sample_last_author_name\"\n",
      "[1] 1227421\n",
      "[1] \"/obs/sex\"\n",
      "[1] 1227421\n",
      "[1] \"/obs/smoking\"\n",
      "[1] 1227421\n",
      "[1] \"/obs/smoking_status\"\n",
      "[1] 1227421\n",
      "[1] \"/obs/total_counts\"\n",
      "[1] 1227421\n"
     ]
    }
   ],
   "source": [
    "outList <- list()\n",
    "for (colname in colinfo) {\n",
    "print(colname)\n",
    "colname_clean <- gsub(\"_index\",\"index\",rev(unlist(strsplit(colname, \"/\")))[1])\n",
    "out = h5read(file = filename, colname)\n",
    "if (length(out) == 1) {\n",
    "out <- out[[1]]\n",
    "}\n",
    "\n",
    "if (sum(h5ls(filename)$name %in% colname_clean) > 1) {\n",
    "    # then need to match category names\n",
    "    colname_categ = paste0(\"obs/__categories/\",colname_clean)\n",
    "\n",
    "    if (colname_clean == \"PI\") {\n",
    "    colname_categ = paste0(\"obs/__categories/last_author/\",colname_clean)\n",
    "    }\n",
    "\n",
    "    out_categ = h5read(file = filename, colname_categ)\n",
    "\n",
    "    out_proper <- out_categ[as.integer(out)+1] # zero indexing\n",
    "\n",
    "    out <- out_proper\n",
    "\n",
    "}\n",
    "\n",
    "print(length(out))\n",
    "\n",
    "\n",
    "outList[[colname_clean]] <- out\n",
    "}"
   ]
  },
  {
   "cell_type": "code",
   "execution_count": 16,
   "metadata": {},
   "outputs": [],
   "source": [
    "cData_raw = do.call(cbind, outList)\n",
    "rownames(cData_raw) <- cData_raw[,\"index\"]"
   ]
  },
  {
   "cell_type": "code",
   "execution_count": 17,
   "metadata": {},
   "outputs": [],
   "source": [
    "cData <- as.data.frame(cData_raw)\n",
    "cData_R_filename = paste0(mydir,\"partial_counts_cData.Rds\")\n",
    "saveRDS(cData, file = cData_R_filename)"
   ]
  },
  {
   "cell_type": "code",
   "execution_count": 18,
   "metadata": {},
   "outputs": [
    {
     "data": {
      "text/plain": [
       "class: SingleCellExperiment \n",
       "dim: 3 1227421 \n",
       "metadata(0):\n",
       "assays(1): counts\n",
       "rownames(3): ACE2 TMPRSS2 CTSL\n",
       "rowData names(0):\n",
       "colnames(1227421):\n",
       "  TCTATTGCACGGTTTA-1-HCATisStab7659969_368C_Madissoon____\n",
       "  CATATGGTCGTCTGAA-1-HCATisStab7646034_367C_Madissoon____ ...\n",
       "  4951STDY7487593GAATAAGCAGTGGAGT_ARMS054_nasal_nawijn_nasal\n",
       "  4951STDY7487593GCTCTGTAGACTAGAT_ARMS054_nasal_nawijn_nasal\n",
       "colData names(19): index age ... smoking_status total_counts\n",
       "reducedDimNames(0):\n",
       "spikeNames(0):\n",
       "altExpNames(0):"
      ]
     },
     "metadata": {},
     "output_type": "display_data"
    }
   ],
   "source": [
    "# build the sce object\n",
    "sce <- SingleCellExperiment(\n",
    "assays = list(counts = sMat),\n",
    "colData = cData)\n",
    "sce"
   ]
  },
  {
   "cell_type": "code",
   "execution_count": 19,
   "metadata": {},
   "outputs": [],
   "source": [
    "sce_R_filename = paste0(mydir,\"partial_counts_sce.Rds\")\n",
    "saveRDS(sce, file = sce_R_filename)"
   ]
  },
  {
   "cell_type": "code",
   "execution_count": null,
   "metadata": {},
   "outputs": [],
   "source": []
  },
  {
   "cell_type": "code",
   "execution_count": null,
   "metadata": {},
   "outputs": [],
   "source": []
  }
 ],
 "metadata": {
  "kernelspec": {
   "display_name": "R",
   "language": "R",
   "name": "ir"
  },
  "language_info": {
   "codemirror_mode": "r",
   "file_extension": ".r",
   "mimetype": "text/x-r-source",
   "name": "R",
   "pygments_lexer": "r",
   "version": "3.6.1"
  }
 },
 "nbformat": 4,
 "nbformat_minor": 4
}
