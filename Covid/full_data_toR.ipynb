{
 "cells": [
  {
   "cell_type": "code",
   "execution_count": 30,
   "metadata": {},
   "outputs": [],
   "source": [
    "library(rhdf5)\n",
    "library(Matrix)\n",
    "library(SingleCellExperiment)"
   ]
  },
  {
   "cell_type": "code",
   "execution_count": 31,
   "metadata": {},
   "outputs": [],
   "source": [
    "mydir = \"/hps/nobackup/stegle/users/acuomo/all_scripts/covid/\""
   ]
  },
  {
   "cell_type": "code",
   "execution_count": 32,
   "metadata": {},
   "outputs": [],
   "source": [
    "filename = paste0(mydir,\"full_counts_Kropski_Meyer_Misharin_Nawijn.h5ad\")"
   ]
  },
  {
   "cell_type": "code",
   "execution_count": 33,
   "metadata": {},
   "outputs": [
    {
     "data": {
      "text/html": [
       "<table>\n",
       "<tbody>\n",
       "\t<tr><td>/                            </td><td>X                            </td></tr>\n",
       "\t<tr><td>/X                           </td><td>data                         </td></tr>\n",
       "\t<tr><td>/X                           </td><td>indices                      </td></tr>\n",
       "\t<tr><td>/X                           </td><td>indptr                       </td></tr>\n",
       "\t<tr><td>/                            </td><td>obs                          </td></tr>\n",
       "\t<tr><td>/obs                         </td><td>__categories                 </td></tr>\n",
       "\t<tr><td>/obs/__categories            </td><td>age                          </td></tr>\n",
       "\t<tr><td>/obs/__categories            </td><td>anatomical_region            </td></tr>\n",
       "\t<tr><td>/obs/__categories            </td><td>ann_level_1                  </td></tr>\n",
       "\t<tr><td>/obs/__categories            </td><td>ann_level_2                  </td></tr>\n",
       "\t<tr><td>/obs/__categories            </td><td>ann_level_3                  </td></tr>\n",
       "\t<tr><td>/obs/__categories            </td><td>ann_level_4                  </td></tr>\n",
       "\t<tr><td>/obs/__categories            </td><td>ann_level_5                  </td></tr>\n",
       "\t<tr><td>/obs/__categories            </td><td>dataset                      </td></tr>\n",
       "\t<tr><td>/obs/__categories            </td><td>donor                        </td></tr>\n",
       "\t<tr><td>/obs/__categories            </td><td>last_author                  </td></tr>\n",
       "\t<tr><td>/obs/__categories/last_author</td><td>PI                           </td></tr>\n",
       "\t<tr><td>/obs/__categories            </td><td>lung_vs_nasal                </td></tr>\n",
       "\t<tr><td>/obs/__categories            </td><td>sample                       </td></tr>\n",
       "\t<tr><td>/obs/__categories            </td><td>sample_last_author_name      </td></tr>\n",
       "\t<tr><td>/obs/__categories            </td><td>sex                          </td></tr>\n",
       "\t<tr><td>/obs/__categories            </td><td>smoking                      </td></tr>\n",
       "\t<tr><td>/obs                         </td><td>_index                       </td></tr>\n",
       "\t<tr><td>/obs                         </td><td>age                          </td></tr>\n",
       "\t<tr><td>/obs                         </td><td>anatomical_region            </td></tr>\n",
       "\t<tr><td>/obs                         </td><td>ann_level_1                  </td></tr>\n",
       "\t<tr><td>/obs                         </td><td>ann_level_2                  </td></tr>\n",
       "\t<tr><td>/obs                         </td><td>ann_level_3                  </td></tr>\n",
       "\t<tr><td>/obs                         </td><td>ann_level_4                  </td></tr>\n",
       "\t<tr><td>/obs                         </td><td>ann_level_5                  </td></tr>\n",
       "\t<tr><td>/obs                         </td><td>dataset                      </td></tr>\n",
       "\t<tr><td>/obs                         </td><td>donor                        </td></tr>\n",
       "\t<tr><td>/obs                         </td><td>last_author                  </td></tr>\n",
       "\t<tr><td>/obs/last_author             </td><td>PI                           </td></tr>\n",
       "\t<tr><td>/obs                         </td><td>lung_vs_nasal                </td></tr>\n",
       "\t<tr><td>/obs                         </td><td>sample                       </td></tr>\n",
       "\t<tr><td>/obs                         </td><td>sample_last_author_name      </td></tr>\n",
       "\t<tr><td>/obs                         </td><td>sex                          </td></tr>\n",
       "\t<tr><td>/obs                         </td><td>smoking                      </td></tr>\n",
       "\t<tr><td>/obs                         </td><td>total_counts                 </td></tr>\n",
       "\t<tr><td>/                            </td><td>var                          </td></tr>\n",
       "\t<tr><td>/var                         </td><td>_index                       </td></tr>\n",
       "</tbody>\n",
       "</table>\n"
      ],
      "text/latex": [
       "\\begin{tabular}{ll}\n",
       "\t /                             & X                            \\\\\n",
       "\t /X                            & data                         \\\\\n",
       "\t /X                            & indices                      \\\\\n",
       "\t /X                            & indptr                       \\\\\n",
       "\t /                             & obs                          \\\\\n",
       "\t /obs                          & \\_\\_categories             \\\\\n",
       "\t /obs/\\_\\_categories             & age                              \\\\\n",
       "\t /obs/\\_\\_categories             & anatomical\\_region              \\\\\n",
       "\t /obs/\\_\\_categories             & ann\\_level\\_1                  \\\\\n",
       "\t /obs/\\_\\_categories             & ann\\_level\\_2                  \\\\\n",
       "\t /obs/\\_\\_categories             & ann\\_level\\_3                  \\\\\n",
       "\t /obs/\\_\\_categories             & ann\\_level\\_4                  \\\\\n",
       "\t /obs/\\_\\_categories             & ann\\_level\\_5                  \\\\\n",
       "\t /obs/\\_\\_categories             & dataset                          \\\\\n",
       "\t /obs/\\_\\_categories             & donor                            \\\\\n",
       "\t /obs/\\_\\_categories             & last\\_author                    \\\\\n",
       "\t /obs/\\_\\_categories/last\\_author & PI                                 \\\\\n",
       "\t /obs/\\_\\_categories             & lung\\_vs\\_nasal                \\\\\n",
       "\t /obs/\\_\\_categories             & sample                           \\\\\n",
       "\t /obs/\\_\\_categories             & sample\\_last\\_author\\_name    \\\\\n",
       "\t /obs/\\_\\_categories             & sex                              \\\\\n",
       "\t /obs/\\_\\_categories             & smoking                          \\\\\n",
       "\t /obs                          & \\_index                     \\\\\n",
       "\t /obs                          & age                          \\\\\n",
       "\t /obs                          & anatomical\\_region          \\\\\n",
       "\t /obs                          & ann\\_level\\_1              \\\\\n",
       "\t /obs                          & ann\\_level\\_2              \\\\\n",
       "\t /obs                          & ann\\_level\\_3              \\\\\n",
       "\t /obs                          & ann\\_level\\_4              \\\\\n",
       "\t /obs                          & ann\\_level\\_5              \\\\\n",
       "\t /obs                          & dataset                      \\\\\n",
       "\t /obs                          & donor                        \\\\\n",
       "\t /obs                          & last\\_author                \\\\\n",
       "\t /obs/last\\_author              & PI                             \\\\\n",
       "\t /obs                          & lung\\_vs\\_nasal            \\\\\n",
       "\t /obs                          & sample                       \\\\\n",
       "\t /obs                          & sample\\_last\\_author\\_name\\\\\n",
       "\t /obs                          & sex                          \\\\\n",
       "\t /obs                          & smoking                      \\\\\n",
       "\t /obs                          & total\\_counts               \\\\\n",
       "\t /                             & var                          \\\\\n",
       "\t /var                          & \\_index                     \\\\\n",
       "\\end{tabular}\n"
      ],
      "text/markdown": [
       "\n",
       "| /                             | X                             |\n",
       "| /X                            | data                          |\n",
       "| /X                            | indices                       |\n",
       "| /X                            | indptr                        |\n",
       "| /                             | obs                           |\n",
       "| /obs                          | __categories                  |\n",
       "| /obs/__categories             | age                           |\n",
       "| /obs/__categories             | anatomical_region             |\n",
       "| /obs/__categories             | ann_level_1                   |\n",
       "| /obs/__categories             | ann_level_2                   |\n",
       "| /obs/__categories             | ann_level_3                   |\n",
       "| /obs/__categories             | ann_level_4                   |\n",
       "| /obs/__categories             | ann_level_5                   |\n",
       "| /obs/__categories             | dataset                       |\n",
       "| /obs/__categories             | donor                         |\n",
       "| /obs/__categories             | last_author                   |\n",
       "| /obs/__categories/last_author | PI                            |\n",
       "| /obs/__categories             | lung_vs_nasal                 |\n",
       "| /obs/__categories             | sample                        |\n",
       "| /obs/__categories             | sample_last_author_name       |\n",
       "| /obs/__categories             | sex                           |\n",
       "| /obs/__categories             | smoking                       |\n",
       "| /obs                          | _index                        |\n",
       "| /obs                          | age                           |\n",
       "| /obs                          | anatomical_region             |\n",
       "| /obs                          | ann_level_1                   |\n",
       "| /obs                          | ann_level_2                   |\n",
       "| /obs                          | ann_level_3                   |\n",
       "| /obs                          | ann_level_4                   |\n",
       "| /obs                          | ann_level_5                   |\n",
       "| /obs                          | dataset                       |\n",
       "| /obs                          | donor                         |\n",
       "| /obs                          | last_author                   |\n",
       "| /obs/last_author              | PI                            |\n",
       "| /obs                          | lung_vs_nasal                 |\n",
       "| /obs                          | sample                        |\n",
       "| /obs                          | sample_last_author_name       |\n",
       "| /obs                          | sex                           |\n",
       "| /obs                          | smoking                       |\n",
       "| /obs                          | total_counts                  |\n",
       "| /                             | var                           |\n",
       "| /var                          | _index                        |\n",
       "\n"
      ],
      "text/plain": [
       "      [,1]                          [,2]                   \n",
       " [1,] /                             X                      \n",
       " [2,] /X                            data                   \n",
       " [3,] /X                            indices                \n",
       " [4,] /X                            indptr                 \n",
       " [5,] /                             obs                    \n",
       " [6,] /obs                          __categories           \n",
       " [7,] /obs/__categories             age                    \n",
       " [8,] /obs/__categories             anatomical_region      \n",
       " [9,] /obs/__categories             ann_level_1            \n",
       "[10,] /obs/__categories             ann_level_2            \n",
       "[11,] /obs/__categories             ann_level_3            \n",
       "[12,] /obs/__categories             ann_level_4            \n",
       "[13,] /obs/__categories             ann_level_5            \n",
       "[14,] /obs/__categories             dataset                \n",
       "[15,] /obs/__categories             donor                  \n",
       "[16,] /obs/__categories             last_author            \n",
       "[17,] /obs/__categories/last_author PI                     \n",
       "[18,] /obs/__categories             lung_vs_nasal          \n",
       "[19,] /obs/__categories             sample                 \n",
       "[20,] /obs/__categories             sample_last_author_name\n",
       "[21,] /obs/__categories             sex                    \n",
       "[22,] /obs/__categories             smoking                \n",
       "[23,] /obs                          _index                 \n",
       "[24,] /obs                          age                    \n",
       "[25,] /obs                          anatomical_region      \n",
       "[26,] /obs                          ann_level_1            \n",
       "[27,] /obs                          ann_level_2            \n",
       "[28,] /obs                          ann_level_3            \n",
       "[29,] /obs                          ann_level_4            \n",
       "[30,] /obs                          ann_level_5            \n",
       "[31,] /obs                          dataset                \n",
       "[32,] /obs                          donor                  \n",
       "[33,] /obs                          last_author            \n",
       "[34,] /obs/last_author              PI                     \n",
       "[35,] /obs                          lung_vs_nasal          \n",
       "[36,] /obs                          sample                 \n",
       "[37,] /obs                          sample_last_author_name\n",
       "[38,] /obs                          sex                    \n",
       "[39,] /obs                          smoking                \n",
       "[40,] /obs                          total_counts           \n",
       "[41,] /                             var                    \n",
       "[42,] /var                          _index                 "
      ]
     },
     "metadata": {},
     "output_type": "display_data"
    }
   ],
   "source": [
    "cbind(h5ls(filename)$group,\n",
    "h5ls(filename)$name)"
   ]
  },
  {
   "cell_type": "code",
   "execution_count": 34,
   "metadata": {},
   "outputs": [],
   "source": [
    "ind = h5read(file = filename, \"obs/_index\")\n",
    "var = h5read(file = filename, \"var\") # gene names"
   ]
  },
  {
   "cell_type": "code",
   "execution_count": 35,
   "metadata": {},
   "outputs": [],
   "source": [
    "X = h5read(file = filename, \"X\")\n",
    "X_data = as.integer(X$data)\n",
    "X_indptr = as.integer(X$indptr)\n",
    "X_indices = as.integer(X$indices)\n",
    "rm(X)"
   ]
  },
  {
   "cell_type": "code",
   "execution_count": 36,
   "metadata": {},
   "outputs": [],
   "source": [
    "# note dimensions are hardcoded!\n",
    "sMat = sparseMatrix(\n",
    "i = X_indices,\n",
    "p = X_indptr,\n",
    "x = X_data,\n",
    "dims = c(45065, 141243),\n",
    "index1 = FALSE\n",
    ")\n",
    "rownames(sMat) <- as.character(var[[1]])\n",
    "colnames(sMat) <- as.character(ind)"
   ]
  },
  {
   "cell_type": "code",
   "execution_count": 37,
   "metadata": {},
   "outputs": [],
   "source": [
    "R_filename = paste0(mydir,\"full_counts_sMat.Rds\")"
   ]
  },
  {
   "cell_type": "code",
   "execution_count": 39,
   "metadata": {},
   "outputs": [],
   "source": [
    "# saveRDS(sMat, file = R_filename)"
   ]
  },
  {
   "cell_type": "code",
   "execution_count": 40,
   "metadata": {},
   "outputs": [],
   "source": [
    "# now the column data information\n",
    "colinfo_all = apply(cbind(h5ls(filename)$group,\n",
    "    h5ls(filename)$name)\n",
    "    ,1,paste0, collapse = \"/\")"
   ]
  },
  {
   "cell_type": "code",
   "execution_count": 41,
   "metadata": {},
   "outputs": [],
   "source": [
    "colinfo <- grep(\"categories|//\",grep(\"obs\",colinfo_all, value = TRUE), invert = TRUE, value = TRUE)"
   ]
  },
  {
   "cell_type": "code",
   "execution_count": 42,
   "metadata": {},
   "outputs": [
    {
     "name": "stdout",
     "output_type": "stream",
     "text": [
      "[1] \"/obs/_index\"\n",
      "[1] 141243\n",
      "[1] \"/obs/age\"\n",
      "[1] 141243\n",
      "[1] \"/obs/anatomical_region\"\n",
      "[1] 141243\n",
      "[1] \"/obs/ann_level_1\"\n",
      "[1] 141243\n",
      "[1] \"/obs/ann_level_2\"\n",
      "[1] 141243\n",
      "[1] \"/obs/ann_level_3\"\n",
      "[1] 141243\n",
      "[1] \"/obs/ann_level_4\"\n",
      "[1] 141243\n",
      "[1] \"/obs/ann_level_5\"\n",
      "[1] 141243\n",
      "[1] \"/obs/dataset\"\n",
      "[1] 141243\n",
      "[1] \"/obs/donor\"\n",
      "[1] 141243\n",
      "[1] \"/obs/last_author\"\n",
      "[1] 141243\n",
      "[1] \"/obs/last_author/PI\"\n",
      "[1] 141243\n",
      "[1] \"/obs/lung_vs_nasal\"\n",
      "[1] 141243\n",
      "[1] \"/obs/sample\"\n",
      "[1] 141243\n",
      "[1] \"/obs/sample_last_author_name\"\n",
      "[1] 141243\n",
      "[1] \"/obs/sex\"\n",
      "[1] 141243\n",
      "[1] \"/obs/smoking\"\n",
      "[1] 141243\n",
      "[1] \"/obs/total_counts\"\n",
      "[1] 141243\n"
     ]
    }
   ],
   "source": [
    "outList <- list()\n",
    "for (colname in colinfo) {\n",
    "print(colname)\n",
    "colname_clean <- gsub(\"_index\",\"index\",rev(unlist(strsplit(colname, \"/\")))[1])\n",
    "out = h5read(file = filename, colname)\n",
    "if (length(out) == 1) {\n",
    "out <- out[[1]]\n",
    "}\n",
    "\n",
    "if (sum(h5ls(filename)$name %in% colname_clean) > 1) {\n",
    "    # then need to match category names\n",
    "    colname_categ = paste0(\"obs/__categories/\",colname_clean)\n",
    "\n",
    "    if (colname_clean == \"PI\") {\n",
    "    colname_categ = paste0(\"obs/__categories/last_author/\",colname_clean)\n",
    "    }\n",
    "\n",
    "    out_categ = h5read(file = filename, colname_categ)\n",
    "\n",
    "    out_proper <- out_categ[as.integer(out)+1] # zero indexing\n",
    "\n",
    "    out <- out_proper\n",
    "\n",
    "}\n",
    "\n",
    "print(length(out))\n",
    "\n",
    "\n",
    "outList[[colname_clean]] <- out\n",
    "}"
   ]
  },
  {
   "cell_type": "code",
   "execution_count": 43,
   "metadata": {},
   "outputs": [],
   "source": [
    "cData_raw = do.call(cbind, outList)\n",
    "rownames(cData_raw) <- cData_raw[,\"index\"]"
   ]
  },
  {
   "cell_type": "code",
   "execution_count": 44,
   "metadata": {},
   "outputs": [],
   "source": [
    "cData <- as.data.frame(cData_raw)\n",
    "cData_R_filename = paste0(mydir,\"full_counts_cData.Rds\")\n",
    "saveRDS(cData, file = cData_R_filename)"
   ]
  },
  {
   "cell_type": "code",
   "execution_count": 45,
   "metadata": {},
   "outputs": [
    {
     "data": {
      "text/plain": [
       "class: SingleCellExperiment \n",
       "dim: 45065 141243 \n",
       "metadata(0):\n",
       "assays(1): counts\n",
       "rownames(45065): RP11-34P13.3 FAM138A ... C11orf71.1 LINC01481.1\n",
       "rowData names(0):\n",
       "colnames(141243): TCTATTGCACGGTTTA-1-HCATisStab7659969_368C_Madissoon\n",
       "  CATATGGTCGTCTGAA-1-HCATisStab7646034_367C_Madissoon ...\n",
       "  CTCGTCAAGTAAGTAC_Donor_02_Reyfman\n",
       "  TTAGGACCAGCGTTCG-1-HCATisStab7646035_367C_Madissoon\n",
       "colData names(18): index age ... smoking total_counts\n",
       "reducedDimNames(0):\n",
       "spikeNames(0):\n",
       "altExpNames(0):"
      ]
     },
     "metadata": {},
     "output_type": "display_data"
    }
   ],
   "source": [
    "# build the sce object\n",
    "sce <- SingleCellExperiment(\n",
    "assays = list(counts = sMat),\n",
    "colData = cData)\n",
    "sce"
   ]
  },
  {
   "cell_type": "code",
   "execution_count": 46,
   "metadata": {},
   "outputs": [],
   "source": [
    "sce_R_filename = paste0(mydir,\"full_counts_sce.Rds\")\n",
    "saveRDS(sce, file = sce_R_filename)"
   ]
  },
  {
   "cell_type": "code",
   "execution_count": null,
   "metadata": {},
   "outputs": [],
   "source": []
  },
  {
   "cell_type": "code",
   "execution_count": null,
   "metadata": {},
   "outputs": [],
   "source": []
  }
 ],
 "metadata": {
  "kernelspec": {
   "display_name": "R",
   "language": "R",
   "name": "ir"
  },
  "language_info": {
   "codemirror_mode": "r",
   "file_extension": ".r",
   "mimetype": "text/x-r-source",
   "name": "R",
   "pygments_lexer": "r",
   "version": "3.6.1"
  }
 },
 "nbformat": 4,
 "nbformat_minor": 4
}
