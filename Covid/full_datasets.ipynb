{
 "cells": [
  {
   "cell_type": "code",
   "execution_count": 1,
   "metadata": {},
   "outputs": [
    {
     "name": "stderr",
     "output_type": "stream",
     "text": [
      "/nfs/software/stegle/users/acuomo/conda-envs/myscanpy/lib/python3.7/site-packages/anndata/_core/anndata.py:21: FutureWarning: pandas.core.index is deprecated and will be removed in a future version.  The public classes are available in the top-level namespace.\n",
      "  from pandas.core.index import RangeIndex\n"
     ]
    }
   ],
   "source": [
    "import scanpy as sc "
   ]
  },
  {
   "cell_type": "code",
   "execution_count": 2,
   "metadata": {},
   "outputs": [],
   "source": [
    "filename = \"/hps/nobackup/stegle/users/acuomo/all_scripts/covid/full_counts_Kropski_Meyer_Misharin_Nawijn.h5ad\""
   ]
  },
  {
   "cell_type": "code",
   "execution_count": 3,
   "metadata": {},
   "outputs": [],
   "source": [
    "adatafull = sc.read(filename)"
   ]
  },
  {
   "cell_type": "code",
   "execution_count": 4,
   "metadata": {},
   "outputs": [
    {
     "data": {
      "text/plain": [
       "AnnData object with n_obs × n_vars = 141243 × 45065 \n",
       "    obs: 'age', 'donor', 'sex', 'dataset', 'sample', 'total_counts', 'ann_level_1', 'ann_level_2', 'ann_level_3', 'ann_level_4', 'ann_level_5', 'smoking', 'anatomical_region', 'last_author/PI', 'sample_last_author_name', 'lung_vs_nasal'"
      ]
     },
     "execution_count": 4,
     "metadata": {},
     "output_type": "execute_result"
    }
   ],
   "source": [
    "adatafull"
   ]
  },
  {
   "cell_type": "code",
   "execution_count": 5,
   "metadata": {},
   "outputs": [
    {
     "data": {
      "text/html": [
       "<div>\n",
       "<style scoped>\n",
       "    .dataframe tbody tr th:only-of-type {\n",
       "        vertical-align: middle;\n",
       "    }\n",
       "\n",
       "    .dataframe tbody tr th {\n",
       "        vertical-align: top;\n",
       "    }\n",
       "\n",
       "    .dataframe thead th {\n",
       "        text-align: right;\n",
       "    }\n",
       "</style>\n",
       "<table border=\"1\" class=\"dataframe\">\n",
       "  <thead>\n",
       "    <tr style=\"text-align: right;\">\n",
       "      <th></th>\n",
       "      <th>age</th>\n",
       "      <th>donor</th>\n",
       "      <th>sex</th>\n",
       "      <th>dataset</th>\n",
       "      <th>sample</th>\n",
       "      <th>total_counts</th>\n",
       "      <th>ann_level_1</th>\n",
       "      <th>ann_level_2</th>\n",
       "      <th>ann_level_3</th>\n",
       "      <th>ann_level_4</th>\n",
       "      <th>ann_level_5</th>\n",
       "      <th>smoking</th>\n",
       "      <th>anatomical_region</th>\n",
       "      <th>last_author/PI</th>\n",
       "      <th>sample_last_author_name</th>\n",
       "      <th>lung_vs_nasal</th>\n",
       "    </tr>\n",
       "  </thead>\n",
       "  <tbody>\n",
       "    <tr>\n",
       "      <th>TCTATTGCACGGTTTA-1-HCATisStab7659969_368C_Madissoon</th>\n",
       "      <td>57.5</td>\n",
       "      <td>368C</td>\n",
       "      <td>male</td>\n",
       "      <td>Sanger_Meyer_2019Madissoon</td>\n",
       "      <td>368C</td>\n",
       "      <td>3256</td>\n",
       "      <td>Immune</td>\n",
       "      <td>Lymphoid</td>\n",
       "      <td>B cell lineage</td>\n",
       "      <td>B cells</td>\n",
       "      <td>4_B cells</td>\n",
       "      <td>active</td>\n",
       "      <td>parenchyma</td>\n",
       "      <td>Meyer_a</td>\n",
       "      <td>Meyer_a_04</td>\n",
       "      <td>lung</td>\n",
       "    </tr>\n",
       "    <tr>\n",
       "      <th>CATATGGTCGTCTGAA-1-HCATisStab7646034_367C_Madissoon</th>\n",
       "      <td>67.5</td>\n",
       "      <td>367C</td>\n",
       "      <td>male</td>\n",
       "      <td>Sanger_Meyer_2019Madissoon</td>\n",
       "      <td>367C</td>\n",
       "      <td>3580</td>\n",
       "      <td>Immune</td>\n",
       "      <td>Lymphoid</td>\n",
       "      <td>T cell lineage</td>\n",
       "      <td>CD4 T cells</td>\n",
       "      <td>4_CD4 T cells</td>\n",
       "      <td>former</td>\n",
       "      <td>parenchyma</td>\n",
       "      <td>Meyer_a</td>\n",
       "      <td>Meyer_a_03</td>\n",
       "      <td>lung</td>\n",
       "    </tr>\n",
       "    <tr>\n",
       "      <th>AGTAGTCCAGCTGCAC_Donor_05_Reyfman</th>\n",
       "      <td>49.0</td>\n",
       "      <td>Donor_05</td>\n",
       "      <td>female</td>\n",
       "      <td>Northwestern_Misharin_2018Reyfman</td>\n",
       "      <td>Donor_05</td>\n",
       "      <td>20901</td>\n",
       "      <td>Epithelial</td>\n",
       "      <td>Alveolar epithelium</td>\n",
       "      <td>AT2</td>\n",
       "      <td>AT2</td>\n",
       "      <td>4_AT2</td>\n",
       "      <td>active</td>\n",
       "      <td>parenchyma</td>\n",
       "      <td>Misharin_Budinger</td>\n",
       "      <td>Misharin_Budinger_05</td>\n",
       "      <td>lung</td>\n",
       "    </tr>\n",
       "  </tbody>\n",
       "</table>\n",
       "</div>"
      ],
      "text/plain": [
       "                                                     age     donor     sex  \\\n",
       "TCTATTGCACGGTTTA-1-HCATisStab7659969_368C_Madis...  57.5      368C    male   \n",
       "CATATGGTCGTCTGAA-1-HCATisStab7646034_367C_Madis...  67.5      367C    male   \n",
       "AGTAGTCCAGCTGCAC_Donor_05_Reyfman                   49.0  Donor_05  female   \n",
       "\n",
       "                                                                              dataset  \\\n",
       "TCTATTGCACGGTTTA-1-HCATisStab7659969_368C_Madis...         Sanger_Meyer_2019Madissoon   \n",
       "CATATGGTCGTCTGAA-1-HCATisStab7646034_367C_Madis...         Sanger_Meyer_2019Madissoon   \n",
       "AGTAGTCCAGCTGCAC_Donor_05_Reyfman                   Northwestern_Misharin_2018Reyfman   \n",
       "\n",
       "                                                      sample  total_counts  \\\n",
       "TCTATTGCACGGTTTA-1-HCATisStab7659969_368C_Madis...      368C          3256   \n",
       "CATATGGTCGTCTGAA-1-HCATisStab7646034_367C_Madis...      367C          3580   \n",
       "AGTAGTCCAGCTGCAC_Donor_05_Reyfman                   Donor_05         20901   \n",
       "\n",
       "                                                   ann_level_1  \\\n",
       "TCTATTGCACGGTTTA-1-HCATisStab7659969_368C_Madis...      Immune   \n",
       "CATATGGTCGTCTGAA-1-HCATisStab7646034_367C_Madis...      Immune   \n",
       "AGTAGTCCAGCTGCAC_Donor_05_Reyfman                   Epithelial   \n",
       "\n",
       "                                                            ann_level_2  \\\n",
       "TCTATTGCACGGTTTA-1-HCATisStab7659969_368C_Madis...             Lymphoid   \n",
       "CATATGGTCGTCTGAA-1-HCATisStab7646034_367C_Madis...             Lymphoid   \n",
       "AGTAGTCCAGCTGCAC_Donor_05_Reyfman                   Alveolar epithelium   \n",
       "\n",
       "                                                       ann_level_3  \\\n",
       "TCTATTGCACGGTTTA-1-HCATisStab7659969_368C_Madis...  B cell lineage   \n",
       "CATATGGTCGTCTGAA-1-HCATisStab7646034_367C_Madis...  T cell lineage   \n",
       "AGTAGTCCAGCTGCAC_Donor_05_Reyfman                              AT2   \n",
       "\n",
       "                                                    ann_level_4  \\\n",
       "TCTATTGCACGGTTTA-1-HCATisStab7659969_368C_Madis...      B cells   \n",
       "CATATGGTCGTCTGAA-1-HCATisStab7646034_367C_Madis...  CD4 T cells   \n",
       "AGTAGTCCAGCTGCAC_Donor_05_Reyfman                           AT2   \n",
       "\n",
       "                                                      ann_level_5 smoking  \\\n",
       "TCTATTGCACGGTTTA-1-HCATisStab7659969_368C_Madis...      4_B cells  active   \n",
       "CATATGGTCGTCTGAA-1-HCATisStab7646034_367C_Madis...  4_CD4 T cells  former   \n",
       "AGTAGTCCAGCTGCAC_Donor_05_Reyfman                           4_AT2  active   \n",
       "\n",
       "                                                   anatomical_region  \\\n",
       "TCTATTGCACGGTTTA-1-HCATisStab7659969_368C_Madis...        parenchyma   \n",
       "CATATGGTCGTCTGAA-1-HCATisStab7646034_367C_Madis...        parenchyma   \n",
       "AGTAGTCCAGCTGCAC_Donor_05_Reyfman                         parenchyma   \n",
       "\n",
       "                                                       last_author/PI  \\\n",
       "TCTATTGCACGGTTTA-1-HCATisStab7659969_368C_Madis...            Meyer_a   \n",
       "CATATGGTCGTCTGAA-1-HCATisStab7646034_367C_Madis...            Meyer_a   \n",
       "AGTAGTCCAGCTGCAC_Donor_05_Reyfman                   Misharin_Budinger   \n",
       "\n",
       "                                                   sample_last_author_name  \\\n",
       "TCTATTGCACGGTTTA-1-HCATisStab7659969_368C_Madis...              Meyer_a_04   \n",
       "CATATGGTCGTCTGAA-1-HCATisStab7646034_367C_Madis...              Meyer_a_03   \n",
       "AGTAGTCCAGCTGCAC_Donor_05_Reyfman                     Misharin_Budinger_05   \n",
       "\n",
       "                                                   lung_vs_nasal  \n",
       "TCTATTGCACGGTTTA-1-HCATisStab7659969_368C_Madis...          lung  \n",
       "CATATGGTCGTCTGAA-1-HCATisStab7646034_367C_Madis...          lung  \n",
       "AGTAGTCCAGCTGCAC_Donor_05_Reyfman                           lung  "
      ]
     },
     "execution_count": 5,
     "metadata": {},
     "output_type": "execute_result"
    }
   ],
   "source": [
    "adatafull.obs.head(3)"
   ]
  },
  {
   "cell_type": "code",
   "execution_count": 6,
   "metadata": {},
   "outputs": [
    {
     "data": {
      "text/html": [
       "<div>\n",
       "<style scoped>\n",
       "    .dataframe tbody tr th:only-of-type {\n",
       "        vertical-align: middle;\n",
       "    }\n",
       "\n",
       "    .dataframe tbody tr th {\n",
       "        vertical-align: top;\n",
       "    }\n",
       "\n",
       "    .dataframe thead th {\n",
       "        text-align: right;\n",
       "    }\n",
       "</style>\n",
       "<table border=\"1\" class=\"dataframe\">\n",
       "  <thead>\n",
       "    <tr style=\"text-align: right;\">\n",
       "      <th></th>\n",
       "    </tr>\n",
       "  </thead>\n",
       "  <tbody>\n",
       "    <tr>\n",
       "      <th>RP11-34P13.3</th>\n",
       "    </tr>\n",
       "    <tr>\n",
       "      <th>FAM138A</th>\n",
       "    </tr>\n",
       "    <tr>\n",
       "      <th>OR4F5</th>\n",
       "    </tr>\n",
       "    <tr>\n",
       "      <th>RP11-34P13.7</th>\n",
       "    </tr>\n",
       "    <tr>\n",
       "      <th>RP11-34P13.8</th>\n",
       "    </tr>\n",
       "  </tbody>\n",
       "</table>\n",
       "</div>"
      ],
      "text/plain": [
       "Empty DataFrame\n",
       "Columns: []\n",
       "Index: [RP11-34P13.3, FAM138A, OR4F5, RP11-34P13.7, RP11-34P13.8]"
      ]
     },
     "execution_count": 6,
     "metadata": {},
     "output_type": "execute_result"
    }
   ],
   "source": [
    "adatafull.var.head()"
   ]
  },
  {
   "cell_type": "code",
   "execution_count": 7,
   "metadata": {},
   "outputs": [],
   "source": [
    "adata = adatafull"
   ]
  },
  {
   "cell_type": "code",
   "execution_count": 8,
   "metadata": {},
   "outputs": [],
   "source": [
    "adata.obs.age = adata.obs.age.astype(float)"
   ]
  },
  {
   "cell_type": "code",
   "execution_count": 9,
   "metadata": {},
   "outputs": [
    {
     "data": {
      "text/plain": [
       "age                         float64\n",
       "donor                      category\n",
       "sex                        category\n",
       "dataset                    category\n",
       "sample                     category\n",
       "total_counts                  int64\n",
       "ann_level_1                category\n",
       "ann_level_2                category\n",
       "ann_level_3                category\n",
       "ann_level_4                category\n",
       "ann_level_5                category\n",
       "smoking                    category\n",
       "anatomical_region          category\n",
       "last_author/PI             category\n",
       "sample_last_author_name    category\n",
       "lung_vs_nasal              category\n",
       "dtype: object"
      ]
     },
     "execution_count": 9,
     "metadata": {},
     "output_type": "execute_result"
    }
   ],
   "source": [
    "adata.obs.dtypes"
   ]
  },
  {
   "cell_type": "code",
   "execution_count": 10,
   "metadata": {},
   "outputs": [
    {
     "data": {
      "text/plain": [
       "Sanger_Meyer_2019Madissoon             56711\n",
       "Northwestern_Misharin_2018Reyfman      41778\n",
       "Vanderbilt_Kropski_bioRxivHabermann    31644\n",
       "Groningen_Nawijn_2019VieiraBraga       11110\n",
       "Name: dataset, dtype: int64"
      ]
     },
     "execution_count": 10,
     "metadata": {},
     "output_type": "execute_result"
    }
   ],
   "source": [
    "adata.obs.dataset.value_counts()"
   ]
  },
  {
   "cell_type": "code",
   "execution_count": 11,
   "metadata": {},
   "outputs": [
    {
     "data": {
      "text/plain": [
       "array([[0., 0., 0., 0., 0., 0., 0., 0., 0., 0.],\n",
       "       [0., 0., 0., 0., 0., 0., 0., 0., 0., 0.],\n",
       "       [0., 0., 0., 0., 0., 0., 0., 0., 0., 0.],\n",
       "       [0., 0., 0., 0., 0., 0., 0., 0., 0., 0.],\n",
       "       [0., 0., 0., 0., 0., 0., 0., 0., 0., 0.],\n",
       "       [0., 0., 0., 0., 0., 0., 0., 0., 0., 0.],\n",
       "       [0., 0., 0., 0., 0., 0., 0., 0., 0., 1.],\n",
       "       [0., 0., 0., 0., 0., 0., 0., 0., 0., 0.],\n",
       "       [0., 0., 0., 0., 0., 0., 0., 0., 0., 0.],\n",
       "       [0., 0., 0., 0., 0., 0., 0., 0., 0., 2.]], dtype=float32)"
      ]
     },
     "execution_count": 11,
     "metadata": {},
     "output_type": "execute_result"
    }
   ],
   "source": [
    "adata.X[:10,:10].A"
   ]
  },
  {
   "cell_type": "code",
   "execution_count": null,
   "metadata": {},
   "outputs": [],
   "source": []
  },
  {
   "cell_type": "code",
   "execution_count": null,
   "metadata": {},
   "outputs": [],
   "source": []
  },
  {
   "cell_type": "code",
   "execution_count": null,
   "metadata": {},
   "outputs": [],
   "source": []
  }
 ],
 "metadata": {
  "kernelspec": {
   "display_name": "Python 3",
   "language": "python",
   "name": "python3"
  },
  "language_info": {
   "codemirror_mode": {
    "name": "ipython",
    "version": 3
   },
   "file_extension": ".py",
   "mimetype": "text/x-python",
   "name": "python",
   "nbconvert_exporter": "python",
   "pygments_lexer": "ipython3",
   "version": "3.7.6"
  }
 },
 "nbformat": 4,
 "nbformat_minor": 2
}
