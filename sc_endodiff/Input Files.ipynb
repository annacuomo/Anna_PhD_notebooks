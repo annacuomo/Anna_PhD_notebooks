{
 "cells": [
  {
   "cell_type": "code",
   "execution_count": 1,
   "metadata": {},
   "outputs": [],
   "source": [
    "## load useful libraries\n",
    "suppressWarnings(suppressPackageStartupMessages(library(rhdf5)))\n",
    "suppressWarnings(suppressPackageStartupMessages(library(qvalue)))\n",
    "suppressWarnings(suppressPackageStartupMessages(library(dplyr)))\n",
    "suppressWarnings(suppressPackageStartupMessages(library(cowplot)))\n",
    "suppressWarnings(suppressPackageStartupMessages(library(tidyverse)))\n",
    "suppressWarnings(suppressPackageStartupMessages(library(ggbeeswarm)))\n",
    "suppressWarnings(suppressPackageStartupMessages(library(ggthemes)))\n",
    "suppressWarnings(suppressPackageStartupMessages(library(scater)))\n",
    "suppressWarnings(suppressPackageStartupMessages(library(SingleCellExperiment)))\n",
    "suppressWarnings(suppressPackageStartupMessages(library(edgeR)))\n",
    "suppressWarnings(suppressPackageStartupMessages(library(limma)))\n",
    "suppressWarnings(suppressPackageStartupMessages(library(ggplot2)))\n",
    "# suppressWarnings(suppressPackageStartupMessages(library(ISLR)))\n",
    "# suppressWarnings(suppressPackageStartupMessages(library(GGally)))\n",
    "suppressWarnings(suppressPackageStartupMessages(library(scran)))\n",
    "suppressWarnings(suppressPackageStartupMessages(library(ComplexHeatmap)))\n",
    "suppressWarnings(suppressPackageStartupMessages(library(circlize)))"
   ]
  },
  {
   "cell_type": "code",
   "execution_count": 16,
   "metadata": {},
   "outputs": [
    {
     "data": {
      "text/plain": [
       "class: SingleCellExperiment \n",
       "dim: 11231 36044 \n",
       "metadata(4): log.exprs.offset log.exprs.offset log.exprs.offset\n",
       "  log.exprs.offset\n",
       "assays(3): tpm counts logcounts\n",
       "rownames(11231): ENSG00000000003_TSPAN6 ENSG00000000419_DPM1 ...\n",
       "  ENSG00000272325_NUDT3 ENSG00000272398_CD24\n",
       "rowData names(17): exprs_collapsed_to ensembl_transcript_id ...\n",
       "  is_intop2000hvg is_hvg\n",
       "colnames(36044): 21843_1#10 21843_1#100 ... 24539_8#97 24539_8#98\n",
       "colData names(123): adj_x adj_y ... princ_curve princ_curve_scaled01\n",
       "reducedDimNames(1): PCA\n",
       "spikeNames(1): ERCC"
      ]
     },
     "metadata": {},
     "output_type": "display_data"
    }
   ],
   "source": [
    "sce.file = \"/hps/nobackup/hipsci/scratch/singlecell_endodiff/data_processed/merged/20180618/sce_merged_afterqc_filt_allexpts.rds\"\n",
    "sce = readRDS(sce.file)\n",
    "sce"
   ]
  },
  {
   "cell_type": "code",
   "execution_count": 3,
   "metadata": {},
   "outputs": [],
   "source": [
    "## day2"
   ]
  },
  {
   "cell_type": "code",
   "execution_count": 4,
   "metadata": {},
   "outputs": [],
   "source": [
    "get_combinations <- function(sceset, day){\n",
    "    l = c()\n",
    "    mysce = sceset[,sceset$day == day]\n",
    "    mat = table(mysce$donor_short_id, mysce$experiment) \n",
    "    ord = which(table(mysce$donor_short_id, mysce$experiment) > 0, arr.ind = T)\n",
    "    for (i in 1:dim(ord)[1]){\n",
    "        l[i] = paste0(rownames(mat)[ord[i,1]],\"-\",colnames(mat)[ord[i,2]])\n",
    "    }\n",
    "    l\n",
    "}"
   ]
  },
  {
   "cell_type": "code",
   "execution_count": 5,
   "metadata": {},
   "outputs": [],
   "source": [
    "l_day2 <- get_combinations(sce, \"day2\")"
   ]
  },
  {
   "cell_type": "code",
   "execution_count": 6,
   "metadata": {},
   "outputs": [
    {
     "data": {
      "text/html": [
       "<ol class=list-inline>\n",
       "\t<li>'dixh_2-expt_21'</li>\n",
       "\t<li>'fawm_2-expt_21'</li>\n",
       "\t<li>'koqx_1-expt_21'</li>\n",
       "\t<li>'naju_1-expt_21'</li>\n",
       "\t<li>'oebj_1-expt_21'</li>\n",
       "\t<li>'wigw_2-expt_21'</li>\n",
       "\t<li>'eoxi_6-expt_22'</li>\n",
       "\t<li>'fawm_2-expt_22'</li>\n",
       "\t<li>'iudw_4-expt_22'</li>\n",
       "\t<li>'oebj_1-expt_22'</li>\n",
       "\t<li>'oojs_1-expt_22'</li>\n",
       "\t<li>'pulk_1-expt_22'</li>\n",
       "\t<li>'babz_3-expt_24'</li>\n",
       "\t<li>'guyj_2-expt_24'</li>\n",
       "\t<li>'iisa_1-expt_24'</li>\n",
       "\t<li>'oikd_2-expt_24'</li>\n",
       "\t<li>'walu_1-expt_24'</li>\n",
       "\t<li>'iiyk_4-expt_28'</li>\n",
       "\t<li>'laey_4-expt_28'</li>\n",
       "\t<li>'letw_1-expt_28'</li>\n",
       "\t<li>'miaj_6-expt_28'</li>\n",
       "\t<li>'poih_4-expt_28'</li>\n",
       "\t<li>'rutc_2-expt_28'</li>\n",
       "\t<li>'aowh_2-expt_29'</li>\n",
       "\t<li>'keui_1-expt_29'</li>\n",
       "\t<li>'meue_4-expt_29'</li>\n",
       "\t<li>'naah_2-expt_29'</li>\n",
       "\t<li>'poih_4-expt_29'</li>\n",
       "\t<li>'vils_1-expt_29'</li>\n",
       "\t<li>'cicb_2-expt_31'</li>\n",
       "\t<li>'cuhk_2-expt_31'</li>\n",
       "\t<li>'hegp_3-expt_31'</li>\n",
       "\t<li>'lepk_1-expt_31'</li>\n",
       "\t<li>'ueah_1-expt_31'</li>\n",
       "\t<li>'veku_2-expt_31'</li>\n",
       "\t<li>'guss_1-expt_32'</li>\n",
       "\t<li>'lepk_1-expt_32'</li>\n",
       "\t<li>'mita_2-expt_32'</li>\n",
       "\t<li>'nocf_2-expt_32'</li>\n",
       "\t<li>'oibg_1-expt_32'</li>\n",
       "\t<li>'datg_2-expt_33'</li>\n",
       "\t<li>'feec_2-expt_33'</li>\n",
       "\t<li>'guss_1-expt_33'</li>\n",
       "\t<li>'nudd_1-expt_33'</li>\n",
       "\t<li>'paab_4-expt_33'</li>\n",
       "\t<li>'qorq_2-expt_33'</li>\n",
       "\t<li>'bokz_5-expt_34'</li>\n",
       "\t<li>'datg_2-expt_34'</li>\n",
       "\t<li>'guss_1-expt_34'</li>\n",
       "\t<li>'nudd_1-expt_34'</li>\n",
       "\t<li>'sehl_6-expt_34'</li>\n",
       "\t<li>'fejf_2-expt_35'</li>\n",
       "\t<li>'nocf_2-expt_35'</li>\n",
       "\t<li>'nufh_3-expt_35'</li>\n",
       "\t<li>'wahn_1-expt_35'</li>\n",
       "\t<li>'wigw_2-expt_35'</li>\n",
       "\t<li>'zagm_1-expt_35'</li>\n",
       "\t<li>'eiwy_1-expt_36'</li>\n",
       "\t<li>'kajh_3-expt_36'</li>\n",
       "\t<li>'lise_3-expt_36'</li>\n",
       "\t<li>'naju_1-expt_36'</li>\n",
       "\t<li>'puie_5-expt_36'</li>\n",
       "\t<li>'qoog_4-expt_36'</li>\n",
       "\t<li>'iezw_2-expt_37'</li>\n",
       "\t<li>'kolf_2-expt_37'</li>\n",
       "\t<li>'seru_1-expt_37'</li>\n",
       "\t<li>'uenn_3-expt_37'</li>\n",
       "\t<li>'wegi_1-expt_37'</li>\n",
       "\t<li>'zerv_8-expt_37'</li>\n",
       "\t<li>'qaqx_1-expt_38'</li>\n",
       "\t<li>'rayr_1-expt_38'</li>\n",
       "\t<li>'sojd_3-expt_38'</li>\n",
       "\t<li>'tolg_6-expt_38'</li>\n",
       "\t<li>'vass_1-expt_38'</li>\n",
       "\t<li>'yemz_1-expt_38'</li>\n",
       "\t<li>'bezi_1-expt_39'</li>\n",
       "\t<li>'heth_1-expt_39'</li>\n",
       "\t<li>'iisa_3-expt_39'</li>\n",
       "\t<li>'joxm_1-expt_39'</li>\n",
       "\t<li>'kucg_2-expt_39'</li>\n",
       "\t<li>'wuye_2-expt_39'</li>\n",
       "\t<li>'kefb_1-expt_40'</li>\n",
       "\t<li>'nosn_6-expt_40'</li>\n",
       "\t<li>'pelm_3-expt_40'</li>\n",
       "\t<li>'tout_1-expt_40'</li>\n",
       "\t<li>'zapk_3-expt_40'</li>\n",
       "\t<li>'eipl_1-expt_41'</li>\n",
       "\t<li>'hayt_1-expt_41'</li>\n",
       "\t<li>'hoik_1-expt_41'</li>\n",
       "\t<li>'pahc_4-expt_41'</li>\n",
       "\t<li>'xojn_3-expt_41'</li>\n",
       "\t<li>'yoch_6-expt_41'</li>\n",
       "\t<li>'bima_1-expt_42'</li>\n",
       "\t<li>'fiaj_3-expt_42'</li>\n",
       "\t<li>'giju_2-expt_42'</li>\n",
       "\t<li>'qihv_1-expt_42'</li>\n",
       "\t<li>'vuna_3-expt_42'</li>\n",
       "\t<li>'zihe_1-expt_42'</li>\n",
       "\t<li>'aoxv_3-expt_43'</li>\n",
       "\t<li>'eesb_1-expt_43'</li>\n",
       "\t<li>'kuxp_1-expt_43'</li>\n",
       "\t<li>'melw_2-expt_43'</li>\n",
       "\t<li>'qunz_3-expt_43'</li>\n",
       "\t<li>'yelp_3-expt_43'</li>\n",
       "\t<li>'jejf_2-expt_44'</li>\n",
       "\t<li>'juuy_2-expt_44'</li>\n",
       "\t<li>'pipw_5-expt_44'</li>\n",
       "\t<li>'qehq_3-expt_44'</li>\n",
       "\t<li>'toco_5-expt_44'</li>\n",
       "\t<li>'uilk_3-expt_44'</li>\n",
       "\t<li>'ciwj_2-expt_45'</li>\n",
       "\t<li>'hajc_1-expt_45'</li>\n",
       "\t<li>'hecn_3-expt_45'</li>\n",
       "\t<li>'kuco_1-expt_45'</li>\n",
       "\t<li>'liqa_1-expt_45'</li>\n",
       "\t<li>'tert_1-expt_45'</li>\n",
       "</ol>\n"
      ],
      "text/latex": [
       "\\begin{enumerate*}\n",
       "\\item 'dixh\\_2-expt\\_21'\n",
       "\\item 'fawm\\_2-expt\\_21'\n",
       "\\item 'koqx\\_1-expt\\_21'\n",
       "\\item 'naju\\_1-expt\\_21'\n",
       "\\item 'oebj\\_1-expt\\_21'\n",
       "\\item 'wigw\\_2-expt\\_21'\n",
       "\\item 'eoxi\\_6-expt\\_22'\n",
       "\\item 'fawm\\_2-expt\\_22'\n",
       "\\item 'iudw\\_4-expt\\_22'\n",
       "\\item 'oebj\\_1-expt\\_22'\n",
       "\\item 'oojs\\_1-expt\\_22'\n",
       "\\item 'pulk\\_1-expt\\_22'\n",
       "\\item 'babz\\_3-expt\\_24'\n",
       "\\item 'guyj\\_2-expt\\_24'\n",
       "\\item 'iisa\\_1-expt\\_24'\n",
       "\\item 'oikd\\_2-expt\\_24'\n",
       "\\item 'walu\\_1-expt\\_24'\n",
       "\\item 'iiyk\\_4-expt\\_28'\n",
       "\\item 'laey\\_4-expt\\_28'\n",
       "\\item 'letw\\_1-expt\\_28'\n",
       "\\item 'miaj\\_6-expt\\_28'\n",
       "\\item 'poih\\_4-expt\\_28'\n",
       "\\item 'rutc\\_2-expt\\_28'\n",
       "\\item 'aowh\\_2-expt\\_29'\n",
       "\\item 'keui\\_1-expt\\_29'\n",
       "\\item 'meue\\_4-expt\\_29'\n",
       "\\item 'naah\\_2-expt\\_29'\n",
       "\\item 'poih\\_4-expt\\_29'\n",
       "\\item 'vils\\_1-expt\\_29'\n",
       "\\item 'cicb\\_2-expt\\_31'\n",
       "\\item 'cuhk\\_2-expt\\_31'\n",
       "\\item 'hegp\\_3-expt\\_31'\n",
       "\\item 'lepk\\_1-expt\\_31'\n",
       "\\item 'ueah\\_1-expt\\_31'\n",
       "\\item 'veku\\_2-expt\\_31'\n",
       "\\item 'guss\\_1-expt\\_32'\n",
       "\\item 'lepk\\_1-expt\\_32'\n",
       "\\item 'mita\\_2-expt\\_32'\n",
       "\\item 'nocf\\_2-expt\\_32'\n",
       "\\item 'oibg\\_1-expt\\_32'\n",
       "\\item 'datg\\_2-expt\\_33'\n",
       "\\item 'feec\\_2-expt\\_33'\n",
       "\\item 'guss\\_1-expt\\_33'\n",
       "\\item 'nudd\\_1-expt\\_33'\n",
       "\\item 'paab\\_4-expt\\_33'\n",
       "\\item 'qorq\\_2-expt\\_33'\n",
       "\\item 'bokz\\_5-expt\\_34'\n",
       "\\item 'datg\\_2-expt\\_34'\n",
       "\\item 'guss\\_1-expt\\_34'\n",
       "\\item 'nudd\\_1-expt\\_34'\n",
       "\\item 'sehl\\_6-expt\\_34'\n",
       "\\item 'fejf\\_2-expt\\_35'\n",
       "\\item 'nocf\\_2-expt\\_35'\n",
       "\\item 'nufh\\_3-expt\\_35'\n",
       "\\item 'wahn\\_1-expt\\_35'\n",
       "\\item 'wigw\\_2-expt\\_35'\n",
       "\\item 'zagm\\_1-expt\\_35'\n",
       "\\item 'eiwy\\_1-expt\\_36'\n",
       "\\item 'kajh\\_3-expt\\_36'\n",
       "\\item 'lise\\_3-expt\\_36'\n",
       "\\item 'naju\\_1-expt\\_36'\n",
       "\\item 'puie\\_5-expt\\_36'\n",
       "\\item 'qoog\\_4-expt\\_36'\n",
       "\\item 'iezw\\_2-expt\\_37'\n",
       "\\item 'kolf\\_2-expt\\_37'\n",
       "\\item 'seru\\_1-expt\\_37'\n",
       "\\item 'uenn\\_3-expt\\_37'\n",
       "\\item 'wegi\\_1-expt\\_37'\n",
       "\\item 'zerv\\_8-expt\\_37'\n",
       "\\item 'qaqx\\_1-expt\\_38'\n",
       "\\item 'rayr\\_1-expt\\_38'\n",
       "\\item 'sojd\\_3-expt\\_38'\n",
       "\\item 'tolg\\_6-expt\\_38'\n",
       "\\item 'vass\\_1-expt\\_38'\n",
       "\\item 'yemz\\_1-expt\\_38'\n",
       "\\item 'bezi\\_1-expt\\_39'\n",
       "\\item 'heth\\_1-expt\\_39'\n",
       "\\item 'iisa\\_3-expt\\_39'\n",
       "\\item 'joxm\\_1-expt\\_39'\n",
       "\\item 'kucg\\_2-expt\\_39'\n",
       "\\item 'wuye\\_2-expt\\_39'\n",
       "\\item 'kefb\\_1-expt\\_40'\n",
       "\\item 'nosn\\_6-expt\\_40'\n",
       "\\item 'pelm\\_3-expt\\_40'\n",
       "\\item 'tout\\_1-expt\\_40'\n",
       "\\item 'zapk\\_3-expt\\_40'\n",
       "\\item 'eipl\\_1-expt\\_41'\n",
       "\\item 'hayt\\_1-expt\\_41'\n",
       "\\item 'hoik\\_1-expt\\_41'\n",
       "\\item 'pahc\\_4-expt\\_41'\n",
       "\\item 'xojn\\_3-expt\\_41'\n",
       "\\item 'yoch\\_6-expt\\_41'\n",
       "\\item 'bima\\_1-expt\\_42'\n",
       "\\item 'fiaj\\_3-expt\\_42'\n",
       "\\item 'giju\\_2-expt\\_42'\n",
       "\\item 'qihv\\_1-expt\\_42'\n",
       "\\item 'vuna\\_3-expt\\_42'\n",
       "\\item 'zihe\\_1-expt\\_42'\n",
       "\\item 'aoxv\\_3-expt\\_43'\n",
       "\\item 'eesb\\_1-expt\\_43'\n",
       "\\item 'kuxp\\_1-expt\\_43'\n",
       "\\item 'melw\\_2-expt\\_43'\n",
       "\\item 'qunz\\_3-expt\\_43'\n",
       "\\item 'yelp\\_3-expt\\_43'\n",
       "\\item 'jejf\\_2-expt\\_44'\n",
       "\\item 'juuy\\_2-expt\\_44'\n",
       "\\item 'pipw\\_5-expt\\_44'\n",
       "\\item 'qehq\\_3-expt\\_44'\n",
       "\\item 'toco\\_5-expt\\_44'\n",
       "\\item 'uilk\\_3-expt\\_44'\n",
       "\\item 'ciwj\\_2-expt\\_45'\n",
       "\\item 'hajc\\_1-expt\\_45'\n",
       "\\item 'hecn\\_3-expt\\_45'\n",
       "\\item 'kuco\\_1-expt\\_45'\n",
       "\\item 'liqa\\_1-expt\\_45'\n",
       "\\item 'tert\\_1-expt\\_45'\n",
       "\\end{enumerate*}\n"
      ],
      "text/markdown": [
       "1. 'dixh_2-expt_21'\n",
       "2. 'fawm_2-expt_21'\n",
       "3. 'koqx_1-expt_21'\n",
       "4. 'naju_1-expt_21'\n",
       "5. 'oebj_1-expt_21'\n",
       "6. 'wigw_2-expt_21'\n",
       "7. 'eoxi_6-expt_22'\n",
       "8. 'fawm_2-expt_22'\n",
       "9. 'iudw_4-expt_22'\n",
       "10. 'oebj_1-expt_22'\n",
       "11. 'oojs_1-expt_22'\n",
       "12. 'pulk_1-expt_22'\n",
       "13. 'babz_3-expt_24'\n",
       "14. 'guyj_2-expt_24'\n",
       "15. 'iisa_1-expt_24'\n",
       "16. 'oikd_2-expt_24'\n",
       "17. 'walu_1-expt_24'\n",
       "18. 'iiyk_4-expt_28'\n",
       "19. 'laey_4-expt_28'\n",
       "20. 'letw_1-expt_28'\n",
       "21. 'miaj_6-expt_28'\n",
       "22. 'poih_4-expt_28'\n",
       "23. 'rutc_2-expt_28'\n",
       "24. 'aowh_2-expt_29'\n",
       "25. 'keui_1-expt_29'\n",
       "26. 'meue_4-expt_29'\n",
       "27. 'naah_2-expt_29'\n",
       "28. 'poih_4-expt_29'\n",
       "29. 'vils_1-expt_29'\n",
       "30. 'cicb_2-expt_31'\n",
       "31. 'cuhk_2-expt_31'\n",
       "32. 'hegp_3-expt_31'\n",
       "33. 'lepk_1-expt_31'\n",
       "34. 'ueah_1-expt_31'\n",
       "35. 'veku_2-expt_31'\n",
       "36. 'guss_1-expt_32'\n",
       "37. 'lepk_1-expt_32'\n",
       "38. 'mita_2-expt_32'\n",
       "39. 'nocf_2-expt_32'\n",
       "40. 'oibg_1-expt_32'\n",
       "41. 'datg_2-expt_33'\n",
       "42. 'feec_2-expt_33'\n",
       "43. 'guss_1-expt_33'\n",
       "44. 'nudd_1-expt_33'\n",
       "45. 'paab_4-expt_33'\n",
       "46. 'qorq_2-expt_33'\n",
       "47. 'bokz_5-expt_34'\n",
       "48. 'datg_2-expt_34'\n",
       "49. 'guss_1-expt_34'\n",
       "50. 'nudd_1-expt_34'\n",
       "51. 'sehl_6-expt_34'\n",
       "52. 'fejf_2-expt_35'\n",
       "53. 'nocf_2-expt_35'\n",
       "54. 'nufh_3-expt_35'\n",
       "55. 'wahn_1-expt_35'\n",
       "56. 'wigw_2-expt_35'\n",
       "57. 'zagm_1-expt_35'\n",
       "58. 'eiwy_1-expt_36'\n",
       "59. 'kajh_3-expt_36'\n",
       "60. 'lise_3-expt_36'\n",
       "61. 'naju_1-expt_36'\n",
       "62. 'puie_5-expt_36'\n",
       "63. 'qoog_4-expt_36'\n",
       "64. 'iezw_2-expt_37'\n",
       "65. 'kolf_2-expt_37'\n",
       "66. 'seru_1-expt_37'\n",
       "67. 'uenn_3-expt_37'\n",
       "68. 'wegi_1-expt_37'\n",
       "69. 'zerv_8-expt_37'\n",
       "70. 'qaqx_1-expt_38'\n",
       "71. 'rayr_1-expt_38'\n",
       "72. 'sojd_3-expt_38'\n",
       "73. 'tolg_6-expt_38'\n",
       "74. 'vass_1-expt_38'\n",
       "75. 'yemz_1-expt_38'\n",
       "76. 'bezi_1-expt_39'\n",
       "77. 'heth_1-expt_39'\n",
       "78. 'iisa_3-expt_39'\n",
       "79. 'joxm_1-expt_39'\n",
       "80. 'kucg_2-expt_39'\n",
       "81. 'wuye_2-expt_39'\n",
       "82. 'kefb_1-expt_40'\n",
       "83. 'nosn_6-expt_40'\n",
       "84. 'pelm_3-expt_40'\n",
       "85. 'tout_1-expt_40'\n",
       "86. 'zapk_3-expt_40'\n",
       "87. 'eipl_1-expt_41'\n",
       "88. 'hayt_1-expt_41'\n",
       "89. 'hoik_1-expt_41'\n",
       "90. 'pahc_4-expt_41'\n",
       "91. 'xojn_3-expt_41'\n",
       "92. 'yoch_6-expt_41'\n",
       "93. 'bima_1-expt_42'\n",
       "94. 'fiaj_3-expt_42'\n",
       "95. 'giju_2-expt_42'\n",
       "96. 'qihv_1-expt_42'\n",
       "97. 'vuna_3-expt_42'\n",
       "98. 'zihe_1-expt_42'\n",
       "99. 'aoxv_3-expt_43'\n",
       "100. 'eesb_1-expt_43'\n",
       "101. 'kuxp_1-expt_43'\n",
       "102. 'melw_2-expt_43'\n",
       "103. 'qunz_3-expt_43'\n",
       "104. 'yelp_3-expt_43'\n",
       "105. 'jejf_2-expt_44'\n",
       "106. 'juuy_2-expt_44'\n",
       "107. 'pipw_5-expt_44'\n",
       "108. 'qehq_3-expt_44'\n",
       "109. 'toco_5-expt_44'\n",
       "110. 'uilk_3-expt_44'\n",
       "111. 'ciwj_2-expt_45'\n",
       "112. 'hajc_1-expt_45'\n",
       "113. 'hecn_3-expt_45'\n",
       "114. 'kuco_1-expt_45'\n",
       "115. 'liqa_1-expt_45'\n",
       "116. 'tert_1-expt_45'\n",
       "\n",
       "\n"
      ],
      "text/plain": [
       "  [1] \"dixh_2-expt_21\" \"fawm_2-expt_21\" \"koqx_1-expt_21\" \"naju_1-expt_21\"\n",
       "  [5] \"oebj_1-expt_21\" \"wigw_2-expt_21\" \"eoxi_6-expt_22\" \"fawm_2-expt_22\"\n",
       "  [9] \"iudw_4-expt_22\" \"oebj_1-expt_22\" \"oojs_1-expt_22\" \"pulk_1-expt_22\"\n",
       " [13] \"babz_3-expt_24\" \"guyj_2-expt_24\" \"iisa_1-expt_24\" \"oikd_2-expt_24\"\n",
       " [17] \"walu_1-expt_24\" \"iiyk_4-expt_28\" \"laey_4-expt_28\" \"letw_1-expt_28\"\n",
       " [21] \"miaj_6-expt_28\" \"poih_4-expt_28\" \"rutc_2-expt_28\" \"aowh_2-expt_29\"\n",
       " [25] \"keui_1-expt_29\" \"meue_4-expt_29\" \"naah_2-expt_29\" \"poih_4-expt_29\"\n",
       " [29] \"vils_1-expt_29\" \"cicb_2-expt_31\" \"cuhk_2-expt_31\" \"hegp_3-expt_31\"\n",
       " [33] \"lepk_1-expt_31\" \"ueah_1-expt_31\" \"veku_2-expt_31\" \"guss_1-expt_32\"\n",
       " [37] \"lepk_1-expt_32\" \"mita_2-expt_32\" \"nocf_2-expt_32\" \"oibg_1-expt_32\"\n",
       " [41] \"datg_2-expt_33\" \"feec_2-expt_33\" \"guss_1-expt_33\" \"nudd_1-expt_33\"\n",
       " [45] \"paab_4-expt_33\" \"qorq_2-expt_33\" \"bokz_5-expt_34\" \"datg_2-expt_34\"\n",
       " [49] \"guss_1-expt_34\" \"nudd_1-expt_34\" \"sehl_6-expt_34\" \"fejf_2-expt_35\"\n",
       " [53] \"nocf_2-expt_35\" \"nufh_3-expt_35\" \"wahn_1-expt_35\" \"wigw_2-expt_35\"\n",
       " [57] \"zagm_1-expt_35\" \"eiwy_1-expt_36\" \"kajh_3-expt_36\" \"lise_3-expt_36\"\n",
       " [61] \"naju_1-expt_36\" \"puie_5-expt_36\" \"qoog_4-expt_36\" \"iezw_2-expt_37\"\n",
       " [65] \"kolf_2-expt_37\" \"seru_1-expt_37\" \"uenn_3-expt_37\" \"wegi_1-expt_37\"\n",
       " [69] \"zerv_8-expt_37\" \"qaqx_1-expt_38\" \"rayr_1-expt_38\" \"sojd_3-expt_38\"\n",
       " [73] \"tolg_6-expt_38\" \"vass_1-expt_38\" \"yemz_1-expt_38\" \"bezi_1-expt_39\"\n",
       " [77] \"heth_1-expt_39\" \"iisa_3-expt_39\" \"joxm_1-expt_39\" \"kucg_2-expt_39\"\n",
       " [81] \"wuye_2-expt_39\" \"kefb_1-expt_40\" \"nosn_6-expt_40\" \"pelm_3-expt_40\"\n",
       " [85] \"tout_1-expt_40\" \"zapk_3-expt_40\" \"eipl_1-expt_41\" \"hayt_1-expt_41\"\n",
       " [89] \"hoik_1-expt_41\" \"pahc_4-expt_41\" \"xojn_3-expt_41\" \"yoch_6-expt_41\"\n",
       " [93] \"bima_1-expt_42\" \"fiaj_3-expt_42\" \"giju_2-expt_42\" \"qihv_1-expt_42\"\n",
       " [97] \"vuna_3-expt_42\" \"zihe_1-expt_42\" \"aoxv_3-expt_43\" \"eesb_1-expt_43\"\n",
       "[101] \"kuxp_1-expt_43\" \"melw_2-expt_43\" \"qunz_3-expt_43\" \"yelp_3-expt_43\"\n",
       "[105] \"jejf_2-expt_44\" \"juuy_2-expt_44\" \"pipw_5-expt_44\" \"qehq_3-expt_44\"\n",
       "[109] \"toco_5-expt_44\" \"uilk_3-expt_44\" \"ciwj_2-expt_45\" \"hajc_1-expt_45\"\n",
       "[113] \"hecn_3-expt_45\" \"kuco_1-expt_45\" \"liqa_1-expt_45\" \"tert_1-expt_45\""
      ]
     },
     "metadata": {},
     "output_type": "display_data"
    },
    {
     "data": {
      "text/html": [
       "116"
      ],
      "text/latex": [
       "116"
      ],
      "text/markdown": [
       "116"
      ],
      "text/plain": [
       "[1] 116"
      ]
     },
     "metadata": {},
     "output_type": "display_data"
    }
   ],
   "source": [
    "l_day2\n",
    "length(l_day2)"
   ]
  },
  {
   "cell_type": "code",
   "execution_count": null,
   "metadata": {},
   "outputs": [],
   "source": [
    "get_means_byexpt <- function(sceset, ngenes, l){\n",
    "    n = length(l)\n",
    "    means <- matrix(0,nrow = ngenes, ncol = n)\n",
    "    for (i in 1:n){\n",
    "        don = gsub(\"*-.*\",\"\",l[i])\n",
    "        expt = gsub(\".*-\",\"\",l[i])\n",
    "        sc <- sceset[,sceset$donor_short_id == don & sceset$experiment == expt]\n",
    "        if (ncol(sc) > 1){\n",
    "            sc1 = logcounts(sc)\n",
    "            means[,i] <- rowMeans(sc1)\n",
    "        }\n",
    "        \n",
    "#         if (length(sc) == nrow(sceset)) {means[,i] <- sc}\n",
    "#         if (length(sc) == nrow(sceset)) {means[,i] <- sc}\n",
    "#         else {}\n",
    "    }\n",
    "    rownames(means) = rownames(sceset)\n",
    "    colnames(means) = l\n",
    "    means\n",
    "}"
   ]
  },
  {
   "cell_type": "code",
   "execution_count": 29,
   "metadata": {},
   "outputs": [],
   "source": [
    "sce2 <- sce[,sce$day == \"day2\"]"
   ]
  },
  {
   "cell_type": "code",
   "execution_count": 30,
   "metadata": {},
   "outputs": [
    {
     "data": {
      "text/plain": [
       "class: SingleCellExperiment \n",
       "dim: 11231 8455 \n",
       "metadata(4): log.exprs.offset log.exprs.offset log.exprs.offset\n",
       "  log.exprs.offset\n",
       "assays(3): tpm counts logcounts\n",
       "rownames(11231): ENSG00000000003_TSPAN6 ENSG00000000419_DPM1 ...\n",
       "  ENSG00000272325_NUDT3 ENSG00000272398_CD24\n",
       "rowData names(17): exprs_collapsed_to ensembl_transcript_id ...\n",
       "  is_intop2000hvg is_hvg\n",
       "colnames(8455): 21554_5#102 21554_5#104 ... 24539_2#98 24539_2#99\n",
       "colData names(123): adj_x adj_y ... princ_curve princ_curve_scaled01\n",
       "reducedDimNames(1): PCA\n",
       "spikeNames(1): ERCC"
      ]
     },
     "metadata": {},
     "output_type": "display_data"
    }
   ],
   "source": [
    "sce2"
   ]
  },
  {
   "cell_type": "code",
   "execution_count": 44,
   "metadata": {},
   "outputs": [],
   "source": [
    "ngenes <- nrow(sce2)\n",
    "m_day2 <- get_means_byexpt(sce2, ngenes, l_day2)"
   ]
  },
  {
   "cell_type": "code",
   "execution_count": 45,
   "metadata": {},
   "outputs": [
    {
     "data": {
      "text/html": [
       "<table>\n",
       "<thead><tr><th></th><th scope=col>dixh_2-expt_21</th><th scope=col>fawm_2-expt_21</th><th scope=col>koqx_1-expt_21</th><th scope=col>naju_1-expt_21</th><th scope=col>oebj_1-expt_21</th></tr></thead>\n",
       "<tbody>\n",
       "\t<tr><th scope=row>ENSG00000000003_TSPAN6</th><td>4.1649097</td><td>4.0942531</td><td>3.6179138</td><td>4.4201077</td><td>3.840111 </td></tr>\n",
       "\t<tr><th scope=row>ENSG00000000419_DPM1</th><td>3.6406621</td><td>3.8842253</td><td>3.9066764</td><td>4.2165829</td><td>4.212424 </td></tr>\n",
       "\t<tr><th scope=row>ENSG00000000457_SCYL3</th><td>0.6261919</td><td>0.7977417</td><td>0.4117864</td><td>0.1440102</td><td>1.383384 </td></tr>\n",
       "\t<tr><th scope=row>ENSG00000000460_C1orf112</th><td>1.6329359</td><td>2.0819377</td><td>2.4047571</td><td>2.0862696</td><td>2.797275 </td></tr>\n",
       "\t<tr><th scope=row>ENSG00000001036_FUCA2</th><td>2.1817378</td><td>3.0672137</td><td>2.7453873</td><td>1.4821022</td><td>1.488293 </td></tr>\n",
       "</tbody>\n",
       "</table>\n"
      ],
      "text/latex": [
       "\\begin{tabular}{r|lllll}\n",
       "  & dixh\\_2-expt\\_21 & fawm\\_2-expt\\_21 & koqx\\_1-expt\\_21 & naju\\_1-expt\\_21 & oebj\\_1-expt\\_21\\\\\n",
       "\\hline\n",
       "\tENSG00000000003\\_TSPAN6 & 4.1649097 & 4.0942531 & 3.6179138 & 4.4201077 & 3.840111 \\\\\n",
       "\tENSG00000000419\\_DPM1 & 3.6406621 & 3.8842253 & 3.9066764 & 4.2165829 & 4.212424 \\\\\n",
       "\tENSG00000000457\\_SCYL3 & 0.6261919 & 0.7977417 & 0.4117864 & 0.1440102 & 1.383384 \\\\\n",
       "\tENSG00000000460\\_C1orf112 & 1.6329359 & 2.0819377 & 2.4047571 & 2.0862696 & 2.797275 \\\\\n",
       "\tENSG00000001036\\_FUCA2 & 2.1817378 & 3.0672137 & 2.7453873 & 1.4821022 & 1.488293 \\\\\n",
       "\\end{tabular}\n"
      ],
      "text/markdown": [
       "\n",
       "| <!--/--> | dixh_2-expt_21 | fawm_2-expt_21 | koqx_1-expt_21 | naju_1-expt_21 | oebj_1-expt_21 | \n",
       "|---|---|---|---|---|\n",
       "| ENSG00000000003_TSPAN6 | 4.1649097 | 4.0942531 | 3.6179138 | 4.4201077 | 3.840111  | \n",
       "| ENSG00000000419_DPM1 | 3.6406621 | 3.8842253 | 3.9066764 | 4.2165829 | 4.212424  | \n",
       "| ENSG00000000457_SCYL3 | 0.6261919 | 0.7977417 | 0.4117864 | 0.1440102 | 1.383384  | \n",
       "| ENSG00000000460_C1orf112 | 1.6329359 | 2.0819377 | 2.4047571 | 2.0862696 | 2.797275  | \n",
       "| ENSG00000001036_FUCA2 | 2.1817378 | 3.0672137 | 2.7453873 | 1.4821022 | 1.488293  | \n",
       "\n",
       "\n"
      ],
      "text/plain": [
       "                         dixh_2-expt_21 fawm_2-expt_21 koqx_1-expt_21\n",
       "ENSG00000000003_TSPAN6   4.1649097      4.0942531      3.6179138     \n",
       "ENSG00000000419_DPM1     3.6406621      3.8842253      3.9066764     \n",
       "ENSG00000000457_SCYL3    0.6261919      0.7977417      0.4117864     \n",
       "ENSG00000000460_C1orf112 1.6329359      2.0819377      2.4047571     \n",
       "ENSG00000001036_FUCA2    2.1817378      3.0672137      2.7453873     \n",
       "                         naju_1-expt_21 oebj_1-expt_21\n",
       "ENSG00000000003_TSPAN6   4.4201077      3.840111      \n",
       "ENSG00000000419_DPM1     4.2165829      4.212424      \n",
       "ENSG00000000457_SCYL3    0.1440102      1.383384      \n",
       "ENSG00000000460_C1orf112 2.0862696      2.797275      \n",
       "ENSG00000001036_FUCA2    1.4821022      1.488293      "
      ]
     },
     "metadata": {},
     "output_type": "display_data"
    }
   ],
   "source": [
    "m_day2[1:5,1:5]"
   ]
  },
  {
   "cell_type": "code",
   "execution_count": 46,
   "metadata": {},
   "outputs": [],
   "source": [
    "write.table(m_day2, \"/hps/nobackup/hipsci/scratch/singlecell_endodiff/data_processed/scQTLs/mean/day2_pheno.txt\", sep = \"\\t\", quote = F, col.names = NA)"
   ]
  },
  {
   "cell_type": "code",
   "execution_count": 47,
   "metadata": {},
   "outputs": [
    {
     "data": {
      "text/html": [
       "<table>\n",
       "<thead><tr><th></th><th scope=col>PC1</th><th scope=col>PC2</th><th scope=col>PC3</th><th scope=col>PC4</th><th scope=col>PC5</th><th scope=col>PC6</th><th scope=col>PC7</th><th scope=col>PC8</th><th scope=col>PC9</th><th scope=col>PC10</th></tr></thead>\n",
       "<tbody>\n",
       "\t<tr><th scope=row>dixh_2-expt_21</th><td>55.74580  </td><td>-15.72770 </td><td>14.96495  </td><td>-3.033870 </td><td> 6.399323 </td><td>-0.5521687</td><td> 7.1956878</td><td>-11.646490</td><td> 2.840851 </td><td>-10.053367</td></tr>\n",
       "\t<tr><th scope=row>fawm_2-expt_21</th><td>54.43760  </td><td>-13.91246 </td><td>14.43691  </td><td>-4.356128 </td><td> 9.561907 </td><td> 1.4133519</td><td>-0.2361625</td><td>-10.262975</td><td> 7.199008 </td><td> -7.742750</td></tr>\n",
       "\t<tr><th scope=row>koqx_1-expt_21</th><td>55.98350  </td><td>-14.72143 </td><td>17.25421  </td><td>-5.330651 </td><td>11.691351 </td><td> 0.3929939</td><td>-1.3550526</td><td> -5.521739</td><td> 7.439460 </td><td> -8.975210</td></tr>\n",
       "\t<tr><th scope=row>naju_1-expt_21</th><td>62.77487  </td><td>-25.69162 </td><td>11.75746  </td><td>-1.942365 </td><td> 5.933230 </td><td>-5.4421376</td><td> 6.1487848</td><td>-18.419635</td><td>15.754258 </td><td>-13.016660</td></tr>\n",
       "\t<tr><th scope=row>oebj_1-expt_21</th><td>59.76012  </td><td>-26.96079 </td><td>13.66290  </td><td> 8.056225 </td><td>16.831895 </td><td>-5.0412748</td><td> 1.6485296</td><td>  1.162122</td><td>11.748487 </td><td> -7.295767</td></tr>\n",
       "\t<tr><th scope=row>wigw_2-expt_21</th><td>60.19352  </td><td>-24.93524 </td><td>10.98291  </td><td> 6.285706 </td><td> 7.496155 </td><td>-1.9748196</td><td>-4.9357333</td><td> 17.114129</td><td>46.743758 </td><td> 19.764693</td></tr>\n",
       "</tbody>\n",
       "</table>\n"
      ],
      "text/latex": [
       "\\begin{tabular}{r|llllllllll}\n",
       "  & PC1 & PC2 & PC3 & PC4 & PC5 & PC6 & PC7 & PC8 & PC9 & PC10\\\\\n",
       "\\hline\n",
       "\tdixh\\_2-expt\\_21 & 55.74580   & -15.72770  & 14.96495   & -3.033870  &  6.399323  & -0.5521687 &  7.1956878 & -11.646490 &  2.840851  & -10.053367\\\\\n",
       "\tfawm\\_2-expt\\_21 & 54.43760   & -13.91246  & 14.43691   & -4.356128  &  9.561907  &  1.4133519 & -0.2361625 & -10.262975 &  7.199008  &  -7.742750\\\\\n",
       "\tkoqx\\_1-expt\\_21 & 55.98350   & -14.72143  & 17.25421   & -5.330651  & 11.691351  &  0.3929939 & -1.3550526 &  -5.521739 &  7.439460  &  -8.975210\\\\\n",
       "\tnaju\\_1-expt\\_21 & 62.77487   & -25.69162  & 11.75746   & -1.942365  &  5.933230  & -5.4421376 &  6.1487848 & -18.419635 & 15.754258  & -13.016660\\\\\n",
       "\toebj\\_1-expt\\_21 & 59.76012   & -26.96079  & 13.66290   &  8.056225  & 16.831895  & -5.0412748 &  1.6485296 &   1.162122 & 11.748487  &  -7.295767\\\\\n",
       "\twigw\\_2-expt\\_21 & 60.19352   & -24.93524  & 10.98291   &  6.285706  &  7.496155  & -1.9748196 & -4.9357333 &  17.114129 & 46.743758  &  19.764693\\\\\n",
       "\\end{tabular}\n"
      ],
      "text/markdown": [
       "\n",
       "| <!--/--> | PC1 | PC2 | PC3 | PC4 | PC5 | PC6 | PC7 | PC8 | PC9 | PC10 | \n",
       "|---|---|---|---|---|---|\n",
       "| dixh_2-expt_21 | 55.74580   | -15.72770  | 14.96495   | -3.033870  |  6.399323  | -0.5521687 |  7.1956878 | -11.646490 |  2.840851  | -10.053367 | \n",
       "| fawm_2-expt_21 | 54.43760   | -13.91246  | 14.43691   | -4.356128  |  9.561907  |  1.4133519 | -0.2361625 | -10.262975 |  7.199008  |  -7.742750 | \n",
       "| koqx_1-expt_21 | 55.98350   | -14.72143  | 17.25421   | -5.330651  | 11.691351  |  0.3929939 | -1.3550526 |  -5.521739 |  7.439460  |  -8.975210 | \n",
       "| naju_1-expt_21 | 62.77487   | -25.69162  | 11.75746   | -1.942365  |  5.933230  | -5.4421376 |  6.1487848 | -18.419635 | 15.754258  | -13.016660 | \n",
       "| oebj_1-expt_21 | 59.76012   | -26.96079  | 13.66290   |  8.056225  | 16.831895  | -5.0412748 |  1.6485296 |   1.162122 | 11.748487  |  -7.295767 | \n",
       "| wigw_2-expt_21 | 60.19352   | -24.93524  | 10.98291   |  6.285706  |  7.496155  | -1.9748196 | -4.9357333 |  17.114129 | 46.743758  |  19.764693 | \n",
       "\n",
       "\n"
      ],
      "text/plain": [
       "               PC1      PC2       PC3      PC4       PC5       PC6       \n",
       "dixh_2-expt_21 55.74580 -15.72770 14.96495 -3.033870  6.399323 -0.5521687\n",
       "fawm_2-expt_21 54.43760 -13.91246 14.43691 -4.356128  9.561907  1.4133519\n",
       "koqx_1-expt_21 55.98350 -14.72143 17.25421 -5.330651 11.691351  0.3929939\n",
       "naju_1-expt_21 62.77487 -25.69162 11.75746 -1.942365  5.933230 -5.4421376\n",
       "oebj_1-expt_21 59.76012 -26.96079 13.66290  8.056225 16.831895 -5.0412748\n",
       "wigw_2-expt_21 60.19352 -24.93524 10.98291  6.285706  7.496155 -1.9748196\n",
       "               PC7        PC8        PC9       PC10      \n",
       "dixh_2-expt_21  7.1956878 -11.646490  2.840851 -10.053367\n",
       "fawm_2-expt_21 -0.2361625 -10.262975  7.199008  -7.742750\n",
       "koqx_1-expt_21 -1.3550526  -5.521739  7.439460  -8.975210\n",
       "naju_1-expt_21  6.1487848 -18.419635 15.754258 -13.016660\n",
       "oebj_1-expt_21  1.6485296   1.162122 11.748487  -7.295767\n",
       "wigw_2-expt_21 -4.9357333  17.114129 46.743758  19.764693"
      ]
     },
     "metadata": {},
     "output_type": "display_data"
    }
   ],
   "source": [
    "pcs_day2 = prcomp(t(m_day2))$x[,1:10]\n",
    "head(pcs_day2)"
   ]
  },
  {
   "cell_type": "code",
   "execution_count": 48,
   "metadata": {},
   "outputs": [],
   "source": [
    "write.table(pcs_day2, \"/hps/nobackup/hipsci/scratch/singlecell_endodiff/data_processed/scQTLs/mean/day2_10pcs_covs.txt\", sep = \"\\t\", quote = F, col.names = NA)"
   ]
  },
  {
   "cell_type": "code",
   "execution_count": 51,
   "metadata": {},
   "outputs": [],
   "source": [
    "make_sample_mapping <- function(pheno, sce){\n",
    "    df <- data.frame(donor.expt = colnames(pheno))\n",
    "    df$donor = gsub(\"*-.*\",\"\",df$donor.expt)\n",
    "    df$expt = df$day = gsub(\".*-\",\"\",df$donor.expt)\n",
    "    df1 <- data.frame(donor_long_id = unique(sce$donor_long_id), donor = unique(sce$donor_short_id))\n",
    "    df2 <- left_join(df, df1, by = \"donor\")\n",
    "    # genotype_samples phenotype_samples\n",
    "    samples = df2[,c(\"donor_long_id\",\"donor.expt\")]\n",
    "    colnames(samples) = c()\n",
    "    samples\n",
    "}"
   ]
  },
  {
   "cell_type": "code",
   "execution_count": 52,
   "metadata": {},
   "outputs": [
    {
     "data": {
      "text/html": [
       "<table>\n",
       "<tbody>\n",
       "\t<tr><td>HPSI0614i-dixh_2</td><td>dixh_2-expt_21  </td></tr>\n",
       "\t<tr><td>HPSI0215i-fawm_2</td><td>fawm_2-expt_21  </td></tr>\n",
       "\t<tr><td>HPSI0614i-koqx_1</td><td>koqx_1-expt_21  </td></tr>\n",
       "\t<tr><td>HPSI0414i-naju_1</td><td>naju_1-expt_21  </td></tr>\n",
       "\t<tr><td>HPSI0714i-oebj_1</td><td>oebj_1-expt_21  </td></tr>\n",
       "\t<tr><td>HPSI0314i-wigw_2</td><td>wigw_2-expt_21  </td></tr>\n",
       "</tbody>\n",
       "</table>\n"
      ],
      "text/latex": [
       "\\begin{tabular}{r|ll}\n",
       "\t HPSI0614i-dixh\\_2 & dixh\\_2-expt\\_21\\\\\n",
       "\t HPSI0215i-fawm\\_2 & fawm\\_2-expt\\_21\\\\\n",
       "\t HPSI0614i-koqx\\_1 & koqx\\_1-expt\\_21\\\\\n",
       "\t HPSI0414i-naju\\_1 & naju\\_1-expt\\_21\\\\\n",
       "\t HPSI0714i-oebj\\_1 & oebj\\_1-expt\\_21\\\\\n",
       "\t HPSI0314i-wigw\\_2 & wigw\\_2-expt\\_21\\\\\n",
       "\\end{tabular}\n"
      ],
      "text/markdown": [
       "\n",
       "| HPSI0614i-dixh_2 | dixh_2-expt_21   | \n",
       "| HPSI0215i-fawm_2 | fawm_2-expt_21   | \n",
       "| HPSI0614i-koqx_1 | koqx_1-expt_21   | \n",
       "| HPSI0414i-naju_1 | naju_1-expt_21   | \n",
       "| HPSI0714i-oebj_1 | oebj_1-expt_21   | \n",
       "| HPSI0314i-wigw_2 | wigw_2-expt_21   | \n",
       "\n",
       "\n"
      ],
      "text/plain": [
       "  [,1]             [,2]          \n",
       "1 HPSI0614i-dixh_2 dixh_2-expt_21\n",
       "2 HPSI0215i-fawm_2 fawm_2-expt_21\n",
       "3 HPSI0614i-koqx_1 koqx_1-expt_21\n",
       "4 HPSI0414i-naju_1 naju_1-expt_21\n",
       "5 HPSI0714i-oebj_1 oebj_1-expt_21\n",
       "6 HPSI0314i-wigw_2 wigw_2-expt_21"
      ]
     },
     "metadata": {},
     "output_type": "display_data"
    }
   ],
   "source": [
    "samples = make_sample_mapping(m_day2, sce2)\n",
    "head(samples)"
   ]
  },
  {
   "cell_type": "code",
   "execution_count": 53,
   "metadata": {},
   "outputs": [],
   "source": [
    "write.table(samples, \"/hps/nobackup/hipsci/scratch/singlecell_endodiff/data_processed/scQTLs/mean/day2_samples.txt\", sep = \"\\t\", quote = F, col.names = NA)"
   ]
  },
  {
   "cell_type": "code",
   "execution_count": null,
   "metadata": {},
   "outputs": [],
   "source": []
  },
  {
   "cell_type": "code",
   "execution_count": null,
   "metadata": {},
   "outputs": [],
   "source": [
    "### stages"
   ]
  },
  {
   "cell_type": "code",
   "execution_count": 3,
   "metadata": {},
   "outputs": [],
   "source": [
    "sce.hvg = readRDS(\"/hps/nobackup/hipsci/scratch/singlecell_endodiff/data_processed/merged/20180618/sce_merged_afterqc_filt_allexpts.slalom.is_intop2000hvg.rds\")\n",
    "sce$stage = sce.hvg$stage"
   ]
  },
  {
   "cell_type": "code",
   "execution_count": 2,
   "metadata": {},
   "outputs": [],
   "source": [
    "get_combinations <- function(sceset, daylist){\n",
    "    k = 0\n",
    "    print (daylist)\n",
    "    for(j in 1:length(daylist)){\n",
    "        print (daylist[j])\n",
    "        mysce = sceset[,sceset$day == daylist[j]]\n",
    "        mat = table(mysce$donor, mysce$experiment) \n",
    "        ord = which(table(mysce$donor, mysce$experiment) > 0, arr.ind = T)\n",
    "        print(ord) \n",
    "        l = c()\n",
    "        for (i in 1:dim(ord)[1]){\n",
    "#              print(k)\n",
    "            l[k] <- paste0(rownames(mat)[ord[i,1]],\"-\",colnames(mat)[ord[i,2]],\"-\",daylist[j])\n",
    "            k = k + 1\n",
    "        }\n",
    "        \n",
    "    }\n",
    "    l\n",
    "}"
   ]
  },
  {
   "cell_type": "code",
   "execution_count": 32,
   "metadata": {},
   "outputs": [],
   "source": [
    "sce$pseudo = sce$PC1_top500hvgs"
   ]
  },
  {
   "cell_type": "code",
   "execution_count": null,
   "metadata": {},
   "outputs": [],
   "source": []
  },
  {
   "cell_type": "code",
   "execution_count": null,
   "metadata": {},
   "outputs": [],
   "source": []
  },
  {
   "cell_type": "code",
   "execution_count": null,
   "metadata": {},
   "outputs": [],
   "source": []
  },
  {
   "cell_type": "code",
   "execution_count": 8,
   "metadata": {},
   "outputs": [],
   "source": [
    "sce$stage = \"not assigned\"\n",
    "\n",
    "# just assign all day0 cells to ips\n",
    "sce[,sce$day == \"day0\"]$stage = \"ips\"\n",
    "# still based on not scale PC1, since those are the criteria used for eQTLs\n",
    "sce[,sce$PC1_top500hvgs  > -23 & sce$PC1_top500hvgs < 4 & sce$day %in% c(\"day1\",\"day2\")]$stage = \"mesendo\"\n",
    "sce[,sce$PC1_top500hvgs  > 22 & sce$day %in% c(\"day2\",\"day3\")]$stage = \"defendo\""
   ]
  },
  {
   "cell_type": "code",
   "execution_count": 12,
   "metadata": {},
   "outputs": [],
   "source": [
    "# sce.ips = sce[,sce$stage == \"ips\"]\n",
    "# sce.mesendo = sce[,sce$stage == \"mesendo\"]\n",
    "# sce.defendo = sce[,sce$stage == \"defendo\"]\n",
    "sce.transit = sce[,sce$stage == \"not assigned\" & !(sce$day == \"day0\")]"
   ]
  },
  {
   "cell_type": "code",
   "execution_count": 13,
   "metadata": {},
   "outputs": [
    {
     "data": {
      "text/html": [
       "6387"
      ],
      "text/latex": [
       "6387"
      ],
      "text/markdown": [
       "6387"
      ],
      "text/plain": [
       "[1] 6387"
      ]
     },
     "metadata": {},
     "output_type": "display_data"
    },
    {
     "data": {
      "text/html": [
       "118"
      ],
      "text/latex": [
       "118"
      ],
      "text/markdown": [
       "118"
      ],
      "text/plain": [
       "[1] 118"
      ]
     },
     "metadata": {},
     "output_type": "display_data"
    }
   ],
   "source": [
    "ncol(sce.transit)\n",
    "length(unique(sce.transit$donor_short_id))"
   ]
  },
  {
   "cell_type": "code",
   "execution_count": 14,
   "metadata": {},
   "outputs": [],
   "source": [
    "sceset = sce.transit\n",
    "mysce = sceset[,sceset$day == \"day1\"]\n",
    "mat = table(mysce$donor_short_id, mysce$experiment) \n",
    "ord = which(table(mysce$donor_short_id, mysce$experiment) > 0, arr.ind = T)\n",
    "l = c()\n",
    "for (i in 1:dim(ord)[1]){\n",
    "    l[i] <- paste0(rownames(mat)[ord[i,1]],\"-\",colnames(mat)[ord[i,2]])\n",
    "    }\n",
    "l1 = paste0(l,\"-day1\")\n",
    "mysce = sceset[,sceset$day == \"day2\"]\n",
    "mat = table(mysce$donor_short_id, mysce$experiment) \n",
    "ord = which(table(mysce$donor_short_id, mysce$experiment) > 0, arr.ind = T)\n",
    "l = c()\n",
    "for (i in 1:dim(ord)[1]){\n",
    "    l[i] <- paste0(rownames(mat)[ord[i,1]],\"-\",colnames(mat)[ord[i,2]])\n",
    "    }\n",
    "l2 = paste0(l,\"-day2\")\n",
    "mysce = sceset[,sceset$day == \"day3\"]\n",
    "mat = table(mysce$donor_short_id, mysce$experiment) \n",
    "ord = which(table(mysce$donor_short_id, mysce$experiment) > 0, arr.ind = T)\n",
    "l = c()\n",
    "for (i in 1:dim(ord)[1]){\n",
    "    l[i] <- paste0(rownames(mat)[ord[i,1]],\"-\",colnames(mat)[ord[i,2]])\n",
    "    }\n",
    "l3 = paste0(l,\"-day3\")\n",
    "l.transit <- c(l1,l2,l3)"
   ]
  },
  {
   "cell_type": "code",
   "execution_count": 15,
   "metadata": {},
   "outputs": [
    {
     "data": {
      "text/html": [
       "313"
      ],
      "text/latex": [
       "313"
      ],
      "text/markdown": [
       "313"
      ],
      "text/plain": [
       "[1] 313"
      ]
     },
     "metadata": {},
     "output_type": "display_data"
    }
   ],
   "source": [
    "length(l.transit)"
   ]
  },
  {
   "cell_type": "code",
   "execution_count": null,
   "metadata": {},
   "outputs": [],
   "source": []
  },
  {
   "cell_type": "code",
   "execution_count": 7,
   "metadata": {},
   "outputs": [],
   "source": [
    "sceset = sce.ips\n",
    "mysce = sceset[,sceset$day == \"day0\"]\n",
    "mat = table(mysce$donor_short_id, mysce$experiment) \n",
    "ord = which(table(mysce$donor_short_id, mysce$experiment) > 0, arr.ind = T)\n",
    "l = c()\n",
    "for (i in 1:dim(ord)[1]){\n",
    "    l[i] <- paste0(rownames(mat)[ord[i,1]],\"-\",colnames(mat)[ord[i,2]])\n",
    "    }\n",
    "l.ips = paste0(l,\"-day0\")"
   ]
  },
  {
   "cell_type": "code",
   "execution_count": 8,
   "metadata": {},
   "outputs": [],
   "source": [
    "sceset = sce.mesendo\n",
    "mysce = sceset[,sceset$day == \"day1\"]\n",
    "mat = table(mysce$donor_short_id, mysce$experiment) \n",
    "ord = which(table(mysce$donor_short_id, mysce$experiment) > 0, arr.ind = T)\n",
    "l = c()\n",
    "for (i in 1:dim(ord)[1]){\n",
    "    l[i] <- paste0(rownames(mat)[ord[i,1]],\"-\",colnames(mat)[ord[i,2]])\n",
    "    }\n",
    "l1 = paste0(l,\"-day1\")\n",
    "mysce = sceset[,sceset$day == \"day2\"]\n",
    "mat = table(mysce$donor_short_id, mysce$experiment) \n",
    "ord = which(table(mysce$donor_short_id, mysce$experiment) > 0, arr.ind = T)\n",
    "l = c()\n",
    "for (i in 1:dim(ord)[1]){\n",
    "    l[i] <- paste0(rownames(mat)[ord[i,1]],\"-\",colnames(mat)[ord[i,2]])\n",
    "    }\n",
    "l2 = paste0(l,\"-day2\")\n",
    "l.mesendo <- c(l1,l2)"
   ]
  },
  {
   "cell_type": "code",
   "execution_count": 9,
   "metadata": {},
   "outputs": [],
   "source": [
    "sceset = sce.defendo\n",
    "mysce = sceset[,sceset$day == \"day2\"]\n",
    "mat = table(mysce$donor_short_id, mysce$experiment) \n",
    "ord = which(table(mysce$donor_short_id, mysce$experiment) > 0, arr.ind = T)\n",
    "l = c()\n",
    "for (i in 1:dim(ord)[1]){\n",
    "    l[i] <- paste0(rownames(mat)[ord[i,1]],\"-\",colnames(mat)[ord[i,2]])\n",
    "    }\n",
    "l2 = paste0(l,\"-day2\")\n",
    "mysce = sceset[,sceset$day == \"day3\"]\n",
    "mat = table(mysce$donor_short_id, mysce$experiment) \n",
    "ord = which(table(mysce$donor_short_id, mysce$experiment) > 0, arr.ind = T)\n",
    "l = c()\n",
    "for (i in 1:dim(ord)[1]){\n",
    "    l[i] <- paste0(rownames(mat)[ord[i,1]],\"-\",colnames(mat)[ord[i,2]])\n",
    "    }\n",
    "l3 = paste0(l,\"-day3\")\n",
    "l.defendo <- c(l2,l3)"
   ]
  },
  {
   "cell_type": "code",
   "execution_count": 16,
   "metadata": {},
   "outputs": [],
   "source": [
    "get_means_byexpt <- function(sceset, ngenes, l){\n",
    "    n = length(l)\n",
    "    means <- matrix(0,nrow = ngenes, ncol = n)\n",
    "    for (i in 1:n){\n",
    "        don = gsub(\"*-.*\",\"\",l[i])\n",
    "        expt = gsub(\"*-.*\",\"\",gsub(\".*-e\",\"e\",l[i]))\n",
    "        day = gsub(\".*-\",\"\",l[i])\n",
    "        sc <- logcounts(sceset)[,sceset$donor_short_id == don & sceset$experiment == expt & sceset$day == day]\n",
    "        # print(length(sc))\n",
    "        if (length(sc) == nrow(sceset)) {means[,i] <- sc}\n",
    "        else {means[,i] <- rowMeans(sc)}\n",
    "    }\n",
    "    rownames(means) = rownames(sceset)\n",
    "    colnames(means) = l\n",
    "    means\n",
    "}"
   ]
  },
  {
   "cell_type": "code",
   "execution_count": 13,
   "metadata": {},
   "outputs": [],
   "source": [
    "get_variances_byexpt <- function(sceset, ngenes, l){\n",
    "    n = length(l)\n",
    "    vars <- matrix(0,nrow = ngenes, ncol = n)\n",
    "    for (i in 1:n){\n",
    "        don = gsub(\"*-.*\",\"\",l[i])\n",
    "        expt = gsub(\"*-.*\",\"\",gsub(\".*-e\",\"e\",l[i]))\n",
    "        day = gsub(\".*-\",\"\",l[i])\n",
    "        sc <- logcounts(sceset)[,sceset$donor_short_id == don & sceset$experiment == expt & sceset$day == day]\n",
    "        # print(length(sc))\n",
    "        if (length(sc) == nrow(sceset)) {vars[,i] <- sc}\n",
    "        else {vars[,i] <- apply(sc,1,var)}\n",
    "    }\n",
    "    rownames(vars) = rownames(sceset)\n",
    "    colnames(vars) = l\n",
    "    vars\n",
    "}"
   ]
  },
  {
   "cell_type": "code",
   "execution_count": 65,
   "metadata": {},
   "outputs": [],
   "source": [
    "get_logmeans_byexpt <- function(sceset, ngenes, l){\n",
    "    n = length(l)\n",
    "    means <- matrix(0,nrow = ngenes, ncol = n)\n",
    "    for (i in 1:n){\n",
    "        don = gsub(\"*-.*\",\"\",l[i])\n",
    "        expt = gsub(\"*-.*\",\"\",gsub(\".*-e\",\"e\",l[i]))\n",
    "        day = gsub(\".*-\",\"\",l[i])\n",
    "        sc <- counts(sceset)[,sceset$donor_short_id == don & sceset$experiment == expt & sceset$day == day]\n",
    "        # print(length(sc))\n",
    "        if (length(sc) == nrow(sceset)) {means[,i] <- log2(sc + 1)}\n",
    "        else {means[,i] <- log2(rowMeans(sc)+1)}\n",
    "    }\n",
    "    rownames(means) = rownames(sceset)\n",
    "    colnames(means) = l\n",
    "    means\n",
    "}"
   ]
  },
  {
   "cell_type": "code",
   "execution_count": 66,
   "metadata": {},
   "outputs": [],
   "source": [
    "get_logvariances_byexpt <- function(sceset, ngenes, l){\n",
    "    n = length(l)\n",
    "    vars <- matrix(0,nrow = ngenes, ncol = n)\n",
    "    for (i in 1:n){\n",
    "        don = gsub(\"*-.*\",\"\",l[i])\n",
    "        expt = gsub(\"*-.*\",\"\",gsub(\".*-e\",\"e\",l[i]))\n",
    "        day = gsub(\".*-\",\"\",l[i])\n",
    "        sc <- counts(sceset)[,sceset$donor_short_id == don & sceset$experiment == expt & sceset$day == day]\n",
    "        # print(length(sc))\n",
    "        if (length(sc) == nrow(sceset)) {vars[,i] <- log2(sc + 1)}\n",
    "        else {vars[,i] <- log2(apply(sc,1,var)+1)}\n",
    "    }\n",
    "    rownames(vars) = rownames(sceset)\n",
    "    colnames(vars) = l\n",
    "    vars\n",
    "}"
   ]
  },
  {
   "cell_type": "code",
   "execution_count": null,
   "metadata": {},
   "outputs": [],
   "source": [
    "# l.ips\n",
    "# l.mesendo\n",
    "# l.defendo"
   ]
  },
  {
   "cell_type": "code",
   "execution_count": 51,
   "metadata": {},
   "outputs": [],
   "source": [
    "# m.ips = get_means_byexpt(sce.ips, nrow(sce.ips), l.ips)\n",
    "# m.mesendo = get_means_byexpt(sce.mesendo, nrow(sce.mesendo), l.mesendo)\n",
    "m.defendo = get_means_byexpt(sce.defendo, nrow(sce.defendo), l.defendo)"
   ]
  },
  {
   "cell_type": "code",
   "execution_count": 17,
   "metadata": {},
   "outputs": [],
   "source": [
    "m.transit = get_means_byexpt(sce.transit, nrow(sce.transit), l.transit)"
   ]
  },
  {
   "cell_type": "code",
   "execution_count": 18,
   "metadata": {},
   "outputs": [
    {
     "data": {
      "text/html": [
       "<table>\n",
       "<thead><tr><th></th><th scope=col>fafq_1-expt_09-day1</th><th scope=col>fafq_1-expt_10-day1</th><th scope=col>hayt_1-expt_10-day1</th><th scope=col>sojd_3-expt_10-day1</th><th scope=col>wopl_1-expt_10-day1</th></tr></thead>\n",
       "<tbody>\n",
       "\t<tr><th scope=row>ENSG00000000003_TSPAN6</th><td>6.0157926</td><td>6.1647125</td><td>6.1862809</td><td>6.7787334</td><td>5.572450 </td></tr>\n",
       "\t<tr><th scope=row>ENSG00000000419_DPM1</th><td>6.2606651</td><td>6.3307959</td><td>6.1193524</td><td>6.8160183</td><td>6.527754 </td></tr>\n",
       "\t<tr><th scope=row>ENSG00000000457_SCYL3</th><td>0.9125461</td><td>0.9676321</td><td>0.8152496</td><td>0.4055402</td><td>0.361470 </td></tr>\n",
       "\t<tr><th scope=row>ENSG00000000460_C1orf112</th><td>3.1033389</td><td>2.7937279</td><td>3.9285240</td><td>3.1062360</td><td>1.423597 </td></tr>\n",
       "\t<tr><th scope=row>ENSG00000001036_FUCA2</th><td>2.5664671</td><td>3.4514574</td><td>2.0671516</td><td>1.9703181</td><td>2.912155 </td></tr>\n",
       "</tbody>\n",
       "</table>\n"
      ],
      "text/latex": [
       "\\begin{tabular}{r|lllll}\n",
       "  & fafq\\_1-expt\\_09-day1 & fafq\\_1-expt\\_10-day1 & hayt\\_1-expt\\_10-day1 & sojd\\_3-expt\\_10-day1 & wopl\\_1-expt\\_10-day1\\\\\n",
       "\\hline\n",
       "\tENSG00000000003\\_TSPAN6 & 6.0157926 & 6.1647125 & 6.1862809 & 6.7787334 & 5.572450 \\\\\n",
       "\tENSG00000000419\\_DPM1 & 6.2606651 & 6.3307959 & 6.1193524 & 6.8160183 & 6.527754 \\\\\n",
       "\tENSG00000000457\\_SCYL3 & 0.9125461 & 0.9676321 & 0.8152496 & 0.4055402 & 0.361470 \\\\\n",
       "\tENSG00000000460\\_C1orf112 & 3.1033389 & 2.7937279 & 3.9285240 & 3.1062360 & 1.423597 \\\\\n",
       "\tENSG00000001036\\_FUCA2 & 2.5664671 & 3.4514574 & 2.0671516 & 1.9703181 & 2.912155 \\\\\n",
       "\\end{tabular}\n"
      ],
      "text/markdown": [
       "\n",
       "| <!--/--> | fafq_1-expt_09-day1 | fafq_1-expt_10-day1 | hayt_1-expt_10-day1 | sojd_3-expt_10-day1 | wopl_1-expt_10-day1 | \n",
       "|---|---|---|---|---|\n",
       "| ENSG00000000003_TSPAN6 | 6.0157926 | 6.1647125 | 6.1862809 | 6.7787334 | 5.572450  | \n",
       "| ENSG00000000419_DPM1 | 6.2606651 | 6.3307959 | 6.1193524 | 6.8160183 | 6.527754  | \n",
       "| ENSG00000000457_SCYL3 | 0.9125461 | 0.9676321 | 0.8152496 | 0.4055402 | 0.361470  | \n",
       "| ENSG00000000460_C1orf112 | 3.1033389 | 2.7937279 | 3.9285240 | 3.1062360 | 1.423597  | \n",
       "| ENSG00000001036_FUCA2 | 2.5664671 | 3.4514574 | 2.0671516 | 1.9703181 | 2.912155  | \n",
       "\n",
       "\n"
      ],
      "text/plain": [
       "                         fafq_1-expt_09-day1 fafq_1-expt_10-day1\n",
       "ENSG00000000003_TSPAN6   6.0157926           6.1647125          \n",
       "ENSG00000000419_DPM1     6.2606651           6.3307959          \n",
       "ENSG00000000457_SCYL3    0.9125461           0.9676321          \n",
       "ENSG00000000460_C1orf112 3.1033389           2.7937279          \n",
       "ENSG00000001036_FUCA2    2.5664671           3.4514574          \n",
       "                         hayt_1-expt_10-day1 sojd_3-expt_10-day1\n",
       "ENSG00000000003_TSPAN6   6.1862809           6.7787334          \n",
       "ENSG00000000419_DPM1     6.1193524           6.8160183          \n",
       "ENSG00000000457_SCYL3    0.8152496           0.4055402          \n",
       "ENSG00000000460_C1orf112 3.9285240           3.1062360          \n",
       "ENSG00000001036_FUCA2    2.0671516           1.9703181          \n",
       "                         wopl_1-expt_10-day1\n",
       "ENSG00000000003_TSPAN6   5.572450           \n",
       "ENSG00000000419_DPM1     6.527754           \n",
       "ENSG00000000457_SCYL3    0.361470           \n",
       "ENSG00000000460_C1orf112 1.423597           \n",
       "ENSG00000001036_FUCA2    2.912155           "
      ]
     },
     "metadata": {},
     "output_type": "display_data"
    }
   ],
   "source": [
    "m.transit[1:5,1:5]"
   ]
  },
  {
   "cell_type": "code",
   "execution_count": 20,
   "metadata": {},
   "outputs": [],
   "source": [
    "write.table(m.transit, \"/hps/nobackup/stegle/users/acuomo/all_scripts/sc_endodiff/eQTL_mapping/input_files/transit_pheno.txt\", sep = \"\\t\", quote = F, col.names = NA)"
   ]
  },
  {
   "cell_type": "code",
   "execution_count": 21,
   "metadata": {},
   "outputs": [],
   "source": [
    "pcs.transit = prcomp(t(m.transit))$x[,1:10]\n",
    "\n",
    "head(pcs.transit,2)\n",
    "\n",
    "write.table(pcs.transit, \"/hps/nobackup/stegle/users/acuomo/all_scripts/sc_endodiff/eQTL_mapping/input_files/transit_covs_10pcs.txt\", sep = \"\\t\", quote = F, col.names = NA)\n",
    "\n",
    "smf.transit = make_sample_mapping(m.transit, sce.transit)\n",
    "head(smf.transit,2)\n",
    "\n",
    "write.table(smf.transit, \"/hps/nobackup/stegle/users/acuomo/all_scripts/sc_endodiff/eQTL_mapping/input_files/transit_smf.txt\", sep = \"\\t\", quote = F, row.names = F, col.names = F)"
   ]
  },
  {
   "cell_type": "code",
   "execution_count": null,
   "metadata": {},
   "outputs": [],
   "source": []
  },
  {
   "cell_type": "code",
   "execution_count": 52,
   "metadata": {},
   "outputs": [],
   "source": [
    "# write.table(m.ips, \"/hps/nobackup/hipsci/scratch/singlecell_endodiff/data_processed/scQTLs/mean/variance/ips_pheno.txt\", sep = \"\\t\", quote = F, col.names = NA)\n",
    "# write.table(m.mesendo, \"/hps/nobackup/hipsci/scratch/singlecell_endodiff/data_processed/scQTLs/mean/variance/mesendo_pheno.txt\", sep = \"\\t\", quote = F, col.names = NA)\n",
    "write.table(m.defendo, \"/hps/nobackup/hipsci/scratch/singlecell_endodiff/data_processed/scQTLs/mean/variance/defendo_pheno.txt\", sep = \"\\t\", quote = F, col.names = NA)"
   ]
  },
  {
   "cell_type": "code",
   "execution_count": 46,
   "metadata": {},
   "outputs": [
    {
     "data": {
      "text/html": [
       "<table>\n",
       "<thead><tr><th></th><th scope=col>heth_1-expt_12-day0</th><th scope=col>jogf_2-expt_12-day0</th></tr></thead>\n",
       "<tbody>\n",
       "\t<tr><th scope=row>ENSG00000000003_TSPAN6</th><td>5.361901</td><td>5.707035</td></tr>\n",
       "\t<tr><th scope=row>ENSG00000000419_DPM1</th><td>5.901928</td><td>6.045002</td></tr>\n",
       "\t<tr><th scope=row>ENSG00000000457_SCYL3</th><td>0.872867</td><td>0.699406</td></tr>\n",
       "\t<tr><th scope=row>ENSG00000000460_C1orf112</th><td>2.865806</td><td>2.987976</td></tr>\n",
       "\t<tr><th scope=row>ENSG00000001036_FUCA2</th><td>4.070597</td><td>4.448039</td></tr>\n",
       "\t<tr><th scope=row>ENSG00000001084_GCLC</th><td>1.891021</td><td>2.489428</td></tr>\n",
       "</tbody>\n",
       "</table>\n"
      ],
      "text/latex": [
       "\\begin{tabular}{r|ll}\n",
       "  & heth\\_1-expt\\_12-day0 & jogf\\_2-expt\\_12-day0\\\\\n",
       "\\hline\n",
       "\tENSG00000000003\\_TSPAN6 & 5.361901 & 5.707035\\\\\n",
       "\tENSG00000000419\\_DPM1 & 5.901928 & 6.045002\\\\\n",
       "\tENSG00000000457\\_SCYL3 & 0.872867 & 0.699406\\\\\n",
       "\tENSG00000000460\\_C1orf112 & 2.865806 & 2.987976\\\\\n",
       "\tENSG00000001036\\_FUCA2 & 4.070597 & 4.448039\\\\\n",
       "\tENSG00000001084\\_GCLC & 1.891021 & 2.489428\\\\\n",
       "\\end{tabular}\n"
      ],
      "text/markdown": [
       "\n",
       "| <!--/--> | heth_1-expt_12-day0 | jogf_2-expt_12-day0 | \n",
       "|---|---|---|---|---|---|\n",
       "| ENSG00000000003_TSPAN6 | 5.361901 | 5.707035 | \n",
       "| ENSG00000000419_DPM1 | 5.901928 | 6.045002 | \n",
       "| ENSG00000000457_SCYL3 | 0.872867 | 0.699406 | \n",
       "| ENSG00000000460_C1orf112 | 2.865806 | 2.987976 | \n",
       "| ENSG00000001036_FUCA2 | 4.070597 | 4.448039 | \n",
       "| ENSG00000001084_GCLC | 1.891021 | 2.489428 | \n",
       "\n",
       "\n"
      ],
      "text/plain": [
       "                         heth_1-expt_12-day0 jogf_2-expt_12-day0\n",
       "ENSG00000000003_TSPAN6   5.361901            5.707035           \n",
       "ENSG00000000419_DPM1     5.901928            6.045002           \n",
       "ENSG00000000457_SCYL3    0.872867            0.699406           \n",
       "ENSG00000000460_C1orf112 2.865806            2.987976           \n",
       "ENSG00000001036_FUCA2    4.070597            4.448039           \n",
       "ENSG00000001084_GCLC     1.891021            2.489428           "
      ]
     },
     "metadata": {},
     "output_type": "display_data"
    }
   ],
   "source": [
    "head(get_means_byexpt(sce.ips, nrow(sce.ips), l.ips[1:2]))"
   ]
  },
  {
   "cell_type": "code",
   "execution_count": 15,
   "metadata": {},
   "outputs": [],
   "source": [
    "# get_variances_byexpt(sce.ips, nrow(sce.ips), l.ips[1:2])"
   ]
  },
  {
   "cell_type": "code",
   "execution_count": 71,
   "metadata": {},
   "outputs": [],
   "source": [
    "logm.ips = get_logmeans_byexpt(sce.ips, nrow(sce.ips), l.ips)\n",
    "logm.mesendo = get_logmeans_byexpt(sce.mesendo, nrow(sce.mesendo), l.mesendo)\n",
    "logm.defendo = get_logmeans_byexpt(sce.defendo, nrow(sce.defendo), l.defendo)\n",
    "logv.ips = get_logvariances_byexpt(sce.ips, nrow(sce.ips), l.ips)\n",
    "logv.mesendo = get_logvariances_byexpt(sce.mesendo, nrow(sce.mesendo), l.mesendo)\n",
    "logv.defendo = get_logvariances_byexpt(sce.defendo, nrow(sce.defendo), l.defendo)"
   ]
  },
  {
   "cell_type": "code",
   "execution_count": 72,
   "metadata": {},
   "outputs": [],
   "source": [
    "write.table(logv.ips, \"/hps/nobackup/hipsci/scratch/singlecell_endodiff/data_processed/scQTLs/variance/logvariance/ips_pheno.txt\", sep = \"\\t\", quote = F, col.names = NA)\n",
    "write.table(logv.mesendo, \"/hps/nobackup/hipsci/scratch/singlecell_endodiff/data_processed/scQTLs/variance/logvariance/mesendo_pheno.txt\", sep = \"\\t\", quote = F, col.names = NA)\n",
    "write.table(logv.defendo, \"/hps/nobackup/hipsci/scratch/singlecell_endodiff/data_processed/scQTLs/variance/logvariance/defendo_pheno.txt\", sep = \"\\t\", quote = F, col.names = NA)"
   ]
  },
  {
   "cell_type": "code",
   "execution_count": 74,
   "metadata": {},
   "outputs": [],
   "source": [
    "write.table(logm.ips, \"/hps/nobackup/hipsci/scratch/singlecell_endodiff/data_processed/scQTLs/variance/logmean/ips_pheno.txt\", sep = \"\\t\", quote = F, col.names = NA)\n",
    "write.table(logm.mesendo, \"/hps/nobackup/hipsci/scratch/singlecell_endodiff/data_processed/scQTLs/variance/logmean/mesendo_pheno.txt\", sep = \"\\t\", quote = F, col.names = NA)\n",
    "write.table(logm.defendo, \"/hps/nobackup/hipsci/scratch/singlecell_endodiff/data_processed/scQTLs/variance/logmean/defendo_pheno.txt\", sep = \"\\t\", quote = F, col.names = NA)"
   ]
  },
  {
   "cell_type": "code",
   "execution_count": 16,
   "metadata": {},
   "outputs": [],
   "source": [
    "v.ips = get_variances_byexpt(sce.ips, nrow(sce.ips), l.ips)\n",
    "v.mesendo = get_variances_byexpt(sce.mesendo, nrow(sce.mesendo), l.mesendo)\n",
    "v.defendo = get_variances_byexpt(sce.defendo, nrow(sce.defendo), l.defendo)"
   ]
  },
  {
   "cell_type": "code",
   "execution_count": 17,
   "metadata": {},
   "outputs": [],
   "source": [
    "write.table(v.ips, \"/hps/nobackup/hipsci/scratch/singlecell_endodiff/data_processed/scQTLs/variance/variance/ips_pheno.txt\", sep = \"\\t\", quote = F, col.names = NA)\n",
    "write.table(v.mesendo, \"/hps/nobackup/hipsci/scratch/singlecell_endodiff/data_processed/scQTLs/variance/variance/mesendo_pheno.txt\", sep = \"\\t\", quote = F, col.names = NA)\n",
    "write.table(v.defendo, \"/hps/nobackup/hipsci/scratch/singlecell_endodiff/data_processed/scQTLs/variance/variance/defendo_pheno.txt\", sep = \"\\t\", quote = F, col.names = NA)"
   ]
  },
  {
   "cell_type": "code",
   "execution_count": 28,
   "metadata": {},
   "outputs": [],
   "source": [
    "make_sample_mapping <- function(pheno, sce){\n",
    "    df <- data.frame(donor.expt.day = colnames(pheno))\n",
    "    df$donor = gsub(\"*-.*\",\"\",df$donor.expt.day)\n",
    "    df$expt = gsub(\".*-\",\"\",df$donor.expt.day)\n",
    "    df$day = gsub(\".*-\",\"\",df$donor.expt.day)\n",
    "    df1 <- data.frame(donor_long_id = unique(sce$donor_long_id), donor = unique(sce$donor_short_id))\n",
    "    df2 <- left_join(df, df1, by = \"donor\")\n",
    "    # genotype_samples phenotype_samples\n",
    "    samples = df2[,c(\"donor_long_id\",\"donor.expt.day\")]\n",
    "    colnames(samples) = c()\n",
    "    samples\n",
    "}"
   ]
  },
  {
   "cell_type": "code",
   "execution_count": 62,
   "metadata": {},
   "outputs": [],
   "source": [
    "logv.ips.pcs = prcomp(t(logv.ips))$x[,1:10]\n",
    "logv.mesendo.pcs = prcomp(t(logv.mesendo))$x[,1:10]\n",
    "logv.defendo.pcs = prcomp(t(logv.defendo))$x[,1:10]"
   ]
  },
  {
   "cell_type": "code",
   "execution_count": 68,
   "metadata": {},
   "outputs": [],
   "source": [
    "rownames(logv.ips.pcs) <- gsub(\"\\\\.\",\"-\",rownames(logv.ips.pcs))"
   ]
  },
  {
   "cell_type": "code",
   "execution_count": 69,
   "metadata": {},
   "outputs": [
    {
     "data": {
      "text/html": [
       "<table>\n",
       "<thead><tr><th></th><th scope=col>PC1</th><th scope=col>PC2</th><th scope=col>PC3</th><th scope=col>PC4</th><th scope=col>PC5</th><th scope=col>PC6</th><th scope=col>PC7</th><th scope=col>PC8</th><th scope=col>PC9</th><th scope=col>PC10</th></tr></thead>\n",
       "<tbody>\n",
       "\t<tr><th scope=row>heth_1-expt_12-day0</th><td> -6.486316</td><td>-18.20235 </td><td> 15.118927</td><td>-13.99638 </td><td>21.67478  </td><td>-42.63407 </td><td>-21.17451 </td><td> 9.2048657</td><td> -4.778650</td><td> 7.693134 </td></tr>\n",
       "\t<tr><th scope=row>jogf_2-expt_12-day0</th><td>-36.569502</td><td>-22.33952 </td><td> 11.751562</td><td>-14.88398 </td><td>21.60292  </td><td>-37.19546 </td><td>-19.23046 </td><td>15.0144305</td><td>-12.914657</td><td>12.112019 </td></tr>\n",
       "\t<tr><th scope=row>pelm_3-expt_12-day0</th><td> 20.335331</td><td>-17.77234 </td><td> -6.999235</td><td>-25.97078 </td><td>10.61019  </td><td>-24.26406 </td><td>-13.34456 </td><td> 1.8979842</td><td> -4.185246</td><td> 6.339128 </td></tr>\n",
       "\t<tr><th scope=row>vass_1-expt_12-day0</th><td> -8.458523</td><td>-24.75527 </td><td>-12.705372</td><td>-22.63394 </td><td>18.23839  </td><td>-23.56621 </td><td>-30.75585 </td><td> 4.8517972</td><td> -6.717445</td><td> 7.401873 </td></tr>\n",
       "\t<tr><th scope=row>wibj_2-expt_12-day0</th><td>-33.991451</td><td>-19.22291 </td><td>-16.039861</td><td>-23.17773 </td><td>18.20519  </td><td>-26.25620 </td><td>-31.13529 </td><td> 0.5280875</td><td> -7.893783</td><td>17.072283 </td></tr>\n",
       "\t<tr><th scope=row>zapk_3-expt_12-day0</th><td> -9.363528</td><td>-18.44705 </td><td> -6.555730</td><td>-22.12398 </td><td>16.55165  </td><td>-29.68504 </td><td>-22.09364 </td><td> 5.9267441</td><td>-11.531506</td><td>13.273404 </td></tr>\n",
       "</tbody>\n",
       "</table>\n"
      ],
      "text/latex": [
       "\\begin{tabular}{r|llllllllll}\n",
       "  & PC1 & PC2 & PC3 & PC4 & PC5 & PC6 & PC7 & PC8 & PC9 & PC10\\\\\n",
       "\\hline\n",
       "\theth\\_1-expt\\_12-day0 &  -6.486316 & -18.20235  &  15.118927 & -13.99638  & 21.67478   & -42.63407  & -21.17451  &  9.2048657 &  -4.778650 &  7.693134 \\\\\n",
       "\tjogf\\_2-expt\\_12-day0 & -36.569502 & -22.33952  &  11.751562 & -14.88398  & 21.60292   & -37.19546  & -19.23046  & 15.0144305 & -12.914657 & 12.112019 \\\\\n",
       "\tpelm\\_3-expt\\_12-day0 &  20.335331 & -17.77234  &  -6.999235 & -25.97078  & 10.61019   & -24.26406  & -13.34456  &  1.8979842 &  -4.185246 &  6.339128 \\\\\n",
       "\tvass\\_1-expt\\_12-day0 &  -8.458523 & -24.75527  & -12.705372 & -22.63394  & 18.23839   & -23.56621  & -30.75585  &  4.8517972 &  -6.717445 &  7.401873 \\\\\n",
       "\twibj\\_2-expt\\_12-day0 & -33.991451 & -19.22291  & -16.039861 & -23.17773  & 18.20519   & -26.25620  & -31.13529  &  0.5280875 &  -7.893783 & 17.072283 \\\\\n",
       "\tzapk\\_3-expt\\_12-day0 &  -9.363528 & -18.44705  &  -6.555730 & -22.12398  & 16.55165   & -29.68504  & -22.09364  &  5.9267441 & -11.531506 & 13.273404 \\\\\n",
       "\\end{tabular}\n"
      ],
      "text/markdown": [
       "\n",
       "| <!--/--> | PC1 | PC2 | PC3 | PC4 | PC5 | PC6 | PC7 | PC8 | PC9 | PC10 | \n",
       "|---|---|---|---|---|---|\n",
       "| heth_1-expt_12-day0 |  -6.486316 | -18.20235  |  15.118927 | -13.99638  | 21.67478   | -42.63407  | -21.17451  |  9.2048657 |  -4.778650 |  7.693134  | \n",
       "| jogf_2-expt_12-day0 | -36.569502 | -22.33952  |  11.751562 | -14.88398  | 21.60292   | -37.19546  | -19.23046  | 15.0144305 | -12.914657 | 12.112019  | \n",
       "| pelm_3-expt_12-day0 |  20.335331 | -17.77234  |  -6.999235 | -25.97078  | 10.61019   | -24.26406  | -13.34456  |  1.8979842 |  -4.185246 |  6.339128  | \n",
       "| vass_1-expt_12-day0 |  -8.458523 | -24.75527  | -12.705372 | -22.63394  | 18.23839   | -23.56621  | -30.75585  |  4.8517972 |  -6.717445 |  7.401873  | \n",
       "| wibj_2-expt_12-day0 | -33.991451 | -19.22291  | -16.039861 | -23.17773  | 18.20519   | -26.25620  | -31.13529  |  0.5280875 |  -7.893783 | 17.072283  | \n",
       "| zapk_3-expt_12-day0 |  -9.363528 | -18.44705  |  -6.555730 | -22.12398  | 16.55165   | -29.68504  | -22.09364  |  5.9267441 | -11.531506 | 13.273404  | \n",
       "\n",
       "\n"
      ],
      "text/plain": [
       "                    PC1        PC2       PC3        PC4       PC5     \n",
       "heth_1-expt_12-day0  -6.486316 -18.20235  15.118927 -13.99638 21.67478\n",
       "jogf_2-expt_12-day0 -36.569502 -22.33952  11.751562 -14.88398 21.60292\n",
       "pelm_3-expt_12-day0  20.335331 -17.77234  -6.999235 -25.97078 10.61019\n",
       "vass_1-expt_12-day0  -8.458523 -24.75527 -12.705372 -22.63394 18.23839\n",
       "wibj_2-expt_12-day0 -33.991451 -19.22291 -16.039861 -23.17773 18.20519\n",
       "zapk_3-expt_12-day0  -9.363528 -18.44705  -6.555730 -22.12398 16.55165\n",
       "                    PC6       PC7       PC8        PC9        PC10     \n",
       "heth_1-expt_12-day0 -42.63407 -21.17451  9.2048657  -4.778650  7.693134\n",
       "jogf_2-expt_12-day0 -37.19546 -19.23046 15.0144305 -12.914657 12.112019\n",
       "pelm_3-expt_12-day0 -24.26406 -13.34456  1.8979842  -4.185246  6.339128\n",
       "vass_1-expt_12-day0 -23.56621 -30.75585  4.8517972  -6.717445  7.401873\n",
       "wibj_2-expt_12-day0 -26.25620 -31.13529  0.5280875  -7.893783 17.072283\n",
       "zapk_3-expt_12-day0 -29.68504 -22.09364  5.9267441 -11.531506 13.273404"
      ]
     },
     "metadata": {},
     "output_type": "display_data"
    }
   ],
   "source": [
    "head(logv.ips.pcs)"
   ]
  },
  {
   "cell_type": "code",
   "execution_count": 70,
   "metadata": {},
   "outputs": [],
   "source": [
    "write.table(logv.ips.pcs, \"/hps/nobackup/hipsci/scratch/singlecell_endodiff/data_processed/scQTLs/variance/logvariance/ips_covs.txt\", sep = \"\\t\", quote = F, col.names = NA)\n",
    "write.table(logv.mesendo.pcs, \"/hps/nobackup/hipsci/scratch/singlecell_endodiff/data_processed/scQTLs/variance/logvariance/mesendo_covs.txt\", sep = \"\\t\", quote = F, col.names = NA)\n",
    "write.table(logv.defendo.pcs, \"/hps/nobackup/hipsci/scratch/singlecell_endodiff/data_processed/scQTLs/variance/logvariance/defendo_covs.txt\", sep = \"\\t\", quote = F, col.names = NA)"
   ]
  },
  {
   "cell_type": "code",
   "execution_count": 19,
   "metadata": {},
   "outputs": [],
   "source": [
    "v.ips.pcs = prcomp(t(v.ips))$x[,1:10]\n",
    "v.mesendo.pcs = prcomp(t(v.mesendo))$x[,1:10]\n",
    "v.defendo.pcs = prcomp(t(v.defendo))$x[,1:10]"
   ]
  },
  {
   "cell_type": "code",
   "execution_count": 23,
   "metadata": {},
   "outputs": [
    {
     "data": {
      "text/html": [
       "<table>\n",
       "<thead><tr><th></th><th scope=col>PC1</th><th scope=col>PC2</th><th scope=col>PC3</th><th scope=col>PC4</th><th scope=col>PC5</th><th scope=col>PC6</th><th scope=col>PC7</th><th scope=col>PC8</th><th scope=col>PC9</th><th scope=col>PC10</th></tr></thead>\n",
       "<tbody>\n",
       "\t<tr><th scope=row>heth_1-expt_12-day0</th><td>-11.03862  </td><td>-2.200217  </td><td>-3.11308769</td><td>4.499252   </td><td>-13.9969709</td><td>-1.243655  </td><td> 4.4809198 </td><td>-18.595166 </td><td>17.0597518 </td><td>-1.1052040 </td></tr>\n",
       "\t<tr><th scope=row>jogf_2-expt_12-day0</th><td>-30.03647  </td><td> 8.343634  </td><td> 2.78759785</td><td>9.396257   </td><td> -0.1027375</td><td>-3.706962  </td><td> 3.0236176 </td><td>-14.190737 </td><td>11.4755250 </td><td>-0.5701951 </td></tr>\n",
       "\t<tr><th scope=row>pelm_3-expt_12-day0</th><td>-38.18046  </td><td> 8.780247  </td><td> 0.94345998</td><td>6.286670   </td><td>  6.6621013</td><td>-4.516840  </td><td>-0.6094867 </td><td> -7.020513 </td><td> 2.2391701 </td><td> 1.8878555 </td></tr>\n",
       "\t<tr><th scope=row>vass_1-expt_12-day0</th><td>-30.39039  </td><td> 7.789929  </td><td> 0.03758508</td><td>5.211005   </td><td>  6.1607393</td><td>-6.053048  </td><td>-2.8723278 </td><td> -7.166499 </td><td>-1.2312772 </td><td> 1.6921732 </td></tr>\n",
       "\t<tr><th scope=row>wibj_2-expt_12-day0</th><td>-41.89318  </td><td>10.780541  </td><td> 3.63176275</td><td>5.181475   </td><td>  9.5836592</td><td>-5.632977  </td><td>-1.2954557 </td><td> -5.828410 </td><td>-0.4343722 </td><td> 2.1316619 </td></tr>\n",
       "\t<tr><th scope=row>zapk_3-expt_12-day0</th><td>-36.31590  </td><td> 9.199315  </td><td> 3.07447715</td><td>7.865155   </td><td>  6.9087012</td><td>-5.129037  </td><td> 0.3591091 </td><td>-10.261062 </td><td> 4.6287877 </td><td> 0.7582819 </td></tr>\n",
       "</tbody>\n",
       "</table>\n"
      ],
      "text/latex": [
       "\\begin{tabular}{r|llllllllll}\n",
       "  & PC1 & PC2 & PC3 & PC4 & PC5 & PC6 & PC7 & PC8 & PC9 & PC10\\\\\n",
       "\\hline\n",
       "\theth\\_1-expt\\_12-day0 & -11.03862   & -2.200217   & -3.11308769 & 4.499252    & -13.9969709 & -1.243655   &  4.4809198  & -18.595166  & 17.0597518  & -1.1052040 \\\\\n",
       "\tjogf\\_2-expt\\_12-day0 & -30.03647   &  8.343634   &  2.78759785 & 9.396257    &  -0.1027375 & -3.706962   &  3.0236176  & -14.190737  & 11.4755250  & -0.5701951 \\\\\n",
       "\tpelm\\_3-expt\\_12-day0 & -38.18046   &  8.780247   &  0.94345998 & 6.286670    &   6.6621013 & -4.516840   & -0.6094867  &  -7.020513  &  2.2391701  &  1.8878555 \\\\\n",
       "\tvass\\_1-expt\\_12-day0 & -30.39039   &  7.789929   &  0.03758508 & 5.211005    &   6.1607393 & -6.053048   & -2.8723278  &  -7.166499  & -1.2312772  &  1.6921732 \\\\\n",
       "\twibj\\_2-expt\\_12-day0 & -41.89318   & 10.780541   &  3.63176275 & 5.181475    &   9.5836592 & -5.632977   & -1.2954557  &  -5.828410  & -0.4343722  &  2.1316619 \\\\\n",
       "\tzapk\\_3-expt\\_12-day0 & -36.31590   &  9.199315   &  3.07447715 & 7.865155    &   6.9087012 & -5.129037   &  0.3591091  & -10.261062  &  4.6287877  &  0.7582819 \\\\\n",
       "\\end{tabular}\n"
      ],
      "text/markdown": [
       "\n",
       "| <!--/--> | PC1 | PC2 | PC3 | PC4 | PC5 | PC6 | PC7 | PC8 | PC9 | PC10 | \n",
       "|---|---|---|---|---|---|\n",
       "| heth_1-expt_12-day0 | -11.03862   | -2.200217   | -3.11308769 | 4.499252    | -13.9969709 | -1.243655   |  4.4809198  | -18.595166  | 17.0597518  | -1.1052040  | \n",
       "| jogf_2-expt_12-day0 | -30.03647   |  8.343634   |  2.78759785 | 9.396257    |  -0.1027375 | -3.706962   |  3.0236176  | -14.190737  | 11.4755250  | -0.5701951  | \n",
       "| pelm_3-expt_12-day0 | -38.18046   |  8.780247   |  0.94345998 | 6.286670    |   6.6621013 | -4.516840   | -0.6094867  |  -7.020513  |  2.2391701  |  1.8878555  | \n",
       "| vass_1-expt_12-day0 | -30.39039   |  7.789929   |  0.03758508 | 5.211005    |   6.1607393 | -6.053048   | -2.8723278  |  -7.166499  | -1.2312772  |  1.6921732  | \n",
       "| wibj_2-expt_12-day0 | -41.89318   | 10.780541   |  3.63176275 | 5.181475    |   9.5836592 | -5.632977   | -1.2954557  |  -5.828410  | -0.4343722  |  2.1316619  | \n",
       "| zapk_3-expt_12-day0 | -36.31590   |  9.199315   |  3.07447715 | 7.865155    |   6.9087012 | -5.129037   |  0.3591091  | -10.261062  |  4.6287877  |  0.7582819  | \n",
       "\n",
       "\n"
      ],
      "text/plain": [
       "                    PC1       PC2       PC3         PC4      PC5        \n",
       "heth_1-expt_12-day0 -11.03862 -2.200217 -3.11308769 4.499252 -13.9969709\n",
       "jogf_2-expt_12-day0 -30.03647  8.343634  2.78759785 9.396257  -0.1027375\n",
       "pelm_3-expt_12-day0 -38.18046  8.780247  0.94345998 6.286670   6.6621013\n",
       "vass_1-expt_12-day0 -30.39039  7.789929  0.03758508 5.211005   6.1607393\n",
       "wibj_2-expt_12-day0 -41.89318 10.780541  3.63176275 5.181475   9.5836592\n",
       "zapk_3-expt_12-day0 -36.31590  9.199315  3.07447715 7.865155   6.9087012\n",
       "                    PC6       PC7        PC8        PC9        PC10      \n",
       "heth_1-expt_12-day0 -1.243655  4.4809198 -18.595166 17.0597518 -1.1052040\n",
       "jogf_2-expt_12-day0 -3.706962  3.0236176 -14.190737 11.4755250 -0.5701951\n",
       "pelm_3-expt_12-day0 -4.516840 -0.6094867  -7.020513  2.2391701  1.8878555\n",
       "vass_1-expt_12-day0 -6.053048 -2.8723278  -7.166499 -1.2312772  1.6921732\n",
       "wibj_2-expt_12-day0 -5.632977 -1.2954557  -5.828410 -0.4343722  2.1316619\n",
       "zapk_3-expt_12-day0 -5.129037  0.3591091 -10.261062  4.6287877  0.7582819"
      ]
     },
     "metadata": {},
     "output_type": "display_data"
    }
   ],
   "source": [
    "head(v.ips.pcs)"
   ]
  },
  {
   "cell_type": "code",
   "execution_count": 24,
   "metadata": {},
   "outputs": [],
   "source": [
    "write.table(v.ips.pcs, \"/hps/nobackup/hipsci/scratch/singlecell_endodiff/data_processed/scQTLs/variance/variance/ips_covs.txt\", sep = \"\\t\", quote = F, col.names = NA)\n",
    "write.table(v.mesendo.pcs, \"/hps/nobackup/hipsci/scratch/singlecell_endodiff/data_processed/scQTLs/variance/variance/mesendo_covs.txt\", sep = \"\\t\", quote = F, col.names = NA)\n",
    "write.table(v.defendo.pcs, \"/hps/nobackup/hipsci/scratch/singlecell_endodiff/data_processed/scQTLs/variance/variance/defendo_covs.txt\", sep = \"\\t\", quote = F, col.names = NA)"
   ]
  },
  {
   "cell_type": "code",
   "execution_count": 25,
   "metadata": {},
   "outputs": [
    {
     "name": "stdout",
     "output_type": "stream",
     "text": [
      "       donor.expt.day  donor expt  day\n",
      "1 heth_1-expt_12-day0 heth_1 day0 day0\n",
      "2 jogf_2-expt_12-day0 jogf_2 day0 day0\n",
      "3 pelm_3-expt_12-day0 pelm_3 day0 day0\n",
      "4 vass_1-expt_12-day0 vass_1 day0 day0\n",
      "5 wibj_2-expt_12-day0 wibj_2 day0 day0\n",
      "6 zapk_3-expt_12-day0 zapk_3 day0 day0\n",
      "     donor_long_id  donor\n",
      "1 HPSI0114i-zapk_3 zapk_3\n",
      "2 HPSI0214i-wibj_2 wibj_2\n",
      "3 HPSI1013i-jogf_2 jogf_2\n",
      "4 HPSI0214i-pelm_3 pelm_3\n",
      "5 HPSI0114i-vass_1 vass_1\n",
      "6 HPSI0214i-heth_1 heth_1\n",
      "       donor.expt.day  donor expt  day    donor_long_id\n",
      "1 heth_1-expt_12-day0 heth_1 day0 day0 HPSI0214i-heth_1\n",
      "2 jogf_2-expt_12-day0 jogf_2 day0 day0 HPSI1013i-jogf_2\n",
      "3 pelm_3-expt_12-day0 pelm_3 day0 day0 HPSI0214i-pelm_3\n",
      "4 vass_1-expt_12-day0 vass_1 day0 day0 HPSI0114i-vass_1\n",
      "5 wibj_2-expt_12-day0 wibj_2 day0 day0 HPSI0214i-wibj_2\n",
      "6 zapk_3-expt_12-day0 zapk_3 day0 day0 HPSI0114i-zapk_3\n"
     ]
    }
   ],
   "source": [
    "make_sample_mapping(v.ips, sce.ips)"
   ]
  },
  {
   "cell_type": "code",
   "execution_count": 32,
   "metadata": {},
   "outputs": [],
   "source": [
    "smf.ips = make_sample_mapping(v.ips, sce.ips)\n",
    "smf.mesendo = make_sample_mapping(v.mesendo, sce.mesendo)\n",
    "smf.defendo = make_sample_mapping(v.defendo, sce.defendo)"
   ]
  },
  {
   "cell_type": "code",
   "execution_count": null,
   "metadata": {},
   "outputs": [],
   "source": [
    "# head(v.ips)"
   ]
  },
  {
   "cell_type": "code",
   "execution_count": 33,
   "metadata": {},
   "outputs": [
    {
     "data": {
      "text/html": [
       "<table>\n",
       "<tbody>\n",
       "\t<tr><td>HPSI0214i-heth_1   </td><td>heth_1-expt_12-day0</td></tr>\n",
       "\t<tr><td>HPSI1013i-jogf_2   </td><td>jogf_2-expt_12-day0</td></tr>\n",
       "\t<tr><td>HPSI0214i-pelm_3   </td><td>pelm_3-expt_12-day0</td></tr>\n",
       "\t<tr><td>HPSI0114i-vass_1   </td><td>vass_1-expt_12-day0</td></tr>\n",
       "\t<tr><td>HPSI0214i-wibj_2   </td><td>wibj_2-expt_12-day0</td></tr>\n",
       "\t<tr><td>HPSI0114i-zapk_3   </td><td>zapk_3-expt_12-day0</td></tr>\n",
       "</tbody>\n",
       "</table>\n"
      ],
      "text/latex": [
       "\\begin{tabular}{r|ll}\n",
       "\t HPSI0214i-heth\\_1      & heth\\_1-expt\\_12-day0\\\\\n",
       "\t HPSI1013i-jogf\\_2      & jogf\\_2-expt\\_12-day0\\\\\n",
       "\t HPSI0214i-pelm\\_3      & pelm\\_3-expt\\_12-day0\\\\\n",
       "\t HPSI0114i-vass\\_1      & vass\\_1-expt\\_12-day0\\\\\n",
       "\t HPSI0214i-wibj\\_2      & wibj\\_2-expt\\_12-day0\\\\\n",
       "\t HPSI0114i-zapk\\_3      & zapk\\_3-expt\\_12-day0\\\\\n",
       "\\end{tabular}\n"
      ],
      "text/markdown": [
       "\n",
       "| HPSI0214i-heth_1    | heth_1-expt_12-day0 | \n",
       "| HPSI1013i-jogf_2    | jogf_2-expt_12-day0 | \n",
       "| HPSI0214i-pelm_3    | pelm_3-expt_12-day0 | \n",
       "| HPSI0114i-vass_1    | vass_1-expt_12-day0 | \n",
       "| HPSI0214i-wibj_2    | wibj_2-expt_12-day0 | \n",
       "| HPSI0114i-zapk_3    | zapk_3-expt_12-day0 | \n",
       "\n",
       "\n"
      ],
      "text/plain": [
       "  [,1]             [,2]               \n",
       "1 HPSI0214i-heth_1 heth_1-expt_12-day0\n",
       "2 HPSI1013i-jogf_2 jogf_2-expt_12-day0\n",
       "3 HPSI0214i-pelm_3 pelm_3-expt_12-day0\n",
       "4 HPSI0114i-vass_1 vass_1-expt_12-day0\n",
       "5 HPSI0214i-wibj_2 wibj_2-expt_12-day0\n",
       "6 HPSI0114i-zapk_3 zapk_3-expt_12-day0"
      ]
     },
     "metadata": {},
     "output_type": "display_data"
    }
   ],
   "source": [
    "head(smf.ips)"
   ]
  },
  {
   "cell_type": "code",
   "execution_count": 34,
   "metadata": {},
   "outputs": [],
   "source": [
    "write.table(smf.ips, \"/hps/nobackup/hipsci/scratch/singlecell_endodiff/data_processed/scQTLs/variance/variance/ips_smf.txt\", sep = \"\\t\", quote = F, row.names = F, col.names = F)\n",
    "write.table(smf.mesendo, \"/hps/nobackup/hipsci/scratch/singlecell_endodiff/data_processed/scQTLs/variance/variance/mesendo_smf.txt\", sep = \"\\t\", quote = F, row.names = F, col.names = F)\n",
    "write.table(smf.defendo, \"/hps/nobackup/hipsci/scratch/singlecell_endodiff/data_processed/scQTLs/variance/variance/defendo_smf.txt\", sep = \"\\t\", quote = F, row.names = F, col.names = F)"
   ]
  },
  {
   "cell_type": "code",
   "execution_count": 35,
   "metadata": {},
   "outputs": [],
   "source": [
    "leads_mean_ips_filename = '/hps/nobackup/hipsci/scratch/singlecell_endodiff/data_processed/scQTLs/leads_ips_fvf.tsv'\n",
    "leads_mean_mesendo_filename = '/hps/nobackup/hipsci/scratch/singlecell_endodiff/data_processed/scQTLs/leads_mesendo_fvf.tsv'\n",
    "leads_mean_defendo_filename = '/hps/nobackup/hipsci/scratch/singlecell_endodiff/data_processed/scQTLs/leads_defendo_fvf.tsv'"
   ]
  },
  {
   "cell_type": "code",
   "execution_count": 36,
   "metadata": {},
   "outputs": [],
   "source": [
    "## iPSC (day0)\n",
    "leads.ips = read.csv(\"/nfs/leia/research/stegle/acuomo/mean/day0/all_expts/leads.csv\", row.names = 1)\n",
    "leads.ips.sign = leads.ips[leads.ips$global_corr_p_value < 0.1,]\n",
    "## mesendo\n",
    "leads.mes = read.csv(\"/nfs/leia/research/stegle/acuomo/mean/mesendo_est_June20/leads.csv\", row.names = 1)\n",
    "leads.mes.sign = leads.mes[leads.mes$global_corr_p_value < 0.1,]\n",
    "## defendo\n",
    "leads.defendo = read.csv(\"/nfs/leia/research/stegle/acuomo/mean/defendo_est_June20/leads.csv\", row.names = 1)\n",
    "leads.defendo.sign = leads.defendo[leads.defendo$global_corr_p_value < 0.1,]"
   ]
  },
  {
   "cell_type": "code",
   "execution_count": 37,
   "metadata": {},
   "outputs": [
    {
     "data": {
      "text/html": [
       "<table>\n",
       "<thead><tr><th scope=col>snp_id</th><th scope=col>feature</th></tr></thead>\n",
       "<tbody>\n",
       "\t<tr><td>5_149826526_C_T       </td><td>ENSG00000164587_RPS14 </td></tr>\n",
       "\t<tr><td>11_57283988_C_T       </td><td>ENSG00000134809_TIMM10</td></tr>\n",
       "\t<tr><td>12_56401085_G_A       </td><td>ENSG00000197728_RPS26 </td></tr>\n",
       "\t<tr><td>17_79634162_T_G       </td><td>ENSG00000214087_ARL16 </td></tr>\n",
       "\t<tr><td>6_31486901_T_C        </td><td>ENSG00000198563_DDX39B</td></tr>\n",
       "\t<tr><td>4_39446549_G_A        </td><td>ENSG00000163682_RPL9  </td></tr>\n",
       "</tbody>\n",
       "</table>\n"
      ],
      "text/latex": [
       "\\begin{tabular}{r|ll}\n",
       " snp\\_id & feature\\\\\n",
       "\\hline\n",
       "\t 5\\_149826526\\_C\\_T    & ENSG00000164587\\_RPS14 \\\\\n",
       "\t 11\\_57283988\\_C\\_T    & ENSG00000134809\\_TIMM10\\\\\n",
       "\t 12\\_56401085\\_G\\_A    & ENSG00000197728\\_RPS26 \\\\\n",
       "\t 17\\_79634162\\_T\\_G    & ENSG00000214087\\_ARL16 \\\\\n",
       "\t 6\\_31486901\\_T\\_C     & ENSG00000198563\\_DDX39B\\\\\n",
       "\t 4\\_39446549\\_G\\_A     & ENSG00000163682\\_RPL9  \\\\\n",
       "\\end{tabular}\n"
      ],
      "text/markdown": [
       "\n",
       "snp_id | feature | \n",
       "|---|---|---|---|---|---|\n",
       "| 5_149826526_C_T        | ENSG00000164587_RPS14  | \n",
       "| 11_57283988_C_T        | ENSG00000134809_TIMM10 | \n",
       "| 12_56401085_G_A        | ENSG00000197728_RPS26  | \n",
       "| 17_79634162_T_G        | ENSG00000214087_ARL16  | \n",
       "| 6_31486901_T_C         | ENSG00000198563_DDX39B | \n",
       "| 4_39446549_G_A         | ENSG00000163682_RPL9   | \n",
       "\n",
       "\n"
      ],
      "text/plain": [
       "  snp_id          feature               \n",
       "1 5_149826526_C_T ENSG00000164587_RPS14 \n",
       "2 11_57283988_C_T ENSG00000134809_TIMM10\n",
       "3 12_56401085_G_A ENSG00000197728_RPS26 \n",
       "4 17_79634162_T_G ENSG00000214087_ARL16 \n",
       "5 6_31486901_T_C  ENSG00000198563_DDX39B\n",
       "6 4_39446549_G_A  ENSG00000163682_RPL9  "
      ]
     },
     "metadata": {},
     "output_type": "display_data"
    }
   ],
   "source": [
    "head(leads.ips.sign[,c(\"snp_id\",\"feature\")])"
   ]
  },
  {
   "cell_type": "code",
   "execution_count": 38,
   "metadata": {},
   "outputs": [],
   "source": [
    "write.table(leads.ips.sign[,c(\"snp_id\",\"feature\")], leads_mean_ips_filename, sep = \"\\t\", quote = F, row.names = F)\n",
    "write.table(leads.mes.sign[,c(\"snp_id\",\"feature\")], leads_mean_mesendo_filename, sep = \"\\t\", quote = F, row.names = F)\n",
    "write.table(leads.defendo.sign[,c(\"snp_id\",\"feature\")], leads_mean_defendo_filename, sep = \"\\t\", quote = F, row.names = F)"
   ]
  },
  {
   "cell_type": "code",
   "execution_count": null,
   "metadata": {},
   "outputs": [],
   "source": []
  },
  {
   "cell_type": "code",
   "execution_count": 9,
   "metadata": {},
   "outputs": [],
   "source": [
    "logv.ips <- read.table(\"/hps/nobackup/hipsci/scratch/singlecell_endodiff/data_processed/scQTLs/variance/logvariance/ips_pheno.txt\", sep = \"\\t\", row.names = 1,header = 1)\n",
    "logv.mesendo <- read.table(\"/hps/nobackup/hipsci/scratch/singlecell_endodiff/data_processed/scQTLs/variance/logvariance/mesendo_pheno.txt\", sep = \"\\t\", row.names = 1,header = 1)\n",
    "logv.defendo <- read.table(\"/hps/nobackup/hipsci/scratch/singlecell_endodiff/data_processed/scQTLs/variance/logvariance/defendo_pheno.txt\", sep = \"\\t\", row.names = 1,header = 1)"
   ]
  },
  {
   "cell_type": "code",
   "execution_count": 10,
   "metadata": {},
   "outputs": [
    {
     "data": {
      "text/html": [
       "<table>\n",
       "<thead><tr><th></th><th scope=col>heth_1.expt_12.day0</th><th scope=col>jogf_2.expt_12.day0</th><th scope=col>pelm_3.expt_12.day0</th><th scope=col>vass_1.expt_12.day0</th><th scope=col>wibj_2.expt_12.day0</th><th scope=col>zapk_3.expt_12.day0</th><th scope=col>oaqd_3.expt_18.day0</th><th scope=col>paab_4.expt_18.day0</th><th scope=col>sita_1.expt_18.day0</th><th scope=col>toss_3.expt_18.day0</th><th scope=col>⋯</th><th scope=col>pipw_5.expt_44.day0</th><th scope=col>qehq_3.expt_44.day0</th><th scope=col>toco_5.expt_44.day0</th><th scope=col>uilk_3.expt_44.day0</th><th scope=col>ciwj_2.expt_45.day0</th><th scope=col>hajc_1.expt_45.day0</th><th scope=col>hecn_3.expt_45.day0</th><th scope=col>kuco_1.expt_45.day0</th><th scope=col>liqa_1.expt_45.day0</th><th scope=col>tert_1.expt_45.day0</th></tr></thead>\n",
       "<tbody>\n",
       "\t<tr><th scope=row>ENSG00000000003_TSPAN6</th><td>10.656371 </td><td>11.498416 </td><td> 9.951935 </td><td>10.197931 </td><td>12.429723 </td><td> 9.940456 </td><td>12.152956 </td><td>12.3460907</td><td>12.277700 </td><td>11.669135 </td><td>⋯         </td><td> 9.633785 </td><td>10.635729 </td><td>10.895000 </td><td>11.203217 </td><td> 8.121495 </td><td> 9.574922 </td><td>9.672829  </td><td>9.297032  </td><td>10.577374 </td><td> 9.247600 </td></tr>\n",
       "\t<tr><th scope=row>ENSG00000000419_DPM1</th><td>11.104702 </td><td>10.986928 </td><td>11.624502 </td><td>11.230448 </td><td>11.396792 </td><td>10.715472 </td><td>13.363862 </td><td>12.9359946</td><td>13.341931 </td><td>12.691892 </td><td>⋯         </td><td>10.464375 </td><td>10.433329 </td><td>10.195541 </td><td>11.151041 </td><td>10.177657 </td><td>10.365257 </td><td>9.352853  </td><td>9.580918  </td><td>10.315445 </td><td>10.129991 </td></tr>\n",
       "\t<tr><th scope=row>ENSG00000000457_SCYL3</th><td> 3.862893 </td><td> 2.672186 </td><td> 2.923140 </td><td> 2.512736 </td><td> 2.046251 </td><td> 2.491013 </td><td> 5.030014 </td><td> 0.9661879</td><td> 4.372359 </td><td> 5.369374 </td><td>⋯         </td><td> 3.089700 </td><td> 2.725016 </td><td> 3.391119 </td><td> 2.748902 </td><td> 2.169431 </td><td> 2.464070 </td><td>2.467245  </td><td>3.034869  </td><td> 3.177566 </td><td> 2.457237 </td></tr>\n",
       "\t<tr><th scope=row>ENSG00000000460_C1orf112</th><td> 6.267997 </td><td> 7.186583 </td><td> 7.837138 </td><td> 7.207857 </td><td> 7.323009 </td><td> 8.289590 </td><td> 8.519888 </td><td>11.0557540</td><td> 8.881434 </td><td> 7.136604 </td><td>⋯         </td><td> 6.781808 </td><td> 6.453754 </td><td> 7.658273 </td><td> 7.046755 </td><td> 5.529661 </td><td> 6.198433 </td><td>6.816793  </td><td>6.795329  </td><td> 6.460236 </td><td> 7.048816 </td></tr>\n",
       "\t<tr><th scope=row>ENSG00000001036_FUCA2</th><td> 8.042602 </td><td>10.276414 </td><td> 7.752825 </td><td> 8.530321 </td><td> 9.779832 </td><td> 6.974676 </td><td>10.939669 </td><td>10.1934963</td><td>10.179917 </td><td>10.279047 </td><td>⋯         </td><td> 7.776433 </td><td> 7.727372 </td><td> 7.873789 </td><td> 7.690194 </td><td> 6.846511 </td><td> 7.043088 </td><td>7.281916  </td><td>7.294354  </td><td> 7.621237 </td><td> 7.463251 </td></tr>\n",
       "\t<tr><th scope=row>ENSG00000001084_GCLC</th><td> 5.499908 </td><td> 6.203462 </td><td> 5.733327 </td><td> 5.996888 </td><td> 7.655607 </td><td> 5.310952 </td><td> 5.600358 </td><td> 5.7936064</td><td> 7.138265 </td><td> 7.746734 </td><td>⋯         </td><td> 5.657847 </td><td> 6.167098 </td><td> 6.129250 </td><td> 6.893269 </td><td> 6.058537 </td><td> 5.203614 </td><td>4.716668  </td><td>5.334529  </td><td> 5.181208 </td><td> 4.771476 </td></tr>\n",
       "</tbody>\n",
       "</table>\n"
      ],
      "text/latex": [
       "\\begin{tabular}{r|llllllllllllllllllllllllllllllllllllllllllllllllllllllllllllllllllllllllllllllllllllllllllllllllllllllllllllllllllllllllllllllllllllllll}\n",
       "  & heth\\_1.expt\\_12.day0 & jogf\\_2.expt\\_12.day0 & pelm\\_3.expt\\_12.day0 & vass\\_1.expt\\_12.day0 & wibj\\_2.expt\\_12.day0 & zapk\\_3.expt\\_12.day0 & oaqd\\_3.expt\\_18.day0 & paab\\_4.expt\\_18.day0 & sita\\_1.expt\\_18.day0 & toss\\_3.expt\\_18.day0 & ⋯ & pipw\\_5.expt\\_44.day0 & qehq\\_3.expt\\_44.day0 & toco\\_5.expt\\_44.day0 & uilk\\_3.expt\\_44.day0 & ciwj\\_2.expt\\_45.day0 & hajc\\_1.expt\\_45.day0 & hecn\\_3.expt\\_45.day0 & kuco\\_1.expt\\_45.day0 & liqa\\_1.expt\\_45.day0 & tert\\_1.expt\\_45.day0\\\\\n",
       "\\hline\n",
       "\tENSG00000000003\\_TSPAN6 & 10.656371  & 11.498416  &  9.951935  & 10.197931  & 12.429723  &  9.940456  & 12.152956  & 12.3460907 & 12.277700  & 11.669135  & ⋯          &  9.633785  & 10.635729  & 10.895000  & 11.203217  &  8.121495  &  9.574922  & 9.672829   & 9.297032   & 10.577374  &  9.247600 \\\\\n",
       "\tENSG00000000419\\_DPM1 & 11.104702  & 10.986928  & 11.624502  & 11.230448  & 11.396792  & 10.715472  & 13.363862  & 12.9359946 & 13.341931  & 12.691892  & ⋯          & 10.464375  & 10.433329  & 10.195541  & 11.151041  & 10.177657  & 10.365257  & 9.352853   & 9.580918   & 10.315445  & 10.129991 \\\\\n",
       "\tENSG00000000457\\_SCYL3 &  3.862893  &  2.672186  &  2.923140  &  2.512736  &  2.046251  &  2.491013  &  5.030014  &  0.9661879 &  4.372359  &  5.369374  & ⋯          &  3.089700  &  2.725016  &  3.391119  &  2.748902  &  2.169431  &  2.464070  & 2.467245   & 3.034869   &  3.177566  &  2.457237 \\\\\n",
       "\tENSG00000000460\\_C1orf112 &  6.267997  &  7.186583  &  7.837138  &  7.207857  &  7.323009  &  8.289590  &  8.519888  & 11.0557540 &  8.881434  &  7.136604  & ⋯          &  6.781808  &  6.453754  &  7.658273  &  7.046755  &  5.529661  &  6.198433  & 6.816793   & 6.795329   &  6.460236  &  7.048816 \\\\\n",
       "\tENSG00000001036\\_FUCA2 &  8.042602  & 10.276414  &  7.752825  &  8.530321  &  9.779832  &  6.974676  & 10.939669  & 10.1934963 & 10.179917  & 10.279047  & ⋯          &  7.776433  &  7.727372  &  7.873789  &  7.690194  &  6.846511  &  7.043088  & 7.281916   & 7.294354   &  7.621237  &  7.463251 \\\\\n",
       "\tENSG00000001084\\_GCLC &  5.499908  &  6.203462  &  5.733327  &  5.996888  &  7.655607  &  5.310952  &  5.600358  &  5.7936064 &  7.138265  &  7.746734  & ⋯          &  5.657847  &  6.167098  &  6.129250  &  6.893269  &  6.058537  &  5.203614  & 4.716668   & 5.334529   &  5.181208  &  4.771476 \\\\\n",
       "\\end{tabular}\n"
      ],
      "text/markdown": [
       "\n",
       "| <!--/--> | heth_1.expt_12.day0 | jogf_2.expt_12.day0 | pelm_3.expt_12.day0 | vass_1.expt_12.day0 | wibj_2.expt_12.day0 | zapk_3.expt_12.day0 | oaqd_3.expt_18.day0 | paab_4.expt_18.day0 | sita_1.expt_18.day0 | toss_3.expt_18.day0 | ⋯ | pipw_5.expt_44.day0 | qehq_3.expt_44.day0 | toco_5.expt_44.day0 | uilk_3.expt_44.day0 | ciwj_2.expt_45.day0 | hajc_1.expt_45.day0 | hecn_3.expt_45.day0 | kuco_1.expt_45.day0 | liqa_1.expt_45.day0 | tert_1.expt_45.day0 | \n",
       "|---|---|---|---|---|---|\n",
       "| ENSG00000000003_TSPAN6 | 10.656371  | 11.498416  |  9.951935  | 10.197931  | 12.429723  |  9.940456  | 12.152956  | 12.3460907 | 12.277700  | 11.669135  | ⋯          |  9.633785  | 10.635729  | 10.895000  | 11.203217  |  8.121495  |  9.574922  | 9.672829   | 9.297032   | 10.577374  |  9.247600  | \n",
       "| ENSG00000000419_DPM1 | 11.104702  | 10.986928  | 11.624502  | 11.230448  | 11.396792  | 10.715472  | 13.363862  | 12.9359946 | 13.341931  | 12.691892  | ⋯          | 10.464375  | 10.433329  | 10.195541  | 11.151041  | 10.177657  | 10.365257  | 9.352853   | 9.580918   | 10.315445  | 10.129991  | \n",
       "| ENSG00000000457_SCYL3 |  3.862893  |  2.672186  |  2.923140  |  2.512736  |  2.046251  |  2.491013  |  5.030014  |  0.9661879 |  4.372359  |  5.369374  | ⋯          |  3.089700  |  2.725016  |  3.391119  |  2.748902  |  2.169431  |  2.464070  | 2.467245   | 3.034869   |  3.177566  |  2.457237  | \n",
       "| ENSG00000000460_C1orf112 |  6.267997  |  7.186583  |  7.837138  |  7.207857  |  7.323009  |  8.289590  |  8.519888  | 11.0557540 |  8.881434  |  7.136604  | ⋯          |  6.781808  |  6.453754  |  7.658273  |  7.046755  |  5.529661  |  6.198433  | 6.816793   | 6.795329   |  6.460236  |  7.048816  | \n",
       "| ENSG00000001036_FUCA2 |  8.042602  | 10.276414  |  7.752825  |  8.530321  |  9.779832  |  6.974676  | 10.939669  | 10.1934963 | 10.179917  | 10.279047  | ⋯          |  7.776433  |  7.727372  |  7.873789  |  7.690194  |  6.846511  |  7.043088  | 7.281916   | 7.294354   |  7.621237  |  7.463251  | \n",
       "| ENSG00000001084_GCLC |  5.499908  |  6.203462  |  5.733327  |  5.996888  |  7.655607  |  5.310952  |  5.600358  |  5.7936064 |  7.138265  |  7.746734  | ⋯          |  5.657847  |  6.167098  |  6.129250  |  6.893269  |  6.058537  |  5.203614  | 4.716668   | 5.334529   |  5.181208  |  4.771476  | \n",
       "\n",
       "\n"
      ],
      "text/plain": [
       "                         heth_1.expt_12.day0 jogf_2.expt_12.day0\n",
       "ENSG00000000003_TSPAN6   10.656371           11.498416          \n",
       "ENSG00000000419_DPM1     11.104702           10.986928          \n",
       "ENSG00000000457_SCYL3     3.862893            2.672186          \n",
       "ENSG00000000460_C1orf112  6.267997            7.186583          \n",
       "ENSG00000001036_FUCA2     8.042602           10.276414          \n",
       "ENSG00000001084_GCLC      5.499908            6.203462          \n",
       "                         pelm_3.expt_12.day0 vass_1.expt_12.day0\n",
       "ENSG00000000003_TSPAN6    9.951935           10.197931          \n",
       "ENSG00000000419_DPM1     11.624502           11.230448          \n",
       "ENSG00000000457_SCYL3     2.923140            2.512736          \n",
       "ENSG00000000460_C1orf112  7.837138            7.207857          \n",
       "ENSG00000001036_FUCA2     7.752825            8.530321          \n",
       "ENSG00000001084_GCLC      5.733327            5.996888          \n",
       "                         wibj_2.expt_12.day0 zapk_3.expt_12.day0\n",
       "ENSG00000000003_TSPAN6   12.429723            9.940456          \n",
       "ENSG00000000419_DPM1     11.396792           10.715472          \n",
       "ENSG00000000457_SCYL3     2.046251            2.491013          \n",
       "ENSG00000000460_C1orf112  7.323009            8.289590          \n",
       "ENSG00000001036_FUCA2     9.779832            6.974676          \n",
       "ENSG00000001084_GCLC      7.655607            5.310952          \n",
       "                         oaqd_3.expt_18.day0 paab_4.expt_18.day0\n",
       "ENSG00000000003_TSPAN6   12.152956           12.3460907         \n",
       "ENSG00000000419_DPM1     13.363862           12.9359946         \n",
       "ENSG00000000457_SCYL3     5.030014            0.9661879         \n",
       "ENSG00000000460_C1orf112  8.519888           11.0557540         \n",
       "ENSG00000001036_FUCA2    10.939669           10.1934963         \n",
       "ENSG00000001084_GCLC      5.600358            5.7936064         \n",
       "                         sita_1.expt_18.day0 toss_3.expt_18.day0 ⋯\n",
       "ENSG00000000003_TSPAN6   12.277700           11.669135           ⋯\n",
       "ENSG00000000419_DPM1     13.341931           12.691892           ⋯\n",
       "ENSG00000000457_SCYL3     4.372359            5.369374           ⋯\n",
       "ENSG00000000460_C1orf112  8.881434            7.136604           ⋯\n",
       "ENSG00000001036_FUCA2    10.179917           10.279047           ⋯\n",
       "ENSG00000001084_GCLC      7.138265            7.746734           ⋯\n",
       "                         pipw_5.expt_44.day0 qehq_3.expt_44.day0\n",
       "ENSG00000000003_TSPAN6    9.633785           10.635729          \n",
       "ENSG00000000419_DPM1     10.464375           10.433329          \n",
       "ENSG00000000457_SCYL3     3.089700            2.725016          \n",
       "ENSG00000000460_C1orf112  6.781808            6.453754          \n",
       "ENSG00000001036_FUCA2     7.776433            7.727372          \n",
       "ENSG00000001084_GCLC      5.657847            6.167098          \n",
       "                         toco_5.expt_44.day0 uilk_3.expt_44.day0\n",
       "ENSG00000000003_TSPAN6   10.895000           11.203217          \n",
       "ENSG00000000419_DPM1     10.195541           11.151041          \n",
       "ENSG00000000457_SCYL3     3.391119            2.748902          \n",
       "ENSG00000000460_C1orf112  7.658273            7.046755          \n",
       "ENSG00000001036_FUCA2     7.873789            7.690194          \n",
       "ENSG00000001084_GCLC      6.129250            6.893269          \n",
       "                         ciwj_2.expt_45.day0 hajc_1.expt_45.day0\n",
       "ENSG00000000003_TSPAN6    8.121495            9.574922          \n",
       "ENSG00000000419_DPM1     10.177657           10.365257          \n",
       "ENSG00000000457_SCYL3     2.169431            2.464070          \n",
       "ENSG00000000460_C1orf112  5.529661            6.198433          \n",
       "ENSG00000001036_FUCA2     6.846511            7.043088          \n",
       "ENSG00000001084_GCLC      6.058537            5.203614          \n",
       "                         hecn_3.expt_45.day0 kuco_1.expt_45.day0\n",
       "ENSG00000000003_TSPAN6   9.672829            9.297032           \n",
       "ENSG00000000419_DPM1     9.352853            9.580918           \n",
       "ENSG00000000457_SCYL3    2.467245            3.034869           \n",
       "ENSG00000000460_C1orf112 6.816793            6.795329           \n",
       "ENSG00000001036_FUCA2    7.281916            7.294354           \n",
       "ENSG00000001084_GCLC     4.716668            5.334529           \n",
       "                         liqa_1.expt_45.day0 tert_1.expt_45.day0\n",
       "ENSG00000000003_TSPAN6   10.577374            9.247600          \n",
       "ENSG00000000419_DPM1     10.315445           10.129991          \n",
       "ENSG00000000457_SCYL3     3.177566            2.457237          \n",
       "ENSG00000000460_C1orf112  6.460236            7.048816          \n",
       "ENSG00000001036_FUCA2     7.621237            7.463251          \n",
       "ENSG00000001084_GCLC      5.181208            4.771476          "
      ]
     },
     "metadata": {},
     "output_type": "display_data"
    }
   ],
   "source": [
    "head(logv.ips)"
   ]
  },
  {
   "cell_type": "code",
   "execution_count": null,
   "metadata": {},
   "outputs": [],
   "source": []
  },
  {
   "cell_type": "code",
   "execution_count": null,
   "metadata": {},
   "outputs": [],
   "source": [
    "################################################################################################"
   ]
  },
  {
   "cell_type": "code",
   "execution_count": null,
   "metadata": {},
   "outputs": [],
   "source": [
    "############ assign trasitioning cells to either mesendo or defendo ############################"
   ]
  },
  {
   "cell_type": "code",
   "execution_count": null,
   "metadata": {},
   "outputs": [],
   "source": [
    "################################################################################################"
   ]
  },
  {
   "cell_type": "code",
   "execution_count": 17,
   "metadata": {},
   "outputs": [
    {
     "data": {
      "image/png": "[encoded data removed]",
      "text/plain": [
       "Plot with title “Histogram of sce$PC1_top500hvgs”"
      ]
     },
     "metadata": {},
     "output_type": "display_data"
    },
    {
     "data": {
      "image/png": "[encoded data removed]",
      "text/plain": [
       "Plot with title “Histogram of range01(sce$PC1_top500hvgs)”"
      ]
     },
     "metadata": {},
     "output_type": "display_data"
    }
   ],
   "source": [
    "options(repr.plot.width = 10, repr.plot.height = 4) \n",
    "hist(sce$PC1_top500hvgs)\n",
    "range01 <- function(x){(x-min(x))/(max(x)-min(x))}\n",
    "hist(range01(sce$PC1_top500hvgs))"
   ]
  },
  {
   "cell_type": "code",
   "execution_count": 44,
   "metadata": {},
   "outputs": [],
   "source": [
    "sce$forced_stage = \"not assigned\"\n",
    "# just assign all day0 cells to ips\n",
    "sce[,sce$day == \"day0\"]$forced_stage = \"ips\"\n",
    "# still based on not scale PC1, since those are the criteria used for eQTLs\n",
    "sce[,sce$PC1_top500hvgs  > -23 & sce$PC1_top500hvgs < 10 & sce$day %in% c(\"day1\",\"day2\")]$forced_stage = \"mesendo\"\n",
    "sce[,sce$PC1_top500hvgs  > 10 & sce$day %in% c(\"day2\",\"day3\")]$forced_stage = \"defendo\""
   ]
  },
  {
   "cell_type": "code",
   "execution_count": 45,
   "metadata": {},
   "outputs": [],
   "source": [
    "# sce.ips1 = sce[,sce$forced_stage == \"ips\"]\n",
    "sce.mesendo1 = sce[,sce$forced_stage == \"mesendo\"]\n",
    "sce.defendo1 = sce[,sce$forced_stage == \"defendo\"]"
   ]
  },
  {
   "cell_type": "code",
   "execution_count": 46,
   "metadata": {},
   "outputs": [
    {
     "data": {
      "text/html": [
       "15109"
      ],
      "text/latex": [
       "15109"
      ],
      "text/markdown": [
       "15109"
      ],
      "text/plain": [
       "[1] 15109"
      ]
     },
     "metadata": {},
     "output_type": "display_data"
    },
    {
     "data": {
      "text/html": [
       "117"
      ],
      "text/latex": [
       "117"
      ],
      "text/markdown": [
       "117"
      ],
      "text/plain": [
       "[1] 117"
      ]
     },
     "metadata": {},
     "output_type": "display_data"
    }
   ],
   "source": [
    "ncol(sce.defendo1)\n",
    "length(unique(sce.defendo1$donor_short_id))"
   ]
  },
  {
   "cell_type": "code",
   "execution_count": 47,
   "metadata": {},
   "outputs": [
    {
     "data": {
      "text/html": [
       "10420"
      ],
      "text/latex": [
       "10420"
      ],
      "text/markdown": [
       "10420"
      ],
      "text/plain": [
       "[1] 10420"
      ]
     },
     "metadata": {},
     "output_type": "display_data"
    },
    {
     "data": {
      "text/html": [
       "124"
      ],
      "text/latex": [
       "124"
      ],
      "text/markdown": [
       "124"
      ],
      "text/plain": [
       "[1] 124"
      ]
     },
     "metadata": {},
     "output_type": "display_data"
    }
   ],
   "source": [
    "ncol(sce.mesendo1)\n",
    "length(unique(sce.mesendo1$donor_short_id))"
   ]
  },
  {
   "cell_type": "code",
   "execution_count": 48,
   "metadata": {},
   "outputs": [],
   "source": [
    "sceset = sce.mesendo1\n",
    "mysce = sceset[,sceset$day == \"day1\"]\n",
    "mat = table(mysce$donor_short_id, mysce$experiment) \n",
    "ord = which(table(mysce$donor_short_id, mysce$experiment) > 0, arr.ind = T)\n",
    "l = c()\n",
    "for (i in 1:dim(ord)[1]){\n",
    "    l[i] <- paste0(rownames(mat)[ord[i,1]],\"-\",colnames(mat)[ord[i,2]])\n",
    "    }\n",
    "l1 = paste0(l,\"-day1\")\n",
    "mysce = sceset[,sceset$day == \"day2\"]\n",
    "mat = table(mysce$donor_short_id, mysce$experiment) \n",
    "ord = which(table(mysce$donor_short_id, mysce$experiment) > 0, arr.ind = T)\n",
    "l = c()\n",
    "for (i in 1:dim(ord)[1]){\n",
    "    l[i] <- paste0(rownames(mat)[ord[i,1]],\"-\",colnames(mat)[ord[i,2]])\n",
    "    }\n",
    "l2 = paste0(l,\"-day2\")\n",
    "l.mesendo1 <- c(l1,l2)"
   ]
  },
  {
   "cell_type": "code",
   "execution_count": 49,
   "metadata": {},
   "outputs": [],
   "source": [
    "sceset = sce.defendo1\n",
    "mysce = sceset[,sceset$day == \"day2\"]\n",
    "mat = table(mysce$donor_short_id, mysce$experiment) \n",
    "ord = which(table(mysce$donor_short_id, mysce$experiment) > 0, arr.ind = T)\n",
    "l = c()\n",
    "for (i in 1:dim(ord)[1]){\n",
    "    l[i] <- paste0(rownames(mat)[ord[i,1]],\"-\",colnames(mat)[ord[i,2]])\n",
    "    }\n",
    "l2 = paste0(l,\"-day2\")\n",
    "mysce = sceset[,sceset$day == \"day3\"]\n",
    "mat = table(mysce$donor_short_id, mysce$experiment) \n",
    "ord = which(table(mysce$donor_short_id, mysce$experiment) > 0, arr.ind = T)\n",
    "l = c()\n",
    "for (i in 1:dim(ord)[1]){\n",
    "    l[i] <- paste0(rownames(mat)[ord[i,1]],\"-\",colnames(mat)[ord[i,2]])\n",
    "    }\n",
    "l3 = paste0(l,\"-day3\")\n",
    "l.defendo1 <- c(l2,l3)"
   ]
  },
  {
   "cell_type": "code",
   "execution_count": 50,
   "metadata": {},
   "outputs": [
    {
     "data": {
      "text/html": [
       "233"
      ],
      "text/latex": [
       "233"
      ],
      "text/markdown": [
       "233"
      ],
      "text/plain": [
       "[1] 233"
      ]
     },
     "metadata": {},
     "output_type": "display_data"
    },
    {
     "data": {
      "text/html": [
       "242"
      ],
      "text/latex": [
       "242"
      ],
      "text/markdown": [
       "242"
      ],
      "text/plain": [
       "[1] 242"
      ]
     },
     "metadata": {},
     "output_type": "display_data"
    }
   ],
   "source": [
    "length(l.mesendo1)\n",
    "length(l.defendo1)"
   ]
  },
  {
   "cell_type": "code",
   "execution_count": 37,
   "metadata": {},
   "outputs": [],
   "source": [
    "get_means_byexpt <- function(sceset, ngenes, l){\n",
    "    n = length(l)\n",
    "    means <- matrix(0,nrow = ngenes, ncol = n)\n",
    "    for (i in 1:n){\n",
    "        don = gsub(\"*-.*\",\"\",l[i])\n",
    "        expt = gsub(\"*-.*\",\"\",gsub(\".*-e\",\"e\",l[i]))\n",
    "        day = gsub(\".*-\",\"\",l[i])\n",
    "        sc <- logcounts(sceset)[,sceset$donor_short_id == don & sceset$experiment == expt & sceset$day == day]\n",
    "        # print(length(sc))\n",
    "        if (length(sc) == nrow(sceset)) {means[,i] <- sc}\n",
    "        else {means[,i] <- rowMeans(sc)}\n",
    "    }\n",
    "    rownames(means) = rownames(sceset)\n",
    "    colnames(means) = l\n",
    "    means\n",
    "}"
   ]
  },
  {
   "cell_type": "code",
   "execution_count": 38,
   "metadata": {},
   "outputs": [],
   "source": [
    "m.mesendo1 = get_means_byexpt(sce.mesendo1, nrow(sce.mesendo1), l.mesendo1)"
   ]
  },
  {
   "cell_type": "code",
   "execution_count": 39,
   "metadata": {},
   "outputs": [
    {
     "data": {
      "text/html": [
       "<table>\n",
       "<thead><tr><th></th><th scope=col>fafq_1-expt_09-day1</th><th scope=col>hiaf_2-expt_09-day1</th><th scope=col>iisa_3-expt_09-day1</th><th scope=col>joxm_1-expt_09-day1</th><th scope=col>lexy_1-expt_09-day1</th></tr></thead>\n",
       "<tbody>\n",
       "\t<tr><th scope=row>ENSG00000000003_TSPAN6</th><td>5.7615358</td><td>5.561218 </td><td>5.4910210</td><td>5.859566 </td><td>5.9604903</td></tr>\n",
       "\t<tr><th scope=row>ENSG00000000419_DPM1</th><td>6.5092906</td><td>5.714651 </td><td>6.5671030</td><td>6.385494 </td><td>6.5926775</td></tr>\n",
       "\t<tr><th scope=row>ENSG00000000457_SCYL3</th><td>0.7210118</td><td>1.165083 </td><td>0.4922124</td><td>0.564786 </td><td>0.2898621</td></tr>\n",
       "\t<tr><th scope=row>ENSG00000000460_C1orf112</th><td>3.0668233</td><td>3.161389 </td><td>3.6761016</td><td>3.275137 </td><td>3.9518425</td></tr>\n",
       "\t<tr><th scope=row>ENSG00000001036_FUCA2</th><td>2.6229137</td><td>3.170704 </td><td>2.6636231</td><td>3.048088 </td><td>3.5199853</td></tr>\n",
       "</tbody>\n",
       "</table>\n"
      ],
      "text/latex": [
       "\\begin{tabular}{r|lllll}\n",
       "  & fafq\\_1-expt\\_09-day1 & hiaf\\_2-expt\\_09-day1 & iisa\\_3-expt\\_09-day1 & joxm\\_1-expt\\_09-day1 & lexy\\_1-expt\\_09-day1\\\\\n",
       "\\hline\n",
       "\tENSG00000000003\\_TSPAN6 & 5.7615358 & 5.561218  & 5.4910210 & 5.859566  & 5.9604903\\\\\n",
       "\tENSG00000000419\\_DPM1 & 6.5092906 & 5.714651  & 6.5671030 & 6.385494  & 6.5926775\\\\\n",
       "\tENSG00000000457\\_SCYL3 & 0.7210118 & 1.165083  & 0.4922124 & 0.564786  & 0.2898621\\\\\n",
       "\tENSG00000000460\\_C1orf112 & 3.0668233 & 3.161389  & 3.6761016 & 3.275137  & 3.9518425\\\\\n",
       "\tENSG00000001036\\_FUCA2 & 2.6229137 & 3.170704  & 2.6636231 & 3.048088  & 3.5199853\\\\\n",
       "\\end{tabular}\n"
      ],
      "text/markdown": [
       "\n",
       "| <!--/--> | fafq_1-expt_09-day1 | hiaf_2-expt_09-day1 | iisa_3-expt_09-day1 | joxm_1-expt_09-day1 | lexy_1-expt_09-day1 | \n",
       "|---|---|---|---|---|\n",
       "| ENSG00000000003_TSPAN6 | 5.7615358 | 5.561218  | 5.4910210 | 5.859566  | 5.9604903 | \n",
       "| ENSG00000000419_DPM1 | 6.5092906 | 5.714651  | 6.5671030 | 6.385494  | 6.5926775 | \n",
       "| ENSG00000000457_SCYL3 | 0.7210118 | 1.165083  | 0.4922124 | 0.564786  | 0.2898621 | \n",
       "| ENSG00000000460_C1orf112 | 3.0668233 | 3.161389  | 3.6761016 | 3.275137  | 3.9518425 | \n",
       "| ENSG00000001036_FUCA2 | 2.6229137 | 3.170704  | 2.6636231 | 3.048088  | 3.5199853 | \n",
       "\n",
       "\n"
      ],
      "text/plain": [
       "                         fafq_1-expt_09-day1 hiaf_2-expt_09-day1\n",
       "ENSG00000000003_TSPAN6   5.7615358           5.561218           \n",
       "ENSG00000000419_DPM1     6.5092906           5.714651           \n",
       "ENSG00000000457_SCYL3    0.7210118           1.165083           \n",
       "ENSG00000000460_C1orf112 3.0668233           3.161389           \n",
       "ENSG00000001036_FUCA2    2.6229137           3.170704           \n",
       "                         iisa_3-expt_09-day1 joxm_1-expt_09-day1\n",
       "ENSG00000000003_TSPAN6   5.4910210           5.859566           \n",
       "ENSG00000000419_DPM1     6.5671030           6.385494           \n",
       "ENSG00000000457_SCYL3    0.4922124           0.564786           \n",
       "ENSG00000000460_C1orf112 3.6761016           3.275137           \n",
       "ENSG00000001036_FUCA2    2.6636231           3.048088           \n",
       "                         lexy_1-expt_09-day1\n",
       "ENSG00000000003_TSPAN6   5.9604903          \n",
       "ENSG00000000419_DPM1     6.5926775          \n",
       "ENSG00000000457_SCYL3    0.2898621          \n",
       "ENSG00000000460_C1orf112 3.9518425          \n",
       "ENSG00000001036_FUCA2    3.5199853          "
      ]
     },
     "metadata": {},
     "output_type": "display_data"
    }
   ],
   "source": [
    "m.mesendo1[1:5,1:5]"
   ]
  },
  {
   "cell_type": "code",
   "execution_count": 40,
   "metadata": {},
   "outputs": [],
   "source": [
    "write.table(m.mesendo1, \"/hps/nobackup/stegle/users/acuomo/all_scripts/sc_endodiff/eQTL_mapping/input_files/forced_mesendo_pheno.txt\", sep = \"\\t\", quote = F, col.names = NA)"
   ]
  },
  {
   "cell_type": "code",
   "execution_count": 42,
   "metadata": {},
   "outputs": [
    {
     "data": {
      "text/html": [
       "<table>\n",
       "<thead><tr><th></th><th scope=col>PC1</th><th scope=col>PC2</th><th scope=col>PC3</th><th scope=col>PC4</th><th scope=col>PC5</th><th scope=col>PC6</th><th scope=col>PC7</th><th scope=col>PC8</th><th scope=col>PC9</th><th scope=col>PC10</th></tr></thead>\n",
       "<tbody>\n",
       "\t<tr><th scope=row>fafq_1-expt_09-day1</th><td> -8.754445</td><td>11.1769432</td><td>-26.38612 </td><td>6.706494  </td><td>-10.67095 </td><td> 1.871586 </td><td>-5.821928 </td><td> 1.221116 </td><td>-4.697190 </td><td>6.889453  </td></tr>\n",
       "\t<tr><th scope=row>hiaf_2-expt_09-day1</th><td>-13.413721</td><td> 0.1536573</td><td>-22.67356 </td><td>7.412914  </td><td>-13.21199 </td><td>10.512984 </td><td>-8.448057 </td><td>-5.405259 </td><td>-2.003986 </td><td>3.795115  </td></tr>\n",
       "</tbody>\n",
       "</table>\n"
      ],
      "text/latex": [
       "\\begin{tabular}{r|llllllllll}\n",
       "  & PC1 & PC2 & PC3 & PC4 & PC5 & PC6 & PC7 & PC8 & PC9 & PC10\\\\\n",
       "\\hline\n",
       "\tfafq\\_1-expt\\_09-day1 &  -8.754445 & 11.1769432 & -26.38612  & 6.706494   & -10.67095  &  1.871586  & -5.821928  &  1.221116  & -4.697190  & 6.889453  \\\\\n",
       "\thiaf\\_2-expt\\_09-day1 & -13.413721 &  0.1536573 & -22.67356  & 7.412914   & -13.21199  & 10.512984  & -8.448057  & -5.405259  & -2.003986  & 3.795115  \\\\\n",
       "\\end{tabular}\n"
      ],
      "text/markdown": [
       "\n",
       "| <!--/--> | PC1 | PC2 | PC3 | PC4 | PC5 | PC6 | PC7 | PC8 | PC9 | PC10 | \n",
       "|---|---|\n",
       "| fafq_1-expt_09-day1 |  -8.754445 | 11.1769432 | -26.38612  | 6.706494   | -10.67095  |  1.871586  | -5.821928  |  1.221116  | -4.697190  | 6.889453   | \n",
       "| hiaf_2-expt_09-day1 | -13.413721 |  0.1536573 | -22.67356  | 7.412914   | -13.21199  | 10.512984  | -8.448057  | -5.405259  | -2.003986  | 3.795115   | \n",
       "\n",
       "\n"
      ],
      "text/plain": [
       "                    PC1        PC2        PC3       PC4      PC5      \n",
       "fafq_1-expt_09-day1  -8.754445 11.1769432 -26.38612 6.706494 -10.67095\n",
       "hiaf_2-expt_09-day1 -13.413721  0.1536573 -22.67356 7.412914 -13.21199\n",
       "                    PC6       PC7       PC8       PC9       PC10    \n",
       "fafq_1-expt_09-day1  1.871586 -5.821928  1.221116 -4.697190 6.889453\n",
       "hiaf_2-expt_09-day1 10.512984 -8.448057 -5.405259 -2.003986 3.795115"
      ]
     },
     "metadata": {},
     "output_type": "display_data"
    }
   ],
   "source": [
    "pcs.mesendo1 = prcomp(t(m.mesendo1))$x[,1:10]\n",
    "head(pcs.mesendo1,2)\n",
    "write.table(pcs.mesendo1, \"/hps/nobackup/stegle/users/acuomo/all_scripts/sc_endodiff/eQTL_mapping/input_files/forced_mesendo_covs_10pcs.txt\", sep = \"\\t\", quote = F, col.names = NA)"
   ]
  },
  {
   "cell_type": "code",
   "execution_count": 44,
   "metadata": {},
   "outputs": [
    {
     "data": {
      "text/html": [
       "<table>\n",
       "<tbody>\n",
       "\t<tr><td>HPSI0314i-fafq_1   </td><td>fafq_1-expt_09-day1</td></tr>\n",
       "\t<tr><td>HPSI1013i-hiaf_2   </td><td>hiaf_2-expt_09-day1</td></tr>\n",
       "</tbody>\n",
       "</table>\n"
      ],
      "text/latex": [
       "\\begin{tabular}{r|ll}\n",
       "\t HPSI0314i-fafq\\_1      & fafq\\_1-expt\\_09-day1\\\\\n",
       "\t HPSI1013i-hiaf\\_2      & hiaf\\_2-expt\\_09-day1\\\\\n",
       "\\end{tabular}\n"
      ],
      "text/markdown": [
       "\n",
       "| HPSI0314i-fafq_1    | fafq_1-expt_09-day1 | \n",
       "| HPSI1013i-hiaf_2    | hiaf_2-expt_09-day1 | \n",
       "\n",
       "\n"
      ],
      "text/plain": [
       "  [,1]             [,2]               \n",
       "1 HPSI0314i-fafq_1 fafq_1-expt_09-day1\n",
       "2 HPSI1013i-hiaf_2 hiaf_2-expt_09-day1"
      ]
     },
     "metadata": {},
     "output_type": "display_data"
    }
   ],
   "source": [
    "smf.mesendo1 = make_sample_mapping(m.mesendo1, sce.mesendo1)\n",
    "head(smf.mesendo1,2)\n",
    "write.table(smf.mesendo1, \"/hps/nobackup/stegle/users/acuomo/all_scripts/sc_endodiff/eQTL_mapping/input_files/forced_mesendo_smf.txt\", sep = \"\\t\", quote = F, row.names = F, col.names = F)"
   ]
  },
  {
   "cell_type": "code",
   "execution_count": 45,
   "metadata": {},
   "outputs": [],
   "source": [
    "m.defendo1 = get_means_byexpt(sce.defendo1, nrow(sce.defendo1), l.defendo1)"
   ]
  },
  {
   "cell_type": "code",
   "execution_count": 46,
   "metadata": {},
   "outputs": [
    {
     "data": {
      "text/html": [
       "<table>\n",
       "<thead><tr><th></th><th scope=col>dixh_2-expt_21-day2</th><th scope=col>fawm_2-expt_21-day2</th><th scope=col>koqx_1-expt_21-day2</th><th scope=col>naju_1-expt_21-day2</th><th scope=col>oebj_1-expt_21-day2</th></tr></thead>\n",
       "<tbody>\n",
       "\t<tr><th scope=row>ENSG00000000003_TSPAN6</th><td>4.2274143</td><td>4.168063 </td><td>3.8189090</td><td>4.4201077</td><td>3.840111 </td></tr>\n",
       "\t<tr><th scope=row>ENSG00000000419_DPM1</th><td>3.6809596</td><td>3.842825 </td><td>4.0565865</td><td>4.2165829</td><td>4.212424 </td></tr>\n",
       "\t<tr><th scope=row>ENSG00000000457_SCYL3</th><td>0.6357458</td><td>0.813654 </td><td>0.4344262</td><td>0.1440102</td><td>1.383384 </td></tr>\n",
       "\t<tr><th scope=row>ENSG00000000460_C1orf112</th><td>1.6622016</td><td>1.983940 </td><td>2.4881546</td><td>2.0862696</td><td>2.797275 </td></tr>\n",
       "\t<tr><th scope=row>ENSG00000001036_FUCA2</th><td>2.2192760</td><td>3.007631 </td><td>2.8979089</td><td>1.4821022</td><td>1.488293 </td></tr>\n",
       "</tbody>\n",
       "</table>\n"
      ],
      "text/latex": [
       "\\begin{tabular}{r|lllll}\n",
       "  & dixh\\_2-expt\\_21-day2 & fawm\\_2-expt\\_21-day2 & koqx\\_1-expt\\_21-day2 & naju\\_1-expt\\_21-day2 & oebj\\_1-expt\\_21-day2\\\\\n",
       "\\hline\n",
       "\tENSG00000000003\\_TSPAN6 & 4.2274143 & 4.168063  & 3.8189090 & 4.4201077 & 3.840111 \\\\\n",
       "\tENSG00000000419\\_DPM1 & 3.6809596 & 3.842825  & 4.0565865 & 4.2165829 & 4.212424 \\\\\n",
       "\tENSG00000000457\\_SCYL3 & 0.6357458 & 0.813654  & 0.4344262 & 0.1440102 & 1.383384 \\\\\n",
       "\tENSG00000000460\\_C1orf112 & 1.6622016 & 1.983940  & 2.4881546 & 2.0862696 & 2.797275 \\\\\n",
       "\tENSG00000001036\\_FUCA2 & 2.2192760 & 3.007631  & 2.8979089 & 1.4821022 & 1.488293 \\\\\n",
       "\\end{tabular}\n"
      ],
      "text/markdown": [
       "\n",
       "| <!--/--> | dixh_2-expt_21-day2 | fawm_2-expt_21-day2 | koqx_1-expt_21-day2 | naju_1-expt_21-day2 | oebj_1-expt_21-day2 | \n",
       "|---|---|---|---|---|\n",
       "| ENSG00000000003_TSPAN6 | 4.2274143 | 4.168063  | 3.8189090 | 4.4201077 | 3.840111  | \n",
       "| ENSG00000000419_DPM1 | 3.6809596 | 3.842825  | 4.0565865 | 4.2165829 | 4.212424  | \n",
       "| ENSG00000000457_SCYL3 | 0.6357458 | 0.813654  | 0.4344262 | 0.1440102 | 1.383384  | \n",
       "| ENSG00000000460_C1orf112 | 1.6622016 | 1.983940  | 2.4881546 | 2.0862696 | 2.797275  | \n",
       "| ENSG00000001036_FUCA2 | 2.2192760 | 3.007631  | 2.8979089 | 1.4821022 | 1.488293  | \n",
       "\n",
       "\n"
      ],
      "text/plain": [
       "                         dixh_2-expt_21-day2 fawm_2-expt_21-day2\n",
       "ENSG00000000003_TSPAN6   4.2274143           4.168063           \n",
       "ENSG00000000419_DPM1     3.6809596           3.842825           \n",
       "ENSG00000000457_SCYL3    0.6357458           0.813654           \n",
       "ENSG00000000460_C1orf112 1.6622016           1.983940           \n",
       "ENSG00000001036_FUCA2    2.2192760           3.007631           \n",
       "                         koqx_1-expt_21-day2 naju_1-expt_21-day2\n",
       "ENSG00000000003_TSPAN6   3.8189090           4.4201077          \n",
       "ENSG00000000419_DPM1     4.0565865           4.2165829          \n",
       "ENSG00000000457_SCYL3    0.4344262           0.1440102          \n",
       "ENSG00000000460_C1orf112 2.4881546           2.0862696          \n",
       "ENSG00000001036_FUCA2    2.8979089           1.4821022          \n",
       "                         oebj_1-expt_21-day2\n",
       "ENSG00000000003_TSPAN6   3.840111           \n",
       "ENSG00000000419_DPM1     4.212424           \n",
       "ENSG00000000457_SCYL3    1.383384           \n",
       "ENSG00000000460_C1orf112 2.797275           \n",
       "ENSG00000001036_FUCA2    1.488293           "
      ]
     },
     "metadata": {},
     "output_type": "display_data"
    }
   ],
   "source": [
    "m.defendo1[1:5,1:5]"
   ]
  },
  {
   "cell_type": "code",
   "execution_count": 47,
   "metadata": {},
   "outputs": [],
   "source": [
    "write.table(m.defendo1, \"/hps/nobackup/stegle/users/acuomo/all_scripts/sc_endodiff/eQTL_mapping/input_files/forced_defendo_pheno.txt\", sep = \"\\t\", quote = F, col.names = NA)"
   ]
  },
  {
   "cell_type": "code",
   "execution_count": 49,
   "metadata": {},
   "outputs": [
    {
     "data": {
      "text/html": [
       "<table>\n",
       "<thead><tr><th></th><th scope=col>PC1</th><th scope=col>PC2</th><th scope=col>PC3</th><th scope=col>PC4</th><th scope=col>PC5</th><th scope=col>PC6</th><th scope=col>PC7</th><th scope=col>PC8</th><th scope=col>PC9</th><th scope=col>PC10</th></tr></thead>\n",
       "<tbody>\n",
       "\t<tr><th scope=row>dixh_2-expt_21-day2</th><td>-43.25272 </td><td>-33.01221 </td><td>5.082762  </td><td>-3.361614 </td><td>25.56336  </td><td>-1.5513061</td><td>2.0340405 </td><td>-2.72664  </td><td> 4.286802 </td><td>-0.5388399</td></tr>\n",
       "\t<tr><th scope=row>fawm_2-expt_21-day2</th><td>-40.23332 </td><td>-34.13291 </td><td>1.507649  </td><td>-3.186543 </td><td>28.08053  </td><td>-0.6407226</td><td>0.1882597 </td><td>-4.95003  </td><td>10.338798 </td><td>-0.3082457</td></tr>\n",
       "</tbody>\n",
       "</table>\n"
      ],
      "text/latex": [
       "\\begin{tabular}{r|llllllllll}\n",
       "  & PC1 & PC2 & PC3 & PC4 & PC5 & PC6 & PC7 & PC8 & PC9 & PC10\\\\\n",
       "\\hline\n",
       "\tdixh\\_2-expt\\_21-day2 & -43.25272  & -33.01221  & 5.082762   & -3.361614  & 25.56336   & -1.5513061 & 2.0340405  & -2.72664   &  4.286802  & -0.5388399\\\\\n",
       "\tfawm\\_2-expt\\_21-day2 & -40.23332  & -34.13291  & 1.507649   & -3.186543  & 28.08053   & -0.6407226 & 0.1882597  & -4.95003   & 10.338798  & -0.3082457\\\\\n",
       "\\end{tabular}\n"
      ],
      "text/markdown": [
       "\n",
       "| <!--/--> | PC1 | PC2 | PC3 | PC4 | PC5 | PC6 | PC7 | PC8 | PC9 | PC10 | \n",
       "|---|---|\n",
       "| dixh_2-expt_21-day2 | -43.25272  | -33.01221  | 5.082762   | -3.361614  | 25.56336   | -1.5513061 | 2.0340405  | -2.72664   |  4.286802  | -0.5388399 | \n",
       "| fawm_2-expt_21-day2 | -40.23332  | -34.13291  | 1.507649   | -3.186543  | 28.08053   | -0.6407226 | 0.1882597  | -4.95003   | 10.338798  | -0.3082457 | \n",
       "\n",
       "\n"
      ],
      "text/plain": [
       "                    PC1       PC2       PC3      PC4       PC5      PC6       \n",
       "dixh_2-expt_21-day2 -43.25272 -33.01221 5.082762 -3.361614 25.56336 -1.5513061\n",
       "fawm_2-expt_21-day2 -40.23332 -34.13291 1.507649 -3.186543 28.08053 -0.6407226\n",
       "                    PC7       PC8      PC9       PC10      \n",
       "dixh_2-expt_21-day2 2.0340405 -2.72664  4.286802 -0.5388399\n",
       "fawm_2-expt_21-day2 0.1882597 -4.95003 10.338798 -0.3082457"
      ]
     },
     "metadata": {},
     "output_type": "display_data"
    }
   ],
   "source": [
    "pcs.defendo1 = prcomp(t(m.defendo1))$x[,1:10]\n",
    "head(pcs.defendo1,2)\n",
    "write.table(pcs.defendo1, \"/hps/nobackup/stegle/users/acuomo/all_scripts/sc_endodiff/eQTL_mapping/input_files/forced_defendo_covs_10pcs.txt\", sep = \"\\t\", quote = F, col.names = NA)"
   ]
  },
  {
   "cell_type": "code",
   "execution_count": 51,
   "metadata": {},
   "outputs": [
    {
     "data": {
      "text/html": [
       "<table>\n",
       "<tbody>\n",
       "\t<tr><td>HPSI0614i-dixh_2   </td><td>dixh_2-expt_21-day2</td></tr>\n",
       "\t<tr><td>HPSI0215i-fawm_2   </td><td>fawm_2-expt_21-day2</td></tr>\n",
       "</tbody>\n",
       "</table>\n"
      ],
      "text/latex": [
       "\\begin{tabular}{r|ll}\n",
       "\t HPSI0614i-dixh\\_2      & dixh\\_2-expt\\_21-day2\\\\\n",
       "\t HPSI0215i-fawm\\_2      & fawm\\_2-expt\\_21-day2\\\\\n",
       "\\end{tabular}\n"
      ],
      "text/markdown": [
       "\n",
       "| HPSI0614i-dixh_2    | dixh_2-expt_21-day2 | \n",
       "| HPSI0215i-fawm_2    | fawm_2-expt_21-day2 | \n",
       "\n",
       "\n"
      ],
      "text/plain": [
       "  [,1]             [,2]               \n",
       "1 HPSI0614i-dixh_2 dixh_2-expt_21-day2\n",
       "2 HPSI0215i-fawm_2 fawm_2-expt_21-day2"
      ]
     },
     "metadata": {},
     "output_type": "display_data"
    }
   ],
   "source": [
    "smf.defendo1 = make_sample_mapping(m.defendo1, sce.defendo1)\n",
    "head(smf.defendo1,2)\n",
    "write.table(smf.defendo1, \"/hps/nobackup/stegle/users/acuomo/all_scripts/sc_endodiff/eQTL_mapping/input_files/forced_defendo_smf.txt\", sep = \"\\t\", quote = F, row.names = F, col.names = F)"
   ]
  },
  {
   "cell_type": "code",
   "execution_count": null,
   "metadata": {},
   "outputs": [],
   "source": []
  },
  {
   "cell_type": "code",
   "execution_count": null,
   "metadata": {},
   "outputs": [],
   "source": [
    "###########################"
   ]
  },
  {
   "cell_type": "code",
   "execution_count": 53,
   "metadata": {},
   "outputs": [
    {
     "data": {
      "text/html": [
       "<table>\n",
       "<thead><tr><th scope=col>snp_id</th><th scope=col>p_value</th><th scope=col>beta</th><th scope=col>beta_se</th><th scope=col>empirical_feature_p_value</th><th scope=col>feature_chromosome</th><th scope=col>feature_start</th><th scope=col>feature_end</th><th scope=col>hgnc_symbol</th><th scope=col>combined_feature_id</th><th scope=col>⋯</th><th scope=col>n_e_samples</th><th scope=col>alpha_param</th><th scope=col>beta_param</th><th scope=col>snp_chromosome</th><th scope=col>snp_position</th><th scope=col>assessed_allele</th><th scope=col>call_rate</th><th scope=col>maf</th><th scope=col>hwe_p</th><th scope=col>feature_id</th></tr></thead>\n",
       "<tbody>\n",
       "\t<tr><td>16_27888526_A_G         </td><td>0.004967102             </td><td>-0.2061577              </td><td>0.07338767              </td><td>0.3689214               </td><td>16                      </td><td>27561454                </td><td>27791690                </td><td>KIAA0556                </td><td>ENSG00000047578_KIAA0556</td><td>⋯                       </td><td>313                     </td><td>0.6535303               </td><td>42.28380                </td><td>16                      </td><td>27888526                </td><td>G                       </td><td>1                       </td><td>0.4153355               </td><td>0.02013158              </td><td>ENSG00000047578_KIAA0556</td></tr>\n",
       "\t<tr><td>16_27386394_C_G         </td><td>0.001861055             </td><td> 0.2505596              </td><td>0.08052554              </td><td>0.1552558               </td><td>16                      </td><td>27470876                </td><td>27561234                </td><td>GTF3C1                  </td><td>ENSG00000077235_GTF3C1  </td><td>⋯                       </td><td>313                     </td><td>0.6540541               </td><td>39.12358                </td><td>16                      </td><td>27386394                </td><td>G                       </td><td>1                       </td><td>0.2939297               </td><td>0.89166791              </td><td>ENSG00000077235_GTF3C1  </td></tr>\n",
       "</tbody>\n",
       "</table>\n"
      ],
      "text/latex": [
       "\\begin{tabular}{r|llllllllllllllllllllll}\n",
       " snp\\_id & p\\_value & beta & beta\\_se & empirical\\_feature\\_p\\_value & feature\\_chromosome & feature\\_start & feature\\_end & hgnc\\_symbol & combined\\_feature\\_id & ⋯ & n\\_e\\_samples & alpha\\_param & beta\\_param & snp\\_chromosome & snp\\_position & assessed\\_allele & call\\_rate & maf & hwe\\_p & feature\\_id\\\\\n",
       "\\hline\n",
       "\t 16\\_27888526\\_A\\_G      & 0.004967102                & -0.2061577                 & 0.07338767                 & 0.3689214                  & 16                         & 27561454                   & 27791690                   & KIAA0556                   & ENSG00000047578\\_KIAA0556 & ⋯                          & 313                        & 0.6535303                  & 42.28380                   & 16                         & 27888526                   & G                          & 1                          & 0.4153355                  & 0.02013158                 & ENSG00000047578\\_KIAA0556\\\\\n",
       "\t 16\\_27386394\\_C\\_G      & 0.001861055                &  0.2505596                 & 0.08052554                 & 0.1552558                  & 16                         & 27470876                   & 27561234                   & GTF3C1                     & ENSG00000077235\\_GTF3C1   & ⋯                          & 313                        & 0.6540541                  & 39.12358                   & 16                         & 27386394                   & G                          & 1                          & 0.2939297                  & 0.89166791                 & ENSG00000077235\\_GTF3C1  \\\\\n",
       "\\end{tabular}\n"
      ],
      "text/markdown": [
       "\n",
       "snp_id | p_value | beta | beta_se | empirical_feature_p_value | feature_chromosome | feature_start | feature_end | hgnc_symbol | combined_feature_id | ⋯ | n_e_samples | alpha_param | beta_param | snp_chromosome | snp_position | assessed_allele | call_rate | maf | hwe_p | feature_id | \n",
       "|---|---|\n",
       "| 16_27888526_A_G          | 0.004967102              | -0.2061577               | 0.07338767               | 0.3689214                | 16                       | 27561454                 | 27791690                 | KIAA0556                 | ENSG00000047578_KIAA0556 | ⋯                        | 313                      | 0.6535303                | 42.28380                 | 16                       | 27888526                 | G                        | 1                        | 0.4153355                | 0.02013158               | ENSG00000047578_KIAA0556 | \n",
       "| 16_27386394_C_G          | 0.001861055              |  0.2505596               | 0.08052554               | 0.1552558                | 16                       | 27470876                 | 27561234                 | GTF3C1                   | ENSG00000077235_GTF3C1   | ⋯                        | 313                      | 0.6540541                | 39.12358                 | 16                       | 27386394                 | G                        | 1                        | 0.2939297                | 0.89166791               | ENSG00000077235_GTF3C1   | \n",
       "\n",
       "\n"
      ],
      "text/plain": [
       "  snp_id          p_value     beta       beta_se    empirical_feature_p_value\n",
       "1 16_27888526_A_G 0.004967102 -0.2061577 0.07338767 0.3689214                \n",
       "2 16_27386394_C_G 0.001861055  0.2505596 0.08052554 0.1552558                \n",
       "  feature_chromosome feature_start feature_end hgnc_symbol\n",
       "1 16                 27561454      27791690    KIAA0556   \n",
       "2 16                 27470876      27561234    GTF3C1     \n",
       "  combined_feature_id      ⋯ n_e_samples alpha_param beta_param snp_chromosome\n",
       "1 ENSG00000047578_KIAA0556 ⋯ 313         0.6535303   42.28380   16            \n",
       "2 ENSG00000077235_GTF3C1   ⋯ 313         0.6540541   39.12358   16            \n",
       "  snp_position assessed_allele call_rate maf       hwe_p     \n",
       "1 27888526     G               1         0.4153355 0.02013158\n",
       "2 27386394     G               1         0.2939297 0.89166791\n",
       "  feature_id              \n",
       "1 ENSG00000047578_KIAA0556\n",
       "2 ENSG00000077235_GTF3C1  "
      ]
     },
     "metadata": {},
     "output_type": "display_data"
    }
   ],
   "source": [
    "transit.file = \"/hps/nobackup/stegle/users/acuomo/all_scripts/sc_endodiff/eQTL_mapping/output_files/transitioning/top_qtl_results_all.txt\"\n",
    "transit.leads = read.csv(transit.file, sep = \"\\t\")\n",
    "head(transit.leads,2)"
   ]
  },
  {
   "cell_type": "code",
   "execution_count": 60,
   "metadata": {},
   "outputs": [
    {
     "data": {
      "text/html": [
       "10924"
      ],
      "text/latex": [
       "10924"
      ],
      "text/markdown": [
       "10924"
      ],
      "text/plain": [
       "[1] 10924"
      ]
     },
     "metadata": {},
     "output_type": "display_data"
    },
    {
     "data": {
      "text/html": [
       "227"
      ],
      "text/latex": [
       "227"
      ],
      "text/markdown": [
       "227"
      ],
      "text/plain": [
       "[1] 227"
      ]
     },
     "metadata": {},
     "output_type": "display_data"
    }
   ],
   "source": [
    "transit.leads$global_corr_p_value = qvalue(transit.leads$empirical_feature_p_value)$qvalues\n",
    "nrow(transit.leads)\n",
    "nrow(transit.leads[transit.leads$global_corr_p_value < 0.1,])"
   ]
  },
  {
   "cell_type": "code",
   "execution_count": 60,
   "metadata": {},
   "outputs": [
    {
     "data": {
      "text/html": [
       "<table>\n",
       "<caption>A data.frame: 2 × 22</caption>\n",
       "<thead>\n",
       "\t<tr><th scope=col>snp_id</th><th scope=col>p_value</th><th scope=col>beta</th><th scope=col>beta_se</th><th scope=col>empirical_feature_p_value</th><th scope=col>feature_chromosome</th><th scope=col>feature_start</th><th scope=col>feature_end</th><th scope=col>hgnc_symbol</th><th scope=col>combined_feature_id</th><th scope=col>⋯</th><th scope=col>n_e_samples</th><th scope=col>alpha_param</th><th scope=col>beta_param</th><th scope=col>snp_chromosome</th><th scope=col>snp_position</th><th scope=col>assessed_allele</th><th scope=col>call_rate</th><th scope=col>maf</th><th scope=col>hwe_p</th><th scope=col>feature_id</th></tr>\n",
       "\t<tr><th scope=col>&lt;chr&gt;</th><th scope=col>&lt;dbl&gt;</th><th scope=col>&lt;dbl&gt;</th><th scope=col>&lt;dbl&gt;</th><th scope=col>&lt;dbl&gt;</th><th scope=col>&lt;int&gt;</th><th scope=col>&lt;int&gt;</th><th scope=col>&lt;int&gt;</th><th scope=col>&lt;chr&gt;</th><th scope=col>&lt;chr&gt;</th><th scope=col>⋯</th><th scope=col>&lt;int&gt;</th><th scope=col>&lt;dbl&gt;</th><th scope=col>&lt;dbl&gt;</th><th scope=col>&lt;int&gt;</th><th scope=col>&lt;int&gt;</th><th scope=col>&lt;chr&gt;</th><th scope=col>&lt;dbl&gt;</th><th scope=col>&lt;dbl&gt;</th><th scope=col>&lt;dbl&gt;</th><th scope=col>&lt;chr&gt;</th></tr>\n",
       "</thead>\n",
       "<tbody>\n",
       "\t<tr><td>16_27835727_G_A</td><td>0.006547968</td><td>0.4674537</td><td>0.1719212</td><td>0.4483196</td><td>16</td><td>27561454</td><td>27791690</td><td>KIAA0556</td><td>ENSG00000047578_KIAA0556</td><td>⋯</td><td>233</td><td>0.6568355</td><td>42.65404</td><td>16</td><td>27835727</td><td>A</td><td>1</td><td>0.0751073</td><td>1.0000000</td><td>ENSG00000047578_KIAA0556</td></tr>\n",
       "\t<tr><td>16_27429332_A_T</td><td>0.041004790</td><td>0.2366723</td><td>0.1158182</td><td>0.8876056</td><td>16</td><td>27470876</td><td>27561234</td><td>GTF3C1  </td><td>ENSG00000077235_GTF3C1  </td><td>⋯</td><td>233</td><td>0.6746675</td><td>38.51057</td><td>16</td><td>27429332</td><td>T</td><td>1</td><td>0.1094421</td><td>0.4931177</td><td>ENSG00000077235_GTF3C1  </td></tr>\n",
       "</tbody>\n",
       "</table>\n"
      ],
      "text/latex": [
       "A data.frame: 2 × 22\n",
       "\\begin{tabular}{r|llllllllllllllllllllll}\n",
       " snp\\_id & p\\_value & beta & beta\\_se & empirical\\_feature\\_p\\_value & feature\\_chromosome & feature\\_start & feature\\_end & hgnc\\_symbol & combined\\_feature\\_id & ensembl\\_gene\\_id & n\\_samples & n\\_e\\_samples & alpha\\_param & beta\\_param & snp\\_chromosome & snp\\_position & assessed\\_allele & call\\_rate & maf & hwe\\_p & feature\\_id\\\\\n",
       " <chr> & <dbl> & <dbl> & <dbl> & <dbl> & <int> & <int> & <int> & <chr> & <chr> & <chr> & <int> & <int> & <dbl> & <dbl> & <int> & <int> & <chr> & <dbl> & <dbl> & <dbl> & <chr>\\\\\n",
       "\\hline\n",
       "\t 16\\_27835727\\_G\\_A & 0.006547968 & 0.4674537 & 0.1719212 & 0.4483196 & 16 & 27561454 & 27791690 & KIAA0556 & ENSG00000047578\\_KIAA0556 & ENSG00000047578 & 233 & 233 & 0.6568355 & 42.65404 & 16 & 27835727 & A & 1 & 0.0751073 & 1.0000000 & ENSG00000047578\\_KIAA0556\\\\\n",
       "\t 16\\_27429332\\_A\\_T & 0.041004790 & 0.2366723 & 0.1158182 & 0.8876056 & 16 & 27470876 & 27561234 & GTF3C1   & ENSG00000077235\\_GTF3C1   & ENSG00000077235 & 233 & 233 & 0.6746675 & 38.51057 & 16 & 27429332 & T & 1 & 0.1094421 & 0.4931177 & ENSG00000077235\\_GTF3C1  \\\\\n",
       "\\end{tabular}\n"
      ],
      "text/markdown": [
       "\n",
       "A data.frame: 2 × 22\n",
       "\n",
       "| snp_id &lt;chr&gt; | p_value &lt;dbl&gt; | beta &lt;dbl&gt; | beta_se &lt;dbl&gt; | empirical_feature_p_value &lt;dbl&gt; | feature_chromosome &lt;int&gt; | feature_start &lt;int&gt; | feature_end &lt;int&gt; | hgnc_symbol &lt;chr&gt; | combined_feature_id &lt;chr&gt; | ⋯ ⋯ | n_e_samples &lt;int&gt; | alpha_param &lt;dbl&gt; | beta_param &lt;dbl&gt; | snp_chromosome &lt;int&gt; | snp_position &lt;int&gt; | assessed_allele &lt;chr&gt; | call_rate &lt;dbl&gt; | maf &lt;dbl&gt; | hwe_p &lt;dbl&gt; | feature_id &lt;chr&gt; |\n",
       "|---|---|---|---|---|---|---|---|---|---|---|---|---|---|---|---|---|---|---|---|---|\n",
       "| 16_27835727_G_A | 0.006547968 | 0.4674537 | 0.1719212 | 0.4483196 | 16 | 27561454 | 27791690 | KIAA0556 | ENSG00000047578_KIAA0556 | ⋯ | 233 | 0.6568355 | 42.65404 | 16 | 27835727 | A | 1 | 0.0751073 | 1.0000000 | ENSG00000047578_KIAA0556 |\n",
       "| 16_27429332_A_T | 0.041004790 | 0.2366723 | 0.1158182 | 0.8876056 | 16 | 27470876 | 27561234 | GTF3C1   | ENSG00000077235_GTF3C1   | ⋯ | 233 | 0.6746675 | 38.51057 | 16 | 27429332 | T | 1 | 0.1094421 | 0.4931177 | ENSG00000077235_GTF3C1   |\n",
       "\n"
      ],
      "text/plain": [
       "  snp_id          p_value     beta      beta_se   empirical_feature_p_value\n",
       "1 16_27835727_G_A 0.006547968 0.4674537 0.1719212 0.4483196                \n",
       "2 16_27429332_A_T 0.041004790 0.2366723 0.1158182 0.8876056                \n",
       "  feature_chromosome feature_start feature_end hgnc_symbol\n",
       "1 16                 27561454      27791690    KIAA0556   \n",
       "2 16                 27470876      27561234    GTF3C1     \n",
       "  combined_feature_id      ⋯ n_e_samples alpha_param beta_param snp_chromosome\n",
       "1 ENSG00000047578_KIAA0556 ⋯ 233         0.6568355   42.65404   16            \n",
       "2 ENSG00000077235_GTF3C1   ⋯ 233         0.6746675   38.51057   16            \n",
       "  snp_position assessed_allele call_rate maf       hwe_p    \n",
       "1 27835727     A               1         0.0751073 1.0000000\n",
       "2 27429332     T               1         0.1094421 0.4931177\n",
       "  feature_id              \n",
       "1 ENSG00000047578_KIAA0556\n",
       "2 ENSG00000077235_GTF3C1  "
      ]
     },
     "metadata": {},
     "output_type": "display_data"
    }
   ],
   "source": [
    "mesendo1.file = \"/hps/nobackup/stegle/users/acuomo/all_scripts/sc_endodiff/eQTL_mapping/output_files/forced_mesendo/top_qtl_results_all.txt\"\n",
    "mesendo1.leads = read.csv(mesendo1.file, sep = \"\\t\")\n",
    "head(mesendo1.leads,2)"
   ]
  },
  {
   "cell_type": "code",
   "execution_count": 23,
   "metadata": {},
   "outputs": [],
   "source": [
    "H5close()"
   ]
  },
  {
   "cell_type": "code",
   "execution_count": 43,
   "metadata": {},
   "outputs": [],
   "source": [
    "GetTopResults <- function(results.folder, multiple.testing.global = \"ST\") {\n",
    "  observed.features <- 0\n",
    "  results <- NULL\n",
    "  files.to.read <- list.files(results.folder,pattern = \"qtl_results.*h5\", full.names = T)\n",
    "#      print(files.to.read)\n",
    "    for ( i in files.to.read ) {\n",
    "#     print(i)\n",
    "        H5close()\n",
    "    tmp <- h5dump(i)\n",
    "    if ( length(tmp) > 0 ) {\n",
    "      for ( j in names(tmp) ) { tmp[[j]][[\"feature\"]] <- j }\n",
    "      observed.features = observed.features + length(tmp)\n",
    "      df <- bind_rows(tmp)\n",
    " #   print (head(df))\n",
    "      if ( nrow(df) > 0 ) { \n",
    "          df <- df[,!(colnames(df) %in% c(\"group\",\"name\", \"otype\", \"dclass\",  \"dim\"))]\n",
    "          results = rbind(results,df) }\n",
    "    }\n",
    "  }\n",
    "  H5close()\n",
    "  if ( length(which(is.na(results$empirical_feature_p_value))) != 0 ) {\n",
    "    results <- results[-which(is.na(results$empirical_feature_p_value)),]\n",
    "  }\n",
    "  ##Multiple testing\n",
    "  if ( multiple.testing.global == \"ST\" ) {\n",
    "    results <- results[order(results$empirical_feature_p_value, results$p_value ),]\n",
    "    #get best SNP per feature\n",
    "    results <- results[-which(duplicated(results$feature)),]\n",
    "    \n",
    "    results[\"global_corr_p_value\"] <- qvalue(results$empirical_feature_p_value)$qvalues\n",
    "      \n",
    "  } else if ( multiple.testing.global == \"BF\" ) {\n",
    "    results[\"global_corr_p_value\"] <- results$empirical_feature_p_value*observed.features\n",
    "    results$global_corr_p_value[results$global_corr_p_value > 1] <- 1\n",
    "  }\n",
    "  results <- results[order(results$global_corr_p_value, results$empirical_feature_p_value, results$p_value ),]\n",
    "  snp_info = as_data_frame(do.call(\"rbind\", lapply(strsplit(results$snp_id, \"_\"), function(x) t(as.data.frame(x)))))\n",
    "  colnames(snp_info) = c(\"chrom\",\"pos\",\"ref_allele\",\"alt_allele\")\n",
    "  results = cbind(results,snp_info)\n",
    "  results$chrom = as.integer(results$chrom)\n",
    "  results$pos = as.integer(results$pos)\n",
    "  results\n",
    "}"
   ]
  },
  {
   "cell_type": "code",
   "execution_count": 59,
   "metadata": {},
   "outputs": [
    {
     "name": "stderr",
     "output_type": "stream",
     "text": [
      "HDF5: unable to open file\n"
     ]
    },
    {
     "ename": "ERROR",
     "evalue": "Error in h5checktypeOrOpenLoc(file, native = native): Error in h5checktypeOrOpenLoc(). File '/hps/nobackup/stegle/users/acuomo/all_scripts/sc_endodiff/eQTL_mapping/output_files/forced_mesendo/qtl_results_12_115737393_116956625.h5' is not a valid HDF5 file.\n",
     "output_type": "error",
     "traceback": [
      "Error in h5checktypeOrOpenLoc(file, native = native): Error in h5checktypeOrOpenLoc(). File '/hps/nobackup/stegle/users/acuomo/all_scripts/sc_endodiff/eQTL_mapping/output_files/forced_mesendo/qtl_results_12_115737393_116956625.h5' is not a valid HDF5 file.\nTraceback:\n",
      "1. GetTopResults(mesendo1.folder)",
      "2. h5dump(i)   # at line 9 of file <text>",
      "3. h5checktypeOrOpenLoc(file, native = native)",
      "4. stop(\"Error in \", fctname, \". File '\", file, \"' is not a valid HDF5 file.\")"
     ]
    }
   ],
   "source": [
    "mesendo1.folder = \"/hps/nobackup/stegle/users/acuomo/all_scripts/sc_endodiff/eQTL_mapping/output_files/forced_mesendo/\"\n",
    "mesendo1.leads = GetTopResults(mesendo1.folder)"
   ]
  },
  {
   "cell_type": "code",
   "execution_count": 46,
   "metadata": {},
   "outputs": [],
   "source": [
    "i = \"/hps/nobackup/stegle/users/acuomo/all_scripts/sc_endodiff/eQTL_mapping/output_files/forced_mesendo/qtl_results_1_184535645_185287662.h5\""
   ]
  },
  {
   "cell_type": "code",
   "execution_count": 47,
   "metadata": {
    "scrolled": true
   },
   "outputs": [
    {
     "name": "stderr",
     "output_type": "stream",
     "text": [
      "HDF5: unable to open file\n"
     ]
    },
    {
     "ename": "ERROR",
     "evalue": "Error in h5checktypeOrOpenLoc(file, readonly = TRUE, native = native): Error in h5checktypeOrOpenLoc(). File '/hps/nobackup/stegle/users/acuomo/all_scripts/sc_endodiff/eQTL_mapping/output_files/forced_mesendo/qtl_results_1_184535645_185287662.h5' is not a valid HDF5 file.\n",
     "output_type": "error",
     "traceback": [
      "Error in h5checktypeOrOpenLoc(file, readonly = TRUE, native = native): Error in h5checktypeOrOpenLoc(). File '/hps/nobackup/stegle/users/acuomo/all_scripts/sc_endodiff/eQTL_mapping/output_files/forced_mesendo/qtl_results_1_184535645_185287662.h5' is not a valid HDF5 file.\nTraceback:\n",
      "1. h5ls(i)",
      "2. h5checktypeOrOpenLoc(file, readonly = TRUE, native = native)",
      "3. stop(\"Error in \", fctname, \". File '\", file, \"' is not a valid HDF5 file.\")"
     ]
    }
   ],
   "source": [
    "h5ls(i)"
   ]
  },
  {
   "cell_type": "code",
   "execution_count": null,
   "metadata": {},
   "outputs": [],
   "source": [
    "# nrow(mesendo1.leads[mesendo1.leads$global_corr_p_value < 0.1,])"
   ]
  },
  {
   "cell_type": "code",
   "execution_count": null,
   "metadata": {},
   "outputs": [],
   "source": [
    "mesendo1.leads$global_corr_p_value = qvalue(mesendo1.leads$empirical_feature_p_value)$qvalues\n",
    "nrow(mesendo1.leads)\n",
    "nrow(mesendo1.leads[mesendo1.leads$global_corr_p_value < 0.1,])"
   ]
  },
  {
   "cell_type": "code",
   "execution_count": 12,
   "metadata": {},
   "outputs": [
    {
     "data": {
      "text/html": [
       "<table>\n",
       "<caption>A data.frame: 2 × 22</caption>\n",
       "<thead>\n",
       "\t<tr><th scope=col>snp_id</th><th scope=col>p_value</th><th scope=col>beta</th><th scope=col>beta_se</th><th scope=col>empirical_feature_p_value</th><th scope=col>feature_chromosome</th><th scope=col>feature_start</th><th scope=col>feature_end</th><th scope=col>hgnc_symbol</th><th scope=col>combined_feature_id</th><th scope=col>⋯</th><th scope=col>n_e_samples</th><th scope=col>alpha_param</th><th scope=col>beta_param</th><th scope=col>snp_chromosome</th><th scope=col>snp_position</th><th scope=col>assessed_allele</th><th scope=col>call_rate</th><th scope=col>maf</th><th scope=col>hwe_p</th><th scope=col>feature_id</th></tr>\n",
       "\t<tr><th scope=col>&lt;chr&gt;</th><th scope=col>&lt;dbl&gt;</th><th scope=col>&lt;dbl&gt;</th><th scope=col>&lt;dbl&gt;</th><th scope=col>&lt;dbl&gt;</th><th scope=col>&lt;int&gt;</th><th scope=col>&lt;int&gt;</th><th scope=col>&lt;int&gt;</th><th scope=col>&lt;chr&gt;</th><th scope=col>&lt;chr&gt;</th><th scope=col>⋯</th><th scope=col>&lt;int&gt;</th><th scope=col>&lt;dbl&gt;</th><th scope=col>&lt;dbl&gt;</th><th scope=col>&lt;int&gt;</th><th scope=col>&lt;int&gt;</th><th scope=col>&lt;chr&gt;</th><th scope=col>&lt;dbl&gt;</th><th scope=col>&lt;dbl&gt;</th><th scope=col>&lt;dbl&gt;</th><th scope=col>&lt;chr&gt;</th></tr>\n",
       "</thead>\n",
       "<tbody>\n",
       "\t<tr><td>16_27853481_C_T</td><td>0.003763352</td><td>-0.2105776</td><td>0.07267950</td><td>0.3157944</td><td>16</td><td>27561454</td><td>27791690</td><td>KIAA0556</td><td>ENSG00000047578_KIAA0556</td><td>⋯</td><td>242</td><td>0.6657353</td><td>40.68788</td><td>16</td><td>27853481</td><td>T</td><td>1</td><td>0.4111570</td><td>0.14419488</td><td>ENSG00000047578_KIAA0556</td></tr>\n",
       "\t<tr><td>16_27419063_T_C</td><td>0.070731265</td><td> 0.1662148</td><td>0.09197374</td><td>0.9636816</td><td>16</td><td>27470876</td><td>27561234</td><td>GTF3C1  </td><td>ENSG00000077235_GTF3C1  </td><td>⋯</td><td>242</td><td>0.6196728</td><td>38.21795</td><td>16</td><td>27419063</td><td>C</td><td>1</td><td>0.1942149</td><td>0.01246179</td><td>ENSG00000077235_GTF3C1  </td></tr>\n",
       "</tbody>\n",
       "</table>\n"
      ],
      "text/latex": [
       "A data.frame: 2 × 22\n",
       "\\begin{tabular}{r|llllllllllllllllllllll}\n",
       " snp\\_id & p\\_value & beta & beta\\_se & empirical\\_feature\\_p\\_value & feature\\_chromosome & feature\\_start & feature\\_end & hgnc\\_symbol & combined\\_feature\\_id & ensembl\\_gene\\_id & n\\_samples & n\\_e\\_samples & alpha\\_param & beta\\_param & snp\\_chromosome & snp\\_position & assessed\\_allele & call\\_rate & maf & hwe\\_p & feature\\_id\\\\\n",
       " <chr> & <dbl> & <dbl> & <dbl> & <dbl> & <int> & <int> & <int> & <chr> & <chr> & <chr> & <int> & <int> & <dbl> & <dbl> & <int> & <int> & <chr> & <dbl> & <dbl> & <dbl> & <chr>\\\\\n",
       "\\hline\n",
       "\t 16\\_27853481\\_C\\_T & 0.003763352 & -0.2105776 & 0.07267950 & 0.3157944 & 16 & 27561454 & 27791690 & KIAA0556 & ENSG00000047578\\_KIAA0556 & ENSG00000047578 & 242 & 242 & 0.6657353 & 40.68788 & 16 & 27853481 & T & 1 & 0.4111570 & 0.14419488 & ENSG00000047578\\_KIAA0556\\\\\n",
       "\t 16\\_27419063\\_T\\_C & 0.070731265 &  0.1662148 & 0.09197374 & 0.9636816 & 16 & 27470876 & 27561234 & GTF3C1   & ENSG00000077235\\_GTF3C1   & ENSG00000077235 & 242 & 242 & 0.6196728 & 38.21795 & 16 & 27419063 & C & 1 & 0.1942149 & 0.01246179 & ENSG00000077235\\_GTF3C1  \\\\\n",
       "\\end{tabular}\n"
      ],
      "text/markdown": [
       "\n",
       "A data.frame: 2 × 22\n",
       "\n",
       "| snp_id &lt;chr&gt; | p_value &lt;dbl&gt; | beta &lt;dbl&gt; | beta_se &lt;dbl&gt; | empirical_feature_p_value &lt;dbl&gt; | feature_chromosome &lt;int&gt; | feature_start &lt;int&gt; | feature_end &lt;int&gt; | hgnc_symbol &lt;chr&gt; | combined_feature_id &lt;chr&gt; | ⋯ ⋯ | n_e_samples &lt;int&gt; | alpha_param &lt;dbl&gt; | beta_param &lt;dbl&gt; | snp_chromosome &lt;int&gt; | snp_position &lt;int&gt; | assessed_allele &lt;chr&gt; | call_rate &lt;dbl&gt; | maf &lt;dbl&gt; | hwe_p &lt;dbl&gt; | feature_id &lt;chr&gt; |\n",
       "|---|---|---|---|---|---|---|---|---|---|---|---|---|---|---|---|---|---|---|---|---|\n",
       "| 16_27853481_C_T | 0.003763352 | -0.2105776 | 0.07267950 | 0.3157944 | 16 | 27561454 | 27791690 | KIAA0556 | ENSG00000047578_KIAA0556 | ⋯ | 242 | 0.6657353 | 40.68788 | 16 | 27853481 | T | 1 | 0.4111570 | 0.14419488 | ENSG00000047578_KIAA0556 |\n",
       "| 16_27419063_T_C | 0.070731265 |  0.1662148 | 0.09197374 | 0.9636816 | 16 | 27470876 | 27561234 | GTF3C1   | ENSG00000077235_GTF3C1   | ⋯ | 242 | 0.6196728 | 38.21795 | 16 | 27419063 | C | 1 | 0.1942149 | 0.01246179 | ENSG00000077235_GTF3C1   |\n",
       "\n"
      ],
      "text/plain": [
       "  snp_id          p_value     beta       beta_se    empirical_feature_p_value\n",
       "1 16_27853481_C_T 0.003763352 -0.2105776 0.07267950 0.3157944                \n",
       "2 16_27419063_T_C 0.070731265  0.1662148 0.09197374 0.9636816                \n",
       "  feature_chromosome feature_start feature_end hgnc_symbol\n",
       "1 16                 27561454      27791690    KIAA0556   \n",
       "2 16                 27470876      27561234    GTF3C1     \n",
       "  combined_feature_id      ⋯ n_e_samples alpha_param beta_param snp_chromosome\n",
       "1 ENSG00000047578_KIAA0556 ⋯ 242         0.6657353   40.68788   16            \n",
       "2 ENSG00000077235_GTF3C1   ⋯ 242         0.6196728   38.21795   16            \n",
       "  snp_position assessed_allele call_rate maf       hwe_p     \n",
       "1 27853481     T               1         0.4111570 0.14419488\n",
       "2 27419063     C               1         0.1942149 0.01246179\n",
       "  feature_id              \n",
       "1 ENSG00000047578_KIAA0556\n",
       "2 ENSG00000077235_GTF3C1  "
      ]
     },
     "metadata": {},
     "output_type": "display_data"
    }
   ],
   "source": [
    "defendo1.file = \"/hps/nobackup/stegle/users/acuomo/all_scripts/sc_endodiff/eQTL_mapping/output_files/forced_defendo/top_qtl_results_all.txt\"\n",
    "defendo1.leads1 = read.csv(defendo1.file, sep = \"\\t\")\n",
    "head(defendo1.leads1,2)"
   ]
  },
  {
   "cell_type": "code",
   "execution_count": 13,
   "metadata": {},
   "outputs": [
    {
     "data": {
      "text/html": [
       "10924"
      ],
      "text/latex": [
       "10924"
      ],
      "text/markdown": [
       "10924"
      ],
      "text/plain": [
       "[1] 10924"
      ]
     },
     "metadata": {},
     "output_type": "display_data"
    },
    {
     "data": {
      "text/html": [
       "1217"
      ],
      "text/latex": [
       "1217"
      ],
      "text/markdown": [
       "1217"
      ],
      "text/plain": [
       "[1] 1217"
      ]
     },
     "metadata": {},
     "output_type": "display_data"
    }
   ],
   "source": [
    "defendo1.leads1$global_corr_p_value = qvalue(defendo1.leads1$empirical_feature_p_value)$qvalues\n",
    "nrow(defendo1.leads1)\n",
    "nrow(defendo1.leads1[defendo1.leads1$global_corr_p_value < 0.1,])"
   ]
  },
  {
   "cell_type": "code",
   "execution_count": 16,
   "metadata": {},
   "outputs": [
    {
     "data": {
      "text/html": [
       "11232"
      ],
      "text/latex": [
       "11232"
      ],
      "text/markdown": [
       "11232"
      ],
      "text/plain": [
       "[1] 11232"
      ]
     },
     "metadata": {},
     "output_type": "display_data"
    }
   ],
   "source": [
    "m.defendo1 = read.table(\"/hps/nobackup/stegle/users/acuomo/all_scripts/sc_endodiff/eQTL_mapping/input_files/forced_defendo_pheno.txt\", sep = \"\\t\")\n",
    "nrow(m.defendo1)"
   ]
  },
  {
   "cell_type": "code",
   "execution_count": null,
   "metadata": {},
   "outputs": [],
   "source": []
  }
 ],
 "metadata": {
  "kernelspec": {
   "display_name": "R",
   "language": "R",
   "name": "ir"
  },
  "language_info": {
   "codemirror_mode": "r",
   "file_extension": ".r",
   "mimetype": "text/x-r-source",
   "name": "R",
   "pygments_lexer": "r",
   "version": "3.6.1"
  }
 },
 "nbformat": 4,
 "nbformat_minor": 2
}
