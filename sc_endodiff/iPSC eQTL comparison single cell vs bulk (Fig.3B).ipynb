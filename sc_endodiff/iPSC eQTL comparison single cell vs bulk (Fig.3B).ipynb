{
 "cells": [
  {
   "cell_type": "code",
   "execution_count": 9,
   "metadata": {},
   "outputs": [],
   "source": [
    "suppressWarnings(suppressPackageStartupMessages(library(tidyverse)))"
   ]
  },
  {
   "cell_type": "code",
   "execution_count": 5,
   "metadata": {},
   "outputs": [],
   "source": [
    "### single cells\n",
    "leads.ips = read.csv(\"/nfs/leia/research/stegle/acuomo/mean/day0/all_expts/leads.csv\", row.names = 1)\n",
    "# res.ips = read.csv(\"/nfs/leia/research/stegle/acuomo/mean/day0/all_expts/allresults.csv\", row.names = 1)"
   ]
  },
  {
   "cell_type": "code",
   "execution_count": 6,
   "metadata": {},
   "outputs": [
    {
     "data": {
      "text/html": [
       "10788"
      ],
      "text/latex": [
       "10788"
      ],
      "text/markdown": [
       "10788"
      ],
      "text/plain": [
       "[1] 10788"
      ]
     },
     "metadata": {},
     "output_type": "display_data"
    }
   ],
   "source": [
    "sc_genes = unique(leads.ips$feature)\n",
    "length(sc_genes)"
   ]
  },
  {
   "cell_type": "code",
   "execution_count": 1,
   "metadata": {},
   "outputs": [],
   "source": [
    "## bulk\n",
    "leads.bulk = read.csv(\"/nfs/leia/research/stegle/acuomo/mean/bulk_ipsc/leads.csv\", row.names = 1)\n",
    "# res.bulk = read.csv(\"/nfs/leia/research/stegle/acuomo/mean/bulk_ipsc/allresults.csv\", row.names = 1)"
   ]
  },
  {
   "cell_type": "code",
   "execution_count": 3,
   "metadata": {},
   "outputs": [
    {
     "data": {
      "text/html": [
       "10736"
      ],
      "text/latex": [
       "10736"
      ],
      "text/markdown": [
       "10736"
      ],
      "text/plain": [
       "[1] 10736"
      ]
     },
     "metadata": {},
     "output_type": "display_data"
    }
   ],
   "source": [
    "bulk_genes = unique(leads.bulk$feature)\n",
    "length(bulk_genes)"
   ]
  },
  {
   "cell_type": "code",
   "execution_count": 7,
   "metadata": {},
   "outputs": [
    {
     "data": {
      "text/html": [
       "10736"
      ],
      "text/latex": [
       "10736"
      ],
      "text/markdown": [
       "10736"
      ],
      "text/plain": [
       "[1] 10736"
      ]
     },
     "metadata": {},
     "output_type": "display_data"
    }
   ],
   "source": [
    "length(bulk_genes[bulk_genes %in% sc_genes])"
   ]
  },
  {
   "cell_type": "code",
   "execution_count": 33,
   "metadata": {},
   "outputs": [
    {
     "data": {
      "text/html": [
       "1830"
      ],
      "text/latex": [
       "1830"
      ],
      "text/markdown": [
       "1830"
      ],
      "text/plain": [
       "[1] 1830"
      ]
     },
     "metadata": {},
     "output_type": "display_data"
    }
   ],
   "source": [
    "### inner join significant sc leads, all results from bulk\n",
    "leads.ips.sign = leads.ips[leads.ips$global_corr_p_value < 0.1,]\n",
    "leads.sc.in.bulk = inner_join(leads.ips.sign, res.bulk, by = c(\"snp_id\",\"feature\"), suffix = c(\".sc\",\".bulk\"))\n",
    "nrow(leads.sc.in.bulk)\n",
    "a1 = nrow(leads.sc.in.bulk)"
   ]
  },
  {
   "cell_type": "code",
   "execution_count": null,
   "metadata": {},
   "outputs": [],
   "source": [
    "###################################################\n",
    "######### Only nominal replication P < 5% #########\n",
    "###################################################"
   ]
  },
  {
   "cell_type": "code",
   "execution_count": 34,
   "metadata": {},
   "outputs": [
    {
     "data": {
      "text/html": [
       "1256"
      ],
      "text/latex": [
       "1256"
      ],
      "text/markdown": [
       "1256"
      ],
      "text/plain": [
       "[1] 1256"
      ]
     },
     "metadata": {},
     "output_type": "display_data"
    },
    {
     "data": {
      "text/html": [
       "0.686338797814208"
      ],
      "text/latex": [
       "0.686338797814208"
      ],
      "text/markdown": [
       "0.686338797814208"
      ],
      "text/plain": [
       "[1] 0.6863388"
      ]
     },
     "metadata": {},
     "output_type": "display_data"
    }
   ],
   "source": [
    "### replication at nominal p-value (and %)\n",
    "nrow(leads.sc.in.bulk[leads.sc.in.bulk$p_value.bulk < 0.05,])\n",
    "b1 = nrow(leads.sc.in.bulk[leads.sc.in.bulk$p_value.bulk < 0.05,])\n",
    "nrow(leads.sc.in.bulk[leads.sc.in.bulk$p_value.bulk < 0.05,])/nrow(leads.sc.in.bulk)"
   ]
  },
  {
   "cell_type": "code",
   "execution_count": 35,
   "metadata": {},
   "outputs": [
    {
     "data": {
      "text/html": [
       "2906"
      ],
      "text/latex": [
       "2906"
      ],
      "text/markdown": [
       "2906"
      ],
      "text/plain": [
       "[1] 2906"
      ]
     },
     "metadata": {},
     "output_type": "display_data"
    },
    {
     "data": {
      "text/html": [
       "1618"
      ],
      "text/latex": [
       "1618"
      ],
      "text/markdown": [
       "1618"
      ],
      "text/plain": [
       "[1] 1618"
      ]
     },
     "metadata": {},
     "output_type": "display_data"
    },
    {
     "data": {
      "text/html": [
       "0.556779077770131"
      ],
      "text/latex": [
       "0.556779077770131"
      ],
      "text/markdown": [
       "0.556779077770131"
      ],
      "text/plain": [
       "[1] 0.5567791"
      ]
     },
     "metadata": {},
     "output_type": "display_data"
    }
   ],
   "source": [
    "#### other way around - leads bulk in sc (sign FDR 10%)\n",
    "leads.bulk.sign = leads.bulk[leads.bulk$global_corr_p_value < 0.1,]\n",
    "leads.bulk.in.sc = inner_join(leads.bulk.sign, res.ips, by = c(\"snp_id\",\"feature\"), suffix = c(\".bulk\",\".sc\"))\n",
    "nrow(leads.bulk.in.sc)\n",
    "a2 = nrow(leads.bulk.in.sc)\n",
    "nrow(leads.bulk.in.sc[leads.bulk.in.sc$p_value.sc < 0.05,])\n",
    "b2 = nrow(leads.bulk.in.sc[leads.bulk.in.sc$p_value.sc < 0.05,])\n",
    "nrow(leads.bulk.in.sc[leads.bulk.in.sc$p_value.sc < 0.05,])/nrow(leads.bulk.in.sc)"
   ]
  },
  {
   "cell_type": "code",
   "execution_count": 36,
   "metadata": {},
   "outputs": [
    {
     "data": {
      "text/html": [
       "1366"
      ],
      "text/latex": [
       "1366"
      ],
      "text/markdown": [
       "1366"
      ],
      "text/plain": [
       "[1] 1366"
      ]
     },
     "metadata": {},
     "output_type": "display_data"
    },
    {
     "data": {
      "text/html": [
       "1045"
      ],
      "text/latex": [
       "1045"
      ],
      "text/markdown": [
       "1045"
      ],
      "text/plain": [
       "[1] 1045"
      ]
     },
     "metadata": {},
     "output_type": "display_data"
    },
    {
     "data": {
      "text/html": [
       "0.765007320644217"
      ],
      "text/latex": [
       "0.765007320644217"
      ],
      "text/markdown": [
       "0.765007320644217"
      ],
      "text/plain": [
       "[1] 0.7650073"
      ]
     },
     "metadata": {},
     "output_type": "display_data"
    }
   ],
   "source": [
    "#### other way around - leads bulk in sc (sign FDR 1%)\n",
    "leads.bulk.sign = leads.bulk[leads.bulk$global_corr_p_value < 0.01,]\n",
    "leads.bulk.in.sc = inner_join(leads.bulk.sign, res.ips, by = c(\"snp_id\",\"feature\"), suffix = c(\".bulk\",\".sc\"))\n",
    "nrow(leads.bulk.in.sc)\n",
    "a3 = nrow(leads.bulk.in.sc)\n",
    "nrow(leads.bulk.in.sc[leads.bulk.in.sc$p_value.sc < 0.05,])\n",
    "b3 = nrow(leads.bulk.in.sc[leads.bulk.in.sc$p_value.sc < 0.05,])\n",
    "nrow(leads.bulk.in.sc[leads.bulk.in.sc$p_value.sc < 0.05,])/nrow(leads.bulk.in.sc)"
   ]
  },
  {
   "cell_type": "code",
   "execution_count": 37,
   "metadata": {},
   "outputs": [
    {
     "data": {
      "text/html": [
       "896"
      ],
      "text/latex": [
       "896"
      ],
      "text/markdown": [
       "896"
      ],
      "text/plain": [
       "[1] 896"
      ]
     },
     "metadata": {},
     "output_type": "display_data"
    },
    {
     "data": {
      "text/html": [
       "765"
      ],
      "text/latex": [
       "765"
      ],
      "text/markdown": [
       "765"
      ],
      "text/plain": [
       "[1] 765"
      ]
     },
     "metadata": {},
     "output_type": "display_data"
    },
    {
     "data": {
      "text/html": [
       "0.853794642857143"
      ],
      "text/latex": [
       "0.853794642857143"
      ],
      "text/markdown": [
       "0.853794642857143"
      ],
      "text/plain": [
       "[1] 0.8537946"
      ]
     },
     "metadata": {},
     "output_type": "display_data"
    }
   ],
   "source": [
    "#### other way around - leads bulk in sc (sign FDR 0.1%)\n",
    "leads.bulk.sign = leads.bulk[leads.bulk$global_corr_p_value < 0.001,]\n",
    "leads.bulk.in.sc = inner_join(leads.bulk.sign, res.ips, by = c(\"snp_id\",\"feature\"), suffix = c(\".bulk\",\".sc\"))\n",
    "nrow(leads.bulk.in.sc)\n",
    "a4 = nrow(leads.bulk.in.sc)\n",
    "nrow(leads.bulk.in.sc[leads.bulk.in.sc$p_value.sc < 0.05,])\n",
    "b4 = nrow(leads.bulk.in.sc[leads.bulk.in.sc$p_value.sc < 0.05,])\n",
    "nrow(leads.bulk.in.sc[leads.bulk.in.sc$p_value.sc < 0.05,])/nrow(leads.bulk.in.sc)"
   ]
  },
  {
   "cell_type": "code",
   "execution_count": 38,
   "metadata": {},
   "outputs": [
    {
     "data": {
      "text/html": [
       "634"
      ],
      "text/latex": [
       "634"
      ],
      "text/markdown": [
       "634"
      ],
      "text/plain": [
       "[1] 634"
      ]
     },
     "metadata": {},
     "output_type": "display_data"
    },
    {
     "data": {
      "text/html": [
       "568"
      ],
      "text/latex": [
       "568"
      ],
      "text/markdown": [
       "568"
      ],
      "text/plain": [
       "[1] 568"
      ]
     },
     "metadata": {},
     "output_type": "display_data"
    },
    {
     "data": {
      "text/html": [
       "0.89589905362776"
      ],
      "text/latex": [
       "0.89589905362776"
      ],
      "text/markdown": [
       "0.89589905362776"
      ],
      "text/plain": [
       "[1] 0.8958991"
      ]
     },
     "metadata": {},
     "output_type": "display_data"
    }
   ],
   "source": [
    "#### other way around - leads bulk in sc (sign FDR 0.01%)\n",
    "leads.bulk.sign = leads.bulk[leads.bulk$global_corr_p_value < 0.0001,]\n",
    "leads.bulk.in.sc = inner_join(leads.bulk.sign, res.ips, by = c(\"snp_id\",\"feature\"), suffix = c(\".bulk\",\".sc\"))\n",
    "nrow(leads.bulk.in.sc)\n",
    "a5 = nrow(leads.bulk.in.sc)\n",
    "nrow(leads.bulk.in.sc[leads.bulk.in.sc$p_value.sc < 0.05,])\n",
    "b5 = nrow(leads.bulk.in.sc[leads.bulk.in.sc$p_value.sc < 0.05,])\n",
    "nrow(leads.bulk.in.sc[leads.bulk.in.sc$p_value.sc < 0.05,])/nrow(leads.bulk.in.sc)"
   ]
  },
  {
   "cell_type": "code",
   "execution_count": 39,
   "metadata": {},
   "outputs": [
    {
     "data": {
      "image/png": "[encoded data removed]",
      "text/plain": [
       "plot without title"
      ]
     },
     "metadata": {},
     "output_type": "display_data"
    }
   ],
   "source": [
    "options(repr.plot.width = 7, repr.plot.height = 5)\n",
    "all_discoveries <- c(a1, a2, a3, a4, a5)\n",
    "replicating <- c(b1, b2, b3, b4, b5)\n",
    "x <- barplot(all_discoveries, border = c('darkgray','black', 'black','black','black'), \n",
    "             col = 'white', xlim = c(0, 6), ylim = c(0, max(all_discoveries)+100), space = 0.8,\n",
    "             width = 0.5, ylab = \"# eGenes\")\n",
    "par(new = TRUE)\n",
    "barplot(replicating,  border = c('black', 'darkgray','darkgray','darkgray','darkgray'), \n",
    "        col = c('black', 'gray','gray','gray','gray'),\n",
    "        xlim = c(-0.2, 5.8), ylim = c(0, max(all_discoveries)+100),\n",
    "        width = 0.5, space = 0.8, axisnames = FALSE)"
   ]
  },
  {
   "cell_type": "code",
   "execution_count": null,
   "metadata": {},
   "outputs": [],
   "source": [
    "###############################################\n",
    "######### Nominal replication P < 5% #########\n",
    "######### & same direction effect ############\n",
    "##############################################"
   ]
  },
  {
   "cell_type": "code",
   "execution_count": 40,
   "metadata": {},
   "outputs": [
    {
     "data": {
      "text/html": [
       "1217"
      ],
      "text/latex": [
       "1217"
      ],
      "text/markdown": [
       "1217"
      ],
      "text/plain": [
       "[1] 1217"
      ]
     },
     "metadata": {},
     "output_type": "display_data"
    },
    {
     "data": {
      "text/html": [
       "0.665027322404372"
      ],
      "text/latex": [
       "0.665027322404372"
      ],
      "text/markdown": [
       "0.665027322404372"
      ],
      "text/plain": [
       "[1] 0.6650273"
      ]
     },
     "metadata": {},
     "output_type": "display_data"
    }
   ],
   "source": [
    "### replication at nominal p-value and same direction effect (and %)\n",
    "nrow(leads.sc.in.bulk[leads.sc.in.bulk$p_value.bulk < 0.05 & \n",
    "                      (leads.sc.in.bulk$beta.bulk*leads.sc.in.bulk$beta.sc)>0,])\n",
    "b1 = nrow(leads.sc.in.bulk[leads.sc.in.bulk$p_value.bulk < 0.05 & \n",
    "                      (leads.sc.in.bulk$beta.bulk*leads.sc.in.bulk$beta.sc)>0,])\n",
    "nrow(leads.sc.in.bulk[leads.sc.in.bulk$p_value.bulk < 0.05 & \n",
    "                      (leads.sc.in.bulk$beta.bulk*leads.sc.in.bulk$beta.sc)>0,])/nrow(leads.sc.in.bulk)"
   ]
  },
  {
   "cell_type": "code",
   "execution_count": 41,
   "metadata": {},
   "outputs": [
    {
     "data": {
      "text/html": [
       "1577"
      ],
      "text/latex": [
       "1577"
      ],
      "text/markdown": [
       "1577"
      ],
      "text/plain": [
       "[1] 1577"
      ]
     },
     "metadata": {},
     "output_type": "display_data"
    },
    {
     "data": {
      "text/html": [
       "0.54267033723331"
      ],
      "text/latex": [
       "0.54267033723331"
      ],
      "text/markdown": [
       "0.54267033723331"
      ],
      "text/plain": [
       "[1] 0.5426703"
      ]
     },
     "metadata": {},
     "output_type": "display_data"
    }
   ],
   "source": [
    "leads.bulk.sign = leads.bulk[leads.bulk$global_corr_p_value < 0.1,]\n",
    "leads.bulk.in.sc = inner_join(leads.bulk.sign, res.ips, by = c(\"snp_id\",\"feature\"), suffix = c(\".bulk\",\".sc\"))\n",
    "nrow(leads.bulk.in.sc[leads.bulk.in.sc$p_value.sc < 0.05 & \n",
    "                      (leads.bulk.in.sc$beta.bulk*leads.bulk.in.sc$beta.sc)>0,])\n",
    "b2 = nrow(leads.bulk.in.sc[leads.bulk.in.sc$p_value.sc < 0.05 & \n",
    "                      (leads.bulk.in.sc$beta.bulk*leads.bulk.in.sc$beta.sc)>0,])\n",
    "nrow(leads.bulk.in.sc[leads.bulk.in.sc$p_value.sc < 0.05 & \n",
    "                      (leads.bulk.in.sc$beta.bulk*leads.bulk.in.sc$beta.sc)>0,])/nrow(leads.bulk.in.sc)"
   ]
  },
  {
   "cell_type": "code",
   "execution_count": 42,
   "metadata": {},
   "outputs": [
    {
     "data": {
      "text/html": [
       "1032"
      ],
      "text/latex": [
       "1032"
      ],
      "text/markdown": [
       "1032"
      ],
      "text/plain": [
       "[1] 1032"
      ]
     },
     "metadata": {},
     "output_type": "display_data"
    },
    {
     "data": {
      "text/html": [
       "0.755490483162518"
      ],
      "text/latex": [
       "0.755490483162518"
      ],
      "text/markdown": [
       "0.755490483162518"
      ],
      "text/plain": [
       "[1] 0.7554905"
      ]
     },
     "metadata": {},
     "output_type": "display_data"
    }
   ],
   "source": [
    "leads.bulk.sign = leads.bulk[leads.bulk$global_corr_p_value < 0.01,]\n",
    "leads.bulk.in.sc = inner_join(leads.bulk.sign, res.ips, by = c(\"snp_id\",\"feature\"), suffix = c(\".bulk\",\".sc\"))\n",
    "nrow(leads.bulk.in.sc[leads.bulk.in.sc$p_value.sc < 0.05 & \n",
    "                      (leads.bulk.in.sc$beta.bulk*leads.bulk.in.sc$beta.sc)>0,])\n",
    "b3 = nrow(leads.bulk.in.sc[leads.bulk.in.sc$p_value.sc < 0.05 & \n",
    "                      (leads.bulk.in.sc$beta.bulk*leads.bulk.in.sc$beta.sc)>0,])\n",
    "nrow(leads.bulk.in.sc[leads.bulk.in.sc$p_value.sc < 0.05 & \n",
    "                      (leads.bulk.in.sc$beta.bulk*leads.bulk.in.sc$beta.sc)>0,])/nrow(leads.bulk.in.sc)"
   ]
  },
  {
   "cell_type": "code",
   "execution_count": 43,
   "metadata": {},
   "outputs": [
    {
     "data": {
      "text/html": [
       "759"
      ],
      "text/latex": [
       "759"
      ],
      "text/markdown": [
       "759"
      ],
      "text/plain": [
       "[1] 759"
      ]
     },
     "metadata": {},
     "output_type": "display_data"
    },
    {
     "data": {
      "text/html": [
       "0.847098214285714"
      ],
      "text/latex": [
       "0.847098214285714"
      ],
      "text/markdown": [
       "0.847098214285714"
      ],
      "text/plain": [
       "[1] 0.8470982"
      ]
     },
     "metadata": {},
     "output_type": "display_data"
    }
   ],
   "source": [
    "leads.bulk.sign = leads.bulk[leads.bulk$global_corr_p_value < 0.001,]\n",
    "leads.bulk.in.sc = inner_join(leads.bulk.sign, res.ips, by = c(\"snp_id\",\"feature\"), suffix = c(\".bulk\",\".sc\"))\n",
    "nrow(leads.bulk.in.sc[leads.bulk.in.sc$p_value.sc < 0.05 & \n",
    "                      (leads.bulk.in.sc$beta.bulk*leads.bulk.in.sc$beta.sc)>0,])\n",
    "b4 = nrow(leads.bulk.in.sc[leads.bulk.in.sc$p_value.sc < 0.05 & \n",
    "                      (leads.bulk.in.sc$beta.bulk*leads.bulk.in.sc$beta.sc)>0,])\n",
    "nrow(leads.bulk.in.sc[leads.bulk.in.sc$p_value.sc < 0.05 & \n",
    "                      (leads.bulk.in.sc$beta.bulk*leads.bulk.in.sc$beta.sc)>0,])/nrow(leads.bulk.in.sc)"
   ]
  },
  {
   "cell_type": "code",
   "execution_count": 44,
   "metadata": {},
   "outputs": [
    {
     "data": {
      "text/html": [
       "567"
      ],
      "text/latex": [
       "567"
      ],
      "text/markdown": [
       "567"
      ],
      "text/plain": [
       "[1] 567"
      ]
     },
     "metadata": {},
     "output_type": "display_data"
    },
    {
     "data": {
      "text/html": [
       "0.894321766561514"
      ],
      "text/latex": [
       "0.894321766561514"
      ],
      "text/markdown": [
       "0.894321766561514"
      ],
      "text/plain": [
       "[1] 0.8943218"
      ]
     },
     "metadata": {},
     "output_type": "display_data"
    }
   ],
   "source": [
    "leads.bulk.sign = leads.bulk[leads.bulk$global_corr_p_value < 0.0001,]\n",
    "leads.bulk.in.sc = inner_join(leads.bulk.sign, res.ips, by = c(\"snp_id\",\"feature\"), suffix = c(\".bulk\",\".sc\"))\n",
    "nrow(leads.bulk.in.sc[leads.bulk.in.sc$p_value.sc < 0.05 & \n",
    "                      (leads.bulk.in.sc$beta.bulk*leads.bulk.in.sc$beta.sc)>0,])\n",
    "b5 = nrow(leads.bulk.in.sc[leads.bulk.in.sc$p_value.sc < 0.05 & \n",
    "                      (leads.bulk.in.sc$beta.bulk*leads.bulk.in.sc$beta.sc)>0,])\n",
    "nrow(leads.bulk.in.sc[leads.bulk.in.sc$p_value.sc < 0.05 & \n",
    "                      (leads.bulk.in.sc$beta.bulk*leads.bulk.in.sc$beta.sc)>0,])/nrow(leads.bulk.in.sc)"
   ]
  },
  {
   "cell_type": "code",
   "execution_count": 45,
   "metadata": {},
   "outputs": [
    {
     "data": {
      "image/png": "[encoded data removed]",
      "text/plain": [
       "plot without title"
      ]
     },
     "metadata": {},
     "output_type": "display_data"
    }
   ],
   "source": [
    "options(repr.plot.width = 7, repr.plot.height = 5)\n",
    "all_discoveries <- c(a1, a2, a3, a4, a5)\n",
    "replicating <- c(b1, b2, b3, b4, b5)\n",
    "x <- barplot(all_discoveries, border = c('darkgray','black', 'black','black','black'), \n",
    "             col = 'white', xlim = c(0, 6), ylim = c(0, max(all_discoveries)+100), space = 0.8,\n",
    "             width = 0.5, ylab = \"# eGenes\")\n",
    "par(new = TRUE)\n",
    "barplot(replicating,  border = c('black', 'darkgray','darkgray','darkgray','darkgray'), \n",
    "        col = c('black', 'gray','gray','gray','gray'),\n",
    "        xlim = c(-0.2, 5.8), ylim = c(0, max(all_discoveries)+100),\n",
    "        width = 0.5, space = 0.8, axisnames = FALSE)"
   ]
  },
  {
   "cell_type": "code",
   "execution_count": null,
   "metadata": {},
   "outputs": [],
   "source": []
  }
 ],
 "metadata": {
  "kernelspec": {
   "display_name": "R",
   "language": "R",
   "name": "ir"
  },
  "language_info": {
   "codemirror_mode": "r",
   "file_extension": ".r",
   "mimetype": "text/x-r-source",
   "name": "R",
   "pygments_lexer": "r",
   "version": "3.6.1"
  }
 },
 "nbformat": 4,
 "nbformat_minor": 2
}
