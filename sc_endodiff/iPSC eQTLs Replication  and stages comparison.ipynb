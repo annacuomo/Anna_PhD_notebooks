{
 "cells": [
  {
   "cell_type": "code",
   "execution_count": 6,
   "metadata": {},
   "outputs": [],
   "source": [
    "## load useful libraries\n",
    "suppressWarnings(suppressPackageStartupMessages(library(rhdf5)))\n",
    "suppressWarnings(suppressPackageStartupMessages(library(qvalue)))\n",
    "suppressWarnings(suppressPackageStartupMessages(library(dplyr)))\n",
    "suppressWarnings(suppressPackageStartupMessages(library(cowplot)))\n",
    "suppressWarnings(suppressPackageStartupMessages(library(tidyverse)))\n",
    "suppressWarnings(suppressPackageStartupMessages(library(ggbeeswarm)))\n",
    "suppressWarnings(suppressPackageStartupMessages(library(ggthemes)))\n",
    "# suppressWarnings(suppressPackageStartupMessages(library(SingleCellExperiment)))\n",
    "suppressWarnings(suppressPackageStartupMessages(library(edgeR)))\n",
    "suppressWarnings(suppressPackageStartupMessages(library(limma)))\n",
    "suppressWarnings(suppressPackageStartupMessages(library(ggplot2)))\n",
    "# suppressWarnings(suppressPackageStartupMessages(library(ISLR)))\n",
    "# suppressWarnings(suppressPackageStartupMessages(library(GGally)))\n",
    "suppressWarnings(suppressPackageStartupMessages(library(scran)))\n",
    "# suppressWarnings(suppressPackageStartupMessages(library(ComplexHeatmap)))\n",
    "# suppressWarnings(suppressPackageStartupMessages(library(circlize)))"
   ]
  },
  {
   "cell_type": "code",
   "execution_count": 9,
   "metadata": {},
   "outputs": [],
   "source": [
    "# load full list of results sc stages (iPS, mesendo, defendo)\n",
    "res.ips = read.csv(\"/nfs/leia/research/stegle/acuomo/mean/day0/all_expts/allresults.csv\", row.names = 1)\n",
    "# res.mes = read.csv(\"/nfs/leia/research/stegle/acuomo/mean/mesendo_est_June20/allresults.csv\", row.names = 1)\n",
    "# res.defendo = read.csv(\"/nfs/leia/research/stegle/acuomo/mean/defendo_est_June20/allresults.csv\", row.names = 1)"
   ]
  },
  {
   "cell_type": "code",
   "execution_count": 15,
   "metadata": {},
   "outputs": [],
   "source": [
    "# load full list of results bulk iPS\n",
    "res.bulk = read.csv(\"/nfs/leia/research/stegle/acuomo/mean/bulk_ipsc/allresults.csv\", row.names = 1)\n",
    "# res.bulk = read.csv(\"/nfs/leia/research/stegle/acuomo/mean/bulk_ips/allresults.csv\", row.names = 1)"
   ]
  },
  {
   "cell_type": "code",
   "execution_count": 13,
   "metadata": {},
   "outputs": [],
   "source": [
    "# load lead variant results sc stages (iPS, mesendo, defendo)\n",
    "leads.ips = read.csv(\"/nfs/leia/research/stegle/acuomo/mean/day0/all_expts/leads.csv\", row.names = 1)\n",
    "# leads.mes = read.csv(\"/nfs/leia/research/stegle/acuomo/mean/mesendo_est_June20/leads.csv\", row.names = 1)\n",
    "# leads.defendo = read.csv(\"/nfs/leia/research/stegle/acuomo/mean/defendo_est_June20/leads.csv\", row.names = 1)"
   ]
  },
  {
   "cell_type": "code",
   "execution_count": null,
   "metadata": {},
   "outputs": [],
   "source": [
    "# load lead variant results sc days as comparison (day0, day1, day3)\n",
    "leads.day0 = read.csv(\"/nfs/leia/research/stegle/acuomo/mean/day0/leads.csv\", row.names = 1)\n",
    "leads.day1 = read.csv(\"/nfs/leia/research/stegle/acuomo/mean/day1/leads.csv\", row.names = 1)\n",
    "leads.day3 = read.csv(\"/nfs/leia/research/stegle/acuomo/mean/day3/leads.csv\", row.names = 1)"
   ]
  },
  {
   "cell_type": "code",
   "execution_count": 16,
   "metadata": {},
   "outputs": [],
   "source": [
    "# load lead variant results bulk iPS\n",
    "leads.bulk = read.csv(\"/nfs/leia/research/stegle/acuomo/mean/bulk_ipsc/leads.csv\", row.names = 1)\n",
    "# leads.bulk = read.csv(\"/nfs/leia/research/stegle/acuomo/mean/bulk_ips/leads.csv\", row.names = 1)"
   ]
  },
  {
   "cell_type": "code",
   "execution_count": 8,
   "metadata": {},
   "outputs": [],
   "source": [
    "# colnames(leads.ips)"
   ]
  },
  {
   "cell_type": "code",
   "execution_count": null,
   "metadata": {},
   "outputs": [],
   "source": [
    "### Quantify total genes tested, eGenes (genes with at least one significant eQTL)"
   ]
  },
  {
   "cell_type": "code",
   "execution_count": 115,
   "metadata": {},
   "outputs": [
    {
     "data": {
      "text/html": [
       "10787"
      ],
      "text/latex": [
       "10787"
      ],
      "text/markdown": [
       "10787"
      ],
      "text/plain": [
       "[1] 10787"
      ]
     },
     "metadata": {},
     "output_type": "display_data"
    },
    {
     "data": {
      "text/html": [
       "10765"
      ],
      "text/latex": [
       "10765"
      ],
      "text/markdown": [
       "10765"
      ],
      "text/plain": [
       "[1] 10765"
      ]
     },
     "metadata": {},
     "output_type": "display_data"
    }
   ],
   "source": [
    "nrow(leads.day1)\n",
    "nrow(leads.day3)"
   ]
  },
  {
   "cell_type": "code",
   "execution_count": 17,
   "metadata": {},
   "outputs": [
    {
     "data": {
      "text/html": [
       "10840"
      ],
      "text/latex": [
       "10840"
      ],
      "text/markdown": [
       "10840"
      ],
      "text/plain": [
       "[1] 10840"
      ]
     },
     "metadata": {},
     "output_type": "display_data"
    }
   ],
   "source": [
    "nrow(leads.ips)\n",
    "# nrow(leads.mes)\n",
    "# nrow(leads.defendo)"
   ]
  },
  {
   "cell_type": "code",
   "execution_count": 18,
   "metadata": {},
   "outputs": [
    {
     "data": {
      "text/html": [
       "10736"
      ],
      "text/latex": [
       "10736"
      ],
      "text/markdown": [
       "10736"
      ],
      "text/plain": [
       "[1] 10736"
      ]
     },
     "metadata": {},
     "output_type": "display_data"
    }
   ],
   "source": [
    "nrow(leads.bulk)"
   ]
  },
  {
   "cell_type": "code",
   "execution_count": 19,
   "metadata": {
    "scrolled": true
   },
   "outputs": [
    {
     "data": {
      "text/html": [
       "1833"
      ],
      "text/latex": [
       "1833"
      ],
      "text/markdown": [
       "1833"
      ],
      "text/plain": [
       "[1] 1833"
      ]
     },
     "metadata": {},
     "output_type": "display_data"
    }
   ],
   "source": [
    "leads.ips.sign = leads.ips[leads.ips$global_corr_p_value < 0.1,]\n",
    "nrow(leads.ips.sign)"
   ]
  },
  {
   "cell_type": "code",
   "execution_count": 20,
   "metadata": {},
   "outputs": [
    {
     "ename": "ERROR",
     "evalue": "Error in eval(expr, envir, enclos): object 'leads.mes' not found\n",
     "output_type": "error",
     "traceback": [
      "Error in eval(expr, envir, enclos): object 'leads.mes' not found\nTraceback:\n"
     ]
    }
   ],
   "source": [
    "leads.mes.sign = leads.mes[leads.mes$global_corr_p_value < 0.1,]\n",
    "nrow(leads.mes.sign)"
   ]
  },
  {
   "cell_type": "code",
   "execution_count": 29,
   "metadata": {},
   "outputs": [
    {
     "data": {
      "text/html": [
       "1342"
      ],
      "text/latex": [
       "1342"
      ],
      "text/markdown": [
       "1342"
      ],
      "text/plain": [
       "[1] 1342"
      ]
     },
     "metadata": {},
     "output_type": "display_data"
    }
   ],
   "source": [
    "leads.defendo.sign = leads.defendo[leads.defendo$global_corr_p_value < 0.1,]\n",
    "nrow(leads.defendo.sign)"
   ]
  },
  {
   "cell_type": "code",
   "execution_count": null,
   "metadata": {},
   "outputs": [],
   "source": []
  },
  {
   "cell_type": "code",
   "execution_count": null,
   "metadata": {},
   "outputs": [],
   "source": [
    "######## iPS bulk single cell comparison"
   ]
  },
  {
   "cell_type": "code",
   "execution_count": 21,
   "metadata": {},
   "outputs": [
    {
     "data": {
      "text/html": [
       "1830"
      ],
      "text/latex": [
       "1830"
      ],
      "text/markdown": [
       "1830"
      ],
      "text/plain": [
       "[1] 1830"
      ]
     },
     "metadata": {},
     "output_type": "display_data"
    }
   ],
   "source": [
    "### inner join significant sc leads, all results from bulk\n",
    "leads.sc.in.bulk = inner_join(leads.ips.sign, res.bulk, by = c(\"snp_id\",\"feature\"), suffix = c(\".sc\",\".bulk\"))\n",
    "nrow(leads.sc.in.bulk)"
   ]
  },
  {
   "cell_type": "code",
   "execution_count": 31,
   "metadata": {},
   "outputs": [
    {
     "data": {
      "text/html": [
       "1077"
      ],
      "text/latex": [
       "1077"
      ],
      "text/markdown": [
       "1077"
      ],
      "text/plain": [
       "[1] 1077"
      ]
     },
     "metadata": {},
     "output_type": "display_data"
    },
    {
     "data": {
      "text/html": [
       "0.588524590163934"
      ],
      "text/latex": [
       "0.588524590163934"
      ],
      "text/markdown": [
       "0.588524590163934"
      ],
      "text/plain": [
       "[1] 0.5885246"
      ]
     },
     "metadata": {},
     "output_type": "display_data"
    }
   ],
   "source": [
    "### replication at nominal p-value (and %)\n",
    "nrow(leads.sc.in.bulk[leads.sc.in.bulk$p_value.bulk < 0.05,])\n",
    "nrow(leads.sc.in.bulk[leads.sc.in.bulk$p_value.bulk < 0.05,])/nrow(leads.sc.in.bulk)"
   ]
  },
  {
   "cell_type": "code",
   "execution_count": 32,
   "metadata": {},
   "outputs": [
    {
     "data": {
      "text/html": [
       "1057"
      ],
      "text/latex": [
       "1057"
      ],
      "text/markdown": [
       "1057"
      ],
      "text/plain": [
       "[1] 1057"
      ]
     },
     "metadata": {},
     "output_type": "display_data"
    },
    {
     "data": {
      "text/html": [
       "0.577595628415301"
      ],
      "text/latex": [
       "0.577595628415301"
      ],
      "text/markdown": [
       "0.577595628415301"
      ],
      "text/plain": [
       "[1] 0.5775956"
      ]
     },
     "metadata": {},
     "output_type": "display_data"
    }
   ],
   "source": [
    "### replication at nominal p-value and same direction effect (and %)\n",
    "nrow(leads.sc.in.bulk[leads.sc.in.bulk$p_value.bulk < 0.05 & \n",
    "                      (leads.sc.in.bulk$beta.bulk*leads.sc.in.bulk$beta.sc)>0,])\n",
    "nrow(leads.sc.in.bulk[leads.sc.in.bulk$p_value.bulk < 0.05 & \n",
    "                      (leads.sc.in.bulk$beta.bulk*leads.sc.in.bulk$beta.sc)>0,])/nrow(leads.sc.in.bulk)"
   ]
  },
  {
   "cell_type": "code",
   "execution_count": 24,
   "metadata": {},
   "outputs": [
    {
     "data": {
      "text/html": [
       "2908"
      ],
      "text/latex": [
       "2908"
      ],
      "text/markdown": [
       "2908"
      ],
      "text/plain": [
       "[1] 2908"
      ]
     },
     "metadata": {},
     "output_type": "display_data"
    },
    {
     "data": {
      "text/html": [
       "2906"
      ],
      "text/latex": [
       "2906"
      ],
      "text/markdown": [
       "2906"
      ],
      "text/plain": [
       "[1] 2906"
      ]
     },
     "metadata": {},
     "output_type": "display_data"
    },
    {
     "data": {
      "text/html": [
       "1618"
      ],
      "text/latex": [
       "1618"
      ],
      "text/markdown": [
       "1618"
      ],
      "text/plain": [
       "[1] 1618"
      ]
     },
     "metadata": {},
     "output_type": "display_data"
    },
    {
     "data": {
      "text/html": [
       "0.556779077770131"
      ],
      "text/latex": [
       "0.556779077770131"
      ],
      "text/markdown": [
       "0.556779077770131"
      ],
      "text/plain": [
       "[1] 0.5567791"
      ]
     },
     "metadata": {},
     "output_type": "display_data"
    },
    {
     "data": {
      "text/html": [
       "1577"
      ],
      "text/latex": [
       "1577"
      ],
      "text/markdown": [
       "1577"
      ],
      "text/plain": [
       "[1] 1577"
      ]
     },
     "metadata": {},
     "output_type": "display_data"
    },
    {
     "data": {
      "text/html": [
       "0.54267033723331"
      ],
      "text/latex": [
       "0.54267033723331"
      ],
      "text/markdown": [
       "0.54267033723331"
      ],
      "text/plain": [
       "[1] 0.5426703"
      ]
     },
     "metadata": {},
     "output_type": "display_data"
    }
   ],
   "source": [
    "#### other way around - leads bulk in sc (sign FDR 10%)\n",
    "leads.bulk.sign = leads.bulk[leads.bulk$global_corr_p_value < 0.1,]\n",
    "nrow(leads.bulk.sign)\n",
    "\n",
    "leads.bulk.in.sc = inner_join(leads.bulk.sign, res.ips, by = c(\"snp_id\",\"feature\"), suffix = c(\".bulk\",\".sc\"))\n",
    "nrow(leads.bulk.in.sc)\n",
    "\n",
    "nrow(leads.bulk.in.sc[leads.bulk.in.sc$p_value.sc < 0.05,])\n",
    "nrow(leads.bulk.in.sc[leads.bulk.in.sc$p_value.sc < 0.05,])/nrow(leads.bulk.in.sc)\n",
    "\n",
    "nrow(leads.bulk.in.sc[leads.bulk.in.sc$p_value.sc < 0.05 & \n",
    "                      (leads.bulk.in.sc$beta.bulk*leads.bulk.in.sc$beta.sc)>0,])\n",
    "nrow(leads.bulk.in.sc[leads.bulk.in.sc$p_value.sc < 0.05 & \n",
    "                      (leads.bulk.in.sc$beta.bulk*leads.bulk.in.sc$beta.sc)>0,])/nrow(leads.bulk.in.sc)"
   ]
  },
  {
   "cell_type": "code",
   "execution_count": 25,
   "metadata": {},
   "outputs": [
    {
     "data": {
      "text/html": [
       "1356"
      ],
      "text/latex": [
       "1356"
      ],
      "text/markdown": [
       "1356"
      ],
      "text/plain": [
       "[1] 1356"
      ]
     },
     "metadata": {},
     "output_type": "display_data"
    },
    {
     "data": {
      "text/html": [
       "1366"
      ],
      "text/latex": [
       "1366"
      ],
      "text/markdown": [
       "1366"
      ],
      "text/plain": [
       "[1] 1366"
      ]
     },
     "metadata": {},
     "output_type": "display_data"
    },
    {
     "data": {
      "text/html": [
       "1045"
      ],
      "text/latex": [
       "1045"
      ],
      "text/markdown": [
       "1045"
      ],
      "text/plain": [
       "[1] 1045"
      ]
     },
     "metadata": {},
     "output_type": "display_data"
    },
    {
     "data": {
      "text/html": [
       "0.765007320644217"
      ],
      "text/latex": [
       "0.765007320644217"
      ],
      "text/markdown": [
       "0.765007320644217"
      ],
      "text/plain": [
       "[1] 0.7650073"
      ]
     },
     "metadata": {},
     "output_type": "display_data"
    },
    {
     "data": {
      "text/html": [
       "1032"
      ],
      "text/latex": [
       "1032"
      ],
      "text/markdown": [
       "1032"
      ],
      "text/plain": [
       "[1] 1032"
      ]
     },
     "metadata": {},
     "output_type": "display_data"
    },
    {
     "data": {
      "text/html": [
       "0.755490483162518"
      ],
      "text/latex": [
       "0.755490483162518"
      ],
      "text/markdown": [
       "0.755490483162518"
      ],
      "text/plain": [
       "[1] 0.7554905"
      ]
     },
     "metadata": {},
     "output_type": "display_data"
    }
   ],
   "source": [
    "#### other way around - leads bulk in sc (sign FDR 1%)\n",
    "leads.bulk.sign = leads.bulk[leads.bulk$global_corr_p_value < 0.01,]\n",
    "nrow(leads.bulk.sign)\n",
    "\n",
    "leads.bulk.in.sc = inner_join(leads.bulk.sign, res.ips, by = c(\"snp_id\",\"feature\"), suffix = c(\".bulk\",\".sc\"))\n",
    "nrow(leads.bulk.in.sc)\n",
    "\n",
    "nrow(leads.bulk.in.sc[leads.bulk.in.sc$p_value.sc < 0.05,])\n",
    "nrow(leads.bulk.in.sc[leads.bulk.in.sc$p_value.sc < 0.05,])/nrow(leads.bulk.in.sc)\n",
    "\n",
    "nrow(leads.bulk.in.sc[leads.bulk.in.sc$p_value.sc < 0.05 & \n",
    "                      (leads.bulk.in.sc$beta.bulk*leads.bulk.in.sc$beta.sc)>0,])\n",
    "nrow(leads.bulk.in.sc[leads.bulk.in.sc$p_value.sc < 0.05 & \n",
    "                      (leads.bulk.in.sc$beta.bulk*leads.bulk.in.sc$beta.sc)>0,])/nrow(leads.bulk.in.sc)"
   ]
  },
  {
   "cell_type": "code",
   "execution_count": 26,
   "metadata": {},
   "outputs": [
    {
     "data": {
      "text/html": [
       "890"
      ],
      "text/latex": [
       "890"
      ],
      "text/markdown": [
       "890"
      ],
      "text/plain": [
       "[1] 890"
      ]
     },
     "metadata": {},
     "output_type": "display_data"
    },
    {
     "data": {
      "text/html": [
       "896"
      ],
      "text/latex": [
       "896"
      ],
      "text/markdown": [
       "896"
      ],
      "text/plain": [
       "[1] 896"
      ]
     },
     "metadata": {},
     "output_type": "display_data"
    },
    {
     "data": {
      "text/html": [
       "765"
      ],
      "text/latex": [
       "765"
      ],
      "text/markdown": [
       "765"
      ],
      "text/plain": [
       "[1] 765"
      ]
     },
     "metadata": {},
     "output_type": "display_data"
    },
    {
     "data": {
      "text/html": [
       "0.853794642857143"
      ],
      "text/latex": [
       "0.853794642857143"
      ],
      "text/markdown": [
       "0.853794642857143"
      ],
      "text/plain": [
       "[1] 0.8537946"
      ]
     },
     "metadata": {},
     "output_type": "display_data"
    },
    {
     "data": {
      "text/html": [
       "759"
      ],
      "text/latex": [
       "759"
      ],
      "text/markdown": [
       "759"
      ],
      "text/plain": [
       "[1] 759"
      ]
     },
     "metadata": {},
     "output_type": "display_data"
    },
    {
     "data": {
      "text/html": [
       "0.847098214285714"
      ],
      "text/latex": [
       "0.847098214285714"
      ],
      "text/markdown": [
       "0.847098214285714"
      ],
      "text/plain": [
       "[1] 0.8470982"
      ]
     },
     "metadata": {},
     "output_type": "display_data"
    }
   ],
   "source": [
    "#### other way around - leads bulk in sc (sign FDR 0.1%)\n",
    "leads.bulk.sign = leads.bulk[leads.bulk$global_corr_p_value < 0.001,]\n",
    "nrow(leads.bulk.sign)\n",
    "\n",
    "leads.bulk.in.sc = inner_join(leads.bulk.sign, res.ips, by = c(\"snp_id\",\"feature\"), suffix = c(\".bulk\",\".sc\"))\n",
    "nrow(leads.bulk.in.sc)\n",
    "\n",
    "nrow(leads.bulk.in.sc[leads.bulk.in.sc$p_value.sc < 0.05,])\n",
    "nrow(leads.bulk.in.sc[leads.bulk.in.sc$p_value.sc < 0.05,])/nrow(leads.bulk.in.sc)\n",
    "\n",
    "nrow(leads.bulk.in.sc[leads.bulk.in.sc$p_value.sc < 0.05 & \n",
    "                      (leads.bulk.in.sc$beta.bulk*leads.bulk.in.sc$beta.sc)>0,])\n",
    "nrow(leads.bulk.in.sc[leads.bulk.in.sc$p_value.sc < 0.05 & \n",
    "                      (leads.bulk.in.sc$beta.bulk*leads.bulk.in.sc$beta.sc)>0,])/nrow(leads.bulk.in.sc)"
   ]
  },
  {
   "cell_type": "code",
   "execution_count": 27,
   "metadata": {},
   "outputs": [
    {
     "data": {
      "text/html": [
       "630"
      ],
      "text/latex": [
       "630"
      ],
      "text/markdown": [
       "630"
      ],
      "text/plain": [
       "[1] 630"
      ]
     },
     "metadata": {},
     "output_type": "display_data"
    },
    {
     "data": {
      "text/html": [
       "634"
      ],
      "text/latex": [
       "634"
      ],
      "text/markdown": [
       "634"
      ],
      "text/plain": [
       "[1] 634"
      ]
     },
     "metadata": {},
     "output_type": "display_data"
    },
    {
     "data": {
      "text/html": [
       "568"
      ],
      "text/latex": [
       "568"
      ],
      "text/markdown": [
       "568"
      ],
      "text/plain": [
       "[1] 568"
      ]
     },
     "metadata": {},
     "output_type": "display_data"
    },
    {
     "data": {
      "text/html": [
       "0.89589905362776"
      ],
      "text/latex": [
       "0.89589905362776"
      ],
      "text/markdown": [
       "0.89589905362776"
      ],
      "text/plain": [
       "[1] 0.8958991"
      ]
     },
     "metadata": {},
     "output_type": "display_data"
    },
    {
     "data": {
      "text/html": [
       "567"
      ],
      "text/latex": [
       "567"
      ],
      "text/markdown": [
       "567"
      ],
      "text/plain": [
       "[1] 567"
      ]
     },
     "metadata": {},
     "output_type": "display_data"
    },
    {
     "data": {
      "text/html": [
       "0.894321766561514"
      ],
      "text/latex": [
       "0.894321766561514"
      ],
      "text/markdown": [
       "0.894321766561514"
      ],
      "text/plain": [
       "[1] 0.8943218"
      ]
     },
     "metadata": {},
     "output_type": "display_data"
    }
   ],
   "source": [
    "#### other way around - leads bulk in sc (sign FDR 0.01%)\n",
    "leads.bulk.sign = leads.bulk[leads.bulk$global_corr_p_value < 0.0001,]\n",
    "nrow(leads.bulk.sign)\n",
    "\n",
    "leads.bulk.in.sc = inner_join(leads.bulk.sign, res.ips, by = c(\"snp_id\",\"feature\"), suffix = c(\".bulk\",\".sc\"))\n",
    "nrow(leads.bulk.in.sc)\n",
    "\n",
    "nrow(leads.bulk.in.sc[leads.bulk.in.sc$p_value.sc < 0.05,])\n",
    "nrow(leads.bulk.in.sc[leads.bulk.in.sc$p_value.sc < 0.05,])/nrow(leads.bulk.in.sc)\n",
    "\n",
    "nrow(leads.bulk.in.sc[leads.bulk.in.sc$p_value.sc < 0.05 & \n",
    "                      (leads.bulk.in.sc$beta.bulk*leads.bulk.in.sc$beta.sc)>0,])\n",
    "nrow(leads.bulk.in.sc[leads.bulk.in.sc$p_value.sc < 0.05 & \n",
    "                      (leads.bulk.in.sc$beta.bulk*leads.bulk.in.sc$beta.sc)>0,])/nrow(leads.bulk.in.sc)"
   ]
  },
  {
   "cell_type": "code",
   "execution_count": 28,
   "metadata": {},
   "outputs": [],
   "source": [
    "####### Fig.2B"
   ]
  },
  {
   "cell_type": "code",
   "execution_count": 33,
   "metadata": {},
   "outputs": [
    {
     "data": {
      "image/png": "[encoded data removed]",
      "text/plain": [
       "plot without title"
      ]
     },
     "metadata": {},
     "output_type": "display_data"
    }
   ],
   "source": [
    "options(repr.plot.width = 7, repr.plot.height = 5)\n",
    "\n",
    "# y1-values\n",
    "peptide_total <- c(1830, 2908, 1356, 896, 634)\n",
    "# y2-values\n",
    "peptide_unique <- c(1217, 1577, 1032, 759, 567)\n",
    "\n",
    "# determine ymax (from y1-values)\n",
    "ymax <- peptide_total[which.max(peptide_total)]\n",
    "\n",
    "# assign vector of midpoint-values of first barplot (y1) to x \n",
    "x <- barplot(peptide_total, border = c('darkgray','black', 'black','black','black'), \n",
    "             col = 'white', xlim = c(0, 6), ylim = c(0, 3000), space = 0.8,\n",
    "             width = 0.5, ylab = \"# eGenes\")\n",
    "\n",
    "par(new = TRUE)\n",
    "\n",
    "barplot(peptide_unique,  border = c('black', 'darkgray','darkgray','darkgray','darkgray'), \n",
    "        col = c('black', 'gray','gray','gray','gray'),\n",
    "        xlim = c(-0.2, 5.8), ylim = c(0, 3000),\n",
    "        width = 0.5, space = 0.8, axisnames = FALSE)"
   ]
  },
  {
   "cell_type": "code",
   "execution_count": null,
   "metadata": {},
   "outputs": [],
   "source": [
    "######## get complete set of results"
   ]
  },
  {
   "cell_type": "code",
   "execution_count": 1,
   "metadata": {},
   "outputs": [],
   "source": [
    "allres <- read.csv(\"/hps/nobackup/hipsci/scratch/singlecell_endodiff/data_processed/scQTLs/interactions/alldays/all_results_combined.csv\",row.names = 1)"
   ]
  },
  {
   "cell_type": "code",
   "execution_count": 2,
   "metadata": {},
   "outputs": [
    {
     "data": {
      "text/html": [
       "4824"
      ],
      "text/latex": [
       "4824"
      ],
      "text/markdown": [
       "4824"
      ],
      "text/plain": [
       "[1] 4824"
      ]
     },
     "metadata": {},
     "output_type": "display_data"
    }
   ],
   "source": [
    "nrow(allres)"
   ]
  },
  {
   "cell_type": "code",
   "execution_count": 3,
   "metadata": {},
   "outputs": [
    {
     "data": {
      "text/html": [
       "<table>\n",
       "<thead><tr><th></th><th scope=col>beta.mean</th><th scope=col>beta_se</th><th scope=col>empirical_feature_p_value</th><th scope=col>p_value.mean</th><th scope=col>snp_id</th><th scope=col>feature</th><th scope=col>global_corr_p_value</th><th scope=col>chrom</th><th scope=col>pos</th><th scope=col>ref_allele</th><th scope=col>⋯</th><th scope=col>permutation_7</th><th scope=col>permutation_8</th><th scope=col>permutation_9</th><th scope=col>stage</th><th scope=col>sign.mean</th><th scope=col>stage_specific</th><th scope=col>p_value.int</th><th scope=col>q_value</th><th scope=col>beta.int</th><th scope=col>sign.int</th></tr></thead>\n",
       "<tbody>\n",
       "\t<tr><th scope=row>24</th><td>-1.386281               </td><td>0.1083733               </td><td>1.592971e-18            </td><td>1.823854e-37            </td><td>6_31132414_G_A          </td><td>ENSG00000204531_POU5F1  </td><td>5.264237e-16            </td><td>6                       </td><td> 31132414               </td><td>G                       </td><td>⋯                       </td><td>0.7882827               </td><td>0.27434634              </td><td>0.8380203               </td><td>ips                     </td><td>TRUE                    </td><td>FALSE                   </td><td>2.225074e-308           </td><td>1.184094e-305           </td><td> 0.017999188            </td><td>TRUE                    </td></tr>\n",
       "\t<tr><th scope=row>117</th><td>-1.270786               </td><td>0.1469673               </td><td>1.977147e-11            </td><td>5.299864e-18            </td><td>6_32634922_A_G          </td><td>ENSG00000179344_HLA-DQB1</td><td>1.340269e-09            </td><td>6                       </td><td> 32634922               </td><td>A                       </td><td>⋯                       </td><td>0.6356307               </td><td>0.65583848              </td><td>0.7961894               </td><td>ips                     </td><td>TRUE                    </td><td>FALSE                   </td><td>2.225074e-308           </td><td>1.184094e-305           </td><td>-0.014912210            </td><td>TRUE                    </td></tr>\n",
       "\t<tr><th scope=row>1867</th><td>-1.375988               </td><td>0.1478612               </td><td>8.485500e-15            </td><td>1.328104e-20            </td><td>6_32634922_A_G          </td><td>ENSG00000179344_HLA-DQB1</td><td>1.519887e-12            </td><td>6                       </td><td> 32634922               </td><td>A                       </td><td>⋯                       </td><td>0.9319215               </td><td>0.48339261              </td><td>0.5968726               </td><td>mesendo                 </td><td>TRUE                    </td><td>FALSE                   </td><td>2.225074e-308           </td><td>1.184094e-305           </td><td>-0.014912210            </td><td>TRUE                    </td></tr>\n",
       "\t<tr><th scope=row>3552</th><td>-1.438379               </td><td>0.1499301               </td><td>3.298243e-12            </td><td>8.500689e-22            </td><td>6_32634922_A_G          </td><td>ENSG00000179344_HLA-DQB1</td><td>5.981274e-10            </td><td>6                       </td><td> 32634922               </td><td>A                       </td><td>⋯                       </td><td>0.5407123               </td><td>0.57628089              </td><td>0.2056868               </td><td>defendo                 </td><td>TRUE                    </td><td>FALSE                   </td><td>2.225074e-308           </td><td>1.184094e-305           </td><td>-0.014912210            </td><td>TRUE                    </td></tr>\n",
       "\t<tr><th scope=row>20</th><td>-1.371767               </td><td>0.1094063               </td><td>1.461609e-19            </td><td>4.608624e-36            </td><td>9_136227260_A_G         </td><td>ENSG00000148291_SURF2   </td><td>5.796154e-17            </td><td>9                       </td><td>136227260               </td><td>A                       </td><td>⋯                       </td><td>0.2871386               </td><td>0.02864323              </td><td>0.5149517               </td><td>ips                     </td><td>TRUE                    </td><td>FALSE                   </td><td>1.630308e-200           </td><td>5.783893e-198           </td><td> 0.009027511            </td><td>TRUE                    </td></tr>\n",
       "\t<tr><th scope=row>1840</th><td>-1.410832               </td><td>0.1143974               </td><td>6.363028e-20            </td><td>6.036677e-35            </td><td>9_136227260_A_G         </td><td>ENSG00000148291_SURF2   </td><td>2.949861e-17            </td><td>9                       </td><td>136227260               </td><td>A                       </td><td>⋯                       </td><td>0.1916902               </td><td>0.52999153              </td><td>0.8323928               </td><td>mesendo                 </td><td>TRUE                    </td><td>FALSE                   </td><td>1.630308e-200           </td><td>5.783893e-198           </td><td> 0.009027511            </td><td>TRUE                    </td></tr>\n",
       "</tbody>\n",
       "</table>\n"
      ],
      "text/latex": [
       "\\begin{tabular}{r|llllllllllllllllllllllllllll}\n",
       "  & beta.mean & beta\\_se & empirical\\_feature\\_p\\_value & p\\_value.mean & snp\\_id & feature & global\\_corr\\_p\\_value & chrom & pos & ref\\_allele & ⋯ & permutation\\_7 & permutation\\_8 & permutation\\_9 & stage & sign.mean & stage\\_specific & p\\_value.int & q\\_value & beta.int & sign.int\\\\\n",
       "\\hline\n",
       "\t24 & -1.386281                  & 0.1083733                  & 1.592971e-18               & 1.823854e-37               & 6\\_31132414\\_G\\_A       & ENSG00000204531\\_POU5F1   & 5.264237e-16               & 6                          &  31132414                  & G                          & ⋯                          & 0.7882827                  & 0.27434634                 & 0.8380203                  & ips                        & TRUE                       & FALSE                      & 2.225074e-308              & 1.184094e-305              &  0.017999188               & TRUE                      \\\\\n",
       "\t117 & -1.270786                  & 0.1469673                  & 1.977147e-11               & 5.299864e-18               & 6\\_32634922\\_A\\_G       & ENSG00000179344\\_HLA-DQB1 & 1.340269e-09               & 6                          &  32634922                  & A                          & ⋯                          & 0.6356307                  & 0.65583848                 & 0.7961894                  & ips                        & TRUE                       & FALSE                      & 2.225074e-308              & 1.184094e-305              & -0.014912210               & TRUE                      \\\\\n",
       "\t1867 & -1.375988                  & 0.1478612                  & 8.485500e-15               & 1.328104e-20               & 6\\_32634922\\_A\\_G       & ENSG00000179344\\_HLA-DQB1 & 1.519887e-12               & 6                          &  32634922                  & A                          & ⋯                          & 0.9319215                  & 0.48339261                 & 0.5968726                  & mesendo                    & TRUE                       & FALSE                      & 2.225074e-308              & 1.184094e-305              & -0.014912210               & TRUE                      \\\\\n",
       "\t3552 & -1.438379                  & 0.1499301                  & 3.298243e-12               & 8.500689e-22               & 6\\_32634922\\_A\\_G       & ENSG00000179344\\_HLA-DQB1 & 5.981274e-10               & 6                          &  32634922                  & A                          & ⋯                          & 0.5407123                  & 0.57628089                 & 0.2056868                  & defendo                    & TRUE                       & FALSE                      & 2.225074e-308              & 1.184094e-305              & -0.014912210               & TRUE                      \\\\\n",
       "\t20 & -1.371767                  & 0.1094063                  & 1.461609e-19               & 4.608624e-36               & 9\\_136227260\\_A\\_G      & ENSG00000148291\\_SURF2    & 5.796154e-17               & 9                          & 136227260                  & A                          & ⋯                          & 0.2871386                  & 0.02864323                 & 0.5149517                  & ips                        & TRUE                       & FALSE                      & 1.630308e-200              & 5.783893e-198              &  0.009027511               & TRUE                      \\\\\n",
       "\t1840 & -1.410832                  & 0.1143974                  & 6.363028e-20               & 6.036677e-35               & 9\\_136227260\\_A\\_G      & ENSG00000148291\\_SURF2    & 2.949861e-17               & 9                          & 136227260                  & A                          & ⋯                          & 0.1916902                  & 0.52999153                 & 0.8323928                  & mesendo                    & TRUE                       & FALSE                      & 1.630308e-200              & 5.783893e-198              &  0.009027511               & TRUE                      \\\\\n",
       "\\end{tabular}\n"
      ],
      "text/markdown": [
       "\n",
       "| <!--/--> | beta.mean | beta_se | empirical_feature_p_value | p_value.mean | snp_id | feature | global_corr_p_value | chrom | pos | ref_allele | ⋯ | permutation_7 | permutation_8 | permutation_9 | stage | sign.mean | stage_specific | p_value.int | q_value | beta.int | sign.int | \n",
       "|---|---|---|---|---|---|\n",
       "| 24 | -1.386281                | 0.1083733                | 1.592971e-18             | 1.823854e-37             | 6_31132414_G_A           | ENSG00000204531_POU5F1   | 5.264237e-16             | 6                        |  31132414                | G                        | ⋯                        | 0.7882827                | 0.27434634               | 0.8380203                | ips                      | TRUE                     | FALSE                    | 2.225074e-308            | 1.184094e-305            |  0.017999188             | TRUE                     | \n",
       "| 117 | -1.270786                | 0.1469673                | 1.977147e-11             | 5.299864e-18             | 6_32634922_A_G           | ENSG00000179344_HLA-DQB1 | 1.340269e-09             | 6                        |  32634922                | A                        | ⋯                        | 0.6356307                | 0.65583848               | 0.7961894                | ips                      | TRUE                     | FALSE                    | 2.225074e-308            | 1.184094e-305            | -0.014912210             | TRUE                     | \n",
       "| 1867 | -1.375988                | 0.1478612                | 8.485500e-15             | 1.328104e-20             | 6_32634922_A_G           | ENSG00000179344_HLA-DQB1 | 1.519887e-12             | 6                        |  32634922                | A                        | ⋯                        | 0.9319215                | 0.48339261               | 0.5968726                | mesendo                  | TRUE                     | FALSE                    | 2.225074e-308            | 1.184094e-305            | -0.014912210             | TRUE                     | \n",
       "| 3552 | -1.438379                | 0.1499301                | 3.298243e-12             | 8.500689e-22             | 6_32634922_A_G           | ENSG00000179344_HLA-DQB1 | 5.981274e-10             | 6                        |  32634922                | A                        | ⋯                        | 0.5407123                | 0.57628089               | 0.2056868                | defendo                  | TRUE                     | FALSE                    | 2.225074e-308            | 1.184094e-305            | -0.014912210             | TRUE                     | \n",
       "| 20 | -1.371767                | 0.1094063                | 1.461609e-19             | 4.608624e-36             | 9_136227260_A_G          | ENSG00000148291_SURF2    | 5.796154e-17             | 9                        | 136227260                | A                        | ⋯                        | 0.2871386                | 0.02864323               | 0.5149517                | ips                      | TRUE                     | FALSE                    | 1.630308e-200            | 5.783893e-198            |  0.009027511             | TRUE                     | \n",
       "| 1840 | -1.410832                | 0.1143974                | 6.363028e-20             | 6.036677e-35             | 9_136227260_A_G          | ENSG00000148291_SURF2    | 2.949861e-17             | 9                        | 136227260                | A                        | ⋯                        | 0.1916902                | 0.52999153               | 0.8323928                | mesendo                  | TRUE                     | FALSE                    | 1.630308e-200            | 5.783893e-198            |  0.009027511             | TRUE                     | \n",
       "\n",
       "\n"
      ],
      "text/plain": [
       "     beta.mean beta_se   empirical_feature_p_value p_value.mean snp_id         \n",
       "24   -1.386281 0.1083733 1.592971e-18              1.823854e-37 6_31132414_G_A \n",
       "117  -1.270786 0.1469673 1.977147e-11              5.299864e-18 6_32634922_A_G \n",
       "1867 -1.375988 0.1478612 8.485500e-15              1.328104e-20 6_32634922_A_G \n",
       "3552 -1.438379 0.1499301 3.298243e-12              8.500689e-22 6_32634922_A_G \n",
       "20   -1.371767 0.1094063 1.461609e-19              4.608624e-36 9_136227260_A_G\n",
       "1840 -1.410832 0.1143974 6.363028e-20              6.036677e-35 9_136227260_A_G\n",
       "     feature                  global_corr_p_value chrom pos       ref_allele ⋯\n",
       "24   ENSG00000204531_POU5F1   5.264237e-16        6      31132414 G          ⋯\n",
       "117  ENSG00000179344_HLA-DQB1 1.340269e-09        6      32634922 A          ⋯\n",
       "1867 ENSG00000179344_HLA-DQB1 1.519887e-12        6      32634922 A          ⋯\n",
       "3552 ENSG00000179344_HLA-DQB1 5.981274e-10        6      32634922 A          ⋯\n",
       "20   ENSG00000148291_SURF2    5.796154e-17        9     136227260 A          ⋯\n",
       "1840 ENSG00000148291_SURF2    2.949861e-17        9     136227260 A          ⋯\n",
       "     permutation_7 permutation_8 permutation_9 stage   sign.mean stage_specific\n",
       "24   0.7882827     0.27434634    0.8380203     ips     TRUE      FALSE         \n",
       "117  0.6356307     0.65583848    0.7961894     ips     TRUE      FALSE         \n",
       "1867 0.9319215     0.48339261    0.5968726     mesendo TRUE      FALSE         \n",
       "3552 0.5407123     0.57628089    0.2056868     defendo TRUE      FALSE         \n",
       "20   0.2871386     0.02864323    0.5149517     ips     TRUE      FALSE         \n",
       "1840 0.1916902     0.52999153    0.8323928     mesendo TRUE      FALSE         \n",
       "     p_value.int   q_value       beta.int     sign.int\n",
       "24   2.225074e-308 1.184094e-305  0.017999188 TRUE    \n",
       "117  2.225074e-308 1.184094e-305 -0.014912210 TRUE    \n",
       "1867 2.225074e-308 1.184094e-305 -0.014912210 TRUE    \n",
       "3552 2.225074e-308 1.184094e-305 -0.014912210 TRUE    \n",
       "20   1.630308e-200 5.783893e-198  0.009027511 TRUE    \n",
       "1840 1.630308e-200 5.783893e-198  0.009027511 TRUE    "
      ]
     },
     "metadata": {},
     "output_type": "display_data"
    }
   ],
   "source": [
    "head(allres)"
   ]
  },
  {
   "cell_type": "code",
   "execution_count": 4,
   "metadata": {},
   "outputs": [
    {
     "data": {
      "text/html": [
       "<table>\n",
       "<thead><tr><th></th><th scope=col>snp_id</th><th scope=col>feature</th></tr></thead>\n",
       "<tbody>\n",
       "\t<tr><th scope=row>24</th><td>6_31132414_G_A          </td><td>ENSG00000204531_POU5F1  </td></tr>\n",
       "\t<tr><th scope=row>117</th><td>6_32634922_A_G          </td><td>ENSG00000179344_HLA-DQB1</td></tr>\n",
       "\t<tr><th scope=row>1867</th><td>6_32634922_A_G          </td><td>ENSG00000179344_HLA-DQB1</td></tr>\n",
       "\t<tr><th scope=row>3552</th><td>6_32634922_A_G          </td><td>ENSG00000179344_HLA-DQB1</td></tr>\n",
       "\t<tr><th scope=row>20</th><td>9_136227260_A_G         </td><td>ENSG00000148291_SURF2   </td></tr>\n",
       "\t<tr><th scope=row>1840</th><td>9_136227260_A_G         </td><td>ENSG00000148291_SURF2   </td></tr>\n",
       "</tbody>\n",
       "</table>\n"
      ],
      "text/latex": [
       "\\begin{tabular}{r|ll}\n",
       "  & snp\\_id & feature\\\\\n",
       "\\hline\n",
       "\t24 & 6\\_31132414\\_G\\_A       & ENSG00000204531\\_POU5F1  \\\\\n",
       "\t117 & 6\\_32634922\\_A\\_G       & ENSG00000179344\\_HLA-DQB1\\\\\n",
       "\t1867 & 6\\_32634922\\_A\\_G       & ENSG00000179344\\_HLA-DQB1\\\\\n",
       "\t3552 & 6\\_32634922\\_A\\_G       & ENSG00000179344\\_HLA-DQB1\\\\\n",
       "\t20 & 9\\_136227260\\_A\\_G      & ENSG00000148291\\_SURF2   \\\\\n",
       "\t1840 & 9\\_136227260\\_A\\_G      & ENSG00000148291\\_SURF2   \\\\\n",
       "\\end{tabular}\n"
      ],
      "text/markdown": [
       "\n",
       "| <!--/--> | snp_id | feature | \n",
       "|---|---|---|---|---|---|\n",
       "| 24 | 6_31132414_G_A           | ENSG00000204531_POU5F1   | \n",
       "| 117 | 6_32634922_A_G           | ENSG00000179344_HLA-DQB1 | \n",
       "| 1867 | 6_32634922_A_G           | ENSG00000179344_HLA-DQB1 | \n",
       "| 3552 | 6_32634922_A_G           | ENSG00000179344_HLA-DQB1 | \n",
       "| 20 | 9_136227260_A_G          | ENSG00000148291_SURF2    | \n",
       "| 1840 | 9_136227260_A_G          | ENSG00000148291_SURF2    | \n",
       "\n",
       "\n"
      ],
      "text/plain": [
       "     snp_id          feature                 \n",
       "24   6_31132414_G_A  ENSG00000204531_POU5F1  \n",
       "117  6_32634922_A_G  ENSG00000179344_HLA-DQB1\n",
       "1867 6_32634922_A_G  ENSG00000179344_HLA-DQB1\n",
       "3552 6_32634922_A_G  ENSG00000179344_HLA-DQB1\n",
       "20   9_136227260_A_G ENSG00000148291_SURF2   \n",
       "1840 9_136227260_A_G ENSG00000148291_SURF2   "
      ]
     },
     "metadata": {},
     "output_type": "display_data"
    }
   ],
   "source": [
    "df = allres[,c(\"snp_id\",\"feature\")]\n",
    "head(df)"
   ]
  },
  {
   "cell_type": "code",
   "execution_count": 5,
   "metadata": {},
   "outputs": [],
   "source": [
    "myfile = \"/nfs/leia/research/stegle/acuomo/singlecell_endodiff/data/exploratory_analysis/input_files/full_sc_exprs_merged_leads.tsv\""
   ]
  },
  {
   "cell_type": "code",
   "execution_count": 6,
   "metadata": {},
   "outputs": [],
   "source": [
    "write.table(df,myfile,sep = \"\\t\", quote = F, row.names = F)"
   ]
  },
  {
   "cell_type": "code",
   "execution_count": 18,
   "metadata": {},
   "outputs": [],
   "source": [
    "### add gene start, gene end, strand info from sceset"
   ]
  },
  {
   "cell_type": "code",
   "execution_count": 52,
   "metadata": {},
   "outputs": [],
   "source": [
    "# sce = readRDS(\"/hps/nobackup/hipsci/scratch/singlecell_endodiff/data_processed/merged/20180618/sce_merged_afterqc_filt_allexpts.rds\")"
   ]
  },
  {
   "cell_type": "code",
   "execution_count": 58,
   "metadata": {},
   "outputs": [
    {
     "data": {
      "text/html": [
       "<table>\n",
       "<thead><tr><th scope=col>feature</th><th scope=col>exprs_collapsed_to</th><th scope=col>ensembl_transcript_id</th><th scope=col>ensembl_gene_id</th><th scope=col>hgnc_symbol</th><th scope=col>chromosome_name</th><th scope=col>start_position</th><th scope=col>end_position</th><th scope=col>gene_biotype</th><th scope=col>feature_symbol</th><th scope=col>feature_id</th><th scope=col>is_feature_control</th><th scope=col>is_intop100hvg</th><th scope=col>is_intop200hvg</th><th scope=col>is_intop500hvg</th><th scope=col>is_intop1000hvg</th><th scope=col>is_intop2000hvg</th><th scope=col>is_hvg</th></tr></thead>\n",
       "<tbody>\n",
       "\t<tr><td>ENSG00000000003_TSPAN6  </td><td>ENSG00000000003         </td><td>ENST00000373020         </td><td>ENSG00000000003         </td><td>TSPAN6                  </td><td>X                       </td><td> 99883667               </td><td> 99894988               </td><td>protein_coding          </td><td>TSPAN6                  </td><td>ENSG00000000003         </td><td>FALSE                   </td><td>FALSE                   </td><td>FALSE                   </td><td>FALSE                   </td><td>FALSE                   </td><td>FALSE                   </td><td>FALSE                   </td></tr>\n",
       "\t<tr><td>ENSG00000000419_DPM1    </td><td>ENSG00000000419         </td><td>ENST00000371588         </td><td>ENSG00000000419         </td><td>DPM1                    </td><td>20                      </td><td> 49551404               </td><td> 49575092               </td><td>protein_coding          </td><td>DPM1                    </td><td>ENSG00000000419         </td><td>FALSE                   </td><td>FALSE                   </td><td>FALSE                   </td><td>FALSE                   </td><td>FALSE                   </td><td>FALSE                   </td><td>FALSE                   </td></tr>\n",
       "\t<tr><td>ENSG00000000457_SCYL3   </td><td>ENSG00000000457         </td><td>ENST00000367771         </td><td>ENSG00000000457         </td><td>SCYL3                   </td><td>1                       </td><td>169818772               </td><td>169863408               </td><td>protein_coding          </td><td>SCYL3                   </td><td>ENSG00000000457         </td><td>FALSE                   </td><td>FALSE                   </td><td>FALSE                   </td><td>FALSE                   </td><td>FALSE                   </td><td>FALSE                   </td><td>FALSE                   </td></tr>\n",
       "\t<tr><td>ENSG00000000460_C1orf112</td><td>ENSG00000000460         </td><td>ENST00000498289         </td><td>ENSG00000000460         </td><td>C1orf112                </td><td>1                       </td><td>169631245               </td><td>169823221               </td><td>protein_coding          </td><td>C1orf112                </td><td>ENSG00000000460         </td><td>FALSE                   </td><td>FALSE                   </td><td>FALSE                   </td><td>FALSE                   </td><td>FALSE                   </td><td>FALSE                   </td><td>FALSE                   </td></tr>\n",
       "\t<tr><td>ENSG00000001036_FUCA2   </td><td>ENSG00000001036         </td><td>ENST00000002165         </td><td>ENSG00000001036         </td><td>FUCA2                   </td><td>6                       </td><td>143815948               </td><td>143832827               </td><td>protein_coding          </td><td>FUCA2                   </td><td>ENSG00000001036         </td><td>FALSE                   </td><td>FALSE                   </td><td>FALSE                   </td><td>FALSE                   </td><td>FALSE                   </td><td>FALSE                   </td><td>FALSE                   </td></tr>\n",
       "\t<tr><td>ENSG00000001084_GCLC    </td><td>ENSG00000001084         </td><td>ENST00000509541         </td><td>ENSG00000001084         </td><td>GCLC                    </td><td>6                       </td><td> 53362139               </td><td> 53481768               </td><td>protein_coding          </td><td>GCLC                    </td><td>ENSG00000001084         </td><td>FALSE                   </td><td>FALSE                   </td><td>FALSE                   </td><td>FALSE                   </td><td>FALSE                   </td><td>FALSE                   </td><td>FALSE                   </td></tr>\n",
       "</tbody>\n",
       "</table>\n"
      ],
      "text/latex": [
       "\\begin{tabular}{r|llllllllllllllllll}\n",
       " feature & exprs\\_collapsed\\_to & ensembl\\_transcript\\_id & ensembl\\_gene\\_id & hgnc\\_symbol & chromosome\\_name & start\\_position & end\\_position & gene\\_biotype & feature\\_symbol & feature\\_id & is\\_feature\\_control & is\\_intop100hvg & is\\_intop200hvg & is\\_intop500hvg & is\\_intop1000hvg & is\\_intop2000hvg & is\\_hvg\\\\\n",
       "\\hline\n",
       "\t ENSG00000000003\\_TSPAN6   & ENSG00000000003            & ENST00000373020            & ENSG00000000003            & TSPAN6                     & X                          &  99883667                  &  99894988                  & protein\\_coding           & TSPAN6                     & ENSG00000000003            & FALSE                      & FALSE                      & FALSE                      & FALSE                      & FALSE                      & FALSE                      & FALSE                     \\\\\n",
       "\t ENSG00000000419\\_DPM1     & ENSG00000000419            & ENST00000371588            & ENSG00000000419            & DPM1                       & 20                         &  49551404                  &  49575092                  & protein\\_coding           & DPM1                       & ENSG00000000419            & FALSE                      & FALSE                      & FALSE                      & FALSE                      & FALSE                      & FALSE                      & FALSE                     \\\\\n",
       "\t ENSG00000000457\\_SCYL3    & ENSG00000000457            & ENST00000367771            & ENSG00000000457            & SCYL3                      & 1                          & 169818772                  & 169863408                  & protein\\_coding           & SCYL3                      & ENSG00000000457            & FALSE                      & FALSE                      & FALSE                      & FALSE                      & FALSE                      & FALSE                      & FALSE                     \\\\\n",
       "\t ENSG00000000460\\_C1orf112 & ENSG00000000460            & ENST00000498289            & ENSG00000000460            & C1orf112                   & 1                          & 169631245                  & 169823221                  & protein\\_coding           & C1orf112                   & ENSG00000000460            & FALSE                      & FALSE                      & FALSE                      & FALSE                      & FALSE                      & FALSE                      & FALSE                     \\\\\n",
       "\t ENSG00000001036\\_FUCA2    & ENSG00000001036            & ENST00000002165            & ENSG00000001036            & FUCA2                      & 6                          & 143815948                  & 143832827                  & protein\\_coding           & FUCA2                      & ENSG00000001036            & FALSE                      & FALSE                      & FALSE                      & FALSE                      & FALSE                      & FALSE                      & FALSE                     \\\\\n",
       "\t ENSG00000001084\\_GCLC     & ENSG00000001084            & ENST00000509541            & ENSG00000001084            & GCLC                       & 6                          &  53362139                  &  53481768                  & protein\\_coding           & GCLC                       & ENSG00000001084            & FALSE                      & FALSE                      & FALSE                      & FALSE                      & FALSE                      & FALSE                      & FALSE                     \\\\\n",
       "\\end{tabular}\n"
      ],
      "text/markdown": [
       "\n",
       "feature | exprs_collapsed_to | ensembl_transcript_id | ensembl_gene_id | hgnc_symbol | chromosome_name | start_position | end_position | gene_biotype | feature_symbol | feature_id | is_feature_control | is_intop100hvg | is_intop200hvg | is_intop500hvg | is_intop1000hvg | is_intop2000hvg | is_hvg | \n",
       "|---|---|---|---|---|---|\n",
       "| ENSG00000000003_TSPAN6   | ENSG00000000003          | ENST00000373020          | ENSG00000000003          | TSPAN6                   | X                        |  99883667                |  99894988                | protein_coding           | TSPAN6                   | ENSG00000000003          | FALSE                    | FALSE                    | FALSE                    | FALSE                    | FALSE                    | FALSE                    | FALSE                    | \n",
       "| ENSG00000000419_DPM1     | ENSG00000000419          | ENST00000371588          | ENSG00000000419          | DPM1                     | 20                       |  49551404                |  49575092                | protein_coding           | DPM1                     | ENSG00000000419          | FALSE                    | FALSE                    | FALSE                    | FALSE                    | FALSE                    | FALSE                    | FALSE                    | \n",
       "| ENSG00000000457_SCYL3    | ENSG00000000457          | ENST00000367771          | ENSG00000000457          | SCYL3                    | 1                        | 169818772                | 169863408                | protein_coding           | SCYL3                    | ENSG00000000457          | FALSE                    | FALSE                    | FALSE                    | FALSE                    | FALSE                    | FALSE                    | FALSE                    | \n",
       "| ENSG00000000460_C1orf112 | ENSG00000000460          | ENST00000498289          | ENSG00000000460          | C1orf112                 | 1                        | 169631245                | 169823221                | protein_coding           | C1orf112                 | ENSG00000000460          | FALSE                    | FALSE                    | FALSE                    | FALSE                    | FALSE                    | FALSE                    | FALSE                    | \n",
       "| ENSG00000001036_FUCA2    | ENSG00000001036          | ENST00000002165          | ENSG00000001036          | FUCA2                    | 6                        | 143815948                | 143832827                | protein_coding           | FUCA2                    | ENSG00000001036          | FALSE                    | FALSE                    | FALSE                    | FALSE                    | FALSE                    | FALSE                    | FALSE                    | \n",
       "| ENSG00000001084_GCLC     | ENSG00000001084          | ENST00000509541          | ENSG00000001084          | GCLC                     | 6                        |  53362139                |  53481768                | protein_coding           | GCLC                     | ENSG00000001084          | FALSE                    | FALSE                    | FALSE                    | FALSE                    | FALSE                    | FALSE                    | FALSE                    | \n",
       "\n",
       "\n"
      ],
      "text/plain": [
       "  feature                  exprs_collapsed_to ensembl_transcript_id\n",
       "1 ENSG00000000003_TSPAN6   ENSG00000000003    ENST00000373020      \n",
       "2 ENSG00000000419_DPM1     ENSG00000000419    ENST00000371588      \n",
       "3 ENSG00000000457_SCYL3    ENSG00000000457    ENST00000367771      \n",
       "4 ENSG00000000460_C1orf112 ENSG00000000460    ENST00000498289      \n",
       "5 ENSG00000001036_FUCA2    ENSG00000001036    ENST00000002165      \n",
       "6 ENSG00000001084_GCLC     ENSG00000001084    ENST00000509541      \n",
       "  ensembl_gene_id hgnc_symbol chromosome_name start_position end_position\n",
       "1 ENSG00000000003 TSPAN6      X                99883667       99894988   \n",
       "2 ENSG00000000419 DPM1        20               49551404       49575092   \n",
       "3 ENSG00000000457 SCYL3       1               169818772      169863408   \n",
       "4 ENSG00000000460 C1orf112    1               169631245      169823221   \n",
       "5 ENSG00000001036 FUCA2       6               143815948      143832827   \n",
       "6 ENSG00000001084 GCLC        6                53362139       53481768   \n",
       "  gene_biotype   feature_symbol feature_id      is_feature_control\n",
       "1 protein_coding TSPAN6         ENSG00000000003 FALSE             \n",
       "2 protein_coding DPM1           ENSG00000000419 FALSE             \n",
       "3 protein_coding SCYL3          ENSG00000000457 FALSE             \n",
       "4 protein_coding C1orf112       ENSG00000000460 FALSE             \n",
       "5 protein_coding FUCA2          ENSG00000001036 FALSE             \n",
       "6 protein_coding GCLC           ENSG00000001084 FALSE             \n",
       "  is_intop100hvg is_intop200hvg is_intop500hvg is_intop1000hvg is_intop2000hvg\n",
       "1 FALSE          FALSE          FALSE          FALSE           FALSE          \n",
       "2 FALSE          FALSE          FALSE          FALSE           FALSE          \n",
       "3 FALSE          FALSE          FALSE          FALSE           FALSE          \n",
       "4 FALSE          FALSE          FALSE          FALSE           FALSE          \n",
       "5 FALSE          FALSE          FALSE          FALSE           FALSE          \n",
       "6 FALSE          FALSE          FALSE          FALSE           FALSE          \n",
       "  is_hvg\n",
       "1 FALSE \n",
       "2 FALSE \n",
       "3 FALSE \n",
       "4 FALSE \n",
       "5 FALSE \n",
       "6 FALSE "
      ]
     },
     "metadata": {},
     "output_type": "display_data"
    }
   ],
   "source": [
    "df_geneinfo = as.data.frame(cbind(rownames(sce),rowData(sce)))\n",
    "colnames(df_geneinfo)[1] <- \"feature\"\n",
    "head(df_geneinfo)"
   ]
  },
  {
   "cell_type": "code",
   "execution_count": 59,
   "metadata": {},
   "outputs": [],
   "source": [
    "extra_gene_info_filename = \"/nfs/leia/research/stegle/dseaton/genomes/hg19/annotation/Homo_sapiens.GRCh37.75.genes.bed\"\n",
    "extra_gene_info = read.table(extra_gene_info_filename)\n",
    "colnames(extra_gene_info) = c(\"chromosome_name\",\"start_position\",\"end_position\",\"ensembl_gene_id\",\"gene_biotype\",\"strand\")\n",
    "head(extra_gene_info)"
   ]
  },
  {
   "cell_type": "code",
   "execution_count": 64,
   "metadata": {},
   "outputs": [
    {
     "data": {
      "text/html": [
       "<table>\n",
       "<thead><tr><th scope=col>feature</th><th scope=col>exprs_collapsed_to</th><th scope=col>ensembl_transcript_id</th><th scope=col>ensembl_gene_id</th><th scope=col>hgnc_symbol</th><th scope=col>chromosome_name</th><th scope=col>start_position.x</th><th scope=col>end_position.x</th><th scope=col>gene_biotype</th><th scope=col>feature_symbol</th><th scope=col>⋯</th><th scope=col>is_feature_control</th><th scope=col>is_intop100hvg</th><th scope=col>is_intop200hvg</th><th scope=col>is_intop500hvg</th><th scope=col>is_intop1000hvg</th><th scope=col>is_intop2000hvg</th><th scope=col>is_hvg</th><th scope=col>start_position.y</th><th scope=col>end_position.y</th><th scope=col>strand</th></tr></thead>\n",
       "<tbody>\n",
       "\t<tr><td>ENSG00000000003_TSPAN6  </td><td>ENSG00000000003         </td><td>ENST00000373020         </td><td>ENSG00000000003         </td><td>TSPAN6                  </td><td>X                       </td><td> 99883667               </td><td> 99894988               </td><td>protein_coding          </td><td>TSPAN6                  </td><td>⋯                       </td><td>FALSE                   </td><td>FALSE                   </td><td>FALSE                   </td><td>FALSE                   </td><td>FALSE                   </td><td>FALSE                   </td><td>FALSE                   </td><td> 99883666               </td><td> 99894988               </td><td>-                       </td></tr>\n",
       "\t<tr><td>ENSG00000000419_DPM1    </td><td>ENSG00000000419         </td><td>ENST00000371588         </td><td>ENSG00000000419         </td><td>DPM1                    </td><td>20                      </td><td> 49551404               </td><td> 49575092               </td><td>protein_coding          </td><td>DPM1                    </td><td>⋯                       </td><td>FALSE                   </td><td>FALSE                   </td><td>FALSE                   </td><td>FALSE                   </td><td>FALSE                   </td><td>FALSE                   </td><td>FALSE                   </td><td> 49551403               </td><td> 49575092               </td><td>-                       </td></tr>\n",
       "\t<tr><td>ENSG00000000457_SCYL3   </td><td>ENSG00000000457         </td><td>ENST00000367771         </td><td>ENSG00000000457         </td><td>SCYL3                   </td><td>1                       </td><td>169818772               </td><td>169863408               </td><td>protein_coding          </td><td>SCYL3                   </td><td>⋯                       </td><td>FALSE                   </td><td>FALSE                   </td><td>FALSE                   </td><td>FALSE                   </td><td>FALSE                   </td><td>FALSE                   </td><td>FALSE                   </td><td>169818771               </td><td>169863408               </td><td>-                       </td></tr>\n",
       "\t<tr><td>ENSG00000000460_C1orf112</td><td>ENSG00000000460         </td><td>ENST00000498289         </td><td>ENSG00000000460         </td><td>C1orf112                </td><td>1                       </td><td>169631245               </td><td>169823221               </td><td>protein_coding          </td><td>C1orf112                </td><td>⋯                       </td><td>FALSE                   </td><td>FALSE                   </td><td>FALSE                   </td><td>FALSE                   </td><td>FALSE                   </td><td>FALSE                   </td><td>FALSE                   </td><td>169631244               </td><td>169823221               </td><td>+                       </td></tr>\n",
       "\t<tr><td>ENSG00000001036_FUCA2   </td><td>ENSG00000001036         </td><td>ENST00000002165         </td><td>ENSG00000001036         </td><td>FUCA2                   </td><td>6                       </td><td>143815948               </td><td>143832827               </td><td>protein_coding          </td><td>FUCA2                   </td><td>⋯                       </td><td>FALSE                   </td><td>FALSE                   </td><td>FALSE                   </td><td>FALSE                   </td><td>FALSE                   </td><td>FALSE                   </td><td>FALSE                   </td><td>143815947               </td><td>143832827               </td><td>-                       </td></tr>\n",
       "\t<tr><td>ENSG00000001084_GCLC    </td><td>ENSG00000001084         </td><td>ENST00000509541         </td><td>ENSG00000001084         </td><td>GCLC                    </td><td>6                       </td><td> 53362139               </td><td> 53481768               </td><td>protein_coding          </td><td>GCLC                    </td><td>⋯                       </td><td>FALSE                   </td><td>FALSE                   </td><td>FALSE                   </td><td>FALSE                   </td><td>FALSE                   </td><td>FALSE                   </td><td>FALSE                   </td><td> 53362138               </td><td> 53481768               </td><td>-                       </td></tr>\n",
       "</tbody>\n",
       "</table>\n"
      ],
      "text/latex": [
       "\\begin{tabular}{r|lllllllllllllllllllll}\n",
       " feature & exprs\\_collapsed\\_to & ensembl\\_transcript\\_id & ensembl\\_gene\\_id & hgnc\\_symbol & chromosome\\_name & start\\_position.x & end\\_position.x & gene\\_biotype & feature\\_symbol & ⋯ & is\\_feature\\_control & is\\_intop100hvg & is\\_intop200hvg & is\\_intop500hvg & is\\_intop1000hvg & is\\_intop2000hvg & is\\_hvg & start\\_position.y & end\\_position.y & strand\\\\\n",
       "\\hline\n",
       "\t ENSG00000000003\\_TSPAN6   & ENSG00000000003            & ENST00000373020            & ENSG00000000003            & TSPAN6                     & X                          &  99883667                  &  99894988                  & protein\\_coding           & TSPAN6                     & ⋯                          & FALSE                      & FALSE                      & FALSE                      & FALSE                      & FALSE                      & FALSE                      & FALSE                      &  99883666                  &  99894988                  & -                         \\\\\n",
       "\t ENSG00000000419\\_DPM1     & ENSG00000000419            & ENST00000371588            & ENSG00000000419            & DPM1                       & 20                         &  49551404                  &  49575092                  & protein\\_coding           & DPM1                       & ⋯                          & FALSE                      & FALSE                      & FALSE                      & FALSE                      & FALSE                      & FALSE                      & FALSE                      &  49551403                  &  49575092                  & -                         \\\\\n",
       "\t ENSG00000000457\\_SCYL3    & ENSG00000000457            & ENST00000367771            & ENSG00000000457            & SCYL3                      & 1                          & 169818772                  & 169863408                  & protein\\_coding           & SCYL3                      & ⋯                          & FALSE                      & FALSE                      & FALSE                      & FALSE                      & FALSE                      & FALSE                      & FALSE                      & 169818771                  & 169863408                  & -                         \\\\\n",
       "\t ENSG00000000460\\_C1orf112 & ENSG00000000460            & ENST00000498289            & ENSG00000000460            & C1orf112                   & 1                          & 169631245                  & 169823221                  & protein\\_coding           & C1orf112                   & ⋯                          & FALSE                      & FALSE                      & FALSE                      & FALSE                      & FALSE                      & FALSE                      & FALSE                      & 169631244                  & 169823221                  & +                         \\\\\n",
       "\t ENSG00000001036\\_FUCA2    & ENSG00000001036            & ENST00000002165            & ENSG00000001036            & FUCA2                      & 6                          & 143815948                  & 143832827                  & protein\\_coding           & FUCA2                      & ⋯                          & FALSE                      & FALSE                      & FALSE                      & FALSE                      & FALSE                      & FALSE                      & FALSE                      & 143815947                  & 143832827                  & -                         \\\\\n",
       "\t ENSG00000001084\\_GCLC     & ENSG00000001084            & ENST00000509541            & ENSG00000001084            & GCLC                       & 6                          &  53362139                  &  53481768                  & protein\\_coding           & GCLC                       & ⋯                          & FALSE                      & FALSE                      & FALSE                      & FALSE                      & FALSE                      & FALSE                      & FALSE                      &  53362138                  &  53481768                  & -                         \\\\\n",
       "\\end{tabular}\n"
      ],
      "text/markdown": [
       "\n",
       "feature | exprs_collapsed_to | ensembl_transcript_id | ensembl_gene_id | hgnc_symbol | chromosome_name | start_position.x | end_position.x | gene_biotype | feature_symbol | ⋯ | is_feature_control | is_intop100hvg | is_intop200hvg | is_intop500hvg | is_intop1000hvg | is_intop2000hvg | is_hvg | start_position.y | end_position.y | strand | \n",
       "|---|---|---|---|---|---|\n",
       "| ENSG00000000003_TSPAN6   | ENSG00000000003          | ENST00000373020          | ENSG00000000003          | TSPAN6                   | X                        |  99883667                |  99894988                | protein_coding           | TSPAN6                   | ⋯                        | FALSE                    | FALSE                    | FALSE                    | FALSE                    | FALSE                    | FALSE                    | FALSE                    |  99883666                |  99894988                | -                        | \n",
       "| ENSG00000000419_DPM1     | ENSG00000000419          | ENST00000371588          | ENSG00000000419          | DPM1                     | 20                       |  49551404                |  49575092                | protein_coding           | DPM1                     | ⋯                        | FALSE                    | FALSE                    | FALSE                    | FALSE                    | FALSE                    | FALSE                    | FALSE                    |  49551403                |  49575092                | -                        | \n",
       "| ENSG00000000457_SCYL3    | ENSG00000000457          | ENST00000367771          | ENSG00000000457          | SCYL3                    | 1                        | 169818772                | 169863408                | protein_coding           | SCYL3                    | ⋯                        | FALSE                    | FALSE                    | FALSE                    | FALSE                    | FALSE                    | FALSE                    | FALSE                    | 169818771                | 169863408                | -                        | \n",
       "| ENSG00000000460_C1orf112 | ENSG00000000460          | ENST00000498289          | ENSG00000000460          | C1orf112                 | 1                        | 169631245                | 169823221                | protein_coding           | C1orf112                 | ⋯                        | FALSE                    | FALSE                    | FALSE                    | FALSE                    | FALSE                    | FALSE                    | FALSE                    | 169631244                | 169823221                | +                        | \n",
       "| ENSG00000001036_FUCA2    | ENSG00000001036          | ENST00000002165          | ENSG00000001036          | FUCA2                    | 6                        | 143815948                | 143832827                | protein_coding           | FUCA2                    | ⋯                        | FALSE                    | FALSE                    | FALSE                    | FALSE                    | FALSE                    | FALSE                    | FALSE                    | 143815947                | 143832827                | -                        | \n",
       "| ENSG00000001084_GCLC     | ENSG00000001084          | ENST00000509541          | ENSG00000001084          | GCLC                     | 6                        |  53362139                |  53481768                | protein_coding           | GCLC                     | ⋯                        | FALSE                    | FALSE                    | FALSE                    | FALSE                    | FALSE                    | FALSE                    | FALSE                    |  53362138                |  53481768                | -                        | \n",
       "\n",
       "\n"
      ],
      "text/plain": [
       "  feature                  exprs_collapsed_to ensembl_transcript_id\n",
       "1 ENSG00000000003_TSPAN6   ENSG00000000003    ENST00000373020      \n",
       "2 ENSG00000000419_DPM1     ENSG00000000419    ENST00000371588      \n",
       "3 ENSG00000000457_SCYL3    ENSG00000000457    ENST00000367771      \n",
       "4 ENSG00000000460_C1orf112 ENSG00000000460    ENST00000498289      \n",
       "5 ENSG00000001036_FUCA2    ENSG00000001036    ENST00000002165      \n",
       "6 ENSG00000001084_GCLC     ENSG00000001084    ENST00000509541      \n",
       "  ensembl_gene_id hgnc_symbol chromosome_name start_position.x end_position.x\n",
       "1 ENSG00000000003 TSPAN6      X                99883667         99894988     \n",
       "2 ENSG00000000419 DPM1        20               49551404         49575092     \n",
       "3 ENSG00000000457 SCYL3       1               169818772        169863408     \n",
       "4 ENSG00000000460 C1orf112    1               169631245        169823221     \n",
       "5 ENSG00000001036 FUCA2       6               143815948        143832827     \n",
       "6 ENSG00000001084 GCLC        6                53362139         53481768     \n",
       "  gene_biotype   feature_symbol ⋯ is_feature_control is_intop100hvg\n",
       "1 protein_coding TSPAN6         ⋯ FALSE              FALSE         \n",
       "2 protein_coding DPM1           ⋯ FALSE              FALSE         \n",
       "3 protein_coding SCYL3          ⋯ FALSE              FALSE         \n",
       "4 protein_coding C1orf112       ⋯ FALSE              FALSE         \n",
       "5 protein_coding FUCA2          ⋯ FALSE              FALSE         \n",
       "6 protein_coding GCLC           ⋯ FALSE              FALSE         \n",
       "  is_intop200hvg is_intop500hvg is_intop1000hvg is_intop2000hvg is_hvg\n",
       "1 FALSE          FALSE          FALSE           FALSE           FALSE \n",
       "2 FALSE          FALSE          FALSE           FALSE           FALSE \n",
       "3 FALSE          FALSE          FALSE           FALSE           FALSE \n",
       "4 FALSE          FALSE          FALSE           FALSE           FALSE \n",
       "5 FALSE          FALSE          FALSE           FALSE           FALSE \n",
       "6 FALSE          FALSE          FALSE           FALSE           FALSE \n",
       "  start_position.y end_position.y strand\n",
       "1  99883666         99894988      -     \n",
       "2  49551403         49575092      -     \n",
       "3 169818771        169863408      -     \n",
       "4 169631244        169823221      +     \n",
       "5 143815947        143832827      -     \n",
       "6  53362138         53481768      -     "
      ]
     },
     "metadata": {},
     "output_type": "display_data"
    }
   ],
   "source": [
    "df_geneinfo1 = inner_join(df_geneinfo, extra_gene_info, by = c(\"ensembl_gene_id\",\"chromosome_name\",\"gene_biotype\"))\n",
    "head(df_geneinfo1)"
   ]
  },
  {
   "cell_type": "code",
   "execution_count": 65,
   "metadata": {},
   "outputs": [
    {
     "data": {
      "text/html": [
       "4824"
      ],
      "text/latex": [
       "4824"
      ],
      "text/markdown": [
       "4824"
      ],
      "text/plain": [
       "[1] 4824"
      ]
     },
     "metadata": {},
     "output_type": "display_data"
    }
   ],
   "source": [
    "allres = inner_join(allres, df_geneinfo1, by = \"feature\")\n",
    "nrow(allres)"
   ]
  },
  {
   "cell_type": "code",
   "execution_count": 127,
   "metadata": {},
   "outputs": [],
   "source": [
    "allres[allres$strand == \"+\",\"TSS\"] = allres[allres$strand == \"+\",\"start_position.y\"]\n",
    "allres[allres$strand == \"-\",\"TSS\"] = allres[allres$strand == \"-\",\"end_position.y\"]\n",
    "allres[allres$strand == \"+\",\"dist\"] = allres[allres$strand == \"+\",\"pos\"] - allres[allres$strand == \"+\",\"TSS\"]\n",
    "allres[allres$strand == \"-\",\"dist\"] = - allres[allres$strand == \"-\",\"pos\"] + allres[allres$strand == \"-\",\"TSS\"]"
   ]
  },
  {
   "cell_type": "code",
   "execution_count": 128,
   "metadata": {},
   "outputs": [],
   "source": [
    "######## define 4 eQTL clusters\n",
    "# stage-specific ips\n",
    "# stage-specific mesendo\n",
    "# stage-specific defendo\n",
    "# non stage-specific "
   ]
  },
  {
   "cell_type": "code",
   "execution_count": 129,
   "metadata": {},
   "outputs": [
    {
     "data": {
      "text/html": [
       "365"
      ],
      "text/latex": [
       "365"
      ],
      "text/markdown": [
       "365"
      ],
      "text/plain": [
       "[1] 365"
      ]
     },
     "metadata": {},
     "output_type": "display_data"
    }
   ],
   "source": [
    "allres_ss_ips = allres[allres$stage_specific == T & allres$stage == \"ips\" ,]\n",
    "nrow(allres_ss_ips)"
   ]
  },
  {
   "cell_type": "code",
   "execution_count": 130,
   "metadata": {},
   "outputs": [
    {
     "data": {
      "text/html": [
       "374"
      ],
      "text/latex": [
       "374"
      ],
      "text/markdown": [
       "374"
      ],
      "text/plain": [
       "[1] 374"
      ]
     },
     "metadata": {},
     "output_type": "display_data"
    }
   ],
   "source": [
    "allres_ss_me = allres[allres$stage_specific == T & allres$stage == \"mesendo\" ,]\n",
    "nrow(allres_ss_me)"
   ]
  },
  {
   "cell_type": "code",
   "execution_count": 131,
   "metadata": {},
   "outputs": [
    {
     "data": {
      "text/html": [
       "361"
      ],
      "text/latex": [
       "361"
      ],
      "text/markdown": [
       "361"
      ],
      "text/plain": [
       "[1] 361"
      ]
     },
     "metadata": {},
     "output_type": "display_data"
    }
   ],
   "source": [
    "allres_ss_de = allres[allres$stage_specific == T & allres$stage == \"defendo\" ,]\n",
    "nrow(allres_ss_de)"
   ]
  },
  {
   "cell_type": "code",
   "execution_count": 132,
   "metadata": {},
   "outputs": [
    {
     "data": {
      "text/html": [
       "3724"
      ],
      "text/latex": [
       "3724"
      ],
      "text/markdown": [
       "3724"
      ],
      "text/plain": [
       "[1] 3724"
      ]
     },
     "metadata": {},
     "output_type": "display_data"
    }
   ],
   "source": [
    "allres_non_ss = allres[allres$stage_specific == F ,]\n",
    "nrow(allres_non_ss)"
   ]
  },
  {
   "cell_type": "code",
   "execution_count": 135,
   "metadata": {},
   "outputs": [
    {
     "data": {
      "image/png": "[encoded data removed]",
      "text/plain": [
       "Plot with title “Histogram of allres_non_ss$dist”"
      ]
     },
     "metadata": {},
     "output_type": "display_data"
    }
   ],
   "source": [
    "hist(allres_non_ss$dist, breaks = 100, col = \"grey\", probability = T)"
   ]
  },
  {
   "cell_type": "code",
   "execution_count": 148,
   "metadata": {},
   "outputs": [],
   "source": [
    "HistDensity <- function(x, col){\n",
    "    h = hist(x, breaks = 1000, col = col, probability = T, xlim = c(min(x),-min(x)))\n",
    "    xfit <- seq(min(x), max(x), length = 40) \n",
    "    yfit <- dnorm(xfit, mean = mean(x),sd = sd(x)) \n",
    "    yfit <- yfit*diff(h$mids[1:2])*length(x) \n",
    "    plot(lines(xfit, yfit, col = col, lwd = 2))\n",
    "}"
   ]
  },
  {
   "cell_type": "code",
   "execution_count": 163,
   "metadata": {},
   "outputs": [
    {
     "data": {
      "image/png": "[encoded data removed]",
      "text/plain": [
       "Plot with title “Histogram of x”"
      ]
     },
     "metadata": {},
     "output_type": "display_data"
    }
   ],
   "source": [
    "x = allres_non_ss$dist\n",
    "# x = allres_ss_de$dist\n",
    "col = \"grey\"\n",
    "hist(x, breaks = 1000, col = col,  prob = T, xlim = c(min(x),-min(x)))\n",
    "den = density(x)\n",
    "lines(den)"
   ]
  },
  {
   "cell_type": "code",
   "execution_count": 185,
   "metadata": {},
   "outputs": [
    {
     "data": {
      "image/png": "[encoded data removed]",
      "text/plain": [
       "Plot with title “Histogram of allres_non_ss$dist”"
      ]
     },
     "metadata": {},
     "output_type": "display_data"
    }
   ],
   "source": [
    "hist(allres_non_ss$dist, breaks = 500, probability = T, col = \"grey\",\n",
    "         xlim = c(min(allres_non_ss$dist),-min(allres_non_ss$dist)))\n",
    "hist(allres_ss_ips$dist, breaks = 500, add = T, col = \"cornflowerblue\", probability = T)\n",
    "hist(allres_ss_me$dist, breaks = 800, add = T, col = \"forestgreen\", probability = T)\n",
    "hist(allres_ss_de$dist, breaks = 1000, add = T, col = \"coral\", probability = T)\n",
    "lines(density(allres_non_ss$dist), col = \"grey\", lwd = 5)\n",
    "lines(density(allres_ss_ips$dist), col = \"cornflowerblue\", lwd = 5)\n",
    "lines(density(allres_ss_me$dist), col = \"forestgreen\", lwd = 5)\n",
    "lines(density(allres_ss_de$dist), col = \"coral\", lwd = 5)"
   ]
  },
  {
   "cell_type": "code",
   "execution_count": null,
   "metadata": {},
   "outputs": [],
   "source": []
  },
  {
   "cell_type": "code",
   "execution_count": 9,
   "metadata": {},
   "outputs": [],
   "source": [
    "RankAndKeepTop <- function(leads){\n",
    "    leads1 = leads[order(leads$global_corr_p_value),]\n",
    "    leads2 = leads1[-which(duplicated(leads1$feature)),]  \n",
    "    leads2\n",
    "}"
   ]
  },
  {
   "cell_type": "code",
   "execution_count": 24,
   "metadata": {},
   "outputs": [
    {
     "data": {
      "text/html": [
       "468"
      ],
      "text/latex": [
       "468"
      ],
      "text/markdown": [
       "468"
      ],
      "text/plain": [
       "[1] 468"
      ]
     },
     "metadata": {},
     "output_type": "display_data"
    },
    {
     "data": {
      "text/html": [
       "182"
      ],
      "text/latex": [
       "182"
      ],
      "text/markdown": [
       "182"
      ],
      "text/plain": [
       "[1] 182"
      ]
     },
     "metadata": {},
     "output_type": "display_data"
    },
    {
     "data": {
      "text/html": [
       "287"
      ],
      "text/latex": [
       "287"
      ],
      "text/markdown": [
       "287"
      ],
      "text/plain": [
       "[1] 287"
      ]
     },
     "metadata": {},
     "output_type": "display_data"
    },
    {
     "data": {
      "text/html": [
       "469"
      ],
      "text/latex": [
       "469"
      ],
      "text/markdown": [
       "469"
      ],
      "text/plain": [
       "[1] 469"
      ]
     },
     "metadata": {},
     "output_type": "display_data"
    },
    {
     "data": {
      "text/html": [
       "681"
      ],
      "text/latex": [
       "681"
      ],
      "text/markdown": [
       "681"
      ],
      "text/plain": [
       "[1] 681"
      ]
     },
     "metadata": {},
     "output_type": "display_data"
    }
   ],
   "source": [
    "### inner join significant sc iPS leads, all results from sc mesendo leads\n",
    "leads.ips.in.me = left_join(leads.ips.sign, res.mes, by = c(\"snp_id\",\"feature\"), \n",
    "                            suffix = c(\".ips\",\".me\"))\n",
    "# nrow(leads.ips.in.me)\n",
    "leads.ips.in.me = RankAndKeepTop(leads.ips.in.me)\n",
    "# nrow(leads.ips.in.me)\n",
    "### inner join significant sc iPS leads and mesenso, all results from sc defendo leads\n",
    "leads.ips.in.me.in.de = left_join(leads.ips.in.me, res.defendo, by = c(\"snp_id\",\"feature\",\"ensembl_gene_id\"))\n",
    "# colnames(leads.ips.in.me.in.de)\n",
    "# nrow(leads.ips.in.me.in.de)\n",
    "leads.ips.in.me.in.de = RankAndKeepTop(leads.ips.in.me.in.de)\n",
    "# nrow(leads.ips.in.me.in.de)\n",
    "ips = leads.ips.in.me.in.de\n",
    "ips$p_value.de = ips$p_value\n",
    "ips$beta.de = ips$beta\n",
    "ips = ips[!(is.na(ips$p_value.me)) & !(is.na(ips$p_value.de)),]\n",
    "nrow(ips[(ips$p_value.me >= 0.05) & (ips$p_value.de >= 0.05),])\n",
    "nrow(ips[((ips$p_value.me >= 0.05) & (ips$p_value.de < 0.05)),])\n",
    "nrow(ips[((ips$p_value.de >= 0.05) & (ips$p_value.me < 0.05)),])\n",
    "nrow(ips[((ips$p_value.me >= 0.05) & (ips$p_value.de < 0.05)) | ((ips$p_value.me < 0.05) & (ips$p_value.de >= 0.05)),])\n",
    "nrow(ips[(ips$p_value.me < 0.05) & (ips$p_value.de < 0.05),])"
   ]
  },
  {
   "cell_type": "code",
   "execution_count": 33,
   "metadata": {},
   "outputs": [
    {
     "data": {
      "text/html": [
       "1679"
      ],
      "text/latex": [
       "1679"
      ],
      "text/markdown": [
       "1679"
      ],
      "text/plain": [
       "[1] 1679"
      ]
     },
     "metadata": {},
     "output_type": "display_data"
    },
    {
     "data": {
      "text/html": [
       "455"
      ],
      "text/latex": [
       "455"
      ],
      "text/markdown": [
       "455"
      ],
      "text/plain": [
       "[1] 455"
      ]
     },
     "metadata": {},
     "output_type": "display_data"
    },
    {
     "data": {
      "text/html": [
       "100"
      ],
      "text/latex": [
       "100"
      ],
      "text/markdown": [
       "100"
      ],
      "text/plain": [
       "[1] 100"
      ]
     },
     "metadata": {},
     "output_type": "display_data"
    },
    {
     "data": {
      "text/html": [
       "278"
      ],
      "text/latex": [
       "278"
      ],
      "text/markdown": [
       "278"
      ],
      "text/plain": [
       "[1] 278"
      ]
     },
     "metadata": {},
     "output_type": "display_data"
    },
    {
     "data": {
      "text/html": [
       "378"
      ],
      "text/latex": [
       "378"
      ],
      "text/markdown": [
       "378"
      ],
      "text/plain": [
       "[1] 378"
      ]
     },
     "metadata": {},
     "output_type": "display_data"
    },
    {
     "data": {
      "text/html": [
       "592"
      ],
      "text/latex": [
       "592"
      ],
      "text/markdown": [
       "592"
      ],
      "text/plain": [
       "[1] 592"
      ]
     },
     "metadata": {},
     "output_type": "display_data"
    }
   ],
   "source": [
    "### inner join significant sc mesendo leads, all results from sc iPSC leads\n",
    "leads.me.in.ips = left_join(leads.mes.sign, res.ips, by = c(\"snp_id\",\"feature\"), \n",
    "                            suffix = c(\".me\",\".ips\"))\n",
    "# nrow(leads.me.in.ips)\n",
    "leads.me.in.ips = RankAndKeepTop(leads.me.in.ips)\n",
    "nrow(leads.me.in.ips)\n",
    "# ### inner join significant sc mesendo leads and iPS, all results from sc defendo leads\n",
    "leads.me.in.ips.in.de = left_join(leads.me.in.ips, res.defendo, by = c(\"snp_id\",\"feature\",\"ensembl_gene_id\"))\n",
    "# # nrow(leads.me.in.ips.in.de)\n",
    "leads.me.in.ips.in.de = RankAndKeepTop(leads.me.in.ips.in.de)\n",
    "# # nrow(leads.me.in.ips.in.de)\n",
    "mesendo = leads.me.in.ips.in.de\n",
    "mesendo$p_value.de = mesendo$p_value\n",
    "mesendo$beta.de = mesendo$beta\n",
    "mesendo = mesendo[!(is.na(mesendo$p_value.ips)) & !(is.na(mesendo$p_value.de)),]\n",
    "nrow(mesendo[(mesendo$p_value.ips >= 0.05) & (mesendo$p_value.de >= 0.05),])\n",
    "nrow(mesendo[((mesendo$p_value.ips >= 0.05) & (mesendo$p_value.de < 0.05)),])\n",
    "nrow(mesendo[((mesendo$p_value.de >= 0.05) & (mesendo$p_value.ips < 0.05)),])\n",
    "nrow(mesendo[((mesendo$p_value.ips >= 0.05) & (mesendo$p_value.de < 0.05)) | ((mesendo$p_value.ips < 0.05) & (mesendo$p_value.de >= 0.05)),])\n",
    "nrow(mesendo[(mesendo$p_value.ips < 0.05) & (mesendo$p_value.de < 0.05),])"
   ]
  },
  {
   "cell_type": "code",
   "execution_count": 35,
   "metadata": {},
   "outputs": [
    {
     "data": {
      "text/html": [
       "1322"
      ],
      "text/latex": [
       "1322"
      ],
      "text/markdown": [
       "1322"
      ],
      "text/plain": [
       "[1] 1322"
      ]
     },
     "metadata": {},
     "output_type": "display_data"
    },
    {
     "data": {
      "text/html": [
       "435"
      ],
      "text/latex": [
       "435"
      ],
      "text/markdown": [
       "435"
      ],
      "text/plain": [
       "[1] 435"
      ]
     },
     "metadata": {},
     "output_type": "display_data"
    },
    {
     "data": {
      "text/html": [
       "115"
      ],
      "text/latex": [
       "115"
      ],
      "text/markdown": [
       "115"
      ],
      "text/plain": [
       "[1] 115"
      ]
     },
     "metadata": {},
     "output_type": "display_data"
    },
    {
     "data": {
      "text/html": [
       "138"
      ],
      "text/latex": [
       "138"
      ],
      "text/markdown": [
       "138"
      ],
      "text/plain": [
       "[1] 138"
      ]
     },
     "metadata": {},
     "output_type": "display_data"
    },
    {
     "data": {
      "text/html": [
       "253"
      ],
      "text/latex": [
       "253"
      ],
      "text/markdown": [
       "253"
      ],
      "text/plain": [
       "[1] 253"
      ]
     },
     "metadata": {},
     "output_type": "display_data"
    },
    {
     "data": {
      "text/html": [
       "590"
      ],
      "text/latex": [
       "590"
      ],
      "text/markdown": [
       "590"
      ],
      "text/plain": [
       "[1] 590"
      ]
     },
     "metadata": {},
     "output_type": "display_data"
    }
   ],
   "source": [
    "### inner join significant sc defendo leads, all results from sc iPSC leads\n",
    "leads.de.in.ips = left_join(leads.defendo.sign, res.ips, by = c(\"snp_id\",\"feature\"), \n",
    "                            suffix = c(\".de\",\".ips\"))\n",
    "# nrow(leads.de.in.ips)\n",
    "leads.de.in.ips = RankAndKeepTop(leads.de.in.ips)\n",
    "nrow(leads.de.in.ips)\n",
    "# ### inner join significant sc defendo leads and iPS, all results from sc mesendo leads\n",
    "leads.de.in.ips.in.me = left_join(leads.de.in.ips, res.mes, by = c(\"snp_id\",\"feature\",\"ensembl_gene_id\"))\n",
    "# # nrow(leads.de.in.ips.in.me)\n",
    "leads.de.in.ips.in.me = RankAndKeepTop(leads.de.in.ips.in.me)\n",
    "# # nrow(leads.de.in.ips.in.me)\n",
    "defendo = leads.de.in.ips.in.me\n",
    "defendo$p_value.me = defendo$p_value\n",
    "defendo$beta.me = defendo$beta\n",
    "defendo = defendo[!(is.na(defendo$p_value.ips)) & !(is.na(defendo$p_value.me)),]\n",
    "nrow(defendo[(defendo$p_value.ips >= 0.05) & (defendo$p_value.me >= 0.05),])\n",
    "nrow(defendo[((defendo$p_value.ips >= 0.05) & (defendo$p_value.me < 0.05)),])\n",
    "nrow(defendo[((defendo$p_value.me >= 0.05) & (defendo$p_value.ips < 0.05)),])\n",
    "nrow(defendo[((defendo$p_value.ips >= 0.05) & (defendo$p_value.me < 0.05)) | ((defendo$p_value.ips < 0.05) & (defendo$p_value.me >= 0.05)),])\n",
    "nrow(defendo[(defendo$p_value.ips < 0.05) & (defendo$p_value.me < 0.05),])"
   ]
  },
  {
   "cell_type": "code",
   "execution_count": 4,
   "metadata": {},
   "outputs": [
    {
     "data": {
      "image/png": "[encoded data removed]",
      "text/plain": [
       "plot without title"
      ]
     },
     "metadata": {},
     "output_type": "display_data"
    }
   ],
   "source": [
    "options(repr.plot.width = 4, repr.plot.height = 5)\n",
    "opar <- par(lwd = 3)\n",
    "barplot(c(1618,1425,1278), col = \"gray95\", border = c(\"cornflowerblue\",\"forestgreen\",\"coral\"), axes = 3)\n",
    "barplot(c(1150,970,843), col = \"gray82\", border = c(\"cornflowerblue\",\"forestgreen\",\"coral\"), add = T)\n",
    "barplot(c(681,592,590), col = \"gray65\", border = c(\"cornflowerblue\",\"forestgreen\",\"coral\"), add = T)"
   ]
  },
  {
   "cell_type": "code",
   "execution_count": 17,
   "metadata": {},
   "outputs": [
    {
     "data": {
      "image/png": "[encoded data removed]",
      "text/plain": [
       "plot without title"
      ]
     },
     "metadata": {},
     "output_type": "display_data"
    }
   ],
   "source": [
    "options(repr.plot.width = 5, repr.plot.height = 4)\n",
    "eqtls <- c(1689, 1823, 1702, 1181, 1342, 631)\n",
    "\n",
    "\n",
    "my.xlim = c(0, 2000)\n",
    "my.ylim = c(0,9)\n",
    "my.space = c(1, -0.2, 1, -0.2, 1, -0.2)\n",
    "\n",
    "# opar <- par(lwd = 5)\n",
    "barplot(as.numeric(eqtls), \n",
    "        border = c(\"cornflowerblue\",\"#344d90\",\"forestgreen\",\"#5cc5ef\",\"coral\",\"#e7552c\"),\n",
    "#         col = \"white\",\n",
    "        col = c(\"cornflowerblue\",\"#344d90\",\"forestgreen\",\"#5cc5ef\",\"coral\",\"#e7552c\"),\n",
    "        xlim = my.ylim, ylim = my.xlim, space = my.space, ylab = \"\")#, \n",
    "#         width = 0.5, xlab = \"% eQTLs overlapping H3K27ac\", horiz = TRUE, las = 1)\n"
   ]
  },
  {
   "cell_type": "code",
   "execution_count": 13,
   "metadata": {},
   "outputs": [
    {
     "data": {
      "image/png": "[encoded data removed]",
      "text/plain": [
       "plot without title"
      ]
     },
     "metadata": {},
     "output_type": "display_data"
    }
   ],
   "source": [
    "options(repr.plot.width = 5, repr.plot.height = 4)\n",
    "eqtls <- c(1833, 1702, 1181, 1342, 631)\n",
    "\n",
    "\n",
    "my.xlim = c(0, 2000)\n",
    "my.ylim = c(0,9)\n",
    "my.space = c(0, 1.2, -0.2, 1, -0.2)\n",
    "\n",
    "# opar <- par(lwd = 5)\n",
    "barplot(as.numeric(eqtls), \n",
    "        border = c(\"cornflowerblue\",\"forestgreen\",\"#5cc5ef\",\"coral\",\"#e7552c\"),\n",
    "#         col = \"white\",\n",
    "        col = c(\"cornflowerblue\",\"forestgreen\",\"#5cc5ef\",\"coral\",\"#e7552c\"),\n",
    "        xlim = my.ylim, ylim = my.xlim, space = my.space, ylab = \"\")#, \n",
    "#         width = 0.5, xlab = \"% eQTLs overlapping H3K27ac\", horiz = TRUE, las = 1)\n"
   ]
  },
  {
   "cell_type": "code",
   "execution_count": 15,
   "metadata": {},
   "outputs": [
    {
     "data": {
      "image/png": "[encoded data removed]",
      "text/plain": [
       "plot without title"
      ]
     },
     "metadata": {},
     "output_type": "display_data"
    }
   ],
   "source": [
    "options(repr.plot.width = 5, repr.plot.height = 4)\n",
    "eqtls <- c(111, 123, 111, 116, 108)\n",
    "\n",
    "\n",
    "my.xlim = c(0, 130)\n",
    "my.ylim = c(0,9)\n",
    "my.space = c(0, 1.2, -0.2, 1, -0.2)\n",
    "\n",
    "# opar <- par(lwd = 5)\n",
    "barplot(as.numeric(eqtls), \n",
    "        border = c(\"cornflowerblue\",\"forestgreen\",\"#5cc5ef\",\"coral\",\"#e7552c\"),\n",
    "#         col = \"white\",\n",
    "        col = c(\"cornflowerblue\",\"forestgreen\",\"#5cc5ef\",\"coral\",\"#e7552c\"),\n",
    "        xlim = my.ylim, ylim = my.xlim, space = my.space, ylab = \"\")#, \n",
    "#         width = 0.5, xlab = \"% eQTLs overlapping H3K27ac\", horiz = TRUE, las = 1)\n"
   ]
  },
  {
   "cell_type": "code",
   "execution_count": 18,
   "metadata": {},
   "outputs": [
    {
     "data": {
      "image/png": "[encoded data removed]",
      "text/plain": [
       "plot without title"
      ]
     },
     "metadata": {},
     "output_type": "display_data"
    }
   ],
   "source": [
    "options(repr.plot.width = 5, repr.plot.height = 4)\n",
    "eqtls <- c(9661, 9809, 9443, 10187, 8485)\n",
    "\n",
    "\n",
    "my.xlim = c(0, 11000)\n",
    "my.ylim = c(0,9)\n",
    "my.space = c(0, 1.2, -0.2, 1, -0.2)\n",
    "\n",
    "# opar <- par(lwd = 5)\n",
    "barplot(as.numeric(eqtls), \n",
    "        border = c(\"cornflowerblue\",\"forestgreen\",\"#5cc5ef\",\"coral\",\"#e7552c\"),\n",
    "#         col = \"white\",\n",
    "        col = c(\"cornflowerblue\",\"forestgreen\",\"#5cc5ef\",\"coral\",\"#e7552c\"),\n",
    "        xlim = my.ylim, ylim = my.xlim, space = my.space, ylab = \"\")#, \n",
    "#         width = 0.5, xlab = \"% eQTLs overlapping H3K27ac\", horiz = TRUE, las = 1)\n"
   ]
  },
  {
   "cell_type": "code",
   "execution_count": null,
   "metadata": {},
   "outputs": [],
   "source": []
  },
  {
   "cell_type": "code",
   "execution_count": null,
   "metadata": {},
   "outputs": [],
   "source": []
  },
  {
   "cell_type": "code",
   "execution_count": 22,
   "metadata": {},
   "outputs": [
    {
     "data": {
      "image/png": "[encoded data removed]",
      "text/plain": [
       "Plot with title “# donors”"
      ]
     },
     "metadata": {},
     "output_type": "display_data"
    }
   ],
   "source": [
    "options(repr.plot.width = 5, repr.plot.height = 4)\n",
    "ndonors <- c(111, 111, 123, 111, 116, 108)\n",
    "\n",
    "\n",
    "my.xlim = c(0, 130)\n",
    "my.ylim = c(0,9)\n",
    "my.space = c(1, -0.2, 1, -0.2, 1, -0.2)\n",
    "\n",
    "# opar <- par(lwd = 5)\n",
    "barplot(as.numeric(ndonors), \n",
    "        border = c(\"cornflowerblue\",\"#344d90\",\"forestgreen\",\"#5cc5ef\",\"coral\",\"#e7552c\"),\n",
    "        main = \"# donors\",\n",
    "        col = c(\"cornflowerblue\",\"#344d90\",\"forestgreen\",\"#5cc5ef\",\"coral\",\"#e7552c\"),\n",
    "        xlim = my.ylim, ylim = my.xlim, space = my.space, ylab = \"\")#, \n",
    "#         width = 0.5, xlab = \"% eQTLs overlapping H3K27ac\", horiz = TRUE, las = 1)\n"
   ]
  },
  {
   "cell_type": "code",
   "execution_count": 21,
   "metadata": {},
   "outputs": [
    {
     "data": {
      "image/png": "[encoded data removed]",
      "text/plain": [
       "Plot with title “# cells”"
      ]
     },
     "metadata": {},
     "output_type": "display_data"
    }
   ],
   "source": [
    "options(repr.plot.width = 5, repr.plot.height = 4)\n",
    "ncells <- c(8975, 9661, 9809, 9443, 10187, 8485)\n",
    "\n",
    "\n",
    "my.xlim = c(0, 12000)\n",
    "my.ylim = c(0,9)\n",
    "my.space = c(1, -0.2, 1, -0.2, 1, -0.2)\n",
    "\n",
    "# opar <- par(lwd = 5)\n",
    "barplot(as.numeric(ncells), \n",
    "        border = c(\"cornflowerblue\",\"#344d90\",\"forestgreen\",\"#5cc5ef\",\"coral\",\"#e7552c\"),\n",
    "        main = \"# cells\",\n",
    "        col = c(\"cornflowerblue\",\"#344d90\",\"forestgreen\",\"#5cc5ef\",\"coral\",\"#e7552c\"),\n",
    "        xlim = my.ylim, ylim = my.xlim, space = my.space, ylab = \"\")#, \n",
    "#         width = 0.5, xlab = \"% eQTLs overlapping H3K27ac\", horiz = TRUE, las = 1)\n"
   ]
  },
  {
   "cell_type": "code",
   "execution_count": 61,
   "metadata": {},
   "outputs": [
    {
     "data": {
      "text/html": [
       "<table>\n",
       "<thead><tr><th></th><th scope=col>beta</th><th scope=col>beta_se</th><th scope=col>empirical_feature_p_value</th><th scope=col>p_value</th><th scope=col>snp_id</th><th scope=col>feature</th><th scope=col>global_corr_p_value</th><th scope=col>chrom</th><th scope=col>pos</th><th scope=col>ref_allele</th><th scope=col>⋯</th><th scope=col>permutation_0</th><th scope=col>permutation_1</th><th scope=col>permutation_2</th><th scope=col>permutation_3</th><th scope=col>permutation_4</th><th scope=col>permutation_5</th><th scope=col>permutation_6</th><th scope=col>permutation_7</th><th scope=col>permutation_8</th><th scope=col>permutation_9</th></tr></thead>\n",
       "<tbody>\n",
       "\t<tr><th scope=row>7108</th><td> 0.6910577             </td><td>0.2963191              </td><td>0.4871127              </td><td>0.019693295            </td><td>19_9543029_T_C         </td><td>ENSG00000198028_ZNF560 </td><td>0.5462934              </td><td>19                     </td><td> 9543029               </td><td>T                      </td><td>⋯                      </td><td>0.1541506              </td><td>0.5175415              </td><td>0.9562556              </td><td>0.7431758              </td><td>0.76562412             </td><td>0.36646707             </td><td>0.257191351            </td><td>0.03863695             </td><td>0.1546573              </td><td>0.8243845              </td></tr>\n",
       "\t<tr><th scope=row>4784</th><td> 0.8771410             </td><td>0.2754646              </td><td>0.2358132              </td><td>0.001451427            </td><td>16_3584179_C_T         </td><td>ENSG00000213918_DNASE1 </td><td>0.3927271              </td><td>16                     </td><td> 3584179               </td><td>C                      </td><td>⋯                      </td><td>0.6749108              </td><td>0.8459454              </td><td>0.2738550              </td><td>0.3906664              </td><td>0.46883778             </td><td>0.70045289             </td><td>0.779539706            </td><td>0.56896339             </td><td>0.8558725              </td><td>0.5002487              </td></tr>\n",
       "\t<tr><th scope=row>5250</th><td>-0.7777305             </td><td>0.2731496              </td><td>0.2771594              </td><td>0.004409605            </td><td>5_66562959_T_G         </td><td>ENSG00000069020_MAST4  </td><td>0.4207487              </td><td> 5                     </td><td>66562959               </td><td>T                      </td><td>⋯                      </td><td>0.1749404              </td><td>0.7329226              </td><td>0.5050498              </td><td>0.8806061              </td><td>0.49002732             </td><td>0.57127599             </td><td>0.717410258            </td><td>0.32455003             </td><td>0.9555014              </td><td>0.6724838              </td></tr>\n",
       "\t<tr><th scope=row>8526</th><td> 0.8217682             </td><td>0.2726208              </td><td>0.6785954              </td><td>0.002575505            </td><td>18_337772_C_T          </td><td>ENSG00000158270_COLEC12</td><td>0.6342297              </td><td>18                     </td><td>  337772               </td><td>C                      </td><td>⋯                      </td><td>0.8323326              </td><td>0.5907101              </td><td>0.7706685              </td><td>0.7588036              </td><td>0.84954315             </td><td>0.10791987             </td><td>0.201250652            </td><td>0.62721635             </td><td>0.7916897              </td><td>0.8673307              </td></tr>\n",
       "\t<tr><th scope=row>6680</th><td> 0.7456408             </td><td>0.2710958              </td><td>0.4340096              </td><td>0.005950991            </td><td>13_87806627_T_C        </td><td>ENSG00000228074_UBBP5  </td><td>0.5177381              </td><td>13                     </td><td>87806627               </td><td>T                      </td><td>⋯                      </td><td>0.3147502              </td><td>0.5258217              </td><td>0.1721190              </td><td>0.1032176              </td><td>0.80890203             </td><td>0.03007898             </td><td>0.006055945            </td><td>0.44171234             </td><td>0.5876194              </td><td>0.3869616              </td></tr>\n",
       "\t<tr><th scope=row>9654</th><td> 0.5995519             </td><td>0.2683877              </td><td>0.8405894              </td><td>0.025489506            </td><td>15_57295579_A_G        </td><td>ENSG00000137871_ZNF280D</td><td>0.6936783              </td><td>15                     </td><td>57295579               </td><td>A                      </td><td>⋯                      </td><td>0.8788225              </td><td>0.2689960              </td><td>0.8279418              </td><td>0.5946146              </td><td>0.08173995             </td><td>0.05604315             </td><td>0.145470508            </td><td>0.86425179             </td><td>0.8514078              </td><td>0.2377929              </td></tr>\n",
       "</tbody>\n",
       "</table>\n"
      ],
      "text/latex": [
       "\\begin{tabular}{r|lllllllllllllllllllll}\n",
       "  & beta & beta\\_se & empirical\\_feature\\_p\\_value & p\\_value & snp\\_id & feature & global\\_corr\\_p\\_value & chrom & pos & ref\\_allele & ⋯ & permutation\\_0 & permutation\\_1 & permutation\\_2 & permutation\\_3 & permutation\\_4 & permutation\\_5 & permutation\\_6 & permutation\\_7 & permutation\\_8 & permutation\\_9\\\\\n",
       "\\hline\n",
       "\t7108 &  0.6910577                & 0.2963191                 & 0.4871127                 & 0.019693295               & 19\\_9543029\\_T\\_C      & ENSG00000198028\\_ZNF560  & 0.5462934                 & 19                        &  9543029                  & T                         & ⋯                         & 0.1541506                 & 0.5175415                 & 0.9562556                 & 0.7431758                 & 0.76562412                & 0.36646707                & 0.257191351               & 0.03863695                & 0.1546573                 & 0.8243845                \\\\\n",
       "\t4784 &  0.8771410                & 0.2754646                 & 0.2358132                 & 0.001451427               & 16\\_3584179\\_C\\_T      & ENSG00000213918\\_DNASE1  & 0.3927271                 & 16                        &  3584179                  & C                         & ⋯                         & 0.6749108                 & 0.8459454                 & 0.2738550                 & 0.3906664                 & 0.46883778                & 0.70045289                & 0.779539706               & 0.56896339                & 0.8558725                 & 0.5002487                \\\\\n",
       "\t5250 & -0.7777305                & 0.2731496                 & 0.2771594                 & 0.004409605               & 5\\_66562959\\_T\\_G      & ENSG00000069020\\_MAST4   & 0.4207487                 &  5                        & 66562959                  & T                         & ⋯                         & 0.1749404                 & 0.7329226                 & 0.5050498                 & 0.8806061                 & 0.49002732                & 0.57127599                & 0.717410258               & 0.32455003                & 0.9555014                 & 0.6724838                \\\\\n",
       "\t8526 &  0.8217682                & 0.2726208                 & 0.6785954                 & 0.002575505               & 18\\_337772\\_C\\_T       & ENSG00000158270\\_COLEC12 & 0.6342297                 & 18                        &   337772                  & C                         & ⋯                         & 0.8323326                 & 0.5907101                 & 0.7706685                 & 0.7588036                 & 0.84954315                & 0.10791987                & 0.201250652               & 0.62721635                & 0.7916897                 & 0.8673307                \\\\\n",
       "\t6680 &  0.7456408                & 0.2710958                 & 0.4340096                 & 0.005950991               & 13\\_87806627\\_T\\_C     & ENSG00000228074\\_UBBP5   & 0.5177381                 & 13                        & 87806627                  & T                         & ⋯                         & 0.3147502                 & 0.5258217                 & 0.1721190                 & 0.1032176                 & 0.80890203                & 0.03007898                & 0.006055945               & 0.44171234                & 0.5876194                 & 0.3869616                \\\\\n",
       "\t9654 &  0.5995519                & 0.2683877                 & 0.8405894                 & 0.025489506               & 15\\_57295579\\_A\\_G     & ENSG00000137871\\_ZNF280D & 0.6936783                 & 15                        & 57295579                  & A                         & ⋯                         & 0.8788225                 & 0.2689960                 & 0.8279418                 & 0.5946146                 & 0.08173995                & 0.05604315                & 0.145470508               & 0.86425179                & 0.8514078                 & 0.2377929                \\\\\n",
       "\\end{tabular}\n"
      ],
      "text/markdown": [
       "\n",
       "| <!--/--> | beta | beta_se | empirical_feature_p_value | p_value | snp_id | feature | global_corr_p_value | chrom | pos | ref_allele | ⋯ | permutation_0 | permutation_1 | permutation_2 | permutation_3 | permutation_4 | permutation_5 | permutation_6 | permutation_7 | permutation_8 | permutation_9 | \n",
       "|---|---|---|---|---|---|\n",
       "| 7108 |  0.6910577              | 0.2963191               | 0.4871127               | 0.019693295             | 19_9543029_T_C          | ENSG00000198028_ZNF560  | 0.5462934               | 19                      |  9543029                | T                       | ⋯                       | 0.1541506               | 0.5175415               | 0.9562556               | 0.7431758               | 0.76562412              | 0.36646707              | 0.257191351             | 0.03863695              | 0.1546573               | 0.8243845               | \n",
       "| 4784 |  0.8771410              | 0.2754646               | 0.2358132               | 0.001451427             | 16_3584179_C_T          | ENSG00000213918_DNASE1  | 0.3927271               | 16                      |  3584179                | C                       | ⋯                       | 0.6749108               | 0.8459454               | 0.2738550               | 0.3906664               | 0.46883778              | 0.70045289              | 0.779539706             | 0.56896339              | 0.8558725               | 0.5002487               | \n",
       "| 5250 | -0.7777305              | 0.2731496               | 0.2771594               | 0.004409605             | 5_66562959_T_G          | ENSG00000069020_MAST4   | 0.4207487               |  5                      | 66562959                | T                       | ⋯                       | 0.1749404               | 0.7329226               | 0.5050498               | 0.8806061               | 0.49002732              | 0.57127599              | 0.717410258             | 0.32455003              | 0.9555014               | 0.6724838               | \n",
       "| 8526 |  0.8217682              | 0.2726208               | 0.6785954               | 0.002575505             | 18_337772_C_T           | ENSG00000158270_COLEC12 | 0.6342297               | 18                      |   337772                | C                       | ⋯                       | 0.8323326               | 0.5907101               | 0.7706685               | 0.7588036               | 0.84954315              | 0.10791987              | 0.201250652             | 0.62721635              | 0.7916897               | 0.8673307               | \n",
       "| 6680 |  0.7456408              | 0.2710958               | 0.4340096               | 0.005950991             | 13_87806627_T_C         | ENSG00000228074_UBBP5   | 0.5177381               | 13                      | 87806627                | T                       | ⋯                       | 0.3147502               | 0.5258217               | 0.1721190               | 0.1032176               | 0.80890203              | 0.03007898              | 0.006055945             | 0.44171234              | 0.5876194               | 0.3869616               | \n",
       "| 9654 |  0.5995519              | 0.2683877               | 0.8405894               | 0.025489506             | 15_57295579_A_G         | ENSG00000137871_ZNF280D | 0.6936783               | 15                      | 57295579                | A                       | ⋯                       | 0.8788225               | 0.2689960               | 0.8279418               | 0.5946146               | 0.08173995              | 0.05604315              | 0.145470508             | 0.86425179              | 0.8514078               | 0.2377929               | \n",
       "\n",
       "\n"
      ],
      "text/plain": [
       "     beta       beta_se   empirical_feature_p_value p_value     snp_id         \n",
       "7108  0.6910577 0.2963191 0.4871127                 0.019693295 19_9543029_T_C \n",
       "4784  0.8771410 0.2754646 0.2358132                 0.001451427 16_3584179_C_T \n",
       "5250 -0.7777305 0.2731496 0.2771594                 0.004409605 5_66562959_T_G \n",
       "8526  0.8217682 0.2726208 0.6785954                 0.002575505 18_337772_C_T  \n",
       "6680  0.7456408 0.2710958 0.4340096                 0.005950991 13_87806627_T_C\n",
       "9654  0.5995519 0.2683877 0.8405894                 0.025489506 15_57295579_A_G\n",
       "     feature                 global_corr_p_value chrom pos      ref_allele ⋯\n",
       "7108 ENSG00000198028_ZNF560  0.5462934           19     9543029 T          ⋯\n",
       "4784 ENSG00000213918_DNASE1  0.3927271           16     3584179 C          ⋯\n",
       "5250 ENSG00000069020_MAST4   0.4207487            5    66562959 T          ⋯\n",
       "8526 ENSG00000158270_COLEC12 0.6342297           18      337772 C          ⋯\n",
       "6680 ENSG00000228074_UBBP5   0.5177381           13    87806627 T          ⋯\n",
       "9654 ENSG00000137871_ZNF280D 0.6936783           15    57295579 A          ⋯\n",
       "     permutation_0 permutation_1 permutation_2 permutation_3 permutation_4\n",
       "7108 0.1541506     0.5175415     0.9562556     0.7431758     0.76562412   \n",
       "4784 0.6749108     0.8459454     0.2738550     0.3906664     0.46883778   \n",
       "5250 0.1749404     0.7329226     0.5050498     0.8806061     0.49002732   \n",
       "8526 0.8323326     0.5907101     0.7706685     0.7588036     0.84954315   \n",
       "6680 0.3147502     0.5258217     0.1721190     0.1032176     0.80890203   \n",
       "9654 0.8788225     0.2689960     0.8279418     0.5946146     0.08173995   \n",
       "     permutation_5 permutation_6 permutation_7 permutation_8 permutation_9\n",
       "7108 0.36646707    0.257191351   0.03863695    0.1546573     0.8243845    \n",
       "4784 0.70045289    0.779539706   0.56896339    0.8558725     0.5002487    \n",
       "5250 0.57127599    0.717410258   0.32455003    0.9555014     0.6724838    \n",
       "8526 0.10791987    0.201250652   0.62721635    0.7916897     0.8673307    \n",
       "6680 0.03007898    0.006055945   0.44171234    0.5876194     0.3869616    \n",
       "9654 0.05604315    0.145470508   0.86425179    0.8514078     0.2377929    "
      ]
     },
     "metadata": {},
     "output_type": "display_data"
    }
   ],
   "source": [
    "head(leads.ips[order(leads.ips$beta_se, decreasing = T),])"
   ]
  },
  {
   "cell_type": "code",
   "execution_count": 13,
   "metadata": {},
   "outputs": [
    {
     "data": {
      "text/html": [
       "<table>\n",
       "<thead><tr><th scope=col>feature_id</th><th scope=col>snp_id</th><th scope=col>p_value</th><th scope=col>beta</th><th scope=col>beta_se</th><th scope=col>empirical_feature_p_value</th><th scope=col>feature_chromosome</th><th scope=col>feature_start</th><th scope=col>feature_end</th><th scope=col>hgnc_symbol</th><th scope=col>⋯</th><th scope=col>alpha_param</th><th scope=col>beta_param</th><th scope=col>snp_chromosome</th><th scope=col>snp_position</th><th scope=col>assessed_allele</th><th scope=col>call_rate</th><th scope=col>maf</th><th scope=col>hwe_pvalue</th><th scope=col>q_value</th><th scope=col>corr_p_value</th></tr></thead>\n",
       "<tbody>\n",
       "\t<tr><td>ENSG00000151458_ANKRD50</td><td>4_125553820_T_G        </td><td>0.020914282            </td><td>-0.1910640             </td><td>0.08272860             </td><td>0.8630794              </td><td>4                      </td><td>125585207              </td><td>125633887              </td><td>ANKRD50                </td><td>⋯                      </td><td>0.6529995              </td><td> 66.15712              </td><td>4                      </td><td>125553820              </td><td>G                      </td><td>1                      </td><td>0.4722222              </td><td>0.02179236             </td><td>0.7605815              </td><td>0.9612832              </td></tr>\n",
       "\t<tr><td>ENSG00000164066_INTU   </td><td>4_128602387_C_T        </td><td>0.031039427            </td><td> 0.1900783             </td><td>0.08813929             </td><td>0.7559562              </td><td>4                      </td><td>128544426              </td><td>128647892              </td><td>INTU                   </td><td>⋯                      </td><td>0.6424059              </td><td> 28.59967              </td><td>4                      </td><td>128602387              </td><td>T                      </td><td>1                      </td><td>0.4722222              </td><td>0.25288607             </td><td>0.7184061              </td><td>0.9079786              </td></tr>\n",
       "\t<tr><td>ENSG00000151692_RNF144A</td><td>2_7054398_T_A          </td><td>0.001262123            </td><td> 0.3188678             </td><td>0.09889041             </td><td>0.2541533              </td><td>2                      </td><td>  7057523              </td><td>  7208417              </td><td>RNF144A                </td><td>⋯                      </td><td>0.7063035              </td><td>107.88670              </td><td>2                      </td><td>  7054398              </td><td>A                      </td><td>1                      </td><td>0.3055556              </td><td>0.49530585             </td><td>0.4343032              </td><td>0.5489068              </td></tr>\n",
       "\t<tr><td>ENSG00000143742_SRP9   </td><td>1_225958857_C_A        </td><td>0.019395323            </td><td> 0.1333045             </td><td>0.05702025             </td><td>0.7141771              </td><td>1                      </td><td>225965531              </td><td>225978168              </td><td>SRP9                   </td><td>⋯                      </td><td>0.8320435              </td><td> 52.64120              </td><td>1                      </td><td>225958857              </td><td>A                      </td><td>1                      </td><td>0.4259259              </td><td>0.84624924             </td><td>0.6997050              </td><td>0.8843426              </td></tr>\n",
       "\t<tr><td>ENSG00000143768_LEFTY2 </td><td>1_226159716_G_C        </td><td>0.005416968            </td><td>-0.5038272             </td><td>0.18115901             </td><td>0.1535369              </td><td>1                      </td><td>226124298              </td><td>226129189              </td><td>LEFTY2                 </td><td>⋯                      </td><td>0.9810266              </td><td> 29.27952              </td><td>1                      </td><td>226159716              </td><td>C                      </td><td>1                      </td><td>0.1296296              </td><td>1.00000000             </td><td>0.3404450              </td><td>0.4302814              </td></tr>\n",
       "\t<tr><td>ENSG00000143811_PYCR2  </td><td>1_226154862_G_C        </td><td>0.014343092            </td><td>-0.2254404             </td><td>0.09207083             </td><td>0.5501260              </td><td>1                      </td><td>226107578              </td><td>226111978              </td><td>PYCR2                  </td><td>⋯                      </td><td>0.7931255              </td><td> 40.48560              </td><td>1                      </td><td>226154862              </td><td>C                      </td><td>1                      </td><td>0.1481481              </td><td>1.00000000             </td><td>0.6223646              </td><td>0.7865937              </td></tr>\n",
       "</tbody>\n",
       "</table>\n"
      ],
      "text/latex": [
       "\\begin{tabular}{r|llllllllllllllllllllllll}\n",
       " feature\\_id & snp\\_id & p\\_value & beta & beta\\_se & empirical\\_feature\\_p\\_value & feature\\_chromosome & feature\\_start & feature\\_end & hgnc\\_symbol & ⋯ & alpha\\_param & beta\\_param & snp\\_chromosome & snp\\_position & assessed\\_allele & call\\_rate & maf & hwe\\_pvalue & q\\_value & corr\\_p\\_value\\\\\n",
       "\\hline\n",
       "\t ENSG00000151458\\_ANKRD50 & 4\\_125553820\\_T\\_G     & 0.020914282               & -0.1910640                & 0.08272860                & 0.8630794                 & 4                         & 125585207                 & 125633887                 & ANKRD50                   & ⋯                         & 0.6529995                 &  66.15712                 & 4                         & 125553820                 & G                         & 1                         & 0.4722222                 & 0.02179236                & 0.7605815                 & 0.9612832                \\\\\n",
       "\t ENSG00000164066\\_INTU    & 4\\_128602387\\_C\\_T     & 0.031039427               &  0.1900783                & 0.08813929                & 0.7559562                 & 4                         & 128544426                 & 128647892                 & INTU                      & ⋯                         & 0.6424059                 &  28.59967                 & 4                         & 128602387                 & T                         & 1                         & 0.4722222                 & 0.25288607                & 0.7184061                 & 0.9079786                \\\\\n",
       "\t ENSG00000151692\\_RNF144A & 2\\_7054398\\_T\\_A       & 0.001262123               &  0.3188678                & 0.09889041                & 0.2541533                 & 2                         &   7057523                 &   7208417                 & RNF144A                   & ⋯                         & 0.7063035                 & 107.88670                 & 2                         &   7054398                 & A                         & 1                         & 0.3055556                 & 0.49530585                & 0.4343032                 & 0.5489068                \\\\\n",
       "\t ENSG00000143742\\_SRP9    & 1\\_225958857\\_C\\_A     & 0.019395323               &  0.1333045                & 0.05702025                & 0.7141771                 & 1                         & 225965531                 & 225978168                 & SRP9                      & ⋯                         & 0.8320435                 &  52.64120                 & 1                         & 225958857                 & A                         & 1                         & 0.4259259                 & 0.84624924                & 0.6997050                 & 0.8843426                \\\\\n",
       "\t ENSG00000143768\\_LEFTY2  & 1\\_226159716\\_G\\_C     & 0.005416968               & -0.5038272                & 0.18115901                & 0.1535369                 & 1                         & 226124298                 & 226129189                 & LEFTY2                    & ⋯                         & 0.9810266                 &  29.27952                 & 1                         & 226159716                 & C                         & 1                         & 0.1296296                 & 1.00000000                & 0.3404450                 & 0.4302814                \\\\\n",
       "\t ENSG00000143811\\_PYCR2   & 1\\_226154862\\_G\\_C     & 0.014343092               & -0.2254404                & 0.09207083                & 0.5501260                 & 1                         & 226107578                 & 226111978                 & PYCR2                     & ⋯                         & 0.7931255                 &  40.48560                 & 1                         & 226154862                 & C                         & 1                         & 0.1481481                 & 1.00000000                & 0.6223646                 & 0.7865937                \\\\\n",
       "\\end{tabular}\n"
      ],
      "text/markdown": [
       "\n",
       "feature_id | snp_id | p_value | beta | beta_se | empirical_feature_p_value | feature_chromosome | feature_start | feature_end | hgnc_symbol | ⋯ | alpha_param | beta_param | snp_chromosome | snp_position | assessed_allele | call_rate | maf | hwe_pvalue | q_value | corr_p_value | \n",
       "|---|---|---|---|---|---|\n",
       "| ENSG00000151458_ANKRD50 | 4_125553820_T_G         | 0.020914282             | -0.1910640              | 0.08272860              | 0.8630794               | 4                       | 125585207               | 125633887               | ANKRD50                 | ⋯                       | 0.6529995               |  66.15712               | 4                       | 125553820               | G                       | 1                       | 0.4722222               | 0.02179236              | 0.7605815               | 0.9612832               | \n",
       "| ENSG00000164066_INTU    | 4_128602387_C_T         | 0.031039427             |  0.1900783              | 0.08813929              | 0.7559562               | 4                       | 128544426               | 128647892               | INTU                    | ⋯                       | 0.6424059               |  28.59967               | 4                       | 128602387               | T                       | 1                       | 0.4722222               | 0.25288607              | 0.7184061               | 0.9079786               | \n",
       "| ENSG00000151692_RNF144A | 2_7054398_T_A           | 0.001262123             |  0.3188678              | 0.09889041              | 0.2541533               | 2                       |   7057523               |   7208417               | RNF144A                 | ⋯                       | 0.7063035               | 107.88670               | 2                       |   7054398               | A                       | 1                       | 0.3055556               | 0.49530585              | 0.4343032               | 0.5489068               | \n",
       "| ENSG00000143742_SRP9    | 1_225958857_C_A         | 0.019395323             |  0.1333045              | 0.05702025              | 0.7141771               | 1                       | 225965531               | 225978168               | SRP9                    | ⋯                       | 0.8320435               |  52.64120               | 1                       | 225958857               | A                       | 1                       | 0.4259259               | 0.84624924              | 0.6997050               | 0.8843426               | \n",
       "| ENSG00000143768_LEFTY2  | 1_226159716_G_C         | 0.005416968             | -0.5038272              | 0.18115901              | 0.1535369               | 1                       | 226124298               | 226129189               | LEFTY2                  | ⋯                       | 0.9810266               |  29.27952               | 1                       | 226159716               | C                       | 1                       | 0.1296296               | 1.00000000              | 0.3404450               | 0.4302814               | \n",
       "| ENSG00000143811_PYCR2   | 1_226154862_G_C         | 0.014343092             | -0.2254404              | 0.09207083              | 0.5501260               | 1                       | 226107578               | 226111978               | PYCR2                   | ⋯                       | 0.7931255               |  40.48560               | 1                       | 226154862               | C                       | 1                       | 0.1481481               | 1.00000000              | 0.6223646               | 0.7865937               | \n",
       "\n",
       "\n"
      ],
      "text/plain": [
       "  feature_id              snp_id          p_value     beta       beta_se   \n",
       "1 ENSG00000151458_ANKRD50 4_125553820_T_G 0.020914282 -0.1910640 0.08272860\n",
       "2 ENSG00000164066_INTU    4_128602387_C_T 0.031039427  0.1900783 0.08813929\n",
       "3 ENSG00000151692_RNF144A 2_7054398_T_A   0.001262123  0.3188678 0.09889041\n",
       "4 ENSG00000143742_SRP9    1_225958857_C_A 0.019395323  0.1333045 0.05702025\n",
       "5 ENSG00000143768_LEFTY2  1_226159716_G_C 0.005416968 -0.5038272 0.18115901\n",
       "6 ENSG00000143811_PYCR2   1_226154862_G_C 0.014343092 -0.2254404 0.09207083\n",
       "  empirical_feature_p_value feature_chromosome feature_start feature_end\n",
       "1 0.8630794                 4                  125585207     125633887  \n",
       "2 0.7559562                 4                  128544426     128647892  \n",
       "3 0.2541533                 2                    7057523       7208417  \n",
       "4 0.7141771                 1                  225965531     225978168  \n",
       "5 0.1535369                 1                  226124298     226129189  \n",
       "6 0.5501260                 1                  226107578     226111978  \n",
       "  hgnc_symbol ⋯ alpha_param beta_param snp_chromosome snp_position\n",
       "1 ANKRD50     ⋯ 0.6529995    66.15712  4              125553820   \n",
       "2 INTU        ⋯ 0.6424059    28.59967  4              128602387   \n",
       "3 RNF144A     ⋯ 0.7063035   107.88670  2                7054398   \n",
       "4 SRP9        ⋯ 0.8320435    52.64120  1              225958857   \n",
       "5 LEFTY2      ⋯ 0.9810266    29.27952  1              226159716   \n",
       "6 PYCR2       ⋯ 0.7931255    40.48560  1              226154862   \n",
       "  assessed_allele call_rate maf       hwe_pvalue q_value   corr_p_value\n",
       "1 G               1         0.4722222 0.02179236 0.7605815 0.9612832   \n",
       "2 T               1         0.4722222 0.25288607 0.7184061 0.9079786   \n",
       "3 A               1         0.3055556 0.49530585 0.4343032 0.5489068   \n",
       "4 A               1         0.4259259 0.84624924 0.6997050 0.8843426   \n",
       "5 C               1         0.1296296 1.00000000 0.3404450 0.4302814   \n",
       "6 C               1         0.1481481 1.00000000 0.6223646 0.7865937   "
      ]
     },
     "metadata": {},
     "output_type": "display_data"
    }
   ],
   "source": [
    "ips.leads.filename = \"/nfs/leia/research/stegle/acuomo/mean/ips/top_qtl_results_all.txt\"\n",
    "ips.leads = read.csv(ips.leads.filename, sep = \"\\t\")\n",
    "ips.leads$q_value = qvalue(ips.leads$empirical_feature_p_value)$qvalues\n",
    "head(ips.leads)"
   ]
  },
  {
   "cell_type": "code",
   "execution_count": 15,
   "metadata": {},
   "outputs": [
    {
     "data": {
      "text/html": [
       "1714"
      ],
      "text/latex": [
       "1714"
      ],
      "text/markdown": [
       "1714"
      ],
      "text/plain": [
       "[1] 1714"
      ]
     },
     "metadata": {},
     "output_type": "display_data"
    }
   ],
   "source": [
    "nrow(ips.leads[ips.leads$q_value < 0.1,])"
   ]
  },
  {
   "cell_type": "code",
   "execution_count": null,
   "metadata": {},
   "outputs": [],
   "source": []
  }
 ],
 "metadata": {
  "kernelspec": {
   "display_name": "R",
   "language": "R",
   "name": "ir"
  },
  "language_info": {
   "codemirror_mode": "r",
   "file_extension": ".r",
   "mimetype": "text/x-r-source",
   "name": "R",
   "pygments_lexer": "r",
   "version": "3.5.1"
  }
 },
 "nbformat": 4,
 "nbformat_minor": 2
}
