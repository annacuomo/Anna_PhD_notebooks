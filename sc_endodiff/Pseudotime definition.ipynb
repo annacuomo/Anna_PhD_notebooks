{
 "cells": [
  {
   "cell_type": "code",
   "execution_count": null,
   "metadata": {},
   "outputs": [],
   "source": [
    "## load useful libraries\n",
    "suppressWarnings(suppressPackageStartupMessages(library(rhdf5)))\n",
    "suppressWarnings(suppressPackageStartupMessages(library(qvalue)))\n",
    "suppressWarnings(suppressPackageStartupMessages(library(dplyr)))\n",
    "suppressWarnings(suppressPackageStartupMessages(library(cowplot)))\n",
    "suppressWarnings(suppressPackageStartupMessages(library(tidyverse)))\n",
    "suppressWarnings(suppressPackageStartupMessages(library(ggbeeswarm)))\n",
    "suppressWarnings(suppressPackageStartupMessages(library(ggthemes)))\n",
    "suppressWarnings(suppressPackageStartupMessages(library(scater)))\n",
    "suppressWarnings(suppressPackageStartupMessages(library(SingleCellExperiment)))\n",
    "suppressWarnings(suppressPackageStartupMessages(library(edgeR)))\n",
    "suppressWarnings(suppressPackageStartupMessages(library(limma)))\n",
    "suppressWarnings(suppressPackageStartupMessages(library(ggplot2)))\n",
    "suppressWarnings(suppressPackageStartupMessages(library(ISLR)))\n",
    "suppressWarnings(suppressPackageStartupMessages(library(GGally)))\n",
    "suppressWarnings(suppressPackageStartupMessages(library(scran)))\n",
    "suppressWarnings(suppressPackageStartupMessages(library(ComplexHeatmap)))\n",
    "suppressWarnings(suppressPackageStartupMessages(library(circlize)))"
   ]
  },
  {
   "cell_type": "code",
   "execution_count": 2,
   "metadata": {},
   "outputs": [],
   "source": [
    "sce = readRDS(\"/hps/nobackup/hipsci/scratch/singlecell_endodiff/data_processed/merged/20180618/sce_merged_afterqc_filt_allexpts.rds\")"
   ]
  },
  {
   "cell_type": "code",
   "execution_count": 3,
   "metadata": {},
   "outputs": [
    {
     "name": "stderr",
     "output_type": "stream",
     "text": [
      "Warning message in .local(object, ...):\n",
      "“spike-in transcripts in 'ERCC' should have their own size factors”"
     ]
    }
   ],
   "source": [
    "sce <- normalize(sce)\n",
    "design <- model.matrix(~experiment, data = colData(sce))\n",
    "alt.fit <- trendVar(sce, design = design, use.spikes = FALSE)\n",
    "alt.decomp <- decomposeVar(sce, alt.fit)"
   ]
  },
  {
   "cell_type": "code",
   "execution_count": 4,
   "metadata": {},
   "outputs": [],
   "source": [
    "top.500.hvgs <- rownames(alt.decomp[order(alt.decomp$bio, decreasing = TRUE),][1:500,])"
   ]
  },
  {
   "cell_type": "code",
   "execution_count": 5,
   "metadata": {},
   "outputs": [
    {
     "data": {
      "text/html": [
       "<table>\n",
       "<thead><tr><th></th><th scope=col>PC1_top500hvgs</th></tr></thead>\n",
       "<tbody>\n",
       "\t<tr><th scope=row>21843_1#10</th><td>-11.7695261</td></tr>\n",
       "\t<tr><th scope=row>21843_1#100</th><td>  5.1315308</td></tr>\n",
       "\t<tr><th scope=row>21843_1#101</th><td> -0.6430211</td></tr>\n",
       "\t<tr><th scope=row>21843_1#102</th><td>-14.5080208</td></tr>\n",
       "\t<tr><th scope=row>21843_1#103</th><td> -5.8029849</td></tr>\n",
       "\t<tr><th scope=row>21843_1#105</th><td> -2.3442226</td></tr>\n",
       "</tbody>\n",
       "</table>\n"
      ],
      "text/latex": [
       "\\begin{tabular}{r|l}\n",
       "  & PC1\\_top500hvgs\\\\\n",
       "\\hline\n",
       "\t21843\\_1\\#10 & -11.7695261\\\\\n",
       "\t21843\\_1\\#100 &   5.1315308\\\\\n",
       "\t21843\\_1\\#101 &  -0.6430211\\\\\n",
       "\t21843\\_1\\#102 & -14.5080208\\\\\n",
       "\t21843\\_1\\#103 &  -5.8029849\\\\\n",
       "\t21843\\_1\\#105 &  -2.3442226\\\\\n",
       "\\end{tabular}\n"
      ],
      "text/markdown": [
       "\n",
       "| <!--/--> | PC1_top500hvgs | \n",
       "|---|---|---|---|---|---|\n",
       "| 21843_1#10 | -11.7695261 | \n",
       "| 21843_1#100 |   5.1315308 | \n",
       "| 21843_1#101 |  -0.6430211 | \n",
       "| 21843_1#102 | -14.5080208 | \n",
       "| 21843_1#103 |  -5.8029849 | \n",
       "| 21843_1#105 |  -2.3442226 | \n",
       "\n",
       "\n"
      ],
      "text/plain": [
       "            PC1_top500hvgs\n",
       "21843_1#10  -11.7695261   \n",
       "21843_1#100   5.1315308   \n",
       "21843_1#101  -0.6430211   \n",
       "21843_1#102 -14.5080208   \n",
       "21843_1#103  -5.8029849   \n",
       "21843_1#105  -2.3442226   "
      ]
     },
     "metadata": {},
     "output_type": "display_data"
    }
   ],
   "source": [
    "sce_500hvg = sce[rownames(sce) %in% top.500.hvgs,]\n",
    "p1 = as.data.frame(prcomp(t(logcounts(sce_500hvg)))$x[,1])\n",
    "colnames(p1) = \"PC1_top500hvgs\"\n",
    "head(p1)"
   ]
  },
  {
   "cell_type": "code",
   "execution_count": null,
   "metadata": {},
   "outputs": [],
   "source": []
  }
 ],
 "metadata": {
  "kernelspec": {
   "display_name": "R",
   "language": "R",
   "name": "ir"
  },
  "language_info": {
   "codemirror_mode": "r",
   "file_extension": ".r",
   "mimetype": "text/x-r-source",
   "name": "R",
   "pygments_lexer": "r",
   "version": "3.6.1"
  }
 },
 "nbformat": 4,
 "nbformat_minor": 2
}
