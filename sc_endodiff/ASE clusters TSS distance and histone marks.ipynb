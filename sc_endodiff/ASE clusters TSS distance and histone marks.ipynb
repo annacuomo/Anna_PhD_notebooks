{
 "cells": [
  {
   "cell_type": "code",
   "execution_count": 79,
   "metadata": {},
   "outputs": [],
   "source": [
    "## load useful libraries\n",
    "suppressWarnings(suppressPackageStartupMessages(library(rhdf5)))\n",
    "suppressWarnings(suppressPackageStartupMessages(library(qvalue)))\n",
    "suppressWarnings(suppressPackageStartupMessages(library(dplyr)))\n",
    "suppressWarnings(suppressPackageStartupMessages(library(cowplot)))\n",
    "suppressWarnings(suppressPackageStartupMessages(library(tidyverse)))\n",
    "suppressWarnings(suppressPackageStartupMessages(library(ggbeeswarm)))\n",
    "suppressWarnings(suppressPackageStartupMessages(library(ggthemes)))\n",
    "suppressWarnings(suppressPackageStartupMessages(library(scater)))\n",
    "suppressWarnings(suppressPackageStartupMessages(library(SingleCellExperiment)))\n",
    "suppressWarnings(suppressPackageStartupMessages(library(edgeR)))\n",
    "suppressWarnings(suppressPackageStartupMessages(library(limma)))\n",
    "suppressWarnings(suppressPackageStartupMessages(library(ggplot2)))\n",
    "suppressWarnings(suppressPackageStartupMessages(library(ISLR)))\n",
    "suppressWarnings(suppressPackageStartupMessages(library(GGally)))\n",
    "suppressWarnings(suppressPackageStartupMessages(library(scran)))\n",
    "suppressWarnings(suppressPackageStartupMessages(library(ComplexHeatmap)))\n",
    "suppressWarnings(suppressPackageStartupMessages(library(circlize)))"
   ]
  },
  {
   "cell_type": "code",
   "execution_count": 80,
   "metadata": {},
   "outputs": [],
   "source": [
    "ase_folder = \"/nfs/leia/research/stegle/dseaton/hipsci/singlecell_endodiff/data/ase_env_interactions/selected_results_181023/\""
   ]
  },
  {
   "cell_type": "code",
   "execution_count": 81,
   "metadata": {},
   "outputs": [],
   "source": [
    "test_filename = paste0(ase_folder,\"pseudotimeandmodules.single_factor_test.all_leads.tsv\")\n",
    "pseudocorrect_filename = paste0(ase_folder,\"pseudotimeandmodules.pseudotime_covariate_test.all_leads.tsv\")\n",
    "nonlinear_filename = paste0(ase_folder,\"pseudotimeandmodules.combined_factor_test.all_leads.tsv\")\n",
    "quadratic_filename = paste0(ase_folder,\"pseudotimeandmodules.quadratic_factor_test.all_leads.tsv\")"
   ]
  },
  {
   "cell_type": "code",
   "execution_count": 82,
   "metadata": {},
   "outputs": [],
   "source": [
    "test = read.csv(test_filename, sep = \"\\t\")\n",
    "pseudocorrect = read.csv(pseudocorrect_filename, sep = \"\\t\")\n",
    "nonlinear = read.csv(nonlinear_filename, sep = \"\\t\")\n",
    "quadratic = read.csv(quadratic_filename, sep = \"\\t\")"
   ]
  },
  {
   "cell_type": "code",
   "execution_count": 83,
   "metadata": {},
   "outputs": [],
   "source": [
    "clusters_filename = \"/nfs/leia/research/stegle/dseaton/hipsci/singlecell_endodiff/data/ase_env_interactions/eqtl_clustering/cluster_significant_linear_psuedotime_ase_interactions_qval_0.01.tsv\""
   ]
  },
  {
   "cell_type": "code",
   "execution_count": 84,
   "metadata": {},
   "outputs": [
    {
     "data": {
      "text/html": [
       "<table>\n",
       "<thead><tr><th scope=col>gene_id</th><th scope=col>snp_id</th><th scope=col>exp_cluster_label</th><th scope=col>ase_cluster_label</th></tr></thead>\n",
       "<tbody>\n",
       "\t<tr><td>ENSG00000035141</td><td>2_70502930_A_G </td><td>1              </td><td>1              </td></tr>\n",
       "\t<tr><td>ENSG00000107968</td><td>10_30809648_T_G</td><td>3              </td><td>1              </td></tr>\n",
       "\t<tr><td>ENSG00000172992</td><td>17_43095854_G_A</td><td>3              </td><td>1              </td></tr>\n",
       "\t<tr><td>ENSG00000138061</td><td>2_38204219_C_G </td><td>3              </td><td>1              </td></tr>\n",
       "\t<tr><td>ENSG00000006282</td><td>17_48619272_G_A</td><td>3              </td><td>1              </td></tr>\n",
       "\t<tr><td>ENSG00000141655</td><td>18_59990654_C_T</td><td>2              </td><td>1              </td></tr>\n",
       "</tbody>\n",
       "</table>\n"
      ],
      "text/latex": [
       "\\begin{tabular}{r|llll}\n",
       " gene\\_id & snp\\_id & exp\\_cluster\\_label & ase\\_cluster\\_label\\\\\n",
       "\\hline\n",
       "\t ENSG00000035141       & 2\\_70502930\\_A\\_G  & 1                     & 1                    \\\\\n",
       "\t ENSG00000107968       & 10\\_30809648\\_T\\_G & 3                     & 1                    \\\\\n",
       "\t ENSG00000172992       & 17\\_43095854\\_G\\_A & 3                     & 1                    \\\\\n",
       "\t ENSG00000138061       & 2\\_38204219\\_C\\_G  & 3                     & 1                    \\\\\n",
       "\t ENSG00000006282       & 17\\_48619272\\_G\\_A & 3                     & 1                    \\\\\n",
       "\t ENSG00000141655       & 18\\_59990654\\_C\\_T & 2                     & 1                    \\\\\n",
       "\\end{tabular}\n"
      ],
      "text/markdown": [
       "\n",
       "gene_id | snp_id | exp_cluster_label | ase_cluster_label | \n",
       "|---|---|---|---|---|---|\n",
       "| ENSG00000035141 | 2_70502930_A_G  | 1               | 1               | \n",
       "| ENSG00000107968 | 10_30809648_T_G | 3               | 1               | \n",
       "| ENSG00000172992 | 17_43095854_G_A | 3               | 1               | \n",
       "| ENSG00000138061 | 2_38204219_C_G  | 3               | 1               | \n",
       "| ENSG00000006282 | 17_48619272_G_A | 3               | 1               | \n",
       "| ENSG00000141655 | 18_59990654_C_T | 2               | 1               | \n",
       "\n",
       "\n"
      ],
      "text/plain": [
       "  gene_id         snp_id          exp_cluster_label ase_cluster_label\n",
       "1 ENSG00000035141 2_70502930_A_G  1                 1                \n",
       "2 ENSG00000107968 10_30809648_T_G 3                 1                \n",
       "3 ENSG00000172992 17_43095854_G_A 3                 1                \n",
       "4 ENSG00000138061 2_38204219_C_G  3                 1                \n",
       "5 ENSG00000006282 17_48619272_G_A 3                 1                \n",
       "6 ENSG00000141655 18_59990654_C_T 2                 1                "
      ]
     },
     "metadata": {},
     "output_type": "display_data"
    }
   ],
   "source": [
    "clusters = read.csv(clusters_filename, sep = \"\\t\")\n",
    "head(clusters)"
   ]
  },
  {
   "cell_type": "code",
   "execution_count": 85,
   "metadata": {},
   "outputs": [
    {
     "data": {
      "text/html": [
       "<table>\n",
       "<thead><tr><th scope=col>chromosome_name</th><th scope=col>start_position</th><th scope=col>end_position</th><th scope=col>gene_id</th><th scope=col>gene_biotype</th><th scope=col>strand</th></tr></thead>\n",
       "<tbody>\n",
       "\t<tr><td>1              </td><td>11868          </td><td>14412          </td><td>ENSG00000223972</td><td>pseudogene     </td><td>+              </td></tr>\n",
       "\t<tr><td>1              </td><td>14362          </td><td>29806          </td><td>ENSG00000227232</td><td>pseudogene     </td><td>-              </td></tr>\n",
       "\t<tr><td>1              </td><td>29553          </td><td>31109          </td><td>ENSG00000243485</td><td>lincRNA        </td><td>+              </td></tr>\n",
       "\t<tr><td>1              </td><td>34553          </td><td>36081          </td><td>ENSG00000237613</td><td>lincRNA        </td><td>-              </td></tr>\n",
       "\t<tr><td>1              </td><td>52472          </td><td>54936          </td><td>ENSG00000268020</td><td>pseudogene     </td><td>+              </td></tr>\n",
       "\t<tr><td>1              </td><td>62947          </td><td>63887          </td><td>ENSG00000240361</td><td>pseudogene     </td><td>+              </td></tr>\n",
       "</tbody>\n",
       "</table>\n"
      ],
      "text/latex": [
       "\\begin{tabular}{r|llllll}\n",
       " chromosome\\_name & start\\_position & end\\_position & gene\\_id & gene\\_biotype & strand\\\\\n",
       "\\hline\n",
       "\t 1               & 11868           & 14412           & ENSG00000223972 & pseudogene      & +              \\\\\n",
       "\t 1               & 14362           & 29806           & ENSG00000227232 & pseudogene      & -              \\\\\n",
       "\t 1               & 29553           & 31109           & ENSG00000243485 & lincRNA         & +              \\\\\n",
       "\t 1               & 34553           & 36081           & ENSG00000237613 & lincRNA         & -              \\\\\n",
       "\t 1               & 52472           & 54936           & ENSG00000268020 & pseudogene      & +              \\\\\n",
       "\t 1               & 62947           & 63887           & ENSG00000240361 & pseudogene      & +              \\\\\n",
       "\\end{tabular}\n"
      ],
      "text/markdown": [
       "\n",
       "chromosome_name | start_position | end_position | gene_id | gene_biotype | strand | \n",
       "|---|---|---|---|---|---|\n",
       "| 1               | 11868           | 14412           | ENSG00000223972 | pseudogene      | +               | \n",
       "| 1               | 14362           | 29806           | ENSG00000227232 | pseudogene      | -               | \n",
       "| 1               | 29553           | 31109           | ENSG00000243485 | lincRNA         | +               | \n",
       "| 1               | 34553           | 36081           | ENSG00000237613 | lincRNA         | -               | \n",
       "| 1               | 52472           | 54936           | ENSG00000268020 | pseudogene      | +               | \n",
       "| 1               | 62947           | 63887           | ENSG00000240361 | pseudogene      | +               | \n",
       "\n",
       "\n"
      ],
      "text/plain": [
       "  chromosome_name start_position end_position gene_id         gene_biotype\n",
       "1 1               11868          14412        ENSG00000223972 pseudogene  \n",
       "2 1               14362          29806        ENSG00000227232 pseudogene  \n",
       "3 1               29553          31109        ENSG00000243485 lincRNA     \n",
       "4 1               34553          36081        ENSG00000237613 lincRNA     \n",
       "5 1               52472          54936        ENSG00000268020 pseudogene  \n",
       "6 1               62947          63887        ENSG00000240361 pseudogene  \n",
       "  strand\n",
       "1 +     \n",
       "2 -     \n",
       "3 +     \n",
       "4 -     \n",
       "5 +     \n",
       "6 +     "
      ]
     },
     "metadata": {},
     "output_type": "display_data"
    }
   ],
   "source": [
    "gene_info_filename = \"/nfs/leia/research/stegle/dseaton/genomes/hg19/annotation/Homo_sapiens.GRCh37.75.genes.bed\"\n",
    "gene_info = read.table(gene_info_filename)\n",
    "colnames(gene_info) = c(\"chromosome_name\",\"start_position\",\"end_position\",\"gene_id\",\"gene_biotype\",\"strand\")\n",
    "head(gene_info)"
   ]
  },
  {
   "cell_type": "code",
   "execution_count": 86,
   "metadata": {},
   "outputs": [],
   "source": [
    "add_TSS_dist <- function(test){\n",
    "    res = inner_join(test, gene_info, by = \"gene_id\")  \n",
    "    snp_info = as_data_frame(do.call(\"rbind\", lapply(strsplit(res$snp_id, \"_\"), function(x) t(as.data.frame(x)))))\n",
    "    colnames(snp_info) = c(\"chrom\",\"pos\",\"ref_allele\",\"alt_allele\")\n",
    "    res = cbind(res,snp_info)\n",
    "    res$pos = as.numeric(res$pos)                                       \n",
    "    res[res$strand == \"+\",\"TSS\"] = res[res$strand == \"+\",\"start_position\"]\n",
    "    res[res$strand == \"-\",\"TSS\"] = res[res$strand == \"-\",\"end_position\"]\n",
    "    res[res$strand == \"+\",\"dist\"] = res[res$strand == \"+\",\"pos\"] - res[res$strand == \"+\",\"TSS\"]\n",
    "    res[res$strand == \"-\",\"dist\"] = - res[res$strand == \"-\",\"pos\"] + res[res$strand == \"-\",\"TSS\"]\n",
    "    res\n",
    "}"
   ]
  },
  {
   "cell_type": "code",
   "execution_count": 87,
   "metadata": {},
   "outputs": [],
   "source": [
    "cluster0 = clusters[clusters$ase_cluster_label == \"0\",]\n",
    "cluster1 = clusters[clusters$ase_cluster_label == \"1\",]\n",
    "cluster2 = clusters[clusters$ase_cluster_label == \"2\",]\n",
    "cluster3 = clusters[clusters$ase_cluster_label == \"3\",]"
   ]
  },
  {
   "cell_type": "code",
   "execution_count": 88,
   "metadata": {},
   "outputs": [],
   "source": [
    "cluster0 = add_TSS_dist(cluster0)\n",
    "cluster1 = add_TSS_dist(cluster1)\n",
    "cluster2 = add_TSS_dist(cluster2)\n",
    "cluster3 = add_TSS_dist(cluster3)"
   ]
  },
  {
   "cell_type": "code",
   "execution_count": 89,
   "metadata": {},
   "outputs": [
    {
     "data": {
      "text/html": [
       "<table>\n",
       "<thead><tr><th scope=col>gene_id</th><th scope=col>snp_id</th><th scope=col>exp_cluster_label</th><th scope=col>ase_cluster_label</th><th scope=col>chromosome_name</th><th scope=col>start_position</th><th scope=col>end_position</th><th scope=col>gene_biotype</th><th scope=col>strand</th><th scope=col>chrom</th><th scope=col>pos</th><th scope=col>ref_allele</th><th scope=col>alt_allele</th><th scope=col>TSS</th><th scope=col>dist</th></tr></thead>\n",
       "<tbody>\n",
       "\t<tr><td>ENSG00000165672 </td><td>10_120920890_T_A</td><td>0               </td><td>0               </td><td>10              </td><td>120927214       </td><td>120938345       </td><td>protein_coding  </td><td>-               </td><td>10              </td><td>120920890       </td><td>T               </td><td>A               </td><td>120938345       </td><td> 17455          </td></tr>\n",
       "\t<tr><td>ENSG00000143367 </td><td>1_151501437_G_A </td><td>3               </td><td>0               </td><td>1               </td><td>151512780       </td><td>151556059       </td><td>protein_coding  </td><td>+               </td><td>1               </td><td>151501437       </td><td>G               </td><td>A               </td><td>151512780       </td><td>-11343          </td></tr>\n",
       "\t<tr><td>ENSG00000138759 </td><td>4_78980923_G_A  </td><td>3               </td><td>0               </td><td>4               </td><td> 78978723       </td><td> 79465423       </td><td>protein_coding  </td><td>+               </td><td>4               </td><td> 78980923       </td><td>G               </td><td>A               </td><td> 78978723       </td><td>  2200          </td></tr>\n",
       "\t<tr><td>ENSG00000064042 </td><td>4_41339317_C_T  </td><td>2               </td><td>0               </td><td>4               </td><td> 41361623       </td><td> 41702061       </td><td>protein_coding  </td><td>+               </td><td>4               </td><td> 41339317       </td><td>C               </td><td>T               </td><td> 41361623       </td><td>-22306          </td></tr>\n",
       "\t<tr><td>ENSG00000103479 </td><td>16_53538021_T_A </td><td>2               </td><td>0               </td><td>16              </td><td> 53467888       </td><td> 53525561       </td><td>protein_coding  </td><td>+               </td><td>16              </td><td> 53538021       </td><td>T               </td><td>A               </td><td> 53467888       </td><td> 70133          </td></tr>\n",
       "\t<tr><td>ENSG00000214176 </td><td>17_62801318_T_C </td><td>2               </td><td>0               </td><td>17              </td><td> 62775376       </td><td> 62833272       </td><td>pseudogene      </td><td>-               </td><td>17              </td><td> 62801318       </td><td>T               </td><td>C               </td><td> 62833272       </td><td> 31954          </td></tr>\n",
       "</tbody>\n",
       "</table>\n"
      ],
      "text/latex": [
       "\\begin{tabular}{r|lllllllllllllll}\n",
       " gene\\_id & snp\\_id & exp\\_cluster\\_label & ase\\_cluster\\_label & chromosome\\_name & start\\_position & end\\_position & gene\\_biotype & strand & chrom & pos & ref\\_allele & alt\\_allele & TSS & dist\\\\\n",
       "\\hline\n",
       "\t ENSG00000165672        & 10\\_120920890\\_T\\_A & 0                      & 0                      & 10                     & 120927214              & 120938345              & protein\\_coding       & -                      & 10                     & 120920890              & T                      & A                      & 120938345              &  17455                \\\\\n",
       "\t ENSG00000143367        & 1\\_151501437\\_G\\_A  & 3                      & 0                      & 1                      & 151512780              & 151556059              & protein\\_coding       & +                      & 1                      & 151501437              & G                      & A                      & 151512780              & -11343                \\\\\n",
       "\t ENSG00000138759        & 4\\_78980923\\_G\\_A   & 3                      & 0                      & 4                      &  78978723              &  79465423              & protein\\_coding       & +                      & 4                      &  78980923              & G                      & A                      &  78978723              &   2200                \\\\\n",
       "\t ENSG00000064042        & 4\\_41339317\\_C\\_T   & 2                      & 0                      & 4                      &  41361623              &  41702061              & protein\\_coding       & +                      & 4                      &  41339317              & C                      & T                      &  41361623              & -22306                \\\\\n",
       "\t ENSG00000103479        & 16\\_53538021\\_T\\_A  & 2                      & 0                      & 16                     &  53467888              &  53525561              & protein\\_coding       & +                      & 16                     &  53538021              & T                      & A                      &  53467888              &  70133                \\\\\n",
       "\t ENSG00000214176        & 17\\_62801318\\_T\\_C  & 2                      & 0                      & 17                     &  62775376              &  62833272              & pseudogene             & -                      & 17                     &  62801318              & T                      & C                      &  62833272              &  31954                \\\\\n",
       "\\end{tabular}\n"
      ],
      "text/markdown": [
       "\n",
       "gene_id | snp_id | exp_cluster_label | ase_cluster_label | chromosome_name | start_position | end_position | gene_biotype | strand | chrom | pos | ref_allele | alt_allele | TSS | dist | \n",
       "|---|---|---|---|---|---|\n",
       "| ENSG00000165672  | 10_120920890_T_A | 0                | 0                | 10               | 120927214        | 120938345        | protein_coding   | -                | 10               | 120920890        | T                | A                | 120938345        |  17455           | \n",
       "| ENSG00000143367  | 1_151501437_G_A  | 3                | 0                | 1                | 151512780        | 151556059        | protein_coding   | +                | 1                | 151501437        | G                | A                | 151512780        | -11343           | \n",
       "| ENSG00000138759  | 4_78980923_G_A   | 3                | 0                | 4                |  78978723        |  79465423        | protein_coding   | +                | 4                |  78980923        | G                | A                |  78978723        |   2200           | \n",
       "| ENSG00000064042  | 4_41339317_C_T   | 2                | 0                | 4                |  41361623        |  41702061        | protein_coding   | +                | 4                |  41339317        | C                | T                |  41361623        | -22306           | \n",
       "| ENSG00000103479  | 16_53538021_T_A  | 2                | 0                | 16               |  53467888        |  53525561        | protein_coding   | +                | 16               |  53538021        | T                | A                |  53467888        |  70133           | \n",
       "| ENSG00000214176  | 17_62801318_T_C  | 2                | 0                | 17               |  62775376        |  62833272        | pseudogene       | -                | 17               |  62801318        | T                | C                |  62833272        |  31954           | \n",
       "\n",
       "\n"
      ],
      "text/plain": [
       "  gene_id         snp_id           exp_cluster_label ase_cluster_label\n",
       "1 ENSG00000165672 10_120920890_T_A 0                 0                \n",
       "2 ENSG00000143367 1_151501437_G_A  3                 0                \n",
       "3 ENSG00000138759 4_78980923_G_A   3                 0                \n",
       "4 ENSG00000064042 4_41339317_C_T   2                 0                \n",
       "5 ENSG00000103479 16_53538021_T_A  2                 0                \n",
       "6 ENSG00000214176 17_62801318_T_C  2                 0                \n",
       "  chromosome_name start_position end_position gene_biotype   strand chrom\n",
       "1 10              120927214      120938345    protein_coding -      10   \n",
       "2 1               151512780      151556059    protein_coding +      1    \n",
       "3 4                78978723       79465423    protein_coding +      4    \n",
       "4 4                41361623       41702061    protein_coding +      4    \n",
       "5 16               53467888       53525561    protein_coding +      16   \n",
       "6 17               62775376       62833272    pseudogene     -      17   \n",
       "  pos       ref_allele alt_allele TSS       dist  \n",
       "1 120920890 T          A          120938345  17455\n",
       "2 151501437 G          A          151512780 -11343\n",
       "3  78980923 G          A           78978723   2200\n",
       "4  41339317 C          T           41361623 -22306\n",
       "5  53538021 T          A           53467888  70133\n",
       "6  62801318 T          C           62833272  31954"
      ]
     },
     "metadata": {},
     "output_type": "display_data"
    }
   ],
   "source": [
    "head(cluster0)"
   ]
  },
  {
   "cell_type": "code",
   "execution_count": 90,
   "metadata": {},
   "outputs": [
    {
     "data": {
      "image/png": "[encoded data removed]",
      "text/plain": [
       "Plot with title “”"
      ]
     },
     "metadata": {},
     "output_type": "display_data"
    }
   ],
   "source": [
    "options(repr.plot.width = 6, repr.plot.height = 4)\n",
    "x0 = cluster0$dist\n",
    "x1 = cluster1$dist\n",
    "x2 = cluster2$dist\n",
    "x3 = cluster3$dist\n",
    "canva = \"Muted and antique\"\n",
    "canva = \"Warm and cool\"\n",
    "col0 = canva_pal(canva)(4)[4]\n",
    "col1 = canva_pal(canva)(4)[1]\n",
    "col2 = canva_pal(canva)(4)[3]\n",
    "col3 = canva_pal(canva)(4)[2]\n",
    "hist(x0, breaks = 1000, border = \"white\", probability = T, xlim = c(min(x0),-min(x0)), col = \"white\", \n",
    "     ylim = c(0, 3e-5), xlab = \"distance from TSS\", main = \"\")\n",
    "lines(density(x0), col = col0, lwd = 4)\n",
    "lines(density(x1), col = col1, lwd = 4)\n",
    "lines(density(x2), col = col2, lwd = 4)\n",
    "lines(density(x3), col = col3, lwd = 4)\n",
    "text(40000, 2.25e-5, \"cluster A\", col = col0)\n",
    "text(40000, 2e-5, \"cluster B\", col = col2)\n",
    "text(40000, 1.75e-5, \"cluster C\", col = col3)\n",
    "text(40000, 1.5e-5, \"cluster D\", col = col1)"
   ]
  },
  {
   "cell_type": "code",
   "execution_count": 91,
   "metadata": {},
   "outputs": [
    {
     "data": {
      "text/html": [
       "<ol class=list-inline>\n",
       "\t<li>'#444c5c'</li>\n",
       "\t<li>'#ce5a57'</li>\n",
       "\t<li>'#78a5a3'</li>\n",
       "\t<li>'#e1b16a'</li>\n",
       "</ol>\n"
      ],
      "text/latex": [
       "\\begin{enumerate*}\n",
       "\\item '\\#444c5c'\n",
       "\\item '\\#ce5a57'\n",
       "\\item '\\#78a5a3'\n",
       "\\item '\\#e1b16a'\n",
       "\\end{enumerate*}\n"
      ],
      "text/markdown": [
       "1. '#444c5c'\n",
       "2. '#ce5a57'\n",
       "3. '#78a5a3'\n",
       "4. '#e1b16a'\n",
       "\n",
       "\n"
      ],
      "text/plain": [
       "[1] \"#444c5c\" \"#ce5a57\" \"#78a5a3\" \"#e1b16a\""
      ]
     },
     "metadata": {},
     "output_type": "display_data"
    }
   ],
   "source": [
    "canva = \"Warm and cool\"\n",
    "canva_pal(canva)(4)"
   ]
  },
  {
   "cell_type": "code",
   "execution_count": 92,
   "metadata": {},
   "outputs": [
    {
     "data": {
      "text/html": [
       "<ol class=list-inline>\n",
       "\t<li>1</li>\n",
       "\t<li>3</li>\n",
       "\t<li>3</li>\n",
       "\t<li>3</li>\n",
       "\t<li>3</li>\n",
       "\t<li>2</li>\n",
       "\t<li>2</li>\n",
       "\t<li>2</li>\n",
       "\t<li>2</li>\n",
       "\t<li>2</li>\n",
       "\t<li>2</li>\n",
       "\t<li>2</li>\n",
       "\t<li>2</li>\n",
       "\t<li>2</li>\n",
       "\t<li>3</li>\n",
       "\t<li>2</li>\n",
       "\t<li>2</li>\n",
       "\t<li>2</li>\n",
       "\t<li>2</li>\n",
       "\t<li>2</li>\n",
       "\t<li>2</li>\n",
       "\t<li>2</li>\n",
       "\t<li>2</li>\n",
       "\t<li>0</li>\n",
       "\t<li>2</li>\n",
       "\t<li>2</li>\n",
       "\t<li>2</li>\n",
       "\t<li>2</li>\n",
       "\t<li>2</li>\n",
       "\t<li>2</li>\n",
       "\t<li>2</li>\n",
       "\t<li>3</li>\n",
       "\t<li>3</li>\n",
       "\t<li>0</li>\n",
       "\t<li>0</li>\n",
       "\t<li>0</li>\n",
       "\t<li>0</li>\n",
       "\t<li>0</li>\n",
       "\t<li>0</li>\n",
       "\t<li>0</li>\n",
       "\t<li>0</li>\n",
       "\t<li>0</li>\n",
       "\t<li>0</li>\n",
       "\t<li>0</li>\n",
       "\t<li>0</li>\n",
       "\t<li>0</li>\n",
       "\t<li>3</li>\n",
       "\t<li>0</li>\n",
       "\t<li>0</li>\n",
       "\t<li>0</li>\n",
       "\t<li>0</li>\n",
       "\t<li>0</li>\n",
       "\t<li>3</li>\n",
       "\t<li>3</li>\n",
       "\t<li>3</li>\n",
       "\t<li>3</li>\n",
       "\t<li>3</li>\n",
       "\t<li>3</li>\n",
       "\t<li>3</li>\n",
       "\t<li>3</li>\n",
       "\t<li>3</li>\n",
       "\t<li>0</li>\n",
       "\t<li>2</li>\n",
       "\t<li>2</li>\n",
       "\t<li>2</li>\n",
       "\t<li>1</li>\n",
       "\t<li>2</li>\n",
       "\t<li>1</li>\n",
       "\t<li>1</li>\n",
       "\t<li>1</li>\n",
       "\t<li>1</li>\n",
       "\t<li>1</li>\n",
       "\t<li>1</li>\n",
       "\t<li>1</li>\n",
       "\t<li>1</li>\n",
       "\t<li>1</li>\n",
       "\t<li>1</li>\n",
       "\t<li>1</li>\n",
       "\t<li>1</li>\n",
       "\t<li>1</li>\n",
       "\t<li>1</li>\n",
       "\t<li>1</li>\n",
       "\t<li>1</li>\n",
       "\t<li>1</li>\n",
       "\t<li>1</li>\n",
       "\t<li>1</li>\n",
       "\t<li>1</li>\n",
       "\t<li>1</li>\n",
       "\t<li>1</li>\n",
       "\t<li>1</li>\n",
       "\t<li>1</li>\n",
       "\t<li>1</li>\n",
       "\t<li>1</li>\n",
       "\t<li>1</li>\n",
       "\t<li>1</li>\n",
       "\t<li>1</li>\n",
       "\t<li>1</li>\n",
       "\t<li>1</li>\n",
       "\t<li>1</li>\n",
       "\t<li>1</li>\n",
       "\t<li>2</li>\n",
       "\t<li>2</li>\n",
       "\t<li>2</li>\n",
       "\t<li>1</li>\n",
       "\t<li>1</li>\n",
       "\t<li>1</li>\n",
       "\t<li>1</li>\n",
       "\t<li>1</li>\n",
       "\t<li>1</li>\n",
       "\t<li>1</li>\n",
       "\t<li>1</li>\n",
       "\t<li>1</li>\n",
       "\t<li>0</li>\n",
       "\t<li>1</li>\n",
       "\t<li>1</li>\n",
       "\t<li>1</li>\n",
       "\t<li>1</li>\n",
       "\t<li>1</li>\n",
       "\t<li>1</li>\n",
       "\t<li>0</li>\n",
       "\t<li>3</li>\n",
       "\t<li>3</li>\n",
       "\t<li>2</li>\n",
       "\t<li>2</li>\n",
       "\t<li>2</li>\n",
       "\t<li>2</li>\n",
       "\t<li>2</li>\n",
       "\t<li>2</li>\n",
       "\t<li>2</li>\n",
       "\t<li>3</li>\n",
       "\t<li>3</li>\n",
       "\t<li>3</li>\n",
       "\t<li>3</li>\n",
       "\t<li>3</li>\n",
       "\t<li>0</li>\n",
       "\t<li>0</li>\n",
       "\t<li>0</li>\n",
       "\t<li>0</li>\n",
       "\t<li>0</li>\n",
       "\t<li>2</li>\n",
       "\t<li>0</li>\n",
       "\t<li>0</li>\n",
       "\t<li>1</li>\n",
       "\t<li>1</li>\n",
       "\t<li>1</li>\n",
       "\t<li>1</li>\n",
       "\t<li>1</li>\n",
       "\t<li>1</li>\n",
       "\t<li>1</li>\n",
       "\t<li>1</li>\n",
       "\t<li>1</li>\n",
       "\t<li>1</li>\n",
       "\t<li>1</li>\n",
       "\t<li>1</li>\n",
       "\t<li>1</li>\n",
       "\t<li>1</li>\n",
       "\t<li>1</li>\n",
       "\t<li>3</li>\n",
       "\t<li>3</li>\n",
       "\t<li>2</li>\n",
       "\t<li>3</li>\n",
       "\t<li>3</li>\n",
       "\t<li>3</li>\n",
       "\t<li>3</li>\n",
       "\t<li>3</li>\n",
       "\t<li>2</li>\n",
       "\t<li>2</li>\n",
       "\t<li>2</li>\n",
       "\t<li>2</li>\n",
       "\t<li>2</li>\n",
       "\t<li>2</li>\n",
       "\t<li>3</li>\n",
       "\t<li>1</li>\n",
       "\t<li>1</li>\n",
       "\t<li>1</li>\n",
       "\t<li>1</li>\n",
       "\t<li>1</li>\n",
       "\t<li>1</li>\n",
       "\t<li>1</li>\n",
       "\t<li>1</li>\n",
       "\t<li>1</li>\n",
       "\t<li>1</li>\n",
       "\t<li>1</li>\n",
       "\t<li>1</li>\n",
       "\t<li>1</li>\n",
       "\t<li>1</li>\n",
       "\t<li>1</li>\n",
       "\t<li>1</li>\n",
       "\t<li>1</li>\n",
       "\t<li>2</li>\n",
       "\t<li>2</li>\n",
       "\t<li>2</li>\n",
       "\t<li>2</li>\n",
       "\t<li>0</li>\n",
       "\t<li>0</li>\n",
       "\t<li>0</li>\n",
       "\t<li>0</li>\n",
       "\t<li>0</li>\n",
       "\t<li>0</li>\n",
       "\t<li>1</li>\n",
       "\t<li>1</li>\n",
       "\t<li>2</li>\n",
       "\t<li>2</li>\n",
       "\t<li>2</li>\n",
       "\t<li>2</li>\n",
       "\t<li>2</li>\n",
       "\t<li>2</li>\n",
       "\t<li>2</li>\n",
       "\t<li>2</li>\n",
       "\t<li>2</li>\n",
       "\t<li>2</li>\n",
       "\t<li>2</li>\n",
       "\t<li>2</li>\n",
       "\t<li>2</li>\n",
       "\t<li>2</li>\n",
       "\t<li>2</li>\n",
       "\t<li>2</li>\n",
       "\t<li>2</li>\n",
       "\t<li>2</li>\n",
       "\t<li>2</li>\n",
       "\t<li>2</li>\n",
       "\t<li>2</li>\n",
       "\t<li>2</li>\n",
       "\t<li>2</li>\n",
       "\t<li>2</li>\n",
       "\t<li>2</li>\n",
       "\t<li>2</li>\n",
       "\t<li>2</li>\n",
       "\t<li>2</li>\n",
       "\t<li>2</li>\n",
       "\t<li>2</li>\n",
       "\t<li>2</li>\n",
       "\t<li>2</li>\n",
       "\t<li>2</li>\n",
       "\t<li>2</li>\n",
       "\t<li>2</li>\n",
       "\t<li>2</li>\n",
       "\t<li>2</li>\n",
       "\t<li>2</li>\n",
       "\t<li>2</li>\n",
       "\t<li>2</li>\n",
       "\t<li>2</li>\n",
       "\t<li>1</li>\n",
       "\t<li>1</li>\n",
       "\t<li>1</li>\n",
       "\t<li>1</li>\n",
       "\t<li>1</li>\n",
       "\t<li>0</li>\n",
       "\t<li>0</li>\n",
       "\t<li>0</li>\n",
       "\t<li>0</li>\n",
       "\t<li>0</li>\n",
       "\t<li>0</li>\n",
       "\t<li>0</li>\n",
       "\t<li>0</li>\n",
       "\t<li>0</li>\n",
       "\t<li>0</li>\n",
       "\t<li>1</li>\n",
       "\t<li>1</li>\n",
       "\t<li>1</li>\n",
       "\t<li>1</li>\n",
       "\t<li>2</li>\n",
       "\t<li>1</li>\n",
       "\t<li>1</li>\n",
       "\t<li>1</li>\n",
       "\t<li>1</li>\n",
       "\t<li>1</li>\n",
       "\t<li>1</li>\n",
       "\t<li>1</li>\n",
       "\t<li>1</li>\n",
       "\t<li>1</li>\n",
       "\t<li>1</li>\n",
       "\t<li>1</li>\n",
       "\t<li>1</li>\n",
       "\t<li>1</li>\n",
       "\t<li>1</li>\n",
       "\t<li>1</li>\n",
       "\t<li>1</li>\n",
       "\t<li>1</li>\n",
       "\t<li>1</li>\n",
       "\t<li>1</li>\n",
       "\t<li>1</li>\n",
       "\t<li>3</li>\n",
       "\t<li>3</li>\n",
       "\t<li>3</li>\n",
       "\t<li>3</li>\n",
       "\t<li>3</li>\n",
       "\t<li>3</li>\n",
       "\t<li>3</li>\n",
       "\t<li>3</li>\n",
       "\t<li>3</li>\n",
       "\t<li>3</li>\n",
       "\t<li>1</li>\n",
       "\t<li>1</li>\n",
       "\t<li>1</li>\n",
       "\t<li>1</li>\n",
       "\t<li>1</li>\n",
       "\t<li>1</li>\n",
       "\t<li>1</li>\n",
       "\t<li>1</li>\n",
       "\t<li>1</li>\n",
       "\t<li>1</li>\n",
       "\t<li>1</li>\n",
       "\t<li>1</li>\n",
       "\t<li>1</li>\n",
       "\t<li>1</li>\n",
       "\t<li>1</li>\n",
       "\t<li>1</li>\n",
       "\t<li>1</li>\n",
       "\t<li>1</li>\n",
       "\t<li>2</li>\n",
       "</ol>\n"
      ],
      "text/latex": [
       "\\begin{enumerate*}\n",
       "\\item 1\n",
       "\\item 3\n",
       "\\item 3\n",
       "\\item 3\n",
       "\\item 3\n",
       "\\item 2\n",
       "\\item 2\n",
       "\\item 2\n",
       "\\item 2\n",
       "\\item 2\n",
       "\\item 2\n",
       "\\item 2\n",
       "\\item 2\n",
       "\\item 2\n",
       "\\item 3\n",
       "\\item 2\n",
       "\\item 2\n",
       "\\item 2\n",
       "\\item 2\n",
       "\\item 2\n",
       "\\item 2\n",
       "\\item 2\n",
       "\\item 2\n",
       "\\item 0\n",
       "\\item 2\n",
       "\\item 2\n",
       "\\item 2\n",
       "\\item 2\n",
       "\\item 2\n",
       "\\item 2\n",
       "\\item 2\n",
       "\\item 3\n",
       "\\item 3\n",
       "\\item 0\n",
       "\\item 0\n",
       "\\item 0\n",
       "\\item 0\n",
       "\\item 0\n",
       "\\item 0\n",
       "\\item 0\n",
       "\\item 0\n",
       "\\item 0\n",
       "\\item 0\n",
       "\\item 0\n",
       "\\item 0\n",
       "\\item 0\n",
       "\\item 3\n",
       "\\item 0\n",
       "\\item 0\n",
       "\\item 0\n",
       "\\item 0\n",
       "\\item 0\n",
       "\\item 3\n",
       "\\item 3\n",
       "\\item 3\n",
       "\\item 3\n",
       "\\item 3\n",
       "\\item 3\n",
       "\\item 3\n",
       "\\item 3\n",
       "\\item 3\n",
       "\\item 0\n",
       "\\item 2\n",
       "\\item 2\n",
       "\\item 2\n",
       "\\item 1\n",
       "\\item 2\n",
       "\\item 1\n",
       "\\item 1\n",
       "\\item 1\n",
       "\\item 1\n",
       "\\item 1\n",
       "\\item 1\n",
       "\\item 1\n",
       "\\item 1\n",
       "\\item 1\n",
       "\\item 1\n",
       "\\item 1\n",
       "\\item 1\n",
       "\\item 1\n",
       "\\item 1\n",
       "\\item 1\n",
       "\\item 1\n",
       "\\item 1\n",
       "\\item 1\n",
       "\\item 1\n",
       "\\item 1\n",
       "\\item 1\n",
       "\\item 1\n",
       "\\item 1\n",
       "\\item 1\n",
       "\\item 1\n",
       "\\item 1\n",
       "\\item 1\n",
       "\\item 1\n",
       "\\item 1\n",
       "\\item 1\n",
       "\\item 1\n",
       "\\item 1\n",
       "\\item 1\n",
       "\\item 2\n",
       "\\item 2\n",
       "\\item 2\n",
       "\\item 1\n",
       "\\item 1\n",
       "\\item 1\n",
       "\\item 1\n",
       "\\item 1\n",
       "\\item 1\n",
       "\\item 1\n",
       "\\item 1\n",
       "\\item 1\n",
       "\\item 0\n",
       "\\item 1\n",
       "\\item 1\n",
       "\\item 1\n",
       "\\item 1\n",
       "\\item 1\n",
       "\\item 1\n",
       "\\item 0\n",
       "\\item 3\n",
       "\\item 3\n",
       "\\item 2\n",
       "\\item 2\n",
       "\\item 2\n",
       "\\item 2\n",
       "\\item 2\n",
       "\\item 2\n",
       "\\item 2\n",
       "\\item 3\n",
       "\\item 3\n",
       "\\item 3\n",
       "\\item 3\n",
       "\\item 3\n",
       "\\item 0\n",
       "\\item 0\n",
       "\\item 0\n",
       "\\item 0\n",
       "\\item 0\n",
       "\\item 2\n",
       "\\item 0\n",
       "\\item 0\n",
       "\\item 1\n",
       "\\item 1\n",
       "\\item 1\n",
       "\\item 1\n",
       "\\item 1\n",
       "\\item 1\n",
       "\\item 1\n",
       "\\item 1\n",
       "\\item 1\n",
       "\\item 1\n",
       "\\item 1\n",
       "\\item 1\n",
       "\\item 1\n",
       "\\item 1\n",
       "\\item 1\n",
       "\\item 3\n",
       "\\item 3\n",
       "\\item 2\n",
       "\\item 3\n",
       "\\item 3\n",
       "\\item 3\n",
       "\\item 3\n",
       "\\item 3\n",
       "\\item 2\n",
       "\\item 2\n",
       "\\item 2\n",
       "\\item 2\n",
       "\\item 2\n",
       "\\item 2\n",
       "\\item 3\n",
       "\\item 1\n",
       "\\item 1\n",
       "\\item 1\n",
       "\\item 1\n",
       "\\item 1\n",
       "\\item 1\n",
       "\\item 1\n",
       "\\item 1\n",
       "\\item 1\n",
       "\\item 1\n",
       "\\item 1\n",
       "\\item 1\n",
       "\\item 1\n",
       "\\item 1\n",
       "\\item 1\n",
       "\\item 1\n",
       "\\item 1\n",
       "\\item 2\n",
       "\\item 2\n",
       "\\item 2\n",
       "\\item 2\n",
       "\\item 0\n",
       "\\item 0\n",
       "\\item 0\n",
       "\\item 0\n",
       "\\item 0\n",
       "\\item 0\n",
       "\\item 1\n",
       "\\item 1\n",
       "\\item 2\n",
       "\\item 2\n",
       "\\item 2\n",
       "\\item 2\n",
       "\\item 2\n",
       "\\item 2\n",
       "\\item 2\n",
       "\\item 2\n",
       "\\item 2\n",
       "\\item 2\n",
       "\\item 2\n",
       "\\item 2\n",
       "\\item 2\n",
       "\\item 2\n",
       "\\item 2\n",
       "\\item 2\n",
       "\\item 2\n",
       "\\item 2\n",
       "\\item 2\n",
       "\\item 2\n",
       "\\item 2\n",
       "\\item 2\n",
       "\\item 2\n",
       "\\item 2\n",
       "\\item 2\n",
       "\\item 2\n",
       "\\item 2\n",
       "\\item 2\n",
       "\\item 2\n",
       "\\item 2\n",
       "\\item 2\n",
       "\\item 2\n",
       "\\item 2\n",
       "\\item 2\n",
       "\\item 2\n",
       "\\item 2\n",
       "\\item 2\n",
       "\\item 2\n",
       "\\item 2\n",
       "\\item 2\n",
       "\\item 2\n",
       "\\item 1\n",
       "\\item 1\n",
       "\\item 1\n",
       "\\item 1\n",
       "\\item 1\n",
       "\\item 0\n",
       "\\item 0\n",
       "\\item 0\n",
       "\\item 0\n",
       "\\item 0\n",
       "\\item 0\n",
       "\\item 0\n",
       "\\item 0\n",
       "\\item 0\n",
       "\\item 0\n",
       "\\item 1\n",
       "\\item 1\n",
       "\\item 1\n",
       "\\item 1\n",
       "\\item 2\n",
       "\\item 1\n",
       "\\item 1\n",
       "\\item 1\n",
       "\\item 1\n",
       "\\item 1\n",
       "\\item 1\n",
       "\\item 1\n",
       "\\item 1\n",
       "\\item 1\n",
       "\\item 1\n",
       "\\item 1\n",
       "\\item 1\n",
       "\\item 1\n",
       "\\item 1\n",
       "\\item 1\n",
       "\\item 1\n",
       "\\item 1\n",
       "\\item 1\n",
       "\\item 1\n",
       "\\item 1\n",
       "\\item 3\n",
       "\\item 3\n",
       "\\item 3\n",
       "\\item 3\n",
       "\\item 3\n",
       "\\item 3\n",
       "\\item 3\n",
       "\\item 3\n",
       "\\item 3\n",
       "\\item 3\n",
       "\\item 1\n",
       "\\item 1\n",
       "\\item 1\n",
       "\\item 1\n",
       "\\item 1\n",
       "\\item 1\n",
       "\\item 1\n",
       "\\item 1\n",
       "\\item 1\n",
       "\\item 1\n",
       "\\item 1\n",
       "\\item 1\n",
       "\\item 1\n",
       "\\item 1\n",
       "\\item 1\n",
       "\\item 1\n",
       "\\item 1\n",
       "\\item 1\n",
       "\\item 2\n",
       "\\end{enumerate*}\n"
      ],
      "text/markdown": [
       "1. 1\n",
       "2. 3\n",
       "3. 3\n",
       "4. 3\n",
       "5. 3\n",
       "6. 2\n",
       "7. 2\n",
       "8. 2\n",
       "9. 2\n",
       "10. 2\n",
       "11. 2\n",
       "12. 2\n",
       "13. 2\n",
       "14. 2\n",
       "15. 3\n",
       "16. 2\n",
       "17. 2\n",
       "18. 2\n",
       "19. 2\n",
       "20. 2\n",
       "21. 2\n",
       "22. 2\n",
       "23. 2\n",
       "24. 0\n",
       "25. 2\n",
       "26. 2\n",
       "27. 2\n",
       "28. 2\n",
       "29. 2\n",
       "30. 2\n",
       "31. 2\n",
       "32. 3\n",
       "33. 3\n",
       "34. 0\n",
       "35. 0\n",
       "36. 0\n",
       "37. 0\n",
       "38. 0\n",
       "39. 0\n",
       "40. 0\n",
       "41. 0\n",
       "42. 0\n",
       "43. 0\n",
       "44. 0\n",
       "45. 0\n",
       "46. 0\n",
       "47. 3\n",
       "48. 0\n",
       "49. 0\n",
       "50. 0\n",
       "51. 0\n",
       "52. 0\n",
       "53. 3\n",
       "54. 3\n",
       "55. 3\n",
       "56. 3\n",
       "57. 3\n",
       "58. 3\n",
       "59. 3\n",
       "60. 3\n",
       "61. 3\n",
       "62. 0\n",
       "63. 2\n",
       "64. 2\n",
       "65. 2\n",
       "66. 1\n",
       "67. 2\n",
       "68. 1\n",
       "69. 1\n",
       "70. 1\n",
       "71. 1\n",
       "72. 1\n",
       "73. 1\n",
       "74. 1\n",
       "75. 1\n",
       "76. 1\n",
       "77. 1\n",
       "78. 1\n",
       "79. 1\n",
       "80. 1\n",
       "81. 1\n",
       "82. 1\n",
       "83. 1\n",
       "84. 1\n",
       "85. 1\n",
       "86. 1\n",
       "87. 1\n",
       "88. 1\n",
       "89. 1\n",
       "90. 1\n",
       "91. 1\n",
       "92. 1\n",
       "93. 1\n",
       "94. 1\n",
       "95. 1\n",
       "96. 1\n",
       "97. 1\n",
       "98. 1\n",
       "99. 1\n",
       "100. 1\n",
       "101. 2\n",
       "102. 2\n",
       "103. 2\n",
       "104. 1\n",
       "105. 1\n",
       "106. 1\n",
       "107. 1\n",
       "108. 1\n",
       "109. 1\n",
       "110. 1\n",
       "111. 1\n",
       "112. 1\n",
       "113. 0\n",
       "114. 1\n",
       "115. 1\n",
       "116. 1\n",
       "117. 1\n",
       "118. 1\n",
       "119. 1\n",
       "120. 0\n",
       "121. 3\n",
       "122. 3\n",
       "123. 2\n",
       "124. 2\n",
       "125. 2\n",
       "126. 2\n",
       "127. 2\n",
       "128. 2\n",
       "129. 2\n",
       "130. 3\n",
       "131. 3\n",
       "132. 3\n",
       "133. 3\n",
       "134. 3\n",
       "135. 0\n",
       "136. 0\n",
       "137. 0\n",
       "138. 0\n",
       "139. 0\n",
       "140. 2\n",
       "141. 0\n",
       "142. 0\n",
       "143. 1\n",
       "144. 1\n",
       "145. 1\n",
       "146. 1\n",
       "147. 1\n",
       "148. 1\n",
       "149. 1\n",
       "150. 1\n",
       "151. 1\n",
       "152. 1\n",
       "153. 1\n",
       "154. 1\n",
       "155. 1\n",
       "156. 1\n",
       "157. 1\n",
       "158. 3\n",
       "159. 3\n",
       "160. 2\n",
       "161. 3\n",
       "162. 3\n",
       "163. 3\n",
       "164. 3\n",
       "165. 3\n",
       "166. 2\n",
       "167. 2\n",
       "168. 2\n",
       "169. 2\n",
       "170. 2\n",
       "171. 2\n",
       "172. 3\n",
       "173. 1\n",
       "174. 1\n",
       "175. 1\n",
       "176. 1\n",
       "177. 1\n",
       "178. 1\n",
       "179. 1\n",
       "180. 1\n",
       "181. 1\n",
       "182. 1\n",
       "183. 1\n",
       "184. 1\n",
       "185. 1\n",
       "186. 1\n",
       "187. 1\n",
       "188. 1\n",
       "189. 1\n",
       "190. 2\n",
       "191. 2\n",
       "192. 2\n",
       "193. 2\n",
       "194. 0\n",
       "195. 0\n",
       "196. 0\n",
       "197. 0\n",
       "198. 0\n",
       "199. 0\n",
       "200. 1\n",
       "201. 1\n",
       "202. 2\n",
       "203. 2\n",
       "204. 2\n",
       "205. 2\n",
       "206. 2\n",
       "207. 2\n",
       "208. 2\n",
       "209. 2\n",
       "210. 2\n",
       "211. 2\n",
       "212. 2\n",
       "213. 2\n",
       "214. 2\n",
       "215. 2\n",
       "216. 2\n",
       "217. 2\n",
       "218. 2\n",
       "219. 2\n",
       "220. 2\n",
       "221. 2\n",
       "222. 2\n",
       "223. 2\n",
       "224. 2\n",
       "225. 2\n",
       "226. 2\n",
       "227. 2\n",
       "228. 2\n",
       "229. 2\n",
       "230. 2\n",
       "231. 2\n",
       "232. 2\n",
       "233. 2\n",
       "234. 2\n",
       "235. 2\n",
       "236. 2\n",
       "237. 2\n",
       "238. 2\n",
       "239. 2\n",
       "240. 2\n",
       "241. 2\n",
       "242. 2\n",
       "243. 1\n",
       "244. 1\n",
       "245. 1\n",
       "246. 1\n",
       "247. 1\n",
       "248. 0\n",
       "249. 0\n",
       "250. 0\n",
       "251. 0\n",
       "252. 0\n",
       "253. 0\n",
       "254. 0\n",
       "255. 0\n",
       "256. 0\n",
       "257. 0\n",
       "258. 1\n",
       "259. 1\n",
       "260. 1\n",
       "261. 1\n",
       "262. 2\n",
       "263. 1\n",
       "264. 1\n",
       "265. 1\n",
       "266. 1\n",
       "267. 1\n",
       "268. 1\n",
       "269. 1\n",
       "270. 1\n",
       "271. 1\n",
       "272. 1\n",
       "273. 1\n",
       "274. 1\n",
       "275. 1\n",
       "276. 1\n",
       "277. 1\n",
       "278. 1\n",
       "279. 1\n",
       "280. 1\n",
       "281. 1\n",
       "282. 1\n",
       "283. 3\n",
       "284. 3\n",
       "285. 3\n",
       "286. 3\n",
       "287. 3\n",
       "288. 3\n",
       "289. 3\n",
       "290. 3\n",
       "291. 3\n",
       "292. 3\n",
       "293. 1\n",
       "294. 1\n",
       "295. 1\n",
       "296. 1\n",
       "297. 1\n",
       "298. 1\n",
       "299. 1\n",
       "300. 1\n",
       "301. 1\n",
       "302. 1\n",
       "303. 1\n",
       "304. 1\n",
       "305. 1\n",
       "306. 1\n",
       "307. 1\n",
       "308. 1\n",
       "309. 1\n",
       "310. 1\n",
       "311. 2\n",
       "\n",
       "\n"
      ],
      "text/plain": [
       "  [1] 1 3 3 3 3 2 2 2 2 2 2 2 2 2 3 2 2 2 2 2 2 2 2 0 2 2 2 2 2 2 2 3 3 0 0 0 0\n",
       " [38] 0 0 0 0 0 0 0 0 0 3 0 0 0 0 0 3 3 3 3 3 3 3 3 3 0 2 2 2 1 2 1 1 1 1 1 1 1\n",
       " [75] 1 1 1 1 1 1 1 1 1 1 1 1 1 1 1 1 1 1 1 1 1 1 1 1 1 1 2 2 2 1 1 1 1 1 1 1 1\n",
       "[112] 1 0 1 1 1 1 1 1 0 3 3 2 2 2 2 2 2 2 3 3 3 3 3 0 0 0 0 0 2 0 0 1 1 1 1 1 1\n",
       "[149] 1 1 1 1 1 1 1 1 1 3 3 2 3 3 3 3 3 2 2 2 2 2 2 3 1 1 1 1 1 1 1 1 1 1 1 1 1\n",
       "[186] 1 1 1 1 2 2 2 2 0 0 0 0 0 0 1 1 2 2 2 2 2 2 2 2 2 2 2 2 2 2 2 2 2 2 2 2 2\n",
       "[223] 2 2 2 2 2 2 2 2 2 2 2 2 2 2 2 2 2 2 2 2 1 1 1 1 1 0 0 0 0 0 0 0 0 0 0 1 1\n",
       "[260] 1 1 2 1 1 1 1 1 1 1 1 1 1 1 1 1 1 1 1 1 1 1 1 3 3 3 3 3 3 3 3 3 3 1 1 1 1\n",
       "[297] 1 1 1 1 1 1 1 1 1 1 1 1 1 1 2"
      ]
     },
     "metadata": {},
     "output_type": "display_data"
    }
   ],
   "source": [
    "clusters$exp_cluster_label"
   ]
  },
  {
   "cell_type": "code",
   "execution_count": 93,
   "metadata": {},
   "outputs": [
    {
     "data": {
      "text/html": [
       "<table>\n",
       "<thead><tr><th scope=col>snp_id</th><th scope=col>Unnamed..0</th><th scope=col>beta.mean</th><th scope=col>beta_se</th><th scope=col>empirical_feature_p_value</th><th scope=col>p_value.mean</th><th scope=col>snp_id.1</th><th scope=col>feature</th><th scope=col>global_corr_p_value</th><th scope=col>chrom</th><th scope=col>⋯</th><th scope=col>H3K4me3</th><th scope=col>H3K4me3_h0</th><th scope=col>H3K4me3_h24</th><th scope=col>H3K36me3_h48</th><th scope=col>H3K36me3_h24</th><th scope=col>H3K36me3_h36</th><th scope=col>H3K36me3_h72</th><th scope=col>H3K36me3_h0</th><th scope=col>H3K36me3_h12</th><th scope=col>H3K36me3</th></tr></thead>\n",
       "<tbody>\n",
       "\t<tr><td>6_31132414_G_A          </td><td>  24                    </td><td>-1.386281               </td><td>0.1083733               </td><td>1.592971e-18            </td><td>1.823854e-37            </td><td>6_31132414_G_A          </td><td>ENSG00000204531_POU5F1  </td><td>5.264237e-16            </td><td>6                       </td><td>⋯                       </td><td>False                   </td><td>False                   </td><td>False                   </td><td>True                    </td><td>True                    </td><td>True                    </td><td>True                    </td><td>True                    </td><td>True                    </td><td>True                    </td></tr>\n",
       "\t<tr><td>6_32634922_A_G          </td><td> 117                    </td><td>-1.270786               </td><td>0.1469673               </td><td>1.977147e-11            </td><td>5.299864e-18            </td><td>6_32634922_A_G          </td><td>ENSG00000179344_HLA-DQB1</td><td>1.340269e-09            </td><td>6                       </td><td>⋯                       </td><td>False                   </td><td>False                   </td><td>False                   </td><td>False                   </td><td>False                   </td><td>False                   </td><td>False                   </td><td>False                   </td><td>False                   </td><td>False                   </td></tr>\n",
       "\t<tr><td>6_32634922_A_G          </td><td>1879                    </td><td>-1.375988               </td><td>0.1478612               </td><td>8.485500e-15            </td><td>1.328104e-20            </td><td>6_32634922_A_G          </td><td>ENSG00000179344_HLA-DQB1</td><td>1.519887e-12            </td><td>6                       </td><td>⋯                       </td><td>False                   </td><td>False                   </td><td>False                   </td><td>False                   </td><td>False                   </td><td>False                   </td><td>False                   </td><td>False                   </td><td>False                   </td><td>False                   </td></tr>\n",
       "\t<tr><td>6_32634922_A_G          </td><td>3587                    </td><td>-1.438379               </td><td>0.1499301               </td><td>3.298243e-12            </td><td>8.500689e-22            </td><td>6_32634922_A_G          </td><td>ENSG00000179344_HLA-DQB1</td><td>5.981274e-10            </td><td>6                       </td><td>⋯                       </td><td>False                   </td><td>False                   </td><td>False                   </td><td>False                   </td><td>False                   </td><td>False                   </td><td>False                   </td><td>False                   </td><td>False                   </td><td>False                   </td></tr>\n",
       "\t<tr><td>9_136227260_A_G         </td><td>  20                    </td><td>-1.371767               </td><td>0.1094063               </td><td>1.461609e-19            </td><td>4.608624e-36            </td><td>9_136227260_A_G         </td><td>ENSG00000148291_SURF2   </td><td>5.796154e-17            </td><td>9                       </td><td>⋯                       </td><td>False                   </td><td>False                   </td><td>False                   </td><td>True                    </td><td>True                    </td><td>True                    </td><td>True                    </td><td>True                    </td><td>True                    </td><td>True                    </td></tr>\n",
       "\t<tr><td>9_136227260_A_G         </td><td>1851                    </td><td>-1.410832               </td><td>0.1143974               </td><td>6.363028e-20            </td><td>6.036677e-35            </td><td>9_136227260_A_G         </td><td>ENSG00000148291_SURF2   </td><td>2.949861e-17            </td><td>9                       </td><td>⋯                       </td><td>False                   </td><td>False                   </td><td>False                   </td><td>True                    </td><td>True                    </td><td>True                    </td><td>True                    </td><td>True                    </td><td>True                    </td><td>True                    </td></tr>\n",
       "</tbody>\n",
       "</table>\n"
      ],
      "text/latex": [
       "\\begin{tabular}{r|llllllllllllllllllllllllllllllllllllllllllllllllllllllllllllllll}\n",
       " snp\\_id & Unnamed..0 & beta.mean & beta\\_se & empirical\\_feature\\_p\\_value & p\\_value.mean & snp\\_id.1 & feature & global\\_corr\\_p\\_value & chrom & ⋯ & H3K4me3 & H3K4me3\\_h0 & H3K4me3\\_h24 & H3K36me3\\_h48 & H3K36me3\\_h24 & H3K36me3\\_h36 & H3K36me3\\_h72 & H3K36me3\\_h0 & H3K36me3\\_h12 & H3K36me3\\\\\n",
       "\\hline\n",
       "\t 6\\_31132414\\_G\\_A       &   24                       & -1.386281                  & 0.1083733                  & 1.592971e-18               & 1.823854e-37               & 6\\_31132414\\_G\\_A       & ENSG00000204531\\_POU5F1   & 5.264237e-16               & 6                          & ⋯                          & False                      & False                      & False                      & True                       & True                       & True                       & True                       & True                       & True                       & True                      \\\\\n",
       "\t 6\\_32634922\\_A\\_G       &  117                       & -1.270786                  & 0.1469673                  & 1.977147e-11               & 5.299864e-18               & 6\\_32634922\\_A\\_G       & ENSG00000179344\\_HLA-DQB1 & 1.340269e-09               & 6                          & ⋯                          & False                      & False                      & False                      & False                      & False                      & False                      & False                      & False                      & False                      & False                     \\\\\n",
       "\t 6\\_32634922\\_A\\_G       & 1879                       & -1.375988                  & 0.1478612                  & 8.485500e-15               & 1.328104e-20               & 6\\_32634922\\_A\\_G       & ENSG00000179344\\_HLA-DQB1 & 1.519887e-12               & 6                          & ⋯                          & False                      & False                      & False                      & False                      & False                      & False                      & False                      & False                      & False                      & False                     \\\\\n",
       "\t 6\\_32634922\\_A\\_G       & 3587                       & -1.438379                  & 0.1499301                  & 3.298243e-12               & 8.500689e-22               & 6\\_32634922\\_A\\_G       & ENSG00000179344\\_HLA-DQB1 & 5.981274e-10               & 6                          & ⋯                          & False                      & False                      & False                      & False                      & False                      & False                      & False                      & False                      & False                      & False                     \\\\\n",
       "\t 9\\_136227260\\_A\\_G      &   20                       & -1.371767                  & 0.1094063                  & 1.461609e-19               & 4.608624e-36               & 9\\_136227260\\_A\\_G      & ENSG00000148291\\_SURF2    & 5.796154e-17               & 9                          & ⋯                          & False                      & False                      & False                      & True                       & True                       & True                       & True                       & True                       & True                       & True                      \\\\\n",
       "\t 9\\_136227260\\_A\\_G      & 1851                       & -1.410832                  & 0.1143974                  & 6.363028e-20               & 6.036677e-35               & 9\\_136227260\\_A\\_G      & ENSG00000148291\\_SURF2    & 2.949861e-17               & 9                          & ⋯                          & False                      & False                      & False                      & True                       & True                       & True                       & True                       & True                       & True                       & True                      \\\\\n",
       "\\end{tabular}\n"
      ],
      "text/markdown": [
       "\n",
       "snp_id | Unnamed..0 | beta.mean | beta_se | empirical_feature_p_value | p_value.mean | snp_id.1 | feature | global_corr_p_value | chrom | ⋯ | H3K4me3 | H3K4me3_h0 | H3K4me3_h24 | H3K36me3_h48 | H3K36me3_h24 | H3K36me3_h36 | H3K36me3_h72 | H3K36me3_h0 | H3K36me3_h12 | H3K36me3 | \n",
       "|---|---|---|---|---|---|\n",
       "| 6_31132414_G_A           |   24                     | -1.386281                | 0.1083733                | 1.592971e-18             | 1.823854e-37             | 6_31132414_G_A           | ENSG00000204531_POU5F1   | 5.264237e-16             | 6                        | ⋯                        | False                    | False                    | False                    | True                     | True                     | True                     | True                     | True                     | True                     | True                     | \n",
       "| 6_32634922_A_G           |  117                     | -1.270786                | 0.1469673                | 1.977147e-11             | 5.299864e-18             | 6_32634922_A_G           | ENSG00000179344_HLA-DQB1 | 1.340269e-09             | 6                        | ⋯                        | False                    | False                    | False                    | False                    | False                    | False                    | False                    | False                    | False                    | False                    | \n",
       "| 6_32634922_A_G           | 1879                     | -1.375988                | 0.1478612                | 8.485500e-15             | 1.328104e-20             | 6_32634922_A_G           | ENSG00000179344_HLA-DQB1 | 1.519887e-12             | 6                        | ⋯                        | False                    | False                    | False                    | False                    | False                    | False                    | False                    | False                    | False                    | False                    | \n",
       "| 6_32634922_A_G           | 3587                     | -1.438379                | 0.1499301                | 3.298243e-12             | 8.500689e-22             | 6_32634922_A_G           | ENSG00000179344_HLA-DQB1 | 5.981274e-10             | 6                        | ⋯                        | False                    | False                    | False                    | False                    | False                    | False                    | False                    | False                    | False                    | False                    | \n",
       "| 9_136227260_A_G          |   20                     | -1.371767                | 0.1094063                | 1.461609e-19             | 4.608624e-36             | 9_136227260_A_G          | ENSG00000148291_SURF2    | 5.796154e-17             | 9                        | ⋯                        | False                    | False                    | False                    | True                     | True                     | True                     | True                     | True                     | True                     | True                     | \n",
       "| 9_136227260_A_G          | 1851                     | -1.410832                | 0.1143974                | 6.363028e-20             | 6.036677e-35             | 9_136227260_A_G          | ENSG00000148291_SURF2    | 2.949861e-17             | 9                        | ⋯                        | False                    | False                    | False                    | True                     | True                     | True                     | True                     | True                     | True                     | True                     | \n",
       "\n",
       "\n"
      ],
      "text/plain": [
       "  snp_id          Unnamed..0 beta.mean beta_se   empirical_feature_p_value\n",
       "1 6_31132414_G_A    24       -1.386281 0.1083733 1.592971e-18             \n",
       "2 6_32634922_A_G   117       -1.270786 0.1469673 1.977147e-11             \n",
       "3 6_32634922_A_G  1879       -1.375988 0.1478612 8.485500e-15             \n",
       "4 6_32634922_A_G  3587       -1.438379 0.1499301 3.298243e-12             \n",
       "5 9_136227260_A_G   20       -1.371767 0.1094063 1.461609e-19             \n",
       "6 9_136227260_A_G 1851       -1.410832 0.1143974 6.363028e-20             \n",
       "  p_value.mean snp_id.1        feature                  global_corr_p_value\n",
       "1 1.823854e-37 6_31132414_G_A  ENSG00000204531_POU5F1   5.264237e-16       \n",
       "2 5.299864e-18 6_32634922_A_G  ENSG00000179344_HLA-DQB1 1.340269e-09       \n",
       "3 1.328104e-20 6_32634922_A_G  ENSG00000179344_HLA-DQB1 1.519887e-12       \n",
       "4 8.500689e-22 6_32634922_A_G  ENSG00000179344_HLA-DQB1 5.981274e-10       \n",
       "5 4.608624e-36 9_136227260_A_G ENSG00000148291_SURF2    5.796154e-17       \n",
       "6 6.036677e-35 9_136227260_A_G ENSG00000148291_SURF2    2.949861e-17       \n",
       "  chrom ⋯ H3K4me3 H3K4me3_h0 H3K4me3_h24 H3K36me3_h48 H3K36me3_h24 H3K36me3_h36\n",
       "1 6     ⋯ False   False      False       True         True         True        \n",
       "2 6     ⋯ False   False      False       False        False        False       \n",
       "3 6     ⋯ False   False      False       False        False        False       \n",
       "4 6     ⋯ False   False      False       False        False        False       \n",
       "5 9     ⋯ False   False      False       True         True         True        \n",
       "6 9     ⋯ False   False      False       True         True         True        \n",
       "  H3K36me3_h72 H3K36me3_h0 H3K36me3_h12 H3K36me3\n",
       "1 True         True        True         True    \n",
       "2 False        False       False        False   \n",
       "3 False        False       False        False   \n",
       "4 False        False       False        False   \n",
       "5 True         True        True         True    \n",
       "6 True         True        True         True    "
      ]
     },
     "metadata": {},
     "output_type": "display_data"
    }
   ],
   "source": [
    "eQTL_histones_filename <- \"/nfs/leia/research/stegle/dseaton/hipsci/singlecell_endodiff/data/qtl_chipseq_overlaps/all_qtl_results_combined.overlap_w_vallier_histone_marks.tsv\"\n",
    "eQTL_histones <- read.csv(eQTL_histones_filename, sep = \"\\t\")\n",
    "head(eQTL_histones)"
   ]
  },
  {
   "cell_type": "code",
   "execution_count": 94,
   "metadata": {},
   "outputs": [
    {
     "data": {
      "text/html": [
       "4470"
      ],
      "text/latex": [
       "4470"
      ],
      "text/markdown": [
       "4470"
      ],
      "text/plain": [
       "[1] 4470"
      ]
     },
     "metadata": {},
     "output_type": "display_data"
    },
    {
     "data": {
      "text/html": [
       "<table>\n",
       "<thead><tr><th></th><th scope=col>snp_id</th><th scope=col>feature</th><th scope=col>H3K27me3_h12</th><th scope=col>H3K27me3_h24</th><th scope=col>H3K27me3_h48</th><th scope=col>H3K27me3_h0</th><th scope=col>H3K27me3_h72</th><th scope=col>H3K27ac_h12</th><th scope=col>H3K27ac_h0</th><th scope=col>H3K27ac_h48</th><th scope=col>⋯</th><th scope=col>H3K4me3_h0</th><th scope=col>H3K4me3_h24</th><th scope=col>H3K36me3_h48</th><th scope=col>H3K36me3_h24</th><th scope=col>H3K36me3_h36</th><th scope=col>H3K36me3_h72</th><th scope=col>H3K36me3_h0</th><th scope=col>H3K36me3_h12</th><th scope=col>gene_id</th><th scope=col>eQTL</th></tr></thead>\n",
       "<tbody>\n",
       "\t<tr><th scope=row>1</th><td>6_31132414_G_A                           </td><td>ENSG00000204531_POU5F1                   </td><td>False                                    </td><td>False                                    </td><td>False                                    </td><td>False                                    </td><td>False                                    </td><td>False                                    </td><td>False                                    </td><td>False                                    </td><td>⋯                                        </td><td>False                                    </td><td>False                                    </td><td>True                                     </td><td>True                                     </td><td>True                                     </td><td>True                                     </td><td>True                                     </td><td>True                                     </td><td>ENSG00000204531                          </td><td>ENSG00000204531_POU5F1-6_31132414_G_A    </td></tr>\n",
       "\t<tr><th scope=row>2</th><td>6_32634922_A_G                           </td><td>ENSG00000179344_HLA-DQB1                 </td><td>False                                    </td><td>False                                    </td><td>False                                    </td><td>False                                    </td><td>False                                    </td><td>False                                    </td><td>False                                    </td><td>False                                    </td><td>⋯                                        </td><td>False                                    </td><td>False                                    </td><td>False                                    </td><td>False                                    </td><td>False                                    </td><td>False                                    </td><td>False                                    </td><td>False                                    </td><td>ENSG00000179344                          </td><td>ENSG00000179344_HLA-DQB1-6_32634922_A_G  </td></tr>\n",
       "\t<tr><th scope=row>5</th><td>9_136227260_A_G                          </td><td>ENSG00000148291_SURF2                    </td><td>False                                    </td><td>False                                    </td><td>False                                    </td><td>False                                    </td><td>False                                    </td><td>False                                    </td><td>False                                    </td><td>False                                    </td><td>⋯                                        </td><td>False                                    </td><td>False                                    </td><td>True                                     </td><td>True                                     </td><td>True                                     </td><td>True                                     </td><td>True                                     </td><td>True                                     </td><td>ENSG00000148291                          </td><td>ENSG00000148291_SURF2-9_136227260_A_G    </td></tr>\n",
       "\t<tr><th scope=row>8</th><td>16_31522723_T_C                          </td><td>ENSG00000169877_AHSP                     </td><td>False                                    </td><td>False                                    </td><td>False                                    </td><td>False                                    </td><td>False                                    </td><td>False                                    </td><td>False                                    </td><td>False                                    </td><td>⋯                                        </td><td>False                                    </td><td>False                                    </td><td>False                                    </td><td>False                                    </td><td>False                                    </td><td>False                                    </td><td>False                                    </td><td>False                                    </td><td>ENSG00000169877                          </td><td>ENSG00000169877_AHSP-16_31522723_T_C     </td></tr>\n",
       "\t<tr><th scope=row>9</th><td>12_7945196_G_T                           </td><td>ENSG00000176654_NANOGP1                  </td><td>False                                    </td><td>False                                    </td><td>False                                    </td><td>False                                    </td><td>False                                    </td><td>False                                    </td><td>False                                    </td><td>False                                    </td><td>⋯                                        </td><td>False                                    </td><td>False                                    </td><td>True                                     </td><td>True                                     </td><td>True                                     </td><td>False                                    </td><td>True                                     </td><td>True                                     </td><td>ENSG00000176654                          </td><td>ENSG00000176654_NANOGP1-12_7945196_G_T   </td></tr>\n",
       "\t<tr><th scope=row>10</th><td>10_122218993_G_A                         </td><td>ENSG00000203805_PPAPDC1A                 </td><td>False                                    </td><td>False                                    </td><td>False                                    </td><td>False                                    </td><td>False                                    </td><td>False                                    </td><td>False                                    </td><td>True                                     </td><td>⋯                                        </td><td>False                                    </td><td>False                                    </td><td>False                                    </td><td>False                                    </td><td>False                                    </td><td>False                                    </td><td>False                                    </td><td>False                                    </td><td>ENSG00000203805                          </td><td>ENSG00000203805_PPAPDC1A-10_122218993_G_A</td></tr>\n",
       "</tbody>\n",
       "</table>\n"
      ],
      "text/latex": [
       "\\begin{tabular}{r|lllllllllllllllllllllllllllllllll}\n",
       "  & snp\\_id & feature & H3K27me3\\_h12 & H3K27me3\\_h24 & H3K27me3\\_h48 & H3K27me3\\_h0 & H3K27me3\\_h72 & H3K27ac\\_h12 & H3K27ac\\_h0 & H3K27ac\\_h48 & ⋯ & H3K4me3\\_h0 & H3K4me3\\_h24 & H3K36me3\\_h48 & H3K36me3\\_h24 & H3K36me3\\_h36 & H3K36me3\\_h72 & H3K36me3\\_h0 & H3K36me3\\_h12 & gene\\_id & eQTL\\\\\n",
       "\\hline\n",
       "\t1 & 6\\_31132414\\_G\\_A                              & ENSG00000204531\\_POU5F1                          & False                                             & False                                             & False                                             & False                                             & False                                             & False                                             & False                                             & False                                             & ⋯                                                 & False                                             & False                                             & True                                              & True                                              & True                                              & True                                              & True                                              & True                                              & ENSG00000204531                                   & ENSG00000204531\\_POU5F1-6\\_31132414\\_G\\_A    \\\\\n",
       "\t2 & 6\\_32634922\\_A\\_G                              & ENSG00000179344\\_HLA-DQB1                        & False                                             & False                                             & False                                             & False                                             & False                                             & False                                             & False                                             & False                                             & ⋯                                                 & False                                             & False                                             & False                                             & False                                             & False                                             & False                                             & False                                             & False                                             & ENSG00000179344                                   & ENSG00000179344\\_HLA-DQB1-6\\_32634922\\_A\\_G  \\\\\n",
       "\t5 & 9\\_136227260\\_A\\_G                             & ENSG00000148291\\_SURF2                           & False                                             & False                                             & False                                             & False                                             & False                                             & False                                             & False                                             & False                                             & ⋯                                                 & False                                             & False                                             & True                                              & True                                              & True                                              & True                                              & True                                              & True                                              & ENSG00000148291                                   & ENSG00000148291\\_SURF2-9\\_136227260\\_A\\_G    \\\\\n",
       "\t8 & 16\\_31522723\\_T\\_C                             & ENSG00000169877\\_AHSP                            & False                                             & False                                             & False                                             & False                                             & False                                             & False                                             & False                                             & False                                             & ⋯                                                 & False                                             & False                                             & False                                             & False                                             & False                                             & False                                             & False                                             & False                                             & ENSG00000169877                                   & ENSG00000169877\\_AHSP-16\\_31522723\\_T\\_C     \\\\\n",
       "\t9 & 12\\_7945196\\_G\\_T                              & ENSG00000176654\\_NANOGP1                         & False                                             & False                                             & False                                             & False                                             & False                                             & False                                             & False                                             & False                                             & ⋯                                                 & False                                             & False                                             & True                                              & True                                              & True                                              & False                                             & True                                              & True                                              & ENSG00000176654                                   & ENSG00000176654\\_NANOGP1-12\\_7945196\\_G\\_T   \\\\\n",
       "\t10 & 10\\_122218993\\_G\\_A                            & ENSG00000203805\\_PPAPDC1A                        & False                                             & False                                             & False                                             & False                                             & False                                             & False                                             & False                                             & True                                              & ⋯                                                 & False                                             & False                                             & False                                             & False                                             & False                                             & False                                             & False                                             & False                                             & ENSG00000203805                                   & ENSG00000203805\\_PPAPDC1A-10\\_122218993\\_G\\_A\\\\\n",
       "\\end{tabular}\n"
      ],
      "text/markdown": [
       "\n",
       "| <!--/--> | snp_id | feature | H3K27me3_h12 | H3K27me3_h24 | H3K27me3_h48 | H3K27me3_h0 | H3K27me3_h72 | H3K27ac_h12 | H3K27ac_h0 | H3K27ac_h48 | ⋯ | H3K4me3_h0 | H3K4me3_h24 | H3K36me3_h48 | H3K36me3_h24 | H3K36me3_h36 | H3K36me3_h72 | H3K36me3_h0 | H3K36me3_h12 | gene_id | eQTL | \n",
       "|---|---|---|---|---|---|\n",
       "| 1 | 6_31132414_G_A                            | ENSG00000204531_POU5F1                    | False                                     | False                                     | False                                     | False                                     | False                                     | False                                     | False                                     | False                                     | ⋯                                         | False                                     | False                                     | True                                      | True                                      | True                                      | True                                      | True                                      | True                                      | ENSG00000204531                           | ENSG00000204531_POU5F1-6_31132414_G_A     | \n",
       "| 2 | 6_32634922_A_G                            | ENSG00000179344_HLA-DQB1                  | False                                     | False                                     | False                                     | False                                     | False                                     | False                                     | False                                     | False                                     | ⋯                                         | False                                     | False                                     | False                                     | False                                     | False                                     | False                                     | False                                     | False                                     | ENSG00000179344                           | ENSG00000179344_HLA-DQB1-6_32634922_A_G   | \n",
       "| 5 | 9_136227260_A_G                           | ENSG00000148291_SURF2                     | False                                     | False                                     | False                                     | False                                     | False                                     | False                                     | False                                     | False                                     | ⋯                                         | False                                     | False                                     | True                                      | True                                      | True                                      | True                                      | True                                      | True                                      | ENSG00000148291                           | ENSG00000148291_SURF2-9_136227260_A_G     | \n",
       "| 8 | 16_31522723_T_C                           | ENSG00000169877_AHSP                      | False                                     | False                                     | False                                     | False                                     | False                                     | False                                     | False                                     | False                                     | ⋯                                         | False                                     | False                                     | False                                     | False                                     | False                                     | False                                     | False                                     | False                                     | ENSG00000169877                           | ENSG00000169877_AHSP-16_31522723_T_C      | \n",
       "| 9 | 12_7945196_G_T                            | ENSG00000176654_NANOGP1                   | False                                     | False                                     | False                                     | False                                     | False                                     | False                                     | False                                     | False                                     | ⋯                                         | False                                     | False                                     | True                                      | True                                      | True                                      | False                                     | True                                      | True                                      | ENSG00000176654                           | ENSG00000176654_NANOGP1-12_7945196_G_T    | \n",
       "| 10 | 10_122218993_G_A                          | ENSG00000203805_PPAPDC1A                  | False                                     | False                                     | False                                     | False                                     | False                                     | False                                     | False                                     | True                                      | ⋯                                         | False                                     | False                                     | False                                     | False                                     | False                                     | False                                     | False                                     | False                                     | ENSG00000203805                           | ENSG00000203805_PPAPDC1A-10_122218993_G_A | \n",
       "\n",
       "\n"
      ],
      "text/plain": [
       "   snp_id           feature                  H3K27me3_h12 H3K27me3_h24\n",
       "1  6_31132414_G_A   ENSG00000204531_POU5F1   False        False       \n",
       "2  6_32634922_A_G   ENSG00000179344_HLA-DQB1 False        False       \n",
       "5  9_136227260_A_G  ENSG00000148291_SURF2    False        False       \n",
       "8  16_31522723_T_C  ENSG00000169877_AHSP     False        False       \n",
       "9  12_7945196_G_T   ENSG00000176654_NANOGP1  False        False       \n",
       "10 10_122218993_G_A ENSG00000203805_PPAPDC1A False        False       \n",
       "   H3K27me3_h48 H3K27me3_h0 H3K27me3_h72 H3K27ac_h12 H3K27ac_h0 H3K27ac_h48 ⋯\n",
       "1  False        False       False        False       False      False       ⋯\n",
       "2  False        False       False        False       False      False       ⋯\n",
       "5  False        False       False        False       False      False       ⋯\n",
       "8  False        False       False        False       False      False       ⋯\n",
       "9  False        False       False        False       False      False       ⋯\n",
       "10 False        False       False        False       False      True        ⋯\n",
       "   H3K4me3_h0 H3K4me3_h24 H3K36me3_h48 H3K36me3_h24 H3K36me3_h36 H3K36me3_h72\n",
       "1  False      False       True         True         True         True        \n",
       "2  False      False       False        False        False        False       \n",
       "5  False      False       True         True         True         True        \n",
       "8  False      False       False        False        False        False       \n",
       "9  False      False       True         True         True         False       \n",
       "10 False      False       False        False        False        False       \n",
       "   H3K36me3_h0 H3K36me3_h12 gene_id        \n",
       "1  True        True         ENSG00000204531\n",
       "2  False       False        ENSG00000179344\n",
       "5  True        True         ENSG00000148291\n",
       "8  False       False        ENSG00000169877\n",
       "9  True        True         ENSG00000176654\n",
       "10 False       False        ENSG00000203805\n",
       "   eQTL                                     \n",
       "1  ENSG00000204531_POU5F1-6_31132414_G_A    \n",
       "2  ENSG00000179344_HLA-DQB1-6_32634922_A_G  \n",
       "5  ENSG00000148291_SURF2-9_136227260_A_G    \n",
       "8  ENSG00000169877_AHSP-16_31522723_T_C     \n",
       "9  ENSG00000176654_NANOGP1-12_7945196_G_T   \n",
       "10 ENSG00000203805_PPAPDC1A-10_122218993_G_A"
      ]
     },
     "metadata": {},
     "output_type": "display_data"
    }
   ],
   "source": [
    "df.histones = eQTL_histones[, colnames(eQTL_histones) %in% c(colnames(eQTL_histones)[grep(\"H3K27ac_h\",colnames(eQTL_histones))],\n",
    "                                                             colnames(eQTL_histones)[grep(\"H3K4me1_h\",colnames(eQTL_histones))],\n",
    "                                                             colnames(eQTL_histones)[grep(\"H3K4me3_h\",colnames(eQTL_histones))],\n",
    "                                                             colnames(eQTL_histones)[grep(\"H3K36me3_h\",colnames(eQTL_histones))],\n",
    "                                                             colnames(eQTL_histones)[grep(\"H3K27me3_h\",colnames(eQTL_histones))],\n",
    "                                                             \"snp_id\",\"feature\")]\n",
    "df.histones$gene_id = gsub(\"*_.*\", \"\", df.histones$feature)\n",
    "df.histones$eQTL = paste0(df.histones$feature,\"-\",df.histones$snp_id)\n",
    "df.histones = df.histones[-which(duplicated(df.histones$eQTL)),]\n",
    "nrow(df.histones)\n",
    "head(df.histones)"
   ]
  },
  {
   "cell_type": "code",
   "execution_count": 95,
   "metadata": {},
   "outputs": [],
   "source": [
    "get_colsums <- function(eqtls.set, hist.mark){\n",
    "    res.all = inner_join(eqtls.set, df.histones, by = c(\"snp_id\",\"gene_id\"))\n",
    "    res = res.all[, grep(hist.mark, colnames(res.all))]\n",
    "    res[res == \"True\"] = 1\n",
    "    res[res == \"False\"] = 0\n",
    "    df = as.data.frame(sapply(res, as.numeric))\n",
    "    colsums = colSums(df)/nrow(df)\n",
    "    colsums[order(names(colsums))]\n",
    "}"
   ]
  },
  {
   "cell_type": "code",
   "execution_count": 96,
   "metadata": {},
   "outputs": [
    {
     "data": {
      "image/png": "[encoded data removed]",
      "text/plain": [
       "Plot with title “”"
      ]
     },
     "metadata": {},
     "output_type": "display_data"
    }
   ],
   "source": [
    "cluster0.ac = get_colsums(cluster0, \"H3K27ac\")\n",
    "cluster1.ac = get_colsums(cluster1, \"H3K27ac\")\n",
    "cluster2.ac = get_colsums(cluster2, \"H3K27ac\")\n",
    "cluster3.ac = get_colsums(cluster3, \"H3K27ac\")\n",
    "\n",
    "options(repr.plot.width = 5, repr.plot.height = 7)\n",
    "h0 <- c(cluster0.ac[1], cluster1.ac[1], cluster2.ac[1], cluster3.ac[1])\n",
    "h24 <- c(cluster0.ac[3], cluster1.ac[3], cluster2.ac[3], cluster3.ac[3])\n",
    "h48 <- c(cluster0.ac[5], cluster1.ac[5], cluster2.ac[5], cluster3.ac[5])\n",
    "h72 <- c(cluster0.ac[6], cluster1.ac[6], cluster2.ac[6], cluster3.ac[6])\n",
    "\n",
    "my.xlim = c(-0.02,0.25)\n",
    "my.space = 4\n",
    "\n",
    "barplot(as.numeric(h0), \n",
    "#         border = \"#344d90\", \n",
    "        col = \"#344d90\",\n",
    "        xlim = my.xlim, ylim = c(0,9), space = my.space, ylab = \"\", \n",
    "        width = 0.5, xlab = \"% eQTLs overlapping H3K27ac\", horiz = TRUE, las = 1)\n",
    "par(new = TRUE)\n",
    "barplot(h24,  \n",
    "#         border = \"\", \n",
    "        col = \"#5cc5ef\",\n",
    "        ylim = c(0.4, 9.4), xlim = my.xlim, ylab = \"\", main = \"\",\n",
    "        width = 0.5, space = my.space, axisnames = FALSE, horiz = TRUE, las = 1)\n",
    "\n",
    "par(new = TRUE)\n",
    "barplot(h48,  \n",
    "#         border = \"\", \n",
    "        col = \"#ffb745\",\n",
    "        ylim = c(0.8, 9.8), xlim = my.xlim, ylab = \"\",\n",
    "        width = 0.5, space = my.space, axisnames = FALSE, horiz = TRUE, las = 1)\n",
    "par(new = TRUE)\n",
    "barplot(h72,  \n",
    "#         border = \"\", \n",
    "        col = \"#e7552c\",\n",
    "        ylim = c(1.2, 10.2), xlim = my.xlim, ylab = \"\",\n",
    "        width = 0.5, space = my.space, axisnames = FALSE, horiz = TRUE, las = 1)\n",
    "text(0.2, 10, \"H3K27ac\", col = \"black\")\n",
    "text(0.2, 9, \"h0\", col = \"#344d90\")\n",
    "text(0.2, 8.6, \"h24\", col = \"#5cc5ef\")\n",
    "text(0.2, 8.2, \"h48\", col = \"#ffb745\")\n",
    "text(0.2, 7.8, \"h72\", col = \"#e7552c\")"
   ]
  },
  {
   "cell_type": "code",
   "execution_count": 97,
   "metadata": {},
   "outputs": [],
   "source": [
    "pseudo.linear.nonsign = get_nonsign(test, \"pseudotime\")\n",
    "pseudo.linear.nonsign$gene_id = pseudo.linear.nonsign$ensembl_gene_id"
   ]
  },
  {
   "cell_type": "code",
   "execution_count": 98,
   "metadata": {},
   "outputs": [
    {
     "data": {
      "image/png": "[encoded data removed]",
      "text/plain": [
       "Plot with title “”"
      ]
     },
     "metadata": {},
     "output_type": "display_data"
    }
   ],
   "source": [
    "cluster0.ac = get_colsums(cluster0, \"H3K4me1\")\n",
    "cluster1.ac = get_colsums(cluster1, \"H3K4me1\")\n",
    "cluster2.ac = get_colsums(cluster2, \"H3K4me1\")\n",
    "cluster3.ac = get_colsums(cluster3, \"H3K4me1\")\n",
    "pseudo.linear.nonsign.ac = get_colsums(pseudo.linear.nonsign, \"H3K4me1\")\n",
    "\n",
    "options(repr.plot.width = 5, repr.plot.height = 7)\n",
    "h0 <- c(cluster0.ac[1], cluster1.ac[1], cluster2.ac[1], cluster3.ac[1])\n",
    "h24 <- c(cluster0.ac[3], cluster1.ac[3], cluster2.ac[3], cluster3.ac[3])\n",
    "h48 <- c(cluster0.ac[5], cluster1.ac[5], cluster2.ac[5], cluster3.ac[5])\n",
    "h72 <- c(cluster0.ac[6], cluster1.ac[6], cluster2.ac[6], cluster3.ac[6])\n",
    "\n",
    "my.xlim = c(0,0.6)\n",
    "my.space = 4\n",
    "\n",
    "barplot(as.numeric(h0), \n",
    "#         border = \"#344d90\", \n",
    "        col = \"#344d90\",\n",
    "        xlim = my.xlim, ylim = c(0,9), space = my.space, ylab = \"\", \n",
    "        width = 0.5, xlab = \"% eQTLs overlapping H3K4me1\", horiz = TRUE, las = 1)\n",
    "par(new = TRUE)\n",
    "barplot(h24,  \n",
    "#         border = \"\", \n",
    "        col = \"#5cc5ef\",\n",
    "        ylim = c(0.4, 9.4), xlim = my.xlim, ylab = \"\", main = \"\",\n",
    "        width = 0.5, space = my.space, axisnames = FALSE, horiz = TRUE, las = 1)\n",
    "\n",
    "par(new = TRUE)\n",
    "barplot(h48,  \n",
    "#         border = \"\", \n",
    "        col = \"#ffb745\",\n",
    "        ylim = c(0.8, 9.8), xlim = my.xlim, ylab = \"\",\n",
    "        width = 0.5, space = my.space, axisnames = FALSE, horiz = TRUE, las = 1)\n",
    "par(new = TRUE)\n",
    "barplot(h72,  \n",
    "#         border = \"\", \n",
    "        col = \"#e7552c\",\n",
    "        ylim = c(1.2, 10.2), xlim = my.xlim, ylab = \"\",\n",
    "        width = 0.5, space = my.space, axisnames = FALSE, horiz = TRUE, las = 1)\n",
    "text(0.5, 10, \"H3K4me1\", col = \"black\")\n",
    "text(0.5, 9, \"h0\", col = \"#344d90\")\n",
    "text(0.5, 8.6, \"h24\", col = \"#5cc5ef\")\n",
    "text(0.5, 8.2, \"h48\", col = \"#ffb745\")\n",
    "text(0.5, 7.8, \"h72\", col = \"#e7552c\")"
   ]
  },
  {
   "cell_type": "code",
   "execution_count": 99,
   "metadata": {},
   "outputs": [
    {
     "data": {},
     "metadata": {},
     "output_type": "display_data"
    },
    {
     "data": {
      "image/png": "[encoded data removed]",
      "text/plain": [
       "plot without title"
      ]
     },
     "metadata": {},
     "output_type": "display_data"
    }
   ],
   "source": [
    "options(repr.plot.width = 1, repr.plot.height = 5)\n",
    "p = ggplot()\n",
    "p = p + geom_rect(mapping = aes(xmin = 0, xmax = 1, ymin = 0, ymax = 5), color = \"grey\", alpha = 0.8, fill = col3)\n",
    "p = p + geom_rect(mapping = aes(xmin = 0, xmax = 1, ymin = 5, ymax = 10), color = \"grey\", alpha = 0.8, fill = col0)\n",
    "p = p + geom_rect(mapping = aes(xmin = 0, xmax = 1, ymin = 10, ymax = 15), color = \"grey\", alpha = 0.8, fill = col2)\n",
    "p = p + geom_rect(mapping = aes(xmin = 0, xmax = 1, ymin = 15, ymax = 20), color = \"grey\", alpha = 0.8, fill = col1)\n",
    "p"
   ]
  },
  {
   "cell_type": "code",
   "execution_count": 100,
   "metadata": {},
   "outputs": [
    {
     "data": {
      "image/png": "[encoded data removed]",
      "text/plain": [
       "Plot with title “”"
      ]
     },
     "metadata": {},
     "output_type": "display_data"
    }
   ],
   "source": [
    "cluster0.ac = get_colsums(cluster0, \"H3K27me3\")\n",
    "cluster1.ac = get_colsums(cluster1, \"H3K27me3\")\n",
    "cluster2.ac = get_colsums(cluster2, \"H3K27me3\")\n",
    "cluster3.ac = get_colsums(cluster3, \"H3K27me3\")\n",
    "pseudo.linear.nonsign.ac = get_colsums(pseudo.linear.nonsign, \"H3K27me3\")\n",
    "\n",
    "options(repr.plot.width = 5, repr.plot.height = 7)\n",
    "non <- c(pseudo.linear.nonsign.ac[1],pseudo.linear.nonsign.ac[3],pseudo.linear.nonsign.ac[5],pseudo.linear.nonsign.ac[6])\n",
    "h0 <- c(cluster0.ac[1], cluster0.ac[3], cluster0.ac[5], cluster0.ac[6])\n",
    "h72 <- c(cluster1.ac[1], cluster1.ac[3], cluster1.ac[5], cluster1.ac[6])\n",
    "h48 <- c(cluster2.ac[1], cluster2.ac[3], cluster2.ac[5], cluster2.ac[6])\n",
    "h24 <- c(cluster3.ac[1], cluster3.ac[3], cluster3.ac[5], cluster3.ac[6])\n",
    "\n",
    "xmax = 0.06\n",
    "xtext = 0.04\n",
    "\n",
    "my.xlim = c(0, xmax)\n",
    "my.space = 4\n",
    "\n",
    "barplot(as.numeric(non), \n",
    "#         border = \"#344d90\", \n",
    "        col = \"grey\",\n",
    "        xlim = my.xlim, ylim = c(0,9), space = my.space, ylab = \"\", \n",
    "        width = 0.5, xlab = \"% eQTLs overlapping H3K27me3\", horiz = TRUE, las = 1)\n",
    "par(new = TRUE)\n",
    "barplot(as.numeric(h0), \n",
    "#         border = \"#344d90\", \n",
    "        col = col0,\n",
    "        xlim = my.xlim, ylim = c(0.4,9.4), space = my.space, ylab = \"\", \n",
    "        width = 0.5, xlab = \"% eQTLs overlapping H3K27me3\", horiz = TRUE, las = 1)\n",
    "par(new = TRUE)\n",
    "barplot(h24,  \n",
    "#         border = \"\", \n",
    "        col = col2,\n",
    "        ylim = c(0.8, 9.8), xlim = my.xlim, ylab = \"\", main = \"\",\n",
    "        width = 0.5, space = my.space, axisnames = FALSE, horiz = TRUE, las = 1)\n",
    "\n",
    "par(new = TRUE)\n",
    "barplot(h48,  \n",
    "#         border = \"\", \n",
    "        col = col3,\n",
    "        ylim = c(1.2, 10.2), xlim = my.xlim, ylab = \"\",\n",
    "        width = 0.5, space = my.space, axisnames = FALSE, horiz = TRUE, las = 1)\n",
    "par(new = TRUE)\n",
    "barplot(h72,  \n",
    "#         border = \"\", \n",
    "        col = col1,\n",
    "        ylim = c(1.6, 10.6), xlim = my.xlim, ylab = \"\",\n",
    "        width = 0.5, space = my.space, axisnames = FALSE, horiz = TRUE, las = 1)\n",
    "text(xtext, 10.7, \"H3K27me3\", col = \"black\")\n",
    "text(xtext, 10, \"background\", col = \"grey\")\n",
    "text(xtext, 9.7, \"cluster A\", col = col0)\n",
    "text(xtext, 9.4, \"cluster B\", col = col2)\n",
    "text(xtext, 9.1, \"cluster C\", col = col3)\n",
    "text(xtext, 8.8, \"cluster D\", col = col1)"
   ]
  },
  {
   "cell_type": "code",
   "execution_count": 101,
   "metadata": {},
   "outputs": [
    {
     "data": {
      "image/png": "[encoded data removed]",
      "text/plain": [
       "Plot with title “”"
      ]
     },
     "metadata": {},
     "output_type": "display_data"
    }
   ],
   "source": [
    "cluster0.ac = get_colsums(cluster0, \"H3K36me3\")\n",
    "cluster1.ac = get_colsums(cluster1, \"H3K36me3\")\n",
    "cluster2.ac = get_colsums(cluster2, \"H3K36me3\")\n",
    "cluster3.ac = get_colsums(cluster3, \"H3K36me3\")\n",
    "pseudo.linear.nonsign.ac = get_colsums(pseudo.linear.nonsign, \"H3K36me3\")\n",
    "\n",
    "options(repr.plot.width = 5, repr.plot.height = 7)\n",
    "non <- c(pseudo.linear.nonsign.ac[1],pseudo.linear.nonsign.ac[3],pseudo.linear.nonsign.ac[5],pseudo.linear.nonsign.ac[6])\n",
    "h0 <- c(cluster0.ac[1], cluster0.ac[3], cluster0.ac[5], cluster0.ac[6])\n",
    "h72 <- c(cluster1.ac[1], cluster1.ac[3], cluster1.ac[5], cluster1.ac[6])\n",
    "h48 <- c(cluster2.ac[1], cluster2.ac[3], cluster2.ac[5], cluster2.ac[6])\n",
    "h24 <- c(cluster3.ac[1], cluster3.ac[3], cluster3.ac[5], cluster3.ac[6])\n",
    "\n",
    "xmax = 0.68\n",
    "xtext = 0.6\n",
    "\n",
    "my.xlim = c(0, xmax)\n",
    "my.space = 4\n",
    "\n",
    "barplot(as.numeric(non), \n",
    "#         border = \"#344d90\", \n",
    "        col = \"grey\",\n",
    "        xlim = my.xlim, ylim = c(0,9), space = my.space, ylab = \"\", \n",
    "        width = 0.5, xlab = \"% eQTLs overlapping H3K36me3\", horiz = TRUE, las = 1)\n",
    "par(new = TRUE)\n",
    "barplot(as.numeric(h0), \n",
    "#         border = \"#344d90\", \n",
    "        col = col0,\n",
    "        xlim = my.xlim, ylim = c(0.4,9.4), space = my.space, ylab = \"\", \n",
    "        width = 0.5, xlab = \"% eQTLs overlapping H3K36me3\", horiz = TRUE, las = 1)\n",
    "par(new = TRUE)\n",
    "barplot(h24,  \n",
    "#         border = \"\", \n",
    "        col = col2,\n",
    "        ylim = c(0.8, 9.8), xlim = my.xlim, ylab = \"\", main = \"\",\n",
    "        width = 0.5, space = my.space, axisnames = FALSE, horiz = TRUE, las = 1)\n",
    "\n",
    "par(new = TRUE)\n",
    "barplot(h48,  \n",
    "#         border = \"\", \n",
    "        col = col3,\n",
    "        ylim = c(1.2, 10.2), xlim = my.xlim, ylab = \"\",\n",
    "        width = 0.5, space = my.space, axisnames = FALSE, horiz = TRUE, las = 1)\n",
    "par(new = TRUE)\n",
    "barplot(h72,  \n",
    "#         border = \"\", \n",
    "        col = col1,\n",
    "        ylim = c(1.6, 10.6), xlim = my.xlim, ylab = \"\",\n",
    "        width = 0.5, space = my.space, axisnames = FALSE, horiz = TRUE, las = 1)\n",
    "text(xtext, 10.7, \"H3K36me3\", col = \"black\")\n",
    "text(xtext, 10, \"background\", col = \"grey\")\n",
    "text(xtext, 9.7, \"cluster A\", col = col0)\n",
    "text(xtext, 9.4, \"cluster B\", col = col2)\n",
    "text(xtext, 9.1, \"cluster C\", col = col3)\n",
    "text(xtext, 8.8, \"cluster D\", col = col1)"
   ]
  },
  {
   "cell_type": "code",
   "execution_count": 102,
   "metadata": {},
   "outputs": [
    {
     "data": {
      "image/png": "[encoded data removed]",
      "text/plain": [
       "Plot with title “”"
      ]
     },
     "metadata": {},
     "output_type": "display_data"
    }
   ],
   "source": [
    "cluster0.ac = get_colsums(cluster0, \"H3K4me3\")\n",
    "cluster1.ac = get_colsums(cluster1, \"H3K4me3\")\n",
    "cluster2.ac = get_colsums(cluster2, \"H3K4me3\")\n",
    "cluster3.ac = get_colsums(cluster3, \"H3K4me3\")\n",
    "pseudo.linear.nonsign.ac = get_colsums(pseudo.linear.nonsign, \"H3K4me3\")\n",
    "\n",
    "options(repr.plot.width = 5, repr.plot.height = 7)\n",
    "non <- c(pseudo.linear.nonsign.ac[1],pseudo.linear.nonsign.ac[3],pseudo.linear.nonsign.ac[5],pseudo.linear.nonsign.ac[6])\n",
    "h0 <- c(cluster0.ac[1], cluster0.ac[3], cluster0.ac[5], cluster0.ac[6])\n",
    "h72 <- c(cluster1.ac[1], cluster1.ac[3], cluster1.ac[5], cluster1.ac[6])\n",
    "h48 <- c(cluster2.ac[1], cluster2.ac[3], cluster2.ac[5], cluster2.ac[6])\n",
    "h24 <- c(cluster3.ac[1], cluster3.ac[3], cluster3.ac[5], cluster3.ac[6])\n",
    "\n",
    "xmax = 0.28\n",
    "xtext = 0.23\n",
    "\n",
    "my.xlim = c(0, xmax)\n",
    "my.space = 4\n",
    "\n",
    "barplot(as.numeric(non), \n",
    "#         border = \"#344d90\", \n",
    "        col = \"grey\",\n",
    "        xlim = my.xlim, ylim = c(0,9), space = my.space, ylab = \"\", \n",
    "        width = 0.5, xlab = \"% eQTLs overlapping H3K4me3\", horiz = TRUE, las = 1)\n",
    "par(new = TRUE)\n",
    "barplot(as.numeric(h0), \n",
    "#         border = \"#344d90\", \n",
    "        col = col0,\n",
    "        xlim = my.xlim, ylim = c(0.4,9.4), space = my.space, ylab = \"\", \n",
    "        width = 0.5, xlab = \"% eQTLs overlapping H3K4me3\", horiz = TRUE, las = 1)\n",
    "par(new = TRUE)\n",
    "barplot(h24,  \n",
    "#         border = \"\", \n",
    "        col = col2,\n",
    "        ylim = c(0.8, 9.8), xlim = my.xlim, ylab = \"\", main = \"\",\n",
    "        width = 0.5, space = my.space, axisnames = FALSE, horiz = TRUE, las = 1)\n",
    "\n",
    "par(new = TRUE)\n",
    "barplot(h48,  \n",
    "#         border = \"\", \n",
    "        col = col3,\n",
    "        ylim = c(1.2, 10.2), xlim = my.xlim, ylab = \"\",\n",
    "        width = 0.5, space = my.space, axisnames = FALSE, horiz = TRUE, las = 1)\n",
    "par(new = TRUE)\n",
    "barplot(h72,  \n",
    "#         border = \"\", \n",
    "        col = col1,\n",
    "        ylim = c(1.6, 10.6), xlim = my.xlim, ylab = \"\",\n",
    "        width = 0.5, space = my.space, axisnames = FALSE, horiz = TRUE, las = 1)\n",
    "text(xtext, 10.7, \"H3K4me3\", col = \"black\")\n",
    "text(xtext, 10, \"background\", col = \"grey\")\n",
    "text(xtext, 9.7, \"cluster A\", col = col0)\n",
    "text(xtext, 9.4, \"cluster B\", col = col2)\n",
    "text(xtext, 9.1, \"cluster C\", col = col3)\n",
    "text(xtext, 8.8, \"cluster D\", col = col1)"
   ]
  },
  {
   "cell_type": "code",
   "execution_count": 103,
   "metadata": {},
   "outputs": [
    {
     "data": {
      "image/png": "[encoded data removed]",
      "text/plain": [
       "Plot with title “”"
      ]
     },
     "metadata": {},
     "output_type": "display_data"
    }
   ],
   "source": [
    "cluster0.ac = get_colsums(cluster0, \"H3K4me1\")\n",
    "cluster1.ac = get_colsums(cluster1, \"H3K4me1\")\n",
    "cluster2.ac = get_colsums(cluster2, \"H3K4me1\")\n",
    "cluster3.ac = get_colsums(cluster3, \"H3K4me1\")\n",
    "pseudo.linear.nonsign.ac = get_colsums(pseudo.linear.nonsign, \"H3K4me1\")\n",
    "\n",
    "options(repr.plot.width = 5, repr.plot.height = 7)\n",
    "non <- c(pseudo.linear.nonsign.ac[1],pseudo.linear.nonsign.ac[3],pseudo.linear.nonsign.ac[5],pseudo.linear.nonsign.ac[6])\n",
    "h0 <- c(cluster0.ac[1], cluster0.ac[3], cluster0.ac[5], cluster0.ac[6])\n",
    "h72 <- c(cluster1.ac[1], cluster1.ac[3], cluster1.ac[5], cluster1.ac[6])\n",
    "h48 <- c(cluster2.ac[1], cluster2.ac[3], cluster2.ac[5], cluster2.ac[6])\n",
    "h24 <- c(cluster3.ac[1], cluster3.ac[3], cluster3.ac[5], cluster3.ac[6])\n",
    "\n",
    "xmax = 0.68\n",
    "xtext = 0.58\n",
    "\n",
    "my.xlim = c(0, xmax)\n",
    "my.space = 4\n",
    "\n",
    "barplot(as.numeric(non), \n",
    "#         border = \"#344d90\", \n",
    "        col = \"grey\",\n",
    "        xlim = my.xlim, ylim = c(0,9), space = my.space, ylab = \"\", \n",
    "        width = 0.5, xlab = \"% eQTLs overlapping H3K4me1\", horiz = TRUE, las = 1)\n",
    "par(new = TRUE)\n",
    "barplot(as.numeric(h0), \n",
    "#         border = \"#344d90\", \n",
    "        col = col0,\n",
    "        xlim = my.xlim, ylim = c(0.4,9.4), space = my.space, ylab = \"\", \n",
    "        width = 0.5, xlab = \"% eQTLs overlapping H3K4me1\", horiz = TRUE, las = 1)\n",
    "par(new = TRUE)\n",
    "barplot(h24,  \n",
    "#         border = \"\", \n",
    "        col = col2,\n",
    "        ylim = c(0.8, 9.8), xlim = my.xlim, ylab = \"\", main = \"\",\n",
    "        width = 0.5, space = my.space, axisnames = FALSE, horiz = TRUE, las = 1)\n",
    "\n",
    "par(new = TRUE)\n",
    "barplot(h48,  \n",
    "#         border = \"\", \n",
    "        col = col3,\n",
    "        ylim = c(1.2, 10.2), xlim = my.xlim, ylab = \"\",\n",
    "        width = 0.5, space = my.space, axisnames = FALSE, horiz = TRUE, las = 1)\n",
    "par(new = TRUE)\n",
    "barplot(h72,  \n",
    "#         border = \"\", \n",
    "        col = col1,\n",
    "        ylim = c(1.6, 10.6), xlim = my.xlim, ylab = \"\",\n",
    "        width = 0.5, space = my.space, axisnames = FALSE, horiz = TRUE, las = 1)\n",
    "text(xtext, 10.7, \"H3K4me1\", col = \"black\")\n",
    "text(xtext, 10, \"background\", col = \"grey\")\n",
    "text(xtext, 9.7, \"cluster A\", col = col0)\n",
    "text(xtext, 9.4, \"cluster B\", col = col2)\n",
    "text(xtext, 9.1, \"cluster C\", col = col3)\n",
    "text(xtext, 8.8, \"cluster D\", col = col1)"
   ]
  },
  {
   "cell_type": "code",
   "execution_count": 26,
   "metadata": {},
   "outputs": [
    {
     "ename": "ERROR",
     "evalue": "Error in inner_join(eqtls.set, df.histones, by = c(\"snp_id\", \"gene_id\")): object 'pseudo.linear.nonsign' not found\n",
     "output_type": "error",
     "traceback": [
      "Error in inner_join(eqtls.set, df.histones, by = c(\"snp_id\", \"gene_id\")): object 'pseudo.linear.nonsign' not found\nTraceback:\n",
      "1. get_colsums(pseudo.linear.nonsign, \"H3K27ac\")",
      "2. inner_join(eqtls.set, df.histones, by = c(\"snp_id\", \"gene_id\"))   # at line 2 of file <text>"
     ]
    }
   ],
   "source": [
    "cluster0.ac = get_colsums(cluster0, \"H3K27ac\")\n",
    "cluster1.ac = get_colsums(cluster1, \"H3K27ac\")\n",
    "cluster2.ac = get_colsums(cluster2, \"H3K27ac\")\n",
    "cluster3.ac = get_colsums(cluster3, \"H3K27ac\")\n",
    "pseudo.linear.nonsign.ac = get_colsums(pseudo.linear.nonsign, \"H3K27ac\")\n",
    "\n",
    "options(repr.plot.width = 5, repr.plot.height = 7)\n",
    "non <- c(pseudo.linear.nonsign.ac[1],pseudo.linear.nonsign.ac[3],pseudo.linear.nonsign.ac[5],pseudo.linear.nonsign.ac[6])\n",
    "h0 <- c(cluster0.ac[1], cluster0.ac[3], cluster0.ac[5], cluster0.ac[6])\n",
    "h72 <- c(cluster1.ac[1], cluster1.ac[3], cluster1.ac[5], cluster1.ac[6])\n",
    "h48 <- c(cluster2.ac[1], cluster2.ac[3], cluster2.ac[5], cluster2.ac[6])\n",
    "h24 <- c(cluster3.ac[1], cluster3.ac[3], cluster3.ac[5], cluster3.ac[6])\n",
    "\n",
    "xmax = 0.3\n",
    "xtext = 0.25\n",
    "\n",
    "my.xlim = c(0, xmax)\n",
    "my.space = 4\n",
    "\n",
    "barplot(as.numeric(non), \n",
    "#         border = \"lightgrey\", \n",
    "        col = \"grey\",\n",
    "        xlim = my.xlim, ylim = c(0,9), space = my.space, ylab = \"\", \n",
    "        width = 0.5, xlab = \"% eQTLs overlapping H3K27ac\", horiz = TRUE, las = 1)\n",
    "par(new = TRUE)\n",
    "barplot(as.numeric(h0), \n",
    "#         border = \"#344d90\", \n",
    "        col = col0,\n",
    "        xlim = my.xlim, ylim = c(0.4,9.4), space = my.space, ylab = \"\", \n",
    "        width = 0.5, xlab = \"% eQTLs overlapping H3K27ac\", horiz = TRUE, las = 1)\n",
    "par(new = TRUE)\n",
    "barplot(h24,  \n",
    "#         border = \"\", \n",
    "        col = col2,\n",
    "        ylim = c(0.8, 9.8), xlim = my.xlim, ylab = \"\", main = \"\",\n",
    "        width = 0.5, space = my.space, axisnames = FALSE, horiz = TRUE, las = 1)\n",
    "\n",
    "par(new = TRUE)\n",
    "barplot(h48,  \n",
    "#         border = \"\", \n",
    "        col = col3,\n",
    "        ylim = c(1.2, 10.2), xlim = my.xlim, ylab = \"\",\n",
    "        width = 0.5, space = my.space, axisnames = FALSE, horiz = TRUE, las = 1)\n",
    "par(new = TRUE)\n",
    "barplot(h72,  \n",
    "#         border = \"\", \n",
    "        col = col1,\n",
    "        ylim = c(1.6, 10.6), xlim = my.xlim, ylab = \"\",\n",
    "        width = 0.5, space = my.space, axisnames = FALSE, horiz = TRUE, las = 1)\n",
    "\n",
    "text(xtext, 10.5, \"H3K27ac\", col = \"black\")\n",
    "text(xtext, 9.4, \"background\", col = \"grey\")\n",
    "text(xtext, 9, \"cluster A\", col = col0)\n",
    "text(xtext, 8.6, \"cluster B\", col = col2)\n",
    "text(xtext, 8.2, \"cluster C\", col = col3)\n",
    "text(xtext, 7.8, \"cluster D\", col = col1)"
   ]
  },
  {
   "cell_type": "code",
   "execution_count": 27,
   "metadata": {},
   "outputs": [
    {
     "data": {
      "image/png": "[encoded data removed]",
      "text/plain": [
       "Plot with title “”"
      ]
     },
     "metadata": {},
     "output_type": "display_data"
    }
   ],
   "source": [
    "cluster0.ac = get_colsums(cluster0, \"H3K27ac\")\n",
    "cluster1.ac = get_colsums(cluster1, \"H3K27ac\")\n",
    "cluster2.ac = get_colsums(cluster2, \"H3K27ac\")\n",
    "cluster3.ac = get_colsums(cluster3, \"H3K27ac\")\n",
    "\n",
    "options(repr.plot.width = 5, repr.plot.height = 7)\n",
    "h0 <- c(cluster0.ac[1], cluster0.ac[3], cluster0.ac[5], cluster0.ac[6])\n",
    "h24 <- c(cluster1.ac[1], cluster1.ac[3], cluster1.ac[5], cluster1.ac[6])\n",
    "h48 <- c(cluster2.ac[1], cluster2.ac[3], cluster2.ac[5], cluster2.ac[6])\n",
    "h72 <- c(cluster3.ac[1], cluster3.ac[3], cluster3.ac[5], cluster3.ac[6])\n",
    "\n",
    "my.xlim = c(0,0.3)\n",
    "my.space = 4\n",
    "\n",
    "barplot(as.numeric(h0), \n",
    "#         border = \"#344d90\", \n",
    "        col = col0,\n",
    "        xlim = my.xlim, ylim = c(0,9), space = my.space, ylab = \"\", \n",
    "        width = 0.5, xlab = \"fraction of eQTLs overlapping H3K27ac\", horiz = TRUE, las = 1)\n",
    "par(new = TRUE)\n",
    "barplot(h24,  \n",
    "#         border = \"\", \n",
    "        col = col1,\n",
    "        ylim = c(0.4, 9.4), xlim = my.xlim, ylab = \"\", main = \"\",\n",
    "        width = 0.5, space = my.space, axisnames = FALSE, horiz = TRUE, las = 1)\n",
    "\n",
    "par(new = TRUE)\n",
    "barplot(h48,  \n",
    "#         border = \"\", \n",
    "        col = col2,\n",
    "        ylim = c(0.8, 9.8), xlim = my.xlim, ylab = \"\",\n",
    "        width = 0.5, space = my.space, axisnames = FALSE, horiz = TRUE, las = 1)\n",
    "par(new = TRUE)\n",
    "barplot(h72,  \n",
    "#         border = \"\", \n",
    "        col = col3,\n",
    "        ylim = c(1.2, 10.2), xlim = my.xlim, ylab = \"\",\n",
    "        width = 0.5, space = my.space, axisnames = FALSE, horiz = TRUE, las = 1)\n",
    "text(0.25, 10, \"H3K27ac\", col = \"black\")\n",
    "# text(0.5, 9, \"h0\", col = \"#344d90\")\n",
    "# text(0.5, 8.6, \"h24\", col = \"#5cc5ef\")\n",
    "# text(0.5, 8.2, \"h48\", col = \"#ffb745\")\n",
    "# text(0.5, 7.8, \"h72\", col = \"#e7552c\")\n",
    "text(0.25, 9, \"cluster0\", col = col0)\n",
    "text(0.25, 8.6, \"cluster1\", col = col1)\n",
    "text(0.25, 8.2, \"cluster2\", col = col2)\n",
    "text(0.25, 7.8, \"cluster3\", col = col3)"
   ]
  },
  {
   "cell_type": "code",
   "execution_count": 28,
   "metadata": {},
   "outputs": [
    {
     "data": {},
     "metadata": {},
     "output_type": "display_data"
    },
    {
     "data": {
      "image/png": "[encoded data removed]",
      "text/plain": [
       "plot without title"
      ]
     },
     "metadata": {},
     "output_type": "display_data"
    }
   ],
   "source": [
    "options(repr.plot.width = 1, repr.plot.height = 5)\n",
    "col_day0 = \"#344d90\"\n",
    "col_day1 = \"#5cc5ef\"\n",
    "col_day2 = \"#ffb745\"\n",
    "col_day3 = \"#e7552c\"\n",
    "p = ggplot()\n",
    "p = p + geom_rect(mapping = aes(xmin = 0, xmax = 1, ymin = 0, ymax = 5), color = \"grey\", alpha = 0.8, fill = col_day0)\n",
    "p = p + geom_rect(mapping = aes(xmin = 0, xmax = 1, ymin = 5, ymax = 10), color = \"grey\", alpha = 0.8, fill = col_day1)\n",
    "p = p + geom_rect(mapping = aes(xmin = 0, xmax = 1, ymin = 10, ymax = 15), color = \"grey\", alpha = 0.8, fill = col_day2)\n",
    "p = p + geom_rect(mapping = aes(xmin = 0, xmax = 1, ymin = 15, ymax = 20), color = \"grey\", alpha = 0.8, fill = col_day3)\n",
    "p"
   ]
  },
  {
   "cell_type": "code",
   "execution_count": null,
   "metadata": {},
   "outputs": [],
   "source": []
  },
  {
   "cell_type": "code",
   "execution_count": null,
   "metadata": {},
   "outputs": [],
   "source": [
    "# rect(0, 15, 2, 20, col = col0, border = \"white\")\n",
    "# rect(0, 10, 2, 15, col = col1, border = \"white\")\n",
    "# rect(0, 5, 2, 10, col = col2, border = \"white\")\n",
    "# rect(0, 0, 2, 5, col = col3, border = \"white\")"
   ]
  },
  {
   "cell_type": "code",
   "execution_count": 29,
   "metadata": {},
   "outputs": [
    {
     "data": {
      "image/png": "[encoded data removed]",
      "text/plain": [
       "Plot with title “H3K27ac”"
      ]
     },
     "metadata": {},
     "output_type": "display_data"
    }
   ],
   "source": [
    "cluster0.ac = get_colsums(cluster0, \"H3K27ac\")\n",
    "cluster1.ac = get_colsums(cluster1, \"H3K27ac\")\n",
    "cluster2.ac = get_colsums(cluster2, \"H3K27ac\")\n",
    "cluster3.ac = get_colsums(cluster3, \"H3K27ac\")\n",
    "\n",
    "options(repr.plot.width = 5, repr.plot.height = 7)\n",
    "h0 <- c(cluster0.ac[1], cluster1.ac[1], cluster2.ac[1], cluster3.ac[1])\n",
    "h12 <- c(cluster0.ac[2], cluster1.ac[2], cluster2.ac[2], cluster3.ac[2])\n",
    "h24 <- c(cluster0.ac[3], cluster1.ac[3], cluster2.ac[3], cluster3.ac[3])\n",
    "h36 <- c(cluster0.ac[4], cluster1.ac[4], cluster2.ac[4], cluster3.ac[4])\n",
    "h48 <- c(cluster0.ac[5], cluster1.ac[5], cluster2.ac[5], cluster3.ac[5])\n",
    "h72 <- c(cluster0.ac[6], cluster1.ac[6], cluster2.ac[6], cluster3.ac[6])\n",
    "\n",
    "my.xlim = c(0,0.2)\n",
    "my.space = 4\n",
    "\n",
    "barplot(as.numeric(h0), \n",
    "#         border = \"#344d90\", \n",
    "        col = \"#344d90\",\n",
    "        xlim = my.xlim, ylim = c(0,9), space = my.space, ylab = \"\", \n",
    "        width = 0.5, xlab = \"% eQTLs overlapping H3K27ac\", horiz = TRUE, las = 1)\n",
    "par(new = TRUE)\n",
    "barplot(h12,  \n",
    "#         border = \"\", \n",
    "        col = \"dodgerblue\",\n",
    "        ylim = c(0.3, 9.3), xlim = my.xlim, ylab = \"\", \n",
    "        width = 0.5, space = my.space, axisnames = FALSE, horiz = TRUE, las = 1)\n",
    "par(new = TRUE)\n",
    "barplot(h24,  \n",
    "#         border = \"\", \n",
    "        col = \"#5cc5ef\",\n",
    "        ylim = c(0.6, 9.6), xlim = my.xlim, ylab = \"\", main = \"H3K27ac\",\n",
    "        width = 0.5, space = my.space, axisnames = FALSE, horiz = TRUE, las = 1)\n",
    "par(new = TRUE)\n",
    "barplot(h36,  \n",
    "#         border = \"\", \n",
    "        col = \"darkseagreen1\",\n",
    "        ylim = c(0.9, 9.9), xlim = my.xlim, ylab = \"\",\n",
    "        width = 0.5, space = my.space, axisnames = FALSE, horiz = TRUE, las = 1)\n",
    "par(new = TRUE)\n",
    "barplot(h48,  \n",
    "#         border = \"\", \n",
    "        col = \"#ffb745\",\n",
    "        ylim = c(1.2, 10.2), xlim = my.xlim, ylab = \"\",\n",
    "        width = 0.5, space = my.space, axisnames = FALSE, horiz = TRUE, las = 1)\n",
    "par(new = TRUE)\n",
    "barplot(h72,  \n",
    "#         border = \"\", \n",
    "        col = \"#e7552c\",\n",
    "        ylim = c(1.5, 10.5), xlim = my.xlim, ylab = \"\",\n",
    "        width = 0.5, space = my.space, axisnames = FALSE, horiz = TRUE, las = 1)\n",
    "text(0.15, 10.7, \"h0\", col = \"#344d90\")\n",
    "text(0.15, 10.4, \"h12\", col = \"dodgerblue\")\n",
    "text(0.15, 10.1, \"h24\", col = \"#5cc5ef\")\n",
    "text(0.15, 9.8, \"h36\", col = \"darkseagreen1\")\n",
    "text(0.15, 9.5, \"h48\", col = \"#ffb745\")\n",
    "text(0.15, 9.2, \"h72\", col = \"#e7552c\")"
   ]
  },
  {
   "cell_type": "code",
   "execution_count": null,
   "metadata": {},
   "outputs": [],
   "source": []
  },
  {
   "cell_type": "code",
   "execution_count": null,
   "metadata": {},
   "outputs": [],
   "source": []
  },
  {
   "cell_type": "code",
   "execution_count": null,
   "metadata": {},
   "outputs": [],
   "source": []
  },
  {
   "cell_type": "code",
   "execution_count": 30,
   "metadata": {},
   "outputs": [],
   "source": [
    "get_sign <- function(test, myfact){\n",
    "    res = test\n",
    "    res = res[res$n_cells > 500,]\n",
    "    res = res[!(is.na(res$pval)),]\n",
    "    res$corr_pval = p.adjust(res$pval, method = \"BH\")\n",
    "    res[res$corr_pval < 0.1 & res$factor == myfact,]\n",
    "} "
   ]
  },
  {
   "cell_type": "code",
   "execution_count": 31,
   "metadata": {},
   "outputs": [],
   "source": [
    "get_nonsign <- function(test, myfact){\n",
    "    res = test\n",
    "    res = res[res$n_cells > 500,]\n",
    "    res = res[!(is.na(res$pval)),]\n",
    "    res$corr_pval = p.adjust(res$pval, method = \"BH\")\n",
    "    res[res$corr_pval > 0.1 & res$factor == myfact,]\n",
    "} "
   ]
  },
  {
   "cell_type": "code",
   "execution_count": 32,
   "metadata": {},
   "outputs": [],
   "source": [
    "pseudo.linear.sign = get_sign(test, \"pseudotime\")\n",
    "pseudo.linear.nonsign = get_nonsign(test, \"pseudotime\")\n",
    "pseudo.quadratic.sign = get_sign(quadratic, \"pseudotime\")"
   ]
  },
  {
   "cell_type": "code",
   "execution_count": 33,
   "metadata": {},
   "outputs": [
    {
     "data": {
      "text/html": [
       "<table>\n",
       "<thead><tr><th scope=col>chromosome_name</th><th scope=col>start_position</th><th scope=col>end_position</th><th scope=col>ensembl_gene_id</th><th scope=col>gene_biotype</th><th scope=col>strand</th></tr></thead>\n",
       "<tbody>\n",
       "\t<tr><td>1              </td><td>11868          </td><td>14412          </td><td>ENSG00000223972</td><td>pseudogene     </td><td>+              </td></tr>\n",
       "\t<tr><td>1              </td><td>14362          </td><td>29806          </td><td>ENSG00000227232</td><td>pseudogene     </td><td>-              </td></tr>\n",
       "\t<tr><td>1              </td><td>29553          </td><td>31109          </td><td>ENSG00000243485</td><td>lincRNA        </td><td>+              </td></tr>\n",
       "\t<tr><td>1              </td><td>34553          </td><td>36081          </td><td>ENSG00000237613</td><td>lincRNA        </td><td>-              </td></tr>\n",
       "\t<tr><td>1              </td><td>52472          </td><td>54936          </td><td>ENSG00000268020</td><td>pseudogene     </td><td>+              </td></tr>\n",
       "\t<tr><td>1              </td><td>62947          </td><td>63887          </td><td>ENSG00000240361</td><td>pseudogene     </td><td>+              </td></tr>\n",
       "</tbody>\n",
       "</table>\n"
      ],
      "text/latex": [
       "\\begin{tabular}{r|llllll}\n",
       " chromosome\\_name & start\\_position & end\\_position & ensembl\\_gene\\_id & gene\\_biotype & strand\\\\\n",
       "\\hline\n",
       "\t 1               & 11868           & 14412           & ENSG00000223972 & pseudogene      & +              \\\\\n",
       "\t 1               & 14362           & 29806           & ENSG00000227232 & pseudogene      & -              \\\\\n",
       "\t 1               & 29553           & 31109           & ENSG00000243485 & lincRNA         & +              \\\\\n",
       "\t 1               & 34553           & 36081           & ENSG00000237613 & lincRNA         & -              \\\\\n",
       "\t 1               & 52472           & 54936           & ENSG00000268020 & pseudogene      & +              \\\\\n",
       "\t 1               & 62947           & 63887           & ENSG00000240361 & pseudogene      & +              \\\\\n",
       "\\end{tabular}\n"
      ],
      "text/markdown": [
       "\n",
       "chromosome_name | start_position | end_position | ensembl_gene_id | gene_biotype | strand | \n",
       "|---|---|---|---|---|---|\n",
       "| 1               | 11868           | 14412           | ENSG00000223972 | pseudogene      | +               | \n",
       "| 1               | 14362           | 29806           | ENSG00000227232 | pseudogene      | -               | \n",
       "| 1               | 29553           | 31109           | ENSG00000243485 | lincRNA         | +               | \n",
       "| 1               | 34553           | 36081           | ENSG00000237613 | lincRNA         | -               | \n",
       "| 1               | 52472           | 54936           | ENSG00000268020 | pseudogene      | +               | \n",
       "| 1               | 62947           | 63887           | ENSG00000240361 | pseudogene      | +               | \n",
       "\n",
       "\n"
      ],
      "text/plain": [
       "  chromosome_name start_position end_position ensembl_gene_id gene_biotype\n",
       "1 1               11868          14412        ENSG00000223972 pseudogene  \n",
       "2 1               14362          29806        ENSG00000227232 pseudogene  \n",
       "3 1               29553          31109        ENSG00000243485 lincRNA     \n",
       "4 1               34553          36081        ENSG00000237613 lincRNA     \n",
       "5 1               52472          54936        ENSG00000268020 pseudogene  \n",
       "6 1               62947          63887        ENSG00000240361 pseudogene  \n",
       "  strand\n",
       "1 +     \n",
       "2 -     \n",
       "3 +     \n",
       "4 -     \n",
       "5 +     \n",
       "6 +     "
      ]
     },
     "metadata": {},
     "output_type": "display_data"
    }
   ],
   "source": [
    "gene_info_filename = \"/nfs/leia/research/stegle/dseaton/genomes/hg19/annotation/Homo_sapiens.GRCh37.75.genes.bed\"\n",
    "gene_info = read.table(gene_info_filename)\n",
    "colnames(gene_info) = c(\"chromosome_name\",\"start_position\",\"end_position\",\"ensembl_gene_id\",\"gene_biotype\",\"strand\")\n",
    "head(gene_info)"
   ]
  },
  {
   "cell_type": "code",
   "execution_count": 34,
   "metadata": {},
   "outputs": [],
   "source": [
    "add_TSS_dist <- function(test){\n",
    "    res = inner_join(test, gene_info, by = \"ensembl_gene_id\")  \n",
    "    snp_info = as_data_frame(do.call(\"rbind\", lapply(strsplit(res$snp_id, \"_\"), function(x) t(as.data.frame(x)))))\n",
    "    colnames(snp_info) = c(\"chrom\",\"pos\",\"ref_allele\",\"alt_allele\")\n",
    "    res = cbind(res,snp_info)\n",
    "    res$pos = as.numeric(res$pos)                                       \n",
    "    res[res$strand == \"+\",\"TSS\"] = res[res$strand == \"+\",\"start_position\"]\n",
    "    res[res$strand == \"-\",\"TSS\"] = res[res$strand == \"-\",\"end_position\"]\n",
    "    res[res$strand == \"+\",\"dist\"] = res[res$strand == \"+\",\"pos\"] - res[res$strand == \"+\",\"TSS\"]\n",
    "    res[res$strand == \"-\",\"dist\"] = - res[res$strand == \"-\",\"pos\"] + res[res$strand == \"-\",\"TSS\"]\n",
    "    res\n",
    "}"
   ]
  },
  {
   "cell_type": "code",
   "execution_count": 35,
   "metadata": {},
   "outputs": [
    {
     "data": {
      "text/html": [
       "<table>\n",
       "<thead><tr><th scope=col>ensembl_gene_id</th><th scope=col>snp_id</th><th scope=col>coef</th><th scope=col>pval</th><th scope=col>n_cells</th><th scope=col>index</th><th scope=col>mean_ase</th><th scope=col>factor</th><th scope=col>corr_pval</th><th scope=col>chromosome_name</th><th scope=col>start_position</th><th scope=col>end_position</th><th scope=col>gene_biotype</th><th scope=col>strand</th><th scope=col>chrom</th><th scope=col>pos</th><th scope=col>ref_allele</th><th scope=col>alt_allele</th><th scope=col>TSS</th><th scope=col>dist</th></tr></thead>\n",
       "<tbody>\n",
       "\t<tr><td>ENSG00000083642                       </td><td>13_33177572_T_G                       </td><td> 0.03132758                           </td><td>0.01366340                            </td><td>12859                                 </td><td>('ENSG00000083642', '13_33177572_T_G')</td><td>0.3951996                             </td><td>pseudotime                            </td><td>0.1003585                             </td><td>13                                    </td><td> 33160563                             </td><td> 33352157                             </td><td>protein_coding                        </td><td>+                                     </td><td>13                                    </td><td> 33177572                             </td><td>T                                     </td><td>G                                     </td><td> 33160563                             </td><td> 17009                                </td></tr>\n",
       "\t<tr><td>ENSG00000104472                       </td><td>8_141501019_G_A                       </td><td>-0.04608461                           </td><td>0.01368507                            </td><td> 6215                                 </td><td>('ENSG00000104472', '8_141501019_G_A')</td><td>0.4510236                             </td><td>pseudotime                            </td><td>0.1004756                             </td><td>8                                     </td><td>141521396                             </td><td>141527236                             </td><td>protein_coding                        </td><td>+                                     </td><td>8                                     </td><td>141501019                             </td><td>G                                     </td><td>A                                     </td><td>141521396                             </td><td>-20377                                </td></tr>\n",
       "\t<tr><td>ENSG00000204237                       </td><td>17_79614134_T_C                       </td><td> 0.07303150                           </td><td>0.01370126                            </td><td> 2322                                 </td><td>('ENSG00000204237', '17_79614134_T_C')</td><td>0.4429899                             </td><td>pseudotime                            </td><td>0.1005024                             </td><td>17                                    </td><td> 79632065                             </td><td> 79633665                             </td><td>protein_coding                        </td><td>-                                     </td><td>17                                    </td><td> 79614134                             </td><td>T                                     </td><td>C                                     </td><td> 79633665                             </td><td> 19531                                </td></tr>\n",
       "\t<tr><td>ENSG00000177683                       </td><td>7_108179726_G_C                       </td><td> 0.02955157                           </td><td>0.01372560                            </td><td>10746                                 </td><td>('ENSG00000177683', '7_108179726_G_C')</td><td>0.2098717                             </td><td>pseudotime                            </td><td>0.1005024                             </td><td>7                                     </td><td>108194986                             </td><td>108210194                             </td><td>protein_coding                        </td><td>-                                     </td><td>7                                     </td><td>108179726                             </td><td>G                                     </td><td>C                                     </td><td>108210194                             </td><td> 30468                                </td></tr>\n",
       "\t<tr><td>ENSG00000143198                       </td><td>1_165599649_C_T                       </td><td> 0.03916195                           </td><td>0.01372846                            </td><td> 6944                                 </td><td>('ENSG00000143198', '1_165599649_C_T')</td><td>0.5145417                             </td><td>pseudotime                            </td><td>0.1005024                             </td><td>1                                     </td><td>165600097                             </td><td>165631033                             </td><td>protein_coding                        </td><td>+                                     </td><td>1                                     </td><td>165599649                             </td><td>C                                     </td><td>T                                     </td><td>165600097                             </td><td>  -448                                </td></tr>\n",
       "\t<tr><td>ENSG00000180185                       </td><td>16_1906352_G_A                        </td><td> 0.03150856                           </td><td>0.01372883                            </td><td>11884                                 </td><td>('ENSG00000180185', '16_1906352_G_A') </td><td>0.4144667                             </td><td>pseudotime                            </td><td>0.1005024                             </td><td>16                                    </td><td>  1876967                             </td><td>  1890208                             </td><td>protein_coding                        </td><td>+                                     </td><td>16                                    </td><td>  1906352                             </td><td>G                                     </td><td>A                                     </td><td>  1876967                             </td><td> 29385                                </td></tr>\n",
       "</tbody>\n",
       "</table>\n"
      ],
      "text/latex": [
       "\\begin{tabular}{r|llllllllllllllllllll}\n",
       " ensembl\\_gene\\_id & snp\\_id & coef & pval & n\\_cells & index & mean\\_ase & factor & corr\\_pval & chromosome\\_name & start\\_position & end\\_position & gene\\_biotype & strand & chrom & pos & ref\\_allele & alt\\_allele & TSS & dist\\\\\n",
       "\\hline\n",
       "\t ENSG00000083642                              & 13\\_33177572\\_T\\_G                        &  0.03132758                                  & 0.01366340                                   & 12859                                        & ('ENSG00000083642', '13\\_33177572\\_T\\_G') & 0.3951996                                    & pseudotime                                   & 0.1003585                                    & 13                                           &  33160563                                    &  33352157                                    & protein\\_coding                             & +                                            & 13                                           &  33177572                                    & T                                            & G                                            &  33160563                                    &  17009                                      \\\\\n",
       "\t ENSG00000104472                              & 8\\_141501019\\_G\\_A                        & -0.04608461                                  & 0.01368507                                   &  6215                                        & ('ENSG00000104472', '8\\_141501019\\_G\\_A') & 0.4510236                                    & pseudotime                                   & 0.1004756                                    & 8                                            & 141521396                                    & 141527236                                    & protein\\_coding                             & +                                            & 8                                            & 141501019                                    & G                                            & A                                            & 141521396                                    & -20377                                      \\\\\n",
       "\t ENSG00000204237                              & 17\\_79614134\\_T\\_C                        &  0.07303150                                  & 0.01370126                                   &  2322                                        & ('ENSG00000204237', '17\\_79614134\\_T\\_C') & 0.4429899                                    & pseudotime                                   & 0.1005024                                    & 17                                           &  79632065                                    &  79633665                                    & protein\\_coding                             & -                                            & 17                                           &  79614134                                    & T                                            & C                                            &  79633665                                    &  19531                                      \\\\\n",
       "\t ENSG00000177683                              & 7\\_108179726\\_G\\_C                        &  0.02955157                                  & 0.01372560                                   & 10746                                        & ('ENSG00000177683', '7\\_108179726\\_G\\_C') & 0.2098717                                    & pseudotime                                   & 0.1005024                                    & 7                                            & 108194986                                    & 108210194                                    & protein\\_coding                             & -                                            & 7                                            & 108179726                                    & G                                            & C                                            & 108210194                                    &  30468                                      \\\\\n",
       "\t ENSG00000143198                              & 1\\_165599649\\_C\\_T                        &  0.03916195                                  & 0.01372846                                   &  6944                                        & ('ENSG00000143198', '1\\_165599649\\_C\\_T') & 0.5145417                                    & pseudotime                                   & 0.1005024                                    & 1                                            & 165600097                                    & 165631033                                    & protein\\_coding                             & +                                            & 1                                            & 165599649                                    & C                                            & T                                            & 165600097                                    &   -448                                      \\\\\n",
       "\t ENSG00000180185                              & 16\\_1906352\\_G\\_A                         &  0.03150856                                  & 0.01372883                                   & 11884                                        & ('ENSG00000180185', '16\\_1906352\\_G\\_A')  & 0.4144667                                    & pseudotime                                   & 0.1005024                                    & 16                                           &   1876967                                    &   1890208                                    & protein\\_coding                             & +                                            & 16                                           &   1906352                                    & G                                            & A                                            &   1876967                                    &  29385                                      \\\\\n",
       "\\end{tabular}\n"
      ],
      "text/markdown": [
       "\n",
       "ensembl_gene_id | snp_id | coef | pval | n_cells | index | mean_ase | factor | corr_pval | chromosome_name | start_position | end_position | gene_biotype | strand | chrom | pos | ref_allele | alt_allele | TSS | dist | \n",
       "|---|---|---|---|---|---|\n",
       "| ENSG00000083642                        | 13_33177572_T_G                        |  0.03132758                            | 0.01366340                             | 12859                                  | ('ENSG00000083642', '13_33177572_T_G') | 0.3951996                              | pseudotime                             | 0.1003585                              | 13                                     |  33160563                              |  33352157                              | protein_coding                         | +                                      | 13                                     |  33177572                              | T                                      | G                                      |  33160563                              |  17009                                 | \n",
       "| ENSG00000104472                        | 8_141501019_G_A                        | -0.04608461                            | 0.01368507                             |  6215                                  | ('ENSG00000104472', '8_141501019_G_A') | 0.4510236                              | pseudotime                             | 0.1004756                              | 8                                      | 141521396                              | 141527236                              | protein_coding                         | +                                      | 8                                      | 141501019                              | G                                      | A                                      | 141521396                              | -20377                                 | \n",
       "| ENSG00000204237                        | 17_79614134_T_C                        |  0.07303150                            | 0.01370126                             |  2322                                  | ('ENSG00000204237', '17_79614134_T_C') | 0.4429899                              | pseudotime                             | 0.1005024                              | 17                                     |  79632065                              |  79633665                              | protein_coding                         | -                                      | 17                                     |  79614134                              | T                                      | C                                      |  79633665                              |  19531                                 | \n",
       "| ENSG00000177683                        | 7_108179726_G_C                        |  0.02955157                            | 0.01372560                             | 10746                                  | ('ENSG00000177683', '7_108179726_G_C') | 0.2098717                              | pseudotime                             | 0.1005024                              | 7                                      | 108194986                              | 108210194                              | protein_coding                         | -                                      | 7                                      | 108179726                              | G                                      | C                                      | 108210194                              |  30468                                 | \n",
       "| ENSG00000143198                        | 1_165599649_C_T                        |  0.03916195                            | 0.01372846                             |  6944                                  | ('ENSG00000143198', '1_165599649_C_T') | 0.5145417                              | pseudotime                             | 0.1005024                              | 1                                      | 165600097                              | 165631033                              | protein_coding                         | +                                      | 1                                      | 165599649                              | C                                      | T                                      | 165600097                              |   -448                                 | \n",
       "| ENSG00000180185                        | 16_1906352_G_A                         |  0.03150856                            | 0.01372883                             | 11884                                  | ('ENSG00000180185', '16_1906352_G_A')  | 0.4144667                              | pseudotime                             | 0.1005024                              | 16                                     |   1876967                              |   1890208                              | protein_coding                         | +                                      | 16                                     |   1906352                              | G                                      | A                                      |   1876967                              |  29385                                 | \n",
       "\n",
       "\n"
      ],
      "text/plain": [
       "  ensembl_gene_id snp_id          coef        pval       n_cells\n",
       "1 ENSG00000083642 13_33177572_T_G  0.03132758 0.01366340 12859  \n",
       "2 ENSG00000104472 8_141501019_G_A -0.04608461 0.01368507  6215  \n",
       "3 ENSG00000204237 17_79614134_T_C  0.07303150 0.01370126  2322  \n",
       "4 ENSG00000177683 7_108179726_G_C  0.02955157 0.01372560 10746  \n",
       "5 ENSG00000143198 1_165599649_C_T  0.03916195 0.01372846  6944  \n",
       "6 ENSG00000180185 16_1906352_G_A   0.03150856 0.01372883 11884  \n",
       "  index                                  mean_ase  factor     corr_pval\n",
       "1 ('ENSG00000083642', '13_33177572_T_G') 0.3951996 pseudotime 0.1003585\n",
       "2 ('ENSG00000104472', '8_141501019_G_A') 0.4510236 pseudotime 0.1004756\n",
       "3 ('ENSG00000204237', '17_79614134_T_C') 0.4429899 pseudotime 0.1005024\n",
       "4 ('ENSG00000177683', '7_108179726_G_C') 0.2098717 pseudotime 0.1005024\n",
       "5 ('ENSG00000143198', '1_165599649_C_T') 0.5145417 pseudotime 0.1005024\n",
       "6 ('ENSG00000180185', '16_1906352_G_A')  0.4144667 pseudotime 0.1005024\n",
       "  chromosome_name start_position end_position gene_biotype   strand chrom\n",
       "1 13               33160563       33352157    protein_coding +      13   \n",
       "2 8               141521396      141527236    protein_coding +      8    \n",
       "3 17               79632065       79633665    protein_coding -      17   \n",
       "4 7               108194986      108210194    protein_coding -      7    \n",
       "5 1               165600097      165631033    protein_coding +      1    \n",
       "6 16                1876967        1890208    protein_coding +      16   \n",
       "  pos       ref_allele alt_allele TSS       dist  \n",
       "1  33177572 T          G           33160563  17009\n",
       "2 141501019 G          A          141521396 -20377\n",
       "3  79614134 T          C           79633665  19531\n",
       "4 108179726 G          C          108210194  30468\n",
       "5 165599649 C          T          165600097   -448\n",
       "6   1906352 G          A            1876967  29385"
      ]
     },
     "metadata": {},
     "output_type": "display_data"
    }
   ],
   "source": [
    "pseudo.linear.sign = add_TSS_dist(pseudo.linear.sign)\n",
    "pseudo.linear.nonsign = add_TSS_dist(pseudo.linear.nonsign)\n",
    "pseudo.quadratic.sign = add_TSS_dist(pseudo.quadratic.sign)\n",
    "head(pseudo.linear.nonsign)\n",
    "# dim(pseudo.linear.sign)"
   ]
  },
  {
   "cell_type": "code",
   "execution_count": 36,
   "metadata": {},
   "outputs": [],
   "source": [
    "res = pseudo.linear.sign\n",
    "res[res$mean_ase > 0.5 & res$coef > 0, \"direction\"] = \"+\"\n",
    "res[res$mean_ase < 0.5 & res$coef < 0, \"direction\"] = \"+\"\n",
    "res[res$mean_ase > 0.5 & res$coef < 0, \"direction\"] = \"-\"\n",
    "res[res$mean_ase < 0.5 & res$coef > 0, \"direction\"] = \"-\"\n",
    "pseudo.linear.sign = res"
   ]
  },
  {
   "cell_type": "code",
   "execution_count": 37,
   "metadata": {},
   "outputs": [
    {
     "data": {
      "image/png": "[encoded data removed]",
      "text/plain": [
       "Plot with title “Histogram of x”"
      ]
     },
     "metadata": {},
     "output_type": "display_data"
    }
   ],
   "source": [
    "x = pseudo.linear.nonsign$dist\n",
    "col = \"grey\"\n",
    "hist(x, breaks = 1000, border = \"white\", probability = T, xlim = c(min(x),-min(x)), col = \"white\",\n",
    "    xlab = \"distance from TSS\")\n",
    "lines(density(x), col = col, lwd = 4)\n",
    "x = pseudo.linear.sign[pseudo.linear.sign$direction == \"+\",]$dist\n",
    "col = \"forestgreen\"\n",
    "lines(density(x), col = col, lwd = 4)\n",
    "x = pseudo.linear.sign[pseudo.linear.sign$direction == \"-\",]$dist\n",
    "col = \"firebrick\"\n",
    "lines(density(x), col = col, lwd = 4)\n",
    "x = pseudo.quadratic.sign$dist\n",
    "col = \"darkblue\"\n",
    "lines(density(x), col = col, lwd = 4)"
   ]
  },
  {
   "cell_type": "code",
   "execution_count": 38,
   "metadata": {},
   "outputs": [
    {
     "data": {
      "text/html": [
       "<table>\n",
       "<thead><tr><th scope=col>snp_id</th><th scope=col>Unnamed..0</th><th scope=col>beta.mean</th><th scope=col>beta_se</th><th scope=col>empirical_feature_p_value</th><th scope=col>p_value.mean</th><th scope=col>snp_id.1</th><th scope=col>feature</th><th scope=col>global_corr_p_value</th><th scope=col>chrom</th><th scope=col>⋯</th><th scope=col>H3K4me3</th><th scope=col>H3K4me3_h0</th><th scope=col>H3K4me3_h24</th><th scope=col>H3K36me3_h48</th><th scope=col>H3K36me3_h24</th><th scope=col>H3K36me3_h36</th><th scope=col>H3K36me3_h72</th><th scope=col>H3K36me3_h0</th><th scope=col>H3K36me3_h12</th><th scope=col>H3K36me3</th></tr></thead>\n",
       "<tbody>\n",
       "\t<tr><td>6_31132414_G_A          </td><td>  24                    </td><td>-1.386281               </td><td>0.1083733               </td><td>1.592971e-18            </td><td>1.823854e-37            </td><td>6_31132414_G_A          </td><td>ENSG00000204531_POU5F1  </td><td>5.264237e-16            </td><td>6                       </td><td>⋯                       </td><td>False                   </td><td>False                   </td><td>False                   </td><td>True                    </td><td>True                    </td><td>True                    </td><td>True                    </td><td>True                    </td><td>True                    </td><td>True                    </td></tr>\n",
       "\t<tr><td>6_32634922_A_G          </td><td> 117                    </td><td>-1.270786               </td><td>0.1469673               </td><td>1.977147e-11            </td><td>5.299864e-18            </td><td>6_32634922_A_G          </td><td>ENSG00000179344_HLA-DQB1</td><td>1.340269e-09            </td><td>6                       </td><td>⋯                       </td><td>False                   </td><td>False                   </td><td>False                   </td><td>False                   </td><td>False                   </td><td>False                   </td><td>False                   </td><td>False                   </td><td>False                   </td><td>False                   </td></tr>\n",
       "\t<tr><td>6_32634922_A_G          </td><td>1879                    </td><td>-1.375988               </td><td>0.1478612               </td><td>8.485500e-15            </td><td>1.328104e-20            </td><td>6_32634922_A_G          </td><td>ENSG00000179344_HLA-DQB1</td><td>1.519887e-12            </td><td>6                       </td><td>⋯                       </td><td>False                   </td><td>False                   </td><td>False                   </td><td>False                   </td><td>False                   </td><td>False                   </td><td>False                   </td><td>False                   </td><td>False                   </td><td>False                   </td></tr>\n",
       "\t<tr><td>6_32634922_A_G          </td><td>3587                    </td><td>-1.438379               </td><td>0.1499301               </td><td>3.298243e-12            </td><td>8.500689e-22            </td><td>6_32634922_A_G          </td><td>ENSG00000179344_HLA-DQB1</td><td>5.981274e-10            </td><td>6                       </td><td>⋯                       </td><td>False                   </td><td>False                   </td><td>False                   </td><td>False                   </td><td>False                   </td><td>False                   </td><td>False                   </td><td>False                   </td><td>False                   </td><td>False                   </td></tr>\n",
       "\t<tr><td>9_136227260_A_G         </td><td>  20                    </td><td>-1.371767               </td><td>0.1094063               </td><td>1.461609e-19            </td><td>4.608624e-36            </td><td>9_136227260_A_G         </td><td>ENSG00000148291_SURF2   </td><td>5.796154e-17            </td><td>9                       </td><td>⋯                       </td><td>False                   </td><td>False                   </td><td>False                   </td><td>True                    </td><td>True                    </td><td>True                    </td><td>True                    </td><td>True                    </td><td>True                    </td><td>True                    </td></tr>\n",
       "\t<tr><td>9_136227260_A_G         </td><td>1851                    </td><td>-1.410832               </td><td>0.1143974               </td><td>6.363028e-20            </td><td>6.036677e-35            </td><td>9_136227260_A_G         </td><td>ENSG00000148291_SURF2   </td><td>2.949861e-17            </td><td>9                       </td><td>⋯                       </td><td>False                   </td><td>False                   </td><td>False                   </td><td>True                    </td><td>True                    </td><td>True                    </td><td>True                    </td><td>True                    </td><td>True                    </td><td>True                    </td></tr>\n",
       "</tbody>\n",
       "</table>\n"
      ],
      "text/latex": [
       "\\begin{tabular}{r|llllllllllllllllllllllllllllllllllllllllllllllllllllllllllllllll}\n",
       " snp\\_id & Unnamed..0 & beta.mean & beta\\_se & empirical\\_feature\\_p\\_value & p\\_value.mean & snp\\_id.1 & feature & global\\_corr\\_p\\_value & chrom & ⋯ & H3K4me3 & H3K4me3\\_h0 & H3K4me3\\_h24 & H3K36me3\\_h48 & H3K36me3\\_h24 & H3K36me3\\_h36 & H3K36me3\\_h72 & H3K36me3\\_h0 & H3K36me3\\_h12 & H3K36me3\\\\\n",
       "\\hline\n",
       "\t 6\\_31132414\\_G\\_A       &   24                       & -1.386281                  & 0.1083733                  & 1.592971e-18               & 1.823854e-37               & 6\\_31132414\\_G\\_A       & ENSG00000204531\\_POU5F1   & 5.264237e-16               & 6                          & ⋯                          & False                      & False                      & False                      & True                       & True                       & True                       & True                       & True                       & True                       & True                      \\\\\n",
       "\t 6\\_32634922\\_A\\_G       &  117                       & -1.270786                  & 0.1469673                  & 1.977147e-11               & 5.299864e-18               & 6\\_32634922\\_A\\_G       & ENSG00000179344\\_HLA-DQB1 & 1.340269e-09               & 6                          & ⋯                          & False                      & False                      & False                      & False                      & False                      & False                      & False                      & False                      & False                      & False                     \\\\\n",
       "\t 6\\_32634922\\_A\\_G       & 1879                       & -1.375988                  & 0.1478612                  & 8.485500e-15               & 1.328104e-20               & 6\\_32634922\\_A\\_G       & ENSG00000179344\\_HLA-DQB1 & 1.519887e-12               & 6                          & ⋯                          & False                      & False                      & False                      & False                      & False                      & False                      & False                      & False                      & False                      & False                     \\\\\n",
       "\t 6\\_32634922\\_A\\_G       & 3587                       & -1.438379                  & 0.1499301                  & 3.298243e-12               & 8.500689e-22               & 6\\_32634922\\_A\\_G       & ENSG00000179344\\_HLA-DQB1 & 5.981274e-10               & 6                          & ⋯                          & False                      & False                      & False                      & False                      & False                      & False                      & False                      & False                      & False                      & False                     \\\\\n",
       "\t 9\\_136227260\\_A\\_G      &   20                       & -1.371767                  & 0.1094063                  & 1.461609e-19               & 4.608624e-36               & 9\\_136227260\\_A\\_G      & ENSG00000148291\\_SURF2    & 5.796154e-17               & 9                          & ⋯                          & False                      & False                      & False                      & True                       & True                       & True                       & True                       & True                       & True                       & True                      \\\\\n",
       "\t 9\\_136227260\\_A\\_G      & 1851                       & -1.410832                  & 0.1143974                  & 6.363028e-20               & 6.036677e-35               & 9\\_136227260\\_A\\_G      & ENSG00000148291\\_SURF2    & 2.949861e-17               & 9                          & ⋯                          & False                      & False                      & False                      & True                       & True                       & True                       & True                       & True                       & True                       & True                      \\\\\n",
       "\\end{tabular}\n"
      ],
      "text/markdown": [
       "\n",
       "snp_id | Unnamed..0 | beta.mean | beta_se | empirical_feature_p_value | p_value.mean | snp_id.1 | feature | global_corr_p_value | chrom | ⋯ | H3K4me3 | H3K4me3_h0 | H3K4me3_h24 | H3K36me3_h48 | H3K36me3_h24 | H3K36me3_h36 | H3K36me3_h72 | H3K36me3_h0 | H3K36me3_h12 | H3K36me3 | \n",
       "|---|---|---|---|---|---|\n",
       "| 6_31132414_G_A           |   24                     | -1.386281                | 0.1083733                | 1.592971e-18             | 1.823854e-37             | 6_31132414_G_A           | ENSG00000204531_POU5F1   | 5.264237e-16             | 6                        | ⋯                        | False                    | False                    | False                    | True                     | True                     | True                     | True                     | True                     | True                     | True                     | \n",
       "| 6_32634922_A_G           |  117                     | -1.270786                | 0.1469673                | 1.977147e-11             | 5.299864e-18             | 6_32634922_A_G           | ENSG00000179344_HLA-DQB1 | 1.340269e-09             | 6                        | ⋯                        | False                    | False                    | False                    | False                    | False                    | False                    | False                    | False                    | False                    | False                    | \n",
       "| 6_32634922_A_G           | 1879                     | -1.375988                | 0.1478612                | 8.485500e-15             | 1.328104e-20             | 6_32634922_A_G           | ENSG00000179344_HLA-DQB1 | 1.519887e-12             | 6                        | ⋯                        | False                    | False                    | False                    | False                    | False                    | False                    | False                    | False                    | False                    | False                    | \n",
       "| 6_32634922_A_G           | 3587                     | -1.438379                | 0.1499301                | 3.298243e-12             | 8.500689e-22             | 6_32634922_A_G           | ENSG00000179344_HLA-DQB1 | 5.981274e-10             | 6                        | ⋯                        | False                    | False                    | False                    | False                    | False                    | False                    | False                    | False                    | False                    | False                    | \n",
       "| 9_136227260_A_G          |   20                     | -1.371767                | 0.1094063                | 1.461609e-19             | 4.608624e-36             | 9_136227260_A_G          | ENSG00000148291_SURF2    | 5.796154e-17             | 9                        | ⋯                        | False                    | False                    | False                    | True                     | True                     | True                     | True                     | True                     | True                     | True                     | \n",
       "| 9_136227260_A_G          | 1851                     | -1.410832                | 0.1143974                | 6.363028e-20             | 6.036677e-35             | 9_136227260_A_G          | ENSG00000148291_SURF2    | 2.949861e-17             | 9                        | ⋯                        | False                    | False                    | False                    | True                     | True                     | True                     | True                     | True                     | True                     | True                     | \n",
       "\n",
       "\n"
      ],
      "text/plain": [
       "  snp_id          Unnamed..0 beta.mean beta_se   empirical_feature_p_value\n",
       "1 6_31132414_G_A    24       -1.386281 0.1083733 1.592971e-18             \n",
       "2 6_32634922_A_G   117       -1.270786 0.1469673 1.977147e-11             \n",
       "3 6_32634922_A_G  1879       -1.375988 0.1478612 8.485500e-15             \n",
       "4 6_32634922_A_G  3587       -1.438379 0.1499301 3.298243e-12             \n",
       "5 9_136227260_A_G   20       -1.371767 0.1094063 1.461609e-19             \n",
       "6 9_136227260_A_G 1851       -1.410832 0.1143974 6.363028e-20             \n",
       "  p_value.mean snp_id.1        feature                  global_corr_p_value\n",
       "1 1.823854e-37 6_31132414_G_A  ENSG00000204531_POU5F1   5.264237e-16       \n",
       "2 5.299864e-18 6_32634922_A_G  ENSG00000179344_HLA-DQB1 1.340269e-09       \n",
       "3 1.328104e-20 6_32634922_A_G  ENSG00000179344_HLA-DQB1 1.519887e-12       \n",
       "4 8.500689e-22 6_32634922_A_G  ENSG00000179344_HLA-DQB1 5.981274e-10       \n",
       "5 4.608624e-36 9_136227260_A_G ENSG00000148291_SURF2    5.796154e-17       \n",
       "6 6.036677e-35 9_136227260_A_G ENSG00000148291_SURF2    2.949861e-17       \n",
       "  chrom ⋯ H3K4me3 H3K4me3_h0 H3K4me3_h24 H3K36me3_h48 H3K36me3_h24 H3K36me3_h36\n",
       "1 6     ⋯ False   False      False       True         True         True        \n",
       "2 6     ⋯ False   False      False       False        False        False       \n",
       "3 6     ⋯ False   False      False       False        False        False       \n",
       "4 6     ⋯ False   False      False       False        False        False       \n",
       "5 9     ⋯ False   False      False       True         True         True        \n",
       "6 9     ⋯ False   False      False       True         True         True        \n",
       "  H3K36me3_h72 H3K36me3_h0 H3K36me3_h12 H3K36me3\n",
       "1 True         True        True         True    \n",
       "2 False        False       False        False   \n",
       "3 False        False       False        False   \n",
       "4 False        False       False        False   \n",
       "5 True         True        True         True    \n",
       "6 True         True        True         True    "
      ]
     },
     "metadata": {},
     "output_type": "display_data"
    }
   ],
   "source": [
    "eQTL_histones_filename <- \"/nfs/leia/research/stegle/dseaton/hipsci/singlecell_endodiff/data/qtl_chipseq_overlaps/all_qtl_results_combined.overlap_w_vallier_histone_marks.tsv\"\n",
    "eQTL_histones <- read.csv(eQTL_histones_filename, sep = \"\\t\")\n",
    "head(eQTL_histones)"
   ]
  },
  {
   "cell_type": "code",
   "execution_count": 39,
   "metadata": {},
   "outputs": [
    {
     "data": {
      "text/html": [
       "4470"
      ],
      "text/latex": [
       "4470"
      ],
      "text/markdown": [
       "4470"
      ],
      "text/plain": [
       "[1] 4470"
      ]
     },
     "metadata": {},
     "output_type": "display_data"
    },
    {
     "data": {
      "text/html": [
       "<table>\n",
       "<thead><tr><th></th><th scope=col>snp_id</th><th scope=col>feature</th><th scope=col>H3K27ac_h12</th><th scope=col>H3K27ac_h0</th><th scope=col>H3K27ac_h48</th><th scope=col>H3K27ac_h72</th><th scope=col>H3K27ac_h24</th><th scope=col>H3K27ac_h36</th><th scope=col>H3K4me1_h0</th><th scope=col>H3K4me1_h36</th><th scope=col>H3K4me1_h24</th><th scope=col>H3K4me1_h12</th><th scope=col>H3K4me1_h48</th><th scope=col>H3K4me1_h72</th><th scope=col>ensembl_gene_id</th><th scope=col>eQTL</th></tr></thead>\n",
       "<tbody>\n",
       "\t<tr><th scope=row>1</th><td>6_31132414_G_A                           </td><td>ENSG00000204531_POU5F1                   </td><td>False                                    </td><td>False                                    </td><td>False                                    </td><td>False                                    </td><td>False                                    </td><td>False                                    </td><td>True                                     </td><td>True                                     </td><td>True                                     </td><td>True                                     </td><td>True                                     </td><td>True                                     </td><td>ENSG00000204531                          </td><td>ENSG00000204531_POU5F1-6_31132414_G_A    </td></tr>\n",
       "\t<tr><th scope=row>2</th><td>6_32634922_A_G                           </td><td>ENSG00000179344_HLA-DQB1                 </td><td>False                                    </td><td>False                                    </td><td>False                                    </td><td>False                                    </td><td>False                                    </td><td>False                                    </td><td>False                                    </td><td>False                                    </td><td>False                                    </td><td>False                                    </td><td>False                                    </td><td>False                                    </td><td>ENSG00000179344                          </td><td>ENSG00000179344_HLA-DQB1-6_32634922_A_G  </td></tr>\n",
       "\t<tr><th scope=row>5</th><td>9_136227260_A_G                          </td><td>ENSG00000148291_SURF2                    </td><td>False                                    </td><td>False                                    </td><td>False                                    </td><td>False                                    </td><td>False                                    </td><td>False                                    </td><td>True                                     </td><td>True                                     </td><td>True                                     </td><td>True                                     </td><td>True                                     </td><td>True                                     </td><td>ENSG00000148291                          </td><td>ENSG00000148291_SURF2-9_136227260_A_G    </td></tr>\n",
       "\t<tr><th scope=row>8</th><td>16_31522723_T_C                          </td><td>ENSG00000169877_AHSP                     </td><td>False                                    </td><td>False                                    </td><td>False                                    </td><td>False                                    </td><td>False                                    </td><td>False                                    </td><td>False                                    </td><td>False                                    </td><td>False                                    </td><td>False                                    </td><td>False                                    </td><td>False                                    </td><td>ENSG00000169877                          </td><td>ENSG00000169877_AHSP-16_31522723_T_C     </td></tr>\n",
       "\t<tr><th scope=row>9</th><td>12_7945196_G_T                           </td><td>ENSG00000176654_NANOGP1                  </td><td>False                                    </td><td>False                                    </td><td>False                                    </td><td>False                                    </td><td>False                                    </td><td>False                                    </td><td>True                                     </td><td>True                                     </td><td>True                                     </td><td>True                                     </td><td>True                                     </td><td>True                                     </td><td>ENSG00000176654                          </td><td>ENSG00000176654_NANOGP1-12_7945196_G_T   </td></tr>\n",
       "\t<tr><th scope=row>10</th><td>10_122218993_G_A                         </td><td>ENSG00000203805_PPAPDC1A                 </td><td>False                                    </td><td>False                                    </td><td>True                                     </td><td>True                                     </td><td>False                                    </td><td>True                                     </td><td>False                                    </td><td>True                                     </td><td>True                                     </td><td>True                                     </td><td>True                                     </td><td>True                                     </td><td>ENSG00000203805                          </td><td>ENSG00000203805_PPAPDC1A-10_122218993_G_A</td></tr>\n",
       "</tbody>\n",
       "</table>\n"
      ],
      "text/latex": [
       "\\begin{tabular}{r|llllllllllllllll}\n",
       "  & snp\\_id & feature & H3K27ac\\_h12 & H3K27ac\\_h0 & H3K27ac\\_h48 & H3K27ac\\_h72 & H3K27ac\\_h24 & H3K27ac\\_h36 & H3K4me1\\_h0 & H3K4me1\\_h36 & H3K4me1\\_h24 & H3K4me1\\_h12 & H3K4me1\\_h48 & H3K4me1\\_h72 & ensembl\\_gene\\_id & eQTL\\\\\n",
       "\\hline\n",
       "\t1 & 6\\_31132414\\_G\\_A                              & ENSG00000204531\\_POU5F1                          & False                                             & False                                             & False                                             & False                                             & False                                             & False                                             & True                                              & True                                              & True                                              & True                                              & True                                              & True                                              & ENSG00000204531                                   & ENSG00000204531\\_POU5F1-6\\_31132414\\_G\\_A    \\\\\n",
       "\t2 & 6\\_32634922\\_A\\_G                              & ENSG00000179344\\_HLA-DQB1                        & False                                             & False                                             & False                                             & False                                             & False                                             & False                                             & False                                             & False                                             & False                                             & False                                             & False                                             & False                                             & ENSG00000179344                                   & ENSG00000179344\\_HLA-DQB1-6\\_32634922\\_A\\_G  \\\\\n",
       "\t5 & 9\\_136227260\\_A\\_G                             & ENSG00000148291\\_SURF2                           & False                                             & False                                             & False                                             & False                                             & False                                             & False                                             & True                                              & True                                              & True                                              & True                                              & True                                              & True                                              & ENSG00000148291                                   & ENSG00000148291\\_SURF2-9\\_136227260\\_A\\_G    \\\\\n",
       "\t8 & 16\\_31522723\\_T\\_C                             & ENSG00000169877\\_AHSP                            & False                                             & False                                             & False                                             & False                                             & False                                             & False                                             & False                                             & False                                             & False                                             & False                                             & False                                             & False                                             & ENSG00000169877                                   & ENSG00000169877\\_AHSP-16\\_31522723\\_T\\_C     \\\\\n",
       "\t9 & 12\\_7945196\\_G\\_T                              & ENSG00000176654\\_NANOGP1                         & False                                             & False                                             & False                                             & False                                             & False                                             & False                                             & True                                              & True                                              & True                                              & True                                              & True                                              & True                                              & ENSG00000176654                                   & ENSG00000176654\\_NANOGP1-12\\_7945196\\_G\\_T   \\\\\n",
       "\t10 & 10\\_122218993\\_G\\_A                            & ENSG00000203805\\_PPAPDC1A                        & False                                             & False                                             & True                                              & True                                              & False                                             & True                                              & False                                             & True                                              & True                                              & True                                              & True                                              & True                                              & ENSG00000203805                                   & ENSG00000203805\\_PPAPDC1A-10\\_122218993\\_G\\_A\\\\\n",
       "\\end{tabular}\n"
      ],
      "text/markdown": [
       "\n",
       "| <!--/--> | snp_id | feature | H3K27ac_h12 | H3K27ac_h0 | H3K27ac_h48 | H3K27ac_h72 | H3K27ac_h24 | H3K27ac_h36 | H3K4me1_h0 | H3K4me1_h36 | H3K4me1_h24 | H3K4me1_h12 | H3K4me1_h48 | H3K4me1_h72 | ensembl_gene_id | eQTL | \n",
       "|---|---|---|---|---|---|\n",
       "| 1 | 6_31132414_G_A                            | ENSG00000204531_POU5F1                    | False                                     | False                                     | False                                     | False                                     | False                                     | False                                     | True                                      | True                                      | True                                      | True                                      | True                                      | True                                      | ENSG00000204531                           | ENSG00000204531_POU5F1-6_31132414_G_A     | \n",
       "| 2 | 6_32634922_A_G                            | ENSG00000179344_HLA-DQB1                  | False                                     | False                                     | False                                     | False                                     | False                                     | False                                     | False                                     | False                                     | False                                     | False                                     | False                                     | False                                     | ENSG00000179344                           | ENSG00000179344_HLA-DQB1-6_32634922_A_G   | \n",
       "| 5 | 9_136227260_A_G                           | ENSG00000148291_SURF2                     | False                                     | False                                     | False                                     | False                                     | False                                     | False                                     | True                                      | True                                      | True                                      | True                                      | True                                      | True                                      | ENSG00000148291                           | ENSG00000148291_SURF2-9_136227260_A_G     | \n",
       "| 8 | 16_31522723_T_C                           | ENSG00000169877_AHSP                      | False                                     | False                                     | False                                     | False                                     | False                                     | False                                     | False                                     | False                                     | False                                     | False                                     | False                                     | False                                     | ENSG00000169877                           | ENSG00000169877_AHSP-16_31522723_T_C      | \n",
       "| 9 | 12_7945196_G_T                            | ENSG00000176654_NANOGP1                   | False                                     | False                                     | False                                     | False                                     | False                                     | False                                     | True                                      | True                                      | True                                      | True                                      | True                                      | True                                      | ENSG00000176654                           | ENSG00000176654_NANOGP1-12_7945196_G_T    | \n",
       "| 10 | 10_122218993_G_A                          | ENSG00000203805_PPAPDC1A                  | False                                     | False                                     | True                                      | True                                      | False                                     | True                                      | False                                     | True                                      | True                                      | True                                      | True                                      | True                                      | ENSG00000203805                           | ENSG00000203805_PPAPDC1A-10_122218993_G_A | \n",
       "\n",
       "\n"
      ],
      "text/plain": [
       "   snp_id           feature                  H3K27ac_h12 H3K27ac_h0 H3K27ac_h48\n",
       "1  6_31132414_G_A   ENSG00000204531_POU5F1   False       False      False      \n",
       "2  6_32634922_A_G   ENSG00000179344_HLA-DQB1 False       False      False      \n",
       "5  9_136227260_A_G  ENSG00000148291_SURF2    False       False      False      \n",
       "8  16_31522723_T_C  ENSG00000169877_AHSP     False       False      False      \n",
       "9  12_7945196_G_T   ENSG00000176654_NANOGP1  False       False      False      \n",
       "10 10_122218993_G_A ENSG00000203805_PPAPDC1A False       False      True       \n",
       "   H3K27ac_h72 H3K27ac_h24 H3K27ac_h36 H3K4me1_h0 H3K4me1_h36 H3K4me1_h24\n",
       "1  False       False       False       True       True        True       \n",
       "2  False       False       False       False      False       False      \n",
       "5  False       False       False       True       True        True       \n",
       "8  False       False       False       False      False       False      \n",
       "9  False       False       False       True       True        True       \n",
       "10 True        False       True        False      True        True       \n",
       "   H3K4me1_h12 H3K4me1_h48 H3K4me1_h72 ensembl_gene_id\n",
       "1  True        True        True        ENSG00000204531\n",
       "2  False       False       False       ENSG00000179344\n",
       "5  True        True        True        ENSG00000148291\n",
       "8  False       False       False       ENSG00000169877\n",
       "9  True        True        True        ENSG00000176654\n",
       "10 True        True        True        ENSG00000203805\n",
       "   eQTL                                     \n",
       "1  ENSG00000204531_POU5F1-6_31132414_G_A    \n",
       "2  ENSG00000179344_HLA-DQB1-6_32634922_A_G  \n",
       "5  ENSG00000148291_SURF2-9_136227260_A_G    \n",
       "8  ENSG00000169877_AHSP-16_31522723_T_C     \n",
       "9  ENSG00000176654_NANOGP1-12_7945196_G_T   \n",
       "10 ENSG00000203805_PPAPDC1A-10_122218993_G_A"
      ]
     },
     "metadata": {},
     "output_type": "display_data"
    }
   ],
   "source": [
    "df.histones = eQTL_histones[, colnames(eQTL_histones) %in% c(colnames(eQTL_histones)[grep(\"H3K27ac_h\",colnames(eQTL_histones))],\n",
    "                                                                 colnames(eQTL_histones)[grep(\"H3K4me1_h\",colnames(eQTL_histones))],\n",
    "                                                            \"snp_id\",\"feature\")]\n",
    "df.histones$ensembl_gene_id = gsub(\"*_.*\", \"\", df.histones$feature)\n",
    "df.histones$eQTL = paste0(df.histones$feature,\"-\",df.histones$snp_id)\n",
    "df.histones = df.histones[-which(duplicated(df.histones$eQTL)),]\n",
    "nrow(df.histones)\n",
    "head(df.histones)"
   ]
  },
  {
   "cell_type": "code",
   "execution_count": 40,
   "metadata": {},
   "outputs": [],
   "source": [
    "get_colsums <- function(eqtls.set, hist.mark){\n",
    "    res.all = inner_join(eqtls.set, df.histones, by = c(\"snp_id\",\"ensembl_gene_id\"))\n",
    "    res = res.all[, grep(hist.mark, colnames(res.all))]\n",
    "    res[res == \"True\"] = 1\n",
    "    res[res == \"False\"] = 0\n",
    "    df = as.data.frame(sapply(res, as.numeric))\n",
    "    colsums = colSums(df)/nrow(df)\n",
    "    colsums[order(names(colsums))]\n",
    "}"
   ]
  },
  {
   "cell_type": "code",
   "execution_count": 41,
   "metadata": {},
   "outputs": [
    {
     "data": {
      "image/png": "[encoded data removed]",
      "text/plain": [
       "Plot with title “H3K27ac”"
      ]
     },
     "metadata": {},
     "output_type": "display_data"
    }
   ],
   "source": [
    "pos.lin.ac = get_colsums(pseudo.linear.sign[pseudo.linear.sign$direction == \"+\",], \"H3K27ac\")\n",
    "neg.lin.ac = get_colsums(pseudo.linear.sign[pseudo.linear.sign$direction == \"-\",], \"H3K27ac\")\n",
    "quad.ac = get_colsums(pseudo.quadratic.sign, \"H3K27ac\")\n",
    "non.sign.ac = get_colsums(pseudo.linear.nonsign, \"H3K27ac\")\n",
    "\n",
    "options(repr.plot.width = 5, repr.plot.height = 7)\n",
    "h0 <- c(pos.lin.ac[1], neg.lin.ac[1], quad.ac[1], non.sign.ac[1])\n",
    "h12 <- c(pos.lin.ac[2], neg.lin.ac[2], quad.ac[2], non.sign.ac[2])\n",
    "h24 <- c(pos.lin.ac[3], neg.lin.ac[3], quad.ac[3], non.sign.ac[3])\n",
    "h36 <- c(pos.lin.ac[4], neg.lin.ac[4], quad.ac[4], non.sign.ac[4])\n",
    "h48 <- c(pos.lin.ac[5], neg.lin.ac[5], quad.ac[5], non.sign.ac[5])\n",
    "h72 <- c(pos.lin.ac[6], neg.lin.ac[6], quad.ac[6], non.sign.ac[6])\n",
    "\n",
    "my.xlim = c(0,0.2)\n",
    "my.space = 4\n",
    "\n",
    "barplot(as.numeric(h0), \n",
    "#         border = \"#344d90\", \n",
    "        col = \"#344d90\",\n",
    "        xlim = my.xlim, ylim = c(0,9), space = my.space, ylab = \"\", \n",
    "        width = 0.5, xlab = \"% eQTLs overlapping H3K27ac\", horiz = TRUE, las = 1)\n",
    "par(new = TRUE)\n",
    "barplot(h12,  \n",
    "#         border = \"\", \n",
    "        col = \"dodgerblue\",\n",
    "        ylim = c(0.3, 9.3), xlim = my.xlim, ylab = \"\", \n",
    "        width = 0.5, space = my.space, axisnames = FALSE, horiz = TRUE, las = 1)\n",
    "par(new = TRUE)\n",
    "barplot(h24,  \n",
    "#         border = \"\", \n",
    "        col = \"#5cc5ef\",\n",
    "        ylim = c(0.6, 9.6), xlim = my.xlim, ylab = \"\", main = \"H3K27ac\",\n",
    "        width = 0.5, space = my.space, axisnames = FALSE, horiz = TRUE, las = 1)\n",
    "par(new = TRUE)\n",
    "barplot(h36,  \n",
    "#         border = \"\", \n",
    "        col = \"darkseagreen1\",\n",
    "        ylim = c(0.9, 9.9), xlim = my.xlim, ylab = \"\",\n",
    "        width = 0.5, space = my.space, axisnames = FALSE, horiz = TRUE, las = 1)\n",
    "par(new = TRUE)\n",
    "barplot(h48,  \n",
    "#         border = \"\", \n",
    "        col = \"#ffb745\",\n",
    "        ylim = c(1.2, 10.2), xlim = my.xlim, ylab = \"\",\n",
    "        width = 0.5, space = my.space, axisnames = FALSE, horiz = TRUE, las = 1)\n",
    "par(new = TRUE)\n",
    "barplot(h72,  \n",
    "#         border = \"\", \n",
    "        col = \"#e7552c\",\n",
    "        ylim = c(1.5, 10.5), xlim = my.xlim, ylab = \"\",\n",
    "        width = 0.5, space = my.space, axisnames = FALSE, horiz = TRUE, las = 1)\n",
    "text(0.15, 10.7, \"h0\", col = \"#344d90\")\n",
    "text(0.15, 10.4, \"h12\", col = \"dodgerblue\")\n",
    "text(0.15, 10.1, \"h24\", col = \"#5cc5ef\")\n",
    "text(0.15, 9.8, \"h36\", col = \"darkseagreen1\")\n",
    "text(0.15, 9.5, \"h48\", col = \"#ffb745\")\n",
    "text(0.15, 9.2, \"h72\", col = \"#e7552c\")"
   ]
  },
  {
   "cell_type": "code",
   "execution_count": 42,
   "metadata": {},
   "outputs": [
    {
     "data": {
      "image/png": "[encoded data removed]",
      "text/plain": [
       "Plot with title “H3K4me1”"
      ]
     },
     "metadata": {},
     "output_type": "display_data"
    }
   ],
   "source": [
    "pos.lin.me = get_colsums(pseudo.linear.sign[pseudo.linear.sign$direction == \"+\",], \"H3K4me1\")\n",
    "neg.lin.me = get_colsums(pseudo.linear.sign[pseudo.linear.sign$direction == \"-\",], \"H3K4me1\")\n",
    "quad.me = get_colsums(pseudo.quadratic.sign, \"H3K4me1\")\n",
    "non.sign.me = get_colsums(pseudo.linear.nonsign, \"H3K4me1\")\n",
    "\n",
    "options(repr.plot.width = 5, repr.plot.height = 7)\n",
    "h0 <- c(pos.lin.me[1], neg.lin.me[1], quad.me[1], non.sign.me[1])\n",
    "h12 <- c(pos.lin.me[2], neg.lin.me[2], quad.me[2], non.sign.me[2])\n",
    "h24 <- c(pos.lin.me[3], neg.lin.me[3], quad.me[3], non.sign.me[3])\n",
    "h36 <- c(pos.lin.me[4], neg.lin.me[4], quad.me[4], non.sign.me[4])\n",
    "h48 <- c(pos.lin.me[5], neg.lin.me[5], quad.me[5], non.sign.me[5])\n",
    "h72 <- c(pos.lin.me[6], neg.lin.me[6], quad.me[6], non.sign.me[6])\n",
    "\n",
    "my.xlim = c(0,0.6)\n",
    "my.space = 4\n",
    "\n",
    "barplot(as.numeric(h0), \n",
    "#         border = \"#344d90\", \n",
    "        col = \"#344d90\",\n",
    "        xlim = my.xlim, ylim = c(0,9), space = my.space, ylab = \"\",  main = \"H3K4me1\",\n",
    "        width = 0.5, xlab = \"% eQTLs overlapping H3K4me1\", horiz = TRUE, las = 1)\n",
    "par(new = TRUE)\n",
    "barplot(h12,  \n",
    "#         border = \"\", \n",
    "        col = \"dodgerblue\",\n",
    "        ylim = c(0.3, 9.3), xlim = my.xlim, ylab = \"\",\n",
    "        width = 0.5, space = my.space, axisnames = FALSE, horiz = TRUE, las = 1)\n",
    "par(new = TRUE)\n",
    "barplot(h24,  \n",
    "#         border = \"\", \n",
    "        col = \"#5cc5ef\",\n",
    "        ylim = c(0.6, 9.6), xlim = my.xlim, ylab = \"\", \n",
    "        width = 0.5, space = my.space, axisnames = FALSE, horiz = TRUE, las = 1)\n",
    "par(new = TRUE)\n",
    "barplot(h36,  \n",
    "#         border = \"\", \n",
    "        col = \"darkseagreen1\",\n",
    "        ylim = c(0.9, 9.9), xlim = my.xlim, ylab = \"\",\n",
    "        width = 0.5, space = my.space, axisnames = FALSE, horiz = TRUE, las = 1)\n",
    "par(new = TRUE)\n",
    "barplot(h48,  \n",
    "#         border = \"\", \n",
    "        col = \"#ffb745\",\n",
    "        ylim = c(1.2, 10.2), xlim = my.xlim, ylab = \"\",\n",
    "        width = 0.5, space = my.space, axisnames = FALSE, horiz = TRUE, las = 1)\n",
    "par(new = TRUE)\n",
    "barplot(h72,  \n",
    "#         border = \"\", \n",
    "        col = \"#e7552c\",\n",
    "        ylim = c(1.5, 10.5), xlim = my.xlim, ylab = \"\",\n",
    "        width = 0.5, space = my.space, axisnames = FALSE, horiz = TRUE, las = 1)\n",
    "text(0.5, 10.7, \"h0\", col = \"#344d90\")\n",
    "text(0.5, 10.4, \"h12\", col = \"dodgerblue\")\n",
    "text(0.5, 10.1, \"h24\", col = \"#5cc5ef\")\n",
    "text(0.5, 9.8, \"h36\", col = \"darkseagreen1\")\n",
    "text(0.5, 9.5, \"h48\", col = \"#ffb745\")\n",
    "text(0.5, 9.2, \"h72\", col = \"#e7552c\")"
   ]
  },
  {
   "cell_type": "code",
   "execution_count": 104,
   "metadata": {},
   "outputs": [
    {
     "data": {
      "text/html": [
       "<table>\n",
       "<thead><tr><th scope=col>gene_id</th><th scope=col>snp_id</th><th scope=col>exp_cluster_label</th><th scope=col>ase_cluster_label</th></tr></thead>\n",
       "<tbody>\n",
       "\t<tr><td>ENSG00000035141</td><td>2_70502930_A_G </td><td>1              </td><td>1              </td></tr>\n",
       "\t<tr><td>ENSG00000066654</td><td>16_20736906_G_A</td><td>1              </td><td>1              </td></tr>\n",
       "</tbody>\n",
       "</table>\n"
      ],
      "text/latex": [
       "\\begin{tabular}{r|llll}\n",
       " gene\\_id & snp\\_id & exp\\_cluster\\_label & ase\\_cluster\\_label\\\\\n",
       "\\hline\n",
       "\t ENSG00000035141       & 2\\_70502930\\_A\\_G  & 1                     & 1                    \\\\\n",
       "\t ENSG00000066654       & 16\\_20736906\\_G\\_A & 1                     & 1                    \\\\\n",
       "\\end{tabular}\n"
      ],
      "text/markdown": [
       "\n",
       "gene_id | snp_id | exp_cluster_label | ase_cluster_label | \n",
       "|---|---|\n",
       "| ENSG00000035141 | 2_70502930_A_G  | 1               | 1               | \n",
       "| ENSG00000066654 | 16_20736906_G_A | 1               | 1               | \n",
       "\n",
       "\n"
      ],
      "text/plain": [
       "  gene_id         snp_id          exp_cluster_label ase_cluster_label\n",
       "1 ENSG00000035141 2_70502930_A_G  1                 1                \n",
       "2 ENSG00000066654 16_20736906_G_A 1                 1                "
      ]
     },
     "metadata": {},
     "output_type": "display_data"
    }
   ],
   "source": [
    "clusters_filename = \"/nfs/leia/research/stegle/dseaton/hipsci/singlecell_endodiff/data/tables_for_anna_Aug2019/dynamic_eqtl_heatmaps/cluster_info.tsv\"\n",
    "clusters = read.csv(clusters_filename, sep = \"\\t\")\n",
    "head(clusters,2)"
   ]
  },
  {
   "cell_type": "code",
   "execution_count": 45,
   "metadata": {},
   "outputs": [],
   "source": [
    "gtex_tagging_filename = \"/nfs/leia/research/stegle/dseaton/hipsci/singlecell_endodiff/data/qtl_annotation/all_results_combined.tsv.all_gtex_gwas_tagging_annotations.hipsci_ref.txt\"\n",
    "\n",
    "gtex_tagging = read.csv(gtex_tagging_filename, sep = \"\\t\")\n",
    "\n",
    "gtex_tagging$how_many_tissues = 0\n",
    "for (i in 1:nrow(gtex_tagging)){\n",
    "    gtex_tagging$how_many_tissues[i] = sum(gsub(\"-\",\"0\",gsub(\"\\\\}\",\"\",gsub(\"\\\\{\",\"\",gtex_tagging[i,grep(\"LD\",colnames(gtex_tagging))])))>0)\n",
    "}"
   ]
  },
  {
   "cell_type": "code",
   "execution_count": 46,
   "metadata": {},
   "outputs": [],
   "source": [
    "gtex_tagging$ensembl_gene_id = gtex_tagging$gene_id"
   ]
  },
  {
   "cell_type": "code",
   "execution_count": 47,
   "metadata": {},
   "outputs": [],
   "source": [
    "# get_sign <- function(test, myfact, fdr){\n",
    "#     res = test\n",
    "#     res = res[res$n_cells > 500,]\n",
    "#     res = res[!(is.na(res$pval)),]\n",
    "#     res$corr_pval = p.adjust(res$pval, method = \"BH\")\n",
    "#     res[res$corr_pval < fdr & res$factor == myfact,]\n",
    "# } "
   ]
  },
  {
   "cell_type": "code",
   "execution_count": 48,
   "metadata": {},
   "outputs": [],
   "source": [
    "# pseudo.linear.sign = get_sign(test, \"pseudotime\", 0.1)\n",
    "# pseudo.quadratic.sign = get_sign(quadratic, \"pseudotime\", 0.1)\n",
    "# pseudo_inters = rbind(pseudo.linear.sign, pseudo.quadratic.sign)\n",
    "# head(pseudo_inters)"
   ]
  },
  {
   "cell_type": "code",
   "execution_count": 49,
   "metadata": {},
   "outputs": [],
   "source": [
    "new_folder = \"/nfs/leia/research/stegle/dseaton/hipsci/singlecell_endodiff/data/tables_for_anna_Aug2019/ase_interaction_results/\"\n",
    "test_filename = paste0(new_folder,\"pseudotimeandmodules.pseudotime_2dof_test.all_leads.multitest_corrected.tsv\")\n",
    "test = read.csv(test_filename, sep = \"\\t\")"
   ]
  },
  {
   "cell_type": "code",
   "execution_count": 50,
   "metadata": {},
   "outputs": [],
   "source": [
    "get_sign <- function(test, myfact){\n",
    "    res = test\n",
    "    res = res[res$n_cells > 50,]\n",
    "    res = res[!(is.na(res$pval)),]\n",
    "    res[res$qval < 0.1 & res$factor == myfact,]\n",
    "} "
   ]
  },
  {
   "cell_type": "code",
   "execution_count": 51,
   "metadata": {},
   "outputs": [],
   "source": [
    "pseudo_inters = get_sign(test, \"pseudotime\")"
   ]
  },
  {
   "cell_type": "code",
   "execution_count": 52,
   "metadata": {},
   "outputs": [
    {
     "data": {
      "text/html": [
       "4422"
      ],
      "text/latex": [
       "4422"
      ],
      "text/markdown": [
       "4422"
      ],
      "text/plain": [
       "[1] 4422"
      ]
     },
     "metadata": {},
     "output_type": "display_data"
    },
    {
     "data": {
      "text/html": [
       "1098"
      ],
      "text/latex": [
       "1098"
      ],
      "text/markdown": [
       "1098"
      ],
      "text/plain": [
       "[1] 1098"
      ]
     },
     "metadata": {},
     "output_type": "display_data"
    }
   ],
   "source": [
    "gtex_tagging$eqtls = paste0(gtex_tagging$gene_id, \"-\", gtex_tagging$snp_id)\n",
    "length(unique(gtex_tagging$eqtls))\n",
    "length(unique(gtex_tagging[gtex_tagging$stage_specific == 'True',\"eqtls\"]))"
   ]
  },
  {
   "cell_type": "code",
   "execution_count": 53,
   "metadata": {},
   "outputs": [
    {
     "data": {
      "text/html": [
       "<table>\n",
       "<thead><tr><th scope=col>ensembl_gene_id</th><th scope=col>snp_id</th><th scope=col>pval</th><th scope=col>n_cells</th><th scope=col>factor</th><th scope=col>qval</th></tr></thead>\n",
       "<tbody>\n",
       "\t<tr><td>ENSG00000142089</td><td>11_320394_C_T  </td><td>6.053215e-275  </td><td>21955          </td><td>pseudotime     </td><td>2.404337e-271  </td></tr>\n",
       "\t<tr><td>ENSG00000120675</td><td>13_43597706_C_T</td><td>1.582229e-266  </td><td>13767          </td><td>pseudotime     </td><td>3.142307e-263  </td></tr>\n",
       "</tbody>\n",
       "</table>\n"
      ],
      "text/latex": [
       "\\begin{tabular}{r|llllll}\n",
       " ensembl\\_gene\\_id & snp\\_id & pval & n\\_cells & factor & qval\\\\\n",
       "\\hline\n",
       "\t ENSG00000142089       & 11\\_320394\\_C\\_T   & 6.053215e-275         & 21955                 & pseudotime            & 2.404337e-271        \\\\\n",
       "\t ENSG00000120675       & 13\\_43597706\\_C\\_T & 1.582229e-266         & 13767                 & pseudotime            & 3.142307e-263        \\\\\n",
       "\\end{tabular}\n"
      ],
      "text/markdown": [
       "\n",
       "ensembl_gene_id | snp_id | pval | n_cells | factor | qval | \n",
       "|---|---|\n",
       "| ENSG00000142089 | 11_320394_C_T   | 6.053215e-275   | 21955           | pseudotime      | 2.404337e-271   | \n",
       "| ENSG00000120675 | 13_43597706_C_T | 1.582229e-266   | 13767           | pseudotime      | 3.142307e-263   | \n",
       "\n",
       "\n"
      ],
      "text/plain": [
       "  ensembl_gene_id snp_id          pval          n_cells factor    \n",
       "1 ENSG00000142089 11_320394_C_T   6.053215e-275 21955   pseudotime\n",
       "2 ENSG00000120675 13_43597706_C_T 1.582229e-266 13767   pseudotime\n",
       "  qval         \n",
       "1 2.404337e-271\n",
       "2 3.142307e-263"
      ]
     },
     "metadata": {},
     "output_type": "display_data"
    }
   ],
   "source": [
    "head(pseudo_inters,2)"
   ]
  },
  {
   "cell_type": "code",
   "execution_count": 54,
   "metadata": {},
   "outputs": [
    {
     "data": {
      "text/html": [
       "<table>\n",
       "<thead><tr><th scope=col>feature</th><th scope=col>snp_id</th><th scope=col>stage</th><th scope=col>beta.mean</th><th scope=col>beta_se</th><th scope=col>empirical_feature_p_value</th><th scope=col>p_value.mean</th><th scope=col>global_corr_p_value</th><th scope=col>snp_chromosome</th><th scope=col>snp_position</th><th scope=col>⋯</th><th scope=col>Vagina_LD</th><th scope=col>Whole_Blood_Variant</th><th scope=col>Whole_Blood_Annotation</th><th scope=col>Whole_Blood_LD</th><th scope=col>ipsc_hipsci_eqtls_mirauta2018_Variant</th><th scope=col>ipsc_hipsci_eqtls_mirauta2018_Annotation</th><th scope=col>ipsc_hipsci_eqtls_mirauta2018_LD</th><th scope=col>how_many_tissues</th><th scope=col>eqtls</th><th scope=col>ensembl_gene_id</th></tr></thead>\n",
       "<tbody>\n",
       "\t<tr><td>ENSG00000204531_POU5F1          </td><td>6_31132414_G_A                  </td><td>ips                             </td><td>-1.386281                       </td><td>0.1083733                       </td><td>1.592971e-18                    </td><td>1.823854e-37                    </td><td>5.264237e-16                    </td><td>6                               </td><td>31132414                        </td><td>⋯                               </td><td>-                               </td><td>-                               </td><td>-                               </td><td>-                               </td><td>{6_31132414}                    </td><td>{6_31132414_G_A-ENSG00000204531}</td><td>{0.9999999999999999}            </td><td>33                              </td><td>-6_31132414_G_A                 </td><td>ENSG00000204531                 </td></tr>\n",
       "</tbody>\n",
       "</table>\n"
      ],
      "text/latex": [
       "\\begin{tabular}{r|lllllllllllllllllllllllllllllllllllllllllllllllllllllllllllllllllllllllllllllllllllllllllllllllllllllllllllllllllllllllllllllllllllllllllllllllllllllllllllllllllllllllllllllllllllll}\n",
       " feature & snp\\_id & stage & beta.mean & beta\\_se & empirical\\_feature\\_p\\_value & p\\_value.mean & global\\_corr\\_p\\_value & snp\\_chromosome & snp\\_position & ⋯ & Vagina\\_LD & Whole\\_Blood\\_Variant & Whole\\_Blood\\_Annotation & Whole\\_Blood\\_LD & ipsc\\_hipsci\\_eqtls\\_mirauta2018\\_Variant & ipsc\\_hipsci\\_eqtls\\_mirauta2018\\_Annotation & ipsc\\_hipsci\\_eqtls\\_mirauta2018\\_LD & how\\_many\\_tissues & eqtls & ensembl\\_gene\\_id\\\\\n",
       "\\hline\n",
       "\t ENSG00000204531\\_POU5F1                   & 6\\_31132414\\_G\\_A                       & ips                                        & -1.386281                                  & 0.1083733                                  & 1.592971e-18                               & 1.823854e-37                               & 5.264237e-16                               & 6                                          & 31132414                                   & ⋯                                          & -                                          & -                                          & -                                          & -                                          & \\{6\\_31132414\\}                         & \\{6\\_31132414\\_G\\_A-ENSG00000204531\\} & \\{0.9999999999999999\\}                   & 33                                         & -6\\_31132414\\_G\\_A                      & ENSG00000204531                           \\\\\n",
       "\\end{tabular}\n"
      ],
      "text/markdown": [
       "\n",
       "feature | snp_id | stage | beta.mean | beta_se | empirical_feature_p_value | p_value.mean | global_corr_p_value | snp_chromosome | snp_position | ⋯ | Vagina_LD | Whole_Blood_Variant | Whole_Blood_Annotation | Whole_Blood_LD | ipsc_hipsci_eqtls_mirauta2018_Variant | ipsc_hipsci_eqtls_mirauta2018_Annotation | ipsc_hipsci_eqtls_mirauta2018_LD | how_many_tissues | eqtls | ensembl_gene_id | \n",
       "|---|\n",
       "| ENSG00000204531_POU5F1           | 6_31132414_G_A                   | ips                              | -1.386281                        | 0.1083733                        | 1.592971e-18                     | 1.823854e-37                     | 5.264237e-16                     | 6                                | 31132414                         | ⋯                                | -                                | -                                | -                                | -                                | {6_31132414}                     | {6_31132414_G_A-ENSG00000204531} | {0.9999999999999999}             | 33                               | -6_31132414_G_A                  | ENSG00000204531                  | \n",
       "\n",
       "\n"
      ],
      "text/plain": [
       "  feature                snp_id         stage beta.mean beta_se  \n",
       "1 ENSG00000204531_POU5F1 6_31132414_G_A ips   -1.386281 0.1083733\n",
       "  empirical_feature_p_value p_value.mean global_corr_p_value snp_chromosome\n",
       "1 1.592971e-18              1.823854e-37 5.264237e-16        6             \n",
       "  snp_position ⋯ Vagina_LD Whole_Blood_Variant Whole_Blood_Annotation\n",
       "1 31132414     ⋯ -         -                   -                     \n",
       "  Whole_Blood_LD ipsc_hipsci_eqtls_mirauta2018_Variant\n",
       "1 -              {6_31132414}                         \n",
       "  ipsc_hipsci_eqtls_mirauta2018_Annotation ipsc_hipsci_eqtls_mirauta2018_LD\n",
       "1 {6_31132414_G_A-ENSG00000204531}         {0.9999999999999999}            \n",
       "  how_many_tissues eqtls           ensembl_gene_id\n",
       "1 33               -6_31132414_G_A ENSG00000204531"
      ]
     },
     "metadata": {},
     "output_type": "display_data"
    }
   ],
   "source": [
    "gtex_tagging$ensembl_gene_id = gsub(\"_.*\",\"\",gtex_tagging$feature)\n",
    "head(gtex_tagging,1)"
   ]
  },
  {
   "cell_type": "code",
   "execution_count": 55,
   "metadata": {},
   "outputs": [],
   "source": [
    "eqtls_dynamic = inner_join(pseudo_inters, gtex_tagging, by = c(\"ensembl_gene_id\",\"snp_id\"))"
   ]
  },
  {
   "cell_type": "code",
   "execution_count": 56,
   "metadata": {},
   "outputs": [
    {
     "data": {
      "text/html": [
       "868"
      ],
      "text/latex": [
       "868"
      ],
      "text/markdown": [
       "868"
      ],
      "text/plain": [
       "[1] 868"
      ]
     },
     "metadata": {},
     "output_type": "display_data"
    },
    {
     "data": {
      "text/html": [
       "119"
      ],
      "text/latex": [
       "119"
      ],
      "text/markdown": [
       "119"
      ],
      "text/plain": [
       "[1] 119"
      ]
     },
     "metadata": {},
     "output_type": "display_data"
    }
   ],
   "source": [
    "eqtls_dynamic$eqtls = paste0(eqtls_dynamic$gene_id, \"-\", eqtls_dynamic$snp_id)\n",
    "length(unique(eqtls_dynamic$eqtls))\n",
    "length(unique(eqtls_dynamic[eqtls_dynamic$stage_specific == 'True',\"eqtls\"]))"
   ]
  },
  {
   "cell_type": "code",
   "execution_count": null,
   "metadata": {},
   "outputs": [],
   "source": []
  },
  {
   "cell_type": "code",
   "execution_count": 57,
   "metadata": {},
   "outputs": [],
   "source": [
    "gtex_tagging$gene_id = gsub(\"*_.*\", \"\", gtex_tagging$feature)\n",
    "gtex_dynamic = inner_join(clusters, gtex_tagging, by = c(\"gene_id\",\"snp_id\"))"
   ]
  },
  {
   "cell_type": "code",
   "execution_count": 58,
   "metadata": {},
   "outputs": [
    {
     "data": {
      "text/html": [
       "4824"
      ],
      "text/latex": [
       "4824"
      ],
      "text/markdown": [
       "4824"
      ],
      "text/plain": [
       "[1] 4824"
      ]
     },
     "metadata": {},
     "output_type": "display_data"
    },
    {
     "data": {
      "text/html": [
       "1100"
      ],
      "text/latex": [
       "1100"
      ],
      "text/markdown": [
       "1100"
      ],
      "text/plain": [
       "[1] 1100"
      ]
     },
     "metadata": {},
     "output_type": "display_data"
    }
   ],
   "source": [
    "nrow(gtex_tagging)\n",
    "sum(gtex_tagging$stage_specific == 'True')"
   ]
  },
  {
   "cell_type": "code",
   "execution_count": 59,
   "metadata": {},
   "outputs": [
    {
     "data": {
      "text/html": [
       "300"
      ],
      "text/latex": [
       "300"
      ],
      "text/markdown": [
       "300"
      ],
      "text/plain": [
       "[1] 300"
      ]
     },
     "metadata": {},
     "output_type": "display_data"
    },
    {
     "data": {
      "text/html": [
       "55"
      ],
      "text/latex": [
       "55"
      ],
      "text/markdown": [
       "55"
      ],
      "text/plain": [
       "[1] 55"
      ]
     },
     "metadata": {},
     "output_type": "display_data"
    },
    {
     "data": {
      "text/html": [
       "245"
      ],
      "text/latex": [
       "245"
      ],
      "text/markdown": [
       "245"
      ],
      "text/plain": [
       "[1] 245"
      ]
     },
     "metadata": {},
     "output_type": "display_data"
    }
   ],
   "source": [
    "gtex_dynamic$eqtls = paste0(gtex_dynamic$gene_id, \"-\", gtex_dynamic$snp_id)\n",
    "length(unique(gtex_dynamic$eqtls))\n",
    "length(unique(gtex_dynamic[gtex_dynamic$stage_specific == 'True',\"eqtls\"]))\n",
    "length(unique(gtex_dynamic$eqtls))-length(unique(gtex_dynamic[gtex_dynamic$stage_specific == 'True',\"eqtls\"]))"
   ]
  },
  {
   "cell_type": "code",
   "execution_count": 60,
   "metadata": {},
   "outputs": [
    {
     "data": {
      "text/html": [
       "21"
      ],
      "text/latex": [
       "21"
      ],
      "text/markdown": [
       "21"
      ],
      "text/plain": [
       "[1] 21"
      ]
     },
     "metadata": {},
     "output_type": "display_data"
    },
    {
     "data": {
      "text/html": [
       "12"
      ],
      "text/latex": [
       "12"
      ],
      "text/markdown": [
       "12"
      ],
      "text/plain": [
       "[1] 12"
      ]
     },
     "metadata": {},
     "output_type": "display_data"
    },
    {
     "data": {
      "text/html": [
       "3"
      ],
      "text/latex": [
       "3"
      ],
      "text/markdown": [
       "3"
      ],
      "text/plain": [
       "[1] 3"
      ]
     },
     "metadata": {},
     "output_type": "display_data"
    },
    {
     "data": {
      "text/html": [
       "4"
      ],
      "text/latex": [
       "4"
      ],
      "text/markdown": [
       "4"
      ],
      "text/plain": [
       "[1] 4"
      ]
     },
     "metadata": {},
     "output_type": "display_data"
    },
    {
     "data": {
      "text/html": [
       "2"
      ],
      "text/latex": [
       "2"
      ],
      "text/markdown": [
       "2"
      ],
      "text/plain": [
       "[1] 2"
      ]
     },
     "metadata": {},
     "output_type": "display_data"
    }
   ],
   "source": [
    "nrow(gtex_dynamic[gtex_dynamic$stage_specific == 'True' & gtex_dynamic$stage == \"ips\",])\n",
    "nrow(gtex_dynamic[gtex_dynamic$stage_specific == 'True' & gtex_dynamic$stage == \"ips\" & \n",
    "                  gtex_dynamic$ase_cluster_label %in% c('1'),])\n",
    "nrow(gtex_dynamic[gtex_dynamic$stage_specific == 'True' & gtex_dynamic$stage == \"ips\" & \n",
    "                  gtex_dynamic$ase_cluster_label == '3',])\n",
    "nrow(gtex_dynamic[gtex_dynamic$stage_specific == 'True' & gtex_dynamic$stage == \"ips\" & \n",
    "                  gtex_dynamic$ase_cluster_label == '2',])\n",
    "nrow(gtex_dynamic[gtex_dynamic$stage_specific == 'True' & gtex_dynamic$stage == \"ips\" & \n",
    "                  gtex_dynamic$ase_cluster_label == '0',])"
   ]
  },
  {
   "cell_type": "code",
   "execution_count": 61,
   "metadata": {},
   "outputs": [],
   "source": [
    "cols = c(\"#444c5c\",\"#ce5a57\",\"#78a5a3\",\"#e1b16a\")"
   ]
  },
  {
   "cell_type": "code",
   "execution_count": 62,
   "metadata": {},
   "outputs": [
    {
     "data": {
      "image/png": "[encoded data removed]",
      "text/plain": [
       "Plot with title “non stage-specific defendo eQTL”"
      ]
     },
     "metadata": {},
     "output_type": "display_data"
    }
   ],
   "source": [
    "par(mfrow = c(1,3))\n",
    "options(repr.plot.width = 8.5, repr.plot.height = 4)\n",
    "barplot(c(nrow(gtex_dynamic[gtex_dynamic$stage_specific == 'False' & gtex_dynamic$stage == \"ips\" & \n",
    "                  gtex_dynamic$ase_cluster_label == '1',]),\n",
    "         nrow(gtex_dynamic[gtex_dynamic$stage_specific == 'False' & gtex_dynamic$stage == \"ips\" & \n",
    "                  gtex_dynamic$ase_cluster_label == '3',]),\n",
    "         nrow(gtex_dynamic[gtex_dynamic$stage_specific == 'False' & gtex_dynamic$stage == \"ips\" & \n",
    "                  gtex_dynamic$ase_cluster_label == '2',]),\n",
    "         nrow(gtex_dynamic[gtex_dynamic$stage_specific == 'False' & gtex_dynamic$stage == \"ips\" & \n",
    "                  gtex_dynamic$ase_cluster_label == '0',])), col = cols,\n",
    "       main = \"non stage-specific iPSC eQTL\")\n",
    "barplot(c(nrow(gtex_dynamic[gtex_dynamic$stage_specific == 'False' & gtex_dynamic$stage == \"mesendo\" & \n",
    "                  gtex_dynamic$ase_cluster_label == '1',]),\n",
    "         nrow(gtex_dynamic[gtex_dynamic$stage_specific == 'False' & gtex_dynamic$stage == \"mesendo\" & \n",
    "                  gtex_dynamic$ase_cluster_label == '3',]),\n",
    "         nrow(gtex_dynamic[gtex_dynamic$stage_specific == 'False' & gtex_dynamic$stage == \"mesendo\" & \n",
    "                  gtex_dynamic$ase_cluster_label == '2',]),\n",
    "         nrow(gtex_dynamic[gtex_dynamic$stage_specific == 'False' & gtex_dynamic$stage == \"mesendo\" & \n",
    "                  gtex_dynamic$ase_cluster_label == '0',])), col = cols, \n",
    "        main = \"non stage-specific mesendo eQTL\")\n",
    "barplot(c(nrow(gtex_dynamic[gtex_dynamic$stage_specific == 'False' & gtex_dynamic$stage == \"defendo\" & \n",
    "                  gtex_dynamic$ase_cluster_label == '1',]),\n",
    "         nrow(gtex_dynamic[gtex_dynamic$stage_specific == 'False' & gtex_dynamic$stage == \"defendo\" & \n",
    "                  gtex_dynamic$ase_cluster_label == '3',]),\n",
    "         nrow(gtex_dynamic[gtex_dynamic$stage_specific == 'False' & gtex_dynamic$stage == \"defendo\" & \n",
    "                  gtex_dynamic$ase_cluster_label == '2',]),\n",
    "         nrow(gtex_dynamic[gtex_dynamic$stage_specific == 'False' & gtex_dynamic$stage == \"defendo\" & \n",
    "                  gtex_dynamic$ase_cluster_label == '0',])), col = cols,\n",
    "       main = \"non stage-specific defendo eQTL\")"
   ]
  },
  {
   "cell_type": "code",
   "execution_count": 63,
   "metadata": {},
   "outputs": [
    {
     "data": {
      "image/png": "[encoded data removed]",
      "text/plain": [
       "Plot with title “defendo-specific eQTL”"
      ]
     },
     "metadata": {},
     "output_type": "display_data"
    }
   ],
   "source": [
    "par(mfrow = c(1,3))\n",
    "options(repr.plot.width = 8, repr.plot.height = 4)\n",
    "barplot(c(nrow(gtex_dynamic[gtex_dynamic$stage_specific == 'True' & gtex_dynamic$stage == \"ips\" & \n",
    "                  gtex_dynamic$ase_cluster_label == '1',]),\n",
    "         nrow(gtex_dynamic[gtex_dynamic$stage_specific == 'True' & gtex_dynamic$stage == \"ips\" & \n",
    "                  gtex_dynamic$ase_cluster_label == '3',]),\n",
    "         nrow(gtex_dynamic[gtex_dynamic$stage_specific == 'True' & gtex_dynamic$stage == \"ips\" & \n",
    "                  gtex_dynamic$ase_cluster_label == '2',]),\n",
    "         nrow(gtex_dynamic[gtex_dynamic$stage_specific == 'True' & gtex_dynamic$stage == \"ips\" & \n",
    "                  gtex_dynamic$ase_cluster_label == '0',])), col = cols,\n",
    "       main = \"iPSC-specific eQTL\")\n",
    "barplot(c(nrow(gtex_dynamic[gtex_dynamic$stage_specific == 'True' & gtex_dynamic$stage == \"mesendo\" & \n",
    "                  gtex_dynamic$ase_cluster_label == '1',]),\n",
    "         nrow(gtex_dynamic[gtex_dynamic$stage_specific == 'True' & gtex_dynamic$stage == \"mesendo\" & \n",
    "                  gtex_dynamic$ase_cluster_label == '3',]),\n",
    "         nrow(gtex_dynamic[gtex_dynamic$stage_specific == 'True' & gtex_dynamic$stage == \"mesendo\" & \n",
    "                  gtex_dynamic$ase_cluster_label == '2',]),\n",
    "         nrow(gtex_dynamic[gtex_dynamic$stage_specific == 'True' & gtex_dynamic$stage == \"mesendo\" & \n",
    "                  gtex_dynamic$ase_cluster_label == '0',])), col = cols, \n",
    "        yaxt = 'n', main = \"mesendo-specific eQTL\")\n",
    "axis(side = 2, at = c(0,1,2,3))\n",
    "barplot(c(nrow(gtex_dynamic[gtex_dynamic$stage_specific == 'True' & gtex_dynamic$stage == \"defendo\" & \n",
    "                  gtex_dynamic$ase_cluster_label == '1',]),\n",
    "         nrow(gtex_dynamic[gtex_dynamic$stage_specific == 'True' & gtex_dynamic$stage == \"defendo\" & \n",
    "                  gtex_dynamic$ase_cluster_label == '3',]),\n",
    "         nrow(gtex_dynamic[gtex_dynamic$stage_specific == 'True' & gtex_dynamic$stage == \"defendo\" & \n",
    "                  gtex_dynamic$ase_cluster_label == '2',]),\n",
    "         nrow(gtex_dynamic[gtex_dynamic$stage_specific == 'True' & gtex_dynamic$stage == \"defendo\" & \n",
    "                  gtex_dynamic$ase_cluster_label == '0',])), col = cols,\n",
    "       main = \"defendo-specific eQTL\")"
   ]
  },
  {
   "cell_type": "code",
   "execution_count": 64,
   "metadata": {},
   "outputs": [
    {
     "data": {
      "text/html": [
       "7"
      ],
      "text/latex": [
       "7"
      ],
      "text/markdown": [
       "7"
      ],
      "text/plain": [
       "[1] 7"
      ]
     },
     "metadata": {},
     "output_type": "display_data"
    },
    {
     "data": {
      "text/html": [
       "2"
      ],
      "text/latex": [
       "2"
      ],
      "text/markdown": [
       "2"
      ],
      "text/plain": [
       "[1] 2"
      ]
     },
     "metadata": {},
     "output_type": "display_data"
    },
    {
     "data": {
      "text/html": [
       "3"
      ],
      "text/latex": [
       "3"
      ],
      "text/markdown": [
       "3"
      ],
      "text/plain": [
       "[1] 3"
      ]
     },
     "metadata": {},
     "output_type": "display_data"
    },
    {
     "data": {
      "text/html": [
       "0"
      ],
      "text/latex": [
       "0"
      ],
      "text/markdown": [
       "0"
      ],
      "text/plain": [
       "[1] 0"
      ]
     },
     "metadata": {},
     "output_type": "display_data"
    },
    {
     "data": {
      "text/html": [
       "2"
      ],
      "text/latex": [
       "2"
      ],
      "text/markdown": [
       "2"
      ],
      "text/plain": [
       "[1] 2"
      ]
     },
     "metadata": {},
     "output_type": "display_data"
    }
   ],
   "source": [
    "nrow(gtex_dynamic[gtex_dynamic$stage_specific == 'True' & gtex_dynamic$stage == \"mesendo\",])\n",
    "nrow(gtex_dynamic[gtex_dynamic$stage_specific == 'True' & gtex_dynamic$stage == \"mesendo\" & \n",
    "                  gtex_dynamic$ase_cluster_label %in% c('0'),])\n",
    "nrow(gtex_dynamic[gtex_dynamic$stage_specific == 'True' & gtex_dynamic$stage == \"mesendo\" & \n",
    "                  gtex_dynamic$ase_cluster_label == '2',])\n",
    "nrow(gtex_dynamic[gtex_dynamic$stage_specific == 'True' & gtex_dynamic$stage == \"mesendo\" & \n",
    "                  gtex_dynamic$ase_cluster_label == '3',])\n",
    "nrow(gtex_dynamic[gtex_dynamic$stage_specific == 'True' & gtex_dynamic$stage == \"mesendo\" & \n",
    "                  gtex_dynamic$ase_cluster_label == '1',])"
   ]
  },
  {
   "cell_type": "code",
   "execution_count": 65,
   "metadata": {},
   "outputs": [
    {
     "data": {
      "text/html": [
       "27"
      ],
      "text/latex": [
       "27"
      ],
      "text/markdown": [
       "27"
      ],
      "text/plain": [
       "[1] 27"
      ]
     },
     "metadata": {},
     "output_type": "display_data"
    },
    {
     "data": {
      "text/html": [
       "23"
      ],
      "text/latex": [
       "23"
      ],
      "text/markdown": [
       "23"
      ],
      "text/plain": [
       "[1] 23"
      ]
     },
     "metadata": {},
     "output_type": "display_data"
    },
    {
     "data": {
      "text/html": [
       "1"
      ],
      "text/latex": [
       "1"
      ],
      "text/markdown": [
       "1"
      ],
      "text/plain": [
       "[1] 1"
      ]
     },
     "metadata": {},
     "output_type": "display_data"
    },
    {
     "data": {
      "text/html": [
       "2"
      ],
      "text/latex": [
       "2"
      ],
      "text/markdown": [
       "2"
      ],
      "text/plain": [
       "[1] 2"
      ]
     },
     "metadata": {},
     "output_type": "display_data"
    },
    {
     "data": {
      "text/html": [
       "1"
      ],
      "text/latex": [
       "1"
      ],
      "text/markdown": [
       "1"
      ],
      "text/plain": [
       "[1] 1"
      ]
     },
     "metadata": {},
     "output_type": "display_data"
    }
   ],
   "source": [
    "nrow(gtex_dynamic[gtex_dynamic$stage_specific == 'True' & gtex_dynamic$stage == \"defendo\",])\n",
    "nrow(gtex_dynamic[gtex_dynamic$stage_specific == 'True' & gtex_dynamic$stage == \"defendo\" & \n",
    "                  gtex_dynamic$ase_cluster_label %in% c('0'),])\n",
    "nrow(gtex_dynamic[gtex_dynamic$stage_specific == 'True' & gtex_dynamic$stage == \"defendo\" & \n",
    "                  gtex_dynamic$ase_cluster_label == '2',])\n",
    "nrow(gtex_dynamic[gtex_dynamic$stage_specific == 'True' & gtex_dynamic$stage == \"defendo\" & \n",
    "                  gtex_dynamic$ase_cluster_label == '3',])\n",
    "nrow(gtex_dynamic[gtex_dynamic$stage_specific == 'True' & gtex_dynamic$stage == \"defendo\" & \n",
    "                  gtex_dynamic$ase_cluster_label == '1',])"
   ]
  },
  {
   "cell_type": "code",
   "execution_count": null,
   "metadata": {},
   "outputs": [],
   "source": []
  },
  {
   "cell_type": "code",
   "execution_count": 66,
   "metadata": {},
   "outputs": [
    {
     "data": {
      "text/html": [
       "<table>\n",
       "<thead><tr><th scope=col>feature</th><th scope=col>snp_id</th><th scope=col>stage</th><th scope=col>beta.mean</th><th scope=col>beta_se</th><th scope=col>empirical_feature_p_value</th><th scope=col>p_value.mean</th><th scope=col>global_corr_p_value</th><th scope=col>snp_chromosome</th><th scope=col>snp_position</th><th scope=col>⋯</th><th scope=col>Whole_Blood_Variant</th><th scope=col>Whole_Blood_Annotation</th><th scope=col>Whole_Blood_LD</th><th scope=col>ipsc_hipsci_eqtls_mirauta2018_Variant</th><th scope=col>ipsc_hipsci_eqtls_mirauta2018_Annotation</th><th scope=col>ipsc_hipsci_eqtls_mirauta2018_LD</th><th scope=col>how_many_tissues</th><th scope=col>eqtls</th><th scope=col>ensembl_gene_id</th><th scope=col>gene_id</th></tr></thead>\n",
       "<tbody>\n",
       "\t<tr><td>ENSG00000204531_POU5F1                                                                                                                             </td><td>6_31132414_G_A                                                                                                                                     </td><td>ips                                                                                                                                                </td><td>-1.386281                                                                                                                                          </td><td>0.1083733                                                                                                                                          </td><td>1.592971e-18                                                                                                                                       </td><td>1.823854e-37                                                                                                                                       </td><td>5.264237e-16                                                                                                                                       </td><td>6                                                                                                                                                  </td><td> 31132414                                                                                                                                          </td><td>⋯                                                                                                                                                  </td><td>-                                                                                                                                                  </td><td>-                                                                                                                                                  </td><td>-                                                                                                                                                  </td><td>{6_31132414}                                                                                                                                       </td><td>{6_31132414_G_A-ENSG00000204531}                                                                                                                   </td><td>{0.9999999999999999}                                                                                                                               </td><td>33                                                                                                                                                 </td><td>-6_31132414_G_A                                                                                                                                    </td><td>ENSG00000204531                                                                                                                                    </td><td>ENSG00000204531                                                                                                                                    </td></tr>\n",
       "\t<tr><td>ENSG00000179344_HLA-DQB1                                                                                                                           </td><td>6_32634922_A_G                                                                                                                                     </td><td>ips                                                                                                                                                </td><td>-1.270786                                                                                                                                          </td><td>0.1469673                                                                                                                                          </td><td>1.977147e-11                                                                                                                                       </td><td>5.299864e-18                                                                                                                                       </td><td>1.340269e-09                                                                                                                                       </td><td>6                                                                                                                                                  </td><td> 32634922                                                                                                                                          </td><td>⋯                                                                                                                                                  </td><td>{6_32608508};{6_32526526};{6_32627082};{6_32607558}                                                                                                </td><td>{6_32608508_A_T_b37-ENSG00000196735};{6_32526526_A_G_b37-ENSG00000198502};{6_32627082_A_G_b37-ENSG00000223534};{6_32607558_A_G_b37-ENSG00000232629}</td><td>{0.4062001050131084};{0.36551405659243374};{0.7164536068532416};{0.2915903443713935}                                                               </td><td>-                                                                                                                                                  </td><td>-                                                                                                                                                  </td><td>-                                                                                                                                                  </td><td>49                                                                                                                                                 </td><td>-6_32634922_A_G                                                                                                                                    </td><td>ENSG00000179344                                                                                                                                    </td><td>ENSG00000179344                                                                                                                                    </td></tr>\n",
       "\t<tr><td>ENSG00000179344_HLA-DQB1                                                                                                                           </td><td>6_32634922_A_G                                                                                                                                     </td><td>mesendo                                                                                                                                            </td><td>-1.375988                                                                                                                                          </td><td>0.1478612                                                                                                                                          </td><td>8.485500e-15                                                                                                                                       </td><td>1.328104e-20                                                                                                                                       </td><td>1.519887e-12                                                                                                                                       </td><td>6                                                                                                                                                  </td><td> 32634922                                                                                                                                          </td><td>⋯                                                                                                                                                  </td><td>{6_32608508};{6_32526526};{6_32627082};{6_32607558}                                                                                                </td><td>{6_32608508_A_T_b37-ENSG00000196735};{6_32526526_A_G_b37-ENSG00000198502};{6_32627082_A_G_b37-ENSG00000223534};{6_32607558_A_G_b37-ENSG00000232629}</td><td>{0.4062001050131084};{0.36551405659243374};{0.7164536068532416};{0.2915903443713935}                                                               </td><td>-                                                                                                                                                  </td><td>-                                                                                                                                                  </td><td>-                                                                                                                                                  </td><td>49                                                                                                                                                 </td><td>-6_32634922_A_G                                                                                                                                    </td><td>ENSG00000179344                                                                                                                                    </td><td>ENSG00000179344                                                                                                                                    </td></tr>\n",
       "\t<tr><td>ENSG00000179344_HLA-DQB1                                                                                                                           </td><td>6_32634922_A_G                                                                                                                                     </td><td>defendo                                                                                                                                            </td><td>-1.438379                                                                                                                                          </td><td>0.1499301                                                                                                                                          </td><td>3.298243e-12                                                                                                                                       </td><td>8.500689e-22                                                                                                                                       </td><td>5.981274e-10                                                                                                                                       </td><td>6                                                                                                                                                  </td><td> 32634922                                                                                                                                          </td><td>⋯                                                                                                                                                  </td><td>{6_32608508};{6_32526526};{6_32627082};{6_32607558}                                                                                                </td><td>{6_32608508_A_T_b37-ENSG00000196735};{6_32526526_A_G_b37-ENSG00000198502};{6_32627082_A_G_b37-ENSG00000223534};{6_32607558_A_G_b37-ENSG00000232629}</td><td>{0.4062001050131084};{0.36551405659243374};{0.7164536068532416};{0.2915903443713935}                                                               </td><td>-                                                                                                                                                  </td><td>-                                                                                                                                                  </td><td>-                                                                                                                                                  </td><td>49                                                                                                                                                 </td><td>-6_32634922_A_G                                                                                                                                    </td><td>ENSG00000179344                                                                                                                                    </td><td>ENSG00000179344                                                                                                                                    </td></tr>\n",
       "\t<tr><td>ENSG00000148291_SURF2                                                                                                                              </td><td>9_136227260_A_G                                                                                                                                    </td><td>ips                                                                                                                                                </td><td>-1.371767                                                                                                                                          </td><td>0.1094063                                                                                                                                          </td><td>1.461609e-19                                                                                                                                       </td><td>4.608624e-36                                                                                                                                       </td><td>5.796154e-17                                                                                                                                       </td><td>9                                                                                                                                                  </td><td>136227260                                                                                                                                          </td><td>⋯                                                                                                                                                  </td><td>{9_136205775}                                                                                                                                      </td><td>{9_136205775_T_C_b37-ENSG00000148297}                                                                                                              </td><td>{0.5877429781370492}                                                                                                                               </td><td>{9_136214955};{9_136227260}                                                                                                                        </td><td>{9_136214955_A_G-ENSG00000148297};{9_136227260_A_G-ENSG00000148291}                                                                                </td><td>{0.992130602668752};{0.9999999999999999}                                                                                                           </td><td>44                                                                                                                                                 </td><td>-9_136227260_A_G                                                                                                                                   </td><td>ENSG00000148291                                                                                                                                    </td><td>ENSG00000148291                                                                                                                                    </td></tr>\n",
       "\t<tr><td>ENSG00000148291_SURF2                                                                                                                              </td><td>9_136227260_A_G                                                                                                                                    </td><td>mesendo                                                                                                                                            </td><td>-1.410832                                                                                                                                          </td><td>0.1143974                                                                                                                                          </td><td>6.363028e-20                                                                                                                                       </td><td>6.036677e-35                                                                                                                                       </td><td>2.949861e-17                                                                                                                                       </td><td>9                                                                                                                                                  </td><td>136227260                                                                                                                                          </td><td>⋯                                                                                                                                                  </td><td>{9_136205775}                                                                                                                                      </td><td>{9_136205775_T_C_b37-ENSG00000148297}                                                                                                              </td><td>{0.5877429781370492}                                                                                                                               </td><td>{9_136214955};{9_136227260}                                                                                                                        </td><td>{9_136214955_A_G-ENSG00000148297};{9_136227260_A_G-ENSG00000148291}                                                                                </td><td>{0.992130602668752};{0.9999999999999999}                                                                                                           </td><td>44                                                                                                                                                 </td><td>-9_136227260_A_G                                                                                                                                   </td><td>ENSG00000148291                                                                                                                                    </td><td>ENSG00000148291                                                                                                                                    </td></tr>\n",
       "</tbody>\n",
       "</table>\n"
      ],
      "text/latex": [
       "\\begin{tabular}{r|llllllllllllllllllllllllllllllllllllllllllllllllllllllllllllllllllllllllllllllllllllllllllllllllllllllllllllllllllllllllllllllllllllllllllllllllllllllllllllllllllllllllllllllllllllll}\n",
       " feature & snp\\_id & stage & beta.mean & beta\\_se & empirical\\_feature\\_p\\_value & p\\_value.mean & global\\_corr\\_p\\_value & snp\\_chromosome & snp\\_position & ⋯ & Whole\\_Blood\\_Variant & Whole\\_Blood\\_Annotation & Whole\\_Blood\\_LD & ipsc\\_hipsci\\_eqtls\\_mirauta2018\\_Variant & ipsc\\_hipsci\\_eqtls\\_mirauta2018\\_Annotation & ipsc\\_hipsci\\_eqtls\\_mirauta2018\\_LD & how\\_many\\_tissues & eqtls & ensembl\\_gene\\_id & gene\\_id\\\\\n",
       "\\hline\n",
       "\t ENSG00000204531\\_POU5F1                                                                                                                            & 6\\_31132414\\_G\\_A                                                                                                                                & ips                                                                                                                                                 & -1.386281                                                                                                                                           & 0.1083733                                                                                                                                           & 1.592971e-18                                                                                                                                        & 1.823854e-37                                                                                                                                        & 5.264237e-16                                                                                                                                        & 6                                                                                                                                                   &  31132414                                                                                                                                           & ⋯                                                                                                                                                   & -                                                                                                                                                   & -                                                                                                                                                   & -                                                                                                                                                   & \\{6\\_31132414\\}                                                                                                                                  & \\{6\\_31132414\\_G\\_A-ENSG00000204531\\}                                                                                                          & \\{0.9999999999999999\\}                                                                                                                            & 33                                                                                                                                                  & -6\\_31132414\\_G\\_A                                                                                                                               & ENSG00000204531                                                                                                                                     & ENSG00000204531                                                                                                                                    \\\\\n",
       "\t ENSG00000179344\\_HLA-DQB1                                                                                                                                                                          & 6\\_32634922\\_A\\_G                                                                                                                                                                                & ips                                                                                                                                                                                                 & -1.270786                                                                                                                                                                                           & 0.1469673                                                                                                                                                                                           & 1.977147e-11                                                                                                                                                                                        & 5.299864e-18                                                                                                                                                                                        & 1.340269e-09                                                                                                                                                                                        & 6                                                                                                                                                                                                   &  32634922                                                                                                                                                                                           & ⋯                                                                                                                                                                                                   & \\{6\\_32608508\\};\\{6\\_32526526\\};\\{6\\_32627082\\};\\{6\\_32607558\\}                                                                                                                         & \\{6\\_32608508\\_A\\_T\\_b37-ENSG00000196735\\};\\{6\\_32526526\\_A\\_G\\_b37-ENSG00000198502\\};\\{6\\_32627082\\_A\\_G\\_b37-ENSG00000223534\\};\\{6\\_32607558\\_A\\_G\\_b37-ENSG00000232629\\} & \\{0.4062001050131084\\};\\{0.36551405659243374\\};\\{0.7164536068532416\\};\\{0.2915903443713935\\}                                                                                                & -                                                                                                                                                                                                   & -                                                                                                                                                                                                   & -                                                                                                                                                                                                   & 49                                                                                                                                                                                                  & -6\\_32634922\\_A\\_G                                                                                                                                                                               & ENSG00000179344                                                                                                                                                                                     & ENSG00000179344                                                                                                                                                                                    \\\\\n",
       "\t ENSG00000179344\\_HLA-DQB1                                                                                                                                                                          & 6\\_32634922\\_A\\_G                                                                                                                                                                                & mesendo                                                                                                                                                                                             & -1.375988                                                                                                                                                                                           & 0.1478612                                                                                                                                                                                           & 8.485500e-15                                                                                                                                                                                        & 1.328104e-20                                                                                                                                                                                        & 1.519887e-12                                                                                                                                                                                        & 6                                                                                                                                                                                                   &  32634922                                                                                                                                                                                           & ⋯                                                                                                                                                                                                   & \\{6\\_32608508\\};\\{6\\_32526526\\};\\{6\\_32627082\\};\\{6\\_32607558\\}                                                                                                                         & \\{6\\_32608508\\_A\\_T\\_b37-ENSG00000196735\\};\\{6\\_32526526\\_A\\_G\\_b37-ENSG00000198502\\};\\{6\\_32627082\\_A\\_G\\_b37-ENSG00000223534\\};\\{6\\_32607558\\_A\\_G\\_b37-ENSG00000232629\\} & \\{0.4062001050131084\\};\\{0.36551405659243374\\};\\{0.7164536068532416\\};\\{0.2915903443713935\\}                                                                                                & -                                                                                                                                                                                                   & -                                                                                                                                                                                                   & -                                                                                                                                                                                                   & 49                                                                                                                                                                                                  & -6\\_32634922\\_A\\_G                                                                                                                                                                               & ENSG00000179344                                                                                                                                                                                     & ENSG00000179344                                                                                                                                                                                    \\\\\n",
       "\t ENSG00000179344\\_HLA-DQB1                                                                                                                                                                          & 6\\_32634922\\_A\\_G                                                                                                                                                                                & defendo                                                                                                                                                                                             & -1.438379                                                                                                                                                                                           & 0.1499301                                                                                                                                                                                           & 3.298243e-12                                                                                                                                                                                        & 8.500689e-22                                                                                                                                                                                        & 5.981274e-10                                                                                                                                                                                        & 6                                                                                                                                                                                                   &  32634922                                                                                                                                                                                           & ⋯                                                                                                                                                                                                   & \\{6\\_32608508\\};\\{6\\_32526526\\};\\{6\\_32627082\\};\\{6\\_32607558\\}                                                                                                                         & \\{6\\_32608508\\_A\\_T\\_b37-ENSG00000196735\\};\\{6\\_32526526\\_A\\_G\\_b37-ENSG00000198502\\};\\{6\\_32627082\\_A\\_G\\_b37-ENSG00000223534\\};\\{6\\_32607558\\_A\\_G\\_b37-ENSG00000232629\\} & \\{0.4062001050131084\\};\\{0.36551405659243374\\};\\{0.7164536068532416\\};\\{0.2915903443713935\\}                                                                                                & -                                                                                                                                                                                                   & -                                                                                                                                                                                                   & -                                                                                                                                                                                                   & 49                                                                                                                                                                                                  & -6\\_32634922\\_A\\_G                                                                                                                                                                               & ENSG00000179344                                                                                                                                                                                     & ENSG00000179344                                                                                                                                                                                    \\\\\n",
       "\t ENSG00000148291\\_SURF2                                                                                                                                         & 9\\_136227260\\_A\\_G                                                                                                                                           & ips                                                                                                                                                             & -1.371767                                                                                                                                                       & 0.1094063                                                                                                                                                       & 1.461609e-19                                                                                                                                                    & 4.608624e-36                                                                                                                                                    & 5.796154e-17                                                                                                                                                    & 9                                                                                                                                                               & 136227260                                                                                                                                                       & ⋯                                                                                                                                                               & \\{9\\_136205775\\}                                                                                                                                             & \\{9\\_136205775\\_T\\_C\\_b37-ENSG00000148297\\}                                                                                                               & \\{0.5877429781370492\\}                                                                                                                                        & \\{9\\_136214955\\};\\{9\\_136227260\\}                                                                                                                         & \\{9\\_136214955\\_A\\_G-ENSG00000148297\\};\\{9\\_136227260\\_A\\_G-ENSG00000148291\\}                                                                         & \\{0.992130602668752\\};\\{0.9999999999999999\\}                                                                                                                & 44                                                                                                                                                              & -9\\_136227260\\_A\\_G                                                                                                                                          & ENSG00000148291                                                                                                                                                 & ENSG00000148291                                                                                                                                                \\\\\n",
       "\t ENSG00000148291\\_SURF2                                                                                                                                         & 9\\_136227260\\_A\\_G                                                                                                                                           & mesendo                                                                                                                                                         & -1.410832                                                                                                                                                       & 0.1143974                                                                                                                                                       & 6.363028e-20                                                                                                                                                    & 6.036677e-35                                                                                                                                                    & 2.949861e-17                                                                                                                                                    & 9                                                                                                                                                               & 136227260                                                                                                                                                       & ⋯                                                                                                                                                               & \\{9\\_136205775\\}                                                                                                                                             & \\{9\\_136205775\\_T\\_C\\_b37-ENSG00000148297\\}                                                                                                               & \\{0.5877429781370492\\}                                                                                                                                        & \\{9\\_136214955\\};\\{9\\_136227260\\}                                                                                                                         & \\{9\\_136214955\\_A\\_G-ENSG00000148297\\};\\{9\\_136227260\\_A\\_G-ENSG00000148291\\}                                                                         & \\{0.992130602668752\\};\\{0.9999999999999999\\}                                                                                                                & 44                                                                                                                                                              & -9\\_136227260\\_A\\_G                                                                                                                                          & ENSG00000148291                                                                                                                                                 & ENSG00000148291                                                                                                                                                \\\\\n",
       "\\end{tabular}\n"
      ],
      "text/markdown": [
       "\n",
       "feature | snp_id | stage | beta.mean | beta_se | empirical_feature_p_value | p_value.mean | global_corr_p_value | snp_chromosome | snp_position | ⋯ | Whole_Blood_Variant | Whole_Blood_Annotation | Whole_Blood_LD | ipsc_hipsci_eqtls_mirauta2018_Variant | ipsc_hipsci_eqtls_mirauta2018_Annotation | ipsc_hipsci_eqtls_mirauta2018_LD | how_many_tissues | eqtls | ensembl_gene_id | gene_id | \n",
       "|---|---|---|---|---|---|\n",
       "| ENSG00000204531_POU5F1                                                                                                                              | 6_31132414_G_A                                                                                                                                      | ips                                                                                                                                                 | -1.386281                                                                                                                                           | 0.1083733                                                                                                                                           | 1.592971e-18                                                                                                                                        | 1.823854e-37                                                                                                                                        | 5.264237e-16                                                                                                                                        | 6                                                                                                                                                   |  31132414                                                                                                                                           | ⋯                                                                                                                                                   | -                                                                                                                                                   | -                                                                                                                                                   | -                                                                                                                                                   | {6_31132414}                                                                                                                                        | {6_31132414_G_A-ENSG00000204531}                                                                                                                    | {0.9999999999999999}                                                                                                                                | 33                                                                                                                                                  | -6_31132414_G_A                                                                                                                                     | ENSG00000204531                                                                                                                                     | ENSG00000204531                                                                                                                                     | \n",
       "| ENSG00000179344_HLA-DQB1                                                                                                                            | 6_32634922_A_G                                                                                                                                      | ips                                                                                                                                                 | -1.270786                                                                                                                                           | 0.1469673                                                                                                                                           | 1.977147e-11                                                                                                                                        | 5.299864e-18                                                                                                                                        | 1.340269e-09                                                                                                                                        | 6                                                                                                                                                   |  32634922                                                                                                                                           | ⋯                                                                                                                                                   | {6_32608508};{6_32526526};{6_32627082};{6_32607558}                                                                                                 | {6_32608508_A_T_b37-ENSG00000196735};{6_32526526_A_G_b37-ENSG00000198502};{6_32627082_A_G_b37-ENSG00000223534};{6_32607558_A_G_b37-ENSG00000232629} | {0.4062001050131084};{0.36551405659243374};{0.7164536068532416};{0.2915903443713935}                                                                | -                                                                                                                                                   | -                                                                                                                                                   | -                                                                                                                                                   | 49                                                                                                                                                  | -6_32634922_A_G                                                                                                                                     | ENSG00000179344                                                                                                                                     | ENSG00000179344                                                                                                                                     | \n",
       "| ENSG00000179344_HLA-DQB1                                                                                                                            | 6_32634922_A_G                                                                                                                                      | mesendo                                                                                                                                             | -1.375988                                                                                                                                           | 0.1478612                                                                                                                                           | 8.485500e-15                                                                                                                                        | 1.328104e-20                                                                                                                                        | 1.519887e-12                                                                                                                                        | 6                                                                                                                                                   |  32634922                                                                                                                                           | ⋯                                                                                                                                                   | {6_32608508};{6_32526526};{6_32627082};{6_32607558}                                                                                                 | {6_32608508_A_T_b37-ENSG00000196735};{6_32526526_A_G_b37-ENSG00000198502};{6_32627082_A_G_b37-ENSG00000223534};{6_32607558_A_G_b37-ENSG00000232629} | {0.4062001050131084};{0.36551405659243374};{0.7164536068532416};{0.2915903443713935}                                                                | -                                                                                                                                                   | -                                                                                                                                                   | -                                                                                                                                                   | 49                                                                                                                                                  | -6_32634922_A_G                                                                                                                                     | ENSG00000179344                                                                                                                                     | ENSG00000179344                                                                                                                                     | \n",
       "| ENSG00000179344_HLA-DQB1                                                                                                                            | 6_32634922_A_G                                                                                                                                      | defendo                                                                                                                                             | -1.438379                                                                                                                                           | 0.1499301                                                                                                                                           | 3.298243e-12                                                                                                                                        | 8.500689e-22                                                                                                                                        | 5.981274e-10                                                                                                                                        | 6                                                                                                                                                   |  32634922                                                                                                                                           | ⋯                                                                                                                                                   | {6_32608508};{6_32526526};{6_32627082};{6_32607558}                                                                                                 | {6_32608508_A_T_b37-ENSG00000196735};{6_32526526_A_G_b37-ENSG00000198502};{6_32627082_A_G_b37-ENSG00000223534};{6_32607558_A_G_b37-ENSG00000232629} | {0.4062001050131084};{0.36551405659243374};{0.7164536068532416};{0.2915903443713935}                                                                | -                                                                                                                                                   | -                                                                                                                                                   | -                                                                                                                                                   | 49                                                                                                                                                  | -6_32634922_A_G                                                                                                                                     | ENSG00000179344                                                                                                                                     | ENSG00000179344                                                                                                                                     | \n",
       "| ENSG00000148291_SURF2                                                                                                                               | 9_136227260_A_G                                                                                                                                     | ips                                                                                                                                                 | -1.371767                                                                                                                                           | 0.1094063                                                                                                                                           | 1.461609e-19                                                                                                                                        | 4.608624e-36                                                                                                                                        | 5.796154e-17                                                                                                                                        | 9                                                                                                                                                   | 136227260                                                                                                                                           | ⋯                                                                                                                                                   | {9_136205775}                                                                                                                                       | {9_136205775_T_C_b37-ENSG00000148297}                                                                                                               | {0.5877429781370492}                                                                                                                                | {9_136214955};{9_136227260}                                                                                                                         | {9_136214955_A_G-ENSG00000148297};{9_136227260_A_G-ENSG00000148291}                                                                                 | {0.992130602668752};{0.9999999999999999}                                                                                                            | 44                                                                                                                                                  | -9_136227260_A_G                                                                                                                                    | ENSG00000148291                                                                                                                                     | ENSG00000148291                                                                                                                                     | \n",
       "| ENSG00000148291_SURF2                                                                                                                               | 9_136227260_A_G                                                                                                                                     | mesendo                                                                                                                                             | -1.410832                                                                                                                                           | 0.1143974                                                                                                                                           | 6.363028e-20                                                                                                                                        | 6.036677e-35                                                                                                                                        | 2.949861e-17                                                                                                                                        | 9                                                                                                                                                   | 136227260                                                                                                                                           | ⋯                                                                                                                                                   | {9_136205775}                                                                                                                                       | {9_136205775_T_C_b37-ENSG00000148297}                                                                                                               | {0.5877429781370492}                                                                                                                                | {9_136214955};{9_136227260}                                                                                                                         | {9_136214955_A_G-ENSG00000148297};{9_136227260_A_G-ENSG00000148291}                                                                                 | {0.992130602668752};{0.9999999999999999}                                                                                                            | 44                                                                                                                                                  | -9_136227260_A_G                                                                                                                                    | ENSG00000148291                                                                                                                                     | ENSG00000148291                                                                                                                                     | \n",
       "\n",
       "\n"
      ],
      "text/plain": [
       "  feature                  snp_id          stage   beta.mean beta_se  \n",
       "1 ENSG00000204531_POU5F1   6_31132414_G_A  ips     -1.386281 0.1083733\n",
       "2 ENSG00000179344_HLA-DQB1 6_32634922_A_G  ips     -1.270786 0.1469673\n",
       "3 ENSG00000179344_HLA-DQB1 6_32634922_A_G  mesendo -1.375988 0.1478612\n",
       "4 ENSG00000179344_HLA-DQB1 6_32634922_A_G  defendo -1.438379 0.1499301\n",
       "5 ENSG00000148291_SURF2    9_136227260_A_G ips     -1.371767 0.1094063\n",
       "6 ENSG00000148291_SURF2    9_136227260_A_G mesendo -1.410832 0.1143974\n",
       "  empirical_feature_p_value p_value.mean global_corr_p_value snp_chromosome\n",
       "1 1.592971e-18              1.823854e-37 5.264237e-16        6             \n",
       "2 1.977147e-11              5.299864e-18 1.340269e-09        6             \n",
       "3 8.485500e-15              1.328104e-20 1.519887e-12        6             \n",
       "4 3.298243e-12              8.500689e-22 5.981274e-10        6             \n",
       "5 1.461609e-19              4.608624e-36 5.796154e-17        9             \n",
       "6 6.363028e-20              6.036677e-35 2.949861e-17        9             \n",
       "  snp_position ⋯ Whole_Blood_Variant                                \n",
       "1  31132414    ⋯ -                                                  \n",
       "2  32634922    ⋯ {6_32608508};{6_32526526};{6_32627082};{6_32607558}\n",
       "3  32634922    ⋯ {6_32608508};{6_32526526};{6_32627082};{6_32607558}\n",
       "4  32634922    ⋯ {6_32608508};{6_32526526};{6_32627082};{6_32607558}\n",
       "5 136227260    ⋯ {9_136205775}                                      \n",
       "6 136227260    ⋯ {9_136205775}                                      \n",
       "  Whole_Blood_Annotation                                                                                                                             \n",
       "1 -                                                                                                                                                  \n",
       "2 {6_32608508_A_T_b37-ENSG00000196735};{6_32526526_A_G_b37-ENSG00000198502};{6_32627082_A_G_b37-ENSG00000223534};{6_32607558_A_G_b37-ENSG00000232629}\n",
       "3 {6_32608508_A_T_b37-ENSG00000196735};{6_32526526_A_G_b37-ENSG00000198502};{6_32627082_A_G_b37-ENSG00000223534};{6_32607558_A_G_b37-ENSG00000232629}\n",
       "4 {6_32608508_A_T_b37-ENSG00000196735};{6_32526526_A_G_b37-ENSG00000198502};{6_32627082_A_G_b37-ENSG00000223534};{6_32607558_A_G_b37-ENSG00000232629}\n",
       "5 {9_136205775_T_C_b37-ENSG00000148297}                                                                                                              \n",
       "6 {9_136205775_T_C_b37-ENSG00000148297}                                                                                                              \n",
       "  Whole_Blood_LD                                                                      \n",
       "1 -                                                                                   \n",
       "2 {0.4062001050131084};{0.36551405659243374};{0.7164536068532416};{0.2915903443713935}\n",
       "3 {0.4062001050131084};{0.36551405659243374};{0.7164536068532416};{0.2915903443713935}\n",
       "4 {0.4062001050131084};{0.36551405659243374};{0.7164536068532416};{0.2915903443713935}\n",
       "5 {0.5877429781370492}                                                                \n",
       "6 {0.5877429781370492}                                                                \n",
       "  ipsc_hipsci_eqtls_mirauta2018_Variant\n",
       "1 {6_31132414}                         \n",
       "2 -                                    \n",
       "3 -                                    \n",
       "4 -                                    \n",
       "5 {9_136214955};{9_136227260}          \n",
       "6 {9_136214955};{9_136227260}          \n",
       "  ipsc_hipsci_eqtls_mirauta2018_Annotation                           \n",
       "1 {6_31132414_G_A-ENSG00000204531}                                   \n",
       "2 -                                                                  \n",
       "3 -                                                                  \n",
       "4 -                                                                  \n",
       "5 {9_136214955_A_G-ENSG00000148297};{9_136227260_A_G-ENSG00000148291}\n",
       "6 {9_136214955_A_G-ENSG00000148297};{9_136227260_A_G-ENSG00000148291}\n",
       "  ipsc_hipsci_eqtls_mirauta2018_LD         how_many_tissues eqtls           \n",
       "1 {0.9999999999999999}                     33               -6_31132414_G_A \n",
       "2 -                                        49               -6_32634922_A_G \n",
       "3 -                                        49               -6_32634922_A_G \n",
       "4 -                                        49               -6_32634922_A_G \n",
       "5 {0.992130602668752};{0.9999999999999999} 44               -9_136227260_A_G\n",
       "6 {0.992130602668752};{0.9999999999999999} 44               -9_136227260_A_G\n",
       "  ensembl_gene_id gene_id        \n",
       "1 ENSG00000204531 ENSG00000204531\n",
       "2 ENSG00000179344 ENSG00000179344\n",
       "3 ENSG00000179344 ENSG00000179344\n",
       "4 ENSG00000179344 ENSG00000179344\n",
       "5 ENSG00000148291 ENSG00000148291\n",
       "6 ENSG00000148291 ENSG00000148291"
      ]
     },
     "metadata": {},
     "output_type": "display_data"
    }
   ],
   "source": [
    "head(gtex_tagging)"
   ]
  },
  {
   "cell_type": "code",
   "execution_count": 67,
   "metadata": {
    "scrolled": true
   },
   "outputs": [
    {
     "data": {
      "text/html": [
       "610"
      ],
      "text/latex": [
       "610"
      ],
      "text/markdown": [
       "610"
      ],
      "text/plain": [
       "[1] 610"
      ]
     },
     "metadata": {},
     "output_type": "display_data"
    },
    {
     "data": {
      "text/html": [
       "<table>\n",
       "<thead><tr><th></th><th scope=col>feature</th><th scope=col>snp_id</th><th scope=col>stage</th><th scope=col>beta.mean</th><th scope=col>beta_se</th><th scope=col>empirical_feature_p_value</th><th scope=col>p_value.mean</th><th scope=col>global_corr_p_value</th><th scope=col>snp_chromosome</th><th scope=col>snp_position</th><th scope=col>⋯</th><th scope=col>Whole_Blood_Variant</th><th scope=col>Whole_Blood_Annotation</th><th scope=col>Whole_Blood_LD</th><th scope=col>ipsc_hipsci_eqtls_mirauta2018_Variant</th><th scope=col>ipsc_hipsci_eqtls_mirauta2018_Annotation</th><th scope=col>ipsc_hipsci_eqtls_mirauta2018_LD</th><th scope=col>how_many_tissues</th><th scope=col>eqtls</th><th scope=col>ensembl_gene_id</th><th scope=col>gene_id</th></tr></thead>\n",
       "<tbody>\n",
       "\t<tr><th scope=row>2</th><td>ENSG00000179344_HLA-DQB1                                                                                                                           </td><td>6_32634922_A_G                                                                                                                                     </td><td>ips                                                                                                                                                </td><td>-1.2707861                                                                                                                                         </td><td>0.1469673                                                                                                                                          </td><td>1.977147e-11                                                                                                                                       </td><td>5.299864e-18                                                                                                                                       </td><td>1.340269e-09                                                                                                                                       </td><td>6                                                                                                                                                  </td><td> 32634922                                                                                                                                          </td><td>⋯                                                                                                                                                  </td><td>{6_32608508};{6_32526526};{6_32627082};{6_32607558}                                                                                                </td><td>{6_32608508_A_T_b37-ENSG00000196735};{6_32526526_A_G_b37-ENSG00000198502};{6_32627082_A_G_b37-ENSG00000223534};{6_32607558_A_G_b37-ENSG00000232629}</td><td>{0.4062001050131084};{0.36551405659243374};{0.7164536068532416};{0.2915903443713935}                                                               </td><td>-                                                                                                                                                  </td><td>-                                                                                                                                                  </td><td>-                                                                                                                                                  </td><td>49                                                                                                                                                 </td><td>-6_32634922_A_G                                                                                                                                    </td><td>ENSG00000179344                                                                                                                                    </td><td>ENSG00000179344                                                                                                                                    </td></tr>\n",
       "\t<tr><th scope=row>3</th><td>ENSG00000179344_HLA-DQB1                                                                                                                           </td><td>6_32634922_A_G                                                                                                                                     </td><td>mesendo                                                                                                                                            </td><td>-1.3759876                                                                                                                                         </td><td>0.1478612                                                                                                                                          </td><td>8.485500e-15                                                                                                                                       </td><td>1.328104e-20                                                                                                                                       </td><td>1.519887e-12                                                                                                                                       </td><td>6                                                                                                                                                  </td><td> 32634922                                                                                                                                          </td><td>⋯                                                                                                                                                  </td><td>{6_32608508};{6_32526526};{6_32627082};{6_32607558}                                                                                                </td><td>{6_32608508_A_T_b37-ENSG00000196735};{6_32526526_A_G_b37-ENSG00000198502};{6_32627082_A_G_b37-ENSG00000223534};{6_32607558_A_G_b37-ENSG00000232629}</td><td>{0.4062001050131084};{0.36551405659243374};{0.7164536068532416};{0.2915903443713935}                                                               </td><td>-                                                                                                                                                  </td><td>-                                                                                                                                                  </td><td>-                                                                                                                                                  </td><td>49                                                                                                                                                 </td><td>-6_32634922_A_G                                                                                                                                    </td><td>ENSG00000179344                                                                                                                                    </td><td>ENSG00000179344                                                                                                                                    </td></tr>\n",
       "\t<tr><th scope=row>4</th><td>ENSG00000179344_HLA-DQB1                                                                                                                           </td><td>6_32634922_A_G                                                                                                                                     </td><td>defendo                                                                                                                                            </td><td>-1.4383794                                                                                                                                         </td><td>0.1499301                                                                                                                                          </td><td>3.298243e-12                                                                                                                                       </td><td>8.500689e-22                                                                                                                                       </td><td>5.981274e-10                                                                                                                                       </td><td>6                                                                                                                                                  </td><td> 32634922                                                                                                                                          </td><td>⋯                                                                                                                                                  </td><td>{6_32608508};{6_32526526};{6_32627082};{6_32607558}                                                                                                </td><td>{6_32608508_A_T_b37-ENSG00000196735};{6_32526526_A_G_b37-ENSG00000198502};{6_32627082_A_G_b37-ENSG00000223534};{6_32607558_A_G_b37-ENSG00000232629}</td><td>{0.4062001050131084};{0.36551405659243374};{0.7164536068532416};{0.2915903443713935}                                                               </td><td>-                                                                                                                                                  </td><td>-                                                                                                                                                  </td><td>-                                                                                                                                                  </td><td>49                                                                                                                                                 </td><td>-6_32634922_A_G                                                                                                                                    </td><td>ENSG00000179344                                                                                                                                    </td><td>ENSG00000179344                                                                                                                                    </td></tr>\n",
       "\t<tr><th scope=row>16</th><td>ENSG00000254870_ATP6V1G2-DDX39B                                                                                                                    </td><td>6_31486901_T_C                                                                                                                                     </td><td>ips                                                                                                                                                </td><td>-1.5054851                                                                                                                                         </td><td>0.1145010                                                                                                                                          </td><td>6.144848e-23                                                                                                                                       </td><td>1.742136e-39                                                                                                                                       </td><td>4.873599e-20                                                                                                                                       </td><td>6                                                                                                                                                  </td><td> 31486901                                                                                                                                          </td><td>⋯                                                                                                                                                  </td><td>{6_31226769};{6_31509372};{6_31646683}                                                                                                             </td><td>{6_31226769_T_C_b37-ENSG00000243753};{6_31509372_G_A_b37-ENSG00000213760};{6_31646683_A_G_b37-ENSG00000213722}                                     </td><td>{0.20640111692592972};{0.7056191036210315};{0.4129870645272648}                                                                                    </td><td>{6_31486901}                                                                                                                                       </td><td>{6_31486901_T_C-ENSG00000198563}                                                                                                                   </td><td>{0.9999999999999992}                                                                                                                               </td><td>40                                                                                                                                                 </td><td>-6_31486901_T_C                                                                                                                                    </td><td>ENSG00000254870                                                                                                                                    </td><td>ENSG00000254870                                                                                                                                    </td></tr>\n",
       "\t<tr><th scope=row>17</th><td>ENSG00000254870_ATP6V1G2-DDX39B                                                                                                                    </td><td>6_31486901_T_C                                                                                                                                     </td><td>defendo                                                                                                                                            </td><td>-1.2581014                                                                                                                                         </td><td>0.1233977                                                                                                                                          </td><td>9.515953e-19                                                                                                                                       </td><td>2.076756e-24                                                                                                                                       </td><td>6.163186e-16                                                                                                                                       </td><td>6                                                                                                                                                  </td><td> 31486901                                                                                                                                          </td><td>⋯                                                                                                                                                  </td><td>{6_31226769};{6_31509372};{6_31646683}                                                                                                             </td><td>{6_31226769_T_C_b37-ENSG00000243753};{6_31509372_G_A_b37-ENSG00000213760};{6_31646683_A_G_b37-ENSG00000213722}                                     </td><td>{0.20640111692592972};{0.7056191036210315};{0.4129870645272648}                                                                                    </td><td>{6_31486901}                                                                                                                                       </td><td>{6_31486901_T_C-ENSG00000198563}                                                                                                                   </td><td>{0.9999999999999992}                                                                                                                               </td><td>40                                                                                                                                                 </td><td>-6_31486901_T_C                                                                                                                                    </td><td>ENSG00000254870                                                                                                                                    </td><td>ENSG00000254870                                                                                                                                    </td></tr>\n",
       "\t<tr><th scope=row>41</th><td>ENSG00000145725_PPIP5K2                                                                                                                            </td><td>5_102473141_T_C                                                                                                                                    </td><td>ips                                                                                                                                                </td><td> 0.9848858                                                                                                                                         </td><td>0.1067839                                                                                                                                          </td><td>6.176528e-17                                                                                                                                       </td><td>2.884576e-20                                                                                                                                       </td><td>1.224682e-14                                                                                                                                       </td><td>5                                                                                                                                                  </td><td>102473141                                                                                                                                          </td><td>⋯                                                                                                                                                  </td><td>{5_102118079};{5_102407374}                                                                                                                        </td><td>{5_102118079_C_T_b37-ENSG00000145730};{5_102407374_G_A_b37-ENSG00000145725}                                                                        </td><td>{0.34422006757570456};{0.975212039023744}                                                                                                          </td><td>{5_102352034};{5_102391465}                                                                                                                        </td><td>{5_102352034_A_C-ENSG00000145723};{5_102391465_C_T-ENSG00000145725}                                                                                </td><td>{0.9491261121014748};{0.9708510558687157}                                                                                                          </td><td>37                                                                                                                                                 </td><td>-5_102473141_T_C                                                                                                                                   </td><td>ENSG00000145725                                                                                                                                    </td><td>ENSG00000145725                                                                                                                                    </td></tr>\n",
       "</tbody>\n",
       "</table>\n"
      ],
      "text/latex": [
       "\\begin{tabular}{r|llllllllllllllllllllllllllllllllllllllllllllllllllllllllllllllllllllllllllllllllllllllllllllllllllllllllllllllllllllllllllllllllllllllllllllllllllllllllllllllllllllllllllllllllllllll}\n",
       "  & feature & snp\\_id & stage & beta.mean & beta\\_se & empirical\\_feature\\_p\\_value & p\\_value.mean & global\\_corr\\_p\\_value & snp\\_chromosome & snp\\_position & ⋯ & Whole\\_Blood\\_Variant & Whole\\_Blood\\_Annotation & Whole\\_Blood\\_LD & ipsc\\_hipsci\\_eqtls\\_mirauta2018\\_Variant & ipsc\\_hipsci\\_eqtls\\_mirauta2018\\_Annotation & ipsc\\_hipsci\\_eqtls\\_mirauta2018\\_LD & how\\_many\\_tissues & eqtls & ensembl\\_gene\\_id & gene\\_id\\\\\n",
       "\\hline\n",
       "\t2 & ENSG00000179344\\_HLA-DQB1                                                                                                                                                                          & 6\\_32634922\\_A\\_G                                                                                                                                                                                & ips                                                                                                                                                                                                 & -1.2707861                                                                                                                                                                                          & 0.1469673                                                                                                                                                                                           & 1.977147e-11                                                                                                                                                                                        & 5.299864e-18                                                                                                                                                                                        & 1.340269e-09                                                                                                                                                                                        & 6                                                                                                                                                                                                   &  32634922                                                                                                                                                                                           & ⋯                                                                                                                                                                                                   & \\{6\\_32608508\\};\\{6\\_32526526\\};\\{6\\_32627082\\};\\{6\\_32607558\\}                                                                                                                         & \\{6\\_32608508\\_A\\_T\\_b37-ENSG00000196735\\};\\{6\\_32526526\\_A\\_G\\_b37-ENSG00000198502\\};\\{6\\_32627082\\_A\\_G\\_b37-ENSG00000223534\\};\\{6\\_32607558\\_A\\_G\\_b37-ENSG00000232629\\} & \\{0.4062001050131084\\};\\{0.36551405659243374\\};\\{0.7164536068532416\\};\\{0.2915903443713935\\}                                                                                                & -                                                                                                                                                                                                   & -                                                                                                                                                                                                   & -                                                                                                                                                                                                   & 49                                                                                                                                                                                                  & -6\\_32634922\\_A\\_G                                                                                                                                                                               & ENSG00000179344                                                                                                                                                                                     & ENSG00000179344                                                                                                                                                                                    \\\\\n",
       "\t3 & ENSG00000179344\\_HLA-DQB1                                                                                                                                                                          & 6\\_32634922\\_A\\_G                                                                                                                                                                                & mesendo                                                                                                                                                                                             & -1.3759876                                                                                                                                                                                          & 0.1478612                                                                                                                                                                                           & 8.485500e-15                                                                                                                                                                                        & 1.328104e-20                                                                                                                                                                                        & 1.519887e-12                                                                                                                                                                                        & 6                                                                                                                                                                                                   &  32634922                                                                                                                                                                                           & ⋯                                                                                                                                                                                                   & \\{6\\_32608508\\};\\{6\\_32526526\\};\\{6\\_32627082\\};\\{6\\_32607558\\}                                                                                                                         & \\{6\\_32608508\\_A\\_T\\_b37-ENSG00000196735\\};\\{6\\_32526526\\_A\\_G\\_b37-ENSG00000198502\\};\\{6\\_32627082\\_A\\_G\\_b37-ENSG00000223534\\};\\{6\\_32607558\\_A\\_G\\_b37-ENSG00000232629\\} & \\{0.4062001050131084\\};\\{0.36551405659243374\\};\\{0.7164536068532416\\};\\{0.2915903443713935\\}                                                                                                & -                                                                                                                                                                                                   & -                                                                                                                                                                                                   & -                                                                                                                                                                                                   & 49                                                                                                                                                                                                  & -6\\_32634922\\_A\\_G                                                                                                                                                                               & ENSG00000179344                                                                                                                                                                                     & ENSG00000179344                                                                                                                                                                                    \\\\\n",
       "\t4 & ENSG00000179344\\_HLA-DQB1                                                                                                                                                                          & 6\\_32634922\\_A\\_G                                                                                                                                                                                & defendo                                                                                                                                                                                             & -1.4383794                                                                                                                                                                                          & 0.1499301                                                                                                                                                                                           & 3.298243e-12                                                                                                                                                                                        & 8.500689e-22                                                                                                                                                                                        & 5.981274e-10                                                                                                                                                                                        & 6                                                                                                                                                                                                   &  32634922                                                                                                                                                                                           & ⋯                                                                                                                                                                                                   & \\{6\\_32608508\\};\\{6\\_32526526\\};\\{6\\_32627082\\};\\{6\\_32607558\\}                                                                                                                         & \\{6\\_32608508\\_A\\_T\\_b37-ENSG00000196735\\};\\{6\\_32526526\\_A\\_G\\_b37-ENSG00000198502\\};\\{6\\_32627082\\_A\\_G\\_b37-ENSG00000223534\\};\\{6\\_32607558\\_A\\_G\\_b37-ENSG00000232629\\} & \\{0.4062001050131084\\};\\{0.36551405659243374\\};\\{0.7164536068532416\\};\\{0.2915903443713935\\}                                                                                                & -                                                                                                                                                                                                   & -                                                                                                                                                                                                   & -                                                                                                                                                                                                   & 49                                                                                                                                                                                                  & -6\\_32634922\\_A\\_G                                                                                                                                                                               & ENSG00000179344                                                                                                                                                                                     & ENSG00000179344                                                                                                                                                                                    \\\\\n",
       "\t16 & ENSG00000254870\\_ATP6V1G2-DDX39B                                                                                                                                                       & 6\\_31486901\\_T\\_C                                                                                                                                                                    & ips                                                                                                                                                                                     & -1.5054851                                                                                                                                                                              & 0.1145010                                                                                                                                                                               & 6.144848e-23                                                                                                                                                                            & 1.742136e-39                                                                                                                                                                            & 4.873599e-20                                                                                                                                                                            & 6                                                                                                                                                                                       &  31486901                                                                                                                                                                               & ⋯                                                                                                                                                                                       & \\{6\\_31226769\\};\\{6\\_31509372\\};\\{6\\_31646683\\}                                                                                                                                & \\{6\\_31226769\\_T\\_C\\_b37-ENSG00000243753\\};\\{6\\_31509372\\_G\\_A\\_b37-ENSG00000213760\\};\\{6\\_31646683\\_A\\_G\\_b37-ENSG00000213722\\}                                      & \\{0.20640111692592972\\};\\{0.7056191036210315\\};\\{0.4129870645272648\\}                                                                                                             & \\{6\\_31486901\\}                                                                                                                                                                      & \\{6\\_31486901\\_T\\_C-ENSG00000198563\\}                                                                                                                                              & \\{0.9999999999999992\\}                                                                                                                                                                & 40                                                                                                                                                                                      & -6\\_31486901\\_T\\_C                                                                                                                                                                   & ENSG00000254870                                                                                                                                                                         & ENSG00000254870                                                                                                                                                                        \\\\\n",
       "\t17 & ENSG00000254870\\_ATP6V1G2-DDX39B                                                                                                                                                       & 6\\_31486901\\_T\\_C                                                                                                                                                                    & defendo                                                                                                                                                                                 & -1.2581014                                                                                                                                                                              & 0.1233977                                                                                                                                                                               & 9.515953e-19                                                                                                                                                                            & 2.076756e-24                                                                                                                                                                            & 6.163186e-16                                                                                                                                                                            & 6                                                                                                                                                                                       &  31486901                                                                                                                                                                               & ⋯                                                                                                                                                                                       & \\{6\\_31226769\\};\\{6\\_31509372\\};\\{6\\_31646683\\}                                                                                                                                & \\{6\\_31226769\\_T\\_C\\_b37-ENSG00000243753\\};\\{6\\_31509372\\_G\\_A\\_b37-ENSG00000213760\\};\\{6\\_31646683\\_A\\_G\\_b37-ENSG00000213722\\}                                      & \\{0.20640111692592972\\};\\{0.7056191036210315\\};\\{0.4129870645272648\\}                                                                                                             & \\{6\\_31486901\\}                                                                                                                                                                      & \\{6\\_31486901\\_T\\_C-ENSG00000198563\\}                                                                                                                                              & \\{0.9999999999999992\\}                                                                                                                                                                & 40                                                                                                                                                                                      & -6\\_31486901\\_T\\_C                                                                                                                                                                   & ENSG00000254870                                                                                                                                                                         & ENSG00000254870                                                                                                                                                                        \\\\\n",
       "\t41 & ENSG00000145725\\_PPIP5K2                                                                                                                                                   & 5\\_102473141\\_T\\_C                                                                                                                                                       & ips                                                                                                                                                                         &  0.9848858                                                                                                                                                                  & 0.1067839                                                                                                                                                                   & 6.176528e-17                                                                                                                                                                & 2.884576e-20                                                                                                                                                                & 1.224682e-14                                                                                                                                                                & 5                                                                                                                                                                           & 102473141                                                                                                                                                                   & ⋯                                                                                                                                                                           & \\{5\\_102118079\\};\\{5\\_102407374\\}                                                                                                                                     & \\{5\\_102118079\\_C\\_T\\_b37-ENSG00000145730\\};\\{5\\_102407374\\_G\\_A\\_b37-ENSG00000145725\\}                                                                         & \\{0.34422006757570456\\};\\{0.975212039023744\\}                                                                                                                           & \\{5\\_102352034\\};\\{5\\_102391465\\}                                                                                                                                     & \\{5\\_102352034\\_A\\_C-ENSG00000145723\\};\\{5\\_102391465\\_C\\_T-ENSG00000145725\\}                                                                                     & \\{0.9491261121014748\\};\\{0.9708510558687157\\}                                                                                                                           & 37                                                                                                                                                                          & -5\\_102473141\\_T\\_C                                                                                                                                                      & ENSG00000145725                                                                                                                                                             & ENSG00000145725                                                                                                                                                            \\\\\n",
       "\\end{tabular}\n"
      ],
      "text/markdown": [
       "\n",
       "| <!--/--> | feature | snp_id | stage | beta.mean | beta_se | empirical_feature_p_value | p_value.mean | global_corr_p_value | snp_chromosome | snp_position | ⋯ | Whole_Blood_Variant | Whole_Blood_Annotation | Whole_Blood_LD | ipsc_hipsci_eqtls_mirauta2018_Variant | ipsc_hipsci_eqtls_mirauta2018_Annotation | ipsc_hipsci_eqtls_mirauta2018_LD | how_many_tissues | eqtls | ensembl_gene_id | gene_id | \n",
       "|---|---|---|---|---|---|\n",
       "| 2 | ENSG00000179344_HLA-DQB1                                                                                                                            | 6_32634922_A_G                                                                                                                                      | ips                                                                                                                                                 | -1.2707861                                                                                                                                          | 0.1469673                                                                                                                                           | 1.977147e-11                                                                                                                                        | 5.299864e-18                                                                                                                                        | 1.340269e-09                                                                                                                                        | 6                                                                                                                                                   |  32634922                                                                                                                                           | ⋯                                                                                                                                                   | {6_32608508};{6_32526526};{6_32627082};{6_32607558}                                                                                                 | {6_32608508_A_T_b37-ENSG00000196735};{6_32526526_A_G_b37-ENSG00000198502};{6_32627082_A_G_b37-ENSG00000223534};{6_32607558_A_G_b37-ENSG00000232629} | {0.4062001050131084};{0.36551405659243374};{0.7164536068532416};{0.2915903443713935}                                                                | -                                                                                                                                                   | -                                                                                                                                                   | -                                                                                                                                                   | 49                                                                                                                                                  | -6_32634922_A_G                                                                                                                                     | ENSG00000179344                                                                                                                                     | ENSG00000179344                                                                                                                                     | \n",
       "| 3 | ENSG00000179344_HLA-DQB1                                                                                                                            | 6_32634922_A_G                                                                                                                                      | mesendo                                                                                                                                             | -1.3759876                                                                                                                                          | 0.1478612                                                                                                                                           | 8.485500e-15                                                                                                                                        | 1.328104e-20                                                                                                                                        | 1.519887e-12                                                                                                                                        | 6                                                                                                                                                   |  32634922                                                                                                                                           | ⋯                                                                                                                                                   | {6_32608508};{6_32526526};{6_32627082};{6_32607558}                                                                                                 | {6_32608508_A_T_b37-ENSG00000196735};{6_32526526_A_G_b37-ENSG00000198502};{6_32627082_A_G_b37-ENSG00000223534};{6_32607558_A_G_b37-ENSG00000232629} | {0.4062001050131084};{0.36551405659243374};{0.7164536068532416};{0.2915903443713935}                                                                | -                                                                                                                                                   | -                                                                                                                                                   | -                                                                                                                                                   | 49                                                                                                                                                  | -6_32634922_A_G                                                                                                                                     | ENSG00000179344                                                                                                                                     | ENSG00000179344                                                                                                                                     | \n",
       "| 4 | ENSG00000179344_HLA-DQB1                                                                                                                            | 6_32634922_A_G                                                                                                                                      | defendo                                                                                                                                             | -1.4383794                                                                                                                                          | 0.1499301                                                                                                                                           | 3.298243e-12                                                                                                                                        | 8.500689e-22                                                                                                                                        | 5.981274e-10                                                                                                                                        | 6                                                                                                                                                   |  32634922                                                                                                                                           | ⋯                                                                                                                                                   | {6_32608508};{6_32526526};{6_32627082};{6_32607558}                                                                                                 | {6_32608508_A_T_b37-ENSG00000196735};{6_32526526_A_G_b37-ENSG00000198502};{6_32627082_A_G_b37-ENSG00000223534};{6_32607558_A_G_b37-ENSG00000232629} | {0.4062001050131084};{0.36551405659243374};{0.7164536068532416};{0.2915903443713935}                                                                | -                                                                                                                                                   | -                                                                                                                                                   | -                                                                                                                                                   | 49                                                                                                                                                  | -6_32634922_A_G                                                                                                                                     | ENSG00000179344                                                                                                                                     | ENSG00000179344                                                                                                                                     | \n",
       "| 16 | ENSG00000254870_ATP6V1G2-DDX39B                                                                                                                     | 6_31486901_T_C                                                                                                                                      | ips                                                                                                                                                 | -1.5054851                                                                                                                                          | 0.1145010                                                                                                                                           | 6.144848e-23                                                                                                                                        | 1.742136e-39                                                                                                                                        | 4.873599e-20                                                                                                                                        | 6                                                                                                                                                   |  31486901                                                                                                                                           | ⋯                                                                                                                                                   | {6_31226769};{6_31509372};{6_31646683}                                                                                                              | {6_31226769_T_C_b37-ENSG00000243753};{6_31509372_G_A_b37-ENSG00000213760};{6_31646683_A_G_b37-ENSG00000213722}                                      | {0.20640111692592972};{0.7056191036210315};{0.4129870645272648}                                                                                     | {6_31486901}                                                                                                                                        | {6_31486901_T_C-ENSG00000198563}                                                                                                                    | {0.9999999999999992}                                                                                                                                | 40                                                                                                                                                  | -6_31486901_T_C                                                                                                                                     | ENSG00000254870                                                                                                                                     | ENSG00000254870                                                                                                                                     | \n",
       "| 17 | ENSG00000254870_ATP6V1G2-DDX39B                                                                                                                     | 6_31486901_T_C                                                                                                                                      | defendo                                                                                                                                             | -1.2581014                                                                                                                                          | 0.1233977                                                                                                                                           | 9.515953e-19                                                                                                                                        | 2.076756e-24                                                                                                                                        | 6.163186e-16                                                                                                                                        | 6                                                                                                                                                   |  31486901                                                                                                                                           | ⋯                                                                                                                                                   | {6_31226769};{6_31509372};{6_31646683}                                                                                                              | {6_31226769_T_C_b37-ENSG00000243753};{6_31509372_G_A_b37-ENSG00000213760};{6_31646683_A_G_b37-ENSG00000213722}                                      | {0.20640111692592972};{0.7056191036210315};{0.4129870645272648}                                                                                     | {6_31486901}                                                                                                                                        | {6_31486901_T_C-ENSG00000198563}                                                                                                                    | {0.9999999999999992}                                                                                                                                | 40                                                                                                                                                  | -6_31486901_T_C                                                                                                                                     | ENSG00000254870                                                                                                                                     | ENSG00000254870                                                                                                                                     | \n",
       "| 41 | ENSG00000145725_PPIP5K2                                                                                                                             | 5_102473141_T_C                                                                                                                                     | ips                                                                                                                                                 |  0.9848858                                                                                                                                          | 0.1067839                                                                                                                                           | 6.176528e-17                                                                                                                                        | 2.884576e-20                                                                                                                                        | 1.224682e-14                                                                                                                                        | 5                                                                                                                                                   | 102473141                                                                                                                                           | ⋯                                                                                                                                                   | {5_102118079};{5_102407374}                                                                                                                         | {5_102118079_C_T_b37-ENSG00000145730};{5_102407374_G_A_b37-ENSG00000145725}                                                                         | {0.34422006757570456};{0.975212039023744}                                                                                                           | {5_102352034};{5_102391465}                                                                                                                         | {5_102352034_A_C-ENSG00000145723};{5_102391465_C_T-ENSG00000145725}                                                                                 | {0.9491261121014748};{0.9708510558687157}                                                                                                           | 37                                                                                                                                                  | -5_102473141_T_C                                                                                                                                    | ENSG00000145725                                                                                                                                     | ENSG00000145725                                                                                                                                     | \n",
       "\n",
       "\n"
      ],
      "text/plain": [
       "   feature                         snp_id          stage   beta.mean  beta_se  \n",
       "2  ENSG00000179344_HLA-DQB1        6_32634922_A_G  ips     -1.2707861 0.1469673\n",
       "3  ENSG00000179344_HLA-DQB1        6_32634922_A_G  mesendo -1.3759876 0.1478612\n",
       "4  ENSG00000179344_HLA-DQB1        6_32634922_A_G  defendo -1.4383794 0.1499301\n",
       "16 ENSG00000254870_ATP6V1G2-DDX39B 6_31486901_T_C  ips     -1.5054851 0.1145010\n",
       "17 ENSG00000254870_ATP6V1G2-DDX39B 6_31486901_T_C  defendo -1.2581014 0.1233977\n",
       "41 ENSG00000145725_PPIP5K2         5_102473141_T_C ips      0.9848858 0.1067839\n",
       "   empirical_feature_p_value p_value.mean global_corr_p_value snp_chromosome\n",
       "2  1.977147e-11              5.299864e-18 1.340269e-09        6             \n",
       "3  8.485500e-15              1.328104e-20 1.519887e-12        6             \n",
       "4  3.298243e-12              8.500689e-22 5.981274e-10        6             \n",
       "16 6.144848e-23              1.742136e-39 4.873599e-20        6             \n",
       "17 9.515953e-19              2.076756e-24 6.163186e-16        6             \n",
       "41 6.176528e-17              2.884576e-20 1.224682e-14        5             \n",
       "   snp_position ⋯ Whole_Blood_Variant                                \n",
       "2   32634922    ⋯ {6_32608508};{6_32526526};{6_32627082};{6_32607558}\n",
       "3   32634922    ⋯ {6_32608508};{6_32526526};{6_32627082};{6_32607558}\n",
       "4   32634922    ⋯ {6_32608508};{6_32526526};{6_32627082};{6_32607558}\n",
       "16  31486901    ⋯ {6_31226769};{6_31509372};{6_31646683}             \n",
       "17  31486901    ⋯ {6_31226769};{6_31509372};{6_31646683}             \n",
       "41 102473141    ⋯ {5_102118079};{5_102407374}                        \n",
       "   Whole_Blood_Annotation                                                                                                                             \n",
       "2  {6_32608508_A_T_b37-ENSG00000196735};{6_32526526_A_G_b37-ENSG00000198502};{6_32627082_A_G_b37-ENSG00000223534};{6_32607558_A_G_b37-ENSG00000232629}\n",
       "3  {6_32608508_A_T_b37-ENSG00000196735};{6_32526526_A_G_b37-ENSG00000198502};{6_32627082_A_G_b37-ENSG00000223534};{6_32607558_A_G_b37-ENSG00000232629}\n",
       "4  {6_32608508_A_T_b37-ENSG00000196735};{6_32526526_A_G_b37-ENSG00000198502};{6_32627082_A_G_b37-ENSG00000223534};{6_32607558_A_G_b37-ENSG00000232629}\n",
       "16 {6_31226769_T_C_b37-ENSG00000243753};{6_31509372_G_A_b37-ENSG00000213760};{6_31646683_A_G_b37-ENSG00000213722}                                     \n",
       "17 {6_31226769_T_C_b37-ENSG00000243753};{6_31509372_G_A_b37-ENSG00000213760};{6_31646683_A_G_b37-ENSG00000213722}                                     \n",
       "41 {5_102118079_C_T_b37-ENSG00000145730};{5_102407374_G_A_b37-ENSG00000145725}                                                                        \n",
       "   Whole_Blood_LD                                                                      \n",
       "2  {0.4062001050131084};{0.36551405659243374};{0.7164536068532416};{0.2915903443713935}\n",
       "3  {0.4062001050131084};{0.36551405659243374};{0.7164536068532416};{0.2915903443713935}\n",
       "4  {0.4062001050131084};{0.36551405659243374};{0.7164536068532416};{0.2915903443713935}\n",
       "16 {0.20640111692592972};{0.7056191036210315};{0.4129870645272648}                     \n",
       "17 {0.20640111692592972};{0.7056191036210315};{0.4129870645272648}                     \n",
       "41 {0.34422006757570456};{0.975212039023744}                                           \n",
       "   ipsc_hipsci_eqtls_mirauta2018_Variant\n",
       "2  -                                    \n",
       "3  -                                    \n",
       "4  -                                    \n",
       "16 {6_31486901}                         \n",
       "17 {6_31486901}                         \n",
       "41 {5_102352034};{5_102391465}          \n",
       "   ipsc_hipsci_eqtls_mirauta2018_Annotation                           \n",
       "2  -                                                                  \n",
       "3  -                                                                  \n",
       "4  -                                                                  \n",
       "16 {6_31486901_T_C-ENSG00000198563}                                   \n",
       "17 {6_31486901_T_C-ENSG00000198563}                                   \n",
       "41 {5_102352034_A_C-ENSG00000145723};{5_102391465_C_T-ENSG00000145725}\n",
       "   ipsc_hipsci_eqtls_mirauta2018_LD          how_many_tissues eqtls           \n",
       "2  -                                         49               -6_32634922_A_G \n",
       "3  -                                         49               -6_32634922_A_G \n",
       "4  -                                         49               -6_32634922_A_G \n",
       "16 {0.9999999999999992}                      40               -6_31486901_T_C \n",
       "17 {0.9999999999999992}                      40               -6_31486901_T_C \n",
       "41 {0.9491261121014748};{0.9708510558687157} 37               -5_102473141_T_C\n",
       "   ensembl_gene_id gene_id        \n",
       "2  ENSG00000179344 ENSG00000179344\n",
       "3  ENSG00000179344 ENSG00000179344\n",
       "4  ENSG00000179344 ENSG00000179344\n",
       "16 ENSG00000254870 ENSG00000254870\n",
       "17 ENSG00000254870 ENSG00000254870\n",
       "41 ENSG00000145725 ENSG00000145725"
      ]
     },
     "metadata": {},
     "output_type": "display_data"
    }
   ],
   "source": [
    "gwas_tagging = gtex_tagging[gtex_tagging$GWAS_LD != \"-\",]\n",
    "nrow(gwas_tagging)\n",
    "head(gwas_tagging)"
   ]
  },
  {
   "cell_type": "code",
   "execution_count": 68,
   "metadata": {},
   "outputs": [
    {
     "data": {
      "text/html": [
       "37"
      ],
      "text/latex": [
       "37"
      ],
      "text/markdown": [
       "37"
      ],
      "text/plain": [
       "[1] 37"
      ]
     },
     "metadata": {},
     "output_type": "display_data"
    }
   ],
   "source": [
    "gwas_tagging$gene_id = gsub(\"*_.*\", \"\", gwas_tagging$feature)\n",
    "gwas_dynamic = inner_join(clusters, gwas_tagging, by = c(\"gene_id\",\"snp_id\"))\n",
    "nrow(gwas_dynamic)"
   ]
  },
  {
   "cell_type": "code",
   "execution_count": 69,
   "metadata": {},
   "outputs": [
    {
     "data": {
      "text/html": [
       "30"
      ],
      "text/latex": [
       "30"
      ],
      "text/markdown": [
       "30"
      ],
      "text/plain": [
       "[1] 30"
      ]
     },
     "metadata": {},
     "output_type": "display_data"
    }
   ],
   "source": [
    "length(unique(gwas_dynamic$feature))"
   ]
  },
  {
   "cell_type": "code",
   "execution_count": 70,
   "metadata": {},
   "outputs": [
    {
     "data": {
      "text/html": [
       "<table>\n",
       "<thead><tr><th></th><th scope=col>feature</th><th scope=col>snp_id</th><th scope=col>stage</th><th scope=col>beta.mean</th><th scope=col>p_value.mean</th><th scope=col>global_corr_p_value</th><th scope=col>GWAS_LD</th><th scope=col>GWAS_Variant</th></tr></thead>\n",
       "<tbody>\n",
       "\t<tr><th scope=row>13</th><td>ENSG00000131187_F12                                                                                     </td><td>5_176841339_T_C                                                                                         </td><td>defendo                                                                                                 </td><td>-0.3439831                                                                                              </td><td>3.174729e-04                                                                                            </td><td>3.641933e-02                                                                                            </td><td>{1.0};{0.9197852929722292};{0.9197852929722292};{0.9086970618984077};{0.9166260177317646}               </td><td>{5_176841339};{5_176839898};{5_176839890};{5_176836532};{5_176842474}                                   </td></tr>\n",
       "\t<tr><th scope=row>4</th><td>ENSG00000124588_NQO2                                                                                    </td><td>6_3003970_A_G                                                                                           </td><td>ips                                                                                                     </td><td>-1.0877112                                                                                              </td><td>2.627552e-21                                                                                            </td><td>2.249982e-11                                                                                            </td><td>{1.0}                                                                                                   </td><td>{6_3003970}                                                                                             </td></tr>\n",
       "\t<tr><th scope=row>5</th><td>ENSG00000124588_NQO2                                                                                    </td><td>6_3003970_A_G                                                                                           </td><td>defendo                                                                                                 </td><td>-0.8510047                                                                                              </td><td>9.971248e-16                                                                                            </td><td>2.082157e-10                                                                                            </td><td>{1.0}                                                                                                   </td><td>{6_3003970}                                                                                             </td></tr>\n",
       "\t<tr><th scope=row>3</th><td>ENSG00000105793_GTPBP10                                                                                 </td><td>7_89977760_A_G                                                                                          </td><td>ips                                                                                                     </td><td> 0.3083512                                                                                              </td><td>1.485008e-05                                                                                            </td><td>2.889887e-02                                                                                            </td><td>{0.9999999999999998}                                                                                    </td><td>{7_89977760}                                                                                            </td></tr>\n",
       "\t<tr><th scope=row>8</th><td>ENSG00000139835_GRTP1                                                                                   </td><td>13_114015015_A_G                                                                                        </td><td>defendo                                                                                                 </td><td> 0.5137721                                                                                              </td><td>3.893592e-08                                                                                            </td><td>6.935748e-04                                                                                            </td><td>{0.9962613523687008}                                                                                    </td><td>{13_114016886}                                                                                          </td></tr>\n",
       "\t<tr><th scope=row>1</th><td>ENSG00000140545_MFGE8                                                                                   </td><td>15_89443301_G_A                                                                                         </td><td>mesendo                                                                                                 </td><td>-0.6729337                                                                                              </td><td>2.911170e-13                                                                                            </td><td>1.190423e-06                                                                                            </td><td>{0.9956804266987197}                                                                                    </td><td>{15_89445651}                                                                                           </td></tr>\n",
       "\t<tr><th scope=row>2</th><td>ENSG00000140545_MFGE8                                                                                   </td><td>15_89443301_G_A                                                                                         </td><td>defendo                                                                                                 </td><td>-0.5436680                                                                                              </td><td>9.364515e-12                                                                                            </td><td>8.352166e-08                                                                                            </td><td>{0.9956804266987197}                                                                                    </td><td>{15_89445651}                                                                                           </td></tr>\n",
       "\t<tr><th scope=row>35</th><td>ENSG00000172469_MANEA                                                                                   </td><td>6_96033762_T_G                                                                                          </td><td>ips                                                                                                     </td><td>-0.4391191                                                                                              </td><td>9.810099e-07                                                                                            </td><td>3.127396e-03                                                                                            </td><td>{0.9935975175097204}                                                                                    </td><td>{6_96031111}                                                                                            </td></tr>\n",
       "\t<tr><th scope=row>36</th><td>ENSG00000172469_MANEA                                                                                   </td><td>6_96033762_T_G                                                                                          </td><td>mesendo                                                                                                 </td><td>-0.5774525                                                                                              </td><td>1.075435e-08                                                                                            </td><td>2.229983e-04                                                                                            </td><td>{0.9935975175097204}                                                                                    </td><td>{6_96031111}                                                                                            </td></tr>\n",
       "\t<tr><th scope=row>21</th><td>ENSG00000107798_LIPA                                                                                    </td><td>10_91004886_A_G                                                                                         </td><td>ips                                                                                                     </td><td>-0.5295583                                                                                              </td><td>2.759715e-12                                                                                            </td><td>2.936897e-06                                                                                            </td><td>{0.9918865717151631};{0.9637722935126676};{0.9905559661657224};{0.997295199567232};{0.9999999999999999} </td><td>{10_91003419};{10_91002927};{10_91008879};{10_91004916};{10_91004886}                                   </td></tr>\n",
       "\t<tr><th scope=row>34</th><td>ENSG00000168291_PDHB                                                                                    </td><td>3_58419944_C_T                                                                                          </td><td>ips                                                                                                     </td><td> 0.6141157                                                                                              </td><td>1.963403e-16                                                                                            </td><td>2.905254e-10                                                                                            </td><td>{0.9881761581081854};{0.9881414093963574}                                                               </td><td>{3_58374029};{3_58456811}                                                                               </td></tr>\n",
       "\t<tr><th scope=row>14</th><td>ENSG00000173226_IQCB1                                                                                   </td><td>3_121542898_T_C                                                                                         </td><td>defendo                                                                                                 </td><td> 0.3392532                                                                                              </td><td>2.616150e-05                                                                                            </td><td>1.987452e-02                                                                                            </td><td>{0.985311658631714}                                                                                     </td><td>{3_121543577}                                                                                           </td></tr>\n",
       "\t<tr><th scope=row>6</th><td>ENSG00000137944_CCBL2                                                                                   </td><td>1_89373371_T_C                                                                                          </td><td>ips                                                                                                     </td><td>-0.3888929                                                                                              </td><td>1.542185e-16                                                                                            </td><td>6.898559e-13                                                                                            </td><td>{0.9839616366640199};{0.9975162188211217}                                                               </td><td>{1_89412372};{1_89382664}                                                                               </td></tr>\n",
       "\t<tr><th scope=row>24</th><td>ENSG00000124614_RPS10                                                                                   </td><td>6_34393845_G_A                                                                                          </td><td>mesendo                                                                                                 </td><td>-0.7288068                                                                                              </td><td>2.103897e-14                                                                                            </td><td>8.470785e-11                                                                                            </td><td>{0.9740106363423351}                                                                                    </td><td>{6_34302869}                                                                                            </td></tr>\n",
       "\t<tr><th scope=row>25</th><td>ENSG00000124614_RPS10                                                                                   </td><td>6_34393845_G_A                                                                                          </td><td>defendo                                                                                                 </td><td>-0.7551645                                                                                              </td><td>9.695883e-14                                                                                            </td><td>1.859773e-09                                                                                            </td><td>{0.9740106363423351}                                                                                    </td><td>{6_34302869}                                                                                            </td></tr>\n",
       "\t<tr><th scope=row>20</th><td>ENSG00000151725_CENPU                                                                                   </td><td>4_185620108_G_T                                                                                         </td><td>ips                                                                                                     </td><td>-0.7400533                                                                                              </td><td>4.930603e-18                                                                                            </td><td>1.018472e-08                                                                                            </td><td>{0.9734978422780035}                                                                                    </td><td>{4_185639169}                                                                                           </td></tr>\n",
       "\t<tr><th scope=row>26</th><td>ENSG00000031691_CENPQ                                                                                   </td><td>6_49357126_T_G                                                                                          </td><td>ips                                                                                                     </td><td> 0.5174218                                                                                              </td><td>5.104882e-10                                                                                            </td><td>7.163770e-05                                                                                            </td><td>{0.9730444822057748}                                                                                    </td><td>{6_49382193}                                                                                            </td></tr>\n",
       "\t<tr><th scope=row>7</th><td>ENSG00000101000_PROCR                                                                                   </td><td>20_33730464_A_G                                                                                         </td><td>ips                                                                                                     </td><td>-0.5383589                                                                                              </td><td>4.117095e-10                                                                                            </td><td>2.829173e-05                                                                                            </td><td>{0.9195897945420258}                                                                                    </td><td>{20_33789142}                                                                                           </td></tr>\n",
       "\t<tr><th scope=row>9</th><td>ENSG00000151552_QDPR                                                                                    </td><td>4_17531084_A_G                                                                                          </td><td>ips                                                                                                     </td><td>-0.6767623                                                                                              </td><td>2.067859e-18                                                                                            </td><td>5.890902e-10                                                                                            </td><td>{0.9151881320115159}                                                                                    </td><td>{4_17520066}                                                                                            </td></tr>\n",
       "\t<tr><th scope=row>15</th><td>ENSG00000197728_RPS26                                                                                   </td><td>12_56401085_G_A                                                                                         </td><td>ips                                                                                                     </td><td>-0.8408477                                                                                              </td><td>9.762508e-30                                                                                            </td><td>8.853960e-23                                                                                            </td><td>{0.9086578445310003};{0.9999999999999998};{0.8871944798453143};{0.9846248502082993};{0.8802746114261513}</td><td>{12_56394954};{12_56401085};{12_56384804};{12_56435929};{12_56470625}                                   </td></tr>\n",
       "\t<tr><th scope=row>16</th><td>ENSG00000197728_RPS26                                                                                   </td><td>12_56401085_G_A                                                                                         </td><td>defendo                                                                                                 </td><td>-0.7332921                                                                                              </td><td>1.394685e-15                                                                                            </td><td>3.945584e-15                                                                                            </td><td>{0.9086578445310003};{0.9999999999999998};{0.8871944798453143};{0.9846248502082993};{0.8802746114261513}</td><td>{12_56394954};{12_56401085};{12_56384804};{12_56435929};{12_56470625}                                   </td></tr>\n",
       "\t<tr><th scope=row>31</th><td>ENSG00000081059_TCF7                                                                                    </td><td>5_133452495_C_T                                                                                         </td><td>mesendo                                                                                                 </td><td> 0.2797504                                                                                              </td><td>2.838062e-04                                                                                            </td><td>8.936504e-02                                                                                            </td><td>{0.9080408242789064}                                                                                    </td><td>{5_133446575}                                                                                           </td></tr>\n",
       "\t<tr><th scope=row>29</th><td>ENSG00000158825_CDA                                                                                     </td><td>1_20915172_C_T                                                                                          </td><td>ips                                                                                                     </td><td> 0.6943732                                                                                              </td><td>1.775733e-11                                                                                            </td><td>5.505158e-07                                                                                            </td><td>{0.9060273699654446}                                                                                    </td><td>{1_20916238}                                                                                            </td></tr>\n",
       "\t<tr><th scope=row>17</th><td>ENSG00000011523_CEP68                                                                                   </td><td>2_65279223_C_T                                                                                          </td><td>ips                                                                                                     </td><td> 0.2723853                                                                                              </td><td>3.254731e-05                                                                                            </td><td>3.294921e-02                                                                                            </td><td>{0.9042749271657056};{0.8914375752689322};{0.9945677273235299};{0.9042749271657056}                     </td><td>{2_65279805};{2_65283972};{2_65284623};{2_65284231}                                                     </td></tr>\n",
       "\t<tr><th scope=row>18</th><td>ENSG00000189114_BLOC1S3                                                                                 </td><td>19_45664218_A_G                                                                                         </td><td>ips                                                                                                     </td><td> 0.6375687                                                                                              </td><td>4.041242e-12                                                                                            </td><td>4.065268e-07                                                                                            </td><td>{0.9016481526182379}                                                                                    </td><td>{19_45624303}                                                                                           </td></tr>\n",
       "\t<tr><th scope=row>19</th><td>ENSG00000189114_BLOC1S3                                                                                 </td><td>19_45664218_A_G                                                                                         </td><td>mesendo                                                                                                 </td><td> 0.7691507                                                                                              </td><td>4.263956e-10                                                                                            </td><td>6.312506e-05                                                                                            </td><td>{0.9016481526182379}                                                                                    </td><td>{19_45624303}                                                                                           </td></tr>\n",
       "\t<tr><th scope=row>37</th><td>ENSG00000086504_MRPL28                                                                                  </td><td>16_423420_C_T                                                                                           </td><td>defendo                                                                                                 </td><td>-0.3269067                                                                                              </td><td>4.094354e-04                                                                                            </td><td>7.264331e-02                                                                                            </td><td>{0.8518525791834879}                                                                                    </td><td>{16_423813}                                                                                             </td></tr>\n",
       "\t<tr><th scope=row>22</th><td>ENSG00000167645_YIF1B                                                                                   </td><td>19_38787965_A_G                                                                                         </td><td>ips                                                                                                     </td><td> 0.3698454                                                                                              </td><td>9.820481e-08                                                                                            </td><td>1.143969e-03                                                                                            </td><td>{0.8516493292012313}                                                                                    </td><td>{19_38791841}                                                                                           </td></tr>\n",
       "\t<tr><th scope=row>30</th><td>ENSG00000177951_BET1L                                                                                   </td><td>11_214169_T_C                                                                                           </td><td>defendo                                                                                                 </td><td>-0.7385240                                                                                              </td><td>7.051728e-15                                                                                            </td><td>4.923932e-13                                                                                            </td><td>{0.8451866902365918}                                                                                    </td><td>{11_229977}                                                                                             </td></tr>\n",
       "\t<tr><th scope=row>27</th><td>ENSG00000117122_MFAP2                                                                                   </td><td>1_17306029_C_A                                                                                          </td><td>ips                                                                                                     </td><td> 0.4254083                                                                                              </td><td>3.180085e-09                                                                                            </td><td>2.766551e-05                                                                                            </td><td>{0.8320696076504636};{0.9950414241276291};{0.8223836455837735}                                          </td><td>{1_17328200};{1_17306675};{1_17315425}                                                                  </td></tr>\n",
       "\t<tr><th scope=row>28</th><td>ENSG00000117122_MFAP2                                                                                   </td><td>1_17306029_C_A                                                                                          </td><td>defendo                                                                                                 </td><td> 0.3802731                                                                                              </td><td>2.826793e-06                                                                                            </td><td>8.600157e-03                                                                                            </td><td>{0.8320696076504636};{0.9950414241276291};{0.8223836455837735}                                          </td><td>{1_17328200};{1_17306675};{1_17315425}                                                                  </td></tr>\n",
       "\t<tr><th scope=row>11</th><td>ENSG00000103811_CTSH                                                                                    </td><td>15_79229199_A_G                                                                                         </td><td>defendo                                                                                                 </td><td> 0.4220796                                                                                              </td><td>6.048476e-04                                                                                            </td><td>7.319254e-02                                                                                            </td><td>{0.8319377958723948};{0.8080755368859691}                                                               </td><td>{15_79234957};{15_79237293}                                                                             </td></tr>\n",
       "\t<tr><th scope=row>23</th><td>ENSG00000167641_PPP1R14A                                                                                </td><td>19_38735804_A_T                                                                                         </td><td>ips                                                                                                     </td><td>-0.4961645                                                                                              </td><td>2.284138e-14                                                                                            </td><td>3.930952e-11                                                                                            </td><td>{0.8296373815794623}                                                                                    </td><td>{19_38735613}                                                                                           </td></tr>\n",
       "\t<tr><th scope=row>33</th><td>ENSG00000135074_ADAM19                                                                                  </td><td>5_156752957_A_G                                                                                         </td><td>ips                                                                                                     </td><td>-0.8665265                                                                                              </td><td>5.111265e-10                                                                                            </td><td>1.630504e-05                                                                                            </td><td>{0.825122853632922}                                                                                     </td><td>{5_156810072}                                                                                           </td></tr>\n",
       "\t<tr><th scope=row>12</th><td>ENSG00000120256_LRP11                                                                                   </td><td>6_150167871_T_C                                                                                         </td><td>defendo                                                                                                 </td><td> 0.3908105                                                                                              </td><td>2.913166e-06                                                                                            </td><td>4.218412e-02                                                                                            </td><td>{0.8098776450378113}                                                                                    </td><td>{6_149972132}                                                                                           </td></tr>\n",
       "\t<tr><th scope=row>10</th><td>ENSG00000144580_RQCD1                                                                                   </td><td>2_219391672_C_T                                                                                         </td><td>ips                                                                                                     </td><td> 0.1457381                                                                                              </td><td>4.140600e-05                                                                                            </td><td>3.876854e-03                                                                                            </td><td>{0.8079745104365206};{0.8941369994848068};{0.9033533317400646};{0.8383180787971085}                     </td><td>{2_219557738};{2_219472325};{2_219349752};{2_219279097}                                                 </td></tr>\n",
       "\t<tr><th scope=row>32</th><td>ENSG00000155363_MOV10                                                                                   </td><td>1_113196896_G_A                                                                                         </td><td>mesendo                                                                                                 </td><td>-0.6552912                                                                                              </td><td>1.593150e-07                                                                                            </td><td>8.372124e-04                                                                                            </td><td>{0.8029537568008502};{0.8127147910462368};{0.820249395355589};{0.8127147910462368}                      </td><td>{1_113236681};{1_113190807};{1_113055023};{1_113202571}                                                 </td></tr>\n",
       "</tbody>\n",
       "</table>\n"
      ],
      "text/latex": [
       "\\begin{tabular}{r|llllllll}\n",
       "  & feature & snp\\_id & stage & beta.mean & p\\_value.mean & global\\_corr\\_p\\_value & GWAS\\_LD & GWAS\\_Variant\\\\\n",
       "\\hline\n",
       "\t13 & ENSG00000131187\\_F12                                                                                                        & 5\\_176841339\\_T\\_C                                                                                                        & defendo                                                                                                                      & -0.3439831                                                                                                                   & 3.174729e-04                                                                                                                 & 3.641933e-02                                                                                                                 & \\{1.0\\};\\{0.9197852929722292\\};\\{0.9197852929722292\\};\\{0.9086970618984077\\};\\{0.9166260177317646\\}                & \\{5\\_176841339\\};\\{5\\_176839898\\};\\{5\\_176839890\\};\\{5\\_176836532\\};\\{5\\_176842474\\}                         \\\\\n",
       "\t4 & ENSG00000124588\\_NQO2                                                                                       & 6\\_3003970\\_A\\_G                                                                                          & ips                                                                                                          & -1.0877112                                                                                                   & 2.627552e-21                                                                                                 & 2.249982e-11                                                                                                 & \\{1.0\\}                                                                                                    & \\{6\\_3003970\\}                                                                                           \\\\\n",
       "\t5 & ENSG00000124588\\_NQO2                                                                                       & 6\\_3003970\\_A\\_G                                                                                          & defendo                                                                                                      & -0.8510047                                                                                                   & 9.971248e-16                                                                                                 & 2.082157e-10                                                                                                 & \\{1.0\\}                                                                                                    & \\{6\\_3003970\\}                                                                                           \\\\\n",
       "\t3 & ENSG00000105793\\_GTPBP10                                                                                    & 7\\_89977760\\_A\\_G                                                                                         & ips                                                                                                          &  0.3083512                                                                                                   & 1.485008e-05                                                                                                 & 2.889887e-02                                                                                                 & \\{0.9999999999999998\\}                                                                                     & \\{7\\_89977760\\}                                                                                          \\\\\n",
       "\t8 & ENSG00000139835\\_GRTP1                                                                                      & 13\\_114015015\\_A\\_G                                                                                       & defendo                                                                                                      &  0.5137721                                                                                                   & 3.893592e-08                                                                                                 & 6.935748e-04                                                                                                 & \\{0.9962613523687008\\}                                                                                     & \\{13\\_114016886\\}                                                                                        \\\\\n",
       "\t1 & ENSG00000140545\\_MFGE8                                                                                      & 15\\_89443301\\_G\\_A                                                                                        & mesendo                                                                                                      & -0.6729337                                                                                                   & 2.911170e-13                                                                                                 & 1.190423e-06                                                                                                 & \\{0.9956804266987197\\}                                                                                     & \\{15\\_89445651\\}                                                                                         \\\\\n",
       "\t2 & ENSG00000140545\\_MFGE8                                                                                      & 15\\_89443301\\_G\\_A                                                                                        & defendo                                                                                                      & -0.5436680                                                                                                   & 9.364515e-12                                                                                                 & 8.352166e-08                                                                                                 & \\{0.9956804266987197\\}                                                                                     & \\{15\\_89445651\\}                                                                                         \\\\\n",
       "\t35 & ENSG00000172469\\_MANEA                                                                                      & 6\\_96033762\\_T\\_G                                                                                         & ips                                                                                                          & -0.4391191                                                                                                   & 9.810099e-07                                                                                                 & 3.127396e-03                                                                                                 & \\{0.9935975175097204\\}                                                                                     & \\{6\\_96031111\\}                                                                                          \\\\\n",
       "\t36 & ENSG00000172469\\_MANEA                                                                                      & 6\\_96033762\\_T\\_G                                                                                         & mesendo                                                                                                      & -0.5774525                                                                                                   & 1.075435e-08                                                                                                 & 2.229983e-04                                                                                                 & \\{0.9935975175097204\\}                                                                                     & \\{6\\_96031111\\}                                                                                          \\\\\n",
       "\t21 & ENSG00000107798\\_LIPA                                                                                                       & 10\\_91004886\\_A\\_G                                                                                                        & ips                                                                                                                          & -0.5295583                                                                                                                   & 2.759715e-12                                                                                                                 & 2.936897e-06                                                                                                                 & \\{0.9918865717151631\\};\\{0.9637722935126676\\};\\{0.9905559661657224\\};\\{0.997295199567232\\};\\{0.9999999999999999\\}  & \\{10\\_91003419\\};\\{10\\_91002927\\};\\{10\\_91008879\\};\\{10\\_91004916\\};\\{10\\_91004886\\}                         \\\\\n",
       "\t34 & ENSG00000168291\\_PDHB                                                                                           & 3\\_58419944\\_C\\_T                                                                                             & ips                                                                                                              &  0.6141157                                                                                                       & 1.963403e-16                                                                                                     & 2.905254e-10                                                                                                     & \\{0.9881761581081854\\};\\{0.9881414093963574\\}                                                                & \\{3\\_58374029\\};\\{3\\_58456811\\}                                                                           \\\\\n",
       "\t14 & ENSG00000173226\\_IQCB1                                                                                      & 3\\_121542898\\_T\\_C                                                                                        & defendo                                                                                                      &  0.3392532                                                                                                   & 2.616150e-05                                                                                                 & 1.987452e-02                                                                                                 & \\{0.985311658631714\\}                                                                                      & \\{3\\_121543577\\}                                                                                         \\\\\n",
       "\t6 & ENSG00000137944\\_CCBL2                                                                                          & 1\\_89373371\\_T\\_C                                                                                             & ips                                                                                                              & -0.3888929                                                                                                       & 1.542185e-16                                                                                                     & 6.898559e-13                                                                                                     & \\{0.9839616366640199\\};\\{0.9975162188211217\\}                                                                & \\{1\\_89412372\\};\\{1\\_89382664\\}                                                                           \\\\\n",
       "\t24 & ENSG00000124614\\_RPS10                                                                                      & 6\\_34393845\\_G\\_A                                                                                         & mesendo                                                                                                      & -0.7288068                                                                                                   & 2.103897e-14                                                                                                 & 8.470785e-11                                                                                                 & \\{0.9740106363423351\\}                                                                                     & \\{6\\_34302869\\}                                                                                          \\\\\n",
       "\t25 & ENSG00000124614\\_RPS10                                                                                      & 6\\_34393845\\_G\\_A                                                                                         & defendo                                                                                                      & -0.7551645                                                                                                   & 9.695883e-14                                                                                                 & 1.859773e-09                                                                                                 & \\{0.9740106363423351\\}                                                                                     & \\{6\\_34302869\\}                                                                                          \\\\\n",
       "\t20 & ENSG00000151725\\_CENPU                                                                                      & 4\\_185620108\\_G\\_T                                                                                        & ips                                                                                                          & -0.7400533                                                                                                   & 4.930603e-18                                                                                                 & 1.018472e-08                                                                                                 & \\{0.9734978422780035\\}                                                                                     & \\{4\\_185639169\\}                                                                                         \\\\\n",
       "\t26 & ENSG00000031691\\_CENPQ                                                                                      & 6\\_49357126\\_T\\_G                                                                                         & ips                                                                                                          &  0.5174218                                                                                                   & 5.104882e-10                                                                                                 & 7.163770e-05                                                                                                 & \\{0.9730444822057748\\}                                                                                     & \\{6\\_49382193\\}                                                                                          \\\\\n",
       "\t7 & ENSG00000101000\\_PROCR                                                                                      & 20\\_33730464\\_A\\_G                                                                                        & ips                                                                                                          & -0.5383589                                                                                                   & 4.117095e-10                                                                                                 & 2.829173e-05                                                                                                 & \\{0.9195897945420258\\}                                                                                     & \\{20\\_33789142\\}                                                                                         \\\\\n",
       "\t9 & ENSG00000151552\\_QDPR                                                                                       & 4\\_17531084\\_A\\_G                                                                                         & ips                                                                                                          & -0.6767623                                                                                                   & 2.067859e-18                                                                                                 & 5.890902e-10                                                                                                 & \\{0.9151881320115159\\}                                                                                     & \\{4\\_17520066\\}                                                                                          \\\\\n",
       "\t15 & ENSG00000197728\\_RPS26                                                                                                      & 12\\_56401085\\_G\\_A                                                                                                        & ips                                                                                                                          & -0.8408477                                                                                                                   & 9.762508e-30                                                                                                                 & 8.853960e-23                                                                                                                 & \\{0.9086578445310003\\};\\{0.9999999999999998\\};\\{0.8871944798453143\\};\\{0.9846248502082993\\};\\{0.8802746114261513\\} & \\{12\\_56394954\\};\\{12\\_56401085\\};\\{12\\_56384804\\};\\{12\\_56435929\\};\\{12\\_56470625\\}                         \\\\\n",
       "\t16 & ENSG00000197728\\_RPS26                                                                                                      & 12\\_56401085\\_G\\_A                                                                                                        & defendo                                                                                                                      & -0.7332921                                                                                                                   & 1.394685e-15                                                                                                                 & 3.945584e-15                                                                                                                 & \\{0.9086578445310003\\};\\{0.9999999999999998\\};\\{0.8871944798453143\\};\\{0.9846248502082993\\};\\{0.8802746114261513\\} & \\{12\\_56394954\\};\\{12\\_56401085\\};\\{12\\_56384804\\};\\{12\\_56435929\\};\\{12\\_56470625\\}                         \\\\\n",
       "\t31 & ENSG00000081059\\_TCF7                                                                                       & 5\\_133452495\\_C\\_T                                                                                        & mesendo                                                                                                      &  0.2797504                                                                                                   & 2.838062e-04                                                                                                 & 8.936504e-02                                                                                                 & \\{0.9080408242789064\\}                                                                                     & \\{5\\_133446575\\}                                                                                         \\\\\n",
       "\t29 & ENSG00000158825\\_CDA                                                                                        & 1\\_20915172\\_C\\_T                                                                                         & ips                                                                                                          &  0.6943732                                                                                                   & 1.775733e-11                                                                                                 & 5.505158e-07                                                                                                 & \\{0.9060273699654446\\}                                                                                     & \\{1\\_20916238\\}                                                                                          \\\\\n",
       "\t17 & ENSG00000011523\\_CEP68                                                                                                  & 2\\_65279223\\_C\\_T                                                                                                     & ips                                                                                                                      &  0.2723853                                                                                                               & 3.254731e-05                                                                                                             & 3.294921e-02                                                                                                             & \\{0.9042749271657056\\};\\{0.8914375752689322\\};\\{0.9945677273235299\\};\\{0.9042749271657056\\}                      & \\{2\\_65279805\\};\\{2\\_65283972\\};\\{2\\_65284623\\};\\{2\\_65284231\\}                                             \\\\\n",
       "\t18 & ENSG00000189114\\_BLOC1S3                                                                                    & 19\\_45664218\\_A\\_G                                                                                        & ips                                                                                                          &  0.6375687                                                                                                   & 4.041242e-12                                                                                                 & 4.065268e-07                                                                                                 & \\{0.9016481526182379\\}                                                                                     & \\{19\\_45624303\\}                                                                                         \\\\\n",
       "\t19 & ENSG00000189114\\_BLOC1S3                                                                                    & 19\\_45664218\\_A\\_G                                                                                        & mesendo                                                                                                      &  0.7691507                                                                                                   & 4.263956e-10                                                                                                 & 6.312506e-05                                                                                                 & \\{0.9016481526182379\\}                                                                                     & \\{19\\_45624303\\}                                                                                         \\\\\n",
       "\t37 & ENSG00000086504\\_MRPL28                                                                                     & 16\\_423420\\_C\\_T                                                                                          & defendo                                                                                                      & -0.3269067                                                                                                   & 4.094354e-04                                                                                                 & 7.264331e-02                                                                                                 & \\{0.8518525791834879\\}                                                                                     & \\{16\\_423813\\}                                                                                           \\\\\n",
       "\t22 & ENSG00000167645\\_YIF1B                                                                                      & 19\\_38787965\\_A\\_G                                                                                        & ips                                                                                                          &  0.3698454                                                                                                   & 9.820481e-08                                                                                                 & 1.143969e-03                                                                                                 & \\{0.8516493292012313\\}                                                                                     & \\{19\\_38791841\\}                                                                                         \\\\\n",
       "\t30 & ENSG00000177951\\_BET1L                                                                                      & 11\\_214169\\_T\\_C                                                                                          & defendo                                                                                                      & -0.7385240                                                                                                   & 7.051728e-15                                                                                                 & 4.923932e-13                                                                                                 & \\{0.8451866902365918\\}                                                                                     & \\{11\\_229977\\}                                                                                           \\\\\n",
       "\t27 & ENSG00000117122\\_MFAP2                                                                                              & 1\\_17306029\\_C\\_A                                                                                                 & ips                                                                                                                  &  0.4254083                                                                                                           & 3.180085e-09                                                                                                         & 2.766551e-05                                                                                                         & \\{0.8320696076504636\\};\\{0.9950414241276291\\};\\{0.8223836455837735\\}                                           & \\{1\\_17328200\\};\\{1\\_17306675\\};\\{1\\_17315425\\}                                                            \\\\\n",
       "\t28 & ENSG00000117122\\_MFAP2                                                                                              & 1\\_17306029\\_C\\_A                                                                                                 & defendo                                                                                                              &  0.3802731                                                                                                           & 2.826793e-06                                                                                                         & 8.600157e-03                                                                                                         & \\{0.8320696076504636\\};\\{0.9950414241276291\\};\\{0.8223836455837735\\}                                           & \\{1\\_17328200\\};\\{1\\_17306675\\};\\{1\\_17315425\\}                                                            \\\\\n",
       "\t11 & ENSG00000103811\\_CTSH                                                                                           & 15\\_79229199\\_A\\_G                                                                                            & defendo                                                                                                          &  0.4220796                                                                                                       & 6.048476e-04                                                                                                     & 7.319254e-02                                                                                                     & \\{0.8319377958723948\\};\\{0.8080755368859691\\}                                                                & \\{15\\_79234957\\};\\{15\\_79237293\\}                                                                         \\\\\n",
       "\t23 & ENSG00000167641\\_PPP1R14A                                                                                   & 19\\_38735804\\_A\\_T                                                                                        & ips                                                                                                          & -0.4961645                                                                                                   & 2.284138e-14                                                                                                 & 3.930952e-11                                                                                                 & \\{0.8296373815794623\\}                                                                                     & \\{19\\_38735613\\}                                                                                         \\\\\n",
       "\t33 & ENSG00000135074\\_ADAM19                                                                                     & 5\\_156752957\\_A\\_G                                                                                        & ips                                                                                                          & -0.8665265                                                                                                   & 5.111265e-10                                                                                                 & 1.630504e-05                                                                                                 & \\{0.825122853632922\\}                                                                                      & \\{5\\_156810072\\}                                                                                         \\\\\n",
       "\t12 & ENSG00000120256\\_LRP11                                                                                      & 6\\_150167871\\_T\\_C                                                                                        & defendo                                                                                                      &  0.3908105                                                                                                   & 2.913166e-06                                                                                                 & 4.218412e-02                                                                                                 & \\{0.8098776450378113\\}                                                                                     & \\{6\\_149972132\\}                                                                                         \\\\\n",
       "\t10 & ENSG00000144580\\_RQCD1                                                                                                  & 2\\_219391672\\_C\\_T                                                                                                    & ips                                                                                                                      &  0.1457381                                                                                                               & 4.140600e-05                                                                                                             & 3.876854e-03                                                                                                             & \\{0.8079745104365206\\};\\{0.8941369994848068\\};\\{0.9033533317400646\\};\\{0.8383180787971085\\}                      & \\{2\\_219557738\\};\\{2\\_219472325\\};\\{2\\_219349752\\};\\{2\\_219279097\\}                                         \\\\\n",
       "\t32 & ENSG00000155363\\_MOV10                                                                                                  & 1\\_113196896\\_G\\_A                                                                                                    & mesendo                                                                                                                  & -0.6552912                                                                                                               & 1.593150e-07                                                                                                             & 8.372124e-04                                                                                                             & \\{0.8029537568008502\\};\\{0.8127147910462368\\};\\{0.820249395355589\\};\\{0.8127147910462368\\}                       & \\{1\\_113236681\\};\\{1\\_113190807\\};\\{1\\_113055023\\};\\{1\\_113202571\\}                                         \\\\\n",
       "\\end{tabular}\n"
      ],
      "text/markdown": [
       "\n",
       "| <!--/--> | feature | snp_id | stage | beta.mean | p_value.mean | global_corr_p_value | GWAS_LD | GWAS_Variant | \n",
       "|---|---|---|---|---|---|---|---|---|---|---|---|---|---|---|---|---|---|---|---|---|---|---|---|---|---|---|---|---|---|---|---|---|---|---|---|---|\n",
       "| 13 | ENSG00000131187_F12                                                                                      | 5_176841339_T_C                                                                                          | defendo                                                                                                  | -0.3439831                                                                                               | 3.174729e-04                                                                                             | 3.641933e-02                                                                                             | {1.0};{0.9197852929722292};{0.9197852929722292};{0.9086970618984077};{0.9166260177317646}                | {5_176841339};{5_176839898};{5_176839890};{5_176836532};{5_176842474}                                    | \n",
       "| 4 | ENSG00000124588_NQO2                                                                                     | 6_3003970_A_G                                                                                            | ips                                                                                                      | -1.0877112                                                                                               | 2.627552e-21                                                                                             | 2.249982e-11                                                                                             | {1.0}                                                                                                    | {6_3003970}                                                                                              | \n",
       "| 5 | ENSG00000124588_NQO2                                                                                     | 6_3003970_A_G                                                                                            | defendo                                                                                                  | -0.8510047                                                                                               | 9.971248e-16                                                                                             | 2.082157e-10                                                                                             | {1.0}                                                                                                    | {6_3003970}                                                                                              | \n",
       "| 3 | ENSG00000105793_GTPBP10                                                                                  | 7_89977760_A_G                                                                                           | ips                                                                                                      |  0.3083512                                                                                               | 1.485008e-05                                                                                             | 2.889887e-02                                                                                             | {0.9999999999999998}                                                                                     | {7_89977760}                                                                                             | \n",
       "| 8 | ENSG00000139835_GRTP1                                                                                    | 13_114015015_A_G                                                                                         | defendo                                                                                                  |  0.5137721                                                                                               | 3.893592e-08                                                                                             | 6.935748e-04                                                                                             | {0.9962613523687008}                                                                                     | {13_114016886}                                                                                           | \n",
       "| 1 | ENSG00000140545_MFGE8                                                                                    | 15_89443301_G_A                                                                                          | mesendo                                                                                                  | -0.6729337                                                                                               | 2.911170e-13                                                                                             | 1.190423e-06                                                                                             | {0.9956804266987197}                                                                                     | {15_89445651}                                                                                            | \n",
       "| 2 | ENSG00000140545_MFGE8                                                                                    | 15_89443301_G_A                                                                                          | defendo                                                                                                  | -0.5436680                                                                                               | 9.364515e-12                                                                                             | 8.352166e-08                                                                                             | {0.9956804266987197}                                                                                     | {15_89445651}                                                                                            | \n",
       "| 35 | ENSG00000172469_MANEA                                                                                    | 6_96033762_T_G                                                                                           | ips                                                                                                      | -0.4391191                                                                                               | 9.810099e-07                                                                                             | 3.127396e-03                                                                                             | {0.9935975175097204}                                                                                     | {6_96031111}                                                                                             | \n",
       "| 36 | ENSG00000172469_MANEA                                                                                    | 6_96033762_T_G                                                                                           | mesendo                                                                                                  | -0.5774525                                                                                               | 1.075435e-08                                                                                             | 2.229983e-04                                                                                             | {0.9935975175097204}                                                                                     | {6_96031111}                                                                                             | \n",
       "| 21 | ENSG00000107798_LIPA                                                                                     | 10_91004886_A_G                                                                                          | ips                                                                                                      | -0.5295583                                                                                               | 2.759715e-12                                                                                             | 2.936897e-06                                                                                             | {0.9918865717151631};{0.9637722935126676};{0.9905559661657224};{0.997295199567232};{0.9999999999999999}  | {10_91003419};{10_91002927};{10_91008879};{10_91004916};{10_91004886}                                    | \n",
       "| 34 | ENSG00000168291_PDHB                                                                                     | 3_58419944_C_T                                                                                           | ips                                                                                                      |  0.6141157                                                                                               | 1.963403e-16                                                                                             | 2.905254e-10                                                                                             | {0.9881761581081854};{0.9881414093963574}                                                                | {3_58374029};{3_58456811}                                                                                | \n",
       "| 14 | ENSG00000173226_IQCB1                                                                                    | 3_121542898_T_C                                                                                          | defendo                                                                                                  |  0.3392532                                                                                               | 2.616150e-05                                                                                             | 1.987452e-02                                                                                             | {0.985311658631714}                                                                                      | {3_121543577}                                                                                            | \n",
       "| 6 | ENSG00000137944_CCBL2                                                                                    | 1_89373371_T_C                                                                                           | ips                                                                                                      | -0.3888929                                                                                               | 1.542185e-16                                                                                             | 6.898559e-13                                                                                             | {0.9839616366640199};{0.9975162188211217}                                                                | {1_89412372};{1_89382664}                                                                                | \n",
       "| 24 | ENSG00000124614_RPS10                                                                                    | 6_34393845_G_A                                                                                           | mesendo                                                                                                  | -0.7288068                                                                                               | 2.103897e-14                                                                                             | 8.470785e-11                                                                                             | {0.9740106363423351}                                                                                     | {6_34302869}                                                                                             | \n",
       "| 25 | ENSG00000124614_RPS10                                                                                    | 6_34393845_G_A                                                                                           | defendo                                                                                                  | -0.7551645                                                                                               | 9.695883e-14                                                                                             | 1.859773e-09                                                                                             | {0.9740106363423351}                                                                                     | {6_34302869}                                                                                             | \n",
       "| 20 | ENSG00000151725_CENPU                                                                                    | 4_185620108_G_T                                                                                          | ips                                                                                                      | -0.7400533                                                                                               | 4.930603e-18                                                                                             | 1.018472e-08                                                                                             | {0.9734978422780035}                                                                                     | {4_185639169}                                                                                            | \n",
       "| 26 | ENSG00000031691_CENPQ                                                                                    | 6_49357126_T_G                                                                                           | ips                                                                                                      |  0.5174218                                                                                               | 5.104882e-10                                                                                             | 7.163770e-05                                                                                             | {0.9730444822057748}                                                                                     | {6_49382193}                                                                                             | \n",
       "| 7 | ENSG00000101000_PROCR                                                                                    | 20_33730464_A_G                                                                                          | ips                                                                                                      | -0.5383589                                                                                               | 4.117095e-10                                                                                             | 2.829173e-05                                                                                             | {0.9195897945420258}                                                                                     | {20_33789142}                                                                                            | \n",
       "| 9 | ENSG00000151552_QDPR                                                                                     | 4_17531084_A_G                                                                                           | ips                                                                                                      | -0.6767623                                                                                               | 2.067859e-18                                                                                             | 5.890902e-10                                                                                             | {0.9151881320115159}                                                                                     | {4_17520066}                                                                                             | \n",
       "| 15 | ENSG00000197728_RPS26                                                                                    | 12_56401085_G_A                                                                                          | ips                                                                                                      | -0.8408477                                                                                               | 9.762508e-30                                                                                             | 8.853960e-23                                                                                             | {0.9086578445310003};{0.9999999999999998};{0.8871944798453143};{0.9846248502082993};{0.8802746114261513} | {12_56394954};{12_56401085};{12_56384804};{12_56435929};{12_56470625}                                    | \n",
       "| 16 | ENSG00000197728_RPS26                                                                                    | 12_56401085_G_A                                                                                          | defendo                                                                                                  | -0.7332921                                                                                               | 1.394685e-15                                                                                             | 3.945584e-15                                                                                             | {0.9086578445310003};{0.9999999999999998};{0.8871944798453143};{0.9846248502082993};{0.8802746114261513} | {12_56394954};{12_56401085};{12_56384804};{12_56435929};{12_56470625}                                    | \n",
       "| 31 | ENSG00000081059_TCF7                                                                                     | 5_133452495_C_T                                                                                          | mesendo                                                                                                  |  0.2797504                                                                                               | 2.838062e-04                                                                                             | 8.936504e-02                                                                                             | {0.9080408242789064}                                                                                     | {5_133446575}                                                                                            | \n",
       "| 29 | ENSG00000158825_CDA                                                                                      | 1_20915172_C_T                                                                                           | ips                                                                                                      |  0.6943732                                                                                               | 1.775733e-11                                                                                             | 5.505158e-07                                                                                             | {0.9060273699654446}                                                                                     | {1_20916238}                                                                                             | \n",
       "| 17 | ENSG00000011523_CEP68                                                                                    | 2_65279223_C_T                                                                                           | ips                                                                                                      |  0.2723853                                                                                               | 3.254731e-05                                                                                             | 3.294921e-02                                                                                             | {0.9042749271657056};{0.8914375752689322};{0.9945677273235299};{0.9042749271657056}                      | {2_65279805};{2_65283972};{2_65284623};{2_65284231}                                                      | \n",
       "| 18 | ENSG00000189114_BLOC1S3                                                                                  | 19_45664218_A_G                                                                                          | ips                                                                                                      |  0.6375687                                                                                               | 4.041242e-12                                                                                             | 4.065268e-07                                                                                             | {0.9016481526182379}                                                                                     | {19_45624303}                                                                                            | \n",
       "| 19 | ENSG00000189114_BLOC1S3                                                                                  | 19_45664218_A_G                                                                                          | mesendo                                                                                                  |  0.7691507                                                                                               | 4.263956e-10                                                                                             | 6.312506e-05                                                                                             | {0.9016481526182379}                                                                                     | {19_45624303}                                                                                            | \n",
       "| 37 | ENSG00000086504_MRPL28                                                                                   | 16_423420_C_T                                                                                            | defendo                                                                                                  | -0.3269067                                                                                               | 4.094354e-04                                                                                             | 7.264331e-02                                                                                             | {0.8518525791834879}                                                                                     | {16_423813}                                                                                              | \n",
       "| 22 | ENSG00000167645_YIF1B                                                                                    | 19_38787965_A_G                                                                                          | ips                                                                                                      |  0.3698454                                                                                               | 9.820481e-08                                                                                             | 1.143969e-03                                                                                             | {0.8516493292012313}                                                                                     | {19_38791841}                                                                                            | \n",
       "| 30 | ENSG00000177951_BET1L                                                                                    | 11_214169_T_C                                                                                            | defendo                                                                                                  | -0.7385240                                                                                               | 7.051728e-15                                                                                             | 4.923932e-13                                                                                             | {0.8451866902365918}                                                                                     | {11_229977}                                                                                              | \n",
       "| 27 | ENSG00000117122_MFAP2                                                                                    | 1_17306029_C_A                                                                                           | ips                                                                                                      |  0.4254083                                                                                               | 3.180085e-09                                                                                             | 2.766551e-05                                                                                             | {0.8320696076504636};{0.9950414241276291};{0.8223836455837735}                                           | {1_17328200};{1_17306675};{1_17315425}                                                                   | \n",
       "| 28 | ENSG00000117122_MFAP2                                                                                    | 1_17306029_C_A                                                                                           | defendo                                                                                                  |  0.3802731                                                                                               | 2.826793e-06                                                                                             | 8.600157e-03                                                                                             | {0.8320696076504636};{0.9950414241276291};{0.8223836455837735}                                           | {1_17328200};{1_17306675};{1_17315425}                                                                   | \n",
       "| 11 | ENSG00000103811_CTSH                                                                                     | 15_79229199_A_G                                                                                          | defendo                                                                                                  |  0.4220796                                                                                               | 6.048476e-04                                                                                             | 7.319254e-02                                                                                             | {0.8319377958723948};{0.8080755368859691}                                                                | {15_79234957};{15_79237293}                                                                              | \n",
       "| 23 | ENSG00000167641_PPP1R14A                                                                                 | 19_38735804_A_T                                                                                          | ips                                                                                                      | -0.4961645                                                                                               | 2.284138e-14                                                                                             | 3.930952e-11                                                                                             | {0.8296373815794623}                                                                                     | {19_38735613}                                                                                            | \n",
       "| 33 | ENSG00000135074_ADAM19                                                                                   | 5_156752957_A_G                                                                                          | ips                                                                                                      | -0.8665265                                                                                               | 5.111265e-10                                                                                             | 1.630504e-05                                                                                             | {0.825122853632922}                                                                                      | {5_156810072}                                                                                            | \n",
       "| 12 | ENSG00000120256_LRP11                                                                                    | 6_150167871_T_C                                                                                          | defendo                                                                                                  |  0.3908105                                                                                               | 2.913166e-06                                                                                             | 4.218412e-02                                                                                             | {0.8098776450378113}                                                                                     | {6_149972132}                                                                                            | \n",
       "| 10 | ENSG00000144580_RQCD1                                                                                    | 2_219391672_C_T                                                                                          | ips                                                                                                      |  0.1457381                                                                                               | 4.140600e-05                                                                                             | 3.876854e-03                                                                                             | {0.8079745104365206};{0.8941369994848068};{0.9033533317400646};{0.8383180787971085}                      | {2_219557738};{2_219472325};{2_219349752};{2_219279097}                                                  | \n",
       "| 32 | ENSG00000155363_MOV10                                                                                    | 1_113196896_G_A                                                                                          | mesendo                                                                                                  | -0.6552912                                                                                               | 1.593150e-07                                                                                             | 8.372124e-04                                                                                             | {0.8029537568008502};{0.8127147910462368};{0.820249395355589};{0.8127147910462368}                       | {1_113236681};{1_113190807};{1_113055023};{1_113202571}                                                  | \n",
       "\n",
       "\n"
      ],
      "text/plain": [
       "   feature                  snp_id           stage   beta.mean  p_value.mean\n",
       "13 ENSG00000131187_F12      5_176841339_T_C  defendo -0.3439831 3.174729e-04\n",
       "4  ENSG00000124588_NQO2     6_3003970_A_G    ips     -1.0877112 2.627552e-21\n",
       "5  ENSG00000124588_NQO2     6_3003970_A_G    defendo -0.8510047 9.971248e-16\n",
       "3  ENSG00000105793_GTPBP10  7_89977760_A_G   ips      0.3083512 1.485008e-05\n",
       "8  ENSG00000139835_GRTP1    13_114015015_A_G defendo  0.5137721 3.893592e-08\n",
       "1  ENSG00000140545_MFGE8    15_89443301_G_A  mesendo -0.6729337 2.911170e-13\n",
       "2  ENSG00000140545_MFGE8    15_89443301_G_A  defendo -0.5436680 9.364515e-12\n",
       "35 ENSG00000172469_MANEA    6_96033762_T_G   ips     -0.4391191 9.810099e-07\n",
       "36 ENSG00000172469_MANEA    6_96033762_T_G   mesendo -0.5774525 1.075435e-08\n",
       "21 ENSG00000107798_LIPA     10_91004886_A_G  ips     -0.5295583 2.759715e-12\n",
       "34 ENSG00000168291_PDHB     3_58419944_C_T   ips      0.6141157 1.963403e-16\n",
       "14 ENSG00000173226_IQCB1    3_121542898_T_C  defendo  0.3392532 2.616150e-05\n",
       "6  ENSG00000137944_CCBL2    1_89373371_T_C   ips     -0.3888929 1.542185e-16\n",
       "24 ENSG00000124614_RPS10    6_34393845_G_A   mesendo -0.7288068 2.103897e-14\n",
       "25 ENSG00000124614_RPS10    6_34393845_G_A   defendo -0.7551645 9.695883e-14\n",
       "20 ENSG00000151725_CENPU    4_185620108_G_T  ips     -0.7400533 4.930603e-18\n",
       "26 ENSG00000031691_CENPQ    6_49357126_T_G   ips      0.5174218 5.104882e-10\n",
       "7  ENSG00000101000_PROCR    20_33730464_A_G  ips     -0.5383589 4.117095e-10\n",
       "9  ENSG00000151552_QDPR     4_17531084_A_G   ips     -0.6767623 2.067859e-18\n",
       "15 ENSG00000197728_RPS26    12_56401085_G_A  ips     -0.8408477 9.762508e-30\n",
       "16 ENSG00000197728_RPS26    12_56401085_G_A  defendo -0.7332921 1.394685e-15\n",
       "31 ENSG00000081059_TCF7     5_133452495_C_T  mesendo  0.2797504 2.838062e-04\n",
       "29 ENSG00000158825_CDA      1_20915172_C_T   ips      0.6943732 1.775733e-11\n",
       "17 ENSG00000011523_CEP68    2_65279223_C_T   ips      0.2723853 3.254731e-05\n",
       "18 ENSG00000189114_BLOC1S3  19_45664218_A_G  ips      0.6375687 4.041242e-12\n",
       "19 ENSG00000189114_BLOC1S3  19_45664218_A_G  mesendo  0.7691507 4.263956e-10\n",
       "37 ENSG00000086504_MRPL28   16_423420_C_T    defendo -0.3269067 4.094354e-04\n",
       "22 ENSG00000167645_YIF1B    19_38787965_A_G  ips      0.3698454 9.820481e-08\n",
       "30 ENSG00000177951_BET1L    11_214169_T_C    defendo -0.7385240 7.051728e-15\n",
       "27 ENSG00000117122_MFAP2    1_17306029_C_A   ips      0.4254083 3.180085e-09\n",
       "28 ENSG00000117122_MFAP2    1_17306029_C_A   defendo  0.3802731 2.826793e-06\n",
       "11 ENSG00000103811_CTSH     15_79229199_A_G  defendo  0.4220796 6.048476e-04\n",
       "23 ENSG00000167641_PPP1R14A 19_38735804_A_T  ips     -0.4961645 2.284138e-14\n",
       "33 ENSG00000135074_ADAM19   5_156752957_A_G  ips     -0.8665265 5.111265e-10\n",
       "12 ENSG00000120256_LRP11    6_150167871_T_C  defendo  0.3908105 2.913166e-06\n",
       "10 ENSG00000144580_RQCD1    2_219391672_C_T  ips      0.1457381 4.140600e-05\n",
       "32 ENSG00000155363_MOV10    1_113196896_G_A  mesendo -0.6552912 1.593150e-07\n",
       "   global_corr_p_value\n",
       "13 3.641933e-02       \n",
       "4  2.249982e-11       \n",
       "5  2.082157e-10       \n",
       "3  2.889887e-02       \n",
       "8  6.935748e-04       \n",
       "1  1.190423e-06       \n",
       "2  8.352166e-08       \n",
       "35 3.127396e-03       \n",
       "36 2.229983e-04       \n",
       "21 2.936897e-06       \n",
       "34 2.905254e-10       \n",
       "14 1.987452e-02       \n",
       "6  6.898559e-13       \n",
       "24 8.470785e-11       \n",
       "25 1.859773e-09       \n",
       "20 1.018472e-08       \n",
       "26 7.163770e-05       \n",
       "7  2.829173e-05       \n",
       "9  5.890902e-10       \n",
       "15 8.853960e-23       \n",
       "16 3.945584e-15       \n",
       "31 8.936504e-02       \n",
       "29 5.505158e-07       \n",
       "17 3.294921e-02       \n",
       "18 4.065268e-07       \n",
       "19 6.312506e-05       \n",
       "37 7.264331e-02       \n",
       "22 1.143969e-03       \n",
       "30 4.923932e-13       \n",
       "27 2.766551e-05       \n",
       "28 8.600157e-03       \n",
       "11 7.319254e-02       \n",
       "23 3.930952e-11       \n",
       "33 1.630504e-05       \n",
       "12 4.218412e-02       \n",
       "10 3.876854e-03       \n",
       "32 8.372124e-04       \n",
       "   GWAS_LD                                                                                                 \n",
       "13 {1.0};{0.9197852929722292};{0.9197852929722292};{0.9086970618984077};{0.9166260177317646}               \n",
       "4  {1.0}                                                                                                   \n",
       "5  {1.0}                                                                                                   \n",
       "3  {0.9999999999999998}                                                                                    \n",
       "8  {0.9962613523687008}                                                                                    \n",
       "1  {0.9956804266987197}                                                                                    \n",
       "2  {0.9956804266987197}                                                                                    \n",
       "35 {0.9935975175097204}                                                                                    \n",
       "36 {0.9935975175097204}                                                                                    \n",
       "21 {0.9918865717151631};{0.9637722935126676};{0.9905559661657224};{0.997295199567232};{0.9999999999999999} \n",
       "34 {0.9881761581081854};{0.9881414093963574}                                                               \n",
       "14 {0.985311658631714}                                                                                     \n",
       "6  {0.9839616366640199};{0.9975162188211217}                                                               \n",
       "24 {0.9740106363423351}                                                                                    \n",
       "25 {0.9740106363423351}                                                                                    \n",
       "20 {0.9734978422780035}                                                                                    \n",
       "26 {0.9730444822057748}                                                                                    \n",
       "7  {0.9195897945420258}                                                                                    \n",
       "9  {0.9151881320115159}                                                                                    \n",
       "15 {0.9086578445310003};{0.9999999999999998};{0.8871944798453143};{0.9846248502082993};{0.8802746114261513}\n",
       "16 {0.9086578445310003};{0.9999999999999998};{0.8871944798453143};{0.9846248502082993};{0.8802746114261513}\n",
       "31 {0.9080408242789064}                                                                                    \n",
       "29 {0.9060273699654446}                                                                                    \n",
       "17 {0.9042749271657056};{0.8914375752689322};{0.9945677273235299};{0.9042749271657056}                     \n",
       "18 {0.9016481526182379}                                                                                    \n",
       "19 {0.9016481526182379}                                                                                    \n",
       "37 {0.8518525791834879}                                                                                    \n",
       "22 {0.8516493292012313}                                                                                    \n",
       "30 {0.8451866902365918}                                                                                    \n",
       "27 {0.8320696076504636};{0.9950414241276291};{0.8223836455837735}                                          \n",
       "28 {0.8320696076504636};{0.9950414241276291};{0.8223836455837735}                                          \n",
       "11 {0.8319377958723948};{0.8080755368859691}                                                               \n",
       "23 {0.8296373815794623}                                                                                    \n",
       "33 {0.825122853632922}                                                                                     \n",
       "12 {0.8098776450378113}                                                                                    \n",
       "10 {0.8079745104365206};{0.8941369994848068};{0.9033533317400646};{0.8383180787971085}                     \n",
       "32 {0.8029537568008502};{0.8127147910462368};{0.820249395355589};{0.8127147910462368}                      \n",
       "   GWAS_Variant                                                         \n",
       "13 {5_176841339};{5_176839898};{5_176839890};{5_176836532};{5_176842474}\n",
       "4  {6_3003970}                                                          \n",
       "5  {6_3003970}                                                          \n",
       "3  {7_89977760}                                                         \n",
       "8  {13_114016886}                                                       \n",
       "1  {15_89445651}                                                        \n",
       "2  {15_89445651}                                                        \n",
       "35 {6_96031111}                                                         \n",
       "36 {6_96031111}                                                         \n",
       "21 {10_91003419};{10_91002927};{10_91008879};{10_91004916};{10_91004886}\n",
       "34 {3_58374029};{3_58456811}                                            \n",
       "14 {3_121543577}                                                        \n",
       "6  {1_89412372};{1_89382664}                                            \n",
       "24 {6_34302869}                                                         \n",
       "25 {6_34302869}                                                         \n",
       "20 {4_185639169}                                                        \n",
       "26 {6_49382193}                                                         \n",
       "7  {20_33789142}                                                        \n",
       "9  {4_17520066}                                                         \n",
       "15 {12_56394954};{12_56401085};{12_56384804};{12_56435929};{12_56470625}\n",
       "16 {12_56394954};{12_56401085};{12_56384804};{12_56435929};{12_56470625}\n",
       "31 {5_133446575}                                                        \n",
       "29 {1_20916238}                                                         \n",
       "17 {2_65279805};{2_65283972};{2_65284623};{2_65284231}                  \n",
       "18 {19_45624303}                                                        \n",
       "19 {19_45624303}                                                        \n",
       "37 {16_423813}                                                          \n",
       "22 {19_38791841}                                                        \n",
       "30 {11_229977}                                                          \n",
       "27 {1_17328200};{1_17306675};{1_17315425}                               \n",
       "28 {1_17328200};{1_17306675};{1_17315425}                               \n",
       "11 {15_79234957};{15_79237293}                                          \n",
       "23 {19_38735613}                                                        \n",
       "33 {5_156810072}                                                        \n",
       "12 {6_149972132}                                                        \n",
       "10 {2_219557738};{2_219472325};{2_219349752};{2_219279097}              \n",
       "32 {1_113236681};{1_113190807};{1_113055023};{1_113202571}              "
      ]
     },
     "metadata": {},
     "output_type": "display_data"
    }
   ],
   "source": [
    "gwas_dynamic[order(gwas_dynamic$GWAS_LD, decreasing = T),c(\"feature\",\"snp_id\",\"stage\",\"beta.mean\",\"p_value.mean\",\"global_corr_p_value\",\n",
    "                    \"GWAS_LD\",\"GWAS_Variant\")]"
   ]
  },
  {
   "cell_type": "code",
   "execution_count": 71,
   "metadata": {},
   "outputs": [
    {
     "data": {
      "text/html": [
       "<table>\n",
       "<thead><tr><th></th><th scope=col>gene_id</th><th scope=col>snp_id</th><th scope=col>exp_cluster_label</th><th scope=col>ase_cluster_label</th><th scope=col>feature</th><th scope=col>stage</th><th scope=col>beta.mean</th><th scope=col>beta_se</th><th scope=col>empirical_feature_p_value</th><th scope=col>p_value.mean</th><th scope=col>⋯</th><th scope=col>Vagina_LD</th><th scope=col>Whole_Blood_Variant</th><th scope=col>Whole_Blood_Annotation</th><th scope=col>Whole_Blood_LD</th><th scope=col>ipsc_hipsci_eqtls_mirauta2018_Variant</th><th scope=col>ipsc_hipsci_eqtls_mirauta2018_Annotation</th><th scope=col>ipsc_hipsci_eqtls_mirauta2018_LD</th><th scope=col>how_many_tissues</th><th scope=col>eqtls</th><th scope=col>ensembl_gene_id</th></tr></thead>\n",
       "<tbody>\n",
       "\t<tr><th scope=row>15</th><td>ENSG00000197728                                                            </td><td>12_56401085_G_A                                                            </td><td>1                                                                          </td><td>0                                                                          </td><td>ENSG00000197728_RPS26                                                      </td><td>ips                                                                        </td><td>-0.8408477                                                                 </td><td>0.07424087                                                                 </td><td>3.349038e-26                                                               </td><td>9.762508e-30                                                               </td><td>⋯                                                                          </td><td>{0.9846248502082993}                                                       </td><td>{12_56435929};{12_56379427}                                                </td><td>{12_56435929_C_G_b37-ENSG00000197728};{12_56379427_G_C_b37-ENSG00000139531}</td><td>{0.9846248502082993};{0.8871944798453143}                                  </td><td>{12_56435929}                                                              </td><td>{12_56435929_C_G-ENSG00000197728}                                          </td><td>{0.9846248502082993}                                                       </td><td>50                                                                         </td><td>-12_56401085_G_A                                                           </td><td>ENSG00000197728                                                            </td></tr>\n",
       "\t<tr><th scope=row>16</th><td>ENSG00000197728                                                            </td><td>12_56401085_G_A                                                            </td><td>1                                                                          </td><td>0                                                                          </td><td>ENSG00000197728_RPS26                                                      </td><td>defendo                                                                    </td><td>-0.7332921                                                                 </td><td>0.09182302                                                                 </td><td>8.702826e-18                                                               </td><td>1.394685e-15                                                               </td><td>⋯                                                                          </td><td>{0.9846248502082993}                                                       </td><td>{12_56435929};{12_56379427}                                                </td><td>{12_56435929_C_G_b37-ENSG00000197728};{12_56379427_G_C_b37-ENSG00000139531}</td><td>{0.9846248502082993};{0.8871944798453143}                                  </td><td>{12_56435929}                                                              </td><td>{12_56435929_C_G-ENSG00000197728}                                          </td><td>{0.9846248502082993}                                                       </td><td>50                                                                         </td><td>-12_56401085_G_A                                                           </td><td>ENSG00000197728                                                            </td></tr>\n",
       "</tbody>\n",
       "</table>\n"
      ],
      "text/latex": [
       "\\begin{tabular}{r|llllllllllllllllllllllllllllllllllllllllllllllllllllllllllllllllllllllllllllllllllllllllllllllllllllllllllllllllllllllllllllllllllllllllllllllllllllllllllllllllllllllllllllllllllllllll}\n",
       "  & gene\\_id & snp\\_id & exp\\_cluster\\_label & ase\\_cluster\\_label & feature & stage & beta.mean & beta\\_se & empirical\\_feature\\_p\\_value & p\\_value.mean & ⋯ & Vagina\\_LD & Whole\\_Blood\\_Variant & Whole\\_Blood\\_Annotation & Whole\\_Blood\\_LD & ipsc\\_hipsci\\_eqtls\\_mirauta2018\\_Variant & ipsc\\_hipsci\\_eqtls\\_mirauta2018\\_Annotation & ipsc\\_hipsci\\_eqtls\\_mirauta2018\\_LD & how\\_many\\_tissues & eqtls & ensembl\\_gene\\_id\\\\\n",
       "\\hline\n",
       "\t15 & ENSG00000197728                                                                                     & 12\\_56401085\\_G\\_A                                                                               & 1                                                                                                   & 0                                                                                                   & ENSG00000197728\\_RPS26                                                                             & ips                                                                                                 & -0.8408477                                                                                          & 0.07424087                                                                                          & 3.349038e-26                                                                                        & 9.762508e-30                                                                                        & ⋯                                                                                                   & \\{0.9846248502082993\\}                                                                            & \\{12\\_56435929\\};\\{12\\_56379427\\}                                                             & \\{12\\_56435929\\_C\\_G\\_b37-ENSG00000197728\\};\\{12\\_56379427\\_G\\_C\\_b37-ENSG00000139531\\} & \\{0.9846248502082993\\};\\{0.8871944798453143\\}                                                   & \\{12\\_56435929\\}                                                                                 & \\{12\\_56435929\\_C\\_G-ENSG00000197728\\}                                                         & \\{0.9846248502082993\\}                                                                            & 50                                                                                                  & -12\\_56401085\\_G\\_A                                                                              & ENSG00000197728                                                                                    \\\\\n",
       "\t16 & ENSG00000197728                                                                                     & 12\\_56401085\\_G\\_A                                                                               & 1                                                                                                   & 0                                                                                                   & ENSG00000197728\\_RPS26                                                                             & defendo                                                                                             & -0.7332921                                                                                          & 0.09182302                                                                                          & 8.702826e-18                                                                                        & 1.394685e-15                                                                                        & ⋯                                                                                                   & \\{0.9846248502082993\\}                                                                            & \\{12\\_56435929\\};\\{12\\_56379427\\}                                                             & \\{12\\_56435929\\_C\\_G\\_b37-ENSG00000197728\\};\\{12\\_56379427\\_G\\_C\\_b37-ENSG00000139531\\} & \\{0.9846248502082993\\};\\{0.8871944798453143\\}                                                   & \\{12\\_56435929\\}                                                                                 & \\{12\\_56435929\\_C\\_G-ENSG00000197728\\}                                                         & \\{0.9846248502082993\\}                                                                            & 50                                                                                                  & -12\\_56401085\\_G\\_A                                                                              & ENSG00000197728                                                                                    \\\\\n",
       "\\end{tabular}\n"
      ],
      "text/markdown": [
       "\n",
       "| <!--/--> | gene_id | snp_id | exp_cluster_label | ase_cluster_label | feature | stage | beta.mean | beta_se | empirical_feature_p_value | p_value.mean | ⋯ | Vagina_LD | Whole_Blood_Variant | Whole_Blood_Annotation | Whole_Blood_LD | ipsc_hipsci_eqtls_mirauta2018_Variant | ipsc_hipsci_eqtls_mirauta2018_Annotation | ipsc_hipsci_eqtls_mirauta2018_LD | how_many_tissues | eqtls | ensembl_gene_id | \n",
       "|---|---|\n",
       "| 15 | ENSG00000197728                                                             | 12_56401085_G_A                                                             | 1                                                                           | 0                                                                           | ENSG00000197728_RPS26                                                       | ips                                                                         | -0.8408477                                                                  | 0.07424087                                                                  | 3.349038e-26                                                                | 9.762508e-30                                                                | ⋯                                                                           | {0.9846248502082993}                                                        | {12_56435929};{12_56379427}                                                 | {12_56435929_C_G_b37-ENSG00000197728};{12_56379427_G_C_b37-ENSG00000139531} | {0.9846248502082993};{0.8871944798453143}                                   | {12_56435929}                                                               | {12_56435929_C_G-ENSG00000197728}                                           | {0.9846248502082993}                                                        | 50                                                                          | -12_56401085_G_A                                                            | ENSG00000197728                                                             | \n",
       "| 16 | ENSG00000197728                                                             | 12_56401085_G_A                                                             | 1                                                                           | 0                                                                           | ENSG00000197728_RPS26                                                       | defendo                                                                     | -0.7332921                                                                  | 0.09182302                                                                  | 8.702826e-18                                                                | 1.394685e-15                                                                | ⋯                                                                           | {0.9846248502082993}                                                        | {12_56435929};{12_56379427}                                                 | {12_56435929_C_G_b37-ENSG00000197728};{12_56379427_G_C_b37-ENSG00000139531} | {0.9846248502082993};{0.8871944798453143}                                   | {12_56435929}                                                               | {12_56435929_C_G-ENSG00000197728}                                           | {0.9846248502082993}                                                        | 50                                                                          | -12_56401085_G_A                                                            | ENSG00000197728                                                             | \n",
       "\n",
       "\n"
      ],
      "text/plain": [
       "   gene_id         snp_id          exp_cluster_label ase_cluster_label\n",
       "15 ENSG00000197728 12_56401085_G_A 1                 0                \n",
       "16 ENSG00000197728 12_56401085_G_A 1                 0                \n",
       "   feature               stage   beta.mean  beta_se   \n",
       "15 ENSG00000197728_RPS26 ips     -0.8408477 0.07424087\n",
       "16 ENSG00000197728_RPS26 defendo -0.7332921 0.09182302\n",
       "   empirical_feature_p_value p_value.mean ⋯ Vagina_LD           \n",
       "15 3.349038e-26              9.762508e-30 ⋯ {0.9846248502082993}\n",
       "16 8.702826e-18              1.394685e-15 ⋯ {0.9846248502082993}\n",
       "   Whole_Blood_Variant        \n",
       "15 {12_56435929};{12_56379427}\n",
       "16 {12_56435929};{12_56379427}\n",
       "   Whole_Blood_Annotation                                                     \n",
       "15 {12_56435929_C_G_b37-ENSG00000197728};{12_56379427_G_C_b37-ENSG00000139531}\n",
       "16 {12_56435929_C_G_b37-ENSG00000197728};{12_56379427_G_C_b37-ENSG00000139531}\n",
       "   Whole_Blood_LD                           \n",
       "15 {0.9846248502082993};{0.8871944798453143}\n",
       "16 {0.9846248502082993};{0.8871944798453143}\n",
       "   ipsc_hipsci_eqtls_mirauta2018_Variant\n",
       "15 {12_56435929}                        \n",
       "16 {12_56435929}                        \n",
       "   ipsc_hipsci_eqtls_mirauta2018_Annotation ipsc_hipsci_eqtls_mirauta2018_LD\n",
       "15 {12_56435929_C_G-ENSG00000197728}        {0.9846248502082993}            \n",
       "16 {12_56435929_C_G-ENSG00000197728}        {0.9846248502082993}            \n",
       "   how_many_tissues eqtls            ensembl_gene_id\n",
       "15 50               -12_56401085_G_A ENSG00000197728\n",
       "16 50               -12_56401085_G_A ENSG00000197728"
      ]
     },
     "metadata": {},
     "output_type": "display_data"
    }
   ],
   "source": [
    "gwas_dynamic[gwas_dynamic$feature == \"ENSG00000197728_RPS26\",]"
   ]
  },
  {
   "cell_type": "code",
   "execution_count": null,
   "metadata": {},
   "outputs": [],
   "source": []
  },
  {
   "cell_type": "code",
   "execution_count": null,
   "metadata": {},
   "outputs": [],
   "source": []
  },
  {
   "cell_type": "code",
   "execution_count": null,
   "metadata": {},
   "outputs": [],
   "source": []
  },
  {
   "cell_type": "code",
   "execution_count": 72,
   "metadata": {},
   "outputs": [
    {
     "data": {
      "text/html": [
       "37"
      ],
      "text/latex": [
       "37"
      ],
      "text/markdown": [
       "37"
      ],
      "text/plain": [
       "[1] 37"
      ]
     },
     "metadata": {},
     "output_type": "display_data"
    }
   ],
   "source": [
    "gwas_cellfactors = inner_join(clusters, gwas_tagging, by = c(\"gene_id\",\"snp_id\"))\n",
    "nrow(gwas_dynamic)"
   ]
  },
  {
   "cell_type": "code",
   "execution_count": null,
   "metadata": {},
   "outputs": [],
   "source": []
  },
  {
   "cell_type": "code",
   "execution_count": null,
   "metadata": {},
   "outputs": [],
   "source": []
  },
  {
   "cell_type": "code",
   "execution_count": null,
   "metadata": {},
   "outputs": [],
   "source": []
  }
 ],
 "metadata": {
  "kernelspec": {
   "display_name": "R",
   "language": "R",
   "name": "ir"
  },
  "language_info": {
   "codemirror_mode": "r",
   "file_extension": ".r",
   "mimetype": "text/x-r-source",
   "name": "R",
   "pygments_lexer": "r",
   "version": "3.4.3"
  }
 },
 "nbformat": 4,
 "nbformat_minor": 2
}
