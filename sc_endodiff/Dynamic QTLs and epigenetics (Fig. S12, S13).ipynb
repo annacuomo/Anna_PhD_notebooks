{
 "cells": [
  {
   "cell_type": "code",
   "execution_count": 9,
   "metadata": {},
   "outputs": [],
   "source": [
    "## load libraries\n",
    "# suppressWarnings(suppressPackageStartupMessages(library(rhdf5)))\n",
    "# suppressWarnings(suppressPackageStartupMessages(library(qvalue)))\n",
    "# suppressWarnings(suppressPackageStartupMessages(library(dplyr)))\n",
    "# suppressWarnings(suppressPackageStartupMessages(library(cowplot)))\n",
    "suppressWarnings(suppressPackageStartupMessages(library(tidyverse)))\n",
    "# suppressWarnings(suppressPackageStartupMessages(library(ggbeeswarm)))\n",
    "# suppressWarnings(suppressPackageStartupMessages(library(ggthemes)))\n",
    "# suppressWarnings(suppressPackageStartupMessages(library(scater)))\n",
    "# suppressWarnings(suppressPackageStartupMessages(library(SingleCellExperiment)))\n",
    "# suppressWarnings(suppressPackageStartupMessages(library(edgeR)))\n",
    "# suppressWarnings(suppressPackageStartupMessages(library(limma)))\n",
    "# suppressWarnings(suppressPackageStartupMessages(library(ggplot2)))\n",
    "# suppressWarnings(suppressPackageStartupMessages(library(ISLR)))\n",
    "# suppressWarnings(suppressPackageStartupMessages(library(GGally)))\n",
    "# suppressWarnings(suppressPackageStartupMessages(library(scran)))\n",
    "# suppressWarnings(suppressPackageStartupMessages(library(ComplexHeatmap)))\n",
    "# suppressWarnings(suppressPackageStartupMessages(library(circlize)))"
   ]
  },
  {
   "cell_type": "code",
   "execution_count": 5,
   "metadata": {},
   "outputs": [
    {
     "data": {
      "text/html": [
       "<table>\n",
       "<thead><tr><th scope=col>gene_id</th><th scope=col>snp_id</th><th scope=col>exp_cluster_label</th><th scope=col>ase_cluster_label</th><th scope=col>comb</th></tr></thead>\n",
       "<tbody>\n",
       "\t<tr><td>ENSG00000107798 </td><td>10_91004886_A_G </td><td>0               </td><td>0               </td><td>0_0             </td></tr>\n",
       "\t<tr><td>ENSG00000183722 </td><td>13_40081401_T_A </td><td>0               </td><td>0               </td><td>0_0             </td></tr>\n",
       "\t<tr><td>ENSG00000001460 </td><td>1_24754406_T_A  </td><td>0               </td><td>0               </td><td>0_0             </td></tr>\n",
       "\t<tr><td>ENSG00000124839 </td><td>2_238552006_C_T </td><td>0               </td><td>0               </td><td>0_0             </td></tr>\n",
       "\t<tr><td>ENSG00000170291 </td><td>17_7151111_A_C  </td><td>0               </td><td>0               </td><td>0_0             </td></tr>\n",
       "\t<tr><td>ENSG00000151640 </td><td>10_133978507_G_T</td><td>0               </td><td>0               </td><td>0_0             </td></tr>\n",
       "</tbody>\n",
       "</table>\n"
      ],
      "text/latex": [
       "\\begin{tabular}{r|lllll}\n",
       " gene\\_id & snp\\_id & exp\\_cluster\\_label & ase\\_cluster\\_label & comb\\\\\n",
       "\\hline\n",
       "\t ENSG00000107798        & 10\\_91004886\\_A\\_G  & 0                      & 0                      & 0\\_0                 \\\\\n",
       "\t ENSG00000183722        & 13\\_40081401\\_T\\_A  & 0                      & 0                      & 0\\_0                 \\\\\n",
       "\t ENSG00000001460        & 1\\_24754406\\_T\\_A   & 0                      & 0                      & 0\\_0                 \\\\\n",
       "\t ENSG00000124839        & 2\\_238552006\\_C\\_T  & 0                      & 0                      & 0\\_0                 \\\\\n",
       "\t ENSG00000170291        & 17\\_7151111\\_A\\_C   & 0                      & 0                      & 0\\_0                 \\\\\n",
       "\t ENSG00000151640        & 10\\_133978507\\_G\\_T & 0                      & 0                      & 0\\_0                 \\\\\n",
       "\\end{tabular}\n"
      ],
      "text/markdown": [
       "\n",
       "gene_id | snp_id | exp_cluster_label | ase_cluster_label | comb | \n",
       "|---|---|---|---|---|---|\n",
       "| ENSG00000107798  | 10_91004886_A_G  | 0                | 0                | 0_0              | \n",
       "| ENSG00000183722  | 13_40081401_T_A  | 0                | 0                | 0_0              | \n",
       "| ENSG00000001460  | 1_24754406_T_A   | 0                | 0                | 0_0              | \n",
       "| ENSG00000124839  | 2_238552006_C_T  | 0                | 0                | 0_0              | \n",
       "| ENSG00000170291  | 17_7151111_A_C   | 0                | 0                | 0_0              | \n",
       "| ENSG00000151640  | 10_133978507_G_T | 0                | 0                | 0_0              | \n",
       "\n",
       "\n"
      ],
      "text/plain": [
       "  gene_id         snp_id           exp_cluster_label ase_cluster_label comb\n",
       "1 ENSG00000107798 10_91004886_A_G  0                 0                 0_0 \n",
       "2 ENSG00000183722 13_40081401_T_A  0                 0                 0_0 \n",
       "3 ENSG00000001460 1_24754406_T_A   0                 0                 0_0 \n",
       "4 ENSG00000124839 2_238552006_C_T  0                 0                 0_0 \n",
       "5 ENSG00000170291 17_7151111_A_C   0                 0                 0_0 \n",
       "6 ENSG00000151640 10_133978507_G_T 0                 0                 0_0 "
      ]
     },
     "metadata": {},
     "output_type": "display_data"
    }
   ],
   "source": [
    "clusters_filename = \"/nfs/leia/research/stegle/dseaton/hipsci/singlecell_endodiff/data/ase_env_interactions/eqtl_clustering/cluster_significant_linear_psuedotime_ase_interactions_qval_0.01.tsv\"\n",
    "clusters = read.csv(clusters_filename, sep = \"\\t\")\n",
    "head(clusters)"
   ]
  },
  {
   "cell_type": "code",
   "execution_count": 3,
   "metadata": {},
   "outputs": [],
   "source": [
    "####################\n",
    "#### Figure S12 ####\n",
    "####################"
   ]
  },
  {
   "cell_type": "code",
   "execution_count": 6,
   "metadata": {},
   "outputs": [],
   "source": [
    "gtex_tagging_filename = \"/nfs/leia/research/stegle/dseaton/hipsci/singlecell_endodiff/data/qtl_annotation/all_results_combined.tsv.all_gtex_gwas_tagging_annotations.1000g_ref.txt\"\n",
    "gtex_tagging = read.csv(gtex_tagging_filename, sep = \"\\t\")"
   ]
  },
  {
   "cell_type": "code",
   "execution_count": 10,
   "metadata": {},
   "outputs": [],
   "source": [
    "gtex_tagging$gene_id = gsub(\"*_.*\", \"\", gtex_tagging$feature)\n",
    "gtex_dynamic = inner_join(clusters, gtex_tagging, by = c(\"gene_id\",\"snp_id\"))"
   ]
  },
  {
   "cell_type": "code",
   "execution_count": 11,
   "metadata": {},
   "outputs": [
    {
     "data": {
      "image/png": "[encoded data removed]",
      "text/plain": [
       "Plot with title “defendo-specific eQTLs”"
      ]
     },
     "metadata": {},
     "output_type": "display_data"
    }
   ],
   "source": [
    "par(mfrow = c(1,3))\n",
    "options(repr.plot.width = 8, repr.plot.height = 4)\n",
    "barplot(c(nrow(gtex_dynamic[gtex_dynamic$stage_specific == 'True' & gtex_dynamic$stage == \"ips\" & \n",
    "                  gtex_dynamic$ase_cluster_label == '0',]),\n",
    "         nrow(gtex_dynamic[gtex_dynamic$stage_specific == 'True' & gtex_dynamic$stage == \"ips\" & \n",
    "                  gtex_dynamic$ase_cluster_label == '2',]),\n",
    "         nrow(gtex_dynamic[gtex_dynamic$stage_specific == 'True' & gtex_dynamic$stage == \"ips\" & \n",
    "                  gtex_dynamic$ase_cluster_label == '3',]),\n",
    "         nrow(gtex_dynamic[gtex_dynamic$stage_specific == 'True' & gtex_dynamic$stage == \"ips\" & \n",
    "                  gtex_dynamic$ase_cluster_label == '1',])), col = c(\"#e1b16a\", \"#78a5a3\",\"#ce5a57\",\"#444c5c\"),\n",
    "       main = \"iPSC-specific eQTLs\")\n",
    "barplot(c(nrow(gtex_dynamic[gtex_dynamic$stage_specific == 'True' & gtex_dynamic$stage == \"mesendo\" & \n",
    "                  gtex_dynamic$ase_cluster_label == '0',]),\n",
    "         nrow(gtex_dynamic[gtex_dynamic$stage_specific == 'True' & gtex_dynamic$stage == \"mesendo\" & \n",
    "                  gtex_dynamic$ase_cluster_label == '2',]),\n",
    "         nrow(gtex_dynamic[gtex_dynamic$stage_specific == 'True' & gtex_dynamic$stage == \"mesendo\" & \n",
    "                  gtex_dynamic$ase_cluster_label == '3',]),\n",
    "         nrow(gtex_dynamic[gtex_dynamic$stage_specific == 'True' & gtex_dynamic$stage == \"mesendo\" & \n",
    "                  gtex_dynamic$ase_cluster_label == '1',])), col = c(\"#e1b16a\", \"#78a5a3\",\"#ce5a57\",\"#444c5c\"), \n",
    "        yaxt = 'n', main = \"mesendo-specific eQTLs\")\n",
    "axis(side = 2, at = c(0,1,2,3))\n",
    "barplot(c(nrow(gtex_dynamic[gtex_dynamic$stage_specific == 'True' & gtex_dynamic$stage == \"defendo\" & \n",
    "                  gtex_dynamic$ase_cluster_label == '0',]),\n",
    "         nrow(gtex_dynamic[gtex_dynamic$stage_specific == 'True' & gtex_dynamic$stage == \"defendo\" & \n",
    "                  gtex_dynamic$ase_cluster_label == '2',]),\n",
    "         nrow(gtex_dynamic[gtex_dynamic$stage_specific == 'True' & gtex_dynamic$stage == \"defendo\" & \n",
    "                  gtex_dynamic$ase_cluster_label == '3',]),\n",
    "         nrow(gtex_dynamic[gtex_dynamic$stage_specific == 'True' & gtex_dynamic$stage == \"defendo\" & \n",
    "                  gtex_dynamic$ase_cluster_label == '1',])), col = c(\"#e1b16a\", \"#78a5a3\",\"#ce5a57\",\"#444c5c\"),\n",
    "       main = \"defendo-specific eQTLs\")"
   ]
  },
  {
   "cell_type": "code",
   "execution_count": 12,
   "metadata": {},
   "outputs": [
    {
     "data": {
      "image/png": "[encoded data removed]",
      "text/plain": [
       "Plot with title “non stage-specific defendo eQTLs”"
      ]
     },
     "metadata": {},
     "output_type": "display_data"
    }
   ],
   "source": [
    "par(mfrow = c(1,3))\n",
    "options(repr.plot.width = 8, repr.plot.height = 4)\n",
    "barplot(c(nrow(gtex_dynamic[gtex_dynamic$stage_specific == 'False' & gtex_dynamic$stage == \"ips\" & \n",
    "                  gtex_dynamic$ase_cluster_label == '0',]),\n",
    "         nrow(gtex_dynamic[gtex_dynamic$stage_specific == 'False' & gtex_dynamic$stage == \"ips\" & \n",
    "                  gtex_dynamic$ase_cluster_label == '2',]),\n",
    "         nrow(gtex_dynamic[gtex_dynamic$stage_specific == 'False' & gtex_dynamic$stage == \"ips\" & \n",
    "                  gtex_dynamic$ase_cluster_label == '3',]),\n",
    "         nrow(gtex_dynamic[gtex_dynamic$stage_specific == 'False' & gtex_dynamic$stage == \"ips\" & \n",
    "                  gtex_dynamic$ase_cluster_label == '1',])), col = c(\"#e1b16a\", \"#78a5a3\",\"#ce5a57\",\"#444c5c\"),\n",
    "       main = \"non stage-specific iPSC eQTLs\")\n",
    "barplot(c(nrow(gtex_dynamic[gtex_dynamic$stage_specific == 'False' & gtex_dynamic$stage == \"mesendo\" & \n",
    "                  gtex_dynamic$ase_cluster_label == '0',]),\n",
    "         nrow(gtex_dynamic[gtex_dynamic$stage_specific == 'False' & gtex_dynamic$stage == \"mesendo\" & \n",
    "                  gtex_dynamic$ase_cluster_label == '2',]),\n",
    "         nrow(gtex_dynamic[gtex_dynamic$stage_specific == 'False' & gtex_dynamic$stage == \"mesendo\" & \n",
    "                  gtex_dynamic$ase_cluster_label == '3',]),\n",
    "         nrow(gtex_dynamic[gtex_dynamic$stage_specific == 'False' & gtex_dynamic$stage == \"mesendo\" & \n",
    "                  gtex_dynamic$ase_cluster_label == '1',])), col = c(\"#e1b16a\", \"#78a5a3\",\"#ce5a57\",\"#444c5c\"), \n",
    "        yaxt = 'n', main = \"non stage-specific mesendo eQTLs\")\n",
    "axis(side = 2, at = c(0,1,2,3))\n",
    "barplot(c(nrow(gtex_dynamic[gtex_dynamic$stage_specific == 'False' & gtex_dynamic$stage == \"defendo\" & \n",
    "                  gtex_dynamic$ase_cluster_label == '0',]),\n",
    "         nrow(gtex_dynamic[gtex_dynamic$stage_specific == 'False' & gtex_dynamic$stage == \"defendo\" & \n",
    "                  gtex_dynamic$ase_cluster_label == '2',]),\n",
    "         nrow(gtex_dynamic[gtex_dynamic$stage_specific == 'False' & gtex_dynamic$stage == \"defendo\" & \n",
    "                  gtex_dynamic$ase_cluster_label == '3',]),\n",
    "         nrow(gtex_dynamic[gtex_dynamic$stage_specific == 'False' & gtex_dynamic$stage == \"defendo\" & \n",
    "                  gtex_dynamic$ase_cluster_label == '1',])), col = c(\"#e1b16a\", \"#78a5a3\",\"#ce5a57\",\"#444c5c\"),\n",
    "       main = \"non stage-specific defendo eQTLs\")"
   ]
  },
  {
   "cell_type": "code",
   "execution_count": null,
   "metadata": {},
   "outputs": [],
   "source": [
    "####################\n",
    "#### Figure S13 ####\n",
    "####################"
   ]
  }
 ],
 "metadata": {
  "kernelspec": {
   "display_name": "R",
   "language": "R",
   "name": "ir"
  },
  "language_info": {
   "codemirror_mode": "r",
   "file_extension": ".r",
   "mimetype": "text/x-r-source",
   "name": "R",
   "pygments_lexer": "r",
   "version": "3.4.3"
  }
 },
 "nbformat": 4,
 "nbformat_minor": 2
}
