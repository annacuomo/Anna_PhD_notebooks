{
 "cells": [
  {
   "cell_type": "code",
   "execution_count": 1,
   "metadata": {},
   "outputs": [],
   "source": [
    "## load useful libraries\n",
    "suppressWarnings(suppressPackageStartupMessages(library(rhdf5)))\n",
    "suppressWarnings(suppressPackageStartupMessages(library(qvalue)))\n",
    "suppressWarnings(suppressPackageStartupMessages(library(dplyr)))\n",
    "suppressWarnings(suppressPackageStartupMessages(library(cowplot)))\n",
    "suppressWarnings(suppressPackageStartupMessages(library(tidyverse)))\n",
    "suppressWarnings(suppressPackageStartupMessages(library(ggbeeswarm)))\n",
    "suppressWarnings(suppressPackageStartupMessages(library(ggthemes)))\n",
    "suppressWarnings(suppressPackageStartupMessages(library(scater)))\n",
    "suppressWarnings(suppressPackageStartupMessages(library(SingleCellExperiment)))\n",
    "suppressWarnings(suppressPackageStartupMessages(library(edgeR)))\n",
    "suppressWarnings(suppressPackageStartupMessages(library(limma)))\n",
    "suppressWarnings(suppressPackageStartupMessages(library(ggplot2)))\n",
    "suppressWarnings(suppressPackageStartupMessages(library(ISLR)))\n",
    "suppressWarnings(suppressPackageStartupMessages(library(GGally)))\n",
    "suppressWarnings(suppressPackageStartupMessages(library(scran)))\n",
    "suppressWarnings(suppressPackageStartupMessages(library(ComplexHeatmap)))\n",
    "suppressWarnings(suppressPackageStartupMessages(library(circlize)))"
   ]
  },
  {
   "cell_type": "code",
   "execution_count": null,
   "metadata": {},
   "outputs": [],
   "source": [
    "sce = readRDS(\"/hps/nobackup/hipsci/scratch/singlecell_endodiff/data_processed/merged/20180618/sce_merged_afterqc_filt_allexpts.rds\")"
   ]
  },
  {
   "cell_type": "code",
   "execution_count": null,
   "metadata": {},
   "outputs": [],
   "source": [
    "# pseudotime definition\n",
    "\n",
    "# sce <- normalize(sce)\n",
    "# design <- model.matrix(~experiment, data = colData(sce))\n",
    "# alt.fit <- trendVar(sce, design = design, use.spikes = FALSE)\n",
    "# alt.decomp <- decomposeVar(sce, alt.fit)\n",
    "\n",
    "# top.500.hvgs <- rownames(alt.decomp[order(alt.decomp$bio, decreasing = TRUE),][1:500,])\n",
    "\n",
    "# sce_500hvg = sce[rownames(sce) %in% top.500.hvgs,]\n",
    "# p1 = as.data.frame(prcomp(t(logcounts(sce_500hvg)))$x[,1])\n",
    "# colnames(p1) = \"PC1_top500hvgs\"\n",
    "# head(p1)"
   ]
  },
  {
   "cell_type": "code",
   "execution_count": 4,
   "metadata": {},
   "outputs": [
    {
     "data": {
      "text/html": [
       "28"
      ],
      "text/latex": [
       "28"
      ],
      "text/markdown": [
       "28"
      ],
      "text/plain": [
       "[1] 28"
      ]
     },
     "metadata": {},
     "output_type": "display_data"
    },
    {
     "data": {
      "text/plain": [
       "\n",
       "expt_09 expt_10 expt_12 expt_18 expt_20 expt_21 expt_22 expt_23 expt_24 expt_27 \n",
       "    285     501     280     591     202     515     762     769     388     537 \n",
       "expt_28 expt_29 expt_30 expt_31 expt_32 expt_33 expt_34 expt_35 expt_36 expt_37 \n",
       "   1762    2140     467     666    1357    2042    2495    2278    1362    1144 \n",
       "expt_38 expt_39 expt_40 expt_41 expt_42 expt_43 expt_44 expt_45 \n",
       "   2202    1944    1496    2067    1093    2279    2306    2114 "
      ]
     },
     "metadata": {},
     "output_type": "display_data"
    }
   ],
   "source": [
    "length(unique(sce$experiment))\n",
    "table(sce$experiment)"
   ]
  },
  {
   "cell_type": "code",
   "execution_count": 24,
   "metadata": {},
   "outputs": [
    {
     "data": {
      "text/html": [
       "125"
      ],
      "text/latex": [
       "125"
      ],
      "text/markdown": [
       "125"
      ],
      "text/plain": [
       "[1] 125"
      ]
     },
     "metadata": {},
     "output_type": "display_data"
    },
    {
     "data": {
      "text/plain": [
       "\n",
       "aowh aoxv babz bezi bima bokz cicb ciwj cuhk datg dixh eesb eipl eiwy eoxi fafq \n",
       " 376  293   69   31   75  637  164  141  154  583  203  470  543   78   60  292 \n",
       "fasu fawm feec fejf fiaj garx giju guss guyj hajc hayt hecn hegp heth hiaf hoik \n",
       "  55  453  306  155  112  103  537 1093  471  260  443  613   76   87    4  296 \n",
       "iezw iisa iiyk iudw jejf jogf joxm juuy kajh kefb keui kolf koqx kucg kuco kuxp \n",
       " 164  245  209  187  362  102 1415  640  249  117  134  243   58  140  366  299 \n",
       "laey lepk letw lexy liqa lise melw meue miaj mita naah naju nocf nosn nudd nufh \n",
       "  97  115  801    7  379  239  317  451  113  204  334  163  615  197  919  298 \n",
       "oaqd oebj oibg oicx oikd oilg oojs paab pahc pelm pipw poih puie pulk qaqx qayj \n",
       " 170  122  629  124   29   77   88  397  301  559  439 1077  621  266  577  134 \n",
       "qehq qihv qoog qorq quls qunz rayr rutc sebz sehl seru sita sohd sojd suop tavh \n",
       " 508  119   97  462   62  293  142  396   26  800  335  140   57  880   17   12 \n",
       "tert toco tolg toss tout ueah uenn uilk vass vazt veku vils vuna wahn walu wegi \n",
       " 355  145  232  105  247  134   95  212  350   96   65  192  224  456   70  133 \n",
       "wibj wigw wopl wuye xojn yelp yemz yoch zagm zapk zerv zihe zoio \n",
       "  81  566   69  301  333  607  110  219  375  493  318   26   67 "
      ]
     },
     "metadata": {},
     "output_type": "display_data"
    }
   ],
   "source": [
    "length(unique(sce$donor))\n",
    "table(sce$donor)"
   ]
  },
  {
   "cell_type": "code",
   "execution_count": 21,
   "metadata": {},
   "outputs": [
    {
     "data": {
      "text/plain": [
       "      \n",
       "       aowh aoxv babz bezi bima bokz cicb ciwj cuhk datg dixh eesb eipl eiwy\n",
       "  day0   88   68   28   13    0  159   42   40   41  185    0   66   99   25\n",
       "  day1  100   58    0   11    0  200   21   27   47  147   46  106  189   18\n",
       "  day2   93   96   41    4   44  164   75   35   39  136   73  103  198   10\n",
       "  day3   95   71    0    3   31  114   26   39   27  115   84  195   57   25\n",
       "      \n",
       "       eoxi fafq fasu fawm feec fejf fiaj garx giju guss guyj hajc hayt hecn\n",
       "  day0   22    0   20   49   75   63    0    0    0  293  185  130   41  163\n",
       "  day1   17  192   35  128   62   33    0   23    0  311  105   51   91  117\n",
       "  day2   13    0    0  104   63   31   75    0  223  210   70   54  107  181\n",
       "  day3    8  100    0  172  106   28   37   80  314  279  111   25  204  152\n",
       "      \n",
       "       hegp heth hiaf hoik iezw iisa iiyk iudw jejf jogf joxm juuy kajh kefb\n",
       "  day0   22   54    0   32   30   77   94   44  107  102  383  132   55   67\n",
       "  day1   13   19    4   99   85   88   70   97  105    0  540  114   90    0\n",
       "  day2   25   11    0   71   49   71   30   34  100    0  317  119   47   36\n",
       "  day3   16    3    0   94    0    9   15   12   50    0  175  275   57   14\n",
       "      \n",
       "       keui kolf koqx kucg kuco kuxp laey lepk letw lexy liqa lise melw meue\n",
       "  day0   40   73    0   72   95   84   27   35  316    0  110   62  101  137\n",
       "  day1   17  104   23   37   61   65   26   37  271    7   72   61   57  154\n",
       "  day2   39   66   19   29  104   87   20   36   99    0   92   39   79   54\n",
       "  day3   38    0   16    2  106   63   24    7  115    0  105   77   80  106\n",
       "      \n",
       "       miaj mita naah naju nocf nosn nudd nufh oaqd oebj oibg oicx oikd oilg\n",
       "  day0   56   35   61   25  131   73  286   99   80   40  103   34   15   44\n",
       "  day1   25   93   85   45  173    0  195   65   90   37  284   42    0   21\n",
       "  day2   18   39   58   30  136   71  231   76    0   28  102    0   14    0\n",
       "  day3   14   37  130   63  175   53  207   58    0   17  140   48    0   12\n",
       "      \n",
       "       oojs paab pahc pelm pipw poih puie pulk qaqx qayj qehq qihv qoog qorq\n",
       "  day0   40  166   61  222  111  209  100   82  101   67  115    0   22  152\n",
       "  day1   22  107   74    0  120  245  125   64  197   46  141    0   22   84\n",
       "  day2   18   69   57  179  105  430  103   32  175    0  118   53   21  101\n",
       "  day3    8   55  109  158  103  193  293   88  104   21  134   66   32  125\n",
       "      \n",
       "       quls qunz rayr rutc sebz sehl seru sita sohd sojd suop tavh tert toco\n",
       "  day0   44   82   33  141    0  173  112   69   23  321   10    2   92   29\n",
       "  day1   11   61   47  128   11  196  144   71    8  268    4   10   58   50\n",
       "  day2    0   89   35   60    0  194   56    0    0  218    0    0  105   36\n",
       "  day3    7   61   27   67   15  237   23    0   26   73    3    0  100   30\n",
       "      \n",
       "       tolg toss tout ueah uenn uilk vass vazt veku vils vuna wahn walu wegi\n",
       "  day0  104   42  127   23   33   54  106   31   22   37    0  138   24   36\n",
       "  day1   42   63   14   30   48   70   83   31   17   55    0  132    0   65\n",
       "  day2   58    0   64   43   14   66   89    0   16   45   78   79   46   32\n",
       "  day3   28    0   42   38    0   22   72   34   10   55  146  107    0    0\n",
       "      \n",
       "       wibj wigw wopl wuye xojn yelp yemz yoch zagm zapk zerv zihe zoio\n",
       "  day0   51  111    0   69   27  174   35   58  121  214   90    0   27\n",
       "  day1   19  133   42  109   55  122   32   78   83    0  160    0   40\n",
       "  day2    0  151    0   72   84  146   32   45   90  151   68   14    0\n",
       "  day3   11  171   27   51  167  165   11   38   81  128    0   12    0"
      ]
     },
     "metadata": {},
     "output_type": "display_data"
    }
   ],
   "source": [
    "table(sce$day, sce$donor)"
   ]
  },
  {
   "cell_type": "code",
   "execution_count": 23,
   "metadata": {},
   "outputs": [
    {
     "data": {
      "text/html": [
       "'ENSG00000185201_IFITM2'"
      ],
      "text/latex": [
       "'ENSG00000185201\\_IFITM2'"
      ],
      "text/markdown": [
       "'ENSG00000185201_IFITM2'"
      ],
      "text/plain": [
       "[1] \"ENSG00000185201_IFITM2\""
      ]
     },
     "metadata": {},
     "output_type": "display_data"
    }
   ],
   "source": [
    "rownames(sce)[grep(\"IFITM2\",rownames(sce))]"
   ]
  },
  {
   "cell_type": "code",
   "execution_count": null,
   "metadata": {},
   "outputs": [],
   "source": []
  }
 ],
 "metadata": {
  "kernelspec": {
   "display_name": "R",
   "language": "R",
   "name": "ir"
  },
  "language_info": {
   "codemirror_mode": "r",
   "file_extension": ".r",
   "mimetype": "text/x-r-source",
   "name": "R",
   "pygments_lexer": "r",
   "version": "3.4.3"
  }
 },
 "nbformat": 4,
 "nbformat_minor": 2
}
