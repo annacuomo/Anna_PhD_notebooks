{
 "cells": [
  {
   "cell_type": "code",
   "execution_count": 1,
   "metadata": {},
   "outputs": [],
   "source": [
    "ase_folder = \"/nfs/leia/research/stegle/dseaton/hipsci/singlecell_endodiff/data/ase_env_interactions/selected_results_181023/\""
   ]
  },
  {
   "cell_type": "code",
   "execution_count": 2,
   "metadata": {},
   "outputs": [],
   "source": [
    "test_filename = paste0(ase_folder,\"pseudotimeandmodules.single_factor_test.all_leads.tsv\")\n",
    "pseudocorrect_filename = paste0(ase_folder,\"pseudotimeandmodules.pseudotime_covariate_test.all_leads.tsv\")\n",
    "nonlinear_filename = paste0(ase_folder,\"pseudotimeandmodules.combined_factor_test.all_leads.tsv\")\n",
    "quadratic_filename = paste0(ase_folder,\"pseudotimeandmodules.quadratic_factor_test.all_leads.tsv\")"
   ]
  },
  {
   "cell_type": "code",
   "execution_count": 3,
   "metadata": {},
   "outputs": [],
   "source": [
    "test = read.csv(test_filename, sep = \"\\t\")\n",
    "pseudocorrect = read.csv(pseudocorrect_filename, sep = \"\\t\")\n",
    "nonlinear = read.csv(nonlinear_filename, sep = \"\\t\")\n",
    "quadratic = read.csv(quadratic_filename, sep = \"\\t\")"
   ]
  },
  {
   "cell_type": "code",
   "execution_count": 8,
   "metadata": {},
   "outputs": [
    {
     "data": {
      "text/html": [
       "<table>\n",
       "<thead><tr><th scope=col>ensembl_gene_id</th><th scope=col>snp_id</th><th scope=col>coef</th><th scope=col>pval</th><th scope=col>n_cells</th><th scope=col>index</th><th scope=col>mean_ase</th><th scope=col>factor</th></tr></thead>\n",
       "<tbody>\n",
       "\t<tr><td>ENSG00000120675                        </td><td>13_43597706_C_T                        </td><td>0.2123743                              </td><td>1.501785e-196                          </td><td>13767                                  </td><td>('ENSG00000120675', '13_43597706_C_T') </td><td>0.1503029                              </td><td>pseudotime                             </td></tr>\n",
       "\t<tr><td>ENSG00000148834                        </td><td>10_106066436_C_T                       </td><td>0.1674651                              </td><td>2.678167e-166                          </td><td>16460                                  </td><td>('ENSG00000148834', '10_106066436_C_T')</td><td>0.4569987                              </td><td>pseudotime                             </td></tr>\n",
       "</tbody>\n",
       "</table>\n"
      ],
      "text/latex": [
       "\\begin{tabular}{r|llllllll}\n",
       " ensembl\\_gene\\_id & snp\\_id & coef & pval & n\\_cells & index & mean\\_ase & factor\\\\\n",
       "\\hline\n",
       "\t ENSG00000120675                               & 13\\_43597706\\_C\\_T                         & 0.2123743                                     & 1.501785e-196                                 & 13767                                         & ('ENSG00000120675', '13\\_43597706\\_C\\_T')  & 0.1503029                                     & pseudotime                                   \\\\\n",
       "\t ENSG00000148834                               & 10\\_106066436\\_C\\_T                        & 0.1674651                                     & 2.678167e-166                                 & 16460                                         & ('ENSG00000148834', '10\\_106066436\\_C\\_T') & 0.4569987                                     & pseudotime                                   \\\\\n",
       "\\end{tabular}\n"
      ],
      "text/markdown": [
       "\n",
       "ensembl_gene_id | snp_id | coef | pval | n_cells | index | mean_ase | factor | \n",
       "|---|---|\n",
       "| ENSG00000120675                         | 13_43597706_C_T                         | 0.2123743                               | 1.501785e-196                           | 13767                                   | ('ENSG00000120675', '13_43597706_C_T')  | 0.1503029                               | pseudotime                              | \n",
       "| ENSG00000148834                         | 10_106066436_C_T                        | 0.1674651                               | 2.678167e-166                           | 16460                                   | ('ENSG00000148834', '10_106066436_C_T') | 0.4569987                               | pseudotime                              | \n",
       "\n",
       "\n"
      ],
      "text/plain": [
       "  ensembl_gene_id snp_id           coef      pval          n_cells\n",
       "1 ENSG00000120675 13_43597706_C_T  0.2123743 1.501785e-196 13767  \n",
       "2 ENSG00000148834 10_106066436_C_T 0.1674651 2.678167e-166 16460  \n",
       "  index                                   mean_ase  factor    \n",
       "1 ('ENSG00000120675', '13_43597706_C_T')  0.1503029 pseudotime\n",
       "2 ('ENSG00000148834', '10_106066436_C_T') 0.4569987 pseudotime"
      ]
     },
     "metadata": {},
     "output_type": "display_data"
    },
    {
     "data": {
      "text/html": [
       "<table>\n",
       "<thead><tr><th scope=col>ensembl_gene_id</th><th scope=col>snp_id</th><th scope=col>coef</th><th scope=col>pval</th><th scope=col>n_cells</th><th scope=col>index</th><th scope=col>mean_ase</th><th scope=col>factor</th></tr></thead>\n",
       "<tbody>\n",
       "\t<tr><td>ENSG00000132507                      </td><td>17_7207964_A_C                       </td><td>-0.13534786                          </td><td>1.007140e-174                        </td><td>19271                                </td><td>('ENSG00000132507', '17_7207964_A_C')</td><td>0.3418273                            </td><td>G2_M_transition                      </td></tr>\n",
       "\t<tr><td>ENSG00000132507                      </td><td>17_7207964_A_C                       </td><td>-0.09408758                          </td><td>4.714347e-101                        </td><td>19271                                </td><td>('ENSG00000132507', '17_7207964_A_C')</td><td>0.3418273                            </td><td>sterol_biosynthesis                  </td></tr>\n",
       "</tbody>\n",
       "</table>\n"
      ],
      "text/latex": [
       "\\begin{tabular}{r|llllllll}\n",
       " ensembl\\_gene\\_id & snp\\_id & coef & pval & n\\_cells & index & mean\\_ase & factor\\\\\n",
       "\\hline\n",
       "\t ENSG00000132507                             & 17\\_7207964\\_A\\_C                        & -0.13534786                                 & 1.007140e-174                               & 19271                                       & ('ENSG00000132507', '17\\_7207964\\_A\\_C') & 0.3418273                                   & G2\\_M\\_transition                        \\\\\n",
       "\t ENSG00000132507                             & 17\\_7207964\\_A\\_C                        & -0.09408758                                 & 4.714347e-101                               & 19271                                       & ('ENSG00000132507', '17\\_7207964\\_A\\_C') & 0.3418273                                   & sterol\\_biosynthesis                      \\\\\n",
       "\\end{tabular}\n"
      ],
      "text/markdown": [
       "\n",
       "ensembl_gene_id | snp_id | coef | pval | n_cells | index | mean_ase | factor | \n",
       "|---|---|\n",
       "| ENSG00000132507                       | 17_7207964_A_C                        | -0.13534786                           | 1.007140e-174                         | 19271                                 | ('ENSG00000132507', '17_7207964_A_C') | 0.3418273                             | G2_M_transition                       | \n",
       "| ENSG00000132507                       | 17_7207964_A_C                        | -0.09408758                           | 4.714347e-101                         | 19271                                 | ('ENSG00000132507', '17_7207964_A_C') | 0.3418273                             | sterol_biosynthesis                   | \n",
       "\n",
       "\n"
      ],
      "text/plain": [
       "  ensembl_gene_id snp_id         coef        pval          n_cells\n",
       "1 ENSG00000132507 17_7207964_A_C -0.13534786 1.007140e-174 19271  \n",
       "2 ENSG00000132507 17_7207964_A_C -0.09408758 4.714347e-101 19271  \n",
       "  index                                 mean_ase  factor             \n",
       "1 ('ENSG00000132507', '17_7207964_A_C') 0.3418273 G2_M_transition    \n",
       "2 ('ENSG00000132507', '17_7207964_A_C') 0.3418273 sterol_biosynthesis"
      ]
     },
     "metadata": {},
     "output_type": "display_data"
    }
   ],
   "source": [
    "head(test,2)\n",
    "head(pseudocorrect,2)"
   ]
  },
  {
   "cell_type": "code",
   "execution_count": 6,
   "metadata": {},
   "outputs": [
    {
     "data": {
      "text/html": [
       "<ol class=list-inline>\n",
       "\t<li>'pseudotime'</li>\n",
       "\t<li>'G2_M_transition'</li>\n",
       "\t<li>'sterol_biosynthesis'</li>\n",
       "\t<li>'G1_S_transition'</li>\n",
       "\t<li>'respiration'</li>\n",
       "</ol>\n"
      ],
      "text/latex": [
       "\\begin{enumerate*}\n",
       "\\item 'pseudotime'\n",
       "\\item 'G2\\_M\\_transition'\n",
       "\\item 'sterol\\_biosynthesis'\n",
       "\\item 'G1\\_S\\_transition'\n",
       "\\item 'respiration'\n",
       "\\end{enumerate*}\n"
      ],
      "text/markdown": [
       "1. 'pseudotime'\n",
       "2. 'G2_M_transition'\n",
       "3. 'sterol_biosynthesis'\n",
       "4. 'G1_S_transition'\n",
       "5. 'respiration'\n",
       "\n",
       "\n"
      ],
      "text/plain": [
       "[1] \"pseudotime\"          \"G2_M_transition\"     \"sterol_biosynthesis\"\n",
       "[4] \"G1_S_transition\"     \"respiration\"        "
      ]
     },
     "metadata": {},
     "output_type": "display_data"
    },
    {
     "data": {
      "text/html": [
       "22350"
      ],
      "text/latex": [
       "22350"
      ],
      "text/markdown": [
       "22350"
      ],
      "text/plain": [
       "[1] 22350"
      ]
     },
     "metadata": {},
     "output_type": "display_data"
    }
   ],
   "source": [
    "unique(test$factor)\n",
    "nrow(test)"
   ]
  },
  {
   "cell_type": "code",
   "execution_count": 7,
   "metadata": {},
   "outputs": [
    {
     "data": {
      "text/html": [
       "<ol class=list-inline>\n",
       "\t<li>'G2_M_transition'</li>\n",
       "\t<li>'sterol_biosynthesis'</li>\n",
       "\t<li>'respiration'</li>\n",
       "\t<li>'G1_S_transition'</li>\n",
       "</ol>\n"
      ],
      "text/latex": [
       "\\begin{enumerate*}\n",
       "\\item 'G2\\_M\\_transition'\n",
       "\\item 'sterol\\_biosynthesis'\n",
       "\\item 'respiration'\n",
       "\\item 'G1\\_S\\_transition'\n",
       "\\end{enumerate*}\n"
      ],
      "text/markdown": [
       "1. 'G2_M_transition'\n",
       "2. 'sterol_biosynthesis'\n",
       "3. 'respiration'\n",
       "4. 'G1_S_transition'\n",
       "\n",
       "\n"
      ],
      "text/plain": [
       "[1] \"G2_M_transition\"     \"sterol_biosynthesis\" \"respiration\"        \n",
       "[4] \"G1_S_transition\"    "
      ]
     },
     "metadata": {},
     "output_type": "display_data"
    },
    {
     "data": {
      "text/html": [
       "17880"
      ],
      "text/latex": [
       "17880"
      ],
      "text/markdown": [
       "17880"
      ],
      "text/plain": [
       "[1] 17880"
      ]
     },
     "metadata": {},
     "output_type": "display_data"
    }
   ],
   "source": [
    "unique(pseudocorrect$factor)\n",
    "nrow(pseudocorrect)"
   ]
  },
  {
   "cell_type": "code",
   "execution_count": 10,
   "metadata": {},
   "outputs": [
    {
     "data": {
      "text/html": [
       "<table>\n",
       "<thead><tr><th scope=col>ensembl_gene_id</th><th scope=col>snp_id</th><th scope=col>coef</th><th scope=col>pval</th><th scope=col>n_cells</th><th scope=col>index</th><th scope=col>mean_ase</th><th scope=col>factor</th></tr></thead>\n",
       "<tbody>\n",
       "\t<tr><td>ENSG00000142089                       </td><td>11_320394_C_T                         </td><td> 0.9779608                            </td><td>1.529277e-190                         </td><td>21955                                 </td><td>('ENSG00000142089', '11_320394_C_T')  </td><td>0.2617752                             </td><td>pseudotime                            </td></tr>\n",
       "\t<tr><td>ENSG00000142089                       </td><td>11_323649_C_T                         </td><td> 0.9610874                            </td><td>1.341942e-180                         </td><td>21955                                 </td><td>('ENSG00000142089', '11_323649_C_T')  </td><td>0.2641385                             </td><td>pseudotime                            </td></tr>\n",
       "\t<tr><td>ENSG00000120675                       </td><td>13_43597706_C_T                       </td><td> 0.7184553                            </td><td> 1.391857e-73                         </td><td>13767                                 </td><td>('ENSG00000120675', '13_43597706_C_T')</td><td>0.1503029                             </td><td>pseudotime                            </td></tr>\n",
       "\t<tr><td>ENSG00000132507                       </td><td>17_7207964_A_C                        </td><td> 0.3774398                            </td><td> 3.938858e-48                         </td><td>19271                                 </td><td>('ENSG00000132507', '17_7207964_A_C') </td><td>0.3418273                             </td><td>respiration                           </td></tr>\n",
       "\t<tr><td>ENSG00000132507                       </td><td>17_7207964_A_C                        </td><td> 0.2315262                            </td><td> 9.203289e-48                         </td><td>19271                                 </td><td>('ENSG00000132507', '17_7207964_A_C') </td><td>0.3418273                             </td><td>sterol_biosynthesis                   </td></tr>\n",
       "\t<tr><td>ENSG00000132507                       </td><td>17_7207964_A_C                        </td><td>-0.1952518                            </td><td> 2.856513e-37                         </td><td>19271                                 </td><td>('ENSG00000132507', '17_7207964_A_C') </td><td>0.3418273                             </td><td>pseudotime                            </td></tr>\n",
       "</tbody>\n",
       "</table>\n"
      ],
      "text/latex": [
       "\\begin{tabular}{r|llllllll}\n",
       " ensembl\\_gene\\_id & snp\\_id & coef & pval & n\\_cells & index & mean\\_ase & factor\\\\\n",
       "\\hline\n",
       "\t ENSG00000142089                              & 11\\_320394\\_C\\_T                          &  0.9779608                                   & 1.529277e-190                                & 21955                                        & ('ENSG00000142089', '11\\_320394\\_C\\_T')   & 0.2617752                                    & pseudotime                                  \\\\\n",
       "\t ENSG00000142089                              & 11\\_323649\\_C\\_T                          &  0.9610874                                   & 1.341942e-180                                & 21955                                        & ('ENSG00000142089', '11\\_323649\\_C\\_T')   & 0.2641385                                    & pseudotime                                  \\\\\n",
       "\t ENSG00000120675                              & 13\\_43597706\\_C\\_T                        &  0.7184553                                   &  1.391857e-73                                & 13767                                        & ('ENSG00000120675', '13\\_43597706\\_C\\_T') & 0.1503029                                    & pseudotime                                  \\\\\n",
       "\t ENSG00000132507                              & 17\\_7207964\\_A\\_C                         &  0.3774398                                   &  3.938858e-48                                & 19271                                        & ('ENSG00000132507', '17\\_7207964\\_A\\_C')  & 0.3418273                                    & respiration                                 \\\\\n",
       "\t ENSG00000132507                              & 17\\_7207964\\_A\\_C                         &  0.2315262                                   &  9.203289e-48                                & 19271                                        & ('ENSG00000132507', '17\\_7207964\\_A\\_C')  & 0.3418273                                    & sterol\\_biosynthesis                       \\\\\n",
       "\t ENSG00000132507                              & 17\\_7207964\\_A\\_C                         & -0.1952518                                   &  2.856513e-37                                & 19271                                        & ('ENSG00000132507', '17\\_7207964\\_A\\_C')  & 0.3418273                                    & pseudotime                                  \\\\\n",
       "\\end{tabular}\n"
      ],
      "text/markdown": [
       "\n",
       "ensembl_gene_id | snp_id | coef | pval | n_cells | index | mean_ase | factor | \n",
       "|---|---|---|---|---|---|\n",
       "| ENSG00000142089                        | 11_320394_C_T                          |  0.9779608                             | 1.529277e-190                          | 21955                                  | ('ENSG00000142089', '11_320394_C_T')   | 0.2617752                              | pseudotime                             | \n",
       "| ENSG00000142089                        | 11_323649_C_T                          |  0.9610874                             | 1.341942e-180                          | 21955                                  | ('ENSG00000142089', '11_323649_C_T')   | 0.2641385                              | pseudotime                             | \n",
       "| ENSG00000120675                        | 13_43597706_C_T                        |  0.7184553                             |  1.391857e-73                          | 13767                                  | ('ENSG00000120675', '13_43597706_C_T') | 0.1503029                              | pseudotime                             | \n",
       "| ENSG00000132507                        | 17_7207964_A_C                         |  0.3774398                             |  3.938858e-48                          | 19271                                  | ('ENSG00000132507', '17_7207964_A_C')  | 0.3418273                              | respiration                            | \n",
       "| ENSG00000132507                        | 17_7207964_A_C                         |  0.2315262                             |  9.203289e-48                          | 19271                                  | ('ENSG00000132507', '17_7207964_A_C')  | 0.3418273                              | sterol_biosynthesis                    | \n",
       "| ENSG00000132507                        | 17_7207964_A_C                         | -0.1952518                             |  2.856513e-37                          | 19271                                  | ('ENSG00000132507', '17_7207964_A_C')  | 0.3418273                              | pseudotime                             | \n",
       "\n",
       "\n"
      ],
      "text/plain": [
       "  ensembl_gene_id snp_id          coef       pval          n_cells\n",
       "1 ENSG00000142089 11_320394_C_T    0.9779608 1.529277e-190 21955  \n",
       "2 ENSG00000142089 11_323649_C_T    0.9610874 1.341942e-180 21955  \n",
       "3 ENSG00000120675 13_43597706_C_T  0.7184553  1.391857e-73 13767  \n",
       "4 ENSG00000132507 17_7207964_A_C   0.3774398  3.938858e-48 19271  \n",
       "5 ENSG00000132507 17_7207964_A_C   0.2315262  9.203289e-48 19271  \n",
       "6 ENSG00000132507 17_7207964_A_C  -0.1952518  2.856513e-37 19271  \n",
       "  index                                  mean_ase  factor             \n",
       "1 ('ENSG00000142089', '11_320394_C_T')   0.2617752 pseudotime         \n",
       "2 ('ENSG00000142089', '11_323649_C_T')   0.2641385 pseudotime         \n",
       "3 ('ENSG00000120675', '13_43597706_C_T') 0.1503029 pseudotime         \n",
       "4 ('ENSG00000132507', '17_7207964_A_C')  0.3418273 respiration        \n",
       "5 ('ENSG00000132507', '17_7207964_A_C')  0.3418273 sterol_biosynthesis\n",
       "6 ('ENSG00000132507', '17_7207964_A_C')  0.3418273 pseudotime         "
      ]
     },
     "metadata": {},
     "output_type": "display_data"
    }
   ],
   "source": [
    "head(quadratic)"
   ]
  },
  {
   "cell_type": "code",
   "execution_count": null,
   "metadata": {},
   "outputs": [],
   "source": []
  },
  {
   "cell_type": "code",
   "execution_count": 5,
   "metadata": {},
   "outputs": [],
   "source": [
    "first_test_sign <- function(test, myfact){\n",
    "    res = test\n",
    "    res = res[res$n_cells > 500,]\n",
    "    res = res[!(is.na(res$pval)),]\n",
    "    res$corr_pval = p.adjust(res$pval, method = \"BH\")\n",
    "    length(unique(res[res$corr_pval < 0.1 & res$factor == myfact,\"ensembl_gene_id\"]))\n",
    "} "
   ]
  },
  {
   "cell_type": "code",
   "execution_count": 6,
   "metadata": {},
   "outputs": [],
   "source": [
    "second_test_sign <- function(test, myfact){\n",
    "    res = test\n",
    "    res = res[res$n_cells > 500,]\n",
    "    res = res[!(is.na(res$pval)),]\n",
    "    res$corr_pval = p.adjust(res$pval, method = \"BH\")\n",
    "    length(unique(res[res$corr_pval < 0.1 & res$factor == myfact,\"ensembl_gene_id\"]))\n",
    "} "
   ]
  },
  {
   "cell_type": "code",
   "execution_count": 7,
   "metadata": {},
   "outputs": [],
   "source": [
    "quadratic_test_sign <- function(test, myfact){\n",
    "    res = test\n",
    "    res = res[res$n_cells > 500,]\n",
    "    res = res[!(is.na(res$pval)),]\n",
    "    res$corr_pval = p.adjust(res$pval, method = \"BH\")\n",
    "    length(unique(res[res$corr_pval < 0.1 & res$factor == myfact,\"ensembl_gene_id\"]))\n",
    "} "
   ]
  },
  {
   "cell_type": "code",
   "execution_count": 8,
   "metadata": {},
   "outputs": [],
   "source": [
    "third_test_sign <- function(test, myfact){\n",
    "    res = test[test$factor1 == \"pseudotime\" & test$factor2 != \"pseudotime\",]\n",
    "    res = res[res$n_cells > 500,]\n",
    "    res = res[!(is.na(res$pval)),]\n",
    "    res$corr_pval = p.adjust(res$pval, method = \"BH\")\n",
    "    length(unique(res[res$corr_pval < 0.1 & res$factor2 == myfact,\"ensembl_gene_id\"]))\n",
    "} "
   ]
  },
  {
   "cell_type": "code",
   "execution_count": 11,
   "metadata": {},
   "outputs": [
    {
     "data": {
      "text/html": [
       "<ol class=list-inline>\n",
       "\t<li>499</li>\n",
       "\t<li>367</li>\n",
       "\t<li>317</li>\n",
       "\t<li>276</li>\n",
       "\t<li>321</li>\n",
       "</ol>\n"
      ],
      "text/latex": [
       "\\begin{enumerate*}\n",
       "\\item 499\n",
       "\\item 367\n",
       "\\item 317\n",
       "\\item 276\n",
       "\\item 321\n",
       "\\end{enumerate*}\n"
      ],
      "text/markdown": [
       "1. 499\n",
       "2. 367\n",
       "3. 317\n",
       "4. 276\n",
       "5. 321\n",
       "\n",
       "\n"
      ],
      "text/plain": [
       "[1] 499 367 317 276 321"
      ]
     },
     "metadata": {},
     "output_type": "display_data"
    }
   ],
   "source": [
    "c(first_test_sign(test, \"pseudotime\"),\n",
    "##\n",
    "first_test_sign(test, \"respiration\"),\n",
    "first_test_sign(test, \"G1_S_transition\"),\n",
    "first_test_sign(test, \"sterol_biosynthesis\"),\n",
    "first_test_sign(test, \"G2_M_transition\"))"
   ]
  },
  {
   "cell_type": "code",
   "execution_count": 10,
   "metadata": {},
   "outputs": [],
   "source": [
    "# single_factor <- c(499, 367, 317, 276, 321)\n",
    "single_factor <- c(first_test_sign(test, \"pseudotime\"), \n",
    "                   first_test_sign(test, \"respiration\"), first_test_sign(test, \"G1_S_transition\"), \n",
    "                   first_test_sign(test, \"sterol_biosynthesis\"), first_test_sign(test, \"G2_M_transition\"))"
   ]
  },
  {
   "cell_type": "code",
   "execution_count": 12,
   "metadata": {},
   "outputs": [
    {
     "data": {
      "text/html": [
       "<ol class=list-inline>\n",
       "\t<li>213</li>\n",
       "\t<li>146</li>\n",
       "\t<li>224</li>\n",
       "\t<li>183</li>\n",
       "</ol>\n"
      ],
      "text/latex": [
       "\\begin{enumerate*}\n",
       "\\item 213\n",
       "\\item 146\n",
       "\\item 224\n",
       "\\item 183\n",
       "\\end{enumerate*}\n"
      ],
      "text/markdown": [
       "1. 213\n",
       "2. 146\n",
       "3. 224\n",
       "4. 183\n",
       "\n",
       "\n"
      ],
      "text/plain": [
       "[1] 213 146 224 183"
      ]
     },
     "metadata": {},
     "output_type": "display_data"
    }
   ],
   "source": [
    "c(second_test_sign(pseudocorrect, \"respiration\"),\n",
    "second_test_sign(pseudocorrect, \"G1_S_transition\"),\n",
    "second_test_sign(pseudocorrect, \"sterol_biosynthesis\"),\n",
    "second_test_sign(pseudocorrect, \"G2_M_transition\"))"
   ]
  },
  {
   "cell_type": "code",
   "execution_count": 13,
   "metadata": {},
   "outputs": [],
   "source": [
    "# pseudo_covar <- c(0, 213, 146, 224, 183)\n",
    "pseudo_covar = c(0, second_test_sign(pseudocorrect, \"respiration\"), second_test_sign(pseudocorrect, \"G1_S_transition\"), \n",
    "                 second_test_sign(pseudocorrect,\"sterol_biosynthesis\"),second_test_sign(pseudocorrect,\"G2_M_transition\"))"
   ]
  },
  {
   "cell_type": "code",
   "execution_count": 14,
   "metadata": {},
   "outputs": [
    {
     "data": {
      "text/html": [
       "<ol class=list-inline>\n",
       "\t<li>154</li>\n",
       "\t<li>91</li>\n",
       "\t<li>42</li>\n",
       "\t<li>36</li>\n",
       "\t<li>52</li>\n",
       "</ol>\n"
      ],
      "text/latex": [
       "\\begin{enumerate*}\n",
       "\\item 154\n",
       "\\item 91\n",
       "\\item 42\n",
       "\\item 36\n",
       "\\item 52\n",
       "\\end{enumerate*}\n"
      ],
      "text/markdown": [
       "1. 154\n",
       "2. 91\n",
       "3. 42\n",
       "4. 36\n",
       "5. 52\n",
       "\n",
       "\n"
      ],
      "text/plain": [
       "[1] 154  91  42  36  52"
      ]
     },
     "metadata": {},
     "output_type": "display_data"
    }
   ],
   "source": [
    "c(quadratic_test_sign(quadratic, \"pseudotime\"),\n",
    "##\n",
    "third_test_sign(nonlinear, \"respiration\"),\n",
    "third_test_sign(nonlinear, \"G1_S_transition\"),\n",
    "third_test_sign(nonlinear, \"sterol_biosynthesis\"),\n",
    "third_test_sign(nonlinear, \"G2_M_transition\"))"
   ]
  },
  {
   "cell_type": "code",
   "execution_count": 15,
   "metadata": {},
   "outputs": [],
   "source": [
    "# non_linear <- c(154, 91, 42, 36, 52)\n",
    "non_linear <- c(quadratic_test_sign(quadratic, \"pseudotime\"),\n",
    "                third_test_sign(nonlinear, \"respiration\"), third_test_sign(nonlinear, \"G1_S_transition\"), \n",
    "                third_test_sign(nonlinear, \"sterol_biosynthesis\"), third_test_sign(nonlinear, \"G2_M_transition\"))"
   ]
  },
  {
   "cell_type": "code",
   "execution_count": 16,
   "metadata": {},
   "outputs": [],
   "source": [
    "ymax <- single_factor[which.max(single_factor)]"
   ]
  },
  {
   "cell_type": "code",
   "execution_count": 17,
   "metadata": {},
   "outputs": [
    {
     "data": {
      "image/png": "[encoded data removed]",
      "text/plain": [
       "plot without title"
      ]
     },
     "metadata": {},
     "output_type": "display_data"
    }
   ],
   "source": [
    "options(repr.plot.width = 7, repr.plot.height = 5)\n",
    "x <- barplot(single_factor, \n",
    "             border = c('slateblue','salmon2', 'salmon2', 'salmon2', 'salmon2'),\n",
    "             col = c('lightslateblue','salmon', 'salmon', 'salmon', 'salmon'),\n",
    "             xlim = c(0, 6), ylim = c(0, 500), space = 1.2,\n",
    "             width = 0.5, ylab = \"# eGenes\")\n",
    "par(new = TRUE)\n",
    "barplot(pseudo_covar,  \n",
    "        border = c('slateblue', 'indianred4','indianred4','indianred4','indianred4'), \n",
    "        col = 'indianred3',\n",
    "        xlim = c(-0.2, 5.8), ylim = c(0, 500),\n",
    "        width = 0.5, space = 1.2, axisnames = FALSE)\n",
    "par(new = TRUE)\n",
    "barplot(non_linear,  \n",
    "        border = c('midnightblue', 'maroon4','maroon4','maroon4','maroon4'), \n",
    "        col = c('darkblue', 'firebrick','firebrick','firebrick','firebrick'),\n",
    "        xlim = c(-0.4, 5.6), ylim = c(0, 500),\n",
    "        width = 0.5, space = 1.2, axisnames = FALSE)"
   ]
  },
  {
   "cell_type": "code",
   "execution_count": null,
   "metadata": {},
   "outputs": [],
   "source": []
  }
 ],
 "metadata": {
  "kernelspec": {
   "display_name": "R",
   "language": "R",
   "name": "ir"
  },
  "language_info": {
   "codemirror_mode": "r",
   "file_extension": ".r",
   "mimetype": "text/x-r-source",
   "name": "R",
   "pygments_lexer": "r",
   "version": "3.4.3"
  }
 },
 "nbformat": 4,
 "nbformat_minor": 2
}
