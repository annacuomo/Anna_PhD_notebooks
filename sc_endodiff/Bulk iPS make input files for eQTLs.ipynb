{
 "cells": [
  {
   "cell_type": "code",
   "execution_count": 3,
   "metadata": {},
   "outputs": [],
   "source": [
    "## load useful libraries\n",
    "suppressWarnings(suppressPackageStartupMessages(library(rhdf5)))\n",
    "suppressWarnings(suppressPackageStartupMessages(library(qvalue)))\n",
    "suppressWarnings(suppressPackageStartupMessages(library(dplyr)))\n",
    "suppressWarnings(suppressPackageStartupMessages(library(cowplot)))\n",
    "suppressWarnings(suppressPackageStartupMessages(library(tidyverse)))\n",
    "suppressWarnings(suppressPackageStartupMessages(library(ggbeeswarm)))\n",
    "suppressWarnings(suppressPackageStartupMessages(library(ggthemes)))\n",
    "# suppressWarnings(suppressPackageStartupMessages(library(scater)))\n",
    "suppressWarnings(suppressPackageStartupMessages(library(SingleCellExperiment)))\n",
    "suppressWarnings(suppressPackageStartupMessages(library(edgeR)))\n",
    "suppressWarnings(suppressPackageStartupMessages(library(limma)))\n",
    "suppressWarnings(suppressPackageStartupMessages(library(ggplot2)))\n",
    "suppressWarnings(suppressPackageStartupMessages(library(ISLR)))\n",
    "suppressWarnings(suppressPackageStartupMessages(library(GGally)))\n",
    "# suppressWarnings(suppressPackageStartupMessages(library(scran)))"
   ]
  },
  {
   "cell_type": "code",
   "execution_count": 4,
   "metadata": {},
   "outputs": [],
   "source": [
    "sce = readRDS(\"/hps/nobackup/hipsci/scratch/singlecell_endodiff/data_processed/merged/20180618/sce_merged_afterqc_filt_allexpts.rds\")"
   ]
  },
  {
   "cell_type": "code",
   "execution_count": 5,
   "metadata": {},
   "outputs": [
    {
     "data": {
      "text/plain": [
       "class: SingleCellExperiment \n",
       "dim: 11231 36044 \n",
       "metadata(4): log.exprs.offset log.exprs.offset log.exprs.offset\n",
       "  log.exprs.offset\n",
       "assays(3): tpm counts logcounts\n",
       "rownames(11231): ENSG00000000003_TSPAN6 ENSG00000000419_DPM1 ...\n",
       "  ENSG00000272325_NUDT3 ENSG00000272398_CD24\n",
       "rowData names(17): exprs_collapsed_to ensembl_transcript_id ...\n",
       "  is_intop2000hvg is_hvg\n",
       "colnames(36044): 21843_1#10 21843_1#100 ... 24539_8#97 24539_8#98\n",
       "colData names(123): adj_x adj_y ... princ_curve princ_curve_scaled01\n",
       "reducedDimNames(1): PCA\n",
       "spikeNames(1): ERCC"
      ]
     },
     "metadata": {},
     "output_type": "display_data"
    }
   ],
   "source": [
    "sce"
   ]
  },
  {
   "cell_type": "code",
   "execution_count": 6,
   "metadata": {},
   "outputs": [],
   "source": [
    "# select day 0 only (iPSC)\n",
    "sce0 = sce[,sce$day == \"day0\"]"
   ]
  },
  {
   "cell_type": "code",
   "execution_count": 9,
   "metadata": {},
   "outputs": [
    {
     "data": {
      "text/html": [
       "<table>\n",
       "<thead><tr><th></th><th scope=col>21672_1#101</th><th scope=col>21672_1#102</th><th scope=col>21672_1#103</th><th scope=col>21672_1#104</th><th scope=col>21672_1#105</th><th scope=col>21672_1#106</th></tr></thead>\n",
       "<tbody>\n",
       "\t<tr><th scope=row>ENSG00000000003_TSPAN6</th><td>60.1532147  </td><td>285.8210069 </td><td>33.40210069 </td><td> 36.80886567</td><td>2.307274e+01</td><td>66.9105053  </td></tr>\n",
       "\t<tr><th scope=row>ENSG00000000419_DPM1</th><td>83.9894420  </td><td>247.0733696 </td><td>50.69112197 </td><td>111.03855721</td><td>6.546916e+01</td><td>69.9280914  </td></tr>\n",
       "\t<tr><th scope=row>ENSG00000000457_SCYL3</th><td> 0.1464558  </td><td>  0.2744699 </td><td> 0.03393052 </td><td>  0.02807687</td><td>2.242447e-04</td><td> 0.3059507  </td></tr>\n",
       "\t<tr><th scope=row>ENSG00000000460_C1orf112</th><td> 2.1843675  </td><td>  9.1652954 </td><td>10.25336268 </td><td>  1.22454737</td><td>1.580143e+01</td><td>14.3256698  </td></tr>\n",
       "\t<tr><th scope=row>ENSG00000001036_FUCA2</th><td>46.3824370  </td><td> 25.9400674 </td><td> 7.03549791 </td><td>  9.43775850</td><td>5.383519e+01</td><td> 0.0000000  </td></tr>\n",
       "</tbody>\n",
       "</table>\n"
      ],
      "text/latex": [
       "\\begin{tabular}{r|llllll}\n",
       "  & 21672\\_1\\#101 & 21672\\_1\\#102 & 21672\\_1\\#103 & 21672\\_1\\#104 & 21672\\_1\\#105 & 21672\\_1\\#106\\\\\n",
       "\\hline\n",
       "\tENSG00000000003\\_TSPAN6 & 60.1532147   & 285.8210069  & 33.40210069  &  36.80886567 & 2.307274e+01 & 66.9105053  \\\\\n",
       "\tENSG00000000419\\_DPM1 & 83.9894420   & 247.0733696  & 50.69112197  & 111.03855721 & 6.546916e+01 & 69.9280914  \\\\\n",
       "\tENSG00000000457\\_SCYL3 &  0.1464558   &   0.2744699  &  0.03393052  &   0.02807687 & 2.242447e-04 &  0.3059507  \\\\\n",
       "\tENSG00000000460\\_C1orf112 &  2.1843675   &   9.1652954  & 10.25336268  &   1.22454737 & 1.580143e+01 & 14.3256698  \\\\\n",
       "\tENSG00000001036\\_FUCA2 & 46.3824370   &  25.9400674  &  7.03549791  &   9.43775850 & 5.383519e+01 &  0.0000000  \\\\\n",
       "\\end{tabular}\n"
      ],
      "text/markdown": [
       "\n",
       "| <!--/--> | 21672_1#101 | 21672_1#102 | 21672_1#103 | 21672_1#104 | 21672_1#105 | 21672_1#106 | \n",
       "|---|---|---|---|---|\n",
       "| ENSG00000000003_TSPAN6 | 60.1532147   | 285.8210069  | 33.40210069  |  36.80886567 | 2.307274e+01 | 66.9105053   | \n",
       "| ENSG00000000419_DPM1 | 83.9894420   | 247.0733696  | 50.69112197  | 111.03855721 | 6.546916e+01 | 69.9280914   | \n",
       "| ENSG00000000457_SCYL3 |  0.1464558   |   0.2744699  |  0.03393052  |   0.02807687 | 2.242447e-04 |  0.3059507   | \n",
       "| ENSG00000000460_C1orf112 |  2.1843675   |   9.1652954  | 10.25336268  |   1.22454737 | 1.580143e+01 | 14.3256698   | \n",
       "| ENSG00000001036_FUCA2 | 46.3824370   |  25.9400674  |  7.03549791  |   9.43775850 | 5.383519e+01 |  0.0000000   | \n",
       "\n",
       "\n"
      ],
      "text/plain": [
       "                         21672_1#101 21672_1#102 21672_1#103 21672_1#104 \n",
       "ENSG00000000003_TSPAN6   60.1532147  285.8210069 33.40210069  36.80886567\n",
       "ENSG00000000419_DPM1     83.9894420  247.0733696 50.69112197 111.03855721\n",
       "ENSG00000000457_SCYL3     0.1464558    0.2744699  0.03393052   0.02807687\n",
       "ENSG00000000460_C1orf112  2.1843675    9.1652954 10.25336268   1.22454737\n",
       "ENSG00000001036_FUCA2    46.3824370   25.9400674  7.03549791   9.43775850\n",
       "                         21672_1#105  21672_1#106\n",
       "ENSG00000000003_TSPAN6   2.307274e+01 66.9105053 \n",
       "ENSG00000000419_DPM1     6.546916e+01 69.9280914 \n",
       "ENSG00000000457_SCYL3    2.242447e-04  0.3059507 \n",
       "ENSG00000000460_C1orf112 1.580143e+01 14.3256698 \n",
       "ENSG00000001036_FUCA2    5.383519e+01  0.0000000 "
      ]
     },
     "metadata": {},
     "output_type": "display_data"
    }
   ],
   "source": [
    "counts(sce0)[1:5,1:6]"
   ]
  },
  {
   "cell_type": "code",
   "execution_count": 10,
   "metadata": {},
   "outputs": [],
   "source": [
    "bulk <- readRDS(\"/hps/nobackup/stegle/users/acuomo/merged_bulk_salmon_quant.rds\")"
   ]
  },
  {
   "cell_type": "code",
   "execution_count": 11,
   "metadata": {},
   "outputs": [
    {
     "data": {
      "text/html": [
       "112"
      ],
      "text/latex": [
       "112"
      ],
      "text/markdown": [
       "112"
      ],
      "text/plain": [
       "[1] 112"
      ]
     },
     "metadata": {},
     "output_type": "display_data"
    },
    {
     "data": {
      "text/html": [
       "<ol class=list-inline>\n",
       "\t<li>'HPSI0114i-zapk_3'</li>\n",
       "\t<li>'HPSI0214i-wibj_2'</li>\n",
       "\t<li>'HPSI1013i-jogf_2'</li>\n",
       "\t<li>'HPSI0214i-pelm_3'</li>\n",
       "\t<li>'HPSI0114i-vass_1'</li>\n",
       "\t<li>'HPSI0214i-heth_1'</li>\n",
       "\t<li>'HPSI1014i-toss_3'</li>\n",
       "\t<li>'HPSI0614i-paab_4'</li>\n",
       "\t<li>'HPSI0414i-oaqd_3'</li>\n",
       "\t<li>'HPSI1013i-sita_1'</li>\n",
       "\t<li>'HPSI0614i-zoio_2'</li>\n",
       "\t<li>'HPSI0914i-kajh_3'</li>\n",
       "\t<li>'HPSI0714i-fasu_2'</li>\n",
       "\t<li>'HPSI0414i-tout_1'</li>\n",
       "\t<li>'HPSI0714i-iudw_4'</li>\n",
       "\t<li>'HPSI0514i-tavh_2'</li>\n",
       "\t<li>'HPSI0514i-pulk_1'</li>\n",
       "\t<li>'HPSI0215i-fawm_2'</li>\n",
       "\t<li>'HPSI0714i-oebj_1'</li>\n",
       "\t<li>'HPSI0714i-oojs_1'</li>\n",
       "\t<li>'HPSI0514i-eoxi_6'</li>\n",
       "\t<li>'HPSI0414i-seru_1'</li>\n",
       "\t<li>'HPSI0614i-guyj_2'</li>\n",
       "\t<li>'HPSI1014i-qayj_3'</li>\n",
       "\t<li>'HPSI0414i-walu_1'</li>\n",
       "\t<li>'HPSI1014i-babz_3'</li>\n",
       "\t<li>'HPSI0114i-iisa_1'</li>\n",
       "\t<li>'HPSI0414i-oikd_2'</li>\n",
       "\t<li>'HPSI1014i-quls_2'</li>\n",
       "\t<li>'HPSI0514i-sohd_3'</li>\n",
       "\t<li>'HPSI0514i-letw_1'</li>\n",
       "\t<li>'HPSI0215i-oilg_3'</li>\n",
       "\t<li>'HPSI0514i-rutc_2'</li>\n",
       "\t<li>'HPSI0115i-vazt_1'</li>\n",
       "\t<li>'HPSI0614i-oicx_6'</li>\n",
       "\t<li>'HPSI1113i-wahn_1'</li>\n",
       "\t<li>'HPSI1014i-sehl_6'</li>\n",
       "\t<li>'HPSI0914i-suop_5'</li>\n",
       "\t<li>'HPSI0715i-aowh_2'</li>\n",
       "\t<li>'HPSI0314i-cuhk_2'</li>\n",
       "\t<li>'HPSI0613i-hegp_3'</li>\n",
       "\t<li>'HPSI0713i-cicb_2'</li>\n",
       "\t<li>'HPSI0614i-lepk_1'</li>\n",
       "\t<li>'HPSI0713i-veku_2'</li>\n",
       "\t<li>'HPSI0613i-ueah_1'</li>\n",
       "\t<li>'HPSI0414i-naju_1'</li>\n",
       "\t<li>'HPSI0913i-lise_3'</li>\n",
       "\t<li>'HPSI0214i-eiwy_1'</li>\n",
       "\t<li>'HPSI0514i-puie_5'</li>\n",
       "\t<li>'HPSI0115i-qoog_4'</li>\n",
       "\t<li>'HPSI0914i-zerv_8'</li>\n",
       "\t<li>'HPSI0114i-kolf_2'</li>\n",
       "\t<li>'HPSI0514i-uenn_3'</li>\n",
       "\t<li>'HPSI0914i-iezw_2'</li>\n",
       "\t<li>'HPSI0114i-wegi_1'</li>\n",
       "\t<li>'HPSI0314i-sojd_3'</li>\n",
       "\t<li>'HPSI1213i-tolg_6'</li>\n",
       "\t<li>'HPSI0214i-rayr_1'</li>\n",
       "\t<li>'HPSI0314i-qaqx_1'</li>\n",
       "\t<li>'HPSI1013i-yemz_1'</li>\n",
       "\t<li>'HPSI1013i-wuye_2'</li>\n",
       "\t<li>'HPSI0114i-joxm_1'</li>\n",
       "\t<li>'HPSI0214i-kucg_2'</li>\n",
       "\t<li>'HPSI0114i-iisa_3'</li>\n",
       "\t<li>'HPSI0114i-bezi_1'</li>\n",
       "\t<li>'HPSI1014i-kefb_1'</li>\n",
       "\t<li>'HPSI1014i-nosn_6'</li>\n",
       "\t<li>'HPSI1213i-pahc_4'</li>\n",
       "\t<li>'HPSI0414i-xojn_3'</li>\n",
       "\t<li>'HPSI0314i-hoik_1'</li>\n",
       "\t<li>'HPSI0114i-eipl_1'</li>\n",
       "\t<li>'HPSI0215i-yoch_6'</li>\n",
       "\t<li>'HPSI1113i-hayt_1'</li>\n",
       "\t<li>'HPSI1014i-eesb_1'</li>\n",
       "\t<li>'HPSI1013i-kuxp_1'</li>\n",
       "\t<li>'HPSI0514i-yelp_3'</li>\n",
       "\t<li>'HPSI0614i-qunz_3'</li>\n",
       "\t<li>'HPSI0115i-aoxv_3'</li>\n",
       "\t<li>'HPSI0115i-melw_2'</li>\n",
       "\t<li>'HPSI0714i-pipw_5'</li>\n",
       "\t<li>'HPSI1014i-juuy_2'</li>\n",
       "\t<li>'HPSI0914i-jejf_2'</li>\n",
       "\t<li>'HPSI0914i-qehq_3'</li>\n",
       "\t<li>'HPSI0614i-uilk_3'</li>\n",
       "\t<li>'HPSI0514i-toco_5'</li>\n",
       "\t<li>'HPSI1113i-hajc_1'</li>\n",
       "\t<li>'HPSI0514i-kuco_1'</li>\n",
       "\t<li>'HPSI0115i-hecn_3'</li>\n",
       "\t<li>'HPSI0614i-liqa_1'</li>\n",
       "\t<li>'HPSI0514i-tert_1'</li>\n",
       "\t<li>'HPSI0614i-ciwj_2'</li>\n",
       "\t<li>'HPSI0214i-poih_4'</li>\n",
       "\t<li>'HPSI0115i-iiyk_4'</li>\n",
       "\t<li>'HPSI0614i-miaj_6'</li>\n",
       "\t<li>'HPSI0914i-laey_4'</li>\n",
       "\t<li>'HPSI0715i-meue_4'</li>\n",
       "\t<li>'HPSI1014i-vils_1'</li>\n",
       "\t<li>'HPSI0714i-keui_1'</li>\n",
       "\t<li>'HPSI0514i-naah_2'</li>\n",
       "\t<li>'HPSI0513i-oibg_1'</li>\n",
       "\t<li>'HPSI0713i-nocf_2'</li>\n",
       "\t<li>'HPSI0813i-guss_1'</li>\n",
       "\t<li>'HPSI0414i-mita_2'</li>\n",
       "\t<li>'HPSI0214i-datg_2'</li>\n",
       "\t<li>'HPSI1113i-qorq_2'</li>\n",
       "\t<li>'HPSI0214i-feec_2'</li>\n",
       "\t<li>'HPSI0413i-nudd_1'</li>\n",
       "\t<li>'HPSI0814i-bokz_5'</li>\n",
       "\t<li>'HPSI0314i-wigw_2'</li>\n",
       "\t<li>'HPSI1013i-zagm_1'</li>\n",
       "\t<li>'HPSI0513i-fejf_2'</li>\n",
       "\t<li>'HPSI0714i-nufh_3'</li>\n",
       "</ol>\n"
      ],
      "text/latex": [
       "\\begin{enumerate*}\n",
       "\\item 'HPSI0114i-zapk\\_3'\n",
       "\\item 'HPSI0214i-wibj\\_2'\n",
       "\\item 'HPSI1013i-jogf\\_2'\n",
       "\\item 'HPSI0214i-pelm\\_3'\n",
       "\\item 'HPSI0114i-vass\\_1'\n",
       "\\item 'HPSI0214i-heth\\_1'\n",
       "\\item 'HPSI1014i-toss\\_3'\n",
       "\\item 'HPSI0614i-paab\\_4'\n",
       "\\item 'HPSI0414i-oaqd\\_3'\n",
       "\\item 'HPSI1013i-sita\\_1'\n",
       "\\item 'HPSI0614i-zoio\\_2'\n",
       "\\item 'HPSI0914i-kajh\\_3'\n",
       "\\item 'HPSI0714i-fasu\\_2'\n",
       "\\item 'HPSI0414i-tout\\_1'\n",
       "\\item 'HPSI0714i-iudw\\_4'\n",
       "\\item 'HPSI0514i-tavh\\_2'\n",
       "\\item 'HPSI0514i-pulk\\_1'\n",
       "\\item 'HPSI0215i-fawm\\_2'\n",
       "\\item 'HPSI0714i-oebj\\_1'\n",
       "\\item 'HPSI0714i-oojs\\_1'\n",
       "\\item 'HPSI0514i-eoxi\\_6'\n",
       "\\item 'HPSI0414i-seru\\_1'\n",
       "\\item 'HPSI0614i-guyj\\_2'\n",
       "\\item 'HPSI1014i-qayj\\_3'\n",
       "\\item 'HPSI0414i-walu\\_1'\n",
       "\\item 'HPSI1014i-babz\\_3'\n",
       "\\item 'HPSI0114i-iisa\\_1'\n",
       "\\item 'HPSI0414i-oikd\\_2'\n",
       "\\item 'HPSI1014i-quls\\_2'\n",
       "\\item 'HPSI0514i-sohd\\_3'\n",
       "\\item 'HPSI0514i-letw\\_1'\n",
       "\\item 'HPSI0215i-oilg\\_3'\n",
       "\\item 'HPSI0514i-rutc\\_2'\n",
       "\\item 'HPSI0115i-vazt\\_1'\n",
       "\\item 'HPSI0614i-oicx\\_6'\n",
       "\\item 'HPSI1113i-wahn\\_1'\n",
       "\\item 'HPSI1014i-sehl\\_6'\n",
       "\\item 'HPSI0914i-suop\\_5'\n",
       "\\item 'HPSI0715i-aowh\\_2'\n",
       "\\item 'HPSI0314i-cuhk\\_2'\n",
       "\\item 'HPSI0613i-hegp\\_3'\n",
       "\\item 'HPSI0713i-cicb\\_2'\n",
       "\\item 'HPSI0614i-lepk\\_1'\n",
       "\\item 'HPSI0713i-veku\\_2'\n",
       "\\item 'HPSI0613i-ueah\\_1'\n",
       "\\item 'HPSI0414i-naju\\_1'\n",
       "\\item 'HPSI0913i-lise\\_3'\n",
       "\\item 'HPSI0214i-eiwy\\_1'\n",
       "\\item 'HPSI0514i-puie\\_5'\n",
       "\\item 'HPSI0115i-qoog\\_4'\n",
       "\\item 'HPSI0914i-zerv\\_8'\n",
       "\\item 'HPSI0114i-kolf\\_2'\n",
       "\\item 'HPSI0514i-uenn\\_3'\n",
       "\\item 'HPSI0914i-iezw\\_2'\n",
       "\\item 'HPSI0114i-wegi\\_1'\n",
       "\\item 'HPSI0314i-sojd\\_3'\n",
       "\\item 'HPSI1213i-tolg\\_6'\n",
       "\\item 'HPSI0214i-rayr\\_1'\n",
       "\\item 'HPSI0314i-qaqx\\_1'\n",
       "\\item 'HPSI1013i-yemz\\_1'\n",
       "\\item 'HPSI1013i-wuye\\_2'\n",
       "\\item 'HPSI0114i-joxm\\_1'\n",
       "\\item 'HPSI0214i-kucg\\_2'\n",
       "\\item 'HPSI0114i-iisa\\_3'\n",
       "\\item 'HPSI0114i-bezi\\_1'\n",
       "\\item 'HPSI1014i-kefb\\_1'\n",
       "\\item 'HPSI1014i-nosn\\_6'\n",
       "\\item 'HPSI1213i-pahc\\_4'\n",
       "\\item 'HPSI0414i-xojn\\_3'\n",
       "\\item 'HPSI0314i-hoik\\_1'\n",
       "\\item 'HPSI0114i-eipl\\_1'\n",
       "\\item 'HPSI0215i-yoch\\_6'\n",
       "\\item 'HPSI1113i-hayt\\_1'\n",
       "\\item 'HPSI1014i-eesb\\_1'\n",
       "\\item 'HPSI1013i-kuxp\\_1'\n",
       "\\item 'HPSI0514i-yelp\\_3'\n",
       "\\item 'HPSI0614i-qunz\\_3'\n",
       "\\item 'HPSI0115i-aoxv\\_3'\n",
       "\\item 'HPSI0115i-melw\\_2'\n",
       "\\item 'HPSI0714i-pipw\\_5'\n",
       "\\item 'HPSI1014i-juuy\\_2'\n",
       "\\item 'HPSI0914i-jejf\\_2'\n",
       "\\item 'HPSI0914i-qehq\\_3'\n",
       "\\item 'HPSI0614i-uilk\\_3'\n",
       "\\item 'HPSI0514i-toco\\_5'\n",
       "\\item 'HPSI1113i-hajc\\_1'\n",
       "\\item 'HPSI0514i-kuco\\_1'\n",
       "\\item 'HPSI0115i-hecn\\_3'\n",
       "\\item 'HPSI0614i-liqa\\_1'\n",
       "\\item 'HPSI0514i-tert\\_1'\n",
       "\\item 'HPSI0614i-ciwj\\_2'\n",
       "\\item 'HPSI0214i-poih\\_4'\n",
       "\\item 'HPSI0115i-iiyk\\_4'\n",
       "\\item 'HPSI0614i-miaj\\_6'\n",
       "\\item 'HPSI0914i-laey\\_4'\n",
       "\\item 'HPSI0715i-meue\\_4'\n",
       "\\item 'HPSI1014i-vils\\_1'\n",
       "\\item 'HPSI0714i-keui\\_1'\n",
       "\\item 'HPSI0514i-naah\\_2'\n",
       "\\item 'HPSI0513i-oibg\\_1'\n",
       "\\item 'HPSI0713i-nocf\\_2'\n",
       "\\item 'HPSI0813i-guss\\_1'\n",
       "\\item 'HPSI0414i-mita\\_2'\n",
       "\\item 'HPSI0214i-datg\\_2'\n",
       "\\item 'HPSI1113i-qorq\\_2'\n",
       "\\item 'HPSI0214i-feec\\_2'\n",
       "\\item 'HPSI0413i-nudd\\_1'\n",
       "\\item 'HPSI0814i-bokz\\_5'\n",
       "\\item 'HPSI0314i-wigw\\_2'\n",
       "\\item 'HPSI1013i-zagm\\_1'\n",
       "\\item 'HPSI0513i-fejf\\_2'\n",
       "\\item 'HPSI0714i-nufh\\_3'\n",
       "\\end{enumerate*}\n"
      ],
      "text/markdown": [
       "1. 'HPSI0114i-zapk_3'\n",
       "2. 'HPSI0214i-wibj_2'\n",
       "3. 'HPSI1013i-jogf_2'\n",
       "4. 'HPSI0214i-pelm_3'\n",
       "5. 'HPSI0114i-vass_1'\n",
       "6. 'HPSI0214i-heth_1'\n",
       "7. 'HPSI1014i-toss_3'\n",
       "8. 'HPSI0614i-paab_4'\n",
       "9. 'HPSI0414i-oaqd_3'\n",
       "10. 'HPSI1013i-sita_1'\n",
       "11. 'HPSI0614i-zoio_2'\n",
       "12. 'HPSI0914i-kajh_3'\n",
       "13. 'HPSI0714i-fasu_2'\n",
       "14. 'HPSI0414i-tout_1'\n",
       "15. 'HPSI0714i-iudw_4'\n",
       "16. 'HPSI0514i-tavh_2'\n",
       "17. 'HPSI0514i-pulk_1'\n",
       "18. 'HPSI0215i-fawm_2'\n",
       "19. 'HPSI0714i-oebj_1'\n",
       "20. 'HPSI0714i-oojs_1'\n",
       "21. 'HPSI0514i-eoxi_6'\n",
       "22. 'HPSI0414i-seru_1'\n",
       "23. 'HPSI0614i-guyj_2'\n",
       "24. 'HPSI1014i-qayj_3'\n",
       "25. 'HPSI0414i-walu_1'\n",
       "26. 'HPSI1014i-babz_3'\n",
       "27. 'HPSI0114i-iisa_1'\n",
       "28. 'HPSI0414i-oikd_2'\n",
       "29. 'HPSI1014i-quls_2'\n",
       "30. 'HPSI0514i-sohd_3'\n",
       "31. 'HPSI0514i-letw_1'\n",
       "32. 'HPSI0215i-oilg_3'\n",
       "33. 'HPSI0514i-rutc_2'\n",
       "34. 'HPSI0115i-vazt_1'\n",
       "35. 'HPSI0614i-oicx_6'\n",
       "36. 'HPSI1113i-wahn_1'\n",
       "37. 'HPSI1014i-sehl_6'\n",
       "38. 'HPSI0914i-suop_5'\n",
       "39. 'HPSI0715i-aowh_2'\n",
       "40. 'HPSI0314i-cuhk_2'\n",
       "41. 'HPSI0613i-hegp_3'\n",
       "42. 'HPSI0713i-cicb_2'\n",
       "43. 'HPSI0614i-lepk_1'\n",
       "44. 'HPSI0713i-veku_2'\n",
       "45. 'HPSI0613i-ueah_1'\n",
       "46. 'HPSI0414i-naju_1'\n",
       "47. 'HPSI0913i-lise_3'\n",
       "48. 'HPSI0214i-eiwy_1'\n",
       "49. 'HPSI0514i-puie_5'\n",
       "50. 'HPSI0115i-qoog_4'\n",
       "51. 'HPSI0914i-zerv_8'\n",
       "52. 'HPSI0114i-kolf_2'\n",
       "53. 'HPSI0514i-uenn_3'\n",
       "54. 'HPSI0914i-iezw_2'\n",
       "55. 'HPSI0114i-wegi_1'\n",
       "56. 'HPSI0314i-sojd_3'\n",
       "57. 'HPSI1213i-tolg_6'\n",
       "58. 'HPSI0214i-rayr_1'\n",
       "59. 'HPSI0314i-qaqx_1'\n",
       "60. 'HPSI1013i-yemz_1'\n",
       "61. 'HPSI1013i-wuye_2'\n",
       "62. 'HPSI0114i-joxm_1'\n",
       "63. 'HPSI0214i-kucg_2'\n",
       "64. 'HPSI0114i-iisa_3'\n",
       "65. 'HPSI0114i-bezi_1'\n",
       "66. 'HPSI1014i-kefb_1'\n",
       "67. 'HPSI1014i-nosn_6'\n",
       "68. 'HPSI1213i-pahc_4'\n",
       "69. 'HPSI0414i-xojn_3'\n",
       "70. 'HPSI0314i-hoik_1'\n",
       "71. 'HPSI0114i-eipl_1'\n",
       "72. 'HPSI0215i-yoch_6'\n",
       "73. 'HPSI1113i-hayt_1'\n",
       "74. 'HPSI1014i-eesb_1'\n",
       "75. 'HPSI1013i-kuxp_1'\n",
       "76. 'HPSI0514i-yelp_3'\n",
       "77. 'HPSI0614i-qunz_3'\n",
       "78. 'HPSI0115i-aoxv_3'\n",
       "79. 'HPSI0115i-melw_2'\n",
       "80. 'HPSI0714i-pipw_5'\n",
       "81. 'HPSI1014i-juuy_2'\n",
       "82. 'HPSI0914i-jejf_2'\n",
       "83. 'HPSI0914i-qehq_3'\n",
       "84. 'HPSI0614i-uilk_3'\n",
       "85. 'HPSI0514i-toco_5'\n",
       "86. 'HPSI1113i-hajc_1'\n",
       "87. 'HPSI0514i-kuco_1'\n",
       "88. 'HPSI0115i-hecn_3'\n",
       "89. 'HPSI0614i-liqa_1'\n",
       "90. 'HPSI0514i-tert_1'\n",
       "91. 'HPSI0614i-ciwj_2'\n",
       "92. 'HPSI0214i-poih_4'\n",
       "93. 'HPSI0115i-iiyk_4'\n",
       "94. 'HPSI0614i-miaj_6'\n",
       "95. 'HPSI0914i-laey_4'\n",
       "96. 'HPSI0715i-meue_4'\n",
       "97. 'HPSI1014i-vils_1'\n",
       "98. 'HPSI0714i-keui_1'\n",
       "99. 'HPSI0514i-naah_2'\n",
       "100. 'HPSI0513i-oibg_1'\n",
       "101. 'HPSI0713i-nocf_2'\n",
       "102. 'HPSI0813i-guss_1'\n",
       "103. 'HPSI0414i-mita_2'\n",
       "104. 'HPSI0214i-datg_2'\n",
       "105. 'HPSI1113i-qorq_2'\n",
       "106. 'HPSI0214i-feec_2'\n",
       "107. 'HPSI0413i-nudd_1'\n",
       "108. 'HPSI0814i-bokz_5'\n",
       "109. 'HPSI0314i-wigw_2'\n",
       "110. 'HPSI1013i-zagm_1'\n",
       "111. 'HPSI0513i-fejf_2'\n",
       "112. 'HPSI0714i-nufh_3'\n",
       "\n",
       "\n"
      ],
      "text/plain": [
       "  [1] \"HPSI0114i-zapk_3\" \"HPSI0214i-wibj_2\" \"HPSI1013i-jogf_2\"\n",
       "  [4] \"HPSI0214i-pelm_3\" \"HPSI0114i-vass_1\" \"HPSI0214i-heth_1\"\n",
       "  [7] \"HPSI1014i-toss_3\" \"HPSI0614i-paab_4\" \"HPSI0414i-oaqd_3\"\n",
       " [10] \"HPSI1013i-sita_1\" \"HPSI0614i-zoio_2\" \"HPSI0914i-kajh_3\"\n",
       " [13] \"HPSI0714i-fasu_2\" \"HPSI0414i-tout_1\" \"HPSI0714i-iudw_4\"\n",
       " [16] \"HPSI0514i-tavh_2\" \"HPSI0514i-pulk_1\" \"HPSI0215i-fawm_2\"\n",
       " [19] \"HPSI0714i-oebj_1\" \"HPSI0714i-oojs_1\" \"HPSI0514i-eoxi_6\"\n",
       " [22] \"HPSI0414i-seru_1\" \"HPSI0614i-guyj_2\" \"HPSI1014i-qayj_3\"\n",
       " [25] \"HPSI0414i-walu_1\" \"HPSI1014i-babz_3\" \"HPSI0114i-iisa_1\"\n",
       " [28] \"HPSI0414i-oikd_2\" \"HPSI1014i-quls_2\" \"HPSI0514i-sohd_3\"\n",
       " [31] \"HPSI0514i-letw_1\" \"HPSI0215i-oilg_3\" \"HPSI0514i-rutc_2\"\n",
       " [34] \"HPSI0115i-vazt_1\" \"HPSI0614i-oicx_6\" \"HPSI1113i-wahn_1\"\n",
       " [37] \"HPSI1014i-sehl_6\" \"HPSI0914i-suop_5\" \"HPSI0715i-aowh_2\"\n",
       " [40] \"HPSI0314i-cuhk_2\" \"HPSI0613i-hegp_3\" \"HPSI0713i-cicb_2\"\n",
       " [43] \"HPSI0614i-lepk_1\" \"HPSI0713i-veku_2\" \"HPSI0613i-ueah_1\"\n",
       " [46] \"HPSI0414i-naju_1\" \"HPSI0913i-lise_3\" \"HPSI0214i-eiwy_1\"\n",
       " [49] \"HPSI0514i-puie_5\" \"HPSI0115i-qoog_4\" \"HPSI0914i-zerv_8\"\n",
       " [52] \"HPSI0114i-kolf_2\" \"HPSI0514i-uenn_3\" \"HPSI0914i-iezw_2\"\n",
       " [55] \"HPSI0114i-wegi_1\" \"HPSI0314i-sojd_3\" \"HPSI1213i-tolg_6\"\n",
       " [58] \"HPSI0214i-rayr_1\" \"HPSI0314i-qaqx_1\" \"HPSI1013i-yemz_1\"\n",
       " [61] \"HPSI1013i-wuye_2\" \"HPSI0114i-joxm_1\" \"HPSI0214i-kucg_2\"\n",
       " [64] \"HPSI0114i-iisa_3\" \"HPSI0114i-bezi_1\" \"HPSI1014i-kefb_1\"\n",
       " [67] \"HPSI1014i-nosn_6\" \"HPSI1213i-pahc_4\" \"HPSI0414i-xojn_3\"\n",
       " [70] \"HPSI0314i-hoik_1\" \"HPSI0114i-eipl_1\" \"HPSI0215i-yoch_6\"\n",
       " [73] \"HPSI1113i-hayt_1\" \"HPSI1014i-eesb_1\" \"HPSI1013i-kuxp_1\"\n",
       " [76] \"HPSI0514i-yelp_3\" \"HPSI0614i-qunz_3\" \"HPSI0115i-aoxv_3\"\n",
       " [79] \"HPSI0115i-melw_2\" \"HPSI0714i-pipw_5\" \"HPSI1014i-juuy_2\"\n",
       " [82] \"HPSI0914i-jejf_2\" \"HPSI0914i-qehq_3\" \"HPSI0614i-uilk_3\"\n",
       " [85] \"HPSI0514i-toco_5\" \"HPSI1113i-hajc_1\" \"HPSI0514i-kuco_1\"\n",
       " [88] \"HPSI0115i-hecn_3\" \"HPSI0614i-liqa_1\" \"HPSI0514i-tert_1\"\n",
       " [91] \"HPSI0614i-ciwj_2\" \"HPSI0214i-poih_4\" \"HPSI0115i-iiyk_4\"\n",
       " [94] \"HPSI0614i-miaj_6\" \"HPSI0914i-laey_4\" \"HPSI0715i-meue_4\"\n",
       " [97] \"HPSI1014i-vils_1\" \"HPSI0714i-keui_1\" \"HPSI0514i-naah_2\"\n",
       "[100] \"HPSI0513i-oibg_1\" \"HPSI0713i-nocf_2\" \"HPSI0813i-guss_1\"\n",
       "[103] \"HPSI0414i-mita_2\" \"HPSI0214i-datg_2\" \"HPSI1113i-qorq_2\"\n",
       "[106] \"HPSI0214i-feec_2\" \"HPSI0413i-nudd_1\" \"HPSI0814i-bokz_5\"\n",
       "[109] \"HPSI0314i-wigw_2\" \"HPSI1013i-zagm_1\" \"HPSI0513i-fejf_2\"\n",
       "[112] \"HPSI0714i-nufh_3\""
      ]
     },
     "metadata": {},
     "output_type": "display_data"
    }
   ],
   "source": [
    "length(unique(sce0$donor_long_id))\n",
    "(unique(sce0$donor_long_id))"
   ]
  },
  {
   "cell_type": "code",
   "execution_count": 8,
   "metadata": {},
   "outputs": [],
   "source": [
    "# cpm_bulk <- counts(bulk)\n",
    "# newcols <- gsub(\".*/quant_salmon/*\",\"\",colnames(cpm_bulk))\n",
    "# cols <- gsub(\"*.hs.*\",\"\",newcols)\n",
    "# colnames(cpm_bulk) <- cols\n",
    "# cpm_bulk_sc <- cpm_bulk[rownames(cpm_bulk) %in% rownames(logcounts(sce0)),\n",
    "#                                      colnames(cpm_bulk) %in% unique(sce0$donor_long_id)]\n",
    "# cpm_bulk_sc <- cpm_bulk_sc[, !(colnames(cpm_bulk_sc) %in% c(\"HPSI0713i-cicb_2\",\n",
    "#                                                            \"HPSI0713i-cicb_3\",\n",
    "#                                                            \"HPSI0513i-uoxz_5\"))]\n",
    "# cpm_bulk_sc <- cpm_bulk_sc[order(rownames(cpm_bulk_sc)), order(colnames(cpm_bulk_sc))]\n",
    "# dim(cpm_bulk_sc)\n",
    "# head(cpm_bulk_sc)\n",
    "# head(log2(cpm_bulk_sc+1))"
   ]
  },
  {
   "cell_type": "code",
   "execution_count": 9,
   "metadata": {},
   "outputs": [],
   "source": [
    "# cpm_bulk <- edgeR::cpm(counts(bulk))\n",
    "# newcols <- gsub(\".*/quant_salmon/*\",\"\",colnames(cpm_bulk))\n",
    "# cols <- gsub(\"*.hs.*\",\"\",newcols)\n",
    "# colnames(cpm_bulk) <- cols\n",
    "# cpm_bulk_sc <- cpm_bulk[rownames(cpm_bulk) %in% rownames(logcounts(sce0)),\n",
    "#                                      colnames(cpm_bulk) %in% unique(sce0$donor_long_id)]\n",
    "# cpm_bulk_sc <- cpm_bulk_sc[, !(colnames(cpm_bulk_sc) %in% c(\"HPSI0713i-cicb_2\",\n",
    "#                                                            \"HPSI0713i-cicb_3\",\n",
    "#                                                            \"HPSI0513i-uoxz_5\"))]\n",
    "# cpm_bulk_sc <- cpm_bulk_sc[order(rownames(cpm_bulk_sc)), order(colnames(cpm_bulk_sc))]\n",
    "# dim(cpm_bulk_sc)\n",
    "# head(cpm_bulk_sc)"
   ]
  },
  {
   "cell_type": "code",
   "execution_count": 10,
   "metadata": {},
   "outputs": [],
   "source": [
    "# sizeFac <- edgeR::calcNormFactors(counts(bulk))\n",
    "# totalPerSample <- colSums(counts(bulk))\n",
    "# totalExpressed_corrected <-  totalPerSample*sizeFac\n",
    "# totalExpressed_corrected <- totalExpressed_corrected/1e6\n",
    "# expr <- sweep(counts(bulk), STATS = totalExpressed_corrected, MARGIN = 2, FUN = \"/\")\n",
    "# cpm_bulk = log2(expr + 1)\n",
    "# newcols <- gsub(\".*/quant_salmon/*\",\"\",colnames(cpm_bulk))\n",
    "# cols <- gsub(\"*.hs.*\",\"\",newcols)\n",
    "# colnames(cpm_bulk) <- cols\n",
    "# cpm_bulk_sc <- cpm_bulk[rownames(cpm_bulk) %in% rownames(logcounts(sce0)),\n",
    "#                                      colnames(cpm_bulk) %in% unique(sce0$donor_long_id)]\n",
    "# cpm_bulk_sc <- cpm_bulk_sc[, !(colnames(cpm_bulk_sc) %in% c(\"HPSI0713i-cicb_2\",\n",
    "#                                                            \"HPSI0713i-cicb_3\",\n",
    "#                                                            \"HPSI0513i-uoxz_5\"))]\n",
    "# cpm_bulk_sc <- cpm_bulk_sc[order(rownames(cpm_bulk_sc)), order(colnames(cpm_bulk_sc))]\n",
    "# dim(cpm_bulk_sc)\n",
    "# head(cpm_bulk_sc)"
   ]
  },
  {
   "cell_type": "code",
   "execution_count": 11,
   "metadata": {},
   "outputs": [],
   "source": [
    "# options(repr.plot.width = 6, repr.plot.height = 4)\n",
    "# hist(sizeFac)"
   ]
  },
  {
   "cell_type": "code",
   "execution_count": 12,
   "metadata": {},
   "outputs": [],
   "source": [
    "# cpm_bulk = log2(scater::calculateCPM(bulk, use.size.factors = FALSE) + 1)\n",
    "# newcols <- gsub(\".*/quant_salmon/*\",\"\",colnames(cpm_bulk))\n",
    "# cols <- gsub(\"*.hs.*\",\"\",newcols)\n",
    "# colnames(cpm_bulk) <- cols\n",
    "# cpm_bulk_sc <- cpm_bulk[rownames(cpm_bulk) %in% rownames(logcounts(sce0)),\n",
    "#                                      colnames(cpm_bulk) %in% unique(sce0$donor_long_id)]\n",
    "# cpm_bulk_sc <- cpm_bulk_sc[, !(colnames(cpm_bulk_sc) %in% c(\"HPSI0713i-cicb_2\",\n",
    "#                                                            \"HPSI0713i-cicb_3\",\n",
    "#                                                            \"HPSI0513i-uoxz_5\"))]\n",
    "# cpm_bulk_sc <- cpm_bulk_sc[order(rownames(cpm_bulk_sc)), order(colnames(cpm_bulk_sc))]\n",
    "# dim(cpm_bulk_sc)\n",
    "# head(cpm_bulk_sc)"
   ]
  },
  {
   "cell_type": "code",
   "execution_count": 13,
   "metadata": {},
   "outputs": [],
   "source": [
    "# bulk <- readRDS(\"/hps/nobackup/stegle/users/acuomo/merged_bulk_salmon_quant.rds\")\n",
    "# clusters <- scran::quickCluster(bulk, min.size = 400, method = \"igraph\",\n",
    "#                          subset.row = sample(nrow(bulk), size = 3000))\n",
    "# bulk <- scran::computeSumFactors(bulk, cluster = clusters)\n",
    "# bulk$size_factor <- sizeFactors(bulk)\n",
    "# bulk <- normalize(bulk)\n",
    "# cpm_bulk = logcounts(bulk)\n",
    "# newcols <- gsub(\".*/quant_salmon/*\",\"\",colnames(cpm_bulk))\n",
    "# cols <- gsub(\"*.hs.*\",\"\",newcols)\n",
    "# colnames(cpm_bulk) <- cols\n",
    "# cpm_bulk_sc <- cpm_bulk[rownames(cpm_bulk) %in% rownames(logcounts(sce0)),\n",
    "#                                      colnames(cpm_bulk) %in% unique(sce0$donor_long_id)]\n",
    "# cpm_bulk_sc <- cpm_bulk_sc[, !(colnames(cpm_bulk_sc) %in% c(\"HPSI0713i-cicb_2\",\n",
    "#                                                            \"HPSI0713i-cicb_3\",\n",
    "#                                                            \"HPSI0513i-uoxz_5\"))]\n",
    "# cpm_bulk_sc <- cpm_bulk_sc[order(rownames(cpm_bulk_sc)), order(colnames(cpm_bulk_sc))]\n",
    "# dim(cpm_bulk_sc)\n",
    "# head(cpm_bulk_sc)"
   ]
  },
  {
   "cell_type": "code",
   "execution_count": 12,
   "metadata": {},
   "outputs": [
    {
     "data": {
      "text/html": [
       "<ol class=list-inline>\n",
       "\t<li>11231</li>\n",
       "\t<li>108</li>\n",
       "</ol>\n"
      ],
      "text/latex": [
       "\\begin{enumerate*}\n",
       "\\item 11231\n",
       "\\item 108\n",
       "\\end{enumerate*}\n"
      ],
      "text/markdown": [
       "1. 11231\n",
       "2. 108\n",
       "\n",
       "\n"
      ],
      "text/plain": [
       "[1] 11231   108"
      ]
     },
     "metadata": {},
     "output_type": "display_data"
    },
    {
     "data": {
      "text/html": [
       "<table>\n",
       "<thead><tr><th></th><th scope=col>HPSI0114i-bezi_1</th><th scope=col>HPSI0114i-eipl_1</th><th scope=col>HPSI0114i-iisa_1</th><th scope=col>HPSI0114i-iisa_3</th><th scope=col>HPSI0114i-joxm_1</th><th scope=col>HPSI0114i-kolf_2</th><th scope=col>HPSI0114i-vass_1</th><th scope=col>HPSI0114i-zapk_3</th><th scope=col>HPSI0115i-aoxv_3</th><th scope=col>HPSI0115i-hecn_3</th><th scope=col>⋯</th><th scope=col>HPSI1014i-qayj_3</th><th scope=col>HPSI1014i-quls_2</th><th scope=col>HPSI1014i-sehl_6</th><th scope=col>HPSI1014i-toss_3</th><th scope=col>HPSI1014i-vils_1</th><th scope=col>HPSI1113i-hayt_1</th><th scope=col>HPSI1113i-qorq_2</th><th scope=col>HPSI1113i-wahn_1</th><th scope=col>HPSI1213i-pahc_4</th><th scope=col>HPSI1213i-tolg_6</th></tr></thead>\n",
       "<tbody>\n",
       "\t<tr><th scope=row>ENSG00000000003_TSPAN6</th><td>12.176812</td><td>11.963390</td><td>11.724372</td><td>11.581554</td><td>11.581938</td><td>11.91654 </td><td>12.139857</td><td>11.152724</td><td>12.261062</td><td>10.044060</td><td>⋯        </td><td>12.07964 </td><td>12.234894</td><td>11.717556</td><td>11.673350</td><td>12.331023</td><td>11.866239</td><td>12.172467</td><td>11.685514</td><td>11.578010</td><td>12.016322</td></tr>\n",
       "\t<tr><th scope=row>ENSG00000000419_DPM1</th><td>11.864050</td><td>11.814102</td><td>11.927771</td><td>11.817954</td><td>11.626778</td><td>12.10929 </td><td>12.091558</td><td>11.746042</td><td>11.876539</td><td> 8.123051</td><td>⋯        </td><td>12.22453 </td><td>11.929847</td><td>11.646900</td><td>11.846047</td><td>11.947902</td><td>12.117426</td><td>12.259962</td><td>11.999811</td><td>11.749118</td><td>11.643293</td></tr>\n",
       "\t<tr><th scope=row>ENSG00000000457_SCYL3</th><td> 7.723714</td><td> 8.023246</td><td> 7.866073</td><td> 7.867755</td><td> 7.421912</td><td> 7.34395 </td><td> 8.222353</td><td> 7.619009</td><td> 8.082254</td><td> 6.249640</td><td>⋯        </td><td> 7.78280 </td><td> 7.405192</td><td> 7.967497</td><td> 8.136646</td><td> 7.512881</td><td> 7.842617</td><td> 8.121650</td><td> 7.669196</td><td> 7.682045</td><td> 7.391899</td></tr>\n",
       "\t<tr><th scope=row>ENSG00000000460_C1orf112</th><td> 9.596536</td><td> 9.509393</td><td>10.096453</td><td>10.034637</td><td> 9.414676</td><td>10.13974 </td><td> 9.687183</td><td> 9.924785</td><td>10.130744</td><td> 8.179875</td><td>⋯        </td><td>10.09128 </td><td>10.401721</td><td> 9.994265</td><td> 9.912758</td><td>10.393378</td><td>10.291629</td><td> 9.909019</td><td>10.169735</td><td> 9.301705</td><td>10.121883</td></tr>\n",
       "\t<tr><th scope=row>ENSG00000001036_FUCA2</th><td>11.198997</td><td>11.284465</td><td>10.947548</td><td>10.912091</td><td>11.010059</td><td>11.10432 </td><td>11.338250</td><td>11.034803</td><td>11.001663</td><td> 9.421304</td><td>⋯        </td><td>11.08622 </td><td>10.635060</td><td>10.907802</td><td>11.286973</td><td>10.844017</td><td>11.164671</td><td>11.344913</td><td>10.915607</td><td>10.899160</td><td>11.577895</td></tr>\n",
       "\t<tr><th scope=row>ENSG00000001084_GCLC</th><td> 9.955284</td><td>10.165479</td><td>10.235732</td><td>10.232780</td><td>10.022007</td><td>10.69316 </td><td>10.251111</td><td>10.306387</td><td> 9.982295</td><td> 7.947766</td><td>⋯        </td><td>10.29425 </td><td>10.550061</td><td> 9.874011</td><td>10.143488</td><td>10.103685</td><td>10.232772</td><td>10.048331</td><td>10.237187</td><td>10.101890</td><td> 9.934450</td></tr>\n",
       "</tbody>\n",
       "</table>\n"
      ],
      "text/latex": [
       "\\begin{tabular}{r|llllllllllllllllllllllllllllllllllllllllllllllllllllllllllllllllllllllllllllllllllllllllllllllllllllllllllll}\n",
       "  & HPSI0114i-bezi\\_1 & HPSI0114i-eipl\\_1 & HPSI0114i-iisa\\_1 & HPSI0114i-iisa\\_3 & HPSI0114i-joxm\\_1 & HPSI0114i-kolf\\_2 & HPSI0114i-vass\\_1 & HPSI0114i-zapk\\_3 & HPSI0115i-aoxv\\_3 & HPSI0115i-hecn\\_3 & ⋯ & HPSI1014i-qayj\\_3 & HPSI1014i-quls\\_2 & HPSI1014i-sehl\\_6 & HPSI1014i-toss\\_3 & HPSI1014i-vils\\_1 & HPSI1113i-hayt\\_1 & HPSI1113i-qorq\\_2 & HPSI1113i-wahn\\_1 & HPSI1213i-pahc\\_4 & HPSI1213i-tolg\\_6\\\\\n",
       "\\hline\n",
       "\tENSG00000000003\\_TSPAN6 & 12.176812 & 11.963390 & 11.724372 & 11.581554 & 11.581938 & 11.91654  & 12.139857 & 11.152724 & 12.261062 & 10.044060 & ⋯         & 12.07964  & 12.234894 & 11.717556 & 11.673350 & 12.331023 & 11.866239 & 12.172467 & 11.685514 & 11.578010 & 12.016322\\\\\n",
       "\tENSG00000000419\\_DPM1 & 11.864050 & 11.814102 & 11.927771 & 11.817954 & 11.626778 & 12.10929  & 12.091558 & 11.746042 & 11.876539 &  8.123051 & ⋯         & 12.22453  & 11.929847 & 11.646900 & 11.846047 & 11.947902 & 12.117426 & 12.259962 & 11.999811 & 11.749118 & 11.643293\\\\\n",
       "\tENSG00000000457\\_SCYL3 &  7.723714 &  8.023246 &  7.866073 &  7.867755 &  7.421912 &  7.34395  &  8.222353 &  7.619009 &  8.082254 &  6.249640 & ⋯         &  7.78280  &  7.405192 &  7.967497 &  8.136646 &  7.512881 &  7.842617 &  8.121650 &  7.669196 &  7.682045 &  7.391899\\\\\n",
       "\tENSG00000000460\\_C1orf112 &  9.596536 &  9.509393 & 10.096453 & 10.034637 &  9.414676 & 10.13974  &  9.687183 &  9.924785 & 10.130744 &  8.179875 & ⋯         & 10.09128  & 10.401721 &  9.994265 &  9.912758 & 10.393378 & 10.291629 &  9.909019 & 10.169735 &  9.301705 & 10.121883\\\\\n",
       "\tENSG00000001036\\_FUCA2 & 11.198997 & 11.284465 & 10.947548 & 10.912091 & 11.010059 & 11.10432  & 11.338250 & 11.034803 & 11.001663 &  9.421304 & ⋯         & 11.08622  & 10.635060 & 10.907802 & 11.286973 & 10.844017 & 11.164671 & 11.344913 & 10.915607 & 10.899160 & 11.577895\\\\\n",
       "\tENSG00000001084\\_GCLC &  9.955284 & 10.165479 & 10.235732 & 10.232780 & 10.022007 & 10.69316  & 10.251111 & 10.306387 &  9.982295 &  7.947766 & ⋯         & 10.29425  & 10.550061 &  9.874011 & 10.143488 & 10.103685 & 10.232772 & 10.048331 & 10.237187 & 10.101890 &  9.934450\\\\\n",
       "\\end{tabular}\n"
      ],
      "text/markdown": [
       "\n",
       "| <!--/--> | HPSI0114i-bezi_1 | HPSI0114i-eipl_1 | HPSI0114i-iisa_1 | HPSI0114i-iisa_3 | HPSI0114i-joxm_1 | HPSI0114i-kolf_2 | HPSI0114i-vass_1 | HPSI0114i-zapk_3 | HPSI0115i-aoxv_3 | HPSI0115i-hecn_3 | ⋯ | HPSI1014i-qayj_3 | HPSI1014i-quls_2 | HPSI1014i-sehl_6 | HPSI1014i-toss_3 | HPSI1014i-vils_1 | HPSI1113i-hayt_1 | HPSI1113i-qorq_2 | HPSI1113i-wahn_1 | HPSI1213i-pahc_4 | HPSI1213i-tolg_6 | \n",
       "|---|---|---|---|---|---|\n",
       "| ENSG00000000003_TSPAN6 | 12.176812 | 11.963390 | 11.724372 | 11.581554 | 11.581938 | 11.91654  | 12.139857 | 11.152724 | 12.261062 | 10.044060 | ⋯         | 12.07964  | 12.234894 | 11.717556 | 11.673350 | 12.331023 | 11.866239 | 12.172467 | 11.685514 | 11.578010 | 12.016322 | \n",
       "| ENSG00000000419_DPM1 | 11.864050 | 11.814102 | 11.927771 | 11.817954 | 11.626778 | 12.10929  | 12.091558 | 11.746042 | 11.876539 |  8.123051 | ⋯         | 12.22453  | 11.929847 | 11.646900 | 11.846047 | 11.947902 | 12.117426 | 12.259962 | 11.999811 | 11.749118 | 11.643293 | \n",
       "| ENSG00000000457_SCYL3 |  7.723714 |  8.023246 |  7.866073 |  7.867755 |  7.421912 |  7.34395  |  8.222353 |  7.619009 |  8.082254 |  6.249640 | ⋯         |  7.78280  |  7.405192 |  7.967497 |  8.136646 |  7.512881 |  7.842617 |  8.121650 |  7.669196 |  7.682045 |  7.391899 | \n",
       "| ENSG00000000460_C1orf112 |  9.596536 |  9.509393 | 10.096453 | 10.034637 |  9.414676 | 10.13974  |  9.687183 |  9.924785 | 10.130744 |  8.179875 | ⋯         | 10.09128  | 10.401721 |  9.994265 |  9.912758 | 10.393378 | 10.291629 |  9.909019 | 10.169735 |  9.301705 | 10.121883 | \n",
       "| ENSG00000001036_FUCA2 | 11.198997 | 11.284465 | 10.947548 | 10.912091 | 11.010059 | 11.10432  | 11.338250 | 11.034803 | 11.001663 |  9.421304 | ⋯         | 11.08622  | 10.635060 | 10.907802 | 11.286973 | 10.844017 | 11.164671 | 11.344913 | 10.915607 | 10.899160 | 11.577895 | \n",
       "| ENSG00000001084_GCLC |  9.955284 | 10.165479 | 10.235732 | 10.232780 | 10.022007 | 10.69316  | 10.251111 | 10.306387 |  9.982295 |  7.947766 | ⋯         | 10.29425  | 10.550061 |  9.874011 | 10.143488 | 10.103685 | 10.232772 | 10.048331 | 10.237187 | 10.101890 |  9.934450 | \n",
       "\n",
       "\n"
      ],
      "text/plain": [
       "                         HPSI0114i-bezi_1 HPSI0114i-eipl_1 HPSI0114i-iisa_1\n",
       "ENSG00000000003_TSPAN6   12.176812        11.963390        11.724372       \n",
       "ENSG00000000419_DPM1     11.864050        11.814102        11.927771       \n",
       "ENSG00000000457_SCYL3     7.723714         8.023246         7.866073       \n",
       "ENSG00000000460_C1orf112  9.596536         9.509393        10.096453       \n",
       "ENSG00000001036_FUCA2    11.198997        11.284465        10.947548       \n",
       "ENSG00000001084_GCLC      9.955284        10.165479        10.235732       \n",
       "                         HPSI0114i-iisa_3 HPSI0114i-joxm_1 HPSI0114i-kolf_2\n",
       "ENSG00000000003_TSPAN6   11.581554        11.581938        11.91654        \n",
       "ENSG00000000419_DPM1     11.817954        11.626778        12.10929        \n",
       "ENSG00000000457_SCYL3     7.867755         7.421912         7.34395        \n",
       "ENSG00000000460_C1orf112 10.034637         9.414676        10.13974        \n",
       "ENSG00000001036_FUCA2    10.912091        11.010059        11.10432        \n",
       "ENSG00000001084_GCLC     10.232780        10.022007        10.69316        \n",
       "                         HPSI0114i-vass_1 HPSI0114i-zapk_3 HPSI0115i-aoxv_3\n",
       "ENSG00000000003_TSPAN6   12.139857        11.152724        12.261062       \n",
       "ENSG00000000419_DPM1     12.091558        11.746042        11.876539       \n",
       "ENSG00000000457_SCYL3     8.222353         7.619009         8.082254       \n",
       "ENSG00000000460_C1orf112  9.687183         9.924785        10.130744       \n",
       "ENSG00000001036_FUCA2    11.338250        11.034803        11.001663       \n",
       "ENSG00000001084_GCLC     10.251111        10.306387         9.982295       \n",
       "                         HPSI0115i-hecn_3 ⋯ HPSI1014i-qayj_3 HPSI1014i-quls_2\n",
       "ENSG00000000003_TSPAN6   10.044060        ⋯ 12.07964         12.234894       \n",
       "ENSG00000000419_DPM1      8.123051        ⋯ 12.22453         11.929847       \n",
       "ENSG00000000457_SCYL3     6.249640        ⋯  7.78280          7.405192       \n",
       "ENSG00000000460_C1orf112  8.179875        ⋯ 10.09128         10.401721       \n",
       "ENSG00000001036_FUCA2     9.421304        ⋯ 11.08622         10.635060       \n",
       "ENSG00000001084_GCLC      7.947766        ⋯ 10.29425         10.550061       \n",
       "                         HPSI1014i-sehl_6 HPSI1014i-toss_3 HPSI1014i-vils_1\n",
       "ENSG00000000003_TSPAN6   11.717556        11.673350        12.331023       \n",
       "ENSG00000000419_DPM1     11.646900        11.846047        11.947902       \n",
       "ENSG00000000457_SCYL3     7.967497         8.136646         7.512881       \n",
       "ENSG00000000460_C1orf112  9.994265         9.912758        10.393378       \n",
       "ENSG00000001036_FUCA2    10.907802        11.286973        10.844017       \n",
       "ENSG00000001084_GCLC      9.874011        10.143488        10.103685       \n",
       "                         HPSI1113i-hayt_1 HPSI1113i-qorq_2 HPSI1113i-wahn_1\n",
       "ENSG00000000003_TSPAN6   11.866239        12.172467        11.685514       \n",
       "ENSG00000000419_DPM1     12.117426        12.259962        11.999811       \n",
       "ENSG00000000457_SCYL3     7.842617         8.121650         7.669196       \n",
       "ENSG00000000460_C1orf112 10.291629         9.909019        10.169735       \n",
       "ENSG00000001036_FUCA2    11.164671        11.344913        10.915607       \n",
       "ENSG00000001084_GCLC     10.232772        10.048331        10.237187       \n",
       "                         HPSI1213i-pahc_4 HPSI1213i-tolg_6\n",
       "ENSG00000000003_TSPAN6   11.578010        12.016322       \n",
       "ENSG00000000419_DPM1     11.749118        11.643293       \n",
       "ENSG00000000457_SCYL3     7.682045         7.391899       \n",
       "ENSG00000000460_C1orf112  9.301705        10.121883       \n",
       "ENSG00000001036_FUCA2    10.899160        11.577895       \n",
       "ENSG00000001084_GCLC     10.101890         9.934450       "
      ]
     },
     "metadata": {},
     "output_type": "display_data"
    }
   ],
   "source": [
    "bulk <- readRDS(\"/hps/nobackup/stegle/users/acuomo/merged_bulk_salmon_quant.rds\")\n",
    "logcounts(bulk) = log2(scater::calculateCPM(bulk, use.size.factors = FALSE) + 1)\n",
    "clusters <- scran::quickCluster(bulk, min.size = 400, method = \"igraph\",\n",
    "                         subset.row = sample(nrow(bulk), size = 3000))\n",
    "bulk <- scran::computeSumFactors(bulk, cluster = clusters)\n",
    "bulk$size_factor <- sizeFactors(bulk)\n",
    "bulk <- normalize(bulk)\n",
    "cpm_bulk = logcounts(bulk)\n",
    "newcols <- gsub(\".*/quant_salmon/*\",\"\",colnames(cpm_bulk))\n",
    "cols <- gsub(\"*.hs.*\",\"\",newcols)\n",
    "colnames(cpm_bulk) <- cols\n",
    "cpm_bulk_sc <- cpm_bulk[rownames(cpm_bulk) %in% rownames(logcounts(sce0)),\n",
    "                                     colnames(cpm_bulk) %in% unique(sce0$donor_long_id)]\n",
    "cpm_bulk_sc <- cpm_bulk_sc[, !(colnames(cpm_bulk_sc) %in% c(\"HPSI0713i-cicb_2\",\n",
    "                                                           \"HPSI0713i-cicb_3\",\n",
    "                                                           \"HPSI0513i-uoxz_5\"))]\n",
    "cpm_bulk_sc <- cpm_bulk_sc[order(rownames(cpm_bulk_sc)), order(colnames(cpm_bulk_sc))]\n",
    "dim(cpm_bulk_sc)\n",
    "head(cpm_bulk_sc)"
   ]
  },
  {
   "cell_type": "code",
   "execution_count": 32,
   "metadata": {},
   "outputs": [],
   "source": [
    "dir = \"/hps/nobackup/hipsci/scratch/singlecell_endodiff/data_processed/scQTLs/bulk_ipsc_eQTLs/\""
   ]
  },
  {
   "cell_type": "code",
   "execution_count": 39,
   "metadata": {},
   "outputs": [],
   "source": [
    "write.table(cpm_bulk, paste0(dir,\"bulk_exprs_alllines.tsv\"), sep = \"\\t\", quote = F, col.names = NA)"
   ]
  },
  {
   "cell_type": "code",
   "execution_count": 41,
   "metadata": {},
   "outputs": [
    {
     "data": {
      "text/html": [
       "<ol class=list-inline>\n",
       "\t<li>39385</li>\n",
       "\t<li>676</li>\n",
       "</ol>\n"
      ],
      "text/latex": [
       "\\begin{enumerate*}\n",
       "\\item 39385\n",
       "\\item 676\n",
       "\\end{enumerate*}\n"
      ],
      "text/markdown": [
       "1. 39385\n",
       "2. 676\n",
       "\n",
       "\n"
      ],
      "text/plain": [
       "[1] 39385   676"
      ]
     },
     "metadata": {},
     "output_type": "display_data"
    }
   ],
   "source": [
    "dim(cpm_bulk)"
   ]
  },
  {
   "cell_type": "code",
   "execution_count": 33,
   "metadata": {},
   "outputs": [],
   "source": [
    "write.table(cpm_bulk_sc, paste0(dir,\"bulk_exprs.tsv\"), sep = \"\\t\", quote = F, col.names = NA)"
   ]
  },
  {
   "cell_type": "code",
   "execution_count": 34,
   "metadata": {},
   "outputs": [
    {
     "data": {
      "text/html": [
       "<table>\n",
       "<thead><tr><th></th><th scope=col>PC1</th><th scope=col>PC2</th><th scope=col>PC3</th><th scope=col>PC4</th><th scope=col>PC5</th><th scope=col>PC6</th><th scope=col>PC7</th><th scope=col>PC8</th><th scope=col>PC9</th><th scope=col>PC10</th></tr></thead>\n",
       "<tbody>\n",
       "\t<tr><th scope=row>HPSI0114i-bezi_1</th><td> -1.752271 </td><td>23.67747   </td><td>-14.41534  </td><td> 13.781955 </td><td>-1.556653  </td><td> -8.451826 </td><td> 5.805922  </td><td>-16.5233888</td><td> 0.2254597 </td><td>-6.14843453</td></tr>\n",
       "\t<tr><th scope=row>HPSI0114i-eipl_1</th><td>  3.061373 </td><td>10.90175   </td><td> 12.04053  </td><td> 23.407564 </td><td>18.308701  </td><td>-10.657293 </td><td> 2.055415  </td><td> -2.8956086</td><td> 5.8150673 </td><td>-9.30376427</td></tr>\n",
       "\t<tr><th scope=row>HPSI0114i-iisa_1</th><td>  9.241901 </td><td>19.46449   </td><td>-16.61737  </td><td>-17.620830 </td><td> 6.088501  </td><td> -8.034418 </td><td>11.052475  </td><td>  4.4881489</td><td>-4.7310868 </td><td> 0.04731545</td></tr>\n",
       "\t<tr><th scope=row>HPSI0114i-iisa_3</th><td>  4.880485 </td><td>13.86131   </td><td>-14.33556  </td><td>-13.485245 </td><td> 8.930075  </td><td> -4.012240 </td><td>11.301933  </td><td>  6.1937119</td><td> 4.2536126 </td><td>-3.32154369</td></tr>\n",
       "\t<tr><th scope=row>HPSI0114i-joxm_1</th><td>-14.457950 </td><td>16.99571   </td><td>-15.03030  </td><td>  6.746784 </td><td> 1.032778  </td><td> -4.974597 </td><td>17.701296  </td><td>  2.2023274</td><td>-3.0294605 </td><td> 0.12356372</td></tr>\n",
       "\t<tr><th scope=row>HPSI0114i-kolf_2</th><td> 14.650883 </td><td>15.88335   </td><td>  2.70087  </td><td>-36.028663 </td><td> 7.420142  </td><td> 12.299262 </td><td> 2.381522  </td><td> -0.5241033</td><td> 7.7827377 </td><td>-8.10110931</td></tr>\n",
       "</tbody>\n",
       "</table>\n"
      ],
      "text/latex": [
       "\\begin{tabular}{r|llllllllll}\n",
       "  & PC1 & PC2 & PC3 & PC4 & PC5 & PC6 & PC7 & PC8 & PC9 & PC10\\\\\n",
       "\\hline\n",
       "\tHPSI0114i-bezi\\_1 &  -1.752271  & 23.67747    & -14.41534   &  13.781955  & -1.556653   &  -8.451826  &  5.805922   & -16.5233888 &  0.2254597  & -6.14843453\\\\\n",
       "\tHPSI0114i-eipl\\_1 &   3.061373  & 10.90175    &  12.04053   &  23.407564  & 18.308701   & -10.657293  &  2.055415   &  -2.8956086 &  5.8150673  & -9.30376427\\\\\n",
       "\tHPSI0114i-iisa\\_1 &   9.241901  & 19.46449    & -16.61737   & -17.620830  &  6.088501   &  -8.034418  & 11.052475   &   4.4881489 & -4.7310868  &  0.04731545\\\\\n",
       "\tHPSI0114i-iisa\\_3 &   4.880485  & 13.86131    & -14.33556   & -13.485245  &  8.930075   &  -4.012240  & 11.301933   &   6.1937119 &  4.2536126  & -3.32154369\\\\\n",
       "\tHPSI0114i-joxm\\_1 & -14.457950  & 16.99571    & -15.03030   &   6.746784  &  1.032778   &  -4.974597  & 17.701296   &   2.2023274 & -3.0294605  &  0.12356372\\\\\n",
       "\tHPSI0114i-kolf\\_2 &  14.650883  & 15.88335    &   2.70087   & -36.028663  &  7.420142   &  12.299262  &  2.381522   &  -0.5241033 &  7.7827377  & -8.10110931\\\\\n",
       "\\end{tabular}\n"
      ],
      "text/markdown": [
       "\n",
       "| <!--/--> | PC1 | PC2 | PC3 | PC4 | PC5 | PC6 | PC7 | PC8 | PC9 | PC10 | \n",
       "|---|---|---|---|---|---|\n",
       "| HPSI0114i-bezi_1 |  -1.752271  | 23.67747    | -14.41534   |  13.781955  | -1.556653   |  -8.451826  |  5.805922   | -16.5233888 |  0.2254597  | -6.14843453 | \n",
       "| HPSI0114i-eipl_1 |   3.061373  | 10.90175    |  12.04053   |  23.407564  | 18.308701   | -10.657293  |  2.055415   |  -2.8956086 |  5.8150673  | -9.30376427 | \n",
       "| HPSI0114i-iisa_1 |   9.241901  | 19.46449    | -16.61737   | -17.620830  |  6.088501   |  -8.034418  | 11.052475   |   4.4881489 | -4.7310868  |  0.04731545 | \n",
       "| HPSI0114i-iisa_3 |   4.880485  | 13.86131    | -14.33556   | -13.485245  |  8.930075   |  -4.012240  | 11.301933   |   6.1937119 |  4.2536126  | -3.32154369 | \n",
       "| HPSI0114i-joxm_1 | -14.457950  | 16.99571    | -15.03030   |   6.746784  |  1.032778   |  -4.974597  | 17.701296   |   2.2023274 | -3.0294605  |  0.12356372 | \n",
       "| HPSI0114i-kolf_2 |  14.650883  | 15.88335    |   2.70087   | -36.028663  |  7.420142   |  12.299262  |  2.381522   |  -0.5241033 |  7.7827377  | -8.10110931 | \n",
       "\n",
       "\n"
      ],
      "text/plain": [
       "                 PC1        PC2      PC3       PC4        PC5       PC6       \n",
       "HPSI0114i-bezi_1  -1.752271 23.67747 -14.41534  13.781955 -1.556653  -8.451826\n",
       "HPSI0114i-eipl_1   3.061373 10.90175  12.04053  23.407564 18.308701 -10.657293\n",
       "HPSI0114i-iisa_1   9.241901 19.46449 -16.61737 -17.620830  6.088501  -8.034418\n",
       "HPSI0114i-iisa_3   4.880485 13.86131 -14.33556 -13.485245  8.930075  -4.012240\n",
       "HPSI0114i-joxm_1 -14.457950 16.99571 -15.03030   6.746784  1.032778  -4.974597\n",
       "HPSI0114i-kolf_2  14.650883 15.88335   2.70087 -36.028663  7.420142  12.299262\n",
       "                 PC7       PC8         PC9        PC10       \n",
       "HPSI0114i-bezi_1  5.805922 -16.5233888  0.2254597 -6.14843453\n",
       "HPSI0114i-eipl_1  2.055415  -2.8956086  5.8150673 -9.30376427\n",
       "HPSI0114i-iisa_1 11.052475   4.4881489 -4.7310868  0.04731545\n",
       "HPSI0114i-iisa_3 11.301933   6.1937119  4.2536126 -3.32154369\n",
       "HPSI0114i-joxm_1 17.701296   2.2023274 -3.0294605  0.12356372\n",
       "HPSI0114i-kolf_2  2.381522  -0.5241033  7.7827377 -8.10110931"
      ]
     },
     "metadata": {},
     "output_type": "display_data"
    }
   ],
   "source": [
    "pcs_bulk = prcomp(t(cpm_bulk_sc))$x[,1:10]\n",
    "head(pcs_bulk)"
   ]
  },
  {
   "cell_type": "code",
   "execution_count": 35,
   "metadata": {},
   "outputs": [],
   "source": [
    "write.table(pcs_bulk, paste0(dir,\"bulk_exprs_10pcs_covs.tsv\"),sep = \"\\t\", quote = F, col.names = NA)"
   ]
  },
  {
   "cell_type": "code",
   "execution_count": 40,
   "metadata": {},
   "outputs": [
    {
     "data": {
      "text/html": [
       "<table>\n",
       "<tbody>\n",
       "\t<tr><td>HPSI0114i-bezi_1</td><td>HPSI0114i-bezi_1</td></tr>\n",
       "\t<tr><td>HPSI0114i-eipl_1</td><td>HPSI0114i-eipl_1</td></tr>\n",
       "\t<tr><td>HPSI0114i-iisa_1</td><td>HPSI0114i-iisa_1</td></tr>\n",
       "\t<tr><td>HPSI0114i-iisa_3</td><td>HPSI0114i-iisa_3</td></tr>\n",
       "\t<tr><td>HPSI0114i-joxm_1</td><td>HPSI0114i-joxm_1</td></tr>\n",
       "\t<tr><td>HPSI0114i-kolf_2</td><td>HPSI0114i-kolf_2</td></tr>\n",
       "</tbody>\n",
       "</table>\n"
      ],
      "text/latex": [
       "\\begin{tabular}{ll}\n",
       "\t HPSI0114i-bezi\\_1 & HPSI0114i-bezi\\_1\\\\\n",
       "\t HPSI0114i-eipl\\_1 & HPSI0114i-eipl\\_1\\\\\n",
       "\t HPSI0114i-iisa\\_1 & HPSI0114i-iisa\\_1\\\\\n",
       "\t HPSI0114i-iisa\\_3 & HPSI0114i-iisa\\_3\\\\\n",
       "\t HPSI0114i-joxm\\_1 & HPSI0114i-joxm\\_1\\\\\n",
       "\t HPSI0114i-kolf\\_2 & HPSI0114i-kolf\\_2\\\\\n",
       "\\end{tabular}\n"
      ],
      "text/markdown": [
       "\n",
       "| HPSI0114i-bezi_1 | HPSI0114i-bezi_1 | \n",
       "| HPSI0114i-eipl_1 | HPSI0114i-eipl_1 | \n",
       "| HPSI0114i-iisa_1 | HPSI0114i-iisa_1 | \n",
       "| HPSI0114i-iisa_3 | HPSI0114i-iisa_3 | \n",
       "| HPSI0114i-joxm_1 | HPSI0114i-joxm_1 | \n",
       "| HPSI0114i-kolf_2 | HPSI0114i-kolf_2 | \n",
       "\n",
       "\n"
      ],
      "text/plain": [
       "     [,1]             [,2]            \n",
       "[1,] HPSI0114i-bezi_1 HPSI0114i-bezi_1\n",
       "[2,] HPSI0114i-eipl_1 HPSI0114i-eipl_1\n",
       "[3,] HPSI0114i-iisa_1 HPSI0114i-iisa_1\n",
       "[4,] HPSI0114i-iisa_3 HPSI0114i-iisa_3\n",
       "[5,] HPSI0114i-joxm_1 HPSI0114i-joxm_1\n",
       "[6,] HPSI0114i-kolf_2 HPSI0114i-kolf_2"
      ]
     },
     "metadata": {},
     "output_type": "display_data"
    }
   ],
   "source": [
    "Mapping_file <- matrix(nrow = nrow(pcs_bulk), ncol = 2)\n",
    "Mapping_file[,1] <- row.names(pcs_bulk)\n",
    "Mapping_file[,2] <- row.names(pcs_bulk)\n",
    "head(Mapping_file)\n",
    "write.table(Mapping_file, paste0(dir,'bulk_samples.tsv'), sep = \"\\t\", col.names = NA)"
   ]
  },
  {
   "cell_type": "code",
   "execution_count": null,
   "metadata": {},
   "outputs": [],
   "source": []
  },
  {
   "cell_type": "code",
   "execution_count": null,
   "metadata": {},
   "outputs": [],
   "source": [
    "####### down-sampling to sequencing depth comparable to single cells"
   ]
  },
  {
   "cell_type": "code",
   "execution_count": 13,
   "metadata": {},
   "outputs": [],
   "source": [
    "cpm_bulk_allgenes = counts(bulk)\n",
    "newcols <- gsub(\".*/quant_salmon/*\",\"\",colnames(cpm_bulk_allgenes))\n",
    "cols <- gsub(\"*.hs.*\",\"\",newcols)\n",
    "colnames(cpm_bulk_allgenes) <- cols"
   ]
  },
  {
   "cell_type": "code",
   "execution_count": 14,
   "metadata": {},
   "outputs": [],
   "source": [
    "cpm_bulk_allgenes_scsamples <- cpm_bulk_allgenes[,colnames(cpm_bulk_allgenes) %in% unique(sce0$donor_long_id)]"
   ]
  },
  {
   "cell_type": "code",
   "execution_count": 15,
   "metadata": {},
   "outputs": [
    {
     "data": {
      "text/html": [
       "<table>\n",
       "<thead><tr><th></th><th scope=col>HPSI0114i-bezi_1</th><th scope=col>HPSI0114i-bezi_3</th><th scope=col>HPSI0114i-eipl_1</th><th scope=col>HPSI0114i-eipl_3</th><th scope=col>HPSI0114i-fikt_3</th><th scope=col>HPSI0114i-iisa_1</th><th scope=col>HPSI0114i-iisa_3</th><th scope=col>HPSI0114i-joxm_1</th><th scope=col>HPSI0114i-kolf_2</th><th scope=col>HPSI0114i-kolf_3</th><th scope=col>⋯</th><th scope=col>HPSI0516i-eitu_4</th><th scope=col>HPSI0516i-goek_4</th><th scope=col>HPSI0516i-hapz_2</th><th scope=col>HPSI0516i-hapz_3</th><th scope=col>HPSI0516i-iool_4</th><th scope=col>HPSI0516i-iool_6</th><th scope=col>HPSI0516i-oazw_3</th><th scope=col>HPSI0516i-oazw_4</th><th scope=col>HPSI0516i-pews_2</th><th scope=col>HPSI0516i-pews_3</th></tr></thead>\n",
       "<tbody>\n",
       "\t<tr><th scope=row>ENSG00000000003_TSPAN6</th><td>3846.25631</td><td>6291.05638</td><td>2971.2791 </td><td>4157.55524</td><td>3403.30075</td><td>2363.40241</td><td>3610.09865</td><td>2699.54533</td><td>3121.31608</td><td>2655.48022</td><td>⋯         </td><td>722.38916 </td><td>3291.50949</td><td>5094.40216</td><td>3338.3176 </td><td>3894.84862</td><td>4275.32679</td><td>4250.63250</td><td>5716.46845</td><td>5805.35729</td><td>4554.68409</td></tr>\n",
       "\t<tr><th scope=row>ENSG00000000005_TNMD</th><td>  82.90442</td><td> 229.72857</td><td> 203.7413 </td><td> 139.93106</td><td> 126.94790</td><td>  85.56223</td><td> 134.79670</td><td>  73.86948</td><td>  99.47332</td><td> 107.74167</td><td>⋯         </td><td> 16.19598 </td><td> 148.25761</td><td>  53.25291</td><td> 140.3685 </td><td> 197.57210</td><td>  62.13246</td><td> 212.96536</td><td> 102.38398</td><td> 460.21508</td><td>  81.69777</td></tr>\n",
       "\t<tr><th scope=row>ENSG00000000419_DPM1</th><td>3096.45523</td><td>3541.10209</td><td>2679.1164 </td><td>3664.41159</td><td>3999.96503</td><td>2721.34513</td><td>4253.08620</td><td>2784.79593</td><td>3567.57794</td><td>3460.39176</td><td>⋯         </td><td>783.68978 </td><td>3812.40385</td><td>4514.35767</td><td>4678.7147 </td><td>4725.20244</td><td>4238.39937</td><td>4997.45313</td><td>5279.74614</td><td>5395.06231</td><td>4680.52020</td></tr>\n",
       "\t<tr><th scope=row>ENSG00000000457_SCYL3</th><td> 174.80602</td><td> 290.01557</td><td> 192.8760 </td><td> 183.47763</td><td> 189.47968</td><td> 162.30679</td><td> 274.05183</td><td> 150.17575</td><td> 130.40085</td><td> 184.27716</td><td>⋯         </td><td>106.61300 </td><td> 178.32273</td><td> 262.55426</td><td> 199.6303 </td><td> 224.52463</td><td> 224.89241</td><td> 221.57405</td><td> 313.94256</td><td> 239.59619</td><td> 201.29632</td></tr>\n",
       "\t<tr><th scope=row>ENSG00000000460_C1orf112</th><td> 642.43642</td><td> 851.36011</td><td> 541.6634 </td><td> 850.49635</td><td>1062.96472</td><td> 764.21683</td><td>1234.74801</td><td> 600.32251</td><td> 910.32090</td><td> 628.52192</td><td>⋯         </td><td>185.33285 </td><td>1153.10585</td><td>1614.96996</td><td>1486.8983 </td><td>1395.04647</td><td>1437.34617</td><td>1706.99142</td><td>1929.75587</td><td>1704.58944</td><td>1348.14372</td></tr>\n",
       "\t<tr><th scope=row>ENSG00000000938_FGR</th><td>  22.49792</td><td>  25.27714</td><td>  19.2920 </td><td>  11.90576</td><td>  30.83076</td><td>  18.85456</td><td>  28.04363</td><td>  25.44808</td><td>  22.88955</td><td>  22.17787</td><td>⋯         </td><td> 10.29471 </td><td>  22.66004</td><td>  35.30419</td><td>  23.5775 </td><td>  26.98097</td><td>  19.06929</td><td>  26.26117</td><td>  27.44168</td><td>  15.44898</td><td>  15.86835</td></tr>\n",
       "</tbody>\n",
       "</table>\n"
      ],
      "text/latex": [
       "\\begin{tabular}{r|llllllllllllllllllllllllllllllllllllllllllllllllllllllllllllllllllllllllllllllllllllllllllllllllllllllllllllllllllllllllllllllllllllllllllllllllllllllllllllllllllllllllllllllllllllllllllllllllllllllllllllllllllllllllllllllllllllllllllllllllllllllllllllllllllllllllllllllllllllllllllllllllllllllllllllllllllllllllllllllllllllllllllllllllllllllllllllllllllllllllllllllllllllllllllllllllllllllllllllllllllllllllllllllllllllllllllllllllllllllllllllllllllllllllllllllllllllllllllllllllllllllllllllllllllllllllllllllllllllllllllllllllllllllllllllllllllllllllllllllllllllllllllllllllllllllllllllllllllllllllllllllllllllllllllllllllllllllllllllllllllllllllllllllllllllllllllllllllllll}\n",
       "  & HPSI0114i-bezi\\_1 & HPSI0114i-bezi\\_3 & HPSI0114i-eipl\\_1 & HPSI0114i-eipl\\_3 & HPSI0114i-fikt\\_3 & HPSI0114i-iisa\\_1 & HPSI0114i-iisa\\_3 & HPSI0114i-joxm\\_1 & HPSI0114i-kolf\\_2 & HPSI0114i-kolf\\_3 & ⋯ & HPSI0516i-eitu\\_4 & HPSI0516i-goek\\_4 & HPSI0516i-hapz\\_2 & HPSI0516i-hapz\\_3 & HPSI0516i-iool\\_4 & HPSI0516i-iool\\_6 & HPSI0516i-oazw\\_3 & HPSI0516i-oazw\\_4 & HPSI0516i-pews\\_2 & HPSI0516i-pews\\_3\\\\\n",
       "\\hline\n",
       "\tENSG00000000003\\_TSPAN6 & 3846.25631 & 6291.05638 & 2971.2791  & 4157.55524 & 3403.30075 & 2363.40241 & 3610.09865 & 2699.54533 & 3121.31608 & 2655.48022 & ⋯          & 722.38916  & 3291.50949 & 5094.40216 & 3338.3176  & 3894.84862 & 4275.32679 & 4250.63250 & 5716.46845 & 5805.35729 & 4554.68409\\\\\n",
       "\tENSG00000000005\\_TNMD &   82.90442 &  229.72857 &  203.7413  &  139.93106 &  126.94790 &   85.56223 &  134.79670 &   73.86948 &   99.47332 &  107.74167 & ⋯          &  16.19598  &  148.25761 &   53.25291 &  140.3685  &  197.57210 &   62.13246 &  212.96536 &  102.38398 &  460.21508 &   81.69777\\\\\n",
       "\tENSG00000000419\\_DPM1 & 3096.45523 & 3541.10209 & 2679.1164  & 3664.41159 & 3999.96503 & 2721.34513 & 4253.08620 & 2784.79593 & 3567.57794 & 3460.39176 & ⋯          & 783.68978  & 3812.40385 & 4514.35767 & 4678.7147  & 4725.20244 & 4238.39937 & 4997.45313 & 5279.74614 & 5395.06231 & 4680.52020\\\\\n",
       "\tENSG00000000457\\_SCYL3 &  174.80602 &  290.01557 &  192.8760  &  183.47763 &  189.47968 &  162.30679 &  274.05183 &  150.17575 &  130.40085 &  184.27716 & ⋯          & 106.61300  &  178.32273 &  262.55426 &  199.6303  &  224.52463 &  224.89241 &  221.57405 &  313.94256 &  239.59619 &  201.29632\\\\\n",
       "\tENSG00000000460\\_C1orf112 &  642.43642 &  851.36011 &  541.6634  &  850.49635 & 1062.96472 &  764.21683 & 1234.74801 &  600.32251 &  910.32090 &  628.52192 & ⋯          & 185.33285  & 1153.10585 & 1614.96996 & 1486.8983  & 1395.04647 & 1437.34617 & 1706.99142 & 1929.75587 & 1704.58944 & 1348.14372\\\\\n",
       "\tENSG00000000938\\_FGR &   22.49792 &   25.27714 &   19.2920  &   11.90576 &   30.83076 &   18.85456 &   28.04363 &   25.44808 &   22.88955 &   22.17787 & ⋯          &  10.29471  &   22.66004 &   35.30419 &   23.5775  &   26.98097 &   19.06929 &   26.26117 &   27.44168 &   15.44898 &   15.86835\\\\\n",
       "\\end{tabular}\n"
      ],
      "text/markdown": [
       "\n",
       "| <!--/--> | HPSI0114i-bezi_1 | HPSI0114i-bezi_3 | HPSI0114i-eipl_1 | HPSI0114i-eipl_3 | HPSI0114i-fikt_3 | HPSI0114i-iisa_1 | HPSI0114i-iisa_3 | HPSI0114i-joxm_1 | HPSI0114i-kolf_2 | HPSI0114i-kolf_3 | ⋯ | HPSI0516i-eitu_4 | HPSI0516i-goek_4 | HPSI0516i-hapz_2 | HPSI0516i-hapz_3 | HPSI0516i-iool_4 | HPSI0516i-iool_6 | HPSI0516i-oazw_3 | HPSI0516i-oazw_4 | HPSI0516i-pews_2 | HPSI0516i-pews_3 | \n",
       "|---|---|---|---|---|---|\n",
       "| ENSG00000000003_TSPAN6 | 3846.25631 | 6291.05638 | 2971.2791  | 4157.55524 | 3403.30075 | 2363.40241 | 3610.09865 | 2699.54533 | 3121.31608 | 2655.48022 | ⋯          | 722.38916  | 3291.50949 | 5094.40216 | 3338.3176  | 3894.84862 | 4275.32679 | 4250.63250 | 5716.46845 | 5805.35729 | 4554.68409 | \n",
       "| ENSG00000000005_TNMD |   82.90442 |  229.72857 |  203.7413  |  139.93106 |  126.94790 |   85.56223 |  134.79670 |   73.86948 |   99.47332 |  107.74167 | ⋯          |  16.19598  |  148.25761 |   53.25291 |  140.3685  |  197.57210 |   62.13246 |  212.96536 |  102.38398 |  460.21508 |   81.69777 | \n",
       "| ENSG00000000419_DPM1 | 3096.45523 | 3541.10209 | 2679.1164  | 3664.41159 | 3999.96503 | 2721.34513 | 4253.08620 | 2784.79593 | 3567.57794 | 3460.39176 | ⋯          | 783.68978  | 3812.40385 | 4514.35767 | 4678.7147  | 4725.20244 | 4238.39937 | 4997.45313 | 5279.74614 | 5395.06231 | 4680.52020 | \n",
       "| ENSG00000000457_SCYL3 |  174.80602 |  290.01557 |  192.8760  |  183.47763 |  189.47968 |  162.30679 |  274.05183 |  150.17575 |  130.40085 |  184.27716 | ⋯          | 106.61300  |  178.32273 |  262.55426 |  199.6303  |  224.52463 |  224.89241 |  221.57405 |  313.94256 |  239.59619 |  201.29632 | \n",
       "| ENSG00000000460_C1orf112 |  642.43642 |  851.36011 |  541.6634  |  850.49635 | 1062.96472 |  764.21683 | 1234.74801 |  600.32251 |  910.32090 |  628.52192 | ⋯          | 185.33285  | 1153.10585 | 1614.96996 | 1486.8983  | 1395.04647 | 1437.34617 | 1706.99142 | 1929.75587 | 1704.58944 | 1348.14372 | \n",
       "| ENSG00000000938_FGR |   22.49792 |   25.27714 |   19.2920  |   11.90576 |   30.83076 |   18.85456 |   28.04363 |   25.44808 |   22.88955 |   22.17787 | ⋯          |  10.29471  |   22.66004 |   35.30419 |   23.5775  |   26.98097 |   19.06929 |   26.26117 |   27.44168 |   15.44898 |   15.86835 | \n",
       "\n",
       "\n"
      ],
      "text/plain": [
       "                         HPSI0114i-bezi_1 HPSI0114i-bezi_3 HPSI0114i-eipl_1\n",
       "ENSG00000000003_TSPAN6   3846.25631       6291.05638       2971.2791       \n",
       "ENSG00000000005_TNMD       82.90442        229.72857        203.7413       \n",
       "ENSG00000000419_DPM1     3096.45523       3541.10209       2679.1164       \n",
       "ENSG00000000457_SCYL3     174.80602        290.01557        192.8760       \n",
       "ENSG00000000460_C1orf112  642.43642        851.36011        541.6634       \n",
       "ENSG00000000938_FGR        22.49792         25.27714         19.2920       \n",
       "                         HPSI0114i-eipl_3 HPSI0114i-fikt_3 HPSI0114i-iisa_1\n",
       "ENSG00000000003_TSPAN6   4157.55524       3403.30075       2363.40241      \n",
       "ENSG00000000005_TNMD      139.93106        126.94790         85.56223      \n",
       "ENSG00000000419_DPM1     3664.41159       3999.96503       2721.34513      \n",
       "ENSG00000000457_SCYL3     183.47763        189.47968        162.30679      \n",
       "ENSG00000000460_C1orf112  850.49635       1062.96472        764.21683      \n",
       "ENSG00000000938_FGR        11.90576         30.83076         18.85456      \n",
       "                         HPSI0114i-iisa_3 HPSI0114i-joxm_1 HPSI0114i-kolf_2\n",
       "ENSG00000000003_TSPAN6   3610.09865       2699.54533       3121.31608      \n",
       "ENSG00000000005_TNMD      134.79670         73.86948         99.47332      \n",
       "ENSG00000000419_DPM1     4253.08620       2784.79593       3567.57794      \n",
       "ENSG00000000457_SCYL3     274.05183        150.17575        130.40085      \n",
       "ENSG00000000460_C1orf112 1234.74801        600.32251        910.32090      \n",
       "ENSG00000000938_FGR        28.04363         25.44808         22.88955      \n",
       "                         HPSI0114i-kolf_3 ⋯ HPSI0516i-eitu_4 HPSI0516i-goek_4\n",
       "ENSG00000000003_TSPAN6   2655.48022       ⋯ 722.38916        3291.50949      \n",
       "ENSG00000000005_TNMD      107.74167       ⋯  16.19598         148.25761      \n",
       "ENSG00000000419_DPM1     3460.39176       ⋯ 783.68978        3812.40385      \n",
       "ENSG00000000457_SCYL3     184.27716       ⋯ 106.61300         178.32273      \n",
       "ENSG00000000460_C1orf112  628.52192       ⋯ 185.33285        1153.10585      \n",
       "ENSG00000000938_FGR        22.17787       ⋯  10.29471          22.66004      \n",
       "                         HPSI0516i-hapz_2 HPSI0516i-hapz_3 HPSI0516i-iool_4\n",
       "ENSG00000000003_TSPAN6   5094.40216       3338.3176        3894.84862      \n",
       "ENSG00000000005_TNMD       53.25291        140.3685         197.57210      \n",
       "ENSG00000000419_DPM1     4514.35767       4678.7147        4725.20244      \n",
       "ENSG00000000457_SCYL3     262.55426        199.6303         224.52463      \n",
       "ENSG00000000460_C1orf112 1614.96996       1486.8983        1395.04647      \n",
       "ENSG00000000938_FGR        35.30419         23.5775          26.98097      \n",
       "                         HPSI0516i-iool_6 HPSI0516i-oazw_3 HPSI0516i-oazw_4\n",
       "ENSG00000000003_TSPAN6   4275.32679       4250.63250       5716.46845      \n",
       "ENSG00000000005_TNMD       62.13246        212.96536        102.38398      \n",
       "ENSG00000000419_DPM1     4238.39937       4997.45313       5279.74614      \n",
       "ENSG00000000457_SCYL3     224.89241        221.57405        313.94256      \n",
       "ENSG00000000460_C1orf112 1437.34617       1706.99142       1929.75587      \n",
       "ENSG00000000938_FGR        19.06929         26.26117         27.44168      \n",
       "                         HPSI0516i-pews_2 HPSI0516i-pews_3\n",
       "ENSG00000000003_TSPAN6   5805.35729       4554.68409      \n",
       "ENSG00000000005_TNMD      460.21508         81.69777      \n",
       "ENSG00000000419_DPM1     5395.06231       4680.52020      \n",
       "ENSG00000000457_SCYL3     239.59619        201.29632      \n",
       "ENSG00000000460_C1orf112 1704.58944       1348.14372      \n",
       "ENSG00000000938_FGR        15.44898         15.86835      "
      ]
     },
     "metadata": {},
     "output_type": "display_data"
    }
   ],
   "source": [
    "head(cpm_bulk_allgenes)"
   ]
  },
  {
   "cell_type": "code",
   "execution_count": 16,
   "metadata": {},
   "outputs": [
    {
     "data": {
      "text/html": [
       "<ol class=list-inline>\n",
       "\t<li>39385</li>\n",
       "\t<li>676</li>\n",
       "</ol>\n"
      ],
      "text/latex": [
       "\\begin{enumerate*}\n",
       "\\item 39385\n",
       "\\item 676\n",
       "\\end{enumerate*}\n"
      ],
      "text/markdown": [
       "1. 39385\n",
       "2. 676\n",
       "\n",
       "\n"
      ],
      "text/plain": [
       "[1] 39385   676"
      ]
     },
     "metadata": {},
     "output_type": "display_data"
    }
   ],
   "source": [
    "dim(cpm_bulk_allgenes)"
   ]
  },
  {
   "cell_type": "code",
   "execution_count": 17,
   "metadata": {},
   "outputs": [
    {
     "name": "stderr",
     "output_type": "stream",
     "text": [
      "Warning message in n * h:\n",
      "“NAs produced by integer overflow”"
     ]
    },
    {
     "data": {
      "image/png": "[encoded data removed]",
      "text/plain": [
       "Plot with title “44656787”"
      ]
     },
     "metadata": {},
     "output_type": "display_data"
    }
   ],
   "source": [
    "par(mfrow = c(1,2))\n",
    "options(repr.plot.width = 10, repr.plot.height = 5)\n",
    "hist(colSums(cpm_bulk_allgenes), main = round(median(colSums(cpm_bulk_allgenes)), digits = 0), \n",
    "     col = \"firebrick\", breaks = 20, xlab = \"# reads\")"
   ]
  },
  {
   "cell_type": "code",
   "execution_count": 18,
   "metadata": {},
   "outputs": [],
   "source": [
    "cpm_bulk_allgenes_sc = cpm_bulk_allgenes[,colnames(cpm_bulk_allgenes) %in% unique(sce0$donor_long_id)]"
   ]
  },
  {
   "cell_type": "code",
   "execution_count": 19,
   "metadata": {},
   "outputs": [
    {
     "data": {
      "image/png": "[encoded data removed]",
      "text/plain": [
       "Plot with title “43454208”"
      ]
     },
     "metadata": {},
     "output_type": "display_data"
    }
   ],
   "source": [
    "par(mfrow = c(1,2))\n",
    "options(repr.plot.width = 10, repr.plot.height = 5)\n",
    "hist(colSums(cpm_bulk_allgenes_sc), main = round(mean(colSums(cpm_bulk_allgenes_sc)), digits = 0), \n",
    "     col = \"firebrick\", breaks = 20, xlab = \"# reads\")"
   ]
  },
  {
   "cell_type": "code",
   "execution_count": 20,
   "metadata": {},
   "outputs": [
    {
     "data": {
      "image/png": "[encoded data removed]",
      "text/plain": [
       "Plot with title “3613781”"
      ]
     },
     "metadata": {},
     "output_type": "display_data"
    }
   ],
   "source": [
    "cpm_bulk_fewgenes_sc = cpm_bulk_allgenes_sc[rownames(cpm_bulk_allgenes_sc) %in% rownames(counts(sce0)),]\n",
    "cpm_bulk_othergenes_sc = cpm_bulk_allgenes_sc[!(rownames(cpm_bulk_allgenes_sc) %in% rownames(counts(sce0))),]\n",
    "par(mfrow = c(1,2))\n",
    "hist(colSums(cpm_bulk_fewgenes_sc), main = round(mean(colSums(cpm_bulk_fewgenes_sc)), digits = 0), \n",
    "     col = \"firebrick\", breaks = 20, xlab = \"# reads\")\n",
    "hist(colSums(cpm_bulk_othergenes_sc), main = round(mean(colSums(cpm_bulk_othergenes_sc)), digits = 0), \n",
    "     col = \"firebrick\", breaks = 20, xlab = \"# reads\")"
   ]
  },
  {
   "cell_type": "code",
   "execution_count": 21,
   "metadata": {},
   "outputs": [
    {
     "data": {
      "text/html": [
       "39385"
      ],
      "text/latex": [
       "39385"
      ],
      "text/markdown": [
       "39385"
      ],
      "text/plain": [
       "[1] 39385"
      ]
     },
     "metadata": {},
     "output_type": "display_data"
    },
    {
     "data": {
      "text/html": [
       "11231"
      ],
      "text/latex": [
       "11231"
      ],
      "text/markdown": [
       "11231"
      ],
      "text/plain": [
       "[1] 11231"
      ]
     },
     "metadata": {},
     "output_type": "display_data"
    },
    {
     "data": {
      "image/png": "[encoded data removed]",
      "text/plain": [
       "Plot with title “40408321”"
      ]
     },
     "metadata": {},
     "output_type": "display_data"
    }
   ],
   "source": [
    "par(mfrow = c(1,2))\n",
    "options(repr.plot.width = 10, repr.plot.height = 5)\n",
    "hist(colSums(cpm_bulk_allgenes_sc), main = round(median(colSums(cpm_bulk_allgenes_sc)), digits = 0), \n",
    "     col = \"firebrick\", breaks = 20, xlab = \"# reads\")\n",
    "hist(colSums(cpm_bulk_fewgenes_sc), main = round(median(colSums(cpm_bulk_fewgenes_sc)), digits = 0), \n",
    "     col = \"firebrick\", breaks = 20, xlab = \"# reads\")\n",
    "\n",
    "nrow(cpm_bulk_allgenes_sc)\n",
    "nrow(cpm_bulk_fewgenes_sc)"
   ]
  },
  {
   "cell_type": "code",
   "execution_count": null,
   "metadata": {},
   "outputs": [],
   "source": []
  },
  {
   "cell_type": "code",
   "execution_count": null,
   "metadata": {},
   "outputs": [],
   "source": []
  },
  {
   "cell_type": "code",
   "execution_count": 22,
   "metadata": {},
   "outputs": [],
   "source": [
    "## get counts (bulk)"
   ]
  },
  {
   "cell_type": "code",
   "execution_count": 23,
   "metadata": {},
   "outputs": [],
   "source": [
    "counts_bulk = counts(bulk)\n",
    "# rename columns to match single cell long donor ids\n",
    "newcols <- gsub(\".*/quant_salmon/*\",\"\",colnames(counts_bulk))\n",
    "cols <- gsub(\"*.hs.*\",\"\",newcols)\n",
    "colnames(counts_bulk) <- cols"
   ]
  },
  {
   "cell_type": "code",
   "execution_count": 24,
   "metadata": {},
   "outputs": [],
   "source": [
    "# select genes, donors we have single cell RNA-seq data for\n",
    "counts_bulk_sc <- counts_bulk[rownames(counts_bulk) %in% rownames(counts(sce0)),\n",
    "                                     colnames(counts_bulk) %in% unique(sce0$donor_long_id)]\n",
    "# remove these 3 \"bad\" samples - quantification went wrong\n",
    "counts_bulk_sc <- counts_bulk_sc[, !(colnames(counts_bulk_sc) %in% c(\"HPSI0713i-cicb_2\",\n",
    "                                                           \"HPSI0713i-cicb_3\",\n",
    "                                                           \"HPSI0513i-uoxz_5\"))]"
   ]
  },
  {
   "cell_type": "code",
   "execution_count": 25,
   "metadata": {},
   "outputs": [
    {
     "data": {
      "text/html": [
       "<ol class=list-inline>\n",
       "\t<li>11231</li>\n",
       "\t<li>108</li>\n",
       "</ol>\n"
      ],
      "text/latex": [
       "\\begin{enumerate*}\n",
       "\\item 11231\n",
       "\\item 108\n",
       "\\end{enumerate*}\n"
      ],
      "text/markdown": [
       "1. 11231\n",
       "2. 108\n",
       "\n",
       "\n"
      ],
      "text/plain": [
       "[1] 11231   108"
      ]
     },
     "metadata": {},
     "output_type": "display_data"
    }
   ],
   "source": [
    "dim(counts_bulk_sc)"
   ]
  },
  {
   "cell_type": "code",
   "execution_count": 26,
   "metadata": {},
   "outputs": [
    {
     "data": {
      "image/png": "[encoded data removed]",
      "text/plain": [
       "Plot with title “39886485”"
      ]
     },
     "metadata": {},
     "output_type": "display_data"
    }
   ],
   "source": [
    "par(mfrow = c(1,2))\n",
    "options(repr.plot.width = 10, repr.plot.height = 5)\n",
    "hist(colSums(counts_bulk_sc), main = round(mean(colSums(counts_bulk_sc)), digits = 0), \n",
    "     col = \"firebrick\", breaks = 20, xlab = \"# reads\")"
   ]
  },
  {
   "cell_type": "code",
   "execution_count": 27,
   "metadata": {},
   "outputs": [
    {
     "data": {
      "text/html": [
       "<ol class=list-inline>\n",
       "\t<li>11231</li>\n",
       "\t<li>9661</li>\n",
       "</ol>\n"
      ],
      "text/latex": [
       "\\begin{enumerate*}\n",
       "\\item 11231\n",
       "\\item 9661\n",
       "\\end{enumerate*}\n"
      ],
      "text/markdown": [
       "1. 11231\n",
       "2. 9661\n",
       "\n",
       "\n"
      ],
      "text/plain": [
       "[1] 11231  9661"
      ]
     },
     "metadata": {},
     "output_type": "display_data"
    }
   ],
   "source": [
    "dim(counts(sce0))"
   ]
  },
  {
   "cell_type": "code",
   "execution_count": 28,
   "metadata": {},
   "outputs": [
    {
     "data": {
      "image/png": "[encoded data removed]",
      "text/plain": [
       "Plot with title “503368”"
      ]
     },
     "metadata": {},
     "output_type": "display_data"
    }
   ],
   "source": [
    "par(mfrow = c(1,2))\n",
    "hist(colSums(counts(sce0)), main = round(mean(colSums(counts(sce0))), digits = 0), \n",
    "     col = \"cornflowerblue\", breaks = 20, xlab = \"# reads\")"
   ]
  },
  {
   "cell_type": "code",
   "execution_count": 1,
   "metadata": {},
   "outputs": [],
   "source": [
    "get_sums <- function(sceset, ngenes){\n",
    "    n = length(sceset$donor_short_id)\n",
    "    sums <- matrix(0,nrow = ngenes, ncol = n)\n",
    "    for (i in 1:n){\n",
    "        don = unique(sceset$donor_short_id)[i]\n",
    "        sc <- counts(sceset)[,sceset$donor_short_id == don]\n",
    "        # print(length(sc))\n",
    "        if (length(sc) == nrow(sceset)) {sums[,i] <- sc}\n",
    "        else {sums[,i] <- rowSums(sc)}\n",
    "    }\n",
    "    rownames(sums) = rownames(sceset)\n",
    "    colnames(sums) = unique(sceset$donor_short_id)\n",
    "    sums\n",
    "}"
   ]
  },
  {
   "cell_type": "code",
   "execution_count": 30,
   "metadata": {},
   "outputs": [
    {
     "data": {
      "text/html": [
       "<table>\n",
       "<thead><tr><th></th><th scope=col>HPSI0114i-bezi_1</th><th scope=col>HPSI0114i-eipl_1</th><th scope=col>HPSI0114i-iisa_1</th><th scope=col>HPSI0114i-iisa_3</th><th scope=col>HPSI0114i-joxm_1</th><th scope=col>HPSI0114i-kolf_2</th><th scope=col>HPSI0114i-vass_1</th><th scope=col>HPSI0114i-zapk_3</th><th scope=col>HPSI0115i-aoxv_3</th><th scope=col>HPSI0115i-hecn_3</th><th scope=col>⋯</th><th scope=col>HPSI0414i-tout_1</th><th scope=col>HPSI0414i-walu_1</th><th scope=col>HPSI0514i-eoxi_6</th><th scope=col>HPSI0514i-pulk_1</th><th scope=col>HPSI0514i-tavh_2</th><th scope=col>HPSI0614i-guyj_2</th><th scope=col>HPSI0614i-zoio_2</th><th scope=col>HPSI0714i-fasu_2</th><th scope=col>HPSI0714i-oebj_1</th><th scope=col>HPSI0714i-oojs_1</th></tr></thead>\n",
       "<tbody>\n",
       "\t<tr><th scope=row>ENSG00000000003_TSPAN6</th><td>3846.2563 </td><td>2971.2791 </td><td>2363.4024 </td><td>3610.0986 </td><td>2699.5453 </td><td>3121.3161 </td><td>3991.7219 </td><td>1759.4262 </td><td>5083.8218 </td><td>603.59751 </td><td>⋯         </td><td>3535.2597 </td><td>3268.3286 </td><td>2847.5405 </td><td>3716.3726 </td><td>5160.1087 </td><td>3220.6718 </td><td>1502.99604</td><td>3091.9299 </td><td>2695.8484 </td><td>3668.9052 </td></tr>\n",
       "\t<tr><th scope=row>ENSG00000000419_DPM1</th><td>3096.4552 </td><td>2679.1164 </td><td>2721.3451 </td><td>4253.0862 </td><td>2784.7959 </td><td>3567.5779 </td><td>3860.2685 </td><td>2654.8620 </td><td>3894.1286 </td><td>158.97065 </td><td>⋯         </td><td>3945.7600 </td><td>3255.9831 </td><td>2901.8728 </td><td>3525.0015 </td><td>4163.2263 </td><td>4005.9988 </td><td>1059.81348</td><td>3056.8984 </td><td>3457.4752 </td><td>3662.7717 </td></tr>\n",
       "\t<tr><th scope=row>ENSG00000000457_SCYL3</th><td> 174.8060 </td><td> 192.8760 </td><td> 162.3068 </td><td> 274.0518 </td><td> 150.1757 </td><td> 130.4009 </td><td> 263.3381 </td><td> 151.2143 </td><td> 279.7222 </td><td> 42.97137 </td><td>⋯         </td><td> 215.6370 </td><td> 189.3172 </td><td> 193.5155 </td><td> 186.3968 </td><td> 252.6376 </td><td> 214.7189 </td><td>  95.11626</td><td> 164.4241 </td><td> 186.7144 </td><td> 229.2702 </td></tr>\n",
       "\t<tr><th scope=row>ENSG00000000460_C1orf112</th><td> 642.4364 </td><td> 541.6634 </td><td> 764.2168 </td><td>1234.7480 </td><td> 600.3225 </td><td> 910.3209 </td><td> 728.4518 </td><td> 750.7036 </td><td>1160.3841 </td><td>165.38003 </td><td>⋯         </td><td> 798.5831 </td><td>1257.5163 </td><td> 721.2034 </td><td> 894.3028 </td><td>1499.0532 </td><td> 816.6356 </td><td> 555.25650</td><td> 690.1226 </td><td> 730.8043 </td><td>1131.7699 </td></tr>\n",
       "\t<tr><th scope=row>ENSG00000001036_FUCA2</th><td>1952.5207 </td><td>1855.6722 </td><td>1379.1091 </td><td>2269.3795 </td><td>1815.8049 </td><td>1777.2460 </td><td>2289.7128 </td><td>1621.2768 </td><td>2123.0012 </td><td>391.79318 </td><td>⋯         </td><td>2456.7029 </td><td>2354.4980 </td><td>2136.4479 </td><td>2425.8671 </td><td>2901.7313 </td><td>1972.0471 </td><td>1040.51507</td><td>1612.7579 </td><td>1691.5080 </td><td>2106.8511 </td></tr>\n",
       "\t<tr><th scope=row>ENSG00000001084_GCLC</th><td> 824.0389 </td><td> 853.9826 </td><td> 841.7446 </td><td>1416.7016 </td><td> 915.0153 </td><td>1336.3208 </td><td>1077.2854 </td><td> 978.2410 </td><td>1046.8201 </td><td>140.71782 </td><td>⋯         </td><td>1069.4696 </td><td>1127.5550 </td><td> 866.8565 </td><td> 984.8669 </td><td>1181.8767 </td><td> 974.0582 </td><td> 403.13205</td><td> 666.1630 </td><td> 710.5454 </td><td> 990.2644 </td></tr>\n",
       "</tbody>\n",
       "</table>\n"
      ],
      "text/latex": [
       "\\begin{tabular}{r|llllllllllllllllllllllllllllllllllllllllllllllllllllllllllllllllllllllllllllllllllllllllllllllllllllllllllll}\n",
       "  & HPSI0114i-bezi\\_1 & HPSI0114i-eipl\\_1 & HPSI0114i-iisa\\_1 & HPSI0114i-iisa\\_3 & HPSI0114i-joxm\\_1 & HPSI0114i-kolf\\_2 & HPSI0114i-vass\\_1 & HPSI0114i-zapk\\_3 & HPSI0115i-aoxv\\_3 & HPSI0115i-hecn\\_3 & ⋯ & HPSI0414i-tout\\_1 & HPSI0414i-walu\\_1 & HPSI0514i-eoxi\\_6 & HPSI0514i-pulk\\_1 & HPSI0514i-tavh\\_2 & HPSI0614i-guyj\\_2 & HPSI0614i-zoio\\_2 & HPSI0714i-fasu\\_2 & HPSI0714i-oebj\\_1 & HPSI0714i-oojs\\_1\\\\\n",
       "\\hline\n",
       "\tENSG00000000003\\_TSPAN6 & 3846.2563  & 2971.2791  & 2363.4024  & 3610.0986  & 2699.5453  & 3121.3161  & 3991.7219  & 1759.4262  & 5083.8218  & 603.59751  & ⋯          & 3535.2597  & 3268.3286  & 2847.5405  & 3716.3726  & 5160.1087  & 3220.6718  & 1502.99604 & 3091.9299  & 2695.8484  & 3668.9052 \\\\\n",
       "\tENSG00000000419\\_DPM1 & 3096.4552  & 2679.1164  & 2721.3451  & 4253.0862  & 2784.7959  & 3567.5779  & 3860.2685  & 2654.8620  & 3894.1286  & 158.97065  & ⋯          & 3945.7600  & 3255.9831  & 2901.8728  & 3525.0015  & 4163.2263  & 4005.9988  & 1059.81348 & 3056.8984  & 3457.4752  & 3662.7717 \\\\\n",
       "\tENSG00000000457\\_SCYL3 &  174.8060  &  192.8760  &  162.3068  &  274.0518  &  150.1757  &  130.4009  &  263.3381  &  151.2143  &  279.7222  &  42.97137  & ⋯          &  215.6370  &  189.3172  &  193.5155  &  186.3968  &  252.6376  &  214.7189  &   95.11626 &  164.4241  &  186.7144  &  229.2702 \\\\\n",
       "\tENSG00000000460\\_C1orf112 &  642.4364  &  541.6634  &  764.2168  & 1234.7480  &  600.3225  &  910.3209  &  728.4518  &  750.7036  & 1160.3841  & 165.38003  & ⋯          &  798.5831  & 1257.5163  &  721.2034  &  894.3028  & 1499.0532  &  816.6356  &  555.25650 &  690.1226  &  730.8043  & 1131.7699 \\\\\n",
       "\tENSG00000001036\\_FUCA2 & 1952.5207  & 1855.6722  & 1379.1091  & 2269.3795  & 1815.8049  & 1777.2460  & 2289.7128  & 1621.2768  & 2123.0012  & 391.79318  & ⋯          & 2456.7029  & 2354.4980  & 2136.4479  & 2425.8671  & 2901.7313  & 1972.0471  & 1040.51507 & 1612.7579  & 1691.5080  & 2106.8511 \\\\\n",
       "\tENSG00000001084\\_GCLC &  824.0389  &  853.9826  &  841.7446  & 1416.7016  &  915.0153  & 1336.3208  & 1077.2854  &  978.2410  & 1046.8201  & 140.71782  & ⋯          & 1069.4696  & 1127.5550  &  866.8565  &  984.8669  & 1181.8767  &  974.0582  &  403.13205 &  666.1630  &  710.5454  &  990.2644 \\\\\n",
       "\\end{tabular}\n"
      ],
      "text/markdown": [
       "\n",
       "| <!--/--> | HPSI0114i-bezi_1 | HPSI0114i-eipl_1 | HPSI0114i-iisa_1 | HPSI0114i-iisa_3 | HPSI0114i-joxm_1 | HPSI0114i-kolf_2 | HPSI0114i-vass_1 | HPSI0114i-zapk_3 | HPSI0115i-aoxv_3 | HPSI0115i-hecn_3 | ⋯ | HPSI0414i-tout_1 | HPSI0414i-walu_1 | HPSI0514i-eoxi_6 | HPSI0514i-pulk_1 | HPSI0514i-tavh_2 | HPSI0614i-guyj_2 | HPSI0614i-zoio_2 | HPSI0714i-fasu_2 | HPSI0714i-oebj_1 | HPSI0714i-oojs_1 | \n",
       "|---|---|---|---|---|---|\n",
       "| ENSG00000000003_TSPAN6 | 3846.2563  | 2971.2791  | 2363.4024  | 3610.0986  | 2699.5453  | 3121.3161  | 3991.7219  | 1759.4262  | 5083.8218  | 603.59751  | ⋯          | 3535.2597  | 3268.3286  | 2847.5405  | 3716.3726  | 5160.1087  | 3220.6718  | 1502.99604 | 3091.9299  | 2695.8484  | 3668.9052  | \n",
       "| ENSG00000000419_DPM1 | 3096.4552  | 2679.1164  | 2721.3451  | 4253.0862  | 2784.7959  | 3567.5779  | 3860.2685  | 2654.8620  | 3894.1286  | 158.97065  | ⋯          | 3945.7600  | 3255.9831  | 2901.8728  | 3525.0015  | 4163.2263  | 4005.9988  | 1059.81348 | 3056.8984  | 3457.4752  | 3662.7717  | \n",
       "| ENSG00000000457_SCYL3 |  174.8060  |  192.8760  |  162.3068  |  274.0518  |  150.1757  |  130.4009  |  263.3381  |  151.2143  |  279.7222  |  42.97137  | ⋯          |  215.6370  |  189.3172  |  193.5155  |  186.3968  |  252.6376  |  214.7189  |   95.11626 |  164.4241  |  186.7144  |  229.2702  | \n",
       "| ENSG00000000460_C1orf112 |  642.4364  |  541.6634  |  764.2168  | 1234.7480  |  600.3225  |  910.3209  |  728.4518  |  750.7036  | 1160.3841  | 165.38003  | ⋯          |  798.5831  | 1257.5163  |  721.2034  |  894.3028  | 1499.0532  |  816.6356  |  555.25650 |  690.1226  |  730.8043  | 1131.7699  | \n",
       "| ENSG00000001036_FUCA2 | 1952.5207  | 1855.6722  | 1379.1091  | 2269.3795  | 1815.8049  | 1777.2460  | 2289.7128  | 1621.2768  | 2123.0012  | 391.79318  | ⋯          | 2456.7029  | 2354.4980  | 2136.4479  | 2425.8671  | 2901.7313  | 1972.0471  | 1040.51507 | 1612.7579  | 1691.5080  | 2106.8511  | \n",
       "| ENSG00000001084_GCLC |  824.0389  |  853.9826  |  841.7446  | 1416.7016  |  915.0153  | 1336.3208  | 1077.2854  |  978.2410  | 1046.8201  | 140.71782  | ⋯          | 1069.4696  | 1127.5550  |  866.8565  |  984.8669  | 1181.8767  |  974.0582  |  403.13205 |  666.1630  |  710.5454  |  990.2644  | \n",
       "\n",
       "\n"
      ],
      "text/plain": [
       "                         HPSI0114i-bezi_1 HPSI0114i-eipl_1 HPSI0114i-iisa_1\n",
       "ENSG00000000003_TSPAN6   3846.2563        2971.2791        2363.4024       \n",
       "ENSG00000000419_DPM1     3096.4552        2679.1164        2721.3451       \n",
       "ENSG00000000457_SCYL3     174.8060         192.8760         162.3068       \n",
       "ENSG00000000460_C1orf112  642.4364         541.6634         764.2168       \n",
       "ENSG00000001036_FUCA2    1952.5207        1855.6722        1379.1091       \n",
       "ENSG00000001084_GCLC      824.0389         853.9826         841.7446       \n",
       "                         HPSI0114i-iisa_3 HPSI0114i-joxm_1 HPSI0114i-kolf_2\n",
       "ENSG00000000003_TSPAN6   3610.0986        2699.5453        3121.3161       \n",
       "ENSG00000000419_DPM1     4253.0862        2784.7959        3567.5779       \n",
       "ENSG00000000457_SCYL3     274.0518         150.1757         130.4009       \n",
       "ENSG00000000460_C1orf112 1234.7480         600.3225         910.3209       \n",
       "ENSG00000001036_FUCA2    2269.3795        1815.8049        1777.2460       \n",
       "ENSG00000001084_GCLC     1416.7016         915.0153        1336.3208       \n",
       "                         HPSI0114i-vass_1 HPSI0114i-zapk_3 HPSI0115i-aoxv_3\n",
       "ENSG00000000003_TSPAN6   3991.7219        1759.4262        5083.8218       \n",
       "ENSG00000000419_DPM1     3860.2685        2654.8620        3894.1286       \n",
       "ENSG00000000457_SCYL3     263.3381         151.2143         279.7222       \n",
       "ENSG00000000460_C1orf112  728.4518         750.7036        1160.3841       \n",
       "ENSG00000001036_FUCA2    2289.7128        1621.2768        2123.0012       \n",
       "ENSG00000001084_GCLC     1077.2854         978.2410        1046.8201       \n",
       "                         HPSI0115i-hecn_3 ⋯ HPSI0414i-tout_1 HPSI0414i-walu_1\n",
       "ENSG00000000003_TSPAN6   603.59751        ⋯ 3535.2597        3268.3286       \n",
       "ENSG00000000419_DPM1     158.97065        ⋯ 3945.7600        3255.9831       \n",
       "ENSG00000000457_SCYL3     42.97137        ⋯  215.6370         189.3172       \n",
       "ENSG00000000460_C1orf112 165.38003        ⋯  798.5831        1257.5163       \n",
       "ENSG00000001036_FUCA2    391.79318        ⋯ 2456.7029        2354.4980       \n",
       "ENSG00000001084_GCLC     140.71782        ⋯ 1069.4696        1127.5550       \n",
       "                         HPSI0514i-eoxi_6 HPSI0514i-pulk_1 HPSI0514i-tavh_2\n",
       "ENSG00000000003_TSPAN6   2847.5405        3716.3726        5160.1087       \n",
       "ENSG00000000419_DPM1     2901.8728        3525.0015        4163.2263       \n",
       "ENSG00000000457_SCYL3     193.5155         186.3968         252.6376       \n",
       "ENSG00000000460_C1orf112  721.2034         894.3028        1499.0532       \n",
       "ENSG00000001036_FUCA2    2136.4479        2425.8671        2901.7313       \n",
       "ENSG00000001084_GCLC      866.8565         984.8669        1181.8767       \n",
       "                         HPSI0614i-guyj_2 HPSI0614i-zoio_2 HPSI0714i-fasu_2\n",
       "ENSG00000000003_TSPAN6   3220.6718        1502.99604       3091.9299       \n",
       "ENSG00000000419_DPM1     4005.9988        1059.81348       3056.8984       \n",
       "ENSG00000000457_SCYL3     214.7189          95.11626        164.4241       \n",
       "ENSG00000000460_C1orf112  816.6356         555.25650        690.1226       \n",
       "ENSG00000001036_FUCA2    1972.0471        1040.51507       1612.7579       \n",
       "ENSG00000001084_GCLC      974.0582         403.13205        666.1630       \n",
       "                         HPSI0714i-oebj_1 HPSI0714i-oojs_1\n",
       "ENSG00000000003_TSPAN6   2695.8484        3668.9052       \n",
       "ENSG00000000419_DPM1     3457.4752        3662.7717       \n",
       "ENSG00000000457_SCYL3     186.7144         229.2702       \n",
       "ENSG00000000460_C1orf112  730.8043        1131.7699       \n",
       "ENSG00000001036_FUCA2    1691.5080        2106.8511       \n",
       "ENSG00000001084_GCLC      710.5454         990.2644       "
      ]
     },
     "metadata": {},
     "output_type": "display_data"
    }
   ],
   "source": [
    "head(counts_bulk_sc)"
   ]
  },
  {
   "cell_type": "code",
   "execution_count": null,
   "metadata": {},
   "outputs": [],
   "source": [
    "pseudobulk = get_sums(sce0, nrow(sce0))"
   ]
  },
  {
   "cell_type": "code",
   "execution_count": null,
   "metadata": {},
   "outputs": [],
   "source": [
    "head(pseudobulk)"
   ]
  },
  {
   "cell_type": "code",
   "execution_count": null,
   "metadata": {},
   "outputs": [],
   "source": [
    "dim(pseudobulk)"
   ]
  },
  {
   "cell_type": "code",
   "execution_count": null,
   "metadata": {},
   "outputs": [],
   "source": [
    "par(mfrow = c(1,2))\n",
    "hist(colSums(pseudobulk), main = round(mean(colSums(pseudobulk)), digits = 0), \n",
    "     col = \"cornflowerblue\", breaks = 20, xlab = \"# reads\")"
   ]
  },
  {
   "cell_type": "code",
   "execution_count": null,
   "metadata": {},
   "outputs": [],
   "source": [
    "colSums(pseudobulk)"
   ]
  },
  {
   "cell_type": "code",
   "execution_count": null,
   "metadata": {},
   "outputs": [],
   "source": []
  },
  {
   "cell_type": "code",
   "execution_count": null,
   "metadata": {},
   "outputs": [],
   "source": []
  },
  {
   "cell_type": "code",
   "execution_count": null,
   "metadata": {},
   "outputs": [],
   "source": [
    "BulkSeqDep = colSums(cpm_bulk_allgenes) # number of reads per donor (bulk sequencing depth)"
   ]
  },
  {
   "cell_type": "code",
   "execution_count": null,
   "metadata": {},
   "outputs": [],
   "source": [
    "BulkRates = t(t(cpm_bulk_sc)/BulkSeqDep) # matrix of rates for each donor, gene (bulk) i.e. {bulk}ij / sum_j({bulk}ij)"
   ]
  },
  {
   "cell_type": "code",
   "execution_count": null,
   "metadata": {},
   "outputs": [],
   "source": [
    "BulkSeqDep90 = BulkSeqDep*0.9\n",
    "B90 = t(t(BulkRates)*BulkSeqDep90)\n",
    "\n",
    "BulkSeqDep80 = BulkSeqDep*0.8\n",
    "B80 = t(t(BulkRates)*BulkSeqDep80)\n",
    "\n",
    "BulkSeqDep70 = BulkSeqDep*0.7\n",
    "B70 = t(t(BulkRates)*BulkSeqDep70)\n",
    "\n",
    "BulkSeqDep60 = BulkSeqDep*0.6\n",
    "B60 = t(t(BulkRates)*BulkSeqDep60)\n",
    "\n",
    "BulkSeqDep50 = BulkSeqDep*0.5\n",
    "B50 = t(t(BulkRates)*BulkSeqDep50)\n",
    "\n",
    "BulkSeqDep40 = BulkSeqDep*0.4\n",
    "B40 = t(t(BulkRates)*BulkSeqDep40)\n",
    "\n",
    "BulkSeqDep30 = BulkSeqDep*0.3\n",
    "B30 = t(t(BulkRates)*BulkSeqDep30)\n",
    "\n",
    "BulkSeqDep20 = BulkSeqDep*0.2\n",
    "B20 = t(t(BulkRates)*BulkSeqDep20)\n",
    "\n",
    "BulkSeqDep10 = BulkSeqDep*0.1\n",
    "B10 = t(t(BulkRates)*BulkSeqDep10)"
   ]
  },
  {
   "cell_type": "code",
   "execution_count": null,
   "metadata": {},
   "outputs": [],
   "source": [
    "par(mfrow=c(1,4))\n",
    "options(repr.plot.width = 10, repr.plot.height = 3)\n",
    "col = \"firebrick\"\n",
    "hist(BulkSeqDep, main = round(mean(BulkSeqDep),digits = 0), col = col, breaks = 20, xlab = \"# reads (genome-wide)\", xlim = c(0,1e+8))\n",
    "hist(BulkSeqDep90, main = round(mean(BulkSeqDep90),digits = 0), col = col, breaks = 20, xlab = \"90% of # reads (genome-wide)\", xlim = c(0,1e+8))\n",
    "hist(BulkSeqDep80, main = round(mean(BulkSeqDep80),digits = 0), col = col, breaks = 20, xlab = \"80% of # reads (genome-wide)\", xlim = c(0,1e+8))\n",
    "hist(BulkSeqDep70, main = round(mean(BulkSeqDep70),digits = 0), col = col, breaks = 20, xlab = \"70% of # reads (genome-wide)\", xlim = c(0,1e+8))\n",
    "hist(BulkSeqDep60, main = round(mean(BulkSeqDep60),digits = 0), col = col, breaks = 20, xlab = \"60% of # reads (genome-wide)\", xlim = c(0,1e+8))\n",
    "hist(BulkSeqDep50, main = round(mean(BulkSeqDep50),digits = 0), col = col, breaks = 20, xlab = \"50% of # reads (genome-wide)\", xlim = c(0,1e+8))\n",
    "hist(BulkSeqDep40, main = round(mean(BulkSeqDep40),digits = 0), col = col, breaks = 20, xlab = \"40% of # reads (genome-wide)\", xlim = c(0,1e+8))\n",
    "hist(BulkSeqDep30, main = round(mean(BulkSeqDep30),digits = 0), col = col, breaks = 20, xlab = \"30% of # reads (genome-wide)\", xlim = c(0,1e+8))\n",
    "hist(BulkSeqDep20, main = round(mean(BulkSeqDep20),digits = 0), col = col, breaks = 20, xlab = \"20% of # reads (genome-wide)\", xlim = c(0,1e+8))\n",
    "hist(BulkSeqDep10, main = round(mean(BulkSeqDep10),digits = 0), col = col, breaks = 20, xlab = \"10% of # reads (genome-wide)\", xlim = c(0,1e+8))"
   ]
  },
  {
   "cell_type": "code",
   "execution_count": null,
   "metadata": {},
   "outputs": [],
   "source": [
    "a = colSums(cpm_bulk_allgenes) # number of reads per donor (bulk sequencing depth)\n",
    "A = t(t(cpm_bulk_sc)/a) # matrix of rates for each donor, gene (bulk) i.e. {bulk}ij / sum_j({bulk}ij)\n",
    "b = colSums(pseudobulk) # number of reads per donor (pseudobulk sequencing depth)\n",
    "B = t(t(A)*b) # matrix of bulk rates by pseudobulk sequencing depths"
   ]
  },
  {
   "cell_type": "code",
   "execution_count": null,
   "metadata": {},
   "outputs": [],
   "source": [
    "B60_pois = B60\n",
    "for (j in 1:n_genes){\n",
    "    B60_pois[j,] = rpois(n = ndonors, lambda = B60[j,])\n",
    "}"
   ]
  },
  {
   "cell_type": "code",
   "execution_count": null,
   "metadata": {},
   "outputs": [],
   "source": []
  }
 ],
 "metadata": {
  "kernelspec": {
   "display_name": "R",
   "language": "R",
   "name": "ir"
  },
  "language_info": {
   "codemirror_mode": "r",
   "file_extension": ".r",
   "mimetype": "text/x-r-source",
   "name": "R",
   "pygments_lexer": "r",
   "version": "3.4.3"
  }
 },
 "nbformat": 4,
 "nbformat_minor": 2
}
