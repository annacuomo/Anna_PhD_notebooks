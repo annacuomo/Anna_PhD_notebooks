{
 "cells": [
  {
   "cell_type": "code",
   "execution_count": 20,
   "metadata": {},
   "outputs": [],
   "source": [
    "suppressWarnings(suppressPackageStartupMessages(library(ggthemes)))\n",
    "suppressWarnings(suppressPackageStartupMessages(library(scran)))"
   ]
  },
  {
   "cell_type": "code",
   "execution_count": 11,
   "metadata": {},
   "outputs": [
    {
     "data": {
      "text/html": [
       "<ol class=list-inline>\n",
       "\t<li>'#344d90'</li>\n",
       "\t<li>'#5cc5ef'</li>\n",
       "\t<li>'#ffb745'</li>\n",
       "\t<li>'#e7552c'</li>\n",
       "</ol>\n"
      ],
      "text/latex": [
       "\\begin{enumerate*}\n",
       "\\item '\\#344d90'\n",
       "\\item '\\#5cc5ef'\n",
       "\\item '\\#ffb745'\n",
       "\\item '\\#e7552c'\n",
       "\\end{enumerate*}\n"
      ],
      "text/markdown": [
       "1. '#344d90'\n",
       "2. '#5cc5ef'\n",
       "3. '#ffb745'\n",
       "4. '#e7552c'\n",
       "\n",
       "\n"
      ],
      "text/plain": [
       "[1] \"#344d90\" \"#5cc5ef\" \"#ffb745\" \"#e7552c\""
      ]
     },
     "metadata": {},
     "output_type": "display_data"
    },
    {
     "data": {
      "image/png": "[encoded data removed]",
      "text/plain": [
       "plot without title"
      ]
     },
     "metadata": {},
     "output_type": "display_data"
    }
   ],
   "source": [
    "require(\"scales\")\n",
    "show_col(canva_pal(\"Pool party\")(4))\n",
    "canva_pal(\"Pool party\")(4)"
   ]
  },
  {
   "cell_type": "code",
   "execution_count": 12,
   "metadata": {},
   "outputs": [],
   "source": [
    "col_day0 = canva_pal(\"Pool party\")(4)[1]\n",
    "col_day1 = canva_pal(\"Pool party\")(4)[2]\n",
    "col_day2 = canva_pal(\"Pool party\")(4)[3]\n",
    "col_day3 = canva_pal(\"Pool party\")(4)[4]\n",
    "col_ips = \"cornflowerblue\"\n",
    "col_mesendo = \"forestgreen\"\n",
    "col_defendo = \"coral\""
   ]
  },
  {
   "cell_type": "code",
   "execution_count": 24,
   "metadata": {},
   "outputs": [],
   "source": [
    "# load lead variant results sc stages (iPS, mesendo, defendo)\n",
    "leads.ips = read.csv(\"/nfs/leia/research/stegle/acuomo/mean/day0/all_expts/leads.csv\", row.names = 1)\n",
    "leads.mesendo = read.csv(\"/nfs/leia/research/stegle/acuomo/mean/mesendo_est_June20/leads.csv\", row.names = 1)\n",
    "leads.defendo = read.csv(\"/nfs/leia/research/stegle/acuomo/mean/defendo_est_June20/leads.csv\", row.names = 1)\n",
    "# load lead variant results sc days as comparison (day1, day3)\n",
    "leads.day1 = read.csv(\"/nfs/leia/research/stegle/acuomo/mean/day1/leads.csv\", row.names = 1)\n",
    "leads.day3 = read.csv(\"/nfs/leia/research/stegle/acuomo/mean/day3/leads.csv\", row.names = 1)"
   ]
  },
  {
   "cell_type": "code",
   "execution_count": 25,
   "metadata": {},
   "outputs": [],
   "source": [
    "leads.ips.sign = leads.ips[leads.ips$global_corr_p_value < 0.1,]\n",
    "leads.mesendo.sign = leads.mesendo[leads.mesendo$global_corr_p_value < 0.1,]\n",
    "leads.defendo.sign = leads.defendo[leads.defendo$global_corr_p_value < 0.1,]\n",
    "#\n",
    "leads.day1.sign = leads.day1[leads.day1$global_corr_p_value < 0.1,]\n",
    "leads.day3.sign = leads.day3[leads.day3$global_corr_p_value < 0.1,]"
   ]
  },
  {
   "cell_type": "code",
   "execution_count": 27,
   "metadata": {},
   "outputs": [
    {
     "data": {
      "image/png": "[encoded data removed]",
      "text/plain": [
       "Plot with title “# eGenes”"
      ]
     },
     "metadata": {},
     "output_type": "display_data"
    }
   ],
   "source": [
    "options(repr.plot.width = 5, repr.plot.height = 4)\n",
    "# eqtls <- c(1833, 1702, 1181, 1342, 631)\n",
    "eqtls <- c(nrow(leads.ips.sign), nrow(leads.mesendo.sign), nrow(leads.day1.sign), \n",
    "           nrow(leads.defendo.sign), nrow(leads.day3.sign))\n",
    "\n",
    "my.xlim = c(0, max(eqtls)+100)\n",
    "my.ylim = c(0,9)\n",
    "my.space = c(0, 1.2, -0.2, 1, -0.2)\n",
    "# opar <- par(lwd = 5)\n",
    "barplot(as.numeric(eqtls), main = \"# eGenes\",\n",
    "        border = c(col_ips, col_mesendo, col_day1, col_defendo, col_day3),\n",
    "        col = c(col_ips, col_mesendo, col_day1, col_defendo, col_day3),\n",
    "        xlim = my.ylim, ylim = my.xlim, space = my.space, ylab = \"\")"
   ]
  },
  {
   "cell_type": "code",
   "execution_count": 18,
   "metadata": {},
   "outputs": [],
   "source": [
    "sce = readRDS(\"/hps/nobackup/hipsci/scratch/singlecell_endodiff/data_processed/merged/20180618/sce_merged_afterqc_filt_allexpts.rds\")"
   ]
  },
  {
   "cell_type": "code",
   "execution_count": 21,
   "metadata": {},
   "outputs": [
    {
     "name": "stderr",
     "output_type": "stream",
     "text": [
      "Warning message in .local(object, ...):\n",
      "“spike-in transcripts in 'ERCC' should have their own size factors”"
     ]
    }
   ],
   "source": [
    "## HVGs (highly variable genes)\n",
    "sce = normalize(sce)\n",
    "design = model.matrix(~ experiment, data = colData(sce))\n",
    "alt.fit = trendVar(sce, design = design, use.spikes = FALSE)\n",
    "alt.decomp = decomposeVar(sce, alt.fit)"
   ]
  },
  {
   "cell_type": "code",
   "execution_count": 22,
   "metadata": {},
   "outputs": [],
   "source": [
    "top.500hvgs = rownames(alt.decomp[order(alt.decomp$bio, decreasing = TRUE),])[1:500]\n",
    "rowData(sce)$is_intop500hvg <- (rownames(sce) %in% top.500hvgs)\n",
    "pca.500hvgs = prcomp(t(logcounts(sce[rowData(sce)$is_intop500hvg,])))$x\n",
    "sce$PC1_top500hvgs = pca.500hvgs[,1]\n",
    "# some cells will not be assigned to any stage\n",
    "sce$stage = \"not assigned\"\n",
    "# just assign all day0 cells to ips\n",
    "sce[,sce$day == \"day0\"]$stage = \"ips\"\n",
    "# still based on not scale PC1, since those are the criteria used for eQTLs\n",
    "sce[,sce$PC1_top500hvgs  > -23 & sce$PC1_top500hvgs < 4 & sce$day %in% c(\"day1\",\"day2\")]$stage = \"mesendo\"\n",
    "sce[,sce$PC1_top500hvgs  > 22 & sce$day %in% c(\"day2\",\"day3\")]$stage = \"defendo\"\n",
    "sce$pseudotime = sce$PC1_top500hvgs"
   ]
  },
  {
   "cell_type": "code",
   "execution_count": 23,
   "metadata": {},
   "outputs": [],
   "source": [
    "sce_ips = sce[,sce$stage == \"ips\"]\n",
    "sce_mesendo = sce[,sce$stage == \"mesendo\"]\n",
    "sce_defendo = sce[,sce$stage == \"defendo\"]\n",
    "###\n",
    "sce_day1 = sce[,sce$day == \"day1\"]\n",
    "sce_day3 = sce[,sce$day == \"day3\"]"
   ]
  },
  {
   "cell_type": "code",
   "execution_count": 28,
   "metadata": {},
   "outputs": [
    {
     "data": {
      "image/png": "[encoded data removed]",
      "text/plain": [
       "Plot with title “# donors”"
      ]
     },
     "metadata": {},
     "output_type": "display_data"
    }
   ],
   "source": [
    "options(repr.plot.width = 5, repr.plot.height = 4)\n",
    "# donors <- c(111, 123, 111, 116, 108)\n",
    "donors <- c(length(unique(sce_ips$donor)), length(unique(sce_mesendo$donor)), length(unique(sce_day1$donor)), \n",
    "           length(unique(sce_defendo$donor)), length(unique(sce_day3$donor)))\n",
    "\n",
    "my.xlim = c(0, max(donors)+10)\n",
    "my.ylim = c(0,9)\n",
    "my.space = c(0, 1.2, -0.2, 1, -0.2)\n",
    "\n",
    "# opar <- par(lwd = 5)\n",
    "barplot(as.numeric(donors), main = \"# donors\",\n",
    "        border = c(col_ips, col_mesendo, col_day1, col_defendo, col_day3),\n",
    "        col = c(col_ips, col_mesendo, col_day1, col_defendo, col_day3),\n",
    "        xlim = my.ylim, ylim = my.xlim, space = my.space, ylab = \"\")"
   ]
  },
  {
   "cell_type": "code",
   "execution_count": 29,
   "metadata": {},
   "outputs": [
    {
     "data": {
      "image/png": "[encoded data removed]",
      "text/plain": [
       "Plot with title “# cells”"
      ]
     },
     "metadata": {},
     "output_type": "display_data"
    }
   ],
   "source": [
    "options(repr.plot.width = 5, repr.plot.height = 4)\n",
    "#cells <- c(9661, 9809, 9443, 10187, 8485)\n",
    "cells <- c(ncol(sce_ips), ncol(sce_mesendo), ncol(sce_day1), ncol(sce_defendo), ncol(sce_day3))\n",
    "\n",
    "my.xlim = c(0, max(cells) + 100)\n",
    "my.ylim = c(0,9)\n",
    "my.space = c(0, 1.2, -0.2, 1, -0.2)\n",
    "\n",
    "# opar <- par(lwd = 5)\n",
    "barplot(as.numeric(cells), main = \"# cells\",\n",
    "        border = c(col_ips, col_mesendo, col_day1, col_defendo, col_day3),\n",
    "        col = c(col_ips, col_mesendo, col_day1, col_defendo, col_day3),\n",
    "        xlim = my.ylim, ylim = my.xlim, space = my.space, ylab = \"\")"
   ]
  },
  {
   "cell_type": "code",
   "execution_count": null,
   "metadata": {},
   "outputs": [],
   "source": []
  }
 ],
 "metadata": {
  "kernelspec": {
   "display_name": "R",
   "language": "R",
   "name": "ir"
  },
  "language_info": {
   "codemirror_mode": "r",
   "file_extension": ".r",
   "mimetype": "text/x-r-source",
   "name": "R",
   "pygments_lexer": "r",
   "version": "3.5.1"
  }
 },
 "nbformat": 4,
 "nbformat_minor": 2
}
