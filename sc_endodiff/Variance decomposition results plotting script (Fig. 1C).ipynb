{
 "cells": [
  {
   "cell_type": "code",
   "execution_count": 1,
   "metadata": {},
   "outputs": [],
   "source": [
    "vd_filename <- \"/nfs/leia/research/stegle/dseaton/hipsci/singlecell_endodiff/data/variance_decomposition/sce_merged_afterqc_filt_allexpts_exprs_20180618.var_decomp.5000cells.15experiments.seed0.tsv\""
   ]
  },
  {
   "cell_type": "code",
   "execution_count": 2,
   "metadata": {},
   "outputs": [
    {
     "data": {
      "text/html": [
       "4546"
      ],
      "text/latex": [
       "4546"
      ],
      "text/markdown": [
       "4546"
      ],
      "text/plain": [
       "[1] 4546"
      ]
     },
     "metadata": {},
     "output_type": "display_data"
    },
    {
     "data": {
      "text/html": [
       "<table>\n",
       "<thead><tr><th></th><th scope=col>donor_long_id</th><th scope=col>experiment</th><th scope=col>day</th><th scope=col>residual</th></tr></thead>\n",
       "<tbody>\n",
       "\t<tr><th scope=row>ENSG00000153982_GDPD1</th><td>0.007621973 </td><td>6.985467e-04</td><td>0.024658028 </td><td>0.9670215   </td></tr>\n",
       "\t<tr><th scope=row>ENSG00000154040_CABYR</th><td>0.007234918 </td><td>6.736626e-03</td><td>0.012741225 </td><td>0.9732872   </td></tr>\n",
       "\t<tr><th scope=row>ENSG00000154080_CHST9</th><td>0.002848415 </td><td>3.307531e-03</td><td>0.031483258 </td><td>0.9623608   </td></tr>\n",
       "\t<tr><th scope=row>ENSG00000154096_THY1</th><td>0.028380478 </td><td>6.486298e-02</td><td>0.324306667 </td><td>0.5824499   </td></tr>\n",
       "\t<tr><th scope=row>ENSG00000154102_C16orf74</th><td>0.018645116 </td><td>3.220612e-05</td><td>0.002999832 </td><td>0.9783228   </td></tr>\n",
       "\t<tr><th scope=row>ENSG00000154134_ROBO3</th><td>0.012450225 </td><td>5.980282e-03</td><td>0.004190336 </td><td>0.9773792   </td></tr>\n",
       "</tbody>\n",
       "</table>\n"
      ],
      "text/latex": [
       "\\begin{tabular}{r|llll}\n",
       "  & donor\\_long\\_id & experiment & day & residual\\\\\n",
       "\\hline\n",
       "\tENSG00000153982\\_GDPD1 & 0.007621973  & 6.985467e-04 & 0.024658028  & 0.9670215   \\\\\n",
       "\tENSG00000154040\\_CABYR & 0.007234918  & 6.736626e-03 & 0.012741225  & 0.9732872   \\\\\n",
       "\tENSG00000154080\\_CHST9 & 0.002848415  & 3.307531e-03 & 0.031483258  & 0.9623608   \\\\\n",
       "\tENSG00000154096\\_THY1 & 0.028380478  & 6.486298e-02 & 0.324306667  & 0.5824499   \\\\\n",
       "\tENSG00000154102\\_C16orf74 & 0.018645116  & 3.220612e-05 & 0.002999832  & 0.9783228   \\\\\n",
       "\tENSG00000154134\\_ROBO3 & 0.012450225  & 5.980282e-03 & 0.004190336  & 0.9773792   \\\\\n",
       "\\end{tabular}\n"
      ],
      "text/markdown": [
       "\n",
       "| <!--/--> | donor_long_id | experiment | day | residual | \n",
       "|---|---|---|---|---|---|\n",
       "| ENSG00000153982_GDPD1 | 0.007621973  | 6.985467e-04 | 0.024658028  | 0.9670215    | \n",
       "| ENSG00000154040_CABYR | 0.007234918  | 6.736626e-03 | 0.012741225  | 0.9732872    | \n",
       "| ENSG00000154080_CHST9 | 0.002848415  | 3.307531e-03 | 0.031483258  | 0.9623608    | \n",
       "| ENSG00000154096_THY1 | 0.028380478  | 6.486298e-02 | 0.324306667  | 0.5824499    | \n",
       "| ENSG00000154102_C16orf74 | 0.018645116  | 3.220612e-05 | 0.002999832  | 0.9783228    | \n",
       "| ENSG00000154134_ROBO3 | 0.012450225  | 5.980282e-03 | 0.004190336  | 0.9773792    | \n",
       "\n",
       "\n"
      ],
      "text/plain": [
       "                         donor_long_id experiment   day         residual \n",
       "ENSG00000153982_GDPD1    0.007621973   6.985467e-04 0.024658028 0.9670215\n",
       "ENSG00000154040_CABYR    0.007234918   6.736626e-03 0.012741225 0.9732872\n",
       "ENSG00000154080_CHST9    0.002848415   3.307531e-03 0.031483258 0.9623608\n",
       "ENSG00000154096_THY1     0.028380478   6.486298e-02 0.324306667 0.5824499\n",
       "ENSG00000154102_C16orf74 0.018645116   3.220612e-05 0.002999832 0.9783228\n",
       "ENSG00000154134_ROBO3    0.012450225   5.980282e-03 0.004190336 0.9773792"
      ]
     },
     "metadata": {},
     "output_type": "display_data"
    }
   ],
   "source": [
    "vd <- read.csv(vd_filename, row.names = 1)\n",
    "nrow(vd)\n",
    "head(vd[,1:4])"
   ]
  },
  {
   "cell_type": "code",
   "execution_count": 3,
   "metadata": {},
   "outputs": [],
   "source": [
    "bars <- c(nrow(vd[vd$day > 0.1,]), nrow(vd[vd$day > 0.2,]), nrow(vd[vd$day > 0.3,]),nrow(vd[vd$day > 0.4,]),\n",
    "         nrow(vd[vd$donor_long_id > 0.1,]), nrow(vd[vd$donor_long_id > 0.2,]), nrow(vd[vd$donor_long_id > 0.3,]),\n",
    "          nrow(vd[vd$donor_long_id > 0.4,]),\n",
    "         nrow(vd[vd$experiment > 0.1,]), nrow(vd[vd$experiment > 0.2,]), nrow(vd[vd$experiment > 0.3,]),\n",
    "          nrow(vd[vd$experiment > 0.4,]))"
   ]
  },
  {
   "cell_type": "code",
   "execution_count": 4,
   "metadata": {},
   "outputs": [],
   "source": [
    "my.xlim = c(0, 850)\n",
    "my.ylim = c(0,10)\n",
    "my.space = c(1, -0.5, -0.5, -0.5, 1, -0.5, -0.5, -0.5, 1, -0.5, -0.5, -0.5)"
   ]
  },
  {
   "cell_type": "code",
   "execution_count": 5,
   "metadata": {},
   "outputs": [
    {
     "data": {
      "image/png": "[encoded data removed]",
      "text/plain": [
       "plot without title"
      ]
     },
     "metadata": {},
     "output_type": "display_data"
    }
   ],
   "source": [
    "options(repr.plot.width = 7, repr.plot.height = 7)\n",
    "barplot(as.numeric(bars), \n",
    "        col = c(\"royalblue4\",\"royalblue3\",\"cornflowerblue\",\"aliceblue\",\n",
    "                \"royalblue4\",\"royalblue3\",\"cornflowerblue\",\"aliceblue\",\n",
    "                \"royalblue4\",\"royalblue3\",\"cornflowerblue\",\"aliceblue\"),\n",
    "        xlim = my.ylim, ylim = my.xlim, space = my.space, ylab = \"\")"
   ]
  },
  {
   "cell_type": "code",
   "execution_count": null,
   "metadata": {},
   "outputs": [],
   "source": []
  }
 ],
 "metadata": {
  "kernelspec": {
   "display_name": "R",
   "language": "R",
   "name": "ir"
  },
  "language_info": {
   "codemirror_mode": "r",
   "file_extension": ".r",
   "mimetype": "text/x-r-source",
   "name": "R",
   "pygments_lexer": "r",
   "version": "3.4.3"
  }
 },
 "nbformat": 4,
 "nbformat_minor": 2
}
