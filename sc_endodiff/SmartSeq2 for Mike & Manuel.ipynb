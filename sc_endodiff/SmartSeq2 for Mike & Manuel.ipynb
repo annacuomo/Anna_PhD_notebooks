{
 "cells": [
  {
   "cell_type": "code",
   "execution_count": 1,
   "metadata": {},
   "outputs": [],
   "source": [
    "## load useful libraries\n",
    "suppressWarnings(suppressPackageStartupMessages(library(rhdf5)))\n",
    "suppressWarnings(suppressPackageStartupMessages(library(qvalue)))\n",
    "suppressWarnings(suppressPackageStartupMessages(library(dplyr)))\n",
    "suppressWarnings(suppressPackageStartupMessages(library(cowplot)))\n",
    "suppressWarnings(suppressPackageStartupMessages(library(tidyverse)))\n",
    "suppressWarnings(suppressPackageStartupMessages(library(ggbeeswarm)))\n",
    "suppressWarnings(suppressPackageStartupMessages(library(ggthemes)))\n",
    "# suppressWarnings(suppressPackageStartupMessages(library(scater)))\n",
    "suppressWarnings(suppressPackageStartupMessages(library(SingleCellExperiment)))\n",
    "suppressWarnings(suppressPackageStartupMessages(library(edgeR)))\n",
    "suppressWarnings(suppressPackageStartupMessages(library(limma)))\n",
    "suppressWarnings(suppressPackageStartupMessages(library(ggplot2)))\n",
    "suppressWarnings(suppressPackageStartupMessages(library(ISLR)))\n",
    "suppressWarnings(suppressPackageStartupMessages(library(GGally)))\n",
    "# suppressWarnings(suppressPackageStartupMessages(library(scran)))\n",
    "suppressWarnings(suppressPackageStartupMessages(library(ComplexHeatmap)))\n",
    "suppressWarnings(suppressPackageStartupMessages(library(circlize)))\n",
    "suppressWarnings(suppressPackageStartupMessages(library(ComplexHeatmap)))\n",
    "suppressWarnings(suppressPackageStartupMessages(library(Rtsne)))\n",
    "suppressWarnings(suppressPackageStartupMessages(library(RColorBrewer)))"
   ]
  },
  {
   "cell_type": "code",
   "execution_count": 2,
   "metadata": {},
   "outputs": [],
   "source": [
    "sce = readRDS(\"/hps/nobackup/hipsci/scratch/singlecell_endodiff/data_processed/merged/20180618/sce_merged_afterqc_filt_allexpts.rds\")"
   ]
  },
  {
   "cell_type": "code",
   "execution_count": 22,
   "metadata": {},
   "outputs": [
    {
     "data": {
      "text/plain": [
       "class: SingleCellExperiment \n",
       "dim: 11231 36044 \n",
       "metadata(4): log.exprs.offset log.exprs.offset log.exprs.offset\n",
       "  log.exprs.offset\n",
       "assays(3): tpm counts logcounts\n",
       "rownames(11231): ENSG00000000003_TSPAN6 ENSG00000000419_DPM1 ...\n",
       "  ENSG00000272325_NUDT3 ENSG00000272398_CD24\n",
       "rowData names(17): exprs_collapsed_to ensembl_transcript_id ...\n",
       "  is_intop2000hvg is_hvg\n",
       "colnames(36044): 21843_1#10 21843_1#100 ... 24539_8#97 24539_8#98\n",
       "colData names(123): adj_x adj_y ... princ_curve princ_curve_scaled01\n",
       "reducedDimNames(1): PCA\n",
       "spikeNames(1): ERCC"
      ]
     },
     "metadata": {},
     "output_type": "display_data"
    }
   ],
   "source": [
    "sce"
   ]
  },
  {
   "cell_type": "code",
   "execution_count": 23,
   "metadata": {},
   "outputs": [
    {
     "data": {
      "text/html": [
       "<ol class=list-inline>\n",
       "\t<li>'day1'</li>\n",
       "\t<li>'day3'</li>\n",
       "\t<li>'day0'</li>\n",
       "\t<li>'day2'</li>\n",
       "</ol>\n"
      ],
      "text/latex": [
       "\\begin{enumerate*}\n",
       "\\item 'day1'\n",
       "\\item 'day3'\n",
       "\\item 'day0'\n",
       "\\item 'day2'\n",
       "\\end{enumerate*}\n"
      ],
      "text/markdown": [
       "1. 'day1'\n",
       "2. 'day3'\n",
       "3. 'day0'\n",
       "4. 'day2'\n",
       "\n",
       "\n"
      ],
      "text/plain": [
       "[1] \"day1\" \"day3\" \"day0\" \"day2\""
      ]
     },
     "metadata": {},
     "output_type": "display_data"
    }
   ],
   "source": [
    "unique(sce$day)"
   ]
  },
  {
   "cell_type": "code",
   "execution_count": 31,
   "metadata": {},
   "outputs": [],
   "source": [
    "sce_day0 = sce[,sce$day == \"day0\"]"
   ]
  },
  {
   "cell_type": "code",
   "execution_count": 32,
   "metadata": {},
   "outputs": [],
   "source": [
    "mysce = sce_day0[,sce_day0$experiment %in% c('expt_31','expt_40','expt_41','expt_43','expt_44')]"
   ]
  },
  {
   "cell_type": "code",
   "execution_count": 33,
   "metadata": {},
   "outputs": [
    {
     "data": {
      "text/html": [
       "<ol class=list-inline>\n",
       "\t<li>'expt_31'</li>\n",
       "\t<li>'expt_40'</li>\n",
       "\t<li>'expt_41'</li>\n",
       "\t<li>'expt_43'</li>\n",
       "\t<li>'expt_44'</li>\n",
       "</ol>\n"
      ],
      "text/latex": [
       "\\begin{enumerate*}\n",
       "\\item 'expt\\_31'\n",
       "\\item 'expt\\_40'\n",
       "\\item 'expt\\_41'\n",
       "\\item 'expt\\_43'\n",
       "\\item 'expt\\_44'\n",
       "\\end{enumerate*}\n"
      ],
      "text/markdown": [
       "1. 'expt_31'\n",
       "2. 'expt_40'\n",
       "3. 'expt_41'\n",
       "4. 'expt_43'\n",
       "5. 'expt_44'\n",
       "\n",
       "\n"
      ],
      "text/plain": [
       "[1] \"expt_31\" \"expt_40\" \"expt_41\" \"expt_43\" \"expt_44\""
      ]
     },
     "metadata": {},
     "output_type": "display_data"
    }
   ],
   "source": [
    "unique(mysce$experiment)"
   ]
  },
  {
   "cell_type": "code",
   "execution_count": 34,
   "metadata": {},
   "outputs": [
    {
     "data": {
      "text/html": [
       "<table>\n",
       "<thead><tr><th></th><th scope=col>24351_3#10</th><th scope=col>24351_3#101</th><th scope=col>24351_3#104</th><th scope=col>24351_3#105</th><th scope=col>24351_3#107</th></tr></thead>\n",
       "<tbody>\n",
       "\t<tr><th scope=row>ENSG00000000003_TSPAN6</th><td>46.440190  </td><td>16.90197570</td><td>47.261137  </td><td>52.15084892</td><td>48.72272550</td></tr>\n",
       "\t<tr><th scope=row>ENSG00000000419_DPM1</th><td>23.601669  </td><td>15.44555050</td><td>35.354742  </td><td>74.45727755</td><td>69.81718240</td></tr>\n",
       "\t<tr><th scope=row>ENSG00000000457_SCYL3</th><td> 0.000000  </td><td> 0.08215044</td><td> 2.482223  </td><td> 0.03654724</td><td> 0.01056803</td></tr>\n",
       "\t<tr><th scope=row>ENSG00000000460_C1orf112</th><td> 2.029682  </td><td> 3.27216918</td><td> 4.398701  </td><td> 8.28461103</td><td>19.52486628</td></tr>\n",
       "\t<tr><th scope=row>ENSG00000001036_FUCA2</th><td>15.132469  </td><td> 8.36497418</td><td> 7.775931  </td><td>15.84459525</td><td>26.80745007</td></tr>\n",
       "</tbody>\n",
       "</table>\n"
      ],
      "text/latex": [
       "\\begin{tabular}{r|lllll}\n",
       "  & 24351\\_3\\#10 & 24351\\_3\\#101 & 24351\\_3\\#104 & 24351\\_3\\#105 & 24351\\_3\\#107\\\\\n",
       "\\hline\n",
       "\tENSG00000000003\\_TSPAN6 & 46.440190   & 16.90197570 & 47.261137   & 52.15084892 & 48.72272550\\\\\n",
       "\tENSG00000000419\\_DPM1 & 23.601669   & 15.44555050 & 35.354742   & 74.45727755 & 69.81718240\\\\\n",
       "\tENSG00000000457\\_SCYL3 &  0.000000   &  0.08215044 &  2.482223   &  0.03654724 &  0.01056803\\\\\n",
       "\tENSG00000000460\\_C1orf112 &  2.029682   &  3.27216918 &  4.398701   &  8.28461103 & 19.52486628\\\\\n",
       "\tENSG00000001036\\_FUCA2 & 15.132469   &  8.36497418 &  7.775931   & 15.84459525 & 26.80745007\\\\\n",
       "\\end{tabular}\n"
      ],
      "text/markdown": [
       "\n",
       "| <!--/--> | 24351_3#10 | 24351_3#101 | 24351_3#104 | 24351_3#105 | 24351_3#107 | \n",
       "|---|---|---|---|---|\n",
       "| ENSG00000000003_TSPAN6 | 46.440190   | 16.90197570 | 47.261137   | 52.15084892 | 48.72272550 | \n",
       "| ENSG00000000419_DPM1 | 23.601669   | 15.44555050 | 35.354742   | 74.45727755 | 69.81718240 | \n",
       "| ENSG00000000457_SCYL3 |  0.000000   |  0.08215044 |  2.482223   |  0.03654724 |  0.01056803 | \n",
       "| ENSG00000000460_C1orf112 |  2.029682   |  3.27216918 |  4.398701   |  8.28461103 | 19.52486628 | \n",
       "| ENSG00000001036_FUCA2 | 15.132469   |  8.36497418 |  7.775931   | 15.84459525 | 26.80745007 | \n",
       "\n",
       "\n"
      ],
      "text/plain": [
       "                         24351_3#10 24351_3#101 24351_3#104 24351_3#105\n",
       "ENSG00000000003_TSPAN6   46.440190  16.90197570 47.261137   52.15084892\n",
       "ENSG00000000419_DPM1     23.601669  15.44555050 35.354742   74.45727755\n",
       "ENSG00000000457_SCYL3     0.000000   0.08215044  2.482223    0.03654724\n",
       "ENSG00000000460_C1orf112  2.029682   3.27216918  4.398701    8.28461103\n",
       "ENSG00000001036_FUCA2    15.132469   8.36497418  7.775931   15.84459525\n",
       "                         24351_3#107\n",
       "ENSG00000000003_TSPAN6   48.72272550\n",
       "ENSG00000000419_DPM1     69.81718240\n",
       "ENSG00000000457_SCYL3     0.01056803\n",
       "ENSG00000000460_C1orf112 19.52486628\n",
       "ENSG00000001036_FUCA2    26.80745007"
      ]
     },
     "metadata": {},
     "output_type": "display_data"
    }
   ],
   "source": [
    "counts(mysce)[1:5,1:5]"
   ]
  },
  {
   "cell_type": "code",
   "execution_count": 45,
   "metadata": {},
   "outputs": [
    {
     "data": {
      "text/html": [
       "2206"
      ],
      "text/latex": [
       "2206"
      ],
      "text/markdown": [
       "2206"
      ],
      "text/plain": [
       "[1] 2206"
      ]
     },
     "metadata": {},
     "output_type": "display_data"
    },
    {
     "data": {
      "text/html": [
       "<table>\n",
       "<thead><tr><th scope=col>cell</th><th scope=col>donor</th><th scope=col>tot_counts_log</th><th scope=col>tot_features_log</th><th scope=col>plate</th><th scope=col>percent_mapped</th><th scope=col>pct_counts_top500feats</th><th scope=col>experiment</th></tr></thead>\n",
       "<tbody>\n",
       "\t<tr><td>24351_3#10 </td><td>cuhk_2     </td><td>5.551259   </td><td>4.042576   </td><td>2073       </td><td>69.57474   </td><td>61.52843   </td><td>expt_31    </td></tr>\n",
       "\t<tr><td>24351_3#101</td><td>hegp_3     </td><td>5.183190   </td><td>4.001734   </td><td>2073       </td><td>71.15795   </td><td>63.43200   </td><td>expt_31    </td></tr>\n",
       "\t<tr><td>24351_3#104</td><td>cuhk_2     </td><td>5.641022   </td><td>4.065766   </td><td>2073       </td><td>69.92870   </td><td>63.71991   </td><td>expt_31    </td></tr>\n",
       "\t<tr><td>24351_3#105</td><td>hegp_3     </td><td>5.801333   </td><td>4.073535   </td><td>2073       </td><td>67.20807   </td><td>62.98518   </td><td>expt_31    </td></tr>\n",
       "\t<tr><td>24351_3#107</td><td>cicb_2     </td><td>5.846896   </td><td>4.063934   </td><td>2073       </td><td>67.74598   </td><td>59.00133   </td><td>expt_31    </td></tr>\n",
       "\t<tr><td>24351_3#109</td><td>cuhk_2     </td><td>5.924710   </td><td>4.071035   </td><td>2073       </td><td>66.75928   </td><td>59.87722   </td><td>expt_31    </td></tr>\n",
       "</tbody>\n",
       "</table>\n"
      ],
      "text/latex": [
       "\\begin{tabular}{r|llllllll}\n",
       " cell & donor & tot\\_counts\\_log & tot\\_features\\_log & plate & percent\\_mapped & pct\\_counts\\_top500feats & experiment\\\\\n",
       "\\hline\n",
       "\t 24351\\_3\\#10  & cuhk\\_2        & 5.551259        & 4.042576        & 2073            & 69.57474        & 61.52843        & expt\\_31      \\\\\n",
       "\t 24351\\_3\\#101 & hegp\\_3        & 5.183190        & 4.001734        & 2073            & 71.15795        & 63.43200        & expt\\_31      \\\\\n",
       "\t 24351\\_3\\#104 & cuhk\\_2        & 5.641022        & 4.065766        & 2073            & 69.92870        & 63.71991        & expt\\_31      \\\\\n",
       "\t 24351\\_3\\#105 & hegp\\_3        & 5.801333        & 4.073535        & 2073            & 67.20807        & 62.98518        & expt\\_31      \\\\\n",
       "\t 24351\\_3\\#107 & cicb\\_2        & 5.846896        & 4.063934        & 2073            & 67.74598        & 59.00133        & expt\\_31      \\\\\n",
       "\t 24351\\_3\\#109 & cuhk\\_2        & 5.924710        & 4.071035        & 2073            & 66.75928        & 59.87722        & expt\\_31      \\\\\n",
       "\\end{tabular}\n"
      ],
      "text/markdown": [
       "\n",
       "cell | donor | tot_counts_log | tot_features_log | plate | percent_mapped | pct_counts_top500feats | experiment | \n",
       "|---|---|---|---|---|---|\n",
       "| 24351_3#10  | cuhk_2      | 5.551259    | 4.042576    | 2073        | 69.57474    | 61.52843    | expt_31     | \n",
       "| 24351_3#101 | hegp_3      | 5.183190    | 4.001734    | 2073        | 71.15795    | 63.43200    | expt_31     | \n",
       "| 24351_3#104 | cuhk_2      | 5.641022    | 4.065766    | 2073        | 69.92870    | 63.71991    | expt_31     | \n",
       "| 24351_3#105 | hegp_3      | 5.801333    | 4.073535    | 2073        | 67.20807    | 62.98518    | expt_31     | \n",
       "| 24351_3#107 | cicb_2      | 5.846896    | 4.063934    | 2073        | 67.74598    | 59.00133    | expt_31     | \n",
       "| 24351_3#109 | cuhk_2      | 5.924710    | 4.071035    | 2073        | 66.75928    | 59.87722    | expt_31     | \n",
       "\n",
       "\n"
      ],
      "text/plain": [
       "  cell        donor  tot_counts_log tot_features_log plate percent_mapped\n",
       "1 24351_3#10  cuhk_2 5.551259       4.042576         2073  69.57474      \n",
       "2 24351_3#101 hegp_3 5.183190       4.001734         2073  71.15795      \n",
       "3 24351_3#104 cuhk_2 5.641022       4.065766         2073  69.92870      \n",
       "4 24351_3#105 hegp_3 5.801333       4.073535         2073  67.20807      \n",
       "5 24351_3#107 cicb_2 5.846896       4.063934         2073  67.74598      \n",
       "6 24351_3#109 cuhk_2 5.924710       4.071035         2073  66.75928      \n",
       "  pct_counts_top500feats experiment\n",
       "1 61.52843               expt_31   \n",
       "2 63.43200               expt_31   \n",
       "3 63.71991               expt_31   \n",
       "4 62.98518               expt_31   \n",
       "5 59.00133               expt_31   \n",
       "6 59.87722               expt_31   "
      ]
     },
     "metadata": {},
     "output_type": "display_data"
    }
   ],
   "source": [
    "samples = data.frame(cell = mysce$cell_name, donor = mysce$donor_short_id, \n",
    "                     tot_counts_log = mysce$log10_total_counts_endogenous, \n",
    "                     tot_features_log = mysce$log10_total_features_endogenous, \n",
    "                     plate = mysce$plate_id, percent_mapped = mysce$percent_mapped,\n",
    "                     pct_counts_top500feats = mysce$pct_counts_top_500_features_endogenous,\n",
    "                    experiment = mysce$experiment)\n",
    "nrow(samples)\n",
    "head(samples)"
   ]
  },
  {
   "cell_type": "code",
   "execution_count": 43,
   "metadata": {},
   "outputs": [],
   "source": [
    "write.csv(counts(mysce), \"/hps/nobackup/hipsci/scratch/singlecell_endodiff/data_processed/counts_smartseq2_10xsamples.csv\")"
   ]
  },
  {
   "cell_type": "code",
   "execution_count": 46,
   "metadata": {},
   "outputs": [],
   "source": [
    "write.csv(samples, \"/hps/nobackup/hipsci/scratch/singlecell_endodiff/data_processed/10xsamples_cells_map.csv\")"
   ]
  },
  {
   "cell_type": "code",
   "execution_count": null,
   "metadata": {},
   "outputs": [],
   "source": []
  },
  {
   "cell_type": "code",
   "execution_count": null,
   "metadata": {},
   "outputs": [],
   "source": []
  }
 ],
 "metadata": {
  "kernelspec": {
   "display_name": "R",
   "language": "R",
   "name": "ir"
  },
  "language_info": {
   "codemirror_mode": "r",
   "file_extension": ".r",
   "mimetype": "text/x-r-source",
   "name": "R",
   "pygments_lexer": "r",
   "version": "3.4.3"
  }
 },
 "nbformat": 4,
 "nbformat_minor": 2
}
