{
 "cells": [
  {
   "cell_type": "code",
   "execution_count": 14,
   "metadata": {},
   "outputs": [],
   "source": [
    "## load libraries\n",
    "suppressWarnings(suppressPackageStartupMessages(library(dplyr)))\n",
    "suppressWarnings(suppressPackageStartupMessages(library(colorspace)))\n",
    "suppressWarnings(suppressPackageStartupMessages(library(ComplexHeatmap)))"
   ]
  },
  {
   "cell_type": "code",
   "execution_count": 15,
   "metadata": {},
   "outputs": [],
   "source": [
    "predict_folder = \"/nfs/leia/research/stegle/dseaton/hipsci/singlecell_endodiff/data/differentiation_prediction/differentiation_marker_LMM_w_donor_results_selected_markers_data/\""
   ]
  },
  {
   "cell_type": "code",
   "execution_count": 16,
   "metadata": {},
   "outputs": [
    {
     "data": {
      "text/html": [
       "<table>\n",
       "<thead><tr><th scope=col>timepoint1</th><th scope=col>gene1</th><th scope=col>timepoint2</th><th scope=col>gene2</th><th scope=col>coefficient</th><th scope=col>pval</th></tr></thead>\n",
       "<tbody>\n",
       "\t<tr><td>day2        </td><td>pseudotime  </td><td>day3        </td><td>pseudotime  </td><td> 0.45514869 </td><td>2.521506e-11</td></tr>\n",
       "\t<tr><td>day2        </td><td>NANOG       </td><td>day3        </td><td>pseudotime  </td><td>-0.03843010 </td><td>2.797062e-09</td></tr>\n",
       "\t<tr><td>day2        </td><td>GATA6       </td><td>day3        </td><td>pseudotime  </td><td> 0.03138475 </td><td>4.638677e-09</td></tr>\n",
       "\t<tr><td>day1        </td><td>DKK1        </td><td>day3        </td><td>pseudotime  </td><td> 0.01381831 </td><td>5.385268e-08</td></tr>\n",
       "\t<tr><td>day2        </td><td>SOX2        </td><td>day3        </td><td>pseudotime  </td><td>-0.05140022 </td><td>4.866488e-07</td></tr>\n",
       "\t<tr><td>day2        </td><td>EOMES       </td><td>day3        </td><td>pseudotime  </td><td> 0.03864793 </td><td>7.024248e-06</td></tr>\n",
       "</tbody>\n",
       "</table>\n"
      ],
      "text/latex": [
       "\\begin{tabular}{r|llllll}\n",
       " timepoint1 & gene1 & timepoint2 & gene2 & coefficient & pval\\\\\n",
       "\\hline\n",
       "\t day2         & pseudotime   & day3         & pseudotime   &  0.45514869  & 2.521506e-11\\\\\n",
       "\t day2         & NANOG        & day3         & pseudotime   & -0.03843010  & 2.797062e-09\\\\\n",
       "\t day2         & GATA6        & day3         & pseudotime   &  0.03138475  & 4.638677e-09\\\\\n",
       "\t day1         & DKK1         & day3         & pseudotime   &  0.01381831  & 5.385268e-08\\\\\n",
       "\t day2         & SOX2         & day3         & pseudotime   & -0.05140022  & 4.866488e-07\\\\\n",
       "\t day2         & EOMES        & day3         & pseudotime   &  0.03864793  & 7.024248e-06\\\\\n",
       "\\end{tabular}\n"
      ],
      "text/markdown": [
       "\n",
       "timepoint1 | gene1 | timepoint2 | gene2 | coefficient | pval | \n",
       "|---|---|---|---|---|---|\n",
       "| day2         | pseudotime   | day3         | pseudotime   |  0.45514869  | 2.521506e-11 | \n",
       "| day2         | NANOG        | day3         | pseudotime   | -0.03843010  | 2.797062e-09 | \n",
       "| day2         | GATA6        | day3         | pseudotime   |  0.03138475  | 4.638677e-09 | \n",
       "| day1         | DKK1         | day3         | pseudotime   |  0.01381831  | 5.385268e-08 | \n",
       "| day2         | SOX2         | day3         | pseudotime   | -0.05140022  | 4.866488e-07 | \n",
       "| day2         | EOMES        | day3         | pseudotime   |  0.03864793  | 7.024248e-06 | \n",
       "\n",
       "\n"
      ],
      "text/plain": [
       "  timepoint1 gene1      timepoint2 gene2      coefficient pval        \n",
       "1 day2       pseudotime day3       pseudotime  0.45514869 2.521506e-11\n",
       "2 day2       NANOG      day3       pseudotime -0.03843010 2.797062e-09\n",
       "3 day2       GATA6      day3       pseudotime  0.03138475 4.638677e-09\n",
       "4 day1       DKK1       day3       pseudotime  0.01381831 5.385268e-08\n",
       "5 day2       SOX2       day3       pseudotime -0.05140022 4.866488e-07\n",
       "6 day2       EOMES      day3       pseudotime  0.03864793 7.024248e-06"
      ]
     },
     "metadata": {},
     "output_type": "display_data"
    }
   ],
   "source": [
    "tests = read.csv(paste0(predict_folder, \"test_results.tsv\"), sep = \"\\t\")\n",
    "head(tests)"
   ]
  },
  {
   "cell_type": "code",
   "execution_count": 17,
   "metadata": {},
   "outputs": [],
   "source": [
    "tests0 = tests[tests$timepoint1 == \"day0\" &  tests$timepoint2 == \"day3\" & tests$gene2 == \"pseudotime\",]\n",
    "tests1 = tests[tests$timepoint1 == \"day1\" &  tests$timepoint2 == \"day3\" & tests$gene2 == \"pseudotime\",]\n",
    "tests2 = tests[tests$timepoint1 == \"day2\" &  tests$timepoint2 == \"day3\" & tests$gene2 == \"pseudotime\",]"
   ]
  },
  {
   "cell_type": "code",
   "execution_count": 18,
   "metadata": {},
   "outputs": [
    {
     "data": {
      "text/html": [
       "<table>\n",
       "<thead><tr><th scope=col>timepoint1.day0</th><th scope=col>gene1</th><th scope=col>timepoint2</th><th scope=col>gene2</th><th scope=col>coefficient.day0</th><th scope=col>pval.day0</th><th scope=col>timepoint1.day1</th><th scope=col>coefficient.day1</th><th scope=col>pval.day1</th><th scope=col>timepoint1.day2</th><th scope=col>coefficient.day2</th><th scope=col>pval.day2</th></tr></thead>\n",
       "<tbody>\n",
       "\t<tr><td>day0        </td><td>CXCR4       </td><td>day3        </td><td>pseudotime  </td><td>-0.050636457</td><td>0.01872756  </td><td>day1        </td><td>-0.02289775 </td><td>4.553970e-01</td><td>day2        </td><td> 0.004708433</td><td>3.520249e-01</td></tr>\n",
       "\t<tr><td>day0        </td><td>SOX17       </td><td>day3        </td><td>pseudotime  </td><td>-0.244812065</td><td>0.02226053  </td><td>day1        </td><td> 0.03322365 </td><td>3.818626e-01</td><td>day2        </td><td> 0.006186556</td><td>3.441315e-02</td></tr>\n",
       "\t<tr><td>day0        </td><td>T           </td><td>day3        </td><td>pseudotime  </td><td> 0.063081015</td><td>0.29193878  </td><td>day1        </td><td> 0.01658328 </td><td>1.648517e-03</td><td>day2        </td><td>-0.039291790</td><td>1.876807e-04</td></tr>\n",
       "\t<tr><td>day0        </td><td>NANOG       </td><td>day3        </td><td>pseudotime  </td><td>-0.003358175</td><td>0.49386739  </td><td>day1        </td><td>-0.01575165 </td><td>1.441731e-04</td><td>day2        </td><td>-0.038430099</td><td>2.797062e-09</td></tr>\n",
       "\t<tr><td>day0        </td><td>pseudotime  </td><td>day3        </td><td>pseudotime  </td><td>-0.079514107</td><td>0.55822026  </td><td>day1        </td><td> 0.33042836 </td><td>3.983100e-04</td><td>day2        </td><td> 0.455148693</td><td>2.521506e-11</td></tr>\n",
       "\t<tr><td>day0        </td><td>GATA6       </td><td>day3        </td><td>pseudotime  </td><td> 0.041952833</td><td>0.56677793  </td><td>day1        </td><td> 0.01861724 </td><td>7.051196e-06</td><td>day2        </td><td> 0.031384747</td><td>4.638677e-09</td></tr>\n",
       "</tbody>\n",
       "</table>\n"
      ],
      "text/latex": [
       "\\begin{tabular}{r|llllllllllll}\n",
       " timepoint1.day0 & gene1 & timepoint2 & gene2 & coefficient.day0 & pval.day0 & timepoint1.day1 & coefficient.day1 & pval.day1 & timepoint1.day2 & coefficient.day2 & pval.day2\\\\\n",
       "\\hline\n",
       "\t day0         & CXCR4        & day3         & pseudotime   & -0.050636457 & 0.01872756   & day1         & -0.02289775  & 4.553970e-01 & day2         &  0.004708433 & 3.520249e-01\\\\\n",
       "\t day0         & SOX17        & day3         & pseudotime   & -0.244812065 & 0.02226053   & day1         &  0.03322365  & 3.818626e-01 & day2         &  0.006186556 & 3.441315e-02\\\\\n",
       "\t day0         & T            & day3         & pseudotime   &  0.063081015 & 0.29193878   & day1         &  0.01658328  & 1.648517e-03 & day2         & -0.039291790 & 1.876807e-04\\\\\n",
       "\t day0         & NANOG        & day3         & pseudotime   & -0.003358175 & 0.49386739   & day1         & -0.01575165  & 1.441731e-04 & day2         & -0.038430099 & 2.797062e-09\\\\\n",
       "\t day0         & pseudotime   & day3         & pseudotime   & -0.079514107 & 0.55822026   & day1         &  0.33042836  & 3.983100e-04 & day2         &  0.455148693 & 2.521506e-11\\\\\n",
       "\t day0         & GATA6        & day3         & pseudotime   &  0.041952833 & 0.56677793   & day1         &  0.01861724  & 7.051196e-06 & day2         &  0.031384747 & 4.638677e-09\\\\\n",
       "\\end{tabular}\n"
      ],
      "text/markdown": [
       "\n",
       "timepoint1.day0 | gene1 | timepoint2 | gene2 | coefficient.day0 | pval.day0 | timepoint1.day1 | coefficient.day1 | pval.day1 | timepoint1.day2 | coefficient.day2 | pval.day2 | \n",
       "|---|---|---|---|---|---|\n",
       "| day0         | CXCR4        | day3         | pseudotime   | -0.050636457 | 0.01872756   | day1         | -0.02289775  | 4.553970e-01 | day2         |  0.004708433 | 3.520249e-01 | \n",
       "| day0         | SOX17        | day3         | pseudotime   | -0.244812065 | 0.02226053   | day1         |  0.03322365  | 3.818626e-01 | day2         |  0.006186556 | 3.441315e-02 | \n",
       "| day0         | T            | day3         | pseudotime   |  0.063081015 | 0.29193878   | day1         |  0.01658328  | 1.648517e-03 | day2         | -0.039291790 | 1.876807e-04 | \n",
       "| day0         | NANOG        | day3         | pseudotime   | -0.003358175 | 0.49386739   | day1         | -0.01575165  | 1.441731e-04 | day2         | -0.038430099 | 2.797062e-09 | \n",
       "| day0         | pseudotime   | day3         | pseudotime   | -0.079514107 | 0.55822026   | day1         |  0.33042836  | 3.983100e-04 | day2         |  0.455148693 | 2.521506e-11 | \n",
       "| day0         | GATA6        | day3         | pseudotime   |  0.041952833 | 0.56677793   | day1         |  0.01861724  | 7.051196e-06 | day2         |  0.031384747 | 4.638677e-09 | \n",
       "\n",
       "\n"
      ],
      "text/plain": [
       "  timepoint1.day0 gene1      timepoint2 gene2      coefficient.day0 pval.day0 \n",
       "1 day0            CXCR4      day3       pseudotime -0.050636457     0.01872756\n",
       "2 day0            SOX17      day3       pseudotime -0.244812065     0.02226053\n",
       "3 day0            T          day3       pseudotime  0.063081015     0.29193878\n",
       "4 day0            NANOG      day3       pseudotime -0.003358175     0.49386739\n",
       "5 day0            pseudotime day3       pseudotime -0.079514107     0.55822026\n",
       "6 day0            GATA6      day3       pseudotime  0.041952833     0.56677793\n",
       "  timepoint1.day1 coefficient.day1 pval.day1    timepoint1.day2\n",
       "1 day1            -0.02289775      4.553970e-01 day2           \n",
       "2 day1             0.03322365      3.818626e-01 day2           \n",
       "3 day1             0.01658328      1.648517e-03 day2           \n",
       "4 day1            -0.01575165      1.441731e-04 day2           \n",
       "5 day1             0.33042836      3.983100e-04 day2           \n",
       "6 day1             0.01861724      7.051196e-06 day2           \n",
       "  coefficient.day2 pval.day2   \n",
       "1  0.004708433     3.520249e-01\n",
       "2  0.006186556     3.441315e-02\n",
       "3 -0.039291790     1.876807e-04\n",
       "4 -0.038430099     2.797062e-09\n",
       "5  0.455148693     2.521506e-11\n",
       "6  0.031384747     4.638677e-09"
      ]
     },
     "metadata": {},
     "output_type": "display_data"
    }
   ],
   "source": [
    "df0 = inner_join(tests0, tests1, by = c(\"gene1\",\"timepoint2\",\"gene2\"), suffix = c(\".day0\",\".day1\"))\n",
    "df = inner_join(df0, tests2, by = c(\"gene1\",\"timepoint2\",\"gene2\"))\n",
    "colnames(df)[(ncol(df)-2):ncol(df)] <- c(\"timepoint1.day2\",\"coefficient.day2\",\"pval.day2\")\n",
    "head(df)"
   ]
  },
  {
   "cell_type": "code",
   "execution_count": 19,
   "metadata": {},
   "outputs": [
    {
     "data": {
      "text/html": [
       "<table>\n",
       "<thead><tr><th></th><th scope=col>CXCR4</th><th scope=col>SOX17</th><th scope=col>T</th><th scope=col>NANOG</th><th scope=col>pseudotime</th><th scope=col>GATA6</th><th scope=col>MIXL1</th><th scope=col>EOMES</th><th scope=col>SOX2</th><th scope=col>DKK1</th></tr></thead>\n",
       "<tbody>\n",
       "\t<tr><th scope=row>day0</th><td>-1.7275187 </td><td>-1.6524644 </td><td> 0.5347082 </td><td>-0.3063896 </td><td>-0.2531944 </td><td>0.2465871  </td><td>-0.2079614 </td><td>0.1546067  </td><td> 0.0396782 </td><td>0.002109188</td></tr>\n",
       "\t<tr><th scope=row>day1</th><td>-0.3416098 </td><td> 0.4180929 </td><td> 2.7829066 </td><td>-3.8411157 </td><td> 3.3997788 </td><td>5.1517372  </td><td> 3.3045893 </td><td>1.4164405  </td><td>-4.7718592 </td><td>7.268792715</td></tr>\n",
       "\t<tr><th scope=row>day2</th><td> 0.4534267 </td><td> 1.4632755 </td><td>-3.7265803 </td><td>-8.5532979 </td><td>10.5983401 </td><td>8.3336058  </td><td> 0.7354517 </td><td>5.1534002  </td><td>-6.3127844 </td><td>1.940962168</td></tr>\n",
       "</tbody>\n",
       "</table>\n"
      ],
      "text/latex": [
       "\\begin{tabular}{r|llllllllll}\n",
       "  & CXCR4 & SOX17 & T & NANOG & pseudotime & GATA6 & MIXL1 & EOMES & SOX2 & DKK1\\\\\n",
       "\\hline\n",
       "\tday0 & -1.7275187  & -1.6524644  &  0.5347082  & -0.3063896  & -0.2531944  & 0.2465871   & -0.2079614  & 0.1546067   &  0.0396782  & 0.002109188\\\\\n",
       "\tday1 & -0.3416098  &  0.4180929  &  2.7829066  & -3.8411157  &  3.3997788  & 5.1517372   &  3.3045893  & 1.4164405   & -4.7718592  & 7.268792715\\\\\n",
       "\tday2 &  0.4534267  &  1.4632755  & -3.7265803  & -8.5532979  & 10.5983401  & 8.3336058   &  0.7354517  & 5.1534002   & -6.3127844  & 1.940962168\\\\\n",
       "\\end{tabular}\n"
      ],
      "text/markdown": [
       "\n",
       "| <!--/--> | CXCR4 | SOX17 | T | NANOG | pseudotime | GATA6 | MIXL1 | EOMES | SOX2 | DKK1 | \n",
       "|---|---|---|\n",
       "| day0 | -1.7275187  | -1.6524644  |  0.5347082  | -0.3063896  | -0.2531944  | 0.2465871   | -0.2079614  | 0.1546067   |  0.0396782  | 0.002109188 | \n",
       "| day1 | -0.3416098  |  0.4180929  |  2.7829066  | -3.8411157  |  3.3997788  | 5.1517372   |  3.3045893  | 1.4164405   | -4.7718592  | 7.268792715 | \n",
       "| day2 |  0.4534267  |  1.4632755  | -3.7265803  | -8.5532979  | 10.5983401  | 8.3336058   |  0.7354517  | 5.1534002   | -6.3127844  | 1.940962168 | \n",
       "\n",
       "\n"
      ],
      "text/plain": [
       "     CXCR4      SOX17      T          NANOG      pseudotime GATA6    \n",
       "day0 -1.7275187 -1.6524644  0.5347082 -0.3063896 -0.2531944 0.2465871\n",
       "day1 -0.3416098  0.4180929  2.7829066 -3.8411157  3.3997788 5.1517372\n",
       "day2  0.4534267  1.4632755 -3.7265803 -8.5532979 10.5983401 8.3336058\n",
       "     MIXL1      EOMES     SOX2       DKK1       \n",
       "day0 -0.2079614 0.1546067  0.0396782 0.002109188\n",
       "day1  3.3045893 1.4164405 -4.7718592 7.268792715\n",
       "day2  0.7354517 5.1534002 -6.3127844 1.940962168"
      ]
     },
     "metadata": {},
     "output_type": "display_data"
    }
   ],
   "source": [
    "mat = -log10(df[,c(\"pval.day0\",\"pval.day1\",\"pval.day2\")])*sign(df[,c(\"coefficient.day0\",\"coefficient.day1\",\"coefficient.day2\")])\n",
    "rownames(mat) = df$gene1\n",
    "colnames(mat) = c(\"day0\", \"day1\", \"day2\")\n",
    "t(mat)"
   ]
  },
  {
   "cell_type": "code",
   "execution_count": 20,
   "metadata": {},
   "outputs": [
    {
     "data": {},
     "metadata": {},
     "output_type": "display_data"
    },
    {
     "data": {
      "image/png": "[encoded data removed]",
      "text/plain": [
       "plot without title"
      ]
     },
     "metadata": {},
     "output_type": "display_data"
    }
   ],
   "source": [
    "options(repr.plot.width = 9, repr.plot.height = 3)\n",
    "Heatmap(t(mat), \n",
    "        show_row_dend = F, show_column_dend = F, \n",
    "        show_column_names = T, show_row_names = T, \n",
    "        cluster_rows = F,  row_names_side = \"left\",\n",
    "        name = \"-log10(P) x \\neffect direction\",\n",
    "        row_names_gp = gpar(col = c(\"#344d90\", \"#5cc5ef\",\"#ffb745\"), fontsize = 20),\n",
    "        col = diverge_hcl(12, c = 100, l = c(50,100), power = 1))"
   ]
  },
  {
   "cell_type": "code",
   "execution_count": null,
   "metadata": {},
   "outputs": [],
   "source": []
  }
 ],
 "metadata": {
  "kernelspec": {
   "display_name": "R",
   "language": "R",
   "name": "ir"
  },
  "language_info": {
   "codemirror_mode": "r",
   "file_extension": ".r",
   "mimetype": "text/x-r-source",
   "name": "R",
   "pygments_lexer": "r",
   "version": "3.4.3"
  }
 },
 "nbformat": 4,
 "nbformat_minor": 2
}
