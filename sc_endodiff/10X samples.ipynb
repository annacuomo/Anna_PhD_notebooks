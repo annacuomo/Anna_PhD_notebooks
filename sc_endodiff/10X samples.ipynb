{
 "cells": [
  {
   "cell_type": "code",
   "execution_count": 1,
   "metadata": {},
   "outputs": [],
   "source": [
    "## load useful libraries\n",
    "suppressWarnings(suppressPackageStartupMessages(library(rhdf5)))\n",
    "suppressWarnings(suppressPackageStartupMessages(library(qvalue)))\n",
    "suppressWarnings(suppressPackageStartupMessages(library(dplyr)))\n",
    "suppressWarnings(suppressPackageStartupMessages(library(tidyverse)))\n",
    "suppressWarnings(suppressPackageStartupMessages(library(ggbeeswarm)))\n",
    "suppressWarnings(suppressPackageStartupMessages(library(scater)))\n",
    "suppressWarnings(suppressPackageStartupMessages(library(edgeR)))\n",
    "suppressWarnings(suppressPackageStartupMessages(library(SingleCellExperiment)))\n",
    "suppressWarnings(suppressPackageStartupMessages(library(limma)))"
   ]
  },
  {
   "cell_type": "code",
   "execution_count": 2,
   "metadata": {},
   "outputs": [],
   "source": [
    "counts_path = \"/hps/nobackup/hipsci/scratch/singlecell_endodiff/data_raw/10x/\"\n",
    "counts_suffix = \"/filtered_gene_bc_matrices/1000Genomes_hs37d5/\""
   ]
  },
  {
   "cell_type": "code",
   "execution_count": 3,
   "metadata": {},
   "outputs": [],
   "source": [
    "# 10X day0 cell ranger counts\n",
    "runs = c(\"cellranger201_count_22950_3_1000Genomes_hs37d5-ensembl_75_transcriptome\",\n",
    "         \"cellranger201_count_22951_3_1000Genomes_hs37d5-ensembl_75_transcriptome\",\n",
    "         \"cellranger210_count_4636STDY7138130_1000Genomes_hs37d5-ensembl_75_transcriptome\", # expt40 (??), day0\n",
    "         \"cellranger210_count_24192_4636STDY7151182_1000Genomes_hs37d5-ensembl_75_transcriptome\", # expt41, day0\n",
    "         \"cellranger210_count_24617_4636STDY7181831_1000Genomes_hs37d5-ensembl_75_transcriptome\", # expt43, day0\n",
    "         \"cellranger210_count_24727_SC-RNAseq-definitive_endoderm7220110_1000Genomes_hs37d5-ensembl_75_transcriptome\" # expt44, day0\n",
    "        )"
   ]
  },
  {
   "cell_type": "code",
   "execution_count": 47,
   "metadata": {},
   "outputs": [],
   "source": [
    "sce10x <- scater::read10XResults(\n",
    "  c(\n",
    "      paste0(counts_path,runs[1],counts_suffix),\n",
    "      paste0(counts_path,runs[2],counts_suffix),\n",
    "      paste0(counts_path,runs[3],counts_suffix),\n",
    "      paste0(counts_path,runs[4],counts_suffix),\n",
    "      paste0(counts_path,runs[5],counts_suffix),\n",
    "      paste0(counts_path,runs[6],counts_suffix)\n",
    "  )\n",
    ")"
   ]
  },
  {
   "cell_type": "code",
   "execution_count": 6,
   "metadata": {},
   "outputs": [],
   "source": [
    "saveRDS(sce10x, \"/hps/nobackup/stegle/users/acuomo/singlecell_endodiff/sce_10x_day0.rds\")"
   ]
  },
  {
   "cell_type": "code",
   "execution_count": 7,
   "metadata": {},
   "outputs": [],
   "source": [
    "sce10x = readRDS(\"/hps/nobackup/stegle/users/acuomo/singlecell_endodiff/sce_10x_day0.rds\")"
   ]
  },
  {
   "cell_type": "code",
   "execution_count": 5,
   "metadata": {},
   "outputs": [
    {
     "data": {
      "text/plain": [
       "class: SingleCellExperiment \n",
       "dim: 20356 27452 \n",
       "metadata(0):\n",
       "assays(1): counts\n",
       "rownames(20356): ENSG00000186092 ENSG00000237683 ... ENSG00000198695\n",
       "  ENSG00000198727\n",
       "rowData names(2): id symbol\n",
       "colnames: NULL\n",
       "colData names(2): dataset barcode\n",
       "reducedDimNames(0):\n",
       "spikeNames(0):"
      ]
     },
     "metadata": {},
     "output_type": "display_data"
    }
   ],
   "source": [
    "sce10x"
   ]
  },
  {
   "cell_type": "code",
   "execution_count": 9,
   "metadata": {},
   "outputs": [],
   "source": [
    "# table(sce10x$barcode)"
   ]
  },
  {
   "cell_type": "code",
   "execution_count": 6,
   "metadata": {},
   "outputs": [],
   "source": [
    "donor_id_path = \"/hps/nobackup/hipsci/scratch/singlecell_endodiff/data_processed/donor_id_10x_cardelino/\"\n",
    "donor_id_prefix = \"donor_id_all.\"\n",
    "donor_id_files = paste0(donor_id_path, donor_id_prefix, runs, \".csv\")"
   ]
  },
  {
   "cell_type": "code",
   "execution_count": 7,
   "metadata": {},
   "outputs": [
    {
     "data": {
      "text/html": [
       "<ol class=list-inline>\n",
       "\t<li>1079470</li>\n",
       "\t<li>7</li>\n",
       "</ol>\n"
      ],
      "text/latex": [
       "\\begin{enumerate*}\n",
       "\\item 1079470\n",
       "\\item 7\n",
       "\\end{enumerate*}\n"
      ],
      "text/markdown": [
       "1. 1079470\n",
       "2. 7\n",
       "\n",
       "\n"
      ],
      "text/plain": [
       "[1] 1079470       7"
      ]
     },
     "metadata": {},
     "output_type": "display_data"
    },
    {
     "data": {
      "text/html": [
       "<ol class=list-inline>\n",
       "\t<li>2</li>\n",
       "\t<li>7</li>\n",
       "</ol>\n"
      ],
      "text/latex": [
       "\\begin{enumerate*}\n",
       "\\item 2\n",
       "\\item 7\n",
       "\\end{enumerate*}\n"
      ],
      "text/markdown": [
       "1. 2\n",
       "2. 7\n",
       "\n",
       "\n"
      ],
      "text/plain": [
       "[1] 2 7"
      ]
     },
     "metadata": {},
     "output_type": "display_data"
    }
   ],
   "source": [
    "donorfile1 = read.csv(donor_id_files[1])\n",
    "dim(donorfile1)\n",
    "dim(donorfile1[donorfile1$post_prob > 0.5 & donorfile1$used_in_expt == \"True\",])"
   ]
  },
  {
   "cell_type": "code",
   "execution_count": 8,
   "metadata": {},
   "outputs": [
    {
     "data": {
      "text/html": [
       "<ol class=list-inline>\n",
       "\t<li>1937</li>\n",
       "\t<li>1937</li>\n",
       "\t<li>1</li>\n",
       "</ol>\n"
      ],
      "text/latex": [
       "\\begin{enumerate*}\n",
       "\\item 1937\n",
       "\\item 1937\n",
       "\\item 1\n",
       "\\end{enumerate*}\n"
      ],
      "text/markdown": [
       "1. 1937\n",
       "2. 1937\n",
       "3. 1\n",
       "\n",
       "\n"
      ],
      "text/plain": [
       "[1] 1937 1937    1"
      ]
     },
     "metadata": {},
     "output_type": "display_data"
    }
   ],
   "source": [
    "# this could be day0, maybe just fpdm/ffdm?\n",
    "d1 = donorfile1[donorfile1$post_prob > 0.9 & donorfile1$donor %in% c(\"ffdm\"),]\n",
    "c(dim(d1)[1], length(unique(d1$sample_id)), length(unique(d1$donor)))"
   ]
  },
  {
   "cell_type": "code",
   "execution_count": 9,
   "metadata": {},
   "outputs": [],
   "source": [
    "donorfile2 = read.csv(donor_id_files[2])"
   ]
  },
  {
   "cell_type": "code",
   "execution_count": 10,
   "metadata": {},
   "outputs": [
    {
     "data": {
      "text/html": [
       "<ol class=list-inline>\n",
       "\t<li>1411</li>\n",
       "\t<li>1411</li>\n",
       "\t<li>6</li>\n",
       "</ol>\n"
      ],
      "text/latex": [
       "\\begin{enumerate*}\n",
       "\\item 1411\n",
       "\\item 1411\n",
       "\\item 6\n",
       "\\end{enumerate*}\n"
      ],
      "text/markdown": [
       "1. 1411\n",
       "2. 1411\n",
       "3. 6\n",
       "\n",
       "\n"
      ],
      "text/plain": [
       "[1] 1411 1411    6"
      ]
     },
     "metadata": {},
     "output_type": "display_data"
    }
   ],
   "source": [
    "# this could be day0, expt 31 (donor id seemingly confirms)\n",
    "d2 = donorfile2[donorfile2$post_prob > 0.9 & donorfile2$donor %in% c(\"cicb\",\"cuhk\",\"hegp\",\"lepk\",\"ueah\",\"veku\"),]\n",
    "c(dim(d2)[1], length(unique(d2$sample_id)), length(unique(d2$donor)))"
   ]
  },
  {
   "cell_type": "code",
   "execution_count": 11,
   "metadata": {},
   "outputs": [],
   "source": [
    "donorfile3 = read.csv(donor_id_files[3])"
   ]
  },
  {
   "cell_type": "code",
   "execution_count": 12,
   "metadata": {},
   "outputs": [
    {
     "data": {
      "text/html": [
       "<ol class=list-inline>\n",
       "\t<li>3434</li>\n",
       "\t<li>3434</li>\n",
       "\t<li>5</li>\n",
       "</ol>\n"
      ],
      "text/latex": [
       "\\begin{enumerate*}\n",
       "\\item 3434\n",
       "\\item 3434\n",
       "\\item 5\n",
       "\\end{enumerate*}\n"
      ],
      "text/markdown": [
       "1. 3434\n",
       "2. 3434\n",
       "3. 5\n",
       "\n",
       "\n"
      ],
      "text/plain": [
       "[1] 3434 3434    5"
      ]
     },
     "metadata": {},
     "output_type": "display_data"
    }
   ],
   "source": [
    "# this could be day0, expt 40 (donor id seemingly confirms)\n",
    "d3 = donorfile3[donorfile3$post_prob > 0.9 & donorfile3$donor %in% c(\"kefb\",\"nosn\",\"pelm\",\"tout\",\"zapk\"),]\n",
    "c(dim(d3)[1], length(unique(d3$sample_id)), length(unique(d3$donor)))"
   ]
  },
  {
   "cell_type": "code",
   "execution_count": 13,
   "metadata": {},
   "outputs": [],
   "source": [
    "donorfile4 = read.csv(donor_id_files[4])"
   ]
  },
  {
   "cell_type": "code",
   "execution_count": 14,
   "metadata": {},
   "outputs": [
    {
     "data": {
      "text/html": [
       "<ol class=list-inline>\n",
       "\t<li>2911</li>\n",
       "\t<li>2911</li>\n",
       "\t<li>6</li>\n",
       "</ol>\n"
      ],
      "text/latex": [
       "\\begin{enumerate*}\n",
       "\\item 2911\n",
       "\\item 2911\n",
       "\\item 6\n",
       "\\end{enumerate*}\n"
      ],
      "text/markdown": [
       "1. 2911\n",
       "2. 2911\n",
       "3. 6\n",
       "\n",
       "\n"
      ],
      "text/plain": [
       "[1] 2911 2911    6"
      ]
     },
     "metadata": {},
     "output_type": "display_data"
    }
   ],
   "source": [
    "# this is meant to be day0, expt 41\n",
    "d4 = donorfile4[donorfile4$post_prob > 0.9 & donorfile4$donor %in% c(\"eipl\",\"hayt\",\"hoik\",\"pahc\",\"xojn\",\"yoch\"),]\n",
    "c(dim(d4)[1], length(unique(d4$sample_id)), length(unique(d4$donor)))"
   ]
  },
  {
   "cell_type": "code",
   "execution_count": 15,
   "metadata": {},
   "outputs": [],
   "source": [
    "donorfile5 = read.csv(donor_id_files[5])"
   ]
  },
  {
   "cell_type": "code",
   "execution_count": 16,
   "metadata": {},
   "outputs": [
    {
     "data": {
      "text/html": [
       "<ol class=list-inline>\n",
       "\t<li>3289</li>\n",
       "\t<li>3289</li>\n",
       "\t<li>6</li>\n",
       "</ol>\n"
      ],
      "text/latex": [
       "\\begin{enumerate*}\n",
       "\\item 3289\n",
       "\\item 3289\n",
       "\\item 6\n",
       "\\end{enumerate*}\n"
      ],
      "text/markdown": [
       "1. 3289\n",
       "2. 3289\n",
       "3. 6\n",
       "\n",
       "\n"
      ],
      "text/plain": [
       "[1] 3289 3289    6"
      ]
     },
     "metadata": {},
     "output_type": "display_data"
    }
   ],
   "source": [
    "# this is meant to be day0, expt 43\n",
    "d5 = donorfile5[donorfile5$post_prob > 0.9 & donorfile5$donor %in% c(\"aoxv\",\"eesb\",\"kuxp\",\"melw\",\"qunz\",\"yelp\"),]\n",
    "c(dim(d5)[1], length(unique(d5$sample_id)), length(unique(d5$donor)))"
   ]
  },
  {
   "cell_type": "code",
   "execution_count": 17,
   "metadata": {},
   "outputs": [],
   "source": [
    "donorfile6 = read.csv(donor_id_files[6])"
   ]
  },
  {
   "cell_type": "code",
   "execution_count": 18,
   "metadata": {},
   "outputs": [
    {
     "data": {
      "text/html": [
       "<ol class=list-inline>\n",
       "\t<li>3962</li>\n",
       "\t<li>3962</li>\n",
       "\t<li>6</li>\n",
       "</ol>\n"
      ],
      "text/latex": [
       "\\begin{enumerate*}\n",
       "\\item 3962\n",
       "\\item 3962\n",
       "\\item 6\n",
       "\\end{enumerate*}\n"
      ],
      "text/markdown": [
       "1. 3962\n",
       "2. 3962\n",
       "3. 6\n",
       "\n",
       "\n"
      ],
      "text/plain": [
       "[1] 3962 3962    6"
      ]
     },
     "metadata": {},
     "output_type": "display_data"
    }
   ],
   "source": [
    "# this is meant to be day0, expt 44\n",
    "d6 = donorfile6[donorfile6$post_prob > 0.9 & donorfile6$donor %in% c(\"jejf\",\"juuy\",\"pipw\",\"qehq\",\"toco\",\"uilk\"),]\n",
    "c(dim(d6)[1], length(unique(d6$sample_id)), length(unique(d6$donor)))"
   ]
  },
  {
   "cell_type": "code",
   "execution_count": null,
   "metadata": {},
   "outputs": [],
   "source": []
  },
  {
   "cell_type": "code",
   "execution_count": 19,
   "metadata": {},
   "outputs": [
    {
     "data": {
      "text/html": [
       "<ol class=list-inline>\n",
       "\t<li>20356</li>\n",
       "\t<li>27452</li>\n",
       "</ol>\n"
      ],
      "text/latex": [
       "\\begin{enumerate*}\n",
       "\\item 20356\n",
       "\\item 27452\n",
       "\\end{enumerate*}\n"
      ],
      "text/markdown": [
       "1. 20356\n",
       "2. 27452\n",
       "\n",
       "\n"
      ],
      "text/plain": [
       "[1] 20356 27452"
      ]
     },
     "metadata": {},
     "output_type": "display_data"
    }
   ],
   "source": [
    "dim(sce10x)\n",
    "mat = as.matrix(counts(sce10x))"
   ]
  },
  {
   "cell_type": "code",
   "execution_count": 20,
   "metadata": {},
   "outputs": [
    {
     "data": {
      "text/html": [
       "<table>\n",
       "<thead><tr><th></th><th scope=col>AAACCTGAGCCTCGTG-1_1</th><th scope=col>AAACCTGAGGCCCTCA-1_1</th><th scope=col>AAACCTGAGTACGTTC-1_1</th><th scope=col>AAACCTGGTATGCTTG-1_1</th><th scope=col>AAACCTGGTGGGTCAA-1_1</th><th scope=col>AAACCTGTCACTTATC-1_1</th><th scope=col>AAACCTGTCGTAGATC-1_1</th><th scope=col>AAACGGGCACAGGCCT-1_1</th><th scope=col>AAACGGGCACCGATAT-1_1</th><th scope=col>AAACGGGCAGGTTTCA-1_1</th></tr></thead>\n",
       "<tbody>\n",
       "\t<tr><th scope=row>ENSG00000186092_OR4F5</th><td>0</td><td>0</td><td>0</td><td>0</td><td>0</td><td>0</td><td>0</td><td>0</td><td>0</td><td>0</td></tr>\n",
       "\t<tr><th scope=row>ENSG00000237683_AL627309.1</th><td>0</td><td>1</td><td>0</td><td>0</td><td>0</td><td>0</td><td>0</td><td>1</td><td>1</td><td>0</td></tr>\n",
       "\t<tr><th scope=row>ENSG00000235249_OR4F29</th><td>0</td><td>0</td><td>0</td><td>0</td><td>0</td><td>0</td><td>0</td><td>0</td><td>0</td><td>0</td></tr>\n",
       "\t<tr><th scope=row>ENSG00000185097_OR4F16</th><td>0</td><td>0</td><td>0</td><td>0</td><td>0</td><td>0</td><td>0</td><td>0</td><td>0</td><td>0</td></tr>\n",
       "\t<tr><th scope=row>ENSG00000269831_AL669831.1</th><td>0</td><td>0</td><td>0</td><td>0</td><td>0</td><td>0</td><td>0</td><td>0</td><td>0</td><td>0</td></tr>\n",
       "\t<tr><th scope=row>ENSG00000269308_AL645608.2</th><td>0</td><td>0</td><td>0</td><td>0</td><td>0</td><td>0</td><td>0</td><td>0</td><td>0</td><td>0</td></tr>\n",
       "</tbody>\n",
       "</table>\n"
      ],
      "text/latex": [
       "\\begin{tabular}{r|llllllllll}\n",
       "  & AAACCTGAGCCTCGTG-1\\_1 & AAACCTGAGGCCCTCA-1\\_1 & AAACCTGAGTACGTTC-1\\_1 & AAACCTGGTATGCTTG-1\\_1 & AAACCTGGTGGGTCAA-1\\_1 & AAACCTGTCACTTATC-1\\_1 & AAACCTGTCGTAGATC-1\\_1 & AAACGGGCACAGGCCT-1\\_1 & AAACGGGCACCGATAT-1\\_1 & AAACGGGCAGGTTTCA-1\\_1\\\\\n",
       "\\hline\n",
       "\tENSG00000186092\\_OR4F5 & 0 & 0 & 0 & 0 & 0 & 0 & 0 & 0 & 0 & 0\\\\\n",
       "\tENSG00000237683\\_AL627309.1 & 0 & 1 & 0 & 0 & 0 & 0 & 0 & 1 & 1 & 0\\\\\n",
       "\tENSG00000235249\\_OR4F29 & 0 & 0 & 0 & 0 & 0 & 0 & 0 & 0 & 0 & 0\\\\\n",
       "\tENSG00000185097\\_OR4F16 & 0 & 0 & 0 & 0 & 0 & 0 & 0 & 0 & 0 & 0\\\\\n",
       "\tENSG00000269831\\_AL669831.1 & 0 & 0 & 0 & 0 & 0 & 0 & 0 & 0 & 0 & 0\\\\\n",
       "\tENSG00000269308\\_AL645608.2 & 0 & 0 & 0 & 0 & 0 & 0 & 0 & 0 & 0 & 0\\\\\n",
       "\\end{tabular}\n"
      ],
      "text/markdown": [
       "\n",
       "| <!--/--> | AAACCTGAGCCTCGTG-1_1 | AAACCTGAGGCCCTCA-1_1 | AAACCTGAGTACGTTC-1_1 | AAACCTGGTATGCTTG-1_1 | AAACCTGGTGGGTCAA-1_1 | AAACCTGTCACTTATC-1_1 | AAACCTGTCGTAGATC-1_1 | AAACGGGCACAGGCCT-1_1 | AAACGGGCACCGATAT-1_1 | AAACGGGCAGGTTTCA-1_1 | \n",
       "|---|---|---|---|---|---|\n",
       "| ENSG00000186092_OR4F5 | 0 | 0 | 0 | 0 | 0 | 0 | 0 | 0 | 0 | 0 | \n",
       "| ENSG00000237683_AL627309.1 | 0 | 1 | 0 | 0 | 0 | 0 | 0 | 1 | 1 | 0 | \n",
       "| ENSG00000235249_OR4F29 | 0 | 0 | 0 | 0 | 0 | 0 | 0 | 0 | 0 | 0 | \n",
       "| ENSG00000185097_OR4F16 | 0 | 0 | 0 | 0 | 0 | 0 | 0 | 0 | 0 | 0 | \n",
       "| ENSG00000269831_AL669831.1 | 0 | 0 | 0 | 0 | 0 | 0 | 0 | 0 | 0 | 0 | \n",
       "| ENSG00000269308_AL645608.2 | 0 | 0 | 0 | 0 | 0 | 0 | 0 | 0 | 0 | 0 | \n",
       "\n",
       "\n"
      ],
      "text/plain": [
       "                           AAACCTGAGCCTCGTG-1_1 AAACCTGAGGCCCTCA-1_1\n",
       "ENSG00000186092_OR4F5      0                    0                   \n",
       "ENSG00000237683_AL627309.1 0                    1                   \n",
       "ENSG00000235249_OR4F29     0                    0                   \n",
       "ENSG00000185097_OR4F16     0                    0                   \n",
       "ENSG00000269831_AL669831.1 0                    0                   \n",
       "ENSG00000269308_AL645608.2 0                    0                   \n",
       "                           AAACCTGAGTACGTTC-1_1 AAACCTGGTATGCTTG-1_1\n",
       "ENSG00000186092_OR4F5      0                    0                   \n",
       "ENSG00000237683_AL627309.1 0                    0                   \n",
       "ENSG00000235249_OR4F29     0                    0                   \n",
       "ENSG00000185097_OR4F16     0                    0                   \n",
       "ENSG00000269831_AL669831.1 0                    0                   \n",
       "ENSG00000269308_AL645608.2 0                    0                   \n",
       "                           AAACCTGGTGGGTCAA-1_1 AAACCTGTCACTTATC-1_1\n",
       "ENSG00000186092_OR4F5      0                    0                   \n",
       "ENSG00000237683_AL627309.1 0                    0                   \n",
       "ENSG00000235249_OR4F29     0                    0                   \n",
       "ENSG00000185097_OR4F16     0                    0                   \n",
       "ENSG00000269831_AL669831.1 0                    0                   \n",
       "ENSG00000269308_AL645608.2 0                    0                   \n",
       "                           AAACCTGTCGTAGATC-1_1 AAACGGGCACAGGCCT-1_1\n",
       "ENSG00000186092_OR4F5      0                    0                   \n",
       "ENSG00000237683_AL627309.1 0                    1                   \n",
       "ENSG00000235249_OR4F29     0                    0                   \n",
       "ENSG00000185097_OR4F16     0                    0                   \n",
       "ENSG00000269831_AL669831.1 0                    0                   \n",
       "ENSG00000269308_AL645608.2 0                    0                   \n",
       "                           AAACGGGCACCGATAT-1_1 AAACGGGCAGGTTTCA-1_1\n",
       "ENSG00000186092_OR4F5      0                    0                   \n",
       "ENSG00000237683_AL627309.1 1                    0                   \n",
       "ENSG00000235249_OR4F29     0                    0                   \n",
       "ENSG00000185097_OR4F16     0                    0                   \n",
       "ENSG00000269831_AL669831.1 0                    0                   \n",
       "ENSG00000269308_AL645608.2 0                    0                   "
      ]
     },
     "metadata": {},
     "output_type": "display_data"
    }
   ],
   "source": [
    "rownames(mat) = paste0(rowData(sce10x)$id,\"_\",rowData(sce10x)$symbol)\n",
    "colnames(mat) = paste0(colData(sce10x)$barcode,\"_\",colData(sce10x)$dataset)\n",
    "head(mat[,1:10])"
   ]
  },
  {
   "cell_type": "code",
   "execution_count": 21,
   "metadata": {},
   "outputs": [
    {
     "data": {
      "text/html": [
       "<table>\n",
       "<thead><tr><th scope=col>cell_id</th><th scope=col>barcode</th><th scope=col>dataset</th><th scope=col>run</th></tr></thead>\n",
       "<tbody>\n",
       "\t<tr><td>AAACCTGAGCCTCGTG-1_1                                                   </td><td>AAACCTGAGCCTCGTG                                                       </td><td>1                                                                      </td><td>cellranger201_count_22950_3_1000Genomes_hs37d5-ensembl_75_transcriptome</td></tr>\n",
       "\t<tr><td>AAACCTGAGGCCCTCA-1_1                                                   </td><td>AAACCTGAGGCCCTCA                                                       </td><td>1                                                                      </td><td>cellranger201_count_22950_3_1000Genomes_hs37d5-ensembl_75_transcriptome</td></tr>\n",
       "\t<tr><td>AAACCTGAGTACGTTC-1_1                                                   </td><td>AAACCTGAGTACGTTC                                                       </td><td>1                                                                      </td><td>cellranger201_count_22950_3_1000Genomes_hs37d5-ensembl_75_transcriptome</td></tr>\n",
       "\t<tr><td>AAACCTGGTATGCTTG-1_1                                                   </td><td>AAACCTGGTATGCTTG                                                       </td><td>1                                                                      </td><td>cellranger201_count_22950_3_1000Genomes_hs37d5-ensembl_75_transcriptome</td></tr>\n",
       "\t<tr><td>AAACCTGGTGGGTCAA-1_1                                                   </td><td>AAACCTGGTGGGTCAA                                                       </td><td>1                                                                      </td><td>cellranger201_count_22950_3_1000Genomes_hs37d5-ensembl_75_transcriptome</td></tr>\n",
       "\t<tr><td>AAACCTGTCACTTATC-1_1                                                   </td><td>AAACCTGTCACTTATC                                                       </td><td>1                                                                      </td><td>cellranger201_count_22950_3_1000Genomes_hs37d5-ensembl_75_transcriptome</td></tr>\n",
       "</tbody>\n",
       "</table>\n"
      ],
      "text/latex": [
       "\\begin{tabular}{r|llll}\n",
       " cell\\_id & barcode & dataset & run\\\\\n",
       "\\hline\n",
       "\t AAACCTGAGCCTCGTG-1\\_1                                                                & AAACCTGAGCCTCGTG                                                                      & 1                                                                                     & cellranger201\\_count\\_22950\\_3\\_1000Genomes\\_hs37d5-ensembl\\_75\\_transcriptome\\\\\n",
       "\t AAACCTGAGGCCCTCA-1\\_1                                                                & AAACCTGAGGCCCTCA                                                                      & 1                                                                                     & cellranger201\\_count\\_22950\\_3\\_1000Genomes\\_hs37d5-ensembl\\_75\\_transcriptome\\\\\n",
       "\t AAACCTGAGTACGTTC-1\\_1                                                                & AAACCTGAGTACGTTC                                                                      & 1                                                                                     & cellranger201\\_count\\_22950\\_3\\_1000Genomes\\_hs37d5-ensembl\\_75\\_transcriptome\\\\\n",
       "\t AAACCTGGTATGCTTG-1\\_1                                                                & AAACCTGGTATGCTTG                                                                      & 1                                                                                     & cellranger201\\_count\\_22950\\_3\\_1000Genomes\\_hs37d5-ensembl\\_75\\_transcriptome\\\\\n",
       "\t AAACCTGGTGGGTCAA-1\\_1                                                                & AAACCTGGTGGGTCAA                                                                      & 1                                                                                     & cellranger201\\_count\\_22950\\_3\\_1000Genomes\\_hs37d5-ensembl\\_75\\_transcriptome\\\\\n",
       "\t AAACCTGTCACTTATC-1\\_1                                                                & AAACCTGTCACTTATC                                                                      & 1                                                                                     & cellranger201\\_count\\_22950\\_3\\_1000Genomes\\_hs37d5-ensembl\\_75\\_transcriptome\\\\\n",
       "\\end{tabular}\n"
      ],
      "text/markdown": [
       "\n",
       "cell_id | barcode | dataset | run | \n",
       "|---|---|---|---|---|---|\n",
       "| AAACCTGAGCCTCGTG-1_1                                                    | AAACCTGAGCCTCGTG                                                        | 1                                                                       | cellranger201_count_22950_3_1000Genomes_hs37d5-ensembl_75_transcriptome | \n",
       "| AAACCTGAGGCCCTCA-1_1                                                    | AAACCTGAGGCCCTCA                                                        | 1                                                                       | cellranger201_count_22950_3_1000Genomes_hs37d5-ensembl_75_transcriptome | \n",
       "| AAACCTGAGTACGTTC-1_1                                                    | AAACCTGAGTACGTTC                                                        | 1                                                                       | cellranger201_count_22950_3_1000Genomes_hs37d5-ensembl_75_transcriptome | \n",
       "| AAACCTGGTATGCTTG-1_1                                                    | AAACCTGGTATGCTTG                                                        | 1                                                                       | cellranger201_count_22950_3_1000Genomes_hs37d5-ensembl_75_transcriptome | \n",
       "| AAACCTGGTGGGTCAA-1_1                                                    | AAACCTGGTGGGTCAA                                                        | 1                                                                       | cellranger201_count_22950_3_1000Genomes_hs37d5-ensembl_75_transcriptome | \n",
       "| AAACCTGTCACTTATC-1_1                                                    | AAACCTGTCACTTATC                                                        | 1                                                                       | cellranger201_count_22950_3_1000Genomes_hs37d5-ensembl_75_transcriptome | \n",
       "\n",
       "\n"
      ],
      "text/plain": [
       "  cell_id              barcode          dataset\n",
       "1 AAACCTGAGCCTCGTG-1_1 AAACCTGAGCCTCGTG 1      \n",
       "2 AAACCTGAGGCCCTCA-1_1 AAACCTGAGGCCCTCA 1      \n",
       "3 AAACCTGAGTACGTTC-1_1 AAACCTGAGTACGTTC 1      \n",
       "4 AAACCTGGTATGCTTG-1_1 AAACCTGGTATGCTTG 1      \n",
       "5 AAACCTGGTGGGTCAA-1_1 AAACCTGGTGGGTCAA 1      \n",
       "6 AAACCTGTCACTTATC-1_1 AAACCTGTCACTTATC 1      \n",
       "  run                                                                    \n",
       "1 cellranger201_count_22950_3_1000Genomes_hs37d5-ensembl_75_transcriptome\n",
       "2 cellranger201_count_22950_3_1000Genomes_hs37d5-ensembl_75_transcriptome\n",
       "3 cellranger201_count_22950_3_1000Genomes_hs37d5-ensembl_75_transcriptome\n",
       "4 cellranger201_count_22950_3_1000Genomes_hs37d5-ensembl_75_transcriptome\n",
       "5 cellranger201_count_22950_3_1000Genomes_hs37d5-ensembl_75_transcriptome\n",
       "6 cellranger201_count_22950_3_1000Genomes_hs37d5-ensembl_75_transcriptome"
      ]
     },
     "metadata": {},
     "output_type": "display_data"
    },
    {
     "data": {
      "text/html": [
       "27452"
      ],
      "text/latex": [
       "27452"
      ],
      "text/markdown": [
       "27452"
      ],
      "text/plain": [
       "[1] 27452"
      ]
     },
     "metadata": {},
     "output_type": "display_data"
    }
   ],
   "source": [
    "sample_mapping = cbind(colnames(mat), gsub(\"*-.*\",\"\",colnames(mat)), gsub(\".*_\",\"\",colnames(mat)))\n",
    "sample_mapping = as.data.frame(sample_mapping)\n",
    "colnames(sample_mapping) = c(\"cell_id\",\"barcode\",\"dataset\")\n",
    "sample_mapping$run = runs[as.numeric(sample_mapping$dataset)]\n",
    "head(sample_mapping)\n",
    "length(unique(sample_mapping$cell_id))"
   ]
  },
  {
   "cell_type": "code",
   "execution_count": 22,
   "metadata": {},
   "outputs": [],
   "source": [
    "d1$barcode = gsub(\"10x.\",\"\",gsub(\".filtered.vcf.gz\",\"\",d1$sample_id))\n",
    "d1$dataset = \"1\"\n",
    "d1$cell_id = paste0(d1$barcode,\"_\",d1$dataset)\n",
    "#\n",
    "d2$barcode = gsub(\"10x.\",\"\",gsub(\".filtered.vcf.gz\",\"\",d2$sample_id))\n",
    "d2$dataset = \"2\"\n",
    "d2$cell_id = paste0(d2$barcode,\"_\",d2$dataset)\n",
    "#\n",
    "d3$barcode = gsub(\"10x.\",\"\",gsub(\".filtered.vcf.gz\",\"\",d3$sample_id))\n",
    "d3$dataset = \"3\"\n",
    "d3$cell_id = paste0(d3$barcode,\"_\",d3$dataset)\n",
    "#\n",
    "d4$barcode = gsub(\"10x.\",\"\",gsub(\".filtered.vcf.gz\",\"\",d4$sample_id))\n",
    "d4$dataset = \"4\"\n",
    "d4$cell_id = paste0(d4$barcode,\"_\",d4$dataset)\n",
    "#\n",
    "d5$barcode = gsub(\"10x.\",\"\",gsub(\".filtered.vcf.gz\",\"\",d5$sample_id))\n",
    "d5$dataset = \"5\"\n",
    "d5$cell_id = paste0(d5$barcode,\"_\",d5$dataset)\n",
    "#\n",
    "d6$barcode = gsub(\"10x.\",\"\",gsub(\".filtered.vcf.gz\",\"\",d6$sample_id))\n",
    "d6$dataset = \"6\"\n",
    "d6$cell_id = paste0(d6$barcode,\"_\",d6$dataset)"
   ]
  },
  {
   "cell_type": "code",
   "execution_count": 23,
   "metadata": {},
   "outputs": [
    {
     "data": {
      "text/html": [
       "<table>\n",
       "<thead><tr><th></th><th scope=col>sample_id</th><th scope=col>donor</th><th scope=col>nvars_called</th><th scope=col>nvars_ovlap_hipsci</th><th scope=col>nvars_used</th><th scope=col>post_prob</th><th scope=col>used_in_expt</th><th scope=col>barcode</th><th scope=col>dataset</th><th scope=col>cell_id</th><th scope=col>n_total_reads</th><th scope=col>n_alt_reads</th></tr></thead>\n",
       "<tbody>\n",
       "\t<tr><th scope=row>2812507</th><td>10x.TTTGGTTTCATTCACT-1</td><td>uilk                  </td><td>202                   </td><td>202                   </td><td>202                   </td><td>1.000000              </td><td>False                 </td><td>TTTGGTTTCATTCACT-1    </td><td>6                     </td><td>TTTGGTTTCATTCACT-1_6  </td><td>156                   </td><td>44                    </td></tr>\n",
       "\t<tr><th scope=row>2812908</th><td>10x.TTTGGTTTCGTTGCCT-1</td><td>pipw                  </td><td>113                   </td><td>113                   </td><td>113                   </td><td>1.000000              </td><td>False                 </td><td>TTTGGTTTCGTTGCCT-1    </td><td>6                     </td><td>TTTGGTTTCGTTGCCT-1_6  </td><td> 87                   </td><td>28                    </td></tr>\n",
       "\t<tr><th scope=row>2814467</th><td>10x.TTTGTCACACGTCAGC-1</td><td>uilk                  </td><td>109                   </td><td>109                   </td><td>109                   </td><td>1.000000              </td><td>False                 </td><td>TTTGTCACACGTCAGC-1    </td><td>6                     </td><td>TTTGTCACACGTCAGC-1_6  </td><td> 79                   </td><td>26                    </td></tr>\n",
       "\t<tr><th scope=row>2816222</th><td>10x.TTTGTCATCAGTTGAC-1</td><td>juuy                  </td><td>153                   </td><td>153                   </td><td>153                   </td><td>1.000000              </td><td>False                 </td><td>TTTGTCATCAGTTGAC-1    </td><td>6                     </td><td>TTTGTCATCAGTTGAC-1_6  </td><td>111                   </td><td>32                    </td></tr>\n",
       "\t<tr><th scope=row>2816712</th><td>10x.TTTGTCATCCCATTTA-1</td><td>juuy                  </td><td>153                   </td><td>153                   </td><td>153                   </td><td>0.999983              </td><td>False                 </td><td>TTTGTCATCCCATTTA-1    </td><td>6                     </td><td>TTTGTCATCCCATTTA-1_6  </td><td>122                   </td><td>32                    </td></tr>\n",
       "\t<tr><th scope=row>2817193</th><td>10x.TTTGTCATCGCACTCT-1</td><td>jejf                  </td><td>108                   </td><td>108                   </td><td>108                   </td><td>1.000000              </td><td>False                 </td><td>TTTGTCATCGCACTCT-1    </td><td>6                     </td><td>TTTGTCATCGCACTCT-1_6  </td><td> 87                   </td><td>23                    </td></tr>\n",
       "</tbody>\n",
       "</table>\n"
      ],
      "text/latex": [
       "\\begin{tabular}{r|llllllllllll}\n",
       "  & sample\\_id & donor & nvars\\_called & nvars\\_ovlap\\_hipsci & nvars\\_used & post\\_prob & used\\_in\\_expt & barcode & dataset & cell\\_id & n\\_total\\_reads & n\\_alt\\_reads\\\\\n",
       "\\hline\n",
       "\t2812507 & 10x.TTTGGTTTCATTCACT-1 & uilk                   & 202                    & 202                    & 202                    & 1.000000               & False                  & TTTGGTTTCATTCACT-1     & 6                      & TTTGGTTTCATTCACT-1\\_6 & 156                    & 44                    \\\\\n",
       "\t2812908 & 10x.TTTGGTTTCGTTGCCT-1 & pipw                   & 113                    & 113                    & 113                    & 1.000000               & False                  & TTTGGTTTCGTTGCCT-1     & 6                      & TTTGGTTTCGTTGCCT-1\\_6 &  87                    & 28                    \\\\\n",
       "\t2814467 & 10x.TTTGTCACACGTCAGC-1 & uilk                   & 109                    & 109                    & 109                    & 1.000000               & False                  & TTTGTCACACGTCAGC-1     & 6                      & TTTGTCACACGTCAGC-1\\_6 &  79                    & 26                    \\\\\n",
       "\t2816222 & 10x.TTTGTCATCAGTTGAC-1 & juuy                   & 153                    & 153                    & 153                    & 1.000000               & False                  & TTTGTCATCAGTTGAC-1     & 6                      & TTTGTCATCAGTTGAC-1\\_6 & 111                    & 32                    \\\\\n",
       "\t2816712 & 10x.TTTGTCATCCCATTTA-1 & juuy                   & 153                    & 153                    & 153                    & 0.999983               & False                  & TTTGTCATCCCATTTA-1     & 6                      & TTTGTCATCCCATTTA-1\\_6 & 122                    & 32                    \\\\\n",
       "\t2817193 & 10x.TTTGTCATCGCACTCT-1 & jejf                   & 108                    & 108                    & 108                    & 1.000000               & False                  & TTTGTCATCGCACTCT-1     & 6                      & TTTGTCATCGCACTCT-1\\_6 &  87                    & 23                    \\\\\n",
       "\\end{tabular}\n"
      ],
      "text/markdown": [
       "\n",
       "| <!--/--> | sample_id | donor | nvars_called | nvars_ovlap_hipsci | nvars_used | post_prob | used_in_expt | barcode | dataset | cell_id | n_total_reads | n_alt_reads | \n",
       "|---|---|---|---|---|---|\n",
       "| 2812507 | 10x.TTTGGTTTCATTCACT-1 | uilk                   | 202                    | 202                    | 202                    | 1.000000               | False                  | TTTGGTTTCATTCACT-1     | 6                      | TTTGGTTTCATTCACT-1_6   | 156                    | 44                     | \n",
       "| 2812908 | 10x.TTTGGTTTCGTTGCCT-1 | pipw                   | 113                    | 113                    | 113                    | 1.000000               | False                  | TTTGGTTTCGTTGCCT-1     | 6                      | TTTGGTTTCGTTGCCT-1_6   |  87                    | 28                     | \n",
       "| 2814467 | 10x.TTTGTCACACGTCAGC-1 | uilk                   | 109                    | 109                    | 109                    | 1.000000               | False                  | TTTGTCACACGTCAGC-1     | 6                      | TTTGTCACACGTCAGC-1_6   |  79                    | 26                     | \n",
       "| 2816222 | 10x.TTTGTCATCAGTTGAC-1 | juuy                   | 153                    | 153                    | 153                    | 1.000000               | False                  | TTTGTCATCAGTTGAC-1     | 6                      | TTTGTCATCAGTTGAC-1_6   | 111                    | 32                     | \n",
       "| 2816712 | 10x.TTTGTCATCCCATTTA-1 | juuy                   | 153                    | 153                    | 153                    | 0.999983               | False                  | TTTGTCATCCCATTTA-1     | 6                      | TTTGTCATCCCATTTA-1_6   | 122                    | 32                     | \n",
       "| 2817193 | 10x.TTTGTCATCGCACTCT-1 | jejf                   | 108                    | 108                    | 108                    | 1.000000               | False                  | TTTGTCATCGCACTCT-1     | 6                      | TTTGTCATCGCACTCT-1_6   |  87                    | 23                     | \n",
       "\n",
       "\n"
      ],
      "text/plain": [
       "        sample_id              donor nvars_called nvars_ovlap_hipsci nvars_used\n",
       "2812507 10x.TTTGGTTTCATTCACT-1 uilk  202          202                202       \n",
       "2812908 10x.TTTGGTTTCGTTGCCT-1 pipw  113          113                113       \n",
       "2814467 10x.TTTGTCACACGTCAGC-1 uilk  109          109                109       \n",
       "2816222 10x.TTTGTCATCAGTTGAC-1 juuy  153          153                153       \n",
       "2816712 10x.TTTGTCATCCCATTTA-1 juuy  153          153                153       \n",
       "2817193 10x.TTTGTCATCGCACTCT-1 jejf  108          108                108       \n",
       "        post_prob used_in_expt barcode            dataset cell_id             \n",
       "2812507 1.000000  False        TTTGGTTTCATTCACT-1 6       TTTGGTTTCATTCACT-1_6\n",
       "2812908 1.000000  False        TTTGGTTTCGTTGCCT-1 6       TTTGGTTTCGTTGCCT-1_6\n",
       "2814467 1.000000  False        TTTGTCACACGTCAGC-1 6       TTTGTCACACGTCAGC-1_6\n",
       "2816222 1.000000  False        TTTGTCATCAGTTGAC-1 6       TTTGTCATCAGTTGAC-1_6\n",
       "2816712 0.999983  False        TTTGTCATCCCATTTA-1 6       TTTGTCATCCCATTTA-1_6\n",
       "2817193 1.000000  False        TTTGTCATCGCACTCT-1 6       TTTGTCATCGCACTCT-1_6\n",
       "        n_total_reads n_alt_reads\n",
       "2812507 156           44         \n",
       "2812908  87           28         \n",
       "2814467  79           26         \n",
       "2816222 111           32         \n",
       "2816712 122           32         \n",
       "2817193  87           23         "
      ]
     },
     "metadata": {},
     "output_type": "display_data"
    }
   ],
   "source": [
    "d1$n_total_reads = NA\n",
    "d1$n_alt_reads = NA\n",
    "d = rbind(d1,d2,d3,d4,d5,d6)\n",
    "tail(d)"
   ]
  },
  {
   "cell_type": "code",
   "execution_count": 38,
   "metadata": {},
   "outputs": [],
   "source": [
    "d$donor_short_id[d$donor == 'ffdm'] <- 'ffdm_2'\n",
    "d$donor_short_id[d$donor == 'fpdm'] <- 'fpdm_2'\n",
    "d$donor_short_id[d$donor == 'lepk'] <- 'lepk_1'\n",
    "d$donor_short_id[d$donor == 'cuhk'] <- 'cuhk_2'\n",
    "d$donor_short_id[d$donor == 'ueah'] <- 'ueah_1'\n",
    "d$donor_short_id[d$donor == 'hegp'] <- 'hegp_3'\n",
    "d$donor_short_id[d$donor == 'veku'] <- 'veku_2'\n",
    "d$donor_short_id[d$donor == 'cicb'] <- 'cicb_2'\n",
    "d$donor_short_id[d$donor == 'kefb'] <- 'kefb_1'\n",
    "d$donor_short_id[d$donor == 'nosn'] <- 'nosn_6'\n",
    "d$donor_short_id[d$donor == 'pelm'] <- 'pelm_3'\n",
    "d$donor_short_id[d$donor == 'tout'] <- 'tout_1'\n",
    "d$donor_short_id[d$donor == 'zapk'] <- 'zapk_3'\n",
    "d$donor_short_id[d$donor == 'eipl'] <- 'eipl_1'\n",
    "d$donor_short_id[d$donor == 'pahc'] <- 'pahc_4'\n",
    "d$donor_short_id[d$donor == 'hayt'] <- 'hayt_1'\n",
    "d$donor_short_id[d$donor == 'hoik'] <- 'hoik_1'\n",
    "d$donor_short_id[d$donor == 'xojn'] <- 'xojn_3'\n",
    "d$donor_short_id[d$donor == 'yoch'] <- 'yoch_6'\n",
    "d$donor_short_id[d$donor == 'kuxp'] <- 'kuxp_1'\n",
    "d$donor_short_id[d$donor == 'yelp'] <- 'yelp_3'\n",
    "d$donor_short_id[d$donor == 'aoxv'] <- 'aoxv_3'\n",
    "d$donor_short_id[d$donor == 'eesb'] <- 'eesb_1'\n",
    "d$donor_short_id[d$donor == 'melw'] <- 'melw_2'\n",
    "d$donor_short_id[d$donor == 'qunz'] <- 'qunz_3'\n",
    "d$donor_short_id[d$donor == 'qehq'] <- 'qehq_3'\n",
    "d$donor_short_id[d$donor == 'jejf'] <- 'jejf_2'\n",
    "d$donor_short_id[d$donor == 'juuy'] <- 'juuy_2'\n",
    "d$donor_short_id[d$donor == 'uilk'] <- 'uilk_2'\n",
    "d$donor_short_id[d$donor == 'pipw'] <- 'pipw_5'\n",
    "d$donor_short_id[d$donor == 'toco'] <- 'toco_5'"
   ]
  },
  {
   "cell_type": "code",
   "execution_count": 39,
   "metadata": {},
   "outputs": [
    {
     "data": {
      "text/html": [
       "<table>\n",
       "<thead><tr><th></th><th scope=col>sample_id</th><th scope=col>donor</th><th scope=col>nvars_called</th><th scope=col>nvars_ovlap_hipsci</th><th scope=col>nvars_used</th><th scope=col>post_prob</th><th scope=col>used_in_expt</th><th scope=col>barcode</th><th scope=col>dataset</th><th scope=col>cell_id</th><th scope=col>n_total_reads</th><th scope=col>n_alt_reads</th><th scope=col>donor_short_id</th></tr></thead>\n",
       "<tbody>\n",
       "\t<tr><th scope=row>107</th><td>10x.AAACCTGAGCCTCGTG-1.filtered.vcf.gz</td><td>ffdm                                  </td><td>120                                   </td><td>120                                   </td><td>120                                   </td><td>0.9944113                             </td><td>False                                 </td><td>AAACCTGAGCCTCGTG-1                    </td><td>1                                     </td><td>AAACCTGAGCCTCGTG-1_1                  </td><td>NA                                    </td><td>NA                                    </td><td>ffdm_2                                </td></tr>\n",
       "\t<tr><th scope=row>597</th><td>10x.AAACCTGAGGCCCTCA-1.filtered.vcf.gz</td><td>ffdm                                  </td><td>203                                   </td><td>203                                   </td><td>203                                   </td><td>0.9999976                             </td><td>False                                 </td><td>AAACCTGAGGCCCTCA-1                    </td><td>1                                     </td><td>AAACCTGAGGCCCTCA-1_1                  </td><td>NA                                    </td><td>NA                                    </td><td>ffdm_2                                </td></tr>\n",
       "\t<tr><th scope=row>1087</th><td>10x.AAACCTGAGTACGTTC-1.filtered.vcf.gz</td><td>ffdm                                  </td><td>226                                   </td><td>226                                   </td><td>226                                   </td><td>1.0000000                             </td><td>False                                 </td><td>AAACCTGAGTACGTTC-1                    </td><td>1                                     </td><td>AAACCTGAGTACGTTC-1_1                  </td><td>NA                                    </td><td>NA                                    </td><td>ffdm_2                                </td></tr>\n",
       "\t<tr><th scope=row>1577</th><td>10x.AAACCTGGTATGCTTG-1.filtered.vcf.gz</td><td>ffdm                                  </td><td>124                                   </td><td>124                                   </td><td>124                                   </td><td>1.0000000                             </td><td>False                                 </td><td>AAACCTGGTATGCTTG-1                    </td><td>1                                     </td><td>AAACCTGGTATGCTTG-1_1                  </td><td>NA                                    </td><td>NA                                    </td><td>ffdm_2                                </td></tr>\n",
       "\t<tr><th scope=row>2067</th><td>10x.AAACCTGGTGGGTCAA-1.filtered.vcf.gz</td><td>ffdm                                  </td><td>228                                   </td><td>228                                   </td><td>228                                   </td><td>1.0000000                             </td><td>False                                 </td><td>AAACCTGGTGGGTCAA-1                    </td><td>1                                     </td><td>AAACCTGGTGGGTCAA-1_1                  </td><td>NA                                    </td><td>NA                                    </td><td>ffdm_2                                </td></tr>\n",
       "\t<tr><th scope=row>2557</th><td>10x.AAACCTGTCACTTATC-1.filtered.vcf.gz</td><td>ffdm                                  </td><td>212                                   </td><td>212                                   </td><td>212                                   </td><td>1.0000000                             </td><td>False                                 </td><td>AAACCTGTCACTTATC-1                    </td><td>1                                     </td><td>AAACCTGTCACTTATC-1_1                  </td><td>NA                                    </td><td>NA                                    </td><td>ffdm_2                                </td></tr>\n",
       "</tbody>\n",
       "</table>\n"
      ],
      "text/latex": [
       "\\begin{tabular}{r|lllllllllllll}\n",
       "  & sample\\_id & donor & nvars\\_called & nvars\\_ovlap\\_hipsci & nvars\\_used & post\\_prob & used\\_in\\_expt & barcode & dataset & cell\\_id & n\\_total\\_reads & n\\_alt\\_reads & donor\\_short\\_id\\\\\n",
       "\\hline\n",
       "\t107 & 10x.AAACCTGAGCCTCGTG-1.filtered.vcf.gz & ffdm                                   & 120                                    & 120                                    & 120                                    & 0.9944113                              & False                                  & AAACCTGAGCCTCGTG-1                     & 1                                      & AAACCTGAGCCTCGTG-1\\_1                 & NA                                     & NA                                     & ffdm\\_2                              \\\\\n",
       "\t597 & 10x.AAACCTGAGGCCCTCA-1.filtered.vcf.gz & ffdm                                   & 203                                    & 203                                    & 203                                    & 0.9999976                              & False                                  & AAACCTGAGGCCCTCA-1                     & 1                                      & AAACCTGAGGCCCTCA-1\\_1                 & NA                                     & NA                                     & ffdm\\_2                              \\\\\n",
       "\t1087 & 10x.AAACCTGAGTACGTTC-1.filtered.vcf.gz & ffdm                                   & 226                                    & 226                                    & 226                                    & 1.0000000                              & False                                  & AAACCTGAGTACGTTC-1                     & 1                                      & AAACCTGAGTACGTTC-1\\_1                 & NA                                     & NA                                     & ffdm\\_2                              \\\\\n",
       "\t1577 & 10x.AAACCTGGTATGCTTG-1.filtered.vcf.gz & ffdm                                   & 124                                    & 124                                    & 124                                    & 1.0000000                              & False                                  & AAACCTGGTATGCTTG-1                     & 1                                      & AAACCTGGTATGCTTG-1\\_1                 & NA                                     & NA                                     & ffdm\\_2                              \\\\\n",
       "\t2067 & 10x.AAACCTGGTGGGTCAA-1.filtered.vcf.gz & ffdm                                   & 228                                    & 228                                    & 228                                    & 1.0000000                              & False                                  & AAACCTGGTGGGTCAA-1                     & 1                                      & AAACCTGGTGGGTCAA-1\\_1                 & NA                                     & NA                                     & ffdm\\_2                              \\\\\n",
       "\t2557 & 10x.AAACCTGTCACTTATC-1.filtered.vcf.gz & ffdm                                   & 212                                    & 212                                    & 212                                    & 1.0000000                              & False                                  & AAACCTGTCACTTATC-1                     & 1                                      & AAACCTGTCACTTATC-1\\_1                 & NA                                     & NA                                     & ffdm\\_2                              \\\\\n",
       "\\end{tabular}\n"
      ],
      "text/markdown": [
       "\n",
       "| <!--/--> | sample_id | donor | nvars_called | nvars_ovlap_hipsci | nvars_used | post_prob | used_in_expt | barcode | dataset | cell_id | n_total_reads | n_alt_reads | donor_short_id | \n",
       "|---|---|---|---|---|---|\n",
       "| 107 | 10x.AAACCTGAGCCTCGTG-1.filtered.vcf.gz | ffdm                                   | 120                                    | 120                                    | 120                                    | 0.9944113                              | False                                  | AAACCTGAGCCTCGTG-1                     | 1                                      | AAACCTGAGCCTCGTG-1_1                   | NA                                     | NA                                     | ffdm_2                                 | \n",
       "| 597 | 10x.AAACCTGAGGCCCTCA-1.filtered.vcf.gz | ffdm                                   | 203                                    | 203                                    | 203                                    | 0.9999976                              | False                                  | AAACCTGAGGCCCTCA-1                     | 1                                      | AAACCTGAGGCCCTCA-1_1                   | NA                                     | NA                                     | ffdm_2                                 | \n",
       "| 1087 | 10x.AAACCTGAGTACGTTC-1.filtered.vcf.gz | ffdm                                   | 226                                    | 226                                    | 226                                    | 1.0000000                              | False                                  | AAACCTGAGTACGTTC-1                     | 1                                      | AAACCTGAGTACGTTC-1_1                   | NA                                     | NA                                     | ffdm_2                                 | \n",
       "| 1577 | 10x.AAACCTGGTATGCTTG-1.filtered.vcf.gz | ffdm                                   | 124                                    | 124                                    | 124                                    | 1.0000000                              | False                                  | AAACCTGGTATGCTTG-1                     | 1                                      | AAACCTGGTATGCTTG-1_1                   | NA                                     | NA                                     | ffdm_2                                 | \n",
       "| 2067 | 10x.AAACCTGGTGGGTCAA-1.filtered.vcf.gz | ffdm                                   | 228                                    | 228                                    | 228                                    | 1.0000000                              | False                                  | AAACCTGGTGGGTCAA-1                     | 1                                      | AAACCTGGTGGGTCAA-1_1                   | NA                                     | NA                                     | ffdm_2                                 | \n",
       "| 2557 | 10x.AAACCTGTCACTTATC-1.filtered.vcf.gz | ffdm                                   | 212                                    | 212                                    | 212                                    | 1.0000000                              | False                                  | AAACCTGTCACTTATC-1                     | 1                                      | AAACCTGTCACTTATC-1_1                   | NA                                     | NA                                     | ffdm_2                                 | \n",
       "\n",
       "\n"
      ],
      "text/plain": [
       "     sample_id                              donor nvars_called\n",
       "107  10x.AAACCTGAGCCTCGTG-1.filtered.vcf.gz ffdm  120         \n",
       "597  10x.AAACCTGAGGCCCTCA-1.filtered.vcf.gz ffdm  203         \n",
       "1087 10x.AAACCTGAGTACGTTC-1.filtered.vcf.gz ffdm  226         \n",
       "1577 10x.AAACCTGGTATGCTTG-1.filtered.vcf.gz ffdm  124         \n",
       "2067 10x.AAACCTGGTGGGTCAA-1.filtered.vcf.gz ffdm  228         \n",
       "2557 10x.AAACCTGTCACTTATC-1.filtered.vcf.gz ffdm  212         \n",
       "     nvars_ovlap_hipsci nvars_used post_prob used_in_expt barcode           \n",
       "107  120                120        0.9944113 False        AAACCTGAGCCTCGTG-1\n",
       "597  203                203        0.9999976 False        AAACCTGAGGCCCTCA-1\n",
       "1087 226                226        1.0000000 False        AAACCTGAGTACGTTC-1\n",
       "1577 124                124        1.0000000 False        AAACCTGGTATGCTTG-1\n",
       "2067 228                228        1.0000000 False        AAACCTGGTGGGTCAA-1\n",
       "2557 212                212        1.0000000 False        AAACCTGTCACTTATC-1\n",
       "     dataset cell_id              n_total_reads n_alt_reads donor_short_id\n",
       "107  1       AAACCTGAGCCTCGTG-1_1 NA            NA          ffdm_2        \n",
       "597  1       AAACCTGAGGCCCTCA-1_1 NA            NA          ffdm_2        \n",
       "1087 1       AAACCTGAGTACGTTC-1_1 NA            NA          ffdm_2        \n",
       "1577 1       AAACCTGGTATGCTTG-1_1 NA            NA          ffdm_2        \n",
       "2067 1       AAACCTGGTGGGTCAA-1_1 NA            NA          ffdm_2        \n",
       "2557 1       AAACCTGTCACTTATC-1_1 NA            NA          ffdm_2        "
      ]
     },
     "metadata": {},
     "output_type": "display_data"
    }
   ],
   "source": [
    "head(d)"
   ]
  },
  {
   "cell_type": "code",
   "execution_count": 40,
   "metadata": {},
   "outputs": [],
   "source": [
    "donor_long_ids = read.table(\"/hps/nobackup/hipsci/scratch/genotypes/imputed/REL-2018-01/GeneticRiskScores/1000G_Harmonized_CallR1/All.normalized.sample\", header = T)"
   ]
  },
  {
   "cell_type": "code",
   "execution_count": 41,
   "metadata": {},
   "outputs": [],
   "source": [
    "donor_long_ids$donor_short_id = gsub(\".*-\",\"\",donor_long_ids$ID_2)"
   ]
  },
  {
   "cell_type": "code",
   "execution_count": 42,
   "metadata": {},
   "outputs": [
    {
     "data": {
      "text/html": [
       "<table>\n",
       "<thead><tr><th scope=col>ID_1</th><th scope=col>ID_2</th><th scope=col>missing</th><th scope=col>donor_short_id</th></tr></thead>\n",
       "<tbody>\n",
       "\t<tr><td> 0              </td><td>0               </td><td>0               </td><td>0               </td></tr>\n",
       "\t<tr><td>NA              </td><td>HPSI0216i-tony_5</td><td>0               </td><td>tony_5          </td></tr>\n",
       "\t<tr><td>NA              </td><td>HPSI0316i-pecz_2</td><td>0               </td><td>pecz_2          </td></tr>\n",
       "\t<tr><td>NA              </td><td>HPSI0216pf-tony </td><td>0               </td><td>tony            </td></tr>\n",
       "\t<tr><td>NA              </td><td>HPSI0316pf-zuik </td><td>0               </td><td>zuik            </td></tr>\n",
       "\t<tr><td>NA              </td><td>HPSI0316i-xaqm_4</td><td>0               </td><td>xaqm_4          </td></tr>\n",
       "</tbody>\n",
       "</table>\n"
      ],
      "text/latex": [
       "\\begin{tabular}{r|llll}\n",
       " ID\\_1 & ID\\_2 & missing & donor\\_short\\_id\\\\\n",
       "\\hline\n",
       "\t  0               & 0                & 0                & 0               \\\\\n",
       "\t NA                 & HPSI0216i-tony\\_5 & 0                  & tony\\_5          \\\\\n",
       "\t NA                 & HPSI0316i-pecz\\_2 & 0                  & pecz\\_2          \\\\\n",
       "\t NA               & HPSI0216pf-tony  & 0                & tony            \\\\\n",
       "\t NA               & HPSI0316pf-zuik  & 0                & zuik            \\\\\n",
       "\t NA                 & HPSI0316i-xaqm\\_4 & 0                  & xaqm\\_4          \\\\\n",
       "\\end{tabular}\n"
      ],
      "text/markdown": [
       "\n",
       "ID_1 | ID_2 | missing | donor_short_id | \n",
       "|---|---|---|---|---|---|\n",
       "|  0               | 0                | 0                | 0                | \n",
       "| NA               | HPSI0216i-tony_5 | 0                | tony_5           | \n",
       "| NA               | HPSI0316i-pecz_2 | 0                | pecz_2           | \n",
       "| NA               | HPSI0216pf-tony  | 0                | tony             | \n",
       "| NA               | HPSI0316pf-zuik  | 0                | zuik             | \n",
       "| NA               | HPSI0316i-xaqm_4 | 0                | xaqm_4           | \n",
       "\n",
       "\n"
      ],
      "text/plain": [
       "  ID_1 ID_2             missing donor_short_id\n",
       "1  0   0                0       0             \n",
       "2 NA   HPSI0216i-tony_5 0       tony_5        \n",
       "3 NA   HPSI0316i-pecz_2 0       pecz_2        \n",
       "4 NA   HPSI0216pf-tony  0       tony          \n",
       "5 NA   HPSI0316pf-zuik  0       zuik          \n",
       "6 NA   HPSI0316i-xaqm_4 0       xaqm_4        "
      ]
     },
     "metadata": {},
     "output_type": "display_data"
    }
   ],
   "source": [
    "head(donor_long_ids)"
   ]
  },
  {
   "cell_type": "code",
   "execution_count": 43,
   "metadata": {},
   "outputs": [
    {
     "data": {
      "text/html": [
       "<ol class=list-inline>\n",
       "\t<li>16944</li>\n",
       "\t<li>15</li>\n",
       "</ol>\n"
      ],
      "text/latex": [
       "\\begin{enumerate*}\n",
       "\\item 16944\n",
       "\\item 15\n",
       "\\end{enumerate*}\n"
      ],
      "text/markdown": [
       "1. 16944\n",
       "2. 15\n",
       "\n",
       "\n"
      ],
      "text/plain": [
       "[1] 16944    15"
      ]
     },
     "metadata": {},
     "output_type": "display_data"
    },
    {
     "data": {
      "text/html": [
       "<table>\n",
       "<thead><tr><th scope=col>sample_id</th><th scope=col>donor</th><th scope=col>nvars_called</th><th scope=col>nvars_ovlap_hipsci</th><th scope=col>nvars_used</th><th scope=col>post_prob</th><th scope=col>used_in_expt</th><th scope=col>barcode.x</th><th scope=col>dataset</th><th scope=col>cell_id</th><th scope=col>n_total_reads</th><th scope=col>n_alt_reads</th><th scope=col>donor_short_id</th><th scope=col>barcode.y</th><th scope=col>run</th></tr></thead>\n",
       "<tbody>\n",
       "\t<tr><td>10x.AAACCTGAGCCTCGTG-1.filtered.vcf.gz                                 </td><td>ffdm                                                                   </td><td>120                                                                    </td><td>120                                                                    </td><td>120                                                                    </td><td>0.9944113                                                              </td><td>False                                                                  </td><td>AAACCTGAGCCTCGTG-1                                                     </td><td>1                                                                      </td><td>AAACCTGAGCCTCGTG-1_1                                                   </td><td>NA                                                                     </td><td>NA                                                                     </td><td>ffdm_2                                                                 </td><td>AAACCTGAGCCTCGTG                                                       </td><td>cellranger201_count_22950_3_1000Genomes_hs37d5-ensembl_75_transcriptome</td></tr>\n",
       "\t<tr><td>10x.AAACCTGAGGCCCTCA-1.filtered.vcf.gz                                 </td><td>ffdm                                                                   </td><td>203                                                                    </td><td>203                                                                    </td><td>203                                                                    </td><td>0.9999976                                                              </td><td>False                                                                  </td><td>AAACCTGAGGCCCTCA-1                                                     </td><td>1                                                                      </td><td>AAACCTGAGGCCCTCA-1_1                                                   </td><td>NA                                                                     </td><td>NA                                                                     </td><td>ffdm_2                                                                 </td><td>AAACCTGAGGCCCTCA                                                       </td><td>cellranger201_count_22950_3_1000Genomes_hs37d5-ensembl_75_transcriptome</td></tr>\n",
       "\t<tr><td>10x.AAACCTGAGTACGTTC-1.filtered.vcf.gz                                 </td><td>ffdm                                                                   </td><td>226                                                                    </td><td>226                                                                    </td><td>226                                                                    </td><td>1.0000000                                                              </td><td>False                                                                  </td><td>AAACCTGAGTACGTTC-1                                                     </td><td>1                                                                      </td><td>AAACCTGAGTACGTTC-1_1                                                   </td><td>NA                                                                     </td><td>NA                                                                     </td><td>ffdm_2                                                                 </td><td>AAACCTGAGTACGTTC                                                       </td><td>cellranger201_count_22950_3_1000Genomes_hs37d5-ensembl_75_transcriptome</td></tr>\n",
       "\t<tr><td>10x.AAACCTGGTATGCTTG-1.filtered.vcf.gz                                 </td><td>ffdm                                                                   </td><td>124                                                                    </td><td>124                                                                    </td><td>124                                                                    </td><td>1.0000000                                                              </td><td>False                                                                  </td><td>AAACCTGGTATGCTTG-1                                                     </td><td>1                                                                      </td><td>AAACCTGGTATGCTTG-1_1                                                   </td><td>NA                                                                     </td><td>NA                                                                     </td><td>ffdm_2                                                                 </td><td>AAACCTGGTATGCTTG                                                       </td><td>cellranger201_count_22950_3_1000Genomes_hs37d5-ensembl_75_transcriptome</td></tr>\n",
       "\t<tr><td>10x.AAACCTGGTGGGTCAA-1.filtered.vcf.gz                                 </td><td>ffdm                                                                   </td><td>228                                                                    </td><td>228                                                                    </td><td>228                                                                    </td><td>1.0000000                                                              </td><td>False                                                                  </td><td>AAACCTGGTGGGTCAA-1                                                     </td><td>1                                                                      </td><td>AAACCTGGTGGGTCAA-1_1                                                   </td><td>NA                                                                     </td><td>NA                                                                     </td><td>ffdm_2                                                                 </td><td>AAACCTGGTGGGTCAA                                                       </td><td>cellranger201_count_22950_3_1000Genomes_hs37d5-ensembl_75_transcriptome</td></tr>\n",
       "\t<tr><td>10x.AAACCTGTCACTTATC-1.filtered.vcf.gz                                 </td><td>ffdm                                                                   </td><td>212                                                                    </td><td>212                                                                    </td><td>212                                                                    </td><td>1.0000000                                                              </td><td>False                                                                  </td><td>AAACCTGTCACTTATC-1                                                     </td><td>1                                                                      </td><td>AAACCTGTCACTTATC-1_1                                                   </td><td>NA                                                                     </td><td>NA                                                                     </td><td>ffdm_2                                                                 </td><td>AAACCTGTCACTTATC                                                       </td><td>cellranger201_count_22950_3_1000Genomes_hs37d5-ensembl_75_transcriptome</td></tr>\n",
       "</tbody>\n",
       "</table>\n"
      ],
      "text/latex": [
       "\\begin{tabular}{r|lllllllllllllll}\n",
       " sample\\_id & donor & nvars\\_called & nvars\\_ovlap\\_hipsci & nvars\\_used & post\\_prob & used\\_in\\_expt & barcode.x & dataset & cell\\_id & n\\_total\\_reads & n\\_alt\\_reads & donor\\_short\\_id & barcode.y & run\\\\\n",
       "\\hline\n",
       "\t 10x.AAACCTGAGCCTCGTG-1.filtered.vcf.gz                                                & ffdm                                                                                  & 120                                                                                   & 120                                                                                   & 120                                                                                   & 0.9944113                                                                             & False                                                                                 & AAACCTGAGCCTCGTG-1                                                                    & 1                                                                                     & AAACCTGAGCCTCGTG-1\\_1                                                                & NA                                                                                    & NA                                                                                    & ffdm\\_2                                                                              & AAACCTGAGCCTCGTG                                                                      & cellranger201\\_count\\_22950\\_3\\_1000Genomes\\_hs37d5-ensembl\\_75\\_transcriptome\\\\\n",
       "\t 10x.AAACCTGAGGCCCTCA-1.filtered.vcf.gz                                                & ffdm                                                                                  & 203                                                                                   & 203                                                                                   & 203                                                                                   & 0.9999976                                                                             & False                                                                                 & AAACCTGAGGCCCTCA-1                                                                    & 1                                                                                     & AAACCTGAGGCCCTCA-1\\_1                                                                & NA                                                                                    & NA                                                                                    & ffdm\\_2                                                                              & AAACCTGAGGCCCTCA                                                                      & cellranger201\\_count\\_22950\\_3\\_1000Genomes\\_hs37d5-ensembl\\_75\\_transcriptome\\\\\n",
       "\t 10x.AAACCTGAGTACGTTC-1.filtered.vcf.gz                                                & ffdm                                                                                  & 226                                                                                   & 226                                                                                   & 226                                                                                   & 1.0000000                                                                             & False                                                                                 & AAACCTGAGTACGTTC-1                                                                    & 1                                                                                     & AAACCTGAGTACGTTC-1\\_1                                                                & NA                                                                                    & NA                                                                                    & ffdm\\_2                                                                              & AAACCTGAGTACGTTC                                                                      & cellranger201\\_count\\_22950\\_3\\_1000Genomes\\_hs37d5-ensembl\\_75\\_transcriptome\\\\\n",
       "\t 10x.AAACCTGGTATGCTTG-1.filtered.vcf.gz                                                & ffdm                                                                                  & 124                                                                                   & 124                                                                                   & 124                                                                                   & 1.0000000                                                                             & False                                                                                 & AAACCTGGTATGCTTG-1                                                                    & 1                                                                                     & AAACCTGGTATGCTTG-1\\_1                                                                & NA                                                                                    & NA                                                                                    & ffdm\\_2                                                                              & AAACCTGGTATGCTTG                                                                      & cellranger201\\_count\\_22950\\_3\\_1000Genomes\\_hs37d5-ensembl\\_75\\_transcriptome\\\\\n",
       "\t 10x.AAACCTGGTGGGTCAA-1.filtered.vcf.gz                                                & ffdm                                                                                  & 228                                                                                   & 228                                                                                   & 228                                                                                   & 1.0000000                                                                             & False                                                                                 & AAACCTGGTGGGTCAA-1                                                                    & 1                                                                                     & AAACCTGGTGGGTCAA-1\\_1                                                                & NA                                                                                    & NA                                                                                    & ffdm\\_2                                                                              & AAACCTGGTGGGTCAA                                                                      & cellranger201\\_count\\_22950\\_3\\_1000Genomes\\_hs37d5-ensembl\\_75\\_transcriptome\\\\\n",
       "\t 10x.AAACCTGTCACTTATC-1.filtered.vcf.gz                                                & ffdm                                                                                  & 212                                                                                   & 212                                                                                   & 212                                                                                   & 1.0000000                                                                             & False                                                                                 & AAACCTGTCACTTATC-1                                                                    & 1                                                                                     & AAACCTGTCACTTATC-1\\_1                                                                & NA                                                                                    & NA                                                                                    & ffdm\\_2                                                                              & AAACCTGTCACTTATC                                                                      & cellranger201\\_count\\_22950\\_3\\_1000Genomes\\_hs37d5-ensembl\\_75\\_transcriptome\\\\\n",
       "\\end{tabular}\n"
      ],
      "text/markdown": [
       "\n",
       "sample_id | donor | nvars_called | nvars_ovlap_hipsci | nvars_used | post_prob | used_in_expt | barcode.x | dataset | cell_id | n_total_reads | n_alt_reads | donor_short_id | barcode.y | run | \n",
       "|---|---|---|---|---|---|\n",
       "| 10x.AAACCTGAGCCTCGTG-1.filtered.vcf.gz                                  | ffdm                                                                    | 120                                                                     | 120                                                                     | 120                                                                     | 0.9944113                                                               | False                                                                   | AAACCTGAGCCTCGTG-1                                                      | 1                                                                       | AAACCTGAGCCTCGTG-1_1                                                    | NA                                                                      | NA                                                                      | ffdm_2                                                                  | AAACCTGAGCCTCGTG                                                        | cellranger201_count_22950_3_1000Genomes_hs37d5-ensembl_75_transcriptome | \n",
       "| 10x.AAACCTGAGGCCCTCA-1.filtered.vcf.gz                                  | ffdm                                                                    | 203                                                                     | 203                                                                     | 203                                                                     | 0.9999976                                                               | False                                                                   | AAACCTGAGGCCCTCA-1                                                      | 1                                                                       | AAACCTGAGGCCCTCA-1_1                                                    | NA                                                                      | NA                                                                      | ffdm_2                                                                  | AAACCTGAGGCCCTCA                                                        | cellranger201_count_22950_3_1000Genomes_hs37d5-ensembl_75_transcriptome | \n",
       "| 10x.AAACCTGAGTACGTTC-1.filtered.vcf.gz                                  | ffdm                                                                    | 226                                                                     | 226                                                                     | 226                                                                     | 1.0000000                                                               | False                                                                   | AAACCTGAGTACGTTC-1                                                      | 1                                                                       | AAACCTGAGTACGTTC-1_1                                                    | NA                                                                      | NA                                                                      | ffdm_2                                                                  | AAACCTGAGTACGTTC                                                        | cellranger201_count_22950_3_1000Genomes_hs37d5-ensembl_75_transcriptome | \n",
       "| 10x.AAACCTGGTATGCTTG-1.filtered.vcf.gz                                  | ffdm                                                                    | 124                                                                     | 124                                                                     | 124                                                                     | 1.0000000                                                               | False                                                                   | AAACCTGGTATGCTTG-1                                                      | 1                                                                       | AAACCTGGTATGCTTG-1_1                                                    | NA                                                                      | NA                                                                      | ffdm_2                                                                  | AAACCTGGTATGCTTG                                                        | cellranger201_count_22950_3_1000Genomes_hs37d5-ensembl_75_transcriptome | \n",
       "| 10x.AAACCTGGTGGGTCAA-1.filtered.vcf.gz                                  | ffdm                                                                    | 228                                                                     | 228                                                                     | 228                                                                     | 1.0000000                                                               | False                                                                   | AAACCTGGTGGGTCAA-1                                                      | 1                                                                       | AAACCTGGTGGGTCAA-1_1                                                    | NA                                                                      | NA                                                                      | ffdm_2                                                                  | AAACCTGGTGGGTCAA                                                        | cellranger201_count_22950_3_1000Genomes_hs37d5-ensembl_75_transcriptome | \n",
       "| 10x.AAACCTGTCACTTATC-1.filtered.vcf.gz                                  | ffdm                                                                    | 212                                                                     | 212                                                                     | 212                                                                     | 1.0000000                                                               | False                                                                   | AAACCTGTCACTTATC-1                                                      | 1                                                                       | AAACCTGTCACTTATC-1_1                                                    | NA                                                                      | NA                                                                      | ffdm_2                                                                  | AAACCTGTCACTTATC                                                        | cellranger201_count_22950_3_1000Genomes_hs37d5-ensembl_75_transcriptome | \n",
       "\n",
       "\n"
      ],
      "text/plain": [
       "  sample_id                              donor nvars_called nvars_ovlap_hipsci\n",
       "1 10x.AAACCTGAGCCTCGTG-1.filtered.vcf.gz ffdm  120          120               \n",
       "2 10x.AAACCTGAGGCCCTCA-1.filtered.vcf.gz ffdm  203          203               \n",
       "3 10x.AAACCTGAGTACGTTC-1.filtered.vcf.gz ffdm  226          226               \n",
       "4 10x.AAACCTGGTATGCTTG-1.filtered.vcf.gz ffdm  124          124               \n",
       "5 10x.AAACCTGGTGGGTCAA-1.filtered.vcf.gz ffdm  228          228               \n",
       "6 10x.AAACCTGTCACTTATC-1.filtered.vcf.gz ffdm  212          212               \n",
       "  nvars_used post_prob used_in_expt barcode.x          dataset\n",
       "1 120        0.9944113 False        AAACCTGAGCCTCGTG-1 1      \n",
       "2 203        0.9999976 False        AAACCTGAGGCCCTCA-1 1      \n",
       "3 226        1.0000000 False        AAACCTGAGTACGTTC-1 1      \n",
       "4 124        1.0000000 False        AAACCTGGTATGCTTG-1 1      \n",
       "5 228        1.0000000 False        AAACCTGGTGGGTCAA-1 1      \n",
       "6 212        1.0000000 False        AAACCTGTCACTTATC-1 1      \n",
       "  cell_id              n_total_reads n_alt_reads donor_short_id\n",
       "1 AAACCTGAGCCTCGTG-1_1 NA            NA          ffdm_2        \n",
       "2 AAACCTGAGGCCCTCA-1_1 NA            NA          ffdm_2        \n",
       "3 AAACCTGAGTACGTTC-1_1 NA            NA          ffdm_2        \n",
       "4 AAACCTGGTATGCTTG-1_1 NA            NA          ffdm_2        \n",
       "5 AAACCTGGTGGGTCAA-1_1 NA            NA          ffdm_2        \n",
       "6 AAACCTGTCACTTATC-1_1 NA            NA          ffdm_2        \n",
       "  barcode.y       \n",
       "1 AAACCTGAGCCTCGTG\n",
       "2 AAACCTGAGGCCCTCA\n",
       "3 AAACCTGAGTACGTTC\n",
       "4 AAACCTGGTATGCTTG\n",
       "5 AAACCTGGTGGGTCAA\n",
       "6 AAACCTGTCACTTATC\n",
       "  run                                                                    \n",
       "1 cellranger201_count_22950_3_1000Genomes_hs37d5-ensembl_75_transcriptome\n",
       "2 cellranger201_count_22950_3_1000Genomes_hs37d5-ensembl_75_transcriptome\n",
       "3 cellranger201_count_22950_3_1000Genomes_hs37d5-ensembl_75_transcriptome\n",
       "4 cellranger201_count_22950_3_1000Genomes_hs37d5-ensembl_75_transcriptome\n",
       "5 cellranger201_count_22950_3_1000Genomes_hs37d5-ensembl_75_transcriptome\n",
       "6 cellranger201_count_22950_3_1000Genomes_hs37d5-ensembl_75_transcriptome"
      ]
     },
     "metadata": {},
     "output_type": "display_data"
    }
   ],
   "source": [
    "matches = inner_join(d, sample_mapping, by = c(\"dataset\",\"cell_id\"))\n",
    "dim(matches)\n",
    "head(matches)"
   ]
  },
  {
   "cell_type": "code",
   "execution_count": 45,
   "metadata": {},
   "outputs": [
    {
     "data": {
      "text/html": [
       "<ol class=list-inline>\n",
       "\t<li>16944</li>\n",
       "\t<li>16</li>\n",
       "</ol>\n"
      ],
      "text/latex": [
       "\\begin{enumerate*}\n",
       "\\item 16944\n",
       "\\item 16\n",
       "\\end{enumerate*}\n"
      ],
      "text/markdown": [
       "1. 16944\n",
       "2. 16\n",
       "\n",
       "\n"
      ],
      "text/plain": [
       "[1] 16944    16"
      ]
     },
     "metadata": {},
     "output_type": "display_data"
    },
    {
     "data": {
      "text/html": [
       "<table>\n",
       "<thead><tr><th scope=col>sample_id</th><th scope=col>donor</th><th scope=col>nvars_called</th><th scope=col>nvars_ovlap_hipsci</th><th scope=col>nvars_used</th><th scope=col>post_prob</th><th scope=col>used_in_expt</th><th scope=col>barcode.x</th><th scope=col>dataset</th><th scope=col>cell_id</th><th scope=col>n_total_reads</th><th scope=col>n_alt_reads</th><th scope=col>donor_short_id</th><th scope=col>barcode.y</th><th scope=col>run</th><th scope=col>ID_2</th></tr></thead>\n",
       "<tbody>\n",
       "\t<tr><td>10x.AAACCTGAGCCTCGTG-1.filtered.vcf.gz                                 </td><td>ffdm                                                                   </td><td>120                                                                    </td><td>120                                                                    </td><td>120                                                                    </td><td>0.9944113                                                              </td><td>False                                                                  </td><td>AAACCTGAGCCTCGTG-1                                                     </td><td>1                                                                      </td><td>AAACCTGAGCCTCGTG-1_1                                                   </td><td>NA                                                                     </td><td>NA                                                                     </td><td>ffdm_2                                                                 </td><td>AAACCTGAGCCTCGTG                                                       </td><td>cellranger201_count_22950_3_1000Genomes_hs37d5-ensembl_75_transcriptome</td><td>HPSI0813i-ffdm_2                                                       </td></tr>\n",
       "\t<tr><td>10x.AAACCTGAGGCCCTCA-1.filtered.vcf.gz                                 </td><td>ffdm                                                                   </td><td>203                                                                    </td><td>203                                                                    </td><td>203                                                                    </td><td>0.9999976                                                              </td><td>False                                                                  </td><td>AAACCTGAGGCCCTCA-1                                                     </td><td>1                                                                      </td><td>AAACCTGAGGCCCTCA-1_1                                                   </td><td>NA                                                                     </td><td>NA                                                                     </td><td>ffdm_2                                                                 </td><td>AAACCTGAGGCCCTCA                                                       </td><td>cellranger201_count_22950_3_1000Genomes_hs37d5-ensembl_75_transcriptome</td><td>HPSI0813i-ffdm_2                                                       </td></tr>\n",
       "\t<tr><td>10x.AAACCTGAGTACGTTC-1.filtered.vcf.gz                                 </td><td>ffdm                                                                   </td><td>226                                                                    </td><td>226                                                                    </td><td>226                                                                    </td><td>1.0000000                                                              </td><td>False                                                                  </td><td>AAACCTGAGTACGTTC-1                                                     </td><td>1                                                                      </td><td>AAACCTGAGTACGTTC-1_1                                                   </td><td>NA                                                                     </td><td>NA                                                                     </td><td>ffdm_2                                                                 </td><td>AAACCTGAGTACGTTC                                                       </td><td>cellranger201_count_22950_3_1000Genomes_hs37d5-ensembl_75_transcriptome</td><td>HPSI0813i-ffdm_2                                                       </td></tr>\n",
       "\t<tr><td>10x.AAACCTGGTATGCTTG-1.filtered.vcf.gz                                 </td><td>ffdm                                                                   </td><td>124                                                                    </td><td>124                                                                    </td><td>124                                                                    </td><td>1.0000000                                                              </td><td>False                                                                  </td><td>AAACCTGGTATGCTTG-1                                                     </td><td>1                                                                      </td><td>AAACCTGGTATGCTTG-1_1                                                   </td><td>NA                                                                     </td><td>NA                                                                     </td><td>ffdm_2                                                                 </td><td>AAACCTGGTATGCTTG                                                       </td><td>cellranger201_count_22950_3_1000Genomes_hs37d5-ensembl_75_transcriptome</td><td>HPSI0813i-ffdm_2                                                       </td></tr>\n",
       "\t<tr><td>10x.AAACCTGGTGGGTCAA-1.filtered.vcf.gz                                 </td><td>ffdm                                                                   </td><td>228                                                                    </td><td>228                                                                    </td><td>228                                                                    </td><td>1.0000000                                                              </td><td>False                                                                  </td><td>AAACCTGGTGGGTCAA-1                                                     </td><td>1                                                                      </td><td>AAACCTGGTGGGTCAA-1_1                                                   </td><td>NA                                                                     </td><td>NA                                                                     </td><td>ffdm_2                                                                 </td><td>AAACCTGGTGGGTCAA                                                       </td><td>cellranger201_count_22950_3_1000Genomes_hs37d5-ensembl_75_transcriptome</td><td>HPSI0813i-ffdm_2                                                       </td></tr>\n",
       "\t<tr><td>10x.AAACCTGTCACTTATC-1.filtered.vcf.gz                                 </td><td>ffdm                                                                   </td><td>212                                                                    </td><td>212                                                                    </td><td>212                                                                    </td><td>1.0000000                                                              </td><td>False                                                                  </td><td>AAACCTGTCACTTATC-1                                                     </td><td>1                                                                      </td><td>AAACCTGTCACTTATC-1_1                                                   </td><td>NA                                                                     </td><td>NA                                                                     </td><td>ffdm_2                                                                 </td><td>AAACCTGTCACTTATC                                                       </td><td>cellranger201_count_22950_3_1000Genomes_hs37d5-ensembl_75_transcriptome</td><td>HPSI0813i-ffdm_2                                                       </td></tr>\n",
       "</tbody>\n",
       "</table>\n"
      ],
      "text/latex": [
       "\\begin{tabular}{r|llllllllllllllll}\n",
       " sample\\_id & donor & nvars\\_called & nvars\\_ovlap\\_hipsci & nvars\\_used & post\\_prob & used\\_in\\_expt & barcode.x & dataset & cell\\_id & n\\_total\\_reads & n\\_alt\\_reads & donor\\_short\\_id & barcode.y & run & ID\\_2\\\\\n",
       "\\hline\n",
       "\t 10x.AAACCTGAGCCTCGTG-1.filtered.vcf.gz                                                & ffdm                                                                                  & 120                                                                                   & 120                                                                                   & 120                                                                                   & 0.9944113                                                                             & False                                                                                 & AAACCTGAGCCTCGTG-1                                                                    & 1                                                                                     & AAACCTGAGCCTCGTG-1\\_1                                                                & NA                                                                                    & NA                                                                                    & ffdm\\_2                                                                              & AAACCTGAGCCTCGTG                                                                      & cellranger201\\_count\\_22950\\_3\\_1000Genomes\\_hs37d5-ensembl\\_75\\_transcriptome & HPSI0813i-ffdm\\_2                                                                   \\\\\n",
       "\t 10x.AAACCTGAGGCCCTCA-1.filtered.vcf.gz                                                & ffdm                                                                                  & 203                                                                                   & 203                                                                                   & 203                                                                                   & 0.9999976                                                                             & False                                                                                 & AAACCTGAGGCCCTCA-1                                                                    & 1                                                                                     & AAACCTGAGGCCCTCA-1\\_1                                                                & NA                                                                                    & NA                                                                                    & ffdm\\_2                                                                              & AAACCTGAGGCCCTCA                                                                      & cellranger201\\_count\\_22950\\_3\\_1000Genomes\\_hs37d5-ensembl\\_75\\_transcriptome & HPSI0813i-ffdm\\_2                                                                   \\\\\n",
       "\t 10x.AAACCTGAGTACGTTC-1.filtered.vcf.gz                                                & ffdm                                                                                  & 226                                                                                   & 226                                                                                   & 226                                                                                   & 1.0000000                                                                             & False                                                                                 & AAACCTGAGTACGTTC-1                                                                    & 1                                                                                     & AAACCTGAGTACGTTC-1\\_1                                                                & NA                                                                                    & NA                                                                                    & ffdm\\_2                                                                              & AAACCTGAGTACGTTC                                                                      & cellranger201\\_count\\_22950\\_3\\_1000Genomes\\_hs37d5-ensembl\\_75\\_transcriptome & HPSI0813i-ffdm\\_2                                                                   \\\\\n",
       "\t 10x.AAACCTGGTATGCTTG-1.filtered.vcf.gz                                                & ffdm                                                                                  & 124                                                                                   & 124                                                                                   & 124                                                                                   & 1.0000000                                                                             & False                                                                                 & AAACCTGGTATGCTTG-1                                                                    & 1                                                                                     & AAACCTGGTATGCTTG-1\\_1                                                                & NA                                                                                    & NA                                                                                    & ffdm\\_2                                                                              & AAACCTGGTATGCTTG                                                                      & cellranger201\\_count\\_22950\\_3\\_1000Genomes\\_hs37d5-ensembl\\_75\\_transcriptome & HPSI0813i-ffdm\\_2                                                                   \\\\\n",
       "\t 10x.AAACCTGGTGGGTCAA-1.filtered.vcf.gz                                                & ffdm                                                                                  & 228                                                                                   & 228                                                                                   & 228                                                                                   & 1.0000000                                                                             & False                                                                                 & AAACCTGGTGGGTCAA-1                                                                    & 1                                                                                     & AAACCTGGTGGGTCAA-1\\_1                                                                & NA                                                                                    & NA                                                                                    & ffdm\\_2                                                                              & AAACCTGGTGGGTCAA                                                                      & cellranger201\\_count\\_22950\\_3\\_1000Genomes\\_hs37d5-ensembl\\_75\\_transcriptome & HPSI0813i-ffdm\\_2                                                                   \\\\\n",
       "\t 10x.AAACCTGTCACTTATC-1.filtered.vcf.gz                                                & ffdm                                                                                  & 212                                                                                   & 212                                                                                   & 212                                                                                   & 1.0000000                                                                             & False                                                                                 & AAACCTGTCACTTATC-1                                                                    & 1                                                                                     & AAACCTGTCACTTATC-1\\_1                                                                & NA                                                                                    & NA                                                                                    & ffdm\\_2                                                                              & AAACCTGTCACTTATC                                                                      & cellranger201\\_count\\_22950\\_3\\_1000Genomes\\_hs37d5-ensembl\\_75\\_transcriptome & HPSI0813i-ffdm\\_2                                                                   \\\\\n",
       "\\end{tabular}\n"
      ],
      "text/markdown": [
       "\n",
       "sample_id | donor | nvars_called | nvars_ovlap_hipsci | nvars_used | post_prob | used_in_expt | barcode.x | dataset | cell_id | n_total_reads | n_alt_reads | donor_short_id | barcode.y | run | ID_2 | \n",
       "|---|---|---|---|---|---|\n",
       "| 10x.AAACCTGAGCCTCGTG-1.filtered.vcf.gz                                  | ffdm                                                                    | 120                                                                     | 120                                                                     | 120                                                                     | 0.9944113                                                               | False                                                                   | AAACCTGAGCCTCGTG-1                                                      | 1                                                                       | AAACCTGAGCCTCGTG-1_1                                                    | NA                                                                      | NA                                                                      | ffdm_2                                                                  | AAACCTGAGCCTCGTG                                                        | cellranger201_count_22950_3_1000Genomes_hs37d5-ensembl_75_transcriptome | HPSI0813i-ffdm_2                                                        | \n",
       "| 10x.AAACCTGAGGCCCTCA-1.filtered.vcf.gz                                  | ffdm                                                                    | 203                                                                     | 203                                                                     | 203                                                                     | 0.9999976                                                               | False                                                                   | AAACCTGAGGCCCTCA-1                                                      | 1                                                                       | AAACCTGAGGCCCTCA-1_1                                                    | NA                                                                      | NA                                                                      | ffdm_2                                                                  | AAACCTGAGGCCCTCA                                                        | cellranger201_count_22950_3_1000Genomes_hs37d5-ensembl_75_transcriptome | HPSI0813i-ffdm_2                                                        | \n",
       "| 10x.AAACCTGAGTACGTTC-1.filtered.vcf.gz                                  | ffdm                                                                    | 226                                                                     | 226                                                                     | 226                                                                     | 1.0000000                                                               | False                                                                   | AAACCTGAGTACGTTC-1                                                      | 1                                                                       | AAACCTGAGTACGTTC-1_1                                                    | NA                                                                      | NA                                                                      | ffdm_2                                                                  | AAACCTGAGTACGTTC                                                        | cellranger201_count_22950_3_1000Genomes_hs37d5-ensembl_75_transcriptome | HPSI0813i-ffdm_2                                                        | \n",
       "| 10x.AAACCTGGTATGCTTG-1.filtered.vcf.gz                                  | ffdm                                                                    | 124                                                                     | 124                                                                     | 124                                                                     | 1.0000000                                                               | False                                                                   | AAACCTGGTATGCTTG-1                                                      | 1                                                                       | AAACCTGGTATGCTTG-1_1                                                    | NA                                                                      | NA                                                                      | ffdm_2                                                                  | AAACCTGGTATGCTTG                                                        | cellranger201_count_22950_3_1000Genomes_hs37d5-ensembl_75_transcriptome | HPSI0813i-ffdm_2                                                        | \n",
       "| 10x.AAACCTGGTGGGTCAA-1.filtered.vcf.gz                                  | ffdm                                                                    | 228                                                                     | 228                                                                     | 228                                                                     | 1.0000000                                                               | False                                                                   | AAACCTGGTGGGTCAA-1                                                      | 1                                                                       | AAACCTGGTGGGTCAA-1_1                                                    | NA                                                                      | NA                                                                      | ffdm_2                                                                  | AAACCTGGTGGGTCAA                                                        | cellranger201_count_22950_3_1000Genomes_hs37d5-ensembl_75_transcriptome | HPSI0813i-ffdm_2                                                        | \n",
       "| 10x.AAACCTGTCACTTATC-1.filtered.vcf.gz                                  | ffdm                                                                    | 212                                                                     | 212                                                                     | 212                                                                     | 1.0000000                                                               | False                                                                   | AAACCTGTCACTTATC-1                                                      | 1                                                                       | AAACCTGTCACTTATC-1_1                                                    | NA                                                                      | NA                                                                      | ffdm_2                                                                  | AAACCTGTCACTTATC                                                        | cellranger201_count_22950_3_1000Genomes_hs37d5-ensembl_75_transcriptome | HPSI0813i-ffdm_2                                                        | \n",
       "\n",
       "\n"
      ],
      "text/plain": [
       "  sample_id                              donor nvars_called nvars_ovlap_hipsci\n",
       "1 10x.AAACCTGAGCCTCGTG-1.filtered.vcf.gz ffdm  120          120               \n",
       "2 10x.AAACCTGAGGCCCTCA-1.filtered.vcf.gz ffdm  203          203               \n",
       "3 10x.AAACCTGAGTACGTTC-1.filtered.vcf.gz ffdm  226          226               \n",
       "4 10x.AAACCTGGTATGCTTG-1.filtered.vcf.gz ffdm  124          124               \n",
       "5 10x.AAACCTGGTGGGTCAA-1.filtered.vcf.gz ffdm  228          228               \n",
       "6 10x.AAACCTGTCACTTATC-1.filtered.vcf.gz ffdm  212          212               \n",
       "  nvars_used post_prob used_in_expt barcode.x          dataset\n",
       "1 120        0.9944113 False        AAACCTGAGCCTCGTG-1 1      \n",
       "2 203        0.9999976 False        AAACCTGAGGCCCTCA-1 1      \n",
       "3 226        1.0000000 False        AAACCTGAGTACGTTC-1 1      \n",
       "4 124        1.0000000 False        AAACCTGGTATGCTTG-1 1      \n",
       "5 228        1.0000000 False        AAACCTGGTGGGTCAA-1 1      \n",
       "6 212        1.0000000 False        AAACCTGTCACTTATC-1 1      \n",
       "  cell_id              n_total_reads n_alt_reads donor_short_id\n",
       "1 AAACCTGAGCCTCGTG-1_1 NA            NA          ffdm_2        \n",
       "2 AAACCTGAGGCCCTCA-1_1 NA            NA          ffdm_2        \n",
       "3 AAACCTGAGTACGTTC-1_1 NA            NA          ffdm_2        \n",
       "4 AAACCTGGTATGCTTG-1_1 NA            NA          ffdm_2        \n",
       "5 AAACCTGGTGGGTCAA-1_1 NA            NA          ffdm_2        \n",
       "6 AAACCTGTCACTTATC-1_1 NA            NA          ffdm_2        \n",
       "  barcode.y       \n",
       "1 AAACCTGAGCCTCGTG\n",
       "2 AAACCTGAGGCCCTCA\n",
       "3 AAACCTGAGTACGTTC\n",
       "4 AAACCTGGTATGCTTG\n",
       "5 AAACCTGGTGGGTCAA\n",
       "6 AAACCTGTCACTTATC\n",
       "  run                                                                    \n",
       "1 cellranger201_count_22950_3_1000Genomes_hs37d5-ensembl_75_transcriptome\n",
       "2 cellranger201_count_22950_3_1000Genomes_hs37d5-ensembl_75_transcriptome\n",
       "3 cellranger201_count_22950_3_1000Genomes_hs37d5-ensembl_75_transcriptome\n",
       "4 cellranger201_count_22950_3_1000Genomes_hs37d5-ensembl_75_transcriptome\n",
       "5 cellranger201_count_22950_3_1000Genomes_hs37d5-ensembl_75_transcriptome\n",
       "6 cellranger201_count_22950_3_1000Genomes_hs37d5-ensembl_75_transcriptome\n",
       "  ID_2            \n",
       "1 HPSI0813i-ffdm_2\n",
       "2 HPSI0813i-ffdm_2\n",
       "3 HPSI0813i-ffdm_2\n",
       "4 HPSI0813i-ffdm_2\n",
       "5 HPSI0813i-ffdm_2\n",
       "6 HPSI0813i-ffdm_2"
      ]
     },
     "metadata": {},
     "output_type": "display_data"
    }
   ],
   "source": [
    "try = left_join(matches, donor_long_ids[,c(\"ID_2\", \"donor_short_id\")], by = \"donor_short_id\")\n",
    "dim(try)\n",
    "head(try)"
   ]
  },
  {
   "cell_type": "code",
   "execution_count": 50,
   "metadata": {},
   "outputs": [
    {
     "data": {
      "text/html": [
       "<table>\n",
       "<thead><tr><th></th><th scope=col>AAACCTGAGCCTCGTG-1_1</th><th scope=col>AAACCTGAGGCCCTCA-1_1</th><th scope=col>AAACCTGAGTACGTTC-1_1</th><th scope=col>AAACCTGGTATGCTTG-1_1</th><th scope=col>AAACCTGGTGGGTCAA-1_1</th></tr></thead>\n",
       "<tbody>\n",
       "\t<tr><th scope=row>ENSG00000186092_OR4F5</th><td>0</td><td>0</td><td>0</td><td>0</td><td>0</td></tr>\n",
       "\t<tr><th scope=row>ENSG00000237683_AL627309.1</th><td>0</td><td>1</td><td>0</td><td>0</td><td>0</td></tr>\n",
       "\t<tr><th scope=row>ENSG00000235249_OR4F29</th><td>0</td><td>0</td><td>0</td><td>0</td><td>0</td></tr>\n",
       "\t<tr><th scope=row>ENSG00000185097_OR4F16</th><td>0</td><td>0</td><td>0</td><td>0</td><td>0</td></tr>\n",
       "\t<tr><th scope=row>ENSG00000269831_AL669831.1</th><td>0</td><td>0</td><td>0</td><td>0</td><td>0</td></tr>\n",
       "</tbody>\n",
       "</table>\n"
      ],
      "text/latex": [
       "\\begin{tabular}{r|lllll}\n",
       "  & AAACCTGAGCCTCGTG-1\\_1 & AAACCTGAGGCCCTCA-1\\_1 & AAACCTGAGTACGTTC-1\\_1 & AAACCTGGTATGCTTG-1\\_1 & AAACCTGGTGGGTCAA-1\\_1\\\\\n",
       "\\hline\n",
       "\tENSG00000186092\\_OR4F5 & 0 & 0 & 0 & 0 & 0\\\\\n",
       "\tENSG00000237683\\_AL627309.1 & 0 & 1 & 0 & 0 & 0\\\\\n",
       "\tENSG00000235249\\_OR4F29 & 0 & 0 & 0 & 0 & 0\\\\\n",
       "\tENSG00000185097\\_OR4F16 & 0 & 0 & 0 & 0 & 0\\\\\n",
       "\tENSG00000269831\\_AL669831.1 & 0 & 0 & 0 & 0 & 0\\\\\n",
       "\\end{tabular}\n"
      ],
      "text/markdown": [
       "\n",
       "| <!--/--> | AAACCTGAGCCTCGTG-1_1 | AAACCTGAGGCCCTCA-1_1 | AAACCTGAGTACGTTC-1_1 | AAACCTGGTATGCTTG-1_1 | AAACCTGGTGGGTCAA-1_1 | \n",
       "|---|---|---|---|---|\n",
       "| ENSG00000186092_OR4F5 | 0 | 0 | 0 | 0 | 0 | \n",
       "| ENSG00000237683_AL627309.1 | 0 | 1 | 0 | 0 | 0 | \n",
       "| ENSG00000235249_OR4F29 | 0 | 0 | 0 | 0 | 0 | \n",
       "| ENSG00000185097_OR4F16 | 0 | 0 | 0 | 0 | 0 | \n",
       "| ENSG00000269831_AL669831.1 | 0 | 0 | 0 | 0 | 0 | \n",
       "\n",
       "\n"
      ],
      "text/plain": [
       "                           AAACCTGAGCCTCGTG-1_1 AAACCTGAGGCCCTCA-1_1\n",
       "ENSG00000186092_OR4F5      0                    0                   \n",
       "ENSG00000237683_AL627309.1 0                    1                   \n",
       "ENSG00000235249_OR4F29     0                    0                   \n",
       "ENSG00000185097_OR4F16     0                    0                   \n",
       "ENSG00000269831_AL669831.1 0                    0                   \n",
       "                           AAACCTGAGTACGTTC-1_1 AAACCTGGTATGCTTG-1_1\n",
       "ENSG00000186092_OR4F5      0                    0                   \n",
       "ENSG00000237683_AL627309.1 0                    0                   \n",
       "ENSG00000235249_OR4F29     0                    0                   \n",
       "ENSG00000185097_OR4F16     0                    0                   \n",
       "ENSG00000269831_AL669831.1 0                    0                   \n",
       "                           AAACCTGGTGGGTCAA-1_1\n",
       "ENSG00000186092_OR4F5      0                   \n",
       "ENSG00000237683_AL627309.1 0                   \n",
       "ENSG00000235249_OR4F29     0                   \n",
       "ENSG00000185097_OR4F16     0                   \n",
       "ENSG00000269831_AL669831.1 0                   "
      ]
     },
     "metadata": {},
     "output_type": "display_data"
    }
   ],
   "source": [
    "mat[1:5,1:5]"
   ]
  },
  {
   "cell_type": "code",
   "execution_count": 51,
   "metadata": {},
   "outputs": [
    {
     "data": {
      "text/html": [
       "<ol class=list-inline>\n",
       "\t<li>'sample_id'</li>\n",
       "\t<li>'donor'</li>\n",
       "\t<li>'nvars_called'</li>\n",
       "\t<li>'nvars_ovlap_hipsci'</li>\n",
       "\t<li>'nvars_used'</li>\n",
       "\t<li>'post_prob'</li>\n",
       "\t<li>'used_in_expt'</li>\n",
       "\t<li>'barcode.x'</li>\n",
       "\t<li>'dataset'</li>\n",
       "\t<li>'cell_id'</li>\n",
       "\t<li>'n_total_reads'</li>\n",
       "\t<li>'n_alt_reads'</li>\n",
       "\t<li>'donor_short_id'</li>\n",
       "\t<li>'barcode.y'</li>\n",
       "\t<li>'run'</li>\n",
       "\t<li>'ID_2'</li>\n",
       "</ol>\n"
      ],
      "text/latex": [
       "\\begin{enumerate*}\n",
       "\\item 'sample\\_id'\n",
       "\\item 'donor'\n",
       "\\item 'nvars\\_called'\n",
       "\\item 'nvars\\_ovlap\\_hipsci'\n",
       "\\item 'nvars\\_used'\n",
       "\\item 'post\\_prob'\n",
       "\\item 'used\\_in\\_expt'\n",
       "\\item 'barcode.x'\n",
       "\\item 'dataset'\n",
       "\\item 'cell\\_id'\n",
       "\\item 'n\\_total\\_reads'\n",
       "\\item 'n\\_alt\\_reads'\n",
       "\\item 'donor\\_short\\_id'\n",
       "\\item 'barcode.y'\n",
       "\\item 'run'\n",
       "\\item 'ID\\_2'\n",
       "\\end{enumerate*}\n"
      ],
      "text/markdown": [
       "1. 'sample_id'\n",
       "2. 'donor'\n",
       "3. 'nvars_called'\n",
       "4. 'nvars_ovlap_hipsci'\n",
       "5. 'nvars_used'\n",
       "6. 'post_prob'\n",
       "7. 'used_in_expt'\n",
       "8. 'barcode.x'\n",
       "9. 'dataset'\n",
       "10. 'cell_id'\n",
       "11. 'n_total_reads'\n",
       "12. 'n_alt_reads'\n",
       "13. 'donor_short_id'\n",
       "14. 'barcode.y'\n",
       "15. 'run'\n",
       "16. 'ID_2'\n",
       "\n",
       "\n"
      ],
      "text/plain": [
       " [1] \"sample_id\"          \"donor\"              \"nvars_called\"      \n",
       " [4] \"nvars_ovlap_hipsci\" \"nvars_used\"         \"post_prob\"         \n",
       " [7] \"used_in_expt\"       \"barcode.x\"          \"dataset\"           \n",
       "[10] \"cell_id\"            \"n_total_reads\"      \"n_alt_reads\"       \n",
       "[13] \"donor_short_id\"     \"barcode.y\"          \"run\"               \n",
       "[16] \"ID_2\"              "
      ]
     },
     "metadata": {},
     "output_type": "display_data"
    }
   ],
   "source": [
    "colnames(try)"
   ]
  },
  {
   "cell_type": "code",
   "execution_count": 53,
   "metadata": {},
   "outputs": [],
   "source": [
    "sample_mapping_file <- try[,c(\"ID_2\",\"barcode.x\",\"nvars_called\",\"nvars_used\",\"post_prob\",\n",
    "                              \"n_total_reads\",\"n_alt_reads\",\"donor_short_id\",\"run\",\"dataset\",\"cell_id\")]"
   ]
  },
  {
   "cell_type": "code",
   "execution_count": 55,
   "metadata": {},
   "outputs": [
    {
     "data": {
      "text/html": [
       "<table>\n",
       "<thead><tr><th scope=col>donor_long_id</th><th scope=col>barcode</th><th scope=col>nvars_called</th><th scope=col>nvars_used</th><th scope=col>post_prob</th><th scope=col>n_total_reads</th><th scope=col>n_alt_reads</th><th scope=col>donor_short_id</th><th scope=col>run</th><th scope=col>dataset</th><th scope=col>cell_id</th></tr></thead>\n",
       "<tbody>\n",
       "\t<tr><td>HPSI0813i-ffdm_2                                                       </td><td>AAACCTGAGCCTCGTG-1                                                     </td><td>120                                                                    </td><td>120                                                                    </td><td>0.9944113                                                              </td><td>NA                                                                     </td><td>NA                                                                     </td><td>ffdm_2                                                                 </td><td>cellranger201_count_22950_3_1000Genomes_hs37d5-ensembl_75_transcriptome</td><td>1                                                                      </td><td>AAACCTGAGCCTCGTG-1_1                                                   </td></tr>\n",
       "\t<tr><td>HPSI0813i-ffdm_2                                                       </td><td>AAACCTGAGGCCCTCA-1                                                     </td><td>203                                                                    </td><td>203                                                                    </td><td>0.9999976                                                              </td><td>NA                                                                     </td><td>NA                                                                     </td><td>ffdm_2                                                                 </td><td>cellranger201_count_22950_3_1000Genomes_hs37d5-ensembl_75_transcriptome</td><td>1                                                                      </td><td>AAACCTGAGGCCCTCA-1_1                                                   </td></tr>\n",
       "\t<tr><td>HPSI0813i-ffdm_2                                                       </td><td>AAACCTGAGTACGTTC-1                                                     </td><td>226                                                                    </td><td>226                                                                    </td><td>1.0000000                                                              </td><td>NA                                                                     </td><td>NA                                                                     </td><td>ffdm_2                                                                 </td><td>cellranger201_count_22950_3_1000Genomes_hs37d5-ensembl_75_transcriptome</td><td>1                                                                      </td><td>AAACCTGAGTACGTTC-1_1                                                   </td></tr>\n",
       "\t<tr><td>HPSI0813i-ffdm_2                                                       </td><td>AAACCTGGTATGCTTG-1                                                     </td><td>124                                                                    </td><td>124                                                                    </td><td>1.0000000                                                              </td><td>NA                                                                     </td><td>NA                                                                     </td><td>ffdm_2                                                                 </td><td>cellranger201_count_22950_3_1000Genomes_hs37d5-ensembl_75_transcriptome</td><td>1                                                                      </td><td>AAACCTGGTATGCTTG-1_1                                                   </td></tr>\n",
       "\t<tr><td>HPSI0813i-ffdm_2                                                       </td><td>AAACCTGGTGGGTCAA-1                                                     </td><td>228                                                                    </td><td>228                                                                    </td><td>1.0000000                                                              </td><td>NA                                                                     </td><td>NA                                                                     </td><td>ffdm_2                                                                 </td><td>cellranger201_count_22950_3_1000Genomes_hs37d5-ensembl_75_transcriptome</td><td>1                                                                      </td><td>AAACCTGGTGGGTCAA-1_1                                                   </td></tr>\n",
       "\t<tr><td>HPSI0813i-ffdm_2                                                       </td><td>AAACCTGTCACTTATC-1                                                     </td><td>212                                                                    </td><td>212                                                                    </td><td>1.0000000                                                              </td><td>NA                                                                     </td><td>NA                                                                     </td><td>ffdm_2                                                                 </td><td>cellranger201_count_22950_3_1000Genomes_hs37d5-ensembl_75_transcriptome</td><td>1                                                                      </td><td>AAACCTGTCACTTATC-1_1                                                   </td></tr>\n",
       "</tbody>\n",
       "</table>\n"
      ],
      "text/latex": [
       "\\begin{tabular}{r|lllllllllll}\n",
       " donor\\_long\\_id & barcode & nvars\\_called & nvars\\_used & post\\_prob & n\\_total\\_reads & n\\_alt\\_reads & donor\\_short\\_id & run & dataset & cell\\_id\\\\\n",
       "\\hline\n",
       "\t HPSI0813i-ffdm\\_2                                                                    & AAACCTGAGCCTCGTG-1                                                                    & 120                                                                                   & 120                                                                                   & 0.9944113                                                                             & NA                                                                                    & NA                                                                                    & ffdm\\_2                                                                              & cellranger201\\_count\\_22950\\_3\\_1000Genomes\\_hs37d5-ensembl\\_75\\_transcriptome & 1                                                                                     & AAACCTGAGCCTCGTG-1\\_1                                                               \\\\\n",
       "\t HPSI0813i-ffdm\\_2                                                                    & AAACCTGAGGCCCTCA-1                                                                    & 203                                                                                   & 203                                                                                   & 0.9999976                                                                             & NA                                                                                    & NA                                                                                    & ffdm\\_2                                                                              & cellranger201\\_count\\_22950\\_3\\_1000Genomes\\_hs37d5-ensembl\\_75\\_transcriptome & 1                                                                                     & AAACCTGAGGCCCTCA-1\\_1                                                               \\\\\n",
       "\t HPSI0813i-ffdm\\_2                                                                    & AAACCTGAGTACGTTC-1                                                                    & 226                                                                                   & 226                                                                                   & 1.0000000                                                                             & NA                                                                                    & NA                                                                                    & ffdm\\_2                                                                              & cellranger201\\_count\\_22950\\_3\\_1000Genomes\\_hs37d5-ensembl\\_75\\_transcriptome & 1                                                                                     & AAACCTGAGTACGTTC-1\\_1                                                               \\\\\n",
       "\t HPSI0813i-ffdm\\_2                                                                    & AAACCTGGTATGCTTG-1                                                                    & 124                                                                                   & 124                                                                                   & 1.0000000                                                                             & NA                                                                                    & NA                                                                                    & ffdm\\_2                                                                              & cellranger201\\_count\\_22950\\_3\\_1000Genomes\\_hs37d5-ensembl\\_75\\_transcriptome & 1                                                                                     & AAACCTGGTATGCTTG-1\\_1                                                               \\\\\n",
       "\t HPSI0813i-ffdm\\_2                                                                    & AAACCTGGTGGGTCAA-1                                                                    & 228                                                                                   & 228                                                                                   & 1.0000000                                                                             & NA                                                                                    & NA                                                                                    & ffdm\\_2                                                                              & cellranger201\\_count\\_22950\\_3\\_1000Genomes\\_hs37d5-ensembl\\_75\\_transcriptome & 1                                                                                     & AAACCTGGTGGGTCAA-1\\_1                                                               \\\\\n",
       "\t HPSI0813i-ffdm\\_2                                                                    & AAACCTGTCACTTATC-1                                                                    & 212                                                                                   & 212                                                                                   & 1.0000000                                                                             & NA                                                                                    & NA                                                                                    & ffdm\\_2                                                                              & cellranger201\\_count\\_22950\\_3\\_1000Genomes\\_hs37d5-ensembl\\_75\\_transcriptome & 1                                                                                     & AAACCTGTCACTTATC-1\\_1                                                               \\\\\n",
       "\\end{tabular}\n"
      ],
      "text/markdown": [
       "\n",
       "donor_long_id | barcode | nvars_called | nvars_used | post_prob | n_total_reads | n_alt_reads | donor_short_id | run | dataset | cell_id | \n",
       "|---|---|---|---|---|---|\n",
       "| HPSI0813i-ffdm_2                                                        | AAACCTGAGCCTCGTG-1                                                      | 120                                                                     | 120                                                                     | 0.9944113                                                               | NA                                                                      | NA                                                                      | ffdm_2                                                                  | cellranger201_count_22950_3_1000Genomes_hs37d5-ensembl_75_transcriptome | 1                                                                       | AAACCTGAGCCTCGTG-1_1                                                    | \n",
       "| HPSI0813i-ffdm_2                                                        | AAACCTGAGGCCCTCA-1                                                      | 203                                                                     | 203                                                                     | 0.9999976                                                               | NA                                                                      | NA                                                                      | ffdm_2                                                                  | cellranger201_count_22950_3_1000Genomes_hs37d5-ensembl_75_transcriptome | 1                                                                       | AAACCTGAGGCCCTCA-1_1                                                    | \n",
       "| HPSI0813i-ffdm_2                                                        | AAACCTGAGTACGTTC-1                                                      | 226                                                                     | 226                                                                     | 1.0000000                                                               | NA                                                                      | NA                                                                      | ffdm_2                                                                  | cellranger201_count_22950_3_1000Genomes_hs37d5-ensembl_75_transcriptome | 1                                                                       | AAACCTGAGTACGTTC-1_1                                                    | \n",
       "| HPSI0813i-ffdm_2                                                        | AAACCTGGTATGCTTG-1                                                      | 124                                                                     | 124                                                                     | 1.0000000                                                               | NA                                                                      | NA                                                                      | ffdm_2                                                                  | cellranger201_count_22950_3_1000Genomes_hs37d5-ensembl_75_transcriptome | 1                                                                       | AAACCTGGTATGCTTG-1_1                                                    | \n",
       "| HPSI0813i-ffdm_2                                                        | AAACCTGGTGGGTCAA-1                                                      | 228                                                                     | 228                                                                     | 1.0000000                                                               | NA                                                                      | NA                                                                      | ffdm_2                                                                  | cellranger201_count_22950_3_1000Genomes_hs37d5-ensembl_75_transcriptome | 1                                                                       | AAACCTGGTGGGTCAA-1_1                                                    | \n",
       "| HPSI0813i-ffdm_2                                                        | AAACCTGTCACTTATC-1                                                      | 212                                                                     | 212                                                                     | 1.0000000                                                               | NA                                                                      | NA                                                                      | ffdm_2                                                                  | cellranger201_count_22950_3_1000Genomes_hs37d5-ensembl_75_transcriptome | 1                                                                       | AAACCTGTCACTTATC-1_1                                                    | \n",
       "\n",
       "\n"
      ],
      "text/plain": [
       "  donor_long_id    barcode            nvars_called nvars_used post_prob\n",
       "1 HPSI0813i-ffdm_2 AAACCTGAGCCTCGTG-1 120          120        0.9944113\n",
       "2 HPSI0813i-ffdm_2 AAACCTGAGGCCCTCA-1 203          203        0.9999976\n",
       "3 HPSI0813i-ffdm_2 AAACCTGAGTACGTTC-1 226          226        1.0000000\n",
       "4 HPSI0813i-ffdm_2 AAACCTGGTATGCTTG-1 124          124        1.0000000\n",
       "5 HPSI0813i-ffdm_2 AAACCTGGTGGGTCAA-1 228          228        1.0000000\n",
       "6 HPSI0813i-ffdm_2 AAACCTGTCACTTATC-1 212          212        1.0000000\n",
       "  n_total_reads n_alt_reads donor_short_id\n",
       "1 NA            NA          ffdm_2        \n",
       "2 NA            NA          ffdm_2        \n",
       "3 NA            NA          ffdm_2        \n",
       "4 NA            NA          ffdm_2        \n",
       "5 NA            NA          ffdm_2        \n",
       "6 NA            NA          ffdm_2        \n",
       "  run                                                                    \n",
       "1 cellranger201_count_22950_3_1000Genomes_hs37d5-ensembl_75_transcriptome\n",
       "2 cellranger201_count_22950_3_1000Genomes_hs37d5-ensembl_75_transcriptome\n",
       "3 cellranger201_count_22950_3_1000Genomes_hs37d5-ensembl_75_transcriptome\n",
       "4 cellranger201_count_22950_3_1000Genomes_hs37d5-ensembl_75_transcriptome\n",
       "5 cellranger201_count_22950_3_1000Genomes_hs37d5-ensembl_75_transcriptome\n",
       "6 cellranger201_count_22950_3_1000Genomes_hs37d5-ensembl_75_transcriptome\n",
       "  dataset cell_id             \n",
       "1 1       AAACCTGAGCCTCGTG-1_1\n",
       "2 1       AAACCTGAGGCCCTCA-1_1\n",
       "3 1       AAACCTGAGTACGTTC-1_1\n",
       "4 1       AAACCTGGTATGCTTG-1_1\n",
       "5 1       AAACCTGGTGGGTCAA-1_1\n",
       "6 1       AAACCTGTCACTTATC-1_1"
      ]
     },
     "metadata": {},
     "output_type": "display_data"
    }
   ],
   "source": [
    "colnames(sample_mapping_file)[1:2] <- c(\"donor_long_id\",\"barcode\")\n",
    "head(sample_mapping_file)"
   ]
  },
  {
   "cell_type": "code",
   "execution_count": 63,
   "metadata": {},
   "outputs": [],
   "source": [
    "write.table(sample_mapping_file,\"/hps/nobackup/stegle/users/acuomo/10x/cell_sample_map.txt\", quote = F, row.names = T, col.names = T)"
   ]
  },
  {
   "cell_type": "code",
   "execution_count": 57,
   "metadata": {},
   "outputs": [],
   "source": [
    "write.csv(mat,\"/hps/nobackup/stegle/users/acuomo/10x/counts.csv\", quote = F)"
   ]
  },
  {
   "cell_type": "code",
   "execution_count": null,
   "metadata": {},
   "outputs": [],
   "source": []
  }
 ],
 "metadata": {
  "kernelspec": {
   "display_name": "R",
   "language": "R",
   "name": "ir"
  },
  "language_info": {
   "codemirror_mode": "r",
   "file_extension": ".r",
   "mimetype": "text/x-r-source",
   "name": "R",
   "pygments_lexer": "r",
   "version": "3.4.3"
  }
 },
 "nbformat": 4,
 "nbformat_minor": 2
}
