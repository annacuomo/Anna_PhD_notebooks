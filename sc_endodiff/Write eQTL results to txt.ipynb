{
 "cells": [
  {
   "cell_type": "code",
   "execution_count": 1,
   "metadata": {},
   "outputs": [],
   "source": [
    "## load useful libraries\n",
    "suppressWarnings(suppressPackageStartupMessages(library(rhdf5)))\n",
    "suppressWarnings(suppressPackageStartupMessages(library(qvalue)))\n",
    "suppressWarnings(suppressPackageStartupMessages(library(dplyr)))\n",
    "suppressWarnings(suppressPackageStartupMessages(library(cowplot)))\n",
    "suppressWarnings(suppressPackageStartupMessages(library(tidyverse)))\n",
    "suppressWarnings(suppressPackageStartupMessages(library(ggbeeswarm)))\n",
    "suppressWarnings(suppressPackageStartupMessages(library(ggthemes)))\n",
    "# suppressWarnings(suppressPackageStartupMessages(library(scater)))\n",
    "suppressWarnings(suppressPackageStartupMessages(library(SingleCellExperiment)))\n",
    "suppressWarnings(suppressPackageStartupMessages(library(edgeR)))\n",
    "suppressWarnings(suppressPackageStartupMessages(library(limma)))\n",
    "suppressWarnings(suppressPackageStartupMessages(library(ggplot2)))\n",
    "suppressWarnings(suppressPackageStartupMessages(library(ISLR)))\n",
    "suppressWarnings(suppressPackageStartupMessages(library(GGally)))\n",
    "# suppressWarnings(suppressPackageStartupMessages(library(scran)))\n",
    "suppressWarnings(suppressPackageStartupMessages(library(ComplexHeatmap)))\n",
    "suppressWarnings(suppressPackageStartupMessages(library(circlize)))"
   ]
  },
  {
   "cell_type": "code",
   "execution_count": 2,
   "metadata": {},
   "outputs": [],
   "source": [
    "snp_annos_folder = \"/hps/nobackup/hipsci/scratch/genotypes/snp_annotation/renamed/\""
   ]
  },
  {
   "cell_type": "code",
   "execution_count": 3,
   "metadata": {},
   "outputs": [],
   "source": [
    "SplitGeneInfo <- function(res){\n",
    "    res$ensembl_gene_id = gsub(\"*_.*\",\"\",res$feature)\n",
    "    res$gene_name = gsub(\".*_\",\"\",res$feature)\n",
    "    res\n",
    "}"
   ]
  },
  {
   "cell_type": "code",
   "execution_count": 4,
   "metadata": {},
   "outputs": [],
   "source": [
    "GetSnpRsids <- function(chrom){\n",
    "    snp_anno = read.csv(paste0(snp_annos_folder,\"chr\",chrom,\"_snps.txt\"), sep = \"\\t\")[,c(\"Variant.name\",\n",
    "                                                                                     \"Chromosome.scaffold.name\",\n",
    "                                                                            \"Chromosome.scaffold.position.start..bp.\",\n",
    "                                                                            \"Chromosome.scaffold.position.end..bp.\")]\n",
    "    colnames(snp_anno) = c(\"snp_rsid\", \"chrom\", \"pos\", \"pos2\")\n",
    "    snp_anno[snp_anno$pos == snp_anno$pos2,c(\"snp_rsid\", \"chrom\", \"pos\")]\n",
    "}"
   ]
  },
  {
   "cell_type": "code",
   "execution_count": 26,
   "metadata": {},
   "outputs": [],
   "source": [
    "AddSnpRsids <- function(res){\n",
    "    res1 = res[res$chrom == 1,]\n",
    "    snps = GetSnpRsids(chrom = 1)\n",
    "    res1 = left_join(res1,snps)\n",
    "    for (i in 2:22){\n",
    "        res_cur = res[res$chrom == i,]\n",
    "        snps = GetSnpRsids(chrom = i)\n",
    "        res_cur = left_join(res_cur,snps, by = c(\"chrom\", \"pos\"))\n",
    "        res1 = rbind(res1,res_cur)\n",
    "    }\n",
    "    res1\n",
    "}"
   ]
  },
  {
   "cell_type": "code",
   "execution_count": 16,
   "metadata": {},
   "outputs": [],
   "source": [
    "mydir = \"/hps/nobackup/hipsci/scratch/singlecell_endodiff/results_files_20181031/eQTL_results_dfs/\""
   ]
  },
  {
   "cell_type": "code",
   "execution_count": 7,
   "metadata": {},
   "outputs": [],
   "source": [
    "### stages"
   ]
  },
  {
   "cell_type": "code",
   "execution_count": 14,
   "metadata": {},
   "outputs": [
    {
     "name": "stderr",
     "output_type": "stream",
     "text": [
      "Joining, by = c(\"chrom\", \"pos\")\n"
     ]
    },
    {
     "data": {
      "text/html": [
       "<table>\n",
       "<thead><tr><th scope=col>beta</th><th scope=col>beta_se</th><th scope=col>empirical_feature_p_value</th><th scope=col>p_value</th><th scope=col>snp_id</th><th scope=col>feature</th><th scope=col>global_corr_p_value</th><th scope=col>chrom</th><th scope=col>pos</th><th scope=col>ref_allele</th><th scope=col>alt_allele</th><th scope=col>ensembl_gene_id</th><th scope=col>gene_name</th><th scope=col>snp_rsid</th></tr></thead>\n",
       "<tbody>\n",
       "\t<tr><td>-0.9842330             </td><td>0.10208734             </td><td>2.113107e-18           </td><td>5.361668e-22           </td><td>1_24364016_T_C         </td><td>ENSG00000189266_PNRC2  </td><td>8.186493e-16           </td><td>1                      </td><td> 24364016              </td><td>T                      </td><td>C                      </td><td>ENSG00000189266        </td><td>PNRC2                  </td><td>rs61773530             </td></tr>\n",
       "\t<tr><td> 1.1455146             </td><td>0.11663421             </td><td>2.723503e-16           </td><td>9.104331e-23           </td><td>1_171662929_T_C        </td><td>ENSG00000117533_VAMP4  </td><td>6.273722e-14           </td><td>1                      </td><td>171662929              </td><td>T                      </td><td>C                      </td><td>ENSG00000117533        </td><td>VAMP4                  </td><td>NA                     </td></tr>\n",
       "\t<tr><td>-0.9975982             </td><td>0.10269964             </td><td>9.337197e-15           </td><td>2.634728e-22           </td><td>1_75189847_T_C         </td><td>ENSG00000116791_CRYZ   </td><td>1.624125e-12           </td><td>1                      </td><td> 75189847              </td><td>T                      </td><td>C                      </td><td>ENSG00000116791        </td><td>CRYZ                   </td><td>rs1424671              </td></tr>\n",
       "\t<tr><td>-0.7300103             </td><td>0.08154161             </td><td>2.505289e-14           </td><td>3.471687e-19           </td><td>1_19911802_T_C         </td><td>ENSG00000173436_MINOS1 </td><td>4.106328e-12           </td><td>1                      </td><td> 19911802              </td><td>T                      </td><td>C                      </td><td>ENSG00000173436        </td><td>MINOS1                 </td><td>rs2792036              </td></tr>\n",
       "\t<tr><td>-0.4522483             </td><td>0.05871334             </td><td>2.855039e-12           </td><td>1.332738e-14           </td><td>1_89447978_T_A         </td><td>ENSG00000137944_CCBL2  </td><td>2.967545e-10           </td><td>1                      </td><td> 89447978              </td><td>T                      </td><td>A                      </td><td>ENSG00000137944        </td><td>CCBL2                  </td><td>rs10754258             </td></tr>\n",
       "\t<tr><td>-0.6477022             </td><td>0.08402685             </td><td>2.798272e-11           </td><td>1.275279e-14           </td><td>1_162726281_A_C        </td><td>ENSG00000132196_HSD17B7</td><td>2.409094e-09           </td><td>1                      </td><td>162726281              </td><td>A                      </td><td>C                      </td><td>ENSG00000132196        </td><td>HSD17B7                </td><td>rs2684866              </td></tr>\n",
       "</tbody>\n",
       "</table>\n"
      ],
      "text/latex": [
       "\\begin{tabular}{r|llllllllllllll}\n",
       " beta & beta\\_se & empirical\\_feature\\_p\\_value & p\\_value & snp\\_id & feature & global\\_corr\\_p\\_value & chrom & pos & ref\\_allele & alt\\_allele & ensembl\\_gene\\_id & gene\\_name & snp\\_rsid\\\\\n",
       "\\hline\n",
       "\t -0.9842330                & 0.10208734                & 2.113107e-18              & 5.361668e-22              & 1\\_24364016\\_T\\_C      & ENSG00000189266\\_PNRC2   & 8.186493e-16              & 1                         &  24364016                 & T                         & C                         & ENSG00000189266           & PNRC2                     & rs61773530               \\\\\n",
       "\t  1.1455146                & 0.11663421                & 2.723503e-16              & 9.104331e-23              & 1\\_171662929\\_T\\_C     & ENSG00000117533\\_VAMP4   & 6.273722e-14              & 1                         & 171662929                 & T                         & C                         & ENSG00000117533           & VAMP4                     & NA                       \\\\\n",
       "\t -0.9975982                & 0.10269964                & 9.337197e-15              & 2.634728e-22              & 1\\_75189847\\_T\\_C      & ENSG00000116791\\_CRYZ    & 1.624125e-12              & 1                         &  75189847                 & T                         & C                         & ENSG00000116791           & CRYZ                      & rs1424671                \\\\\n",
       "\t -0.7300103                & 0.08154161                & 2.505289e-14              & 3.471687e-19              & 1\\_19911802\\_T\\_C      & ENSG00000173436\\_MINOS1  & 4.106328e-12              & 1                         &  19911802                 & T                         & C                         & ENSG00000173436           & MINOS1                    & rs2792036                \\\\\n",
       "\t -0.4522483                & 0.05871334                & 2.855039e-12              & 1.332738e-14              & 1\\_89447978\\_T\\_A      & ENSG00000137944\\_CCBL2   & 2.967545e-10              & 1                         &  89447978                 & T                         & A                         & ENSG00000137944           & CCBL2                     & rs10754258               \\\\\n",
       "\t -0.6477022                & 0.08402685                & 2.798272e-11              & 1.275279e-14              & 1\\_162726281\\_A\\_C     & ENSG00000132196\\_HSD17B7 & 2.409094e-09              & 1                         & 162726281                 & A                         & C                         & ENSG00000132196           & HSD17B7                   & rs2684866                \\\\\n",
       "\\end{tabular}\n"
      ],
      "text/markdown": [
       "\n",
       "beta | beta_se | empirical_feature_p_value | p_value | snp_id | feature | global_corr_p_value | chrom | pos | ref_allele | alt_allele | ensembl_gene_id | gene_name | snp_rsid | \n",
       "|---|---|---|---|---|---|\n",
       "| -0.9842330              | 0.10208734              | 2.113107e-18            | 5.361668e-22            | 1_24364016_T_C          | ENSG00000189266_PNRC2   | 8.186493e-16            | 1                       |  24364016               | T                       | C                       | ENSG00000189266         | PNRC2                   | rs61773530              | \n",
       "|  1.1455146              | 0.11663421              | 2.723503e-16            | 9.104331e-23            | 1_171662929_T_C         | ENSG00000117533_VAMP4   | 6.273722e-14            | 1                       | 171662929               | T                       | C                       | ENSG00000117533         | VAMP4                   | NA                      | \n",
       "| -0.9975982              | 0.10269964              | 9.337197e-15            | 2.634728e-22            | 1_75189847_T_C          | ENSG00000116791_CRYZ    | 1.624125e-12            | 1                       |  75189847               | T                       | C                       | ENSG00000116791         | CRYZ                    | rs1424671               | \n",
       "| -0.7300103              | 0.08154161              | 2.505289e-14            | 3.471687e-19            | 1_19911802_T_C          | ENSG00000173436_MINOS1  | 4.106328e-12            | 1                       |  19911802               | T                       | C                       | ENSG00000173436         | MINOS1                  | rs2792036               | \n",
       "| -0.4522483              | 0.05871334              | 2.855039e-12            | 1.332738e-14            | 1_89447978_T_A          | ENSG00000137944_CCBL2   | 2.967545e-10            | 1                       |  89447978               | T                       | A                       | ENSG00000137944         | CCBL2                   | rs10754258              | \n",
       "| -0.6477022              | 0.08402685              | 2.798272e-11            | 1.275279e-14            | 1_162726281_A_C         | ENSG00000132196_HSD17B7 | 2.409094e-09            | 1                       | 162726281               | A                       | C                       | ENSG00000132196         | HSD17B7                 | rs2684866               | \n",
       "\n",
       "\n"
      ],
      "text/plain": [
       "  beta       beta_se    empirical_feature_p_value p_value      snp_id         \n",
       "1 -0.9842330 0.10208734 2.113107e-18              5.361668e-22 1_24364016_T_C \n",
       "2  1.1455146 0.11663421 2.723503e-16              9.104331e-23 1_171662929_T_C\n",
       "3 -0.9975982 0.10269964 9.337197e-15              2.634728e-22 1_75189847_T_C \n",
       "4 -0.7300103 0.08154161 2.505289e-14              3.471687e-19 1_19911802_T_C \n",
       "5 -0.4522483 0.05871334 2.855039e-12              1.332738e-14 1_89447978_T_A \n",
       "6 -0.6477022 0.08402685 2.798272e-11              1.275279e-14 1_162726281_A_C\n",
       "  feature                 global_corr_p_value chrom pos       ref_allele\n",
       "1 ENSG00000189266_PNRC2   8.186493e-16        1      24364016 T         \n",
       "2 ENSG00000117533_VAMP4   6.273722e-14        1     171662929 T         \n",
       "3 ENSG00000116791_CRYZ    1.624125e-12        1      75189847 T         \n",
       "4 ENSG00000173436_MINOS1  4.106328e-12        1      19911802 T         \n",
       "5 ENSG00000137944_CCBL2   2.967545e-10        1      89447978 T         \n",
       "6 ENSG00000132196_HSD17B7 2.409094e-09        1     162726281 A         \n",
       "  alt_allele ensembl_gene_id gene_name snp_rsid  \n",
       "1 C          ENSG00000189266 PNRC2     rs61773530\n",
       "2 C          ENSG00000117533 VAMP4     NA        \n",
       "3 C          ENSG00000116791 CRYZ      rs1424671 \n",
       "4 C          ENSG00000173436 MINOS1    rs2792036 \n",
       "5 A          ENSG00000137944 CCBL2     rs10754258\n",
       "6 C          ENSG00000132196 HSD17B7   rs2684866 "
      ]
     },
     "metadata": {},
     "output_type": "display_data"
    }
   ],
   "source": [
    "ips.leads = read.csv(\"/nfs/leia/research/stegle/acuomo/mean/ips/leads.csv\", row.names = 1)\n",
    "ips.leads = SplitGeneInfo(ips.leads)\n",
    "ips.leads = AddSnpRsids(ips.leads)\n",
    "head(ips.leads)"
   ]
  },
  {
   "cell_type": "code",
   "execution_count": 18,
   "metadata": {},
   "outputs": [],
   "source": [
    "ips.leads.filename = paste0(mydir,\"ips.leads.txt\")\n",
    "write.table(ips.leads, ips.leads.filename, sep = \"\\t\", quote = F, row.names = FALSE)"
   ]
  },
  {
   "cell_type": "code",
   "execution_count": 21,
   "metadata": {},
   "outputs": [
    {
     "data": {
      "text/html": [
       "<table>\n",
       "<thead><tr><th scope=col>beta</th><th scope=col>beta_se</th><th scope=col>empirical_feature_p_value</th><th scope=col>p_value</th><th scope=col>snp_id</th><th scope=col>feature</th><th scope=col>global_corr_p_value</th><th scope=col>chrom</th><th scope=col>pos</th><th scope=col>ref_allele</th><th scope=col>⋯</th><th scope=col>permutation_3</th><th scope=col>permutation_4</th><th scope=col>permutation_5</th><th scope=col>permutation_6</th><th scope=col>permutation_7</th><th scope=col>permutation_8</th><th scope=col>permutation_9</th><th scope=col>ensembl_gene_id</th><th scope=col>gene_name</th><th scope=col>snp_rsid</th></tr></thead>\n",
       "<tbody>\n",
       "\t<tr><td>-1.0268717              </td><td>0.10360882              </td><td>4.852290e-23            </td><td>3.727273e-23            </td><td>1_24364016_T_C          </td><td>ENSG00000189266_PNRC2   </td><td>3.186781e-20            </td><td>1                       </td><td> 24364016               </td><td>T                       </td><td>⋯                       </td><td>0.2431465               </td><td>0.95948844              </td><td>0.95584859              </td><td>0.21782557              </td><td>0.7011236               </td><td>0.60835092              </td><td>0.01993654              </td><td>ENSG00000189266         </td><td>PNRC2                   </td><td>rs61773530              </td></tr>\n",
       "\t<tr><td>-1.0355745              </td><td>0.10365492              </td><td>2.889539e-22            </td><td>1.675701e-23            </td><td>1_75189847_T_C          </td><td>ENSG00000116791_CRYZ    </td><td>1.626624e-19            </td><td>1                       </td><td> 75189847               </td><td>T                       </td><td>⋯                       </td><td>0.9417918               </td><td>0.08161423              </td><td>0.88777330              </td><td>0.93693458              </td><td>0.2180240               </td><td>0.14445355              </td><td>0.14499708              </td><td>ENSG00000116791         </td><td>CRYZ                    </td><td>rs1424671               </td></tr>\n",
       "\t<tr><td>-0.6957178              </td><td>0.07540540              </td><td>2.764506e-17            </td><td>2.799692e-20            </td><td>1_39465139_A_C          </td><td>ENSG00000168653_NDUFS5  </td><td>7.781193e-15            </td><td>1                       </td><td> 39465139               </td><td>A                       </td><td>⋯                       </td><td>0.5668985               </td><td>0.93862277              </td><td>0.62489552              </td><td>0.87066206              </td><td>0.1522135               </td><td>0.67846606              </td><td>0.21201485              </td><td>ENSG00000168653         </td><td>NDUFS5                  </td><td>rs11205522              </td></tr>\n",
       "\t<tr><td>-0.7409688              </td><td>0.09815311              </td><td>3.466158e-15            </td><td>4.382373e-14            </td><td>1_108739849_C_T         </td><td>ENSG00000085491_SLC25A24</td><td>6.504078e-13            </td><td>1                       </td><td>108739849               </td><td>C                       </td><td>⋯                       </td><td>0.0207375               </td><td>0.72430557              </td><td>0.17900311              </td><td>0.08055645              </td><td>0.4630297               </td><td>0.20818287              </td><td>0.77572728              </td><td>ENSG00000085491         </td><td>SLC25A24                </td><td>rs676166                </td></tr>\n",
       "\t<tr><td>-0.8706880              </td><td>0.10360809              </td><td>1.616229e-13            </td><td>4.327428e-17            </td><td>1_75189847_T_C          </td><td>ENSG00000162623_TYW3    </td><td>2.493608e-11            </td><td>1                       </td><td> 75189847               </td><td>T                       </td><td>⋯                       </td><td>0.1125812               </td><td>0.40372242              </td><td>0.86585812              </td><td>0.43187795              </td><td>0.6991340               </td><td>0.54130774              </td><td>0.66269092              </td><td>ENSG00000162623         </td><td>TYW3                    </td><td>rs1424671               </td></tr>\n",
       "\t<tr><td>-0.9432526              </td><td>0.10400597              </td><td>4.973804e-13            </td><td>1.198767e-19            </td><td>1_19911802_T_C          </td><td>ENSG00000173436_MINOS1  </td><td>6.322424e-11            </td><td>1                       </td><td> 19911802               </td><td>T                       </td><td>⋯                       </td><td>0.1227212               </td><td>0.30064527              </td><td>0.05977199              </td><td>0.97591189              </td><td>0.6105252               </td><td>0.04437388              </td><td>0.23966650              </td><td>ENSG00000173436         </td><td>MINOS1                  </td><td>rs2792036               </td></tr>\n",
       "</tbody>\n",
       "</table>\n"
      ],
      "text/latex": [
       "\\begin{tabular}{r|llllllllllllllllllllllll}\n",
       " beta & beta\\_se & empirical\\_feature\\_p\\_value & p\\_value & snp\\_id & feature & global\\_corr\\_p\\_value & chrom & pos & ref\\_allele & ⋯ & permutation\\_3 & permutation\\_4 & permutation\\_5 & permutation\\_6 & permutation\\_7 & permutation\\_8 & permutation\\_9 & ensembl\\_gene\\_id & gene\\_name & snp\\_rsid\\\\\n",
       "\\hline\n",
       "\t -1.0268717                 & 0.10360882                 & 4.852290e-23               & 3.727273e-23               & 1\\_24364016\\_T\\_C       & ENSG00000189266\\_PNRC2    & 3.186781e-20               & 1                          &  24364016                  & T                          & ⋯                          & 0.2431465                  & 0.95948844                 & 0.95584859                 & 0.21782557                 & 0.7011236                  & 0.60835092                 & 0.01993654                 & ENSG00000189266            & PNRC2                      & rs61773530                \\\\\n",
       "\t -1.0355745                 & 0.10365492                 & 2.889539e-22               & 1.675701e-23               & 1\\_75189847\\_T\\_C       & ENSG00000116791\\_CRYZ     & 1.626624e-19               & 1                          &  75189847                  & T                          & ⋯                          & 0.9417918                  & 0.08161423                 & 0.88777330                 & 0.93693458                 & 0.2180240                  & 0.14445355                 & 0.14499708                 & ENSG00000116791            & CRYZ                       & rs1424671                 \\\\\n",
       "\t -0.6957178                 & 0.07540540                 & 2.764506e-17               & 2.799692e-20               & 1\\_39465139\\_A\\_C       & ENSG00000168653\\_NDUFS5   & 7.781193e-15               & 1                          &  39465139                  & A                          & ⋯                          & 0.5668985                  & 0.93862277                 & 0.62489552                 & 0.87066206                 & 0.1522135                  & 0.67846606                 & 0.21201485                 & ENSG00000168653            & NDUFS5                     & rs11205522                \\\\\n",
       "\t -0.7409688                 & 0.09815311                 & 3.466158e-15               & 4.382373e-14               & 1\\_108739849\\_C\\_T      & ENSG00000085491\\_SLC25A24 & 6.504078e-13               & 1                          & 108739849                  & C                          & ⋯                          & 0.0207375                  & 0.72430557                 & 0.17900311                 & 0.08055645                 & 0.4630297                  & 0.20818287                 & 0.77572728                 & ENSG00000085491            & SLC25A24                   & rs676166                  \\\\\n",
       "\t -0.8706880                 & 0.10360809                 & 1.616229e-13               & 4.327428e-17               & 1\\_75189847\\_T\\_C       & ENSG00000162623\\_TYW3     & 2.493608e-11               & 1                          &  75189847                  & T                          & ⋯                          & 0.1125812                  & 0.40372242                 & 0.86585812                 & 0.43187795                 & 0.6991340                  & 0.54130774                 & 0.66269092                 & ENSG00000162623            & TYW3                       & rs1424671                 \\\\\n",
       "\t -0.9432526                 & 0.10400597                 & 4.973804e-13               & 1.198767e-19               & 1\\_19911802\\_T\\_C       & ENSG00000173436\\_MINOS1   & 6.322424e-11               & 1                          &  19911802                  & T                          & ⋯                          & 0.1227212                  & 0.30064527                 & 0.05977199                 & 0.97591189                 & 0.6105252                  & 0.04437388                 & 0.23966650                 & ENSG00000173436            & MINOS1                     & rs2792036                 \\\\\n",
       "\\end{tabular}\n"
      ],
      "text/markdown": [
       "\n",
       "beta | beta_se | empirical_feature_p_value | p_value | snp_id | feature | global_corr_p_value | chrom | pos | ref_allele | ⋯ | permutation_3 | permutation_4 | permutation_5 | permutation_6 | permutation_7 | permutation_8 | permutation_9 | ensembl_gene_id | gene_name | snp_rsid | \n",
       "|---|---|---|---|---|---|\n",
       "| -1.0268717               | 0.10360882               | 4.852290e-23             | 3.727273e-23             | 1_24364016_T_C           | ENSG00000189266_PNRC2    | 3.186781e-20             | 1                        |  24364016                | T                        | ⋯                        | 0.2431465                | 0.95948844               | 0.95584859               | 0.21782557               | 0.7011236                | 0.60835092               | 0.01993654               | ENSG00000189266          | PNRC2                    | rs61773530               | \n",
       "| -1.0355745               | 0.10365492               | 2.889539e-22             | 1.675701e-23             | 1_75189847_T_C           | ENSG00000116791_CRYZ     | 1.626624e-19             | 1                        |  75189847                | T                        | ⋯                        | 0.9417918                | 0.08161423               | 0.88777330               | 0.93693458               | 0.2180240                | 0.14445355               | 0.14499708               | ENSG00000116791          | CRYZ                     | rs1424671                | \n",
       "| -0.6957178               | 0.07540540               | 2.764506e-17             | 2.799692e-20             | 1_39465139_A_C           | ENSG00000168653_NDUFS5   | 7.781193e-15             | 1                        |  39465139                | A                        | ⋯                        | 0.5668985                | 0.93862277               | 0.62489552               | 0.87066206               | 0.1522135                | 0.67846606               | 0.21201485               | ENSG00000168653          | NDUFS5                   | rs11205522               | \n",
       "| -0.7409688               | 0.09815311               | 3.466158e-15             | 4.382373e-14             | 1_108739849_C_T          | ENSG00000085491_SLC25A24 | 6.504078e-13             | 1                        | 108739849                | C                        | ⋯                        | 0.0207375                | 0.72430557               | 0.17900311               | 0.08055645               | 0.4630297                | 0.20818287               | 0.77572728               | ENSG00000085491          | SLC25A24                 | rs676166                 | \n",
       "| -0.8706880               | 0.10360809               | 1.616229e-13             | 4.327428e-17             | 1_75189847_T_C           | ENSG00000162623_TYW3     | 2.493608e-11             | 1                        |  75189847                | T                        | ⋯                        | 0.1125812                | 0.40372242               | 0.86585812               | 0.43187795               | 0.6991340                | 0.54130774               | 0.66269092               | ENSG00000162623          | TYW3                     | rs1424671                | \n",
       "| -0.9432526               | 0.10400597               | 4.973804e-13             | 1.198767e-19             | 1_19911802_T_C           | ENSG00000173436_MINOS1   | 6.322424e-11             | 1                        |  19911802                | T                        | ⋯                        | 0.1227212                | 0.30064527               | 0.05977199               | 0.97591189               | 0.6105252                | 0.04437388               | 0.23966650               | ENSG00000173436          | MINOS1                   | rs2792036                | \n",
       "\n",
       "\n"
      ],
      "text/plain": [
       "  beta       beta_se    empirical_feature_p_value p_value      snp_id         \n",
       "1 -1.0268717 0.10360882 4.852290e-23              3.727273e-23 1_24364016_T_C \n",
       "2 -1.0355745 0.10365492 2.889539e-22              1.675701e-23 1_75189847_T_C \n",
       "3 -0.6957178 0.07540540 2.764506e-17              2.799692e-20 1_39465139_A_C \n",
       "4 -0.7409688 0.09815311 3.466158e-15              4.382373e-14 1_108739849_C_T\n",
       "5 -0.8706880 0.10360809 1.616229e-13              4.327428e-17 1_75189847_T_C \n",
       "6 -0.9432526 0.10400597 4.973804e-13              1.198767e-19 1_19911802_T_C \n",
       "  feature                  global_corr_p_value chrom pos       ref_allele ⋯\n",
       "1 ENSG00000189266_PNRC2    3.186781e-20        1      24364016 T          ⋯\n",
       "2 ENSG00000116791_CRYZ     1.626624e-19        1      75189847 T          ⋯\n",
       "3 ENSG00000168653_NDUFS5   7.781193e-15        1      39465139 A          ⋯\n",
       "4 ENSG00000085491_SLC25A24 6.504078e-13        1     108739849 C          ⋯\n",
       "5 ENSG00000162623_TYW3     2.493608e-11        1      75189847 T          ⋯\n",
       "6 ENSG00000173436_MINOS1   6.322424e-11        1      19911802 T          ⋯\n",
       "  permutation_3 permutation_4 permutation_5 permutation_6 permutation_7\n",
       "1 0.2431465     0.95948844    0.95584859    0.21782557    0.7011236    \n",
       "2 0.9417918     0.08161423    0.88777330    0.93693458    0.2180240    \n",
       "3 0.5668985     0.93862277    0.62489552    0.87066206    0.1522135    \n",
       "4 0.0207375     0.72430557    0.17900311    0.08055645    0.4630297    \n",
       "5 0.1125812     0.40372242    0.86585812    0.43187795    0.6991340    \n",
       "6 0.1227212     0.30064527    0.05977199    0.97591189    0.6105252    \n",
       "  permutation_8 permutation_9 ensembl_gene_id gene_name snp_rsid  \n",
       "1 0.60835092    0.01993654    ENSG00000189266 PNRC2     rs61773530\n",
       "2 0.14445355    0.14499708    ENSG00000116791 CRYZ      rs1424671 \n",
       "3 0.67846606    0.21201485    ENSG00000168653 NDUFS5    rs11205522\n",
       "4 0.20818287    0.77572728    ENSG00000085491 SLC25A24  rs676166  \n",
       "5 0.54130774    0.66269092    ENSG00000162623 TYW3      rs1424671 \n",
       "6 0.04437388    0.23966650    ENSG00000173436 MINOS1    rs2792036 "
      ]
     },
     "metadata": {},
     "output_type": "display_data"
    }
   ],
   "source": [
    "# mesendo.leads = read.csv(\"/nfs/leia/research/stegle/acuomo/mean/mesendo_est_June20/leads.csv\", row.names = 1)\n",
    "# mesendo.leads = SplitGeneInfo(mesendo.leads)\n",
    "# mesendo.leads = AddSnpRsids(mesendo.leads)\n",
    "head(mesendo.leads)"
   ]
  },
  {
   "cell_type": "code",
   "execution_count": 22,
   "metadata": {},
   "outputs": [],
   "source": [
    "mesendo.leads.filename = paste0(mydir,\"mesendo.leads.txt\")\n",
    "write.table(mesendo.leads, mesendo.leads.filename, sep = \"\\t\", quote = F, row.names = FALSE)"
   ]
  },
  {
   "cell_type": "code",
   "execution_count": 23,
   "metadata": {},
   "outputs": [
    {
     "name": "stderr",
     "output_type": "stream",
     "text": [
      "Joining, by = c(\"chrom\", \"pos\")\n"
     ]
    },
    {
     "data": {
      "text/html": [
       "<table>\n",
       "<thead><tr><th scope=col>beta</th><th scope=col>beta_se</th><th scope=col>empirical_feature_p_value</th><th scope=col>p_value</th><th scope=col>snp_id</th><th scope=col>feature</th><th scope=col>global_corr_p_value</th><th scope=col>chrom</th><th scope=col>pos</th><th scope=col>ref_allele</th><th scope=col>⋯</th><th scope=col>permutation_3</th><th scope=col>permutation_4</th><th scope=col>permutation_5</th><th scope=col>permutation_6</th><th scope=col>permutation_7</th><th scope=col>permutation_8</th><th scope=col>permutation_9</th><th scope=col>ensembl_gene_id</th><th scope=col>gene_name</th><th scope=col>snp_rsid</th></tr></thead>\n",
       "<tbody>\n",
       "\t<tr><td>-0.9122687            </td><td>0.08767589            </td><td>8.733500e-32          </td><td>2.352239e-25          </td><td>1_39465139_A_C        </td><td>ENSG00000168653_NDUFS5</td><td>1.979745e-28          </td><td>1                     </td><td> 39465139             </td><td>A                     </td><td>⋯                     </td><td>0.73907615            </td><td>0.7649246             </td><td>0.4915471             </td><td>0.3066058             </td><td>0.24123457            </td><td>0.1187501             </td><td>0.2318245             </td><td>ENSG00000168653       </td><td>NDUFS5                </td><td>rs11205522            </td></tr>\n",
       "\t<tr><td>-1.0292186            </td><td>0.10839444            </td><td>1.491397e-18          </td><td>2.199496e-21          </td><td>1_75189847_T_C        </td><td>ENSG00000116791_CRYZ  </td><td>9.015362e-16          </td><td>1                     </td><td> 75189847             </td><td>T                     </td><td>⋯                     </td><td>0.95221972            </td><td>0.2188547             </td><td>0.5712642             </td><td>0.3292014             </td><td>0.53891598            </td><td>0.4024206             </td><td>0.6674582             </td><td>ENSG00000116791       </td><td>CRYZ                  </td><td>rs1424671             </td></tr>\n",
       "\t<tr><td>-0.8776222            </td><td>0.09583309            </td><td>5.576915e-12          </td><td>5.295623e-20          </td><td>1_24364016_T_C        </td><td>ENSG00000189266_PNRC2 </td><td>9.029985e-10          </td><td>1                     </td><td> 24364016             </td><td>T                     </td><td>⋯                     </td><td>0.09031542            </td><td>0.7494634             </td><td>0.1307345             </td><td>0.8572970             </td><td>0.66410981            </td><td>0.3447975             </td><td>0.8668023             </td><td>ENSG00000189266       </td><td>PNRC2                 </td><td>rs61773530            </td></tr>\n",
       "\t<tr><td>-0.4649860            </td><td>0.07188726            </td><td>1.598049e-09          </td><td>9.913315e-11          </td><td>1_165599649_C_T       </td><td>ENSG00000143198_MGST3 </td><td>1.628100e-07          </td><td>1                     </td><td>165599649             </td><td>C                     </td><td>⋯                     </td><td>0.77081351            </td><td>0.2534301             </td><td>0.6816288             </td><td>0.8771795             </td><td>0.72715659            </td><td>0.5779859             </td><td>0.5962529             </td><td>ENSG00000143198       </td><td>MGST3                 </td><td>rs10918223            </td></tr>\n",
       "\t<tr><td> 0.7671610            </td><td>0.11228109            </td><td>4.333594e-09          </td><td>8.344512e-12          </td><td>1_171651692_T_C       </td><td>ENSG00000117533_VAMP4 </td><td>3.929428e-07          </td><td>1                     </td><td>171651692             </td><td>T                     </td><td>⋯                     </td><td>0.49069360            </td><td>0.1893900             </td><td>0.8999207             </td><td>0.8722565             </td><td>0.38342878            </td><td>0.6900384             </td><td>0.6204222             </td><td>ENSG00000117533       </td><td>VAMP4                 </td><td>rs188447967           </td></tr>\n",
       "\t<tr><td>-0.8383388            </td><td>0.11259674            </td><td>1.288480e-08          </td><td>9.657903e-14          </td><td>1_75189847_T_C        </td><td>ENSG00000162623_TYW3  </td><td>1.033904e-06          </td><td>1                     </td><td> 75189847             </td><td>T                     </td><td>⋯                     </td><td>0.43655165            </td><td>0.4449808             </td><td>0.4177315             </td><td>0.4582476             </td><td>0.02139354            </td><td>0.6093945             </td><td>0.7476584             </td><td>ENSG00000162623       </td><td>TYW3                  </td><td>rs1424671             </td></tr>\n",
       "</tbody>\n",
       "</table>\n"
      ],
      "text/latex": [
       "\\begin{tabular}{r|llllllllllllllllllllllll}\n",
       " beta & beta\\_se & empirical\\_feature\\_p\\_value & p\\_value & snp\\_id & feature & global\\_corr\\_p\\_value & chrom & pos & ref\\_allele & ⋯ & permutation\\_3 & permutation\\_4 & permutation\\_5 & permutation\\_6 & permutation\\_7 & permutation\\_8 & permutation\\_9 & ensembl\\_gene\\_id & gene\\_name & snp\\_rsid\\\\\n",
       "\\hline\n",
       "\t -0.9122687               & 0.08767589               & 8.733500e-32             & 2.352239e-25             & 1\\_39465139\\_A\\_C     & ENSG00000168653\\_NDUFS5 & 1.979745e-28             & 1                        &  39465139                & A                        & ⋯                        & 0.73907615               & 0.7649246                & 0.4915471                & 0.3066058                & 0.24123457               & 0.1187501                & 0.2318245                & ENSG00000168653          & NDUFS5                   & rs11205522              \\\\\n",
       "\t -1.0292186               & 0.10839444               & 1.491397e-18             & 2.199496e-21             & 1\\_75189847\\_T\\_C     & ENSG00000116791\\_CRYZ   & 9.015362e-16             & 1                        &  75189847                & T                        & ⋯                        & 0.95221972               & 0.2188547                & 0.5712642                & 0.3292014                & 0.53891598               & 0.4024206                & 0.6674582                & ENSG00000116791          & CRYZ                     & rs1424671               \\\\\n",
       "\t -0.8776222               & 0.09583309               & 5.576915e-12             & 5.295623e-20             & 1\\_24364016\\_T\\_C     & ENSG00000189266\\_PNRC2  & 9.029985e-10             & 1                        &  24364016                & T                        & ⋯                        & 0.09031542               & 0.7494634                & 0.1307345                & 0.8572970                & 0.66410981               & 0.3447975                & 0.8668023                & ENSG00000189266          & PNRC2                    & rs61773530              \\\\\n",
       "\t -0.4649860               & 0.07188726               & 1.598049e-09             & 9.913315e-11             & 1\\_165599649\\_C\\_T    & ENSG00000143198\\_MGST3  & 1.628100e-07             & 1                        & 165599649                & C                        & ⋯                        & 0.77081351               & 0.2534301                & 0.6816288                & 0.8771795                & 0.72715659               & 0.5779859                & 0.5962529                & ENSG00000143198          & MGST3                    & rs10918223              \\\\\n",
       "\t  0.7671610               & 0.11228109               & 4.333594e-09             & 8.344512e-12             & 1\\_171651692\\_T\\_C    & ENSG00000117533\\_VAMP4  & 3.929428e-07             & 1                        & 171651692                & T                        & ⋯                        & 0.49069360               & 0.1893900                & 0.8999207                & 0.8722565                & 0.38342878               & 0.6900384                & 0.6204222                & ENSG00000117533          & VAMP4                    & rs188447967             \\\\\n",
       "\t -0.8383388               & 0.11259674               & 1.288480e-08             & 9.657903e-14             & 1\\_75189847\\_T\\_C     & ENSG00000162623\\_TYW3   & 1.033904e-06             & 1                        &  75189847                & T                        & ⋯                        & 0.43655165               & 0.4449808                & 0.4177315                & 0.4582476                & 0.02139354               & 0.6093945                & 0.7476584                & ENSG00000162623          & TYW3                     & rs1424671               \\\\\n",
       "\\end{tabular}\n"
      ],
      "text/markdown": [
       "\n",
       "beta | beta_se | empirical_feature_p_value | p_value | snp_id | feature | global_corr_p_value | chrom | pos | ref_allele | ⋯ | permutation_3 | permutation_4 | permutation_5 | permutation_6 | permutation_7 | permutation_8 | permutation_9 | ensembl_gene_id | gene_name | snp_rsid | \n",
       "|---|---|---|---|---|---|\n",
       "| -0.9122687             | 0.08767589             | 8.733500e-32           | 2.352239e-25           | 1_39465139_A_C         | ENSG00000168653_NDUFS5 | 1.979745e-28           | 1                      |  39465139              | A                      | ⋯                      | 0.73907615             | 0.7649246              | 0.4915471              | 0.3066058              | 0.24123457             | 0.1187501              | 0.2318245              | ENSG00000168653        | NDUFS5                 | rs11205522             | \n",
       "| -1.0292186             | 0.10839444             | 1.491397e-18           | 2.199496e-21           | 1_75189847_T_C         | ENSG00000116791_CRYZ   | 9.015362e-16           | 1                      |  75189847              | T                      | ⋯                      | 0.95221972             | 0.2188547              | 0.5712642              | 0.3292014              | 0.53891598             | 0.4024206              | 0.6674582              | ENSG00000116791        | CRYZ                   | rs1424671              | \n",
       "| -0.8776222             | 0.09583309             | 5.576915e-12           | 5.295623e-20           | 1_24364016_T_C         | ENSG00000189266_PNRC2  | 9.029985e-10           | 1                      |  24364016              | T                      | ⋯                      | 0.09031542             | 0.7494634              | 0.1307345              | 0.8572970              | 0.66410981             | 0.3447975              | 0.8668023              | ENSG00000189266        | PNRC2                  | rs61773530             | \n",
       "| -0.4649860             | 0.07188726             | 1.598049e-09           | 9.913315e-11           | 1_165599649_C_T        | ENSG00000143198_MGST3  | 1.628100e-07           | 1                      | 165599649              | C                      | ⋯                      | 0.77081351             | 0.2534301              | 0.6816288              | 0.8771795              | 0.72715659             | 0.5779859              | 0.5962529              | ENSG00000143198        | MGST3                  | rs10918223             | \n",
       "|  0.7671610             | 0.11228109             | 4.333594e-09           | 8.344512e-12           | 1_171651692_T_C        | ENSG00000117533_VAMP4  | 3.929428e-07           | 1                      | 171651692              | T                      | ⋯                      | 0.49069360             | 0.1893900              | 0.8999207              | 0.8722565              | 0.38342878             | 0.6900384              | 0.6204222              | ENSG00000117533        | VAMP4                  | rs188447967            | \n",
       "| -0.8383388             | 0.11259674             | 1.288480e-08           | 9.657903e-14           | 1_75189847_T_C         | ENSG00000162623_TYW3   | 1.033904e-06           | 1                      |  75189847              | T                      | ⋯                      | 0.43655165             | 0.4449808              | 0.4177315              | 0.4582476              | 0.02139354             | 0.6093945              | 0.7476584              | ENSG00000162623        | TYW3                   | rs1424671              | \n",
       "\n",
       "\n"
      ],
      "text/plain": [
       "  beta       beta_se    empirical_feature_p_value p_value      snp_id         \n",
       "1 -0.9122687 0.08767589 8.733500e-32              2.352239e-25 1_39465139_A_C \n",
       "2 -1.0292186 0.10839444 1.491397e-18              2.199496e-21 1_75189847_T_C \n",
       "3 -0.8776222 0.09583309 5.576915e-12              5.295623e-20 1_24364016_T_C \n",
       "4 -0.4649860 0.07188726 1.598049e-09              9.913315e-11 1_165599649_C_T\n",
       "5  0.7671610 0.11228109 4.333594e-09              8.344512e-12 1_171651692_T_C\n",
       "6 -0.8383388 0.11259674 1.288480e-08              9.657903e-14 1_75189847_T_C \n",
       "  feature                global_corr_p_value chrom pos       ref_allele ⋯\n",
       "1 ENSG00000168653_NDUFS5 1.979745e-28        1      39465139 A          ⋯\n",
       "2 ENSG00000116791_CRYZ   9.015362e-16        1      75189847 T          ⋯\n",
       "3 ENSG00000189266_PNRC2  9.029985e-10        1      24364016 T          ⋯\n",
       "4 ENSG00000143198_MGST3  1.628100e-07        1     165599649 C          ⋯\n",
       "5 ENSG00000117533_VAMP4  3.929428e-07        1     171651692 T          ⋯\n",
       "6 ENSG00000162623_TYW3   1.033904e-06        1      75189847 T          ⋯\n",
       "  permutation_3 permutation_4 permutation_5 permutation_6 permutation_7\n",
       "1 0.73907615    0.7649246     0.4915471     0.3066058     0.24123457   \n",
       "2 0.95221972    0.2188547     0.5712642     0.3292014     0.53891598   \n",
       "3 0.09031542    0.7494634     0.1307345     0.8572970     0.66410981   \n",
       "4 0.77081351    0.2534301     0.6816288     0.8771795     0.72715659   \n",
       "5 0.49069360    0.1893900     0.8999207     0.8722565     0.38342878   \n",
       "6 0.43655165    0.4449808     0.4177315     0.4582476     0.02139354   \n",
       "  permutation_8 permutation_9 ensembl_gene_id gene_name snp_rsid   \n",
       "1 0.1187501     0.2318245     ENSG00000168653 NDUFS5    rs11205522 \n",
       "2 0.4024206     0.6674582     ENSG00000116791 CRYZ      rs1424671  \n",
       "3 0.3447975     0.8668023     ENSG00000189266 PNRC2     rs61773530 \n",
       "4 0.5779859     0.5962529     ENSG00000143198 MGST3     rs10918223 \n",
       "5 0.6900384     0.6204222     ENSG00000117533 VAMP4     rs188447967\n",
       "6 0.6093945     0.7476584     ENSG00000162623 TYW3      rs1424671  "
      ]
     },
     "metadata": {},
     "output_type": "display_data"
    }
   ],
   "source": [
    "defendo.leads = read.csv(\"/nfs/leia/research/stegle/acuomo/mean/defendo_est_June20/leads.csv\", row.names = 1)\n",
    "defendo.leads = SplitGeneInfo(defendo.leads)\n",
    "defendo.leads = AddSnpRsids(defendo.leads)\n",
    "head(defendo.leads)"
   ]
  },
  {
   "cell_type": "code",
   "execution_count": 24,
   "metadata": {},
   "outputs": [],
   "source": [
    "defendo.leads.filename = paste0(mydir,\"defendo.leads.txt\")\n",
    "write.table(defendo.leads, defendo.leads.filename, sep = \"\\t\", quote = F, row.names = FALSE)"
   ]
  },
  {
   "cell_type": "code",
   "execution_count": null,
   "metadata": {},
   "outputs": [],
   "source": [
    "### days"
   ]
  },
  {
   "cell_type": "code",
   "execution_count": 25,
   "metadata": {},
   "outputs": [
    {
     "name": "stderr",
     "output_type": "stream",
     "text": [
      "Joining, by = c(\"chrom\", \"pos\")\n"
     ]
    },
    {
     "data": {
      "text/html": [
       "<table>\n",
       "<thead><tr><th scope=col>beta</th><th scope=col>beta_se</th><th scope=col>empirical_feature_p_value</th><th scope=col>p_value</th><th scope=col>snp_id</th><th scope=col>feature</th><th scope=col>global_corr_p_value</th><th scope=col>chrom</th><th scope=col>pos</th><th scope=col>ref_allele</th><th scope=col>⋯</th><th scope=col>permutation_3</th><th scope=col>permutation_4</th><th scope=col>permutation_5</th><th scope=col>permutation_6</th><th scope=col>permutation_7</th><th scope=col>permutation_8</th><th scope=col>permutation_9</th><th scope=col>ensembl_gene_id</th><th scope=col>gene_name</th><th scope=col>snp_rsid</th></tr></thead>\n",
       "<tbody>\n",
       "\t<tr><td>-0.9269966              </td><td>0.09116613              </td><td>6.801554e-21            </td><td>2.749088e-24            </td><td>1_24364016_T_C          </td><td>ENSG00000189266_PNRC2   </td><td>3.853176e-18            </td><td>1                       </td><td> 24364016               </td><td>T                       </td><td>⋯                       </td><td>0.30905805              </td><td>0.2992134               </td><td>0.8111852               </td><td>0.10595850              </td><td>0.1529934               </td><td>0.97220644              </td><td>0.44658741              </td><td>ENSG00000189266         </td><td>PNRC2                   </td><td>rs61773530              </td></tr>\n",
       "\t<tr><td>-0.9866419              </td><td>0.10132891              </td><td>3.185062e-16            </td><td>2.096053e-22            </td><td>1_75189847_T_C          </td><td>ENSG00000116791_CRYZ    </td><td>5.874733e-14            </td><td>1                       </td><td> 75189847               </td><td>T                       </td><td>⋯                       </td><td>0.01707314              </td><td>0.6591003               </td><td>0.3334245               </td><td>0.10354072              </td><td>0.3355486               </td><td>0.98578247              </td><td>0.35181971              </td><td>ENSG00000116791         </td><td>CRYZ                    </td><td>rs1424671               </td></tr>\n",
       "\t<tr><td>-0.3888929              </td><td>0.04712030              </td><td>4.870883e-15            </td><td>1.542185e-16            </td><td>1_89373371_T_C          </td><td>ENSG00000137944_CCBL2   </td><td>6.898559e-13            </td><td>1                       </td><td> 89373371               </td><td>T                       </td><td>⋯                       </td><td>0.34827366              </td><td>0.9931216               </td><td>0.2162904               </td><td>0.08175724              </td><td>0.4427933               </td><td>0.44144835              </td><td>0.59110954              </td><td>ENSG00000137944         </td><td>CCBL2                   </td><td>rs10801690              </td></tr>\n",
       "\t<tr><td> 1.0605896              </td><td>0.10870507              </td><td>6.433826e-15            </td><td>1.728897e-22            </td><td>1_171667160_G_A         </td><td>ENSG00000117533_VAMP4   </td><td>8.648803e-13            </td><td>1                       </td><td>171667160               </td><td>G                       </td><td>⋯                       </td><td>0.73328020              </td><td>0.1180319               </td><td>0.7829828               </td><td>0.01499698              </td><td>0.3892203               </td><td>0.57258671              </td><td>0.59450470              </td><td>ENSG00000117533         </td><td>VAMP4                   </td><td>rs11578179              </td></tr>\n",
       "\t<tr><td>-0.7868997              </td><td>0.08318238              </td><td>4.012253e-14            </td><td>3.081419e-21            </td><td>1_108739849_C_T         </td><td>ENSG00000085491_SLC25A24</td><td>4.749547e-12            </td><td>1                       </td><td>108739849               </td><td>C                       </td><td>⋯                       </td><td>0.92646861              </td><td>0.3740020               </td><td>0.5832400               </td><td>0.75489798              </td><td>0.7363466               </td><td>0.59336176              </td><td>0.09158537              </td><td>ENSG00000085491         </td><td>SLC25A24                </td><td>rs676166                </td></tr>\n",
       "\t<tr><td>-0.6967376              </td><td>0.07465868              </td><td>2.833927e-13            </td><td>1.035920e-20            </td><td>1_19911802_T_C          </td><td>ENSG00000173436_MINOS1  </td><td>2.957425e-11            </td><td>1                       </td><td> 19911802               </td><td>T                       </td><td>⋯                       </td><td>0.44634492              </td><td>0.1103569               </td><td>0.2687007               </td><td>0.36388378              </td><td>0.5396158               </td><td>0.09768087              </td><td>0.03710821              </td><td>ENSG00000173436         </td><td>MINOS1                  </td><td>rs2792036               </td></tr>\n",
       "</tbody>\n",
       "</table>\n"
      ],
      "text/latex": [
       "\\begin{tabular}{r|llllllllllllllllllllllll}\n",
       " beta & beta\\_se & empirical\\_feature\\_p\\_value & p\\_value & snp\\_id & feature & global\\_corr\\_p\\_value & chrom & pos & ref\\_allele & ⋯ & permutation\\_3 & permutation\\_4 & permutation\\_5 & permutation\\_6 & permutation\\_7 & permutation\\_8 & permutation\\_9 & ensembl\\_gene\\_id & gene\\_name & snp\\_rsid\\\\\n",
       "\\hline\n",
       "\t -0.9269966                 & 0.09116613                 & 6.801554e-21               & 2.749088e-24               & 1\\_24364016\\_T\\_C       & ENSG00000189266\\_PNRC2    & 3.853176e-18               & 1                          &  24364016                  & T                          & ⋯                          & 0.30905805                 & 0.2992134                  & 0.8111852                  & 0.10595850                 & 0.1529934                  & 0.97220644                 & 0.44658741                 & ENSG00000189266            & PNRC2                      & rs61773530                \\\\\n",
       "\t -0.9866419                 & 0.10132891                 & 3.185062e-16               & 2.096053e-22               & 1\\_75189847\\_T\\_C       & ENSG00000116791\\_CRYZ     & 5.874733e-14               & 1                          &  75189847                  & T                          & ⋯                          & 0.01707314                 & 0.6591003                  & 0.3334245                  & 0.10354072                 & 0.3355486                  & 0.98578247                 & 0.35181971                 & ENSG00000116791            & CRYZ                       & rs1424671                 \\\\\n",
       "\t -0.3888929                 & 0.04712030                 & 4.870883e-15               & 1.542185e-16               & 1\\_89373371\\_T\\_C       & ENSG00000137944\\_CCBL2    & 6.898559e-13               & 1                          &  89373371                  & T                          & ⋯                          & 0.34827366                 & 0.9931216                  & 0.2162904                  & 0.08175724                 & 0.4427933                  & 0.44144835                 & 0.59110954                 & ENSG00000137944            & CCBL2                      & rs10801690                \\\\\n",
       "\t  1.0605896                 & 0.10870507                 & 6.433826e-15               & 1.728897e-22               & 1\\_171667160\\_G\\_A      & ENSG00000117533\\_VAMP4    & 8.648803e-13               & 1                          & 171667160                  & G                          & ⋯                          & 0.73328020                 & 0.1180319                  & 0.7829828                  & 0.01499698                 & 0.3892203                  & 0.57258671                 & 0.59450470                 & ENSG00000117533            & VAMP4                      & rs11578179                \\\\\n",
       "\t -0.7868997                 & 0.08318238                 & 4.012253e-14               & 3.081419e-21               & 1\\_108739849\\_C\\_T      & ENSG00000085491\\_SLC25A24 & 4.749547e-12               & 1                          & 108739849                  & C                          & ⋯                          & 0.92646861                 & 0.3740020                  & 0.5832400                  & 0.75489798                 & 0.7363466                  & 0.59336176                 & 0.09158537                 & ENSG00000085491            & SLC25A24                   & rs676166                  \\\\\n",
       "\t -0.6967376                 & 0.07465868                 & 2.833927e-13               & 1.035920e-20               & 1\\_19911802\\_T\\_C       & ENSG00000173436\\_MINOS1   & 2.957425e-11               & 1                          &  19911802                  & T                          & ⋯                          & 0.44634492                 & 0.1103569                  & 0.2687007                  & 0.36388378                 & 0.5396158                  & 0.09768087                 & 0.03710821                 & ENSG00000173436            & MINOS1                     & rs2792036                 \\\\\n",
       "\\end{tabular}\n"
      ],
      "text/markdown": [
       "\n",
       "beta | beta_se | empirical_feature_p_value | p_value | snp_id | feature | global_corr_p_value | chrom | pos | ref_allele | ⋯ | permutation_3 | permutation_4 | permutation_5 | permutation_6 | permutation_7 | permutation_8 | permutation_9 | ensembl_gene_id | gene_name | snp_rsid | \n",
       "|---|---|---|---|---|---|\n",
       "| -0.9269966               | 0.09116613               | 6.801554e-21             | 2.749088e-24             | 1_24364016_T_C           | ENSG00000189266_PNRC2    | 3.853176e-18             | 1                        |  24364016                | T                        | ⋯                        | 0.30905805               | 0.2992134                | 0.8111852                | 0.10595850               | 0.1529934                | 0.97220644               | 0.44658741               | ENSG00000189266          | PNRC2                    | rs61773530               | \n",
       "| -0.9866419               | 0.10132891               | 3.185062e-16             | 2.096053e-22             | 1_75189847_T_C           | ENSG00000116791_CRYZ     | 5.874733e-14             | 1                        |  75189847                | T                        | ⋯                        | 0.01707314               | 0.6591003                | 0.3334245                | 0.10354072               | 0.3355486                | 0.98578247               | 0.35181971               | ENSG00000116791          | CRYZ                     | rs1424671                | \n",
       "| -0.3888929               | 0.04712030               | 4.870883e-15             | 1.542185e-16             | 1_89373371_T_C           | ENSG00000137944_CCBL2    | 6.898559e-13             | 1                        |  89373371                | T                        | ⋯                        | 0.34827366               | 0.9931216                | 0.2162904                | 0.08175724               | 0.4427933                | 0.44144835               | 0.59110954               | ENSG00000137944          | CCBL2                    | rs10801690               | \n",
       "|  1.0605896               | 0.10870507               | 6.433826e-15             | 1.728897e-22             | 1_171667160_G_A          | ENSG00000117533_VAMP4    | 8.648803e-13             | 1                        | 171667160                | G                        | ⋯                        | 0.73328020               | 0.1180319                | 0.7829828                | 0.01499698               | 0.3892203                | 0.57258671               | 0.59450470               | ENSG00000117533          | VAMP4                    | rs11578179               | \n",
       "| -0.7868997               | 0.08318238               | 4.012253e-14             | 3.081419e-21             | 1_108739849_C_T          | ENSG00000085491_SLC25A24 | 4.749547e-12             | 1                        | 108739849                | C                        | ⋯                        | 0.92646861               | 0.3740020                | 0.5832400                | 0.75489798               | 0.7363466                | 0.59336176               | 0.09158537               | ENSG00000085491          | SLC25A24                 | rs676166                 | \n",
       "| -0.6967376               | 0.07465868               | 2.833927e-13             | 1.035920e-20             | 1_19911802_T_C           | ENSG00000173436_MINOS1   | 2.957425e-11             | 1                        |  19911802                | T                        | ⋯                        | 0.44634492               | 0.1103569                | 0.2687007                | 0.36388378               | 0.5396158                | 0.09768087               | 0.03710821               | ENSG00000173436          | MINOS1                   | rs2792036                | \n",
       "\n",
       "\n"
      ],
      "text/plain": [
       "  beta       beta_se    empirical_feature_p_value p_value      snp_id         \n",
       "1 -0.9269966 0.09116613 6.801554e-21              2.749088e-24 1_24364016_T_C \n",
       "2 -0.9866419 0.10132891 3.185062e-16              2.096053e-22 1_75189847_T_C \n",
       "3 -0.3888929 0.04712030 4.870883e-15              1.542185e-16 1_89373371_T_C \n",
       "4  1.0605896 0.10870507 6.433826e-15              1.728897e-22 1_171667160_G_A\n",
       "5 -0.7868997 0.08318238 4.012253e-14              3.081419e-21 1_108739849_C_T\n",
       "6 -0.6967376 0.07465868 2.833927e-13              1.035920e-20 1_19911802_T_C \n",
       "  feature                  global_corr_p_value chrom pos       ref_allele ⋯\n",
       "1 ENSG00000189266_PNRC2    3.853176e-18        1      24364016 T          ⋯\n",
       "2 ENSG00000116791_CRYZ     5.874733e-14        1      75189847 T          ⋯\n",
       "3 ENSG00000137944_CCBL2    6.898559e-13        1      89373371 T          ⋯\n",
       "4 ENSG00000117533_VAMP4    8.648803e-13        1     171667160 G          ⋯\n",
       "5 ENSG00000085491_SLC25A24 4.749547e-12        1     108739849 C          ⋯\n",
       "6 ENSG00000173436_MINOS1   2.957425e-11        1      19911802 T          ⋯\n",
       "  permutation_3 permutation_4 permutation_5 permutation_6 permutation_7\n",
       "1 0.30905805    0.2992134     0.8111852     0.10595850    0.1529934    \n",
       "2 0.01707314    0.6591003     0.3334245     0.10354072    0.3355486    \n",
       "3 0.34827366    0.9931216     0.2162904     0.08175724    0.4427933    \n",
       "4 0.73328020    0.1180319     0.7829828     0.01499698    0.3892203    \n",
       "5 0.92646861    0.3740020     0.5832400     0.75489798    0.7363466    \n",
       "6 0.44634492    0.1103569     0.2687007     0.36388378    0.5396158    \n",
       "  permutation_8 permutation_9 ensembl_gene_id gene_name snp_rsid  \n",
       "1 0.97220644    0.44658741    ENSG00000189266 PNRC2     rs61773530\n",
       "2 0.98578247    0.35181971    ENSG00000116791 CRYZ      rs1424671 \n",
       "3 0.44144835    0.59110954    ENSG00000137944 CCBL2     rs10801690\n",
       "4 0.57258671    0.59450470    ENSG00000117533 VAMP4     rs11578179\n",
       "5 0.59336176    0.09158537    ENSG00000085491 SLC25A24  rs676166  \n",
       "6 0.09768087    0.03710821    ENSG00000173436 MINOS1    rs2792036 "
      ]
     },
     "metadata": {},
     "output_type": "display_data"
    }
   ],
   "source": [
    "day0.leads = read.csv(\"/nfs/leia/research/stegle/acuomo/mean/day0/all_expts/leads.csv\", row.names = 1)\n",
    "day0.leads = SplitGeneInfo(day0.leads)\n",
    "day0.leads = AddSnpRsids(day0.leads)\n",
    "head(day0.leads)"
   ]
  },
  {
   "cell_type": "code",
   "execution_count": 27,
   "metadata": {},
   "outputs": [],
   "source": [
    "day0.leads.filename = paste0(mydir,\"day0.leads.txt\")\n",
    "write.table(day0.leads, day0.leads.filename, sep = \"\\t\", quote = F, row.names = FALSE)"
   ]
  },
  {
   "cell_type": "code",
   "execution_count": 28,
   "metadata": {},
   "outputs": [
    {
     "name": "stderr",
     "output_type": "stream",
     "text": [
      "Joining, by = c(\"chrom\", \"pos\")\n"
     ]
    },
    {
     "data": {
      "text/html": [
       "<table>\n",
       "<thead><tr><th scope=col>beta</th><th scope=col>beta_se</th><th scope=col>empirical_feature_p_value</th><th scope=col>p_value</th><th scope=col>snp_id</th><th scope=col>feature</th><th scope=col>global_corr_p_value</th><th scope=col>chrom</th><th scope=col>pos</th><th scope=col>ref_allele</th><th scope=col>alt_allele</th><th scope=col>ensembl_gene_id</th><th scope=col>gene_name</th><th scope=col>snp_rsid</th></tr></thead>\n",
       "<tbody>\n",
       "\t<tr><td>-1.0107911            </td><td>0.09562235            </td><td>1.302604e-27          </td><td>4.076232e-26          </td><td>1_24364016_T_C        </td><td>ENSG00000189266_PNRC2 </td><td>3.785642e-24          </td><td>1                     </td><td> 24364016             </td><td>T                     </td><td>C                     </td><td>ENSG00000189266       </td><td>PNRC2                 </td><td>rs61773530            </td></tr>\n",
       "\t<tr><td>-1.0570988            </td><td>0.10238749            </td><td>2.785332e-24          </td><td>5.460716e-25          </td><td>1_75214390_G_C        </td><td>ENSG00000116791_CRYZ  </td><td>2.229531e-21          </td><td>1                     </td><td> 75214390             </td><td>G                     </td><td>C                     </td><td>ENSG00000116791       </td><td>CRYZ                  </td><td>rs749690              </td></tr>\n",
       "\t<tr><td>-0.8442254            </td><td>0.08368277            </td><td>2.169530e-19          </td><td>6.217371e-24          </td><td>1_19911802_T_C        </td><td>ENSG00000173436_MINOS1</td><td>9.060570e-17          </td><td>1                     </td><td> 19911802             </td><td>T                     </td><td>C                     </td><td>ENSG00000173436       </td><td>MINOS1                </td><td>rs2792036             </td></tr>\n",
       "\t<tr><td>-0.6699340            </td><td>0.06688676            </td><td>4.140256e-18          </td><td>1.297189e-23          </td><td>1_39465139_A_C        </td><td>ENSG00000168653_NDUFS5</td><td>1.590761e-15          </td><td>1                     </td><td> 39465139             </td><td>A                     </td><td>C                     </td><td>ENSG00000168653       </td><td>NDUFS5                </td><td>rs11205522            </td></tr>\n",
       "\t<tr><td>-0.8322924            </td><td>0.09416837            </td><td>2.785441e-14          </td><td>9.714873e-19          </td><td>1_21795388_A_G        </td><td>ENSG00000142794_NBPF3 </td><td>5.246160e-12          </td><td>1                     </td><td> 21795388             </td><td>A                     </td><td>G                     </td><td>ENSG00000142794       </td><td>NBPF3                 </td><td>rs1827293             </td></tr>\n",
       "\t<tr><td> 1.0983003            </td><td>0.12207278            </td><td>7.814221e-14          </td><td>2.317699e-19          </td><td>1_171728983_G_A       </td><td>ENSG00000117533_VAMP4 </td><td>1.316827e-11          </td><td>1                     </td><td>171728983             </td><td>G                     </td><td>A                     </td><td>ENSG00000117533       </td><td>VAMP4                 </td><td>rs2421911             </td></tr>\n",
       "</tbody>\n",
       "</table>\n"
      ],
      "text/latex": [
       "\\begin{tabular}{r|llllllllllllll}\n",
       " beta & beta\\_se & empirical\\_feature\\_p\\_value & p\\_value & snp\\_id & feature & global\\_corr\\_p\\_value & chrom & pos & ref\\_allele & alt\\_allele & ensembl\\_gene\\_id & gene\\_name & snp\\_rsid\\\\\n",
       "\\hline\n",
       "\t -1.0107911               & 0.09562235               & 1.302604e-27             & 4.076232e-26             & 1\\_24364016\\_T\\_C     & ENSG00000189266\\_PNRC2  & 3.785642e-24             & 1                        &  24364016                & T                        & C                        & ENSG00000189266          & PNRC2                    & rs61773530              \\\\\n",
       "\t -1.0570988               & 0.10238749               & 2.785332e-24             & 5.460716e-25             & 1\\_75214390\\_G\\_C     & ENSG00000116791\\_CRYZ   & 2.229531e-21             & 1                        &  75214390                & G                        & C                        & ENSG00000116791          & CRYZ                     & rs749690                \\\\\n",
       "\t -0.8442254               & 0.08368277               & 2.169530e-19             & 6.217371e-24             & 1\\_19911802\\_T\\_C     & ENSG00000173436\\_MINOS1 & 9.060570e-17             & 1                        &  19911802                & T                        & C                        & ENSG00000173436          & MINOS1                   & rs2792036               \\\\\n",
       "\t -0.6699340               & 0.06688676               & 4.140256e-18             & 1.297189e-23             & 1\\_39465139\\_A\\_C     & ENSG00000168653\\_NDUFS5 & 1.590761e-15             & 1                        &  39465139                & A                        & C                        & ENSG00000168653          & NDUFS5                   & rs11205522              \\\\\n",
       "\t -0.8322924               & 0.09416837               & 2.785441e-14             & 9.714873e-19             & 1\\_21795388\\_A\\_G     & ENSG00000142794\\_NBPF3  & 5.246160e-12             & 1                        &  21795388                & A                        & G                        & ENSG00000142794          & NBPF3                    & rs1827293               \\\\\n",
       "\t  1.0983003               & 0.12207278               & 7.814221e-14             & 2.317699e-19             & 1\\_171728983\\_G\\_A    & ENSG00000117533\\_VAMP4  & 1.316827e-11             & 1                        & 171728983                & G                        & A                        & ENSG00000117533          & VAMP4                    & rs2421911               \\\\\n",
       "\\end{tabular}\n"
      ],
      "text/markdown": [
       "\n",
       "beta | beta_se | empirical_feature_p_value | p_value | snp_id | feature | global_corr_p_value | chrom | pos | ref_allele | alt_allele | ensembl_gene_id | gene_name | snp_rsid | \n",
       "|---|---|---|---|---|---|\n",
       "| -1.0107911             | 0.09562235             | 1.302604e-27           | 4.076232e-26           | 1_24364016_T_C         | ENSG00000189266_PNRC2  | 3.785642e-24           | 1                      |  24364016              | T                      | C                      | ENSG00000189266        | PNRC2                  | rs61773530             | \n",
       "| -1.0570988             | 0.10238749             | 2.785332e-24           | 5.460716e-25           | 1_75214390_G_C         | ENSG00000116791_CRYZ   | 2.229531e-21           | 1                      |  75214390              | G                      | C                      | ENSG00000116791        | CRYZ                   | rs749690               | \n",
       "| -0.8442254             | 0.08368277             | 2.169530e-19           | 6.217371e-24           | 1_19911802_T_C         | ENSG00000173436_MINOS1 | 9.060570e-17           | 1                      |  19911802              | T                      | C                      | ENSG00000173436        | MINOS1                 | rs2792036              | \n",
       "| -0.6699340             | 0.06688676             | 4.140256e-18           | 1.297189e-23           | 1_39465139_A_C         | ENSG00000168653_NDUFS5 | 1.590761e-15           | 1                      |  39465139              | A                      | C                      | ENSG00000168653        | NDUFS5                 | rs11205522             | \n",
       "| -0.8322924             | 0.09416837             | 2.785441e-14           | 9.714873e-19           | 1_21795388_A_G         | ENSG00000142794_NBPF3  | 5.246160e-12           | 1                      |  21795388              | A                      | G                      | ENSG00000142794        | NBPF3                  | rs1827293              | \n",
       "|  1.0983003             | 0.12207278             | 7.814221e-14           | 2.317699e-19           | 1_171728983_G_A        | ENSG00000117533_VAMP4  | 1.316827e-11           | 1                      | 171728983              | G                      | A                      | ENSG00000117533        | VAMP4                  | rs2421911              | \n",
       "\n",
       "\n"
      ],
      "text/plain": [
       "  beta       beta_se    empirical_feature_p_value p_value      snp_id         \n",
       "1 -1.0107911 0.09562235 1.302604e-27              4.076232e-26 1_24364016_T_C \n",
       "2 -1.0570988 0.10238749 2.785332e-24              5.460716e-25 1_75214390_G_C \n",
       "3 -0.8442254 0.08368277 2.169530e-19              6.217371e-24 1_19911802_T_C \n",
       "4 -0.6699340 0.06688676 4.140256e-18              1.297189e-23 1_39465139_A_C \n",
       "5 -0.8322924 0.09416837 2.785441e-14              9.714873e-19 1_21795388_A_G \n",
       "6  1.0983003 0.12207278 7.814221e-14              2.317699e-19 1_171728983_G_A\n",
       "  feature                global_corr_p_value chrom pos       ref_allele\n",
       "1 ENSG00000189266_PNRC2  3.785642e-24        1      24364016 T         \n",
       "2 ENSG00000116791_CRYZ   2.229531e-21        1      75214390 G         \n",
       "3 ENSG00000173436_MINOS1 9.060570e-17        1      19911802 T         \n",
       "4 ENSG00000168653_NDUFS5 1.590761e-15        1      39465139 A         \n",
       "5 ENSG00000142794_NBPF3  5.246160e-12        1      21795388 A         \n",
       "6 ENSG00000117533_VAMP4  1.316827e-11        1     171728983 G         \n",
       "  alt_allele ensembl_gene_id gene_name snp_rsid  \n",
       "1 C          ENSG00000189266 PNRC2     rs61773530\n",
       "2 C          ENSG00000116791 CRYZ      rs749690  \n",
       "3 C          ENSG00000173436 MINOS1    rs2792036 \n",
       "4 C          ENSG00000168653 NDUFS5    rs11205522\n",
       "5 G          ENSG00000142794 NBPF3     rs1827293 \n",
       "6 A          ENSG00000117533 VAMP4     rs2421911 "
      ]
     },
     "metadata": {},
     "output_type": "display_data"
    }
   ],
   "source": [
    "day1.leads = read.csv(\"/nfs/leia/research/stegle/acuomo/mean/day1/leads.csv\", row.names = 1)\n",
    "day1.leads = SplitGeneInfo(day1.leads)\n",
    "day1.leads = AddSnpRsids(day1.leads)\n",
    "head(day1.leads)"
   ]
  },
  {
   "cell_type": "code",
   "execution_count": 29,
   "metadata": {},
   "outputs": [],
   "source": [
    "day1.leads.filename = paste0(mydir,\"day1.leads.txt\")\n",
    "write.table(day1.leads, day1.leads.filename, sep = \"\\t\", quote = F, row.names = FALSE)"
   ]
  },
  {
   "cell_type": "code",
   "execution_count": 31,
   "metadata": {},
   "outputs": [
    {
     "name": "stderr",
     "output_type": "stream",
     "text": [
      "Joining, by = c(\"chrom\", \"pos\")\n"
     ]
    },
    {
     "data": {
      "text/html": [
       "<table>\n",
       "<thead><tr><th scope=col>beta</th><th scope=col>beta_se</th><th scope=col>empirical_feature_p_value</th><th scope=col>p_value</th><th scope=col>snp_id</th><th scope=col>feature</th><th scope=col>global_corr_p_value</th><th scope=col>chrom</th><th scope=col>pos</th><th scope=col>ref_allele</th><th scope=col>alt_allele</th><th scope=col>ensembl_gene_id</th><th scope=col>gene_name</th><th scope=col>snp_rsid</th></tr></thead>\n",
       "<tbody>\n",
       "\t<tr><td>-0.8538697            </td><td>0.07727158            </td><td>6.639585e-24          </td><td>2.186208e-28          </td><td>1_39465139_A_C        </td><td>ENSG00000168653_NDUFS5</td><td>1.307378e-20          </td><td>1                     </td><td> 39465139             </td><td>A                     </td><td>C                     </td><td>ENSG00000168653       </td><td>NDUFS5                </td><td>rs11205522            </td></tr>\n",
       "\t<tr><td>-1.0511882            </td><td>0.09949660            </td><td>2.312070e-19          </td><td>4.326639e-26          </td><td>1_75189847_T_C        </td><td>ENSG00000116791_CRYZ  </td><td>2.845385e-16          </td><td>1                     </td><td> 75189847             </td><td>T                     </td><td>C                     </td><td>ENSG00000116791       </td><td>CRYZ                  </td><td>rs1424671             </td></tr>\n",
       "\t<tr><td>-0.8375996            </td><td>0.09190622            </td><td>3.984506e-13          </td><td>7.966842e-20          </td><td>1_24364016_T_C        </td><td>ENSG00000189266_PNRC2 </td><td>1.352716e-10          </td><td>1                     </td><td> 24364016             </td><td>T                     </td><td>C                     </td><td>ENSG00000189266       </td><td>PNRC2                 </td><td>rs61773530            </td></tr>\n",
       "\t<tr><td>-0.7832241            </td><td>0.10073623            </td><td>1.425512e-08          </td><td>7.544810e-15          </td><td>1_19911802_T_C        </td><td>ENSG00000173436_MINOS1</td><td>2.004947e-06          </td><td>1                     </td><td> 19911802             </td><td>T                     </td><td>C                     </td><td>ENSG00000173436       </td><td>MINOS1                </td><td>rs2792036             </td></tr>\n",
       "\t<tr><td>-0.8212972            </td><td>0.11030539            </td><td>2.539283e-08          </td><td>9.645607e-14          </td><td>1_75189847_T_C        </td><td>ENSG00000162623_TYW3  </td><td>3.378389e-06          </td><td>1                     </td><td> 75189847             </td><td>T                     </td><td>C                     </td><td>ENSG00000162623       </td><td>TYW3                  </td><td>rs1424671             </td></tr>\n",
       "\t<tr><td> 0.4141181            </td><td>0.06700404            </td><td>1.940306e-06          </td><td>6.390095e-10          </td><td>1_234511503_A_G       </td><td>ENSG00000168275_COA6  </td><td>1.471583e-04          </td><td>1                     </td><td>234511503             </td><td>A                     </td><td>G                     </td><td>ENSG00000168275       </td><td>COA6                  </td><td>rs7523348             </td></tr>\n",
       "</tbody>\n",
       "</table>\n"
      ],
      "text/latex": [
       "\\begin{tabular}{r|llllllllllllll}\n",
       " beta & beta\\_se & empirical\\_feature\\_p\\_value & p\\_value & snp\\_id & feature & global\\_corr\\_p\\_value & chrom & pos & ref\\_allele & alt\\_allele & ensembl\\_gene\\_id & gene\\_name & snp\\_rsid\\\\\n",
       "\\hline\n",
       "\t -0.8538697               & 0.07727158               & 6.639585e-24             & 2.186208e-28             & 1\\_39465139\\_A\\_C     & ENSG00000168653\\_NDUFS5 & 1.307378e-20             & 1                        &  39465139                & A                        & C                        & ENSG00000168653          & NDUFS5                   & rs11205522              \\\\\n",
       "\t -1.0511882               & 0.09949660               & 2.312070e-19             & 4.326639e-26             & 1\\_75189847\\_T\\_C     & ENSG00000116791\\_CRYZ   & 2.845385e-16             & 1                        &  75189847                & T                        & C                        & ENSG00000116791          & CRYZ                     & rs1424671               \\\\\n",
       "\t -0.8375996               & 0.09190622               & 3.984506e-13             & 7.966842e-20             & 1\\_24364016\\_T\\_C     & ENSG00000189266\\_PNRC2  & 1.352716e-10             & 1                        &  24364016                & T                        & C                        & ENSG00000189266          & PNRC2                    & rs61773530              \\\\\n",
       "\t -0.7832241               & 0.10073623               & 1.425512e-08             & 7.544810e-15             & 1\\_19911802\\_T\\_C     & ENSG00000173436\\_MINOS1 & 2.004947e-06             & 1                        &  19911802                & T                        & C                        & ENSG00000173436          & MINOS1                   & rs2792036               \\\\\n",
       "\t -0.8212972               & 0.11030539               & 2.539283e-08             & 9.645607e-14             & 1\\_75189847\\_T\\_C     & ENSG00000162623\\_TYW3   & 3.378389e-06             & 1                        &  75189847                & T                        & C                        & ENSG00000162623          & TYW3                     & rs1424671               \\\\\n",
       "\t  0.4141181               & 0.06700404               & 1.940306e-06             & 6.390095e-10             & 1\\_234511503\\_A\\_G    & ENSG00000168275\\_COA6   & 1.471583e-04             & 1                        & 234511503                & A                        & G                        & ENSG00000168275          & COA6                     & rs7523348               \\\\\n",
       "\\end{tabular}\n"
      ],
      "text/markdown": [
       "\n",
       "beta | beta_se | empirical_feature_p_value | p_value | snp_id | feature | global_corr_p_value | chrom | pos | ref_allele | alt_allele | ensembl_gene_id | gene_name | snp_rsid | \n",
       "|---|---|---|---|---|---|\n",
       "| -0.8538697             | 0.07727158             | 6.639585e-24           | 2.186208e-28           | 1_39465139_A_C         | ENSG00000168653_NDUFS5 | 1.307378e-20           | 1                      |  39465139              | A                      | C                      | ENSG00000168653        | NDUFS5                 | rs11205522             | \n",
       "| -1.0511882             | 0.09949660             | 2.312070e-19           | 4.326639e-26           | 1_75189847_T_C         | ENSG00000116791_CRYZ   | 2.845385e-16           | 1                      |  75189847              | T                      | C                      | ENSG00000116791        | CRYZ                   | rs1424671              | \n",
       "| -0.8375996             | 0.09190622             | 3.984506e-13           | 7.966842e-20           | 1_24364016_T_C         | ENSG00000189266_PNRC2  | 1.352716e-10           | 1                      |  24364016              | T                      | C                      | ENSG00000189266        | PNRC2                  | rs61773530             | \n",
       "| -0.7832241             | 0.10073623             | 1.425512e-08           | 7.544810e-15           | 1_19911802_T_C         | ENSG00000173436_MINOS1 | 2.004947e-06           | 1                      |  19911802              | T                      | C                      | ENSG00000173436        | MINOS1                 | rs2792036              | \n",
       "| -0.8212972             | 0.11030539             | 2.539283e-08           | 9.645607e-14           | 1_75189847_T_C         | ENSG00000162623_TYW3   | 3.378389e-06           | 1                      |  75189847              | T                      | C                      | ENSG00000162623        | TYW3                   | rs1424671              | \n",
       "|  0.4141181             | 0.06700404             | 1.940306e-06           | 6.390095e-10           | 1_234511503_A_G        | ENSG00000168275_COA6   | 1.471583e-04           | 1                      | 234511503              | A                      | G                      | ENSG00000168275        | COA6                   | rs7523348              | \n",
       "\n",
       "\n"
      ],
      "text/plain": [
       "  beta       beta_se    empirical_feature_p_value p_value      snp_id         \n",
       "1 -0.8538697 0.07727158 6.639585e-24              2.186208e-28 1_39465139_A_C \n",
       "2 -1.0511882 0.09949660 2.312070e-19              4.326639e-26 1_75189847_T_C \n",
       "3 -0.8375996 0.09190622 3.984506e-13              7.966842e-20 1_24364016_T_C \n",
       "4 -0.7832241 0.10073623 1.425512e-08              7.544810e-15 1_19911802_T_C \n",
       "5 -0.8212972 0.11030539 2.539283e-08              9.645607e-14 1_75189847_T_C \n",
       "6  0.4141181 0.06700404 1.940306e-06              6.390095e-10 1_234511503_A_G\n",
       "  feature                global_corr_p_value chrom pos       ref_allele\n",
       "1 ENSG00000168653_NDUFS5 1.307378e-20        1      39465139 A         \n",
       "2 ENSG00000116791_CRYZ   2.845385e-16        1      75189847 T         \n",
       "3 ENSG00000189266_PNRC2  1.352716e-10        1      24364016 T         \n",
       "4 ENSG00000173436_MINOS1 2.004947e-06        1      19911802 T         \n",
       "5 ENSG00000162623_TYW3   3.378389e-06        1      75189847 T         \n",
       "6 ENSG00000168275_COA6   1.471583e-04        1     234511503 A         \n",
       "  alt_allele ensembl_gene_id gene_name snp_rsid  \n",
       "1 C          ENSG00000168653 NDUFS5    rs11205522\n",
       "2 C          ENSG00000116791 CRYZ      rs1424671 \n",
       "3 C          ENSG00000189266 PNRC2     rs61773530\n",
       "4 C          ENSG00000173436 MINOS1    rs2792036 \n",
       "5 C          ENSG00000162623 TYW3      rs1424671 \n",
       "6 G          ENSG00000168275 COA6      rs7523348 "
      ]
     },
     "metadata": {},
     "output_type": "display_data"
    }
   ],
   "source": [
    "day3.leads = read.csv(\"/nfs/leia/research/stegle/acuomo/mean/day3/leads.csv\", row.names = 1)\n",
    "day3.leads = SplitGeneInfo(day3.leads)\n",
    "day3.leads = AddSnpRsids(day3.leads)\n",
    "head(day3.leads)"
   ]
  },
  {
   "cell_type": "code",
   "execution_count": 32,
   "metadata": {},
   "outputs": [],
   "source": [
    "day3.leads.filename = paste0(mydir,\"day3.leads.txt\")\n",
    "write.table(day3.leads, day3.leads.filename, sep = \"\\t\", quote = F, row.names = FALSE)"
   ]
  },
  {
   "cell_type": "code",
   "execution_count": null,
   "metadata": {},
   "outputs": [],
   "source": [
    "### bulk ips (day0)"
   ]
  },
  {
   "cell_type": "code",
   "execution_count": 33,
   "metadata": {},
   "outputs": [
    {
     "name": "stderr",
     "output_type": "stream",
     "text": [
      "Joining, by = c(\"chrom\", \"pos\")\n"
     ]
    },
    {
     "data": {
      "text/html": [
       "<table>\n",
       "<thead><tr><th scope=col>beta</th><th scope=col>beta_se</th><th scope=col>empirical_feature_p_value</th><th scope=col>p_value</th><th scope=col>snp_id</th><th scope=col>feature</th><th scope=col>global_corr_p_value</th><th scope=col>chrom</th><th scope=col>pos</th><th scope=col>ref_allele</th><th scope=col>alt_allele</th><th scope=col>ensembl_gene_id</th><th scope=col>gene_name</th><th scope=col>snp_rsid</th></tr></thead>\n",
       "<tbody>\n",
       "\t<tr><td>-0.6115009              </td><td>0.05229288              </td><td>2.003786e-22            </td><td>1.371617e-31            </td><td>1_46806242_G_T          </td><td>ENSG00000117481_NSUN4   </td><td>2.616424e-20            </td><td>1                       </td><td> 46806242               </td><td>G                       </td><td>T                       </td><td>ENSG00000117481         </td><td>NSUN4                   </td><td>rs67545510              </td></tr>\n",
       "\t<tr><td>-1.2670836              </td><td>0.09204958              </td><td>8.186464e-22            </td><td>4.125709e-43            </td><td>1_146628479_C_G         </td><td>ENSG00000131791_PRKAB2  </td><td>9.620458e-20            </td><td>1                       </td><td>146628479               </td><td>C                       </td><td>G                       </td><td>ENSG00000131791         </td><td>PRKAB2                  </td><td>rs11584787              </td></tr>\n",
       "\t<tr><td>-1.0148197              </td><td>0.08978129              </td><td>8.362668e-21            </td><td>1.264597e-29            </td><td>1_146735170_G_A         </td><td>ENSG00000131778_CHD1L   </td><td>8.934115e-19            </td><td>1                       </td><td>146735170               </td><td>G                       </td><td>A                       </td><td>ENSG00000131778         </td><td>CHD1L                   </td><td>rs2883432               </td></tr>\n",
       "\t<tr><td>-1.0018160              </td><td>0.09248270              </td><td>4.149085e-20            </td><td>2.415499e-27            </td><td>1_24364016_T_C          </td><td>ENSG00000189266_PNRC2   </td><td>4.132089e-18            </td><td>1                       </td><td> 24364016               </td><td>T                       </td><td>C                       </td><td>ENSG00000189266         </td><td>PNRC2                   </td><td>rs61773530              </td></tr>\n",
       "\t<tr><td> 0.6451078              </td><td>0.06380361              </td><td>1.158593e-19            </td><td>4.946117e-24            </td><td>1_78392446_G_A          </td><td>ENSG00000162616_DNAJB4  </td><td>1.063703e-17            </td><td>1                       </td><td> 78392446               </td><td>G                       </td><td>A                       </td><td>ENSG00000162616         </td><td>DNAJB4                  </td><td>rs1166698               </td></tr>\n",
       "\t<tr><td>-0.4794575              </td><td>0.04201419              </td><td>4.071285e-19            </td><td>3.650944e-30            </td><td>1_179892028_G_A         </td><td>ENSG00000143337_TOR1AIP1</td><td>3.517969e-17            </td><td>1                       </td><td>179892028               </td><td>G                       </td><td>A                       </td><td>ENSG00000143337         </td><td>TOR1AIP1                </td><td>rs644412                </td></tr>\n",
       "</tbody>\n",
       "</table>\n"
      ],
      "text/latex": [
       "\\begin{tabular}{r|llllllllllllll}\n",
       " beta & beta\\_se & empirical\\_feature\\_p\\_value & p\\_value & snp\\_id & feature & global\\_corr\\_p\\_value & chrom & pos & ref\\_allele & alt\\_allele & ensembl\\_gene\\_id & gene\\_name & snp\\_rsid\\\\\n",
       "\\hline\n",
       "\t -0.6115009                 & 0.05229288                 & 2.003786e-22               & 1.371617e-31               & 1\\_46806242\\_G\\_T       & ENSG00000117481\\_NSUN4    & 2.616424e-20               & 1                          &  46806242                  & G                          & T                          & ENSG00000117481            & NSUN4                      & rs67545510                \\\\\n",
       "\t -1.2670836                 & 0.09204958                 & 8.186464e-22               & 4.125709e-43               & 1\\_146628479\\_C\\_G      & ENSG00000131791\\_PRKAB2   & 9.620458e-20               & 1                          & 146628479                  & C                          & G                          & ENSG00000131791            & PRKAB2                     & rs11584787                \\\\\n",
       "\t -1.0148197                 & 0.08978129                 & 8.362668e-21               & 1.264597e-29               & 1\\_146735170\\_G\\_A      & ENSG00000131778\\_CHD1L    & 8.934115e-19               & 1                          & 146735170                  & G                          & A                          & ENSG00000131778            & CHD1L                      & rs2883432                 \\\\\n",
       "\t -1.0018160                 & 0.09248270                 & 4.149085e-20               & 2.415499e-27               & 1\\_24364016\\_T\\_C       & ENSG00000189266\\_PNRC2    & 4.132089e-18               & 1                          &  24364016                  & T                          & C                          & ENSG00000189266            & PNRC2                      & rs61773530                \\\\\n",
       "\t  0.6451078                 & 0.06380361                 & 1.158593e-19               & 4.946117e-24               & 1\\_78392446\\_G\\_A       & ENSG00000162616\\_DNAJB4   & 1.063703e-17               & 1                          &  78392446                  & G                          & A                          & ENSG00000162616            & DNAJB4                     & rs1166698                 \\\\\n",
       "\t -0.4794575                 & 0.04201419                 & 4.071285e-19               & 3.650944e-30               & 1\\_179892028\\_G\\_A      & ENSG00000143337\\_TOR1AIP1 & 3.517969e-17               & 1                          & 179892028                  & G                          & A                          & ENSG00000143337            & TOR1AIP1                   & rs644412                  \\\\\n",
       "\\end{tabular}\n"
      ],
      "text/markdown": [
       "\n",
       "beta | beta_se | empirical_feature_p_value | p_value | snp_id | feature | global_corr_p_value | chrom | pos | ref_allele | alt_allele | ensembl_gene_id | gene_name | snp_rsid | \n",
       "|---|---|---|---|---|---|\n",
       "| -0.6115009               | 0.05229288               | 2.003786e-22             | 1.371617e-31             | 1_46806242_G_T           | ENSG00000117481_NSUN4    | 2.616424e-20             | 1                        |  46806242                | G                        | T                        | ENSG00000117481          | NSUN4                    | rs67545510               | \n",
       "| -1.2670836               | 0.09204958               | 8.186464e-22             | 4.125709e-43             | 1_146628479_C_G          | ENSG00000131791_PRKAB2   | 9.620458e-20             | 1                        | 146628479                | C                        | G                        | ENSG00000131791          | PRKAB2                   | rs11584787               | \n",
       "| -1.0148197               | 0.08978129               | 8.362668e-21             | 1.264597e-29             | 1_146735170_G_A          | ENSG00000131778_CHD1L    | 8.934115e-19             | 1                        | 146735170                | G                        | A                        | ENSG00000131778          | CHD1L                    | rs2883432                | \n",
       "| -1.0018160               | 0.09248270               | 4.149085e-20             | 2.415499e-27             | 1_24364016_T_C           | ENSG00000189266_PNRC2    | 4.132089e-18             | 1                        |  24364016                | T                        | C                        | ENSG00000189266          | PNRC2                    | rs61773530               | \n",
       "|  0.6451078               | 0.06380361               | 1.158593e-19             | 4.946117e-24             | 1_78392446_G_A           | ENSG00000162616_DNAJB4   | 1.063703e-17             | 1                        |  78392446                | G                        | A                        | ENSG00000162616          | DNAJB4                   | rs1166698                | \n",
       "| -0.4794575               | 0.04201419               | 4.071285e-19             | 3.650944e-30             | 1_179892028_G_A          | ENSG00000143337_TOR1AIP1 | 3.517969e-17             | 1                        | 179892028                | G                        | A                        | ENSG00000143337          | TOR1AIP1                 | rs644412                 | \n",
       "\n",
       "\n"
      ],
      "text/plain": [
       "  beta       beta_se    empirical_feature_p_value p_value      snp_id         \n",
       "1 -0.6115009 0.05229288 2.003786e-22              1.371617e-31 1_46806242_G_T \n",
       "2 -1.2670836 0.09204958 8.186464e-22              4.125709e-43 1_146628479_C_G\n",
       "3 -1.0148197 0.08978129 8.362668e-21              1.264597e-29 1_146735170_G_A\n",
       "4 -1.0018160 0.09248270 4.149085e-20              2.415499e-27 1_24364016_T_C \n",
       "5  0.6451078 0.06380361 1.158593e-19              4.946117e-24 1_78392446_G_A \n",
       "6 -0.4794575 0.04201419 4.071285e-19              3.650944e-30 1_179892028_G_A\n",
       "  feature                  global_corr_p_value chrom pos       ref_allele\n",
       "1 ENSG00000117481_NSUN4    2.616424e-20        1      46806242 G         \n",
       "2 ENSG00000131791_PRKAB2   9.620458e-20        1     146628479 C         \n",
       "3 ENSG00000131778_CHD1L    8.934115e-19        1     146735170 G         \n",
       "4 ENSG00000189266_PNRC2    4.132089e-18        1      24364016 T         \n",
       "5 ENSG00000162616_DNAJB4   1.063703e-17        1      78392446 G         \n",
       "6 ENSG00000143337_TOR1AIP1 3.517969e-17        1     179892028 G         \n",
       "  alt_allele ensembl_gene_id gene_name snp_rsid  \n",
       "1 T          ENSG00000117481 NSUN4     rs67545510\n",
       "2 G          ENSG00000131791 PRKAB2    rs11584787\n",
       "3 A          ENSG00000131778 CHD1L     rs2883432 \n",
       "4 C          ENSG00000189266 PNRC2     rs61773530\n",
       "5 A          ENSG00000162616 DNAJB4    rs1166698 \n",
       "6 A          ENSG00000143337 TOR1AIP1  rs644412  "
      ]
     },
     "metadata": {},
     "output_type": "display_data"
    }
   ],
   "source": [
    "bulk_ips.leads = read.csv(\"/nfs/leia/research/stegle/acuomo/mean/bulk_ipsc/leads.csv\", row.names = 1)\n",
    "bulk_ips.leads = SplitGeneInfo(bulk_ips.leads)\n",
    "bulk_ips.leads = AddSnpRsids(bulk_ips.leads)\n",
    "head(bulk_ips.leads)"
   ]
  },
  {
   "cell_type": "code",
   "execution_count": 34,
   "metadata": {},
   "outputs": [],
   "source": [
    "bulk_ips.leads.filename = paste0(mydir,\"bulk.ips.leads.txt\")\n",
    "write.table(bulk_ips.leads, bulk_ips.leads.filename, sep = \"\\t\", quote = F, row.names = FALSE)"
   ]
  },
  {
   "cell_type": "code",
   "execution_count": null,
   "metadata": {},
   "outputs": [],
   "source": []
  }
 ],
 "metadata": {
  "kernelspec": {
   "display_name": "R",
   "language": "R",
   "name": "ir"
  },
  "language_info": {
   "codemirror_mode": "r",
   "file_extension": ".r",
   "mimetype": "text/x-r-source",
   "name": "R",
   "pygments_lexer": "r",
   "version": "3.4.3"
  }
 },
 "nbformat": 4,
 "nbformat_minor": 2
}
