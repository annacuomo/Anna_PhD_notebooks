{
 "cells": [
  {
   "cell_type": "code",
   "execution_count": 2,
   "metadata": {},
   "outputs": [],
   "source": [
    "## load useful libraries\n",
    "suppressWarnings(suppressPackageStartupMessages(library(rhdf5)))\n",
    "suppressWarnings(suppressPackageStartupMessages(library(qvalue)))\n",
    "suppressWarnings(suppressPackageStartupMessages(library(dplyr)))\n",
    "suppressWarnings(suppressPackageStartupMessages(library(cowplot)))\n",
    "suppressWarnings(suppressPackageStartupMessages(library(tidyverse)))\n",
    "suppressWarnings(suppressPackageStartupMessages(library(ggbeeswarm)))\n",
    "suppressWarnings(suppressPackageStartupMessages(library(ggthemes)))\n",
    "# suppressWarnings(suppressPackageStartupMessages(library(scater)))\n",
    "suppressWarnings(suppressPackageStartupMessages(library(SingleCellExperiment)))\n",
    "suppressWarnings(suppressPackageStartupMessages(library(edgeR)))\n",
    "suppressWarnings(suppressPackageStartupMessages(library(limma)))\n",
    "suppressWarnings(suppressPackageStartupMessages(library(ggplot2)))\n",
    "suppressWarnings(suppressPackageStartupMessages(library(ISLR)))\n",
    "suppressWarnings(suppressPackageStartupMessages(library(GGally)))\n",
    "# suppressWarnings(suppressPackageStartupMessages(library(scran)))\n",
    "suppressWarnings(suppressPackageStartupMessages(library(ComplexHeatmap)))\n",
    "suppressWarnings(suppressPackageStartupMessages(library(circlize)))\n",
    "suppressWarnings(suppressPackageStartupMessages(library(ComplexHeatmap)))\n",
    "suppressWarnings(suppressPackageStartupMessages(library(Rtsne)))\n",
    "suppressWarnings(suppressPackageStartupMessages(library(RColorBrewer)))"
   ]
  },
  {
   "cell_type": "code",
   "execution_count": 3,
   "metadata": {},
   "outputs": [],
   "source": [
    "sce = readRDS(\"/hps/nobackup/hipsci/scratch/singlecell_endodiff/data_processed/merged/20180618/sce_merged_afterqc_filt_allexpts.rds\")"
   ]
  },
  {
   "cell_type": "code",
   "execution_count": 4,
   "metadata": {},
   "outputs": [
    {
     "data": {
      "text/plain": [
       "class: SingleCellExperiment \n",
       "dim: 11231 36044 \n",
       "metadata(4): log.exprs.offset log.exprs.offset log.exprs.offset\n",
       "  log.exprs.offset\n",
       "assays(3): tpm counts logcounts\n",
       "rownames(11231): ENSG00000000003_TSPAN6 ENSG00000000419_DPM1 ...\n",
       "  ENSG00000272325_NUDT3 ENSG00000272398_CD24\n",
       "rowData names(17): exprs_collapsed_to ensembl_transcript_id ...\n",
       "  is_intop2000hvg is_hvg\n",
       "colnames(36044): 21843_1#10 21843_1#100 ... 24539_8#97 24539_8#98\n",
       "colData names(123): adj_x adj_y ... princ_curve princ_curve_scaled01\n",
       "reducedDimNames(1): PCA\n",
       "spikeNames(1): ERCC"
      ]
     },
     "metadata": {},
     "output_type": "display_data"
    }
   ],
   "source": [
    "sce"
   ]
  },
  {
   "cell_type": "code",
   "execution_count": null,
   "metadata": {},
   "outputs": [],
   "source": [
    "#### make tables"
   ]
  },
  {
   "cell_type": "code",
   "execution_count": null,
   "metadata": {},
   "outputs": [],
   "source": [
    "################################"
   ]
  },
  {
   "cell_type": "code",
   "execution_count": null,
   "metadata": {},
   "outputs": [],
   "source": [
    "################################\n",
    "## S1 (experiment metadata)\n",
    "################################"
   ]
  },
  {
   "cell_type": "code",
   "execution_count": null,
   "metadata": {},
   "outputs": [],
   "source": [
    "################################"
   ]
  },
  {
   "cell_type": "code",
   "execution_count": 60,
   "metadata": {},
   "outputs": [
    {
     "data": {
      "text/html": [
       "<table>\n",
       "<thead><tr><th scope=col>experiment</th><th scope=col>ncells_day0</th><th scope=col>ncells_day1</th><th scope=col>ncells_day2</th><th scope=col>ncells_day3</th></tr></thead>\n",
       "<tbody>\n",
       "\t<tr><td>expt_09</td><td>610    </td><td>544    </td><td>539    </td><td>585    </td></tr>\n",
       "\t<tr><td>expt_10</td><td>610    </td><td>544    </td><td>539    </td><td>585    </td></tr>\n",
       "\t<tr><td>expt_12</td><td>610    </td><td>544    </td><td>539    </td><td>585    </td></tr>\n",
       "\t<tr><td>expt_18</td><td>610    </td><td>544    </td><td>539    </td><td>585    </td></tr>\n",
       "\t<tr><td>expt_20</td><td>610    </td><td>544    </td><td>539    </td><td>585    </td></tr>\n",
       "\t<tr><td>expt_21</td><td>610    </td><td>544    </td><td>539    </td><td>585    </td></tr>\n",
       "</tbody>\n",
       "</table>\n"
      ],
      "text/latex": [
       "\\begin{tabular}{r|lllll}\n",
       " experiment & ncells\\_day0 & ncells\\_day1 & ncells\\_day2 & ncells\\_day3\\\\\n",
       "\\hline\n",
       "\t expt\\_09 & 610       & 544       & 539       & 585      \\\\\n",
       "\t expt\\_10 & 610       & 544       & 539       & 585      \\\\\n",
       "\t expt\\_12 & 610       & 544       & 539       & 585      \\\\\n",
       "\t expt\\_18 & 610       & 544       & 539       & 585      \\\\\n",
       "\t expt\\_20 & 610       & 544       & 539       & 585      \\\\\n",
       "\t expt\\_21 & 610       & 544       & 539       & 585      \\\\\n",
       "\\end{tabular}\n"
      ],
      "text/markdown": [
       "\n",
       "experiment | ncells_day0 | ncells_day1 | ncells_day2 | ncells_day3 | \n",
       "|---|---|---|---|---|---|\n",
       "| expt_09 | 610     | 544     | 539     | 585     | \n",
       "| expt_10 | 610     | 544     | 539     | 585     | \n",
       "| expt_12 | 610     | 544     | 539     | 585     | \n",
       "| expt_18 | 610     | 544     | 539     | 585     | \n",
       "| expt_20 | 610     | 544     | 539     | 585     | \n",
       "| expt_21 | 610     | 544     | 539     | 585     | \n",
       "\n",
       "\n"
      ],
      "text/plain": [
       "  experiment ncells_day0 ncells_day1 ncells_day2 ncells_day3\n",
       "1 expt_09    610         544         539         585        \n",
       "2 expt_10    610         544         539         585        \n",
       "3 expt_12    610         544         539         585        \n",
       "4 expt_18    610         544         539         585        \n",
       "5 expt_20    610         544         539         585        \n",
       "6 expt_21    610         544         539         585        "
      ]
     },
     "metadata": {},
     "output_type": "display_data"
    }
   ],
   "source": [
    "df = data.frame(experiment = unique(sce$experiment))\n",
    "for (i in 1:nrow(df)){\n",
    "    sce_curr = sce[,sce$experiment == df$experiment[i]]\n",
    "#     df$lines_used = paste(unique(sce_curr$donor_short_id))\n",
    "    df$ncells_day0 = ncol(sce_curr[,sce_curr$day == \"day0\"])\n",
    "    df$ncells_day1 = ncol(sce_curr[,sce_curr$day == \"day1\"])\n",
    "    df$ncells_day2 = ncol(sce_curr[,sce_curr$day == \"day2\"])\n",
    "    df$ncells_day3 = ncol(sce_curr[,sce_curr$day == \"day3\"])\n",
    "}\n",
    "head(df)"
   ]
  },
  {
   "cell_type": "code",
   "execution_count": 67,
   "metadata": {},
   "outputs": [
    {
     "data": {
      "text/html": [
       "<table>\n",
       "<thead><tr><th scope=col>experiment</th><th scope=col>ncells_day0</th><th scope=col>ncells_day1</th><th scope=col>ncells_day2</th><th scope=col>ncells_day3</th><th scope=col>lines_used</th></tr></thead>\n",
       "<tbody>\n",
       "\t<tr><td>expt_09                                       </td><td>610                                           </td><td>544                                           </td><td>539                                           </td><td>585                                           </td><td>wigw_2, zagm_1, nocf_2, wahn_1, fejf_2, nufh_3</td></tr>\n",
       "\t<tr><td>expt_10                                       </td><td>610                                           </td><td>544                                           </td><td>539                                           </td><td>585                                           </td><td>wigw_2, zagm_1, nocf_2, wahn_1, fejf_2, nufh_3</td></tr>\n",
       "\t<tr><td>expt_12                                       </td><td>610                                           </td><td>544                                           </td><td>539                                           </td><td>585                                           </td><td>wigw_2, zagm_1, nocf_2, wahn_1, fejf_2, nufh_3</td></tr>\n",
       "\t<tr><td>expt_18                                       </td><td>610                                           </td><td>544                                           </td><td>539                                           </td><td>585                                           </td><td>wigw_2, zagm_1, nocf_2, wahn_1, fejf_2, nufh_3</td></tr>\n",
       "\t<tr><td>expt_20                                       </td><td>610                                           </td><td>544                                           </td><td>539                                           </td><td>585                                           </td><td>wigw_2, zagm_1, nocf_2, wahn_1, fejf_2, nufh_3</td></tr>\n",
       "\t<tr><td>expt_21                                       </td><td>610                                           </td><td>544                                           </td><td>539                                           </td><td>585                                           </td><td>wigw_2, zagm_1, nocf_2, wahn_1, fejf_2, nufh_3</td></tr>\n",
       "</tbody>\n",
       "</table>\n"
      ],
      "text/latex": [
       "\\begin{tabular}{r|llllll}\n",
       " experiment & ncells\\_day0 & ncells\\_day1 & ncells\\_day2 & ncells\\_day3 & lines\\_used\\\\\n",
       "\\hline\n",
       "\t expt\\_09                                                  & 610                                                        & 544                                                        & 539                                                        & 585                                                        & wigw\\_2, zagm\\_1, nocf\\_2, wahn\\_1, fejf\\_2, nufh\\_3\\\\\n",
       "\t expt\\_10                                                  & 610                                                        & 544                                                        & 539                                                        & 585                                                        & wigw\\_2, zagm\\_1, nocf\\_2, wahn\\_1, fejf\\_2, nufh\\_3\\\\\n",
       "\t expt\\_12                                                  & 610                                                        & 544                                                        & 539                                                        & 585                                                        & wigw\\_2, zagm\\_1, nocf\\_2, wahn\\_1, fejf\\_2, nufh\\_3\\\\\n",
       "\t expt\\_18                                                  & 610                                                        & 544                                                        & 539                                                        & 585                                                        & wigw\\_2, zagm\\_1, nocf\\_2, wahn\\_1, fejf\\_2, nufh\\_3\\\\\n",
       "\t expt\\_20                                                  & 610                                                        & 544                                                        & 539                                                        & 585                                                        & wigw\\_2, zagm\\_1, nocf\\_2, wahn\\_1, fejf\\_2, nufh\\_3\\\\\n",
       "\t expt\\_21                                                  & 610                                                        & 544                                                        & 539                                                        & 585                                                        & wigw\\_2, zagm\\_1, nocf\\_2, wahn\\_1, fejf\\_2, nufh\\_3\\\\\n",
       "\\end{tabular}\n"
      ],
      "text/markdown": [
       "\n",
       "experiment | ncells_day0 | ncells_day1 | ncells_day2 | ncells_day3 | lines_used | \n",
       "|---|---|---|---|---|---|\n",
       "| expt_09                                        | 610                                            | 544                                            | 539                                            | 585                                            | wigw_2, zagm_1, nocf_2, wahn_1, fejf_2, nufh_3 | \n",
       "| expt_10                                        | 610                                            | 544                                            | 539                                            | 585                                            | wigw_2, zagm_1, nocf_2, wahn_1, fejf_2, nufh_3 | \n",
       "| expt_12                                        | 610                                            | 544                                            | 539                                            | 585                                            | wigw_2, zagm_1, nocf_2, wahn_1, fejf_2, nufh_3 | \n",
       "| expt_18                                        | 610                                            | 544                                            | 539                                            | 585                                            | wigw_2, zagm_1, nocf_2, wahn_1, fejf_2, nufh_3 | \n",
       "| expt_20                                        | 610                                            | 544                                            | 539                                            | 585                                            | wigw_2, zagm_1, nocf_2, wahn_1, fejf_2, nufh_3 | \n",
       "| expt_21                                        | 610                                            | 544                                            | 539                                            | 585                                            | wigw_2, zagm_1, nocf_2, wahn_1, fejf_2, nufh_3 | \n",
       "\n",
       "\n"
      ],
      "text/plain": [
       "  experiment ncells_day0 ncells_day1 ncells_day2 ncells_day3\n",
       "1 expt_09    610         544         539         585        \n",
       "2 expt_10    610         544         539         585        \n",
       "3 expt_12    610         544         539         585        \n",
       "4 expt_18    610         544         539         585        \n",
       "5 expt_20    610         544         539         585        \n",
       "6 expt_21    610         544         539         585        \n",
       "  lines_used                                    \n",
       "1 wigw_2, zagm_1, nocf_2, wahn_1, fejf_2, nufh_3\n",
       "2 wigw_2, zagm_1, nocf_2, wahn_1, fejf_2, nufh_3\n",
       "3 wigw_2, zagm_1, nocf_2, wahn_1, fejf_2, nufh_3\n",
       "4 wigw_2, zagm_1, nocf_2, wahn_1, fejf_2, nufh_3\n",
       "5 wigw_2, zagm_1, nocf_2, wahn_1, fejf_2, nufh_3\n",
       "6 wigw_2, zagm_1, nocf_2, wahn_1, fejf_2, nufh_3"
      ]
     },
     "metadata": {},
     "output_type": "display_data"
    }
   ],
   "source": [
    "for (i in 1:nrow(df)){\n",
    "    sce_curr = sce[,sce$experiment == df$experiment[i]]\n",
    "    df$lines_used = paste(unique(sce_curr$donor_short_id), collapse = \", \")\n",
    "}\n",
    "head(df)"
   ]
  },
  {
   "cell_type": "code",
   "execution_count": 68,
   "metadata": {},
   "outputs": [],
   "source": [
    "mydir = \"/hps/nobackup/hipsci/scratch/singlecell_endodiff/results_files_20181031/\""
   ]
  },
  {
   "cell_type": "code",
   "execution_count": 75,
   "metadata": {},
   "outputs": [],
   "source": [
    "write.table(df, paste0(mydir,\"SuppTable_S1_experiment_metadata.tsv\"), sep = \"\\t\", quote = F, row.names = F)"
   ]
  },
  {
   "cell_type": "code",
   "execution_count": null,
   "metadata": {},
   "outputs": [],
   "source": [
    "################################"
   ]
  },
  {
   "cell_type": "code",
   "execution_count": null,
   "metadata": {},
   "outputs": [],
   "source": [
    "################################\n",
    "## S5 (all single cell eQTLs)\n",
    "################################"
   ]
  },
  {
   "cell_type": "code",
   "execution_count": null,
   "metadata": {},
   "outputs": [],
   "source": [
    "################################"
   ]
  },
  {
   "cell_type": "code",
   "execution_count": null,
   "metadata": {},
   "outputs": [],
   "source": [
    "## GTEx tagging (eQTLs + GTEx + HipSci info)"
   ]
  },
  {
   "cell_type": "code",
   "execution_count": 98,
   "metadata": {},
   "outputs": [],
   "source": [
    "gtex_tagging_filename = \"/nfs/leia/research/stegle/dseaton/hipsci/singlecell_endodiff/data/qtl_annotation/all_results_combined.tsv.all_gtex_gwas_tagging_annotations.1000g_ref.txt\"\n",
    "gtex_tagging_filename = \"/nfs/leia/research/stegle/dseaton/hipsci/singlecell_endodiff/data/qtl_annotation/all_results_combined.tsv.all_gtex_gwas_tagging_annotations.hipsci_ref.txt\"\n",
    "gtex_tagging = read.csv(gtex_tagging_filename, sep = \"\\t\")\n",
    "gtex_tagging$how_many_tissues = 0\n",
    "for (i in 1:nrow(gtex_tagging)){\n",
    "    gtex_tagging$how_many_tissues[i] = sum(gsub(\"-\",\"0\",gsub(\"\\\\}\",\"\",gsub(\"\\\\{\",\"\",gtex_tagging[i,grep(\"LD\",colnames(gtex_tagging))])))>0)\n",
    "}"
   ]
  },
  {
   "cell_type": "code",
   "execution_count": 106,
   "metadata": {},
   "outputs": [
    {
     "data": {
      "text/html": [
       "4824"
      ],
      "text/latex": [
       "4824"
      ],
      "text/markdown": [
       "4824"
      ],
      "text/plain": [
       "[1] 4824"
      ]
     },
     "metadata": {},
     "output_type": "display_data"
    },
    {
     "data": {
      "text/html": [
       "<table>\n",
       "<thead><tr><th scope=col>feature</th><th scope=col>snp_id</th><th scope=col>stage</th><th scope=col>beta.mean</th><th scope=col>beta_se</th><th scope=col>empirical_feature_p_value</th><th scope=col>p_value.mean</th><th scope=col>global_corr_p_value</th><th scope=col>snp_chromosome</th><th scope=col>snp_position</th><th scope=col>⋯</th><th scope=col>Whole_Blood_LD</th><th scope=col>ipsc_hipsci_eqtls_mirauta2018_Variant</th><th scope=col>ipsc_hipsci_eqtls_mirauta2018_Annotation</th><th scope=col>ipsc_hipsci_eqtls_mirauta2018_LD</th><th scope=col>how_many_tissues</th><th scope=col>ensembl_gene_id</th><th scope=col>gene_name</th><th scope=col>p_value</th><th scope=col>beta</th><th scope=col>in_HipSci</th></tr></thead>\n",
       "<tbody>\n",
       "\t<tr><td>ENSG00000204531_POU5F1                                                              </td><td>6_31132414_G_A                                                                      </td><td>ips                                                                                 </td><td>-1.386281                                                                           </td><td>0.1083733                                                                           </td><td>1.592971e-18                                                                        </td><td>1.823854e-37                                                                        </td><td>5.264237e-16                                                                        </td><td>6                                                                                   </td><td>31132414                                                                            </td><td>⋯                                                                                   </td><td>-                                                                                   </td><td>{6_31132414}                                                                        </td><td>{6_31132414_G_A-ENSG00000204531}                                                    </td><td>{0.9999999999999999}                                                                </td><td>33                                                                                  </td><td>ENSG00000204531                                                                     </td><td>POU5F1                                                                              </td><td>1.823854e-37                                                                        </td><td>-1.386281                                                                           </td><td> TRUE                                                                               </td></tr>\n",
       "\t<tr><td>ENSG00000179344_HLA-DQB1                                                            </td><td>6_32634922_A_G                                                                      </td><td>ips                                                                                 </td><td>-1.270786                                                                           </td><td>0.1469673                                                                           </td><td>1.977147e-11                                                                        </td><td>5.299864e-18                                                                        </td><td>1.340269e-09                                                                        </td><td>6                                                                                   </td><td>32634922                                                                            </td><td>⋯                                                                                   </td><td>{0.4062001050131084};{0.36551405659243374};{0.7164536068532416};{0.2915903443713935}</td><td>-                                                                                   </td><td>-                                                                                   </td><td>-                                                                                   </td><td>49                                                                                  </td><td>ENSG00000179344                                                                     </td><td>HLA-DQB1                                                                            </td><td>5.299864e-18                                                                        </td><td>-1.270786                                                                           </td><td>FALSE                                                                               </td></tr>\n",
       "</tbody>\n",
       "</table>\n"
      ],
      "text/latex": [
       "\\begin{tabular}{r|llllllllllllllllllllllllllllllllllllllllllllllllllllllllllllllllllllllllllllllllllllllllllllllllllllllllllllllllllllllllllllllllllllllllllllllllllllllllllllllllllllllllllllllllllllllll}\n",
       " feature & snp\\_id & stage & beta.mean & beta\\_se & empirical\\_feature\\_p\\_value & p\\_value.mean & global\\_corr\\_p\\_value & snp\\_chromosome & snp\\_position & ⋯ & Whole\\_Blood\\_LD & ipsc\\_hipsci\\_eqtls\\_mirauta2018\\_Variant & ipsc\\_hipsci\\_eqtls\\_mirauta2018\\_Annotation & ipsc\\_hipsci\\_eqtls\\_mirauta2018\\_LD & how\\_many\\_tissues & ensembl\\_gene\\_id & gene\\_name & p\\_value & beta & in\\_HipSci\\\\\n",
       "\\hline\n",
       "\t ENSG00000204531\\_POU5F1                                                             & 6\\_31132414\\_G\\_A                                                                 & ips                                                                                  & -1.386281                                                                            & 0.1083733                                                                            & 1.592971e-18                                                                         & 1.823854e-37                                                                         & 5.264237e-16                                                                         & 6                                                                                    & 31132414                                                                             & ⋯                                                                                    & -                                                                                    & \\{6\\_31132414\\}                                                                   & \\{6\\_31132414\\_G\\_A-ENSG00000204531\\}                                           & \\{0.9999999999999999\\}                                                             & 33                                                                                   & ENSG00000204531                                                                      & POU5F1                                                                               & 1.823854e-37                                                                         & -1.386281                                                                            &  TRUE                                                                               \\\\\n",
       "\t ENSG00000179344\\_HLA-DQB1                                                                           & 6\\_32634922\\_A\\_G                                                                                 & ips                                                                                                  & -1.270786                                                                                            & 0.1469673                                                                                            & 1.977147e-11                                                                                         & 5.299864e-18                                                                                         & 1.340269e-09                                                                                         & 6                                                                                                    & 32634922                                                                                             & ⋯                                                                                                    & \\{0.4062001050131084\\};\\{0.36551405659243374\\};\\{0.7164536068532416\\};\\{0.2915903443713935\\} & -                                                                                                    & -                                                                                                    & -                                                                                                    & 49                                                                                                   & ENSG00000179344                                                                                      & HLA-DQB1                                                                                             & 5.299864e-18                                                                                         & -1.270786                                                                                            & FALSE                                                                                               \\\\\n",
       "\\end{tabular}\n"
      ],
      "text/markdown": [
       "\n",
       "feature | snp_id | stage | beta.mean | beta_se | empirical_feature_p_value | p_value.mean | global_corr_p_value | snp_chromosome | snp_position | ⋯ | Whole_Blood_LD | ipsc_hipsci_eqtls_mirauta2018_Variant | ipsc_hipsci_eqtls_mirauta2018_Annotation | ipsc_hipsci_eqtls_mirauta2018_LD | how_many_tissues | ensembl_gene_id | gene_name | p_value | beta | in_HipSci | \n",
       "|---|---|\n",
       "| ENSG00000204531_POU5F1                                                               | 6_31132414_G_A                                                                       | ips                                                                                  | -1.386281                                                                            | 0.1083733                                                                            | 1.592971e-18                                                                         | 1.823854e-37                                                                         | 5.264237e-16                                                                         | 6                                                                                    | 31132414                                                                             | ⋯                                                                                    | -                                                                                    | {6_31132414}                                                                         | {6_31132414_G_A-ENSG00000204531}                                                     | {0.9999999999999999}                                                                 | 33                                                                                   | ENSG00000204531                                                                      | POU5F1                                                                               | 1.823854e-37                                                                         | -1.386281                                                                            |  TRUE                                                                                | \n",
       "| ENSG00000179344_HLA-DQB1                                                             | 6_32634922_A_G                                                                       | ips                                                                                  | -1.270786                                                                            | 0.1469673                                                                            | 1.977147e-11                                                                         | 5.299864e-18                                                                         | 1.340269e-09                                                                         | 6                                                                                    | 32634922                                                                             | ⋯                                                                                    | {0.4062001050131084};{0.36551405659243374};{0.7164536068532416};{0.2915903443713935} | -                                                                                    | -                                                                                    | -                                                                                    | 49                                                                                   | ENSG00000179344                                                                      | HLA-DQB1                                                                             | 5.299864e-18                                                                         | -1.270786                                                                            | FALSE                                                                                | \n",
       "\n",
       "\n"
      ],
      "text/plain": [
       "  feature                  snp_id         stage beta.mean beta_se  \n",
       "1 ENSG00000204531_POU5F1   6_31132414_G_A ips   -1.386281 0.1083733\n",
       "2 ENSG00000179344_HLA-DQB1 6_32634922_A_G ips   -1.270786 0.1469673\n",
       "  empirical_feature_p_value p_value.mean global_corr_p_value snp_chromosome\n",
       "1 1.592971e-18              1.823854e-37 5.264237e-16        6             \n",
       "2 1.977147e-11              5.299864e-18 1.340269e-09        6             \n",
       "  snp_position ⋯\n",
       "1 31132414     ⋯\n",
       "2 32634922     ⋯\n",
       "  Whole_Blood_LD                                                                      \n",
       "1 -                                                                                   \n",
       "2 {0.4062001050131084};{0.36551405659243374};{0.7164536068532416};{0.2915903443713935}\n",
       "  ipsc_hipsci_eqtls_mirauta2018_Variant\n",
       "1 {6_31132414}                         \n",
       "2 -                                    \n",
       "  ipsc_hipsci_eqtls_mirauta2018_Annotation ipsc_hipsci_eqtls_mirauta2018_LD\n",
       "1 {6_31132414_G_A-ENSG00000204531}         {0.9999999999999999}            \n",
       "2 -                                        -                               \n",
       "  how_many_tissues ensembl_gene_id gene_name p_value      beta      in_HipSci\n",
       "1 33               ENSG00000204531 POU5F1    1.823854e-37 -1.386281  TRUE    \n",
       "2 49               ENSG00000179344 HLA-DQB1  5.299864e-18 -1.270786 FALSE    "
      ]
     },
     "metadata": {},
     "output_type": "display_data"
    }
   ],
   "source": [
    "nrow(gtex_tagging)\n",
    "head(gtex_tagging,2)"
   ]
  },
  {
   "cell_type": "code",
   "execution_count": 107,
   "metadata": {
    "scrolled": true
   },
   "outputs": [],
   "source": [
    "#colnames(gtex_tagging)"
   ]
  },
  {
   "cell_type": "code",
   "execution_count": null,
   "metadata": {},
   "outputs": [],
   "source": [
    "## ASE interactions info"
   ]
  },
  {
   "cell_type": "code",
   "execution_count": 104,
   "metadata": {},
   "outputs": [],
   "source": [
    "ase_folder = \"/nfs/leia/research/stegle/dseaton/hipsci/singlecell_endodiff/data/ase_env_interactions/selected_results_181023/\"\n",
    "test_filename = paste0(ase_folder,\"pseudotimeandmodules.single_factor_test.all_leads.tsv\")\n",
    "pseudocorrect_filename = paste0(ase_folder,\"pseudotimeandmodules.pseudotime_covariate_test.all_leads.tsv\")\n",
    "quadratic_filename = paste0(ase_folder,\"pseudotimeandmodules.quadratic_factor_test.all_leads.tsv\")"
   ]
  },
  {
   "cell_type": "code",
   "execution_count": 105,
   "metadata": {},
   "outputs": [],
   "source": [
    "test = read.csv(test_filename, sep = \"\\t\")\n",
    "pseudocorrect = read.csv(pseudocorrect_filename, sep = \"\\t\")\n",
    "quadratic = read.csv(quadratic_filename, sep = \"\\t\")"
   ]
  },
  {
   "cell_type": "code",
   "execution_count": 108,
   "metadata": {},
   "outputs": [],
   "source": [
    "get_sign <- function(test, myfact, fdr){\n",
    "    res = test\n",
    "    res = res[res$n_cells > 500,]\n",
    "    res = res[!(is.na(res$pval)),]\n",
    "    res$corr_pval = p.adjust(res$pval, method = \"BH\")\n",
    "    res[res$corr_pval < fdr & res$factor == myfact,]\n",
    "} "
   ]
  },
  {
   "cell_type": "code",
   "execution_count": 119,
   "metadata": {},
   "outputs": [],
   "source": [
    "# dynamic\n",
    "pseudo.linear.sign = get_sign(test, \"pseudotime\", 0.1)\n",
    "pseudo.quadratic.sign = get_sign(quadratic, \"pseudotime\", 0.1)"
   ]
  },
  {
   "cell_type": "code",
   "execution_count": 120,
   "metadata": {},
   "outputs": [
    {
     "data": {
      "text/html": [
       "880"
      ],
      "text/latex": [
       "880"
      ],
      "text/markdown": [
       "880"
      ],
      "text/plain": [
       "[1] 880"
      ]
     },
     "metadata": {},
     "output_type": "display_data"
    },
    {
     "data": {
      "text/html": [
       "785"
      ],
      "text/latex": [
       "785"
      ],
      "text/markdown": [
       "785"
      ],
      "text/plain": [
       "[1] 785"
      ]
     },
     "metadata": {},
     "output_type": "display_data"
    }
   ],
   "source": [
    "pseudo_inters = rbind(pseudo.linear.sign, pseudo.quadratic.sign)\n",
    "nrow(pseudo_inters)\n",
    "pseudo_inters = pseudo_inters[-which(duplicated(pseudo_inters$index)),]\n",
    "nrow(pseudo_inters)"
   ]
  },
  {
   "cell_type": "code",
   "execution_count": 121,
   "metadata": {},
   "outputs": [
    {
     "data": {
      "text/html": [
       "<table>\n",
       "<thead><tr><th scope=col>ensembl_gene_id</th><th scope=col>snp_id</th><th scope=col>coef</th><th scope=col>pval</th><th scope=col>n_cells</th><th scope=col>index</th><th scope=col>mean_ase</th><th scope=col>factor</th><th scope=col>corr_pval</th><th scope=col>eqtl</th></tr></thead>\n",
       "<tbody>\n",
       "\t<tr><td>ENSG00000120675                        </td><td>13_43597706_C_T                        </td><td>0.2123743                              </td><td>1.501785e-196                          </td><td>13767                                  </td><td>('ENSG00000120675', '13_43597706_C_T') </td><td>0.1503029                              </td><td>pseudotime                             </td><td>2.634130e-192                          </td><td>ENSG00000120675-13_43597706_C_T        </td></tr>\n",
       "\t<tr><td>ENSG00000148834                        </td><td>10_106066436_C_T                       </td><td>0.1674651                              </td><td>2.678167e-166                          </td><td>16460                                  </td><td>('ENSG00000148834', '10_106066436_C_T')</td><td>0.4569987                              </td><td>pseudotime                             </td><td>2.348753e-162                          </td><td>ENSG00000148834-10_106066436_C_T       </td></tr>\n",
       "</tbody>\n",
       "</table>\n"
      ],
      "text/latex": [
       "\\begin{tabular}{r|llllllllll}\n",
       " ensembl\\_gene\\_id & snp\\_id & coef & pval & n\\_cells & index & mean\\_ase & factor & corr\\_pval & eqtl\\\\\n",
       "\\hline\n",
       "\t ENSG00000120675                               & 13\\_43597706\\_C\\_T                         & 0.2123743                                     & 1.501785e-196                                 & 13767                                         & ('ENSG00000120675', '13\\_43597706\\_C\\_T')  & 0.1503029                                     & pseudotime                                    & 2.634130e-192                                 & ENSG00000120675-13\\_43597706\\_C\\_T        \\\\\n",
       "\t ENSG00000148834                               & 10\\_106066436\\_C\\_T                        & 0.1674651                                     & 2.678167e-166                                 & 16460                                         & ('ENSG00000148834', '10\\_106066436\\_C\\_T') & 0.4569987                                     & pseudotime                                    & 2.348753e-162                                 & ENSG00000148834-10\\_106066436\\_C\\_T       \\\\\n",
       "\\end{tabular}\n"
      ],
      "text/markdown": [
       "\n",
       "ensembl_gene_id | snp_id | coef | pval | n_cells | index | mean_ase | factor | corr_pval | eqtl | \n",
       "|---|---|\n",
       "| ENSG00000120675                         | 13_43597706_C_T                         | 0.2123743                               | 1.501785e-196                           | 13767                                   | ('ENSG00000120675', '13_43597706_C_T')  | 0.1503029                               | pseudotime                              | 2.634130e-192                           | ENSG00000120675-13_43597706_C_T         | \n",
       "| ENSG00000148834                         | 10_106066436_C_T                        | 0.1674651                               | 2.678167e-166                           | 16460                                   | ('ENSG00000148834', '10_106066436_C_T') | 0.4569987                               | pseudotime                              | 2.348753e-162                           | ENSG00000148834-10_106066436_C_T        | \n",
       "\n",
       "\n"
      ],
      "text/plain": [
       "  ensembl_gene_id snp_id           coef      pval          n_cells\n",
       "1 ENSG00000120675 13_43597706_C_T  0.2123743 1.501785e-196 13767  \n",
       "2 ENSG00000148834 10_106066436_C_T 0.1674651 2.678167e-166 16460  \n",
       "  index                                   mean_ase  factor     corr_pval    \n",
       "1 ('ENSG00000120675', '13_43597706_C_T')  0.1503029 pseudotime 2.634130e-192\n",
       "2 ('ENSG00000148834', '10_106066436_C_T') 0.4569987 pseudotime 2.348753e-162\n",
       "  eqtl                            \n",
       "1 ENSG00000120675-13_43597706_C_T \n",
       "2 ENSG00000148834-10_106066436_C_T"
      ]
     },
     "metadata": {},
     "output_type": "display_data"
    }
   ],
   "source": [
    "pseudo_inters$eqtl = paste0(pseudo_inters$ensembl_gene_id,\"-\",pseudo_inters$snp_id)\n",
    "head(pseudo_inters,2)"
   ]
  },
  {
   "cell_type": "code",
   "execution_count": 122,
   "metadata": {},
   "outputs": [],
   "source": [
    "resp.corr.sign = get_sign(pseudocorrect, \"respiration\", 0.1)\n",
    "g1s.corr.sign = get_sign(pseudocorrect, \"G1_S_transition\", 0.1)\n",
    "sb.corr.sign = get_sign(pseudocorrect, \"sterol_biosynthesis\", 0.1)\n",
    "g2m.corr.sign = get_sign(pseudocorrect, \"G2_M_transition\", 0.1)"
   ]
  },
  {
   "cell_type": "code",
   "execution_count": 123,
   "metadata": {},
   "outputs": [
    {
     "data": {
      "text/html": [
       "1924"
      ],
      "text/latex": [
       "1924"
      ],
      "text/markdown": [
       "1924"
      ],
      "text/plain": [
       "[1] 1924"
      ]
     },
     "metadata": {},
     "output_type": "display_data"
    },
    {
     "data": {
      "text/html": [
       "1179"
      ],
      "text/latex": [
       "1179"
      ],
      "text/markdown": [
       "1179"
      ],
      "text/plain": [
       "[1] 1179"
      ]
     },
     "metadata": {},
     "output_type": "display_data"
    }
   ],
   "source": [
    "all_inters = rbind(pseudo.linear.sign, pseudo.quadratic.sign,\n",
    "                   resp.corr.sign, g1s.corr.sign, sb.corr.sign, g2m.corr.sign)\n",
    "nrow(all_inters)\n",
    "all_inters = all_inters[-which(duplicated(all_inters$index)),]\n",
    "nrow(all_inters)"
   ]
  },
  {
   "cell_type": "code",
   "execution_count": 124,
   "metadata": {},
   "outputs": [
    {
     "data": {
      "text/html": [
       "<table>\n",
       "<thead><tr><th scope=col>ensembl_gene_id</th><th scope=col>snp_id</th><th scope=col>coef</th><th scope=col>pval</th><th scope=col>n_cells</th><th scope=col>index</th><th scope=col>mean_ase</th><th scope=col>factor</th><th scope=col>corr_pval</th><th scope=col>eqtl</th></tr></thead>\n",
       "<tbody>\n",
       "\t<tr><td>ENSG00000120675                        </td><td>13_43597706_C_T                        </td><td>0.2123743                              </td><td>1.501785e-196                          </td><td>13767                                  </td><td>('ENSG00000120675', '13_43597706_C_T') </td><td>0.1503029                              </td><td>pseudotime                             </td><td>2.634130e-192                          </td><td>ENSG00000120675-13_43597706_C_T        </td></tr>\n",
       "\t<tr><td>ENSG00000148834                        </td><td>10_106066436_C_T                       </td><td>0.1674651                              </td><td>2.678167e-166                          </td><td>16460                                  </td><td>('ENSG00000148834', '10_106066436_C_T')</td><td>0.4569987                              </td><td>pseudotime                             </td><td>2.348753e-162                          </td><td>ENSG00000148834-10_106066436_C_T       </td></tr>\n",
       "</tbody>\n",
       "</table>\n"
      ],
      "text/latex": [
       "\\begin{tabular}{r|llllllllll}\n",
       " ensembl\\_gene\\_id & snp\\_id & coef & pval & n\\_cells & index & mean\\_ase & factor & corr\\_pval & eqtl\\\\\n",
       "\\hline\n",
       "\t ENSG00000120675                               & 13\\_43597706\\_C\\_T                         & 0.2123743                                     & 1.501785e-196                                 & 13767                                         & ('ENSG00000120675', '13\\_43597706\\_C\\_T')  & 0.1503029                                     & pseudotime                                    & 2.634130e-192                                 & ENSG00000120675-13\\_43597706\\_C\\_T        \\\\\n",
       "\t ENSG00000148834                               & 10\\_106066436\\_C\\_T                        & 0.1674651                                     & 2.678167e-166                                 & 16460                                         & ('ENSG00000148834', '10\\_106066436\\_C\\_T') & 0.4569987                                     & pseudotime                                    & 2.348753e-162                                 & ENSG00000148834-10\\_106066436\\_C\\_T       \\\\\n",
       "\\end{tabular}\n"
      ],
      "text/markdown": [
       "\n",
       "ensembl_gene_id | snp_id | coef | pval | n_cells | index | mean_ase | factor | corr_pval | eqtl | \n",
       "|---|---|\n",
       "| ENSG00000120675                         | 13_43597706_C_T                         | 0.2123743                               | 1.501785e-196                           | 13767                                   | ('ENSG00000120675', '13_43597706_C_T')  | 0.1503029                               | pseudotime                              | 2.634130e-192                           | ENSG00000120675-13_43597706_C_T         | \n",
       "| ENSG00000148834                         | 10_106066436_C_T                        | 0.1674651                               | 2.678167e-166                           | 16460                                   | ('ENSG00000148834', '10_106066436_C_T') | 0.4569987                               | pseudotime                              | 2.348753e-162                           | ENSG00000148834-10_106066436_C_T        | \n",
       "\n",
       "\n"
      ],
      "text/plain": [
       "  ensembl_gene_id snp_id           coef      pval          n_cells\n",
       "1 ENSG00000120675 13_43597706_C_T  0.2123743 1.501785e-196 13767  \n",
       "2 ENSG00000148834 10_106066436_C_T 0.1674651 2.678167e-166 16460  \n",
       "  index                                   mean_ase  factor     corr_pval    \n",
       "1 ('ENSG00000120675', '13_43597706_C_T')  0.1503029 pseudotime 2.634130e-192\n",
       "2 ('ENSG00000148834', '10_106066436_C_T') 0.4569987 pseudotime 2.348753e-162\n",
       "  eqtl                            \n",
       "1 ENSG00000120675-13_43597706_C_T \n",
       "2 ENSG00000148834-10_106066436_C_T"
      ]
     },
     "metadata": {},
     "output_type": "display_data"
    }
   ],
   "source": [
    "all_inters$eqtl = paste0(all_inters$ensembl_gene_id, \"-\", all_inters$snp_id)\n",
    "head(all_inters,2)"
   ]
  },
  {
   "cell_type": "code",
   "execution_count": 113,
   "metadata": {},
   "outputs": [
    {
     "data": {
      "text/html": [
       "<table>\n",
       "<thead><tr><th scope=col>feature</th><th scope=col>snp_id</th><th scope=col>stage</th><th scope=col>beta.mean</th><th scope=col>beta_se</th><th scope=col>empirical_feature_p_value</th><th scope=col>p_value.mean</th><th scope=col>global_corr_p_value</th><th scope=col>snp_chromosome</th><th scope=col>snp_position</th><th scope=col>⋯</th><th scope=col>ipsc_hipsci_eqtls_mirauta2018_Variant</th><th scope=col>ipsc_hipsci_eqtls_mirauta2018_Annotation</th><th scope=col>ipsc_hipsci_eqtls_mirauta2018_LD</th><th scope=col>how_many_tissues</th><th scope=col>ensembl_gene_id</th><th scope=col>gene_name</th><th scope=col>p_value</th><th scope=col>beta</th><th scope=col>in_HipSci</th><th scope=col>eqtl</th></tr></thead>\n",
       "<tbody>\n",
       "\t<tr><td>ENSG00000204531_POU5F1          </td><td>6_31132414_G_A                  </td><td>ips                             </td><td>-1.386281                       </td><td>0.1083733                       </td><td>1.592971e-18                    </td><td>1.823854e-37                    </td><td>5.264237e-16                    </td><td>6                               </td><td>31132414                        </td><td>⋯                               </td><td>{6_31132414}                    </td><td>{6_31132414_G_A-ENSG00000204531}</td><td>{0.9999999999999999}            </td><td>33                              </td><td>ENSG00000204531                 </td><td>POU5F1                          </td><td>1.823854e-37                    </td><td>-1.386281                       </td><td> TRUE                           </td><td>ENSG00000204531-6_31132414_G_A  </td></tr>\n",
       "\t<tr><td>ENSG00000179344_HLA-DQB1        </td><td>6_32634922_A_G                  </td><td>ips                             </td><td>-1.270786                       </td><td>0.1469673                       </td><td>1.977147e-11                    </td><td>5.299864e-18                    </td><td>1.340269e-09                    </td><td>6                               </td><td>32634922                        </td><td>⋯                               </td><td>-                               </td><td>-                               </td><td>-                               </td><td>49                              </td><td>ENSG00000179344                 </td><td>HLA-DQB1                        </td><td>5.299864e-18                    </td><td>-1.270786                       </td><td>FALSE                           </td><td>ENSG00000179344-6_32634922_A_G  </td></tr>\n",
       "</tbody>\n",
       "</table>\n"
      ],
      "text/latex": [
       "\\begin{tabular}{r|lllllllllllllllllllllllllllllllllllllllllllllllllllllllllllllllllllllllllllllllllllllllllllllllllllllllllllllllllllllllllllllllllllllllllllllllllllllllllllllllllllllllllllllllllllllllll}\n",
       " feature & snp\\_id & stage & beta.mean & beta\\_se & empirical\\_feature\\_p\\_value & p\\_value.mean & global\\_corr\\_p\\_value & snp\\_chromosome & snp\\_position & ⋯ & ipsc\\_hipsci\\_eqtls\\_mirauta2018\\_Variant & ipsc\\_hipsci\\_eqtls\\_mirauta2018\\_Annotation & ipsc\\_hipsci\\_eqtls\\_mirauta2018\\_LD & how\\_many\\_tissues & ensembl\\_gene\\_id & gene\\_name & p\\_value & beta & in\\_HipSci & eqtl\\\\\n",
       "\\hline\n",
       "\t ENSG00000204531\\_POU5F1                   & 6\\_31132414\\_G\\_A                       & ips                                        & -1.386281                                  & 0.1083733                                  & 1.592971e-18                               & 1.823854e-37                               & 5.264237e-16                               & 6                                          & 31132414                                   & ⋯                                          & \\{6\\_31132414\\}                         & \\{6\\_31132414\\_G\\_A-ENSG00000204531\\} & \\{0.9999999999999999\\}                   & 33                                         & ENSG00000204531                            & POU5F1                                     & 1.823854e-37                               & -1.386281                                  &  TRUE                                      & ENSG00000204531-6\\_31132414\\_G\\_A      \\\\\n",
       "\t ENSG00000179344\\_HLA-DQB1           & 6\\_32634922\\_A\\_G                 & ips                                  & -1.270786                            & 0.1469673                            & 1.977147e-11                         & 5.299864e-18                         & 1.340269e-09                         & 6                                    & 32634922                             & ⋯                                    & -                                    & -                                    & -                                    & 49                                   & ENSG00000179344                      & HLA-DQB1                             & 5.299864e-18                         & -1.270786                            & FALSE                                & ENSG00000179344-6\\_32634922\\_A\\_G\\\\\n",
       "\\end{tabular}\n"
      ],
      "text/markdown": [
       "\n",
       "feature | snp_id | stage | beta.mean | beta_se | empirical_feature_p_value | p_value.mean | global_corr_p_value | snp_chromosome | snp_position | ⋯ | ipsc_hipsci_eqtls_mirauta2018_Variant | ipsc_hipsci_eqtls_mirauta2018_Annotation | ipsc_hipsci_eqtls_mirauta2018_LD | how_many_tissues | ensembl_gene_id | gene_name | p_value | beta | in_HipSci | eqtl | \n",
       "|---|---|\n",
       "| ENSG00000204531_POU5F1           | 6_31132414_G_A                   | ips                              | -1.386281                        | 0.1083733                        | 1.592971e-18                     | 1.823854e-37                     | 5.264237e-16                     | 6                                | 31132414                         | ⋯                                | {6_31132414}                     | {6_31132414_G_A-ENSG00000204531} | {0.9999999999999999}             | 33                               | ENSG00000204531                  | POU5F1                           | 1.823854e-37                     | -1.386281                        |  TRUE                            | ENSG00000204531-6_31132414_G_A   | \n",
       "| ENSG00000179344_HLA-DQB1         | 6_32634922_A_G                   | ips                              | -1.270786                        | 0.1469673                        | 1.977147e-11                     | 5.299864e-18                     | 1.340269e-09                     | 6                                | 32634922                         | ⋯                                | -                                | -                                | -                                | 49                               | ENSG00000179344                  | HLA-DQB1                         | 5.299864e-18                     | -1.270786                        | FALSE                            | ENSG00000179344-6_32634922_A_G   | \n",
       "\n",
       "\n"
      ],
      "text/plain": [
       "  feature                  snp_id         stage beta.mean beta_se  \n",
       "1 ENSG00000204531_POU5F1   6_31132414_G_A ips   -1.386281 0.1083733\n",
       "2 ENSG00000179344_HLA-DQB1 6_32634922_A_G ips   -1.270786 0.1469673\n",
       "  empirical_feature_p_value p_value.mean global_corr_p_value snp_chromosome\n",
       "1 1.592971e-18              1.823854e-37 5.264237e-16        6             \n",
       "2 1.977147e-11              5.299864e-18 1.340269e-09        6             \n",
       "  snp_position ⋯ ipsc_hipsci_eqtls_mirauta2018_Variant\n",
       "1 31132414     ⋯ {6_31132414}                         \n",
       "2 32634922     ⋯ -                                    \n",
       "  ipsc_hipsci_eqtls_mirauta2018_Annotation ipsc_hipsci_eqtls_mirauta2018_LD\n",
       "1 {6_31132414_G_A-ENSG00000204531}         {0.9999999999999999}            \n",
       "2 -                                        -                               \n",
       "  how_many_tissues ensembl_gene_id gene_name p_value      beta      in_HipSci\n",
       "1 33               ENSG00000204531 POU5F1    1.823854e-37 -1.386281  TRUE    \n",
       "2 49               ENSG00000179344 HLA-DQB1  5.299864e-18 -1.270786 FALSE    \n",
       "  eqtl                          \n",
       "1 ENSG00000204531-6_31132414_G_A\n",
       "2 ENSG00000179344-6_32634922_A_G"
      ]
     },
     "metadata": {},
     "output_type": "display_data"
    }
   ],
   "source": [
    "gtex_tagging$eqtl = paste0(gtex_tagging$ensembl_gene_id,\"-\",gtex_tagging$snp_id)\n",
    "head(gtex_tagging,2)"
   ]
  },
  {
   "cell_type": "code",
   "execution_count": null,
   "metadata": {},
   "outputs": [],
   "source": [
    "####"
   ]
  },
  {
   "cell_type": "code",
   "execution_count": null,
   "metadata": {},
   "outputs": [],
   "source": [
    "### make columns that will need to be included in S5"
   ]
  },
  {
   "cell_type": "code",
   "execution_count": 127,
   "metadata": {},
   "outputs": [],
   "source": [
    "gtex_tagging$ensembl_gene_id = gsub(\"*_.*\",\"\",gtex_tagging$feature)\n",
    "gtex_tagging$gene_name = gsub(\".*_\",\"\",gtex_tagging$feature)\n",
    "gtex_tagging$p_value = gtex_tagging$p_value.mean\n",
    "gtex_tagging$beta = gtex_tagging$beta.mean\n",
    "gtex_tagging$in_HipSci = (gtex_tagging$ipsc_hipsci_eqtls_mirauta2018_LD != \"-\")\n",
    "gtex_tagging$interaction_qtl = (gtex_tagging$eqtl %in% all_inters$eqtl)\n",
    "gtex_tagging$dynamic_qtl = (gtex_tagging$eqtl %in% pseudo_inters$eqtl)\n",
    "gtex_tagging$n_gtex_tissues = gtex_tagging$how_many_tissues"
   ]
  },
  {
   "cell_type": "code",
   "execution_count": 126,
   "metadata": {},
   "outputs": [
    {
     "data": {
      "text/html": [
       "1319"
      ],
      "text/latex": [
       "1319"
      ],
      "text/markdown": [
       "1319"
      ],
      "text/plain": [
       "[1] 1319"
      ]
     },
     "metadata": {},
     "output_type": "display_data"
    },
    {
     "data": {
      "text/html": [
       "878"
      ],
      "text/latex": [
       "878"
      ],
      "text/markdown": [
       "878"
      ],
      "text/plain": [
       "[1] 878"
      ]
     },
     "metadata": {},
     "output_type": "display_data"
    }
   ],
   "source": [
    "sum(gtex_tagging$interaction_qtl)\n",
    "sum(gtex_tagging$dynamic_qtl)"
   ]
  },
  {
   "cell_type": "code",
   "execution_count": 128,
   "metadata": {},
   "outputs": [],
   "source": [
    "df = gtex_tagging[,c(\"ensembl_gene_id\",\"snp_id\",\"p_value\",\"empirical_feature_p_value\",\"global_corr_p_value\",\n",
    "                    \"beta\",\"beta_se\",\"gene_name\",\"snp_chromosome\",\"snp_position\",\"ref_allele\",\"alt_allele\",\n",
    "                    \"stage\",\"stage_specific\",\"interaction_qtl\",\"dynamic_qtl\",\"in_HipSci\",\"n_gtex_tissues\")]"
   ]
  },
  {
   "cell_type": "code",
   "execution_count": 133,
   "metadata": {
    "scrolled": true
   },
   "outputs": [
    {
     "data": {
      "text/html": [
       "<table>\n",
       "<thead><tr><th scope=col>ensembl_gene_id</th><th scope=col>snp_id</th><th scope=col>p_value</th><th scope=col>empirical_feature_p_value</th><th scope=col>global_corr_p_value</th><th scope=col>beta</th><th scope=col>beta_se</th><th scope=col>gene_name</th><th scope=col>snp_chromosome</th><th scope=col>snp_position</th><th scope=col>ref_allele</th><th scope=col>alt_allele</th><th scope=col>stage</th><th scope=col>stage_specific</th><th scope=col>interaction_qtl</th><th scope=col>dynamic_qtl</th><th scope=col>in_HipSci</th><th scope=col>n_gtex_tissues</th></tr></thead>\n",
       "<tbody>\n",
       "\t<tr><td>ENSG00000204531</td><td>6_31132414_G_A </td><td>1.823854e-37   </td><td>1.592971e-18   </td><td>5.264237e-16   </td><td>-1.386281      </td><td>0.1083733      </td><td>POU5F1         </td><td>6              </td><td>31132414       </td><td>G              </td><td>A              </td><td>ips            </td><td>False          </td><td>TRUE           </td><td>TRUE           </td><td> TRUE          </td><td>33             </td></tr>\n",
       "\t<tr><td>ENSG00000179344</td><td>6_32634922_A_G </td><td>5.299864e-18   </td><td>1.977147e-11   </td><td>1.340269e-09   </td><td>-1.270786      </td><td>0.1469673      </td><td>HLA-DQB1       </td><td>6              </td><td>32634922       </td><td>A              </td><td>G              </td><td>ips            </td><td>False          </td><td>TRUE           </td><td>TRUE           </td><td>FALSE          </td><td>49             </td></tr>\n",
       "</tbody>\n",
       "</table>\n"
      ],
      "text/latex": [
       "\\begin{tabular}{r|llllllllllllllllll}\n",
       " ensembl\\_gene\\_id & snp\\_id & p\\_value & empirical\\_feature\\_p\\_value & global\\_corr\\_p\\_value & beta & beta\\_se & gene\\_name & snp\\_chromosome & snp\\_position & ref\\_allele & alt\\_allele & stage & stage\\_specific & interaction\\_qtl & dynamic\\_qtl & in\\_HipSci & n\\_gtex\\_tissues\\\\\n",
       "\\hline\n",
       "\t ENSG00000204531      & 6\\_31132414\\_G\\_A & 1.823854e-37         & 1.592971e-18         & 5.264237e-16         & -1.386281            & 0.1083733            & POU5F1               & 6                    & 31132414             & G                    & A                    & ips                  & False                & TRUE                 & TRUE                 &  TRUE                & 33                  \\\\\n",
       "\t ENSG00000179344      & 6\\_32634922\\_A\\_G & 5.299864e-18         & 1.977147e-11         & 1.340269e-09         & -1.270786            & 0.1469673            & HLA-DQB1             & 6                    & 32634922             & A                    & G                    & ips                  & False                & TRUE                 & TRUE                 & FALSE                & 49                  \\\\\n",
       "\\end{tabular}\n"
      ],
      "text/markdown": [
       "\n",
       "ensembl_gene_id | snp_id | p_value | empirical_feature_p_value | global_corr_p_value | beta | beta_se | gene_name | snp_chromosome | snp_position | ref_allele | alt_allele | stage | stage_specific | interaction_qtl | dynamic_qtl | in_HipSci | n_gtex_tissues | \n",
       "|---|---|\n",
       "| ENSG00000204531 | 6_31132414_G_A  | 1.823854e-37    | 1.592971e-18    | 5.264237e-16    | -1.386281       | 0.1083733       | POU5F1          | 6               | 31132414        | G               | A               | ips             | False           | TRUE            | TRUE            |  TRUE           | 33              | \n",
       "| ENSG00000179344 | 6_32634922_A_G  | 5.299864e-18    | 1.977147e-11    | 1.340269e-09    | -1.270786       | 0.1469673       | HLA-DQB1        | 6               | 32634922        | A               | G               | ips             | False           | TRUE            | TRUE            | FALSE           | 49              | \n",
       "\n",
       "\n"
      ],
      "text/plain": [
       "  ensembl_gene_id snp_id         p_value      empirical_feature_p_value\n",
       "1 ENSG00000204531 6_31132414_G_A 1.823854e-37 1.592971e-18             \n",
       "2 ENSG00000179344 6_32634922_A_G 5.299864e-18 1.977147e-11             \n",
       "  global_corr_p_value beta      beta_se   gene_name snp_chromosome snp_position\n",
       "1 5.264237e-16        -1.386281 0.1083733 POU5F1    6              31132414    \n",
       "2 1.340269e-09        -1.270786 0.1469673 HLA-DQB1  6              32634922    \n",
       "  ref_allele alt_allele stage stage_specific interaction_qtl dynamic_qtl\n",
       "1 G          A          ips   False          TRUE            TRUE       \n",
       "2 A          G          ips   False          TRUE            TRUE       \n",
       "  in_HipSci n_gtex_tissues\n",
       "1  TRUE     33            \n",
       "2 FALSE     49            "
      ]
     },
     "metadata": {},
     "output_type": "display_data"
    }
   ],
   "source": [
    "head(df,2)"
   ]
  },
  {
   "cell_type": "code",
   "execution_count": 131,
   "metadata": {},
   "outputs": [],
   "source": [
    "write.table(df, paste0(mydir,\"SuppTable_S5_singlecell_eQTLs.tsv\"), sep = \"\\t\", quote = F, row.names = F)"
   ]
  },
  {
   "cell_type": "code",
   "execution_count": null,
   "metadata": {},
   "outputs": [],
   "source": [
    "################################"
   ]
  },
  {
   "cell_type": "code",
   "execution_count": null,
   "metadata": {},
   "outputs": [],
   "source": [
    "################################\n",
    "## S6 (bulk eQTLs)\n",
    "################################"
   ]
  },
  {
   "cell_type": "code",
   "execution_count": null,
   "metadata": {},
   "outputs": [],
   "source": [
    "################################"
   ]
  },
  {
   "cell_type": "code",
   "execution_count": 134,
   "metadata": {},
   "outputs": [],
   "source": [
    "leads.bulk = read.csv(\"/nfs/leia/research/stegle/acuomo/mean/bulk_ips/leads.csv\", row.names = 1)"
   ]
  },
  {
   "cell_type": "code",
   "execution_count": 135,
   "metadata": {},
   "outputs": [
    {
     "data": {
      "text/html": [
       "<table>\n",
       "<thead><tr><th></th><th scope=col>beta</th><th scope=col>beta_se</th><th scope=col>empirical_feature_p_value</th><th scope=col>p_value</th><th scope=col>snp_id</th><th scope=col>feature</th><th scope=col>global_corr_p_value</th><th scope=col>chrom</th><th scope=col>pos</th><th scope=col>ref_allele</th><th scope=col>alt_allele</th></tr></thead>\n",
       "<tbody>\n",
       "\t<tr><th scope=row>4525139</th><td>-2.345279              </td><td>0.12747272             </td><td>5.451044e-47           </td><td>1.355899e-75           </td><td>6_29961580_A_G         </td><td>ENSG00000204619_PPP1R11</td><td>2.929937e-43           </td><td> 6                     </td><td>29961580               </td><td>A                      </td><td>G                      </td></tr>\n",
       "\t<tr><th scope=row>4549981</th><td>-1.359778              </td><td>0.08394644             </td><td>3.146549e-46           </td><td>5.195500e-59           </td><td>6_31927342_A_G         </td><td>ENSG00000204351_SKIV2L </td><td>8.456351e-43           </td><td> 6                     </td><td>31927342               </td><td>A                      </td><td>G                      </td></tr>\n",
       "\t<tr><th scope=row>2694353</th><td>-1.608762              </td><td>0.09373689             </td><td>9.084895e-45           </td><td>5.066448e-66           </td><td>19_54695163_T_C        </td><td>ENSG00000170892_TSEN34 </td><td>1.627711e-41           </td><td>19                     </td><td>54695163               </td><td>T                      </td><td>C                      </td></tr>\n",
       "\t<tr><th scope=row>4546292</th><td>-1.289904              </td><td>0.08528755             </td><td>5.690087e-42           </td><td>1.121842e-51           </td><td>6_31847012_C_A         </td><td>ENSG00000204371_EHMT2  </td><td>7.646055e-39           </td><td> 6                     </td><td>31847012               </td><td>C                      </td><td>A                      </td></tr>\n",
       "\t<tr><th scope=row>4528336</th><td>-3.073444              </td><td>0.17813044             </td><td>1.890030e-40           </td><td>1.045989e-66           </td><td>6_30628082_A_G         </td><td>ENSG00000137331_IER3   </td><td>2.031783e-37           </td><td> 6                     </td><td>30628082               </td><td>A                      </td><td>G                      </td></tr>\n",
       "\t<tr><th scope=row>3990402</th><td>-1.251513              </td><td>0.08119419             </td><td>4.580666e-40           </td><td>1.321640e-53           </td><td>4_39446549_G_A         </td><td>ENSG00000163682_RPL9   </td><td>4.103514e-37           </td><td> 4                     </td><td>39446549               </td><td>G                      </td><td>A                      </td></tr>\n",
       "</tbody>\n",
       "</table>\n"
      ],
      "text/latex": [
       "\\begin{tabular}{r|lllllllllll}\n",
       "  & beta & beta\\_se & empirical\\_feature\\_p\\_value & p\\_value & snp\\_id & feature & global\\_corr\\_p\\_value & chrom & pos & ref\\_allele & alt\\_allele\\\\\n",
       "\\hline\n",
       "\t4525139 & -2.345279                 & 0.12747272                & 5.451044e-47              & 1.355899e-75              & 6\\_29961580\\_A\\_G      & ENSG00000204619\\_PPP1R11 & 2.929937e-43              &  6                        & 29961580                  & A                         & G                        \\\\\n",
       "\t4549981 & -1.359778                 & 0.08394644                & 3.146549e-46              & 5.195500e-59              & 6\\_31927342\\_A\\_G      & ENSG00000204351\\_SKIV2L  & 8.456351e-43              &  6                        & 31927342                  & A                         & G                        \\\\\n",
       "\t2694353 & -1.608762                 & 0.09373689                & 9.084895e-45              & 5.066448e-66              & 19\\_54695163\\_T\\_C     & ENSG00000170892\\_TSEN34  & 1.627711e-41              & 19                        & 54695163                  & T                         & C                        \\\\\n",
       "\t4546292 & -1.289904                 & 0.08528755                & 5.690087e-42              & 1.121842e-51              & 6\\_31847012\\_C\\_A      & ENSG00000204371\\_EHMT2   & 7.646055e-39              &  6                        & 31847012                  & C                         & A                        \\\\\n",
       "\t4528336 & -3.073444                 & 0.17813044                & 1.890030e-40              & 1.045989e-66              & 6\\_30628082\\_A\\_G      & ENSG00000137331\\_IER3    & 2.031783e-37              &  6                        & 30628082                  & A                         & G                        \\\\\n",
       "\t3990402 & -1.251513                 & 0.08119419                & 4.580666e-40              & 1.321640e-53              & 4\\_39446549\\_G\\_A      & ENSG00000163682\\_RPL9    & 4.103514e-37              &  4                        & 39446549                  & G                         & A                        \\\\\n",
       "\\end{tabular}\n"
      ],
      "text/markdown": [
       "\n",
       "| <!--/--> | beta | beta_se | empirical_feature_p_value | p_value | snp_id | feature | global_corr_p_value | chrom | pos | ref_allele | alt_allele | \n",
       "|---|---|---|---|---|---|\n",
       "| 4525139 | -2.345279               | 0.12747272              | 5.451044e-47            | 1.355899e-75            | 6_29961580_A_G          | ENSG00000204619_PPP1R11 | 2.929937e-43            |  6                      | 29961580                | A                       | G                       | \n",
       "| 4549981 | -1.359778               | 0.08394644              | 3.146549e-46            | 5.195500e-59            | 6_31927342_A_G          | ENSG00000204351_SKIV2L  | 8.456351e-43            |  6                      | 31927342                | A                       | G                       | \n",
       "| 2694353 | -1.608762               | 0.09373689              | 9.084895e-45            | 5.066448e-66            | 19_54695163_T_C         | ENSG00000170892_TSEN34  | 1.627711e-41            | 19                      | 54695163                | T                       | C                       | \n",
       "| 4546292 | -1.289904               | 0.08528755              | 5.690087e-42            | 1.121842e-51            | 6_31847012_C_A          | ENSG00000204371_EHMT2   | 7.646055e-39            |  6                      | 31847012                | C                       | A                       | \n",
       "| 4528336 | -3.073444               | 0.17813044              | 1.890030e-40            | 1.045989e-66            | 6_30628082_A_G          | ENSG00000137331_IER3    | 2.031783e-37            |  6                      | 30628082                | A                       | G                       | \n",
       "| 3990402 | -1.251513               | 0.08119419              | 4.580666e-40            | 1.321640e-53            | 4_39446549_G_A          | ENSG00000163682_RPL9    | 4.103514e-37            |  4                      | 39446549                | G                       | A                       | \n",
       "\n",
       "\n"
      ],
      "text/plain": [
       "        beta      beta_se    empirical_feature_p_value p_value     \n",
       "4525139 -2.345279 0.12747272 5.451044e-47              1.355899e-75\n",
       "4549981 -1.359778 0.08394644 3.146549e-46              5.195500e-59\n",
       "2694353 -1.608762 0.09373689 9.084895e-45              5.066448e-66\n",
       "4546292 -1.289904 0.08528755 5.690087e-42              1.121842e-51\n",
       "4528336 -3.073444 0.17813044 1.890030e-40              1.045989e-66\n",
       "3990402 -1.251513 0.08119419 4.580666e-40              1.321640e-53\n",
       "        snp_id          feature                 global_corr_p_value chrom\n",
       "4525139 6_29961580_A_G  ENSG00000204619_PPP1R11 2.929937e-43         6   \n",
       "4549981 6_31927342_A_G  ENSG00000204351_SKIV2L  8.456351e-43         6   \n",
       "2694353 19_54695163_T_C ENSG00000170892_TSEN34  1.627711e-41        19   \n",
       "4546292 6_31847012_C_A  ENSG00000204371_EHMT2   7.646055e-39         6   \n",
       "4528336 6_30628082_A_G  ENSG00000137331_IER3    2.031783e-37         6   \n",
       "3990402 4_39446549_G_A  ENSG00000163682_RPL9    4.103514e-37         4   \n",
       "        pos      ref_allele alt_allele\n",
       "4525139 29961580 A          G         \n",
       "4549981 31927342 A          G         \n",
       "2694353 54695163 T          C         \n",
       "4546292 31847012 C          A         \n",
       "4528336 30628082 A          G         \n",
       "3990402 39446549 G          A         "
      ]
     },
     "metadata": {},
     "output_type": "display_data"
    }
   ],
   "source": [
    "head(leads.bulk)"
   ]
  },
  {
   "cell_type": "code",
   "execution_count": 138,
   "metadata": {},
   "outputs": [],
   "source": [
    "leads.bulk$ensembl_gene_id = gsub(\"*_.*\",\"\",leads.bulk$feature)\n",
    "leads.bulk$gene_name = gsub(\".*_\",\"\",leads.bulk$feature)\n",
    "leads.bulk$snp_chromosome = leads.bulk$chrom\n",
    "leads.bulk$snp_position = leads.bulk$pos"
   ]
  },
  {
   "cell_type": "code",
   "execution_count": 139,
   "metadata": {},
   "outputs": [
    {
     "data": {
      "text/html": [
       "<table>\n",
       "<thead><tr><th></th><th scope=col>beta</th><th scope=col>beta_se</th><th scope=col>empirical_feature_p_value</th><th scope=col>p_value</th><th scope=col>snp_id</th><th scope=col>feature</th><th scope=col>global_corr_p_value</th><th scope=col>chrom</th><th scope=col>pos</th><th scope=col>ref_allele</th><th scope=col>alt_allele</th><th scope=col>ensembl_gene_id</th><th scope=col>gene_name</th><th scope=col>snp_chromosome</th><th scope=col>snp_position</th></tr></thead>\n",
       "<tbody>\n",
       "\t<tr><th scope=row>4525139</th><td>-2.345279              </td><td>0.12747272             </td><td>5.451044e-47           </td><td>1.355899e-75           </td><td>6_29961580_A_G         </td><td>ENSG00000204619_PPP1R11</td><td>2.929937e-43           </td><td>6                      </td><td>29961580               </td><td>A                      </td><td>G                      </td><td>ENSG00000204619        </td><td>PPP1R11                </td><td>6                      </td><td>29961580               </td></tr>\n",
       "\t<tr><th scope=row>4549981</th><td>-1.359778              </td><td>0.08394644             </td><td>3.146549e-46           </td><td>5.195500e-59           </td><td>6_31927342_A_G         </td><td>ENSG00000204351_SKIV2L </td><td>8.456351e-43           </td><td>6                      </td><td>31927342               </td><td>A                      </td><td>G                      </td><td>ENSG00000204351        </td><td>SKIV2L                 </td><td>6                      </td><td>31927342               </td></tr>\n",
       "</tbody>\n",
       "</table>\n"
      ],
      "text/latex": [
       "\\begin{tabular}{r|lllllllllllllll}\n",
       "  & beta & beta\\_se & empirical\\_feature\\_p\\_value & p\\_value & snp\\_id & feature & global\\_corr\\_p\\_value & chrom & pos & ref\\_allele & alt\\_allele & ensembl\\_gene\\_id & gene\\_name & snp\\_chromosome & snp\\_position\\\\\n",
       "\\hline\n",
       "\t4525139 & -2.345279                 & 0.12747272                & 5.451044e-47              & 1.355899e-75              & 6\\_29961580\\_A\\_G      & ENSG00000204619\\_PPP1R11 & 2.929937e-43              & 6                         & 29961580                  & A                         & G                         & ENSG00000204619           & PPP1R11                   & 6                         & 29961580                 \\\\\n",
       "\t4549981 & -1.359778                 & 0.08394644                & 3.146549e-46              & 5.195500e-59              & 6\\_31927342\\_A\\_G      & ENSG00000204351\\_SKIV2L  & 8.456351e-43              & 6                         & 31927342                  & A                         & G                         & ENSG00000204351           & SKIV2L                    & 6                         & 31927342                 \\\\\n",
       "\\end{tabular}\n"
      ],
      "text/markdown": [
       "\n",
       "| <!--/--> | beta | beta_se | empirical_feature_p_value | p_value | snp_id | feature | global_corr_p_value | chrom | pos | ref_allele | alt_allele | ensembl_gene_id | gene_name | snp_chromosome | snp_position | \n",
       "|---|---|\n",
       "| 4525139 | -2.345279               | 0.12747272              | 5.451044e-47            | 1.355899e-75            | 6_29961580_A_G          | ENSG00000204619_PPP1R11 | 2.929937e-43            | 6                       | 29961580                | A                       | G                       | ENSG00000204619         | PPP1R11                 | 6                       | 29961580                | \n",
       "| 4549981 | -1.359778               | 0.08394644              | 3.146549e-46            | 5.195500e-59            | 6_31927342_A_G          | ENSG00000204351_SKIV2L  | 8.456351e-43            | 6                       | 31927342                | A                       | G                       | ENSG00000204351         | SKIV2L                  | 6                       | 31927342                | \n",
       "\n",
       "\n"
      ],
      "text/plain": [
       "        beta      beta_se    empirical_feature_p_value p_value     \n",
       "4525139 -2.345279 0.12747272 5.451044e-47              1.355899e-75\n",
       "4549981 -1.359778 0.08394644 3.146549e-46              5.195500e-59\n",
       "        snp_id         feature                 global_corr_p_value chrom\n",
       "4525139 6_29961580_A_G ENSG00000204619_PPP1R11 2.929937e-43        6    \n",
       "4549981 6_31927342_A_G ENSG00000204351_SKIV2L  8.456351e-43        6    \n",
       "        pos      ref_allele alt_allele ensembl_gene_id gene_name snp_chromosome\n",
       "4525139 29961580 A          G          ENSG00000204619 PPP1R11   6             \n",
       "4549981 31927342 A          G          ENSG00000204351 SKIV2L    6             \n",
       "        snp_position\n",
       "4525139 29961580    \n",
       "4549981 31927342    "
      ]
     },
     "metadata": {},
     "output_type": "display_data"
    }
   ],
   "source": [
    "head(leads.bulk,2)"
   ]
  },
  {
   "cell_type": "code",
   "execution_count": 140,
   "metadata": {},
   "outputs": [],
   "source": [
    "df = leads.bulk[,c(\"ensembl_gene_id\",\"snp_id\",\"p_value\",\"empirical_feature_p_value\",\"global_corr_p_value\",\n",
    "                    \"beta\",\"beta_se\",\"gene_name\",\"snp_chromosome\",\"snp_position\",\"ref_allele\",\"alt_allele\")]"
   ]
  },
  {
   "cell_type": "code",
   "execution_count": 141,
   "metadata": {},
   "outputs": [
    {
     "data": {
      "text/html": [
       "<table>\n",
       "<thead><tr><th></th><th scope=col>ensembl_gene_id</th><th scope=col>snp_id</th><th scope=col>p_value</th><th scope=col>empirical_feature_p_value</th><th scope=col>global_corr_p_value</th><th scope=col>beta</th><th scope=col>beta_se</th><th scope=col>gene_name</th><th scope=col>snp_chromosome</th><th scope=col>snp_position</th><th scope=col>ref_allele</th><th scope=col>alt_allele</th></tr></thead>\n",
       "<tbody>\n",
       "\t<tr><th scope=row>4525139</th><td>ENSG00000204619</td><td>6_29961580_A_G </td><td>1.355899e-75   </td><td>5.451044e-47   </td><td>2.929937e-43   </td><td>-2.345279      </td><td>0.12747272     </td><td>PPP1R11        </td><td>6              </td><td>29961580       </td><td>A              </td><td>G              </td></tr>\n",
       "\t<tr><th scope=row>4549981</th><td>ENSG00000204351</td><td>6_31927342_A_G </td><td>5.195500e-59   </td><td>3.146549e-46   </td><td>8.456351e-43   </td><td>-1.359778      </td><td>0.08394644     </td><td>SKIV2L         </td><td>6              </td><td>31927342       </td><td>A              </td><td>G              </td></tr>\n",
       "</tbody>\n",
       "</table>\n"
      ],
      "text/latex": [
       "\\begin{tabular}{r|llllllllllll}\n",
       "  & ensembl\\_gene\\_id & snp\\_id & p\\_value & empirical\\_feature\\_p\\_value & global\\_corr\\_p\\_value & beta & beta\\_se & gene\\_name & snp\\_chromosome & snp\\_position & ref\\_allele & alt\\_allele\\\\\n",
       "\\hline\n",
       "\t4525139 & ENSG00000204619      & 6\\_29961580\\_A\\_G & 1.355899e-75         & 5.451044e-47         & 2.929937e-43         & -2.345279            & 0.12747272           & PPP1R11              & 6                    & 29961580             & A                    & G                   \\\\\n",
       "\t4549981 & ENSG00000204351      & 6\\_31927342\\_A\\_G & 5.195500e-59         & 3.146549e-46         & 8.456351e-43         & -1.359778            & 0.08394644           & SKIV2L               & 6                    & 31927342             & A                    & G                   \\\\\n",
       "\\end{tabular}\n"
      ],
      "text/markdown": [
       "\n",
       "| <!--/--> | ensembl_gene_id | snp_id | p_value | empirical_feature_p_value | global_corr_p_value | beta | beta_se | gene_name | snp_chromosome | snp_position | ref_allele | alt_allele | \n",
       "|---|---|\n",
       "| 4525139 | ENSG00000204619 | 6_29961580_A_G  | 1.355899e-75    | 5.451044e-47    | 2.929937e-43    | -2.345279       | 0.12747272      | PPP1R11         | 6               | 29961580        | A               | G               | \n",
       "| 4549981 | ENSG00000204351 | 6_31927342_A_G  | 5.195500e-59    | 3.146549e-46    | 8.456351e-43    | -1.359778       | 0.08394644      | SKIV2L          | 6               | 31927342        | A               | G               | \n",
       "\n",
       "\n"
      ],
      "text/plain": [
       "        ensembl_gene_id snp_id         p_value      empirical_feature_p_value\n",
       "4525139 ENSG00000204619 6_29961580_A_G 1.355899e-75 5.451044e-47             \n",
       "4549981 ENSG00000204351 6_31927342_A_G 5.195500e-59 3.146549e-46             \n",
       "        global_corr_p_value beta      beta_se    gene_name snp_chromosome\n",
       "4525139 2.929937e-43        -2.345279 0.12747272 PPP1R11   6             \n",
       "4549981 8.456351e-43        -1.359778 0.08394644 SKIV2L    6             \n",
       "        snp_position ref_allele alt_allele\n",
       "4525139 29961580     A          G         \n",
       "4549981 31927342     A          G         "
      ]
     },
     "metadata": {},
     "output_type": "display_data"
    }
   ],
   "source": [
    "head(df,2)"
   ]
  },
  {
   "cell_type": "code",
   "execution_count": 142,
   "metadata": {},
   "outputs": [],
   "source": [
    "write.table(df, paste0(mydir,\"SuppTable_S6_bulk_iPSC_eQTLs.tsv\"), sep = \"\\t\", quote = F, row.names = F)"
   ]
  },
  {
   "cell_type": "code",
   "execution_count": null,
   "metadata": {},
   "outputs": [],
   "source": []
  },
  {
   "cell_type": "code",
   "execution_count": null,
   "metadata": {},
   "outputs": [],
   "source": [
    "############3"
   ]
  },
  {
   "cell_type": "code",
   "execution_count": 66,
   "metadata": {},
   "outputs": [
    {
     "data": {
      "text/html": [
       "'dixh_2, koqx_1, oebj_1, eoxi_6'"
      ],
      "text/latex": [
       "'dixh\\_2, koqx\\_1, oebj\\_1, eoxi\\_6'"
      ],
      "text/markdown": [
       "'dixh_2, koqx_1, oebj_1, eoxi_6'"
      ],
      "text/plain": [
       "[1] \"dixh_2, koqx_1, oebj_1, eoxi_6\""
      ]
     },
     "metadata": {},
     "output_type": "display_data"
    }
   ],
   "source": [
    "lines = c(\"dixh_2\", \"koqx_1\", \"oebj_1\", \"eoxi_6\")\n",
    "paste0(lines, collapse = \", \")"
   ]
  },
  {
   "cell_type": "code",
   "execution_count": null,
   "metadata": {},
   "outputs": [],
   "source": []
  },
  {
   "cell_type": "code",
   "execution_count": 5,
   "metadata": {},
   "outputs": [],
   "source": [
    "monogenic_diabetes_lines <- c(\"dixh_2\", \"koqx_1\", \"oebj_1\", \"eoxi_6\", \"pulk_1\",\n",
    "                              \"fasu_2\", \"walu_1\", \"biiw_6\", \"cekz_1\", \"tout_1\",\n",
    "                              \"fuai_1\", \"oojs_1\", \"guyj_2\", \"eevy_7\", \"zoio_2\", \"tach_2\")"
   ]
  },
  {
   "cell_type": "code",
   "execution_count": 6,
   "metadata": {},
   "outputs": [
    {
     "data": {
      "text/html": [
       "125"
      ],
      "text/latex": [
       "125"
      ],
      "text/markdown": [
       "125"
      ],
      "text/plain": [
       "[1] 125"
      ]
     },
     "metadata": {},
     "output_type": "display_data"
    }
   ],
   "source": [
    "length(unique(sce$donor))"
   ]
  },
  {
   "cell_type": "code",
   "execution_count": 7,
   "metadata": {},
   "outputs": [
    {
     "data": {
      "text/html": [
       "<ol class=list-inline>\n",
       "\t<li>'zoio_2'</li>\n",
       "\t<li>'fasu_2'</li>\n",
       "\t<li>'tout_1'</li>\n",
       "\t<li>'dixh_2'</li>\n",
       "\t<li>'koqx_1'</li>\n",
       "\t<li>'oebj_1'</li>\n",
       "\t<li>'oojs_1'</li>\n",
       "\t<li>'pulk_1'</li>\n",
       "\t<li>'eoxi_6'</li>\n",
       "\t<li>'guyj_2'</li>\n",
       "\t<li>'walu_1'</li>\n",
       "</ol>\n"
      ],
      "text/latex": [
       "\\begin{enumerate*}\n",
       "\\item 'zoio\\_2'\n",
       "\\item 'fasu\\_2'\n",
       "\\item 'tout\\_1'\n",
       "\\item 'dixh\\_2'\n",
       "\\item 'koqx\\_1'\n",
       "\\item 'oebj\\_1'\n",
       "\\item 'oojs\\_1'\n",
       "\\item 'pulk\\_1'\n",
       "\\item 'eoxi\\_6'\n",
       "\\item 'guyj\\_2'\n",
       "\\item 'walu\\_1'\n",
       "\\end{enumerate*}\n"
      ],
      "text/markdown": [
       "1. 'zoio_2'\n",
       "2. 'fasu_2'\n",
       "3. 'tout_1'\n",
       "4. 'dixh_2'\n",
       "5. 'koqx_1'\n",
       "6. 'oebj_1'\n",
       "7. 'oojs_1'\n",
       "8. 'pulk_1'\n",
       "9. 'eoxi_6'\n",
       "10. 'guyj_2'\n",
       "11. 'walu_1'\n",
       "\n",
       "\n"
      ],
      "text/plain": [
       " [1] \"zoio_2\" \"fasu_2\" \"tout_1\" \"dixh_2\" \"koqx_1\" \"oebj_1\" \"oojs_1\" \"pulk_1\"\n",
       " [9] \"eoxi_6\" \"guyj_2\" \"walu_1\""
      ]
     },
     "metadata": {},
     "output_type": "display_data"
    },
    {
     "data": {
      "text/html": [
       "11"
      ],
      "text/latex": [
       "11"
      ],
      "text/markdown": [
       "11"
      ],
      "text/plain": [
       "[1] 11"
      ]
     },
     "metadata": {},
     "output_type": "display_data"
    },
    {
     "data": {
      "text/html": [
       "16"
      ],
      "text/latex": [
       "16"
      ],
      "text/markdown": [
       "16"
      ],
      "text/plain": [
       "[1] 16"
      ]
     },
     "metadata": {},
     "output_type": "display_data"
    }
   ],
   "source": [
    "unique(sce$donor_short_id[sce$donor_short_id %in% monogenic_diabetes_lines])\n",
    "length(unique(sce$donor_short_id[sce$donor_short_id %in% monogenic_diabetes_lines]))\n",
    "length(monogenic_diabetes_lines)"
   ]
  },
  {
   "cell_type": "code",
   "execution_count": 8,
   "metadata": {},
   "outputs": [],
   "source": [
    "##### FACS"
   ]
  },
  {
   "cell_type": "code",
   "execution_count": 9,
   "metadata": {},
   "outputs": [
    {
     "data": {
      "text/html": [
       "<ol class=list-inline>\n",
       "\t<li>36044</li>\n",
       "\t<li>5</li>\n",
       "</ol>\n"
      ],
      "text/latex": [
       "\\begin{enumerate*}\n",
       "\\item 36044\n",
       "\\item 5\n",
       "\\end{enumerate*}\n"
      ],
      "text/markdown": [
       "1. 36044\n",
       "2. 5\n",
       "\n",
       "\n"
      ],
      "text/plain": [
       "[1] 36044     5"
      ]
     },
     "metadata": {},
     "output_type": "display_data"
    },
    {
     "data": {
      "text/html": [
       "<ol class=list-inline>\n",
       "\t<li>31724</li>\n",
       "\t<li>5</li>\n",
       "</ol>\n"
      ],
      "text/latex": [
       "\\begin{enumerate*}\n",
       "\\item 31724\n",
       "\\item 5\n",
       "\\end{enumerate*}\n"
      ],
      "text/markdown": [
       "1. 31724\n",
       "2. 5\n",
       "\n",
       "\n"
      ],
      "text/plain": [
       "[1] 31724     5"
      ]
     },
     "metadata": {},
     "output_type": "display_data"
    },
    {
     "data": {},
     "metadata": {},
     "output_type": "display_data"
    },
    {
     "data": {
      "image/png": "[encoded data removed]",
      "text/plain": [
       "plot without title"
      ]
     },
     "metadata": {},
     "output_type": "display_data"
    }
   ],
   "source": [
    "options(repr.plot.width = 8, repr.plot.height = 4) \n",
    "df_facs = as.data.frame(cbind(sce$donor, sce$day, sce$experiment, \n",
    "                             colData(sce)$mean_cxcr4_norm_sorted, colData(sce)$mean_tra160_norm_sorted))\n",
    "# head(df_facs)\n",
    "colnames(df_facs) = c(\"donor\", \"day\", \"expt\", \"CXCR4\", \"Tra160\")\n",
    "dim(df_facs)\n",
    "df_facs = df_facs[!(is.na(df_facs$CXCR4) & is.na(df_facs$Tra160)),]\n",
    "dim(df_facs)\n",
    "df_facs$tra160.pos <- 0\n",
    "df_facs$tra160.pos[df_facs$Tra160 > 0] <- 1\n",
    "df_facs$tra160.neg <- 0\n",
    "df_facs$tra160.neg[df_facs$Tra160 < 0] <- 1\n",
    "df_facs$cxcr4.pos <- 0\n",
    "df_facs$cxcr4.pos[df_facs$CXCR4 > 0] <- 1\n",
    "df_byday <- df_facs %>% group_by(day) %>% summarize(pos.cxcr4 = sum(as.numeric(cxcr4.pos)),\n",
    "                                                    pos.tra160 = sum(as.numeric(tra160.pos)),\n",
    "                                                    pos.cxcr4.tra160.neg = sum(as.numeric(cxcr4.pos) & as.numeric(tra160.neg)),\n",
    "                                                   tot.cells = length(as.numeric(cxcr4.pos[!(is.na(cxcr4.pos))])))\n",
    "\n",
    "df_byday <- as.data.frame(df_byday)\n",
    "df_byday$pct.tra160.pos <- df_byday$pos.tra160/df_byday$tot.cells*100\n",
    "df_byday$pct.cxcr4.pos <- df_byday$pos.cxcr4/df_byday$tot.cells*100\n",
    "df_byday$pct.cxcr4.pos.tra160.neg <- df_byday$pos.cxcr4.tra160.neg/df_byday$tot.cells*100\n",
    "\n",
    "col_day0 = \"#344d90\"\n",
    "col_day1 = \"#5cc5ef\"\n",
    "col_day2 = \"#ffb745\"\n",
    "col_day3 = \"#e7552c\"\n",
    "\n",
    "# p1 = ggplot(df_byday[df_byday$day %in% c(\"day0\",\"day3\"),], \n",
    "p1 = ggplot(df_byday, \n",
    "            aes(x = as.factor(day), y = as.numeric(pct.tra160.pos))) + \n",
    "#         geom_bar(stat = \"identity\", col = c(col_day0, col_day3), fill = c(col_day0, col_day3), width = 0.4) +\n",
    "        geom_bar(stat = \"identity\", fill = c(col_day0, col_day1, col_day2, col_day3), width = 0.6) +\n",
    "        ggtitle(\"TRA-1-60(+)\") + # ylim(c(1,2.5)) +\n",
    "       scale_color_canva(palette = \"Pool party\") + \n",
    "        xlab(\"day\") + ylab(\"percentage of cells (%)\") + labs(colour = \"day\") \n",
    "\n",
    "# p2 = ggplot(df_byday[df_byday$day %in% c(\"day0\",\"day3\"),],\n",
    "p2 = ggplot(df_byday,\n",
    "            aes(x = as.factor(day), y = as.numeric(pct.cxcr4.pos))) + \n",
    "#         geom_bar(stat = \"identity\", col = c(col_day0, col_day3), fill = c(col_day0, col_day3), width = 0.4) +\n",
    "        geom_bar(stat = \"identity\", fill = c(col_day0, col_day1, col_day2, col_day3), width = 0.6) +\n",
    "        ggtitle(\"CXCR4(+)\") + # ylim(c(1,2)) +\n",
    "        scale_fill_canva(palette = \"Pool party\") + \n",
    "        xlab(\"day\") + ylab(\"percentage of cells (%)\") + labs(colour = \"day\")\n",
    "\n",
    "# p3 = ggplot(df_byday[df_byday$day %in% c(\"day0\",\"day3\"),],\n",
    "p3 = ggplot(df_byday,\n",
    "            aes(x = as.factor(day), y = as.numeric(pct.cxcr4.pos.tra160.neg))) + \n",
    "#         geom_bar(stat = \"identity\", col = c(col_day0, col_day3), fill = c(col_day0, col_day3), width = 0.4) +\n",
    "        geom_bar(stat = \"identity\", fill = c(col_day0, col_day1, col_day2, col_day3), width = 0.6) +\n",
    "        ggtitle(\"CXCR4(+)/TRA-1-60(-)\") + # ylim(c(1,2)) +\n",
    "        scale_fill_canva(palette = \"Pool party\") + \n",
    "        xlab(\"day\") + ylab(\"percentage of cells (%)\") + labs(colour = \"day\")\n",
    "\n",
    "\n",
    "plot_grid(p1, p2, p3, ncol = 3)"
   ]
  },
  {
   "cell_type": "code",
   "execution_count": 10,
   "metadata": {},
   "outputs": [
    {
     "data": {
      "text/html": [
       "<table>\n",
       "<thead><tr><th scope=col>day</th><th scope=col>pos.cxcr4</th><th scope=col>pos.tra160</th><th scope=col>pos.cxcr4.tra160.neg</th><th scope=col>tot.cells</th><th scope=col>pct.tra160.pos</th><th scope=col>pct.cxcr4.pos</th><th scope=col>pct.cxcr4.pos.tra160.neg</th></tr></thead>\n",
       "<tbody>\n",
       "\t<tr><td>day0      </td><td> 286      </td><td>6275      </td><td>  60      </td><td>8560      </td><td>73.30607  </td><td> 3.341121 </td><td> 0.7009346</td></tr>\n",
       "\t<tr><td>day1      </td><td> 274      </td><td>5207      </td><td> 110      </td><td>8293      </td><td>62.78789  </td><td> 3.303991 </td><td> 1.3264199</td></tr>\n",
       "\t<tr><td>day2      </td><td>1048      </td><td>2057      </td><td> 803      </td><td>7628      </td><td>26.96644  </td><td>13.738857 </td><td>10.5270058</td></tr>\n",
       "\t<tr><td>day3      </td><td>3606      </td><td>2002      </td><td>2917      </td><td>7243      </td><td>27.64048  </td><td>49.786000 </td><td>40.2733674</td></tr>\n",
       "</tbody>\n",
       "</table>\n"
      ],
      "text/latex": [
       "\\begin{tabular}{r|llllllll}\n",
       " day & pos.cxcr4 & pos.tra160 & pos.cxcr4.tra160.neg & tot.cells & pct.tra160.pos & pct.cxcr4.pos & pct.cxcr4.pos.tra160.neg\\\\\n",
       "\\hline\n",
       "\t day0       &  286       & 6275       &   60       & 8560       & 73.30607   &  3.341121  &  0.7009346\\\\\n",
       "\t day1       &  274       & 5207       &  110       & 8293       & 62.78789   &  3.303991  &  1.3264199\\\\\n",
       "\t day2       & 1048       & 2057       &  803       & 7628       & 26.96644   & 13.738857  & 10.5270058\\\\\n",
       "\t day3       & 3606       & 2002       & 2917       & 7243       & 27.64048   & 49.786000  & 40.2733674\\\\\n",
       "\\end{tabular}\n"
      ],
      "text/markdown": [
       "\n",
       "day | pos.cxcr4 | pos.tra160 | pos.cxcr4.tra160.neg | tot.cells | pct.tra160.pos | pct.cxcr4.pos | pct.cxcr4.pos.tra160.neg | \n",
       "|---|---|---|---|\n",
       "| day0       |  286       | 6275       |   60       | 8560       | 73.30607   |  3.341121  |  0.7009346 | \n",
       "| day1       |  274       | 5207       |  110       | 8293       | 62.78789   |  3.303991  |  1.3264199 | \n",
       "| day2       | 1048       | 2057       |  803       | 7628       | 26.96644   | 13.738857  | 10.5270058 | \n",
       "| day3       | 3606       | 2002       | 2917       | 7243       | 27.64048   | 49.786000  | 40.2733674 | \n",
       "\n",
       "\n"
      ],
      "text/plain": [
       "  day  pos.cxcr4 pos.tra160 pos.cxcr4.tra160.neg tot.cells pct.tra160.pos\n",
       "1 day0  286      6275         60                 8560      73.30607      \n",
       "2 day1  274      5207        110                 8293      62.78789      \n",
       "3 day2 1048      2057        803                 7628      26.96644      \n",
       "4 day3 3606      2002       2917                 7243      27.64048      \n",
       "  pct.cxcr4.pos pct.cxcr4.pos.tra160.neg\n",
       "1  3.341121      0.7009346              \n",
       "2  3.303991      1.3264199              \n",
       "3 13.738857     10.5270058              \n",
       "4 49.786000     40.2733674              "
      ]
     },
     "metadata": {},
     "output_type": "display_data"
    }
   ],
   "source": [
    "head(df_byday)"
   ]
  },
  {
   "cell_type": "code",
   "execution_count": 11,
   "metadata": {},
   "outputs": [
    {
     "data": {
      "text/html": [
       "<table>\n",
       "<thead><tr><th></th><th scope=col>donor</th><th scope=col>day</th><th scope=col>expt</th><th scope=col>CXCR4</th><th scope=col>Tra160</th><th scope=col>tra160.pos</th><th scope=col>tra160.neg</th><th scope=col>cxcr4.pos</th></tr></thead>\n",
       "<tbody>\n",
       "\t<tr><th scope=row>286</th><td>fafq               </td><td>day3               </td><td>expt_10            </td><td>-0.0221036313168952</td><td>-0.564946399181896 </td><td>0                  </td><td>1                  </td><td>0                  </td></tr>\n",
       "\t<tr><th scope=row>287</th><td>fafq               </td><td>day3               </td><td>expt_10            </td><td>-0.815776110930329 </td><td>-0.969801481748757 </td><td>0                  </td><td>1                  </td><td>0                  </td></tr>\n",
       "\t<tr><th scope=row>288</th><td>wopl               </td><td>day3               </td><td>expt_10            </td><td>0.5569409430522    </td><td>-1.19566167693768  </td><td>0                  </td><td>1                  </td><td>1                  </td></tr>\n",
       "\t<tr><th scope=row>289</th><td>sebz               </td><td>day3               </td><td>expt_10            </td><td>1.08098136020315   </td><td>-1.21720465094398  </td><td>0                  </td><td>1                  </td><td>1                  </td></tr>\n",
       "\t<tr><th scope=row>290</th><td>hayt               </td><td>day3               </td><td>expt_10            </td><td>0.211149564056329  </td><td>-1.18607218911828  </td><td>0                  </td><td>1                  </td><td>1                  </td></tr>\n",
       "\t<tr><th scope=row>291</th><td>fafq               </td><td>day3               </td><td>expt_10            </td><td>-0.382820800640962 </td><td>1.09195013465528   </td><td>1                  </td><td>0                  </td><td>0                  </td></tr>\n",
       "</tbody>\n",
       "</table>\n"
      ],
      "text/latex": [
       "\\begin{tabular}{r|llllllll}\n",
       "  & donor & day & expt & CXCR4 & Tra160 & tra160.pos & tra160.neg & cxcr4.pos\\\\\n",
       "\\hline\n",
       "\t286 & fafq                & day3                & expt\\_10           & -0.0221036313168952 & -0.564946399181896  & 0                   & 1                   & 0                  \\\\\n",
       "\t287 & fafq                & day3                & expt\\_10           & -0.815776110930329  & -0.969801481748757  & 0                   & 1                   & 0                  \\\\\n",
       "\t288 & wopl                & day3                & expt\\_10           & 0.5569409430522     & -1.19566167693768   & 0                   & 1                   & 1                  \\\\\n",
       "\t289 & sebz                & day3                & expt\\_10           & 1.08098136020315    & -1.21720465094398   & 0                   & 1                   & 1                  \\\\\n",
       "\t290 & hayt                & day3                & expt\\_10           & 0.211149564056329   & -1.18607218911828   & 0                   & 1                   & 1                  \\\\\n",
       "\t291 & fafq                & day3                & expt\\_10           & -0.382820800640962  & 1.09195013465528    & 1                   & 0                   & 0                  \\\\\n",
       "\\end{tabular}\n"
      ],
      "text/markdown": [
       "\n",
       "| <!--/--> | donor | day | expt | CXCR4 | Tra160 | tra160.pos | tra160.neg | cxcr4.pos | \n",
       "|---|---|---|---|---|---|\n",
       "| 286 | fafq                | day3                | expt_10             | -0.0221036313168952 | -0.564946399181896  | 0                   | 1                   | 0                   | \n",
       "| 287 | fafq                | day3                | expt_10             | -0.815776110930329  | -0.969801481748757  | 0                   | 1                   | 0                   | \n",
       "| 288 | wopl                | day3                | expt_10             | 0.5569409430522     | -1.19566167693768   | 0                   | 1                   | 1                   | \n",
       "| 289 | sebz                | day3                | expt_10             | 1.08098136020315    | -1.21720465094398   | 0                   | 1                   | 1                   | \n",
       "| 290 | hayt                | day3                | expt_10             | 0.211149564056329   | -1.18607218911828   | 0                   | 1                   | 1                   | \n",
       "| 291 | fafq                | day3                | expt_10             | -0.382820800640962  | 1.09195013465528    | 1                   | 0                   | 0                   | \n",
       "\n",
       "\n"
      ],
      "text/plain": [
       "    donor day  expt    CXCR4               Tra160             tra160.pos\n",
       "286 fafq  day3 expt_10 -0.0221036313168952 -0.564946399181896 0         \n",
       "287 fafq  day3 expt_10 -0.815776110930329  -0.969801481748757 0         \n",
       "288 wopl  day3 expt_10 0.5569409430522     -1.19566167693768  0         \n",
       "289 sebz  day3 expt_10 1.08098136020315    -1.21720465094398  0         \n",
       "290 hayt  day3 expt_10 0.211149564056329   -1.18607218911828  0         \n",
       "291 fafq  day3 expt_10 -0.382820800640962  1.09195013465528   1         \n",
       "    tra160.neg cxcr4.pos\n",
       "286 1          0        \n",
       "287 1          0        \n",
       "288 1          1        \n",
       "289 1          1        \n",
       "290 1          1        \n",
       "291 0          0        "
      ]
     },
     "metadata": {},
     "output_type": "display_data"
    }
   ],
   "source": [
    "head(df_facs)"
   ]
  },
  {
   "cell_type": "code",
   "execution_count": 12,
   "metadata": {
    "scrolled": true
   },
   "outputs": [
    {
     "data": {
      "text/html": [
       "0.733060747663551"
      ],
      "text/latex": [
       "0.733060747663551"
      ],
      "text/markdown": [
       "0.733060747663551"
      ],
      "text/plain": [
       "[1] 0.7330607"
      ]
     },
     "metadata": {},
     "output_type": "display_data"
    },
    {
     "data": {
      "text/html": [
       "0.497860002761287"
      ],
      "text/latex": [
       "0.497860002761287"
      ],
      "text/markdown": [
       "0.497860002761287"
      ],
      "text/plain": [
       "[1] 0.49786"
      ]
     },
     "metadata": {},
     "output_type": "display_data"
    }
   ],
   "source": [
    "mean(df_facs[df_facs$day == \"day0\",\"tra160.pos\"])\n",
    "mean(df_facs[df_facs$day == \"day3\",\"cxcr4.pos\"])"
   ]
  },
  {
   "cell_type": "code",
   "execution_count": 13,
   "metadata": {},
   "outputs": [],
   "source": [
    "df_byday_expt <- df_facs %>% group_by(day,expt) %>% summarize(pos.cxcr4 = sum(as.numeric(cxcr4.pos)),\n",
    "                                                    pos.tra160 = sum(as.numeric(tra160.pos)),\n",
    "                                                    pos.cxcr4.tra160.neg = sum(as.numeric(cxcr4.pos) & as.numeric(tra160.neg)),\n",
    "                                                   tot.cells = length(as.numeric(cxcr4.pos[!(is.na(cxcr4.pos))])))"
   ]
  },
  {
   "cell_type": "code",
   "execution_count": 14,
   "metadata": {},
   "outputs": [
    {
     "data": {
      "text/html": [
       "<table>\n",
       "<thead><tr><th scope=col>day</th><th scope=col>expt</th><th scope=col>pos.cxcr4</th><th scope=col>pos.tra160</th><th scope=col>pos.cxcr4.tra160.neg</th><th scope=col>tot.cells</th><th scope=col>pct.pos.tra160</th><th scope=col>pct.pos.cxcr4</th></tr></thead>\n",
       "<tbody>\n",
       "\t<tr><td>day0       </td><td>expt_12    </td><td>2          </td><td>194        </td><td>0          </td><td>268        </td><td>0.7238806  </td><td>0.007462687</td></tr>\n",
       "\t<tr><td>day0       </td><td>expt_18    </td><td>2          </td><td>224        </td><td>1          </td><td>255        </td><td>0.8784314  </td><td>0.007843137</td></tr>\n",
       "\t<tr><td>day0       </td><td>expt_20    </td><td>0          </td><td> 18        </td><td>0          </td><td> 36        </td><td>0.5000000  </td><td>0.000000000</td></tr>\n",
       "\t<tr><td>day0       </td><td>expt_22    </td><td>0          </td><td>151        </td><td>0          </td><td>211        </td><td>0.7156398  </td><td>0.000000000</td></tr>\n",
       "\t<tr><td>day0       </td><td>expt_23    </td><td>1          </td><td>292        </td><td>0          </td><td>311        </td><td>0.9389068  </td><td>0.003215434</td></tr>\n",
       "\t<tr><td>day0       </td><td>expt_24    </td><td>3          </td><td>156        </td><td>0          </td><td>164        </td><td>0.9512195  </td><td>0.018292683</td></tr>\n",
       "</tbody>\n",
       "</table>\n"
      ],
      "text/latex": [
       "\\begin{tabular}{r|llllllll}\n",
       " day & expt & pos.cxcr4 & pos.tra160 & pos.cxcr4.tra160.neg & tot.cells & pct.pos.tra160 & pct.pos.cxcr4\\\\\n",
       "\\hline\n",
       "\t day0        & expt\\_12   & 2           & 194         & 0           & 268         & 0.7238806   & 0.007462687\\\\\n",
       "\t day0        & expt\\_18   & 2           & 224         & 1           & 255         & 0.8784314   & 0.007843137\\\\\n",
       "\t day0        & expt\\_20   & 0           &  18         & 0           &  36         & 0.5000000   & 0.000000000\\\\\n",
       "\t day0        & expt\\_22   & 0           & 151         & 0           & 211         & 0.7156398   & 0.000000000\\\\\n",
       "\t day0        & expt\\_23   & 1           & 292         & 0           & 311         & 0.9389068   & 0.003215434\\\\\n",
       "\t day0        & expt\\_24   & 3           & 156         & 0           & 164         & 0.9512195   & 0.018292683\\\\\n",
       "\\end{tabular}\n"
      ],
      "text/markdown": [
       "\n",
       "day | expt | pos.cxcr4 | pos.tra160 | pos.cxcr4.tra160.neg | tot.cells | pct.pos.tra160 | pct.pos.cxcr4 | \n",
       "|---|---|---|---|---|---|\n",
       "| day0        | expt_12     | 2           | 194         | 0           | 268         | 0.7238806   | 0.007462687 | \n",
       "| day0        | expt_18     | 2           | 224         | 1           | 255         | 0.8784314   | 0.007843137 | \n",
       "| day0        | expt_20     | 0           |  18         | 0           |  36         | 0.5000000   | 0.000000000 | \n",
       "| day0        | expt_22     | 0           | 151         | 0           | 211         | 0.7156398   | 0.000000000 | \n",
       "| day0        | expt_23     | 1           | 292         | 0           | 311         | 0.9389068   | 0.003215434 | \n",
       "| day0        | expt_24     | 3           | 156         | 0           | 164         | 0.9512195   | 0.018292683 | \n",
       "\n",
       "\n"
      ],
      "text/plain": [
       "  day  expt    pos.cxcr4 pos.tra160 pos.cxcr4.tra160.neg tot.cells\n",
       "1 day0 expt_12 2         194        0                    268      \n",
       "2 day0 expt_18 2         224        1                    255      \n",
       "3 day0 expt_20 0          18        0                     36      \n",
       "4 day0 expt_22 0         151        0                    211      \n",
       "5 day0 expt_23 1         292        0                    311      \n",
       "6 day0 expt_24 3         156        0                    164      \n",
       "  pct.pos.tra160 pct.pos.cxcr4\n",
       "1 0.7238806      0.007462687  \n",
       "2 0.8784314      0.007843137  \n",
       "3 0.5000000      0.000000000  \n",
       "4 0.7156398      0.000000000  \n",
       "5 0.9389068      0.003215434  \n",
       "6 0.9512195      0.018292683  "
      ]
     },
     "metadata": {},
     "output_type": "display_data"
    }
   ],
   "source": [
    "df_byday_expt$pct.pos.tra160 = df_byday_expt$pos.tra160/df_byday_expt$tot.cells\n",
    "df_byday_expt$pct.pos.cxcr4 = df_byday_expt$pos.cxcr4/df_byday_expt$tot.cells\n",
    "head(df_byday_expt)"
   ]
  },
  {
   "cell_type": "code",
   "execution_count": 15,
   "metadata": {},
   "outputs": [
    {
     "data": {
      "text/html": [
       "0.347826086956522"
      ],
      "text/latex": [
       "0.347826086956522"
      ],
      "text/markdown": [
       "0.347826086956522"
      ],
      "text/plain": [
       "[1] 0.3478261"
      ]
     },
     "metadata": {},
     "output_type": "display_data"
    },
    {
     "data": {
      "text/html": [
       "0.959821428571429"
      ],
      "text/latex": [
       "0.959821428571429"
      ],
      "text/markdown": [
       "0.959821428571429"
      ],
      "text/plain": [
       "[1] 0.9598214"
      ]
     },
     "metadata": {},
     "output_type": "display_data"
    }
   ],
   "source": [
    "min(df_byday_expt[df_byday_expt$day == \"day0\",\"pct.pos.tra160\"], na.rm = T)\n",
    "max(df_byday_expt[df_byday_expt$day == \"day0\",\"pct.pos.tra160\"], na.rm = T)"
   ]
  },
  {
   "cell_type": "code",
   "execution_count": 16,
   "metadata": {},
   "outputs": [
    {
     "data": {
      "text/html": [
       "0.718729994375485"
      ],
      "text/latex": [
       "0.718729994375485"
      ],
      "text/markdown": [
       "0.718729994375485"
      ],
      "text/plain": [
       "[1] 0.71873"
      ]
     },
     "metadata": {},
     "output_type": "display_data"
    },
    {
     "data": {
      "text/html": [
       "0.719760203720733"
      ],
      "text/latex": [
       "0.719760203720733"
      ],
      "text/markdown": [
       "0.719760203720733"
      ],
      "text/plain": [
       "[1] 0.7197602"
      ]
     },
     "metadata": {},
     "output_type": "display_data"
    }
   ],
   "source": [
    "mean(unlist(df_byday_expt[df_byday_expt$day == \"day0\",\"pct.pos.tra160\"]))\n",
    "median(unlist(df_byday_expt[df_byday_expt$day == \"day0\",\"pct.pos.tra160\"]))"
   ]
  },
  {
   "cell_type": "code",
   "execution_count": 17,
   "metadata": {},
   "outputs": [
    {
     "data": {
      "text/html": [
       "0"
      ],
      "text/latex": [
       "0"
      ],
      "text/markdown": [
       "0"
      ],
      "text/plain": [
       "[1] 0"
      ]
     },
     "metadata": {},
     "output_type": "display_data"
    },
    {
     "data": {
      "text/html": [
       "0.884615384615385"
      ],
      "text/latex": [
       "0.884615384615385"
      ],
      "text/markdown": [
       "0.884615384615385"
      ],
      "text/plain": [
       "[1] 0.8846154"
      ]
     },
     "metadata": {},
     "output_type": "display_data"
    }
   ],
   "source": [
    "min(df_byday_expt[df_byday_expt$day == \"day3\",\"pct.pos.cxcr4\"], na.rm = T)\n",
    "max(df_byday_expt[df_byday_expt$day == \"day3\",\"pct.pos.cxcr4\"], na.rm = T)"
   ]
  },
  {
   "cell_type": "code",
   "execution_count": 18,
   "metadata": {},
   "outputs": [
    {
     "data": {
      "text/html": [
       "0.489164559677088"
      ],
      "text/latex": [
       "0.489164559677088"
      ],
      "text/markdown": [
       "0.489164559677088"
      ],
      "text/plain": [
       "[1] 0.4891646"
      ]
     },
     "metadata": {},
     "output_type": "display_data"
    },
    {
     "data": {
      "text/html": [
       "0.495265623442639"
      ],
      "text/latex": [
       "0.495265623442639"
      ],
      "text/markdown": [
       "0.495265623442639"
      ],
      "text/plain": [
       "[1] 0.4952656"
      ]
     },
     "metadata": {},
     "output_type": "display_data"
    }
   ],
   "source": [
    "mean(unlist(df_byday_expt[df_byday_expt$day == \"day3\",\"pct.pos.cxcr4\"]))\n",
    "median(unlist(df_byday_expt[df_byday_expt$day == \"day3\",\"pct.pos.cxcr4\"]))"
   ]
  },
  {
   "cell_type": "code",
   "execution_count": 19,
   "metadata": {},
   "outputs": [
    {
     "data": {},
     "metadata": {},
     "output_type": "display_data"
    },
    {
     "data": {
      "image/png": "[encoded data removed]",
      "text/plain": [
       "plot without title"
      ]
     },
     "metadata": {},
     "output_type": "display_data"
    }
   ],
   "source": [
    "p = ggplot(as.data.frame(df_byday_expt), aes(x = day, y = pct.pos.cxcr4*100, colour = day)) \n",
    "p = p + xlab(\"time point\") + ylab(\"% cells\") + ggtitle(\"CXCR4(+)\")\n",
    "p = p + scale_color_canva(palette = \"Pool party\")\n",
    "p = p + geom_violin()\n",
    "p = p + geom_boxplot(width = 0.1)\n",
    "p = p + geom_quasirandom(size = 0.8) \n",
    "p + theme(legend.position = \"none\")"
   ]
  },
  {
   "cell_type": "code",
   "execution_count": 20,
   "metadata": {},
   "outputs": [
    {
     "data": {},
     "metadata": {},
     "output_type": "display_data"
    },
    {
     "data": {
      "image/png": "[encoded data removed]",
      "text/plain": [
       "plot without title"
      ]
     },
     "metadata": {},
     "output_type": "display_data"
    }
   ],
   "source": [
    "p = ggplot(as.data.frame(df_byday_expt), aes(x = day, y = pct.pos.tra160*100, colour = day)) \n",
    "p = p + xlab(\"time point\") + ylab(\"% cells\") + ggtitle(\"TRA-1-60(+)\")\n",
    "p = p + scale_color_canva(palette = \"Pool party\")\n",
    "p = p + geom_violin()\n",
    "p = p + geom_boxplot(width = 0.1)\n",
    "p = p + geom_quasirandom(size = 0.8) \n",
    "p + theme(legend.position = \"none\")"
   ]
  },
  {
   "cell_type": "code",
   "execution_count": 19,
   "metadata": {},
   "outputs": [],
   "source": [
    "##### Stats"
   ]
  },
  {
   "cell_type": "code",
   "execution_count": 20,
   "metadata": {},
   "outputs": [
    {
     "data": {
      "text/html": [
       "<ol class=list-inline>\n",
       "\t<li>6</li>\n",
       "\t<li>5</li>\n",
       "\t<li>4</li>\n",
       "</ol>\n"
      ],
      "text/latex": [
       "\\begin{enumerate*}\n",
       "\\item 6\n",
       "\\item 5\n",
       "\\item 4\n",
       "\\end{enumerate*}\n"
      ],
      "text/markdown": [
       "1. 6\n",
       "2. 5\n",
       "3. 4\n",
       "\n",
       "\n"
      ],
      "text/plain": [
       "[1] 6 5 4"
      ]
     },
     "metadata": {},
     "output_type": "display_data"
    }
   ],
   "source": [
    "unique(rowSums(table(sce$experiment, sce$donor)>0))"
   ]
  },
  {
   "cell_type": "code",
   "execution_count": 21,
   "metadata": {},
   "outputs": [
    {
     "data": {
      "text/html": [
       "33"
      ],
      "text/latex": [
       "33"
      ],
      "text/markdown": [
       "33"
      ],
      "text/plain": [
       "[1] 33"
      ]
     },
     "metadata": {},
     "output_type": "display_data"
    }
   ],
   "source": [
    "# donors in more than one experiment\n",
    "length(colSums(table(sce$experiment, sce$donor)>0)[colSums(table(sce$experiment, sce$donor)>0)>1])"
   ]
  },
  {
   "cell_type": "code",
   "execution_count": 48,
   "metadata": {},
   "outputs": [
    {
     "data": {
      "image/png": "[encoded data removed]",
      "text/plain": [
       "Plot with title “”"
      ]
     },
     "metadata": {},
     "output_type": "display_data"
    }
   ],
   "source": [
    "par(mfrow = c(1,3))\n",
    "options(repr.plot.width = 8, repr.plot.height = 4) \n",
    "col = \"cornflowerblue\"\n",
    "col2 = \"white\"\n",
    "hist(rowSums(table(sce$experiment, sce$donor)>0), breaks = 8, ylab = \"counts\", cex.lab = 1.2,\n",
    "     xlab = \"# cell lines per experiment\", main = \"\", col = col, border = col2, cex.axis = 1.2, xaxt = 'n')\n",
    "axis(side = 1, at = c(4,5,6), cex.axis = 1.2)\n",
    "# hist(log10(table(sce$donor)), main = \"Number of cells \\n per line (log10)\", xlab = \"\", col = col, border = col2)\n",
    "hist(table(sce$donor), xlab = \"# cells  per cell line\", main = \"\", col = col, border = col2, ylab = \"counts\", \n",
    "     cex.lab = 1.2, cex.axis = 1.2)\n",
    "hist(colSums(table(sce$experiment, sce$donor)>0), ylab = \"counts\", cex = 1.5,\n",
    "     xlab = \"# experiments per cell line\", main = \"\", col = col, border = col2, xaxt = 'n', cex.lab = 1.2, cex.axis = 1.2)\n",
    "axis(side = 1, at = c(1,2,3), cex.axis = 1.2)"
   ]
  },
  {
   "cell_type": "code",
   "execution_count": 55,
   "metadata": {},
   "outputs": [
    {
     "data": {
      "image/png": "[encoded data removed]",
      "text/plain": [
       "Plot with title “”"
      ]
     },
     "metadata": {},
     "output_type": "display_data"
    }
   ],
   "source": [
    "par(mfrow=c(1,3))\n",
    "options(repr.plot.width = 8, repr.plot.height = 4) \n",
    "col = \"cornflowerblue\"\n",
    "col2 = \"white\"\n",
    "hist(rowSums(table(sce$donor, sce$day)>0), breaks = 15, ylab = \"counts\", cex.lab = 1.2, cex.axis = 1.2,\n",
    "     xlab = \"# days per cell line\", main = \"\", col = col, border = col2, xaxt = 'n')\n",
    "axis(side = 1, at = c(1,2,3,4), cex.axis = 1.2)\n",
    "hist(rowSums(table(sce$experiment, sce$day)>0), xlab = \"# days per experiment\",  ylab = \"counts\",\n",
    "     main = \"\", col = col, border = col2, breaks = 20, xaxt = 'n', cex.lab = 1.2, cex.axis = 1.2)\n",
    "axis(side = 1, at = c(1,2,3,4), cex.axis = 1.2)\n",
    "barplot(table(sce$day), \n",
    "     ylab = \"# cells per day\", main = \"\", col = col, border = col2, cex.lab = 1.2, cex.axis = 1.2, cex = 1.2)"
   ]
  },
  {
   "cell_type": "code",
   "execution_count": null,
   "metadata": {},
   "outputs": [],
   "source": []
  }
 ],
 "metadata": {
  "kernelspec": {
   "display_name": "R",
   "language": "R",
   "name": "ir"
  },
  "language_info": {
   "codemirror_mode": "r",
   "file_extension": ".r",
   "mimetype": "text/x-r-source",
   "name": "R",
   "pygments_lexer": "r",
   "version": "3.6.1"
  }
 },
 "nbformat": 4,
 "nbformat_minor": 2
}
