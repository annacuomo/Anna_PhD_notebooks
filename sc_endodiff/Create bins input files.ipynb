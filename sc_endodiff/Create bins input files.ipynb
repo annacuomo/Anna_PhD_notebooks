{
 "cells": [
  {
   "cell_type": "code",
   "execution_count": 1,
   "metadata": {},
   "outputs": [],
   "source": [
    "## load useful libraries\n",
    "suppressWarnings(suppressPackageStartupMessages(library(rhdf5)))\n",
    "suppressWarnings(suppressPackageStartupMessages(library(qvalue)))\n",
    "suppressWarnings(suppressPackageStartupMessages(library(dplyr)))\n",
    "suppressWarnings(suppressPackageStartupMessages(library(cowplot)))\n",
    "suppressWarnings(suppressPackageStartupMessages(library(tidyverse)))\n",
    "suppressWarnings(suppressPackageStartupMessages(library(ggbeeswarm)))\n",
    "suppressWarnings(suppressPackageStartupMessages(library(ggthemes)))\n",
    "suppressWarnings(suppressPackageStartupMessages(library(scater)))\n",
    "# suppressWarnings(suppressPackageStartupMessages(library(SingleCellExperiment)))\n",
    "suppressWarnings(suppressPackageStartupMessages(library(edgeR)))\n",
    "suppressWarnings(suppressPackageStartupMessages(library(limma)))\n",
    "suppressWarnings(suppressPackageStartupMessages(library(ggplot2)))\n",
    "suppressWarnings(suppressPackageStartupMessages(library(ISLR)))\n",
    "suppressWarnings(suppressPackageStartupMessages(library(GGally)))\n",
    "suppressWarnings(suppressPackageStartupMessages(library(scran)))\n",
    "suppressWarnings(suppressPackageStartupMessages(library(ComplexHeatmap)))\n",
    "suppressWarnings(suppressPackageStartupMessages(library(circlize)))"
   ]
  },
  {
   "cell_type": "code",
   "execution_count": 2,
   "metadata": {},
   "outputs": [],
   "source": [
    "step.pct = 0.025\n",
    "window.pct = 0.25\n",
    "output.dir = \"/hps/nobackup/hipsci/scratch/singlecell_endodiff/data_processed/scQTLs/binning_analysis/input_files_noday/\"\n",
    "sce.file = \"/hps/nobackup/hipsci/scratch/singlecell_endodiff/data_processed/merged/20180618/sce_merged_afterqc_filt_allexpts.rds\""
   ]
  },
  {
   "cell_type": "code",
   "execution_count": 5,
   "metadata": {},
   "outputs": [
    {
     "data": {
      "text/plain": [
       "class: SingleCellExperiment \n",
       "dim: 11231 36044 \n",
       "metadata(4): log.exprs.offset log.exprs.offset log.exprs.offset\n",
       "  log.exprs.offset\n",
       "assays(3): tpm counts logcounts\n",
       "rownames(11231): ENSG00000000003_TSPAN6 ENSG00000000419_DPM1 ...\n",
       "  ENSG00000272325_NUDT3 ENSG00000272398_CD24\n",
       "rowData names(17): exprs_collapsed_to ensembl_transcript_id ...\n",
       "  is_intop2000hvg is_hvg\n",
       "colnames(36044): 21843_1#10 21843_1#100 ... 24539_8#97 24539_8#98\n",
       "colData names(123): adj_x adj_y ... princ_curve princ_curve_scaled01\n",
       "reducedDimNames(1): PCA\n",
       "spikeNames(1): ERCC"
      ]
     },
     "metadata": {},
     "output_type": "display_data"
    }
   ],
   "source": [
    "sce = readRDS(sce.file)\n",
    "sce"
   ]
  },
  {
   "cell_type": "code",
   "execution_count": 6,
   "metadata": {},
   "outputs": [],
   "source": [
    "tot = ncol(sce)\n",
    "window = window.pct*tot\n",
    "step = step.pct*tot"
   ]
  },
  {
   "cell_type": "code",
   "execution_count": 7,
   "metadata": {},
   "outputs": [
    {
     "name": "stdout",
     "output_type": "stream",
     "text": [
      "[1] 36044\n",
      "[1] 9011\n",
      "[1] 901.1\n"
     ]
    }
   ],
   "source": [
    "print (tot)\n",
    "print (window)\n",
    "print(step)"
   ]
  },
  {
   "cell_type": "code",
   "execution_count": 8,
   "metadata": {},
   "outputs": [],
   "source": [
    "get_combinations_nodays <- function(sceset){\n",
    "\n",
    "    mysce = sceset\n",
    "    mat = table(mysce$donor_short_id, mysce$experiment) \n",
    "    ord = which(table(mysce$donor_short_id, mysce$experiment) > 0, arr.ind = T)\n",
    "    l = c()\n",
    "    for (i in 1:dim(ord)[1]){\n",
    "        l[i] <- paste0(rownames(mat)[ord[i,1]],\"-\",colnames(mat)[ord[i,2]])\n",
    "    }\n",
    "    l\n",
    "}"
   ]
  },
  {
   "cell_type": "code",
   "execution_count": 9,
   "metadata": {},
   "outputs": [],
   "source": [
    "get_means_byexpt_nodays <- function(sceset, ngenes, l){\n",
    "    n = length(l)\n",
    "    means <- matrix(0,nrow = ngenes, ncol = n)\n",
    "    for (i in 1:n){\n",
    "        don = gsub(\"*-.*\",\"\",l[i])\n",
    "        expt = gsub(\".*-\",\"\",l[i])\n",
    "        sc <- logcounts(sceset)[,sceset$donor_short_id == don & sceset$experiment == expt]\n",
    "        # print(length(sc))\n",
    "        if (length(sc) == nrow(sceset)) {means[,i] <- sc}\n",
    "        else {means[,i] <- rowMeans(sc)}\n",
    "    }\n",
    "    rownames(means) = rownames(sceset)\n",
    "    colnames(means) = l\n",
    "    means\n",
    "}"
   ]
  },
  {
   "cell_type": "code",
   "execution_count": 24,
   "metadata": {},
   "outputs": [],
   "source": [
    "make_sample_mapping_nodays <- function(pheno, sce){\n",
    "    df <- data.frame(donor.expt = colnames(pheno))\n",
    "#     print(head(df))\n",
    "    df$donor = gsub(\"*-.*\",\"\",df$donor.expt)\n",
    "    df$expt = gsub(\".*-\",\"\",df$donor.expt)\n",
    "#     print(head(df))\n",
    "    df1 <- data.frame(donor_long_id = unique(sce$donor_long_id), donor = unique(sce$donor_short_id))\n",
    "#     print(head(df1))\n",
    "    df2 <- left_join(df, df1, by = \"donor\")\n",
    "#     print(head(df2))\n",
    "    # genotype_samples phenotype_samples\n",
    "    samples = df2[,c(4,1)]\n",
    "#     print(head(samples))\n",
    "    colnames(samples) = c()\n",
    "    samples\n",
    "}"
   ]
  },
  {
   "cell_type": "code",
   "execution_count": 25,
   "metadata": {},
   "outputs": [
    {
     "data": {
      "text/html": [
       "<table>\n",
       "<thead><tr><th></th><th scope=col>cells</th><th scope=col>pseudo</th><th scope=col>rank</th></tr></thead>\n",
       "<tbody>\n",
       "\t<tr><th scope=row>25271_7#119</th><td>25271_7#119</td><td>0.000000000</td><td>1          </td></tr>\n",
       "\t<tr><th scope=row>24842_6#234</th><td>24842_6#234</td><td>0.005807972</td><td>2          </td></tr>\n",
       "\t<tr><th scope=row>25271_8#231</th><td>25271_8#231</td><td>0.008059015</td><td>3          </td></tr>\n",
       "\t<tr><th scope=row>25271_7#264</th><td>25271_7#264</td><td>0.010437261</td><td>4          </td></tr>\n",
       "\t<tr><th scope=row>24229_3#255</th><td>24229_3#255</td><td>0.010756032</td><td>5          </td></tr>\n",
       "\t<tr><th scope=row>25271_7#191</th><td>25271_7#191</td><td>0.010763582</td><td>6          </td></tr>\n",
       "</tbody>\n",
       "</table>\n"
      ],
      "text/latex": [
       "\\begin{tabular}{r|lll}\n",
       "  & cells & pseudo & rank\\\\\n",
       "\\hline\n",
       "\t25271\\_7\\#119 & 25271\\_7\\#119 & 0.000000000     & 1              \\\\\n",
       "\t24842\\_6\\#234 & 24842\\_6\\#234 & 0.005807972     & 2              \\\\\n",
       "\t25271\\_8\\#231 & 25271\\_8\\#231 & 0.008059015     & 3              \\\\\n",
       "\t25271\\_7\\#264 & 25271\\_7\\#264 & 0.010437261     & 4              \\\\\n",
       "\t24229\\_3\\#255 & 24229\\_3\\#255 & 0.010756032     & 5              \\\\\n",
       "\t25271\\_7\\#191 & 25271\\_7\\#191 & 0.010763582     & 6              \\\\\n",
       "\\end{tabular}\n"
      ],
      "text/markdown": [
       "\n",
       "| <!--/--> | cells | pseudo | rank | \n",
       "|---|---|---|---|---|---|\n",
       "| 25271_7#119 | 25271_7#119 | 0.000000000 | 1           | \n",
       "| 24842_6#234 | 24842_6#234 | 0.005807972 | 2           | \n",
       "| 25271_8#231 | 25271_8#231 | 0.008059015 | 3           | \n",
       "| 25271_7#264 | 25271_7#264 | 0.010437261 | 4           | \n",
       "| 24229_3#255 | 24229_3#255 | 0.010756032 | 5           | \n",
       "| 25271_7#191 | 25271_7#191 | 0.010763582 | 6           | \n",
       "\n",
       "\n"
      ],
      "text/plain": [
       "            cells       pseudo      rank\n",
       "25271_7#119 25271_7#119 0.000000000 1   \n",
       "24842_6#234 24842_6#234 0.005807972 2   \n",
       "25271_8#231 25271_8#231 0.008059015 3   \n",
       "25271_7#264 25271_7#264 0.010437261 4   \n",
       "24229_3#255 24229_3#255 0.010756032 5   \n",
       "25271_7#191 25271_7#191 0.010763582 6   "
      ]
     },
     "metadata": {},
     "output_type": "display_data"
    }
   ],
   "source": [
    "#### binning by pseudotime\n",
    "df = data.frame(cells = colnames(sce), pseudo = sce$pseudo)\n",
    "df = df[order(df$pseudo),]\n",
    "df$rank = 1:nrow(df)\n",
    "head(df)"
   ]
  },
  {
   "cell_type": "code",
   "execution_count": 26,
   "metadata": {},
   "outputs": [
    {
     "data": {
      "text/html": [
       "1"
      ],
      "text/latex": [
       "1"
      ],
      "text/markdown": [
       "1"
      ],
      "text/plain": [
       "[1] 1"
      ]
     },
     "metadata": {},
     "output_type": "display_data"
    },
    {
     "data": {
      "text/plain": [
       "class: SingleCellExperiment \n",
       "dim: 11231 9011 \n",
       "metadata(4): log.exprs.offset log.exprs.offset log.exprs.offset\n",
       "  log.exprs.offset\n",
       "assays(3): tpm counts logcounts\n",
       "rownames(11231): ENSG00000000003_TSPAN6 ENSG00000000419_DPM1 ...\n",
       "  ENSG00000272325_NUDT3 ENSG00000272398_CD24\n",
       "rowData names(17): exprs_collapsed_to ensembl_transcript_id ...\n",
       "  is_intop2000hvg is_hvg\n",
       "colnames(9011): 25271_7#119 24842_6#234 ... 24086_6#127 24327_5#275\n",
       "colData names(123): adj_x adj_y ... princ_curve princ_curve_scaled01\n",
       "reducedDimNames(1): PCA\n",
       "spikeNames(1): ERCC"
      ]
     },
     "metadata": {},
     "output_type": "display_data"
    }
   ],
   "source": [
    "ii\n",
    "bin_cells = df[df$rank >= round(ii) & df$rank < round(ii+window),\"cells\"]\n",
    "mysce = sce[,bin_cells]\n",
    "mysce"
   ]
  },
  {
   "cell_type": "code",
   "execution_count": 27,
   "metadata": {},
   "outputs": [
    {
     "data": {
      "text/html": [
       "30"
      ],
      "text/latex": [
       "30"
      ],
      "text/markdown": [
       "30"
      ],
      "text/plain": [
       "[1] 30"
      ]
     },
     "metadata": {},
     "output_type": "display_data"
    },
    {
     "data": {
      "text/html": [
       "36044"
      ],
      "text/latex": [
       "36044"
      ],
      "text/markdown": [
       "36044"
      ],
      "text/plain": [
       "[1] 36044"
      ]
     },
     "metadata": {},
     "output_type": "display_data"
    },
    {
     "data": {
      "text/html": [
       "<ol class=list-inline>\n",
       "\t<li>1</li>\n",
       "\t<li>902.1</li>\n",
       "\t<li>1803.2</li>\n",
       "\t<li>2704.3</li>\n",
       "\t<li>3605.4</li>\n",
       "\t<li>4506.5</li>\n",
       "\t<li>5407.6</li>\n",
       "\t<li>6308.7</li>\n",
       "\t<li>7209.8</li>\n",
       "\t<li>8110.9</li>\n",
       "\t<li>9012</li>\n",
       "\t<li>9913.1</li>\n",
       "\t<li>10814.2</li>\n",
       "\t<li>11715.3</li>\n",
       "\t<li>12616.4</li>\n",
       "\t<li>13517.5</li>\n",
       "\t<li>14418.6</li>\n",
       "\t<li>15319.7</li>\n",
       "\t<li>16220.8</li>\n",
       "\t<li>17121.9</li>\n",
       "\t<li>18023</li>\n",
       "\t<li>18924.1</li>\n",
       "\t<li>19825.2</li>\n",
       "\t<li>20726.3</li>\n",
       "\t<li>21627.4</li>\n",
       "\t<li>22528.5</li>\n",
       "\t<li>23429.6</li>\n",
       "\t<li>24330.7</li>\n",
       "\t<li>25231.8</li>\n",
       "\t<li>26132.9</li>\n",
       "</ol>\n"
      ],
      "text/latex": [
       "\\begin{enumerate*}\n",
       "\\item 1\n",
       "\\item 902.1\n",
       "\\item 1803.2\n",
       "\\item 2704.3\n",
       "\\item 3605.4\n",
       "\\item 4506.5\n",
       "\\item 5407.6\n",
       "\\item 6308.7\n",
       "\\item 7209.8\n",
       "\\item 8110.9\n",
       "\\item 9012\n",
       "\\item 9913.1\n",
       "\\item 10814.2\n",
       "\\item 11715.3\n",
       "\\item 12616.4\n",
       "\\item 13517.5\n",
       "\\item 14418.6\n",
       "\\item 15319.7\n",
       "\\item 16220.8\n",
       "\\item 17121.9\n",
       "\\item 18023\n",
       "\\item 18924.1\n",
       "\\item 19825.2\n",
       "\\item 20726.3\n",
       "\\item 21627.4\n",
       "\\item 22528.5\n",
       "\\item 23429.6\n",
       "\\item 24330.7\n",
       "\\item 25231.8\n",
       "\\item 26132.9\n",
       "\\end{enumerate*}\n"
      ],
      "text/markdown": [
       "1. 1\n",
       "2. 902.1\n",
       "3. 1803.2\n",
       "4. 2704.3\n",
       "5. 3605.4\n",
       "6. 4506.5\n",
       "7. 5407.6\n",
       "8. 6308.7\n",
       "9. 7209.8\n",
       "10. 8110.9\n",
       "11. 9012\n",
       "12. 9913.1\n",
       "13. 10814.2\n",
       "14. 11715.3\n",
       "15. 12616.4\n",
       "16. 13517.5\n",
       "17. 14418.6\n",
       "18. 15319.7\n",
       "19. 16220.8\n",
       "20. 17121.9\n",
       "21. 18023\n",
       "22. 18924.1\n",
       "23. 19825.2\n",
       "24. 20726.3\n",
       "25. 21627.4\n",
       "26. 22528.5\n",
       "27. 23429.6\n",
       "28. 24330.7\n",
       "29. 25231.8\n",
       "30. 26132.9\n",
       "\n",
       "\n"
      ],
      "text/plain": [
       " [1]     1.0   902.1  1803.2  2704.3  3605.4  4506.5  5407.6  6308.7  7209.8\n",
       "[10]  8110.9  9012.0  9913.1 10814.2 11715.3 12616.4 13517.5 14418.6 15319.7\n",
       "[19] 16220.8 17121.9 18023.0 18924.1 19825.2 20726.3 21627.4 22528.5 23429.6\n",
       "[28] 24330.7 25231.8 26132.9"
      ]
     },
     "metadata": {},
     "output_type": "display_data"
    },
    {
     "data": {
      "text/html": [
       "27033"
      ],
      "text/latex": [
       "27033"
      ],
      "text/markdown": [
       "27033"
      ],
      "text/plain": [
       "[1] 27033"
      ]
     },
     "metadata": {},
     "output_type": "display_data"
    },
    {
     "name": "stdout",
     "output_type": "stream",
     "text": [
      "[1] 1\n",
      "[1] 902.1\n",
      "[1] 1803.2\n",
      "[1] 2704.3\n",
      "[1] 3605.4\n",
      "[1] 4506.5\n",
      "[1] 5407.6\n",
      "[1] 6308.7\n",
      "[1] 7209.8\n",
      "[1] 8110.9\n",
      "[1] 9012\n",
      "[1] 9913.1\n",
      "[1] 10814.2\n",
      "[1] 11715.3\n",
      "[1] 12616.4\n",
      "[1] 13517.5\n",
      "[1] 14418.6\n",
      "[1] 15319.7\n",
      "[1] 16220.8\n",
      "[1] 17121.9\n",
      "[1] 18023\n",
      "[1] 18924.1\n",
      "[1] 19825.2\n",
      "[1] 20726.3\n",
      "[1] 21627.4\n",
      "[1] 22528.5\n",
      "[1] 23429.6\n",
      "[1] 24330.7\n",
      "[1] 25231.8\n",
      "[1] 26132.9\n"
     ]
    }
   ],
   "source": [
    "length(seq(1, tot-window, by = step))\n",
    "tot\n",
    "seq(1, tot-window, by = step)\n",
    "\n",
    "tot-window\n",
    "\n",
    "j = 0\n",
    "# print (j)\n",
    "# print(head(seq(1, tot-window, by = step)))\n",
    "for (ii in seq(1, tot-window, by = step)){\n",
    "    print(ii)\n",
    "#     if(ii < 234230){next}\n",
    "    bin_cells = df[df$rank >= round(ii) & df$rank < round(ii+window),\"cells\"]\n",
    "    mysce = sce[,bin_cells]\n",
    "#     print(ncol(mysce[,mysce$day == \"day0\"]))\n",
    "    l = get_combinations_nodays(mysce)\n",
    "    m = get_means_byexpt_nodays(mysce, nrow(mysce), l)\n",
    "    mean_pcs = prcomp(t(m))$x[,1:10]\n",
    "    smf = make_sample_mapping_nodays(m, mysce)\n",
    "    j = j + 1\n",
    "    phenotype_filename = paste0(output.dir,\"bin\",j,\".pheno\")\n",
    "    covariate_filename = paste0(output.dir,\"bin\",j,\".covs\")\n",
    "    samplemapping_filename = paste0(output.dir,\"bin\",j,\".samples\")\n",
    "    write.table(m, phenotype_filename, sep = \"\\t\", quote = F, col.names = NA)\n",
    "    write.table(mean_pcs, covariate_filename, sep = \"\\t\", quote = F, col.names = NA)\n",
    "    write.table(smf, samplemapping_filename, sep = \"\\t\", quote = F, row.names = F, col.names = F)\n",
    "}"
   ]
  },
  {
   "cell_type": "code",
   "execution_count": 29,
   "metadata": {},
   "outputs": [],
   "source": [
    "j = 31\n",
    "ii = 26132.9\n",
    "bin_cells = df[df$rank >= round(ii),\"cells\"]\n",
    "mysce = sce[,bin_cells]\n",
    "#     print(ncol(mysce[,mysce$day == \"day0\"]))\n",
    "l = get_combinations_nodays(mysce)\n",
    "m = get_means_byexpt_nodays(mysce, nrow(mysce), l)\n",
    "mean_pcs = prcomp(t(m))$x[,1:10]\n",
    "smf = make_sample_mapping_nodays(m, mysce)\n",
    "\n",
    "phenotype_filename = paste0(output.dir,\"bin\",j,\".pheno\")\n",
    "covariate_filename = paste0(output.dir,\"bin\",j,\".covs\")\n",
    "samplemapping_filename = paste0(output.dir,\"bin\",j,\".samples\")\n",
    "write.table(m, phenotype_filename, sep = \"\\t\", quote = F, col.names = NA)\n",
    "write.table(mean_pcs, covariate_filename, sep = \"\\t\", quote = F, col.names = NA)\n",
    "write.table(smf, samplemapping_filename, sep = \"\\t\", quote = F, row.names = F, col.names = F)"
   ]
  },
  {
   "cell_type": "code",
   "execution_count": null,
   "metadata": {},
   "outputs": [],
   "source": []
  },
  {
   "cell_type": "code",
   "execution_count": 16,
   "metadata": {},
   "outputs": [],
   "source": [
    "get_combinations <- function(sceset){\n",
    "    # day0\n",
    "    mysce = sceset[,sceset$day == \"day0\"]\n",
    "    if (ncol(mysce) == 0){l0 <- c()}\n",
    "    else {\n",
    "        mat = table(mysce$donor_short_id, mysce$experiment) \n",
    "        ord = which(table(mysce$donor_short_id, mysce$experiment) > 0, arr.ind = T)\n",
    "#         print (ord)\n",
    "        l = c()\n",
    "        for (i in 1:dim(ord)[1]){l[i] <- paste0(rownames(mat)[ord[i,1]],\"-\",colnames(mat)[ord[i,2]])}\n",
    "        l0 = paste0(l,\"-day0\")\n",
    "    }\n",
    "    # day1\n",
    "    mysce = sceset[,sceset$day == \"day1\"]\n",
    "    if (ncol(mysce) == 0){l1 <- c()}\n",
    "    else {\n",
    "        mat = table(mysce$donor_short_id, mysce$experiment) \n",
    "        ord = which(table(mysce$donor_short_id, mysce$experiment) > 0, arr.ind = T)\n",
    "#         print (ord)\n",
    "        l = c()\n",
    "        for (i in 1:dim(ord)[1]){l[i] <- paste0(rownames(mat)[ord[i,1]],\"-\",colnames(mat)[ord[i,2]])}\n",
    "        l1 = paste0(l,\"-day1\")\n",
    "    }\n",
    "    # day2\n",
    "    mysce = sceset[,sceset$day == \"day2\"]\n",
    "    if (ncol(mysce) == 0){l2 <- c()}\n",
    "    else {\n",
    "        mat = table(mysce$donor_short_id, mysce$experiment) \n",
    "        ord = which(table(mysce$donor_short_id, mysce$experiment) > 0, arr.ind = T)\n",
    "#         print (ord)\n",
    "        l = c()\n",
    "        for (i in 1:dim(ord)[1]){l[i] <- paste0(rownames(mat)[ord[i,1]],\"-\",colnames(mat)[ord[i,2]])}\n",
    "        l2 = paste0(l,\"-day2\")\n",
    "    }\n",
    "    # day3\n",
    "    mysce = sceset[,sceset$day == \"day3\"]\n",
    "    if (ncol(mysce) == 0){l3 <- c()}\n",
    "    else {\n",
    "        mat = table(mysce$donor_short_id, mysce$experiment) \n",
    "        ord = which(table(mysce$donor_short_id, mysce$experiment) > 0, arr.ind = T)\n",
    "#         print (ord)\n",
    "        l = c()\n",
    "        for (i in 1:dim(ord)[1]){l[i] <- paste0(rownames(mat)[ord[i,1]],\"-\",colnames(mat)[ord[i,2]])}\n",
    "        l3 = paste0(l,\"-day3\")\n",
    "    }\n",
    "    # combine (aggregation by donor, experiment, day)\n",
    "    l = c(l0, l1, l2, l3)\n",
    "    l\n",
    "}"
   ]
  },
  {
   "cell_type": "code",
   "execution_count": 17,
   "metadata": {},
   "outputs": [],
   "source": [
    "get_means_byexpt <- function(sceset, ngenes, l){\n",
    "    n = length(l)\n",
    "    means <- matrix(0,nrow = ngenes, ncol = n)\n",
    "    for (i in 1:n){\n",
    "        don = gsub(\"*-.*\",\"\",l[i])\n",
    "        expt = gsub(\"*-.*\",\"\",gsub(\".*-e\",\"e\",l[i]))\n",
    "        day = gsub(\".*-\",\"\",l[i])\n",
    "        sc <- logcounts(sceset)[,sceset$donor_short_id == don & sceset$experiment == expt & sceset$day == day]\n",
    "        # print(length(sc))\n",
    "        if (length(sc) == nrow(sceset)) {means[,i] <- sc}\n",
    "        else {means[,i] <- rowMeans(sc)}\n",
    "    }\n",
    "    rownames(means) = rownames(sceset)\n",
    "    colnames(means) = l\n",
    "    means\n",
    "}"
   ]
  },
  {
   "cell_type": "code",
   "execution_count": 18,
   "metadata": {},
   "outputs": [],
   "source": [
    "make_sample_mapping <- function(pheno, sce){\n",
    "    df <- data.frame(donor.expt.day = colnames(pheno))\n",
    "#     print(head(df))\n",
    "    df$donor = gsub(\"*-.*\",\"\",df$donor.expt.day)\n",
    "    df$expt = gsub(\"*-.*\",\"\",gsub(\".*-e\",\"e\",df$donor.expt.day))\n",
    "    df$day = gsub(\".*-\",\"\",df$donor.expt.day)\n",
    "#     print(head(df))\n",
    "    df1 <- data.frame(donor_long_id = unique(sce$donor_long_id), donor = unique(sce$donor_short_id))\n",
    "#     print(head(df1))\n",
    "    df2 <- left_join(df, df1, by = \"donor\")\n",
    "#     print(head(df2))\n",
    "    # genotype_samples phenotype_samples\n",
    "    samples = df2[,c(5,1)]\n",
    "#     print(head(samples))\n",
    "    colnames(samples) = c()\n",
    "    samples\n",
    "}"
   ]
  },
  {
   "cell_type": "code",
   "execution_count": null,
   "metadata": {},
   "outputs": [],
   "source": [
    "#### binning by pseudotime\n",
    "df = data.frame(cells = colnames(sce), pseudo = sce$pseudo)\n",
    "df = df[order(df$pseudo),]\n",
    "df$rank = 1:nrow(df)\n",
    "head(df)"
   ]
  },
  {
   "cell_type": "code",
   "execution_count": 73,
   "metadata": {},
   "outputs": [],
   "source": [
    "length(seq(1, tot-window, by = step))\n",
    "tot\n",
    "seq(1, tot-window, by = step)\n",
    "\n",
    "tot-window\n",
    "\n",
    "j = 0\n",
    "# print (j)\n",
    "# print(head(seq(1, tot-window, by = step)))\n",
    "for (ii in seq(1, tot-window, by = step)){\n",
    "    print(ii)\n",
    "#     if(ii < 234230){next}\n",
    "    bin_cells = df[df$rank >= round(ii) & df$rank < round(ii+window),\"cells\"]\n",
    "    mysce = sce[,bin_cells]\n",
    "#     print(ncol(mysce[,mysce$day == \"day0\"]))\n",
    "    l = get_combinations(mysce)\n",
    "    m = get_means_byexpt(mysce, nrow(mysce), l)\n",
    "    mean_pcs = prcomp(t(m))$x[,1:10]\n",
    "    smf = make_sample_mapping(m, mysce)\n",
    "    j = j + 1\n",
    "    phenotype_filename = paste0(output.dir,\"bin\",j,\".pheno\")\n",
    "    covariate_filename = paste0(output.dir,\"bin\",j,\".covs\")\n",
    "    samplemapping_filename = paste0(output.dir,\"bin\",j,\".samples\")\n",
    "    write.table(m, phenotype_filename, sep = \"\\t\", quote = F, col.names = NA)\n",
    "    write.table(mean_pcs, covariate_filename, sep = \"\\t\", quote = F, col.names = NA)\n",
    "    write.table(smf, samplemapping_filename, sep = \"\\t\", quote = F, row.names = F, col.names = F)\n",
    "}"
   ]
  },
  {
   "cell_type": "code",
   "execution_count": 68,
   "metadata": {},
   "outputs": [],
   "source": [
    "j = 31\n",
    "ii = 26132.9\n",
    "bin_cells = df[df$rank >= round(ii),\"cells\"]\n",
    "mysce = sce[,bin_cells]\n",
    "#     print(ncol(mysce[,mysce$day == \"day0\"]))\n",
    "l = get_combinations(mysce)\n",
    "m = get_means_byexpt(mysce, nrow(mysce), l)\n",
    "mean_pcs = prcomp(t(m))$x[,1:10]\n",
    "smf = make_sample_mapping(m, mysce)\n",
    "\n",
    "phenotype_filename = paste0(output.dir,\"bin\",j,\".pheno\")\n",
    "covariate_filename = paste0(output.dir,\"bin\",j,\".covs\")\n",
    "samplemapping_filename = paste0(output.dir,\"bin\",j,\".samples\")\n",
    "write.table(m, phenotype_filename, sep = \"\\t\", quote = F, col.names = NA)\n",
    "write.table(mean_pcs, covariate_filename, sep = \"\\t\", quote = F, col.names = NA)\n",
    "write.table(smf, samplemapping_filename, sep = \"\\t\", quote = F, row.names = F, col.names = F)"
   ]
  },
  {
   "cell_type": "code",
   "execution_count": 72,
   "metadata": {},
   "outputs": [
    {
     "data": {
      "text/html": [
       "<table>\n",
       "<thead><tr><th></th><th scope=col>PC1</th><th scope=col>PC2</th><th scope=col>PC3</th><th scope=col>PC4</th><th scope=col>PC5</th><th scope=col>PC6</th><th scope=col>PC7</th><th scope=col>PC8</th><th scope=col>PC9</th><th scope=col>PC10</th></tr></thead>\n",
       "<tbody>\n",
       "\t<tr><th scope=row>juuy_2-expt_44-day1</th><td>-30.37454  </td><td>17.70143   </td><td>-17.3643640</td><td>28.767290  </td><td>-29.57952  </td><td>12.05118   </td><td>-5.6040005 </td><td>  1.0037126</td><td>-4.4545085 </td><td>14.867224  </td></tr>\n",
       "\t<tr><th scope=row>dixh_2-expt_21-day2</th><td> 36.62395  </td><td>26.98611   </td><td>  0.3278896</td><td>-5.800941  </td><td>-17.44653  </td><td>22.69369   </td><td>-3.7671211 </td><td> -1.5625529</td><td> 2.5842009 </td><td> 2.433113  </td></tr>\n",
       "\t<tr><th scope=row>fawm_2-expt_21-day2</th><td> 41.90682  </td><td>25.00021   </td><td> -1.0284605</td><td>-5.625613  </td><td>-20.36903  </td><td>23.11264   </td><td>-0.4774983 </td><td> -0.7451078</td><td> 7.6574624 </td><td> 4.872406  </td></tr>\n",
       "\t<tr><th scope=row>koqx_1-expt_21-day2</th><td> 42.13907  </td><td>20.74525   </td><td>  1.1785903</td><td>-2.132479  </td><td>-18.28414  </td><td>30.30899   </td><td> 2.7609909 </td><td> -8.2975287</td><td>-0.5786015 </td><td>-1.127607  </td></tr>\n",
       "\t<tr><th scope=row>naju_1-expt_21-day2</th><td> 53.05615  </td><td>22.08777   </td><td>  0.7714651</td><td> 4.667380  </td><td>-12.60444  </td><td>25.58052   </td><td> 3.6432695 </td><td> -2.3548024</td><td>-1.3419568 </td><td>-3.409163  </td></tr>\n",
       "\t<tr><th scope=row>oebj_1-expt_21-day2</th><td> 36.31176  </td><td>20.01570   </td><td>  9.4416417</td><td>-2.039664  </td><td>-14.96616  </td><td>33.84707   </td><td> 4.3934090 </td><td>-10.7571124</td><td> 3.3042272 </td><td>-1.710720  </td></tr>\n",
       "</tbody>\n",
       "</table>\n"
      ],
      "text/latex": [
       "\\begin{tabular}{r|llllllllll}\n",
       "  & PC1 & PC2 & PC3 & PC4 & PC5 & PC6 & PC7 & PC8 & PC9 & PC10\\\\\n",
       "\\hline\n",
       "\tjuuy\\_2-expt\\_44-day1 & -30.37454   & 17.70143    & -17.3643640 & 28.767290   & -29.57952   & 12.05118    & -5.6040005  &   1.0037126 & -4.4545085  & 14.867224  \\\\\n",
       "\tdixh\\_2-expt\\_21-day2 &  36.62395   & 26.98611    &   0.3278896 & -5.800941   & -17.44653   & 22.69369    & -3.7671211  &  -1.5625529 &  2.5842009  &  2.433113  \\\\\n",
       "\tfawm\\_2-expt\\_21-day2 &  41.90682   & 25.00021    &  -1.0284605 & -5.625613   & -20.36903   & 23.11264    & -0.4774983  &  -0.7451078 &  7.6574624  &  4.872406  \\\\\n",
       "\tkoqx\\_1-expt\\_21-day2 &  42.13907   & 20.74525    &   1.1785903 & -2.132479   & -18.28414   & 30.30899    &  2.7609909  &  -8.2975287 & -0.5786015  & -1.127607  \\\\\n",
       "\tnaju\\_1-expt\\_21-day2 &  53.05615   & 22.08777    &   0.7714651 &  4.667380   & -12.60444   & 25.58052    &  3.6432695  &  -2.3548024 & -1.3419568  & -3.409163  \\\\\n",
       "\toebj\\_1-expt\\_21-day2 &  36.31176   & 20.01570    &   9.4416417 & -2.039664   & -14.96616   & 33.84707    &  4.3934090  & -10.7571124 &  3.3042272  & -1.710720  \\\\\n",
       "\\end{tabular}\n"
      ],
      "text/markdown": [
       "\n",
       "| <!--/--> | PC1 | PC2 | PC3 | PC4 | PC5 | PC6 | PC7 | PC8 | PC9 | PC10 | \n",
       "|---|---|---|---|---|---|\n",
       "| juuy_2-expt_44-day1 | -30.37454   | 17.70143    | -17.3643640 | 28.767290   | -29.57952   | 12.05118    | -5.6040005  |   1.0037126 | -4.4545085  | 14.867224   | \n",
       "| dixh_2-expt_21-day2 |  36.62395   | 26.98611    |   0.3278896 | -5.800941   | -17.44653   | 22.69369    | -3.7671211  |  -1.5625529 |  2.5842009  |  2.433113   | \n",
       "| fawm_2-expt_21-day2 |  41.90682   | 25.00021    |  -1.0284605 | -5.625613   | -20.36903   | 23.11264    | -0.4774983  |  -0.7451078 |  7.6574624  |  4.872406   | \n",
       "| koqx_1-expt_21-day2 |  42.13907   | 20.74525    |   1.1785903 | -2.132479   | -18.28414   | 30.30899    |  2.7609909  |  -8.2975287 | -0.5786015  | -1.127607   | \n",
       "| naju_1-expt_21-day2 |  53.05615   | 22.08777    |   0.7714651 |  4.667380   | -12.60444   | 25.58052    |  3.6432695  |  -2.3548024 | -1.3419568  | -3.409163   | \n",
       "| oebj_1-expt_21-day2 |  36.31176   | 20.01570    |   9.4416417 | -2.039664   | -14.96616   | 33.84707    |  4.3934090  | -10.7571124 |  3.3042272  | -1.710720   | \n",
       "\n",
       "\n"
      ],
      "text/plain": [
       "                    PC1       PC2      PC3         PC4       PC5       PC6     \n",
       "juuy_2-expt_44-day1 -30.37454 17.70143 -17.3643640 28.767290 -29.57952 12.05118\n",
       "dixh_2-expt_21-day2  36.62395 26.98611   0.3278896 -5.800941 -17.44653 22.69369\n",
       "fawm_2-expt_21-day2  41.90682 25.00021  -1.0284605 -5.625613 -20.36903 23.11264\n",
       "koqx_1-expt_21-day2  42.13907 20.74525   1.1785903 -2.132479 -18.28414 30.30899\n",
       "naju_1-expt_21-day2  53.05615 22.08777   0.7714651  4.667380 -12.60444 25.58052\n",
       "oebj_1-expt_21-day2  36.31176 20.01570   9.4416417 -2.039664 -14.96616 33.84707\n",
       "                    PC7        PC8         PC9        PC10     \n",
       "juuy_2-expt_44-day1 -5.6040005   1.0037126 -4.4545085 14.867224\n",
       "dixh_2-expt_21-day2 -3.7671211  -1.5625529  2.5842009  2.433113\n",
       "fawm_2-expt_21-day2 -0.4774983  -0.7451078  7.6574624  4.872406\n",
       "koqx_1-expt_21-day2  2.7609909  -8.2975287 -0.5786015 -1.127607\n",
       "naju_1-expt_21-day2  3.6432695  -2.3548024 -1.3419568 -3.409163\n",
       "oebj_1-expt_21-day2  4.3934090 -10.7571124  3.3042272 -1.710720"
      ]
     },
     "metadata": {},
     "output_type": "display_data"
    }
   ],
   "source": [
    "head(mean_pcs)"
   ]
  },
  {
   "cell_type": "code",
   "execution_count": null,
   "metadata": {},
   "outputs": [],
   "source": [
    "##### binning by cell cycle (G1S)"
   ]
  },
  {
   "cell_type": "code",
   "execution_count": 9,
   "metadata": {},
   "outputs": [
    {
     "data": {
      "text/html": [
       "<table>\n",
       "<thead><tr><th></th><th scope=col>PC1</th><th scope=col>PC2</th><th scope=col>PC3</th><th scope=col>PC4</th><th scope=col>PC5</th><th scope=col>PC6</th><th scope=col>PC7</th><th scope=col>PC8</th><th scope=col>PC9</th><th scope=col>PC10</th><th scope=col>⋯</th><th scope=col>X50</th><th scope=col>X51</th><th scope=col>X52</th><th scope=col>X53</th><th scope=col>X54</th><th scope=col>X55</th><th scope=col>X56</th><th scope=col>X57</th><th scope=col>X58</th><th scope=col>X59</th></tr></thead>\n",
       "<tbody>\n",
       "\t<tr><th scope=row>21843_1#10</th><td>-2.96677786</td><td>-5.051700  </td><td>2.557705   </td><td>1.7846318  </td><td>-3.8000932 </td><td>2.7520889  </td><td> 0.04011419</td><td>-0.65210263</td><td>-2.4088645 </td><td>-1.4745952 </td><td>⋯          </td><td>0.9746980  </td><td>1.157624   </td><td>1.0561422  </td><td>0.6647575  </td><td>1.0319868  </td><td>0.9611851  </td><td>1.1291618  </td><td>1.1297945  </td><td>1.105578   </td><td>1.475525   </td></tr>\n",
       "\t<tr><th scope=row>21843_1#100</th><td> 2.99582684</td><td>-9.416975  </td><td>3.945243   </td><td>4.6289860  </td><td>-1.2671332 </td><td>1.6378075  </td><td> 0.24622875</td><td> 2.11823943</td><td>-0.1742999 </td><td>-1.1184431 </td><td>⋯          </td><td>0.8779742  </td><td>1.035389   </td><td>0.7064237  </td><td>0.7908379  </td><td>0.9249539  </td><td>0.9632030  </td><td>0.9793299  </td><td>0.9073227  </td><td>1.006672   </td><td>1.317119   </td></tr>\n",
       "\t<tr><th scope=row>21843_1#101</th><td>-0.08867775</td><td>-6.769028  </td><td>5.613472   </td><td>1.8904508  </td><td>-1.3355565 </td><td>0.6089684  </td><td> 0.80128325</td><td> 0.42480083</td><td> 1.0950508 </td><td> 1.1932872 </td><td>⋯          </td><td>0.9319036  </td><td>1.083866   </td><td>0.8746851  </td><td>0.6844323  </td><td>0.9858303  </td><td>0.9590457  </td><td>1.1212404  </td><td>1.1387067  </td><td>1.041555   </td><td>1.390104   </td></tr>\n",
       "\t<tr><th scope=row>21843_1#102</th><td>-5.00171746</td><td>-4.727163  </td><td>2.400886   </td><td>2.0255520  </td><td>-2.0095244 </td><td>5.2201763  </td><td> 1.46083794</td><td>-1.89020695</td><td>-0.4836101 </td><td> 0.6099583 </td><td>⋯          </td><td>0.9637354  </td><td>1.166783   </td><td>1.0856965  </td><td>0.5970522  </td><td>1.0349560  </td><td>0.8610726  </td><td>1.1574574  </td><td>1.1208192  </td><td>1.088636   </td><td>1.499318   </td></tr>\n",
       "\t<tr><th scope=row>21843_1#103</th><td>-2.08193872</td><td>-6.209893  </td><td>4.675325   </td><td>0.5933318  </td><td>-0.6481828 </td><td>3.4695832  </td><td>-0.36674697</td><td>-0.72786039</td><td>-0.6366988 </td><td> 0.3395057 </td><td>⋯          </td><td>1.0077623  </td><td>1.192433   </td><td>1.0881635  </td><td>0.6984261  </td><td>0.9993791  </td><td>0.9143417  </td><td>1.0999614  </td><td>1.0552629  </td><td>1.053882   </td><td>1.557355   </td></tr>\n",
       "\t<tr><th scope=row>21843_1#105</th><td>-0.71012454</td><td>-6.392112  </td><td>4.809889   </td><td>0.5048616  </td><td>-0.4834257 </td><td>1.2074208  </td><td> 3.08038259</td><td> 0.05347892</td><td>-1.7887607 </td><td>-2.4269346 </td><td>⋯          </td><td>0.9450494  </td><td>1.060659   </td><td>1.0799314  </td><td>0.8152264  </td><td>0.9843815  </td><td>0.9029240  </td><td>1.0742548  </td><td>1.1586082  </td><td>1.167950   </td><td>1.494102   </td></tr>\n",
       "</tbody>\n",
       "</table>\n"
      ],
      "text/latex": [
       "\\begin{tabular}{r|llllllllllllllllllllllllllllllllllllllllllllllllllllllllllllllllllllllllllllllllllllllllllllllllllllllllllllll}\n",
       "  & PC1 & PC2 & PC3 & PC4 & PC5 & PC6 & PC7 & PC8 & PC9 & PC10 & ⋯ & X50 & X51 & X52 & X53 & X54 & X55 & X56 & X57 & X58 & X59\\\\\n",
       "\\hline\n",
       "\t21843\\_1\\#10 & -2.96677786 & -5.051700   & 2.557705    & 1.7846318   & -3.8000932  & 2.7520889   &  0.04011419 & -0.65210263 & -2.4088645  & -1.4745952  & ⋯           & 0.9746980   & 1.157624    & 1.0561422   & 0.6647575   & 1.0319868   & 0.9611851   & 1.1291618   & 1.1297945   & 1.105578    & 1.475525   \\\\\n",
       "\t21843\\_1\\#100 &  2.99582684 & -9.416975   & 3.945243    & 4.6289860   & -1.2671332  & 1.6378075   &  0.24622875 &  2.11823943 & -0.1742999  & -1.1184431  & ⋯           & 0.8779742   & 1.035389    & 0.7064237   & 0.7908379   & 0.9249539   & 0.9632030   & 0.9793299   & 0.9073227   & 1.006672    & 1.317119   \\\\\n",
       "\t21843\\_1\\#101 & -0.08867775 & -6.769028   & 5.613472    & 1.8904508   & -1.3355565  & 0.6089684   &  0.80128325 &  0.42480083 &  1.0950508  &  1.1932872  & ⋯           & 0.9319036   & 1.083866    & 0.8746851   & 0.6844323   & 0.9858303   & 0.9590457   & 1.1212404   & 1.1387067   & 1.041555    & 1.390104   \\\\\n",
       "\t21843\\_1\\#102 & -5.00171746 & -4.727163   & 2.400886    & 2.0255520   & -2.0095244  & 5.2201763   &  1.46083794 & -1.89020695 & -0.4836101  &  0.6099583  & ⋯           & 0.9637354   & 1.166783    & 1.0856965   & 0.5970522   & 1.0349560   & 0.8610726   & 1.1574574   & 1.1208192   & 1.088636    & 1.499318   \\\\\n",
       "\t21843\\_1\\#103 & -2.08193872 & -6.209893   & 4.675325    & 0.5933318   & -0.6481828  & 3.4695832   & -0.36674697 & -0.72786039 & -0.6366988  &  0.3395057  & ⋯           & 1.0077623   & 1.192433    & 1.0881635   & 0.6984261   & 0.9993791   & 0.9143417   & 1.0999614   & 1.0552629   & 1.053882    & 1.557355   \\\\\n",
       "\t21843\\_1\\#105 & -0.71012454 & -6.392112   & 4.809889    & 0.5048616   & -0.4834257  & 1.2074208   &  3.08038259 &  0.05347892 & -1.7887607  & -2.4269346  & ⋯           & 0.9450494   & 1.060659    & 1.0799314   & 0.8152264   & 0.9843815   & 0.9029240   & 1.0742548   & 1.1586082   & 1.167950    & 1.494102   \\\\\n",
       "\\end{tabular}\n"
      ],
      "text/markdown": [
       "\n",
       "| <!--/--> | PC1 | PC2 | PC3 | PC4 | PC5 | PC6 | PC7 | PC8 | PC9 | PC10 | ⋯ | X50 | X51 | X52 | X53 | X54 | X55 | X56 | X57 | X58 | X59 | \n",
       "|---|---|---|---|---|---|\n",
       "| 21843_1#10 | -2.96677786 | -5.051700   | 2.557705    | 1.7846318   | -3.8000932  | 2.7520889   |  0.04011419 | -0.65210263 | -2.4088645  | -1.4745952  | ⋯           | 0.9746980   | 1.157624    | 1.0561422   | 0.6647575   | 1.0319868   | 0.9611851   | 1.1291618   | 1.1297945   | 1.105578    | 1.475525    | \n",
       "| 21843_1#100 |  2.99582684 | -9.416975   | 3.945243    | 4.6289860   | -1.2671332  | 1.6378075   |  0.24622875 |  2.11823943 | -0.1742999  | -1.1184431  | ⋯           | 0.8779742   | 1.035389    | 0.7064237   | 0.7908379   | 0.9249539   | 0.9632030   | 0.9793299   | 0.9073227   | 1.006672    | 1.317119    | \n",
       "| 21843_1#101 | -0.08867775 | -6.769028   | 5.613472    | 1.8904508   | -1.3355565  | 0.6089684   |  0.80128325 |  0.42480083 |  1.0950508  |  1.1932872  | ⋯           | 0.9319036   | 1.083866    | 0.8746851   | 0.6844323   | 0.9858303   | 0.9590457   | 1.1212404   | 1.1387067   | 1.041555    | 1.390104    | \n",
       "| 21843_1#102 | -5.00171746 | -4.727163   | 2.400886    | 2.0255520   | -2.0095244  | 5.2201763   |  1.46083794 | -1.89020695 | -0.4836101  |  0.6099583  | ⋯           | 0.9637354   | 1.166783    | 1.0856965   | 0.5970522   | 1.0349560   | 0.8610726   | 1.1574574   | 1.1208192   | 1.088636    | 1.499318    | \n",
       "| 21843_1#103 | -2.08193872 | -6.209893   | 4.675325    | 0.5933318   | -0.6481828  | 3.4695832   | -0.36674697 | -0.72786039 | -0.6366988  |  0.3395057  | ⋯           | 1.0077623   | 1.192433    | 1.0881635   | 0.6984261   | 0.9993791   | 0.9143417   | 1.0999614   | 1.0552629   | 1.053882    | 1.557355    | \n",
       "| 21843_1#105 | -0.71012454 | -6.392112   | 4.809889    | 0.5048616   | -0.4834257  | 1.2074208   |  3.08038259 |  0.05347892 | -1.7887607  | -2.4269346  | ⋯           | 0.9450494   | 1.060659    | 1.0799314   | 0.8152264   | 0.9843815   | 0.9029240   | 1.0742548   | 1.1586082   | 1.167950    | 1.494102    | \n",
       "\n",
       "\n"
      ],
      "text/plain": [
       "            PC1         PC2       PC3      PC4       PC5        PC6      \n",
       "21843_1#10  -2.96677786 -5.051700 2.557705 1.7846318 -3.8000932 2.7520889\n",
       "21843_1#100  2.99582684 -9.416975 3.945243 4.6289860 -1.2671332 1.6378075\n",
       "21843_1#101 -0.08867775 -6.769028 5.613472 1.8904508 -1.3355565 0.6089684\n",
       "21843_1#102 -5.00171746 -4.727163 2.400886 2.0255520 -2.0095244 5.2201763\n",
       "21843_1#103 -2.08193872 -6.209893 4.675325 0.5933318 -0.6481828 3.4695832\n",
       "21843_1#105 -0.71012454 -6.392112 4.809889 0.5048616 -0.4834257 1.2074208\n",
       "            PC7         PC8         PC9        PC10       ⋯ X50       X51     \n",
       "21843_1#10   0.04011419 -0.65210263 -2.4088645 -1.4745952 ⋯ 0.9746980 1.157624\n",
       "21843_1#100  0.24622875  2.11823943 -0.1742999 -1.1184431 ⋯ 0.8779742 1.035389\n",
       "21843_1#101  0.80128325  0.42480083  1.0950508  1.1932872 ⋯ 0.9319036 1.083866\n",
       "21843_1#102  1.46083794 -1.89020695 -0.4836101  0.6099583 ⋯ 0.9637354 1.166783\n",
       "21843_1#103 -0.36674697 -0.72786039 -0.6366988  0.3395057 ⋯ 1.0077623 1.192433\n",
       "21843_1#105  3.08038259  0.05347892 -1.7887607 -2.4269346 ⋯ 0.9450494 1.060659\n",
       "            X52       X53       X54       X55       X56       X57      \n",
       "21843_1#10  1.0561422 0.6647575 1.0319868 0.9611851 1.1291618 1.1297945\n",
       "21843_1#100 0.7064237 0.7908379 0.9249539 0.9632030 0.9793299 0.9073227\n",
       "21843_1#101 0.8746851 0.6844323 0.9858303 0.9590457 1.1212404 1.1387067\n",
       "21843_1#102 1.0856965 0.5970522 1.0349560 0.8610726 1.1574574 1.1208192\n",
       "21843_1#103 1.0881635 0.6984261 0.9993791 0.9143417 1.0999614 1.0552629\n",
       "21843_1#105 1.0799314 0.8152264 0.9843815 0.9029240 1.0742548 1.1586082\n",
       "            X58      X59     \n",
       "21843_1#10  1.105578 1.475525\n",
       "21843_1#100 1.006672 1.317119\n",
       "21843_1#101 1.041555 1.390104\n",
       "21843_1#102 1.088636 1.499318\n",
       "21843_1#103 1.053882 1.557355\n",
       "21843_1#105 1.167950 1.494102"
      ]
     },
     "metadata": {},
     "output_type": "display_data"
    }
   ],
   "source": [
    "coexpr_clusters_filename = \"/nfs/leia/research/stegle/dseaton/hipsci/singlecell_endodiff/data/sce_merged_afterqc_filt_allexpts.PCA.cluster_means.tsv\"\n",
    "coexpr_clusters <- read.csv(coexpr_clusters_filename, row.names = 1, sep = \"\\t\", header = T)\n",
    "head(coexpr_clusters)"
   ]
  },
  {
   "cell_type": "code",
   "execution_count": 10,
   "metadata": {},
   "outputs": [
    {
     "data": {
      "text/html": [
       "<table>\n",
       "<thead><tr><th></th><th scope=col>cells</th><th scope=col>G1S</th><th scope=col>rank</th></tr></thead>\n",
       "<tbody>\n",
       "\t<tr><th scope=row>2648</th><td>21554_2#306</td><td>0.1190575  </td><td>1          </td></tr>\n",
       "\t<tr><th scope=row>4593</th><td>22606_7#171</td><td>0.1255150  </td><td>2          </td></tr>\n",
       "\t<tr><th scope=row>3581</th><td>22194_6#67 </td><td>0.1366671  </td><td>3          </td></tr>\n",
       "\t<tr><th scope=row>4910</th><td>24327_4#274</td><td>0.1432052  </td><td>4          </td></tr>\n",
       "\t<tr><th scope=row>2531</th><td>21554_1#43 </td><td>0.1457136  </td><td>5          </td></tr>\n",
       "\t<tr><th scope=row>4572</th><td>22606_7#116</td><td>0.1613649  </td><td>6          </td></tr>\n",
       "</tbody>\n",
       "</table>\n"
      ],
      "text/latex": [
       "\\begin{tabular}{r|lll}\n",
       "  & cells & G1S & rank\\\\\n",
       "\\hline\n",
       "\t2648 & 21554\\_2\\#306 & 0.1190575       & 1              \\\\\n",
       "\t4593 & 22606\\_7\\#171 & 0.1255150       & 2              \\\\\n",
       "\t3581 & 22194\\_6\\#67  & 0.1366671       & 3              \\\\\n",
       "\t4910 & 24327\\_4\\#274 & 0.1432052       & 4              \\\\\n",
       "\t2531 & 21554\\_1\\#43  & 0.1457136       & 5              \\\\\n",
       "\t4572 & 22606\\_7\\#116 & 0.1613649       & 6              \\\\\n",
       "\\end{tabular}\n"
      ],
      "text/markdown": [
       "\n",
       "| <!--/--> | cells | G1S | rank | \n",
       "|---|---|---|---|---|---|\n",
       "| 2648 | 21554_2#306 | 0.1190575   | 1           | \n",
       "| 4593 | 22606_7#171 | 0.1255150   | 2           | \n",
       "| 3581 | 22194_6#67  | 0.1366671   | 3           | \n",
       "| 4910 | 24327_4#274 | 0.1432052   | 4           | \n",
       "| 2531 | 21554_1#43  | 0.1457136   | 5           | \n",
       "| 4572 | 22606_7#116 | 0.1613649   | 6           | \n",
       "\n",
       "\n"
      ],
      "text/plain": [
       "     cells       G1S       rank\n",
       "2648 21554_2#306 0.1190575 1   \n",
       "4593 22606_7#171 0.1255150 2   \n",
       "3581 22194_6#67  0.1366671 3   \n",
       "4910 24327_4#274 0.1432052 4   \n",
       "2531 21554_1#43  0.1457136 5   \n",
       "4572 22606_7#116 0.1613649 6   "
      ]
     },
     "metadata": {},
     "output_type": "display_data"
    }
   ],
   "source": [
    "df = data.frame(cells = colnames(sce), G1S = coexpr_clusters$X10)\n",
    "df = df[order(df$G1S),]\n",
    "df$rank = 1:nrow(df)\n",
    "head(df)"
   ]
  },
  {
   "cell_type": "code",
   "execution_count": 11,
   "metadata": {},
   "outputs": [],
   "source": [
    "step.pct = 0.025\n",
    "window.pct = 0.25\n",
    "output.dir = \"/hps/nobackup/hipsci/scratch/singlecell_endodiff/data_processed/scQTLs/binning_analysis/input_files_cellcycle/\"\n",
    "sce.file = \"/hps/nobackup/hipsci/scratch/singlecell_endodiff/data_processed/merged/20180618/sce_merged_afterqc_filt_allexpts.rds\""
   ]
  },
  {
   "cell_type": "code",
   "execution_count": 12,
   "metadata": {},
   "outputs": [],
   "source": [
    "tot = ncol(sce)\n",
    "window = window.pct*tot\n",
    "step = step.pct*tot"
   ]
  },
  {
   "cell_type": "code",
   "execution_count": 13,
   "metadata": {},
   "outputs": [
    {
     "data": {
      "text/html": [
       "30"
      ],
      "text/latex": [
       "30"
      ],
      "text/markdown": [
       "30"
      ],
      "text/plain": [
       "[1] 30"
      ]
     },
     "metadata": {},
     "output_type": "display_data"
    },
    {
     "data": {
      "text/html": [
       "36044"
      ],
      "text/latex": [
       "36044"
      ],
      "text/markdown": [
       "36044"
      ],
      "text/plain": [
       "[1] 36044"
      ]
     },
     "metadata": {},
     "output_type": "display_data"
    },
    {
     "data": {
      "text/html": [
       "<ol class=list-inline>\n",
       "\t<li>1</li>\n",
       "\t<li>902.1</li>\n",
       "\t<li>1803.2</li>\n",
       "\t<li>2704.3</li>\n",
       "\t<li>3605.4</li>\n",
       "\t<li>4506.5</li>\n",
       "\t<li>5407.6</li>\n",
       "\t<li>6308.7</li>\n",
       "\t<li>7209.8</li>\n",
       "\t<li>8110.9</li>\n",
       "\t<li>9012</li>\n",
       "\t<li>9913.1</li>\n",
       "\t<li>10814.2</li>\n",
       "\t<li>11715.3</li>\n",
       "\t<li>12616.4</li>\n",
       "\t<li>13517.5</li>\n",
       "\t<li>14418.6</li>\n",
       "\t<li>15319.7</li>\n",
       "\t<li>16220.8</li>\n",
       "\t<li>17121.9</li>\n",
       "\t<li>18023</li>\n",
       "\t<li>18924.1</li>\n",
       "\t<li>19825.2</li>\n",
       "\t<li>20726.3</li>\n",
       "\t<li>21627.4</li>\n",
       "\t<li>22528.5</li>\n",
       "\t<li>23429.6</li>\n",
       "\t<li>24330.7</li>\n",
       "\t<li>25231.8</li>\n",
       "\t<li>26132.9</li>\n",
       "</ol>\n"
      ],
      "text/latex": [
       "\\begin{enumerate*}\n",
       "\\item 1\n",
       "\\item 902.1\n",
       "\\item 1803.2\n",
       "\\item 2704.3\n",
       "\\item 3605.4\n",
       "\\item 4506.5\n",
       "\\item 5407.6\n",
       "\\item 6308.7\n",
       "\\item 7209.8\n",
       "\\item 8110.9\n",
       "\\item 9012\n",
       "\\item 9913.1\n",
       "\\item 10814.2\n",
       "\\item 11715.3\n",
       "\\item 12616.4\n",
       "\\item 13517.5\n",
       "\\item 14418.6\n",
       "\\item 15319.7\n",
       "\\item 16220.8\n",
       "\\item 17121.9\n",
       "\\item 18023\n",
       "\\item 18924.1\n",
       "\\item 19825.2\n",
       "\\item 20726.3\n",
       "\\item 21627.4\n",
       "\\item 22528.5\n",
       "\\item 23429.6\n",
       "\\item 24330.7\n",
       "\\item 25231.8\n",
       "\\item 26132.9\n",
       "\\end{enumerate*}\n"
      ],
      "text/markdown": [
       "1. 1\n",
       "2. 902.1\n",
       "3. 1803.2\n",
       "4. 2704.3\n",
       "5. 3605.4\n",
       "6. 4506.5\n",
       "7. 5407.6\n",
       "8. 6308.7\n",
       "9. 7209.8\n",
       "10. 8110.9\n",
       "11. 9012\n",
       "12. 9913.1\n",
       "13. 10814.2\n",
       "14. 11715.3\n",
       "15. 12616.4\n",
       "16. 13517.5\n",
       "17. 14418.6\n",
       "18. 15319.7\n",
       "19. 16220.8\n",
       "20. 17121.9\n",
       "21. 18023\n",
       "22. 18924.1\n",
       "23. 19825.2\n",
       "24. 20726.3\n",
       "25. 21627.4\n",
       "26. 22528.5\n",
       "27. 23429.6\n",
       "28. 24330.7\n",
       "29. 25231.8\n",
       "30. 26132.9\n",
       "\n",
       "\n"
      ],
      "text/plain": [
       " [1]     1.0   902.1  1803.2  2704.3  3605.4  4506.5  5407.6  6308.7  7209.8\n",
       "[10]  8110.9  9012.0  9913.1 10814.2 11715.3 12616.4 13517.5 14418.6 15319.7\n",
       "[19] 16220.8 17121.9 18023.0 18924.1 19825.2 20726.3 21627.4 22528.5 23429.6\n",
       "[28] 24330.7 25231.8 26132.9"
      ]
     },
     "metadata": {},
     "output_type": "display_data"
    },
    {
     "data": {
      "text/html": [
       "27033"
      ],
      "text/latex": [
       "27033"
      ],
      "text/markdown": [
       "27033"
      ],
      "text/plain": [
       "[1] 27033"
      ]
     },
     "metadata": {},
     "output_type": "display_data"
    }
   ],
   "source": [
    "length(seq(1, tot-window, by = step))\n",
    "tot\n",
    "seq(1, tot-window, by = step)\n",
    "tot-window"
   ]
  },
  {
   "cell_type": "code",
   "execution_count": 19,
   "metadata": {},
   "outputs": [
    {
     "name": "stdout",
     "output_type": "stream",
     "text": [
      "[1] 1\n",
      "[1] 902.1\n",
      "[1] 1803.2\n",
      "[1] 2704.3\n",
      "[1] 3605.4\n",
      "[1] 4506.5\n",
      "[1] 5407.6\n",
      "[1] 6308.7\n",
      "[1] 7209.8\n",
      "[1] 8110.9\n",
      "[1] 9012\n",
      "[1] 9913.1\n",
      "[1] 10814.2\n",
      "[1] 11715.3\n",
      "[1] 12616.4\n",
      "[1] 13517.5\n",
      "[1] 14418.6\n",
      "[1] 15319.7\n",
      "[1] 16220.8\n",
      "[1] 17121.9\n",
      "[1] 18023\n",
      "[1] 18924.1\n",
      "[1] 19825.2\n",
      "[1] 20726.3\n",
      "[1] 21627.4\n",
      "[1] 22528.5\n",
      "[1] 23429.6\n",
      "[1] 24330.7\n",
      "[1] 25231.8\n",
      "[1] 26132.9\n"
     ]
    }
   ],
   "source": [
    "j = 0\n",
    "# print (j)\n",
    "# print(head(seq(1, tot-window, by = step)))\n",
    "for (ii in seq(1, tot-window, by = step)){\n",
    "    print(ii)\n",
    "#     if(ii < 234230){next}\n",
    "    bin_cells = df[df$rank >= round(ii) & df$rank < round(ii+window),\"cells\"]\n",
    "    mysce = sce[,bin_cells]\n",
    "#     print(ncol(mysce[,mysce$day == \"day0\"]))\n",
    "    l = get_combinations(mysce)\n",
    "    m = get_means_byexpt(mysce, nrow(mysce), l)\n",
    "    mean_pcs = prcomp(t(m))$x[,1:10]\n",
    "    smf = make_sample_mapping(m, mysce)\n",
    "    j = j + 1\n",
    "    phenotype_filename = paste0(output.dir,\"bin\",j,\".pheno\")\n",
    "    covariate_filename = paste0(output.dir,\"bin\",j,\".covs\")\n",
    "    samplemapping_filename = paste0(output.dir,\"bin\",j,\".samples\")\n",
    "    write.table(m, phenotype_filename, sep = \"\\t\", quote = F, col.names = NA)\n",
    "    write.table(mean_pcs, covariate_filename, sep = \"\\t\", quote = F, col.names = NA)\n",
    "    write.table(smf, samplemapping_filename, sep = \"\\t\", quote = F, row.names = F, col.names = F)\n",
    "}"
   ]
  },
  {
   "cell_type": "code",
   "execution_count": 20,
   "metadata": {},
   "outputs": [],
   "source": [
    "j = 31\n",
    "ii = 26132.9\n",
    "bin_cells = df[df$rank >= round(ii),\"cells\"]\n",
    "mysce = sce[,bin_cells]\n",
    "#     print(ncol(mysce[,mysce$day == \"day0\"]))\n",
    "l = get_combinations(mysce)\n",
    "m = get_means_byexpt(mysce, nrow(mysce), l)\n",
    "mean_pcs = prcomp(t(m))$x[,1:10]\n",
    "smf = make_sample_mapping(m, mysce)\n",
    "\n",
    "phenotype_filename = paste0(output.dir,\"bin\",j,\".pheno\")\n",
    "covariate_filename = paste0(output.dir,\"bin\",j,\".covs\")\n",
    "samplemapping_filename = paste0(output.dir,\"bin\",j,\".samples\")\n",
    "write.table(m, phenotype_filename, sep = \"\\t\", quote = F, col.names = NA)\n",
    "write.table(mean_pcs, covariate_filename, sep = \"\\t\", quote = F, col.names = NA)\n",
    "write.table(smf, samplemapping_filename, sep = \"\\t\", quote = F, row.names = F, col.names = F)"
   ]
  },
  {
   "cell_type": "code",
   "execution_count": null,
   "metadata": {},
   "outputs": [],
   "source": [
    "## respiration"
   ]
  },
  {
   "cell_type": "code",
   "execution_count": 27,
   "metadata": {},
   "outputs": [],
   "source": [
    "step.pct = 0.025\n",
    "window.pct = 0.25\n",
    "output.dir = \"/hps/nobackup/hipsci/scratch/singlecell_endodiff/data_processed/scQTLs/binning_analysis/input_files_respiration/\"\n",
    "sce.file = \"/hps/nobackup/hipsci/scratch/singlecell_endodiff/data_processed/merged/20180618/sce_merged_afterqc_filt_allexpts.rds\""
   ]
  },
  {
   "cell_type": "code",
   "execution_count": 31,
   "metadata": {},
   "outputs": [
    {
     "data": {
      "text/html": [
       "<table>\n",
       "<thead><tr><th></th><th scope=col>cells</th><th scope=col>Respiration</th><th scope=col>rank</th></tr></thead>\n",
       "<tbody>\n",
       "\t<tr><th scope=row>2192</th><td>21554_6#44 </td><td>0.1522569  </td><td>1          </td></tr>\n",
       "\t<tr><th scope=row>2009</th><td>21554_5#62 </td><td>0.1851594  </td><td>2          </td></tr>\n",
       "\t<tr><th scope=row>2007</th><td>21554_5#5  </td><td>0.1925315  </td><td>3          </td></tr>\n",
       "\t<tr><th scope=row>2719</th><td>21554_3#116</td><td>0.2236311  </td><td>4          </td></tr>\n",
       "\t<tr><th scope=row>2010</th><td>21554_5#69 </td><td>0.2386049  </td><td>5          </td></tr>\n",
       "\t<tr><th scope=row>1879</th><td>21554_5#139</td><td>0.2388660  </td><td>6          </td></tr>\n",
       "</tbody>\n",
       "</table>\n"
      ],
      "text/latex": [
       "\\begin{tabular}{r|lll}\n",
       "  & cells & Respiration & rank\\\\\n",
       "\\hline\n",
       "\t2192 & 21554\\_6\\#44  & 0.1522569       & 1              \\\\\n",
       "\t2009 & 21554\\_5\\#62  & 0.1851594       & 2              \\\\\n",
       "\t2007 & 21554\\_5\\#5   & 0.1925315       & 3              \\\\\n",
       "\t2719 & 21554\\_3\\#116 & 0.2236311       & 4              \\\\\n",
       "\t2010 & 21554\\_5\\#69  & 0.2386049       & 5              \\\\\n",
       "\t1879 & 21554\\_5\\#139 & 0.2388660       & 6              \\\\\n",
       "\\end{tabular}\n"
      ],
      "text/markdown": [
       "\n",
       "| <!--/--> | cells | Respiration | rank | \n",
       "|---|---|---|---|---|---|\n",
       "| 2192 | 21554_6#44  | 0.1522569   | 1           | \n",
       "| 2009 | 21554_5#62  | 0.1851594   | 2           | \n",
       "| 2007 | 21554_5#5   | 0.1925315   | 3           | \n",
       "| 2719 | 21554_3#116 | 0.2236311   | 4           | \n",
       "| 2010 | 21554_5#69  | 0.2386049   | 5           | \n",
       "| 1879 | 21554_5#139 | 0.2388660   | 6           | \n",
       "\n",
       "\n"
      ],
      "text/plain": [
       "     cells       Respiration rank\n",
       "2192 21554_6#44  0.1522569   1   \n",
       "2009 21554_5#62  0.1851594   2   \n",
       "2007 21554_5#5   0.1925315   3   \n",
       "2719 21554_3#116 0.2236311   4   \n",
       "2010 21554_5#69  0.2386049   5   \n",
       "1879 21554_5#139 0.2388660   6   "
      ]
     },
     "metadata": {},
     "output_type": "display_data"
    }
   ],
   "source": [
    "df = data.frame(cells = colnames(sce), Respiration = coexpr_clusters$X0)\n",
    "df = df[order(df$Respiration),]\n",
    "df$rank = 1:nrow(df)\n",
    "head(df)"
   ]
  },
  {
   "cell_type": "code",
   "execution_count": null,
   "metadata": {},
   "outputs": [],
   "source": [
    "j = 0\n",
    "# print (j)\n",
    "# print(head(seq(1, tot-window, by = step)))\n",
    "for (ii in seq(1, tot-window, by = step)){\n",
    "    print(ii)\n",
    "#     if(ii < 234230){next}\n",
    "    bin_cells = df[df$rank >= round(ii) & df$rank < round(ii+window),\"cells\"]\n",
    "    mysce = sce[,bin_cells]\n",
    "#     print(ncol(mysce[,mysce$day == \"day0\"]))\n",
    "    l = get_combinations(mysce)\n",
    "    m = get_means_byexpt(mysce, nrow(mysce), l)\n",
    "    mean_pcs = prcomp(t(m))$x[,1:10]\n",
    "    smf = make_sample_mapping(m, mysce)\n",
    "    j = j + 1\n",
    "    phenotype_filename = paste0(output.dir,\"bin\",j,\".pheno\")\n",
    "    covariate_filename = paste0(output.dir,\"bin\",j,\".covs\")\n",
    "    samplemapping_filename = paste0(output.dir,\"bin\",j,\".samples\")\n",
    "    write.table(m, phenotype_filename, sep = \"\\t\", quote = F, col.names = NA)\n",
    "    write.table(mean_pcs, covariate_filename, sep = \"\\t\", quote = F, col.names = NA)\n",
    "    write.table(smf, samplemapping_filename, sep = \"\\t\", quote = F, row.names = F, col.names = F)\n",
    "}"
   ]
  },
  {
   "cell_type": "code",
   "execution_count": null,
   "metadata": {},
   "outputs": [],
   "source": [
    "j = 31\n",
    "ii = 26132.9\n",
    "bin_cells = df[df$rank >= round(ii),\"cells\"]\n",
    "mysce = sce[,bin_cells]\n",
    "#     print(ncol(mysce[,mysce$day == \"day0\"]))\n",
    "l = get_combinations(mysce)\n",
    "m = get_means_byexpt(mysce, nrow(mysce), l)\n",
    "mean_pcs = prcomp(t(m))$x[,1:10]\n",
    "smf = make_sample_mapping(m, mysce)\n",
    "\n",
    "phenotype_filename = paste0(output.dir,\"bin\",j,\".pheno\")\n",
    "covariate_filename = paste0(output.dir,\"bin\",j,\".covs\")\n",
    "samplemapping_filename = paste0(output.dir,\"bin\",j,\".samples\")\n",
    "write.table(m, phenotype_filename, sep = \"\\t\", quote = F, col.names = NA)\n",
    "write.table(mean_pcs, covariate_filename, sep = \"\\t\", quote = F, col.names = NA)\n",
    "write.table(smf, samplemapping_filename, sep = \"\\t\", quote = F, row.names = F, col.names = F)"
   ]
  },
  {
   "cell_type": "code",
   "execution_count": null,
   "metadata": {},
   "outputs": [],
   "source": []
  }
 ],
 "metadata": {
  "kernelspec": {
   "display_name": "R",
   "language": "R",
   "name": "ir"
  },
  "language_info": {
   "codemirror_mode": "r",
   "file_extension": ".r",
   "mimetype": "text/x-r-source",
   "name": "R",
   "pygments_lexer": "r",
   "version": "3.5.1"
  }
 },
 "nbformat": 4,
 "nbformat_minor": 2
}
