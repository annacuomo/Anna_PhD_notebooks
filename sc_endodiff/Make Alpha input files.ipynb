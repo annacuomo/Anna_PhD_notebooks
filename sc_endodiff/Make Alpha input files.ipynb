{
 "cells": [
  {
   "cell_type": "code",
   "execution_count": 2,
   "metadata": {},
   "outputs": [],
   "source": [
    "## load useful libraries\n",
    "suppressWarnings(suppressPackageStartupMessages(library(rhdf5)))\n",
    "suppressWarnings(suppressPackageStartupMessages(library(qvalue)))\n",
    "suppressWarnings(suppressPackageStartupMessages(library(dplyr)))\n",
    "suppressWarnings(suppressPackageStartupMessages(library(cowplot)))\n",
    "suppressWarnings(suppressPackageStartupMessages(library(tidyverse)))\n",
    "suppressWarnings(suppressPackageStartupMessages(library(ggbeeswarm)))\n",
    "suppressWarnings(suppressPackageStartupMessages(library(ggthemes)))\n",
    "suppressWarnings(suppressPackageStartupMessages(library(scater)))\n",
    "suppressWarnings(suppressPackageStartupMessages(library(SingleCellExperiment)))\n",
    "suppressWarnings(suppressPackageStartupMessages(library(edgeR)))\n",
    "suppressWarnings(suppressPackageStartupMessages(library(limma)))\n",
    "suppressWarnings(suppressPackageStartupMessages(library(ggplot2)))\n",
    "suppressWarnings(suppressPackageStartupMessages(library(ISLR)))\n",
    "suppressWarnings(suppressPackageStartupMessages(library(GGally)))\n",
    "suppressWarnings(suppressPackageStartupMessages(library(scran)))\n",
    "suppressWarnings(suppressPackageStartupMessages(library(ComplexHeatmap)))\n",
    "suppressWarnings(suppressPackageStartupMessages(library(circlize)))\n",
    "suppressWarnings(suppressPackageStartupMessages(library(colorspace)))"
   ]
  },
  {
   "cell_type": "code",
   "execution_count": 3,
   "metadata": {},
   "outputs": [],
   "source": [
    "sce = readRDS(\"/hps/nobackup/hipsci/scratch/singlecell_endodiff/data_processed/merged/20180618/sce_merged_afterqc_filt_allexpts.rds\")"
   ]
  },
  {
   "cell_type": "code",
   "execution_count": 5,
   "metadata": {},
   "outputs": [
    {
     "data": {
      "text/plain": [
       "class: SingleCellExperiment \n",
       "dim: 11231 36044 \n",
       "metadata(4): log.exprs.offset log.exprs.offset log.exprs.offset\n",
       "  log.exprs.offset\n",
       "assays(3): tpm counts logcounts\n",
       "rownames(11231): ENSG00000000003_TSPAN6 ENSG00000000419_DPM1 ...\n",
       "  ENSG00000272325_NUDT3 ENSG00000272398_CD24\n",
       "rowData names(17): exprs_collapsed_to ensembl_transcript_id ...\n",
       "  is_intop2000hvg is_hvg\n",
       "colnames(36044): 21843_1#10 21843_1#100 ... 24539_8#97 24539_8#98\n",
       "colData names(123): adj_x adj_y ... princ_curve princ_curve_scaled01\n",
       "reducedDimNames(1): PCA\n",
       "spikeNames(1): ERCC"
      ]
     },
     "metadata": {},
     "output_type": "display_data"
    }
   ],
   "source": [
    "sce"
   ]
  },
  {
   "cell_type": "code",
   "execution_count": 3,
   "metadata": {},
   "outputs": [
    {
     "name": "stderr",
     "output_type": "stream",
     "text": [
      "Warning message in .local(object, ...):\n",
      "“spike-in transcripts in 'ERCC' should have their own size factors”"
     ]
    }
   ],
   "source": [
    "## HVGs (highly variable genes)\n",
    "library(scran)\n",
    "sce = normalize(sce)\n",
    "design = model.matrix(~ experiment, data = colData(sce))\n",
    "alt.fit = trendVar(sce, design = design, use.spikes = FALSE)\n",
    "alt.decomp = decomposeVar(sce, alt.fit)"
   ]
  },
  {
   "cell_type": "code",
   "execution_count": 4,
   "metadata": {},
   "outputs": [],
   "source": [
    "top.500hvgs = rownames(alt.decomp[order(alt.decomp$bio, decreasing = TRUE),])[1:500]\n",
    "rowData(sce)$is_intop500hvg <- (rownames(sce) %in% top.500hvgs)\n",
    "pca.500hvgs = prcomp(t(logcounts(sce[rowData(sce)$is_intop500hvg,])))$x"
   ]
  },
  {
   "cell_type": "code",
   "execution_count": 5,
   "metadata": {},
   "outputs": [],
   "source": [
    "sce$PC1_top500hvgs = pca.500hvgs[,1]"
   ]
  },
  {
   "cell_type": "code",
   "execution_count": 6,
   "metadata": {},
   "outputs": [
    {
     "data": {
      "text/html": [
       "<table>\n",
       "<thead><tr><th></th><th scope=col>pseudotime</th><th scope=col>day</th></tr></thead>\n",
       "<tbody>\n",
       "\t<tr><th scope=row>21843_1#10</th><td>-11.7695261</td><td>day1       </td></tr>\n",
       "\t<tr><th scope=row>21843_1#100</th><td>  5.1315308</td><td>day1       </td></tr>\n",
       "\t<tr><th scope=row>21843_1#101</th><td> -0.6430211</td><td>day1       </td></tr>\n",
       "\t<tr><th scope=row>21843_1#102</th><td>-14.5080208</td><td>day1       </td></tr>\n",
       "\t<tr><th scope=row>21843_1#103</th><td> -5.8029849</td><td>day1       </td></tr>\n",
       "\t<tr><th scope=row>21843_1#105</th><td> -2.3442226</td><td>day1       </td></tr>\n",
       "</tbody>\n",
       "</table>\n"
      ],
      "text/latex": [
       "\\begin{tabular}{r|ll}\n",
       "  & pseudotime & day\\\\\n",
       "\\hline\n",
       "\t21843\\_1\\#10 & -11.7695261 & day1       \\\\\n",
       "\t21843\\_1\\#100 &   5.1315308 & day1       \\\\\n",
       "\t21843\\_1\\#101 &  -0.6430211 & day1       \\\\\n",
       "\t21843\\_1\\#102 & -14.5080208 & day1       \\\\\n",
       "\t21843\\_1\\#103 &  -5.8029849 & day1       \\\\\n",
       "\t21843\\_1\\#105 &  -2.3442226 & day1       \\\\\n",
       "\\end{tabular}\n"
      ],
      "text/markdown": [
       "\n",
       "| <!--/--> | pseudotime | day | \n",
       "|---|---|---|---|---|---|\n",
       "| 21843_1#10 | -11.7695261 | day1        | \n",
       "| 21843_1#100 |   5.1315308 | day1        | \n",
       "| 21843_1#101 |  -0.6430211 | day1        | \n",
       "| 21843_1#102 | -14.5080208 | day1        | \n",
       "| 21843_1#103 |  -5.8029849 | day1        | \n",
       "| 21843_1#105 |  -2.3442226 | day1        | \n",
       "\n",
       "\n"
      ],
      "text/plain": [
       "            pseudotime  day \n",
       "21843_1#10  -11.7695261 day1\n",
       "21843_1#100   5.1315308 day1\n",
       "21843_1#101  -0.6430211 day1\n",
       "21843_1#102 -14.5080208 day1\n",
       "21843_1#103  -5.8029849 day1\n",
       "21843_1#105  -2.3442226 day1"
      ]
     },
     "metadata": {},
     "output_type": "display_data"
    }
   ],
   "source": [
    "# scale pseudotime (PC1, top 500hvgs) between 0 and 1\n",
    "s = sce$PC1_top500hvgs\n",
    "p1 = data.frame(pseudotime = s, day = sce$day)\n",
    "head(p1)"
   ]
  },
  {
   "cell_type": "code",
   "execution_count": 7,
   "metadata": {},
   "outputs": [],
   "source": [
    "# some cells will not be assigned to any stage\n",
    "sce$stage = \"not assigned\""
   ]
  },
  {
   "cell_type": "code",
   "execution_count": 8,
   "metadata": {},
   "outputs": [],
   "source": [
    "# just assign all day0 cells to ips\n",
    "sce[,sce$day == \"day0\"]$stage = \"ips\"\n",
    "# still based on not scale PC1, since those are the criteria used for eQTLs\n",
    "sce[,sce$PC1_top500hvgs  > -23 & sce$PC1_top500hvgs < 4 & sce$day %in% c(\"day1\",\"day2\")]$stage = \"mesendo\"\n",
    "sce[,sce$PC1_top500hvgs  > 22 & sce$day %in% c(\"day2\",\"day3\")]$stage = \"defendo\""
   ]
  },
  {
   "cell_type": "code",
   "execution_count": 9,
   "metadata": {},
   "outputs": [],
   "source": [
    "sce_ips = sce[,sce$stage == \"ips\"]\n",
    "sce_mesendo = sce[,sce$stage == \"mesendo\"]\n",
    "sce_defendo = sce[,sce$stage == \"defendo\"]"
   ]
  },
  {
   "cell_type": "code",
   "execution_count": 10,
   "metadata": {},
   "outputs": [],
   "source": [
    "mysce = sce_ips\n",
    "mat = table(mysce$donor_short_id, mysce$experiment) \n",
    "ord = which(table(mysce$donor_short_id, mysce$experiment) > 0, arr.ind = T)\n",
    "l = c()\n",
    "for (i in 1:dim(ord)[1]){\n",
    "    l[i] <- paste0(rownames(mat)[ord[i,1]],\"-\",colnames(mat)[ord[i,2]])\n",
    "    }\n",
    "l.ips = paste0(l,\"-day0\")"
   ]
  },
  {
   "cell_type": "code",
   "execution_count": 11,
   "metadata": {},
   "outputs": [
    {
     "data": {
      "text/html": [
       "136"
      ],
      "text/latex": [
       "136"
      ],
      "text/markdown": [
       "136"
      ],
      "text/plain": [
       "[1] 136"
      ]
     },
     "metadata": {},
     "output_type": "display_data"
    }
   ],
   "source": [
    "length(l.ips)"
   ]
  },
  {
   "cell_type": "code",
   "execution_count": 12,
   "metadata": {},
   "outputs": [],
   "source": [
    "sceset = sce_mesendo\n",
    "mysce = sceset[,sceset$day == \"day1\"]\n",
    "mat = table(mysce$donor_short_id, mysce$experiment) \n",
    "ord = which(table(mysce$donor_short_id, mysce$experiment) > 0, arr.ind = T)\n",
    "l = c()\n",
    "for (i in 1:dim(ord)[1]){\n",
    "    l[i] <- paste0(rownames(mat)[ord[i,1]],\"-\",colnames(mat)[ord[i,2]])\n",
    "    }\n",
    "l1 = paste0(l,\"-day1\")\n",
    "mysce = sceset[,sceset$day == \"day2\"]\n",
    "mat = table(mysce$donor_short_id, mysce$experiment) \n",
    "ord = which(table(mysce$donor_short_id, mysce$experiment) > 0, arr.ind = T)\n",
    "l = c()\n",
    "for (i in 1:dim(ord)[1]){\n",
    "    l[i] <- paste0(rownames(mat)[ord[i,1]],\"-\",colnames(mat)[ord[i,2]])\n",
    "    }\n",
    "l2 = paste0(l,\"-day2\")\n",
    "l.mesendo <- c(l1,l2)"
   ]
  },
  {
   "cell_type": "code",
   "execution_count": 13,
   "metadata": {},
   "outputs": [
    {
     "data": {
      "text/html": [
       "224"
      ],
      "text/latex": [
       "224"
      ],
      "text/markdown": [
       "224"
      ],
      "text/plain": [
       "[1] 224"
      ]
     },
     "metadata": {},
     "output_type": "display_data"
    }
   ],
   "source": [
    "length(l.mesendo)"
   ]
  },
  {
   "cell_type": "code",
   "execution_count": 14,
   "metadata": {},
   "outputs": [],
   "source": [
    "sceset = sce_defendo\n",
    "mysce = sceset[,sceset$day == \"day2\"]\n",
    "mat = table(mysce$donor_short_id, mysce$experiment) \n",
    "ord = which(table(mysce$donor_short_id, mysce$experiment) > 0, arr.ind = T)\n",
    "l = c()\n",
    "for (i in 1:dim(ord)[1]){\n",
    "    l[i] <- paste0(rownames(mat)[ord[i,1]],\"-\",colnames(mat)[ord[i,2]])\n",
    "    }\n",
    "l2 = paste0(l,\"-day2\")\n",
    "mysce = sceset[,sceset$day == \"day3\"]\n",
    "mat = table(mysce$donor_short_id, mysce$experiment) \n",
    "ord = which(table(mysce$donor_short_id, mysce$experiment) > 0, arr.ind = T)\n",
    "l = c()\n",
    "for (i in 1:dim(ord)[1]){\n",
    "    l[i] <- paste0(rownames(mat)[ord[i,1]],\"-\",colnames(mat)[ord[i,2]])\n",
    "    }\n",
    "l3 = paste0(l,\"-day3\")\n",
    "l.defendo <- c(l2,l3)"
   ]
  },
  {
   "cell_type": "code",
   "execution_count": 15,
   "metadata": {},
   "outputs": [
    {
     "data": {
      "text/html": [
       "238"
      ],
      "text/latex": [
       "238"
      ],
      "text/markdown": [
       "238"
      ],
      "text/plain": [
       "[1] 238"
      ]
     },
     "metadata": {},
     "output_type": "display_data"
    }
   ],
   "source": [
    "length(l.defendo)"
   ]
  },
  {
   "cell_type": "code",
   "execution_count": 6,
   "metadata": {},
   "outputs": [],
   "source": [
    "get_alphas_byexpt <- function(sceset, ngenes, l){\n",
    "    n = length(l)\n",
    "    alphas <- matrix(0,nrow = ngenes, ncol = n)\n",
    "    for (i in 1:n){\n",
    "        don = gsub(\"*-.*\",\"\",l[i])\n",
    "        expt = gsub(\"*-.*\",\"\",gsub(\".*-e\",\"e\",l[i]))\n",
    "        day = gsub(\".*-\",\"\",l[i])\n",
    "        sc <- logcounts(sceset)[,sceset$donor_short_id == don & sceset$experiment == expt & sceset$day == day]\n",
    "        c = 2 ** sc - 1\n",
    "        if (length(c) == nrow(sceset)) {\n",
    "            m <- c\n",
    "            v <- c\n",
    "        }\n",
    "        else {\n",
    "            m <- rowMeans(c)\n",
    "            v <- apply(c,1,var)\n",
    "        }\n",
    "        y.loess <- loess(log2(v+1) ~ log2(m+1), span = 0.75, data.frame(x = log2(m+1), y = log2(v+1)))\n",
    "        y.predict <- predict(y.loess, data.frame(x = log2(m+1)))\n",
    "        alphas[,i] = log2(v+1) - y.predict\n",
    "    }\n",
    "    rownames(alphas) = rownames(sceset)\n",
    "    colnames(alphas) = l\n",
    "    alphas\n",
    "}"
   ]
  },
  {
   "cell_type": "code",
   "execution_count": null,
   "metadata": {},
   "outputs": [],
   "source": [
    "#### phenotype files"
   ]
  },
  {
   "cell_type": "code",
   "execution_count": 15,
   "metadata": {},
   "outputs": [],
   "source": [
    "alphas_ips = get_alphas_byexpt(sce_ips, nrow(sce_ips), l.ips)"
   ]
  },
  {
   "cell_type": "code",
   "execution_count": 16,
   "metadata": {},
   "outputs": [
    {
     "data": {
      "text/html": [
       "<table>\n",
       "<thead><tr><th></th><th scope=col>heth_1-expt_12-day0</th><th scope=col>jogf_2-expt_12-day0</th><th scope=col>pelm_3-expt_12-day0</th><th scope=col>vass_1-expt_12-day0</th><th scope=col>wibj_2-expt_12-day0</th><th scope=col>zapk_3-expt_12-day0</th><th scope=col>oaqd_3-expt_18-day0</th><th scope=col>paab_4-expt_18-day0</th><th scope=col>sita_1-expt_18-day0</th><th scope=col>toss_3-expt_18-day0</th><th scope=col>⋯</th><th scope=col>pipw_5-expt_44-day0</th><th scope=col>qehq_3-expt_44-day0</th><th scope=col>toco_5-expt_44-day0</th><th scope=col>uilk_3-expt_44-day0</th><th scope=col>ciwj_2-expt_45-day0</th><th scope=col>hajc_1-expt_45-day0</th><th scope=col>hecn_3-expt_45-day0</th><th scope=col>kuco_1-expt_45-day0</th><th scope=col>liqa_1-expt_45-day0</th><th scope=col>tert_1-expt_45-day0</th></tr></thead>\n",
       "<tbody>\n",
       "\t<tr><th scope=row>ENSG00000000003_TSPAN6</th><td>-0.3442969  </td><td>-0.2561692  </td><td>-0.9548249  </td><td>-1.34176662 </td><td> 0.25255180 </td><td>-1.0164727  </td><td>-0.10464142 </td><td>-0.58032824 </td><td> 0.11891761 </td><td>-0.76777287 </td><td>⋯           </td><td>-1.243250458</td><td>-0.4655523  </td><td>-0.78188955 </td><td>-0.2679966  </td><td>-0.7180335  </td><td>-0.5296899  </td><td>-0.90405456 </td><td>-0.87438009 </td><td>-0.149317667</td><td>-0.7779745  </td></tr>\n",
       "\t<tr><th scope=row>ENSG00000000419_DPM1</th><td>-1.0514935  </td><td>-0.2041174  </td><td>-0.3276868  </td><td>-0.22923586 </td><td> 0.18026564 </td><td>-0.7068602  </td><td> 0.04927355 </td><td> 0.15825603 </td><td> 0.02826850 </td><td>-0.95107324 </td><td>⋯           </td><td>-0.381577345</td><td>-0.4724743  </td><td>-0.97828097 </td><td>-0.2553280  </td><td>-0.3323666  </td><td>-0.2908796  </td><td>-0.36691404 </td><td>-0.42940012 </td><td>-0.397520347</td><td>-0.6672841  </td></tr>\n",
       "\t<tr><th scope=row>ENSG00000000457_SCYL3</th><td>-0.4788146  </td><td>-0.7450249  </td><td>-0.4537243  </td><td>-0.27583950 </td><td>-0.05931901 </td><td>-0.2502215  </td><td>-0.04891225 </td><td> 0.89742076 </td><td>-0.12963603 </td><td> 0.09044089 </td><td>⋯           </td><td>-0.699585975</td><td>-0.4153946  </td><td>-0.32406570 </td><td>-0.3377796  </td><td>-0.4829387  </td><td>-0.4466199  </td><td>-0.53362068 </td><td>-0.24613035 </td><td> 0.059721763</td><td>-0.5994797  </td></tr>\n",
       "\t<tr><th scope=row>ENSG00000000460_C1orf112</th><td>-0.7312819  </td><td>-0.2904255  </td><td> 1.0291748  </td><td> 0.03240118 </td><td>-0.22764528 </td><td> 0.1665379  </td><td>-0.67332830 </td><td> 0.55970130 </td><td>-0.48053932 </td><td>-0.12481105 </td><td>⋯           </td><td> 0.000717624</td><td>-0.5245578  </td><td>-0.16286372 </td><td>-0.3100873  </td><td>-0.5190415  </td><td>-0.6379080  </td><td>-0.09177905 </td><td>-0.42302292 </td><td>-0.635804274</td><td> 0.1562609  </td></tr>\n",
       "\t<tr><th scope=row>ENSG00000001036_FUCA2</th><td>-1.0857484  </td><td>-0.6982946  </td><td>-0.5535402  </td><td>-1.05484372 </td><td>-0.68306766 </td><td>-1.1752613  </td><td>-0.50526550 </td><td>-0.71218910 </td><td> 0.29154267 </td><td>-1.13094919 </td><td>⋯           </td><td>-0.281993882</td><td>-0.7629634  </td><td>-0.45924095 </td><td>-0.6157865  </td><td>-0.5787906  </td><td>-1.1960592  </td><td>-0.90652529 </td><td>-1.04799669 </td><td>-0.440253040</td><td>-0.7941735  </td></tr>\n",
       "\t<tr><th scope=row>ENSG00000001084_GCLC</th><td>-0.2265324  </td><td>-0.4693774  </td><td>-0.1098633  </td><td>-0.21712199 </td><td> 0.69784160 </td><td>-0.7496548  </td><td>-0.15165364 </td><td> 0.07095915 </td><td> 0.03665637 </td><td> 0.35903799 </td><td>⋯           </td><td> 0.147145640</td><td>-0.1036783  </td><td>-0.08049818 </td><td> 0.4100631  </td><td> 1.2386603  </td><td>-0.1628617  </td><td>-0.23172592 </td><td> 0.03571678 </td><td> 0.009957389</td><td>-0.1319196  </td></tr>\n",
       "</tbody>\n",
       "</table>\n"
      ],
      "text/latex": [
       "\\begin{tabular}{r|llllllllllllllllllllllllllllllllllllllllllllllllllllllllllllllllllllllllllllllllllllllllllllllllllllllllllllllllllllllllllllllllllllllll}\n",
       "  & heth\\_1-expt\\_12-day0 & jogf\\_2-expt\\_12-day0 & pelm\\_3-expt\\_12-day0 & vass\\_1-expt\\_12-day0 & wibj\\_2-expt\\_12-day0 & zapk\\_3-expt\\_12-day0 & oaqd\\_3-expt\\_18-day0 & paab\\_4-expt\\_18-day0 & sita\\_1-expt\\_18-day0 & toss\\_3-expt\\_18-day0 & ⋯ & pipw\\_5-expt\\_44-day0 & qehq\\_3-expt\\_44-day0 & toco\\_5-expt\\_44-day0 & uilk\\_3-expt\\_44-day0 & ciwj\\_2-expt\\_45-day0 & hajc\\_1-expt\\_45-day0 & hecn\\_3-expt\\_45-day0 & kuco\\_1-expt\\_45-day0 & liqa\\_1-expt\\_45-day0 & tert\\_1-expt\\_45-day0\\\\\n",
       "\\hline\n",
       "\tENSG00000000003\\_TSPAN6 & -0.3442969   & -0.2561692   & -0.9548249   & -1.34176662  &  0.25255180  & -1.0164727   & -0.10464142  & -0.58032824  &  0.11891761  & -0.76777287  & ⋯            & -1.243250458 & -0.4655523   & -0.78188955  & -0.2679966   & -0.7180335   & -0.5296899   & -0.90405456  & -0.87438009  & -0.149317667 & -0.7779745  \\\\\n",
       "\tENSG00000000419\\_DPM1 & -1.0514935   & -0.2041174   & -0.3276868   & -0.22923586  &  0.18026564  & -0.7068602   &  0.04927355  &  0.15825603  &  0.02826850  & -0.95107324  & ⋯            & -0.381577345 & -0.4724743   & -0.97828097  & -0.2553280   & -0.3323666   & -0.2908796   & -0.36691404  & -0.42940012  & -0.397520347 & -0.6672841  \\\\\n",
       "\tENSG00000000457\\_SCYL3 & -0.4788146   & -0.7450249   & -0.4537243   & -0.27583950  & -0.05931901  & -0.2502215   & -0.04891225  &  0.89742076  & -0.12963603  &  0.09044089  & ⋯            & -0.699585975 & -0.4153946   & -0.32406570  & -0.3377796   & -0.4829387   & -0.4466199   & -0.53362068  & -0.24613035  &  0.059721763 & -0.5994797  \\\\\n",
       "\tENSG00000000460\\_C1orf112 & -0.7312819   & -0.2904255   &  1.0291748   &  0.03240118  & -0.22764528  &  0.1665379   & -0.67332830  &  0.55970130  & -0.48053932  & -0.12481105  & ⋯            &  0.000717624 & -0.5245578   & -0.16286372  & -0.3100873   & -0.5190415   & -0.6379080   & -0.09177905  & -0.42302292  & -0.635804274 &  0.1562609  \\\\\n",
       "\tENSG00000001036\\_FUCA2 & -1.0857484   & -0.6982946   & -0.5535402   & -1.05484372  & -0.68306766  & -1.1752613   & -0.50526550  & -0.71218910  &  0.29154267  & -1.13094919  & ⋯            & -0.281993882 & -0.7629634   & -0.45924095  & -0.6157865   & -0.5787906   & -1.1960592   & -0.90652529  & -1.04799669  & -0.440253040 & -0.7941735  \\\\\n",
       "\tENSG00000001084\\_GCLC & -0.2265324   & -0.4693774   & -0.1098633   & -0.21712199  &  0.69784160  & -0.7496548   & -0.15165364  &  0.07095915  &  0.03665637  &  0.35903799  & ⋯            &  0.147145640 & -0.1036783   & -0.08049818  &  0.4100631   &  1.2386603   & -0.1628617   & -0.23172592  &  0.03571678  &  0.009957389 & -0.1319196  \\\\\n",
       "\\end{tabular}\n"
      ],
      "text/markdown": [
       "\n",
       "| <!--/--> | heth_1-expt_12-day0 | jogf_2-expt_12-day0 | pelm_3-expt_12-day0 | vass_1-expt_12-day0 | wibj_2-expt_12-day0 | zapk_3-expt_12-day0 | oaqd_3-expt_18-day0 | paab_4-expt_18-day0 | sita_1-expt_18-day0 | toss_3-expt_18-day0 | ⋯ | pipw_5-expt_44-day0 | qehq_3-expt_44-day0 | toco_5-expt_44-day0 | uilk_3-expt_44-day0 | ciwj_2-expt_45-day0 | hajc_1-expt_45-day0 | hecn_3-expt_45-day0 | kuco_1-expt_45-day0 | liqa_1-expt_45-day0 | tert_1-expt_45-day0 | \n",
       "|---|---|---|---|---|---|\n",
       "| ENSG00000000003_TSPAN6 | -0.3442969   | -0.2561692   | -0.9548249   | -1.34176662  |  0.25255180  | -1.0164727   | -0.10464142  | -0.58032824  |  0.11891761  | -0.76777287  | ⋯            | -1.243250458 | -0.4655523   | -0.78188955  | -0.2679966   | -0.7180335   | -0.5296899   | -0.90405456  | -0.87438009  | -0.149317667 | -0.7779745   | \n",
       "| ENSG00000000419_DPM1 | -1.0514935   | -0.2041174   | -0.3276868   | -0.22923586  |  0.18026564  | -0.7068602   |  0.04927355  |  0.15825603  |  0.02826850  | -0.95107324  | ⋯            | -0.381577345 | -0.4724743   | -0.97828097  | -0.2553280   | -0.3323666   | -0.2908796   | -0.36691404  | -0.42940012  | -0.397520347 | -0.6672841   | \n",
       "| ENSG00000000457_SCYL3 | -0.4788146   | -0.7450249   | -0.4537243   | -0.27583950  | -0.05931901  | -0.2502215   | -0.04891225  |  0.89742076  | -0.12963603  |  0.09044089  | ⋯            | -0.699585975 | -0.4153946   | -0.32406570  | -0.3377796   | -0.4829387   | -0.4466199   | -0.53362068  | -0.24613035  |  0.059721763 | -0.5994797   | \n",
       "| ENSG00000000460_C1orf112 | -0.7312819   | -0.2904255   |  1.0291748   |  0.03240118  | -0.22764528  |  0.1665379   | -0.67332830  |  0.55970130  | -0.48053932  | -0.12481105  | ⋯            |  0.000717624 | -0.5245578   | -0.16286372  | -0.3100873   | -0.5190415   | -0.6379080   | -0.09177905  | -0.42302292  | -0.635804274 |  0.1562609   | \n",
       "| ENSG00000001036_FUCA2 | -1.0857484   | -0.6982946   | -0.5535402   | -1.05484372  | -0.68306766  | -1.1752613   | -0.50526550  | -0.71218910  |  0.29154267  | -1.13094919  | ⋯            | -0.281993882 | -0.7629634   | -0.45924095  | -0.6157865   | -0.5787906   | -1.1960592   | -0.90652529  | -1.04799669  | -0.440253040 | -0.7941735   | \n",
       "| ENSG00000001084_GCLC | -0.2265324   | -0.4693774   | -0.1098633   | -0.21712199  |  0.69784160  | -0.7496548   | -0.15165364  |  0.07095915  |  0.03665637  |  0.35903799  | ⋯            |  0.147145640 | -0.1036783   | -0.08049818  |  0.4100631   |  1.2386603   | -0.1628617   | -0.23172592  |  0.03571678  |  0.009957389 | -0.1319196   | \n",
       "\n",
       "\n"
      ],
      "text/plain": [
       "                         heth_1-expt_12-day0 jogf_2-expt_12-day0\n",
       "ENSG00000000003_TSPAN6   -0.3442969          -0.2561692         \n",
       "ENSG00000000419_DPM1     -1.0514935          -0.2041174         \n",
       "ENSG00000000457_SCYL3    -0.4788146          -0.7450249         \n",
       "ENSG00000000460_C1orf112 -0.7312819          -0.2904255         \n",
       "ENSG00000001036_FUCA2    -1.0857484          -0.6982946         \n",
       "ENSG00000001084_GCLC     -0.2265324          -0.4693774         \n",
       "                         pelm_3-expt_12-day0 vass_1-expt_12-day0\n",
       "ENSG00000000003_TSPAN6   -0.9548249          -1.34176662        \n",
       "ENSG00000000419_DPM1     -0.3276868          -0.22923586        \n",
       "ENSG00000000457_SCYL3    -0.4537243          -0.27583950        \n",
       "ENSG00000000460_C1orf112  1.0291748           0.03240118        \n",
       "ENSG00000001036_FUCA2    -0.5535402          -1.05484372        \n",
       "ENSG00000001084_GCLC     -0.1098633          -0.21712199        \n",
       "                         wibj_2-expt_12-day0 zapk_3-expt_12-day0\n",
       "ENSG00000000003_TSPAN6    0.25255180         -1.0164727         \n",
       "ENSG00000000419_DPM1      0.18026564         -0.7068602         \n",
       "ENSG00000000457_SCYL3    -0.05931901         -0.2502215         \n",
       "ENSG00000000460_C1orf112 -0.22764528          0.1665379         \n",
       "ENSG00000001036_FUCA2    -0.68306766         -1.1752613         \n",
       "ENSG00000001084_GCLC      0.69784160         -0.7496548         \n",
       "                         oaqd_3-expt_18-day0 paab_4-expt_18-day0\n",
       "ENSG00000000003_TSPAN6   -0.10464142         -0.58032824        \n",
       "ENSG00000000419_DPM1      0.04927355          0.15825603        \n",
       "ENSG00000000457_SCYL3    -0.04891225          0.89742076        \n",
       "ENSG00000000460_C1orf112 -0.67332830          0.55970130        \n",
       "ENSG00000001036_FUCA2    -0.50526550         -0.71218910        \n",
       "ENSG00000001084_GCLC     -0.15165364          0.07095915        \n",
       "                         sita_1-expt_18-day0 toss_3-expt_18-day0 ⋯\n",
       "ENSG00000000003_TSPAN6    0.11891761         -0.76777287         ⋯\n",
       "ENSG00000000419_DPM1      0.02826850         -0.95107324         ⋯\n",
       "ENSG00000000457_SCYL3    -0.12963603          0.09044089         ⋯\n",
       "ENSG00000000460_C1orf112 -0.48053932         -0.12481105         ⋯\n",
       "ENSG00000001036_FUCA2     0.29154267         -1.13094919         ⋯\n",
       "ENSG00000001084_GCLC      0.03665637          0.35903799         ⋯\n",
       "                         pipw_5-expt_44-day0 qehq_3-expt_44-day0\n",
       "ENSG00000000003_TSPAN6   -1.243250458        -0.4655523         \n",
       "ENSG00000000419_DPM1     -0.381577345        -0.4724743         \n",
       "ENSG00000000457_SCYL3    -0.699585975        -0.4153946         \n",
       "ENSG00000000460_C1orf112  0.000717624        -0.5245578         \n",
       "ENSG00000001036_FUCA2    -0.281993882        -0.7629634         \n",
       "ENSG00000001084_GCLC      0.147145640        -0.1036783         \n",
       "                         toco_5-expt_44-day0 uilk_3-expt_44-day0\n",
       "ENSG00000000003_TSPAN6   -0.78188955         -0.2679966         \n",
       "ENSG00000000419_DPM1     -0.97828097         -0.2553280         \n",
       "ENSG00000000457_SCYL3    -0.32406570         -0.3377796         \n",
       "ENSG00000000460_C1orf112 -0.16286372         -0.3100873         \n",
       "ENSG00000001036_FUCA2    -0.45924095         -0.6157865         \n",
       "ENSG00000001084_GCLC     -0.08049818          0.4100631         \n",
       "                         ciwj_2-expt_45-day0 hajc_1-expt_45-day0\n",
       "ENSG00000000003_TSPAN6   -0.7180335          -0.5296899         \n",
       "ENSG00000000419_DPM1     -0.3323666          -0.2908796         \n",
       "ENSG00000000457_SCYL3    -0.4829387          -0.4466199         \n",
       "ENSG00000000460_C1orf112 -0.5190415          -0.6379080         \n",
       "ENSG00000001036_FUCA2    -0.5787906          -1.1960592         \n",
       "ENSG00000001084_GCLC      1.2386603          -0.1628617         \n",
       "                         hecn_3-expt_45-day0 kuco_1-expt_45-day0\n",
       "ENSG00000000003_TSPAN6   -0.90405456         -0.87438009        \n",
       "ENSG00000000419_DPM1     -0.36691404         -0.42940012        \n",
       "ENSG00000000457_SCYL3    -0.53362068         -0.24613035        \n",
       "ENSG00000000460_C1orf112 -0.09177905         -0.42302292        \n",
       "ENSG00000001036_FUCA2    -0.90652529         -1.04799669        \n",
       "ENSG00000001084_GCLC     -0.23172592          0.03571678        \n",
       "                         liqa_1-expt_45-day0 tert_1-expt_45-day0\n",
       "ENSG00000000003_TSPAN6   -0.149317667        -0.7779745         \n",
       "ENSG00000000419_DPM1     -0.397520347        -0.6672841         \n",
       "ENSG00000000457_SCYL3     0.059721763        -0.5994797         \n",
       "ENSG00000000460_C1orf112 -0.635804274         0.1562609         \n",
       "ENSG00000001036_FUCA2    -0.440253040        -0.7941735         \n",
       "ENSG00000001084_GCLC      0.009957389        -0.1319196         "
      ]
     },
     "metadata": {},
     "output_type": "display_data"
    }
   ],
   "source": [
    "head(alphas_ips)"
   ]
  },
  {
   "cell_type": "code",
   "execution_count": 17,
   "metadata": {},
   "outputs": [],
   "source": [
    "alphas_mesendo = get_alphas_byexpt(sce_mesendo, nrow(sce_mesendo), l.mesendo)"
   ]
  },
  {
   "cell_type": "code",
   "execution_count": 19,
   "metadata": {},
   "outputs": [
    {
     "data": {
      "text/html": [
       "<table>\n",
       "<thead><tr><th></th><th scope=col>fafq_1-expt_09-day1</th><th scope=col>hiaf_2-expt_09-day1</th><th scope=col>iisa_3-expt_09-day1</th><th scope=col>joxm_1-expt_09-day1</th><th scope=col>lexy_1-expt_09-day1</th><th scope=col>wuye_2-expt_09-day1</th><th scope=col>fafq_1-expt_10-day1</th><th scope=col>garx_2-expt_10-day1</th><th scope=col>hayt_1-expt_10-day1</th><th scope=col>sebz_1-expt_10-day1</th><th scope=col>⋯</th><th scope=col>juuy_2-expt_44-day2</th><th scope=col>pipw_5-expt_44-day2</th><th scope=col>qehq_3-expt_44-day2</th><th scope=col>toco_5-expt_44-day2</th><th scope=col>uilk_3-expt_44-day2</th><th scope=col>ciwj_2-expt_45-day2</th><th scope=col>hajc_1-expt_45-day2</th><th scope=col>hecn_3-expt_45-day2</th><th scope=col>kuco_1-expt_45-day2</th><th scope=col>tert_1-expt_45-day2</th></tr></thead>\n",
       "<tbody>\n",
       "\t<tr><th scope=row>ENSG00000000003_TSPAN6</th><td>-0.55734606  </td><td>-0.3162606   </td><td> 0.03850426  </td><td>-0.7320376   </td><td> 0.2879092   </td><td>-0.6098239   </td><td>-0.45141521  </td><td> 0.16447579  </td><td>-0.36799622  </td><td> 0.59604233  </td><td>⋯            </td><td>-1.05769708  </td><td>-1.24971867  </td><td>-0.9171790   </td><td>-1.59486068  </td><td>-1.4131960   </td><td>-4.440892e-16</td><td> 0.000000e+00</td><td>-3.552714e-15</td><td> 1.0683266   </td><td>-0.9008921   </td></tr>\n",
       "\t<tr><th scope=row>ENSG00000000419_DPM1</th><td>-0.31067303  </td><td>-1.2839812   </td><td>-0.21963664  </td><td>-0.3815413   </td><td> 0.9354593   </td><td>-0.2770131   </td><td>-0.04680137  </td><td>-0.30281695  </td><td>-0.70717890  </td><td> 0.49039454  </td><td>⋯            </td><td>-1.18791932  </td><td>-0.08808045  </td><td>-0.2306048   </td><td> 0.74516438  </td><td>-2.4388375   </td><td> 8.881784e-16</td><td>-1.776357e-15</td><td>-4.440892e-15</td><td>-1.8936715   </td><td>-1.9680701   </td></tr>\n",
       "\t<tr><th scope=row>ENSG00000000457_SCYL3</th><td> 0.42376145  </td><td> 0.3808560   </td><td>-0.25682336  </td><td>-0.5104772   </td><td>-0.1852945   </td><td>-0.0880798   </td><td> 0.03348179  </td><td>-0.46820793  </td><td>-0.81726338  </td><td> 0.88800626  </td><td>⋯            </td><td>-0.07310759  </td><td>-0.49462151  </td><td> 0.3097475   </td><td> 1.10439450  </td><td>-0.2283763   </td><td>-7.112366e-16</td><td> 2.220446e-16</td><td>-3.330669e-16</td><td> 1.1761277   </td><td> 1.2617997   </td></tr>\n",
       "\t<tr><th scope=row>ENSG00000000460_C1orf112</th><td> 0.32265502  </td><td>-1.9569472   </td><td> 0.11362341  </td><td>-0.1409322   </td><td> 1.1560959   </td><td>-0.4756322   </td><td> 0.68899453  </td><td>-0.11803455  </td><td> 0.73447802  </td><td>-0.19054012  </td><td>⋯            </td><td> 0.10346273  </td><td>-0.59473649  </td><td>-0.4545636   </td><td> 0.33563880  </td><td>-0.2215318   </td><td>-1.332268e-15</td><td> 0.000000e+00</td><td>-1.776357e-15</td><td>-1.3573661   </td><td> 0.4012611   </td></tr>\n",
       "\t<tr><th scope=row>ENSG00000001036_FUCA2</th><td> 0.02555808  </td><td>-2.2694557   </td><td> 0.19786468  </td><td>-0.4068388   </td><td>-0.9688175   </td><td>-0.1777112   </td><td>-0.97352425  </td><td>-0.86305456  </td><td>-0.81963973  </td><td>-0.03854668  </td><td>⋯            </td><td> 1.05233149  </td><td>-1.99944424  </td><td> 0.2330888   </td><td>-1.05168538  </td><td>-0.5934998   </td><td>-8.881784e-16</td><td> 0.000000e+00</td><td>-2.220446e-15</td><td> 0.2166333   </td><td>-0.6437660   </td></tr>\n",
       "\t<tr><th scope=row>ENSG00000001084_GCLC</th><td> 1.07173934  </td><td> 1.1620981   </td><td> 0.09476054  </td><td>-0.5222253   </td><td>-0.9060032   </td><td>-0.9209471   </td><td> 0.67568851  </td><td>-0.06611093  </td><td> 0.01245633  </td><td> 0.44820327  </td><td>⋯            </td><td> 0.21033542  </td><td>-0.12364973  </td><td> 0.1253449   </td><td>-0.07465519  </td><td> 0.5052315   </td><td>-7.216450e-16</td><td> 1.110223e-16</td><td>-5.551115e-16</td><td> 0.1984637   </td><td>-2.6767779   </td></tr>\n",
       "</tbody>\n",
       "</table>\n"
      ],
      "text/latex": [
       "\\begin{tabular}{r|llllllllllllllllllllllllllllllllllllllllllllllllllllllllllllllllllllllllllllllllllllllllllllllllllllllllllllllllllllllllllllllllllllllllllllllllllllllllllllllllllllllllllllllllllllllllllllllllllllllllllllllllllllllllllllllll}\n",
       "  & fafq\\_1-expt\\_09-day1 & hiaf\\_2-expt\\_09-day1 & iisa\\_3-expt\\_09-day1 & joxm\\_1-expt\\_09-day1 & lexy\\_1-expt\\_09-day1 & wuye\\_2-expt\\_09-day1 & fafq\\_1-expt\\_10-day1 & garx\\_2-expt\\_10-day1 & hayt\\_1-expt\\_10-day1 & sebz\\_1-expt\\_10-day1 & ⋯ & juuy\\_2-expt\\_44-day2 & pipw\\_5-expt\\_44-day2 & qehq\\_3-expt\\_44-day2 & toco\\_5-expt\\_44-day2 & uilk\\_3-expt\\_44-day2 & ciwj\\_2-expt\\_45-day2 & hajc\\_1-expt\\_45-day2 & hecn\\_3-expt\\_45-day2 & kuco\\_1-expt\\_45-day2 & tert\\_1-expt\\_45-day2\\\\\n",
       "\\hline\n",
       "\tENSG00000000003\\_TSPAN6 & -0.55734606   & -0.3162606    &  0.03850426   & -0.7320376    &  0.2879092    & -0.6098239    & -0.45141521   &  0.16447579   & -0.36799622   &  0.59604233   & ⋯             & -1.05769708   & -1.24971867   & -0.9171790    & -1.59486068   & -1.4131960    & -4.440892e-16 &  0.000000e+00 & -3.552714e-15 &  1.0683266    & -0.9008921   \\\\\n",
       "\tENSG00000000419\\_DPM1 & -0.31067303   & -1.2839812    & -0.21963664   & -0.3815413    &  0.9354593    & -0.2770131    & -0.04680137   & -0.30281695   & -0.70717890   &  0.49039454   & ⋯             & -1.18791932   & -0.08808045   & -0.2306048    &  0.74516438   & -2.4388375    &  8.881784e-16 & -1.776357e-15 & -4.440892e-15 & -1.8936715    & -1.9680701   \\\\\n",
       "\tENSG00000000457\\_SCYL3 &  0.42376145   &  0.3808560    & -0.25682336   & -0.5104772    & -0.1852945    & -0.0880798    &  0.03348179   & -0.46820793   & -0.81726338   &  0.88800626   & ⋯             & -0.07310759   & -0.49462151   &  0.3097475    &  1.10439450   & -0.2283763    & -7.112366e-16 &  2.220446e-16 & -3.330669e-16 &  1.1761277    &  1.2617997   \\\\\n",
       "\tENSG00000000460\\_C1orf112 &  0.32265502   & -1.9569472    &  0.11362341   & -0.1409322    &  1.1560959    & -0.4756322    &  0.68899453   & -0.11803455   &  0.73447802   & -0.19054012   & ⋯             &  0.10346273   & -0.59473649   & -0.4545636    &  0.33563880   & -0.2215318    & -1.332268e-15 &  0.000000e+00 & -1.776357e-15 & -1.3573661    &  0.4012611   \\\\\n",
       "\tENSG00000001036\\_FUCA2 &  0.02555808   & -2.2694557    &  0.19786468   & -0.4068388    & -0.9688175    & -0.1777112    & -0.97352425   & -0.86305456   & -0.81963973   & -0.03854668   & ⋯             &  1.05233149   & -1.99944424   &  0.2330888    & -1.05168538   & -0.5934998    & -8.881784e-16 &  0.000000e+00 & -2.220446e-15 &  0.2166333    & -0.6437660   \\\\\n",
       "\tENSG00000001084\\_GCLC &  1.07173934   &  1.1620981    &  0.09476054   & -0.5222253    & -0.9060032    & -0.9209471    &  0.67568851   & -0.06611093   &  0.01245633   &  0.44820327   & ⋯             &  0.21033542   & -0.12364973   &  0.1253449    & -0.07465519   &  0.5052315    & -7.216450e-16 &  1.110223e-16 & -5.551115e-16 &  0.1984637    & -2.6767779   \\\\\n",
       "\\end{tabular}\n"
      ],
      "text/markdown": [
       "\n",
       "| <!--/--> | fafq_1-expt_09-day1 | hiaf_2-expt_09-day1 | iisa_3-expt_09-day1 | joxm_1-expt_09-day1 | lexy_1-expt_09-day1 | wuye_2-expt_09-day1 | fafq_1-expt_10-day1 | garx_2-expt_10-day1 | hayt_1-expt_10-day1 | sebz_1-expt_10-day1 | ⋯ | juuy_2-expt_44-day2 | pipw_5-expt_44-day2 | qehq_3-expt_44-day2 | toco_5-expt_44-day2 | uilk_3-expt_44-day2 | ciwj_2-expt_45-day2 | hajc_1-expt_45-day2 | hecn_3-expt_45-day2 | kuco_1-expt_45-day2 | tert_1-expt_45-day2 | \n",
       "|---|---|---|---|---|---|\n",
       "| ENSG00000000003_TSPAN6 | -0.55734606   | -0.3162606    |  0.03850426   | -0.7320376    |  0.2879092    | -0.6098239    | -0.45141521   |  0.16447579   | -0.36799622   |  0.59604233   | ⋯             | -1.05769708   | -1.24971867   | -0.9171790    | -1.59486068   | -1.4131960    | -4.440892e-16 |  0.000000e+00 | -3.552714e-15 |  1.0683266    | -0.9008921    | \n",
       "| ENSG00000000419_DPM1 | -0.31067303   | -1.2839812    | -0.21963664   | -0.3815413    |  0.9354593    | -0.2770131    | -0.04680137   | -0.30281695   | -0.70717890   |  0.49039454   | ⋯             | -1.18791932   | -0.08808045   | -0.2306048    |  0.74516438   | -2.4388375    |  8.881784e-16 | -1.776357e-15 | -4.440892e-15 | -1.8936715    | -1.9680701    | \n",
       "| ENSG00000000457_SCYL3 |  0.42376145   |  0.3808560    | -0.25682336   | -0.5104772    | -0.1852945    | -0.0880798    |  0.03348179   | -0.46820793   | -0.81726338   |  0.88800626   | ⋯             | -0.07310759   | -0.49462151   |  0.3097475    |  1.10439450   | -0.2283763    | -7.112366e-16 |  2.220446e-16 | -3.330669e-16 |  1.1761277    |  1.2617997    | \n",
       "| ENSG00000000460_C1orf112 |  0.32265502   | -1.9569472    |  0.11362341   | -0.1409322    |  1.1560959    | -0.4756322    |  0.68899453   | -0.11803455   |  0.73447802   | -0.19054012   | ⋯             |  0.10346273   | -0.59473649   | -0.4545636    |  0.33563880   | -0.2215318    | -1.332268e-15 |  0.000000e+00 | -1.776357e-15 | -1.3573661    |  0.4012611    | \n",
       "| ENSG00000001036_FUCA2 |  0.02555808   | -2.2694557    |  0.19786468   | -0.4068388    | -0.9688175    | -0.1777112    | -0.97352425   | -0.86305456   | -0.81963973   | -0.03854668   | ⋯             |  1.05233149   | -1.99944424   |  0.2330888    | -1.05168538   | -0.5934998    | -8.881784e-16 |  0.000000e+00 | -2.220446e-15 |  0.2166333    | -0.6437660    | \n",
       "| ENSG00000001084_GCLC |  1.07173934   |  1.1620981    |  0.09476054   | -0.5222253    | -0.9060032    | -0.9209471    |  0.67568851   | -0.06611093   |  0.01245633   |  0.44820327   | ⋯             |  0.21033542   | -0.12364973   |  0.1253449    | -0.07465519   |  0.5052315    | -7.216450e-16 |  1.110223e-16 | -5.551115e-16 |  0.1984637    | -2.6767779    | \n",
       "\n",
       "\n"
      ],
      "text/plain": [
       "                         fafq_1-expt_09-day1 hiaf_2-expt_09-day1\n",
       "ENSG00000000003_TSPAN6   -0.55734606         -0.3162606         \n",
       "ENSG00000000419_DPM1     -0.31067303         -1.2839812         \n",
       "ENSG00000000457_SCYL3     0.42376145          0.3808560         \n",
       "ENSG00000000460_C1orf112  0.32265502         -1.9569472         \n",
       "ENSG00000001036_FUCA2     0.02555808         -2.2694557         \n",
       "ENSG00000001084_GCLC      1.07173934          1.1620981         \n",
       "                         iisa_3-expt_09-day1 joxm_1-expt_09-day1\n",
       "ENSG00000000003_TSPAN6    0.03850426         -0.7320376         \n",
       "ENSG00000000419_DPM1     -0.21963664         -0.3815413         \n",
       "ENSG00000000457_SCYL3    -0.25682336         -0.5104772         \n",
       "ENSG00000000460_C1orf112  0.11362341         -0.1409322         \n",
       "ENSG00000001036_FUCA2     0.19786468         -0.4068388         \n",
       "ENSG00000001084_GCLC      0.09476054         -0.5222253         \n",
       "                         lexy_1-expt_09-day1 wuye_2-expt_09-day1\n",
       "ENSG00000000003_TSPAN6    0.2879092          -0.6098239         \n",
       "ENSG00000000419_DPM1      0.9354593          -0.2770131         \n",
       "ENSG00000000457_SCYL3    -0.1852945          -0.0880798         \n",
       "ENSG00000000460_C1orf112  1.1560959          -0.4756322         \n",
       "ENSG00000001036_FUCA2    -0.9688175          -0.1777112         \n",
       "ENSG00000001084_GCLC     -0.9060032          -0.9209471         \n",
       "                         fafq_1-expt_10-day1 garx_2-expt_10-day1\n",
       "ENSG00000000003_TSPAN6   -0.45141521          0.16447579        \n",
       "ENSG00000000419_DPM1     -0.04680137         -0.30281695        \n",
       "ENSG00000000457_SCYL3     0.03348179         -0.46820793        \n",
       "ENSG00000000460_C1orf112  0.68899453         -0.11803455        \n",
       "ENSG00000001036_FUCA2    -0.97352425         -0.86305456        \n",
       "ENSG00000001084_GCLC      0.67568851         -0.06611093        \n",
       "                         hayt_1-expt_10-day1 sebz_1-expt_10-day1 ⋯\n",
       "ENSG00000000003_TSPAN6   -0.36799622          0.59604233         ⋯\n",
       "ENSG00000000419_DPM1     -0.70717890          0.49039454         ⋯\n",
       "ENSG00000000457_SCYL3    -0.81726338          0.88800626         ⋯\n",
       "ENSG00000000460_C1orf112  0.73447802         -0.19054012         ⋯\n",
       "ENSG00000001036_FUCA2    -0.81963973         -0.03854668         ⋯\n",
       "ENSG00000001084_GCLC      0.01245633          0.44820327         ⋯\n",
       "                         juuy_2-expt_44-day2 pipw_5-expt_44-day2\n",
       "ENSG00000000003_TSPAN6   -1.05769708         -1.24971867        \n",
       "ENSG00000000419_DPM1     -1.18791932         -0.08808045        \n",
       "ENSG00000000457_SCYL3    -0.07310759         -0.49462151        \n",
       "ENSG00000000460_C1orf112  0.10346273         -0.59473649        \n",
       "ENSG00000001036_FUCA2     1.05233149         -1.99944424        \n",
       "ENSG00000001084_GCLC      0.21033542         -0.12364973        \n",
       "                         qehq_3-expt_44-day2 toco_5-expt_44-day2\n",
       "ENSG00000000003_TSPAN6   -0.9171790          -1.59486068        \n",
       "ENSG00000000419_DPM1     -0.2306048           0.74516438        \n",
       "ENSG00000000457_SCYL3     0.3097475           1.10439450        \n",
       "ENSG00000000460_C1orf112 -0.4545636           0.33563880        \n",
       "ENSG00000001036_FUCA2     0.2330888          -1.05168538        \n",
       "ENSG00000001084_GCLC      0.1253449          -0.07465519        \n",
       "                         uilk_3-expt_44-day2 ciwj_2-expt_45-day2\n",
       "ENSG00000000003_TSPAN6   -1.4131960          -4.440892e-16      \n",
       "ENSG00000000419_DPM1     -2.4388375           8.881784e-16      \n",
       "ENSG00000000457_SCYL3    -0.2283763          -7.112366e-16      \n",
       "ENSG00000000460_C1orf112 -0.2215318          -1.332268e-15      \n",
       "ENSG00000001036_FUCA2    -0.5934998          -8.881784e-16      \n",
       "ENSG00000001084_GCLC      0.5052315          -7.216450e-16      \n",
       "                         hajc_1-expt_45-day2 hecn_3-expt_45-day2\n",
       "ENSG00000000003_TSPAN6    0.000000e+00       -3.552714e-15      \n",
       "ENSG00000000419_DPM1     -1.776357e-15       -4.440892e-15      \n",
       "ENSG00000000457_SCYL3     2.220446e-16       -3.330669e-16      \n",
       "ENSG00000000460_C1orf112  0.000000e+00       -1.776357e-15      \n",
       "ENSG00000001036_FUCA2     0.000000e+00       -2.220446e-15      \n",
       "ENSG00000001084_GCLC      1.110223e-16       -5.551115e-16      \n",
       "                         kuco_1-expt_45-day2 tert_1-expt_45-day2\n",
       "ENSG00000000003_TSPAN6    1.0683266          -0.9008921         \n",
       "ENSG00000000419_DPM1     -1.8936715          -1.9680701         \n",
       "ENSG00000000457_SCYL3     1.1761277           1.2617997         \n",
       "ENSG00000000460_C1orf112 -1.3573661           0.4012611         \n",
       "ENSG00000001036_FUCA2     0.2166333          -0.6437660         \n",
       "ENSG00000001084_GCLC      0.1984637          -2.6767779         "
      ]
     },
     "metadata": {},
     "output_type": "display_data"
    }
   ],
   "source": [
    "head(alphas_mesendo)"
   ]
  },
  {
   "cell_type": "code",
   "execution_count": 18,
   "metadata": {},
   "outputs": [],
   "source": [
    "alphas_defendo = get_alphas_byexpt(sce_defendo, nrow(sce_defendo), l.defendo)"
   ]
  },
  {
   "cell_type": "code",
   "execution_count": 9,
   "metadata": {},
   "outputs": [],
   "source": [
    "input_files_dir = \"/hps/nobackup/hipsci/scratch/singlecell_endodiff/data_processed/scQTLs/variance/alpha_20191119/\""
   ]
  },
  {
   "cell_type": "code",
   "execution_count": 21,
   "metadata": {},
   "outputs": [],
   "source": [
    "write.table(alphas_ips, paste0(input_files_dir,\"ips_pheno.txt\"), sep = \"\\t\", quote = F, col.names = NA)\n",
    "write.table(alphas_mesendo, paste0(input_files_dir,\"mesendo_pheno.txt\"), sep = \"\\t\", quote = F, col.names = NA)\n",
    "write.table(alphas_defendo, paste0(input_files_dir,\"defendo_pheno.txt\"), sep = \"\\t\", quote = F, col.names = NA)"
   ]
  },
  {
   "cell_type": "code",
   "execution_count": null,
   "metadata": {},
   "outputs": [],
   "source": [
    "#### covariate files"
   ]
  },
  {
   "cell_type": "code",
   "execution_count": 22,
   "metadata": {},
   "outputs": [],
   "source": [
    "alpha.ips.pcs = prcomp(t(alphas_ips))$x[,1:10]\n",
    "alpha.mesendo.pcs = prcomp(t(alphas_mesendo))$x[,1:10]\n",
    "alpha.defendo.pcs = prcomp(t(alphas_defendo))$x[,1:10]"
   ]
  },
  {
   "cell_type": "code",
   "execution_count": 23,
   "metadata": {},
   "outputs": [
    {
     "data": {
      "text/html": [
       "<table>\n",
       "<thead><tr><th></th><th scope=col>PC1</th><th scope=col>PC2</th><th scope=col>PC3</th><th scope=col>PC4</th><th scope=col>PC5</th><th scope=col>PC6</th><th scope=col>PC7</th><th scope=col>PC8</th><th scope=col>PC9</th><th scope=col>PC10</th></tr></thead>\n",
       "<tbody>\n",
       "\t<tr><th scope=row>heth_1-expt_12-day0</th><td>-8.392677  </td><td>22.268965  </td><td>-10.5083829</td><td>33.93315   </td><td> -5.730639 </td><td> -3.793529 </td><td> 13.2626776</td><td>-12.636835 </td><td>45.951996  </td><td> -2.170596 </td></tr>\n",
       "\t<tr><th scope=row>jogf_2-expt_12-day0</th><td>-4.373702  </td><td>18.156382  </td><td>  1.7178113</td><td>35.56105   </td><td> -4.562206 </td><td> -1.828212 </td><td> -0.9857813</td><td>-12.288360 </td><td>17.479169  </td><td>-16.275829 </td></tr>\n",
       "\t<tr><th scope=row>pelm_3-expt_12-day0</th><td>-7.217079  </td><td>24.380799  </td><td>-19.9656471</td><td>53.39299   </td><td> -9.138919 </td><td>-14.178775 </td><td>-14.9422531</td><td> -4.759319 </td><td> 9.223569  </td><td> 16.546210 </td></tr>\n",
       "\t<tr><th scope=row>vass_1-expt_12-day0</th><td>-2.133099  </td><td>15.673494  </td><td>-42.1912479</td><td>42.89776   </td><td>-10.726423 </td><td> 12.852814 </td><td>  0.4111664</td><td>-27.801692 </td><td>-1.955153  </td><td> 18.822598 </td></tr>\n",
       "\t<tr><th scope=row>wibj_2-expt_12-day0</th><td>-2.528749  </td><td> 6.981219  </td><td>  0.3921856</td><td>12.30112   </td><td>  4.669768 </td><td> -7.400069 </td><td> 11.3086811</td><td> -6.744121 </td><td> 2.687188  </td><td> -1.312227 </td></tr>\n",
       "\t<tr><th scope=row>zapk_3-expt_12-day0</th><td>-2.793033  </td><td>14.000756  </td><td> -0.9128197</td><td>27.83672   </td><td> -4.161931 </td><td> -1.827889 </td><td> -5.5991821</td><td> -3.743577 </td><td> 3.564278  </td><td> -1.292440 </td></tr>\n",
       "</tbody>\n",
       "</table>\n"
      ],
      "text/latex": [
       "\\begin{tabular}{r|llllllllll}\n",
       "  & PC1 & PC2 & PC3 & PC4 & PC5 & PC6 & PC7 & PC8 & PC9 & PC10\\\\\n",
       "\\hline\n",
       "\theth\\_1-expt\\_12-day0 & -8.392677   & 22.268965   & -10.5083829 & 33.93315    &  -5.730639  &  -3.793529  &  13.2626776 & -12.636835  & 45.951996   &  -2.170596 \\\\\n",
       "\tjogf\\_2-expt\\_12-day0 & -4.373702   & 18.156382   &   1.7178113 & 35.56105    &  -4.562206  &  -1.828212  &  -0.9857813 & -12.288360  & 17.479169   & -16.275829 \\\\\n",
       "\tpelm\\_3-expt\\_12-day0 & -7.217079   & 24.380799   & -19.9656471 & 53.39299    &  -9.138919  & -14.178775  & -14.9422531 &  -4.759319  &  9.223569   &  16.546210 \\\\\n",
       "\tvass\\_1-expt\\_12-day0 & -2.133099   & 15.673494   & -42.1912479 & 42.89776    & -10.726423  &  12.852814  &   0.4111664 & -27.801692  & -1.955153   &  18.822598 \\\\\n",
       "\twibj\\_2-expt\\_12-day0 & -2.528749   &  6.981219   &   0.3921856 & 12.30112    &   4.669768  &  -7.400069  &  11.3086811 &  -6.744121  &  2.687188   &  -1.312227 \\\\\n",
       "\tzapk\\_3-expt\\_12-day0 & -2.793033   & 14.000756   &  -0.9128197 & 27.83672    &  -4.161931  &  -1.827889  &  -5.5991821 &  -3.743577  &  3.564278   &  -1.292440 \\\\\n",
       "\\end{tabular}\n"
      ],
      "text/markdown": [
       "\n",
       "| <!--/--> | PC1 | PC2 | PC3 | PC4 | PC5 | PC6 | PC7 | PC8 | PC9 | PC10 | \n",
       "|---|---|---|---|---|---|\n",
       "| heth_1-expt_12-day0 | -8.392677   | 22.268965   | -10.5083829 | 33.93315    |  -5.730639  |  -3.793529  |  13.2626776 | -12.636835  | 45.951996   |  -2.170596  | \n",
       "| jogf_2-expt_12-day0 | -4.373702   | 18.156382   |   1.7178113 | 35.56105    |  -4.562206  |  -1.828212  |  -0.9857813 | -12.288360  | 17.479169   | -16.275829  | \n",
       "| pelm_3-expt_12-day0 | -7.217079   | 24.380799   | -19.9656471 | 53.39299    |  -9.138919  | -14.178775  | -14.9422531 |  -4.759319  |  9.223569   |  16.546210  | \n",
       "| vass_1-expt_12-day0 | -2.133099   | 15.673494   | -42.1912479 | 42.89776    | -10.726423  |  12.852814  |   0.4111664 | -27.801692  | -1.955153   |  18.822598  | \n",
       "| wibj_2-expt_12-day0 | -2.528749   |  6.981219   |   0.3921856 | 12.30112    |   4.669768  |  -7.400069  |  11.3086811 |  -6.744121  |  2.687188   |  -1.312227  | \n",
       "| zapk_3-expt_12-day0 | -2.793033   | 14.000756   |  -0.9128197 | 27.83672    |  -4.161931  |  -1.827889  |  -5.5991821 |  -3.743577  |  3.564278   |  -1.292440  | \n",
       "\n",
       "\n"
      ],
      "text/plain": [
       "                    PC1       PC2       PC3         PC4      PC5       \n",
       "heth_1-expt_12-day0 -8.392677 22.268965 -10.5083829 33.93315  -5.730639\n",
       "jogf_2-expt_12-day0 -4.373702 18.156382   1.7178113 35.56105  -4.562206\n",
       "pelm_3-expt_12-day0 -7.217079 24.380799 -19.9656471 53.39299  -9.138919\n",
       "vass_1-expt_12-day0 -2.133099 15.673494 -42.1912479 42.89776 -10.726423\n",
       "wibj_2-expt_12-day0 -2.528749  6.981219   0.3921856 12.30112   4.669768\n",
       "zapk_3-expt_12-day0 -2.793033 14.000756  -0.9128197 27.83672  -4.161931\n",
       "                    PC6        PC7         PC8        PC9       PC10      \n",
       "heth_1-expt_12-day0  -3.793529  13.2626776 -12.636835 45.951996  -2.170596\n",
       "jogf_2-expt_12-day0  -1.828212  -0.9857813 -12.288360 17.479169 -16.275829\n",
       "pelm_3-expt_12-day0 -14.178775 -14.9422531  -4.759319  9.223569  16.546210\n",
       "vass_1-expt_12-day0  12.852814   0.4111664 -27.801692 -1.955153  18.822598\n",
       "wibj_2-expt_12-day0  -7.400069  11.3086811  -6.744121  2.687188  -1.312227\n",
       "zapk_3-expt_12-day0  -1.827889  -5.5991821  -3.743577  3.564278  -1.292440"
      ]
     },
     "metadata": {},
     "output_type": "display_data"
    }
   ],
   "source": [
    "head(alpha.ips.pcs)"
   ]
  },
  {
   "cell_type": "code",
   "execution_count": 24,
   "metadata": {},
   "outputs": [],
   "source": [
    "write.table(alpha.ips.pcs, paste0(input_files_dir,\"ips_covs.txt\"), sep = \"\\t\", quote = F, col.names = NA)\n",
    "write.table(alpha.mesendo.pcs, paste0(input_files_dir,\"mesendo_covs.txt\"), sep = \"\\t\", quote = F, col.names = NA)\n",
    "write.table(alpha.defendo.pcs, paste0(input_files_dir,\"defendo_covs.txt\"), sep = \"\\t\", quote = F, col.names = NA)"
   ]
  },
  {
   "cell_type": "code",
   "execution_count": null,
   "metadata": {},
   "outputs": [],
   "source": [
    "#### sample mapping files"
   ]
  },
  {
   "cell_type": "code",
   "execution_count": 10,
   "metadata": {},
   "outputs": [],
   "source": [
    "make_sample_mapping <- function(pheno, sce){\n",
    "    df <- data.frame(donor.expt.day = colnames(pheno))\n",
    "    df$donor = gsub(\"*-.*\",\"\",df$donor.expt.day)\n",
    "    df$expt = gsub(\".*-\",\"\",df$donor.expt.day)\n",
    "    df$day = gsub(\".*-\",\"\",df$donor.expt.day)\n",
    "    df1 <- data.frame(donor_long_id = unique(sce$donor_long_id), donor = unique(sce$donor_short_id))\n",
    "    df2 <- left_join(df, df1, by = \"donor\")\n",
    "    # genotype_samples phenotype_samples\n",
    "    samples = df2[,c(\"donor_long_id\",\"donor.expt.day\")]\n",
    "    colnames(samples) = c()\n",
    "    samples\n",
    "}"
   ]
  },
  {
   "cell_type": "code",
   "execution_count": 26,
   "metadata": {},
   "outputs": [],
   "source": [
    "alpha.ips.samples = make_sample_mapping(alphas_ips, sce_ips)\n",
    "alpha.mesendo.samples = make_sample_mapping(alphas_mesendo, sce_mesendo)\n",
    "alpha.defendo.samples = make_sample_mapping(alphas_defendo, sce_defendo)"
   ]
  },
  {
   "cell_type": "code",
   "execution_count": 27,
   "metadata": {},
   "outputs": [
    {
     "data": {
      "text/html": [
       "<table>\n",
       "<tbody>\n",
       "\t<tr><td>HPSI0214i-heth_1   </td><td>heth_1-expt_12-day0</td></tr>\n",
       "\t<tr><td>HPSI1013i-jogf_2   </td><td>jogf_2-expt_12-day0</td></tr>\n",
       "\t<tr><td>HPSI0214i-pelm_3   </td><td>pelm_3-expt_12-day0</td></tr>\n",
       "\t<tr><td>HPSI0114i-vass_1   </td><td>vass_1-expt_12-day0</td></tr>\n",
       "\t<tr><td>HPSI0214i-wibj_2   </td><td>wibj_2-expt_12-day0</td></tr>\n",
       "\t<tr><td>HPSI0114i-zapk_3   </td><td>zapk_3-expt_12-day0</td></tr>\n",
       "</tbody>\n",
       "</table>\n"
      ],
      "text/latex": [
       "\\begin{tabular}{r|ll}\n",
       "\t HPSI0214i-heth\\_1      & heth\\_1-expt\\_12-day0\\\\\n",
       "\t HPSI1013i-jogf\\_2      & jogf\\_2-expt\\_12-day0\\\\\n",
       "\t HPSI0214i-pelm\\_3      & pelm\\_3-expt\\_12-day0\\\\\n",
       "\t HPSI0114i-vass\\_1      & vass\\_1-expt\\_12-day0\\\\\n",
       "\t HPSI0214i-wibj\\_2      & wibj\\_2-expt\\_12-day0\\\\\n",
       "\t HPSI0114i-zapk\\_3      & zapk\\_3-expt\\_12-day0\\\\\n",
       "\\end{tabular}\n"
      ],
      "text/markdown": [
       "\n",
       "| HPSI0214i-heth_1    | heth_1-expt_12-day0 | \n",
       "| HPSI1013i-jogf_2    | jogf_2-expt_12-day0 | \n",
       "| HPSI0214i-pelm_3    | pelm_3-expt_12-day0 | \n",
       "| HPSI0114i-vass_1    | vass_1-expt_12-day0 | \n",
       "| HPSI0214i-wibj_2    | wibj_2-expt_12-day0 | \n",
       "| HPSI0114i-zapk_3    | zapk_3-expt_12-day0 | \n",
       "\n",
       "\n"
      ],
      "text/plain": [
       "  [,1]             [,2]               \n",
       "1 HPSI0214i-heth_1 heth_1-expt_12-day0\n",
       "2 HPSI1013i-jogf_2 jogf_2-expt_12-day0\n",
       "3 HPSI0214i-pelm_3 pelm_3-expt_12-day0\n",
       "4 HPSI0114i-vass_1 vass_1-expt_12-day0\n",
       "5 HPSI0214i-wibj_2 wibj_2-expt_12-day0\n",
       "6 HPSI0114i-zapk_3 zapk_3-expt_12-day0"
      ]
     },
     "metadata": {},
     "output_type": "display_data"
    }
   ],
   "source": [
    "head(alpha.ips.samples)"
   ]
  },
  {
   "cell_type": "code",
   "execution_count": 28,
   "metadata": {},
   "outputs": [],
   "source": [
    "write.table(alpha.ips.samples, paste0(input_files_dir,\"ips_samples.txt\"), sep = \"\\t\", quote = F, col.names = NA)\n",
    "write.table(alpha.mesendo.samples, paste0(input_files_dir,\"mesendo_samples.txt\"), sep = \"\\t\", quote = F, col.names = NA)\n",
    "write.table(alpha.defendo.samples, paste0(input_files_dir,\"defendo_samples.txt\"), sep = \"\\t\", quote = F, col.names = NA)"
   ]
  },
  {
   "cell_type": "code",
   "execution_count": null,
   "metadata": {},
   "outputs": [],
   "source": [
    "#### feature variant filter files (at each stage, mean eQTLs)"
   ]
  },
  {
   "cell_type": "code",
   "execution_count": 11,
   "metadata": {},
   "outputs": [],
   "source": [
    "leads.mean.ips = read.csv(\"/nfs/leia/research/stegle/acuomo/mean/day0/all_expts/leads.csv\", row.names = 1)\n",
    "leads.mean.mesendo = read.csv(\"/nfs/leia/research/stegle/acuomo/mean/mesendo_est_June20/leads.csv\", row.names = 1)\n",
    "leads.mean.defendo = read.csv(\"/nfs/leia/research/stegle/acuomo/mean/defendo_est_June20/leads.csv\", row.names = 1)"
   ]
  },
  {
   "cell_type": "code",
   "execution_count": 31,
   "metadata": {},
   "outputs": [
    {
     "data": {
      "text/html": [
       "<table>\n",
       "<thead><tr><th scope=col>snp_id</th><th scope=col>feature</th></tr></thead>\n",
       "<tbody>\n",
       "\t<tr><td>5_149826526_C_T       </td><td>ENSG00000164587_RPS14 </td></tr>\n",
       "\t<tr><td>11_57283988_C_T       </td><td>ENSG00000134809_TIMM10</td></tr>\n",
       "\t<tr><td>12_56401085_G_A       </td><td>ENSG00000197728_RPS26 </td></tr>\n",
       "\t<tr><td>17_79634162_T_G       </td><td>ENSG00000214087_ARL16 </td></tr>\n",
       "\t<tr><td>6_31486901_T_C        </td><td>ENSG00000198563_DDX39B</td></tr>\n",
       "\t<tr><td>4_39446549_G_A        </td><td>ENSG00000163682_RPL9  </td></tr>\n",
       "</tbody>\n",
       "</table>\n"
      ],
      "text/latex": [
       "\\begin{tabular}{r|ll}\n",
       " snp\\_id & feature\\\\\n",
       "\\hline\n",
       "\t 5\\_149826526\\_C\\_T    & ENSG00000164587\\_RPS14 \\\\\n",
       "\t 11\\_57283988\\_C\\_T    & ENSG00000134809\\_TIMM10\\\\\n",
       "\t 12\\_56401085\\_G\\_A    & ENSG00000197728\\_RPS26 \\\\\n",
       "\t 17\\_79634162\\_T\\_G    & ENSG00000214087\\_ARL16 \\\\\n",
       "\t 6\\_31486901\\_T\\_C     & ENSG00000198563\\_DDX39B\\\\\n",
       "\t 4\\_39446549\\_G\\_A     & ENSG00000163682\\_RPL9  \\\\\n",
       "\\end{tabular}\n"
      ],
      "text/markdown": [
       "\n",
       "snp_id | feature | \n",
       "|---|---|---|---|---|---|\n",
       "| 5_149826526_C_T        | ENSG00000164587_RPS14  | \n",
       "| 11_57283988_C_T        | ENSG00000134809_TIMM10 | \n",
       "| 12_56401085_G_A        | ENSG00000197728_RPS26  | \n",
       "| 17_79634162_T_G        | ENSG00000214087_ARL16  | \n",
       "| 6_31486901_T_C         | ENSG00000198563_DDX39B | \n",
       "| 4_39446549_G_A         | ENSG00000163682_RPL9   | \n",
       "\n",
       "\n"
      ],
      "text/plain": [
       "  snp_id          feature               \n",
       "1 5_149826526_C_T ENSG00000164587_RPS14 \n",
       "2 11_57283988_C_T ENSG00000134809_TIMM10\n",
       "3 12_56401085_G_A ENSG00000197728_RPS26 \n",
       "4 17_79634162_T_G ENSG00000214087_ARL16 \n",
       "5 6_31486901_T_C  ENSG00000198563_DDX39B\n",
       "6 4_39446549_G_A  ENSG00000163682_RPL9  "
      ]
     },
     "metadata": {},
     "output_type": "display_data"
    }
   ],
   "source": [
    "alpha.ips.fvf = leads.mean.ips[,c(\"snp_id\",\"feature\")]\n",
    "head(alpha.ips.fvf)"
   ]
  },
  {
   "cell_type": "code",
   "execution_count": 32,
   "metadata": {},
   "outputs": [],
   "source": [
    "alpha.mesendo.fvf = leads.mean.mesendo[,c(\"snp_id\",\"feature\")]\n",
    "alpha.defendo.fvf = leads.mean.defendo[,c(\"snp_id\",\"feature\")]"
   ]
  },
  {
   "cell_type": "code",
   "execution_count": 33,
   "metadata": {},
   "outputs": [],
   "source": [
    "write.table(alpha.ips.fvf, paste0(input_files_dir,\"ips_fvf.txt\"), sep = \"\\t\", quote = F, col.names = NA)\n",
    "write.table(alpha.mesendo.fvf, paste0(input_files_dir,\"mesendo_fvf.txt\"), sep = \"\\t\", quote = F, col.names = NA)\n",
    "write.table(alpha.defendo.fvf, paste0(input_files_dir,\"defendo_fvf.txt\"), sep = \"\\t\", quote = F, col.names = NA)"
   ]
  },
  {
   "cell_type": "code",
   "execution_count": null,
   "metadata": {},
   "outputs": [],
   "source": []
  },
  {
   "cell_type": "code",
   "execution_count": null,
   "metadata": {},
   "outputs": [],
   "source": []
  },
  {
   "cell_type": "code",
   "execution_count": null,
   "metadata": {},
   "outputs": [],
   "source": []
  },
  {
   "cell_type": "code",
   "execution_count": 16,
   "metadata": {},
   "outputs": [
    {
     "data": {
      "text/html": [
       "138"
      ],
      "text/latex": [
       "138"
      ],
      "text/markdown": [
       "138"
      ],
      "text/plain": [
       "[1] 138"
      ]
     },
     "metadata": {},
     "output_type": "display_data"
    }
   ],
   "source": [
    "mysce = sce[,sce$day == \"day1\"]\n",
    "mat = table(mysce$donor_short_id, mysce$experiment) \n",
    "ord = which(table(mysce$donor_short_id, mysce$experiment) > 0, arr.ind = T)\n",
    "l = c()\n",
    "for (i in 1:dim(ord)[1]){\n",
    "    l[i] <- paste0(rownames(mat)[ord[i,1]],\"-\",colnames(mat)[ord[i,2]])\n",
    "    }\n",
    "l.day1 = paste0(l,\"-day1\")\n",
    "length(l.day1)"
   ]
  },
  {
   "cell_type": "code",
   "execution_count": 17,
   "metadata": {},
   "outputs": [
    {
     "data": {
      "text/html": [
       "127"
      ],
      "text/latex": [
       "127"
      ],
      "text/markdown": [
       "127"
      ],
      "text/plain": [
       "[1] 127"
      ]
     },
     "metadata": {},
     "output_type": "display_data"
    }
   ],
   "source": [
    "mysce = sce[,sce$day == \"day3\"]\n",
    "mat = table(mysce$donor_short_id, mysce$experiment) \n",
    "ord = which(table(mysce$donor_short_id, mysce$experiment) > 0, arr.ind = T)\n",
    "l = c()\n",
    "for (i in 1:dim(ord)[1]){\n",
    "    l[i] <- paste0(rownames(mat)[ord[i,1]],\"-\",colnames(mat)[ord[i,2]])\n",
    "    }\n",
    "l.day3 = paste0(l,\"-day3\")\n",
    "length(l.day3)"
   ]
  },
  {
   "cell_type": "code",
   "execution_count": null,
   "metadata": {},
   "outputs": [],
   "source": [
    "#### all alphas"
   ]
  },
  {
   "cell_type": "code",
   "execution_count": 7,
   "metadata": {},
   "outputs": [],
   "source": [
    "sceset = sce\n",
    "mysce = sceset[,sceset$day == \"day0\"]\n",
    "mat = table(mysce$donor_short_id, mysce$experiment) \n",
    "ord = which(table(mysce$donor_short_id, mysce$experiment) > 0, arr.ind = T)\n",
    "l = c()\n",
    "for (i in 1:dim(ord)[1]){\n",
    "    l[i] <- paste0(rownames(mat)[ord[i,1]],\"-\",colnames(mat)[ord[i,2]])\n",
    "    }\n",
    "l0 = paste0(l,\"-day0\")\n",
    "mysce = sceset[,sceset$day == \"day1\"]\n",
    "mat = table(mysce$donor_short_id, mysce$experiment) \n",
    "ord = which(table(mysce$donor_short_id, mysce$experiment) > 0, arr.ind = T)\n",
    "l = c()\n",
    "for (i in 1:dim(ord)[1]){\n",
    "    l[i] <- paste0(rownames(mat)[ord[i,1]],\"-\",colnames(mat)[ord[i,2]])\n",
    "    }\n",
    "l1 = paste0(l,\"-day1\")\n",
    "mysce = sceset[,sceset$day == \"day2\"]\n",
    "mat = table(mysce$donor_short_id, mysce$experiment) \n",
    "ord = which(table(mysce$donor_short_id, mysce$experiment) > 0, arr.ind = T)\n",
    "l = c()\n",
    "for (i in 1:dim(ord)[1]){\n",
    "    l[i] <- paste0(rownames(mat)[ord[i,1]],\"-\",colnames(mat)[ord[i,2]])\n",
    "    }\n",
    "l2 = paste0(l,\"-day2\")\n",
    "mysce = sceset[,sceset$day == \"day3\"]\n",
    "mat = table(mysce$donor_short_id, mysce$experiment) \n",
    "ord = which(table(mysce$donor_short_id, mysce$experiment) > 0, arr.ind = T)\n",
    "l = c()\n",
    "for (i in 1:dim(ord)[1]){\n",
    "    l[i] <- paste0(rownames(mat)[ord[i,1]],\"-\",colnames(mat)[ord[i,2]])\n",
    "    }\n",
    "l3 = paste0(l,\"-day3\")\n",
    "l.all <- c(l0,l1,l2,l3)"
   ]
  },
  {
   "cell_type": "code",
   "execution_count": 8,
   "metadata": {},
   "outputs": [],
   "source": [
    "alphas_all = get_alphas_byexpt(sce, nrow(sce), l.all)"
   ]
  },
  {
   "cell_type": "code",
   "execution_count": null,
   "metadata": {},
   "outputs": [],
   "source": [
    "head(alphas_all)"
   ]
  },
  {
   "cell_type": "code",
   "execution_count": 12,
   "metadata": {},
   "outputs": [],
   "source": [
    "write.table(alphas_all, paste0(input_files_dir,\"alphas_pheno.txt\"), sep = \"\\t\", quote = F, col.names = NA)"
   ]
  },
  {
   "cell_type": "code",
   "execution_count": 13,
   "metadata": {},
   "outputs": [],
   "source": [
    "alphas.all.pcs = prcomp(t(alphas_all))$x[,1:10]"
   ]
  },
  {
   "cell_type": "code",
   "execution_count": 14,
   "metadata": {},
   "outputs": [],
   "source": [
    "write.table(alphas.all.pcs, paste0(input_files_dir,\"alphas_covs.txt\"), sep = \"\\t\", quote = F, col.names = NA)"
   ]
  },
  {
   "cell_type": "code",
   "execution_count": 17,
   "metadata": {},
   "outputs": [],
   "source": [
    "alphas.all.samples = make_sample_mapping(alphas_all, sce)"
   ]
  },
  {
   "cell_type": "code",
   "execution_count": 18,
   "metadata": {},
   "outputs": [],
   "source": [
    "write.table(alphas.all.samples, paste0(input_files_dir,\"alphas_samples.txt\"), sep = \"\\t\", quote = F, col.names = NA)"
   ]
  },
  {
   "cell_type": "code",
   "execution_count": 37,
   "metadata": {},
   "outputs": [],
   "source": [
    "all.leads = rbind(leads.mean.ips, leads.mean.mesendo, leads.mean.defendo)\n",
    "all.leads = all.leads[order(all.leads$global_corr_p_value),]\n",
    "# all.leads = all.leads[-which(duplicated(all.leads$feature)),]"
   ]
  },
  {
   "cell_type": "code",
   "execution_count": 38,
   "metadata": {},
   "outputs": [
    {
     "data": {
      "text/html": [
       "<table>\n",
       "<thead><tr><th></th><th scope=col>snp_id</th><th scope=col>feature</th></tr></thead>\n",
       "<tbody>\n",
       "\t<tr><th scope=row>21765</th><td>19_7710920_G_A        </td><td>ENSG00000076924_XAB2  </td></tr>\n",
       "\t<tr><th scope=row>10841</th><td>19_8387207_G_A        </td><td>ENSG00000233927_RPS28 </td></tr>\n",
       "\t<tr><th scope=row>21766</th><td>7_55802063_T_C        </td><td>ENSG00000226278_PSPHP1</td></tr>\n",
       "\t<tr><th scope=row>1</th><td>5_149826526_C_T       </td><td>ENSG00000164587_RPS14 </td></tr>\n",
       "\t<tr><th scope=row>10842</th><td>4_39446549_G_A        </td><td>ENSG00000163682_RPL9  </td></tr>\n",
       "\t<tr><th scope=row>21767</th><td>17_7207964_A_C        </td><td>ENSG00000132507_EIF5A </td></tr>\n",
       "</tbody>\n",
       "</table>\n"
      ],
      "text/latex": [
       "\\begin{tabular}{r|ll}\n",
       "  & snp\\_id & feature\\\\\n",
       "\\hline\n",
       "\t21765 & 19\\_7710920\\_G\\_A     & ENSG00000076924\\_XAB2  \\\\\n",
       "\t10841 & 19\\_8387207\\_G\\_A     & ENSG00000233927\\_RPS28 \\\\\n",
       "\t21766 & 7\\_55802063\\_T\\_C     & ENSG00000226278\\_PSPHP1\\\\\n",
       "\t1 & 5\\_149826526\\_C\\_T    & ENSG00000164587\\_RPS14 \\\\\n",
       "\t10842 & 4\\_39446549\\_G\\_A     & ENSG00000163682\\_RPL9  \\\\\n",
       "\t21767 & 17\\_7207964\\_A\\_C     & ENSG00000132507\\_EIF5A \\\\\n",
       "\\end{tabular}\n"
      ],
      "text/markdown": [
       "\n",
       "| <!--/--> | snp_id | feature | \n",
       "|---|---|---|---|---|---|\n",
       "| 21765 | 19_7710920_G_A         | ENSG00000076924_XAB2   | \n",
       "| 10841 | 19_8387207_G_A         | ENSG00000233927_RPS28  | \n",
       "| 21766 | 7_55802063_T_C         | ENSG00000226278_PSPHP1 | \n",
       "| 1 | 5_149826526_C_T        | ENSG00000164587_RPS14  | \n",
       "| 10842 | 4_39446549_G_A         | ENSG00000163682_RPL9   | \n",
       "| 21767 | 17_7207964_A_C         | ENSG00000132507_EIF5A  | \n",
       "\n",
       "\n"
      ],
      "text/plain": [
       "      snp_id          feature               \n",
       "21765 19_7710920_G_A  ENSG00000076924_XAB2  \n",
       "10841 19_8387207_G_A  ENSG00000233927_RPS28 \n",
       "21766 7_55802063_T_C  ENSG00000226278_PSPHP1\n",
       "1     5_149826526_C_T ENSG00000164587_RPS14 \n",
       "10842 4_39446549_G_A  ENSG00000163682_RPL9  \n",
       "21767 17_7207964_A_C  ENSG00000132507_EIF5A "
      ]
     },
     "metadata": {},
     "output_type": "display_data"
    }
   ],
   "source": [
    "alphas.all.fvf = all.leads[,c(\"snp_id\",\"feature\")]\n",
    "head(alphas.all.fvf)"
   ]
  },
  {
   "cell_type": "code",
   "execution_count": 39,
   "metadata": {},
   "outputs": [],
   "source": [
    "write.table(alphas.all.fvf, paste0(input_files_dir,\"alphas_fvf_all.txt\"), sep = \"\\t\", quote = F, col.names = NA)"
   ]
  },
  {
   "cell_type": "code",
   "execution_count": null,
   "metadata": {},
   "outputs": [],
   "source": []
  },
  {
   "cell_type": "code",
   "execution_count": null,
   "metadata": {},
   "outputs": [],
   "source": []
  },
  {
   "cell_type": "code",
   "execution_count": 25,
   "metadata": {},
   "outputs": [],
   "source": [
    "get_alphas_noday <- function(sceset, ngenes, l){\n",
    "    n = length(l)\n",
    "    alphas <- matrix(0,nrow = ngenes, ncol = n)\n",
    "    for (i in 1:n){\n",
    "        don = gsub(\"*-.*\",\"\",l[i])\n",
    "        expt = gsub(\".*-\",\"\",l[i])\n",
    "        sc <- logcounts(sceset)[,sceset$donor_short_id == don & sceset$experiment == expt]\n",
    "        c = 2 ** sc - 1\n",
    "        if (length(c) == nrow(sceset)) {\n",
    "            m <- c\n",
    "            v <- c\n",
    "        }\n",
    "        else {\n",
    "            m <- rowMeans(c)\n",
    "            v <- apply(c,1,var)\n",
    "        }\n",
    "        y.loess <- loess(log2(v+1) ~ log2(m+1), span = 0.75, data.frame(x = log2(m+1), y = log2(v+1)))\n",
    "        y.predict <- predict(y.loess, data.frame(x = log2(m+1)))\n",
    "        alphas[,i] = log2(v+1) - y.predict\n",
    "    }\n",
    "    rownames(alphas) = rownames(sceset)\n",
    "    colnames(alphas) = l\n",
    "    alphas\n",
    "}"
   ]
  },
  {
   "cell_type": "code",
   "execution_count": 26,
   "metadata": {},
   "outputs": [],
   "source": [
    "mysce = sce\n",
    "mat = table(mysce$donor_short_id, mysce$experiment) \n",
    "ord = which(table(mysce$donor_short_id, mysce$experiment) > 0, arr.ind = T)\n",
    "l = c()\n",
    "for (i in 1:dim(ord)[1]){\n",
    "    l[i] <- paste0(rownames(mat)[ord[i,1]],\"-\",colnames(mat)[ord[i,2]])\n",
    "    }"
   ]
  },
  {
   "cell_type": "code",
   "execution_count": 27,
   "metadata": {},
   "outputs": [
    {
     "data": {
      "text/html": [
       "<ol class=list-inline>\n",
       "\t<li>'fafq_1-expt_09'</li>\n",
       "\t<li>'hiaf_2-expt_09'</li>\n",
       "\t<li>'iisa_3-expt_09'</li>\n",
       "\t<li>'joxm_1-expt_09'</li>\n",
       "\t<li>'lexy_1-expt_09'</li>\n",
       "\t<li>'wuye_2-expt_09'</li>\n",
       "\t<li>'fafq_1-expt_10'</li>\n",
       "\t<li>'garx_2-expt_10'</li>\n",
       "\t<li>'hayt_1-expt_10'</li>\n",
       "\t<li>'sebz_1-expt_10'</li>\n",
       "\t<li>'sojd_3-expt_10'</li>\n",
       "\t<li>'wopl_1-expt_10'</li>\n",
       "\t<li>'heth_1-expt_12'</li>\n",
       "\t<li>'jogf_2-expt_12'</li>\n",
       "\t<li>'pelm_3-expt_12'</li>\n",
       "\t<li>'vass_1-expt_12'</li>\n",
       "\t<li>'wibj_2-expt_12'</li>\n",
       "\t<li>'zapk_3-expt_12'</li>\n",
       "\t<li>'oaqd_3-expt_18'</li>\n",
       "\t<li>'paab_4-expt_18'</li>\n",
       "\t<li>'sita_1-expt_18'</li>\n",
       "\t<li>'toss_3-expt_18'</li>\n",
       "\t<li>'zoio_2-expt_18'</li>\n",
       "\t<li>'fasu_2-expt_20'</li>\n",
       "\t<li>'iudw_4-expt_20'</li>\n",
       "\t<li>'kajh_3-expt_20'</li>\n",
       "\t<li>'tavh_2-expt_20'</li>\n",
       "\t<li>'tout_1-expt_20'</li>\n",
       "\t<li>'dixh_2-expt_21'</li>\n",
       "\t<li>'fawm_2-expt_21'</li>\n",
       "\t<li>'koqx_1-expt_21'</li>\n",
       "\t<li>'naju_1-expt_21'</li>\n",
       "\t<li>'oebj_1-expt_21'</li>\n",
       "\t<li>'wigw_2-expt_21'</li>\n",
       "\t<li>'eoxi_6-expt_22'</li>\n",
       "\t<li>'fawm_2-expt_22'</li>\n",
       "\t<li>'iudw_4-expt_22'</li>\n",
       "\t<li>'oebj_1-expt_22'</li>\n",
       "\t<li>'oojs_1-expt_22'</li>\n",
       "\t<li>'pulk_1-expt_22'</li>\n",
       "\t<li>'guyj_2-expt_23'</li>\n",
       "\t<li>'pulk_1-expt_23'</li>\n",
       "\t<li>'qayj_3-expt_23'</li>\n",
       "\t<li>'seru_1-expt_23'</li>\n",
       "\t<li>'babz_3-expt_24'</li>\n",
       "\t<li>'guyj_2-expt_24'</li>\n",
       "\t<li>'iisa_1-expt_24'</li>\n",
       "\t<li>'oikd_2-expt_24'</li>\n",
       "\t<li>'walu_1-expt_24'</li>\n",
       "\t<li>'letw_1-expt_27'</li>\n",
       "\t<li>'oilg_3-expt_27'</li>\n",
       "\t<li>'quls_2-expt_27'</li>\n",
       "\t<li>'rutc_2-expt_27'</li>\n",
       "\t<li>'sohd_3-expt_27'</li>\n",
       "\t<li>'vazt_1-expt_27'</li>\n",
       "\t<li>'iiyk_4-expt_28'</li>\n",
       "\t<li>'laey_4-expt_28'</li>\n",
       "\t<li>'letw_1-expt_28'</li>\n",
       "\t<li>'miaj_6-expt_28'</li>\n",
       "\t<li>'poih_4-expt_28'</li>\n",
       "\t<li>'rutc_2-expt_28'</li>\n",
       "\t<li>'aowh_2-expt_29'</li>\n",
       "\t<li>'keui_1-expt_29'</li>\n",
       "\t<li>'meue_4-expt_29'</li>\n",
       "\t<li>'naah_2-expt_29'</li>\n",
       "\t<li>'poih_4-expt_29'</li>\n",
       "\t<li>'vils_1-expt_29'</li>\n",
       "\t<li>'aowh_2-expt_30'</li>\n",
       "\t<li>'oicx_6-expt_30'</li>\n",
       "\t<li>'sehl_6-expt_30'</li>\n",
       "\t<li>'suop_5-expt_30'</li>\n",
       "\t<li>'wahn_1-expt_30'</li>\n",
       "\t<li>'wibj_2-expt_30'</li>\n",
       "\t<li>'cicb_2-expt_31'</li>\n",
       "\t<li>'cuhk_2-expt_31'</li>\n",
       "\t<li>'hegp_3-expt_31'</li>\n",
       "\t<li>'lepk_1-expt_31'</li>\n",
       "\t<li>'ueah_1-expt_31'</li>\n",
       "\t<li>'veku_2-expt_31'</li>\n",
       "\t<li>'guss_1-expt_32'</li>\n",
       "\t<li>'lepk_1-expt_32'</li>\n",
       "\t<li>'mita_2-expt_32'</li>\n",
       "\t<li>'nocf_2-expt_32'</li>\n",
       "\t<li>'oibg_1-expt_32'</li>\n",
       "\t<li>'datg_2-expt_33'</li>\n",
       "\t<li>'feec_2-expt_33'</li>\n",
       "\t<li>'guss_1-expt_33'</li>\n",
       "\t<li>'nudd_1-expt_33'</li>\n",
       "\t<li>'paab_4-expt_33'</li>\n",
       "\t<li>'qorq_2-expt_33'</li>\n",
       "\t<li>'bokz_5-expt_34'</li>\n",
       "\t<li>'datg_2-expt_34'</li>\n",
       "\t<li>'guss_1-expt_34'</li>\n",
       "\t<li>'nudd_1-expt_34'</li>\n",
       "\t<li>'sehl_6-expt_34'</li>\n",
       "\t<li>'fejf_2-expt_35'</li>\n",
       "\t<li>'nocf_2-expt_35'</li>\n",
       "\t<li>'nufh_3-expt_35'</li>\n",
       "\t<li>'wahn_1-expt_35'</li>\n",
       "\t<li>'wigw_2-expt_35'</li>\n",
       "\t<li>'zagm_1-expt_35'</li>\n",
       "\t<li>'eiwy_1-expt_36'</li>\n",
       "\t<li>'kajh_3-expt_36'</li>\n",
       "\t<li>'lise_3-expt_36'</li>\n",
       "\t<li>'naju_1-expt_36'</li>\n",
       "\t<li>'puie_5-expt_36'</li>\n",
       "\t<li>'qoog_4-expt_36'</li>\n",
       "\t<li>'iezw_2-expt_37'</li>\n",
       "\t<li>'kolf_2-expt_37'</li>\n",
       "\t<li>'seru_1-expt_37'</li>\n",
       "\t<li>'uenn_3-expt_37'</li>\n",
       "\t<li>'wegi_1-expt_37'</li>\n",
       "\t<li>'zerv_8-expt_37'</li>\n",
       "\t<li>'qaqx_1-expt_38'</li>\n",
       "\t<li>'rayr_1-expt_38'</li>\n",
       "\t<li>'sojd_3-expt_38'</li>\n",
       "\t<li>'tolg_6-expt_38'</li>\n",
       "\t<li>'vass_1-expt_38'</li>\n",
       "\t<li>'yemz_1-expt_38'</li>\n",
       "\t<li>'bezi_1-expt_39'</li>\n",
       "\t<li>'heth_1-expt_39'</li>\n",
       "\t<li>'iisa_3-expt_39'</li>\n",
       "\t<li>'joxm_1-expt_39'</li>\n",
       "\t<li>'kucg_2-expt_39'</li>\n",
       "\t<li>'wuye_2-expt_39'</li>\n",
       "\t<li>'kefb_1-expt_40'</li>\n",
       "\t<li>'nosn_6-expt_40'</li>\n",
       "\t<li>'pelm_3-expt_40'</li>\n",
       "\t<li>'tout_1-expt_40'</li>\n",
       "\t<li>'zapk_3-expt_40'</li>\n",
       "\t<li>'eipl_1-expt_41'</li>\n",
       "\t<li>'hayt_1-expt_41'</li>\n",
       "\t<li>'hoik_1-expt_41'</li>\n",
       "\t<li>'pahc_4-expt_41'</li>\n",
       "\t<li>'xojn_3-expt_41'</li>\n",
       "\t<li>'yoch_6-expt_41'</li>\n",
       "\t<li>'bima_1-expt_42'</li>\n",
       "\t<li>'fiaj_3-expt_42'</li>\n",
       "\t<li>'giju_2-expt_42'</li>\n",
       "\t<li>'qihv_1-expt_42'</li>\n",
       "\t<li>'vuna_3-expt_42'</li>\n",
       "\t<li>'zihe_1-expt_42'</li>\n",
       "\t<li>'aoxv_3-expt_43'</li>\n",
       "\t<li>'eesb_1-expt_43'</li>\n",
       "\t<li>'kuxp_1-expt_43'</li>\n",
       "\t<li>'melw_2-expt_43'</li>\n",
       "\t<li>'qunz_3-expt_43'</li>\n",
       "\t<li>'yelp_3-expt_43'</li>\n",
       "\t<li>'jejf_2-expt_44'</li>\n",
       "\t<li>'juuy_2-expt_44'</li>\n",
       "\t<li>'pipw_5-expt_44'</li>\n",
       "\t<li>'qehq_3-expt_44'</li>\n",
       "\t<li>'toco_5-expt_44'</li>\n",
       "\t<li>'uilk_3-expt_44'</li>\n",
       "\t<li>'ciwj_2-expt_45'</li>\n",
       "\t<li>'hajc_1-expt_45'</li>\n",
       "\t<li>'hecn_3-expt_45'</li>\n",
       "\t<li>'kuco_1-expt_45'</li>\n",
       "\t<li>'liqa_1-expt_45'</li>\n",
       "\t<li>'tert_1-expt_45'</li>\n",
       "</ol>\n"
      ],
      "text/latex": [
       "\\begin{enumerate*}\n",
       "\\item 'fafq\\_1-expt\\_09'\n",
       "\\item 'hiaf\\_2-expt\\_09'\n",
       "\\item 'iisa\\_3-expt\\_09'\n",
       "\\item 'joxm\\_1-expt\\_09'\n",
       "\\item 'lexy\\_1-expt\\_09'\n",
       "\\item 'wuye\\_2-expt\\_09'\n",
       "\\item 'fafq\\_1-expt\\_10'\n",
       "\\item 'garx\\_2-expt\\_10'\n",
       "\\item 'hayt\\_1-expt\\_10'\n",
       "\\item 'sebz\\_1-expt\\_10'\n",
       "\\item 'sojd\\_3-expt\\_10'\n",
       "\\item 'wopl\\_1-expt\\_10'\n",
       "\\item 'heth\\_1-expt\\_12'\n",
       "\\item 'jogf\\_2-expt\\_12'\n",
       "\\item 'pelm\\_3-expt\\_12'\n",
       "\\item 'vass\\_1-expt\\_12'\n",
       "\\item 'wibj\\_2-expt\\_12'\n",
       "\\item 'zapk\\_3-expt\\_12'\n",
       "\\item 'oaqd\\_3-expt\\_18'\n",
       "\\item 'paab\\_4-expt\\_18'\n",
       "\\item 'sita\\_1-expt\\_18'\n",
       "\\item 'toss\\_3-expt\\_18'\n",
       "\\item 'zoio\\_2-expt\\_18'\n",
       "\\item 'fasu\\_2-expt\\_20'\n",
       "\\item 'iudw\\_4-expt\\_20'\n",
       "\\item 'kajh\\_3-expt\\_20'\n",
       "\\item 'tavh\\_2-expt\\_20'\n",
       "\\item 'tout\\_1-expt\\_20'\n",
       "\\item 'dixh\\_2-expt\\_21'\n",
       "\\item 'fawm\\_2-expt\\_21'\n",
       "\\item 'koqx\\_1-expt\\_21'\n",
       "\\item 'naju\\_1-expt\\_21'\n",
       "\\item 'oebj\\_1-expt\\_21'\n",
       "\\item 'wigw\\_2-expt\\_21'\n",
       "\\item 'eoxi\\_6-expt\\_22'\n",
       "\\item 'fawm\\_2-expt\\_22'\n",
       "\\item 'iudw\\_4-expt\\_22'\n",
       "\\item 'oebj\\_1-expt\\_22'\n",
       "\\item 'oojs\\_1-expt\\_22'\n",
       "\\item 'pulk\\_1-expt\\_22'\n",
       "\\item 'guyj\\_2-expt\\_23'\n",
       "\\item 'pulk\\_1-expt\\_23'\n",
       "\\item 'qayj\\_3-expt\\_23'\n",
       "\\item 'seru\\_1-expt\\_23'\n",
       "\\item 'babz\\_3-expt\\_24'\n",
       "\\item 'guyj\\_2-expt\\_24'\n",
       "\\item 'iisa\\_1-expt\\_24'\n",
       "\\item 'oikd\\_2-expt\\_24'\n",
       "\\item 'walu\\_1-expt\\_24'\n",
       "\\item 'letw\\_1-expt\\_27'\n",
       "\\item 'oilg\\_3-expt\\_27'\n",
       "\\item 'quls\\_2-expt\\_27'\n",
       "\\item 'rutc\\_2-expt\\_27'\n",
       "\\item 'sohd\\_3-expt\\_27'\n",
       "\\item 'vazt\\_1-expt\\_27'\n",
       "\\item 'iiyk\\_4-expt\\_28'\n",
       "\\item 'laey\\_4-expt\\_28'\n",
       "\\item 'letw\\_1-expt\\_28'\n",
       "\\item 'miaj\\_6-expt\\_28'\n",
       "\\item 'poih\\_4-expt\\_28'\n",
       "\\item 'rutc\\_2-expt\\_28'\n",
       "\\item 'aowh\\_2-expt\\_29'\n",
       "\\item 'keui\\_1-expt\\_29'\n",
       "\\item 'meue\\_4-expt\\_29'\n",
       "\\item 'naah\\_2-expt\\_29'\n",
       "\\item 'poih\\_4-expt\\_29'\n",
       "\\item 'vils\\_1-expt\\_29'\n",
       "\\item 'aowh\\_2-expt\\_30'\n",
       "\\item 'oicx\\_6-expt\\_30'\n",
       "\\item 'sehl\\_6-expt\\_30'\n",
       "\\item 'suop\\_5-expt\\_30'\n",
       "\\item 'wahn\\_1-expt\\_30'\n",
       "\\item 'wibj\\_2-expt\\_30'\n",
       "\\item 'cicb\\_2-expt\\_31'\n",
       "\\item 'cuhk\\_2-expt\\_31'\n",
       "\\item 'hegp\\_3-expt\\_31'\n",
       "\\item 'lepk\\_1-expt\\_31'\n",
       "\\item 'ueah\\_1-expt\\_31'\n",
       "\\item 'veku\\_2-expt\\_31'\n",
       "\\item 'guss\\_1-expt\\_32'\n",
       "\\item 'lepk\\_1-expt\\_32'\n",
       "\\item 'mita\\_2-expt\\_32'\n",
       "\\item 'nocf\\_2-expt\\_32'\n",
       "\\item 'oibg\\_1-expt\\_32'\n",
       "\\item 'datg\\_2-expt\\_33'\n",
       "\\item 'feec\\_2-expt\\_33'\n",
       "\\item 'guss\\_1-expt\\_33'\n",
       "\\item 'nudd\\_1-expt\\_33'\n",
       "\\item 'paab\\_4-expt\\_33'\n",
       "\\item 'qorq\\_2-expt\\_33'\n",
       "\\item 'bokz\\_5-expt\\_34'\n",
       "\\item 'datg\\_2-expt\\_34'\n",
       "\\item 'guss\\_1-expt\\_34'\n",
       "\\item 'nudd\\_1-expt\\_34'\n",
       "\\item 'sehl\\_6-expt\\_34'\n",
       "\\item 'fejf\\_2-expt\\_35'\n",
       "\\item 'nocf\\_2-expt\\_35'\n",
       "\\item 'nufh\\_3-expt\\_35'\n",
       "\\item 'wahn\\_1-expt\\_35'\n",
       "\\item 'wigw\\_2-expt\\_35'\n",
       "\\item 'zagm\\_1-expt\\_35'\n",
       "\\item 'eiwy\\_1-expt\\_36'\n",
       "\\item 'kajh\\_3-expt\\_36'\n",
       "\\item 'lise\\_3-expt\\_36'\n",
       "\\item 'naju\\_1-expt\\_36'\n",
       "\\item 'puie\\_5-expt\\_36'\n",
       "\\item 'qoog\\_4-expt\\_36'\n",
       "\\item 'iezw\\_2-expt\\_37'\n",
       "\\item 'kolf\\_2-expt\\_37'\n",
       "\\item 'seru\\_1-expt\\_37'\n",
       "\\item 'uenn\\_3-expt\\_37'\n",
       "\\item 'wegi\\_1-expt\\_37'\n",
       "\\item 'zerv\\_8-expt\\_37'\n",
       "\\item 'qaqx\\_1-expt\\_38'\n",
       "\\item 'rayr\\_1-expt\\_38'\n",
       "\\item 'sojd\\_3-expt\\_38'\n",
       "\\item 'tolg\\_6-expt\\_38'\n",
       "\\item 'vass\\_1-expt\\_38'\n",
       "\\item 'yemz\\_1-expt\\_38'\n",
       "\\item 'bezi\\_1-expt\\_39'\n",
       "\\item 'heth\\_1-expt\\_39'\n",
       "\\item 'iisa\\_3-expt\\_39'\n",
       "\\item 'joxm\\_1-expt\\_39'\n",
       "\\item 'kucg\\_2-expt\\_39'\n",
       "\\item 'wuye\\_2-expt\\_39'\n",
       "\\item 'kefb\\_1-expt\\_40'\n",
       "\\item 'nosn\\_6-expt\\_40'\n",
       "\\item 'pelm\\_3-expt\\_40'\n",
       "\\item 'tout\\_1-expt\\_40'\n",
       "\\item 'zapk\\_3-expt\\_40'\n",
       "\\item 'eipl\\_1-expt\\_41'\n",
       "\\item 'hayt\\_1-expt\\_41'\n",
       "\\item 'hoik\\_1-expt\\_41'\n",
       "\\item 'pahc\\_4-expt\\_41'\n",
       "\\item 'xojn\\_3-expt\\_41'\n",
       "\\item 'yoch\\_6-expt\\_41'\n",
       "\\item 'bima\\_1-expt\\_42'\n",
       "\\item 'fiaj\\_3-expt\\_42'\n",
       "\\item 'giju\\_2-expt\\_42'\n",
       "\\item 'qihv\\_1-expt\\_42'\n",
       "\\item 'vuna\\_3-expt\\_42'\n",
       "\\item 'zihe\\_1-expt\\_42'\n",
       "\\item 'aoxv\\_3-expt\\_43'\n",
       "\\item 'eesb\\_1-expt\\_43'\n",
       "\\item 'kuxp\\_1-expt\\_43'\n",
       "\\item 'melw\\_2-expt\\_43'\n",
       "\\item 'qunz\\_3-expt\\_43'\n",
       "\\item 'yelp\\_3-expt\\_43'\n",
       "\\item 'jejf\\_2-expt\\_44'\n",
       "\\item 'juuy\\_2-expt\\_44'\n",
       "\\item 'pipw\\_5-expt\\_44'\n",
       "\\item 'qehq\\_3-expt\\_44'\n",
       "\\item 'toco\\_5-expt\\_44'\n",
       "\\item 'uilk\\_3-expt\\_44'\n",
       "\\item 'ciwj\\_2-expt\\_45'\n",
       "\\item 'hajc\\_1-expt\\_45'\n",
       "\\item 'hecn\\_3-expt\\_45'\n",
       "\\item 'kuco\\_1-expt\\_45'\n",
       "\\item 'liqa\\_1-expt\\_45'\n",
       "\\item 'tert\\_1-expt\\_45'\n",
       "\\end{enumerate*}\n"
      ],
      "text/markdown": [
       "1. 'fafq_1-expt_09'\n",
       "2. 'hiaf_2-expt_09'\n",
       "3. 'iisa_3-expt_09'\n",
       "4. 'joxm_1-expt_09'\n",
       "5. 'lexy_1-expt_09'\n",
       "6. 'wuye_2-expt_09'\n",
       "7. 'fafq_1-expt_10'\n",
       "8. 'garx_2-expt_10'\n",
       "9. 'hayt_1-expt_10'\n",
       "10. 'sebz_1-expt_10'\n",
       "11. 'sojd_3-expt_10'\n",
       "12. 'wopl_1-expt_10'\n",
       "13. 'heth_1-expt_12'\n",
       "14. 'jogf_2-expt_12'\n",
       "15. 'pelm_3-expt_12'\n",
       "16. 'vass_1-expt_12'\n",
       "17. 'wibj_2-expt_12'\n",
       "18. 'zapk_3-expt_12'\n",
       "19. 'oaqd_3-expt_18'\n",
       "20. 'paab_4-expt_18'\n",
       "21. 'sita_1-expt_18'\n",
       "22. 'toss_3-expt_18'\n",
       "23. 'zoio_2-expt_18'\n",
       "24. 'fasu_2-expt_20'\n",
       "25. 'iudw_4-expt_20'\n",
       "26. 'kajh_3-expt_20'\n",
       "27. 'tavh_2-expt_20'\n",
       "28. 'tout_1-expt_20'\n",
       "29. 'dixh_2-expt_21'\n",
       "30. 'fawm_2-expt_21'\n",
       "31. 'koqx_1-expt_21'\n",
       "32. 'naju_1-expt_21'\n",
       "33. 'oebj_1-expt_21'\n",
       "34. 'wigw_2-expt_21'\n",
       "35. 'eoxi_6-expt_22'\n",
       "36. 'fawm_2-expt_22'\n",
       "37. 'iudw_4-expt_22'\n",
       "38. 'oebj_1-expt_22'\n",
       "39. 'oojs_1-expt_22'\n",
       "40. 'pulk_1-expt_22'\n",
       "41. 'guyj_2-expt_23'\n",
       "42. 'pulk_1-expt_23'\n",
       "43. 'qayj_3-expt_23'\n",
       "44. 'seru_1-expt_23'\n",
       "45. 'babz_3-expt_24'\n",
       "46. 'guyj_2-expt_24'\n",
       "47. 'iisa_1-expt_24'\n",
       "48. 'oikd_2-expt_24'\n",
       "49. 'walu_1-expt_24'\n",
       "50. 'letw_1-expt_27'\n",
       "51. 'oilg_3-expt_27'\n",
       "52. 'quls_2-expt_27'\n",
       "53. 'rutc_2-expt_27'\n",
       "54. 'sohd_3-expt_27'\n",
       "55. 'vazt_1-expt_27'\n",
       "56. 'iiyk_4-expt_28'\n",
       "57. 'laey_4-expt_28'\n",
       "58. 'letw_1-expt_28'\n",
       "59. 'miaj_6-expt_28'\n",
       "60. 'poih_4-expt_28'\n",
       "61. 'rutc_2-expt_28'\n",
       "62. 'aowh_2-expt_29'\n",
       "63. 'keui_1-expt_29'\n",
       "64. 'meue_4-expt_29'\n",
       "65. 'naah_2-expt_29'\n",
       "66. 'poih_4-expt_29'\n",
       "67. 'vils_1-expt_29'\n",
       "68. 'aowh_2-expt_30'\n",
       "69. 'oicx_6-expt_30'\n",
       "70. 'sehl_6-expt_30'\n",
       "71. 'suop_5-expt_30'\n",
       "72. 'wahn_1-expt_30'\n",
       "73. 'wibj_2-expt_30'\n",
       "74. 'cicb_2-expt_31'\n",
       "75. 'cuhk_2-expt_31'\n",
       "76. 'hegp_3-expt_31'\n",
       "77. 'lepk_1-expt_31'\n",
       "78. 'ueah_1-expt_31'\n",
       "79. 'veku_2-expt_31'\n",
       "80. 'guss_1-expt_32'\n",
       "81. 'lepk_1-expt_32'\n",
       "82. 'mita_2-expt_32'\n",
       "83. 'nocf_2-expt_32'\n",
       "84. 'oibg_1-expt_32'\n",
       "85. 'datg_2-expt_33'\n",
       "86. 'feec_2-expt_33'\n",
       "87. 'guss_1-expt_33'\n",
       "88. 'nudd_1-expt_33'\n",
       "89. 'paab_4-expt_33'\n",
       "90. 'qorq_2-expt_33'\n",
       "91. 'bokz_5-expt_34'\n",
       "92. 'datg_2-expt_34'\n",
       "93. 'guss_1-expt_34'\n",
       "94. 'nudd_1-expt_34'\n",
       "95. 'sehl_6-expt_34'\n",
       "96. 'fejf_2-expt_35'\n",
       "97. 'nocf_2-expt_35'\n",
       "98. 'nufh_3-expt_35'\n",
       "99. 'wahn_1-expt_35'\n",
       "100. 'wigw_2-expt_35'\n",
       "101. 'zagm_1-expt_35'\n",
       "102. 'eiwy_1-expt_36'\n",
       "103. 'kajh_3-expt_36'\n",
       "104. 'lise_3-expt_36'\n",
       "105. 'naju_1-expt_36'\n",
       "106. 'puie_5-expt_36'\n",
       "107. 'qoog_4-expt_36'\n",
       "108. 'iezw_2-expt_37'\n",
       "109. 'kolf_2-expt_37'\n",
       "110. 'seru_1-expt_37'\n",
       "111. 'uenn_3-expt_37'\n",
       "112. 'wegi_1-expt_37'\n",
       "113. 'zerv_8-expt_37'\n",
       "114. 'qaqx_1-expt_38'\n",
       "115. 'rayr_1-expt_38'\n",
       "116. 'sojd_3-expt_38'\n",
       "117. 'tolg_6-expt_38'\n",
       "118. 'vass_1-expt_38'\n",
       "119. 'yemz_1-expt_38'\n",
       "120. 'bezi_1-expt_39'\n",
       "121. 'heth_1-expt_39'\n",
       "122. 'iisa_3-expt_39'\n",
       "123. 'joxm_1-expt_39'\n",
       "124. 'kucg_2-expt_39'\n",
       "125. 'wuye_2-expt_39'\n",
       "126. 'kefb_1-expt_40'\n",
       "127. 'nosn_6-expt_40'\n",
       "128. 'pelm_3-expt_40'\n",
       "129. 'tout_1-expt_40'\n",
       "130. 'zapk_3-expt_40'\n",
       "131. 'eipl_1-expt_41'\n",
       "132. 'hayt_1-expt_41'\n",
       "133. 'hoik_1-expt_41'\n",
       "134. 'pahc_4-expt_41'\n",
       "135. 'xojn_3-expt_41'\n",
       "136. 'yoch_6-expt_41'\n",
       "137. 'bima_1-expt_42'\n",
       "138. 'fiaj_3-expt_42'\n",
       "139. 'giju_2-expt_42'\n",
       "140. 'qihv_1-expt_42'\n",
       "141. 'vuna_3-expt_42'\n",
       "142. 'zihe_1-expt_42'\n",
       "143. 'aoxv_3-expt_43'\n",
       "144. 'eesb_1-expt_43'\n",
       "145. 'kuxp_1-expt_43'\n",
       "146. 'melw_2-expt_43'\n",
       "147. 'qunz_3-expt_43'\n",
       "148. 'yelp_3-expt_43'\n",
       "149. 'jejf_2-expt_44'\n",
       "150. 'juuy_2-expt_44'\n",
       "151. 'pipw_5-expt_44'\n",
       "152. 'qehq_3-expt_44'\n",
       "153. 'toco_5-expt_44'\n",
       "154. 'uilk_3-expt_44'\n",
       "155. 'ciwj_2-expt_45'\n",
       "156. 'hajc_1-expt_45'\n",
       "157. 'hecn_3-expt_45'\n",
       "158. 'kuco_1-expt_45'\n",
       "159. 'liqa_1-expt_45'\n",
       "160. 'tert_1-expt_45'\n",
       "\n",
       "\n"
      ],
      "text/plain": [
       "  [1] \"fafq_1-expt_09\" \"hiaf_2-expt_09\" \"iisa_3-expt_09\" \"joxm_1-expt_09\"\n",
       "  [5] \"lexy_1-expt_09\" \"wuye_2-expt_09\" \"fafq_1-expt_10\" \"garx_2-expt_10\"\n",
       "  [9] \"hayt_1-expt_10\" \"sebz_1-expt_10\" \"sojd_3-expt_10\" \"wopl_1-expt_10\"\n",
       " [13] \"heth_1-expt_12\" \"jogf_2-expt_12\" \"pelm_3-expt_12\" \"vass_1-expt_12\"\n",
       " [17] \"wibj_2-expt_12\" \"zapk_3-expt_12\" \"oaqd_3-expt_18\" \"paab_4-expt_18\"\n",
       " [21] \"sita_1-expt_18\" \"toss_3-expt_18\" \"zoio_2-expt_18\" \"fasu_2-expt_20\"\n",
       " [25] \"iudw_4-expt_20\" \"kajh_3-expt_20\" \"tavh_2-expt_20\" \"tout_1-expt_20\"\n",
       " [29] \"dixh_2-expt_21\" \"fawm_2-expt_21\" \"koqx_1-expt_21\" \"naju_1-expt_21\"\n",
       " [33] \"oebj_1-expt_21\" \"wigw_2-expt_21\" \"eoxi_6-expt_22\" \"fawm_2-expt_22\"\n",
       " [37] \"iudw_4-expt_22\" \"oebj_1-expt_22\" \"oojs_1-expt_22\" \"pulk_1-expt_22\"\n",
       " [41] \"guyj_2-expt_23\" \"pulk_1-expt_23\" \"qayj_3-expt_23\" \"seru_1-expt_23\"\n",
       " [45] \"babz_3-expt_24\" \"guyj_2-expt_24\" \"iisa_1-expt_24\" \"oikd_2-expt_24\"\n",
       " [49] \"walu_1-expt_24\" \"letw_1-expt_27\" \"oilg_3-expt_27\" \"quls_2-expt_27\"\n",
       " [53] \"rutc_2-expt_27\" \"sohd_3-expt_27\" \"vazt_1-expt_27\" \"iiyk_4-expt_28\"\n",
       " [57] \"laey_4-expt_28\" \"letw_1-expt_28\" \"miaj_6-expt_28\" \"poih_4-expt_28\"\n",
       " [61] \"rutc_2-expt_28\" \"aowh_2-expt_29\" \"keui_1-expt_29\" \"meue_4-expt_29\"\n",
       " [65] \"naah_2-expt_29\" \"poih_4-expt_29\" \"vils_1-expt_29\" \"aowh_2-expt_30\"\n",
       " [69] \"oicx_6-expt_30\" \"sehl_6-expt_30\" \"suop_5-expt_30\" \"wahn_1-expt_30\"\n",
       " [73] \"wibj_2-expt_30\" \"cicb_2-expt_31\" \"cuhk_2-expt_31\" \"hegp_3-expt_31\"\n",
       " [77] \"lepk_1-expt_31\" \"ueah_1-expt_31\" \"veku_2-expt_31\" \"guss_1-expt_32\"\n",
       " [81] \"lepk_1-expt_32\" \"mita_2-expt_32\" \"nocf_2-expt_32\" \"oibg_1-expt_32\"\n",
       " [85] \"datg_2-expt_33\" \"feec_2-expt_33\" \"guss_1-expt_33\" \"nudd_1-expt_33\"\n",
       " [89] \"paab_4-expt_33\" \"qorq_2-expt_33\" \"bokz_5-expt_34\" \"datg_2-expt_34\"\n",
       " [93] \"guss_1-expt_34\" \"nudd_1-expt_34\" \"sehl_6-expt_34\" \"fejf_2-expt_35\"\n",
       " [97] \"nocf_2-expt_35\" \"nufh_3-expt_35\" \"wahn_1-expt_35\" \"wigw_2-expt_35\"\n",
       "[101] \"zagm_1-expt_35\" \"eiwy_1-expt_36\" \"kajh_3-expt_36\" \"lise_3-expt_36\"\n",
       "[105] \"naju_1-expt_36\" \"puie_5-expt_36\" \"qoog_4-expt_36\" \"iezw_2-expt_37\"\n",
       "[109] \"kolf_2-expt_37\" \"seru_1-expt_37\" \"uenn_3-expt_37\" \"wegi_1-expt_37\"\n",
       "[113] \"zerv_8-expt_37\" \"qaqx_1-expt_38\" \"rayr_1-expt_38\" \"sojd_3-expt_38\"\n",
       "[117] \"tolg_6-expt_38\" \"vass_1-expt_38\" \"yemz_1-expt_38\" \"bezi_1-expt_39\"\n",
       "[121] \"heth_1-expt_39\" \"iisa_3-expt_39\" \"joxm_1-expt_39\" \"kucg_2-expt_39\"\n",
       "[125] \"wuye_2-expt_39\" \"kefb_1-expt_40\" \"nosn_6-expt_40\" \"pelm_3-expt_40\"\n",
       "[129] \"tout_1-expt_40\" \"zapk_3-expt_40\" \"eipl_1-expt_41\" \"hayt_1-expt_41\"\n",
       "[133] \"hoik_1-expt_41\" \"pahc_4-expt_41\" \"xojn_3-expt_41\" \"yoch_6-expt_41\"\n",
       "[137] \"bima_1-expt_42\" \"fiaj_3-expt_42\" \"giju_2-expt_42\" \"qihv_1-expt_42\"\n",
       "[141] \"vuna_3-expt_42\" \"zihe_1-expt_42\" \"aoxv_3-expt_43\" \"eesb_1-expt_43\"\n",
       "[145] \"kuxp_1-expt_43\" \"melw_2-expt_43\" \"qunz_3-expt_43\" \"yelp_3-expt_43\"\n",
       "[149] \"jejf_2-expt_44\" \"juuy_2-expt_44\" \"pipw_5-expt_44\" \"qehq_3-expt_44\"\n",
       "[153] \"toco_5-expt_44\" \"uilk_3-expt_44\" \"ciwj_2-expt_45\" \"hajc_1-expt_45\"\n",
       "[157] \"hecn_3-expt_45\" \"kuco_1-expt_45\" \"liqa_1-expt_45\" \"tert_1-expt_45\""
      ]
     },
     "metadata": {},
     "output_type": "display_data"
    }
   ],
   "source": [
    "l"
   ]
  },
  {
   "cell_type": "code",
   "execution_count": 28,
   "metadata": {},
   "outputs": [],
   "source": [
    "alphas_noday = get_alphas_noday(sce, nrow(sce), l)"
   ]
  },
  {
   "cell_type": "code",
   "execution_count": 29,
   "metadata": {},
   "outputs": [],
   "source": [
    "write.table(alphas_noday, paste0(input_files_dir,\"noday_pheno.txt\"), sep = \"\\t\", quote = F, col.names = NA)"
   ]
  },
  {
   "cell_type": "code",
   "execution_count": 30,
   "metadata": {},
   "outputs": [],
   "source": [
    "alphas.noday.pcs = prcomp(t(alphas_noday))$x[,1:10]"
   ]
  },
  {
   "cell_type": "code",
   "execution_count": 31,
   "metadata": {},
   "outputs": [],
   "source": [
    "write.table(alphas.noday.pcs, paste0(input_files_dir,\"noday_covs.txt\"), sep = \"\\t\", quote = F, col.names = NA)"
   ]
  },
  {
   "cell_type": "code",
   "execution_count": 32,
   "metadata": {},
   "outputs": [],
   "source": [
    "alphas.noday.samples = make_sample_mapping(alphas_noday, sce)"
   ]
  },
  {
   "cell_type": "code",
   "execution_count": 34,
   "metadata": {},
   "outputs": [
    {
     "data": {
      "text/html": [
       "<table>\n",
       "<tbody>\n",
       "\t<tr><td>HPSI0314i-fafq_1</td><td>fafq_1-expt_09  </td></tr>\n",
       "\t<tr><td>HPSI1013i-hiaf_2</td><td>hiaf_2-expt_09  </td></tr>\n",
       "\t<tr><td>HPSI0114i-iisa_3</td><td>iisa_3-expt_09  </td></tr>\n",
       "\t<tr><td>HPSI0114i-joxm_1</td><td>joxm_1-expt_09  </td></tr>\n",
       "\t<tr><td>HPSI0114i-lexy_1</td><td>lexy_1-expt_09  </td></tr>\n",
       "\t<tr><td>HPSI1013i-wuye_2</td><td>wuye_2-expt_09  </td></tr>\n",
       "</tbody>\n",
       "</table>\n"
      ],
      "text/latex": [
       "\\begin{tabular}{r|ll}\n",
       "\t HPSI0314i-fafq\\_1 & fafq\\_1-expt\\_09\\\\\n",
       "\t HPSI1013i-hiaf\\_2 & hiaf\\_2-expt\\_09\\\\\n",
       "\t HPSI0114i-iisa\\_3 & iisa\\_3-expt\\_09\\\\\n",
       "\t HPSI0114i-joxm\\_1 & joxm\\_1-expt\\_09\\\\\n",
       "\t HPSI0114i-lexy\\_1 & lexy\\_1-expt\\_09\\\\\n",
       "\t HPSI1013i-wuye\\_2 & wuye\\_2-expt\\_09\\\\\n",
       "\\end{tabular}\n"
      ],
      "text/markdown": [
       "\n",
       "| HPSI0314i-fafq_1 | fafq_1-expt_09   | \n",
       "| HPSI1013i-hiaf_2 | hiaf_2-expt_09   | \n",
       "| HPSI0114i-iisa_3 | iisa_3-expt_09   | \n",
       "| HPSI0114i-joxm_1 | joxm_1-expt_09   | \n",
       "| HPSI0114i-lexy_1 | lexy_1-expt_09   | \n",
       "| HPSI1013i-wuye_2 | wuye_2-expt_09   | \n",
       "\n",
       "\n"
      ],
      "text/plain": [
       "  [,1]             [,2]          \n",
       "1 HPSI0314i-fafq_1 fafq_1-expt_09\n",
       "2 HPSI1013i-hiaf_2 hiaf_2-expt_09\n",
       "3 HPSI0114i-iisa_3 iisa_3-expt_09\n",
       "4 HPSI0114i-joxm_1 joxm_1-expt_09\n",
       "5 HPSI0114i-lexy_1 lexy_1-expt_09\n",
       "6 HPSI1013i-wuye_2 wuye_2-expt_09"
      ]
     },
     "metadata": {},
     "output_type": "display_data"
    }
   ],
   "source": [
    "head(alphas.noday.samples)"
   ]
  },
  {
   "cell_type": "code",
   "execution_count": 35,
   "metadata": {},
   "outputs": [],
   "source": [
    "write.table(alphas.noday.samples, paste0(input_files_dir,\"noday_samples.txt\"), sep = \"\\t\", quote = F, col.names = NA)"
   ]
  },
  {
   "cell_type": "code",
   "execution_count": 40,
   "metadata": {},
   "outputs": [],
   "source": [
    "write.table(alphas.all.fvf, paste0(input_files_dir,\"noday_fvf_all.txt\"), sep = \"\\t\", quote = F, col.names = NA)"
   ]
  },
  {
   "cell_type": "code",
   "execution_count": null,
   "metadata": {},
   "outputs": [],
   "source": []
  }
 ],
 "metadata": {
  "kernelspec": {
   "display_name": "R",
   "language": "R",
   "name": "ir"
  },
  "language_info": {
   "codemirror_mode": "r",
   "file_extension": ".r",
   "mimetype": "text/x-r-source",
   "name": "R",
   "pygments_lexer": "r",
   "version": "3.4.3"
  }
 },
 "nbformat": 4,
 "nbformat_minor": 2
}
