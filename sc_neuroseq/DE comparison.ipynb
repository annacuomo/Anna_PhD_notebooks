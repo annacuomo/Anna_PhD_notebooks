{
 "cells": [
  {
   "cell_type": "code",
   "execution_count": 1,
   "metadata": {},
   "outputs": [],
   "source": [
    "filename = '/nfs/leia/research/stegle/dseaton/hipsci/singlecell_neuroseq/data/expression_associations.f_cells.tsv'"
   ]
  },
  {
   "cell_type": "code",
   "execution_count": 2,
   "metadata": {},
   "outputs": [
    {
     "data": {
      "text/html": [
       "<table>\n",
       "<thead><tr><th scope=col>ensembl_gene_id</th><th scope=col>hgnc_symbol</th><th scope=col>coef</th><th scope=col>pval</th><th scope=col>pval_adj</th></tr></thead>\n",
       "<tbody>\n",
       "\t<tr><td>ENSG00000197461</td><td>PDGFA          </td><td>-0.5542108     </td><td>1.376734e-14   </td><td>1.855149e-10   </td></tr>\n",
       "\t<tr><td>ENSG00000152977</td><td>ZIC1           </td><td>-0.5391174     </td><td>9.515179e-14   </td><td>6.410852e-10   </td></tr>\n",
       "\t<tr><td>ENSG00000164651</td><td>SP8            </td><td>-0.5286450     </td><td>3.441941e-13   </td><td>1.546005e-09   </td></tr>\n",
       "\t<tr><td>ENSG00000171794</td><td>UTF1           </td><td>-0.4988503     </td><td>1.058444e-11   </td><td>3.412170e-08   </td></tr>\n",
       "\t<tr><td>ENSG00000152779</td><td>SLC16A12       </td><td>-0.4972099     </td><td>1.266111e-11   </td><td>3.412170e-08   </td></tr>\n",
       "\t<tr><td>ENSG00000048540</td><td>LMO3           </td><td>-0.4912546     </td><td>2.407010e-11   </td><td>5.405742e-08   </td></tr>\n",
       "</tbody>\n",
       "</table>\n"
      ],
      "text/latex": [
       "\\begin{tabular}{r|lllll}\n",
       " ensembl\\_gene\\_id & hgnc\\_symbol & coef & pval & pval\\_adj\\\\\n",
       "\\hline\n",
       "\t ENSG00000197461 & PDGFA           & -0.5542108      & 1.376734e-14    & 1.855149e-10   \\\\\n",
       "\t ENSG00000152977 & ZIC1            & -0.5391174      & 9.515179e-14    & 6.410852e-10   \\\\\n",
       "\t ENSG00000164651 & SP8             & -0.5286450      & 3.441941e-13    & 1.546005e-09   \\\\\n",
       "\t ENSG00000171794 & UTF1            & -0.4988503      & 1.058444e-11    & 3.412170e-08   \\\\\n",
       "\t ENSG00000152779 & SLC16A12        & -0.4972099      & 1.266111e-11    & 3.412170e-08   \\\\\n",
       "\t ENSG00000048540 & LMO3            & -0.4912546      & 2.407010e-11    & 5.405742e-08   \\\\\n",
       "\\end{tabular}\n"
      ],
      "text/markdown": [
       "\n",
       "| ensembl_gene_id | hgnc_symbol | coef | pval | pval_adj |\n",
       "|---|---|---|---|---|\n",
       "| ENSG00000197461 | PDGFA           | -0.5542108      | 1.376734e-14    | 1.855149e-10    |\n",
       "| ENSG00000152977 | ZIC1            | -0.5391174      | 9.515179e-14    | 6.410852e-10    |\n",
       "| ENSG00000164651 | SP8             | -0.5286450      | 3.441941e-13    | 1.546005e-09    |\n",
       "| ENSG00000171794 | UTF1            | -0.4988503      | 1.058444e-11    | 3.412170e-08    |\n",
       "| ENSG00000152779 | SLC16A12        | -0.4972099      | 1.266111e-11    | 3.412170e-08    |\n",
       "| ENSG00000048540 | LMO3            | -0.4912546      | 2.407010e-11    | 5.405742e-08    |\n",
       "\n"
      ],
      "text/plain": [
       "  ensembl_gene_id hgnc_symbol coef       pval         pval_adj    \n",
       "1 ENSG00000197461 PDGFA       -0.5542108 1.376734e-14 1.855149e-10\n",
       "2 ENSG00000152977 ZIC1        -0.5391174 9.515179e-14 6.410852e-10\n",
       "3 ENSG00000164651 SP8         -0.5286450 3.441941e-13 1.546005e-09\n",
       "4 ENSG00000171794 UTF1        -0.4988503 1.058444e-11 3.412170e-08\n",
       "5 ENSG00000152779 SLC16A12    -0.4972099 1.266111e-11 3.412170e-08\n",
       "6 ENSG00000048540 LMO3        -0.4912546 2.407010e-11 5.405742e-08"
      ]
     },
     "metadata": {},
     "output_type": "display_data"
    }
   ],
   "source": [
    "myfile = read.csv(filename, sep = \"\\t\")\n",
    "head(myfile)"
   ]
  },
  {
   "cell_type": "code",
   "execution_count": 3,
   "metadata": {},
   "outputs": [
    {
     "data": {
      "text/html": [
       "983"
      ],
      "text/latex": [
       "983"
      ],
      "text/markdown": [
       "983"
      ],
      "text/plain": [
       "[1] 983"
      ]
     },
     "metadata": {},
     "output_type": "display_data"
    },
    {
     "data": {
      "text/html": [
       "1062"
      ],
      "text/latex": [
       "1062"
      ],
      "text/markdown": [
       "1062"
      ],
      "text/plain": [
       "[1] 1062"
      ]
     },
     "metadata": {},
     "output_type": "display_data"
    }
   ],
   "source": [
    "nrow(myfile[myfile$pval_adj <0.05 & myfile$coef>0,])\n",
    "nrow(myfile[myfile$pval_adj <0.05 & myfile$coef<0,])"
   ]
  },
  {
   "cell_type": "code",
   "execution_count": 5,
   "metadata": {},
   "outputs": [],
   "source": [
    "DE_pos = myfile[myfile$pval_adj <0.1 & myfile$coef>0,]\n",
    "DE_neg = myfile[myfile$pval_adj <0.1 & myfile$coef<0,]"
   ]
  },
  {
   "cell_type": "code",
   "execution_count": 6,
   "metadata": {},
   "outputs": [
    {
     "data": {
      "text/html": [
       "1308"
      ],
      "text/latex": [
       "1308"
      ],
      "text/markdown": [
       "1308"
      ],
      "text/plain": [
       "[1] 1308"
      ]
     },
     "metadata": {},
     "output_type": "display_data"
    },
    {
     "data": {
      "text/html": [
       "1564"
      ],
      "text/latex": [
       "1564"
      ],
      "text/markdown": [
       "1564"
      ],
      "text/plain": [
       "[1] 1564"
      ]
     },
     "metadata": {},
     "output_type": "display_data"
    }
   ],
   "source": [
    "nrow(DE_pos)\n",
    "nrow(DE_neg)"
   ]
  },
  {
   "cell_type": "code",
   "execution_count": 41,
   "metadata": {},
   "outputs": [],
   "source": [
    "myfile = myfile[myfile$pval_adj <0.1,]"
   ]
  },
  {
   "cell_type": "code",
   "execution_count": 61,
   "metadata": {},
   "outputs": [],
   "source": [
    "other_filename = '/hps/nobackup/stegle/users/acuomo/all_scripts/sc_neuroseq/jo_powell_data/DEseq_cluster1_vs_cluster234.txt'\n",
    "other_filename = '/hps/nobackup/stegle/users/acuomo/all_scripts/sc_neuroseq/jo_powell_data/DEseq_cluster2_vs_cluster134.txt'\n",
    "# other_filename = '/hps/nobackup/stegle/users/acuomo/all_scripts/sc_neuroseq/jo_powell_data/DEseq_cluster3_vs_cluster124.txt'\n",
    "# other_filename = '/hps/nobackup/stegle/users/acuomo/all_scripts/sc_neuroseq/jo_powell_data/DEseq_cluster4_vs_cluster123.txt'"
   ]
  },
  {
   "cell_type": "code",
   "execution_count": 62,
   "metadata": {},
   "outputs": [
    {
     "data": {
      "text/html": [
       "<table>\n",
       "<thead><tr><th scope=col>id</th><th scope=col>baseMean</th><th scope=col>baseMeanA</th><th scope=col>baseMeanB</th><th scope=col>foldChange</th><th scope=col>log2FoldChange</th><th scope=col>pval</th><th scope=col>padj</th></tr></thead>\n",
       "<tbody>\n",
       "\t<tr><td>AL627309.1_ENSG00000237683   </td><td>0.059336603                  </td><td>0.067552507                  </td><td>0.051818340                  </td><td>0.7670824                    </td><td>-0.3825465                   </td><td>0.05522152                   </td><td>0.2402369                    </td></tr>\n",
       "\t<tr><td>RP11-206L10.9_ENSG00000237491</td><td>0.002767522                  </td><td>0.003823029                  </td><td>0.001801642                  </td><td>0.4712602                    </td><td>-1.0854042                   </td><td>0.48225736                   </td><td>1.0000000                    </td></tr>\n",
       "\t<tr><td>LINC00115_ENSG00000225880    </td><td>0.020555679                  </td><td>0.022517262                  </td><td>0.018760661                  </td><td>0.8331679                    </td><td>-0.2633208                   </td><td>0.61138436                   </td><td>1.0000000                    </td></tr>\n",
       "\t<tr><td>RP11-54O7.1_ENSG00000230699  </td><td>0.004162721                  </td><td>0.004825277                  </td><td>0.003556426                  </td><td>0.7370408                    </td><td>-0.4401836                   </td><td>0.33465944                   </td><td>0.8666919                    </td></tr>\n",
       "\t<tr><td>RP11-54O7.3_ENSG00000223764  </td><td>0.001827732                  </td><td>0.001437878                  </td><td>0.002184481                  </td><td>1.5192391                    </td><td> 0.6033489                   </td><td>1.00000000                   </td><td>1.0000000                    </td></tr>\n",
       "\t<tr><td>SAMD11_ENSG00000187634       </td><td>0.049817405                  </td><td>0.052653577                  </td><td>0.047222061                  </td><td>0.8968443                    </td><td>-0.1570705                   </td><td>0.17281430                   </td><td>0.5677320                    </td></tr>\n",
       "</tbody>\n",
       "</table>\n"
      ],
      "text/latex": [
       "\\begin{tabular}{r|llllllll}\n",
       " id & baseMean & baseMeanA & baseMeanB & foldChange & log2FoldChange & pval & padj\\\\\n",
       "\\hline\n",
       "\t AL627309.1\\_ENSG00000237683    & 0.059336603                     & 0.067552507                     & 0.051818340                     & 0.7670824                       & -0.3825465                      & 0.05522152                      & 0.2402369                      \\\\\n",
       "\t RP11-206L10.9\\_ENSG00000237491 & 0.002767522                     & 0.003823029                     & 0.001801642                     & 0.4712602                       & -1.0854042                      & 0.48225736                      & 1.0000000                      \\\\\n",
       "\t LINC00115\\_ENSG00000225880     & 0.020555679                     & 0.022517262                     & 0.018760661                     & 0.8331679                       & -0.2633208                      & 0.61138436                      & 1.0000000                      \\\\\n",
       "\t RP11-54O7.1\\_ENSG00000230699   & 0.004162721                     & 0.004825277                     & 0.003556426                     & 0.7370408                       & -0.4401836                      & 0.33465944                      & 0.8666919                      \\\\\n",
       "\t RP11-54O7.3\\_ENSG00000223764   & 0.001827732                     & 0.001437878                     & 0.002184481                     & 1.5192391                       &  0.6033489                      & 1.00000000                      & 1.0000000                      \\\\\n",
       "\t SAMD11\\_ENSG00000187634        & 0.049817405                     & 0.052653577                     & 0.047222061                     & 0.8968443                       & -0.1570705                      & 0.17281430                      & 0.5677320                      \\\\\n",
       "\\end{tabular}\n"
      ],
      "text/markdown": [
       "\n",
       "| id | baseMean | baseMeanA | baseMeanB | foldChange | log2FoldChange | pval | padj |\n",
       "|---|---|---|---|---|---|---|---|\n",
       "| AL627309.1_ENSG00000237683    | 0.059336603                   | 0.067552507                   | 0.051818340                   | 0.7670824                     | -0.3825465                    | 0.05522152                    | 0.2402369                     |\n",
       "| RP11-206L10.9_ENSG00000237491 | 0.002767522                   | 0.003823029                   | 0.001801642                   | 0.4712602                     | -1.0854042                    | 0.48225736                    | 1.0000000                     |\n",
       "| LINC00115_ENSG00000225880     | 0.020555679                   | 0.022517262                   | 0.018760661                   | 0.8331679                     | -0.2633208                    | 0.61138436                    | 1.0000000                     |\n",
       "| RP11-54O7.1_ENSG00000230699   | 0.004162721                   | 0.004825277                   | 0.003556426                   | 0.7370408                     | -0.4401836                    | 0.33465944                    | 0.8666919                     |\n",
       "| RP11-54O7.3_ENSG00000223764   | 0.001827732                   | 0.001437878                   | 0.002184481                   | 1.5192391                     |  0.6033489                    | 1.00000000                    | 1.0000000                     |\n",
       "| SAMD11_ENSG00000187634        | 0.049817405                   | 0.052653577                   | 0.047222061                   | 0.8968443                     | -0.1570705                    | 0.17281430                    | 0.5677320                     |\n",
       "\n"
      ],
      "text/plain": [
       "  id                            baseMean    baseMeanA   baseMeanB   foldChange\n",
       "1 AL627309.1_ENSG00000237683    0.059336603 0.067552507 0.051818340 0.7670824 \n",
       "2 RP11-206L10.9_ENSG00000237491 0.002767522 0.003823029 0.001801642 0.4712602 \n",
       "3 LINC00115_ENSG00000225880     0.020555679 0.022517262 0.018760661 0.8331679 \n",
       "4 RP11-54O7.1_ENSG00000230699   0.004162721 0.004825277 0.003556426 0.7370408 \n",
       "5 RP11-54O7.3_ENSG00000223764   0.001827732 0.001437878 0.002184481 1.5192391 \n",
       "6 SAMD11_ENSG00000187634        0.049817405 0.052653577 0.047222061 0.8968443 \n",
       "  log2FoldChange pval       padj     \n",
       "1 -0.3825465     0.05522152 0.2402369\n",
       "2 -1.0854042     0.48225736 1.0000000\n",
       "3 -0.2633208     0.61138436 1.0000000\n",
       "4 -0.4401836     0.33465944 0.8666919\n",
       "5  0.6033489     1.00000000 1.0000000\n",
       "6 -0.1570705     0.17281430 0.5677320"
      ]
     },
     "metadata": {},
     "output_type": "display_data"
    }
   ],
   "source": [
    "myfile1 = read.csv(other_filename, sep = \"\\t\")\n",
    "head(myfile1)"
   ]
  },
  {
   "cell_type": "code",
   "execution_count": 63,
   "metadata": {},
   "outputs": [
    {
     "data": {
      "text/html": [
       "<table>\n",
       "<thead><tr><th scope=col>id</th><th scope=col>baseMean</th><th scope=col>baseMeanA</th><th scope=col>baseMeanB</th><th scope=col>foldChange</th><th scope=col>log2FoldChange</th><th scope=col>pval</th><th scope=col>padj</th><th scope=col>ensembl_gene_id</th></tr></thead>\n",
       "<tbody>\n",
       "\t<tr><td>AL627309.1_ENSG00000237683   </td><td>0.059336603                  </td><td>0.067552507                  </td><td>0.051818340                  </td><td>0.7670824                    </td><td>-0.3825465                   </td><td>0.05522152                   </td><td>0.2402369                    </td><td>ENSG00000237683              </td></tr>\n",
       "\t<tr><td>RP11-206L10.9_ENSG00000237491</td><td>0.002767522                  </td><td>0.003823029                  </td><td>0.001801642                  </td><td>0.4712602                    </td><td>-1.0854042                   </td><td>0.48225736                   </td><td>1.0000000                    </td><td>ENSG00000237491              </td></tr>\n",
       "\t<tr><td>LINC00115_ENSG00000225880    </td><td>0.020555679                  </td><td>0.022517262                  </td><td>0.018760661                  </td><td>0.8331679                    </td><td>-0.2633208                   </td><td>0.61138436                   </td><td>1.0000000                    </td><td>ENSG00000225880              </td></tr>\n",
       "\t<tr><td>RP11-54O7.1_ENSG00000230699  </td><td>0.004162721                  </td><td>0.004825277                  </td><td>0.003556426                  </td><td>0.7370408                    </td><td>-0.4401836                   </td><td>0.33465944                   </td><td>0.8666919                    </td><td>ENSG00000230699              </td></tr>\n",
       "\t<tr><td>RP11-54O7.3_ENSG00000223764  </td><td>0.001827732                  </td><td>0.001437878                  </td><td>0.002184481                  </td><td>1.5192391                    </td><td> 0.6033489                   </td><td>1.00000000                   </td><td>1.0000000                    </td><td>ENSG00000223764              </td></tr>\n",
       "\t<tr><td>SAMD11_ENSG00000187634       </td><td>0.049817405                  </td><td>0.052653577                  </td><td>0.047222061                  </td><td>0.8968443                    </td><td>-0.1570705                   </td><td>0.17281430                   </td><td>0.5677320                    </td><td>ENSG00000187634              </td></tr>\n",
       "</tbody>\n",
       "</table>\n"
      ],
      "text/latex": [
       "\\begin{tabular}{r|lllllllll}\n",
       " id & baseMean & baseMeanA & baseMeanB & foldChange & log2FoldChange & pval & padj & ensembl\\_gene\\_id\\\\\n",
       "\\hline\n",
       "\t AL627309.1\\_ENSG00000237683    & 0.059336603                     & 0.067552507                     & 0.051818340                     & 0.7670824                       & -0.3825465                      & 0.05522152                      & 0.2402369                       & ENSG00000237683                \\\\\n",
       "\t RP11-206L10.9\\_ENSG00000237491 & 0.002767522                     & 0.003823029                     & 0.001801642                     & 0.4712602                       & -1.0854042                      & 0.48225736                      & 1.0000000                       & ENSG00000237491                \\\\\n",
       "\t LINC00115\\_ENSG00000225880     & 0.020555679                     & 0.022517262                     & 0.018760661                     & 0.8331679                       & -0.2633208                      & 0.61138436                      & 1.0000000                       & ENSG00000225880                \\\\\n",
       "\t RP11-54O7.1\\_ENSG00000230699   & 0.004162721                     & 0.004825277                     & 0.003556426                     & 0.7370408                       & -0.4401836                      & 0.33465944                      & 0.8666919                       & ENSG00000230699                \\\\\n",
       "\t RP11-54O7.3\\_ENSG00000223764   & 0.001827732                     & 0.001437878                     & 0.002184481                     & 1.5192391                       &  0.6033489                      & 1.00000000                      & 1.0000000                       & ENSG00000223764                \\\\\n",
       "\t SAMD11\\_ENSG00000187634        & 0.049817405                     & 0.052653577                     & 0.047222061                     & 0.8968443                       & -0.1570705                      & 0.17281430                      & 0.5677320                       & ENSG00000187634                \\\\\n",
       "\\end{tabular}\n"
      ],
      "text/markdown": [
       "\n",
       "| id | baseMean | baseMeanA | baseMeanB | foldChange | log2FoldChange | pval | padj | ensembl_gene_id |\n",
       "|---|---|---|---|---|---|---|---|---|\n",
       "| AL627309.1_ENSG00000237683    | 0.059336603                   | 0.067552507                   | 0.051818340                   | 0.7670824                     | -0.3825465                    | 0.05522152                    | 0.2402369                     | ENSG00000237683               |\n",
       "| RP11-206L10.9_ENSG00000237491 | 0.002767522                   | 0.003823029                   | 0.001801642                   | 0.4712602                     | -1.0854042                    | 0.48225736                    | 1.0000000                     | ENSG00000237491               |\n",
       "| LINC00115_ENSG00000225880     | 0.020555679                   | 0.022517262                   | 0.018760661                   | 0.8331679                     | -0.2633208                    | 0.61138436                    | 1.0000000                     | ENSG00000225880               |\n",
       "| RP11-54O7.1_ENSG00000230699   | 0.004162721                   | 0.004825277                   | 0.003556426                   | 0.7370408                     | -0.4401836                    | 0.33465944                    | 0.8666919                     | ENSG00000230699               |\n",
       "| RP11-54O7.3_ENSG00000223764   | 0.001827732                   | 0.001437878                   | 0.002184481                   | 1.5192391                     |  0.6033489                    | 1.00000000                    | 1.0000000                     | ENSG00000223764               |\n",
       "| SAMD11_ENSG00000187634        | 0.049817405                   | 0.052653577                   | 0.047222061                   | 0.8968443                     | -0.1570705                    | 0.17281430                    | 0.5677320                     | ENSG00000187634               |\n",
       "\n"
      ],
      "text/plain": [
       "  id                            baseMean    baseMeanA   baseMeanB   foldChange\n",
       "1 AL627309.1_ENSG00000237683    0.059336603 0.067552507 0.051818340 0.7670824 \n",
       "2 RP11-206L10.9_ENSG00000237491 0.002767522 0.003823029 0.001801642 0.4712602 \n",
       "3 LINC00115_ENSG00000225880     0.020555679 0.022517262 0.018760661 0.8331679 \n",
       "4 RP11-54O7.1_ENSG00000230699   0.004162721 0.004825277 0.003556426 0.7370408 \n",
       "5 RP11-54O7.3_ENSG00000223764   0.001827732 0.001437878 0.002184481 1.5192391 \n",
       "6 SAMD11_ENSG00000187634        0.049817405 0.052653577 0.047222061 0.8968443 \n",
       "  log2FoldChange pval       padj      ensembl_gene_id\n",
       "1 -0.3825465     0.05522152 0.2402369 ENSG00000237683\n",
       "2 -1.0854042     0.48225736 1.0000000 ENSG00000237491\n",
       "3 -0.2633208     0.61138436 1.0000000 ENSG00000225880\n",
       "4 -0.4401836     0.33465944 0.8666919 ENSG00000230699\n",
       "5  0.6033489     1.00000000 1.0000000 ENSG00000223764\n",
       "6 -0.1570705     0.17281430 0.5677320 ENSG00000187634"
      ]
     },
     "metadata": {},
     "output_type": "display_data"
    }
   ],
   "source": [
    "myfile1$ensembl_gene_id <- gsub(\".*_\",\"\",myfile1$id)\n",
    "head(myfile1)"
   ]
  },
  {
   "cell_type": "code",
   "execution_count": 64,
   "metadata": {},
   "outputs": [],
   "source": [
    "myfile = myfile[myfile$pval_adj <0.1,]\n",
    "genes = myfile$ensembl_gene_id"
   ]
  },
  {
   "cell_type": "code",
   "execution_count": 65,
   "metadata": {},
   "outputs": [],
   "source": [
    "myfile1 = myfile1[myfile1$padj <0.1,]"
   ]
  },
  {
   "cell_type": "code",
   "execution_count": 66,
   "metadata": {},
   "outputs": [],
   "source": [
    "genes1 = myfile1$ensembl_gene_id"
   ]
  },
  {
   "cell_type": "code",
   "execution_count": 67,
   "metadata": {},
   "outputs": [
    {
     "data": {
      "text/html": [
       "2872"
      ],
      "text/latex": [
       "2872"
      ],
      "text/markdown": [
       "2872"
      ],
      "text/plain": [
       "[1] 2872"
      ]
     },
     "metadata": {},
     "output_type": "display_data"
    },
    {
     "data": {
      "text/html": [
       "3024"
      ],
      "text/latex": [
       "3024"
      ],
      "text/markdown": [
       "3024"
      ],
      "text/plain": [
       "[1] 3024"
      ]
     },
     "metadata": {},
     "output_type": "display_data"
    },
    {
     "data": {
      "text/html": [
       "504"
      ],
      "text/latex": [
       "504"
      ],
      "text/markdown": [
       "504"
      ],
      "text/plain": [
       "[1] 504"
      ]
     },
     "metadata": {},
     "output_type": "display_data"
    },
    {
     "data": {
      "text/html": [
       "504"
      ],
      "text/latex": [
       "504"
      ],
      "text/markdown": [
       "504"
      ],
      "text/plain": [
       "[1] 504"
      ]
     },
     "metadata": {},
     "output_type": "display_data"
    }
   ],
   "source": [
    "length(genes)\n",
    "length(genes1)\n",
    "length(genes[genes %in% genes1])\n",
    "length(genes1[genes1 %in% genes])"
   ]
  },
  {
   "cell_type": "code",
   "execution_count": 68,
   "metadata": {},
   "outputs": [],
   "source": [
    "our = length(genes)\n",
    "jos = length(genes1)\n",
    "both = length(genes[genes %in% genes1])"
   ]
  },
  {
   "cell_type": "code",
   "execution_count": 69,
   "metadata": {},
   "outputs": [
    {
     "data": {
      "text/html": [
       "2368"
      ],
      "text/latex": [
       "2368"
      ],
      "text/markdown": [
       "2368"
      ],
      "text/plain": [
       "[1] 2368"
      ]
     },
     "metadata": {},
     "output_type": "display_data"
    },
    {
     "data": {
      "text/html": [
       "2520"
      ],
      "text/latex": [
       "2520"
      ],
      "text/markdown": [
       "2520"
      ],
      "text/plain": [
       "[1] 2520"
      ]
     },
     "metadata": {},
     "output_type": "display_data"
    },
    {
     "data": {
      "text/html": [
       "504"
      ],
      "text/latex": [
       "504"
      ],
      "text/markdown": [
       "504"
      ],
      "text/plain": [
       "[1] 504"
      ]
     },
     "metadata": {},
     "output_type": "display_data"
    }
   ],
   "source": [
    "our-both\n",
    "jos-both\n",
    "both"
   ]
  },
  {
   "cell_type": "code",
   "execution_count": 70,
   "metadata": {},
   "outputs": [],
   "source": [
    "# library(eulerr)\n",
    "# ### cluster 1\n",
    "# fit <- euler(c(\"our\" = our-both , \"jos\" = jos-both, \"our&jos\" = both)) ## DE genes (FDR 10%)\n",
    "# plot(fit, \n",
    "#      labels = list(col = c(\"gray30\"))"
   ]
  },
  {
   "cell_type": "code",
   "execution_count": 72,
   "metadata": {},
   "outputs": [
    {
     "data": {
      "image/png": "[encoded data removed]",
      "text/plain": [
       "plot without title"
      ]
     },
     "metadata": {},
     "output_type": "display_data"
    }
   ],
   "source": [
    "### cluster 2\n",
    "fit <- euler(c(\"our\" = our-both , \"jos\" = jos-both, \"our&jos\" = both)) ## DE genes (FDR 10%)\n",
    "plot(fit, \n",
    "     labels = list(col = c(\"gray30\")))"
   ]
  },
  {
   "cell_type": "code",
   "execution_count": 37,
   "metadata": {},
   "outputs": [
    {
     "data": {
      "image/png": "[encoded data removed]",
      "text/plain": [
       "plot without title"
      ]
     },
     "metadata": {},
     "output_type": "display_data"
    }
   ],
   "source": [
    "### cluster 3\n",
    "fit <- euler(c(\"our\" = our-both , \"jos\" = jos-both, \"our&jos\" = both)) ## DE genes (FDR 10%)\n",
    "plot(fit, \n",
    "     labels = list(col = c(\"gray30\")))"
   ]
  },
  {
   "cell_type": "code",
   "execution_count": 24,
   "metadata": {},
   "outputs": [
    {
     "data": {
      "image/png": "[encoded data removed]",
      "text/plain": [
       "plot without title"
      ]
     },
     "metadata": {},
     "output_type": "display_data"
    }
   ],
   "source": [
    "### cluster 4\n",
    "fit <- euler(c(\"our\" = our-both , \"jos\" = jos-both, \"our&jos\" = both)) ## DE genes (FDR 10%)\n",
    "plot(fit, \n",
    "     labels = list(col = c(\"gray30\")))"
   ]
  },
  {
   "cell_type": "code",
   "execution_count": 54,
   "metadata": {},
   "outputs": [],
   "source": [
    "DE_pos1 = myfile1[myfile1$padj <0.1 & myfile1$log2FoldChange>0,]\n",
    "DE_neg1 = myfile1[myfile1$padj <0.1 & myfile1$log2FoldChange<0,]"
   ]
  },
  {
   "cell_type": "code",
   "execution_count": 55,
   "metadata": {},
   "outputs": [],
   "source": [
    "genes0 = DE_pos$ensembl_gene_id\n",
    "genes1 = DE_neg$ensembl_gene_id\n",
    "\n",
    "genes2 = DE_pos1$ensembl_gene_id\n",
    "genes3 = DE_neg1$ensembl_gene_id"
   ]
  },
  {
   "cell_type": "code",
   "execution_count": 56,
   "metadata": {},
   "outputs": [
    {
     "data": {
      "text/html": [
       "1308"
      ],
      "text/latex": [
       "1308"
      ],
      "text/markdown": [
       "1308"
      ],
      "text/plain": [
       "[1] 1308"
      ]
     },
     "metadata": {},
     "output_type": "display_data"
    },
    {
     "data": {
      "text/html": [
       "1564"
      ],
      "text/latex": [
       "1564"
      ],
      "text/markdown": [
       "1564"
      ],
      "text/plain": [
       "[1] 1564"
      ]
     },
     "metadata": {},
     "output_type": "display_data"
    },
    {
     "data": {
      "text/html": [
       "3802"
      ],
      "text/latex": [
       "3802"
      ],
      "text/markdown": [
       "3802"
      ],
      "text/plain": [
       "[1] 3802"
      ]
     },
     "metadata": {},
     "output_type": "display_data"
    },
    {
     "data": {
      "text/html": [
       "901"
      ],
      "text/latex": [
       "901"
      ],
      "text/markdown": [
       "901"
      ],
      "text/plain": [
       "[1] 901"
      ]
     },
     "metadata": {},
     "output_type": "display_data"
    },
    {
     "data": {
      "text/html": [
       "324"
      ],
      "text/latex": [
       "324"
      ],
      "text/markdown": [
       "324"
      ],
      "text/plain": [
       "[1] 324"
      ]
     },
     "metadata": {},
     "output_type": "display_data"
    },
    {
     "data": {
      "text/html": [
       "75"
      ],
      "text/latex": [
       "75"
      ],
      "text/markdown": [
       "75"
      ],
      "text/plain": [
       "[1] 75"
      ]
     },
     "metadata": {},
     "output_type": "display_data"
    }
   ],
   "source": [
    "length(genes0)\n",
    "length(genes1)\n",
    "length(genes2)\n",
    "length(genes3)\n",
    "length(genes0[genes0 %in% genes2])\n",
    "length(genes1[genes1 %in% genes3])"
   ]
  },
  {
   "cell_type": "code",
   "execution_count": null,
   "metadata": {},
   "outputs": [],
   "source": []
  },
  {
   "cell_type": "code",
   "execution_count": null,
   "metadata": {},
   "outputs": [],
   "source": []
  }
 ],
 "metadata": {
  "kernelspec": {
   "display_name": "R",
   "language": "R",
   "name": "ir"
  },
  "language_info": {
   "codemirror_mode": "r",
   "file_extension": ".r",
   "mimetype": "text/x-r-source",
   "name": "R",
   "pygments_lexer": "r",
   "version": "3.6.1"
  }
 },
 "nbformat": 4,
 "nbformat_minor": 2
}
