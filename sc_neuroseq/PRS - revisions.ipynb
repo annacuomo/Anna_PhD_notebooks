{
 "cells": [
  {
   "cell_type": "code",
   "execution_count": 26,
   "metadata": {},
   "outputs": [],
   "source": [
    "library(dplyr)\n",
    "library(ggplot2)"
   ]
  },
  {
   "cell_type": "code",
   "execution_count": 27,
   "metadata": {},
   "outputs": [],
   "source": [
    "##################################################\n",
    "#### cellular phenoypes"
   ]
  },
  {
   "cell_type": "code",
   "execution_count": 28,
   "metadata": {},
   "outputs": [],
   "source": [
    "## cell type proportion"
   ]
  },
  {
   "cell_type": "code",
   "execution_count": 29,
   "metadata": {},
   "outputs": [],
   "source": [
    "## D52"
   ]
  },
  {
   "cell_type": "code",
   "execution_count": 30,
   "metadata": {},
   "outputs": [],
   "source": [
    "file_prefix = \"/nfs/leia/research/stegle/dseaton/hipsci/singlecell_neuroseq/data/data_processed/pool1_17_D52/\"\n",
    "file_suffix = \"pool1_17_D52.scanpy.w_metadata.w_celltype.scanpy.obs_df.groupedby.donor_id-pool_id-time_point-treatment.celltype_fractions_pivoted.tsv\""
   ]
  },
  {
   "cell_type": "code",
   "execution_count": 31,
   "metadata": {},
   "outputs": [
    {
     "data": {
      "text/html": [
       "<table>\n",
       "<thead><tr><th scope=col>donor_id</th><th scope=col>pool_id</th><th scope=col>time_point</th><th scope=col>treatment</th><th scope=col>Astro</th><th scope=col>CHem</th><th scope=col>DA</th><th scope=col>Epen1</th><th scope=col>Epen2</th><th scope=col>FPP</th><th scope=col>P_FPP</th><th scope=col>P_Sert</th><th scope=col>Sert</th><th scope=col>unknown</th></tr></thead>\n",
       "<tbody>\n",
       "\t<tr><td>HPSI0114i-bezi_3</td><td>pool10          </td><td>D52             </td><td>NONE            </td><td>0.009174312     </td><td>0.022935780     </td><td>0.3027523       </td><td>0.1788991       </td><td>0               </td><td>0.1422018       </td><td>0.01834862      </td><td>0.01376147      </td><td>0.3119266       </td><td>0               </td></tr>\n",
       "\t<tr><td>HPSI0114i-bezi_3</td><td>pool10          </td><td>D52             </td><td>ROT             </td><td>0.022857143     </td><td>0.005714286     </td><td>0.2114286       </td><td>0.2285714       </td><td>0               </td><td>0.1885714       </td><td>0.00000000      </td><td>0.01142857      </td><td>0.3314286       </td><td>0               </td></tr>\n",
       "</tbody>\n",
       "</table>\n"
      ],
      "text/latex": [
       "\\begin{tabular}{r|llllllllllllll}\n",
       " donor\\_id & pool\\_id & time\\_point & treatment & Astro & CHem & DA & Epen1 & Epen2 & FPP & P\\_FPP & P\\_Sert & Sert & unknown\\\\\n",
       "\\hline\n",
       "\t HPSI0114i-bezi\\_3 & pool10             & D52                & NONE               & 0.009174312        & 0.022935780        & 0.3027523          & 0.1788991          & 0                  & 0.1422018          & 0.01834862         & 0.01376147         & 0.3119266          & 0                 \\\\\n",
       "\t HPSI0114i-bezi\\_3 & pool10             & D52                & ROT                & 0.022857143        & 0.005714286        & 0.2114286          & 0.2285714          & 0                  & 0.1885714          & 0.00000000         & 0.01142857         & 0.3314286          & 0                 \\\\\n",
       "\\end{tabular}\n"
      ],
      "text/markdown": [
       "\n",
       "| donor_id | pool_id | time_point | treatment | Astro | CHem | DA | Epen1 | Epen2 | FPP | P_FPP | P_Sert | Sert | unknown |\n",
       "|---|---|---|---|---|---|---|---|---|---|---|---|---|---|\n",
       "| HPSI0114i-bezi_3 | pool10           | D52              | NONE             | 0.009174312      | 0.022935780      | 0.3027523        | 0.1788991        | 0                | 0.1422018        | 0.01834862       | 0.01376147       | 0.3119266        | 0                |\n",
       "| HPSI0114i-bezi_3 | pool10           | D52              | ROT              | 0.022857143      | 0.005714286      | 0.2114286        | 0.2285714        | 0                | 0.1885714        | 0.00000000       | 0.01142857       | 0.3314286        | 0                |\n",
       "\n"
      ],
      "text/plain": [
       "  donor_id         pool_id time_point treatment Astro       CHem       \n",
       "1 HPSI0114i-bezi_3 pool10  D52        NONE      0.009174312 0.022935780\n",
       "2 HPSI0114i-bezi_3 pool10  D52        ROT       0.022857143 0.005714286\n",
       "  DA        Epen1     Epen2 FPP       P_FPP      P_Sert     Sert      unknown\n",
       "1 0.3027523 0.1788991 0     0.1422018 0.01834862 0.01376147 0.3119266 0      \n",
       "2 0.2114286 0.2285714 0     0.1885714 0.00000000 0.01142857 0.3314286 0      "
      ]
     },
     "metadata": {},
     "output_type": "display_data"
    }
   ],
   "source": [
    "celltypes = read.table(paste0(file_prefix, file_suffix), header = T)\n",
    "head(celltypes,2)"
   ]
  },
  {
   "cell_type": "code",
   "execution_count": 32,
   "metadata": {},
   "outputs": [],
   "source": [
    "donors = unique(celltypes$donor_id)"
   ]
  },
  {
   "cell_type": "code",
   "execution_count": 33,
   "metadata": {},
   "outputs": [],
   "source": [
    "df = celltypes %>% group_by(donor_id) %>% summarise(mean_neuro = mean(DA+Sert))"
   ]
  },
  {
   "cell_type": "code",
   "execution_count": 34,
   "metadata": {},
   "outputs": [
    {
     "data": {
      "text/html": [
       "<table>\n",
       "<thead><tr><th scope=col>donor_id</th><th scope=col>mean_neuro</th></tr></thead>\n",
       "<tbody>\n",
       "\t<tr><td>HPSI0114i-bezi_3</td><td>0.57876802      </td></tr>\n",
       "\t<tr><td>HPSI0114i-eipl_1</td><td>0.01278164      </td></tr>\n",
       "\t<tr><td>HPSI0114i-fikt_3</td><td>0.40896921      </td></tr>\n",
       "\t<tr><td>HPSI0114i-kolf_2</td><td>0.47284436      </td></tr>\n",
       "\t<tr><td>HPSI0114i-lexy_2</td><td>0.72873194      </td></tr>\n",
       "\t<tr><td>HPSI0114i-posc_1</td><td>0.80947368      </td></tr>\n",
       "</tbody>\n",
       "</table>\n"
      ],
      "text/latex": [
       "\\begin{tabular}{r|ll}\n",
       " donor\\_id & mean\\_neuro\\\\\n",
       "\\hline\n",
       "\t HPSI0114i-bezi\\_3 & 0.57876802        \\\\\n",
       "\t HPSI0114i-eipl\\_1 & 0.01278164        \\\\\n",
       "\t HPSI0114i-fikt\\_3 & 0.40896921        \\\\\n",
       "\t HPSI0114i-kolf\\_2 & 0.47284436        \\\\\n",
       "\t HPSI0114i-lexy\\_2 & 0.72873194        \\\\\n",
       "\t HPSI0114i-posc\\_1 & 0.80947368        \\\\\n",
       "\\end{tabular}\n"
      ],
      "text/markdown": [
       "\n",
       "| donor_id | mean_neuro |\n",
       "|---|---|\n",
       "| HPSI0114i-bezi_3 | 0.57876802       |\n",
       "| HPSI0114i-eipl_1 | 0.01278164       |\n",
       "| HPSI0114i-fikt_3 | 0.40896921       |\n",
       "| HPSI0114i-kolf_2 | 0.47284436       |\n",
       "| HPSI0114i-lexy_2 | 0.72873194       |\n",
       "| HPSI0114i-posc_1 | 0.80947368       |\n",
       "\n"
      ],
      "text/plain": [
       "  donor_id         mean_neuro\n",
       "1 HPSI0114i-bezi_3 0.57876802\n",
       "2 HPSI0114i-eipl_1 0.01278164\n",
       "3 HPSI0114i-fikt_3 0.40896921\n",
       "4 HPSI0114i-kolf_2 0.47284436\n",
       "5 HPSI0114i-lexy_2 0.72873194\n",
       "6 HPSI0114i-posc_1 0.80947368"
      ]
     },
     "metadata": {},
     "output_type": "display_data"
    }
   ],
   "source": [
    "head(df)"
   ]
  },
  {
   "cell_type": "code",
   "execution_count": null,
   "metadata": {},
   "outputs": [],
   "source": []
  },
  {
   "cell_type": "code",
   "execution_count": 39,
   "metadata": {},
   "outputs": [],
   "source": [
    "################\n",
    "## new PRS (PD)\n",
    "PD_dir = \"/hps/nobackup/hipsci/scratch/GWAS_Summary_Stats/SpecificStudies/ChangD_28892059_GCST004902/PD_Risk/\""
   ]
  },
  {
   "cell_type": "code",
   "execution_count": 48,
   "metadata": {},
   "outputs": [
    {
     "data": {
      "text/html": [
       "<table>\n",
       "<thead><tr><th scope=col>X.</th><th scope=col>HPSI0216i.tony_5</th><th scope=col>HPSI0316i.pecz_2</th><th scope=col>HPSI0216pf.tony</th><th scope=col>HPSI0316pf.zuik</th><th scope=col>HPSI0316i.xaqm_4</th><th scope=col>HPSI0316i.tezs_6</th><th scope=col>HPSI0316pf.tezs</th><th scope=col>HPSI0216pf.puxp</th><th scope=col>HPSI0316i.zuik_6</th><th scope=col>...</th><th scope=col>HPSI0416i.eapo_2</th><th scope=col>HPSI0616i.duve_6</th><th scope=col>HPSI0616pf.bury</th><th scope=col>HPSI0516i.peoo_1</th><th scope=col>HPSI0416pf.eapo</th><th scope=col>HPSI0616i.mifg_5</th><th scope=col>HPSI0516pf.eosr</th><th scope=col>HPSI0616pf.xuvy</th><th scope=col>HPSI0416pf.cihd</th><th scope=col>HPSI0616i.mifg_2</th></tr></thead>\n",
       "<tbody>\n",
       "\t<tr><td>PD_meta_analysis_PDGENE_PDWBS.harmonized.txt_P0.001 </td><td>-5.319756                                           </td><td>-5.938082                                           </td><td>-5.415521                                           </td><td>-6.328778                                           </td><td>-6.209180                                           </td><td>-5.918820                                           </td><td>-5.735291                                           </td><td>-6.571148                                           </td><td>-6.444715                                           </td><td>...                                                 </td><td>-4.895277                                           </td><td>-5.842220                                           </td><td>-4.795883                                           </td><td>-4.524109                                           </td><td>-4.717168                                           </td><td>-5.774807                                           </td><td>-5.551278                                           </td><td>-7.774584                                           </td><td>-4.187174                                           </td><td>-5.531868                                           </td></tr>\n",
       "\t<tr><td>PD_meta_analysis_PDGENE_PDWBS.harmonized.txt_P1.0E-5</td><td>-3.187932                                           </td><td>-3.416068                                           </td><td>-3.294405                                           </td><td>-3.843888                                           </td><td>-3.454052                                           </td><td>-3.368433                                           </td><td>-3.278508                                           </td><td>-3.881725                                           </td><td>-3.865424                                           </td><td>...                                                 </td><td>-2.795401                                           </td><td>-2.999003                                           </td><td>-2.673082                                           </td><td>-2.124938                                           </td><td>-2.617293                                           </td><td>-3.142252                                           </td><td>-2.848721                                           </td><td>-4.271982                                           </td><td>-2.103210                                           </td><td>-3.142252                                           </td></tr>\n",
       "\t<tr><td>PD_meta_analysis_PDGENE_PDWBS.harmonized.txt_P1.0E-4</td><td>-4.355123                                           </td><td>-5.012815                                           </td><td>-4.450888                                           </td><td>-5.483396                                           </td><td>-4.879398                                           </td><td>-4.654569                                           </td><td>-4.332712                                           </td><td>-5.059196                                           </td><td>-5.504932                                           </td><td>...                                                 </td><td>-3.828802                                           </td><td>-4.161271                                           </td><td>-3.541309                                           </td><td>-3.174948                                           </td><td>-3.650694                                           </td><td>-4.904581                                           </td><td>-4.244493                                           </td><td>-6.275054                                           </td><td>-3.229977                                           </td><td>-4.830935                                           </td></tr>\n",
       "\t<tr><td>PD_meta_analysis_PDGENE_PDWBS.harmonized.txt_P5.0E-8</td><td>-1.465232                                           </td><td>-2.214769                                           </td><td>-1.571704                                           </td><td>-2.101434                                           </td><td>-2.286131                                           </td><td>-3.046577                                           </td><td>-2.956652                                           </td><td>-2.498743                                           </td><td>-2.271467                                           </td><td>...                                                 </td><td>-1.920363                                           </td><td>-2.042971                                           </td><td>-1.579031                                           </td><td>-1.485754                                           </td><td>-1.727266                                           </td><td>-2.897796                                           </td><td>-2.102751                                           </td><td>-3.081226                                           </td><td>-1.301205                                           </td><td>-2.897796                                           </td></tr>\n",
       "\t<tr><td>PD_meta_analysis_PDGENE_PDWBS.harmonized.txt_P0.01  </td><td>-5.728541                                           </td><td>-6.437753                                           </td><td>-5.824307                                           </td><td>-6.274136                                           </td><td>-6.673776                                           </td><td>-6.298109                                           </td><td>-6.132565                                           </td><td>-6.524475                                           </td><td>-6.349251                                           </td><td>...                                                 </td><td>-5.045365                                           </td><td>-6.024794                                           </td><td>-5.191826                                           </td><td>-4.802536                                           </td><td>-4.867256                                           </td><td>-6.056095                                           </td><td>-5.709745                                           </td><td>-7.807319                                           </td><td>-4.236028                                           </td><td>-5.813156                                           </td></tr>\n",
       "</tbody>\n",
       "</table>\n"
      ],
      "text/latex": [
       "\\begin{tabular}{r|llllllllllllllllllllllllllllllllllllllllllllllllllllllllllllllllllllllllllllllllllllllllllllllllllllllllllllllllllllllllllllllllllllllllllllllllllllllllllllllllllllllllllllllllllllllllllllllllllllllllllllllllllllllllllllllllllllllllllllllllllllllllllllllllllllllllllllllllllllllllllllllllllllllllllllllllllllllllllllllllllllllllllllllllllllllllllllllllllllllllllllllllllllllllllllllllllllllllllllllllllllllllllllllllllllllllllllllllllllllllllllllllllllllllllllllllllllllllllllllllllllllllllllllllllllllllllllllllllllllllllllllllllllllllllllllllllllllllllllllllllllllllllllllllllllllllllllllllllllllllllllllllllllllllllllllllllllllllllllllllllllllllllllllllllllllllllllllllllllllllllllllllllllllllllllllllllllllllllllllllllllllllllllllllllllllllllllllllllllllllllllllllllllllllllllllllllllllllllllllllllllllllllllllllllllllllllllllllllllllllllllllllllllllllllllllllllllllllllllllllllllllllllllllllllllllllllllllllllllllllllllllllllllllllllllllllllllllllllllllllllllllllllllllllllllllllllllllllllllllllllllllllllllllllllllllllllllllllllllllllllllllllllllllllllllllllllllllllllllllllllllllllllllllllllllllllllllllllllllllllllllllllllllllllllllllllllllllllllllllllllllllllllllllllllllllllllllllllllllllllllllllllllllllllllllllllllllllllllllllllllllllllllllllllllllllllllllllllllllllllllllllllllllllllllllllllllllllllllllllllllllllllllllllllllllllllllllllllllllllllllllllllllllllllllllllllllllllllllllllllllllllllllllllllllllllllllllllllllllllllllllllllllllllllllllllllllllllllllllllllllllllllllllllllllllllllllllllllllllllllllllllllllllllllllllllllllllllllllllllllllllllllllllllllllllllllllllllllllllllllllllllllllllllllllllllllllllllllllllllllllllllllllllllllllllllllllllllllllllllllllllllllllllllllllllllllllllllllllllllllllllllllllllllllllllllllllllllllllllllllllllllllllllllllllllllllllllllllllllllllllllllllllllllllllllllllllllllllllllllllllllllllllllllllllllllllllllllllllllllllllllllllllllllllllllllllllllllllllllllllllllllllllllllllllllllllllllllllll}\n",
       " X. & HPSI0216i.tony\\_5 & HPSI0316i.pecz\\_2 & HPSI0216pf.tony & HPSI0316pf.zuik & HPSI0316i.xaqm\\_4 & HPSI0316i.tezs\\_6 & HPSI0316pf.tezs & HPSI0216pf.puxp & HPSI0316i.zuik\\_6 & ... & HPSI0416i.eapo\\_2 & HPSI0616i.duve\\_6 & HPSI0616pf.bury & HPSI0516i.peoo\\_1 & HPSI0416pf.eapo & HPSI0616i.mifg\\_5 & HPSI0516pf.eosr & HPSI0616pf.xuvy & HPSI0416pf.cihd & HPSI0616i.mifg\\_2\\\\\n",
       "\\hline\n",
       "\t PD\\_meta\\_analysis\\_PDGENE\\_PDWBS.harmonized.txt\\_P0.001  & -5.319756                                                      & -5.938082                                                      & -5.415521                                                      & -6.328778                                                      & -6.209180                                                      & -5.918820                                                      & -5.735291                                                      & -6.571148                                                      & -6.444715                                                      & ...                                                            & -4.895277                                                      & -5.842220                                                      & -4.795883                                                      & -4.524109                                                      & -4.717168                                                      & -5.774807                                                      & -5.551278                                                      & -7.774584                                                      & -4.187174                                                      & -5.531868                                                     \\\\\n",
       "\t PD\\_meta\\_analysis\\_PDGENE\\_PDWBS.harmonized.txt\\_P1.0E-5 & -3.187932                                                      & -3.416068                                                      & -3.294405                                                      & -3.843888                                                      & -3.454052                                                      & -3.368433                                                      & -3.278508                                                      & -3.881725                                                      & -3.865424                                                      & ...                                                            & -2.795401                                                      & -2.999003                                                      & -2.673082                                                      & -2.124938                                                      & -2.617293                                                      & -3.142252                                                      & -2.848721                                                      & -4.271982                                                      & -2.103210                                                      & -3.142252                                                     \\\\\n",
       "\t PD\\_meta\\_analysis\\_PDGENE\\_PDWBS.harmonized.txt\\_P1.0E-4 & -4.355123                                                      & -5.012815                                                      & -4.450888                                                      & -5.483396                                                      & -4.879398                                                      & -4.654569                                                      & -4.332712                                                      & -5.059196                                                      & -5.504932                                                      & ...                                                            & -3.828802                                                      & -4.161271                                                      & -3.541309                                                      & -3.174948                                                      & -3.650694                                                      & -4.904581                                                      & -4.244493                                                      & -6.275054                                                      & -3.229977                                                      & -4.830935                                                     \\\\\n",
       "\t PD\\_meta\\_analysis\\_PDGENE\\_PDWBS.harmonized.txt\\_P5.0E-8 & -1.465232                                                      & -2.214769                                                      & -1.571704                                                      & -2.101434                                                      & -2.286131                                                      & -3.046577                                                      & -2.956652                                                      & -2.498743                                                      & -2.271467                                                      & ...                                                            & -1.920363                                                      & -2.042971                                                      & -1.579031                                                      & -1.485754                                                      & -1.727266                                                      & -2.897796                                                      & -2.102751                                                      & -3.081226                                                      & -1.301205                                                      & -2.897796                                                     \\\\\n",
       "\t PD\\_meta\\_analysis\\_PDGENE\\_PDWBS.harmonized.txt\\_P0.01   & -5.728541                                                      & -6.437753                                                      & -5.824307                                                      & -6.274136                                                      & -6.673776                                                      & -6.298109                                                      & -6.132565                                                      & -6.524475                                                      & -6.349251                                                      & ...                                                            & -5.045365                                                      & -6.024794                                                      & -5.191826                                                      & -4.802536                                                      & -4.867256                                                      & -6.056095                                                      & -5.709745                                                      & -7.807319                                                      & -4.236028                                                      & -5.813156                                                     \\\\\n",
       "\\end{tabular}\n"
      ],
      "text/markdown": [
       "\n",
       "| X. | HPSI0216i.tony_5 | HPSI0316i.pecz_2 | HPSI0216pf.tony | HPSI0316pf.zuik | HPSI0316i.xaqm_4 | HPSI0316i.tezs_6 | HPSI0316pf.tezs | HPSI0216pf.puxp | HPSI0316i.zuik_6 | ... | HPSI0416i.eapo_2 | HPSI0616i.duve_6 | HPSI0616pf.bury | HPSI0516i.peoo_1 | HPSI0416pf.eapo | HPSI0616i.mifg_5 | HPSI0516pf.eosr | HPSI0616pf.xuvy | HPSI0416pf.cihd | HPSI0616i.mifg_2 |\n",
       "|---|---|---|---|---|---|---|---|---|---|---|---|---|---|---|---|---|---|---|---|---|\n",
       "| PD_meta_analysis_PDGENE_PDWBS.harmonized.txt_P0.001  | -5.319756                                            | -5.938082                                            | -5.415521                                            | -6.328778                                            | -6.209180                                            | -5.918820                                            | -5.735291                                            | -6.571148                                            | -6.444715                                            | ...                                                  | -4.895277                                            | -5.842220                                            | -4.795883                                            | -4.524109                                            | -4.717168                                            | -5.774807                                            | -5.551278                                            | -7.774584                                            | -4.187174                                            | -5.531868                                            |\n",
       "| PD_meta_analysis_PDGENE_PDWBS.harmonized.txt_P1.0E-5 | -3.187932                                            | -3.416068                                            | -3.294405                                            | -3.843888                                            | -3.454052                                            | -3.368433                                            | -3.278508                                            | -3.881725                                            | -3.865424                                            | ...                                                  | -2.795401                                            | -2.999003                                            | -2.673082                                            | -2.124938                                            | -2.617293                                            | -3.142252                                            | -2.848721                                            | -4.271982                                            | -2.103210                                            | -3.142252                                            |\n",
       "| PD_meta_analysis_PDGENE_PDWBS.harmonized.txt_P1.0E-4 | -4.355123                                            | -5.012815                                            | -4.450888                                            | -5.483396                                            | -4.879398                                            | -4.654569                                            | -4.332712                                            | -5.059196                                            | -5.504932                                            | ...                                                  | -3.828802                                            | -4.161271                                            | -3.541309                                            | -3.174948                                            | -3.650694                                            | -4.904581                                            | -4.244493                                            | -6.275054                                            | -3.229977                                            | -4.830935                                            |\n",
       "| PD_meta_analysis_PDGENE_PDWBS.harmonized.txt_P5.0E-8 | -1.465232                                            | -2.214769                                            | -1.571704                                            | -2.101434                                            | -2.286131                                            | -3.046577                                            | -2.956652                                            | -2.498743                                            | -2.271467                                            | ...                                                  | -1.920363                                            | -2.042971                                            | -1.579031                                            | -1.485754                                            | -1.727266                                            | -2.897796                                            | -2.102751                                            | -3.081226                                            | -1.301205                                            | -2.897796                                            |\n",
       "| PD_meta_analysis_PDGENE_PDWBS.harmonized.txt_P0.01   | -5.728541                                            | -6.437753                                            | -5.824307                                            | -6.274136                                            | -6.673776                                            | -6.298109                                            | -6.132565                                            | -6.524475                                            | -6.349251                                            | ...                                                  | -5.045365                                            | -6.024794                                            | -5.191826                                            | -4.802536                                            | -4.867256                                            | -6.056095                                            | -5.709745                                            | -7.807319                                            | -4.236028                                            | -5.813156                                            |\n",
       "\n"
      ],
      "text/plain": [
       "  X.                                                   HPSI0216i.tony_5\n",
       "1 PD_meta_analysis_PDGENE_PDWBS.harmonized.txt_P0.001  -5.319756       \n",
       "2 PD_meta_analysis_PDGENE_PDWBS.harmonized.txt_P1.0E-5 -3.187932       \n",
       "3 PD_meta_analysis_PDGENE_PDWBS.harmonized.txt_P1.0E-4 -4.355123       \n",
       "4 PD_meta_analysis_PDGENE_PDWBS.harmonized.txt_P5.0E-8 -1.465232       \n",
       "5 PD_meta_analysis_PDGENE_PDWBS.harmonized.txt_P0.01   -5.728541       \n",
       "  HPSI0316i.pecz_2 HPSI0216pf.tony HPSI0316pf.zuik HPSI0316i.xaqm_4\n",
       "1 -5.938082        -5.415521       -6.328778       -6.209180       \n",
       "2 -3.416068        -3.294405       -3.843888       -3.454052       \n",
       "3 -5.012815        -4.450888       -5.483396       -4.879398       \n",
       "4 -2.214769        -1.571704       -2.101434       -2.286131       \n",
       "5 -6.437753        -5.824307       -6.274136       -6.673776       \n",
       "  HPSI0316i.tezs_6 HPSI0316pf.tezs HPSI0216pf.puxp HPSI0316i.zuik_6 ...\n",
       "1 -5.918820        -5.735291       -6.571148       -6.444715        ...\n",
       "2 -3.368433        -3.278508       -3.881725       -3.865424        ...\n",
       "3 -4.654569        -4.332712       -5.059196       -5.504932        ...\n",
       "4 -3.046577        -2.956652       -2.498743       -2.271467        ...\n",
       "5 -6.298109        -6.132565       -6.524475       -6.349251        ...\n",
       "  HPSI0416i.eapo_2 HPSI0616i.duve_6 HPSI0616pf.bury HPSI0516i.peoo_1\n",
       "1 -4.895277        -5.842220        -4.795883       -4.524109       \n",
       "2 -2.795401        -2.999003        -2.673082       -2.124938       \n",
       "3 -3.828802        -4.161271        -3.541309       -3.174948       \n",
       "4 -1.920363        -2.042971        -1.579031       -1.485754       \n",
       "5 -5.045365        -6.024794        -5.191826       -4.802536       \n",
       "  HPSI0416pf.eapo HPSI0616i.mifg_5 HPSI0516pf.eosr HPSI0616pf.xuvy\n",
       "1 -4.717168       -5.774807        -5.551278       -7.774584      \n",
       "2 -2.617293       -3.142252        -2.848721       -4.271982      \n",
       "3 -3.650694       -4.904581        -4.244493       -6.275054      \n",
       "4 -1.727266       -2.897796        -2.102751       -3.081226      \n",
       "5 -4.867256       -6.056095        -5.709745       -7.807319      \n",
       "  HPSI0416pf.cihd HPSI0616i.mifg_2\n",
       "1 -4.187174       -5.531868       \n",
       "2 -2.103210       -3.142252       \n",
       "3 -3.229977       -4.830935       \n",
       "4 -1.301205       -2.897796       \n",
       "5 -4.236028       -5.813156       "
      ]
     },
     "metadata": {},
     "output_type": "display_data"
    }
   ],
   "source": [
    "myfile = paste0(PD_dir, \"rawScoreMatrix.txt\")\n",
    "df1 = read.csv(myfile,sep='\\t')\n",
    "df1"
   ]
  },
  {
   "cell_type": "code",
   "execution_count": 49,
   "metadata": {},
   "outputs": [
    {
     "data": {
      "text/html": [
       "<table>\n",
       "<thead><tr><th scope=col>X-</th><th scope=col>HPSI0216i-tony_5</th><th scope=col>HPSI0316i-pecz_2</th><th scope=col>HPSI0216pf-tony</th><th scope=col>HPSI0316pf-zuik</th><th scope=col>HPSI0316i-xaqm_4</th><th scope=col>HPSI0316i-tezs_6</th><th scope=col>HPSI0316pf-tezs</th><th scope=col>HPSI0216pf-puxp</th><th scope=col>HPSI0316i-zuik_6</th><th scope=col>...</th><th scope=col>HPSI0416i-eapo_2</th><th scope=col>HPSI0616i-duve_6</th><th scope=col>HPSI0616pf-bury</th><th scope=col>HPSI0516i-peoo_1</th><th scope=col>HPSI0416pf-eapo</th><th scope=col>HPSI0616i-mifg_5</th><th scope=col>HPSI0516pf-eosr</th><th scope=col>HPSI0616pf-xuvy</th><th scope=col>HPSI0416pf-cihd</th><th scope=col>HPSI0616i-mifg_2</th></tr></thead>\n",
       "<tbody>\n",
       "\t<tr><td>PD_meta_analysis_PDGENE_PDWBS.harmonized.txt_P0.001 </td><td>-5.319756                                           </td><td>-5.938082                                           </td><td>-5.415521                                           </td><td>-6.328778                                           </td><td>-6.209180                                           </td><td>-5.918820                                           </td><td>-5.735291                                           </td><td>-6.571148                                           </td><td>-6.444715                                           </td><td>...                                                 </td><td>-4.895277                                           </td><td>-5.842220                                           </td><td>-4.795883                                           </td><td>-4.524109                                           </td><td>-4.717168                                           </td><td>-5.774807                                           </td><td>-5.551278                                           </td><td>-7.774584                                           </td><td>-4.187174                                           </td><td>-5.531868                                           </td></tr>\n",
       "\t<tr><td>PD_meta_analysis_PDGENE_PDWBS.harmonized.txt_P1.0E-5</td><td>-3.187932                                           </td><td>-3.416068                                           </td><td>-3.294405                                           </td><td>-3.843888                                           </td><td>-3.454052                                           </td><td>-3.368433                                           </td><td>-3.278508                                           </td><td>-3.881725                                           </td><td>-3.865424                                           </td><td>...                                                 </td><td>-2.795401                                           </td><td>-2.999003                                           </td><td>-2.673082                                           </td><td>-2.124938                                           </td><td>-2.617293                                           </td><td>-3.142252                                           </td><td>-2.848721                                           </td><td>-4.271982                                           </td><td>-2.103210                                           </td><td>-3.142252                                           </td></tr>\n",
       "</tbody>\n",
       "</table>\n"
      ],
      "text/latex": [
       "\\begin{tabular}{r|llllllllllllllllllllllllllllllllllllllllllllllllllllllllllllllllllllllllllllllllllllllllllllllllllllllllllllllllllllllllllllllllllllllllllllllllllllllllllllllllllllllllllllllllllllllllllllllllllllllllllllllllllllllllllllllllllllllllllllllllllllllllllllllllllllllllllllllllllllllllllllllllllllllllllllllllllllllllllllllllllllllllllllllllllllllllllllllllllllllllllllllllllllllllllllllllllllllllllllllllllllllllllllllllllllllllllllllllllllllllllllllllllllllllllllllllllllllllllllllllllllllllllllllllllllllllllllllllllllllllllllllllllllllllllllllllllllllllllllllllllllllllllllllllllllllllllllllllllllllllllllllllllllllllllllllllllllllllllllllllllllllllllllllllllllllllllllllllllllllllllllllllllllllllllllllllllllllllllllllllllllllllllllllllllllllllllllllllllllllllllllllllllllllllllllllllllllllllllllllllllllllllllllllllllllllllllllllllllllllllllllllllllllllllllllllllllllllllllllllllllllllllllllllllllllllllllllllllllllllllllllllllllllllllllllllllllllllllllllllllllllllllllllllllllllllllllllllllllllllllllllllllllllllllllllllllllllllllllllllllllllllllllllllllllllllllllllllllllllllllllllllllllllllllllllllllllllllllllllllllllllllllllllllllllllllllllllllllllllllllllllllllllllllllllllllllllllllllllllllllllllllllllllllllllllllllllllllllllllllllllllllllllllllllllllllllllllllllllllllllllllllllllllllllllllllllllllllllllllllllllllllllllllllllllllllllllllllllllllllllllllllllllllllllllllllllllllllllllllllllllllllllllllllllllllllllllllllllllllllllllllllllllllllllllllllllllllllllllllllllllllllllllllllllllllllllllllllllllllllllllllllllllllllllllllllllllllllllllllllllllllllllllllllllllllllllllllllllllllllllllllllllllllllllllllllllllllllllllllllllllllllllllllllllllllllllllllllllllllllllllllllllllllllllllllllllllllllllllllllllllllllllllllllllllllllllllllllllllllllllllllllllllllllllllllllllllllllllllllllllllllllllllllllllllllllllllllllllllllllllllllllllllllllllllllllllllllllllllllllllllllllllllllllllllllllllllllllllllllllllllllllllllllllllllllllllllllllllll}\n",
       " X- & HPSI0216i-tony\\_5 & HPSI0316i-pecz\\_2 & HPSI0216pf-tony & HPSI0316pf-zuik & HPSI0316i-xaqm\\_4 & HPSI0316i-tezs\\_6 & HPSI0316pf-tezs & HPSI0216pf-puxp & HPSI0316i-zuik\\_6 & ... & HPSI0416i-eapo\\_2 & HPSI0616i-duve\\_6 & HPSI0616pf-bury & HPSI0516i-peoo\\_1 & HPSI0416pf-eapo & HPSI0616i-mifg\\_5 & HPSI0516pf-eosr & HPSI0616pf-xuvy & HPSI0416pf-cihd & HPSI0616i-mifg\\_2\\\\\n",
       "\\hline\n",
       "\t PD\\_meta\\_analysis\\_PDGENE\\_PDWBS.harmonized.txt\\_P0.001  & -5.319756                                                      & -5.938082                                                      & -5.415521                                                      & -6.328778                                                      & -6.209180                                                      & -5.918820                                                      & -5.735291                                                      & -6.571148                                                      & -6.444715                                                      & ...                                                            & -4.895277                                                      & -5.842220                                                      & -4.795883                                                      & -4.524109                                                      & -4.717168                                                      & -5.774807                                                      & -5.551278                                                      & -7.774584                                                      & -4.187174                                                      & -5.531868                                                     \\\\\n",
       "\t PD\\_meta\\_analysis\\_PDGENE\\_PDWBS.harmonized.txt\\_P1.0E-5 & -3.187932                                                      & -3.416068                                                      & -3.294405                                                      & -3.843888                                                      & -3.454052                                                      & -3.368433                                                      & -3.278508                                                      & -3.881725                                                      & -3.865424                                                      & ...                                                            & -2.795401                                                      & -2.999003                                                      & -2.673082                                                      & -2.124938                                                      & -2.617293                                                      & -3.142252                                                      & -2.848721                                                      & -4.271982                                                      & -2.103210                                                      & -3.142252                                                     \\\\\n",
       "\\end{tabular}\n"
      ],
      "text/markdown": [
       "\n",
       "| X- | HPSI0216i-tony_5 | HPSI0316i-pecz_2 | HPSI0216pf-tony | HPSI0316pf-zuik | HPSI0316i-xaqm_4 | HPSI0316i-tezs_6 | HPSI0316pf-tezs | HPSI0216pf-puxp | HPSI0316i-zuik_6 | ... | HPSI0416i-eapo_2 | HPSI0616i-duve_6 | HPSI0616pf-bury | HPSI0516i-peoo_1 | HPSI0416pf-eapo | HPSI0616i-mifg_5 | HPSI0516pf-eosr | HPSI0616pf-xuvy | HPSI0416pf-cihd | HPSI0616i-mifg_2 |\n",
       "|---|---|---|---|---|---|---|---|---|---|---|---|---|---|---|---|---|---|---|---|---|\n",
       "| PD_meta_analysis_PDGENE_PDWBS.harmonized.txt_P0.001  | -5.319756                                            | -5.938082                                            | -5.415521                                            | -6.328778                                            | -6.209180                                            | -5.918820                                            | -5.735291                                            | -6.571148                                            | -6.444715                                            | ...                                                  | -4.895277                                            | -5.842220                                            | -4.795883                                            | -4.524109                                            | -4.717168                                            | -5.774807                                            | -5.551278                                            | -7.774584                                            | -4.187174                                            | -5.531868                                            |\n",
       "| PD_meta_analysis_PDGENE_PDWBS.harmonized.txt_P1.0E-5 | -3.187932                                            | -3.416068                                            | -3.294405                                            | -3.843888                                            | -3.454052                                            | -3.368433                                            | -3.278508                                            | -3.881725                                            | -3.865424                                            | ...                                                  | -2.795401                                            | -2.999003                                            | -2.673082                                            | -2.124938                                            | -2.617293                                            | -3.142252                                            | -2.848721                                            | -4.271982                                            | -2.103210                                            | -3.142252                                            |\n",
       "\n"
      ],
      "text/plain": [
       "  X-                                                   HPSI0216i-tony_5\n",
       "1 PD_meta_analysis_PDGENE_PDWBS.harmonized.txt_P0.001  -5.319756       \n",
       "2 PD_meta_analysis_PDGENE_PDWBS.harmonized.txt_P1.0E-5 -3.187932       \n",
       "  HPSI0316i-pecz_2 HPSI0216pf-tony HPSI0316pf-zuik HPSI0316i-xaqm_4\n",
       "1 -5.938082        -5.415521       -6.328778       -6.209180       \n",
       "2 -3.416068        -3.294405       -3.843888       -3.454052       \n",
       "  HPSI0316i-tezs_6 HPSI0316pf-tezs HPSI0216pf-puxp HPSI0316i-zuik_6 ...\n",
       "1 -5.918820        -5.735291       -6.571148       -6.444715        ...\n",
       "2 -3.368433        -3.278508       -3.881725       -3.865424        ...\n",
       "  HPSI0416i-eapo_2 HPSI0616i-duve_6 HPSI0616pf-bury HPSI0516i-peoo_1\n",
       "1 -4.895277        -5.842220        -4.795883       -4.524109       \n",
       "2 -2.795401        -2.999003        -2.673082       -2.124938       \n",
       "  HPSI0416pf-eapo HPSI0616i-mifg_5 HPSI0516pf-eosr HPSI0616pf-xuvy\n",
       "1 -4.717168       -5.774807        -5.551278       -7.774584      \n",
       "2 -2.617293       -3.142252        -2.848721       -4.271982      \n",
       "  HPSI0416pf-cihd HPSI0616i-mifg_2\n",
       "1 -4.187174       -5.531868       \n",
       "2 -2.103210       -3.142252       "
      ]
     },
     "metadata": {},
     "output_type": "display_data"
    }
   ],
   "source": [
    "colnames(df1) = gsub(\"\\\\.\",\"-\",colnames(df1))\n",
    "head(df1,2)"
   ]
  },
  {
   "cell_type": "code",
   "execution_count": 50,
   "metadata": {},
   "outputs": [
    {
     "data": {
      "text/html": [
       "<table>\n",
       "<thead><tr><th scope=col>HPSI0514i-sohd_2</th><th scope=col>HPSI0115i-zihe_1</th><th scope=col>HPSI1014i-eesb_1</th><th scope=col>HPSI0913i-eika_2</th><th scope=col>HPSI0114i-lexy_2</th><th scope=col>HPSI1014i-quls_2</th><th scope=col>HPSI0514i-yewo_4</th><th scope=col>HPSI0314i-bubh_3</th><th scope=col>HPSI0714i-burb_1</th><th scope=col>HPSI0314i-xugn_2</th><th scope=col>...</th><th scope=col>HPSI0413i-nudd_1</th><th scope=col>HPSI0513i-pedc_1</th><th scope=col>HPSI0513i-dulv_1</th><th scope=col>HPSI0813i-peoj_1</th><th scope=col>HPSI0413i-yotv_2</th><th scope=col>HPSI0513i-dipe_1</th><th scope=col>HPSI0613i-bawa_1</th><th scope=col>HPSI0813i-aizi_3</th><th scope=col>HPSI0613i-hikj_2</th><th scope=col>HPSI0513i-momt_2</th></tr></thead>\n",
       "<tbody>\n",
       "\t<tr><td>-5.483230 </td><td>-8.387180 </td><td>-4.670357 </td><td>-3.897455 </td><td>-4.948312 </td><td>-5.303018 </td><td>-5.964805 </td><td>-4.1640571</td><td>-4.383183 </td><td>-5.985732 </td><td>...       </td><td>-5.915546 </td><td>-5.375945 </td><td>-4.6079429</td><td>-6.245278 </td><td>-3.2910973</td><td>-5.267230 </td><td>-5.273323 </td><td>-7.013980 </td><td>-3.558010 </td><td>-5.232030 </td></tr>\n",
       "\t<tr><td>-2.850875 </td><td>-5.871694 </td><td>-2.788014 </td><td>-1.761585 </td><td>-2.559547 </td><td>-3.250318 </td><td>-3.178700 </td><td>-1.5241365</td><td>-2.195166 </td><td>-3.436891 </td><td>...       </td><td>-3.542834 </td><td>-2.971528 </td><td>-1.9862841</td><td>-3.430952 </td><td>-1.0965764</td><td>-3.003669 </td><td>-2.371877 </td><td>-4.286376 </td><td>-1.239666 </td><td>-2.662926 </td></tr>\n",
       "\t<tr><td>-4.014496 </td><td>-7.329460 </td><td>-3.891084 </td><td>-2.947123 </td><td>-3.711328 </td><td>-4.212415 </td><td>-4.798101 </td><td>-2.8736818</td><td>-3.351726 </td><td>-5.013908 </td><td>...       </td><td>-5.074784 </td><td>-4.366031 </td><td>-3.3577261</td><td>-4.719945 </td><td>-2.0478952</td><td>-4.270271 </td><td>-3.465042 </td><td>-5.785918 </td><td>-2.375337 </td><td>-4.004947 </td></tr>\n",
       "\t<tr><td>-2.772736 </td><td>-3.848883 </td><td>-2.161347 </td><td>-1.351361 </td><td>-1.202133 </td><td>-1.894631 </td><td>-1.870982 </td><td>-0.6410899</td><td>-1.229661 </td><td>-2.827905 </td><td>...       </td><td>-2.980201 </td><td>-1.889896 </td><td>-0.9138659</td><td>-2.596743 </td><td>-0.9337567</td><td>-2.371620 </td><td>-1.686844 </td><td>-3.019793 </td><td>-0.860236 </td><td>-2.031493 </td></tr>\n",
       "\t<tr><td>-6.090408 </td><td>-8.792034 </td><td>-5.057132 </td><td>-4.181046 </td><td>-5.113710 </td><td>-5.761310 </td><td>-6.081171 </td><td>-4.4114621</td><td>-4.471973 </td><td>-6.558287 </td><td>...       </td><td>-6.405725 </td><td>-5.207357 </td><td>-5.1310901</td><td>-6.949527 </td><td>-3.1258172</td><td>-5.637322 </td><td>-5.710226 </td><td>-7.422563 </td><td>-3.873709 </td><td>-5.923208 </td></tr>\n",
       "</tbody>\n",
       "</table>\n"
      ],
      "text/latex": [
       "\\begin{tabular}{r|lllllllllllllllllllllllllllllllllllllllllllllllllllllllllllllllllllllllllllllllllllllllllllllllllllllllllllllllllllllllllllllllllllllllllllllllllllllllllllllllllllllllllllllllllllllllllllllllllllllll}\n",
       " HPSI0514i-sohd\\_2 & HPSI0115i-zihe\\_1 & HPSI1014i-eesb\\_1 & HPSI0913i-eika\\_2 & HPSI0114i-lexy\\_2 & HPSI1014i-quls\\_2 & HPSI0514i-yewo\\_4 & HPSI0314i-bubh\\_3 & HPSI0714i-burb\\_1 & HPSI0314i-xugn\\_2 & ... & HPSI0413i-nudd\\_1 & HPSI0513i-pedc\\_1 & HPSI0513i-dulv\\_1 & HPSI0813i-peoj\\_1 & HPSI0413i-yotv\\_2 & HPSI0513i-dipe\\_1 & HPSI0613i-bawa\\_1 & HPSI0813i-aizi\\_3 & HPSI0613i-hikj\\_2 & HPSI0513i-momt\\_2\\\\\n",
       "\\hline\n",
       "\t -5.483230  & -8.387180  & -4.670357  & -3.897455  & -4.948312  & -5.303018  & -5.964805  & -4.1640571 & -4.383183  & -5.985732  & ...        & -5.915546  & -5.375945  & -4.6079429 & -6.245278  & -3.2910973 & -5.267230  & -5.273323  & -7.013980  & -3.558010  & -5.232030 \\\\\n",
       "\t -2.850875  & -5.871694  & -2.788014  & -1.761585  & -2.559547  & -3.250318  & -3.178700  & -1.5241365 & -2.195166  & -3.436891  & ...        & -3.542834  & -2.971528  & -1.9862841 & -3.430952  & -1.0965764 & -3.003669  & -2.371877  & -4.286376  & -1.239666  & -2.662926 \\\\\n",
       "\t -4.014496  & -7.329460  & -3.891084  & -2.947123  & -3.711328  & -4.212415  & -4.798101  & -2.8736818 & -3.351726  & -5.013908  & ...        & -5.074784  & -4.366031  & -3.3577261 & -4.719945  & -2.0478952 & -4.270271  & -3.465042  & -5.785918  & -2.375337  & -4.004947 \\\\\n",
       "\t -2.772736  & -3.848883  & -2.161347  & -1.351361  & -1.202133  & -1.894631  & -1.870982  & -0.6410899 & -1.229661  & -2.827905  & ...        & -2.980201  & -1.889896  & -0.9138659 & -2.596743  & -0.9337567 & -2.371620  & -1.686844  & -3.019793  & -0.860236  & -2.031493 \\\\\n",
       "\t -6.090408  & -8.792034  & -5.057132  & -4.181046  & -5.113710  & -5.761310  & -6.081171  & -4.4114621 & -4.471973  & -6.558287  & ...        & -6.405725  & -5.207357  & -5.1310901 & -6.949527  & -3.1258172 & -5.637322  & -5.710226  & -7.422563  & -3.873709  & -5.923208 \\\\\n",
       "\\end{tabular}\n"
      ],
      "text/markdown": [
       "\n",
       "| HPSI0514i-sohd_2 | HPSI0115i-zihe_1 | HPSI1014i-eesb_1 | HPSI0913i-eika_2 | HPSI0114i-lexy_2 | HPSI1014i-quls_2 | HPSI0514i-yewo_4 | HPSI0314i-bubh_3 | HPSI0714i-burb_1 | HPSI0314i-xugn_2 | ... | HPSI0413i-nudd_1 | HPSI0513i-pedc_1 | HPSI0513i-dulv_1 | HPSI0813i-peoj_1 | HPSI0413i-yotv_2 | HPSI0513i-dipe_1 | HPSI0613i-bawa_1 | HPSI0813i-aizi_3 | HPSI0613i-hikj_2 | HPSI0513i-momt_2 |\n",
       "|---|---|---|---|---|---|---|---|---|---|---|---|---|---|---|---|---|---|---|---|---|\n",
       "| -5.483230  | -8.387180  | -4.670357  | -3.897455  | -4.948312  | -5.303018  | -5.964805  | -4.1640571 | -4.383183  | -5.985732  | ...        | -5.915546  | -5.375945  | -4.6079429 | -6.245278  | -3.2910973 | -5.267230  | -5.273323  | -7.013980  | -3.558010  | -5.232030  |\n",
       "| -2.850875  | -5.871694  | -2.788014  | -1.761585  | -2.559547  | -3.250318  | -3.178700  | -1.5241365 | -2.195166  | -3.436891  | ...        | -3.542834  | -2.971528  | -1.9862841 | -3.430952  | -1.0965764 | -3.003669  | -2.371877  | -4.286376  | -1.239666  | -2.662926  |\n",
       "| -4.014496  | -7.329460  | -3.891084  | -2.947123  | -3.711328  | -4.212415  | -4.798101  | -2.8736818 | -3.351726  | -5.013908  | ...        | -5.074784  | -4.366031  | -3.3577261 | -4.719945  | -2.0478952 | -4.270271  | -3.465042  | -5.785918  | -2.375337  | -4.004947  |\n",
       "| -2.772736  | -3.848883  | -2.161347  | -1.351361  | -1.202133  | -1.894631  | -1.870982  | -0.6410899 | -1.229661  | -2.827905  | ...        | -2.980201  | -1.889896  | -0.9138659 | -2.596743  | -0.9337567 | -2.371620  | -1.686844  | -3.019793  | -0.860236  | -2.031493  |\n",
       "| -6.090408  | -8.792034  | -5.057132  | -4.181046  | -5.113710  | -5.761310  | -6.081171  | -4.4114621 | -4.471973  | -6.558287  | ...        | -6.405725  | -5.207357  | -5.1310901 | -6.949527  | -3.1258172 | -5.637322  | -5.710226  | -7.422563  | -3.873709  | -5.923208  |\n",
       "\n"
      ],
      "text/plain": [
       "  HPSI0514i-sohd_2 HPSI0115i-zihe_1 HPSI1014i-eesb_1 HPSI0913i-eika_2\n",
       "1 -5.483230        -8.387180        -4.670357        -3.897455       \n",
       "2 -2.850875        -5.871694        -2.788014        -1.761585       \n",
       "3 -4.014496        -7.329460        -3.891084        -2.947123       \n",
       "4 -2.772736        -3.848883        -2.161347        -1.351361       \n",
       "5 -6.090408        -8.792034        -5.057132        -4.181046       \n",
       "  HPSI0114i-lexy_2 HPSI1014i-quls_2 HPSI0514i-yewo_4 HPSI0314i-bubh_3\n",
       "1 -4.948312        -5.303018        -5.964805        -4.1640571      \n",
       "2 -2.559547        -3.250318        -3.178700        -1.5241365      \n",
       "3 -3.711328        -4.212415        -4.798101        -2.8736818      \n",
       "4 -1.202133        -1.894631        -1.870982        -0.6410899      \n",
       "5 -5.113710        -5.761310        -6.081171        -4.4114621      \n",
       "  HPSI0714i-burb_1 HPSI0314i-xugn_2 ... HPSI0413i-nudd_1 HPSI0513i-pedc_1\n",
       "1 -4.383183        -5.985732        ... -5.915546        -5.375945       \n",
       "2 -2.195166        -3.436891        ... -3.542834        -2.971528       \n",
       "3 -3.351726        -5.013908        ... -5.074784        -4.366031       \n",
       "4 -1.229661        -2.827905        ... -2.980201        -1.889896       \n",
       "5 -4.471973        -6.558287        ... -6.405725        -5.207357       \n",
       "  HPSI0513i-dulv_1 HPSI0813i-peoj_1 HPSI0413i-yotv_2 HPSI0513i-dipe_1\n",
       "1 -4.6079429       -6.245278        -3.2910973       -5.267230       \n",
       "2 -1.9862841       -3.430952        -1.0965764       -3.003669       \n",
       "3 -3.3577261       -4.719945        -2.0478952       -4.270271       \n",
       "4 -0.9138659       -2.596743        -0.9337567       -2.371620       \n",
       "5 -5.1310901       -6.949527        -3.1258172       -5.637322       \n",
       "  HPSI0613i-bawa_1 HPSI0813i-aizi_3 HPSI0613i-hikj_2 HPSI0513i-momt_2\n",
       "1 -5.273323        -7.013980        -3.558010        -5.232030       \n",
       "2 -2.371877        -4.286376        -1.239666        -2.662926       \n",
       "3 -3.465042        -5.785918        -2.375337        -4.004947       \n",
       "4 -1.686844        -3.019793        -0.860236        -2.031493       \n",
       "5 -5.710226        -7.422563        -3.873709        -5.923208       "
      ]
     },
     "metadata": {},
     "output_type": "display_data"
    }
   ],
   "source": [
    "df1 = df1[,colnames(df1) %in% donors]\n",
    "head(df1)"
   ]
  },
  {
   "cell_type": "code",
   "execution_count": 51,
   "metadata": {},
   "outputs": [
    {
     "data": {
      "text/html": [
       "199"
      ],
      "text/latex": [
       "199"
      ],
      "text/markdown": [
       "199"
      ],
      "text/plain": [
       "[1] 199"
      ]
     },
     "metadata": {},
     "output_type": "display_data"
    }
   ],
   "source": [
    "ncol(df1)"
   ]
  },
  {
   "cell_type": "code",
   "execution_count": 83,
   "metadata": {},
   "outputs": [
    {
     "data": {
      "text/html": [
       "<table>\n",
       "<thead><tr><th></th><th scope=col>donor_id</th><th scope=col>PRS</th></tr></thead>\n",
       "<tbody>\n",
       "\t<tr><th scope=row>HPSI0514i-sohd_2</th><td>HPSI0514i-sohd_2</td><td>-2.772736       </td></tr>\n",
       "\t<tr><th scope=row>HPSI0115i-zihe_1</th><td>HPSI0115i-zihe_1</td><td>-3.848883       </td></tr>\n",
       "\t<tr><th scope=row>HPSI1014i-eesb_1</th><td>HPSI1014i-eesb_1</td><td>-2.161347       </td></tr>\n",
       "\t<tr><th scope=row>HPSI0913i-eika_2</th><td>HPSI0913i-eika_2</td><td>-1.351361       </td></tr>\n",
       "\t<tr><th scope=row>HPSI0114i-lexy_2</th><td>HPSI0114i-lexy_2</td><td>-1.202133       </td></tr>\n",
       "\t<tr><th scope=row>HPSI1014i-quls_2</th><td>HPSI1014i-quls_2</td><td>-1.894631       </td></tr>\n",
       "</tbody>\n",
       "</table>\n"
      ],
      "text/latex": [
       "\\begin{tabular}{r|ll}\n",
       "  & donor\\_id & PRS\\\\\n",
       "\\hline\n",
       "\tHPSI0514i-sohd\\_2 & HPSI0514i-sohd\\_2 & -2.772736         \\\\\n",
       "\tHPSI0115i-zihe\\_1 & HPSI0115i-zihe\\_1 & -3.848883         \\\\\n",
       "\tHPSI1014i-eesb\\_1 & HPSI1014i-eesb\\_1 & -2.161347         \\\\\n",
       "\tHPSI0913i-eika\\_2 & HPSI0913i-eika\\_2 & -1.351361         \\\\\n",
       "\tHPSI0114i-lexy\\_2 & HPSI0114i-lexy\\_2 & -1.202133         \\\\\n",
       "\tHPSI1014i-quls\\_2 & HPSI1014i-quls\\_2 & -1.894631         \\\\\n",
       "\\end{tabular}\n"
      ],
      "text/markdown": [
       "\n",
       "| <!--/--> | donor_id | PRS |\n",
       "|---|---|---|\n",
       "| HPSI0514i-sohd_2 | HPSI0514i-sohd_2 | -2.772736        |\n",
       "| HPSI0115i-zihe_1 | HPSI0115i-zihe_1 | -3.848883        |\n",
       "| HPSI1014i-eesb_1 | HPSI1014i-eesb_1 | -2.161347        |\n",
       "| HPSI0913i-eika_2 | HPSI0913i-eika_2 | -1.351361        |\n",
       "| HPSI0114i-lexy_2 | HPSI0114i-lexy_2 | -1.202133        |\n",
       "| HPSI1014i-quls_2 | HPSI1014i-quls_2 | -1.894631        |\n",
       "\n"
      ],
      "text/plain": [
       "                 donor_id         PRS      \n",
       "HPSI0514i-sohd_2 HPSI0514i-sohd_2 -2.772736\n",
       "HPSI0115i-zihe_1 HPSI0115i-zihe_1 -3.848883\n",
       "HPSI1014i-eesb_1 HPSI1014i-eesb_1 -2.161347\n",
       "HPSI0913i-eika_2 HPSI0913i-eika_2 -1.351361\n",
       "HPSI0114i-lexy_2 HPSI0114i-lexy_2 -1.202133\n",
       "HPSI1014i-quls_2 HPSI1014i-quls_2 -1.894631"
      ]
     },
     "metadata": {},
     "output_type": "display_data"
    }
   ],
   "source": [
    "df2 = data.frame(donor_id = colnames(df1), PRS_0.001 = t(df1[4,]))\n",
    "colnames(df2)[2] = 'PRS'\n",
    "head(df2)"
   ]
  },
  {
   "cell_type": "code",
   "execution_count": 84,
   "metadata": {},
   "outputs": [
    {
     "name": "stderr",
     "output_type": "stream",
     "text": [
      "Joining, by = \"donor_id\"\n"
     ]
    },
    {
     "data": {
      "text/html": [
       "<table>\n",
       "<thead><tr><th scope=col>donor_id</th><th scope=col>mean_neuro</th><th scope=col>PRS</th></tr></thead>\n",
       "<tbody>\n",
       "\t<tr><td>HPSI0114i-bezi_3</td><td>0.57876802      </td><td>-2.0596187      </td></tr>\n",
       "\t<tr><td>HPSI0114i-eipl_1</td><td>0.01278164      </td><td>-4.3191145      </td></tr>\n",
       "\t<tr><td>HPSI0114i-fikt_3</td><td>0.40896921      </td><td>-0.2416029      </td></tr>\n",
       "\t<tr><td>HPSI0114i-kolf_2</td><td>0.47284436      </td><td>-1.8274502      </td></tr>\n",
       "\t<tr><td>HPSI0114i-lexy_2</td><td>0.72873194      </td><td>-1.2021333      </td></tr>\n",
       "\t<tr><td>HPSI0114i-posc_1</td><td>0.80947368      </td><td>-1.9493460      </td></tr>\n",
       "</tbody>\n",
       "</table>\n"
      ],
      "text/latex": [
       "\\begin{tabular}{r|lll}\n",
       " donor\\_id & mean\\_neuro & PRS\\\\\n",
       "\\hline\n",
       "\t HPSI0114i-bezi\\_3 & 0.57876802         & -2.0596187        \\\\\n",
       "\t HPSI0114i-eipl\\_1 & 0.01278164         & -4.3191145        \\\\\n",
       "\t HPSI0114i-fikt\\_3 & 0.40896921         & -0.2416029        \\\\\n",
       "\t HPSI0114i-kolf\\_2 & 0.47284436         & -1.8274502        \\\\\n",
       "\t HPSI0114i-lexy\\_2 & 0.72873194         & -1.2021333        \\\\\n",
       "\t HPSI0114i-posc\\_1 & 0.80947368         & -1.9493460        \\\\\n",
       "\\end{tabular}\n"
      ],
      "text/markdown": [
       "\n",
       "| donor_id | mean_neuro | PRS |\n",
       "|---|---|---|\n",
       "| HPSI0114i-bezi_3 | 0.57876802       | -2.0596187       |\n",
       "| HPSI0114i-eipl_1 | 0.01278164       | -4.3191145       |\n",
       "| HPSI0114i-fikt_3 | 0.40896921       | -0.2416029       |\n",
       "| HPSI0114i-kolf_2 | 0.47284436       | -1.8274502       |\n",
       "| HPSI0114i-lexy_2 | 0.72873194       | -1.2021333       |\n",
       "| HPSI0114i-posc_1 | 0.80947368       | -1.9493460       |\n",
       "\n"
      ],
      "text/plain": [
       "  donor_id         mean_neuro PRS       \n",
       "1 HPSI0114i-bezi_3 0.57876802 -2.0596187\n",
       "2 HPSI0114i-eipl_1 0.01278164 -4.3191145\n",
       "3 HPSI0114i-fikt_3 0.40896921 -0.2416029\n",
       "4 HPSI0114i-kolf_2 0.47284436 -1.8274502\n",
       "5 HPSI0114i-lexy_2 0.72873194 -1.2021333\n",
       "6 HPSI0114i-posc_1 0.80947368 -1.9493460"
      ]
     },
     "metadata": {},
     "output_type": "display_data"
    }
   ],
   "source": [
    "df3 = inner_join(df,df2)\n",
    "head(df3)"
   ]
  },
  {
   "cell_type": "code",
   "execution_count": 85,
   "metadata": {},
   "outputs": [
    {
     "data": {
      "text/plain": [
       "\n",
       "\tPearson's product-moment correlation\n",
       "\n",
       "data:  df3$PRS and df3$mean_neuro\n",
       "t = 0.23397, df = 197, p-value = 0.8153\n",
       "alternative hypothesis: true correlation is not equal to 0\n",
       "95 percent confidence interval:\n",
       " -0.1227071  0.1553969\n",
       "sample estimates:\n",
       "       cor \n",
       "0.01666727 \n"
      ]
     },
     "metadata": {},
     "output_type": "display_data"
    }
   ],
   "source": [
    "cor.test(df3$PRS, df3$mean_neuro)"
   ]
  },
  {
   "cell_type": "code",
   "execution_count": 86,
   "metadata": {},
   "outputs": [
    {
     "data": {
      "text/html": [
       "0.0166672705302626"
      ],
      "text/latex": [
       "0.0166672705302626"
      ],
      "text/markdown": [
       "0.0166672705302626"
      ],
      "text/plain": [
       "[1] 0.01666727"
      ]
     },
     "metadata": {},
     "output_type": "display_data"
    },
    {
     "data": {
      "image/png": "[encoded data removed]",
      "text/plain": [
       "plot without title"
      ]
     },
     "metadata": {},
     "output_type": "display_data"
    }
   ],
   "source": [
    "cor(df3$PRS, df3$mean_neuro)\n",
    "ggplot(df3, aes(x = PRS, y = mean_neuro)) + geom_point()"
   ]
  },
  {
   "cell_type": "code",
   "execution_count": 87,
   "metadata": {},
   "outputs": [],
   "source": [
    "###### SCZ"
   ]
  },
  {
   "cell_type": "code",
   "execution_count": 105,
   "metadata": {},
   "outputs": [
    {
     "data": {
      "text/html": [
       "<table>\n",
       "<thead><tr><th></th><th scope=col>X.</th><th scope=col>X55108</th><th scope=col>X55111</th><th scope=col>X55117</th><th scope=col>X55118</th><th scope=col>X55120</th><th scope=col>X55122</th><th scope=col>X55133</th><th scope=col>X55136</th><th scope=col>X55138</th><th scope=col>...</th><th scope=col>HPSI0416i.eapo_2</th><th scope=col>HPSI0616i.duve_6</th><th scope=col>HPSI0616pf.bury</th><th scope=col>HPSI0516i.peoo_1</th><th scope=col>HPSI0416pf.eapo</th><th scope=col>HPSI0616i.mifg_5</th><th scope=col>HPSI0516pf.eosr</th><th scope=col>HPSI0616pf.xuvy</th><th scope=col>HPSI0416pf.cihd</th><th scope=col>HPSI0616i.mifg_2</th></tr></thead>\n",
       "<tbody>\n",
       "\t<tr><th scope=row>NA</th><td>NA </td><td>NA </td><td>NA </td><td>NA </td><td>NA </td><td>NA </td><td>NA </td><td>NA </td><td>NA </td><td>NA </td><td>...</td><td>NA </td><td>NA </td><td>NA </td><td>NA </td><td>NA </td><td>NA </td><td>NA </td><td>NA </td><td>NA </td><td>NA </td></tr>\n",
       "</tbody>\n",
       "</table>\n"
      ],
      "text/latex": [
       "\\begin{tabular}{r|llllllllllllllllllllllllllllllllllllllllllllllllllllllllllllllllllllllllllllllllllllllllllllllllllllllllllllllllllllllllllllllllllllllllllllllllllllllllllllllllllllllllllllllllllllllllllllllllllllllllllllllllllllllllllllllllllllllllllllllllllllllllllllllllllllllllllllllllllllllllllllllllllllllllllllllllllllllllllllllllllllllllllllllllllllllllllllllllllllllllllllllllllllllllllllllllllllllllllllllllllllllllllllllllllllllllllllllllllllllllllllllllllllllllllllllllllllllllllllllllllllllllllllllllllllllllllllllllllllllllllllllllllllllllllllllllllllllllllllllllllllllllllllllllllllllllllllllllllllllllllllllllllllllllllllllllllllllllllllllllllllllllllllllllllllllllllllllllllllllllllllllllllllllllllllllllllllllllllllllllllllllllllllllllllllllllllllllllllllllllllllllllllllllllllllllllllllllllllllllllllllllllllllllllllllllllllllllllllllllllllllllllllllllllllllllllllllllllllllllllllllllllllllllllllllllllllllllllllllllllllllllllllllllllllllllllllllllllllllllllllllllllllllllllllllllllllllllllllllllllllllllllllllllllllllllllllllllllllllllllllllllllllllllllllllllllllllllllllllllllllllllllllllllllllllllllllllllllllllllllllllllllllllllllllllllllllllllllllllllllllllllllllllllllllllllllllllllllllllllllllllllllllllllllllllllllllllllllllllllllllllllllllllllllllllllllllllllllllllllllllllllllllllllllllllllllllllllllllllllllllllllllllllllllllllllllllllllllllllllllllllllllllllllllllllllllllllllllllllllllllllllllllllllllllllllllllllllllllllllllllllllllllllllllllllllllllllllllllllllllllllllllllllllllllllllllllllllllllllllllllllllllllllllllllllllllllllllllllllllllllllllllllllllllllllllllllllllllllllllllllllllllllllllllllllllllllllllllllllllllllllllllllllllllllllllllllllllllllllllllllllllllllllllllllllllllllllllllllllllllllllllllllllllllllllllllllllllllllllllllllllllllllllllllllllllllllllllllllllllllllllllllllllllllllllllllllllllllllllllllllllllllllllllllllllllllllllllllllllllllllllllllllllllllllllllllllllllllllllllllllllllllllllllllllllllllllllllllllllllllllllllllllllllllllllllllllllllllllllllllllllllllllllllllllllllllllllllllllllllllllllllllllllllllllllllllllllllllllllllllllllllllllllllllllllllllllllllllllllllllllllllllllllllllllllllllllllllllllllllllllllllllllllllllllllllllllllllllllllllllllllllllllllllllllllllllllllllllllllllllllllllllllllllllllllllllllllllllllllllllllllllllllllllllllllllllllllllllllllllllllllllllllllllllllllllllllllllllllllllllllllllllllllllllllllllllllllllllllllllllllllllllllllllllllllllllllllllllllllllllllllllllllllllllllllllllllllllllllllllllllllllllllllllllllllllllllllllllllllllllllllllllllllll}\n",
       "  & X. & X55108 & X55111 & X55117 & X55118 & X55120 & X55122 & X55133 & X55136 & X55138 & ... & HPSI0416i.eapo\\_2 & HPSI0616i.duve\\_6 & HPSI0616pf.bury & HPSI0516i.peoo\\_1 & HPSI0416pf.eapo & HPSI0616i.mifg\\_5 & HPSI0516pf.eosr & HPSI0616pf.xuvy & HPSI0416pf.cihd & HPSI0616i.mifg\\_2\\\\\n",
       "\\hline\n",
       "\tNA & NA  & NA  & NA  & NA  & NA  & NA  & NA  & NA  & NA  & NA  & ... & NA  & NA  & NA  & NA  & NA  & NA  & NA  & NA  & NA  & NA \\\\\n",
       "\\end{tabular}\n"
      ],
      "text/markdown": [
       "\n",
       "| <!--/--> | X. | X55108 | X55111 | X55117 | X55118 | X55120 | X55122 | X55133 | X55136 | X55138 | ... | HPSI0416i.eapo_2 | HPSI0616i.duve_6 | HPSI0616pf.bury | HPSI0516i.peoo_1 | HPSI0416pf.eapo | HPSI0616i.mifg_5 | HPSI0516pf.eosr | HPSI0616pf.xuvy | HPSI0416pf.cihd | HPSI0616i.mifg_2 |\n",
       "|---|---|---|---|---|---|---|---|---|---|---|---|---|---|---|---|---|---|---|---|---|---|\n",
       "| NA | NA  | NA  | NA  | NA  | NA  | NA  | NA  | NA  | NA  | NA  | ... | NA  | NA  | NA  | NA  | NA  | NA  | NA  | NA  | NA  | NA  |\n",
       "\n"
      ],
      "text/plain": [
       "   X. X55108 X55111 X55117 X55118 X55120 X55122 X55133 X55136 X55138 ...\n",
       "NA NA NA     NA     NA     NA     NA     NA     NA     NA     NA     ...\n",
       "   HPSI0416i.eapo_2 HPSI0616i.duve_6 HPSI0616pf.bury HPSI0516i.peoo_1\n",
       "NA NA               NA               NA              NA              \n",
       "   HPSI0416pf.eapo HPSI0616i.mifg_5 HPSI0516pf.eosr HPSI0616pf.xuvy\n",
       "NA NA              NA               NA              NA             \n",
       "   HPSI0416pf.cihd HPSI0616i.mifg_2\n",
       "NA NA              NA              "
      ]
     },
     "metadata": {},
     "output_type": "display_data"
    }
   ],
   "source": [
    "myfilenames = \"/hps/nobackup/stegle/users/acuomo/all_scripts/sc_neuroseq/PRS/colnames.txt\"\n",
    "df_n = read.csv(myfilenames, sep='\\t')\n",
    "df_n[1,]"
   ]
  },
  {
   "cell_type": "code",
   "execution_count": 101,
   "metadata": {},
   "outputs": [
    {
     "data": {
      "text/html": [
       "<table>\n",
       "<thead><tr><th></th><th scope=col>V2</th><th scope=col>V3</th><th scope=col>V4</th><th scope=col>V5</th><th scope=col>V6</th><th scope=col>V7</th><th scope=col>V8</th><th scope=col>V9</th><th scope=col>V10</th><th scope=col>V11</th><th scope=col>...</th><th scope=col>V2525</th><th scope=col>V2526</th><th scope=col>V2527</th><th scope=col>V2528</th><th scope=col>V2529</th><th scope=col>V2530</th><th scope=col>V2531</th><th scope=col>V2532</th><th scope=col>V2533</th><th scope=col>V2534</th></tr></thead>\n",
       "<tbody>\n",
       "\t<tr><th scope=row>Schizophrenia_2014_25056061_hg19.txt.gz_P0.001</th><td>-5.407287   </td><td>-0.9715429  </td><td>-0.73089388 </td><td>-4.03636004 </td><td>-2.9403848  </td><td>-3.4104760  </td><td> 0.67641723 </td><td>-0.13240566 </td><td>-0.9695291  </td><td>-4.37772036 </td><td>...         </td><td>0.02361231  </td><td>-3.64642540 </td><td>-0.58932629 </td><td>-1.5168458  </td><td>0.05840732  </td><td>-2.332344384</td><td>-2.99758358 </td><td>-3.6365734  </td><td>-1.322473   </td><td>-2.257555554</td></tr>\n",
       "\t<tr><th scope=row>Schizophrenia_2014_25056061_hg19.txt.gz_P1.0E-5</th><td>-1.278630   </td><td>-0.2250306  </td><td> 0.08497827 </td><td>-0.14035983 </td><td>-1.0122765  </td><td>-0.3497338  </td><td> 0.23865509 </td><td>-0.58707932 </td><td>-0.8124494  </td><td>-0.26571817 </td><td>...         </td><td>0.84819500  </td><td>-0.04058344 </td><td> 0.46731969 </td><td>-0.1828269  </td><td>0.78119077  </td><td>-0.002679584</td><td>-0.05150076 </td><td>-0.7497274  </td><td> 1.042080   </td><td>-0.002679584</td></tr>\n",
       "\t<tr><th scope=row>Schizophrenia_2014_25056061_hg19.txt.gz_P1.0E-4</th><td>-1.469041   </td><td>-0.3158487  </td><td>-0.04012585 </td><td>-0.38515639 </td><td>-0.9842711  </td><td>-0.7000624  </td><td> 0.19732344 </td><td>-0.56725820 </td><td>-0.4461379  </td><td>-0.40947043 </td><td>...         </td><td>1.97700571  </td><td>-0.46525898 </td><td>-0.06795039 </td><td>-0.4077620  </td><td>1.95339842  </td><td>-0.557285275</td><td> 0.17304011 </td><td>-1.1579107  </td><td> 1.165845   </td><td>-0.581788185</td></tr>\n",
       "\t<tr><th scope=row>Schizophrenia_2014_25056061_hg19.txt.gz_P5.0E-8</th><td>-0.630403   </td><td> 0.0466995  </td><td> 0.10839551 </td><td>-0.08360955 </td><td> 0.1153086  </td><td>-0.3523169  </td><td>-0.07560515 </td><td>-0.58628215 </td><td>-0.6000994  </td><td> 0.02648938 </td><td>...         </td><td>0.09060177  </td><td>-0.02668286 </td><td>-0.32128967 </td><td>-0.4099977  </td><td>0.09060177  </td><td>-0.248176579</td><td>-0.01337725 </td><td>-0.2633963  </td><td> 0.088688   </td><td>-0.248176579</td></tr>\n",
       "\t<tr><th scope=row>Schizophrenia_2014_25056061_hg19.txt.gz_P0.01</th><td>-5.262437   </td><td> 1.1067646  </td><td>-1.51821527 </td><td>-3.90085433 </td><td>-0.7179872  </td><td>-1.7496532  </td><td> 6.49572385 </td><td>-0.04951528 </td><td> 5.9857238  </td><td>-6.03367998 </td><td>...         </td><td>3.93320712  </td><td>-3.24267973 </td><td> 5.56460812 </td><td>-3.5704385  </td><td>4.30109560  </td><td>-1.530433073</td><td> 1.17924189 </td><td>-5.3843346  </td><td>-1.335585   </td><td>-1.135050640</td></tr>\n",
       "</tbody>\n",
       "</table>\n"
      ],
      "text/latex": [
       "\\begin{tabular}{r|lllllllllllllllllllllllllllllllllllllllllllllllllllllllllllllllllllllllllllllllllllllllllllllllllllllllllllllllllllllllllllllllllllllllllllllllllllllllllllllllllllllllllllllllllllllllllllllllllllllllllllllllllllllllllllllllllllllllllllllllllllllllllllllllllllllllllllllllllllllllllllllllllllllllllllllllllllllllllllllllllllllllllllllllllllllllllllllllllllllllllllllllllllllllllllllllllllllllllllllllllllllllllllllllllllllllllllllllllllllllllllllllllllllllllllllllllllllllllllllllllllllllllllllllllllllllllllllllllllllllllllllllllllllllllllllllllllllllllllllllllllllllllllllllllllllllllllllllllllllllllllllllllllllllllllllllllllllllllllllllllllllllllllllllllllllllllllllllllllllllllllllllllllllllllllllllllllllllllllllllllllllllllllllllllllllllllllllllllllllllllllllllllllllllllllllllllllllllllllllllllllllllllllllllllllllllllllllllllllllllllllllllllllllllllllllllllllllllllllllllllllllllllllllllllllllllllllllllllllllllllllllllllllllllllllllllllllllllllllllllllllllllllllllllllllllllllllllllllllllllllllllllllllllllllllllllllllllllllllllllllllllllllllllllllllllllllllllllllllllllllllllllllllllllllllllllllllllllllllllllllllllllllllllllllllllllllllllllllllllllllllllllllllllllllllllllllllllllllllllllllllllllllllllllllllllllllllllllllllllllllllllllllllllllllllllllllllllllllllllllllllllllllllllllllllllllllllllllllllllllllllllllllllllllllllllllllllllllllllllllllllllllllllllllllllllllllllllllllllllllllllllllllllllllllllllllllllllllllllllllllllllllllllllllllllllllllllllllllllllllllllllllllllllllllllllllllllllllllllllllllllllllllllllllllllllllllllllllllllllllllllllllllllllllllllllllllllllllllllllllllllllllllllllllllllllllllllllllllllllllllllllllllllllllllllllllllllllllllllllllllllllllllllllllllllllllllllllllllllllllllllllllllllllllllllllllllllllllllllllllllllllllllllllllllllllllllllllllllllllllllllllllllllllllllllllllllllllllllllllllllllllllllllllllllllllllllllllllllllllllllllllllllllllllllllllllllllllllllllllllllllllllllllllllllllllllllllllllllllllllllllllllllllllllllllllllllllllllllllllllllllllllllllllllllllllllllllllllllllllllllllllllllllllllllllllllllllllllllllllllllllllllllllllllllllllllllllllllllllllllllllllllllllllllllllllllllllllllllllllllllllllllllllllllllllllllllllllllllllllllllllllllllllllllllllllllllllllllllllllllllllllllllllllllllllllllllllllllllllllllllllllllllllllllllllllllllllllllllllllllllllllllllllllllllllllllllllllllllllllllllllllllllllllllllllllllllllllllllllllllllllllllllllllllllllllllllllllllllllllllllllllllllllllllllllllllllllllllllllllllllllllllllllllllllllllllllllllllllllllllllllllllllllll}\n",
       "  & V2 & V3 & V4 & V5 & V6 & V7 & V8 & V9 & V10 & V11 & ... & V2525 & V2526 & V2527 & V2528 & V2529 & V2530 & V2531 & V2532 & V2533 & V2534\\\\\n",
       "\\hline\n",
       "\tSchizophrenia\\_2014\\_25056061\\_hg19.txt.gz\\_P0.001 & -5.407287    & -0.9715429   & -0.73089388  & -4.03636004  & -2.9403848   & -3.4104760   &  0.67641723  & -0.13240566  & -0.9695291   & -4.37772036  & ...          & 0.02361231   & -3.64642540  & -0.58932629  & -1.5168458   & 0.05840732   & -2.332344384 & -2.99758358  & -3.6365734   & -1.322473    & -2.257555554\\\\\n",
       "\tSchizophrenia\\_2014\\_25056061\\_hg19.txt.gz\\_P1.0E-5 & -1.278630    & -0.2250306   &  0.08497827  & -0.14035983  & -1.0122765   & -0.3497338   &  0.23865509  & -0.58707932  & -0.8124494   & -0.26571817  & ...          & 0.84819500   & -0.04058344  &  0.46731969  & -0.1828269   & 0.78119077   & -0.002679584 & -0.05150076  & -0.7497274   &  1.042080    & -0.002679584\\\\\n",
       "\tSchizophrenia\\_2014\\_25056061\\_hg19.txt.gz\\_P1.0E-4 & -1.469041    & -0.3158487   & -0.04012585  & -0.38515639  & -0.9842711   & -0.7000624   &  0.19732344  & -0.56725820  & -0.4461379   & -0.40947043  & ...          & 1.97700571   & -0.46525898  & -0.06795039  & -0.4077620   & 1.95339842   & -0.557285275 &  0.17304011  & -1.1579107   &  1.165845    & -0.581788185\\\\\n",
       "\tSchizophrenia\\_2014\\_25056061\\_hg19.txt.gz\\_P5.0E-8 & -0.630403    &  0.0466995   &  0.10839551  & -0.08360955  &  0.1153086   & -0.3523169   & -0.07560515  & -0.58628215  & -0.6000994   &  0.02648938  & ...          & 0.09060177   & -0.02668286  & -0.32128967  & -0.4099977   & 0.09060177   & -0.248176579 & -0.01337725  & -0.2633963   &  0.088688    & -0.248176579\\\\\n",
       "\tSchizophrenia\\_2014\\_25056061\\_hg19.txt.gz\\_P0.01 & -5.262437    &  1.1067646   & -1.51821527  & -3.90085433  & -0.7179872   & -1.7496532   &  6.49572385  & -0.04951528  &  5.9857238   & -6.03367998  & ...          & 3.93320712   & -3.24267973  &  5.56460812  & -3.5704385   & 4.30109560   & -1.530433073 &  1.17924189  & -5.3843346   & -1.335585    & -1.135050640\\\\\n",
       "\\end{tabular}\n"
      ],
      "text/markdown": [
       "\n",
       "| <!--/--> | V2 | V3 | V4 | V5 | V6 | V7 | V8 | V9 | V10 | V11 | ... | V2525 | V2526 | V2527 | V2528 | V2529 | V2530 | V2531 | V2532 | V2533 | V2534 |\n",
       "|---|---|---|---|---|---|---|---|---|---|---|---|---|---|---|---|---|---|---|---|---|---|\n",
       "| Schizophrenia_2014_25056061_hg19.txt.gz_P0.001 | -5.407287    | -0.9715429   | -0.73089388  | -4.03636004  | -2.9403848   | -3.4104760   |  0.67641723  | -0.13240566  | -0.9695291   | -4.37772036  | ...          | 0.02361231   | -3.64642540  | -0.58932629  | -1.5168458   | 0.05840732   | -2.332344384 | -2.99758358  | -3.6365734   | -1.322473    | -2.257555554 |\n",
       "| Schizophrenia_2014_25056061_hg19.txt.gz_P1.0E-5 | -1.278630    | -0.2250306   |  0.08497827  | -0.14035983  | -1.0122765   | -0.3497338   |  0.23865509  | -0.58707932  | -0.8124494   | -0.26571817  | ...          | 0.84819500   | -0.04058344  |  0.46731969  | -0.1828269   | 0.78119077   | -0.002679584 | -0.05150076  | -0.7497274   |  1.042080    | -0.002679584 |\n",
       "| Schizophrenia_2014_25056061_hg19.txt.gz_P1.0E-4 | -1.469041    | -0.3158487   | -0.04012585  | -0.38515639  | -0.9842711   | -0.7000624   |  0.19732344  | -0.56725820  | -0.4461379   | -0.40947043  | ...          | 1.97700571   | -0.46525898  | -0.06795039  | -0.4077620   | 1.95339842   | -0.557285275 |  0.17304011  | -1.1579107   |  1.165845    | -0.581788185 |\n",
       "| Schizophrenia_2014_25056061_hg19.txt.gz_P5.0E-8 | -0.630403    |  0.0466995   |  0.10839551  | -0.08360955  |  0.1153086   | -0.3523169   | -0.07560515  | -0.58628215  | -0.6000994   |  0.02648938  | ...          | 0.09060177   | -0.02668286  | -0.32128967  | -0.4099977   | 0.09060177   | -0.248176579 | -0.01337725  | -0.2633963   |  0.088688    | -0.248176579 |\n",
       "| Schizophrenia_2014_25056061_hg19.txt.gz_P0.01 | -5.262437    |  1.1067646   | -1.51821527  | -3.90085433  | -0.7179872   | -1.7496532   |  6.49572385  | -0.04951528  |  5.9857238   | -6.03367998  | ...          | 3.93320712   | -3.24267973  |  5.56460812  | -3.5704385   | 4.30109560   | -1.530433073 |  1.17924189  | -5.3843346   | -1.335585    | -1.135050640 |\n",
       "\n"
      ],
      "text/plain": [
       "                                                V2        V3        \n",
       "Schizophrenia_2014_25056061_hg19.txt.gz_P0.001  -5.407287 -0.9715429\n",
       "Schizophrenia_2014_25056061_hg19.txt.gz_P1.0E-5 -1.278630 -0.2250306\n",
       "Schizophrenia_2014_25056061_hg19.txt.gz_P1.0E-4 -1.469041 -0.3158487\n",
       "Schizophrenia_2014_25056061_hg19.txt.gz_P5.0E-8 -0.630403  0.0466995\n",
       "Schizophrenia_2014_25056061_hg19.txt.gz_P0.01   -5.262437  1.1067646\n",
       "                                                V4          V5         \n",
       "Schizophrenia_2014_25056061_hg19.txt.gz_P0.001  -0.73089388 -4.03636004\n",
       "Schizophrenia_2014_25056061_hg19.txt.gz_P1.0E-5  0.08497827 -0.14035983\n",
       "Schizophrenia_2014_25056061_hg19.txt.gz_P1.0E-4 -0.04012585 -0.38515639\n",
       "Schizophrenia_2014_25056061_hg19.txt.gz_P5.0E-8  0.10839551 -0.08360955\n",
       "Schizophrenia_2014_25056061_hg19.txt.gz_P0.01   -1.51821527 -3.90085433\n",
       "                                                V6         V7        \n",
       "Schizophrenia_2014_25056061_hg19.txt.gz_P0.001  -2.9403848 -3.4104760\n",
       "Schizophrenia_2014_25056061_hg19.txt.gz_P1.0E-5 -1.0122765 -0.3497338\n",
       "Schizophrenia_2014_25056061_hg19.txt.gz_P1.0E-4 -0.9842711 -0.7000624\n",
       "Schizophrenia_2014_25056061_hg19.txt.gz_P5.0E-8  0.1153086 -0.3523169\n",
       "Schizophrenia_2014_25056061_hg19.txt.gz_P0.01   -0.7179872 -1.7496532\n",
       "                                                V8          V9         \n",
       "Schizophrenia_2014_25056061_hg19.txt.gz_P0.001   0.67641723 -0.13240566\n",
       "Schizophrenia_2014_25056061_hg19.txt.gz_P1.0E-5  0.23865509 -0.58707932\n",
       "Schizophrenia_2014_25056061_hg19.txt.gz_P1.0E-4  0.19732344 -0.56725820\n",
       "Schizophrenia_2014_25056061_hg19.txt.gz_P5.0E-8 -0.07560515 -0.58628215\n",
       "Schizophrenia_2014_25056061_hg19.txt.gz_P0.01    6.49572385 -0.04951528\n",
       "                                                V10        V11         ...\n",
       "Schizophrenia_2014_25056061_hg19.txt.gz_P0.001  -0.9695291 -4.37772036 ...\n",
       "Schizophrenia_2014_25056061_hg19.txt.gz_P1.0E-5 -0.8124494 -0.26571817 ...\n",
       "Schizophrenia_2014_25056061_hg19.txt.gz_P1.0E-4 -0.4461379 -0.40947043 ...\n",
       "Schizophrenia_2014_25056061_hg19.txt.gz_P5.0E-8 -0.6000994  0.02648938 ...\n",
       "Schizophrenia_2014_25056061_hg19.txt.gz_P0.01    5.9857238 -6.03367998 ...\n",
       "                                                V2525      V2526      \n",
       "Schizophrenia_2014_25056061_hg19.txt.gz_P0.001  0.02361231 -3.64642540\n",
       "Schizophrenia_2014_25056061_hg19.txt.gz_P1.0E-5 0.84819500 -0.04058344\n",
       "Schizophrenia_2014_25056061_hg19.txt.gz_P1.0E-4 1.97700571 -0.46525898\n",
       "Schizophrenia_2014_25056061_hg19.txt.gz_P5.0E-8 0.09060177 -0.02668286\n",
       "Schizophrenia_2014_25056061_hg19.txt.gz_P0.01   3.93320712 -3.24267973\n",
       "                                                V2527       V2528     \n",
       "Schizophrenia_2014_25056061_hg19.txt.gz_P0.001  -0.58932629 -1.5168458\n",
       "Schizophrenia_2014_25056061_hg19.txt.gz_P1.0E-5  0.46731969 -0.1828269\n",
       "Schizophrenia_2014_25056061_hg19.txt.gz_P1.0E-4 -0.06795039 -0.4077620\n",
       "Schizophrenia_2014_25056061_hg19.txt.gz_P5.0E-8 -0.32128967 -0.4099977\n",
       "Schizophrenia_2014_25056061_hg19.txt.gz_P0.01    5.56460812 -3.5704385\n",
       "                                                V2529      V2530       \n",
       "Schizophrenia_2014_25056061_hg19.txt.gz_P0.001  0.05840732 -2.332344384\n",
       "Schizophrenia_2014_25056061_hg19.txt.gz_P1.0E-5 0.78119077 -0.002679584\n",
       "Schizophrenia_2014_25056061_hg19.txt.gz_P1.0E-4 1.95339842 -0.557285275\n",
       "Schizophrenia_2014_25056061_hg19.txt.gz_P5.0E-8 0.09060177 -0.248176579\n",
       "Schizophrenia_2014_25056061_hg19.txt.gz_P0.01   4.30109560 -1.530433073\n",
       "                                                V2531       V2532     \n",
       "Schizophrenia_2014_25056061_hg19.txt.gz_P0.001  -2.99758358 -3.6365734\n",
       "Schizophrenia_2014_25056061_hg19.txt.gz_P1.0E-5 -0.05150076 -0.7497274\n",
       "Schizophrenia_2014_25056061_hg19.txt.gz_P1.0E-4  0.17304011 -1.1579107\n",
       "Schizophrenia_2014_25056061_hg19.txt.gz_P5.0E-8 -0.01337725 -0.2633963\n",
       "Schizophrenia_2014_25056061_hg19.txt.gz_P0.01    1.17924189 -5.3843346\n",
       "                                                V2533     V2534       \n",
       "Schizophrenia_2014_25056061_hg19.txt.gz_P0.001  -1.322473 -2.257555554\n",
       "Schizophrenia_2014_25056061_hg19.txt.gz_P1.0E-5  1.042080 -0.002679584\n",
       "Schizophrenia_2014_25056061_hg19.txt.gz_P1.0E-4  1.165845 -0.581788185\n",
       "Schizophrenia_2014_25056061_hg19.txt.gz_P5.0E-8  0.088688 -0.248176579\n",
       "Schizophrenia_2014_25056061_hg19.txt.gz_P0.01   -1.335585 -1.135050640"
      ]
     },
     "metadata": {},
     "output_type": "display_data"
    }
   ],
   "source": [
    "myfile = \"/hps/nobackup/stegle/users/acuomo/all_scripts/sc_neuroseq/PRS/schizophrenia_2014_PRS.txt\"\n",
    "df1 = read.csv(myfile,sep='\\t', header = F, row.names = 1)\n",
    "df1"
   ]
  },
  {
   "cell_type": "code",
   "execution_count": 106,
   "metadata": {},
   "outputs": [
    {
     "data": {
      "text/html": [
       "<table>\n",
       "<thead><tr><th></th><th scope=col>X55108</th><th scope=col>X55111</th><th scope=col>X55117</th><th scope=col>X55118</th><th scope=col>X55120</th><th scope=col>X55122</th><th scope=col>X55133</th><th scope=col>X55136</th><th scope=col>X55138</th><th scope=col>X55142</th><th scope=col>...</th><th scope=col>HPSI0416i.eapo_2</th><th scope=col>HPSI0616i.duve_6</th><th scope=col>HPSI0616pf.bury</th><th scope=col>HPSI0516i.peoo_1</th><th scope=col>HPSI0416pf.eapo</th><th scope=col>HPSI0616i.mifg_5</th><th scope=col>HPSI0516pf.eosr</th><th scope=col>HPSI0616pf.xuvy</th><th scope=col>HPSI0416pf.cihd</th><th scope=col>HPSI0616i.mifg_2</th></tr></thead>\n",
       "<tbody>\n",
       "\t<tr><th scope=row>Schizophrenia_2014_25056061_hg19.txt.gz_P0.001</th><td>-5.407287   </td><td>-0.9715429  </td><td>-0.73089388 </td><td>-4.0363600  </td><td>-2.940385   </td><td>-3.4104760  </td><td>0.6764172   </td><td>-0.1324057  </td><td>-0.9695291  </td><td>-4.3777204  </td><td>...         </td><td>0.02361231  </td><td>-3.64642540 </td><td>-0.5893263  </td><td>-1.5168458  </td><td>0.05840732  </td><td>-2.332344384</td><td>-2.99758358 </td><td>-3.6365734  </td><td>-1.322473   </td><td>-2.257555554</td></tr>\n",
       "\t<tr><th scope=row>Schizophrenia_2014_25056061_hg19.txt.gz_P1.0E-5</th><td>-1.278630   </td><td>-0.2250306  </td><td> 0.08497827 </td><td>-0.1403598  </td><td>-1.012277   </td><td>-0.3497338  </td><td>0.2386551   </td><td>-0.5870793  </td><td>-0.8124494  </td><td>-0.2657182  </td><td>...         </td><td>0.84819500  </td><td>-0.04058344 </td><td> 0.4673197  </td><td>-0.1828269  </td><td>0.78119077  </td><td>-0.002679584</td><td>-0.05150076 </td><td>-0.7497274  </td><td> 1.042080   </td><td>-0.002679584</td></tr>\n",
       "</tbody>\n",
       "</table>\n"
      ],
      "text/latex": [
       "\\begin{tabular}{r|lllllllllllllllllllllllllllllllllllllllllllllllllllllllllllllllllllllllllllllllllllllllllllllllllllllllllllllllllllllllllllllllllllllllllllllllllllllllllllllllllllllllllllllllllllllllllllllllllllllllllllllllllllllllllllllllllllllllllllllllllllllllllllllllllllllllllllllllllllllllllllllllllllllllllllllllllllllllllllllllllllllllllllllllllllllllllllllllllllllllllllllllllllllllllllllllllllllllllllllllllllllllllllllllllllllllllllllllllllllllllllllllllllllllllllllllllllllllllllllllllllllllllllllllllllllllllllllllllllllllllllllllllllllllllllllllllllllllllllllllllllllllllllllllllllllllllllllllllllllllllllllllllllllllllllllllllllllllllllllllllllllllllllllllllllllllllllllllllllllllllllllllllllllllllllllllllllllllllllllllllllllllllllllllllllllllllllllllllllllllllllllllllllllllllllllllllllllllllllllllllllllllllllllllllllllllllllllllllllllllllllllllllllllllllllllllllllllllllllllllllllllllllllllllllllllllllllllllllllllllllllllllllllllllllllllllllllllllllllllllllllllllllllllllllllllllllllllllllllllllllllllllllllllllllllllllllllllllllllllllllllllllllllllllllllllllllllllllllllllllllllllllllllllllllllllllllllllllllllllllllllllllllllllllllllllllllllllllllllllllllllllllllllllllllllllllllllllllllllllllllllllllllllllllllllllllllllllllllllllllllllllllllllllllllllllllllllllllllllllllllllllllllllllllllllllllllllllllllllllllllllllllllllllllllllllllllllllllllllllllllllllllllllllllllllllllllllllllllllllllllllllllllllllllllllllllllllllllllllllllllllllllllllllllllllllllllllllllllllllllllllllllllllllllllllllllllllllllllllllllllllllllllllllllllllllllllllllllllllllllllllllllllllllllllllllllllllllllllllllllllllllllllllllllllllllllllllllllllllllllllllllllllllllllllllllllllllllllllllllllllllllllllllllllllllllllllllllllllllllllllllllllllllllllllllllllllllllllllllllllllllllllllllllllllllllllllllllllllllllllllllllllllllllllllllllllllllllllllllllllllllllllllllllllllllllllllllllllllllllllllllllllllllllllllllllllllllllllllllllllllllllllllllllllllllllllllllllllllllllllllllllllllllllllllllllllllllllllllllllllllllllllllllllllllllllllllllllllllllllllllllllllllllllllllllllllllllllllllllllllllllllllllllllllllllllllllllllllllllllllllllllllllllllllllllllllllllllllllllllllllllllllllllllllllllllllllllllllllllllllllllllllllllllllllllllllllllllllllllllllllllllllllllllllllllllllllllllllllllllllllllllllllllllllllllllllllllllllllllllllllllllllllllllllllllllllllllllllllllllllllllllllllllllllllllllllllllllllllllllllllllllllllllllllllllllllllllllllllllllllllllllllllllllllllllllllllllllllllllllllllllllllllllllllllllllllllllllllllllllllllllllllllllll}\n",
       "  & X55108 & X55111 & X55117 & X55118 & X55120 & X55122 & X55133 & X55136 & X55138 & X55142 & ... & HPSI0416i.eapo\\_2 & HPSI0616i.duve\\_6 & HPSI0616pf.bury & HPSI0516i.peoo\\_1 & HPSI0416pf.eapo & HPSI0616i.mifg\\_5 & HPSI0516pf.eosr & HPSI0616pf.xuvy & HPSI0416pf.cihd & HPSI0616i.mifg\\_2\\\\\n",
       "\\hline\n",
       "\tSchizophrenia\\_2014\\_25056061\\_hg19.txt.gz\\_P0.001 & -5.407287    & -0.9715429   & -0.73089388  & -4.0363600   & -2.940385    & -3.4104760   & 0.6764172    & -0.1324057   & -0.9695291   & -4.3777204   & ...          & 0.02361231   & -3.64642540  & -0.5893263   & -1.5168458   & 0.05840732   & -2.332344384 & -2.99758358  & -3.6365734   & -1.322473    & -2.257555554\\\\\n",
       "\tSchizophrenia\\_2014\\_25056061\\_hg19.txt.gz\\_P1.0E-5 & -1.278630    & -0.2250306   &  0.08497827  & -0.1403598   & -1.012277    & -0.3497338   & 0.2386551    & -0.5870793   & -0.8124494   & -0.2657182   & ...          & 0.84819500   & -0.04058344  &  0.4673197   & -0.1828269   & 0.78119077   & -0.002679584 & -0.05150076  & -0.7497274   &  1.042080    & -0.002679584\\\\\n",
       "\\end{tabular}\n"
      ],
      "text/markdown": [
       "\n",
       "| <!--/--> | X55108 | X55111 | X55117 | X55118 | X55120 | X55122 | X55133 | X55136 | X55138 | X55142 | ... | HPSI0416i.eapo_2 | HPSI0616i.duve_6 | HPSI0616pf.bury | HPSI0516i.peoo_1 | HPSI0416pf.eapo | HPSI0616i.mifg_5 | HPSI0516pf.eosr | HPSI0616pf.xuvy | HPSI0416pf.cihd | HPSI0616i.mifg_2 |\n",
       "|---|---|---|---|---|---|---|---|---|---|---|---|---|---|---|---|---|---|---|---|---|---|\n",
       "| Schizophrenia_2014_25056061_hg19.txt.gz_P0.001 | -5.407287    | -0.9715429   | -0.73089388  | -4.0363600   | -2.940385    | -3.4104760   | 0.6764172    | -0.1324057   | -0.9695291   | -4.3777204   | ...          | 0.02361231   | -3.64642540  | -0.5893263   | -1.5168458   | 0.05840732   | -2.332344384 | -2.99758358  | -3.6365734   | -1.322473    | -2.257555554 |\n",
       "| Schizophrenia_2014_25056061_hg19.txt.gz_P1.0E-5 | -1.278630    | -0.2250306   |  0.08497827  | -0.1403598   | -1.012277    | -0.3497338   | 0.2386551    | -0.5870793   | -0.8124494   | -0.2657182   | ...          | 0.84819500   | -0.04058344  |  0.4673197   | -0.1828269   | 0.78119077   | -0.002679584 | -0.05150076  | -0.7497274   |  1.042080    | -0.002679584 |\n",
       "\n"
      ],
      "text/plain": [
       "                                                X55108    X55111    \n",
       "Schizophrenia_2014_25056061_hg19.txt.gz_P0.001  -5.407287 -0.9715429\n",
       "Schizophrenia_2014_25056061_hg19.txt.gz_P1.0E-5 -1.278630 -0.2250306\n",
       "                                                X55117      X55118    \n",
       "Schizophrenia_2014_25056061_hg19.txt.gz_P0.001  -0.73089388 -4.0363600\n",
       "Schizophrenia_2014_25056061_hg19.txt.gz_P1.0E-5  0.08497827 -0.1403598\n",
       "                                                X55120    X55122     X55133   \n",
       "Schizophrenia_2014_25056061_hg19.txt.gz_P0.001  -2.940385 -3.4104760 0.6764172\n",
       "Schizophrenia_2014_25056061_hg19.txt.gz_P1.0E-5 -1.012277 -0.3497338 0.2386551\n",
       "                                                X55136     X55138    \n",
       "Schizophrenia_2014_25056061_hg19.txt.gz_P0.001  -0.1324057 -0.9695291\n",
       "Schizophrenia_2014_25056061_hg19.txt.gz_P1.0E-5 -0.5870793 -0.8124494\n",
       "                                                X55142     ... HPSI0416i.eapo_2\n",
       "Schizophrenia_2014_25056061_hg19.txt.gz_P0.001  -4.3777204 ... 0.02361231      \n",
       "Schizophrenia_2014_25056061_hg19.txt.gz_P1.0E-5 -0.2657182 ... 0.84819500      \n",
       "                                                HPSI0616i.duve_6\n",
       "Schizophrenia_2014_25056061_hg19.txt.gz_P0.001  -3.64642540     \n",
       "Schizophrenia_2014_25056061_hg19.txt.gz_P1.0E-5 -0.04058344     \n",
       "                                                HPSI0616pf.bury\n",
       "Schizophrenia_2014_25056061_hg19.txt.gz_P0.001  -0.5893263     \n",
       "Schizophrenia_2014_25056061_hg19.txt.gz_P1.0E-5  0.4673197     \n",
       "                                                HPSI0516i.peoo_1\n",
       "Schizophrenia_2014_25056061_hg19.txt.gz_P0.001  -1.5168458      \n",
       "Schizophrenia_2014_25056061_hg19.txt.gz_P1.0E-5 -0.1828269      \n",
       "                                                HPSI0416pf.eapo\n",
       "Schizophrenia_2014_25056061_hg19.txt.gz_P0.001  0.05840732     \n",
       "Schizophrenia_2014_25056061_hg19.txt.gz_P1.0E-5 0.78119077     \n",
       "                                                HPSI0616i.mifg_5\n",
       "Schizophrenia_2014_25056061_hg19.txt.gz_P0.001  -2.332344384    \n",
       "Schizophrenia_2014_25056061_hg19.txt.gz_P1.0E-5 -0.002679584    \n",
       "                                                HPSI0516pf.eosr HPSI0616pf.xuvy\n",
       "Schizophrenia_2014_25056061_hg19.txt.gz_P0.001  -2.99758358     -3.6365734     \n",
       "Schizophrenia_2014_25056061_hg19.txt.gz_P1.0E-5 -0.05150076     -0.7497274     \n",
       "                                                HPSI0416pf.cihd\n",
       "Schizophrenia_2014_25056061_hg19.txt.gz_P0.001  -1.322473      \n",
       "Schizophrenia_2014_25056061_hg19.txt.gz_P1.0E-5  1.042080      \n",
       "                                                HPSI0616i.mifg_2\n",
       "Schizophrenia_2014_25056061_hg19.txt.gz_P0.001  -2.257555554    \n",
       "Schizophrenia_2014_25056061_hg19.txt.gz_P1.0E-5 -0.002679584    "
      ]
     },
     "metadata": {},
     "output_type": "display_data"
    }
   ],
   "source": [
    "colnames(df1) = colnames(df_n)[2:ncol(df_n)]\n",
    "head(df1,2)"
   ]
  },
  {
   "cell_type": "code",
   "execution_count": 107,
   "metadata": {},
   "outputs": [
    {
     "data": {
      "text/html": [
       "<table>\n",
       "<thead><tr><th></th><th scope=col>X55108</th><th scope=col>X55111</th><th scope=col>X55117</th><th scope=col>X55118</th><th scope=col>X55120</th><th scope=col>X55122</th><th scope=col>X55133</th><th scope=col>X55136</th><th scope=col>X55138</th><th scope=col>X55142</th><th scope=col>...</th><th scope=col>HPSI0416i-eapo_2</th><th scope=col>HPSI0616i-duve_6</th><th scope=col>HPSI0616pf-bury</th><th scope=col>HPSI0516i-peoo_1</th><th scope=col>HPSI0416pf-eapo</th><th scope=col>HPSI0616i-mifg_5</th><th scope=col>HPSI0516pf-eosr</th><th scope=col>HPSI0616pf-xuvy</th><th scope=col>HPSI0416pf-cihd</th><th scope=col>HPSI0616i-mifg_2</th></tr></thead>\n",
       "<tbody>\n",
       "\t<tr><th scope=row>Schizophrenia_2014_25056061_hg19.txt.gz_P0.001</th><td>-5.407287   </td><td>-0.9715429  </td><td>-0.73089388 </td><td>-4.0363600  </td><td>-2.940385   </td><td>-3.4104760  </td><td>0.6764172   </td><td>-0.1324057  </td><td>-0.9695291  </td><td>-4.3777204  </td><td>...         </td><td>0.02361231  </td><td>-3.64642540 </td><td>-0.5893263  </td><td>-1.5168458  </td><td>0.05840732  </td><td>-2.332344384</td><td>-2.99758358 </td><td>-3.6365734  </td><td>-1.322473   </td><td>-2.257555554</td></tr>\n",
       "\t<tr><th scope=row>Schizophrenia_2014_25056061_hg19.txt.gz_P1.0E-5</th><td>-1.278630   </td><td>-0.2250306  </td><td> 0.08497827 </td><td>-0.1403598  </td><td>-1.012277   </td><td>-0.3497338  </td><td>0.2386551   </td><td>-0.5870793  </td><td>-0.8124494  </td><td>-0.2657182  </td><td>...         </td><td>0.84819500  </td><td>-0.04058344 </td><td> 0.4673197  </td><td>-0.1828269  </td><td>0.78119077  </td><td>-0.002679584</td><td>-0.05150076 </td><td>-0.7497274  </td><td> 1.042080   </td><td>-0.002679584</td></tr>\n",
       "</tbody>\n",
       "</table>\n"
      ],
      "text/latex": [
       "\\begin{tabular}{r|lllllllllllllllllllllllllllllllllllllllllllllllllllllllllllllllllllllllllllllllllllllllllllllllllllllllllllllllllllllllllllllllllllllllllllllllllllllllllllllllllllllllllllllllllllllllllllllllllllllllllllllllllllllllllllllllllllllllllllllllllllllllllllllllllllllllllllllllllllllllllllllllllllllllllllllllllllllllllllllllllllllllllllllllllllllllllllllllllllllllllllllllllllllllllllllllllllllllllllllllllllllllllllllllllllllllllllllllllllllllllllllllllllllllllllllllllllllllllllllllllllllllllllllllllllllllllllllllllllllllllllllllllllllllllllllllllllllllllllllllllllllllllllllllllllllllllllllllllllllllllllllllllllllllllllllllllllllllllllllllllllllllllllllllllllllllllllllllllllllllllllllllllllllllllllllllllllllllllllllllllllllllllllllllllllllllllllllllllllllllllllllllllllllllllllllllllllllllllllllllllllllllllllllllllllllllllllllllllllllllllllllllllllllllllllllllllllllllllllllllllllllllllllllllllllllllllllllllllllllllllllllllllllllllllllllllllllllllllllllllllllllllllllllllllllllllllllllllllllllllllllllllllllllllllllllllllllllllllllllllllllllllllllllllllllllllllllllllllllllllllllllllllllllllllllllllllllllllllllllllllllllllllllllllllllllllllllllllllllllllllllllllllllllllllllllllllllllllllllllllllllllllllllllllllllllllllllllllllllllllllllllllllllllllllllllllllllllllllllllllllllllllllllllllllllllllllllllllllllllllllllllllllllllllllllllllllllllllllllllllllllllllllllllllllllllllllllllllllllllllllllllllllllllllllllllllllllllllllllllllllllllllllllllllllllllllllllllllllllllllllllllllllllllllllllllllllllllllllllllllllllllllllllllllllllllllllllllllllllllllllllllllllllllllllllllllllllllllllllllllllllllllllllllllllllllllllllllllllllllllllllllllllllllllllllllllllllllllllllllllllllllllllllllllllllllllllllllllllllllllllllllllllllllllllllllllllllllllllllllllllllllllllllllllllllllllllllllllllllllllllllllllllllllllllllllllllllllllllllllllllllllllllllllllllllllllllllllllllllllllllllllllllllllllllllllllllllllllllllllllllllllllllllllllllllllllllllllllllllllllllllllllllllllllllllllllllllllllllllllllllllllllllllllllllllllllllllllllllllllllllllllllllllllllllllllllllllllllllllllllllllllllllllllllllllllllllllllllllllllllllllllllllllllllllllllllllllllllllllllllllllllllllllllllllllllllllllllllllllllllllllllllllllllllllllllllllllllllllllllllllllllllllllllllllllllllllllllllllllllllllllllllllllllllllllllllllllllllllllllllllllllllllllllllllllllllllllllllllllllllllllllllllllllllllllllllllllllllllllllllllllllllllllllllllllllllllllllllllllllllllllllllllllllllllllllllllllllllllllllllllllllllllllllllllllllllllllllllllllllllllllllllllllll}\n",
       "  & X55108 & X55111 & X55117 & X55118 & X55120 & X55122 & X55133 & X55136 & X55138 & X55142 & ... & HPSI0416i-eapo\\_2 & HPSI0616i-duve\\_6 & HPSI0616pf-bury & HPSI0516i-peoo\\_1 & HPSI0416pf-eapo & HPSI0616i-mifg\\_5 & HPSI0516pf-eosr & HPSI0616pf-xuvy & HPSI0416pf-cihd & HPSI0616i-mifg\\_2\\\\\n",
       "\\hline\n",
       "\tSchizophrenia\\_2014\\_25056061\\_hg19.txt.gz\\_P0.001 & -5.407287    & -0.9715429   & -0.73089388  & -4.0363600   & -2.940385    & -3.4104760   & 0.6764172    & -0.1324057   & -0.9695291   & -4.3777204   & ...          & 0.02361231   & -3.64642540  & -0.5893263   & -1.5168458   & 0.05840732   & -2.332344384 & -2.99758358  & -3.6365734   & -1.322473    & -2.257555554\\\\\n",
       "\tSchizophrenia\\_2014\\_25056061\\_hg19.txt.gz\\_P1.0E-5 & -1.278630    & -0.2250306   &  0.08497827  & -0.1403598   & -1.012277    & -0.3497338   & 0.2386551    & -0.5870793   & -0.8124494   & -0.2657182   & ...          & 0.84819500   & -0.04058344  &  0.4673197   & -0.1828269   & 0.78119077   & -0.002679584 & -0.05150076  & -0.7497274   &  1.042080    & -0.002679584\\\\\n",
       "\\end{tabular}\n"
      ],
      "text/markdown": [
       "\n",
       "| <!--/--> | X55108 | X55111 | X55117 | X55118 | X55120 | X55122 | X55133 | X55136 | X55138 | X55142 | ... | HPSI0416i-eapo_2 | HPSI0616i-duve_6 | HPSI0616pf-bury | HPSI0516i-peoo_1 | HPSI0416pf-eapo | HPSI0616i-mifg_5 | HPSI0516pf-eosr | HPSI0616pf-xuvy | HPSI0416pf-cihd | HPSI0616i-mifg_2 |\n",
       "|---|---|---|---|---|---|---|---|---|---|---|---|---|---|---|---|---|---|---|---|---|---|\n",
       "| Schizophrenia_2014_25056061_hg19.txt.gz_P0.001 | -5.407287    | -0.9715429   | -0.73089388  | -4.0363600   | -2.940385    | -3.4104760   | 0.6764172    | -0.1324057   | -0.9695291   | -4.3777204   | ...          | 0.02361231   | -3.64642540  | -0.5893263   | -1.5168458   | 0.05840732   | -2.332344384 | -2.99758358  | -3.6365734   | -1.322473    | -2.257555554 |\n",
       "| Schizophrenia_2014_25056061_hg19.txt.gz_P1.0E-5 | -1.278630    | -0.2250306   |  0.08497827  | -0.1403598   | -1.012277    | -0.3497338   | 0.2386551    | -0.5870793   | -0.8124494   | -0.2657182   | ...          | 0.84819500   | -0.04058344  |  0.4673197   | -0.1828269   | 0.78119077   | -0.002679584 | -0.05150076  | -0.7497274   |  1.042080    | -0.002679584 |\n",
       "\n"
      ],
      "text/plain": [
       "                                                X55108    X55111    \n",
       "Schizophrenia_2014_25056061_hg19.txt.gz_P0.001  -5.407287 -0.9715429\n",
       "Schizophrenia_2014_25056061_hg19.txt.gz_P1.0E-5 -1.278630 -0.2250306\n",
       "                                                X55117      X55118    \n",
       "Schizophrenia_2014_25056061_hg19.txt.gz_P0.001  -0.73089388 -4.0363600\n",
       "Schizophrenia_2014_25056061_hg19.txt.gz_P1.0E-5  0.08497827 -0.1403598\n",
       "                                                X55120    X55122     X55133   \n",
       "Schizophrenia_2014_25056061_hg19.txt.gz_P0.001  -2.940385 -3.4104760 0.6764172\n",
       "Schizophrenia_2014_25056061_hg19.txt.gz_P1.0E-5 -1.012277 -0.3497338 0.2386551\n",
       "                                                X55136     X55138    \n",
       "Schizophrenia_2014_25056061_hg19.txt.gz_P0.001  -0.1324057 -0.9695291\n",
       "Schizophrenia_2014_25056061_hg19.txt.gz_P1.0E-5 -0.5870793 -0.8124494\n",
       "                                                X55142     ... HPSI0416i-eapo_2\n",
       "Schizophrenia_2014_25056061_hg19.txt.gz_P0.001  -4.3777204 ... 0.02361231      \n",
       "Schizophrenia_2014_25056061_hg19.txt.gz_P1.0E-5 -0.2657182 ... 0.84819500      \n",
       "                                                HPSI0616i-duve_6\n",
       "Schizophrenia_2014_25056061_hg19.txt.gz_P0.001  -3.64642540     \n",
       "Schizophrenia_2014_25056061_hg19.txt.gz_P1.0E-5 -0.04058344     \n",
       "                                                HPSI0616pf-bury\n",
       "Schizophrenia_2014_25056061_hg19.txt.gz_P0.001  -0.5893263     \n",
       "Schizophrenia_2014_25056061_hg19.txt.gz_P1.0E-5  0.4673197     \n",
       "                                                HPSI0516i-peoo_1\n",
       "Schizophrenia_2014_25056061_hg19.txt.gz_P0.001  -1.5168458      \n",
       "Schizophrenia_2014_25056061_hg19.txt.gz_P1.0E-5 -0.1828269      \n",
       "                                                HPSI0416pf-eapo\n",
       "Schizophrenia_2014_25056061_hg19.txt.gz_P0.001  0.05840732     \n",
       "Schizophrenia_2014_25056061_hg19.txt.gz_P1.0E-5 0.78119077     \n",
       "                                                HPSI0616i-mifg_5\n",
       "Schizophrenia_2014_25056061_hg19.txt.gz_P0.001  -2.332344384    \n",
       "Schizophrenia_2014_25056061_hg19.txt.gz_P1.0E-5 -0.002679584    \n",
       "                                                HPSI0516pf-eosr HPSI0616pf-xuvy\n",
       "Schizophrenia_2014_25056061_hg19.txt.gz_P0.001  -2.99758358     -3.6365734     \n",
       "Schizophrenia_2014_25056061_hg19.txt.gz_P1.0E-5 -0.05150076     -0.7497274     \n",
       "                                                HPSI0416pf-cihd\n",
       "Schizophrenia_2014_25056061_hg19.txt.gz_P0.001  -1.322473      \n",
       "Schizophrenia_2014_25056061_hg19.txt.gz_P1.0E-5  1.042080      \n",
       "                                                HPSI0616i-mifg_2\n",
       "Schizophrenia_2014_25056061_hg19.txt.gz_P0.001  -2.257555554    \n",
       "Schizophrenia_2014_25056061_hg19.txt.gz_P1.0E-5 -0.002679584    "
      ]
     },
     "metadata": {},
     "output_type": "display_data"
    }
   ],
   "source": [
    "colnames(df1) = gsub(\"\\\\.\",\"-\",colnames(df1))\n",
    "head(df1,2)"
   ]
  },
  {
   "cell_type": "code",
   "execution_count": 108,
   "metadata": {},
   "outputs": [
    {
     "data": {
      "text/html": [
       "<table>\n",
       "<thead><tr><th></th><th scope=col>HPSI0514i-sohd_2</th><th scope=col>HPSI0115i-zihe_1</th><th scope=col>HPSI1014i-eesb_1</th><th scope=col>HPSI0913i-eika_2</th><th scope=col>HPSI0114i-lexy_2</th><th scope=col>HPSI1014i-quls_2</th><th scope=col>HPSI0514i-yewo_4</th><th scope=col>HPSI0314i-bubh_3</th><th scope=col>HPSI0714i-burb_1</th><th scope=col>HPSI0314i-xugn_2</th><th scope=col>...</th><th scope=col>HPSI0413i-nudd_1</th><th scope=col>HPSI0513i-pedc_1</th><th scope=col>HPSI0513i-dulv_1</th><th scope=col>HPSI0813i-peoj_1</th><th scope=col>HPSI0413i-yotv_2</th><th scope=col>HPSI0513i-dipe_1</th><th scope=col>HPSI0613i-bawa_1</th><th scope=col>HPSI0813i-aizi_3</th><th scope=col>HPSI0613i-hikj_2</th><th scope=col>HPSI0513i-momt_2</th></tr></thead>\n",
       "<tbody>\n",
       "\t<tr><th scope=row>Schizophrenia_2014_25056061_hg19.txt.gz_P0.001</th><td>-3.3679163 </td><td>-2.5821736 </td><td>-4.3871905 </td><td>-1.33008659</td><td>-1.13178608</td><td>-2.35780320</td><td>-1.63949431</td><td>-0.6556143 </td><td>-2.34811007</td><td>-0.03387275</td><td>...        </td><td>-3.8618114 </td><td>-4.5960788 </td><td>-2.7525353 </td><td>-4.4407338 </td><td>-3.75967637</td><td>-1.6994333 </td><td>-1.9471614 </td><td>-2.1354865 </td><td>-3.1559749 </td><td>-1.9082580 </td></tr>\n",
       "\t<tr><th scope=row>Schizophrenia_2014_25056061_hg19.txt.gz_P1.0E-5</th><td>-1.0868936 </td><td>-0.1488968 </td><td>-0.9276031 </td><td>-0.31474220</td><td> 0.13856724</td><td>-0.03803811</td><td>-0.42702296</td><td> 0.5899089 </td><td>-0.67890273</td><td>-0.09500873</td><td>...        </td><td>-1.6165052 </td><td>-0.9275982 </td><td>-0.8576386 </td><td>-0.9023338 </td><td>-0.53162469</td><td>-0.3627295 </td><td>-0.0254836 </td><td> 0.6111788 </td><td>-0.2584697 </td><td> 0.3283094 </td></tr>\n",
       "\t<tr><th scope=row>Schizophrenia_2014_25056061_hg19.txt.gz_P1.0E-4</th><td>-1.4517166 </td><td>-1.3272978 </td><td>-1.0613974 </td><td> 0.33497585</td><td> 0.52516911</td><td>-1.08073005</td><td>-0.17259958</td><td> 1.2206254 </td><td>-0.74201574</td><td> 0.34738213</td><td>...        </td><td>-1.9883197 </td><td>-1.5096095 </td><td>-0.8299739 </td><td>-1.3329467 </td><td>-1.80888685</td><td> 0.3314670 </td><td> 0.1020804 </td><td>-0.1129365 </td><td>-0.7289304 </td><td>-0.5138126 </td></tr>\n",
       "\t<tr><th scope=row>Schizophrenia_2014_25056061_hg19.txt.gz_P5.0E-8</th><td>-0.6210077 </td><td> 0.1119057 </td><td>-0.2523006 </td><td> 0.01619393</td><td>-0.06109085</td><td> 0.33960676</td><td>-0.09319174</td><td> 0.2759088 </td><td> 0.01488976</td><td>-0.08870253</td><td>...        </td><td>-0.3755866 </td><td>-0.2954907 </td><td>-0.2002111 </td><td>-0.3574986 </td><td> 0.05808307</td><td>-0.1451929 </td><td> 0.3958157 </td><td> 0.2534907 </td><td>-0.1364868 </td><td> 0.3271048 </td></tr>\n",
       "\t<tr><th scope=row>Schizophrenia_2014_25056061_hg19.txt.gz_P0.01</th><td>-4.3318184 </td><td>-3.3414902 </td><td>-5.7319742 </td><td>-0.43689609</td><td>-0.77535954</td><td>-0.73864448</td><td>-0.87072529</td><td>-3.8139192 </td><td>-2.27099637</td><td>-0.66299569</td><td>...        </td><td>-6.4005551 </td><td>-1.6075278 </td><td>-2.1483120 </td><td>-1.9325746 </td><td>-2.17866507</td><td>-2.0791035 </td><td>-4.0992028 </td><td>-3.6650879 </td><td>-5.1491770 </td><td> 1.2047604 </td></tr>\n",
       "</tbody>\n",
       "</table>\n"
      ],
      "text/latex": [
       "\\begin{tabular}{r|lllllllllllllllllllllllllllllllllllllllllllllllllllllllllllllllllllllllllllllllllllllllllllllllllllllllllllllllllllllllllllllllllllllllllllllllllllllllllllllllllllllllllllllllllllllllllllllllllllllll}\n",
       "  & HPSI0514i-sohd\\_2 & HPSI0115i-zihe\\_1 & HPSI1014i-eesb\\_1 & HPSI0913i-eika\\_2 & HPSI0114i-lexy\\_2 & HPSI1014i-quls\\_2 & HPSI0514i-yewo\\_4 & HPSI0314i-bubh\\_3 & HPSI0714i-burb\\_1 & HPSI0314i-xugn\\_2 & ... & HPSI0413i-nudd\\_1 & HPSI0513i-pedc\\_1 & HPSI0513i-dulv\\_1 & HPSI0813i-peoj\\_1 & HPSI0413i-yotv\\_2 & HPSI0513i-dipe\\_1 & HPSI0613i-bawa\\_1 & HPSI0813i-aizi\\_3 & HPSI0613i-hikj\\_2 & HPSI0513i-momt\\_2\\\\\n",
       "\\hline\n",
       "\tSchizophrenia\\_2014\\_25056061\\_hg19.txt.gz\\_P0.001 & -3.3679163  & -2.5821736  & -4.3871905  & -1.33008659 & -1.13178608 & -2.35780320 & -1.63949431 & -0.6556143  & -2.34811007 & -0.03387275 & ...         & -3.8618114  & -4.5960788  & -2.7525353  & -4.4407338  & -3.75967637 & -1.6994333  & -1.9471614  & -2.1354865  & -3.1559749  & -1.9082580 \\\\\n",
       "\tSchizophrenia\\_2014\\_25056061\\_hg19.txt.gz\\_P1.0E-5 & -1.0868936  & -0.1488968  & -0.9276031  & -0.31474220 &  0.13856724 & -0.03803811 & -0.42702296 &  0.5899089  & -0.67890273 & -0.09500873 & ...         & -1.6165052  & -0.9275982  & -0.8576386  & -0.9023338  & -0.53162469 & -0.3627295  & -0.0254836  &  0.6111788  & -0.2584697  &  0.3283094 \\\\\n",
       "\tSchizophrenia\\_2014\\_25056061\\_hg19.txt.gz\\_P1.0E-4 & -1.4517166  & -1.3272978  & -1.0613974  &  0.33497585 &  0.52516911 & -1.08073005 & -0.17259958 &  1.2206254  & -0.74201574 &  0.34738213 & ...         & -1.9883197  & -1.5096095  & -0.8299739  & -1.3329467  & -1.80888685 &  0.3314670  &  0.1020804  & -0.1129365  & -0.7289304  & -0.5138126 \\\\\n",
       "\tSchizophrenia\\_2014\\_25056061\\_hg19.txt.gz\\_P5.0E-8 & -0.6210077  &  0.1119057  & -0.2523006  &  0.01619393 & -0.06109085 &  0.33960676 & -0.09319174 &  0.2759088  &  0.01488976 & -0.08870253 & ...         & -0.3755866  & -0.2954907  & -0.2002111  & -0.3574986  &  0.05808307 & -0.1451929  &  0.3958157  &  0.2534907  & -0.1364868  &  0.3271048 \\\\\n",
       "\tSchizophrenia\\_2014\\_25056061\\_hg19.txt.gz\\_P0.01 & -4.3318184  & -3.3414902  & -5.7319742  & -0.43689609 & -0.77535954 & -0.73864448 & -0.87072529 & -3.8139192  & -2.27099637 & -0.66299569 & ...         & -6.4005551  & -1.6075278  & -2.1483120  & -1.9325746  & -2.17866507 & -2.0791035  & -4.0992028  & -3.6650879  & -5.1491770  &  1.2047604 \\\\\n",
       "\\end{tabular}\n"
      ],
      "text/markdown": [
       "\n",
       "| <!--/--> | HPSI0514i-sohd_2 | HPSI0115i-zihe_1 | HPSI1014i-eesb_1 | HPSI0913i-eika_2 | HPSI0114i-lexy_2 | HPSI1014i-quls_2 | HPSI0514i-yewo_4 | HPSI0314i-bubh_3 | HPSI0714i-burb_1 | HPSI0314i-xugn_2 | ... | HPSI0413i-nudd_1 | HPSI0513i-pedc_1 | HPSI0513i-dulv_1 | HPSI0813i-peoj_1 | HPSI0413i-yotv_2 | HPSI0513i-dipe_1 | HPSI0613i-bawa_1 | HPSI0813i-aizi_3 | HPSI0613i-hikj_2 | HPSI0513i-momt_2 |\n",
       "|---|---|---|---|---|---|---|---|---|---|---|---|---|---|---|---|---|---|---|---|---|---|\n",
       "| Schizophrenia_2014_25056061_hg19.txt.gz_P0.001 | -3.3679163  | -2.5821736  | -4.3871905  | -1.33008659 | -1.13178608 | -2.35780320 | -1.63949431 | -0.6556143  | -2.34811007 | -0.03387275 | ...         | -3.8618114  | -4.5960788  | -2.7525353  | -4.4407338  | -3.75967637 | -1.6994333  | -1.9471614  | -2.1354865  | -3.1559749  | -1.9082580  |\n",
       "| Schizophrenia_2014_25056061_hg19.txt.gz_P1.0E-5 | -1.0868936  | -0.1488968  | -0.9276031  | -0.31474220 |  0.13856724 | -0.03803811 | -0.42702296 |  0.5899089  | -0.67890273 | -0.09500873 | ...         | -1.6165052  | -0.9275982  | -0.8576386  | -0.9023338  | -0.53162469 | -0.3627295  | -0.0254836  |  0.6111788  | -0.2584697  |  0.3283094  |\n",
       "| Schizophrenia_2014_25056061_hg19.txt.gz_P1.0E-4 | -1.4517166  | -1.3272978  | -1.0613974  |  0.33497585 |  0.52516911 | -1.08073005 | -0.17259958 |  1.2206254  | -0.74201574 |  0.34738213 | ...         | -1.9883197  | -1.5096095  | -0.8299739  | -1.3329467  | -1.80888685 |  0.3314670  |  0.1020804  | -0.1129365  | -0.7289304  | -0.5138126  |\n",
       "| Schizophrenia_2014_25056061_hg19.txt.gz_P5.0E-8 | -0.6210077  |  0.1119057  | -0.2523006  |  0.01619393 | -0.06109085 |  0.33960676 | -0.09319174 |  0.2759088  |  0.01488976 | -0.08870253 | ...         | -0.3755866  | -0.2954907  | -0.2002111  | -0.3574986  |  0.05808307 | -0.1451929  |  0.3958157  |  0.2534907  | -0.1364868  |  0.3271048  |\n",
       "| Schizophrenia_2014_25056061_hg19.txt.gz_P0.01 | -4.3318184  | -3.3414902  | -5.7319742  | -0.43689609 | -0.77535954 | -0.73864448 | -0.87072529 | -3.8139192  | -2.27099637 | -0.66299569 | ...         | -6.4005551  | -1.6075278  | -2.1483120  | -1.9325746  | -2.17866507 | -2.0791035  | -4.0992028  | -3.6650879  | -5.1491770  |  1.2047604  |\n",
       "\n"
      ],
      "text/plain": [
       "                                                HPSI0514i-sohd_2\n",
       "Schizophrenia_2014_25056061_hg19.txt.gz_P0.001  -3.3679163      \n",
       "Schizophrenia_2014_25056061_hg19.txt.gz_P1.0E-5 -1.0868936      \n",
       "Schizophrenia_2014_25056061_hg19.txt.gz_P1.0E-4 -1.4517166      \n",
       "Schizophrenia_2014_25056061_hg19.txt.gz_P5.0E-8 -0.6210077      \n",
       "Schizophrenia_2014_25056061_hg19.txt.gz_P0.01   -4.3318184      \n",
       "                                                HPSI0115i-zihe_1\n",
       "Schizophrenia_2014_25056061_hg19.txt.gz_P0.001  -2.5821736      \n",
       "Schizophrenia_2014_25056061_hg19.txt.gz_P1.0E-5 -0.1488968      \n",
       "Schizophrenia_2014_25056061_hg19.txt.gz_P1.0E-4 -1.3272978      \n",
       "Schizophrenia_2014_25056061_hg19.txt.gz_P5.0E-8  0.1119057      \n",
       "Schizophrenia_2014_25056061_hg19.txt.gz_P0.01   -3.3414902      \n",
       "                                                HPSI1014i-eesb_1\n",
       "Schizophrenia_2014_25056061_hg19.txt.gz_P0.001  -4.3871905      \n",
       "Schizophrenia_2014_25056061_hg19.txt.gz_P1.0E-5 -0.9276031      \n",
       "Schizophrenia_2014_25056061_hg19.txt.gz_P1.0E-4 -1.0613974      \n",
       "Schizophrenia_2014_25056061_hg19.txt.gz_P5.0E-8 -0.2523006      \n",
       "Schizophrenia_2014_25056061_hg19.txt.gz_P0.01   -5.7319742      \n",
       "                                                HPSI0913i-eika_2\n",
       "Schizophrenia_2014_25056061_hg19.txt.gz_P0.001  -1.33008659     \n",
       "Schizophrenia_2014_25056061_hg19.txt.gz_P1.0E-5 -0.31474220     \n",
       "Schizophrenia_2014_25056061_hg19.txt.gz_P1.0E-4  0.33497585     \n",
       "Schizophrenia_2014_25056061_hg19.txt.gz_P5.0E-8  0.01619393     \n",
       "Schizophrenia_2014_25056061_hg19.txt.gz_P0.01   -0.43689609     \n",
       "                                                HPSI0114i-lexy_2\n",
       "Schizophrenia_2014_25056061_hg19.txt.gz_P0.001  -1.13178608     \n",
       "Schizophrenia_2014_25056061_hg19.txt.gz_P1.0E-5  0.13856724     \n",
       "Schizophrenia_2014_25056061_hg19.txt.gz_P1.0E-4  0.52516911     \n",
       "Schizophrenia_2014_25056061_hg19.txt.gz_P5.0E-8 -0.06109085     \n",
       "Schizophrenia_2014_25056061_hg19.txt.gz_P0.01   -0.77535954     \n",
       "                                                HPSI1014i-quls_2\n",
       "Schizophrenia_2014_25056061_hg19.txt.gz_P0.001  -2.35780320     \n",
       "Schizophrenia_2014_25056061_hg19.txt.gz_P1.0E-5 -0.03803811     \n",
       "Schizophrenia_2014_25056061_hg19.txt.gz_P1.0E-4 -1.08073005     \n",
       "Schizophrenia_2014_25056061_hg19.txt.gz_P5.0E-8  0.33960676     \n",
       "Schizophrenia_2014_25056061_hg19.txt.gz_P0.01   -0.73864448     \n",
       "                                                HPSI0514i-yewo_4\n",
       "Schizophrenia_2014_25056061_hg19.txt.gz_P0.001  -1.63949431     \n",
       "Schizophrenia_2014_25056061_hg19.txt.gz_P1.0E-5 -0.42702296     \n",
       "Schizophrenia_2014_25056061_hg19.txt.gz_P1.0E-4 -0.17259958     \n",
       "Schizophrenia_2014_25056061_hg19.txt.gz_P5.0E-8 -0.09319174     \n",
       "Schizophrenia_2014_25056061_hg19.txt.gz_P0.01   -0.87072529     \n",
       "                                                HPSI0314i-bubh_3\n",
       "Schizophrenia_2014_25056061_hg19.txt.gz_P0.001  -0.6556143      \n",
       "Schizophrenia_2014_25056061_hg19.txt.gz_P1.0E-5  0.5899089      \n",
       "Schizophrenia_2014_25056061_hg19.txt.gz_P1.0E-4  1.2206254      \n",
       "Schizophrenia_2014_25056061_hg19.txt.gz_P5.0E-8  0.2759088      \n",
       "Schizophrenia_2014_25056061_hg19.txt.gz_P0.01   -3.8139192      \n",
       "                                                HPSI0714i-burb_1\n",
       "Schizophrenia_2014_25056061_hg19.txt.gz_P0.001  -2.34811007     \n",
       "Schizophrenia_2014_25056061_hg19.txt.gz_P1.0E-5 -0.67890273     \n",
       "Schizophrenia_2014_25056061_hg19.txt.gz_P1.0E-4 -0.74201574     \n",
       "Schizophrenia_2014_25056061_hg19.txt.gz_P5.0E-8  0.01488976     \n",
       "Schizophrenia_2014_25056061_hg19.txt.gz_P0.01   -2.27099637     \n",
       "                                                HPSI0314i-xugn_2 ...\n",
       "Schizophrenia_2014_25056061_hg19.txt.gz_P0.001  -0.03387275      ...\n",
       "Schizophrenia_2014_25056061_hg19.txt.gz_P1.0E-5 -0.09500873      ...\n",
       "Schizophrenia_2014_25056061_hg19.txt.gz_P1.0E-4  0.34738213      ...\n",
       "Schizophrenia_2014_25056061_hg19.txt.gz_P5.0E-8 -0.08870253      ...\n",
       "Schizophrenia_2014_25056061_hg19.txt.gz_P0.01   -0.66299569      ...\n",
       "                                                HPSI0413i-nudd_1\n",
       "Schizophrenia_2014_25056061_hg19.txt.gz_P0.001  -3.8618114      \n",
       "Schizophrenia_2014_25056061_hg19.txt.gz_P1.0E-5 -1.6165052      \n",
       "Schizophrenia_2014_25056061_hg19.txt.gz_P1.0E-4 -1.9883197      \n",
       "Schizophrenia_2014_25056061_hg19.txt.gz_P5.0E-8 -0.3755866      \n",
       "Schizophrenia_2014_25056061_hg19.txt.gz_P0.01   -6.4005551      \n",
       "                                                HPSI0513i-pedc_1\n",
       "Schizophrenia_2014_25056061_hg19.txt.gz_P0.001  -4.5960788      \n",
       "Schizophrenia_2014_25056061_hg19.txt.gz_P1.0E-5 -0.9275982      \n",
       "Schizophrenia_2014_25056061_hg19.txt.gz_P1.0E-4 -1.5096095      \n",
       "Schizophrenia_2014_25056061_hg19.txt.gz_P5.0E-8 -0.2954907      \n",
       "Schizophrenia_2014_25056061_hg19.txt.gz_P0.01   -1.6075278      \n",
       "                                                HPSI0513i-dulv_1\n",
       "Schizophrenia_2014_25056061_hg19.txt.gz_P0.001  -2.7525353      \n",
       "Schizophrenia_2014_25056061_hg19.txt.gz_P1.0E-5 -0.8576386      \n",
       "Schizophrenia_2014_25056061_hg19.txt.gz_P1.0E-4 -0.8299739      \n",
       "Schizophrenia_2014_25056061_hg19.txt.gz_P5.0E-8 -0.2002111      \n",
       "Schizophrenia_2014_25056061_hg19.txt.gz_P0.01   -2.1483120      \n",
       "                                                HPSI0813i-peoj_1\n",
       "Schizophrenia_2014_25056061_hg19.txt.gz_P0.001  -4.4407338      \n",
       "Schizophrenia_2014_25056061_hg19.txt.gz_P1.0E-5 -0.9023338      \n",
       "Schizophrenia_2014_25056061_hg19.txt.gz_P1.0E-4 -1.3329467      \n",
       "Schizophrenia_2014_25056061_hg19.txt.gz_P5.0E-8 -0.3574986      \n",
       "Schizophrenia_2014_25056061_hg19.txt.gz_P0.01   -1.9325746      \n",
       "                                                HPSI0413i-yotv_2\n",
       "Schizophrenia_2014_25056061_hg19.txt.gz_P0.001  -3.75967637     \n",
       "Schizophrenia_2014_25056061_hg19.txt.gz_P1.0E-5 -0.53162469     \n",
       "Schizophrenia_2014_25056061_hg19.txt.gz_P1.0E-4 -1.80888685     \n",
       "Schizophrenia_2014_25056061_hg19.txt.gz_P5.0E-8  0.05808307     \n",
       "Schizophrenia_2014_25056061_hg19.txt.gz_P0.01   -2.17866507     \n",
       "                                                HPSI0513i-dipe_1\n",
       "Schizophrenia_2014_25056061_hg19.txt.gz_P0.001  -1.6994333      \n",
       "Schizophrenia_2014_25056061_hg19.txt.gz_P1.0E-5 -0.3627295      \n",
       "Schizophrenia_2014_25056061_hg19.txt.gz_P1.0E-4  0.3314670      \n",
       "Schizophrenia_2014_25056061_hg19.txt.gz_P5.0E-8 -0.1451929      \n",
       "Schizophrenia_2014_25056061_hg19.txt.gz_P0.01   -2.0791035      \n",
       "                                                HPSI0613i-bawa_1\n",
       "Schizophrenia_2014_25056061_hg19.txt.gz_P0.001  -1.9471614      \n",
       "Schizophrenia_2014_25056061_hg19.txt.gz_P1.0E-5 -0.0254836      \n",
       "Schizophrenia_2014_25056061_hg19.txt.gz_P1.0E-4  0.1020804      \n",
       "Schizophrenia_2014_25056061_hg19.txt.gz_P5.0E-8  0.3958157      \n",
       "Schizophrenia_2014_25056061_hg19.txt.gz_P0.01   -4.0992028      \n",
       "                                                HPSI0813i-aizi_3\n",
       "Schizophrenia_2014_25056061_hg19.txt.gz_P0.001  -2.1354865      \n",
       "Schizophrenia_2014_25056061_hg19.txt.gz_P1.0E-5  0.6111788      \n",
       "Schizophrenia_2014_25056061_hg19.txt.gz_P1.0E-4 -0.1129365      \n",
       "Schizophrenia_2014_25056061_hg19.txt.gz_P5.0E-8  0.2534907      \n",
       "Schizophrenia_2014_25056061_hg19.txt.gz_P0.01   -3.6650879      \n",
       "                                                HPSI0613i-hikj_2\n",
       "Schizophrenia_2014_25056061_hg19.txt.gz_P0.001  -3.1559749      \n",
       "Schizophrenia_2014_25056061_hg19.txt.gz_P1.0E-5 -0.2584697      \n",
       "Schizophrenia_2014_25056061_hg19.txt.gz_P1.0E-4 -0.7289304      \n",
       "Schizophrenia_2014_25056061_hg19.txt.gz_P5.0E-8 -0.1364868      \n",
       "Schizophrenia_2014_25056061_hg19.txt.gz_P0.01   -5.1491770      \n",
       "                                                HPSI0513i-momt_2\n",
       "Schizophrenia_2014_25056061_hg19.txt.gz_P0.001  -1.9082580      \n",
       "Schizophrenia_2014_25056061_hg19.txt.gz_P1.0E-5  0.3283094      \n",
       "Schizophrenia_2014_25056061_hg19.txt.gz_P1.0E-4 -0.5138126      \n",
       "Schizophrenia_2014_25056061_hg19.txt.gz_P5.0E-8  0.3271048      \n",
       "Schizophrenia_2014_25056061_hg19.txt.gz_P0.01    1.2047604      "
      ]
     },
     "metadata": {},
     "output_type": "display_data"
    }
   ],
   "source": [
    "df1 = df1[,colnames(df1) %in% donors]\n",
    "head(df1)"
   ]
  },
  {
   "cell_type": "code",
   "execution_count": 109,
   "metadata": {},
   "outputs": [
    {
     "data": {
      "text/html": [
       "<table>\n",
       "<thead><tr><th></th><th scope=col>donor_id</th><th scope=col>PRS</th></tr></thead>\n",
       "<tbody>\n",
       "\t<tr><th scope=row>HPSI0514i-sohd_2</th><td>HPSI0514i-sohd_2</td><td>-0.62100770     </td></tr>\n",
       "\t<tr><th scope=row>HPSI0115i-zihe_1</th><td>HPSI0115i-zihe_1</td><td> 0.11190567     </td></tr>\n",
       "\t<tr><th scope=row>HPSI1014i-eesb_1</th><td>HPSI1014i-eesb_1</td><td>-0.25230063     </td></tr>\n",
       "\t<tr><th scope=row>HPSI0913i-eika_2</th><td>HPSI0913i-eika_2</td><td> 0.01619393     </td></tr>\n",
       "\t<tr><th scope=row>HPSI0114i-lexy_2</th><td>HPSI0114i-lexy_2</td><td>-0.06109085     </td></tr>\n",
       "\t<tr><th scope=row>HPSI1014i-quls_2</th><td>HPSI1014i-quls_2</td><td> 0.33960676     </td></tr>\n",
       "</tbody>\n",
       "</table>\n"
      ],
      "text/latex": [
       "\\begin{tabular}{r|ll}\n",
       "  & donor\\_id & PRS\\\\\n",
       "\\hline\n",
       "\tHPSI0514i-sohd\\_2 & HPSI0514i-sohd\\_2 & -0.62100770       \\\\\n",
       "\tHPSI0115i-zihe\\_1 & HPSI0115i-zihe\\_1 &  0.11190567       \\\\\n",
       "\tHPSI1014i-eesb\\_1 & HPSI1014i-eesb\\_1 & -0.25230063       \\\\\n",
       "\tHPSI0913i-eika\\_2 & HPSI0913i-eika\\_2 &  0.01619393       \\\\\n",
       "\tHPSI0114i-lexy\\_2 & HPSI0114i-lexy\\_2 & -0.06109085       \\\\\n",
       "\tHPSI1014i-quls\\_2 & HPSI1014i-quls\\_2 &  0.33960676       \\\\\n",
       "\\end{tabular}\n"
      ],
      "text/markdown": [
       "\n",
       "| <!--/--> | donor_id | PRS |\n",
       "|---|---|---|\n",
       "| HPSI0514i-sohd_2 | HPSI0514i-sohd_2 | -0.62100770      |\n",
       "| HPSI0115i-zihe_1 | HPSI0115i-zihe_1 |  0.11190567      |\n",
       "| HPSI1014i-eesb_1 | HPSI1014i-eesb_1 | -0.25230063      |\n",
       "| HPSI0913i-eika_2 | HPSI0913i-eika_2 |  0.01619393      |\n",
       "| HPSI0114i-lexy_2 | HPSI0114i-lexy_2 | -0.06109085      |\n",
       "| HPSI1014i-quls_2 | HPSI1014i-quls_2 |  0.33960676      |\n",
       "\n"
      ],
      "text/plain": [
       "                 donor_id         PRS        \n",
       "HPSI0514i-sohd_2 HPSI0514i-sohd_2 -0.62100770\n",
       "HPSI0115i-zihe_1 HPSI0115i-zihe_1  0.11190567\n",
       "HPSI1014i-eesb_1 HPSI1014i-eesb_1 -0.25230063\n",
       "HPSI0913i-eika_2 HPSI0913i-eika_2  0.01619393\n",
       "HPSI0114i-lexy_2 HPSI0114i-lexy_2 -0.06109085\n",
       "HPSI1014i-quls_2 HPSI1014i-quls_2  0.33960676"
      ]
     },
     "metadata": {},
     "output_type": "display_data"
    }
   ],
   "source": [
    "df2 = data.frame(donor_id = colnames(df1), PRS_0.001 = t(df1[4,]))\n",
    "colnames(df2)[2] = 'PRS'\n",
    "head(df2)"
   ]
  },
  {
   "cell_type": "code",
   "execution_count": 110,
   "metadata": {},
   "outputs": [
    {
     "name": "stderr",
     "output_type": "stream",
     "text": [
      "Joining, by = \"donor_id\"\n"
     ]
    },
    {
     "data": {
      "text/html": [
       "<table>\n",
       "<thead><tr><th scope=col>donor_id</th><th scope=col>mean_neuro</th><th scope=col>PRS</th></tr></thead>\n",
       "<tbody>\n",
       "\t<tr><td>HPSI0114i-bezi_3</td><td>0.57876802      </td><td> 0.01540441     </td></tr>\n",
       "\t<tr><td>HPSI0114i-eipl_1</td><td>0.01278164      </td><td> 0.15480663     </td></tr>\n",
       "\t<tr><td>HPSI0114i-fikt_3</td><td>0.40896921      </td><td>-0.10679264     </td></tr>\n",
       "\t<tr><td>HPSI0114i-kolf_2</td><td>0.47284436      </td><td>-0.21450224     </td></tr>\n",
       "\t<tr><td>HPSI0114i-lexy_2</td><td>0.72873194      </td><td>-0.06109085     </td></tr>\n",
       "\t<tr><td>HPSI0114i-posc_1</td><td>0.80947368      </td><td> 0.04480143     </td></tr>\n",
       "</tbody>\n",
       "</table>\n"
      ],
      "text/latex": [
       "\\begin{tabular}{r|lll}\n",
       " donor\\_id & mean\\_neuro & PRS\\\\\n",
       "\\hline\n",
       "\t HPSI0114i-bezi\\_3 & 0.57876802         &  0.01540441       \\\\\n",
       "\t HPSI0114i-eipl\\_1 & 0.01278164         &  0.15480663       \\\\\n",
       "\t HPSI0114i-fikt\\_3 & 0.40896921         & -0.10679264       \\\\\n",
       "\t HPSI0114i-kolf\\_2 & 0.47284436         & -0.21450224       \\\\\n",
       "\t HPSI0114i-lexy\\_2 & 0.72873194         & -0.06109085       \\\\\n",
       "\t HPSI0114i-posc\\_1 & 0.80947368         &  0.04480143       \\\\\n",
       "\\end{tabular}\n"
      ],
      "text/markdown": [
       "\n",
       "| donor_id | mean_neuro | PRS |\n",
       "|---|---|---|\n",
       "| HPSI0114i-bezi_3 | 0.57876802       |  0.01540441      |\n",
       "| HPSI0114i-eipl_1 | 0.01278164       |  0.15480663      |\n",
       "| HPSI0114i-fikt_3 | 0.40896921       | -0.10679264      |\n",
       "| HPSI0114i-kolf_2 | 0.47284436       | -0.21450224      |\n",
       "| HPSI0114i-lexy_2 | 0.72873194       | -0.06109085      |\n",
       "| HPSI0114i-posc_1 | 0.80947368       |  0.04480143      |\n",
       "\n"
      ],
      "text/plain": [
       "  donor_id         mean_neuro PRS        \n",
       "1 HPSI0114i-bezi_3 0.57876802  0.01540441\n",
       "2 HPSI0114i-eipl_1 0.01278164  0.15480663\n",
       "3 HPSI0114i-fikt_3 0.40896921 -0.10679264\n",
       "4 HPSI0114i-kolf_2 0.47284436 -0.21450224\n",
       "5 HPSI0114i-lexy_2 0.72873194 -0.06109085\n",
       "6 HPSI0114i-posc_1 0.80947368  0.04480143"
      ]
     },
     "metadata": {},
     "output_type": "display_data"
    }
   ],
   "source": [
    "df3 = inner_join(df,df2)\n",
    "head(df3)"
   ]
  },
  {
   "cell_type": "code",
   "execution_count": 111,
   "metadata": {},
   "outputs": [
    {
     "data": {
      "text/plain": [
       "\n",
       "\tPearson's product-moment correlation\n",
       "\n",
       "data:  df3$PRS and df3$mean_neuro\n",
       "t = 0.22187, df = 197, p-value = 0.8246\n",
       "alternative hypothesis: true correlation is not equal to 0\n",
       "95 percent confidence interval:\n",
       " -0.1235559  0.1545558\n",
       "sample estimates:\n",
       "       cor \n",
       "0.01580567 \n"
      ]
     },
     "metadata": {},
     "output_type": "display_data"
    }
   ],
   "source": [
    "cor.test(df3$PRS, df3$mean_neuro)"
   ]
  },
  {
   "cell_type": "code",
   "execution_count": 112,
   "metadata": {},
   "outputs": [
    {
     "data": {
      "text/html": [
       "0.0158056732046387"
      ],
      "text/latex": [
       "0.0158056732046387"
      ],
      "text/markdown": [
       "0.0158056732046387"
      ],
      "text/plain": [
       "[1] 0.01580567"
      ]
     },
     "metadata": {},
     "output_type": "display_data"
    },
    {
     "data": {
      "image/png": "[encoded data removed]",
      "text/plain": [
       "plot without title"
      ]
     },
     "metadata": {},
     "output_type": "display_data"
    }
   ],
   "source": [
    "cor(df3$PRS, df3$mean_neuro)\n",
    "ggplot(df3, aes(x = PRS, y = mean_neuro)) + geom_point()"
   ]
  },
  {
   "cell_type": "code",
   "execution_count": null,
   "metadata": {},
   "outputs": [],
   "source": []
  }
 ],
 "metadata": {
  "kernelspec": {
   "display_name": "R",
   "language": "R",
   "name": "ir"
  },
  "language_info": {
   "codemirror_mode": "r",
   "file_extension": ".r",
   "mimetype": "text/x-r-source",
   "name": "R",
   "pygments_lexer": "r",
   "version": "3.6.1"
  }
 },
 "nbformat": 4,
 "nbformat_minor": 2
}
