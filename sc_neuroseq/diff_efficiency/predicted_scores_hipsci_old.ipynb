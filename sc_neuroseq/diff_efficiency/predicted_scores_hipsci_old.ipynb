{
 "cells": [
  {
   "cell_type": "code",
   "execution_count": 2,
   "metadata": {},
   "outputs": [],
   "source": [
    "filename = \"/nfs/leia/research/stegle/dseaton/hipsci/singlecell_neuroseq/data/analysis_results/20200103_data_freeze/differentiation_trajectories/differentiation_efficiency_predictive_model_scores.tsv\""
   ]
  },
  {
   "cell_type": "code",
   "execution_count": 3,
   "metadata": {},
   "outputs": [
    {
     "data": {
      "text/html": [
       "<table>\n",
       "<thead><tr><th scope=col>donor_id</th><th scope=col>diff_efficiency</th><th scope=col>model_score</th></tr></thead>\n",
       "<tbody>\n",
       "\t<tr><td>HPSI0114i-bezi_1</td><td>not_assessed    </td><td>0.966477104     </td></tr>\n",
       "\t<tr><td>HPSI0114i-bezi_3</td><td>succeeded       </td><td>0.986227207     </td></tr>\n",
       "\t<tr><td>HPSI0114i-eipl_1</td><td>failed          </td><td>0.017594384     </td></tr>\n",
       "\t<tr><td>HPSI0114i-eipl_3</td><td>not_assessed    </td><td>0.005949439     </td></tr>\n",
       "\t<tr><td>HPSI0114i-fikt_3</td><td>succeeded       </td><td>0.972664000     </td></tr>\n",
       "\t<tr><td>HPSI0114i-iisa_1</td><td>not_assessed    </td><td>0.802278131     </td></tr>\n",
       "</tbody>\n",
       "</table>\n"
      ],
      "text/latex": [
       "\\begin{tabular}{r|lll}\n",
       " donor\\_id & diff\\_efficiency & model\\_score\\\\\n",
       "\\hline\n",
       "\t HPSI0114i-bezi\\_1 & not\\_assessed     & 0.966477104       \\\\\n",
       "\t HPSI0114i-bezi\\_3 & succeeded          & 0.986227207       \\\\\n",
       "\t HPSI0114i-eipl\\_1 & failed             & 0.017594384       \\\\\n",
       "\t HPSI0114i-eipl\\_3 & not\\_assessed     & 0.005949439       \\\\\n",
       "\t HPSI0114i-fikt\\_3 & succeeded          & 0.972664000       \\\\\n",
       "\t HPSI0114i-iisa\\_1 & not\\_assessed     & 0.802278131       \\\\\n",
       "\\end{tabular}\n"
      ],
      "text/markdown": [
       "\n",
       "| donor_id | diff_efficiency | model_score |\n",
       "|---|---|---|\n",
       "| HPSI0114i-bezi_1 | not_assessed     | 0.966477104      |\n",
       "| HPSI0114i-bezi_3 | succeeded        | 0.986227207      |\n",
       "| HPSI0114i-eipl_1 | failed           | 0.017594384      |\n",
       "| HPSI0114i-eipl_3 | not_assessed     | 0.005949439      |\n",
       "| HPSI0114i-fikt_3 | succeeded        | 0.972664000      |\n",
       "| HPSI0114i-iisa_1 | not_assessed     | 0.802278131      |\n",
       "\n"
      ],
      "text/plain": [
       "  donor_id         diff_efficiency model_score\n",
       "1 HPSI0114i-bezi_1 not_assessed    0.966477104\n",
       "2 HPSI0114i-bezi_3 succeeded       0.986227207\n",
       "3 HPSI0114i-eipl_1 failed          0.017594384\n",
       "4 HPSI0114i-eipl_3 not_assessed    0.005949439\n",
       "5 HPSI0114i-fikt_3 succeeded       0.972664000\n",
       "6 HPSI0114i-iisa_1 not_assessed    0.802278131"
      ]
     },
     "metadata": {},
     "output_type": "display_data"
    }
   ],
   "source": [
    "df = read.csv(filename, sep = \"\\t\")\n",
    "head(df)"
   ]
  },
  {
   "cell_type": "code",
   "execution_count": 4,
   "metadata": {},
   "outputs": [
    {
     "data": {
      "text/html": [
       "812"
      ],
      "text/latex": [
       "812"
      ],
      "text/markdown": [
       "812"
      ],
      "text/plain": [
       "[1] 812"
      ]
     },
     "metadata": {},
     "output_type": "display_data"
    }
   ],
   "source": [
    "length(unique(df$donor_id))"
   ]
  },
  {
   "cell_type": "code",
   "execution_count": null,
   "metadata": {},
   "outputs": [],
   "source": []
  },
  {
   "cell_type": "code",
   "execution_count": 3,
   "metadata": {},
   "outputs": [
    {
     "data": {
      "text/html": [
       "<table>\n",
       "<thead><tr><th scope=col>donor_id</th><th scope=col>diff_efficiency</th><th scope=col>model_score</th><th scope=col>short_donor</th></tr></thead>\n",
       "<tbody>\n",
       "\t<tr><td>HPSI0114i-bezi_1</td><td>not_assessed    </td><td>0.959292969     </td><td>bezi            </td></tr>\n",
       "\t<tr><td>HPSI0114i-bezi_3</td><td>succeeded       </td><td>0.993983682     </td><td>bezi            </td></tr>\n",
       "\t<tr><td>HPSI0114i-eipl_1</td><td>failed          </td><td>0.006551713     </td><td>eipl            </td></tr>\n",
       "\t<tr><td>HPSI0114i-eipl_3</td><td>not_assessed    </td><td>0.007655340     </td><td>eipl            </td></tr>\n",
       "\t<tr><td>HPSI0114i-fikt_3</td><td>succeeded       </td><td>0.967533448     </td><td>fikt            </td></tr>\n",
       "\t<tr><td>HPSI0114i-iisa_1</td><td>not_assessed    </td><td>0.976496578     </td><td>iisa            </td></tr>\n",
       "</tbody>\n",
       "</table>\n"
      ],
      "text/latex": [
       "\\begin{tabular}{r|llll}\n",
       " donor\\_id & diff\\_efficiency & model\\_score & short\\_donor\\\\\n",
       "\\hline\n",
       "\t HPSI0114i-bezi\\_1 & not\\_assessed     & 0.959292969        & bezi              \\\\\n",
       "\t HPSI0114i-bezi\\_3 & succeeded          & 0.993983682        & bezi              \\\\\n",
       "\t HPSI0114i-eipl\\_1 & failed             & 0.006551713        & eipl              \\\\\n",
       "\t HPSI0114i-eipl\\_3 & not\\_assessed     & 0.007655340        & eipl              \\\\\n",
       "\t HPSI0114i-fikt\\_3 & succeeded          & 0.967533448        & fikt              \\\\\n",
       "\t HPSI0114i-iisa\\_1 & not\\_assessed     & 0.976496578        & iisa              \\\\\n",
       "\\end{tabular}\n"
      ],
      "text/markdown": [
       "\n",
       "| donor_id | diff_efficiency | model_score | short_donor |\n",
       "|---|---|---|---|\n",
       "| HPSI0114i-bezi_1 | not_assessed     | 0.959292969      | bezi             |\n",
       "| HPSI0114i-bezi_3 | succeeded        | 0.993983682      | bezi             |\n",
       "| HPSI0114i-eipl_1 | failed           | 0.006551713      | eipl             |\n",
       "| HPSI0114i-eipl_3 | not_assessed     | 0.007655340      | eipl             |\n",
       "| HPSI0114i-fikt_3 | succeeded        | 0.967533448      | fikt             |\n",
       "| HPSI0114i-iisa_1 | not_assessed     | 0.976496578      | iisa             |\n",
       "\n"
      ],
      "text/plain": [
       "  donor_id         diff_efficiency model_score short_donor\n",
       "1 HPSI0114i-bezi_1 not_assessed    0.959292969 bezi       \n",
       "2 HPSI0114i-bezi_3 succeeded       0.993983682 bezi       \n",
       "3 HPSI0114i-eipl_1 failed          0.006551713 eipl       \n",
       "4 HPSI0114i-eipl_3 not_assessed    0.007655340 eipl       \n",
       "5 HPSI0114i-fikt_3 succeeded       0.967533448 fikt       \n",
       "6 HPSI0114i-iisa_1 not_assessed    0.976496578 iisa       "
      ]
     },
     "metadata": {},
     "output_type": "display_data"
    }
   ],
   "source": [
    "df$short_donor = gsub(\"_.*\",\"\",gsub(\".*-\",\"\", df$donor_id))\n",
    "head(df)"
   ]
  },
  {
   "cell_type": "code",
   "execution_count": 4,
   "metadata": {},
   "outputs": [
    {
     "data": {
      "image/png": "[encoded data removed]",
      "text/plain": [
       "Plot with title “Histogram of df$model_score”"
      ]
     },
     "metadata": {},
     "output_type": "display_data"
    }
   ],
   "source": [
    "options(repr.plot.width=6, repr.plot.height=4)\n",
    "hist(df$model_score)"
   ]
  },
  {
   "cell_type": "code",
   "execution_count": 5,
   "metadata": {},
   "outputs": [
    {
     "data": {
      "text/html": [
       "0.229064039408867"
      ],
      "text/latex": [
       "0.229064039408867"
      ],
      "text/markdown": [
       "0.229064039408867"
      ],
      "text/plain": [
       "[1] 0.229064"
      ]
     },
     "metadata": {},
     "output_type": "display_data"
    }
   ],
   "source": [
    "# nrow(df)\n",
    "df_fail = df[df$model_score < 0.2,]\n",
    "# nrow(df_fail)\n",
    "nrow(df_fail)/nrow(df)"
   ]
  },
  {
   "cell_type": "code",
   "execution_count": 6,
   "metadata": {},
   "outputs": [
    {
     "data": {
      "text/html": [
       "0.229064039408867"
      ],
      "text/latex": [
       "0.229064039408867"
      ],
      "text/markdown": [
       "0.229064039408867"
      ],
      "text/plain": [
       "[1] 0.229064"
      ]
     },
     "metadata": {},
     "output_type": "display_data"
    }
   ],
   "source": [
    "df = df\n",
    "df_fail = df[df$model_score < 0.2,]\n",
    "nrow(df_fail)/nrow(df)"
   ]
  },
  {
   "cell_type": "code",
   "execution_count": null,
   "metadata": {},
   "outputs": [],
   "source": []
  },
  {
   "cell_type": "code",
   "execution_count": 7,
   "metadata": {},
   "outputs": [
    {
     "data": {
      "text/html": [
       "540"
      ],
      "text/latex": [
       "540"
      ],
      "text/markdown": [
       "540"
      ],
      "text/plain": [
       "[1] 540"
      ]
     },
     "metadata": {},
     "output_type": "display_data"
    }
   ],
   "source": [
    "length(unique(df$short_donor))"
   ]
  },
  {
   "cell_type": "code",
   "execution_count": 8,
   "metadata": {},
   "outputs": [
    {
     "data": {
      "text/html": [
       "271"
      ],
      "text/latex": [
       "271"
      ],
      "text/markdown": [
       "271"
      ],
      "text/plain": [
       "[1] 271"
      ]
     },
     "metadata": {},
     "output_type": "display_data"
    },
    {
     "data": {
      "text/html": [
       "0.64668177733072"
      ],
      "text/latex": [
       "0.64668177733072"
      ],
      "text/markdown": [
       "0.64668177733072"
      ],
      "text/plain": [
       "[1] 0.6466818"
      ]
     },
     "metadata": {},
     "output_type": "display_data"
    },
    {
     "data": {
      "text/html": [
       "0.759173841738417"
      ],
      "text/latex": [
       "0.759173841738417"
      ],
      "text/markdown": [
       "0.759173841738417"
      ],
      "text/plain": [
       "[1] 0.7591738"
      ]
     },
     "metadata": {},
     "output_type": "display_data"
    },
    {
     "data": {
      "image/png": "[encoded data removed]",
      "text/plain": [
       "plot without title"
      ]
     },
     "metadata": {},
     "output_type": "display_data"
    }
   ],
   "source": [
    "options(repr.plot.width=4, repr.plot.height=4.5)\n",
    "x <- c()\n",
    "y <- c()\n",
    "for (i in 1:length(unique(df$short_donor))){\n",
    "    donor = unique(df$short_donor)[i]\n",
    "    if (nrow(df[df$short_donor == donor,]) >1){\n",
    "        x = c(x,min(df[df$short_donor == donor,\"model_score\"]))\n",
    "        y = c(y,max(df[df$short_donor == donor,\"model_score\"]))\n",
    "    }\n",
    "}\n",
    "length(x)\n",
    "cor(x,y)\n",
    "cor(x,y,method = \"spearman\")\n",
    "plot(x,y, xlab = \"model score (rep1)\", ylab = 'model score (rep2)', xlim = c(0,1), ylim= c(0,1))"
   ]
  },
  {
   "cell_type": "code",
   "execution_count": 60,
   "metadata": {},
   "outputs": [
    {
     "data": {
      "text/html": [
       "185"
      ],
      "text/latex": [
       "185"
      ],
      "text/markdown": [
       "185"
      ],
      "text/plain": [
       "[1] 185"
      ]
     },
     "metadata": {},
     "output_type": "display_data"
    }
   ],
   "source": [
    "failed_donors = unique(df_fail$short_donor)\n",
    "df1 = df[df$short_donor %in% failed_donors,]\n",
    "nrow(df1)"
   ]
  },
  {
   "cell_type": "code",
   "execution_count": 61,
   "metadata": {},
   "outputs": [
    {
     "data": {
      "image/png": "[encoded data removed]",
      "text/plain": [
       "Plot with title “Histogram of df1$model_score”"
      ]
     },
     "metadata": {},
     "output_type": "display_data"
    }
   ],
   "source": [
    "hist(df1$model_score)"
   ]
  },
  {
   "cell_type": "code",
   "execution_count": 62,
   "metadata": {},
   "outputs": [
    {
     "data": {
      "text/html": [
       "-0.520837598752604"
      ],
      "text/latex": [
       "-0.520837598752604"
      ],
      "text/markdown": [
       "-0.520837598752604"
      ],
      "text/plain": [
       "[1] -0.5208376"
      ]
     },
     "metadata": {},
     "output_type": "display_data"
    },
    {
     "data": {
      "text/html": [
       "-0.2636825519326"
      ],
      "text/latex": [
       "-0.2636825519326"
      ],
      "text/markdown": [
       "-0.2636825519326"
      ],
      "text/plain": [
       "[1] -0.2636826"
      ]
     },
     "metadata": {},
     "output_type": "display_data"
    },
    {
     "data": {
      "image/png": "[encoded data removed]",
      "text/plain": [
       "plot without title"
      ]
     },
     "metadata": {},
     "output_type": "display_data"
    }
   ],
   "source": [
    "x <- c()\n",
    "y <- c()\n",
    "for (i in 1:length(unique(df1$short_donor))){\n",
    "    donor = unique(df1$short_donor)[i]\n",
    "    if (nrow(df1[df1$short_donor == donor,]) >1){\n",
    "        x = c(x,df1[df1$short_donor == donor,\"model_score\"][1])\n",
    "        y = c(y,df1[df1$short_donor == donor,\"model_score\"][2])\n",
    "    }\n",
    "}\n",
    "cor(x,y)\n",
    "cor(x,y,method = \"spearman\")\n",
    "plot(x,y)"
   ]
  },
  {
   "cell_type": "code",
   "execution_count": 63,
   "metadata": {},
   "outputs": [],
   "source": [
    "concordant_1 = c()\n",
    "concordant_0 = c()\n",
    "discordant = c()"
   ]
  },
  {
   "cell_type": "code",
   "execution_count": 64,
   "metadata": {},
   "outputs": [
    {
     "name": "stdout",
     "output_type": "stream",
     "text": [
      "[1] \"sohd\"\n"
     ]
    }
   ],
   "source": [
    "for (i in 1:length(unique(df$short_donor))){\n",
    "    donor = unique(df$short_donor)[i]\n",
    "    r = df[df$short_donor == donor,]\n",
    "    if (nrow(r)>2){\n",
    "        print(donor)\n",
    "    }\n",
    "    if (nrow(r)==2){\n",
    "        rep1 = r[r$short_donor == donor,\"donor_id\"][1]\n",
    "        rep2 = r[r$short_donor == donor,\"donor_id\"][2]\n",
    "        score1 = r[r$donor_id == rep1,\"model_score\"]\n",
    "        score2 = r[r$donor_id == rep2,\"model_score\"]\n",
    "        if (score1 > 0.5 & score2 > 0.5){\n",
    "            concordant_1 = c(concordant_1,donor)\n",
    "        }\n",
    "        if (score1 <= 0.5 & score2 <= 0.5){\n",
    "            concordant_0 = c(concordant_0,donor)\n",
    "        }\n",
    "        if ((score1 > 0.5 & score2 <= 0.5) | (score1 <= 0.5 & score2 > 0.5)){\n",
    "            discordant = c(discordant,donor)\n",
    "        }\n",
    "    }\n",
    "}"
   ]
  },
  {
   "cell_type": "code",
   "execution_count": 65,
   "metadata": {},
   "outputs": [
    {
     "data": {
      "text/html": [
       "25"
      ],
      "text/latex": [
       "25"
      ],
      "text/markdown": [
       "25"
      ],
      "text/plain": [
       "[1] 25"
      ]
     },
     "metadata": {},
     "output_type": "display_data"
    },
    {
     "data": {
      "text/html": [
       "183"
      ],
      "text/latex": [
       "183"
      ],
      "text/markdown": [
       "183"
      ],
      "text/plain": [
       "[1] 183"
      ]
     },
     "metadata": {},
     "output_type": "display_data"
    },
    {
     "data": {
      "text/html": [
       "62"
      ],
      "text/latex": [
       "62"
      ],
      "text/markdown": [
       "62"
      ],
      "text/plain": [
       "[1] 62"
      ]
     },
     "metadata": {},
     "output_type": "display_data"
    }
   ],
   "source": [
    "length(concordant_0)\n",
    "length(concordant_1)\n",
    "length(discordant)"
   ]
  },
  {
   "cell_type": "code",
   "execution_count": null,
   "metadata": {},
   "outputs": [],
   "source": []
  },
  {
   "cell_type": "code",
   "execution_count": null,
   "metadata": {},
   "outputs": [],
   "source": []
  },
  {
   "cell_type": "code",
   "execution_count": 17,
   "metadata": {},
   "outputs": [],
   "source": [
    "# bulk iPSC"
   ]
  },
  {
   "cell_type": "code",
   "execution_count": 18,
   "metadata": {},
   "outputs": [],
   "source": [
    "#t_file = '/nfs/leia/research/stegle/dseaton/hipsci/proteomics_analysis/data/analysis/IPSc.ISR.featureCounts.genes.counts.unique.stranded.tsv_counts.HQ_TMM_TPM.tsv.gz'\n",
    "t_file = '/hps/nobackup/hipsci/scratch/trans_eqtls/IPS_Bulk-RNA_Processing/Merged/IPS_Bulk-RNA_Processing/FullFreeze_Corrected_iPSC_20180506.txt.gz'\n",
    "\n",
    "t_df = read.csv(t_file,sep='\\t', row.names = 1)"
   ]
  },
  {
   "cell_type": "code",
   "execution_count": 19,
   "metadata": {},
   "outputs": [
    {
     "data": {
      "text/html": [
       "<table>\n",
       "<thead><tr><th></th><th scope=col>X1191d5e0.9a2a.4ba4.b322.a591912160ee</th><th scope=col>X1b4ab422.05e5.4891.906e.12e9e9c65745</th><th scope=col>X217cd7ee.bfe8.4d37.b014.e47187901dbe</th><th scope=col>X6a50e9bf.8d92.4bac.98f0.50eee10d91d4</th><th scope=col>X896a9050.1423.490a.a12e.3db6217b49d3</th><th scope=col>a9cadef1.380e.4c4f.a33c.a828a58680e0</th><th scope=col>c3b0cf52.6a8d.4bba.ad6f.aca07b4ce145</th><th scope=col>HPSI0114i.bezi_1.hs37d5</th><th scope=col>HPSI0114i.bezi_3.hs37d5</th><th scope=col>HPSI0114i.eipl_1.hs37d5</th><th scope=col>...</th><th scope=col>SRR5589736</th><th scope=col>SRR5589737</th><th scope=col>SRR5589738</th><th scope=col>SRR5589739</th><th scope=col>SRR5589740</th><th scope=col>SRR5589741</th><th scope=col>SRR5589742</th><th scope=col>SRR5589743</th><th scope=col>SRR5589744</th><th scope=col>SRR5589745</th></tr></thead>\n",
       "<tbody>\n",
       "\t<tr><th scope=row>ENSG00000223972</th><td>0.5344626</td><td>0.148611 </td><td>0.000000 </td><td>0.5858367</td><td>0.283967 </td><td>0.1444611</td><td>0.3525601</td><td>0.2403484</td><td>0.1164022</td><td>0.1521228</td><td>...      </td><td>0.2332243</td><td>0.7274514</td><td>0.000000 </td><td>0.000000 </td><td>0.00000  </td><td>0.2645803</td><td>0.4455507</td><td>0.000000 </td><td>0.4096429</td><td>0.7887012</td></tr>\n",
       "\t<tr><th scope=row>ENSG00000227232</th><td>6.1188713</td><td>5.498526 </td><td>5.530272 </td><td>5.8288173</td><td>5.259845 </td><td>5.6636704</td><td>5.6418591</td><td>5.9497365</td><td>5.8042281</td><td>5.9982958</td><td>...      </td><td>5.7525242</td><td>5.7235908</td><td>5.965397 </td><td>5.833703 </td><td>5.84738  </td><td>5.6856543</td><td>6.0737743</td><td>5.078349 </td><td>5.8858752</td><td>5.3667701</td></tr>\n",
       "</tbody>\n",
       "</table>\n"
      ],
      "text/latex": [
       "\\begin{tabular}{r|lllllllllllllllllllllllllllllllllllllllllllllllllllllllllllllllllllllllllllllllllllllllllllllllllllllllllllllllllllllllllllllllllllllllllllllllllllllllllllllllllllllllllllllllllllllllllllllllllllllllllllllllllllllllllllllllllllllllllllllllllllllllllllllllllllllllllllllllllllllllllllllllllllllllllllllllllllllllllllllllllllllllllllllllllllllllllllllllllllllllllllllllllllllllllllllllllllllllllllllllllllllllllllllllllllllllllllllllllllllllllllllllllllllllllllllllllllllllllllllllllllllllllllllllllllllllllllllllllllllllllllllllllllllllllllllllllllllllllllllllllllllllllllllllllllllllllllllllllllllllllllllllllllllllllllllllllllllllllllllllllllllllllllllllllllllllllllllllllllllllllllllllllllllllllllllllllllllllllllllllllllllllllllllllllllllllllllllllllllllllllllllllllllllllllllllllllllllllllllllllllllllllllllllllllllllllllllllllllllllllllllllllllllllllllllllllllllllllllllllllllllllllllllllllllllllllllllllllllllllllllllllllllllllllllllllllllllllllllllllllllllllllllllllllllllllllllllllllllllllllllllllllllllllllllllllllllllllllllllllllllllllllllllllllllllllllllllllllllllllllllllllllllllllllllllllllllllllllllllllllllllllllllllllllllllllllllllllllllllllllllllllllllllllllllllllllllllllllllllllllllllllllllllllllllllllllllllllllllllllllllllllllllllllllllllllllllllllllllllllllllllllllllllllllllllllllllllllllllllllllllllllllllllllllllllllllllllllllllllllllllllllllllllllllllllllllllllllllllllllllllllllllllllllllllllllllllllllllllllllllllll}\n",
       "  & X1191d5e0.9a2a.4ba4.b322.a591912160ee & X1b4ab422.05e5.4891.906e.12e9e9c65745 & X217cd7ee.bfe8.4d37.b014.e47187901dbe & X6a50e9bf.8d92.4bac.98f0.50eee10d91d4 & X896a9050.1423.490a.a12e.3db6217b49d3 & a9cadef1.380e.4c4f.a33c.a828a58680e0 & c3b0cf52.6a8d.4bba.ad6f.aca07b4ce145 & HPSI0114i.bezi\\_1.hs37d5 & HPSI0114i.bezi\\_3.hs37d5 & HPSI0114i.eipl\\_1.hs37d5 & ... & SRR5589736 & SRR5589737 & SRR5589738 & SRR5589739 & SRR5589740 & SRR5589741 & SRR5589742 & SRR5589743 & SRR5589744 & SRR5589745\\\\\n",
       "\\hline\n",
       "\tENSG00000223972 & 0.5344626 & 0.148611  & 0.000000  & 0.5858367 & 0.283967  & 0.1444611 & 0.3525601 & 0.2403484 & 0.1164022 & 0.1521228 & ...       & 0.2332243 & 0.7274514 & 0.000000  & 0.000000  & 0.00000   & 0.2645803 & 0.4455507 & 0.000000  & 0.4096429 & 0.7887012\\\\\n",
       "\tENSG00000227232 & 6.1188713 & 5.498526  & 5.530272  & 5.8288173 & 5.259845  & 5.6636704 & 5.6418591 & 5.9497365 & 5.8042281 & 5.9982958 & ...       & 5.7525242 & 5.7235908 & 5.965397  & 5.833703  & 5.84738   & 5.6856543 & 6.0737743 & 5.078349  & 5.8858752 & 5.3667701\\\\\n",
       "\\end{tabular}\n"
      ],
      "text/markdown": [
       "\n",
       "| <!--/--> | X1191d5e0.9a2a.4ba4.b322.a591912160ee | X1b4ab422.05e5.4891.906e.12e9e9c65745 | X217cd7ee.bfe8.4d37.b014.e47187901dbe | X6a50e9bf.8d92.4bac.98f0.50eee10d91d4 | X896a9050.1423.490a.a12e.3db6217b49d3 | a9cadef1.380e.4c4f.a33c.a828a58680e0 | c3b0cf52.6a8d.4bba.ad6f.aca07b4ce145 | HPSI0114i.bezi_1.hs37d5 | HPSI0114i.bezi_3.hs37d5 | HPSI0114i.eipl_1.hs37d5 | ... | SRR5589736 | SRR5589737 | SRR5589738 | SRR5589739 | SRR5589740 | SRR5589741 | SRR5589742 | SRR5589743 | SRR5589744 | SRR5589745 |\n",
       "|---|---|---|---|---|---|---|---|---|---|---|---|---|---|---|---|---|---|---|---|---|---|\n",
       "| ENSG00000223972 | 0.5344626 | 0.148611  | 0.000000  | 0.5858367 | 0.283967  | 0.1444611 | 0.3525601 | 0.2403484 | 0.1164022 | 0.1521228 | ...       | 0.2332243 | 0.7274514 | 0.000000  | 0.000000  | 0.00000   | 0.2645803 | 0.4455507 | 0.000000  | 0.4096429 | 0.7887012 |\n",
       "| ENSG00000227232 | 6.1188713 | 5.498526  | 5.530272  | 5.8288173 | 5.259845  | 5.6636704 | 5.6418591 | 5.9497365 | 5.8042281 | 5.9982958 | ...       | 5.7525242 | 5.7235908 | 5.965397  | 5.833703  | 5.84738   | 5.6856543 | 6.0737743 | 5.078349  | 5.8858752 | 5.3667701 |\n",
       "\n"
      ],
      "text/plain": [
       "                X1191d5e0.9a2a.4ba4.b322.a591912160ee\n",
       "ENSG00000223972 0.5344626                            \n",
       "ENSG00000227232 6.1188713                            \n",
       "                X1b4ab422.05e5.4891.906e.12e9e9c65745\n",
       "ENSG00000223972 0.148611                             \n",
       "ENSG00000227232 5.498526                             \n",
       "                X217cd7ee.bfe8.4d37.b014.e47187901dbe\n",
       "ENSG00000223972 0.000000                             \n",
       "ENSG00000227232 5.530272                             \n",
       "                X6a50e9bf.8d92.4bac.98f0.50eee10d91d4\n",
       "ENSG00000223972 0.5858367                            \n",
       "ENSG00000227232 5.8288173                            \n",
       "                X896a9050.1423.490a.a12e.3db6217b49d3\n",
       "ENSG00000223972 0.283967                             \n",
       "ENSG00000227232 5.259845                             \n",
       "                a9cadef1.380e.4c4f.a33c.a828a58680e0\n",
       "ENSG00000223972 0.1444611                           \n",
       "ENSG00000227232 5.6636704                           \n",
       "                c3b0cf52.6a8d.4bba.ad6f.aca07b4ce145 HPSI0114i.bezi_1.hs37d5\n",
       "ENSG00000223972 0.3525601                            0.2403484              \n",
       "ENSG00000227232 5.6418591                            5.9497365              \n",
       "                HPSI0114i.bezi_3.hs37d5 HPSI0114i.eipl_1.hs37d5 ... SRR5589736\n",
       "ENSG00000223972 0.1164022               0.1521228               ... 0.2332243 \n",
       "ENSG00000227232 5.8042281               5.9982958               ... 5.7525242 \n",
       "                SRR5589737 SRR5589738 SRR5589739 SRR5589740 SRR5589741\n",
       "ENSG00000223972 0.7274514  0.000000   0.000000   0.00000    0.2645803 \n",
       "ENSG00000227232 5.7235908  5.965397   5.833703   5.84738    5.6856543 \n",
       "                SRR5589742 SRR5589743 SRR5589744 SRR5589745\n",
       "ENSG00000223972 0.4455507  0.000000   0.4096429  0.7887012 \n",
       "ENSG00000227232 6.0737743  5.078349   5.8858752  5.3667701 "
      ]
     },
     "metadata": {},
     "output_type": "display_data"
    }
   ],
   "source": [
    "head(t_df,2)"
   ]
  },
  {
   "cell_type": "code",
   "execution_count": 20,
   "metadata": {},
   "outputs": [],
   "source": [
    "new_cols = gsub('\\\\.','-',gsub('.hs37d5','',colnames(t_df)))"
   ]
  },
  {
   "cell_type": "code",
   "execution_count": 21,
   "metadata": {},
   "outputs": [
    {
     "data": {
      "text/html": [
       "<table>\n",
       "<thead><tr><th></th><th scope=col>X1191d5e0-9a2a-4ba4-b322-a591912160ee</th><th scope=col>X1b4ab422-05e5-4891-906e-12e9e9c65745</th><th scope=col>X217cd7ee-bfe8-4d37-b014-e47187901dbe</th><th scope=col>X6a50e9bf-8d92-4bac-98f0-50eee10d91d4</th><th scope=col>X896a9050-1423-490a-a12e-3db6217b49d3</th><th scope=col>a9cadef1-380e-4c4f-a33c-a828a58680e0</th><th scope=col>c3b0cf52-6a8d-4bba-ad6f-aca07b4ce145</th><th scope=col>HPSI0114i-bezi_1</th><th scope=col>HPSI0114i-bezi_3</th><th scope=col>HPSI0114i-eipl_1</th><th scope=col>...</th><th scope=col>SRR5589736</th><th scope=col>SRR5589737</th><th scope=col>SRR5589738</th><th scope=col>SRR5589739</th><th scope=col>SRR5589740</th><th scope=col>SRR5589741</th><th scope=col>SRR5589742</th><th scope=col>SRR5589743</th><th scope=col>SRR5589744</th><th scope=col>SRR5589745</th></tr></thead>\n",
       "<tbody>\n",
       "\t<tr><th scope=row>ENSG00000223972</th><td>0.5344626</td><td>0.148611 </td><td>0.000000 </td><td>0.5858367</td><td>0.283967 </td><td>0.1444611</td><td>0.3525601</td><td>0.2403484</td><td>0.1164022</td><td>0.1521228</td><td>...      </td><td>0.2332243</td><td>0.7274514</td><td>0.000000 </td><td>0.000000 </td><td>0.00000  </td><td>0.2645803</td><td>0.4455507</td><td>0.000000 </td><td>0.4096429</td><td>0.7887012</td></tr>\n",
       "\t<tr><th scope=row>ENSG00000227232</th><td>6.1188713</td><td>5.498526 </td><td>5.530272 </td><td>5.8288173</td><td>5.259845 </td><td>5.6636704</td><td>5.6418591</td><td>5.9497365</td><td>5.8042281</td><td>5.9982958</td><td>...      </td><td>5.7525242</td><td>5.7235908</td><td>5.965397 </td><td>5.833703 </td><td>5.84738  </td><td>5.6856543</td><td>6.0737743</td><td>5.078349 </td><td>5.8858752</td><td>5.3667701</td></tr>\n",
       "</tbody>\n",
       "</table>\n"
      ],
      "text/latex": [
       "\\begin{tabular}{r|lllllllllllllllllllllllllllllllllllllllllllllllllllllllllllllllllllllllllllllllllllllllllllllllllllllllllllllllllllllllllllllllllllllllllllllllllllllllllllllllllllllllllllllllllllllllllllllllllllllllllllllllllllllllllllllllllllllllllllllllllllllllllllllllllllllllllllllllllllllllllllllllllllllllllllllllllllllllllllllllllllllllllllllllllllllllllllllllllllllllllllllllllllllllllllllllllllllllllllllllllllllllllllllllllllllllllllllllllllllllllllllllllllllllllllllllllllllllllllllllllllllllllllllllllllllllllllllllllllllllllllllllllllllllllllllllllllllllllllllllllllllllllllllllllllllllllllllllllllllllllllllllllllllllllllllllllllllllllllllllllllllllllllllllllllllllllllllllllllllllllllllllllllllllllllllllllllllllllllllllllllllllllllllllllllllllllllllllllllllllllllllllllllllllllllllllllllllllllllllllllllllllllllllllllllllllllllllllllllllllllllllllllllllllllllllllllllllllllllllllllllllllllllllllllllllllllllllllllllllllllllllllllllllllllllllllllllllllllllllllllllllllllllllllllllllllllllllllllllllllllllllllllllllllllllllllllllllllllllllllllllllllllllllllllllllllllllllllllllllllllllllllllllllllllllllllllllllllllllllllllllllllllllllllllllllllllllllllllllllllllllllllllllllllllllllllllllllllllllllllllllllllllllllllllllllllllllllllllllllllllllllllllllllllllllllllllllllllllllllllllllllllllllllllllllllllllllllllllllllllllllllllllllllllllllllllllllllllllllllllllllllllllllllllllllllllllllllllllllllllllllllllllllllllllllllllllllllllllllllllllll}\n",
       "  & X1191d5e0-9a2a-4ba4-b322-a591912160ee & X1b4ab422-05e5-4891-906e-12e9e9c65745 & X217cd7ee-bfe8-4d37-b014-e47187901dbe & X6a50e9bf-8d92-4bac-98f0-50eee10d91d4 & X896a9050-1423-490a-a12e-3db6217b49d3 & a9cadef1-380e-4c4f-a33c-a828a58680e0 & c3b0cf52-6a8d-4bba-ad6f-aca07b4ce145 & HPSI0114i-bezi\\_1 & HPSI0114i-bezi\\_3 & HPSI0114i-eipl\\_1 & ... & SRR5589736 & SRR5589737 & SRR5589738 & SRR5589739 & SRR5589740 & SRR5589741 & SRR5589742 & SRR5589743 & SRR5589744 & SRR5589745\\\\\n",
       "\\hline\n",
       "\tENSG00000223972 & 0.5344626 & 0.148611  & 0.000000  & 0.5858367 & 0.283967  & 0.1444611 & 0.3525601 & 0.2403484 & 0.1164022 & 0.1521228 & ...       & 0.2332243 & 0.7274514 & 0.000000  & 0.000000  & 0.00000   & 0.2645803 & 0.4455507 & 0.000000  & 0.4096429 & 0.7887012\\\\\n",
       "\tENSG00000227232 & 6.1188713 & 5.498526  & 5.530272  & 5.8288173 & 5.259845  & 5.6636704 & 5.6418591 & 5.9497365 & 5.8042281 & 5.9982958 & ...       & 5.7525242 & 5.7235908 & 5.965397  & 5.833703  & 5.84738   & 5.6856543 & 6.0737743 & 5.078349  & 5.8858752 & 5.3667701\\\\\n",
       "\\end{tabular}\n"
      ],
      "text/markdown": [
       "\n",
       "| <!--/--> | X1191d5e0-9a2a-4ba4-b322-a591912160ee | X1b4ab422-05e5-4891-906e-12e9e9c65745 | X217cd7ee-bfe8-4d37-b014-e47187901dbe | X6a50e9bf-8d92-4bac-98f0-50eee10d91d4 | X896a9050-1423-490a-a12e-3db6217b49d3 | a9cadef1-380e-4c4f-a33c-a828a58680e0 | c3b0cf52-6a8d-4bba-ad6f-aca07b4ce145 | HPSI0114i-bezi_1 | HPSI0114i-bezi_3 | HPSI0114i-eipl_1 | ... | SRR5589736 | SRR5589737 | SRR5589738 | SRR5589739 | SRR5589740 | SRR5589741 | SRR5589742 | SRR5589743 | SRR5589744 | SRR5589745 |\n",
       "|---|---|---|---|---|---|---|---|---|---|---|---|---|---|---|---|---|---|---|---|---|---|\n",
       "| ENSG00000223972 | 0.5344626 | 0.148611  | 0.000000  | 0.5858367 | 0.283967  | 0.1444611 | 0.3525601 | 0.2403484 | 0.1164022 | 0.1521228 | ...       | 0.2332243 | 0.7274514 | 0.000000  | 0.000000  | 0.00000   | 0.2645803 | 0.4455507 | 0.000000  | 0.4096429 | 0.7887012 |\n",
       "| ENSG00000227232 | 6.1188713 | 5.498526  | 5.530272  | 5.8288173 | 5.259845  | 5.6636704 | 5.6418591 | 5.9497365 | 5.8042281 | 5.9982958 | ...       | 5.7525242 | 5.7235908 | 5.965397  | 5.833703  | 5.84738   | 5.6856543 | 6.0737743 | 5.078349  | 5.8858752 | 5.3667701 |\n",
       "\n"
      ],
      "text/plain": [
       "                X1191d5e0-9a2a-4ba4-b322-a591912160ee\n",
       "ENSG00000223972 0.5344626                            \n",
       "ENSG00000227232 6.1188713                            \n",
       "                X1b4ab422-05e5-4891-906e-12e9e9c65745\n",
       "ENSG00000223972 0.148611                             \n",
       "ENSG00000227232 5.498526                             \n",
       "                X217cd7ee-bfe8-4d37-b014-e47187901dbe\n",
       "ENSG00000223972 0.000000                             \n",
       "ENSG00000227232 5.530272                             \n",
       "                X6a50e9bf-8d92-4bac-98f0-50eee10d91d4\n",
       "ENSG00000223972 0.5858367                            \n",
       "ENSG00000227232 5.8288173                            \n",
       "                X896a9050-1423-490a-a12e-3db6217b49d3\n",
       "ENSG00000223972 0.283967                             \n",
       "ENSG00000227232 5.259845                             \n",
       "                a9cadef1-380e-4c4f-a33c-a828a58680e0\n",
       "ENSG00000223972 0.1444611                           \n",
       "ENSG00000227232 5.6636704                           \n",
       "                c3b0cf52-6a8d-4bba-ad6f-aca07b4ce145 HPSI0114i-bezi_1\n",
       "ENSG00000223972 0.3525601                            0.2403484       \n",
       "ENSG00000227232 5.6418591                            5.9497365       \n",
       "                HPSI0114i-bezi_3 HPSI0114i-eipl_1 ... SRR5589736 SRR5589737\n",
       "ENSG00000223972 0.1164022        0.1521228        ... 0.2332243  0.7274514 \n",
       "ENSG00000227232 5.8042281        5.9982958        ... 5.7525242  5.7235908 \n",
       "                SRR5589738 SRR5589739 SRR5589740 SRR5589741 SRR5589742\n",
       "ENSG00000223972 0.000000   0.000000   0.00000    0.2645803  0.4455507 \n",
       "ENSG00000227232 5.965397   5.833703   5.84738    5.6856543  6.0737743 \n",
       "                SRR5589743 SRR5589744 SRR5589745\n",
       "ENSG00000223972 0.000000   0.4096429  0.7887012 \n",
       "ENSG00000227232 5.078349   5.8858752  5.3667701 "
      ]
     },
     "metadata": {},
     "output_type": "display_data"
    }
   ],
   "source": [
    "colnames(t_df) = new_cols\n",
    "head(t_df,2)"
   ]
  },
  {
   "cell_type": "code",
   "execution_count": 22,
   "metadata": {},
   "outputs": [
    {
     "data": {
      "text/html": [
       "<table>\n",
       "<thead><tr><th></th><th scope=col>HPSI0114i-bezi_1</th><th scope=col>HPSI0114i-bezi_3</th><th scope=col>HPSI0114i-eipl_1</th><th scope=col>HPSI0114i-eipl_3</th><th scope=col>HPSI0114i-fikt_3</th><th scope=col>HPSI0114i-iisa_1</th><th scope=col>HPSI0114i-iisa_3</th><th scope=col>HPSI0114i-joxm_1</th><th scope=col>HPSI0114i-kolf_2</th><th scope=col>HPSI0114i-kolf_3</th><th scope=col>...</th><th scope=col>HPSI1213i-babk_2</th><th scope=col>HPSI1213i-foqj_2</th><th scope=col>HPSI1213i-hehd_1</th><th scope=col>HPSI1213i-hehd_2</th><th scope=col>HPSI1213i-nekd_1</th><th scope=col>HPSI1213i-pahc_4</th><th scope=col>HPSI1213i-pahc_5</th><th scope=col>HPSI1213i-tolg_4</th><th scope=col>HPSI1213i-tolg_6</th><th scope=col>HPSI1213i-xuja_2</th></tr></thead>\n",
       "<tbody>\n",
       "\t<tr><th scope=row>ENSG00000223972</th><td>0.2403484 </td><td>0.1164022 </td><td>0.1521228 </td><td>0.5431085 </td><td>0.00000   </td><td>0.6143799 </td><td>0.346214  </td><td>0.2556513 </td><td>0.4662304 </td><td>0.7333012 </td><td>...       </td><td>0.3188272 </td><td>0.09838474</td><td>0.2364095 </td><td>0.2464212 </td><td>0.1670463 </td><td>0.5254766 </td><td>0.4030978 </td><td>0.5636254 </td><td>0.5362689 </td><td>0.1287882 </td></tr>\n",
       "\t<tr><th scope=row>ENSG00000227232</th><td>5.9497365 </td><td>5.8042281 </td><td>5.9982958 </td><td>6.1035282 </td><td>5.31315   </td><td>5.3678778 </td><td>5.645318  </td><td>5.9977255 </td><td>5.6332916 </td><td>6.2739845 </td><td>...       </td><td>5.7577560 </td><td>6.03089424</td><td>5.5266274 </td><td>5.6275444 </td><td>5.8062306 </td><td>6.2851530 </td><td>5.7794632 </td><td>5.3130083 </td><td>5.6329879 </td><td>6.2684811 </td></tr>\n",
       "</tbody>\n",
       "</table>\n"
      ],
      "text/latex": [
       "\\begin{tabular}{r|lllllllllllllllllllllllllllllllllllllllllllllllllllllllllllllllllllllllllllllllllllllllllllllllllllllllllllllllllllllllllllllllllllllllllllllllllllllllllllllllllllllllllllllllllllllllllllllllllllllllllllllllllllllllllllllllllllllllllllllllllllllllllllllllllllllllllllllllllllllllllllllllllllllllllllllllllllllllllllllllllllllllllllllllllllllllllllllllllllllllllllllllllllllllllllllllllllllllllllllllllllllllllllllllllllllllllllllllllllllllllllllllllllllllllllllllllllllllllllllllllllllllllllllllllllllllllllllllllllllllllllllllllllllllllllllllllllllllllllllllllllllllllllllllllllllllllllllllllllllllllllllllllllllllllllllllllllllllllllllllllllllllllllllllllllllllllllllllllllllllllllllllllllllllllllllllllllllllllllllllllllllllllllllllllllllllllllllllllllllllllllllllllllllllllllllllllllllllllllllllllllllllllllllll}\n",
       "  & HPSI0114i-bezi\\_1 & HPSI0114i-bezi\\_3 & HPSI0114i-eipl\\_1 & HPSI0114i-eipl\\_3 & HPSI0114i-fikt\\_3 & HPSI0114i-iisa\\_1 & HPSI0114i-iisa\\_3 & HPSI0114i-joxm\\_1 & HPSI0114i-kolf\\_2 & HPSI0114i-kolf\\_3 & ... & HPSI1213i-babk\\_2 & HPSI1213i-foqj\\_2 & HPSI1213i-hehd\\_1 & HPSI1213i-hehd\\_2 & HPSI1213i-nekd\\_1 & HPSI1213i-pahc\\_4 & HPSI1213i-pahc\\_5 & HPSI1213i-tolg\\_4 & HPSI1213i-tolg\\_6 & HPSI1213i-xuja\\_2\\\\\n",
       "\\hline\n",
       "\tENSG00000223972 & 0.2403484  & 0.1164022  & 0.1521228  & 0.5431085  & 0.00000    & 0.6143799  & 0.346214   & 0.2556513  & 0.4662304  & 0.7333012  & ...        & 0.3188272  & 0.09838474 & 0.2364095  & 0.2464212  & 0.1670463  & 0.5254766  & 0.4030978  & 0.5636254  & 0.5362689  & 0.1287882 \\\\\n",
       "\tENSG00000227232 & 5.9497365  & 5.8042281  & 5.9982958  & 6.1035282  & 5.31315    & 5.3678778  & 5.645318   & 5.9977255  & 5.6332916  & 6.2739845  & ...        & 5.7577560  & 6.03089424 & 5.5266274  & 5.6275444  & 5.8062306  & 6.2851530  & 5.7794632  & 5.3130083  & 5.6329879  & 6.2684811 \\\\\n",
       "\\end{tabular}\n"
      ],
      "text/markdown": [
       "\n",
       "| <!--/--> | HPSI0114i-bezi_1 | HPSI0114i-bezi_3 | HPSI0114i-eipl_1 | HPSI0114i-eipl_3 | HPSI0114i-fikt_3 | HPSI0114i-iisa_1 | HPSI0114i-iisa_3 | HPSI0114i-joxm_1 | HPSI0114i-kolf_2 | HPSI0114i-kolf_3 | ... | HPSI1213i-babk_2 | HPSI1213i-foqj_2 | HPSI1213i-hehd_1 | HPSI1213i-hehd_2 | HPSI1213i-nekd_1 | HPSI1213i-pahc_4 | HPSI1213i-pahc_5 | HPSI1213i-tolg_4 | HPSI1213i-tolg_6 | HPSI1213i-xuja_2 |\n",
       "|---|---|---|---|---|---|---|---|---|---|---|---|---|---|---|---|---|---|---|---|---|---|\n",
       "| ENSG00000223972 | 0.2403484  | 0.1164022  | 0.1521228  | 0.5431085  | 0.00000    | 0.6143799  | 0.346214   | 0.2556513  | 0.4662304  | 0.7333012  | ...        | 0.3188272  | 0.09838474 | 0.2364095  | 0.2464212  | 0.1670463  | 0.5254766  | 0.4030978  | 0.5636254  | 0.5362689  | 0.1287882  |\n",
       "| ENSG00000227232 | 5.9497365  | 5.8042281  | 5.9982958  | 6.1035282  | 5.31315    | 5.3678778  | 5.645318   | 5.9977255  | 5.6332916  | 6.2739845  | ...        | 5.7577560  | 6.03089424 | 5.5266274  | 5.6275444  | 5.8062306  | 6.2851530  | 5.7794632  | 5.3130083  | 5.6329879  | 6.2684811  |\n",
       "\n"
      ],
      "text/plain": [
       "                HPSI0114i-bezi_1 HPSI0114i-bezi_3 HPSI0114i-eipl_1\n",
       "ENSG00000223972 0.2403484        0.1164022        0.1521228       \n",
       "ENSG00000227232 5.9497365        5.8042281        5.9982958       \n",
       "                HPSI0114i-eipl_3 HPSI0114i-fikt_3 HPSI0114i-iisa_1\n",
       "ENSG00000223972 0.5431085        0.00000          0.6143799       \n",
       "ENSG00000227232 6.1035282        5.31315          5.3678778       \n",
       "                HPSI0114i-iisa_3 HPSI0114i-joxm_1 HPSI0114i-kolf_2\n",
       "ENSG00000223972 0.346214         0.2556513        0.4662304       \n",
       "ENSG00000227232 5.645318         5.9977255        5.6332916       \n",
       "                HPSI0114i-kolf_3 ... HPSI1213i-babk_2 HPSI1213i-foqj_2\n",
       "ENSG00000223972 0.7333012        ... 0.3188272        0.09838474      \n",
       "ENSG00000227232 6.2739845        ... 5.7577560        6.03089424      \n",
       "                HPSI1213i-hehd_1 HPSI1213i-hehd_2 HPSI1213i-nekd_1\n",
       "ENSG00000223972 0.2364095        0.2464212        0.1670463       \n",
       "ENSG00000227232 5.5266274        5.6275444        5.8062306       \n",
       "                HPSI1213i-pahc_4 HPSI1213i-pahc_5 HPSI1213i-tolg_4\n",
       "ENSG00000223972 0.5254766        0.4030978        0.5636254       \n",
       "ENSG00000227232 6.2851530        5.7794632        5.3130083       \n",
       "                HPSI1213i-tolg_6 HPSI1213i-xuja_2\n",
       "ENSG00000223972 0.5362689        0.1287882       \n",
       "ENSG00000227232 5.6329879        6.2684811       "
      ]
     },
     "metadata": {},
     "output_type": "display_data"
    },
    {
     "data": {
      "text/html": [
       "56057"
      ],
      "text/latex": [
       "56057"
      ],
      "text/markdown": [
       "56057"
      ],
      "text/plain": [
       "[1] 56057"
      ]
     },
     "metadata": {},
     "output_type": "display_data"
    }
   ],
   "source": [
    "t_df = t_df[, grep('HPSI',colnames(t_df))]\n",
    "head(t_df,2)\n",
    "nrow(t_df)"
   ]
  },
  {
   "cell_type": "code",
   "execution_count": 23,
   "metadata": {},
   "outputs": [
    {
     "data": {
      "text/html": [
       "<table>\n",
       "<thead><tr><th></th><th scope=col>UTF1</th><th scope=col>TAC3</th><th scope=col>donor_id</th></tr></thead>\n",
       "<tbody>\n",
       "\t<tr><th scope=row>HPSI0114i-bezi_1</th><td>4.702476        </td><td>5.564156        </td><td>HPSI0114i-bezi_1</td></tr>\n",
       "\t<tr><th scope=row>HPSI0114i-bezi_3</th><td>2.979417        </td><td>5.493768        </td><td>HPSI0114i-bezi_3</td></tr>\n",
       "\t<tr><th scope=row>HPSI0114i-eipl_1</th><td>8.503246        </td><td>3.347745        </td><td>HPSI0114i-eipl_1</td></tr>\n",
       "\t<tr><th scope=row>HPSI0114i-eipl_3</th><td>8.949141        </td><td>4.493165        </td><td>HPSI0114i-eipl_3</td></tr>\n",
       "\t<tr><th scope=row>HPSI0114i-fikt_3</th><td>4.679852        </td><td>5.328349        </td><td>HPSI0114i-fikt_3</td></tr>\n",
       "\t<tr><th scope=row>HPSI0114i-iisa_1</th><td>4.883805        </td><td>5.763036        </td><td>HPSI0114i-iisa_1</td></tr>\n",
       "</tbody>\n",
       "</table>\n"
      ],
      "text/latex": [
       "\\begin{tabular}{r|lll}\n",
       "  & UTF1 & TAC3 & donor\\_id\\\\\n",
       "\\hline\n",
       "\tHPSI0114i-bezi\\_1 & 4.702476           & 5.564156           & HPSI0114i-bezi\\_1\\\\\n",
       "\tHPSI0114i-bezi\\_3 & 2.979417           & 5.493768           & HPSI0114i-bezi\\_3\\\\\n",
       "\tHPSI0114i-eipl\\_1 & 8.503246           & 3.347745           & HPSI0114i-eipl\\_1\\\\\n",
       "\tHPSI0114i-eipl\\_3 & 8.949141           & 4.493165           & HPSI0114i-eipl\\_3\\\\\n",
       "\tHPSI0114i-fikt\\_3 & 4.679852           & 5.328349           & HPSI0114i-fikt\\_3\\\\\n",
       "\tHPSI0114i-iisa\\_1 & 4.883805           & 5.763036           & HPSI0114i-iisa\\_1\\\\\n",
       "\\end{tabular}\n"
      ],
      "text/markdown": [
       "\n",
       "| <!--/--> | UTF1 | TAC3 | donor_id |\n",
       "|---|---|---|---|\n",
       "| HPSI0114i-bezi_1 | 4.702476         | 5.564156         | HPSI0114i-bezi_1 |\n",
       "| HPSI0114i-bezi_3 | 2.979417         | 5.493768         | HPSI0114i-bezi_3 |\n",
       "| HPSI0114i-eipl_1 | 8.503246         | 3.347745         | HPSI0114i-eipl_1 |\n",
       "| HPSI0114i-eipl_3 | 8.949141         | 4.493165         | HPSI0114i-eipl_3 |\n",
       "| HPSI0114i-fikt_3 | 4.679852         | 5.328349         | HPSI0114i-fikt_3 |\n",
       "| HPSI0114i-iisa_1 | 4.883805         | 5.763036         | HPSI0114i-iisa_1 |\n",
       "\n"
      ],
      "text/plain": [
       "                 UTF1     TAC3     donor_id        \n",
       "HPSI0114i-bezi_1 4.702476 5.564156 HPSI0114i-bezi_1\n",
       "HPSI0114i-bezi_3 2.979417 5.493768 HPSI0114i-bezi_3\n",
       "HPSI0114i-eipl_1 8.503246 3.347745 HPSI0114i-eipl_1\n",
       "HPSI0114i-eipl_3 8.949141 4.493165 HPSI0114i-eipl_3\n",
       "HPSI0114i-fikt_3 4.679852 5.328349 HPSI0114i-fikt_3\n",
       "HPSI0114i-iisa_1 4.883805 5.763036 HPSI0114i-iisa_1"
      ]
     },
     "metadata": {},
     "output_type": "display_data"
    }
   ],
   "source": [
    "bulk_df = as.data.frame(t(t_df[c(\"ENSG00000171794\",\"ENSG00000166863\"),]))\n",
    "colnames(bulk_df) = c('UTF1','TAC3')\n",
    "bulk_df$donor_id = rownames(bulk_df)\n",
    "head(bulk_df)"
   ]
  },
  {
   "cell_type": "code",
   "execution_count": 24,
   "metadata": {},
   "outputs": [],
   "source": [
    "m_U = min(bulk_df$UTF1)\n",
    "M_U = max(bulk_df$UTF1)\n",
    "m_T = min(bulk_df$TAC3)\n",
    "M_T = max(bulk_df$TAC3)"
   ]
  },
  {
   "cell_type": "code",
   "execution_count": 30,
   "metadata": {},
   "outputs": [],
   "source": [
    "# library(dplyr)"
   ]
  },
  {
   "cell_type": "code",
   "execution_count": 68,
   "metadata": {},
   "outputs": [
    {
     "data": {
      "text/html": [
       "<table>\n",
       "<thead><tr><th scope=col>donor_id</th><th scope=col>diff_efficiency</th><th scope=col>model_score</th><th scope=col>short_donor</th><th scope=col>donor_diff_results</th></tr></thead>\n",
       "<tbody>\n",
       "\t<tr><td>HPSI0114i-bezi_1</td><td>not_assessed    </td><td>0.96380960      </td><td>bezi            </td><td>concordant_1    </td></tr>\n",
       "\t<tr><td>HPSI0114i-bezi_3</td><td>succeeded       </td><td>0.98836915      </td><td>bezi            </td><td>concordant_1    </td></tr>\n",
       "\t<tr><td>HPSI0114i-eipl_1</td><td>failed          </td><td>0.01549609      </td><td>eipl            </td><td>concordant_0    </td></tr>\n",
       "\t<tr><td>HPSI0114i-eipl_3</td><td>not_assessed    </td><td>0.00705412      </td><td>eipl            </td><td>concordant_0    </td></tr>\n",
       "\t<tr><td>HPSI0114i-fikt_3</td><td>succeeded       </td><td>0.97993957      </td><td>fikt            </td><td>one_line_only   </td></tr>\n",
       "\t<tr><td>HPSI0114i-iisa_1</td><td>not_assessed    </td><td>0.73531860      </td><td>iisa            </td><td>concordant_1    </td></tr>\n",
       "</tbody>\n",
       "</table>\n"
      ],
      "text/latex": [
       "\\begin{tabular}{r|lllll}\n",
       " donor\\_id & diff\\_efficiency & model\\_score & short\\_donor & donor\\_diff\\_results\\\\\n",
       "\\hline\n",
       "\t HPSI0114i-bezi\\_1 & not\\_assessed     & 0.96380960         & bezi               & concordant\\_1    \\\\\n",
       "\t HPSI0114i-bezi\\_3 & succeeded          & 0.98836915         & bezi               & concordant\\_1    \\\\\n",
       "\t HPSI0114i-eipl\\_1 & failed             & 0.01549609         & eipl               & concordant\\_0    \\\\\n",
       "\t HPSI0114i-eipl\\_3 & not\\_assessed     & 0.00705412         & eipl               & concordant\\_0    \\\\\n",
       "\t HPSI0114i-fikt\\_3 & succeeded          & 0.97993957         & fikt               & one\\_line\\_only \\\\\n",
       "\t HPSI0114i-iisa\\_1 & not\\_assessed     & 0.73531860         & iisa               & concordant\\_1    \\\\\n",
       "\\end{tabular}\n"
      ],
      "text/markdown": [
       "\n",
       "| donor_id | diff_efficiency | model_score | short_donor | donor_diff_results |\n",
       "|---|---|---|---|---|\n",
       "| HPSI0114i-bezi_1 | not_assessed     | 0.96380960       | bezi             | concordant_1     |\n",
       "| HPSI0114i-bezi_3 | succeeded        | 0.98836915       | bezi             | concordant_1     |\n",
       "| HPSI0114i-eipl_1 | failed           | 0.01549609       | eipl             | concordant_0     |\n",
       "| HPSI0114i-eipl_3 | not_assessed     | 0.00705412       | eipl             | concordant_0     |\n",
       "| HPSI0114i-fikt_3 | succeeded        | 0.97993957       | fikt             | one_line_only    |\n",
       "| HPSI0114i-iisa_1 | not_assessed     | 0.73531860       | iisa             | concordant_1     |\n",
       "\n"
      ],
      "text/plain": [
       "  donor_id         diff_efficiency model_score short_donor donor_diff_results\n",
       "1 HPSI0114i-bezi_1 not_assessed    0.96380960  bezi        concordant_1      \n",
       "2 HPSI0114i-bezi_3 succeeded       0.98836915  bezi        concordant_1      \n",
       "3 HPSI0114i-eipl_1 failed          0.01549609  eipl        concordant_0      \n",
       "4 HPSI0114i-eipl_3 not_assessed    0.00705412  eipl        concordant_0      \n",
       "5 HPSI0114i-fikt_3 succeeded       0.97993957  fikt        one_line_only     \n",
       "6 HPSI0114i-iisa_1 not_assessed    0.73531860  iisa        concordant_1      "
      ]
     },
     "metadata": {},
     "output_type": "display_data"
    },
    {
     "data": {
      "text/html": [
       "<table>\n",
       "<thead><tr><th scope=col>donor_id</th><th scope=col>diff_efficiency</th><th scope=col>model_score</th><th scope=col>short_donor</th><th scope=col>donor_diff_results</th></tr></thead>\n",
       "<tbody>\n",
       "\t<tr><td>HPSI0114i-bezi_1</td><td>not_assessed    </td><td>0.96380960      </td><td>bezi            </td><td>concordant_1    </td></tr>\n",
       "\t<tr><td>HPSI0114i-bezi_3</td><td>succeeded       </td><td>0.98836915      </td><td>bezi            </td><td>concordant_1    </td></tr>\n",
       "\t<tr><td>HPSI0114i-eipl_1</td><td>failed          </td><td>0.01549609      </td><td>eipl            </td><td>concordant_0    </td></tr>\n",
       "\t<tr><td>HPSI0114i-eipl_3</td><td>not_assessed    </td><td>0.00705412      </td><td>eipl            </td><td>concordant_0    </td></tr>\n",
       "\t<tr><td>HPSI0114i-fikt_3</td><td>succeeded       </td><td>0.97993957      </td><td>fikt            </td><td>one_line_only   </td></tr>\n",
       "\t<tr><td>HPSI0114i-iisa_1</td><td>not_assessed    </td><td>0.73531860      </td><td>iisa            </td><td>concordant_1    </td></tr>\n",
       "</tbody>\n",
       "</table>\n"
      ],
      "text/latex": [
       "\\begin{tabular}{r|lllll}\n",
       " donor\\_id & diff\\_efficiency & model\\_score & short\\_donor & donor\\_diff\\_results\\\\\n",
       "\\hline\n",
       "\t HPSI0114i-bezi\\_1 & not\\_assessed     & 0.96380960         & bezi               & concordant\\_1    \\\\\n",
       "\t HPSI0114i-bezi\\_3 & succeeded          & 0.98836915         & bezi               & concordant\\_1    \\\\\n",
       "\t HPSI0114i-eipl\\_1 & failed             & 0.01549609         & eipl               & concordant\\_0    \\\\\n",
       "\t HPSI0114i-eipl\\_3 & not\\_assessed     & 0.00705412         & eipl               & concordant\\_0    \\\\\n",
       "\t HPSI0114i-fikt\\_3 & succeeded          & 0.97993957         & fikt               & one\\_line\\_only \\\\\n",
       "\t HPSI0114i-iisa\\_1 & not\\_assessed     & 0.73531860         & iisa               & concordant\\_1    \\\\\n",
       "\\end{tabular}\n"
      ],
      "text/markdown": [
       "\n",
       "| donor_id | diff_efficiency | model_score | short_donor | donor_diff_results |\n",
       "|---|---|---|---|---|\n",
       "| HPSI0114i-bezi_1 | not_assessed     | 0.96380960       | bezi             | concordant_1     |\n",
       "| HPSI0114i-bezi_3 | succeeded        | 0.98836915       | bezi             | concordant_1     |\n",
       "| HPSI0114i-eipl_1 | failed           | 0.01549609       | eipl             | concordant_0     |\n",
       "| HPSI0114i-eipl_3 | not_assessed     | 0.00705412       | eipl             | concordant_0     |\n",
       "| HPSI0114i-fikt_3 | succeeded        | 0.97993957       | fikt             | one_line_only    |\n",
       "| HPSI0114i-iisa_1 | not_assessed     | 0.73531860       | iisa             | concordant_1     |\n",
       "\n"
      ],
      "text/plain": [
       "  donor_id         diff_efficiency model_score short_donor donor_diff_results\n",
       "1 HPSI0114i-bezi_1 not_assessed    0.96380960  bezi        concordant_1      \n",
       "2 HPSI0114i-bezi_3 succeeded       0.98836915  bezi        concordant_1      \n",
       "3 HPSI0114i-eipl_1 failed          0.01549609  eipl        concordant_0      \n",
       "4 HPSI0114i-eipl_3 not_assessed    0.00705412  eipl        concordant_0      \n",
       "5 HPSI0114i-fikt_3 succeeded       0.97993957  fikt        one_line_only     \n",
       "6 HPSI0114i-iisa_1 not_assessed    0.73531860  iisa        concordant_1      "
      ]
     },
     "metadata": {},
     "output_type": "display_data"
    }
   ],
   "source": [
    "head(df)\n",
    "df$donor_diff_results = 'one_line_only'\n",
    "df$donor_diff_results[df$short_donor %in% concordant_1] = 'concordant_1'\n",
    "df$donor_diff_results[df$short_donor %in% concordant_0] = 'concordant_0'\n",
    "df$donor_diff_results[df$short_donor %in% discordant] = 'discordant'\n",
    "df[df$short_donor == 'sohd',\"donor_diff_results\"] = 'concordant_1'\n",
    "head(df)"
   ]
  },
  {
   "cell_type": "code",
   "execution_count": 69,
   "metadata": {},
   "outputs": [],
   "source": [
    "write.csv(df, \"/hps/nobackup/stegle/users/acuomo/all_scripts/sc_neuroseq/diff_efficiency/predicted_diff_efficiency_hipsci_lines_including_concordant_discordant_info.csv\",\n",
    "         row.names = F, quote = F)"
   ]
  },
  {
   "cell_type": "code",
   "execution_count": null,
   "metadata": {},
   "outputs": [],
   "source": []
  },
  {
   "cell_type": "code",
   "execution_count": 27,
   "metadata": {
    "scrolled": true
   },
   "outputs": [
    {
     "name": "stderr",
     "output_type": "stream",
     "text": [
      "Warning message:\n",
      "“Column `donor_id` joining factor and character vector, coercing into character vector”"
     ]
    },
    {
     "data": {
      "text/html": [
       "<table>\n",
       "<thead><tr><th scope=col>donor_id</th><th scope=col>diff_efficiency</th><th scope=col>model_score</th><th scope=col>short_donor</th><th scope=col>rep</th><th scope=col>UTF1</th><th scope=col>TAC3</th></tr></thead>\n",
       "<tbody>\n",
       "\t<tr><td>HPSI0114i-eipl_1</td><td>failed          </td><td>0.01549609      </td><td>eipl            </td><td>rep1            </td><td>8.503246        </td><td>3.347745        </td></tr>\n",
       "\t<tr><td>HPSI0114i-eipl_3</td><td>not_assessed    </td><td>0.00705412      </td><td>eipl            </td><td>rep2            </td><td>8.949141        </td><td>4.493165        </td></tr>\n",
       "</tbody>\n",
       "</table>\n"
      ],
      "text/latex": [
       "\\begin{tabular}{r|lllllll}\n",
       " donor\\_id & diff\\_efficiency & model\\_score & short\\_donor & rep & UTF1 & TAC3\\\\\n",
       "\\hline\n",
       "\t HPSI0114i-eipl\\_1 & failed             & 0.01549609         & eipl               & rep1               & 8.503246           & 3.347745          \\\\\n",
       "\t HPSI0114i-eipl\\_3 & not\\_assessed     & 0.00705412         & eipl               & rep2               & 8.949141           & 4.493165          \\\\\n",
       "\\end{tabular}\n"
      ],
      "text/markdown": [
       "\n",
       "| donor_id | diff_efficiency | model_score | short_donor | rep | UTF1 | TAC3 |\n",
       "|---|---|---|---|---|---|---|\n",
       "| HPSI0114i-eipl_1 | failed           | 0.01549609       | eipl             | rep1             | 8.503246         | 3.347745         |\n",
       "| HPSI0114i-eipl_3 | not_assessed     | 0.00705412       | eipl             | rep2             | 8.949141         | 4.493165         |\n",
       "\n"
      ],
      "text/plain": [
       "  donor_id         diff_efficiency model_score short_donor rep  UTF1    \n",
       "1 HPSI0114i-eipl_1 failed          0.01549609  eipl        rep1 8.503246\n",
       "2 HPSI0114i-eipl_3 not_assessed    0.00705412  eipl        rep2 8.949141\n",
       "  TAC3    \n",
       "1 3.347745\n",
       "2 4.493165"
      ]
     },
     "metadata": {},
     "output_type": "display_data"
    }
   ],
   "source": [
    "df_00 = df[df$short_donor %in% concordant_0,]\n",
    "df_00$rep = 'rep1'\n",
    "df_00[seq(2,nrow(df_00),2),'rep'] = 'rep2'\n",
    "# head(df_00,2)\n",
    "\n",
    "df0 = inner_join(df_00, bulk_df, by = \"donor_id\")\n",
    "head(df0,2)"
   ]
  },
  {
   "cell_type": "code",
   "execution_count": 28,
   "metadata": {},
   "outputs": [
    {
     "data": {
      "text/html": [
       "<ol class=list-inline>\n",
       "\t<li>'eipl'</li>\n",
       "\t<li>'kozf'</li>\n",
       "\t<li>'oilg'</li>\n",
       "\t<li>'eoko'</li>\n",
       "\t<li>'ceik'</li>\n",
       "\t<li>'oikd'</li>\n",
       "\t<li>'aicq'</li>\n",
       "\t<li>'jepf'</li>\n",
       "\t<li>'jory'</li>\n",
       "\t<li>'suqd'</li>\n",
       "\t<li>'oomz'</li>\n",
       "\t<li>'ciwj'</li>\n",
       "\t<li>'lipl'</li>\n",
       "\t<li>'lirf'</li>\n",
       "\t<li>'voce'</li>\n",
       "\t<li>'rily'</li>\n",
       "\t<li>'burb'</li>\n",
       "\t<li>'oatm'</li>\n",
       "\t<li>'kije'</li>\n",
       "\t<li>'uixy'</li>\n",
       "\t<li>'lise'</li>\n",
       "\t<li>'hikt'</li>\n",
       "\t<li>'moyn'</li>\n",
       "\t<li>'jufd'</li>\n",
       "\t<li>'bilx'</li>\n",
       "</ol>\n"
      ],
      "text/latex": [
       "\\begin{enumerate*}\n",
       "\\item 'eipl'\n",
       "\\item 'kozf'\n",
       "\\item 'oilg'\n",
       "\\item 'eoko'\n",
       "\\item 'ceik'\n",
       "\\item 'oikd'\n",
       "\\item 'aicq'\n",
       "\\item 'jepf'\n",
       "\\item 'jory'\n",
       "\\item 'suqd'\n",
       "\\item 'oomz'\n",
       "\\item 'ciwj'\n",
       "\\item 'lipl'\n",
       "\\item 'lirf'\n",
       "\\item 'voce'\n",
       "\\item 'rily'\n",
       "\\item 'burb'\n",
       "\\item 'oatm'\n",
       "\\item 'kije'\n",
       "\\item 'uixy'\n",
       "\\item 'lise'\n",
       "\\item 'hikt'\n",
       "\\item 'moyn'\n",
       "\\item 'jufd'\n",
       "\\item 'bilx'\n",
       "\\end{enumerate*}\n"
      ],
      "text/markdown": [
       "1. 'eipl'\n",
       "2. 'kozf'\n",
       "3. 'oilg'\n",
       "4. 'eoko'\n",
       "5. 'ceik'\n",
       "6. 'oikd'\n",
       "7. 'aicq'\n",
       "8. 'jepf'\n",
       "9. 'jory'\n",
       "10. 'suqd'\n",
       "11. 'oomz'\n",
       "12. 'ciwj'\n",
       "13. 'lipl'\n",
       "14. 'lirf'\n",
       "15. 'voce'\n",
       "16. 'rily'\n",
       "17. 'burb'\n",
       "18. 'oatm'\n",
       "19. 'kije'\n",
       "20. 'uixy'\n",
       "21. 'lise'\n",
       "22. 'hikt'\n",
       "23. 'moyn'\n",
       "24. 'jufd'\n",
       "25. 'bilx'\n",
       "\n",
       "\n"
      ],
      "text/plain": [
       " [1] \"eipl\" \"kozf\" \"oilg\" \"eoko\" \"ceik\" \"oikd\" \"aicq\" \"jepf\" \"jory\" \"suqd\"\n",
       "[11] \"oomz\" \"ciwj\" \"lipl\" \"lirf\" \"voce\" \"rily\" \"burb\" \"oatm\" \"kije\" \"uixy\"\n",
       "[21] \"lise\" \"hikt\" \"moyn\" \"jufd\" \"bilx\""
      ]
     },
     "metadata": {},
     "output_type": "display_data"
    }
   ],
   "source": [
    "unique(df_00$short_donor)"
   ]
  },
  {
   "cell_type": "code",
   "execution_count": 29,
   "metadata": {},
   "outputs": [
    {
     "name": "stderr",
     "output_type": "stream",
     "text": [
      "Warning message:\n",
      "“Column `donor_id` joining factor and character vector, coercing into character vector”"
     ]
    },
    {
     "data": {
      "text/html": [
       "<table>\n",
       "<thead><tr><th scope=col>donor_id</th><th scope=col>diff_efficiency</th><th scope=col>model_score</th><th scope=col>short_donor</th><th scope=col>rep</th><th scope=col>UTF1</th><th scope=col>TAC3</th></tr></thead>\n",
       "<tbody>\n",
       "\t<tr><td>HPSI0114i-bezi_1</td><td>not_assessed    </td><td>0.9638096       </td><td>bezi            </td><td>rep1            </td><td>4.702476        </td><td>5.564156        </td></tr>\n",
       "\t<tr><td>HPSI0114i-bezi_3</td><td>succeeded       </td><td>0.9883692       </td><td>bezi            </td><td>rep2            </td><td>2.979417        </td><td>5.493768        </td></tr>\n",
       "</tbody>\n",
       "</table>\n"
      ],
      "text/latex": [
       "\\begin{tabular}{r|lllllll}\n",
       " donor\\_id & diff\\_efficiency & model\\_score & short\\_donor & rep & UTF1 & TAC3\\\\\n",
       "\\hline\n",
       "\t HPSI0114i-bezi\\_1 & not\\_assessed     & 0.9638096          & bezi               & rep1               & 4.702476           & 5.564156          \\\\\n",
       "\t HPSI0114i-bezi\\_3 & succeeded          & 0.9883692          & bezi               & rep2               & 2.979417           & 5.493768          \\\\\n",
       "\\end{tabular}\n"
      ],
      "text/markdown": [
       "\n",
       "| donor_id | diff_efficiency | model_score | short_donor | rep | UTF1 | TAC3 |\n",
       "|---|---|---|---|---|---|---|\n",
       "| HPSI0114i-bezi_1 | not_assessed     | 0.9638096        | bezi             | rep1             | 4.702476         | 5.564156         |\n",
       "| HPSI0114i-bezi_3 | succeeded        | 0.9883692        | bezi             | rep2             | 2.979417         | 5.493768         |\n",
       "\n"
      ],
      "text/plain": [
       "  donor_id         diff_efficiency model_score short_donor rep  UTF1    \n",
       "1 HPSI0114i-bezi_1 not_assessed    0.9638096   bezi        rep1 4.702476\n",
       "2 HPSI0114i-bezi_3 succeeded       0.9883692   bezi        rep2 2.979417\n",
       "  TAC3    \n",
       "1 5.564156\n",
       "2 5.493768"
      ]
     },
     "metadata": {},
     "output_type": "display_data"
    }
   ],
   "source": [
    "df_11 = df[df$short_donor %in% concordant_1,]\n",
    "df_11$rep = 'rep1'\n",
    "df_11[seq(2,nrow(df_11),2),'rep'] = 'rep2'\n",
    "# head(df_00,2)\n",
    "\n",
    "df1 = inner_join(df_11, bulk_df, by = \"donor_id\")\n",
    "head(df1,2)"
   ]
  },
  {
   "cell_type": "code",
   "execution_count": 32,
   "metadata": {},
   "outputs": [
    {
     "name": "stderr",
     "output_type": "stream",
     "text": [
      "Warning message:\n",
      "“Column `donor_id` joining factor and character vector, coercing into character vector”"
     ]
    },
    {
     "data": {
      "text/html": [
       "<table>\n",
       "<thead><tr><th scope=col>donor_id</th><th scope=col>diff_efficiency</th><th scope=col>model_score</th><th scope=col>short_donor</th><th scope=col>rep</th><th scope=col>UTF1</th><th scope=col>TAC3</th></tr></thead>\n",
       "<tbody>\n",
       "\t<tr><td>HPSI0115i-aion_2</td><td>succeeded       </td><td>0.990376984     </td><td>aion            </td><td>rep2            </td><td>6.565273        </td><td>4.743942        </td></tr>\n",
       "\t<tr><td>HPSI0115i-aion_3</td><td>not_assessed    </td><td>0.001997897     </td><td>aion            </td><td>rep1            </td><td>9.488479        </td><td>2.133053        </td></tr>\n",
       "</tbody>\n",
       "</table>\n"
      ],
      "text/latex": [
       "\\begin{tabular}{r|lllllll}\n",
       " donor\\_id & diff\\_efficiency & model\\_score & short\\_donor & rep & UTF1 & TAC3\\\\\n",
       "\\hline\n",
       "\t HPSI0115i-aion\\_2 & succeeded          & 0.990376984        & aion               & rep2               & 6.565273           & 4.743942          \\\\\n",
       "\t HPSI0115i-aion\\_3 & not\\_assessed     & 0.001997897        & aion               & rep1               & 9.488479           & 2.133053          \\\\\n",
       "\\end{tabular}\n"
      ],
      "text/markdown": [
       "\n",
       "| donor_id | diff_efficiency | model_score | short_donor | rep | UTF1 | TAC3 |\n",
       "|---|---|---|---|---|---|---|\n",
       "| HPSI0115i-aion_2 | succeeded        | 0.990376984      | aion             | rep2             | 6.565273         | 4.743942         |\n",
       "| HPSI0115i-aion_3 | not_assessed     | 0.001997897      | aion             | rep1             | 9.488479         | 2.133053         |\n",
       "\n"
      ],
      "text/plain": [
       "  donor_id         diff_efficiency model_score short_donor rep  UTF1    \n",
       "1 HPSI0115i-aion_2 succeeded       0.990376984 aion        rep2 6.565273\n",
       "2 HPSI0115i-aion_3 not_assessed    0.001997897 aion        rep1 9.488479\n",
       "  TAC3    \n",
       "1 4.743942\n",
       "2 2.133053"
      ]
     },
     "metadata": {},
     "output_type": "display_data"
    }
   ],
   "source": [
    "df_01 = df[df$short_donor %in% discordant,]\n",
    "df_01$rep = 'rep1'\n",
    "for (donor in unique(df_01$short_donor)){\n",
    "    r = df_01[df_01$short_donor == donor,]\n",
    "#     print(head(r))\n",
    "    df_01[df_01$short_donor == donor & df_01$model_score == min(r$model_score),'rep'] = 'rep1'\n",
    "    df_01[df_01$short_donor == donor & df_01$model_score == max(r$model_score),'rep'] = 'rep2'\n",
    "}\n",
    "# head(df_01)\n",
    "df01 = inner_join(df_01, bulk_df, by = \"donor_id\")\n",
    "head(df01,2)"
   ]
  },
  {
   "cell_type": "code",
   "execution_count": 33,
   "metadata": {},
   "outputs": [
    {
     "data": {
      "text/html": [
       "<ol class=list-inline>\n",
       "\t<li>'aion'</li>\n",
       "\t<li>'bimq'</li>\n",
       "\t<li>'iinu'</li>\n",
       "\t<li>'qaqp'</li>\n",
       "\t<li>'xaka'</li>\n",
       "\t<li>'feec'</li>\n",
       "\t<li>'romx'</li>\n",
       "\t<li>'aiid'</li>\n",
       "\t<li>'dewh'</li>\n",
       "\t<li>'vieg'</li>\n",
       "\t<li>'xanu'</li>\n",
       "\t<li>'bubh'</li>\n",
       "\t<li>'cuhk'</li>\n",
       "\t<li>'sojd'</li>\n",
       "\t<li>'xugn'</li>\n",
       "\t<li>'muwv'</li>\n",
       "\t<li>'vats'</li>\n",
       "\t<li>'eevy'</li>\n",
       "\t<li>'oaqd'</li>\n",
       "\t<li>'iooi'</li>\n",
       "\t<li>'ourj'</li>\n",
       "\t<li>'ruah'</li>\n",
       "\t<li>'xegx'</li>\n",
       "\t<li>'fiaj'</li>\n",
       "\t<li>'qajt'</li>\n",
       "\t<li>'wiii'</li>\n",
       "\t<li>'hapz'</li>\n",
       "\t<li>'iool'</li>\n",
       "\t<li>'iuoc'</li>\n",
       "\t<li>'oadp'</li>\n",
       "\t<li>'oazw'</li>\n",
       "\t<li>'pews'</li>\n",
       "\t<li>'raet'</li>\n",
       "\t<li>'vebd'</li>\n",
       "\t<li>'zukb'</li>\n",
       "\t<li>'miaj'</li>\n",
       "\t<li>'paab'</li>\n",
       "\t<li>'puhk'</li>\n",
       "\t<li>'uevq'</li>\n",
       "\t<li>'voxu'</li>\n",
       "\t<li>'biln'</li>\n",
       "\t<li>'uegn'</li>\n",
       "\t<li>'keui'</li>\n",
       "\t<li>'kute'</li>\n",
       "\t<li>'nufh'</li>\n",
       "\t<li>'tosj'</li>\n",
       "\t<li>'xiry'</li>\n",
       "\t<li>'siqu'</li>\n",
       "\t<li>'oexh'</li>\n",
       "\t<li>'qehq'</li>\n",
       "\t<li>'tifo'</li>\n",
       "\t<li>'vajy'</li>\n",
       "\t<li>'vorn'</li>\n",
       "\t<li>'zipi'</li>\n",
       "\t<li>'wuye'</li>\n",
       "\t<li>'tuju'</li>\n",
       "\t<li>'geve'</li>\n",
       "\t<li>'mebq'</li>\n",
       "\t<li>'wakr'</li>\n",
       "\t<li>'wiau'</li>\n",
       "\t<li>'yiek'</li>\n",
       "\t<li>'pahc'</li>\n",
       "</ol>\n"
      ],
      "text/latex": [
       "\\begin{enumerate*}\n",
       "\\item 'aion'\n",
       "\\item 'bimq'\n",
       "\\item 'iinu'\n",
       "\\item 'qaqp'\n",
       "\\item 'xaka'\n",
       "\\item 'feec'\n",
       "\\item 'romx'\n",
       "\\item 'aiid'\n",
       "\\item 'dewh'\n",
       "\\item 'vieg'\n",
       "\\item 'xanu'\n",
       "\\item 'bubh'\n",
       "\\item 'cuhk'\n",
       "\\item 'sojd'\n",
       "\\item 'xugn'\n",
       "\\item 'muwv'\n",
       "\\item 'vats'\n",
       "\\item 'eevy'\n",
       "\\item 'oaqd'\n",
       "\\item 'iooi'\n",
       "\\item 'ourj'\n",
       "\\item 'ruah'\n",
       "\\item 'xegx'\n",
       "\\item 'fiaj'\n",
       "\\item 'qajt'\n",
       "\\item 'wiii'\n",
       "\\item 'hapz'\n",
       "\\item 'iool'\n",
       "\\item 'iuoc'\n",
       "\\item 'oadp'\n",
       "\\item 'oazw'\n",
       "\\item 'pews'\n",
       "\\item 'raet'\n",
       "\\item 'vebd'\n",
       "\\item 'zukb'\n",
       "\\item 'miaj'\n",
       "\\item 'paab'\n",
       "\\item 'puhk'\n",
       "\\item 'uevq'\n",
       "\\item 'voxu'\n",
       "\\item 'biln'\n",
       "\\item 'uegn'\n",
       "\\item 'keui'\n",
       "\\item 'kute'\n",
       "\\item 'nufh'\n",
       "\\item 'tosj'\n",
       "\\item 'xiry'\n",
       "\\item 'siqu'\n",
       "\\item 'oexh'\n",
       "\\item 'qehq'\n",
       "\\item 'tifo'\n",
       "\\item 'vajy'\n",
       "\\item 'vorn'\n",
       "\\item 'zipi'\n",
       "\\item 'wuye'\n",
       "\\item 'tuju'\n",
       "\\item 'geve'\n",
       "\\item 'mebq'\n",
       "\\item 'wakr'\n",
       "\\item 'wiau'\n",
       "\\item 'yiek'\n",
       "\\item 'pahc'\n",
       "\\end{enumerate*}\n"
      ],
      "text/markdown": [
       "1. 'aion'\n",
       "2. 'bimq'\n",
       "3. 'iinu'\n",
       "4. 'qaqp'\n",
       "5. 'xaka'\n",
       "6. 'feec'\n",
       "7. 'romx'\n",
       "8. 'aiid'\n",
       "9. 'dewh'\n",
       "10. 'vieg'\n",
       "11. 'xanu'\n",
       "12. 'bubh'\n",
       "13. 'cuhk'\n",
       "14. 'sojd'\n",
       "15. 'xugn'\n",
       "16. 'muwv'\n",
       "17. 'vats'\n",
       "18. 'eevy'\n",
       "19. 'oaqd'\n",
       "20. 'iooi'\n",
       "21. 'ourj'\n",
       "22. 'ruah'\n",
       "23. 'xegx'\n",
       "24. 'fiaj'\n",
       "25. 'qajt'\n",
       "26. 'wiii'\n",
       "27. 'hapz'\n",
       "28. 'iool'\n",
       "29. 'iuoc'\n",
       "30. 'oadp'\n",
       "31. 'oazw'\n",
       "32. 'pews'\n",
       "33. 'raet'\n",
       "34. 'vebd'\n",
       "35. 'zukb'\n",
       "36. 'miaj'\n",
       "37. 'paab'\n",
       "38. 'puhk'\n",
       "39. 'uevq'\n",
       "40. 'voxu'\n",
       "41. 'biln'\n",
       "42. 'uegn'\n",
       "43. 'keui'\n",
       "44. 'kute'\n",
       "45. 'nufh'\n",
       "46. 'tosj'\n",
       "47. 'xiry'\n",
       "48. 'siqu'\n",
       "49. 'oexh'\n",
       "50. 'qehq'\n",
       "51. 'tifo'\n",
       "52. 'vajy'\n",
       "53. 'vorn'\n",
       "54. 'zipi'\n",
       "55. 'wuye'\n",
       "56. 'tuju'\n",
       "57. 'geve'\n",
       "58. 'mebq'\n",
       "59. 'wakr'\n",
       "60. 'wiau'\n",
       "61. 'yiek'\n",
       "62. 'pahc'\n",
       "\n",
       "\n"
      ],
      "text/plain": [
       " [1] \"aion\" \"bimq\" \"iinu\" \"qaqp\" \"xaka\" \"feec\" \"romx\" \"aiid\" \"dewh\" \"vieg\"\n",
       "[11] \"xanu\" \"bubh\" \"cuhk\" \"sojd\" \"xugn\" \"muwv\" \"vats\" \"eevy\" \"oaqd\" \"iooi\"\n",
       "[21] \"ourj\" \"ruah\" \"xegx\" \"fiaj\" \"qajt\" \"wiii\" \"hapz\" \"iool\" \"iuoc\" \"oadp\"\n",
       "[31] \"oazw\" \"pews\" \"raet\" \"vebd\" \"zukb\" \"miaj\" \"paab\" \"puhk\" \"uevq\" \"voxu\"\n",
       "[41] \"biln\" \"uegn\" \"keui\" \"kute\" \"nufh\" \"tosj\" \"xiry\" \"siqu\" \"oexh\" \"qehq\"\n",
       "[51] \"tifo\" \"vajy\" \"vorn\" \"zipi\" \"wuye\" \"tuju\" \"geve\" \"mebq\" \"wakr\" \"wiau\"\n",
       "[61] \"yiek\" \"pahc\""
      ]
     },
     "metadata": {},
     "output_type": "display_data"
    }
   ],
   "source": [
    "unique(df_01$short_donor)"
   ]
  },
  {
   "cell_type": "code",
   "execution_count": 93,
   "metadata": {},
   "outputs": [
    {
     "name": "stderr",
     "output_type": "stream",
     "text": [
      "\n",
      "Attaching package: ‘ggthemes’\n",
      "\n",
      "The following object is masked from ‘package:cowplot’:\n",
      "\n",
      "    theme_map\n",
      "\n"
     ]
    }
   ],
   "source": [
    "library(ggthemes)\n",
    "mypalette = \"Primary colors with a vibrant twist\""
   ]
  },
  {
   "cell_type": "code",
   "execution_count": 100,
   "metadata": {},
   "outputs": [
    {
     "data": {
      "image/png": "[encoded data removed]",
      "text/plain": [
       "plot without title"
      ]
     },
     "metadata": {},
     "output_type": "display_data"
    },
    {
     "data": {
      "image/png": "[encoded data removed]",
      "text/plain": [
       "plot without title"
      ]
     },
     "metadata": {},
     "output_type": "display_data"
    }
   ],
   "source": [
    "options(repr.plot.width=7, repr.plot.height=3)\n",
    "p1 = ggplot(df0, aes(x = rep, y = UTF1, colour = rep)) + geom_boxplot(width = 0.3) + ylim(c(m_U,M_U)) + \n",
    "    scale_color_canva(palette = mypalette) + xlab(\"replicate\") + theme_bw() + theme(legend.position = \"none\") \n",
    "p2 = ggplot(df01, aes(x = rep, y = UTF1, colour = rep)) + geom_boxplot(width = 0.3) + ylim(c(m_U,M_U)) + \n",
    "    scale_color_canva(palette = mypalette) + xlab(\"replicate\") + theme_bw() + theme(legend.position = \"none\") \n",
    "p3 = ggplot(df1, aes(x = rep, y = UTF1, colour = rep)) + geom_boxplot(width = 0.3) + ylim(c(m_U,M_U)) + \n",
    "    scale_color_canva(palette = mypalette) + xlab(\"replicate\") + theme_bw() + theme(legend.position = \"none\") \n",
    "plot_grid(p1,p2,p3, ncol = 3)\n",
    "\n",
    "p1 = ggplot(df0, aes(x = rep, y = TAC3, colour = rep)) + geom_boxplot(width = 0.3) + ylim(c(m_T,M_T)) + \n",
    "    scale_color_canva(palette = mypalette) + xlab(\"replicate\") + theme_bw() + theme(legend.position = \"none\") \n",
    "p2 = ggplot(df01, aes(x = rep, y = TAC3, colour = rep)) + geom_boxplot(width = 0.3) + ylim(c(m_T,M_T)) + \n",
    "    scale_color_canva(palette = mypalette) + xlab(\"replicate\") + theme_bw() + theme(legend.position = \"none\") \n",
    "p3 = ggplot(df1, aes(x = rep, y = TAC3, colour = rep)) + geom_boxplot(width = 0.3) + ylim(c(m_T,M_T)) + \n",
    "    scale_color_canva(palette = mypalette) + xlab(\"replicate\") + theme_bw() + theme(legend.position = \"none\") \n",
    "plot_grid(p1,p2,p3, ncol = 3)"
   ]
  },
  {
   "cell_type": "code",
   "execution_count": 72,
   "metadata": {},
   "outputs": [
    {
     "data": {
      "image/png": "[encoded data removed]",
      "text/plain": [
       "plot without title"
      ]
     },
     "metadata": {},
     "output_type": "display_data"
    },
    {
     "data": {
      "image/png": "[encoded data removed]",
      "text/plain": [
       "plot without title"
      ]
     },
     "metadata": {},
     "output_type": "display_data"
    },
    {
     "data": {
      "image/png": "[encoded data removed]",
      "text/plain": [
       "plot without title"
      ]
     },
     "metadata": {},
     "output_type": "display_data"
    }
   ],
   "source": [
    "options(repr.plot.width=6, repr.plot.height=3)\n",
    "p1 = ggplot(df0, aes(x = rep, y = UTF1, colour = rep)) + geom_boxplot(width = 0.3) + ylim(c(m_U,M_U))\n",
    "p2 = ggplot(df0, aes(x = rep, y = TAC3, colour = rep)) + geom_boxplot(width = 0.3) + ylim(c(m_T,M_T))\n",
    "plot_grid(p1,p2, ncol = 2)\n",
    "\n",
    "p1 = ggplot(df01, aes(x = rep, y = UTF1, colour = rep)) + geom_boxplot(width = 0.3) + ylim(c(m_U,M_U))\n",
    "p2 = ggplot(df01, aes(x = rep, y = TAC3, colour = rep)) + geom_boxplot(width = 0.3) + ylim(c(m_T,M_T))\n",
    "plot_grid(p1,p2, ncol = 2)\n",
    "\n",
    "p1 = ggplot(df1, aes(x = rep, y = UTF1, colour = rep)) + geom_boxplot(width = 0.3) + ylim(c(m_U,M_U))\n",
    "p2 = ggplot(df1, aes(x = rep, y = TAC3, colour = rep)) + geom_boxplot(width = 0.3) + ylim(c(m_T,M_T))\n",
    "plot_grid(p1,p2, ncol = 2)"
   ]
  },
  {
   "cell_type": "code",
   "execution_count": 54,
   "metadata": {},
   "outputs": [
    {
     "name": "stderr",
     "output_type": "stream",
     "text": [
      "\n",
      "********************************************************\n",
      "Note: As of version 1.0.0, cowplot does not change the\n",
      "  default ggplot2 theme anymore. To recover the previous\n",
      "  behavior, execute:\n",
      "  theme_set(theme_cowplot())\n",
      "********************************************************\n",
      "\n"
     ]
    }
   ],
   "source": [
    "# library(dplyr)\n",
    "library(cowplot)\n",
    "# library(ggplot2)"
   ]
  },
  {
   "cell_type": "code",
   "execution_count": 35,
   "metadata": {},
   "outputs": [
    {
     "name": "stderr",
     "output_type": "stream",
     "text": [
      "Warning message:\n",
      "“Column `donor_id` joining factor and character vector, coercing into character vector”"
     ]
    },
    {
     "data": {
      "text/html": [
       "<table>\n",
       "<thead><tr><th scope=col>donor_id</th><th scope=col>diff_efficiency</th><th scope=col>model_score</th><th scope=col>short_donor</th><th scope=col>UTF1</th><th scope=col>TAC3</th></tr></thead>\n",
       "<tbody>\n",
       "\t<tr><td>HPSI0114i-bezi_1</td><td>not_assessed    </td><td>0.96380960      </td><td>bezi            </td><td>4.702476        </td><td>5.564156        </td></tr>\n",
       "\t<tr><td>HPSI0114i-bezi_3</td><td>succeeded       </td><td>0.98836915      </td><td>bezi            </td><td>2.979417        </td><td>5.493768        </td></tr>\n",
       "\t<tr><td>HPSI0114i-eipl_1</td><td>failed          </td><td>0.01549609      </td><td>eipl            </td><td>8.503246        </td><td>3.347745        </td></tr>\n",
       "\t<tr><td>HPSI0114i-eipl_3</td><td>not_assessed    </td><td>0.00705412      </td><td>eipl            </td><td>8.949141        </td><td>4.493165        </td></tr>\n",
       "\t<tr><td>HPSI0114i-fikt_3</td><td>succeeded       </td><td>0.97993957      </td><td>fikt            </td><td>4.679852        </td><td>5.328349        </td></tr>\n",
       "\t<tr><td>HPSI0114i-iisa_1</td><td>not_assessed    </td><td>0.73531860      </td><td>iisa            </td><td>4.883805        </td><td>5.763036        </td></tr>\n",
       "</tbody>\n",
       "</table>\n"
      ],
      "text/latex": [
       "\\begin{tabular}{r|llllll}\n",
       " donor\\_id & diff\\_efficiency & model\\_score & short\\_donor & UTF1 & TAC3\\\\\n",
       "\\hline\n",
       "\t HPSI0114i-bezi\\_1 & not\\_assessed     & 0.96380960         & bezi               & 4.702476           & 5.564156          \\\\\n",
       "\t HPSI0114i-bezi\\_3 & succeeded          & 0.98836915         & bezi               & 2.979417           & 5.493768          \\\\\n",
       "\t HPSI0114i-eipl\\_1 & failed             & 0.01549609         & eipl               & 8.503246           & 3.347745          \\\\\n",
       "\t HPSI0114i-eipl\\_3 & not\\_assessed     & 0.00705412         & eipl               & 8.949141           & 4.493165          \\\\\n",
       "\t HPSI0114i-fikt\\_3 & succeeded          & 0.97993957         & fikt               & 4.679852           & 5.328349          \\\\\n",
       "\t HPSI0114i-iisa\\_1 & not\\_assessed     & 0.73531860         & iisa               & 4.883805           & 5.763036          \\\\\n",
       "\\end{tabular}\n"
      ],
      "text/markdown": [
       "\n",
       "| donor_id | diff_efficiency | model_score | short_donor | UTF1 | TAC3 |\n",
       "|---|---|---|---|---|---|\n",
       "| HPSI0114i-bezi_1 | not_assessed     | 0.96380960       | bezi             | 4.702476         | 5.564156         |\n",
       "| HPSI0114i-bezi_3 | succeeded        | 0.98836915       | bezi             | 2.979417         | 5.493768         |\n",
       "| HPSI0114i-eipl_1 | failed           | 0.01549609       | eipl             | 8.503246         | 3.347745         |\n",
       "| HPSI0114i-eipl_3 | not_assessed     | 0.00705412       | eipl             | 8.949141         | 4.493165         |\n",
       "| HPSI0114i-fikt_3 | succeeded        | 0.97993957       | fikt             | 4.679852         | 5.328349         |\n",
       "| HPSI0114i-iisa_1 | not_assessed     | 0.73531860       | iisa             | 4.883805         | 5.763036         |\n",
       "\n"
      ],
      "text/plain": [
       "  donor_id         diff_efficiency model_score short_donor UTF1     TAC3    \n",
       "1 HPSI0114i-bezi_1 not_assessed    0.96380960  bezi        4.702476 5.564156\n",
       "2 HPSI0114i-bezi_3 succeeded       0.98836915  bezi        2.979417 5.493768\n",
       "3 HPSI0114i-eipl_1 failed          0.01549609  eipl        8.503246 3.347745\n",
       "4 HPSI0114i-eipl_3 not_assessed    0.00705412  eipl        8.949141 4.493165\n",
       "5 HPSI0114i-fikt_3 succeeded       0.97993957  fikt        4.679852 5.328349\n",
       "6 HPSI0114i-iisa_1 not_assessed    0.73531860  iisa        4.883805 5.763036"
      ]
     },
     "metadata": {},
     "output_type": "display_data"
    }
   ],
   "source": [
    "df0 = inner_join(df, bulk_df, by = \"donor_id\")\n",
    "head(df0)"
   ]
  },
  {
   "cell_type": "code",
   "execution_count": 42,
   "metadata": {},
   "outputs": [
    {
     "data": {
      "image/png": "[encoded data removed]",
      "text/plain": [
       "plot without title"
      ]
     },
     "metadata": {},
     "output_type": "display_data"
    },
    {
     "data": {
      "image/png": "[encoded data removed]",
      "text/plain": [
       "plot without title"
      ]
     },
     "metadata": {},
     "output_type": "display_data"
    }
   ],
   "source": [
    "options(repr.plot.width=5, repr.plot.height=3)\n",
    "ggplot(df0, aes(x = diff_efficiency, y = UTF1, colour = diff_efficiency)) + geom_boxplot()\n",
    "ggplot(df0, aes(x = diff_efficiency, y = TAC3, colour = diff_efficiency)) + geom_boxplot()"
   ]
  },
  {
   "cell_type": "code",
   "execution_count": 37,
   "metadata": {},
   "outputs": [
    {
     "data": {
      "image/png": "[encoded data removed]",
      "text/plain": [
       "plot without title"
      ]
     },
     "metadata": {},
     "output_type": "display_data"
    },
    {
     "data": {
      "image/png": "[encoded data removed]",
      "text/plain": [
       "plot without title"
      ]
     },
     "metadata": {},
     "output_type": "display_data"
    }
   ],
   "source": [
    "ggplot(df0, aes(x = model_score>0.5, y = UTF1, colour = model_score>0.5)) + geom_boxplot()\n",
    "ggplot(df0, aes(x = model_score>0.5, y = TAC3, colour = model_score>0.5)) + geom_boxplot()"
   ]
  },
  {
   "cell_type": "code",
   "execution_count": null,
   "metadata": {},
   "outputs": [],
   "source": []
  },
  {
   "cell_type": "code",
   "execution_count": 36,
   "metadata": {},
   "outputs": [
    {
     "data": {
      "text/html": [
       "<table>\n",
       "<thead><tr><th scope=col>donor_id</th><th scope=col>diff_efficiency</th><th scope=col>model_score</th><th scope=col>short_donor</th><th scope=col>donor_diff_results</th></tr></thead>\n",
       "<tbody>\n",
       "\t<tr><td>HPSI0114i-bezi_1</td><td>not_assessed    </td><td>0.96380960      </td><td>bezi            </td><td>concordant_1    </td></tr>\n",
       "\t<tr><td>HPSI0114i-bezi_3</td><td>succeeded       </td><td>0.98836915      </td><td>bezi            </td><td>concordant_1    </td></tr>\n",
       "\t<tr><td>HPSI0114i-eipl_1</td><td>failed          </td><td>0.01549609      </td><td>eipl            </td><td>concordant_0    </td></tr>\n",
       "\t<tr><td>HPSI0114i-eipl_3</td><td>not_assessed    </td><td>0.00705412      </td><td>eipl            </td><td>concordant_0    </td></tr>\n",
       "\t<tr><td>HPSI0114i-fikt_3</td><td>succeeded       </td><td>0.97993957      </td><td>fikt            </td><td>one_line_only   </td></tr>\n",
       "\t<tr><td>HPSI0114i-iisa_1</td><td>not_assessed    </td><td>0.73531860      </td><td>iisa            </td><td>concordant_1    </td></tr>\n",
       "</tbody>\n",
       "</table>\n"
      ],
      "text/latex": [
       "\\begin{tabular}{r|lllll}\n",
       " donor\\_id & diff\\_efficiency & model\\_score & short\\_donor & donor\\_diff\\_results\\\\\n",
       "\\hline\n",
       "\t HPSI0114i-bezi\\_1 & not\\_assessed     & 0.96380960         & bezi               & concordant\\_1    \\\\\n",
       "\t HPSI0114i-bezi\\_3 & succeeded          & 0.98836915         & bezi               & concordant\\_1    \\\\\n",
       "\t HPSI0114i-eipl\\_1 & failed             & 0.01549609         & eipl               & concordant\\_0    \\\\\n",
       "\t HPSI0114i-eipl\\_3 & not\\_assessed     & 0.00705412         & eipl               & concordant\\_0    \\\\\n",
       "\t HPSI0114i-fikt\\_3 & succeeded          & 0.97993957         & fikt               & one\\_line\\_only \\\\\n",
       "\t HPSI0114i-iisa\\_1 & not\\_assessed     & 0.73531860         & iisa               & concordant\\_1    \\\\\n",
       "\\end{tabular}\n"
      ],
      "text/markdown": [
       "\n",
       "| donor_id | diff_efficiency | model_score | short_donor | donor_diff_results |\n",
       "|---|---|---|---|---|\n",
       "| HPSI0114i-bezi_1 | not_assessed     | 0.96380960       | bezi             | concordant_1     |\n",
       "| HPSI0114i-bezi_3 | succeeded        | 0.98836915       | bezi             | concordant_1     |\n",
       "| HPSI0114i-eipl_1 | failed           | 0.01549609       | eipl             | concordant_0     |\n",
       "| HPSI0114i-eipl_3 | not_assessed     | 0.00705412       | eipl             | concordant_0     |\n",
       "| HPSI0114i-fikt_3 | succeeded        | 0.97993957       | fikt             | one_line_only    |\n",
       "| HPSI0114i-iisa_1 | not_assessed     | 0.73531860       | iisa             | concordant_1     |\n",
       "\n"
      ],
      "text/plain": [
       "  donor_id         diff_efficiency model_score short_donor donor_diff_results\n",
       "1 HPSI0114i-bezi_1 not_assessed    0.96380960  bezi        concordant_1      \n",
       "2 HPSI0114i-bezi_3 succeeded       0.98836915  bezi        concordant_1      \n",
       "3 HPSI0114i-eipl_1 failed          0.01549609  eipl        concordant_0      \n",
       "4 HPSI0114i-eipl_3 not_assessed    0.00705412  eipl        concordant_0      \n",
       "5 HPSI0114i-fikt_3 succeeded       0.97993957  fikt        one_line_only     \n",
       "6 HPSI0114i-iisa_1 not_assessed    0.73531860  iisa        concordant_1      "
      ]
     },
     "metadata": {},
     "output_type": "display_data"
    }
   ],
   "source": [
    "df = read.csv(\"/hps/nobackup/stegle/users/acuomo/all_scripts/sc_neuroseq/diff_efficiency/predicted_diff_efficiency_hipsci_lines_including_concordant_discordant_info.csv\")\n",
    "head(df)"
   ]
  },
  {
   "cell_type": "code",
   "execution_count": 37,
   "metadata": {},
   "outputs": [
    {
     "data": {
      "text/html": [
       "0.161330049261084"
      ],
      "text/latex": [
       "0.161330049261084"
      ],
      "text/markdown": [
       "0.161330049261084"
      ],
      "text/plain": [
       "[1] 0.16133"
      ]
     },
     "metadata": {},
     "output_type": "display_data"
    }
   ],
   "source": [
    "nrow(df[df$model_score < 0.2,])/nrow(df)"
   ]
  },
  {
   "cell_type": "code",
   "execution_count": 38,
   "metadata": {},
   "outputs": [
    {
     "name": "stderr",
     "output_type": "stream",
     "text": [
      "Warning message in chisq.test(x = c(183, 62, 25), y = c(0.7, 0.27, 0.03)):\n",
      "“Chi-squared approximation may be incorrect”"
     ]
    },
    {
     "data": {
      "text/plain": [
       "\n",
       "\tPearson's Chi-squared test\n",
       "\n",
       "data:  c(183, 62, 25) and c(0.7, 0.27, 0.03)\n",
       "X-squared = 6, df = 4, p-value = 0.1991\n"
      ]
     },
     "metadata": {},
     "output_type": "display_data"
    }
   ],
   "source": [
    "chisq.test(x = c(183,62,25), y = c(0.7,0.27,0.03))"
   ]
  },
  {
   "cell_type": "code",
   "execution_count": 39,
   "metadata": {},
   "outputs": [
    {
     "data": {
      "text/html": [
       "543"
      ],
      "text/latex": [
       "543"
      ],
      "text/markdown": [
       "543"
      ],
      "text/plain": [
       "[1] 543"
      ]
     },
     "metadata": {},
     "output_type": "display_data"
    }
   ],
   "source": [
    "df0 = df[df$donor_diff_results != \"one_line_only\",]\n",
    "nrow(df0)"
   ]
  },
  {
   "cell_type": "code",
   "execution_count": 40,
   "metadata": {},
   "outputs": [
    {
     "data": {
      "text/html": [
       "269"
      ],
      "text/latex": [
       "269"
      ],
      "text/markdown": [
       "269"
      ],
      "text/plain": [
       "[1] 269"
      ]
     },
     "metadata": {},
     "output_type": "display_data"
    }
   ],
   "source": [
    "df1 = df[df$donor_diff_results == \"one_line_only\",]\n",
    "nrow(df1)"
   ]
  },
  {
   "cell_type": "code",
   "execution_count": 41,
   "metadata": {},
   "outputs": [
    {
     "data": {
      "text/html": [
       "0.152416356877323"
      ],
      "text/latex": [
       "0.152416356877323"
      ],
      "text/markdown": [
       "0.152416356877323"
      ],
      "text/plain": [
       "[1] 0.1524164"
      ]
     },
     "metadata": {},
     "output_type": "display_data"
    }
   ],
   "source": [
    "nrow(df1[df1$model_score < 0.2,])/nrow(df1)"
   ]
  },
  {
   "cell_type": "code",
   "execution_count": 42,
   "metadata": {},
   "outputs": [
    {
     "name": "stderr",
     "output_type": "stream",
     "text": [
      "Warning message in chisq.test(x = c(183, 62, 25), y = c(0.72, 0.17, 0.023)):\n",
      "“Chi-squared approximation may be incorrect”"
     ]
    },
    {
     "data": {
      "text/plain": [
       "\n",
       "\tPearson's Chi-squared test\n",
       "\n",
       "data:  c(183, 62, 25) and c(0.72, 0.17, 0.023)\n",
       "X-squared = 6, df = 4, p-value = 0.1991\n"
      ]
     },
     "metadata": {},
     "output_type": "display_data"
    }
   ],
   "source": [
    "chisq.test(x = c(183,62,25), y = c(0.72,0.17,0.023))"
   ]
  },
  {
   "cell_type": "code",
   "execution_count": null,
   "metadata": {},
   "outputs": [],
   "source": []
  },
  {
   "cell_type": "code",
   "execution_count": null,
   "metadata": {},
   "outputs": [],
   "source": []
  },
  {
   "cell_type": "code",
   "execution_count": 4,
   "metadata": {},
   "outputs": [],
   "source": [
    "?fisher.test"
   ]
  },
  {
   "cell_type": "code",
   "execution_count": 6,
   "metadata": {},
   "outputs": [
    {
     "data": {
      "text/html": [
       "<table>\n",
       "<tbody>\n",
       "\t<tr><td>14</td><td>0 </td></tr>\n",
       "\t<tr><td> 1</td><td>1 </td></tr>\n",
       "</tbody>\n",
       "</table>\n"
      ],
      "text/latex": [
       "\\begin{tabular}{ll}\n",
       "\t 14 & 0 \\\\\n",
       "\t  1 & 1 \\\\\n",
       "\\end{tabular}\n"
      ],
      "text/markdown": [
       "\n",
       "| 14 | 0  |\n",
       "|  1 | 1  |\n",
       "\n"
      ],
      "text/plain": [
       "     [,1] [,2]\n",
       "[1,] 14   0   \n",
       "[2,]  1   1   "
      ]
     },
     "metadata": {},
     "output_type": "display_data"
    }
   ],
   "source": [
    "x = matrix(c(14,1,0,1),nrow=2)\n",
    "x"
   ]
  },
  {
   "cell_type": "code",
   "execution_count": 9,
   "metadata": {},
   "outputs": [
    {
     "data": {
      "text/plain": [
       "\n",
       "\tFisher's Exact Test for Count Data\n",
       "\n",
       "data:  x\n",
       "p-value = 1\n",
       "alternative hypothesis: true odds ratio is less than 1\n",
       "95 percent confidence interval:\n",
       "   0 Inf\n",
       "sample estimates:\n",
       "odds ratio \n",
       "       Inf \n"
      ]
     },
     "metadata": {},
     "output_type": "display_data"
    }
   ],
   "source": [
    "fisher.test(x, alternative=\"less\")"
   ]
  },
  {
   "cell_type": "code",
   "execution_count": null,
   "metadata": {},
   "outputs": [],
   "source": []
  }
 ],
 "metadata": {
  "kernelspec": {
   "display_name": "R",
   "language": "R",
   "name": "ir"
  },
  "language_info": {
   "codemirror_mode": "r",
   "file_extension": ".r",
   "mimetype": "text/x-r-source",
   "name": "R",
   "pygments_lexer": "r",
   "version": "3.6.1"
  }
 },
 "nbformat": 4,
 "nbformat_minor": 4
}
