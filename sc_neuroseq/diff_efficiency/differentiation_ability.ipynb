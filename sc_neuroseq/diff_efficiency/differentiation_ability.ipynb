{
 "cells": [
  {
   "cell_type": "code",
   "execution_count": 1,
   "metadata": {},
   "outputs": [],
   "source": [
    "# file = '/nfs/leia/research/stegle/dseaton/hipsci/singlecell_neuroseq/data/data_processed/pool1_17_D52/pool1_17_D52.scanpy.w_metadata.w_celltype.scanpy.obs_df.groupedby.donor_id-pool_id-time_point.diff_efficiency_by_cell_line.tsv'\n",
    "file = '/hps/nobackup/stegle/users/acuomo/all_scripts/sc_neuroseq/diff_efficiency_by_cell_line.tsv'\n",
    "diff_df = read.csv(file, sep='\\t')"
   ]
  },
  {
   "cell_type": "code",
   "execution_count": 2,
   "metadata": {},
   "outputs": [
    {
     "data": {
      "text/html": [
       "<table>\n",
       "<thead><tr><th scope=col>donor_id</th><th scope=col>diff_efficiency</th></tr></thead>\n",
       "<tbody>\n",
       "\t<tr><td>HPSI0114i-bezi_3</td><td>0.58269720      </td></tr>\n",
       "\t<tr><td>HPSI0114i-eipl_1</td><td>0.01287835      </td></tr>\n",
       "\t<tr><td>HPSI0114i-fikt_3</td><td>0.40282686      </td></tr>\n",
       "\t<tr><td>HPSI0114i-kolf_2</td><td>0.47059133      </td></tr>\n",
       "\t<tr><td>HPSI0114i-lexy_2</td><td>0.72690535      </td></tr>\n",
       "\t<tr><td>HPSI0114i-posc_1</td><td>0.81349206      </td></tr>\n",
       "</tbody>\n",
       "</table>\n"
      ],
      "text/latex": [
       "\\begin{tabular}{r|ll}\n",
       " donor\\_id & diff\\_efficiency\\\\\n",
       "\\hline\n",
       "\t HPSI0114i-bezi\\_3 & 0.58269720        \\\\\n",
       "\t HPSI0114i-eipl\\_1 & 0.01287835        \\\\\n",
       "\t HPSI0114i-fikt\\_3 & 0.40282686        \\\\\n",
       "\t HPSI0114i-kolf\\_2 & 0.47059133        \\\\\n",
       "\t HPSI0114i-lexy\\_2 & 0.72690535        \\\\\n",
       "\t HPSI0114i-posc\\_1 & 0.81349206        \\\\\n",
       "\\end{tabular}\n"
      ],
      "text/markdown": [
       "\n",
       "| donor_id | diff_efficiency |\n",
       "|---|---|\n",
       "| HPSI0114i-bezi_3 | 0.58269720       |\n",
       "| HPSI0114i-eipl_1 | 0.01287835       |\n",
       "| HPSI0114i-fikt_3 | 0.40282686       |\n",
       "| HPSI0114i-kolf_2 | 0.47059133       |\n",
       "| HPSI0114i-lexy_2 | 0.72690535       |\n",
       "| HPSI0114i-posc_1 | 0.81349206       |\n",
       "\n"
      ],
      "text/plain": [
       "  donor_id         diff_efficiency\n",
       "1 HPSI0114i-bezi_3 0.58269720     \n",
       "2 HPSI0114i-eipl_1 0.01287835     \n",
       "3 HPSI0114i-fikt_3 0.40282686     \n",
       "4 HPSI0114i-kolf_2 0.47059133     \n",
       "5 HPSI0114i-lexy_2 0.72690535     \n",
       "6 HPSI0114i-posc_1 0.81349206     "
      ]
     },
     "metadata": {},
     "output_type": "display_data"
    }
   ],
   "source": [
    "head(diff_df)"
   ]
  },
  {
   "cell_type": "code",
   "execution_count": 11,
   "metadata": {},
   "outputs": [
    {
     "data": {
      "text/html": [
       "<table>\n",
       "<thead><tr><th scope=col>donor_id</th><th scope=col>diff_efficiency</th><th scope=col>donor_short_id</th><th scope=col>dopa.success</th></tr></thead>\n",
       "<tbody>\n",
       "\t<tr><td>HPSI0114i-bezi_3</td><td>0.58269720      </td><td>bezi_3          </td><td> TRUE           </td></tr>\n",
       "\t<tr><td>HPSI0114i-eipl_1</td><td>0.01287835      </td><td>eipl_1          </td><td>FALSE           </td></tr>\n",
       "\t<tr><td>HPSI0114i-fikt_3</td><td>0.40282686      </td><td>fikt_3          </td><td> TRUE           </td></tr>\n",
       "\t<tr><td>HPSI0114i-kolf_2</td><td>0.47059133      </td><td>kolf_2          </td><td> TRUE           </td></tr>\n",
       "\t<tr><td>HPSI0114i-lexy_2</td><td>0.72690535      </td><td>lexy_2          </td><td> TRUE           </td></tr>\n",
       "\t<tr><td>HPSI0114i-posc_1</td><td>0.81349206      </td><td>posc_1          </td><td> TRUE           </td></tr>\n",
       "</tbody>\n",
       "</table>\n"
      ],
      "text/latex": [
       "\\begin{tabular}{r|llll}\n",
       " donor\\_id & diff\\_efficiency & donor\\_short\\_id & dopa.success\\\\\n",
       "\\hline\n",
       "\t HPSI0114i-bezi\\_3 & 0.58269720         & bezi\\_3           &  TRUE             \\\\\n",
       "\t HPSI0114i-eipl\\_1 & 0.01287835         & eipl\\_1           & FALSE             \\\\\n",
       "\t HPSI0114i-fikt\\_3 & 0.40282686         & fikt\\_3           &  TRUE             \\\\\n",
       "\t HPSI0114i-kolf\\_2 & 0.47059133         & kolf\\_2           &  TRUE             \\\\\n",
       "\t HPSI0114i-lexy\\_2 & 0.72690535         & lexy\\_2           &  TRUE             \\\\\n",
       "\t HPSI0114i-posc\\_1 & 0.81349206         & posc\\_1           &  TRUE             \\\\\n",
       "\\end{tabular}\n"
      ],
      "text/markdown": [
       "\n",
       "| donor_id | diff_efficiency | donor_short_id | dopa.success |\n",
       "|---|---|---|---|\n",
       "| HPSI0114i-bezi_3 | 0.58269720       | bezi_3           |  TRUE            |\n",
       "| HPSI0114i-eipl_1 | 0.01287835       | eipl_1           | FALSE            |\n",
       "| HPSI0114i-fikt_3 | 0.40282686       | fikt_3           |  TRUE            |\n",
       "| HPSI0114i-kolf_2 | 0.47059133       | kolf_2           |  TRUE            |\n",
       "| HPSI0114i-lexy_2 | 0.72690535       | lexy_2           |  TRUE            |\n",
       "| HPSI0114i-posc_1 | 0.81349206       | posc_1           |  TRUE            |\n",
       "\n"
      ],
      "text/plain": [
       "  donor_id         diff_efficiency donor_short_id dopa.success\n",
       "1 HPSI0114i-bezi_3 0.58269720      bezi_3          TRUE       \n",
       "2 HPSI0114i-eipl_1 0.01287835      eipl_1         FALSE       \n",
       "3 HPSI0114i-fikt_3 0.40282686      fikt_3          TRUE       \n",
       "4 HPSI0114i-kolf_2 0.47059133      kolf_2          TRUE       \n",
       "5 HPSI0114i-lexy_2 0.72690535      lexy_2          TRUE       \n",
       "6 HPSI0114i-posc_1 0.81349206      posc_1          TRUE       "
      ]
     },
     "metadata": {},
     "output_type": "display_data"
    }
   ],
   "source": [
    "df0 = diff_df\n",
    "df0$donor_short_id = gsub(\".*-\",\"\",df0$donor_id)\n",
    "df0$dopa.success = (df0$diff_efficiency > 0.2)\n",
    "head(df0)"
   ]
  },
  {
   "cell_type": "code",
   "execution_count": 3,
   "metadata": {},
   "outputs": [],
   "source": [
    "file = \"/hps/nobackup/stegle/users/acuomo/all_scripts/sc_neuroseq/diff_efficiency/HIPSCI differentiation outcomes - Sheet1.csv\""
   ]
  },
  {
   "cell_type": "code",
   "execution_count": 12,
   "metadata": {},
   "outputs": [
    {
     "data": {
      "text/html": [
       "<table>\n",
       "<thead><tr><th></th><th scope=col>tried.mac</th><th scope=col>tried.neuro</th><th scope=col>retry.in.mac</th><th scope=col>mac.rep.1.success</th><th scope=col>mac.rep2.success</th><th scope=col>neuro.success</th><th scope=col>Tried.endo</th><th scope=col>endo.success</th><th scope=col>Comment</th><th scope=col>donor_short_id</th></tr></thead>\n",
       "<tbody>\n",
       "\t<tr><th scope=row>aipt_2</th><td>TRUE  </td><td>FALSE </td><td>FALSE </td><td> TRUE </td><td>NA    </td><td>NA    </td><td>  NA  </td><td>      </td><td>      </td><td>aipt_2</td></tr>\n",
       "\t<tr><th scope=row>airc_2</th><td>TRUE  </td><td>FALSE </td><td>FALSE </td><td>FALSE </td><td>NA    </td><td>NA    </td><td>  NA  </td><td>      </td><td>      </td><td>airc_2</td></tr>\n",
       "\t<tr><th scope=row>auim_2</th><td>TRUE  </td><td>FALSE </td><td>FALSE </td><td> TRUE </td><td>NA    </td><td>NA    </td><td>  NA  </td><td>      </td><td>      </td><td>auim_2</td></tr>\n",
       "\t<tr><th scope=row>babk_2</th><td>TRUE  </td><td>FALSE </td><td>FALSE </td><td> TRUE </td><td>NA    </td><td>NA    </td><td>  NA  </td><td>      </td><td>      </td><td>babk_2</td></tr>\n",
       "\t<tr><th scope=row>bima_1</th><td>TRUE  </td><td>FALSE </td><td>FALSE </td><td> TRUE </td><td>NA    </td><td>NA    </td><td>TRUE  </td><td>TRUE  </td><td>      </td><td>bima_1</td></tr>\n",
       "\t<tr><th scope=row>cehw_3</th><td>TRUE  </td><td>FALSE </td><td>FALSE </td><td> TRUE </td><td>NA    </td><td>NA    </td><td>  NA  </td><td>      </td><td>      </td><td>cehw_3</td></tr>\n",
       "</tbody>\n",
       "</table>\n"
      ],
      "text/latex": [
       "\\begin{tabular}{r|llllllllll}\n",
       "  & tried.mac & tried.neuro & retry.in.mac & mac.rep.1.success & mac.rep2.success & neuro.success & Tried.endo & endo.success & Comment & donor\\_short\\_id\\\\\n",
       "\\hline\n",
       "\taipt\\_2 & TRUE     & FALSE    & FALSE    &  TRUE    & NA       & NA       &   NA     &          &          & aipt\\_2\\\\\n",
       "\tairc\\_2 & TRUE     & FALSE    & FALSE    & FALSE    & NA       & NA       &   NA     &          &          & airc\\_2\\\\\n",
       "\tauim\\_2 & TRUE     & FALSE    & FALSE    &  TRUE    & NA       & NA       &   NA     &          &          & auim\\_2\\\\\n",
       "\tbabk\\_2 & TRUE     & FALSE    & FALSE    &  TRUE    & NA       & NA       &   NA     &          &          & babk\\_2\\\\\n",
       "\tbima\\_1 & TRUE     & FALSE    & FALSE    &  TRUE    & NA       & NA       & TRUE     & TRUE     &          & bima\\_1\\\\\n",
       "\tcehw\\_3 & TRUE     & FALSE    & FALSE    &  TRUE    & NA       & NA       &   NA     &          &          & cehw\\_3\\\\\n",
       "\\end{tabular}\n"
      ],
      "text/markdown": [
       "\n",
       "| <!--/--> | tried.mac | tried.neuro | retry.in.mac | mac.rep.1.success | mac.rep2.success | neuro.success | Tried.endo | endo.success | Comment | donor_short_id |\n",
       "|---|---|---|---|---|---|---|---|---|---|---|\n",
       "| aipt_2 | TRUE   | FALSE  | FALSE  |  TRUE  | NA     | NA     |   NA   |        |        | aipt_2 |\n",
       "| airc_2 | TRUE   | FALSE  | FALSE  | FALSE  | NA     | NA     |   NA   |        |        | airc_2 |\n",
       "| auim_2 | TRUE   | FALSE  | FALSE  |  TRUE  | NA     | NA     |   NA   |        |        | auim_2 |\n",
       "| babk_2 | TRUE   | FALSE  | FALSE  |  TRUE  | NA     | NA     |   NA   |        |        | babk_2 |\n",
       "| bima_1 | TRUE   | FALSE  | FALSE  |  TRUE  | NA     | NA     | TRUE   | TRUE   |        | bima_1 |\n",
       "| cehw_3 | TRUE   | FALSE  | FALSE  |  TRUE  | NA     | NA     |   NA   |        |        | cehw_3 |\n",
       "\n"
      ],
      "text/plain": [
       "       tried.mac tried.neuro retry.in.mac mac.rep.1.success mac.rep2.success\n",
       "aipt_2 TRUE      FALSE       FALSE         TRUE             NA              \n",
       "airc_2 TRUE      FALSE       FALSE        FALSE             NA              \n",
       "auim_2 TRUE      FALSE       FALSE         TRUE             NA              \n",
       "babk_2 TRUE      FALSE       FALSE         TRUE             NA              \n",
       "bima_1 TRUE      FALSE       FALSE         TRUE             NA              \n",
       "cehw_3 TRUE      FALSE       FALSE         TRUE             NA              \n",
       "       neuro.success Tried.endo endo.success Comment donor_short_id\n",
       "aipt_2 NA              NA                            aipt_2        \n",
       "airc_2 NA              NA                            airc_2        \n",
       "auim_2 NA              NA                            auim_2        \n",
       "babk_2 NA              NA                            babk_2        \n",
       "bima_1 NA            TRUE       TRUE                 bima_1        \n",
       "cehw_3 NA              NA                            cehw_3        "
      ]
     },
     "metadata": {},
     "output_type": "display_data"
    }
   ],
   "source": [
    "df1 = read.csv(file, row.names = 1)\n",
    "df1$donor_short_id = rownames(df1)\n",
    "head(df1)"
   ]
  },
  {
   "cell_type": "code",
   "execution_count": 17,
   "metadata": {},
   "outputs": [
    {
     "name": "stderr",
     "output_type": "stream",
     "text": [
      "Joining, by = \"donor_short_id\"\n"
     ]
    },
    {
     "data": {
      "text/html": [
       "199"
      ],
      "text/latex": [
       "199"
      ],
      "text/markdown": [
       "199"
      ],
      "text/plain": [
       "[1] 199"
      ]
     },
     "metadata": {},
     "output_type": "display_data"
    }
   ],
   "source": [
    "# library(dplyr)\n",
    "df = left_join(df0,df1)\n",
    "nrow(df)"
   ]
  },
  {
   "cell_type": "code",
   "execution_count": 24,
   "metadata": {},
   "outputs": [
    {
     "data": {
      "text/html": [
       "<table>\n",
       "<thead><tr><th scope=col>donor_id</th><th scope=col>diff_efficiency</th><th scope=col>donor_short_id</th><th scope=col>dopa.success</th><th scope=col>tried.mac</th><th scope=col>tried.neuro</th><th scope=col>retry.in.mac</th><th scope=col>mac.rep.1.success</th><th scope=col>mac.rep2.success</th><th scope=col>neuro.success</th><th scope=col>Tried.endo</th><th scope=col>endo.success</th><th scope=col>Comment</th></tr></thead>\n",
       "<tbody>\n",
       "\t<tr><td>HPSI0114i-bezi_3</td><td>0.58269720      </td><td>bezi_3          </td><td> TRUE           </td><td>  NA            </td><td>  NA            </td><td>   NA           </td><td>  NA            </td><td>NA              </td><td>  NA            </td><td>  NA            </td><td>NA              </td><td>NA              </td></tr>\n",
       "\t<tr><td>HPSI0114i-eipl_1</td><td>0.01287835      </td><td>eipl_1          </td><td>FALSE           </td><td>TRUE            </td><td>TRUE            </td><td>FALSE           </td><td>TRUE            </td><td>NA              </td><td>TRUE            </td><td>TRUE            </td><td>TRUE            </td><td>                </td></tr>\n",
       "</tbody>\n",
       "</table>\n"
      ],
      "text/latex": [
       "\\begin{tabular}{r|lllllllllllll}\n",
       " donor\\_id & diff\\_efficiency & donor\\_short\\_id & dopa.success & tried.mac & tried.neuro & retry.in.mac & mac.rep.1.success & mac.rep2.success & neuro.success & Tried.endo & endo.success & Comment\\\\\n",
       "\\hline\n",
       "\t HPSI0114i-bezi\\_3 & 0.58269720         & bezi\\_3           &  TRUE              &   NA               &   NA               &    NA              &   NA               & NA                 &   NA               &   NA               & NA                 & NA                \\\\\n",
       "\t HPSI0114i-eipl\\_1 & 0.01287835         & eipl\\_1           & FALSE              & TRUE               & TRUE               & FALSE              & TRUE               & NA                 & TRUE               & TRUE               & TRUE               &                   \\\\\n",
       "\\end{tabular}\n"
      ],
      "text/markdown": [
       "\n",
       "| donor_id | diff_efficiency | donor_short_id | dopa.success | tried.mac | tried.neuro | retry.in.mac | mac.rep.1.success | mac.rep2.success | neuro.success | Tried.endo | endo.success | Comment |\n",
       "|---|---|---|---|---|---|---|---|---|---|---|---|---|\n",
       "| HPSI0114i-bezi_3 | 0.58269720       | bezi_3           |  TRUE            |   NA             |   NA             |    NA            |   NA             | NA               |   NA             |   NA             | NA               | NA               |\n",
       "| HPSI0114i-eipl_1 | 0.01287835       | eipl_1           | FALSE            | TRUE             | TRUE             | FALSE            | TRUE             | NA               | TRUE             | TRUE             | TRUE             |                  |\n",
       "\n"
      ],
      "text/plain": [
       "  donor_id         diff_efficiency donor_short_id dopa.success tried.mac\n",
       "1 HPSI0114i-bezi_3 0.58269720      bezi_3          TRUE          NA     \n",
       "2 HPSI0114i-eipl_1 0.01287835      eipl_1         FALSE        TRUE     \n",
       "  tried.neuro retry.in.mac mac.rep.1.success mac.rep2.success neuro.success\n",
       "1   NA           NA          NA              NA                 NA         \n",
       "2 TRUE        FALSE        TRUE              NA               TRUE         \n",
       "  Tried.endo endo.success Comment\n",
       "1   NA       NA           NA     \n",
       "2 TRUE       TRUE                "
      ]
     },
     "metadata": {},
     "output_type": "display_data"
    }
   ],
   "source": [
    "head(df,2)"
   ]
  },
  {
   "cell_type": "code",
   "execution_count": 35,
   "metadata": {},
   "outputs": [
    {
     "data": {
      "text/html": [
       "<ol class=list-inline>\n",
       "\t<li>&lt;NA&gt;</li>\n",
       "\t<li>TRUE</li>\n",
       "</ol>\n"
      ],
      "text/latex": [
       "\\begin{enumerate*}\n",
       "\\item <NA>\n",
       "\\item TRUE\n",
       "\\end{enumerate*}\n"
      ],
      "text/markdown": [
       "1. &lt;NA&gt;\n",
       "2. TRUE\n",
       "\n",
       "\n"
      ],
      "text/plain": [
       "[1]   NA TRUE"
      ]
     },
     "metadata": {},
     "output_type": "display_data"
    },
    {
     "data": {
      "text/html": [
       "<ol class=list-inline>\n",
       "\t<li>&lt;NA&gt;</li>\n",
       "\t<li>TRUE</li>\n",
       "\t<li>FALSE</li>\n",
       "</ol>\n"
      ],
      "text/latex": [
       "\\begin{enumerate*}\n",
       "\\item <NA>\n",
       "\\item TRUE\n",
       "\\item FALSE\n",
       "\\end{enumerate*}\n"
      ],
      "text/markdown": [
       "1. &lt;NA&gt;\n",
       "2. TRUE\n",
       "3. FALSE\n",
       "\n",
       "\n"
      ],
      "text/plain": [
       "[1]    NA  TRUE FALSE"
      ]
     },
     "metadata": {},
     "output_type": "display_data"
    },
    {
     "data": {
      "text/html": [
       "&lt;NA&gt;"
      ],
      "text/latex": [
       "<NA>"
      ],
      "text/markdown": [
       "&lt;NA&gt;"
      ],
      "text/plain": [
       "[1] NA"
      ]
     },
     "metadata": {},
     "output_type": "display_data"
    }
   ],
   "source": [
    "unique(df$neuro.success)\n",
    "unique(df$mac.rep.1.success)\n",
    "unique(df$mac.rep2.success)"
   ]
  },
  {
   "cell_type": "code",
   "execution_count": 43,
   "metadata": {},
   "outputs": [
    {
     "data": {
      "text/html": [
       "13"
      ],
      "text/latex": [
       "13"
      ],
      "text/markdown": [
       "13"
      ],
      "text/plain": [
       "[1] 13"
      ]
     },
     "metadata": {},
     "output_type": "display_data"
    },
    {
     "data": {
      "text/html": [
       "<table>\n",
       "<thead><tr><th></th><th scope=col>donor_id</th><th scope=col>dopa.success</th><th scope=col>mac.rep.1.success</th></tr></thead>\n",
       "<tbody>\n",
       "\t<tr><th scope=row>2</th><td>HPSI0114i-eipl_1</td><td>FALSE           </td><td> TRUE           </td></tr>\n",
       "\t<tr><th scope=row>8</th><td>HPSI0114i-vass_1</td><td> TRUE           </td><td> TRUE           </td></tr>\n",
       "\t<tr><th scope=row>40</th><td>HPSI0214i-pelm_3</td><td> TRUE           </td><td> TRUE           </td></tr>\n",
       "\t<tr><th scope=row>52</th><td>HPSI0314i-cuhk_2</td><td>FALSE           </td><td>FALSE           </td></tr>\n",
       "\t<tr><th scope=row>85</th><td>HPSI0513i-suzg_3</td><td> TRUE           </td><td>FALSE           </td></tr>\n",
       "\t<tr><th scope=row>112</th><td>HPSI0613i-qony_1</td><td> TRUE           </td><td>FALSE           </td></tr>\n",
       "\t<tr><th scope=row>113</th><td>HPSI0613i-xavk_3</td><td> TRUE           </td><td> TRUE           </td></tr>\n",
       "\t<tr><th scope=row>149</th><td>HPSI0913i-eika_2</td><td> TRUE           </td><td> TRUE           </td></tr>\n",
       "\t<tr><th scope=row>153</th><td>HPSI0913i-ruql_3</td><td> TRUE           </td><td>FALSE           </td></tr>\n",
       "\t<tr><th scope=row>169</th><td>HPSI1013i-kuxp_1</td><td> TRUE           </td><td> TRUE           </td></tr>\n",
       "\t<tr><th scope=row>187</th><td>HPSI1113i-bima_1</td><td> TRUE           </td><td> TRUE           </td></tr>\n",
       "\t<tr><th scope=row>190</th><td>HPSI1113i-podx_1</td><td> TRUE           </td><td> TRUE           </td></tr>\n",
       "\t<tr><th scope=row>192</th><td>HPSI1113i-qorq_1</td><td> TRUE           </td><td>FALSE           </td></tr>\n",
       "</tbody>\n",
       "</table>\n"
      ],
      "text/latex": [
       "\\begin{tabular}{r|lll}\n",
       "  & donor\\_id & dopa.success & mac.rep.1.success\\\\\n",
       "\\hline\n",
       "\t2 & HPSI0114i-eipl\\_1 & FALSE              &  TRUE             \\\\\n",
       "\t8 & HPSI0114i-vass\\_1 &  TRUE              &  TRUE             \\\\\n",
       "\t40 & HPSI0214i-pelm\\_3 &  TRUE              &  TRUE             \\\\\n",
       "\t52 & HPSI0314i-cuhk\\_2 & FALSE              & FALSE             \\\\\n",
       "\t85 & HPSI0513i-suzg\\_3 &  TRUE              & FALSE             \\\\\n",
       "\t112 & HPSI0613i-qony\\_1 &  TRUE              & FALSE             \\\\\n",
       "\t113 & HPSI0613i-xavk\\_3 &  TRUE              &  TRUE             \\\\\n",
       "\t149 & HPSI0913i-eika\\_2 &  TRUE              &  TRUE             \\\\\n",
       "\t153 & HPSI0913i-ruql\\_3 &  TRUE              & FALSE             \\\\\n",
       "\t169 & HPSI1013i-kuxp\\_1 &  TRUE              &  TRUE             \\\\\n",
       "\t187 & HPSI1113i-bima\\_1 &  TRUE              &  TRUE             \\\\\n",
       "\t190 & HPSI1113i-podx\\_1 &  TRUE              &  TRUE             \\\\\n",
       "\t192 & HPSI1113i-qorq\\_1 &  TRUE              & FALSE             \\\\\n",
       "\\end{tabular}\n"
      ],
      "text/markdown": [
       "\n",
       "| <!--/--> | donor_id | dopa.success | mac.rep.1.success |\n",
       "|---|---|---|---|\n",
       "| 2 | HPSI0114i-eipl_1 | FALSE            |  TRUE            |\n",
       "| 8 | HPSI0114i-vass_1 |  TRUE            |  TRUE            |\n",
       "| 40 | HPSI0214i-pelm_3 |  TRUE            |  TRUE            |\n",
       "| 52 | HPSI0314i-cuhk_2 | FALSE            | FALSE            |\n",
       "| 85 | HPSI0513i-suzg_3 |  TRUE            | FALSE            |\n",
       "| 112 | HPSI0613i-qony_1 |  TRUE            | FALSE            |\n",
       "| 113 | HPSI0613i-xavk_3 |  TRUE            |  TRUE            |\n",
       "| 149 | HPSI0913i-eika_2 |  TRUE            |  TRUE            |\n",
       "| 153 | HPSI0913i-ruql_3 |  TRUE            | FALSE            |\n",
       "| 169 | HPSI1013i-kuxp_1 |  TRUE            |  TRUE            |\n",
       "| 187 | HPSI1113i-bima_1 |  TRUE            |  TRUE            |\n",
       "| 190 | HPSI1113i-podx_1 |  TRUE            |  TRUE            |\n",
       "| 192 | HPSI1113i-qorq_1 |  TRUE            | FALSE            |\n",
       "\n"
      ],
      "text/plain": [
       "    donor_id         dopa.success mac.rep.1.success\n",
       "2   HPSI0114i-eipl_1 FALSE         TRUE            \n",
       "8   HPSI0114i-vass_1  TRUE         TRUE            \n",
       "40  HPSI0214i-pelm_3  TRUE         TRUE            \n",
       "52  HPSI0314i-cuhk_2 FALSE        FALSE            \n",
       "85  HPSI0513i-suzg_3  TRUE        FALSE            \n",
       "112 HPSI0613i-qony_1  TRUE        FALSE            \n",
       "113 HPSI0613i-xavk_3  TRUE         TRUE            \n",
       "149 HPSI0913i-eika_2  TRUE         TRUE            \n",
       "153 HPSI0913i-ruql_3  TRUE        FALSE            \n",
       "169 HPSI1013i-kuxp_1  TRUE         TRUE            \n",
       "187 HPSI1113i-bima_1  TRUE         TRUE            \n",
       "190 HPSI1113i-podx_1  TRUE         TRUE            \n",
       "192 HPSI1113i-qorq_1  TRUE        FALSE            "
      ]
     },
     "metadata": {},
     "output_type": "display_data"
    }
   ],
   "source": [
    "df2 = df[df$mac.rep.1.success %in% c('TRUE','FALSE'),c(\"donor_id\",\"dopa.success\",\"mac.rep.1.success\")]\n",
    "nrow(df2)\n",
    "df2"
   ]
  },
  {
   "cell_type": "code",
   "execution_count": 38,
   "metadata": {},
   "outputs": [
    {
     "data": {
      "text/plain": [
       "\n",
       "\tF test to compare two variances\n",
       "\n",
       "data:  df2$dopa.success and df2$mac.rep.1.success\n",
       "F = 0.55, num df = 12, denom df = 12, p-value = 0.314\n",
       "alternative hypothesis: true ratio of variances is not equal to 1\n",
       "95 percent confidence interval:\n",
       " 0.1678222 1.8025024\n",
       "sample estimates:\n",
       "ratio of variances \n",
       "              0.55 \n"
      ]
     },
     "metadata": {},
     "output_type": "display_data"
    }
   ],
   "source": [
    "var.test(df2$dopa.success, df2$mac.rep.1.success)"
   ]
  },
  {
   "cell_type": "code",
   "execution_count": 44,
   "metadata": {},
   "outputs": [
    {
     "data": {
      "text/html": [
       "16"
      ],
      "text/latex": [
       "16"
      ],
      "text/markdown": [
       "16"
      ],
      "text/plain": [
       "[1] 16"
      ]
     },
     "metadata": {},
     "output_type": "display_data"
    },
    {
     "data": {
      "text/html": [
       "<table>\n",
       "<thead><tr><th></th><th scope=col>donor_id</th><th scope=col>dopa.success</th><th scope=col>neuro.success</th></tr></thead>\n",
       "<tbody>\n",
       "\t<tr><th scope=row>2</th><td>HPSI0114i-eipl_1</td><td>FALSE           </td><td>TRUE            </td></tr>\n",
       "\t<tr><th scope=row>3</th><td>HPSI0114i-fikt_3</td><td> TRUE           </td><td>TRUE            </td></tr>\n",
       "\t<tr><th scope=row>6</th><td>HPSI0114i-posc_1</td><td> TRUE           </td><td>TRUE            </td></tr>\n",
       "\t<tr><th scope=row>8</th><td>HPSI0114i-vass_1</td><td> TRUE           </td><td>TRUE            </td></tr>\n",
       "\t<tr><th scope=row>35</th><td>HPSI0214i-eiwy_1</td><td> TRUE           </td><td>TRUE            </td></tr>\n",
       "\t<tr><th scope=row>40</th><td>HPSI0214i-pelm_3</td><td> TRUE           </td><td>TRUE            </td></tr>\n",
       "\t<tr><th scope=row>52</th><td>HPSI0314i-cuhk_2</td><td>FALSE           </td><td>TRUE            </td></tr>\n",
       "\t<tr><th scope=row>53</th><td>HPSI0314i-hoik_1</td><td>FALSE           </td><td>TRUE            </td></tr>\n",
       "\t<tr><th scope=row>112</th><td>HPSI0613i-qony_1</td><td> TRUE           </td><td>TRUE            </td></tr>\n",
       "\t<tr><th scope=row>113</th><td>HPSI0613i-xavk_3</td><td> TRUE           </td><td>TRUE            </td></tr>\n",
       "\t<tr><th scope=row>149</th><td>HPSI0913i-eika_2</td><td> TRUE           </td><td>TRUE            </td></tr>\n",
       "\t<tr><th scope=row>152</th><td>HPSI0913i-lise_1</td><td>FALSE           </td><td>TRUE            </td></tr>\n",
       "\t<tr><th scope=row>153</th><td>HPSI0913i-ruql_3</td><td> TRUE           </td><td>TRUE            </td></tr>\n",
       "\t<tr><th scope=row>169</th><td>HPSI1013i-kuxp_1</td><td> TRUE           </td><td>TRUE            </td></tr>\n",
       "\t<tr><th scope=row>190</th><td>HPSI1113i-podx_1</td><td> TRUE           </td><td>TRUE            </td></tr>\n",
       "\t<tr><th scope=row>193</th><td>HPSI1113i-uofv_1</td><td>FALSE           </td><td>TRUE            </td></tr>\n",
       "</tbody>\n",
       "</table>\n"
      ],
      "text/latex": [
       "\\begin{tabular}{r|lll}\n",
       "  & donor\\_id & dopa.success & neuro.success\\\\\n",
       "\\hline\n",
       "\t2 & HPSI0114i-eipl\\_1 & FALSE              & TRUE              \\\\\n",
       "\t3 & HPSI0114i-fikt\\_3 &  TRUE              & TRUE              \\\\\n",
       "\t6 & HPSI0114i-posc\\_1 &  TRUE              & TRUE              \\\\\n",
       "\t8 & HPSI0114i-vass\\_1 &  TRUE              & TRUE              \\\\\n",
       "\t35 & HPSI0214i-eiwy\\_1 &  TRUE              & TRUE              \\\\\n",
       "\t40 & HPSI0214i-pelm\\_3 &  TRUE              & TRUE              \\\\\n",
       "\t52 & HPSI0314i-cuhk\\_2 & FALSE              & TRUE              \\\\\n",
       "\t53 & HPSI0314i-hoik\\_1 & FALSE              & TRUE              \\\\\n",
       "\t112 & HPSI0613i-qony\\_1 &  TRUE              & TRUE              \\\\\n",
       "\t113 & HPSI0613i-xavk\\_3 &  TRUE              & TRUE              \\\\\n",
       "\t149 & HPSI0913i-eika\\_2 &  TRUE              & TRUE              \\\\\n",
       "\t152 & HPSI0913i-lise\\_1 & FALSE              & TRUE              \\\\\n",
       "\t153 & HPSI0913i-ruql\\_3 &  TRUE              & TRUE              \\\\\n",
       "\t169 & HPSI1013i-kuxp\\_1 &  TRUE              & TRUE              \\\\\n",
       "\t190 & HPSI1113i-podx\\_1 &  TRUE              & TRUE              \\\\\n",
       "\t193 & HPSI1113i-uofv\\_1 & FALSE              & TRUE              \\\\\n",
       "\\end{tabular}\n"
      ],
      "text/markdown": [
       "\n",
       "| <!--/--> | donor_id | dopa.success | neuro.success |\n",
       "|---|---|---|---|\n",
       "| 2 | HPSI0114i-eipl_1 | FALSE            | TRUE             |\n",
       "| 3 | HPSI0114i-fikt_3 |  TRUE            | TRUE             |\n",
       "| 6 | HPSI0114i-posc_1 |  TRUE            | TRUE             |\n",
       "| 8 | HPSI0114i-vass_1 |  TRUE            | TRUE             |\n",
       "| 35 | HPSI0214i-eiwy_1 |  TRUE            | TRUE             |\n",
       "| 40 | HPSI0214i-pelm_3 |  TRUE            | TRUE             |\n",
       "| 52 | HPSI0314i-cuhk_2 | FALSE            | TRUE             |\n",
       "| 53 | HPSI0314i-hoik_1 | FALSE            | TRUE             |\n",
       "| 112 | HPSI0613i-qony_1 |  TRUE            | TRUE             |\n",
       "| 113 | HPSI0613i-xavk_3 |  TRUE            | TRUE             |\n",
       "| 149 | HPSI0913i-eika_2 |  TRUE            | TRUE             |\n",
       "| 152 | HPSI0913i-lise_1 | FALSE            | TRUE             |\n",
       "| 153 | HPSI0913i-ruql_3 |  TRUE            | TRUE             |\n",
       "| 169 | HPSI1013i-kuxp_1 |  TRUE            | TRUE             |\n",
       "| 190 | HPSI1113i-podx_1 |  TRUE            | TRUE             |\n",
       "| 193 | HPSI1113i-uofv_1 | FALSE            | TRUE             |\n",
       "\n"
      ],
      "text/plain": [
       "    donor_id         dopa.success neuro.success\n",
       "2   HPSI0114i-eipl_1 FALSE        TRUE         \n",
       "3   HPSI0114i-fikt_3  TRUE        TRUE         \n",
       "6   HPSI0114i-posc_1  TRUE        TRUE         \n",
       "8   HPSI0114i-vass_1  TRUE        TRUE         \n",
       "35  HPSI0214i-eiwy_1  TRUE        TRUE         \n",
       "40  HPSI0214i-pelm_3  TRUE        TRUE         \n",
       "52  HPSI0314i-cuhk_2 FALSE        TRUE         \n",
       "53  HPSI0314i-hoik_1 FALSE        TRUE         \n",
       "112 HPSI0613i-qony_1  TRUE        TRUE         \n",
       "113 HPSI0613i-xavk_3  TRUE        TRUE         \n",
       "149 HPSI0913i-eika_2  TRUE        TRUE         \n",
       "152 HPSI0913i-lise_1 FALSE        TRUE         \n",
       "153 HPSI0913i-ruql_3  TRUE        TRUE         \n",
       "169 HPSI1013i-kuxp_1  TRUE        TRUE         \n",
       "190 HPSI1113i-podx_1  TRUE        TRUE         \n",
       "193 HPSI1113i-uofv_1 FALSE        TRUE         "
      ]
     },
     "metadata": {},
     "output_type": "display_data"
    }
   ],
   "source": [
    "df3 = df[df$neuro.success %in% c('TRUE','FALSE'),c(\"donor_id\",\"dopa.success\",\"neuro.success\")]\n",
    "nrow(df3)\n",
    "df3"
   ]
  },
  {
   "cell_type": "code",
   "execution_count": 42,
   "metadata": {},
   "outputs": [
    {
     "data": {
      "text/plain": [
       "\n",
       "\tF test to compare two variances\n",
       "\n",
       "data:  df3$dopa.success and df3$neuro.success\n",
       "F = Inf, num df = 15, denom df = 15, p-value < 2.2e-16\n",
       "alternative hypothesis: true ratio of variances is not equal to 1\n",
       "95 percent confidence interval:\n",
       " Inf Inf\n",
       "sample estimates:\n",
       "ratio of variances \n",
       "               Inf \n"
      ]
     },
     "metadata": {},
     "output_type": "display_data"
    }
   ],
   "source": [
    "var.test(df3$dopa.success, df3$neuro.success)"
   ]
  },
  {
   "cell_type": "code",
   "execution_count": 3,
   "metadata": {},
   "outputs": [
    {
     "data": {
      "text/html": [
       "<table>\n",
       "<thead><tr><th scope=col>donor</th><th scope=col>pool</th><th scope=col>predicted</th><th scope=col>observed</th></tr></thead>\n",
       "<tbody>\n",
       "\t<tr><td>riun  </td><td>pool20</td><td>FALSE </td><td>FALSE </td></tr>\n",
       "\t<tr><td>sukz  </td><td>pool20</td><td> TRUE </td><td>FALSE </td></tr>\n",
       "\t<tr><td>gifk  </td><td>pool20</td><td> TRUE </td><td> TRUE </td></tr>\n",
       "\t<tr><td>zaui  </td><td>pool21</td><td> TRUE </td><td> TRUE </td></tr>\n",
       "\t<tr><td>ziyn  </td><td>pool20</td><td> TRUE </td><td> TRUE </td></tr>\n",
       "\t<tr><td>wibj  </td><td>pool20</td><td> TRUE </td><td> TRUE </td></tr>\n",
       "</tbody>\n",
       "</table>\n"
      ],
      "text/latex": [
       "\\begin{tabular}{r|llll}\n",
       " donor & pool & predicted & observed\\\\\n",
       "\\hline\n",
       "\t riun   & pool20 & FALSE  & FALSE \\\\\n",
       "\t sukz   & pool20 &  TRUE  & FALSE \\\\\n",
       "\t gifk   & pool20 &  TRUE  &  TRUE \\\\\n",
       "\t zaui   & pool21 &  TRUE  &  TRUE \\\\\n",
       "\t ziyn   & pool20 &  TRUE  &  TRUE \\\\\n",
       "\t wibj   & pool20 &  TRUE  &  TRUE \\\\\n",
       "\\end{tabular}\n"
      ],
      "text/markdown": [
       "\n",
       "| donor | pool | predicted | observed |\n",
       "|---|---|---|---|\n",
       "| riun   | pool20 | FALSE  | FALSE  |\n",
       "| sukz   | pool20 |  TRUE  | FALSE  |\n",
       "| gifk   | pool20 |  TRUE  |  TRUE  |\n",
       "| zaui   | pool21 |  TRUE  |  TRUE  |\n",
       "| ziyn   | pool20 |  TRUE  |  TRUE  |\n",
       "| wibj   | pool20 |  TRUE  |  TRUE  |\n",
       "\n"
      ],
      "text/plain": [
       "  donor pool   predicted observed\n",
       "1 riun  pool20 FALSE     FALSE   \n",
       "2 sukz  pool20  TRUE     FALSE   \n",
       "3 gifk  pool20  TRUE      TRUE   \n",
       "4 zaui  pool21  TRUE      TRUE   \n",
       "5 ziyn  pool20  TRUE      TRUE   \n",
       "6 wibj  pool20  TRUE      TRUE   "
      ]
     },
     "metadata": {},
     "output_type": "display_data"
    }
   ],
   "source": [
    "df = data.frame(donor = c(\"riun\",\"sukz\",\"gifk\",\"zaui\",\"ziyn\",\"wibj\",\"babk\",\"veku\",\"hegp\",\"rakz\",\"ueah\",\"posc\",\n",
    "                         \"civh\",\"naah\",\"bokz\",\"uilk\",\"oupf\",\"robp\"),\n",
    "               pool = c(\"pool20\",\"pool20\",\"pool20\",\"pool21\",\"pool20\",\"pool20\",\"pool21\",\"pool20\",\"pool21\",\"pool21\",\n",
    "                       \"pool21\",\"pool20\",\"pool21\",\"pool20\",\"pool21\",\"pool21\",\"pool21\",\"pool20\"),\n",
    "               predicted = TRUE, observed = TRUE)\n",
    "df[1,\"predicted\"] = FALSE\n",
    "df[1:2,\"observed\"] = FALSE\n",
    "head(df)"
   ]
  },
  {
   "cell_type": "code",
   "execution_count": 4,
   "metadata": {},
   "outputs": [
    {
     "data": {
      "text/plain": [
       "\n",
       "\tF test to compare two variances\n",
       "\n",
       "data:  df$predicted and df$observed\n",
       "F = 0.53125, num df = 17, denom df = 17, p-value = 0.2024\n",
       "alternative hypothesis: true ratio of variances is not equal to 1\n",
       "95 percent confidence interval:\n",
       " 0.1987244 1.4201908\n",
       "sample estimates:\n",
       "ratio of variances \n",
       "           0.53125 \n"
      ]
     },
     "metadata": {},
     "output_type": "display_data"
    }
   ],
   "source": [
    "var.test(df$predicted, df$observed)"
   ]
  },
  {
   "cell_type": "code",
   "execution_count": 5,
   "metadata": {},
   "outputs": [
    {
     "data": {
      "text/html": [
       "18"
      ],
      "text/latex": [
       "18"
      ],
      "text/markdown": [
       "18"
      ],
      "text/plain": [
       "[1] 18"
      ]
     },
     "metadata": {},
     "output_type": "display_data"
    }
   ],
   "source": [
    "df2 = data.frame(donor = c(\"riun\",\"sukz\",\"gifk\",\"zaui\",\"ziyn\",\"wibj\",\"babk\",\"veku\",\"hegp\",\"rakz\",\"ueah\",\"posc\",\n",
    "                         \"civh\",\"naah\",\"bokz\",\"uilk\",\"oupf\",\"robp\"),\n",
    "               pool = \"pool12\",\n",
    "               predicted = TRUE, observed = TRUE)\n",
    "df2[1,\"predicted\"] = FALSE\n",
    "df2[1:2,\"observed\"] = FALSE\n",
    "nrow(df2)"
   ]
  },
  {
   "cell_type": "code",
   "execution_count": 6,
   "metadata": {},
   "outputs": [
    {
     "data": {
      "text/plain": [
       "\n",
       "\tF test to compare two variances\n",
       "\n",
       "data:  df3$predicted and df3$observed\n",
       "F = 0.53125, num df = 35, denom df = 35, p-value = 0.06538\n",
       "alternative hypothesis: true ratio of variances is not equal to 1\n",
       "95 percent confidence interval:\n",
       " 0.2708953 1.0418288\n",
       "sample estimates:\n",
       "ratio of variances \n",
       "           0.53125 \n"
      ]
     },
     "metadata": {},
     "output_type": "display_data"
    }
   ],
   "source": [
    "df3 = rbind(df,df2)\n",
    "var.test(df3$predicted, df3$observed)"
   ]
  },
  {
   "cell_type": "code",
   "execution_count": null,
   "metadata": {},
   "outputs": [],
   "source": []
  }
 ],
 "metadata": {
  "kernelspec": {
   "display_name": "R",
   "language": "R",
   "name": "ir"
  },
  "language_info": {
   "codemirror_mode": "r",
   "file_extension": ".r",
   "mimetype": "text/x-r-source",
   "name": "R",
   "pygments_lexer": "r",
   "version": "3.6.1"
  }
 },
 "nbformat": 4,
 "nbformat_minor": 2
}
