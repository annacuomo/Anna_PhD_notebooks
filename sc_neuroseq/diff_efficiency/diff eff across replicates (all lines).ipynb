{
 "cells": [
  {
   "cell_type": "code",
   "execution_count": 1,
   "metadata": {},
   "outputs": [
    {
     "name": "stderr",
     "output_type": "stream",
     "text": [
      "\n",
      "Attaching package: ‘dplyr’\n",
      "\n",
      "The following objects are masked from ‘package:stats’:\n",
      "\n",
      "    filter, lag\n",
      "\n",
      "The following objects are masked from ‘package:base’:\n",
      "\n",
      "    intersect, setdiff, setequal, union\n",
      "\n",
      "Registered S3 methods overwritten by 'ggplot2':\n",
      "  method         from \n",
      "  [.quosures     rlang\n",
      "  c.quosures     rlang\n",
      "  print.quosures rlang\n"
     ]
    }
   ],
   "source": [
    "library(dplyr)\n",
    "library(ggplot2)"
   ]
  },
  {
   "cell_type": "code",
   "execution_count": 2,
   "metadata": {},
   "outputs": [
    {
     "data": {
      "text/html": [
       "<table>\n",
       "<thead><tr><th scope=col>donor_id</th><th scope=col>pool_id</th><th scope=col>time_point</th><th scope=col>treatment</th><th scope=col>celltype</th><th scope=col>n_cells</th></tr></thead>\n",
       "<tbody>\n",
       "\t<tr><td>HPSI0114i-bezi_3</td><td>pool10          </td><td>D52             </td><td>NONE            </td><td>Astro           </td><td> 2              </td></tr>\n",
       "\t<tr><td>HPSI0114i-bezi_3</td><td>pool10          </td><td>D52             </td><td>NONE            </td><td>CHem            </td><td> 5              </td></tr>\n",
       "\t<tr><td>HPSI0114i-bezi_3</td><td>pool10          </td><td>D52             </td><td>NONE            </td><td>DA              </td><td>66              </td></tr>\n",
       "\t<tr><td>HPSI0114i-bezi_3</td><td>pool10          </td><td>D52             </td><td>NONE            </td><td>Epen1           </td><td>39              </td></tr>\n",
       "\t<tr><td>HPSI0114i-bezi_3</td><td>pool10          </td><td>D52             </td><td>NONE            </td><td>FPP             </td><td>31              </td></tr>\n",
       "\t<tr><td>HPSI0114i-bezi_3</td><td>pool10          </td><td>D52             </td><td>NONE            </td><td>P_FPP           </td><td> 4              </td></tr>\n",
       "</tbody>\n",
       "</table>\n"
      ],
      "text/latex": [
       "\\begin{tabular}{r|llllll}\n",
       " donor\\_id & pool\\_id & time\\_point & treatment & celltype & n\\_cells\\\\\n",
       "\\hline\n",
       "\t HPSI0114i-bezi\\_3 & pool10             & D52                & NONE               & Astro              &  2                \\\\\n",
       "\t HPSI0114i-bezi\\_3 & pool10             & D52                & NONE               & CHem               &  5                \\\\\n",
       "\t HPSI0114i-bezi\\_3 & pool10             & D52                & NONE               & DA                 & 66                \\\\\n",
       "\t HPSI0114i-bezi\\_3 & pool10             & D52                & NONE               & Epen1              & 39                \\\\\n",
       "\t HPSI0114i-bezi\\_3 & pool10             & D52                & NONE               & FPP                & 31                \\\\\n",
       "\t HPSI0114i-bezi\\_3 & pool10             & D52                & NONE               & P\\_FPP            &  4                \\\\\n",
       "\\end{tabular}\n"
      ],
      "text/markdown": [
       "\n",
       "| donor_id | pool_id | time_point | treatment | celltype | n_cells |\n",
       "|---|---|---|---|---|---|\n",
       "| HPSI0114i-bezi_3 | pool10           | D52              | NONE             | Astro            |  2               |\n",
       "| HPSI0114i-bezi_3 | pool10           | D52              | NONE             | CHem             |  5               |\n",
       "| HPSI0114i-bezi_3 | pool10           | D52              | NONE             | DA               | 66               |\n",
       "| HPSI0114i-bezi_3 | pool10           | D52              | NONE             | Epen1            | 39               |\n",
       "| HPSI0114i-bezi_3 | pool10           | D52              | NONE             | FPP              | 31               |\n",
       "| HPSI0114i-bezi_3 | pool10           | D52              | NONE             | P_FPP            |  4               |\n",
       "\n"
      ],
      "text/plain": [
       "  donor_id         pool_id time_point treatment celltype n_cells\n",
       "1 HPSI0114i-bezi_3 pool10  D52        NONE      Astro     2     \n",
       "2 HPSI0114i-bezi_3 pool10  D52        NONE      CHem      5     \n",
       "3 HPSI0114i-bezi_3 pool10  D52        NONE      DA       66     \n",
       "4 HPSI0114i-bezi_3 pool10  D52        NONE      Epen1    39     \n",
       "5 HPSI0114i-bezi_3 pool10  D52        NONE      FPP      31     \n",
       "6 HPSI0114i-bezi_3 pool10  D52        NONE      P_FPP     4     "
      ]
     },
     "metadata": {},
     "output_type": "display_data"
    }
   ],
   "source": [
    "mydir = \"/nfs/leia/research/stegle/dseaton/hipsci/singlecell_neuroseq/data/data_processed/pool1_17_D52/\"\n",
    "mysuffix = \"pool1_17_D52.scanpy.w_metadata.w_celltype.scanpy.obs_df.groupedby.donor_id-pool_id-time_point-treatment.celltype_counts.tsv\"\n",
    "\n",
    "myfilename = paste0(mydir,mysuffix)\n",
    "myfile = read.table(myfilename, header = T)\n",
    "head(myfile)"
   ]
  },
  {
   "cell_type": "code",
   "execution_count": 3,
   "metadata": {},
   "outputs": [
    {
     "data": {
      "text/html": [
       "232"
      ],
      "text/latex": [
       "232"
      ],
      "text/markdown": [
       "232"
      ],
      "text/plain": [
       "[1] 232"
      ]
     },
     "metadata": {},
     "output_type": "display_data"
    },
    {
     "data": {
      "text/html": [
       "<table>\n",
       "<thead><tr><th scope=col>donor_id</th><th scope=col>pool_id</th><th scope=col>sum_all</th></tr></thead>\n",
       "<tbody>\n",
       "\t<tr><td>HPSI0114i-bezi_3</td><td>pool10          </td><td>  393           </td></tr>\n",
       "\t<tr><td>HPSI0114i-eipl_1</td><td>pool1           </td><td>25935           </td></tr>\n",
       "\t<tr><td>HPSI0114i-fikt_3</td><td>pool14          </td><td>  283           </td></tr>\n",
       "\t<tr><td>HPSI0114i-kolf_2</td><td>pool10          </td><td>  243           </td></tr>\n",
       "\t<tr><td>HPSI0114i-kolf_2</td><td>pool15          </td><td> 2423           </td></tr>\n",
       "\t<tr><td>HPSI0114i-lexy_2</td><td>pool10          </td><td>  453           </td></tr>\n",
       "</tbody>\n",
       "</table>\n"
      ],
      "text/latex": [
       "\\begin{tabular}{r|lll}\n",
       " donor\\_id & pool\\_id & sum\\_all\\\\\n",
       "\\hline\n",
       "\t HPSI0114i-bezi\\_3 & pool10             &   393             \\\\\n",
       "\t HPSI0114i-eipl\\_1 & pool1              & 25935             \\\\\n",
       "\t HPSI0114i-fikt\\_3 & pool14             &   283             \\\\\n",
       "\t HPSI0114i-kolf\\_2 & pool10             &   243             \\\\\n",
       "\t HPSI0114i-kolf\\_2 & pool15             &  2423             \\\\\n",
       "\t HPSI0114i-lexy\\_2 & pool10             &   453             \\\\\n",
       "\\end{tabular}\n"
      ],
      "text/markdown": [
       "\n",
       "| donor_id | pool_id | sum_all |\n",
       "|---|---|---|\n",
       "| HPSI0114i-bezi_3 | pool10           |   393            |\n",
       "| HPSI0114i-eipl_1 | pool1            | 25935            |\n",
       "| HPSI0114i-fikt_3 | pool14           |   283            |\n",
       "| HPSI0114i-kolf_2 | pool10           |   243            |\n",
       "| HPSI0114i-kolf_2 | pool15           |  2423            |\n",
       "| HPSI0114i-lexy_2 | pool10           |   453            |\n",
       "\n"
      ],
      "text/plain": [
       "  donor_id         pool_id sum_all\n",
       "1 HPSI0114i-bezi_3 pool10    393  \n",
       "2 HPSI0114i-eipl_1 pool1   25935  \n",
       "3 HPSI0114i-fikt_3 pool14    283  \n",
       "4 HPSI0114i-kolf_2 pool10    243  \n",
       "5 HPSI0114i-kolf_2 pool15   2423  \n",
       "6 HPSI0114i-lexy_2 pool10    453  "
      ]
     },
     "metadata": {},
     "output_type": "display_data"
    }
   ],
   "source": [
    "df1 = myfile\n",
    "df1 = df1 %>% group_by(donor_id, pool_id) %>% summarise(sum_all = sum(n_cells))\n",
    "nrow(df1)\n",
    "head(df1)"
   ]
  },
  {
   "cell_type": "code",
   "execution_count": 4,
   "metadata": {},
   "outputs": [
    {
     "data": {
      "text/html": [
       "230"
      ],
      "text/latex": [
       "230"
      ],
      "text/markdown": [
       "230"
      ],
      "text/plain": [
       "[1] 230"
      ]
     },
     "metadata": {},
     "output_type": "display_data"
    },
    {
     "data": {
      "text/html": [
       "<table>\n",
       "<thead><tr><th scope=col>donor_id</th><th scope=col>pool_id</th><th scope=col>sum_midbrain</th></tr></thead>\n",
       "<tbody>\n",
       "\t<tr><td>HPSI0114i-bezi_3</td><td>pool10          </td><td> 229            </td></tr>\n",
       "\t<tr><td>HPSI0114i-eipl_1</td><td>pool1           </td><td> 334            </td></tr>\n",
       "\t<tr><td>HPSI0114i-fikt_3</td><td>pool14          </td><td> 114            </td></tr>\n",
       "\t<tr><td>HPSI0114i-kolf_2</td><td>pool10          </td><td> 122            </td></tr>\n",
       "\t<tr><td>HPSI0114i-kolf_2</td><td>pool15          </td><td>1064            </td></tr>\n",
       "\t<tr><td>HPSI0114i-lexy_2</td><td>pool10          </td><td> 359            </td></tr>\n",
       "</tbody>\n",
       "</table>\n"
      ],
      "text/latex": [
       "\\begin{tabular}{r|lll}\n",
       " donor\\_id & pool\\_id & sum\\_midbrain\\\\\n",
       "\\hline\n",
       "\t HPSI0114i-bezi\\_3 & pool10             &  229              \\\\\n",
       "\t HPSI0114i-eipl\\_1 & pool1              &  334              \\\\\n",
       "\t HPSI0114i-fikt\\_3 & pool14             &  114              \\\\\n",
       "\t HPSI0114i-kolf\\_2 & pool10             &  122              \\\\\n",
       "\t HPSI0114i-kolf\\_2 & pool15             & 1064              \\\\\n",
       "\t HPSI0114i-lexy\\_2 & pool10             &  359              \\\\\n",
       "\\end{tabular}\n"
      ],
      "text/markdown": [
       "\n",
       "| donor_id | pool_id | sum_midbrain |\n",
       "|---|---|---|\n",
       "| HPSI0114i-bezi_3 | pool10           |  229             |\n",
       "| HPSI0114i-eipl_1 | pool1            |  334             |\n",
       "| HPSI0114i-fikt_3 | pool14           |  114             |\n",
       "| HPSI0114i-kolf_2 | pool10           |  122             |\n",
       "| HPSI0114i-kolf_2 | pool15           | 1064             |\n",
       "| HPSI0114i-lexy_2 | pool10           |  359             |\n",
       "\n"
      ],
      "text/plain": [
       "  donor_id         pool_id sum_midbrain\n",
       "1 HPSI0114i-bezi_3 pool10   229        \n",
       "2 HPSI0114i-eipl_1 pool1    334        \n",
       "3 HPSI0114i-fikt_3 pool14   114        \n",
       "4 HPSI0114i-kolf_2 pool10   122        \n",
       "5 HPSI0114i-kolf_2 pool15  1064        \n",
       "6 HPSI0114i-lexy_2 pool10   359        "
      ]
     },
     "metadata": {},
     "output_type": "display_data"
    }
   ],
   "source": [
    "df2 = myfile[myfile$celltype %in% c(\"DA\",\"Sert\"),]\n",
    "df2 = df2 %>% group_by(donor_id, pool_id) %>% summarise(sum_midbrain = sum(n_cells))\n",
    "nrow(df2)\n",
    "head(df2)"
   ]
  },
  {
   "cell_type": "code",
   "execution_count": 5,
   "metadata": {},
   "outputs": [
    {
     "name": "stderr",
     "output_type": "stream",
     "text": [
      "Joining, by = c(\"donor_id\", \"pool_id\")\n"
     ]
    },
    {
     "data": {
      "text/html": [
       "230"
      ],
      "text/latex": [
       "230"
      ],
      "text/markdown": [
       "230"
      ],
      "text/plain": [
       "[1] 230"
      ]
     },
     "metadata": {},
     "output_type": "display_data"
    },
    {
     "data": {
      "text/html": [
       "<table>\n",
       "<thead><tr><th scope=col>donor_id</th><th scope=col>pool_id</th><th scope=col>sum_all</th><th scope=col>sum_midbrain</th></tr></thead>\n",
       "<tbody>\n",
       "\t<tr><td>HPSI0114i-bezi_3</td><td>pool10          </td><td>  393           </td><td> 229            </td></tr>\n",
       "\t<tr><td>HPSI0114i-eipl_1</td><td>pool1           </td><td>25935           </td><td> 334            </td></tr>\n",
       "\t<tr><td>HPSI0114i-fikt_3</td><td>pool14          </td><td>  283           </td><td> 114            </td></tr>\n",
       "\t<tr><td>HPSI0114i-kolf_2</td><td>pool10          </td><td>  243           </td><td> 122            </td></tr>\n",
       "\t<tr><td>HPSI0114i-kolf_2</td><td>pool15          </td><td> 2423           </td><td>1064            </td></tr>\n",
       "\t<tr><td>HPSI0114i-lexy_2</td><td>pool10          </td><td>  453           </td><td> 359            </td></tr>\n",
       "</tbody>\n",
       "</table>\n"
      ],
      "text/latex": [
       "\\begin{tabular}{r|llll}\n",
       " donor\\_id & pool\\_id & sum\\_all & sum\\_midbrain\\\\\n",
       "\\hline\n",
       "\t HPSI0114i-bezi\\_3 & pool10             &   393              &  229              \\\\\n",
       "\t HPSI0114i-eipl\\_1 & pool1              & 25935              &  334              \\\\\n",
       "\t HPSI0114i-fikt\\_3 & pool14             &   283              &  114              \\\\\n",
       "\t HPSI0114i-kolf\\_2 & pool10             &   243              &  122              \\\\\n",
       "\t HPSI0114i-kolf\\_2 & pool15             &  2423              & 1064              \\\\\n",
       "\t HPSI0114i-lexy\\_2 & pool10             &   453              &  359              \\\\\n",
       "\\end{tabular}\n"
      ],
      "text/markdown": [
       "\n",
       "| donor_id | pool_id | sum_all | sum_midbrain |\n",
       "|---|---|---|---|\n",
       "| HPSI0114i-bezi_3 | pool10           |   393            |  229             |\n",
       "| HPSI0114i-eipl_1 | pool1            | 25935            |  334             |\n",
       "| HPSI0114i-fikt_3 | pool14           |   283            |  114             |\n",
       "| HPSI0114i-kolf_2 | pool10           |   243            |  122             |\n",
       "| HPSI0114i-kolf_2 | pool15           |  2423            | 1064             |\n",
       "| HPSI0114i-lexy_2 | pool10           |   453            |  359             |\n",
       "\n"
      ],
      "text/plain": [
       "  donor_id         pool_id sum_all sum_midbrain\n",
       "1 HPSI0114i-bezi_3 pool10    393    229        \n",
       "2 HPSI0114i-eipl_1 pool1   25935    334        \n",
       "3 HPSI0114i-fikt_3 pool14    283    114        \n",
       "4 HPSI0114i-kolf_2 pool10    243    122        \n",
       "5 HPSI0114i-kolf_2 pool15   2423   1064        \n",
       "6 HPSI0114i-lexy_2 pool10    453    359        "
      ]
     },
     "metadata": {},
     "output_type": "display_data"
    }
   ],
   "source": [
    "df = inner_join(df1,df2)\n",
    "nrow(df)\n",
    "head(df)"
   ]
  },
  {
   "cell_type": "code",
   "execution_count": 6,
   "metadata": {},
   "outputs": [
    {
     "data": {
      "text/html": [
       "<table>\n",
       "<thead><tr><th scope=col>donor_id</th><th scope=col>pool_id</th><th scope=col>sum_all</th><th scope=col>sum_midbrain</th><th scope=col>diff_eff</th></tr></thead>\n",
       "<tbody>\n",
       "\t<tr><td>HPSI0114i-bezi_3</td><td>pool10          </td><td>  393           </td><td> 229            </td><td>0.58269720      </td></tr>\n",
       "\t<tr><td>HPSI0114i-eipl_1</td><td>pool1           </td><td>25935           </td><td> 334            </td><td>0.01287835      </td></tr>\n",
       "\t<tr><td>HPSI0114i-fikt_3</td><td>pool14          </td><td>  283           </td><td> 114            </td><td>0.40282686      </td></tr>\n",
       "\t<tr><td>HPSI0114i-kolf_2</td><td>pool10          </td><td>  243           </td><td> 122            </td><td>0.50205761      </td></tr>\n",
       "\t<tr><td>HPSI0114i-kolf_2</td><td>pool15          </td><td> 2423           </td><td>1064            </td><td>0.43912505      </td></tr>\n",
       "\t<tr><td>HPSI0114i-lexy_2</td><td>pool10          </td><td>  453           </td><td> 359            </td><td>0.79249448      </td></tr>\n",
       "</tbody>\n",
       "</table>\n"
      ],
      "text/latex": [
       "\\begin{tabular}{r|lllll}\n",
       " donor\\_id & pool\\_id & sum\\_all & sum\\_midbrain & diff\\_eff\\\\\n",
       "\\hline\n",
       "\t HPSI0114i-bezi\\_3 & pool10             &   393              &  229               & 0.58269720        \\\\\n",
       "\t HPSI0114i-eipl\\_1 & pool1              & 25935              &  334               & 0.01287835        \\\\\n",
       "\t HPSI0114i-fikt\\_3 & pool14             &   283              &  114               & 0.40282686        \\\\\n",
       "\t HPSI0114i-kolf\\_2 & pool10             &   243              &  122               & 0.50205761        \\\\\n",
       "\t HPSI0114i-kolf\\_2 & pool15             &  2423              & 1064               & 0.43912505        \\\\\n",
       "\t HPSI0114i-lexy\\_2 & pool10             &   453              &  359               & 0.79249448        \\\\\n",
       "\\end{tabular}\n"
      ],
      "text/markdown": [
       "\n",
       "| donor_id | pool_id | sum_all | sum_midbrain | diff_eff |\n",
       "|---|---|---|---|---|\n",
       "| HPSI0114i-bezi_3 | pool10           |   393            |  229             | 0.58269720       |\n",
       "| HPSI0114i-eipl_1 | pool1            | 25935            |  334             | 0.01287835       |\n",
       "| HPSI0114i-fikt_3 | pool14           |   283            |  114             | 0.40282686       |\n",
       "| HPSI0114i-kolf_2 | pool10           |   243            |  122             | 0.50205761       |\n",
       "| HPSI0114i-kolf_2 | pool15           |  2423            | 1064             | 0.43912505       |\n",
       "| HPSI0114i-lexy_2 | pool10           |   453            |  359             | 0.79249448       |\n",
       "\n"
      ],
      "text/plain": [
       "  donor_id         pool_id sum_all sum_midbrain diff_eff  \n",
       "1 HPSI0114i-bezi_3 pool10    393    229         0.58269720\n",
       "2 HPSI0114i-eipl_1 pool1   25935    334         0.01287835\n",
       "3 HPSI0114i-fikt_3 pool14    283    114         0.40282686\n",
       "4 HPSI0114i-kolf_2 pool10    243    122         0.50205761\n",
       "5 HPSI0114i-kolf_2 pool15   2423   1064         0.43912505\n",
       "6 HPSI0114i-lexy_2 pool10    453    359         0.79249448"
      ]
     },
     "metadata": {},
     "output_type": "display_data"
    }
   ],
   "source": [
    "df$diff_eff = df$sum_midbrain/df$sum_all\n",
    "head(df)"
   ]
  },
  {
   "cell_type": "code",
   "execution_count": 7,
   "metadata": {},
   "outputs": [
    {
     "data": {
      "text/html": [
       "197"
      ],
      "text/latex": [
       "197"
      ],
      "text/markdown": [
       "197"
      ],
      "text/plain": [
       "[1] 197"
      ]
     },
     "metadata": {},
     "output_type": "display_data"
    }
   ],
   "source": [
    "length(unique(df$donor_id))"
   ]
  },
  {
   "cell_type": "code",
   "execution_count": 25,
   "metadata": {},
   "outputs": [
    {
     "data": {
      "text/html": [
       "<table>\n",
       "<thead><tr><th scope=col>donor_id</th><th scope=col>pool_id</th><th scope=col>sum_all</th><th scope=col>sum_midbrain</th><th scope=col>diff_eff</th><th scope=col>replicate</th></tr></thead>\n",
       "<tbody>\n",
       "\t<tr><td>HPSI0114i-bezi_3</td><td>pool10          </td><td>  393           </td><td> 229            </td><td>0.58269720      </td><td>no_rep          </td></tr>\n",
       "\t<tr><td>HPSI0114i-eipl_1</td><td>pool1           </td><td>25935           </td><td> 334            </td><td>0.01287835      </td><td>no_rep          </td></tr>\n",
       "\t<tr><td>HPSI0114i-fikt_3</td><td>pool14          </td><td>  283           </td><td> 114            </td><td>0.40282686      </td><td>no_rep          </td></tr>\n",
       "\t<tr><td>HPSI0114i-kolf_2</td><td>pool10          </td><td>  243           </td><td> 122            </td><td>0.50205761      </td><td>rep1            </td></tr>\n",
       "\t<tr><td>HPSI0114i-kolf_2</td><td>pool15          </td><td> 2423           </td><td>1064            </td><td>0.43912505      </td><td>rep2            </td></tr>\n",
       "\t<tr><td>HPSI0114i-lexy_2</td><td>pool10          </td><td>  453           </td><td> 359            </td><td>0.79249448      </td><td>rep1            </td></tr>\n",
       "</tbody>\n",
       "</table>\n"
      ],
      "text/latex": [
       "\\begin{tabular}{r|llllll}\n",
       " donor\\_id & pool\\_id & sum\\_all & sum\\_midbrain & diff\\_eff & replicate\\\\\n",
       "\\hline\n",
       "\t HPSI0114i-bezi\\_3 & pool10             &   393              &  229               & 0.58269720         & no\\_rep          \\\\\n",
       "\t HPSI0114i-eipl\\_1 & pool1              & 25935              &  334               & 0.01287835         & no\\_rep          \\\\\n",
       "\t HPSI0114i-fikt\\_3 & pool14             &   283              &  114               & 0.40282686         & no\\_rep          \\\\\n",
       "\t HPSI0114i-kolf\\_2 & pool10             &   243              &  122               & 0.50205761         & rep1              \\\\\n",
       "\t HPSI0114i-kolf\\_2 & pool15             &  2423              & 1064               & 0.43912505         & rep2              \\\\\n",
       "\t HPSI0114i-lexy\\_2 & pool10             &   453              &  359               & 0.79249448         & rep1              \\\\\n",
       "\\end{tabular}\n"
      ],
      "text/markdown": [
       "\n",
       "| donor_id | pool_id | sum_all | sum_midbrain | diff_eff | replicate |\n",
       "|---|---|---|---|---|---|\n",
       "| HPSI0114i-bezi_3 | pool10           |   393            |  229             | 0.58269720       | no_rep           |\n",
       "| HPSI0114i-eipl_1 | pool1            | 25935            |  334             | 0.01287835       | no_rep           |\n",
       "| HPSI0114i-fikt_3 | pool14           |   283            |  114             | 0.40282686       | no_rep           |\n",
       "| HPSI0114i-kolf_2 | pool10           |   243            |  122             | 0.50205761       | rep1             |\n",
       "| HPSI0114i-kolf_2 | pool15           |  2423            | 1064             | 0.43912505       | rep2             |\n",
       "| HPSI0114i-lexy_2 | pool10           |   453            |  359             | 0.79249448       | rep1             |\n",
       "\n"
      ],
      "text/plain": [
       "  donor_id         pool_id sum_all sum_midbrain diff_eff   replicate\n",
       "1 HPSI0114i-bezi_3 pool10    393    229         0.58269720 no_rep   \n",
       "2 HPSI0114i-eipl_1 pool1   25935    334         0.01287835 no_rep   \n",
       "3 HPSI0114i-fikt_3 pool14    283    114         0.40282686 no_rep   \n",
       "4 HPSI0114i-kolf_2 pool10    243    122         0.50205761 rep1     \n",
       "5 HPSI0114i-kolf_2 pool15   2423   1064         0.43912505 rep2     \n",
       "6 HPSI0114i-lexy_2 pool10    453    359         0.79249448 rep1     "
      ]
     },
     "metadata": {},
     "output_type": "display_data"
    }
   ],
   "source": [
    "df$replicate = \"no_rep\"\n",
    "for (donor in unique(df$donor_id)){\n",
    "    r = df[df$donor_id == donor,]\n",
    "    if (nrow(r)>1){\n",
    "        df$replicate[df$donor_id == donor][1] = 'rep1'\n",
    "        df$replicate[df$donor_id == donor][2] = 'rep2'\n",
    "    }\n",
    "}\n",
    "head(df)"
   ]
  },
  {
   "cell_type": "code",
   "execution_count": 26,
   "metadata": {},
   "outputs": [],
   "source": [
    "df_r = data.frame()\n",
    "\n",
    "for (donor in unique(df$donor_id)){\n",
    "    r = df[df$donor_id == donor,]\n",
    "    if (nrow(r)>1){\n",
    "        df_r = rbind(df_r, data.frame(donor = donor, \n",
    "                          de1 = r[r$replicate == \"rep1\",\"diff_eff\"],\n",
    "                          de2 = r[r$replicate == \"rep2\",\"diff_eff\"]))\n",
    "    }\n",
    "}"
   ]
  },
  {
   "cell_type": "code",
   "execution_count": 28,
   "metadata": {},
   "outputs": [
    {
     "data": {
      "text/html": [
       "32"
      ],
      "text/latex": [
       "32"
      ],
      "text/markdown": [
       "32"
      ],
      "text/plain": [
       "[1] 32"
      ]
     },
     "metadata": {},
     "output_type": "display_data"
    },
    {
     "data": {
      "text/html": [
       "<table>\n",
       "<thead><tr><th scope=col>donor</th><th scope=col>diff_eff</th><th scope=col>diff_eff.1</th></tr></thead>\n",
       "<tbody>\n",
       "\t<tr><td>HPSI0114i-kolf_2</td><td>0.5020576       </td><td>0.4391251       </td></tr>\n",
       "\t<tr><td>HPSI0114i-lexy_2</td><td>0.7924945       </td><td>0.6613162       </td></tr>\n",
       "\t<tr><td>HPSI0114i-wegi_1</td><td>0.9086982       </td><td>0.8864971       </td></tr>\n",
       "\t<tr><td>HPSI0115i-hecn_6</td><td>0.3046837       </td><td>0.3798587       </td></tr>\n",
       "\t<tr><td>HPSI0115i-jotn_2</td><td>0.3647376       </td><td>0.3585919       </td></tr>\n",
       "\t<tr><td>HPSI0115i-qecv_2</td><td>0.3819444       </td><td>0.5714286       </td></tr>\n",
       "</tbody>\n",
       "</table>\n"
      ],
      "text/latex": [
       "\\begin{tabular}{r|lll}\n",
       " donor & diff\\_eff & diff\\_eff.1\\\\\n",
       "\\hline\n",
       "\t HPSI0114i-kolf\\_2 & 0.5020576          & 0.4391251         \\\\\n",
       "\t HPSI0114i-lexy\\_2 & 0.7924945          & 0.6613162         \\\\\n",
       "\t HPSI0114i-wegi\\_1 & 0.9086982          & 0.8864971         \\\\\n",
       "\t HPSI0115i-hecn\\_6 & 0.3046837          & 0.3798587         \\\\\n",
       "\t HPSI0115i-jotn\\_2 & 0.3647376          & 0.3585919         \\\\\n",
       "\t HPSI0115i-qecv\\_2 & 0.3819444          & 0.5714286         \\\\\n",
       "\\end{tabular}\n"
      ],
      "text/markdown": [
       "\n",
       "| donor | diff_eff | diff_eff.1 |\n",
       "|---|---|---|\n",
       "| HPSI0114i-kolf_2 | 0.5020576        | 0.4391251        |\n",
       "| HPSI0114i-lexy_2 | 0.7924945        | 0.6613162        |\n",
       "| HPSI0114i-wegi_1 | 0.9086982        | 0.8864971        |\n",
       "| HPSI0115i-hecn_6 | 0.3046837        | 0.3798587        |\n",
       "| HPSI0115i-jotn_2 | 0.3647376        | 0.3585919        |\n",
       "| HPSI0115i-qecv_2 | 0.3819444        | 0.5714286        |\n",
       "\n"
      ],
      "text/plain": [
       "  donor            diff_eff  diff_eff.1\n",
       "1 HPSI0114i-kolf_2 0.5020576 0.4391251 \n",
       "2 HPSI0114i-lexy_2 0.7924945 0.6613162 \n",
       "3 HPSI0114i-wegi_1 0.9086982 0.8864971 \n",
       "4 HPSI0115i-hecn_6 0.3046837 0.3798587 \n",
       "5 HPSI0115i-jotn_2 0.3647376 0.3585919 \n",
       "6 HPSI0115i-qecv_2 0.3819444 0.5714286 "
      ]
     },
     "metadata": {},
     "output_type": "display_data"
    }
   ],
   "source": [
    "nrow(df_r)\n",
    "head(df_r)"
   ]
  },
  {
   "cell_type": "code",
   "execution_count": 29,
   "metadata": {},
   "outputs": [
    {
     "data": {
      "text/html": [
       "0.740030606950196"
      ],
      "text/latex": [
       "0.740030606950196"
      ],
      "text/markdown": [
       "0.740030606950196"
      ],
      "text/plain": [
       "[1] 0.7400306"
      ]
     },
     "metadata": {},
     "output_type": "display_data"
    },
    {
     "data": {
      "text/plain": [
       "\n",
       "\tPearson's product-moment correlation\n",
       "\n",
       "data:  df_r$diff_eff and df_r$diff_eff.1\n",
       "t = 6.0266, df = 30, p-value = 1.294e-06\n",
       "alternative hypothesis: true correlation is not equal to 0\n",
       "95 percent confidence interval:\n",
       " 0.5274393 0.8654104\n",
       "sample estimates:\n",
       "      cor \n",
       "0.7400306 \n"
      ]
     },
     "metadata": {},
     "output_type": "display_data"
    }
   ],
   "source": [
    "cor(df_r$diff_eff, df_r$diff_eff.1)\n",
    "cor.test(df_r$diff_eff, df_r$diff_eff.1)"
   ]
  },
  {
   "cell_type": "code",
   "execution_count": 30,
   "metadata": {},
   "outputs": [
    {
     "data": {
      "image/png": "[encoded data removed]",
      "text/plain": [
       "plot without title"
      ]
     },
     "metadata": {},
     "output_type": "display_data"
    }
   ],
   "source": [
    "options(repr.plot.width=5, repr.plot.height=4.8)\n",
    "ggplot(df_r, aes(x=diff_eff,y=diff_eff.1)) + geom_point(size = 1.8, col ='grey60') + stat_smooth(method = \"lm\", col = \"grey40\", alpha = \"0.25\") +\n",
    "    xlab(\"Differentiation efficiency \\n(replicate 1)\") + ylab(\"Differentiation efficiency \\n(replicate 2)\") + \n",
    "    xlim(c(0,1)) + ylim(c(0,1))+\n",
    "    geom_point(data = df_r[df_r$donor == \"HPSI0514i-fiaj_1\",], col = \"#17becf\", size = 2.8) +\n",
    "    geom_point(data = df_r[df_r$donor == \"HPSI1213i-hehd_1\",], col = \"darkblue\", size = 2.8) + \n",
    "    theme_bw() + theme(axis.title = element_text(size = 14))"
   ]
  },
  {
   "cell_type": "code",
   "execution_count": null,
   "metadata": {},
   "outputs": [],
   "source": []
  }
 ],
 "metadata": {
  "kernelspec": {
   "display_name": "R",
   "language": "R",
   "name": "ir"
  },
  "language_info": {
   "codemirror_mode": "r",
   "file_extension": ".r",
   "mimetype": "text/x-r-source",
   "name": "R",
   "pygments_lexer": "r",
   "version": "3.6.1"
  }
 },
 "nbformat": 4,
 "nbformat_minor": 4
}
