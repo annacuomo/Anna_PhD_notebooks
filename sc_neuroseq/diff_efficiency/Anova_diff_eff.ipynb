{
 "cells": [
  {
   "cell_type": "code",
   "execution_count": 4,
   "metadata": {},
   "outputs": [],
   "source": [
    "# library(dplyr)"
   ]
  },
  {
   "cell_type": "code",
   "execution_count": 2,
   "metadata": {},
   "outputs": [
    {
     "data": {
      "text/html": [
       "<table>\n",
       "<thead><tr><th scope=col>Public.name</th><th scope=col>Donor</th><th scope=col>Gender</th><th scope=col>Age</th><th scope=col>feederfree</th></tr></thead>\n",
       "<tbody>\n",
       "\t<tr><td>HPSI0813er-fpdk </td><td>fpdk            </td><td>male            </td><td>40-44           </td><td>                </td></tr>\n",
       "\t<tr><td>HPSI0813i-fpdk_1</td><td>fpdk            </td><td>male            </td><td>40-44           </td><td>n               </td></tr>\n",
       "\t<tr><td>HPSI0813i-fpdk_2</td><td>fpdk            </td><td>male            </td><td>40-44           </td><td>n               </td></tr>\n",
       "\t<tr><td>HPSI0813i-fpdk_3</td><td>fpdk            </td><td>male            </td><td>40-44           </td><td>n               </td></tr>\n",
       "\t<tr><td>HPSI0813er-fpdr </td><td>fpdr            </td><td>male            </td><td>45-49           </td><td>                </td></tr>\n",
       "\t<tr><td>HPSI0813i-fpdr_1</td><td>fpdr            </td><td>male            </td><td>45-49           </td><td>n               </td></tr>\n",
       "</tbody>\n",
       "</table>\n"
      ],
      "text/latex": [
       "\\begin{tabular}{r|lllll}\n",
       " Public.name & Donor & Gender & Age & feederfree\\\\\n",
       "\\hline\n",
       "\t HPSI0813er-fpdk  & fpdk             & male             & 40-44            &                 \\\\\n",
       "\t HPSI0813i-fpdk\\_1 & fpdk               & male               & 40-44              & n                 \\\\\n",
       "\t HPSI0813i-fpdk\\_2 & fpdk               & male               & 40-44              & n                 \\\\\n",
       "\t HPSI0813i-fpdk\\_3 & fpdk               & male               & 40-44              & n                 \\\\\n",
       "\t HPSI0813er-fpdr  & fpdr             & male             & 45-49            &                 \\\\\n",
       "\t HPSI0813i-fpdr\\_1 & fpdr               & male               & 45-49              & n                 \\\\\n",
       "\\end{tabular}\n"
      ],
      "text/markdown": [
       "\n",
       "| Public.name | Donor | Gender | Age | feederfree |\n",
       "|---|---|---|---|---|\n",
       "| HPSI0813er-fpdk  | fpdk             | male             | 40-44            |                  |\n",
       "| HPSI0813i-fpdk_1 | fpdk             | male             | 40-44            | n                |\n",
       "| HPSI0813i-fpdk_2 | fpdk             | male             | 40-44            | n                |\n",
       "| HPSI0813i-fpdk_3 | fpdk             | male             | 40-44            | n                |\n",
       "| HPSI0813er-fpdr  | fpdr             | male             | 45-49            |                  |\n",
       "| HPSI0813i-fpdr_1 | fpdr             | male             | 45-49            | n                |\n",
       "\n"
      ],
      "text/plain": [
       "  Public.name      Donor Gender Age   feederfree\n",
       "1 HPSI0813er-fpdk  fpdk  male   40-44           \n",
       "2 HPSI0813i-fpdk_1 fpdk  male   40-44 n         \n",
       "3 HPSI0813i-fpdk_2 fpdk  male   40-44 n         \n",
       "4 HPSI0813i-fpdk_3 fpdk  male   40-44 n         \n",
       "5 HPSI0813er-fpdr  fpdr  male   45-49           \n",
       "6 HPSI0813i-fpdr_1 fpdr  male   45-49 n         "
      ]
     },
     "metadata": {},
     "output_type": "display_data"
    }
   ],
   "source": [
    "metadata_df = read.csv('/nfs/leia/research/stegle/dseaton/hipsci/singlecell_neuroseq/data/metadata/All_samples_list_CGaP_170628_overview_processed.txt',\n",
    "                         sep='\\t')\n",
    "\n",
    "head(metadata_df)"
   ]
  },
  {
   "cell_type": "code",
   "execution_count": 18,
   "metadata": {},
   "outputs": [
    {
     "data": {
      "text/html": [
       "<table>\n",
       "<thead><tr><th></th><th scope=col>Public.name</th><th scope=col>Donor</th><th scope=col>Gender</th><th scope=col>Age</th><th scope=col>feederfree</th></tr></thead>\n",
       "<tbody>\n",
       "\t<tr><th scope=row>1542</th><td>HPSI0813pf-mioj </td><td>mioj            </td><td>                </td><td>                </td><td>n               </td></tr>\n",
       "\t<tr><th scope=row>1543</th><td>HPSI0813i-mioj_1</td><td>mioj            </td><td>                </td><td>                </td><td>y               </td></tr>\n",
       "\t<tr><th scope=row>1544</th><td>HPSI0813i-mioj_4</td><td>mioj            </td><td>                </td><td>                </td><td>y               </td></tr>\n",
       "</tbody>\n",
       "</table>\n"
      ],
      "text/latex": [
       "\\begin{tabular}{r|lllll}\n",
       "  & Public.name & Donor & Gender & Age & feederfree\\\\\n",
       "\\hline\n",
       "\t1542 & HPSI0813pf-mioj  & mioj             &                  &                  & n               \\\\\n",
       "\t1543 & HPSI0813i-mioj\\_1 & mioj               &                    &                    & y                 \\\\\n",
       "\t1544 & HPSI0813i-mioj\\_4 & mioj               &                    &                    & y                 \\\\\n",
       "\\end{tabular}\n"
      ],
      "text/markdown": [
       "\n",
       "| <!--/--> | Public.name | Donor | Gender | Age | feederfree |\n",
       "|---|---|---|---|---|---|\n",
       "| 1542 | HPSI0813pf-mioj  | mioj             |                  |                  | n                |\n",
       "| 1543 | HPSI0813i-mioj_1 | mioj             |                  |                  | y                |\n",
       "| 1544 | HPSI0813i-mioj_4 | mioj             |                  |                  | y                |\n",
       "\n"
      ],
      "text/plain": [
       "     Public.name      Donor Gender Age feederfree\n",
       "1542 HPSI0813pf-mioj  mioj             n         \n",
       "1543 HPSI0813i-mioj_1 mioj             y         \n",
       "1544 HPSI0813i-mioj_4 mioj             y         "
      ]
     },
     "metadata": {},
     "output_type": "display_data"
    },
    {
     "data": {
      "text/html": [
       "<table>\n",
       "<thead><tr><th></th><th scope=col>Public.name</th><th scope=col>Donor</th><th scope=col>Gender</th><th scope=col>Age</th><th scope=col>feederfree</th></tr></thead>\n",
       "<tbody>\n",
       "\t<tr><th scope=row>1545</th><td>HPSI0613pf-oesx </td><td>oesx            </td><td>                </td><td>                </td><td>n               </td></tr>\n",
       "\t<tr><th scope=row>1546</th><td>HPSI0613i-oesx_3</td><td>oesx            </td><td>                </td><td>                </td><td>y               </td></tr>\n",
       "\t<tr><th scope=row>1547</th><td>HPSI0613i-oesx_5</td><td>oesx            </td><td>                </td><td>                </td><td>y               </td></tr>\n",
       "</tbody>\n",
       "</table>\n"
      ],
      "text/latex": [
       "\\begin{tabular}{r|lllll}\n",
       "  & Public.name & Donor & Gender & Age & feederfree\\\\\n",
       "\\hline\n",
       "\t1545 & HPSI0613pf-oesx  & oesx             &                  &                  & n               \\\\\n",
       "\t1546 & HPSI0613i-oesx\\_3 & oesx               &                    &                    & y                 \\\\\n",
       "\t1547 & HPSI0613i-oesx\\_5 & oesx               &                    &                    & y                 \\\\\n",
       "\\end{tabular}\n"
      ],
      "text/markdown": [
       "\n",
       "| <!--/--> | Public.name | Donor | Gender | Age | feederfree |\n",
       "|---|---|---|---|---|---|\n",
       "| 1545 | HPSI0613pf-oesx  | oesx             |                  |                  | n                |\n",
       "| 1546 | HPSI0613i-oesx_3 | oesx             |                  |                  | y                |\n",
       "| 1547 | HPSI0613i-oesx_5 | oesx             |                  |                  | y                |\n",
       "\n"
      ],
      "text/plain": [
       "     Public.name      Donor Gender Age feederfree\n",
       "1545 HPSI0613pf-oesx  oesx             n         \n",
       "1546 HPSI0613i-oesx_3 oesx             y         \n",
       "1547 HPSI0613i-oesx_5 oesx             y         "
      ]
     },
     "metadata": {},
     "output_type": "display_data"
    }
   ],
   "source": [
    "metadata_df[grep(\"mioj\",metadata_df$Public.name),]\n",
    "metadata_df[grep(\"oesx\",metadata_df$Public.name),]"
   ]
  },
  {
   "cell_type": "code",
   "execution_count": 3,
   "metadata": {},
   "outputs": [
    {
     "data": {
      "text/html": [
       "2011"
      ],
      "text/latex": [
       "2011"
      ],
      "text/markdown": [
       "2011"
      ],
      "text/plain": [
       "[1] 2011"
      ]
     },
     "metadata": {},
     "output_type": "display_data"
    }
   ],
   "source": [
    "nrow(metadata_df)"
   ]
  },
  {
   "cell_type": "code",
   "execution_count": 10,
   "metadata": {},
   "outputs": [
    {
     "data": {
      "text/html": [
       "213"
      ],
      "text/latex": [
       "213"
      ],
      "text/markdown": [
       "213"
      ],
      "text/plain": [
       "[1] 213"
      ]
     },
     "metadata": {},
     "output_type": "display_data"
    }
   ],
   "source": [
    "# coldata = read.csv(\"/hps/nobackup/stegle/users/acuomo/all_scripts/sc_neuroseq/coldata.csv\")\n",
    "# head(coldata)\n",
    "donors = unique(coldata$donor_id)\n",
    "length(donors)"
   ]
  },
  {
   "cell_type": "code",
   "execution_count": 21,
   "metadata": {},
   "outputs": [
    {
     "data": {
      "text/html": [
       "<ol class=list-inline>\n",
       "\t<li>HPSI0514i-sohd_2</li>\n",
       "\t<li>HPSI0314i-uict_1</li>\n",
       "\t<li>HPSI0115i-qecv_2</li>\n",
       "\t<li>HPSI0115i-pitg_2</li>\n",
       "</ol>\n",
       "\n",
       "<details>\n",
       "\t<summary style=display:list-item;cursor:pointer>\n",
       "\t\t<strong>Levels</strong>:\n",
       "\t</summary>\n",
       "\t<ol class=list-inline>\n",
       "\t\t<li>'HPSI0114i-bezi_3'</li>\n",
       "\t\t<li>'HPSI0114i-eipl_1'</li>\n",
       "\t\t<li>'HPSI0114i-fikt_3'</li>\n",
       "\t\t<li>'HPSI0114i-kolf_2'</li>\n",
       "\t\t<li>'HPSI0114i-lexy_2'</li>\n",
       "\t\t<li>'HPSI0114i-posc_1'</li>\n",
       "\t\t<li>'HPSI0114i-rozh_4'</li>\n",
       "\t\t<li>'HPSI0114i-vass_1'</li>\n",
       "\t\t<li>'HPSI0114i-wegi_1'</li>\n",
       "\t\t<li>'HPSI0114i-zapk_2'</li>\n",
       "\t\t<li>'HPSI0115i-aion_2'</li>\n",
       "\t\t<li>'HPSI0115i-aoxv_1'</li>\n",
       "\t\t<li>'HPSI0115i-bimq_4'</li>\n",
       "\t\t<li>'HPSI0115i-boqx_2'</li>\n",
       "\t\t<li>'HPSI0115i-gifk_1'</li>\n",
       "\t\t<li>'HPSI0115i-gost_2'</li>\n",
       "\t\t<li>'HPSI0115i-hecn_6'</li>\n",
       "\t\t<li>'HPSI0115i-iiyk_2'</li>\n",
       "\t\t<li>'HPSI0115i-iuad_2'</li>\n",
       "\t\t<li>'HPSI0115i-jakt_1'</li>\n",
       "\t\t<li>'HPSI0115i-jotn_2'</li>\n",
       "\t\t<li>'HPSI0115i-kozf_1'</li>\n",
       "\t\t<li>'HPSI0115i-melw_1'</li>\n",
       "\t\t<li>'HPSI0115i-paim_1'</li>\n",
       "\t\t<li>'HPSI0115i-pitg_2'</li>\n",
       "\t\t<li>'HPSI0115i-qecv_2'</li>\n",
       "\t\t<li>'HPSI0115i-quze_6'</li>\n",
       "\t\t<li>'HPSI0115i-sehp_2'</li>\n",
       "\t\t<li>'HPSI0115i-tiku_3'</li>\n",
       "\t\t<li>'HPSI0115i-timk_4'</li>\n",
       "\t\t<li>'HPSI0115i-uupc_2'</li>\n",
       "\t\t<li>'HPSI0115i-zihe_1'</li>\n",
       "\t\t<li>'HPSI0213i-nawk_55'</li>\n",
       "\t\t<li>'HPSI0214i-datg_2'</li>\n",
       "\t\t<li>'HPSI0214i-eiwy_1'</li>\n",
       "\t\t<li>'HPSI0214i-feec_2'</li>\n",
       "\t\t<li>'HPSI0214i-giju_3'</li>\n",
       "\t\t<li>'HPSI0214i-heth_1'</li>\n",
       "\t\t<li>'HPSI0214i-kucg_2'</li>\n",
       "\t\t<li>'HPSI0214i-pelm_3'</li>\n",
       "\t\t<li>'HPSI0214i-poih_2'</li>\n",
       "\t\t<li>'HPSI0214i-rayr_1'</li>\n",
       "\t\t<li>'HPSI0215i-deyz_2'</li>\n",
       "\t\t<li>'HPSI0215i-fawm_2'</li>\n",
       "\t\t<li>'HPSI0215i-hipn_1'</li>\n",
       "\t\t<li>'HPSI0215i-oilg_1'</li>\n",
       "\t\t<li>'HPSI0215i-romx_1'</li>\n",
       "\t\t<li>'HPSI0215i-uiao_2'</li>\n",
       "\t\t<li>'HPSI0215i-yoch_6'</li>\n",
       "\t\t<li>'HPSI0215i-zett_5'</li>\n",
       "\t\t<li>'HPSI0314i-bubh_3'</li>\n",
       "\t\t<li>'HPSI0314i-cuhk_2'</li>\n",
       "\t\t<li>'HPSI0314i-hoik_1'</li>\n",
       "\t\t<li>'HPSI0314i-qaqx_1'</li>\n",
       "\t\t<li>'HPSI0314i-sojd_3'</li>\n",
       "\t\t<li>'HPSI0314i-uict_1'</li>\n",
       "\t\t<li>'HPSI0314i-wigw_2'</li>\n",
       "\t\t<li>'HPSI0314i-xagu_1'</li>\n",
       "\t\t<li>'HPSI0314i-xugn_2'</li>\n",
       "\t\t<li>'HPSI0413i-corn_1'</li>\n",
       "\t\t<li>'HPSI0413i-coxy_33'</li>\n",
       "\t\t<li>'HPSI0413i-nudd_1'</li>\n",
       "\t\t<li>'HPSI0413i-peop_4'</li>\n",
       "\t\t<li>'HPSI0413i-yotv_2'</li>\n",
       "\t\t<li>'HPSI0414i-ceik_1'</li>\n",
       "\t\t<li>'HPSI0414i-gesg_2'</li>\n",
       "\t\t<li>'HPSI0414i-mita_1'</li>\n",
       "\t\t<li>'HPSI0414i-oaqd_2'</li>\n",
       "\t\t<li>'HPSI0414i-sebn_3'</li>\n",
       "\t\t<li>'HPSI0414i-seru_1'</li>\n",
       "\t\t<li>'HPSI0414i-uawq_2'</li>\n",
       "\t\t<li>'HPSI0414i-voqc_2'</li>\n",
       "\t\t<li>'HPSI0414i-xojn_3'</li>\n",
       "\t\t<li>'HPSI0513i-aipt_33'</li>\n",
       "\t\t<li>'HPSI0513i-debk_9'</li>\n",
       "\t\t<li>'HPSI0513i-dipe_1'</li>\n",
       "\t\t<li>'HPSI0513i-dulv_1'</li>\n",
       "\t\t<li>'HPSI0513i-fejf_2'</li>\n",
       "\t\t<li>'HPSI0513i-giuf_1'</li>\n",
       "\t\t<li>'HPSI0513i-momt_2'</li>\n",
       "\t\t<li>'HPSI0513i-oarz_22'</li>\n",
       "\t\t<li>'HPSI0513i-oibg_1'</li>\n",
       "\t\t<li>'HPSI0513i-pedc_1'</li>\n",
       "\t\t<li>'HPSI0513i-sucd_3'</li>\n",
       "\t\t<li>'HPSI0513i-suzg_3'</li>\n",
       "\t\t<li>'HPSI0513i-uoxz_4'</li>\n",
       "\t\t<li>'HPSI0513i-veve_2'</li>\n",
       "\t\t<li>'HPSI0514i-fiaj_1'</li>\n",
       "\t\t<li>'HPSI0514i-lako_1'</li>\n",
       "\t\t<li>'HPSI0514i-letw_1'</li>\n",
       "\t\t<li>'HPSI0514i-naah_2'</li>\n",
       "\t\t<li>'HPSI0514i-oekw_2'</li>\n",
       "\t\t<li>'HPSI0514i-oupf_6'</li>\n",
       "\t\t<li>'HPSI0514i-puie_4'</li>\n",
       "\t\t<li>'HPSI0514i-qihv_1'</li>\n",
       "\t\t<li>'HPSI0514i-rutc_2'</li>\n",
       "\t\t<li>'HPSI0514i-sohd_2'</li>\n",
       "\t\t<li>'HPSI0514i-suul_1'</li>\n",
       "\t\t<li>'HPSI0514i-tert_1'</li>\n",
       "\t\t<li>'HPSI0514i-uenn_3'</li>\n",
       "\t\t<li>'HPSI0514i-wiii_3'</li>\n",
       "\t\t<li>'HPSI0514i-yewo_4'</li>\n",
       "\t\t<li>'HPSI0613i-aevs_1'</li>\n",
       "\t\t<li>'HPSI0613i-bawa_1'</li>\n",
       "\t\t<li>'HPSI0613i-bohf_1'</li>\n",
       "\t\t<li>'HPSI0613i-eojr_2'</li>\n",
       "\t\t<li>'HPSI0613i-hegp_3'</li>\n",
       "\t\t<li>'HPSI0613i-hikj_2'</li>\n",
       "\t\t<li>'HPSI0613i-liun_22'</li>\n",
       "\t\t<li>'HPSI0613i-lizq_3'</li>\n",
       "\t\t<li>'HPSI0613i-nukw_1'</li>\n",
       "\t\t<li>'HPSI0613i-oesx_3'</li>\n",
       "\t\t<li>'HPSI0613i-oomz_22'</li>\n",
       "\t\t<li>'HPSI0613i-qanu_1'</li>\n",
       "\t\t<li>'HPSI0613i-qony_1'</li>\n",
       "\t\t<li>'HPSI0613i-ueah_4'</li>\n",
       "\t\t<li>'HPSI0613i-xavk_3'</li>\n",
       "\t\t<li>'HPSI0614i-juzt_4'</li>\n",
       "\t\t<li>'HPSI0614i-liqa_1'</li>\n",
       "\t\t<li>'HPSI0614i-lirf_5'</li>\n",
       "\t\t<li>'HPSI0614i-miaj_4'</li>\n",
       "\t\t<li>'HPSI0614i-oicx_2'</li>\n",
       "\t\t<li>'HPSI0614i-paab_3'</li>\n",
       "\t\t<li>'HPSI0614i-puhk_2'</li>\n",
       "\t\t<li>'HPSI0614i-qunz_2'</li>\n",
       "\t\t<li>'HPSI0614i-uevq_6'</li>\n",
       "\t\t<li>'HPSI0614i-voce_1'</li>\n",
       "\t\t<li>'HPSI0614i-wihj_4'</li>\n",
       "\t\t<li>'HPSI0614i-xubw_1'</li>\n",
       "\t\t<li>'HPSI0713i-aehn_22'</li>\n",
       "\t\t<li>'HPSI0713i-dard_1'</li>\n",
       "\t\t<li>'HPSI0713i-fett_3'</li>\n",
       "\t\t<li>'HPSI0713i-nemb_1'</li>\n",
       "\t\t<li>'HPSI0713i-nocf_2'</li>\n",
       "\t\t<li>'HPSI0713i-pusf_3'</li>\n",
       "\t\t<li>'HPSI0713i-terl_1'</li>\n",
       "\t\t<li>'HPSI0713i-uimo_1'</li>\n",
       "\t\t<li>'HPSI0713i-veku_2'</li>\n",
       "\t\t<li>'HPSI0713i-wiol_1'</li>\n",
       "\t\t<li>'HPSI0714i-burb_1'</li>\n",
       "\t\t<li>'HPSI0714i-iudw_1'</li>\n",
       "\t\t<li>'HPSI0714i-jilk_4'</li>\n",
       "\t\t<li>'HPSI0714i-keui_4'</li>\n",
       "\t\t<li>'HPSI0714i-kute_5'</li>\n",
       "\t\t<li>'HPSI0714i-oatm_1'</li>\n",
       "\t\t<li>'HPSI0714i-pipw_4'</li>\n",
       "\t\t<li>'HPSI0715i-aowh_2'</li>\n",
       "\t\t<li>'HPSI0715i-meue_5'</li>\n",
       "\t\t<li>'HPSI0715i-zaie_5'</li>\n",
       "\t\t<li>'HPSI0813i-aizi_3'</li>\n",
       "\t\t<li>'HPSI0813i-civh_1'</li>\n",
       "\t\t<li>'HPSI0813i-ffdc_1'</li>\n",
       "\t\t<li>'HPSI0813i-guss_1'</li>\n",
       "\t\t<li>'HPSI0813i-iill_3'</li>\n",
       "\t\t<li>'HPSI0813i-mioj_1'</li>\n",
       "\t\t<li>'HPSI0813i-peoj_1'</li>\n",
       "\t\t<li>'HPSI0813i-uaqe_1'</li>\n",
       "\t\t<li>'HPSI0813i-vajx_2'</li>\n",
       "\t\t<li>'HPSI0813i-wots_3'</li>\n",
       "\t\t<li>'HPSI0813i-zexw_3'</li>\n",
       "\t\t<li>'HPSI0814i-bokz_6'</li>\n",
       "\t\t<li>'HPSI0814i-doao_1'</li>\n",
       "\t\t<li>'HPSI0814i-siqu_4'</li>\n",
       "\t\t<li>'HPSI0913i-eika_2'</li>\n",
       "\t\t<li>'HPSI0913i-eorc_2'</li>\n",
       "\t\t<li>'HPSI0913i-iuqb_1'</li>\n",
       "\t\t<li>'HPSI0913i-lise_1'</li>\n",
       "\t\t<li>'HPSI0913i-ruql_3'</li>\n",
       "\t\t<li>'HPSI0914i-euts_3'</li>\n",
       "\t\t<li>'HPSI0914i-iezw_2'</li>\n",
       "\t\t<li>'HPSI0914i-jejf_2'</li>\n",
       "\t\t<li>'HPSI0914i-kajh_2'</li>\n",
       "\t\t<li>'HPSI0914i-laey_6'</li>\n",
       "\t\t<li>'HPSI0914i-ouvb_2'</li>\n",
       "\t\t<li>'HPSI0914i-rejf_2'</li>\n",
       "\t\t<li>'HPSI0914i-suop_5'</li>\n",
       "\t\t<li>'HPSI0914i-vaka_5'</li>\n",
       "\t\t<li>'HPSI0914i-yuvg_2'</li>\n",
       "\t\t<li>'HPSI0914i-zerv_7'</li>\n",
       "\t\t<li>'HPSI1013i-garx_2'</li>\n",
       "\t\t<li>'HPSI1013i-hiaf_1'</li>\n",
       "\t\t<li>'HPSI1013i-jogf_2'</li>\n",
       "\t\t<li>'HPSI1013i-jufd_3'</li>\n",
       "\t\t<li>'HPSI1013i-kuxp_1'</li>\n",
       "\t\t<li>'HPSI1013i-sita_1'</li>\n",
       "\t\t<li>'HPSI1013i-woci_1'</li>\n",
       "\t\t<li>'HPSI1013i-wopl_2'</li>\n",
       "\t\t<li>'HPSI1013i-zagm_1'</li>\n",
       "\t\t<li>'HPSI1014i-babz_3'</li>\n",
       "\t\t<li>'HPSI1014i-bilx_1'</li>\n",
       "\t\t<li>'HPSI1014i-boss_1'</li>\n",
       "\t\t<li>'HPSI1014i-eesb_1'</li>\n",
       "\t\t<li>'HPSI1014i-kefb_1'</li>\n",
       "\t\t<li>'HPSI1014i-nosn_1'</li>\n",
       "\t\t<li>'HPSI1014i-qayj_4'</li>\n",
       "\t\t<li>'HPSI1014i-quls_2'</li>\n",
       "\t\t<li>'HPSI1014i-roug_3'</li>\n",
       "\t\t<li>'HPSI1014i-sehl_6'</li>\n",
       "\t\t<li>'HPSI1014i-tixi_4'</li>\n",
       "\t\t<li>'HPSI1014i-tuju_1'</li>\n",
       "\t\t<li>'HPSI1014i-vils_1'</li>\n",
       "\t\t<li>'HPSI1113i-bima_1'</li>\n",
       "\t\t<li>'HPSI1113i-hayt_3'</li>\n",
       "\t\t<li>'HPSI1113i-ieki_3'</li>\n",
       "\t\t<li>'HPSI1113i-podx_1'</li>\n",
       "\t\t<li>'HPSI1113i-qolg_1'</li>\n",
       "\t\t<li>'HPSI1113i-qorq_1'</li>\n",
       "\t\t<li>'HPSI1113i-vuud_2'</li>\n",
       "\t\t<li>'HPSI1114i-kuul_1'</li>\n",
       "\t\t<li>'HPSI1114i-ualf_6'</li>\n",
       "\t\t<li>'HPSI1114i-zuuy_4'</li>\n",
       "\t\t<li>'HPSI1213i-hehd_1'</li>\n",
       "\t\t<li>'HPSI1213i-tolg_4'</li>\n",
       "\t</ol>\n",
       "</details>"
      ],
      "text/latex": [
       "\\begin{enumerate*}\n",
       "\\item HPSI0514i-sohd\\_2\n",
       "\\item HPSI0314i-uict\\_1\n",
       "\\item HPSI0115i-qecv\\_2\n",
       "\\item HPSI0115i-pitg\\_2\n",
       "\\end{enumerate*}\n",
       "\n",
       "\\emph{Levels}: \\begin{enumerate*}\n",
       "\\item 'HPSI0114i-bezi\\_3'\n",
       "\\item 'HPSI0114i-eipl\\_1'\n",
       "\\item 'HPSI0114i-fikt\\_3'\n",
       "\\item 'HPSI0114i-kolf\\_2'\n",
       "\\item 'HPSI0114i-lexy\\_2'\n",
       "\\item 'HPSI0114i-posc\\_1'\n",
       "\\item 'HPSI0114i-rozh\\_4'\n",
       "\\item 'HPSI0114i-vass\\_1'\n",
       "\\item 'HPSI0114i-wegi\\_1'\n",
       "\\item 'HPSI0114i-zapk\\_2'\n",
       "\\item 'HPSI0115i-aion\\_2'\n",
       "\\item 'HPSI0115i-aoxv\\_1'\n",
       "\\item 'HPSI0115i-bimq\\_4'\n",
       "\\item 'HPSI0115i-boqx\\_2'\n",
       "\\item 'HPSI0115i-gifk\\_1'\n",
       "\\item 'HPSI0115i-gost\\_2'\n",
       "\\item 'HPSI0115i-hecn\\_6'\n",
       "\\item 'HPSI0115i-iiyk\\_2'\n",
       "\\item 'HPSI0115i-iuad\\_2'\n",
       "\\item 'HPSI0115i-jakt\\_1'\n",
       "\\item 'HPSI0115i-jotn\\_2'\n",
       "\\item 'HPSI0115i-kozf\\_1'\n",
       "\\item 'HPSI0115i-melw\\_1'\n",
       "\\item 'HPSI0115i-paim\\_1'\n",
       "\\item 'HPSI0115i-pitg\\_2'\n",
       "\\item 'HPSI0115i-qecv\\_2'\n",
       "\\item 'HPSI0115i-quze\\_6'\n",
       "\\item 'HPSI0115i-sehp\\_2'\n",
       "\\item 'HPSI0115i-tiku\\_3'\n",
       "\\item 'HPSI0115i-timk\\_4'\n",
       "\\item 'HPSI0115i-uupc\\_2'\n",
       "\\item 'HPSI0115i-zihe\\_1'\n",
       "\\item 'HPSI0213i-nawk\\_55'\n",
       "\\item 'HPSI0214i-datg\\_2'\n",
       "\\item 'HPSI0214i-eiwy\\_1'\n",
       "\\item 'HPSI0214i-feec\\_2'\n",
       "\\item 'HPSI0214i-giju\\_3'\n",
       "\\item 'HPSI0214i-heth\\_1'\n",
       "\\item 'HPSI0214i-kucg\\_2'\n",
       "\\item 'HPSI0214i-pelm\\_3'\n",
       "\\item 'HPSI0214i-poih\\_2'\n",
       "\\item 'HPSI0214i-rayr\\_1'\n",
       "\\item 'HPSI0215i-deyz\\_2'\n",
       "\\item 'HPSI0215i-fawm\\_2'\n",
       "\\item 'HPSI0215i-hipn\\_1'\n",
       "\\item 'HPSI0215i-oilg\\_1'\n",
       "\\item 'HPSI0215i-romx\\_1'\n",
       "\\item 'HPSI0215i-uiao\\_2'\n",
       "\\item 'HPSI0215i-yoch\\_6'\n",
       "\\item 'HPSI0215i-zett\\_5'\n",
       "\\item 'HPSI0314i-bubh\\_3'\n",
       "\\item 'HPSI0314i-cuhk\\_2'\n",
       "\\item 'HPSI0314i-hoik\\_1'\n",
       "\\item 'HPSI0314i-qaqx\\_1'\n",
       "\\item 'HPSI0314i-sojd\\_3'\n",
       "\\item 'HPSI0314i-uict\\_1'\n",
       "\\item 'HPSI0314i-wigw\\_2'\n",
       "\\item 'HPSI0314i-xagu\\_1'\n",
       "\\item 'HPSI0314i-xugn\\_2'\n",
       "\\item 'HPSI0413i-corn\\_1'\n",
       "\\item 'HPSI0413i-coxy\\_33'\n",
       "\\item 'HPSI0413i-nudd\\_1'\n",
       "\\item 'HPSI0413i-peop\\_4'\n",
       "\\item 'HPSI0413i-yotv\\_2'\n",
       "\\item 'HPSI0414i-ceik\\_1'\n",
       "\\item 'HPSI0414i-gesg\\_2'\n",
       "\\item 'HPSI0414i-mita\\_1'\n",
       "\\item 'HPSI0414i-oaqd\\_2'\n",
       "\\item 'HPSI0414i-sebn\\_3'\n",
       "\\item 'HPSI0414i-seru\\_1'\n",
       "\\item 'HPSI0414i-uawq\\_2'\n",
       "\\item 'HPSI0414i-voqc\\_2'\n",
       "\\item 'HPSI0414i-xojn\\_3'\n",
       "\\item 'HPSI0513i-aipt\\_33'\n",
       "\\item 'HPSI0513i-debk\\_9'\n",
       "\\item 'HPSI0513i-dipe\\_1'\n",
       "\\item 'HPSI0513i-dulv\\_1'\n",
       "\\item 'HPSI0513i-fejf\\_2'\n",
       "\\item 'HPSI0513i-giuf\\_1'\n",
       "\\item 'HPSI0513i-momt\\_2'\n",
       "\\item 'HPSI0513i-oarz\\_22'\n",
       "\\item 'HPSI0513i-oibg\\_1'\n",
       "\\item 'HPSI0513i-pedc\\_1'\n",
       "\\item 'HPSI0513i-sucd\\_3'\n",
       "\\item 'HPSI0513i-suzg\\_3'\n",
       "\\item 'HPSI0513i-uoxz\\_4'\n",
       "\\item 'HPSI0513i-veve\\_2'\n",
       "\\item 'HPSI0514i-fiaj\\_1'\n",
       "\\item 'HPSI0514i-lako\\_1'\n",
       "\\item 'HPSI0514i-letw\\_1'\n",
       "\\item 'HPSI0514i-naah\\_2'\n",
       "\\item 'HPSI0514i-oekw\\_2'\n",
       "\\item 'HPSI0514i-oupf\\_6'\n",
       "\\item 'HPSI0514i-puie\\_4'\n",
       "\\item 'HPSI0514i-qihv\\_1'\n",
       "\\item 'HPSI0514i-rutc\\_2'\n",
       "\\item 'HPSI0514i-sohd\\_2'\n",
       "\\item 'HPSI0514i-suul\\_1'\n",
       "\\item 'HPSI0514i-tert\\_1'\n",
       "\\item 'HPSI0514i-uenn\\_3'\n",
       "\\item 'HPSI0514i-wiii\\_3'\n",
       "\\item 'HPSI0514i-yewo\\_4'\n",
       "\\item 'HPSI0613i-aevs\\_1'\n",
       "\\item 'HPSI0613i-bawa\\_1'\n",
       "\\item 'HPSI0613i-bohf\\_1'\n",
       "\\item 'HPSI0613i-eojr\\_2'\n",
       "\\item 'HPSI0613i-hegp\\_3'\n",
       "\\item 'HPSI0613i-hikj\\_2'\n",
       "\\item 'HPSI0613i-liun\\_22'\n",
       "\\item 'HPSI0613i-lizq\\_3'\n",
       "\\item 'HPSI0613i-nukw\\_1'\n",
       "\\item 'HPSI0613i-oesx\\_3'\n",
       "\\item 'HPSI0613i-oomz\\_22'\n",
       "\\item 'HPSI0613i-qanu\\_1'\n",
       "\\item 'HPSI0613i-qony\\_1'\n",
       "\\item 'HPSI0613i-ueah\\_4'\n",
       "\\item 'HPSI0613i-xavk\\_3'\n",
       "\\item 'HPSI0614i-juzt\\_4'\n",
       "\\item 'HPSI0614i-liqa\\_1'\n",
       "\\item 'HPSI0614i-lirf\\_5'\n",
       "\\item 'HPSI0614i-miaj\\_4'\n",
       "\\item 'HPSI0614i-oicx\\_2'\n",
       "\\item 'HPSI0614i-paab\\_3'\n",
       "\\item 'HPSI0614i-puhk\\_2'\n",
       "\\item 'HPSI0614i-qunz\\_2'\n",
       "\\item 'HPSI0614i-uevq\\_6'\n",
       "\\item 'HPSI0614i-voce\\_1'\n",
       "\\item 'HPSI0614i-wihj\\_4'\n",
       "\\item 'HPSI0614i-xubw\\_1'\n",
       "\\item 'HPSI0713i-aehn\\_22'\n",
       "\\item 'HPSI0713i-dard\\_1'\n",
       "\\item 'HPSI0713i-fett\\_3'\n",
       "\\item 'HPSI0713i-nemb\\_1'\n",
       "\\item 'HPSI0713i-nocf\\_2'\n",
       "\\item 'HPSI0713i-pusf\\_3'\n",
       "\\item 'HPSI0713i-terl\\_1'\n",
       "\\item 'HPSI0713i-uimo\\_1'\n",
       "\\item 'HPSI0713i-veku\\_2'\n",
       "\\item 'HPSI0713i-wiol\\_1'\n",
       "\\item 'HPSI0714i-burb\\_1'\n",
       "\\item 'HPSI0714i-iudw\\_1'\n",
       "\\item 'HPSI0714i-jilk\\_4'\n",
       "\\item 'HPSI0714i-keui\\_4'\n",
       "\\item 'HPSI0714i-kute\\_5'\n",
       "\\item 'HPSI0714i-oatm\\_1'\n",
       "\\item 'HPSI0714i-pipw\\_4'\n",
       "\\item 'HPSI0715i-aowh\\_2'\n",
       "\\item 'HPSI0715i-meue\\_5'\n",
       "\\item 'HPSI0715i-zaie\\_5'\n",
       "\\item 'HPSI0813i-aizi\\_3'\n",
       "\\item 'HPSI0813i-civh\\_1'\n",
       "\\item 'HPSI0813i-ffdc\\_1'\n",
       "\\item 'HPSI0813i-guss\\_1'\n",
       "\\item 'HPSI0813i-iill\\_3'\n",
       "\\item 'HPSI0813i-mioj\\_1'\n",
       "\\item 'HPSI0813i-peoj\\_1'\n",
       "\\item 'HPSI0813i-uaqe\\_1'\n",
       "\\item 'HPSI0813i-vajx\\_2'\n",
       "\\item 'HPSI0813i-wots\\_3'\n",
       "\\item 'HPSI0813i-zexw\\_3'\n",
       "\\item 'HPSI0814i-bokz\\_6'\n",
       "\\item 'HPSI0814i-doao\\_1'\n",
       "\\item 'HPSI0814i-siqu\\_4'\n",
       "\\item 'HPSI0913i-eika\\_2'\n",
       "\\item 'HPSI0913i-eorc\\_2'\n",
       "\\item 'HPSI0913i-iuqb\\_1'\n",
       "\\item 'HPSI0913i-lise\\_1'\n",
       "\\item 'HPSI0913i-ruql\\_3'\n",
       "\\item 'HPSI0914i-euts\\_3'\n",
       "\\item 'HPSI0914i-iezw\\_2'\n",
       "\\item 'HPSI0914i-jejf\\_2'\n",
       "\\item 'HPSI0914i-kajh\\_2'\n",
       "\\item 'HPSI0914i-laey\\_6'\n",
       "\\item 'HPSI0914i-ouvb\\_2'\n",
       "\\item 'HPSI0914i-rejf\\_2'\n",
       "\\item 'HPSI0914i-suop\\_5'\n",
       "\\item 'HPSI0914i-vaka\\_5'\n",
       "\\item 'HPSI0914i-yuvg\\_2'\n",
       "\\item 'HPSI0914i-zerv\\_7'\n",
       "\\item 'HPSI1013i-garx\\_2'\n",
       "\\item 'HPSI1013i-hiaf\\_1'\n",
       "\\item 'HPSI1013i-jogf\\_2'\n",
       "\\item 'HPSI1013i-jufd\\_3'\n",
       "\\item 'HPSI1013i-kuxp\\_1'\n",
       "\\item 'HPSI1013i-sita\\_1'\n",
       "\\item 'HPSI1013i-woci\\_1'\n",
       "\\item 'HPSI1013i-wopl\\_2'\n",
       "\\item 'HPSI1013i-zagm\\_1'\n",
       "\\item 'HPSI1014i-babz\\_3'\n",
       "\\item 'HPSI1014i-bilx\\_1'\n",
       "\\item 'HPSI1014i-boss\\_1'\n",
       "\\item 'HPSI1014i-eesb\\_1'\n",
       "\\item 'HPSI1014i-kefb\\_1'\n",
       "\\item 'HPSI1014i-nosn\\_1'\n",
       "\\item 'HPSI1014i-qayj\\_4'\n",
       "\\item 'HPSI1014i-quls\\_2'\n",
       "\\item 'HPSI1014i-roug\\_3'\n",
       "\\item 'HPSI1014i-sehl\\_6'\n",
       "\\item 'HPSI1014i-tixi\\_4'\n",
       "\\item 'HPSI1014i-tuju\\_1'\n",
       "\\item 'HPSI1014i-vils\\_1'\n",
       "\\item 'HPSI1113i-bima\\_1'\n",
       "\\item 'HPSI1113i-hayt\\_3'\n",
       "\\item 'HPSI1113i-ieki\\_3'\n",
       "\\item 'HPSI1113i-podx\\_1'\n",
       "\\item 'HPSI1113i-qolg\\_1'\n",
       "\\item 'HPSI1113i-qorq\\_1'\n",
       "\\item 'HPSI1113i-vuud\\_2'\n",
       "\\item 'HPSI1114i-kuul\\_1'\n",
       "\\item 'HPSI1114i-ualf\\_6'\n",
       "\\item 'HPSI1114i-zuuy\\_4'\n",
       "\\item 'HPSI1213i-hehd\\_1'\n",
       "\\item 'HPSI1213i-tolg\\_4'\n",
       "\\end{enumerate*}\n"
      ],
      "text/markdown": [
       "1. HPSI0514i-sohd_2\n",
       "2. HPSI0314i-uict_1\n",
       "3. HPSI0115i-qecv_2\n",
       "4. HPSI0115i-pitg_2\n",
       "\n",
       "\n",
       "\n",
       "**Levels**: 1. 'HPSI0114i-bezi_3'\n",
       "2. 'HPSI0114i-eipl_1'\n",
       "3. 'HPSI0114i-fikt_3'\n",
       "4. 'HPSI0114i-kolf_2'\n",
       "5. 'HPSI0114i-lexy_2'\n",
       "6. 'HPSI0114i-posc_1'\n",
       "7. 'HPSI0114i-rozh_4'\n",
       "8. 'HPSI0114i-vass_1'\n",
       "9. 'HPSI0114i-wegi_1'\n",
       "10. 'HPSI0114i-zapk_2'\n",
       "11. 'HPSI0115i-aion_2'\n",
       "12. 'HPSI0115i-aoxv_1'\n",
       "13. 'HPSI0115i-bimq_4'\n",
       "14. 'HPSI0115i-boqx_2'\n",
       "15. 'HPSI0115i-gifk_1'\n",
       "16. 'HPSI0115i-gost_2'\n",
       "17. 'HPSI0115i-hecn_6'\n",
       "18. 'HPSI0115i-iiyk_2'\n",
       "19. 'HPSI0115i-iuad_2'\n",
       "20. 'HPSI0115i-jakt_1'\n",
       "21. 'HPSI0115i-jotn_2'\n",
       "22. 'HPSI0115i-kozf_1'\n",
       "23. 'HPSI0115i-melw_1'\n",
       "24. 'HPSI0115i-paim_1'\n",
       "25. 'HPSI0115i-pitg_2'\n",
       "26. 'HPSI0115i-qecv_2'\n",
       "27. 'HPSI0115i-quze_6'\n",
       "28. 'HPSI0115i-sehp_2'\n",
       "29. 'HPSI0115i-tiku_3'\n",
       "30. 'HPSI0115i-timk_4'\n",
       "31. 'HPSI0115i-uupc_2'\n",
       "32. 'HPSI0115i-zihe_1'\n",
       "33. 'HPSI0213i-nawk_55'\n",
       "34. 'HPSI0214i-datg_2'\n",
       "35. 'HPSI0214i-eiwy_1'\n",
       "36. 'HPSI0214i-feec_2'\n",
       "37. 'HPSI0214i-giju_3'\n",
       "38. 'HPSI0214i-heth_1'\n",
       "39. 'HPSI0214i-kucg_2'\n",
       "40. 'HPSI0214i-pelm_3'\n",
       "41. 'HPSI0214i-poih_2'\n",
       "42. 'HPSI0214i-rayr_1'\n",
       "43. 'HPSI0215i-deyz_2'\n",
       "44. 'HPSI0215i-fawm_2'\n",
       "45. 'HPSI0215i-hipn_1'\n",
       "46. 'HPSI0215i-oilg_1'\n",
       "47. 'HPSI0215i-romx_1'\n",
       "48. 'HPSI0215i-uiao_2'\n",
       "49. 'HPSI0215i-yoch_6'\n",
       "50. 'HPSI0215i-zett_5'\n",
       "51. 'HPSI0314i-bubh_3'\n",
       "52. 'HPSI0314i-cuhk_2'\n",
       "53. 'HPSI0314i-hoik_1'\n",
       "54. 'HPSI0314i-qaqx_1'\n",
       "55. 'HPSI0314i-sojd_3'\n",
       "56. 'HPSI0314i-uict_1'\n",
       "57. 'HPSI0314i-wigw_2'\n",
       "58. 'HPSI0314i-xagu_1'\n",
       "59. 'HPSI0314i-xugn_2'\n",
       "60. 'HPSI0413i-corn_1'\n",
       "61. 'HPSI0413i-coxy_33'\n",
       "62. 'HPSI0413i-nudd_1'\n",
       "63. 'HPSI0413i-peop_4'\n",
       "64. 'HPSI0413i-yotv_2'\n",
       "65. 'HPSI0414i-ceik_1'\n",
       "66. 'HPSI0414i-gesg_2'\n",
       "67. 'HPSI0414i-mita_1'\n",
       "68. 'HPSI0414i-oaqd_2'\n",
       "69. 'HPSI0414i-sebn_3'\n",
       "70. 'HPSI0414i-seru_1'\n",
       "71. 'HPSI0414i-uawq_2'\n",
       "72. 'HPSI0414i-voqc_2'\n",
       "73. 'HPSI0414i-xojn_3'\n",
       "74. 'HPSI0513i-aipt_33'\n",
       "75. 'HPSI0513i-debk_9'\n",
       "76. 'HPSI0513i-dipe_1'\n",
       "77. 'HPSI0513i-dulv_1'\n",
       "78. 'HPSI0513i-fejf_2'\n",
       "79. 'HPSI0513i-giuf_1'\n",
       "80. 'HPSI0513i-momt_2'\n",
       "81. 'HPSI0513i-oarz_22'\n",
       "82. 'HPSI0513i-oibg_1'\n",
       "83. 'HPSI0513i-pedc_1'\n",
       "84. 'HPSI0513i-sucd_3'\n",
       "85. 'HPSI0513i-suzg_3'\n",
       "86. 'HPSI0513i-uoxz_4'\n",
       "87. 'HPSI0513i-veve_2'\n",
       "88. 'HPSI0514i-fiaj_1'\n",
       "89. 'HPSI0514i-lako_1'\n",
       "90. 'HPSI0514i-letw_1'\n",
       "91. 'HPSI0514i-naah_2'\n",
       "92. 'HPSI0514i-oekw_2'\n",
       "93. 'HPSI0514i-oupf_6'\n",
       "94. 'HPSI0514i-puie_4'\n",
       "95. 'HPSI0514i-qihv_1'\n",
       "96. 'HPSI0514i-rutc_2'\n",
       "97. 'HPSI0514i-sohd_2'\n",
       "98. 'HPSI0514i-suul_1'\n",
       "99. 'HPSI0514i-tert_1'\n",
       "100. 'HPSI0514i-uenn_3'\n",
       "101. 'HPSI0514i-wiii_3'\n",
       "102. 'HPSI0514i-yewo_4'\n",
       "103. 'HPSI0613i-aevs_1'\n",
       "104. 'HPSI0613i-bawa_1'\n",
       "105. 'HPSI0613i-bohf_1'\n",
       "106. 'HPSI0613i-eojr_2'\n",
       "107. 'HPSI0613i-hegp_3'\n",
       "108. 'HPSI0613i-hikj_2'\n",
       "109. 'HPSI0613i-liun_22'\n",
       "110. 'HPSI0613i-lizq_3'\n",
       "111. 'HPSI0613i-nukw_1'\n",
       "112. 'HPSI0613i-oesx_3'\n",
       "113. 'HPSI0613i-oomz_22'\n",
       "114. 'HPSI0613i-qanu_1'\n",
       "115. 'HPSI0613i-qony_1'\n",
       "116. 'HPSI0613i-ueah_4'\n",
       "117. 'HPSI0613i-xavk_3'\n",
       "118. 'HPSI0614i-juzt_4'\n",
       "119. 'HPSI0614i-liqa_1'\n",
       "120. 'HPSI0614i-lirf_5'\n",
       "121. 'HPSI0614i-miaj_4'\n",
       "122. 'HPSI0614i-oicx_2'\n",
       "123. 'HPSI0614i-paab_3'\n",
       "124. 'HPSI0614i-puhk_2'\n",
       "125. 'HPSI0614i-qunz_2'\n",
       "126. 'HPSI0614i-uevq_6'\n",
       "127. 'HPSI0614i-voce_1'\n",
       "128. 'HPSI0614i-wihj_4'\n",
       "129. 'HPSI0614i-xubw_1'\n",
       "130. 'HPSI0713i-aehn_22'\n",
       "131. 'HPSI0713i-dard_1'\n",
       "132. 'HPSI0713i-fett_3'\n",
       "133. 'HPSI0713i-nemb_1'\n",
       "134. 'HPSI0713i-nocf_2'\n",
       "135. 'HPSI0713i-pusf_3'\n",
       "136. 'HPSI0713i-terl_1'\n",
       "137. 'HPSI0713i-uimo_1'\n",
       "138. 'HPSI0713i-veku_2'\n",
       "139. 'HPSI0713i-wiol_1'\n",
       "140. 'HPSI0714i-burb_1'\n",
       "141. 'HPSI0714i-iudw_1'\n",
       "142. 'HPSI0714i-jilk_4'\n",
       "143. 'HPSI0714i-keui_4'\n",
       "144. 'HPSI0714i-kute_5'\n",
       "145. 'HPSI0714i-oatm_1'\n",
       "146. 'HPSI0714i-pipw_4'\n",
       "147. 'HPSI0715i-aowh_2'\n",
       "148. 'HPSI0715i-meue_5'\n",
       "149. 'HPSI0715i-zaie_5'\n",
       "150. 'HPSI0813i-aizi_3'\n",
       "151. 'HPSI0813i-civh_1'\n",
       "152. 'HPSI0813i-ffdc_1'\n",
       "153. 'HPSI0813i-guss_1'\n",
       "154. 'HPSI0813i-iill_3'\n",
       "155. 'HPSI0813i-mioj_1'\n",
       "156. 'HPSI0813i-peoj_1'\n",
       "157. 'HPSI0813i-uaqe_1'\n",
       "158. 'HPSI0813i-vajx_2'\n",
       "159. 'HPSI0813i-wots_3'\n",
       "160. 'HPSI0813i-zexw_3'\n",
       "161. 'HPSI0814i-bokz_6'\n",
       "162. 'HPSI0814i-doao_1'\n",
       "163. 'HPSI0814i-siqu_4'\n",
       "164. 'HPSI0913i-eika_2'\n",
       "165. 'HPSI0913i-eorc_2'\n",
       "166. 'HPSI0913i-iuqb_1'\n",
       "167. 'HPSI0913i-lise_1'\n",
       "168. 'HPSI0913i-ruql_3'\n",
       "169. 'HPSI0914i-euts_3'\n",
       "170. 'HPSI0914i-iezw_2'\n",
       "171. 'HPSI0914i-jejf_2'\n",
       "172. 'HPSI0914i-kajh_2'\n",
       "173. 'HPSI0914i-laey_6'\n",
       "174. 'HPSI0914i-ouvb_2'\n",
       "175. 'HPSI0914i-rejf_2'\n",
       "176. 'HPSI0914i-suop_5'\n",
       "177. 'HPSI0914i-vaka_5'\n",
       "178. 'HPSI0914i-yuvg_2'\n",
       "179. 'HPSI0914i-zerv_7'\n",
       "180. 'HPSI1013i-garx_2'\n",
       "181. 'HPSI1013i-hiaf_1'\n",
       "182. 'HPSI1013i-jogf_2'\n",
       "183. 'HPSI1013i-jufd_3'\n",
       "184. 'HPSI1013i-kuxp_1'\n",
       "185. 'HPSI1013i-sita_1'\n",
       "186. 'HPSI1013i-woci_1'\n",
       "187. 'HPSI1013i-wopl_2'\n",
       "188. 'HPSI1013i-zagm_1'\n",
       "189. 'HPSI1014i-babz_3'\n",
       "190. 'HPSI1014i-bilx_1'\n",
       "191. 'HPSI1014i-boss_1'\n",
       "192. 'HPSI1014i-eesb_1'\n",
       "193. 'HPSI1014i-kefb_1'\n",
       "194. 'HPSI1014i-nosn_1'\n",
       "195. 'HPSI1014i-qayj_4'\n",
       "196. 'HPSI1014i-quls_2'\n",
       "197. 'HPSI1014i-roug_3'\n",
       "198. 'HPSI1014i-sehl_6'\n",
       "199. 'HPSI1014i-tixi_4'\n",
       "200. 'HPSI1014i-tuju_1'\n",
       "201. 'HPSI1014i-vils_1'\n",
       "202. 'HPSI1113i-bima_1'\n",
       "203. 'HPSI1113i-hayt_3'\n",
       "204. 'HPSI1113i-ieki_3'\n",
       "205. 'HPSI1113i-podx_1'\n",
       "206. 'HPSI1113i-qolg_1'\n",
       "207. 'HPSI1113i-qorq_1'\n",
       "208. 'HPSI1113i-vuud_2'\n",
       "209. 'HPSI1114i-kuul_1'\n",
       "210. 'HPSI1114i-ualf_6'\n",
       "211. 'HPSI1114i-zuuy_4'\n",
       "212. 'HPSI1213i-hehd_1'\n",
       "213. 'HPSI1213i-tolg_4'\n",
       "\n",
       "\n"
      ],
      "text/plain": [
       "[1] HPSI0514i-sohd_2 HPSI0314i-uict_1 HPSI0115i-qecv_2 HPSI0115i-pitg_2\n",
       "213 Levels: HPSI0114i-bezi_3 HPSI0114i-eipl_1 ... HPSI1213i-tolg_4"
      ]
     },
     "metadata": {},
     "output_type": "display_data"
    }
   ],
   "source": [
    "donors[!(donors %in% metadata_df$Public.name)]\n",
    "# sohd:female, uict:female, qecv:female, pitg:female "
   ]
  },
  {
   "cell_type": "code",
   "execution_count": 20,
   "metadata": {
    "scrolled": false
   },
   "outputs": [
    {
     "data": {
      "text/html": [
       "209"
      ],
      "text/latex": [
       "209"
      ],
      "text/markdown": [
       "209"
      ],
      "text/plain": [
       "[1] 209"
      ]
     },
     "metadata": {},
     "output_type": "display_data"
    },
    {
     "data": {
      "text/html": [
       "86"
      ],
      "text/latex": [
       "86"
      ],
      "text/markdown": [
       "86"
      ],
      "text/plain": [
       "[1] 86"
      ]
     },
     "metadata": {},
     "output_type": "display_data"
    },
    {
     "data": {
      "text/html": [
       "123"
      ],
      "text/latex": [
       "123"
      ],
      "text/markdown": [
       "123"
      ],
      "text/plain": [
       "[1] 123"
      ]
     },
     "metadata": {},
     "output_type": "display_data"
    }
   ],
   "source": [
    "meta = metadata_df[metadata_df$Public.name %in% donors,]\n",
    "nrow(meta)\n",
    "meta[meta$Donor == \"oesx\",\"Gender\"] <- \"female\"\n",
    "meta[meta$Donor == \"mioj\",\"Gender\"] <- \"female\"\n",
    "nrow(meta[meta$Gender == 'male',])\n",
    "nrow(meta[meta$Gender == 'female',])"
   ]
  },
  {
   "cell_type": "code",
   "execution_count": null,
   "metadata": {},
   "outputs": [],
   "source": []
  },
  {
   "cell_type": "code",
   "execution_count": 23,
   "metadata": {},
   "outputs": [
    {
     "data": {
      "text/html": [
       "<table>\n",
       "<thead><tr><th scope=col>CellLine</th><th scope=col>Pool</th><th scope=col>P.Thaw</th><th scope=col>P.Pool</th><th scope=col>X.Pthaw_Pool</th><th scope=col>Harvest_Confluency</th><th scope=col>diff_efficiency</th><th scope=col>category</th></tr></thead>\n",
       "<tbody>\n",
       "\t<tr><td>paab_3    </td><td>18        </td><td>22        </td><td>26        </td><td>4         </td><td>50        </td><td>0.00000000</td><td>bad       </td></tr>\n",
       "\t<tr><td>paab_3    </td><td> 5        </td><td>22        </td><td>25        </td><td>3         </td><td>NA        </td><td>0.00000000</td><td>bad       </td></tr>\n",
       "\t<tr><td>uofv_1    </td><td>13        </td><td>53        </td><td>55        </td><td>2         </td><td>NA        </td><td>0.00000000</td><td>bad       </td></tr>\n",
       "\t<tr><td>mita_1    </td><td> 6        </td><td>53        </td><td>56        </td><td>3         </td><td>NA        </td><td>0.01192354</td><td>bad       </td></tr>\n",
       "\t<tr><td>eipl_1    </td><td> 1        </td><td>38        </td><td>42        </td><td>4         </td><td>80        </td><td>0.01287835</td><td>bad       </td></tr>\n",
       "\t<tr><td>boss_1    </td><td>13        </td><td>26        </td><td>29        </td><td>3         </td><td>NA        </td><td>0.01419878</td><td>bad       </td></tr>\n",
       "</tbody>\n",
       "</table>\n"
      ],
      "text/latex": [
       "\\begin{tabular}{r|llllllll}\n",
       " CellLine & Pool & P.Thaw & P.Pool & X.Pthaw\\_Pool & Harvest\\_Confluency & diff\\_efficiency & category\\\\\n",
       "\\hline\n",
       "\t paab\\_3   & 18         & 22         & 26         & 4          & 50         & 0.00000000 & bad       \\\\\n",
       "\t paab\\_3   &  5         & 22         & 25         & 3          & NA         & 0.00000000 & bad       \\\\\n",
       "\t uofv\\_1   & 13         & 53         & 55         & 2          & NA         & 0.00000000 & bad       \\\\\n",
       "\t mita\\_1   &  6         & 53         & 56         & 3          & NA         & 0.01192354 & bad       \\\\\n",
       "\t eipl\\_1   &  1         & 38         & 42         & 4          & 80         & 0.01287835 & bad       \\\\\n",
       "\t boss\\_1   & 13         & 26         & 29         & 3          & NA         & 0.01419878 & bad       \\\\\n",
       "\\end{tabular}\n"
      ],
      "text/markdown": [
       "\n",
       "| CellLine | Pool | P.Thaw | P.Pool | X.Pthaw_Pool | Harvest_Confluency | diff_efficiency | category |\n",
       "|---|---|---|---|---|---|---|---|\n",
       "| paab_3     | 18         | 22         | 26         | 4          | 50         | 0.00000000 | bad        |\n",
       "| paab_3     |  5         | 22         | 25         | 3          | NA         | 0.00000000 | bad        |\n",
       "| uofv_1     | 13         | 53         | 55         | 2          | NA         | 0.00000000 | bad        |\n",
       "| mita_1     |  6         | 53         | 56         | 3          | NA         | 0.01192354 | bad        |\n",
       "| eipl_1     |  1         | 38         | 42         | 4          | 80         | 0.01287835 | bad        |\n",
       "| boss_1     | 13         | 26         | 29         | 3          | NA         | 0.01419878 | bad        |\n",
       "\n"
      ],
      "text/plain": [
       "  CellLine Pool P.Thaw P.Pool X.Pthaw_Pool Harvest_Confluency diff_efficiency\n",
       "1 paab_3   18   22     26     4            50                 0.00000000     \n",
       "2 paab_3    5   22     25     3            NA                 0.00000000     \n",
       "3 uofv_1   13   53     55     2            NA                 0.00000000     \n",
       "4 mita_1    6   53     56     3            NA                 0.01192354     \n",
       "5 eipl_1    1   38     42     4            80                 0.01287835     \n",
       "6 boss_1   13   26     29     3            NA                 0.01419878     \n",
       "  category\n",
       "1 bad     \n",
       "2 bad     \n",
       "3 bad     \n",
       "4 bad     \n",
       "5 bad     \n",
       "6 bad     "
      ]
     },
     "metadata": {},
     "output_type": "display_data"
    }
   ],
   "source": [
    "passage_df = read.csv('/hps/nobackup/stegle/users/acuomo/all_scripts/sc_neuroseq/diff_efficiency/CellLine_efficiency&Passages.csv')\n",
    "head(passage_df)"
   ]
  },
  {
   "cell_type": "code",
   "execution_count": 24,
   "metadata": {
    "scrolled": true
   },
   "outputs": [
    {
     "data": {
      "text/html": [
       "<table>\n",
       "<thead><tr><th scope=col>avg_p_thaw</th><th scope=col>avg_p_pool</th><th scope=col>short_donor_id</th></tr></thead>\n",
       "<tbody>\n",
       "\t<tr><td>6           </td><td> 9          </td><td>$ASXL3_HM2  </td></tr>\n",
       "\t<tr><td>6           </td><td>10          </td><td>$CHD2_HT1   </td></tr>\n",
       "\t<tr><td>6           </td><td>10          </td><td>$CHD7_HT1   </td></tr>\n",
       "\t<tr><td>5           </td><td> 8          </td><td>$CTNNB1_HT1 </td></tr>\n",
       "\t<tr><td>5           </td><td> 9          </td><td>$GATAD2B_HT1</td></tr>\n",
       "\t<tr><td>9           </td><td>14          </td><td>$KMT2E_HT3  </td></tr>\n",
       "</tbody>\n",
       "</table>\n"
      ],
      "text/latex": [
       "\\begin{tabular}{r|lll}\n",
       " avg\\_p\\_thaw & avg\\_p\\_pool & short\\_donor\\_id\\\\\n",
       "\\hline\n",
       "\t 6                &  9               & \\$ASXL3\\_HM2  \\\\\n",
       "\t 6                & 10               & \\$CHD2\\_HT1   \\\\\n",
       "\t 6                & 10               & \\$CHD7\\_HT1   \\\\\n",
       "\t 5                &  8               & \\$CTNNB1\\_HT1 \\\\\n",
       "\t 5                &  9               & \\$GATAD2B\\_HT1\\\\\n",
       "\t 9                & 14               & \\$KMT2E\\_HT3  \\\\\n",
       "\\end{tabular}\n"
      ],
      "text/markdown": [
       "\n",
       "| avg_p_thaw | avg_p_pool | short_donor_id |\n",
       "|---|---|---|\n",
       "| 6            |  9           | $ASXL3_HM2   |\n",
       "| 6            | 10           | $CHD2_HT1    |\n",
       "| 6            | 10           | $CHD7_HT1    |\n",
       "| 5            |  8           | $CTNNB1_HT1  |\n",
       "| 5            |  9           | $GATAD2B_HT1 |\n",
       "| 9            | 14           | $KMT2E_HT3   |\n",
       "\n"
      ],
      "text/plain": [
       "  avg_p_thaw avg_p_pool short_donor_id\n",
       "1 6           9         $ASXL3_HM2    \n",
       "2 6          10         $CHD2_HT1     \n",
       "3 6          10         $CHD7_HT1     \n",
       "4 5           8         $CTNNB1_HT1   \n",
       "5 5           9         $GATAD2B_HT1  \n",
       "6 9          14         $KMT2E_HT3    "
      ]
     },
     "metadata": {},
     "output_type": "display_data"
    }
   ],
   "source": [
    "passage_df = passage_df %>% group_by(CellLine) %>% summarise(avg_p_thaw = mean(P.Thaw),\n",
    "                                               avg_p_pool = mean(P.Pool))\n",
    "passage_df$short_donor_id = passage_df$CellLine\n",
    "passage_df$CellLine <- c()\n",
    "head(passage_df)"
   ]
  },
  {
   "cell_type": "code",
   "execution_count": 5,
   "metadata": {},
   "outputs": [
    {
     "data": {
      "text/html": [
       "<table>\n",
       "<thead><tr><th scope=col>donor_id</th><th scope=col>diff_efficiency</th><th scope=col>short_donor_id</th></tr></thead>\n",
       "<tbody>\n",
       "\t<tr><td>HPSI0114i-bezi_3</td><td>0.58269720      </td><td>bezi_3          </td></tr>\n",
       "\t<tr><td>HPSI0114i-eipl_1</td><td>0.01287835      </td><td>eipl_1          </td></tr>\n",
       "\t<tr><td>HPSI0114i-fikt_3</td><td>0.40282686      </td><td>fikt_3          </td></tr>\n",
       "\t<tr><td>HPSI0114i-kolf_2</td><td>0.47059133      </td><td>kolf_2          </td></tr>\n",
       "\t<tr><td>HPSI0114i-lexy_2</td><td>0.72690535      </td><td>lexy_2          </td></tr>\n",
       "\t<tr><td>HPSI0114i-posc_1</td><td>0.81349206      </td><td>posc_1          </td></tr>\n",
       "</tbody>\n",
       "</table>\n"
      ],
      "text/latex": [
       "\\begin{tabular}{r|lll}\n",
       " donor\\_id & diff\\_efficiency & short\\_donor\\_id\\\\\n",
       "\\hline\n",
       "\t HPSI0114i-bezi\\_3 & 0.58269720         & bezi\\_3          \\\\\n",
       "\t HPSI0114i-eipl\\_1 & 0.01287835         & eipl\\_1          \\\\\n",
       "\t HPSI0114i-fikt\\_3 & 0.40282686         & fikt\\_3          \\\\\n",
       "\t HPSI0114i-kolf\\_2 & 0.47059133         & kolf\\_2          \\\\\n",
       "\t HPSI0114i-lexy\\_2 & 0.72690535         & lexy\\_2          \\\\\n",
       "\t HPSI0114i-posc\\_1 & 0.81349206         & posc\\_1          \\\\\n",
       "\\end{tabular}\n"
      ],
      "text/markdown": [
       "\n",
       "| donor_id | diff_efficiency | short_donor_id |\n",
       "|---|---|---|\n",
       "| HPSI0114i-bezi_3 | 0.58269720       | bezi_3           |\n",
       "| HPSI0114i-eipl_1 | 0.01287835       | eipl_1           |\n",
       "| HPSI0114i-fikt_3 | 0.40282686       | fikt_3           |\n",
       "| HPSI0114i-kolf_2 | 0.47059133       | kolf_2           |\n",
       "| HPSI0114i-lexy_2 | 0.72690535       | lexy_2           |\n",
       "| HPSI0114i-posc_1 | 0.81349206       | posc_1           |\n",
       "\n"
      ],
      "text/plain": [
       "  donor_id         diff_efficiency short_donor_id\n",
       "1 HPSI0114i-bezi_3 0.58269720      bezi_3        \n",
       "2 HPSI0114i-eipl_1 0.01287835      eipl_1        \n",
       "3 HPSI0114i-fikt_3 0.40282686      fikt_3        \n",
       "4 HPSI0114i-kolf_2 0.47059133      kolf_2        \n",
       "5 HPSI0114i-lexy_2 0.72690535      lexy_2        \n",
       "6 HPSI0114i-posc_1 0.81349206      posc_1        "
      ]
     },
     "metadata": {},
     "output_type": "display_data"
    },
    {
     "data": {
      "text/html": [
       "199"
      ],
      "text/latex": [
       "199"
      ],
      "text/markdown": [
       "199"
      ],
      "text/plain": [
       "[1] 199"
      ]
     },
     "metadata": {},
     "output_type": "display_data"
    }
   ],
   "source": [
    "diff_df = read.csv('/nfs/leia/research/stegle/dseaton/hipsci/singlecell_neuroseq/data/data_processed/pool1_17_D52/pool1_17_D52.scanpy.w_metadata.w_celltype.scanpy.obs_df.groupedby.donor_id-pool_id-time_point.diff_efficiency_by_cell_line.tsv',\n",
    "                     sep='\\t')\n",
    "diff_df$short_donor_id = gsub(\".*i-\",\"\",diff_df$donor_id)\n",
    "head(diff_df)\n",
    "nrow(diff_df)"
   ]
  },
  {
   "cell_type": "code",
   "execution_count": 26,
   "metadata": {},
   "outputs": [
    {
     "name": "stderr",
     "output_type": "stream",
     "text": [
      "Joining, by = \"short_donor_id\"\n",
      "Warning message:\n",
      "“Column `short_donor_id` joining factor and character vector, coercing into character vector”"
     ]
    },
    {
     "data": {
      "text/html": [
       "199"
      ],
      "text/latex": [
       "199"
      ],
      "text/markdown": [
       "199"
      ],
      "text/plain": [
       "[1] 199"
      ]
     },
     "metadata": {},
     "output_type": "display_data"
    },
    {
     "data": {
      "text/html": [
       "199"
      ],
      "text/latex": [
       "199"
      ],
      "text/markdown": [
       "199"
      ],
      "text/plain": [
       "[1] 199"
      ]
     },
     "metadata": {},
     "output_type": "display_data"
    }
   ],
   "source": [
    "df0 = inner_join(passage_df,diff_df)\n",
    "nrow(diff_df)\n",
    "nrow(df0)"
   ]
  },
  {
   "cell_type": "code",
   "execution_count": null,
   "metadata": {},
   "outputs": [],
   "source": []
  },
  {
   "cell_type": "code",
   "execution_count": 27,
   "metadata": {},
   "outputs": [
    {
     "data": {
      "text/html": [
       "199"
      ],
      "text/latex": [
       "199"
      ],
      "text/markdown": [
       "199"
      ],
      "text/plain": [
       "[1] 199"
      ]
     },
     "metadata": {},
     "output_type": "display_data"
    },
    {
     "data": {
      "text/html": [
       "52"
      ],
      "text/latex": [
       "52"
      ],
      "text/markdown": [
       "52"
      ],
      "text/plain": [
       "[1] 52"
      ]
     },
     "metadata": {},
     "output_type": "display_data"
    },
    {
     "data": {
      "text/html": [
       "0.261306532663317"
      ],
      "text/latex": [
       "0.261306532663317"
      ],
      "text/markdown": [
       "0.261306532663317"
      ],
      "text/plain": [
       "[1] 0.2613065"
      ]
     },
     "metadata": {},
     "output_type": "display_data"
    }
   ],
   "source": [
    "nrow(diff_df)\n",
    "nrow(diff_df[diff_df$diff_efficiency < 0.2,])\n",
    "nrow(diff_df[diff_df$diff_efficiency < 0.2,])/nrow(diff_df)"
   ]
  },
  {
   "cell_type": "code",
   "execution_count": 28,
   "metadata": {},
   "outputs": [],
   "source": [
    "metadata_df$donor_id = metadata_df$Public.name"
   ]
  },
  {
   "cell_type": "code",
   "execution_count": 29,
   "metadata": {},
   "outputs": [
    {
     "name": "stderr",
     "output_type": "stream",
     "text": [
      "Joining, by = \"donor_id\"\n",
      "Warning message:\n",
      "“Column `donor_id` joining factors with different levels, coercing to character vector”"
     ]
    },
    {
     "data": {
      "text/html": [
       "195"
      ],
      "text/latex": [
       "195"
      ],
      "text/markdown": [
       "195"
      ],
      "text/plain": [
       "[1] 195"
      ]
     },
     "metadata": {},
     "output_type": "display_data"
    },
    {
     "data": {
      "text/html": [
       "<table>\n",
       "<thead><tr><th scope=col>avg_p_thaw</th><th scope=col>avg_p_pool</th><th scope=col>short_donor_id</th><th scope=col>donor_id</th><th scope=col>diff_efficiency</th><th scope=col>Public.name</th><th scope=col>Donor</th><th scope=col>Gender</th><th scope=col>Age</th><th scope=col>feederfree</th></tr></thead>\n",
       "<tbody>\n",
       "\t<tr><td>35               </td><td>37               </td><td>aehn_22          </td><td>HPSI0713i-aehn_22</td><td>0.9211045        </td><td>HPSI0713i-aehn_22</td><td>aehn             </td><td>female           </td><td>                 </td><td>y                </td></tr>\n",
       "\t<tr><td>33               </td><td>36               </td><td>aevs_1           </td><td>HPSI0613i-aevs_1 </td><td>0.1051095        </td><td>HPSI0613i-aevs_1 </td><td>aevs             </td><td>male             </td><td>                 </td><td>n                </td></tr>\n",
       "\t<tr><td>34               </td><td>36               </td><td>aion_2           </td><td>HPSI0115i-aion_2 </td><td>0.7118205        </td><td>HPSI0115i-aion_2 </td><td>aion             </td><td>male             </td><td>60-64            </td><td>y                </td></tr>\n",
       "\t<tr><td>47               </td><td>50               </td><td>aipt_33          </td><td>HPSI0513i-aipt_33</td><td>0.7129151        </td><td>HPSI0513i-aipt_33</td><td>aipt             </td><td>male             </td><td>                 </td><td>y                </td></tr>\n",
       "\t<tr><td>24               </td><td>27               </td><td>aizi_3           </td><td>HPSI0813i-aizi_3 </td><td>0.9523810        </td><td>HPSI0813i-aizi_3 </td><td>aizi             </td><td>female           </td><td>50-54            </td><td>n                </td></tr>\n",
       "\t<tr><td>15               </td><td>18               </td><td>aowh_2           </td><td>HPSI0715i-aowh_2 </td><td>0.6208233        </td><td>HPSI0715i-aowh_2 </td><td>aowh             </td><td>female           </td><td>65-69            </td><td>y                </td></tr>\n",
       "</tbody>\n",
       "</table>\n"
      ],
      "text/latex": [
       "\\begin{tabular}{r|llllllllll}\n",
       " avg\\_p\\_thaw & avg\\_p\\_pool & short\\_donor\\_id & donor\\_id & diff\\_efficiency & Public.name & Donor & Gender & Age & feederfree\\\\\n",
       "\\hline\n",
       "\t 35                  & 37                  & aehn\\_22           & HPSI0713i-aehn\\_22 & 0.9211045           & HPSI0713i-aehn\\_22 & aehn                & female              &                     & y                  \\\\\n",
       "\t 33                  & 36                  & aevs\\_1            & HPSI0613i-aevs\\_1  & 0.1051095           & HPSI0613i-aevs\\_1  & aevs                & male                &                     & n                  \\\\\n",
       "\t 34                  & 36                  & aion\\_2            & HPSI0115i-aion\\_2  & 0.7118205           & HPSI0115i-aion\\_2  & aion                & male                & 60-64               & y                  \\\\\n",
       "\t 47                  & 50                  & aipt\\_33           & HPSI0513i-aipt\\_33 & 0.7129151           & HPSI0513i-aipt\\_33 & aipt                & male                &                     & y                  \\\\\n",
       "\t 24                  & 27                  & aizi\\_3            & HPSI0813i-aizi\\_3  & 0.9523810           & HPSI0813i-aizi\\_3  & aizi                & female              & 50-54               & n                  \\\\\n",
       "\t 15                  & 18                  & aowh\\_2            & HPSI0715i-aowh\\_2  & 0.6208233           & HPSI0715i-aowh\\_2  & aowh                & female              & 65-69               & y                  \\\\\n",
       "\\end{tabular}\n"
      ],
      "text/markdown": [
       "\n",
       "| avg_p_thaw | avg_p_pool | short_donor_id | donor_id | diff_efficiency | Public.name | Donor | Gender | Age | feederfree |\n",
       "|---|---|---|---|---|---|---|---|---|---|\n",
       "| 35                | 37                | aehn_22           | HPSI0713i-aehn_22 | 0.9211045         | HPSI0713i-aehn_22 | aehn              | female            |                   | y                 |\n",
       "| 33                | 36                | aevs_1            | HPSI0613i-aevs_1  | 0.1051095         | HPSI0613i-aevs_1  | aevs              | male              |                   | n                 |\n",
       "| 34                | 36                | aion_2            | HPSI0115i-aion_2  | 0.7118205         | HPSI0115i-aion_2  | aion              | male              | 60-64             | y                 |\n",
       "| 47                | 50                | aipt_33           | HPSI0513i-aipt_33 | 0.7129151         | HPSI0513i-aipt_33 | aipt              | male              |                   | y                 |\n",
       "| 24                | 27                | aizi_3            | HPSI0813i-aizi_3  | 0.9523810         | HPSI0813i-aizi_3  | aizi              | female            | 50-54             | n                 |\n",
       "| 15                | 18                | aowh_2            | HPSI0715i-aowh_2  | 0.6208233         | HPSI0715i-aowh_2  | aowh              | female            | 65-69             | y                 |\n",
       "\n"
      ],
      "text/plain": [
       "  avg_p_thaw avg_p_pool short_donor_id donor_id          diff_efficiency\n",
       "1 35         37         aehn_22        HPSI0713i-aehn_22 0.9211045      \n",
       "2 33         36         aevs_1         HPSI0613i-aevs_1  0.1051095      \n",
       "3 34         36         aion_2         HPSI0115i-aion_2  0.7118205      \n",
       "4 47         50         aipt_33        HPSI0513i-aipt_33 0.7129151      \n",
       "5 24         27         aizi_3         HPSI0813i-aizi_3  0.9523810      \n",
       "6 15         18         aowh_2         HPSI0715i-aowh_2  0.6208233      \n",
       "  Public.name       Donor Gender Age   feederfree\n",
       "1 HPSI0713i-aehn_22 aehn  female       y         \n",
       "2 HPSI0613i-aevs_1  aevs  male         n         \n",
       "3 HPSI0115i-aion_2  aion  male   60-64 y         \n",
       "4 HPSI0513i-aipt_33 aipt  male         y         \n",
       "5 HPSI0813i-aizi_3  aizi  female 50-54 n         \n",
       "6 HPSI0715i-aowh_2  aowh  female 65-69 y         "
      ]
     },
     "metadata": {},
     "output_type": "display_data"
    }
   ],
   "source": [
    "# df = inner_join(diff_df, metadata_df)\n",
    "df = inner_join(df0, metadata_df)\n",
    "nrow(df)\n",
    "head(df)"
   ]
  },
  {
   "cell_type": "code",
   "execution_count": 32,
   "metadata": {},
   "outputs": [
    {
     "data": {
      "text/plain": [
       "\n",
       "Call:\n",
       "lm(formula = diff_efficiency ~ Gender + Age + feederfree + avg_p_thaw + \n",
       "    avg_p_pool, data = df)\n",
       "\n",
       "Residuals:\n",
       "     Min       1Q   Median       3Q      Max \n",
       "-0.73037 -0.20126  0.02298  0.22902  0.45906 \n",
       "\n",
       "Coefficients:\n",
       "             Estimate Std. Error t value Pr(>|t|)    \n",
       "(Intercept)   0.57609    0.30958   1.861 0.064448 .  \n",
       "Genderfemale  0.22887    0.29385   0.779 0.437116    \n",
       "Gendermale    0.11775    0.29436   0.400 0.689631    \n",
       "Age25-29      0.01360    0.17599   0.077 0.938504    \n",
       "Age30-34     -0.25417    0.20993  -1.211 0.227640    \n",
       "Age35-39     -0.13780    0.12939  -1.065 0.288327    \n",
       "Age40-44     -0.43129    0.13171  -3.275 0.001277 ** \n",
       "Age45-49     -0.43092    0.11550  -3.731 0.000258 ***\n",
       "Age50-54     -0.23699    0.09107  -2.602 0.010055 *  \n",
       "Age55-59     -0.15455    0.08236  -1.877 0.062260 .  \n",
       "Age60-64     -0.21629    0.08133  -2.659 0.008561 ** \n",
       "Age65-69     -0.25167    0.08763  -2.872 0.004588 ** \n",
       "Age70-74     -0.15117    0.09502  -1.591 0.113433    \n",
       "Age75-79     -0.24874    0.21321  -1.167 0.244963    \n",
       "feederfreey  -0.11923    0.05269  -2.263 0.024885 *  \n",
       "avg_p_thaw   -0.04724    0.03388  -1.394 0.164956    \n",
       "avg_p_pool    0.04241    0.03356   1.264 0.208051    \n",
       "---\n",
       "Signif. codes:  0 ‘***’ 0.001 ‘**’ 0.01 ‘*’ 0.05 ‘.’ 0.1 ‘ ’ 1\n",
       "\n",
       "Residual standard error: 0.2838 on 174 degrees of freedom\n",
       "  (4 observations deleted due to missingness)\n",
       "Multiple R-squared:  0.1999,\tAdjusted R-squared:  0.1263 \n",
       "F-statistic: 2.717 on 16 and 174 DF,  p-value: 0.0006996\n"
      ]
     },
     "metadata": {},
     "output_type": "display_data"
    },
    {
     "data": {
      "text/html": [
       "<table>\n",
       "<thead><tr><th></th><th scope=col>Df</th><th scope=col>Sum Sq</th><th scope=col>Mean Sq</th><th scope=col>F value</th><th scope=col>Pr(&gt;F)</th></tr></thead>\n",
       "<tbody>\n",
       "\t<tr><th scope=row>Gender</th><td>  2        </td><td> 0.6161299 </td><td>0.30806493 </td><td>3.824696   </td><td>0.023682704</td></tr>\n",
       "\t<tr><th scope=row>Age</th><td> 11        </td><td> 2.1945223 </td><td>0.19950203 </td><td>2.476863   </td><td>0.006591788</td></tr>\n",
       "\t<tr><th scope=row>feederfree</th><td>  1        </td><td> 0.2703243 </td><td>0.27032429 </td><td>3.356137   </td><td>0.068664642</td></tr>\n",
       "\t<tr><th scope=row>avg_p_thaw</th><td>  1        </td><td> 0.2913396 </td><td>0.29133956 </td><td>3.617046   </td><td>0.058842601</td></tr>\n",
       "\t<tr><th scope=row>avg_p_pool</th><td>  1        </td><td> 0.1286144 </td><td>0.12861442 </td><td>1.596777   </td><td>0.208050949</td></tr>\n",
       "\t<tr><th scope=row>Residuals</th><td>174        </td><td>14.0150499 </td><td>0.08054626 </td><td>      NA   </td><td>         NA</td></tr>\n",
       "</tbody>\n",
       "</table>\n"
      ],
      "text/latex": [
       "\\begin{tabular}{r|lllll}\n",
       "  & Df & Sum Sq & Mean Sq & F value & Pr(>F)\\\\\n",
       "\\hline\n",
       "\tGender &   2         &  0.6161299  & 0.30806493  & 3.824696    & 0.023682704\\\\\n",
       "\tAge &  11         &  2.1945223  & 0.19950203  & 2.476863    & 0.006591788\\\\\n",
       "\tfeederfree &   1         &  0.2703243  & 0.27032429  & 3.356137    & 0.068664642\\\\\n",
       "\tavg\\_p\\_thaw &   1         &  0.2913396  & 0.29133956  & 3.617046    & 0.058842601\\\\\n",
       "\tavg\\_p\\_pool &   1         &  0.1286144  & 0.12861442  & 1.596777    & 0.208050949\\\\\n",
       "\tResiduals & 174         & 14.0150499  & 0.08054626  &       NA    &          NA\\\\\n",
       "\\end{tabular}\n"
      ],
      "text/markdown": [
       "\n",
       "| <!--/--> | Df | Sum Sq | Mean Sq | F value | Pr(>F) |\n",
       "|---|---|---|---|---|---|\n",
       "| Gender |   2         |  0.6161299  | 0.30806493  | 3.824696    | 0.023682704 |\n",
       "| Age |  11         |  2.1945223  | 0.19950203  | 2.476863    | 0.006591788 |\n",
       "| feederfree |   1         |  0.2703243  | 0.27032429  | 3.356137    | 0.068664642 |\n",
       "| avg_p_thaw |   1         |  0.2913396  | 0.29133956  | 3.617046    | 0.058842601 |\n",
       "| avg_p_pool |   1         |  0.1286144  | 0.12861442  | 1.596777    | 0.208050949 |\n",
       "| Residuals | 174         | 14.0150499  | 0.08054626  |       NA    |          NA |\n",
       "\n"
      ],
      "text/plain": [
       "           Df  Sum Sq     Mean Sq    F value  Pr(>F)     \n",
       "Gender       2  0.6161299 0.30806493 3.824696 0.023682704\n",
       "Age         11  2.1945223 0.19950203 2.476863 0.006591788\n",
       "feederfree   1  0.2703243 0.27032429 3.356137 0.068664642\n",
       "avg_p_thaw   1  0.2913396 0.29133956 3.617046 0.058842601\n",
       "avg_p_pool   1  0.1286144 0.12861442 1.596777 0.208050949\n",
       "Residuals  174 14.0150499 0.08054626       NA          NA"
      ]
     },
     "metadata": {},
     "output_type": "display_data"
    }
   ],
   "source": [
    "fit = lm(formula = diff_efficiency ~ Gender + Age + feederfree + avg_p_thaw + avg_p_pool, data = df)\n",
    "summary(fit)\n",
    "anova(fit)"
   ]
  },
  {
   "cell_type": "code",
   "execution_count": null,
   "metadata": {},
   "outputs": [],
   "source": []
  }
 ],
 "metadata": {
  "kernelspec": {
   "display_name": "R",
   "language": "R",
   "name": "ir"
  },
  "language_info": {
   "codemirror_mode": "r",
   "file_extension": ".r",
   "mimetype": "text/x-r-source",
   "name": "R",
   "pygments_lexer": "r",
   "version": "3.6.1"
  }
 },
 "nbformat": 4,
 "nbformat_minor": 4
}
