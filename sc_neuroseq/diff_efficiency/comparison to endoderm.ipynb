{
 "cells": [
  {
   "cell_type": "code",
   "execution_count": 36,
   "metadata": {},
   "outputs": [],
   "source": [
    "library(dplyr)\n",
    "library(ggplot2)"
   ]
  },
  {
   "cell_type": "code",
   "execution_count": 23,
   "metadata": {},
   "outputs": [],
   "source": [
    "file = '/hps/nobackup/stegle/users/acuomo/all_scripts/sc_neuroseq/diff_efficiency/diff_efficiency_by_cell_line.tsv'\n",
    "df_neuro = read.csv(file, sep='\\t')"
   ]
  },
  {
   "cell_type": "code",
   "execution_count": 24,
   "metadata": {},
   "outputs": [
    {
     "data": {
      "text/html": [
       "199"
      ],
      "text/latex": [
       "199"
      ],
      "text/markdown": [
       "199"
      ],
      "text/plain": [
       "[1] 199"
      ]
     },
     "metadata": {},
     "output_type": "display_data"
    },
    {
     "data": {
      "text/html": [
       "<table>\n",
       "<thead><tr><th scope=col>donor_id</th><th scope=col>diff_efficiency</th></tr></thead>\n",
       "<tbody>\n",
       "\t<tr><td>HPSI0114i-bezi_3</td><td>0.58269720      </td></tr>\n",
       "\t<tr><td>HPSI0114i-eipl_1</td><td>0.01287835      </td></tr>\n",
       "</tbody>\n",
       "</table>\n"
      ],
      "text/latex": [
       "\\begin{tabular}{r|ll}\n",
       " donor\\_id & diff\\_efficiency\\\\\n",
       "\\hline\n",
       "\t HPSI0114i-bezi\\_3 & 0.58269720        \\\\\n",
       "\t HPSI0114i-eipl\\_1 & 0.01287835        \\\\\n",
       "\\end{tabular}\n"
      ],
      "text/markdown": [
       "\n",
       "| donor_id | diff_efficiency |\n",
       "|---|---|\n",
       "| HPSI0114i-bezi_3 | 0.58269720       |\n",
       "| HPSI0114i-eipl_1 | 0.01287835       |\n",
       "\n"
      ],
      "text/plain": [
       "  donor_id         diff_efficiency\n",
       "1 HPSI0114i-bezi_3 0.58269720     \n",
       "2 HPSI0114i-eipl_1 0.01287835     "
      ]
     },
     "metadata": {},
     "output_type": "display_data"
    }
   ],
   "source": [
    "nrow(df_neuro)\n",
    "head(df_neuro,2)"
   ]
  },
  {
   "cell_type": "code",
   "execution_count": 25,
   "metadata": {},
   "outputs": [],
   "source": [
    "file1 = '/hps/nobackup/stegle/users/acuomo/all_scripts/sc_endodiff/diff_efficiencies.csv'\n",
    "df_endo = read.csv(file1)"
   ]
  },
  {
   "cell_type": "code",
   "execution_count": 26,
   "metadata": {},
   "outputs": [
    {
     "data": {
      "text/html": [
       "108"
      ],
      "text/latex": [
       "108"
      ],
      "text/markdown": [
       "108"
      ],
      "text/plain": [
       "[1] 108"
      ]
     },
     "metadata": {},
     "output_type": "display_data"
    },
    {
     "data": {
      "text/html": [
       "<table>\n",
       "<thead><tr><th scope=col>donor</th><th scope=col>ncells</th><th scope=col>diff_efficiency</th></tr></thead>\n",
       "<tbody>\n",
       "\t<tr><td>aowh_2   </td><td>95       </td><td>0.8065728</td></tr>\n",
       "\t<tr><td>aoxv_3   </td><td>71       </td><td>0.8101674</td></tr>\n",
       "</tbody>\n",
       "</table>\n"
      ],
      "text/latex": [
       "\\begin{tabular}{r|lll}\n",
       " donor & ncells & diff\\_efficiency\\\\\n",
       "\\hline\n",
       "\t aowh\\_2  & 95        & 0.8065728\\\\\n",
       "\t aoxv\\_3  & 71        & 0.8101674\\\\\n",
       "\\end{tabular}\n"
      ],
      "text/markdown": [
       "\n",
       "| donor | ncells | diff_efficiency |\n",
       "|---|---|---|\n",
       "| aowh_2    | 95        | 0.8065728 |\n",
       "| aoxv_3    | 71        | 0.8101674 |\n",
       "\n"
      ],
      "text/plain": [
       "  donor  ncells diff_efficiency\n",
       "1 aowh_2 95     0.8065728      \n",
       "2 aoxv_3 71     0.8101674      "
      ]
     },
     "metadata": {},
     "output_type": "display_data"
    }
   ],
   "source": [
    "nrow(df_endo)\n",
    "head(df_endo,2)"
   ]
  },
  {
   "cell_type": "code",
   "execution_count": 32,
   "metadata": {},
   "outputs": [
    {
     "name": "stderr",
     "output_type": "stream",
     "text": [
      "Warning message:\n",
      "“Column `donor` joining character vector and factor, coercing into character vector”"
     ]
    },
    {
     "data": {
      "text/html": [
       "42"
      ],
      "text/latex": [
       "42"
      ],
      "text/markdown": [
       "42"
      ],
      "text/plain": [
       "[1] 42"
      ]
     },
     "metadata": {},
     "output_type": "display_data"
    },
    {
     "data": {
      "text/html": [
       "<table>\n",
       "<thead><tr><th scope=col>donor_id</th><th scope=col>diff_efficiency.neuro</th><th scope=col>donor</th><th scope=col>ncells</th><th scope=col>diff_efficiency.endo</th></tr></thead>\n",
       "<tbody>\n",
       "\t<tr><td>HPSI0114i-eipl_1</td><td>0.01287835      </td><td>eipl_1          </td><td>57              </td><td>0.8127216       </td></tr>\n",
       "\t<tr><td>HPSI0114i-vass_1</td><td>0.85217391      </td><td>vass_1          </td><td>72              </td><td>0.7914245       </td></tr>\n",
       "</tbody>\n",
       "</table>\n"
      ],
      "text/latex": [
       "\\begin{tabular}{r|lllll}\n",
       " donor\\_id & diff\\_efficiency.neuro & donor & ncells & diff\\_efficiency.endo\\\\\n",
       "\\hline\n",
       "\t HPSI0114i-eipl\\_1 & 0.01287835         & eipl\\_1           & 57                 & 0.8127216         \\\\\n",
       "\t HPSI0114i-vass\\_1 & 0.85217391         & vass\\_1           & 72                 & 0.7914245         \\\\\n",
       "\\end{tabular}\n"
      ],
      "text/markdown": [
       "\n",
       "| donor_id | diff_efficiency.neuro | donor | ncells | diff_efficiency.endo |\n",
       "|---|---|---|---|---|\n",
       "| HPSI0114i-eipl_1 | 0.01287835       | eipl_1           | 57               | 0.8127216        |\n",
       "| HPSI0114i-vass_1 | 0.85217391       | vass_1           | 72               | 0.7914245        |\n",
       "\n"
      ],
      "text/plain": [
       "  donor_id         diff_efficiency.neuro donor  ncells diff_efficiency.endo\n",
       "1 HPSI0114i-eipl_1 0.01287835            eipl_1 57     0.8127216           \n",
       "2 HPSI0114i-vass_1 0.85217391            vass_1 72     0.7914245           "
      ]
     },
     "metadata": {},
     "output_type": "display_data"
    }
   ],
   "source": [
    "## join\n",
    "df_neuro$donor = gsub(\".*-\",\"\",df_neuro$donor_id)\n",
    "df = inner_join(df_neuro, df_endo, by = \"donor\", suffix = c(\".neuro\",\".endo\"))\n",
    "nrow(df)\n",
    "head(df,2)"
   ]
  },
  {
   "cell_type": "code",
   "execution_count": 33,
   "metadata": {},
   "outputs": [
    {
     "data": {
      "text/html": [
       "0.0705738822930238"
      ],
      "text/latex": [
       "0.0705738822930238"
      ],
      "text/markdown": [
       "0.0705738822930238"
      ],
      "text/plain": [
       "[1] 0.07057388"
      ]
     },
     "metadata": {},
     "output_type": "display_data"
    },
    {
     "data": {
      "text/plain": [
       "\n",
       "\tPearson's product-moment correlation\n",
       "\n",
       "data:  df$diff_efficiency.neuro and df$diff_efficiency.endo\n",
       "t = 0.44746, df = 40, p-value = 0.657\n",
       "alternative hypothesis: true correlation is not equal to 0\n",
       "95 percent confidence interval:\n",
       " -0.2384726  0.3666409\n",
       "sample estimates:\n",
       "       cor \n",
       "0.07057388 \n"
      ]
     },
     "metadata": {},
     "output_type": "display_data"
    }
   ],
   "source": [
    "cor(df$diff_efficiency.neuro, df$diff_efficiency.endo)\n",
    "cor.test(df$diff_efficiency.neuro, df$diff_efficiency.endo)"
   ]
  },
  {
   "cell_type": "code",
   "execution_count": 37,
   "metadata": {},
   "outputs": [
    {
     "data": {
      "image/png": "[encoded data removed]",
      "text/plain": [
       "plot without title"
      ]
     },
     "metadata": {},
     "output_type": "display_data"
    }
   ],
   "source": [
    "ggplot(df, aes(x = diff_efficiency.neuro, diff_efficiency.endo)) + geom_point()"
   ]
  },
  {
   "cell_type": "code",
   "execution_count": null,
   "metadata": {},
   "outputs": [],
   "source": []
  }
 ],
 "metadata": {
  "kernelspec": {
   "display_name": "R",
   "language": "R",
   "name": "ir"
  },
  "language_info": {
   "codemirror_mode": "r",
   "file_extension": ".r",
   "mimetype": "text/x-r-source",
   "name": "R",
   "pygments_lexer": "r",
   "version": "3.6.1"
  }
 },
 "nbformat": 4,
 "nbformat_minor": 4
}
