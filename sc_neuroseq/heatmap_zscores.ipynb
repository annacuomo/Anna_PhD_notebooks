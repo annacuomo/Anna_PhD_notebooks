{
 "cells": [
  {
   "cell_type": "code",
   "execution_count": 3,
   "metadata": {},
   "outputs": [],
   "source": [
    "############## our data (eQTL)"
   ]
  },
  {
   "cell_type": "code",
   "execution_count": 672,
   "metadata": {},
   "outputs": [],
   "source": [
    "#################### full results eQTL files\n",
    "data_folder = \"/nfs/leia/research/stegle/dseaton/hipsci/singlecell_neuroseq/data/analysis_results/20200103_data_freeze/\"\n",
    "eqtl_folder = paste0(data_folder,\"eqtl/summary_stats/\")"
   ]
  },
  {
   "cell_type": "code",
   "execution_count": 673,
   "metadata": {},
   "outputs": [
    {
     "data": {
      "text/html": [
       "<table>\n",
       "<caption>A data.frame: 2 × 17</caption>\n",
       "<thead>\n",
       "\t<tr><th scope=col>feature_id</th><th scope=col>snp_id</th><th scope=col>p_value</th><th scope=col>beta</th><th scope=col>beta_se</th><th scope=col>empirical_feature_p_value</th><th scope=col>feature_chromosome</th><th scope=col>feature_start</th><th scope=col>feature_end</th><th scope=col>n_samples</th><th scope=col>n_e_samples</th><th scope=col>snp_chromosome</th><th scope=col>snp_position</th><th scope=col>assessed_allele</th><th scope=col>call_rate</th><th scope=col>maf</th><th scope=col>hwe_p</th></tr>\n",
       "\t<tr><th scope=col>&lt;chr&gt;</th><th scope=col>&lt;chr&gt;</th><th scope=col>&lt;dbl&gt;</th><th scope=col>&lt;dbl&gt;</th><th scope=col>&lt;dbl&gt;</th><th scope=col>&lt;dbl&gt;</th><th scope=col>&lt;int&gt;</th><th scope=col>&lt;int&gt;</th><th scope=col>&lt;int&gt;</th><th scope=col>&lt;int&gt;</th><th scope=col>&lt;int&gt;</th><th scope=col>&lt;int&gt;</th><th scope=col>&lt;int&gt;</th><th scope=col>&lt;chr&gt;</th><th scope=col>&lt;dbl&gt;</th><th scope=col>&lt;dbl&gt;</th><th scope=col>&lt;dbl&gt;</th></tr>\n",
       "</thead>\n",
       "<tbody>\n",
       "\t<tr><td>ENSG00000187961</td><td>1_662622_G_A</td><td>0.05892175</td><td>-0.16135667</td><td>0.08542919</td><td>-1</td><td>1</td><td>895967</td><td>901095</td><td>173</td><td>173</td><td>1</td><td>662622</td><td>A</td><td>1</td><td>0.08092486</td><td>1</td></tr>\n",
       "\t<tr><td>ENSG00000188290</td><td>1_662622_G_A</td><td>0.27968433</td><td>-0.06533425</td><td>0.06043711</td><td>-1</td><td>1</td><td>934342</td><td>935552</td><td>173</td><td>173</td><td>1</td><td>662622</td><td>A</td><td>1</td><td>0.08092486</td><td>1</td></tr>\n",
       "</tbody>\n",
       "</table>\n"
      ],
      "text/latex": [
       "A data.frame: 2 × 17\n",
       "\\begin{tabular}{r|lllllllllllllllll}\n",
       " feature\\_id & snp\\_id & p\\_value & beta & beta\\_se & empirical\\_feature\\_p\\_value & feature\\_chromosome & feature\\_start & feature\\_end & n\\_samples & n\\_e\\_samples & snp\\_chromosome & snp\\_position & assessed\\_allele & call\\_rate & maf & hwe\\_p\\\\\n",
       " <chr> & <chr> & <dbl> & <dbl> & <dbl> & <dbl> & <int> & <int> & <int> & <int> & <int> & <int> & <int> & <chr> & <dbl> & <dbl> & <dbl>\\\\\n",
       "\\hline\n",
       "\t ENSG00000187961 & 1\\_662622\\_G\\_A & 0.05892175 & -0.16135667 & 0.08542919 & -1 & 1 & 895967 & 901095 & 173 & 173 & 1 & 662622 & A & 1 & 0.08092486 & 1\\\\\n",
       "\t ENSG00000188290 & 1\\_662622\\_G\\_A & 0.27968433 & -0.06533425 & 0.06043711 & -1 & 1 & 934342 & 935552 & 173 & 173 & 1 & 662622 & A & 1 & 0.08092486 & 1\\\\\n",
       "\\end{tabular}\n"
      ],
      "text/markdown": [
       "\n",
       "A data.frame: 2 × 17\n",
       "\n",
       "| feature_id &lt;chr&gt; | snp_id &lt;chr&gt; | p_value &lt;dbl&gt; | beta &lt;dbl&gt; | beta_se &lt;dbl&gt; | empirical_feature_p_value &lt;dbl&gt; | feature_chromosome &lt;int&gt; | feature_start &lt;int&gt; | feature_end &lt;int&gt; | n_samples &lt;int&gt; | n_e_samples &lt;int&gt; | snp_chromosome &lt;int&gt; | snp_position &lt;int&gt; | assessed_allele &lt;chr&gt; | call_rate &lt;dbl&gt; | maf &lt;dbl&gt; | hwe_p &lt;dbl&gt; |\n",
       "|---|---|---|---|---|---|---|---|---|---|---|---|---|---|---|---|---|\n",
       "| ENSG00000187961 | 1_662622_G_A | 0.05892175 | -0.16135667 | 0.08542919 | -1 | 1 | 895967 | 901095 | 173 | 173 | 1 | 662622 | A | 1 | 0.08092486 | 1 |\n",
       "| ENSG00000188290 | 1_662622_G_A | 0.27968433 | -0.06533425 | 0.06043711 | -1 | 1 | 934342 | 935552 | 173 | 173 | 1 | 662622 | A | 1 | 0.08092486 | 1 |\n",
       "\n"
      ],
      "text/plain": [
       "  feature_id      snp_id       p_value    beta        beta_se   \n",
       "1 ENSG00000187961 1_662622_G_A 0.05892175 -0.16135667 0.08542919\n",
       "2 ENSG00000188290 1_662622_G_A 0.27968433 -0.06533425 0.06043711\n",
       "  empirical_feature_p_value feature_chromosome feature_start feature_end\n",
       "1 -1                        1                  895967        901095     \n",
       "2 -1                        1                  934342        935552     \n",
       "  n_samples n_e_samples snp_chromosome snp_position assessed_allele call_rate\n",
       "1 173       173         1              662622       A               1        \n",
       "2 173       173         1              662622       A               1        \n",
       "  maf        hwe_p\n",
       "1 0.08092486 1    \n",
       "2 0.08092486 1    "
      ]
     },
     "metadata": {},
     "output_type": "display_data"
    },
    {
     "data": {
      "text/html": [
       "<table>\n",
       "<caption>A data.frame: 2 × 17</caption>\n",
       "<thead>\n",
       "\t<tr><th scope=col>feature_id</th><th scope=col>snp_id</th><th scope=col>p_value</th><th scope=col>beta</th><th scope=col>beta_se</th><th scope=col>empirical_feature_p_value</th><th scope=col>feature_chromosome</th><th scope=col>feature_start</th><th scope=col>feature_end</th><th scope=col>n_samples</th><th scope=col>n_e_samples</th><th scope=col>snp_chromosome</th><th scope=col>snp_position</th><th scope=col>assessed_allele</th><th scope=col>call_rate</th><th scope=col>maf</th><th scope=col>hwe_p</th></tr>\n",
       "\t<tr><th scope=col>&lt;chr&gt;</th><th scope=col>&lt;chr&gt;</th><th scope=col>&lt;dbl&gt;</th><th scope=col>&lt;dbl&gt;</th><th scope=col>&lt;dbl&gt;</th><th scope=col>&lt;dbl&gt;</th><th scope=col>&lt;int&gt;</th><th scope=col>&lt;int&gt;</th><th scope=col>&lt;int&gt;</th><th scope=col>&lt;int&gt;</th><th scope=col>&lt;int&gt;</th><th scope=col>&lt;int&gt;</th><th scope=col>&lt;int&gt;</th><th scope=col>&lt;chr&gt;</th><th scope=col>&lt;dbl&gt;</th><th scope=col>&lt;dbl&gt;</th><th scope=col>&lt;dbl&gt;</th></tr>\n",
       "</thead>\n",
       "<tbody>\n",
       "\t<tr><td>ENSG00000188290</td><td>1_662622_G_A</td><td>0.06319884</td><td>-0.1249683</td><td>0.06726719</td><td>-1</td><td>1</td><td> 934342</td><td> 935552</td><td>172</td><td>172</td><td>1</td><td>662622</td><td>A</td><td>1</td><td>0.08139535</td><td>1</td></tr>\n",
       "\t<tr><td>ENSG00000131591</td><td>1_662622_G_A</td><td>0.09762762</td><td> 0.1412883</td><td>0.08529503</td><td>-1</td><td>1</td><td>1017198</td><td>1051741</td><td>172</td><td>172</td><td>1</td><td>662622</td><td>A</td><td>1</td><td>0.08139535</td><td>1</td></tr>\n",
       "</tbody>\n",
       "</table>\n"
      ],
      "text/latex": [
       "A data.frame: 2 × 17\n",
       "\\begin{tabular}{r|lllllllllllllllll}\n",
       " feature\\_id & snp\\_id & p\\_value & beta & beta\\_se & empirical\\_feature\\_p\\_value & feature\\_chromosome & feature\\_start & feature\\_end & n\\_samples & n\\_e\\_samples & snp\\_chromosome & snp\\_position & assessed\\_allele & call\\_rate & maf & hwe\\_p\\\\\n",
       " <chr> & <chr> & <dbl> & <dbl> & <dbl> & <dbl> & <int> & <int> & <int> & <int> & <int> & <int> & <int> & <chr> & <dbl> & <dbl> & <dbl>\\\\\n",
       "\\hline\n",
       "\t ENSG00000188290 & 1\\_662622\\_G\\_A & 0.06319884 & -0.1249683 & 0.06726719 & -1 & 1 &  934342 &  935552 & 172 & 172 & 1 & 662622 & A & 1 & 0.08139535 & 1\\\\\n",
       "\t ENSG00000131591 & 1\\_662622\\_G\\_A & 0.09762762 &  0.1412883 & 0.08529503 & -1 & 1 & 1017198 & 1051741 & 172 & 172 & 1 & 662622 & A & 1 & 0.08139535 & 1\\\\\n",
       "\\end{tabular}\n"
      ],
      "text/markdown": [
       "\n",
       "A data.frame: 2 × 17\n",
       "\n",
       "| feature_id &lt;chr&gt; | snp_id &lt;chr&gt; | p_value &lt;dbl&gt; | beta &lt;dbl&gt; | beta_se &lt;dbl&gt; | empirical_feature_p_value &lt;dbl&gt; | feature_chromosome &lt;int&gt; | feature_start &lt;int&gt; | feature_end &lt;int&gt; | n_samples &lt;int&gt; | n_e_samples &lt;int&gt; | snp_chromosome &lt;int&gt; | snp_position &lt;int&gt; | assessed_allele &lt;chr&gt; | call_rate &lt;dbl&gt; | maf &lt;dbl&gt; | hwe_p &lt;dbl&gt; |\n",
       "|---|---|---|---|---|---|---|---|---|---|---|---|---|---|---|---|---|\n",
       "| ENSG00000188290 | 1_662622_G_A | 0.06319884 | -0.1249683 | 0.06726719 | -1 | 1 |  934342 |  935552 | 172 | 172 | 1 | 662622 | A | 1 | 0.08139535 | 1 |\n",
       "| ENSG00000131591 | 1_662622_G_A | 0.09762762 |  0.1412883 | 0.08529503 | -1 | 1 | 1017198 | 1051741 | 172 | 172 | 1 | 662622 | A | 1 | 0.08139535 | 1 |\n",
       "\n"
      ],
      "text/plain": [
       "  feature_id      snp_id       p_value    beta       beta_se   \n",
       "1 ENSG00000188290 1_662622_G_A 0.06319884 -0.1249683 0.06726719\n",
       "2 ENSG00000131591 1_662622_G_A 0.09762762  0.1412883 0.08529503\n",
       "  empirical_feature_p_value feature_chromosome feature_start feature_end\n",
       "1 -1                        1                   934342        935552    \n",
       "2 -1                        1                  1017198       1051741    \n",
       "  n_samples n_e_samples snp_chromosome snp_position assessed_allele call_rate\n",
       "1 172       172         1              662622       A               1        \n",
       "2 172       172         1              662622       A               1        \n",
       "  maf        hwe_p\n",
       "1 0.08139535 1    \n",
       "2 0.08139535 1    "
      ]
     },
     "metadata": {},
     "output_type": "display_data"
    },
    {
     "data": {
      "text/html": [
       "<table>\n",
       "<caption>A data.frame: 2 × 17</caption>\n",
       "<thead>\n",
       "\t<tr><th scope=col>feature_id</th><th scope=col>snp_id</th><th scope=col>p_value</th><th scope=col>beta</th><th scope=col>beta_se</th><th scope=col>empirical_feature_p_value</th><th scope=col>feature_chromosome</th><th scope=col>feature_start</th><th scope=col>feature_end</th><th scope=col>n_samples</th><th scope=col>n_e_samples</th><th scope=col>snp_chromosome</th><th scope=col>snp_position</th><th scope=col>assessed_allele</th><th scope=col>call_rate</th><th scope=col>maf</th><th scope=col>hwe_p</th></tr>\n",
       "\t<tr><th scope=col>&lt;chr&gt;</th><th scope=col>&lt;chr&gt;</th><th scope=col>&lt;dbl&gt;</th><th scope=col>&lt;dbl&gt;</th><th scope=col>&lt;dbl&gt;</th><th scope=col>&lt;dbl&gt;</th><th scope=col>&lt;int&gt;</th><th scope=col>&lt;int&gt;</th><th scope=col>&lt;int&gt;</th><th scope=col>&lt;int&gt;</th><th scope=col>&lt;int&gt;</th><th scope=col>&lt;int&gt;</th><th scope=col>&lt;int&gt;</th><th scope=col>&lt;chr&gt;</th><th scope=col>&lt;dbl&gt;</th><th scope=col>&lt;dbl&gt;</th><th scope=col>&lt;dbl&gt;</th></tr>\n",
       "</thead>\n",
       "<tbody>\n",
       "\t<tr><td>ENSG00000131591</td><td>1_662622_G_A</td><td>0.06410005</td><td>0.3010119</td><td>0.1625788</td><td>-1</td><td>1</td><td>1017198</td><td>1051741</td><td>78</td><td>78</td><td>1</td><td>662622</td><td>A</td><td>1</td><td>0.08333333</td><td>0.4197149</td></tr>\n",
       "\t<tr><td>ENSG00000078808</td><td>1_662622_G_A</td><td>0.18017883</td><td>0.2087329</td><td>0.1557470</td><td>-1</td><td>1</td><td>1152288</td><td>1167411</td><td>78</td><td>78</td><td>1</td><td>662622</td><td>A</td><td>1</td><td>0.08333333</td><td>0.4197149</td></tr>\n",
       "</tbody>\n",
       "</table>\n"
      ],
      "text/latex": [
       "A data.frame: 2 × 17\n",
       "\\begin{tabular}{r|lllllllllllllllll}\n",
       " feature\\_id & snp\\_id & p\\_value & beta & beta\\_se & empirical\\_feature\\_p\\_value & feature\\_chromosome & feature\\_start & feature\\_end & n\\_samples & n\\_e\\_samples & snp\\_chromosome & snp\\_position & assessed\\_allele & call\\_rate & maf & hwe\\_p\\\\\n",
       " <chr> & <chr> & <dbl> & <dbl> & <dbl> & <dbl> & <int> & <int> & <int> & <int> & <int> & <int> & <int> & <chr> & <dbl> & <dbl> & <dbl>\\\\\n",
       "\\hline\n",
       "\t ENSG00000131591 & 1\\_662622\\_G\\_A & 0.06410005 & 0.3010119 & 0.1625788 & -1 & 1 & 1017198 & 1051741 & 78 & 78 & 1 & 662622 & A & 1 & 0.08333333 & 0.4197149\\\\\n",
       "\t ENSG00000078808 & 1\\_662622\\_G\\_A & 0.18017883 & 0.2087329 & 0.1557470 & -1 & 1 & 1152288 & 1167411 & 78 & 78 & 1 & 662622 & A & 1 & 0.08333333 & 0.4197149\\\\\n",
       "\\end{tabular}\n"
      ],
      "text/markdown": [
       "\n",
       "A data.frame: 2 × 17\n",
       "\n",
       "| feature_id &lt;chr&gt; | snp_id &lt;chr&gt; | p_value &lt;dbl&gt; | beta &lt;dbl&gt; | beta_se &lt;dbl&gt; | empirical_feature_p_value &lt;dbl&gt; | feature_chromosome &lt;int&gt; | feature_start &lt;int&gt; | feature_end &lt;int&gt; | n_samples &lt;int&gt; | n_e_samples &lt;int&gt; | snp_chromosome &lt;int&gt; | snp_position &lt;int&gt; | assessed_allele &lt;chr&gt; | call_rate &lt;dbl&gt; | maf &lt;dbl&gt; | hwe_p &lt;dbl&gt; |\n",
       "|---|---|---|---|---|---|---|---|---|---|---|---|---|---|---|---|---|\n",
       "| ENSG00000131591 | 1_662622_G_A | 0.06410005 | 0.3010119 | 0.1625788 | -1 | 1 | 1017198 | 1051741 | 78 | 78 | 1 | 662622 | A | 1 | 0.08333333 | 0.4197149 |\n",
       "| ENSG00000078808 | 1_662622_G_A | 0.18017883 | 0.2087329 | 0.1557470 | -1 | 1 | 1152288 | 1167411 | 78 | 78 | 1 | 662622 | A | 1 | 0.08333333 | 0.4197149 |\n",
       "\n"
      ],
      "text/plain": [
       "  feature_id      snp_id       p_value    beta      beta_se  \n",
       "1 ENSG00000131591 1_662622_G_A 0.06410005 0.3010119 0.1625788\n",
       "2 ENSG00000078808 1_662622_G_A 0.18017883 0.2087329 0.1557470\n",
       "  empirical_feature_p_value feature_chromosome feature_start feature_end\n",
       "1 -1                        1                  1017198       1051741    \n",
       "2 -1                        1                  1152288       1167411    \n",
       "  n_samples n_e_samples snp_chromosome snp_position assessed_allele call_rate\n",
       "1 78        78          1              662622       A               1        \n",
       "2 78        78          1              662622       A               1        \n",
       "  maf        hwe_p    \n",
       "1 0.08333333 0.4197149\n",
       "2 0.08333333 0.4197149"
      ]
     },
     "metadata": {},
     "output_type": "display_data"
    }
   ],
   "source": [
    "#### D11\n",
    "## FPP\n",
    "FPP.D11_filename = paste0(eqtl_folder,\"pool1_13_noddd_D11.FPP.qtl_results_all.sorted.txt.gz\")\n",
    "FPP.D11 = read.table(gzfile(FPP.D11_filename), header = TRUE)\n",
    "# nrow(FPP.D11)\n",
    "head(FPP.D11,2)\n",
    "\n",
    "## P_FPP\n",
    "P_FPP.D11_filename = paste0(eqtl_folder,\"pool1_13_noddd_D11.P_FPP.qtl_results_all.sorted.txt.gz\")\n",
    "P_FPP.D11 = read.table(gzfile(P_FPP.D11_filename), header = TRUE)\n",
    "# nrow(P_FPP.D11)\n",
    "head(P_FPP.D11,2)\n",
    "\n",
    "## NB\n",
    "NB.D11_filename = paste0(eqtl_folder,\"pool1_13_noddd_D11.NB.qtl_results_all.sorted.txt.gz\")\n",
    "NB.D11 = read.table(gzfile(NB.D11_filename), header = TRUE)\n",
    "# nrow(NB.D11)\n",
    "head(NB.D11,2)"
   ]
  },
  {
   "cell_type": "code",
   "execution_count": 674,
   "metadata": {},
   "outputs": [
    {
     "data": {
      "text/html": [
       "<table>\n",
       "<caption>A data.frame: 2 × 17</caption>\n",
       "<thead>\n",
       "\t<tr><th scope=col>feature_id</th><th scope=col>snp_id</th><th scope=col>p_value</th><th scope=col>beta</th><th scope=col>beta_se</th><th scope=col>empirical_feature_p_value</th><th scope=col>feature_chromosome</th><th scope=col>feature_start</th><th scope=col>feature_end</th><th scope=col>n_samples</th><th scope=col>n_e_samples</th><th scope=col>snp_chromosome</th><th scope=col>snp_position</th><th scope=col>assessed_allele</th><th scope=col>call_rate</th><th scope=col>maf</th><th scope=col>hwe_p</th></tr>\n",
       "\t<tr><th scope=col>&lt;chr&gt;</th><th scope=col>&lt;chr&gt;</th><th scope=col>&lt;dbl&gt;</th><th scope=col>&lt;dbl&gt;</th><th scope=col>&lt;dbl&gt;</th><th scope=col>&lt;dbl&gt;</th><th scope=col>&lt;int&gt;</th><th scope=col>&lt;int&gt;</th><th scope=col>&lt;int&gt;</th><th scope=col>&lt;int&gt;</th><th scope=col>&lt;int&gt;</th><th scope=col>&lt;int&gt;</th><th scope=col>&lt;int&gt;</th><th scope=col>&lt;chr&gt;</th><th scope=col>&lt;dbl&gt;</th><th scope=col>&lt;dbl&gt;</th><th scope=col>&lt;dbl&gt;</th></tr>\n",
       "</thead>\n",
       "<tbody>\n",
       "\t<tr><td>ENSG00000131591</td><td>1_662622_G_A</td><td>0.007208418</td><td>-0.2738275</td><td>0.1019060</td><td>-1</td><td>1</td><td>1017198</td><td>1051741</td><td>165</td><td>165</td><td>1</td><td>662622</td><td>A</td><td>1</td><td>0.08787879</td><td>1</td></tr>\n",
       "\t<tr><td>ENSG00000187608</td><td>1_662622_G_A</td><td>0.206927925</td><td> 0.1567687</td><td>0.1242167</td><td>-1</td><td>1</td><td> 948803</td><td> 949920</td><td>165</td><td>165</td><td>1</td><td>662622</td><td>A</td><td>1</td><td>0.08787879</td><td>1</td></tr>\n",
       "</tbody>\n",
       "</table>\n"
      ],
      "text/latex": [
       "A data.frame: 2 × 17\n",
       "\\begin{tabular}{r|lllllllllllllllll}\n",
       " feature\\_id & snp\\_id & p\\_value & beta & beta\\_se & empirical\\_feature\\_p\\_value & feature\\_chromosome & feature\\_start & feature\\_end & n\\_samples & n\\_e\\_samples & snp\\_chromosome & snp\\_position & assessed\\_allele & call\\_rate & maf & hwe\\_p\\\\\n",
       " <chr> & <chr> & <dbl> & <dbl> & <dbl> & <dbl> & <int> & <int> & <int> & <int> & <int> & <int> & <int> & <chr> & <dbl> & <dbl> & <dbl>\\\\\n",
       "\\hline\n",
       "\t ENSG00000131591 & 1\\_662622\\_G\\_A & 0.007208418 & -0.2738275 & 0.1019060 & -1 & 1 & 1017198 & 1051741 & 165 & 165 & 1 & 662622 & A & 1 & 0.08787879 & 1\\\\\n",
       "\t ENSG00000187608 & 1\\_662622\\_G\\_A & 0.206927925 &  0.1567687 & 0.1242167 & -1 & 1 &  948803 &  949920 & 165 & 165 & 1 & 662622 & A & 1 & 0.08787879 & 1\\\\\n",
       "\\end{tabular}\n"
      ],
      "text/markdown": [
       "\n",
       "A data.frame: 2 × 17\n",
       "\n",
       "| feature_id &lt;chr&gt; | snp_id &lt;chr&gt; | p_value &lt;dbl&gt; | beta &lt;dbl&gt; | beta_se &lt;dbl&gt; | empirical_feature_p_value &lt;dbl&gt; | feature_chromosome &lt;int&gt; | feature_start &lt;int&gt; | feature_end &lt;int&gt; | n_samples &lt;int&gt; | n_e_samples &lt;int&gt; | snp_chromosome &lt;int&gt; | snp_position &lt;int&gt; | assessed_allele &lt;chr&gt; | call_rate &lt;dbl&gt; | maf &lt;dbl&gt; | hwe_p &lt;dbl&gt; |\n",
       "|---|---|---|---|---|---|---|---|---|---|---|---|---|---|---|---|---|\n",
       "| ENSG00000131591 | 1_662622_G_A | 0.007208418 | -0.2738275 | 0.1019060 | -1 | 1 | 1017198 | 1051741 | 165 | 165 | 1 | 662622 | A | 1 | 0.08787879 | 1 |\n",
       "| ENSG00000187608 | 1_662622_G_A | 0.206927925 |  0.1567687 | 0.1242167 | -1 | 1 |  948803 |  949920 | 165 | 165 | 1 | 662622 | A | 1 | 0.08787879 | 1 |\n",
       "\n"
      ],
      "text/plain": [
       "  feature_id      snp_id       p_value     beta       beta_se  \n",
       "1 ENSG00000131591 1_662622_G_A 0.007208418 -0.2738275 0.1019060\n",
       "2 ENSG00000187608 1_662622_G_A 0.206927925  0.1567687 0.1242167\n",
       "  empirical_feature_p_value feature_chromosome feature_start feature_end\n",
       "1 -1                        1                  1017198       1051741    \n",
       "2 -1                        1                   948803        949920    \n",
       "  n_samples n_e_samples snp_chromosome snp_position assessed_allele call_rate\n",
       "1 165       165         1              662622       A               1        \n",
       "2 165       165         1              662622       A               1        \n",
       "  maf        hwe_p\n",
       "1 0.08787879 1    \n",
       "2 0.08787879 1    "
      ]
     },
     "metadata": {},
     "output_type": "display_data"
    },
    {
     "data": {
      "text/html": [
       "<table>\n",
       "<caption>A data.frame: 2 × 17</caption>\n",
       "<thead>\n",
       "\t<tr><th scope=col>feature_id</th><th scope=col>snp_id</th><th scope=col>p_value</th><th scope=col>beta</th><th scope=col>beta_se</th><th scope=col>empirical_feature_p_value</th><th scope=col>feature_chromosome</th><th scope=col>feature_start</th><th scope=col>feature_end</th><th scope=col>n_samples</th><th scope=col>n_e_samples</th><th scope=col>snp_chromosome</th><th scope=col>snp_position</th><th scope=col>assessed_allele</th><th scope=col>call_rate</th><th scope=col>maf</th><th scope=col>hwe_p</th></tr>\n",
       "\t<tr><th scope=col>&lt;chr&gt;</th><th scope=col>&lt;chr&gt;</th><th scope=col>&lt;dbl&gt;</th><th scope=col>&lt;dbl&gt;</th><th scope=col>&lt;dbl&gt;</th><th scope=col>&lt;dbl&gt;</th><th scope=col>&lt;int&gt;</th><th scope=col>&lt;int&gt;</th><th scope=col>&lt;int&gt;</th><th scope=col>&lt;int&gt;</th><th scope=col>&lt;int&gt;</th><th scope=col>&lt;int&gt;</th><th scope=col>&lt;int&gt;</th><th scope=col>&lt;chr&gt;</th><th scope=col>&lt;dbl&gt;</th><th scope=col>&lt;dbl&gt;</th><th scope=col>&lt;dbl&gt;</th></tr>\n",
       "</thead>\n",
       "<tbody>\n",
       "\t<tr><td>ENSG00000131591</td><td>1_662622_G_A</td><td>0.01828746</td><td>-0.2618217</td><td>0.1109533</td><td>-1</td><td>1</td><td>1017198</td><td>1051741</td><td>151</td><td>151</td><td>1</td><td>662622</td><td>A</td><td>1</td><td>0.08278146</td><td>1</td></tr>\n",
       "\t<tr><td>ENSG00000187608</td><td>1_662622_G_A</td><td>0.16177672</td><td> 0.2081616</td><td>0.1487803</td><td>-1</td><td>1</td><td> 948803</td><td> 949920</td><td>151</td><td>151</td><td>1</td><td>662622</td><td>A</td><td>1</td><td>0.08278146</td><td>1</td></tr>\n",
       "</tbody>\n",
       "</table>\n"
      ],
      "text/latex": [
       "A data.frame: 2 × 17\n",
       "\\begin{tabular}{r|lllllllllllllllll}\n",
       " feature\\_id & snp\\_id & p\\_value & beta & beta\\_se & empirical\\_feature\\_p\\_value & feature\\_chromosome & feature\\_start & feature\\_end & n\\_samples & n\\_e\\_samples & snp\\_chromosome & snp\\_position & assessed\\_allele & call\\_rate & maf & hwe\\_p\\\\\n",
       " <chr> & <chr> & <dbl> & <dbl> & <dbl> & <dbl> & <int> & <int> & <int> & <int> & <int> & <int> & <int> & <chr> & <dbl> & <dbl> & <dbl>\\\\\n",
       "\\hline\n",
       "\t ENSG00000131591 & 1\\_662622\\_G\\_A & 0.01828746 & -0.2618217 & 0.1109533 & -1 & 1 & 1017198 & 1051741 & 151 & 151 & 1 & 662622 & A & 1 & 0.08278146 & 1\\\\\n",
       "\t ENSG00000187608 & 1\\_662622\\_G\\_A & 0.16177672 &  0.2081616 & 0.1487803 & -1 & 1 &  948803 &  949920 & 151 & 151 & 1 & 662622 & A & 1 & 0.08278146 & 1\\\\\n",
       "\\end{tabular}\n"
      ],
      "text/markdown": [
       "\n",
       "A data.frame: 2 × 17\n",
       "\n",
       "| feature_id &lt;chr&gt; | snp_id &lt;chr&gt; | p_value &lt;dbl&gt; | beta &lt;dbl&gt; | beta_se &lt;dbl&gt; | empirical_feature_p_value &lt;dbl&gt; | feature_chromosome &lt;int&gt; | feature_start &lt;int&gt; | feature_end &lt;int&gt; | n_samples &lt;int&gt; | n_e_samples &lt;int&gt; | snp_chromosome &lt;int&gt; | snp_position &lt;int&gt; | assessed_allele &lt;chr&gt; | call_rate &lt;dbl&gt; | maf &lt;dbl&gt; | hwe_p &lt;dbl&gt; |\n",
       "|---|---|---|---|---|---|---|---|---|---|---|---|---|---|---|---|---|\n",
       "| ENSG00000131591 | 1_662622_G_A | 0.01828746 | -0.2618217 | 0.1109533 | -1 | 1 | 1017198 | 1051741 | 151 | 151 | 1 | 662622 | A | 1 | 0.08278146 | 1 |\n",
       "| ENSG00000187608 | 1_662622_G_A | 0.16177672 |  0.2081616 | 0.1487803 | -1 | 1 |  948803 |  949920 | 151 | 151 | 1 | 662622 | A | 1 | 0.08278146 | 1 |\n",
       "\n"
      ],
      "text/plain": [
       "  feature_id      snp_id       p_value    beta       beta_se  \n",
       "1 ENSG00000131591 1_662622_G_A 0.01828746 -0.2618217 0.1109533\n",
       "2 ENSG00000187608 1_662622_G_A 0.16177672  0.2081616 0.1487803\n",
       "  empirical_feature_p_value feature_chromosome feature_start feature_end\n",
       "1 -1                        1                  1017198       1051741    \n",
       "2 -1                        1                   948803        949920    \n",
       "  n_samples n_e_samples snp_chromosome snp_position assessed_allele call_rate\n",
       "1 151       151         1              662622       A               1        \n",
       "2 151       151         1              662622       A               1        \n",
       "  maf        hwe_p\n",
       "1 0.08278146 1    \n",
       "2 0.08278146 1    "
      ]
     },
     "metadata": {},
     "output_type": "display_data"
    },
    {
     "data": {
      "text/html": [
       "<table>\n",
       "<caption>A data.frame: 2 × 17</caption>\n",
       "<thead>\n",
       "\t<tr><th scope=col>feature_id</th><th scope=col>snp_id</th><th scope=col>p_value</th><th scope=col>beta</th><th scope=col>beta_se</th><th scope=col>empirical_feature_p_value</th><th scope=col>feature_chromosome</th><th scope=col>feature_start</th><th scope=col>feature_end</th><th scope=col>n_samples</th><th scope=col>n_e_samples</th><th scope=col>snp_chromosome</th><th scope=col>snp_position</th><th scope=col>assessed_allele</th><th scope=col>call_rate</th><th scope=col>maf</th><th scope=col>hwe_p</th></tr>\n",
       "\t<tr><th scope=col>&lt;chr&gt;</th><th scope=col>&lt;chr&gt;</th><th scope=col>&lt;dbl&gt;</th><th scope=col>&lt;dbl&gt;</th><th scope=col>&lt;dbl&gt;</th><th scope=col>&lt;dbl&gt;</th><th scope=col>&lt;int&gt;</th><th scope=col>&lt;int&gt;</th><th scope=col>&lt;int&gt;</th><th scope=col>&lt;int&gt;</th><th scope=col>&lt;int&gt;</th><th scope=col>&lt;int&gt;</th><th scope=col>&lt;int&gt;</th><th scope=col>&lt;chr&gt;</th><th scope=col>&lt;dbl&gt;</th><th scope=col>&lt;dbl&gt;</th><th scope=col>&lt;dbl&gt;</th></tr>\n",
       "</thead>\n",
       "<tbody>\n",
       "\t<tr><td>ENSG00000187634</td><td>1_662622_G_A</td><td>0.3395437</td><td>0.1366921</td><td>0.1431230</td><td>-1</td><td>1</td><td>860260</td><td>879955</td><td>133</td><td>133</td><td>1</td><td>662622</td><td>A</td><td>1</td><td>0.07518797</td><td>0.5377241</td></tr>\n",
       "\t<tr><td>ENSG00000188157</td><td>1_662622_G_A</td><td>0.3950862</td><td>0.1057316</td><td>0.1243273</td><td>-1</td><td>1</td><td>955503</td><td>991496</td><td>133</td><td>133</td><td>1</td><td>662622</td><td>A</td><td>1</td><td>0.07518797</td><td>0.5377241</td></tr>\n",
       "</tbody>\n",
       "</table>\n"
      ],
      "text/latex": [
       "A data.frame: 2 × 17\n",
       "\\begin{tabular}{r|lllllllllllllllll}\n",
       " feature\\_id & snp\\_id & p\\_value & beta & beta\\_se & empirical\\_feature\\_p\\_value & feature\\_chromosome & feature\\_start & feature\\_end & n\\_samples & n\\_e\\_samples & snp\\_chromosome & snp\\_position & assessed\\_allele & call\\_rate & maf & hwe\\_p\\\\\n",
       " <chr> & <chr> & <dbl> & <dbl> & <dbl> & <dbl> & <int> & <int> & <int> & <int> & <int> & <int> & <int> & <chr> & <dbl> & <dbl> & <dbl>\\\\\n",
       "\\hline\n",
       "\t ENSG00000187634 & 1\\_662622\\_G\\_A & 0.3395437 & 0.1366921 & 0.1431230 & -1 & 1 & 860260 & 879955 & 133 & 133 & 1 & 662622 & A & 1 & 0.07518797 & 0.5377241\\\\\n",
       "\t ENSG00000188157 & 1\\_662622\\_G\\_A & 0.3950862 & 0.1057316 & 0.1243273 & -1 & 1 & 955503 & 991496 & 133 & 133 & 1 & 662622 & A & 1 & 0.07518797 & 0.5377241\\\\\n",
       "\\end{tabular}\n"
      ],
      "text/markdown": [
       "\n",
       "A data.frame: 2 × 17\n",
       "\n",
       "| feature_id &lt;chr&gt; | snp_id &lt;chr&gt; | p_value &lt;dbl&gt; | beta &lt;dbl&gt; | beta_se &lt;dbl&gt; | empirical_feature_p_value &lt;dbl&gt; | feature_chromosome &lt;int&gt; | feature_start &lt;int&gt; | feature_end &lt;int&gt; | n_samples &lt;int&gt; | n_e_samples &lt;int&gt; | snp_chromosome &lt;int&gt; | snp_position &lt;int&gt; | assessed_allele &lt;chr&gt; | call_rate &lt;dbl&gt; | maf &lt;dbl&gt; | hwe_p &lt;dbl&gt; |\n",
       "|---|---|---|---|---|---|---|---|---|---|---|---|---|---|---|---|---|\n",
       "| ENSG00000187634 | 1_662622_G_A | 0.3395437 | 0.1366921 | 0.1431230 | -1 | 1 | 860260 | 879955 | 133 | 133 | 1 | 662622 | A | 1 | 0.07518797 | 0.5377241 |\n",
       "| ENSG00000188157 | 1_662622_G_A | 0.3950862 | 0.1057316 | 0.1243273 | -1 | 1 | 955503 | 991496 | 133 | 133 | 1 | 662622 | A | 1 | 0.07518797 | 0.5377241 |\n",
       "\n"
      ],
      "text/plain": [
       "  feature_id      snp_id       p_value   beta      beta_se  \n",
       "1 ENSG00000187634 1_662622_G_A 0.3395437 0.1366921 0.1431230\n",
       "2 ENSG00000188157 1_662622_G_A 0.3950862 0.1057316 0.1243273\n",
       "  empirical_feature_p_value feature_chromosome feature_start feature_end\n",
       "1 -1                        1                  860260        879955     \n",
       "2 -1                        1                  955503        991496     \n",
       "  n_samples n_e_samples snp_chromosome snp_position assessed_allele call_rate\n",
       "1 133       133         1              662622       A               1        \n",
       "2 133       133         1              662622       A               1        \n",
       "  maf        hwe_p    \n",
       "1 0.07518797 0.5377241\n",
       "2 0.07518797 0.5377241"
      ]
     },
     "metadata": {},
     "output_type": "display_data"
    },
    {
     "data": {
      "text/html": [
       "<table>\n",
       "<caption>A data.frame: 2 × 17</caption>\n",
       "<thead>\n",
       "\t<tr><th scope=col>feature_id</th><th scope=col>snp_id</th><th scope=col>p_value</th><th scope=col>beta</th><th scope=col>beta_se</th><th scope=col>empirical_feature_p_value</th><th scope=col>feature_chromosome</th><th scope=col>feature_start</th><th scope=col>feature_end</th><th scope=col>n_samples</th><th scope=col>n_e_samples</th><th scope=col>snp_chromosome</th><th scope=col>snp_position</th><th scope=col>assessed_allele</th><th scope=col>call_rate</th><th scope=col>maf</th><th scope=col>hwe_p</th></tr>\n",
       "\t<tr><th scope=col>&lt;chr&gt;</th><th scope=col>&lt;chr&gt;</th><th scope=col>&lt;dbl&gt;</th><th scope=col>&lt;dbl&gt;</th><th scope=col>&lt;dbl&gt;</th><th scope=col>&lt;dbl&gt;</th><th scope=col>&lt;int&gt;</th><th scope=col>&lt;int&gt;</th><th scope=col>&lt;int&gt;</th><th scope=col>&lt;int&gt;</th><th scope=col>&lt;int&gt;</th><th scope=col>&lt;int&gt;</th><th scope=col>&lt;int&gt;</th><th scope=col>&lt;chr&gt;</th><th scope=col>&lt;dbl&gt;</th><th scope=col>&lt;dbl&gt;</th><th scope=col>&lt;dbl&gt;</th></tr>\n",
       "</thead>\n",
       "<tbody>\n",
       "\t<tr><td>ENSG00000188976</td><td>1_662622_G_A</td><td>0.02454912</td><td>-0.1824965</td><td>0.08116636</td><td>-1</td><td>1</td><td> 879584</td><td> 894689</td><td>152</td><td>152</td><td>1</td><td>662622</td><td>A</td><td>1</td><td>0.08223684</td><td>1</td></tr>\n",
       "\t<tr><td>ENSG00000131591</td><td>1_662622_G_A</td><td>0.12423359</td><td>-0.1664452</td><td>0.10827510</td><td>-1</td><td>1</td><td>1017198</td><td>1051741</td><td>152</td><td>152</td><td>1</td><td>662622</td><td>A</td><td>1</td><td>0.08223684</td><td>1</td></tr>\n",
       "</tbody>\n",
       "</table>\n"
      ],
      "text/latex": [
       "A data.frame: 2 × 17\n",
       "\\begin{tabular}{r|lllllllllllllllll}\n",
       " feature\\_id & snp\\_id & p\\_value & beta & beta\\_se & empirical\\_feature\\_p\\_value & feature\\_chromosome & feature\\_start & feature\\_end & n\\_samples & n\\_e\\_samples & snp\\_chromosome & snp\\_position & assessed\\_allele & call\\_rate & maf & hwe\\_p\\\\\n",
       " <chr> & <chr> & <dbl> & <dbl> & <dbl> & <dbl> & <int> & <int> & <int> & <int> & <int> & <int> & <int> & <chr> & <dbl> & <dbl> & <dbl>\\\\\n",
       "\\hline\n",
       "\t ENSG00000188976 & 1\\_662622\\_G\\_A & 0.02454912 & -0.1824965 & 0.08116636 & -1 & 1 &  879584 &  894689 & 152 & 152 & 1 & 662622 & A & 1 & 0.08223684 & 1\\\\\n",
       "\t ENSG00000131591 & 1\\_662622\\_G\\_A & 0.12423359 & -0.1664452 & 0.10827510 & -1 & 1 & 1017198 & 1051741 & 152 & 152 & 1 & 662622 & A & 1 & 0.08223684 & 1\\\\\n",
       "\\end{tabular}\n"
      ],
      "text/markdown": [
       "\n",
       "A data.frame: 2 × 17\n",
       "\n",
       "| feature_id &lt;chr&gt; | snp_id &lt;chr&gt; | p_value &lt;dbl&gt; | beta &lt;dbl&gt; | beta_se &lt;dbl&gt; | empirical_feature_p_value &lt;dbl&gt; | feature_chromosome &lt;int&gt; | feature_start &lt;int&gt; | feature_end &lt;int&gt; | n_samples &lt;int&gt; | n_e_samples &lt;int&gt; | snp_chromosome &lt;int&gt; | snp_position &lt;int&gt; | assessed_allele &lt;chr&gt; | call_rate &lt;dbl&gt; | maf &lt;dbl&gt; | hwe_p &lt;dbl&gt; |\n",
       "|---|---|---|---|---|---|---|---|---|---|---|---|---|---|---|---|---|\n",
       "| ENSG00000188976 | 1_662622_G_A | 0.02454912 | -0.1824965 | 0.08116636 | -1 | 1 |  879584 |  894689 | 152 | 152 | 1 | 662622 | A | 1 | 0.08223684 | 1 |\n",
       "| ENSG00000131591 | 1_662622_G_A | 0.12423359 | -0.1664452 | 0.10827510 | -1 | 1 | 1017198 | 1051741 | 152 | 152 | 1 | 662622 | A | 1 | 0.08223684 | 1 |\n",
       "\n"
      ],
      "text/plain": [
       "  feature_id      snp_id       p_value    beta       beta_se   \n",
       "1 ENSG00000188976 1_662622_G_A 0.02454912 -0.1824965 0.08116636\n",
       "2 ENSG00000131591 1_662622_G_A 0.12423359 -0.1664452 0.10827510\n",
       "  empirical_feature_p_value feature_chromosome feature_start feature_end\n",
       "1 -1                        1                   879584        894689    \n",
       "2 -1                        1                  1017198       1051741    \n",
       "  n_samples n_e_samples snp_chromosome snp_position assessed_allele call_rate\n",
       "1 152       152         1              662622       A               1        \n",
       "2 152       152         1              662622       A               1        \n",
       "  maf        hwe_p\n",
       "1 0.08223684 1    \n",
       "2 0.08223684 1    "
      ]
     },
     "metadata": {},
     "output_type": "display_data"
    }
   ],
   "source": [
    "#### D30\n",
    "\n",
    "## Dopaminergic neurons (DA)\n",
    "DA.D30_filename = paste0(eqtl_folder,\"pool1_13_noddd_D30.DA.qtl_results_all.sorted.txt.gz\")\n",
    "DA.D30 = read.table(gzfile(DA.D30_filename), header = TRUE)\n",
    "# nrow(DA.D30)\n",
    "head(DA.D30,2)\n",
    "\n",
    "# Serotonergic neurons (Sert)\n",
    "Sert.D30_filename = paste0(eqtl_folder,\"pool1_13_noddd_D30.Sert.qtl_results_all.sorted.txt.gz\")\n",
    "Sert.D30 = read.table(gzfile(Sert.D30_filename), header = TRUE)\n",
    "# nrow(Sert.D30)\n",
    "head(Sert.D30,2)\n",
    "\n",
    "# Ependymal cells (Epen1)\n",
    "Epen1.D30_filename = paste0(eqtl_folder,\"pool1_13_noddd_D30.Epen1.qtl_results_all.sorted.txt.gz\")\n",
    "Epen1.D30 = read.table(gzfile(Epen1.D30_filename), header = TRUE)\n",
    "# nrow(Epen1.D30)\n",
    "head(Epen1.D30,2)\n",
    "\n",
    "# Astrocytes (Astro)\n",
    "Astro.D30_filename = paste0(eqtl_folder,\"pool1_13_noddd_D30.Astro.qtl_results_all.sorted.txt.gz\")\n",
    "Astro.D30 = read.table(gzfile(Astro.D30_filename), header = TRUE)\n",
    "# nrow(Astro.D30)\n",
    "head(Astro.D30,2)"
   ]
  },
  {
   "cell_type": "code",
   "execution_count": 675,
   "metadata": {},
   "outputs": [
    {
     "data": {
      "text/html": [
       "<table>\n",
       "<caption>A data.frame: 2 × 17</caption>\n",
       "<thead>\n",
       "\t<tr><th scope=col>feature_id</th><th scope=col>snp_id</th><th scope=col>p_value</th><th scope=col>beta</th><th scope=col>beta_se</th><th scope=col>empirical_feature_p_value</th><th scope=col>feature_chromosome</th><th scope=col>feature_start</th><th scope=col>feature_end</th><th scope=col>n_samples</th><th scope=col>n_e_samples</th><th scope=col>snp_chromosome</th><th scope=col>snp_position</th><th scope=col>assessed_allele</th><th scope=col>call_rate</th><th scope=col>maf</th><th scope=col>hwe_p</th></tr>\n",
       "\t<tr><th scope=col>&lt;chr&gt;</th><th scope=col>&lt;chr&gt;</th><th scope=col>&lt;dbl&gt;</th><th scope=col>&lt;dbl&gt;</th><th scope=col>&lt;dbl&gt;</th><th scope=col>&lt;dbl&gt;</th><th scope=col>&lt;int&gt;</th><th scope=col>&lt;int&gt;</th><th scope=col>&lt;int&gt;</th><th scope=col>&lt;int&gt;</th><th scope=col>&lt;int&gt;</th><th scope=col>&lt;int&gt;</th><th scope=col>&lt;int&gt;</th><th scope=col>&lt;chr&gt;</th><th scope=col>&lt;dbl&gt;</th><th scope=col>&lt;dbl&gt;</th><th scope=col>&lt;dbl&gt;</th></tr>\n",
       "</thead>\n",
       "<tbody>\n",
       "\t<tr><td>ENSG00000131591</td><td>1_662622_G_A</td><td>0.002053446</td><td>0.3233397</td><td>0.10489897</td><td>-1</td><td>1</td><td>1017198</td><td>1051741</td><td>179</td><td>179</td><td>1</td><td>662622</td><td>A</td><td>1</td><td>0.07541899</td><td>1</td></tr>\n",
       "\t<tr><td>ENSG00000187634</td><td>1_662622_G_A</td><td>0.194135506</td><td>0.1091702</td><td>0.08407787</td><td>-1</td><td>1</td><td> 860260</td><td> 879955</td><td>179</td><td>179</td><td>1</td><td>662622</td><td>A</td><td>1</td><td>0.07541899</td><td>1</td></tr>\n",
       "</tbody>\n",
       "</table>\n"
      ],
      "text/latex": [
       "A data.frame: 2 × 17\n",
       "\\begin{tabular}{r|lllllllllllllllll}\n",
       " feature\\_id & snp\\_id & p\\_value & beta & beta\\_se & empirical\\_feature\\_p\\_value & feature\\_chromosome & feature\\_start & feature\\_end & n\\_samples & n\\_e\\_samples & snp\\_chromosome & snp\\_position & assessed\\_allele & call\\_rate & maf & hwe\\_p\\\\\n",
       " <chr> & <chr> & <dbl> & <dbl> & <dbl> & <dbl> & <int> & <int> & <int> & <int> & <int> & <int> & <int> & <chr> & <dbl> & <dbl> & <dbl>\\\\\n",
       "\\hline\n",
       "\t ENSG00000131591 & 1\\_662622\\_G\\_A & 0.002053446 & 0.3233397 & 0.10489897 & -1 & 1 & 1017198 & 1051741 & 179 & 179 & 1 & 662622 & A & 1 & 0.07541899 & 1\\\\\n",
       "\t ENSG00000187634 & 1\\_662622\\_G\\_A & 0.194135506 & 0.1091702 & 0.08407787 & -1 & 1 &  860260 &  879955 & 179 & 179 & 1 & 662622 & A & 1 & 0.07541899 & 1\\\\\n",
       "\\end{tabular}\n"
      ],
      "text/markdown": [
       "\n",
       "A data.frame: 2 × 17\n",
       "\n",
       "| feature_id &lt;chr&gt; | snp_id &lt;chr&gt; | p_value &lt;dbl&gt; | beta &lt;dbl&gt; | beta_se &lt;dbl&gt; | empirical_feature_p_value &lt;dbl&gt; | feature_chromosome &lt;int&gt; | feature_start &lt;int&gt; | feature_end &lt;int&gt; | n_samples &lt;int&gt; | n_e_samples &lt;int&gt; | snp_chromosome &lt;int&gt; | snp_position &lt;int&gt; | assessed_allele &lt;chr&gt; | call_rate &lt;dbl&gt; | maf &lt;dbl&gt; | hwe_p &lt;dbl&gt; |\n",
       "|---|---|---|---|---|---|---|---|---|---|---|---|---|---|---|---|---|\n",
       "| ENSG00000131591 | 1_662622_G_A | 0.002053446 | 0.3233397 | 0.10489897 | -1 | 1 | 1017198 | 1051741 | 179 | 179 | 1 | 662622 | A | 1 | 0.07541899 | 1 |\n",
       "| ENSG00000187634 | 1_662622_G_A | 0.194135506 | 0.1091702 | 0.08407787 | -1 | 1 |  860260 |  879955 | 179 | 179 | 1 | 662622 | A | 1 | 0.07541899 | 1 |\n",
       "\n"
      ],
      "text/plain": [
       "  feature_id      snp_id       p_value     beta      beta_se   \n",
       "1 ENSG00000131591 1_662622_G_A 0.002053446 0.3233397 0.10489897\n",
       "2 ENSG00000187634 1_662622_G_A 0.194135506 0.1091702 0.08407787\n",
       "  empirical_feature_p_value feature_chromosome feature_start feature_end\n",
       "1 -1                        1                  1017198       1051741    \n",
       "2 -1                        1                   860260        879955    \n",
       "  n_samples n_e_samples snp_chromosome snp_position assessed_allele call_rate\n",
       "1 179       179         1              662622       A               1        \n",
       "2 179       179         1              662622       A               1        \n",
       "  maf        hwe_p\n",
       "1 0.07541899 1    \n",
       "2 0.07541899 1    "
      ]
     },
     "metadata": {},
     "output_type": "display_data"
    },
    {
     "data": {
      "text/html": [
       "<table>\n",
       "<caption>A data.frame: 2 × 17</caption>\n",
       "<thead>\n",
       "\t<tr><th scope=col>feature_id</th><th scope=col>snp_id</th><th scope=col>p_value</th><th scope=col>beta</th><th scope=col>beta_se</th><th scope=col>empirical_feature_p_value</th><th scope=col>feature_chromosome</th><th scope=col>feature_start</th><th scope=col>feature_end</th><th scope=col>n_samples</th><th scope=col>n_e_samples</th><th scope=col>snp_chromosome</th><th scope=col>snp_position</th><th scope=col>assessed_allele</th><th scope=col>call_rate</th><th scope=col>maf</th><th scope=col>hwe_p</th></tr>\n",
       "\t<tr><th scope=col>&lt;chr&gt;</th><th scope=col>&lt;chr&gt;</th><th scope=col>&lt;dbl&gt;</th><th scope=col>&lt;dbl&gt;</th><th scope=col>&lt;dbl&gt;</th><th scope=col>&lt;dbl&gt;</th><th scope=col>&lt;int&gt;</th><th scope=col>&lt;int&gt;</th><th scope=col>&lt;int&gt;</th><th scope=col>&lt;int&gt;</th><th scope=col>&lt;int&gt;</th><th scope=col>&lt;int&gt;</th><th scope=col>&lt;int&gt;</th><th scope=col>&lt;chr&gt;</th><th scope=col>&lt;dbl&gt;</th><th scope=col>&lt;dbl&gt;</th><th scope=col>&lt;dbl&gt;</th></tr>\n",
       "</thead>\n",
       "<tbody>\n",
       "\t<tr><td>ENSG00000187634</td><td>1_662622_G_A</td><td>0.1110078</td><td>0.11317710</td><td>0.07101622</td><td>-1</td><td>1</td><td>860260</td><td>879955</td><td>171</td><td>171</td><td>1</td><td>662622</td><td>A</td><td>1</td><td>0.08187135</td><td>1</td></tr>\n",
       "\t<tr><td>ENSG00000188976</td><td>1_662622_G_A</td><td>0.4567408</td><td>0.03914145</td><td>0.05259362</td><td>-1</td><td>1</td><td>879584</td><td>894689</td><td>171</td><td>171</td><td>1</td><td>662622</td><td>A</td><td>1</td><td>0.08187135</td><td>1</td></tr>\n",
       "</tbody>\n",
       "</table>\n"
      ],
      "text/latex": [
       "A data.frame: 2 × 17\n",
       "\\begin{tabular}{r|lllllllllllllllll}\n",
       " feature\\_id & snp\\_id & p\\_value & beta & beta\\_se & empirical\\_feature\\_p\\_value & feature\\_chromosome & feature\\_start & feature\\_end & n\\_samples & n\\_e\\_samples & snp\\_chromosome & snp\\_position & assessed\\_allele & call\\_rate & maf & hwe\\_p\\\\\n",
       " <chr> & <chr> & <dbl> & <dbl> & <dbl> & <dbl> & <int> & <int> & <int> & <int> & <int> & <int> & <int> & <chr> & <dbl> & <dbl> & <dbl>\\\\\n",
       "\\hline\n",
       "\t ENSG00000187634 & 1\\_662622\\_G\\_A & 0.1110078 & 0.11317710 & 0.07101622 & -1 & 1 & 860260 & 879955 & 171 & 171 & 1 & 662622 & A & 1 & 0.08187135 & 1\\\\\n",
       "\t ENSG00000188976 & 1\\_662622\\_G\\_A & 0.4567408 & 0.03914145 & 0.05259362 & -1 & 1 & 879584 & 894689 & 171 & 171 & 1 & 662622 & A & 1 & 0.08187135 & 1\\\\\n",
       "\\end{tabular}\n"
      ],
      "text/markdown": [
       "\n",
       "A data.frame: 2 × 17\n",
       "\n",
       "| feature_id &lt;chr&gt; | snp_id &lt;chr&gt; | p_value &lt;dbl&gt; | beta &lt;dbl&gt; | beta_se &lt;dbl&gt; | empirical_feature_p_value &lt;dbl&gt; | feature_chromosome &lt;int&gt; | feature_start &lt;int&gt; | feature_end &lt;int&gt; | n_samples &lt;int&gt; | n_e_samples &lt;int&gt; | snp_chromosome &lt;int&gt; | snp_position &lt;int&gt; | assessed_allele &lt;chr&gt; | call_rate &lt;dbl&gt; | maf &lt;dbl&gt; | hwe_p &lt;dbl&gt; |\n",
       "|---|---|---|---|---|---|---|---|---|---|---|---|---|---|---|---|---|\n",
       "| ENSG00000187634 | 1_662622_G_A | 0.1110078 | 0.11317710 | 0.07101622 | -1 | 1 | 860260 | 879955 | 171 | 171 | 1 | 662622 | A | 1 | 0.08187135 | 1 |\n",
       "| ENSG00000188976 | 1_662622_G_A | 0.4567408 | 0.03914145 | 0.05259362 | -1 | 1 | 879584 | 894689 | 171 | 171 | 1 | 662622 | A | 1 | 0.08187135 | 1 |\n",
       "\n"
      ],
      "text/plain": [
       "  feature_id      snp_id       p_value   beta       beta_se   \n",
       "1 ENSG00000187634 1_662622_G_A 0.1110078 0.11317710 0.07101622\n",
       "2 ENSG00000188976 1_662622_G_A 0.4567408 0.03914145 0.05259362\n",
       "  empirical_feature_p_value feature_chromosome feature_start feature_end\n",
       "1 -1                        1                  860260        879955     \n",
       "2 -1                        1                  879584        894689     \n",
       "  n_samples n_e_samples snp_chromosome snp_position assessed_allele call_rate\n",
       "1 171       171         1              662622       A               1        \n",
       "2 171       171         1              662622       A               1        \n",
       "  maf        hwe_p\n",
       "1 0.08187135 1    \n",
       "2 0.08187135 1    "
      ]
     },
     "metadata": {},
     "output_type": "display_data"
    },
    {
     "data": {
      "text/html": [
       "<table>\n",
       "<caption>A data.frame: 2 × 17</caption>\n",
       "<thead>\n",
       "\t<tr><th scope=col>feature_id</th><th scope=col>snp_id</th><th scope=col>p_value</th><th scope=col>beta</th><th scope=col>beta_se</th><th scope=col>empirical_feature_p_value</th><th scope=col>feature_chromosome</th><th scope=col>feature_start</th><th scope=col>feature_end</th><th scope=col>n_samples</th><th scope=col>n_e_samples</th><th scope=col>snp_chromosome</th><th scope=col>snp_position</th><th scope=col>assessed_allele</th><th scope=col>call_rate</th><th scope=col>maf</th><th scope=col>hwe_p</th></tr>\n",
       "\t<tr><th scope=col>&lt;chr&gt;</th><th scope=col>&lt;chr&gt;</th><th scope=col>&lt;dbl&gt;</th><th scope=col>&lt;dbl&gt;</th><th scope=col>&lt;dbl&gt;</th><th scope=col>&lt;dbl&gt;</th><th scope=col>&lt;int&gt;</th><th scope=col>&lt;int&gt;</th><th scope=col>&lt;int&gt;</th><th scope=col>&lt;int&gt;</th><th scope=col>&lt;int&gt;</th><th scope=col>&lt;int&gt;</th><th scope=col>&lt;int&gt;</th><th scope=col>&lt;chr&gt;</th><th scope=col>&lt;dbl&gt;</th><th scope=col>&lt;dbl&gt;</th><th scope=col>&lt;dbl&gt;</th></tr>\n",
       "</thead>\n",
       "<tbody>\n",
       "\t<tr><td>ENSG00000078808</td><td>1_662622_G_A</td><td>0.04829529</td><td>-0.1114908</td><td>0.05645786</td><td>-1</td><td>1</td><td>1152288</td><td>1167411</td><td>175</td><td>175</td><td>1</td><td>662622</td><td>A</td><td>1</td><td>0.08</td><td>1</td></tr>\n",
       "\t<tr><td>ENSG00000187961</td><td>1_662622_G_A</td><td>0.10861662</td><td>-0.1970720</td><td>0.12282897</td><td>-1</td><td>1</td><td> 895967</td><td> 901095</td><td>175</td><td>175</td><td>1</td><td>662622</td><td>A</td><td>1</td><td>0.08</td><td>1</td></tr>\n",
       "</tbody>\n",
       "</table>\n"
      ],
      "text/latex": [
       "A data.frame: 2 × 17\n",
       "\\begin{tabular}{r|lllllllllllllllll}\n",
       " feature\\_id & snp\\_id & p\\_value & beta & beta\\_se & empirical\\_feature\\_p\\_value & feature\\_chromosome & feature\\_start & feature\\_end & n\\_samples & n\\_e\\_samples & snp\\_chromosome & snp\\_position & assessed\\_allele & call\\_rate & maf & hwe\\_p\\\\\n",
       " <chr> & <chr> & <dbl> & <dbl> & <dbl> & <dbl> & <int> & <int> & <int> & <int> & <int> & <int> & <int> & <chr> & <dbl> & <dbl> & <dbl>\\\\\n",
       "\\hline\n",
       "\t ENSG00000078808 & 1\\_662622\\_G\\_A & 0.04829529 & -0.1114908 & 0.05645786 & -1 & 1 & 1152288 & 1167411 & 175 & 175 & 1 & 662622 & A & 1 & 0.08 & 1\\\\\n",
       "\t ENSG00000187961 & 1\\_662622\\_G\\_A & 0.10861662 & -0.1970720 & 0.12282897 & -1 & 1 &  895967 &  901095 & 175 & 175 & 1 & 662622 & A & 1 & 0.08 & 1\\\\\n",
       "\\end{tabular}\n"
      ],
      "text/markdown": [
       "\n",
       "A data.frame: 2 × 17\n",
       "\n",
       "| feature_id &lt;chr&gt; | snp_id &lt;chr&gt; | p_value &lt;dbl&gt; | beta &lt;dbl&gt; | beta_se &lt;dbl&gt; | empirical_feature_p_value &lt;dbl&gt; | feature_chromosome &lt;int&gt; | feature_start &lt;int&gt; | feature_end &lt;int&gt; | n_samples &lt;int&gt; | n_e_samples &lt;int&gt; | snp_chromosome &lt;int&gt; | snp_position &lt;int&gt; | assessed_allele &lt;chr&gt; | call_rate &lt;dbl&gt; | maf &lt;dbl&gt; | hwe_p &lt;dbl&gt; |\n",
       "|---|---|---|---|---|---|---|---|---|---|---|---|---|---|---|---|---|\n",
       "| ENSG00000078808 | 1_662622_G_A | 0.04829529 | -0.1114908 | 0.05645786 | -1 | 1 | 1152288 | 1167411 | 175 | 175 | 1 | 662622 | A | 1 | 0.08 | 1 |\n",
       "| ENSG00000187961 | 1_662622_G_A | 0.10861662 | -0.1970720 | 0.12282897 | -1 | 1 |  895967 |  901095 | 175 | 175 | 1 | 662622 | A | 1 | 0.08 | 1 |\n",
       "\n"
      ],
      "text/plain": [
       "  feature_id      snp_id       p_value    beta       beta_se   \n",
       "1 ENSG00000078808 1_662622_G_A 0.04829529 -0.1114908 0.05645786\n",
       "2 ENSG00000187961 1_662622_G_A 0.10861662 -0.1970720 0.12282897\n",
       "  empirical_feature_p_value feature_chromosome feature_start feature_end\n",
       "1 -1                        1                  1152288       1167411    \n",
       "2 -1                        1                   895967        901095    \n",
       "  n_samples n_e_samples snp_chromosome snp_position assessed_allele call_rate\n",
       "1 175       175         1              662622       A               1        \n",
       "2 175       175         1              662622       A               1        \n",
       "  maf  hwe_p\n",
       "1 0.08 1    \n",
       "2 0.08 1    "
      ]
     },
     "metadata": {},
     "output_type": "display_data"
    },
    {
     "data": {
      "text/html": [
       "<table>\n",
       "<caption>A data.frame: 2 × 17</caption>\n",
       "<thead>\n",
       "\t<tr><th scope=col>feature_id</th><th scope=col>snp_id</th><th scope=col>p_value</th><th scope=col>beta</th><th scope=col>beta_se</th><th scope=col>empirical_feature_p_value</th><th scope=col>feature_chromosome</th><th scope=col>feature_start</th><th scope=col>feature_end</th><th scope=col>n_samples</th><th scope=col>n_e_samples</th><th scope=col>snp_chromosome</th><th scope=col>snp_position</th><th scope=col>assessed_allele</th><th scope=col>call_rate</th><th scope=col>maf</th><th scope=col>hwe_p</th></tr>\n",
       "\t<tr><th scope=col>&lt;chr&gt;</th><th scope=col>&lt;chr&gt;</th><th scope=col>&lt;dbl&gt;</th><th scope=col>&lt;dbl&gt;</th><th scope=col>&lt;dbl&gt;</th><th scope=col>&lt;dbl&gt;</th><th scope=col>&lt;int&gt;</th><th scope=col>&lt;int&gt;</th><th scope=col>&lt;int&gt;</th><th scope=col>&lt;int&gt;</th><th scope=col>&lt;int&gt;</th><th scope=col>&lt;int&gt;</th><th scope=col>&lt;int&gt;</th><th scope=col>&lt;chr&gt;</th><th scope=col>&lt;dbl&gt;</th><th scope=col>&lt;dbl&gt;</th><th scope=col>&lt;dbl&gt;</th></tr>\n",
       "</thead>\n",
       "<tbody>\n",
       "\t<tr><td>ENSG00000188157</td><td>1_662622_G_A</td><td>0.01245247</td><td>0.3078448</td><td>0.1231845</td><td>-1</td><td>1</td><td>955503</td><td>991496</td><td>137</td><td>137</td><td>1</td><td>662622</td><td>A</td><td>1</td><td>0.08394161</td><td>1</td></tr>\n",
       "\t<tr><td>ENSG00000187634</td><td>1_662622_G_A</td><td>0.05106728</td><td>0.2849205</td><td>0.1460446</td><td>-1</td><td>1</td><td>860260</td><td>879955</td><td>137</td><td>137</td><td>1</td><td>662622</td><td>A</td><td>1</td><td>0.08394161</td><td>1</td></tr>\n",
       "</tbody>\n",
       "</table>\n"
      ],
      "text/latex": [
       "A data.frame: 2 × 17\n",
       "\\begin{tabular}{r|lllllllllllllllll}\n",
       " feature\\_id & snp\\_id & p\\_value & beta & beta\\_se & empirical\\_feature\\_p\\_value & feature\\_chromosome & feature\\_start & feature\\_end & n\\_samples & n\\_e\\_samples & snp\\_chromosome & snp\\_position & assessed\\_allele & call\\_rate & maf & hwe\\_p\\\\\n",
       " <chr> & <chr> & <dbl> & <dbl> & <dbl> & <dbl> & <int> & <int> & <int> & <int> & <int> & <int> & <int> & <chr> & <dbl> & <dbl> & <dbl>\\\\\n",
       "\\hline\n",
       "\t ENSG00000188157 & 1\\_662622\\_G\\_A & 0.01245247 & 0.3078448 & 0.1231845 & -1 & 1 & 955503 & 991496 & 137 & 137 & 1 & 662622 & A & 1 & 0.08394161 & 1\\\\\n",
       "\t ENSG00000187634 & 1\\_662622\\_G\\_A & 0.05106728 & 0.2849205 & 0.1460446 & -1 & 1 & 860260 & 879955 & 137 & 137 & 1 & 662622 & A & 1 & 0.08394161 & 1\\\\\n",
       "\\end{tabular}\n"
      ],
      "text/markdown": [
       "\n",
       "A data.frame: 2 × 17\n",
       "\n",
       "| feature_id &lt;chr&gt; | snp_id &lt;chr&gt; | p_value &lt;dbl&gt; | beta &lt;dbl&gt; | beta_se &lt;dbl&gt; | empirical_feature_p_value &lt;dbl&gt; | feature_chromosome &lt;int&gt; | feature_start &lt;int&gt; | feature_end &lt;int&gt; | n_samples &lt;int&gt; | n_e_samples &lt;int&gt; | snp_chromosome &lt;int&gt; | snp_position &lt;int&gt; | assessed_allele &lt;chr&gt; | call_rate &lt;dbl&gt; | maf &lt;dbl&gt; | hwe_p &lt;dbl&gt; |\n",
       "|---|---|---|---|---|---|---|---|---|---|---|---|---|---|---|---|---|\n",
       "| ENSG00000188157 | 1_662622_G_A | 0.01245247 | 0.3078448 | 0.1231845 | -1 | 1 | 955503 | 991496 | 137 | 137 | 1 | 662622 | A | 1 | 0.08394161 | 1 |\n",
       "| ENSG00000187634 | 1_662622_G_A | 0.05106728 | 0.2849205 | 0.1460446 | -1 | 1 | 860260 | 879955 | 137 | 137 | 1 | 662622 | A | 1 | 0.08394161 | 1 |\n",
       "\n"
      ],
      "text/plain": [
       "  feature_id      snp_id       p_value    beta      beta_se  \n",
       "1 ENSG00000188157 1_662622_G_A 0.01245247 0.3078448 0.1231845\n",
       "2 ENSG00000187634 1_662622_G_A 0.05106728 0.2849205 0.1460446\n",
       "  empirical_feature_p_value feature_chromosome feature_start feature_end\n",
       "1 -1                        1                  955503        991496     \n",
       "2 -1                        1                  860260        879955     \n",
       "  n_samples n_e_samples snp_chromosome snp_position assessed_allele call_rate\n",
       "1 137       137         1              662622       A               1        \n",
       "2 137       137         1              662622       A               1        \n",
       "  maf        hwe_p\n",
       "1 0.08394161 1    \n",
       "2 0.08394161 1    "
      ]
     },
     "metadata": {},
     "output_type": "display_data"
    }
   ],
   "source": [
    "#### D52\n",
    "## Dopaminergic neurons (DA)\n",
    "DA.D52_filename = paste0(eqtl_folder,\"pool1_17_D52.DA.qtl_results_all.sorted.txt.gz\")\n",
    "DA.D52 = read.table(gzfile(DA.D52_filename), header = TRUE)\n",
    "# nrow(DA.D52)\n",
    "head(DA.D52,2)\n",
    "\n",
    "# Serotonergic neurons (Sert)\n",
    "Sert.D52_filename = paste0(eqtl_folder,\"pool1_17_D52.Sert.qtl_results_all.sorted.txt.gz\")\n",
    "Sert.D52 = read.table(gzfile(Sert.D52_filename), header = TRUE)\n",
    "# nrow(Sert.D52)\n",
    "head(Sert.D52,2)\n",
    "\n",
    "# Ependymal cells (Epen1)\n",
    "Epen1.D52_filename = paste0(eqtl_folder,\"pool1_17_D52.Epen1.qtl_results_all.sorted.txt.gz\")\n",
    "Epen1.D52 = read.table(gzfile(Epen1.D52_filename), header = TRUE)\n",
    "# nrow(Epen1.D52)\n",
    "head(Epen1.D52,2)\n",
    "\n",
    "# Astrocytes (Astro)\n",
    "Astro.D52_filename = paste0(eqtl_folder,\"pool1_17_D52.Astro.qtl_results_all.sorted.txt.gz\")\n",
    "Astro.D52 = read.table(gzfile(Astro.D52_filename), header = TRUE)\n",
    "# nrow(Astro.D52)\n",
    "head(Astro.D52,2)"
   ]
  },
  {
   "cell_type": "code",
   "execution_count": 676,
   "metadata": {},
   "outputs": [],
   "source": [
    "cols = c(\"feature_id\",\"snp_id\",\"beta\",\"beta_se\")"
   ]
  },
  {
   "cell_type": "code",
   "execution_count": 677,
   "metadata": {},
   "outputs": [],
   "source": [
    "get_one_snp_per_gene <- function(res, cols){\n",
    "    res = res[,cols]\n",
    "    res$beta_se[res$beta_se == 0] <- 1e-15\n",
    "    res$Z = res$beta/res$beta_se\n",
    "    res = res[order(abs(res$Z), decreasing = T),]\n",
    "    res = res[-which(duplicated(res$feature_id)),]\n",
    "    res\n",
    "}"
   ]
  },
  {
   "cell_type": "code",
   "execution_count": 678,
   "metadata": {},
   "outputs": [],
   "source": [
    "#### D11\n",
    "## Floor plate progenitors (FPP)\n",
    "FPP.D11_egenes = get_one_snp_per_gene(FPP.D11,cols)\n",
    "## Proliferating floor plate progenitors (P_FPP)\n",
    "P_FPP.D11_egenes = get_one_snp_per_gene(P_FPP.D11,cols)\n",
    "## Neuroblasts (NB)\n",
    "NB.D11_egenes = get_one_snp_per_gene(NB.D11,cols)"
   ]
  },
  {
   "cell_type": "code",
   "execution_count": 679,
   "metadata": {},
   "outputs": [],
   "source": [
    "#### D30\n",
    "## Dopaminergic neurons (DA)\n",
    "DA.D30_egenes = get_one_snp_per_gene(DA.D30,cols)\n",
    "# Serotonergic neurons (Sert)\n",
    "Sert.D30_egenes = get_one_snp_per_gene(Sert.D30,cols)\n",
    "# Ependymal cells (Epen1)\n",
    "Epen1.D30_egenes = get_one_snp_per_gene(Epen1.D30,cols)\n",
    "# Astrocytes (Astro)\n",
    "Astro.D30_egenes = get_one_snp_per_gene(Astro.D30,cols)"
   ]
  },
  {
   "cell_type": "code",
   "execution_count": 680,
   "metadata": {},
   "outputs": [],
   "source": [
    "#### D52\n",
    "## Dopaminergic neurons (DA)\n",
    "DA.D52_egenes = get_one_snp_per_gene(DA.D52,cols)\n",
    "# Serotonergic neurons (Sert)\n",
    "Sert.D52_egenes = get_one_snp_per_gene(Sert.D52,cols)\n",
    "# Ependymal cells (Epen1)\n",
    "Epen1.D52_egenes = get_one_snp_per_gene(Epen1.D52,cols)\n",
    "# Astrocytes (Astro)\n",
    "Astro.D52_egenes = get_one_snp_per_gene(Astro.D52,cols)"
   ]
  },
  {
   "cell_type": "code",
   "execution_count": 681,
   "metadata": {},
   "outputs": [],
   "source": [
    "## D11\n",
    "write.csv(FPP.D11_egenes,\"/hps/nobackup/stegle/users/acuomo/all_scripts/sc_neuroseq/eqtl/all_results_top_snp_per_gene/FPP.D11.csv\")\n",
    "write.csv(P_FPP.D11_egenes,\"/hps/nobackup/stegle/users/acuomo/all_scripts/sc_neuroseq/eqtl/all_results_top_snp_per_gene/P_FPP.D11.csv\")\n",
    "write.csv(NB.D11_egenes,\"/hps/nobackup/stegle/users/acuomo/all_scripts/sc_neuroseq/eqtl/all_results_top_snp_per_gene/NB.D11.csv\")\n",
    "## D30\n",
    "write.csv(DA.D30_egenes,\"/hps/nobackup/stegle/users/acuomo/all_scripts/sc_neuroseq/eqtl/all_results_top_snp_per_gene/DA.D30.csv\")\n",
    "write.csv(Sert.D30_egenes,\"/hps/nobackup/stegle/users/acuomo/all_scripts/sc_neuroseq/eqtl/all_results_top_snp_per_gene/Sert.D30.csv\")\n",
    "write.csv(Epen1.D30_egenes,\"/hps/nobackup/stegle/users/acuomo/all_scripts/sc_neuroseq/eqtl/all_results_top_snp_per_gene/Epen1.D30.csv\")\n",
    "write.csv(Astro.D30_egenes,\"/hps/nobackup/stegle/users/acuomo/all_scripts/sc_neuroseq/eqtl/all_results_top_snp_per_gene/Astro.D30.csv\")\n",
    "## D52\n",
    "write.csv(DA.D52_egenes,\"/hps/nobackup/stegle/users/acuomo/all_scripts/sc_neuroseq/eqtl/all_results_top_snp_per_gene/DA.D52.csv\")\n",
    "write.csv(Sert.D52_egenes,\"/hps/nobackup/stegle/users/acuomo/all_scripts/sc_neuroseq/eqtl/all_results_top_snp_per_gene/Sert.D52.csv\")\n",
    "write.csv(Epen1.D52_egenes,\"/hps/nobackup/stegle/users/acuomo/all_scripts/sc_neuroseq/eqtl/all_results_top_snp_per_gene/Epen1.D52.csv\")\n",
    "write.csv(Astro.D52_egenes,\"/hps/nobackup/stegle/users/acuomo/all_scripts/sc_neuroseq/eqtl/all_results_top_snp_per_gene/Astro.D52.csv\")"
   ]
  },
  {
   "cell_type": "code",
   "execution_count": null,
   "metadata": {},
   "outputs": [],
   "source": []
  },
  {
   "cell_type": "code",
   "execution_count": 682,
   "metadata": {},
   "outputs": [],
   "source": [
    "### given two sets of results, pick best snp per gene between the two based on its Z score \n",
    "get_top_snp_Z <- function(res1,res2){\n",
    "    tmp = inner_join(res1,res2, by = \"feature_id\")\n",
    "    for (i in 1:nrow(tmp)){\n",
    "        if (abs(tmp$Z.x[i]) > abs(tmp$Z.y[i])){\n",
    "            tmp$Z[i]   = tmp$Z.x[i]\n",
    "            tmp$snp_id[i] = tmp$snp_id.x[i]\n",
    "        }\n",
    "        else {\n",
    "            tmp$Z[i]   = tmp$Z.y[i]\n",
    "            tmp$snp_id[i] = tmp$snp_id.y[i]\n",
    "        }\n",
    "    }\n",
    "    tmp[,c(\"feature_id\",\"snp_id\",\"Z\")]\n",
    "}"
   ]
  },
  {
   "cell_type": "code",
   "execution_count": 683,
   "metadata": {},
   "outputs": [],
   "source": [
    "# library(dplyr)"
   ]
  },
  {
   "cell_type": "code",
   "execution_count": 684,
   "metadata": {},
   "outputs": [
    {
     "data": {
      "text/html": [
       "<table>\n",
       "<caption>A data.frame: 6 × 3</caption>\n",
       "<thead>\n",
       "\t<tr><th scope=col>feature_id</th><th scope=col>snp_id</th><th scope=col>Z</th></tr>\n",
       "\t<tr><th scope=col>&lt;chr&gt;</th><th scope=col>&lt;chr&gt;</th><th scope=col>&lt;dbl&gt;</th></tr>\n",
       "</thead>\n",
       "<tbody>\n",
       "\t<tr><td>ENSG00000134809</td><td>11_57283988_C_T</td><td>-17.75162</td></tr>\n",
       "\t<tr><td>ENSG00000170291</td><td>17_7145981_T_C </td><td> 19.06328</td></tr>\n",
       "\t<tr><td>ENSG00000124614</td><td>6_34397920_G_A </td><td>-17.60506</td></tr>\n",
       "\t<tr><td>ENSG00000093072</td><td>22_17680519_A_C</td><td> 17.21335</td></tr>\n",
       "\t<tr><td>ENSG00000240344</td><td>2_201754063_T_C</td><td>-16.69811</td></tr>\n",
       "\t<tr><td>ENSG00000197728</td><td>12_56401085_G_A</td><td>-19.35911</td></tr>\n",
       "</tbody>\n",
       "</table>\n"
      ],
      "text/latex": [
       "A data.frame: 6 × 3\n",
       "\\begin{tabular}{r|lll}\n",
       " feature\\_id & snp\\_id & Z\\\\\n",
       " <chr> & <chr> & <dbl>\\\\\n",
       "\\hline\n",
       "\t ENSG00000134809 & 11\\_57283988\\_C\\_T & -17.75162\\\\\n",
       "\t ENSG00000170291 & 17\\_7145981\\_T\\_C  &  19.06328\\\\\n",
       "\t ENSG00000124614 & 6\\_34397920\\_G\\_A  & -17.60506\\\\\n",
       "\t ENSG00000093072 & 22\\_17680519\\_A\\_C &  17.21335\\\\\n",
       "\t ENSG00000240344 & 2\\_201754063\\_T\\_C & -16.69811\\\\\n",
       "\t ENSG00000197728 & 12\\_56401085\\_G\\_A & -19.35911\\\\\n",
       "\\end{tabular}\n"
      ],
      "text/markdown": [
       "\n",
       "A data.frame: 6 × 3\n",
       "\n",
       "| feature_id &lt;chr&gt; | snp_id &lt;chr&gt; | Z &lt;dbl&gt; |\n",
       "|---|---|---|\n",
       "| ENSG00000134809 | 11_57283988_C_T | -17.75162 |\n",
       "| ENSG00000170291 | 17_7145981_T_C  |  19.06328 |\n",
       "| ENSG00000124614 | 6_34397920_G_A  | -17.60506 |\n",
       "| ENSG00000093072 | 22_17680519_A_C |  17.21335 |\n",
       "| ENSG00000240344 | 2_201754063_T_C | -16.69811 |\n",
       "| ENSG00000197728 | 12_56401085_G_A | -19.35911 |\n",
       "\n"
      ],
      "text/plain": [
       "  feature_id      snp_id          Z        \n",
       "1 ENSG00000134809 11_57283988_C_T -17.75162\n",
       "2 ENSG00000170291 17_7145981_T_C   19.06328\n",
       "3 ENSG00000124614 6_34397920_G_A  -17.60506\n",
       "4 ENSG00000093072 22_17680519_A_C  17.21335\n",
       "5 ENSG00000240344 2_201754063_T_C -16.69811\n",
       "6 ENSG00000197728 12_56401085_G_A -19.35911"
      ]
     },
     "metadata": {},
     "output_type": "display_data"
    }
   ],
   "source": [
    "head(get_top_snp_Z(FPP.D11_egenes, P_FPP.D11_egenes))"
   ]
  },
  {
   "cell_type": "code",
   "execution_count": 685,
   "metadata": {},
   "outputs": [],
   "source": [
    "### given a list of sets of results, pick best snp per gene overall, iteratively \n",
    "get_top_snp_per_gene <- function(list_res){\n",
    "    tmp = get_top_snp_Z(list_res[[1]],list_res[[2]])\n",
    "    for (i in 3:length(list_res)){\n",
    "        tmp = get_top_snp_Z(tmp, list_res[[i]])\n",
    "    }\n",
    "    tmp\n",
    "}"
   ]
  },
  {
   "cell_type": "code",
   "execution_count": 686,
   "metadata": {},
   "outputs": [],
   "source": [
    "list_res = list(FPP.D11_egenes, P_FPP.D11_egenes, NB.D11_egenes,\n",
    "               DA.D30_egenes, Sert.D30_egenes, Epen1.D30_egenes, Astro.D30_egenes,\n",
    "               DA.D52_egenes, Sert.D52_egenes, Epen1.D52_egenes, Astro.D52_egenes)"
   ]
  },
  {
   "cell_type": "code",
   "execution_count": 687,
   "metadata": {},
   "outputs": [
    {
     "data": {
      "text/html": [
       "<table>\n",
       "<caption>A data.frame: 6 × 3</caption>\n",
       "<thead>\n",
       "\t<tr><th scope=col>feature_id</th><th scope=col>snp_id</th><th scope=col>Z</th></tr>\n",
       "\t<tr><th scope=col>&lt;chr&gt;</th><th scope=col>&lt;chr&gt;</th><th scope=col>&lt;dbl&gt;</th></tr>\n",
       "</thead>\n",
       "<tbody>\n",
       "\t<tr><td>ENSG00000134809</td><td>11_57283988_C_T</td><td>-17.75162</td></tr>\n",
       "\t<tr><td>ENSG00000170291</td><td>17_7145981_T_C </td><td> 19.06328</td></tr>\n",
       "\t<tr><td>ENSG00000124614</td><td>6_34397920_G_A </td><td>-17.60506</td></tr>\n",
       "\t<tr><td>ENSG00000093072</td><td>22_17680519_A_C</td><td> 17.40637</td></tr>\n",
       "\t<tr><td>ENSG00000240344</td><td>2_201754063_T_C</td><td>-16.69811</td></tr>\n",
       "\t<tr><td>ENSG00000197728</td><td>12_56401085_G_A</td><td>-22.43111</td></tr>\n",
       "</tbody>\n",
       "</table>\n"
      ],
      "text/latex": [
       "A data.frame: 6 × 3\n",
       "\\begin{tabular}{r|lll}\n",
       " feature\\_id & snp\\_id & Z\\\\\n",
       " <chr> & <chr> & <dbl>\\\\\n",
       "\\hline\n",
       "\t ENSG00000134809 & 11\\_57283988\\_C\\_T & -17.75162\\\\\n",
       "\t ENSG00000170291 & 17\\_7145981\\_T\\_C  &  19.06328\\\\\n",
       "\t ENSG00000124614 & 6\\_34397920\\_G\\_A  & -17.60506\\\\\n",
       "\t ENSG00000093072 & 22\\_17680519\\_A\\_C &  17.40637\\\\\n",
       "\t ENSG00000240344 & 2\\_201754063\\_T\\_C & -16.69811\\\\\n",
       "\t ENSG00000197728 & 12\\_56401085\\_G\\_A & -22.43111\\\\\n",
       "\\end{tabular}\n"
      ],
      "text/markdown": [
       "\n",
       "A data.frame: 6 × 3\n",
       "\n",
       "| feature_id &lt;chr&gt; | snp_id &lt;chr&gt; | Z &lt;dbl&gt; |\n",
       "|---|---|---|\n",
       "| ENSG00000134809 | 11_57283988_C_T | -17.75162 |\n",
       "| ENSG00000170291 | 17_7145981_T_C  |  19.06328 |\n",
       "| ENSG00000124614 | 6_34397920_G_A  | -17.60506 |\n",
       "| ENSG00000093072 | 22_17680519_A_C |  17.40637 |\n",
       "| ENSG00000240344 | 2_201754063_T_C | -16.69811 |\n",
       "| ENSG00000197728 | 12_56401085_G_A | -22.43111 |\n",
       "\n"
      ],
      "text/plain": [
       "  feature_id      snp_id          Z        \n",
       "1 ENSG00000134809 11_57283988_C_T -17.75162\n",
       "2 ENSG00000170291 17_7145981_T_C   19.06328\n",
       "3 ENSG00000124614 6_34397920_G_A  -17.60506\n",
       "4 ENSG00000093072 22_17680519_A_C  17.40637\n",
       "5 ENSG00000240344 2_201754063_T_C -16.69811\n",
       "6 ENSG00000197728 12_56401085_G_A -22.43111"
      ]
     },
     "metadata": {},
     "output_type": "display_data"
    }
   ],
   "source": [
    "## at the end of this we should have a list of the top snp (max Z across celltypes) for each gene\n",
    "r = get_top_snp_per_gene(list_res)\n",
    "head(r)"
   ]
  },
  {
   "cell_type": "code",
   "execution_count": 688,
   "metadata": {},
   "outputs": [
    {
     "data": {
      "text/html": [
       "8748"
      ],
      "text/latex": [
       "8748"
      ],
      "text/markdown": [
       "8748"
      ],
      "text/plain": [
       "[1] 8748"
      ]
     },
     "metadata": {},
     "output_type": "display_data"
    },
    {
     "data": {
      "text/html": [
       "8748"
      ],
      "text/latex": [
       "8748"
      ],
      "text/markdown": [
       "8748"
      ],
      "text/plain": [
       "[1] 8748"
      ]
     },
     "metadata": {},
     "output_type": "display_data"
    }
   ],
   "source": [
    "nrow(r)\n",
    "length(unique(r$feature_id))"
   ]
  },
  {
   "cell_type": "code",
   "execution_count": null,
   "metadata": {},
   "outputs": [],
   "source": []
  },
  {
   "cell_type": "code",
   "execution_count": 689,
   "metadata": {},
   "outputs": [],
   "source": [
    "res_names = c(\"FPP.D11\", \"P_FPP.D11\", \"NB.D11\",\n",
    "               \"DA.D30\", \"Sert.D30\", \"Epen1.D30\", \"Astro.D30\",\n",
    "               \"DA.D52\", \"Sert.D52\", \"Epen1.D52\", \"Astro.D52\")"
   ]
  },
  {
   "cell_type": "code",
   "execution_count": 690,
   "metadata": {},
   "outputs": [],
   "source": [
    "list_res = list(FPP.D11, P_FPP.D11, NB.D11,\n",
    "               DA.D30, Sert.D30, Epen1.D30, Astro.D30,\n",
    "               DA.D52, Sert.D52, Epen1.D52, Astro.D52)"
   ]
  },
  {
   "cell_type": "code",
   "execution_count": 691,
   "metadata": {},
   "outputs": [],
   "source": [
    "# r = r[,c(\"feature_id\",\"snp_id\")]\n",
    "# r0 = inner_join(r, list_res[[1]], by = c(\"feature_id\",\"snp_id\"))\n",
    "# celltype = res_names[1]\n",
    "# r0$beta_se[r0$beta_se==0] = 1e-5\n",
    "# r0[[paste0(\"Z.\",celltype)]] = r0$beta/r0$beta_se\n",
    "# r0 = r0[,c(\"snp_id\",\"feature_id\",paste0(\"Z.\",celltype))]\n",
    "# head(r0,2)\n",
    "# ###\n",
    "# r1 = inner_join(r0, list_res[[2]], by = c(\"feature_id\",\"snp_id\"))\n",
    "# celltype = res_names[2]\n",
    "# r1$beta_se[r1$beta_se==0] = 1e-5\n",
    "# r1[[paste0(\"Z.\",celltype)]] = r1$beta/r1$beta_se\n",
    "# r1 = r1[,c(\"snp_id\",\"feature_id\",colnames(r1)[grep(\"Z\",colnames(r1))])]\n",
    "# head(r1,2)\n",
    "###\n",
    "# r2 = inner_join(r1, list_res[[3]], by = c(\"feature_id\",\"snp_id\"))\n",
    "# head(r2,2)\n",
    "# r3 = inner_join(r2, list_res[[4]], by = c(\"feature_id\",\"snp_id\"))\n",
    "# head(r3,2)"
   ]
  },
  {
   "cell_type": "code",
   "execution_count": 692,
   "metadata": {},
   "outputs": [
    {
     "data": {
      "text/html": [
       "<table>\n",
       "<caption>A data.frame: 6 × 3</caption>\n",
       "<thead>\n",
       "\t<tr><th scope=col>feature_id</th><th scope=col>snp_id</th><th scope=col>Z</th></tr>\n",
       "\t<tr><th scope=col>&lt;chr&gt;</th><th scope=col>&lt;chr&gt;</th><th scope=col>&lt;dbl&gt;</th></tr>\n",
       "</thead>\n",
       "<tbody>\n",
       "\t<tr><td>ENSG00000134809</td><td>11_57283988_C_T</td><td>-17.75162</td></tr>\n",
       "\t<tr><td>ENSG00000170291</td><td>17_7145981_T_C </td><td> 19.06328</td></tr>\n",
       "\t<tr><td>ENSG00000124614</td><td>6_34397920_G_A </td><td>-17.60506</td></tr>\n",
       "\t<tr><td>ENSG00000093072</td><td>22_17680519_A_C</td><td> 17.40637</td></tr>\n",
       "\t<tr><td>ENSG00000240344</td><td>2_201754063_T_C</td><td>-16.69811</td></tr>\n",
       "\t<tr><td>ENSG00000197728</td><td>12_56401085_G_A</td><td>-22.43111</td></tr>\n",
       "</tbody>\n",
       "</table>\n"
      ],
      "text/latex": [
       "A data.frame: 6 × 3\n",
       "\\begin{tabular}{r|lll}\n",
       " feature\\_id & snp\\_id & Z\\\\\n",
       " <chr> & <chr> & <dbl>\\\\\n",
       "\\hline\n",
       "\t ENSG00000134809 & 11\\_57283988\\_C\\_T & -17.75162\\\\\n",
       "\t ENSG00000170291 & 17\\_7145981\\_T\\_C  &  19.06328\\\\\n",
       "\t ENSG00000124614 & 6\\_34397920\\_G\\_A  & -17.60506\\\\\n",
       "\t ENSG00000093072 & 22\\_17680519\\_A\\_C &  17.40637\\\\\n",
       "\t ENSG00000240344 & 2\\_201754063\\_T\\_C & -16.69811\\\\\n",
       "\t ENSG00000197728 & 12\\_56401085\\_G\\_A & -22.43111\\\\\n",
       "\\end{tabular}\n"
      ],
      "text/markdown": [
       "\n",
       "A data.frame: 6 × 3\n",
       "\n",
       "| feature_id &lt;chr&gt; | snp_id &lt;chr&gt; | Z &lt;dbl&gt; |\n",
       "|---|---|---|\n",
       "| ENSG00000134809 | 11_57283988_C_T | -17.75162 |\n",
       "| ENSG00000170291 | 17_7145981_T_C  |  19.06328 |\n",
       "| ENSG00000124614 | 6_34397920_G_A  | -17.60506 |\n",
       "| ENSG00000093072 | 22_17680519_A_C |  17.40637 |\n",
       "| ENSG00000240344 | 2_201754063_T_C | -16.69811 |\n",
       "| ENSG00000197728 | 12_56401085_G_A | -22.43111 |\n",
       "\n"
      ],
      "text/plain": [
       "  feature_id      snp_id          Z        \n",
       "1 ENSG00000134809 11_57283988_C_T -17.75162\n",
       "2 ENSG00000170291 17_7145981_T_C   19.06328\n",
       "3 ENSG00000124614 6_34397920_G_A  -17.60506\n",
       "4 ENSG00000093072 22_17680519_A_C  17.40637\n",
       "5 ENSG00000240344 2_201754063_T_C -16.69811\n",
       "6 ENSG00000197728 12_56401085_G_A -22.43111"
      ]
     },
     "metadata": {},
     "output_type": "display_data"
    }
   ],
   "source": [
    "head(r)"
   ]
  },
  {
   "cell_type": "code",
   "execution_count": 693,
   "metadata": {},
   "outputs": [],
   "source": [
    "### this should return Z scores for each cell type for the selected snp-gene pairs\n",
    "r = r[,c(\"feature_id\",\"snp_id\")]\n",
    "get_Zs_for_the_top_snp_per_gene <- function(r, list_res, res_names){\n",
    "    for (i in 1:length(list_res)){\n",
    "#         print(i)\n",
    "        celltype = res_names[i]\n",
    "#         print(celltype)\n",
    "        res = list_res[[i]]\n",
    "#         print(head(res),2)\n",
    "        r = inner_join(r, res, by = c(\"feature_id\",\"snp_id\"))\n",
    "#         print(head(r,2))\n",
    "        r$beta_se[r$beta_se==0] = 1e-5\n",
    "        r[[paste0(\"Z.\",celltype)]] = r$beta/r$beta_se\n",
    "#         print(head(r,2))\n",
    "        r = r[,c(\"snp_id\",\"feature_id\",colnames(r)[grep(\"Z\",colnames(r))])]\n",
    "    }\n",
    "    r\n",
    "}"
   ]
  },
  {
   "cell_type": "code",
   "execution_count": null,
   "metadata": {},
   "outputs": [],
   "source": [
    "r_all = get_Zs_for_the_top_snp_per_gene(r, list_res, res_names)\n",
    "head(r_all[order(abs(r_all$Z.FPP.D11)),])"
   ]
  },
  {
   "cell_type": "code",
   "execution_count": null,
   "metadata": {},
   "outputs": [],
   "source": [
    "ru = r_all[order(abs(r_all$Z.FPP.D11), decreasing = T),]\n",
    "ru = ru[-which(duplicated(ru$feature_id)),]\n",
    "head(ru,2)\n",
    "nrow(ru)\n",
    "length(unique(ru$feature_id))"
   ]
  },
  {
   "cell_type": "code",
   "execution_count": null,
   "metadata": {},
   "outputs": [],
   "source": [
    "write.csv(ru, \"/hps/nobackup/stegle/users/acuomo/all_scripts/sc_neuroseq/top_snp_allgenes_Zscores_celltypes.csv\")"
   ]
  },
  {
   "cell_type": "code",
   "execution_count": null,
   "metadata": {},
   "outputs": [],
   "source": [
    "snps = as.data.frame(matrix(ru$snp_id, nrow = nrow(ru), ncol = 1))\n",
    "colnames(snps) = \"snp_id\"\n",
    "write.csv(snps, \"/hps/nobackup/stegle/users/acuomo/all_scripts/sc_neuroseq/top_snp_allgenes.csv\")"
   ]
  },
  {
   "cell_type": "code",
   "execution_count": 502,
   "metadata": {},
   "outputs": [
    {
     "data": {
      "text/html": [
       "<table>\n",
       "<caption>A data.frame: 6 × 11</caption>\n",
       "<thead>\n",
       "\t<tr><th></th><th scope=col>Z.FPP.D11</th><th scope=col>Z.P_FPP.D11</th><th scope=col>Z.NB.D11</th><th scope=col>Z.DA.D30</th><th scope=col>Z.Sert.D30</th><th scope=col>Z.Epen1.D30</th><th scope=col>Z.Astro.D30</th><th scope=col>Z.DA.D52</th><th scope=col>Z.Sert.D52</th><th scope=col>Z.Epen1.D52</th><th scope=col>Z.Astro.D52</th></tr>\n",
       "\t<tr><th></th><th scope=col>&lt;dbl&gt;</th><th scope=col>&lt;dbl&gt;</th><th scope=col>&lt;dbl&gt;</th><th scope=col>&lt;dbl&gt;</th><th scope=col>&lt;dbl&gt;</th><th scope=col>&lt;dbl&gt;</th><th scope=col>&lt;dbl&gt;</th><th scope=col>&lt;dbl&gt;</th><th scope=col>&lt;dbl&gt;</th><th scope=col>&lt;dbl&gt;</th><th scope=col>&lt;dbl&gt;</th></tr>\n",
       "</thead>\n",
       "<tbody>\n",
       "\t<tr><th scope=row>ENSG00000170291-17_7145981_T_C</th><td>17.60191</td><td>19.06328</td><td>7.378654</td><td> 1.520777</td><td>13.486731</td><td>11.883131</td><td>13.329171</td><td> 3.992745</td><td>18.896421</td><td>15.128259</td><td>10.205351</td></tr>\n",
       "\t<tr><th scope=row>ENSG00000093072-22_17680519_A_C</th><td>17.21335</td><td>16.47538</td><td>9.035217</td><td>11.335143</td><td>13.026680</td><td> 8.723859</td><td>10.858490</td><td>11.971600</td><td>17.406373</td><td>15.563942</td><td> 9.950645</td></tr>\n",
       "\t<tr><th scope=row>ENSG00000124614-6_34313198_A_C</th><td>17.12862</td><td>17.51080</td><td>9.608990</td><td>11.336262</td><td>12.092161</td><td>12.618021</td><td>13.939369</td><td>12.109222</td><td>12.385210</td><td>15.595517</td><td>10.809285</td></tr>\n",
       "\t<tr><th scope=row>ENSG00000165502-14_50087357_C_G</th><td>15.91991</td><td>13.71375</td><td>7.136861</td><td> 5.730349</td><td> 6.551487</td><td> 4.718919</td><td> 7.000421</td><td> 5.247296</td><td> 7.861135</td><td>10.051773</td><td> 5.740373</td></tr>\n",
       "\t<tr><th scope=row>ENSG00000183172-22_42467695_G_C</th><td>15.81211</td><td>14.90647</td><td>8.896546</td><td> 9.133496</td><td> 9.088928</td><td> 5.368477</td><td> 9.135831</td><td> 8.121149</td><td>10.102117</td><td> 8.764023</td><td> 7.218523</td></tr>\n",
       "\t<tr><th scope=row>ENSG00000243317-7_135349273_A_T</th><td>15.77543</td><td>16.24964</td><td>8.922753</td><td> 6.300905</td><td> 9.356267</td><td> 5.671071</td><td> 7.222986</td><td> 9.411775</td><td>12.515125</td><td>12.204969</td><td> 9.420360</td></tr>\n",
       "</tbody>\n",
       "</table>\n"
      ],
      "text/latex": [
       "A data.frame: 6 × 11\n",
       "\\begin{tabular}{r|lllllllllll}\n",
       "  & Z.FPP.D11 & Z.P\\_FPP.D11 & Z.NB.D11 & Z.DA.D30 & Z.Sert.D30 & Z.Epen1.D30 & Z.Astro.D30 & Z.DA.D52 & Z.Sert.D52 & Z.Epen1.D52 & Z.Astro.D52\\\\\n",
       "  & <dbl> & <dbl> & <dbl> & <dbl> & <dbl> & <dbl> & <dbl> & <dbl> & <dbl> & <dbl> & <dbl>\\\\\n",
       "\\hline\n",
       "\tENSG00000170291-17\\_7145981\\_T\\_C & 17.60191 & 19.06328 & 7.378654 &  1.520777 & 13.486731 & 11.883131 & 13.329171 &  3.992745 & 18.896421 & 15.128259 & 10.205351\\\\\n",
       "\tENSG00000093072-22\\_17680519\\_A\\_C & 17.21335 & 16.47538 & 9.035217 & 11.335143 & 13.026680 &  8.723859 & 10.858490 & 11.971600 & 17.406373 & 15.563942 &  9.950645\\\\\n",
       "\tENSG00000124614-6\\_34313198\\_A\\_C & 17.12862 & 17.51080 & 9.608990 & 11.336262 & 12.092161 & 12.618021 & 13.939369 & 12.109222 & 12.385210 & 15.595517 & 10.809285\\\\\n",
       "\tENSG00000165502-14\\_50087357\\_C\\_G & 15.91991 & 13.71375 & 7.136861 &  5.730349 &  6.551487 &  4.718919 &  7.000421 &  5.247296 &  7.861135 & 10.051773 &  5.740373\\\\\n",
       "\tENSG00000183172-22\\_42467695\\_G\\_C & 15.81211 & 14.90647 & 8.896546 &  9.133496 &  9.088928 &  5.368477 &  9.135831 &  8.121149 & 10.102117 &  8.764023 &  7.218523\\\\\n",
       "\tENSG00000243317-7\\_135349273\\_A\\_T & 15.77543 & 16.24964 & 8.922753 &  6.300905 &  9.356267 &  5.671071 &  7.222986 &  9.411775 & 12.515125 & 12.204969 &  9.420360\\\\\n",
       "\\end{tabular}\n"
      ],
      "text/markdown": [
       "\n",
       "A data.frame: 6 × 11\n",
       "\n",
       "| <!--/--> | Z.FPP.D11 &lt;dbl&gt; | Z.P_FPP.D11 &lt;dbl&gt; | Z.NB.D11 &lt;dbl&gt; | Z.DA.D30 &lt;dbl&gt; | Z.Sert.D30 &lt;dbl&gt; | Z.Epen1.D30 &lt;dbl&gt; | Z.Astro.D30 &lt;dbl&gt; | Z.DA.D52 &lt;dbl&gt; | Z.Sert.D52 &lt;dbl&gt; | Z.Epen1.D52 &lt;dbl&gt; | Z.Astro.D52 &lt;dbl&gt; |\n",
       "|---|---|---|---|---|---|---|---|---|---|---|---|\n",
       "| ENSG00000170291-17_7145981_T_C | 17.60191 | 19.06328 | 7.378654 |  1.520777 | 13.486731 | 11.883131 | 13.329171 |  3.992745 | 18.896421 | 15.128259 | 10.205351 |\n",
       "| ENSG00000093072-22_17680519_A_C | 17.21335 | 16.47538 | 9.035217 | 11.335143 | 13.026680 |  8.723859 | 10.858490 | 11.971600 | 17.406373 | 15.563942 |  9.950645 |\n",
       "| ENSG00000124614-6_34313198_A_C | 17.12862 | 17.51080 | 9.608990 | 11.336262 | 12.092161 | 12.618021 | 13.939369 | 12.109222 | 12.385210 | 15.595517 | 10.809285 |\n",
       "| ENSG00000165502-14_50087357_C_G | 15.91991 | 13.71375 | 7.136861 |  5.730349 |  6.551487 |  4.718919 |  7.000421 |  5.247296 |  7.861135 | 10.051773 |  5.740373 |\n",
       "| ENSG00000183172-22_42467695_G_C | 15.81211 | 14.90647 | 8.896546 |  9.133496 |  9.088928 |  5.368477 |  9.135831 |  8.121149 | 10.102117 |  8.764023 |  7.218523 |\n",
       "| ENSG00000243317-7_135349273_A_T | 15.77543 | 16.24964 | 8.922753 |  6.300905 |  9.356267 |  5.671071 |  7.222986 |  9.411775 | 12.515125 | 12.204969 |  9.420360 |\n",
       "\n"
      ],
      "text/plain": [
       "                                Z.FPP.D11 Z.P_FPP.D11 Z.NB.D11 Z.DA.D30 \n",
       "ENSG00000170291-17_7145981_T_C  17.60191  19.06328    7.378654  1.520777\n",
       "ENSG00000093072-22_17680519_A_C 17.21335  16.47538    9.035217 11.335143\n",
       "ENSG00000124614-6_34313198_A_C  17.12862  17.51080    9.608990 11.336262\n",
       "ENSG00000165502-14_50087357_C_G 15.91991  13.71375    7.136861  5.730349\n",
       "ENSG00000183172-22_42467695_G_C 15.81211  14.90647    8.896546  9.133496\n",
       "ENSG00000243317-7_135349273_A_T 15.77543  16.24964    8.922753  6.300905\n",
       "                                Z.Sert.D30 Z.Epen1.D30 Z.Astro.D30 Z.DA.D52 \n",
       "ENSG00000170291-17_7145981_T_C  13.486731  11.883131   13.329171    3.992745\n",
       "ENSG00000093072-22_17680519_A_C 13.026680   8.723859   10.858490   11.971600\n",
       "ENSG00000124614-6_34313198_A_C  12.092161  12.618021   13.939369   12.109222\n",
       "ENSG00000165502-14_50087357_C_G  6.551487   4.718919    7.000421    5.247296\n",
       "ENSG00000183172-22_42467695_G_C  9.088928   5.368477    9.135831    8.121149\n",
       "ENSG00000243317-7_135349273_A_T  9.356267   5.671071    7.222986    9.411775\n",
       "                                Z.Sert.D52 Z.Epen1.D52 Z.Astro.D52\n",
       "ENSG00000170291-17_7145981_T_C  18.896421  15.128259   10.205351  \n",
       "ENSG00000093072-22_17680519_A_C 17.406373  15.563942    9.950645  \n",
       "ENSG00000124614-6_34313198_A_C  12.385210  15.595517   10.809285  \n",
       "ENSG00000165502-14_50087357_C_G  7.861135  10.051773    5.740373  \n",
       "ENSG00000183172-22_42467695_G_C 10.102117   8.764023    7.218523  \n",
       "ENSG00000243317-7_135349273_A_T 12.515125  12.204969    9.420360  "
      ]
     },
     "metadata": {},
     "output_type": "display_data"
    }
   ],
   "source": [
    "mat = ru[,-c(1,2)]\n",
    "rownames(mat) <- paste0(ru$feature_id,\"-\",ru$snp_id)\n",
    "head(mat)"
   ]
  },
  {
   "cell_type": "code",
   "execution_count": 503,
   "metadata": {},
   "outputs": [],
   "source": [
    "pca = prcomp(t(mat))"
   ]
  },
  {
   "cell_type": "code",
   "execution_count": 504,
   "metadata": {},
   "outputs": [
    {
     "data": {
      "text/html": [
       "<table>\n",
       "<caption>A matrix: 6 × 11 of type dbl</caption>\n",
       "<thead>\n",
       "\t<tr><th></th><th scope=col>PC1</th><th scope=col>PC2</th><th scope=col>PC3</th><th scope=col>PC4</th><th scope=col>PC5</th><th scope=col>PC6</th><th scope=col>PC7</th><th scope=col>PC8</th><th scope=col>PC9</th><th scope=col>PC10</th><th scope=col>PC11</th></tr>\n",
       "</thead>\n",
       "<tbody>\n",
       "\t<tr><th scope=row>Z.FPP.D11</th><td>-146.50120</td><td>  5.28180</td><td>-17.5316912</td><td> 10.38754</td><td>-1.744591</td><td>  3.225130</td><td>  4.377372</td><td>  3.605427</td><td> -6.928227</td><td> 68.870418</td><td>7.382983e-15</td></tr>\n",
       "\t<tr><th scope=row>Z.P_FPP.D11</th><td>-156.90983</td><td>  8.27864</td><td>-13.8173702</td><td> 17.10066</td><td> 6.613896</td><td>  8.231497</td><td> -4.473930</td><td>  9.897178</td><td>  5.387060</td><td>-64.206645</td><td>7.438494e-15</td></tr>\n",
       "\t<tr><th scope=row>Z.NB.D11</th><td> -15.26801</td><td> 13.05144</td><td>124.7583651</td><td>-71.33334</td><td>-5.011194</td><td>-53.063916</td><td>  5.146607</td><td>-19.777312</td><td>  2.913325</td><td> -2.072263</td><td>1.318390e-14</td></tr>\n",
       "\t<tr><th scope=row>Z.DA.D30</th><td>  40.99856</td><td>-69.21512</td><td> 36.6948831</td><td> 65.30976</td><td> 2.698713</td><td> -1.730481</td><td> 32.908677</td><td> 17.777433</td><td> 68.764606</td><td>  4.886403</td><td>2.220793e-14</td></tr>\n",
       "\t<tr><th scope=row>Z.Sert.D30</th><td>  39.44493</td><td>-46.39116</td><td>  7.5358711</td><td>-23.05255</td><td>64.218666</td><td> 36.544069</td><td> 55.035249</td><td> 24.503576</td><td>-53.473133</td><td> -4.067322</td><td>1.321165e-14</td></tr>\n",
       "\t<tr><th scope=row>Z.Epen1.D30</th><td>  58.41612</td><td> 73.84593</td><td>  0.5341382</td><td> 25.71317</td><td>47.632120</td><td>-31.359718</td><td>-54.513236</td><td> 59.517949</td><td> -4.004241</td><td>  4.967315</td><td>4.302114e-15</td></tr>\n",
       "</tbody>\n",
       "</table>\n"
      ],
      "text/latex": [
       "A matrix: 6 × 11 of type dbl\n",
       "\\begin{tabular}{r|lllllllllll}\n",
       "  & PC1 & PC2 & PC3 & PC4 & PC5 & PC6 & PC7 & PC8 & PC9 & PC10 & PC11\\\\\n",
       "\\hline\n",
       "\tZ.FPP.D11 & -146.50120 &   5.28180 & -17.5316912 &  10.38754 & -1.744591 &   3.225130 &   4.377372 &   3.605427 &  -6.928227 &  68.870418 & 7.382983e-15\\\\\n",
       "\tZ.P\\_FPP.D11 & -156.90983 &   8.27864 & -13.8173702 &  17.10066 &  6.613896 &   8.231497 &  -4.473930 &   9.897178 &   5.387060 & -64.206645 & 7.438494e-15\\\\\n",
       "\tZ.NB.D11 &  -15.26801 &  13.05144 & 124.7583651 & -71.33334 & -5.011194 & -53.063916 &   5.146607 & -19.777312 &   2.913325 &  -2.072263 & 1.318390e-14\\\\\n",
       "\tZ.DA.D30 &   40.99856 & -69.21512 &  36.6948831 &  65.30976 &  2.698713 &  -1.730481 &  32.908677 &  17.777433 &  68.764606 &   4.886403 & 2.220793e-14\\\\\n",
       "\tZ.Sert.D30 &   39.44493 & -46.39116 &   7.5358711 & -23.05255 & 64.218666 &  36.544069 &  55.035249 &  24.503576 & -53.473133 &  -4.067322 & 1.321165e-14\\\\\n",
       "\tZ.Epen1.D30 &   58.41612 &  73.84593 &   0.5341382 &  25.71317 & 47.632120 & -31.359718 & -54.513236 &  59.517949 &  -4.004241 &   4.967315 & 4.302114e-15\\\\\n",
       "\\end{tabular}\n"
      ],
      "text/markdown": [
       "\n",
       "A matrix: 6 × 11 of type dbl\n",
       "\n",
       "| <!--/--> | PC1 | PC2 | PC3 | PC4 | PC5 | PC6 | PC7 | PC8 | PC9 | PC10 | PC11 |\n",
       "|---|---|---|---|---|---|---|---|---|---|---|---|\n",
       "| Z.FPP.D11 | -146.50120 |   5.28180 | -17.5316912 |  10.38754 | -1.744591 |   3.225130 |   4.377372 |   3.605427 |  -6.928227 |  68.870418 | 7.382983e-15 |\n",
       "| Z.P_FPP.D11 | -156.90983 |   8.27864 | -13.8173702 |  17.10066 |  6.613896 |   8.231497 |  -4.473930 |   9.897178 |   5.387060 | -64.206645 | 7.438494e-15 |\n",
       "| Z.NB.D11 |  -15.26801 |  13.05144 | 124.7583651 | -71.33334 | -5.011194 | -53.063916 |   5.146607 | -19.777312 |   2.913325 |  -2.072263 | 1.318390e-14 |\n",
       "| Z.DA.D30 |   40.99856 | -69.21512 |  36.6948831 |  65.30976 |  2.698713 |  -1.730481 |  32.908677 |  17.777433 |  68.764606 |   4.886403 | 2.220793e-14 |\n",
       "| Z.Sert.D30 |   39.44493 | -46.39116 |   7.5358711 | -23.05255 | 64.218666 |  36.544069 |  55.035249 |  24.503576 | -53.473133 |  -4.067322 | 1.321165e-14 |\n",
       "| Z.Epen1.D30 |   58.41612 |  73.84593 |   0.5341382 |  25.71317 | 47.632120 | -31.359718 | -54.513236 |  59.517949 |  -4.004241 |   4.967315 | 4.302114e-15 |\n",
       "\n"
      ],
      "text/plain": [
       "            PC1        PC2       PC3         PC4       PC5       PC6       \n",
       "Z.FPP.D11   -146.50120   5.28180 -17.5316912  10.38754 -1.744591   3.225130\n",
       "Z.P_FPP.D11 -156.90983   8.27864 -13.8173702  17.10066  6.613896   8.231497\n",
       "Z.NB.D11     -15.26801  13.05144 124.7583651 -71.33334 -5.011194 -53.063916\n",
       "Z.DA.D30      40.99856 -69.21512  36.6948831  65.30976  2.698713  -1.730481\n",
       "Z.Sert.D30    39.44493 -46.39116   7.5358711 -23.05255 64.218666  36.544069\n",
       "Z.Epen1.D30   58.41612  73.84593   0.5341382  25.71317 47.632120 -31.359718\n",
       "            PC7        PC8        PC9        PC10       PC11        \n",
       "Z.FPP.D11     4.377372   3.605427  -6.928227  68.870418 7.382983e-15\n",
       "Z.P_FPP.D11  -4.473930   9.897178   5.387060 -64.206645 7.438494e-15\n",
       "Z.NB.D11      5.146607 -19.777312   2.913325  -2.072263 1.318390e-14\n",
       "Z.DA.D30     32.908677  17.777433  68.764606   4.886403 2.220793e-14\n",
       "Z.Sert.D30   55.035249  24.503576 -53.473133  -4.067322 1.321165e-14\n",
       "Z.Epen1.D30 -54.513236  59.517949  -4.004241   4.967315 4.302114e-15"
      ]
     },
     "metadata": {},
     "output_type": "display_data"
    }
   ],
   "source": [
    "pcs = pca$x\n",
    "head(pcs)"
   ]
  },
  {
   "cell_type": "code",
   "execution_count": 505,
   "metadata": {},
   "outputs": [
    {
     "data": {
      "text/html": [
       "<table>\n",
       "<caption>A matrix: 6 × 11 of type dbl</caption>\n",
       "<thead>\n",
       "\t<tr><th></th><th scope=col>PC1</th><th scope=col>PC2</th><th scope=col>PC3</th><th scope=col>PC4</th><th scope=col>PC5</th><th scope=col>PC6</th><th scope=col>PC7</th><th scope=col>PC8</th><th scope=col>PC9</th><th scope=col>PC10</th><th scope=col>PC11</th></tr>\n",
       "</thead>\n",
       "<tbody>\n",
       "\t<tr><th scope=row>ENSG00000170291-17_7145981_T_C</th><td>-0.03701719</td><td> 0.0301675905</td><td>-0.06211042</td><td>-0.0461717155</td><td> 0.0422649356</td><td> 0.0216306909</td><td>-0.007698212</td><td>-0.013111398</td><td>-0.016957177</td><td>-0.009678196</td><td> 0.0001622146</td></tr>\n",
       "\t<tr><th scope=row>ENSG00000093072-22_17680519_A_C</th><td>-0.02383803</td><td>-0.0121900666</td><td>-0.04213436</td><td>-0.0103257280</td><td> 0.0005196651</td><td>-0.0035341435</td><td> 0.021063032</td><td>-0.009334424</td><td> 0.003875496</td><td> 0.003854527</td><td> 0.2908702534</td></tr>\n",
       "\t<tr><th scope=row>ENSG00000124614-6_34313198_A_C</th><td>-0.02289235</td><td> 0.0116086804</td><td>-0.02484456</td><td> 0.0168097166</td><td> 0.0070413697</td><td>-0.0010491333</td><td> 0.007150861</td><td>-0.008538301</td><td>-0.005787372</td><td>-0.001677454</td><td> 0.0780664554</td></tr>\n",
       "\t<tr><th scope=row>ENSG00000165502-14_50087357_C_G</th><td>-0.04207412</td><td> 0.0093501790</td><td>-0.01916169</td><td>-0.0017079213</td><td> 0.0010903232</td><td>-0.0034341550</td><td> 0.021052417</td><td>-0.011772026</td><td> 0.002709119</td><td> 0.017691719</td><td>-0.2679612632</td></tr>\n",
       "\t<tr><th scope=row>ENSG00000183172-22_42467695_G_C</th><td>-0.03694986</td><td>-0.0088340276</td><td>-0.01013045</td><td> 0.0006182754</td><td> 0.0042341039</td><td> 0.0047491704</td><td> 0.014250374</td><td>-0.013648248</td><td> 0.005967364</td><td> 0.008648664</td><td>-0.2212048633</td></tr>\n",
       "\t<tr><th scope=row>ENSG00000243317-7_135349273_A_T</th><td>-0.03714309</td><td>-0.0005889907</td><td>-0.02786257</td><td>-0.0180838579</td><td>-0.0147411089</td><td>-0.0002657424</td><td> 0.016079095</td><td>-0.005934117</td><td>-0.009428193</td><td>-0.005519873</td><td>-0.1178430404</td></tr>\n",
       "</tbody>\n",
       "</table>\n"
      ],
      "text/latex": [
       "A matrix: 6 × 11 of type dbl\n",
       "\\begin{tabular}{r|lllllllllll}\n",
       "  & PC1 & PC2 & PC3 & PC4 & PC5 & PC6 & PC7 & PC8 & PC9 & PC10 & PC11\\\\\n",
       "\\hline\n",
       "\tENSG00000170291-17\\_7145981\\_T\\_C & -0.03701719 &  0.0301675905 & -0.06211042 & -0.0461717155 &  0.0422649356 &  0.0216306909 & -0.007698212 & -0.013111398 & -0.016957177 & -0.009678196 &  0.0001622146\\\\\n",
       "\tENSG00000093072-22\\_17680519\\_A\\_C & -0.02383803 & -0.0121900666 & -0.04213436 & -0.0103257280 &  0.0005196651 & -0.0035341435 &  0.021063032 & -0.009334424 &  0.003875496 &  0.003854527 &  0.2908702534\\\\\n",
       "\tENSG00000124614-6\\_34313198\\_A\\_C & -0.02289235 &  0.0116086804 & -0.02484456 &  0.0168097166 &  0.0070413697 & -0.0010491333 &  0.007150861 & -0.008538301 & -0.005787372 & -0.001677454 &  0.0780664554\\\\\n",
       "\tENSG00000165502-14\\_50087357\\_C\\_G & -0.04207412 &  0.0093501790 & -0.01916169 & -0.0017079213 &  0.0010903232 & -0.0034341550 &  0.021052417 & -0.011772026 &  0.002709119 &  0.017691719 & -0.2679612632\\\\\n",
       "\tENSG00000183172-22\\_42467695\\_G\\_C & -0.03694986 & -0.0088340276 & -0.01013045 &  0.0006182754 &  0.0042341039 &  0.0047491704 &  0.014250374 & -0.013648248 &  0.005967364 &  0.008648664 & -0.2212048633\\\\\n",
       "\tENSG00000243317-7\\_135349273\\_A\\_T & -0.03714309 & -0.0005889907 & -0.02786257 & -0.0180838579 & -0.0147411089 & -0.0002657424 &  0.016079095 & -0.005934117 & -0.009428193 & -0.005519873 & -0.1178430404\\\\\n",
       "\\end{tabular}\n"
      ],
      "text/markdown": [
       "\n",
       "A matrix: 6 × 11 of type dbl\n",
       "\n",
       "| <!--/--> | PC1 | PC2 | PC3 | PC4 | PC5 | PC6 | PC7 | PC8 | PC9 | PC10 | PC11 |\n",
       "|---|---|---|---|---|---|---|---|---|---|---|---|\n",
       "| ENSG00000170291-17_7145981_T_C | -0.03701719 |  0.0301675905 | -0.06211042 | -0.0461717155 |  0.0422649356 |  0.0216306909 | -0.007698212 | -0.013111398 | -0.016957177 | -0.009678196 |  0.0001622146 |\n",
       "| ENSG00000093072-22_17680519_A_C | -0.02383803 | -0.0121900666 | -0.04213436 | -0.0103257280 |  0.0005196651 | -0.0035341435 |  0.021063032 | -0.009334424 |  0.003875496 |  0.003854527 |  0.2908702534 |\n",
       "| ENSG00000124614-6_34313198_A_C | -0.02289235 |  0.0116086804 | -0.02484456 |  0.0168097166 |  0.0070413697 | -0.0010491333 |  0.007150861 | -0.008538301 | -0.005787372 | -0.001677454 |  0.0780664554 |\n",
       "| ENSG00000165502-14_50087357_C_G | -0.04207412 |  0.0093501790 | -0.01916169 | -0.0017079213 |  0.0010903232 | -0.0034341550 |  0.021052417 | -0.011772026 |  0.002709119 |  0.017691719 | -0.2679612632 |\n",
       "| ENSG00000183172-22_42467695_G_C | -0.03694986 | -0.0088340276 | -0.01013045 |  0.0006182754 |  0.0042341039 |  0.0047491704 |  0.014250374 | -0.013648248 |  0.005967364 |  0.008648664 | -0.2212048633 |\n",
       "| ENSG00000243317-7_135349273_A_T | -0.03714309 | -0.0005889907 | -0.02786257 | -0.0180838579 | -0.0147411089 | -0.0002657424 |  0.016079095 | -0.005934117 | -0.009428193 | -0.005519873 | -0.1178430404 |\n",
       "\n"
      ],
      "text/plain": [
       "                                PC1         PC2           PC3        \n",
       "ENSG00000170291-17_7145981_T_C  -0.03701719  0.0301675905 -0.06211042\n",
       "ENSG00000093072-22_17680519_A_C -0.02383803 -0.0121900666 -0.04213436\n",
       "ENSG00000124614-6_34313198_A_C  -0.02289235  0.0116086804 -0.02484456\n",
       "ENSG00000165502-14_50087357_C_G -0.04207412  0.0093501790 -0.01916169\n",
       "ENSG00000183172-22_42467695_G_C -0.03694986 -0.0088340276 -0.01013045\n",
       "ENSG00000243317-7_135349273_A_T -0.03714309 -0.0005889907 -0.02786257\n",
       "                                PC4           PC5           PC6          \n",
       "ENSG00000170291-17_7145981_T_C  -0.0461717155  0.0422649356  0.0216306909\n",
       "ENSG00000093072-22_17680519_A_C -0.0103257280  0.0005196651 -0.0035341435\n",
       "ENSG00000124614-6_34313198_A_C   0.0168097166  0.0070413697 -0.0010491333\n",
       "ENSG00000165502-14_50087357_C_G -0.0017079213  0.0010903232 -0.0034341550\n",
       "ENSG00000183172-22_42467695_G_C  0.0006182754  0.0042341039  0.0047491704\n",
       "ENSG00000243317-7_135349273_A_T -0.0180838579 -0.0147411089 -0.0002657424\n",
       "                                PC7          PC8          PC9         \n",
       "ENSG00000170291-17_7145981_T_C  -0.007698212 -0.013111398 -0.016957177\n",
       "ENSG00000093072-22_17680519_A_C  0.021063032 -0.009334424  0.003875496\n",
       "ENSG00000124614-6_34313198_A_C   0.007150861 -0.008538301 -0.005787372\n",
       "ENSG00000165502-14_50087357_C_G  0.021052417 -0.011772026  0.002709119\n",
       "ENSG00000183172-22_42467695_G_C  0.014250374 -0.013648248  0.005967364\n",
       "ENSG00000243317-7_135349273_A_T  0.016079095 -0.005934117 -0.009428193\n",
       "                                PC10         PC11         \n",
       "ENSG00000170291-17_7145981_T_C  -0.009678196  0.0001622146\n",
       "ENSG00000093072-22_17680519_A_C  0.003854527  0.2908702534\n",
       "ENSG00000124614-6_34313198_A_C  -0.001677454  0.0780664554\n",
       "ENSG00000165502-14_50087357_C_G  0.017691719 -0.2679612632\n",
       "ENSG00000183172-22_42467695_G_C  0.008648664 -0.2212048633\n",
       "ENSG00000243317-7_135349273_A_T -0.005519873 -0.1178430404"
      ]
     },
     "metadata": {},
     "output_type": "display_data"
    }
   ],
   "source": [
    "loadings = pca$rotation\n",
    "head(loadings)"
   ]
  },
  {
   "cell_type": "code",
   "execution_count": 636,
   "metadata": {},
   "outputs": [
    {
     "data": {
      "text/html": [
       "<table>\n",
       "<caption>A data.frame: 2 × 24</caption>\n",
       "<thead>\n",
       "\t<tr><th scope=col>snp_id</th><th scope=col>feature_id</th><th scope=col>Z.FPP.D11</th><th scope=col>Z.P_FPP.D11</th><th scope=col>Z.NB.D11</th><th scope=col>Z.DA.D30</th><th scope=col>Z.Sert.D30</th><th scope=col>Z.Epen1.D30</th><th scope=col>Z.Astro.D30</th><th scope=col>Z.DA.D52</th><th scope=col>⋯</th><th scope=col>Z.Adrenal_Gland.tsv</th><th scope=col>Z.Artery_Coronary.tsv</th><th scope=col>Z.Brain_Frontal_Cortex_BA9.tsv</th><th scope=col>Z.Brain_Hippocampus.tsv</th><th scope=col>Z.Brain_Spinal_cord_cervical_c-1.tsv</th><th scope=col>Z.Colon_Transverse.tsv</th><th scope=col>Z.Nerve_Tibial.tsv</th><th scope=col>Z.Prostate.tsv</th><th scope=col>Z.Spleen.tsv</th><th scope=col>Z.NA</th></tr>\n",
       "\t<tr><th scope=col>&lt;chr&gt;</th><th scope=col>&lt;chr&gt;</th><th scope=col>&lt;dbl&gt;</th><th scope=col>&lt;dbl&gt;</th><th scope=col>&lt;dbl&gt;</th><th scope=col>&lt;dbl&gt;</th><th scope=col>&lt;dbl&gt;</th><th scope=col>&lt;dbl&gt;</th><th scope=col>&lt;dbl&gt;</th><th scope=col>&lt;dbl&gt;</th><th scope=col>⋯</th><th scope=col>&lt;dbl&gt;</th><th scope=col>&lt;dbl&gt;</th><th scope=col>&lt;dbl&gt;</th><th scope=col>&lt;dbl&gt;</th><th scope=col>&lt;dbl&gt;</th><th scope=col>&lt;dbl&gt;</th><th scope=col>&lt;dbl&gt;</th><th scope=col>&lt;dbl&gt;</th><th scope=col>&lt;dbl&gt;</th><th scope=col>&lt;dbl&gt;</th></tr>\n",
       "</thead>\n",
       "<tbody>\n",
       "\t<tr><td>17_7145981_T_C </td><td>ENSG00000170291</td><td>17.60191</td><td>19.06328</td><td>7.378654</td><td> 1.520777</td><td>13.48673</td><td>11.883131</td><td>13.32917</td><td> 3.992745</td><td>⋯</td><td>5.537915e+06</td><td>-4.995868e+04</td><td>1.745715e+18</td><td>6.455203e+02</td><td>2.693161e+16</td><td> 2.563701e+07</td><td>145.34452</td><td>22.44462</td><td>2.244935e+03</td><td>8.128788e+00</td></tr>\n",
       "\t<tr><td>22_17680519_A_C</td><td>ENSG00000093072</td><td>17.21335</td><td>16.47538</td><td>9.035217</td><td>11.335143</td><td>13.02668</td><td> 8.723859</td><td>10.85849</td><td>11.971600</td><td>⋯</td><td>5.372030e+49</td><td> 1.512335e+17</td><td>1.537615e+39</td><td>6.062634e+12</td><td>2.263516e+52</td><td>-3.686502e-01</td><td> 34.78077</td><td>32.21393</td><td>1.412926e+09</td><td>7.801805e+18</td></tr>\n",
       "</tbody>\n",
       "</table>\n"
      ],
      "text/latex": [
       "A data.frame: 2 × 24\n",
       "\\begin{tabular}{r|llllllllllllllllllllllll}\n",
       " snp\\_id & feature\\_id & Z.FPP.D11 & Z.P\\_FPP.D11 & Z.NB.D11 & Z.DA.D30 & Z.Sert.D30 & Z.Epen1.D30 & Z.Astro.D30 & Z.DA.D52 & Z.Sert.D52 & Z.Epen1.D52 & Z.Astro.D52 & Z.Adipose\\_Visceral\\_Omentum.tsv & Z.Adrenal\\_Gland.tsv & Z.Artery\\_Coronary.tsv & Z.Brain\\_Frontal\\_Cortex\\_BA9.tsv & Z.Brain\\_Hippocampus.tsv & Z.Brain\\_Spinal\\_cord\\_cervical\\_c-1.tsv & Z.Colon\\_Transverse.tsv & Z.Nerve\\_Tibial.tsv & Z.Prostate.tsv & Z.Spleen.tsv & Z.NA\\\\\n",
       " <chr> & <chr> & <dbl> & <dbl> & <dbl> & <dbl> & <dbl> & <dbl> & <dbl> & <dbl> & <dbl> & <dbl> & <dbl> & <dbl> & <dbl> & <dbl> & <dbl> & <dbl> & <dbl> & <dbl> & <dbl> & <dbl> & <dbl> & <dbl>\\\\\n",
       "\\hline\n",
       "\t 17\\_7145981\\_T\\_C  & ENSG00000170291 & 17.60191 & 19.06328 & 7.378654 &  1.520777 & 13.48673 & 11.883131 & 13.32917 &  3.992745 & 18.89642 & 15.12826 & 10.205351 & 1.890334e+11 & 5.537915e+06 & -4.995868e+04 & 1.745715e+18 & 6.455203e+02 & 2.693161e+16 &  2.563701e+07 & 145.34452 & 22.44462 & 2.244935e+03 & 8.128788e+00\\\\\n",
       "\t 22\\_17680519\\_A\\_C & ENSG00000093072 & 17.21335 & 16.47538 & 9.035217 & 11.335143 & 13.02668 &  8.723859 & 10.85849 & 11.971600 & 17.40637 & 15.56394 &  9.950645 & 1.603709e+45 & 5.372030e+49 &  1.512335e+17 & 1.537615e+39 & 6.062634e+12 & 2.263516e+52 & -3.686502e-01 &  34.78077 & 32.21393 & 1.412926e+09 & 7.801805e+18\\\\\n",
       "\\end{tabular}\n"
      ],
      "text/markdown": [
       "\n",
       "A data.frame: 2 × 24\n",
       "\n",
       "| snp_id &lt;chr&gt; | feature_id &lt;chr&gt; | Z.FPP.D11 &lt;dbl&gt; | Z.P_FPP.D11 &lt;dbl&gt; | Z.NB.D11 &lt;dbl&gt; | Z.DA.D30 &lt;dbl&gt; | Z.Sert.D30 &lt;dbl&gt; | Z.Epen1.D30 &lt;dbl&gt; | Z.Astro.D30 &lt;dbl&gt; | Z.DA.D52 &lt;dbl&gt; | ⋯ ⋯ | Z.Adrenal_Gland.tsv &lt;dbl&gt; | Z.Artery_Coronary.tsv &lt;dbl&gt; | Z.Brain_Frontal_Cortex_BA9.tsv &lt;dbl&gt; | Z.Brain_Hippocampus.tsv &lt;dbl&gt; | Z.Brain_Spinal_cord_cervical_c-1.tsv &lt;dbl&gt; | Z.Colon_Transverse.tsv &lt;dbl&gt; | Z.Nerve_Tibial.tsv &lt;dbl&gt; | Z.Prostate.tsv &lt;dbl&gt; | Z.Spleen.tsv &lt;dbl&gt; | Z.NA &lt;dbl&gt; |\n",
       "|---|---|---|---|---|---|---|---|---|---|---|---|---|---|---|---|---|---|---|---|---|\n",
       "| 17_7145981_T_C  | ENSG00000170291 | 17.60191 | 19.06328 | 7.378654 |  1.520777 | 13.48673 | 11.883131 | 13.32917 |  3.992745 | ⋯ | 5.537915e+06 | -4.995868e+04 | 1.745715e+18 | 6.455203e+02 | 2.693161e+16 |  2.563701e+07 | 145.34452 | 22.44462 | 2.244935e+03 | 8.128788e+00 |\n",
       "| 22_17680519_A_C | ENSG00000093072 | 17.21335 | 16.47538 | 9.035217 | 11.335143 | 13.02668 |  8.723859 | 10.85849 | 11.971600 | ⋯ | 5.372030e+49 |  1.512335e+17 | 1.537615e+39 | 6.062634e+12 | 2.263516e+52 | -3.686502e-01 |  34.78077 | 32.21393 | 1.412926e+09 | 7.801805e+18 |\n",
       "\n"
      ],
      "text/plain": [
       "  snp_id          feature_id      Z.FPP.D11 Z.P_FPP.D11 Z.NB.D11 Z.DA.D30 \n",
       "1 17_7145981_T_C  ENSG00000170291 17.60191  19.06328    7.378654  1.520777\n",
       "2 22_17680519_A_C ENSG00000093072 17.21335  16.47538    9.035217 11.335143\n",
       "  Z.Sert.D30 Z.Epen1.D30 Z.Astro.D30 Z.DA.D52  ⋯ Z.Adrenal_Gland.tsv\n",
       "1 13.48673   11.883131   13.32917     3.992745 ⋯ 5.537915e+06       \n",
       "2 13.02668    8.723859   10.85849    11.971600 ⋯ 5.372030e+49       \n",
       "  Z.Artery_Coronary.tsv Z.Brain_Frontal_Cortex_BA9.tsv Z.Brain_Hippocampus.tsv\n",
       "1 -4.995868e+04         1.745715e+18                   6.455203e+02           \n",
       "2  1.512335e+17         1.537615e+39                   6.062634e+12           \n",
       "  Z.Brain_Spinal_cord_cervical_c-1.tsv Z.Colon_Transverse.tsv\n",
       "1 2.693161e+16                          2.563701e+07         \n",
       "2 2.263516e+52                         -3.686502e-01         \n",
       "  Z.Nerve_Tibial.tsv Z.Prostate.tsv Z.Spleen.tsv Z.NA        \n",
       "1 145.34452          22.44462       2.244935e+03 8.128788e+00\n",
       "2  34.78077          32.21393       1.412926e+09 7.801805e+18"
      ]
     },
     "metadata": {},
     "output_type": "display_data"
    },
    {
     "data": {
      "text/html": [
       "6807"
      ],
      "text/latex": [
       "6807"
      ],
      "text/markdown": [
       "6807"
      ],
      "text/plain": [
       "[1] 6807"
      ]
     },
     "metadata": {},
     "output_type": "display_data"
    },
    {
     "data": {
      "text/html": [
       "6807"
      ],
      "text/latex": [
       "6807"
      ],
      "text/markdown": [
       "6807"
      ],
      "text/plain": [
       "[1] 6807"
      ]
     },
     "metadata": {},
     "output_type": "display_data"
    },
    {
     "data": {
      "text/html": [
       "6807"
      ],
      "text/latex": [
       "6807"
      ],
      "text/markdown": [
       "6807"
      ],
      "text/plain": [
       "[1] 6807"
      ]
     },
     "metadata": {},
     "output_type": "display_data"
    },
    {
     "data": {
      "text/html": [
       "22"
      ],
      "text/latex": [
       "22"
      ],
      "text/markdown": [
       "22"
      ],
      "text/plain": [
       "[1] 22"
      ]
     },
     "metadata": {},
     "output_type": "display_data"
    }
   ],
   "source": [
    "ru0 = r_all_gtex[order(r_all_gtex$Z.FPP.D11, decreasing = T),]\n",
    "ru0 = ru0[-which(duplicated(ru0$feature_id)),]\n",
    "head(ru0,2)\n",
    "nrow(ru0)\n",
    "length(unique(ru0$feature_id))\n",
    "\n",
    "mat0 = ru0[,-c(1,2)]\n",
    "rownames(mat0) <- paste0(ru0$feature_id,\"-\",ru0$snp_id)\n",
    "nrow(mat0)\n",
    "ncol(mat0)"
   ]
  },
  {
   "cell_type": "code",
   "execution_count": 622,
   "metadata": {},
   "outputs": [],
   "source": [
    "l2_norm <- function(v){\n",
    "    s = 0\n",
    "    for (i in 1:length(v)){\n",
    "        s = s+(v[i]**2)\n",
    "    }\n",
    "    sqrt(s)\n",
    "}"
   ]
  },
  {
   "cell_type": "code",
   "execution_count": 623,
   "metadata": {},
   "outputs": [],
   "source": [
    "vec = c()\n",
    "for (j in 1:ncol(mat0)){\n",
    "    vec[j] = l2_norm(mat0[,j])\n",
    "}"
   ]
  },
  {
   "cell_type": "code",
   "execution_count": 637,
   "metadata": {},
   "outputs": [
    {
     "data": {
      "text/html": [
       "22"
      ],
      "text/latex": [
       "22"
      ],
      "text/markdown": [
       "22"
      ],
      "text/plain": [
       "[1] 22"
      ]
     },
     "metadata": {},
     "output_type": "display_data"
    },
    {
     "data": {
      "text/html": [
       "22"
      ],
      "text/latex": [
       "22"
      ],
      "text/markdown": [
       "22"
      ],
      "text/plain": [
       "[1] 22"
      ]
     },
     "metadata": {},
     "output_type": "display_data"
    }
   ],
   "source": [
    "ncol(mat0)\n",
    "length(vec)"
   ]
  },
  {
   "cell_type": "code",
   "execution_count": 638,
   "metadata": {},
   "outputs": [],
   "source": [
    "mat0 = scale(mat0)\n",
    "# scaled_mat0 = mapply('/', mat0, vec)\n",
    "# head(scaled_mat0)\n",
    "# mat0 = scaled_mat0"
   ]
  },
  {
   "cell_type": "code",
   "execution_count": 639,
   "metadata": {},
   "outputs": [],
   "source": [
    "mat_neuro = mat0[,grep(\".D\",colnames(mat0))]\n",
    "mat_gtex = mat0[,!(colnames(mat0) %in% colnames(mat_neuro))]"
   ]
  },
  {
   "cell_type": "code",
   "execution_count": 640,
   "metadata": {},
   "outputs": [],
   "source": [
    "pca = prcomp(t(mat_neuro))"
   ]
  },
  {
   "cell_type": "code",
   "execution_count": 641,
   "metadata": {},
   "outputs": [
    {
     "data": {
      "text/html": [
       "<table>\n",
       "<caption>A matrix: 2 × 11 of type dbl</caption>\n",
       "<thead>\n",
       "\t<tr><th></th><th scope=col>PC1</th><th scope=col>PC2</th><th scope=col>PC3</th><th scope=col>PC4</th><th scope=col>PC5</th><th scope=col>PC6</th><th scope=col>PC7</th><th scope=col>PC8</th><th scope=col>PC9</th><th scope=col>PC10</th><th scope=col>PC11</th></tr>\n",
       "</thead>\n",
       "<tbody>\n",
       "\t<tr><th scope=row>Z.FPP.D11</th><td>-42.10240</td><td> 0.2176531</td><td>-28.28388</td><td>1.886036</td><td>-3.168708</td><td> 0.2361999</td><td>-2.727077</td><td>-0.2522337</td><td>-1.6424811</td><td>-23.87635</td><td>1.207368e-14</td></tr>\n",
       "\t<tr><th scope=row>Z.P_FPP.D11</th><td>-44.24101</td><td>-0.1672866</td><td>-30.96719</td><td>4.371589</td><td>-5.083216</td><td>-1.0402388</td><td>-3.387129</td><td> 1.2172367</td><td> 0.8848968</td><td> 22.39072</td><td>1.207368e-14</td></tr>\n",
       "</tbody>\n",
       "</table>\n"
      ],
      "text/latex": [
       "A matrix: 2 × 11 of type dbl\n",
       "\\begin{tabular}{r|lllllllllll}\n",
       "  & PC1 & PC2 & PC3 & PC4 & PC5 & PC6 & PC7 & PC8 & PC9 & PC10 & PC11\\\\\n",
       "\\hline\n",
       "\tZ.FPP.D11 & -42.10240 &  0.2176531 & -28.28388 & 1.886036 & -3.168708 &  0.2361999 & -2.727077 & -0.2522337 & -1.6424811 & -23.87635 & 1.207368e-14\\\\\n",
       "\tZ.P\\_FPP.D11 & -44.24101 & -0.1672866 & -30.96719 & 4.371589 & -5.083216 & -1.0402388 & -3.387129 &  1.2172367 &  0.8848968 &  22.39072 & 1.207368e-14\\\\\n",
       "\\end{tabular}\n"
      ],
      "text/markdown": [
       "\n",
       "A matrix: 2 × 11 of type dbl\n",
       "\n",
       "| <!--/--> | PC1 | PC2 | PC3 | PC4 | PC5 | PC6 | PC7 | PC8 | PC9 | PC10 | PC11 |\n",
       "|---|---|---|---|---|---|---|---|---|---|---|---|\n",
       "| Z.FPP.D11 | -42.10240 |  0.2176531 | -28.28388 | 1.886036 | -3.168708 |  0.2361999 | -2.727077 | -0.2522337 | -1.6424811 | -23.87635 | 1.207368e-14 |\n",
       "| Z.P_FPP.D11 | -44.24101 | -0.1672866 | -30.96719 | 4.371589 | -5.083216 | -1.0402388 | -3.387129 |  1.2172367 |  0.8848968 |  22.39072 | 1.207368e-14 |\n",
       "\n"
      ],
      "text/plain": [
       "            PC1       PC2        PC3       PC4      PC5       PC6       \n",
       "Z.FPP.D11   -42.10240  0.2176531 -28.28388 1.886036 -3.168708  0.2361999\n",
       "Z.P_FPP.D11 -44.24101 -0.1672866 -30.96719 4.371589 -5.083216 -1.0402388\n",
       "            PC7       PC8        PC9        PC10      PC11        \n",
       "Z.FPP.D11   -2.727077 -0.2522337 -1.6424811 -23.87635 1.207368e-14\n",
       "Z.P_FPP.D11 -3.387129  1.2172367  0.8848968  22.39072 1.207368e-14"
      ]
     },
     "metadata": {},
     "output_type": "display_data"
    }
   ],
   "source": [
    "pcs_neuro = pca$x\n",
    "head(pcs_neuro,2)"
   ]
  },
  {
   "cell_type": "code",
   "execution_count": 642,
   "metadata": {},
   "outputs": [],
   "source": [
    "loadings = pca$rotation\n",
    "# head(loadings,2)\n",
    "\n",
    "pcs_gtex = t(as.matrix(mat_gtex)) %*% as.matrix(loadings)\n",
    "head(pcs_gtex,2)"
   ]
  },
  {
   "cell_type": "code",
   "execution_count": 644,
   "metadata": {},
   "outputs": [],
   "source": [
    "pcs = t(cbind(t(pcs_neuro), t(pcs_gtex)))\n",
    "# pcs = scale(pcs)"
   ]
  },
  {
   "cell_type": "code",
   "execution_count": 646,
   "metadata": {},
   "outputs": [
    {
     "data": {
      "text/html": [
       "<table>\n",
       "<caption>A matrix: 22 × 11 of type dbl</caption>\n",
       "<thead>\n",
       "\t<tr><th></th><th scope=col>PC1</th><th scope=col>PC2</th><th scope=col>PC3</th><th scope=col>PC4</th><th scope=col>PC5</th><th scope=col>PC6</th><th scope=col>PC7</th><th scope=col>PC8</th><th scope=col>PC9</th><th scope=col>PC10</th><th scope=col>PC11</th></tr>\n",
       "</thead>\n",
       "<tbody>\n",
       "\t<tr><th scope=row>Z.FPP.D11</th><td>-2.07968840</td><td>-0.05696723</td><td>-1.81883843</td><td> 0.19218380</td><td>-0.25876460</td><td> 0.05422083</td><td>-0.33981678</td><td>-0.02911619</td><td>-0.169736418</td><td>-3.19508663</td><td> 0.6533340</td></tr>\n",
       "\t<tr><th scope=row>Z.P_FPP.D11</th><td>-2.18403480</td><td>-0.07927458</td><td>-1.99768906</td><td> 0.36550236</td><td>-0.39669477</td><td>-0.04696903</td><td>-0.40046893</td><td> 0.11116331</td><td> 0.084676433</td><td> 3.20825155</td><td> 0.6533340</td></tr>\n",
       "\t<tr><th scope=row>Z.NB.D11</th><td>-2.51837478</td><td>-0.47972861</td><td> 3.57801812</td><td> 0.14050769</td><td> 0.43766325</td><td> 0.19214468</td><td> 0.11123009</td><td>-0.11789497</td><td>-0.009398886</td><td> 0.17947130</td><td> 0.6533340</td></tr>\n",
       "\t<tr><th scope=row>Z.DA.D30</th><td> 0.76812576</td><td> 2.01465769</td><td> 0.65349995</td><td> 0.42789475</td><td>-2.12008969</td><td>-0.15336763</td><td>-1.31938512</td><td>-0.95867110</td><td> 2.592898482</td><td>-0.00394569</td><td> 0.6533340</td></tr>\n",
       "\t<tr><th scope=row>Z.Sert.D30</th><td> 0.84404905</td><td> 1.35475536</td><td> 0.19590820</td><td> 1.01900230</td><td> 1.91089480</td><td>-2.28712075</td><td>-1.62305689</td><td>-0.57546379</td><td>-1.862351871</td><td> 0.18138846</td><td> 0.6533340</td></tr>\n",
       "\t<tr><th scope=row>Z.Epen1.D30</th><td> 1.18426987</td><td>-1.89832833</td><td> 0.28450518</td><td> 2.10661882</td><td>-0.36849167</td><td> 1.17346463</td><td>-1.63805889</td><td> 2.47508913</td><td> 0.001999915</td><td> 0.01619828</td><td> 0.6533340</td></tr>\n",
       "\t<tr><th scope=row>Z.Astro.D30</th><td> 0.81387340</td><td>-0.72518430</td><td>-0.00235245</td><td> 1.70923701</td><td>-0.99874846</td><td>-1.51185865</td><td> 3.32709969</td><td>-0.30488883</td><td>-0.059808690</td><td> 0.07057332</td><td> 0.6533340</td></tr>\n",
       "\t<tr><th scope=row>Z.DA.D52</th><td> 0.63494150</td><td> 1.74791236</td><td> 0.31344194</td><td>-1.27280415</td><td>-1.43499550</td><td> 1.90005204</td><td> 0.66522432</td><td> 0.77410392</td><td>-2.611831082</td><td> 0.26007614</td><td> 0.6533340</td></tr>\n",
       "\t<tr><th scope=row>Z.Sert.D52</th><td> 0.58879963</td><td> 0.99813389</td><td>-0.37158709</td><td>-0.74842906</td><td> 2.90681134</td><td> 1.11446386</td><td> 1.23926211</td><td> 1.16418060</td><td> 1.933159682</td><td> 0.12313052</td><td> 0.6533340</td></tr>\n",
       "\t<tr><th scope=row>Z.Epen1.D52</th><td> 0.97935133</td><td>-1.79722865</td><td>-0.21942966</td><td>-0.12687372</td><td> 0.61782771</td><td> 1.86312123</td><td>-0.41854114</td><td>-3.31963819</td><td>-0.274181447</td><td> 0.23750794</td><td> 0.6533340</td></tr>\n",
       "\t<tr><th scope=row>Z.Astro.D52</th><td> 0.68885129</td><td>-1.84413066</td><td> 0.11455086</td><td>-3.14547143</td><td>-0.63064879</td><td>-1.90769466</td><td>-0.58497523</td><td> 0.72572580</td><td> 0.326176888</td><td> 0.12569755</td><td> 0.6533340</td></tr>\n",
       "\t<tr><th scope=row>Z.Adipose_Visceral_Omentum.tsv</th><td> 0.01686451</td><td> 0.07206740</td><td>-0.07053326</td><td>-0.03286988</td><td> 0.03596753</td><td>-0.07032346</td><td> 0.08925557</td><td> 0.01173257</td><td> 0.009771085</td><td>-0.15425292</td><td>-0.3048101</td></tr>\n",
       "\t<tr><th scope=row>Z.Adrenal_Gland.tsv</th><td> 0.01686451</td><td> 0.07206740</td><td>-0.07053326</td><td>-0.03286988</td><td> 0.03596753</td><td>-0.07032346</td><td> 0.08925557</td><td> 0.01173257</td><td> 0.009771085</td><td>-0.15425292</td><td>-0.3048101</td></tr>\n",
       "\t<tr><th scope=row>Z.Artery_Coronary.tsv</th><td> 0.01686935</td><td> 0.07206870</td><td>-0.07053100</td><td>-0.03287201</td><td> 0.03596940</td><td>-0.07032171</td><td> 0.08925827</td><td> 0.01173080</td><td> 0.009769460</td><td>-0.15427027</td><td>-0.3048911</td></tr>\n",
       "\t<tr><th scope=row>Z.Brain_Frontal_Cortex_BA9.tsv</th><td> 0.01686451</td><td> 0.07206740</td><td>-0.07053326</td><td>-0.03286988</td><td> 0.03596753</td><td>-0.07032346</td><td> 0.08925557</td><td> 0.01173257</td><td> 0.009771085</td><td>-0.15425292</td><td>-0.3048101</td></tr>\n",
       "\t<tr><th scope=row>Z.Brain_Hippocampus.tsv</th><td> 0.01686451</td><td> 0.07206740</td><td>-0.07053326</td><td>-0.03286988</td><td> 0.03596753</td><td>-0.07032346</td><td> 0.08925557</td><td> 0.01173257</td><td> 0.009771085</td><td>-0.15425292</td><td>-0.3048101</td></tr>\n",
       "\t<tr><th scope=row>Z.Brain_Spinal_cord_cervical_c-1.tsv</th><td> 0.01801295</td><td> 0.07206080</td><td>-0.06954013</td><td>-0.03328600</td><td> 0.03663433</td><td>-0.06990049</td><td> 0.08950824</td><td> 0.01122403</td><td> 0.009755652</td><td>-0.15938710</td><td>-0.3135043</td></tr>\n",
       "\t<tr><th scope=row>Z.Colon_Transverse.tsv</th><td> 0.08851887</td><td> 0.03966821</td><td> 0.00460371</td><td>-0.01199381</td><td>-0.04259973</td><td> 0.07403309</td><td> 0.07132903</td><td>-0.02487435</td><td>-0.135728901</td><td>-0.03995061</td><td>-3.8955558</td></tr>\n",
       "\t<tr><th scope=row>Z.Nerve_Tibial.tsv</th><td> 0.03756138</td><td> 0.07711803</td><td>-0.10153791</td><td>-0.35882919</td><td> 0.05298231</td><td> 0.16769401</td><td> 0.10642111</td><td>-0.02443420</td><td> 0.096214158</td><td> 0.23379041</td><td>-0.5328278</td></tr>\n",
       "\t<tr><th scope=row>Z.Prostate.tsv</th><td> 0.01686455</td><td> 0.07206748</td><td>-0.07053334</td><td>-0.03287017</td><td> 0.03596756</td><td>-0.07032333</td><td> 0.08925567</td><td> 0.01173255</td><td> 0.009771147</td><td>-0.15425274</td><td>-0.3048108</td></tr>\n",
       "\t<tr><th scope=row>Z.Spleen.tsv</th><td> 0.01768651</td><td> 0.07206281</td><td>-0.06982258</td><td>-0.03316780</td><td> 0.03644484</td><td>-0.07002083</td><td> 0.08943658</td><td> 0.01136862</td><td> 0.009760054</td><td>-0.15792782</td><td>-0.3110337</td></tr>\n",
       "\t<tr><th scope=row>Z.NA</th><td> 0.01686451</td><td> 0.07206740</td><td>-0.07053326</td><td>-0.03286988</td><td> 0.03596753</td><td>-0.07032345</td><td> 0.08925557</td><td> 0.01173257</td><td> 0.009771085</td><td>-0.15425293</td><td>-0.3048101</td></tr>\n",
       "</tbody>\n",
       "</table>\n"
      ],
      "text/latex": [
       "A matrix: 22 × 11 of type dbl\n",
       "\\begin{tabular}{r|lllllllllll}\n",
       "  & PC1 & PC2 & PC3 & PC4 & PC5 & PC6 & PC7 & PC8 & PC9 & PC10 & PC11\\\\\n",
       "\\hline\n",
       "\tZ.FPP.D11 & -2.07968840 & -0.05696723 & -1.81883843 &  0.19218380 & -0.25876460 &  0.05422083 & -0.33981678 & -0.02911619 & -0.169736418 & -3.19508663 &  0.6533340\\\\\n",
       "\tZ.P\\_FPP.D11 & -2.18403480 & -0.07927458 & -1.99768906 &  0.36550236 & -0.39669477 & -0.04696903 & -0.40046893 &  0.11116331 &  0.084676433 &  3.20825155 &  0.6533340\\\\\n",
       "\tZ.NB.D11 & -2.51837478 & -0.47972861 &  3.57801812 &  0.14050769 &  0.43766325 &  0.19214468 &  0.11123009 & -0.11789497 & -0.009398886 &  0.17947130 &  0.6533340\\\\\n",
       "\tZ.DA.D30 &  0.76812576 &  2.01465769 &  0.65349995 &  0.42789475 & -2.12008969 & -0.15336763 & -1.31938512 & -0.95867110 &  2.592898482 & -0.00394569 &  0.6533340\\\\\n",
       "\tZ.Sert.D30 &  0.84404905 &  1.35475536 &  0.19590820 &  1.01900230 &  1.91089480 & -2.28712075 & -1.62305689 & -0.57546379 & -1.862351871 &  0.18138846 &  0.6533340\\\\\n",
       "\tZ.Epen1.D30 &  1.18426987 & -1.89832833 &  0.28450518 &  2.10661882 & -0.36849167 &  1.17346463 & -1.63805889 &  2.47508913 &  0.001999915 &  0.01619828 &  0.6533340\\\\\n",
       "\tZ.Astro.D30 &  0.81387340 & -0.72518430 & -0.00235245 &  1.70923701 & -0.99874846 & -1.51185865 &  3.32709969 & -0.30488883 & -0.059808690 &  0.07057332 &  0.6533340\\\\\n",
       "\tZ.DA.D52 &  0.63494150 &  1.74791236 &  0.31344194 & -1.27280415 & -1.43499550 &  1.90005204 &  0.66522432 &  0.77410392 & -2.611831082 &  0.26007614 &  0.6533340\\\\\n",
       "\tZ.Sert.D52 &  0.58879963 &  0.99813389 & -0.37158709 & -0.74842906 &  2.90681134 &  1.11446386 &  1.23926211 &  1.16418060 &  1.933159682 &  0.12313052 &  0.6533340\\\\\n",
       "\tZ.Epen1.D52 &  0.97935133 & -1.79722865 & -0.21942966 & -0.12687372 &  0.61782771 &  1.86312123 & -0.41854114 & -3.31963819 & -0.274181447 &  0.23750794 &  0.6533340\\\\\n",
       "\tZ.Astro.D52 &  0.68885129 & -1.84413066 &  0.11455086 & -3.14547143 & -0.63064879 & -1.90769466 & -0.58497523 &  0.72572580 &  0.326176888 &  0.12569755 &  0.6533340\\\\\n",
       "\tZ.Adipose\\_Visceral\\_Omentum.tsv &  0.01686451 &  0.07206740 & -0.07053326 & -0.03286988 &  0.03596753 & -0.07032346 &  0.08925557 &  0.01173257 &  0.009771085 & -0.15425292 & -0.3048101\\\\\n",
       "\tZ.Adrenal\\_Gland.tsv &  0.01686451 &  0.07206740 & -0.07053326 & -0.03286988 &  0.03596753 & -0.07032346 &  0.08925557 &  0.01173257 &  0.009771085 & -0.15425292 & -0.3048101\\\\\n",
       "\tZ.Artery\\_Coronary.tsv &  0.01686935 &  0.07206870 & -0.07053100 & -0.03287201 &  0.03596940 & -0.07032171 &  0.08925827 &  0.01173080 &  0.009769460 & -0.15427027 & -0.3048911\\\\\n",
       "\tZ.Brain\\_Frontal\\_Cortex\\_BA9.tsv &  0.01686451 &  0.07206740 & -0.07053326 & -0.03286988 &  0.03596753 & -0.07032346 &  0.08925557 &  0.01173257 &  0.009771085 & -0.15425292 & -0.3048101\\\\\n",
       "\tZ.Brain\\_Hippocampus.tsv &  0.01686451 &  0.07206740 & -0.07053326 & -0.03286988 &  0.03596753 & -0.07032346 &  0.08925557 &  0.01173257 &  0.009771085 & -0.15425292 & -0.3048101\\\\\n",
       "\tZ.Brain\\_Spinal\\_cord\\_cervical\\_c-1.tsv &  0.01801295 &  0.07206080 & -0.06954013 & -0.03328600 &  0.03663433 & -0.06990049 &  0.08950824 &  0.01122403 &  0.009755652 & -0.15938710 & -0.3135043\\\\\n",
       "\tZ.Colon\\_Transverse.tsv &  0.08851887 &  0.03966821 &  0.00460371 & -0.01199381 & -0.04259973 &  0.07403309 &  0.07132903 & -0.02487435 & -0.135728901 & -0.03995061 & -3.8955558\\\\\n",
       "\tZ.Nerve\\_Tibial.tsv &  0.03756138 &  0.07711803 & -0.10153791 & -0.35882919 &  0.05298231 &  0.16769401 &  0.10642111 & -0.02443420 &  0.096214158 &  0.23379041 & -0.5328278\\\\\n",
       "\tZ.Prostate.tsv &  0.01686455 &  0.07206748 & -0.07053334 & -0.03287017 &  0.03596756 & -0.07032333 &  0.08925567 &  0.01173255 &  0.009771147 & -0.15425274 & -0.3048108\\\\\n",
       "\tZ.Spleen.tsv &  0.01768651 &  0.07206281 & -0.06982258 & -0.03316780 &  0.03644484 & -0.07002083 &  0.08943658 &  0.01136862 &  0.009760054 & -0.15792782 & -0.3110337\\\\\n",
       "\tZ.NA &  0.01686451 &  0.07206740 & -0.07053326 & -0.03286988 &  0.03596753 & -0.07032345 &  0.08925557 &  0.01173257 &  0.009771085 & -0.15425293 & -0.3048101\\\\\n",
       "\\end{tabular}\n"
      ],
      "text/markdown": [
       "\n",
       "A matrix: 22 × 11 of type dbl\n",
       "\n",
       "| <!--/--> | PC1 | PC2 | PC3 | PC4 | PC5 | PC6 | PC7 | PC8 | PC9 | PC10 | PC11 |\n",
       "|---|---|---|---|---|---|---|---|---|---|---|---|\n",
       "| Z.FPP.D11 | -2.07968840 | -0.05696723 | -1.81883843 |  0.19218380 | -0.25876460 |  0.05422083 | -0.33981678 | -0.02911619 | -0.169736418 | -3.19508663 |  0.6533340 |\n",
       "| Z.P_FPP.D11 | -2.18403480 | -0.07927458 | -1.99768906 |  0.36550236 | -0.39669477 | -0.04696903 | -0.40046893 |  0.11116331 |  0.084676433 |  3.20825155 |  0.6533340 |\n",
       "| Z.NB.D11 | -2.51837478 | -0.47972861 |  3.57801812 |  0.14050769 |  0.43766325 |  0.19214468 |  0.11123009 | -0.11789497 | -0.009398886 |  0.17947130 |  0.6533340 |\n",
       "| Z.DA.D30 |  0.76812576 |  2.01465769 |  0.65349995 |  0.42789475 | -2.12008969 | -0.15336763 | -1.31938512 | -0.95867110 |  2.592898482 | -0.00394569 |  0.6533340 |\n",
       "| Z.Sert.D30 |  0.84404905 |  1.35475536 |  0.19590820 |  1.01900230 |  1.91089480 | -2.28712075 | -1.62305689 | -0.57546379 | -1.862351871 |  0.18138846 |  0.6533340 |\n",
       "| Z.Epen1.D30 |  1.18426987 | -1.89832833 |  0.28450518 |  2.10661882 | -0.36849167 |  1.17346463 | -1.63805889 |  2.47508913 |  0.001999915 |  0.01619828 |  0.6533340 |\n",
       "| Z.Astro.D30 |  0.81387340 | -0.72518430 | -0.00235245 |  1.70923701 | -0.99874846 | -1.51185865 |  3.32709969 | -0.30488883 | -0.059808690 |  0.07057332 |  0.6533340 |\n",
       "| Z.DA.D52 |  0.63494150 |  1.74791236 |  0.31344194 | -1.27280415 | -1.43499550 |  1.90005204 |  0.66522432 |  0.77410392 | -2.611831082 |  0.26007614 |  0.6533340 |\n",
       "| Z.Sert.D52 |  0.58879963 |  0.99813389 | -0.37158709 | -0.74842906 |  2.90681134 |  1.11446386 |  1.23926211 |  1.16418060 |  1.933159682 |  0.12313052 |  0.6533340 |\n",
       "| Z.Epen1.D52 |  0.97935133 | -1.79722865 | -0.21942966 | -0.12687372 |  0.61782771 |  1.86312123 | -0.41854114 | -3.31963819 | -0.274181447 |  0.23750794 |  0.6533340 |\n",
       "| Z.Astro.D52 |  0.68885129 | -1.84413066 |  0.11455086 | -3.14547143 | -0.63064879 | -1.90769466 | -0.58497523 |  0.72572580 |  0.326176888 |  0.12569755 |  0.6533340 |\n",
       "| Z.Adipose_Visceral_Omentum.tsv |  0.01686451 |  0.07206740 | -0.07053326 | -0.03286988 |  0.03596753 | -0.07032346 |  0.08925557 |  0.01173257 |  0.009771085 | -0.15425292 | -0.3048101 |\n",
       "| Z.Adrenal_Gland.tsv |  0.01686451 |  0.07206740 | -0.07053326 | -0.03286988 |  0.03596753 | -0.07032346 |  0.08925557 |  0.01173257 |  0.009771085 | -0.15425292 | -0.3048101 |\n",
       "| Z.Artery_Coronary.tsv |  0.01686935 |  0.07206870 | -0.07053100 | -0.03287201 |  0.03596940 | -0.07032171 |  0.08925827 |  0.01173080 |  0.009769460 | -0.15427027 | -0.3048911 |\n",
       "| Z.Brain_Frontal_Cortex_BA9.tsv |  0.01686451 |  0.07206740 | -0.07053326 | -0.03286988 |  0.03596753 | -0.07032346 |  0.08925557 |  0.01173257 |  0.009771085 | -0.15425292 | -0.3048101 |\n",
       "| Z.Brain_Hippocampus.tsv |  0.01686451 |  0.07206740 | -0.07053326 | -0.03286988 |  0.03596753 | -0.07032346 |  0.08925557 |  0.01173257 |  0.009771085 | -0.15425292 | -0.3048101 |\n",
       "| Z.Brain_Spinal_cord_cervical_c-1.tsv |  0.01801295 |  0.07206080 | -0.06954013 | -0.03328600 |  0.03663433 | -0.06990049 |  0.08950824 |  0.01122403 |  0.009755652 | -0.15938710 | -0.3135043 |\n",
       "| Z.Colon_Transverse.tsv |  0.08851887 |  0.03966821 |  0.00460371 | -0.01199381 | -0.04259973 |  0.07403309 |  0.07132903 | -0.02487435 | -0.135728901 | -0.03995061 | -3.8955558 |\n",
       "| Z.Nerve_Tibial.tsv |  0.03756138 |  0.07711803 | -0.10153791 | -0.35882919 |  0.05298231 |  0.16769401 |  0.10642111 | -0.02443420 |  0.096214158 |  0.23379041 | -0.5328278 |\n",
       "| Z.Prostate.tsv |  0.01686455 |  0.07206748 | -0.07053334 | -0.03287017 |  0.03596756 | -0.07032333 |  0.08925567 |  0.01173255 |  0.009771147 | -0.15425274 | -0.3048108 |\n",
       "| Z.Spleen.tsv |  0.01768651 |  0.07206281 | -0.06982258 | -0.03316780 |  0.03644484 | -0.07002083 |  0.08943658 |  0.01136862 |  0.009760054 | -0.15792782 | -0.3110337 |\n",
       "| Z.NA |  0.01686451 |  0.07206740 | -0.07053326 | -0.03286988 |  0.03596753 | -0.07032345 |  0.08925557 |  0.01173257 |  0.009771085 | -0.15425293 | -0.3048101 |\n",
       "\n"
      ],
      "text/plain": [
       "                                     PC1         PC2         PC3        \n",
       "Z.FPP.D11                            -2.07968840 -0.05696723 -1.81883843\n",
       "Z.P_FPP.D11                          -2.18403480 -0.07927458 -1.99768906\n",
       "Z.NB.D11                             -2.51837478 -0.47972861  3.57801812\n",
       "Z.DA.D30                              0.76812576  2.01465769  0.65349995\n",
       "Z.Sert.D30                            0.84404905  1.35475536  0.19590820\n",
       "Z.Epen1.D30                           1.18426987 -1.89832833  0.28450518\n",
       "Z.Astro.D30                           0.81387340 -0.72518430 -0.00235245\n",
       "Z.DA.D52                              0.63494150  1.74791236  0.31344194\n",
       "Z.Sert.D52                            0.58879963  0.99813389 -0.37158709\n",
       "Z.Epen1.D52                           0.97935133 -1.79722865 -0.21942966\n",
       "Z.Astro.D52                           0.68885129 -1.84413066  0.11455086\n",
       "Z.Adipose_Visceral_Omentum.tsv        0.01686451  0.07206740 -0.07053326\n",
       "Z.Adrenal_Gland.tsv                   0.01686451  0.07206740 -0.07053326\n",
       "Z.Artery_Coronary.tsv                 0.01686935  0.07206870 -0.07053100\n",
       "Z.Brain_Frontal_Cortex_BA9.tsv        0.01686451  0.07206740 -0.07053326\n",
       "Z.Brain_Hippocampus.tsv               0.01686451  0.07206740 -0.07053326\n",
       "Z.Brain_Spinal_cord_cervical_c-1.tsv  0.01801295  0.07206080 -0.06954013\n",
       "Z.Colon_Transverse.tsv                0.08851887  0.03966821  0.00460371\n",
       "Z.Nerve_Tibial.tsv                    0.03756138  0.07711803 -0.10153791\n",
       "Z.Prostate.tsv                        0.01686455  0.07206748 -0.07053334\n",
       "Z.Spleen.tsv                          0.01768651  0.07206281 -0.06982258\n",
       "Z.NA                                  0.01686451  0.07206740 -0.07053326\n",
       "                                     PC4         PC5         PC6        \n",
       "Z.FPP.D11                             0.19218380 -0.25876460  0.05422083\n",
       "Z.P_FPP.D11                           0.36550236 -0.39669477 -0.04696903\n",
       "Z.NB.D11                              0.14050769  0.43766325  0.19214468\n",
       "Z.DA.D30                              0.42789475 -2.12008969 -0.15336763\n",
       "Z.Sert.D30                            1.01900230  1.91089480 -2.28712075\n",
       "Z.Epen1.D30                           2.10661882 -0.36849167  1.17346463\n",
       "Z.Astro.D30                           1.70923701 -0.99874846 -1.51185865\n",
       "Z.DA.D52                             -1.27280415 -1.43499550  1.90005204\n",
       "Z.Sert.D52                           -0.74842906  2.90681134  1.11446386\n",
       "Z.Epen1.D52                          -0.12687372  0.61782771  1.86312123\n",
       "Z.Astro.D52                          -3.14547143 -0.63064879 -1.90769466\n",
       "Z.Adipose_Visceral_Omentum.tsv       -0.03286988  0.03596753 -0.07032346\n",
       "Z.Adrenal_Gland.tsv                  -0.03286988  0.03596753 -0.07032346\n",
       "Z.Artery_Coronary.tsv                -0.03287201  0.03596940 -0.07032171\n",
       "Z.Brain_Frontal_Cortex_BA9.tsv       -0.03286988  0.03596753 -0.07032346\n",
       "Z.Brain_Hippocampus.tsv              -0.03286988  0.03596753 -0.07032346\n",
       "Z.Brain_Spinal_cord_cervical_c-1.tsv -0.03328600  0.03663433 -0.06990049\n",
       "Z.Colon_Transverse.tsv               -0.01199381 -0.04259973  0.07403309\n",
       "Z.Nerve_Tibial.tsv                   -0.35882919  0.05298231  0.16769401\n",
       "Z.Prostate.tsv                       -0.03287017  0.03596756 -0.07032333\n",
       "Z.Spleen.tsv                         -0.03316780  0.03644484 -0.07002083\n",
       "Z.NA                                 -0.03286988  0.03596753 -0.07032345\n",
       "                                     PC7         PC8         PC9         \n",
       "Z.FPP.D11                            -0.33981678 -0.02911619 -0.169736418\n",
       "Z.P_FPP.D11                          -0.40046893  0.11116331  0.084676433\n",
       "Z.NB.D11                              0.11123009 -0.11789497 -0.009398886\n",
       "Z.DA.D30                             -1.31938512 -0.95867110  2.592898482\n",
       "Z.Sert.D30                           -1.62305689 -0.57546379 -1.862351871\n",
       "Z.Epen1.D30                          -1.63805889  2.47508913  0.001999915\n",
       "Z.Astro.D30                           3.32709969 -0.30488883 -0.059808690\n",
       "Z.DA.D52                              0.66522432  0.77410392 -2.611831082\n",
       "Z.Sert.D52                            1.23926211  1.16418060  1.933159682\n",
       "Z.Epen1.D52                          -0.41854114 -3.31963819 -0.274181447\n",
       "Z.Astro.D52                          -0.58497523  0.72572580  0.326176888\n",
       "Z.Adipose_Visceral_Omentum.tsv        0.08925557  0.01173257  0.009771085\n",
       "Z.Adrenal_Gland.tsv                   0.08925557  0.01173257  0.009771085\n",
       "Z.Artery_Coronary.tsv                 0.08925827  0.01173080  0.009769460\n",
       "Z.Brain_Frontal_Cortex_BA9.tsv        0.08925557  0.01173257  0.009771085\n",
       "Z.Brain_Hippocampus.tsv               0.08925557  0.01173257  0.009771085\n",
       "Z.Brain_Spinal_cord_cervical_c-1.tsv  0.08950824  0.01122403  0.009755652\n",
       "Z.Colon_Transverse.tsv                0.07132903 -0.02487435 -0.135728901\n",
       "Z.Nerve_Tibial.tsv                    0.10642111 -0.02443420  0.096214158\n",
       "Z.Prostate.tsv                        0.08925567  0.01173255  0.009771147\n",
       "Z.Spleen.tsv                          0.08943658  0.01136862  0.009760054\n",
       "Z.NA                                  0.08925557  0.01173257  0.009771085\n",
       "                                     PC10        PC11      \n",
       "Z.FPP.D11                            -3.19508663  0.6533340\n",
       "Z.P_FPP.D11                           3.20825155  0.6533340\n",
       "Z.NB.D11                              0.17947130  0.6533340\n",
       "Z.DA.D30                             -0.00394569  0.6533340\n",
       "Z.Sert.D30                            0.18138846  0.6533340\n",
       "Z.Epen1.D30                           0.01619828  0.6533340\n",
       "Z.Astro.D30                           0.07057332  0.6533340\n",
       "Z.DA.D52                              0.26007614  0.6533340\n",
       "Z.Sert.D52                            0.12313052  0.6533340\n",
       "Z.Epen1.D52                           0.23750794  0.6533340\n",
       "Z.Astro.D52                           0.12569755  0.6533340\n",
       "Z.Adipose_Visceral_Omentum.tsv       -0.15425292 -0.3048101\n",
       "Z.Adrenal_Gland.tsv                  -0.15425292 -0.3048101\n",
       "Z.Artery_Coronary.tsv                -0.15427027 -0.3048911\n",
       "Z.Brain_Frontal_Cortex_BA9.tsv       -0.15425292 -0.3048101\n",
       "Z.Brain_Hippocampus.tsv              -0.15425292 -0.3048101\n",
       "Z.Brain_Spinal_cord_cervical_c-1.tsv -0.15938710 -0.3135043\n",
       "Z.Colon_Transverse.tsv               -0.03995061 -3.8955558\n",
       "Z.Nerve_Tibial.tsv                    0.23379041 -0.5328278\n",
       "Z.Prostate.tsv                       -0.15425274 -0.3048108\n",
       "Z.Spleen.tsv                         -0.15792782 -0.3110337\n",
       "Z.NA                                 -0.15425293 -0.3048101"
      ]
     },
     "metadata": {},
     "output_type": "display_data"
    }
   ],
   "source": [
    "pcs"
   ]
  },
  {
   "cell_type": "code",
   "execution_count": 647,
   "metadata": {},
   "outputs": [
    {
     "data": {
      "text/html": [
       "<table>\n",
       "<caption>A matrix: 6 × 22 of type dbl</caption>\n",
       "<thead>\n",
       "\t<tr><th></th><th scope=col>Z.FPP.D11</th><th scope=col>Z.P_FPP.D11</th><th scope=col>Z.NB.D11</th><th scope=col>Z.DA.D30</th><th scope=col>Z.Sert.D30</th><th scope=col>Z.Epen1.D30</th><th scope=col>Z.Astro.D30</th><th scope=col>Z.DA.D52</th><th scope=col>Z.Sert.D52</th><th scope=col>Z.Epen1.D52</th><th scope=col>⋯</th><th scope=col>Z.Adrenal_Gland.tsv</th><th scope=col>Z.Artery_Coronary.tsv</th><th scope=col>Z.Brain_Frontal_Cortex_BA9.tsv</th><th scope=col>Z.Brain_Hippocampus.tsv</th><th scope=col>Z.Brain_Spinal_cord_cervical_c-1.tsv</th><th scope=col>Z.Colon_Transverse.tsv</th><th scope=col>Z.Nerve_Tibial.tsv</th><th scope=col>Z.Prostate.tsv</th><th scope=col>Z.Spleen.tsv</th><th scope=col>Z.NA</th></tr>\n",
       "</thead>\n",
       "<tbody>\n",
       "\t<tr><th scope=row>Z.FPP.D11</th><td>18.523914</td><td>-1.3548705</td><td>-1.4982544</td><td>-1.802715</td><td>-1.879807</td><td>-1.4490762</td><td>-2.052276</td><td>-1.969809</td><td>-2.190826</td><td>-1.6650824</td><td>⋯</td><td> 0.3310510</td><td> 0.3310379</td><td> 0.3310510</td><td> 0.3310510</td><td> 0.3372825</td><td>-2.599922</td><td>-1.1182852</td><td> 0.3310499</td><td> 0.3355113</td><td> 0.3310510</td></tr>\n",
       "\t<tr><th scope=row>Z.P_FPP.D11</th><td>-1.354871</td><td>19.9598449</td><td>-0.7966182</td><td>-1.082638</td><td>-1.183263</td><td>-0.7332003</td><td>-1.341495</td><td>-1.276935</td><td>-1.483085</td><td>-0.9728767</td><td>⋯</td><td>-0.6522589</td><td>-0.6523856</td><td>-0.6522589</td><td>-0.6522589</td><td>-0.6794980</td><td>-2.912726</td><td> 0.3194016</td><td>-0.6522589</td><td>-0.6717559</td><td>-0.6522589</td></tr>\n",
       "\t<tr><th scope=row>Z.NB.D11</th><td>-1.498254</td><td>-0.7966182</td><td>20.1081908</td><td>-1.091880</td><td>-1.170321</td><td>-0.7378608</td><td>-1.351522</td><td>-1.277042</td><td>-1.478648</td><td>-0.9618899</td><td>⋯</td><td>-0.5501762</td><td>-0.5502356</td><td>-0.5501762</td><td>-0.5501762</td><td>-0.5557107</td><td>-2.771713</td><td>-0.7822445</td><td>-0.5501771</td><td>-0.5541386</td><td>-0.5501762</td></tr>\n",
       "\t<tr><th scope=row>Z.DA.D30</th><td>-1.802715</td><td>-1.0826380</td><td>-1.0918804</td><td>19.587132</td><td>-1.468384</td><td>-1.0058133</td><td>-1.582647</td><td>-1.545911</td><td>-1.745818</td><td>-1.2121724</td><td>⋯</td><td>-0.2696911</td><td>-0.2697473</td><td>-0.2696911</td><td>-0.2696911</td><td>-0.2753757</td><td>-2.742388</td><td>-0.3902735</td><td>-0.2696916</td><td>-0.2737604</td><td>-0.2696911</td></tr>\n",
       "\t<tr><th scope=row>Z.Sert.D30</th><td>-1.879807</td><td>-1.1832630</td><td>-1.1703207</td><td>-1.468384</td><td>19.400541</td><td>-1.0974088</td><td>-1.678531</td><td>-1.606440</td><td>-1.812928</td><td>-1.2908402</td><td>⋯</td><td>-0.1028142</td><td>-0.1028669</td><td>-0.1028142</td><td>-0.1028142</td><td>-0.1084767</td><td>-2.534618</td><td>-1.1752118</td><td>-0.1028153</td><td>-0.1068675</td><td>-0.1028142</td></tr>\n",
       "\t<tr><th scope=row>Z.Epen1.D30</th><td>-1.449076</td><td>-0.7332003</td><td>-0.7378608</td><td>-1.005813</td><td>-1.097409</td><td>20.2741518</td><td>-1.242300</td><td>-1.147745</td><td>-1.359041</td><td>-0.9001758</td><td>⋯</td><td>-0.6207113</td><td>-0.6207725</td><td>-0.6207113</td><td>-0.6207113</td><td>-0.6271181</td><td>-2.616282</td><td>-1.2883935</td><td>-0.6207126</td><td>-0.6252982</td><td>-0.6207113</td></tr>\n",
       "</tbody>\n",
       "</table>\n"
      ],
      "text/latex": [
       "A matrix: 6 × 22 of type dbl\n",
       "\\begin{tabular}{r|llllllllllllllllllllll}\n",
       "  & Z.FPP.D11 & Z.P\\_FPP.D11 & Z.NB.D11 & Z.DA.D30 & Z.Sert.D30 & Z.Epen1.D30 & Z.Astro.D30 & Z.DA.D52 & Z.Sert.D52 & Z.Epen1.D52 & Z.Astro.D52 & Z.Adipose\\_Visceral\\_Omentum.tsv & Z.Adrenal\\_Gland.tsv & Z.Artery\\_Coronary.tsv & Z.Brain\\_Frontal\\_Cortex\\_BA9.tsv & Z.Brain\\_Hippocampus.tsv & Z.Brain\\_Spinal\\_cord\\_cervical\\_c-1.tsv & Z.Colon\\_Transverse.tsv & Z.Nerve\\_Tibial.tsv & Z.Prostate.tsv & Z.Spleen.tsv & Z.NA\\\\\n",
       "\\hline\n",
       "\tZ.FPP.D11 & 18.523914 & -1.3548705 & -1.4982544 & -1.802715 & -1.879807 & -1.4490762 & -2.052276 & -1.969809 & -2.190826 & -1.6650824 & -1.933126 &  0.3310510 &  0.3310510 &  0.3310379 &  0.3310510 &  0.3310510 &  0.3372825 & -2.599922 & -1.1182852 &  0.3310499 &  0.3355113 &  0.3310510\\\\\n",
       "\tZ.P\\_FPP.D11 & -1.354871 & 19.9598449 & -0.7966182 & -1.082638 & -1.183263 & -0.7332003 & -1.341495 & -1.276935 & -1.483085 & -0.9728767 & -1.224346 & -0.6522589 & -0.6522589 & -0.6523856 & -0.6522589 & -0.6522589 & -0.6794980 & -2.912726 &  0.3194016 & -0.6522589 & -0.6717559 & -0.6522589\\\\\n",
       "\tZ.NB.D11 & -1.498254 & -0.7966182 & 20.1081908 & -1.091880 & -1.170321 & -0.7378608 & -1.351522 & -1.277042 & -1.478648 & -0.9618899 & -1.229054 & -0.5501762 & -0.5501762 & -0.5502356 & -0.5501762 & -0.5501762 & -0.5557107 & -2.771713 & -0.7822445 & -0.5501771 & -0.5541386 & -0.5501762\\\\\n",
       "\tZ.DA.D30 & -1.802715 & -1.0826380 & -1.0918804 & 19.587132 & -1.468384 & -1.0058133 & -1.582647 & -1.545911 & -1.745818 & -1.2121724 & -1.479461 & -0.2696911 & -0.2696911 & -0.2697473 & -0.2696911 & -0.2696911 & -0.2753757 & -2.742388 & -0.3902735 & -0.2696916 & -0.2737604 & -0.2696911\\\\\n",
       "\tZ.Sert.D30 & -1.879807 & -1.1832630 & -1.1703207 & -1.468384 & 19.400541 & -1.0974088 & -1.678531 & -1.606440 & -1.812928 & -1.2908402 & -1.567690 & -0.1028142 & -0.1028142 & -0.1028669 & -0.1028142 & -0.1028142 & -0.1084767 & -2.534618 & -1.1752118 & -0.1028153 & -0.1068675 & -0.1028142\\\\\n",
       "\tZ.Epen1.D30 & -1.449076 & -0.7332003 & -0.7378608 & -1.005813 & -1.097409 & 20.2741518 & -1.242300 & -1.147745 & -1.359041 & -0.9001758 & -1.099397 & -0.6207113 & -0.6207113 & -0.6207725 & -0.6207113 & -0.6207113 & -0.6271181 & -2.616282 & -1.2883935 & -0.6207126 & -0.6252982 & -0.6207113\\\\\n",
       "\\end{tabular}\n"
      ],
      "text/markdown": [
       "\n",
       "A matrix: 6 × 22 of type dbl\n",
       "\n",
       "| <!--/--> | Z.FPP.D11 | Z.P_FPP.D11 | Z.NB.D11 | Z.DA.D30 | Z.Sert.D30 | Z.Epen1.D30 | Z.Astro.D30 | Z.DA.D52 | Z.Sert.D52 | Z.Epen1.D52 | ⋯ | Z.Adrenal_Gland.tsv | Z.Artery_Coronary.tsv | Z.Brain_Frontal_Cortex_BA9.tsv | Z.Brain_Hippocampus.tsv | Z.Brain_Spinal_cord_cervical_c-1.tsv | Z.Colon_Transverse.tsv | Z.Nerve_Tibial.tsv | Z.Prostate.tsv | Z.Spleen.tsv | Z.NA |\n",
       "|---|---|---|---|---|---|---|---|---|---|---|---|---|---|---|---|---|---|---|---|---|---|\n",
       "| Z.FPP.D11 | 18.523914 | -1.3548705 | -1.4982544 | -1.802715 | -1.879807 | -1.4490762 | -2.052276 | -1.969809 | -2.190826 | -1.6650824 | ⋯ |  0.3310510 |  0.3310379 |  0.3310510 |  0.3310510 |  0.3372825 | -2.599922 | -1.1182852 |  0.3310499 |  0.3355113 |  0.3310510 |\n",
       "| Z.P_FPP.D11 | -1.354871 | 19.9598449 | -0.7966182 | -1.082638 | -1.183263 | -0.7332003 | -1.341495 | -1.276935 | -1.483085 | -0.9728767 | ⋯ | -0.6522589 | -0.6523856 | -0.6522589 | -0.6522589 | -0.6794980 | -2.912726 |  0.3194016 | -0.6522589 | -0.6717559 | -0.6522589 |\n",
       "| Z.NB.D11 | -1.498254 | -0.7966182 | 20.1081908 | -1.091880 | -1.170321 | -0.7378608 | -1.351522 | -1.277042 | -1.478648 | -0.9618899 | ⋯ | -0.5501762 | -0.5502356 | -0.5501762 | -0.5501762 | -0.5557107 | -2.771713 | -0.7822445 | -0.5501771 | -0.5541386 | -0.5501762 |\n",
       "| Z.DA.D30 | -1.802715 | -1.0826380 | -1.0918804 | 19.587132 | -1.468384 | -1.0058133 | -1.582647 | -1.545911 | -1.745818 | -1.2121724 | ⋯ | -0.2696911 | -0.2697473 | -0.2696911 | -0.2696911 | -0.2753757 | -2.742388 | -0.3902735 | -0.2696916 | -0.2737604 | -0.2696911 |\n",
       "| Z.Sert.D30 | -1.879807 | -1.1832630 | -1.1703207 | -1.468384 | 19.400541 | -1.0974088 | -1.678531 | -1.606440 | -1.812928 | -1.2908402 | ⋯ | -0.1028142 | -0.1028669 | -0.1028142 | -0.1028142 | -0.1084767 | -2.534618 | -1.1752118 | -0.1028153 | -0.1068675 | -0.1028142 |\n",
       "| Z.Epen1.D30 | -1.449076 | -0.7332003 | -0.7378608 | -1.005813 | -1.097409 | 20.2741518 | -1.242300 | -1.147745 | -1.359041 | -0.9001758 | ⋯ | -0.6207113 | -0.6207725 | -0.6207113 | -0.6207113 | -0.6271181 | -2.616282 | -1.2883935 | -0.6207126 | -0.6252982 | -0.6207113 |\n",
       "\n"
      ],
      "text/plain": [
       "            Z.FPP.D11 Z.P_FPP.D11 Z.NB.D11   Z.DA.D30  Z.Sert.D30 Z.Epen1.D30\n",
       "Z.FPP.D11   18.523914 -1.3548705  -1.4982544 -1.802715 -1.879807  -1.4490762 \n",
       "Z.P_FPP.D11 -1.354871 19.9598449  -0.7966182 -1.082638 -1.183263  -0.7332003 \n",
       "Z.NB.D11    -1.498254 -0.7966182  20.1081908 -1.091880 -1.170321  -0.7378608 \n",
       "Z.DA.D30    -1.802715 -1.0826380  -1.0918804 19.587132 -1.468384  -1.0058133 \n",
       "Z.Sert.D30  -1.879807 -1.1832630  -1.1703207 -1.468384 19.400541  -1.0974088 \n",
       "Z.Epen1.D30 -1.449076 -0.7332003  -0.7378608 -1.005813 -1.097409  20.2741518 \n",
       "            Z.Astro.D30 Z.DA.D52  Z.Sert.D52 Z.Epen1.D52 ⋯ Z.Adrenal_Gland.tsv\n",
       "Z.FPP.D11   -2.052276   -1.969809 -2.190826  -1.6650824  ⋯  0.3310510         \n",
       "Z.P_FPP.D11 -1.341495   -1.276935 -1.483085  -0.9728767  ⋯ -0.6522589         \n",
       "Z.NB.D11    -1.351522   -1.277042 -1.478648  -0.9618899  ⋯ -0.5501762         \n",
       "Z.DA.D30    -1.582647   -1.545911 -1.745818  -1.2121724  ⋯ -0.2696911         \n",
       "Z.Sert.D30  -1.678531   -1.606440 -1.812928  -1.2908402  ⋯ -0.1028142         \n",
       "Z.Epen1.D30 -1.242300   -1.147745 -1.359041  -0.9001758  ⋯ -0.6207113         \n",
       "            Z.Artery_Coronary.tsv Z.Brain_Frontal_Cortex_BA9.tsv\n",
       "Z.FPP.D11    0.3310379             0.3310510                    \n",
       "Z.P_FPP.D11 -0.6523856            -0.6522589                    \n",
       "Z.NB.D11    -0.5502356            -0.5501762                    \n",
       "Z.DA.D30    -0.2697473            -0.2696911                    \n",
       "Z.Sert.D30  -0.1028669            -0.1028142                    \n",
       "Z.Epen1.D30 -0.6207725            -0.6207113                    \n",
       "            Z.Brain_Hippocampus.tsv Z.Brain_Spinal_cord_cervical_c-1.tsv\n",
       "Z.FPP.D11    0.3310510               0.3372825                          \n",
       "Z.P_FPP.D11 -0.6522589              -0.6794980                          \n",
       "Z.NB.D11    -0.5501762              -0.5557107                          \n",
       "Z.DA.D30    -0.2696911              -0.2753757                          \n",
       "Z.Sert.D30  -0.1028142              -0.1084767                          \n",
       "Z.Epen1.D30 -0.6207113              -0.6271181                          \n",
       "            Z.Colon_Transverse.tsv Z.Nerve_Tibial.tsv Z.Prostate.tsv\n",
       "Z.FPP.D11   -2.599922              -1.1182852          0.3310499    \n",
       "Z.P_FPP.D11 -2.912726               0.3194016         -0.6522589    \n",
       "Z.NB.D11    -2.771713              -0.7822445         -0.5501771    \n",
       "Z.DA.D30    -2.742388              -0.3902735         -0.2696916    \n",
       "Z.Sert.D30  -2.534618              -1.1752118         -0.1028153    \n",
       "Z.Epen1.D30 -2.616282              -1.2883935         -0.6207126    \n",
       "            Z.Spleen.tsv Z.NA      \n",
       "Z.FPP.D11    0.3355113    0.3310510\n",
       "Z.P_FPP.D11 -0.6717559   -0.6522589\n",
       "Z.NB.D11    -0.5541386   -0.5501762\n",
       "Z.DA.D30    -0.2737604   -0.2696911\n",
       "Z.Sert.D30  -0.1068675   -0.1028142\n",
       "Z.Epen1.D30 -0.6252982   -0.6207113"
      ]
     },
     "metadata": {},
     "output_type": "display_data"
    }
   ],
   "source": [
    "matZ = pcs %*% t(pcs)\n",
    "head(matZ)"
   ]
  },
  {
   "cell_type": "code",
   "execution_count": 648,
   "metadata": {},
   "outputs": [
    {
     "data": {
      "text/html": [
       "<table>\n",
       "<caption>A data.frame: 2 × 6</caption>\n",
       "<thead>\n",
       "\t<tr><th scope=col>celltype</th><th scope=col>day</th><th scope=col>PC1</th><th scope=col>PC2</th><th scope=col>PC3</th><th scope=col>PC4</th></tr>\n",
       "\t<tr><th scope=col>&lt;chr&gt;</th><th scope=col>&lt;chr&gt;</th><th scope=col>&lt;dbl&gt;</th><th scope=col>&lt;dbl&gt;</th><th scope=col>&lt;dbl&gt;</th><th scope=col>&lt;dbl&gt;</th></tr>\n",
       "</thead>\n",
       "<tbody>\n",
       "\t<tr><td>FPP  </td><td>D11</td><td>-2.079688</td><td>-0.05696723</td><td>-1.818838</td><td>0.1921838</td></tr>\n",
       "\t<tr><td>P_FPP</td><td>D11</td><td>-2.184035</td><td>-0.07927458</td><td>-1.997689</td><td>0.3655024</td></tr>\n",
       "</tbody>\n",
       "</table>\n"
      ],
      "text/latex": [
       "A data.frame: 2 × 6\n",
       "\\begin{tabular}{r|llllll}\n",
       " celltype & day & PC1 & PC2 & PC3 & PC4\\\\\n",
       " <chr> & <chr> & <dbl> & <dbl> & <dbl> & <dbl>\\\\\n",
       "\\hline\n",
       "\t FPP   & D11 & -2.079688 & -0.05696723 & -1.818838 & 0.1921838\\\\\n",
       "\t P\\_FPP & D11 & -2.184035 & -0.07927458 & -1.997689 & 0.3655024\\\\\n",
       "\\end{tabular}\n"
      ],
      "text/markdown": [
       "\n",
       "A data.frame: 2 × 6\n",
       "\n",
       "| celltype &lt;chr&gt; | day &lt;chr&gt; | PC1 &lt;dbl&gt; | PC2 &lt;dbl&gt; | PC3 &lt;dbl&gt; | PC4 &lt;dbl&gt; |\n",
       "|---|---|---|---|---|---|\n",
       "| FPP   | D11 | -2.079688 | -0.05696723 | -1.818838 | 0.1921838 |\n",
       "| P_FPP | D11 | -2.184035 | -0.07927458 | -1.997689 | 0.3655024 |\n",
       "\n"
      ],
      "text/plain": [
       "  celltype day PC1       PC2         PC3       PC4      \n",
       "1 FPP      D11 -2.079688 -0.05696723 -1.818838 0.1921838\n",
       "2 P_FPP    D11 -2.184035 -0.07927458 -1.997689 0.3655024"
      ]
     },
     "metadata": {},
     "output_type": "display_data"
    },
    {
     "data": {
      "image/png": "[encoded data removed]",
      "text/plain": [
       "plot without title"
      ]
     },
     "metadata": {},
     "output_type": "display_data"
    }
   ],
   "source": [
    "pcs_df = as.data.frame(pcs)\n",
    "df0 = data.frame(celltype = gsub(\"-.*\",\"\",gsub(\"Z-\",\"\",gsub(\"\\\\.\",\"-\",rownames(pcs_df)))), \n",
    "                                day = gsub(\".*.D\",\"D\",rownames(pcs_df)),\n",
    "                                PC1 = pcs_df$PC1, PC2 = pcs_df$PC2, PC3 = pcs_df$PC3, PC4 = pcs_df$PC4)\n",
    "head(df0,2)\n",
    "# head(pcs_df,20)\n",
    "df0$day[!(df0$day %in% c(\"D11\",\"D30\",\"D52\",\"Brain\",\"Cell lines\"))] <- \"GTEx\"\n",
    "ggplot(df0, aes(x = PC1, y = PC2, colour = day)) + \n",
    "    geom_point(size = 2) #+  scale_color_manual(values=c(col_Astro, \"cornflowerblue\",\n",
    "#                                                         \"darkblue\",\"darkblue\",\"cornflowerblue\",\n",
    "#                                                         col_DA, col_Epen1, col_FPP, col_NB, \n",
    "#                                                         col_P_FPP, col_Sert)) + theme_minimal()"
   ]
  },
  {
   "cell_type": "code",
   "execution_count": 650,
   "metadata": {},
   "outputs": [
    {
     "data": {
      "image/png": "[encoded data removed]",
      "text/plain": [
       "plot without title"
      ]
     },
     "metadata": {},
     "output_type": "display_data"
    }
   ],
   "source": [
    "rownames(matZ) <- gsub(\"Z.\",\"\",rownames(matZ))\n",
    "colnames(matZ) <- gsub(\"Z.\",\"\",colnames(matZ))\n",
    "\n",
    "# matZ = scale(t(scale(matZ)))\n",
    "m = min(matZ)\n",
    "M = max(matZ)\n",
    "options(repr.plot.width = 12, repr.plot.height = 10)\n",
    "Heatmap(matZ, cluster_rows = T, cluster_columns = T, col = colorRamp2(c(m, M), c(\"white\", \"firebrick\")), \n",
    "       name = \"Z score \\ncorrelations\")"
   ]
  },
  {
   "cell_type": "code",
   "execution_count": null,
   "metadata": {},
   "outputs": [],
   "source": []
  },
  {
   "cell_type": "code",
   "execution_count": 45,
   "metadata": {},
   "outputs": [],
   "source": [
    "library(ggplot2)"
   ]
  },
  {
   "cell_type": "code",
   "execution_count": 42,
   "metadata": {},
   "outputs": [],
   "source": [
    "pcs = as.data.frame(pcs)"
   ]
  },
  {
   "cell_type": "code",
   "execution_count": 95,
   "metadata": {},
   "outputs": [],
   "source": [
    "col_FPP = \"#aec7e8\"\n",
    "col_P_FPP = \"#1f77b4\"\n",
    "col_NB = \"#ff7f0e\"\n",
    "\n",
    "col_DA = \"#2ca02c\"\n",
    "col_Sert = \"#98df8a\"\n",
    "col_Epen1 = \"#ff9896\"\n",
    "col_Astro = \"#d62728\""
   ]
  },
  {
   "cell_type": "code",
   "execution_count": 123,
   "metadata": {},
   "outputs": [
    {
     "data": {
      "text/html": [
       "<table>\n",
       "<caption>A data.frame: 2 × 4</caption>\n",
       "<thead>\n",
       "\t<tr><th scope=col>celltype</th><th scope=col>day</th><th scope=col>PC1</th><th scope=col>PC2</th></tr>\n",
       "\t<tr><th scope=col>&lt;chr&gt;</th><th scope=col>&lt;chr&gt;</th><th scope=col>&lt;dbl&gt;</th><th scope=col>&lt;dbl&gt;</th></tr>\n",
       "</thead>\n",
       "<tbody>\n",
       "\t<tr><td>FPP  </td><td>D11</td><td>-146.5012</td><td>5.28180</td></tr>\n",
       "\t<tr><td>P_FPP</td><td>D11</td><td>-156.9098</td><td>8.27864</td></tr>\n",
       "</tbody>\n",
       "</table>\n"
      ],
      "text/latex": [
       "A data.frame: 2 × 4\n",
       "\\begin{tabular}{r|llll}\n",
       " celltype & day & PC1 & PC2\\\\\n",
       " <chr> & <chr> & <dbl> & <dbl>\\\\\n",
       "\\hline\n",
       "\t FPP   & D11 & -146.5012 & 5.28180\\\\\n",
       "\t P\\_FPP & D11 & -156.9098 & 8.27864\\\\\n",
       "\\end{tabular}\n"
      ],
      "text/markdown": [
       "\n",
       "A data.frame: 2 × 4\n",
       "\n",
       "| celltype &lt;chr&gt; | day &lt;chr&gt; | PC1 &lt;dbl&gt; | PC2 &lt;dbl&gt; |\n",
       "|---|---|---|---|\n",
       "| FPP   | D11 | -146.5012 | 5.28180 |\n",
       "| P_FPP | D11 | -156.9098 | 8.27864 |\n",
       "\n"
      ],
      "text/plain": [
       "  celltype day PC1       PC2    \n",
       "1 FPP      D11 -146.5012 5.28180\n",
       "2 P_FPP    D11 -156.9098 8.27864"
      ]
     },
     "metadata": {},
     "output_type": "display_data"
    },
    {
     "data": {
      "image/png": "[encoded data removed]",
      "text/plain": [
       "plot without title"
      ]
     },
     "metadata": {},
     "output_type": "display_data"
    }
   ],
   "source": [
    "df = data.frame(celltype = gsub(\"-.*\",\"\",gsub(\"Z-\",\"\",gsub(\"\\\\.\",\"-\",rownames(pcs)))), \n",
    "                                day = gsub(\".*.D\",\"D\",rownames(pcs)),\n",
    "                                PC1 = pcs$PC1, PC2 = pcs$PC2)\n",
    "head(df,2)\n",
    "ggplot(df, aes(x = PC1, y = PC2, shape = day, colour = celltype)) + \n",
    "    geom_point(size = 3) +  scale_color_manual(values=c(col_Astro, col_DA, col_Epen1,\n",
    "                                                col_FPP, col_NB, col_P_FPP, col_Sert)) + theme_minimal()\n"
   ]
  },
  {
   "cell_type": "code",
   "execution_count": 146,
   "metadata": {},
   "outputs": [
    {
     "data": {
      "text/html": [
       "<table>\n",
       "<caption>A matrix: 6 × 11 of type dbl</caption>\n",
       "<thead>\n",
       "\t<tr><th></th><th scope=col>Z.FPP.D11</th><th scope=col>Z.P_FPP.D11</th><th scope=col>Z.NB.D11</th><th scope=col>Z.DA.D30</th><th scope=col>Z.Sert.D30</th><th scope=col>Z.Epen1.D30</th><th scope=col>Z.Astro.D30</th><th scope=col>Z.DA.D52</th><th scope=col>Z.Sert.D52</th><th scope=col>Z.Epen1.D52</th><th scope=col>Z.Astro.D52</th></tr>\n",
       "</thead>\n",
       "<tbody>\n",
       "\t<tr><th scope=row>Z.FPP.D11</th><td>26742.4995</td><td>19022.9266</td><td> -996.5606</td><td>-6278.863</td><td>-5969.898</td><td>-7748.691</td><td>-5123.785039</td><td>-4862.4470</td><td>-3711.570</td><td>-5167.063</td><td>-5906.5481</td></tr>\n",
       "\t<tr><th scope=row>Z.P_FPP.D11</th><td>19022.9266</td><td>29553.5671</td><td> -979.8872</td><td>-6307.252</td><td>-6376.766</td><td>-7573.049</td><td>-4921.063420</td><td>-5601.2334</td><td>-4471.350</td><td>-6047.064</td><td>-6298.8289</td></tr>\n",
       "\t<tr><th scope=row>Z.NB.D11</th><td> -996.5606</td><td> -979.8872</td><td>24327.8502</td><td>-1523.805</td><td>-1232.848</td><td>-1749.918</td><td>-2352.218050</td><td>-3478.0868</td><td>-6204.673</td><td>-6483.147</td><td>  673.2936</td></tr>\n",
       "\t<tr><th scope=row>Z.DA.D30</th><td>-6278.8630</td><td>-6307.2520</td><td>-1523.8053</td><td>18245.239</td><td> 2259.010</td><td>-1821.504</td><td>   -2.474506</td><td> 5098.5701</td><td>-2137.772</td><td>-4921.355</td><td>-2609.7932</td></tr>\n",
       "\t<tr><th scope=row>Z.Sert.D30</th><td>-5969.8981</td><td>-6376.7655</td><td>-1232.8484</td><td> 2259.010</td><td>16260.980</td><td>-1145.279</td><td>   94.043724</td><td> -719.3998</td><td> 2488.711</td><td>-3542.962</td><td>-2115.5910</td></tr>\n",
       "\t<tr><th scope=row>Z.Epen1.D30</th><td>-7748.6913</td><td>-7573.0489</td><td>-1749.9176</td><td>-1821.504</td><td>-1145.279</td><td>19334.155</td><td> 3179.503722</td><td>-3755.6000</td><td>-3892.296</td><td> 4544.018</td><td>  628.6605</td></tr>\n",
       "</tbody>\n",
       "</table>\n"
      ],
      "text/latex": [
       "A matrix: 6 × 11 of type dbl\n",
       "\\begin{tabular}{r|lllllllllll}\n",
       "  & Z.FPP.D11 & Z.P\\_FPP.D11 & Z.NB.D11 & Z.DA.D30 & Z.Sert.D30 & Z.Epen1.D30 & Z.Astro.D30 & Z.DA.D52 & Z.Sert.D52 & Z.Epen1.D52 & Z.Astro.D52\\\\\n",
       "\\hline\n",
       "\tZ.FPP.D11 & 26742.4995 & 19022.9266 &  -996.5606 & -6278.863 & -5969.898 & -7748.691 & -5123.785039 & -4862.4470 & -3711.570 & -5167.063 & -5906.5481\\\\\n",
       "\tZ.P\\_FPP.D11 & 19022.9266 & 29553.5671 &  -979.8872 & -6307.252 & -6376.766 & -7573.049 & -4921.063420 & -5601.2334 & -4471.350 & -6047.064 & -6298.8289\\\\\n",
       "\tZ.NB.D11 &  -996.5606 &  -979.8872 & 24327.8502 & -1523.805 & -1232.848 & -1749.918 & -2352.218050 & -3478.0868 & -6204.673 & -6483.147 &   673.2936\\\\\n",
       "\tZ.DA.D30 & -6278.8630 & -6307.2520 & -1523.8053 & 18245.239 &  2259.010 & -1821.504 &    -2.474506 &  5098.5701 & -2137.772 & -4921.355 & -2609.7932\\\\\n",
       "\tZ.Sert.D30 & -5969.8981 & -6376.7655 & -1232.8484 &  2259.010 & 16260.980 & -1145.279 &    94.043724 &  -719.3998 &  2488.711 & -3542.962 & -2115.5910\\\\\n",
       "\tZ.Epen1.D30 & -7748.6913 & -7573.0489 & -1749.9176 & -1821.504 & -1145.279 & 19334.155 &  3179.503722 & -3755.6000 & -3892.296 &  4544.018 &   628.6605\\\\\n",
       "\\end{tabular}\n"
      ],
      "text/markdown": [
       "\n",
       "A matrix: 6 × 11 of type dbl\n",
       "\n",
       "| <!--/--> | Z.FPP.D11 | Z.P_FPP.D11 | Z.NB.D11 | Z.DA.D30 | Z.Sert.D30 | Z.Epen1.D30 | Z.Astro.D30 | Z.DA.D52 | Z.Sert.D52 | Z.Epen1.D52 | Z.Astro.D52 |\n",
       "|---|---|---|---|---|---|---|---|---|---|---|---|\n",
       "| Z.FPP.D11 | 26742.4995 | 19022.9266 |  -996.5606 | -6278.863 | -5969.898 | -7748.691 | -5123.785039 | -4862.4470 | -3711.570 | -5167.063 | -5906.5481 |\n",
       "| Z.P_FPP.D11 | 19022.9266 | 29553.5671 |  -979.8872 | -6307.252 | -6376.766 | -7573.049 | -4921.063420 | -5601.2334 | -4471.350 | -6047.064 | -6298.8289 |\n",
       "| Z.NB.D11 |  -996.5606 |  -979.8872 | 24327.8502 | -1523.805 | -1232.848 | -1749.918 | -2352.218050 | -3478.0868 | -6204.673 | -6483.147 |   673.2936 |\n",
       "| Z.DA.D30 | -6278.8630 | -6307.2520 | -1523.8053 | 18245.239 |  2259.010 | -1821.504 |    -2.474506 |  5098.5701 | -2137.772 | -4921.355 | -2609.7932 |\n",
       "| Z.Sert.D30 | -5969.8981 | -6376.7655 | -1232.8484 |  2259.010 | 16260.980 | -1145.279 |    94.043724 |  -719.3998 |  2488.711 | -3542.962 | -2115.5910 |\n",
       "| Z.Epen1.D30 | -7748.6913 | -7573.0489 | -1749.9176 | -1821.504 | -1145.279 | 19334.155 |  3179.503722 | -3755.6000 | -3892.296 |  4544.018 |   628.6605 |\n",
       "\n"
      ],
      "text/plain": [
       "            Z.FPP.D11  Z.P_FPP.D11 Z.NB.D11   Z.DA.D30  Z.Sert.D30 Z.Epen1.D30\n",
       "Z.FPP.D11   26742.4995 19022.9266   -996.5606 -6278.863 -5969.898  -7748.691  \n",
       "Z.P_FPP.D11 19022.9266 29553.5671   -979.8872 -6307.252 -6376.766  -7573.049  \n",
       "Z.NB.D11     -996.5606  -979.8872  24327.8502 -1523.805 -1232.848  -1749.918  \n",
       "Z.DA.D30    -6278.8630 -6307.2520  -1523.8053 18245.239  2259.010  -1821.504  \n",
       "Z.Sert.D30  -5969.8981 -6376.7655  -1232.8484  2259.010 16260.980  -1145.279  \n",
       "Z.Epen1.D30 -7748.6913 -7573.0489  -1749.9176 -1821.504 -1145.279  19334.155  \n",
       "            Z.Astro.D30  Z.DA.D52   Z.Sert.D52 Z.Epen1.D52 Z.Astro.D52\n",
       "Z.FPP.D11   -5123.785039 -4862.4470 -3711.570  -5167.063   -5906.5481 \n",
       "Z.P_FPP.D11 -4921.063420 -5601.2334 -4471.350  -6047.064   -6298.8289 \n",
       "Z.NB.D11    -2352.218050 -3478.0868 -6204.673  -6483.147     673.2936 \n",
       "Z.DA.D30       -2.474506  5098.5701 -2137.772  -4921.355   -2609.7932 \n",
       "Z.Sert.D30     94.043724  -719.3998  2488.711  -3542.962   -2115.5910 \n",
       "Z.Epen1.D30  3179.503722 -3755.6000 -3892.296   4544.018     628.6605 "
      ]
     },
     "metadata": {},
     "output_type": "display_data"
    }
   ],
   "source": [
    "matZ = pcs %*% t(pcs)\n",
    "head(matZ)"
   ]
  },
  {
   "cell_type": "code",
   "execution_count": 147,
   "metadata": {},
   "outputs": [
    {
     "data": {
      "image/png": "[encoded data removed]",
      "text/plain": [
       "plot without title"
      ]
     },
     "metadata": {},
     "output_type": "display_data"
    }
   ],
   "source": [
    "# library(ComplexHeatmap)\n",
    "# library(circlize)\n",
    "\n",
    "m = min(matZ)\n",
    "M = max(matZ)\n",
    "options(repr.plot.width = 5.5, repr.plot.height = 4.5)\n",
    "Heatmap(matZ, cluster_rows = F, cluster_columns = F, col = colorRamp2(c(m, M), c(\"white\", \"firebrick\")), \n",
    "       name = \"Z score \\ncorrelations\")"
   ]
  },
  {
   "cell_type": "code",
   "execution_count": 38,
   "metadata": {},
   "outputs": [],
   "source": [
    "#### should have pearsed gtex tissues results for those snps"
   ]
  },
  {
   "cell_type": "code",
   "execution_count": 597,
   "metadata": {},
   "outputs": [
    {
     "data": {
      "text/html": [
       "<ol class=list-inline>\n",
       "\t<li>'Adipose_Visceral_Omentum.tsv'</li>\n",
       "\t<li>'Adrenal_Gland.tsv'</li>\n",
       "\t<li>'Artery_Coronary.tsv'</li>\n",
       "\t<li>'Brain_Frontal_Cortex_BA9.tsv'</li>\n",
       "\t<li>'Brain_Hippocampus.tsv'</li>\n",
       "\t<li>'Brain_Spinal_cord_cervical_c-1.tsv'</li>\n",
       "\t<li>'Colon_Transverse.tsv'</li>\n",
       "\t<li>'Nerve_Tibial.tsv'</li>\n",
       "\t<li>'Prostate.tsv'</li>\n",
       "\t<li>'Spleen.tsv'</li>\n",
       "</ol>\n"
      ],
      "text/latex": [
       "\\begin{enumerate*}\n",
       "\\item 'Adipose\\_Visceral\\_Omentum.tsv'\n",
       "\\item 'Adrenal\\_Gland.tsv'\n",
       "\\item 'Artery\\_Coronary.tsv'\n",
       "\\item 'Brain\\_Frontal\\_Cortex\\_BA9.tsv'\n",
       "\\item 'Brain\\_Hippocampus.tsv'\n",
       "\\item 'Brain\\_Spinal\\_cord\\_cervical\\_c-1.tsv'\n",
       "\\item 'Colon\\_Transverse.tsv'\n",
       "\\item 'Nerve\\_Tibial.tsv'\n",
       "\\item 'Prostate.tsv'\n",
       "\\item 'Spleen.tsv'\n",
       "\\end{enumerate*}\n"
      ],
      "text/markdown": [
       "1. 'Adipose_Visceral_Omentum.tsv'\n",
       "2. 'Adrenal_Gland.tsv'\n",
       "3. 'Artery_Coronary.tsv'\n",
       "4. 'Brain_Frontal_Cortex_BA9.tsv'\n",
       "5. 'Brain_Hippocampus.tsv'\n",
       "6. 'Brain_Spinal_cord_cervical_c-1.tsv'\n",
       "7. 'Colon_Transverse.tsv'\n",
       "8. 'Nerve_Tibial.tsv'\n",
       "9. 'Prostate.tsv'\n",
       "10. 'Spleen.tsv'\n",
       "\n",
       "\n"
      ],
      "text/plain": [
       " [1] \"Adipose_Visceral_Omentum.tsv\"       \"Adrenal_Gland.tsv\"                 \n",
       " [3] \"Artery_Coronary.tsv\"                \"Brain_Frontal_Cortex_BA9.tsv\"      \n",
       " [5] \"Brain_Hippocampus.tsv\"              \"Brain_Spinal_cord_cervical_c-1.tsv\"\n",
       " [7] \"Colon_Transverse.tsv\"               \"Nerve_Tibial.tsv\"                  \n",
       " [9] \"Prostate.tsv\"                       \"Spleen.tsv\"                        "
      ]
     },
     "metadata": {},
     "output_type": "display_data"
    }
   ],
   "source": [
    "gtex_folder = \"/hps/nobackup/stegle/users/acuomo/all_scripts/sc_neuroseq/mean_eqtl/jan17/\"\n",
    "list.files(gtex_folder)"
   ]
  },
  {
   "cell_type": "code",
   "execution_count": 598,
   "metadata": {},
   "outputs": [],
   "source": [
    "# gtex_folder = \"/hps/nobackup/stegle/users/acuomo/all_scripts/sc_neuroseq/mean_eqtl/\"\n",
    "# list.files(gtex_folder,\"*jan16*\")"
   ]
  },
  {
   "cell_type": "code",
   "execution_count": 663,
   "metadata": {},
   "outputs": [
    {
     "data": {
      "text/html": [
       "48"
      ],
      "text/latex": [
       "48"
      ],
      "text/markdown": [
       "48"
      ],
      "text/plain": [
       "[1] 48"
      ]
     },
     "metadata": {},
     "output_type": "display_data"
    }
   ],
   "source": [
    "myfiles = list.files(gtex_folder)\n",
    "length(myfiles)"
   ]
  },
  {
   "cell_type": "code",
   "execution_count": 600,
   "metadata": {},
   "outputs": [
    {
     "data": {
      "text/html": [
       "<ol class=list-inline>\n",
       "\t<li>'Adipose_Visceral_Omentum.tsv'</li>\n",
       "\t<li>'Adrenal_Gland.tsv'</li>\n",
       "\t<li>'Artery_Coronary.tsv'</li>\n",
       "\t<li>'Brain_Frontal_Cortex_BA9.tsv'</li>\n",
       "\t<li>'Brain_Hippocampus.tsv'</li>\n",
       "\t<li>'Brain_Spinal_cord_cervical_c-1.tsv'</li>\n",
       "</ol>\n"
      ],
      "text/latex": [
       "\\begin{enumerate*}\n",
       "\\item 'Adipose\\_Visceral\\_Omentum.tsv'\n",
       "\\item 'Adrenal\\_Gland.tsv'\n",
       "\\item 'Artery\\_Coronary.tsv'\n",
       "\\item 'Brain\\_Frontal\\_Cortex\\_BA9.tsv'\n",
       "\\item 'Brain\\_Hippocampus.tsv'\n",
       "\\item 'Brain\\_Spinal\\_cord\\_cervical\\_c-1.tsv'\n",
       "\\end{enumerate*}\n"
      ],
      "text/markdown": [
       "1. 'Adipose_Visceral_Omentum.tsv'\n",
       "2. 'Adrenal_Gland.tsv'\n",
       "3. 'Artery_Coronary.tsv'\n",
       "4. 'Brain_Frontal_Cortex_BA9.tsv'\n",
       "5. 'Brain_Hippocampus.tsv'\n",
       "6. 'Brain_Spinal_cord_cervical_c-1.tsv'\n",
       "\n",
       "\n"
      ],
      "text/plain": [
       "[1] \"Adipose_Visceral_Omentum.tsv\"       \"Adrenal_Gland.tsv\"                 \n",
       "[3] \"Artery_Coronary.tsv\"                \"Brain_Frontal_Cortex_BA9.tsv\"      \n",
       "[5] \"Brain_Hippocampus.tsv\"              \"Brain_Spinal_cord_cervical_c-1.tsv\""
      ]
     },
     "metadata": {},
     "output_type": "display_data"
    }
   ],
   "source": [
    "myfilenames = gsub(\"_topsnp_allgenes_jan16.tsv\",\"\",gsub(\"_parsed\",\"\",myfiles))\n",
    "head(myfilenames)"
   ]
  },
  {
   "cell_type": "code",
   "execution_count": 669,
   "metadata": {},
   "outputs": [
    {
     "name": "stdout",
     "output_type": "stream",
     "text": [
      "             gene_id   variant_id pval_nominal       slope  slope_se\n",
      "645  ENSG00000227232 1_856099_T_G     0.940154 -0.00497943 0.0662723\n",
      "709  ENSG00000227232 1_864002_G_C     0.137400 -0.11708400 0.0786169\n",
      "1210 ENSG00000227232 1_961827_G_A     0.274783  0.10343100 0.0945434\n",
      "2138 ENSG00000238009 1_856099_T_G     0.549955 -0.04684650 0.0782776\n",
      "2202 ENSG00000238009 1_864002_G_C     0.646797 -0.04274760 0.0932026\n",
      "2703 ENSG00000238009 1_961827_G_A     0.888763  0.01566940 0.1119390\n",
      "             gene_id   variant_id pval_nominal      slope  slope_se\n",
      "645  ENSG00000227232 1_856099_T_G    0.0406648 -0.1036580 0.0503892\n",
      "709  ENSG00000227232 1_864002_G_C    0.1201570 -0.0998813 0.0640586\n",
      "1210 ENSG00000227232 1_961827_G_A    0.7321920 -0.0249291 0.0727693\n",
      "2138 ENSG00000238009 1_856099_T_G    0.1125130  0.1324490 0.0831778\n",
      "2202 ENSG00000238009 1_864002_G_C    0.6755540  0.0443552 0.1058570\n",
      "2703 ENSG00000238009 1_961827_G_A    0.6591160 -0.0528721 0.1197180\n",
      "             gene_id   variant_id pval_nominal      slope  slope_se\n",
      "645  ENSG00000223972 1_856099_T_G    0.3322830  0.1033960 0.1062710\n",
      "709  ENSG00000223972 1_864002_G_C    0.8234520  0.0284807 0.1274120\n",
      "1210 ENSG00000223972 1_961827_G_A    0.3005220 -0.1668970 0.1606000\n",
      "2066 ENSG00000227232 1_856099_T_G    0.7811850 -0.0183225 0.0658331\n",
      "2130 ENSG00000227232 1_864002_G_C    0.6998920  0.0303817 0.0786539\n",
      "2631 ENSG00000227232 1_961827_G_A    0.0433585  0.2000210 0.0980974\n",
      "             gene_id   variant_id pval_nominal      slope  slope_se\n",
      "645  ENSG00000227232 1_856099_T_G    0.2162050 -0.0955771 0.0770578\n",
      "709  ENSG00000227232 1_864002_G_C    0.1614890 -0.1306000 0.0929590\n",
      "1210 ENSG00000227232 1_961827_G_A    0.1897260  0.1336680 0.1016060\n",
      "2138 ENSG00000238009 1_856099_T_G    0.2257960 -0.1248510 0.1027800\n",
      "2202 ENSG00000238009 1_864002_G_C    0.7762260 -0.0354367 0.1245150\n",
      "2703 ENSG00000238009 1_961827_G_A    0.0574041  0.2577350 0.1349070\n",
      "             gene_id   variant_id pval_nominal      slope  slope_se\n",
      "645  ENSG00000227232 1_856099_T_G    0.2154520  0.0999851 0.0802722\n",
      "709  ENSG00000227232 1_864002_G_C    0.8186790  0.0226387 0.0985281\n",
      "1210 ENSG00000227232 1_961827_G_A    0.1287710  0.1746230 0.1141350\n",
      "2138 ENSG00000238009 1_856099_T_G    0.0991765 -0.2222380 0.1336940\n",
      "2202 ENSG00000238009 1_864002_G_C    0.1369110 -0.2447510 0.1634010\n",
      "2703 ENSG00000238009 1_961827_G_A    0.7118710 -0.0714221 0.1928980\n",
      "             gene_id   variant_id pval_nominal      slope  slope_se\n",
      "645  ENSG00000227232 1_856099_T_G     0.366784 -0.0543279 0.0601111\n",
      "709  ENSG00000227232 1_864002_G_C     0.221231 -0.0872238 0.0711657\n",
      "1210 ENSG00000227232 1_961827_G_A     0.411649  0.0708572 0.0861941\n",
      "2138 ENSG00000238009 1_856099_T_G     0.738534  0.0259691 0.0777322\n",
      "2202 ENSG00000238009 1_864002_G_C     0.527182  0.0582895 0.0920839\n",
      "2703 ENSG00000238009 1_961827_G_A     0.277911  0.1209160 0.1112520\n",
      "             gene_id   variant_id pval_nominal       slope slope_se\n",
      "645  ENSG00000223972 1_856099_T_G     0.817726 -0.03014960 0.130296\n",
      "709  ENSG00000223972 1_864002_G_C     0.818053  0.03855070 0.166908\n",
      "1210 ENSG00000223972 1_961827_G_A     0.209989 -0.27053600 0.213706\n",
      "2066 ENSG00000227232 1_856099_T_G     0.948476  0.00715799 0.110350\n",
      "2130 ENSG00000227232 1_864002_G_C     0.682462 -0.05801410 0.141181\n",
      "2631 ENSG00000227232 1_961827_G_A     0.289042 -0.19403700 0.181542\n",
      "             gene_id   variant_id pval_nominal      slope slope_se\n",
      "645  ENSG00000223972 1_856099_T_G    0.4731500 -0.0903446 0.125392\n",
      "709  ENSG00000223972 1_864002_G_C    0.2779840 -0.1717800 0.157352\n",
      "1210 ENSG00000223972 1_961827_G_A    0.4600060 -0.1297020 0.174769\n",
      "2066 ENSG00000227232 1_856099_T_G    0.0749118 -0.1954490 0.108425\n",
      "2130 ENSG00000227232 1_864002_G_C    0.6365880 -0.0658726 0.138931\n",
      "2631 ENSG00000227232 1_961827_G_A    0.5339180 -0.0959278 0.153602\n",
      "             gene_id   variant_id pval_nominal      slope  slope_se\n",
      "645  ENSG00000223972 1_856099_T_G     0.496072  0.0644195 0.0943558\n",
      "709  ENSG00000223972 1_864002_G_C     0.793838 -0.0318465 0.1215960\n",
      "1210 ENSG00000223972 1_961827_G_A     0.764186 -0.0444493 0.1478390\n",
      "2066 ENSG00000227232 1_856099_T_G     0.689047 -0.0295731 0.0737299\n",
      "2130 ENSG00000227232 1_864002_G_C     0.238532 -0.1117930 0.0943828\n",
      "2631 ENSG00000227232 1_961827_G_A     0.674047 -0.0486279 0.1153370\n",
      "             gene_id   variant_id pval_nominal       slope slope_se\n",
      "645  ENSG00000223972 1_856099_T_G     0.968140 -0.00471355 0.117726\n",
      "709  ENSG00000223972 1_864002_G_C     0.357511 -0.12528800 0.135555\n",
      "1210 ENSG00000223972 1_961827_G_A     0.257072 -0.20102300 0.176389\n",
      "2066 ENSG00000227232 1_856099_T_G     0.455028 -0.08268980 0.110269\n",
      "2130 ENSG00000227232 1_864002_G_C     0.857208  0.02305640 0.127820\n",
      "2631 ENSG00000227232 1_961827_G_A     0.368691  0.14992500 0.166050\n",
      "             gene_id   variant_id pval_nominal      slope slope_se\n",
      "645  ENSG00000227232 1_856099_T_G     0.370401 -0.0927206 0.103116\n",
      "709  ENSG00000227232 1_864002_G_C     0.738649 -0.0451123 0.134891\n",
      "1210 ENSG00000227232 1_961827_G_A     0.520935 -0.1084920 0.168506\n",
      "2138 ENSG00000238009 1_856099_T_G     0.738419  0.0422467 0.126207\n",
      "2202 ENSG00000238009 1_864002_G_C     0.916099  0.0173862 0.164679\n",
      "2703 ENSG00000238009 1_961827_G_A     0.759560  0.0631678 0.205909\n",
      "             gene_id   variant_id pval_nominal       slope  slope_se\n",
      "645  ENSG00000223972 1_856099_T_G     0.843879  0.02448220 0.1240340\n",
      "709  ENSG00000223972 1_864002_G_C     0.487117  0.11250600 0.1613760\n",
      "1210 ENSG00000223972 1_961827_G_A     0.809460 -0.04491030 0.1858230\n",
      "2066 ENSG00000227232 1_856099_T_G     0.974997 -0.00300111 0.0955441\n",
      "2130 ENSG00000227232 1_864002_G_C     0.630942 -0.05993660 0.1244270\n",
      "2631 ENSG00000227232 1_961827_G_A     0.300636  0.14815000 0.1424800\n",
      "             gene_id   variant_id pval_nominal      slope slope_se\n",
      "645  ENSG00000223972 1_856099_T_G     0.374616  0.1105880 0.123976\n",
      "709  ENSG00000223972 1_864002_G_C     0.892479 -0.0219700 0.162107\n",
      "1210 ENSG00000223972 1_961827_G_A     0.669666 -0.0917920 0.214506\n",
      "2066 ENSG00000227232 1_856099_T_G     0.435763  0.0806649 0.103067\n",
      "2130 ENSG00000227232 1_864002_G_C     0.842782  0.0267734 0.134625\n",
      "2631 ENSG00000227232 1_961827_G_A     0.829522 -0.0384927 0.178287\n",
      "             gene_id   variant_id pval_nominal      slope slope_se\n",
      "645  ENSG00000223972 1_856099_T_G     0.914496  0.0135152 0.125519\n",
      "709  ENSG00000223972 1_864002_G_C     0.335157  0.1438400 0.148437\n",
      "1210 ENSG00000223972 1_961827_G_A     0.260564 -0.2300720 0.203197\n",
      "2066 ENSG00000227232 1_856099_T_G     0.920390 -0.0107747 0.107504\n",
      "2130 ENSG00000227232 1_864002_G_C     0.399291  0.1078080 0.127288\n",
      "2631 ENSG00000227232 1_961827_G_A     0.806362 -0.0430786 0.175221\n",
      "             gene_id   variant_id pval_nominal       slope  slope_se\n",
      "645  ENSG00000223972 1_856099_T_G     0.831660 -0.02624480 0.1230880\n",
      "709  ENSG00000223972 1_864002_G_C     0.279133 -0.16613000 0.1525320\n",
      "1210 ENSG00000223972 1_961827_G_A     0.538552 -0.13748200 0.2226520\n",
      "2066 ENSG00000227232 1_856099_T_G     0.946496 -0.00640298 0.0951353\n",
      "2130 ENSG00000227232 1_864002_G_C     0.781921 -0.03293950 0.1186220\n",
      "2631 ENSG00000227232 1_961827_G_A     0.547280 -0.10396700 0.1720640\n",
      "             gene_id   variant_id pval_nominal      slope  slope_se\n",
      "645  ENSG00000223972 1_856099_T_G     0.184826  0.1420910 0.1064700\n",
      "709  ENSG00000223972 1_864002_G_C     0.907356 -0.0157057 0.1346420\n",
      "1210 ENSG00000223972 1_961827_G_A     0.192525 -0.2125060 0.1620530\n",
      "2066 ENSG00000227232 1_856099_T_G     0.730296 -0.0285437 0.0825854\n",
      "2130 ENSG00000227232 1_864002_G_C     0.784986 -0.0283394 0.1036150\n",
      "2631 ENSG00000227232 1_961827_G_A     0.644534 -0.0581154 0.1256100\n",
      "             gene_id   variant_id pval_nominal      slope  slope_se\n",
      "645  ENSG00000223972 1_856099_T_G     0.413198 -0.0802918 0.0976626\n",
      "709  ENSG00000223972 1_864002_G_C     0.369729 -0.1118400 0.1240530\n",
      "1210 ENSG00000223972 1_961827_G_A     0.746738 -0.0463354 0.1430340\n",
      "2066 ENSG00000227232 1_856099_T_G     0.513934  0.0709991 0.1083380\n",
      "2130 ENSG00000227232 1_864002_G_C     0.808753 -0.0335014 0.1380040\n",
      "2631 ENSG00000227232 1_961827_G_A     0.483058  0.1113590 0.1581040\n",
      "             gene_id   variant_id pval_nominal      slope slope_se\n",
      "645  ENSG00000223972 1_856099_T_G     0.628481 -0.0783667 0.161141\n",
      "709  ENSG00000223972 1_864002_G_C     0.633378 -0.0870576 0.181602\n",
      "1210 ENSG00000223972 1_961827_G_A     0.420084 -0.1830720 0.225524\n",
      "2066 ENSG00000227232 1_856099_T_G     0.331671  0.1523400 0.155681\n",
      "2130 ENSG00000227232 1_864002_G_C     0.806793 -0.0434085 0.176723\n",
      "2631 ENSG00000227232 1_961827_G_A     0.672781  0.0933707 0.220016\n",
      "             gene_id   variant_id pval_nominal       slope slope_se\n",
      "645  ENSG00000223972 1_856099_T_G     0.988696  0.00232684 0.163520\n",
      "709  ENSG00000223972 1_864002_G_C     0.684648 -0.07552200 0.185023\n",
      "1210 ENSG00000223972 1_961827_G_A     0.221239  0.28198800 0.228045\n",
      "2066 ENSG00000227232 1_856099_T_G     0.343747 -0.14790900 0.154945\n",
      "2130 ENSG00000227232 1_864002_G_C     0.594082  0.09459000 0.176509\n",
      "2631 ENSG00000227232 1_961827_G_A     0.673425  0.09331380 0.220288\n",
      "             gene_id   variant_id pval_nominal      slope  slope_se\n",
      "645  ENSG00000227232 1_856099_T_G    0.1752680 -0.1139530 0.0837696\n",
      "709  ENSG00000227232 1_864002_G_C    0.0944974 -0.1818740 0.1082490\n",
      "1210 ENSG00000227232 1_961827_G_A    0.0722684  0.1955110 0.1081950\n",
      "2138 ENSG00000238009 1_856099_T_G    0.7268390 -0.0355608 0.1016530\n",
      "2202 ENSG00000238009 1_864002_G_C    0.5971490 -0.0696753 0.1316230\n",
      "2703 ENSG00000238009 1_961827_G_A    0.2779690  0.1429510 0.1314040\n",
      "             gene_id   variant_id pval_nominal      slope slope_se\n",
      "645  ENSG00000227232 1_856099_T_G    0.0307853 -0.2439150 0.111249\n",
      "709  ENSG00000227232 1_864002_G_C    0.4067770 -0.1225810 0.147107\n",
      "1210 ENSG00000227232 1_961827_G_A    0.8829640  0.0236843 0.160453\n",
      "2138 ENSG00000238009 1_856099_T_G    0.2373930  0.1691340 0.142246\n",
      "2202 ENSG00000238009 1_864002_G_C    0.1138100  0.2922360 0.183105\n",
      "2703 ENSG00000238009 1_961827_G_A    0.3221240  0.1996760 0.200621\n",
      "             gene_id   variant_id pval_nominal      slope  slope_se\n",
      "645  ENSG00000227232 1_856099_T_G  8.73366e-01  0.0118182 0.0740726\n",
      "709  ENSG00000227232 1_864002_G_C  1.79013e-01 -0.1223450 0.0907868\n",
      "1210 ENSG00000227232 1_961827_G_A  6.42504e-02  0.1946920 0.1047450\n",
      "2138 ENSG00000238009 1_856099_T_G  4.28206e-01 -0.0655388 0.0825876\n",
      "2202 ENSG00000238009 1_864002_G_C  3.58189e-01 -0.0934741 0.1015430\n",
      "2703 ENSG00000238009 1_961827_G_A  1.56707e-05 -0.4995890 0.1133850\n",
      "             gene_id   variant_id pval_nominal       slope  slope_se\n",
      "645  ENSG00000227232 1_856099_T_G     0.240361 -0.08041640 0.0682475\n",
      "709  ENSG00000227232 1_864002_G_C     0.304158 -0.08619420 0.0836229\n",
      "1210 ENSG00000227232 1_961827_G_A     0.482427  0.06992350 0.0993249\n",
      "2138 ENSG00000238009 1_856099_T_G     0.201171 -0.13656000 0.1064120\n",
      "2202 ENSG00000238009 1_864002_G_C     0.955045  0.00739038 0.1309020\n",
      "2703 ENSG00000238009 1_961827_G_A     0.814636 -0.03644280 0.1551930\n",
      "             gene_id   variant_id pval_nominal        slope  slope_se\n",
      "645  ENSG00000227232 1_856099_T_G    0.1137800 -0.117716000 0.0741247\n",
      "709  ENSG00000227232 1_864002_G_C    0.0645622 -0.162246000 0.0873184\n",
      "1210 ENSG00000227232 1_961827_G_A    0.0323413  0.225345000 0.1045910\n",
      "2138 ENSG00000238009 1_856099_T_G    0.1534110 -0.128993000 0.0900292\n",
      "2202 ENSG00000238009 1_864002_G_C    0.9810670 -0.002537640 0.1068070\n",
      "2703 ENSG00000238009 1_961827_G_A    0.9953030  0.000756101 0.1282920\n",
      "             gene_id   variant_id pval_nominal      slope  slope_se\n",
      "645  ENSG00000227232 1_856099_T_G    0.0532872 -0.1455710 0.0748180\n",
      "709  ENSG00000227232 1_864002_G_C    0.3857190 -0.0770364 0.0885912\n",
      "1210 ENSG00000227232 1_961827_G_A    0.8920660 -0.0140852 0.1036550\n",
      "2138 ENSG00000238009 1_856099_T_G    0.7482260  0.0331705 0.1031800\n",
      "2202 ENSG00000238009 1_864002_G_C    0.7147180  0.0443475 0.1211300\n",
      "2703 ENSG00000238009 1_961827_G_A    0.1397610 -0.2085750 0.1406070\n",
      "             gene_id   variant_id pval_nominal      slope  slope_se\n",
      "645  ENSG00000227232 1_856099_T_G  0.000224555 -0.1893360 0.0506719\n",
      "709  ENSG00000227232 1_864002_G_C  0.001189150 -0.2059580 0.0629110\n",
      "1210 ENSG00000227232 1_961827_G_A  0.110767000  0.1214150 0.0759021\n",
      "2138 ENSG00000238009 1_856099_T_G  0.190018000 -0.1064350 0.0810261\n",
      "2202 ENSG00000238009 1_864002_G_C  0.063458000 -0.1858680 0.0997635\n",
      "2703 ENSG00000238009 1_961827_G_A  0.842289000  0.0237826 0.1194240\n",
      "             gene_id   variant_id pval_nominal        slope  slope_se\n",
      "645  ENSG00000227232 1_856099_T_G    0.0889459 -0.092847600 0.0543969\n",
      "709  ENSG00000227232 1_864002_G_C    0.0292898 -0.146007000 0.0666489\n",
      "1210 ENSG00000227232 1_961827_G_A    0.2789490  0.092724700 0.0854791\n",
      "2138 ENSG00000238009 1_856099_T_G    0.9967880 -0.000329024 0.0816596\n",
      "2202 ENSG00000238009 1_864002_G_C    0.9088290  0.011505300 0.1003790\n",
      "2703 ENSG00000238009 1_961827_G_A    0.9638550  0.005802510 0.1279290\n",
      "             gene_id   variant_id pval_nominal       slope  slope_se\n",
      "645  ENSG00000223972 1_856099_T_G     0.110763  0.12709500 0.0793618\n",
      "709  ENSG00000223972 1_864002_G_C     0.986370 -0.00171977 0.1005470\n",
      "1210 ENSG00000223972 1_961827_G_A     0.747842  0.03506210 0.1089210\n",
      "2066 ENSG00000227232 1_856099_T_G     0.886981  0.00861936 0.0605731\n",
      "2130 ENSG00000227232 1_864002_G_C     0.828339 -0.01656000 0.0762778\n",
      "2631 ENSG00000227232 1_961827_G_A     0.542869  0.05033400 0.0825872\n",
      "             gene_id   variant_id pval_nominal      slope  slope_se\n",
      "645  ENSG00000223972 1_856099_T_G     0.139313 -0.1067460 0.0719443\n",
      "709  ENSG00000223972 1_864002_G_C     0.873808 -0.0136646 0.0859366\n",
      "1210 ENSG00000223972 1_961827_G_A     0.834873  0.0212485 0.1018120\n",
      "2066 ENSG00000227232 1_856099_T_G     0.577963  0.0291387 0.0522958\n",
      "2130 ENSG00000227232 1_864002_G_C     0.768143 -0.0183570 0.0621916\n",
      "2631 ENSG00000227232 1_961827_G_A     0.773814  0.0212022 0.0736843\n",
      "             gene_id   variant_id pval_nominal       slope  slope_se\n",
      "645  ENSG00000223972 1_856099_T_G    0.0665579 -0.18873200 0.1019030\n",
      "709  ENSG00000223972 1_864002_G_C    0.0218080 -0.31431000 0.1351840\n",
      "1210 ENSG00000223972 1_961827_G_A    0.0190924  0.31832400 0.1339200\n",
      "2066 ENSG00000227232 1_856099_T_G    0.9055400  0.00919545 0.0773212\n",
      "2130 ENSG00000227232 1_864002_G_C    0.6617060 -0.04533360 0.1033400\n",
      "2631 ENSG00000227232 1_961827_G_A    0.0764813  0.18084600 0.1011770\n",
      "             gene_id   variant_id pval_nominal      slope  slope_se\n",
      "645  ENSG00000227232 1_856099_T_G    0.0779733 -0.1030840 0.0582948\n",
      "709  ENSG00000227232 1_864002_G_C    0.0910005 -0.1238900 0.0730776\n",
      "1210 ENSG00000227232 1_961827_G_A    0.5611950  0.0496155 0.0852965\n",
      "2138 ENSG00000238009 1_856099_T_G    0.4015430 -0.0641064 0.0763172\n",
      "2202 ENSG00000238009 1_864002_G_C    0.8037900  0.0238036 0.0957295\n",
      "2703 ENSG00000238009 1_961827_G_A    0.1746130  0.1509940 0.1109770\n",
      "             gene_id   variant_id pval_nominal     slope slope_se\n",
      "645  ENSG00000227232 1_856099_T_G    0.3693530 -0.136758 0.151254\n",
      "709  ENSG00000227232 1_864002_G_C    0.0673695 -0.335781 0.180402\n",
      "1210 ENSG00000227232 1_961827_G_A    0.2308950  0.200847 0.166023\n",
      "2138 ENSG00000238009 1_856099_T_G    0.5773440  0.100552 0.179500\n",
      "2202 ENSG00000238009 1_864002_G_C    0.5210120  0.140896 0.218309\n",
      "2703 ENSG00000238009 1_961827_G_A    0.0700466  0.356367 0.193371\n",
      "             gene_id   variant_id pval_nominal        slope  slope_se\n",
      "645  ENSG00000223972 1_856099_T_G     0.794183 -1.60828e-02 0.0616089\n",
      "709  ENSG00000223972 1_864002_G_C     0.999856  1.38697e-05 0.0768383\n",
      "1210 ENSG00000223972 1_961827_G_A     0.252079 -1.00780e-01 0.0878735\n",
      "2066 ENSG00000227232 1_856099_T_G     0.785279  1.12747e-02 0.0413569\n",
      "2130 ENSG00000227232 1_864002_G_C     0.785126  1.40708e-02 0.0515759\n",
      "2631 ENSG00000227232 1_961827_G_A     0.552436 -3.51135e-02 0.0590551\n",
      "             gene_id   variant_id pval_nominal      slope  slope_se\n",
      "645  ENSG00000227232 1_856099_T_G   0.06059410 -0.1241630 0.0659148\n",
      "709  ENSG00000227232 1_864002_G_C   0.00427622 -0.2477680 0.0860469\n",
      "1210 ENSG00000227232 1_961827_G_A   0.79767000  0.0241735 0.0942081\n",
      "2138 ENSG00000238009 1_856099_T_G   0.29230700 -0.0846414 0.0802313\n",
      "2202 ENSG00000238009 1_864002_G_C   0.51284700 -0.0692488 0.1056900\n",
      "2703 ENSG00000238009 1_961827_G_A   0.75809600  0.0352025 0.1141940\n",
      "             gene_id   variant_id pval_nominal      slope slope_se\n",
      "645  ENSG00000227232 1_856099_T_G     0.555653  0.0602351 0.101869\n",
      "709  ENSG00000227232 1_864002_G_C     0.397828  0.1032080 0.121543\n",
      "1210 ENSG00000227232 1_961827_G_A     0.135262  0.1996430 0.132579\n",
      "2138 ENSG00000238009 1_856099_T_G     0.197961  0.1985390 0.153195\n",
      "2202 ENSG00000238009 1_864002_G_C     0.442026  0.1420990 0.184103\n",
      "2703 ENSG00000238009 1_961827_G_A     0.131127 -0.3054150 0.200647\n",
      "             gene_id   variant_id pval_nominal       slope  slope_se\n",
      "645  ENSG00000227232 1_856099_T_G    0.0652017 -0.13825200 0.0745283\n",
      "709  ENSG00000227232 1_864002_G_C    0.2444730 -0.10535900 0.0902329\n",
      "1210 ENSG00000227232 1_961827_G_A    0.8475450 -0.02088470 0.1084780\n",
      "2138 ENSG00000238009 1_856099_T_G    0.9372230 -0.00799613 0.1013850\n",
      "2202 ENSG00000238009 1_864002_G_C    0.2579340  0.13803700 0.1216370\n",
      "2703 ENSG00000238009 1_961827_G_A    0.2252300 -0.17720800 0.1456300\n",
      "             gene_id   variant_id pval_nominal      slope  slope_se\n",
      "645  ENSG00000227232 1_856099_T_G     0.768475  0.0288605 0.0978197\n",
      "709  ENSG00000227232 1_864002_G_C     0.714739  0.0465932 0.1271780\n",
      "1210 ENSG00000227232 1_961827_G_A     0.146102 -0.2267560 0.1550010\n",
      "2138 ENSG00000238009 1_856099_T_G     0.848305  0.0244010 0.1272910\n",
      "2202 ENSG00000238009 1_864002_G_C     0.287468  0.1760460 0.1647700\n",
      "2703 ENSG00000238009 1_961827_G_A     0.711445  0.0753943 0.2033320\n",
      "             gene_id   variant_id pval_nominal      slope  slope_se\n",
      "645  ENSG00000227232 1_856099_T_G    0.0939286 -0.1425480 0.0843655\n",
      "709  ENSG00000227232 1_864002_G_C    0.2758300 -0.1263200 0.1153420\n",
      "1210 ENSG00000227232 1_961827_G_A    0.0336514  0.2970690 0.1380970\n",
      "2138 ENSG00000238009 1_856099_T_G    0.4723780 -0.0909157 0.1260790\n",
      "2202 ENSG00000238009 1_864002_G_C    0.3840610 -0.1493670 0.1709140\n",
      "2703 ENSG00000238009 1_961827_G_A    0.1514770  0.2983110 0.2065340\n",
      "             gene_id   variant_id pval_nominal      slope  slope_se\n",
      "645  ENSG00000227232 1_856099_T_G     0.296729 -0.0614892 0.0588187\n",
      "709  ENSG00000227232 1_864002_G_C     0.150935 -0.1060380 0.0736308\n",
      "1210 ENSG00000227232 1_961827_G_A     0.495996  0.0567283 0.0832179\n",
      "2138 ENSG00000238009 1_856099_T_G     0.283301  0.0855850 0.0796157\n",
      "2202 ENSG00000238009 1_864002_G_C     0.852689  0.0185922 0.1000340\n",
      "2703 ENSG00000238009 1_961827_G_A     0.295026  0.1180540 0.1125280\n",
      "             gene_id   variant_id pval_nominal      slope  slope_se\n",
      "645  ENSG00000227232 1_856099_T_G    0.1653740 -0.0728261 0.0523872\n",
      "709  ENSG00000227232 1_864002_G_C    0.0115162 -0.1684310 0.0663077\n",
      "1210 ENSG00000227232 1_961827_G_A    0.5917730 -0.0412728 0.0768916\n",
      "2138 ENSG00000238009 1_856099_T_G    0.7335170  0.0254908 0.0748137\n",
      "2202 ENSG00000238009 1_864002_G_C    0.5061480  0.0633992 0.0952599\n",
      "2703 ENSG00000238009 1_961827_G_A    0.6583390 -0.0484797 0.1095370\n",
      "             gene_id   variant_id pval_nominal      slope slope_se\n",
      "645  ENSG00000227232 1_856099_T_G     0.167193 -0.1759270 0.126439\n",
      "709  ENSG00000227232 1_864002_G_C     0.113949 -0.2334620 0.146404\n",
      "1210 ENSG00000227232 1_961827_G_A     0.810859 -0.0425053 0.177141\n",
      "2138 ENSG00000238009 1_856099_T_G     0.896201  0.0202491 0.154817\n",
      "2202 ENSG00000238009 1_864002_G_C     0.585533  0.0982268 0.179543\n",
      "2703 ENSG00000238009 1_961827_G_A     0.155604  0.3043930 0.212743\n",
      "             gene_id   variant_id pval_nominal      slope  slope_se\n",
      "645  ENSG00000223972 1_856099_T_G   0.80642400  0.0270920 0.1103250\n",
      "709  ENSG00000223972 1_864002_G_C   0.80213600  0.0332124 0.1322570\n",
      "1210 ENSG00000223972 1_961827_G_A   0.00111486 -0.4367740 0.1308540\n",
      "2066 ENSG00000227232 1_856099_T_G   0.22152800 -0.0987376 0.0803623\n",
      "2130 ENSG00000227232 1_864002_G_C   0.03133190 -0.2071340 0.0951220\n",
      "2631 ENSG00000227232 1_961827_G_A   0.13639200  0.1486960 0.0991908\n",
      "             gene_id   variant_id pval_nominal     slope  slope_se\n",
      "645  ENSG00000227232 1_856099_T_G    0.1245130 -0.125420 0.0813054\n",
      "709  ENSG00000227232 1_864002_G_C    0.0705372 -0.189990 0.1044960\n",
      "1210 ENSG00000227232 1_961827_G_A    0.5847910  0.066388 0.1213040\n",
      "2138 ENSG00000238009 1_856099_T_G    0.1225620 -0.150706 0.0971880\n",
      "2202 ENSG00000238009 1_864002_G_C    0.3677210 -0.113471 0.1256890\n",
      "2703 ENSG00000238009 1_961827_G_A    0.3118080  0.146772 0.1447460\n",
      "             gene_id   variant_id pval_nominal        slope  slope_se\n",
      "645  ENSG00000223972 1_856099_T_G     0.450166  0.071161800 0.0940400\n",
      "709  ENSG00000223972 1_864002_G_C     0.995907  0.000591033 0.1150480\n",
      "1210 ENSG00000223972 1_961827_G_A     0.983271 -0.002907340 0.1384720\n",
      "2066 ENSG00000227232 1_856099_T_G     0.378120 -0.065903800 0.0745979\n",
      "2130 ENSG00000227232 1_864002_G_C     0.288743  0.096855400 0.0910389\n",
      "2631 ENSG00000227232 1_961827_G_A     0.797145  0.028285500 0.1098850\n",
      "             gene_id   variant_id pval_nominal      slope  slope_se\n",
      "645  ENSG00000227232 1_856099_T_G     0.207502 -0.0701895 0.0555769\n",
      "709  ENSG00000227232 1_864002_G_C     0.473165 -0.0484145 0.0674148\n",
      "1210 ENSG00000227232 1_961827_G_A     0.570187 -0.0475967 0.0837467\n",
      "2138 ENSG00000238009 1_856099_T_G     0.808860 -0.0190269 0.0785941\n",
      "2202 ENSG00000238009 1_864002_G_C     0.519093 -0.0613994 0.0951291\n",
      "2703 ENSG00000238009 1_961827_G_A     0.322244  0.1170180 0.1180400\n",
      "             gene_id   variant_id pval_nominal      slope slope_se\n",
      "645  ENSG00000227232 1_856099_T_G     0.274273 -0.1315140 0.119458\n",
      "709  ENSG00000227232 1_864002_G_C     0.238112 -0.1714240 0.144209\n",
      "1210 ENSG00000227232 1_961827_G_A     0.100933  0.2401910 0.144717\n",
      "2138 ENSG00000238009 1_856099_T_G     0.815168 -0.0414309 0.176643\n",
      "2202 ENSG00000238009 1_864002_G_C     0.503212 -0.1432310 0.212975\n",
      "2703 ENSG00000238009 1_961827_G_A     0.852139 -0.0404053 0.216069\n",
      "             gene_id   variant_id pval_nominal      slope slope_se\n",
      "645  ENSG00000227232 1_856099_T_G    0.8587820  0.0225393 0.126290\n",
      "709  ENSG00000227232 1_864002_G_C    0.4447300 -0.1155120 0.150437\n",
      "1210 ENSG00000227232 1_961827_G_A    0.3195160  0.1689980 0.168763\n",
      "2138 ENSG00000238009 1_856099_T_G    0.3202090 -0.1693610 0.169370\n",
      "2202 ENSG00000238009 1_864002_G_C    0.4323600 -0.1600570 0.202873\n",
      "2703 ENSG00000238009 1_961827_G_A    0.0977683  0.3771760 0.225258\n",
      "             gene_id   variant_id pval_nominal       slope  slope_se\n",
      "645  ENSG00000223972 1_856099_T_G    0.9022850  0.00840801 0.0684252\n",
      "709  ENSG00000223972 1_864002_G_C    0.4229200 -0.06497170 0.0809661\n",
      "1210 ENSG00000223972 1_961827_G_A    0.0895309 -0.15655500 0.0919100\n",
      "2066 ENSG00000227232 1_856099_T_G    0.0174973 -0.12347500 0.0516797\n",
      "2130 ENSG00000227232 1_864002_G_C    0.5395880 -0.03792430 0.0617524\n",
      "2631 ENSG00000227232 1_961827_G_A    0.1870360  0.09283400 0.0702011\n"
     ]
    }
   ],
   "source": [
    "gtex_files = list()\n",
    "for (i in 1:length(myfiles)){\n",
    "# for (i in 1){\n",
    "    mysuffix = myfiles[i]\n",
    "    mysuffix\n",
    "    myfilename = paste0(gtex_folder, mysuffix)\n",
    "    myfile = read.table(myfilename, row.names = 1)\n",
    "    print(head(myfile))\n",
    "    colnames(myfile) <- c(\"feature_id\",\"snp_id\",\"p_value\",\"beta\",\"beta_se\")\n",
    "    # myfile$beta_se[myfile$beta_se==0] <- 1e-15\n",
    "    # myfile$Z = myfile$beta/myfile$beta_se\n",
    "    gtex_files[[i]] <- myfile\n",
    "}\n"
   ]
  },
  {
   "cell_type": "code",
   "execution_count": 670,
   "metadata": {},
   "outputs": [
    {
     "data": {
      "text/html": [
       "'Whole_Blood.tsv'"
      ],
      "text/latex": [
       "'Whole\\_Blood.tsv'"
      ],
      "text/markdown": [
       "'Whole_Blood.tsv'"
      ],
      "text/plain": [
       "[1] \"Whole_Blood.tsv\""
      ]
     },
     "metadata": {},
     "output_type": "display_data"
    }
   ],
   "source": [
    "head(myfiles[[i]])"
   ]
  },
  {
   "cell_type": "code",
   "execution_count": 671,
   "metadata": {},
   "outputs": [
    {
     "data": {
      "image/png": "[encoded data removed]",
      "text/plain": [
       "Plot with title “Histogram of gtex_files[[i]]$beta/gtex_files[[i]]$beta_se”"
      ]
     },
     "metadata": {},
     "output_type": "display_data"
    }
   ],
   "source": [
    "# hist(gtex_files[[i]]$beta_se)\n",
    "i = 2\n",
    "hist(gtex_files[[i]]$beta/gtex_files[[i]]$beta_se)"
   ]
  },
  {
   "cell_type": "code",
   "execution_count": null,
   "metadata": {},
   "outputs": [],
   "source": []
  },
  {
   "cell_type": "code",
   "execution_count": 602,
   "metadata": {},
   "outputs": [],
   "source": [
    "gtex_names = myfilenames\n",
    "\n",
    "r_all_gtex = get_Zs_for_the_top_snp_per_gene(r_all, gtex_list, gtex_names)"
   ]
  },
  {
   "cell_type": "code",
   "execution_count": 604,
   "metadata": {},
   "outputs": [
    {
     "data": {
      "text/html": [
       "37512"
      ],
      "text/latex": [
       "37512"
      ],
      "text/markdown": [
       "37512"
      ],
      "text/plain": [
       "[1] 37512"
      ]
     },
     "metadata": {},
     "output_type": "display_data"
    }
   ],
   "source": [
    "nrow(r_all_gtex)"
   ]
  },
  {
   "cell_type": "code",
   "execution_count": 605,
   "metadata": {},
   "outputs": [
    {
     "data": {
      "text/html": [
       "<table>\n",
       "<caption>A data.frame: 2 × 24</caption>\n",
       "<thead>\n",
       "\t<tr><th scope=col>snp_id</th><th scope=col>feature_id</th><th scope=col>Z.FPP.D11</th><th scope=col>Z.P_FPP.D11</th><th scope=col>Z.NB.D11</th><th scope=col>Z.DA.D30</th><th scope=col>Z.Sert.D30</th><th scope=col>Z.Epen1.D30</th><th scope=col>Z.Astro.D30</th><th scope=col>Z.DA.D52</th><th scope=col>⋯</th><th scope=col>Z.Adrenal_Gland.tsv</th><th scope=col>Z.Artery_Coronary.tsv</th><th scope=col>Z.Brain_Frontal_Cortex_BA9.tsv</th><th scope=col>Z.Brain_Hippocampus.tsv</th><th scope=col>Z.Brain_Spinal_cord_cervical_c-1.tsv</th><th scope=col>Z.Colon_Transverse.tsv</th><th scope=col>Z.Nerve_Tibial.tsv</th><th scope=col>Z.Prostate.tsv</th><th scope=col>Z.Spleen.tsv</th><th scope=col>Z.NA</th></tr>\n",
       "\t<tr><th scope=col>&lt;chr&gt;</th><th scope=col>&lt;chr&gt;</th><th scope=col>&lt;dbl&gt;</th><th scope=col>&lt;dbl&gt;</th><th scope=col>&lt;dbl&gt;</th><th scope=col>&lt;dbl&gt;</th><th scope=col>&lt;dbl&gt;</th><th scope=col>&lt;dbl&gt;</th><th scope=col>&lt;dbl&gt;</th><th scope=col>&lt;dbl&gt;</th><th scope=col>⋯</th><th scope=col>&lt;dbl&gt;</th><th scope=col>&lt;dbl&gt;</th><th scope=col>&lt;dbl&gt;</th><th scope=col>&lt;dbl&gt;</th><th scope=col>&lt;dbl&gt;</th><th scope=col>&lt;dbl&gt;</th><th scope=col>&lt;dbl&gt;</th><th scope=col>&lt;dbl&gt;</th><th scope=col>&lt;dbl&gt;</th><th scope=col>&lt;dbl&gt;</th></tr>\n",
       "</thead>\n",
       "<tbody>\n",
       "\t<tr><td>17_7145981_T_C </td><td>ENSG00000170291</td><td>17.60191</td><td>19.06328</td><td>7.378654</td><td> 1.520777</td><td>13.48673</td><td>11.883131</td><td>13.32917</td><td> 3.992745</td><td>⋯</td><td>5.537915e+06</td><td>-4.995868e+04</td><td>1.745715e+18</td><td>6.455203e+02</td><td>2.693161e+16</td><td> 2.563701e+07</td><td>145.34452</td><td>22.44462</td><td>2.244935e+03</td><td>8.128788e+00</td></tr>\n",
       "\t<tr><td>22_17680519_A_C</td><td>ENSG00000093072</td><td>17.21335</td><td>16.47538</td><td>9.035217</td><td>11.335143</td><td>13.02668</td><td> 8.723859</td><td>10.85849</td><td>11.971600</td><td>⋯</td><td>5.372030e+49</td><td> 1.512335e+17</td><td>1.537615e+39</td><td>6.062634e+12</td><td>2.263516e+52</td><td>-3.686502e-01</td><td> 34.78077</td><td>32.21393</td><td>1.412926e+09</td><td>7.801805e+18</td></tr>\n",
       "</tbody>\n",
       "</table>\n"
      ],
      "text/latex": [
       "A data.frame: 2 × 24\n",
       "\\begin{tabular}{r|llllllllllllllllllllllll}\n",
       " snp\\_id & feature\\_id & Z.FPP.D11 & Z.P\\_FPP.D11 & Z.NB.D11 & Z.DA.D30 & Z.Sert.D30 & Z.Epen1.D30 & Z.Astro.D30 & Z.DA.D52 & Z.Sert.D52 & Z.Epen1.D52 & Z.Astro.D52 & Z.Adipose\\_Visceral\\_Omentum.tsv & Z.Adrenal\\_Gland.tsv & Z.Artery\\_Coronary.tsv & Z.Brain\\_Frontal\\_Cortex\\_BA9.tsv & Z.Brain\\_Hippocampus.tsv & Z.Brain\\_Spinal\\_cord\\_cervical\\_c-1.tsv & Z.Colon\\_Transverse.tsv & Z.Nerve\\_Tibial.tsv & Z.Prostate.tsv & Z.Spleen.tsv & Z.NA\\\\\n",
       " <chr> & <chr> & <dbl> & <dbl> & <dbl> & <dbl> & <dbl> & <dbl> & <dbl> & <dbl> & <dbl> & <dbl> & <dbl> & <dbl> & <dbl> & <dbl> & <dbl> & <dbl> & <dbl> & <dbl> & <dbl> & <dbl> & <dbl> & <dbl>\\\\\n",
       "\\hline\n",
       "\t 17\\_7145981\\_T\\_C  & ENSG00000170291 & 17.60191 & 19.06328 & 7.378654 &  1.520777 & 13.48673 & 11.883131 & 13.32917 &  3.992745 & 18.89642 & 15.12826 & 10.205351 & 1.890334e+11 & 5.537915e+06 & -4.995868e+04 & 1.745715e+18 & 6.455203e+02 & 2.693161e+16 &  2.563701e+07 & 145.34452 & 22.44462 & 2.244935e+03 & 8.128788e+00\\\\\n",
       "\t 22\\_17680519\\_A\\_C & ENSG00000093072 & 17.21335 & 16.47538 & 9.035217 & 11.335143 & 13.02668 &  8.723859 & 10.85849 & 11.971600 & 17.40637 & 15.56394 &  9.950645 & 1.603709e+45 & 5.372030e+49 &  1.512335e+17 & 1.537615e+39 & 6.062634e+12 & 2.263516e+52 & -3.686502e-01 &  34.78077 & 32.21393 & 1.412926e+09 & 7.801805e+18\\\\\n",
       "\\end{tabular}\n"
      ],
      "text/markdown": [
       "\n",
       "A data.frame: 2 × 24\n",
       "\n",
       "| snp_id &lt;chr&gt; | feature_id &lt;chr&gt; | Z.FPP.D11 &lt;dbl&gt; | Z.P_FPP.D11 &lt;dbl&gt; | Z.NB.D11 &lt;dbl&gt; | Z.DA.D30 &lt;dbl&gt; | Z.Sert.D30 &lt;dbl&gt; | Z.Epen1.D30 &lt;dbl&gt; | Z.Astro.D30 &lt;dbl&gt; | Z.DA.D52 &lt;dbl&gt; | ⋯ ⋯ | Z.Adrenal_Gland.tsv &lt;dbl&gt; | Z.Artery_Coronary.tsv &lt;dbl&gt; | Z.Brain_Frontal_Cortex_BA9.tsv &lt;dbl&gt; | Z.Brain_Hippocampus.tsv &lt;dbl&gt; | Z.Brain_Spinal_cord_cervical_c-1.tsv &lt;dbl&gt; | Z.Colon_Transverse.tsv &lt;dbl&gt; | Z.Nerve_Tibial.tsv &lt;dbl&gt; | Z.Prostate.tsv &lt;dbl&gt; | Z.Spleen.tsv &lt;dbl&gt; | Z.NA &lt;dbl&gt; |\n",
       "|---|---|---|---|---|---|---|---|---|---|---|---|---|---|---|---|---|---|---|---|---|\n",
       "| 17_7145981_T_C  | ENSG00000170291 | 17.60191 | 19.06328 | 7.378654 |  1.520777 | 13.48673 | 11.883131 | 13.32917 |  3.992745 | ⋯ | 5.537915e+06 | -4.995868e+04 | 1.745715e+18 | 6.455203e+02 | 2.693161e+16 |  2.563701e+07 | 145.34452 | 22.44462 | 2.244935e+03 | 8.128788e+00 |\n",
       "| 22_17680519_A_C | ENSG00000093072 | 17.21335 | 16.47538 | 9.035217 | 11.335143 | 13.02668 |  8.723859 | 10.85849 | 11.971600 | ⋯ | 5.372030e+49 |  1.512335e+17 | 1.537615e+39 | 6.062634e+12 | 2.263516e+52 | -3.686502e-01 |  34.78077 | 32.21393 | 1.412926e+09 | 7.801805e+18 |\n",
       "\n"
      ],
      "text/plain": [
       "  snp_id          feature_id      Z.FPP.D11 Z.P_FPP.D11 Z.NB.D11 Z.DA.D30 \n",
       "1 17_7145981_T_C  ENSG00000170291 17.60191  19.06328    7.378654  1.520777\n",
       "2 22_17680519_A_C ENSG00000093072 17.21335  16.47538    9.035217 11.335143\n",
       "  Z.Sert.D30 Z.Epen1.D30 Z.Astro.D30 Z.DA.D52  ⋯ Z.Adrenal_Gland.tsv\n",
       "1 13.48673   11.883131   13.32917     3.992745 ⋯ 5.537915e+06       \n",
       "2 13.02668    8.723859   10.85849    11.971600 ⋯ 5.372030e+49       \n",
       "  Z.Artery_Coronary.tsv Z.Brain_Frontal_Cortex_BA9.tsv Z.Brain_Hippocampus.tsv\n",
       "1 -4.995868e+04         1.745715e+18                   6.455203e+02           \n",
       "2  1.512335e+17         1.537615e+39                   6.062634e+12           \n",
       "  Z.Brain_Spinal_cord_cervical_c-1.tsv Z.Colon_Transverse.tsv\n",
       "1 2.693161e+16                          2.563701e+07         \n",
       "2 2.263516e+52                         -3.686502e-01         \n",
       "  Z.Nerve_Tibial.tsv Z.Prostate.tsv Z.Spleen.tsv Z.NA        \n",
       "1 145.34452          22.44462       2.244935e+03 8.128788e+00\n",
       "2  34.78077          32.21393       1.412926e+09 7.801805e+18"
      ]
     },
     "metadata": {},
     "output_type": "display_data"
    },
    {
     "data": {
      "text/html": [
       "6807"
      ],
      "text/latex": [
       "6807"
      ],
      "text/markdown": [
       "6807"
      ],
      "text/plain": [
       "[1] 6807"
      ]
     },
     "metadata": {},
     "output_type": "display_data"
    },
    {
     "data": {
      "text/html": [
       "6807"
      ],
      "text/latex": [
       "6807"
      ],
      "text/markdown": [
       "6807"
      ],
      "text/plain": [
       "[1] 6807"
      ]
     },
     "metadata": {},
     "output_type": "display_data"
    },
    {
     "data": {
      "text/html": [
       "<table>\n",
       "<caption>A data.frame: 2 × 22</caption>\n",
       "<thead>\n",
       "\t<tr><th></th><th scope=col>Z.FPP.D11</th><th scope=col>Z.P_FPP.D11</th><th scope=col>Z.NB.D11</th><th scope=col>Z.DA.D30</th><th scope=col>Z.Sert.D30</th><th scope=col>Z.Epen1.D30</th><th scope=col>Z.Astro.D30</th><th scope=col>Z.DA.D52</th><th scope=col>Z.Sert.D52</th><th scope=col>Z.Epen1.D52</th><th scope=col>⋯</th><th scope=col>Z.Adrenal_Gland.tsv</th><th scope=col>Z.Artery_Coronary.tsv</th><th scope=col>Z.Brain_Frontal_Cortex_BA9.tsv</th><th scope=col>Z.Brain_Hippocampus.tsv</th><th scope=col>Z.Brain_Spinal_cord_cervical_c-1.tsv</th><th scope=col>Z.Colon_Transverse.tsv</th><th scope=col>Z.Nerve_Tibial.tsv</th><th scope=col>Z.Prostate.tsv</th><th scope=col>Z.Spleen.tsv</th><th scope=col>Z.NA</th></tr>\n",
       "\t<tr><th></th><th scope=col>&lt;dbl&gt;</th><th scope=col>&lt;dbl&gt;</th><th scope=col>&lt;dbl&gt;</th><th scope=col>&lt;dbl&gt;</th><th scope=col>&lt;dbl&gt;</th><th scope=col>&lt;dbl&gt;</th><th scope=col>&lt;dbl&gt;</th><th scope=col>&lt;dbl&gt;</th><th scope=col>&lt;dbl&gt;</th><th scope=col>&lt;dbl&gt;</th><th scope=col>⋯</th><th scope=col>&lt;dbl&gt;</th><th scope=col>&lt;dbl&gt;</th><th scope=col>&lt;dbl&gt;</th><th scope=col>&lt;dbl&gt;</th><th scope=col>&lt;dbl&gt;</th><th scope=col>&lt;dbl&gt;</th><th scope=col>&lt;dbl&gt;</th><th scope=col>&lt;dbl&gt;</th><th scope=col>&lt;dbl&gt;</th><th scope=col>&lt;dbl&gt;</th></tr>\n",
       "</thead>\n",
       "<tbody>\n",
       "\t<tr><th scope=row>ENSG00000170291-17_7145981_T_C</th><td>17.60191</td><td>19.06328</td><td>7.378654</td><td> 1.520777</td><td>13.48673</td><td>11.883131</td><td>13.32917</td><td> 3.992745</td><td>18.89642</td><td>15.12826</td><td>⋯</td><td>5.537915e+06</td><td>-4.995868e+04</td><td>1.745715e+18</td><td>6.455203e+02</td><td>2.693161e+16</td><td> 2.563701e+07</td><td>145.34452</td><td>22.44462</td><td>2.244935e+03</td><td>8.128788e+00</td></tr>\n",
       "\t<tr><th scope=row>ENSG00000093072-22_17680519_A_C</th><td>17.21335</td><td>16.47538</td><td>9.035217</td><td>11.335143</td><td>13.02668</td><td> 8.723859</td><td>10.85849</td><td>11.971600</td><td>17.40637</td><td>15.56394</td><td>⋯</td><td>5.372030e+49</td><td> 1.512335e+17</td><td>1.537615e+39</td><td>6.062634e+12</td><td>2.263516e+52</td><td>-3.686502e-01</td><td> 34.78077</td><td>32.21393</td><td>1.412926e+09</td><td>7.801805e+18</td></tr>\n",
       "</tbody>\n",
       "</table>\n"
      ],
      "text/latex": [
       "A data.frame: 2 × 22\n",
       "\\begin{tabular}{r|llllllllllllllllllllll}\n",
       "  & Z.FPP.D11 & Z.P\\_FPP.D11 & Z.NB.D11 & Z.DA.D30 & Z.Sert.D30 & Z.Epen1.D30 & Z.Astro.D30 & Z.DA.D52 & Z.Sert.D52 & Z.Epen1.D52 & Z.Astro.D52 & Z.Adipose\\_Visceral\\_Omentum.tsv & Z.Adrenal\\_Gland.tsv & Z.Artery\\_Coronary.tsv & Z.Brain\\_Frontal\\_Cortex\\_BA9.tsv & Z.Brain\\_Hippocampus.tsv & Z.Brain\\_Spinal\\_cord\\_cervical\\_c-1.tsv & Z.Colon\\_Transverse.tsv & Z.Nerve\\_Tibial.tsv & Z.Prostate.tsv & Z.Spleen.tsv & Z.NA\\\\\n",
       "  & <dbl> & <dbl> & <dbl> & <dbl> & <dbl> & <dbl> & <dbl> & <dbl> & <dbl> & <dbl> & <dbl> & <dbl> & <dbl> & <dbl> & <dbl> & <dbl> & <dbl> & <dbl> & <dbl> & <dbl> & <dbl> & <dbl>\\\\\n",
       "\\hline\n",
       "\tENSG00000170291-17\\_7145981\\_T\\_C & 17.60191 & 19.06328 & 7.378654 &  1.520777 & 13.48673 & 11.883131 & 13.32917 &  3.992745 & 18.89642 & 15.12826 & 10.205351 & 1.890334e+11 & 5.537915e+06 & -4.995868e+04 & 1.745715e+18 & 6.455203e+02 & 2.693161e+16 &  2.563701e+07 & 145.34452 & 22.44462 & 2.244935e+03 & 8.128788e+00\\\\\n",
       "\tENSG00000093072-22\\_17680519\\_A\\_C & 17.21335 & 16.47538 & 9.035217 & 11.335143 & 13.02668 &  8.723859 & 10.85849 & 11.971600 & 17.40637 & 15.56394 &  9.950645 & 1.603709e+45 & 5.372030e+49 &  1.512335e+17 & 1.537615e+39 & 6.062634e+12 & 2.263516e+52 & -3.686502e-01 &  34.78077 & 32.21393 & 1.412926e+09 & 7.801805e+18\\\\\n",
       "\\end{tabular}\n"
      ],
      "text/markdown": [
       "\n",
       "A data.frame: 2 × 22\n",
       "\n",
       "| <!--/--> | Z.FPP.D11 &lt;dbl&gt; | Z.P_FPP.D11 &lt;dbl&gt; | Z.NB.D11 &lt;dbl&gt; | Z.DA.D30 &lt;dbl&gt; | Z.Sert.D30 &lt;dbl&gt; | Z.Epen1.D30 &lt;dbl&gt; | Z.Astro.D30 &lt;dbl&gt; | Z.DA.D52 &lt;dbl&gt; | Z.Sert.D52 &lt;dbl&gt; | Z.Epen1.D52 &lt;dbl&gt; | ⋯ ⋯ | Z.Adrenal_Gland.tsv &lt;dbl&gt; | Z.Artery_Coronary.tsv &lt;dbl&gt; | Z.Brain_Frontal_Cortex_BA9.tsv &lt;dbl&gt; | Z.Brain_Hippocampus.tsv &lt;dbl&gt; | Z.Brain_Spinal_cord_cervical_c-1.tsv &lt;dbl&gt; | Z.Colon_Transverse.tsv &lt;dbl&gt; | Z.Nerve_Tibial.tsv &lt;dbl&gt; | Z.Prostate.tsv &lt;dbl&gt; | Z.Spleen.tsv &lt;dbl&gt; | Z.NA &lt;dbl&gt; |\n",
       "|---|---|---|---|---|---|---|---|---|---|---|---|---|---|---|---|---|---|---|---|---|---|\n",
       "| ENSG00000170291-17_7145981_T_C | 17.60191 | 19.06328 | 7.378654 |  1.520777 | 13.48673 | 11.883131 | 13.32917 |  3.992745 | 18.89642 | 15.12826 | ⋯ | 5.537915e+06 | -4.995868e+04 | 1.745715e+18 | 6.455203e+02 | 2.693161e+16 |  2.563701e+07 | 145.34452 | 22.44462 | 2.244935e+03 | 8.128788e+00 |\n",
       "| ENSG00000093072-22_17680519_A_C | 17.21335 | 16.47538 | 9.035217 | 11.335143 | 13.02668 |  8.723859 | 10.85849 | 11.971600 | 17.40637 | 15.56394 | ⋯ | 5.372030e+49 |  1.512335e+17 | 1.537615e+39 | 6.062634e+12 | 2.263516e+52 | -3.686502e-01 |  34.78077 | 32.21393 | 1.412926e+09 | 7.801805e+18 |\n",
       "\n"
      ],
      "text/plain": [
       "                                Z.FPP.D11 Z.P_FPP.D11 Z.NB.D11 Z.DA.D30 \n",
       "ENSG00000170291-17_7145981_T_C  17.60191  19.06328    7.378654  1.520777\n",
       "ENSG00000093072-22_17680519_A_C 17.21335  16.47538    9.035217 11.335143\n",
       "                                Z.Sert.D30 Z.Epen1.D30 Z.Astro.D30 Z.DA.D52 \n",
       "ENSG00000170291-17_7145981_T_C  13.48673   11.883131   13.32917     3.992745\n",
       "ENSG00000093072-22_17680519_A_C 13.02668    8.723859   10.85849    11.971600\n",
       "                                Z.Sert.D52 Z.Epen1.D52 ⋯ Z.Adrenal_Gland.tsv\n",
       "ENSG00000170291-17_7145981_T_C  18.89642   15.12826    ⋯ 5.537915e+06       \n",
       "ENSG00000093072-22_17680519_A_C 17.40637   15.56394    ⋯ 5.372030e+49       \n",
       "                                Z.Artery_Coronary.tsv\n",
       "ENSG00000170291-17_7145981_T_C  -4.995868e+04        \n",
       "ENSG00000093072-22_17680519_A_C  1.512335e+17        \n",
       "                                Z.Brain_Frontal_Cortex_BA9.tsv\n",
       "ENSG00000170291-17_7145981_T_C  1.745715e+18                  \n",
       "ENSG00000093072-22_17680519_A_C 1.537615e+39                  \n",
       "                                Z.Brain_Hippocampus.tsv\n",
       "ENSG00000170291-17_7145981_T_C  6.455203e+02           \n",
       "ENSG00000093072-22_17680519_A_C 6.062634e+12           \n",
       "                                Z.Brain_Spinal_cord_cervical_c-1.tsv\n",
       "ENSG00000170291-17_7145981_T_C  2.693161e+16                        \n",
       "ENSG00000093072-22_17680519_A_C 2.263516e+52                        \n",
       "                                Z.Colon_Transverse.tsv Z.Nerve_Tibial.tsv\n",
       "ENSG00000170291-17_7145981_T_C   2.563701e+07          145.34452         \n",
       "ENSG00000093072-22_17680519_A_C -3.686502e-01           34.78077         \n",
       "                                Z.Prostate.tsv Z.Spleen.tsv Z.NA        \n",
       "ENSG00000170291-17_7145981_T_C  22.44462       2.244935e+03 8.128788e+00\n",
       "ENSG00000093072-22_17680519_A_C 32.21393       1.412926e+09 7.801805e+18"
      ]
     },
     "metadata": {},
     "output_type": "display_data"
    }
   ],
   "source": [
    "ru0 = r_all_gtex[order(r_all_gtex$Z.FPP.D11, decreasing = T),]\n",
    "ru0 = ru0[-which(duplicated(ru0$feature_id)),]\n",
    "head(ru0,2)\n",
    "nrow(ru0)\n",
    "length(unique(ru0$feature_id))\n",
    "\n",
    "mat0 = ru0[,-c(1,2)]\n",
    "rownames(mat0) <- paste0(ru0$feature_id,\"-\",ru0$snp_id)\n",
    "head(mat0,2)"
   ]
  },
  {
   "cell_type": "code",
   "execution_count": 494,
   "metadata": {},
   "outputs": [
    {
     "data": {
      "text/html": [
       "<table>\n",
       "<caption>A data.frame: 2 × 29</caption>\n",
       "<thead>\n",
       "\t<tr><th></th><th scope=col>Z.FPP.D11</th><th scope=col>Z.P_FPP.D11</th><th scope=col>Z.NB.D11</th><th scope=col>Z.DA.D30</th><th scope=col>Z.Sert.D30</th><th scope=col>Z.Epen1.D30</th><th scope=col>Z.Astro.D30</th><th scope=col>Z.DA.D52</th><th scope=col>Z.Sert.D52</th><th scope=col>Z.Epen1.D52</th><th scope=col>⋯</th><th scope=col>Z.brain_putamen_basal_ganglia</th><th scope=col>Z.brain_spinal</th><th scope=col>Z.skin_nosun</th><th scope=col>Z.skin_sun</th><th scope=col>Z.heart_atrial</th><th scope=col>Z.heart</th><th scope=col>Z.blood</th><th scope=col>Z.cortex</th><th scope=col>Z.transf_fibroblasts</th><th scope=col>Z.transf_lymphocytes</th></tr>\n",
       "\t<tr><th></th><th scope=col>&lt;dbl&gt;</th><th scope=col>&lt;dbl&gt;</th><th scope=col>&lt;dbl&gt;</th><th scope=col>&lt;dbl&gt;</th><th scope=col>&lt;dbl&gt;</th><th scope=col>&lt;dbl&gt;</th><th scope=col>&lt;dbl&gt;</th><th scope=col>&lt;dbl&gt;</th><th scope=col>&lt;dbl&gt;</th><th scope=col>&lt;dbl&gt;</th><th scope=col>⋯</th><th scope=col>&lt;dbl&gt;</th><th scope=col>&lt;dbl&gt;</th><th scope=col>&lt;dbl&gt;</th><th scope=col>&lt;dbl&gt;</th><th scope=col>&lt;dbl&gt;</th><th scope=col>&lt;dbl&gt;</th><th scope=col>&lt;dbl&gt;</th><th scope=col>&lt;dbl&gt;</th><th scope=col>&lt;dbl&gt;</th><th scope=col>&lt;dbl&gt;</th></tr>\n",
       "</thead>\n",
       "<tbody>\n",
       "\t<tr><th scope=row>ENSG00000170291-17_7145981_T_C</th><td>17.60191</td><td>19.06328</td><td>7.378654</td><td> 1.520777</td><td>13.48673</td><td>11.883131</td><td>13.32917</td><td> 3.992745</td><td>18.89642</td><td>15.12826</td><td>⋯</td><td>2.608113e+04</td><td>66.1102194</td><td>1.538953e+13</td><td>7.169918e+19</td><td>2.176088e+52</td><td>2.967779e+43</td><td> 2.563701e+07</td><td>5.596056e-01</td><td>1.817246e+06</td><td>-0.2585966</td></tr>\n",
       "\t<tr><th scope=row>ENSG00000093072-22_17680519_A_C</th><td>17.21335</td><td>16.47538</td><td>9.035217</td><td>11.335143</td><td>13.02668</td><td> 8.723859</td><td>10.85849</td><td>11.971600</td><td>17.40637</td><td>15.56394</td><td>⋯</td><td>4.761397e+10</td><td> 0.2091148</td><td>7.450143e+50</td><td>8.438480e+78</td><td>4.831877e+62</td><td>1.014287e+70</td><td>-3.686502e-01</td><td>4.727108e+06</td><td>1.700651e+78</td><td>-0.1539934</td></tr>\n",
       "</tbody>\n",
       "</table>\n"
      ],
      "text/latex": [
       "A data.frame: 2 × 29\n",
       "\\begin{tabular}{r|lllllllllllllllllllllllllllll}\n",
       "  & Z.FPP.D11 & Z.P\\_FPP.D11 & Z.NB.D11 & Z.DA.D30 & Z.Sert.D30 & Z.Epen1.D30 & Z.Astro.D30 & Z.DA.D52 & Z.Sert.D52 & Z.Epen1.D52 & Z.Astro.D52 & Z.brain\\_amygdala & Z.brain\\_anterior\\_cingulate\\_cortex & Z.brain\\_caudate\\_basal\\_ganglia & Z.brain\\_cerebellar\\_hemisphere & Z.brain\\_frontal\\_cortex & Z.brain\\_hypothalamus & Z.brain\\_nucleus\\_accumbens\\_basal\\_ganglia & Z.brain & Z.brain\\_putamen\\_basal\\_ganglia & Z.brain\\_spinal & Z.skin\\_nosun & Z.skin\\_sun & Z.heart\\_atrial & Z.heart & Z.blood & Z.cortex & Z.transf\\_fibroblasts & Z.transf\\_lymphocytes\\\\\n",
       "  & <dbl> & <dbl> & <dbl> & <dbl> & <dbl> & <dbl> & <dbl> & <dbl> & <dbl> & <dbl> & <dbl> & <dbl> & <dbl> & <dbl> & <dbl> & <dbl> & <dbl> & <dbl> & <dbl> & <dbl> & <dbl> & <dbl> & <dbl> & <dbl> & <dbl> & <dbl> & <dbl> & <dbl> & <dbl>\\\\\n",
       "\\hline\n",
       "\tENSG00000170291-17\\_7145981\\_T\\_C & 17.60191 & 19.06328 & 7.378654 &  1.520777 & 13.48673 & 11.883131 & 13.32917 &  3.992745 & 18.89642 & 15.12826 & 10.205351 & 145.34452 & 22.44462 & 2.244935e+03 & 2.642256e-02 & 1.258337e-02 & 2.655420e-01 &   449.3008 & 3.330877e-02 & 2.608113e+04 & 66.1102194 & 1.538953e+13 & 7.169918e+19 & 2.176088e+52 & 2.967779e+43 &  2.563701e+07 & 5.596056e-01 & 1.817246e+06 & -0.2585966\\\\\n",
       "\tENSG00000093072-22\\_17680519\\_A\\_C & 17.21335 & 16.47538 & 9.035217 & 11.335143 & 13.02668 &  8.723859 & 10.85849 & 11.971600 & 17.40637 & 15.56394 &  9.950645 &  34.78077 & 32.21393 & 1.412926e+09 & 2.678174e+20 & 1.833157e+03 & 1.385595e+16 & 57443.8896 & 8.247976e+23 & 4.761397e+10 &  0.2091148 & 7.450143e+50 & 8.438480e+78 & 4.831877e+62 & 1.014287e+70 & -3.686502e-01 & 4.727108e+06 & 1.700651e+78 & -0.1539934\\\\\n",
       "\\end{tabular}\n"
      ],
      "text/markdown": [
       "\n",
       "A data.frame: 2 × 29\n",
       "\n",
       "| <!--/--> | Z.FPP.D11 &lt;dbl&gt; | Z.P_FPP.D11 &lt;dbl&gt; | Z.NB.D11 &lt;dbl&gt; | Z.DA.D30 &lt;dbl&gt; | Z.Sert.D30 &lt;dbl&gt; | Z.Epen1.D30 &lt;dbl&gt; | Z.Astro.D30 &lt;dbl&gt; | Z.DA.D52 &lt;dbl&gt; | Z.Sert.D52 &lt;dbl&gt; | Z.Epen1.D52 &lt;dbl&gt; | ⋯ ⋯ | Z.brain_putamen_basal_ganglia &lt;dbl&gt; | Z.brain_spinal &lt;dbl&gt; | Z.skin_nosun &lt;dbl&gt; | Z.skin_sun &lt;dbl&gt; | Z.heart_atrial &lt;dbl&gt; | Z.heart &lt;dbl&gt; | Z.blood &lt;dbl&gt; | Z.cortex &lt;dbl&gt; | Z.transf_fibroblasts &lt;dbl&gt; | Z.transf_lymphocytes &lt;dbl&gt; |\n",
       "|---|---|---|---|---|---|---|---|---|---|---|---|---|---|---|---|---|---|---|---|---|---|\n",
       "| ENSG00000170291-17_7145981_T_C | 17.60191 | 19.06328 | 7.378654 |  1.520777 | 13.48673 | 11.883131 | 13.32917 |  3.992745 | 18.89642 | 15.12826 | ⋯ | 2.608113e+04 | 66.1102194 | 1.538953e+13 | 7.169918e+19 | 2.176088e+52 | 2.967779e+43 |  2.563701e+07 | 5.596056e-01 | 1.817246e+06 | -0.2585966 |\n",
       "| ENSG00000093072-22_17680519_A_C | 17.21335 | 16.47538 | 9.035217 | 11.335143 | 13.02668 |  8.723859 | 10.85849 | 11.971600 | 17.40637 | 15.56394 | ⋯ | 4.761397e+10 |  0.2091148 | 7.450143e+50 | 8.438480e+78 | 4.831877e+62 | 1.014287e+70 | -3.686502e-01 | 4.727108e+06 | 1.700651e+78 | -0.1539934 |\n",
       "\n"
      ],
      "text/plain": [
       "                                Z.FPP.D11 Z.P_FPP.D11 Z.NB.D11 Z.DA.D30 \n",
       "ENSG00000170291-17_7145981_T_C  17.60191  19.06328    7.378654  1.520777\n",
       "ENSG00000093072-22_17680519_A_C 17.21335  16.47538    9.035217 11.335143\n",
       "                                Z.Sert.D30 Z.Epen1.D30 Z.Astro.D30 Z.DA.D52 \n",
       "ENSG00000170291-17_7145981_T_C  13.48673   11.883131   13.32917     3.992745\n",
       "ENSG00000093072-22_17680519_A_C 13.02668    8.723859   10.85849    11.971600\n",
       "                                Z.Sert.D52 Z.Epen1.D52 ⋯\n",
       "ENSG00000170291-17_7145981_T_C  18.89642   15.12826    ⋯\n",
       "ENSG00000093072-22_17680519_A_C 17.40637   15.56394    ⋯\n",
       "                                Z.brain_putamen_basal_ganglia Z.brain_spinal\n",
       "ENSG00000170291-17_7145981_T_C  2.608113e+04                  66.1102194    \n",
       "ENSG00000093072-22_17680519_A_C 4.761397e+10                   0.2091148    \n",
       "                                Z.skin_nosun Z.skin_sun   Z.heart_atrial\n",
       "ENSG00000170291-17_7145981_T_C  1.538953e+13 7.169918e+19 2.176088e+52  \n",
       "ENSG00000093072-22_17680519_A_C 7.450143e+50 8.438480e+78 4.831877e+62  \n",
       "                                Z.heart      Z.blood       Z.cortex    \n",
       "ENSG00000170291-17_7145981_T_C  2.967779e+43  2.563701e+07 5.596056e-01\n",
       "ENSG00000093072-22_17680519_A_C 1.014287e+70 -3.686502e-01 4.727108e+06\n",
       "                                Z.transf_fibroblasts Z.transf_lymphocytes\n",
       "ENSG00000170291-17_7145981_T_C  1.817246e+06         -0.2585966          \n",
       "ENSG00000093072-22_17680519_A_C 1.700651e+78         -0.1539934          "
      ]
     },
     "metadata": {},
     "output_type": "display_data"
    }
   ],
   "source": [
    "mat0 = mat0[,unique(c(grep(\".D\",colnames(mat0)),grep(\"brain\",colnames(mat0)), \n",
    "                      grep(\"skin\",colnames(mat0)),grep(\"heart\",colnames(mat0)),grep(\"blood\",colnames(mat0)),\n",
    "             grep(\"cortex\",colnames(mat0)),grep(\"transf\",colnames(mat0))))]\n",
    "head(mat0,2)\n",
    "mat0 = scale(mat0)"
   ]
  },
  {
   "cell_type": "code",
   "execution_count": 395,
   "metadata": {},
   "outputs": [],
   "source": [
    "mat_neuro = mat0[,grep(\".D\",colnames(mat0))]\n",
    "mat_gtex = mat0[,!(colnames(mat0) %in% colnames(mat_neuro))]\n",
    "# head(mat_neuro,2)\n",
    "# head(mat_gtex,2)"
   ]
  },
  {
   "cell_type": "code",
   "execution_count": 404,
   "metadata": {},
   "outputs": [],
   "source": [
    "# install.packages(\"CCA\")"
   ]
  },
  {
   "cell_type": "code",
   "execution_count": 501,
   "metadata": {
    "scrolled": false
   },
   "outputs": [
    {
     "name": "stderr",
     "output_type": "stream",
     "text": [
      "Warning message in cor(Y, use = \"pairwise\"):\n",
      "“the standard deviation is zero”Warning message in cor(cbind(X, Y), use = \"pairwise\"):\n",
      "“the standard deviation is zero”"
     ]
    },
    {
     "data": {
      "image/png": "[encoded data removed]",
      "text/plain": [
       "Plot with title “Cross-correlation”"
      ]
     },
     "metadata": {},
     "output_type": "display_data"
    }
   ],
   "source": [
    "library(\"CCA\")\n",
    "correl <- matcor(mat_neuro, mat_gtex)\n",
    "img.matcor(correl, type = 2)"
   ]
  },
  {
   "cell_type": "code",
   "execution_count": 382,
   "metadata": {},
   "outputs": [],
   "source": [
    "# library(scran)"
   ]
  },
  {
   "cell_type": "code",
   "execution_count": 406,
   "metadata": {},
   "outputs": [],
   "source": [
    "# mat_neuro = scale(mat_neuro)\n",
    "# mat_gtex = scale(mat_gtex)\n",
    "\n",
    "# out = multiBatchPCA(mat_neuro, mat_gtex)"
   ]
  },
  {
   "cell_type": "code",
   "execution_count": null,
   "metadata": {},
   "outputs": [],
   "source": []
  },
  {
   "cell_type": "code",
   "execution_count": 384,
   "metadata": {},
   "outputs": [
    {
     "data": {
      "image/png": "[encoded data removed]",
      "text/plain": [
       "plot without title"
      ]
     },
     "metadata": {},
     "output_type": "display_data"
    }
   ],
   "source": [
    "xlim <- range(c(out[[1]][,1], out[[2]][,1]))\n",
    "ylim <- range(c(out[[1]][,2], out[[2]][,2]))\n",
    "plot(out[[1]][,1], out[[1]][,2], col=\"red\", xlim=xlim, ylim=ylim)\n",
    "points(out[[2]][,1], out[[2]][,2], col=\"blue\") "
   ]
  },
  {
   "cell_type": "code",
   "execution_count": 371,
   "metadata": {},
   "outputs": [
    {
     "data": {
      "text/html": [
       "<table>\n",
       "<caption>A matrix: 2 × 48 of type dbl</caption>\n",
       "<thead>\n",
       "\t<tr><th></th><th scope=col>Z.adipose_subcutaneous</th><th scope=col>Z.adipose_visceral</th><th scope=col>Z.adrenal_gland</th><th scope=col>Z.artery_aorta</th><th scope=col>Z.artery_coronary</th><th scope=col>Z.artery_tibial</th><th scope=col>Z.blood</th><th scope=col>Z.brain_amygdala</th><th scope=col>Z.brain_anterior_cingulate_cortex</th><th scope=col>Z.brain_caudate_basal_ganglia</th><th scope=col>⋯</th><th scope=col>Z.small_intestine</th><th scope=col>Z.spleen</th><th scope=col>Z.stomach</th><th scope=col>Z.substantia_nigra</th><th scope=col>Z.testis</th><th scope=col>Z.thyroid</th><th scope=col>Z.transf_fibroblasts</th><th scope=col>Z.transf_lymphocytes</th><th scope=col>Z.uterus</th><th scope=col>Z.vagina</th></tr>\n",
       "</thead>\n",
       "<tbody>\n",
       "\t<tr><th scope=row>Z.adipose_subcutaneous</th><td>3104.089</td><td>3104.089</td><td>3104.083</td><td>3104.089</td><td>3104.089</td><td>3103.668</td><td>-1224.698</td><td>576.7599</td><td>3104.089</td><td>3103.791</td><td>⋯</td><td>3104.089</td><td>3104.088</td><td>3104.089</td><td>-979.3514</td><td>-1050.396</td><td>-824.1377</td><td>3104.084</td><td>-1224.698</td><td>3104.07</td><td>3104.089</td></tr>\n",
       "\t<tr><th scope=row>Z.adipose_visceral</th><td>3104.089</td><td>3104.089</td><td>3104.083</td><td>3104.089</td><td>3104.089</td><td>3103.668</td><td>-1224.698</td><td>576.7599</td><td>3104.089</td><td>3103.791</td><td>⋯</td><td>3104.089</td><td>3104.088</td><td>3104.089</td><td>-979.3514</td><td>-1050.396</td><td>-824.1377</td><td>3104.084</td><td>-1224.698</td><td>3104.07</td><td>3104.089</td></tr>\n",
       "</tbody>\n",
       "</table>\n"
      ],
      "text/latex": [
       "A matrix: 2 × 48 of type dbl\n",
       "\\begin{tabular}{r|llllllllllllllllllllllllllllllllllllllllllllllll}\n",
       "  & Z.adipose\\_subcutaneous & Z.adipose\\_visceral & Z.adrenal\\_gland & Z.artery\\_aorta & Z.artery\\_coronary & Z.artery\\_tibial & Z.blood & Z.brain\\_amygdala & Z.brain\\_anterior\\_cingulate\\_cortex & Z.brain\\_caudate\\_basal\\_ganglia & Z.brain\\_cerebellar\\_hemisphere & Z.brain\\_frontal\\_cortex & Z.brain\\_hypothalamus & Z.brain\\_nucleus\\_accumbens\\_basal\\_ganglia & Z.brain & Z.brain\\_putamen\\_basal\\_ganglia & Z.brain\\_spinal & Z.breast & Z.colon\\_sigmoid & Z.colon\\_transverse & Z.cortex & Z.esophagus\\_mucosa & Z.esophagus\\_muscularis & Z.esophagus & Z.heart\\_atrial & Z.heart & Z.hippocampus & Z.liver & Z.lung & Z.muscle & Z.nerve\\_tibial & Z.ovary & Z.pancreas & Z.pituitary & Z.prostate & Z.salivary\\_gland & Z.skin\\_nosun & Z.skin\\_sun & Z.small\\_intestine & Z.spleen & Z.stomach & Z.substantia\\_nigra & Z.testis & Z.thyroid & Z.transf\\_fibroblasts & Z.transf\\_lymphocytes & Z.uterus & Z.vagina\\\\\n",
       "\\hline\n",
       "\tZ.adipose\\_subcutaneous & 3104.089 & 3104.089 & 3104.083 & 3104.089 & 3104.089 & 3103.668 & -1224.698 & 576.7599 & 3104.089 & 3103.791 & -892.6975 & 3104.089 & 3104.089 & 3104.089 & -818.0725 & 3104.089 & 3104.171 & 3104.089 & 3104.089 & 3104.089 & 3104.089 & -1224.698 & 3104.089 & 3104.089 & 3104.089 & 3104.087 & 3104.089 & 3075.284 & 3104.089 & -824.1377 & 3104.089 & 3104.088 & 3104.089 & 3104.089 & 3097.308 & 2940.418 & 3104.089 & 3104.089 & 3104.089 & 3104.088 & 3104.089 & -979.3514 & -1050.396 & -824.1377 & 3104.084 & -1224.698 & 3104.07 & 3104.089\\\\\n",
       "\tZ.adipose\\_visceral & 3104.089 & 3104.089 & 3104.083 & 3104.089 & 3104.089 & 3103.668 & -1224.698 & 576.7599 & 3104.089 & 3103.791 & -892.6975 & 3104.089 & 3104.089 & 3104.089 & -818.0725 & 3104.089 & 3104.171 & 3104.089 & 3104.089 & 3104.089 & 3104.089 & -1224.698 & 3104.089 & 3104.089 & 3104.089 & 3104.087 & 3104.089 & 3075.284 & 3104.089 & -824.1377 & 3104.089 & 3104.088 & 3104.089 & 3104.089 & 3097.308 & 2940.418 & 3104.089 & 3104.089 & 3104.089 & 3104.088 & 3104.089 & -979.3514 & -1050.396 & -824.1377 & 3104.084 & -1224.698 & 3104.07 & 3104.089\\\\\n",
       "\\end{tabular}\n"
      ],
      "text/markdown": [
       "\n",
       "A matrix: 2 × 48 of type dbl\n",
       "\n",
       "| <!--/--> | Z.adipose_subcutaneous | Z.adipose_visceral | Z.adrenal_gland | Z.artery_aorta | Z.artery_coronary | Z.artery_tibial | Z.blood | Z.brain_amygdala | Z.brain_anterior_cingulate_cortex | Z.brain_caudate_basal_ganglia | ⋯ | Z.small_intestine | Z.spleen | Z.stomach | Z.substantia_nigra | Z.testis | Z.thyroid | Z.transf_fibroblasts | Z.transf_lymphocytes | Z.uterus | Z.vagina |\n",
       "|---|---|---|---|---|---|---|---|---|---|---|---|---|---|---|---|---|---|---|---|---|---|\n",
       "| Z.adipose_subcutaneous | 3104.089 | 3104.089 | 3104.083 | 3104.089 | 3104.089 | 3103.668 | -1224.698 | 576.7599 | 3104.089 | 3103.791 | ⋯ | 3104.089 | 3104.088 | 3104.089 | -979.3514 | -1050.396 | -824.1377 | 3104.084 | -1224.698 | 3104.07 | 3104.089 |\n",
       "| Z.adipose_visceral | 3104.089 | 3104.089 | 3104.083 | 3104.089 | 3104.089 | 3103.668 | -1224.698 | 576.7599 | 3104.089 | 3103.791 | ⋯ | 3104.089 | 3104.088 | 3104.089 | -979.3514 | -1050.396 | -824.1377 | 3104.084 | -1224.698 | 3104.07 | 3104.089 |\n",
       "\n"
      ],
      "text/plain": [
       "                       Z.adipose_subcutaneous Z.adipose_visceral\n",
       "Z.adipose_subcutaneous 3104.089               3104.089          \n",
       "Z.adipose_visceral     3104.089               3104.089          \n",
       "                       Z.adrenal_gland Z.artery_aorta Z.artery_coronary\n",
       "Z.adipose_subcutaneous 3104.083        3104.089       3104.089         \n",
       "Z.adipose_visceral     3104.083        3104.089       3104.089         \n",
       "                       Z.artery_tibial Z.blood   Z.brain_amygdala\n",
       "Z.adipose_subcutaneous 3103.668        -1224.698 576.7599        \n",
       "Z.adipose_visceral     3103.668        -1224.698 576.7599        \n",
       "                       Z.brain_anterior_cingulate_cortex\n",
       "Z.adipose_subcutaneous 3104.089                         \n",
       "Z.adipose_visceral     3104.089                         \n",
       "                       Z.brain_caudate_basal_ganglia ⋯ Z.small_intestine\n",
       "Z.adipose_subcutaneous 3103.791                      ⋯ 3104.089         \n",
       "Z.adipose_visceral     3103.791                      ⋯ 3104.089         \n",
       "                       Z.spleen Z.stomach Z.substantia_nigra Z.testis \n",
       "Z.adipose_subcutaneous 3104.088 3104.089  -979.3514          -1050.396\n",
       "Z.adipose_visceral     3104.088 3104.089  -979.3514          -1050.396\n",
       "                       Z.thyroid Z.transf_fibroblasts Z.transf_lymphocytes\n",
       "Z.adipose_subcutaneous -824.1377 3104.084             -1224.698           \n",
       "Z.adipose_visceral     -824.1377 3104.084             -1224.698           \n",
       "                       Z.uterus Z.vagina\n",
       "Z.adipose_subcutaneous 3104.07  3104.089\n",
       "Z.adipose_visceral     3104.07  3104.089"
      ]
     },
     "metadata": {},
     "output_type": "display_data"
    }
   ],
   "source": [
    "pcs0 = out[[2]]\n",
    "# matZ_0 = pcs0[,-c(2)] %*% t(pcs0[,-c(2)])\n",
    "matZ_0 = pcs0 %*% t(pcs0)\n",
    "head(matZ_0,2)"
   ]
  },
  {
   "cell_type": "code",
   "execution_count": null,
   "metadata": {},
   "outputs": [],
   "source": []
  },
  {
   "cell_type": "code",
   "execution_count": 496,
   "metadata": {
    "scrolled": true
   },
   "outputs": [],
   "source": [
    "pcs0 = prcomp(t(mat0))$x\n",
    "# pcs0"
   ]
  },
  {
   "cell_type": "code",
   "execution_count": 480,
   "metadata": {},
   "outputs": [],
   "source": [
    "pcs_df = as.data.frame(pcs0)"
   ]
  },
  {
   "cell_type": "code",
   "execution_count": 481,
   "metadata": {},
   "outputs": [
    {
     "data": {
      "text/html": [
       "<table>\n",
       "<caption>A data.frame: 2 × 6</caption>\n",
       "<thead>\n",
       "\t<tr><th scope=col>celltype</th><th scope=col>day</th><th scope=col>PC1</th><th scope=col>PC2</th><th scope=col>PC3</th><th scope=col>PC4</th></tr>\n",
       "\t<tr><th scope=col>&lt;chr&gt;</th><th scope=col>&lt;chr&gt;</th><th scope=col>&lt;dbl&gt;</th><th scope=col>&lt;dbl&gt;</th><th scope=col>&lt;dbl&gt;</th><th scope=col>&lt;dbl&gt;</th></tr>\n",
       "</thead>\n",
       "<tbody>\n",
       "\t<tr><td>FPP  </td><td>D11</td><td>-42.92417</td><td>-14.39964</td><td>42.88924</td><td>-13.10975</td></tr>\n",
       "\t<tr><td>P_FPP</td><td>D11</td><td>-42.34972</td><td>-12.32166</td><td>44.87713</td><td>-13.10269</td></tr>\n",
       "</tbody>\n",
       "</table>\n"
      ],
      "text/latex": [
       "A data.frame: 2 × 6\n",
       "\\begin{tabular}{r|llllll}\n",
       " celltype & day & PC1 & PC2 & PC3 & PC4\\\\\n",
       " <chr> & <chr> & <dbl> & <dbl> & <dbl> & <dbl>\\\\\n",
       "\\hline\n",
       "\t FPP   & D11 & -42.92417 & -14.39964 & 42.88924 & -13.10975\\\\\n",
       "\t P\\_FPP & D11 & -42.34972 & -12.32166 & 44.87713 & -13.10269\\\\\n",
       "\\end{tabular}\n"
      ],
      "text/markdown": [
       "\n",
       "A data.frame: 2 × 6\n",
       "\n",
       "| celltype &lt;chr&gt; | day &lt;chr&gt; | PC1 &lt;dbl&gt; | PC2 &lt;dbl&gt; | PC3 &lt;dbl&gt; | PC4 &lt;dbl&gt; |\n",
       "|---|---|---|---|---|---|\n",
       "| FPP   | D11 | -42.92417 | -14.39964 | 42.88924 | -13.10975 |\n",
       "| P_FPP | D11 | -42.34972 | -12.32166 | 44.87713 | -13.10269 |\n",
       "\n"
      ],
      "text/plain": [
       "  celltype day PC1       PC2       PC3      PC4      \n",
       "1 FPP      D11 -42.92417 -14.39964 42.88924 -13.10975\n",
       "2 P_FPP    D11 -42.34972 -12.32166 44.87713 -13.10269"
      ]
     },
     "metadata": {},
     "output_type": "display_data"
    }
   ],
   "source": [
    "df0 = data.frame(celltype = gsub(\"-.*\",\"\",gsub(\"Z-\",\"\",gsub(\"\\\\.\",\"-\",rownames(pcs_df)))), \n",
    "                                day = gsub(\".*.D\",\"D\",rownames(pcs_df)),\n",
    "                                PC1 = pcs_df$PC1, PC2 = pcs_df$PC2, PC3 = pcs_df$PC3, PC4 = pcs_df$PC4)\n",
    "head(df0,2)"
   ]
  },
  {
   "cell_type": "code",
   "execution_count": 482,
   "metadata": {},
   "outputs": [],
   "source": [
    "df0[grep(\"brain\",df0$celltype),\"day\"] <- \"Brain\"\n",
    "df0[grep(\"cortex\",df0$celltype),\"day\"] <- \"Brain\"\n",
    "df0[grep(\"hippo\",df0$celltype),\"day\"] <- \"Brain\"\n",
    "df0[grep(\"transf\",df0$celltype),\"day\"] <- \"Cell lines\""
   ]
  },
  {
   "cell_type": "code",
   "execution_count": 483,
   "metadata": {},
   "outputs": [
    {
     "data": {
      "image/png": "[encoded data removed]",
      "text/plain": [
       "plot without title"
      ]
     },
     "metadata": {},
     "output_type": "display_data"
    }
   ],
   "source": [
    "df0$day[!(df0$day %in% c(\"D11\",\"D30\",\"D52\",\"Brain\",\"Cell lines\"))] <- \"GTEx\"\n",
    "ggplot(df0, aes(x = PC1, y = PC2, colour = day)) + \n",
    "    geom_point(size = 2) #+  scale_color_manual(values=c(col_Astro, \"cornflowerblue\",\n",
    "#                                                         \"darkblue\",\"darkblue\",\"cornflowerblue\",\n",
    "#                                                         col_DA, col_Epen1, col_FPP, col_NB, \n",
    "#                                                         col_P_FPP, col_Sert)) + theme_minimal()"
   ]
  },
  {
   "cell_type": "code",
   "execution_count": 342,
   "metadata": {
    "scrolled": false
   },
   "outputs": [
    {
     "data": {
      "image/png": "[encoded data removed]",
      "text/plain": [
       "plot without title"
      ]
     },
     "metadata": {},
     "output_type": "display_data"
    }
   ],
   "source": [
    "df0$day[!(df0$day %in% c(\"D11\",\"D30\",\"D52\",\"Brain\",\"Cell lines\"))] <- \"GTEx\"\n",
    "ggplot(df0, aes(x = PC1, y = PC2, colour = day)) + \n",
    "    geom_point(size = 2) #+  scale_color_manual(values=c(col_Astro, \"cornflowerblue\",\n",
    "#                                                         \"darkblue\",\"darkblue\",\"cornflowerblue\",\n",
    "#                                                         col_DA, col_Epen1, col_FPP, col_NB, \n",
    "#                                                         col_P_FPP, col_Sert)) + theme_minimal()"
   ]
  },
  {
   "cell_type": "code",
   "execution_count": null,
   "metadata": {},
   "outputs": [],
   "source": [
    "col_FPP = \"#aec7e8\"\n",
    "col_P_FPP = \"#1f77b4\"\n",
    "col_NB = \"#ff7f0e\"\n",
    "\n",
    "col_DA = \"#2ca02c\"\n",
    "col_Sert = \"#98df8a\"\n",
    "col_Epen1 = \"#ff9896\"\n",
    "col_Astro = \"#d62728\"\n",
    "\n",
    "col_brain = \"\"\n",
    "col_skin = \"\"\n",
    "col_cell_lines = \"\"\n",
    "col_Endo = \"\"\n",
    "col_Meso = \"\""
   ]
  },
  {
   "cell_type": "code",
   "execution_count": 208,
   "metadata": {},
   "outputs": [
    {
     "data": {
      "image/png": "[encoded data removed]",
      "text/plain": [
       "plot without title"
      ]
     },
     "metadata": {},
     "output_type": "display_data"
    }
   ],
   "source": [
    "df0$day[!(df0$day %in% c(\"D11\",\"D30\",\"D52\"))] <- \"NA\"\n",
    "ggplot(df0, aes(x = PC1, y = PC2, shape = day, colour = celltype)) + \n",
    "    geom_point(size = 3) +  scale_color_manual(values=c(col_Astro, \"cornflowerblue\",\"cornflowerblue\",\n",
    "                                                        col_DA, col_Epen1, col_FPP, col_NB, \n",
    "                                                        col_P_FPP, col_Sert)) + theme_minimal()"
   ]
  },
  {
   "cell_type": "code",
   "execution_count": 497,
   "metadata": {},
   "outputs": [
    {
     "data": {
      "text/html": [
       "<table>\n",
       "<caption>A matrix: 2 × 29 of type dbl</caption>\n",
       "<thead>\n",
       "\t<tr><th></th><th scope=col>Z.FPP.D11</th><th scope=col>Z.P_FPP.D11</th><th scope=col>Z.NB.D11</th><th scope=col>Z.DA.D30</th><th scope=col>Z.Sert.D30</th><th scope=col>Z.Epen1.D30</th><th scope=col>Z.Astro.D30</th><th scope=col>Z.DA.D52</th><th scope=col>Z.Sert.D52</th><th scope=col>Z.Epen1.D52</th><th scope=col>⋯</th><th scope=col>Z.brain_putamen_basal_ganglia</th><th scope=col>Z.brain_spinal</th><th scope=col>Z.skin_nosun</th><th scope=col>Z.skin_sun</th><th scope=col>Z.heart_atrial</th><th scope=col>Z.heart</th><th scope=col>Z.blood</th><th scope=col>Z.cortex</th><th scope=col>Z.transf_fibroblasts</th><th scope=col>Z.transf_lymphocytes</th></tr>\n",
       "</thead>\n",
       "<tbody>\n",
       "\t<tr><th scope=row>Z.FPP.D11</th><td>5954.694</td><td>4967.865</td><td>2805.984</td><td>1889.419</td><td>1905.926</td><td>1721.413</td><td>2150.356</td><td>2071.860</td><td>2132.251</td><td>2058.150</td><td>⋯</td><td>-2274.236</td><td>-2274.314</td><td>-2274.236</td><td>-2274.236</td><td>-2274.236</td><td>-2274.233</td><td>337.3112</td><td>-2274.235</td><td>-2274.232</td><td>337.3110</td></tr>\n",
       "\t<tr><th scope=row>Z.P_FPP.D11</th><td>4967.865</td><td>6154.056</td><td>2728.893</td><td>1854.573</td><td>1797.043</td><td>1697.930</td><td>2130.854</td><td>1916.427</td><td>1997.572</td><td>1915.428</td><td>⋯</td><td>-2264.038</td><td>-2264.066</td><td>-2264.039</td><td>-2264.039</td><td>-2264.039</td><td>-2264.035</td><td>376.1895</td><td>-2264.038</td><td>-2264.034</td><td>376.1892</td></tr>\n",
       "</tbody>\n",
       "</table>\n"
      ],
      "text/latex": [
       "A matrix: 2 × 29 of type dbl\n",
       "\\begin{tabular}{r|lllllllllllllllllllllllllllll}\n",
       "  & Z.FPP.D11 & Z.P\\_FPP.D11 & Z.NB.D11 & Z.DA.D30 & Z.Sert.D30 & Z.Epen1.D30 & Z.Astro.D30 & Z.DA.D52 & Z.Sert.D52 & Z.Epen1.D52 & Z.Astro.D52 & Z.brain\\_amygdala & Z.brain\\_anterior\\_cingulate\\_cortex & Z.brain\\_caudate\\_basal\\_ganglia & Z.brain\\_cerebellar\\_hemisphere & Z.brain\\_frontal\\_cortex & Z.brain\\_hypothalamus & Z.brain\\_nucleus\\_accumbens\\_basal\\_ganglia & Z.brain & Z.brain\\_putamen\\_basal\\_ganglia & Z.brain\\_spinal & Z.skin\\_nosun & Z.skin\\_sun & Z.heart\\_atrial & Z.heart & Z.blood & Z.cortex & Z.transf\\_fibroblasts & Z.transf\\_lymphocytes\\\\\n",
       "\\hline\n",
       "\tZ.FPP.D11 & 5954.694 & 4967.865 & 2805.984 & 1889.419 & 1905.926 & 1721.413 & 2150.356 & 2071.860 & 2132.251 & 2058.150 & 1824.401 & -714.2421 & -2274.236 & -2274.306 &  88.75802 & -2274.236 & -2274.236 & -2274.236 &  33.75122 & -2274.236 & -2274.314 & -2274.236 & -2274.236 & -2274.236 & -2274.233 & 337.3112 & -2274.235 & -2274.232 & 337.3110\\\\\n",
       "\tZ.P\\_FPP.D11 & 4967.865 & 6154.056 & 2728.893 & 1854.573 & 1797.043 & 1697.930 & 2130.854 & 1916.427 & 1997.572 & 1915.428 & 1708.733 & -588.4270 & -2264.039 & -2265.437 & 228.65586 & -2264.039 & -2264.039 & -2264.039 & 171.93773 & -2264.038 & -2264.066 & -2264.039 & -2264.039 & -2264.039 & -2264.035 & 376.1895 & -2264.038 & -2264.034 & 376.1892\\\\\n",
       "\\end{tabular}\n"
      ],
      "text/markdown": [
       "\n",
       "A matrix: 2 × 29 of type dbl\n",
       "\n",
       "| <!--/--> | Z.FPP.D11 | Z.P_FPP.D11 | Z.NB.D11 | Z.DA.D30 | Z.Sert.D30 | Z.Epen1.D30 | Z.Astro.D30 | Z.DA.D52 | Z.Sert.D52 | Z.Epen1.D52 | ⋯ | Z.brain_putamen_basal_ganglia | Z.brain_spinal | Z.skin_nosun | Z.skin_sun | Z.heart_atrial | Z.heart | Z.blood | Z.cortex | Z.transf_fibroblasts | Z.transf_lymphocytes |\n",
       "|---|---|---|---|---|---|---|---|---|---|---|---|---|---|---|---|---|---|---|---|---|---|\n",
       "| Z.FPP.D11 | 5954.694 | 4967.865 | 2805.984 | 1889.419 | 1905.926 | 1721.413 | 2150.356 | 2071.860 | 2132.251 | 2058.150 | ⋯ | -2274.236 | -2274.314 | -2274.236 | -2274.236 | -2274.236 | -2274.233 | 337.3112 | -2274.235 | -2274.232 | 337.3110 |\n",
       "| Z.P_FPP.D11 | 4967.865 | 6154.056 | 2728.893 | 1854.573 | 1797.043 | 1697.930 | 2130.854 | 1916.427 | 1997.572 | 1915.428 | ⋯ | -2264.038 | -2264.066 | -2264.039 | -2264.039 | -2264.039 | -2264.035 | 376.1895 | -2264.038 | -2264.034 | 376.1892 |\n",
       "\n"
      ],
      "text/plain": [
       "            Z.FPP.D11 Z.P_FPP.D11 Z.NB.D11 Z.DA.D30 Z.Sert.D30 Z.Epen1.D30\n",
       "Z.FPP.D11   5954.694  4967.865    2805.984 1889.419 1905.926   1721.413   \n",
       "Z.P_FPP.D11 4967.865  6154.056    2728.893 1854.573 1797.043   1697.930   \n",
       "            Z.Astro.D30 Z.DA.D52 Z.Sert.D52 Z.Epen1.D52 ⋯\n",
       "Z.FPP.D11   2150.356    2071.860 2132.251   2058.150    ⋯\n",
       "Z.P_FPP.D11 2130.854    1916.427 1997.572   1915.428    ⋯\n",
       "            Z.brain_putamen_basal_ganglia Z.brain_spinal Z.skin_nosun\n",
       "Z.FPP.D11   -2274.236                     -2274.314      -2274.236   \n",
       "Z.P_FPP.D11 -2264.038                     -2264.066      -2264.039   \n",
       "            Z.skin_sun Z.heart_atrial Z.heart   Z.blood  Z.cortex \n",
       "Z.FPP.D11   -2274.236  -2274.236      -2274.233 337.3112 -2274.235\n",
       "Z.P_FPP.D11 -2264.039  -2264.039      -2264.035 376.1895 -2264.038\n",
       "            Z.transf_fibroblasts Z.transf_lymphocytes\n",
       "Z.FPP.D11   -2274.232            337.3110            \n",
       "Z.P_FPP.D11 -2264.034            376.1892            "
      ]
     },
     "metadata": {},
     "output_type": "display_data"
    }
   ],
   "source": [
    "# matZ_0 = pcs0[,-c(2)] %*% t(pcs0[,-c(2)])\n",
    "matZ_0 = pcs0 %*% t(pcs0)\n",
    "head(matZ_0,2)"
   ]
  },
  {
   "cell_type": "code",
   "execution_count": 498,
   "metadata": {},
   "outputs": [],
   "source": [
    "rownames(matZ_0) <- gsub(\"Z.\",\"\",rownames(matZ_0))\n",
    "colnames(matZ_0) <- gsub(\"Z.\",\"\",colnames(matZ_0))\n",
    "\n",
    "# matZ_0 = scale(t(scale(matZ_0)))\n",
    "m = min(matZ_0)\n",
    "M = max(matZ_0)\n",
    "options(repr.plot.width = 12, repr.plot.height = 10)\n",
    "Heatmap(matZ_0, cluster_rows = T, cluster_columns = T, col = colorRamp2(c(m, M), c(\"white\", \"firebrick\")), \n",
    "       name = \"Z score \\ncorrelations\")"
   ]
  },
  {
   "cell_type": "code",
   "execution_count": 217,
   "metadata": {},
   "outputs": [
    {
     "data": {
      "image/png": "[encoded data removed]",
      "text/plain": [
       "plot without title"
      ]
     },
     "metadata": {},
     "output_type": "display_data"
    }
   ],
   "source": [
    "# matZ_0 = scale(t(scale(matZ_0)))\n",
    "m = min(matZ_0)\n",
    "M = max(matZ_0)\n",
    "options(repr.plot.width = 5.5, repr.plot.height = 4.5)\n",
    "Heatmap(matZ_0, cluster_rows = F, cluster_columns = F, col = colorRamp2(c(m, M), c(\"white\", \"firebrick\")), \n",
    "       name = \"Z score \\ncorrelations\")"
   ]
  },
  {
   "cell_type": "code",
   "execution_count": null,
   "metadata": {},
   "outputs": [],
   "source": []
  },
  {
   "cell_type": "code",
   "execution_count": null,
   "metadata": {},
   "outputs": [],
   "source": [
    "######### iPS data (i2QTL)"
   ]
  },
  {
   "cell_type": "code",
   "execution_count": 125,
   "metadata": {},
   "outputs": [],
   "source": [
    "# install.packages('R.utils')"
   ]
  },
  {
   "cell_type": "code",
   "execution_count": 127,
   "metadata": {},
   "outputs": [],
   "source": [
    "# library(R.utils)"
   ]
  },
  {
   "cell_type": "code",
   "execution_count": null,
   "metadata": {},
   "outputs": [
    {
     "name": "stderr",
     "output_type": "stream",
     "text": [
      "Warning message in fread(paste0(mydir, \"qtl_results_all.txt\"), sep = \"\\t\"):\n",
      "“Previous fread() session was not cleaned up properly. Cleaned up ok at the beginning of this fread() call.”"
     ]
    }
   ],
   "source": [
    "mydir = \"/hps/nobackup/hipsci/scratch/GTEx/i2QTL_all_associations/\"\n",
    "library(\"data.table\")\n",
    "#Double checked for i2QTL the alt allele is the assessed allele always?\n",
    "qtlResults <- fread(paste0(mydir,\"qtl_results_all.txt\"), sep=\"\\t\")\n",
    "qtlResults <- qtlResults[-grep(\"feature\", qtlResults$feature_id),]\n",
    "#Move to data frame\n",
    "qtlResults <- as.data.frame(qtlResults)\n",
    "#Add QTL lable.\n",
    "qtlResults[\"QTL\"] <- paste(qtlResults$snp_id, qtlResults$feature_id,sep=\"-\")\n",
    "qtlResults <- qtlResults[-which(duplicated(qtlResults$QTL)),]"
   ]
  },
  {
   "cell_type": "code",
   "execution_count": null,
   "metadata": {},
   "outputs": [],
   "source": [
    "head(qtlResults)"
   ]
  },
  {
   "cell_type": "code",
   "execution_count": null,
   "metadata": {},
   "outputs": [],
   "source": []
  },
  {
   "cell_type": "code",
   "execution_count": null,
   "metadata": {},
   "outputs": [],
   "source": []
  },
  {
   "cell_type": "code",
   "execution_count": null,
   "metadata": {},
   "outputs": [],
   "source": []
  }
 ],
 "metadata": {
  "kernelspec": {
   "display_name": "R",
   "language": "R",
   "name": "ir"
  },
  "language_info": {
   "codemirror_mode": "r",
   "file_extension": ".r",
   "mimetype": "text/x-r-source",
   "name": "R",
   "pygments_lexer": "r",
   "version": "3.4.3"
  }
 },
 "nbformat": 4,
 "nbformat_minor": 2
}
