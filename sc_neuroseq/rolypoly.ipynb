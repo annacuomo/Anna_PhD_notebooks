{
 "cells": [
  {
   "cell_type": "code",
   "execution_count": 1,
   "metadata": {},
   "outputs": [
    {
     "name": "stderr",
     "output_type": "stream",
     "text": [
      "Updating HTML index of packages in '.Library'\n",
      "Making 'packages.html' ... done\n"
     ]
    }
   ],
   "source": [
    "install.packages(\"rolypoly\")"
   ]
  },
  {
   "cell_type": "code",
   "execution_count": 78,
   "metadata": {},
   "outputs": [
    {
     "name": "stderr",
     "output_type": "stream",
     "text": [
      "Welcome to rolypoly! Say hi @diegoisworking.\n"
     ]
    }
   ],
   "source": [
    "library(rolypoly)"
   ]
  },
  {
   "cell_type": "code",
   "execution_count": null,
   "metadata": {},
   "outputs": [],
   "source": [
    "#### for this we would want GWAS-like summary stats\n",
    "# rows are SNPs,\n",
    "# columns: chrom  pos   rsid    beta    se      maf"
   ]
  },
  {
   "cell_type": "code",
   "execution_count": null,
   "metadata": {},
   "outputs": [],
   "source": [
    "#### secondly, we want to look at gene expression\n",
    "# rows are genes,\n",
    "# columns: celltype1 celltype2 celltype3 (for instance)"
   ]
  },
  {
   "cell_type": "code",
   "execution_count": null,
   "metadata": {},
   "outputs": [],
   "source": [
    "#### third, we need gene annotations to map genes to genetic variants\n",
    "# rows are genes (no rownames)\n",
    "# columns: chrom  start end label (gene names as in rownames of expression)"
   ]
  },
  {
   "cell_type": "code",
   "execution_count": null,
   "metadata": {},
   "outputs": [],
   "source": [
    "##############################################\n",
    "################# GWAS #######################\n",
    "##############################################"
   ]
  },
  {
   "cell_type": "code",
   "execution_count": null,
   "metadata": {},
   "outputs": [],
   "source": [
    "# meta-analysis PD GWAS\n",
    "# PDWBS = web-based study of Parkinson's disease\n",
    "# PDGene\n",
    "# https://www.ncbi.nlm.nih.gov/pmc/articles/PMC5812477/"
   ]
  },
  {
   "cell_type": "code",
   "execution_count": 79,
   "metadata": {},
   "outputs": [
    {
     "data": {
      "text/html": [
       "<table>\n",
       "<caption>A data.frame: 6 × 14</caption>\n",
       "<thead>\n",
       "\t<tr><th scope=col>SNP</th><th scope=col>CHR</th><th scope=col>BP</th><th scope=col>A1</th><th scope=col>A2</th><th scope=col>P.PDGENE</th><th scope=col>OR.PDGENE</th><th scope=col>SE.PDGENE</th><th scope=col>P.PDWBS</th><th scope=col>OR.PDWBS</th><th scope=col>SE.PDWBS</th><th scope=col>P.META</th><th scope=col>OR.META</th><th scope=col>SE.META</th></tr>\n",
       "\t<tr><th scope=col>&lt;chr&gt;</th><th scope=col>&lt;int&gt;</th><th scope=col>&lt;int&gt;</th><th scope=col>&lt;chr&gt;</th><th scope=col>&lt;chr&gt;</th><th scope=col>&lt;dbl&gt;</th><th scope=col>&lt;dbl&gt;</th><th scope=col>&lt;dbl&gt;</th><th scope=col>&lt;dbl&gt;</th><th scope=col>&lt;dbl&gt;</th><th scope=col>&lt;dbl&gt;</th><th scope=col>&lt;dbl&gt;</th><th scope=col>&lt;dbl&gt;</th><th scope=col>&lt;dbl&gt;</th></tr>\n",
       "</thead>\n",
       "<tbody>\n",
       "\t<tr><td>rs10000290</td><td>4</td><td>15753299</td><td>G</td><td>A</td><td>6.61e-07</td><td>0.89</td><td>0.023</td><td>4.95e-03</td><td>0.928</td><td>0.027</td><td>2.27e-08</td><td>0.906</td><td>0.018</td></tr>\n",
       "\t<tr><td>rs10000339</td><td>4</td><td>80878580</td><td>C</td><td>T</td><td>5.38e-05</td><td>0.93</td><td>0.018</td><td>3.38e-01</td><td>1.021</td><td>0.021</td><td>1.37e-02</td><td>0.967</td><td>0.014</td></tr>\n",
       "\t<tr><td>rs10002448</td><td>4</td><td>77269262</td><td>G</td><td>A</td><td>6.66e-07</td><td>0.92</td><td>0.017</td><td>2.32e-03</td><td>0.943</td><td>0.019</td><td>8.81e-09</td><td>0.930</td><td>0.013</td></tr>\n",
       "\t<tr><td>rs10003708</td><td>4</td><td>90643051</td><td>A</td><td>C</td><td>1.61e-25</td><td>1.35</td><td>0.029</td><td>1.02e-18</td><td>1.335</td><td>0.033</td><td>1.46e-42</td><td>1.344</td><td>0.022</td></tr>\n",
       "\t<tr><td>rs10004443</td><td>4</td><td>77147513</td><td>A</td><td>G</td><td>3.04e-06</td><td>1.12</td><td>0.024</td><td>5.52e-04</td><td>1.097</td><td>0.027</td><td>7.52e-09</td><td>1.110</td><td>0.018</td></tr>\n",
       "\t<tr><td>rs10005305</td><td>4</td><td>15694890</td><td>G</td><td>A</td><td>4.86e-05</td><td>0.94</td><td>0.015</td><td>5.55e-02</td><td>0.964</td><td>0.019</td><td>1.26e-05</td><td>0.949</td><td>0.012</td></tr>\n",
       "</tbody>\n",
       "</table>\n"
      ],
      "text/latex": [
       "A data.frame: 6 × 14\n",
       "\\begin{tabular}{r|llllllllllllll}\n",
       " SNP & CHR & BP & A1 & A2 & P.PDGENE & OR.PDGENE & SE.PDGENE & P.PDWBS & OR.PDWBS & SE.PDWBS & P.META & OR.META & SE.META\\\\\n",
       " <chr> & <int> & <int> & <chr> & <chr> & <dbl> & <dbl> & <dbl> & <dbl> & <dbl> & <dbl> & <dbl> & <dbl> & <dbl>\\\\\n",
       "\\hline\n",
       "\t rs10000290 & 4 & 15753299 & G & A & 6.61e-07 & 0.89 & 0.023 & 4.95e-03 & 0.928 & 0.027 & 2.27e-08 & 0.906 & 0.018\\\\\n",
       "\t rs10000339 & 4 & 80878580 & C & T & 5.38e-05 & 0.93 & 0.018 & 3.38e-01 & 1.021 & 0.021 & 1.37e-02 & 0.967 & 0.014\\\\\n",
       "\t rs10002448 & 4 & 77269262 & G & A & 6.66e-07 & 0.92 & 0.017 & 2.32e-03 & 0.943 & 0.019 & 8.81e-09 & 0.930 & 0.013\\\\\n",
       "\t rs10003708 & 4 & 90643051 & A & C & 1.61e-25 & 1.35 & 0.029 & 1.02e-18 & 1.335 & 0.033 & 1.46e-42 & 1.344 & 0.022\\\\\n",
       "\t rs10004443 & 4 & 77147513 & A & G & 3.04e-06 & 1.12 & 0.024 & 5.52e-04 & 1.097 & 0.027 & 7.52e-09 & 1.110 & 0.018\\\\\n",
       "\t rs10005305 & 4 & 15694890 & G & A & 4.86e-05 & 0.94 & 0.015 & 5.55e-02 & 0.964 & 0.019 & 1.26e-05 & 0.949 & 0.012\\\\\n",
       "\\end{tabular}\n"
      ],
      "text/markdown": [
       "\n",
       "A data.frame: 6 × 14\n",
       "\n",
       "| SNP &lt;chr&gt; | CHR &lt;int&gt; | BP &lt;int&gt; | A1 &lt;chr&gt; | A2 &lt;chr&gt; | P.PDGENE &lt;dbl&gt; | OR.PDGENE &lt;dbl&gt; | SE.PDGENE &lt;dbl&gt; | P.PDWBS &lt;dbl&gt; | OR.PDWBS &lt;dbl&gt; | SE.PDWBS &lt;dbl&gt; | P.META &lt;dbl&gt; | OR.META &lt;dbl&gt; | SE.META &lt;dbl&gt; |\n",
       "|---|---|---|---|---|---|---|---|---|---|---|---|---|---|\n",
       "| rs10000290 | 4 | 15753299 | G | A | 6.61e-07 | 0.89 | 0.023 | 4.95e-03 | 0.928 | 0.027 | 2.27e-08 | 0.906 | 0.018 |\n",
       "| rs10000339 | 4 | 80878580 | C | T | 5.38e-05 | 0.93 | 0.018 | 3.38e-01 | 1.021 | 0.021 | 1.37e-02 | 0.967 | 0.014 |\n",
       "| rs10002448 | 4 | 77269262 | G | A | 6.66e-07 | 0.92 | 0.017 | 2.32e-03 | 0.943 | 0.019 | 8.81e-09 | 0.930 | 0.013 |\n",
       "| rs10003708 | 4 | 90643051 | A | C | 1.61e-25 | 1.35 | 0.029 | 1.02e-18 | 1.335 | 0.033 | 1.46e-42 | 1.344 | 0.022 |\n",
       "| rs10004443 | 4 | 77147513 | A | G | 3.04e-06 | 1.12 | 0.024 | 5.52e-04 | 1.097 | 0.027 | 7.52e-09 | 1.110 | 0.018 |\n",
       "| rs10005305 | 4 | 15694890 | G | A | 4.86e-05 | 0.94 | 0.015 | 5.55e-02 | 0.964 | 0.019 | 1.26e-05 | 0.949 | 0.012 |\n",
       "\n"
      ],
      "text/plain": [
       "  SNP        CHR BP       A1 A2 P.PDGENE OR.PDGENE SE.PDGENE P.PDWBS  OR.PDWBS\n",
       "1 rs10000290 4   15753299 G  A  6.61e-07 0.89      0.023     4.95e-03 0.928   \n",
       "2 rs10000339 4   80878580 C  T  5.38e-05 0.93      0.018     3.38e-01 1.021   \n",
       "3 rs10002448 4   77269262 G  A  6.66e-07 0.92      0.017     2.32e-03 0.943   \n",
       "4 rs10003708 4   90643051 A  C  1.61e-25 1.35      0.029     1.02e-18 1.335   \n",
       "5 rs10004443 4   77147513 A  G  3.04e-06 1.12      0.024     5.52e-04 1.097   \n",
       "6 rs10005305 4   15694890 G  A  4.86e-05 0.94      0.015     5.55e-02 0.964   \n",
       "  SE.PDWBS P.META   OR.META SE.META\n",
       "1 0.027    2.27e-08 0.906   0.018  \n",
       "2 0.021    1.37e-02 0.967   0.014  \n",
       "3 0.019    8.81e-09 0.930   0.013  \n",
       "4 0.033    1.46e-42 1.344   0.022  \n",
       "5 0.027    7.52e-09 1.110   0.018  \n",
       "6 0.019    1.26e-05 0.949   0.012  "
      ]
     },
     "metadata": {},
     "output_type": "display_data"
    }
   ],
   "source": [
    "PD_filename = \"/hps/nobackup/stegle/users/acuomo/all_scripts/sc_neuroseq/eqtl/gwas/PD_meta_analysis_PDGENE_PDWBS.txt\"\n",
    "PD = read.table(PD_filename, header = T)\n",
    "head(PD)"
   ]
  },
  {
   "cell_type": "code",
   "execution_count": 392,
   "metadata": {},
   "outputs": [
    {
     "data": {
      "text/html": [
       "<ol class=list-inline>\n",
       "\t<li>4</li>\n",
       "\t<li>1</li>\n",
       "\t<li>17</li>\n",
       "\t<li>6</li>\n",
       "\t<li>3</li>\n",
       "\t<li>5</li>\n",
       "\t<li>7</li>\n",
       "\t<li>8</li>\n",
       "\t<li>2</li>\n",
       "\t<li>9</li>\n",
       "\t<li>16</li>\n",
       "\t<li>10</li>\n",
       "\t<li>14</li>\n",
       "\t<li>12</li>\n",
       "\t<li>18</li>\n",
       "\t<li>11</li>\n",
       "\t<li>15</li>\n",
       "\t<li>19</li>\n",
       "\t<li>22</li>\n",
       "\t<li>13</li>\n",
       "\t<li>21</li>\n",
       "\t<li>20</li>\n",
       "</ol>\n"
      ],
      "text/latex": [
       "\\begin{enumerate*}\n",
       "\\item 4\n",
       "\\item 1\n",
       "\\item 17\n",
       "\\item 6\n",
       "\\item 3\n",
       "\\item 5\n",
       "\\item 7\n",
       "\\item 8\n",
       "\\item 2\n",
       "\\item 9\n",
       "\\item 16\n",
       "\\item 10\n",
       "\\item 14\n",
       "\\item 12\n",
       "\\item 18\n",
       "\\item 11\n",
       "\\item 15\n",
       "\\item 19\n",
       "\\item 22\n",
       "\\item 13\n",
       "\\item 21\n",
       "\\item 20\n",
       "\\end{enumerate*}\n"
      ],
      "text/markdown": [
       "1. 4\n",
       "2. 1\n",
       "3. 17\n",
       "4. 6\n",
       "5. 3\n",
       "6. 5\n",
       "7. 7\n",
       "8. 8\n",
       "9. 2\n",
       "10. 9\n",
       "11. 16\n",
       "12. 10\n",
       "13. 14\n",
       "14. 12\n",
       "15. 18\n",
       "16. 11\n",
       "17. 15\n",
       "18. 19\n",
       "19. 22\n",
       "20. 13\n",
       "21. 21\n",
       "22. 20\n",
       "\n",
       "\n"
      ],
      "text/plain": [
       " [1]  4  1 17  6  3  5  7  8  2  9 16 10 14 12 18 11 15 19 22 13 21 20"
      ]
     },
     "metadata": {},
     "output_type": "display_data"
    }
   ],
   "source": [
    "PD = PD[PD$CHR %in% c(1:22),]\n",
    "unique(PD$CHR)"
   ]
  },
  {
   "cell_type": "code",
   "execution_count": 393,
   "metadata": {},
   "outputs": [],
   "source": [
    "# rows are SNPs,\n",
    "# columns: chrom  pos   rsid    beta    se      maf"
   ]
  },
  {
   "cell_type": "code",
   "execution_count": 394,
   "metadata": {},
   "outputs": [],
   "source": [
    "# META\n",
    "gwas_meta = data.frame(chrom = PD$CHR, pos = PD$BP, rsid = PD$SNP, beta = PD$OR.META,\n",
    "                 se = PD$SE.META, maf = 0.45)"
   ]
  },
  {
   "cell_type": "code",
   "execution_count": 395,
   "metadata": {},
   "outputs": [],
   "source": [
    "# PDGENE\n",
    "gwas_pdgene = data.frame(chrom = PD$CHR, pos = PD$BP, rsid = PD$SNP, beta = PD$OR.PDGENE,\n",
    "                 se = PD$SE.PDGENE, maf = 0.45)"
   ]
  },
  {
   "cell_type": "code",
   "execution_count": 396,
   "metadata": {},
   "outputs": [],
   "source": [
    "## PDWBS\n",
    "gwas_pdwbs = data.frame(chrom = PD$CHR, pos = PD$BP, rsid = PD$SNP, beta = PD$OR.PDGENE,\n",
    "                 se = PD$SE.PDGENE, maf = 0.45)"
   ]
  },
  {
   "cell_type": "code",
   "execution_count": 384,
   "metadata": {},
   "outputs": [],
   "source": []
  },
  {
   "cell_type": "code",
   "execution_count": 261,
   "metadata": {},
   "outputs": [],
   "source": [
    "###################################################\n",
    "################# Gene Annotations ################\n",
    "###################################################"
   ]
  },
  {
   "cell_type": "code",
   "execution_count": 229,
   "metadata": {},
   "outputs": [
    {
     "data": {
      "text/html": [
       "<table>\n",
       "<caption>A data.frame: 2 × 4</caption>\n",
       "<thead>\n",
       "\t<tr><th scope=col>feature_id</th><th scope=col>chromosome</th><th scope=col>start</th><th scope=col>end</th></tr>\n",
       "\t<tr><th scope=col>&lt;chr&gt;</th><th scope=col>&lt;chr&gt;</th><th scope=col>&lt;int&gt;</th><th scope=col>&lt;int&gt;</th></tr>\n",
       "</thead>\n",
       "<tbody>\n",
       "\t<tr><td>ENSG00000000003</td><td>X </td><td>99883667</td><td>99894988</td></tr>\n",
       "\t<tr><td>ENSG00000000419</td><td>20</td><td>49551404</td><td>49575092</td></tr>\n",
       "</tbody>\n",
       "</table>\n"
      ],
      "text/latex": [
       "A data.frame: 2 × 4\n",
       "\\begin{tabular}{r|llll}\n",
       " feature\\_id & chromosome & start & end\\\\\n",
       " <chr> & <chr> & <int> & <int>\\\\\n",
       "\\hline\n",
       "\t ENSG00000000003 & X  & 99883667 & 99894988\\\\\n",
       "\t ENSG00000000419 & 20 & 49551404 & 49575092\\\\\n",
       "\\end{tabular}\n"
      ],
      "text/markdown": [
       "\n",
       "A data.frame: 2 × 4\n",
       "\n",
       "| feature_id &lt;chr&gt; | chromosome &lt;chr&gt; | start &lt;int&gt; | end &lt;int&gt; |\n",
       "|---|---|---|---|\n",
       "| ENSG00000000003 | X  | 99883667 | 99894988 |\n",
       "| ENSG00000000419 | 20 | 49551404 | 49575092 |\n",
       "\n"
      ],
      "text/plain": [
       "  feature_id      chromosome start    end     \n",
       "1 ENSG00000000003 X          99883667 99894988\n",
       "2 ENSG00000000419 20         49551404 49575092"
      ]
     },
     "metadata": {},
     "output_type": "display_data"
    }
   ],
   "source": [
    "anno_filename = \"/hps/nobackup/hipsci/scratch/singlecell_endodiff/data_processed/scQTLs/annos/ensembl_gene_id_annos.tsv\"\n",
    "anno1 = read.table(anno_filename, header = T)\n",
    "head(anno1,2)"
   ]
  },
  {
   "cell_type": "code",
   "execution_count": 230,
   "metadata": {},
   "outputs": [],
   "source": [
    "# rows are genes (no rownames)\n",
    "# columns: chrom  start end label (gene names as in rownames of expression)"
   ]
  },
  {
   "cell_type": "code",
   "execution_count": 231,
   "metadata": {},
   "outputs": [
    {
     "data": {
      "text/html": [
       "<table>\n",
       "<caption>A data.frame: 2 × 4</caption>\n",
       "<thead>\n",
       "\t<tr><th scope=col>chrom</th><th scope=col>start</th><th scope=col>end</th><th scope=col>label</th></tr>\n",
       "\t<tr><th scope=col>&lt;chr&gt;</th><th scope=col>&lt;int&gt;</th><th scope=col>&lt;int&gt;</th><th scope=col>&lt;chr&gt;</th></tr>\n",
       "</thead>\n",
       "<tbody>\n",
       "\t<tr><td>X </td><td>99883667</td><td>99894988</td><td>ENSG00000000003</td></tr>\n",
       "\t<tr><td>20</td><td>49551404</td><td>49575092</td><td>ENSG00000000419</td></tr>\n",
       "</tbody>\n",
       "</table>\n"
      ],
      "text/latex": [
       "A data.frame: 2 × 4\n",
       "\\begin{tabular}{r|llll}\n",
       " chrom & start & end & label\\\\\n",
       " <chr> & <int> & <int> & <chr>\\\\\n",
       "\\hline\n",
       "\t X  & 99883667 & 99894988 & ENSG00000000003\\\\\n",
       "\t 20 & 49551404 & 49575092 & ENSG00000000419\\\\\n",
       "\\end{tabular}\n"
      ],
      "text/markdown": [
       "\n",
       "A data.frame: 2 × 4\n",
       "\n",
       "| chrom &lt;chr&gt; | start &lt;int&gt; | end &lt;int&gt; | label &lt;chr&gt; |\n",
       "|---|---|---|---|\n",
       "| X  | 99883667 | 99894988 | ENSG00000000003 |\n",
       "| 20 | 49551404 | 49575092 | ENSG00000000419 |\n",
       "\n"
      ],
      "text/plain": [
       "  chrom start    end      label          \n",
       "1 X     99883667 99894988 ENSG00000000003\n",
       "2 20    49551404 49575092 ENSG00000000419"
      ]
     },
     "metadata": {},
     "output_type": "display_data"
    }
   ],
   "source": [
    "anno = data.frame(chrom = anno1$chromosome, start = anno1$start,\n",
    "                 end = anno1$end, label = anno1$feature_id)\n",
    "head(anno,2)"
   ]
  },
  {
   "cell_type": "code",
   "execution_count": 232,
   "metadata": {},
   "outputs": [],
   "source": [
    "anno = anno[anno$chrom %in% c(1:22),]"
   ]
  },
  {
   "cell_type": "code",
   "execution_count": 233,
   "metadata": {},
   "outputs": [],
   "source": [
    "####################################################\n",
    "################# Expression #######################\n",
    "####################################################"
   ]
  },
  {
   "cell_type": "code",
   "execution_count": 234,
   "metadata": {},
   "outputs": [],
   "source": [
    "### D11 expression (averaged per donor)"
   ]
  },
  {
   "cell_type": "code",
   "execution_count": 278,
   "metadata": {},
   "outputs": [],
   "source": [
    "# mydir = \"/nfs/leia/research/stegle/dseaton/hipsci/singlecell_neuroseq/data/data_processed/pool1_13_noddd_D11/qtl_analysis/eqtl_discovery/\"\n",
    "# celltype = \"celltype_FPP/\"\n",
    "# celltype = \"celltype_P_FPP/\"\n",
    "# celltype = \"celltype_NB/\"\n",
    "mysuffix = \"phenotypes.tsv\""
   ]
  },
  {
   "cell_type": "code",
   "execution_count": 279,
   "metadata": {},
   "outputs": [],
   "source": [
    "### D30 expression (averaged per donor)"
   ]
  },
  {
   "cell_type": "code",
   "execution_count": 311,
   "metadata": {},
   "outputs": [],
   "source": [
    "# mydir = \"/nfs/leia/research/stegle/dseaton/hipsci/singlecell_neuroseq/data/data_processed/pool1_13_noddd_D30/qtl_analysis/eqtl_discovery/\"\n",
    "# celltype = \"celltype_DA/\"\n",
    "# celltype = \"celltype_Sert/\"\n",
    "# celltype = \"celltype_Epen1/\"\n",
    "# celltype = \"celltype_Astro/\"\n",
    "mysuffix = \"phenotypes.tsv\""
   ]
  },
  {
   "cell_type": "code",
   "execution_count": 312,
   "metadata": {},
   "outputs": [],
   "source": [
    "### D52 expression (averaged per donor)"
   ]
  },
  {
   "cell_type": "code",
   "execution_count": 355,
   "metadata": {},
   "outputs": [],
   "source": [
    "mydir = \"/nfs/leia/research/stegle/dseaton/hipsci/singlecell_neuroseq/data/data_processed/pool1_17_D52/qtl_analysis/eqtl_discovery/\"\n",
    "celltype = \"celltype_DA/\"\n",
    "# celltype = \"celltype_Sert/\"\n",
    "# celltype = \"celltype_Epen1/\"\n",
    "# celltype = \"celltype_Astro/\"\n",
    "mysuffix = \"phenotypes.tsv\""
   ]
  },
  {
   "cell_type": "code",
   "execution_count": 356,
   "metadata": {
    "scrolled": true
   },
   "outputs": [
    {
     "data": {
      "text/html": [
       "<table>\n",
       "<caption>A data.frame: 2 × 180</caption>\n",
       "<thead>\n",
       "\t<tr><th scope=col>ensembl_gene_id</th><th scope=col>HPSI0114i.bezi_3</th><th scope=col>HPSI0114i.eipl_1</th><th scope=col>HPSI0114i.fikt_3</th><th scope=col>HPSI0114i.kolf_2</th><th scope=col>HPSI0114i.lexy_2</th><th scope=col>HPSI0114i.posc_1</th><th scope=col>HPSI0114i.rozh_4</th><th scope=col>HPSI0114i.vass_1</th><th scope=col>HPSI0114i.wegi_1</th><th scope=col>⋯</th><th scope=col>HPSI1113i.hayt_3</th><th scope=col>HPSI1113i.ieki_3</th><th scope=col>HPSI1113i.podx_1</th><th scope=col>HPSI1113i.qolg_1</th><th scope=col>HPSI1113i.qorq_1</th><th scope=col>HPSI1113i.vuud_2</th><th scope=col>HPSI1114i.kuul_1</th><th scope=col>HPSI1114i.ualf_6</th><th scope=col>HPSI1114i.zuuy_4</th><th scope=col>HPSI1213i.hehd_1</th></tr>\n",
       "\t<tr><th scope=col>&lt;chr&gt;</th><th scope=col>&lt;dbl&gt;</th><th scope=col>&lt;dbl&gt;</th><th scope=col>&lt;dbl&gt;</th><th scope=col>&lt;dbl&gt;</th><th scope=col>&lt;dbl&gt;</th><th scope=col>&lt;dbl&gt;</th><th scope=col>&lt;dbl&gt;</th><th scope=col>&lt;dbl&gt;</th><th scope=col>&lt;dbl&gt;</th><th scope=col>⋯</th><th scope=col>&lt;dbl&gt;</th><th scope=col>&lt;dbl&gt;</th><th scope=col>&lt;dbl&gt;</th><th scope=col>&lt;dbl&gt;</th><th scope=col>&lt;dbl&gt;</th><th scope=col>&lt;dbl&gt;</th><th scope=col>&lt;dbl&gt;</th><th scope=col>&lt;dbl&gt;</th><th scope=col>&lt;dbl&gt;</th><th scope=col>&lt;dbl&gt;</th></tr>\n",
       "</thead>\n",
       "<tbody>\n",
       "\t<tr><td>ENSG00000261657</td><td>0.2129366</td><td>0.17412873</td><td>0.16483773</td><td>0.241951913</td><td>0.19628760</td><td>0.1350252</td><td>0.28562975</td><td>0.15251644</td><td>0.17694168</td><td>⋯</td><td>0.16641314</td><td>0.2596782</td><td>0.13344060</td><td>0.19834630</td><td>0.21171346</td><td>0.16643322</td><td>0.18686631</td><td>0.1909191</td><td>0.08671865</td><td>0.23493059</td></tr>\n",
       "\t<tr><td>ENSG00000227640</td><td>0.0000000</td><td>0.03499793</td><td>0.01862505</td><td>0.008332732</td><td>0.03986735</td><td>0.0000000</td><td>0.05573122</td><td>0.02829643</td><td>0.01311885</td><td>⋯</td><td>0.01713639</td><td>0.0000000</td><td>0.01212331</td><td>0.02206481</td><td>0.08416077</td><td>0.01983394</td><td>0.00443778</td><td>0.0000000</td><td>0.00000000</td><td>0.03132048</td></tr>\n",
       "</tbody>\n",
       "</table>\n"
      ],
      "text/latex": [
       "A data.frame: 2 × 180\n",
       "\\begin{tabular}{r|llllllllllllllllllllllllllllllllllllllllllllllllllllllllllllllllllllllllllllllllllllllllllllllllllllllllllllllllllllllllllllllllllllllllllllllllllllllllllllllllllllllllllllllllllll}\n",
       " ensembl\\_gene\\_id & HPSI0114i.bezi\\_3 & HPSI0114i.eipl\\_1 & HPSI0114i.fikt\\_3 & HPSI0114i.kolf\\_2 & HPSI0114i.lexy\\_2 & HPSI0114i.posc\\_1 & HPSI0114i.rozh\\_4 & HPSI0114i.vass\\_1 & HPSI0114i.wegi\\_1 & HPSI0114i.zapk\\_2 & HPSI0115i.aion\\_2 & HPSI0115i.aoxv\\_1 & HPSI0115i.bimq\\_4 & HPSI0115i.boqx\\_2 & HPSI0115i.gifk\\_1 & HPSI0115i.gost\\_2 & HPSI0115i.hecn\\_6 & HPSI0115i.iiyk\\_2 & HPSI0115i.iuad\\_2 & HPSI0115i.jakt\\_1 & HPSI0115i.jotn\\_2 & HPSI0115i.kozf\\_1 & HPSI0115i.paim\\_1 & HPSI0115i.qecv\\_2 & HPSI0115i.quze\\_6 & HPSI0115i.sehp\\_2 & HPSI0115i.tiku\\_3 & HPSI0115i.timk\\_4 & HPSI0115i.uupc\\_2 & HPSI0213i.nawk\\_55 & HPSI0214i.datg\\_2 & HPSI0214i.eiwy\\_1 & HPSI0214i.feec\\_2 & HPSI0214i.giju\\_3 & HPSI0214i.heth\\_1 & HPSI0214i.kucg\\_2 & HPSI0214i.pelm\\_3 & HPSI0214i.poih\\_2 & HPSI0214i.rayr\\_1 & HPSI0215i.deyz\\_2 & HPSI0215i.fawm\\_2 & HPSI0215i.hipn\\_1 & HPSI0215i.oilg\\_1 & HPSI0215i.romx\\_1 & HPSI0215i.uiao\\_2 & HPSI0215i.yoch\\_6 & HPSI0215i.zett\\_5 & HPSI0314i.bubh\\_3 & HPSI0314i.cuhk\\_2 & HPSI0314i.hoik\\_1 & HPSI0314i.qaqx\\_1 & HPSI0314i.sojd\\_3 & HPSI0314i.uict\\_1 & HPSI0314i.wigw\\_2 & HPSI0314i.xugn\\_2 & HPSI0413i.corn\\_1 & HPSI0413i.coxy\\_33 & HPSI0413i.nudd\\_1 & HPSI0413i.peop\\_4 & HPSI0413i.yotv\\_2 & HPSI0414i.ceik\\_1 & HPSI0414i.gesg\\_2 & HPSI0414i.mita\\_1 & HPSI0414i.oaqd\\_2 & HPSI0414i.sebn\\_3 & HPSI0414i.seru\\_1 & HPSI0414i.uawq\\_2 & HPSI0414i.xojn\\_3 & HPSI0513i.aipt\\_33 & HPSI0513i.debk\\_9 & HPSI0513i.dipe\\_1 & HPSI0513i.dulv\\_1 & HPSI0513i.fejf\\_2 & HPSI0513i.giuf\\_1 & HPSI0513i.momt\\_2 & HPSI0513i.oarz\\_22 & HPSI0513i.oibg\\_1 & HPSI0513i.sucd\\_3 & HPSI0513i.suzg\\_3 & HPSI0513i.uoxz\\_4 & HPSI0513i.veve\\_2 & HPSI0514i.fiaj\\_1 & HPSI0514i.lako\\_1 & HPSI0514i.letw\\_1 & HPSI0514i.naah\\_2 & HPSI0514i.oekw\\_2 & HPSI0514i.oupf\\_6 & HPSI0514i.puie\\_4 & HPSI0514i.qihv\\_1 & HPSI0514i.rutc\\_2 & HPSI0514i.sohd\\_2 & HPSI0514i.tert\\_1 & HPSI0514i.uenn\\_3 & HPSI0514i.wiii\\_3 & HPSI0514i.yewo\\_4 & HPSI0613i.aevs\\_1 & HPSI0613i.bawa\\_1 & HPSI0613i.bohf\\_1 & HPSI0613i.eojr\\_2 & HPSI0613i.hegp\\_3 & HPSI0613i.hikj\\_2 & HPSI0613i.liun\\_22 & HPSI0613i.lizq\\_3 & HPSI0613i.oomz\\_22 & HPSI0613i.qony\\_1 & HPSI0613i.xavk\\_3 & HPSI0614i.juzt\\_4 & HPSI0614i.liqa\\_1 & HPSI0614i.lirf\\_5 & HPSI0614i.miaj\\_4 & HPSI0614i.oicx\\_2 & HPSI0614i.puhk\\_2 & HPSI0614i.qunz\\_2 & HPSI0614i.uevq\\_6 & HPSI0614i.voce\\_1 & HPSI0614i.wihj\\_4 & HPSI0713i.aehn\\_22 & HPSI0714i.burb\\_1 & HPSI0714i.iudw\\_1 & HPSI0714i.keui\\_4 & HPSI0714i.kute\\_5 & HPSI0714i.oatm\\_1 & HPSI0714i.pipw\\_4 & HPSI0715i.aowh\\_2 & HPSI0715i.meue\\_5 & HPSI0715i.zaie\\_5 & HPSI0813i.aizi\\_3 & HPSI0813i.ffdc\\_1 & HPSI0813i.guss\\_1 & HPSI0813i.iill\\_3 & HPSI0813i.mioj\\_1 & HPSI0813i.peoj\\_1 & HPSI0813i.uaqe\\_1 & HPSI0813i.wots\\_3 & HPSI0813i.zexw\\_3 & HPSI0814i.bokz\\_6 & HPSI0814i.doao\\_1 & HPSI0814i.siqu\\_4 & HPSI0913i.eorc\\_2 & HPSI0913i.iuqb\\_1 & HPSI0913i.ruql\\_3 & HPSI0914i.euts\\_3 & HPSI0914i.iezw\\_2 & HPSI0914i.jejf\\_2 & HPSI0914i.kajh\\_2 & HPSI0914i.laey\\_6 & HPSI0914i.ouvb\\_2 & HPSI0914i.rejf\\_2 & HPSI0914i.suop\\_5 & HPSI0914i.vaka\\_5 & HPSI0914i.yuvg\\_2 & HPSI0914i.zerv\\_7 & HPSI1013i.garx\\_2 & HPSI1013i.hiaf\\_1 & HPSI1013i.jufd\\_3 & HPSI1013i.kuxp\\_1 & HPSI1013i.sita\\_1 & HPSI1013i.woci\\_1 & HPSI1014i.babz\\_3 & HPSI1014i.eesb\\_1 & HPSI1014i.kefb\\_1 & HPSI1014i.qayj\\_4 & HPSI1014i.quls\\_2 & HPSI1014i.roug\\_3 & HPSI1014i.sehl\\_6 & HPSI1014i.tixi\\_4 & HPSI1014i.tuju\\_1 & HPSI1014i.vils\\_1 & HPSI1113i.bima\\_1 & HPSI1113i.hayt\\_3 & HPSI1113i.ieki\\_3 & HPSI1113i.podx\\_1 & HPSI1113i.qolg\\_1 & HPSI1113i.qorq\\_1 & HPSI1113i.vuud\\_2 & HPSI1114i.kuul\\_1 & HPSI1114i.ualf\\_6 & HPSI1114i.zuuy\\_4 & HPSI1213i.hehd\\_1\\\\\n",
       " <chr> & <dbl> & <dbl> & <dbl> & <dbl> & <dbl> & <dbl> & <dbl> & <dbl> & <dbl> & <dbl> & <dbl> & <dbl> & <dbl> & <dbl> & <dbl> & <dbl> & <dbl> & <dbl> & <dbl> & <dbl> & <dbl> & <dbl> & <dbl> & <dbl> & <dbl> & <dbl> & <dbl> & <dbl> & <dbl> & <dbl> & <dbl> & <dbl> & <dbl> & <dbl> & <dbl> & <dbl> & <dbl> & <dbl> & <dbl> & <dbl> & <dbl> & <dbl> & <dbl> & <dbl> & <dbl> & <dbl> & <dbl> & <dbl> & <dbl> & <dbl> & <dbl> & <dbl> & <dbl> & <dbl> & <dbl> & <dbl> & <dbl> & <dbl> & <dbl> & <dbl> & <dbl> & <dbl> & <dbl> & <dbl> & <dbl> & <dbl> & <dbl> & <dbl> & <dbl> & <dbl> & <dbl> & <dbl> & <dbl> & <dbl> & <dbl> & <dbl> & <dbl> & <dbl> & <dbl> & <dbl> & <dbl> & <dbl> & <dbl> & <dbl> & <dbl> & <dbl> & <dbl> & <dbl> & <dbl> & <dbl> & <dbl> & <dbl> & <dbl> & <dbl> & <dbl> & <dbl> & <dbl> & <dbl> & <dbl> & <dbl> & <dbl> & <dbl> & <dbl> & <dbl> & <dbl> & <dbl> & <dbl> & <dbl> & <dbl> & <dbl> & <dbl> & <dbl> & <dbl> & <dbl> & <dbl> & <dbl> & <dbl> & <dbl> & <dbl> & <dbl> & <dbl> & <dbl> & <dbl> & <dbl> & <dbl> & <dbl> & <dbl> & <dbl> & <dbl> & <dbl> & <dbl> & <dbl> & <dbl> & <dbl> & <dbl> & <dbl> & <dbl> & <dbl> & <dbl> & <dbl> & <dbl> & <dbl> & <dbl> & <dbl> & <dbl> & <dbl> & <dbl> & <dbl> & <dbl> & <dbl> & <dbl> & <dbl> & <dbl> & <dbl> & <dbl> & <dbl> & <dbl> & <dbl> & <dbl> & <dbl> & <dbl> & <dbl> & <dbl> & <dbl> & <dbl> & <dbl> & <dbl> & <dbl> & <dbl> & <dbl> & <dbl> & <dbl> & <dbl> & <dbl> & <dbl> & <dbl> & <dbl> & <dbl> & <dbl>\\\\\n",
       "\\hline\n",
       "\t ENSG00000261657 & 0.2129366 & 0.17412873 & 0.16483773 & 0.241951913 & 0.19628760 & 0.1350252 & 0.28562975 & 0.15251644 & 0.17694168 & 0.20370966 & 0.22014947 & 0.21632437 & 0.25289074 & 0.2508759 & 0.07346937 & 0.11561962 & 0.13640112 & 0.13325615 & 0.17515551 & 0.16260773 & 0.17986712 & 0.20131493 & 0.17341270 & 0.2290626 & 0.1385704 & 0.210162252 & 0.21838434 & 0.16331291 & 0.1929375 & 0.14704260 & 0.18931629 & 0.18856707 & 0.24707994 & 0.17685768 & 0.19045226 & 0.20622107 & 0.15161557 & 0.185721934 & 0.11882029 & 0.15814194 & 0.17877069 & 0.21383245 & 0.09906622 & 0.20318106 & 0.1870645 & 0.3916669 & 0.18341467 & 0.13420711 & 0.19963510 & 0.15975806 & 0.123835176 & 0.12955248 & 0.1117468 & 0.2172523 & 0.33298525 & 0.1716317 & 0.20513652 & 0.26406839 & 0.153803661 & 0.160769001 & 0.1792631 & 0.16907524 & 0.31625405 & 0.2458848 & 0.119327113 & 0.1988472 & 0.14153816 & 0.195697457 & 0.12894318 & 0.16839977 & 0.1932512 & 0.1246242 & 0.19231842 & 0.235278517 & 0.23140681 & 0.220343471 & 0.20817870 & 0.21237470 & 0.199723 & 0.18210058 & 0.20346732 & 0.1741139 & 0.12264521 & 0.201418132 & 0.181012899 & 0.149837330 & 0.210744813 & 0.210092708 & 0.3292637 & 0.174089894 & 0.1713757 & 0.2243162 & 0.15300427 & 0.17796202 & 0.25299692 & 0.19894157 & 0.161248624 & 0.198895246 & 0.1995697 & 0.2125591 & 0.19656305 & 0.218835324 & 0.156861484 & 0.17092693 & 0.17332953 & 0.11265751 & 0.24994648 & 0.1672033 & 0.2095483 & 0.30266550 & 0.29246369 & 0.14813130 & 0.1312291 & 0.18541041 & 0.15834 & 0.187367022 & 0.22750157 & 0.17303450 & 0.2224910 & 0.22160478 & 0.161956713 & 0.1627608 & 0.164138049 & 0.205227837 & 0.15606001 & 0.143023223 & 0.19160560 & 0.17942858 & 0.1030254 & 0.112331837 & 0.18108964 & 0.125036597 & 0.136802733 & 0.17610621 & 0.16440152 & 0.20509143 & 0.2359350 & 0.2138408 & 0.161429122 & 0.174008876 & 0.15035501 & 0.14023696 & 0.14365214 & 0.21976492 & 0.13429275 & 0.18695351 & 0.166293934 & 0.14344914 & 0.099870250 & 0.1495533 & 0.220458657 & 0.176248699 & 0.13424815 & 0.20753312 & 0.19626267 & 0.1646907 & 0.2729728 & 0.1826396 & 0.13622320 & 0.16880032 & 0.2676878 & 0.21005362 & 0.20336725 & 0.16940928 & 0.193127140 & 0.15478611 & 0.31955072 & 0.1826268 & 0.1422019 & 0.16641314 & 0.2596782 & 0.13344060 & 0.19834630 & 0.21171346 & 0.16643322 & 0.18686631 & 0.1909191 & 0.08671865 & 0.23493059\\\\\n",
       "\t ENSG00000227640 & 0.0000000 & 0.03499793 & 0.01862505 & 0.008332732 & 0.03986735 & 0.0000000 & 0.05573122 & 0.02829643 & 0.01311885 & 0.01032618 & 0.01266077 & 0.04175967 & 0.01834523 & 0.0000000 & 0.01303873 & 0.00643872 & 0.01144438 & 0.01492208 & 0.03573577 & 0.02494597 & 0.01394749 & 0.03409048 & 0.05647798 & 0.0000000 & 0.0000000 & 0.004612159 & 0.02968255 & 0.02636523 & 0.0000000 & 0.05133572 & 0.02129934 & 0.03644758 & 0.01868609 & 0.02700967 & 0.03448455 & 0.02414491 & 0.01352844 & 0.008585485 & 0.01545121 & 0.03549441 & 0.01966522 & 0.00353012 & 0.07596228 & 0.03164532 & 0.0332633 & 0.0253029 & 0.02435548 & 0.01800399 & 0.01199842 & 0.01120335 & 0.005935238 & 0.01702975 & 0.0000000 & 0.0000000 & 0.02013014 & 0.0000000 & 0.00423847 & 0.01777497 & 0.008405581 & 0.004744052 & 0.0000000 & 0.05498501 & 0.01163354 & 0.0000000 & 0.008081904 & 0.0000000 & 0.02275304 & 0.005816977 & 0.01992879 & 0.01202797 & 0.0132092 & 0.0000000 & 0.01390654 & 0.007723932 & 0.01354649 & 0.008127267 & 0.06884132 & 0.02325695 & 0.000000 & 0.01404449 & 0.01145996 & 0.0410274 & 0.02075278 & 0.004985057 & 0.009941312 & 0.004196159 & 0.005049863 & 0.004671197 & 0.0000000 & 0.007046331 & 0.0000000 & 0.0000000 & 0.02371212 & 0.02390593 & 0.01696382 & 0.03747917 & 0.008269044 & 0.007040216 & 0.0000000 & 0.0000000 & 0.01430788 & 0.009746164 & 0.006762709 & 0.05458665 & 0.01407322 & 0.06119018 & 0.02207477 & 0.0664724 & 0.0000000 & 0.03268209 & 0.01669346 & 0.01177074 & 0.0000000 & 0.04073142 & 0.00000 & 0.003585318 & 0.05000286 & 0.02773946 & 0.0258227 & 0.01495483 & 0.004713786 & 0.0000000 & 0.008735015 & 0.009055273 & 0.01856499 & 0.003884381 & 0.01113423 & 0.09044708 & 0.0000000 & 0.005316152 & 0.01699291 & 0.009841587 & 0.007218423 & 0.01684757 & 0.01386104 & 0.02806625 & 0.0125963 & 0.0000000 & 0.004626175 & 0.008983154 & 0.01311716 & 0.01121513 & 0.05290332 & 0.01119694 & 0.01867146 & 0.01205612 & 0.008243832 & 0.04656462 & 0.008423023 & 0.0139701 & 0.004628676 & 0.006298718 & 0.01845709 & 0.00840403 & 0.02115178 & 0.0000000 & 0.0000000 & 0.0000000 & 0.03658111 & 0.06139277 & 0.0000000 & 0.01641459 & 0.04314183 & 0.01586217 & 0.005862111 & 0.01201536 & 0.03110784 & 0.0000000 & 0.0000000 & 0.01713639 & 0.0000000 & 0.01212331 & 0.02206481 & 0.08416077 & 0.01983394 & 0.00443778 & 0.0000000 & 0.00000000 & 0.03132048\\\\\n",
       "\\end{tabular}\n"
      ],
      "text/markdown": [
       "\n",
       "A data.frame: 2 × 180\n",
       "\n",
       "| ensembl_gene_id &lt;chr&gt; | HPSI0114i.bezi_3 &lt;dbl&gt; | HPSI0114i.eipl_1 &lt;dbl&gt; | HPSI0114i.fikt_3 &lt;dbl&gt; | HPSI0114i.kolf_2 &lt;dbl&gt; | HPSI0114i.lexy_2 &lt;dbl&gt; | HPSI0114i.posc_1 &lt;dbl&gt; | HPSI0114i.rozh_4 &lt;dbl&gt; | HPSI0114i.vass_1 &lt;dbl&gt; | HPSI0114i.wegi_1 &lt;dbl&gt; | ⋯ ⋯ | HPSI1113i.hayt_3 &lt;dbl&gt; | HPSI1113i.ieki_3 &lt;dbl&gt; | HPSI1113i.podx_1 &lt;dbl&gt; | HPSI1113i.qolg_1 &lt;dbl&gt; | HPSI1113i.qorq_1 &lt;dbl&gt; | HPSI1113i.vuud_2 &lt;dbl&gt; | HPSI1114i.kuul_1 &lt;dbl&gt; | HPSI1114i.ualf_6 &lt;dbl&gt; | HPSI1114i.zuuy_4 &lt;dbl&gt; | HPSI1213i.hehd_1 &lt;dbl&gt; |\n",
       "|---|---|---|---|---|---|---|---|---|---|---|---|---|---|---|---|---|---|---|---|---|\n",
       "| ENSG00000261657 | 0.2129366 | 0.17412873 | 0.16483773 | 0.241951913 | 0.19628760 | 0.1350252 | 0.28562975 | 0.15251644 | 0.17694168 | ⋯ | 0.16641314 | 0.2596782 | 0.13344060 | 0.19834630 | 0.21171346 | 0.16643322 | 0.18686631 | 0.1909191 | 0.08671865 | 0.23493059 |\n",
       "| ENSG00000227640 | 0.0000000 | 0.03499793 | 0.01862505 | 0.008332732 | 0.03986735 | 0.0000000 | 0.05573122 | 0.02829643 | 0.01311885 | ⋯ | 0.01713639 | 0.0000000 | 0.01212331 | 0.02206481 | 0.08416077 | 0.01983394 | 0.00443778 | 0.0000000 | 0.00000000 | 0.03132048 |\n",
       "\n"
      ],
      "text/plain": [
       "  ensembl_gene_id HPSI0114i.bezi_3 HPSI0114i.eipl_1 HPSI0114i.fikt_3\n",
       "1 ENSG00000261657 0.2129366        0.17412873       0.16483773      \n",
       "2 ENSG00000227640 0.0000000        0.03499793       0.01862505      \n",
       "  HPSI0114i.kolf_2 HPSI0114i.lexy_2 HPSI0114i.posc_1 HPSI0114i.rozh_4\n",
       "1 0.241951913      0.19628760       0.1350252        0.28562975      \n",
       "2 0.008332732      0.03986735       0.0000000        0.05573122      \n",
       "  HPSI0114i.vass_1 HPSI0114i.wegi_1 ⋯ HPSI1113i.hayt_3 HPSI1113i.ieki_3\n",
       "1 0.15251644       0.17694168       ⋯ 0.16641314       0.2596782       \n",
       "2 0.02829643       0.01311885       ⋯ 0.01713639       0.0000000       \n",
       "  HPSI1113i.podx_1 HPSI1113i.qolg_1 HPSI1113i.qorq_1 HPSI1113i.vuud_2\n",
       "1 0.13344060       0.19834630       0.21171346       0.16643322      \n",
       "2 0.01212331       0.02206481       0.08416077       0.01983394      \n",
       "  HPSI1114i.kuul_1 HPSI1114i.ualf_6 HPSI1114i.zuuy_4 HPSI1213i.hehd_1\n",
       "1 0.18686631       0.1909191        0.08671865       0.23493059      \n",
       "2 0.00443778       0.0000000        0.00000000       0.03132048      "
      ]
     },
     "metadata": {},
     "output_type": "display_data"
    }
   ],
   "source": [
    "myfilename = paste0(mydir,celltype,mysuffix)\n",
    "myfile = read.table(myfilename, header = T)\n",
    "head(myfile,2)"
   ]
  },
  {
   "cell_type": "code",
   "execution_count": 357,
   "metadata": {},
   "outputs": [],
   "source": [
    "# avgs_NB_D11 = data.frame(gene = myfile$ensembl_gene_id, NB_D11 = rowMeans(myfile[,-c(1)]))\n",
    "# head(avgs_NB_D11,2)"
   ]
  },
  {
   "cell_type": "code",
   "execution_count": 358,
   "metadata": {},
   "outputs": [],
   "source": [
    "# avgs_P_FPP_D11 = data.frame(gene = myfile$ensembl_gene_id, P_FPP_D11 = rowMeans(myfile[,-c(1)]))\n",
    "# head(avgs_P_FPP_D11,2)"
   ]
  },
  {
   "cell_type": "code",
   "execution_count": 359,
   "metadata": {},
   "outputs": [],
   "source": [
    "# avgs_FPP_D11 = data.frame(gene = myfile$ensembl_gene_id, FPP_D11 = rowMeans(myfile[,-c(1)]))\n",
    "# head(avgs_FPP_D11,2)"
   ]
  },
  {
   "cell_type": "code",
   "execution_count": 360,
   "metadata": {},
   "outputs": [],
   "source": [
    "# avgs_Astro_D30 = data.frame(gene = myfile$ensembl_gene_id, Astro_D30 = rowMeans(myfile[,-c(1)]))\n",
    "# head(avgs_Astro_D30,2)"
   ]
  },
  {
   "cell_type": "code",
   "execution_count": 361,
   "metadata": {},
   "outputs": [],
   "source": [
    "# avgs_Epen1_D30 = data.frame(gene = myfile$ensembl_gene_id, Epen1_D30 = rowMeans(myfile[,-c(1)]))\n",
    "# head(avgs_Epen1_D30,2)"
   ]
  },
  {
   "cell_type": "code",
   "execution_count": 362,
   "metadata": {},
   "outputs": [],
   "source": [
    "# avgs_Sert_D30 = data.frame(gene = myfile$ensembl_gene_id, Sert_D30 = rowMeans(myfile[,-c(1)]))\n",
    "# head(avgs_Sert_D30,2)"
   ]
  },
  {
   "cell_type": "code",
   "execution_count": 363,
   "metadata": {},
   "outputs": [],
   "source": [
    "# avgs_DA_D30 = data.frame(gene = myfile$ensembl_gene_id, DA_D30 = rowMeans(myfile[,-c(1)]))\n",
    "# head(avgs_DA_D30,2)"
   ]
  },
  {
   "cell_type": "code",
   "execution_count": 364,
   "metadata": {},
   "outputs": [],
   "source": [
    "# avgs_Astro_D52 = data.frame(gene = myfile$ensembl_gene_id, Astro_D52 = rowMeans(myfile[,-c(1)]))\n",
    "# head(avgs_Astro_D52,2)"
   ]
  },
  {
   "cell_type": "code",
   "execution_count": 365,
   "metadata": {},
   "outputs": [],
   "source": [
    "# avgs_Epen1_D52 = data.frame(gene = myfile$ensembl_gene_id, Epen1_D52 = rowMeans(myfile[,-c(1)]))\n",
    "# head(avgs_Epen1_D52,2)"
   ]
  },
  {
   "cell_type": "code",
   "execution_count": 366,
   "metadata": {},
   "outputs": [],
   "source": [
    "# avgs_Sert_D52 = data.frame(gene = myfile$ensembl_gene_id, Sert_D52 = rowMeans(myfile[,-c(1)]))\n",
    "# head(avgs_Sert_D52,2)"
   ]
  },
  {
   "cell_type": "code",
   "execution_count": 367,
   "metadata": {},
   "outputs": [
    {
     "data": {
      "text/html": [
       "<table>\n",
       "<caption>A data.frame: 2 × 2</caption>\n",
       "<thead>\n",
       "\t<tr><th scope=col>gene</th><th scope=col>DA_D52</th></tr>\n",
       "\t<tr><th scope=col>&lt;chr&gt;</th><th scope=col>&lt;dbl&gt;</th></tr>\n",
       "</thead>\n",
       "<tbody>\n",
       "\t<tr><td>ENSG00000261657</td><td>0.18587442</td></tr>\n",
       "\t<tr><td>ENSG00000227640</td><td>0.01737788</td></tr>\n",
       "</tbody>\n",
       "</table>\n"
      ],
      "text/latex": [
       "A data.frame: 2 × 2\n",
       "\\begin{tabular}{r|ll}\n",
       " gene & DA\\_D52\\\\\n",
       " <chr> & <dbl>\\\\\n",
       "\\hline\n",
       "\t ENSG00000261657 & 0.18587442\\\\\n",
       "\t ENSG00000227640 & 0.01737788\\\\\n",
       "\\end{tabular}\n"
      ],
      "text/markdown": [
       "\n",
       "A data.frame: 2 × 2\n",
       "\n",
       "| gene &lt;chr&gt; | DA_D52 &lt;dbl&gt; |\n",
       "|---|---|\n",
       "| ENSG00000261657 | 0.18587442 |\n",
       "| ENSG00000227640 | 0.01737788 |\n",
       "\n"
      ],
      "text/plain": [
       "  gene            DA_D52    \n",
       "1 ENSG00000261657 0.18587442\n",
       "2 ENSG00000227640 0.01737788"
      ]
     },
     "metadata": {},
     "output_type": "display_data"
    }
   ],
   "source": [
    "avgs_DA_D52 = data.frame(gene = myfile$ensembl_gene_id, DA_D52 = rowMeans(myfile[,-c(1)]))\n",
    "head(avgs_DA_D52,2)"
   ]
  },
  {
   "cell_type": "code",
   "execution_count": 368,
   "metadata": {},
   "outputs": [],
   "source": [
    "library(dplyr)"
   ]
  },
  {
   "cell_type": "code",
   "execution_count": 369,
   "metadata": {},
   "outputs": [
    {
     "data": {
      "text/html": [
       "<table>\n",
       "<caption>A data.frame: 6 × 4</caption>\n",
       "<thead>\n",
       "\t<tr><th scope=col>gene</th><th scope=col>FPP_D11</th><th scope=col>P_FPP_D11</th><th scope=col>NB_D11</th></tr>\n",
       "\t<tr><th scope=col>&lt;chr&gt;</th><th scope=col>&lt;dbl&gt;</th><th scope=col>&lt;dbl&gt;</th><th scope=col>&lt;dbl&gt;</th></tr>\n",
       "</thead>\n",
       "<tbody>\n",
       "\t<tr><td>ENSG00000261657</td><td>0.30340969</td><td>0.301253214</td><td>0.31592120</td></tr>\n",
       "\t<tr><td>ENSG00000227640</td><td>0.05590316</td><td>0.037318994</td><td>0.01603119</td></tr>\n",
       "\t<tr><td>ENSG00000247400</td><td>0.14828730</td><td>0.110834216</td><td>0.13733673</td></tr>\n",
       "\t<tr><td>ENSG00000228889</td><td>0.03919345</td><td>0.028835293</td><td>0.03136523</td></tr>\n",
       "\t<tr><td>ENSG00000261485</td><td>0.01461320</td><td>0.009612585</td><td>0.00866005</td></tr>\n",
       "\t<tr><td>ENSG00000272143</td><td>0.13674774</td><td>0.114029398</td><td>0.13953726</td></tr>\n",
       "</tbody>\n",
       "</table>\n"
      ],
      "text/latex": [
       "A data.frame: 6 × 4\n",
       "\\begin{tabular}{r|llll}\n",
       " gene & FPP\\_D11 & P\\_FPP\\_D11 & NB\\_D11\\\\\n",
       " <chr> & <dbl> & <dbl> & <dbl>\\\\\n",
       "\\hline\n",
       "\t ENSG00000261657 & 0.30340969 & 0.301253214 & 0.31592120\\\\\n",
       "\t ENSG00000227640 & 0.05590316 & 0.037318994 & 0.01603119\\\\\n",
       "\t ENSG00000247400 & 0.14828730 & 0.110834216 & 0.13733673\\\\\n",
       "\t ENSG00000228889 & 0.03919345 & 0.028835293 & 0.03136523\\\\\n",
       "\t ENSG00000261485 & 0.01461320 & 0.009612585 & 0.00866005\\\\\n",
       "\t ENSG00000272143 & 0.13674774 & 0.114029398 & 0.13953726\\\\\n",
       "\\end{tabular}\n"
      ],
      "text/markdown": [
       "\n",
       "A data.frame: 6 × 4\n",
       "\n",
       "| gene &lt;chr&gt; | FPP_D11 &lt;dbl&gt; | P_FPP_D11 &lt;dbl&gt; | NB_D11 &lt;dbl&gt; |\n",
       "|---|---|---|---|\n",
       "| ENSG00000261657 | 0.30340969 | 0.301253214 | 0.31592120 |\n",
       "| ENSG00000227640 | 0.05590316 | 0.037318994 | 0.01603119 |\n",
       "| ENSG00000247400 | 0.14828730 | 0.110834216 | 0.13733673 |\n",
       "| ENSG00000228889 | 0.03919345 | 0.028835293 | 0.03136523 |\n",
       "| ENSG00000261485 | 0.01461320 | 0.009612585 | 0.00866005 |\n",
       "| ENSG00000272143 | 0.13674774 | 0.114029398 | 0.13953726 |\n",
       "\n"
      ],
      "text/plain": [
       "  gene            FPP_D11    P_FPP_D11   NB_D11    \n",
       "1 ENSG00000261657 0.30340969 0.301253214 0.31592120\n",
       "2 ENSG00000227640 0.05590316 0.037318994 0.01603119\n",
       "3 ENSG00000247400 0.14828730 0.110834216 0.13733673\n",
       "4 ENSG00000228889 0.03919345 0.028835293 0.03136523\n",
       "5 ENSG00000261485 0.01461320 0.009612585 0.00866005\n",
       "6 ENSG00000272143 0.13674774 0.114029398 0.13953726"
      ]
     },
     "metadata": {},
     "output_type": "display_data"
    }
   ],
   "source": [
    "df0 = inner_join(avgs_FPP_D11, avgs_P_FPP_D11, by = \"gene\")\n",
    "df_D11 = inner_join(df0, avgs_NB_D11, by = \"gene\")\n",
    "head(df_D11)"
   ]
  },
  {
   "cell_type": "code",
   "execution_count": 370,
   "metadata": {},
   "outputs": [
    {
     "data": {
      "text/html": [
       "<table>\n",
       "<caption>A data.frame: 6 × 5</caption>\n",
       "<thead>\n",
       "\t<tr><th scope=col>gene</th><th scope=col>DA_D30</th><th scope=col>Sert_D30</th><th scope=col>Epen1_D30</th><th scope=col>Astro_D30</th></tr>\n",
       "\t<tr><th scope=col>&lt;chr&gt;</th><th scope=col>&lt;dbl&gt;</th><th scope=col>&lt;dbl&gt;</th><th scope=col>&lt;dbl&gt;</th><th scope=col>&lt;dbl&gt;</th></tr>\n",
       "</thead>\n",
       "<tbody>\n",
       "\t<tr><td>ENSG00000261657</td><td>0.11035984</td><td>0.20056294</td><td>0.17347501</td><td>0.18673083</td></tr>\n",
       "\t<tr><td>ENSG00000227640</td><td>0.05134083</td><td>0.12299665</td><td>0.14630144</td><td>0.10014379</td></tr>\n",
       "\t<tr><td>ENSG00000247400</td><td>0.03112433</td><td>0.04530167</td><td>0.05549724</td><td>0.04645816</td></tr>\n",
       "\t<tr><td>ENSG00000228889</td><td>0.01064196</td><td>0.01519511</td><td>0.08209101</td><td>0.02866178</td></tr>\n",
       "\t<tr><td>ENSG00000272143</td><td>0.02931921</td><td>0.06409544</td><td>0.17139874</td><td>0.13978708</td></tr>\n",
       "\t<tr><td>ENSG00000261577</td><td>0.13129016</td><td>0.25583107</td><td>0.06751840</td><td>0.10296909</td></tr>\n",
       "</tbody>\n",
       "</table>\n"
      ],
      "text/latex": [
       "A data.frame: 6 × 5\n",
       "\\begin{tabular}{r|lllll}\n",
       " gene & DA\\_D30 & Sert\\_D30 & Epen1\\_D30 & Astro\\_D30\\\\\n",
       " <chr> & <dbl> & <dbl> & <dbl> & <dbl>\\\\\n",
       "\\hline\n",
       "\t ENSG00000261657 & 0.11035984 & 0.20056294 & 0.17347501 & 0.18673083\\\\\n",
       "\t ENSG00000227640 & 0.05134083 & 0.12299665 & 0.14630144 & 0.10014379\\\\\n",
       "\t ENSG00000247400 & 0.03112433 & 0.04530167 & 0.05549724 & 0.04645816\\\\\n",
       "\t ENSG00000228889 & 0.01064196 & 0.01519511 & 0.08209101 & 0.02866178\\\\\n",
       "\t ENSG00000272143 & 0.02931921 & 0.06409544 & 0.17139874 & 0.13978708\\\\\n",
       "\t ENSG00000261577 & 0.13129016 & 0.25583107 & 0.06751840 & 0.10296909\\\\\n",
       "\\end{tabular}\n"
      ],
      "text/markdown": [
       "\n",
       "A data.frame: 6 × 5\n",
       "\n",
       "| gene &lt;chr&gt; | DA_D30 &lt;dbl&gt; | Sert_D30 &lt;dbl&gt; | Epen1_D30 &lt;dbl&gt; | Astro_D30 &lt;dbl&gt; |\n",
       "|---|---|---|---|---|\n",
       "| ENSG00000261657 | 0.11035984 | 0.20056294 | 0.17347501 | 0.18673083 |\n",
       "| ENSG00000227640 | 0.05134083 | 0.12299665 | 0.14630144 | 0.10014379 |\n",
       "| ENSG00000247400 | 0.03112433 | 0.04530167 | 0.05549724 | 0.04645816 |\n",
       "| ENSG00000228889 | 0.01064196 | 0.01519511 | 0.08209101 | 0.02866178 |\n",
       "| ENSG00000272143 | 0.02931921 | 0.06409544 | 0.17139874 | 0.13978708 |\n",
       "| ENSG00000261577 | 0.13129016 | 0.25583107 | 0.06751840 | 0.10296909 |\n",
       "\n"
      ],
      "text/plain": [
       "  gene            DA_D30     Sert_D30   Epen1_D30  Astro_D30 \n",
       "1 ENSG00000261657 0.11035984 0.20056294 0.17347501 0.18673083\n",
       "2 ENSG00000227640 0.05134083 0.12299665 0.14630144 0.10014379\n",
       "3 ENSG00000247400 0.03112433 0.04530167 0.05549724 0.04645816\n",
       "4 ENSG00000228889 0.01064196 0.01519511 0.08209101 0.02866178\n",
       "5 ENSG00000272143 0.02931921 0.06409544 0.17139874 0.13978708\n",
       "6 ENSG00000261577 0.13129016 0.25583107 0.06751840 0.10296909"
      ]
     },
     "metadata": {},
     "output_type": "display_data"
    }
   ],
   "source": [
    "df0 = inner_join(avgs_DA_D30, avgs_Sert_D30, by = \"gene\")\n",
    "df1 = inner_join(df0, avgs_Epen1_D30, by = \"gene\")\n",
    "df_D30 = inner_join(df1, avgs_Astro_D30, by = \"gene\")\n",
    "head(df_D30)"
   ]
  },
  {
   "cell_type": "code",
   "execution_count": 371,
   "metadata": {},
   "outputs": [
    {
     "data": {
      "text/html": [
       "<table>\n",
       "<caption>A data.frame: 6 × 5</caption>\n",
       "<thead>\n",
       "\t<tr><th scope=col>gene</th><th scope=col>DA_D52</th><th scope=col>Sert_D52</th><th scope=col>Epen1_D52</th><th scope=col>Astro_D52</th></tr>\n",
       "\t<tr><th scope=col>&lt;chr&gt;</th><th scope=col>&lt;dbl&gt;</th><th scope=col>&lt;dbl&gt;</th><th scope=col>&lt;dbl&gt;</th><th scope=col>&lt;dbl&gt;</th></tr>\n",
       "</thead>\n",
       "<tbody>\n",
       "\t<tr><td>ENSG00000261657</td><td>0.18587442</td><td>0.24154222</td><td>0.18700089</td><td>0.18817982</td></tr>\n",
       "\t<tr><td>ENSG00000227640</td><td>0.01737788</td><td>0.03693412</td><td>0.02885561</td><td>0.04654087</td></tr>\n",
       "\t<tr><td>ENSG00000247400</td><td>0.13253690</td><td>0.09664035</td><td>0.07322539</td><td>0.08607722</td></tr>\n",
       "\t<tr><td>ENSG00000228889</td><td>0.03068636</td><td>0.03664857</td><td>0.06873795</td><td>0.04349935</td></tr>\n",
       "\t<tr><td>ENSG00000272143</td><td>0.04441751</td><td>0.08413301</td><td>0.13695278</td><td>0.11135813</td></tr>\n",
       "\t<tr><td>ENSG00000261577</td><td>0.11733386</td><td>0.20931280</td><td>0.05144622</td><td>0.10211150</td></tr>\n",
       "</tbody>\n",
       "</table>\n"
      ],
      "text/latex": [
       "A data.frame: 6 × 5\n",
       "\\begin{tabular}{r|lllll}\n",
       " gene & DA\\_D52 & Sert\\_D52 & Epen1\\_D52 & Astro\\_D52\\\\\n",
       " <chr> & <dbl> & <dbl> & <dbl> & <dbl>\\\\\n",
       "\\hline\n",
       "\t ENSG00000261657 & 0.18587442 & 0.24154222 & 0.18700089 & 0.18817982\\\\\n",
       "\t ENSG00000227640 & 0.01737788 & 0.03693412 & 0.02885561 & 0.04654087\\\\\n",
       "\t ENSG00000247400 & 0.13253690 & 0.09664035 & 0.07322539 & 0.08607722\\\\\n",
       "\t ENSG00000228889 & 0.03068636 & 0.03664857 & 0.06873795 & 0.04349935\\\\\n",
       "\t ENSG00000272143 & 0.04441751 & 0.08413301 & 0.13695278 & 0.11135813\\\\\n",
       "\t ENSG00000261577 & 0.11733386 & 0.20931280 & 0.05144622 & 0.10211150\\\\\n",
       "\\end{tabular}\n"
      ],
      "text/markdown": [
       "\n",
       "A data.frame: 6 × 5\n",
       "\n",
       "| gene &lt;chr&gt; | DA_D52 &lt;dbl&gt; | Sert_D52 &lt;dbl&gt; | Epen1_D52 &lt;dbl&gt; | Astro_D52 &lt;dbl&gt; |\n",
       "|---|---|---|---|---|\n",
       "| ENSG00000261657 | 0.18587442 | 0.24154222 | 0.18700089 | 0.18817982 |\n",
       "| ENSG00000227640 | 0.01737788 | 0.03693412 | 0.02885561 | 0.04654087 |\n",
       "| ENSG00000247400 | 0.13253690 | 0.09664035 | 0.07322539 | 0.08607722 |\n",
       "| ENSG00000228889 | 0.03068636 | 0.03664857 | 0.06873795 | 0.04349935 |\n",
       "| ENSG00000272143 | 0.04441751 | 0.08413301 | 0.13695278 | 0.11135813 |\n",
       "| ENSG00000261577 | 0.11733386 | 0.20931280 | 0.05144622 | 0.10211150 |\n",
       "\n"
      ],
      "text/plain": [
       "  gene            DA_D52     Sert_D52   Epen1_D52  Astro_D52 \n",
       "1 ENSG00000261657 0.18587442 0.24154222 0.18700089 0.18817982\n",
       "2 ENSG00000227640 0.01737788 0.03693412 0.02885561 0.04654087\n",
       "3 ENSG00000247400 0.13253690 0.09664035 0.07322539 0.08607722\n",
       "4 ENSG00000228889 0.03068636 0.03664857 0.06873795 0.04349935\n",
       "5 ENSG00000272143 0.04441751 0.08413301 0.13695278 0.11135813\n",
       "6 ENSG00000261577 0.11733386 0.20931280 0.05144622 0.10211150"
      ]
     },
     "metadata": {},
     "output_type": "display_data"
    }
   ],
   "source": [
    "df0 = inner_join(avgs_DA_D52, avgs_Sert_D52, by = \"gene\")\n",
    "df1 = inner_join(df0, avgs_Epen1_D52, by = \"gene\")\n",
    "df_D52 = inner_join(df1, avgs_Astro_D52, by = \"gene\")\n",
    "head(df_D52)"
   ]
  },
  {
   "cell_type": "code",
   "execution_count": 372,
   "metadata": {},
   "outputs": [
    {
     "data": {
      "text/html": [
       "<table>\n",
       "<caption>A data.frame: 2 × 12</caption>\n",
       "<thead>\n",
       "\t<tr><th scope=col>gene</th><th scope=col>FPP_D11</th><th scope=col>P_FPP_D11</th><th scope=col>NB_D11</th><th scope=col>DA_D30</th><th scope=col>Sert_D30</th><th scope=col>Epen1_D30</th><th scope=col>Astro_D30</th><th scope=col>DA_D52</th><th scope=col>Sert_D52</th><th scope=col>Epen1_D52</th><th scope=col>Astro_D52</th></tr>\n",
       "\t<tr><th scope=col>&lt;chr&gt;</th><th scope=col>&lt;dbl&gt;</th><th scope=col>&lt;dbl&gt;</th><th scope=col>&lt;dbl&gt;</th><th scope=col>&lt;dbl&gt;</th><th scope=col>&lt;dbl&gt;</th><th scope=col>&lt;dbl&gt;</th><th scope=col>&lt;dbl&gt;</th><th scope=col>&lt;dbl&gt;</th><th scope=col>&lt;dbl&gt;</th><th scope=col>&lt;dbl&gt;</th><th scope=col>&lt;dbl&gt;</th></tr>\n",
       "</thead>\n",
       "<tbody>\n",
       "\t<tr><td>ENSG00000261657</td><td>0.30340969</td><td>0.30125321</td><td>0.31592120</td><td>0.11035984</td><td>0.2005629</td><td>0.1734750</td><td>0.1867308</td><td>0.18587442</td><td>0.24154222</td><td>0.18700089</td><td>0.18817982</td></tr>\n",
       "\t<tr><td>ENSG00000227640</td><td>0.05590316</td><td>0.03731899</td><td>0.01603119</td><td>0.05134083</td><td>0.1229967</td><td>0.1463014</td><td>0.1001438</td><td>0.01737788</td><td>0.03693412</td><td>0.02885561</td><td>0.04654087</td></tr>\n",
       "</tbody>\n",
       "</table>\n"
      ],
      "text/latex": [
       "A data.frame: 2 × 12\n",
       "\\begin{tabular}{r|llllllllllll}\n",
       " gene & FPP\\_D11 & P\\_FPP\\_D11 & NB\\_D11 & DA\\_D30 & Sert\\_D30 & Epen1\\_D30 & Astro\\_D30 & DA\\_D52 & Sert\\_D52 & Epen1\\_D52 & Astro\\_D52\\\\\n",
       " <chr> & <dbl> & <dbl> & <dbl> & <dbl> & <dbl> & <dbl> & <dbl> & <dbl> & <dbl> & <dbl> & <dbl>\\\\\n",
       "\\hline\n",
       "\t ENSG00000261657 & 0.30340969 & 0.30125321 & 0.31592120 & 0.11035984 & 0.2005629 & 0.1734750 & 0.1867308 & 0.18587442 & 0.24154222 & 0.18700089 & 0.18817982\\\\\n",
       "\t ENSG00000227640 & 0.05590316 & 0.03731899 & 0.01603119 & 0.05134083 & 0.1229967 & 0.1463014 & 0.1001438 & 0.01737788 & 0.03693412 & 0.02885561 & 0.04654087\\\\\n",
       "\\end{tabular}\n"
      ],
      "text/markdown": [
       "\n",
       "A data.frame: 2 × 12\n",
       "\n",
       "| gene &lt;chr&gt; | FPP_D11 &lt;dbl&gt; | P_FPP_D11 &lt;dbl&gt; | NB_D11 &lt;dbl&gt; | DA_D30 &lt;dbl&gt; | Sert_D30 &lt;dbl&gt; | Epen1_D30 &lt;dbl&gt; | Astro_D30 &lt;dbl&gt; | DA_D52 &lt;dbl&gt; | Sert_D52 &lt;dbl&gt; | Epen1_D52 &lt;dbl&gt; | Astro_D52 &lt;dbl&gt; |\n",
       "|---|---|---|---|---|---|---|---|---|---|---|---|\n",
       "| ENSG00000261657 | 0.30340969 | 0.30125321 | 0.31592120 | 0.11035984 | 0.2005629 | 0.1734750 | 0.1867308 | 0.18587442 | 0.24154222 | 0.18700089 | 0.18817982 |\n",
       "| ENSG00000227640 | 0.05590316 | 0.03731899 | 0.01603119 | 0.05134083 | 0.1229967 | 0.1463014 | 0.1001438 | 0.01737788 | 0.03693412 | 0.02885561 | 0.04654087 |\n",
       "\n"
      ],
      "text/plain": [
       "  gene            FPP_D11    P_FPP_D11  NB_D11     DA_D30     Sert_D30 \n",
       "1 ENSG00000261657 0.30340969 0.30125321 0.31592120 0.11035984 0.2005629\n",
       "2 ENSG00000227640 0.05590316 0.03731899 0.01603119 0.05134083 0.1229967\n",
       "  Epen1_D30 Astro_D30 DA_D52     Sert_D52   Epen1_D52  Astro_D52 \n",
       "1 0.1734750 0.1867308 0.18587442 0.24154222 0.18700089 0.18817982\n",
       "2 0.1463014 0.1001438 0.01737788 0.03693412 0.02885561 0.04654087"
      ]
     },
     "metadata": {},
     "output_type": "display_data"
    },
    {
     "data": {
      "text/html": [
       "<table>\n",
       "<caption>A data.frame: 2 × 11</caption>\n",
       "<thead>\n",
       "\t<tr><th></th><th scope=col>FPP_D11</th><th scope=col>P_FPP_D11</th><th scope=col>NB_D11</th><th scope=col>DA_D30</th><th scope=col>Sert_D30</th><th scope=col>Epen1_D30</th><th scope=col>Astro_D30</th><th scope=col>DA_D52</th><th scope=col>Sert_D52</th><th scope=col>Epen1_D52</th><th scope=col>Astro_D52</th></tr>\n",
       "\t<tr><th></th><th scope=col>&lt;dbl&gt;</th><th scope=col>&lt;dbl&gt;</th><th scope=col>&lt;dbl&gt;</th><th scope=col>&lt;dbl&gt;</th><th scope=col>&lt;dbl&gt;</th><th scope=col>&lt;dbl&gt;</th><th scope=col>&lt;dbl&gt;</th><th scope=col>&lt;dbl&gt;</th><th scope=col>&lt;dbl&gt;</th><th scope=col>&lt;dbl&gt;</th><th scope=col>&lt;dbl&gt;</th></tr>\n",
       "</thead>\n",
       "<tbody>\n",
       "\t<tr><th scope=row>ENSG00000261657</th><td>0.30340969</td><td>0.30125321</td><td>0.31592120</td><td>0.11035984</td><td>0.2005629</td><td>0.1734750</td><td>0.1867308</td><td>0.18587442</td><td>0.24154222</td><td>0.18700089</td><td>0.18817982</td></tr>\n",
       "\t<tr><th scope=row>ENSG00000227640</th><td>0.05590316</td><td>0.03731899</td><td>0.01603119</td><td>0.05134083</td><td>0.1229967</td><td>0.1463014</td><td>0.1001438</td><td>0.01737788</td><td>0.03693412</td><td>0.02885561</td><td>0.04654087</td></tr>\n",
       "</tbody>\n",
       "</table>\n"
      ],
      "text/latex": [
       "A data.frame: 2 × 11\n",
       "\\begin{tabular}{r|lllllllllll}\n",
       "  & FPP\\_D11 & P\\_FPP\\_D11 & NB\\_D11 & DA\\_D30 & Sert\\_D30 & Epen1\\_D30 & Astro\\_D30 & DA\\_D52 & Sert\\_D52 & Epen1\\_D52 & Astro\\_D52\\\\\n",
       "  & <dbl> & <dbl> & <dbl> & <dbl> & <dbl> & <dbl> & <dbl> & <dbl> & <dbl> & <dbl> & <dbl>\\\\\n",
       "\\hline\n",
       "\tENSG00000261657 & 0.30340969 & 0.30125321 & 0.31592120 & 0.11035984 & 0.2005629 & 0.1734750 & 0.1867308 & 0.18587442 & 0.24154222 & 0.18700089 & 0.18817982\\\\\n",
       "\tENSG00000227640 & 0.05590316 & 0.03731899 & 0.01603119 & 0.05134083 & 0.1229967 & 0.1463014 & 0.1001438 & 0.01737788 & 0.03693412 & 0.02885561 & 0.04654087\\\\\n",
       "\\end{tabular}\n"
      ],
      "text/markdown": [
       "\n",
       "A data.frame: 2 × 11\n",
       "\n",
       "| <!--/--> | FPP_D11 &lt;dbl&gt; | P_FPP_D11 &lt;dbl&gt; | NB_D11 &lt;dbl&gt; | DA_D30 &lt;dbl&gt; | Sert_D30 &lt;dbl&gt; | Epen1_D30 &lt;dbl&gt; | Astro_D30 &lt;dbl&gt; | DA_D52 &lt;dbl&gt; | Sert_D52 &lt;dbl&gt; | Epen1_D52 &lt;dbl&gt; | Astro_D52 &lt;dbl&gt; |\n",
       "|---|---|---|---|---|---|---|---|---|---|---|---|\n",
       "| ENSG00000261657 | 0.30340969 | 0.30125321 | 0.31592120 | 0.11035984 | 0.2005629 | 0.1734750 | 0.1867308 | 0.18587442 | 0.24154222 | 0.18700089 | 0.18817982 |\n",
       "| ENSG00000227640 | 0.05590316 | 0.03731899 | 0.01603119 | 0.05134083 | 0.1229967 | 0.1463014 | 0.1001438 | 0.01737788 | 0.03693412 | 0.02885561 | 0.04654087 |\n",
       "\n"
      ],
      "text/plain": [
       "                FPP_D11    P_FPP_D11  NB_D11     DA_D30     Sert_D30  Epen1_D30\n",
       "ENSG00000261657 0.30340969 0.30125321 0.31592120 0.11035984 0.2005629 0.1734750\n",
       "ENSG00000227640 0.05590316 0.03731899 0.01603119 0.05134083 0.1229967 0.1463014\n",
       "                Astro_D30 DA_D52     Sert_D52   Epen1_D52  Astro_D52 \n",
       "ENSG00000261657 0.1867308 0.18587442 0.24154222 0.18700089 0.18817982\n",
       "ENSG00000227640 0.1001438 0.01737788 0.03693412 0.02885561 0.04654087"
      ]
     },
     "metadata": {},
     "output_type": "display_data"
    }
   ],
   "source": [
    "df = inner_join(inner_join(df_D11, df_D30, by = \"gene\"), df_D52, by = \"gene\")\n",
    "head(df,2)\n",
    "rownames(df) = df$gene\n",
    "df = df[,-c(1)]\n",
    "head(df,2)"
   ]
  },
  {
   "cell_type": "code",
   "execution_count": 373,
   "metadata": {},
   "outputs": [
    {
     "data": {
      "text/html": [
       "0"
      ],
      "text/latex": [
       "0"
      ],
      "text/markdown": [
       "0"
      ],
      "text/plain": [
       "[1] 0"
      ]
     },
     "metadata": {},
     "output_type": "display_data"
    }
   ],
   "source": [
    "sum(is.na(df))"
   ]
  },
  {
   "cell_type": "code",
   "execution_count": 374,
   "metadata": {},
   "outputs": [],
   "source": [
    "########### LD annotations downloaded from rolypoly\n",
    "## as described here: https://cran.r-project.org/web/packages/rolypoly/vignettes/intro.html"
   ]
  },
  {
   "cell_type": "code",
   "execution_count": 375,
   "metadata": {},
   "outputs": [],
   "source": [
    "ld_path = \"/hps/nobackup/stegle/users/acuomo/all_scripts/sc_neuroseq/eqtl/rolypoly/LD/\""
   ]
  },
  {
   "cell_type": "code",
   "execution_count": 386,
   "metadata": {},
   "outputs": [
    {
     "name": "stderr",
     "output_type": "stream",
     "text": [
      "adding gwas\n",
      "filtering out SNPs with MAF < 1%\n",
      "adding block annotations\n",
      "beginning processs of linking gwas and block annotations\n",
      "##------ Mon Jan 13 11:35:45 2020 ------## - starting blocks on chrom: 1\n",
      "##------ Mon Jan 13 11:35:50 2020 ------## - starting blocks on chrom: 10\n",
      "##------ Mon Jan 13 11:35:54 2020 ------## - starting blocks on chrom: 11\n",
      "##------ Mon Jan 13 11:36:00 2020 ------## - starting blocks on chrom: 12\n",
      "##------ Mon Jan 13 11:36:04 2020 ------## - starting blocks on chrom: 13\n",
      "##------ Mon Jan 13 11:36:07 2020 ------## - starting blocks on chrom: 14\n",
      "##------ Mon Jan 13 11:36:11 2020 ------## - starting blocks on chrom: 15\n",
      "##------ Mon Jan 13 11:36:12 2020 ------## - starting blocks on chrom: 16\n",
      "##------ Mon Jan 13 11:36:15 2020 ------## - starting blocks on chrom: 17\n",
      "##------ Mon Jan 13 11:36:18 2020 ------## - starting blocks on chrom: 18\n",
      "##------ Mon Jan 13 11:36:19 2020 ------## - starting blocks on chrom: 19\n",
      "##------ Mon Jan 13 11:36:24 2020 ------## - starting blocks on chrom: 2\n",
      "##------ Mon Jan 13 11:36:39 2020 ------## - starting blocks on chrom: 20\n",
      "##------ Mon Jan 13 11:36:40 2020 ------## - starting blocks on chrom: 21\n",
      "##------ Mon Jan 13 11:36:41 2020 ------## - starting blocks on chrom: 22\n",
      "##------ Mon Jan 13 11:36:44 2020 ------## - starting blocks on chrom: 3\n",
      "##------ Mon Jan 13 11:36:50 2020 ------## - starting blocks on chrom: 4\n",
      "##------ Mon Jan 13 11:37:08 2020 ------## - starting blocks on chrom: 5\n",
      "##------ Mon Jan 13 11:37:13 2020 ------## - starting blocks on chrom: 6\n",
      "##------ Mon Jan 13 11:37:18 2020 ------## - starting blocks on chrom: 7\n",
      "##------ Mon Jan 13 11:37:23 2020 ------## - starting blocks on chrom: 8\n",
      "##------ Mon Jan 13 11:37:27 2020 ------## - starting blocks on chrom: 9\n",
      "merging functional information about blocks\n",
      "starting inference procedure\n",
      "starting bootstrap iteration: 1\n",
      "starting bootstrap iteration: 2\n",
      "starting bootstrap iteration: 3\n",
      "starting bootstrap iteration: 4\n",
      "starting bootstrap iteration: 5\n",
      "starting bootstrap iteration: 6\n",
      "starting bootstrap iteration: 7\n",
      "starting bootstrap iteration: 8\n",
      "starting bootstrap iteration: 9\n",
      "starting bootstrap iteration: 10\n",
      "starting bootstrap iteration: 11\n",
      "starting bootstrap iteration: 12\n",
      "starting bootstrap iteration: 13\n",
      "starting bootstrap iteration: 14\n",
      "starting bootstrap iteration: 15\n",
      "starting bootstrap iteration: 16\n",
      "starting bootstrap iteration: 17\n",
      "starting bootstrap iteration: 18\n",
      "starting bootstrap iteration: 19\n",
      "starting bootstrap iteration: 20\n",
      "starting bootstrap iteration: 21\n",
      "starting bootstrap iteration: 22\n",
      "starting bootstrap iteration: 23\n",
      "starting bootstrap iteration: 24\n",
      "starting bootstrap iteration: 25\n",
      "starting bootstrap iteration: 26\n",
      "starting bootstrap iteration: 27\n",
      "starting bootstrap iteration: 28\n",
      "starting bootstrap iteration: 29\n",
      "starting bootstrap iteration: 30\n",
      "starting bootstrap iteration: 31\n",
      "starting bootstrap iteration: 32\n",
      "starting bootstrap iteration: 33\n",
      "starting bootstrap iteration: 34\n",
      "starting bootstrap iteration: 35\n",
      "starting bootstrap iteration: 36\n",
      "starting bootstrap iteration: 37\n",
      "starting bootstrap iteration: 38\n",
      "starting bootstrap iteration: 39\n",
      "starting bootstrap iteration: 40\n",
      "starting bootstrap iteration: 41\n",
      "starting bootstrap iteration: 42\n",
      "starting bootstrap iteration: 43\n",
      "starting bootstrap iteration: 44\n",
      "starting bootstrap iteration: 45\n",
      "starting bootstrap iteration: 46\n",
      "starting bootstrap iteration: 47\n",
      "starting bootstrap iteration: 48\n",
      "starting bootstrap iteration: 49\n",
      "starting bootstrap iteration: 50\n"
     ]
    }
   ],
   "source": [
    "#### \n",
    "rp_pdgene <- rolypoly_roll(\n",
    "  gwas_data = gwas_pdgene,\n",
    "  block_annotation = anno,\n",
    "  block_data = df,\n",
    "  ld_folder = ld_path\n",
    ")"
   ]
  },
  {
   "cell_type": "code",
   "execution_count": 380,
   "metadata": {},
   "outputs": [],
   "source": [
    "#### PDGENE "
   ]
  },
  {
   "cell_type": "code",
   "execution_count": 381,
   "metadata": {},
   "outputs": [
    {
     "data": {
      "text/html": [
       "<dl class=dl-horizontal>\n",
       "\t<dt>Astro_D30</dt>\n",
       "\t\t<dd>-0.438928208532752</dd>\n",
       "\t<dt>Sert_D52</dt>\n",
       "\t\t<dd>-0.394328096989047</dd>\n",
       "\t<dt>DA_D30</dt>\n",
       "\t\t<dd>-0.338836757163315</dd>\n",
       "\t<dt>P_FPP_D11</dt>\n",
       "\t\t<dd>-0.307119678015412</dd>\n",
       "\t<dt>NB_D11</dt>\n",
       "\t\t<dd>-0.0711897395499164</dd>\n",
       "\t<dt>Epen1_D52</dt>\n",
       "\t\t<dd>-0.0108235742150971</dd>\n",
       "\t<dt>Epen1_D30</dt>\n",
       "\t\t<dd>0.0406436337725688</dd>\n",
       "\t<dt>FPP_D11</dt>\n",
       "\t\t<dd>0.236283609029325</dd>\n",
       "\t<dt>Astro_D52</dt>\n",
       "\t\t<dd>0.296693948709958</dd>\n",
       "\t<dt>DA_D52</dt>\n",
       "\t\t<dd>0.365805143751994</dd>\n",
       "\t<dt>Sert_D30</dt>\n",
       "\t\t<dd>0.611326501251005</dd>\n",
       "\t<dt>intercept</dt>\n",
       "\t\t<dd>1.00954341665169</dd>\n",
       "</dl>\n"
      ],
      "text/latex": [
       "\\begin{description*}\n",
       "\\item[Astro\\textbackslash{}\\_D30] -0.438928208532752\n",
       "\\item[Sert\\textbackslash{}\\_D52] -0.394328096989047\n",
       "\\item[DA\\textbackslash{}\\_D30] -0.338836757163315\n",
       "\\item[P\\textbackslash{}\\_FPP\\textbackslash{}\\_D11] -0.307119678015412\n",
       "\\item[NB\\textbackslash{}\\_D11] -0.0711897395499164\n",
       "\\item[Epen1\\textbackslash{}\\_D52] -0.0108235742150971\n",
       "\\item[Epen1\\textbackslash{}\\_D30] 0.0406436337725688\n",
       "\\item[FPP\\textbackslash{}\\_D11] 0.236283609029325\n",
       "\\item[Astro\\textbackslash{}\\_D52] 0.296693948709958\n",
       "\\item[DA\\textbackslash{}\\_D52] 0.365805143751994\n",
       "\\item[Sert\\textbackslash{}\\_D30] 0.611326501251005\n",
       "\\item[intercept] 1.00954341665169\n",
       "\\end{description*}\n"
      ],
      "text/markdown": [
       "Astro_D30\n",
       ":   -0.438928208532752Sert_D52\n",
       ":   -0.394328096989047DA_D30\n",
       ":   -0.338836757163315P_FPP_D11\n",
       ":   -0.307119678015412NB_D11\n",
       ":   -0.0711897395499164Epen1_D52\n",
       ":   -0.0108235742150971Epen1_D30\n",
       ":   0.0406436337725688FPP_D11\n",
       ":   0.236283609029325Astro_D52\n",
       ":   0.296693948709958DA_D52\n",
       ":   0.365805143751994Sert_D30\n",
       ":   0.611326501251005intercept\n",
       ":   1.00954341665169\n",
       "\n"
      ],
      "text/plain": [
       "  Astro_D30    Sert_D52      DA_D30   P_FPP_D11      NB_D11   Epen1_D52 \n",
       "-0.43892821 -0.39432810 -0.33883676 -0.30711968 -0.07118974 -0.01082357 \n",
       "  Epen1_D30     FPP_D11   Astro_D52      DA_D52    Sert_D30   intercept \n",
       " 0.04064363  0.23628361  0.29669395  0.36580514  0.61132650  1.00954342 "
      ]
     },
     "metadata": {},
     "output_type": "display_data"
    }
   ],
   "source": [
    "rp_pdgene$full_results$parameters %>% sort"
   ]
  },
  {
   "cell_type": "code",
   "execution_count": 382,
   "metadata": {},
   "outputs": [
    {
     "data": {
      "image/png": "[encoded data removed]",
      "text/plain": [
       "plot without title"
      ]
     },
     "metadata": {},
     "output_type": "display_data"
    }
   ],
   "source": [
    "plot_rolypoly_annotation_estimates(rp_pdgene)"
   ]
  },
  {
   "cell_type": "code",
   "execution_count": 390,
   "metadata": {},
   "outputs": [],
   "source": [
    "#### PDWBS"
   ]
  },
  {
   "cell_type": "code",
   "execution_count": 397,
   "metadata": {},
   "outputs": [
    {
     "name": "stderr",
     "output_type": "stream",
     "text": [
      "adding gwas\n",
      "filtering out SNPs with MAF < 1%\n",
      "adding block annotations\n",
      "beginning processs of linking gwas and block annotations\n",
      "##------ Mon Jan 13 11:39:17 2020 ------## - starting blocks on chrom: 1\n",
      "##------ Mon Jan 13 11:39:27 2020 ------## - starting blocks on chrom: 10\n",
      "##------ Mon Jan 13 11:39:30 2020 ------## - starting blocks on chrom: 11\n",
      "##------ Mon Jan 13 11:39:38 2020 ------## - starting blocks on chrom: 12\n",
      "##------ Mon Jan 13 11:39:42 2020 ------## - starting blocks on chrom: 13\n",
      "##------ Mon Jan 13 11:39:46 2020 ------## - starting blocks on chrom: 14\n",
      "##------ Mon Jan 13 11:39:50 2020 ------## - starting blocks on chrom: 15\n",
      "##------ Mon Jan 13 11:39:52 2020 ------## - starting blocks on chrom: 16\n",
      "##------ Mon Jan 13 11:39:54 2020 ------## - starting blocks on chrom: 17\n",
      "##------ Mon Jan 13 11:39:59 2020 ------## - starting blocks on chrom: 18\n",
      "##------ Mon Jan 13 11:40:00 2020 ------## - starting blocks on chrom: 19\n",
      "##------ Mon Jan 13 11:40:05 2020 ------## - starting blocks on chrom: 2\n",
      "##------ Mon Jan 13 11:40:24 2020 ------## - starting blocks on chrom: 20\n",
      "##------ Mon Jan 13 11:40:26 2020 ------## - starting blocks on chrom: 21\n",
      "##------ Mon Jan 13 11:40:27 2020 ------## - starting blocks on chrom: 22\n",
      "##------ Mon Jan 13 11:40:30 2020 ------## - starting blocks on chrom: 3\n",
      "##------ Mon Jan 13 11:40:37 2020 ------## - starting blocks on chrom: 4\n",
      "##------ Mon Jan 13 11:40:57 2020 ------## - starting blocks on chrom: 5\n",
      "##------ Mon Jan 13 11:41:02 2020 ------## - starting blocks on chrom: 6\n",
      "##------ Mon Jan 13 11:41:10 2020 ------## - starting blocks on chrom: 7\n",
      "##------ Mon Jan 13 11:41:16 2020 ------## - starting blocks on chrom: 8\n",
      "##------ Mon Jan 13 11:41:20 2020 ------## - starting blocks on chrom: 9\n",
      "merging functional information about blocks\n",
      "starting inference procedure\n",
      "starting bootstrap iteration: 1\n",
      "starting bootstrap iteration: 2\n",
      "starting bootstrap iteration: 3\n",
      "starting bootstrap iteration: 4\n",
      "starting bootstrap iteration: 5\n",
      "starting bootstrap iteration: 6\n",
      "starting bootstrap iteration: 7\n",
      "starting bootstrap iteration: 8\n",
      "starting bootstrap iteration: 9\n",
      "starting bootstrap iteration: 10\n",
      "starting bootstrap iteration: 11\n",
      "starting bootstrap iteration: 12\n",
      "starting bootstrap iteration: 13\n",
      "starting bootstrap iteration: 14\n",
      "starting bootstrap iteration: 15\n",
      "starting bootstrap iteration: 16\n",
      "starting bootstrap iteration: 17\n",
      "starting bootstrap iteration: 18\n",
      "starting bootstrap iteration: 19\n",
      "starting bootstrap iteration: 20\n",
      "starting bootstrap iteration: 21\n",
      "starting bootstrap iteration: 22\n",
      "starting bootstrap iteration: 23\n",
      "starting bootstrap iteration: 24\n",
      "starting bootstrap iteration: 25\n",
      "starting bootstrap iteration: 26\n",
      "starting bootstrap iteration: 27\n",
      "starting bootstrap iteration: 28\n",
      "starting bootstrap iteration: 29\n",
      "starting bootstrap iteration: 30\n",
      "starting bootstrap iteration: 31\n",
      "starting bootstrap iteration: 32\n",
      "starting bootstrap iteration: 33\n",
      "starting bootstrap iteration: 34\n",
      "starting bootstrap iteration: 35\n",
      "starting bootstrap iteration: 36\n",
      "starting bootstrap iteration: 37\n",
      "starting bootstrap iteration: 38\n",
      "starting bootstrap iteration: 39\n",
      "starting bootstrap iteration: 40\n",
      "starting bootstrap iteration: 41\n",
      "starting bootstrap iteration: 42\n",
      "starting bootstrap iteration: 43\n",
      "starting bootstrap iteration: 44\n",
      "starting bootstrap iteration: 45\n",
      "starting bootstrap iteration: 46\n",
      "starting bootstrap iteration: 47\n",
      "starting bootstrap iteration: 48\n",
      "starting bootstrap iteration: 49\n",
      "starting bootstrap iteration: 50\n"
     ]
    }
   ],
   "source": [
    "#### \n",
    "rp_pdwbs <- rolypoly_roll(\n",
    "  gwas_data = gwas_pdwbs,\n",
    "  block_annotation = anno,\n",
    "  block_data = df,\n",
    "  ld_folder = ld_path\n",
    ")"
   ]
  },
  {
   "cell_type": "code",
   "execution_count": 398,
   "metadata": {},
   "outputs": [
    {
     "data": {
      "text/html": [
       "<dl class=dl-horizontal>\n",
       "\t<dt>Astro_D30</dt>\n",
       "\t\t<dd>-0.438928208532752</dd>\n",
       "\t<dt>Sert_D52</dt>\n",
       "\t\t<dd>-0.394328096989047</dd>\n",
       "\t<dt>DA_D30</dt>\n",
       "\t\t<dd>-0.338836757163315</dd>\n",
       "\t<dt>P_FPP_D11</dt>\n",
       "\t\t<dd>-0.307119678015412</dd>\n",
       "\t<dt>NB_D11</dt>\n",
       "\t\t<dd>-0.0711897395499164</dd>\n",
       "\t<dt>Epen1_D52</dt>\n",
       "\t\t<dd>-0.0108235742150971</dd>\n",
       "\t<dt>Epen1_D30</dt>\n",
       "\t\t<dd>0.0406436337725688</dd>\n",
       "\t<dt>FPP_D11</dt>\n",
       "\t\t<dd>0.236283609029325</dd>\n",
       "\t<dt>Astro_D52</dt>\n",
       "\t\t<dd>0.296693948709958</dd>\n",
       "\t<dt>DA_D52</dt>\n",
       "\t\t<dd>0.365805143751994</dd>\n",
       "\t<dt>Sert_D30</dt>\n",
       "\t\t<dd>0.611326501251005</dd>\n",
       "\t<dt>intercept</dt>\n",
       "\t\t<dd>1.00954341665169</dd>\n",
       "</dl>\n"
      ],
      "text/latex": [
       "\\begin{description*}\n",
       "\\item[Astro\\textbackslash{}\\_D30] -0.438928208532752\n",
       "\\item[Sert\\textbackslash{}\\_D52] -0.394328096989047\n",
       "\\item[DA\\textbackslash{}\\_D30] -0.338836757163315\n",
       "\\item[P\\textbackslash{}\\_FPP\\textbackslash{}\\_D11] -0.307119678015412\n",
       "\\item[NB\\textbackslash{}\\_D11] -0.0711897395499164\n",
       "\\item[Epen1\\textbackslash{}\\_D52] -0.0108235742150971\n",
       "\\item[Epen1\\textbackslash{}\\_D30] 0.0406436337725688\n",
       "\\item[FPP\\textbackslash{}\\_D11] 0.236283609029325\n",
       "\\item[Astro\\textbackslash{}\\_D52] 0.296693948709958\n",
       "\\item[DA\\textbackslash{}\\_D52] 0.365805143751994\n",
       "\\item[Sert\\textbackslash{}\\_D30] 0.611326501251005\n",
       "\\item[intercept] 1.00954341665169\n",
       "\\end{description*}\n"
      ],
      "text/markdown": [
       "Astro_D30\n",
       ":   -0.438928208532752Sert_D52\n",
       ":   -0.394328096989047DA_D30\n",
       ":   -0.338836757163315P_FPP_D11\n",
       ":   -0.307119678015412NB_D11\n",
       ":   -0.0711897395499164Epen1_D52\n",
       ":   -0.0108235742150971Epen1_D30\n",
       ":   0.0406436337725688FPP_D11\n",
       ":   0.236283609029325Astro_D52\n",
       ":   0.296693948709958DA_D52\n",
       ":   0.365805143751994Sert_D30\n",
       ":   0.611326501251005intercept\n",
       ":   1.00954341665169\n",
       "\n"
      ],
      "text/plain": [
       "  Astro_D30    Sert_D52      DA_D30   P_FPP_D11      NB_D11   Epen1_D52 \n",
       "-0.43892821 -0.39432810 -0.33883676 -0.30711968 -0.07118974 -0.01082357 \n",
       "  Epen1_D30     FPP_D11   Astro_D52      DA_D52    Sert_D30   intercept \n",
       " 0.04064363  0.23628361  0.29669395  0.36580514  0.61132650  1.00954342 "
      ]
     },
     "metadata": {},
     "output_type": "display_data"
    }
   ],
   "source": [
    "rp_pdwbs$full_results$parameters %>% sort"
   ]
  },
  {
   "cell_type": "code",
   "execution_count": 399,
   "metadata": {},
   "outputs": [
    {
     "data": {
      "image/png": "[encoded data removed]",
      "text/plain": [
       "plot without title"
      ]
     },
     "metadata": {},
     "output_type": "display_data"
    }
   ],
   "source": [
    "plot_rolypoly_annotation_estimates(rp_pdwbs)"
   ]
  },
  {
   "cell_type": "code",
   "execution_count": 387,
   "metadata": {},
   "outputs": [],
   "source": [
    "#### FULL METADATA PD (META)"
   ]
  },
  {
   "cell_type": "code",
   "execution_count": null,
   "metadata": {},
   "outputs": [],
   "source": [
    "#### \n",
    "rp_meta <- rolypoly_roll(\n",
    "  gwas_data = gwas_meta,\n",
    "  block_annotation = anno,\n",
    "  block_data = df,\n",
    "  ld_folder = ld_path\n",
    ")"
   ]
  },
  {
   "cell_type": "code",
   "execution_count": 388,
   "metadata": {},
   "outputs": [
    {
     "data": {
      "text/html": [
       "<dl class=dl-horizontal>\n",
       "\t<dt>DA_D30</dt>\n",
       "\t\t<dd>-0.397186703110911</dd>\n",
       "\t<dt>P_FPP_D11</dt>\n",
       "\t\t<dd>-0.319605359842747</dd>\n",
       "\t<dt>Sert_D52</dt>\n",
       "\t\t<dd>-0.199649821212477</dd>\n",
       "\t<dt>Astro_D52</dt>\n",
       "\t\t<dd>-0.0459832091279372</dd>\n",
       "\t<dt>Astro_D30</dt>\n",
       "\t\t<dd>-0.0329830796713635</dd>\n",
       "\t<dt>Epen1_D30</dt>\n",
       "\t\t<dd>0.00350339638638083</dd>\n",
       "\t<dt>NB_D11</dt>\n",
       "\t\t<dd>0.00473141080730685</dd>\n",
       "\t<dt>Epen1_D52</dt>\n",
       "\t\t<dd>0.0850482956057424</dd>\n",
       "\t<dt>Sert_D30</dt>\n",
       "\t\t<dd>0.237010905794848</dd>\n",
       "\t<dt>FPP_D11</dt>\n",
       "\t\t<dd>0.270075804397993</dd>\n",
       "\t<dt>DA_D52</dt>\n",
       "\t\t<dd>0.356071707028439</dd>\n",
       "\t<dt>intercept</dt>\n",
       "\t\t<dd>0.997563223796248</dd>\n",
       "</dl>\n"
      ],
      "text/latex": [
       "\\begin{description*}\n",
       "\\item[DA\\textbackslash{}\\_D30] -0.397186703110911\n",
       "\\item[P\\textbackslash{}\\_FPP\\textbackslash{}\\_D11] -0.319605359842747\n",
       "\\item[Sert\\textbackslash{}\\_D52] -0.199649821212477\n",
       "\\item[Astro\\textbackslash{}\\_D52] -0.0459832091279372\n",
       "\\item[Astro\\textbackslash{}\\_D30] -0.0329830796713635\n",
       "\\item[Epen1\\textbackslash{}\\_D30] 0.00350339638638083\n",
       "\\item[NB\\textbackslash{}\\_D11] 0.00473141080730685\n",
       "\\item[Epen1\\textbackslash{}\\_D52] 0.0850482956057424\n",
       "\\item[Sert\\textbackslash{}\\_D30] 0.237010905794848\n",
       "\\item[FPP\\textbackslash{}\\_D11] 0.270075804397993\n",
       "\\item[DA\\textbackslash{}\\_D52] 0.356071707028439\n",
       "\\item[intercept] 0.997563223796248\n",
       "\\end{description*}\n"
      ],
      "text/markdown": [
       "DA_D30\n",
       ":   -0.397186703110911P_FPP_D11\n",
       ":   -0.319605359842747Sert_D52\n",
       ":   -0.199649821212477Astro_D52\n",
       ":   -0.0459832091279372Astro_D30\n",
       ":   -0.0329830796713635Epen1_D30\n",
       ":   0.00350339638638083NB_D11\n",
       ":   0.00473141080730685Epen1_D52\n",
       ":   0.0850482956057424Sert_D30\n",
       ":   0.237010905794848FPP_D11\n",
       ":   0.270075804397993DA_D52\n",
       ":   0.356071707028439intercept\n",
       ":   0.997563223796248\n",
       "\n"
      ],
      "text/plain": [
       "      DA_D30    P_FPP_D11     Sert_D52    Astro_D52    Astro_D30    Epen1_D30 \n",
       "-0.397186703 -0.319605360 -0.199649821 -0.045983209 -0.032983080  0.003503396 \n",
       "      NB_D11    Epen1_D52     Sert_D30      FPP_D11       DA_D52    intercept \n",
       " 0.004731411  0.085048296  0.237010906  0.270075804  0.356071707  0.997563224 "
      ]
     },
     "metadata": {},
     "output_type": "display_data"
    }
   ],
   "source": [
    "rp_meta$full_results$parameters %>% sort"
   ]
  },
  {
   "cell_type": "code",
   "execution_count": 402,
   "metadata": {},
   "outputs": [
    {
     "data": {
      "image/png": "[encoded data removed]",
      "text/plain": [
       "plot without title"
      ]
     },
     "metadata": {},
     "output_type": "display_data"
    }
   ],
   "source": [
    "plot_rolypoly_annotation_estimates(rp_meta)"
   ]
  },
  {
   "cell_type": "code",
   "execution_count": 400,
   "metadata": {},
   "outputs": [
    {
     "data": {
      "image/png": "[encoded data removed]",
      "text/plain": [
       "plot without title"
      ]
     },
     "metadata": {},
     "output_type": "display_data"
    }
   ],
   "source": [
    "plot_rolypoly_annotation_ranking(rp_meta)"
   ]
  },
  {
   "cell_type": "code",
   "execution_count": null,
   "metadata": {},
   "outputs": [],
   "source": []
  }
 ],
 "metadata": {
  "kernelspec": {
   "display_name": "R",
   "language": "R",
   "name": "ir"
  },
  "language_info": {
   "codemirror_mode": "r",
   "file_extension": ".r",
   "mimetype": "text/x-r-source",
   "name": "R",
   "pygments_lexer": "r",
   "version": "3.5.1"
  }
 },
 "nbformat": 4,
 "nbformat_minor": 2
}
