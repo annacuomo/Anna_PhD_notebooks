{
 "cells": [
  {
   "cell_type": "code",
   "execution_count": 1,
   "metadata": {},
   "outputs": [],
   "source": [
    "# pip install matplotlib-venn"
   ]
  },
  {
   "cell_type": "code",
   "execution_count": 2,
   "metadata": {},
   "outputs": [],
   "source": [
    "#Import libraries\n",
    "from matplotlib_venn import venn2, venn2_circles, venn2_unweighted\n",
    "from matplotlib_venn import venn3, venn3_circles\n",
    "from matplotlib import pyplot as plt\n",
    "%matplotlib inline"
   ]
  },
  {
   "cell_type": "code",
   "execution_count": 3,
   "metadata": {},
   "outputs": [
    {
     "data": {
      "text/plain": [
       "<matplotlib_venn._common.VennDiagram at 0x2ab4666dd510>"
      ]
     },
     "execution_count": 3,
     "metadata": {},
     "output_type": "execute_result"
    },
    {
     "data": {
      "image/png": "[encoded data removed]",
      "text/plain": [
       "<Figure size 432x288 with 1 Axes>"
      ]
     },
     "metadata": {},
     "output_type": "display_data"
    }
   ],
   "source": [
    "venn2(subsets = (30, 10, 5), set_labels = ('Group A', 'Group B'))"
   ]
  },
  {
   "cell_type": "code",
   "execution_count": 4,
   "metadata": {},
   "outputs": [],
   "source": [
    "import re\n",
    "import pandas as pd\n",
    "import numpy as np\n",
    "import os\n",
    "import seaborn as sns\n",
    "import h5py\n",
    "import scipy.stats\n",
    "import random\n",
    "from matplotlib.pyplot import *\n",
    "from statsmodels.nonparametric import smoothers_lowess\n",
    "import statsmodels.stats.multitest\n",
    "from sklearn.linear_model import Lasso\n",
    "from sklearn.metrics import r2_score\n",
    "from sklearn.decomposition import PCA\n",
    "from IPython.display import display, HTML\n",
    "import glob\n",
    "import matplotlib_venn\n",
    "\n",
    "\n",
    "sns.set_style(\"ticks\")\n",
    "rcParams['svg.fonttype'] = 'none'\n",
    "%matplotlib inline"
   ]
  },
  {
   "cell_type": "code",
   "execution_count": 5,
   "metadata": {},
   "outputs": [
    {
     "name": "stdout",
     "output_type": "stream",
     "text": [
      "199\n"
     ]
    }
   ],
   "source": [
    "diff_df = pd.read_csv('/nfs/leia/research/stegle/dseaton/hipsci/singlecell_neuroseq/data/data_processed/pool1_17_D52/pool1_17_D52.scanpy.w_metadata.w_celltype.scanpy.obs_df.groupedby.donor_id-pool_id-time_point.diff_efficiency_by_cell_line.tsv',\n",
    "                     sep='\\t')\n",
    "neuroseq_donor_set = set(diff_df['donor_id'].tolist())\n",
    "\n",
    "print(len(neuroseq_donor_set))"
   ]
  },
  {
   "cell_type": "code",
   "execution_count": null,
   "metadata": {},
   "outputs": [],
   "source": [
    "#t_file = '/nfs/leia/research/stegle/dseaton/hipsci/proteomics_analysis/data/analysis/IPSc.ISR.featureCounts.genes.counts.unique.stranded.tsv_counts.HQ_TMM_TPM.tsv.gz'\n",
    "t_file = '/hps/nobackup/hipsci/scratch/trans_eqtls/IPS_Bulk-RNA_Processing/Merged/IPS_Bulk-RNA_Processing/FullFreeze_Corrected_iPSC_20180506.txt.gz'\n",
    "\n",
    "t_df = pd.read_csv(t_file,\n",
    "                  sep='\\t', index_col=0)\n",
    "\n",
    "t_df.columns = [x.replace('i.','i-').replace('.hs37d5','') for x in t_df.columns]\n",
    "\n",
    "t_df = t_df.loc[:, [x.startswith('HPSI') for x in t_df.columns]]\n",
    "t_df = t_df[t_df.mean(axis=1)>2.0]\n",
    "\n",
    "print(t_df.shape)\n",
    "\n",
    "bulk_donor_set = set(t_df.columns)\n",
    "print(len(bulk_donor_set))\n",
    "\n",
    "t_df.head()"
   ]
  },
  {
   "cell_type": "code",
   "execution_count": null,
   "metadata": {},
   "outputs": [],
   "source": [
    "sc_metadata_file = '/nfs/leia/research/stegle/dseaton/hipsci/singlecell_endodiff/data/sce_merged_afterqc_filt_allexpts_metadata_20180618.tsv'\n",
    "\n",
    "sc_df = pd.read_csv(sc_metadata_file, sep='\\t')\n",
    "\n",
    "sc_df = sc_df.query('day==\"day0\"')\n",
    "\n",
    "sc_donor_set = set(sc_df['donor_long_id'].drop_duplicates().tolist())\n",
    "\n",
    "print(len(sc_donor_set))\n",
    "\n",
    "sc_df.head()"
   ]
  },
  {
   "cell_type": "code",
   "execution_count": null,
   "metadata": {},
   "outputs": [],
   "source": [
    "set_labels = ['Neural diff. \\nscRNA-seq\\n(this study)',\n",
    "              'iPSC bulk \\nRNA-seq\\n(Kilpinen \\net al, 2017)',\n",
    "              'iPSC scRNA-seq\\n(Cuomo et al, 2020)'\n",
    "              ]\n",
    "\n",
    "fig = figure(figsize=(6,3))\n",
    "matplotlib_venn.venn3([neuroseq_donor_set, bulk_donor_set,sc_donor_set],\n",
    "                     set_labels = set_labels)\n"
   ]
  },
  {
   "cell_type": "code",
   "execution_count": null,
   "metadata": {},
   "outputs": [],
   "source": [
    "matplotlib_venn.venn3([neuroseq_donor_set, bulk_donor_set,sc_donor_set],\n",
    "                     set_labels = set_labels, set_colors=('darkred','firebrick','coral'), alpha = 0.5)"
   ]
  },
  {
   "cell_type": "code",
   "execution_count": null,
   "metadata": {},
   "outputs": [],
   "source": [
    "set_labels = ['',\n",
    "              '',\n",
    "              ''\n",
    "              ]\n",
    "v = matplotlib_venn.venn3([neuroseq_donor_set, bulk_donor_set,sc_donor_set],\n",
    "                     set_labels = set_labels, set_colors=('darkred','firebrick','coral'), alpha = 0.5)\n",
    "v.get_label_by_id('100').set_text('')\n",
    "v.get_label_by_id('001').set_text('')"
   ]
  },
  {
   "cell_type": "code",
   "execution_count": null,
   "metadata": {},
   "outputs": [],
   "source": [
    "set_labels = ['',\n",
    "              '',\n",
    "              ''\n",
    "              ]\n",
    "v = matplotlib_venn.venn3([neuroseq_donor_set, bulk_donor_set,sc_donor_set],\n",
    "                     set_labels = set_labels, set_colors=('white','lightgrey','black'), alpha = 0.8)\n",
    "v.get_label_by_id('100').set_text('')\n",
    "v.get_label_by_id('001').set_text('')\n",
    "c=venn3_circles([neuroseq_donor_set, bulk_donor_set,sc_donor_set], linewidth=1)\n",
    "c[0].set_lw(5)\n",
    "# c[0].set_ls('dotted')\n",
    "# c[0].set_color('skyblue')\n",
    "plt.show()"
   ]
  },
  {
   "cell_type": "code",
   "execution_count": null,
   "metadata": {},
   "outputs": [],
   "source": [
    "from matplotlib_venn import *\n",
    "from matplotlib import pyplot as plt\n",
    "v = venn2(subsets = {'10': 1, '01': 1, '11': 1}, set_labels = ('A', 'B'))\n",
    "v.get_patch_by_id('10').set_alpha(0.5)\n",
    "v.get_patch_by_id('10').set_color('orange')\n",
    "v.get_patch_by_id('01').set_alpha(0.5)\n",
    "v.get_patch_by_id('01').set_color('orange')\n",
    "v.get_patch_by_id('11').set_alpha(0.75)\n",
    "v.get_patch_by_id('11').set_color('orange')\n",
    "v.get_label_by_id('10').set_text('')\n",
    "v.get_label_by_id('01').set_text('')\n",
    "v.get_label_by_id('11').set_text('')\n",
    "v.get_label_by_id('A').set_text('')\n",
    "v.get_label_by_id('B').set_text('')\n",
    "v.get_label_by_id('A').set_size(20)\n",
    "v.get_label_by_id('B').set_size(20)\n",
    "plt.annotate('Event A', xy = v.get_label_by_id('10').get_position(), xytext = (-30,-70), size = 'xx-large',\n",
    "            ha = 'center', textcoords = 'offset points', bbox = dict(boxstyle = 'round, pad=0.5', fc = 'lime', alpha = 0.3),\n",
    "            arrowprops = dict(arrowstyle = '->', connectionstyle = 'arc3, rad = 0.5', color = 'gray'))\n",
    "\n",
    "plt.annotate('Event B', xy = v.get_label_by_id('01').get_position(), xytext = (30,-70), size = 'xx-large',\n",
    "            ha = 'center', textcoords = 'offset points', bbox = dict(boxstyle = 'round, pad = 0.5', fc = 'lime', alpha = 0.3),\n",
    "            arrowprops = dict(arrowstyle = '->', connectionstyle = 'arc3,rad = -0.5',color = 'gray'))\n",
    "\n",
    "plt.show()"
   ]
  },
  {
   "cell_type": "code",
   "execution_count": null,
   "metadata": {},
   "outputs": [],
   "source": []
  }
 ],
 "metadata": {
  "kernelspec": {
   "display_name": "Python 3",
   "language": "python",
   "name": "python3"
  },
  "language_info": {
   "codemirror_mode": {
    "name": "ipython",
    "version": 3
   },
   "file_extension": ".py",
   "mimetype": "text/x-python",
   "name": "python",
   "nbconvert_exporter": "python",
   "pygments_lexer": "ipython3",
   "version": "3.7.6"
  }
 },
 "nbformat": 4,
 "nbformat_minor": 2
}
