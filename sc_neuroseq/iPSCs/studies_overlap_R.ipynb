{
 "cells": [
  {
   "cell_type": "code",
   "execution_count": null,
   "metadata": {},
   "outputs": [],
   "source": [
    "## Neuroseq"
   ]
  },
  {
   "cell_type": "code",
   "execution_count": 3,
   "metadata": {},
   "outputs": [
    {
     "data": {
      "text/html": [
       "<table>\n",
       "<thead><tr><th scope=col>donor_id</th><th scope=col>diff_efficiency</th></tr></thead>\n",
       "<tbody>\n",
       "\t<tr><td>HPSI0114i-bezi_3</td><td>0.58269720      </td></tr>\n",
       "\t<tr><td>HPSI0114i-eipl_1</td><td>0.01287835      </td></tr>\n",
       "\t<tr><td>HPSI0114i-fikt_3</td><td>0.40282686      </td></tr>\n",
       "\t<tr><td>HPSI0114i-kolf_2</td><td>0.47059133      </td></tr>\n",
       "\t<tr><td>HPSI0114i-lexy_2</td><td>0.72690535      </td></tr>\n",
       "\t<tr><td>HPSI0114i-posc_1</td><td>0.81349206      </td></tr>\n",
       "</tbody>\n",
       "</table>\n"
      ],
      "text/latex": [
       "\\begin{tabular}{r|ll}\n",
       " donor\\_id & diff\\_efficiency\\\\\n",
       "\\hline\n",
       "\t HPSI0114i-bezi\\_3 & 0.58269720        \\\\\n",
       "\t HPSI0114i-eipl\\_1 & 0.01287835        \\\\\n",
       "\t HPSI0114i-fikt\\_3 & 0.40282686        \\\\\n",
       "\t HPSI0114i-kolf\\_2 & 0.47059133        \\\\\n",
       "\t HPSI0114i-lexy\\_2 & 0.72690535        \\\\\n",
       "\t HPSI0114i-posc\\_1 & 0.81349206        \\\\\n",
       "\\end{tabular}\n"
      ],
      "text/markdown": [
       "\n",
       "| donor_id | diff_efficiency |\n",
       "|---|---|\n",
       "| HPSI0114i-bezi_3 | 0.58269720       |\n",
       "| HPSI0114i-eipl_1 | 0.01287835       |\n",
       "| HPSI0114i-fikt_3 | 0.40282686       |\n",
       "| HPSI0114i-kolf_2 | 0.47059133       |\n",
       "| HPSI0114i-lexy_2 | 0.72690535       |\n",
       "| HPSI0114i-posc_1 | 0.81349206       |\n",
       "\n"
      ],
      "text/plain": [
       "  donor_id         diff_efficiency\n",
       "1 HPSI0114i-bezi_3 0.58269720     \n",
       "2 HPSI0114i-eipl_1 0.01287835     \n",
       "3 HPSI0114i-fikt_3 0.40282686     \n",
       "4 HPSI0114i-kolf_2 0.47059133     \n",
       "5 HPSI0114i-lexy_2 0.72690535     \n",
       "6 HPSI0114i-posc_1 0.81349206     "
      ]
     },
     "metadata": {},
     "output_type": "display_data"
    }
   ],
   "source": [
    "filename = '/nfs/leia/research/stegle/dseaton/hipsci/singlecell_neuroseq/data/data_processed/pool1_17_D52/pool1_17_D52.scanpy.w_metadata.w_celltype.scanpy.obs_df.groupedby.donor_id-pool_id-time_point.diff_efficiency_by_cell_line.tsv'\n",
    "diff_df = read.csv(filename,sep='\\t')\n",
    "head(diff_df)"
   ]
  },
  {
   "cell_type": "code",
   "execution_count": 14,
   "metadata": {},
   "outputs": [
    {
     "data": {
      "text/html": [
       "199"
      ],
      "text/latex": [
       "199"
      ],
      "text/markdown": [
       "199"
      ],
      "text/plain": [
       "[1] 199"
      ]
     },
     "metadata": {},
     "output_type": "display_data"
    },
    {
     "data": {
      "text/html": [
       "<ol class=list-inline>\n",
       "\t<li>'HPSI0114i-bezi_3'</li>\n",
       "\t<li>'HPSI0114i-eipl_1'</li>\n",
       "\t<li>'HPSI0114i-fikt_3'</li>\n",
       "\t<li>'HPSI0114i-kolf_2'</li>\n",
       "\t<li>'HPSI0114i-lexy_2'</li>\n",
       "\t<li>'HPSI0114i-posc_1'</li>\n",
       "</ol>\n"
      ],
      "text/latex": [
       "\\begin{enumerate*}\n",
       "\\item 'HPSI0114i-bezi\\_3'\n",
       "\\item 'HPSI0114i-eipl\\_1'\n",
       "\\item 'HPSI0114i-fikt\\_3'\n",
       "\\item 'HPSI0114i-kolf\\_2'\n",
       "\\item 'HPSI0114i-lexy\\_2'\n",
       "\\item 'HPSI0114i-posc\\_1'\n",
       "\\end{enumerate*}\n"
      ],
      "text/markdown": [
       "1. 'HPSI0114i-bezi_3'\n",
       "2. 'HPSI0114i-eipl_1'\n",
       "3. 'HPSI0114i-fikt_3'\n",
       "4. 'HPSI0114i-kolf_2'\n",
       "5. 'HPSI0114i-lexy_2'\n",
       "6. 'HPSI0114i-posc_1'\n",
       "\n",
       "\n"
      ],
      "text/plain": [
       "[1] \"HPSI0114i-bezi_3\" \"HPSI0114i-eipl_1\" \"HPSI0114i-fikt_3\" \"HPSI0114i-kolf_2\"\n",
       "[5] \"HPSI0114i-lexy_2\" \"HPSI0114i-posc_1\""
      ]
     },
     "metadata": {},
     "output_type": "display_data"
    }
   ],
   "source": [
    "neuroseq_donor_set = unique(as.character(diff_df$donor_id))\n",
    "length(neuroseq_donor_set)\n",
    "head(neuroseq_donor_set)"
   ]
  },
  {
   "cell_type": "code",
   "execution_count": null,
   "metadata": {},
   "outputs": [],
   "source": [
    "## Bulk iPSC (Bonder et al)"
   ]
  },
  {
   "cell_type": "code",
   "execution_count": 49,
   "metadata": {},
   "outputs": [
    {
     "data": {
      "text/html": [
       "<table>\n",
       "<thead><tr><th></th><th scope=col>X1191d5e0.9a2a.4ba4.b322.a591912160ee</th><th scope=col>X1b4ab422.05e5.4891.906e.12e9e9c65745</th><th scope=col>X217cd7ee.bfe8.4d37.b014.e47187901dbe</th><th scope=col>X6a50e9bf.8d92.4bac.98f0.50eee10d91d4</th><th scope=col>X896a9050.1423.490a.a12e.3db6217b49d3</th><th scope=col>a9cadef1.380e.4c4f.a33c.a828a58680e0</th><th scope=col>c3b0cf52.6a8d.4bba.ad6f.aca07b4ce145</th><th scope=col>HPSI0114i.bezi_1.hs37d5</th><th scope=col>HPSI0114i.bezi_3.hs37d5</th><th scope=col>HPSI0114i.eipl_1.hs37d5</th><th scope=col>...</th><th scope=col>SRR5589736</th><th scope=col>SRR5589737</th><th scope=col>SRR5589738</th><th scope=col>SRR5589739</th><th scope=col>SRR5589740</th><th scope=col>SRR5589741</th><th scope=col>SRR5589742</th><th scope=col>SRR5589743</th><th scope=col>SRR5589744</th><th scope=col>SRR5589745</th></tr></thead>\n",
       "<tbody>\n",
       "\t<tr><th scope=row>ENSG00000223972</th><td>0.5344626</td><td>0.1486110</td><td>0.0000000</td><td>0.5858367</td><td>0.2839670</td><td>0.1444611</td><td>0.3525601</td><td>0.2403484</td><td>0.1164022</td><td>0.1521228</td><td>...      </td><td>0.2332243</td><td>0.7274514</td><td>0.000000 </td><td>0.000000 </td><td>0.0000000</td><td>0.2645803</td><td>0.4455507</td><td>0.0000000</td><td>0.4096429</td><td>0.7887012</td></tr>\n",
       "\t<tr><th scope=row>ENSG00000227232</th><td>6.1188713</td><td>5.4985256</td><td>5.5302721</td><td>5.8288173</td><td>5.2598448</td><td>5.6636704</td><td>5.6418591</td><td>5.9497365</td><td>5.8042281</td><td>5.9982958</td><td>...      </td><td>5.7525242</td><td>5.7235908</td><td>5.965397 </td><td>5.833703 </td><td>5.8473804</td><td>5.6856543</td><td>6.0737743</td><td>5.0783491</td><td>5.8858752</td><td>5.3667701</td></tr>\n",
       "\t<tr><th scope=row>ENSG00000243485</th><td>0.0000000</td><td>0.4575632</td><td>0.4384338</td><td>0.4271792</td><td>0.9525947</td><td>0.2401727</td><td>1.4571844</td><td>1.2648337</td><td>1.0083647</td><td>1.6340462</td><td>...      </td><td>0.9300234</td><td>0.0000000</td><td>1.172875 </td><td>1.090935 </td><td>1.7047432</td><td>1.2538420</td><td>0.6980511</td><td>0.0000000</td><td>1.0904949</td><td>0.5029233</td></tr>\n",
       "\t<tr><th scope=row>ENSG00000237613</th><td>0.8962693</td><td>0.8330901</td><td>1.3145482</td><td>0.1944835</td><td>1.0681839</td><td>1.8994963</td><td>0.6151306</td><td>0.6062249</td><td>0.9769919</td><td>0.0000000</td><td>...      </td><td>0.3251022</td><td>0.3949052</td><td>1.365263 </td><td>1.177648 </td><td>0.7056591</td><td>0.0000000</td><td>0.8333727</td><td>0.4432976</td><td>1.4089957</td><td>1.2614374</td></tr>\n",
       "\t<tr><th scope=row>ENSG00000268020</th><td>0.0000000</td><td>0.0000000</td><td>0.0000000</td><td>0.0000000</td><td>0.0000000</td><td>0.0000000</td><td>0.0000000</td><td>0.0000000</td><td>0.0000000</td><td>0.0000000</td><td>...      </td><td>0.0000000</td><td>0.0000000</td><td>0.000000 </td><td>0.000000 </td><td>0.0000000</td><td>0.0000000</td><td>0.0000000</td><td>0.0000000</td><td>0.0000000</td><td>0.0000000</td></tr>\n",
       "\t<tr><th scope=row>ENSG00000240361</th><td>0.0000000</td><td>0.0000000</td><td>0.0000000</td><td>0.0000000</td><td>0.0000000</td><td>0.0000000</td><td>0.0000000</td><td>0.0000000</td><td>0.0000000</td><td>0.0000000</td><td>...      </td><td>0.0000000</td><td>0.0000000</td><td>0.000000 </td><td>0.000000 </td><td>0.0000000</td><td>0.0000000</td><td>0.0000000</td><td>0.0000000</td><td>0.0000000</td><td>0.0000000</td></tr>\n",
       "</tbody>\n",
       "</table>\n"
      ],
      "text/latex": [
       "\\begin{tabular}{r|lllllllllllllllllllllllllllllllllllllllllllllllllllllllllllllllllllllllllllllllllllllllllllllllllllllllllllllllllllllllllllllllllllllllllllllllllllllllllllllllllllllllllllllllllllllllllllllllllllllllllllllllllllllllllllllllllllllllllllllllllllllllllllllllllllllllllllllllllllllllllllllllllllllllllllllllllllllllllllllllllllllllllllllllllllllllllllllllllllllllllllllllllllllllllllllllllllllllllllllllllllllllllllllllllllllllllllllllllllllllllllllllllllllllllllllllllllllllllllllllllllllllllllllllllllllllllllllllllllllllllllllllllllllllllllllllllllllllllllllllllllllllllllllllllllllllllllllllllllllllllllllllllllllllllllllllllllllllllllllllllllllllllllllllllllllllllllllllllllllllllllllllllllllllllllllllllllllllllllllllllllllllllllllllllllllllllllllllllllllllllllllllllllllllllllllllllllllllllllllllllllllllllllllllllllllllllllllllllllllllllllllllllllllllllllllllllllllllllllllllllllllllllllllllllllllllllllllllllllllllllllllllllllllllllllllllllllllllllllllllllllllllllllllllllllllllllllllllllllllllllllllllllllllllllllllllllllllllllllllllllllllllllllllllllllllllllllllllllllllllllllllllllllllllllllllllllllllllllllllllllllllllllllllllllllllllllllllllllllllllllllllllllllllllllllllllllllllllllllllllllllllllllllllllllllllllllllllllllllllllllllllllllllllllllllllllllllllllllllllllllllllllllllllllllllllllllllllllllllllllllllllllllllllllllllllllllllllllllllllllllllllllllllllllllllllllllllllllllllllllllllllllllllllllllllllllllllllllllllllllllll}\n",
       "  & X1191d5e0.9a2a.4ba4.b322.a591912160ee & X1b4ab422.05e5.4891.906e.12e9e9c65745 & X217cd7ee.bfe8.4d37.b014.e47187901dbe & X6a50e9bf.8d92.4bac.98f0.50eee10d91d4 & X896a9050.1423.490a.a12e.3db6217b49d3 & a9cadef1.380e.4c4f.a33c.a828a58680e0 & c3b0cf52.6a8d.4bba.ad6f.aca07b4ce145 & HPSI0114i.bezi\\_1.hs37d5 & HPSI0114i.bezi\\_3.hs37d5 & HPSI0114i.eipl\\_1.hs37d5 & ... & SRR5589736 & SRR5589737 & SRR5589738 & SRR5589739 & SRR5589740 & SRR5589741 & SRR5589742 & SRR5589743 & SRR5589744 & SRR5589745\\\\\n",
       "\\hline\n",
       "\tENSG00000223972 & 0.5344626 & 0.1486110 & 0.0000000 & 0.5858367 & 0.2839670 & 0.1444611 & 0.3525601 & 0.2403484 & 0.1164022 & 0.1521228 & ...       & 0.2332243 & 0.7274514 & 0.000000  & 0.000000  & 0.0000000 & 0.2645803 & 0.4455507 & 0.0000000 & 0.4096429 & 0.7887012\\\\\n",
       "\tENSG00000227232 & 6.1188713 & 5.4985256 & 5.5302721 & 5.8288173 & 5.2598448 & 5.6636704 & 5.6418591 & 5.9497365 & 5.8042281 & 5.9982958 & ...       & 5.7525242 & 5.7235908 & 5.965397  & 5.833703  & 5.8473804 & 5.6856543 & 6.0737743 & 5.0783491 & 5.8858752 & 5.3667701\\\\\n",
       "\tENSG00000243485 & 0.0000000 & 0.4575632 & 0.4384338 & 0.4271792 & 0.9525947 & 0.2401727 & 1.4571844 & 1.2648337 & 1.0083647 & 1.6340462 & ...       & 0.9300234 & 0.0000000 & 1.172875  & 1.090935  & 1.7047432 & 1.2538420 & 0.6980511 & 0.0000000 & 1.0904949 & 0.5029233\\\\\n",
       "\tENSG00000237613 & 0.8962693 & 0.8330901 & 1.3145482 & 0.1944835 & 1.0681839 & 1.8994963 & 0.6151306 & 0.6062249 & 0.9769919 & 0.0000000 & ...       & 0.3251022 & 0.3949052 & 1.365263  & 1.177648  & 0.7056591 & 0.0000000 & 0.8333727 & 0.4432976 & 1.4089957 & 1.2614374\\\\\n",
       "\tENSG00000268020 & 0.0000000 & 0.0000000 & 0.0000000 & 0.0000000 & 0.0000000 & 0.0000000 & 0.0000000 & 0.0000000 & 0.0000000 & 0.0000000 & ...       & 0.0000000 & 0.0000000 & 0.000000  & 0.000000  & 0.0000000 & 0.0000000 & 0.0000000 & 0.0000000 & 0.0000000 & 0.0000000\\\\\n",
       "\tENSG00000240361 & 0.0000000 & 0.0000000 & 0.0000000 & 0.0000000 & 0.0000000 & 0.0000000 & 0.0000000 & 0.0000000 & 0.0000000 & 0.0000000 & ...       & 0.0000000 & 0.0000000 & 0.000000  & 0.000000  & 0.0000000 & 0.0000000 & 0.0000000 & 0.0000000 & 0.0000000 & 0.0000000\\\\\n",
       "\\end{tabular}\n"
      ],
      "text/markdown": [
       "\n",
       "| <!--/--> | X1191d5e0.9a2a.4ba4.b322.a591912160ee | X1b4ab422.05e5.4891.906e.12e9e9c65745 | X217cd7ee.bfe8.4d37.b014.e47187901dbe | X6a50e9bf.8d92.4bac.98f0.50eee10d91d4 | X896a9050.1423.490a.a12e.3db6217b49d3 | a9cadef1.380e.4c4f.a33c.a828a58680e0 | c3b0cf52.6a8d.4bba.ad6f.aca07b4ce145 | HPSI0114i.bezi_1.hs37d5 | HPSI0114i.bezi_3.hs37d5 | HPSI0114i.eipl_1.hs37d5 | ... | SRR5589736 | SRR5589737 | SRR5589738 | SRR5589739 | SRR5589740 | SRR5589741 | SRR5589742 | SRR5589743 | SRR5589744 | SRR5589745 |\n",
       "|---|---|---|---|---|---|---|---|---|---|---|---|---|---|---|---|---|---|---|---|---|---|\n",
       "| ENSG00000223972 | 0.5344626 | 0.1486110 | 0.0000000 | 0.5858367 | 0.2839670 | 0.1444611 | 0.3525601 | 0.2403484 | 0.1164022 | 0.1521228 | ...       | 0.2332243 | 0.7274514 | 0.000000  | 0.000000  | 0.0000000 | 0.2645803 | 0.4455507 | 0.0000000 | 0.4096429 | 0.7887012 |\n",
       "| ENSG00000227232 | 6.1188713 | 5.4985256 | 5.5302721 | 5.8288173 | 5.2598448 | 5.6636704 | 5.6418591 | 5.9497365 | 5.8042281 | 5.9982958 | ...       | 5.7525242 | 5.7235908 | 5.965397  | 5.833703  | 5.8473804 | 5.6856543 | 6.0737743 | 5.0783491 | 5.8858752 | 5.3667701 |\n",
       "| ENSG00000243485 | 0.0000000 | 0.4575632 | 0.4384338 | 0.4271792 | 0.9525947 | 0.2401727 | 1.4571844 | 1.2648337 | 1.0083647 | 1.6340462 | ...       | 0.9300234 | 0.0000000 | 1.172875  | 1.090935  | 1.7047432 | 1.2538420 | 0.6980511 | 0.0000000 | 1.0904949 | 0.5029233 |\n",
       "| ENSG00000237613 | 0.8962693 | 0.8330901 | 1.3145482 | 0.1944835 | 1.0681839 | 1.8994963 | 0.6151306 | 0.6062249 | 0.9769919 | 0.0000000 | ...       | 0.3251022 | 0.3949052 | 1.365263  | 1.177648  | 0.7056591 | 0.0000000 | 0.8333727 | 0.4432976 | 1.4089957 | 1.2614374 |\n",
       "| ENSG00000268020 | 0.0000000 | 0.0000000 | 0.0000000 | 0.0000000 | 0.0000000 | 0.0000000 | 0.0000000 | 0.0000000 | 0.0000000 | 0.0000000 | ...       | 0.0000000 | 0.0000000 | 0.000000  | 0.000000  | 0.0000000 | 0.0000000 | 0.0000000 | 0.0000000 | 0.0000000 | 0.0000000 |\n",
       "| ENSG00000240361 | 0.0000000 | 0.0000000 | 0.0000000 | 0.0000000 | 0.0000000 | 0.0000000 | 0.0000000 | 0.0000000 | 0.0000000 | 0.0000000 | ...       | 0.0000000 | 0.0000000 | 0.000000  | 0.000000  | 0.0000000 | 0.0000000 | 0.0000000 | 0.0000000 | 0.0000000 | 0.0000000 |\n",
       "\n"
      ],
      "text/plain": [
       "                X1191d5e0.9a2a.4ba4.b322.a591912160ee\n",
       "ENSG00000223972 0.5344626                            \n",
       "ENSG00000227232 6.1188713                            \n",
       "ENSG00000243485 0.0000000                            \n",
       "ENSG00000237613 0.8962693                            \n",
       "ENSG00000268020 0.0000000                            \n",
       "ENSG00000240361 0.0000000                            \n",
       "                X1b4ab422.05e5.4891.906e.12e9e9c65745\n",
       "ENSG00000223972 0.1486110                            \n",
       "ENSG00000227232 5.4985256                            \n",
       "ENSG00000243485 0.4575632                            \n",
       "ENSG00000237613 0.8330901                            \n",
       "ENSG00000268020 0.0000000                            \n",
       "ENSG00000240361 0.0000000                            \n",
       "                X217cd7ee.bfe8.4d37.b014.e47187901dbe\n",
       "ENSG00000223972 0.0000000                            \n",
       "ENSG00000227232 5.5302721                            \n",
       "ENSG00000243485 0.4384338                            \n",
       "ENSG00000237613 1.3145482                            \n",
       "ENSG00000268020 0.0000000                            \n",
       "ENSG00000240361 0.0000000                            \n",
       "                X6a50e9bf.8d92.4bac.98f0.50eee10d91d4\n",
       "ENSG00000223972 0.5858367                            \n",
       "ENSG00000227232 5.8288173                            \n",
       "ENSG00000243485 0.4271792                            \n",
       "ENSG00000237613 0.1944835                            \n",
       "ENSG00000268020 0.0000000                            \n",
       "ENSG00000240361 0.0000000                            \n",
       "                X896a9050.1423.490a.a12e.3db6217b49d3\n",
       "ENSG00000223972 0.2839670                            \n",
       "ENSG00000227232 5.2598448                            \n",
       "ENSG00000243485 0.9525947                            \n",
       "ENSG00000237613 1.0681839                            \n",
       "ENSG00000268020 0.0000000                            \n",
       "ENSG00000240361 0.0000000                            \n",
       "                a9cadef1.380e.4c4f.a33c.a828a58680e0\n",
       "ENSG00000223972 0.1444611                           \n",
       "ENSG00000227232 5.6636704                           \n",
       "ENSG00000243485 0.2401727                           \n",
       "ENSG00000237613 1.8994963                           \n",
       "ENSG00000268020 0.0000000                           \n",
       "ENSG00000240361 0.0000000                           \n",
       "                c3b0cf52.6a8d.4bba.ad6f.aca07b4ce145 HPSI0114i.bezi_1.hs37d5\n",
       "ENSG00000223972 0.3525601                            0.2403484              \n",
       "ENSG00000227232 5.6418591                            5.9497365              \n",
       "ENSG00000243485 1.4571844                            1.2648337              \n",
       "ENSG00000237613 0.6151306                            0.6062249              \n",
       "ENSG00000268020 0.0000000                            0.0000000              \n",
       "ENSG00000240361 0.0000000                            0.0000000              \n",
       "                HPSI0114i.bezi_3.hs37d5 HPSI0114i.eipl_1.hs37d5 ... SRR5589736\n",
       "ENSG00000223972 0.1164022               0.1521228               ... 0.2332243 \n",
       "ENSG00000227232 5.8042281               5.9982958               ... 5.7525242 \n",
       "ENSG00000243485 1.0083647               1.6340462               ... 0.9300234 \n",
       "ENSG00000237613 0.9769919               0.0000000               ... 0.3251022 \n",
       "ENSG00000268020 0.0000000               0.0000000               ... 0.0000000 \n",
       "ENSG00000240361 0.0000000               0.0000000               ... 0.0000000 \n",
       "                SRR5589737 SRR5589738 SRR5589739 SRR5589740 SRR5589741\n",
       "ENSG00000223972 0.7274514  0.000000   0.000000   0.0000000  0.2645803 \n",
       "ENSG00000227232 5.7235908  5.965397   5.833703   5.8473804  5.6856543 \n",
       "ENSG00000243485 0.0000000  1.172875   1.090935   1.7047432  1.2538420 \n",
       "ENSG00000237613 0.3949052  1.365263   1.177648   0.7056591  0.0000000 \n",
       "ENSG00000268020 0.0000000  0.000000   0.000000   0.0000000  0.0000000 \n",
       "ENSG00000240361 0.0000000  0.000000   0.000000   0.0000000  0.0000000 \n",
       "                SRR5589742 SRR5589743 SRR5589744 SRR5589745\n",
       "ENSG00000223972 0.4455507  0.0000000  0.4096429  0.7887012 \n",
       "ENSG00000227232 6.0737743  5.0783491  5.8858752  5.3667701 \n",
       "ENSG00000243485 0.6980511  0.0000000  1.0904949  0.5029233 \n",
       "ENSG00000237613 0.8333727  0.4432976  1.4089957  1.2614374 \n",
       "ENSG00000268020 0.0000000  0.0000000  0.0000000  0.0000000 \n",
       "ENSG00000240361 0.0000000  0.0000000  0.0000000  0.0000000 "
      ]
     },
     "metadata": {},
     "output_type": "display_data"
    }
   ],
   "source": [
    "t_file = '/hps/nobackup/hipsci/scratch/trans_eqtls/IPS_Bulk-RNA_Processing/Merged/IPS_Bulk-RNA_Processing/FullFreeze_Corrected_iPSC_20180506.txt.gz'\n",
    "t_df = read.csv(t_file, sep='\\t', row.names=1)\n",
    "head(t_df)"
   ]
  },
  {
   "cell_type": "code",
   "execution_count": 50,
   "metadata": {},
   "outputs": [
    {
     "data": {
      "text/html": [
       "<ol class=list-inline>\n",
       "\t<li>'X1191d5e0.9a2a.4ba4.b322.a591912160ee'</li>\n",
       "\t<li>'X1b4ab422.05e5.4891.906e.12e9e9c65745'</li>\n",
       "\t<li>'X217cd7ee.bfe8.4d37.b014.e47187901dbe'</li>\n",
       "\t<li>'X6a50e9bf.8d92.4bac.98f0.50eee10d91d4'</li>\n",
       "\t<li>'X896a9050.1423.490a.a12e.3db6217b49d3'</li>\n",
       "\t<li>'a9cadef1.380e.4c4f.a33c.a828a58680e0'</li>\n",
       "</ol>\n"
      ],
      "text/latex": [
       "\\begin{enumerate*}\n",
       "\\item 'X1191d5e0.9a2a.4ba4.b322.a591912160ee'\n",
       "\\item 'X1b4ab422.05e5.4891.906e.12e9e9c65745'\n",
       "\\item 'X217cd7ee.bfe8.4d37.b014.e47187901dbe'\n",
       "\\item 'X6a50e9bf.8d92.4bac.98f0.50eee10d91d4'\n",
       "\\item 'X896a9050.1423.490a.a12e.3db6217b49d3'\n",
       "\\item 'a9cadef1.380e.4c4f.a33c.a828a58680e0'\n",
       "\\end{enumerate*}\n"
      ],
      "text/markdown": [
       "1. 'X1191d5e0.9a2a.4ba4.b322.a591912160ee'\n",
       "2. 'X1b4ab422.05e5.4891.906e.12e9e9c65745'\n",
       "3. 'X217cd7ee.bfe8.4d37.b014.e47187901dbe'\n",
       "4. 'X6a50e9bf.8d92.4bac.98f0.50eee10d91d4'\n",
       "5. 'X896a9050.1423.490a.a12e.3db6217b49d3'\n",
       "6. 'a9cadef1.380e.4c4f.a33c.a828a58680e0'\n",
       "\n",
       "\n"
      ],
      "text/plain": [
       "[1] \"X1191d5e0.9a2a.4ba4.b322.a591912160ee\"\n",
       "[2] \"X1b4ab422.05e5.4891.906e.12e9e9c65745\"\n",
       "[3] \"X217cd7ee.bfe8.4d37.b014.e47187901dbe\"\n",
       "[4] \"X6a50e9bf.8d92.4bac.98f0.50eee10d91d4\"\n",
       "[5] \"X896a9050.1423.490a.a12e.3db6217b49d3\"\n",
       "[6] \"a9cadef1.380e.4c4f.a33c.a828a58680e0\" "
      ]
     },
     "metadata": {},
     "output_type": "display_data"
    },
    {
     "data": {
      "text/html": [
       "<ol class=list-inline>\n",
       "\t<li>'X1191d5e0-9a2a-4ba4-b322-a591912160ee'</li>\n",
       "\t<li>'X1b4ab422-05e5-4891-906e-12e9e9c65745'</li>\n",
       "\t<li>'X217cd7ee-bfe8-4d37-b014-e47187901dbe'</li>\n",
       "\t<li>'X6a50e9bf-8d92-4bac-98f0-50eee10d91d4'</li>\n",
       "\t<li>'X896a9050-1423-490a-a12e-3db6217b49d3'</li>\n",
       "\t<li>'a9cadef1-380e-4c4f-a33c-a828a58680e0'</li>\n",
       "</ol>\n"
      ],
      "text/latex": [
       "\\begin{enumerate*}\n",
       "\\item 'X1191d5e0-9a2a-4ba4-b322-a591912160ee'\n",
       "\\item 'X1b4ab422-05e5-4891-906e-12e9e9c65745'\n",
       "\\item 'X217cd7ee-bfe8-4d37-b014-e47187901dbe'\n",
       "\\item 'X6a50e9bf-8d92-4bac-98f0-50eee10d91d4'\n",
       "\\item 'X896a9050-1423-490a-a12e-3db6217b49d3'\n",
       "\\item 'a9cadef1-380e-4c4f-a33c-a828a58680e0'\n",
       "\\end{enumerate*}\n"
      ],
      "text/markdown": [
       "1. 'X1191d5e0-9a2a-4ba4-b322-a591912160ee'\n",
       "2. 'X1b4ab422-05e5-4891-906e-12e9e9c65745'\n",
       "3. 'X217cd7ee-bfe8-4d37-b014-e47187901dbe'\n",
       "4. 'X6a50e9bf-8d92-4bac-98f0-50eee10d91d4'\n",
       "5. 'X896a9050-1423-490a-a12e-3db6217b49d3'\n",
       "6. 'a9cadef1-380e-4c4f-a33c-a828a58680e0'\n",
       "\n",
       "\n"
      ],
      "text/plain": [
       "[1] \"X1191d5e0-9a2a-4ba4-b322-a591912160ee\"\n",
       "[2] \"X1b4ab422-05e5-4891-906e-12e9e9c65745\"\n",
       "[3] \"X217cd7ee-bfe8-4d37-b014-e47187901dbe\"\n",
       "[4] \"X6a50e9bf-8d92-4bac-98f0-50eee10d91d4\"\n",
       "[5] \"X896a9050-1423-490a-a12e-3db6217b49d3\"\n",
       "[6] \"a9cadef1-380e-4c4f-a33c-a828a58680e0\" "
      ]
     },
     "metadata": {},
     "output_type": "display_data"
    }
   ],
   "source": [
    "head(colnames(t_df))\n",
    "new_cols = gsub('\\\\.','-',gsub('.hs37d5','',colnames(t_df)))\n",
    "colnames(t_df) = new_cols\n",
    "head(colnames(t_df))"
   ]
  },
  {
   "cell_type": "code",
   "execution_count": 51,
   "metadata": {},
   "outputs": [
    {
     "data": {
      "text/html": [
       "1443"
      ],
      "text/latex": [
       "1443"
      ],
      "text/markdown": [
       "1443"
      ],
      "text/plain": [
       "[1] 1443"
      ]
     },
     "metadata": {},
     "output_type": "display_data"
    },
    {
     "data": {
      "text/html": [
       "815"
      ],
      "text/latex": [
       "815"
      ],
      "text/markdown": [
       "815"
      ],
      "text/plain": [
       "[1] 815"
      ]
     },
     "metadata": {},
     "output_type": "display_data"
    },
    {
     "data": {
      "text/html": [
       "56057"
      ],
      "text/latex": [
       "56057"
      ],
      "text/markdown": [
       "56057"
      ],
      "text/plain": [
       "[1] 56057"
      ]
     },
     "metadata": {},
     "output_type": "display_data"
    },
    {
     "data": {
      "text/html": [
       "15456"
      ],
      "text/latex": [
       "15456"
      ],
      "text/markdown": [
       "15456"
      ],
      "text/plain": [
       "[1] 15456"
      ]
     },
     "metadata": {},
     "output_type": "display_data"
    }
   ],
   "source": [
    "ncol(t_df)\n",
    "t_df = t_df[, grep('HPSI',colnames(t_df))]\n",
    "ncol(t_df)\n",
    "nrow(t_df)\n",
    "t_df = t_df[rowMeans(t_df)>2,]\n",
    "nrow(t_df)"
   ]
  },
  {
   "cell_type": "code",
   "execution_count": 52,
   "metadata": {},
   "outputs": [
    {
     "data": {
      "text/html": [
       "815"
      ],
      "text/latex": [
       "815"
      ],
      "text/markdown": [
       "815"
      ],
      "text/plain": [
       "[1] 815"
      ]
     },
     "metadata": {},
     "output_type": "display_data"
    }
   ],
   "source": [
    "bulk_donor_set = unique(as.character(colnames(t_df)))\n",
    "length(bulk_donor_set)"
   ]
  },
  {
   "cell_type": "code",
   "execution_count": 53,
   "metadata": {},
   "outputs": [],
   "source": [
    "## sc iPSC (Cuomo et al)"
   ]
  },
  {
   "cell_type": "code",
   "execution_count": 54,
   "metadata": {},
   "outputs": [
    {
     "data": {
      "text/html": [
       "<table>\n",
       "<thead><tr><th></th><th scope=col>adj_x</th><th scope=col>adj_y</th><th scope=col>assigned</th><th scope=col>auxDir</th><th scope=col>cell_filter</th><th scope=col>cell_name</th><th scope=col>compatible_fragment_ratio</th><th scope=col>day</th><th scope=col>diff_population</th><th scope=col>donor</th><th scope=col>...</th><th scope=col>donor_short_id</th><th scope=col>donor_long_id</th><th scope=col>pseudo</th><th scope=col>PC1_top100hvgs</th><th scope=col>PC1_top200hvgs</th><th scope=col>PC1_top500hvgs</th><th scope=col>PC1_top1000hvgs</th><th scope=col>PC1_top2000hvgs</th><th scope=col>princ_curve</th><th scope=col>princ_curve_scaled01</th></tr></thead>\n",
       "<tbody>\n",
       "\t<tr><th scope=row>21843_1#10</th><td>NA              </td><td>NA              </td><td>1               </td><td>aux_info        </td><td>TRUE            </td><td>21843_1#10      </td><td>0.9994969       </td><td>day1            </td><td>NA              </td><td>joxm            </td><td>...             </td><td>joxm_1          </td><td>HPSI0114i-joxm_1</td><td>0.2926821       </td><td>-13.3538327     </td><td>-12.969161288   </td><td>-11.7695261     </td><td>-12.1533346     </td><td>-12.8710017     </td><td>39.97259        </td><td>0.3525701       </td></tr>\n",
       "\t<tr><th scope=row>21843_1#100</th><td>NA              </td><td>NA              </td><td>1               </td><td>aux_info        </td><td>TRUE            </td><td>21843_1#100     </td><td>0.9994561       </td><td>day1            </td><td>NA              </td><td>fafq            </td><td>...             </td><td>fafq_1          </td><td>HPSI0314i-fafq_1</td><td>0.4847163       </td><td>  2.3997953     </td><td>  4.633187960   </td><td>  5.1315308     </td><td>  7.8832423     </td><td>  9.9168881     </td><td>56.43339        </td><td>0.4977592       </td></tr>\n",
       "\t<tr><th scope=row>21843_1#101</th><td>NA              </td><td>NA              </td><td>1               </td><td>aux_info        </td><td>TRUE            </td><td>21843_1#101     </td><td>0.9995487       </td><td>day1            </td><td>NA              </td><td>fafq            </td><td>...             </td><td>fafq_1          </td><td>HPSI0314i-fafq_1</td><td>0.4038087       </td><td> -0.6126205     </td><td>  0.006692197   </td><td> -0.6430211     </td><td>  0.1852977     </td><td> -0.4259778     </td><td>52.96614        </td><td>0.4671771       </td></tr>\n",
       "\t<tr><th scope=row>21843_1#102</th><td>NA              </td><td>NA              </td><td>1               </td><td>aux_info        </td><td>TRUE            </td><td>21843_1#102     </td><td>0.9994224       </td><td>day1            </td><td>NA              </td><td>wuye            </td><td>...             </td><td>wuye_2          </td><td>HPSI1013i-wuye_2</td><td>0.2607719       </td><td>-11.9460093     </td><td>-12.691232860   </td><td>-14.5080208     </td><td>-15.3282356     </td><td>-18.0713513     </td><td>38.41998        </td><td>0.3388757       </td></tr>\n",
       "\t<tr><th scope=row>21843_1#103</th><td>NA              </td><td>NA              </td><td>1               </td><td>aux_info        </td><td>TRUE            </td><td>21843_1#103     </td><td>0.9994459       </td><td>day1            </td><td>NA              </td><td>joxm            </td><td>...             </td><td>joxm_1          </td><td>HPSI0114i-joxm_1</td><td>0.3553658       </td><td> -5.7357347     </td><td> -5.389405423   </td><td> -5.8029849     </td><td> -6.6258596     </td><td> -9.4301274     </td><td>48.48806        </td><td>0.4276791       </td></tr>\n",
       "\t<tr><th scope=row>21843_1#105</th><td>NA              </td><td>NA              </td><td>1               </td><td>aux_info        </td><td>TRUE            </td><td>21843_1#105     </td><td>0.9994625       </td><td>day1            </td><td>NA              </td><td>iisa            </td><td>...             </td><td>iisa_3          </td><td>HPSI0114i-iisa_3</td><td>0.3480983       </td><td> -1.3505098     </td><td> -2.117546155   </td><td> -2.3442226     </td><td> -3.5380396     </td><td> -5.8460835     </td><td>51.70961        </td><td>0.4560942       </td></tr>\n",
       "</tbody>\n",
       "</table>\n"
      ],
      "text/latex": [
       "\\begin{tabular}{r|llllllllllllllllllllllllllllllllllllllllllllllllllllllllllllllllllllllllllllllllllllllllllllllllllllllllllllllllllllllllll}\n",
       "  & adj\\_x & adj\\_y & assigned & auxDir & cell\\_filter & cell\\_name & compatible\\_fragment\\_ratio & day & diff\\_population & donor & ... & donor\\_short\\_id & donor\\_long\\_id & pseudo & PC1\\_top100hvgs & PC1\\_top200hvgs & PC1\\_top500hvgs & PC1\\_top1000hvgs & PC1\\_top2000hvgs & princ\\_curve & princ\\_curve\\_scaled01\\\\\n",
       "\\hline\n",
       "\t21843\\_1\\#10 & NA                 & NA                 & 1                  & aux\\_info         & TRUE               & 21843\\_1\\#10     & 0.9994969          & day1               & NA                 & joxm               & ...                & joxm\\_1           & HPSI0114i-joxm\\_1 & 0.2926821          & -13.3538327        & -12.969161288      & -11.7695261        & -12.1533346        & -12.8710017        & 39.97259           & 0.3525701         \\\\\n",
       "\t21843\\_1\\#100 & NA                 & NA                 & 1                  & aux\\_info         & TRUE               & 21843\\_1\\#100    & 0.9994561          & day1               & NA                 & fafq               & ...                & fafq\\_1           & HPSI0314i-fafq\\_1 & 0.4847163          &   2.3997953        &   4.633187960      &   5.1315308        &   7.8832423        &   9.9168881        & 56.43339           & 0.4977592         \\\\\n",
       "\t21843\\_1\\#101 & NA                 & NA                 & 1                  & aux\\_info         & TRUE               & 21843\\_1\\#101    & 0.9995487          & day1               & NA                 & fafq               & ...                & fafq\\_1           & HPSI0314i-fafq\\_1 & 0.4038087          &  -0.6126205        &   0.006692197      &  -0.6430211        &   0.1852977        &  -0.4259778        & 52.96614           & 0.4671771         \\\\\n",
       "\t21843\\_1\\#102 & NA                 & NA                 & 1                  & aux\\_info         & TRUE               & 21843\\_1\\#102    & 0.9994224          & day1               & NA                 & wuye               & ...                & wuye\\_2           & HPSI1013i-wuye\\_2 & 0.2607719          & -11.9460093        & -12.691232860      & -14.5080208        & -15.3282356        & -18.0713513        & 38.41998           & 0.3388757         \\\\\n",
       "\t21843\\_1\\#103 & NA                 & NA                 & 1                  & aux\\_info         & TRUE               & 21843\\_1\\#103    & 0.9994459          & day1               & NA                 & joxm               & ...                & joxm\\_1           & HPSI0114i-joxm\\_1 & 0.3553658          &  -5.7357347        &  -5.389405423      &  -5.8029849        &  -6.6258596        &  -9.4301274        & 48.48806           & 0.4276791         \\\\\n",
       "\t21843\\_1\\#105 & NA                 & NA                 & 1                  & aux\\_info         & TRUE               & 21843\\_1\\#105    & 0.9994625          & day1               & NA                 & iisa               & ...                & iisa\\_3           & HPSI0114i-iisa\\_3 & 0.3480983          &  -1.3505098        &  -2.117546155      &  -2.3442226        &  -3.5380396        &  -5.8460835        & 51.70961           & 0.4560942         \\\\\n",
       "\\end{tabular}\n"
      ],
      "text/markdown": [
       "\n",
       "| <!--/--> | adj_x | adj_y | assigned | auxDir | cell_filter | cell_name | compatible_fragment_ratio | day | diff_population | donor | ... | donor_short_id | donor_long_id | pseudo | PC1_top100hvgs | PC1_top200hvgs | PC1_top500hvgs | PC1_top1000hvgs | PC1_top2000hvgs | princ_curve | princ_curve_scaled01 |\n",
       "|---|---|---|---|---|---|---|---|---|---|---|---|---|---|---|---|---|---|---|---|---|---|\n",
       "| 21843_1#10 | NA               | NA               | 1                | aux_info         | TRUE             | 21843_1#10       | 0.9994969        | day1             | NA               | joxm             | ...              | joxm_1           | HPSI0114i-joxm_1 | 0.2926821        | -13.3538327      | -12.969161288    | -11.7695261      | -12.1533346      | -12.8710017      | 39.97259         | 0.3525701        |\n",
       "| 21843_1#100 | NA               | NA               | 1                | aux_info         | TRUE             | 21843_1#100      | 0.9994561        | day1             | NA               | fafq             | ...              | fafq_1           | HPSI0314i-fafq_1 | 0.4847163        |   2.3997953      |   4.633187960    |   5.1315308      |   7.8832423      |   9.9168881      | 56.43339         | 0.4977592        |\n",
       "| 21843_1#101 | NA               | NA               | 1                | aux_info         | TRUE             | 21843_1#101      | 0.9995487        | day1             | NA               | fafq             | ...              | fafq_1           | HPSI0314i-fafq_1 | 0.4038087        |  -0.6126205      |   0.006692197    |  -0.6430211      |   0.1852977      |  -0.4259778      | 52.96614         | 0.4671771        |\n",
       "| 21843_1#102 | NA               | NA               | 1                | aux_info         | TRUE             | 21843_1#102      | 0.9994224        | day1             | NA               | wuye             | ...              | wuye_2           | HPSI1013i-wuye_2 | 0.2607719        | -11.9460093      | -12.691232860    | -14.5080208      | -15.3282356      | -18.0713513      | 38.41998         | 0.3388757        |\n",
       "| 21843_1#103 | NA               | NA               | 1                | aux_info         | TRUE             | 21843_1#103      | 0.9994459        | day1             | NA               | joxm             | ...              | joxm_1           | HPSI0114i-joxm_1 | 0.3553658        |  -5.7357347      |  -5.389405423    |  -5.8029849      |  -6.6258596      |  -9.4301274      | 48.48806         | 0.4276791        |\n",
       "| 21843_1#105 | NA               | NA               | 1                | aux_info         | TRUE             | 21843_1#105      | 0.9994625        | day1             | NA               | iisa             | ...              | iisa_3           | HPSI0114i-iisa_3 | 0.3480983        |  -1.3505098      |  -2.117546155    |  -2.3442226      |  -3.5380396      |  -5.8460835      | 51.70961         | 0.4560942        |\n",
       "\n"
      ],
      "text/plain": [
       "            adj_x adj_y assigned auxDir   cell_filter cell_name  \n",
       "21843_1#10  NA    NA    1        aux_info TRUE        21843_1#10 \n",
       "21843_1#100 NA    NA    1        aux_info TRUE        21843_1#100\n",
       "21843_1#101 NA    NA    1        aux_info TRUE        21843_1#101\n",
       "21843_1#102 NA    NA    1        aux_info TRUE        21843_1#102\n",
       "21843_1#103 NA    NA    1        aux_info TRUE        21843_1#103\n",
       "21843_1#105 NA    NA    1        aux_info TRUE        21843_1#105\n",
       "            compatible_fragment_ratio day  diff_population donor ...\n",
       "21843_1#10  0.9994969                 day1 NA              joxm  ...\n",
       "21843_1#100 0.9994561                 day1 NA              fafq  ...\n",
       "21843_1#101 0.9995487                 day1 NA              fafq  ...\n",
       "21843_1#102 0.9994224                 day1 NA              wuye  ...\n",
       "21843_1#103 0.9994459                 day1 NA              joxm  ...\n",
       "21843_1#105 0.9994625                 day1 NA              iisa  ...\n",
       "            donor_short_id donor_long_id    pseudo    PC1_top100hvgs\n",
       "21843_1#10  joxm_1         HPSI0114i-joxm_1 0.2926821 -13.3538327   \n",
       "21843_1#100 fafq_1         HPSI0314i-fafq_1 0.4847163   2.3997953   \n",
       "21843_1#101 fafq_1         HPSI0314i-fafq_1 0.4038087  -0.6126205   \n",
       "21843_1#102 wuye_2         HPSI1013i-wuye_2 0.2607719 -11.9460093   \n",
       "21843_1#103 joxm_1         HPSI0114i-joxm_1 0.3553658  -5.7357347   \n",
       "21843_1#105 iisa_3         HPSI0114i-iisa_3 0.3480983  -1.3505098   \n",
       "            PC1_top200hvgs PC1_top500hvgs PC1_top1000hvgs PC1_top2000hvgs\n",
       "21843_1#10  -12.969161288  -11.7695261    -12.1533346     -12.8710017    \n",
       "21843_1#100   4.633187960    5.1315308      7.8832423       9.9168881    \n",
       "21843_1#101   0.006692197   -0.6430211      0.1852977      -0.4259778    \n",
       "21843_1#102 -12.691232860  -14.5080208    -15.3282356     -18.0713513    \n",
       "21843_1#103  -5.389405423   -5.8029849     -6.6258596      -9.4301274    \n",
       "21843_1#105  -2.117546155   -2.3442226     -3.5380396      -5.8460835    \n",
       "            princ_curve princ_curve_scaled01\n",
       "21843_1#10  39.97259    0.3525701           \n",
       "21843_1#100 56.43339    0.4977592           \n",
       "21843_1#101 52.96614    0.4671771           \n",
       "21843_1#102 38.41998    0.3388757           \n",
       "21843_1#103 48.48806    0.4276791           \n",
       "21843_1#105 51.70961    0.4560942           "
      ]
     },
     "metadata": {},
     "output_type": "display_data"
    }
   ],
   "source": [
    "sc_metadata_file = '/nfs/leia/research/stegle/dseaton/hipsci/singlecell_endodiff/data/sce_merged_afterqc_filt_allexpts_metadata_20180618.tsv'\n",
    "sc_df = read.csv(sc_metadata_file, sep='\\t')\n",
    "head(sc_df)"
   ]
  },
  {
   "cell_type": "code",
   "execution_count": 55,
   "metadata": {},
   "outputs": [
    {
     "data": {
      "text/html": [
       "112"
      ],
      "text/latex": [
       "112"
      ],
      "text/markdown": [
       "112"
      ],
      "text/plain": [
       "[1] 112"
      ]
     },
     "metadata": {},
     "output_type": "display_data"
    },
    {
     "data": {
      "text/html": [
       "<ol class=list-inline>\n",
       "\t<li>'HPSI0114i-zapk_3'</li>\n",
       "\t<li>'HPSI0214i-wibj_2'</li>\n",
       "\t<li>'HPSI1013i-jogf_2'</li>\n",
       "\t<li>'HPSI0214i-pelm_3'</li>\n",
       "\t<li>'HPSI0114i-vass_1'</li>\n",
       "\t<li>'HPSI0214i-heth_1'</li>\n",
       "</ol>\n"
      ],
      "text/latex": [
       "\\begin{enumerate*}\n",
       "\\item 'HPSI0114i-zapk\\_3'\n",
       "\\item 'HPSI0214i-wibj\\_2'\n",
       "\\item 'HPSI1013i-jogf\\_2'\n",
       "\\item 'HPSI0214i-pelm\\_3'\n",
       "\\item 'HPSI0114i-vass\\_1'\n",
       "\\item 'HPSI0214i-heth\\_1'\n",
       "\\end{enumerate*}\n"
      ],
      "text/markdown": [
       "1. 'HPSI0114i-zapk_3'\n",
       "2. 'HPSI0214i-wibj_2'\n",
       "3. 'HPSI1013i-jogf_2'\n",
       "4. 'HPSI0214i-pelm_3'\n",
       "5. 'HPSI0114i-vass_1'\n",
       "6. 'HPSI0214i-heth_1'\n",
       "\n",
       "\n"
      ],
      "text/plain": [
       "[1] \"HPSI0114i-zapk_3\" \"HPSI0214i-wibj_2\" \"HPSI1013i-jogf_2\" \"HPSI0214i-pelm_3\"\n",
       "[5] \"HPSI0114i-vass_1\" \"HPSI0214i-heth_1\""
      ]
     },
     "metadata": {},
     "output_type": "display_data"
    }
   ],
   "source": [
    "sc_df = sc_df[sc_df$day==\"day0\",]\n",
    "sc_donor_set = unique(as.character(sc_df$donor_long_id))\n",
    "length(sc_donor_set)\n",
    "head(sc_donor_set)"
   ]
  },
  {
   "cell_type": "code",
   "execution_count": 56,
   "metadata": {},
   "outputs": [
    {
     "data": {
      "text/html": [
       "45"
      ],
      "text/latex": [
       "45"
      ],
      "text/markdown": [
       "45"
      ],
      "text/plain": [
       "[1] 45"
      ]
     },
     "metadata": {},
     "output_type": "display_data"
    },
    {
     "data": {
      "text/html": [
       "45"
      ],
      "text/latex": [
       "45"
      ],
      "text/markdown": [
       "45"
      ],
      "text/plain": [
       "[1] 45"
      ]
     },
     "metadata": {},
     "output_type": "display_data"
    },
    {
     "data": {
      "text/html": [
       "184"
      ],
      "text/latex": [
       "184"
      ],
      "text/markdown": [
       "184"
      ],
      "text/plain": [
       "[1] 184"
      ]
     },
     "metadata": {},
     "output_type": "display_data"
    },
    {
     "data": {
      "text/html": [
       "184"
      ],
      "text/latex": [
       "184"
      ],
      "text/markdown": [
       "184"
      ],
      "text/plain": [
       "[1] 184"
      ]
     },
     "metadata": {},
     "output_type": "display_data"
    },
    {
     "data": {
      "text/html": [
       "107"
      ],
      "text/latex": [
       "107"
      ],
      "text/markdown": [
       "107"
      ],
      "text/plain": [
       "[1] 107"
      ]
     },
     "metadata": {},
     "output_type": "display_data"
    },
    {
     "data": {
      "text/html": [
       "107"
      ],
      "text/latex": [
       "107"
      ],
      "text/markdown": [
       "107"
      ],
      "text/plain": [
       "[1] 107"
      ]
     },
     "metadata": {},
     "output_type": "display_data"
    }
   ],
   "source": [
    "sum(neuroseq_donor_set %in% sc_donor_set)\n",
    "sum(sc_donor_set %in% neuroseq_donor_set)\n",
    "sum(neuroseq_donor_set %in% bulk_donor_set)\n",
    "length(bulk_donor_set[bulk_donor_set %in% neuroseq_donor_set])\n",
    "length(sc_donor_set[sc_donor_set %in% bulk_donor_set])\n",
    "length(bulk_donor_set[bulk_donor_set %in% sc_donor_set])"
   ]
  },
  {
   "cell_type": "code",
   "execution_count": 57,
   "metadata": {},
   "outputs": [
    {
     "data": {
      "text/html": [
       "<table>\n",
       "<thead><tr><th scope=col>donor_id</th><th scope=col>diff_efficiency</th></tr></thead>\n",
       "<tbody>\n",
       "\t<tr><td>HPSI0114i-bezi_3</td><td>0.58269720      </td></tr>\n",
       "\t<tr><td>HPSI0114i-eipl_1</td><td>0.01287835      </td></tr>\n",
       "\t<tr><td>HPSI0114i-fikt_3</td><td>0.40282686      </td></tr>\n",
       "\t<tr><td>HPSI0114i-kolf_2</td><td>0.47059133      </td></tr>\n",
       "\t<tr><td>HPSI0114i-lexy_2</td><td>0.72690535      </td></tr>\n",
       "\t<tr><td>HPSI0114i-posc_1</td><td>0.81349206      </td></tr>\n",
       "</tbody>\n",
       "</table>\n"
      ],
      "text/latex": [
       "\\begin{tabular}{r|ll}\n",
       " donor\\_id & diff\\_efficiency\\\\\n",
       "\\hline\n",
       "\t HPSI0114i-bezi\\_3 & 0.58269720        \\\\\n",
       "\t HPSI0114i-eipl\\_1 & 0.01287835        \\\\\n",
       "\t HPSI0114i-fikt\\_3 & 0.40282686        \\\\\n",
       "\t HPSI0114i-kolf\\_2 & 0.47059133        \\\\\n",
       "\t HPSI0114i-lexy\\_2 & 0.72690535        \\\\\n",
       "\t HPSI0114i-posc\\_1 & 0.81349206        \\\\\n",
       "\\end{tabular}\n"
      ],
      "text/markdown": [
       "\n",
       "| donor_id | diff_efficiency |\n",
       "|---|---|\n",
       "| HPSI0114i-bezi_3 | 0.58269720       |\n",
       "| HPSI0114i-eipl_1 | 0.01287835       |\n",
       "| HPSI0114i-fikt_3 | 0.40282686       |\n",
       "| HPSI0114i-kolf_2 | 0.47059133       |\n",
       "| HPSI0114i-lexy_2 | 0.72690535       |\n",
       "| HPSI0114i-posc_1 | 0.81349206       |\n",
       "\n"
      ],
      "text/plain": [
       "  donor_id         diff_efficiency\n",
       "1 HPSI0114i-bezi_3 0.58269720     \n",
       "2 HPSI0114i-eipl_1 0.01287835     \n",
       "3 HPSI0114i-fikt_3 0.40282686     \n",
       "4 HPSI0114i-kolf_2 0.47059133     \n",
       "5 HPSI0114i-lexy_2 0.72690535     \n",
       "6 HPSI0114i-posc_1 0.81349206     "
      ]
     },
     "metadata": {},
     "output_type": "display_data"
    },
    {
     "data": {
      "text/html": [
       "<table>\n",
       "<thead><tr><th></th><th scope=col>donor_id</th><th scope=col>gene</th></tr></thead>\n",
       "<tbody>\n",
       "\t<tr><th scope=row>HPSI0114i-bezi_1</th><td>HPSI0114i-bezi_1</td><td>5.949736        </td></tr>\n",
       "\t<tr><th scope=row>HPSI0114i-bezi_3</th><td>HPSI0114i-bezi_3</td><td>5.804228        </td></tr>\n",
       "\t<tr><th scope=row>HPSI0114i-eipl_1</th><td>HPSI0114i-eipl_1</td><td>5.998296        </td></tr>\n",
       "\t<tr><th scope=row>HPSI0114i-eipl_3</th><td>HPSI0114i-eipl_3</td><td>6.103528        </td></tr>\n",
       "\t<tr><th scope=row>HPSI0114i-fikt_3</th><td>HPSI0114i-fikt_3</td><td>5.313150        </td></tr>\n",
       "\t<tr><th scope=row>HPSI0114i-iisa_1</th><td>HPSI0114i-iisa_1</td><td>5.367878        </td></tr>\n",
       "</tbody>\n",
       "</table>\n"
      ],
      "text/latex": [
       "\\begin{tabular}{r|ll}\n",
       "  & donor\\_id & gene\\\\\n",
       "\\hline\n",
       "\tHPSI0114i-bezi\\_1 & HPSI0114i-bezi\\_1 & 5.949736          \\\\\n",
       "\tHPSI0114i-bezi\\_3 & HPSI0114i-bezi\\_3 & 5.804228          \\\\\n",
       "\tHPSI0114i-eipl\\_1 & HPSI0114i-eipl\\_1 & 5.998296          \\\\\n",
       "\tHPSI0114i-eipl\\_3 & HPSI0114i-eipl\\_3 & 6.103528          \\\\\n",
       "\tHPSI0114i-fikt\\_3 & HPSI0114i-fikt\\_3 & 5.313150          \\\\\n",
       "\tHPSI0114i-iisa\\_1 & HPSI0114i-iisa\\_1 & 5.367878          \\\\\n",
       "\\end{tabular}\n"
      ],
      "text/markdown": [
       "\n",
       "| <!--/--> | donor_id | gene |\n",
       "|---|---|---|\n",
       "| HPSI0114i-bezi_1 | HPSI0114i-bezi_1 | 5.949736         |\n",
       "| HPSI0114i-bezi_3 | HPSI0114i-bezi_3 | 5.804228         |\n",
       "| HPSI0114i-eipl_1 | HPSI0114i-eipl_1 | 5.998296         |\n",
       "| HPSI0114i-eipl_3 | HPSI0114i-eipl_3 | 6.103528         |\n",
       "| HPSI0114i-fikt_3 | HPSI0114i-fikt_3 | 5.313150         |\n",
       "| HPSI0114i-iisa_1 | HPSI0114i-iisa_1 | 5.367878         |\n",
       "\n"
      ],
      "text/plain": [
       "                 donor_id         gene    \n",
       "HPSI0114i-bezi_1 HPSI0114i-bezi_1 5.949736\n",
       "HPSI0114i-bezi_3 HPSI0114i-bezi_3 5.804228\n",
       "HPSI0114i-eipl_1 HPSI0114i-eipl_1 5.998296\n",
       "HPSI0114i-eipl_3 HPSI0114i-eipl_3 6.103528\n",
       "HPSI0114i-fikt_3 HPSI0114i-fikt_3 5.313150\n",
       "HPSI0114i-iisa_1 HPSI0114i-iisa_1 5.367878"
      ]
     },
     "metadata": {},
     "output_type": "display_data"
    },
    {
     "data": {
      "text/html": [
       "<table>\n",
       "<thead><tr><th scope=col>donor_id</th><th scope=col>n</th></tr></thead>\n",
       "<tbody>\n",
       "\t<tr><td>HPSI0114i-bezi_1</td><td> 13             </td></tr>\n",
       "\t<tr><td>HPSI0114i-eipl_1</td><td> 99             </td></tr>\n",
       "\t<tr><td>HPSI0114i-iisa_1</td><td> 39             </td></tr>\n",
       "\t<tr><td>HPSI0114i-iisa_3</td><td> 38             </td></tr>\n",
       "\t<tr><td>HPSI0114i-joxm_1</td><td>383             </td></tr>\n",
       "\t<tr><td>HPSI0114i-kolf_2</td><td> 73             </td></tr>\n",
       "</tbody>\n",
       "</table>\n"
      ],
      "text/latex": [
       "\\begin{tabular}{r|ll}\n",
       " donor\\_id & n\\\\\n",
       "\\hline\n",
       "\t HPSI0114i-bezi\\_1 &  13               \\\\\n",
       "\t HPSI0114i-eipl\\_1 &  99               \\\\\n",
       "\t HPSI0114i-iisa\\_1 &  39               \\\\\n",
       "\t HPSI0114i-iisa\\_3 &  38               \\\\\n",
       "\t HPSI0114i-joxm\\_1 & 383               \\\\\n",
       "\t HPSI0114i-kolf\\_2 &  73               \\\\\n",
       "\\end{tabular}\n"
      ],
      "text/markdown": [
       "\n",
       "| donor_id | n |\n",
       "|---|---|\n",
       "| HPSI0114i-bezi_1 |  13              |\n",
       "| HPSI0114i-eipl_1 |  99              |\n",
       "| HPSI0114i-iisa_1 |  39              |\n",
       "| HPSI0114i-iisa_3 |  38              |\n",
       "| HPSI0114i-joxm_1 | 383              |\n",
       "| HPSI0114i-kolf_2 |  73              |\n",
       "\n"
      ],
      "text/plain": [
       "  donor_id         n  \n",
       "1 HPSI0114i-bezi_1  13\n",
       "2 HPSI0114i-eipl_1  99\n",
       "3 HPSI0114i-iisa_1  39\n",
       "4 HPSI0114i-iisa_3  38\n",
       "5 HPSI0114i-joxm_1 383\n",
       "6 HPSI0114i-kolf_2  73"
      ]
     },
     "metadata": {},
     "output_type": "display_data"
    }
   ],
   "source": [
    "df0 = diff_df\n",
    "df1 = data.frame(donor_id = colnames(t_df), gene = t(t_df)[,1])\n",
    "df2 = sc_df %>% group_by(donor_long_id) %>% summarise(n = n())\n",
    "colnames(df2)[1] <- \"donor_id\"\n",
    "head(df0)\n",
    "head(df1)\n",
    "head(df2)"
   ]
  },
  {
   "cell_type": "code",
   "execution_count": 58,
   "metadata": {},
   "outputs": [],
   "source": [
    "library(dplyr)"
   ]
  },
  {
   "cell_type": "code",
   "execution_count": 63,
   "metadata": {},
   "outputs": [
    {
     "data": {
      "text/html": [
       "199"
      ],
      "text/latex": [
       "199"
      ],
      "text/markdown": [
       "199"
      ],
      "text/plain": [
       "[1] 199"
      ]
     },
     "metadata": {},
     "output_type": "display_data"
    },
    {
     "data": {
      "text/html": [
       "815"
      ],
      "text/latex": [
       "815"
      ],
      "text/markdown": [
       "815"
      ],
      "text/plain": [
       "[1] 815"
      ]
     },
     "metadata": {},
     "output_type": "display_data"
    },
    {
     "data": {
      "text/html": [
       "112"
      ],
      "text/latex": [
       "112"
      ],
      "text/markdown": [
       "112"
      ],
      "text/plain": [
       "[1] 112"
      ]
     },
     "metadata": {},
     "output_type": "display_data"
    },
    {
     "name": "stderr",
     "output_type": "stream",
     "text": [
      "Joining, by = \"donor_id\"\n",
      "Warning message:\n",
      "“Column `donor_id` joining factors with different levels, coercing to character vector”"
     ]
    },
    {
     "data": {
      "text/html": [
       "184"
      ],
      "text/latex": [
       "184"
      ],
      "text/markdown": [
       "184"
      ],
      "text/plain": [
       "[1] 184"
      ]
     },
     "metadata": {},
     "output_type": "display_data"
    },
    {
     "name": "stderr",
     "output_type": "stream",
     "text": [
      "Joining, by = \"donor_id\"\n",
      "Warning message:\n",
      "“Column `donor_id` joining factors with different levels, coercing to character vector”"
     ]
    },
    {
     "data": {
      "text/html": [
       "45"
      ],
      "text/latex": [
       "45"
      ],
      "text/markdown": [
       "45"
      ],
      "text/plain": [
       "[1] 45"
      ]
     },
     "metadata": {},
     "output_type": "display_data"
    },
    {
     "name": "stderr",
     "output_type": "stream",
     "text": [
      "Joining, by = \"donor_id\"\n",
      "Warning message:\n",
      "“Column `donor_id` joining factors with different levels, coercing to character vector”"
     ]
    },
    {
     "data": {
      "text/html": [
       "107"
      ],
      "text/latex": [
       "107"
      ],
      "text/markdown": [
       "107"
      ],
      "text/plain": [
       "[1] 107"
      ]
     },
     "metadata": {},
     "output_type": "display_data"
    },
    {
     "name": "stderr",
     "output_type": "stream",
     "text": [
      "Joining, by = \"donor_id\"\n",
      "Warning message:\n",
      "“Column `donor_id` joining factors with different levels, coercing to character vector”Joining, by = \"donor_id\"\n",
      "Warning message:\n",
      "“Column `donor_id` joining factor and character vector, coercing into character vector”"
     ]
    },
    {
     "data": {
      "text/html": [
       "43"
      ],
      "text/latex": [
       "43"
      ],
      "text/markdown": [
       "43"
      ],
      "text/plain": [
       "[1] 43"
      ]
     },
     "metadata": {},
     "output_type": "display_data"
    }
   ],
   "source": [
    "nrow(df0)\n",
    "nrow(df1)\n",
    "nrow(df2)\n",
    "nrow(inner_join(df0,df1))\n",
    "nrow(inner_join(df0,df2))\n",
    "nrow(inner_join(df1,df2))\n",
    "nrow(inner_join(df0,inner_join(df1,df2)))"
   ]
  },
  {
   "cell_type": "code",
   "execution_count": null,
   "metadata": {},
   "outputs": [],
   "source": []
  }
 ],
 "metadata": {
  "kernelspec": {
   "display_name": "R",
   "language": "R",
   "name": "ir"
  },
  "language_info": {
   "codemirror_mode": "r",
   "file_extension": ".r",
   "mimetype": "text/x-r-source",
   "name": "R",
   "pygments_lexer": "r",
   "version": "3.6.1"
  }
 },
 "nbformat": 4,
 "nbformat_minor": 4
}
