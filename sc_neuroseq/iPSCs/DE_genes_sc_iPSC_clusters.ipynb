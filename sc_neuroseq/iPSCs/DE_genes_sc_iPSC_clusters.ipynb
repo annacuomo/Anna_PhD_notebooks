{
 "cells": [
  {
   "cell_type": "code",
   "execution_count": 1,
   "metadata": {},
   "outputs": [],
   "source": [
    "sc_filename = '/hps/nobackup/stegle/users/acuomo/all_scripts/sc_neuroseq/iPSC_scanpy/Cuomo2020.cluster_expression_markers.tsv'"
   ]
  },
  {
   "cell_type": "code",
   "execution_count": 2,
   "metadata": {},
   "outputs": [
    {
     "data": {
      "text/html": [
       "<table>\n",
       "<thead><tr><th scope=col>names</th><th scope=col>pvals</th><th scope=col>pvals_adj</th><th scope=col>logfoldchanges</th><th scope=col>scores</th><th scope=col>cluster_id</th><th scope=col>ensembl_gene_id</th><th scope=col>hgnc_symbol</th></tr></thead>\n",
       "<tbody>\n",
       "\t<tr><td>ENSG00000171724_VAT1L  </td><td>0                      </td><td>0                      </td><td>2.5292649              </td><td>45.27934               </td><td>0                      </td><td>ENSG00000171724        </td><td>VAT1L                  </td></tr>\n",
       "\t<tr><td>ENSG00000165349_SLC7A3 </td><td>0                      </td><td>0                      </td><td>1.8714142              </td><td>45.18132               </td><td>0                      </td><td>ENSG00000165349        </td><td>SLC7A3                 </td></tr>\n",
       "\t<tr><td>ENSG00000189067_LITAF  </td><td>0                      </td><td>0                      </td><td>2.1512449              </td><td>41.00954               </td><td>0                      </td><td>ENSG00000189067        </td><td>LITAF                  </td></tr>\n",
       "\t<tr><td>ENSG00000154277_UCHL1  </td><td>0                      </td><td>0                      </td><td>0.8063446              </td><td>40.15680               </td><td>0                      </td><td>ENSG00000154277        </td><td>UCHL1                  </td></tr>\n",
       "\t<tr><td>ENSG00000155380_SLC16A1</td><td>0                      </td><td>0                      </td><td>0.9335274              </td><td>40.08745               </td><td>0                      </td><td>ENSG00000155380        </td><td>SLC16A1                </td></tr>\n",
       "\t<tr><td>ENSG00000155760_FZD7   </td><td>0                      </td><td>0                      </td><td>1.8092395              </td><td>39.73272               </td><td>0                      </td><td>ENSG00000155760        </td><td>FZD7                   </td></tr>\n",
       "</tbody>\n",
       "</table>\n"
      ],
      "text/latex": [
       "\\begin{tabular}{r|llllllll}\n",
       " names & pvals & pvals\\_adj & logfoldchanges & scores & cluster\\_id & ensembl\\_gene\\_id & hgnc\\_symbol\\\\\n",
       "\\hline\n",
       "\t ENSG00000171724\\_VAT1L   & 0                         & 0                         & 2.5292649                 & 45.27934                  & 0                         & ENSG00000171724           & VAT1L                    \\\\\n",
       "\t ENSG00000165349\\_SLC7A3  & 0                         & 0                         & 1.8714142                 & 45.18132                  & 0                         & ENSG00000165349           & SLC7A3                   \\\\\n",
       "\t ENSG00000189067\\_LITAF   & 0                         & 0                         & 2.1512449                 & 41.00954                  & 0                         & ENSG00000189067           & LITAF                    \\\\\n",
       "\t ENSG00000154277\\_UCHL1   & 0                         & 0                         & 0.8063446                 & 40.15680                  & 0                         & ENSG00000154277           & UCHL1                    \\\\\n",
       "\t ENSG00000155380\\_SLC16A1 & 0                         & 0                         & 0.9335274                 & 40.08745                  & 0                         & ENSG00000155380           & SLC16A1                  \\\\\n",
       "\t ENSG00000155760\\_FZD7    & 0                         & 0                         & 1.8092395                 & 39.73272                  & 0                         & ENSG00000155760           & FZD7                     \\\\\n",
       "\\end{tabular}\n"
      ],
      "text/markdown": [
       "\n",
       "| names | pvals | pvals_adj | logfoldchanges | scores | cluster_id | ensembl_gene_id | hgnc_symbol |\n",
       "|---|---|---|---|---|---|---|---|\n",
       "| ENSG00000171724_VAT1L   | 0                       | 0                       | 2.5292649               | 45.27934                | 0                       | ENSG00000171724         | VAT1L                   |\n",
       "| ENSG00000165349_SLC7A3  | 0                       | 0                       | 1.8714142               | 45.18132                | 0                       | ENSG00000165349         | SLC7A3                  |\n",
       "| ENSG00000189067_LITAF   | 0                       | 0                       | 2.1512449               | 41.00954                | 0                       | ENSG00000189067         | LITAF                   |\n",
       "| ENSG00000154277_UCHL1   | 0                       | 0                       | 0.8063446               | 40.15680                | 0                       | ENSG00000154277         | UCHL1                   |\n",
       "| ENSG00000155380_SLC16A1 | 0                       | 0                       | 0.9335274               | 40.08745                | 0                       | ENSG00000155380         | SLC16A1                 |\n",
       "| ENSG00000155760_FZD7    | 0                       | 0                       | 1.8092395               | 39.73272                | 0                       | ENSG00000155760         | FZD7                    |\n",
       "\n"
      ],
      "text/plain": [
       "  names                   pvals pvals_adj logfoldchanges scores   cluster_id\n",
       "1 ENSG00000171724_VAT1L   0     0         2.5292649      45.27934 0         \n",
       "2 ENSG00000165349_SLC7A3  0     0         1.8714142      45.18132 0         \n",
       "3 ENSG00000189067_LITAF   0     0         2.1512449      41.00954 0         \n",
       "4 ENSG00000154277_UCHL1   0     0         0.8063446      40.15680 0         \n",
       "5 ENSG00000155380_SLC16A1 0     0         0.9335274      40.08745 0         \n",
       "6 ENSG00000155760_FZD7    0     0         1.8092395      39.73272 0         \n",
       "  ensembl_gene_id hgnc_symbol\n",
       "1 ENSG00000171724 VAT1L      \n",
       "2 ENSG00000165349 SLC7A3     \n",
       "3 ENSG00000189067 LITAF      \n",
       "4 ENSG00000154277 UCHL1      \n",
       "5 ENSG00000155380 SLC16A1    \n",
       "6 ENSG00000155760 FZD7       "
      ]
     },
     "metadata": {},
     "output_type": "display_data"
    }
   ],
   "source": [
    "df = read.csv(sc_filename, sep = \"\\t\")\n",
    "head(df)"
   ]
  },
  {
   "cell_type": "code",
   "execution_count": 3,
   "metadata": {},
   "outputs": [
    {
     "data": {
      "text/html": [
       "56155"
      ],
      "text/latex": [
       "56155"
      ],
      "text/markdown": [
       "56155"
      ],
      "text/plain": [
       "[1] 56155"
      ]
     },
     "metadata": {},
     "output_type": "display_data"
    },
    {
     "data": {
      "text/html": [
       "41120"
      ],
      "text/latex": [
       "41120"
      ],
      "text/markdown": [
       "41120"
      ],
      "text/plain": [
       "[1] 41120"
      ]
     },
     "metadata": {},
     "output_type": "display_data"
    }
   ],
   "source": [
    "nrow(df)\n",
    "df = df[df$pvals_adj < 0.05,]\n",
    "nrow(df)\n",
    "supp_tables_dir = \"/hps/nobackup/stegle/users/acuomo/all_scripts/sc_neuroseq/neuroseq_ms/supp_tables/natgen/\"\n",
    "filename = paste0(supp_tables_dir,\"SuppTable6_genes_differentially_expressed_fdr0.05.csv\")\n",
    "write.csv(df,filename, quote = F, row.names = F)"
   ]
  },
  {
   "cell_type": "code",
   "execution_count": 28,
   "metadata": {},
   "outputs": [
    {
     "data": {
      "text/html": [
       "56155"
      ],
      "text/latex": [
       "56155"
      ],
      "text/markdown": [
       "56155"
      ],
      "text/plain": [
       "[1] 56155"
      ]
     },
     "metadata": {},
     "output_type": "display_data"
    },
    {
     "data": {
      "text/html": [
       "6841"
      ],
      "text/latex": [
       "6841"
      ],
      "text/markdown": [
       "6841"
      ],
      "text/plain": [
       "[1] 6841"
      ]
     },
     "metadata": {},
     "output_type": "display_data"
    }
   ],
   "source": [
    "nrow(df)\n",
    "df = df[df$pvals_adj < 0.05 & df$cluster_id == '2',]\n",
    "nrow(df)\n",
    "supp_tables_dir = \"/hps/nobackup/stegle/users/acuomo/all_scripts/sc_neuroseq/neuroseq_ms/supp_tables/\"\n",
    "filename = paste0(supp_tables_dir,\"SuppTable6_genes_differentially_expressed_in_cluster2_fdr0.05.csv\")\n",
    "write.csv(df,filename, quote = F, row.names = F)"
   ]
  },
  {
   "cell_type": "code",
   "execution_count": null,
   "metadata": {},
   "outputs": [],
   "source": []
  },
  {
   "cell_type": "code",
   "execution_count": 12,
   "metadata": {},
   "outputs": [],
   "source": [
    "df$names = as.character(df$names)"
   ]
  },
  {
   "cell_type": "code",
   "execution_count": 19,
   "metadata": {},
   "outputs": [],
   "source": [
    "genes_0 = df[df$pvals_adj < 0.0005 & df$cluster_id == '0',\"names\"]\n",
    "genes_1 = df[df$pvals_adj < 0.0005 & df$cluster_id == '1',\"names\"]\n",
    "genes_2 = df[df$pvals_adj < 0.0005 & df$cluster_id == '2',\"names\"]\n",
    "genes_3 = df[df$pvals_adj < 0.0005 & df$cluster_id == '3',\"names\"]\n",
    "genes_4 = df[df$pvals_adj < 0.0005 & df$cluster_id == '4',\"names\"]"
   ]
  },
  {
   "cell_type": "code",
   "execution_count": 20,
   "metadata": {},
   "outputs": [
    {
     "data": {
      "text/html": [
       "9064"
      ],
      "text/latex": [
       "9064"
      ],
      "text/markdown": [
       "9064"
      ],
      "text/plain": [
       "[1] 9064"
      ]
     },
     "metadata": {},
     "output_type": "display_data"
    }
   ],
   "source": [
    "length(genes_0)"
   ]
  },
  {
   "cell_type": "code",
   "execution_count": 21,
   "metadata": {},
   "outputs": [
    {
     "data": {
      "text/html": [
       "0.964033539276258"
      ],
      "text/latex": [
       "0.964033539276258"
      ],
      "text/markdown": [
       "0.964033539276258"
      ],
      "text/plain": [
       "[1] 0.9640335"
      ]
     },
     "metadata": {},
     "output_type": "display_data"
    },
    {
     "data": {
      "text/html": [
       "0.984431977559607"
      ],
      "text/latex": [
       "0.984431977559607"
      ],
      "text/markdown": [
       "0.984431977559607"
      ],
      "text/plain": [
       "[1] 0.984432"
      ]
     },
     "metadata": {},
     "output_type": "display_data"
    },
    {
     "data": {
      "text/html": [
       "0.979063484916704"
      ],
      "text/latex": [
       "0.979063484916704"
      ],
      "text/markdown": [
       "0.979063484916704"
      ],
      "text/plain": [
       "[1] 0.9790635"
      ]
     },
     "metadata": {},
     "output_type": "display_data"
    },
    {
     "data": {
      "text/html": [
       "0.96242106884337"
      ],
      "text/latex": [
       "0.96242106884337"
      ],
      "text/markdown": [
       "0.96242106884337"
      ],
      "text/plain": [
       "[1] 0.9624211"
      ]
     },
     "metadata": {},
     "output_type": "display_data"
    },
    {
     "data": {
      "text/html": [
       "0.969535245719368"
      ],
      "text/latex": [
       "0.969535245719368"
      ],
      "text/markdown": [
       "0.969535245719368"
      ],
      "text/plain": [
       "[1] 0.9695352"
      ]
     },
     "metadata": {},
     "output_type": "display_data"
    }
   ],
   "source": [
    "sum(genes_0 %in% c(genes_1,genes_2,genes_3,genes_4))/length(genes_0)\n",
    "sum(genes_1 %in% c(genes_0,genes_2,genes_3,genes_4))/length(genes_1)\n",
    "sum(genes_2 %in% c(genes_0,genes_1,genes_3,genes_4))/length(genes_2)\n",
    "sum(genes_3 %in% c(genes_0,genes_1,genes_2,genes_4))/length(genes_3)\n",
    "sum(genes_4 %in% c(genes_0,genes_1,genes_2,genes_3))/length(genes_4)"
   ]
  },
  {
   "cell_type": "code",
   "execution_count": null,
   "metadata": {},
   "outputs": [],
   "source": []
  }
 ],
 "metadata": {
  "kernelspec": {
   "display_name": "R",
   "language": "R",
   "name": "ir"
  },
  "language_info": {
   "codemirror_mode": "r",
   "file_extension": ".r",
   "mimetype": "text/x-r-source",
   "name": "R",
   "pygments_lexer": "r",
   "version": "3.6.1"
  }
 },
 "nbformat": 4,
 "nbformat_minor": 4
}
