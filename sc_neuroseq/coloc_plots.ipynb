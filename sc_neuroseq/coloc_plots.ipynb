{
 "cells": [
  {
   "cell_type": "code",
   "execution_count": 1,
   "metadata": {},
   "outputs": [
    {
     "data": {
      "text/html": [
       "'/hps/nobackup/stegle/users/acuomo/all_scripts/sc_neuroseq/coloc/Homo_sapiens.GRCh37.75_c_hg19_rmsk_TE_ensemblChrmapping.filtered.hipsciexpressed_mt.sorted.gtf.gz.tbi'"
      ],
      "text/latex": [
       "'/hps/nobackup/stegle/users/acuomo/all\\_scripts/sc\\_neuroseq/coloc/Homo\\_sapiens.GRCh37.75\\_c\\_hg19\\_rmsk\\_TE\\_ensemblChrmapping.filtered.hipsciexpressed\\_mt.sorted.gtf.gz.tbi'"
      ],
      "text/markdown": [
       "'/hps/nobackup/stegle/users/acuomo/all_scripts/sc_neuroseq/coloc/Homo_sapiens.GRCh37.75_c_hg19_rmsk_TE_ensemblChrmapping.filtered.hipsciexpressed_mt.sorted.gtf.gz.tbi'"
      ],
      "text/plain": [
       "[1] \"/hps/nobackup/stegle/users/acuomo/all_scripts/sc_neuroseq/coloc/Homo_sapiens.GRCh37.75_c_hg19_rmsk_TE_ensemblChrmapping.filtered.hipsciexpressed_mt.sorted.gtf.gz.tbi\""
      ]
     },
     "metadata": {},
     "output_type": "display_data"
    }
   ],
   "source": [
    "mydir = \"/hps/nobackup/stegle/users/acuomo/all_scripts/sc_neuroseq/coloc/\"\n",
    "mysuffix = \"Homo_sapiens.GRCh37.75_c_hg19_rmsk_TE_ensemblChrmapping.filtered.hipsciexpressed_mt.sorted.gtf.gz.tbi\"\n",
    "mygtf = paste0(mydir,mysuffix)\n",
    "head(mygtf)"
   ]
  },
  {
   "cell_type": "code",
   "execution_count": 8,
   "metadata": {},
   "outputs": [
    {
     "name": "stderr",
     "output_type": "stream",
     "text": [
      "Downloading GitHub repo natsuhiko/genplot@master\n",
      "from URL https://api.github.com/repos/natsuhiko/genplot/zipball/master\n",
      "Installing genplot\n",
      "'/nfs/software/stegle/users/acuomo/conda-envs/myr/lib/R/bin/R' --no-site-file  \\\n",
      "  --no-environ --no-save --no-restore --quiet CMD INSTALL  \\\n",
      "  '/tmp/RtmpE7aZXM/devtools203c24fb441d/natsuhiko-genplot-8c8a21c'  \\\n",
      "  --library='/nfs/software/stegle/users/acuomo/conda-envs/myr/lib/R/library'  \\\n",
      "  --install-tests \n",
      "\n",
      "Installation failed: Command failed (1)\n"
     ]
    }
   ],
   "source": [
    "library(devtools)\n",
    "install_github(\"natsuhiko/genplot\")"
   ]
  },
  {
   "cell_type": "code",
   "execution_count": 9,
   "metadata": {},
   "outputs": [
    {
     "ename": "ERROR",
     "evalue": "Error in library(genplot): there is no package called ‘genplot’\n",
     "output_type": "error",
     "traceback": [
      "Error in library(genplot): there is no package called ‘genplot’\nTraceback:\n",
      "1. library(genplot)",
      "2. stop(txt, domain = NA)"
     ]
    }
   ],
   "source": [
    "library(genplot)\n",
    "genplot(seq(23000000,23400000,(23400000-23000000)/99), rnorm(100)^2, xlim=c(23000000,23400000), chr=7, \n",
    "        gname=\"NUPL2\", Max=1, GTF=mygtf)\n",
    "axis(2,las=2)"
   ]
  },
  {
   "cell_type": "code",
   "execution_count": null,
   "metadata": {},
   "outputs": [],
   "source": []
  },
  {
   "cell_type": "code",
   "execution_count": null,
   "metadata": {},
   "outputs": [],
   "source": []
  },
  {
   "cell_type": "code",
   "execution_count": 4,
   "metadata": {},
   "outputs": [
    {
     "ename": "ERROR",
     "evalue": "Error in library(colocr): there is no package called ‘colocr’\n",
     "output_type": "error",
     "traceback": [
      "Error in library(colocr): there is no package called ‘colocr’\nTraceback:\n",
      "1. library(colocr)",
      "2. stop(txt, domain = NA)"
     ]
    }
   ],
   "source": [
    "# devtools::install_github('ropensci/colocr')\n",
    "library(colocr)"
   ]
  },
  {
   "cell_type": "code",
   "execution_count": null,
   "metadata": {},
   "outputs": [],
   "source": []
  }
 ],
 "metadata": {
  "kernelspec": {
   "display_name": "R",
   "language": "R",
   "name": "ir"
  },
  "language_info": {
   "codemirror_mode": "r",
   "file_extension": ".r",
   "mimetype": "text/x-r-source",
   "name": "R",
   "pygments_lexer": "r",
   "version": "3.6.1"
  }
 },
 "nbformat": 4,
 "nbformat_minor": 2
}
