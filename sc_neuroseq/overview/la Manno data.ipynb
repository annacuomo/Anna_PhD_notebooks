{
 "cells": [
  {
   "cell_type": "code",
   "execution_count": 2,
   "metadata": {},
   "outputs": [],
   "source": [
    "lamanno_dir = \"/nfs/leia/research/stegle/dseaton/data/scrnaseq_datasets/lemanno2016_mouse_human_DAneuron/\""
   ]
  },
  {
   "cell_type": "code",
   "execution_count": 3,
   "metadata": {},
   "outputs": [
    {
     "data": {
      "text/html": [
       "<ol class=list-inline>\n",
       "\t<li>'create_scanpy_object.py'</li>\n",
       "\t<li>'GSE76381_EmbryoMoleculeCounts.cef.txt'</li>\n",
       "\t<li>'GSE76381_EmbryoMoleculeCounts.cef.txt.h5ad'</li>\n",
       "\t<li>'GSE76381_ESMoleculeCounts.cef.txt'</li>\n",
       "\t<li>'GSE76381_ESMoleculeCounts.cef.txt.h5ad'</li>\n",
       "\t<li>'GSE76381_iPSMoleculeCounts.cef.txt'</li>\n",
       "\t<li>'GSE76381_iPSMoleculeCounts.cef.txt.h5ad'</li>\n",
       "\t<li>'lemanno2016_human_embryo_brain_markers.tsv'</li>\n",
       "\t<li>'lemanno2016_midbrain_celltype_marker_binary_matrix.csv'</li>\n",
       "\t<li>'parse_cell_type_marker_table.py'</li>\n",
       "\t<li>'table_S2_cell_type_markers.xlsx'</li>\n",
       "</ol>\n"
      ],
      "text/latex": [
       "\\begin{enumerate*}\n",
       "\\item 'create\\_scanpy\\_object.py'\n",
       "\\item 'GSE76381\\_EmbryoMoleculeCounts.cef.txt'\n",
       "\\item 'GSE76381\\_EmbryoMoleculeCounts.cef.txt.h5ad'\n",
       "\\item 'GSE76381\\_ESMoleculeCounts.cef.txt'\n",
       "\\item 'GSE76381\\_ESMoleculeCounts.cef.txt.h5ad'\n",
       "\\item 'GSE76381\\_iPSMoleculeCounts.cef.txt'\n",
       "\\item 'GSE76381\\_iPSMoleculeCounts.cef.txt.h5ad'\n",
       "\\item 'lemanno2016\\_human\\_embryo\\_brain\\_markers.tsv'\n",
       "\\item 'lemanno2016\\_midbrain\\_celltype\\_marker\\_binary\\_matrix.csv'\n",
       "\\item 'parse\\_cell\\_type\\_marker\\_table.py'\n",
       "\\item 'table\\_S2\\_cell\\_type\\_markers.xlsx'\n",
       "\\end{enumerate*}\n"
      ],
      "text/markdown": [
       "1. 'create_scanpy_object.py'\n",
       "2. 'GSE76381_EmbryoMoleculeCounts.cef.txt'\n",
       "3. 'GSE76381_EmbryoMoleculeCounts.cef.txt.h5ad'\n",
       "4. 'GSE76381_ESMoleculeCounts.cef.txt'\n",
       "5. 'GSE76381_ESMoleculeCounts.cef.txt.h5ad'\n",
       "6. 'GSE76381_iPSMoleculeCounts.cef.txt'\n",
       "7. 'GSE76381_iPSMoleculeCounts.cef.txt.h5ad'\n",
       "8. 'lemanno2016_human_embryo_brain_markers.tsv'\n",
       "9. 'lemanno2016_midbrain_celltype_marker_binary_matrix.csv'\n",
       "10. 'parse_cell_type_marker_table.py'\n",
       "11. 'table_S2_cell_type_markers.xlsx'\n",
       "\n",
       "\n"
      ],
      "text/plain": [
       " [1] \"create_scanpy_object.py\"                               \n",
       " [2] \"GSE76381_EmbryoMoleculeCounts.cef.txt\"                 \n",
       " [3] \"GSE76381_EmbryoMoleculeCounts.cef.txt.h5ad\"            \n",
       " [4] \"GSE76381_ESMoleculeCounts.cef.txt\"                     \n",
       " [5] \"GSE76381_ESMoleculeCounts.cef.txt.h5ad\"                \n",
       " [6] \"GSE76381_iPSMoleculeCounts.cef.txt\"                    \n",
       " [7] \"GSE76381_iPSMoleculeCounts.cef.txt.h5ad\"               \n",
       " [8] \"lemanno2016_human_embryo_brain_markers.tsv\"            \n",
       " [9] \"lemanno2016_midbrain_celltype_marker_binary_matrix.csv\"\n",
       "[10] \"parse_cell_type_marker_table.py\"                       \n",
       "[11] \"table_S2_cell_type_markers.xlsx\"                       "
      ]
     },
     "metadata": {},
     "output_type": "display_data"
    }
   ],
   "source": [
    "list.files(lamanno_dir)"
   ]
  },
  {
   "cell_type": "code",
   "execution_count": 4,
   "metadata": {},
   "outputs": [
    {
     "data": {
      "text/html": [
       "<table>\n",
       "<thead><tr><th scope=col>marker_gene</th><th scope=col>celltype_id</th></tr></thead>\n",
       "<tbody>\n",
       "\t<tr><td>ACTB  </td><td>Basal </td></tr>\n",
       "\t<tr><td>ACTG1 </td><td>Basal </td></tr>\n",
       "\t<tr><td>ATF4  </td><td>Basal </td></tr>\n",
       "\t<tr><td>ATP5B </td><td>Basal </td></tr>\n",
       "\t<tr><td>ATP5E </td><td>Basal </td></tr>\n",
       "\t<tr><td>ATP5F1</td><td>Basal </td></tr>\n",
       "</tbody>\n",
       "</table>\n"
      ],
      "text/latex": [
       "\\begin{tabular}{r|ll}\n",
       " marker\\_gene & celltype\\_id\\\\\n",
       "\\hline\n",
       "\t ACTB   & Basal \\\\\n",
       "\t ACTG1  & Basal \\\\\n",
       "\t ATF4   & Basal \\\\\n",
       "\t ATP5B  & Basal \\\\\n",
       "\t ATP5E  & Basal \\\\\n",
       "\t ATP5F1 & Basal \\\\\n",
       "\\end{tabular}\n"
      ],
      "text/markdown": [
       "\n",
       "| marker_gene | celltype_id |\n",
       "|---|---|\n",
       "| ACTB   | Basal  |\n",
       "| ACTG1  | Basal  |\n",
       "| ATF4   | Basal  |\n",
       "| ATP5B  | Basal  |\n",
       "| ATP5E  | Basal  |\n",
       "| ATP5F1 | Basal  |\n",
       "\n"
      ],
      "text/plain": [
       "  marker_gene celltype_id\n",
       "1 ACTB        Basal      \n",
       "2 ACTG1       Basal      \n",
       "3 ATF4        Basal      \n",
       "4 ATP5B       Basal      \n",
       "5 ATP5E       Basal      \n",
       "6 ATP5F1      Basal      "
      ]
     },
     "metadata": {},
     "output_type": "display_data"
    }
   ],
   "source": [
    "filename1 = paste0(lamanno_dir, 'lemanno2016_human_embryo_brain_markers.tsv')\n",
    "df1 = read.csv(filename1, sep = \"\\t\")\n",
    "head(df1)"
   ]
  },
  {
   "cell_type": "code",
   "execution_count": 28,
   "metadata": {},
   "outputs": [],
   "source": [
    "filename = paste0(lamanno_dir, 'GSE76381_EmbryoMoleculeCounts.cef.txt')\n",
    "df = read.csv(filename, sep = \"\\t\")"
   ]
  },
  {
   "cell_type": "code",
   "execution_count": 29,
   "metadata": {},
   "outputs": [
    {
     "data": {
      "text/html": [
       "<table>\n",
       "<thead><tr><th scope=col>CEF</th><th scope=col>X0</th><th scope=col>X1</th><th scope=col>X3</th><th scope=col>X19531</th><th scope=col>X1977</th><th scope=col>X0.1</th><th scope=col>X</th><th scope=col>X.1</th><th scope=col>X.2</th><th scope=col>...</th><th scope=col>X.1962</th><th scope=col>X.1963</th><th scope=col>X.1964</th><th scope=col>X.1965</th><th scope=col>X.1966</th><th scope=col>X.1967</th><th scope=col>X.1968</th><th scope=col>X.1969</th><th scope=col>X.1970</th><th scope=col>X.1971</th></tr></thead>\n",
       "<tbody>\n",
       "\t<tr><td>               </td><td>Cell_ID        </td><td>1772067_089_A01</td><td>1772067_089_A02</td><td>1772067_089_A03</td><td>1772067_089_A04</td><td>1772067_089_A05</td><td>1772067_089_A06</td><td>1772067_089_A08</td><td>1772067_089_A09</td><td>...            </td><td>1772122_224_H01</td><td>1772122_224_H02</td><td>1772122_224_H04</td><td>1772122_224_H05</td><td>1772122_224_H06</td><td>1772122_224_H07</td><td>1772122_224_H08</td><td>1772122_224_H09</td><td>1772122_224_H10</td><td>1772122_224_H12</td></tr>\n",
       "\t<tr><td>               </td><td>Cell_type      </td><td>hMgl           </td><td>hRgl2a         </td><td>Unk            </td><td>hNProg         </td><td>hProgBP        </td><td>hProgM         </td><td>hNProg         </td><td>hOMTN          </td><td>...            </td><td>Unk            </td><td>hNProg         </td><td>hProgBP        </td><td>Unk            </td><td>Unk            </td><td>hOMTN          </td><td>hProgBP        </td><td>hMgl           </td><td>hNProg         </td><td>hNProg         </td></tr>\n",
       "\t<tr><td>               </td><td>Timepoint      </td><td>week_7         </td><td>week_7         </td><td>week_7         </td><td>week_7         </td><td>week_7         </td><td>week_7         </td><td>week_7         </td><td>week_7         </td><td>...            </td><td>week_8         </td><td>week_8         </td><td>week_8         </td><td>week_8         </td><td>week_8         </td><td>week_8         </td><td>week_8         </td><td>week_8         </td><td>week_8         </td><td>week_8         </td></tr>\n",
       "\t<tr><td>Gene           </td><td>               </td><td>               </td><td>               </td><td>               </td><td>               </td><td>               </td><td>               </td><td>               </td><td>               </td><td>...            </td><td>               </td><td>               </td><td>               </td><td>               </td><td>               </td><td>               </td><td>               </td><td>               </td><td>               </td><td>               </td></tr>\n",
       "\t<tr><td>DDX11L1        </td><td>               </td><td>0              </td><td>0              </td><td>0              </td><td>0              </td><td>0              </td><td>0              </td><td>0              </td><td>0              </td><td>...            </td><td>0              </td><td>0              </td><td>0              </td><td>0              </td><td>0              </td><td>0              </td><td>0              </td><td>0              </td><td>0              </td><td>0              </td></tr>\n",
       "\t<tr><td>WASH7P_p1      </td><td>               </td><td>0              </td><td>0              </td><td>1              </td><td>0              </td><td>0              </td><td>0              </td><td>0              </td><td>0              </td><td>...            </td><td>0              </td><td>0              </td><td>0              </td><td>0              </td><td>0              </td><td>0              </td><td>0              </td><td>0              </td><td>0              </td><td>0              </td></tr>\n",
       "</tbody>\n",
       "</table>\n"
      ],
      "text/latex": [
       "\\begin{tabular}{r|lllllllllllllllllllllllllllllllllllllllllllllllllllllllllllllllllllllllllllllllllllllllllllllllllllllllllllllllllllllllllllllllllllllllllllllllllllllllllllllllllllllllllllllllllllllllllllllllllllllllllllllllllllllllllllllllllllllllllllllllllllllllllllllllllllllllllllllllllllllllllllllllllllllllllllllllllllllllllllllllllllllllllllllllllllllllllllllllllllllllllllllllllllllllllllllllllllllllllllllllllllllllllllllllllllllllllllllllllllllllllllllllllllllllllllllllllllllllllllllllllllllllllllllllllllllllllllllllllllllllllllllllllllllllllllllllllllllllllllllllllllllllllllllllllllllllllllllllllllllllllllllllllllllllllllllllllllllllllllllllllllllllllllllllllllllllllllllllllllllllllllllllllllllllllllllllllllllllllllllllllllllllllllllllllllllllllllllllllllllllllllllllllllllllllllllllllllllllllllllllllllllllllllllllllllllllllllllllllllllllllllllllllllllllllllllllllllllllllllllllllllllllllllllllllllllllllllllllllllllllllllllllllllllllllllllllllllllllllllllllllllllllllllllllllllllllllllllllllllllllllllllllllllllllllllllllllllllllllllllllllllllllllllllllllllllllllllllllllllllllllllllllllllllllllllllllllllllllllllllllllllllllllllllllllllllllllllllllllllllllllllllllllllllllllllllllllllllllllllllllllllllllllllllllllllllllllllllllllllllllllllllllllllllllllllllllllllllllllllllllllllllllllllllllllllllllllllllllllllllllllllllllllllllllllllllllllllllllllllllllllllllllllllllllllllllllllllllllllllllllllllllllllllllllllllllllllllllllllllllllllllllllllllllllllllllllllllllllllllllllllllllllllllllllllllllllllllllllllllllllllllllllllllllllllllllllllllllllllllllllllllllllllllllllllllllllllllllllllllllllllllllllllllllllllllllllllllllllllllllllllllllllllllllllllllllllllllllllllllllllllllllllllllllllllllllllllllllllllllllllllllllllllllllllllllllllllllllllllllllllllllllllllllllllllllllllllllllllllllllllllllllllllllllllllllllllllllllllllllllllllllllllllllllllllllllllllllllllllllllllllllllllllllllllllllllllllllllllllllllllllllllllllllllllllllllllllllllllllllllllllllllllllllllllllll}\n",
       " CEF & X0 & X1 & X3 & X19531 & X1977 & X0.1 & X & X.1 & X.2 & ... & X.1962 & X.1963 & X.1964 & X.1965 & X.1966 & X.1967 & X.1968 & X.1969 & X.1970 & X.1971\\\\\n",
       "\\hline\n",
       "\t                     & Cell\\_ID           & 1772067\\_089\\_A01 & 1772067\\_089\\_A02 & 1772067\\_089\\_A03 & 1772067\\_089\\_A04 & 1772067\\_089\\_A05 & 1772067\\_089\\_A06 & 1772067\\_089\\_A08 & 1772067\\_089\\_A09 & ...                 & 1772122\\_224\\_H01 & 1772122\\_224\\_H02 & 1772122\\_224\\_H04 & 1772122\\_224\\_H05 & 1772122\\_224\\_H06 & 1772122\\_224\\_H07 & 1772122\\_224\\_H08 & 1772122\\_224\\_H09 & 1772122\\_224\\_H10 & 1772122\\_224\\_H12\\\\\n",
       "\t                 & Cell\\_type     & hMgl            & hRgl2a          & Unk             & hNProg          & hProgBP         & hProgM          & hNProg          & hOMTN           & ...             & Unk             & hNProg          & hProgBP         & Unk             & Unk             & hOMTN           & hProgBP         & hMgl            & hNProg          & hNProg         \\\\\n",
       "\t                   & Timepoint         & week\\_7          & week\\_7          & week\\_7          & week\\_7          & week\\_7          & week\\_7          & week\\_7          & week\\_7          & ...               & week\\_8          & week\\_8          & week\\_8          & week\\_8          & week\\_8          & week\\_8          & week\\_8          & week\\_8          & week\\_8          & week\\_8         \\\\\n",
       "\t Gene            &                 &                 &                 &                 &                 &                 &                 &                 &                 & ...             &                 &                 &                 &                 &                 &                 &                 &                 &                 &                \\\\\n",
       "\t DDX11L1         &                 & 0               & 0               & 0               & 0               & 0               & 0               & 0               & 0               & ...             & 0               & 0               & 0               & 0               & 0               & 0               & 0               & 0               & 0               & 0              \\\\\n",
       "\t WASH7P\\_p1     &                 & 0               & 0               & 1               & 0               & 0               & 0               & 0               & 0               & ...             & 0               & 0               & 0               & 0               & 0               & 0               & 0               & 0               & 0               & 0              \\\\\n",
       "\\end{tabular}\n"
      ],
      "text/markdown": [
       "\n",
       "| CEF | X0 | X1 | X3 | X19531 | X1977 | X0.1 | X | X.1 | X.2 | ... | X.1962 | X.1963 | X.1964 | X.1965 | X.1966 | X.1967 | X.1968 | X.1969 | X.1970 | X.1971 |\n",
       "|---|---|---|---|---|---|---|---|---|---|---|---|---|---|---|---|---|---|---|---|---|\n",
       "|                 | Cell_ID         | 1772067_089_A01 | 1772067_089_A02 | 1772067_089_A03 | 1772067_089_A04 | 1772067_089_A05 | 1772067_089_A06 | 1772067_089_A08 | 1772067_089_A09 | ...             | 1772122_224_H01 | 1772122_224_H02 | 1772122_224_H04 | 1772122_224_H05 | 1772122_224_H06 | 1772122_224_H07 | 1772122_224_H08 | 1772122_224_H09 | 1772122_224_H10 | 1772122_224_H12 |\n",
       "|                 | Cell_type       | hMgl            | hRgl2a          | Unk             | hNProg          | hProgBP         | hProgM          | hNProg          | hOMTN           | ...             | Unk             | hNProg          | hProgBP         | Unk             | Unk             | hOMTN           | hProgBP         | hMgl            | hNProg          | hNProg          |\n",
       "|                 | Timepoint       | week_7          | week_7          | week_7          | week_7          | week_7          | week_7          | week_7          | week_7          | ...             | week_8          | week_8          | week_8          | week_8          | week_8          | week_8          | week_8          | week_8          | week_8          | week_8          |\n",
       "| Gene            |                 |                 |                 |                 |                 |                 |                 |                 |                 | ...             |                 |                 |                 |                 |                 |                 |                 |                 |                 |                 |\n",
       "| DDX11L1         |                 | 0               | 0               | 0               | 0               | 0               | 0               | 0               | 0               | ...             | 0               | 0               | 0               | 0               | 0               | 0               | 0               | 0               | 0               | 0               |\n",
       "| WASH7P_p1       |                 | 0               | 0               | 1               | 0               | 0               | 0               | 0               | 0               | ...             | 0               | 0               | 0               | 0               | 0               | 0               | 0               | 0               | 0               | 0               |\n",
       "\n"
      ],
      "text/plain": [
       "  CEF       X0        X1              X3              X19531         \n",
       "1           Cell_ID   1772067_089_A01 1772067_089_A02 1772067_089_A03\n",
       "2           Cell_type hMgl            hRgl2a          Unk            \n",
       "3           Timepoint week_7          week_7          week_7         \n",
       "4 Gene                                                               \n",
       "5 DDX11L1             0               0               0              \n",
       "6 WASH7P_p1           0               0               1              \n",
       "  X1977           X0.1            X               X.1            \n",
       "1 1772067_089_A04 1772067_089_A05 1772067_089_A06 1772067_089_A08\n",
       "2 hNProg          hProgBP         hProgM          hNProg         \n",
       "3 week_7          week_7          week_7          week_7         \n",
       "4                                                                \n",
       "5 0               0               0               0              \n",
       "6 0               0               0               0              \n",
       "  X.2             ... X.1962          X.1963          X.1964         \n",
       "1 1772067_089_A09 ... 1772122_224_H01 1772122_224_H02 1772122_224_H04\n",
       "2 hOMTN           ... Unk             hNProg          hProgBP        \n",
       "3 week_7          ... week_8          week_8          week_8         \n",
       "4                 ...                                                \n",
       "5 0               ... 0               0               0              \n",
       "6 0               ... 0               0               0              \n",
       "  X.1965          X.1966          X.1967          X.1968         \n",
       "1 1772122_224_H05 1772122_224_H06 1772122_224_H07 1772122_224_H08\n",
       "2 Unk             Unk             hOMTN           hProgBP        \n",
       "3 week_8          week_8          week_8          week_8         \n",
       "4                                                                \n",
       "5 0               0               0               0              \n",
       "6 0               0               0               0              \n",
       "  X.1969          X.1970          X.1971         \n",
       "1 1772122_224_H09 1772122_224_H10 1772122_224_H12\n",
       "2 hMgl            hNProg          hNProg         \n",
       "3 week_8          week_8          week_8         \n",
       "4                                                \n",
       "5 0               0               0              \n",
       "6 0               0               0              "
      ]
     },
     "metadata": {},
     "output_type": "display_data"
    }
   ],
   "source": [
    "head(df)"
   ]
  },
  {
   "cell_type": "code",
   "execution_count": 30,
   "metadata": {},
   "outputs": [
    {
     "data": {
      "text/html": [
       "<table>\n",
       "<thead><tr><th></th><th scope=col>Cell_ID</th><th scope=col>Cell_type</th><th scope=col>Timepoint</th></tr></thead>\n",
       "<tbody>\n",
       "\t<tr><th scope=row>1772067_089_A01</th><td>1772067_089_A01</td><td>hMgl           </td><td>week_7         </td></tr>\n",
       "\t<tr><th scope=row>1772067_089_A02</th><td>1772067_089_A02</td><td>hRgl2a         </td><td>week_7         </td></tr>\n",
       "\t<tr><th scope=row>1772067_089_A03</th><td>1772067_089_A03</td><td>Unk            </td><td>week_7         </td></tr>\n",
       "\t<tr><th scope=row>1772067_089_A04</th><td>1772067_089_A04</td><td>hNProg         </td><td>week_7         </td></tr>\n",
       "\t<tr><th scope=row>1772067_089_A05</th><td>1772067_089_A05</td><td>hProgBP        </td><td>week_7         </td></tr>\n",
       "\t<tr><th scope=row>1772067_089_A06</th><td>1772067_089_A06</td><td>hProgM         </td><td>week_7         </td></tr>\n",
       "</tbody>\n",
       "</table>\n"
      ],
      "text/latex": [
       "\\begin{tabular}{r|lll}\n",
       "  & Cell\\_ID & Cell\\_type & Timepoint\\\\\n",
       "\\hline\n",
       "\t1772067\\_089\\_A01 & 1772067\\_089\\_A01 & hMgl                & week\\_7           \\\\\n",
       "\t1772067\\_089\\_A02 & 1772067\\_089\\_A02 & hRgl2a              & week\\_7           \\\\\n",
       "\t1772067\\_089\\_A03 & 1772067\\_089\\_A03 & Unk                 & week\\_7           \\\\\n",
       "\t1772067\\_089\\_A04 & 1772067\\_089\\_A04 & hNProg              & week\\_7           \\\\\n",
       "\t1772067\\_089\\_A05 & 1772067\\_089\\_A05 & hProgBP             & week\\_7           \\\\\n",
       "\t1772067\\_089\\_A06 & 1772067\\_089\\_A06 & hProgM              & week\\_7           \\\\\n",
       "\\end{tabular}\n"
      ],
      "text/markdown": [
       "\n",
       "| <!--/--> | Cell_ID | Cell_type | Timepoint |\n",
       "|---|---|---|---|\n",
       "| 1772067_089_A01 | 1772067_089_A01 | hMgl            | week_7          |\n",
       "| 1772067_089_A02 | 1772067_089_A02 | hRgl2a          | week_7          |\n",
       "| 1772067_089_A03 | 1772067_089_A03 | Unk             | week_7          |\n",
       "| 1772067_089_A04 | 1772067_089_A04 | hNProg          | week_7          |\n",
       "| 1772067_089_A05 | 1772067_089_A05 | hProgBP         | week_7          |\n",
       "| 1772067_089_A06 | 1772067_089_A06 | hProgM          | week_7          |\n",
       "\n"
      ],
      "text/plain": [
       "                Cell_ID         Cell_type Timepoint\n",
       "1772067_089_A01 1772067_089_A01 hMgl      week_7   \n",
       "1772067_089_A02 1772067_089_A02 hRgl2a    week_7   \n",
       "1772067_089_A03 1772067_089_A03 Unk       week_7   \n",
       "1772067_089_A04 1772067_089_A04 hNProg    week_7   \n",
       "1772067_089_A05 1772067_089_A05 hProgBP   week_7   \n",
       "1772067_089_A06 1772067_089_A06 hProgM    week_7   "
      ]
     },
     "metadata": {},
     "output_type": "display_data"
    }
   ],
   "source": [
    "meta_df = as.data.frame(t(df[1:3,3:ncol(df)]))\n",
    "colnames(meta_df) = df[1:3,2]\n",
    "rownames(meta_df) = meta_df$Cell_ID\n",
    "head(meta_df)"
   ]
  },
  {
   "cell_type": "code",
   "execution_count": 82,
   "metadata": {},
   "outputs": [],
   "source": [
    "inner_df = df[5:nrow(df),3:ncol(df)]"
   ]
  },
  {
   "cell_type": "code",
   "execution_count": 67,
   "metadata": {},
   "outputs": [
    {
     "data": {
      "text/html": [
       "19531"
      ],
      "text/latex": [
       "19531"
      ],
      "text/markdown": [
       "19531"
      ],
      "text/plain": [
       "[1] 19531"
      ]
     },
     "metadata": {},
     "output_type": "display_data"
    },
    {
     "data": {
      "text/html": [
       "1977"
      ],
      "text/latex": [
       "1977"
      ],
      "text/markdown": [
       "1977"
      ],
      "text/plain": [
       "[1] 1977"
      ]
     },
     "metadata": {},
     "output_type": "display_data"
    }
   ],
   "source": [
    "nrow(inner_df)\n",
    "ncol(inner_df)"
   ]
  },
  {
   "cell_type": "code",
   "execution_count": 68,
   "metadata": {},
   "outputs": [],
   "source": [
    "counts_df = matrix(0, nrow = nrow(inner_df), ncol = ncol(inner_df))\n",
    "for (i in 1:ncol(inner_df)){\n",
    "    counts_df[,i] = as.numeric(as.character(unlist(inner_df[,i])))\n",
    "}"
   ]
  },
  {
   "cell_type": "code",
   "execution_count": 71,
   "metadata": {},
   "outputs": [
    {
     "data": {
      "text/html": [
       "<table>\n",
       "<tbody>\n",
       "\t<tr><td>0</td><td>0</td><td>0</td><td>0</td><td>0</td></tr>\n",
       "\t<tr><td>0</td><td>0</td><td>1</td><td>0</td><td>0</td></tr>\n",
       "\t<tr><td>0</td><td>0</td><td>0</td><td>0</td><td>0</td></tr>\n",
       "\t<tr><td>1</td><td>0</td><td>0</td><td>0</td><td>0</td></tr>\n",
       "\t<tr><td>0</td><td>0</td><td>0</td><td>0</td><td>0</td></tr>\n",
       "</tbody>\n",
       "</table>\n"
      ],
      "text/latex": [
       "\\begin{tabular}{lllll}\n",
       "\t 0 & 0 & 0 & 0 & 0\\\\\n",
       "\t 0 & 0 & 1 & 0 & 0\\\\\n",
       "\t 0 & 0 & 0 & 0 & 0\\\\\n",
       "\t 1 & 0 & 0 & 0 & 0\\\\\n",
       "\t 0 & 0 & 0 & 0 & 0\\\\\n",
       "\\end{tabular}\n"
      ],
      "text/markdown": [
       "\n",
       "| 0 | 0 | 0 | 0 | 0 |\n",
       "| 0 | 0 | 1 | 0 | 0 |\n",
       "| 0 | 0 | 0 | 0 | 0 |\n",
       "| 1 | 0 | 0 | 0 | 0 |\n",
       "| 0 | 0 | 0 | 0 | 0 |\n",
       "\n"
      ],
      "text/plain": [
       "     [,1] [,2] [,3] [,4] [,5]\n",
       "[1,] 0    0    0    0    0   \n",
       "[2,] 0    0    1    0    0   \n",
       "[3,] 0    0    0    0    0   \n",
       "[4,] 1    0    0    0    0   \n",
       "[5,] 0    0    0    0    0   "
      ]
     },
     "metadata": {},
     "output_type": "display_data"
    },
    {
     "name": "stdout",
     "output_type": "stream",
     "text": [
      " num [1:19531, 1:1977] 0 0 0 1 0 0 0 1 0 0 ...\n"
     ]
    }
   ],
   "source": [
    "counts_df[1:5,1:5]\n",
    "str(counts_df)"
   ]
  },
  {
   "cell_type": "code",
   "execution_count": 72,
   "metadata": {},
   "outputs": [
    {
     "data": {
      "text/html": [
       "<table>\n",
       "<thead><tr><th></th><th scope=col>1772067_089_A01</th><th scope=col>1772067_089_A02</th><th scope=col>1772067_089_A03</th><th scope=col>1772067_089_A04</th><th scope=col>1772067_089_A05</th></tr></thead>\n",
       "<tbody>\n",
       "\t<tr><th scope=row>DDX11L1</th><td>0</td><td>0</td><td>0</td><td>0</td><td>0</td></tr>\n",
       "\t<tr><th scope=row>WASH7P_p1</th><td>0</td><td>0</td><td>1</td><td>0</td><td>0</td></tr>\n",
       "\t<tr><th scope=row>LINC01002_loc4</th><td>0</td><td>0</td><td>0</td><td>0</td><td>0</td></tr>\n",
       "\t<tr><th scope=row>LOC100133331_loc1</th><td>1</td><td>0</td><td>0</td><td>0</td><td>0</td></tr>\n",
       "\t<tr><th scope=row>LOC100132287_loc2</th><td>0</td><td>0</td><td>0</td><td>0</td><td>0</td></tr>\n",
       "</tbody>\n",
       "</table>\n"
      ],
      "text/latex": [
       "\\begin{tabular}{r|lllll}\n",
       "  & 1772067\\_089\\_A01 & 1772067\\_089\\_A02 & 1772067\\_089\\_A03 & 1772067\\_089\\_A04 & 1772067\\_089\\_A05\\\\\n",
       "\\hline\n",
       "\tDDX11L1 & 0 & 0 & 0 & 0 & 0\\\\\n",
       "\tWASH7P\\_p1 & 0 & 0 & 1 & 0 & 0\\\\\n",
       "\tLINC01002\\_loc4 & 0 & 0 & 0 & 0 & 0\\\\\n",
       "\tLOC100133331\\_loc1 & 1 & 0 & 0 & 0 & 0\\\\\n",
       "\tLOC100132287\\_loc2 & 0 & 0 & 0 & 0 & 0\\\\\n",
       "\\end{tabular}\n"
      ],
      "text/markdown": [
       "\n",
       "| <!--/--> | 1772067_089_A01 | 1772067_089_A02 | 1772067_089_A03 | 1772067_089_A04 | 1772067_089_A05 |\n",
       "|---|---|---|---|---|---|\n",
       "| DDX11L1 | 0 | 0 | 0 | 0 | 0 |\n",
       "| WASH7P_p1 | 0 | 0 | 1 | 0 | 0 |\n",
       "| LINC01002_loc4 | 0 | 0 | 0 | 0 | 0 |\n",
       "| LOC100133331_loc1 | 1 | 0 | 0 | 0 | 0 |\n",
       "| LOC100132287_loc2 | 0 | 0 | 0 | 0 | 0 |\n",
       "\n"
      ],
      "text/plain": [
       "                  1772067_089_A01 1772067_089_A02 1772067_089_A03\n",
       "DDX11L1           0               0               0              \n",
       "WASH7P_p1         0               0               1              \n",
       "LINC01002_loc4    0               0               0              \n",
       "LOC100133331_loc1 1               0               0              \n",
       "LOC100132287_loc2 0               0               0              \n",
       "                  1772067_089_A04 1772067_089_A05\n",
       "DDX11L1           0               0              \n",
       "WASH7P_p1         0               0              \n",
       "LINC01002_loc4    0               0              \n",
       "LOC100133331_loc1 0               0              \n",
       "LOC100132287_loc2 0               0              "
      ]
     },
     "metadata": {},
     "output_type": "display_data"
    }
   ],
   "source": [
    "rownames(counts_df) = df[5:nrow(df),1]\n",
    "colnames(counts_df) = meta_df$Cell_ID\n",
    "counts_df[1:5,1:5]"
   ]
  },
  {
   "cell_type": "code",
   "execution_count": 73,
   "metadata": {},
   "outputs": [
    {
     "data": {
      "text/html": [
       "0"
      ],
      "text/latex": [
       "0"
      ],
      "text/markdown": [
       "0"
      ],
      "text/plain": [
       "[1] 0"
      ]
     },
     "metadata": {},
     "output_type": "display_data"
    },
    {
     "data": {
      "text/html": [
       "1616"
      ],
      "text/latex": [
       "1616"
      ],
      "text/markdown": [
       "1616"
      ],
      "text/plain": [
       "[1] 1616"
      ]
     },
     "metadata": {},
     "output_type": "display_data"
    }
   ],
   "source": [
    "min(counts_df)\n",
    "max(counts_df)"
   ]
  },
  {
   "cell_type": "code",
   "execution_count": 74,
   "metadata": {},
   "outputs": [],
   "source": [
    "library(SingleCellExperiment)"
   ]
  },
  {
   "cell_type": "code",
   "execution_count": 75,
   "metadata": {},
   "outputs": [
    {
     "data": {
      "text/plain": [
       "class: SingleCellExperiment \n",
       "dim: 19531 1977 \n",
       "metadata(0):\n",
       "assays(1): counts\n",
       "rownames(19531): DDX11L1 WASH7P_p1 ... VAMP7_loc1 DDX11L16_loc1\n",
       "rowData names(0):\n",
       "colnames(1977): 1772067_089_A01 1772067_089_A02 ... 1772122_224_H10\n",
       "  1772122_224_H12\n",
       "colData names(3): Cell_ID Cell_type Timepoint\n",
       "reducedDimNames(0):\n",
       "spikeNames(0):\n",
       "altExpNames(0):"
      ]
     },
     "metadata": {},
     "output_type": "display_data"
    }
   ],
   "source": [
    "sce_lamanno <- SingleCellExperiment(\n",
    "assays = list(counts = counts_df),\n",
    "colData = meta_df)\n",
    "sce_lamanno"
   ]
  },
  {
   "cell_type": "code",
   "execution_count": 76,
   "metadata": {},
   "outputs": [],
   "source": [
    "saveRDS(sce_lamanno, \"/hps/nobackup/stegle/users/acuomo/all_scripts/sc_neuroseq/in_vivo_comparison/sce_lamanno_embryo.Rds\")"
   ]
  },
  {
   "cell_type": "code",
   "execution_count": 1,
   "metadata": {},
   "outputs": [],
   "source": [
    "LM = readRDS(\"/hps/nobackup/stegle/users/acuomo/all_scripts/sc_neuroseq/in_vivo_comparison/sce_lamanno_embryo.Rds\")"
   ]
  },
  {
   "cell_type": "code",
   "execution_count": 8,
   "metadata": {},
   "outputs": [
    {
     "data": {
      "text/plain": [
       "class: SingleCellExperiment \n",
       "dim: 19531 1977 \n",
       "metadata(0):\n",
       "assays(2): counts logcounts\n",
       "rownames(19531): DDX11L1 WASH7P_p1 ... VAMP7_loc1 DDX11L16_loc1\n",
       "rowData names(0):\n",
       "colnames(1977): 1772067_089_A01 1772067_089_A02 ... 1772122_224_H10\n",
       "  1772122_224_H12\n",
       "colData names(3): Cell_ID Cell_type Timepoint\n",
       "reducedDimNames(0):\n",
       "spikeNames(0):\n",
       "altExpNames(0):"
      ]
     },
     "metadata": {},
     "output_type": "display_data"
    }
   ],
   "source": [
    "LM"
   ]
  },
  {
   "cell_type": "code",
   "execution_count": 3,
   "metadata": {},
   "outputs": [
    {
     "name": "stdout",
     "output_type": "stream",
     "text": [
      " num [1:19531, 1:1977] 0 0 0 1 0 0 0 1 0 0 ...\n",
      " - attr(*, \"dimnames\")=List of 2\n",
      "  ..$ : chr [1:19531] \"DDX11L1\" \"WASH7P_p1\" \"LINC01002_loc4\" \"LOC100133331_loc1\" ...\n",
      "  ..$ : chr [1:1977] \"1772067_089_A01\" \"1772067_089_A02\" \"1772067_089_A03\" \"1772067_089_A04\" ...\n"
     ]
    }
   ],
   "source": [
    "str(counts(LM))"
   ]
  },
  {
   "cell_type": "code",
   "execution_count": 4,
   "metadata": {
    "scrolled": true
   },
   "outputs": [
    {
     "data": {
      "text/html": [
       "<table>\n",
       "<thead><tr><th></th><th scope=col>1772067_089_A01</th><th scope=col>1772067_089_A02</th><th scope=col>1772067_089_A03</th><th scope=col>1772067_089_A04</th><th scope=col>1772067_089_A05</th></tr></thead>\n",
       "<tbody>\n",
       "\t<tr><th scope=row>DDX11L1</th><td>0</td><td>0</td><td>0</td><td>0</td><td>0</td></tr>\n",
       "\t<tr><th scope=row>WASH7P_p1</th><td>0</td><td>0</td><td>1</td><td>0</td><td>0</td></tr>\n",
       "\t<tr><th scope=row>LINC01002_loc4</th><td>0</td><td>0</td><td>0</td><td>0</td><td>0</td></tr>\n",
       "\t<tr><th scope=row>LOC100133331_loc1</th><td>1</td><td>0</td><td>0</td><td>0</td><td>0</td></tr>\n",
       "\t<tr><th scope=row>LOC100132287_loc2</th><td>0</td><td>0</td><td>0</td><td>0</td><td>0</td></tr>\n",
       "</tbody>\n",
       "</table>\n"
      ],
      "text/latex": [
       "\\begin{tabular}{r|lllll}\n",
       "  & 1772067\\_089\\_A01 & 1772067\\_089\\_A02 & 1772067\\_089\\_A03 & 1772067\\_089\\_A04 & 1772067\\_089\\_A05\\\\\n",
       "\\hline\n",
       "\tDDX11L1 & 0 & 0 & 0 & 0 & 0\\\\\n",
       "\tWASH7P\\_p1 & 0 & 0 & 1 & 0 & 0\\\\\n",
       "\tLINC01002\\_loc4 & 0 & 0 & 0 & 0 & 0\\\\\n",
       "\tLOC100133331\\_loc1 & 1 & 0 & 0 & 0 & 0\\\\\n",
       "\tLOC100132287\\_loc2 & 0 & 0 & 0 & 0 & 0\\\\\n",
       "\\end{tabular}\n"
      ],
      "text/markdown": [
       "\n",
       "| <!--/--> | 1772067_089_A01 | 1772067_089_A02 | 1772067_089_A03 | 1772067_089_A04 | 1772067_089_A05 |\n",
       "|---|---|---|---|---|---|\n",
       "| DDX11L1 | 0 | 0 | 0 | 0 | 0 |\n",
       "| WASH7P_p1 | 0 | 0 | 1 | 0 | 0 |\n",
       "| LINC01002_loc4 | 0 | 0 | 0 | 0 | 0 |\n",
       "| LOC100133331_loc1 | 1 | 0 | 0 | 0 | 0 |\n",
       "| LOC100132287_loc2 | 0 | 0 | 0 | 0 | 0 |\n",
       "\n"
      ],
      "text/plain": [
       "                  1772067_089_A01 1772067_089_A02 1772067_089_A03\n",
       "DDX11L1           0               0               0              \n",
       "WASH7P_p1         0               0               1              \n",
       "LINC01002_loc4    0               0               0              \n",
       "LOC100133331_loc1 1               0               0              \n",
       "LOC100132287_loc2 0               0               0              \n",
       "                  1772067_089_A04 1772067_089_A05\n",
       "DDX11L1           0               0              \n",
       "WASH7P_p1         0               0              \n",
       "LINC01002_loc4    0               0              \n",
       "LOC100133331_loc1 0               0              \n",
       "LOC100132287_loc2 0               0              "
      ]
     },
     "metadata": {},
     "output_type": "display_data"
    }
   ],
   "source": [
    "counts(LM)[1:5,1:5]"
   ]
  },
  {
   "cell_type": "code",
   "execution_count": 5,
   "metadata": {},
   "outputs": [
    {
     "name": "stderr",
     "output_type": "stream",
     "text": [
      "Registered S3 methods overwritten by 'ggplot2':\n",
      "  method         from \n",
      "  [.quosures     rlang\n",
      "  c.quosures     rlang\n",
      "  print.quosures rlang\n",
      "Warning message:\n",
      "“'trendVar' is deprecated.\n",
      "Use 'modelGeneVar' instead.\n",
      "See help(\"Deprecated\")”Warning message:\n",
      "“'decomposeVar' is deprecated.\n",
      "Use 'modelGeneVar' instead.\n",
      "See help(\"Deprecated\")”Warning message:\n",
      "“'testVar' is deprecated.\n",
      "See help(\"Deprecated\")”"
     ]
    }
   ],
   "source": [
    "LM <- scater::logNormCounts(LM, log=T)\n",
    "alt.fit2 <- scran::trendVar(LM, use.spikes = FALSE)\n",
    "alt.decomp2 <- scran::decomposeVar(LM, alt.fit2)"
   ]
  },
  {
   "cell_type": "code",
   "execution_count": 6,
   "metadata": {},
   "outputs": [],
   "source": [
    "genes_LM = rownames(alt.decomp2[order(alt.decomp2$bio, decreasing = TRUE),][1:2000,])"
   ]
  },
  {
   "cell_type": "code",
   "execution_count": 7,
   "metadata": {},
   "outputs": [
    {
     "data": {
      "text/html": [
       "2000"
      ],
      "text/latex": [
       "2000"
      ],
      "text/markdown": [
       "2000"
      ],
      "text/plain": [
       "[1] 2000"
      ]
     },
     "metadata": {},
     "output_type": "display_data"
    }
   ],
   "source": [
    "length(genes_LM)"
   ]
  },
  {
   "cell_type": "code",
   "execution_count": null,
   "metadata": {},
   "outputs": [],
   "source": []
  },
  {
   "cell_type": "code",
   "execution_count": 9,
   "metadata": {},
   "outputs": [],
   "source": [
    "mydir = \"/hps/nobackup/stegle/users/acuomo/all_scripts/sc_neuroseq/in_vivo_comparison/\""
   ]
  },
  {
   "cell_type": "code",
   "execution_count": 10,
   "metadata": {},
   "outputs": [],
   "source": [
    "neuroseq_filename = paste0(mydir,\"neuroseq_all_25pct_sce.Rds\")\n",
    "neuroseq = readRDS(neuroseq_filename)"
   ]
  },
  {
   "cell_type": "code",
   "execution_count": 11,
   "metadata": {},
   "outputs": [],
   "source": [
    "# neuroseq = neuroseq[,neuroseq$celltype %in% c('DA','Sert','CHem')]"
   ]
  },
  {
   "cell_type": "code",
   "execution_count": 12,
   "metadata": {},
   "outputs": [
    {
     "name": "stderr",
     "output_type": "stream",
     "text": [
      "Warning message:\n",
      "“'trendVar' is deprecated.\n",
      "Use 'modelGeneVar' instead.\n",
      "See help(\"Deprecated\")”Warning message:\n",
      "“'decomposeVar' is deprecated.\n",
      "Use 'modelGeneVar' instead.\n",
      "See help(\"Deprecated\")”Warning message:\n",
      "“'testVar' is deprecated.\n",
      "See help(\"Deprecated\")”"
     ]
    }
   ],
   "source": [
    "neuroseq <- scater::logNormCounts(neuroseq, log=T)\n",
    "design <- model.matrix(~pool_id, data = colData(neuroseq))\n",
    "alt.fit <- scran::trendVar(neuroseq, design = design, use.spikes = FALSE)\n",
    "alt.decomp <- scran::decomposeVar(neuroseq, alt.fit)"
   ]
  },
  {
   "cell_type": "code",
   "execution_count": 13,
   "metadata": {},
   "outputs": [],
   "source": [
    "genes_neuroseq = rownames(alt.decomp[order(alt.decomp$bio, decreasing = TRUE),][1:2000,])"
   ]
  },
  {
   "cell_type": "code",
   "execution_count": 14,
   "metadata": {},
   "outputs": [],
   "source": [
    "all_genes = unique(c(genes_LM,genes_neuroseq))"
   ]
  },
  {
   "cell_type": "code",
   "execution_count": 15,
   "metadata": {},
   "outputs": [],
   "source": [
    "genes_n = rownames(neuroseq)[rownames(neuroseq) %in% all_genes]\n",
    "common_genes = rownames(LM)[rownames(LM) %in% genes_n]"
   ]
  },
  {
   "cell_type": "code",
   "execution_count": 16,
   "metadata": {},
   "outputs": [
    {
     "data": {
      "text/html": [
       "3023"
      ],
      "text/latex": [
       "3023"
      ],
      "text/markdown": [
       "3023"
      ],
      "text/plain": [
       "[1] 3023"
      ]
     },
     "metadata": {},
     "output_type": "display_data"
    }
   ],
   "source": [
    "length(common_genes)"
   ]
  },
  {
   "cell_type": "code",
   "execution_count": 17,
   "metadata": {},
   "outputs": [],
   "source": [
    "query = neuroseq[common_genes,]\n",
    "reference = LM[common_genes,]"
   ]
  },
  {
   "cell_type": "code",
   "execution_count": 18,
   "metadata": {},
   "outputs": [],
   "source": [
    "query$batch_factor = \"query\"\n",
    "reference$batch_factor = \"reference\""
   ]
  },
  {
   "cell_type": "code",
   "execution_count": 19,
   "metadata": {},
   "outputs": [],
   "source": [
    "getJointPCA = function(reference, query, \n",
    "                       assayNameRef = \"logcounts\",\n",
    "                       assayNameQuery = \"logcounts\") {\n",
    "# reference and query are SingleCellExperiment objects\n",
    "  all_assay = cbind(assay(query, assayNameQuery),\n",
    "                    assay(reference, assayNameRef))\n",
    "# batch factors can be dataset specific batches or just a factor labelling i.e. \"query\", \"reference\" \n",
    "#   batchFactor = factor(c(as.character(query$sample_id),\n",
    "#                            as.character(reference$dataset)))\n",
    " batchFactor = factor(c(as.character(query$batch_factor),\n",
    "                           as.character(reference$batch_factor)))\n",
    "#   print(table(batchFactor))\n",
    "  mbpca = batchelor::multiBatchPCA(all_assay,\n",
    "                        batch = batchFactor,\n",
    "                        d = 50\n",
    "                        # BPPARAM = BiocParallel::MulticoreParam(workers = 4)\n",
    "  )\n",
    "  print(\"done multibatch PCA\")\n",
    "  dim(mbpca[[1]])\n",
    "  out = do.call(batchelor::reducedMNN, mbpca)\n",
    "  print(\"done batch correction\")\n",
    "  joint_mnn_pca = out$corrected\n",
    "  return(joint_mnn_pca)\n",
    "}"
   ]
  },
  {
   "cell_type": "code",
   "execution_count": 20,
   "metadata": {},
   "outputs": [
    {
     "name": "stderr",
     "output_type": "stream",
     "text": [
      "Warning message in sweep(centered, 2, w, \"/\", check.margin = FALSE):\n",
      "“'check.margin' is ignored when 'x' is a DelayedArray object or\n",
      "  derivative”"
     ]
    },
    {
     "name": "stdout",
     "output_type": "stream",
     "text": [
      "[1] \"done multibatch PCA\"\n",
      "[1] \"done batch correction\"\n"
     ]
    }
   ],
   "source": [
    "joint_mnn_pca = getJointPCA(reference, query)"
   ]
  },
  {
   "cell_type": "code",
   "execution_count": 21,
   "metadata": {},
   "outputs": [
    {
     "data": {
      "text/html": [
       "<table>\n",
       "<thead><tr><th></th><th scope=col>PC1</th><th scope=col>PC2</th></tr></thead>\n",
       "<tbody>\n",
       "\t<tr><th scope=row>TTCCCAGGTTCCATGA-1-0</th><td>-16.31450</td><td>13.04748 </td></tr>\n",
       "\t<tr><th scope=row>AACCGCGAGGTCATCT-1-0</th><td>-16.15690</td><td>12.01172 </td></tr>\n",
       "\t<tr><th scope=row>TCACAAGTCTTATCTG-1-0</th><td>-15.80240</td><td>13.40821 </td></tr>\n",
       "\t<tr><th scope=row>TACCTTACACGGTTTA-1-0</th><td>-13.70096</td><td>12.09009 </td></tr>\n",
       "\t<tr><th scope=row>CCTAGCTAGCGCCTTG-1-0</th><td>-16.16257</td><td>11.96530 </td></tr>\n",
       "\t<tr><th scope=row>CAAGATCAGGCTCTTA-1-0</th><td>-16.03932</td><td>12.80514 </td></tr>\n",
       "</tbody>\n",
       "</table>\n"
      ],
      "text/latex": [
       "\\begin{tabular}{r|ll}\n",
       "  & PC1 & PC2\\\\\n",
       "\\hline\n",
       "\tTTCCCAGGTTCCATGA-1-0 & -16.31450 & 13.04748 \\\\\n",
       "\tAACCGCGAGGTCATCT-1-0 & -16.15690 & 12.01172 \\\\\n",
       "\tTCACAAGTCTTATCTG-1-0 & -15.80240 & 13.40821 \\\\\n",
       "\tTACCTTACACGGTTTA-1-0 & -13.70096 & 12.09009 \\\\\n",
       "\tCCTAGCTAGCGCCTTG-1-0 & -16.16257 & 11.96530 \\\\\n",
       "\tCAAGATCAGGCTCTTA-1-0 & -16.03932 & 12.80514 \\\\\n",
       "\\end{tabular}\n"
      ],
      "text/markdown": [
       "\n",
       "| <!--/--> | PC1 | PC2 |\n",
       "|---|---|---|\n",
       "| TTCCCAGGTTCCATGA-1-0 | -16.31450 | 13.04748  |\n",
       "| AACCGCGAGGTCATCT-1-0 | -16.15690 | 12.01172  |\n",
       "| TCACAAGTCTTATCTG-1-0 | -15.80240 | 13.40821  |\n",
       "| TACCTTACACGGTTTA-1-0 | -13.70096 | 12.09009  |\n",
       "| CCTAGCTAGCGCCTTG-1-0 | -16.16257 | 11.96530  |\n",
       "| CAAGATCAGGCTCTTA-1-0 | -16.03932 | 12.80514  |\n",
       "\n"
      ],
      "text/plain": [
       "                     PC1       PC2     \n",
       "TTCCCAGGTTCCATGA-1-0 -16.31450 13.04748\n",
       "AACCGCGAGGTCATCT-1-0 -16.15690 12.01172\n",
       "TCACAAGTCTTATCTG-1-0 -15.80240 13.40821\n",
       "TACCTTACACGGTTTA-1-0 -13.70096 12.09009\n",
       "CCTAGCTAGCGCCTTG-1-0 -16.16257 11.96530\n",
       "CAAGATCAGGCTCTTA-1-0 -16.03932 12.80514"
      ]
     },
     "metadata": {},
     "output_type": "display_data"
    }
   ],
   "source": [
    "df_pca = as.data.frame(joint_mnn_pca[,c(1:2)])\n",
    "colnames(df_pca) = paste0(\"PC\",1:2)\n",
    "head(df_pca)"
   ]
  },
  {
   "cell_type": "code",
   "execution_count": null,
   "metadata": {},
   "outputs": [],
   "source": []
  },
  {
   "cell_type": "code",
   "execution_count": 22,
   "metadata": {},
   "outputs": [
    {
     "data": {
      "text/html": [
       "11"
      ],
      "text/latex": [
       "11"
      ],
      "text/markdown": [
       "11"
      ],
      "text/plain": [
       "[1] 11"
      ]
     },
     "metadata": {},
     "output_type": "display_data"
    },
    {
     "data": {
      "text/html": [
       "26"
      ],
      "text/latex": [
       "26"
      ],
      "text/markdown": [
       "26"
      ],
      "text/plain": [
       "[1] 26"
      ]
     },
     "metadata": {},
     "output_type": "display_data"
    }
   ],
   "source": [
    "mat = matrix(0, nrow = length(unique(query$celltype)), ncol = length(unique(reference$Cell_type)))\n",
    "nrow(mat)\n",
    "ncol(mat)"
   ]
  },
  {
   "cell_type": "code",
   "execution_count": 23,
   "metadata": {},
   "outputs": [],
   "source": [
    "rownames(mat) = unique(query$celltype)\n",
    "colnames(mat) = unique(reference$Cell_type)"
   ]
  },
  {
   "cell_type": "code",
   "execution_count": 24,
   "metadata": {},
   "outputs": [
    {
     "name": "stderr",
     "output_type": "stream",
     "text": [
      "Warning message in NSBS(i, x, exact = exact, strict.upper.bound = !allow.append, :\n",
      "“subscript is an array, passing it thru as.vector() first”Warning message in NSBS(i, x, exact = exact, strict.upper.bound = !allow.append, :\n",
      "“subscript is an array, passing it thru as.vector() first”Warning message in NSBS(i, x, exact = exact, strict.upper.bound = !allow.append, :\n",
      "“subscript is an array, passing it thru as.vector() first”Warning message in NSBS(i, x, exact = exact, strict.upper.bound = !allow.append, :\n",
      "“subscript is an array, passing it thru as.vector() first”Warning message in NSBS(i, x, exact = exact, strict.upper.bound = !allow.append, :\n",
      "“subscript is an array, passing it thru as.vector() first”Warning message in NSBS(i, x, exact = exact, strict.upper.bound = !allow.append, :\n",
      "“subscript is an array, passing it thru as.vector() first”Warning message in NSBS(i, x, exact = exact, strict.upper.bound = !allow.append, :\n",
      "“subscript is an array, passing it thru as.vector() first”Warning message in NSBS(i, x, exact = exact, strict.upper.bound = !allow.append, :\n",
      "“subscript is an array, passing it thru as.vector() first”Warning message in NSBS(i, x, exact = exact, strict.upper.bound = !allow.append, :\n",
      "“subscript is an array, passing it thru as.vector() first”Warning message in NSBS(i, x, exact = exact, strict.upper.bound = !allow.append, :\n",
      "“subscript is an array, passing it thru as.vector() first”Warning message in NSBS(i, x, exact = exact, strict.upper.bound = !allow.append, :\n",
      "“subscript is an array, passing it thru as.vector() first”"
     ]
    }
   ],
   "source": [
    "i = 0\n",
    "for (celltype in unique(query$celltype)){\n",
    "#     print(celltype)\n",
    "    j = 0\n",
    "    i = i+1\n",
    "    sel_cells = colnames(query[,query$celltype == celltype])\n",
    "    closest_atlas_cell_ind = BiocNeighbors::queryKNN(\n",
    "        joint_mnn_pca[colnames(reference),],\n",
    "        joint_mnn_pca[sel_cells,],\n",
    "        k = 2, get.index = TRUE, get.distance = FALSE)\n",
    "    mapped_cells = colnames(reference)[closest_atlas_cell_ind$index]\n",
    "    for (cluster in unique(reference$Cell_type)){\n",
    "#         print(cluster)\n",
    "        j = j+1\n",
    "        n = length(mapped_cells[mapped_cells %in% colnames(reference[,reference$Cell_type == cluster])])\n",
    "        mat[i,j] = n/length(mapped_cells)\n",
    "#         print(mat[i,j])\n",
    "    }\n",
    "}"
   ]
  },
  {
   "cell_type": "code",
   "execution_count": 27,
   "metadata": {},
   "outputs": [
    {
     "data": {
      "text/html": [
       "<table>\n",
       "<thead><tr><th></th><th scope=col>hDA0</th><th scope=col>hDA1</th><th scope=col>hDA2</th><th scope=col>hSert</th></tr></thead>\n",
       "<tbody>\n",
       "\t<tr><th scope=row>FPP</th><td>1.242854e-05</td><td>1.242854e-05</td><td>0.0000000000</td><td>0.000000e+00</td></tr>\n",
       "\t<tr><th scope=row>P_FPP</th><td>1.485933e-04</td><td>0.000000e+00</td><td>0.0000000000</td><td>0.000000e+00</td></tr>\n",
       "\t<tr><th scope=row>NB</th><td>0.000000e+00</td><td>0.000000e+00</td><td>0.0000000000</td><td>0.000000e+00</td></tr>\n",
       "\t<tr><th scope=row>Sert</th><td>2.917865e-03</td><td>1.127789e-02</td><td>0.0001085717</td><td>8.142880e-05</td></tr>\n",
       "\t<tr><th scope=row>DA</th><td>5.587061e-03</td><td>6.300124e-02</td><td>0.0416261199</td><td>1.282340e-01</td></tr>\n",
       "\t<tr><th scope=row>CHem</th><td>4.738438e-04</td><td>1.118271e-02</td><td>0.0029378317</td><td>4.477824e-02</td></tr>\n",
       "\t<tr><th scope=row>unknown</th><td>1.163435e-02</td><td>4.819945e-02</td><td>0.0005540166</td><td>1.939058e-03</td></tr>\n",
       "\t<tr><th scope=row>Astro</th><td>1.745932e-05</td><td>0.000000e+00</td><td>0.0000000000</td><td>0.000000e+00</td></tr>\n",
       "\t<tr><th scope=row>Epen1</th><td>2.082379e-05</td><td>2.082379e-05</td><td>0.0000000000</td><td>2.082379e-05</td></tr>\n",
       "\t<tr><th scope=row>P_Sert</th><td>3.846154e-03</td><td>0.000000e+00</td><td>0.0000000000</td><td>0.000000e+00</td></tr>\n",
       "\t<tr><th scope=row>Epen2</th><td>0.000000e+00</td><td>0.000000e+00</td><td>0.0000000000</td><td>0.000000e+00</td></tr>\n",
       "</tbody>\n",
       "</table>\n"
      ],
      "text/latex": [
       "\\begin{tabular}{r|llll}\n",
       "  & hDA0 & hDA1 & hDA2 & hSert\\\\\n",
       "\\hline\n",
       "\tFPP & 1.242854e-05 & 1.242854e-05 & 0.0000000000 & 0.000000e+00\\\\\n",
       "\tP\\_FPP & 1.485933e-04 & 0.000000e+00 & 0.0000000000 & 0.000000e+00\\\\\n",
       "\tNB & 0.000000e+00 & 0.000000e+00 & 0.0000000000 & 0.000000e+00\\\\\n",
       "\tSert & 2.917865e-03 & 1.127789e-02 & 0.0001085717 & 8.142880e-05\\\\\n",
       "\tDA & 5.587061e-03 & 6.300124e-02 & 0.0416261199 & 1.282340e-01\\\\\n",
       "\tCHem & 4.738438e-04 & 1.118271e-02 & 0.0029378317 & 4.477824e-02\\\\\n",
       "\tunknown & 1.163435e-02 & 4.819945e-02 & 0.0005540166 & 1.939058e-03\\\\\n",
       "\tAstro & 1.745932e-05 & 0.000000e+00 & 0.0000000000 & 0.000000e+00\\\\\n",
       "\tEpen1 & 2.082379e-05 & 2.082379e-05 & 0.0000000000 & 2.082379e-05\\\\\n",
       "\tP\\_Sert & 3.846154e-03 & 0.000000e+00 & 0.0000000000 & 0.000000e+00\\\\\n",
       "\tEpen2 & 0.000000e+00 & 0.000000e+00 & 0.0000000000 & 0.000000e+00\\\\\n",
       "\\end{tabular}\n"
      ],
      "text/markdown": [
       "\n",
       "| <!--/--> | hDA0 | hDA1 | hDA2 | hSert |\n",
       "|---|---|---|---|---|\n",
       "| FPP | 1.242854e-05 | 1.242854e-05 | 0.0000000000 | 0.000000e+00 |\n",
       "| P_FPP | 1.485933e-04 | 0.000000e+00 | 0.0000000000 | 0.000000e+00 |\n",
       "| NB | 0.000000e+00 | 0.000000e+00 | 0.0000000000 | 0.000000e+00 |\n",
       "| Sert | 2.917865e-03 | 1.127789e-02 | 0.0001085717 | 8.142880e-05 |\n",
       "| DA | 5.587061e-03 | 6.300124e-02 | 0.0416261199 | 1.282340e-01 |\n",
       "| CHem | 4.738438e-04 | 1.118271e-02 | 0.0029378317 | 4.477824e-02 |\n",
       "| unknown | 1.163435e-02 | 4.819945e-02 | 0.0005540166 | 1.939058e-03 |\n",
       "| Astro | 1.745932e-05 | 0.000000e+00 | 0.0000000000 | 0.000000e+00 |\n",
       "| Epen1 | 2.082379e-05 | 2.082379e-05 | 0.0000000000 | 2.082379e-05 |\n",
       "| P_Sert | 3.846154e-03 | 0.000000e+00 | 0.0000000000 | 0.000000e+00 |\n",
       "| Epen2 | 0.000000e+00 | 0.000000e+00 | 0.0000000000 | 0.000000e+00 |\n",
       "\n"
      ],
      "text/plain": [
       "        hDA0         hDA1         hDA2         hSert       \n",
       "FPP     1.242854e-05 1.242854e-05 0.0000000000 0.000000e+00\n",
       "P_FPP   1.485933e-04 0.000000e+00 0.0000000000 0.000000e+00\n",
       "NB      0.000000e+00 0.000000e+00 0.0000000000 0.000000e+00\n",
       "Sert    2.917865e-03 1.127789e-02 0.0001085717 8.142880e-05\n",
       "DA      5.587061e-03 6.300124e-02 0.0416261199 1.282340e-01\n",
       "CHem    4.738438e-04 1.118271e-02 0.0029378317 4.477824e-02\n",
       "unknown 1.163435e-02 4.819945e-02 0.0005540166 1.939058e-03\n",
       "Astro   1.745932e-05 0.000000e+00 0.0000000000 0.000000e+00\n",
       "Epen1   2.082379e-05 2.082379e-05 0.0000000000 2.082379e-05\n",
       "P_Sert  3.846154e-03 0.000000e+00 0.0000000000 0.000000e+00\n",
       "Epen2   0.000000e+00 0.000000e+00 0.0000000000 0.000000e+00"
      ]
     },
     "metadata": {},
     "output_type": "display_data"
    }
   ],
   "source": [
    "# mat[,c(\"hDA0\",\"hDA1\",\"hDA2\",\"hSert\")]"
   ]
  },
  {
   "cell_type": "code",
   "execution_count": 25,
   "metadata": {},
   "outputs": [
    {
     "data": {
      "text/html": [
       "<table>\n",
       "<thead><tr><th scope=col>Var1</th><th scope=col>Var2</th><th scope=col>value</th></tr></thead>\n",
       "<tbody>\n",
       "\t<tr><td>FPP         </td><td>hMgl        </td><td>2.485707e-05</td></tr>\n",
       "\t<tr><td>P_FPP       </td><td>hMgl        </td><td>1.155726e-04</td></tr>\n",
       "\t<tr><td>NB          </td><td>hMgl        </td><td>0.000000e+00</td></tr>\n",
       "\t<tr><td>Sert        </td><td>hMgl        </td><td>1.357147e-05</td></tr>\n",
       "\t<tr><td>DA          </td><td>hMgl        </td><td>0.000000e+00</td></tr>\n",
       "\t<tr><td>CHem        </td><td>hMgl        </td><td>0.000000e+00</td></tr>\n",
       "</tbody>\n",
       "</table>\n"
      ],
      "text/latex": [
       "\\begin{tabular}{r|lll}\n",
       " Var1 & Var2 & value\\\\\n",
       "\\hline\n",
       "\t FPP          & hMgl         & 2.485707e-05\\\\\n",
       "\t P\\_FPP      & hMgl         & 1.155726e-04\\\\\n",
       "\t NB           & hMgl         & 0.000000e+00\\\\\n",
       "\t Sert         & hMgl         & 1.357147e-05\\\\\n",
       "\t DA           & hMgl         & 0.000000e+00\\\\\n",
       "\t CHem         & hMgl         & 0.000000e+00\\\\\n",
       "\\end{tabular}\n"
      ],
      "text/markdown": [
       "\n",
       "| Var1 | Var2 | value |\n",
       "|---|---|---|\n",
       "| FPP          | hMgl         | 2.485707e-05 |\n",
       "| P_FPP        | hMgl         | 1.155726e-04 |\n",
       "| NB           | hMgl         | 0.000000e+00 |\n",
       "| Sert         | hMgl         | 1.357147e-05 |\n",
       "| DA           | hMgl         | 0.000000e+00 |\n",
       "| CHem         | hMgl         | 0.000000e+00 |\n",
       "\n"
      ],
      "text/plain": [
       "  Var1  Var2 value       \n",
       "1 FPP   hMgl 2.485707e-05\n",
       "2 P_FPP hMgl 1.155726e-04\n",
       "3 NB    hMgl 0.000000e+00\n",
       "4 Sert  hMgl 1.357147e-05\n",
       "5 DA    hMgl 0.000000e+00\n",
       "6 CHem  hMgl 0.000000e+00"
      ]
     },
     "metadata": {},
     "output_type": "display_data"
    }
   ],
   "source": [
    "library(reshape2)\n",
    "mat_melt = melt(mat)\n",
    "head(mat_melt)"
   ]
  },
  {
   "cell_type": "code",
   "execution_count": 26,
   "metadata": {},
   "outputs": [
    {
     "data": {
      "image/png": "[encoded data removed]",
      "text/plain": [
       "plot without title"
      ]
     },
     "metadata": {},
     "output_type": "display_data"
    }
   ],
   "source": [
    "library(ggplot2)\n",
    "df = as.data.frame(mat_melt)\n",
    "ggplot(df, aes(x = as.factor(Var1), y = value, fill = as.factor(Var2))) + geom_bar(stat=\"identity\", col = \"grey\")"
   ]
  },
  {
   "cell_type": "code",
   "execution_count": null,
   "metadata": {},
   "outputs": [],
   "source": []
  },
  {
   "cell_type": "code",
   "execution_count": 45,
   "metadata": {},
   "outputs": [
    {
     "name": "stderr",
     "output_type": "stream",
     "text": [
      "Warning message in NSBS(i, x, exact = exact, strict.upper.bound = !allow.append, :\n",
      "“subscript is an array, passing it thru as.vector() first”"
     ]
    },
    {
     "data": {
      "text/html": [
       "29801"
      ],
      "text/latex": [
       "29801"
      ],
      "text/markdown": [
       "29801"
      ],
      "text/plain": [
       "[1] 29801"
      ]
     },
     "metadata": {},
     "output_type": "display_data"
    }
   ],
   "source": [
    "sel_cells = colnames(neuroseq[,neuroseq$celltype == 'DA'])\n",
    "# sel_cells = colnames(neuroseq[,neuroseq$time_point == 'D52' & neuroseq$celltype == 'DA' & neuroseq$treatment == 'NONE'])\n",
    "length(sel_cells)"
   ]
  },
  {
   "cell_type": "code",
   "execution_count": 46,
   "metadata": {},
   "outputs": [],
   "source": [
    "closest_atlas_cell_ind = BiocNeighbors::queryKNN(\n",
    "    joint_mnn_pca[colnames(LM),],\n",
    "    joint_mnn_pca[sel_cells,],\n",
    "  k = 1, get.index = TRUE, get.distance = FALSE)"
   ]
  },
  {
   "cell_type": "code",
   "execution_count": 47,
   "metadata": {},
   "outputs": [],
   "source": [
    "mapped_cells = colnames(LM)[closest_atlas_cell_ind$index]"
   ]
  },
  {
   "cell_type": "code",
   "execution_count": 48,
   "metadata": {},
   "outputs": [],
   "source": [
    "df = as.data.frame(colData(LM))"
   ]
  },
  {
   "cell_type": "code",
   "execution_count": 49,
   "metadata": {},
   "outputs": [
    {
     "data": {
      "text/html": [
       "29801"
      ],
      "text/latex": [
       "29801"
      ],
      "text/markdown": [
       "29801"
      ],
      "text/plain": [
       "[1] 29801"
      ]
     },
     "metadata": {},
     "output_type": "display_data"
    },
    {
     "data": {
      "text/html": [
       "0.00392604275024328"
      ],
      "text/latex": [
       "0.00392604275024328"
      ],
      "text/markdown": [
       "0.00392604275024328"
      ],
      "text/plain": [
       "[1] 0.003926043"
      ]
     },
     "metadata": {},
     "output_type": "display_data"
    },
    {
     "data": {
      "text/html": [
       "0.0630515754504882"
      ],
      "text/latex": [
       "0.0630515754504882"
      ],
      "text/markdown": [
       "0.0630515754504882"
      ],
      "text/plain": [
       "[1] 0.06305158"
      ]
     },
     "metadata": {},
     "output_type": "display_data"
    },
    {
     "data": {
      "text/html": [
       "0.0335559209422503"
      ],
      "text/latex": [
       "0.0335559209422503"
      ],
      "text/markdown": [
       "0.0335559209422503"
      ],
      "text/plain": [
       "[1] 0.03355592"
      ]
     },
     "metadata": {},
     "output_type": "display_data"
    },
    {
     "data": {
      "text/html": [
       "0.101271769403711"
      ],
      "text/latex": [
       "0.101271769403711"
      ],
      "text/markdown": [
       "0.101271769403711"
      ],
      "text/plain": [
       "[1] 0.1012718"
      ]
     },
     "metadata": {},
     "output_type": "display_data"
    },
    {
     "data": {
      "text/html": [
       "0.329485587731955"
      ],
      "text/latex": [
       "0.329485587731955"
      ],
      "text/markdown": [
       "0.329485587731955"
      ],
      "text/plain": [
       "[1] 0.3294856"
      ]
     },
     "metadata": {},
     "output_type": "display_data"
    },
    {
     "data": {
      "text/html": [
       "0.260494614274689"
      ],
      "text/latex": [
       "0.260494614274689"
      ],
      "text/markdown": [
       "0.260494614274689"
      ],
      "text/plain": [
       "[1] 0.2604946"
      ]
     },
     "metadata": {},
     "output_type": "display_data"
    }
   ],
   "source": [
    "df_mapped = df[mapped_cells,]\n",
    "nrow(df_mapped)\n",
    "nrow(df_mapped[df_mapped$Cell_type == \"hDA0\",])/nrow(df_mapped)\n",
    "nrow(df_mapped[df_mapped$Cell_type == \"hDA1\",])/nrow(df_mapped)\n",
    "nrow(df_mapped[df_mapped$Cell_type == \"hDA2\",])/nrow(df_mapped)\n",
    "nrow(df_mapped[df_mapped$Cell_type == \"hSert\",])/nrow(df_mapped)\n",
    "nrow(df_mapped[df_mapped$Cell_type == \"hOMTN\",])/nrow(df_mapped)\n",
    "nrow(df_mapped[df_mapped$Cell_type == \"Unk\",])/nrow(df_mapped)"
   ]
  },
  {
   "cell_type": "code",
   "execution_count": null,
   "metadata": {},
   "outputs": [],
   "source": []
  }
 ],
 "metadata": {
  "kernelspec": {
   "display_name": "R",
   "language": "R",
   "name": "ir"
  },
  "language_info": {
   "codemirror_mode": "r",
   "file_extension": ".r",
   "mimetype": "text/x-r-source",
   "name": "R",
   "pygments_lexer": "r",
   "version": "3.6.1"
  }
 },
 "nbformat": 4,
 "nbformat_minor": 4
}
