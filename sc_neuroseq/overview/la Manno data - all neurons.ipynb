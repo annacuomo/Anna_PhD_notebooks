{
 "cells": [
  {
   "cell_type": "code",
   "execution_count": 33,
   "metadata": {},
   "outputs": [],
   "source": [
    "LM = readRDS(\"/hps/nobackup/stegle/users/acuomo/all_scripts/sc_neuroseq/in_vivo_comparison/sce_lamanno_embryo.Rds\")"
   ]
  },
  {
   "cell_type": "code",
   "execution_count": 34,
   "metadata": {},
   "outputs": [
    {
     "data": {
      "text/plain": [
       "class: SingleCellExperiment \n",
       "dim: 19531 1977 \n",
       "metadata(0):\n",
       "assays(1): counts\n",
       "rownames(19531): DDX11L1 WASH7P_p1 ... VAMP7_loc1 DDX11L16_loc1\n",
       "rowData names(0):\n",
       "colnames(1977): 1772067_089_A01 1772067_089_A02 ... 1772122_224_H10\n",
       "  1772122_224_H12\n",
       "colData names(3): Cell_ID Cell_type Timepoint\n",
       "reducedDimNames(0):\n",
       "spikeNames(0):\n",
       "altExpNames(0):"
      ]
     },
     "metadata": {},
     "output_type": "display_data"
    }
   ],
   "source": [
    "LM"
   ]
  },
  {
   "cell_type": "code",
   "execution_count": 35,
   "metadata": {},
   "outputs": [
    {
     "data": {
      "text/html": [
       "<ol class=list-inline>\n",
       "\t<li>'hMgl'</li>\n",
       "\t<li>'hRgl2a'</li>\n",
       "\t<li>'Unk'</li>\n",
       "\t<li>'hNProg'</li>\n",
       "\t<li>'hProgBP'</li>\n",
       "\t<li>'hProgM'</li>\n",
       "\t<li>'hOMTN'</li>\n",
       "\t<li>'hDA0'</li>\n",
       "\t<li>'hNbM'</li>\n",
       "\t<li>'hProgFPL'</li>\n",
       "\t<li>'hEndo'</li>\n",
       "\t<li>'hProgFPM'</li>\n",
       "\t<li>'hRgl2b'</li>\n",
       "\t<li>'hNbML5'</li>\n",
       "\t<li>'hRgl3'</li>\n",
       "\t<li>'hRN'</li>\n",
       "\t<li>'hPeric'</li>\n",
       "\t<li>'hDA1'</li>\n",
       "\t<li>'hRgl1'</li>\n",
       "\t<li>'hGaba'</li>\n",
       "\t<li>'hDA2'</li>\n",
       "\t<li>'hSert'</li>\n",
       "\t<li>'hNbGaba'</li>\n",
       "\t<li>'hNbML1'</li>\n",
       "\t<li>'hRgl2c'</li>\n",
       "\t<li>'hOPC'</li>\n",
       "</ol>\n"
      ],
      "text/latex": [
       "\\begin{enumerate*}\n",
       "\\item 'hMgl'\n",
       "\\item 'hRgl2a'\n",
       "\\item 'Unk'\n",
       "\\item 'hNProg'\n",
       "\\item 'hProgBP'\n",
       "\\item 'hProgM'\n",
       "\\item 'hOMTN'\n",
       "\\item 'hDA0'\n",
       "\\item 'hNbM'\n",
       "\\item 'hProgFPL'\n",
       "\\item 'hEndo'\n",
       "\\item 'hProgFPM'\n",
       "\\item 'hRgl2b'\n",
       "\\item 'hNbML5'\n",
       "\\item 'hRgl3'\n",
       "\\item 'hRN'\n",
       "\\item 'hPeric'\n",
       "\\item 'hDA1'\n",
       "\\item 'hRgl1'\n",
       "\\item 'hGaba'\n",
       "\\item 'hDA2'\n",
       "\\item 'hSert'\n",
       "\\item 'hNbGaba'\n",
       "\\item 'hNbML1'\n",
       "\\item 'hRgl2c'\n",
       "\\item 'hOPC'\n",
       "\\end{enumerate*}\n"
      ],
      "text/markdown": [
       "1. 'hMgl'\n",
       "2. 'hRgl2a'\n",
       "3. 'Unk'\n",
       "4. 'hNProg'\n",
       "5. 'hProgBP'\n",
       "6. 'hProgM'\n",
       "7. 'hOMTN'\n",
       "8. 'hDA0'\n",
       "9. 'hNbM'\n",
       "10. 'hProgFPL'\n",
       "11. 'hEndo'\n",
       "12. 'hProgFPM'\n",
       "13. 'hRgl2b'\n",
       "14. 'hNbML5'\n",
       "15. 'hRgl3'\n",
       "16. 'hRN'\n",
       "17. 'hPeric'\n",
       "18. 'hDA1'\n",
       "19. 'hRgl1'\n",
       "20. 'hGaba'\n",
       "21. 'hDA2'\n",
       "22. 'hSert'\n",
       "23. 'hNbGaba'\n",
       "24. 'hNbML1'\n",
       "25. 'hRgl2c'\n",
       "26. 'hOPC'\n",
       "\n",
       "\n"
      ],
      "text/plain": [
       " [1] \"hMgl\"     \"hRgl2a\"   \"Unk\"      \"hNProg\"   \"hProgBP\"  \"hProgM\"  \n",
       " [7] \"hOMTN\"    \"hDA0\"     \"hNbM\"     \"hProgFPL\" \"hEndo\"    \"hProgFPM\"\n",
       "[13] \"hRgl2b\"   \"hNbML5\"   \"hRgl3\"    \"hRN\"      \"hPeric\"   \"hDA1\"    \n",
       "[19] \"hRgl1\"    \"hGaba\"    \"hDA2\"     \"hSert\"    \"hNbGaba\"  \"hNbML1\"  \n",
       "[25] \"hRgl2c\"   \"hOPC\"    "
      ]
     },
     "metadata": {},
     "output_type": "display_data"
    }
   ],
   "source": [
    "LM$Cell_type = as.character(LM$Cell_type)\n",
    "unique(LM$Cell_type)"
   ]
  },
  {
   "cell_type": "code",
   "execution_count": 36,
   "metadata": {},
   "outputs": [],
   "source": [
    "LM = LM[,LM$Cell_type %in% c('hDA0','hDA1','hDA2','hSert','hGaba')]"
   ]
  },
  {
   "cell_type": "code",
   "execution_count": 37,
   "metadata": {},
   "outputs": [
    {
     "name": "stderr",
     "output_type": "stream",
     "text": [
      "Warning message:\n",
      "“'trendVar' is deprecated.\n",
      "Use 'modelGeneVar' instead.\n",
      "See help(\"Deprecated\")”Warning message:\n",
      "“'decomposeVar' is deprecated.\n",
      "Use 'modelGeneVar' instead.\n",
      "See help(\"Deprecated\")”Warning message:\n",
      "“'testVar' is deprecated.\n",
      "See help(\"Deprecated\")”"
     ]
    }
   ],
   "source": [
    "LM <- scater::logNormCounts(LM, log=T)\n",
    "alt.fit2 <- scran::trendVar(LM, use.spikes = FALSE)\n",
    "alt.decomp2 <- scran::decomposeVar(LM, alt.fit2)"
   ]
  },
  {
   "cell_type": "code",
   "execution_count": 38,
   "metadata": {},
   "outputs": [],
   "source": [
    "genes_LM = rownames(alt.decomp2[order(alt.decomp2$bio, decreasing = TRUE),][1:2000,])"
   ]
  },
  {
   "cell_type": "code",
   "execution_count": null,
   "metadata": {},
   "outputs": [],
   "source": []
  },
  {
   "cell_type": "code",
   "execution_count": 39,
   "metadata": {},
   "outputs": [],
   "source": [
    "mydir = \"/hps/nobackup/stegle/users/acuomo/all_scripts/sc_neuroseq/in_vivo_comparison/\""
   ]
  },
  {
   "cell_type": "code",
   "execution_count": 40,
   "metadata": {},
   "outputs": [],
   "source": [
    "neuroseq_filename = paste0(mydir,\"neuroseq_all_25pct_sce.Rds\")\n",
    "neuroseq = readRDS(neuroseq_filename)"
   ]
  },
  {
   "cell_type": "code",
   "execution_count": 41,
   "metadata": {},
   "outputs": [],
   "source": [
    "neuroseq = neuroseq[,neuroseq$celltype %in% c('DA','Sert','CHem')]"
   ]
  },
  {
   "cell_type": "code",
   "execution_count": 42,
   "metadata": {},
   "outputs": [
    {
     "name": "stderr",
     "output_type": "stream",
     "text": [
      "Warning message:\n",
      "“'trendVar' is deprecated.\n",
      "Use 'modelGeneVar' instead.\n",
      "See help(\"Deprecated\")”Warning message:\n",
      "“'decomposeVar' is deprecated.\n",
      "Use 'modelGeneVar' instead.\n",
      "See help(\"Deprecated\")”Warning message:\n",
      "“'testVar' is deprecated.\n",
      "See help(\"Deprecated\")”"
     ]
    }
   ],
   "source": [
    "neuroseq <- scater::logNormCounts(neuroseq, log=T)\n",
    "design <- model.matrix(~pool_id, data = colData(neuroseq))\n",
    "alt.fit <- scran::trendVar(neuroseq, design = design, use.spikes = FALSE)\n",
    "alt.decomp <- scran::decomposeVar(neuroseq, alt.fit)"
   ]
  },
  {
   "cell_type": "code",
   "execution_count": 43,
   "metadata": {},
   "outputs": [],
   "source": [
    "genes_neuroseq = rownames(alt.decomp[order(alt.decomp$bio, decreasing = TRUE),][1:2000,])"
   ]
  },
  {
   "cell_type": "code",
   "execution_count": 44,
   "metadata": {},
   "outputs": [],
   "source": [
    "all_genes = unique(c(genes_LM,genes_neuroseq))"
   ]
  },
  {
   "cell_type": "code",
   "execution_count": 45,
   "metadata": {},
   "outputs": [],
   "source": [
    "genes_n = rownames(neuroseq)[rownames(neuroseq) %in% all_genes]\n",
    "common_genes = rownames(LM)[rownames(LM) %in% genes_n]"
   ]
  },
  {
   "cell_type": "code",
   "execution_count": 46,
   "metadata": {},
   "outputs": [
    {
     "data": {
      "text/html": [
       "3244"
      ],
      "text/latex": [
       "3244"
      ],
      "text/markdown": [
       "3244"
      ],
      "text/plain": [
       "[1] 3244"
      ]
     },
     "metadata": {},
     "output_type": "display_data"
    }
   ],
   "source": [
    "length(common_genes)"
   ]
  },
  {
   "cell_type": "code",
   "execution_count": 47,
   "metadata": {},
   "outputs": [],
   "source": [
    "query = neuroseq[common_genes,]\n",
    "reference = LM[common_genes,]"
   ]
  },
  {
   "cell_type": "code",
   "execution_count": 48,
   "metadata": {},
   "outputs": [],
   "source": [
    "query$batch_factor = \"query\"\n",
    "reference$batch_factor = \"reference\""
   ]
  },
  {
   "cell_type": "code",
   "execution_count": 49,
   "metadata": {},
   "outputs": [],
   "source": [
    "getJointPCA = function(reference, query, \n",
    "                       assayNameRef = \"logcounts\",\n",
    "                       assayNameQuery = \"logcounts\") {\n",
    "# reference and query are SingleCellExperiment objects\n",
    "  all_assay = cbind(assay(query, assayNameQuery),\n",
    "                    assay(reference, assayNameRef))\n",
    "# batch factors can be dataset specific batches or just a factor labelling i.e. \"query\", \"reference\" \n",
    "#   batchFactor = factor(c(as.character(query$sample_id),\n",
    "#                            as.character(reference$dataset)))\n",
    " batchFactor = factor(c(as.character(query$batch_factor),\n",
    "                           as.character(reference$batch_factor)))\n",
    "#   print(table(batchFactor))\n",
    "  mbpca = batchelor::multiBatchPCA(all_assay,\n",
    "                        batch = batchFactor,\n",
    "                        d = 50\n",
    "                        # BPPARAM = BiocParallel::MulticoreParam(workers = 4)\n",
    "  )\n",
    "  print(\"done multibatch PCA\")\n",
    "  dim(mbpca[[1]])\n",
    "  out = do.call(batchelor::reducedMNN, mbpca)\n",
    "  print(\"done batch correction\")\n",
    "  joint_mnn_pca = out$corrected\n",
    "  return(joint_mnn_pca)\n",
    "}"
   ]
  },
  {
   "cell_type": "code",
   "execution_count": 50,
   "metadata": {},
   "outputs": [
    {
     "name": "stderr",
     "output_type": "stream",
     "text": [
      "Warning message in sweep(centered, 2, w, \"/\", check.margin = FALSE):\n",
      "“'check.margin' is ignored when 'x' is a DelayedArray object or\n",
      "  derivative”"
     ]
    },
    {
     "name": "stdout",
     "output_type": "stream",
     "text": [
      "[1] \"done multibatch PCA\"\n",
      "[1] \"done batch correction\"\n"
     ]
    }
   ],
   "source": [
    "joint_mnn_pca = getJointPCA(reference, query)"
   ]
  },
  {
   "cell_type": "code",
   "execution_count": 51,
   "metadata": {},
   "outputs": [
    {
     "data": {
      "text/html": [
       "<table>\n",
       "<thead><tr><th></th><th scope=col>PC1</th><th scope=col>PC2</th></tr></thead>\n",
       "<tbody>\n",
       "\t<tr><th scope=row>TAGAGCTAGCGTAATA-1-6</th><td>15.571807  </td><td>  2.2514006</td></tr>\n",
       "\t<tr><th scope=row>CATGACAGTGTGCCTG-1-6</th><td> 9.315268  </td><td>-10.2538368</td></tr>\n",
       "\t<tr><th scope=row>ACAGCCGGTATATCCG-1-6</th><td>12.832951  </td><td>  0.3744284</td></tr>\n",
       "\t<tr><th scope=row>GGGCACTCAAAGCGGT-1-6</th><td>17.220548  </td><td>  3.7737447</td></tr>\n",
       "\t<tr><th scope=row>GATGCTATCCTTCAAT-1-6</th><td> 5.876969  </td><td>-16.6899402</td></tr>\n",
       "\t<tr><th scope=row>TTGGCAATCAGCATGT-1-6</th><td>14.045763  </td><td> -3.4233800</td></tr>\n",
       "</tbody>\n",
       "</table>\n"
      ],
      "text/latex": [
       "\\begin{tabular}{r|ll}\n",
       "  & PC1 & PC2\\\\\n",
       "\\hline\n",
       "\tTAGAGCTAGCGTAATA-1-6 & 15.571807   &   2.2514006\\\\\n",
       "\tCATGACAGTGTGCCTG-1-6 &  9.315268   & -10.2538368\\\\\n",
       "\tACAGCCGGTATATCCG-1-6 & 12.832951   &   0.3744284\\\\\n",
       "\tGGGCACTCAAAGCGGT-1-6 & 17.220548   &   3.7737447\\\\\n",
       "\tGATGCTATCCTTCAAT-1-6 &  5.876969   & -16.6899402\\\\\n",
       "\tTTGGCAATCAGCATGT-1-6 & 14.045763   &  -3.4233800\\\\\n",
       "\\end{tabular}\n"
      ],
      "text/markdown": [
       "\n",
       "| <!--/--> | PC1 | PC2 |\n",
       "|---|---|---|\n",
       "| TAGAGCTAGCGTAATA-1-6 | 15.571807   |   2.2514006 |\n",
       "| CATGACAGTGTGCCTG-1-6 |  9.315268   | -10.2538368 |\n",
       "| ACAGCCGGTATATCCG-1-6 | 12.832951   |   0.3744284 |\n",
       "| GGGCACTCAAAGCGGT-1-6 | 17.220548   |   3.7737447 |\n",
       "| GATGCTATCCTTCAAT-1-6 |  5.876969   | -16.6899402 |\n",
       "| TTGGCAATCAGCATGT-1-6 | 14.045763   |  -3.4233800 |\n",
       "\n"
      ],
      "text/plain": [
       "                     PC1       PC2        \n",
       "TAGAGCTAGCGTAATA-1-6 15.571807   2.2514006\n",
       "CATGACAGTGTGCCTG-1-6  9.315268 -10.2538368\n",
       "ACAGCCGGTATATCCG-1-6 12.832951   0.3744284\n",
       "GGGCACTCAAAGCGGT-1-6 17.220548   3.7737447\n",
       "GATGCTATCCTTCAAT-1-6  5.876969 -16.6899402\n",
       "TTGGCAATCAGCATGT-1-6 14.045763  -3.4233800"
      ]
     },
     "metadata": {},
     "output_type": "display_data"
    }
   ],
   "source": [
    "df_pca = as.data.frame(joint_mnn_pca[,c(1:2)])\n",
    "colnames(df_pca) = paste0(\"PC\",1:2)\n",
    "head(df_pca)"
   ]
  },
  {
   "cell_type": "code",
   "execution_count": null,
   "metadata": {},
   "outputs": [],
   "source": []
  },
  {
   "cell_type": "code",
   "execution_count": 53,
   "metadata": {},
   "outputs": [
    {
     "data": {
      "text/html": [
       "3"
      ],
      "text/latex": [
       "3"
      ],
      "text/markdown": [
       "3"
      ],
      "text/plain": [
       "[1] 3"
      ]
     },
     "metadata": {},
     "output_type": "display_data"
    },
    {
     "data": {
      "text/html": [
       "5"
      ],
      "text/latex": [
       "5"
      ],
      "text/markdown": [
       "5"
      ],
      "text/plain": [
       "[1] 5"
      ]
     },
     "metadata": {},
     "output_type": "display_data"
    }
   ],
   "source": [
    "mat = matrix(0, nrow = length(unique(query$celltype)), ncol = length(unique(reference$Cell_type)))\n",
    "nrow(mat)\n",
    "ncol(mat)"
   ]
  },
  {
   "cell_type": "code",
   "execution_count": 54,
   "metadata": {},
   "outputs": [],
   "source": [
    "rownames(mat) = unique(query$celltype)\n",
    "colnames(mat) = unique(reference$Cell_type)"
   ]
  },
  {
   "cell_type": "code",
   "execution_count": 55,
   "metadata": {},
   "outputs": [
    {
     "name": "stderr",
     "output_type": "stream",
     "text": [
      "Warning message in NSBS(i, x, exact = exact, strict.upper.bound = !allow.append, :\n",
      "“subscript is an array, passing it thru as.vector() first”Warning message in NSBS(i, x, exact = exact, strict.upper.bound = !allow.append, :\n",
      "“subscript is an array, passing it thru as.vector() first”Warning message in NSBS(i, x, exact = exact, strict.upper.bound = !allow.append, :\n",
      "“subscript is an array, passing it thru as.vector() first”"
     ]
    }
   ],
   "source": [
    "i = 0\n",
    "for (celltype in unique(query$celltype)){\n",
    "#     print(celltype)\n",
    "    j = 0\n",
    "    i = i+1\n",
    "    sel_cells = colnames(query[,query$celltype == celltype])\n",
    "    closest_atlas_cell_ind = BiocNeighbors::queryKNN(\n",
    "        joint_mnn_pca[colnames(reference),],\n",
    "        joint_mnn_pca[sel_cells,],\n",
    "        k = 1, get.index = TRUE, get.distance = FALSE)\n",
    "    mapped_cells = colnames(reference)[closest_atlas_cell_ind$index]\n",
    "    for (cluster in unique(reference$Cell_type)){\n",
    "#         print(cluster)\n",
    "        j = j+1\n",
    "        n = length(mapped_cells[mapped_cells %in% colnames(reference[,reference$Cell_type == cluster])])\n",
    "        mat[i,j] = n/length(mapped_cells)\n",
    "#         print(mat[i,j])\n",
    "    }\n",
    "}"
   ]
  },
  {
   "cell_type": "code",
   "execution_count": 56,
   "metadata": {},
   "outputs": [
    {
     "data": {
      "text/html": [
       "<table>\n",
       "<thead><tr><th></th><th scope=col>hDA0</th><th scope=col>hDA1</th><th scope=col>hGaba</th><th scope=col>hDA2</th><th scope=col>hSert</th></tr></thead>\n",
       "<tbody>\n",
       "\t<tr><th scope=row>Sert</th><td>0.92562836 </td><td>0.01957006 </td><td>0.005021443</td><td>0.01161718 </td><td>0.03816297 </td></tr>\n",
       "\t<tr><th scope=row>DA</th><td>0.08553404 </td><td>0.10851985 </td><td>0.009127210</td><td>0.17090031 </td><td>0.62591859 </td></tr>\n",
       "\t<tr><th scope=row>CHem</th><td>0.13608795 </td><td>0.01791130 </td><td>0.044162244</td><td>0.07211903 </td><td>0.72971948 </td></tr>\n",
       "</tbody>\n",
       "</table>\n"
      ],
      "text/latex": [
       "\\begin{tabular}{r|lllll}\n",
       "  & hDA0 & hDA1 & hGaba & hDA2 & hSert\\\\\n",
       "\\hline\n",
       "\tSert & 0.92562836  & 0.01957006  & 0.005021443 & 0.01161718  & 0.03816297 \\\\\n",
       "\tDA & 0.08553404  & 0.10851985  & 0.009127210 & 0.17090031  & 0.62591859 \\\\\n",
       "\tCHem & 0.13608795  & 0.01791130  & 0.044162244 & 0.07211903  & 0.72971948 \\\\\n",
       "\\end{tabular}\n"
      ],
      "text/markdown": [
       "\n",
       "| <!--/--> | hDA0 | hDA1 | hGaba | hDA2 | hSert |\n",
       "|---|---|---|---|---|---|\n",
       "| Sert | 0.92562836  | 0.01957006  | 0.005021443 | 0.01161718  | 0.03816297  |\n",
       "| DA | 0.08553404  | 0.10851985  | 0.009127210 | 0.17090031  | 0.62591859  |\n",
       "| CHem | 0.13608795  | 0.01791130  | 0.044162244 | 0.07211903  | 0.72971948  |\n",
       "\n"
      ],
      "text/plain": [
       "     hDA0       hDA1       hGaba       hDA2       hSert     \n",
       "Sert 0.92562836 0.01957006 0.005021443 0.01161718 0.03816297\n",
       "DA   0.08553404 0.10851985 0.009127210 0.17090031 0.62591859\n",
       "CHem 0.13608795 0.01791130 0.044162244 0.07211903 0.72971948"
      ]
     },
     "metadata": {},
     "output_type": "display_data"
    }
   ],
   "source": [
    "mat"
   ]
  },
  {
   "cell_type": "code",
   "execution_count": 57,
   "metadata": {},
   "outputs": [
    {
     "data": {
      "text/html": [
       "<table>\n",
       "<thead><tr><th scope=col>Var1</th><th scope=col>Var2</th><th scope=col>value</th></tr></thead>\n",
       "<tbody>\n",
       "\t<tr><td>Sert      </td><td>hDA0      </td><td>0.92562836</td></tr>\n",
       "\t<tr><td>DA        </td><td>hDA0      </td><td>0.08553404</td></tr>\n",
       "\t<tr><td>CHem      </td><td>hDA0      </td><td>0.13608795</td></tr>\n",
       "\t<tr><td>Sert      </td><td>hDA1      </td><td>0.01957006</td></tr>\n",
       "\t<tr><td>DA        </td><td>hDA1      </td><td>0.10851985</td></tr>\n",
       "\t<tr><td>CHem      </td><td>hDA1      </td><td>0.01791130</td></tr>\n",
       "</tbody>\n",
       "</table>\n"
      ],
      "text/latex": [
       "\\begin{tabular}{r|lll}\n",
       " Var1 & Var2 & value\\\\\n",
       "\\hline\n",
       "\t Sert       & hDA0       & 0.92562836\\\\\n",
       "\t DA         & hDA0       & 0.08553404\\\\\n",
       "\t CHem       & hDA0       & 0.13608795\\\\\n",
       "\t Sert       & hDA1       & 0.01957006\\\\\n",
       "\t DA         & hDA1       & 0.10851985\\\\\n",
       "\t CHem       & hDA1       & 0.01791130\\\\\n",
       "\\end{tabular}\n"
      ],
      "text/markdown": [
       "\n",
       "| Var1 | Var2 | value |\n",
       "|---|---|---|\n",
       "| Sert       | hDA0       | 0.92562836 |\n",
       "| DA         | hDA0       | 0.08553404 |\n",
       "| CHem       | hDA0       | 0.13608795 |\n",
       "| Sert       | hDA1       | 0.01957006 |\n",
       "| DA         | hDA1       | 0.10851985 |\n",
       "| CHem       | hDA1       | 0.01791130 |\n",
       "\n"
      ],
      "text/plain": [
       "  Var1 Var2 value     \n",
       "1 Sert hDA0 0.92562836\n",
       "2 DA   hDA0 0.08553404\n",
       "3 CHem hDA0 0.13608795\n",
       "4 Sert hDA1 0.01957006\n",
       "5 DA   hDA1 0.10851985\n",
       "6 CHem hDA1 0.01791130"
      ]
     },
     "metadata": {},
     "output_type": "display_data"
    }
   ],
   "source": [
    "library(reshape2)\n",
    "mat_melt = melt(mat)\n",
    "head(mat_melt)"
   ]
  },
  {
   "cell_type": "code",
   "execution_count": 58,
   "metadata": {},
   "outputs": [],
   "source": [
    "library(ggplot2)"
   ]
  },
  {
   "cell_type": "code",
   "execution_count": 59,
   "metadata": {},
   "outputs": [
    {
     "data": {
      "image/png": "[encoded data removed]",
      "text/plain": [
       "plot without title"
      ]
     },
     "metadata": {},
     "output_type": "display_data"
    }
   ],
   "source": [
    "df = as.data.frame(mat_melt)\n",
    "ggplot(df, aes(x = as.factor(Var1), y = value, fill = as.factor(Var2))) + geom_bar(stat=\"identity\", col = \"grey\")"
   ]
  },
  {
   "cell_type": "code",
   "execution_count": 76,
   "metadata": {},
   "outputs": [
    {
     "name": "stderr",
     "output_type": "stream",
     "text": [
      "Warning message in NSBS(i, x, exact = exact, strict.upper.bound = !allow.append, :\n",
      "“subscript is an array, passing it thru as.vector() first”"
     ]
    }
   ],
   "source": [
    "# sel_cells = colnames(neuroseq[,neuroseq$celltype == 'DA'])\n",
    "sel_cells = colnames(neuroseq[,neuroseq$celltype == 'DA' & neuroseq$time_point == 'D30' & \n",
    "                             neuroseq$treatment == 'NONE'])"
   ]
  },
  {
   "cell_type": "code",
   "execution_count": 77,
   "metadata": {},
   "outputs": [],
   "source": [
    "closest_atlas_cell_ind = BiocNeighbors::queryKNN(\n",
    "    joint_mnn_pca[colnames(LM),],\n",
    "    joint_mnn_pca[sel_cells,],\n",
    "  k = 1, get.index = TRUE, get.distance = FALSE)"
   ]
  },
  {
   "cell_type": "code",
   "execution_count": 78,
   "metadata": {},
   "outputs": [],
   "source": [
    "mapped_cells = colnames(LM)[closest_atlas_cell_ind$index]"
   ]
  },
  {
   "cell_type": "code",
   "execution_count": 79,
   "metadata": {},
   "outputs": [
    {
     "data": {
      "text/html": [
       "<table>\n",
       "<thead><tr><th></th><th scope=col>Cell_ID</th><th scope=col>Cell_type</th><th scope=col>Timepoint</th></tr></thead>\n",
       "<tbody>\n",
       "\t<tr><th scope=row>1772067_089_B06</th><td>1772067_089_B06</td><td>hDA0           </td><td>week_7         </td></tr>\n",
       "\t<tr><th scope=row>1772071_027_C04</th><td>1772071_027_C04</td><td>hDA1           </td><td>week_7         </td></tr>\n",
       "</tbody>\n",
       "</table>\n"
      ],
      "text/latex": [
       "\\begin{tabular}{r|lll}\n",
       "  & Cell\\_ID & Cell\\_type & Timepoint\\\\\n",
       "\\hline\n",
       "\t1772067\\_089\\_B06 & 1772067\\_089\\_B06 & hDA0                & week\\_7           \\\\\n",
       "\t1772071\\_027\\_C04 & 1772071\\_027\\_C04 & hDA1                & week\\_7           \\\\\n",
       "\\end{tabular}\n"
      ],
      "text/markdown": [
       "\n",
       "| <!--/--> | Cell_ID | Cell_type | Timepoint |\n",
       "|---|---|---|---|\n",
       "| 1772067_089_B06 | 1772067_089_B06 | hDA0            | week_7          |\n",
       "| 1772071_027_C04 | 1772071_027_C04 | hDA1            | week_7          |\n",
       "\n"
      ],
      "text/plain": [
       "                Cell_ID         Cell_type Timepoint\n",
       "1772067_089_B06 1772067_089_B06 hDA0      week_7   \n",
       "1772071_027_C04 1772071_027_C04 hDA1      week_7   "
      ]
     },
     "metadata": {},
     "output_type": "display_data"
    }
   ],
   "source": [
    "df = as.data.frame(colData(LM))\n",
    "head(df,2)"
   ]
  },
  {
   "cell_type": "code",
   "execution_count": 80,
   "metadata": {},
   "outputs": [
    {
     "data": {
      "text/html": [
       "<table>\n",
       "<thead><tr><th></th><th scope=col>Cell_ID</th><th scope=col>Cell_type</th><th scope=col>Timepoint</th></tr></thead>\n",
       "<tbody>\n",
       "\t<tr><th scope=row>1772121_283_D09</th><td>1772121_283_D09</td><td>hDA2           </td><td>week_10        </td></tr>\n",
       "\t<tr><th scope=row>1772122_318_D10</th><td>1772122_318_D10</td><td>hDA0           </td><td>week_6         </td></tr>\n",
       "</tbody>\n",
       "</table>\n"
      ],
      "text/latex": [
       "\\begin{tabular}{r|lll}\n",
       "  & Cell\\_ID & Cell\\_type & Timepoint\\\\\n",
       "\\hline\n",
       "\t1772121\\_283\\_D09 & 1772121\\_283\\_D09 & hDA2                & week\\_10          \\\\\n",
       "\t1772122\\_318\\_D10 & 1772122\\_318\\_D10 & hDA0                & week\\_6           \\\\\n",
       "\\end{tabular}\n"
      ],
      "text/markdown": [
       "\n",
       "| <!--/--> | Cell_ID | Cell_type | Timepoint |\n",
       "|---|---|---|---|\n",
       "| 1772121_283_D09 | 1772121_283_D09 | hDA2            | week_10         |\n",
       "| 1772122_318_D10 | 1772122_318_D10 | hDA0            | week_6          |\n",
       "\n"
      ],
      "text/plain": [
       "                Cell_ID         Cell_type Timepoint\n",
       "1772121_283_D09 1772121_283_D09 hDA2      week_10  \n",
       "1772122_318_D10 1772122_318_D10 hDA0      week_6   "
      ]
     },
     "metadata": {},
     "output_type": "display_data"
    },
    {
     "data": {
      "text/html": [
       "13799"
      ],
      "text/latex": [
       "13799"
      ],
      "text/markdown": [
       "13799"
      ],
      "text/plain": [
       "[1] 13799"
      ]
     },
     "metadata": {},
     "output_type": "display_data"
    },
    {
     "data": {
      "text/html": [
       "1703"
      ],
      "text/latex": [
       "1703"
      ],
      "text/markdown": [
       "1703"
      ],
      "text/plain": [
       "[1] 1703"
      ]
     },
     "metadata": {},
     "output_type": "display_data"
    },
    {
     "data": {
      "text/html": [
       "1241"
      ],
      "text/latex": [
       "1241"
      ],
      "text/markdown": [
       "1241"
      ],
      "text/plain": [
       "[1] 1241"
      ]
     },
     "metadata": {},
     "output_type": "display_data"
    },
    {
     "data": {
      "text/html": [
       "4105"
      ],
      "text/latex": [
       "4105"
      ],
      "text/markdown": [
       "4105"
      ],
      "text/plain": [
       "[1] 4105"
      ]
     },
     "metadata": {},
     "output_type": "display_data"
    },
    {
     "data": {
      "text/html": [
       "6514"
      ],
      "text/latex": [
       "6514"
      ],
      "text/markdown": [
       "6514"
      ],
      "text/plain": [
       "[1] 6514"
      ]
     },
     "metadata": {},
     "output_type": "display_data"
    },
    {
     "data": {
      "text/html": [
       "236"
      ],
      "text/latex": [
       "236"
      ],
      "text/markdown": [
       "236"
      ],
      "text/plain": [
       "[1] 236"
      ]
     },
     "metadata": {},
     "output_type": "display_data"
    }
   ],
   "source": [
    "df_mapped = df[mapped_cells,]\n",
    "head(df_mapped,2)\n",
    "nrow(df_mapped)\n",
    "nrow(df_mapped[df_mapped$Cell_type == 'hDA0',])\n",
    "nrow(df_mapped[df_mapped$Cell_type == 'hDA1',])\n",
    "nrow(df_mapped[df_mapped$Cell_type == 'hDA2',])\n",
    "nrow(df_mapped[df_mapped$Cell_type == 'hSert',])\n",
    "nrow(df_mapped[df_mapped$Cell_type == 'hGaba',])"
   ]
  },
  {
   "cell_type": "code",
   "execution_count": null,
   "metadata": {},
   "outputs": [],
   "source": []
  },
  {
   "cell_type": "code",
   "execution_count": null,
   "metadata": {},
   "outputs": [],
   "source": []
  },
  {
   "cell_type": "code",
   "execution_count": null,
   "metadata": {},
   "outputs": [],
   "source": []
  },
  {
   "cell_type": "code",
   "execution_count": 81,
   "metadata": {},
   "outputs": [],
   "source": [
    "lm_clusters = as.character(unique(LM$Cell_type))"
   ]
  },
  {
   "cell_type": "code",
   "execution_count": 82,
   "metadata": {},
   "outputs": [
    {
     "name": "stdout",
     "output_type": "stream",
     "text": [
      "[1] \"hDA0\"              \"1703\"              \"0.123414740198565\"\n",
      "[1] \"hDA1\"               \"1241\"               \"0.0899340531922603\"\n",
      "[1] \"hGaba\"              \"236\"                \"0.0171026886006232\"\n",
      "[1] \"hDA2\"              \"4105\"              \"0.297485325023552\"\n",
      "[1] \"hSert\"             \"6514\"              \"0.472063192984999\"\n"
     ]
    }
   ],
   "source": [
    "for (cluster in lm_clusters){\n",
    "    n = length(mapped_cells[mapped_cells %in% rownames(df[df$Cell_type == cluster,])])\n",
    "    if (n/length(mapped_cells) > 0.01){\n",
    "        print(c(cluster, n, n/length(mapped_cells)))\n",
    "    }\n",
    "}"
   ]
  },
  {
   "cell_type": "code",
   "execution_count": null,
   "metadata": {},
   "outputs": [],
   "source": [
    "for (celltype in unique(query$celltype)){\n",
    "    closest_atlas_cell_ind = BiocNeighbors::queryKNN(\n",
    "        joint_mnn_pca[colnames(LM),],\n",
    "        joint_mnn_pca[sel_cells,],\n",
    "  k = 1, get.index = TRUE, get.distance = FALSE)\n",
    "    for (cluster in lm_clusters){\n",
    "    n = length(mapped_cells[mapped_cells %in% rownames(df[df$Cell_type == cluster,])])\n",
    "    if (n/length(mapped_cells) > 0.01){\n",
    "        print(c(cluster, n, n/length(mapped_cells)))\n",
    "        }\n",
    "    }\n",
    "}"
   ]
  }
 ],
 "metadata": {
  "kernelspec": {
   "display_name": "R",
   "language": "R",
   "name": "ir"
  },
  "language_info": {
   "codemirror_mode": "r",
   "file_extension": ".r",
   "mimetype": "text/x-r-source",
   "name": "R",
   "pygments_lexer": "r",
   "version": "3.6.1"
  }
 },
 "nbformat": 4,
 "nbformat_minor": 4
}
