{
 "cells": [
  {
   "cell_type": "code",
   "execution_count": 1,
   "metadata": {},
   "outputs": [],
   "source": [
    "mydir = \"/nfs/leia/research/stegle/dseaton/hipsci/singlecell_neuroseq/data/data_processed/\""
   ]
  },
  {
   "cell_type": "code",
   "execution_count": 11,
   "metadata": {},
   "outputs": [
    {
     "data": {
      "text/html": [
       "<table>\n",
       "<thead><tr><th scope=col>cluster_id</th><th scope=col>celltype</th></tr></thead>\n",
       "<tbody>\n",
       "\t<tr><td> 0     </td><td>Sert   </td></tr>\n",
       "\t<tr><td> 1     </td><td>Epen1  </td></tr>\n",
       "\t<tr><td> 2     </td><td>Astro  </td></tr>\n",
       "\t<tr><td> 3     </td><td>DA     </td></tr>\n",
       "\t<tr><td> 4     </td><td>FPP    </td></tr>\n",
       "\t<tr><td> 5     </td><td>CHem   </td></tr>\n",
       "\t<tr><td> 6     </td><td>P_FPP  </td></tr>\n",
       "\t<tr><td> 7     </td><td>Sert   </td></tr>\n",
       "\t<tr><td> 8     </td><td>unknown</td></tr>\n",
       "\t<tr><td> 9     </td><td>Epen2  </td></tr>\n",
       "\t<tr><td>10     </td><td>P_Sert </td></tr>\n",
       "\t<tr><td>11     </td><td>unknown</td></tr>\n",
       "\t<tr><td>12     </td><td>unknown</td></tr>\n",
       "</tbody>\n",
       "</table>\n"
      ],
      "text/latex": [
       "\\begin{tabular}{r|ll}\n",
       " cluster\\_id & celltype\\\\\n",
       "\\hline\n",
       "\t  0      & Sert   \\\\\n",
       "\t  1      & Epen1  \\\\\n",
       "\t  2      & Astro  \\\\\n",
       "\t  3      & DA     \\\\\n",
       "\t  4      & FPP    \\\\\n",
       "\t  5      & CHem   \\\\\n",
       "\t  6        & P\\_FPP  \\\\\n",
       "\t  7      & Sert   \\\\\n",
       "\t  8      & unknown\\\\\n",
       "\t  9      & Epen2  \\\\\n",
       "\t 10        & P\\_Sert \\\\\n",
       "\t 11      & unknown\\\\\n",
       "\t 12      & unknown\\\\\n",
       "\\end{tabular}\n"
      ],
      "text/markdown": [
       "\n",
       "cluster_id | celltype | \n",
       "|---|---|---|---|---|---|---|---|---|---|---|---|---|\n",
       "|  0      | Sert    | \n",
       "|  1      | Epen1   | \n",
       "|  2      | Astro   | \n",
       "|  3      | DA      | \n",
       "|  4      | FPP     | \n",
       "|  5      | CHem    | \n",
       "|  6      | P_FPP   | \n",
       "|  7      | Sert    | \n",
       "|  8      | unknown | \n",
       "|  9      | Epen2   | \n",
       "| 10      | P_Sert  | \n",
       "| 11      | unknown | \n",
       "| 12      | unknown | \n",
       "\n",
       "\n"
      ],
      "text/plain": [
       "   cluster_id celltype\n",
       "1   0         Sert    \n",
       "2   1         Epen1   \n",
       "3   2         Astro   \n",
       "4   3         DA      \n",
       "5   4         FPP     \n",
       "6   5         CHem    \n",
       "7   6         P_FPP   \n",
       "8   7         Sert    \n",
       "9   8         unknown \n",
       "10  9         Epen2   \n",
       "11 10         P_Sert  \n",
       "12 11         unknown \n",
       "13 12         unknown "
      ]
     },
     "metadata": {},
     "output_type": "display_data"
    }
   ],
   "source": [
    "D52_filename = paste0(mydir,\"pool1_17_D52/pool1_17_D52.celltype_mapping.tsv\")\n",
    "D52 = read.csv(D52_filename, sep = \"\\t\")\n",
    "D52"
   ]
  },
  {
   "cell_type": "code",
   "execution_count": 10,
   "metadata": {},
   "outputs": [
    {
     "data": {
      "text/html": [
       "<table>\n",
       "<thead><tr><th scope=col>cluster_id</th><th scope=col>celltype</th></tr></thead>\n",
       "<tbody>\n",
       "\t<tr><td>0      </td><td>DA     </td></tr>\n",
       "\t<tr><td>1      </td><td>Astro  </td></tr>\n",
       "\t<tr><td>2      </td><td>Sert   </td></tr>\n",
       "\t<tr><td>3      </td><td>Epen1  </td></tr>\n",
       "\t<tr><td>4      </td><td>CHem   </td></tr>\n",
       "\t<tr><td>5      </td><td>P_FPP  </td></tr>\n",
       "\t<tr><td>6      </td><td>unknown</td></tr>\n",
       "</tbody>\n",
       "</table>\n"
      ],
      "text/latex": [
       "\\begin{tabular}{r|ll}\n",
       " cluster\\_id & celltype\\\\\n",
       "\\hline\n",
       "\t 0       & DA     \\\\\n",
       "\t 1       & Astro  \\\\\n",
       "\t 2       & Sert   \\\\\n",
       "\t 3       & Epen1  \\\\\n",
       "\t 4       & CHem   \\\\\n",
       "\t 5         & P\\_FPP  \\\\\n",
       "\t 6       & unknown\\\\\n",
       "\\end{tabular}\n"
      ],
      "text/markdown": [
       "\n",
       "cluster_id | celltype | \n",
       "|---|---|---|---|---|---|---|\n",
       "| 0       | DA      | \n",
       "| 1       | Astro   | \n",
       "| 2       | Sert    | \n",
       "| 3       | Epen1   | \n",
       "| 4       | CHem    | \n",
       "| 5       | P_FPP   | \n",
       "| 6       | unknown | \n",
       "\n",
       "\n"
      ],
      "text/plain": [
       "  cluster_id celltype\n",
       "1 0          DA      \n",
       "2 1          Astro   \n",
       "3 2          Sert    \n",
       "4 3          Epen1   \n",
       "5 4          CHem    \n",
       "6 5          P_FPP   \n",
       "7 6          unknown "
      ]
     },
     "metadata": {},
     "output_type": "display_data"
    }
   ],
   "source": [
    "D30_filename = paste0(mydir,\"pool1_13_noddd_D30/pool1_13_noddd_D30.celltype_mapping.tsv\")\n",
    "D30 = read.csv(D30_filename, sep = \"\\t\")\n",
    "D30"
   ]
  },
  {
   "cell_type": "code",
   "execution_count": 9,
   "metadata": {},
   "outputs": [
    {
     "data": {
      "text/html": [
       "<table>\n",
       "<thead><tr><th scope=col>cluster_id</th><th scope=col>celltype</th></tr></thead>\n",
       "<tbody>\n",
       "\t<tr><td>0    </td><td>FPP  </td></tr>\n",
       "\t<tr><td>1    </td><td>P_FPP</td></tr>\n",
       "\t<tr><td>2    </td><td>P_FPP</td></tr>\n",
       "\t<tr><td>3    </td><td>NB   </td></tr>\n",
       "\t<tr><td>4    </td><td>P_FPP</td></tr>\n",
       "\t<tr><td>5    </td><td>FPP  </td></tr>\n",
       "</tbody>\n",
       "</table>\n"
      ],
      "text/latex": [
       "\\begin{tabular}{r|ll}\n",
       " cluster\\_id & celltype\\\\\n",
       "\\hline\n",
       "\t 0     & FPP  \\\\\n",
       "\t 1       & P\\_FPP\\\\\n",
       "\t 2       & P\\_FPP\\\\\n",
       "\t 3     & NB   \\\\\n",
       "\t 4       & P\\_FPP\\\\\n",
       "\t 5     & FPP  \\\\\n",
       "\\end{tabular}\n"
      ],
      "text/markdown": [
       "\n",
       "cluster_id | celltype | \n",
       "|---|---|---|---|---|---|\n",
       "| 0     | FPP   | \n",
       "| 1     | P_FPP | \n",
       "| 2     | P_FPP | \n",
       "| 3     | NB    | \n",
       "| 4     | P_FPP | \n",
       "| 5     | FPP   | \n",
       "\n",
       "\n"
      ],
      "text/plain": [
       "  cluster_id celltype\n",
       "1 0          FPP     \n",
       "2 1          P_FPP   \n",
       "3 2          P_FPP   \n",
       "4 3          NB      \n",
       "5 4          P_FPP   \n",
       "6 5          FPP     "
      ]
     },
     "metadata": {},
     "output_type": "display_data"
    }
   ],
   "source": [
    "D11_filename = paste0(mydir,\"pool1_13_noddd_D11/pool1_13_noddd_D11.celltype_mapping.tsv\")\n",
    "D11 = read.csv(D11_filename, sep = \"\\t\")\n",
    "D11"
   ]
  },
  {
   "cell_type": "code",
   "execution_count": 24,
   "metadata": {},
   "outputs": [
    {
     "data": {
      "text/html": [
       "<table>\n",
       "<thead><tr><th scope=col>cluster_id</th><th scope=col>celltype</th><th scope=col>time_point</th></tr></thead>\n",
       "<tbody>\n",
       "\t<tr><td>0    </td><td>FPP  </td><td>D11  </td></tr>\n",
       "\t<tr><td>1    </td><td>P_FPP</td><td>D11  </td></tr>\n",
       "\t<tr><td>2    </td><td>P_FPP</td><td>D11  </td></tr>\n",
       "\t<tr><td>3    </td><td>NB   </td><td>D11  </td></tr>\n",
       "\t<tr><td>4    </td><td>P_FPP</td><td>D11  </td></tr>\n",
       "\t<tr><td>5    </td><td>FPP  </td><td>D11  </td></tr>\n",
       "</tbody>\n",
       "</table>\n"
      ],
      "text/latex": [
       "\\begin{tabular}{r|lll}\n",
       " cluster\\_id & celltype & time\\_point\\\\\n",
       "\\hline\n",
       "\t 0     & FPP   & D11  \\\\\n",
       "\t 1       & P\\_FPP & D11    \\\\\n",
       "\t 2       & P\\_FPP & D11    \\\\\n",
       "\t 3     & NB    & D11  \\\\\n",
       "\t 4       & P\\_FPP & D11    \\\\\n",
       "\t 5     & FPP   & D11  \\\\\n",
       "\\end{tabular}\n"
      ],
      "text/markdown": [
       "\n",
       "cluster_id | celltype | time_point | \n",
       "|---|---|---|---|---|---|\n",
       "| 0     | FPP   | D11   | \n",
       "| 1     | P_FPP | D11   | \n",
       "| 2     | P_FPP | D11   | \n",
       "| 3     | NB    | D11   | \n",
       "| 4     | P_FPP | D11   | \n",
       "| 5     | FPP   | D11   | \n",
       "\n",
       "\n"
      ],
      "text/plain": [
       "  cluster_id celltype time_point\n",
       "1 0          FPP      D11       \n",
       "2 1          P_FPP    D11       \n",
       "3 2          P_FPP    D11       \n",
       "4 3          NB       D11       \n",
       "5 4          P_FPP    D11       \n",
       "6 5          FPP      D11       "
      ]
     },
     "metadata": {},
     "output_type": "display_data"
    }
   ],
   "source": [
    "D11['time_point'] = 'D11'\n",
    "D11"
   ]
  },
  {
   "cell_type": "code",
   "execution_count": 25,
   "metadata": {},
   "outputs": [
    {
     "data": {
      "text/html": [
       "<table>\n",
       "<thead><tr><th scope=col>cluster_id</th><th scope=col>celltype</th><th scope=col>time_point</th></tr></thead>\n",
       "<tbody>\n",
       "\t<tr><td>0      </td><td>DA     </td><td>D30    </td></tr>\n",
       "\t<tr><td>1      </td><td>Astro  </td><td>D30    </td></tr>\n",
       "\t<tr><td>2      </td><td>Sert   </td><td>D30    </td></tr>\n",
       "\t<tr><td>3      </td><td>Epen1  </td><td>D30    </td></tr>\n",
       "\t<tr><td>4      </td><td>CHem   </td><td>D30    </td></tr>\n",
       "\t<tr><td>5      </td><td>P_FPP  </td><td>D30    </td></tr>\n",
       "\t<tr><td>6      </td><td>unknown</td><td>D30    </td></tr>\n",
       "</tbody>\n",
       "</table>\n"
      ],
      "text/latex": [
       "\\begin{tabular}{r|lll}\n",
       " cluster\\_id & celltype & time\\_point\\\\\n",
       "\\hline\n",
       "\t 0       & DA      & D30    \\\\\n",
       "\t 1       & Astro   & D30    \\\\\n",
       "\t 2       & Sert    & D30    \\\\\n",
       "\t 3       & Epen1   & D30    \\\\\n",
       "\t 4       & CHem    & D30    \\\\\n",
       "\t 5         & P\\_FPP   & D30      \\\\\n",
       "\t 6       & unknown & D30    \\\\\n",
       "\\end{tabular}\n"
      ],
      "text/markdown": [
       "\n",
       "cluster_id | celltype | time_point | \n",
       "|---|---|---|---|---|---|---|\n",
       "| 0       | DA      | D30     | \n",
       "| 1       | Astro   | D30     | \n",
       "| 2       | Sert    | D30     | \n",
       "| 3       | Epen1   | D30     | \n",
       "| 4       | CHem    | D30     | \n",
       "| 5       | P_FPP   | D30     | \n",
       "| 6       | unknown | D30     | \n",
       "\n",
       "\n"
      ],
      "text/plain": [
       "  cluster_id celltype time_point\n",
       "1 0          DA       D30       \n",
       "2 1          Astro    D30       \n",
       "3 2          Sert     D30       \n",
       "4 3          Epen1    D30       \n",
       "5 4          CHem     D30       \n",
       "6 5          P_FPP    D30       \n",
       "7 6          unknown  D30       "
      ]
     },
     "metadata": {},
     "output_type": "display_data"
    }
   ],
   "source": [
    "D30['time_point'] = 'D30'\n",
    "D30"
   ]
  },
  {
   "cell_type": "code",
   "execution_count": 26,
   "metadata": {},
   "outputs": [
    {
     "data": {
      "text/html": [
       "<table>\n",
       "<thead><tr><th scope=col>cluster_id</th><th scope=col>celltype</th><th scope=col>time_point</th></tr></thead>\n",
       "<tbody>\n",
       "\t<tr><td> 0     </td><td>Sert   </td><td>D52    </td></tr>\n",
       "\t<tr><td> 1     </td><td>Epen1  </td><td>D52    </td></tr>\n",
       "\t<tr><td> 2     </td><td>Astro  </td><td>D52    </td></tr>\n",
       "\t<tr><td> 3     </td><td>DA     </td><td>D52    </td></tr>\n",
       "\t<tr><td> 4     </td><td>FPP    </td><td>D52    </td></tr>\n",
       "\t<tr><td> 5     </td><td>CHem   </td><td>D52    </td></tr>\n",
       "\t<tr><td> 6     </td><td>P_FPP  </td><td>D52    </td></tr>\n",
       "\t<tr><td> 7     </td><td>Sert   </td><td>D52    </td></tr>\n",
       "\t<tr><td> 8     </td><td>unknown</td><td>D52    </td></tr>\n",
       "\t<tr><td> 9     </td><td>Epen2  </td><td>D52    </td></tr>\n",
       "\t<tr><td>10     </td><td>P_Sert </td><td>D52    </td></tr>\n",
       "\t<tr><td>11     </td><td>unknown</td><td>D52    </td></tr>\n",
       "\t<tr><td>12     </td><td>unknown</td><td>D52    </td></tr>\n",
       "</tbody>\n",
       "</table>\n"
      ],
      "text/latex": [
       "\\begin{tabular}{r|lll}\n",
       " cluster\\_id & celltype & time\\_point\\\\\n",
       "\\hline\n",
       "\t  0      & Sert    & D52    \\\\\n",
       "\t  1      & Epen1   & D52    \\\\\n",
       "\t  2      & Astro   & D52    \\\\\n",
       "\t  3      & DA      & D52    \\\\\n",
       "\t  4      & FPP     & D52    \\\\\n",
       "\t  5      & CHem    & D52    \\\\\n",
       "\t  6        & P\\_FPP   & D52      \\\\\n",
       "\t  7      & Sert    & D52    \\\\\n",
       "\t  8      & unknown & D52    \\\\\n",
       "\t  9      & Epen2   & D52    \\\\\n",
       "\t 10        & P\\_Sert  & D52      \\\\\n",
       "\t 11      & unknown & D52    \\\\\n",
       "\t 12      & unknown & D52    \\\\\n",
       "\\end{tabular}\n"
      ],
      "text/markdown": [
       "\n",
       "cluster_id | celltype | time_point | \n",
       "|---|---|---|---|---|---|---|---|---|---|---|---|---|\n",
       "|  0      | Sert    | D52     | \n",
       "|  1      | Epen1   | D52     | \n",
       "|  2      | Astro   | D52     | \n",
       "|  3      | DA      | D52     | \n",
       "|  4      | FPP     | D52     | \n",
       "|  5      | CHem    | D52     | \n",
       "|  6      | P_FPP   | D52     | \n",
       "|  7      | Sert    | D52     | \n",
       "|  8      | unknown | D52     | \n",
       "|  9      | Epen2   | D52     | \n",
       "| 10      | P_Sert  | D52     | \n",
       "| 11      | unknown | D52     | \n",
       "| 12      | unknown | D52     | \n",
       "\n",
       "\n"
      ],
      "text/plain": [
       "   cluster_id celltype time_point\n",
       "1   0         Sert     D52       \n",
       "2   1         Epen1    D52       \n",
       "3   2         Astro    D52       \n",
       "4   3         DA       D52       \n",
       "5   4         FPP      D52       \n",
       "6   5         CHem     D52       \n",
       "7   6         P_FPP    D52       \n",
       "8   7         Sert     D52       \n",
       "9   8         unknown  D52       \n",
       "10  9         Epen2    D52       \n",
       "11 10         P_Sert   D52       \n",
       "12 11         unknown  D52       \n",
       "13 12         unknown  D52       "
      ]
     },
     "metadata": {},
     "output_type": "display_data"
    }
   ],
   "source": [
    "D52['time_point'] = 'D52'\n",
    "D52"
   ]
  },
  {
   "cell_type": "code",
   "execution_count": 31,
   "metadata": {},
   "outputs": [],
   "source": [
    "df = rbind(D11,D30,D52)\n",
    "# df"
   ]
  },
  {
   "cell_type": "code",
   "execution_count": 35,
   "metadata": {},
   "outputs": [],
   "source": [
    "df$celltype = as.character(df$celltype)\n",
    "df$new_celltype = df$celltype"
   ]
  },
  {
   "cell_type": "code",
   "execution_count": 38,
   "metadata": {},
   "outputs": [
    {
     "data": {
      "text/html": [
       "<table>\n",
       "<thead><tr><th scope=col>cluster_id</th><th scope=col>celltype</th><th scope=col>time_point</th><th scope=col>new_celltype</th></tr></thead>\n",
       "<tbody>\n",
       "\t<tr><td> 0     </td><td>FPP    </td><td>D11    </td><td>FPP    </td></tr>\n",
       "\t<tr><td> 1     </td><td>P_FPP  </td><td>D11    </td><td>P_FPP  </td></tr>\n",
       "\t<tr><td> 2     </td><td>P_FPP  </td><td>D11    </td><td>P_FPP  </td></tr>\n",
       "\t<tr><td> 3     </td><td>NB     </td><td>D11    </td><td>NB     </td></tr>\n",
       "\t<tr><td> 4     </td><td>P_FPP  </td><td>D11    </td><td>P_FPP  </td></tr>\n",
       "\t<tr><td> 5     </td><td>FPP    </td><td>D11    </td><td>FPP    </td></tr>\n",
       "\t<tr><td> 0     </td><td>DA     </td><td>D30    </td><td>DA     </td></tr>\n",
       "\t<tr><td> 1     </td><td>Astro  </td><td>D30    </td><td>FPP    </td></tr>\n",
       "\t<tr><td> 2     </td><td>Sert   </td><td>D30    </td><td>Sert   </td></tr>\n",
       "\t<tr><td> 3     </td><td>Epen1  </td><td>D30    </td><td>Epen1  </td></tr>\n",
       "\t<tr><td> 4     </td><td>CHem   </td><td>D30    </td><td>U_Neur1</td></tr>\n",
       "\t<tr><td> 5     </td><td>P_FPP  </td><td>D30    </td><td>P_FPP  </td></tr>\n",
       "\t<tr><td> 6     </td><td>unknown</td><td>D30    </td><td>U_Neur2</td></tr>\n",
       "\t<tr><td> 0     </td><td>Sert   </td><td>D52    </td><td>Sert   </td></tr>\n",
       "\t<tr><td> 1     </td><td>Epen1  </td><td>D52    </td><td>Epen1  </td></tr>\n",
       "\t<tr><td> 2     </td><td>Astro  </td><td>D52    </td><td>Astro  </td></tr>\n",
       "\t<tr><td> 3     </td><td>DA     </td><td>D52    </td><td>DA     </td></tr>\n",
       "\t<tr><td> 4     </td><td>FPP    </td><td>D52    </td><td>FPP    </td></tr>\n",
       "\t<tr><td> 5     </td><td>CHem   </td><td>D52    </td><td>U_Neur1</td></tr>\n",
       "\t<tr><td> 6     </td><td>P_FPP  </td><td>D52    </td><td>P_FPP  </td></tr>\n",
       "\t<tr><td> 7     </td><td>Sert   </td><td>D52    </td><td>Sert   </td></tr>\n",
       "\t<tr><td> 8     </td><td>unknown</td><td>D52    </td><td>U_Neur3</td></tr>\n",
       "\t<tr><td> 9     </td><td>Epen2  </td><td>D52    </td><td>Epen2  </td></tr>\n",
       "\t<tr><td>10     </td><td>P_Sert </td><td>D52    </td><td>P_Sert </td></tr>\n",
       "\t<tr><td>11     </td><td>unknown</td><td>D52    </td><td>U_Neur3</td></tr>\n",
       "\t<tr><td>12     </td><td>unknown</td><td>D52    </td><td>U_Neur3</td></tr>\n",
       "</tbody>\n",
       "</table>\n"
      ],
      "text/latex": [
       "\\begin{tabular}{r|llll}\n",
       " cluster\\_id & celltype & time\\_point & new\\_celltype\\\\\n",
       "\\hline\n",
       "\t  0      & FPP     & D11     & FPP    \\\\\n",
       "\t  1        & P\\_FPP   & D11       & P\\_FPP  \\\\\n",
       "\t  2        & P\\_FPP   & D11       & P\\_FPP  \\\\\n",
       "\t  3      & NB      & D11     & NB     \\\\\n",
       "\t  4        & P\\_FPP   & D11       & P\\_FPP  \\\\\n",
       "\t  5      & FPP     & D11     & FPP    \\\\\n",
       "\t  0      & DA      & D30     & DA     \\\\\n",
       "\t  1      & Astro   & D30     & FPP    \\\\\n",
       "\t  2      & Sert    & D30     & Sert   \\\\\n",
       "\t  3      & Epen1   & D30     & Epen1  \\\\\n",
       "\t  4        & CHem      & D30       & U\\_Neur1\\\\\n",
       "\t  5        & P\\_FPP   & D30       & P\\_FPP  \\\\\n",
       "\t  6        & unknown   & D30       & U\\_Neur2\\\\\n",
       "\t  0      & Sert    & D52     & Sert   \\\\\n",
       "\t  1      & Epen1   & D52     & Epen1  \\\\\n",
       "\t  2      & Astro   & D52     & Astro  \\\\\n",
       "\t  3      & DA      & D52     & DA     \\\\\n",
       "\t  4      & FPP     & D52     & FPP    \\\\\n",
       "\t  5        & CHem      & D52       & U\\_Neur1\\\\\n",
       "\t  6        & P\\_FPP   & D52       & P\\_FPP  \\\\\n",
       "\t  7      & Sert    & D52     & Sert   \\\\\n",
       "\t  8        & unknown   & D52       & U\\_Neur3\\\\\n",
       "\t  9      & Epen2   & D52     & Epen2  \\\\\n",
       "\t 10        & P\\_Sert  & D52       & P\\_Sert \\\\\n",
       "\t 11        & unknown   & D52       & U\\_Neur3\\\\\n",
       "\t 12        & unknown   & D52       & U\\_Neur3\\\\\n",
       "\\end{tabular}\n"
      ],
      "text/markdown": [
       "\n",
       "cluster_id | celltype | time_point | new_celltype | \n",
       "|---|---|---|---|---|---|---|---|---|---|---|---|---|---|---|---|---|---|---|---|---|---|---|---|---|---|\n",
       "|  0      | FPP     | D11     | FPP     | \n",
       "|  1      | P_FPP   | D11     | P_FPP   | \n",
       "|  2      | P_FPP   | D11     | P_FPP   | \n",
       "|  3      | NB      | D11     | NB      | \n",
       "|  4      | P_FPP   | D11     | P_FPP   | \n",
       "|  5      | FPP     | D11     | FPP     | \n",
       "|  0      | DA      | D30     | DA      | \n",
       "|  1      | Astro   | D30     | FPP     | \n",
       "|  2      | Sert    | D30     | Sert    | \n",
       "|  3      | Epen1   | D30     | Epen1   | \n",
       "|  4      | CHem    | D30     | U_Neur1 | \n",
       "|  5      | P_FPP   | D30     | P_FPP   | \n",
       "|  6      | unknown | D30     | U_Neur2 | \n",
       "|  0      | Sert    | D52     | Sert    | \n",
       "|  1      | Epen1   | D52     | Epen1   | \n",
       "|  2      | Astro   | D52     | Astro   | \n",
       "|  3      | DA      | D52     | DA      | \n",
       "|  4      | FPP     | D52     | FPP     | \n",
       "|  5      | CHem    | D52     | U_Neur1 | \n",
       "|  6      | P_FPP   | D52     | P_FPP   | \n",
       "|  7      | Sert    | D52     | Sert    | \n",
       "|  8      | unknown | D52     | U_Neur3 | \n",
       "|  9      | Epen2   | D52     | Epen2   | \n",
       "| 10      | P_Sert  | D52     | P_Sert  | \n",
       "| 11      | unknown | D52     | U_Neur3 | \n",
       "| 12      | unknown | D52     | U_Neur3 | \n",
       "\n",
       "\n"
      ],
      "text/plain": [
       "   cluster_id celltype time_point new_celltype\n",
       "1   0         FPP      D11        FPP         \n",
       "2   1         P_FPP    D11        P_FPP       \n",
       "3   2         P_FPP    D11        P_FPP       \n",
       "4   3         NB       D11        NB          \n",
       "5   4         P_FPP    D11        P_FPP       \n",
       "6   5         FPP      D11        FPP         \n",
       "7   0         DA       D30        DA          \n",
       "8   1         Astro    D30        FPP         \n",
       "9   2         Sert     D30        Sert        \n",
       "10  3         Epen1    D30        Epen1       \n",
       "11  4         CHem     D30        U_Neur1     \n",
       "12  5         P_FPP    D30        P_FPP       \n",
       "13  6         unknown  D30        U_Neur2     \n",
       "14  0         Sert     D52        Sert        \n",
       "15  1         Epen1    D52        Epen1       \n",
       "16  2         Astro    D52        Astro       \n",
       "17  3         DA       D52        DA          \n",
       "18  4         FPP      D52        FPP         \n",
       "19  5         CHem     D52        U_Neur1     \n",
       "20  6         P_FPP    D52        P_FPP       \n",
       "21  7         Sert     D52        Sert        \n",
       "22  8         unknown  D52        U_Neur3     \n",
       "23  9         Epen2    D52        Epen2       \n",
       "24 10         P_Sert   D52        P_Sert      \n",
       "25 11         unknown  D52        U_Neur3     \n",
       "26 12         unknown  D52        U_Neur3     "
      ]
     },
     "metadata": {},
     "output_type": "display_data"
    }
   ],
   "source": [
    "df$new_celltype[df$celltype == 'CHem'] = 'U_Neur1'\n",
    "df$new_celltype[df$celltype == 'Astro' & df$time_point == 'D30'] = 'FPP'\n",
    "df$new_celltype[df$celltype == 'unknown' & df$time_point == 'D30'] = 'U_Neur2'\n",
    "df$new_celltype[df$celltype == 'unknown' & df$time_point == 'D52'] = 'U_Neur3'\n",
    "df"
   ]
  },
  {
   "cell_type": "code",
   "execution_count": 42,
   "metadata": {},
   "outputs": [],
   "source": [
    "write.csv(df,\"/hps/nobackup/stegle/users/acuomo/all_scripts/sc_neuroseq/map_cluster_to_celltypes.csv\", quote = F, row.names = F)"
   ]
  },
  {
   "cell_type": "code",
   "execution_count": null,
   "metadata": {},
   "outputs": [],
   "source": []
  }
 ],
 "metadata": {
  "kernelspec": {
   "display_name": "R",
   "language": "R",
   "name": "ir"
  },
  "language_info": {
   "codemirror_mode": "r",
   "file_extension": ".r",
   "mimetype": "text/x-r-source",
   "name": "R",
   "pygments_lexer": "r",
   "version": "3.4.3"
  }
 },
 "nbformat": 4,
 "nbformat_minor": 2
}
