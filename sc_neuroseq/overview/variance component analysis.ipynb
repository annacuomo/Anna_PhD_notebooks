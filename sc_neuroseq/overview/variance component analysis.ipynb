{
 "cells": [
  {
   "cell_type": "code",
   "execution_count": 3,
   "metadata": {},
   "outputs": [],
   "source": [
    "library(dplyr)"
   ]
  },
  {
   "cell_type": "code",
   "execution_count": 2,
   "metadata": {},
   "outputs": [],
   "source": [
    "mydir = '/nfs/leia/research/stegle/dseaton/hipsci/singlecell_neuroseq/data/data_processed/'"
   ]
  },
  {
   "cell_type": "code",
   "execution_count": 4,
   "metadata": {},
   "outputs": [],
   "source": [
    "# Day 11\n",
    "prefix = \"pool1_13_noddd_D11/pool1_13_noddd_D11.scanpy.w_metadata.w_celltype.scanpy.celltype.\"\n",
    "suffix = \".groupedby.donor_id-pool_id-celltype.mean.tsv\""
   ]
  },
  {
   "cell_type": "code",
   "execution_count": 5,
   "metadata": {},
   "outputs": [],
   "source": [
    "celltypes = c(\"FPP\",\"P_FPP\",\"NB\")"
   ]
  },
  {
   "cell_type": "code",
   "execution_count": null,
   "metadata": {},
   "outputs": [],
   "source": [
    "df = data.frame()\n",
    "for (celltype in celltypes){\n",
    "    filename = paste0(mydir,prefix,celltype,suffix)\n",
    "    print(ncol(read.csv(filename, sep ='\\t')))\n",
    "    df = bind_rows(df,read.csv(filename, sep ='\\t'))\n",
    "    \n",
    "} "
   ]
  },
  {
   "cell_type": "code",
   "execution_count": null,
   "metadata": {},
   "outputs": [],
   "source": [
    "nrow(df)\n",
    "ncol(df)\n",
    "df[1:5,1:10]"
   ]
  },
  {
   "cell_type": "code",
   "execution_count": null,
   "metadata": {},
   "outputs": [],
   "source": [
    "df = df[,colSums(is.na(df))==0]"
   ]
  },
  {
   "cell_type": "code",
   "execution_count": null,
   "metadata": {},
   "outputs": [],
   "source": [
    "nrow(df)\n",
    "ncol(df)\n",
    "df[1:5,1:10]"
   ]
  },
  {
   "cell_type": "code",
   "execution_count": null,
   "metadata": {},
   "outputs": [],
   "source": [
    "df_day11 = df\n",
    "write.csv(df_day11,\"/hps/nobackup/stegle/users/acuomo/all_scripts/sc_neuroseq/day11_pseudobulk_mean_groupedby_donor_pool_celltype.csv\")"
   ]
  },
  {
   "cell_type": "code",
   "execution_count": null,
   "metadata": {},
   "outputs": [],
   "source": []
  },
  {
   "cell_type": "code",
   "execution_count": null,
   "metadata": {},
   "outputs": [],
   "source": []
  },
  {
   "cell_type": "code",
   "execution_count": 11,
   "metadata": {},
   "outputs": [],
   "source": [
    "# Day 30\n",
    "prefix = \"pool1_13_noddd_D30/pool1_13_noddd_D30.scanpy.w_metadata.w_celltype.scanpy.celltype.\"\n",
    "suffix = \".groupedby.donor_id-pool_id-celltype.mean.tsv\""
   ]
  },
  {
   "cell_type": "code",
   "execution_count": 12,
   "metadata": {},
   "outputs": [],
   "source": [
    "celltypes = c(\"DA\",\"Sert\",\"Epen1\",\"Astro\")"
   ]
  },
  {
   "cell_type": "code",
   "execution_count": 13,
   "metadata": {},
   "outputs": [
    {
     "name": "stdout",
     "output_type": "stream",
     "text": [
      "[1] 12337\n",
      "[1] 13633\n"
     ]
    },
    {
     "name": "stderr",
     "output_type": "stream",
     "text": [
      "Warning message in bind_rows_(x, .id):\n",
      "“Unequal factor levels: coercing to character”Warning message in bind_rows_(x, .id):\n",
      "“binding character and factor vector, coercing into character vector”Warning message in bind_rows_(x, .id):\n",
      "“binding character and factor vector, coercing into character vector”Warning message in bind_rows_(x, .id):\n",
      "“Unequal factor levels: coercing to character”Warning message in bind_rows_(x, .id):\n",
      "“binding character and factor vector, coercing into character vector”Warning message in bind_rows_(x, .id):\n",
      "“binding character and factor vector, coercing into character vector”"
     ]
    },
    {
     "name": "stdout",
     "output_type": "stream",
     "text": [
      "[1] 14846\n"
     ]
    },
    {
     "name": "stderr",
     "output_type": "stream",
     "text": [
      "Warning message in bind_rows_(x, .id):\n",
      "“binding character and factor vector, coercing into character vector”Warning message in bind_rows_(x, .id):\n",
      "“binding character and factor vector, coercing into character vector”"
     ]
    },
    {
     "name": "stdout",
     "output_type": "stream",
     "text": [
      "[1] 13608\n"
     ]
    },
    {
     "name": "stderr",
     "output_type": "stream",
     "text": [
      "Warning message in bind_rows_(x, .id):\n",
      "“binding character and factor vector, coercing into character vector”Warning message in bind_rows_(x, .id):\n",
      "“binding character and factor vector, coercing into character vector”"
     ]
    }
   ],
   "source": [
    "df = data.frame()\n",
    "for (celltype in celltypes){\n",
    "    filename = paste0(mydir,prefix,celltype,suffix)\n",
    "    print(ncol(read.csv(filename, sep ='\\t')))\n",
    "    df = bind_rows(df,read.csv(filename, sep ='\\t'))\n",
    "    \n",
    "} "
   ]
  },
  {
   "cell_type": "code",
   "execution_count": 14,
   "metadata": {},
   "outputs": [
    {
     "data": {
      "text/html": [
       "691"
      ],
      "text/latex": [
       "691"
      ],
      "text/markdown": [
       "691"
      ],
      "text/plain": [
       "[1] 691"
      ]
     },
     "metadata": {},
     "output_type": "display_data"
    },
    {
     "data": {
      "text/html": [
       "15808"
      ],
      "text/latex": [
       "15808"
      ],
      "text/markdown": [
       "15808"
      ],
      "text/plain": [
       "[1] 15808"
      ]
     },
     "metadata": {},
     "output_type": "display_data"
    },
    {
     "data": {
      "text/html": [
       "<table>\n",
       "<thead><tr><th scope=col>donor_id</th><th scope=col>pool_id</th><th scope=col>celltype</th><th scope=col>n_cells</th><th scope=col>AP006222.2</th><th scope=col>RP11.206L10.9</th><th scope=col>LINC00115</th><th scope=col>FAM41C</th><th scope=col>RP11.54O7.1</th><th scope=col>RP11.54O7.3</th></tr></thead>\n",
       "<tbody>\n",
       "\t<tr><td>HPSI0114i-bezi_3</td><td>pool10          </td><td>DA              </td><td>115             </td><td>0.1983263       </td><td>0.047601476     </td><td>0.00000000      </td><td>0.01811696      </td><td>0.02295148      </td><td>0.013092472     </td></tr>\n",
       "\t<tr><td>HPSI0114i-eipl_1</td><td>pool1           </td><td>DA              </td><td> 51             </td><td>0.2246863       </td><td>0.000000000     </td><td>0.01262993      </td><td>0.04306599      </td><td>0.02714102      </td><td>0.010593234     </td></tr>\n",
       "\t<tr><td>HPSI0114i-kolf_2</td><td>pool10          </td><td>DA              </td><td> 67             </td><td>0.2350840       </td><td>0.010203722     </td><td>0.02535193      </td><td>0.01097705      </td><td>0.04569566      </td><td>0.029663783     </td></tr>\n",
       "\t<tr><td>HPSI0114i-kolf_2</td><td>pool12          </td><td>DA              </td><td>182             </td><td>0.1079344       </td><td>0.004537755     </td><td>0.01380603      </td><td>0.01934709      </td><td>0.00000000      </td><td>0.006065263     </td></tr>\n",
       "\t<tr><td>HPSI0114i-lexy_2</td><td>pool10          </td><td>DA              </td><td> 54             </td><td>0.1927520       </td><td>0.016040634     </td><td>0.00000000      </td><td>0.00000000      </td><td>0.00000000      </td><td>0.015228746     </td></tr>\n",
       "</tbody>\n",
       "</table>\n"
      ],
      "text/latex": [
       "\\begin{tabular}{r|llllllllll}\n",
       " donor\\_id & pool\\_id & celltype & n\\_cells & AP006222.2 & RP11.206L10.9 & LINC00115 & FAM41C & RP11.54O7.1 & RP11.54O7.3\\\\\n",
       "\\hline\n",
       "\t HPSI0114i-bezi\\_3 & pool10             & DA                 & 115                & 0.1983263          & 0.047601476        & 0.00000000         & 0.01811696         & 0.02295148         & 0.013092472       \\\\\n",
       "\t HPSI0114i-eipl\\_1 & pool1              & DA                 &  51                & 0.2246863          & 0.000000000        & 0.01262993         & 0.04306599         & 0.02714102         & 0.010593234       \\\\\n",
       "\t HPSI0114i-kolf\\_2 & pool10             & DA                 &  67                & 0.2350840          & 0.010203722        & 0.02535193         & 0.01097705         & 0.04569566         & 0.029663783       \\\\\n",
       "\t HPSI0114i-kolf\\_2 & pool12             & DA                 & 182                & 0.1079344          & 0.004537755        & 0.01380603         & 0.01934709         & 0.00000000         & 0.006065263       \\\\\n",
       "\t HPSI0114i-lexy\\_2 & pool10             & DA                 &  54                & 0.1927520          & 0.016040634        & 0.00000000         & 0.00000000         & 0.00000000         & 0.015228746       \\\\\n",
       "\\end{tabular}\n"
      ],
      "text/markdown": [
       "\n",
       "| donor_id | pool_id | celltype | n_cells | AP006222.2 | RP11.206L10.9 | LINC00115 | FAM41C | RP11.54O7.1 | RP11.54O7.3 |\n",
       "|---|---|---|---|---|---|---|---|---|---|\n",
       "| HPSI0114i-bezi_3 | pool10           | DA               | 115              | 0.1983263        | 0.047601476      | 0.00000000       | 0.01811696       | 0.02295148       | 0.013092472      |\n",
       "| HPSI0114i-eipl_1 | pool1            | DA               |  51              | 0.2246863        | 0.000000000      | 0.01262993       | 0.04306599       | 0.02714102       | 0.010593234      |\n",
       "| HPSI0114i-kolf_2 | pool10           | DA               |  67              | 0.2350840        | 0.010203722      | 0.02535193       | 0.01097705       | 0.04569566       | 0.029663783      |\n",
       "| HPSI0114i-kolf_2 | pool12           | DA               | 182              | 0.1079344        | 0.004537755      | 0.01380603       | 0.01934709       | 0.00000000       | 0.006065263      |\n",
       "| HPSI0114i-lexy_2 | pool10           | DA               |  54              | 0.1927520        | 0.016040634      | 0.00000000       | 0.00000000       | 0.00000000       | 0.015228746      |\n",
       "\n"
      ],
      "text/plain": [
       "  donor_id         pool_id celltype n_cells AP006222.2 RP11.206L10.9 LINC00115 \n",
       "1 HPSI0114i-bezi_3 pool10  DA       115     0.1983263  0.047601476   0.00000000\n",
       "2 HPSI0114i-eipl_1 pool1   DA        51     0.2246863  0.000000000   0.01262993\n",
       "3 HPSI0114i-kolf_2 pool10  DA        67     0.2350840  0.010203722   0.02535193\n",
       "4 HPSI0114i-kolf_2 pool12  DA       182     0.1079344  0.004537755   0.01380603\n",
       "5 HPSI0114i-lexy_2 pool10  DA        54     0.1927520  0.016040634   0.00000000\n",
       "  FAM41C     RP11.54O7.1 RP11.54O7.3\n",
       "1 0.01811696 0.02295148  0.013092472\n",
       "2 0.04306599 0.02714102  0.010593234\n",
       "3 0.01097705 0.04569566  0.029663783\n",
       "4 0.01934709 0.00000000  0.006065263\n",
       "5 0.00000000 0.00000000  0.015228746"
      ]
     },
     "metadata": {},
     "output_type": "display_data"
    }
   ],
   "source": [
    "nrow(df)\n",
    "ncol(df)\n",
    "df[1:5,1:10]"
   ]
  },
  {
   "cell_type": "code",
   "execution_count": 15,
   "metadata": {},
   "outputs": [],
   "source": [
    "df = df[,colSums(is.na(df))==0]"
   ]
  },
  {
   "cell_type": "code",
   "execution_count": 16,
   "metadata": {},
   "outputs": [
    {
     "data": {
      "text/html": [
       "691"
      ],
      "text/latex": [
       "691"
      ],
      "text/markdown": [
       "691"
      ],
      "text/plain": [
       "[1] 691"
      ]
     },
     "metadata": {},
     "output_type": "display_data"
    },
    {
     "data": {
      "text/html": [
       "11497"
      ],
      "text/latex": [
       "11497"
      ],
      "text/markdown": [
       "11497"
      ],
      "text/plain": [
       "[1] 11497"
      ]
     },
     "metadata": {},
     "output_type": "display_data"
    },
    {
     "data": {
      "text/html": [
       "<table>\n",
       "<thead><tr><th scope=col>donor_id</th><th scope=col>pool_id</th><th scope=col>celltype</th><th scope=col>n_cells</th><th scope=col>AP006222.2</th><th scope=col>RP11.206L10.9</th><th scope=col>FAM41C</th><th scope=col>RP11.54O7.1</th><th scope=col>SAMD11</th><th scope=col>NOC2L</th></tr></thead>\n",
       "<tbody>\n",
       "\t<tr><td>HPSI0114i-bezi_3</td><td>pool10          </td><td>DA              </td><td>115             </td><td>0.1983263       </td><td>0.047601476     </td><td>0.01811696      </td><td>0.02295148      </td><td>0.5085698       </td><td>0.2852803       </td></tr>\n",
       "\t<tr><td>HPSI0114i-eipl_1</td><td>pool1           </td><td>DA              </td><td> 51             </td><td>0.2246863       </td><td>0.000000000     </td><td>0.04306599      </td><td>0.02714102      </td><td>0.3683892       </td><td>0.4796791       </td></tr>\n",
       "\t<tr><td>HPSI0114i-kolf_2</td><td>pool10          </td><td>DA              </td><td> 67             </td><td>0.2350840       </td><td>0.010203722     </td><td>0.01097705      </td><td>0.04569566      </td><td>0.4561152       </td><td>0.2426226       </td></tr>\n",
       "\t<tr><td>HPSI0114i-kolf_2</td><td>pool12          </td><td>DA              </td><td>182             </td><td>0.1079344       </td><td>0.004537755     </td><td>0.01934709      </td><td>0.00000000      </td><td>0.3240020       </td><td>0.2557466       </td></tr>\n",
       "\t<tr><td>HPSI0114i-lexy_2</td><td>pool10          </td><td>DA              </td><td> 54             </td><td>0.1927520       </td><td>0.016040634     </td><td>0.00000000      </td><td>0.00000000      </td><td>0.5482945       </td><td>0.3007463       </td></tr>\n",
       "</tbody>\n",
       "</table>\n"
      ],
      "text/latex": [
       "\\begin{tabular}{r|llllllllll}\n",
       " donor\\_id & pool\\_id & celltype & n\\_cells & AP006222.2 & RP11.206L10.9 & FAM41C & RP11.54O7.1 & SAMD11 & NOC2L\\\\\n",
       "\\hline\n",
       "\t HPSI0114i-bezi\\_3 & pool10             & DA                 & 115                & 0.1983263          & 0.047601476        & 0.01811696         & 0.02295148         & 0.5085698          & 0.2852803         \\\\\n",
       "\t HPSI0114i-eipl\\_1 & pool1              & DA                 &  51                & 0.2246863          & 0.000000000        & 0.04306599         & 0.02714102         & 0.3683892          & 0.4796791         \\\\\n",
       "\t HPSI0114i-kolf\\_2 & pool10             & DA                 &  67                & 0.2350840          & 0.010203722        & 0.01097705         & 0.04569566         & 0.4561152          & 0.2426226         \\\\\n",
       "\t HPSI0114i-kolf\\_2 & pool12             & DA                 & 182                & 0.1079344          & 0.004537755        & 0.01934709         & 0.00000000         & 0.3240020          & 0.2557466         \\\\\n",
       "\t HPSI0114i-lexy\\_2 & pool10             & DA                 &  54                & 0.1927520          & 0.016040634        & 0.00000000         & 0.00000000         & 0.5482945          & 0.3007463         \\\\\n",
       "\\end{tabular}\n"
      ],
      "text/markdown": [
       "\n",
       "| donor_id | pool_id | celltype | n_cells | AP006222.2 | RP11.206L10.9 | FAM41C | RP11.54O7.1 | SAMD11 | NOC2L |\n",
       "|---|---|---|---|---|---|---|---|---|---|\n",
       "| HPSI0114i-bezi_3 | pool10           | DA               | 115              | 0.1983263        | 0.047601476      | 0.01811696       | 0.02295148       | 0.5085698        | 0.2852803        |\n",
       "| HPSI0114i-eipl_1 | pool1            | DA               |  51              | 0.2246863        | 0.000000000      | 0.04306599       | 0.02714102       | 0.3683892        | 0.4796791        |\n",
       "| HPSI0114i-kolf_2 | pool10           | DA               |  67              | 0.2350840        | 0.010203722      | 0.01097705       | 0.04569566       | 0.4561152        | 0.2426226        |\n",
       "| HPSI0114i-kolf_2 | pool12           | DA               | 182              | 0.1079344        | 0.004537755      | 0.01934709       | 0.00000000       | 0.3240020        | 0.2557466        |\n",
       "| HPSI0114i-lexy_2 | pool10           | DA               |  54              | 0.1927520        | 0.016040634      | 0.00000000       | 0.00000000       | 0.5482945        | 0.3007463        |\n",
       "\n"
      ],
      "text/plain": [
       "  donor_id         pool_id celltype n_cells AP006222.2 RP11.206L10.9 FAM41C    \n",
       "1 HPSI0114i-bezi_3 pool10  DA       115     0.1983263  0.047601476   0.01811696\n",
       "2 HPSI0114i-eipl_1 pool1   DA        51     0.2246863  0.000000000   0.04306599\n",
       "3 HPSI0114i-kolf_2 pool10  DA        67     0.2350840  0.010203722   0.01097705\n",
       "4 HPSI0114i-kolf_2 pool12  DA       182     0.1079344  0.004537755   0.01934709\n",
       "5 HPSI0114i-lexy_2 pool10  DA        54     0.1927520  0.016040634   0.00000000\n",
       "  RP11.54O7.1 SAMD11    NOC2L    \n",
       "1 0.02295148  0.5085698 0.2852803\n",
       "2 0.02714102  0.3683892 0.4796791\n",
       "3 0.04569566  0.4561152 0.2426226\n",
       "4 0.00000000  0.3240020 0.2557466\n",
       "5 0.00000000  0.5482945 0.3007463"
      ]
     },
     "metadata": {},
     "output_type": "display_data"
    }
   ],
   "source": [
    "nrow(df)\n",
    "ncol(df)\n",
    "df[1:5,1:10]"
   ]
  },
  {
   "cell_type": "code",
   "execution_count": 17,
   "metadata": {},
   "outputs": [],
   "source": [
    "df_day30 = df\n",
    "write.csv(df_day30,\"/hps/nobackup/stegle/users/acuomo/all_scripts/sc_neuroseq/day30_pseudobulk_mean_groupedby_donor_pool_celltype.csv\")"
   ]
  },
  {
   "cell_type": "code",
   "execution_count": null,
   "metadata": {},
   "outputs": [],
   "source": []
  },
  {
   "cell_type": "code",
   "execution_count": 18,
   "metadata": {},
   "outputs": [],
   "source": [
    "# Day 52\n",
    "prefix = \"pool1_17_D52/pool1_17_D52.scanpy.w_metadata.w_celltype.scanpy.celltype.\"\n",
    "suffix = \".groupedby.donor_id-pool_id-celltype-treatment.mean.tsv\""
   ]
  },
  {
   "cell_type": "code",
   "execution_count": 19,
   "metadata": {},
   "outputs": [],
   "source": [
    "celltypes = c(\"DA\",\"Sert\",\"Epen1\",\"Astro\")"
   ]
  },
  {
   "cell_type": "code",
   "execution_count": 20,
   "metadata": {},
   "outputs": [],
   "source": [
    "df = data.frame()\n",
    "for (celltype in celltypes){\n",
    "    filename = paste0(mydir,prefix,celltype,suffix)\n",
    "    print(ncol(read.csv(filename, sep ='\\t')))\n",
    "    df = bind_rows(df,read.csv(filename, sep ='\\t'))\n",
    "    \n",
    "} "
   ]
  },
  {
   "cell_type": "code",
   "execution_count": null,
   "metadata": {},
   "outputs": [],
   "source": [
    "nrow(df)\n",
    "ncol(df)\n",
    "df[1:5,1:10]"
   ]
  },
  {
   "cell_type": "code",
   "execution_count": null,
   "metadata": {},
   "outputs": [],
   "source": [
    "df = df[,colSums(is.na(df))==0]"
   ]
  },
  {
   "cell_type": "code",
   "execution_count": null,
   "metadata": {},
   "outputs": [],
   "source": [
    "nrow(df)\n",
    "ncol(df)\n",
    "df[1:5,1:10]"
   ]
  },
  {
   "cell_type": "code",
   "execution_count": null,
   "metadata": {},
   "outputs": [],
   "source": [
    "df_day52 = df\n",
    "write.csv(df_day52, \"/hps/nobackup/stegle/users/acuomo/all_scripts/sc_neuroseq/day52_pseudobulk_mean_groupedby_donor_pool_celltype_treatment.csv\")"
   ]
  },
  {
   "cell_type": "code",
   "execution_count": null,
   "metadata": {},
   "outputs": [],
   "source": []
  },
  {
   "cell_type": "code",
   "execution_count": null,
   "metadata": {},
   "outputs": [],
   "source": [
    "genes_day11 = colnames(df_day11)[5:ncol(df_day11)]\n",
    "genes_day30 = colnames(df_day30)[5:ncol(df_day30)]\n",
    "genes_day52 = colnames(df_day52)[6:ncol(df_day52)]"
   ]
  },
  {
   "cell_type": "code",
   "execution_count": null,
   "metadata": {},
   "outputs": [],
   "source": [
    "genes1 = genes_day11[genes_day11 %in% genes_day30]\n",
    "common_genes = genes1[genes1 %in% genes_day52]\n",
    "length(common_genes)"
   ]
  },
  {
   "cell_type": "code",
   "execution_count": null,
   "metadata": {},
   "outputs": [],
   "source": []
  },
  {
   "cell_type": "code",
   "execution_count": null,
   "metadata": {},
   "outputs": [],
   "source": [
    "df_day11$time_point = 'Day11'\n",
    "df_day30$time_point = 'Day30'\n",
    "df_day52$time_point = 'Day52'\n",
    "df_day11$treatment = 'NONE'\n",
    "df_day30$treatment = 'NONE'\n",
    "common_cols = c(\"donor_id\",\"pool_id\",\"celltype\",\"treatment\",\"n_cells\",\"time_point\", common_genes)\n",
    "df_all = rbind(df_day11[,common_cols],\n",
    "               df_day30[,common_cols],\n",
    "               df_day52[,common_cols])"
   ]
  },
  {
   "cell_type": "code",
   "execution_count": null,
   "metadata": {},
   "outputs": [],
   "source": [
    "c(nrow(df_all), ncol(df_all))\n",
    "df_all[1:5,1:10]"
   ]
  },
  {
   "cell_type": "code",
   "execution_count": null,
   "metadata": {},
   "outputs": [],
   "source": []
  },
  {
   "cell_type": "code",
   "execution_count": null,
   "metadata": {},
   "outputs": [],
   "source": []
  },
  {
   "cell_type": "code",
   "execution_count": null,
   "metadata": {},
   "outputs": [],
   "source": [
    "library(lme4)"
   ]
  },
  {
   "cell_type": "code",
   "execution_count": null,
   "metadata": {},
   "outputs": [],
   "source": [
    "common_genes[1]"
   ]
  },
  {
   "cell_type": "code",
   "execution_count": null,
   "metadata": {},
   "outputs": [],
   "source": [
    "lmm <- lmer(AP006222.2 ~ (1 | donor_id) + (1 | pool_id) + (1 | celltype) + (1 | time_point) + (1 | treatment), \n",
    "            data = df_all, REML = F)"
   ]
  },
  {
   "cell_type": "code",
   "execution_count": null,
   "metadata": {},
   "outputs": [],
   "source": [
    "# summary(lmm)"
   ]
  },
  {
   "cell_type": "code",
   "execution_count": null,
   "metadata": {},
   "outputs": [],
   "source": [
    "donor = summary(lmm)$varcor$donor_id[1,1]\n",
    "pool = summary(lmm)$varcor$pool_id[1,1]\n",
    "celltype = summary(lmm)$varcor$celltype[1,1]\n",
    "time_point = summary(lmm)$varcor$time_point[1,1]\n",
    "treatment = summary(lmm)$varcor$treatment[1,1]\n",
    "residual = summary(lmm)$sigma **2\n",
    "sum = donor+pool+celltype+time_point+treatment+residual"
   ]
  },
  {
   "cell_type": "code",
   "execution_count": null,
   "metadata": {},
   "outputs": [],
   "source": [
    "library(ggplot2)"
   ]
  },
  {
   "cell_type": "code",
   "execution_count": null,
   "metadata": {},
   "outputs": [],
   "source": [
    "options(repr.plot.width = 10, repr.plot.height = 5)\n",
    "df = data.frame(component = c(\"donor\",\"pool\",\"celltype\",\"time_point\",\"treatment\",\"z_residual\"),\n",
    "               variance = c(donor/sum, pool/sum, celltype/sum, time_point/sum, treatment/sum, residual/sum))\n",
    "p = ggplot(df, aes(x = component, y = variance*100, fill = component)) + geom_bar(stat=\"identity\")\n",
    "p + xlab(\"\") + ylab(\"% variance explained\")"
   ]
  },
  {
   "cell_type": "code",
   "execution_count": null,
   "metadata": {},
   "outputs": [],
   "source": [
    "mat = matrix(0,nrow=length(common_genes),ncol = 6)\n",
    "k = 0\n",
    "for (gene in common_genes){\n",
    "    k = k+1\n",
    "    df = df_all[,c(\"donor_id\",\"pool_id\",\"celltype\",\"treatment\",\"n_cells\",\"time_point\", gene)]\n",
    "    colnames(df)[7] = \"gene\"\n",
    "    lmm <- lmer(gene ~ (1 | donor_id) + (1 | pool_id) + (1 | celltype) + (1 | time_point) + (1 | treatment), \n",
    "            data = df, REML = F)\n",
    "    donor = summary(lmm)$varcor$donor_id[1,1]\n",
    "    pool = summary(lmm)$varcor$pool_id[1,1]\n",
    "    celltype = summary(lmm)$varcor$celltype[1,1]\n",
    "    time_point = summary(lmm)$varcor$time_point[1,1]\n",
    "    treatment = summary(lmm)$varcor$treatment[1,1]\n",
    "    residual = summary(lmm)$sigma **2\n",
    "    sum = donor+pool+celltype+time_point+treatment+residual\n",
    "    mat[k,] = c(donor, pool, celltype, time_point, treatment, residual)/sum\n",
    "#     print(mat[k,])\n",
    "}"
   ]
  },
  {
   "cell_type": "code",
   "execution_count": null,
   "metadata": {
    "scrolled": true
   },
   "outputs": [],
   "source": [
    "# mat1 = mat[1:100,]\n",
    "mat1 = mat"
   ]
  },
  {
   "cell_type": "code",
   "execution_count": null,
   "metadata": {},
   "outputs": [],
   "source": [
    "df1 = as.data.frame(mat1)\n",
    "colnames(df1) = c(c(\"donor_id\",\"pool_id\",\"celltype\",\"treatment\",\"time_point\",\"z_res\"))\n",
    "rownames(df1) = common_genes#[1:100]\n",
    "head(df1)"
   ]
  },
  {
   "cell_type": "code",
   "execution_count": 127,
   "metadata": {},
   "outputs": [],
   "source": [
    "write.csv(df1, \"/hps/nobackup/stegle/users/acuomo/all_scripts/sc_neuroseq/variance_component_analysis.csv\")"
   ]
  },
  {
   "cell_type": "code",
   "execution_count": 22,
   "metadata": {},
   "outputs": [
    {
     "data": {
      "text/html": [
       "<table>\n",
       "<thead><tr><th></th><th scope=col>donor_id</th><th scope=col>pool_id</th><th scope=col>celltype</th><th scope=col>treatment</th><th scope=col>time_point</th><th scope=col>z_res</th></tr></thead>\n",
       "<tbody>\n",
       "\t<tr><th scope=row>AP006222.2</th><td>0.048853123 </td><td>0.04792794  </td><td>0.35412641  </td><td>0.046909433 </td><td>0.0185389068</td><td>0.4836442   </td></tr>\n",
       "\t<tr><th scope=row>NOC2L</th><td>0.001083453 </td><td>0.21679576  </td><td>0.14916837  </td><td>0.008406566 </td><td>0.0444217226</td><td>0.5801241   </td></tr>\n",
       "\t<tr><th scope=row>HES4</th><td>0.040373640 </td><td>0.03741172  </td><td>0.20091495  </td><td>0.508110133 </td><td>0.0000000000</td><td>0.2131896   </td></tr>\n",
       "\t<tr><th scope=row>ISG15</th><td>0.000000000 </td><td>0.43428255  </td><td>0.09088925  </td><td>0.107749475 </td><td>0.0327067581</td><td>0.3343720   </td></tr>\n",
       "\t<tr><th scope=row>AGRN</th><td>0.036769395 </td><td>0.07400895  </td><td>0.08687284  </td><td>0.118191507 </td><td>0.0027135501</td><td>0.6814438   </td></tr>\n",
       "\t<tr><th scope=row>SDF4</th><td>0.005659288 </td><td>0.13935561  </td><td>0.30161674  </td><td>0.344838695 </td><td>0.0005513193</td><td>0.2079783   </td></tr>\n",
       "</tbody>\n",
       "</table>\n"
      ],
      "text/latex": [
       "\\begin{tabular}{r|llllll}\n",
       "  & donor\\_id & pool\\_id & celltype & treatment & time\\_point & z\\_res\\\\\n",
       "\\hline\n",
       "\tAP006222.2 & 0.048853123  & 0.04792794   & 0.35412641   & 0.046909433  & 0.0185389068 & 0.4836442   \\\\\n",
       "\tNOC2L & 0.001083453  & 0.21679576   & 0.14916837   & 0.008406566  & 0.0444217226 & 0.5801241   \\\\\n",
       "\tHES4 & 0.040373640  & 0.03741172   & 0.20091495   & 0.508110133  & 0.0000000000 & 0.2131896   \\\\\n",
       "\tISG15 & 0.000000000  & 0.43428255   & 0.09088925   & 0.107749475  & 0.0327067581 & 0.3343720   \\\\\n",
       "\tAGRN & 0.036769395  & 0.07400895   & 0.08687284   & 0.118191507  & 0.0027135501 & 0.6814438   \\\\\n",
       "\tSDF4 & 0.005659288  & 0.13935561   & 0.30161674   & 0.344838695  & 0.0005513193 & 0.2079783   \\\\\n",
       "\\end{tabular}\n"
      ],
      "text/markdown": [
       "\n",
       "| <!--/--> | donor_id | pool_id | celltype | treatment | time_point | z_res |\n",
       "|---|---|---|---|---|---|---|\n",
       "| AP006222.2 | 0.048853123  | 0.04792794   | 0.35412641   | 0.046909433  | 0.0185389068 | 0.4836442    |\n",
       "| NOC2L | 0.001083453  | 0.21679576   | 0.14916837   | 0.008406566  | 0.0444217226 | 0.5801241    |\n",
       "| HES4 | 0.040373640  | 0.03741172   | 0.20091495   | 0.508110133  | 0.0000000000 | 0.2131896    |\n",
       "| ISG15 | 0.000000000  | 0.43428255   | 0.09088925   | 0.107749475  | 0.0327067581 | 0.3343720    |\n",
       "| AGRN | 0.036769395  | 0.07400895   | 0.08687284   | 0.118191507  | 0.0027135501 | 0.6814438    |\n",
       "| SDF4 | 0.005659288  | 0.13935561   | 0.30161674   | 0.344838695  | 0.0005513193 | 0.2079783    |\n",
       "\n"
      ],
      "text/plain": [
       "           donor_id    pool_id    celltype   treatment   time_point   z_res    \n",
       "AP006222.2 0.048853123 0.04792794 0.35412641 0.046909433 0.0185389068 0.4836442\n",
       "NOC2L      0.001083453 0.21679576 0.14916837 0.008406566 0.0444217226 0.5801241\n",
       "HES4       0.040373640 0.03741172 0.20091495 0.508110133 0.0000000000 0.2131896\n",
       "ISG15      0.000000000 0.43428255 0.09088925 0.107749475 0.0327067581 0.3343720\n",
       "AGRN       0.036769395 0.07400895 0.08687284 0.118191507 0.0027135501 0.6814438\n",
       "SDF4       0.005659288 0.13935561 0.30161674 0.344838695 0.0005513193 0.2079783"
      ]
     },
     "metadata": {},
     "output_type": "display_data"
    }
   ],
   "source": [
    "df1 = read.csv(\"/hps/nobackup/stegle/users/acuomo/all_scripts/sc_neuroseq/variance_component_analysis.csv\", row.names = 1)\n",
    "head(df1)"
   ]
  },
  {
   "cell_type": "code",
   "execution_count": 28,
   "metadata": {},
   "outputs": [],
   "source": [
    "library(reshape)"
   ]
  },
  {
   "cell_type": "code",
   "execution_count": 24,
   "metadata": {},
   "outputs": [
    {
     "name": "stderr",
     "output_type": "stream",
     "text": [
      "Using  as id variables\n"
     ]
    },
    {
     "data": {
      "text/html": [
       "<table>\n",
       "<thead><tr><th scope=col>variable</th><th scope=col>value</th></tr></thead>\n",
       "<tbody>\n",
       "\t<tr><td>donor_id   </td><td>0.048853123</td></tr>\n",
       "\t<tr><td>donor_id   </td><td>0.001083453</td></tr>\n",
       "\t<tr><td>donor_id   </td><td>0.040373640</td></tr>\n",
       "\t<tr><td>donor_id   </td><td>0.000000000</td></tr>\n",
       "\t<tr><td>donor_id   </td><td>0.036769395</td></tr>\n",
       "\t<tr><td>donor_id   </td><td>0.005659288</td></tr>\n",
       "</tbody>\n",
       "</table>\n"
      ],
      "text/latex": [
       "\\begin{tabular}{r|ll}\n",
       " variable & value\\\\\n",
       "\\hline\n",
       "\t donor\\_id  & 0.048853123\\\\\n",
       "\t donor\\_id  & 0.001083453\\\\\n",
       "\t donor\\_id  & 0.040373640\\\\\n",
       "\t donor\\_id  & 0.000000000\\\\\n",
       "\t donor\\_id  & 0.036769395\\\\\n",
       "\t donor\\_id  & 0.005659288\\\\\n",
       "\\end{tabular}\n"
      ],
      "text/markdown": [
       "\n",
       "| variable | value |\n",
       "|---|---|\n",
       "| donor_id    | 0.048853123 |\n",
       "| donor_id    | 0.001083453 |\n",
       "| donor_id    | 0.040373640 |\n",
       "| donor_id    | 0.000000000 |\n",
       "| donor_id    | 0.036769395 |\n",
       "| donor_id    | 0.005659288 |\n",
       "\n"
      ],
      "text/plain": [
       "  variable value      \n",
       "1 donor_id 0.048853123\n",
       "2 donor_id 0.001083453\n",
       "3 donor_id 0.040373640\n",
       "4 donor_id 0.000000000\n",
       "5 donor_id 0.036769395\n",
       "6 donor_id 0.005659288"
      ]
     },
     "metadata": {},
     "output_type": "display_data"
    }
   ],
   "source": [
    "df2 = melt(df1)\n",
    "head(df2)"
   ]
  },
  {
   "cell_type": "code",
   "execution_count": 27,
   "metadata": {},
   "outputs": [],
   "source": [
    "library(ggplot2)"
   ]
  },
  {
   "cell_type": "code",
   "execution_count": 40,
   "metadata": {},
   "outputs": [
    {
     "data": {
      "image/png": "[encoded data removed]",
      "text/plain": [
       "plot without title"
      ]
     },
     "metadata": {},
     "output_type": "display_data"
    }
   ],
   "source": [
    "options(repr.plot.width = 10, repr.plot.height = 4)\n",
    "ggplot(df2, aes(x = variable, y = value, colour = variable)) + geom_violin() + geom_boxplot(width = 0.15) + \n",
    "    theme_bw() + \n",
    "    xlab(\"\") + ylab(\"Proportion of variance explained\") + \n",
    "    theme(legend.position = \"none\", axis.text.x = element_text(angle = 90, hjust = 1, size = 11)) +\n",
    "    scale_x_discrete(labels = c(\"Donor/Line\",\"Pool\",\"Cell type\",\"Treatment\",\"Time point\",\"Residual\")) "
   ]
  },
  {
   "cell_type": "code",
   "execution_count": null,
   "metadata": {},
   "outputs": [],
   "source": []
  },
  {
   "cell_type": "code",
   "execution_count": null,
   "metadata": {},
   "outputs": [],
   "source": []
  },
  {
   "cell_type": "code",
   "execution_count": 99,
   "metadata": {},
   "outputs": [
    {
     "data": {
      "image/png": "[encoded data removed]",
      "text/plain": [
       "plot without title"
      ]
     },
     "metadata": {},
     "output_type": "display_data"
    }
   ],
   "source": [
    "df = data.frame(component = c(\"donor_id\",\"pool_id\",\"celltype\",\"treatment\",\"time_point\",\"z_res\"),\n",
    "                variance = mat[k,])\n",
    "p = ggplot(df, aes(x = component, y = variance*100, fill = component)) + geom_bar(stat=\"identity\")\n",
    "p + xlab(\"\") + ylab(\"% variance explained\")"
   ]
  },
  {
   "cell_type": "code",
   "execution_count": null,
   "metadata": {},
   "outputs": [],
   "source": []
  }
 ],
 "metadata": {
  "kernelspec": {
   "display_name": "R",
   "language": "R",
   "name": "ir"
  },
  "language_info": {
   "codemirror_mode": "r",
   "file_extension": ".r",
   "mimetype": "text/x-r-source",
   "name": "R",
   "pygments_lexer": "r",
   "version": "3.6.1"
  }
 },
 "nbformat": 4,
 "nbformat_minor": 4
}
