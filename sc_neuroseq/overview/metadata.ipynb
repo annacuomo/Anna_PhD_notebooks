{
 "cells": [
  {
   "cell_type": "code",
   "execution_count": 1,
   "metadata": {},
   "outputs": [
    {
     "data": {
      "text/html": [
       "<table>\n",
       "<thead><tr><th></th><th scope=col>Gender</th><th scope=col>Age</th><th scope=col>feederfree</th><th scope=col>origin_cell</th><th scope=col>reprogramming_method</th></tr></thead>\n",
       "<tbody>\n",
       "\t<tr><th scope=row>HPSI0115i-tiku_3</th><td>male      </td><td>60-64     </td><td>y         </td><td>fibroblast</td><td>sendai    </td></tr>\n",
       "\t<tr><th scope=row>HPSI0115i-jotn_2</th><td>male      </td><td>55-59     </td><td>y         </td><td>fibroblast</td><td>sendai    </td></tr>\n",
       "\t<tr><th scope=row>HPSI0115i-pitg_2</th><td>female    </td><td>50-54     </td><td>y         </td><td>fibroblast</td><td>sendai    </td></tr>\n",
       "\t<tr><th scope=row>HPSI0115i-qecv_2</th><td>female    </td><td>35-39     </td><td>y         </td><td>fibroblast</td><td>sendai    </td></tr>\n",
       "\t<tr><th scope=row>HPSI0314i-uict_1</th><td>female    </td><td>65-69     </td><td>y         </td><td>fibroblast</td><td>sendai    </td></tr>\n",
       "\t<tr><th scope=row>HPSI0514i-sohd_2</th><td>female    </td><td>70-74     </td><td>y         </td><td>fibroblast</td><td>sendai    </td></tr>\n",
       "</tbody>\n",
       "</table>\n"
      ],
      "text/latex": [
       "\\begin{tabular}{r|lllll}\n",
       "  & Gender & Age & feederfree & origin\\_cell & reprogramming\\_method\\\\\n",
       "\\hline\n",
       "\tHPSI0115i-tiku\\_3 & male       & 60-64      & y          & fibroblast & sendai    \\\\\n",
       "\tHPSI0115i-jotn\\_2 & male       & 55-59      & y          & fibroblast & sendai    \\\\\n",
       "\tHPSI0115i-pitg\\_2 & female     & 50-54      & y          & fibroblast & sendai    \\\\\n",
       "\tHPSI0115i-qecv\\_2 & female     & 35-39      & y          & fibroblast & sendai    \\\\\n",
       "\tHPSI0314i-uict\\_1 & female     & 65-69      & y          & fibroblast & sendai    \\\\\n",
       "\tHPSI0514i-sohd\\_2 & female     & 70-74      & y          & fibroblast & sendai    \\\\\n",
       "\\end{tabular}\n"
      ],
      "text/markdown": [
       "\n",
       "| <!--/--> | Gender | Age | feederfree | origin_cell | reprogramming_method |\n",
       "|---|---|---|---|---|---|\n",
       "| HPSI0115i-tiku_3 | male       | 60-64      | y          | fibroblast | sendai     |\n",
       "| HPSI0115i-jotn_2 | male       | 55-59      | y          | fibroblast | sendai     |\n",
       "| HPSI0115i-pitg_2 | female     | 50-54      | y          | fibroblast | sendai     |\n",
       "| HPSI0115i-qecv_2 | female     | 35-39      | y          | fibroblast | sendai     |\n",
       "| HPSI0314i-uict_1 | female     | 65-69      | y          | fibroblast | sendai     |\n",
       "| HPSI0514i-sohd_2 | female     | 70-74      | y          | fibroblast | sendai     |\n",
       "\n"
      ],
      "text/plain": [
       "                 Gender Age   feederfree origin_cell reprogramming_method\n",
       "HPSI0115i-tiku_3 male   60-64 y          fibroblast  sendai              \n",
       "HPSI0115i-jotn_2 male   55-59 y          fibroblast  sendai              \n",
       "HPSI0115i-pitg_2 female 50-54 y          fibroblast  sendai              \n",
       "HPSI0115i-qecv_2 female 35-39 y          fibroblast  sendai              \n",
       "HPSI0314i-uict_1 female 65-69 y          fibroblast  sendai              \n",
       "HPSI0514i-sohd_2 female 70-74 y          fibroblast  sendai              "
      ]
     },
     "metadata": {},
     "output_type": "display_data"
    }
   ],
   "source": [
    "meta_filename = \"/hps/nobackup/stegle/users/acuomo/all_scripts/sc_neuroseq/metadata_all_lines.csv\"\n",
    "meta = read.csv(meta_filename, row.names = 1)\n",
    "# meta$reprogramming_method = 'sendai'\n",
    "# head(meta)\n",
    "# meta$origin_cell = 'fibroblast'\n",
    "# rownames(meta) = meta$donor_id\n",
    "tail(meta[,c(\"Gender\",\"Age\",\"feederfree\",\"origin_cell\",\"reprogramming_method\")])\n",
    "# write.csv(meta, meta_filename)"
   ]
  },
  {
   "cell_type": "code",
   "execution_count": 2,
   "metadata": {},
   "outputs": [
    {
     "data": {
      "text/html": [
       "<table>\n",
       "<thead><tr><th></th><th scope=col>donor_id</th><th scope=col>Gender</th><th scope=col>Age</th><th scope=col>feederfree</th><th scope=col>min_age</th><th scope=col>max_age</th><th scope=col>avg_age</th><th scope=col>origin_cell</th><th scope=col>reprogramming_method</th></tr></thead>\n",
       "<tbody>\n",
       "\t<tr><th scope=row>HPSI0813i-ffdc_1</th><td>HPSI0813i-ffdc_1 </td><td>male             </td><td>40-44            </td><td>n                </td><td>40               </td><td>44               </td><td>42               </td><td>fibroblast       </td><td>sendai           </td></tr>\n",
       "\t<tr><th scope=row>HPSI0213i-nawk_55</th><td>HPSI0213i-nawk_55</td><td>male             </td><td>                 </td><td>y                </td><td>NA               </td><td>NA               </td><td>NA               </td><td>fibroblast       </td><td>sendai           </td></tr>\n",
       "\t<tr><th scope=row>HPSI0513i-uoxz_4</th><td>HPSI0513i-uoxz_4 </td><td>female           </td><td>                 </td><td>n                </td><td>NA               </td><td>NA               </td><td>NA               </td><td>fibroblast       </td><td>sendai           </td></tr>\n",
       "\t<tr><th scope=row>HPSI0513i-veve_2</th><td>HPSI0513i-veve_2 </td><td>female           </td><td>                 </td><td>n                </td><td>NA               </td><td>NA               </td><td>NA               </td><td>fibroblast       </td><td>sendai           </td></tr>\n",
       "\t<tr><th scope=row>HPSI0413i-peop_4</th><td>HPSI0413i-peop_4 </td><td>male             </td><td>                 </td><td>y                </td><td>NA               </td><td>NA               </td><td>NA               </td><td>fibroblast       </td><td>sendai           </td></tr>\n",
       "\t<tr><th scope=row>HPSI0613i-hikj_2</th><td>HPSI0613i-hikj_2 </td><td>male             </td><td>                 </td><td>n                </td><td>NA               </td><td>NA               </td><td>NA               </td><td>fibroblast       </td><td>sendai           </td></tr>\n",
       "</tbody>\n",
       "</table>\n"
      ],
      "text/latex": [
       "\\begin{tabular}{r|lllllllll}\n",
       "  & donor\\_id & Gender & Age & feederfree & min\\_age & max\\_age & avg\\_age & origin\\_cell & reprogramming\\_method\\\\\n",
       "\\hline\n",
       "\tHPSI0813i-ffdc\\_1 & HPSI0813i-ffdc\\_1  & male                & 40-44               & n                   & 40                  & 44                  & 42                  & fibroblast          & sendai             \\\\\n",
       "\tHPSI0213i-nawk\\_55 & HPSI0213i-nawk\\_55 & male                &                     & y                   & NA                  & NA                  & NA                  & fibroblast          & sendai             \\\\\n",
       "\tHPSI0513i-uoxz\\_4 & HPSI0513i-uoxz\\_4  & female              &                     & n                   & NA                  & NA                  & NA                  & fibroblast          & sendai             \\\\\n",
       "\tHPSI0513i-veve\\_2 & HPSI0513i-veve\\_2  & female              &                     & n                   & NA                  & NA                  & NA                  & fibroblast          & sendai             \\\\\n",
       "\tHPSI0413i-peop\\_4 & HPSI0413i-peop\\_4  & male                &                     & y                   & NA                  & NA                  & NA                  & fibroblast          & sendai             \\\\\n",
       "\tHPSI0613i-hikj\\_2 & HPSI0613i-hikj\\_2  & male                &                     & n                   & NA                  & NA                  & NA                  & fibroblast          & sendai             \\\\\n",
       "\\end{tabular}\n"
      ],
      "text/markdown": [
       "\n",
       "| <!--/--> | donor_id | Gender | Age | feederfree | min_age | max_age | avg_age | origin_cell | reprogramming_method |\n",
       "|---|---|---|---|---|---|---|---|---|---|\n",
       "| HPSI0813i-ffdc_1 | HPSI0813i-ffdc_1  | male              | 40-44             | n                 | 40                | 44                | 42                | fibroblast        | sendai            |\n",
       "| HPSI0213i-nawk_55 | HPSI0213i-nawk_55 | male              |                   | y                 | NA                | NA                | NA                | fibroblast        | sendai            |\n",
       "| HPSI0513i-uoxz_4 | HPSI0513i-uoxz_4  | female            |                   | n                 | NA                | NA                | NA                | fibroblast        | sendai            |\n",
       "| HPSI0513i-veve_2 | HPSI0513i-veve_2  | female            |                   | n                 | NA                | NA                | NA                | fibroblast        | sendai            |\n",
       "| HPSI0413i-peop_4 | HPSI0413i-peop_4  | male              |                   | y                 | NA                | NA                | NA                | fibroblast        | sendai            |\n",
       "| HPSI0613i-hikj_2 | HPSI0613i-hikj_2  | male              |                   | n                 | NA                | NA                | NA                | fibroblast        | sendai            |\n",
       "\n"
      ],
      "text/plain": [
       "                  donor_id          Gender Age   feederfree min_age max_age\n",
       "HPSI0813i-ffdc_1  HPSI0813i-ffdc_1  male   40-44 n          40      44     \n",
       "HPSI0213i-nawk_55 HPSI0213i-nawk_55 male         y          NA      NA     \n",
       "HPSI0513i-uoxz_4  HPSI0513i-uoxz_4  female       n          NA      NA     \n",
       "HPSI0513i-veve_2  HPSI0513i-veve_2  female       n          NA      NA     \n",
       "HPSI0413i-peop_4  HPSI0413i-peop_4  male         y          NA      NA     \n",
       "HPSI0613i-hikj_2  HPSI0613i-hikj_2  male         n          NA      NA     \n",
       "                  avg_age origin_cell reprogramming_method\n",
       "HPSI0813i-ffdc_1  42      fibroblast  sendai              \n",
       "HPSI0213i-nawk_55 NA      fibroblast  sendai              \n",
       "HPSI0513i-uoxz_4  NA      fibroblast  sendai              \n",
       "HPSI0513i-veve_2  NA      fibroblast  sendai              \n",
       "HPSI0413i-peop_4  NA      fibroblast  sendai              \n",
       "HPSI0613i-hikj_2  NA      fibroblast  sendai              "
      ]
     },
     "metadata": {},
     "output_type": "display_data"
    }
   ],
   "source": [
    "head(meta)"
   ]
  },
  {
   "cell_type": "code",
   "execution_count": 3,
   "metadata": {},
   "outputs": [
    {
     "data": {
      "text/html": [
       "<table>\n",
       "<thead><tr><th scope=col>CellLine</th><th scope=col>Pool</th><th scope=col>P.Thaw</th><th scope=col>P.Pool</th><th scope=col>X.Pthaw_Pool</th><th scope=col>Harvest_Confluency</th><th scope=col>diff_efficiency</th><th scope=col>category</th></tr></thead>\n",
       "<tbody>\n",
       "\t<tr><td>paab_3    </td><td>18        </td><td>22        </td><td>26        </td><td>4         </td><td>50        </td><td>0.00000000</td><td>bad       </td></tr>\n",
       "\t<tr><td>paab_3    </td><td> 5        </td><td>22        </td><td>25        </td><td>3         </td><td>NA        </td><td>0.00000000</td><td>bad       </td></tr>\n",
       "\t<tr><td>uofv_1    </td><td>13        </td><td>53        </td><td>55        </td><td>2         </td><td>NA        </td><td>0.00000000</td><td>bad       </td></tr>\n",
       "\t<tr><td>mita_1    </td><td> 6        </td><td>53        </td><td>56        </td><td>3         </td><td>NA        </td><td>0.01192354</td><td>bad       </td></tr>\n",
       "\t<tr><td>eipl_1    </td><td> 1        </td><td>38        </td><td>42        </td><td>4         </td><td>80        </td><td>0.01287835</td><td>bad       </td></tr>\n",
       "\t<tr><td>boss_1    </td><td>13        </td><td>26        </td><td>29        </td><td>3         </td><td>NA        </td><td>0.01419878</td><td>bad       </td></tr>\n",
       "</tbody>\n",
       "</table>\n"
      ],
      "text/latex": [
       "\\begin{tabular}{r|llllllll}\n",
       " CellLine & Pool & P.Thaw & P.Pool & X.Pthaw\\_Pool & Harvest\\_Confluency & diff\\_efficiency & category\\\\\n",
       "\\hline\n",
       "\t paab\\_3   & 18         & 22         & 26         & 4          & 50         & 0.00000000 & bad       \\\\\n",
       "\t paab\\_3   &  5         & 22         & 25         & 3          & NA         & 0.00000000 & bad       \\\\\n",
       "\t uofv\\_1   & 13         & 53         & 55         & 2          & NA         & 0.00000000 & bad       \\\\\n",
       "\t mita\\_1   &  6         & 53         & 56         & 3          & NA         & 0.01192354 & bad       \\\\\n",
       "\t eipl\\_1   &  1         & 38         & 42         & 4          & 80         & 0.01287835 & bad       \\\\\n",
       "\t boss\\_1   & 13         & 26         & 29         & 3          & NA         & 0.01419878 & bad       \\\\\n",
       "\\end{tabular}\n"
      ],
      "text/markdown": [
       "\n",
       "| CellLine | Pool | P.Thaw | P.Pool | X.Pthaw_Pool | Harvest_Confluency | diff_efficiency | category |\n",
       "|---|---|---|---|---|---|---|---|\n",
       "| paab_3     | 18         | 22         | 26         | 4          | 50         | 0.00000000 | bad        |\n",
       "| paab_3     |  5         | 22         | 25         | 3          | NA         | 0.00000000 | bad        |\n",
       "| uofv_1     | 13         | 53         | 55         | 2          | NA         | 0.00000000 | bad        |\n",
       "| mita_1     |  6         | 53         | 56         | 3          | NA         | 0.01192354 | bad        |\n",
       "| eipl_1     |  1         | 38         | 42         | 4          | 80         | 0.01287835 | bad        |\n",
       "| boss_1     | 13         | 26         | 29         | 3          | NA         | 0.01419878 | bad        |\n",
       "\n"
      ],
      "text/plain": [
       "  CellLine Pool P.Thaw P.Pool X.Pthaw_Pool Harvest_Confluency diff_efficiency\n",
       "1 paab_3   18   22     26     4            50                 0.00000000     \n",
       "2 paab_3    5   22     25     3            NA                 0.00000000     \n",
       "3 uofv_1   13   53     55     2            NA                 0.00000000     \n",
       "4 mita_1    6   53     56     3            NA                 0.01192354     \n",
       "5 eipl_1    1   38     42     4            80                 0.01287835     \n",
       "6 boss_1   13   26     29     3            NA                 0.01419878     \n",
       "  category\n",
       "1 bad     \n",
       "2 bad     \n",
       "3 bad     \n",
       "4 bad     \n",
       "5 bad     \n",
       "6 bad     "
      ]
     },
     "metadata": {},
     "output_type": "display_data"
    }
   ],
   "source": [
    "passage_filename = \"/hps/nobackup/stegle/users/acuomo/all_scripts/sc_neuroseq/CellLine_efficiency&Passages.csv\"\n",
    "passage = read.csv(passage_filename)\n",
    "head(passage)"
   ]
  },
  {
   "cell_type": "code",
   "execution_count": 4,
   "metadata": {},
   "outputs": [
    {
     "data": {
      "text/html": [
       "215"
      ],
      "text/latex": [
       "215"
      ],
      "text/markdown": [
       "215"
      ],
      "text/plain": [
       "[1] 215"
      ]
     },
     "metadata": {},
     "output_type": "display_data"
    },
    {
     "data": {
      "text/html": [
       "<table>\n",
       "<thead><tr><th></th><th scope=col>donor_id</th><th scope=col>Gender</th><th scope=col>Age</th><th scope=col>feederfree</th><th scope=col>min_age</th><th scope=col>max_age</th><th scope=col>avg_age</th><th scope=col>origin_cell</th><th scope=col>reprogramming_method</th><th scope=col>cell_line</th></tr></thead>\n",
       "<tbody>\n",
       "\t<tr><th scope=row>HPSI0813i-ffdc_1</th><td>HPSI0813i-ffdc_1 </td><td>male             </td><td>40-44            </td><td>n                </td><td>40               </td><td>44               </td><td>42               </td><td>fibroblast       </td><td>sendai           </td><td>ffdc_1           </td></tr>\n",
       "\t<tr><th scope=row>HPSI0213i-nawk_55</th><td>HPSI0213i-nawk_55</td><td>male             </td><td>                 </td><td>y                </td><td>NA               </td><td>NA               </td><td>NA               </td><td>fibroblast       </td><td>sendai           </td><td>nawk_55          </td></tr>\n",
       "\t<tr><th scope=row>HPSI0513i-uoxz_4</th><td>HPSI0513i-uoxz_4 </td><td>female           </td><td>                 </td><td>n                </td><td>NA               </td><td>NA               </td><td>NA               </td><td>fibroblast       </td><td>sendai           </td><td>uoxz_4           </td></tr>\n",
       "\t<tr><th scope=row>HPSI0513i-veve_2</th><td>HPSI0513i-veve_2 </td><td>female           </td><td>                 </td><td>n                </td><td>NA               </td><td>NA               </td><td>NA               </td><td>fibroblast       </td><td>sendai           </td><td>veve_2           </td></tr>\n",
       "\t<tr><th scope=row>HPSI0413i-peop_4</th><td>HPSI0413i-peop_4 </td><td>male             </td><td>                 </td><td>y                </td><td>NA               </td><td>NA               </td><td>NA               </td><td>fibroblast       </td><td>sendai           </td><td>peop_4           </td></tr>\n",
       "\t<tr><th scope=row>HPSI0613i-hikj_2</th><td>HPSI0613i-hikj_2 </td><td>male             </td><td>                 </td><td>n                </td><td>NA               </td><td>NA               </td><td>NA               </td><td>fibroblast       </td><td>sendai           </td><td>hikj_2           </td></tr>\n",
       "</tbody>\n",
       "</table>\n"
      ],
      "text/latex": [
       "\\begin{tabular}{r|llllllllll}\n",
       "  & donor\\_id & Gender & Age & feederfree & min\\_age & max\\_age & avg\\_age & origin\\_cell & reprogramming\\_method & cell\\_line\\\\\n",
       "\\hline\n",
       "\tHPSI0813i-ffdc\\_1 & HPSI0813i-ffdc\\_1  & male                & 40-44               & n                   & 40                  & 44                  & 42                  & fibroblast          & sendai              & ffdc\\_1           \\\\\n",
       "\tHPSI0213i-nawk\\_55 & HPSI0213i-nawk\\_55 & male                &                     & y                   & NA                  & NA                  & NA                  & fibroblast          & sendai              & nawk\\_55          \\\\\n",
       "\tHPSI0513i-uoxz\\_4 & HPSI0513i-uoxz\\_4  & female              &                     & n                   & NA                  & NA                  & NA                  & fibroblast          & sendai              & uoxz\\_4           \\\\\n",
       "\tHPSI0513i-veve\\_2 & HPSI0513i-veve\\_2  & female              &                     & n                   & NA                  & NA                  & NA                  & fibroblast          & sendai              & veve\\_2           \\\\\n",
       "\tHPSI0413i-peop\\_4 & HPSI0413i-peop\\_4  & male                &                     & y                   & NA                  & NA                  & NA                  & fibroblast          & sendai              & peop\\_4           \\\\\n",
       "\tHPSI0613i-hikj\\_2 & HPSI0613i-hikj\\_2  & male                &                     & n                   & NA                  & NA                  & NA                  & fibroblast          & sendai              & hikj\\_2           \\\\\n",
       "\\end{tabular}\n"
      ],
      "text/markdown": [
       "\n",
       "| <!--/--> | donor_id | Gender | Age | feederfree | min_age | max_age | avg_age | origin_cell | reprogramming_method | cell_line |\n",
       "|---|---|---|---|---|---|---|---|---|---|---|\n",
       "| HPSI0813i-ffdc_1 | HPSI0813i-ffdc_1  | male              | 40-44             | n                 | 40                | 44                | 42                | fibroblast        | sendai            | ffdc_1            |\n",
       "| HPSI0213i-nawk_55 | HPSI0213i-nawk_55 | male              |                   | y                 | NA                | NA                | NA                | fibroblast        | sendai            | nawk_55           |\n",
       "| HPSI0513i-uoxz_4 | HPSI0513i-uoxz_4  | female            |                   | n                 | NA                | NA                | NA                | fibroblast        | sendai            | uoxz_4            |\n",
       "| HPSI0513i-veve_2 | HPSI0513i-veve_2  | female            |                   | n                 | NA                | NA                | NA                | fibroblast        | sendai            | veve_2            |\n",
       "| HPSI0413i-peop_4 | HPSI0413i-peop_4  | male              |                   | y                 | NA                | NA                | NA                | fibroblast        | sendai            | peop_4            |\n",
       "| HPSI0613i-hikj_2 | HPSI0613i-hikj_2  | male              |                   | n                 | NA                | NA                | NA                | fibroblast        | sendai            | hikj_2            |\n",
       "\n"
      ],
      "text/plain": [
       "                  donor_id          Gender Age   feederfree min_age max_age\n",
       "HPSI0813i-ffdc_1  HPSI0813i-ffdc_1  male   40-44 n          40      44     \n",
       "HPSI0213i-nawk_55 HPSI0213i-nawk_55 male         y          NA      NA     \n",
       "HPSI0513i-uoxz_4  HPSI0513i-uoxz_4  female       n          NA      NA     \n",
       "HPSI0513i-veve_2  HPSI0513i-veve_2  female       n          NA      NA     \n",
       "HPSI0413i-peop_4  HPSI0413i-peop_4  male         y          NA      NA     \n",
       "HPSI0613i-hikj_2  HPSI0613i-hikj_2  male         n          NA      NA     \n",
       "                  avg_age origin_cell reprogramming_method cell_line\n",
       "HPSI0813i-ffdc_1  42      fibroblast  sendai               ffdc_1   \n",
       "HPSI0213i-nawk_55 NA      fibroblast  sendai               nawk_55  \n",
       "HPSI0513i-uoxz_4  NA      fibroblast  sendai               uoxz_4   \n",
       "HPSI0513i-veve_2  NA      fibroblast  sendai               veve_2   \n",
       "HPSI0413i-peop_4  NA      fibroblast  sendai               peop_4   \n",
       "HPSI0613i-hikj_2  NA      fibroblast  sendai               hikj_2   "
      ]
     },
     "metadata": {},
     "output_type": "display_data"
    }
   ],
   "source": [
    "meta$cell_line = gsub(\".*-\",\"\",meta$donor_id)\n",
    "nrow(meta)\n",
    "head(meta)"
   ]
  },
  {
   "cell_type": "code",
   "execution_count": 5,
   "metadata": {},
   "outputs": [
    {
     "data": {
      "text/html": [
       "305"
      ],
      "text/latex": [
       "305"
      ],
      "text/markdown": [
       "305"
      ],
      "text/plain": [
       "[1] 305"
      ]
     },
     "metadata": {},
     "output_type": "display_data"
    },
    {
     "data": {
      "text/html": [
       "<table>\n",
       "<thead><tr><th scope=col>cell_line</th><th scope=col>pool</th><th scope=col>passage_number</th></tr></thead>\n",
       "<tbody>\n",
       "\t<tr><td>paab_3</td><td>18    </td><td>26    </td></tr>\n",
       "\t<tr><td>paab_3</td><td> 5    </td><td>25    </td></tr>\n",
       "\t<tr><td>uofv_1</td><td>13    </td><td>55    </td></tr>\n",
       "\t<tr><td>mita_1</td><td> 6    </td><td>56    </td></tr>\n",
       "\t<tr><td>eipl_1</td><td> 1    </td><td>42    </td></tr>\n",
       "\t<tr><td>boss_1</td><td>13    </td><td>29    </td></tr>\n",
       "</tbody>\n",
       "</table>\n"
      ],
      "text/latex": [
       "\\begin{tabular}{r|lll}\n",
       " cell\\_line & pool & passage\\_number\\\\\n",
       "\\hline\n",
       "\t paab\\_3 & 18       & 26      \\\\\n",
       "\t paab\\_3 &  5       & 25      \\\\\n",
       "\t uofv\\_1 & 13       & 55      \\\\\n",
       "\t mita\\_1 &  6       & 56      \\\\\n",
       "\t eipl\\_1 &  1       & 42      \\\\\n",
       "\t boss\\_1 & 13       & 29      \\\\\n",
       "\\end{tabular}\n"
      ],
      "text/markdown": [
       "\n",
       "| cell_line | pool | passage_number |\n",
       "|---|---|---|\n",
       "| paab_3 | 18     | 26     |\n",
       "| paab_3 |  5     | 25     |\n",
       "| uofv_1 | 13     | 55     |\n",
       "| mita_1 |  6     | 56     |\n",
       "| eipl_1 |  1     | 42     |\n",
       "| boss_1 | 13     | 29     |\n",
       "\n"
      ],
      "text/plain": [
       "  cell_line pool passage_number\n",
       "1 paab_3    18   26            \n",
       "2 paab_3     5   25            \n",
       "3 uofv_1    13   55            \n",
       "4 mita_1     6   56            \n",
       "5 eipl_1     1   42            \n",
       "6 boss_1    13   29            "
      ]
     },
     "metadata": {},
     "output_type": "display_data"
    }
   ],
   "source": [
    "pass = passage[,c(\"CellLine\",\"Pool\",\"P.Pool\")]\n",
    "colnames(pass) = c(\"cell_line\", \"pool\", \"passage_number\")\n",
    "nrow(pass)\n",
    "head(pass)"
   ]
  },
  {
   "cell_type": "code",
   "execution_count": 6,
   "metadata": {},
   "outputs": [
    {
     "data": {
      "text/html": [
       "253"
      ],
      "text/latex": [
       "253"
      ],
      "text/markdown": [
       "253"
      ],
      "text/plain": [
       "[1] 253"
      ]
     },
     "metadata": {},
     "output_type": "display_data"
    }
   ],
   "source": [
    "length(unique(pass$cell_line))"
   ]
  },
  {
   "cell_type": "code",
   "execution_count": 7,
   "metadata": {},
   "outputs": [
    {
     "name": "stderr",
     "output_type": "stream",
     "text": [
      "\n",
      "Attaching package: ‘dplyr’\n",
      "\n",
      "The following objects are masked from ‘package:stats’:\n",
      "\n",
      "    filter, lag\n",
      "\n",
      "The following objects are masked from ‘package:base’:\n",
      "\n",
      "    intersect, setdiff, setequal, union\n",
      "\n"
     ]
    }
   ],
   "source": [
    "library(dplyr)"
   ]
  },
  {
   "cell_type": "code",
   "execution_count": 8,
   "metadata": {},
   "outputs": [
    {
     "name": "stderr",
     "output_type": "stream",
     "text": [
      "Joining, by = \"cell_line\"\n",
      "Warning message:\n",
      "“Column `cell_line` joining character vector and factor, coercing into character vector”"
     ]
    },
    {
     "data": {
      "text/html": [
       "<table>\n",
       "<thead><tr><th scope=col>donor_id</th><th scope=col>Gender</th><th scope=col>Age</th><th scope=col>feederfree</th><th scope=col>min_age</th><th scope=col>max_age</th><th scope=col>avg_age</th><th scope=col>origin_cell</th><th scope=col>reprogramming_method</th><th scope=col>cell_line</th><th scope=col>pool</th><th scope=col>passage_number</th></tr></thead>\n",
       "<tbody>\n",
       "\t<tr><td>HPSI0813i-ffdc_1 </td><td>male             </td><td>40-44            </td><td>n                </td><td>40               </td><td>44               </td><td>42               </td><td>fibroblast       </td><td>sendai           </td><td>ffdc_1           </td><td>NA               </td><td>NA               </td></tr>\n",
       "\t<tr><td>HPSI0213i-nawk_55</td><td>male             </td><td>                 </td><td>y                </td><td>NA               </td><td>NA               </td><td>NA               </td><td>fibroblast       </td><td>sendai           </td><td>nawk_55          </td><td>14               </td><td>76               </td></tr>\n",
       "\t<tr><td>HPSI0513i-uoxz_4 </td><td>female           </td><td>                 </td><td>n                </td><td>NA               </td><td>NA               </td><td>NA               </td><td>fibroblast       </td><td>sendai           </td><td>uoxz_4           </td><td>11               </td><td>24               </td></tr>\n",
       "\t<tr><td>HPSI0513i-veve_2 </td><td>female           </td><td>                 </td><td>n                </td><td>NA               </td><td>NA               </td><td>NA               </td><td>fibroblast       </td><td>sendai           </td><td>veve_2           </td><td>11               </td><td>28               </td></tr>\n",
       "\t<tr><td>HPSI0413i-peop_4 </td><td>male             </td><td>                 </td><td>y                </td><td>NA               </td><td>NA               </td><td>NA               </td><td>fibroblast       </td><td>sendai           </td><td>peop_4           </td><td>10               </td><td>39               </td></tr>\n",
       "\t<tr><td>HPSI0613i-hikj_2 </td><td>male             </td><td>                 </td><td>n                </td><td>NA               </td><td>NA               </td><td>NA               </td><td>fibroblast       </td><td>sendai           </td><td>hikj_2           </td><td>11               </td><td>28               </td></tr>\n",
       "</tbody>\n",
       "</table>\n"
      ],
      "text/latex": [
       "\\begin{tabular}{r|llllllllllll}\n",
       " donor\\_id & Gender & Age & feederfree & min\\_age & max\\_age & avg\\_age & origin\\_cell & reprogramming\\_method & cell\\_line & pool & passage\\_number\\\\\n",
       "\\hline\n",
       "\t HPSI0813i-ffdc\\_1  & male                & 40-44               & n                   & 40                  & 44                  & 42                  & fibroblast          & sendai              & ffdc\\_1            & NA                  & NA                 \\\\\n",
       "\t HPSI0213i-nawk\\_55 & male                &                     & y                   & NA                  & NA                  & NA                  & fibroblast          & sendai              & nawk\\_55           & 14                  & 76                 \\\\\n",
       "\t HPSI0513i-uoxz\\_4  & female              &                     & n                   & NA                  & NA                  & NA                  & fibroblast          & sendai              & uoxz\\_4            & 11                  & 24                 \\\\\n",
       "\t HPSI0513i-veve\\_2  & female              &                     & n                   & NA                  & NA                  & NA                  & fibroblast          & sendai              & veve\\_2            & 11                  & 28                 \\\\\n",
       "\t HPSI0413i-peop\\_4  & male                &                     & y                   & NA                  & NA                  & NA                  & fibroblast          & sendai              & peop\\_4            & 10                  & 39                 \\\\\n",
       "\t HPSI0613i-hikj\\_2  & male                &                     & n                   & NA                  & NA                  & NA                  & fibroblast          & sendai              & hikj\\_2            & 11                  & 28                 \\\\\n",
       "\\end{tabular}\n"
      ],
      "text/markdown": [
       "\n",
       "| donor_id | Gender | Age | feederfree | min_age | max_age | avg_age | origin_cell | reprogramming_method | cell_line | pool | passage_number |\n",
       "|---|---|---|---|---|---|---|---|---|---|---|---|\n",
       "| HPSI0813i-ffdc_1  | male              | 40-44             | n                 | 40                | 44                | 42                | fibroblast        | sendai            | ffdc_1            | NA                | NA                |\n",
       "| HPSI0213i-nawk_55 | male              |                   | y                 | NA                | NA                | NA                | fibroblast        | sendai            | nawk_55           | 14                | 76                |\n",
       "| HPSI0513i-uoxz_4  | female            |                   | n                 | NA                | NA                | NA                | fibroblast        | sendai            | uoxz_4            | 11                | 24                |\n",
       "| HPSI0513i-veve_2  | female            |                   | n                 | NA                | NA                | NA                | fibroblast        | sendai            | veve_2            | 11                | 28                |\n",
       "| HPSI0413i-peop_4  | male              |                   | y                 | NA                | NA                | NA                | fibroblast        | sendai            | peop_4            | 10                | 39                |\n",
       "| HPSI0613i-hikj_2  | male              |                   | n                 | NA                | NA                | NA                | fibroblast        | sendai            | hikj_2            | 11                | 28                |\n",
       "\n"
      ],
      "text/plain": [
       "  donor_id          Gender Age   feederfree min_age max_age avg_age origin_cell\n",
       "1 HPSI0813i-ffdc_1  male   40-44 n          40      44      42      fibroblast \n",
       "2 HPSI0213i-nawk_55 male         y          NA      NA      NA      fibroblast \n",
       "3 HPSI0513i-uoxz_4  female       n          NA      NA      NA      fibroblast \n",
       "4 HPSI0513i-veve_2  female       n          NA      NA      NA      fibroblast \n",
       "5 HPSI0413i-peop_4  male         y          NA      NA      NA      fibroblast \n",
       "6 HPSI0613i-hikj_2  male         n          NA      NA      NA      fibroblast \n",
       "  reprogramming_method cell_line pool passage_number\n",
       "1 sendai               ffdc_1    NA   NA            \n",
       "2 sendai               nawk_55   14   76            \n",
       "3 sendai               uoxz_4    11   24            \n",
       "4 sendai               veve_2    11   28            \n",
       "5 sendai               peop_4    10   39            \n",
       "6 sendai               hikj_2    11   28            "
      ]
     },
     "metadata": {},
     "output_type": "display_data"
    },
    {
     "data": {
      "text/html": [
       "<table>\n",
       "<thead><tr><th></th><th scope=col>donor_id</th><th scope=col>Gender</th><th scope=col>Age</th><th scope=col>feederfree</th><th scope=col>origin_cell</th><th scope=col>reprogramming_method</th><th scope=col>cell_line</th><th scope=col>pool</th><th scope=col>passage_number</th></tr></thead>\n",
       "<tbody>\n",
       "\t<tr><th scope=row>261</th><td>HPSI0115i-jotn_2</td><td>male            </td><td>55-59           </td><td>y               </td><td>fibroblast      </td><td>sendai          </td><td>jotn_2          </td><td>17              </td><td>19              </td></tr>\n",
       "\t<tr><th scope=row>262</th><td>HPSI0115i-pitg_2</td><td>female          </td><td>50-54           </td><td>y               </td><td>fibroblast      </td><td>sendai          </td><td>pitg_2          </td><td> 5              </td><td>15              </td></tr>\n",
       "\t<tr><th scope=row>263</th><td>HPSI0115i-qecv_2</td><td>female          </td><td>35-39           </td><td>y               </td><td>fibroblast      </td><td>sendai          </td><td>qecv_2          </td><td>17              </td><td>19              </td></tr>\n",
       "\t<tr><th scope=row>264</th><td>HPSI0115i-qecv_2</td><td>female          </td><td>35-39           </td><td>y               </td><td>fibroblast      </td><td>sendai          </td><td>qecv_2          </td><td> 5              </td><td>21              </td></tr>\n",
       "\t<tr><th scope=row>265</th><td>HPSI0314i-uict_1</td><td>female          </td><td>65-69           </td><td>y               </td><td>fibroblast      </td><td>sendai          </td><td>uict_1          </td><td> 6              </td><td>16              </td></tr>\n",
       "\t<tr><th scope=row>266</th><td>HPSI0514i-sohd_2</td><td>female          </td><td>70-74           </td><td>y               </td><td>fibroblast      </td><td>sendai          </td><td>sohd_2          </td><td> 7              </td><td>18              </td></tr>\n",
       "</tbody>\n",
       "</table>\n"
      ],
      "text/latex": [
       "\\begin{tabular}{r|lllllllll}\n",
       "  & donor\\_id & Gender & Age & feederfree & origin\\_cell & reprogramming\\_method & cell\\_line & pool & passage\\_number\\\\\n",
       "\\hline\n",
       "\t261 & HPSI0115i-jotn\\_2 & male               & 55-59              & y                  & fibroblast         & sendai             & jotn\\_2           & 17                 & 19                \\\\\n",
       "\t262 & HPSI0115i-pitg\\_2 & female             & 50-54              & y                  & fibroblast         & sendai             & pitg\\_2           &  5                 & 15                \\\\\n",
       "\t263 & HPSI0115i-qecv\\_2 & female             & 35-39              & y                  & fibroblast         & sendai             & qecv\\_2           & 17                 & 19                \\\\\n",
       "\t264 & HPSI0115i-qecv\\_2 & female             & 35-39              & y                  & fibroblast         & sendai             & qecv\\_2           &  5                 & 21                \\\\\n",
       "\t265 & HPSI0314i-uict\\_1 & female             & 65-69              & y                  & fibroblast         & sendai             & uict\\_1           &  6                 & 16                \\\\\n",
       "\t266 & HPSI0514i-sohd\\_2 & female             & 70-74              & y                  & fibroblast         & sendai             & sohd\\_2           &  7                 & 18                \\\\\n",
       "\\end{tabular}\n"
      ],
      "text/markdown": [
       "\n",
       "| <!--/--> | donor_id | Gender | Age | feederfree | origin_cell | reprogramming_method | cell_line | pool | passage_number |\n",
       "|---|---|---|---|---|---|---|---|---|---|\n",
       "| 261 | HPSI0115i-jotn_2 | male             | 55-59            | y                | fibroblast       | sendai           | jotn_2           | 17               | 19               |\n",
       "| 262 | HPSI0115i-pitg_2 | female           | 50-54            | y                | fibroblast       | sendai           | pitg_2           |  5               | 15               |\n",
       "| 263 | HPSI0115i-qecv_2 | female           | 35-39            | y                | fibroblast       | sendai           | qecv_2           | 17               | 19               |\n",
       "| 264 | HPSI0115i-qecv_2 | female           | 35-39            | y                | fibroblast       | sendai           | qecv_2           |  5               | 21               |\n",
       "| 265 | HPSI0314i-uict_1 | female           | 65-69            | y                | fibroblast       | sendai           | uict_1           |  6               | 16               |\n",
       "| 266 | HPSI0514i-sohd_2 | female           | 70-74            | y                | fibroblast       | sendai           | sohd_2           |  7               | 18               |\n",
       "\n"
      ],
      "text/plain": [
       "    donor_id         Gender Age   feederfree origin_cell reprogramming_method\n",
       "261 HPSI0115i-jotn_2 male   55-59 y          fibroblast  sendai              \n",
       "262 HPSI0115i-pitg_2 female 50-54 y          fibroblast  sendai              \n",
       "263 HPSI0115i-qecv_2 female 35-39 y          fibroblast  sendai              \n",
       "264 HPSI0115i-qecv_2 female 35-39 y          fibroblast  sendai              \n",
       "265 HPSI0314i-uict_1 female 65-69 y          fibroblast  sendai              \n",
       "266 HPSI0514i-sohd_2 female 70-74 y          fibroblast  sendai              \n",
       "    cell_line pool passage_number\n",
       "261 jotn_2    17   19            \n",
       "262 pitg_2     5   15            \n",
       "263 qecv_2    17   19            \n",
       "264 qecv_2     5   21            \n",
       "265 uict_1     6   16            \n",
       "266 sohd_2     7   18            "
      ]
     },
     "metadata": {},
     "output_type": "display_data"
    }
   ],
   "source": [
    "df = left_join(meta, pass)\n",
    "head(df)\n",
    "tail(df[,!(colnames(df) %in% c(\"min_age\",\"max_age\",\"avg_age\"))])"
   ]
  },
  {
   "cell_type": "code",
   "execution_count": 9,
   "metadata": {},
   "outputs": [],
   "source": [
    "write.csv(df, \"/hps/nobackup/stegle/users/acuomo/all_scripts/sc_neuroseq/metadata_all_lines_w_passage.csv\")"
   ]
  },
  {
   "cell_type": "code",
   "execution_count": 10,
   "metadata": {},
   "outputs": [
    {
     "data": {
      "text/html": [
       "<table>\n",
       "<thead><tr><th scope=col>cell_line_id</th><th scope=col>mean_x_chrom_ase</th><th scope=col>Gender</th><th scope=col>donor_id</th></tr></thead>\n",
       "<tbody>\n",
       "\t<tr><td>HPSI0114i-eipl_1</td><td>0.1885190       </td><td>female          </td><td>HPSI0114i-eipl_1</td></tr>\n",
       "\t<tr><td>HPSI1113i-podx_1</td><td>0.1726990       </td><td>female          </td><td>HPSI1113i-podx_1</td></tr>\n",
       "\t<tr><td>HPSI0115i-hecn_6</td><td>0.1202075       </td><td>female          </td><td>HPSI0115i-hecn_6</td></tr>\n",
       "\t<tr><td>HPSI0214i-pelm_3</td><td>0.1304638       </td><td>female          </td><td>HPSI0214i-pelm_3</td></tr>\n",
       "\t<tr><td>HPSI0214i-eiwy_1</td><td>0.2483968       </td><td>female          </td><td>HPSI0214i-eiwy_1</td></tr>\n",
       "\t<tr><td>HPSI0714i-iudw_1</td><td>0.1152498       </td><td>female          </td><td>HPSI0714i-iudw_1</td></tr>\n",
       "</tbody>\n",
       "</table>\n"
      ],
      "text/latex": [
       "\\begin{tabular}{r|llll}\n",
       " cell\\_line\\_id & mean\\_x\\_chrom\\_ase & Gender & donor\\_id\\\\\n",
       "\\hline\n",
       "\t HPSI0114i-eipl\\_1 & 0.1885190          & female             & HPSI0114i-eipl\\_1\\\\\n",
       "\t HPSI1113i-podx\\_1 & 0.1726990          & female             & HPSI1113i-podx\\_1\\\\\n",
       "\t HPSI0115i-hecn\\_6 & 0.1202075          & female             & HPSI0115i-hecn\\_6\\\\\n",
       "\t HPSI0214i-pelm\\_3 & 0.1304638          & female             & HPSI0214i-pelm\\_3\\\\\n",
       "\t HPSI0214i-eiwy\\_1 & 0.2483968          & female             & HPSI0214i-eiwy\\_1\\\\\n",
       "\t HPSI0714i-iudw\\_1 & 0.1152498          & female             & HPSI0714i-iudw\\_1\\\\\n",
       "\\end{tabular}\n"
      ],
      "text/markdown": [
       "\n",
       "| cell_line_id | mean_x_chrom_ase | Gender | donor_id |\n",
       "|---|---|---|---|\n",
       "| HPSI0114i-eipl_1 | 0.1885190        | female           | HPSI0114i-eipl_1 |\n",
       "| HPSI1113i-podx_1 | 0.1726990        | female           | HPSI1113i-podx_1 |\n",
       "| HPSI0115i-hecn_6 | 0.1202075        | female           | HPSI0115i-hecn_6 |\n",
       "| HPSI0214i-pelm_3 | 0.1304638        | female           | HPSI0214i-pelm_3 |\n",
       "| HPSI0214i-eiwy_1 | 0.2483968        | female           | HPSI0214i-eiwy_1 |\n",
       "| HPSI0714i-iudw_1 | 0.1152498        | female           | HPSI0714i-iudw_1 |\n",
       "\n"
      ],
      "text/plain": [
       "  cell_line_id     mean_x_chrom_ase Gender donor_id        \n",
       "1 HPSI0114i-eipl_1 0.1885190        female HPSI0114i-eipl_1\n",
       "2 HPSI1113i-podx_1 0.1726990        female HPSI1113i-podx_1\n",
       "3 HPSI0115i-hecn_6 0.1202075        female HPSI0115i-hecn_6\n",
       "4 HPSI0214i-pelm_3 0.1304638        female HPSI0214i-pelm_3\n",
       "5 HPSI0214i-eiwy_1 0.2483968        female HPSI0214i-eiwy_1\n",
       "6 HPSI0714i-iudw_1 0.1152498        female HPSI0714i-iudw_1"
      ]
     },
     "metadata": {},
     "output_type": "display_data"
    }
   ],
   "source": [
    "xci_data = \"/nfs/leia/research/stegle/dseaton/hipsci/singlecell_neuroseq/data/metadata/neuroseq_x_chrom_inactivation_data.tsv\"\n",
    "xci = read.csv(xci_data, sep = \"\\t\")\n",
    "xci$donor_id = xci$cell_line_id\n",
    "head(xci)"
   ]
  },
  {
   "cell_type": "code",
   "execution_count": 11,
   "metadata": {},
   "outputs": [
    {
     "name": "stderr",
     "output_type": "stream",
     "text": [
      "Warning message:\n",
      "“Column `donor_id` joining factors with different levels, coercing to character vector”"
     ]
    }
   ],
   "source": [
    "df1 = left_join(df, xci[,c(\"donor_id\",\"mean_x_chrom_ase\")], by = \"donor_id\")"
   ]
  },
  {
   "cell_type": "code",
   "execution_count": 12,
   "metadata": {},
   "outputs": [
    {
     "data": {
      "text/html": [
       "266"
      ],
      "text/latex": [
       "266"
      ],
      "text/markdown": [
       "266"
      ],
      "text/plain": [
       "[1] 266"
      ]
     },
     "metadata": {},
     "output_type": "display_data"
    },
    {
     "data": {
      "text/html": [
       "266"
      ],
      "text/latex": [
       "266"
      ],
      "text/markdown": [
       "266"
      ],
      "text/plain": [
       "[1] 266"
      ]
     },
     "metadata": {},
     "output_type": "display_data"
    }
   ],
   "source": [
    "nrow(df)\n",
    "nrow(df1)"
   ]
  },
  {
   "cell_type": "code",
   "execution_count": 13,
   "metadata": {},
   "outputs": [
    {
     "data": {
      "text/html": [
       "<table>\n",
       "<thead><tr><th scope=col>donor_id</th><th scope=col>Gender</th><th scope=col>Age</th><th scope=col>feederfree</th><th scope=col>min_age</th><th scope=col>max_age</th><th scope=col>avg_age</th><th scope=col>origin_cell</th><th scope=col>reprogramming_method</th><th scope=col>cell_line</th><th scope=col>pool</th><th scope=col>passage_number</th><th scope=col>mean_x_chrom_ase</th></tr></thead>\n",
       "<tbody>\n",
       "\t<tr><td>HPSI0813i-ffdc_1 </td><td>male             </td><td>40-44            </td><td>n                </td><td>40               </td><td>44               </td><td>42               </td><td>fibroblast       </td><td>sendai           </td><td>ffdc_1           </td><td>NA               </td><td>NA               </td><td>       NA        </td></tr>\n",
       "\t<tr><td>HPSI0213i-nawk_55</td><td>male             </td><td>                 </td><td>y                </td><td>NA               </td><td>NA               </td><td>NA               </td><td>fibroblast       </td><td>sendai           </td><td>nawk_55          </td><td>14               </td><td>76               </td><td>       NA        </td></tr>\n",
       "\t<tr><td>HPSI0513i-uoxz_4 </td><td>female           </td><td>                 </td><td>n                </td><td>NA               </td><td>NA               </td><td>NA               </td><td>fibroblast       </td><td>sendai           </td><td>uoxz_4           </td><td>11               </td><td>24               </td><td>0.2753908        </td></tr>\n",
       "\t<tr><td>HPSI0513i-veve_2 </td><td>female           </td><td>                 </td><td>n                </td><td>NA               </td><td>NA               </td><td>NA               </td><td>fibroblast       </td><td>sendai           </td><td>veve_2           </td><td>11               </td><td>28               </td><td>0.2948189        </td></tr>\n",
       "\t<tr><td>HPSI0413i-peop_4 </td><td>male             </td><td>                 </td><td>y                </td><td>NA               </td><td>NA               </td><td>NA               </td><td>fibroblast       </td><td>sendai           </td><td>peop_4           </td><td>10               </td><td>39               </td><td>       NA        </td></tr>\n",
       "\t<tr><td>HPSI0613i-hikj_2 </td><td>male             </td><td>                 </td><td>n                </td><td>NA               </td><td>NA               </td><td>NA               </td><td>fibroblast       </td><td>sendai           </td><td>hikj_2           </td><td>11               </td><td>28               </td><td>       NA        </td></tr>\n",
       "</tbody>\n",
       "</table>\n"
      ],
      "text/latex": [
       "\\begin{tabular}{r|lllllllllllll}\n",
       " donor\\_id & Gender & Age & feederfree & min\\_age & max\\_age & avg\\_age & origin\\_cell & reprogramming\\_method & cell\\_line & pool & passage\\_number & mean\\_x\\_chrom\\_ase\\\\\n",
       "\\hline\n",
       "\t HPSI0813i-ffdc\\_1  & male                & 40-44               & n                   & 40                  & 44                  & 42                  & fibroblast          & sendai              & ffdc\\_1            & NA                  & NA                  &        NA          \\\\\n",
       "\t HPSI0213i-nawk\\_55 & male                &                     & y                   & NA                  & NA                  & NA                  & fibroblast          & sendai              & nawk\\_55           & 14                  & 76                  &        NA          \\\\\n",
       "\t HPSI0513i-uoxz\\_4  & female              &                     & n                   & NA                  & NA                  & NA                  & fibroblast          & sendai              & uoxz\\_4            & 11                  & 24                  & 0.2753908          \\\\\n",
       "\t HPSI0513i-veve\\_2  & female              &                     & n                   & NA                  & NA                  & NA                  & fibroblast          & sendai              & veve\\_2            & 11                  & 28                  & 0.2948189          \\\\\n",
       "\t HPSI0413i-peop\\_4  & male                &                     & y                   & NA                  & NA                  & NA                  & fibroblast          & sendai              & peop\\_4            & 10                  & 39                  &        NA          \\\\\n",
       "\t HPSI0613i-hikj\\_2  & male                &                     & n                   & NA                  & NA                  & NA                  & fibroblast          & sendai              & hikj\\_2            & 11                  & 28                  &        NA          \\\\\n",
       "\\end{tabular}\n"
      ],
      "text/markdown": [
       "\n",
       "| donor_id | Gender | Age | feederfree | min_age | max_age | avg_age | origin_cell | reprogramming_method | cell_line | pool | passage_number | mean_x_chrom_ase |\n",
       "|---|---|---|---|---|---|---|---|---|---|---|---|---|\n",
       "| HPSI0813i-ffdc_1  | male              | 40-44             | n                 | 40                | 44                | 42                | fibroblast        | sendai            | ffdc_1            | NA                | NA                |        NA         |\n",
       "| HPSI0213i-nawk_55 | male              |                   | y                 | NA                | NA                | NA                | fibroblast        | sendai            | nawk_55           | 14                | 76                |        NA         |\n",
       "| HPSI0513i-uoxz_4  | female            |                   | n                 | NA                | NA                | NA                | fibroblast        | sendai            | uoxz_4            | 11                | 24                | 0.2753908         |\n",
       "| HPSI0513i-veve_2  | female            |                   | n                 | NA                | NA                | NA                | fibroblast        | sendai            | veve_2            | 11                | 28                | 0.2948189         |\n",
       "| HPSI0413i-peop_4  | male              |                   | y                 | NA                | NA                | NA                | fibroblast        | sendai            | peop_4            | 10                | 39                |        NA         |\n",
       "| HPSI0613i-hikj_2  | male              |                   | n                 | NA                | NA                | NA                | fibroblast        | sendai            | hikj_2            | 11                | 28                |        NA         |\n",
       "\n"
      ],
      "text/plain": [
       "  donor_id          Gender Age   feederfree min_age max_age avg_age origin_cell\n",
       "1 HPSI0813i-ffdc_1  male   40-44 n          40      44      42      fibroblast \n",
       "2 HPSI0213i-nawk_55 male         y          NA      NA      NA      fibroblast \n",
       "3 HPSI0513i-uoxz_4  female       n          NA      NA      NA      fibroblast \n",
       "4 HPSI0513i-veve_2  female       n          NA      NA      NA      fibroblast \n",
       "5 HPSI0413i-peop_4  male         y          NA      NA      NA      fibroblast \n",
       "6 HPSI0613i-hikj_2  male         n          NA      NA      NA      fibroblast \n",
       "  reprogramming_method cell_line pool passage_number mean_x_chrom_ase\n",
       "1 sendai               ffdc_1    NA   NA                    NA       \n",
       "2 sendai               nawk_55   14   76                    NA       \n",
       "3 sendai               uoxz_4    11   24             0.2753908       \n",
       "4 sendai               veve_2    11   28             0.2948189       \n",
       "5 sendai               peop_4    10   39                    NA       \n",
       "6 sendai               hikj_2    11   28                    NA       "
      ]
     },
     "metadata": {},
     "output_type": "display_data"
    }
   ],
   "source": [
    "head(df1)"
   ]
  },
  {
   "cell_type": "code",
   "execution_count": 14,
   "metadata": {},
   "outputs": [],
   "source": [
    "write.csv(df1, \"/hps/nobackup/stegle/users/acuomo/all_scripts/sc_neuroseq/metadata_all_lines_w_passage_w_xci.csv\")"
   ]
  },
  {
   "cell_type": "code",
   "execution_count": 15,
   "metadata": {},
   "outputs": [
    {
     "data": {
      "text/html": [
       "266"
      ],
      "text/latex": [
       "266"
      ],
      "text/markdown": [
       "266"
      ],
      "text/plain": [
       "[1] 266"
      ]
     },
     "metadata": {},
     "output_type": "display_data"
    }
   ],
   "source": [
    "nrow(df1)"
   ]
  },
  {
   "cell_type": "code",
   "execution_count": 16,
   "metadata": {},
   "outputs": [],
   "source": [
    "supp_tables_dir = \"/hps/nobackup/stegle/users/acuomo/all_scripts/sc_neuroseq/neuroseq_ms/supp_tables/natgen/\"\n",
    "filename = paste0(supp_tables_dir,\"SuppTableX_cell_lines_metadata.csv\")\n",
    "write.csv(df1,filename, quote = F, row.names = F)"
   ]
  },
  {
   "cell_type": "code",
   "execution_count": null,
   "metadata": {},
   "outputs": [],
   "source": []
  }
 ],
 "metadata": {
  "kernelspec": {
   "display_name": "R",
   "language": "R",
   "name": "ir"
  },
  "language_info": {
   "codemirror_mode": "r",
   "file_extension": ".r",
   "mimetype": "text/x-r-source",
   "name": "R",
   "pygments_lexer": "r",
   "version": "3.6.1"
  }
 },
 "nbformat": 4,
 "nbformat_minor": 4
}
