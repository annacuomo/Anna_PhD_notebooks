{
 "cells": [
  {
   "cell_type": "code",
   "execution_count": 1,
   "metadata": {},
   "outputs": [
    {
     "name": "stderr",
     "output_type": "stream",
     "text": [
      "\n",
      "Attaching package: ‘dplyr’\n",
      "\n",
      "The following objects are masked from ‘package:stats’:\n",
      "\n",
      "    filter, lag\n",
      "\n",
      "The following objects are masked from ‘package:base’:\n",
      "\n",
      "    intersect, setdiff, setequal, union\n",
      "\n"
     ]
    }
   ],
   "source": [
    "library(dplyr)"
   ]
  },
  {
   "cell_type": "code",
   "execution_count": 2,
   "metadata": {},
   "outputs": [
    {
     "data": {
      "text/html": [
       "<table>\n",
       "<thead><tr><th scope=col>donor_id</th><th scope=col>pool_id</th><th scope=col>time_point</th><th scope=col>treatment</th><th scope=col>celltype</th><th scope=col>n_cells</th></tr></thead>\n",
       "<tbody>\n",
       "\t<tr><td>HPSI0114i-bezi_3</td><td>pool10          </td><td>D52             </td><td>NONE            </td><td>Astro           </td><td> 2              </td></tr>\n",
       "\t<tr><td>HPSI0114i-bezi_3</td><td>pool10          </td><td>D52             </td><td>NONE            </td><td>CHem            </td><td> 5              </td></tr>\n",
       "\t<tr><td>HPSI0114i-bezi_3</td><td>pool10          </td><td>D52             </td><td>NONE            </td><td>DA              </td><td>66              </td></tr>\n",
       "\t<tr><td>HPSI0114i-bezi_3</td><td>pool10          </td><td>D52             </td><td>NONE            </td><td>Epen1           </td><td>39              </td></tr>\n",
       "\t<tr><td>HPSI0114i-bezi_3</td><td>pool10          </td><td>D52             </td><td>NONE            </td><td>FPP             </td><td>31              </td></tr>\n",
       "\t<tr><td>HPSI0114i-bezi_3</td><td>pool10          </td><td>D52             </td><td>NONE            </td><td>P_FPP           </td><td> 4              </td></tr>\n",
       "</tbody>\n",
       "</table>\n"
      ],
      "text/latex": [
       "\\begin{tabular}{r|llllll}\n",
       " donor\\_id & pool\\_id & time\\_point & treatment & celltype & n\\_cells\\\\\n",
       "\\hline\n",
       "\t HPSI0114i-bezi\\_3 & pool10             & D52                & NONE               & Astro              &  2                \\\\\n",
       "\t HPSI0114i-bezi\\_3 & pool10             & D52                & NONE               & CHem               &  5                \\\\\n",
       "\t HPSI0114i-bezi\\_3 & pool10             & D52                & NONE               & DA                 & 66                \\\\\n",
       "\t HPSI0114i-bezi\\_3 & pool10             & D52                & NONE               & Epen1              & 39                \\\\\n",
       "\t HPSI0114i-bezi\\_3 & pool10             & D52                & NONE               & FPP                & 31                \\\\\n",
       "\t HPSI0114i-bezi\\_3 & pool10             & D52                & NONE               & P\\_FPP            &  4                \\\\\n",
       "\\end{tabular}\n"
      ],
      "text/markdown": [
       "\n",
       "| donor_id | pool_id | time_point | treatment | celltype | n_cells |\n",
       "|---|---|---|---|---|---|\n",
       "| HPSI0114i-bezi_3 | pool10           | D52              | NONE             | Astro            |  2               |\n",
       "| HPSI0114i-bezi_3 | pool10           | D52              | NONE             | CHem             |  5               |\n",
       "| HPSI0114i-bezi_3 | pool10           | D52              | NONE             | DA               | 66               |\n",
       "| HPSI0114i-bezi_3 | pool10           | D52              | NONE             | Epen1            | 39               |\n",
       "| HPSI0114i-bezi_3 | pool10           | D52              | NONE             | FPP              | 31               |\n",
       "| HPSI0114i-bezi_3 | pool10           | D52              | NONE             | P_FPP            |  4               |\n",
       "\n"
      ],
      "text/plain": [
       "  donor_id         pool_id time_point treatment celltype n_cells\n",
       "1 HPSI0114i-bezi_3 pool10  D52        NONE      Astro     2     \n",
       "2 HPSI0114i-bezi_3 pool10  D52        NONE      CHem      5     \n",
       "3 HPSI0114i-bezi_3 pool10  D52        NONE      DA       66     \n",
       "4 HPSI0114i-bezi_3 pool10  D52        NONE      Epen1    39     \n",
       "5 HPSI0114i-bezi_3 pool10  D52        NONE      FPP      31     \n",
       "6 HPSI0114i-bezi_3 pool10  D52        NONE      P_FPP     4     "
      ]
     },
     "metadata": {},
     "output_type": "display_data"
    }
   ],
   "source": [
    "mydir = \"/nfs/leia/research/stegle/dseaton/hipsci/singlecell_neuroseq/data/data_processed/pool1_13_noddd_D11/\"\n",
    "mysuffix = \"pool1_13_noddd_D11.scanpy.w_metadata.w_celltype.scanpy.obs_df.groupedby.donor_id-pool_id-time_point.celltype_counts.tsv\"\n",
    "\n",
    "mydir = \"/nfs/leia/research/stegle/dseaton/hipsci/singlecell_neuroseq/data/data_processed/pool1_13_noddd_D30/\"\n",
    "mysuffix = \"pool1_13_noddd_D30.scanpy.w_metadata.w_celltype.scanpy.obs_df.groupedby.donor_id-pool_id-time_point.celltype_counts.tsv\"\n",
    "\n",
    "mydir = \"/nfs/leia/research/stegle/dseaton/hipsci/singlecell_neuroseq/data/data_processed/pool1_17_D52/\"\n",
    "mysuffix = \"pool1_17_D52.scanpy.w_metadata.w_celltype.scanpy.obs_df.groupedby.donor_id-pool_id-time_point-treatment.celltype_counts.tsv\"\n",
    "\n",
    "myfilename = paste0(mydir,mysuffix)\n",
    "myfile = read.table(myfilename, header = T)\n",
    "head(myfile)"
   ]
  },
  {
   "cell_type": "code",
   "execution_count": 3,
   "metadata": {},
   "outputs": [],
   "source": [
    "######## ncells"
   ]
  },
  {
   "cell_type": "code",
   "execution_count": 4,
   "metadata": {},
   "outputs": [
    {
     "data": {
      "text/html": [
       "<table>\n",
       "<thead><tr><th scope=col>celltype</th><th scope=col>time_point</th><th scope=col>ncells</th></tr></thead>\n",
       "<tbody>\n",
       "\t<tr><td>FPP  </td><td>D52  </td><td>65718</td></tr>\n",
       "\t<tr><td>P_FPP</td><td>D52  </td><td>25131</td></tr>\n",
       "</tbody>\n",
       "</table>\n"
      ],
      "text/latex": [
       "\\begin{tabular}{r|lll}\n",
       " celltype & time\\_point & ncells\\\\\n",
       "\\hline\n",
       "\t FPP   & D52   & 65718\\\\\n",
       "\t P\\_FPP & D52     & 25131  \\\\\n",
       "\\end{tabular}\n"
      ],
      "text/markdown": [
       "\n",
       "| celltype | time_point | ncells |\n",
       "|---|---|---|\n",
       "| FPP   | D52   | 65718 |\n",
       "| P_FPP | D52   | 25131 |\n",
       "\n"
      ],
      "text/plain": [
       "  celltype time_point ncells\n",
       "1 FPP      D52        65718 \n",
       "2 P_FPP    D52        25131 "
      ]
     },
     "metadata": {},
     "output_type": "display_data"
    }
   ],
   "source": [
    "## D11\n",
    "df = myfile %>% group_by(celltype,time_point) %>% summarise(ncells = sum(n_cells))\n",
    "# df = df[order(df$ncells),]\n",
    "df[df$celltype %in% c(\"FPP\",\"P_FPP\"),]"
   ]
  },
  {
   "cell_type": "code",
   "execution_count": 5,
   "metadata": {},
   "outputs": [
    {
     "data": {
      "text/html": [
       "<table>\n",
       "<thead><tr><th scope=col>celltype</th><th scope=col>time_point</th><th scope=col>ncells</th></tr></thead>\n",
       "<tbody>\n",
       "\t<tr><td>Astro </td><td>D52   </td><td> 85451</td></tr>\n",
       "\t<tr><td>DA    </td><td>D52   </td><td> 79801</td></tr>\n",
       "\t<tr><td>Epen1 </td><td>D52   </td><td> 92147</td></tr>\n",
       "\t<tr><td>Sert  </td><td>D52   </td><td>130209</td></tr>\n",
       "</tbody>\n",
       "</table>\n"
      ],
      "text/latex": [
       "\\begin{tabular}{r|lll}\n",
       " celltype & time\\_point & ncells\\\\\n",
       "\\hline\n",
       "\t Astro  & D52    &  85451\\\\\n",
       "\t DA     & D52    &  79801\\\\\n",
       "\t Epen1  & D52    &  92147\\\\\n",
       "\t Sert   & D52    & 130209\\\\\n",
       "\\end{tabular}\n"
      ],
      "text/markdown": [
       "\n",
       "| celltype | time_point | ncells |\n",
       "|---|---|---|\n",
       "| Astro  | D52    |  85451 |\n",
       "| DA     | D52    |  79801 |\n",
       "| Epen1  | D52    |  92147 |\n",
       "| Sert   | D52    | 130209 |\n",
       "\n"
      ],
      "text/plain": [
       "  celltype time_point ncells\n",
       "1 Astro    D52         85451\n",
       "2 DA       D52         79801\n",
       "3 Epen1    D52         92147\n",
       "4 Sert     D52        130209"
      ]
     },
     "metadata": {},
     "output_type": "display_data"
    }
   ],
   "source": [
    "## D30\n",
    "df = myfile %>% group_by(celltype,time_point) %>% summarise(ncells = sum(n_cells))\n",
    "# df = df[order(df$ncells),]\n",
    "df[df$celltype %in% c(\"DA\",\"Sert\",\"Epen1\",\"Astro\"),]"
   ]
  },
  {
   "cell_type": "code",
   "execution_count": 6,
   "metadata": {},
   "outputs": [
    {
     "data": {
      "text/html": [
       "<table>\n",
       "<thead><tr><th scope=col>celltype</th><th scope=col>time_point</th><th scope=col>treatment</th><th scope=col>ncells</th></tr></thead>\n",
       "<tbody>\n",
       "\t<tr><td>Astro</td><td>D52  </td><td>NONE </td><td>44059</td></tr>\n",
       "\t<tr><td>Astro</td><td>D52  </td><td>ROT  </td><td>41392</td></tr>\n",
       "\t<tr><td>DA   </td><td>D52  </td><td>NONE </td><td>54331</td></tr>\n",
       "\t<tr><td>DA   </td><td>D52  </td><td>ROT  </td><td>25470</td></tr>\n",
       "\t<tr><td>Epen1</td><td>D52  </td><td>NONE </td><td>50084</td></tr>\n",
       "\t<tr><td>Epen1</td><td>D52  </td><td>ROT  </td><td>42063</td></tr>\n",
       "\t<tr><td>Sert </td><td>D52  </td><td>NONE </td><td>74984</td></tr>\n",
       "\t<tr><td>Sert </td><td>D52  </td><td>ROT  </td><td>55225</td></tr>\n",
       "</tbody>\n",
       "</table>\n"
      ],
      "text/latex": [
       "\\begin{tabular}{r|llll}\n",
       " celltype & time\\_point & treatment & ncells\\\\\n",
       "\\hline\n",
       "\t Astro & D52   & NONE  & 44059\\\\\n",
       "\t Astro & D52   & ROT   & 41392\\\\\n",
       "\t DA    & D52   & NONE  & 54331\\\\\n",
       "\t DA    & D52   & ROT   & 25470\\\\\n",
       "\t Epen1 & D52   & NONE  & 50084\\\\\n",
       "\t Epen1 & D52   & ROT   & 42063\\\\\n",
       "\t Sert  & D52   & NONE  & 74984\\\\\n",
       "\t Sert  & D52   & ROT   & 55225\\\\\n",
       "\\end{tabular}\n"
      ],
      "text/markdown": [
       "\n",
       "| celltype | time_point | treatment | ncells |\n",
       "|---|---|---|---|\n",
       "| Astro | D52   | NONE  | 44059 |\n",
       "| Astro | D52   | ROT   | 41392 |\n",
       "| DA    | D52   | NONE  | 54331 |\n",
       "| DA    | D52   | ROT   | 25470 |\n",
       "| Epen1 | D52   | NONE  | 50084 |\n",
       "| Epen1 | D52   | ROT   | 42063 |\n",
       "| Sert  | D52   | NONE  | 74984 |\n",
       "| Sert  | D52   | ROT   | 55225 |\n",
       "\n"
      ],
      "text/plain": [
       "  celltype time_point treatment ncells\n",
       "1 Astro    D52        NONE      44059 \n",
       "2 Astro    D52        ROT       41392 \n",
       "3 DA       D52        NONE      54331 \n",
       "4 DA       D52        ROT       25470 \n",
       "5 Epen1    D52        NONE      50084 \n",
       "6 Epen1    D52        ROT       42063 \n",
       "7 Sert     D52        NONE      74984 \n",
       "8 Sert     D52        ROT       55225 "
      ]
     },
     "metadata": {},
     "output_type": "display_data"
    }
   ],
   "source": [
    "## D52\n",
    "df = myfile %>% group_by(celltype,time_point,treatment) %>% summarise(ncells = sum(n_cells))\n",
    "# df = df[order(df$ncells),]\n",
    "df[df$celltype %in% c(\"DA\",\"Sert\",\"Epen1\",\"Astro\"),]"
   ]
  },
  {
   "cell_type": "code",
   "execution_count": 7,
   "metadata": {},
   "outputs": [],
   "source": [
    "col_FPP = \"#aec7e8\"\n",
    "col_P_FPP = \"#1f77b4\"\n",
    "\n",
    "col_DA = \"#2ca02c\"\n",
    "col_Sert = \"#98df8a\"\n",
    "col_Epen1 = \"#ff9896\"\n",
    "# col_Astro = \"#d62728\"\n",
    "col_Astro = \"#9467bd\""
   ]
  },
  {
   "cell_type": "code",
   "execution_count": 8,
   "metadata": {},
   "outputs": [
    {
     "data": {
      "image/png": "[encoded data removed]",
      "text/plain": [
       "plot without title"
      ]
     },
     "metadata": {},
     "output_type": "display_data"
    }
   ],
   "source": [
    "n = c(136074,107334,\n",
    "     53774,58109,69007,28145,\n",
    "     54331,74984,50084,44059,\n",
    "     25470,55225,42063,41392)\n",
    "\n",
    "options(repr.plot.width = 10, repr.plot.height = 4)\n",
    "\n",
    "my.xlim = c(0, 140000)\n",
    "my.ylim = c(0,25)\n",
    "my.space = c(0, 0.1, 0.5, 0.1, 0.1, 0.1, 0.5, 0.1, 0.1,0.1,0.5, 0.1, 0.1,0.1)\n",
    "\n",
    "# opar <- par(lwd = 5)\n",
    "barplot(n, \n",
    "#         border = c(col_ips,col_mesendo,col_day1,col_defendo,col_day3),\n",
    "#         col = \"white\",\n",
    "        col = c(col_FPP, col_P_FPP,\n",
    "                col_FPP, col_DA, col_Sert, col_Epen1, \n",
    "                col_DA, col_Sert, col_Epen1, col_Astro,\n",
    "                col_DA, col_Sert, col_Epen1, col_Astro),\n",
    "        xlab = \"celltype\", ylab = \"sample size\",\n",
    "        xlim = my.ylim, ylim = my.xlim, space = my.space)#, \n",
    "#         width = 0.5, xlab = \"% eQTLs overlapping H3K27ac\", horiz = TRUE, las = 1)\n"
   ]
  },
  {
   "cell_type": "code",
   "execution_count": null,
   "metadata": {},
   "outputs": [],
   "source": [
    "### cells split by donors"
   ]
  },
  {
   "cell_type": "code",
   "execution_count": 9,
   "metadata": {},
   "outputs": [],
   "source": [
    "file_prefix = \"/nfs/leia/research/stegle/dseaton/hipsci/singlecell_neuroseq/data/data_processed/pool1_17_D52/\"\n",
    "file_suffix = \"pool1_17_D52.scanpy.w_metadata.w_celltype.scanpy.obs_df.groupedby.donor_id-pool_id-time_point-treatment.celltype_fractions_pivoted.tsv\""
   ]
  },
  {
   "cell_type": "code",
   "execution_count": 10,
   "metadata": {},
   "outputs": [
    {
     "data": {
      "text/html": [
       "<table>\n",
       "<thead><tr><th scope=col>donor_id</th><th scope=col>pool_id</th><th scope=col>time_point</th><th scope=col>treatment</th><th scope=col>Astro</th><th scope=col>CHem</th><th scope=col>DA</th><th scope=col>Epen1</th><th scope=col>Epen2</th><th scope=col>FPP</th><th scope=col>P_FPP</th><th scope=col>P_Sert</th><th scope=col>Sert</th><th scope=col>unknown</th></tr></thead>\n",
       "<tbody>\n",
       "\t<tr><td>HPSI0114i-bezi_3</td><td>pool10          </td><td>D52             </td><td>NONE            </td><td>0.009174312     </td><td>0.022935780     </td><td>0.3027523       </td><td>0.1788991       </td><td>0               </td><td>0.1422018       </td><td>0.01834862      </td><td>0.01376147      </td><td>0.3119266       </td><td>0               </td></tr>\n",
       "\t<tr><td>HPSI0114i-bezi_3</td><td>pool10          </td><td>D52             </td><td>ROT             </td><td>0.022857143     </td><td>0.005714286     </td><td>0.2114286       </td><td>0.2285714       </td><td>0               </td><td>0.1885714       </td><td>0.00000000      </td><td>0.01142857      </td><td>0.3314286       </td><td>0               </td></tr>\n",
       "</tbody>\n",
       "</table>\n"
      ],
      "text/latex": [
       "\\begin{tabular}{r|llllllllllllll}\n",
       " donor\\_id & pool\\_id & time\\_point & treatment & Astro & CHem & DA & Epen1 & Epen2 & FPP & P\\_FPP & P\\_Sert & Sert & unknown\\\\\n",
       "\\hline\n",
       "\t HPSI0114i-bezi\\_3 & pool10             & D52                & NONE               & 0.009174312        & 0.022935780        & 0.3027523          & 0.1788991          & 0                  & 0.1422018          & 0.01834862         & 0.01376147         & 0.3119266          & 0                 \\\\\n",
       "\t HPSI0114i-bezi\\_3 & pool10             & D52                & ROT                & 0.022857143        & 0.005714286        & 0.2114286          & 0.2285714          & 0                  & 0.1885714          & 0.00000000         & 0.01142857         & 0.3314286          & 0                 \\\\\n",
       "\\end{tabular}\n"
      ],
      "text/markdown": [
       "\n",
       "| donor_id | pool_id | time_point | treatment | Astro | CHem | DA | Epen1 | Epen2 | FPP | P_FPP | P_Sert | Sert | unknown |\n",
       "|---|---|---|---|---|---|---|---|---|---|---|---|---|---|\n",
       "| HPSI0114i-bezi_3 | pool10           | D52              | NONE             | 0.009174312      | 0.022935780      | 0.3027523        | 0.1788991        | 0                | 0.1422018        | 0.01834862       | 0.01376147       | 0.3119266        | 0                |\n",
       "| HPSI0114i-bezi_3 | pool10           | D52              | ROT              | 0.022857143      | 0.005714286      | 0.2114286        | 0.2285714        | 0                | 0.1885714        | 0.00000000       | 0.01142857       | 0.3314286        | 0                |\n",
       "\n"
      ],
      "text/plain": [
       "  donor_id         pool_id time_point treatment Astro       CHem       \n",
       "1 HPSI0114i-bezi_3 pool10  D52        NONE      0.009174312 0.022935780\n",
       "2 HPSI0114i-bezi_3 pool10  D52        ROT       0.022857143 0.005714286\n",
       "  DA        Epen1     Epen2 FPP       P_FPP      P_Sert     Sert      unknown\n",
       "1 0.3027523 0.1788991 0     0.1422018 0.01834862 0.01376147 0.3119266 0      \n",
       "2 0.2114286 0.2285714 0     0.1885714 0.00000000 0.01142857 0.3314286 0      "
      ]
     },
     "metadata": {},
     "output_type": "display_data"
    }
   ],
   "source": [
    "celltypes = read.table(paste0(file_prefix, file_suffix), header = T)\n",
    "head(celltypes,2)"
   ]
  },
  {
   "cell_type": "code",
   "execution_count": 11,
   "metadata": {},
   "outputs": [],
   "source": [
    "D52_celltypes = celltypes %>% group_by(donor_id) %>% summarise(mean_neuro = mean(DA+Sert))"
   ]
  },
  {
   "cell_type": "code",
   "execution_count": 12,
   "metadata": {},
   "outputs": [
    {
     "data": {
      "text/html": [
       "<table>\n",
       "<thead><tr><th scope=col>donor_id</th><th scope=col>mean_neuro</th></tr></thead>\n",
       "<tbody>\n",
       "\t<tr><td>HPSI0614i-paab_3</td><td>0.00000000      </td></tr>\n",
       "\t<tr><td>HPSI1113i-uofv_1</td><td>0.00000000      </td></tr>\n",
       "\t<tr><td>HPSI1014i-boss_1</td><td>0.01002865      </td></tr>\n",
       "\t<tr><td>HPSI0414i-mita_1</td><td>0.01188503      </td></tr>\n",
       "\t<tr><td>HPSI0114i-eipl_1</td><td>0.01278164      </td></tr>\n",
       "\t<tr><td>HPSI1014i-quls_2</td><td>0.01440541      </td></tr>\n",
       "</tbody>\n",
       "</table>\n"
      ],
      "text/latex": [
       "\\begin{tabular}{r|ll}\n",
       " donor\\_id & mean\\_neuro\\\\\n",
       "\\hline\n",
       "\t HPSI0614i-paab\\_3 & 0.00000000        \\\\\n",
       "\t HPSI1113i-uofv\\_1 & 0.00000000        \\\\\n",
       "\t HPSI1014i-boss\\_1 & 0.01002865        \\\\\n",
       "\t HPSI0414i-mita\\_1 & 0.01188503        \\\\\n",
       "\t HPSI0114i-eipl\\_1 & 0.01278164        \\\\\n",
       "\t HPSI1014i-quls\\_2 & 0.01440541        \\\\\n",
       "\\end{tabular}\n"
      ],
      "text/markdown": [
       "\n",
       "| donor_id | mean_neuro |\n",
       "|---|---|\n",
       "| HPSI0614i-paab_3 | 0.00000000       |\n",
       "| HPSI1113i-uofv_1 | 0.00000000       |\n",
       "| HPSI1014i-boss_1 | 0.01002865       |\n",
       "| HPSI0414i-mita_1 | 0.01188503       |\n",
       "| HPSI0114i-eipl_1 | 0.01278164       |\n",
       "| HPSI1014i-quls_2 | 0.01440541       |\n",
       "\n"
      ],
      "text/plain": [
       "  donor_id         mean_neuro\n",
       "1 HPSI0614i-paab_3 0.00000000\n",
       "2 HPSI1113i-uofv_1 0.00000000\n",
       "3 HPSI1014i-boss_1 0.01002865\n",
       "4 HPSI0414i-mita_1 0.01188503\n",
       "5 HPSI0114i-eipl_1 0.01278164\n",
       "6 HPSI1014i-quls_2 0.01440541"
      ]
     },
     "metadata": {},
     "output_type": "display_data"
    }
   ],
   "source": [
    "head(D52_celltypes[order(D52_celltypes$mean_neuro),])"
   ]
  },
  {
   "cell_type": "code",
   "execution_count": 13,
   "metadata": {},
   "outputs": [
    {
     "data": {
      "text/html": [
       "52"
      ],
      "text/latex": [
       "52"
      ],
      "text/markdown": [
       "52"
      ],
      "text/plain": [
       "[1] 52"
      ]
     },
     "metadata": {},
     "output_type": "display_data"
    }
   ],
   "source": [
    "bad_donors = D52_celltypes[D52_celltypes$mean_neuro < 0.2,\"donor_id\"]\n",
    "nrow(bad_donors)"
   ]
  },
  {
   "cell_type": "code",
   "execution_count": 14,
   "metadata": {},
   "outputs": [
    {
     "data": {
      "text/html": [
       "47"
      ],
      "text/latex": [
       "47"
      ],
      "text/markdown": [
       "47"
      ],
      "text/plain": [
       "[1] 47"
      ]
     },
     "metadata": {},
     "output_type": "display_data"
    }
   ],
   "source": [
    "good_donors = D52_celltypes[D52_celltypes$mean_neuro > 0.75,\"donor_id\"]\n",
    "nrow(good_donors)"
   ]
  },
  {
   "cell_type": "code",
   "execution_count": 15,
   "metadata": {},
   "outputs": [
    {
     "data": {
      "text/html": [
       "<table>\n",
       "<thead><tr><th scope=col>donor_id</th><th scope=col>pool_id</th><th scope=col>time_point</th><th scope=col>treatment</th><th scope=col>celltype</th><th scope=col>n_cells</th></tr></thead>\n",
       "<tbody>\n",
       "\t<tr><td>HPSI0114i-bezi_3</td><td>pool10          </td><td>D52             </td><td>NONE            </td><td>Astro           </td><td> 2              </td></tr>\n",
       "\t<tr><td>HPSI0114i-bezi_3</td><td>pool10          </td><td>D52             </td><td>NONE            </td><td>CHem            </td><td> 5              </td></tr>\n",
       "\t<tr><td>HPSI0114i-bezi_3</td><td>pool10          </td><td>D52             </td><td>NONE            </td><td>DA              </td><td>66              </td></tr>\n",
       "\t<tr><td>HPSI0114i-bezi_3</td><td>pool10          </td><td>D52             </td><td>NONE            </td><td>Epen1           </td><td>39              </td></tr>\n",
       "\t<tr><td>HPSI0114i-bezi_3</td><td>pool10          </td><td>D52             </td><td>NONE            </td><td>FPP             </td><td>31              </td></tr>\n",
       "\t<tr><td>HPSI0114i-bezi_3</td><td>pool10          </td><td>D52             </td><td>NONE            </td><td>P_FPP           </td><td> 4              </td></tr>\n",
       "</tbody>\n",
       "</table>\n"
      ],
      "text/latex": [
       "\\begin{tabular}{r|llllll}\n",
       " donor\\_id & pool\\_id & time\\_point & treatment & celltype & n\\_cells\\\\\n",
       "\\hline\n",
       "\t HPSI0114i-bezi\\_3 & pool10             & D52                & NONE               & Astro              &  2                \\\\\n",
       "\t HPSI0114i-bezi\\_3 & pool10             & D52                & NONE               & CHem               &  5                \\\\\n",
       "\t HPSI0114i-bezi\\_3 & pool10             & D52                & NONE               & DA                 & 66                \\\\\n",
       "\t HPSI0114i-bezi\\_3 & pool10             & D52                & NONE               & Epen1              & 39                \\\\\n",
       "\t HPSI0114i-bezi\\_3 & pool10             & D52                & NONE               & FPP                & 31                \\\\\n",
       "\t HPSI0114i-bezi\\_3 & pool10             & D52                & NONE               & P\\_FPP            &  4                \\\\\n",
       "\\end{tabular}\n"
      ],
      "text/markdown": [
       "\n",
       "| donor_id | pool_id | time_point | treatment | celltype | n_cells |\n",
       "|---|---|---|---|---|---|\n",
       "| HPSI0114i-bezi_3 | pool10           | D52              | NONE             | Astro            |  2               |\n",
       "| HPSI0114i-bezi_3 | pool10           | D52              | NONE             | CHem             |  5               |\n",
       "| HPSI0114i-bezi_3 | pool10           | D52              | NONE             | DA               | 66               |\n",
       "| HPSI0114i-bezi_3 | pool10           | D52              | NONE             | Epen1            | 39               |\n",
       "| HPSI0114i-bezi_3 | pool10           | D52              | NONE             | FPP              | 31               |\n",
       "| HPSI0114i-bezi_3 | pool10           | D52              | NONE             | P_FPP            |  4               |\n",
       "\n"
      ],
      "text/plain": [
       "  donor_id         pool_id time_point treatment celltype n_cells\n",
       "1 HPSI0114i-bezi_3 pool10  D52        NONE      Astro     2     \n",
       "2 HPSI0114i-bezi_3 pool10  D52        NONE      CHem      5     \n",
       "3 HPSI0114i-bezi_3 pool10  D52        NONE      DA       66     \n",
       "4 HPSI0114i-bezi_3 pool10  D52        NONE      Epen1    39     \n",
       "5 HPSI0114i-bezi_3 pool10  D52        NONE      FPP      31     \n",
       "6 HPSI0114i-bezi_3 pool10  D52        NONE      P_FPP     4     "
      ]
     },
     "metadata": {},
     "output_type": "display_data"
    }
   ],
   "source": [
    "# D11\n",
    "mydir = \"/nfs/leia/research/stegle/dseaton/hipsci/singlecell_neuroseq/data/data_processed/pool1_13_noddd_D11/\"\n",
    "mysuffix = \"pool1_13_noddd_D11.scanpy.w_metadata.w_celltype.scanpy.obs_df.groupedby.donor_id-pool_id-time_point.celltype_counts.tsv\"\n",
    "# D30\n",
    "mydir = \"/nfs/leia/research/stegle/dseaton/hipsci/singlecell_neuroseq/data/data_processed/pool1_13_noddd_D30/\"\n",
    "mysuffix = \"pool1_13_noddd_D30.scanpy.w_metadata.w_celltype.scanpy.obs_df.groupedby.donor_id-pool_id-time_point.celltype_counts.tsv\"\n",
    "# D52\n",
    "mydir = \"/nfs/leia/research/stegle/dseaton/hipsci/singlecell_neuroseq/data/data_processed/pool1_17_D52/\"\n",
    "mysuffix = \"pool1_17_D52.scanpy.w_metadata.w_celltype.scanpy.obs_df.groupedby.donor_id-pool_id-time_point-treatment.celltype_counts.tsv\"\n",
    "\n",
    "myfilename = paste0(mydir,mysuffix)\n",
    "myfile = read.table(myfilename, header = T)\n",
    "head(myfile)"
   ]
  },
  {
   "cell_type": "code",
   "execution_count": 16,
   "metadata": {},
   "outputs": [
    {
     "data": {
      "text/html": [
       "<table>\n",
       "<thead><tr><th scope=col>celltype</th><th scope=col>time_point</th><th scope=col>ncells</th></tr></thead>\n",
       "<tbody>\n",
       "\t<tr><td>FPP  </td><td>D52  </td><td>28972</td></tr>\n",
       "\t<tr><td>P_FPP</td><td>D52  </td><td>17701</td></tr>\n",
       "</tbody>\n",
       "</table>\n"
      ],
      "text/latex": [
       "\\begin{tabular}{r|lll}\n",
       " celltype & time\\_point & ncells\\\\\n",
       "\\hline\n",
       "\t FPP   & D52   & 28972\\\\\n",
       "\t P\\_FPP & D52     & 17701  \\\\\n",
       "\\end{tabular}\n"
      ],
      "text/markdown": [
       "\n",
       "| celltype | time_point | ncells |\n",
       "|---|---|---|\n",
       "| FPP   | D52   | 28972 |\n",
       "| P_FPP | D52   | 17701 |\n",
       "\n"
      ],
      "text/plain": [
       "  celltype time_point ncells\n",
       "1 FPP      D52        28972 \n",
       "2 P_FPP    D52        17701 "
      ]
     },
     "metadata": {},
     "output_type": "display_data"
    }
   ],
   "source": [
    "## D11\n",
    "df = myfile[myfile$donor_id %in% bad_donors$donor_id,] %>% \n",
    "    group_by(celltype,time_point) %>% summarise(ncells = sum(n_cells))\n",
    "# df = df[order(df$ncells),]\n",
    "df[df$celltype %in% c(\"FPP\",\"P_FPP\"),]"
   ]
  },
  {
   "cell_type": "code",
   "execution_count": 17,
   "metadata": {},
   "outputs": [
    {
     "data": {
      "text/html": [
       "<table>\n",
       "<thead><tr><th scope=col>celltype</th><th scope=col>time_point</th><th scope=col>ncells</th></tr></thead>\n",
       "<tbody>\n",
       "\t<tr><td>Astro</td><td>D52  </td><td>73083</td></tr>\n",
       "\t<tr><td>DA   </td><td>D52  </td><td> 8542</td></tr>\n",
       "\t<tr><td>Epen1</td><td>D52  </td><td>52929</td></tr>\n",
       "\t<tr><td>Sert </td><td>D52  </td><td> 2391</td></tr>\n",
       "</tbody>\n",
       "</table>\n"
      ],
      "text/latex": [
       "\\begin{tabular}{r|lll}\n",
       " celltype & time\\_point & ncells\\\\\n",
       "\\hline\n",
       "\t Astro & D52   & 73083\\\\\n",
       "\t DA    & D52   &  8542\\\\\n",
       "\t Epen1 & D52   & 52929\\\\\n",
       "\t Sert  & D52   &  2391\\\\\n",
       "\\end{tabular}\n"
      ],
      "text/markdown": [
       "\n",
       "| celltype | time_point | ncells |\n",
       "|---|---|---|\n",
       "| Astro | D52   | 73083 |\n",
       "| DA    | D52   |  8542 |\n",
       "| Epen1 | D52   | 52929 |\n",
       "| Sert  | D52   |  2391 |\n",
       "\n"
      ],
      "text/plain": [
       "  celltype time_point ncells\n",
       "1 Astro    D52        73083 \n",
       "2 DA       D52         8542 \n",
       "3 Epen1    D52        52929 \n",
       "4 Sert     D52         2391 "
      ]
     },
     "metadata": {},
     "output_type": "display_data"
    }
   ],
   "source": [
    "## D30\n",
    "df = myfile[myfile$donor_id %in% bad_donors$donor_id,] %>% \n",
    "    group_by(celltype,time_point) %>% summarise(ncells = sum(n_cells))\n",
    "# df = df[order(df$ncells),]\n",
    "df[df$celltype %in% c(\"DA\",\"Sert\",\"Epen1\",\"Astro\"),]"
   ]
  },
  {
   "cell_type": "code",
   "execution_count": 18,
   "metadata": {},
   "outputs": [
    {
     "data": {
      "text/html": [
       "<table>\n",
       "<thead><tr><th scope=col>celltype</th><th scope=col>time_point</th><th scope=col>treatment</th><th scope=col>ncells</th></tr></thead>\n",
       "<tbody>\n",
       "\t<tr><td>Astro</td><td>D52  </td><td>NONE </td><td>37437</td></tr>\n",
       "\t<tr><td>Astro</td><td>D52  </td><td>ROT  </td><td>35646</td></tr>\n",
       "\t<tr><td>DA   </td><td>D52  </td><td>NONE </td><td> 5790</td></tr>\n",
       "\t<tr><td>DA   </td><td>D52  </td><td>ROT  </td><td> 2752</td></tr>\n",
       "\t<tr><td>Epen1</td><td>D52  </td><td>NONE </td><td>27887</td></tr>\n",
       "\t<tr><td>Epen1</td><td>D52  </td><td>ROT  </td><td>25042</td></tr>\n",
       "\t<tr><td>Sert </td><td>D52  </td><td>NONE </td><td> 1410</td></tr>\n",
       "\t<tr><td>Sert </td><td>D52  </td><td>ROT  </td><td>  981</td></tr>\n",
       "</tbody>\n",
       "</table>\n"
      ],
      "text/latex": [
       "\\begin{tabular}{r|llll}\n",
       " celltype & time\\_point & treatment & ncells\\\\\n",
       "\\hline\n",
       "\t Astro & D52   & NONE  & 37437\\\\\n",
       "\t Astro & D52   & ROT   & 35646\\\\\n",
       "\t DA    & D52   & NONE  &  5790\\\\\n",
       "\t DA    & D52   & ROT   &  2752\\\\\n",
       "\t Epen1 & D52   & NONE  & 27887\\\\\n",
       "\t Epen1 & D52   & ROT   & 25042\\\\\n",
       "\t Sert  & D52   & NONE  &  1410\\\\\n",
       "\t Sert  & D52   & ROT   &   981\\\\\n",
       "\\end{tabular}\n"
      ],
      "text/markdown": [
       "\n",
       "| celltype | time_point | treatment | ncells |\n",
       "|---|---|---|---|\n",
       "| Astro | D52   | NONE  | 37437 |\n",
       "| Astro | D52   | ROT   | 35646 |\n",
       "| DA    | D52   | NONE  |  5790 |\n",
       "| DA    | D52   | ROT   |  2752 |\n",
       "| Epen1 | D52   | NONE  | 27887 |\n",
       "| Epen1 | D52   | ROT   | 25042 |\n",
       "| Sert  | D52   | NONE  |  1410 |\n",
       "| Sert  | D52   | ROT   |   981 |\n",
       "\n"
      ],
      "text/plain": [
       "  celltype time_point treatment ncells\n",
       "1 Astro    D52        NONE      37437 \n",
       "2 Astro    D52        ROT       35646 \n",
       "3 DA       D52        NONE       5790 \n",
       "4 DA       D52        ROT        2752 \n",
       "5 Epen1    D52        NONE      27887 \n",
       "6 Epen1    D52        ROT       25042 \n",
       "7 Sert     D52        NONE       1410 \n",
       "8 Sert     D52        ROT         981 "
      ]
     },
     "metadata": {},
     "output_type": "display_data"
    }
   ],
   "source": [
    "## D52\n",
    "df = myfile[myfile$donor_id %in% bad_donors$donor_id,] %>% \n",
    "    group_by(celltype,time_point,treatment) %>% summarise(ncells = sum(n_cells))\n",
    "# df = df[order(df$ncells),]\n",
    "df[df$celltype %in% c(\"DA\",\"Sert\",\"Epen1\",\"Astro\"),]"
   ]
  },
  {
   "cell_type": "code",
   "execution_count": 106,
   "metadata": {},
   "outputs": [
    {
     "data": {
      "image/png": "[encoded data removed]",
      "text/plain": [
       "plot without title"
      ]
     },
     "metadata": {},
     "output_type": "display_data"
    }
   ],
   "source": [
    "n = c(46484,33048,\n",
    "      7136,3644,19420,34228,\n",
    "      5790,1410,27887,37437,\n",
    "      2752,981,25042,35646)\n",
    "\n",
    "options(repr.plot.width = 10, repr.plot.height = 4)\n",
    "\n",
    "my.xlim = c(0, 50000)\n",
    "my.ylim = c(0,25)\n",
    "my.space = c(0, 0.1, 0.5, 0.1, 0.1, 0.1, 0.5, 0.1, 0.1,0.1,0.5, 0.1, 0.1,0.1)\n",
    "\n",
    "# opar <- par(lwd = 5)\n",
    "barplot(n, \n",
    "#         border = c(col_ips,col_mesendo,col_day1,col_defendo,col_day3),\n",
    "#         col = \"white\",\n",
    "        col = c(col_FPP, col_P_FPP,\n",
    "                col_DA, col_Sert, col_Epen1, col_Astro,\n",
    "                col_DA, col_Sert, col_Epen1, col_Astro,\n",
    "                col_DA, col_Sert, col_Epen1, col_Astro),\n",
    "        xlab = \"celltype\", ylab = \"sample size\",\n",
    "        xlim = my.ylim, ylim = my.xlim, space = my.space)#, \n",
    "#         width = 0.5, xlab = \"% eQTLs overlapping H3K27ac\", horiz = TRUE, las = 1)\n"
   ]
  },
  {
   "cell_type": "code",
   "execution_count": 111,
   "metadata": {},
   "outputs": [
    {
     "data": {
      "text/html": [
       "<table>\n",
       "<caption>A data.frame: 6 × 6</caption>\n",
       "<thead>\n",
       "\t<tr><th scope=col>donor_id</th><th scope=col>pool_id</th><th scope=col>time_point</th><th scope=col>treatment</th><th scope=col>celltype</th><th scope=col>n_cells</th></tr>\n",
       "\t<tr><th scope=col>&lt;fct&gt;</th><th scope=col>&lt;fct&gt;</th><th scope=col>&lt;fct&gt;</th><th scope=col>&lt;fct&gt;</th><th scope=col>&lt;fct&gt;</th><th scope=col>&lt;int&gt;</th></tr>\n",
       "</thead>\n",
       "<tbody>\n",
       "\t<tr><td>HPSI0114i-bezi_3</td><td>pool10</td><td>D52</td><td>NONE</td><td>Astro</td><td> 2</td></tr>\n",
       "\t<tr><td>HPSI0114i-bezi_3</td><td>pool10</td><td>D52</td><td>NONE</td><td>CHem </td><td> 5</td></tr>\n",
       "\t<tr><td>HPSI0114i-bezi_3</td><td>pool10</td><td>D52</td><td>NONE</td><td>DA   </td><td>66</td></tr>\n",
       "\t<tr><td>HPSI0114i-bezi_3</td><td>pool10</td><td>D52</td><td>NONE</td><td>Epen1</td><td>39</td></tr>\n",
       "\t<tr><td>HPSI0114i-bezi_3</td><td>pool10</td><td>D52</td><td>NONE</td><td>FPP  </td><td>31</td></tr>\n",
       "\t<tr><td>HPSI0114i-bezi_3</td><td>pool10</td><td>D52</td><td>NONE</td><td>P_FPP</td><td> 4</td></tr>\n",
       "</tbody>\n",
       "</table>\n"
      ],
      "text/latex": [
       "A data.frame: 6 × 6\n",
       "\\begin{tabular}{r|llllll}\n",
       " donor\\_id & pool\\_id & time\\_point & treatment & celltype & n\\_cells\\\\\n",
       " <fct> & <fct> & <fct> & <fct> & <fct> & <int>\\\\\n",
       "\\hline\n",
       "\t HPSI0114i-bezi\\_3 & pool10 & D52 & NONE & Astro &  2\\\\\n",
       "\t HPSI0114i-bezi\\_3 & pool10 & D52 & NONE & CHem  &  5\\\\\n",
       "\t HPSI0114i-bezi\\_3 & pool10 & D52 & NONE & DA    & 66\\\\\n",
       "\t HPSI0114i-bezi\\_3 & pool10 & D52 & NONE & Epen1 & 39\\\\\n",
       "\t HPSI0114i-bezi\\_3 & pool10 & D52 & NONE & FPP   & 31\\\\\n",
       "\t HPSI0114i-bezi\\_3 & pool10 & D52 & NONE & P\\_FPP &  4\\\\\n",
       "\\end{tabular}\n"
      ],
      "text/markdown": [
       "\n",
       "A data.frame: 6 × 6\n",
       "\n",
       "| donor_id &lt;fct&gt; | pool_id &lt;fct&gt; | time_point &lt;fct&gt; | treatment &lt;fct&gt; | celltype &lt;fct&gt; | n_cells &lt;int&gt; |\n",
       "|---|---|---|---|---|---|\n",
       "| HPSI0114i-bezi_3 | pool10 | D52 | NONE | Astro |  2 |\n",
       "| HPSI0114i-bezi_3 | pool10 | D52 | NONE | CHem  |  5 |\n",
       "| HPSI0114i-bezi_3 | pool10 | D52 | NONE | DA    | 66 |\n",
       "| HPSI0114i-bezi_3 | pool10 | D52 | NONE | Epen1 | 39 |\n",
       "| HPSI0114i-bezi_3 | pool10 | D52 | NONE | FPP   | 31 |\n",
       "| HPSI0114i-bezi_3 | pool10 | D52 | NONE | P_FPP |  4 |\n",
       "\n"
      ],
      "text/plain": [
       "  donor_id         pool_id time_point treatment celltype n_cells\n",
       "1 HPSI0114i-bezi_3 pool10  D52        NONE      Astro     2     \n",
       "2 HPSI0114i-bezi_3 pool10  D52        NONE      CHem      5     \n",
       "3 HPSI0114i-bezi_3 pool10  D52        NONE      DA       66     \n",
       "4 HPSI0114i-bezi_3 pool10  D52        NONE      Epen1    39     \n",
       "5 HPSI0114i-bezi_3 pool10  D52        NONE      FPP      31     \n",
       "6 HPSI0114i-bezi_3 pool10  D52        NONE      P_FPP     4     "
      ]
     },
     "metadata": {},
     "output_type": "display_data"
    }
   ],
   "source": [
    "# D11\n",
    "mydir = \"/nfs/leia/research/stegle/dseaton/hipsci/singlecell_neuroseq/data/data_processed/pool1_13_noddd_D11/\"\n",
    "mysuffix = \"pool1_13_noddd_D11.scanpy.w_metadata.w_celltype.scanpy.obs_df.groupedby.donor_id-pool_id-time_point.celltype_counts.tsv\"\n",
    "# D30\n",
    "mydir = \"/nfs/leia/research/stegle/dseaton/hipsci/singlecell_neuroseq/data/data_processed/pool1_13_noddd_D30/\"\n",
    "mysuffix = \"pool1_13_noddd_D30.scanpy.w_metadata.w_celltype.scanpy.obs_df.groupedby.donor_id-pool_id-time_point.celltype_counts.tsv\"\n",
    "# D52\n",
    "mydir = \"/nfs/leia/research/stegle/dseaton/hipsci/singlecell_neuroseq/data/data_processed/pool1_17_D52/\"\n",
    "mysuffix = \"pool1_17_D52.scanpy.w_metadata.w_celltype.scanpy.obs_df.groupedby.donor_id-pool_id-time_point-treatment.celltype_counts.tsv\"\n",
    "\n",
    "myfilename = paste0(mydir,mysuffix)\n",
    "myfile = read.table(myfilename, header = T)\n",
    "head(myfile)"
   ]
  },
  {
   "cell_type": "code",
   "execution_count": 108,
   "metadata": {},
   "outputs": [
    {
     "data": {
      "text/html": [
       "<table>\n",
       "<caption>A grouped_df: 2 × 3</caption>\n",
       "<thead>\n",
       "\t<tr><th scope=col>celltype</th><th scope=col>time_point</th><th scope=col>ncells</th></tr>\n",
       "\t<tr><th scope=col>&lt;fct&gt;</th><th scope=col>&lt;fct&gt;</th><th scope=col>&lt;int&gt;</th></tr>\n",
       "</thead>\n",
       "<tbody>\n",
       "\t<tr><td>FPP  </td><td>D11</td><td>22661</td></tr>\n",
       "\t<tr><td>P_FPP</td><td>D11</td><td>19102</td></tr>\n",
       "</tbody>\n",
       "</table>\n"
      ],
      "text/latex": [
       "A grouped_df: 2 × 3\n",
       "\\begin{tabular}{r|lll}\n",
       " celltype & time\\_point & ncells\\\\\n",
       " <fct> & <fct> & <int>\\\\\n",
       "\\hline\n",
       "\t FPP   & D11 & 22661\\\\\n",
       "\t P\\_FPP & D11 & 19102\\\\\n",
       "\\end{tabular}\n"
      ],
      "text/markdown": [
       "\n",
       "A grouped_df: 2 × 3\n",
       "\n",
       "| celltype &lt;fct&gt; | time_point &lt;fct&gt; | ncells &lt;int&gt; |\n",
       "|---|---|---|\n",
       "| FPP   | D11 | 22661 |\n",
       "| P_FPP | D11 | 19102 |\n",
       "\n"
      ],
      "text/plain": [
       "  celltype time_point ncells\n",
       "1 FPP      D11        22661 \n",
       "2 P_FPP    D11        19102 "
      ]
     },
     "metadata": {},
     "output_type": "display_data"
    }
   ],
   "source": [
    "## D11\n",
    "df = myfile[myfile$donor_id %in% good_donors$donor_id,] %>% \n",
    "    group_by(celltype,time_point) %>% summarise(ncells = sum(n_cells))\n",
    "# df = df[order(df$ncells),]\n",
    "df[df$celltype %in% c(\"FPP\",\"P_FPP\"),]"
   ]
  },
  {
   "cell_type": "code",
   "execution_count": 110,
   "metadata": {},
   "outputs": [
    {
     "data": {
      "text/html": [
       "<table>\n",
       "<caption>A grouped_df: 4 × 3</caption>\n",
       "<thead>\n",
       "\t<tr><th scope=col>celltype</th><th scope=col>time_point</th><th scope=col>ncells</th></tr>\n",
       "\t<tr><th scope=col>&lt;fct&gt;</th><th scope=col>&lt;fct&gt;</th><th scope=col>&lt;int&gt;</th></tr>\n",
       "</thead>\n",
       "<tbody>\n",
       "\t<tr><td>Astro</td><td>D30</td><td> 4137</td></tr>\n",
       "\t<tr><td>DA   </td><td>D30</td><td>17526</td></tr>\n",
       "\t<tr><td>Epen1</td><td>D30</td><td> 1041</td></tr>\n",
       "\t<tr><td>Sert </td><td>D30</td><td>23361</td></tr>\n",
       "</tbody>\n",
       "</table>\n"
      ],
      "text/latex": [
       "A grouped_df: 4 × 3\n",
       "\\begin{tabular}{r|lll}\n",
       " celltype & time\\_point & ncells\\\\\n",
       " <fct> & <fct> & <int>\\\\\n",
       "\\hline\n",
       "\t Astro & D30 &  4137\\\\\n",
       "\t DA    & D30 & 17526\\\\\n",
       "\t Epen1 & D30 &  1041\\\\\n",
       "\t Sert  & D30 & 23361\\\\\n",
       "\\end{tabular}\n"
      ],
      "text/markdown": [
       "\n",
       "A grouped_df: 4 × 3\n",
       "\n",
       "| celltype &lt;fct&gt; | time_point &lt;fct&gt; | ncells &lt;int&gt; |\n",
       "|---|---|---|\n",
       "| Astro | D30 |  4137 |\n",
       "| DA    | D30 | 17526 |\n",
       "| Epen1 | D30 |  1041 |\n",
       "| Sert  | D30 | 23361 |\n",
       "\n"
      ],
      "text/plain": [
       "  celltype time_point ncells\n",
       "1 Astro    D30         4137 \n",
       "2 DA       D30        17526 \n",
       "3 Epen1    D30         1041 \n",
       "4 Sert     D30        23361 "
      ]
     },
     "metadata": {},
     "output_type": "display_data"
    }
   ],
   "source": [
    "## D30\n",
    "df = myfile[myfile$donor_id %in% good_donors$donor_id,] %>% \n",
    "    group_by(celltype,time_point) %>% summarise(ncells = sum(n_cells))\n",
    "# df = df[order(df$ncells),]\n",
    "df[df$celltype %in% c(\"DA\",\"Sert\",\"Epen1\",\"Astro\"),]"
   ]
  },
  {
   "cell_type": "code",
   "execution_count": 112,
   "metadata": {},
   "outputs": [
    {
     "data": {
      "text/html": [
       "<table>\n",
       "<caption>A grouped_df: 8 × 4</caption>\n",
       "<thead>\n",
       "\t<tr><th scope=col>celltype</th><th scope=col>time_point</th><th scope=col>treatment</th><th scope=col>ncells</th></tr>\n",
       "\t<tr><th scope=col>&lt;fct&gt;</th><th scope=col>&lt;fct&gt;</th><th scope=col>&lt;fct&gt;</th><th scope=col>&lt;int&gt;</th></tr>\n",
       "</thead>\n",
       "<tbody>\n",
       "\t<tr><td>Astro</td><td>D52</td><td>NONE</td><td>  760</td></tr>\n",
       "\t<tr><td>Astro</td><td>D52</td><td>ROT </td><td>  576</td></tr>\n",
       "\t<tr><td>DA   </td><td>D52</td><td>NONE</td><td>15557</td></tr>\n",
       "\t<tr><td>DA   </td><td>D52</td><td>ROT </td><td> 6845</td></tr>\n",
       "\t<tr><td>Epen1</td><td>D52</td><td>NONE</td><td> 1715</td></tr>\n",
       "\t<tr><td>Epen1</td><td>D52</td><td>ROT </td><td> 1443</td></tr>\n",
       "\t<tr><td>Sert </td><td>D52</td><td>NONE</td><td>37696</td></tr>\n",
       "\t<tr><td>Sert </td><td>D52</td><td>ROT </td><td>27871</td></tr>\n",
       "</tbody>\n",
       "</table>\n"
      ],
      "text/latex": [
       "A grouped_df: 8 × 4\n",
       "\\begin{tabular}{r|llll}\n",
       " celltype & time\\_point & treatment & ncells\\\\\n",
       " <fct> & <fct> & <fct> & <int>\\\\\n",
       "\\hline\n",
       "\t Astro & D52 & NONE &   760\\\\\n",
       "\t Astro & D52 & ROT  &   576\\\\\n",
       "\t DA    & D52 & NONE & 15557\\\\\n",
       "\t DA    & D52 & ROT  &  6845\\\\\n",
       "\t Epen1 & D52 & NONE &  1715\\\\\n",
       "\t Epen1 & D52 & ROT  &  1443\\\\\n",
       "\t Sert  & D52 & NONE & 37696\\\\\n",
       "\t Sert  & D52 & ROT  & 27871\\\\\n",
       "\\end{tabular}\n"
      ],
      "text/markdown": [
       "\n",
       "A grouped_df: 8 × 4\n",
       "\n",
       "| celltype &lt;fct&gt; | time_point &lt;fct&gt; | treatment &lt;fct&gt; | ncells &lt;int&gt; |\n",
       "|---|---|---|---|\n",
       "| Astro | D52 | NONE |   760 |\n",
       "| Astro | D52 | ROT  |   576 |\n",
       "| DA    | D52 | NONE | 15557 |\n",
       "| DA    | D52 | ROT  |  6845 |\n",
       "| Epen1 | D52 | NONE |  1715 |\n",
       "| Epen1 | D52 | ROT  |  1443 |\n",
       "| Sert  | D52 | NONE | 37696 |\n",
       "| Sert  | D52 | ROT  | 27871 |\n",
       "\n"
      ],
      "text/plain": [
       "  celltype time_point treatment ncells\n",
       "1 Astro    D52        NONE        760 \n",
       "2 Astro    D52        ROT         576 \n",
       "3 DA       D52        NONE      15557 \n",
       "4 DA       D52        ROT        6845 \n",
       "5 Epen1    D52        NONE       1715 \n",
       "6 Epen1    D52        ROT        1443 \n",
       "7 Sert     D52        NONE      37696 \n",
       "8 Sert     D52        ROT       27871 "
      ]
     },
     "metadata": {},
     "output_type": "display_data"
    }
   ],
   "source": [
    "## D52\n",
    "df = myfile[myfile$donor_id %in% good_donors$donor_id,] %>% \n",
    "    group_by(celltype,time_point,treatment) %>% summarise(ncells = sum(n_cells))\n",
    "# df = df[order(df$ncells),]\n",
    "df[df$celltype %in% c(\"DA\",\"Sert\",\"Epen1\",\"Astro\"),]"
   ]
  },
  {
   "cell_type": "code",
   "execution_count": 113,
   "metadata": {},
   "outputs": [
    {
     "data": {
      "image/png": "[encoded data removed]",
      "text/plain": [
       "plot without title"
      ]
     },
     "metadata": {},
     "output_type": "display_data"
    }
   ],
   "source": [
    "n = c(22661,19102,\n",
    "      17526,23361,1041,4137,\n",
    "      15557,37696,1715,760,\n",
    "      6845,27871,1443,576)\n",
    "\n",
    "options(repr.plot.width = 10, repr.plot.height = 4)\n",
    "\n",
    "my.xlim = c(0, 50000)\n",
    "my.ylim = c(0,25)\n",
    "my.space = c(0, 0.1, 0.5, 0.1, 0.1, 0.1, 0.5, 0.1, 0.1,0.1,0.5, 0.1, 0.1,0.1)\n",
    "\n",
    "# opar <- par(lwd = 5)\n",
    "barplot(n, \n",
    "#         border = c(col_ips,col_mesendo,col_day1,col_defendo,col_day3),\n",
    "#         col = \"white\",\n",
    "        col = c(col_FPP, col_P_FPP,\n",
    "                col_DA, col_Sert, col_Epen1, col_Astro,\n",
    "                col_DA, col_Sert, col_Epen1, col_Astro,\n",
    "                col_DA, col_Sert, col_Epen1, col_Astro),\n",
    "        xlab = \"celltype\", ylab = \"sample size\",\n",
    "        xlim = my.ylim, ylim = my.xlim, space = my.space)#, \n",
    "#         width = 0.5, xlab = \"% eQTLs overlapping H3K27ac\", horiz = TRUE, las = 1)\n"
   ]
  },
  {
   "cell_type": "code",
   "execution_count": null,
   "metadata": {},
   "outputs": [],
   "source": [
    "### number of donors"
   ]
  },
  {
   "cell_type": "code",
   "execution_count": 121,
   "metadata": {},
   "outputs": [
    {
     "data": {
      "text/html": [
       "173"
      ],
      "text/latex": [
       "173"
      ],
      "text/markdown": [
       "173"
      ],
      "text/plain": [
       "[1] 173"
      ]
     },
     "metadata": {},
     "output_type": "display_data"
    },
    {
     "data": {
      "text/html": [
       "172"
      ],
      "text/latex": [
       "172"
      ],
      "text/markdown": [
       "172"
      ],
      "text/plain": [
       "[1] 172"
      ]
     },
     "metadata": {},
     "output_type": "display_data"
    }
   ],
   "source": [
    "# D11\n",
    "samplemapping = \"/nfs/leia/research/stegle/dseaton/hipsci/singlecell_neuroseq/data/data_processed/pool1_13_noddd_D11/qtl_analysis/eqtl_discovery/celltype_FPP/samplemapping.tsv\"\n",
    "nrow(read.csv(samplemapping, sep = \"\\t\", header = F))\n",
    "samplemapping = \"/nfs/leia/research/stegle/dseaton/hipsci/singlecell_neuroseq/data/data_processed/pool1_13_noddd_D11/qtl_analysis/eqtl_discovery/celltype_P_FPP/samplemapping.tsv\"\n",
    "nrow(read.csv(samplemapping, sep = \"\\t\", header = F))"
   ]
  },
  {
   "cell_type": "code",
   "execution_count": 123,
   "metadata": {},
   "outputs": [
    {
     "data": {
      "text/html": [
       "165"
      ],
      "text/latex": [
       "165"
      ],
      "text/markdown": [
       "165"
      ],
      "text/plain": [
       "[1] 165"
      ]
     },
     "metadata": {},
     "output_type": "display_data"
    },
    {
     "data": {
      "text/html": [
       "151"
      ],
      "text/latex": [
       "151"
      ],
      "text/markdown": [
       "151"
      ],
      "text/plain": [
       "[1] 151"
      ]
     },
     "metadata": {},
     "output_type": "display_data"
    },
    {
     "data": {
      "text/html": [
       "133"
      ],
      "text/latex": [
       "133"
      ],
      "text/markdown": [
       "133"
      ],
      "text/plain": [
       "[1] 133"
      ]
     },
     "metadata": {},
     "output_type": "display_data"
    },
    {
     "data": {
      "text/html": [
       "152"
      ],
      "text/latex": [
       "152"
      ],
      "text/markdown": [
       "152"
      ],
      "text/plain": [
       "[1] 152"
      ]
     },
     "metadata": {},
     "output_type": "display_data"
    }
   ],
   "source": [
    "# D30\n",
    "samplemapping = \"/nfs/leia/research/stegle/dseaton/hipsci/singlecell_neuroseq/data/data_processed/pool1_13_noddd_D30/qtl_analysis/eqtl_discovery/celltype_DA/samplemapping.tsv\"\n",
    "nrow(read.csv(samplemapping, sep = \"\\t\", header = F))\n",
    "samplemapping = \"/nfs/leia/research/stegle/dseaton/hipsci/singlecell_neuroseq/data/data_processed/pool1_13_noddd_D30/qtl_analysis/eqtl_discovery/celltype_Sert/samplemapping.tsv\"\n",
    "nrow(read.csv(samplemapping, sep = \"\\t\", header = F))\n",
    "samplemapping = \"/nfs/leia/research/stegle/dseaton/hipsci/singlecell_neuroseq/data/data_processed/pool1_13_noddd_D30/qtl_analysis/eqtl_discovery/celltype_Epen1/samplemapping.tsv\"\n",
    "nrow(read.csv(samplemapping, sep = \"\\t\", header = F))\n",
    "samplemapping = \"/nfs/leia/research/stegle/dseaton/hipsci/singlecell_neuroseq/data/data_processed/pool1_13_noddd_D30/qtl_analysis/eqtl_discovery/celltype_Astro/samplemapping.tsv\"\n",
    "nrow(read.csv(samplemapping, sep = \"\\t\", header = F))"
   ]
  },
  {
   "cell_type": "code",
   "execution_count": 119,
   "metadata": {},
   "outputs": [
    {
     "data": {
      "text/html": [
       "175"
      ],
      "text/latex": [
       "175"
      ],
      "text/markdown": [
       "175"
      ],
      "text/plain": [
       "[1] 175"
      ]
     },
     "metadata": {},
     "output_type": "display_data"
    },
    {
     "data": {
      "text/html": [
       "161"
      ],
      "text/latex": [
       "161"
      ],
      "text/markdown": [
       "161"
      ],
      "text/plain": [
       "[1] 161"
      ]
     },
     "metadata": {},
     "output_type": "display_data"
    },
    {
     "data": {
      "text/html": [
       "169"
      ],
      "text/latex": [
       "169"
      ],
      "text/markdown": [
       "169"
      ],
      "text/plain": [
       "[1] 169"
      ]
     },
     "metadata": {},
     "output_type": "display_data"
    },
    {
     "data": {
      "text/html": [
       "120"
      ],
      "text/latex": [
       "120"
      ],
      "text/markdown": [
       "120"
      ],
      "text/plain": [
       "[1] 120"
      ]
     },
     "metadata": {},
     "output_type": "display_data"
    }
   ],
   "source": [
    "# D52 NONE\n",
    "samplemapping = \"/hps/nobackup/stegle/users/acuomo/all_scripts/sc_neuroseq/eqtl/timepoint_D52/input_files_untreated/celltype_DA/samplemapping.tsv\"\n",
    "nrow(read.csv(samplemapping, sep = \"\\t\", header = F))\n",
    "samplemapping = \"/hps/nobackup/stegle/users/acuomo/all_scripts/sc_neuroseq/eqtl/timepoint_D52/input_files_untreated/celltype_Sert/samplemapping.tsv\"\n",
    "nrow(read.csv(samplemapping, sep = \"\\t\", header = F))\n",
    "samplemapping = \"/hps/nobackup/stegle/users/acuomo/all_scripts/sc_neuroseq/eqtl/timepoint_D52/input_files_untreated/celltype_Epen1/samplemapping.tsv\"\n",
    "nrow(read.csv(samplemapping, sep = \"\\t\", header = F))\n",
    "samplemapping = \"/hps/nobackup/stegle/users/acuomo/all_scripts/sc_neuroseq/eqtl/timepoint_D52/input_files_untreated/celltype_Astro/samplemapping.tsv\"\n",
    "nrow(read.csv(samplemapping, sep = \"\\t\", header = F))"
   ]
  },
  {
   "cell_type": "code",
   "execution_count": 118,
   "metadata": {},
   "outputs": [
    {
     "data": {
      "text/html": [
       "157"
      ],
      "text/latex": [
       "157"
      ],
      "text/markdown": [
       "157"
      ],
      "text/plain": [
       "[1] 157"
      ]
     },
     "metadata": {},
     "output_type": "display_data"
    },
    {
     "data": {
      "text/html": [
       "154"
      ],
      "text/latex": [
       "154"
      ],
      "text/markdown": [
       "154"
      ],
      "text/plain": [
       "[1] 154"
      ]
     },
     "metadata": {},
     "output_type": "display_data"
    },
    {
     "data": {
      "text/html": [
       "165"
      ],
      "text/latex": [
       "165"
      ],
      "text/markdown": [
       "165"
      ],
      "text/plain": [
       "[1] 165"
      ]
     },
     "metadata": {},
     "output_type": "display_data"
    },
    {
     "data": {
      "text/html": [
       "109"
      ],
      "text/latex": [
       "109"
      ],
      "text/markdown": [
       "109"
      ],
      "text/plain": [
       "[1] 109"
      ]
     },
     "metadata": {},
     "output_type": "display_data"
    }
   ],
   "source": [
    "# D52 ROT\n",
    "samplemapping = \"/hps/nobackup/stegle/users/acuomo/all_scripts/sc_neuroseq/eqtl/timepoint_D52/input_files_ROT_treated/celltype_DA/samplemapping.tsv\"\n",
    "nrow(read.csv(samplemapping, sep = \"\\t\", header = F))\n",
    "samplemapping = \"/hps/nobackup/stegle/users/acuomo/all_scripts/sc_neuroseq/eqtl/timepoint_D52/input_files_ROT_treated/celltype_Sert/samplemapping.tsv\"\n",
    "nrow(read.csv(samplemapping, sep = \"\\t\", header = F))\n",
    "samplemapping = \"/hps/nobackup/stegle/users/acuomo/all_scripts/sc_neuroseq/eqtl/timepoint_D52/input_files_ROT_treated/celltype_Epen1/samplemapping.tsv\"\n",
    "nrow(read.csv(samplemapping, sep = \"\\t\", header = F))\n",
    "samplemapping = \"/hps/nobackup/stegle/users/acuomo/all_scripts/sc_neuroseq/eqtl/timepoint_D52/input_files_ROT_treated/celltype_Astro/samplemapping.tsv\"\n",
    "nrow(read.csv(samplemapping, sep = \"\\t\", header = F))"
   ]
  },
  {
   "cell_type": "code",
   "execution_count": 125,
   "metadata": {},
   "outputs": [
    {
     "data": {
      "image/png": "[encoded data removed]",
      "text/plain": [
       "plot without title"
      ]
     },
     "metadata": {},
     "output_type": "display_data"
    }
   ],
   "source": [
    "ndonors = c(173,172,            \n",
    "      165,151,133,152,\n",
    "      175,161,169,120,\n",
    "      157,154,165,109)\n",
    "\n",
    "options(repr.plot.width = 10, repr.plot.height = 4)\n",
    "\n",
    "my.xlim = c(0, 180)\n",
    "my.ylim = c(0,25)\n",
    "my.space = c(0, 0.1, 0.5, 0.1, 0.1, 0.1, 0.5, 0.1, 0.1,0.1,0.5, 0.1, 0.1,0.1)\n",
    "\n",
    "# opar <- par(lwd = 5)\n",
    "barplot(ndonors, \n",
    "#         border = c(col_ips,col_mesendo,col_day1,col_defendo,col_day3),\n",
    "#         col = \"white\",\n",
    "        col = c(col_FPP, col_P_FPP,\n",
    "                col_DA, col_Sert, col_Epen1, col_Astro,\n",
    "                col_DA, col_Sert, col_Epen1, col_Astro,\n",
    "                col_DA, col_Sert, col_Epen1, col_Astro),\n",
    "        xlab = \"celltype\", ylab = \"sample size\",\n",
    "        xlim = my.ylim, ylim = my.xlim, space = my.space)#, \n",
    "#         width = 0.5, xlab = \"% eQTLs overlapping H3K27ac\", horiz = TRUE, las = 1)\n"
   ]
  },
  {
   "cell_type": "code",
   "execution_count": 164,
   "metadata": {},
   "outputs": [
    {
     "data": {
      "text/html": [
       "<table>\n",
       "<caption>A data.frame: 6 × 6</caption>\n",
       "<thead>\n",
       "\t<tr><th scope=col>donor_id</th><th scope=col>pool_id</th><th scope=col>time_point</th><th scope=col>treatment</th><th scope=col>celltype</th><th scope=col>n_cells</th></tr>\n",
       "\t<tr><th scope=col>&lt;fct&gt;</th><th scope=col>&lt;fct&gt;</th><th scope=col>&lt;fct&gt;</th><th scope=col>&lt;fct&gt;</th><th scope=col>&lt;fct&gt;</th><th scope=col>&lt;int&gt;</th></tr>\n",
       "</thead>\n",
       "<tbody>\n",
       "\t<tr><td>HPSI0114i-bezi_3</td><td>pool10</td><td>D52</td><td>NONE</td><td>Astro</td><td> 2</td></tr>\n",
       "\t<tr><td>HPSI0114i-bezi_3</td><td>pool10</td><td>D52</td><td>NONE</td><td>CHem </td><td> 5</td></tr>\n",
       "\t<tr><td>HPSI0114i-bezi_3</td><td>pool10</td><td>D52</td><td>NONE</td><td>DA   </td><td>66</td></tr>\n",
       "\t<tr><td>HPSI0114i-bezi_3</td><td>pool10</td><td>D52</td><td>NONE</td><td>Epen1</td><td>39</td></tr>\n",
       "\t<tr><td>HPSI0114i-bezi_3</td><td>pool10</td><td>D52</td><td>NONE</td><td>FPP  </td><td>31</td></tr>\n",
       "\t<tr><td>HPSI0114i-bezi_3</td><td>pool10</td><td>D52</td><td>NONE</td><td>P_FPP</td><td> 4</td></tr>\n",
       "</tbody>\n",
       "</table>\n"
      ],
      "text/latex": [
       "A data.frame: 6 × 6\n",
       "\\begin{tabular}{r|llllll}\n",
       " donor\\_id & pool\\_id & time\\_point & treatment & celltype & n\\_cells\\\\\n",
       " <fct> & <fct> & <fct> & <fct> & <fct> & <int>\\\\\n",
       "\\hline\n",
       "\t HPSI0114i-bezi\\_3 & pool10 & D52 & NONE & Astro &  2\\\\\n",
       "\t HPSI0114i-bezi\\_3 & pool10 & D52 & NONE & CHem  &  5\\\\\n",
       "\t HPSI0114i-bezi\\_3 & pool10 & D52 & NONE & DA    & 66\\\\\n",
       "\t HPSI0114i-bezi\\_3 & pool10 & D52 & NONE & Epen1 & 39\\\\\n",
       "\t HPSI0114i-bezi\\_3 & pool10 & D52 & NONE & FPP   & 31\\\\\n",
       "\t HPSI0114i-bezi\\_3 & pool10 & D52 & NONE & P\\_FPP &  4\\\\\n",
       "\\end{tabular}\n"
      ],
      "text/markdown": [
       "\n",
       "A data.frame: 6 × 6\n",
       "\n",
       "| donor_id &lt;fct&gt; | pool_id &lt;fct&gt; | time_point &lt;fct&gt; | treatment &lt;fct&gt; | celltype &lt;fct&gt; | n_cells &lt;int&gt; |\n",
       "|---|---|---|---|---|---|\n",
       "| HPSI0114i-bezi_3 | pool10 | D52 | NONE | Astro |  2 |\n",
       "| HPSI0114i-bezi_3 | pool10 | D52 | NONE | CHem  |  5 |\n",
       "| HPSI0114i-bezi_3 | pool10 | D52 | NONE | DA    | 66 |\n",
       "| HPSI0114i-bezi_3 | pool10 | D52 | NONE | Epen1 | 39 |\n",
       "| HPSI0114i-bezi_3 | pool10 | D52 | NONE | FPP   | 31 |\n",
       "| HPSI0114i-bezi_3 | pool10 | D52 | NONE | P_FPP |  4 |\n",
       "\n"
      ],
      "text/plain": [
       "  donor_id         pool_id time_point treatment celltype n_cells\n",
       "1 HPSI0114i-bezi_3 pool10  D52        NONE      Astro     2     \n",
       "2 HPSI0114i-bezi_3 pool10  D52        NONE      CHem      5     \n",
       "3 HPSI0114i-bezi_3 pool10  D52        NONE      DA       66     \n",
       "4 HPSI0114i-bezi_3 pool10  D52        NONE      Epen1    39     \n",
       "5 HPSI0114i-bezi_3 pool10  D52        NONE      FPP      31     \n",
       "6 HPSI0114i-bezi_3 pool10  D52        NONE      P_FPP     4     "
      ]
     },
     "metadata": {},
     "output_type": "display_data"
    }
   ],
   "source": [
    "# D11\n",
    "mydir = \"/nfs/leia/research/stegle/dseaton/hipsci/singlecell_neuroseq/data/data_processed/pool1_13_noddd_D11/\"\n",
    "mysuffix = \"pool1_13_noddd_D11.scanpy.w_metadata.w_celltype.scanpy.obs_df.groupedby.donor_id-pool_id-time_point.celltype_counts.tsv\"\n",
    "# D30\n",
    "mydir = \"/nfs/leia/research/stegle/dseaton/hipsci/singlecell_neuroseq/data/data_processed/pool1_13_noddd_D30/\"\n",
    "mysuffix = \"pool1_13_noddd_D30.scanpy.w_metadata.w_celltype.scanpy.obs_df.groupedby.donor_id-pool_id-time_point.celltype_counts.tsv\"\n",
    "# D52\n",
    "mydir = \"/nfs/leia/research/stegle/dseaton/hipsci/singlecell_neuroseq/data/data_processed/pool1_17_D52/\"\n",
    "mysuffix = \"pool1_17_D52.scanpy.w_metadata.w_celltype.scanpy.obs_df.groupedby.donor_id-pool_id-time_point-treatment.celltype_counts.tsv\"\n",
    "\n",
    "myfilename = paste0(mydir,mysuffix)\n",
    "myfile = read.table(myfilename, header = T)\n",
    "head(myfile)"
   ]
  },
  {
   "cell_type": "code",
   "execution_count": 160,
   "metadata": {},
   "outputs": [
    {
     "data": {
      "text/html": [
       "153"
      ],
      "text/latex": [
       "153"
      ],
      "text/markdown": [
       "153"
      ],
      "text/plain": [
       "[1] 153"
      ]
     },
     "metadata": {},
     "output_type": "display_data"
    },
    {
     "data": {
      "text/html": [
       "149"
      ],
      "text/latex": [
       "149"
      ],
      "text/markdown": [
       "149"
      ],
      "text/plain": [
       "[1] 149"
      ]
     },
     "metadata": {},
     "output_type": "display_data"
    }
   ],
   "source": [
    "## D11\n",
    "# FPP\n",
    "df = myfile %>% group_by(donor_id,celltype,time_point) %>% summarise(ncells = sum(n_cells))\n",
    "donors = df[df$celltype == \"FPP\" & df$ncells > 100,\"donor_id\"]\n",
    "samplemapping = \"/nfs/leia/research/stegle/dseaton/hipsci/singlecell_neuroseq/data/data_processed/pool1_13_noddd_D11/qtl_analysis/eqtl_discovery/celltype_FPP/samplemapping.tsv\"\n",
    "samplemapping = read.csv(samplemapping, sep = \"\\t\", header = F)\n",
    "nrow(samplemapping[samplemapping$V1 %in% donors$donor_id,])\n",
    "# P_FPP\n",
    "donors = df[df$celltype == \"P_FPP\" & df$ncells > 100,\"donor_id\"]\n",
    "samplemapping = \"/nfs/leia/research/stegle/dseaton/hipsci/singlecell_neuroseq/data/data_processed/pool1_13_noddd_D11/qtl_analysis/eqtl_discovery/celltype_P_FPP/samplemapping.tsv\"\n",
    "samplemapping = read.csv(samplemapping, sep = \"\\t\", header = F)\n",
    "nrow(samplemapping[samplemapping$V1 %in% donors$donor_id,])"
   ]
  },
  {
   "cell_type": "code",
   "execution_count": 163,
   "metadata": {},
   "outputs": [
    {
     "data": {
      "text/html": [
       "105"
      ],
      "text/latex": [
       "105"
      ],
      "text/markdown": [
       "105"
      ],
      "text/plain": [
       "[1] 105"
      ]
     },
     "metadata": {},
     "output_type": "display_data"
    },
    {
     "data": {
      "text/html": [
       "77"
      ],
      "text/latex": [
       "77"
      ],
      "text/markdown": [
       "77"
      ],
      "text/plain": [
       "[1] 77"
      ]
     },
     "metadata": {},
     "output_type": "display_data"
    },
    {
     "data": {
      "text/html": [
       "62"
      ],
      "text/latex": [
       "62"
      ],
      "text/markdown": [
       "62"
      ],
      "text/plain": [
       "[1] 62"
      ]
     },
     "metadata": {},
     "output_type": "display_data"
    },
    {
     "data": {
      "text/html": [
       "97"
      ],
      "text/latex": [
       "97"
      ],
      "text/markdown": [
       "97"
      ],
      "text/plain": [
       "[1] 97"
      ]
     },
     "metadata": {},
     "output_type": "display_data"
    }
   ],
   "source": [
    "## D30\n",
    "# DA\n",
    "df = myfile %>% group_by(donor_id,celltype,time_point) %>% summarise(ncells = sum(n_cells))\n",
    "donors = df[df$celltype == \"DA\" & df$ncells > 100,\"donor_id\"]\n",
    "samplemapping = \"/nfs/leia/research/stegle/dseaton/hipsci/singlecell_neuroseq/data/data_processed/pool1_13_noddd_D30/qtl_analysis/eqtl_discovery/celltype_DA/samplemapping.tsv\"\n",
    "samplemapping = read.csv(samplemapping, sep = \"\\t\", header = F)\n",
    "nrow(samplemapping[samplemapping$V1 %in% donors$donor_id,])\n",
    "# Sert\n",
    "df = myfile %>% group_by(donor_id,celltype,time_point) %>% summarise(ncells = sum(n_cells))\n",
    "donors = df[df$celltype == \"Sert\" & df$ncells > 100,\"donor_id\"]\n",
    "samplemapping = \"/nfs/leia/research/stegle/dseaton/hipsci/singlecell_neuroseq/data/data_processed/pool1_13_noddd_D30/qtl_analysis/eqtl_discovery/celltype_Sert/samplemapping.tsv\"\n",
    "samplemapping = read.csv(samplemapping, sep = \"\\t\", header = F)\n",
    "nrow(samplemapping[samplemapping$V1 %in% donors$donor_id,])\n",
    "# Epen1\n",
    "df = myfile %>% group_by(donor_id,celltype,time_point) %>% summarise(ncells = sum(n_cells))\n",
    "donors = df[df$celltype == \"Epen1\" & df$ncells > 100,\"donor_id\"]\n",
    "samplemapping = \"/nfs/leia/research/stegle/dseaton/hipsci/singlecell_neuroseq/data/data_processed/pool1_13_noddd_D30/qtl_analysis/eqtl_discovery/celltype_Epen1/samplemapping.tsv\"\n",
    "samplemapping = read.csv(samplemapping, sep = \"\\t\", header = F)\n",
    "nrow(samplemapping[samplemapping$V1 %in% donors$donor_id,])\n",
    "# Astro\n",
    "df = myfile %>% group_by(donor_id,celltype,time_point) %>% summarise(ncells = sum(n_cells))\n",
    "donors = df[df$celltype == \"Astro\" & df$ncells > 100,\"donor_id\"]\n",
    "samplemapping = \"/nfs/leia/research/stegle/dseaton/hipsci/singlecell_neuroseq/data/data_processed/pool1_13_noddd_D30/qtl_analysis/eqtl_discovery/celltype_Astro/samplemapping.tsv\"\n",
    "samplemapping = read.csv(samplemapping, sep = \"\\t\", header = F)\n",
    "nrow(samplemapping[samplemapping$V1 %in% donors$donor_id,])"
   ]
  },
  {
   "cell_type": "code",
   "execution_count": 165,
   "metadata": {},
   "outputs": [
    {
     "data": {
      "text/html": [
       "109"
      ],
      "text/latex": [
       "109"
      ],
      "text/markdown": [
       "109"
      ],
      "text/plain": [
       "[1] 109"
      ]
     },
     "metadata": {},
     "output_type": "display_data"
    },
    {
     "data": {
      "text/html": [
       "93"
      ],
      "text/latex": [
       "93"
      ],
      "text/markdown": [
       "93"
      ],
      "text/plain": [
       "[1] 93"
      ]
     },
     "metadata": {},
     "output_type": "display_data"
    },
    {
     "data": {
      "text/html": [
       "94"
      ],
      "text/latex": [
       "94"
      ],
      "text/markdown": [
       "94"
      ],
      "text/plain": [
       "[1] 94"
      ]
     },
     "metadata": {},
     "output_type": "display_data"
    },
    {
     "data": {
      "text/html": [
       "41"
      ],
      "text/latex": [
       "41"
      ],
      "text/markdown": [
       "41"
      ],
      "text/plain": [
       "[1] 41"
      ]
     },
     "metadata": {},
     "output_type": "display_data"
    }
   ],
   "source": [
    "## D52 (NONE)\n",
    "# DA\n",
    "df = myfile %>% group_by(donor_id,celltype,time_point,treatment) %>% summarise(ncells = sum(n_cells))\n",
    "donors = df[df$treatment == \"NONE\" & df$celltype == \"DA\" & df$ncells > 100,\"donor_id\"]\n",
    "samplemapping = \"/hps/nobackup/stegle/users/acuomo/all_scripts/sc_neuroseq/eqtl/timepoint_D52/input_files_untreated/celltype_DA/samplemapping.tsv\"\n",
    "samplemapping = read.csv(samplemapping, sep = \"\\t\", header = F)\n",
    "nrow(samplemapping[samplemapping$V1 %in% donors$donor_id,])\n",
    "# Sert\n",
    "df = myfile %>% group_by(donor_id,celltype,time_point,treatment) %>% summarise(ncells = sum(n_cells))\n",
    "donors = df[df$treatment == \"NONE\" & df$celltype == \"Sert\" & df$ncells > 100,\"donor_id\"]\n",
    "samplemapping = \"/hps/nobackup/stegle/users/acuomo/all_scripts/sc_neuroseq/eqtl/timepoint_D52/input_files_untreated/celltype_Sert/samplemapping.tsv\"\n",
    "samplemapping = read.csv(samplemapping, sep = \"\\t\", header = F)\n",
    "nrow(samplemapping[samplemapping$V1 %in% donors$donor_id,])\n",
    "# Epen1\n",
    "df = myfile %>% group_by(donor_id,celltype,time_point,treatment) %>% summarise(ncells = sum(n_cells))\n",
    "donors = df[df$treatment == \"NONE\" & df$celltype == \"Epen1\" & df$ncells > 100,\"donor_id\"]\n",
    "samplemapping = \"/hps/nobackup/stegle/users/acuomo/all_scripts/sc_neuroseq/eqtl/timepoint_D52/input_files_untreated/celltype_Epen1/samplemapping.tsv\"\n",
    "samplemapping = read.csv(samplemapping, sep = \"\\t\", header = F)\n",
    "nrow(samplemapping[samplemapping$V1 %in% donors$donor_id,])\n",
    "# Astro\n",
    "df = myfile %>% group_by(donor_id,celltype,time_point,treatment) %>% summarise(ncells = sum(n_cells))\n",
    "donors = df[df$treatment == \"NONE\" & df$celltype == \"Astro\" & df$ncells > 100,\"donor_id\"]\n",
    "samplemapping = \"/hps/nobackup/stegle/users/acuomo/all_scripts/sc_neuroseq/eqtl/timepoint_D52/input_files_untreated/celltype_Astro/samplemapping.tsv\"\n",
    "samplemapping = read.csv(samplemapping, sep = \"\\t\", header = F)\n",
    "nrow(samplemapping[samplemapping$V1 %in% donors$donor_id,])"
   ]
  },
  {
   "cell_type": "code",
   "execution_count": 166,
   "metadata": {},
   "outputs": [
    {
     "data": {
      "text/html": [
       "65"
      ],
      "text/latex": [
       "65"
      ],
      "text/markdown": [
       "65"
      ],
      "text/plain": [
       "[1] 65"
      ]
     },
     "metadata": {},
     "output_type": "display_data"
    },
    {
     "data": {
      "text/html": [
       "77"
      ],
      "text/latex": [
       "77"
      ],
      "text/markdown": [
       "77"
      ],
      "text/plain": [
       "[1] 77"
      ]
     },
     "metadata": {},
     "output_type": "display_data"
    },
    {
     "data": {
      "text/html": [
       "81"
      ],
      "text/latex": [
       "81"
      ],
      "text/markdown": [
       "81"
      ],
      "text/plain": [
       "[1] 81"
      ]
     },
     "metadata": {},
     "output_type": "display_data"
    },
    {
     "data": {
      "text/html": [
       "40"
      ],
      "text/latex": [
       "40"
      ],
      "text/markdown": [
       "40"
      ],
      "text/plain": [
       "[1] 40"
      ]
     },
     "metadata": {},
     "output_type": "display_data"
    }
   ],
   "source": [
    "## D52 (NONE)\n",
    "# DA\n",
    "df = myfile %>% group_by(donor_id,celltype,time_point,treatment) %>% summarise(ncells = sum(n_cells))\n",
    "donors = df[df$treatment == \"ROT\" & df$celltype == \"DA\" & df$ncells > 100,\"donor_id\"]\n",
    "samplemapping = \"/hps/nobackup/stegle/users/acuomo/all_scripts/sc_neuroseq/eqtl/timepoint_D52/input_files_ROT_treated/celltype_DA/samplemapping.tsv\"\n",
    "samplemapping = read.csv(samplemapping, sep = \"\\t\", header = F)\n",
    "nrow(samplemapping[samplemapping$V1 %in% donors$donor_id,])\n",
    "# Sert\n",
    "df = myfile %>% group_by(donor_id,celltype,time_point,treatment) %>% summarise(ncells = sum(n_cells))\n",
    "donors = df[df$treatment == \"ROT\" & df$celltype == \"Sert\" & df$ncells > 100,\"donor_id\"]\n",
    "samplemapping = \"/hps/nobackup/stegle/users/acuomo/all_scripts/sc_neuroseq/eqtl/timepoint_D52/input_files_ROT_treated/celltype_Sert/samplemapping.tsv\"\n",
    "samplemapping = read.csv(samplemapping, sep = \"\\t\", header = F)\n",
    "nrow(samplemapping[samplemapping$V1 %in% donors$donor_id,])\n",
    "# Epen1\n",
    "df = myfile %>% group_by(donor_id,celltype,time_point,treatment) %>% summarise(ncells = sum(n_cells))\n",
    "donors = df[df$treatment == \"ROT\" & df$celltype == \"Epen1\" & df$ncells > 100,\"donor_id\"]\n",
    "samplemapping = \"/hps/nobackup/stegle/users/acuomo/all_scripts/sc_neuroseq/eqtl/timepoint_D52/input_files_ROT_treated/celltype_Epen1/samplemapping.tsv\"\n",
    "samplemapping = read.csv(samplemapping, sep = \"\\t\", header = F)\n",
    "nrow(samplemapping[samplemapping$V1 %in% donors$donor_id,])\n",
    "# Astro\n",
    "df = myfile %>% group_by(donor_id,celltype,time_point,treatment) %>% summarise(ncells = sum(n_cells))\n",
    "donors = df[df$treatment == \"ROT\" & df$celltype == \"Astro\" & df$ncells > 100,\"donor_id\"]\n",
    "samplemapping = \"/hps/nobackup/stegle/users/acuomo/all_scripts/sc_neuroseq/eqtl/timepoint_D52/input_files_ROT_treated/celltype_Astro/samplemapping.tsv\"\n",
    "samplemapping = read.csv(samplemapping, sep = \"\\t\", header = F)\n",
    "nrow(samplemapping[samplemapping$V1 %in% donors$donor_id,])"
   ]
  },
  {
   "cell_type": "code",
   "execution_count": 167,
   "metadata": {},
   "outputs": [
    {
     "data": {
      "image/png": "[encoded data removed]",
      "text/plain": [
       "plot without title"
      ]
     },
     "metadata": {},
     "output_type": "display_data"
    }
   ],
   "source": [
    "# > 100 cells\n",
    "ndonors = c(153,149,            \n",
    "      105,77,62,97,\n",
    "      109,93,94,41,\n",
    "      65,77,81,40)\n",
    "\n",
    "options(repr.plot.width = 10, repr.plot.height = 4)\n",
    "\n",
    "my.xlim = c(0, 180)\n",
    "my.ylim = c(0,25)\n",
    "my.space = c(0, 0.1, 0.5, 0.1, 0.1, 0.1, 0.5, 0.1, 0.1,0.1,0.5, 0.1, 0.1,0.1)\n",
    "\n",
    "# opar <- par(lwd = 5)\n",
    "barplot(ndonors, \n",
    "#         border = c(col_ips,col_mesendo,col_day1,col_defendo,col_day3),\n",
    "#         col = \"white\",\n",
    "        col = c(col_FPP, col_P_FPP,\n",
    "                col_DA, col_Sert, col_Epen1, col_Astro,\n",
    "                col_DA, col_Sert, col_Epen1, col_Astro,\n",
    "                col_DA, col_Sert, col_Epen1, col_Astro),\n",
    "        xlab = \"celltype\", ylab = \"sample size\",\n",
    "        xlim = my.ylim, ylim = my.xlim, space = my.space)#, \n",
    "#         width = 0.5, xlab = \"% eQTLs overlapping H3K27ac\", horiz = TRUE, las = 1)\n"
   ]
  },
  {
   "cell_type": "code",
   "execution_count": 161,
   "metadata": {},
   "outputs": [
    {
     "data": {
      "image/png": "[encoded data removed]",
      "text/plain": [
       "plot without title"
      ]
     },
     "metadata": {},
     "output_type": "display_data"
    }
   ],
   "source": [
    "# > 50 cells\n",
    "ndonors = c(164,163,            \n",
    "      128,102,83,117,\n",
    "      134,114,116,63,\n",
    "      104,110,109,51)\n",
    "\n",
    "options(repr.plot.width = 10, repr.plot.height = 4)\n",
    "\n",
    "my.xlim = c(0, 180)\n",
    "my.ylim = c(0,25)\n",
    "my.space = c(0, 0.1, 0.5, 0.1, 0.1, 0.1, 0.5, 0.1, 0.1,0.1,0.5, 0.1, 0.1,0.1)\n",
    "\n",
    "# opar <- par(lwd = 5)\n",
    "barplot(ndonors, \n",
    "#         border = c(col_ips,col_mesendo,col_day1,col_defendo,col_day3),\n",
    "#         col = \"white\",\n",
    "        col = c(col_FPP, col_P_FPP,\n",
    "                col_DA, col_Sert, col_Epen1, col_Astro,\n",
    "                col_DA, col_Sert, col_Epen1, col_Astro,\n",
    "                col_DA, col_Sert, col_Epen1, col_Astro),\n",
    "        xlab = \"celltype\", ylab = \"sample size\",\n",
    "        xlim = my.ylim, ylim = my.xlim, space = my.space)#, \n",
    "#         width = 0.5, xlab = \"% eQTLs overlapping H3K27ac\", horiz = TRUE, las = 1)\n"
   ]
  },
  {
   "cell_type": "code",
   "execution_count": 1,
   "metadata": {},
   "outputs": [],
   "source": [
    "ndonors = c(153,149,            \n",
    "      97,105,77,62,\n",
    "      109,93,94,41,\n",
    "      65,77,81,40)\n",
    "\n",
    "ndonors = c(173,172,            \n",
    "      152,165,151,133,\n",
    "      175,161,169,120,\n",
    "      157,154,165,109)\n",
    "\n",
    "eqtls <- c(1784,1802,\n",
    "           674,546,622,618,\n",
    "           698,778,745,111,\n",
    "           303,611,575,87)"
   ]
  },
  {
   "cell_type": "code",
   "execution_count": 2,
   "metadata": {},
   "outputs": [
    {
     "name": "stderr",
     "output_type": "stream",
     "text": [
      "Registered S3 methods overwritten by 'ggplot2':\n",
      "  method         from \n",
      "  [.quosures     rlang\n",
      "  c.quosures     rlang\n",
      "  print.quosures rlang\n"
     ]
    }
   ],
   "source": [
    "library(ggplot2)"
   ]
  },
  {
   "cell_type": "code",
   "execution_count": 3,
   "metadata": {},
   "outputs": [],
   "source": [
    "col_FPP = \"#aec7e8\"\n",
    "col_P_FPP = \"#1f77b4\"\n",
    "col_DA = \"#2ca02c\"\n",
    "col_Sert = \"#98df8a\"\n",
    "col_Epen1 = \"#ff9896\"\n",
    "col_Astro = \"#9467bd\""
   ]
  },
  {
   "cell_type": "code",
   "execution_count": 7,
   "metadata": {},
   "outputs": [
    {
     "data": {
      "image/png": "[encoded data removed]",
      "text/plain": [
       "plot without title"
      ]
     },
     "metadata": {},
     "output_type": "display_data"
    }
   ],
   "source": [
    "options(repr.plot.width = 6, repr.plot.height = 4.5)\n",
    "df = data.frame(eff_sample_size = ndonors, power = eqtls, celltype = c(\"FPP\",\"P_FPP\",\n",
    "                                                                      \"FPP\",\"DA\",\"Sert\",\"Epen1\",\n",
    "                                                                      \"DA\",\"Sert\",\"Epen1\",\"Astro\",\n",
    "                                                                      \"DA\",\"Sert\",\"Epen1\",\"Astro\"),\n",
    "                day = c(\"D11\",\"D11\",\"D30\",\"D30\",\"D30\",\"D30\",\"D52_NONE\",\"D52_NONE\",\"D52_NONE\",\"D52_NONE\",\n",
    "                        \"D52_ROT\",\"D52_ROT\",\"D52_ROT\",\"D52_ROT\"))\n",
    "ggplot(df, aes(x = eff_sample_size, y = power, col = celltype, shape = day)) + geom_point(size = 4.5) +  \n",
    "                                scale_color_manual(values=c(col_Astro, col_DA, col_Epen1,\n",
    "                                                col_FPP, col_P_FPP, col_Sert)) + theme_bw() + \n",
    "                                xlab(\"# unique samples\") + ylab(\"# eGenes at FDR 5%\") + theme(text = element_text(size = 16))"
   ]
  },
  {
   "cell_type": "code",
   "execution_count": null,
   "metadata": {},
   "outputs": [],
   "source": []
  }
 ],
 "metadata": {
  "kernelspec": {
   "display_name": "R",
   "language": "R",
   "name": "ir"
  },
  "language_info": {
   "codemirror_mode": "r",
   "file_extension": ".r",
   "mimetype": "text/x-r-source",
   "name": "R",
   "pygments_lexer": "r",
   "version": "3.6.1"
  }
 },
 "nbformat": 4,
 "nbformat_minor": 2
}
