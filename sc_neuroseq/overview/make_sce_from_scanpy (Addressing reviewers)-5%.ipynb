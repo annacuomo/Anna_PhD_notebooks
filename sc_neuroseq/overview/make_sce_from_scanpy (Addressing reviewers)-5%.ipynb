{
 "cells": [
  {
   "cell_type": "code",
   "execution_count": 2,
   "metadata": {},
   "outputs": [],
   "source": [
    "library(rhdf5)\n",
    "library(Matrix)\n",
    "library(SingleCellExperiment)"
   ]
  },
  {
   "cell_type": "code",
   "execution_count": 2,
   "metadata": {},
   "outputs": [],
   "source": [
    "mydir = \"/hps/nobackup/stegle/users/acuomo/all_scripts/sc_neuroseq/in_vivo_comparison/\""
   ]
  },
  {
   "cell_type": "code",
   "execution_count": 3,
   "metadata": {},
   "outputs": [],
   "source": [
    "filename = \"/hps/nobackup/stegle/users/acuomo/all_scripts/sc_neuroseq/scanpy/5pct_subsample.h5ad\""
   ]
  },
  {
   "cell_type": "code",
   "execution_count": 4,
   "metadata": {},
   "outputs": [
    {
     "data": {
      "text/html": [
       "<table>\n",
       "<tbody>\n",
       "\t<tr><td>/                          </td><td>X                          </td></tr>\n",
       "\t<tr><td>/X                         </td><td>data                       </td></tr>\n",
       "\t<tr><td>/X                         </td><td>indices                    </td></tr>\n",
       "\t<tr><td>/X                         </td><td>indptr                     </td></tr>\n",
       "\t<tr><td>/                          </td><td>obs                        </td></tr>\n",
       "\t<tr><td>/obs                       </td><td>__categories               </td></tr>\n",
       "\t<tr><td>/obs/__categories          </td><td>batch                      </td></tr>\n",
       "\t<tr><td>/obs/__categories          </td><td>celltype                   </td></tr>\n",
       "\t<tr><td>/obs/__categories          </td><td>donor_id                   </td></tr>\n",
       "\t<tr><td>/obs/__categories          </td><td>pool_id                    </td></tr>\n",
       "\t<tr><td>/obs/__categories          </td><td>sample_id                  </td></tr>\n",
       "\t<tr><td>/obs/__categories          </td><td>time_point                 </td></tr>\n",
       "\t<tr><td>/obs/__categories          </td><td>treatment                  </td></tr>\n",
       "\t<tr><td>/obs                       </td><td>batch                      </td></tr>\n",
       "\t<tr><td>/obs                       </td><td>celltype                   </td></tr>\n",
       "\t<tr><td>/obs                       </td><td>cluster_id                 </td></tr>\n",
       "\t<tr><td>/obs                       </td><td>donor_id                   </td></tr>\n",
       "\t<tr><td>/obs                       </td><td>index                      </td></tr>\n",
       "\t<tr><td>/obs                       </td><td>log1p_n_genes_by_counts    </td></tr>\n",
       "\t<tr><td>/obs                       </td><td>log1p_total_counts         </td></tr>\n",
       "\t<tr><td>/obs                       </td><td>log1p_total_counts_mito    </td></tr>\n",
       "\t<tr><td>/obs                       </td><td>n_counts_all               </td></tr>\n",
       "\t<tr><td>/obs                       </td><td>n_genes_by_counts          </td></tr>\n",
       "\t<tr><td>/obs                       </td><td>pct_counts_in_top_100_genes</td></tr>\n",
       "\t<tr><td>/obs                       </td><td>pct_counts_in_top_200_genes</td></tr>\n",
       "\t<tr><td>/obs                       </td><td>pct_counts_in_top_500_genes</td></tr>\n",
       "\t<tr><td>/obs                       </td><td>pct_counts_in_top_50_genes </td></tr>\n",
       "\t<tr><td>/obs                       </td><td>pct_counts_mito            </td></tr>\n",
       "\t<tr><td>/obs                       </td><td>pool_id                    </td></tr>\n",
       "\t<tr><td>/obs                       </td><td>sample_id                  </td></tr>\n",
       "\t<tr><td>/obs                       </td><td>time_point                 </td></tr>\n",
       "\t<tr><td>/obs                       </td><td>total_counts               </td></tr>\n",
       "\t<tr><td>/obs                       </td><td>total_counts_mito          </td></tr>\n",
       "\t<tr><td>/obs                       </td><td>treatment                  </td></tr>\n",
       "\t<tr><td>/                          </td><td>obsm                       </td></tr>\n",
       "\t<tr><td>/obsm                      </td><td>X_umap                     </td></tr>\n",
       "\t<tr><td>/                          </td><td>raw                        </td></tr>\n",
       "\t<tr><td>/raw                       </td><td>X                          </td></tr>\n",
       "\t<tr><td>/raw/X                     </td><td>data                       </td></tr>\n",
       "\t<tr><td>/raw/X                     </td><td>indices                    </td></tr>\n",
       "\t<tr><td>/raw/X                     </td><td>indptr                     </td></tr>\n",
       "\t<tr><td>/raw                       </td><td>var                        </td></tr>\n",
       "\t<tr><td>/raw/var                   </td><td>index                      </td></tr>\n",
       "\t<tr><td>/                          </td><td>var                        </td></tr>\n",
       "\t<tr><td>/var                       </td><td>index                      </td></tr>\n",
       "</tbody>\n",
       "</table>\n"
      ],
      "text/latex": [
       "\\begin{tabular}{ll}\n",
       "\t /                           & X                          \\\\\n",
       "\t /X                          & data                       \\\\\n",
       "\t /X                          & indices                    \\\\\n",
       "\t /X                          & indptr                     \\\\\n",
       "\t /                           & obs                        \\\\\n",
       "\t /obs                            & \\_\\_categories               \\\\\n",
       "\t /obs/\\_\\_categories       & batch                      \\\\\n",
       "\t /obs/\\_\\_categories       & celltype                   \\\\\n",
       "\t /obs/\\_\\_categories         & donor\\_id                   \\\\\n",
       "\t /obs/\\_\\_categories         & pool\\_id                    \\\\\n",
       "\t /obs/\\_\\_categories         & sample\\_id                  \\\\\n",
       "\t /obs/\\_\\_categories         & time\\_point                 \\\\\n",
       "\t /obs/\\_\\_categories       & treatment                  \\\\\n",
       "\t /obs                        & batch                      \\\\\n",
       "\t /obs                        & celltype                   \\\\\n",
       "\t /obs                          & cluster\\_id                 \\\\\n",
       "\t /obs                          & donor\\_id                   \\\\\n",
       "\t /obs                        & index                      \\\\\n",
       "\t /obs                                & log1p\\_n\\_genes\\_by\\_counts    \\\\\n",
       "\t /obs                            & log1p\\_total\\_counts         \\\\\n",
       "\t /obs                              & log1p\\_total\\_counts\\_mito    \\\\\n",
       "\t /obs                            & n\\_counts\\_all               \\\\\n",
       "\t /obs                              & n\\_genes\\_by\\_counts          \\\\\n",
       "\t /obs                                  & pct\\_counts\\_in\\_top\\_100\\_genes\\\\\n",
       "\t /obs                                  & pct\\_counts\\_in\\_top\\_200\\_genes\\\\\n",
       "\t /obs                                  & pct\\_counts\\_in\\_top\\_500\\_genes\\\\\n",
       "\t /obs                                  & pct\\_counts\\_in\\_top\\_50\\_genes \\\\\n",
       "\t /obs                            & pct\\_counts\\_mito            \\\\\n",
       "\t /obs                          & pool\\_id                    \\\\\n",
       "\t /obs                          & sample\\_id                  \\\\\n",
       "\t /obs                          & time\\_point                 \\\\\n",
       "\t /obs                          & total\\_counts               \\\\\n",
       "\t /obs                            & total\\_counts\\_mito          \\\\\n",
       "\t /obs                        & treatment                  \\\\\n",
       "\t /                           & obsm                       \\\\\n",
       "\t /obsm                         & X\\_umap                     \\\\\n",
       "\t /                           & raw                        \\\\\n",
       "\t /raw                        & X                          \\\\\n",
       "\t /raw/X                      & data                       \\\\\n",
       "\t /raw/X                      & indices                    \\\\\n",
       "\t /raw/X                      & indptr                     \\\\\n",
       "\t /raw                        & var                        \\\\\n",
       "\t /raw/var                    & index                      \\\\\n",
       "\t /                           & var                        \\\\\n",
       "\t /var                        & index                      \\\\\n",
       "\\end{tabular}\n"
      ],
      "text/markdown": [
       "\n",
       "| /                           | X                           |\n",
       "| /X                          | data                        |\n",
       "| /X                          | indices                     |\n",
       "| /X                          | indptr                      |\n",
       "| /                           | obs                         |\n",
       "| /obs                        | __categories                |\n",
       "| /obs/__categories           | batch                       |\n",
       "| /obs/__categories           | celltype                    |\n",
       "| /obs/__categories           | donor_id                    |\n",
       "| /obs/__categories           | pool_id                     |\n",
       "| /obs/__categories           | sample_id                   |\n",
       "| /obs/__categories           | time_point                  |\n",
       "| /obs/__categories           | treatment                   |\n",
       "| /obs                        | batch                       |\n",
       "| /obs                        | celltype                    |\n",
       "| /obs                        | cluster_id                  |\n",
       "| /obs                        | donor_id                    |\n",
       "| /obs                        | index                       |\n",
       "| /obs                        | log1p_n_genes_by_counts     |\n",
       "| /obs                        | log1p_total_counts          |\n",
       "| /obs                        | log1p_total_counts_mito     |\n",
       "| /obs                        | n_counts_all                |\n",
       "| /obs                        | n_genes_by_counts           |\n",
       "| /obs                        | pct_counts_in_top_100_genes |\n",
       "| /obs                        | pct_counts_in_top_200_genes |\n",
       "| /obs                        | pct_counts_in_top_500_genes |\n",
       "| /obs                        | pct_counts_in_top_50_genes  |\n",
       "| /obs                        | pct_counts_mito             |\n",
       "| /obs                        | pool_id                     |\n",
       "| /obs                        | sample_id                   |\n",
       "| /obs                        | time_point                  |\n",
       "| /obs                        | total_counts                |\n",
       "| /obs                        | total_counts_mito           |\n",
       "| /obs                        | treatment                   |\n",
       "| /                           | obsm                        |\n",
       "| /obsm                       | X_umap                      |\n",
       "| /                           | raw                         |\n",
       "| /raw                        | X                           |\n",
       "| /raw/X                      | data                        |\n",
       "| /raw/X                      | indices                     |\n",
       "| /raw/X                      | indptr                      |\n",
       "| /raw                        | var                         |\n",
       "| /raw/var                    | index                       |\n",
       "| /                           | var                         |\n",
       "| /var                        | index                       |\n",
       "\n"
      ],
      "text/plain": [
       "      [,1]              [,2]                       \n",
       " [1,] /                 X                          \n",
       " [2,] /X                data                       \n",
       " [3,] /X                indices                    \n",
       " [4,] /X                indptr                     \n",
       " [5,] /                 obs                        \n",
       " [6,] /obs              __categories               \n",
       " [7,] /obs/__categories batch                      \n",
       " [8,] /obs/__categories celltype                   \n",
       " [9,] /obs/__categories donor_id                   \n",
       "[10,] /obs/__categories pool_id                    \n",
       "[11,] /obs/__categories sample_id                  \n",
       "[12,] /obs/__categories time_point                 \n",
       "[13,] /obs/__categories treatment                  \n",
       "[14,] /obs              batch                      \n",
       "[15,] /obs              celltype                   \n",
       "[16,] /obs              cluster_id                 \n",
       "[17,] /obs              donor_id                   \n",
       "[18,] /obs              index                      \n",
       "[19,] /obs              log1p_n_genes_by_counts    \n",
       "[20,] /obs              log1p_total_counts         \n",
       "[21,] /obs              log1p_total_counts_mito    \n",
       "[22,] /obs              n_counts_all               \n",
       "[23,] /obs              n_genes_by_counts          \n",
       "[24,] /obs              pct_counts_in_top_100_genes\n",
       "[25,] /obs              pct_counts_in_top_200_genes\n",
       "[26,] /obs              pct_counts_in_top_500_genes\n",
       "[27,] /obs              pct_counts_in_top_50_genes \n",
       "[28,] /obs              pct_counts_mito            \n",
       "[29,] /obs              pool_id                    \n",
       "[30,] /obs              sample_id                  \n",
       "[31,] /obs              time_point                 \n",
       "[32,] /obs              total_counts               \n",
       "[33,] /obs              total_counts_mito          \n",
       "[34,] /obs              treatment                  \n",
       "[35,] /                 obsm                       \n",
       "[36,] /obsm             X_umap                     \n",
       "[37,] /                 raw                        \n",
       "[38,] /raw              X                          \n",
       "[39,] /raw/X            data                       \n",
       "[40,] /raw/X            indices                    \n",
       "[41,] /raw/X            indptr                     \n",
       "[42,] /raw              var                        \n",
       "[43,] /raw/var          index                      \n",
       "[44,] /                 var                        \n",
       "[45,] /var              index                      "
      ]
     },
     "metadata": {},
     "output_type": "display_data"
    }
   ],
   "source": [
    "cbind(h5ls(filename)$group,\n",
    "h5ls(filename)$name)"
   ]
  },
  {
   "cell_type": "code",
   "execution_count": 5,
   "metadata": {
    "scrolled": true
   },
   "outputs": [],
   "source": [
    "# unique(h5read(file = filename, \"obs\")[\"celltype\"])"
   ]
  },
  {
   "cell_type": "code",
   "execution_count": 6,
   "metadata": {},
   "outputs": [],
   "source": [
    "# h5read(file = filename, \"uns\")$celltype_categories"
   ]
  },
  {
   "cell_type": "code",
   "execution_count": 7,
   "metadata": {},
   "outputs": [],
   "source": [
    "ind = h5read(file = filename, \"obs\")$index # cell names\n",
    "var = h5read(file = filename, \"var\") # gene names"
   ]
  },
  {
   "cell_type": "code",
   "execution_count": 8,
   "metadata": {},
   "outputs": [
    {
     "data": {
      "text/html": [
       "<ol class=list-inline>\n",
       "\t<li>'ATCGAGTTCAAACGGG-1-60'</li>\n",
       "\t<li>'ACCAGTAAGACCTAGG-1-81'</li>\n",
       "\t<li>'GCTGCAGCAACCGCCA-1-46'</li>\n",
       "\t<li>'AACTCCCTCGACAGCC-1-66'</li>\n",
       "\t<li>'CGTCCATGTAGGCTGA-1-53'</li>\n",
       "\t<li>'CTCTACGTCGCATGAT-1-129'</li>\n",
       "</ol>\n"
      ],
      "text/latex": [
       "\\begin{enumerate*}\n",
       "\\item 'ATCGAGTTCAAACGGG-1-60'\n",
       "\\item 'ACCAGTAAGACCTAGG-1-81'\n",
       "\\item 'GCTGCAGCAACCGCCA-1-46'\n",
       "\\item 'AACTCCCTCGACAGCC-1-66'\n",
       "\\item 'CGTCCATGTAGGCTGA-1-53'\n",
       "\\item 'CTCTACGTCGCATGAT-1-129'\n",
       "\\end{enumerate*}\n"
      ],
      "text/markdown": [
       "1. 'ATCGAGTTCAAACGGG-1-60'\n",
       "2. 'ACCAGTAAGACCTAGG-1-81'\n",
       "3. 'GCTGCAGCAACCGCCA-1-46'\n",
       "4. 'AACTCCCTCGACAGCC-1-66'\n",
       "5. 'CGTCCATGTAGGCTGA-1-53'\n",
       "6. 'CTCTACGTCGCATGAT-1-129'\n",
       "\n",
       "\n"
      ],
      "text/plain": [
       "[1] \"ATCGAGTTCAAACGGG-1-60\"  \"ACCAGTAAGACCTAGG-1-81\"  \"GCTGCAGCAACCGCCA-1-46\" \n",
       "[4] \"AACTCCCTCGACAGCC-1-66\"  \"CGTCCATGTAGGCTGA-1-53\"  \"CTCTACGTCGCATGAT-1-129\""
      ]
     },
     "metadata": {},
     "output_type": "display_data"
    }
   ],
   "source": [
    "head(ind)"
   ]
  },
  {
   "cell_type": "code",
   "execution_count": 9,
   "metadata": {},
   "outputs": [
    {
     "data": {
      "text/html": [
       "<ol class=list-inline>\n",
       "\t<li>'NANOGNB'</li>\n",
       "\t<li>'NANOG'</li>\n",
       "</ol>\n"
      ],
      "text/latex": [
       "\\begin{enumerate*}\n",
       "\\item 'NANOGNB'\n",
       "\\item 'NANOG'\n",
       "\\end{enumerate*}\n"
      ],
      "text/markdown": [
       "1. 'NANOGNB'\n",
       "2. 'NANOG'\n",
       "\n",
       "\n"
      ],
      "text/plain": [
       "[1] \"NANOGNB\" \"NANOG\"  "
      ]
     },
     "metadata": {},
     "output_type": "display_data"
    }
   ],
   "source": [
    "var$index[grep(\"NANOG\",var$index)]"
   ]
  },
  {
   "cell_type": "code",
   "execution_count": 10,
   "metadata": {},
   "outputs": [],
   "source": [
    "X = h5read(file = filename, \"X\")\n",
    "X_data = as.integer(X$data)\n",
    "X_indptr = as.integer(X$indptr)\n",
    "X_indices = as.integer(X$indices)\n",
    "rm(X)"
   ]
  },
  {
   "cell_type": "code",
   "execution_count": 11,
   "metadata": {},
   "outputs": [],
   "source": [
    "sMat = sparseMatrix(\n",
    "i = X_indices,\n",
    "p = X_indptr,\n",
    "x = X_data,\n",
    "dims = c(length(var[[1]]), length(ind)),\n",
    "index1 = FALSE\n",
    ")\n",
    "rownames(sMat) <- as.character(var[[1]])\n",
    "colnames(sMat) <- as.character(ind)"
   ]
  },
  {
   "cell_type": "code",
   "execution_count": 12,
   "metadata": {},
   "outputs": [
    {
     "data": {
      "text/html": [
       "<ol class=list-inline>\n",
       "\t<li>'QSOX1'</li>\n",
       "\t<li>'SOX13'</li>\n",
       "\t<li>'SOX11'</li>\n",
       "\t<li>'SOX14'</li>\n",
       "\t<li>'SOX2'</li>\n",
       "\t<li>'SOX30'</li>\n",
       "\t<li>'SOX4'</li>\n",
       "\t<li>'SOX3'</li>\n",
       "\t<li>'SOX7'</li>\n",
       "\t<li>'SOX7-1'</li>\n",
       "\t<li>'SOX17'</li>\n",
       "\t<li>'QSOX2'</li>\n",
       "\t<li>'SOX6'</li>\n",
       "\t<li>'SOX5'</li>\n",
       "\t<li>'SOX21'</li>\n",
       "\t<li>'SOX21-AS1'</li>\n",
       "\t<li>'SOX1'</li>\n",
       "\t<li>'SOX8'</li>\n",
       "\t<li>'SOX15'</li>\n",
       "\t<li>'SOX9'</li>\n",
       "\t<li>'SOX12'</li>\n",
       "\t<li>'SOX18'</li>\n",
       "\t<li>'SOX10'</li>\n",
       "</ol>\n"
      ],
      "text/latex": [
       "\\begin{enumerate*}\n",
       "\\item 'QSOX1'\n",
       "\\item 'SOX13'\n",
       "\\item 'SOX11'\n",
       "\\item 'SOX14'\n",
       "\\item 'SOX2'\n",
       "\\item 'SOX30'\n",
       "\\item 'SOX4'\n",
       "\\item 'SOX3'\n",
       "\\item 'SOX7'\n",
       "\\item 'SOX7-1'\n",
       "\\item 'SOX17'\n",
       "\\item 'QSOX2'\n",
       "\\item 'SOX6'\n",
       "\\item 'SOX5'\n",
       "\\item 'SOX21'\n",
       "\\item 'SOX21-AS1'\n",
       "\\item 'SOX1'\n",
       "\\item 'SOX8'\n",
       "\\item 'SOX15'\n",
       "\\item 'SOX9'\n",
       "\\item 'SOX12'\n",
       "\\item 'SOX18'\n",
       "\\item 'SOX10'\n",
       "\\end{enumerate*}\n"
      ],
      "text/markdown": [
       "1. 'QSOX1'\n",
       "2. 'SOX13'\n",
       "3. 'SOX11'\n",
       "4. 'SOX14'\n",
       "5. 'SOX2'\n",
       "6. 'SOX30'\n",
       "7. 'SOX4'\n",
       "8. 'SOX3'\n",
       "9. 'SOX7'\n",
       "10. 'SOX7-1'\n",
       "11. 'SOX17'\n",
       "12. 'QSOX2'\n",
       "13. 'SOX6'\n",
       "14. 'SOX5'\n",
       "15. 'SOX21'\n",
       "16. 'SOX21-AS1'\n",
       "17. 'SOX1'\n",
       "18. 'SOX8'\n",
       "19. 'SOX15'\n",
       "20. 'SOX9'\n",
       "21. 'SOX12'\n",
       "22. 'SOX18'\n",
       "23. 'SOX10'\n",
       "\n",
       "\n"
      ],
      "text/plain": [
       " [1] \"QSOX1\"     \"SOX13\"     \"SOX11\"     \"SOX14\"     \"SOX2\"      \"SOX30\"    \n",
       " [7] \"SOX4\"      \"SOX3\"      \"SOX7\"      \"SOX7-1\"    \"SOX17\"     \"QSOX2\"    \n",
       "[13] \"SOX6\"      \"SOX5\"      \"SOX21\"     \"SOX21-AS1\" \"SOX1\"      \"SOX8\"     \n",
       "[19] \"SOX15\"     \"SOX9\"      \"SOX12\"     \"SOX18\"     \"SOX10\"    "
      ]
     },
     "metadata": {},
     "output_type": "display_data"
    }
   ],
   "source": [
    "rownames(sMat)[grep(\"SOX\",rownames(sMat))]"
   ]
  },
  {
   "cell_type": "code",
   "execution_count": 13,
   "metadata": {},
   "outputs": [],
   "source": [
    "R_filename = paste0(mydir,\"neuroseq_all_5pct.Rds\")\n",
    "# saveRDS(sMat, file = R_filename)"
   ]
  },
  {
   "cell_type": "code",
   "execution_count": null,
   "metadata": {},
   "outputs": [],
   "source": []
  },
  {
   "cell_type": "code",
   "execution_count": 14,
   "metadata": {},
   "outputs": [
    {
     "name": "stdout",
     "output_type": "stream",
     "text": [
      "List of 22\n",
      " $ __categories               :List of 7\n",
      "  ..$ batch     : chr [1:151(1d)] \"0\" \"1\" \"2\" \"3\" ...\n",
      "  ..$ celltype  : chr [1:11(1d)] \"Astro\" \"CHem\" \"DA\" \"Epen1\" ...\n",
      "  ..$ donor_id  : chr [1:213(1d)] \"HPSI0114i-bezi_3\" \"HPSI0114i-eipl_1\" \"HPSI0114i-fikt_3\" \"HPSI0114i-kolf_2\" ...\n",
      "  ..$ pool_id   : chr [1:17(1d)] \"pool1\" \"pool2\" \"pool3\" \"pool4\" ...\n",
      "  ..$ sample_id : chr [1:151(1d)] \"5245STDY7352549\" \"5245STDY7352550\" \"5245STDY7386985\" \"5245STDY7386986\" ...\n",
      "  ..$ time_point: chr [1:3(1d)] \"D11\" \"D30\" \"D52\"\n",
      "  ..$ treatment : chr [1:2(1d)] \"NONE\" \"ROT\"\n",
      " $ batch                      : int [1:205416(1d)] 60 81 46 66 53 129 134 79 37 119 ...\n",
      " $ celltype                   : int [1:205416(1d)] 2 0 2 7 5 2 9 2 5 9 ...\n",
      " $ cluster_id                 : int [1:205416(1d)] 1 0 1 5 4 1 2 1 3 2 ...\n",
      " $ donor_id                   : int [1:205416(1d)] 87 11 40 66 23 86 103 66 170 49 ...\n",
      " $ index                      : chr [1:205416(1d)] \"ATCGAGTTCAAACGGG-1-60\" \"ACCAGTAAGACCTAGG-1-81\" \"GCTGCAGCAACCGCCA-1-46\" \"AACTCCCTCGACAGCC-1-66\" ...\n",
      " $ log1p_n_genes_by_counts    : num [1:205416(1d)] 8.35 8.04 6.58 7.98 7.81 ...\n",
      " $ log1p_total_counts         : num [1:205416(1d)] 9.49 9.09 7.18 9.72 9.14 ...\n",
      " $ log1p_total_counts_mito    : num [1:205416(1d)] 6 5.18 2.89 5.09 4.97 ...\n",
      " $ n_counts_all               : num [1:205416(1d)] 13199 8853 1307 16709 9298 ...\n",
      " $ n_genes_by_counts          : int [1:205416(1d)] 4220 3114 719 2921 2457 4678 2765 4909 4069 2847 ...\n",
      " $ pct_counts_in_top_100_genes: num [1:205416(1d)] 29.7 34.7 44.1 58.7 52.6 ...\n",
      " $ pct_counts_in_top_200_genes: num [1:205416(1d)] 38.4 45.9 59.8 68.4 61.9 ...\n",
      " $ pct_counts_in_top_500_genes: num [1:205416(1d)] 53.5 60.7 83.2 78.8 74.2 ...\n",
      " $ pct_counts_in_top_50_genes : num [1:205416(1d)] 22.9 24.1 31.8 42.6 38.1 ...\n",
      " $ pct_counts_mito            : num [1:205416(1d)] 3.046 1.999 1.301 0.964 1.538 ...\n",
      " $ pool_id                    : int [1:205416(1d)] 4 7 4 5 0 10 10 5 4 8 ...\n",
      " $ sample_id                  : int [1:205416(1d)] 60 81 46 66 53 129 134 79 37 119 ...\n",
      " $ time_point                 : int [1:205416(1d)] 2 1 1 0 2 1 2 1 0 2 ...\n",
      " $ total_counts               : num [1:205416(1d)] 13199 8853 1307 16709 9298 ...\n",
      " $ total_counts_mito          : num [1:205416(1d)] 402 177 17 161 143 582 140 467 199 239 ...\n",
      " $ treatment                  : int [1:205416(1d)] 0 0 0 0 0 0 1 0 0 1 ...\n"
     ]
    }
   ],
   "source": [
    "obs = h5read(file = filename, \"obs\")\n",
    "str(obs)"
   ]
  },
  {
   "cell_type": "code",
   "execution_count": 44,
   "metadata": {},
   "outputs": [
    {
     "data": {
      "text/html": [
       "<table>\n",
       "<tbody>\n",
       "\t<tr><th scope=row>ATCGAGTTCAAACGGG-1-60</th></tr>\n",
       "\t<tr><th scope=row>ACCAGTAAGACCTAGG-1-81</th></tr>\n",
       "\t<tr><th scope=row>GCTGCAGCAACCGCCA-1-46</th></tr>\n",
       "\t<tr><th scope=row>AACTCCCTCGACAGCC-1-66</th></tr>\n",
       "\t<tr><th scope=row>CGTCCATGTAGGCTGA-1-53</th></tr>\n",
       "\t<tr><th scope=row>CTCTACGTCGCATGAT-1-129</th></tr>\n",
       "</tbody>\n",
       "</table>\n"
      ],
      "text/latex": [
       "\\begin{tabular}{r|}\n",
       "\tATCGAGTTCAAACGGG-1-60\\\\\n",
       "\tACCAGTAAGACCTAGG-1-81\\\\\n",
       "\tGCTGCAGCAACCGCCA-1-46\\\\\n",
       "\tAACTCCCTCGACAGCC-1-66\\\\\n",
       "\tCGTCCATGTAGGCTGA-1-53\\\\\n",
       "\tCTCTACGTCGCATGAT-1-129\\\\\n",
       "\\end{tabular}\n"
      ],
      "text/markdown": [
       "\n",
       "| ATCGAGTTCAAACGGG-1-60 |\n",
       "| ACCAGTAAGACCTAGG-1-81 |\n",
       "| GCTGCAGCAACCGCCA-1-46 |\n",
       "| AACTCCCTCGACAGCC-1-66 |\n",
       "| CGTCCATGTAGGCTGA-1-53 |\n",
       "| CTCTACGTCGCATGAT-1-129 |\n",
       "\n"
      ],
      "text/plain": [
       "                      \n",
       "ATCGAGTTCAAACGGG-1-60 \n",
       "ACCAGTAAGACCTAGG-1-81 \n",
       "GCTGCAGCAACCGCCA-1-46 \n",
       "AACTCCCTCGACAGCC-1-66 \n",
       "CGTCCATGTAGGCTGA-1-53 \n",
       "CTCTACGTCGCATGAT-1-129"
      ]
     },
     "metadata": {},
     "output_type": "display_data"
    }
   ],
   "source": [
    "df = data.frame(row.names = obs$index)\n",
    "head(df)"
   ]
  },
  {
   "cell_type": "code",
   "execution_count": 45,
   "metadata": {},
   "outputs": [],
   "source": [
    "obs = h5read(file = filename, \"obs\")\n",
    "all_cols = names(obs)\n",
    "categorical_cols = names(h5read(file = filename, \"obs/__categories\"))"
   ]
  },
  {
   "cell_type": "code",
   "execution_count": 52,
   "metadata": {},
   "outputs": [],
   "source": [
    "for (col in all_cols){\n",
    "#     print(col)\n",
    "    if (!(col %in% c(categorical_cols, \"__categories\",\"index\"))){\n",
    "#         print(col)\n",
    "#         print(obs[[col]])\n",
    "        df[[col]] = (as.numeric(obs[[col]]))   \n",
    "    }\n",
    "    if (col %in% c(categorical_cols)){\n",
    "        colname = paste0(\"obs/__categories/\",col)\n",
    "        df[[col]] = h5read(file = filename,colname)[((as.numeric(obs[[col]]))+1)]\n",
    "    }\n",
    "}"
   ]
  },
  {
   "cell_type": "code",
   "execution_count": 53,
   "metadata": {},
   "outputs": [
    {
     "data": {
      "text/html": [
       "<table>\n",
       "<thead><tr><th></th><th scope=col>cluster_id</th><th scope=col>log1p_n_genes_by_counts</th><th scope=col>log1p_total_counts</th><th scope=col>log1p_total_counts_mito</th><th scope=col>n_counts_all</th><th scope=col>n_genes_by_counts</th><th scope=col>pct_counts_in_top_100_genes</th><th scope=col>pct_counts_in_top_200_genes</th><th scope=col>pct_counts_in_top_500_genes</th><th scope=col>pct_counts_in_top_50_genes</th><th scope=col>pct_counts_mito</th><th scope=col>total_counts</th><th scope=col>total_counts_mito</th><th scope=col>batch</th><th scope=col>celltype</th><th scope=col>donor_id</th><th scope=col>pool_id</th><th scope=col>sample_id</th><th scope=col>time_point</th><th scope=col>treatment</th></tr></thead>\n",
       "<tbody>\n",
       "\t<tr><th scope=row>ATCGAGTTCAAACGGG-1-60</th><td>1               </td><td>8.347827        </td><td>9.487972        </td><td>5.998937        </td><td>13199           </td><td>4220            </td><td>29.72195        </td><td>38.36654        </td><td>53.48890        </td><td>22.88052        </td><td>3.0456853       </td><td>13199           </td><td>402             </td><td>60              </td><td>DA              </td><td>HPSI0514i-fiaj_1</td><td>pool5           </td><td>5245STDY7631342 </td><td>D52             </td><td>NONE            </td></tr>\n",
       "\t<tr><th scope=row>ACCAGTAAGACCTAGG-1-81</th><td>0               </td><td>8.043984        </td><td>9.088625        </td><td>5.181784        </td><td> 8853           </td><td>3114            </td><td>34.74528        </td><td>45.88275        </td><td>60.74777        </td><td>24.08223        </td><td>1.9993223       </td><td> 8853           </td><td>177             </td><td>81              </td><td>Astro           </td><td>HPSI0115i-aoxv_1</td><td>pool8           </td><td>5245STDY7654676 </td><td>D30             </td><td>NONE            </td></tr>\n",
       "\t<tr><th scope=row>GCTGCAGCAACCGCCA-1-46</th><td>1               </td><td>6.579251        </td><td>7.176255        </td><td>2.890372        </td><td> 1307           </td><td> 719            </td><td>44.07039        </td><td>59.83168        </td><td>83.24407        </td><td>31.75210        </td><td>1.3006885       </td><td> 1307           </td><td> 17             </td><td>46              </td><td>DA              </td><td>HPSI0214i-poih_2</td><td>pool5           </td><td>5245STDY7603455 </td><td>D30             </td><td>NONE            </td></tr>\n",
       "\t<tr><th scope=row>AACTCCCTCGACAGCC-1-66</th><td>5               </td><td>7.980024        </td><td>9.723763        </td><td>5.087596        </td><td>16709           </td><td>2921            </td><td>58.68694        </td><td>68.40625        </td><td>78.79586        </td><td>42.61775        </td><td>0.9635526       </td><td>16709           </td><td>161             </td><td>66              </td><td>P_FPP           </td><td>HPSI0414i-mita_1</td><td>pool6           </td><td>5245STDY7632692 </td><td>D11             </td><td>NONE            </td></tr>\n",
       "\t<tr><th scope=row>CGTCCATGTAGGCTGA-1-53</th><td>4               </td><td>7.807103        </td><td>9.137662        </td><td>4.969813        </td><td> 9298           </td><td>2457            </td><td>52.64573        </td><td>61.91654        </td><td>74.16649        </td><td>38.13723        </td><td>1.5379652       </td><td> 9298           </td><td>143             </td><td>53              </td><td>FPP             </td><td>HPSI0115i-paim_1</td><td>pool1           </td><td>5245STDY7631335 </td><td>D52             </td><td>NONE            </td></tr>\n",
       "\t<tr><th scope=row>CTCTACGTCGCATGAT-1-129</th><td>1               </td><td>8.450840        </td><td>9.791606        </td><td>6.368187        </td><td>17882           </td><td>4678            </td><td>31.88122        </td><td>41.53898        </td><td>56.85606        </td><td>24.44357        </td><td>3.2546694       </td><td>17882           </td><td>582             </td><td>129             </td><td>DA              </td><td>HPSI0513i-veve_2</td><td>pool11          </td><td>5245STDY7899446 </td><td>D30             </td><td>NONE            </td></tr>\n",
       "</tbody>\n",
       "</table>\n"
      ],
      "text/latex": [
       "\\begin{tabular}{r|llllllllllllllllllll}\n",
       "  & cluster\\_id & log1p\\_n\\_genes\\_by\\_counts & log1p\\_total\\_counts & log1p\\_total\\_counts\\_mito & n\\_counts\\_all & n\\_genes\\_by\\_counts & pct\\_counts\\_in\\_top\\_100\\_genes & pct\\_counts\\_in\\_top\\_200\\_genes & pct\\_counts\\_in\\_top\\_500\\_genes & pct\\_counts\\_in\\_top\\_50\\_genes & pct\\_counts\\_mito & total\\_counts & total\\_counts\\_mito & batch & celltype & donor\\_id & pool\\_id & sample\\_id & time\\_point & treatment\\\\\n",
       "\\hline\n",
       "\tATCGAGTTCAAACGGG-1-60 & 1                  & 8.347827           & 9.487972           & 5.998937           & 13199              & 4220               & 29.72195           & 38.36654           & 53.48890           & 22.88052           & 3.0456853          & 13199              & 402                & 60                 & DA                 & HPSI0514i-fiaj\\_1 & pool5              & 5245STDY7631342    & D52                & NONE              \\\\\n",
       "\tACCAGTAAGACCTAGG-1-81 & 0                  & 8.043984           & 9.088625           & 5.181784           &  8853              & 3114               & 34.74528           & 45.88275           & 60.74777           & 24.08223           & 1.9993223          &  8853              & 177                & 81                 & Astro              & HPSI0115i-aoxv\\_1 & pool8              & 5245STDY7654676    & D30                & NONE              \\\\\n",
       "\tGCTGCAGCAACCGCCA-1-46 & 1                  & 6.579251           & 7.176255           & 2.890372           &  1307              &  719               & 44.07039           & 59.83168           & 83.24407           & 31.75210           & 1.3006885          &  1307              &  17                & 46                 & DA                 & HPSI0214i-poih\\_2 & pool5              & 5245STDY7603455    & D30                & NONE              \\\\\n",
       "\tAACTCCCTCGACAGCC-1-66 & 5                  & 7.980024           & 9.723763           & 5.087596           & 16709              & 2921               & 58.68694           & 68.40625           & 78.79586           & 42.61775           & 0.9635526          & 16709              & 161                & 66                 & P\\_FPP            & HPSI0414i-mita\\_1 & pool6              & 5245STDY7632692    & D11                & NONE              \\\\\n",
       "\tCGTCCATGTAGGCTGA-1-53 & 4                  & 7.807103           & 9.137662           & 4.969813           &  9298              & 2457               & 52.64573           & 61.91654           & 74.16649           & 38.13723           & 1.5379652          &  9298              & 143                & 53                 & FPP                & HPSI0115i-paim\\_1 & pool1              & 5245STDY7631335    & D52                & NONE              \\\\\n",
       "\tCTCTACGTCGCATGAT-1-129 & 1                  & 8.450840           & 9.791606           & 6.368187           & 17882              & 4678               & 31.88122           & 41.53898           & 56.85606           & 24.44357           & 3.2546694          & 17882              & 582                & 129                & DA                 & HPSI0513i-veve\\_2 & pool11             & 5245STDY7899446    & D30                & NONE              \\\\\n",
       "\\end{tabular}\n"
      ],
      "text/markdown": [
       "\n",
       "| <!--/--> | cluster_id | log1p_n_genes_by_counts | log1p_total_counts | log1p_total_counts_mito | n_counts_all | n_genes_by_counts | pct_counts_in_top_100_genes | pct_counts_in_top_200_genes | pct_counts_in_top_500_genes | pct_counts_in_top_50_genes | pct_counts_mito | total_counts | total_counts_mito | batch | celltype | donor_id | pool_id | sample_id | time_point | treatment |\n",
       "|---|---|---|---|---|---|---|---|---|---|---|---|---|---|---|---|---|---|---|---|---|\n",
       "| ATCGAGTTCAAACGGG-1-60 | 1                | 8.347827         | 9.487972         | 5.998937         | 13199            | 4220             | 29.72195         | 38.36654         | 53.48890         | 22.88052         | 3.0456853        | 13199            | 402              | 60               | DA               | HPSI0514i-fiaj_1 | pool5            | 5245STDY7631342  | D52              | NONE             |\n",
       "| ACCAGTAAGACCTAGG-1-81 | 0                | 8.043984         | 9.088625         | 5.181784         |  8853            | 3114             | 34.74528         | 45.88275         | 60.74777         | 24.08223         | 1.9993223        |  8853            | 177              | 81               | Astro            | HPSI0115i-aoxv_1 | pool8            | 5245STDY7654676  | D30              | NONE             |\n",
       "| GCTGCAGCAACCGCCA-1-46 | 1                | 6.579251         | 7.176255         | 2.890372         |  1307            |  719             | 44.07039         | 59.83168         | 83.24407         | 31.75210         | 1.3006885        |  1307            |  17              | 46               | DA               | HPSI0214i-poih_2 | pool5            | 5245STDY7603455  | D30              | NONE             |\n",
       "| AACTCCCTCGACAGCC-1-66 | 5                | 7.980024         | 9.723763         | 5.087596         | 16709            | 2921             | 58.68694         | 68.40625         | 78.79586         | 42.61775         | 0.9635526        | 16709            | 161              | 66               | P_FPP            | HPSI0414i-mita_1 | pool6            | 5245STDY7632692  | D11              | NONE             |\n",
       "| CGTCCATGTAGGCTGA-1-53 | 4                | 7.807103         | 9.137662         | 4.969813         |  9298            | 2457             | 52.64573         | 61.91654         | 74.16649         | 38.13723         | 1.5379652        |  9298            | 143              | 53               | FPP              | HPSI0115i-paim_1 | pool1            | 5245STDY7631335  | D52              | NONE             |\n",
       "| CTCTACGTCGCATGAT-1-129 | 1                | 8.450840         | 9.791606         | 6.368187         | 17882            | 4678             | 31.88122         | 41.53898         | 56.85606         | 24.44357         | 3.2546694        | 17882            | 582              | 129              | DA               | HPSI0513i-veve_2 | pool11           | 5245STDY7899446  | D30              | NONE             |\n",
       "\n"
      ],
      "text/plain": [
       "                       cluster_id log1p_n_genes_by_counts log1p_total_counts\n",
       "ATCGAGTTCAAACGGG-1-60  1          8.347827                9.487972          \n",
       "ACCAGTAAGACCTAGG-1-81  0          8.043984                9.088625          \n",
       "GCTGCAGCAACCGCCA-1-46  1          6.579251                7.176255          \n",
       "AACTCCCTCGACAGCC-1-66  5          7.980024                9.723763          \n",
       "CGTCCATGTAGGCTGA-1-53  4          7.807103                9.137662          \n",
       "CTCTACGTCGCATGAT-1-129 1          8.450840                9.791606          \n",
       "                       log1p_total_counts_mito n_counts_all n_genes_by_counts\n",
       "ATCGAGTTCAAACGGG-1-60  5.998937                13199        4220             \n",
       "ACCAGTAAGACCTAGG-1-81  5.181784                 8853        3114             \n",
       "GCTGCAGCAACCGCCA-1-46  2.890372                 1307         719             \n",
       "AACTCCCTCGACAGCC-1-66  5.087596                16709        2921             \n",
       "CGTCCATGTAGGCTGA-1-53  4.969813                 9298        2457             \n",
       "CTCTACGTCGCATGAT-1-129 6.368187                17882        4678             \n",
       "                       pct_counts_in_top_100_genes pct_counts_in_top_200_genes\n",
       "ATCGAGTTCAAACGGG-1-60  29.72195                    38.36654                   \n",
       "ACCAGTAAGACCTAGG-1-81  34.74528                    45.88275                   \n",
       "GCTGCAGCAACCGCCA-1-46  44.07039                    59.83168                   \n",
       "AACTCCCTCGACAGCC-1-66  58.68694                    68.40625                   \n",
       "CGTCCATGTAGGCTGA-1-53  52.64573                    61.91654                   \n",
       "CTCTACGTCGCATGAT-1-129 31.88122                    41.53898                   \n",
       "                       pct_counts_in_top_500_genes pct_counts_in_top_50_genes\n",
       "ATCGAGTTCAAACGGG-1-60  53.48890                    22.88052                  \n",
       "ACCAGTAAGACCTAGG-1-81  60.74777                    24.08223                  \n",
       "GCTGCAGCAACCGCCA-1-46  83.24407                    31.75210                  \n",
       "AACTCCCTCGACAGCC-1-66  78.79586                    42.61775                  \n",
       "CGTCCATGTAGGCTGA-1-53  74.16649                    38.13723                  \n",
       "CTCTACGTCGCATGAT-1-129 56.85606                    24.44357                  \n",
       "                       pct_counts_mito total_counts total_counts_mito batch\n",
       "ATCGAGTTCAAACGGG-1-60  3.0456853       13199        402               60   \n",
       "ACCAGTAAGACCTAGG-1-81  1.9993223        8853        177               81   \n",
       "GCTGCAGCAACCGCCA-1-46  1.3006885        1307         17               46   \n",
       "AACTCCCTCGACAGCC-1-66  0.9635526       16709        161               66   \n",
       "CGTCCATGTAGGCTGA-1-53  1.5379652        9298        143               53   \n",
       "CTCTACGTCGCATGAT-1-129 3.2546694       17882        582               129  \n",
       "                       celltype donor_id         pool_id sample_id      \n",
       "ATCGAGTTCAAACGGG-1-60  DA       HPSI0514i-fiaj_1 pool5   5245STDY7631342\n",
       "ACCAGTAAGACCTAGG-1-81  Astro    HPSI0115i-aoxv_1 pool8   5245STDY7654676\n",
       "GCTGCAGCAACCGCCA-1-46  DA       HPSI0214i-poih_2 pool5   5245STDY7603455\n",
       "AACTCCCTCGACAGCC-1-66  P_FPP    HPSI0414i-mita_1 pool6   5245STDY7632692\n",
       "CGTCCATGTAGGCTGA-1-53  FPP      HPSI0115i-paim_1 pool1   5245STDY7631335\n",
       "CTCTACGTCGCATGAT-1-129 DA       HPSI0513i-veve_2 pool11  5245STDY7899446\n",
       "                       time_point treatment\n",
       "ATCGAGTTCAAACGGG-1-60  D52        NONE     \n",
       "ACCAGTAAGACCTAGG-1-81  D30        NONE     \n",
       "GCTGCAGCAACCGCCA-1-46  D30        NONE     \n",
       "AACTCCCTCGACAGCC-1-66  D11        NONE     \n",
       "CGTCCATGTAGGCTGA-1-53  D52        NONE     \n",
       "CTCTACGTCGCATGAT-1-129 D30        NONE     "
      ]
     },
     "metadata": {},
     "output_type": "display_data"
    }
   ],
   "source": [
    "head(df)"
   ]
  },
  {
   "cell_type": "code",
   "execution_count": 58,
   "metadata": {},
   "outputs": [
    {
     "data": {
      "text/html": [
       "<table>\n",
       "<thead><tr><th></th><th scope=col>cluster_id</th><th scope=col>log1p_n_genes_by_counts</th><th scope=col>log1p_total_counts</th><th scope=col>log1p_total_counts_mito</th><th scope=col>n_counts_all</th><th scope=col>n_genes_by_counts</th><th scope=col>pct_counts_in_top_100_genes</th><th scope=col>pct_counts_in_top_200_genes</th><th scope=col>pct_counts_in_top_500_genes</th><th scope=col>pct_counts_in_top_50_genes</th><th scope=col>pct_counts_mito</th><th scope=col>total_counts</th><th scope=col>total_counts_mito</th><th scope=col>batch</th><th scope=col>celltype</th><th scope=col>donor_id</th><th scope=col>pool_id</th><th scope=col>sample_id</th><th scope=col>time_point</th><th scope=col>treatment</th></tr></thead>\n",
       "<tbody>\n",
       "\t<tr><th scope=row>ATCGAGTTCAAACGGG-1-60</th><td>1               </td><td>8.347827        </td><td>9.487972        </td><td>5.998937        </td><td>13199           </td><td>4220            </td><td>29.72195        </td><td>38.36654        </td><td>53.48890        </td><td>22.88052        </td><td>3.0456853       </td><td>13199           </td><td>402             </td><td>60              </td><td>DA              </td><td>HPSI0514i-fiaj_1</td><td>pool5           </td><td>5245STDY7631342 </td><td>D52             </td><td>NONE            </td></tr>\n",
       "\t<tr><th scope=row>ACCAGTAAGACCTAGG-1-81</th><td>0               </td><td>8.043984        </td><td>9.088625        </td><td>5.181784        </td><td> 8853           </td><td>3114            </td><td>34.74528        </td><td>45.88275        </td><td>60.74777        </td><td>24.08223        </td><td>1.9993223       </td><td> 8853           </td><td>177             </td><td>81              </td><td>Astro           </td><td>HPSI0115i-aoxv_1</td><td>pool8           </td><td>5245STDY7654676 </td><td>D30             </td><td>NONE            </td></tr>\n",
       "\t<tr><th scope=row>GCTGCAGCAACCGCCA-1-46</th><td>1               </td><td>6.579251        </td><td>7.176255        </td><td>2.890372        </td><td> 1307           </td><td> 719            </td><td>44.07039        </td><td>59.83168        </td><td>83.24407        </td><td>31.75210        </td><td>1.3006885       </td><td> 1307           </td><td> 17             </td><td>46              </td><td>DA              </td><td>HPSI0214i-poih_2</td><td>pool5           </td><td>5245STDY7603455 </td><td>D30             </td><td>NONE            </td></tr>\n",
       "\t<tr><th scope=row>AACTCCCTCGACAGCC-1-66</th><td>5               </td><td>7.980024        </td><td>9.723763        </td><td>5.087596        </td><td>16709           </td><td>2921            </td><td>58.68694        </td><td>68.40625        </td><td>78.79586        </td><td>42.61775        </td><td>0.9635526       </td><td>16709           </td><td>161             </td><td>66              </td><td>P_FPP           </td><td>HPSI0414i-mita_1</td><td>pool6           </td><td>5245STDY7632692 </td><td>D11             </td><td>NONE            </td></tr>\n",
       "\t<tr><th scope=row>CGTCCATGTAGGCTGA-1-53</th><td>4               </td><td>7.807103        </td><td>9.137662        </td><td>4.969813        </td><td> 9298           </td><td>2457            </td><td>52.64573        </td><td>61.91654        </td><td>74.16649        </td><td>38.13723        </td><td>1.5379652       </td><td> 9298           </td><td>143             </td><td>53              </td><td>FPP             </td><td>HPSI0115i-paim_1</td><td>pool1           </td><td>5245STDY7631335 </td><td>D52             </td><td>NONE            </td></tr>\n",
       "\t<tr><th scope=row>CTCTACGTCGCATGAT-1-129</th><td>1               </td><td>8.450840        </td><td>9.791606        </td><td>6.368187        </td><td>17882           </td><td>4678            </td><td>31.88122        </td><td>41.53898        </td><td>56.85606        </td><td>24.44357        </td><td>3.2546694       </td><td>17882           </td><td>582             </td><td>129             </td><td>DA              </td><td>HPSI0513i-veve_2</td><td>pool11          </td><td>5245STDY7899446 </td><td>D30             </td><td>NONE            </td></tr>\n",
       "</tbody>\n",
       "</table>\n"
      ],
      "text/latex": [
       "\\begin{tabular}{r|llllllllllllllllllll}\n",
       "  & cluster\\_id & log1p\\_n\\_genes\\_by\\_counts & log1p\\_total\\_counts & log1p\\_total\\_counts\\_mito & n\\_counts\\_all & n\\_genes\\_by\\_counts & pct\\_counts\\_in\\_top\\_100\\_genes & pct\\_counts\\_in\\_top\\_200\\_genes & pct\\_counts\\_in\\_top\\_500\\_genes & pct\\_counts\\_in\\_top\\_50\\_genes & pct\\_counts\\_mito & total\\_counts & total\\_counts\\_mito & batch & celltype & donor\\_id & pool\\_id & sample\\_id & time\\_point & treatment\\\\\n",
       "\\hline\n",
       "\tATCGAGTTCAAACGGG-1-60 & 1                  & 8.347827           & 9.487972           & 5.998937           & 13199              & 4220               & 29.72195           & 38.36654           & 53.48890           & 22.88052           & 3.0456853          & 13199              & 402                & 60                 & DA                 & HPSI0514i-fiaj\\_1 & pool5              & 5245STDY7631342    & D52                & NONE              \\\\\n",
       "\tACCAGTAAGACCTAGG-1-81 & 0                  & 8.043984           & 9.088625           & 5.181784           &  8853              & 3114               & 34.74528           & 45.88275           & 60.74777           & 24.08223           & 1.9993223          &  8853              & 177                & 81                 & Astro              & HPSI0115i-aoxv\\_1 & pool8              & 5245STDY7654676    & D30                & NONE              \\\\\n",
       "\tGCTGCAGCAACCGCCA-1-46 & 1                  & 6.579251           & 7.176255           & 2.890372           &  1307              &  719               & 44.07039           & 59.83168           & 83.24407           & 31.75210           & 1.3006885          &  1307              &  17                & 46                 & DA                 & HPSI0214i-poih\\_2 & pool5              & 5245STDY7603455    & D30                & NONE              \\\\\n",
       "\tAACTCCCTCGACAGCC-1-66 & 5                  & 7.980024           & 9.723763           & 5.087596           & 16709              & 2921               & 58.68694           & 68.40625           & 78.79586           & 42.61775           & 0.9635526          & 16709              & 161                & 66                 & P\\_FPP            & HPSI0414i-mita\\_1 & pool6              & 5245STDY7632692    & D11                & NONE              \\\\\n",
       "\tCGTCCATGTAGGCTGA-1-53 & 4                  & 7.807103           & 9.137662           & 4.969813           &  9298              & 2457               & 52.64573           & 61.91654           & 74.16649           & 38.13723           & 1.5379652          &  9298              & 143                & 53                 & FPP                & HPSI0115i-paim\\_1 & pool1              & 5245STDY7631335    & D52                & NONE              \\\\\n",
       "\tCTCTACGTCGCATGAT-1-129 & 1                  & 8.450840           & 9.791606           & 6.368187           & 17882              & 4678               & 31.88122           & 41.53898           & 56.85606           & 24.44357           & 3.2546694          & 17882              & 582                & 129                & DA                 & HPSI0513i-veve\\_2 & pool11             & 5245STDY7899446    & D30                & NONE              \\\\\n",
       "\\end{tabular}\n"
      ],
      "text/markdown": [
       "\n",
       "| <!--/--> | cluster_id | log1p_n_genes_by_counts | log1p_total_counts | log1p_total_counts_mito | n_counts_all | n_genes_by_counts | pct_counts_in_top_100_genes | pct_counts_in_top_200_genes | pct_counts_in_top_500_genes | pct_counts_in_top_50_genes | pct_counts_mito | total_counts | total_counts_mito | batch | celltype | donor_id | pool_id | sample_id | time_point | treatment |\n",
       "|---|---|---|---|---|---|---|---|---|---|---|---|---|---|---|---|---|---|---|---|---|\n",
       "| ATCGAGTTCAAACGGG-1-60 | 1                | 8.347827         | 9.487972         | 5.998937         | 13199            | 4220             | 29.72195         | 38.36654         | 53.48890         | 22.88052         | 3.0456853        | 13199            | 402              | 60               | DA               | HPSI0514i-fiaj_1 | pool5            | 5245STDY7631342  | D52              | NONE             |\n",
       "| ACCAGTAAGACCTAGG-1-81 | 0                | 8.043984         | 9.088625         | 5.181784         |  8853            | 3114             | 34.74528         | 45.88275         | 60.74777         | 24.08223         | 1.9993223        |  8853            | 177              | 81               | Astro            | HPSI0115i-aoxv_1 | pool8            | 5245STDY7654676  | D30              | NONE             |\n",
       "| GCTGCAGCAACCGCCA-1-46 | 1                | 6.579251         | 7.176255         | 2.890372         |  1307            |  719             | 44.07039         | 59.83168         | 83.24407         | 31.75210         | 1.3006885        |  1307            |  17              | 46               | DA               | HPSI0214i-poih_2 | pool5            | 5245STDY7603455  | D30              | NONE             |\n",
       "| AACTCCCTCGACAGCC-1-66 | 5                | 7.980024         | 9.723763         | 5.087596         | 16709            | 2921             | 58.68694         | 68.40625         | 78.79586         | 42.61775         | 0.9635526        | 16709            | 161              | 66               | P_FPP            | HPSI0414i-mita_1 | pool6            | 5245STDY7632692  | D11              | NONE             |\n",
       "| CGTCCATGTAGGCTGA-1-53 | 4                | 7.807103         | 9.137662         | 4.969813         |  9298            | 2457             | 52.64573         | 61.91654         | 74.16649         | 38.13723         | 1.5379652        |  9298            | 143              | 53               | FPP              | HPSI0115i-paim_1 | pool1            | 5245STDY7631335  | D52              | NONE             |\n",
       "| CTCTACGTCGCATGAT-1-129 | 1                | 8.450840         | 9.791606         | 6.368187         | 17882            | 4678             | 31.88122         | 41.53898         | 56.85606         | 24.44357         | 3.2546694        | 17882            | 582              | 129              | DA               | HPSI0513i-veve_2 | pool11           | 5245STDY7899446  | D30              | NONE             |\n",
       "\n"
      ],
      "text/plain": [
       "                       cluster_id log1p_n_genes_by_counts log1p_total_counts\n",
       "ATCGAGTTCAAACGGG-1-60  1          8.347827                9.487972          \n",
       "ACCAGTAAGACCTAGG-1-81  0          8.043984                9.088625          \n",
       "GCTGCAGCAACCGCCA-1-46  1          6.579251                7.176255          \n",
       "AACTCCCTCGACAGCC-1-66  5          7.980024                9.723763          \n",
       "CGTCCATGTAGGCTGA-1-53  4          7.807103                9.137662          \n",
       "CTCTACGTCGCATGAT-1-129 1          8.450840                9.791606          \n",
       "                       log1p_total_counts_mito n_counts_all n_genes_by_counts\n",
       "ATCGAGTTCAAACGGG-1-60  5.998937                13199        4220             \n",
       "ACCAGTAAGACCTAGG-1-81  5.181784                 8853        3114             \n",
       "GCTGCAGCAACCGCCA-1-46  2.890372                 1307         719             \n",
       "AACTCCCTCGACAGCC-1-66  5.087596                16709        2921             \n",
       "CGTCCATGTAGGCTGA-1-53  4.969813                 9298        2457             \n",
       "CTCTACGTCGCATGAT-1-129 6.368187                17882        4678             \n",
       "                       pct_counts_in_top_100_genes pct_counts_in_top_200_genes\n",
       "ATCGAGTTCAAACGGG-1-60  29.72195                    38.36654                   \n",
       "ACCAGTAAGACCTAGG-1-81  34.74528                    45.88275                   \n",
       "GCTGCAGCAACCGCCA-1-46  44.07039                    59.83168                   \n",
       "AACTCCCTCGACAGCC-1-66  58.68694                    68.40625                   \n",
       "CGTCCATGTAGGCTGA-1-53  52.64573                    61.91654                   \n",
       "CTCTACGTCGCATGAT-1-129 31.88122                    41.53898                   \n",
       "                       pct_counts_in_top_500_genes pct_counts_in_top_50_genes\n",
       "ATCGAGTTCAAACGGG-1-60  53.48890                    22.88052                  \n",
       "ACCAGTAAGACCTAGG-1-81  60.74777                    24.08223                  \n",
       "GCTGCAGCAACCGCCA-1-46  83.24407                    31.75210                  \n",
       "AACTCCCTCGACAGCC-1-66  78.79586                    42.61775                  \n",
       "CGTCCATGTAGGCTGA-1-53  74.16649                    38.13723                  \n",
       "CTCTACGTCGCATGAT-1-129 56.85606                    24.44357                  \n",
       "                       pct_counts_mito total_counts total_counts_mito batch\n",
       "ATCGAGTTCAAACGGG-1-60  3.0456853       13199        402               60   \n",
       "ACCAGTAAGACCTAGG-1-81  1.9993223        8853        177               81   \n",
       "GCTGCAGCAACCGCCA-1-46  1.3006885        1307         17               46   \n",
       "AACTCCCTCGACAGCC-1-66  0.9635526       16709        161               66   \n",
       "CGTCCATGTAGGCTGA-1-53  1.5379652        9298        143               53   \n",
       "CTCTACGTCGCATGAT-1-129 3.2546694       17882        582               129  \n",
       "                       celltype donor_id         pool_id sample_id      \n",
       "ATCGAGTTCAAACGGG-1-60  DA       HPSI0514i-fiaj_1 pool5   5245STDY7631342\n",
       "ACCAGTAAGACCTAGG-1-81  Astro    HPSI0115i-aoxv_1 pool8   5245STDY7654676\n",
       "GCTGCAGCAACCGCCA-1-46  DA       HPSI0214i-poih_2 pool5   5245STDY7603455\n",
       "AACTCCCTCGACAGCC-1-66  P_FPP    HPSI0414i-mita_1 pool6   5245STDY7632692\n",
       "CGTCCATGTAGGCTGA-1-53  FPP      HPSI0115i-paim_1 pool1   5245STDY7631335\n",
       "CTCTACGTCGCATGAT-1-129 DA       HPSI0513i-veve_2 pool11  5245STDY7899446\n",
       "                       time_point treatment\n",
       "ATCGAGTTCAAACGGG-1-60  D52        NONE     \n",
       "ACCAGTAAGACCTAGG-1-81  D30        NONE     \n",
       "GCTGCAGCAACCGCCA-1-46  D30        NONE     \n",
       "AACTCCCTCGACAGCC-1-66  D11        NONE     \n",
       "CGTCCATGTAGGCTGA-1-53  D52        NONE     \n",
       "CTCTACGTCGCATGAT-1-129 D30        NONE     "
      ]
     },
     "metadata": {},
     "output_type": "display_data"
    }
   ],
   "source": [
    "cData_raw = df\n",
    "head(cData_raw)"
   ]
  },
  {
   "cell_type": "code",
   "execution_count": 59,
   "metadata": {},
   "outputs": [],
   "source": [
    "cData_raw$umap1 = h5read(file = filename, \"obsm\")$X_umap[1,]\n",
    "cData_raw$umap2 = h5read(file = filename, \"obsm\")$X_umap[2,]"
   ]
  },
  {
   "cell_type": "code",
   "execution_count": 60,
   "metadata": {},
   "outputs": [],
   "source": [
    "cData_raw$index = rownames(cData_raw)"
   ]
  },
  {
   "cell_type": "code",
   "execution_count": 61,
   "metadata": {},
   "outputs": [
    {
     "data": {
      "text/html": [
       "<table>\n",
       "<thead><tr><th></th><th scope=col>cluster_id</th><th scope=col>log1p_n_genes_by_counts</th><th scope=col>log1p_total_counts</th><th scope=col>log1p_total_counts_mito</th><th scope=col>n_counts_all</th><th scope=col>n_genes_by_counts</th><th scope=col>pct_counts_in_top_100_genes</th><th scope=col>pct_counts_in_top_200_genes</th><th scope=col>pct_counts_in_top_500_genes</th><th scope=col>pct_counts_in_top_50_genes</th><th scope=col>...</th><th scope=col>batch</th><th scope=col>celltype</th><th scope=col>donor_id</th><th scope=col>pool_id</th><th scope=col>sample_id</th><th scope=col>time_point</th><th scope=col>treatment</th><th scope=col>umap1</th><th scope=col>umap2</th><th scope=col>index</th></tr></thead>\n",
       "<tbody>\n",
       "\t<tr><th scope=row>ATCGAGTTCAAACGGG-1-60</th><td>1                     </td><td>8.347827              </td><td>9.487972              </td><td>5.998937              </td><td>13199                 </td><td>4220                  </td><td>29.72195              </td><td>38.36654              </td><td>53.48890              </td><td>22.88052              </td><td>...                   </td><td>60                    </td><td>DA                    </td><td>HPSI0514i-fiaj_1      </td><td>pool5                 </td><td>5245STDY7631342       </td><td>D52                   </td><td>NONE                  </td><td> 5.426174             </td><td> 9.667524             </td><td>ATCGAGTTCAAACGGG-1-60 </td></tr>\n",
       "\t<tr><th scope=row>ACCAGTAAGACCTAGG-1-81</th><td>0                     </td><td>8.043984              </td><td>9.088625              </td><td>5.181784              </td><td> 8853                 </td><td>3114                  </td><td>34.74528              </td><td>45.88275              </td><td>60.74777              </td><td>24.08223              </td><td>...                   </td><td>81                    </td><td>Astro                 </td><td>HPSI0115i-aoxv_1      </td><td>pool8                 </td><td>5245STDY7654676       </td><td>D30                   </td><td>NONE                  </td><td>-3.218357             </td><td>-4.263032             </td><td>ACCAGTAAGACCTAGG-1-81 </td></tr>\n",
       "\t<tr><th scope=row>GCTGCAGCAACCGCCA-1-46</th><td>1                     </td><td>6.579251              </td><td>7.176255              </td><td>2.890372              </td><td> 1307                 </td><td> 719                  </td><td>44.07039              </td><td>59.83168              </td><td>83.24407              </td><td>31.75210              </td><td>...                   </td><td>46                    </td><td>DA                    </td><td>HPSI0214i-poih_2      </td><td>pool5                 </td><td>5245STDY7603455       </td><td>D30                   </td><td>NONE                  </td><td> 6.085959             </td><td> 6.382314             </td><td>GCTGCAGCAACCGCCA-1-46 </td></tr>\n",
       "\t<tr><th scope=row>AACTCCCTCGACAGCC-1-66</th><td>5                     </td><td>7.980024              </td><td>9.723763              </td><td>5.087596              </td><td>16709                 </td><td>2921                  </td><td>58.68694              </td><td>68.40625              </td><td>78.79586              </td><td>42.61775              </td><td>...                   </td><td>66                    </td><td>P_FPP                 </td><td>HPSI0414i-mita_1      </td><td>pool6                 </td><td>5245STDY7632692       </td><td>D11                   </td><td>NONE                  </td><td>-6.902784             </td><td> 2.802364             </td><td>AACTCCCTCGACAGCC-1-66 </td></tr>\n",
       "\t<tr><th scope=row>CGTCCATGTAGGCTGA-1-53</th><td>4                     </td><td>7.807103              </td><td>9.137662              </td><td>4.969813              </td><td> 9298                 </td><td>2457                  </td><td>52.64573              </td><td>61.91654              </td><td>74.16649              </td><td>38.13723              </td><td>...                   </td><td>53                    </td><td>FPP                   </td><td>HPSI0115i-paim_1      </td><td>pool1                 </td><td>5245STDY7631335       </td><td>D52                   </td><td>NONE                  </td><td>-4.819849             </td><td>-8.872992             </td><td>CGTCCATGTAGGCTGA-1-53 </td></tr>\n",
       "\t<tr><th scope=row>CTCTACGTCGCATGAT-1-129</th><td>1                     </td><td>8.450840              </td><td>9.791606              </td><td>6.368187              </td><td>17882                 </td><td>4678                  </td><td>31.88122              </td><td>41.53898              </td><td>56.85606              </td><td>24.44357              </td><td>...                   </td><td>129                   </td><td>DA                    </td><td>HPSI0513i-veve_2      </td><td>pool11                </td><td>5245STDY7899446       </td><td>D30                   </td><td>NONE                  </td><td> 6.874391             </td><td> 7.509790             </td><td>CTCTACGTCGCATGAT-1-129</td></tr>\n",
       "</tbody>\n",
       "</table>\n"
      ],
      "text/latex": [
       "\\begin{tabular}{r|lllllllllllllllllllllll}\n",
       "  & cluster\\_id & log1p\\_n\\_genes\\_by\\_counts & log1p\\_total\\_counts & log1p\\_total\\_counts\\_mito & n\\_counts\\_all & n\\_genes\\_by\\_counts & pct\\_counts\\_in\\_top\\_100\\_genes & pct\\_counts\\_in\\_top\\_200\\_genes & pct\\_counts\\_in\\_top\\_500\\_genes & pct\\_counts\\_in\\_top\\_50\\_genes & ... & batch & celltype & donor\\_id & pool\\_id & sample\\_id & time\\_point & treatment & umap1 & umap2 & index\\\\\n",
       "\\hline\n",
       "\tATCGAGTTCAAACGGG-1-60 & 1                      & 8.347827               & 9.487972               & 5.998937               & 13199                  & 4220                   & 29.72195               & 38.36654               & 53.48890               & 22.88052               & ...                    & 60                     & DA                     & HPSI0514i-fiaj\\_1     & pool5                  & 5245STDY7631342        & D52                    & NONE                   &  5.426174              &  9.667524              & ATCGAGTTCAAACGGG-1-60 \\\\\n",
       "\tACCAGTAAGACCTAGG-1-81 & 0                      & 8.043984               & 9.088625               & 5.181784               &  8853                  & 3114                   & 34.74528               & 45.88275               & 60.74777               & 24.08223               & ...                    & 81                     & Astro                  & HPSI0115i-aoxv\\_1     & pool8                  & 5245STDY7654676        & D30                    & NONE                   & -3.218357              & -4.263032              & ACCAGTAAGACCTAGG-1-81 \\\\\n",
       "\tGCTGCAGCAACCGCCA-1-46 & 1                      & 6.579251               & 7.176255               & 2.890372               &  1307                  &  719                   & 44.07039               & 59.83168               & 83.24407               & 31.75210               & ...                    & 46                     & DA                     & HPSI0214i-poih\\_2     & pool5                  & 5245STDY7603455        & D30                    & NONE                   &  6.085959              &  6.382314              & GCTGCAGCAACCGCCA-1-46 \\\\\n",
       "\tAACTCCCTCGACAGCC-1-66 & 5                      & 7.980024               & 9.723763               & 5.087596               & 16709                  & 2921                   & 58.68694               & 68.40625               & 78.79586               & 42.61775               & ...                    & 66                     & P\\_FPP                & HPSI0414i-mita\\_1     & pool6                  & 5245STDY7632692        & D11                    & NONE                   & -6.902784              &  2.802364              & AACTCCCTCGACAGCC-1-66 \\\\\n",
       "\tCGTCCATGTAGGCTGA-1-53 & 4                      & 7.807103               & 9.137662               & 4.969813               &  9298                  & 2457                   & 52.64573               & 61.91654               & 74.16649               & 38.13723               & ...                    & 53                     & FPP                    & HPSI0115i-paim\\_1     & pool1                  & 5245STDY7631335        & D52                    & NONE                   & -4.819849              & -8.872992              & CGTCCATGTAGGCTGA-1-53 \\\\\n",
       "\tCTCTACGTCGCATGAT-1-129 & 1                      & 8.450840               & 9.791606               & 6.368187               & 17882                  & 4678                   & 31.88122               & 41.53898               & 56.85606               & 24.44357               & ...                    & 129                    & DA                     & HPSI0513i-veve\\_2     & pool11                 & 5245STDY7899446        & D30                    & NONE                   &  6.874391              &  7.509790              & CTCTACGTCGCATGAT-1-129\\\\\n",
       "\\end{tabular}\n"
      ],
      "text/markdown": [
       "\n",
       "| <!--/--> | cluster_id | log1p_n_genes_by_counts | log1p_total_counts | log1p_total_counts_mito | n_counts_all | n_genes_by_counts | pct_counts_in_top_100_genes | pct_counts_in_top_200_genes | pct_counts_in_top_500_genes | pct_counts_in_top_50_genes | ... | batch | celltype | donor_id | pool_id | sample_id | time_point | treatment | umap1 | umap2 | index |\n",
       "|---|---|---|---|---|---|---|---|---|---|---|---|---|---|---|---|---|---|---|---|---|---|\n",
       "| ATCGAGTTCAAACGGG-1-60 | 1                      | 8.347827               | 9.487972               | 5.998937               | 13199                  | 4220                   | 29.72195               | 38.36654               | 53.48890               | 22.88052               | ...                    | 60                     | DA                     | HPSI0514i-fiaj_1       | pool5                  | 5245STDY7631342        | D52                    | NONE                   |  5.426174              |  9.667524              | ATCGAGTTCAAACGGG-1-60  |\n",
       "| ACCAGTAAGACCTAGG-1-81 | 0                      | 8.043984               | 9.088625               | 5.181784               |  8853                  | 3114                   | 34.74528               | 45.88275               | 60.74777               | 24.08223               | ...                    | 81                     | Astro                  | HPSI0115i-aoxv_1       | pool8                  | 5245STDY7654676        | D30                    | NONE                   | -3.218357              | -4.263032              | ACCAGTAAGACCTAGG-1-81  |\n",
       "| GCTGCAGCAACCGCCA-1-46 | 1                      | 6.579251               | 7.176255               | 2.890372               |  1307                  |  719                   | 44.07039               | 59.83168               | 83.24407               | 31.75210               | ...                    | 46                     | DA                     | HPSI0214i-poih_2       | pool5                  | 5245STDY7603455        | D30                    | NONE                   |  6.085959              |  6.382314              | GCTGCAGCAACCGCCA-1-46  |\n",
       "| AACTCCCTCGACAGCC-1-66 | 5                      | 7.980024               | 9.723763               | 5.087596               | 16709                  | 2921                   | 58.68694               | 68.40625               | 78.79586               | 42.61775               | ...                    | 66                     | P_FPP                  | HPSI0414i-mita_1       | pool6                  | 5245STDY7632692        | D11                    | NONE                   | -6.902784              |  2.802364              | AACTCCCTCGACAGCC-1-66  |\n",
       "| CGTCCATGTAGGCTGA-1-53 | 4                      | 7.807103               | 9.137662               | 4.969813               |  9298                  | 2457                   | 52.64573               | 61.91654               | 74.16649               | 38.13723               | ...                    | 53                     | FPP                    | HPSI0115i-paim_1       | pool1                  | 5245STDY7631335        | D52                    | NONE                   | -4.819849              | -8.872992              | CGTCCATGTAGGCTGA-1-53  |\n",
       "| CTCTACGTCGCATGAT-1-129 | 1                      | 8.450840               | 9.791606               | 6.368187               | 17882                  | 4678                   | 31.88122               | 41.53898               | 56.85606               | 24.44357               | ...                    | 129                    | DA                     | HPSI0513i-veve_2       | pool11                 | 5245STDY7899446        | D30                    | NONE                   |  6.874391              |  7.509790              | CTCTACGTCGCATGAT-1-129 |\n",
       "\n"
      ],
      "text/plain": [
       "                       cluster_id log1p_n_genes_by_counts log1p_total_counts\n",
       "ATCGAGTTCAAACGGG-1-60  1          8.347827                9.487972          \n",
       "ACCAGTAAGACCTAGG-1-81  0          8.043984                9.088625          \n",
       "GCTGCAGCAACCGCCA-1-46  1          6.579251                7.176255          \n",
       "AACTCCCTCGACAGCC-1-66  5          7.980024                9.723763          \n",
       "CGTCCATGTAGGCTGA-1-53  4          7.807103                9.137662          \n",
       "CTCTACGTCGCATGAT-1-129 1          8.450840                9.791606          \n",
       "                       log1p_total_counts_mito n_counts_all n_genes_by_counts\n",
       "ATCGAGTTCAAACGGG-1-60  5.998937                13199        4220             \n",
       "ACCAGTAAGACCTAGG-1-81  5.181784                 8853        3114             \n",
       "GCTGCAGCAACCGCCA-1-46  2.890372                 1307         719             \n",
       "AACTCCCTCGACAGCC-1-66  5.087596                16709        2921             \n",
       "CGTCCATGTAGGCTGA-1-53  4.969813                 9298        2457             \n",
       "CTCTACGTCGCATGAT-1-129 6.368187                17882        4678             \n",
       "                       pct_counts_in_top_100_genes pct_counts_in_top_200_genes\n",
       "ATCGAGTTCAAACGGG-1-60  29.72195                    38.36654                   \n",
       "ACCAGTAAGACCTAGG-1-81  34.74528                    45.88275                   \n",
       "GCTGCAGCAACCGCCA-1-46  44.07039                    59.83168                   \n",
       "AACTCCCTCGACAGCC-1-66  58.68694                    68.40625                   \n",
       "CGTCCATGTAGGCTGA-1-53  52.64573                    61.91654                   \n",
       "CTCTACGTCGCATGAT-1-129 31.88122                    41.53898                   \n",
       "                       pct_counts_in_top_500_genes pct_counts_in_top_50_genes\n",
       "ATCGAGTTCAAACGGG-1-60  53.48890                    22.88052                  \n",
       "ACCAGTAAGACCTAGG-1-81  60.74777                    24.08223                  \n",
       "GCTGCAGCAACCGCCA-1-46  83.24407                    31.75210                  \n",
       "AACTCCCTCGACAGCC-1-66  78.79586                    42.61775                  \n",
       "CGTCCATGTAGGCTGA-1-53  74.16649                    38.13723                  \n",
       "CTCTACGTCGCATGAT-1-129 56.85606                    24.44357                  \n",
       "                       ... batch celltype donor_id         pool_id\n",
       "ATCGAGTTCAAACGGG-1-60  ... 60    DA       HPSI0514i-fiaj_1 pool5  \n",
       "ACCAGTAAGACCTAGG-1-81  ... 81    Astro    HPSI0115i-aoxv_1 pool8  \n",
       "GCTGCAGCAACCGCCA-1-46  ... 46    DA       HPSI0214i-poih_2 pool5  \n",
       "AACTCCCTCGACAGCC-1-66  ... 66    P_FPP    HPSI0414i-mita_1 pool6  \n",
       "CGTCCATGTAGGCTGA-1-53  ... 53    FPP      HPSI0115i-paim_1 pool1  \n",
       "CTCTACGTCGCATGAT-1-129 ... 129   DA       HPSI0513i-veve_2 pool11 \n",
       "                       sample_id       time_point treatment umap1     umap2    \n",
       "ATCGAGTTCAAACGGG-1-60  5245STDY7631342 D52        NONE       5.426174  9.667524\n",
       "ACCAGTAAGACCTAGG-1-81  5245STDY7654676 D30        NONE      -3.218357 -4.263032\n",
       "GCTGCAGCAACCGCCA-1-46  5245STDY7603455 D30        NONE       6.085959  6.382314\n",
       "AACTCCCTCGACAGCC-1-66  5245STDY7632692 D11        NONE      -6.902784  2.802364\n",
       "CGTCCATGTAGGCTGA-1-53  5245STDY7631335 D52        NONE      -4.819849 -8.872992\n",
       "CTCTACGTCGCATGAT-1-129 5245STDY7899446 D30        NONE       6.874391  7.509790\n",
       "                       index                 \n",
       "ATCGAGTTCAAACGGG-1-60  ATCGAGTTCAAACGGG-1-60 \n",
       "ACCAGTAAGACCTAGG-1-81  ACCAGTAAGACCTAGG-1-81 \n",
       "GCTGCAGCAACCGCCA-1-46  GCTGCAGCAACCGCCA-1-46 \n",
       "AACTCCCTCGACAGCC-1-66  AACTCCCTCGACAGCC-1-66 \n",
       "CGTCCATGTAGGCTGA-1-53  CGTCCATGTAGGCTGA-1-53 \n",
       "CTCTACGTCGCATGAT-1-129 CTCTACGTCGCATGAT-1-129"
      ]
     },
     "metadata": {},
     "output_type": "display_data"
    }
   ],
   "source": [
    "head(cData_raw)"
   ]
  },
  {
   "cell_type": "code",
   "execution_count": 62,
   "metadata": {},
   "outputs": [],
   "source": [
    "cData <- as.data.frame(cData_raw)\n",
    "cData_R_filename = paste0(mydir,\"neuroseq_all_5pct_cData.Rds\")\n",
    "saveRDS(cData, file = cData_R_filename)"
   ]
  },
  {
   "cell_type": "code",
   "execution_count": 63,
   "metadata": {},
   "outputs": [
    {
     "data": {
      "text/plain": [
       "class: SingleCellExperiment \n",
       "dim: 32738 205416 \n",
       "metadata(0):\n",
       "assays(1): counts\n",
       "rownames(32738): MIR1302-10 FAM138A ... AC002321.2 AC002321.1\n",
       "rowData names(0):\n",
       "colnames(205416): ATCGAGTTCAAACGGG-1-60 ACCAGTAAGACCTAGG-1-81 ...\n",
       "  ACTTTCAAGACCGGAT-1-26 TACACGAAGTGTCCCG-1-145\n",
       "colData names(23): cluster_id log1p_n_genes_by_counts ... umap2 index\n",
       "reducedDimNames(0):\n",
       "spikeNames(0):\n",
       "altExpNames(0):"
      ]
     },
     "metadata": {},
     "output_type": "display_data"
    }
   ],
   "source": [
    "# build the sce object\n",
    "sce <- SingleCellExperiment(\n",
    "assays = list(counts = sMat),\n",
    "colData = cData)\n",
    "sce"
   ]
  },
  {
   "cell_type": "code",
   "execution_count": 64,
   "metadata": {},
   "outputs": [],
   "source": [
    "sce_R_filename = paste0(mydir,\"neuroseq_all_5pct_sce.Rds\")\n",
    "saveRDS(sce, file = sce_R_filename)"
   ]
  },
  {
   "cell_type": "code",
   "execution_count": 65,
   "metadata": {},
   "outputs": [
    {
     "data": {
      "text/html": [
       "<ol class=list-inline>\n",
       "\t<li>'QSOX1'</li>\n",
       "\t<li>'SOX13'</li>\n",
       "\t<li>'SOX11'</li>\n",
       "\t<li>'SOX14'</li>\n",
       "\t<li>'SOX2'</li>\n",
       "\t<li>'SOX30'</li>\n",
       "\t<li>'SOX4'</li>\n",
       "\t<li>'SOX3'</li>\n",
       "\t<li>'SOX7'</li>\n",
       "\t<li>'SOX7-1'</li>\n",
       "\t<li>'SOX17'</li>\n",
       "\t<li>'QSOX2'</li>\n",
       "\t<li>'SOX6'</li>\n",
       "\t<li>'SOX5'</li>\n",
       "\t<li>'SOX21'</li>\n",
       "\t<li>'SOX21-AS1'</li>\n",
       "\t<li>'SOX1'</li>\n",
       "\t<li>'SOX8'</li>\n",
       "\t<li>'SOX15'</li>\n",
       "\t<li>'SOX9'</li>\n",
       "\t<li>'SOX12'</li>\n",
       "\t<li>'SOX18'</li>\n",
       "\t<li>'SOX10'</li>\n",
       "</ol>\n"
      ],
      "text/latex": [
       "\\begin{enumerate*}\n",
       "\\item 'QSOX1'\n",
       "\\item 'SOX13'\n",
       "\\item 'SOX11'\n",
       "\\item 'SOX14'\n",
       "\\item 'SOX2'\n",
       "\\item 'SOX30'\n",
       "\\item 'SOX4'\n",
       "\\item 'SOX3'\n",
       "\\item 'SOX7'\n",
       "\\item 'SOX7-1'\n",
       "\\item 'SOX17'\n",
       "\\item 'QSOX2'\n",
       "\\item 'SOX6'\n",
       "\\item 'SOX5'\n",
       "\\item 'SOX21'\n",
       "\\item 'SOX21-AS1'\n",
       "\\item 'SOX1'\n",
       "\\item 'SOX8'\n",
       "\\item 'SOX15'\n",
       "\\item 'SOX9'\n",
       "\\item 'SOX12'\n",
       "\\item 'SOX18'\n",
       "\\item 'SOX10'\n",
       "\\end{enumerate*}\n"
      ],
      "text/markdown": [
       "1. 'QSOX1'\n",
       "2. 'SOX13'\n",
       "3. 'SOX11'\n",
       "4. 'SOX14'\n",
       "5. 'SOX2'\n",
       "6. 'SOX30'\n",
       "7. 'SOX4'\n",
       "8. 'SOX3'\n",
       "9. 'SOX7'\n",
       "10. 'SOX7-1'\n",
       "11. 'SOX17'\n",
       "12. 'QSOX2'\n",
       "13. 'SOX6'\n",
       "14. 'SOX5'\n",
       "15. 'SOX21'\n",
       "16. 'SOX21-AS1'\n",
       "17. 'SOX1'\n",
       "18. 'SOX8'\n",
       "19. 'SOX15'\n",
       "20. 'SOX9'\n",
       "21. 'SOX12'\n",
       "22. 'SOX18'\n",
       "23. 'SOX10'\n",
       "\n",
       "\n"
      ],
      "text/plain": [
       " [1] \"QSOX1\"     \"SOX13\"     \"SOX11\"     \"SOX14\"     \"SOX2\"      \"SOX30\"    \n",
       " [7] \"SOX4\"      \"SOX3\"      \"SOX7\"      \"SOX7-1\"    \"SOX17\"     \"QSOX2\"    \n",
       "[13] \"SOX6\"      \"SOX5\"      \"SOX21\"     \"SOX21-AS1\" \"SOX1\"      \"SOX8\"     \n",
       "[19] \"SOX15\"     \"SOX9\"      \"SOX12\"     \"SOX18\"     \"SOX10\"    "
      ]
     },
     "metadata": {},
     "output_type": "display_data"
    }
   ],
   "source": [
    "rownames(sce)[grep(\"SOX\",rownames(sce))]"
   ]
  },
  {
   "cell_type": "code",
   "execution_count": null,
   "metadata": {},
   "outputs": [],
   "source": []
  }
 ],
 "metadata": {
  "kernelspec": {
   "display_name": "R",
   "language": "R",
   "name": "ir"
  },
  "language_info": {
   "codemirror_mode": "r",
   "file_extension": ".r",
   "mimetype": "text/x-r-source",
   "name": "R",
   "pygments_lexer": "r",
   "version": "3.6.1"
  }
 },
 "nbformat": 4,
 "nbformat_minor": 4
}
