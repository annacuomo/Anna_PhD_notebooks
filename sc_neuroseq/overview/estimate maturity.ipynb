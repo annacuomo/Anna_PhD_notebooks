{
 "cells": [
  {
   "cell_type": "code",
   "execution_count": 5,
   "metadata": {},
   "outputs": [],
   "source": [
    "library(rhdf5)\n",
    "library(Matrix)\n",
    "library(SingleCellExperiment)"
   ]
  },
  {
   "cell_type": "code",
   "execution_count": 2,
   "metadata": {},
   "outputs": [],
   "source": [
    "mydir = \"/nfs/leia/research/stegle/dseaton/hipsci/singlecell_neuroseq/data/data_processed/\""
   ]
  },
  {
   "cell_type": "code",
   "execution_count": 60,
   "metadata": {},
   "outputs": [],
   "source": [
    "# Day 30\n",
    "file1 = paste0(mydir,\"pool1_13_noddd_D30/pool1_13_noddd_D30.scanpy.w_metadata.w_celltype.scanpy.h5\")"
   ]
  },
  {
   "cell_type": "code",
   "execution_count": 4,
   "metadata": {},
   "outputs": [],
   "source": [
    "# Day 52\n",
    "file2 = paste0(mydir,\"pool1_17_D52/pool1_17_D52.scanpy.w_metadata.w_celltype.scanpy.h5\")"
   ]
  },
  {
   "cell_type": "code",
   "execution_count": null,
   "metadata": {},
   "outputs": [],
   "source": []
  },
  {
   "cell_type": "code",
   "execution_count": 61,
   "metadata": {},
   "outputs": [],
   "source": [
    "filename = file1\n",
    "# filename = file2"
   ]
  },
  {
   "cell_type": "code",
   "execution_count": 62,
   "metadata": {},
   "outputs": [
    {
     "data": {
      "text/html": [
       "<table>\n",
       "<tbody>\n",
       "\t<tr><td>/                    </td><td>X                    </td></tr>\n",
       "\t<tr><td>/X                   </td><td>data                 </td></tr>\n",
       "\t<tr><td>/X                   </td><td>indices              </td></tr>\n",
       "\t<tr><td>/X                   </td><td>indptr               </td></tr>\n",
       "\t<tr><td>/                    </td><td>obs                  </td></tr>\n",
       "\t<tr><td>/                    </td><td>obsm                 </td></tr>\n",
       "\t<tr><td>/                    </td><td>uns                  </td></tr>\n",
       "\t<tr><td>/uns                 </td><td>batch_categories     </td></tr>\n",
       "\t<tr><td>/uns                 </td><td>celltype_categories  </td></tr>\n",
       "\t<tr><td>/uns                 </td><td>donor_id_categories  </td></tr>\n",
       "\t<tr><td>/uns                 </td><td>pool_id_categories   </td></tr>\n",
       "\t<tr><td>/uns                 </td><td>sample_id_categories </td></tr>\n",
       "\t<tr><td>/uns                 </td><td>time_point_categories</td></tr>\n",
       "\t<tr><td>/uns                 </td><td>treatment_categories </td></tr>\n",
       "\t<tr><td>/                    </td><td>var                  </td></tr>\n",
       "</tbody>\n",
       "</table>\n"
      ],
      "text/latex": [
       "\\begin{tabular}{ll}\n",
       "\t /                     & X                    \\\\\n",
       "\t /X                    & data                 \\\\\n",
       "\t /X                    & indices              \\\\\n",
       "\t /X                    & indptr               \\\\\n",
       "\t /                     & obs                  \\\\\n",
       "\t /                     & obsm                 \\\\\n",
       "\t /                     & uns                  \\\\\n",
       "\t /uns                    & batch\\_categories     \\\\\n",
       "\t /uns                    & celltype\\_categories  \\\\\n",
       "\t /uns                      & donor\\_id\\_categories  \\\\\n",
       "\t /uns                      & pool\\_id\\_categories   \\\\\n",
       "\t /uns                      & sample\\_id\\_categories \\\\\n",
       "\t /uns                      & time\\_point\\_categories\\\\\n",
       "\t /uns                    & treatment\\_categories \\\\\n",
       "\t /                     & var                  \\\\\n",
       "\\end{tabular}\n"
      ],
      "text/markdown": [
       "\n",
       "| /                     | X                     |\n",
       "| /X                    | data                  |\n",
       "| /X                    | indices               |\n",
       "| /X                    | indptr                |\n",
       "| /                     | obs                   |\n",
       "| /                     | obsm                  |\n",
       "| /                     | uns                   |\n",
       "| /uns                  | batch_categories      |\n",
       "| /uns                  | celltype_categories   |\n",
       "| /uns                  | donor_id_categories   |\n",
       "| /uns                  | pool_id_categories    |\n",
       "| /uns                  | sample_id_categories  |\n",
       "| /uns                  | time_point_categories |\n",
       "| /uns                  | treatment_categories  |\n",
       "| /                     | var                   |\n",
       "\n"
      ],
      "text/plain": [
       "      [,1] [,2]                 \n",
       " [1,] /    X                    \n",
       " [2,] /X   data                 \n",
       " [3,] /X   indices              \n",
       " [4,] /X   indptr               \n",
       " [5,] /    obs                  \n",
       " [6,] /    obsm                 \n",
       " [7,] /    uns                  \n",
       " [8,] /uns batch_categories     \n",
       " [9,] /uns celltype_categories  \n",
       "[10,] /uns donor_id_categories  \n",
       "[11,] /uns pool_id_categories   \n",
       "[12,] /uns sample_id_categories \n",
       "[13,] /uns time_point_categories\n",
       "[14,] /uns treatment_categories \n",
       "[15,] /    var                  "
      ]
     },
     "metadata": {},
     "output_type": "display_data"
    }
   ],
   "source": [
    "cbind(h5ls(filename)$group,\n",
    "h5ls(filename)$name)"
   ]
  },
  {
   "cell_type": "code",
   "execution_count": 11,
   "metadata": {},
   "outputs": [
    {
     "data": {
      "text/html": [
       "<table>\n",
       "<thead><tr><th scope=col>gene_name</th><th scope=col>ensembl_gene_id</th></tr></thead>\n",
       "<tbody>\n",
       "\t<tr><td>MIR1302-10     </td><td>ENSG00000243485</td></tr>\n",
       "\t<tr><td>FAM138A        </td><td>ENSG00000237613</td></tr>\n",
       "\t<tr><td>OR4F5          </td><td>ENSG00000186092</td></tr>\n",
       "\t<tr><td>RP11-34P13.7   </td><td>ENSG00000238009</td></tr>\n",
       "\t<tr><td>RP11-34P13.8   </td><td>ENSG00000239945</td></tr>\n",
       "\t<tr><td>AL627309.1     </td><td>ENSG00000237683</td></tr>\n",
       "</tbody>\n",
       "</table>\n"
      ],
      "text/latex": [
       "\\begin{tabular}{r|ll}\n",
       " gene\\_name & ensembl\\_gene\\_id\\\\\n",
       "\\hline\n",
       "\t MIR1302-10      & ENSG00000243485\\\\\n",
       "\t FAM138A         & ENSG00000237613\\\\\n",
       "\t OR4F5           & ENSG00000186092\\\\\n",
       "\t RP11-34P13.7    & ENSG00000238009\\\\\n",
       "\t RP11-34P13.8    & ENSG00000239945\\\\\n",
       "\t AL627309.1      & ENSG00000237683\\\\\n",
       "\\end{tabular}\n"
      ],
      "text/markdown": [
       "\n",
       "| gene_name | ensembl_gene_id |\n",
       "|---|---|\n",
       "| MIR1302-10      | ENSG00000243485 |\n",
       "| FAM138A         | ENSG00000237613 |\n",
       "| OR4F5           | ENSG00000186092 |\n",
       "| RP11-34P13.7    | ENSG00000238009 |\n",
       "| RP11-34P13.8    | ENSG00000239945 |\n",
       "| AL627309.1      | ENSG00000237683 |\n",
       "\n"
      ],
      "text/plain": [
       "  gene_name    ensembl_gene_id\n",
       "1 MIR1302-10   ENSG00000243485\n",
       "2 FAM138A      ENSG00000237613\n",
       "3 OR4F5        ENSG00000186092\n",
       "4 RP11-34P13.7 ENSG00000238009\n",
       "5 RP11-34P13.8 ENSG00000239945\n",
       "6 AL627309.1   ENSG00000237683"
      ]
     },
     "metadata": {},
     "output_type": "display_data"
    }
   ],
   "source": [
    "# gene_anno_df = data.frame(gene_name = h5read(file = filename, \"var\")$index,\n",
    "#                          ensembl_gene_id = h5read(file = filename, \"var\")[['gene_ids-0']])\n",
    "head(gene_anno_df)"
   ]
  },
  {
   "cell_type": "code",
   "execution_count": 64,
   "metadata": {},
   "outputs": [],
   "source": [
    "ind = h5read(file = filename, \"obs\")$index # cell names\n",
    "# var = h5read(file = filename, \"var\")$index # gene names\n",
    "var = h5read(file = filename, \"var\")[['gene_ids-0']] # ensembl gene ids "
   ]
  },
  {
   "cell_type": "code",
   "execution_count": 65,
   "metadata": {},
   "outputs": [
    {
     "data": {
      "text/html": [
       "<ol class=list-inline>\n",
       "\t<li>'AAACCTGAGAGCTATA-1-0'</li>\n",
       "\t<li>'AAACCTGAGCTAGTCT-1-0'</li>\n",
       "\t<li>'AAACCTGAGTGTTAGA-1-0'</li>\n",
       "\t<li>'AAACCTGCAACCGCCA-1-0'</li>\n",
       "\t<li>'AAACCTGCAAGGGTCA-1-0'</li>\n",
       "\t<li>'AAACCTGCAATCCGAT-1-0'</li>\n",
       "</ol>\n"
      ],
      "text/latex": [
       "\\begin{enumerate*}\n",
       "\\item 'AAACCTGAGAGCTATA-1-0'\n",
       "\\item 'AAACCTGAGCTAGTCT-1-0'\n",
       "\\item 'AAACCTGAGTGTTAGA-1-0'\n",
       "\\item 'AAACCTGCAACCGCCA-1-0'\n",
       "\\item 'AAACCTGCAAGGGTCA-1-0'\n",
       "\\item 'AAACCTGCAATCCGAT-1-0'\n",
       "\\end{enumerate*}\n"
      ],
      "text/markdown": [
       "1. 'AAACCTGAGAGCTATA-1-0'\n",
       "2. 'AAACCTGAGCTAGTCT-1-0'\n",
       "3. 'AAACCTGAGTGTTAGA-1-0'\n",
       "4. 'AAACCTGCAACCGCCA-1-0'\n",
       "5. 'AAACCTGCAAGGGTCA-1-0'\n",
       "6. 'AAACCTGCAATCCGAT-1-0'\n",
       "\n",
       "\n"
      ],
      "text/plain": [
       "[1] \"AAACCTGAGAGCTATA-1-0\" \"AAACCTGAGCTAGTCT-1-0\" \"AAACCTGAGTGTTAGA-1-0\"\n",
       "[4] \"AAACCTGCAACCGCCA-1-0\" \"AAACCTGCAAGGGTCA-1-0\" \"AAACCTGCAATCCGAT-1-0\""
      ]
     },
     "metadata": {},
     "output_type": "display_data"
    },
    {
     "data": {
      "text/html": [
       "<ol class=list-inline>\n",
       "\t<li>'ENSG00000243485'</li>\n",
       "\t<li>'ENSG00000237613'</li>\n",
       "\t<li>'ENSG00000186092'</li>\n",
       "\t<li>'ENSG00000238009'</li>\n",
       "\t<li>'ENSG00000239945'</li>\n",
       "\t<li>'ENSG00000237683'</li>\n",
       "</ol>\n"
      ],
      "text/latex": [
       "\\begin{enumerate*}\n",
       "\\item 'ENSG00000243485'\n",
       "\\item 'ENSG00000237613'\n",
       "\\item 'ENSG00000186092'\n",
       "\\item 'ENSG00000238009'\n",
       "\\item 'ENSG00000239945'\n",
       "\\item 'ENSG00000237683'\n",
       "\\end{enumerate*}\n"
      ],
      "text/markdown": [
       "1. 'ENSG00000243485'\n",
       "2. 'ENSG00000237613'\n",
       "3. 'ENSG00000186092'\n",
       "4. 'ENSG00000238009'\n",
       "5. 'ENSG00000239945'\n",
       "6. 'ENSG00000237683'\n",
       "\n",
       "\n"
      ],
      "text/plain": [
       "[1] \"ENSG00000243485\" \"ENSG00000237613\" \"ENSG00000186092\" \"ENSG00000238009\"\n",
       "[5] \"ENSG00000239945\" \"ENSG00000237683\""
      ]
     },
     "metadata": {},
     "output_type": "display_data"
    }
   ],
   "source": [
    "head(ind)\n",
    "head(var)"
   ]
  },
  {
   "cell_type": "code",
   "execution_count": 66,
   "metadata": {},
   "outputs": [],
   "source": [
    "X = h5read(file = filename, \"X\")\n",
    "X_data = as.integer(X$data)\n",
    "X_indptr = as.integer(X$indptr)\n",
    "X_indices = as.integer(X$indices)\n",
    "rm(X)"
   ]
  },
  {
   "cell_type": "code",
   "execution_count": 67,
   "metadata": {},
   "outputs": [],
   "source": [
    "sMat = sparseMatrix(\n",
    "i = X_indices,\n",
    "p = X_indptr,\n",
    "x = X_data,\n",
    "dims = c(length(var), length(ind)),\n",
    "index1 = FALSE\n",
    ")\n",
    "rownames(sMat) <- as.character(var)\n",
    "colnames(sMat) <- as.character(ind)"
   ]
  },
  {
   "cell_type": "code",
   "execution_count": 68,
   "metadata": {},
   "outputs": [
    {
     "data": {
      "text/html": [],
      "text/latex": [],
      "text/markdown": [],
      "text/plain": [
       "character(0)"
      ]
     },
     "metadata": {},
     "output_type": "display_data"
    }
   ],
   "source": [
    "rownames(sMat)[grep(\"SOX\",rownames(sMat))]"
   ]
  },
  {
   "cell_type": "code",
   "execution_count": 69,
   "metadata": {},
   "outputs": [
    {
     "data": {
      "text/html": [
       "<ol class=list-inline>\n",
       "\t<li>'ENSG00000243485'</li>\n",
       "\t<li>'ENSG00000237613'</li>\n",
       "\t<li>'ENSG00000186092'</li>\n",
       "\t<li>'ENSG00000238009'</li>\n",
       "\t<li>'ENSG00000239945'</li>\n",
       "\t<li>'ENSG00000237683'</li>\n",
       "</ol>\n"
      ],
      "text/latex": [
       "\\begin{enumerate*}\n",
       "\\item 'ENSG00000243485'\n",
       "\\item 'ENSG00000237613'\n",
       "\\item 'ENSG00000186092'\n",
       "\\item 'ENSG00000238009'\n",
       "\\item 'ENSG00000239945'\n",
       "\\item 'ENSG00000237683'\n",
       "\\end{enumerate*}\n"
      ],
      "text/markdown": [
       "1. 'ENSG00000243485'\n",
       "2. 'ENSG00000237613'\n",
       "3. 'ENSG00000186092'\n",
       "4. 'ENSG00000238009'\n",
       "5. 'ENSG00000239945'\n",
       "6. 'ENSG00000237683'\n",
       "\n",
       "\n"
      ],
      "text/plain": [
       "[1] \"ENSG00000243485\" \"ENSG00000237613\" \"ENSG00000186092\" \"ENSG00000238009\"\n",
       "[5] \"ENSG00000239945\" \"ENSG00000237683\""
      ]
     },
     "metadata": {},
     "output_type": "display_data"
    }
   ],
   "source": [
    "head(rownames(sMat))"
   ]
  },
  {
   "cell_type": "code",
   "execution_count": 20,
   "metadata": {},
   "outputs": [],
   "source": [
    "# rownames(sMat) <- gene_anno_df$ensembl_gene_id"
   ]
  },
  {
   "cell_type": "code",
   "execution_count": 70,
   "metadata": {},
   "outputs": [],
   "source": [
    "cData_raw = h5read(file = filename, \"obs\")"
   ]
  },
  {
   "cell_type": "code",
   "execution_count": 71,
   "metadata": {},
   "outputs": [
    {
     "data": {
      "text/html": [
       "<ol class=list-inline>\n",
       "\t<li>'//X'</li>\n",
       "\t<li>'/X/data'</li>\n",
       "\t<li>'/X/indices'</li>\n",
       "\t<li>'/X/indptr'</li>\n",
       "\t<li>'//obs'</li>\n",
       "\t<li>'//obsm'</li>\n",
       "\t<li>'//uns'</li>\n",
       "\t<li>'/uns/batch_categories'</li>\n",
       "\t<li>'/uns/celltype_categories'</li>\n",
       "\t<li>'/uns/donor_id_categories'</li>\n",
       "\t<li>'/uns/pool_id_categories'</li>\n",
       "\t<li>'/uns/sample_id_categories'</li>\n",
       "\t<li>'/uns/time_point_categories'</li>\n",
       "\t<li>'/uns/treatment_categories'</li>\n",
       "\t<li>'//var'</li>\n",
       "</ol>\n"
      ],
      "text/latex": [
       "\\begin{enumerate*}\n",
       "\\item '//X'\n",
       "\\item '/X/data'\n",
       "\\item '/X/indices'\n",
       "\\item '/X/indptr'\n",
       "\\item '//obs'\n",
       "\\item '//obsm'\n",
       "\\item '//uns'\n",
       "\\item '/uns/batch\\_categories'\n",
       "\\item '/uns/celltype\\_categories'\n",
       "\\item '/uns/donor\\_id\\_categories'\n",
       "\\item '/uns/pool\\_id\\_categories'\n",
       "\\item '/uns/sample\\_id\\_categories'\n",
       "\\item '/uns/time\\_point\\_categories'\n",
       "\\item '/uns/treatment\\_categories'\n",
       "\\item '//var'\n",
       "\\end{enumerate*}\n"
      ],
      "text/markdown": [
       "1. '//X'\n",
       "2. '/X/data'\n",
       "3. '/X/indices'\n",
       "4. '/X/indptr'\n",
       "5. '//obs'\n",
       "6. '//obsm'\n",
       "7. '//uns'\n",
       "8. '/uns/batch_categories'\n",
       "9. '/uns/celltype_categories'\n",
       "10. '/uns/donor_id_categories'\n",
       "11. '/uns/pool_id_categories'\n",
       "12. '/uns/sample_id_categories'\n",
       "13. '/uns/time_point_categories'\n",
       "14. '/uns/treatment_categories'\n",
       "15. '//var'\n",
       "\n",
       "\n"
      ],
      "text/plain": [
       " [1] \"//X\"                        \"/X/data\"                   \n",
       " [3] \"/X/indices\"                 \"/X/indptr\"                 \n",
       " [5] \"//obs\"                      \"//obsm\"                    \n",
       " [7] \"//uns\"                      \"/uns/batch_categories\"     \n",
       " [9] \"/uns/celltype_categories\"   \"/uns/donor_id_categories\"  \n",
       "[11] \"/uns/pool_id_categories\"    \"/uns/sample_id_categories\" \n",
       "[13] \"/uns/time_point_categories\" \"/uns/treatment_categories\" \n",
       "[15] \"//var\"                     "
      ]
     },
     "metadata": {},
     "output_type": "display_data"
    }
   ],
   "source": [
    "# now the column data information\n",
    "colinfo_all = apply(cbind(h5ls(filename)$group,\n",
    "    h5ls(filename)$name)\n",
    "    ,1,paste0, collapse = \"/\")\n",
    "colinfo_all"
   ]
  },
  {
   "cell_type": "code",
   "execution_count": 72,
   "metadata": {},
   "outputs": [
    {
     "data": {
      "text/html": [
       "<ol class=list-inline>\n",
       "\t<li>'/uns/batch_categories'</li>\n",
       "\t<li>'/uns/celltype_categories'</li>\n",
       "\t<li>'/uns/donor_id_categories'</li>\n",
       "\t<li>'/uns/pool_id_categories'</li>\n",
       "\t<li>'/uns/sample_id_categories'</li>\n",
       "\t<li>'/uns/time_point_categories'</li>\n",
       "\t<li>'/uns/treatment_categories'</li>\n",
       "</ol>\n"
      ],
      "text/latex": [
       "\\begin{enumerate*}\n",
       "\\item '/uns/batch\\_categories'\n",
       "\\item '/uns/celltype\\_categories'\n",
       "\\item '/uns/donor\\_id\\_categories'\n",
       "\\item '/uns/pool\\_id\\_categories'\n",
       "\\item '/uns/sample\\_id\\_categories'\n",
       "\\item '/uns/time\\_point\\_categories'\n",
       "\\item '/uns/treatment\\_categories'\n",
       "\\end{enumerate*}\n"
      ],
      "text/markdown": [
       "1. '/uns/batch_categories'\n",
       "2. '/uns/celltype_categories'\n",
       "3. '/uns/donor_id_categories'\n",
       "4. '/uns/pool_id_categories'\n",
       "5. '/uns/sample_id_categories'\n",
       "6. '/uns/time_point_categories'\n",
       "7. '/uns/treatment_categories'\n",
       "\n",
       "\n"
      ],
      "text/plain": [
       "[1] \"/uns/batch_categories\"      \"/uns/celltype_categories\"  \n",
       "[3] \"/uns/donor_id_categories\"   \"/uns/pool_id_categories\"   \n",
       "[5] \"/uns/sample_id_categories\"  \"/uns/time_point_categories\"\n",
       "[7] \"/uns/treatment_categories\" "
      ]
     },
     "metadata": {},
     "output_type": "display_data"
    }
   ],
   "source": [
    "colinfo <- grep(\"categories\",colinfo_all, value = TRUE)\n",
    "colinfo"
   ]
  },
  {
   "cell_type": "code",
   "execution_count": 73,
   "metadata": {},
   "outputs": [
    {
     "name": "stdout",
     "output_type": "stream",
     "text": [
      "[1] \"/uns/batch_categories\"\n",
      "[1] \"/uns/celltype_categories\"\n",
      "[1] \"/uns/donor_id_categories\"\n",
      "[1] \"/uns/pool_id_categories\"\n",
      "[1] \"/uns/sample_id_categories\"\n",
      "[1] \"/uns/time_point_categories\"\n",
      "[1] \"/uns/treatment_categories\"\n"
     ]
    }
   ],
   "source": [
    "for (col in colinfo){\n",
    "    print(col)\n",
    "    cat = gsub(\"/uns/\",\"\",gsub(\"_categories\",\"\",col))\n",
    "    cats = h5read(file = filename, col)\n",
    "#     print(cats)\n",
    "    #print(head(cData_raw[[cat]]))\n",
    "    cData_raw[[cat]] = cats[cData_raw[[cat]]+1]\n",
    "}"
   ]
  },
  {
   "cell_type": "code",
   "execution_count": 74,
   "metadata": {},
   "outputs": [
    {
     "data": {
      "text/html": [
       "<table>\n",
       "<thead><tr><th scope=col>index</th><th scope=col>batch</th><th scope=col>donor_id</th><th scope=col>sample_id</th><th scope=col>cluster_id</th><th scope=col>time_point</th><th scope=col>pool_id</th><th scope=col>treatment</th><th scope=col>n_counts_all</th><th scope=col>celltype</th></tr></thead>\n",
       "<tbody>\n",
       "\t<tr><td>AAACCTGAGAGCTATA-1-0</td><td>0                   </td><td>HPSI0714i-iudw_1    </td><td>5245STDY7387187     </td><td>0                   </td><td>D30                 </td><td>pool1               </td><td>NONE                </td><td> 4370               </td><td>DA                  </td></tr>\n",
       "\t<tr><td>AAACCTGAGCTAGTCT-1-0</td><td>0                   </td><td>HPSI0114i-eipl_1    </td><td>5245STDY7387187     </td><td>3                   </td><td>D30                 </td><td>pool1               </td><td>NONE                </td><td>19176               </td><td>Epen1               </td></tr>\n",
       "\t<tr><td>AAACCTGAGTGTTAGA-1-0</td><td>0                   </td><td>HPSI0614i-liqa_1    </td><td>5245STDY7387187     </td><td>2                   </td><td>D30                 </td><td>pool1               </td><td>NONE                </td><td>11318               </td><td>Sert                </td></tr>\n",
       "\t<tr><td>AAACCTGCAACCGCCA-1-0</td><td>0                   </td><td>HPSI0115i-paim_1    </td><td>5245STDY7387187     </td><td>1                   </td><td>D30                 </td><td>pool1               </td><td>NONE                </td><td> 5091               </td><td>Astro               </td></tr>\n",
       "\t<tr><td>AAACCTGCAAGGGTCA-1-0</td><td>0                   </td><td>HPSI0114i-eipl_1    </td><td>5245STDY7387187     </td><td>1                   </td><td>D30                 </td><td>pool1               </td><td>NONE                </td><td> 8612               </td><td>Astro               </td></tr>\n",
       "\t<tr><td>AAACCTGCAATCCGAT-1-0</td><td>0                   </td><td>HPSI0115i-paim_1    </td><td>5245STDY7387187     </td><td>1                   </td><td>D30                 </td><td>pool1               </td><td>NONE                </td><td> 6807               </td><td>Astro               </td></tr>\n",
       "</tbody>\n",
       "</table>\n"
      ],
      "text/latex": [
       "\\begin{tabular}{r|llllllllll}\n",
       " index & batch & donor\\_id & sample\\_id & cluster\\_id & time\\_point & pool\\_id & treatment & n\\_counts\\_all & celltype\\\\\n",
       "\\hline\n",
       "\t AAACCTGAGAGCTATA-1-0 & 0                    & HPSI0714i-iudw\\_1   & 5245STDY7387187      & 0                    & D30                  & pool1                & NONE                 &  4370                & DA                  \\\\\n",
       "\t AAACCTGAGCTAGTCT-1-0 & 0                    & HPSI0114i-eipl\\_1   & 5245STDY7387187      & 3                    & D30                  & pool1                & NONE                 & 19176                & Epen1               \\\\\n",
       "\t AAACCTGAGTGTTAGA-1-0 & 0                    & HPSI0614i-liqa\\_1   & 5245STDY7387187      & 2                    & D30                  & pool1                & NONE                 & 11318                & Sert                \\\\\n",
       "\t AAACCTGCAACCGCCA-1-0 & 0                    & HPSI0115i-paim\\_1   & 5245STDY7387187      & 1                    & D30                  & pool1                & NONE                 &  5091                & Astro               \\\\\n",
       "\t AAACCTGCAAGGGTCA-1-0 & 0                    & HPSI0114i-eipl\\_1   & 5245STDY7387187      & 1                    & D30                  & pool1                & NONE                 &  8612                & Astro               \\\\\n",
       "\t AAACCTGCAATCCGAT-1-0 & 0                    & HPSI0115i-paim\\_1   & 5245STDY7387187      & 1                    & D30                  & pool1                & NONE                 &  6807                & Astro               \\\\\n",
       "\\end{tabular}\n"
      ],
      "text/markdown": [
       "\n",
       "| index | batch | donor_id | sample_id | cluster_id | time_point | pool_id | treatment | n_counts_all | celltype |\n",
       "|---|---|---|---|---|---|---|---|---|---|\n",
       "| AAACCTGAGAGCTATA-1-0 | 0                    | HPSI0714i-iudw_1     | 5245STDY7387187      | 0                    | D30                  | pool1                | NONE                 |  4370                | DA                   |\n",
       "| AAACCTGAGCTAGTCT-1-0 | 0                    | HPSI0114i-eipl_1     | 5245STDY7387187      | 3                    | D30                  | pool1                | NONE                 | 19176                | Epen1                |\n",
       "| AAACCTGAGTGTTAGA-1-0 | 0                    | HPSI0614i-liqa_1     | 5245STDY7387187      | 2                    | D30                  | pool1                | NONE                 | 11318                | Sert                 |\n",
       "| AAACCTGCAACCGCCA-1-0 | 0                    | HPSI0115i-paim_1     | 5245STDY7387187      | 1                    | D30                  | pool1                | NONE                 |  5091                | Astro                |\n",
       "| AAACCTGCAAGGGTCA-1-0 | 0                    | HPSI0114i-eipl_1     | 5245STDY7387187      | 1                    | D30                  | pool1                | NONE                 |  8612                | Astro                |\n",
       "| AAACCTGCAATCCGAT-1-0 | 0                    | HPSI0115i-paim_1     | 5245STDY7387187      | 1                    | D30                  | pool1                | NONE                 |  6807                | Astro                |\n",
       "\n"
      ],
      "text/plain": [
       "  index                batch donor_id         sample_id       cluster_id\n",
       "1 AAACCTGAGAGCTATA-1-0 0     HPSI0714i-iudw_1 5245STDY7387187 0         \n",
       "2 AAACCTGAGCTAGTCT-1-0 0     HPSI0114i-eipl_1 5245STDY7387187 3         \n",
       "3 AAACCTGAGTGTTAGA-1-0 0     HPSI0614i-liqa_1 5245STDY7387187 2         \n",
       "4 AAACCTGCAACCGCCA-1-0 0     HPSI0115i-paim_1 5245STDY7387187 1         \n",
       "5 AAACCTGCAAGGGTCA-1-0 0     HPSI0114i-eipl_1 5245STDY7387187 1         \n",
       "6 AAACCTGCAATCCGAT-1-0 0     HPSI0115i-paim_1 5245STDY7387187 1         \n",
       "  time_point pool_id treatment n_counts_all celltype\n",
       "1 D30        pool1   NONE       4370        DA      \n",
       "2 D30        pool1   NONE      19176        Epen1   \n",
       "3 D30        pool1   NONE      11318        Sert    \n",
       "4 D30        pool1   NONE       5091        Astro   \n",
       "5 D30        pool1   NONE       8612        Astro   \n",
       "6 D30        pool1   NONE       6807        Astro   "
      ]
     },
     "metadata": {},
     "output_type": "display_data"
    }
   ],
   "source": [
    "head(cData_raw)"
   ]
  },
  {
   "cell_type": "code",
   "execution_count": 75,
   "metadata": {},
   "outputs": [],
   "source": [
    "cData <- as.data.frame(cData_raw)"
   ]
  },
  {
   "cell_type": "code",
   "execution_count": 76,
   "metadata": {},
   "outputs": [
    {
     "data": {
      "text/plain": [
       "class: SingleCellExperiment \n",
       "dim: 32738 250923 \n",
       "metadata(0):\n",
       "assays(1): counts\n",
       "rownames(32738): ENSG00000243485 ENSG00000237613 ... ENSG00000215616\n",
       "  ENSG00000215611\n",
       "rowData names(0):\n",
       "colnames(250923): AAACCTGAGAGCTATA-1-0 AAACCTGAGCTAGTCT-1-0 ...\n",
       "  TTTGTCATCCCTTGTG-1-33 TTTGTCATCCGTAGTA-1-33\n",
       "colData names(10): index batch ... n_counts_all celltype\n",
       "reducedDimNames(0):\n",
       "spikeNames(0):\n",
       "altExpNames(0):"
      ]
     },
     "metadata": {},
     "output_type": "display_data"
    }
   ],
   "source": [
    "# build the sce object\n",
    "sce <- SingleCellExperiment(\n",
    "assays = list(counts = sMat),\n",
    "colData = cData)\n",
    "sce"
   ]
  },
  {
   "cell_type": "code",
   "execution_count": 77,
   "metadata": {},
   "outputs": [],
   "source": [
    "# sce_neurons = sce[,sce$celltype %in% c(\"DA\",\"Sert\") & sce$treatment == 'ROT']\n",
    "sce_neurons = sce[,sce$celltype %in% c(\"DA\",\"Sert\")]\n",
    "sce_neurons = sce_neurons[,sample(colnames(sce_neurons),10000)]"
   ]
  },
  {
   "cell_type": "code",
   "execution_count": 78,
   "metadata": {},
   "outputs": [
    {
     "data": {
      "text/plain": [
       "class: SingleCellExperiment \n",
       "dim: 32738 10000 \n",
       "metadata(0):\n",
       "assays(1): counts\n",
       "rownames(32738): ENSG00000243485 ENSG00000237613 ... ENSG00000215616\n",
       "  ENSG00000215611\n",
       "rowData names(0):\n",
       "colnames(10000): GTCGGGTCATGTCGAT-1-19 ACCAGTATCAAGAAGT-1-33 ...\n",
       "  GATTCAGCAGCATACT-1-19 TGTATTCCATCGATTG-1-1\n",
       "colData names(10): index batch ... n_counts_all celltype\n",
       "reducedDimNames(0):\n",
       "spikeNames(0):\n",
       "altExpNames(0):"
      ]
     },
     "metadata": {},
     "output_type": "display_data"
    }
   ],
   "source": [
    "sce_neurons"
   ]
  },
  {
   "cell_type": "code",
   "execution_count": 79,
   "metadata": {},
   "outputs": [],
   "source": [
    "saveRDS(sce_neurons,\"/hps/nobackup/stegle/users/acuomo/all_scripts/sc_neuroseq/sce_neurons_d30_subsample_10000cells.Rds\")\n",
    "# saveRDS(sce_neurons,\"/hps/nobackup/stegle/users/acuomo/all_scripts/sc_neuroseq/sce_neurons_d52_none_subsample_10000cells.Rds\")\n",
    "# saveRDS(sce_neurons,\"/hps/nobackup/stegle/users/acuomo/all_scripts/sc_neuroseq/sce_neurons_d52_rot_subsample_10000cells.Rds\")"
   ]
  },
  {
   "cell_type": "code",
   "execution_count": 80,
   "metadata": {},
   "outputs": [],
   "source": [
    "load(\"/hps/nobackup/stegle/users/acuomo/all_scripts/sc_neuroseq/neuMat/mean_markers.rda\")\n",
    "load(\"/hps/nobackup/stegle/users/acuomo/all_scripts/sc_neuroseq/neuMat/coefs.rda\")\n",
    "load(\"/hps/nobackup/stegle/users/acuomo/all_scripts/sc_neuroseq/neuMat/modules_info.rda\")\n",
    "load(\"/hps/nobackup/stegle/users/acuomo/all_scripts/sc_neuroseq/neuMat/sd_markers.rda\")"
   ]
  },
  {
   "cell_type": "code",
   "execution_count": 81,
   "metadata": {},
   "outputs": [],
   "source": [
    "dataStandardize <- function(fpkm, standardize=TRUE){\n",
    "    num.detected <- sum(rownames(fpkm) %in% names(mean_markers))\n",
    "    if(num.detected < length(mean_markers)/1.5){\n",
    "        stop(paste0(\"Too few marker genes. Only \", num.detected, \" marker genes are available while at least \", ceiling(length(mean_markers)/1.5), \" is required.\"))\n",
    "    }\n",
    "    if(standardize){\n",
    "        fpkm <- log10(fpkm + 1)\n",
    "    }\n",
    "    \n",
    "    fpkm.filled <- t(sapply(names(mean_markers), function(gene){\n",
    "        if(sum(rownames(fpkm)==gene)>0){\n",
    "            return(as.numeric(fpkm[gene,]))\n",
    "        } else{\n",
    "            return(rnorm(ncol(fpkm), mean_markers[gene], sd_markers[gene]))\n",
    "        }\n",
    "    }))\n",
    "    if(standardize){\n",
    "        fpkm.std <- apply(fpkm.filled, 2, function(e){ (e - mean_markers[rownames(fpkm.filled)]) / sd_markers[rownames(fpkm.filled)] })\n",
    "    } else{\n",
    "        fpkm.std <- fpkm.filled\n",
    "    }\n",
    "    colnames(fpkm.std) <- colnames(fpkm)\n",
    "    return(fpkm.std)\n",
    "}"
   ]
  },
  {
   "cell_type": "code",
   "execution_count": 82,
   "metadata": {},
   "outputs": [],
   "source": [
    "predictNMI <- function(fpkm, standardize = TRUE, returnFpkmStd = FALSE){\n",
    "    require(\"Matrix\")\n",
    "    fpkm <- dataStandardize(fpkm, standardize = standardize)\n",
    "    fpkm.std <- rbind(rep(1, ncol(fpkm)), fpkm)\n",
    "    pred <- t(fpkm.std) %*% coefs\n",
    "    pred <- exp(pred) / (exp(pred) + 1)\n",
    "    \n",
    "    pred.overall <- as.numeric(pred %*% as.matrix(modules_info$weight)) / sum(modules_info$weight)\n",
    "    pred.discriminable <- as.numeric(pred[,modules_info$discriminable] %*% as.matrix(modules_info$weight[modules_info$discriminable])) / sum(modules_info$weight[modules_info$discriminable])\n",
    "    pred.activity <- as.numeric(pred[,modules_info$discriminable & modules_info$matureHigh] %*% as.matrix(modules_info$weight[modules_info$discriminable & modules_info$matureHigh])) / sum(modules_info$weight[modules_info$discriminable & modules_info$matureHigh])\n",
    "    pred.integrated <- data.frame(overall = pred.overall, discriminable = pred.discriminable, activity = pred.activity)\n",
    "    rownames(pred.integrated) <- colnames(fpkm)\n",
    "    \n",
    "    if(returnFpkmStd){\n",
    "        res <- list(modularNMI = pred, overallNMI = pred.integrated, fpkmStd = fpkm.std)\n",
    "    } else{\n",
    "        res <- list(modularNMI = pred, overallNMI = pred.integrated)\n",
    "    }\n",
    "    return(res)\n",
    "}"
   ]
  },
  {
   "cell_type": "code",
   "execution_count": 83,
   "metadata": {
    "scrolled": true
   },
   "outputs": [],
   "source": [
    "nmi = predictNMI(counts(sce_neurons))"
   ]
  },
  {
   "cell_type": "code",
   "execution_count": 84,
   "metadata": {},
   "outputs": [
    {
     "name": "stdout",
     "output_type": "stream",
     "text": [
      "List of 2\n",
      " $ modularNMI:Formal class 'dgeMatrix' [package \"Matrix\"] with 4 slots\n",
      "  .. ..@ x       : num [1:1090000] 0.59 0.59 0.59 0.59 0.59 ...\n",
      "  .. ..@ Dim     : int [1:2] 10000 109\n",
      "  .. ..@ Dimnames:List of 2\n",
      "  .. .. ..$ : chr [1:10000] \"GTCGGGTCATGTCGAT-1-19\" \"ACCAGTATCAAGAAGT-1-33\" \"TGGCCAGGTCTCTTTA-1-15\" \"CTCACACCAGATAATG-1-26\" ...\n",
      "  .. .. ..$ : NULL\n",
      "  .. ..@ factors : list()\n",
      " $ overallNMI:'data.frame':\t10000 obs. of  3 variables:\n",
      "  ..$ overall      : num [1:10000] 0.473 0.482 0.484 0.482 0.493 ...\n",
      "  ..$ discriminable: num [1:10000] 0.444 0.456 0.469 0.433 0.476 ...\n",
      "  ..$ activity     : num [1:10000] 0.307 0.355 0.3 0.291 0.311 ...\n"
     ]
    }
   ],
   "source": [
    "str(nmi)"
   ]
  },
  {
   "cell_type": "code",
   "execution_count": 85,
   "metadata": {},
   "outputs": [],
   "source": [
    "nmi$overallNMI$celltype = sce_neurons$celltype\n",
    "nmi$overallNMI$treatment = sce_neurons$treatment\n",
    "# nmi$overallNMI$time_point = sce_neurons$time_point"
   ]
  },
  {
   "cell_type": "code",
   "execution_count": 86,
   "metadata": {},
   "outputs": [
    {
     "data": {
      "text/html": [
       "<table>\n",
       "<thead><tr><th></th><th scope=col>overall</th><th scope=col>discriminable</th><th scope=col>activity</th><th scope=col>celltype</th><th scope=col>treatment</th></tr></thead>\n",
       "<tbody>\n",
       "\t<tr><th scope=row>GTCGGGTCATGTCGAT-1-19</th><td>0.4728026</td><td>0.4439646</td><td>0.3068475</td><td>Sert     </td><td>NONE     </td></tr>\n",
       "\t<tr><th scope=row>ACCAGTATCAAGAAGT-1-33</th><td>0.4822061</td><td>0.4555255</td><td>0.3546429</td><td>DA       </td><td>NONE     </td></tr>\n",
       "\t<tr><th scope=row>TGGCCAGGTCTCTTTA-1-15</th><td>0.4841568</td><td>0.4690050</td><td>0.3002614</td><td>Sert     </td><td>NONE     </td></tr>\n",
       "\t<tr><th scope=row>CTCACACCAGATAATG-1-26</th><td>0.4822049</td><td>0.4329310</td><td>0.2910879</td><td>Sert     </td><td>NONE     </td></tr>\n",
       "\t<tr><th scope=row>CCCTCCTGTCAAGCGA-1-6</th><td>0.4931809</td><td>0.4764145</td><td>0.3114766</td><td>Sert     </td><td>NONE     </td></tr>\n",
       "\t<tr><th scope=row>CGATGGCAGTGGTAGC-1-20</th><td>0.4893730</td><td>0.4609344</td><td>0.3057609</td><td>Sert     </td><td>NONE     </td></tr>\n",
       "</tbody>\n",
       "</table>\n"
      ],
      "text/latex": [
       "\\begin{tabular}{r|lllll}\n",
       "  & overall & discriminable & activity & celltype & treatment\\\\\n",
       "\\hline\n",
       "\tGTCGGGTCATGTCGAT-1-19 & 0.4728026 & 0.4439646 & 0.3068475 & Sert      & NONE     \\\\\n",
       "\tACCAGTATCAAGAAGT-1-33 & 0.4822061 & 0.4555255 & 0.3546429 & DA        & NONE     \\\\\n",
       "\tTGGCCAGGTCTCTTTA-1-15 & 0.4841568 & 0.4690050 & 0.3002614 & Sert      & NONE     \\\\\n",
       "\tCTCACACCAGATAATG-1-26 & 0.4822049 & 0.4329310 & 0.2910879 & Sert      & NONE     \\\\\n",
       "\tCCCTCCTGTCAAGCGA-1-6 & 0.4931809 & 0.4764145 & 0.3114766 & Sert      & NONE     \\\\\n",
       "\tCGATGGCAGTGGTAGC-1-20 & 0.4893730 & 0.4609344 & 0.3057609 & Sert      & NONE     \\\\\n",
       "\\end{tabular}\n"
      ],
      "text/markdown": [
       "\n",
       "| <!--/--> | overall | discriminable | activity | celltype | treatment |\n",
       "|---|---|---|---|---|---|\n",
       "| GTCGGGTCATGTCGAT-1-19 | 0.4728026 | 0.4439646 | 0.3068475 | Sert      | NONE      |\n",
       "| ACCAGTATCAAGAAGT-1-33 | 0.4822061 | 0.4555255 | 0.3546429 | DA        | NONE      |\n",
       "| TGGCCAGGTCTCTTTA-1-15 | 0.4841568 | 0.4690050 | 0.3002614 | Sert      | NONE      |\n",
       "| CTCACACCAGATAATG-1-26 | 0.4822049 | 0.4329310 | 0.2910879 | Sert      | NONE      |\n",
       "| CCCTCCTGTCAAGCGA-1-6 | 0.4931809 | 0.4764145 | 0.3114766 | Sert      | NONE      |\n",
       "| CGATGGCAGTGGTAGC-1-20 | 0.4893730 | 0.4609344 | 0.3057609 | Sert      | NONE      |\n",
       "\n"
      ],
      "text/plain": [
       "                      overall   discriminable activity  celltype treatment\n",
       "GTCGGGTCATGTCGAT-1-19 0.4728026 0.4439646     0.3068475 Sert     NONE     \n",
       "ACCAGTATCAAGAAGT-1-33 0.4822061 0.4555255     0.3546429 DA       NONE     \n",
       "TGGCCAGGTCTCTTTA-1-15 0.4841568 0.4690050     0.3002614 Sert     NONE     \n",
       "CTCACACCAGATAATG-1-26 0.4822049 0.4329310     0.2910879 Sert     NONE     \n",
       "CCCTCCTGTCAAGCGA-1-6  0.4931809 0.4764145     0.3114766 Sert     NONE     \n",
       "CGATGGCAGTGGTAGC-1-20 0.4893730 0.4609344     0.3057609 Sert     NONE     "
      ]
     },
     "metadata": {},
     "output_type": "display_data"
    }
   ],
   "source": [
    "head(nmi$overallNMI)"
   ]
  },
  {
   "cell_type": "code",
   "execution_count": 59,
   "metadata": {},
   "outputs": [],
   "source": [
    "# nmi_d52_rot = nmi\n",
    "# saveRDS(nmi_d52_rot, \"/hps/nobackup/stegle/users/acuomo/all_scripts/sc_neuroseq/neuMat/nmi_neurons_day52_rot.Rds\")"
   ]
  },
  {
   "cell_type": "code",
   "execution_count": 45,
   "metadata": {},
   "outputs": [],
   "source": [
    "# nmi_d52 = nmi\n",
    "# saveRDS(nmi_d52, \"/hps/nobackup/stegle/users/acuomo/all_scripts/sc_neuroseq/neuMat/nmi_neurons_day52_none.Rds\")"
   ]
  },
  {
   "cell_type": "code",
   "execution_count": 87,
   "metadata": {},
   "outputs": [],
   "source": [
    "nmi_d30 = nmi\n",
    "saveRDS(nmi_d30, \"/hps/nobackup/stegle/users/acuomo/all_scripts/sc_neuroseq/neuMat/nmi_neurons_day30.Rds\")"
   ]
  },
  {
   "cell_type": "code",
   "execution_count": null,
   "metadata": {},
   "outputs": [],
   "source": []
  }
 ],
 "metadata": {
  "kernelspec": {
   "display_name": "R",
   "language": "R",
   "name": "ir"
  },
  "language_info": {
   "codemirror_mode": "r",
   "file_extension": ".r",
   "mimetype": "text/x-r-source",
   "name": "R",
   "pygments_lexer": "r",
   "version": "3.6.1"
  }
 },
 "nbformat": 4,
 "nbformat_minor": 4
}
