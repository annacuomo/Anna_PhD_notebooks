{
 "cells": [
  {
   "cell_type": "code",
   "execution_count": 22,
   "metadata": {},
   "outputs": [],
   "source": [
    "library(dplyr)\n",
    "library(ggplot2)"
   ]
  },
  {
   "cell_type": "code",
   "execution_count": 1,
   "metadata": {},
   "outputs": [],
   "source": [
    "d52 = readRDS(\"/hps/nobackup/stegle/users/acuomo/all_scripts/sc_neuroseq/sce_neurons_d52_none_subsample_10000cells.Rds\")\n",
    "rot = readRDS(\"/hps/nobackup/stegle/users/acuomo/all_scripts/sc_neuroseq/sce_neurons_d52_rot_subsample_10000cells.Rds\")"
   ]
  },
  {
   "cell_type": "code",
   "execution_count": 3,
   "metadata": {},
   "outputs": [
    {
     "data": {
      "text/plain": [
       "class: SingleCellExperiment \n",
       "dim: 32738 10000 \n",
       "metadata(0):\n",
       "assays(1): counts\n",
       "rownames(32738): ENSG00000243485 ENSG00000237613 ... ENSG00000215616\n",
       "  ENSG00000215611\n",
       "rowData names(0):\n",
       "colnames(10000): CTTAACTAGACTAAGT-1-20 CCGTACTTCAGGCAAG-1-34 ...\n",
       "  ACGGCCAAGAGACTTA-1-48 TAGTTGGTCAGCAACT-1-64\n",
       "colData names(21): index batch ... n_counts_all celltype\n",
       "reducedDimNames(0):\n",
       "spikeNames(0):\n",
       "altExpNames(0):"
      ]
     },
     "metadata": {},
     "output_type": "display_data"
    }
   ],
   "source": [
    "d52"
   ]
  },
  {
   "cell_type": "code",
   "execution_count": 4,
   "metadata": {},
   "outputs": [
    {
     "data": {
      "text/plain": [
       "class: SingleCellExperiment \n",
       "dim: 32738 10000 \n",
       "metadata(0):\n",
       "assays(1): counts\n",
       "rownames(32738): ENSG00000243485 ENSG00000237613 ... ENSG00000215616\n",
       "  ENSG00000215611\n",
       "rowData names(0):\n",
       "colnames(10000): CCTACACAGTACGCCC-1-36 TAGAGCTCAAGCGAGT-1-58 ...\n",
       "  ACACCGGCAACACGCC-1-55 GACGGCTAGGGAACGG-1-5\n",
       "colData names(21): index batch ... n_counts_all celltype\n",
       "reducedDimNames(0):\n",
       "spikeNames(0):\n",
       "altExpNames(0):"
      ]
     },
     "metadata": {},
     "output_type": "display_data"
    }
   ],
   "source": [
    "rot"
   ]
  },
  {
   "cell_type": "code",
   "execution_count": 9,
   "metadata": {},
   "outputs": [
    {
     "data": {
      "text/html": [
       "182"
      ],
      "text/latex": [
       "182"
      ],
      "text/markdown": [
       "182"
      ],
      "text/plain": [
       "[1] 182"
      ]
     },
     "metadata": {},
     "output_type": "display_data"
    },
    {
     "data": {
      "text/html": [
       "183"
      ],
      "text/latex": [
       "183"
      ],
      "text/markdown": [
       "183"
      ],
      "text/plain": [
       "[1] 183"
      ]
     },
     "metadata": {},
     "output_type": "display_data"
    },
    {
     "data": {
      "text/html": [
       "177"
      ],
      "text/latex": [
       "177"
      ],
      "text/markdown": [
       "177"
      ],
      "text/plain": [
       "[1] 177"
      ]
     },
     "metadata": {},
     "output_type": "display_data"
    }
   ],
   "source": [
    "donors1 = unique(d52$donor_id)\n",
    "donors2 = unique(rot$donor_id)\n",
    "length(donors1)\n",
    "length(donors2)\n",
    "common_donors = donors1[donors1 %in% donors2]\n",
    "length(common_donors)"
   ]
  },
  {
   "cell_type": "code",
   "execution_count": 37,
   "metadata": {},
   "outputs": [
    {
     "data": {
      "text/html": [
       "9991"
      ],
      "text/latex": [
       "9991"
      ],
      "text/markdown": [
       "9991"
      ],
      "text/plain": [
       "[1] 9991"
      ]
     },
     "metadata": {},
     "output_type": "display_data"
    },
    {
     "data": {
      "text/html": [
       "<table>\n",
       "<thead><tr><th scope=col>cell</th><th scope=col>donor_id</th><th scope=col>condition</th></tr></thead>\n",
       "<tbody>\n",
       "\t<tr><td>CTTAACTAGACTAAGT-1-20</td><td>HPSI0115i-paim_1     </td><td>D52                  </td></tr>\n",
       "\t<tr><td>CCGTACTTCAGGCAAG-1-34</td><td>HPSI0514i-rutc_2     </td><td>D52                  </td></tr>\n",
       "</tbody>\n",
       "</table>\n"
      ],
      "text/latex": [
       "\\begin{tabular}{r|lll}\n",
       " cell & donor\\_id & condition\\\\\n",
       "\\hline\n",
       "\t CTTAACTAGACTAAGT-1-20 & HPSI0115i-paim\\_1    & D52                  \\\\\n",
       "\t CCGTACTTCAGGCAAG-1-34 & HPSI0514i-rutc\\_2    & D52                  \\\\\n",
       "\\end{tabular}\n"
      ],
      "text/markdown": [
       "\n",
       "| cell | donor_id | condition |\n",
       "|---|---|---|\n",
       "| CTTAACTAGACTAAGT-1-20 | HPSI0115i-paim_1      | D52                   |\n",
       "| CCGTACTTCAGGCAAG-1-34 | HPSI0514i-rutc_2      | D52                   |\n",
       "\n"
      ],
      "text/plain": [
       "  cell                  donor_id         condition\n",
       "1 CTTAACTAGACTAAGT-1-20 HPSI0115i-paim_1 D52      \n",
       "2 CCGTACTTCAGGCAAG-1-34 HPSI0514i-rutc_2 D52      "
      ]
     },
     "metadata": {},
     "output_type": "display_data"
    }
   ],
   "source": [
    "df1 = data.frame(cell = colnames(d52[,d52$donor_id %in% common_donors]),\n",
    "                donor_id = d52[,d52$donor_id %in% common_donors]$donor_id,\n",
    "                condition = \"D52\")\n",
    "nrow(df1)\n",
    "head(df1,2)"
   ]
  },
  {
   "cell_type": "code",
   "execution_count": 38,
   "metadata": {},
   "outputs": [
    {
     "data": {
      "text/html": [
       "9989"
      ],
      "text/latex": [
       "9989"
      ],
      "text/markdown": [
       "9989"
      ],
      "text/plain": [
       "[1] 9989"
      ]
     },
     "metadata": {},
     "output_type": "display_data"
    },
    {
     "data": {
      "text/html": [
       "<table>\n",
       "<thead><tr><th scope=col>cell</th><th scope=col>donor_id</th><th scope=col>condition</th></tr></thead>\n",
       "<tbody>\n",
       "\t<tr><td>CCTACACAGTACGCCC-1-36</td><td>HPSI0614i-wihj_4     </td><td>D52_ROT              </td></tr>\n",
       "\t<tr><td>TAGAGCTCAAGCGAGT-1-58</td><td>HPSI1113i-hayt_3     </td><td>D52_ROT              </td></tr>\n",
       "</tbody>\n",
       "</table>\n"
      ],
      "text/latex": [
       "\\begin{tabular}{r|lll}\n",
       " cell & donor\\_id & condition\\\\\n",
       "\\hline\n",
       "\t CCTACACAGTACGCCC-1-36 & HPSI0614i-wihj\\_4    & D52\\_ROT            \\\\\n",
       "\t TAGAGCTCAAGCGAGT-1-58 & HPSI1113i-hayt\\_3    & D52\\_ROT            \\\\\n",
       "\\end{tabular}\n"
      ],
      "text/markdown": [
       "\n",
       "| cell | donor_id | condition |\n",
       "|---|---|---|\n",
       "| CCTACACAGTACGCCC-1-36 | HPSI0614i-wihj_4      | D52_ROT               |\n",
       "| TAGAGCTCAAGCGAGT-1-58 | HPSI1113i-hayt_3      | D52_ROT               |\n",
       "\n"
      ],
      "text/plain": [
       "  cell                  donor_id         condition\n",
       "1 CCTACACAGTACGCCC-1-36 HPSI0614i-wihj_4 D52_ROT  \n",
       "2 TAGAGCTCAAGCGAGT-1-58 HPSI1113i-hayt_3 D52_ROT  "
      ]
     },
     "metadata": {},
     "output_type": "display_data"
    }
   ],
   "source": [
    "df2 = data.frame(cell = colnames(rot[,rot$donor_id %in% common_donors]),\n",
    "                donor_id = rot[,rot$donor_id %in% common_donors]$donor_id,\n",
    "                condition = \"D52_ROT\")\n",
    "nrow(df2)\n",
    "head(df2,2)"
   ]
  },
  {
   "cell_type": "code",
   "execution_count": 39,
   "metadata": {},
   "outputs": [],
   "source": [
    "df = rbind(df1,df2)"
   ]
  },
  {
   "cell_type": "code",
   "execution_count": 40,
   "metadata": {},
   "outputs": [],
   "source": [
    "### day52 none\n",
    "nmi_1 = readRDS(\"/hps/nobackup/stegle/users/acuomo/all_scripts/sc_neuroseq/neuMat/nmi_neurons_day52_none.Rds\")"
   ]
  },
  {
   "cell_type": "code",
   "execution_count": 41,
   "metadata": {},
   "outputs": [
    {
     "data": {
      "text/html": [
       "<table>\n",
       "<thead><tr><th></th><th scope=col>overall</th><th scope=col>discriminable</th><th scope=col>activity</th><th scope=col>celltype</th><th scope=col>treatment</th><th scope=col>cell</th><th scope=col>time_point</th><th scope=col>condition</th></tr></thead>\n",
       "<tbody>\n",
       "\t<tr><th scope=row>CTTAACTAGACTAAGT-1-20</th><td>0.5050777            </td><td>0.5002210            </td><td>0.3598966            </td><td>Sert                 </td><td>NONE                 </td><td>CTTAACTAGACTAAGT-1-20</td><td>D52                  </td><td>D52                  </td></tr>\n",
       "\t<tr><th scope=row>CCGTACTTCAGGCAAG-1-34</th><td>0.4982950            </td><td>0.4793651            </td><td>0.3773424            </td><td>DA                   </td><td>NONE                 </td><td>CCGTACTTCAGGCAAG-1-34</td><td>D52                  </td><td>D52                  </td></tr>\n",
       "</tbody>\n",
       "</table>\n"
      ],
      "text/latex": [
       "\\begin{tabular}{r|llllllll}\n",
       "  & overall & discriminable & activity & celltype & treatment & cell & time\\_point & condition\\\\\n",
       "\\hline\n",
       "\tCTTAACTAGACTAAGT-1-20 & 0.5050777             & 0.5002210             & 0.3598966             & Sert                  & NONE                  & CTTAACTAGACTAAGT-1-20 & D52                   & D52                  \\\\\n",
       "\tCCGTACTTCAGGCAAG-1-34 & 0.4982950             & 0.4793651             & 0.3773424             & DA                    & NONE                  & CCGTACTTCAGGCAAG-1-34 & D52                   & D52                  \\\\\n",
       "\\end{tabular}\n"
      ],
      "text/markdown": [
       "\n",
       "| <!--/--> | overall | discriminable | activity | celltype | treatment | cell | time_point | condition |\n",
       "|---|---|---|---|---|---|---|---|---|\n",
       "| CTTAACTAGACTAAGT-1-20 | 0.5050777             | 0.5002210             | 0.3598966             | Sert                  | NONE                  | CTTAACTAGACTAAGT-1-20 | D52                   | D52                   |\n",
       "| CCGTACTTCAGGCAAG-1-34 | 0.4982950             | 0.4793651             | 0.3773424             | DA                    | NONE                  | CCGTACTTCAGGCAAG-1-34 | D52                   | D52                   |\n",
       "\n"
      ],
      "text/plain": [
       "                      overall   discriminable activity  celltype treatment\n",
       "CTTAACTAGACTAAGT-1-20 0.5050777 0.5002210     0.3598966 Sert     NONE     \n",
       "CCGTACTTCAGGCAAG-1-34 0.4982950 0.4793651     0.3773424 DA       NONE     \n",
       "                      cell                  time_point condition\n",
       "CTTAACTAGACTAAGT-1-20 CTTAACTAGACTAAGT-1-20 D52        D52      \n",
       "CCGTACTTCAGGCAAG-1-34 CCGTACTTCAGGCAAG-1-34 D52        D52      "
      ]
     },
     "metadata": {},
     "output_type": "display_data"
    }
   ],
   "source": [
    "df_nmi_1 = nmi_1$overallNMI\n",
    "df_nmi_1$cell = rownames(df_nmi_1)\n",
    "df_nmi_1$time_point = \"D52\"\n",
    "df_nmi_1$condition = \"D52\"\n",
    "head(df_nmi_1,2)"
   ]
  },
  {
   "cell_type": "code",
   "execution_count": 42,
   "metadata": {},
   "outputs": [],
   "source": [
    "### day52 rot\n",
    "nmi_2 = readRDS(\"/hps/nobackup/stegle/users/acuomo/all_scripts/sc_neuroseq/neuMat/nmi_neurons_day52_rot.Rds\")"
   ]
  },
  {
   "cell_type": "code",
   "execution_count": 43,
   "metadata": {},
   "outputs": [
    {
     "data": {
      "text/html": [
       "<table>\n",
       "<thead><tr><th></th><th scope=col>overall</th><th scope=col>discriminable</th><th scope=col>activity</th><th scope=col>celltype</th><th scope=col>treatment</th><th scope=col>time_point</th><th scope=col>cell</th><th scope=col>condition</th></tr></thead>\n",
       "<tbody>\n",
       "\t<tr><th scope=row>CCTACACAGTACGCCC-1-36</th><td>0.5001735            </td><td>0.4829309            </td><td>0.3858580            </td><td>DA                   </td><td>ROT                  </td><td>D52                  </td><td>CCTACACAGTACGCCC-1-36</td><td>D52_ROT              </td></tr>\n",
       "\t<tr><th scope=row>TAGAGCTCAAGCGAGT-1-58</th><td>0.4979538            </td><td>0.4954870            </td><td>0.3900825            </td><td>DA                   </td><td>ROT                  </td><td>D52                  </td><td>TAGAGCTCAAGCGAGT-1-58</td><td>D52_ROT              </td></tr>\n",
       "</tbody>\n",
       "</table>\n"
      ],
      "text/latex": [
       "\\begin{tabular}{r|llllllll}\n",
       "  & overall & discriminable & activity & celltype & treatment & time\\_point & cell & condition\\\\\n",
       "\\hline\n",
       "\tCCTACACAGTACGCCC-1-36 & 0.5001735             & 0.4829309             & 0.3858580             & DA                    & ROT                   & D52                   & CCTACACAGTACGCCC-1-36 & D52\\_ROT            \\\\\n",
       "\tTAGAGCTCAAGCGAGT-1-58 & 0.4979538             & 0.4954870             & 0.3900825             & DA                    & ROT                   & D52                   & TAGAGCTCAAGCGAGT-1-58 & D52\\_ROT            \\\\\n",
       "\\end{tabular}\n"
      ],
      "text/markdown": [
       "\n",
       "| <!--/--> | overall | discriminable | activity | celltype | treatment | time_point | cell | condition |\n",
       "|---|---|---|---|---|---|---|---|---|\n",
       "| CCTACACAGTACGCCC-1-36 | 0.5001735             | 0.4829309             | 0.3858580             | DA                    | ROT                   | D52                   | CCTACACAGTACGCCC-1-36 | D52_ROT               |\n",
       "| TAGAGCTCAAGCGAGT-1-58 | 0.4979538             | 0.4954870             | 0.3900825             | DA                    | ROT                   | D52                   | TAGAGCTCAAGCGAGT-1-58 | D52_ROT               |\n",
       "\n"
      ],
      "text/plain": [
       "                      overall   discriminable activity  celltype treatment\n",
       "CCTACACAGTACGCCC-1-36 0.5001735 0.4829309     0.3858580 DA       ROT      \n",
       "TAGAGCTCAAGCGAGT-1-58 0.4979538 0.4954870     0.3900825 DA       ROT      \n",
       "                      time_point cell                  condition\n",
       "CCTACACAGTACGCCC-1-36 D52        CCTACACAGTACGCCC-1-36 D52_ROT  \n",
       "TAGAGCTCAAGCGAGT-1-58 D52        TAGAGCTCAAGCGAGT-1-58 D52_ROT  "
      ]
     },
     "metadata": {},
     "output_type": "display_data"
    }
   ],
   "source": [
    "df_nmi_2 = nmi_2$overallNMI\n",
    "df_nmi_2$cell = rownames(df_nmi_2)\n",
    "df_nmi_2$condition = \"D52_ROT\"\n",
    "head(df_nmi_2,2)"
   ]
  },
  {
   "cell_type": "code",
   "execution_count": 44,
   "metadata": {},
   "outputs": [
    {
     "data": {
      "text/html": [
       "20000"
      ],
      "text/latex": [
       "20000"
      ],
      "text/markdown": [
       "20000"
      ],
      "text/plain": [
       "[1] 20000"
      ]
     },
     "metadata": {},
     "output_type": "display_data"
    },
    {
     "data": {
      "text/html": [
       "<table>\n",
       "<thead><tr><th></th><th scope=col>overall</th><th scope=col>discriminable</th><th scope=col>activity</th><th scope=col>celltype</th><th scope=col>treatment</th><th scope=col>cell</th><th scope=col>time_point</th><th scope=col>condition</th></tr></thead>\n",
       "<tbody>\n",
       "\t<tr><th scope=row>CTTAACTAGACTAAGT-1-20</th><td>0.5050777            </td><td>0.5002210            </td><td>0.3598966            </td><td>Sert                 </td><td>NONE                 </td><td>CTTAACTAGACTAAGT-1-20</td><td>D52                  </td><td>D52                  </td></tr>\n",
       "\t<tr><th scope=row>CCGTACTTCAGGCAAG-1-34</th><td>0.4982950            </td><td>0.4793651            </td><td>0.3773424            </td><td>DA                   </td><td>NONE                 </td><td>CCGTACTTCAGGCAAG-1-34</td><td>D52                  </td><td>D52                  </td></tr>\n",
       "</tbody>\n",
       "</table>\n"
      ],
      "text/latex": [
       "\\begin{tabular}{r|llllllll}\n",
       "  & overall & discriminable & activity & celltype & treatment & cell & time\\_point & condition\\\\\n",
       "\\hline\n",
       "\tCTTAACTAGACTAAGT-1-20 & 0.5050777             & 0.5002210             & 0.3598966             & Sert                  & NONE                  & CTTAACTAGACTAAGT-1-20 & D52                   & D52                  \\\\\n",
       "\tCCGTACTTCAGGCAAG-1-34 & 0.4982950             & 0.4793651             & 0.3773424             & DA                    & NONE                  & CCGTACTTCAGGCAAG-1-34 & D52                   & D52                  \\\\\n",
       "\\end{tabular}\n"
      ],
      "text/markdown": [
       "\n",
       "| <!--/--> | overall | discriminable | activity | celltype | treatment | cell | time_point | condition |\n",
       "|---|---|---|---|---|---|---|---|---|\n",
       "| CTTAACTAGACTAAGT-1-20 | 0.5050777             | 0.5002210             | 0.3598966             | Sert                  | NONE                  | CTTAACTAGACTAAGT-1-20 | D52                   | D52                   |\n",
       "| CCGTACTTCAGGCAAG-1-34 | 0.4982950             | 0.4793651             | 0.3773424             | DA                    | NONE                  | CCGTACTTCAGGCAAG-1-34 | D52                   | D52                   |\n",
       "\n"
      ],
      "text/plain": [
       "                      overall   discriminable activity  celltype treatment\n",
       "CTTAACTAGACTAAGT-1-20 0.5050777 0.5002210     0.3598966 Sert     NONE     \n",
       "CCGTACTTCAGGCAAG-1-34 0.4982950 0.4793651     0.3773424 DA       NONE     \n",
       "                      cell                  time_point condition\n",
       "CTTAACTAGACTAAGT-1-20 CTTAACTAGACTAAGT-1-20 D52        D52      \n",
       "CCGTACTTCAGGCAAG-1-34 CCGTACTTCAGGCAAG-1-34 D52        D52      "
      ]
     },
     "metadata": {},
     "output_type": "display_data"
    }
   ],
   "source": [
    "df_nmi = rbind(df_nmi_1, df_nmi_2)\n",
    "nrow(df_nmi)\n",
    "head(df_nmi,2)"
   ]
  },
  {
   "cell_type": "code",
   "execution_count": 45,
   "metadata": {},
   "outputs": [
    {
     "name": "stderr",
     "output_type": "stream",
     "text": [
      "Joining, by = c(\"cell\", \"condition\")\n",
      "Warning message:\n",
      "“Column `cell` joining factor and character vector, coercing into character vector”Warning message:\n",
      "“Column `condition` joining factor and character vector, coercing into character vector”"
     ]
    },
    {
     "data": {
      "text/html": [
       "19980"
      ],
      "text/latex": [
       "19980"
      ],
      "text/markdown": [
       "19980"
      ],
      "text/plain": [
       "[1] 19980"
      ]
     },
     "metadata": {},
     "output_type": "display_data"
    },
    {
     "data": {
      "text/html": [
       "<table>\n",
       "<thead><tr><th scope=col>cell</th><th scope=col>donor_id</th><th scope=col>condition</th><th scope=col>overall</th><th scope=col>discriminable</th><th scope=col>activity</th><th scope=col>celltype</th><th scope=col>treatment</th><th scope=col>time_point</th></tr></thead>\n",
       "<tbody>\n",
       "\t<tr><td>CTTAACTAGACTAAGT-1-20</td><td>HPSI0115i-paim_1     </td><td>D52                  </td><td>0.5050777            </td><td>0.5002210            </td><td>0.3598966            </td><td>Sert                 </td><td>NONE                 </td><td>D52                  </td></tr>\n",
       "\t<tr><td>CCGTACTTCAGGCAAG-1-34</td><td>HPSI0514i-rutc_2     </td><td>D52                  </td><td>0.4982950            </td><td>0.4793651            </td><td>0.3773424            </td><td>DA                   </td><td>NONE                 </td><td>D52                  </td></tr>\n",
       "</tbody>\n",
       "</table>\n"
      ],
      "text/latex": [
       "\\begin{tabular}{r|lllllllll}\n",
       " cell & donor\\_id & condition & overall & discriminable & activity & celltype & treatment & time\\_point\\\\\n",
       "\\hline\n",
       "\t CTTAACTAGACTAAGT-1-20 & HPSI0115i-paim\\_1    & D52                   & 0.5050777             & 0.5002210             & 0.3598966             & Sert                  & NONE                  & D52                  \\\\\n",
       "\t CCGTACTTCAGGCAAG-1-34 & HPSI0514i-rutc\\_2    & D52                   & 0.4982950             & 0.4793651             & 0.3773424             & DA                    & NONE                  & D52                  \\\\\n",
       "\\end{tabular}\n"
      ],
      "text/markdown": [
       "\n",
       "| cell | donor_id | condition | overall | discriminable | activity | celltype | treatment | time_point |\n",
       "|---|---|---|---|---|---|---|---|---|\n",
       "| CTTAACTAGACTAAGT-1-20 | HPSI0115i-paim_1      | D52                   | 0.5050777             | 0.5002210             | 0.3598966             | Sert                  | NONE                  | D52                   |\n",
       "| CCGTACTTCAGGCAAG-1-34 | HPSI0514i-rutc_2      | D52                   | 0.4982950             | 0.4793651             | 0.3773424             | DA                    | NONE                  | D52                   |\n",
       "\n"
      ],
      "text/plain": [
       "  cell                  donor_id         condition overall   discriminable\n",
       "1 CTTAACTAGACTAAGT-1-20 HPSI0115i-paim_1 D52       0.5050777 0.5002210    \n",
       "2 CCGTACTTCAGGCAAG-1-34 HPSI0514i-rutc_2 D52       0.4982950 0.4793651    \n",
       "  activity  celltype treatment time_point\n",
       "1 0.3598966 Sert     NONE      D52       \n",
       "2 0.3773424 DA       NONE      D52       "
      ]
     },
     "metadata": {},
     "output_type": "display_data"
    }
   ],
   "source": [
    "df_to_plot = inner_join(df, df_nmi)\n",
    "nrow(df_to_plot)\n",
    "head(df_to_plot,2)"
   ]
  },
  {
   "cell_type": "code",
   "execution_count": 46,
   "metadata": {},
   "outputs": [
    {
     "data": {
      "text/html": [
       "<table>\n",
       "<thead><tr><th scope=col>donor_id</th><th scope=col>diff_efficiency</th></tr></thead>\n",
       "<tbody>\n",
       "\t<tr><td>HPSI0114i-bezi_3</td><td>0.58269720      </td></tr>\n",
       "\t<tr><td>HPSI0114i-eipl_1</td><td>0.01287835      </td></tr>\n",
       "\t<tr><td>HPSI0114i-fikt_3</td><td>0.40282686      </td></tr>\n",
       "\t<tr><td>HPSI0114i-kolf_2</td><td>0.47059133      </td></tr>\n",
       "\t<tr><td>HPSI0114i-lexy_2</td><td>0.72690535      </td></tr>\n",
       "\t<tr><td>HPSI0114i-posc_1</td><td>0.81349206      </td></tr>\n",
       "</tbody>\n",
       "</table>\n"
      ],
      "text/latex": [
       "\\begin{tabular}{r|ll}\n",
       " donor\\_id & diff\\_efficiency\\\\\n",
       "\\hline\n",
       "\t HPSI0114i-bezi\\_3 & 0.58269720        \\\\\n",
       "\t HPSI0114i-eipl\\_1 & 0.01287835        \\\\\n",
       "\t HPSI0114i-fikt\\_3 & 0.40282686        \\\\\n",
       "\t HPSI0114i-kolf\\_2 & 0.47059133        \\\\\n",
       "\t HPSI0114i-lexy\\_2 & 0.72690535        \\\\\n",
       "\t HPSI0114i-posc\\_1 & 0.81349206        \\\\\n",
       "\\end{tabular}\n"
      ],
      "text/markdown": [
       "\n",
       "| donor_id | diff_efficiency |\n",
       "|---|---|\n",
       "| HPSI0114i-bezi_3 | 0.58269720       |\n",
       "| HPSI0114i-eipl_1 | 0.01287835       |\n",
       "| HPSI0114i-fikt_3 | 0.40282686       |\n",
       "| HPSI0114i-kolf_2 | 0.47059133       |\n",
       "| HPSI0114i-lexy_2 | 0.72690535       |\n",
       "| HPSI0114i-posc_1 | 0.81349206       |\n",
       "\n"
      ],
      "text/plain": [
       "  donor_id         diff_efficiency\n",
       "1 HPSI0114i-bezi_3 0.58269720     \n",
       "2 HPSI0114i-eipl_1 0.01287835     \n",
       "3 HPSI0114i-fikt_3 0.40282686     \n",
       "4 HPSI0114i-kolf_2 0.47059133     \n",
       "5 HPSI0114i-lexy_2 0.72690535     \n",
       "6 HPSI0114i-posc_1 0.81349206     "
      ]
     },
     "metadata": {},
     "output_type": "display_data"
    }
   ],
   "source": [
    "file = '/hps/nobackup/stegle/users/acuomo/all_scripts/sc_neuroseq/diff_efficiency/diff_efficiency_by_cell_line.tsv'\n",
    "diff_df = read.csv(file, sep='\\t')\n",
    "head(diff_df)"
   ]
  },
  {
   "cell_type": "code",
   "execution_count": 47,
   "metadata": {},
   "outputs": [
    {
     "data": {
      "text/html": [
       "<ol class=list-inline>\n",
       "\t<li>'Sert'</li>\n",
       "\t<li>'DA'</li>\n",
       "</ol>\n"
      ],
      "text/latex": [
       "\\begin{enumerate*}\n",
       "\\item 'Sert'\n",
       "\\item 'DA'\n",
       "\\end{enumerate*}\n"
      ],
      "text/markdown": [
       "1. 'Sert'\n",
       "2. 'DA'\n",
       "\n",
       "\n"
      ],
      "text/plain": [
       "[1] \"Sert\" \"DA\"  "
      ]
     },
     "metadata": {},
     "output_type": "display_data"
    }
   ],
   "source": [
    "unique(df_to_plot$celltype)"
   ]
  },
  {
   "cell_type": "code",
   "execution_count": 50,
   "metadata": {},
   "outputs": [
    {
     "data": {
      "text/html": [
       "<table>\n",
       "<thead><tr><th scope=col>donor_id</th><th scope=col>avg_NMI</th></tr></thead>\n",
       "<tbody>\n",
       "\t<tr><td>HPSI0114i-bezi_3</td><td>0.4866563       </td></tr>\n",
       "\t<tr><td>HPSI0114i-eipl_1</td><td>0.4664943       </td></tr>\n",
       "\t<tr><td>HPSI0114i-fikt_3</td><td>0.4893149       </td></tr>\n",
       "\t<tr><td>HPSI0114i-kolf_2</td><td>0.4900797       </td></tr>\n",
       "\t<tr><td>HPSI0114i-lexy_2</td><td>0.4941875       </td></tr>\n",
       "\t<tr><td>HPSI0114i-posc_1</td><td>0.4819822       </td></tr>\n",
       "</tbody>\n",
       "</table>\n"
      ],
      "text/latex": [
       "\\begin{tabular}{r|ll}\n",
       " donor\\_id & avg\\_NMI\\\\\n",
       "\\hline\n",
       "\t HPSI0114i-bezi\\_3 & 0.4866563         \\\\\n",
       "\t HPSI0114i-eipl\\_1 & 0.4664943         \\\\\n",
       "\t HPSI0114i-fikt\\_3 & 0.4893149         \\\\\n",
       "\t HPSI0114i-kolf\\_2 & 0.4900797         \\\\\n",
       "\t HPSI0114i-lexy\\_2 & 0.4941875         \\\\\n",
       "\t HPSI0114i-posc\\_1 & 0.4819822         \\\\\n",
       "\\end{tabular}\n"
      ],
      "text/markdown": [
       "\n",
       "| donor_id | avg_NMI |\n",
       "|---|---|\n",
       "| HPSI0114i-bezi_3 | 0.4866563        |\n",
       "| HPSI0114i-eipl_1 | 0.4664943        |\n",
       "| HPSI0114i-fikt_3 | 0.4893149        |\n",
       "| HPSI0114i-kolf_2 | 0.4900797        |\n",
       "| HPSI0114i-lexy_2 | 0.4941875        |\n",
       "| HPSI0114i-posc_1 | 0.4819822        |\n",
       "\n"
      ],
      "text/plain": [
       "  donor_id         avg_NMI  \n",
       "1 HPSI0114i-bezi_3 0.4866563\n",
       "2 HPSI0114i-eipl_1 0.4664943\n",
       "3 HPSI0114i-fikt_3 0.4893149\n",
       "4 HPSI0114i-kolf_2 0.4900797\n",
       "5 HPSI0114i-lexy_2 0.4941875\n",
       "6 HPSI0114i-posc_1 0.4819822"
      ]
     },
     "metadata": {},
     "output_type": "display_data"
    }
   ],
   "source": [
    "nmi_df_lines = df_to_plot %>% group_by(donor_id) %>% summarise(avg_NMI = mean(discriminable))\n",
    "head(nmi_df_lines)"
   ]
  },
  {
   "cell_type": "code",
   "execution_count": 52,
   "metadata": {},
   "outputs": [
    {
     "name": "stderr",
     "output_type": "stream",
     "text": [
      "Joining, by = \"donor_id\"\n",
      "Warning message:\n",
      "“Column `donor_id` joining character vector and factor, coercing into character vector”"
     ]
    },
    {
     "data": {
      "text/html": [
       "<table>\n",
       "<thead><tr><th scope=col>donor_id</th><th scope=col>avg_NMI</th><th scope=col>diff_efficiency</th></tr></thead>\n",
       "<tbody>\n",
       "\t<tr><td>HPSI0114i-bezi_3</td><td>0.4866563       </td><td>0.58269720      </td></tr>\n",
       "\t<tr><td>HPSI0114i-eipl_1</td><td>0.4664943       </td><td>0.01287835      </td></tr>\n",
       "\t<tr><td>HPSI0114i-fikt_3</td><td>0.4893149       </td><td>0.40282686      </td></tr>\n",
       "\t<tr><td>HPSI0114i-kolf_2</td><td>0.4900797       </td><td>0.47059133      </td></tr>\n",
       "\t<tr><td>HPSI0114i-lexy_2</td><td>0.4941875       </td><td>0.72690535      </td></tr>\n",
       "\t<tr><td>HPSI0114i-posc_1</td><td>0.4819822       </td><td>0.81349206      </td></tr>\n",
       "</tbody>\n",
       "</table>\n"
      ],
      "text/latex": [
       "\\begin{tabular}{r|lll}\n",
       " donor\\_id & avg\\_NMI & diff\\_efficiency\\\\\n",
       "\\hline\n",
       "\t HPSI0114i-bezi\\_3 & 0.4866563          & 0.58269720        \\\\\n",
       "\t HPSI0114i-eipl\\_1 & 0.4664943          & 0.01287835        \\\\\n",
       "\t HPSI0114i-fikt\\_3 & 0.4893149          & 0.40282686        \\\\\n",
       "\t HPSI0114i-kolf\\_2 & 0.4900797          & 0.47059133        \\\\\n",
       "\t HPSI0114i-lexy\\_2 & 0.4941875          & 0.72690535        \\\\\n",
       "\t HPSI0114i-posc\\_1 & 0.4819822          & 0.81349206        \\\\\n",
       "\\end{tabular}\n"
      ],
      "text/markdown": [
       "\n",
       "| donor_id | avg_NMI | diff_efficiency |\n",
       "|---|---|---|\n",
       "| HPSI0114i-bezi_3 | 0.4866563        | 0.58269720       |\n",
       "| HPSI0114i-eipl_1 | 0.4664943        | 0.01287835       |\n",
       "| HPSI0114i-fikt_3 | 0.4893149        | 0.40282686       |\n",
       "| HPSI0114i-kolf_2 | 0.4900797        | 0.47059133       |\n",
       "| HPSI0114i-lexy_2 | 0.4941875        | 0.72690535       |\n",
       "| HPSI0114i-posc_1 | 0.4819822        | 0.81349206       |\n",
       "\n"
      ],
      "text/plain": [
       "  donor_id         avg_NMI   diff_efficiency\n",
       "1 HPSI0114i-bezi_3 0.4866563 0.58269720     \n",
       "2 HPSI0114i-eipl_1 0.4664943 0.01287835     \n",
       "3 HPSI0114i-fikt_3 0.4893149 0.40282686     \n",
       "4 HPSI0114i-kolf_2 0.4900797 0.47059133     \n",
       "5 HPSI0114i-lexy_2 0.4941875 0.72690535     \n",
       "6 HPSI0114i-posc_1 0.4819822 0.81349206     "
      ]
     },
     "metadata": {},
     "output_type": "display_data"
    }
   ],
   "source": [
    "df_scatterplot = inner_join(nmi_df_lines, diff_df)\n",
    "head(df_scatterplot)"
   ]
  },
  {
   "cell_type": "code",
   "execution_count": 54,
   "metadata": {},
   "outputs": [
    {
     "data": {
      "text/plain": [
       "\n",
       "\tPearson's product-moment correlation\n",
       "\n",
       "data:  df_scatterplot$diff_efficiency and df_scatterplot$avg_NMI\n",
       "t = 8.3337, df = 175, p-value = 2.219e-14\n",
       "alternative hypothesis: true correlation is not equal to 0\n",
       "95 percent confidence interval:\n",
       " 0.4184151 0.6309170\n",
       "sample estimates:\n",
       "      cor \n",
       "0.5330196 \n"
      ]
     },
     "metadata": {},
     "output_type": "display_data"
    }
   ],
   "source": [
    "cor.test(df_scatterplot$diff_efficiency, df_scatterplot$avg_NMI)"
   ]
  },
  {
   "cell_type": "code",
   "execution_count": 58,
   "metadata": {},
   "outputs": [
    {
     "data": {
      "text/html": [
       "0.533019574822086"
      ],
      "text/latex": [
       "0.533019574822086"
      ],
      "text/markdown": [
       "0.533019574822086"
      ],
      "text/plain": [
       "[1] 0.5330196"
      ]
     },
     "metadata": {},
     "output_type": "display_data"
    },
    {
     "data": {
      "image/png": "[encoded data removed]",
      "text/plain": [
       "plot without title"
      ]
     },
     "metadata": {},
     "output_type": "display_data"
    }
   ],
   "source": [
    "cor(df_scatterplot$diff_efficiency, df_scatterplot$avg_NMI)\n",
    "ggplot(df_scatterplot, aes(x = diff_efficiency, y = avg_NMI)) + geom_point() + \n",
    "    stat_smooth(method = \"lm\", se = F,col = \"black\")"
   ]
  },
  {
   "cell_type": "code",
   "execution_count": null,
   "metadata": {},
   "outputs": [],
   "source": []
  }
 ],
 "metadata": {
  "kernelspec": {
   "display_name": "R",
   "language": "R",
   "name": "ir"
  },
  "language_info": {
   "codemirror_mode": "r",
   "file_extension": ".r",
   "mimetype": "text/x-r-source",
   "name": "R",
   "pygments_lexer": "r",
   "version": "3.6.1"
  }
 },
 "nbformat": 4,
 "nbformat_minor": 4
}
