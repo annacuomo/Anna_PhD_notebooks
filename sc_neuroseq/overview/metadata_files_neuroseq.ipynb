{
 "cells": [
  {
   "cell_type": "code",
   "execution_count": null,
   "metadata": {},
   "outputs": [],
   "source": [
    "#### Day 11"
   ]
  },
  {
   "cell_type": "code",
   "execution_count": 15,
   "metadata": {},
   "outputs": [],
   "source": [
    "D11_file = \"/hps/nobackup/stegle/users/acuomo/all_scripts/sc_neuroseq/scanpy/neuroseq_metadata_D11.txt\""
   ]
  },
  {
   "cell_type": "code",
   "execution_count": 16,
   "metadata": {},
   "outputs": [
    {
     "data": {
      "text/html": [
       "<table>\n",
       "<thead><tr><th scope=col>index</th><th scope=col>batch</th><th scope=col>donor_id</th><th scope=col>sample_id</th><th scope=col>cluster_id</th><th scope=col>time_point</th><th scope=col>pool_id</th><th scope=col>treatment</th><th scope=col>n_counts_all</th><th scope=col>celltype</th></tr></thead>\n",
       "<tbody>\n",
       "\t<tr><td>CTCGTACCACAGACAG-1-4 </td><td> 4                   </td><td>HPSI0414i-sebn_3     </td><td>5245STDY7386987      </td><td>1                    </td><td>D11                  </td><td>pool3                </td><td>NONE                 </td><td>15316                </td><td>P_FPP                </td></tr>\n",
       "\t<tr><td>CTGTGCTGTTCGCGAC-1-23</td><td>23                   </td><td>HPSI1013i-hiaf_1     </td><td>5245STDY7632694      </td><td>2                    </td><td>D11                  </td><td>pool6                </td><td>NONE                 </td><td>20732                </td><td>P_FPP                </td></tr>\n",
       "</tbody>\n",
       "</table>\n"
      ],
      "text/latex": [
       "\\begin{tabular}{r|llllllllll}\n",
       " index & batch & donor\\_id & sample\\_id & cluster\\_id & time\\_point & pool\\_id & treatment & n\\_counts\\_all & celltype\\\\\n",
       "\\hline\n",
       "\t CTCGTACCACAGACAG-1-4  &  4                    & HPSI0414i-sebn\\_3    & 5245STDY7386987       & 1                     & D11                   & pool3                 & NONE                  & 15316                 & P\\_FPP              \\\\\n",
       "\t CTGTGCTGTTCGCGAC-1-23 & 23                    & HPSI1013i-hiaf\\_1    & 5245STDY7632694       & 2                     & D11                   & pool6                 & NONE                  & 20732                 & P\\_FPP              \\\\\n",
       "\\end{tabular}\n"
      ],
      "text/markdown": [
       "\n",
       "| index | batch | donor_id | sample_id | cluster_id | time_point | pool_id | treatment | n_counts_all | celltype |\n",
       "|---|---|---|---|---|---|---|---|---|---|\n",
       "| CTCGTACCACAGACAG-1-4  |  4                    | HPSI0414i-sebn_3      | 5245STDY7386987       | 1                     | D11                   | pool3                 | NONE                  | 15316                 | P_FPP                 |\n",
       "| CTGTGCTGTTCGCGAC-1-23 | 23                    | HPSI1013i-hiaf_1      | 5245STDY7632694       | 2                     | D11                   | pool6                 | NONE                  | 20732                 | P_FPP                 |\n",
       "\n"
      ],
      "text/plain": [
       "  index                 batch donor_id         sample_id       cluster_id\n",
       "1 CTCGTACCACAGACAG-1-4   4    HPSI0414i-sebn_3 5245STDY7386987 1         \n",
       "2 CTGTGCTGTTCGCGAC-1-23 23    HPSI1013i-hiaf_1 5245STDY7632694 2         \n",
       "  time_point pool_id treatment n_counts_all celltype\n",
       "1 D11        pool3   NONE      15316        P_FPP   \n",
       "2 D11        pool6   NONE      20732        P_FPP   "
      ]
     },
     "metadata": {},
     "output_type": "display_data"
    }
   ],
   "source": [
    "D11 = read.csv(D11_file, sep =\"\\t\")\n",
    "head(D11,2)"
   ]
  },
  {
   "cell_type": "code",
   "execution_count": 24,
   "metadata": {},
   "outputs": [],
   "source": [
    "D11$batch <- c()"
   ]
  },
  {
   "cell_type": "code",
   "execution_count": 17,
   "metadata": {},
   "outputs": [],
   "source": [
    "# D11$cluster_id = D11$cluster_id_new\n",
    "# D11$cluster_id_new <- c()\n",
    "# head(D11,2)"
   ]
  },
  {
   "cell_type": "code",
   "execution_count": 6,
   "metadata": {},
   "outputs": [],
   "source": [
    "write.table(D11,D11_file, sep = \"\\t\")"
   ]
  },
  {
   "cell_type": "code",
   "execution_count": null,
   "metadata": {},
   "outputs": [],
   "source": []
  },
  {
   "cell_type": "code",
   "execution_count": null,
   "metadata": {},
   "outputs": [],
   "source": [
    "#### Day 30"
   ]
  },
  {
   "cell_type": "code",
   "execution_count": 22,
   "metadata": {},
   "outputs": [],
   "source": [
    "D30_file = \"/hps/nobackup/stegle/users/acuomo/all_scripts/sc_neuroseq/scanpy/neuroseq_metadata_D30.txt\""
   ]
  },
  {
   "cell_type": "code",
   "execution_count": 23,
   "metadata": {},
   "outputs": [
    {
     "data": {
      "text/html": [
       "<table>\n",
       "<thead><tr><th scope=col>index</th><th scope=col>batch</th><th scope=col>donor_id</th><th scope=col>sample_id</th><th scope=col>cluster_id</th><th scope=col>time_point</th><th scope=col>pool_id</th><th scope=col>treatment</th><th scope=col>n_counts_all</th><th scope=col>celltype</th></tr></thead>\n",
       "<tbody>\n",
       "\t<tr><td>TCTGGAAAGCCATCGC-1-1 </td><td> 1                   </td><td>HPSI0715i-meue_5     </td><td>5245STDY7423246      </td><td>2                    </td><td>D30                  </td><td>pool2                </td><td>NONE                 </td><td> 4168                </td><td>Sert                 </td></tr>\n",
       "\t<tr><td>ATGCGATCAGACAAAT-1-30</td><td>30                   </td><td>HPSI0413i-peop_4     </td><td>5245STDY7844033      </td><td>3                    </td><td>D30                  </td><td>pool10               </td><td>NONE                 </td><td>16870                </td><td>Epen1                </td></tr>\n",
       "</tbody>\n",
       "</table>\n"
      ],
      "text/latex": [
       "\\begin{tabular}{r|llllllllll}\n",
       " index & batch & donor\\_id & sample\\_id & cluster\\_id & time\\_point & pool\\_id & treatment & n\\_counts\\_all & celltype\\\\\n",
       "\\hline\n",
       "\t TCTGGAAAGCCATCGC-1-1  &  1                    & HPSI0715i-meue\\_5    & 5245STDY7423246       & 2                     & D30                   & pool2                 & NONE                  &  4168                 & Sert                 \\\\\n",
       "\t ATGCGATCAGACAAAT-1-30 & 30                    & HPSI0413i-peop\\_4    & 5245STDY7844033       & 3                     & D30                   & pool10                & NONE                  & 16870                 & Epen1                \\\\\n",
       "\\end{tabular}\n"
      ],
      "text/markdown": [
       "\n",
       "| index | batch | donor_id | sample_id | cluster_id | time_point | pool_id | treatment | n_counts_all | celltype |\n",
       "|---|---|---|---|---|---|---|---|---|---|\n",
       "| TCTGGAAAGCCATCGC-1-1  |  1                    | HPSI0715i-meue_5      | 5245STDY7423246       | 2                     | D30                   | pool2                 | NONE                  |  4168                 | Sert                  |\n",
       "| ATGCGATCAGACAAAT-1-30 | 30                    | HPSI0413i-peop_4      | 5245STDY7844033       | 3                     | D30                   | pool10                | NONE                  | 16870                 | Epen1                 |\n",
       "\n"
      ],
      "text/plain": [
       "  index                 batch donor_id         sample_id       cluster_id\n",
       "1 TCTGGAAAGCCATCGC-1-1   1    HPSI0715i-meue_5 5245STDY7423246 2         \n",
       "2 ATGCGATCAGACAAAT-1-30 30    HPSI0413i-peop_4 5245STDY7844033 3         \n",
       "  time_point pool_id treatment n_counts_all celltype\n",
       "1 D30        pool2   NONE       4168        Sert    \n",
       "2 D30        pool10  NONE      16870        Epen1   "
      ]
     },
     "metadata": {},
     "output_type": "display_data"
    }
   ],
   "source": [
    "D30 = read.csv(D30_file, sep =\"\\t\")\n",
    "head(D30,2)"
   ]
  },
  {
   "cell_type": "code",
   "execution_count": 25,
   "metadata": {},
   "outputs": [],
   "source": [
    "D30$batch <- c()"
   ]
  },
  {
   "cell_type": "code",
   "execution_count": 20,
   "metadata": {},
   "outputs": [
    {
     "data": {
      "text/html": [
       "<table>\n",
       "<thead><tr><th scope=col>index</th><th scope=col>batch</th><th scope=col>donor_id</th><th scope=col>sample_id</th><th scope=col>cluster_id</th><th scope=col>time_point</th><th scope=col>pool_id</th><th scope=col>treatment</th><th scope=col>n_counts_all</th><th scope=col>celltype</th><th scope=col>celltype_new</th></tr></thead>\n",
       "<tbody>\n",
       "\t<tr><td>TCTGGAAAGCCATCGC-1-1 </td><td> 1                   </td><td>HPSI0715i-meue_5     </td><td>5245STDY7423246      </td><td>2                    </td><td>D30                  </td><td>pool2                </td><td>NONE                 </td><td> 4168                </td><td>Sert                 </td><td>Sert                 </td></tr>\n",
       "\t<tr><td>ATGCGATCAGACAAAT-1-30</td><td>30                   </td><td>HPSI0413i-peop_4     </td><td>5245STDY7844033      </td><td>3                    </td><td>D30                  </td><td>pool10               </td><td>NONE                 </td><td>16870                </td><td>Epen1                </td><td>Epen1                </td></tr>\n",
       "</tbody>\n",
       "</table>\n"
      ],
      "text/latex": [
       "\\begin{tabular}{r|lllllllllll}\n",
       " index & batch & donor\\_id & sample\\_id & cluster\\_id & time\\_point & pool\\_id & treatment & n\\_counts\\_all & celltype & celltype\\_new\\\\\n",
       "\\hline\n",
       "\t TCTGGAAAGCCATCGC-1-1  &  1                    & HPSI0715i-meue\\_5    & 5245STDY7423246       & 2                     & D30                   & pool2                 & NONE                  &  4168                 & Sert                  & Sert                 \\\\\n",
       "\t ATGCGATCAGACAAAT-1-30 & 30                    & HPSI0413i-peop\\_4    & 5245STDY7844033       & 3                     & D30                   & pool10                & NONE                  & 16870                 & Epen1                 & Epen1                \\\\\n",
       "\\end{tabular}\n"
      ],
      "text/markdown": [
       "\n",
       "| index | batch | donor_id | sample_id | cluster_id | time_point | pool_id | treatment | n_counts_all | celltype | celltype_new |\n",
       "|---|---|---|---|---|---|---|---|---|---|---|\n",
       "| TCTGGAAAGCCATCGC-1-1  |  1                    | HPSI0715i-meue_5      | 5245STDY7423246       | 2                     | D30                   | pool2                 | NONE                  |  4168                 | Sert                  | Sert                  |\n",
       "| ATGCGATCAGACAAAT-1-30 | 30                    | HPSI0413i-peop_4      | 5245STDY7844033       | 3                     | D30                   | pool10                | NONE                  | 16870                 | Epen1                 | Epen1                 |\n",
       "\n"
      ],
      "text/plain": [
       "  index                 batch donor_id         sample_id       cluster_id\n",
       "1 TCTGGAAAGCCATCGC-1-1   1    HPSI0715i-meue_5 5245STDY7423246 2         \n",
       "2 ATGCGATCAGACAAAT-1-30 30    HPSI0413i-peop_4 5245STDY7844033 3         \n",
       "  time_point pool_id treatment n_counts_all celltype celltype_new\n",
       "1 D30        pool2   NONE       4168        Sert     Sert        \n",
       "2 D30        pool10  NONE      16870        Epen1    Epen1       "
      ]
     },
     "metadata": {},
     "output_type": "display_data"
    },
    {
     "data": {
      "text/html": [
       "<table>\n",
       "<thead><tr><th scope=col>index</th><th scope=col>batch</th><th scope=col>donor_id</th><th scope=col>sample_id</th><th scope=col>cluster_id</th><th scope=col>time_point</th><th scope=col>pool_id</th><th scope=col>treatment</th><th scope=col>n_counts_all</th><th scope=col>celltype</th></tr></thead>\n",
       "<tbody>\n",
       "\t<tr><td>TCTGGAAAGCCATCGC-1-1 </td><td> 1                   </td><td>HPSI0715i-meue_5     </td><td>5245STDY7423246      </td><td>2                    </td><td>D30                  </td><td>pool2                </td><td>NONE                 </td><td> 4168                </td><td>Sert                 </td></tr>\n",
       "\t<tr><td>ATGCGATCAGACAAAT-1-30</td><td>30                   </td><td>HPSI0413i-peop_4     </td><td>5245STDY7844033      </td><td>3                    </td><td>D30                  </td><td>pool10               </td><td>NONE                 </td><td>16870                </td><td>Epen1                </td></tr>\n",
       "</tbody>\n",
       "</table>\n"
      ],
      "text/latex": [
       "\\begin{tabular}{r|llllllllll}\n",
       " index & batch & donor\\_id & sample\\_id & cluster\\_id & time\\_point & pool\\_id & treatment & n\\_counts\\_all & celltype\\\\\n",
       "\\hline\n",
       "\t TCTGGAAAGCCATCGC-1-1  &  1                    & HPSI0715i-meue\\_5    & 5245STDY7423246       & 2                     & D30                   & pool2                 & NONE                  &  4168                 & Sert                 \\\\\n",
       "\t ATGCGATCAGACAAAT-1-30 & 30                    & HPSI0413i-peop\\_4    & 5245STDY7844033       & 3                     & D30                   & pool10                & NONE                  & 16870                 & Epen1                \\\\\n",
       "\\end{tabular}\n"
      ],
      "text/markdown": [
       "\n",
       "| index | batch | donor_id | sample_id | cluster_id | time_point | pool_id | treatment | n_counts_all | celltype |\n",
       "|---|---|---|---|---|---|---|---|---|---|\n",
       "| TCTGGAAAGCCATCGC-1-1  |  1                    | HPSI0715i-meue_5      | 5245STDY7423246       | 2                     | D30                   | pool2                 | NONE                  |  4168                 | Sert                  |\n",
       "| ATGCGATCAGACAAAT-1-30 | 30                    | HPSI0413i-peop_4      | 5245STDY7844033       | 3                     | D30                   | pool10                | NONE                  | 16870                 | Epen1                 |\n",
       "\n"
      ],
      "text/plain": [
       "  index                 batch donor_id         sample_id       cluster_id\n",
       "1 TCTGGAAAGCCATCGC-1-1   1    HPSI0715i-meue_5 5245STDY7423246 2         \n",
       "2 ATGCGATCAGACAAAT-1-30 30    HPSI0413i-peop_4 5245STDY7844033 3         \n",
       "  time_point pool_id treatment n_counts_all celltype\n",
       "1 D30        pool2   NONE       4168        Sert    \n",
       "2 D30        pool10  NONE      16870        Epen1   "
      ]
     },
     "metadata": {},
     "output_type": "display_data"
    }
   ],
   "source": [
    "D30$cluster_id = D30$cluster_id_new\n",
    "D30$cluster_id_new <- c()\n",
    "head(D30,2)\n",
    "\n",
    "D30$celltype = D30$celltype_new\n",
    "D30$celltype_new <- c()\n",
    "head(D30,2)"
   ]
  },
  {
   "cell_type": "code",
   "execution_count": 21,
   "metadata": {},
   "outputs": [],
   "source": [
    "write.table(D30,D30_file, sep = \"\\t\")"
   ]
  },
  {
   "cell_type": "code",
   "execution_count": null,
   "metadata": {},
   "outputs": [],
   "source": []
  },
  {
   "cell_type": "code",
   "execution_count": null,
   "metadata": {},
   "outputs": [],
   "source": [
    "#### Day 52"
   ]
  },
  {
   "cell_type": "code",
   "execution_count": 30,
   "metadata": {},
   "outputs": [],
   "source": [
    "D52_file = \"/hps/nobackup/stegle/users/acuomo/all_scripts/sc_neuroseq/scanpy/neuroseq_metadata_D52.txt\""
   ]
  },
  {
   "cell_type": "code",
   "execution_count": 31,
   "metadata": {},
   "outputs": [
    {
     "data": {
      "text/html": [
       "<table>\n",
       "<thead><tr><th scope=col>index</th><th scope=col>batch</th><th scope=col>donor_id</th><th scope=col>log1p_n_genes_by_counts</th><th scope=col>log1p_total_counts</th><th scope=col>log1p_total_counts_mito</th><th scope=col>n_genes_by_counts</th><th scope=col>pct_counts_in_top_100_genes</th><th scope=col>pct_counts_in_top_200_genes</th><th scope=col>pct_counts_in_top_500_genes</th><th scope=col>...</th><th scope=col>total_counts</th><th scope=col>total_counts_mito</th><th scope=col>cluster_id</th><th scope=col>time_point</th><th scope=col>pool_id</th><th scope=col>treatment</th><th scope=col>n_counts_all</th><th scope=col>celltype</th><th scope=col>celltype_new</th><th scope=col>cluster_id_new</th></tr></thead>\n",
       "<tbody>\n",
       "\t<tr><td>TCCACACAGGACAGAA-1-23</td><td>23                   </td><td>HPSI0114i-eipl_1     </td><td>7.650169             </td><td>8.834774             </td><td>3.637586             </td><td>2100                 </td><td>46.70938             </td><td>58.09552             </td><td>72.58299             </td><td>...                  </td><td>6868                 </td><td> 37                  </td><td>4                    </td><td>D52                  </td><td>pool1                </td><td>ROT                  </td><td>6868                 </td><td>FPP                  </td><td>FPP                  </td><td>4                    </td></tr>\n",
       "\t<tr><td>TAAGAGAGTGGCGAAT-1-6 </td><td> 6                   </td><td>HPSI0115i-jakt_1     </td><td>7.813592             </td><td>8.701845             </td><td>5.786897             </td><td>2473                 </td><td>39.66406             </td><td>48.36188             </td><td>62.33161             </td><td>...                  </td><td>6013                 </td><td>325                  </td><td>7                    </td><td>D52                  </td><td>pool2                </td><td>NONE                 </td><td>6013                 </td><td>Sert                 </td><td>Sert                 </td><td>7                    </td></tr>\n",
       "</tbody>\n",
       "</table>\n"
      ],
      "text/latex": [
       "\\begin{tabular}{r|lllllllllllllllllllllll}\n",
       " index & batch & donor\\_id & log1p\\_n\\_genes\\_by\\_counts & log1p\\_total\\_counts & log1p\\_total\\_counts\\_mito & n\\_genes\\_by\\_counts & pct\\_counts\\_in\\_top\\_100\\_genes & pct\\_counts\\_in\\_top\\_200\\_genes & pct\\_counts\\_in\\_top\\_500\\_genes & ... & total\\_counts & total\\_counts\\_mito & cluster\\_id & time\\_point & pool\\_id & treatment & n\\_counts\\_all & celltype & celltype\\_new & cluster\\_id\\_new\\\\\n",
       "\\hline\n",
       "\t TCCACACAGGACAGAA-1-23 & 23                    & HPSI0114i-eipl\\_1    & 7.650169              & 8.834774              & 3.637586              & 2100                  & 46.70938              & 58.09552              & 72.58299              & ...                   & 6868                  &  37                   & 4                     & D52                   & pool1                 & ROT                   & 6868                  & FPP                   & FPP                   & 4                    \\\\\n",
       "\t TAAGAGAGTGGCGAAT-1-6  &  6                    & HPSI0115i-jakt\\_1    & 7.813592              & 8.701845              & 5.786897              & 2473                  & 39.66406              & 48.36188              & 62.33161              & ...                   & 6013                  & 325                   & 7                     & D52                   & pool2                 & NONE                  & 6013                  & Sert                  & Sert                  & 7                    \\\\\n",
       "\\end{tabular}\n"
      ],
      "text/markdown": [
       "\n",
       "| index | batch | donor_id | log1p_n_genes_by_counts | log1p_total_counts | log1p_total_counts_mito | n_genes_by_counts | pct_counts_in_top_100_genes | pct_counts_in_top_200_genes | pct_counts_in_top_500_genes | ... | total_counts | total_counts_mito | cluster_id | time_point | pool_id | treatment | n_counts_all | celltype | celltype_new | cluster_id_new |\n",
       "|---|---|---|---|---|---|---|---|---|---|---|---|---|---|---|---|---|---|---|---|---|\n",
       "| TCCACACAGGACAGAA-1-23 | 23                    | HPSI0114i-eipl_1      | 7.650169              | 8.834774              | 3.637586              | 2100                  | 46.70938              | 58.09552              | 72.58299              | ...                   | 6868                  |  37                   | 4                     | D52                   | pool1                 | ROT                   | 6868                  | FPP                   | FPP                   | 4                     |\n",
       "| TAAGAGAGTGGCGAAT-1-6  |  6                    | HPSI0115i-jakt_1      | 7.813592              | 8.701845              | 5.786897              | 2473                  | 39.66406              | 48.36188              | 62.33161              | ...                   | 6013                  | 325                   | 7                     | D52                   | pool2                 | NONE                  | 6013                  | Sert                  | Sert                  | 7                     |\n",
       "\n"
      ],
      "text/plain": [
       "  index                 batch donor_id         log1p_n_genes_by_counts\n",
       "1 TCCACACAGGACAGAA-1-23 23    HPSI0114i-eipl_1 7.650169               \n",
       "2 TAAGAGAGTGGCGAAT-1-6   6    HPSI0115i-jakt_1 7.813592               \n",
       "  log1p_total_counts log1p_total_counts_mito n_genes_by_counts\n",
       "1 8.834774           3.637586                2100             \n",
       "2 8.701845           5.786897                2473             \n",
       "  pct_counts_in_top_100_genes pct_counts_in_top_200_genes\n",
       "1 46.70938                    58.09552                   \n",
       "2 39.66406                    48.36188                   \n",
       "  pct_counts_in_top_500_genes ... total_counts total_counts_mito cluster_id\n",
       "1 72.58299                    ... 6868          37               4         \n",
       "2 62.33161                    ... 6013         325               7         \n",
       "  time_point pool_id treatment n_counts_all celltype celltype_new\n",
       "1 D52        pool1   ROT       6868         FPP      FPP         \n",
       "2 D52        pool2   NONE      6013         Sert     Sert        \n",
       "  cluster_id_new\n",
       "1 4             \n",
       "2 7             "
      ]
     },
     "metadata": {},
     "output_type": "display_data"
    }
   ],
   "source": [
    "D52 = read.csv(D52_file, sep =\"\\t\")\n",
    "head(D52,2)"
   ]
  },
  {
   "cell_type": "code",
   "execution_count": 32,
   "metadata": {},
   "outputs": [],
   "source": [
    "D52$batch <- c()"
   ]
  },
  {
   "cell_type": "code",
   "execution_count": 33,
   "metadata": {},
   "outputs": [
    {
     "data": {
      "text/html": [
       "<table>\n",
       "<thead><tr><th scope=col>index</th><th scope=col>donor_id</th><th scope=col>log1p_n_genes_by_counts</th><th scope=col>log1p_total_counts</th><th scope=col>log1p_total_counts_mito</th><th scope=col>n_genes_by_counts</th><th scope=col>pct_counts_in_top_100_genes</th><th scope=col>pct_counts_in_top_200_genes</th><th scope=col>pct_counts_in_top_500_genes</th><th scope=col>pct_counts_in_top_50_genes</th><th scope=col>...</th><th scope=col>sample_id</th><th scope=col>total_counts</th><th scope=col>total_counts_mito</th><th scope=col>cluster_id</th><th scope=col>time_point</th><th scope=col>pool_id</th><th scope=col>treatment</th><th scope=col>n_counts_all</th><th scope=col>celltype</th><th scope=col>celltype_new</th></tr></thead>\n",
       "<tbody>\n",
       "\t<tr><td>TCCACACAGGACAGAA-1-23</td><td>HPSI0114i-eipl_1     </td><td>7.650169             </td><td>8.834774             </td><td>3.637586             </td><td>2100                 </td><td>46.70938             </td><td>58.09552             </td><td>72.58299             </td><td>35.20676             </td><td>...                  </td><td>5245STDY7631338      </td><td>6868                 </td><td> 37                  </td><td>4                    </td><td>D52                  </td><td>pool1                </td><td>ROT                  </td><td>6868                 </td><td>FPP                  </td><td>FPP                  </td></tr>\n",
       "\t<tr><td>TAAGAGAGTGGCGAAT-1-6 </td><td>HPSI0115i-jakt_1     </td><td>7.813592             </td><td>8.701845             </td><td>5.786897             </td><td>2473                 </td><td>39.66406             </td><td>48.36188             </td><td>62.33161             </td><td>32.34658             </td><td>...                  </td><td>5245STDY7458662      </td><td>6013                 </td><td>325                  </td><td>7                    </td><td>D52                  </td><td>pool2                </td><td>NONE                 </td><td>6013                 </td><td>Sert                 </td><td>Sert                 </td></tr>\n",
       "</tbody>\n",
       "</table>\n"
      ],
      "text/latex": [
       "\\begin{tabular}{r|lllllllllllllllllllll}\n",
       " index & donor\\_id & log1p\\_n\\_genes\\_by\\_counts & log1p\\_total\\_counts & log1p\\_total\\_counts\\_mito & n\\_genes\\_by\\_counts & pct\\_counts\\_in\\_top\\_100\\_genes & pct\\_counts\\_in\\_top\\_200\\_genes & pct\\_counts\\_in\\_top\\_500\\_genes & pct\\_counts\\_in\\_top\\_50\\_genes & ... & sample\\_id & total\\_counts & total\\_counts\\_mito & cluster\\_id & time\\_point & pool\\_id & treatment & n\\_counts\\_all & celltype & celltype\\_new\\\\\n",
       "\\hline\n",
       "\t TCCACACAGGACAGAA-1-23 & HPSI0114i-eipl\\_1    & 7.650169              & 8.834774              & 3.637586              & 2100                  & 46.70938              & 58.09552              & 72.58299              & 35.20676              & ...                   & 5245STDY7631338       & 6868                  &  37                   & 4                     & D52                   & pool1                 & ROT                   & 6868                  & FPP                   & FPP                  \\\\\n",
       "\t TAAGAGAGTGGCGAAT-1-6  & HPSI0115i-jakt\\_1    & 7.813592              & 8.701845              & 5.786897              & 2473                  & 39.66406              & 48.36188              & 62.33161              & 32.34658              & ...                   & 5245STDY7458662       & 6013                  & 325                   & 7                     & D52                   & pool2                 & NONE                  & 6013                  & Sert                  & Sert                 \\\\\n",
       "\\end{tabular}\n"
      ],
      "text/markdown": [
       "\n",
       "| index | donor_id | log1p_n_genes_by_counts | log1p_total_counts | log1p_total_counts_mito | n_genes_by_counts | pct_counts_in_top_100_genes | pct_counts_in_top_200_genes | pct_counts_in_top_500_genes | pct_counts_in_top_50_genes | ... | sample_id | total_counts | total_counts_mito | cluster_id | time_point | pool_id | treatment | n_counts_all | celltype | celltype_new |\n",
       "|---|---|---|---|---|---|---|---|---|---|---|---|---|---|---|---|---|---|---|---|---|\n",
       "| TCCACACAGGACAGAA-1-23 | HPSI0114i-eipl_1      | 7.650169              | 8.834774              | 3.637586              | 2100                  | 46.70938              | 58.09552              | 72.58299              | 35.20676              | ...                   | 5245STDY7631338       | 6868                  |  37                   | 4                     | D52                   | pool1                 | ROT                   | 6868                  | FPP                   | FPP                   |\n",
       "| TAAGAGAGTGGCGAAT-1-6  | HPSI0115i-jakt_1      | 7.813592              | 8.701845              | 5.786897              | 2473                  | 39.66406              | 48.36188              | 62.33161              | 32.34658              | ...                   | 5245STDY7458662       | 6013                  | 325                   | 7                     | D52                   | pool2                 | NONE                  | 6013                  | Sert                  | Sert                  |\n",
       "\n"
      ],
      "text/plain": [
       "  index                 donor_id         log1p_n_genes_by_counts\n",
       "1 TCCACACAGGACAGAA-1-23 HPSI0114i-eipl_1 7.650169               \n",
       "2 TAAGAGAGTGGCGAAT-1-6  HPSI0115i-jakt_1 7.813592               \n",
       "  log1p_total_counts log1p_total_counts_mito n_genes_by_counts\n",
       "1 8.834774           3.637586                2100             \n",
       "2 8.701845           5.786897                2473             \n",
       "  pct_counts_in_top_100_genes pct_counts_in_top_200_genes\n",
       "1 46.70938                    58.09552                   \n",
       "2 39.66406                    48.36188                   \n",
       "  pct_counts_in_top_500_genes pct_counts_in_top_50_genes ... sample_id      \n",
       "1 72.58299                    35.20676                   ... 5245STDY7631338\n",
       "2 62.33161                    32.34658                   ... 5245STDY7458662\n",
       "  total_counts total_counts_mito cluster_id time_point pool_id treatment\n",
       "1 6868          37               4          D52        pool1   ROT      \n",
       "2 6013         325               7          D52        pool2   NONE     \n",
       "  n_counts_all celltype celltype_new\n",
       "1 6868         FPP      FPP         \n",
       "2 6013         Sert     Sert        "
      ]
     },
     "metadata": {},
     "output_type": "display_data"
    },
    {
     "data": {
      "text/html": [
       "<table>\n",
       "<thead><tr><th scope=col>index</th><th scope=col>donor_id</th><th scope=col>log1p_n_genes_by_counts</th><th scope=col>log1p_total_counts</th><th scope=col>log1p_total_counts_mito</th><th scope=col>n_genes_by_counts</th><th scope=col>pct_counts_in_top_100_genes</th><th scope=col>pct_counts_in_top_200_genes</th><th scope=col>pct_counts_in_top_500_genes</th><th scope=col>pct_counts_in_top_50_genes</th><th scope=col>pct_counts_mito</th><th scope=col>sample_id</th><th scope=col>total_counts</th><th scope=col>total_counts_mito</th><th scope=col>cluster_id</th><th scope=col>time_point</th><th scope=col>pool_id</th><th scope=col>treatment</th><th scope=col>n_counts_all</th><th scope=col>celltype</th></tr></thead>\n",
       "<tbody>\n",
       "\t<tr><td>TCCACACAGGACAGAA-1-23</td><td>HPSI0114i-eipl_1     </td><td>7.650169             </td><td>8.834774             </td><td>3.637586             </td><td>2100                 </td><td>46.70938             </td><td>58.09552             </td><td>72.58299             </td><td>35.20676             </td><td>0.5387303            </td><td>5245STDY7631338      </td><td>6868                 </td><td> 37                  </td><td>4                    </td><td>D52                  </td><td>pool1                </td><td>ROT                  </td><td>6868                 </td><td>FPP                  </td></tr>\n",
       "\t<tr><td>TAAGAGAGTGGCGAAT-1-6 </td><td>HPSI0115i-jakt_1     </td><td>7.813592             </td><td>8.701845             </td><td>5.786897             </td><td>2473                 </td><td>39.66406             </td><td>48.36188             </td><td>62.33161             </td><td>32.34658             </td><td>5.4049560            </td><td>5245STDY7458662      </td><td>6013                 </td><td>325                  </td><td>7                    </td><td>D52                  </td><td>pool2                </td><td>NONE                 </td><td>6013                 </td><td>Sert                 </td></tr>\n",
       "</tbody>\n",
       "</table>\n"
      ],
      "text/latex": [
       "\\begin{tabular}{r|llllllllllllllllllll}\n",
       " index & donor\\_id & log1p\\_n\\_genes\\_by\\_counts & log1p\\_total\\_counts & log1p\\_total\\_counts\\_mito & n\\_genes\\_by\\_counts & pct\\_counts\\_in\\_top\\_100\\_genes & pct\\_counts\\_in\\_top\\_200\\_genes & pct\\_counts\\_in\\_top\\_500\\_genes & pct\\_counts\\_in\\_top\\_50\\_genes & pct\\_counts\\_mito & sample\\_id & total\\_counts & total\\_counts\\_mito & cluster\\_id & time\\_point & pool\\_id & treatment & n\\_counts\\_all & celltype\\\\\n",
       "\\hline\n",
       "\t TCCACACAGGACAGAA-1-23 & HPSI0114i-eipl\\_1    & 7.650169              & 8.834774              & 3.637586              & 2100                  & 46.70938              & 58.09552              & 72.58299              & 35.20676              & 0.5387303             & 5245STDY7631338       & 6868                  &  37                   & 4                     & D52                   & pool1                 & ROT                   & 6868                  & FPP                  \\\\\n",
       "\t TAAGAGAGTGGCGAAT-1-6  & HPSI0115i-jakt\\_1    & 7.813592              & 8.701845              & 5.786897              & 2473                  & 39.66406              & 48.36188              & 62.33161              & 32.34658              & 5.4049560             & 5245STDY7458662       & 6013                  & 325                   & 7                     & D52                   & pool2                 & NONE                  & 6013                  & Sert                 \\\\\n",
       "\\end{tabular}\n"
      ],
      "text/markdown": [
       "\n",
       "| index | donor_id | log1p_n_genes_by_counts | log1p_total_counts | log1p_total_counts_mito | n_genes_by_counts | pct_counts_in_top_100_genes | pct_counts_in_top_200_genes | pct_counts_in_top_500_genes | pct_counts_in_top_50_genes | pct_counts_mito | sample_id | total_counts | total_counts_mito | cluster_id | time_point | pool_id | treatment | n_counts_all | celltype |\n",
       "|---|---|---|---|---|---|---|---|---|---|---|---|---|---|---|---|---|---|---|---|\n",
       "| TCCACACAGGACAGAA-1-23 | HPSI0114i-eipl_1      | 7.650169              | 8.834774              | 3.637586              | 2100                  | 46.70938              | 58.09552              | 72.58299              | 35.20676              | 0.5387303             | 5245STDY7631338       | 6868                  |  37                   | 4                     | D52                   | pool1                 | ROT                   | 6868                  | FPP                   |\n",
       "| TAAGAGAGTGGCGAAT-1-6  | HPSI0115i-jakt_1      | 7.813592              | 8.701845              | 5.786897              | 2473                  | 39.66406              | 48.36188              | 62.33161              | 32.34658              | 5.4049560             | 5245STDY7458662       | 6013                  | 325                   | 7                     | D52                   | pool2                 | NONE                  | 6013                  | Sert                  |\n",
       "\n"
      ],
      "text/plain": [
       "  index                 donor_id         log1p_n_genes_by_counts\n",
       "1 TCCACACAGGACAGAA-1-23 HPSI0114i-eipl_1 7.650169               \n",
       "2 TAAGAGAGTGGCGAAT-1-6  HPSI0115i-jakt_1 7.813592               \n",
       "  log1p_total_counts log1p_total_counts_mito n_genes_by_counts\n",
       "1 8.834774           3.637586                2100             \n",
       "2 8.701845           5.786897                2473             \n",
       "  pct_counts_in_top_100_genes pct_counts_in_top_200_genes\n",
       "1 46.70938                    58.09552                   \n",
       "2 39.66406                    48.36188                   \n",
       "  pct_counts_in_top_500_genes pct_counts_in_top_50_genes pct_counts_mito\n",
       "1 72.58299                    35.20676                   0.5387303      \n",
       "2 62.33161                    32.34658                   5.4049560      \n",
       "  sample_id       total_counts total_counts_mito cluster_id time_point pool_id\n",
       "1 5245STDY7631338 6868          37               4          D52        pool1  \n",
       "2 5245STDY7458662 6013         325               7          D52        pool2  \n",
       "  treatment n_counts_all celltype\n",
       "1 ROT       6868         FPP     \n",
       "2 NONE      6013         Sert    "
      ]
     },
     "metadata": {},
     "output_type": "display_data"
    }
   ],
   "source": [
    "D52$cluster_id = D52$cluster_id_new\n",
    "D52$cluster_id_new <- c()\n",
    "head(D52,2)\n",
    "\n",
    "D52$celltype = D52$celltype_new\n",
    "D52$celltype_new <- c()\n",
    "head(D52,2)"
   ]
  },
  {
   "cell_type": "code",
   "execution_count": 35,
   "metadata": {},
   "outputs": [
    {
     "data": {
      "text/html": [
       "<table>\n",
       "<thead><tr><th scope=col>index</th><th scope=col>donor_id</th><th scope=col>sample_id</th><th scope=col>cluster_id</th><th scope=col>time_point</th><th scope=col>pool_id</th><th scope=col>treatment</th><th scope=col>n_counts_all</th><th scope=col>celltype</th></tr></thead>\n",
       "<tbody>\n",
       "\t<tr><td>TCCACACAGGACAGAA-1-23</td><td>HPSI0114i-eipl_1     </td><td>5245STDY7631338      </td><td>4                    </td><td>D52                  </td><td>pool1                </td><td>ROT                  </td><td>6868                 </td><td>FPP                  </td></tr>\n",
       "\t<tr><td>TAAGAGAGTGGCGAAT-1-6 </td><td>HPSI0115i-jakt_1     </td><td>5245STDY7458662      </td><td>7                    </td><td>D52                  </td><td>pool2                </td><td>NONE                 </td><td>6013                 </td><td>Sert                 </td></tr>\n",
       "</tbody>\n",
       "</table>\n"
      ],
      "text/latex": [
       "\\begin{tabular}{r|lllllllll}\n",
       " index & donor\\_id & sample\\_id & cluster\\_id & time\\_point & pool\\_id & treatment & n\\_counts\\_all & celltype\\\\\n",
       "\\hline\n",
       "\t TCCACACAGGACAGAA-1-23 & HPSI0114i-eipl\\_1    & 5245STDY7631338       & 4                     & D52                   & pool1                 & ROT                   & 6868                  & FPP                  \\\\\n",
       "\t TAAGAGAGTGGCGAAT-1-6  & HPSI0115i-jakt\\_1    & 5245STDY7458662       & 7                     & D52                   & pool2                 & NONE                  & 6013                  & Sert                 \\\\\n",
       "\\end{tabular}\n"
      ],
      "text/markdown": [
       "\n",
       "| index | donor_id | sample_id | cluster_id | time_point | pool_id | treatment | n_counts_all | celltype |\n",
       "|---|---|---|---|---|---|---|---|---|\n",
       "| TCCACACAGGACAGAA-1-23 | HPSI0114i-eipl_1      | 5245STDY7631338       | 4                     | D52                   | pool1                 | ROT                   | 6868                  | FPP                   |\n",
       "| TAAGAGAGTGGCGAAT-1-6  | HPSI0115i-jakt_1      | 5245STDY7458662       | 7                     | D52                   | pool2                 | NONE                  | 6013                  | Sert                  |\n",
       "\n"
      ],
      "text/plain": [
       "  index                 donor_id         sample_id       cluster_id time_point\n",
       "1 TCCACACAGGACAGAA-1-23 HPSI0114i-eipl_1 5245STDY7631338 4          D52       \n",
       "2 TAAGAGAGTGGCGAAT-1-6  HPSI0115i-jakt_1 5245STDY7458662 7          D52       \n",
       "  pool_id treatment n_counts_all celltype\n",
       "1 pool1   ROT       6868         FPP     \n",
       "2 pool2   NONE      6013         Sert    "
      ]
     },
     "metadata": {},
     "output_type": "display_data"
    }
   ],
   "source": [
    "D52 = D52[,colnames(D52) %in% colnames(D30)]\n",
    "head(D52,2)"
   ]
  },
  {
   "cell_type": "code",
   "execution_count": 36,
   "metadata": {},
   "outputs": [
    {
     "data": {
      "text/html": [
       "1027398"
      ],
      "text/latex": [
       "1027398"
      ],
      "text/markdown": [
       "1027398"
      ],
      "text/plain": [
       "[1] 1027398"
      ]
     },
     "metadata": {},
     "output_type": "display_data"
    },
    {
     "data": {
      "text/html": [
       "<table>\n",
       "<thead><tr><th scope=col>index</th><th scope=col>donor_id</th><th scope=col>sample_id</th><th scope=col>cluster_id</th><th scope=col>time_point</th><th scope=col>pool_id</th><th scope=col>treatment</th><th scope=col>n_counts_all</th><th scope=col>celltype</th></tr></thead>\n",
       "<tbody>\n",
       "\t<tr><td>CTCGTACCACAGACAG-1-4 </td><td>HPSI0414i-sebn_3     </td><td>5245STDY7386987      </td><td>1                    </td><td>D11                  </td><td>pool3                </td><td>NONE                 </td><td>15316                </td><td>P_FPP                </td></tr>\n",
       "\t<tr><td>CTGTGCTGTTCGCGAC-1-23</td><td>HPSI1013i-hiaf_1     </td><td>5245STDY7632694      </td><td>2                    </td><td>D11                  </td><td>pool6                </td><td>NONE                 </td><td>20732                </td><td>P_FPP                </td></tr>\n",
       "</tbody>\n",
       "</table>\n"
      ],
      "text/latex": [
       "\\begin{tabular}{r|lllllllll}\n",
       " index & donor\\_id & sample\\_id & cluster\\_id & time\\_point & pool\\_id & treatment & n\\_counts\\_all & celltype\\\\\n",
       "\\hline\n",
       "\t CTCGTACCACAGACAG-1-4  & HPSI0414i-sebn\\_3    & 5245STDY7386987       & 1                     & D11                   & pool3                 & NONE                  & 15316                 & P\\_FPP              \\\\\n",
       "\t CTGTGCTGTTCGCGAC-1-23 & HPSI1013i-hiaf\\_1    & 5245STDY7632694       & 2                     & D11                   & pool6                 & NONE                  & 20732                 & P\\_FPP              \\\\\n",
       "\\end{tabular}\n"
      ],
      "text/markdown": [
       "\n",
       "| index | donor_id | sample_id | cluster_id | time_point | pool_id | treatment | n_counts_all | celltype |\n",
       "|---|---|---|---|---|---|---|---|---|\n",
       "| CTCGTACCACAGACAG-1-4  | HPSI0414i-sebn_3      | 5245STDY7386987       | 1                     | D11                   | pool3                 | NONE                  | 15316                 | P_FPP                 |\n",
       "| CTGTGCTGTTCGCGAC-1-23 | HPSI1013i-hiaf_1      | 5245STDY7632694       | 2                     | D11                   | pool6                 | NONE                  | 20732                 | P_FPP                 |\n",
       "\n"
      ],
      "text/plain": [
       "  index                 donor_id         sample_id       cluster_id time_point\n",
       "1 CTCGTACCACAGACAG-1-4  HPSI0414i-sebn_3 5245STDY7386987 1          D11       \n",
       "2 CTGTGCTGTTCGCGAC-1-23 HPSI1013i-hiaf_1 5245STDY7632694 2          D11       \n",
       "  pool_id treatment n_counts_all celltype\n",
       "1 pool3   NONE      15316        P_FPP   \n",
       "2 pool6   NONE      20732        P_FPP   "
      ]
     },
     "metadata": {},
     "output_type": "display_data"
    }
   ],
   "source": [
    "df = rbind(D11, D30,D52)\n",
    "nrow(df)\n",
    "head(df,2)"
   ]
  },
  {
   "cell_type": "code",
   "execution_count": 37,
   "metadata": {},
   "outputs": [
    {
     "data": {
      "text/html": [
       "<table>\n",
       "<thead><tr><th scope=col>index</th><th scope=col>donor_id</th><th scope=col>sample_id</th><th scope=col>time_point</th><th scope=col>pool_id</th><th scope=col>treatment</th><th scope=col>celltype</th></tr></thead>\n",
       "<tbody>\n",
       "\t<tr><td>CTCGTACCACAGACAG-1-4 </td><td>HPSI0414i-sebn_3     </td><td>5245STDY7386987      </td><td>D11                  </td><td>pool3                </td><td>NONE                 </td><td>P_FPP                </td></tr>\n",
       "\t<tr><td>CTGTGCTGTTCGCGAC-1-23</td><td>HPSI1013i-hiaf_1     </td><td>5245STDY7632694      </td><td>D11                  </td><td>pool6                </td><td>NONE                 </td><td>P_FPP                </td></tr>\n",
       "</tbody>\n",
       "</table>\n"
      ],
      "text/latex": [
       "\\begin{tabular}{r|lllllll}\n",
       " index & donor\\_id & sample\\_id & time\\_point & pool\\_id & treatment & celltype\\\\\n",
       "\\hline\n",
       "\t CTCGTACCACAGACAG-1-4  & HPSI0414i-sebn\\_3    & 5245STDY7386987       & D11                   & pool3                 & NONE                  & P\\_FPP              \\\\\n",
       "\t CTGTGCTGTTCGCGAC-1-23 & HPSI1013i-hiaf\\_1    & 5245STDY7632694       & D11                   & pool6                 & NONE                  & P\\_FPP              \\\\\n",
       "\\end{tabular}\n"
      ],
      "text/markdown": [
       "\n",
       "| index | donor_id | sample_id | time_point | pool_id | treatment | celltype |\n",
       "|---|---|---|---|---|---|---|\n",
       "| CTCGTACCACAGACAG-1-4  | HPSI0414i-sebn_3      | 5245STDY7386987       | D11                   | pool3                 | NONE                  | P_FPP                 |\n",
       "| CTGTGCTGTTCGCGAC-1-23 | HPSI1013i-hiaf_1      | 5245STDY7632694       | D11                   | pool6                 | NONE                  | P_FPP                 |\n",
       "\n"
      ],
      "text/plain": [
       "  index                 donor_id         sample_id       time_point pool_id\n",
       "1 CTCGTACCACAGACAG-1-4  HPSI0414i-sebn_3 5245STDY7386987 D11        pool3  \n",
       "2 CTGTGCTGTTCGCGAC-1-23 HPSI1013i-hiaf_1 5245STDY7632694 D11        pool6  \n",
       "  treatment celltype\n",
       "1 NONE      P_FPP   \n",
       "2 NONE      P_FPP   "
      ]
     },
     "metadata": {},
     "output_type": "display_data"
    }
   ],
   "source": [
    "df$cluster_id <- c()\n",
    "df$n_counts_all <- c()\n",
    "head(df,2)"
   ]
  },
  {
   "cell_type": "code",
   "execution_count": 38,
   "metadata": {},
   "outputs": [],
   "source": [
    "all_file = \"/hps/nobackup/stegle/users/acuomo/all_scripts/sc_neuroseq/scanpy/neuroseq_metadata_allcells.txt\""
   ]
  },
  {
   "cell_type": "code",
   "execution_count": 41,
   "metadata": {},
   "outputs": [],
   "source": [
    "write.table(df,all_file, sep = \"\\t\", quote = F, row.names = F)"
   ]
  },
  {
   "cell_type": "code",
   "execution_count": null,
   "metadata": {},
   "outputs": [],
   "source": []
  }
 ],
 "metadata": {
  "kernelspec": {
   "display_name": "R",
   "language": "R",
   "name": "ir"
  },
  "language_info": {
   "codemirror_mode": "r",
   "file_extension": ".r",
   "mimetype": "text/x-r-source",
   "name": "R",
   "pygments_lexer": "r",
   "version": "3.6.1"
  }
 },
 "nbformat": 4,
 "nbformat_minor": 4
}
