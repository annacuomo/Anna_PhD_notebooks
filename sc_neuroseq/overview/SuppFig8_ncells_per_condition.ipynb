{
 "cells": [
  {
   "cell_type": "code",
   "execution_count": 4,
   "metadata": {},
   "outputs": [],
   "source": [
    "library(dplyr)\n",
    "library(ggplot2)"
   ]
  },
  {
   "cell_type": "code",
   "execution_count": 187,
   "metadata": {},
   "outputs": [],
   "source": [
    "col_FPP = \"#aec7e8\"\n",
    "col_P_FPP = \"#1f77b4\"\n",
    "col_NB = \"#ff7f0e\"\n",
    "\n",
    "col_DA = \"#2ca02c\"\n",
    "col_Sert = \"#98df8a\"\n",
    "col_Epen1 = \"#ff9896\"\n",
    "# col_Astro = \"#d62728\"\n",
    "col_Astro = \"#9467bd\""
   ]
  },
  {
   "cell_type": "code",
   "execution_count": null,
   "metadata": {},
   "outputs": [],
   "source": []
  },
  {
   "cell_type": "code",
   "execution_count": 188,
   "metadata": {},
   "outputs": [
    {
     "data": {
      "text/html": [
       "<table>\n",
       "<thead><tr><th scope=col>donor_id</th><th scope=col>diff_efficiency</th></tr></thead>\n",
       "<tbody>\n",
       "\t<tr><td>HPSI0114i-bezi_3</td><td>0.58269720      </td></tr>\n",
       "\t<tr><td>HPSI0114i-eipl_1</td><td>0.01287835      </td></tr>\n",
       "\t<tr><td>HPSI0114i-fikt_3</td><td>0.40282686      </td></tr>\n",
       "\t<tr><td>HPSI0114i-kolf_2</td><td>0.47059133      </td></tr>\n",
       "\t<tr><td>HPSI0114i-lexy_2</td><td>0.72690535      </td></tr>\n",
       "\t<tr><td>HPSI0114i-posc_1</td><td>0.81349206      </td></tr>\n",
       "</tbody>\n",
       "</table>\n"
      ],
      "text/latex": [
       "\\begin{tabular}{r|ll}\n",
       " donor\\_id & diff\\_efficiency\\\\\n",
       "\\hline\n",
       "\t HPSI0114i-bezi\\_3 & 0.58269720        \\\\\n",
       "\t HPSI0114i-eipl\\_1 & 0.01287835        \\\\\n",
       "\t HPSI0114i-fikt\\_3 & 0.40282686        \\\\\n",
       "\t HPSI0114i-kolf\\_2 & 0.47059133        \\\\\n",
       "\t HPSI0114i-lexy\\_2 & 0.72690535        \\\\\n",
       "\t HPSI0114i-posc\\_1 & 0.81349206        \\\\\n",
       "\\end{tabular}\n"
      ],
      "text/markdown": [
       "\n",
       "| donor_id | diff_efficiency |\n",
       "|---|---|\n",
       "| HPSI0114i-bezi_3 | 0.58269720       |\n",
       "| HPSI0114i-eipl_1 | 0.01287835       |\n",
       "| HPSI0114i-fikt_3 | 0.40282686       |\n",
       "| HPSI0114i-kolf_2 | 0.47059133       |\n",
       "| HPSI0114i-lexy_2 | 0.72690535       |\n",
       "| HPSI0114i-posc_1 | 0.81349206       |\n",
       "\n"
      ],
      "text/plain": [
       "  donor_id         diff_efficiency\n",
       "1 HPSI0114i-bezi_3 0.58269720     \n",
       "2 HPSI0114i-eipl_1 0.01287835     \n",
       "3 HPSI0114i-fikt_3 0.40282686     \n",
       "4 HPSI0114i-kolf_2 0.47059133     \n",
       "5 HPSI0114i-lexy_2 0.72690535     \n",
       "6 HPSI0114i-posc_1 0.81349206     "
      ]
     },
     "metadata": {},
     "output_type": "display_data"
    }
   ],
   "source": [
    "diff_df = read.csv('/nfs/leia/research/stegle/dseaton/hipsci/singlecell_neuroseq/data/data_processed/pool1_17_D52/pool1_17_D52.scanpy.w_metadata.w_celltype.scanpy.obs_df.groupedby.donor_id-pool_id-time_point.diff_efficiency_by_cell_line.tsv',sep='\\t')\n",
    "head(diff_df)"
   ]
  },
  {
   "cell_type": "code",
   "execution_count": 189,
   "metadata": {},
   "outputs": [
    {
     "data": {
      "text/html": [
       "52"
      ],
      "text/latex": [
       "52"
      ],
      "text/markdown": [
       "52"
      ],
      "text/plain": [
       "[1] 52"
      ]
     },
     "metadata": {},
     "output_type": "display_data"
    }
   ],
   "source": [
    "bad_donors = diff_df[diff_df$diff_efficiency < 0.2,\"donor_id\"]\n",
    "length(bad_donors)"
   ]
  },
  {
   "cell_type": "code",
   "execution_count": 190,
   "metadata": {},
   "outputs": [
    {
     "data": {
      "text/html": [
       "49"
      ],
      "text/latex": [
       "49"
      ],
      "text/markdown": [
       "49"
      ],
      "text/plain": [
       "[1] 49"
      ]
     },
     "metadata": {},
     "output_type": "display_data"
    }
   ],
   "source": [
    "good_donors = diff_df[diff_df$diff_efficiency > 0.75,\"donor_id\"]\n",
    "length(good_donors)"
   ]
  },
  {
   "cell_type": "code",
   "execution_count": null,
   "metadata": {},
   "outputs": [],
   "source": []
  },
  {
   "cell_type": "code",
   "execution_count": null,
   "metadata": {},
   "outputs": [],
   "source": []
  },
  {
   "cell_type": "code",
   "execution_count": 191,
   "metadata": {},
   "outputs": [
    {
     "data": {
      "text/html": [
       "<table>\n",
       "<thead><tr><th scope=col>donor_id</th><th scope=col>pool_id</th><th scope=col>time_point</th><th scope=col>celltype</th><th scope=col>n_cells</th><th scope=col>treatment</th></tr></thead>\n",
       "<tbody>\n",
       "\t<tr><td>HPSI0114i-eipl_1</td><td>pool1           </td><td>D11             </td><td>FPP             </td><td>1672            </td><td>NONE            </td></tr>\n",
       "\t<tr><td>HPSI0114i-eipl_1</td><td>pool1           </td><td>D11             </td><td>NB              </td><td> 228            </td><td>NONE            </td></tr>\n",
       "\t<tr><td>HPSI0114i-eipl_1</td><td>pool1           </td><td>D11             </td><td>P_FPP           </td><td>1217            </td><td>NONE            </td></tr>\n",
       "\t<tr><td>HPSI0114i-kolf_2</td><td>pool12          </td><td>D11             </td><td>FPP             </td><td> 334            </td><td>NONE            </td></tr>\n",
       "\t<tr><td>HPSI0114i-kolf_2</td><td>pool12          </td><td>D11             </td><td>NB              </td><td>  16            </td><td>NONE            </td></tr>\n",
       "\t<tr><td>HPSI0114i-kolf_2</td><td>pool12          </td><td>D11             </td><td>P_FPP           </td><td> 190            </td><td>NONE            </td></tr>\n",
       "</tbody>\n",
       "</table>\n"
      ],
      "text/latex": [
       "\\begin{tabular}{r|llllll}\n",
       " donor\\_id & pool\\_id & time\\_point & celltype & n\\_cells & treatment\\\\\n",
       "\\hline\n",
       "\t HPSI0114i-eipl\\_1 & pool1              & D11                & FPP                & 1672               & NONE              \\\\\n",
       "\t HPSI0114i-eipl\\_1 & pool1              & D11                & NB                 &  228               & NONE              \\\\\n",
       "\t HPSI0114i-eipl\\_1 & pool1              & D11                & P\\_FPP            & 1217               & NONE              \\\\\n",
       "\t HPSI0114i-kolf\\_2 & pool12             & D11                & FPP                &  334               & NONE              \\\\\n",
       "\t HPSI0114i-kolf\\_2 & pool12             & D11                & NB                 &   16               & NONE              \\\\\n",
       "\t HPSI0114i-kolf\\_2 & pool12             & D11                & P\\_FPP            &  190               & NONE              \\\\\n",
       "\\end{tabular}\n"
      ],
      "text/markdown": [
       "\n",
       "| donor_id | pool_id | time_point | celltype | n_cells | treatment |\n",
       "|---|---|---|---|---|---|\n",
       "| HPSI0114i-eipl_1 | pool1            | D11              | FPP              | 1672             | NONE             |\n",
       "| HPSI0114i-eipl_1 | pool1            | D11              | NB               |  228             | NONE             |\n",
       "| HPSI0114i-eipl_1 | pool1            | D11              | P_FPP            | 1217             | NONE             |\n",
       "| HPSI0114i-kolf_2 | pool12           | D11              | FPP              |  334             | NONE             |\n",
       "| HPSI0114i-kolf_2 | pool12           | D11              | NB               |   16             | NONE             |\n",
       "| HPSI0114i-kolf_2 | pool12           | D11              | P_FPP            |  190             | NONE             |\n",
       "\n"
      ],
      "text/plain": [
       "  donor_id         pool_id time_point celltype n_cells treatment\n",
       "1 HPSI0114i-eipl_1 pool1   D11        FPP      1672    NONE     \n",
       "2 HPSI0114i-eipl_1 pool1   D11        NB        228    NONE     \n",
       "3 HPSI0114i-eipl_1 pool1   D11        P_FPP    1217    NONE     \n",
       "4 HPSI0114i-kolf_2 pool12  D11        FPP       334    NONE     \n",
       "5 HPSI0114i-kolf_2 pool12  D11        NB         16    NONE     \n",
       "6 HPSI0114i-kolf_2 pool12  D11        P_FPP     190    NONE     "
      ]
     },
     "metadata": {},
     "output_type": "display_data"
    }
   ],
   "source": [
    "supp_tables_dir = \"/hps/nobackup/stegle/users/acuomo/all_scripts/sc_neuroseq/neuroseq_ms/supp_tables/\"\n",
    "filename = paste0(supp_tables_dir,\"SuppTable2_ncells_per_donor_pool_celltype_condition.csv\")\n",
    "df = read.csv(filename)\n",
    "head(df)"
   ]
  },
  {
   "cell_type": "code",
   "execution_count": 192,
   "metadata": {},
   "outputs": [
    {
     "data": {
      "text/html": [
       "<table>\n",
       "<thead><tr><th scope=col>celltype</th><th scope=col>time_point</th><th scope=col>tot_cells</th></tr></thead>\n",
       "<tbody>\n",
       "\t<tr><td>FPP   </td><td>D11   </td><td>136074</td></tr>\n",
       "\t<tr><td>P_FPP </td><td>D11   </td><td>107334</td></tr>\n",
       "</tbody>\n",
       "</table>\n"
      ],
      "text/latex": [
       "\\begin{tabular}{r|lll}\n",
       " celltype & time\\_point & tot\\_cells\\\\\n",
       "\\hline\n",
       "\t FPP    & D11    & 136074\\\\\n",
       "\t P\\_FPP & D11     & 107334 \\\\\n",
       "\\end{tabular}\n"
      ],
      "text/markdown": [
       "\n",
       "| celltype | time_point | tot_cells |\n",
       "|---|---|---|\n",
       "| FPP    | D11    | 136074 |\n",
       "| P_FPP  | D11    | 107334 |\n",
       "\n"
      ],
      "text/plain": [
       "  celltype time_point tot_cells\n",
       "1 FPP      D11        136074   \n",
       "2 P_FPP    D11        107334   "
      ]
     },
     "metadata": {},
     "output_type": "display_data"
    },
    {
     "data": {
      "text/html": [
       "<table>\n",
       "<thead><tr><th scope=col>celltype</th><th scope=col>time_point</th><th scope=col>tot_cells</th></tr></thead>\n",
       "<tbody>\n",
       "\t<tr><td>DA   </td><td>D30  </td><td>69007</td></tr>\n",
       "\t<tr><td>Epen1</td><td>D30  </td><td>28145</td></tr>\n",
       "\t<tr><td>FPP  </td><td>D30  </td><td>58109</td></tr>\n",
       "\t<tr><td>Sert </td><td>D30  </td><td>53774</td></tr>\n",
       "</tbody>\n",
       "</table>\n"
      ],
      "text/latex": [
       "\\begin{tabular}{r|lll}\n",
       " celltype & time\\_point & tot\\_cells\\\\\n",
       "\\hline\n",
       "\t DA    & D30   & 69007\\\\\n",
       "\t Epen1 & D30   & 28145\\\\\n",
       "\t FPP   & D30   & 58109\\\\\n",
       "\t Sert  & D30   & 53774\\\\\n",
       "\\end{tabular}\n"
      ],
      "text/markdown": [
       "\n",
       "| celltype | time_point | tot_cells |\n",
       "|---|---|---|\n",
       "| DA    | D30   | 69007 |\n",
       "| Epen1 | D30   | 28145 |\n",
       "| FPP   | D30   | 58109 |\n",
       "| Sert  | D30   | 53774 |\n",
       "\n"
      ],
      "text/plain": [
       "  celltype time_point tot_cells\n",
       "1 DA       D30        69007    \n",
       "2 Epen1    D30        28145    \n",
       "3 FPP      D30        58109    \n",
       "4 Sert     D30        53774    "
      ]
     },
     "metadata": {},
     "output_type": "display_data"
    },
    {
     "data": {
      "text/html": [
       "<table>\n",
       "<thead><tr><th scope=col>celltype</th><th scope=col>time_point</th><th scope=col>tot_cells</th></tr></thead>\n",
       "<tbody>\n",
       "\t<tr><td>Astro </td><td>D52   </td><td> 85451</td></tr>\n",
       "\t<tr><td>DA    </td><td>D52   </td><td> 79801</td></tr>\n",
       "\t<tr><td>Epen1 </td><td>D52   </td><td> 92147</td></tr>\n",
       "\t<tr><td>FPP   </td><td>D52   </td><td> 65718</td></tr>\n",
       "\t<tr><td>Sert  </td><td>D52   </td><td>130209</td></tr>\n",
       "</tbody>\n",
       "</table>\n"
      ],
      "text/latex": [
       "\\begin{tabular}{r|lll}\n",
       " celltype & time\\_point & tot\\_cells\\\\\n",
       "\\hline\n",
       "\t Astro  & D52    &  85451\\\\\n",
       "\t DA     & D52    &  79801\\\\\n",
       "\t Epen1  & D52    &  92147\\\\\n",
       "\t FPP    & D52    &  65718\\\\\n",
       "\t Sert   & D52    & 130209\\\\\n",
       "\\end{tabular}\n"
      ],
      "text/markdown": [
       "\n",
       "| celltype | time_point | tot_cells |\n",
       "|---|---|---|\n",
       "| Astro  | D52    |  85451 |\n",
       "| DA     | D52    |  79801 |\n",
       "| Epen1  | D52    |  92147 |\n",
       "| FPP    | D52    |  65718 |\n",
       "| Sert   | D52    | 130209 |\n",
       "\n"
      ],
      "text/plain": [
       "  celltype time_point tot_cells\n",
       "1 Astro    D52         85451   \n",
       "2 DA       D52         79801   \n",
       "3 Epen1    D52         92147   \n",
       "4 FPP      D52         65718   \n",
       "5 Sert     D52        130209   "
      ]
     },
     "metadata": {},
     "output_type": "display_data"
    }
   ],
   "source": [
    "df3 = df %>% group_by(celltype,time_point) %>% summarize(tot_cells = sum(n_cells))\n",
    "pct = 0.1\n",
    "n1 = sum(df3[df3$time_point == 'D11',\"tot_cells\"])*pct\n",
    "n2 = sum(df3[df3$time_point == 'D30',\"tot_cells\"])*pct\n",
    "n3 = sum(df3[df3$time_point == 'D52',\"tot_cells\"])*pct\n",
    "df3[df3$time_point == 'D11' & df3$tot_cells >n1,]\n",
    "df3[df3$time_point == 'D30' & df3$tot_cells >n2,]\n",
    "df3[df3$time_point == 'D52' & df3$tot_cells >n3,]"
   ]
  },
  {
   "cell_type": "code",
   "execution_count": 193,
   "metadata": {},
   "outputs": [
    {
     "data": {
      "text/html": [
       "<table>\n",
       "<thead><tr><th scope=col>celltype</th><th scope=col>time_point</th><th scope=col>treatment</th><th scope=col>tot_cells</th><th scope=col>cell_pop</th></tr></thead>\n",
       "<tbody>\n",
       "\t<tr><td>Astro         </td><td>D52           </td><td>NONE          </td><td>44059         </td><td>Astro_D52_NONE</td></tr>\n",
       "\t<tr><td>Astro         </td><td>D52           </td><td>ROT           </td><td>41392         </td><td>Astro_D52_ROT </td></tr>\n",
       "\t<tr><td>DA            </td><td>D30           </td><td>NONE          </td><td>69007         </td><td>DA_D30_NONE   </td></tr>\n",
       "\t<tr><td>DA            </td><td>D52           </td><td>NONE          </td><td>54331         </td><td>DA_D52_NONE   </td></tr>\n",
       "\t<tr><td>DA            </td><td>D52           </td><td>ROT           </td><td>25470         </td><td>DA_D52_ROT    </td></tr>\n",
       "\t<tr><td>Epen1         </td><td>D30           </td><td>NONE          </td><td>28145         </td><td>Epen1_D30_NONE</td></tr>\n",
       "</tbody>\n",
       "</table>\n"
      ],
      "text/latex": [
       "\\begin{tabular}{r|lllll}\n",
       " celltype & time\\_point & treatment & tot\\_cells & cell\\_pop\\\\\n",
       "\\hline\n",
       "\t Astro              & D52                & NONE               & 44059              & Astro\\_D52\\_NONE\\\\\n",
       "\t Astro              & D52                & ROT                & 41392              & Astro\\_D52\\_ROT \\\\\n",
       "\t DA                 & D30                & NONE               & 69007              & DA\\_D30\\_NONE   \\\\\n",
       "\t DA                 & D52                & NONE               & 54331              & DA\\_D52\\_NONE   \\\\\n",
       "\t DA                 & D52                & ROT                & 25470              & DA\\_D52\\_ROT    \\\\\n",
       "\t Epen1              & D30                & NONE               & 28145              & Epen1\\_D30\\_NONE\\\\\n",
       "\\end{tabular}\n"
      ],
      "text/markdown": [
       "\n",
       "| celltype | time_point | treatment | tot_cells | cell_pop |\n",
       "|---|---|---|---|---|\n",
       "| Astro          | D52            | NONE           | 44059          | Astro_D52_NONE |\n",
       "| Astro          | D52            | ROT            | 41392          | Astro_D52_ROT  |\n",
       "| DA             | D30            | NONE           | 69007          | DA_D30_NONE    |\n",
       "| DA             | D52            | NONE           | 54331          | DA_D52_NONE    |\n",
       "| DA             | D52            | ROT            | 25470          | DA_D52_ROT     |\n",
       "| Epen1          | D30            | NONE           | 28145          | Epen1_D30_NONE |\n",
       "\n"
      ],
      "text/plain": [
       "  celltype time_point treatment tot_cells cell_pop      \n",
       "1 Astro    D52        NONE      44059     Astro_D52_NONE\n",
       "2 Astro    D52        ROT       41392     Astro_D52_ROT \n",
       "3 DA       D30        NONE      69007     DA_D30_NONE   \n",
       "4 DA       D52        NONE      54331     DA_D52_NONE   \n",
       "5 DA       D52        ROT       25470     DA_D52_ROT    \n",
       "6 Epen1    D30        NONE      28145     Epen1_D30_NONE"
      ]
     },
     "metadata": {},
     "output_type": "display_data"
    }
   ],
   "source": [
    "df0 = df %>% group_by(celltype,time_point,treatment) %>% summarize(tot_cells = sum(n_cells))\n",
    "df0$cell_pop = paste0(df0$celltype,\"_\",df0$time_point,\"_\",df0$treatment)\n",
    "head(df0)"
   ]
  },
  {
   "cell_type": "code",
   "execution_count": 194,
   "metadata": {},
   "outputs": [],
   "source": [
    "df0 = df0[df0$cell_pop %in% c(\"FPP_D11_NONE\",\"P_FPP_D11_NONE\",\n",
    "                            \"FPP_D30_NONE\",\"DA_D30_NONE\",\"Sert_D30_NONE\",\"Epen1_D30_NONE\",\n",
    "                            \"DA_D52_NONE\",\"Sert_D52_NONE\",\"Epen1_D52_NONE\",\"Astro_D52_NONE\",\n",
    "                             \"DA_D52_ROT\",\"Sert_D52_ROT\",\"Epen1_D52_ROT\",\"Astro_D52_ROT\"),]"
   ]
  },
  {
   "cell_type": "code",
   "execution_count": 195,
   "metadata": {},
   "outputs": [],
   "source": [
    "df0 = df0 %>% mutate(cell_pop = factor(cell_pop, levels=c(\"FPP_D11_NONE\",\"P_FPP_D11_NONE\",\n",
    "                                    \"FPP_D30_NONE\",\"DA_D30_NONE\",\"Sert_D30_NONE\",\"Epen1_D30_NONE\",\n",
    "                                   \"DA_D52_NONE\",\"Sert_D52_NONE\",\"Epen1_D52_NONE\",\"Astro_D52_NONE\",\n",
    "                                    \"DA_D52_ROT\",\"Sert_D52_ROT\",\"Epen1_D52_ROT\",\"Astro_D52_ROT\")))"
   ]
  },
  {
   "cell_type": "code",
   "execution_count": 196,
   "metadata": {},
   "outputs": [
    {
     "data": {
      "image/png": "[encoded data removed]",
      "text/plain": [
       "plot without title"
      ]
     },
     "metadata": {},
     "output_type": "display_data"
    }
   ],
   "source": [
    "options(repr.plot.width=6, repr.plot.height=4)\n",
    "df0 %>% ggplot(aes(x=cell_pop, y = tot_cells, fill = cell_pop)) + ggtitle(\"all iPSC lines, n = 215\") + \n",
    "    geom_bar(stat = \"identity\", width = 0.8) + \n",
    "    scale_fill_manual(values = c(col_FPP,col_P_FPP,\n",
    "                            col_FPP,col_DA,col_Sert,col_Epen1,\n",
    "                            col_DA,col_Sert,col_Epen1,col_Astro,\n",
    "                            col_DA,col_Sert,col_Epen1,col_Astro))+ theme_bw() + \n",
    "    theme(legend.position = \"none\",axis.text.x = element_text(angle = 90, hjust = 1, size = 8))"
   ]
  },
  {
   "cell_type": "code",
   "execution_count": 197,
   "metadata": {},
   "outputs": [],
   "source": [
    "df1 = df[df$donor_id %in% bad_donors,] %>% \n",
    "    group_by(celltype,time_point,treatment) %>% summarize(tot_cells = sum(n_cells))\n",
    "df1$cell_pop = paste0(df1$celltype,\"_\",df1$time_point,\"_\",df1$treatment)\n",
    "df1 = df1[df1$cell_pop %in% df0$cell_pop,]"
   ]
  },
  {
   "cell_type": "code",
   "execution_count": 198,
   "metadata": {},
   "outputs": [],
   "source": [
    "df1 = df1 %>% mutate(cell_pop = factor(cell_pop, levels=c(\"FPP_D11_NONE\",\"P_FPP_D11_NONE\",\n",
    "                                    \"FPP_D30_NONE\",\"DA_D30_NONE\",\"Sert_D30_NONE\",\"Epen1_D30_NONE\",\n",
    "                                   \"DA_D52_NONE\",\"Sert_D52_NONE\",\"Epen1_D52_NONE\",\"Astro_D52_NONE\",\n",
    "                                    \"DA_D52_ROT\",\"Sert_D52_ROT\",\"Epen1_D52_ROT\",\"Astro_D52_ROT\")))"
   ]
  },
  {
   "cell_type": "code",
   "execution_count": 199,
   "metadata": {},
   "outputs": [
    {
     "data": {
      "image/png": "[encoded data removed]",
      "text/plain": [
       "plot without title"
      ]
     },
     "metadata": {},
     "output_type": "display_data"
    }
   ],
   "source": [
    "options(repr.plot.width=6, repr.plot.height=4)\n",
    "df1 %>% ggplot(aes(x=cell_pop, y = tot_cells, fill = cell_pop)) + ggtitle(\"bad donors, n = 52\") +\n",
    "    geom_bar(stat = \"identity\", width = 0.8) + coord_cartesian(ylim = c(0, 46000)) +\n",
    "    scale_fill_manual(values = c(col_FPP,col_P_FPP,\n",
    "                            col_FPP,col_DA,col_Sert,col_Epen1,\n",
    "                            col_DA,col_Sert,col_Epen1,col_Astro,\n",
    "                            col_DA,col_Sert,col_Epen1,col_Astro))+ \n",
    "    theme_bw() + theme(legend.position = \"none\",axis.text.x = element_text(angle = 90, hjust = 1, size = 8))"
   ]
  },
  {
   "cell_type": "code",
   "execution_count": 200,
   "metadata": {},
   "outputs": [],
   "source": [
    "df2 = df[df$donor_id %in% good_donors,] %>% \n",
    "    group_by(celltype,time_point,treatment) %>% summarize(tot_cells = sum(n_cells))\n",
    "df2$cell_pop = paste0(df2$celltype,\"_\",df2$time_point,\"_\",df2$treatment)\n",
    "df2 = df2[df2$cell_pop %in% df0$cell_pop,]"
   ]
  },
  {
   "cell_type": "code",
   "execution_count": 201,
   "metadata": {},
   "outputs": [],
   "source": [
    "df2 = df2 %>% mutate(cell_pop = factor(cell_pop, levels=c(\"FPP_D11_NONE\",\"P_FPP_D11_NONE\",\n",
    "                                    \"FPP_D30_NONE\",\"DA_D30_NONE\",\"Sert_D30_NONE\",\"Epen1_D30_NONE\",\n",
    "                                   \"DA_D52_NONE\",\"Sert_D52_NONE\",\"Epen1_D52_NONE\",\"Astro_D52_NONE\",\n",
    "                                    \"DA_D52_ROT\",\"Sert_D52_ROT\",\"Epen1_D52_ROT\",\"Astro_D52_ROT\")))"
   ]
  },
  {
   "cell_type": "code",
   "execution_count": 202,
   "metadata": {},
   "outputs": [
    {
     "data": {
      "image/png": "[encoded data removed]",
      "text/plain": [
       "plot without title"
      ]
     },
     "metadata": {},
     "output_type": "display_data"
    }
   ],
   "source": [
    "options(repr.plot.width=6, repr.plot.height=4)\n",
    "df2 %>% ggplot(aes(x=cell_pop, y = tot_cells, fill = cell_pop)) + ggtitle(\"good donors, n = 49\") + \n",
    "    geom_bar(stat = \"identity\", width = 0.8) + coord_cartesian(ylim = c(0, 46000)) +\n",
    "    scale_fill_manual(values = c(col_FPP,col_P_FPP,\n",
    "                            col_FPP,col_DA,col_Sert,col_Epen1,\n",
    "                            col_DA,col_Sert,col_Epen1,col_Astro,\n",
    "                            col_DA,col_Sert,col_Epen1,col_Astro))+ \n",
    "    theme_bw() + theme(legend.position = \"none\",axis.text.x = element_text(angle = 90, hjust = 1, size = 8))"
   ]
  },
  {
   "cell_type": "code",
   "execution_count": null,
   "metadata": {},
   "outputs": [],
   "source": []
  },
  {
   "cell_type": "code",
   "execution_count": null,
   "metadata": {},
   "outputs": [],
   "source": []
  },
  {
   "cell_type": "code",
   "execution_count": 174,
   "metadata": {},
   "outputs": [
    {
     "data": {
      "text/html": [
       "<table>\n",
       "<thead><tr><th scope=col>donor_id</th><th scope=col>pool_id</th><th scope=col>time_point</th><th scope=col>celltype</th><th scope=col>n_cells</th><th scope=col>treatment</th></tr></thead>\n",
       "<tbody>\n",
       "\t<tr><td>HPSI0114i-eipl_1</td><td>pool1           </td><td>D11             </td><td>FPP             </td><td>1672            </td><td>NONE            </td></tr>\n",
       "\t<tr><td>HPSI0114i-eipl_1</td><td>pool1           </td><td>D11             </td><td>NB              </td><td> 228            </td><td>NONE            </td></tr>\n",
       "\t<tr><td>HPSI0114i-eipl_1</td><td>pool1           </td><td>D11             </td><td>P_FPP           </td><td>1217            </td><td>NONE            </td></tr>\n",
       "\t<tr><td>HPSI0114i-kolf_2</td><td>pool12          </td><td>D11             </td><td>FPP             </td><td> 334            </td><td>NONE            </td></tr>\n",
       "\t<tr><td>HPSI0114i-kolf_2</td><td>pool12          </td><td>D11             </td><td>NB              </td><td>  16            </td><td>NONE            </td></tr>\n",
       "\t<tr><td>HPSI0114i-kolf_2</td><td>pool12          </td><td>D11             </td><td>P_FPP           </td><td> 190            </td><td>NONE            </td></tr>\n",
       "</tbody>\n",
       "</table>\n"
      ],
      "text/latex": [
       "\\begin{tabular}{r|llllll}\n",
       " donor\\_id & pool\\_id & time\\_point & celltype & n\\_cells & treatment\\\\\n",
       "\\hline\n",
       "\t HPSI0114i-eipl\\_1 & pool1              & D11                & FPP                & 1672               & NONE              \\\\\n",
       "\t HPSI0114i-eipl\\_1 & pool1              & D11                & NB                 &  228               & NONE              \\\\\n",
       "\t HPSI0114i-eipl\\_1 & pool1              & D11                & P\\_FPP            & 1217               & NONE              \\\\\n",
       "\t HPSI0114i-kolf\\_2 & pool12             & D11                & FPP                &  334               & NONE              \\\\\n",
       "\t HPSI0114i-kolf\\_2 & pool12             & D11                & NB                 &   16               & NONE              \\\\\n",
       "\t HPSI0114i-kolf\\_2 & pool12             & D11                & P\\_FPP            &  190               & NONE              \\\\\n",
       "\\end{tabular}\n"
      ],
      "text/markdown": [
       "\n",
       "| donor_id | pool_id | time_point | celltype | n_cells | treatment |\n",
       "|---|---|---|---|---|---|\n",
       "| HPSI0114i-eipl_1 | pool1            | D11              | FPP              | 1672             | NONE             |\n",
       "| HPSI0114i-eipl_1 | pool1            | D11              | NB               |  228             | NONE             |\n",
       "| HPSI0114i-eipl_1 | pool1            | D11              | P_FPP            | 1217             | NONE             |\n",
       "| HPSI0114i-kolf_2 | pool12           | D11              | FPP              |  334             | NONE             |\n",
       "| HPSI0114i-kolf_2 | pool12           | D11              | NB               |   16             | NONE             |\n",
       "| HPSI0114i-kolf_2 | pool12           | D11              | P_FPP            |  190             | NONE             |\n",
       "\n"
      ],
      "text/plain": [
       "  donor_id         pool_id time_point celltype n_cells treatment\n",
       "1 HPSI0114i-eipl_1 pool1   D11        FPP      1672    NONE     \n",
       "2 HPSI0114i-eipl_1 pool1   D11        NB        228    NONE     \n",
       "3 HPSI0114i-eipl_1 pool1   D11        P_FPP    1217    NONE     \n",
       "4 HPSI0114i-kolf_2 pool12  D11        FPP       334    NONE     \n",
       "5 HPSI0114i-kolf_2 pool12  D11        NB         16    NONE     \n",
       "6 HPSI0114i-kolf_2 pool12  D11        P_FPP     190    NONE     "
      ]
     },
     "metadata": {},
     "output_type": "display_data"
    }
   ],
   "source": [
    "supp_tables_dir = \"/hps/nobackup/stegle/users/acuomo/all_scripts/sc_neuroseq/neuroseq_ms/supp_tables/\"\n",
    "filename = paste0(supp_tables_dir,\"SuppTable2_ncells_per_donor_pool_celltype_condition.csv\")\n",
    "df = read.csv(filename)\n",
    "head(df)"
   ]
  },
  {
   "cell_type": "code",
   "execution_count": 175,
   "metadata": {},
   "outputs": [],
   "source": [
    "df0 = df %>% group_by(celltype,time_point,treatment) %>% summarize(tot_cells = sum(n_cells))\n",
    "df0 = df0[df0$tot_cells >25000,]\n",
    "df0$cell_pop = paste0(df0$celltype,\"_\",df0$time_point,\"_\",df0$treatment)"
   ]
  },
  {
   "cell_type": "code",
   "execution_count": 176,
   "metadata": {},
   "outputs": [],
   "source": [
    "df0 = df0 %>% mutate(cell_pop = factor(cell_pop, levels=c(\"FPP_D11_NONE\",\"P_FPP_D11_NONE\",\n",
    "                                    \"FPP_D30_NONE\",\"DA_D30_NONE\",\"Sert_D30_NONE\",\"Epen1_D30_NONE\",\n",
    "                                    \"FPP_D52_NONE\",\"DA_D52_NONE\",\"Sert_D52_NONE\",\"Epen1_D52_NONE\",\"Astro_D52_NONE\",\n",
    "                                    \"FPP_D52_ROT\",\"DA_D52_ROT\",\"Sert_D52_ROT\",\"Epen1_D52_ROT\",\"Astro_D52_ROT\")))"
   ]
  },
  {
   "cell_type": "code",
   "execution_count": null,
   "metadata": {},
   "outputs": [],
   "source": []
  },
  {
   "cell_type": "code",
   "execution_count": 177,
   "metadata": {},
   "outputs": [
    {
     "data": {
      "text/html": [
       "215"
      ],
      "text/latex": [
       "215"
      ],
      "text/markdown": [
       "215"
      ],
      "text/plain": [
       "[1] 215"
      ]
     },
     "metadata": {},
     "output_type": "display_data"
    }
   ],
   "source": [
    "length(unique(df$donor_id))"
   ]
  },
  {
   "cell_type": "code",
   "execution_count": 178,
   "metadata": {
    "scrolled": false
   },
   "outputs": [
    {
     "data": {
      "image/png": "[encoded data removed]",
      "text/plain": [
       "plot without title"
      ]
     },
     "metadata": {},
     "output_type": "display_data"
    }
   ],
   "source": [
    "options(repr.plot.width=6, repr.plot.height=4)\n",
    "df0 %>% ggplot(aes(x=cell_pop, y = tot_cells, fill = cell_pop)) + ggtitle(\"all donors, n = 215\") + \n",
    "    geom_bar(stat = \"identity\", width = 0.8) + \n",
    "    scale_fill_manual(values = c(col_FPP,col_P_FPP,\n",
    "                            col_FPP,col_DA,col_Sert,col_Epen1,\n",
    "                            col_FPP,col_DA,col_Sert,col_Epen1,col_Astro,\n",
    "                            col_FPP,col_DA,col_Sert,col_Epen1,col_Astro))+ theme_bw() + \n",
    "    theme(legend.position = \"none\",axis.text.x = element_text(angle = 90, hjust = 1, size = 8))"
   ]
  },
  {
   "cell_type": "code",
   "execution_count": null,
   "metadata": {},
   "outputs": [],
   "source": []
  },
  {
   "cell_type": "code",
   "execution_count": 179,
   "metadata": {},
   "outputs": [],
   "source": [
    "df1 = df[df$donor_id %in% bad_donors,] %>% \n",
    "    group_by(celltype,time_point,treatment) %>% summarize(tot_cells = sum(n_cells))\n",
    "df1$cell_pop = paste0(df1$celltype,\"_\",df1$time_point,\"_\",df1$treatment)\n",
    "df1 = df1[df1$cell_pop %in% df0$cell_pop,]"
   ]
  },
  {
   "cell_type": "code",
   "execution_count": 180,
   "metadata": {},
   "outputs": [],
   "source": [
    "df1 = df1 %>% mutate(cell_pop = factor(cell_pop, levels=c(\"FPP_D11_NONE\",\"P_FPP_D11_NONE\",\n",
    "                                    \"FPP_D30_NONE\",\"DA_D30_NONE\",\"Sert_D30_NONE\",\"Epen1_D30_NONE\",\n",
    "                                    \"FPP_D52_NONE\",\"DA_D52_NONE\",\"Sert_D52_NONE\",\"Epen1_D52_NONE\",\"Astro_D52_NONE\",\n",
    "                                    \"FPP_D52_ROT\",\"DA_D52_ROT\",\"Sert_D52_ROT\",\"Epen1_D52_ROT\",\"Astro_D52_ROT\")))"
   ]
  },
  {
   "cell_type": "code",
   "execution_count": 181,
   "metadata": {},
   "outputs": [
    {
     "data": {
      "image/png": "[encoded data removed]",
      "text/plain": [
       "plot without title"
      ]
     },
     "metadata": {},
     "output_type": "display_data"
    }
   ],
   "source": [
    "options(repr.plot.width=6, repr.plot.height=4)\n",
    "df1 %>% ggplot(aes(x=cell_pop, y = tot_cells, fill = cell_pop)) + ggtitle(\"bad donors, n = 52\") +\n",
    "    geom_bar(stat = \"identity\", width = 0.8) + coord_cartesian(ylim = c(0, 46000)) +\n",
    "    scale_fill_manual(values = c(col_FPP,col_P_FPP,\n",
    "                            col_FPP,col_DA,col_Sert,col_Epen1,\n",
    "                            col_FPP,col_DA,col_Sert,col_Epen1,col_Astro,\n",
    "                            col_FPP,col_DA,col_Sert,col_Epen1,col_Astro))+ \n",
    "    theme_bw() + theme(legend.position = \"none\",axis.text.x = element_text(angle = 90, hjust = 1, size = 8))"
   ]
  },
  {
   "cell_type": "code",
   "execution_count": 182,
   "metadata": {},
   "outputs": [],
   "source": [
    "df2 = df[df$donor_id %in% good_donors,] %>% \n",
    "    group_by(celltype,time_point,treatment) %>% summarize(tot_cells = sum(n_cells))\n",
    "df2$cell_pop = paste0(df2$celltype,\"_\",df2$time_point,\"_\",df2$treatment)\n",
    "df2 = df2[df2$cell_pop %in% df0$cell_pop,]"
   ]
  },
  {
   "cell_type": "code",
   "execution_count": 183,
   "metadata": {},
   "outputs": [],
   "source": [
    "df2 = df2 %>% mutate(cell_pop = factor(cell_pop, levels=c(\"FPP_D11_NONE\",\"P_FPP_D11_NONE\",\n",
    "                                    \"FPP_D30_NONE\",\"DA_D30_NONE\",\"Sert_D30_NONE\",\"Epen1_D30_NONE\",\n",
    "                                    \"FPP_D52_NONE\",\"DA_D52_NONE\",\"Sert_D52_NONE\",\"Epen1_D52_NONE\",\"Astro_D52_NONE\",\n",
    "                                    \"FPP_D52_ROT\",\"DA_D52_ROT\",\"Sert_D52_ROT\",\"Epen1_D52_ROT\",\"Astro_D52_ROT\")))"
   ]
  },
  {
   "cell_type": "code",
   "execution_count": 184,
   "metadata": {},
   "outputs": [
    {
     "data": {
      "image/png": "[encoded data removed]",
      "text/plain": [
       "plot without title"
      ]
     },
     "metadata": {},
     "output_type": "display_data"
    }
   ],
   "source": [
    "options(repr.plot.width=6, repr.plot.height=4)\n",
    "df2 %>% ggplot(aes(x=cell_pop, y = tot_cells, fill = cell_pop)) + ggtitle(\"good donors, n = 49\") + \n",
    "    geom_bar(stat = \"identity\", width = 0.8) + coord_cartesian(ylim = c(0, 46000)) +\n",
    "    scale_fill_manual(values = c(col_FPP,col_P_FPP,\n",
    "                            col_FPP,col_DA,col_Sert,col_Epen1,\n",
    "                            col_FPP,col_DA,col_Sert,col_Epen1,col_Astro,\n",
    "                            col_FPP,col_DA,col_Sert,col_Epen1,col_Astro))+ \n",
    "    theme_bw() + theme(legend.position = \"none\",axis.text.x = element_text(angle = 90, hjust = 1, size = 8))"
   ]
  },
  {
   "cell_type": "code",
   "execution_count": null,
   "metadata": {},
   "outputs": [],
   "source": []
  },
  {
   "cell_type": "code",
   "execution_count": null,
   "metadata": {},
   "outputs": [],
   "source": []
  },
  {
   "cell_type": "code",
   "execution_count": 40,
   "metadata": {},
   "outputs": [],
   "source": [
    "## Define \"main\"/\"most represented\" cell types"
   ]
  },
  {
   "cell_type": "code",
   "execution_count": 41,
   "metadata": {},
   "outputs": [
    {
     "data": {
      "text/html": [
       "<table>\n",
       "<thead><tr><th scope=col>donor_id</th><th scope=col>pool_id</th><th scope=col>time_point</th><th scope=col>celltype</th><th scope=col>n_cells</th><th scope=col>treatment</th></tr></thead>\n",
       "<tbody>\n",
       "\t<tr><td>HPSI0114i-eipl_1</td><td>pool1           </td><td>D11             </td><td>FPP             </td><td>1672            </td><td>NONE            </td></tr>\n",
       "\t<tr><td>HPSI0114i-eipl_1</td><td>pool1           </td><td>D11             </td><td>NB              </td><td> 228            </td><td>NONE            </td></tr>\n",
       "\t<tr><td>HPSI0114i-eipl_1</td><td>pool1           </td><td>D11             </td><td>P_FPP           </td><td>1217            </td><td>NONE            </td></tr>\n",
       "\t<tr><td>HPSI0114i-kolf_2</td><td>pool12          </td><td>D11             </td><td>FPP             </td><td> 334            </td><td>NONE            </td></tr>\n",
       "\t<tr><td>HPSI0114i-kolf_2</td><td>pool12          </td><td>D11             </td><td>NB              </td><td>  16            </td><td>NONE            </td></tr>\n",
       "\t<tr><td>HPSI0114i-kolf_2</td><td>pool12          </td><td>D11             </td><td>P_FPP           </td><td> 190            </td><td>NONE            </td></tr>\n",
       "</tbody>\n",
       "</table>\n"
      ],
      "text/latex": [
       "\\begin{tabular}{r|llllll}\n",
       " donor\\_id & pool\\_id & time\\_point & celltype & n\\_cells & treatment\\\\\n",
       "\\hline\n",
       "\t HPSI0114i-eipl\\_1 & pool1              & D11                & FPP                & 1672               & NONE              \\\\\n",
       "\t HPSI0114i-eipl\\_1 & pool1              & D11                & NB                 &  228               & NONE              \\\\\n",
       "\t HPSI0114i-eipl\\_1 & pool1              & D11                & P\\_FPP            & 1217               & NONE              \\\\\n",
       "\t HPSI0114i-kolf\\_2 & pool12             & D11                & FPP                &  334               & NONE              \\\\\n",
       "\t HPSI0114i-kolf\\_2 & pool12             & D11                & NB                 &   16               & NONE              \\\\\n",
       "\t HPSI0114i-kolf\\_2 & pool12             & D11                & P\\_FPP            &  190               & NONE              \\\\\n",
       "\\end{tabular}\n"
      ],
      "text/markdown": [
       "\n",
       "| donor_id | pool_id | time_point | celltype | n_cells | treatment |\n",
       "|---|---|---|---|---|---|\n",
       "| HPSI0114i-eipl_1 | pool1            | D11              | FPP              | 1672             | NONE             |\n",
       "| HPSI0114i-eipl_1 | pool1            | D11              | NB               |  228             | NONE             |\n",
       "| HPSI0114i-eipl_1 | pool1            | D11              | P_FPP            | 1217             | NONE             |\n",
       "| HPSI0114i-kolf_2 | pool12           | D11              | FPP              |  334             | NONE             |\n",
       "| HPSI0114i-kolf_2 | pool12           | D11              | NB               |   16             | NONE             |\n",
       "| HPSI0114i-kolf_2 | pool12           | D11              | P_FPP            |  190             | NONE             |\n",
       "\n"
      ],
      "text/plain": [
       "  donor_id         pool_id time_point celltype n_cells treatment\n",
       "1 HPSI0114i-eipl_1 pool1   D11        FPP      1672    NONE     \n",
       "2 HPSI0114i-eipl_1 pool1   D11        NB        228    NONE     \n",
       "3 HPSI0114i-eipl_1 pool1   D11        P_FPP    1217    NONE     \n",
       "4 HPSI0114i-kolf_2 pool12  D11        FPP       334    NONE     \n",
       "5 HPSI0114i-kolf_2 pool12  D11        NB         16    NONE     \n",
       "6 HPSI0114i-kolf_2 pool12  D11        P_FPP     190    NONE     "
      ]
     },
     "metadata": {},
     "output_type": "display_data"
    }
   ],
   "source": [
    "supp_tables_dir = \"/hps/nobackup/stegle/users/acuomo/all_scripts/sc_neuroseq/neuroseq_ms/supp_tables/\"\n",
    "filename = paste0(supp_tables_dir,\"SuppTable2_ncells_per_donor_pool_celltype_condition.csv\")\n",
    "df = read.csv(filename)\n",
    "head(df)"
   ]
  },
  {
   "cell_type": "code",
   "execution_count": null,
   "metadata": {},
   "outputs": [],
   "source": [
    "# numbers of cells"
   ]
  },
  {
   "cell_type": "code",
   "execution_count": 145,
   "metadata": {},
   "outputs": [],
   "source": [
    "df2 = df %>% group_by(celltype,time_point,treatment) %>% summarize(tot_cells = sum(n_cells))"
   ]
  },
  {
   "cell_type": "code",
   "execution_count": 171,
   "metadata": {},
   "outputs": [],
   "source": [
    "n = 0.03"
   ]
  },
  {
   "cell_type": "code",
   "execution_count": 172,
   "metadata": {},
   "outputs": [
    {
     "data": {
      "text/html": [
       "<table>\n",
       "<thead><tr><th scope=col>celltype</th><th scope=col>time_point</th><th scope=col>treatment</th><th scope=col>tot_cells</th><th scope=col>fract</th></tr></thead>\n",
       "<tbody>\n",
       "\t<tr><td>FPP      </td><td>D11      </td><td>NONE     </td><td>136074   </td><td>0.5370332</td></tr>\n",
       "\t<tr><td>NB       </td><td>D11      </td><td>NONE     </td><td>  9973   </td><td>0.0393597</td></tr>\n",
       "\t<tr><td>P_FPP    </td><td>D11      </td><td>NONE     </td><td>107334   </td><td>0.4236071</td></tr>\n",
       "</tbody>\n",
       "</table>\n"
      ],
      "text/latex": [
       "\\begin{tabular}{r|lllll}\n",
       " celltype & time\\_point & treatment & tot\\_cells & fract\\\\\n",
       "\\hline\n",
       "\t FPP       & D11       & NONE      & 136074    & 0.5370332\\\\\n",
       "\t NB        & D11       & NONE      &   9973    & 0.0393597\\\\\n",
       "\t P\\_FPP   & D11       & NONE      & 107334    & 0.4236071\\\\\n",
       "\\end{tabular}\n"
      ],
      "text/markdown": [
       "\n",
       "| celltype | time_point | treatment | tot_cells | fract |\n",
       "|---|---|---|---|---|\n",
       "| FPP       | D11       | NONE      | 136074    | 0.5370332 |\n",
       "| NB        | D11       | NONE      |   9973    | 0.0393597 |\n",
       "| P_FPP     | D11       | NONE      | 107334    | 0.4236071 |\n",
       "\n"
      ],
      "text/plain": [
       "  celltype time_point treatment tot_cells fract    \n",
       "1 FPP      D11        NONE      136074    0.5370332\n",
       "2 NB       D11        NONE        9973    0.0393597\n",
       "3 P_FPP    D11        NONE      107334    0.4236071"
      ]
     },
     "metadata": {},
     "output_type": "display_data"
    }
   ],
   "source": [
    "df3 = df2[df2$time_point == 'D11',]\n",
    "df3$fract = df3$tot_cells/sum(df3$tot_cells)\n",
    "df3[df3$fract > n,]"
   ]
  },
  {
   "cell_type": "code",
   "execution_count": 173,
   "metadata": {},
   "outputs": [
    {
     "data": {
      "text/html": [
       "<table>\n",
       "<thead><tr><th scope=col>celltype</th><th scope=col>time_point</th><th scope=col>treatment</th><th scope=col>tot_cells</th><th scope=col>fract</th></tr></thead>\n",
       "<tbody>\n",
       "\t<tr><td>DA        </td><td>D30       </td><td>NONE      </td><td>69007     </td><td>0.27501265</td></tr>\n",
       "\t<tr><td>Epen1     </td><td>D30       </td><td>NONE      </td><td>28145     </td><td>0.11216588</td></tr>\n",
       "\t<tr><td>FPP       </td><td>D30       </td><td>NONE      </td><td>58109     </td><td>0.23158100</td></tr>\n",
       "\t<tr><td>P_FPP     </td><td>D30       </td><td>NONE      </td><td>18988     </td><td>0.07567262</td></tr>\n",
       "\t<tr><td>Sert      </td><td>D30       </td><td>NONE      </td><td>53774     </td><td>0.21430479</td></tr>\n",
       "\t<tr><td>U_Neur1   </td><td>D30       </td><td>NONE      </td><td>21268     </td><td>0.08475907</td></tr>\n",
       "</tbody>\n",
       "</table>\n"
      ],
      "text/latex": [
       "\\begin{tabular}{r|lllll}\n",
       " celltype & time\\_point & treatment & tot\\_cells & fract\\\\\n",
       "\\hline\n",
       "\t DA         & D30        & NONE       & 69007      & 0.27501265\\\\\n",
       "\t Epen1      & D30        & NONE       & 28145      & 0.11216588\\\\\n",
       "\t FPP        & D30        & NONE       & 58109      & 0.23158100\\\\\n",
       "\t P\\_FPP    & D30        & NONE       & 18988      & 0.07567262\\\\\n",
       "\t Sert       & D30        & NONE       & 53774      & 0.21430479\\\\\n",
       "\t U\\_Neur1  & D30        & NONE       & 21268      & 0.08475907\\\\\n",
       "\\end{tabular}\n"
      ],
      "text/markdown": [
       "\n",
       "| celltype | time_point | treatment | tot_cells | fract |\n",
       "|---|---|---|---|---|\n",
       "| DA         | D30        | NONE       | 69007      | 0.27501265 |\n",
       "| Epen1      | D30        | NONE       | 28145      | 0.11216588 |\n",
       "| FPP        | D30        | NONE       | 58109      | 0.23158100 |\n",
       "| P_FPP      | D30        | NONE       | 18988      | 0.07567262 |\n",
       "| Sert       | D30        | NONE       | 53774      | 0.21430479 |\n",
       "| U_Neur1    | D30        | NONE       | 21268      | 0.08475907 |\n",
       "\n"
      ],
      "text/plain": [
       "  celltype time_point treatment tot_cells fract     \n",
       "1 DA       D30        NONE      69007     0.27501265\n",
       "2 Epen1    D30        NONE      28145     0.11216588\n",
       "3 FPP      D30        NONE      58109     0.23158100\n",
       "4 P_FPP    D30        NONE      18988     0.07567262\n",
       "5 Sert     D30        NONE      53774     0.21430479\n",
       "6 U_Neur1  D30        NONE      21268     0.08475907"
      ]
     },
     "metadata": {},
     "output_type": "display_data"
    }
   ],
   "source": [
    "df3 = df2[df2$time_point == 'D30',]\n",
    "df3$fract = df3$tot_cells/sum(df3$tot_cells)\n",
    "df3[df3$fract > n,]"
   ]
  },
  {
   "cell_type": "code",
   "execution_count": 174,
   "metadata": {},
   "outputs": [
    {
     "data": {
      "text/html": [
       "<table>\n",
       "<thead><tr><th scope=col>celltype</th><th scope=col>time_point</th><th scope=col>treatment</th><th scope=col>tot_cells</th><th scope=col>fract</th></tr></thead>\n",
       "<tbody>\n",
       "\t<tr><td>Astro     </td><td>D52       </td><td>NONE      </td><td>44059     </td><td>0.14499961</td></tr>\n",
       "\t<tr><td>DA        </td><td>D52       </td><td>NONE      </td><td>54331     </td><td>0.17880509</td></tr>\n",
       "\t<tr><td>Epen1     </td><td>D52       </td><td>NONE      </td><td>50084     </td><td>0.16482808</td></tr>\n",
       "\t<tr><td>FPP       </td><td>D52       </td><td>NONE      </td><td>34515     </td><td>0.11358999</td></tr>\n",
       "\t<tr><td>P_FPP     </td><td>D52       </td><td>NONE      </td><td>15390     </td><td>0.05064899</td></tr>\n",
       "\t<tr><td>Sert      </td><td>D52       </td><td>NONE      </td><td>74984     </td><td>0.24677479</td></tr>\n",
       "\t<tr><td>U_Neur1   </td><td>D52       </td><td>NONE      </td><td>22674     </td><td>0.07462087</td></tr>\n",
       "</tbody>\n",
       "</table>\n"
      ],
      "text/latex": [
       "\\begin{tabular}{r|lllll}\n",
       " celltype & time\\_point & treatment & tot\\_cells & fract\\\\\n",
       "\\hline\n",
       "\t Astro      & D52        & NONE       & 44059      & 0.14499961\\\\\n",
       "\t DA         & D52        & NONE       & 54331      & 0.17880509\\\\\n",
       "\t Epen1      & D52        & NONE       & 50084      & 0.16482808\\\\\n",
       "\t FPP        & D52        & NONE       & 34515      & 0.11358999\\\\\n",
       "\t P\\_FPP    & D52        & NONE       & 15390      & 0.05064899\\\\\n",
       "\t Sert       & D52        & NONE       & 74984      & 0.24677479\\\\\n",
       "\t U\\_Neur1  & D52        & NONE       & 22674      & 0.07462087\\\\\n",
       "\\end{tabular}\n"
      ],
      "text/markdown": [
       "\n",
       "| celltype | time_point | treatment | tot_cells | fract |\n",
       "|---|---|---|---|---|\n",
       "| Astro      | D52        | NONE       | 44059      | 0.14499961 |\n",
       "| DA         | D52        | NONE       | 54331      | 0.17880509 |\n",
       "| Epen1      | D52        | NONE       | 50084      | 0.16482808 |\n",
       "| FPP        | D52        | NONE       | 34515      | 0.11358999 |\n",
       "| P_FPP      | D52        | NONE       | 15390      | 0.05064899 |\n",
       "| Sert       | D52        | NONE       | 74984      | 0.24677479 |\n",
       "| U_Neur1    | D52        | NONE       | 22674      | 0.07462087 |\n",
       "\n"
      ],
      "text/plain": [
       "  celltype time_point treatment tot_cells fract     \n",
       "1 Astro    D52        NONE      44059     0.14499961\n",
       "2 DA       D52        NONE      54331     0.17880509\n",
       "3 Epen1    D52        NONE      50084     0.16482808\n",
       "4 FPP      D52        NONE      34515     0.11358999\n",
       "5 P_FPP    D52        NONE      15390     0.05064899\n",
       "6 Sert     D52        NONE      74984     0.24677479\n",
       "7 U_Neur1  D52        NONE      22674     0.07462087"
      ]
     },
     "metadata": {},
     "output_type": "display_data"
    }
   ],
   "source": [
    "df3 = df2[df2$time_point == 'D52' & df2$treatment == 'NONE',]\n",
    "df3$fract = df3$tot_cells/sum(df3$tot_cells)\n",
    "df3[df3$fract > n,]"
   ]
  },
  {
   "cell_type": "code",
   "execution_count": 175,
   "metadata": {},
   "outputs": [
    {
     "data": {
      "text/html": [
       "<table>\n",
       "<thead><tr><th scope=col>celltype</th><th scope=col>time_point</th><th scope=col>treatment</th><th scope=col>tot_cells</th><th scope=col>fract</th></tr></thead>\n",
       "<tbody>\n",
       "\t<tr><td>Astro     </td><td>D52       </td><td>ROT       </td><td>41392     </td><td>0.18879939</td></tr>\n",
       "\t<tr><td>DA        </td><td>D52       </td><td>ROT       </td><td>25470     </td><td>0.11617512</td></tr>\n",
       "\t<tr><td>Epen1     </td><td>D52       </td><td>ROT       </td><td>42063     </td><td>0.19185999</td></tr>\n",
       "\t<tr><td>FPP       </td><td>D52       </td><td>ROT       </td><td>31203     </td><td>0.14232478</td></tr>\n",
       "\t<tr><td>P_FPP     </td><td>D52       </td><td>ROT       </td><td> 9741     </td><td>0.04443117</td></tr>\n",
       "\t<tr><td>Sert      </td><td>D52       </td><td>ROT       </td><td>55225     </td><td>0.25189520</td></tr>\n",
       "\t<tr><td>U_Neur1   </td><td>D52       </td><td>ROT       </td><td> 8694     </td><td>0.03965553</td></tr>\n",
       "</tbody>\n",
       "</table>\n"
      ],
      "text/latex": [
       "\\begin{tabular}{r|lllll}\n",
       " celltype & time\\_point & treatment & tot\\_cells & fract\\\\\n",
       "\\hline\n",
       "\t Astro      & D52        & ROT        & 41392      & 0.18879939\\\\\n",
       "\t DA         & D52        & ROT        & 25470      & 0.11617512\\\\\n",
       "\t Epen1      & D52        & ROT        & 42063      & 0.19185999\\\\\n",
       "\t FPP        & D52        & ROT        & 31203      & 0.14232478\\\\\n",
       "\t P\\_FPP    & D52        & ROT        &  9741      & 0.04443117\\\\\n",
       "\t Sert       & D52        & ROT        & 55225      & 0.25189520\\\\\n",
       "\t U\\_Neur1  & D52        & ROT        &  8694      & 0.03965553\\\\\n",
       "\\end{tabular}\n"
      ],
      "text/markdown": [
       "\n",
       "| celltype | time_point | treatment | tot_cells | fract |\n",
       "|---|---|---|---|---|\n",
       "| Astro      | D52        | ROT        | 41392      | 0.18879939 |\n",
       "| DA         | D52        | ROT        | 25470      | 0.11617512 |\n",
       "| Epen1      | D52        | ROT        | 42063      | 0.19185999 |\n",
       "| FPP        | D52        | ROT        | 31203      | 0.14232478 |\n",
       "| P_FPP      | D52        | ROT        |  9741      | 0.04443117 |\n",
       "| Sert       | D52        | ROT        | 55225      | 0.25189520 |\n",
       "| U_Neur1    | D52        | ROT        |  8694      | 0.03965553 |\n",
       "\n"
      ],
      "text/plain": [
       "  celltype time_point treatment tot_cells fract     \n",
       "1 Astro    D52        ROT       41392     0.18879939\n",
       "2 DA       D52        ROT       25470     0.11617512\n",
       "3 Epen1    D52        ROT       42063     0.19185999\n",
       "4 FPP      D52        ROT       31203     0.14232478\n",
       "5 P_FPP    D52        ROT        9741     0.04443117\n",
       "6 Sert     D52        ROT       55225     0.25189520\n",
       "7 U_Neur1  D52        ROT        8694     0.03965553"
      ]
     },
     "metadata": {},
     "output_type": "display_data"
    }
   ],
   "source": [
    "df3 = df2[df2$time_point == 'D52' & df2$treatment == 'ROT',]\n",
    "df3$fract = df3$tot_cells/sum(df3$tot_cells)\n",
    "df3[df3$fract > n,]"
   ]
  },
  {
   "cell_type": "code",
   "execution_count": null,
   "metadata": {},
   "outputs": [],
   "source": []
  },
  {
   "cell_type": "code",
   "execution_count": null,
   "metadata": {},
   "outputs": [],
   "source": []
  },
  {
   "cell_type": "code",
   "execution_count": null,
   "metadata": {},
   "outputs": [],
   "source": [
    "# across cell lines"
   ]
  },
  {
   "cell_type": "code",
   "execution_count": 42,
   "metadata": {},
   "outputs": [
    {
     "data": {
      "text/html": [
       "<table>\n",
       "<thead><tr><th scope=col>pool_id</th><th scope=col>donor_id</th><th scope=col>tot_cells</th></tr></thead>\n",
       "<tbody>\n",
       "\t<tr><td>pool1           </td><td>HPSI0114i-eipl_1</td><td>31643           </td></tr>\n",
       "\t<tr><td>pool1           </td><td>HPSI0115i-paim_1</td><td>29425           </td></tr>\n",
       "\t<tr><td>pool1           </td><td>HPSI0214i-eiwy_1</td><td> 2505           </td></tr>\n",
       "\t<tr><td>pool1           </td><td>HPSI0614i-liqa_1</td><td> 7718           </td></tr>\n",
       "\t<tr><td>pool1           </td><td>HPSI0714i-iudw_1</td><td> 5079           </td></tr>\n",
       "\t<tr><td>pool1           </td><td>HPSI0914i-suop_5</td><td> 2642           </td></tr>\n",
       "</tbody>\n",
       "</table>\n"
      ],
      "text/latex": [
       "\\begin{tabular}{r|lll}\n",
       " pool\\_id & donor\\_id & tot\\_cells\\\\\n",
       "\\hline\n",
       "\t pool1              & HPSI0114i-eipl\\_1 & 31643             \\\\\n",
       "\t pool1              & HPSI0115i-paim\\_1 & 29425             \\\\\n",
       "\t pool1              & HPSI0214i-eiwy\\_1 &  2505             \\\\\n",
       "\t pool1              & HPSI0614i-liqa\\_1 &  7718             \\\\\n",
       "\t pool1              & HPSI0714i-iudw\\_1 &  5079             \\\\\n",
       "\t pool1              & HPSI0914i-suop\\_5 &  2642             \\\\\n",
       "\\end{tabular}\n"
      ],
      "text/markdown": [
       "\n",
       "| pool_id | donor_id | tot_cells |\n",
       "|---|---|---|\n",
       "| pool1            | HPSI0114i-eipl_1 | 31643            |\n",
       "| pool1            | HPSI0115i-paim_1 | 29425            |\n",
       "| pool1            | HPSI0214i-eiwy_1 |  2505            |\n",
       "| pool1            | HPSI0614i-liqa_1 |  7718            |\n",
       "| pool1            | HPSI0714i-iudw_1 |  5079            |\n",
       "| pool1            | HPSI0914i-suop_5 |  2642            |\n",
       "\n"
      ],
      "text/plain": [
       "  pool_id donor_id         tot_cells\n",
       "1 pool1   HPSI0114i-eipl_1 31643    \n",
       "2 pool1   HPSI0115i-paim_1 29425    \n",
       "3 pool1   HPSI0214i-eiwy_1  2505    \n",
       "4 pool1   HPSI0614i-liqa_1  7718    \n",
       "5 pool1   HPSI0714i-iudw_1  5079    \n",
       "6 pool1   HPSI0914i-suop_5  2642    "
      ]
     },
     "metadata": {},
     "output_type": "display_data"
    },
    {
     "data": {
      "text/html": [
       "252"
      ],
      "text/latex": [
       "252"
      ],
      "text/markdown": [
       "252"
      ],
      "text/plain": [
       "[1] 252"
      ]
     },
     "metadata": {},
     "output_type": "display_data"
    }
   ],
   "source": [
    "df2 = df %>% group_by(pool_id,donor_id) %>% summarize(tot_cells = sum(n_cells))\n",
    "head(df2)\n",
    "nrow(df2)"
   ]
  },
  {
   "cell_type": "code",
   "execution_count": 43,
   "metadata": {
    "scrolled": true
   },
   "outputs": [
    {
     "data": {
      "text/html": [
       "<table>\n",
       "<thead><tr><th scope=col>celltype</th><th scope=col>donor_id</th><th scope=col>pool_id</th><th scope=col>tot_cells</th></tr></thead>\n",
       "<tbody>\n",
       "\t<tr><td>Astro           </td><td>HPSI0114i-bezi_3</td><td>pool10          </td><td>    6           </td></tr>\n",
       "\t<tr><td>Astro           </td><td>HPSI0114i-eipl_1</td><td>pool1           </td><td>13277           </td></tr>\n",
       "\t<tr><td>Astro           </td><td>HPSI0114i-fikt_3</td><td>pool14          </td><td>   33           </td></tr>\n",
       "\t<tr><td>Astro           </td><td>HPSI0114i-kolf_2</td><td>pool10          </td><td>    1           </td></tr>\n",
       "\t<tr><td>Astro           </td><td>HPSI0114i-kolf_2</td><td>pool15          </td><td>  315           </td></tr>\n",
       "\t<tr><td>Astro           </td><td>HPSI0114i-lexy_2</td><td>pool10          </td><td>    6           </td></tr>\n",
       "</tbody>\n",
       "</table>\n"
      ],
      "text/latex": [
       "\\begin{tabular}{r|llll}\n",
       " celltype & donor\\_id & pool\\_id & tot\\_cells\\\\\n",
       "\\hline\n",
       "\t Astro              & HPSI0114i-bezi\\_3 & pool10             &     6             \\\\\n",
       "\t Astro              & HPSI0114i-eipl\\_1 & pool1              & 13277             \\\\\n",
       "\t Astro              & HPSI0114i-fikt\\_3 & pool14             &    33             \\\\\n",
       "\t Astro              & HPSI0114i-kolf\\_2 & pool10             &     1             \\\\\n",
       "\t Astro              & HPSI0114i-kolf\\_2 & pool15             &   315             \\\\\n",
       "\t Astro              & HPSI0114i-lexy\\_2 & pool10             &     6             \\\\\n",
       "\\end{tabular}\n"
      ],
      "text/markdown": [
       "\n",
       "| celltype | donor_id | pool_id | tot_cells |\n",
       "|---|---|---|---|\n",
       "| Astro            | HPSI0114i-bezi_3 | pool10           |     6            |\n",
       "| Astro            | HPSI0114i-eipl_1 | pool1            | 13277            |\n",
       "| Astro            | HPSI0114i-fikt_3 | pool14           |    33            |\n",
       "| Astro            | HPSI0114i-kolf_2 | pool10           |     1            |\n",
       "| Astro            | HPSI0114i-kolf_2 | pool15           |   315            |\n",
       "| Astro            | HPSI0114i-lexy_2 | pool10           |     6            |\n",
       "\n"
      ],
      "text/plain": [
       "  celltype donor_id         pool_id tot_cells\n",
       "1 Astro    HPSI0114i-bezi_3 pool10      6    \n",
       "2 Astro    HPSI0114i-eipl_1 pool1   13277    \n",
       "3 Astro    HPSI0114i-fikt_3 pool14     33    \n",
       "4 Astro    HPSI0114i-kolf_2 pool10      1    \n",
       "5 Astro    HPSI0114i-kolf_2 pool15    315    \n",
       "6 Astro    HPSI0114i-lexy_2 pool10      6    "
      ]
     },
     "metadata": {},
     "output_type": "display_data"
    }
   ],
   "source": [
    "df3 = df %>% group_by(celltype,donor_id,pool_id) %>% summarize(tot_cells = sum(n_cells))\n",
    "head(df3)"
   ]
  },
  {
   "cell_type": "code",
   "execution_count": 44,
   "metadata": {},
   "outputs": [
    {
     "data": {
      "text/html": [
       "<table>\n",
       "<thead><tr><th scope=col>celltype</th><th scope=col>n</th><th scope=col>fract</th></tr></thead>\n",
       "<tbody>\n",
       "\t<tr><td>Astro    </td><td>214      </td><td>0.8492063</td></tr>\n",
       "\t<tr><td>DA       </td><td>250      </td><td>0.9920635</td></tr>\n",
       "\t<tr><td>Epen1    </td><td>245      </td><td>0.9722222</td></tr>\n",
       "\t<tr><td>Epen2    </td><td>181      </td><td>0.7182540</td></tr>\n",
       "\t<tr><td>FPP      </td><td>250      </td><td>0.9920635</td></tr>\n",
       "\t<tr><td>NB       </td><td>169      </td><td>0.6706349</td></tr>\n",
       "\t<tr><td>P_FPP    </td><td>243      </td><td>0.9642857</td></tr>\n",
       "\t<tr><td>P_Sert   </td><td>154      </td><td>0.6111111</td></tr>\n",
       "\t<tr><td>Sert     </td><td>249      </td><td>0.9880952</td></tr>\n",
       "\t<tr><td>U_Neur1  </td><td>235      </td><td>0.9325397</td></tr>\n",
       "\t<tr><td>U_Neur2  </td><td> 84      </td><td>0.3333333</td></tr>\n",
       "\t<tr><td>U_Neur3  </td><td>217      </td><td>0.8611111</td></tr>\n",
       "</tbody>\n",
       "</table>\n"
      ],
      "text/latex": [
       "\\begin{tabular}{r|lll}\n",
       " celltype & n & fract\\\\\n",
       "\\hline\n",
       "\t Astro     & 214       & 0.8492063\\\\\n",
       "\t DA        & 250       & 0.9920635\\\\\n",
       "\t Epen1     & 245       & 0.9722222\\\\\n",
       "\t Epen2     & 181       & 0.7182540\\\\\n",
       "\t FPP       & 250       & 0.9920635\\\\\n",
       "\t NB        & 169       & 0.6706349\\\\\n",
       "\t P\\_FPP   & 243       & 0.9642857\\\\\n",
       "\t P\\_Sert  & 154       & 0.6111111\\\\\n",
       "\t Sert      & 249       & 0.9880952\\\\\n",
       "\t U\\_Neur1 & 235       & 0.9325397\\\\\n",
       "\t U\\_Neur2 &  84       & 0.3333333\\\\\n",
       "\t U\\_Neur3 & 217       & 0.8611111\\\\\n",
       "\\end{tabular}\n"
      ],
      "text/markdown": [
       "\n",
       "| celltype | n | fract |\n",
       "|---|---|---|\n",
       "| Astro     | 214       | 0.8492063 |\n",
       "| DA        | 250       | 0.9920635 |\n",
       "| Epen1     | 245       | 0.9722222 |\n",
       "| Epen2     | 181       | 0.7182540 |\n",
       "| FPP       | 250       | 0.9920635 |\n",
       "| NB        | 169       | 0.6706349 |\n",
       "| P_FPP     | 243       | 0.9642857 |\n",
       "| P_Sert    | 154       | 0.6111111 |\n",
       "| Sert      | 249       | 0.9880952 |\n",
       "| U_Neur1   | 235       | 0.9325397 |\n",
       "| U_Neur2   |  84       | 0.3333333 |\n",
       "| U_Neur3   | 217       | 0.8611111 |\n",
       "\n"
      ],
      "text/plain": [
       "   celltype n   fract    \n",
       "1  Astro    214 0.8492063\n",
       "2  DA       250 0.9920635\n",
       "3  Epen1    245 0.9722222\n",
       "4  Epen2    181 0.7182540\n",
       "5  FPP      250 0.9920635\n",
       "6  NB       169 0.6706349\n",
       "7  P_FPP    243 0.9642857\n",
       "8  P_Sert   154 0.6111111\n",
       "9  Sert     249 0.9880952\n",
       "10 U_Neur1  235 0.9325397\n",
       "11 U_Neur2   84 0.3333333\n",
       "12 U_Neur3  217 0.8611111"
      ]
     },
     "metadata": {},
     "output_type": "display_data"
    }
   ],
   "source": [
    "df4 = df3 %>% group_by(celltype) %>% summarise(n = n())\n",
    "# df4 = df3[df3$tot_cells > 10,] %>% group_by(celltype) %>% summarise(n = n())\n",
    "df4$fract = df4$n/nrow(df2)\n",
    "df4"
   ]
  },
  {
   "cell_type": "code",
   "execution_count": null,
   "metadata": {},
   "outputs": [],
   "source": [
    "## lines instead of lines and pools"
   ]
  },
  {
   "cell_type": "code",
   "execution_count": 117,
   "metadata": {},
   "outputs": [
    {
     "data": {
      "text/html": [
       "<table>\n",
       "<thead><tr><th scope=col>donor_id</th><th scope=col>tot_cells</th></tr></thead>\n",
       "<tbody>\n",
       "\t<tr><td>HPSI0114i-bezi_3</td><td>  681           </td></tr>\n",
       "\t<tr><td>HPSI0114i-eipl_1</td><td>31643           </td></tr>\n",
       "</tbody>\n",
       "</table>\n"
      ],
      "text/latex": [
       "\\begin{tabular}{r|ll}\n",
       " donor\\_id & tot\\_cells\\\\\n",
       "\\hline\n",
       "\t HPSI0114i-bezi\\_3 &   681             \\\\\n",
       "\t HPSI0114i-eipl\\_1 & 31643             \\\\\n",
       "\\end{tabular}\n"
      ],
      "text/markdown": [
       "\n",
       "| donor_id | tot_cells |\n",
       "|---|---|\n",
       "| HPSI0114i-bezi_3 |   681            |\n",
       "| HPSI0114i-eipl_1 | 31643            |\n",
       "\n"
      ],
      "text/plain": [
       "  donor_id         tot_cells\n",
       "1 HPSI0114i-bezi_3   681    \n",
       "2 HPSI0114i-eipl_1 31643    "
      ]
     },
     "metadata": {},
     "output_type": "display_data"
    },
    {
     "data": {
      "text/html": [
       "215"
      ],
      "text/latex": [
       "215"
      ],
      "text/markdown": [
       "215"
      ],
      "text/plain": [
       "[1] 215"
      ]
     },
     "metadata": {},
     "output_type": "display_data"
    }
   ],
   "source": [
    "df2 = df %>% group_by(donor_id) %>% summarize(tot_cells = sum(n_cells))\n",
    "head(df2,2)\n",
    "nrow(df2)"
   ]
  },
  {
   "cell_type": "code",
   "execution_count": 118,
   "metadata": {},
   "outputs": [
    {
     "data": {
      "text/html": [
       "<table>\n",
       "<thead><tr><th scope=col>celltype</th><th scope=col>donor_id</th><th scope=col>tot_cells</th></tr></thead>\n",
       "<tbody>\n",
       "\t<tr><td>Astro           </td><td>HPSI0114i-bezi_3</td><td>    6           </td></tr>\n",
       "\t<tr><td>Astro           </td><td>HPSI0114i-eipl_1</td><td>13277           </td></tr>\n",
       "\t<tr><td>Astro           </td><td>HPSI0114i-fikt_3</td><td>   33           </td></tr>\n",
       "\t<tr><td>Astro           </td><td>HPSI0114i-kolf_2</td><td>  316           </td></tr>\n",
       "\t<tr><td>Astro           </td><td>HPSI0114i-lexy_2</td><td>   24           </td></tr>\n",
       "\t<tr><td>Astro           </td><td>HPSI0114i-posc_1</td><td>    3           </td></tr>\n",
       "</tbody>\n",
       "</table>\n"
      ],
      "text/latex": [
       "\\begin{tabular}{r|lll}\n",
       " celltype & donor\\_id & tot\\_cells\\\\\n",
       "\\hline\n",
       "\t Astro              & HPSI0114i-bezi\\_3 &     6             \\\\\n",
       "\t Astro              & HPSI0114i-eipl\\_1 & 13277             \\\\\n",
       "\t Astro              & HPSI0114i-fikt\\_3 &    33             \\\\\n",
       "\t Astro              & HPSI0114i-kolf\\_2 &   316             \\\\\n",
       "\t Astro              & HPSI0114i-lexy\\_2 &    24             \\\\\n",
       "\t Astro              & HPSI0114i-posc\\_1 &     3             \\\\\n",
       "\\end{tabular}\n"
      ],
      "text/markdown": [
       "\n",
       "| celltype | donor_id | tot_cells |\n",
       "|---|---|---|\n",
       "| Astro            | HPSI0114i-bezi_3 |     6            |\n",
       "| Astro            | HPSI0114i-eipl_1 | 13277            |\n",
       "| Astro            | HPSI0114i-fikt_3 |    33            |\n",
       "| Astro            | HPSI0114i-kolf_2 |   316            |\n",
       "| Astro            | HPSI0114i-lexy_2 |    24            |\n",
       "| Astro            | HPSI0114i-posc_1 |     3            |\n",
       "\n"
      ],
      "text/plain": [
       "  celltype donor_id         tot_cells\n",
       "1 Astro    HPSI0114i-bezi_3     6    \n",
       "2 Astro    HPSI0114i-eipl_1 13277    \n",
       "3 Astro    HPSI0114i-fikt_3    33    \n",
       "4 Astro    HPSI0114i-kolf_2   316    \n",
       "5 Astro    HPSI0114i-lexy_2    24    \n",
       "6 Astro    HPSI0114i-posc_1     3    "
      ]
     },
     "metadata": {},
     "output_type": "display_data"
    }
   ],
   "source": [
    "df3 = df %>% group_by(celltype,donor_id) %>% summarize(tot_cells = sum(n_cells))\n",
    "head(df3)"
   ]
  },
  {
   "cell_type": "code",
   "execution_count": 119,
   "metadata": {},
   "outputs": [
    {
     "data": {
      "text/html": [
       "<table>\n",
       "<thead><tr><th scope=col>celltype</th><th scope=col>n</th><th scope=col>fract</th></tr></thead>\n",
       "<tbody>\n",
       "\t<tr><td>Astro    </td><td>185      </td><td>0.8604651</td></tr>\n",
       "\t<tr><td>DA       </td><td>213      </td><td>0.9906977</td></tr>\n",
       "\t<tr><td>Epen1    </td><td>209      </td><td>0.9720930</td></tr>\n",
       "\t<tr><td>Epen2    </td><td>158      </td><td>0.7348837</td></tr>\n",
       "\t<tr><td>FPP      </td><td>213      </td><td>0.9906977</td></tr>\n",
       "\t<tr><td>NB       </td><td>151      </td><td>0.7023256</td></tr>\n",
       "\t<tr><td>P_FPP    </td><td>207      </td><td>0.9627907</td></tr>\n",
       "\t<tr><td>P_Sert   </td><td>136      </td><td>0.6325581</td></tr>\n",
       "\t<tr><td>Sert     </td><td>212      </td><td>0.9860465</td></tr>\n",
       "\t<tr><td>U_Neur1  </td><td>202      </td><td>0.9395349</td></tr>\n",
       "\t<tr><td>U_Neur2  </td><td> 78      </td><td>0.3627907</td></tr>\n",
       "\t<tr><td>U_Neur3  </td><td>189      </td><td>0.8790698</td></tr>\n",
       "</tbody>\n",
       "</table>\n"
      ],
      "text/latex": [
       "\\begin{tabular}{r|lll}\n",
       " celltype & n & fract\\\\\n",
       "\\hline\n",
       "\t Astro     & 185       & 0.8604651\\\\\n",
       "\t DA        & 213       & 0.9906977\\\\\n",
       "\t Epen1     & 209       & 0.9720930\\\\\n",
       "\t Epen2     & 158       & 0.7348837\\\\\n",
       "\t FPP       & 213       & 0.9906977\\\\\n",
       "\t NB        & 151       & 0.7023256\\\\\n",
       "\t P\\_FPP   & 207       & 0.9627907\\\\\n",
       "\t P\\_Sert  & 136       & 0.6325581\\\\\n",
       "\t Sert      & 212       & 0.9860465\\\\\n",
       "\t U\\_Neur1 & 202       & 0.9395349\\\\\n",
       "\t U\\_Neur2 &  78       & 0.3627907\\\\\n",
       "\t U\\_Neur3 & 189       & 0.8790698\\\\\n",
       "\\end{tabular}\n"
      ],
      "text/markdown": [
       "\n",
       "| celltype | n | fract |\n",
       "|---|---|---|\n",
       "| Astro     | 185       | 0.8604651 |\n",
       "| DA        | 213       | 0.9906977 |\n",
       "| Epen1     | 209       | 0.9720930 |\n",
       "| Epen2     | 158       | 0.7348837 |\n",
       "| FPP       | 213       | 0.9906977 |\n",
       "| NB        | 151       | 0.7023256 |\n",
       "| P_FPP     | 207       | 0.9627907 |\n",
       "| P_Sert    | 136       | 0.6325581 |\n",
       "| Sert      | 212       | 0.9860465 |\n",
       "| U_Neur1   | 202       | 0.9395349 |\n",
       "| U_Neur2   |  78       | 0.3627907 |\n",
       "| U_Neur3   | 189       | 0.8790698 |\n",
       "\n"
      ],
      "text/plain": [
       "   celltype n   fract    \n",
       "1  Astro    185 0.8604651\n",
       "2  DA       213 0.9906977\n",
       "3  Epen1    209 0.9720930\n",
       "4  Epen2    158 0.7348837\n",
       "5  FPP      213 0.9906977\n",
       "6  NB       151 0.7023256\n",
       "7  P_FPP    207 0.9627907\n",
       "8  P_Sert   136 0.6325581\n",
       "9  Sert     212 0.9860465\n",
       "10 U_Neur1  202 0.9395349\n",
       "11 U_Neur2   78 0.3627907\n",
       "12 U_Neur3  189 0.8790698"
      ]
     },
     "metadata": {},
     "output_type": "display_data"
    }
   ],
   "source": [
    "df4 = df3 %>% group_by(celltype) %>% summarise(n = n())\n",
    "# df4 = df3[df3$tot_cells > 10,] %>% group_by(celltype) %>% summarise(n = n())\n",
    "df4$fract = df4$n/nrow(df2)\n",
    "df4"
   ]
  },
  {
   "cell_type": "code",
   "execution_count": null,
   "metadata": {},
   "outputs": [],
   "source": []
  },
  {
   "cell_type": "code",
   "execution_count": null,
   "metadata": {},
   "outputs": [],
   "source": []
  },
  {
   "cell_type": "code",
   "execution_count": 45,
   "metadata": {},
   "outputs": [],
   "source": [
    "## split by condition"
   ]
  },
  {
   "cell_type": "code",
   "execution_count": 90,
   "metadata": {},
   "outputs": [
    {
     "data": {
      "text/html": [
       "<table>\n",
       "<thead><tr><th scope=col>pool_id</th><th scope=col>donor_id</th><th scope=col>time_point</th><th scope=col>treatment</th><th scope=col>tot_cells</th></tr></thead>\n",
       "<tbody>\n",
       "\t<tr><td>pool1           </td><td>HPSI0114i-eipl_1</td><td>D11             </td><td>NONE            </td><td> 3117           </td></tr>\n",
       "\t<tr><td>pool1           </td><td>HPSI0114i-eipl_1</td><td>D30             </td><td>NONE            </td><td> 2591           </td></tr>\n",
       "\t<tr><td>pool1           </td><td>HPSI0114i-eipl_1</td><td>D52             </td><td>NONE            </td><td>13236           </td></tr>\n",
       "\t<tr><td>pool1           </td><td>HPSI0114i-eipl_1</td><td>D52             </td><td>ROT             </td><td>12699           </td></tr>\n",
       "\t<tr><td>pool1           </td><td>HPSI0115i-paim_1</td><td>D11             </td><td>NONE            </td><td> 4061           </td></tr>\n",
       "\t<tr><td>pool1           </td><td>HPSI0115i-paim_1</td><td>D30             </td><td>NONE            </td><td> 3918           </td></tr>\n",
       "</tbody>\n",
       "</table>\n"
      ],
      "text/latex": [
       "\\begin{tabular}{r|lllll}\n",
       " pool\\_id & donor\\_id & time\\_point & treatment & tot\\_cells\\\\\n",
       "\\hline\n",
       "\t pool1              & HPSI0114i-eipl\\_1 & D11                & NONE               &  3117             \\\\\n",
       "\t pool1              & HPSI0114i-eipl\\_1 & D30                & NONE               &  2591             \\\\\n",
       "\t pool1              & HPSI0114i-eipl\\_1 & D52                & NONE               & 13236             \\\\\n",
       "\t pool1              & HPSI0114i-eipl\\_1 & D52                & ROT                & 12699             \\\\\n",
       "\t pool1              & HPSI0115i-paim\\_1 & D11                & NONE               &  4061             \\\\\n",
       "\t pool1              & HPSI0115i-paim\\_1 & D30                & NONE               &  3918             \\\\\n",
       "\\end{tabular}\n"
      ],
      "text/markdown": [
       "\n",
       "| pool_id | donor_id | time_point | treatment | tot_cells |\n",
       "|---|---|---|---|---|\n",
       "| pool1            | HPSI0114i-eipl_1 | D11              | NONE             |  3117            |\n",
       "| pool1            | HPSI0114i-eipl_1 | D30              | NONE             |  2591            |\n",
       "| pool1            | HPSI0114i-eipl_1 | D52              | NONE             | 13236            |\n",
       "| pool1            | HPSI0114i-eipl_1 | D52              | ROT              | 12699            |\n",
       "| pool1            | HPSI0115i-paim_1 | D11              | NONE             |  4061            |\n",
       "| pool1            | HPSI0115i-paim_1 | D30              | NONE             |  3918            |\n",
       "\n"
      ],
      "text/plain": [
       "  pool_id donor_id         time_point treatment tot_cells\n",
       "1 pool1   HPSI0114i-eipl_1 D11        NONE       3117    \n",
       "2 pool1   HPSI0114i-eipl_1 D30        NONE       2591    \n",
       "3 pool1   HPSI0114i-eipl_1 D52        NONE      13236    \n",
       "4 pool1   HPSI0114i-eipl_1 D52        ROT       12699    \n",
       "5 pool1   HPSI0115i-paim_1 D11        NONE       4061    \n",
       "6 pool1   HPSI0115i-paim_1 D30        NONE       3918    "
      ]
     },
     "metadata": {},
     "output_type": "display_data"
    },
    {
     "data": {
      "text/html": [
       "<ol class=list-inline>\n",
       "\t<li>202</li>\n",
       "\t<li>201</li>\n",
       "\t<li>232</li>\n",
       "\t<li>231</li>\n",
       "</ol>\n"
      ],
      "text/latex": [
       "\\begin{enumerate*}\n",
       "\\item 202\n",
       "\\item 201\n",
       "\\item 232\n",
       "\\item 231\n",
       "\\end{enumerate*}\n"
      ],
      "text/markdown": [
       "1. 202\n",
       "2. 201\n",
       "3. 232\n",
       "4. 231\n",
       "\n",
       "\n"
      ],
      "text/plain": [
       "[1] 202 201 232 231"
      ]
     },
     "metadata": {},
     "output_type": "display_data"
    }
   ],
   "source": [
    "df2 = df %>% group_by(pool_id,donor_id,time_point,treatment) %>% summarize(tot_cells = sum(n_cells))\n",
    "head(df2)\n",
    "c(nrow(df2[df2$time_point == 'D11',]),\n",
    "nrow(df2[df2$time_point == 'D30',]),\n",
    "nrow(df2[df2$time_point == 'D52' & df2$treatment == 'NONE',]),\n",
    "nrow(df2[df2$time_point == 'D52' & df2$treatment == 'ROT',]))"
   ]
  },
  {
   "cell_type": "code",
   "execution_count": null,
   "metadata": {},
   "outputs": [],
   "source": []
  },
  {
   "cell_type": "code",
   "execution_count": 91,
   "metadata": {},
   "outputs": [],
   "source": [
    "## Day 11"
   ]
  },
  {
   "cell_type": "code",
   "execution_count": 120,
   "metadata": {},
   "outputs": [
    {
     "data": {
      "text/html": [
       "<table>\n",
       "<thead><tr><th scope=col>pool_id</th><th scope=col>donor_id</th><th scope=col>time_point</th><th scope=col>treatment</th><th scope=col>tot_cells</th></tr></thead>\n",
       "<tbody>\n",
       "\t<tr><td>pool1           </td><td>HPSI0114i-eipl_1</td><td>D11             </td><td>NONE            </td><td>3117            </td></tr>\n",
       "\t<tr><td>pool1           </td><td>HPSI0114i-eipl_1</td><td>D30             </td><td>NONE            </td><td>2591            </td></tr>\n",
       "</tbody>\n",
       "</table>\n"
      ],
      "text/latex": [
       "\\begin{tabular}{r|lllll}\n",
       " pool\\_id & donor\\_id & time\\_point & treatment & tot\\_cells\\\\\n",
       "\\hline\n",
       "\t pool1              & HPSI0114i-eipl\\_1 & D11                & NONE               & 3117              \\\\\n",
       "\t pool1              & HPSI0114i-eipl\\_1 & D30                & NONE               & 2591              \\\\\n",
       "\\end{tabular}\n"
      ],
      "text/markdown": [
       "\n",
       "| pool_id | donor_id | time_point | treatment | tot_cells |\n",
       "|---|---|---|---|---|\n",
       "| pool1            | HPSI0114i-eipl_1 | D11              | NONE             | 3117             |\n",
       "| pool1            | HPSI0114i-eipl_1 | D30              | NONE             | 2591             |\n",
       "\n"
      ],
      "text/plain": [
       "  pool_id donor_id         time_point treatment tot_cells\n",
       "1 pool1   HPSI0114i-eipl_1 D11        NONE      3117     \n",
       "2 pool1   HPSI0114i-eipl_1 D30        NONE      2591     "
      ]
     },
     "metadata": {},
     "output_type": "display_data"
    },
    {
     "data": {
      "text/html": [
       "202"
      ],
      "text/latex": [
       "202"
      ],
      "text/markdown": [
       "202"
      ],
      "text/plain": [
       "[1] 202"
      ]
     },
     "metadata": {},
     "output_type": "display_data"
    }
   ],
   "source": [
    "df2 = df %>% group_by(pool_id,donor_id,time_point,treatment) %>% summarize(tot_cells = sum(n_cells))\n",
    "head(df2,2)\n",
    "nrow(df2[df2$time_point == 'D11',])"
   ]
  },
  {
   "cell_type": "code",
   "execution_count": 121,
   "metadata": {},
   "outputs": [
    {
     "data": {
      "text/html": [
       "<table>\n",
       "<thead><tr><th scope=col>celltype</th><th scope=col>donor_id</th><th scope=col>pool_id</th><th scope=col>time_point</th><th scope=col>treatment</th><th scope=col>tot_cells</th></tr></thead>\n",
       "<tbody>\n",
       "\t<tr><td>Astro           </td><td>HPSI0114i-bezi_3</td><td>pool10          </td><td>D52             </td><td>NONE            </td><td>2               </td></tr>\n",
       "\t<tr><td>Astro           </td><td>HPSI0114i-bezi_3</td><td>pool10          </td><td>D52             </td><td>ROT             </td><td>4               </td></tr>\n",
       "</tbody>\n",
       "</table>\n"
      ],
      "text/latex": [
       "\\begin{tabular}{r|llllll}\n",
       " celltype & donor\\_id & pool\\_id & time\\_point & treatment & tot\\_cells\\\\\n",
       "\\hline\n",
       "\t Astro              & HPSI0114i-bezi\\_3 & pool10             & D52                & NONE               & 2                 \\\\\n",
       "\t Astro              & HPSI0114i-bezi\\_3 & pool10             & D52                & ROT                & 4                 \\\\\n",
       "\\end{tabular}\n"
      ],
      "text/markdown": [
       "\n",
       "| celltype | donor_id | pool_id | time_point | treatment | tot_cells |\n",
       "|---|---|---|---|---|---|\n",
       "| Astro            | HPSI0114i-bezi_3 | pool10           | D52              | NONE             | 2                |\n",
       "| Astro            | HPSI0114i-bezi_3 | pool10           | D52              | ROT              | 4                |\n",
       "\n"
      ],
      "text/plain": [
       "  celltype donor_id         pool_id time_point treatment tot_cells\n",
       "1 Astro    HPSI0114i-bezi_3 pool10  D52        NONE      2        \n",
       "2 Astro    HPSI0114i-bezi_3 pool10  D52        ROT       4        "
      ]
     },
     "metadata": {},
     "output_type": "display_data"
    }
   ],
   "source": [
    "df3 = df %>% group_by(celltype,donor_id,pool_id,time_point,treatment) %>% summarize(tot_cells = sum(n_cells))\n",
    "head(df3,2)"
   ]
  },
  {
   "cell_type": "code",
   "execution_count": 122,
   "metadata": {},
   "outputs": [],
   "source": [
    "# df3 = df3[df3$tot_cells > 10,]"
   ]
  },
  {
   "cell_type": "code",
   "execution_count": 123,
   "metadata": {},
   "outputs": [
    {
     "data": {
      "text/html": [
       "<table>\n",
       "<thead><tr><th scope=col>celltype</th><th scope=col>n</th><th scope=col>fract</th></tr></thead>\n",
       "<tbody>\n",
       "\t<tr><td>FPP      </td><td>202      </td><td>1.0000000</td></tr>\n",
       "\t<tr><td>NB       </td><td>169      </td><td>0.8366337</td></tr>\n",
       "\t<tr><td>P_FPP    </td><td>200      </td><td>0.9900990</td></tr>\n",
       "</tbody>\n",
       "</table>\n"
      ],
      "text/latex": [
       "\\begin{tabular}{r|lll}\n",
       " celltype & n & fract\\\\\n",
       "\\hline\n",
       "\t FPP       & 202       & 1.0000000\\\\\n",
       "\t NB        & 169       & 0.8366337\\\\\n",
       "\t P\\_FPP   & 200       & 0.9900990\\\\\n",
       "\\end{tabular}\n"
      ],
      "text/markdown": [
       "\n",
       "| celltype | n | fract |\n",
       "|---|---|---|\n",
       "| FPP       | 202       | 1.0000000 |\n",
       "| NB        | 169       | 0.8366337 |\n",
       "| P_FPP     | 200       | 0.9900990 |\n",
       "\n"
      ],
      "text/plain": [
       "  celltype n   fract    \n",
       "1 FPP      202 1.0000000\n",
       "2 NB       169 0.8366337\n",
       "3 P_FPP    200 0.9900990"
      ]
     },
     "metadata": {},
     "output_type": "display_data"
    }
   ],
   "source": [
    "df4 = df3[df3$time_point == 'D11',] %>% group_by(celltype) %>% summarise(n = n())\n",
    "df4$fract = df4$n/nrow(df2[df2$time_point == 'D11',])\n",
    "df4"
   ]
  },
  {
   "cell_type": "code",
   "execution_count": null,
   "metadata": {},
   "outputs": [],
   "source": []
  },
  {
   "cell_type": "code",
   "execution_count": 96,
   "metadata": {},
   "outputs": [],
   "source": [
    "## Day 30"
   ]
  },
  {
   "cell_type": "code",
   "execution_count": 124,
   "metadata": {},
   "outputs": [
    {
     "data": {
      "text/html": [
       "<table>\n",
       "<thead><tr><th scope=col>pool_id</th><th scope=col>donor_id</th><th scope=col>time_point</th><th scope=col>treatment</th><th scope=col>tot_cells</th></tr></thead>\n",
       "<tbody>\n",
       "\t<tr><td>pool1           </td><td>HPSI0114i-eipl_1</td><td>D11             </td><td>NONE            </td><td>3117            </td></tr>\n",
       "\t<tr><td>pool1           </td><td>HPSI0114i-eipl_1</td><td>D30             </td><td>NONE            </td><td>2591            </td></tr>\n",
       "</tbody>\n",
       "</table>\n"
      ],
      "text/latex": [
       "\\begin{tabular}{r|lllll}\n",
       " pool\\_id & donor\\_id & time\\_point & treatment & tot\\_cells\\\\\n",
       "\\hline\n",
       "\t pool1              & HPSI0114i-eipl\\_1 & D11                & NONE               & 3117              \\\\\n",
       "\t pool1              & HPSI0114i-eipl\\_1 & D30                & NONE               & 2591              \\\\\n",
       "\\end{tabular}\n"
      ],
      "text/markdown": [
       "\n",
       "| pool_id | donor_id | time_point | treatment | tot_cells |\n",
       "|---|---|---|---|---|\n",
       "| pool1            | HPSI0114i-eipl_1 | D11              | NONE             | 3117             |\n",
       "| pool1            | HPSI0114i-eipl_1 | D30              | NONE             | 2591             |\n",
       "\n"
      ],
      "text/plain": [
       "  pool_id donor_id         time_point treatment tot_cells\n",
       "1 pool1   HPSI0114i-eipl_1 D11        NONE      3117     \n",
       "2 pool1   HPSI0114i-eipl_1 D30        NONE      2591     "
      ]
     },
     "metadata": {},
     "output_type": "display_data"
    },
    {
     "data": {
      "text/html": [
       "201"
      ],
      "text/latex": [
       "201"
      ],
      "text/markdown": [
       "201"
      ],
      "text/plain": [
       "[1] 201"
      ]
     },
     "metadata": {},
     "output_type": "display_data"
    }
   ],
   "source": [
    "df2 = df %>% group_by(pool_id,donor_id,time_point,treatment) %>% summarize(tot_cells = sum(n_cells))\n",
    "head(df2,2)\n",
    "nrow(df2[df2$time_point == 'D30',])"
   ]
  },
  {
   "cell_type": "code",
   "execution_count": 125,
   "metadata": {},
   "outputs": [
    {
     "data": {
      "text/html": [
       "<table>\n",
       "<thead><tr><th scope=col>celltype</th><th scope=col>donor_id</th><th scope=col>pool_id</th><th scope=col>time_point</th><th scope=col>treatment</th><th scope=col>tot_cells</th></tr></thead>\n",
       "<tbody>\n",
       "\t<tr><td>Astro           </td><td>HPSI0114i-bezi_3</td><td>pool10          </td><td>D52             </td><td>NONE            </td><td>   2            </td></tr>\n",
       "\t<tr><td>Astro           </td><td>HPSI0114i-bezi_3</td><td>pool10          </td><td>D52             </td><td>ROT             </td><td>   4            </td></tr>\n",
       "\t<tr><td>Astro           </td><td>HPSI0114i-eipl_1</td><td>pool1           </td><td>D52             </td><td>NONE            </td><td>6151            </td></tr>\n",
       "\t<tr><td>Astro           </td><td>HPSI0114i-eipl_1</td><td>pool1           </td><td>D52             </td><td>ROT             </td><td>7126            </td></tr>\n",
       "\t<tr><td>Astro           </td><td>HPSI0114i-fikt_3</td><td>pool14          </td><td>D52             </td><td>NONE            </td><td>   9            </td></tr>\n",
       "\t<tr><td>Astro           </td><td>HPSI0114i-fikt_3</td><td>pool14          </td><td>D52             </td><td>ROT             </td><td>  24            </td></tr>\n",
       "</tbody>\n",
       "</table>\n"
      ],
      "text/latex": [
       "\\begin{tabular}{r|llllll}\n",
       " celltype & donor\\_id & pool\\_id & time\\_point & treatment & tot\\_cells\\\\\n",
       "\\hline\n",
       "\t Astro              & HPSI0114i-bezi\\_3 & pool10             & D52                & NONE               &    2              \\\\\n",
       "\t Astro              & HPSI0114i-bezi\\_3 & pool10             & D52                & ROT                &    4              \\\\\n",
       "\t Astro              & HPSI0114i-eipl\\_1 & pool1              & D52                & NONE               & 6151              \\\\\n",
       "\t Astro              & HPSI0114i-eipl\\_1 & pool1              & D52                & ROT                & 7126              \\\\\n",
       "\t Astro              & HPSI0114i-fikt\\_3 & pool14             & D52                & NONE               &    9              \\\\\n",
       "\t Astro              & HPSI0114i-fikt\\_3 & pool14             & D52                & ROT                &   24              \\\\\n",
       "\\end{tabular}\n"
      ],
      "text/markdown": [
       "\n",
       "| celltype | donor_id | pool_id | time_point | treatment | tot_cells |\n",
       "|---|---|---|---|---|---|\n",
       "| Astro            | HPSI0114i-bezi_3 | pool10           | D52              | NONE             |    2             |\n",
       "| Astro            | HPSI0114i-bezi_3 | pool10           | D52              | ROT              |    4             |\n",
       "| Astro            | HPSI0114i-eipl_1 | pool1            | D52              | NONE             | 6151             |\n",
       "| Astro            | HPSI0114i-eipl_1 | pool1            | D52              | ROT              | 7126             |\n",
       "| Astro            | HPSI0114i-fikt_3 | pool14           | D52              | NONE             |    9             |\n",
       "| Astro            | HPSI0114i-fikt_3 | pool14           | D52              | ROT              |   24             |\n",
       "\n"
      ],
      "text/plain": [
       "  celltype donor_id         pool_id time_point treatment tot_cells\n",
       "1 Astro    HPSI0114i-bezi_3 pool10  D52        NONE         2     \n",
       "2 Astro    HPSI0114i-bezi_3 pool10  D52        ROT          4     \n",
       "3 Astro    HPSI0114i-eipl_1 pool1   D52        NONE      6151     \n",
       "4 Astro    HPSI0114i-eipl_1 pool1   D52        ROT       7126     \n",
       "5 Astro    HPSI0114i-fikt_3 pool14  D52        NONE         9     \n",
       "6 Astro    HPSI0114i-fikt_3 pool14  D52        ROT         24     "
      ]
     },
     "metadata": {},
     "output_type": "display_data"
    }
   ],
   "source": [
    "df3 = df %>% group_by(celltype,donor_id,pool_id,time_point,treatment) %>% summarize(tot_cells = sum(n_cells))\n",
    "head(df3)"
   ]
  },
  {
   "cell_type": "code",
   "execution_count": 126,
   "metadata": {},
   "outputs": [],
   "source": [
    "# df3 = df3[df3$tot_cells > 10,]"
   ]
  },
  {
   "cell_type": "code",
   "execution_count": 127,
   "metadata": {},
   "outputs": [
    {
     "data": {
      "text/html": [
       "<table>\n",
       "<thead><tr><th scope=col>celltype</th><th scope=col>n</th><th scope=col>fract</th></tr></thead>\n",
       "<tbody>\n",
       "\t<tr><td>DA       </td><td>200      </td><td>0.9950249</td></tr>\n",
       "\t<tr><td>Epen1    </td><td>189      </td><td>0.9402985</td></tr>\n",
       "\t<tr><td>FPP      </td><td>199      </td><td>0.9900498</td></tr>\n",
       "\t<tr><td>P_FPP    </td><td>197      </td><td>0.9800995</td></tr>\n",
       "\t<tr><td>Sert     </td><td>199      </td><td>0.9900498</td></tr>\n",
       "\t<tr><td>U_Neur1  </td><td>186      </td><td>0.9253731</td></tr>\n",
       "\t<tr><td>U_Neur2  </td><td> 84      </td><td>0.4179104</td></tr>\n",
       "</tbody>\n",
       "</table>\n"
      ],
      "text/latex": [
       "\\begin{tabular}{r|lll}\n",
       " celltype & n & fract\\\\\n",
       "\\hline\n",
       "\t DA        & 200       & 0.9950249\\\\\n",
       "\t Epen1     & 189       & 0.9402985\\\\\n",
       "\t FPP       & 199       & 0.9900498\\\\\n",
       "\t P\\_FPP   & 197       & 0.9800995\\\\\n",
       "\t Sert      & 199       & 0.9900498\\\\\n",
       "\t U\\_Neur1 & 186       & 0.9253731\\\\\n",
       "\t U\\_Neur2 &  84       & 0.4179104\\\\\n",
       "\\end{tabular}\n"
      ],
      "text/markdown": [
       "\n",
       "| celltype | n | fract |\n",
       "|---|---|---|\n",
       "| DA        | 200       | 0.9950249 |\n",
       "| Epen1     | 189       | 0.9402985 |\n",
       "| FPP       | 199       | 0.9900498 |\n",
       "| P_FPP     | 197       | 0.9800995 |\n",
       "| Sert      | 199       | 0.9900498 |\n",
       "| U_Neur1   | 186       | 0.9253731 |\n",
       "| U_Neur2   |  84       | 0.4179104 |\n",
       "\n"
      ],
      "text/plain": [
       "  celltype n   fract    \n",
       "1 DA       200 0.9950249\n",
       "2 Epen1    189 0.9402985\n",
       "3 FPP      199 0.9900498\n",
       "4 P_FPP    197 0.9800995\n",
       "5 Sert     199 0.9900498\n",
       "6 U_Neur1  186 0.9253731\n",
       "7 U_Neur2   84 0.4179104"
      ]
     },
     "metadata": {},
     "output_type": "display_data"
    }
   ],
   "source": [
    "df4 = df3[df3$time_point == 'D30',] %>% group_by(celltype) %>% summarise(n = n())\n",
    "df4$fract = df4$n/nrow(df2[df2$time_point == 'D30',])\n",
    "df4"
   ]
  },
  {
   "cell_type": "code",
   "execution_count": null,
   "metadata": {},
   "outputs": [],
   "source": []
  },
  {
   "cell_type": "code",
   "execution_count": 101,
   "metadata": {},
   "outputs": [],
   "source": [
    "## Day 52 (untreated)"
   ]
  },
  {
   "cell_type": "code",
   "execution_count": 128,
   "metadata": {},
   "outputs": [
    {
     "data": {
      "text/html": [
       "<table>\n",
       "<thead><tr><th scope=col>pool_id</th><th scope=col>donor_id</th><th scope=col>time_point</th><th scope=col>treatment</th><th scope=col>tot_cells</th></tr></thead>\n",
       "<tbody>\n",
       "\t<tr><td>pool1           </td><td>HPSI0114i-eipl_1</td><td>D11             </td><td>NONE            </td><td>3117            </td></tr>\n",
       "\t<tr><td>pool1           </td><td>HPSI0114i-eipl_1</td><td>D30             </td><td>NONE            </td><td>2591            </td></tr>\n",
       "</tbody>\n",
       "</table>\n"
      ],
      "text/latex": [
       "\\begin{tabular}{r|lllll}\n",
       " pool\\_id & donor\\_id & time\\_point & treatment & tot\\_cells\\\\\n",
       "\\hline\n",
       "\t pool1              & HPSI0114i-eipl\\_1 & D11                & NONE               & 3117              \\\\\n",
       "\t pool1              & HPSI0114i-eipl\\_1 & D30                & NONE               & 2591              \\\\\n",
       "\\end{tabular}\n"
      ],
      "text/markdown": [
       "\n",
       "| pool_id | donor_id | time_point | treatment | tot_cells |\n",
       "|---|---|---|---|---|\n",
       "| pool1            | HPSI0114i-eipl_1 | D11              | NONE             | 3117             |\n",
       "| pool1            | HPSI0114i-eipl_1 | D30              | NONE             | 2591             |\n",
       "\n"
      ],
      "text/plain": [
       "  pool_id donor_id         time_point treatment tot_cells\n",
       "1 pool1   HPSI0114i-eipl_1 D11        NONE      3117     \n",
       "2 pool1   HPSI0114i-eipl_1 D30        NONE      2591     "
      ]
     },
     "metadata": {},
     "output_type": "display_data"
    },
    {
     "data": {
      "text/html": [
       "232"
      ],
      "text/latex": [
       "232"
      ],
      "text/markdown": [
       "232"
      ],
      "text/plain": [
       "[1] 232"
      ]
     },
     "metadata": {},
     "output_type": "display_data"
    }
   ],
   "source": [
    "df2 = df %>% group_by(pool_id,donor_id,time_point,treatment) %>% summarize(tot_cells = sum(n_cells))\n",
    "head(df2,2)\n",
    "nrow(df2[df2$time_point == 'D52' & df2$treatment == 'NONE',])"
   ]
  },
  {
   "cell_type": "code",
   "execution_count": 129,
   "metadata": {},
   "outputs": [
    {
     "data": {
      "text/html": [
       "<table>\n",
       "<thead><tr><th scope=col>celltype</th><th scope=col>donor_id</th><th scope=col>pool_id</th><th scope=col>time_point</th><th scope=col>treatment</th><th scope=col>tot_cells</th></tr></thead>\n",
       "<tbody>\n",
       "\t<tr><td>Astro           </td><td>HPSI0114i-bezi_3</td><td>pool10          </td><td>D52             </td><td>NONE            </td><td>2               </td></tr>\n",
       "\t<tr><td>Astro           </td><td>HPSI0114i-bezi_3</td><td>pool10          </td><td>D52             </td><td>ROT             </td><td>4               </td></tr>\n",
       "</tbody>\n",
       "</table>\n"
      ],
      "text/latex": [
       "\\begin{tabular}{r|llllll}\n",
       " celltype & donor\\_id & pool\\_id & time\\_point & treatment & tot\\_cells\\\\\n",
       "\\hline\n",
       "\t Astro              & HPSI0114i-bezi\\_3 & pool10             & D52                & NONE               & 2                 \\\\\n",
       "\t Astro              & HPSI0114i-bezi\\_3 & pool10             & D52                & ROT                & 4                 \\\\\n",
       "\\end{tabular}\n"
      ],
      "text/markdown": [
       "\n",
       "| celltype | donor_id | pool_id | time_point | treatment | tot_cells |\n",
       "|---|---|---|---|---|---|\n",
       "| Astro            | HPSI0114i-bezi_3 | pool10           | D52              | NONE             | 2                |\n",
       "| Astro            | HPSI0114i-bezi_3 | pool10           | D52              | ROT              | 4                |\n",
       "\n"
      ],
      "text/plain": [
       "  celltype donor_id         pool_id time_point treatment tot_cells\n",
       "1 Astro    HPSI0114i-bezi_3 pool10  D52        NONE      2        \n",
       "2 Astro    HPSI0114i-bezi_3 pool10  D52        ROT       4        "
      ]
     },
     "metadata": {},
     "output_type": "display_data"
    }
   ],
   "source": [
    "df3 = df %>% group_by(celltype,donor_id,pool_id,time_point,treatment) %>% summarize(tot_cells = sum(n_cells))\n",
    "head(df3,2)"
   ]
  },
  {
   "cell_type": "code",
   "execution_count": 130,
   "metadata": {},
   "outputs": [],
   "source": [
    "# df3 = df3[df3$tot_cells > 10,]"
   ]
  },
  {
   "cell_type": "code",
   "execution_count": 131,
   "metadata": {},
   "outputs": [
    {
     "data": {
      "text/html": [
       "<table>\n",
       "<thead><tr><th scope=col>celltype</th><th scope=col>n</th><th scope=col>fract</th></tr></thead>\n",
       "<tbody>\n",
       "\t<tr><td>Astro    </td><td>210      </td><td>0.9051724</td></tr>\n",
       "\t<tr><td>DA       </td><td>229      </td><td>0.9870690</td></tr>\n",
       "\t<tr><td>Epen1    </td><td>224      </td><td>0.9655172</td></tr>\n",
       "\t<tr><td>Epen2    </td><td>167      </td><td>0.7198276</td></tr>\n",
       "\t<tr><td>FPP      </td><td>224      </td><td>0.9655172</td></tr>\n",
       "\t<tr><td>P_FPP    </td><td>203      </td><td>0.8750000</td></tr>\n",
       "\t<tr><td>P_Sert   </td><td>145      </td><td>0.6250000</td></tr>\n",
       "\t<tr><td>Sert     </td><td>220      </td><td>0.9482759</td></tr>\n",
       "\t<tr><td>U_Neur1  </td><td>200      </td><td>0.8620690</td></tr>\n",
       "\t<tr><td>U_Neur3  </td><td>209      </td><td>0.9008621</td></tr>\n",
       "</tbody>\n",
       "</table>\n"
      ],
      "text/latex": [
       "\\begin{tabular}{r|lll}\n",
       " celltype & n & fract\\\\\n",
       "\\hline\n",
       "\t Astro     & 210       & 0.9051724\\\\\n",
       "\t DA        & 229       & 0.9870690\\\\\n",
       "\t Epen1     & 224       & 0.9655172\\\\\n",
       "\t Epen2     & 167       & 0.7198276\\\\\n",
       "\t FPP       & 224       & 0.9655172\\\\\n",
       "\t P\\_FPP   & 203       & 0.8750000\\\\\n",
       "\t P\\_Sert  & 145       & 0.6250000\\\\\n",
       "\t Sert      & 220       & 0.9482759\\\\\n",
       "\t U\\_Neur1 & 200       & 0.8620690\\\\\n",
       "\t U\\_Neur3 & 209       & 0.9008621\\\\\n",
       "\\end{tabular}\n"
      ],
      "text/markdown": [
       "\n",
       "| celltype | n | fract |\n",
       "|---|---|---|\n",
       "| Astro     | 210       | 0.9051724 |\n",
       "| DA        | 229       | 0.9870690 |\n",
       "| Epen1     | 224       | 0.9655172 |\n",
       "| Epen2     | 167       | 0.7198276 |\n",
       "| FPP       | 224       | 0.9655172 |\n",
       "| P_FPP     | 203       | 0.8750000 |\n",
       "| P_Sert    | 145       | 0.6250000 |\n",
       "| Sert      | 220       | 0.9482759 |\n",
       "| U_Neur1   | 200       | 0.8620690 |\n",
       "| U_Neur3   | 209       | 0.9008621 |\n",
       "\n"
      ],
      "text/plain": [
       "   celltype n   fract    \n",
       "1  Astro    210 0.9051724\n",
       "2  DA       229 0.9870690\n",
       "3  Epen1    224 0.9655172\n",
       "4  Epen2    167 0.7198276\n",
       "5  FPP      224 0.9655172\n",
       "6  P_FPP    203 0.8750000\n",
       "7  P_Sert   145 0.6250000\n",
       "8  Sert     220 0.9482759\n",
       "9  U_Neur1  200 0.8620690\n",
       "10 U_Neur3  209 0.9008621"
      ]
     },
     "metadata": {},
     "output_type": "display_data"
    }
   ],
   "source": [
    "df4 = df3[df3$time_point == 'D52' & df3$treatment == 'NONE',] %>% group_by(celltype) %>% summarise(n = n())\n",
    "df4$fract = df4$n/nrow(df2[df2$time_point == 'D52' & df2$treatment == 'NONE',])\n",
    "df4"
   ]
  },
  {
   "cell_type": "code",
   "execution_count": null,
   "metadata": {},
   "outputs": [],
   "source": []
  },
  {
   "cell_type": "code",
   "execution_count": 85,
   "metadata": {},
   "outputs": [],
   "source": [
    "## Day 52 (ROT treated)"
   ]
  },
  {
   "cell_type": "code",
   "execution_count": 134,
   "metadata": {},
   "outputs": [
    {
     "data": {
      "text/html": [
       "<table>\n",
       "<thead><tr><th scope=col>pool_id</th><th scope=col>donor_id</th><th scope=col>time_point</th><th scope=col>treatment</th><th scope=col>tot_cells</th></tr></thead>\n",
       "<tbody>\n",
       "\t<tr><td>pool1           </td><td>HPSI0114i-eipl_1</td><td>D11             </td><td>NONE            </td><td>3117            </td></tr>\n",
       "\t<tr><td>pool1           </td><td>HPSI0114i-eipl_1</td><td>D30             </td><td>NONE            </td><td>2591            </td></tr>\n",
       "</tbody>\n",
       "</table>\n"
      ],
      "text/latex": [
       "\\begin{tabular}{r|lllll}\n",
       " pool\\_id & donor\\_id & time\\_point & treatment & tot\\_cells\\\\\n",
       "\\hline\n",
       "\t pool1              & HPSI0114i-eipl\\_1 & D11                & NONE               & 3117              \\\\\n",
       "\t pool1              & HPSI0114i-eipl\\_1 & D30                & NONE               & 2591              \\\\\n",
       "\\end{tabular}\n"
      ],
      "text/markdown": [
       "\n",
       "| pool_id | donor_id | time_point | treatment | tot_cells |\n",
       "|---|---|---|---|---|\n",
       "| pool1            | HPSI0114i-eipl_1 | D11              | NONE             | 3117             |\n",
       "| pool1            | HPSI0114i-eipl_1 | D30              | NONE             | 2591             |\n",
       "\n"
      ],
      "text/plain": [
       "  pool_id donor_id         time_point treatment tot_cells\n",
       "1 pool1   HPSI0114i-eipl_1 D11        NONE      3117     \n",
       "2 pool1   HPSI0114i-eipl_1 D30        NONE      2591     "
      ]
     },
     "metadata": {},
     "output_type": "display_data"
    },
    {
     "data": {
      "text/html": [
       "231"
      ],
      "text/latex": [
       "231"
      ],
      "text/markdown": [
       "231"
      ],
      "text/plain": [
       "[1] 231"
      ]
     },
     "metadata": {},
     "output_type": "display_data"
    }
   ],
   "source": [
    "df2 = df %>% group_by(pool_id,donor_id,time_point,treatment) %>% summarize(tot_cells = sum(n_cells))\n",
    "head(df2,2)\n",
    "nrow(df2[df2$time_point == 'D52' & df2$treatment == 'ROT',])"
   ]
  },
  {
   "cell_type": "code",
   "execution_count": 135,
   "metadata": {},
   "outputs": [
    {
     "data": {
      "text/html": [
       "<table>\n",
       "<thead><tr><th scope=col>celltype</th><th scope=col>donor_id</th><th scope=col>pool_id</th><th scope=col>time_point</th><th scope=col>treatment</th><th scope=col>tot_cells</th></tr></thead>\n",
       "<tbody>\n",
       "\t<tr><td>Astro           </td><td>HPSI0114i-bezi_3</td><td>pool10          </td><td>D52             </td><td>NONE            </td><td>2               </td></tr>\n",
       "\t<tr><td>Astro           </td><td>HPSI0114i-bezi_3</td><td>pool10          </td><td>D52             </td><td>ROT             </td><td>4               </td></tr>\n",
       "</tbody>\n",
       "</table>\n"
      ],
      "text/latex": [
       "\\begin{tabular}{r|llllll}\n",
       " celltype & donor\\_id & pool\\_id & time\\_point & treatment & tot\\_cells\\\\\n",
       "\\hline\n",
       "\t Astro              & HPSI0114i-bezi\\_3 & pool10             & D52                & NONE               & 2                 \\\\\n",
       "\t Astro              & HPSI0114i-bezi\\_3 & pool10             & D52                & ROT                & 4                 \\\\\n",
       "\\end{tabular}\n"
      ],
      "text/markdown": [
       "\n",
       "| celltype | donor_id | pool_id | time_point | treatment | tot_cells |\n",
       "|---|---|---|---|---|---|\n",
       "| Astro            | HPSI0114i-bezi_3 | pool10           | D52              | NONE             | 2                |\n",
       "| Astro            | HPSI0114i-bezi_3 | pool10           | D52              | ROT              | 4                |\n",
       "\n"
      ],
      "text/plain": [
       "  celltype donor_id         pool_id time_point treatment tot_cells\n",
       "1 Astro    HPSI0114i-bezi_3 pool10  D52        NONE      2        \n",
       "2 Astro    HPSI0114i-bezi_3 pool10  D52        ROT       4        "
      ]
     },
     "metadata": {},
     "output_type": "display_data"
    }
   ],
   "source": [
    "df3 = df %>% group_by(celltype,donor_id,pool_id,time_point,treatment) %>% summarize(tot_cells = sum(n_cells))\n",
    "head(df3,2)"
   ]
  },
  {
   "cell_type": "code",
   "execution_count": 136,
   "metadata": {},
   "outputs": [],
   "source": [
    "# df3 = df3[df3$tot_cells > 10,]"
   ]
  },
  {
   "cell_type": "code",
   "execution_count": 137,
   "metadata": {},
   "outputs": [
    {
     "data": {
      "text/html": [
       "<table>\n",
       "<thead><tr><th scope=col>celltype</th><th scope=col>n</th><th scope=col>fract</th></tr></thead>\n",
       "<tbody>\n",
       "\t<tr><td>Astro    </td><td>200      </td><td>0.8658009</td></tr>\n",
       "\t<tr><td>DA       </td><td>218      </td><td>0.9437229</td></tr>\n",
       "\t<tr><td>Epen1    </td><td>223      </td><td>0.9653680</td></tr>\n",
       "\t<tr><td>Epen2    </td><td>143      </td><td>0.6190476</td></tr>\n",
       "\t<tr><td>FPP      </td><td>224      </td><td>0.9696970</td></tr>\n",
       "\t<tr><td>P_FPP    </td><td>184      </td><td>0.7965368</td></tr>\n",
       "\t<tr><td>P_Sert   </td><td>103      </td><td>0.4458874</td></tr>\n",
       "\t<tr><td>Sert     </td><td>221      </td><td>0.9567100</td></tr>\n",
       "\t<tr><td>U_Neur1  </td><td>169      </td><td>0.7316017</td></tr>\n",
       "\t<tr><td>U_Neur3  </td><td>195      </td><td>0.8441558</td></tr>\n",
       "</tbody>\n",
       "</table>\n"
      ],
      "text/latex": [
       "\\begin{tabular}{r|lll}\n",
       " celltype & n & fract\\\\\n",
       "\\hline\n",
       "\t Astro     & 200       & 0.8658009\\\\\n",
       "\t DA        & 218       & 0.9437229\\\\\n",
       "\t Epen1     & 223       & 0.9653680\\\\\n",
       "\t Epen2     & 143       & 0.6190476\\\\\n",
       "\t FPP       & 224       & 0.9696970\\\\\n",
       "\t P\\_FPP   & 184       & 0.7965368\\\\\n",
       "\t P\\_Sert  & 103       & 0.4458874\\\\\n",
       "\t Sert      & 221       & 0.9567100\\\\\n",
       "\t U\\_Neur1 & 169       & 0.7316017\\\\\n",
       "\t U\\_Neur3 & 195       & 0.8441558\\\\\n",
       "\\end{tabular}\n"
      ],
      "text/markdown": [
       "\n",
       "| celltype | n | fract |\n",
       "|---|---|---|\n",
       "| Astro     | 200       | 0.8658009 |\n",
       "| DA        | 218       | 0.9437229 |\n",
       "| Epen1     | 223       | 0.9653680 |\n",
       "| Epen2     | 143       | 0.6190476 |\n",
       "| FPP       | 224       | 0.9696970 |\n",
       "| P_FPP     | 184       | 0.7965368 |\n",
       "| P_Sert    | 103       | 0.4458874 |\n",
       "| Sert      | 221       | 0.9567100 |\n",
       "| U_Neur1   | 169       | 0.7316017 |\n",
       "| U_Neur3   | 195       | 0.8441558 |\n",
       "\n"
      ],
      "text/plain": [
       "   celltype n   fract    \n",
       "1  Astro    200 0.8658009\n",
       "2  DA       218 0.9437229\n",
       "3  Epen1    223 0.9653680\n",
       "4  Epen2    143 0.6190476\n",
       "5  FPP      224 0.9696970\n",
       "6  P_FPP    184 0.7965368\n",
       "7  P_Sert   103 0.4458874\n",
       "8  Sert     221 0.9567100\n",
       "9  U_Neur1  169 0.7316017\n",
       "10 U_Neur3  195 0.8441558"
      ]
     },
     "metadata": {},
     "output_type": "display_data"
    }
   ],
   "source": [
    "df4 = df3[df3$time_point == 'D52' & df3$treatment == 'ROT',] %>% group_by(celltype) %>% summarise(n = n())\n",
    "df4$fract = df4$n/nrow(df2[df2$time_point == 'D52' & df2$treatment == 'ROT',])\n",
    "df4"
   ]
  },
  {
   "cell_type": "code",
   "execution_count": null,
   "metadata": {},
   "outputs": [],
   "source": []
  }
 ],
 "metadata": {
  "kernelspec": {
   "display_name": "R",
   "language": "R",
   "name": "ir"
  },
  "language_info": {
   "codemirror_mode": "r",
   "file_extension": ".r",
   "mimetype": "text/x-r-source",
   "name": "R",
   "pygments_lexer": "r",
   "version": "3.6.1"
  }
 },
 "nbformat": 4,
 "nbformat_minor": 4
}
