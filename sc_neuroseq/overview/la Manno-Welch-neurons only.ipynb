{
 "cells": [
  {
   "cell_type": "code",
   "execution_count": 1,
   "metadata": {},
   "outputs": [],
   "source": [
    "LM = readRDS(\"/hps/nobackup/stegle/users/acuomo/all_scripts/sc_neuroseq/in_vivo_comparison/sce_lamanno_embryo.Rds\")"
   ]
  },
  {
   "cell_type": "code",
   "execution_count": 40,
   "metadata": {},
   "outputs": [
    {
     "data": {
      "text/plain": [
       "class: SingleCellExperiment \n",
       "dim: 19531 136 \n",
       "metadata(0):\n",
       "assays(2): counts logcounts\n",
       "rownames(19531): DDX11L1 WASH7P_p1 ... VAMP7_loc1 DDX11L16_loc1\n",
       "rowData names(0):\n",
       "colnames(136): 1772067_089_B06 1772071_027_C04 ... 1772122_223_D12\n",
       "  1772122_224_F04\n",
       "colData names(3): Cell_ID Cell_type Timepoint\n",
       "reducedDimNames(0):\n",
       "spikeNames(0):\n",
       "altExpNames(0):"
      ]
     },
     "metadata": {},
     "output_type": "display_data"
    }
   ],
   "source": [
    "LM"
   ]
  },
  {
   "cell_type": "code",
   "execution_count": 3,
   "metadata": {},
   "outputs": [
    {
     "data": {
      "text/html": [
       "<ol class=list-inline>\n",
       "\t<li>'hMgl'</li>\n",
       "\t<li>'hRgl2a'</li>\n",
       "\t<li>'Unk'</li>\n",
       "\t<li>'hNProg'</li>\n",
       "\t<li>'hProgBP'</li>\n",
       "\t<li>'hProgM'</li>\n",
       "\t<li>'hOMTN'</li>\n",
       "\t<li>'hDA0'</li>\n",
       "\t<li>'hNbM'</li>\n",
       "\t<li>'hProgFPL'</li>\n",
       "\t<li>'hEndo'</li>\n",
       "\t<li>'hProgFPM'</li>\n",
       "\t<li>'hRgl2b'</li>\n",
       "\t<li>'hNbML5'</li>\n",
       "\t<li>'hRgl3'</li>\n",
       "\t<li>'hRN'</li>\n",
       "\t<li>'hPeric'</li>\n",
       "\t<li>'hDA1'</li>\n",
       "\t<li>'hRgl1'</li>\n",
       "\t<li>'hGaba'</li>\n",
       "\t<li>'hDA2'</li>\n",
       "\t<li>'hSert'</li>\n",
       "\t<li>'hNbGaba'</li>\n",
       "\t<li>'hNbML1'</li>\n",
       "\t<li>'hRgl2c'</li>\n",
       "\t<li>'hOPC'</li>\n",
       "</ol>\n"
      ],
      "text/latex": [
       "\\begin{enumerate*}\n",
       "\\item 'hMgl'\n",
       "\\item 'hRgl2a'\n",
       "\\item 'Unk'\n",
       "\\item 'hNProg'\n",
       "\\item 'hProgBP'\n",
       "\\item 'hProgM'\n",
       "\\item 'hOMTN'\n",
       "\\item 'hDA0'\n",
       "\\item 'hNbM'\n",
       "\\item 'hProgFPL'\n",
       "\\item 'hEndo'\n",
       "\\item 'hProgFPM'\n",
       "\\item 'hRgl2b'\n",
       "\\item 'hNbML5'\n",
       "\\item 'hRgl3'\n",
       "\\item 'hRN'\n",
       "\\item 'hPeric'\n",
       "\\item 'hDA1'\n",
       "\\item 'hRgl1'\n",
       "\\item 'hGaba'\n",
       "\\item 'hDA2'\n",
       "\\item 'hSert'\n",
       "\\item 'hNbGaba'\n",
       "\\item 'hNbML1'\n",
       "\\item 'hRgl2c'\n",
       "\\item 'hOPC'\n",
       "\\end{enumerate*}\n"
      ],
      "text/markdown": [
       "1. 'hMgl'\n",
       "2. 'hRgl2a'\n",
       "3. 'Unk'\n",
       "4. 'hNProg'\n",
       "5. 'hProgBP'\n",
       "6. 'hProgM'\n",
       "7. 'hOMTN'\n",
       "8. 'hDA0'\n",
       "9. 'hNbM'\n",
       "10. 'hProgFPL'\n",
       "11. 'hEndo'\n",
       "12. 'hProgFPM'\n",
       "13. 'hRgl2b'\n",
       "14. 'hNbML5'\n",
       "15. 'hRgl3'\n",
       "16. 'hRN'\n",
       "17. 'hPeric'\n",
       "18. 'hDA1'\n",
       "19. 'hRgl1'\n",
       "20. 'hGaba'\n",
       "21. 'hDA2'\n",
       "22. 'hSert'\n",
       "23. 'hNbGaba'\n",
       "24. 'hNbML1'\n",
       "25. 'hRgl2c'\n",
       "26. 'hOPC'\n",
       "\n",
       "\n"
      ],
      "text/plain": [
       " [1] \"hMgl\"     \"hRgl2a\"   \"Unk\"      \"hNProg\"   \"hProgBP\"  \"hProgM\"  \n",
       " [7] \"hOMTN\"    \"hDA0\"     \"hNbM\"     \"hProgFPL\" \"hEndo\"    \"hProgFPM\"\n",
       "[13] \"hRgl2b\"   \"hNbML5\"   \"hRgl3\"    \"hRN\"      \"hPeric\"   \"hDA1\"    \n",
       "[19] \"hRgl1\"    \"hGaba\"    \"hDA2\"     \"hSert\"    \"hNbGaba\"  \"hNbML1\"  \n",
       "[25] \"hRgl2c\"   \"hOPC\"    "
      ]
     },
     "metadata": {},
     "output_type": "display_data"
    }
   ],
   "source": [
    "LM$Cell_type = as.character(LM$Cell_type)\n",
    "unique(LM$Cell_type)"
   ]
  },
  {
   "cell_type": "code",
   "execution_count": 4,
   "metadata": {},
   "outputs": [],
   "source": [
    "LM = LM[,LM$Cell_type %in% c('hDA0','hDA1','hDA2','hSert')]"
   ]
  },
  {
   "cell_type": "code",
   "execution_count": 5,
   "metadata": {},
   "outputs": [
    {
     "name": "stderr",
     "output_type": "stream",
     "text": [
      "Registered S3 methods overwritten by 'ggplot2':\n",
      "  method         from \n",
      "  [.quosures     rlang\n",
      "  c.quosures     rlang\n",
      "  print.quosures rlang\n",
      "Warning message:\n",
      "“'trendVar' is deprecated.\n",
      "Use 'modelGeneVar' instead.\n",
      "See help(\"Deprecated\")”Warning message:\n",
      "“'decomposeVar' is deprecated.\n",
      "Use 'modelGeneVar' instead.\n",
      "See help(\"Deprecated\")”Warning message:\n",
      "“'testVar' is deprecated.\n",
      "See help(\"Deprecated\")”"
     ]
    }
   ],
   "source": [
    "LM <- scater::logNormCounts(LM, log=T)\n",
    "alt.fit2 <- scran::trendVar(LM, use.spikes = FALSE)\n",
    "alt.decomp2 <- scran::decomposeVar(LM, alt.fit2)"
   ]
  },
  {
   "cell_type": "code",
   "execution_count": 6,
   "metadata": {},
   "outputs": [],
   "source": [
    "genes_LM = rownames(alt.decomp2[order(alt.decomp2$bio, decreasing = TRUE),][1:2000,])"
   ]
  },
  {
   "cell_type": "code",
   "execution_count": null,
   "metadata": {},
   "outputs": [],
   "source": []
  },
  {
   "cell_type": "code",
   "execution_count": 8,
   "metadata": {},
   "outputs": [],
   "source": [
    "mydir = \"/hps/nobackup/stegle/users/acuomo/all_scripts/sc_neuroseq/in_vivo_comparison/\""
   ]
  },
  {
   "cell_type": "code",
   "execution_count": 9,
   "metadata": {},
   "outputs": [],
   "source": [
    "SN_filename = paste0(mydir,\"snigra_sce.RDS\")\n",
    "SN = readRDS(SN_filename)"
   ]
  },
  {
   "cell_type": "code",
   "execution_count": 10,
   "metadata": {},
   "outputs": [
    {
     "data": {
      "text/plain": [
       "class: SingleCellExperiment \n",
       "dim: 29445 2028 \n",
       "metadata(0):\n",
       "assays(1): counts\n",
       "rownames(29445): A1BG A1BG-AS1 ... bP-2171C21.3 bP-2189O9.3\n",
       "rowData names(0):\n",
       "colnames(2028): Miami6060a_CAGTCCTAGCGCTTAT-1\n",
       "  Miami6060a_GCACTCTCATGTAAGA-1 ... MD5862c_CCATGTCGTTCGGCAC-1\n",
       "  MD5862c_CACACAACATACGCCG-1\n",
       "colData names(6): nUMI nGene ... tsne1 tsne2\n",
       "reducedDimNames(0):\n",
       "spikeNames(0):\n",
       "altExpNames(0):"
      ]
     },
     "metadata": {},
     "output_type": "display_data"
    }
   ],
   "source": [
    "SN = SN[,grep(\"NEURO\",SN$clusters)]\n",
    "SN"
   ]
  },
  {
   "cell_type": "code",
   "execution_count": 11,
   "metadata": {},
   "outputs": [
    {
     "name": "stderr",
     "output_type": "stream",
     "text": [
      "Warning message:\n",
      "“'trendVar' is deprecated.\n",
      "Use 'modelGeneVar' instead.\n",
      "See help(\"Deprecated\")”Warning message:\n",
      "“'decomposeVar' is deprecated.\n",
      "Use 'modelGeneVar' instead.\n",
      "See help(\"Deprecated\")”Warning message:\n",
      "“'testVar' is deprecated.\n",
      "See help(\"Deprecated\")”"
     ]
    }
   ],
   "source": [
    "SN <- scater::logNormCounts(SN, log=T)\n",
    "design <- model.matrix(~dataset, data = colData(SN))\n",
    "alt.fit2 <- scran::trendVar(SN, design = design, use.spikes = FALSE)\n",
    "alt.decomp2 <- scran::decomposeVar(SN, alt.fit2)"
   ]
  },
  {
   "cell_type": "code",
   "execution_count": 13,
   "metadata": {},
   "outputs": [],
   "source": [
    "# genes_SN = rownames(SN)\n",
    "genes_SN = rownames(alt.decomp2[order(alt.decomp2$bio, decreasing = TRUE),][1:2000,])"
   ]
  },
  {
   "cell_type": "code",
   "execution_count": 14,
   "metadata": {},
   "outputs": [],
   "source": [
    "all_genes = unique(c(genes_LM,genes_SN))"
   ]
  },
  {
   "cell_type": "code",
   "execution_count": 15,
   "metadata": {},
   "outputs": [],
   "source": [
    "genes_n = rownames(SN)[rownames(SN) %in% all_genes]\n",
    "common_genes = rownames(LM)[rownames(LM) %in% genes_n]"
   ]
  },
  {
   "cell_type": "code",
   "execution_count": 16,
   "metadata": {},
   "outputs": [],
   "source": [
    "query = LM[common_genes,]\n",
    "reference = SN[common_genes,]"
   ]
  },
  {
   "cell_type": "code",
   "execution_count": 17,
   "metadata": {},
   "outputs": [],
   "source": [
    "query$batch_factor = \"query\"\n",
    "reference$batch_factor = \"reference\""
   ]
  },
  {
   "cell_type": "code",
   "execution_count": 18,
   "metadata": {},
   "outputs": [],
   "source": [
    "getJointPCA = function(reference, query, \n",
    "                       assayNameRef = \"logcounts\",\n",
    "                       assayNameQuery = \"logcounts\") {\n",
    "# reference and query are SingleCellExperiment objects\n",
    "  all_assay = cbind(assay(query, assayNameQuery),\n",
    "                    assay(reference, assayNameRef))\n",
    "# batch factors can be dataset specific batches or just a factor labelling i.e. \"query\", \"reference\" \n",
    "#   batchFactor = factor(c(as.character(query$sample_id),\n",
    "#                            as.character(reference$dataset)))\n",
    " batchFactor = factor(c(as.character(query$batch_factor),\n",
    "                           as.character(reference$batch_factor)))\n",
    "#   print(table(batchFactor))\n",
    "  mbpca = batchelor::multiBatchPCA(all_assay,\n",
    "                        batch = batchFactor,\n",
    "                        d = 50\n",
    "                        # BPPARAM = BiocParallel::MulticoreParam(workers = 4)\n",
    "  )\n",
    "  print(\"done multibatch PCA\")\n",
    "  dim(mbpca[[1]])\n",
    "  out = do.call(batchelor::reducedMNN, mbpca)\n",
    "  print(\"done batch correction\")\n",
    "  joint_mnn_pca = out$corrected\n",
    "  return(joint_mnn_pca)\n",
    "}"
   ]
  },
  {
   "cell_type": "code",
   "execution_count": 19,
   "metadata": {},
   "outputs": [
    {
     "name": "stderr",
     "output_type": "stream",
     "text": [
      "Warning message in sweep(centered, 2, w, \"/\", check.margin = FALSE):\n",
      "“'check.margin' is ignored when 'x' is a DelayedArray object or\n",
      "  derivative”"
     ]
    },
    {
     "name": "stdout",
     "output_type": "stream",
     "text": [
      "[1] \"done multibatch PCA\"\n",
      "[1] \"done batch correction\"\n"
     ]
    }
   ],
   "source": [
    "joint_mnn_pca = getJointPCA(reference, query)"
   ]
  },
  {
   "cell_type": "code",
   "execution_count": 20,
   "metadata": {},
   "outputs": [
    {
     "data": {
      "text/html": [
       "<table>\n",
       "<thead><tr><th></th><th scope=col>PC1</th><th scope=col>PC2</th></tr></thead>\n",
       "<tbody>\n",
       "\t<tr><th scope=row>1772067_089_B06</th><td>15.307301 </td><td>-3.7423396</td></tr>\n",
       "\t<tr><th scope=row>1772071_027_C04</th><td> 3.598099 </td><td>18.5090544</td></tr>\n",
       "\t<tr><th scope=row>1772071_027_E03</th><td>15.671637 </td><td> 0.9584330</td></tr>\n",
       "\t<tr><th scope=row>1772071_029_B10</th><td>15.304477 </td><td>-0.8788388</td></tr>\n",
       "\t<tr><th scope=row>1772071_029_B12</th><td>16.300775 </td><td>-2.3173524</td></tr>\n",
       "\t<tr><th scope=row>1772071_029_C11</th><td>14.644128 </td><td> 1.8049492</td></tr>\n",
       "</tbody>\n",
       "</table>\n"
      ],
      "text/latex": [
       "\\begin{tabular}{r|ll}\n",
       "  & PC1 & PC2\\\\\n",
       "\\hline\n",
       "\t1772067\\_089\\_B06 & 15.307301  & -3.7423396\\\\\n",
       "\t1772071\\_027\\_C04 &  3.598099  & 18.5090544\\\\\n",
       "\t1772071\\_027\\_E03 & 15.671637  &  0.9584330\\\\\n",
       "\t1772071\\_029\\_B10 & 15.304477  & -0.8788388\\\\\n",
       "\t1772071\\_029\\_B12 & 16.300775  & -2.3173524\\\\\n",
       "\t1772071\\_029\\_C11 & 14.644128  &  1.8049492\\\\\n",
       "\\end{tabular}\n"
      ],
      "text/markdown": [
       "\n",
       "| <!--/--> | PC1 | PC2 |\n",
       "|---|---|---|\n",
       "| 1772067_089_B06 | 15.307301  | -3.7423396 |\n",
       "| 1772071_027_C04 |  3.598099  | 18.5090544 |\n",
       "| 1772071_027_E03 | 15.671637  |  0.9584330 |\n",
       "| 1772071_029_B10 | 15.304477  | -0.8788388 |\n",
       "| 1772071_029_B12 | 16.300775  | -2.3173524 |\n",
       "| 1772071_029_C11 | 14.644128  |  1.8049492 |\n",
       "\n"
      ],
      "text/plain": [
       "                PC1       PC2       \n",
       "1772067_089_B06 15.307301 -3.7423396\n",
       "1772071_027_C04  3.598099 18.5090544\n",
       "1772071_027_E03 15.671637  0.9584330\n",
       "1772071_029_B10 15.304477 -0.8788388\n",
       "1772071_029_B12 16.300775 -2.3173524\n",
       "1772071_029_C11 14.644128  1.8049492"
      ]
     },
     "metadata": {},
     "output_type": "display_data"
    }
   ],
   "source": [
    "df_pca = as.data.frame(joint_mnn_pca[,c(1:2)])\n",
    "colnames(df_pca) = paste0(\"PC\",1:2)\n",
    "head(df_pca)"
   ]
  },
  {
   "cell_type": "code",
   "execution_count": null,
   "metadata": {},
   "outputs": [],
   "source": []
  },
  {
   "cell_type": "code",
   "execution_count": 28,
   "metadata": {},
   "outputs": [
    {
     "data": {
      "text/html": [
       "4"
      ],
      "text/latex": [
       "4"
      ],
      "text/markdown": [
       "4"
      ],
      "text/plain": [
       "[1] 4"
      ]
     },
     "metadata": {},
     "output_type": "display_data"
    },
    {
     "data": {
      "text/html": [
       "7"
      ],
      "text/latex": [
       "7"
      ],
      "text/markdown": [
       "7"
      ],
      "text/plain": [
       "[1] 7"
      ]
     },
     "metadata": {},
     "output_type": "display_data"
    }
   ],
   "source": [
    "mat = matrix(0, nrow = length(unique(query$Cell_type)), ncol = length(unique(reference$clusters)))\n",
    "nrow(mat)\n",
    "ncol(mat)"
   ]
  },
  {
   "cell_type": "code",
   "execution_count": 34,
   "metadata": {},
   "outputs": [],
   "source": [
    "rownames(mat) = unique(query$Cell_type)\n",
    "colnames(mat) = unique(reference$clusters)"
   ]
  },
  {
   "cell_type": "code",
   "execution_count": 35,
   "metadata": {},
   "outputs": [],
   "source": [
    "i = 0\n",
    "for (celltype in unique(query$Cell_type)){\n",
    "#     print(celltype)\n",
    "    j = 0\n",
    "    i = i+1\n",
    "    sel_cells = colnames(query[,query$Cell_type == celltype])\n",
    "    closest_atlas_cell_ind = BiocNeighbors::queryKNN(\n",
    "        joint_mnn_pca[colnames(reference),],\n",
    "        joint_mnn_pca[sel_cells,],\n",
    "        k = 1, get.index = TRUE, get.distance = FALSE)\n",
    "    mapped_cells = colnames(reference)[closest_atlas_cell_ind$index]\n",
    "    for (cluster in unique(reference$clusters)){\n",
    "#         print(cluster)\n",
    "        j = j+1\n",
    "        n = length(mapped_cells[mapped_cells %in% colnames(reference[,reference$clusters == cluster])])\n",
    "        mat[i,j] = n/length(mapped_cells)\n",
    "#         print(mat[i,j])\n",
    "    }\n",
    "}"
   ]
  },
  {
   "cell_type": "code",
   "execution_count": 36,
   "metadata": {},
   "outputs": [
    {
     "data": {
      "text/html": [
       "<table>\n",
       "<thead><tr><th></th><th scope=col>NEUROinh4</th><th scope=col>NEUROinh2</th><th scope=col>NEUROinh3</th><th scope=col>NEUROdop</th><th scope=col>NEUROinh5</th><th scope=col>NEUROinh1</th><th scope=col>NEUROex1</th></tr></thead>\n",
       "<tbody>\n",
       "\t<tr><th scope=row>hDA0</th><td>0.04255319</td><td>0         </td><td>0.04255319</td><td>0.06382979</td><td>0.00000000</td><td>0.7872340 </td><td>0.06382979</td></tr>\n",
       "\t<tr><th scope=row>hDA1</th><td>0.05263158</td><td>0         </td><td>0.02631579</td><td>0.15789474</td><td>0.05263158</td><td>0.6315789 </td><td>0.07894737</td></tr>\n",
       "\t<tr><th scope=row>hDA2</th><td>0.00000000</td><td>0         </td><td>0.00000000</td><td>0.29729730</td><td>0.00000000</td><td>0.7027027 </td><td>0.00000000</td></tr>\n",
       "\t<tr><th scope=row>hSert</th><td>0.00000000</td><td>0         </td><td>0.07142857</td><td>0.07142857</td><td>0.00000000</td><td>0.7857143 </td><td>0.07142857</td></tr>\n",
       "</tbody>\n",
       "</table>\n"
      ],
      "text/latex": [
       "\\begin{tabular}{r|lllllll}\n",
       "  & NEUROinh4 & NEUROinh2 & NEUROinh3 & NEUROdop & NEUROinh5 & NEUROinh1 & NEUROex1\\\\\n",
       "\\hline\n",
       "\thDA0 & 0.04255319 & 0          & 0.04255319 & 0.06382979 & 0.00000000 & 0.7872340  & 0.06382979\\\\\n",
       "\thDA1 & 0.05263158 & 0          & 0.02631579 & 0.15789474 & 0.05263158 & 0.6315789  & 0.07894737\\\\\n",
       "\thDA2 & 0.00000000 & 0          & 0.00000000 & 0.29729730 & 0.00000000 & 0.7027027  & 0.00000000\\\\\n",
       "\thSert & 0.00000000 & 0          & 0.07142857 & 0.07142857 & 0.00000000 & 0.7857143  & 0.07142857\\\\\n",
       "\\end{tabular}\n"
      ],
      "text/markdown": [
       "\n",
       "| <!--/--> | NEUROinh4 | NEUROinh2 | NEUROinh3 | NEUROdop | NEUROinh5 | NEUROinh1 | NEUROex1 |\n",
       "|---|---|---|---|---|---|---|---|\n",
       "| hDA0 | 0.04255319 | 0          | 0.04255319 | 0.06382979 | 0.00000000 | 0.7872340  | 0.06382979 |\n",
       "| hDA1 | 0.05263158 | 0          | 0.02631579 | 0.15789474 | 0.05263158 | 0.6315789  | 0.07894737 |\n",
       "| hDA2 | 0.00000000 | 0          | 0.00000000 | 0.29729730 | 0.00000000 | 0.7027027  | 0.00000000 |\n",
       "| hSert | 0.00000000 | 0          | 0.07142857 | 0.07142857 | 0.00000000 | 0.7857143  | 0.07142857 |\n",
       "\n"
      ],
      "text/plain": [
       "      NEUROinh4  NEUROinh2 NEUROinh3  NEUROdop   NEUROinh5  NEUROinh1\n",
       "hDA0  0.04255319 0         0.04255319 0.06382979 0.00000000 0.7872340\n",
       "hDA1  0.05263158 0         0.02631579 0.15789474 0.05263158 0.6315789\n",
       "hDA2  0.00000000 0         0.00000000 0.29729730 0.00000000 0.7027027\n",
       "hSert 0.00000000 0         0.07142857 0.07142857 0.00000000 0.7857143\n",
       "      NEUROex1  \n",
       "hDA0  0.06382979\n",
       "hDA1  0.07894737\n",
       "hDA2  0.00000000\n",
       "hSert 0.07142857"
      ]
     },
     "metadata": {},
     "output_type": "display_data"
    }
   ],
   "source": [
    "mat"
   ]
  },
  {
   "cell_type": "code",
   "execution_count": 37,
   "metadata": {},
   "outputs": [
    {
     "data": {
      "text/html": [
       "<table>\n",
       "<thead><tr><th scope=col>Var1</th><th scope=col>Var2</th><th scope=col>value</th></tr></thead>\n",
       "<tbody>\n",
       "\t<tr><td>hDA0      </td><td>NEUROinh4 </td><td>0.04255319</td></tr>\n",
       "\t<tr><td>hDA1      </td><td>NEUROinh4 </td><td>0.05263158</td></tr>\n",
       "\t<tr><td>hDA2      </td><td>NEUROinh4 </td><td>0.00000000</td></tr>\n",
       "\t<tr><td>hSert     </td><td>NEUROinh4 </td><td>0.00000000</td></tr>\n",
       "\t<tr><td>hDA0      </td><td>NEUROinh2 </td><td>0.00000000</td></tr>\n",
       "\t<tr><td>hDA1      </td><td>NEUROinh2 </td><td>0.00000000</td></tr>\n",
       "</tbody>\n",
       "</table>\n"
      ],
      "text/latex": [
       "\\begin{tabular}{r|lll}\n",
       " Var1 & Var2 & value\\\\\n",
       "\\hline\n",
       "\t hDA0       & NEUROinh4  & 0.04255319\\\\\n",
       "\t hDA1       & NEUROinh4  & 0.05263158\\\\\n",
       "\t hDA2       & NEUROinh4  & 0.00000000\\\\\n",
       "\t hSert      & NEUROinh4  & 0.00000000\\\\\n",
       "\t hDA0       & NEUROinh2  & 0.00000000\\\\\n",
       "\t hDA1       & NEUROinh2  & 0.00000000\\\\\n",
       "\\end{tabular}\n"
      ],
      "text/markdown": [
       "\n",
       "| Var1 | Var2 | value |\n",
       "|---|---|---|\n",
       "| hDA0       | NEUROinh4  | 0.04255319 |\n",
       "| hDA1       | NEUROinh4  | 0.05263158 |\n",
       "| hDA2       | NEUROinh4  | 0.00000000 |\n",
       "| hSert      | NEUROinh4  | 0.00000000 |\n",
       "| hDA0       | NEUROinh2  | 0.00000000 |\n",
       "| hDA1       | NEUROinh2  | 0.00000000 |\n",
       "\n"
      ],
      "text/plain": [
       "  Var1  Var2      value     \n",
       "1 hDA0  NEUROinh4 0.04255319\n",
       "2 hDA1  NEUROinh4 0.05263158\n",
       "3 hDA2  NEUROinh4 0.00000000\n",
       "4 hSert NEUROinh4 0.00000000\n",
       "5 hDA0  NEUROinh2 0.00000000\n",
       "6 hDA1  NEUROinh2 0.00000000"
      ]
     },
     "metadata": {},
     "output_type": "display_data"
    }
   ],
   "source": [
    "library(reshape2)\n",
    "mat_melt = melt(mat)\n",
    "head(mat_melt)"
   ]
  },
  {
   "cell_type": "code",
   "execution_count": 38,
   "metadata": {},
   "outputs": [],
   "source": [
    "library(ggplot2)"
   ]
  },
  {
   "cell_type": "code",
   "execution_count": 39,
   "metadata": {},
   "outputs": [
    {
     "data": {
      "image/png": "[encoded data removed]",
      "text/plain": [
       "plot without title"
      ]
     },
     "metadata": {},
     "output_type": "display_data"
    }
   ],
   "source": [
    "df = as.data.frame(mat_melt)\n",
    "ggplot(df, aes(x = as.factor(Var1), y = value, fill = as.factor(Var2))) + geom_bar(stat=\"identity\", col = \"grey\")"
   ]
  },
  {
   "cell_type": "code",
   "execution_count": null,
   "metadata": {},
   "outputs": [],
   "source": []
  },
  {
   "cell_type": "code",
   "execution_count": 41,
   "metadata": {},
   "outputs": [
    {
     "data": {
      "text/html": [
       "7"
      ],
      "text/latex": [
       "7"
      ],
      "text/markdown": [
       "7"
      ],
      "text/plain": [
       "[1] 7"
      ]
     },
     "metadata": {},
     "output_type": "display_data"
    },
    {
     "data": {
      "text/html": [
       "4"
      ],
      "text/latex": [
       "4"
      ],
      "text/markdown": [
       "4"
      ],
      "text/plain": [
       "[1] 4"
      ]
     },
     "metadata": {},
     "output_type": "display_data"
    }
   ],
   "source": [
    "mat = matrix(0, ncol = length(unique(query$Cell_type)), nrow = length(unique(reference$clusters)))\n",
    "nrow(mat)\n",
    "ncol(mat)"
   ]
  },
  {
   "cell_type": "code",
   "execution_count": 42,
   "metadata": {},
   "outputs": [],
   "source": [
    "colnames(mat) = unique(query$Cell_type)\n",
    "rownames(mat) = unique(reference$clusters)"
   ]
  },
  {
   "cell_type": "code",
   "execution_count": 43,
   "metadata": {},
   "outputs": [],
   "source": [
    "i = 0\n",
    "for (celltype in unique(reference$clusters)){\n",
    "#     print(celltype)\n",
    "    j = 0\n",
    "    i = i+1\n",
    "    sel_cells = colnames(reference[,reference$clusters == celltype])\n",
    "    closest_atlas_cell_ind = BiocNeighbors::queryKNN(\n",
    "        joint_mnn_pca[colnames(query),],\n",
    "        joint_mnn_pca[sel_cells,],\n",
    "        k = 1, get.index = TRUE, get.distance = FALSE)\n",
    "    mapped_cells = colnames(query)[closest_atlas_cell_ind$index]\n",
    "    for (cluster in unique(query$Cell_type)){\n",
    "#         print(cluster)\n",
    "        j = j+1\n",
    "        n = length(mapped_cells[mapped_cells %in% colnames(query[,query$Cell_type == cluster])])\n",
    "        mat[i,j] = n/length(mapped_cells)\n",
    "#         print(mat[i,j])\n",
    "    }\n",
    "}"
   ]
  },
  {
   "cell_type": "code",
   "execution_count": 44,
   "metadata": {},
   "outputs": [
    {
     "data": {
      "text/html": [
       "<table>\n",
       "<thead><tr><th></th><th scope=col>hDA0</th><th scope=col>hDA1</th><th scope=col>hDA2</th><th scope=col>hSert</th></tr></thead>\n",
       "<tbody>\n",
       "\t<tr><th scope=row>NEUROinh4</th><td>0.014234875</td><td>0.9003559  </td><td>0.0000000  </td><td>0.085409253</td></tr>\n",
       "\t<tr><th scope=row>NEUROinh2</th><td>0.002409639</td><td>0.9927711  </td><td>0.0000000  </td><td>0.004819277</td></tr>\n",
       "\t<tr><th scope=row>NEUROinh3</th><td>0.066901408</td><td>0.8485915  </td><td>0.0000000  </td><td>0.084507042</td></tr>\n",
       "\t<tr><th scope=row>NEUROdop</th><td>0.009090909</td><td>0.5545455  </td><td>0.4272727  </td><td>0.009090909</td></tr>\n",
       "\t<tr><th scope=row>NEUROinh5</th><td>0.066666667</td><td>0.8380952  </td><td>0.0000000  </td><td>0.095238095</td></tr>\n",
       "\t<tr><th scope=row>NEUROinh1</th><td>0.097053726</td><td>0.7400347  </td><td>0.1126516  </td><td>0.050259965</td></tr>\n",
       "\t<tr><th scope=row>NEUROex1</th><td>0.000000000</td><td>0.9271523  </td><td>0.0000000  </td><td>0.072847682</td></tr>\n",
       "</tbody>\n",
       "</table>\n"
      ],
      "text/latex": [
       "\\begin{tabular}{r|llll}\n",
       "  & hDA0 & hDA1 & hDA2 & hSert\\\\\n",
       "\\hline\n",
       "\tNEUROinh4 & 0.014234875 & 0.9003559   & 0.0000000   & 0.085409253\\\\\n",
       "\tNEUROinh2 & 0.002409639 & 0.9927711   & 0.0000000   & 0.004819277\\\\\n",
       "\tNEUROinh3 & 0.066901408 & 0.8485915   & 0.0000000   & 0.084507042\\\\\n",
       "\tNEUROdop & 0.009090909 & 0.5545455   & 0.4272727   & 0.009090909\\\\\n",
       "\tNEUROinh5 & 0.066666667 & 0.8380952   & 0.0000000   & 0.095238095\\\\\n",
       "\tNEUROinh1 & 0.097053726 & 0.7400347   & 0.1126516   & 0.050259965\\\\\n",
       "\tNEUROex1 & 0.000000000 & 0.9271523   & 0.0000000   & 0.072847682\\\\\n",
       "\\end{tabular}\n"
      ],
      "text/markdown": [
       "\n",
       "| <!--/--> | hDA0 | hDA1 | hDA2 | hSert |\n",
       "|---|---|---|---|---|\n",
       "| NEUROinh4 | 0.014234875 | 0.9003559   | 0.0000000   | 0.085409253 |\n",
       "| NEUROinh2 | 0.002409639 | 0.9927711   | 0.0000000   | 0.004819277 |\n",
       "| NEUROinh3 | 0.066901408 | 0.8485915   | 0.0000000   | 0.084507042 |\n",
       "| NEUROdop | 0.009090909 | 0.5545455   | 0.4272727   | 0.009090909 |\n",
       "| NEUROinh5 | 0.066666667 | 0.8380952   | 0.0000000   | 0.095238095 |\n",
       "| NEUROinh1 | 0.097053726 | 0.7400347   | 0.1126516   | 0.050259965 |\n",
       "| NEUROex1 | 0.000000000 | 0.9271523   | 0.0000000   | 0.072847682 |\n",
       "\n"
      ],
      "text/plain": [
       "          hDA0        hDA1      hDA2      hSert      \n",
       "NEUROinh4 0.014234875 0.9003559 0.0000000 0.085409253\n",
       "NEUROinh2 0.002409639 0.9927711 0.0000000 0.004819277\n",
       "NEUROinh3 0.066901408 0.8485915 0.0000000 0.084507042\n",
       "NEUROdop  0.009090909 0.5545455 0.4272727 0.009090909\n",
       "NEUROinh5 0.066666667 0.8380952 0.0000000 0.095238095\n",
       "NEUROinh1 0.097053726 0.7400347 0.1126516 0.050259965\n",
       "NEUROex1  0.000000000 0.9271523 0.0000000 0.072847682"
      ]
     },
     "metadata": {},
     "output_type": "display_data"
    }
   ],
   "source": [
    "mat"
   ]
  },
  {
   "cell_type": "code",
   "execution_count": 45,
   "metadata": {},
   "outputs": [
    {
     "data": {
      "text/html": [
       "<table>\n",
       "<thead><tr><th scope=col>Var1</th><th scope=col>Var2</th><th scope=col>value</th></tr></thead>\n",
       "<tbody>\n",
       "\t<tr><td>NEUROinh4  </td><td>hDA0       </td><td>0.014234875</td></tr>\n",
       "\t<tr><td>NEUROinh2  </td><td>hDA0       </td><td>0.002409639</td></tr>\n",
       "\t<tr><td>NEUROinh3  </td><td>hDA0       </td><td>0.066901408</td></tr>\n",
       "\t<tr><td>NEUROdop   </td><td>hDA0       </td><td>0.009090909</td></tr>\n",
       "\t<tr><td>NEUROinh5  </td><td>hDA0       </td><td>0.066666667</td></tr>\n",
       "\t<tr><td>NEUROinh1  </td><td>hDA0       </td><td>0.097053726</td></tr>\n",
       "</tbody>\n",
       "</table>\n"
      ],
      "text/latex": [
       "\\begin{tabular}{r|lll}\n",
       " Var1 & Var2 & value\\\\\n",
       "\\hline\n",
       "\t NEUROinh4   & hDA0        & 0.014234875\\\\\n",
       "\t NEUROinh2   & hDA0        & 0.002409639\\\\\n",
       "\t NEUROinh3   & hDA0        & 0.066901408\\\\\n",
       "\t NEUROdop    & hDA0        & 0.009090909\\\\\n",
       "\t NEUROinh5   & hDA0        & 0.066666667\\\\\n",
       "\t NEUROinh1   & hDA0        & 0.097053726\\\\\n",
       "\\end{tabular}\n"
      ],
      "text/markdown": [
       "\n",
       "| Var1 | Var2 | value |\n",
       "|---|---|---|\n",
       "| NEUROinh4   | hDA0        | 0.014234875 |\n",
       "| NEUROinh2   | hDA0        | 0.002409639 |\n",
       "| NEUROinh3   | hDA0        | 0.066901408 |\n",
       "| NEUROdop    | hDA0        | 0.009090909 |\n",
       "| NEUROinh5   | hDA0        | 0.066666667 |\n",
       "| NEUROinh1   | hDA0        | 0.097053726 |\n",
       "\n"
      ],
      "text/plain": [
       "  Var1      Var2 value      \n",
       "1 NEUROinh4 hDA0 0.014234875\n",
       "2 NEUROinh2 hDA0 0.002409639\n",
       "3 NEUROinh3 hDA0 0.066901408\n",
       "4 NEUROdop  hDA0 0.009090909\n",
       "5 NEUROinh5 hDA0 0.066666667\n",
       "6 NEUROinh1 hDA0 0.097053726"
      ]
     },
     "metadata": {},
     "output_type": "display_data"
    }
   ],
   "source": [
    "library(reshape2)\n",
    "mat_melt = melt(mat)\n",
    "head(mat_melt)"
   ]
  },
  {
   "cell_type": "code",
   "execution_count": 47,
   "metadata": {},
   "outputs": [
    {
     "data": {
      "image/png": "[encoded data removed]",
      "text/plain": [
       "plot without title"
      ]
     },
     "metadata": {},
     "output_type": "display_data"
    }
   ],
   "source": [
    "df = as.data.frame(mat_melt)\n",
    "options(repr.plot.width=12, repr.plot.height=8)\n",
    "ggplot(df, aes(x = as.factor(Var1), y = value, fill = as.factor(Var2))) + geom_bar(stat=\"identity\", col = \"grey\")"
   ]
  },
  {
   "cell_type": "code",
   "execution_count": null,
   "metadata": {},
   "outputs": [],
   "source": []
  }
 ],
 "metadata": {
  "kernelspec": {
   "display_name": "R",
   "language": "R",
   "name": "ir"
  },
  "language_info": {
   "codemirror_mode": "r",
   "file_extension": ".r",
   "mimetype": "text/x-r-source",
   "name": "R",
   "pygments_lexer": "r",
   "version": "3.6.1"
  }
 },
 "nbformat": 4,
 "nbformat_minor": 4
}
