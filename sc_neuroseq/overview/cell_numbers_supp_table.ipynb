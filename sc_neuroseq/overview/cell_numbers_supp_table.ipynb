{
 "cells": [
  {
   "cell_type": "code",
   "execution_count": 122,
   "metadata": {},
   "outputs": [],
   "source": [
    "library(dplyr)\n",
    "library(ggplot2)"
   ]
  },
  {
   "cell_type": "code",
   "execution_count": 123,
   "metadata": {},
   "outputs": [
    {
     "data": {
      "text/html": [
       "<table>\n",
       "<thead><tr><th scope=col>donor_id</th><th scope=col>pool_id</th><th scope=col>time_point</th><th scope=col>celltype</th><th scope=col>n_cells</th><th scope=col>treatment</th></tr></thead>\n",
       "<tbody>\n",
       "\t<tr><td>HPSI0114i-eipl_1</td><td>pool1           </td><td>D11             </td><td>FPP             </td><td>1672            </td><td>NONE            </td></tr>\n",
       "\t<tr><td>HPSI0114i-eipl_1</td><td>pool1           </td><td>D11             </td><td>NB              </td><td> 228            </td><td>NONE            </td></tr>\n",
       "\t<tr><td>HPSI0114i-eipl_1</td><td>pool1           </td><td>D11             </td><td>P_FPP           </td><td>1217            </td><td>NONE            </td></tr>\n",
       "\t<tr><td>HPSI0114i-kolf_2</td><td>pool12          </td><td>D11             </td><td>FPP             </td><td> 334            </td><td>NONE            </td></tr>\n",
       "\t<tr><td>HPSI0114i-kolf_2</td><td>pool12          </td><td>D11             </td><td>NB              </td><td>  16            </td><td>NONE            </td></tr>\n",
       "\t<tr><td>HPSI0114i-kolf_2</td><td>pool12          </td><td>D11             </td><td>P_FPP           </td><td> 190            </td><td>NONE            </td></tr>\n",
       "</tbody>\n",
       "</table>\n"
      ],
      "text/latex": [
       "\\begin{tabular}{r|llllll}\n",
       " donor\\_id & pool\\_id & time\\_point & celltype & n\\_cells & treatment\\\\\n",
       "\\hline\n",
       "\t HPSI0114i-eipl\\_1 & pool1              & D11                & FPP                & 1672               & NONE              \\\\\n",
       "\t HPSI0114i-eipl\\_1 & pool1              & D11                & NB                 &  228               & NONE              \\\\\n",
       "\t HPSI0114i-eipl\\_1 & pool1              & D11                & P\\_FPP            & 1217               & NONE              \\\\\n",
       "\t HPSI0114i-kolf\\_2 & pool12             & D11                & FPP                &  334               & NONE              \\\\\n",
       "\t HPSI0114i-kolf\\_2 & pool12             & D11                & NB                 &   16               & NONE              \\\\\n",
       "\t HPSI0114i-kolf\\_2 & pool12             & D11                & P\\_FPP            &  190               & NONE              \\\\\n",
       "\\end{tabular}\n"
      ],
      "text/markdown": [
       "\n",
       "| donor_id | pool_id | time_point | celltype | n_cells | treatment |\n",
       "|---|---|---|---|---|---|\n",
       "| HPSI0114i-eipl_1 | pool1            | D11              | FPP              | 1672             | NONE             |\n",
       "| HPSI0114i-eipl_1 | pool1            | D11              | NB               |  228             | NONE             |\n",
       "| HPSI0114i-eipl_1 | pool1            | D11              | P_FPP            | 1217             | NONE             |\n",
       "| HPSI0114i-kolf_2 | pool12           | D11              | FPP              |  334             | NONE             |\n",
       "| HPSI0114i-kolf_2 | pool12           | D11              | NB               |   16             | NONE             |\n",
       "| HPSI0114i-kolf_2 | pool12           | D11              | P_FPP            |  190             | NONE             |\n",
       "\n"
      ],
      "text/plain": [
       "  donor_id         pool_id time_point celltype n_cells treatment\n",
       "1 HPSI0114i-eipl_1 pool1   D11        FPP      1672    NONE     \n",
       "2 HPSI0114i-eipl_1 pool1   D11        NB        228    NONE     \n",
       "3 HPSI0114i-eipl_1 pool1   D11        P_FPP    1217    NONE     \n",
       "4 HPSI0114i-kolf_2 pool12  D11        FPP       334    NONE     \n",
       "5 HPSI0114i-kolf_2 pool12  D11        NB         16    NONE     \n",
       "6 HPSI0114i-kolf_2 pool12  D11        P_FPP     190    NONE     "
      ]
     },
     "metadata": {},
     "output_type": "display_data"
    }
   ],
   "source": [
    "mydir = \"/nfs/leia/research/stegle/dseaton/hipsci/singlecell_neuroseq/data/data_processed/pool1_13_noddd_D11/\"\n",
    "mysuffix = \"pool1_13_noddd_D11.scanpy.w_metadata.w_celltype.scanpy.obs_df.groupedby.donor_id-pool_id-time_point.celltype_counts.tsv\"\n",
    "\n",
    "myfilename = paste0(mydir,mysuffix)\n",
    "df0 = read.table(myfilename, header = T)\n",
    "df0$treatment = 'NONE'\n",
    "head(df0)"
   ]
  },
  {
   "cell_type": "code",
   "execution_count": 124,
   "metadata": {},
   "outputs": [
    {
     "data": {
      "text/html": [
       "<table>\n",
       "<thead><tr><th scope=col>donor_id</th><th scope=col>pool_id</th><th scope=col>time_point</th><th scope=col>celltype</th><th scope=col>n_cells</th><th scope=col>treatment</th></tr></thead>\n",
       "<tbody>\n",
       "\t<tr><td>HPSI0114i-bezi_3</td><td>pool10          </td><td>D30             </td><td>FPP             </td><td> 62             </td><td>NONE            </td></tr>\n",
       "\t<tr><td>HPSI0114i-bezi_3</td><td>pool10          </td><td>D30             </td><td>U_Neur1         </td><td> 11             </td><td>NONE            </td></tr>\n",
       "\t<tr><td>HPSI0114i-bezi_3</td><td>pool10          </td><td>D30             </td><td>DA              </td><td>115             </td><td>NONE            </td></tr>\n",
       "\t<tr><td>HPSI0114i-bezi_3</td><td>pool10          </td><td>D30             </td><td>Epen1           </td><td> 21             </td><td>NONE            </td></tr>\n",
       "\t<tr><td>HPSI0114i-bezi_3</td><td>pool10          </td><td>D30             </td><td>P_FPP           </td><td> 13             </td><td>NONE            </td></tr>\n",
       "\t<tr><td>HPSI0114i-bezi_3</td><td>pool10          </td><td>D30             </td><td>Sert            </td><td> 66             </td><td>NONE            </td></tr>\n",
       "</tbody>\n",
       "</table>\n"
      ],
      "text/latex": [
       "\\begin{tabular}{r|llllll}\n",
       " donor\\_id & pool\\_id & time\\_point & celltype & n\\_cells & treatment\\\\\n",
       "\\hline\n",
       "\t HPSI0114i-bezi\\_3 & pool10             & D30                & FPP                &  62                & NONE              \\\\\n",
       "\t HPSI0114i-bezi\\_3 & pool10             & D30                & U\\_Neur1          &  11                & NONE              \\\\\n",
       "\t HPSI0114i-bezi\\_3 & pool10             & D30                & DA                 & 115                & NONE              \\\\\n",
       "\t HPSI0114i-bezi\\_3 & pool10             & D30                & Epen1              &  21                & NONE              \\\\\n",
       "\t HPSI0114i-bezi\\_3 & pool10             & D30                & P\\_FPP            &  13                & NONE              \\\\\n",
       "\t HPSI0114i-bezi\\_3 & pool10             & D30                & Sert               &  66                & NONE              \\\\\n",
       "\\end{tabular}\n"
      ],
      "text/markdown": [
       "\n",
       "| donor_id | pool_id | time_point | celltype | n_cells | treatment |\n",
       "|---|---|---|---|---|---|\n",
       "| HPSI0114i-bezi_3 | pool10           | D30              | FPP              |  62              | NONE             |\n",
       "| HPSI0114i-bezi_3 | pool10           | D30              | U_Neur1          |  11              | NONE             |\n",
       "| HPSI0114i-bezi_3 | pool10           | D30              | DA               | 115              | NONE             |\n",
       "| HPSI0114i-bezi_3 | pool10           | D30              | Epen1            |  21              | NONE             |\n",
       "| HPSI0114i-bezi_3 | pool10           | D30              | P_FPP            |  13              | NONE             |\n",
       "| HPSI0114i-bezi_3 | pool10           | D30              | Sert             |  66              | NONE             |\n",
       "\n"
      ],
      "text/plain": [
       "  donor_id         pool_id time_point celltype n_cells treatment\n",
       "1 HPSI0114i-bezi_3 pool10  D30        FPP       62     NONE     \n",
       "2 HPSI0114i-bezi_3 pool10  D30        U_Neur1   11     NONE     \n",
       "3 HPSI0114i-bezi_3 pool10  D30        DA       115     NONE     \n",
       "4 HPSI0114i-bezi_3 pool10  D30        Epen1     21     NONE     \n",
       "5 HPSI0114i-bezi_3 pool10  D30        P_FPP     13     NONE     \n",
       "6 HPSI0114i-bezi_3 pool10  D30        Sert      66     NONE     "
      ]
     },
     "metadata": {},
     "output_type": "display_data"
    }
   ],
   "source": [
    "mydir = \"/nfs/leia/research/stegle/dseaton/hipsci/singlecell_neuroseq/data/data_processed/pool1_13_noddd_D30/\"\n",
    "mysuffix = \"pool1_13_noddd_D30.scanpy.w_metadata.w_celltype.scanpy.obs_df.groupedby.donor_id-pool_id-time_point.celltype_counts.tsv\"\n",
    "\n",
    "myfilename = paste0(mydir,mysuffix)\n",
    "df1= read.table(myfilename, header = T)\n",
    "df1$celltype <- as.character(df1$celltype)\n",
    "df1$celltype[df1$celltype == \"Astro\"] <- \"FPP\"\n",
    "df1$celltype[df1$celltype == \"CHem\"] <- \"U_Neur1\"\n",
    "df1$celltype[df1$celltype == \"unknown\"] <- \"U_Neur2\"\n",
    "df1$treatment = 'NONE'\n",
    "head(df1)"
   ]
  },
  {
   "cell_type": "code",
   "execution_count": 125,
   "metadata": {},
   "outputs": [
    {
     "data": {
      "text/html": [
       "<table>\n",
       "<thead><tr><th scope=col>donor_id</th><th scope=col>pool_id</th><th scope=col>time_point</th><th scope=col>treatment</th><th scope=col>celltype</th><th scope=col>n_cells</th></tr></thead>\n",
       "<tbody>\n",
       "\t<tr><td>HPSI0114i-bezi_3</td><td>pool10          </td><td>D52             </td><td>NONE            </td><td>Astro           </td><td> 2              </td></tr>\n",
       "\t<tr><td>HPSI0114i-bezi_3</td><td>pool10          </td><td>D52             </td><td>NONE            </td><td>U_Neur1         </td><td> 5              </td></tr>\n",
       "\t<tr><td>HPSI0114i-bezi_3</td><td>pool10          </td><td>D52             </td><td>NONE            </td><td>DA              </td><td>66              </td></tr>\n",
       "\t<tr><td>HPSI0114i-bezi_3</td><td>pool10          </td><td>D52             </td><td>NONE            </td><td>Epen1           </td><td>39              </td></tr>\n",
       "\t<tr><td>HPSI0114i-bezi_3</td><td>pool10          </td><td>D52             </td><td>NONE            </td><td>FPP             </td><td>31              </td></tr>\n",
       "\t<tr><td>HPSI0114i-bezi_3</td><td>pool10          </td><td>D52             </td><td>NONE            </td><td>P_FPP           </td><td> 4              </td></tr>\n",
       "</tbody>\n",
       "</table>\n"
      ],
      "text/latex": [
       "\\begin{tabular}{r|llllll}\n",
       " donor\\_id & pool\\_id & time\\_point & treatment & celltype & n\\_cells\\\\\n",
       "\\hline\n",
       "\t HPSI0114i-bezi\\_3 & pool10             & D52                & NONE               & Astro              &  2                \\\\\n",
       "\t HPSI0114i-bezi\\_3 & pool10             & D52                & NONE               & U\\_Neur1          &  5                \\\\\n",
       "\t HPSI0114i-bezi\\_3 & pool10             & D52                & NONE               & DA                 & 66                \\\\\n",
       "\t HPSI0114i-bezi\\_3 & pool10             & D52                & NONE               & Epen1              & 39                \\\\\n",
       "\t HPSI0114i-bezi\\_3 & pool10             & D52                & NONE               & FPP                & 31                \\\\\n",
       "\t HPSI0114i-bezi\\_3 & pool10             & D52                & NONE               & P\\_FPP            &  4                \\\\\n",
       "\\end{tabular}\n"
      ],
      "text/markdown": [
       "\n",
       "| donor_id | pool_id | time_point | treatment | celltype | n_cells |\n",
       "|---|---|---|---|---|---|\n",
       "| HPSI0114i-bezi_3 | pool10           | D52              | NONE             | Astro            |  2               |\n",
       "| HPSI0114i-bezi_3 | pool10           | D52              | NONE             | U_Neur1          |  5               |\n",
       "| HPSI0114i-bezi_3 | pool10           | D52              | NONE             | DA               | 66               |\n",
       "| HPSI0114i-bezi_3 | pool10           | D52              | NONE             | Epen1            | 39               |\n",
       "| HPSI0114i-bezi_3 | pool10           | D52              | NONE             | FPP              | 31               |\n",
       "| HPSI0114i-bezi_3 | pool10           | D52              | NONE             | P_FPP            |  4               |\n",
       "\n"
      ],
      "text/plain": [
       "  donor_id         pool_id time_point treatment celltype n_cells\n",
       "1 HPSI0114i-bezi_3 pool10  D52        NONE      Astro     2     \n",
       "2 HPSI0114i-bezi_3 pool10  D52        NONE      U_Neur1   5     \n",
       "3 HPSI0114i-bezi_3 pool10  D52        NONE      DA       66     \n",
       "4 HPSI0114i-bezi_3 pool10  D52        NONE      Epen1    39     \n",
       "5 HPSI0114i-bezi_3 pool10  D52        NONE      FPP      31     \n",
       "6 HPSI0114i-bezi_3 pool10  D52        NONE      P_FPP     4     "
      ]
     },
     "metadata": {},
     "output_type": "display_data"
    }
   ],
   "source": [
    "mydir = \"/nfs/leia/research/stegle/dseaton/hipsci/singlecell_neuroseq/data/data_processed/pool1_17_D52/\"\n",
    "mysuffix = \"pool1_17_D52.scanpy.w_metadata.w_celltype.scanpy.obs_df.groupedby.donor_id-pool_id-time_point-treatment.celltype_counts.tsv\"\n",
    "\n",
    "myfilename = paste0(mydir,mysuffix)\n",
    "df2 = read.table(myfilename, header = T)\n",
    "df2$celltype <- as.character(df2$celltype)\n",
    "df2$celltype[df2$celltype == \"CHem\"] <- \"U_Neur1\"\n",
    "df2$celltype[df2$celltype == \"unknown\"] <- \"U_Neur3\"\n",
    "head(df2)"
   ]
  },
  {
   "cell_type": "code",
   "execution_count": 126,
   "metadata": {
    "scrolled": true
   },
   "outputs": [
    {
     "data": {
      "text/html": [
       "<table>\n",
       "<thead><tr><th scope=col>donor_id</th><th scope=col>pool_id</th><th scope=col>time_point</th><th scope=col>celltype</th><th scope=col>n_cells</th><th scope=col>treatment</th></tr></thead>\n",
       "<tbody>\n",
       "\t<tr><td>HPSI0114i-eipl_1</td><td>pool1           </td><td>D11             </td><td>FPP             </td><td>1672            </td><td>NONE            </td></tr>\n",
       "\t<tr><td>HPSI0114i-eipl_1</td><td>pool1           </td><td>D11             </td><td>NB              </td><td> 228            </td><td>NONE            </td></tr>\n",
       "\t<tr><td>HPSI0114i-eipl_1</td><td>pool1           </td><td>D11             </td><td>P_FPP           </td><td>1217            </td><td>NONE            </td></tr>\n",
       "\t<tr><td>HPSI0114i-kolf_2</td><td>pool12          </td><td>D11             </td><td>FPP             </td><td> 334            </td><td>NONE            </td></tr>\n",
       "\t<tr><td>HPSI0114i-kolf_2</td><td>pool12          </td><td>D11             </td><td>NB              </td><td>  16            </td><td>NONE            </td></tr>\n",
       "\t<tr><td>HPSI0114i-kolf_2</td><td>pool12          </td><td>D11             </td><td>P_FPP           </td><td> 190            </td><td>NONE            </td></tr>\n",
       "</tbody>\n",
       "</table>\n"
      ],
      "text/latex": [
       "\\begin{tabular}{r|llllll}\n",
       " donor\\_id & pool\\_id & time\\_point & celltype & n\\_cells & treatment\\\\\n",
       "\\hline\n",
       "\t HPSI0114i-eipl\\_1 & pool1              & D11                & FPP                & 1672               & NONE              \\\\\n",
       "\t HPSI0114i-eipl\\_1 & pool1              & D11                & NB                 &  228               & NONE              \\\\\n",
       "\t HPSI0114i-eipl\\_1 & pool1              & D11                & P\\_FPP            & 1217               & NONE              \\\\\n",
       "\t HPSI0114i-kolf\\_2 & pool12             & D11                & FPP                &  334               & NONE              \\\\\n",
       "\t HPSI0114i-kolf\\_2 & pool12             & D11                & NB                 &   16               & NONE              \\\\\n",
       "\t HPSI0114i-kolf\\_2 & pool12             & D11                & P\\_FPP            &  190               & NONE              \\\\\n",
       "\\end{tabular}\n"
      ],
      "text/markdown": [
       "\n",
       "| donor_id | pool_id | time_point | celltype | n_cells | treatment |\n",
       "|---|---|---|---|---|---|\n",
       "| HPSI0114i-eipl_1 | pool1            | D11              | FPP              | 1672             | NONE             |\n",
       "| HPSI0114i-eipl_1 | pool1            | D11              | NB               |  228             | NONE             |\n",
       "| HPSI0114i-eipl_1 | pool1            | D11              | P_FPP            | 1217             | NONE             |\n",
       "| HPSI0114i-kolf_2 | pool12           | D11              | FPP              |  334             | NONE             |\n",
       "| HPSI0114i-kolf_2 | pool12           | D11              | NB               |   16             | NONE             |\n",
       "| HPSI0114i-kolf_2 | pool12           | D11              | P_FPP            |  190             | NONE             |\n",
       "\n"
      ],
      "text/plain": [
       "  donor_id         pool_id time_point celltype n_cells treatment\n",
       "1 HPSI0114i-eipl_1 pool1   D11        FPP      1672    NONE     \n",
       "2 HPSI0114i-eipl_1 pool1   D11        NB        228    NONE     \n",
       "3 HPSI0114i-eipl_1 pool1   D11        P_FPP    1217    NONE     \n",
       "4 HPSI0114i-kolf_2 pool12  D11        FPP       334    NONE     \n",
       "5 HPSI0114i-kolf_2 pool12  D11        NB         16    NONE     \n",
       "6 HPSI0114i-kolf_2 pool12  D11        P_FPP     190    NONE     "
      ]
     },
     "metadata": {},
     "output_type": "display_data"
    }
   ],
   "source": [
    "df = rbind(df0,df1,df2)\n",
    "head(df)"
   ]
  },
  {
   "cell_type": "code",
   "execution_count": 127,
   "metadata": {},
   "outputs": [],
   "source": [
    "supp_tables_dir = \"/hps/nobackup/stegle/users/acuomo/all_scripts/sc_neuroseq/neuroseq_ms/supp_tables/\"\n",
    "filename = paste0(supp_tables_dir,\"SuppTable2_ncells_per_donor_pool_celltype_condition.csv\")\n",
    "write.csv(df,filename, quote = F, row.names = F)"
   ]
  },
  {
   "cell_type": "code",
   "execution_count": 134,
   "metadata": {},
   "outputs": [
    {
     "data": {
      "text/html": [
       "<table>\n",
       "<thead><tr><th scope=col>pool_id</th><th scope=col>total_cells</th></tr></thead>\n",
       "<tbody>\n",
       "\t<tr><td>pool1 </td><td>25722 </td></tr>\n",
       "\t<tr><td>pool11</td><td>10866 </td></tr>\n",
       "\t<tr><td>pool13</td><td> 4230 </td></tr>\n",
       "\t<tr><td>pool2 </td><td>16864 </td></tr>\n",
       "\t<tr><td>pool3 </td><td>16103 </td></tr>\n",
       "\t<tr><td>pool4 </td><td>31642 </td></tr>\n",
       "\t<tr><td>pool5 </td><td>23162 </td></tr>\n",
       "\t<tr><td>pool6 </td><td>17904 </td></tr>\n",
       "\t<tr><td>pool7 </td><td>18848 </td></tr>\n",
       "\t<tr><td>pool8 </td><td>19809 </td></tr>\n",
       "\t<tr><td>pool9 </td><td> 9167 </td></tr>\n",
       "\t<tr><td>pool10</td><td> 8657 </td></tr>\n",
       "\t<tr><td>pool14</td><td>  613 </td></tr>\n",
       "\t<tr><td>pool15</td><td> 7308 </td></tr>\n",
       "\t<tr><td>pool16</td><td> 4521 </td></tr>\n",
       "\t<tr><td>pool17</td><td> 3822 </td></tr>\n",
       "</tbody>\n",
       "</table>\n"
      ],
      "text/latex": [
       "\\begin{tabular}{r|ll}\n",
       " pool\\_id & total\\_cells\\\\\n",
       "\\hline\n",
       "\t pool1  & 25722 \\\\\n",
       "\t pool11 & 10866 \\\\\n",
       "\t pool13 &  4230 \\\\\n",
       "\t pool2  & 16864 \\\\\n",
       "\t pool3  & 16103 \\\\\n",
       "\t pool4  & 31642 \\\\\n",
       "\t pool5  & 23162 \\\\\n",
       "\t pool6  & 17904 \\\\\n",
       "\t pool7  & 18848 \\\\\n",
       "\t pool8  & 19809 \\\\\n",
       "\t pool9  &  9167 \\\\\n",
       "\t pool10 &  8657 \\\\\n",
       "\t pool14 &   613 \\\\\n",
       "\t pool15 &  7308 \\\\\n",
       "\t pool16 &  4521 \\\\\n",
       "\t pool17 &  3822 \\\\\n",
       "\\end{tabular}\n"
      ],
      "text/markdown": [
       "\n",
       "| pool_id | total_cells |\n",
       "|---|---|\n",
       "| pool1  | 25722  |\n",
       "| pool11 | 10866  |\n",
       "| pool13 |  4230  |\n",
       "| pool2  | 16864  |\n",
       "| pool3  | 16103  |\n",
       "| pool4  | 31642  |\n",
       "| pool5  | 23162  |\n",
       "| pool6  | 17904  |\n",
       "| pool7  | 18848  |\n",
       "| pool8  | 19809  |\n",
       "| pool9  |  9167  |\n",
       "| pool10 |  8657  |\n",
       "| pool14 |   613  |\n",
       "| pool15 |  7308  |\n",
       "| pool16 |  4521  |\n",
       "| pool17 |  3822  |\n",
       "\n"
      ],
      "text/plain": [
       "   pool_id total_cells\n",
       "1  pool1   25722      \n",
       "2  pool11  10866      \n",
       "3  pool13   4230      \n",
       "4  pool2   16864      \n",
       "5  pool3   16103      \n",
       "6  pool4   31642      \n",
       "7  pool5   23162      \n",
       "8  pool6   17904      \n",
       "9  pool7   18848      \n",
       "10 pool8   19809      \n",
       "11 pool9    9167      \n",
       "12 pool10   8657      \n",
       "13 pool14    613      \n",
       "14 pool15   7308      \n",
       "15 pool16   4521      \n",
       "16 pool17   3822      "
      ]
     },
     "metadata": {},
     "output_type": "display_data"
    }
   ],
   "source": [
    "df[df$time_point == 'D52' & df$treatment == 'ROT',] %>% group_by(pool_id) %>% summarize(total_cells = sum(n_cells))"
   ]
  },
  {
   "cell_type": "code",
   "execution_count": null,
   "metadata": {},
   "outputs": [],
   "source": []
  },
  {
   "cell_type": "code",
   "execution_count": 45,
   "metadata": {},
   "outputs": [
    {
     "data": {
      "text/html": [
       "<table>\n",
       "<thead><tr><th scope=col>donor_id</th><th scope=col>total_cells</th></tr></thead>\n",
       "<tbody>\n",
       "\t<tr><td>HPSI0514i-fiaj_1</td><td>59973           </td></tr>\n",
       "\t<tr><td>HPSI0414i-mita_1</td><td>43603           </td></tr>\n",
       "\t<tr><td>HPSI0114i-eipl_1</td><td>31643           </td></tr>\n",
       "\t<tr><td>HPSI1014i-eesb_1</td><td>29840           </td></tr>\n",
       "\t<tr><td>HPSI0115i-paim_1</td><td>29425           </td></tr>\n",
       "\t<tr><td>HPSI0215i-zett_5</td><td>27406           </td></tr>\n",
       "</tbody>\n",
       "</table>\n"
      ],
      "text/latex": [
       "\\begin{tabular}{r|ll}\n",
       " donor\\_id & total\\_cells\\\\\n",
       "\\hline\n",
       "\t HPSI0514i-fiaj\\_1 & 59973             \\\\\n",
       "\t HPSI0414i-mita\\_1 & 43603             \\\\\n",
       "\t HPSI0114i-eipl\\_1 & 31643             \\\\\n",
       "\t HPSI1014i-eesb\\_1 & 29840             \\\\\n",
       "\t HPSI0115i-paim\\_1 & 29425             \\\\\n",
       "\t HPSI0215i-zett\\_5 & 27406             \\\\\n",
       "\\end{tabular}\n"
      ],
      "text/markdown": [
       "\n",
       "| donor_id | total_cells |\n",
       "|---|---|\n",
       "| HPSI0514i-fiaj_1 | 59973            |\n",
       "| HPSI0414i-mita_1 | 43603            |\n",
       "| HPSI0114i-eipl_1 | 31643            |\n",
       "| HPSI1014i-eesb_1 | 29840            |\n",
       "| HPSI0115i-paim_1 | 29425            |\n",
       "| HPSI0215i-zett_5 | 27406            |\n",
       "\n"
      ],
      "text/plain": [
       "  donor_id         total_cells\n",
       "1 HPSI0514i-fiaj_1 59973      \n",
       "2 HPSI0414i-mita_1 43603      \n",
       "3 HPSI0114i-eipl_1 31643      \n",
       "4 HPSI1014i-eesb_1 29840      \n",
       "5 HPSI0115i-paim_1 29425      \n",
       "6 HPSI0215i-zett_5 27406      "
      ]
     },
     "metadata": {},
     "output_type": "display_data"
    }
   ],
   "source": [
    "df_tot = df %>% group_by(donor_id) %>% summarize(total_cells = sum(n_cells))\n",
    "\n",
    "df_tot = df_tot[order(df_tot$total_cells, decreasing = T),]\n",
    "head(df_tot)"
   ]
  },
  {
   "cell_type": "code",
   "execution_count": 46,
   "metadata": {},
   "outputs": [
    {
     "data": {
      "text/html": [
       "215"
      ],
      "text/latex": [
       "215"
      ],
      "text/markdown": [
       "215"
      ],
      "text/plain": [
       "[1] 215"
      ]
     },
     "metadata": {},
     "output_type": "display_data"
    },
    {
     "data": {
      "text/html": [
       "513699"
      ],
      "text/latex": [
       "513699"
      ],
      "text/markdown": [
       "513699"
      ],
      "text/plain": [
       "[1] 513699"
      ]
     },
     "metadata": {},
     "output_type": "display_data"
    },
    {
     "data": {
      "text/html": [
       "518931"
      ],
      "text/latex": [
       "518931"
      ],
      "text/markdown": [
       "518931"
      ],
      "text/plain": [
       "[1] 518931"
      ]
     },
     "metadata": {},
     "output_type": "display_data"
    },
    {
     "data": {
      "text/html": [
       "0.116279069767442"
      ],
      "text/latex": [
       "0.116279069767442"
      ],
      "text/markdown": [
       "0.116279069767442"
      ],
      "text/plain": [
       "[1] 0.1162791"
      ]
     },
     "metadata": {},
     "output_type": "display_data"
    }
   ],
   "source": [
    "nrow(df_tot)\n",
    "sum(df_tot$total_cells)/2\n",
    "x = 25\n",
    "sum(df_tot$total_cells[1:x])\n",
    "x/nrow(df_tot)"
   ]
  },
  {
   "cell_type": "code",
   "execution_count": 101,
   "metadata": {},
   "outputs": [
    {
     "data": {
      "text/html": [
       "<table>\n",
       "<thead><tr><th scope=col>donor_id</th><th scope=col>total_cells</th></tr></thead>\n",
       "<tbody>\n",
       "\t<tr><td>HPSI0414i-mita_1</td><td>14640           </td></tr>\n",
       "\t<tr><td>HPSI0514i-fiaj_1</td><td>10446           </td></tr>\n",
       "</tbody>\n",
       "</table>\n"
      ],
      "text/latex": [
       "\\begin{tabular}{r|ll}\n",
       " donor\\_id & total\\_cells\\\\\n",
       "\\hline\n",
       "\t HPSI0414i-mita\\_1 & 14640             \\\\\n",
       "\t HPSI0514i-fiaj\\_1 & 10446             \\\\\n",
       "\\end{tabular}\n"
      ],
      "text/markdown": [
       "\n",
       "| donor_id | total_cells |\n",
       "|---|---|\n",
       "| HPSI0414i-mita_1 | 14640            |\n",
       "| HPSI0514i-fiaj_1 | 10446            |\n",
       "\n"
      ],
      "text/plain": [
       "  donor_id         total_cells\n",
       "1 HPSI0414i-mita_1 14640      \n",
       "2 HPSI0514i-fiaj_1 10446      "
      ]
     },
     "metadata": {},
     "output_type": "display_data"
    }
   ],
   "source": [
    "df_D11 = df[df$time_point == 'D11',] %>% group_by(donor_id) %>% summarize(total_cells = sum(n_cells))\n",
    "df_D11 = df_D11[order(df_D11$total_cells, decreasing = T),]\n",
    "head(df_D11,2)"
   ]
  },
  {
   "cell_type": "code",
   "execution_count": 106,
   "metadata": {},
   "outputs": [
    {
     "data": {
      "text/html": [
       "177"
      ],
      "text/latex": [
       "177"
      ],
      "text/markdown": [
       "177"
      ],
      "text/plain": [
       "[1] 177"
      ]
     },
     "metadata": {},
     "output_type": "display_data"
    },
    {
     "data": {
      "text/html": [
       "126690.5"
      ],
      "text/latex": [
       "126690.5"
      ],
      "text/markdown": [
       "126690.5"
      ],
      "text/plain": [
       "[1] 126690.5"
      ]
     },
     "metadata": {},
     "output_type": "display_data"
    },
    {
     "data": {
      "text/html": [
       "128824"
      ],
      "text/latex": [
       "128824"
      ],
      "text/markdown": [
       "128824"
      ],
      "text/plain": [
       "[1] 128824"
      ]
     },
     "metadata": {},
     "output_type": "display_data"
    },
    {
     "data": {
      "text/html": [
       "0.175141242937853"
      ],
      "text/latex": [
       "0.175141242937853"
      ],
      "text/markdown": [
       "0.175141242937853"
      ],
      "text/plain": [
       "[1] 0.1751412"
      ]
     },
     "metadata": {},
     "output_type": "display_data"
    }
   ],
   "source": [
    "nrow(df_D11)\n",
    "sum(df_D11$total_cells)/2\n",
    "x = 31\n",
    "sum(df_D11$total_cells[1:x])\n",
    "x/nrow(df_D11)"
   ]
  },
  {
   "cell_type": "code",
   "execution_count": 107,
   "metadata": {},
   "outputs": [
    {
     "data": {
      "text/html": [
       "<table>\n",
       "<thead><tr><th scope=col>donor_id</th><th scope=col>total_cells</th></tr></thead>\n",
       "<tbody>\n",
       "\t<tr><td>HPSI0514i-fiaj_1</td><td>13299           </td></tr>\n",
       "\t<tr><td>HPSI0414i-mita_1</td><td>13112           </td></tr>\n",
       "</tbody>\n",
       "</table>\n"
      ],
      "text/latex": [
       "\\begin{tabular}{r|ll}\n",
       " donor\\_id & total\\_cells\\\\\n",
       "\\hline\n",
       "\t HPSI0514i-fiaj\\_1 & 13299             \\\\\n",
       "\t HPSI0414i-mita\\_1 & 13112             \\\\\n",
       "\\end{tabular}\n"
      ],
      "text/markdown": [
       "\n",
       "| donor_id | total_cells |\n",
       "|---|---|\n",
       "| HPSI0514i-fiaj_1 | 13299            |\n",
       "| HPSI0414i-mita_1 | 13112            |\n",
       "\n"
      ],
      "text/plain": [
       "  donor_id         total_cells\n",
       "1 HPSI0514i-fiaj_1 13299      \n",
       "2 HPSI0414i-mita_1 13112      "
      ]
     },
     "metadata": {},
     "output_type": "display_data"
    }
   ],
   "source": [
    "df_D30 = df[df$time_point == 'D30',] %>% group_by(donor_id) %>% summarize(total_cells = sum(n_cells))\n",
    "df_D30 = df_D30[order(df_D30$total_cells, decreasing = T),]\n",
    "head(df_D30,2)"
   ]
  },
  {
   "cell_type": "code",
   "execution_count": 113,
   "metadata": {},
   "outputs": [
    {
     "data": {
      "text/html": [
       "175"
      ],
      "text/latex": [
       "175"
      ],
      "text/markdown": [
       "175"
      ],
      "text/plain": [
       "[1] 175"
      ]
     },
     "metadata": {},
     "output_type": "display_data"
    },
    {
     "data": {
      "text/html": [
       "125461.5"
      ],
      "text/latex": [
       "125461.5"
      ],
      "text/markdown": [
       "125461.5"
      ],
      "text/plain": [
       "[1] 125461.5"
      ]
     },
     "metadata": {},
     "output_type": "display_data"
    },
    {
     "data": {
      "text/html": [
       "127127"
      ],
      "text/latex": [
       "127127"
      ],
      "text/markdown": [
       "127127"
      ],
      "text/plain": [
       "[1] 127127"
      ]
     },
     "metadata": {},
     "output_type": "display_data"
    },
    {
     "data": {
      "text/html": [
       "0.125714285714286"
      ],
      "text/latex": [
       "0.125714285714286"
      ],
      "text/markdown": [
       "0.125714285714286"
      ],
      "text/plain": [
       "[1] 0.1257143"
      ]
     },
     "metadata": {},
     "output_type": "display_data"
    }
   ],
   "source": [
    "nrow(df_D30)\n",
    "sum(df_D30$total_cells)/2\n",
    "x = 22\n",
    "sum(df_D30$total_cells[1:x])\n",
    "x/nrow(df_D30)"
   ]
  },
  {
   "cell_type": "code",
   "execution_count": 114,
   "metadata": {},
   "outputs": [
    {
     "data": {
      "text/html": [
       "<table>\n",
       "<thead><tr><th scope=col>donor_id</th><th scope=col>total_cells</th></tr></thead>\n",
       "<tbody>\n",
       "\t<tr><td>HPSI0514i-fiaj_1</td><td>36228           </td></tr>\n",
       "\t<tr><td>HPSI0114i-eipl_1</td><td>25935           </td></tr>\n",
       "</tbody>\n",
       "</table>\n"
      ],
      "text/latex": [
       "\\begin{tabular}{r|ll}\n",
       " donor\\_id & total\\_cells\\\\\n",
       "\\hline\n",
       "\t HPSI0514i-fiaj\\_1 & 36228             \\\\\n",
       "\t HPSI0114i-eipl\\_1 & 25935             \\\\\n",
       "\\end{tabular}\n"
      ],
      "text/markdown": [
       "\n",
       "| donor_id | total_cells |\n",
       "|---|---|\n",
       "| HPSI0514i-fiaj_1 | 36228            |\n",
       "| HPSI0114i-eipl_1 | 25935            |\n",
       "\n"
      ],
      "text/plain": [
       "  donor_id         total_cells\n",
       "1 HPSI0514i-fiaj_1 36228      \n",
       "2 HPSI0114i-eipl_1 25935      "
      ]
     },
     "metadata": {},
     "output_type": "display_data"
    }
   ],
   "source": [
    "df_D52 = df[df$time_point == 'D52',] %>% group_by(donor_id) %>% summarize(total_cells = sum(n_cells))\n",
    "df_D52 = df_D52[order(df_D52$total_cells, decreasing = T),]\n",
    "head(df_D52,2)"
   ]
  },
  {
   "cell_type": "code",
   "execution_count": 121,
   "metadata": {},
   "outputs": [
    {
     "data": {
      "text/html": [
       "199"
      ],
      "text/latex": [
       "199"
      ],
      "text/markdown": [
       "199"
      ],
      "text/plain": [
       "[1] 199"
      ]
     },
     "metadata": {},
     "output_type": "display_data"
    },
    {
     "data": {
      "text/html": [
       "261547"
      ],
      "text/latex": [
       "261547"
      ],
      "text/markdown": [
       "261547"
      ],
      "text/plain": [
       "[1] 261547"
      ]
     },
     "metadata": {},
     "output_type": "display_data"
    },
    {
     "data": {
      "text/html": [
       "262253"
      ],
      "text/latex": [
       "262253"
      ],
      "text/markdown": [
       "262253"
      ],
      "text/plain": [
       "[1] 262253"
      ]
     },
     "metadata": {},
     "output_type": "display_data"
    },
    {
     "data": {
      "text/html": [
       "0.0904522613065327"
      ],
      "text/latex": [
       "0.0904522613065327"
      ],
      "text/markdown": [
       "0.0904522613065327"
      ],
      "text/plain": [
       "[1] 0.09045226"
      ]
     },
     "metadata": {},
     "output_type": "display_data"
    }
   ],
   "source": [
    "nrow(df_D52)\n",
    "sum(df_D52$total_cells)/2\n",
    "x = 18\n",
    "sum(df_D52$total_cells[1:x])\n",
    "x/nrow(df_D52)"
   ]
  },
  {
   "cell_type": "code",
   "execution_count": null,
   "metadata": {},
   "outputs": [],
   "source": []
  },
  {
   "cell_type": "code",
   "execution_count": null,
   "metadata": {},
   "outputs": [],
   "source": []
  },
  {
   "cell_type": "code",
   "execution_count": 84,
   "metadata": {},
   "outputs": [],
   "source": [
    "df0 = df %>% group_by(donor_id, pool_id) %>% summarize(total_cells = sum(n_cells))\n",
    "pools = unique(df0$pool_id)\n",
    "# length(pools)\n",
    "df1 = data.frame()\n",
    "for (pool in pools){\n",
    "    df_pool = df0[df0$pool_id == pool,]\n",
    "    df_pool = df_pool[order(df_pool$total_cells, decreasing = T),]\n",
    "    lines_in_pool = nrow(df_pool)\n",
    "    tot_cells = sum(df_pool$total_cells)\n",
    "    cells_top_line = df_pool$total_cells[1]\n",
    "    df1 = rbind(df1, data.frame(pool = pool, tot_cells = tot_cells, \n",
    "                                nlines = lines_in_pool, top_cell_line = df_pool$donor_id[1],\n",
    "                                fraction_cells_top_line = cells_top_line/tot_cells))\n",
    "#     print(c(pool,tot_cells,cells_top_line/tot_cells))\n",
    "}"
   ]
  },
  {
   "cell_type": "code",
   "execution_count": 85,
   "metadata": {},
   "outputs": [
    {
     "data": {
      "text/html": [
       "<table>\n",
       "<thead><tr><th scope=col>pool</th><th scope=col>tot_cells</th><th scope=col>nlines</th><th scope=col>top_cell_line</th><th scope=col>fraction_cells_top_line</th></tr></thead>\n",
       "<tbody>\n",
       "\t<tr><td>pool1            </td><td> 85152           </td><td> 7               </td><td>HPSI0114i-eipl_1 </td><td>0.3716061        </td></tr>\n",
       "\t<tr><td>pool12           </td><td> 25547           </td><td>20               </td><td>HPSI0713i-wiol_1 </td><td>0.1162563        </td></tr>\n",
       "\t<tr><td>pool10           </td><td> 31821           </td><td>15               </td><td>HPSI0115i-timk_4 </td><td>0.5545080        </td></tr>\n",
       "\t<tr><td>pool15           </td><td> 17872           </td><td> 9               </td><td>HPSI0613i-oomz_22</td><td>0.2437332        </td></tr>\n",
       "\t<tr><td>pool6            </td><td>131505           </td><td>24               </td><td>HPSI0414i-mita_1 </td><td>0.3315691        </td></tr>\n",
       "\t<tr><td>pool7            </td><td> 88341           </td><td>22               </td><td>HPSI1014i-roug_3 </td><td>0.2197621        </td></tr>\n",
       "\t<tr><td>pool4            </td><td>106152           </td><td>18               </td><td>HPSI1014i-eesb_1 </td><td>0.2811063        </td></tr>\n",
       "\t<tr><td>pool8            </td><td>114990           </td><td>19               </td><td>HPSI0215i-zett_5 </td><td>0.1514740        </td></tr>\n",
       "\t<tr><td>pool2            </td><td> 76431           </td><td> 9               </td><td>HPSI0614i-uevq_6 </td><td>0.2651019        </td></tr>\n",
       "\t<tr><td>pool3            </td><td> 60959           </td><td> 9               </td><td>HPSI1014i-quls_2 </td><td>0.3023015        </td></tr>\n",
       "\t<tr><td>pool5            </td><td>112393           </td><td>22               </td><td>HPSI0514i-fiaj_1 </td><td>0.4059328        </td></tr>\n",
       "\t<tr><td>pool17           </td><td>  9054           </td><td> 8               </td><td>HPSI1113i-qorq_1 </td><td>0.4929313        </td></tr>\n",
       "\t<tr><td>pool9            </td><td> 93754           </td><td>19               </td><td>HPSI1113i-hayt_3 </td><td>0.1654969        </td></tr>\n",
       "\t<tr><td>pool16           </td><td> 10608           </td><td> 8               </td><td>HPSI0214i-heth_1 </td><td>0.4040347        </td></tr>\n",
       "\t<tr><td>pool11           </td><td> 34447           </td><td>18               </td><td>HPSI0613i-aevs_1 </td><td>0.1630331        </td></tr>\n",
       "\t<tr><td>pool13           </td><td> 27263           </td><td>18               </td><td>HPSI0813i-mioj_1 </td><td>0.1485897        </td></tr>\n",
       "\t<tr><td>pool14           </td><td>  1109           </td><td> 7               </td><td>HPSI0213i-nawk_55</td><td>0.2560866        </td></tr>\n",
       "</tbody>\n",
       "</table>\n"
      ],
      "text/latex": [
       "\\begin{tabular}{r|lllll}\n",
       " pool & tot\\_cells & nlines & top\\_cell\\_line & fraction\\_cells\\_top\\_line\\\\\n",
       "\\hline\n",
       "\t pool1               &  85152              &  7                  & HPSI0114i-eipl\\_1  & 0.3716061          \\\\\n",
       "\t pool12              &  25547              & 20                  & HPSI0713i-wiol\\_1  & 0.1162563          \\\\\n",
       "\t pool10              &  31821              & 15                  & HPSI0115i-timk\\_4  & 0.5545080          \\\\\n",
       "\t pool15              &  17872              &  9                  & HPSI0613i-oomz\\_22 & 0.2437332          \\\\\n",
       "\t pool6               & 131505              & 24                  & HPSI0414i-mita\\_1  & 0.3315691          \\\\\n",
       "\t pool7               &  88341              & 22                  & HPSI1014i-roug\\_3  & 0.2197621          \\\\\n",
       "\t pool4               & 106152              & 18                  & HPSI1014i-eesb\\_1  & 0.2811063          \\\\\n",
       "\t pool8               & 114990              & 19                  & HPSI0215i-zett\\_5  & 0.1514740          \\\\\n",
       "\t pool2               &  76431              &  9                  & HPSI0614i-uevq\\_6  & 0.2651019          \\\\\n",
       "\t pool3               &  60959              &  9                  & HPSI1014i-quls\\_2  & 0.3023015          \\\\\n",
       "\t pool5               & 112393              & 22                  & HPSI0514i-fiaj\\_1  & 0.4059328          \\\\\n",
       "\t pool17              &   9054              &  8                  & HPSI1113i-qorq\\_1  & 0.4929313          \\\\\n",
       "\t pool9               &  93754              & 19                  & HPSI1113i-hayt\\_3  & 0.1654969          \\\\\n",
       "\t pool16              &  10608              &  8                  & HPSI0214i-heth\\_1  & 0.4040347          \\\\\n",
       "\t pool11              &  34447              & 18                  & HPSI0613i-aevs\\_1  & 0.1630331          \\\\\n",
       "\t pool13              &  27263              & 18                  & HPSI0813i-mioj\\_1  & 0.1485897          \\\\\n",
       "\t pool14              &   1109              &  7                  & HPSI0213i-nawk\\_55 & 0.2560866          \\\\\n",
       "\\end{tabular}\n"
      ],
      "text/markdown": [
       "\n",
       "| pool | tot_cells | nlines | top_cell_line | fraction_cells_top_line |\n",
       "|---|---|---|---|---|\n",
       "| pool1             |  85152            |  7                | HPSI0114i-eipl_1  | 0.3716061         |\n",
       "| pool12            |  25547            | 20                | HPSI0713i-wiol_1  | 0.1162563         |\n",
       "| pool10            |  31821            | 15                | HPSI0115i-timk_4  | 0.5545080         |\n",
       "| pool15            |  17872            |  9                | HPSI0613i-oomz_22 | 0.2437332         |\n",
       "| pool6             | 131505            | 24                | HPSI0414i-mita_1  | 0.3315691         |\n",
       "| pool7             |  88341            | 22                | HPSI1014i-roug_3  | 0.2197621         |\n",
       "| pool4             | 106152            | 18                | HPSI1014i-eesb_1  | 0.2811063         |\n",
       "| pool8             | 114990            | 19                | HPSI0215i-zett_5  | 0.1514740         |\n",
       "| pool2             |  76431            |  9                | HPSI0614i-uevq_6  | 0.2651019         |\n",
       "| pool3             |  60959            |  9                | HPSI1014i-quls_2  | 0.3023015         |\n",
       "| pool5             | 112393            | 22                | HPSI0514i-fiaj_1  | 0.4059328         |\n",
       "| pool17            |   9054            |  8                | HPSI1113i-qorq_1  | 0.4929313         |\n",
       "| pool9             |  93754            | 19                | HPSI1113i-hayt_3  | 0.1654969         |\n",
       "| pool16            |  10608            |  8                | HPSI0214i-heth_1  | 0.4040347         |\n",
       "| pool11            |  34447            | 18                | HPSI0613i-aevs_1  | 0.1630331         |\n",
       "| pool13            |  27263            | 18                | HPSI0813i-mioj_1  | 0.1485897         |\n",
       "| pool14            |   1109            |  7                | HPSI0213i-nawk_55 | 0.2560866         |\n",
       "\n"
      ],
      "text/plain": [
       "   pool   tot_cells nlines top_cell_line     fraction_cells_top_line\n",
       "1  pool1   85152     7     HPSI0114i-eipl_1  0.3716061              \n",
       "2  pool12  25547    20     HPSI0713i-wiol_1  0.1162563              \n",
       "3  pool10  31821    15     HPSI0115i-timk_4  0.5545080              \n",
       "4  pool15  17872     9     HPSI0613i-oomz_22 0.2437332              \n",
       "5  pool6  131505    24     HPSI0414i-mita_1  0.3315691              \n",
       "6  pool7   88341    22     HPSI1014i-roug_3  0.2197621              \n",
       "7  pool4  106152    18     HPSI1014i-eesb_1  0.2811063              \n",
       "8  pool8  114990    19     HPSI0215i-zett_5  0.1514740              \n",
       "9  pool2   76431     9     HPSI0614i-uevq_6  0.2651019              \n",
       "10 pool3   60959     9     HPSI1014i-quls_2  0.3023015              \n",
       "11 pool5  112393    22     HPSI0514i-fiaj_1  0.4059328              \n",
       "12 pool17   9054     8     HPSI1113i-qorq_1  0.4929313              \n",
       "13 pool9   93754    19     HPSI1113i-hayt_3  0.1654969              \n",
       "14 pool16  10608     8     HPSI0214i-heth_1  0.4040347              \n",
       "15 pool11  34447    18     HPSI0613i-aevs_1  0.1630331              \n",
       "16 pool13  27263    18     HPSI0813i-mioj_1  0.1485897              \n",
       "17 pool14   1109     7     HPSI0213i-nawk_55 0.2560866              "
      ]
     },
     "metadata": {},
     "output_type": "display_data"
    }
   ],
   "source": [
    "df1"
   ]
  },
  {
   "cell_type": "code",
   "execution_count": 86,
   "metadata": {},
   "outputs": [
    {
     "data": {
      "text/html": [
       "-0.349350506183453"
      ],
      "text/latex": [
       "-0.349350506183453"
      ],
      "text/markdown": [
       "-0.349350506183453"
      ],
      "text/plain": [
       "[1] -0.3493505"
      ]
     },
     "metadata": {},
     "output_type": "display_data"
    },
    {
     "data": {
      "image/png": "[encoded data removed]",
      "text/plain": [
       "plot without title"
      ]
     },
     "metadata": {},
     "output_type": "display_data"
    }
   ],
   "source": [
    "cor(df1$nlines, df1$fraction_cells_top_line)\n",
    "options(repr.plot.width=4, repr.plot.height=4)\n",
    "ggplot(df1, aes(x = nlines, y = fraction_cells_top_line)) + geom_point() + \n",
    "    stat_smooth(method = \"lm\", alpha = 0.2, col = \"black\") + theme_bw()"
   ]
  },
  {
   "cell_type": "code",
   "execution_count": 98,
   "metadata": {},
   "outputs": [],
   "source": [
    "df0 = df %>% group_by(donor_id, pool_id) %>% summarize(total_cells = sum(n_cells))\n",
    "pools = unique(df0$pool_id)\n",
    "# length(pools)\n",
    "df1 = data.frame()\n",
    "for (pool in pools){\n",
    "    df_pool = df0[df0$pool_id == pool,]\n",
    "    df_pool = df_pool[order(df_pool$total_cells, decreasing = T),]\n",
    "    n_lines = nrow(df_pool)\n",
    "    tot_cells = sum(df_pool$total_cells)\n",
    "    dist = tot_cells\n",
    "    n_top_lines = 1\n",
    "    for (i in 1:n_lines){\n",
    "        n = sum(df_pool$total_cells[1:i])\n",
    "        if (abs(n-tot_cells/2)<dist){\n",
    "            dist = abs(n-tot_cells/2)\n",
    "            n_top_lines = i}\n",
    "    }\n",
    "#     print(n_top_lines/n_lines)\n",
    "    cells_top_line = df_pool$total_cells[1]\n",
    "    df1 = rbind(df1, data.frame(pool = pool, tot_cells = tot_cells, \n",
    "                                nlines = n_lines, \n",
    "                                fraction_lines_making_50pct_cells = n_top_lines/n_lines))\n",
    "}"
   ]
  },
  {
   "cell_type": "code",
   "execution_count": 99,
   "metadata": {},
   "outputs": [
    {
     "data": {
      "text/html": [
       "<table>\n",
       "<thead><tr><th scope=col>pool</th><th scope=col>tot_cells</th><th scope=col>nlines</th><th scope=col>fraction_lines_making_50pct_cells</th></tr></thead>\n",
       "<tbody>\n",
       "\t<tr><td>pool1     </td><td> 85152    </td><td> 7        </td><td>0.14285714</td></tr>\n",
       "\t<tr><td>pool12    </td><td> 25547    </td><td>20        </td><td>0.25000000</td></tr>\n",
       "\t<tr><td>pool10    </td><td> 31821    </td><td>15        </td><td>0.06666667</td></tr>\n",
       "\t<tr><td>pool15    </td><td> 17872    </td><td> 9        </td><td>0.22222222</td></tr>\n",
       "\t<tr><td>pool6     </td><td>131505    </td><td>24        </td><td>0.12500000</td></tr>\n",
       "\t<tr><td>pool7     </td><td> 88341    </td><td>22        </td><td>0.18181818</td></tr>\n",
       "\t<tr><td>pool4     </td><td>106152    </td><td>18        </td><td>0.11111111</td></tr>\n",
       "\t<tr><td>pool8     </td><td>114990    </td><td>19        </td><td>0.26315789</td></tr>\n",
       "\t<tr><td>pool2     </td><td> 76431    </td><td> 9        </td><td>0.22222222</td></tr>\n",
       "\t<tr><td>pool3     </td><td> 60959    </td><td> 9        </td><td>0.22222222</td></tr>\n",
       "\t<tr><td>pool5     </td><td>112393    </td><td>22        </td><td>0.04545455</td></tr>\n",
       "\t<tr><td>pool17    </td><td>  9054    </td><td> 8        </td><td>0.12500000</td></tr>\n",
       "\t<tr><td>pool9     </td><td> 93754    </td><td>19        </td><td>0.21052632</td></tr>\n",
       "\t<tr><td>pool16    </td><td> 10608    </td><td> 8        </td><td>0.12500000</td></tr>\n",
       "\t<tr><td>pool11    </td><td> 34447    </td><td>18        </td><td>0.22222222</td></tr>\n",
       "\t<tr><td>pool13    </td><td> 27263    </td><td>18        </td><td>0.27777778</td></tr>\n",
       "\t<tr><td>pool14    </td><td>  1109    </td><td> 7        </td><td>0.28571429</td></tr>\n",
       "</tbody>\n",
       "</table>\n"
      ],
      "text/latex": [
       "\\begin{tabular}{r|llll}\n",
       " pool & tot\\_cells & nlines & fraction\\_lines\\_making\\_50pct\\_cells\\\\\n",
       "\\hline\n",
       "\t pool1      &  85152     &  7         & 0.14285714\\\\\n",
       "\t pool12     &  25547     & 20         & 0.25000000\\\\\n",
       "\t pool10     &  31821     & 15         & 0.06666667\\\\\n",
       "\t pool15     &  17872     &  9         & 0.22222222\\\\\n",
       "\t pool6      & 131505     & 24         & 0.12500000\\\\\n",
       "\t pool7      &  88341     & 22         & 0.18181818\\\\\n",
       "\t pool4      & 106152     & 18         & 0.11111111\\\\\n",
       "\t pool8      & 114990     & 19         & 0.26315789\\\\\n",
       "\t pool2      &  76431     &  9         & 0.22222222\\\\\n",
       "\t pool3      &  60959     &  9         & 0.22222222\\\\\n",
       "\t pool5      & 112393     & 22         & 0.04545455\\\\\n",
       "\t pool17     &   9054     &  8         & 0.12500000\\\\\n",
       "\t pool9      &  93754     & 19         & 0.21052632\\\\\n",
       "\t pool16     &  10608     &  8         & 0.12500000\\\\\n",
       "\t pool11     &  34447     & 18         & 0.22222222\\\\\n",
       "\t pool13     &  27263     & 18         & 0.27777778\\\\\n",
       "\t pool14     &   1109     &  7         & 0.28571429\\\\\n",
       "\\end{tabular}\n"
      ],
      "text/markdown": [
       "\n",
       "| pool | tot_cells | nlines | fraction_lines_making_50pct_cells |\n",
       "|---|---|---|---|\n",
       "| pool1      |  85152     |  7         | 0.14285714 |\n",
       "| pool12     |  25547     | 20         | 0.25000000 |\n",
       "| pool10     |  31821     | 15         | 0.06666667 |\n",
       "| pool15     |  17872     |  9         | 0.22222222 |\n",
       "| pool6      | 131505     | 24         | 0.12500000 |\n",
       "| pool7      |  88341     | 22         | 0.18181818 |\n",
       "| pool4      | 106152     | 18         | 0.11111111 |\n",
       "| pool8      | 114990     | 19         | 0.26315789 |\n",
       "| pool2      |  76431     |  9         | 0.22222222 |\n",
       "| pool3      |  60959     |  9         | 0.22222222 |\n",
       "| pool5      | 112393     | 22         | 0.04545455 |\n",
       "| pool17     |   9054     |  8         | 0.12500000 |\n",
       "| pool9      |  93754     | 19         | 0.21052632 |\n",
       "| pool16     |  10608     |  8         | 0.12500000 |\n",
       "| pool11     |  34447     | 18         | 0.22222222 |\n",
       "| pool13     |  27263     | 18         | 0.27777778 |\n",
       "| pool14     |   1109     |  7         | 0.28571429 |\n",
       "\n"
      ],
      "text/plain": [
       "   pool   tot_cells nlines fraction_lines_making_50pct_cells\n",
       "1  pool1   85152     7     0.14285714                       \n",
       "2  pool12  25547    20     0.25000000                       \n",
       "3  pool10  31821    15     0.06666667                       \n",
       "4  pool15  17872     9     0.22222222                       \n",
       "5  pool6  131505    24     0.12500000                       \n",
       "6  pool7   88341    22     0.18181818                       \n",
       "7  pool4  106152    18     0.11111111                       \n",
       "8  pool8  114990    19     0.26315789                       \n",
       "9  pool2   76431     9     0.22222222                       \n",
       "10 pool3   60959     9     0.22222222                       \n",
       "11 pool5  112393    22     0.04545455                       \n",
       "12 pool17   9054     8     0.12500000                       \n",
       "13 pool9   93754    19     0.21052632                       \n",
       "14 pool16  10608     8     0.12500000                       \n",
       "15 pool11  34447    18     0.22222222                       \n",
       "16 pool13  27263    18     0.27777778                       \n",
       "17 pool14   1109     7     0.28571429                       "
      ]
     },
     "metadata": {},
     "output_type": "display_data"
    }
   ],
   "source": [
    "df1"
   ]
  },
  {
   "cell_type": "code",
   "execution_count": 100,
   "metadata": {},
   "outputs": [
    {
     "data": {
      "text/html": [
       "-0.130415422693383"
      ],
      "text/latex": [
       "-0.130415422693383"
      ],
      "text/markdown": [
       "-0.130415422693383"
      ],
      "text/plain": [
       "[1] -0.1304154"
      ]
     },
     "metadata": {},
     "output_type": "display_data"
    },
    {
     "data": {
      "image/png": "[encoded data removed]",
      "text/plain": [
       "plot without title"
      ]
     },
     "metadata": {},
     "output_type": "display_data"
    }
   ],
   "source": [
    "cor(df1$nlines, df1$fraction_lines_making_50pct_cells)\n",
    "options(repr.plot.width=4, repr.plot.height=4)\n",
    "ggplot(df1, aes(x = nlines, y = fraction_lines_making_50pct_cells)) + geom_point() + \n",
    "    stat_smooth(method = \"lm\", alpha = 0.2, col = \"black\") + theme_bw()"
   ]
  },
  {
   "cell_type": "code",
   "execution_count": null,
   "metadata": {},
   "outputs": [],
   "source": []
  }
 ],
 "metadata": {
  "kernelspec": {
   "display_name": "R",
   "language": "R",
   "name": "ir"
  },
  "language_info": {
   "codemirror_mode": "r",
   "file_extension": ".r",
   "mimetype": "text/x-r-source",
   "name": "R",
   "pygments_lexer": "r",
   "version": "3.6.1"
  }
 },
 "nbformat": 4,
 "nbformat_minor": 4
}
