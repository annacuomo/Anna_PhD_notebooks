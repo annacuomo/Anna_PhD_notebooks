{
 "cells": [
  {
   "cell_type": "code",
   "execution_count": 61,
   "metadata": {},
   "outputs": [],
   "source": [
    "library(rhdf5)\n",
    "library(Matrix)\n",
    "library(SingleCellExperiment)"
   ]
  },
  {
   "cell_type": "code",
   "execution_count": 62,
   "metadata": {},
   "outputs": [],
   "source": [
    "mydir = \"/hps/nobackup/stegle/users/acuomo/all_scripts/sc_neuroseq/in_vivo_comparison/\""
   ]
  },
  {
   "cell_type": "code",
   "execution_count": 63,
   "metadata": {},
   "outputs": [],
   "source": [
    "dir_scanpy = \"/nfs/leia/research/stegle/dseaton/hipsci/singlecell_neuroseq/data/data_processed/pool1_17_subsample_v1/\""
   ]
  },
  {
   "cell_type": "code",
   "execution_count": 64,
   "metadata": {},
   "outputs": [],
   "source": [
    "filename = paste0(dir_scanpy,\"pool1_17_subsample_v1.scanpy.w_metadata.w_celltype.scanpy.h5\")"
   ]
  },
  {
   "cell_type": "code",
   "execution_count": 65,
   "metadata": {},
   "outputs": [
    {
     "data": {
      "text/html": [
       "<table>\n",
       "<tbody>\n",
       "\t<tr><td>/                    </td><td>X                    </td></tr>\n",
       "\t<tr><td>/X                   </td><td>data                 </td></tr>\n",
       "\t<tr><td>/X                   </td><td>indices              </td></tr>\n",
       "\t<tr><td>/X                   </td><td>indptr               </td></tr>\n",
       "\t<tr><td>/                    </td><td>obs                  </td></tr>\n",
       "\t<tr><td>/                    </td><td>obsm                 </td></tr>\n",
       "\t<tr><td>/obsm                </td><td>X_umap               </td></tr>\n",
       "\t<tr><td>/                    </td><td>uns                  </td></tr>\n",
       "\t<tr><td>/uns                 </td><td>batch_categories     </td></tr>\n",
       "\t<tr><td>/uns                 </td><td>celltype_categories  </td></tr>\n",
       "\t<tr><td>/uns                 </td><td>donor_id_categories  </td></tr>\n",
       "\t<tr><td>/uns                 </td><td>pool_id_categories   </td></tr>\n",
       "\t<tr><td>/uns                 </td><td>sample_id_categories </td></tr>\n",
       "\t<tr><td>/uns                 </td><td>time_point_categories</td></tr>\n",
       "\t<tr><td>/uns                 </td><td>treatment_categories </td></tr>\n",
       "\t<tr><td>/                    </td><td>var                  </td></tr>\n",
       "</tbody>\n",
       "</table>\n"
      ],
      "text/latex": [
       "\\begin{tabular}{ll}\n",
       "\t /                     & X                    \\\\\n",
       "\t /X                    & data                 \\\\\n",
       "\t /X                    & indices              \\\\\n",
       "\t /X                    & indptr               \\\\\n",
       "\t /                     & obs                  \\\\\n",
       "\t /                     & obsm                 \\\\\n",
       "\t /obsm                   & X\\_umap               \\\\\n",
       "\t /                     & uns                  \\\\\n",
       "\t /uns                    & batch\\_categories     \\\\\n",
       "\t /uns                    & celltype\\_categories  \\\\\n",
       "\t /uns                      & donor\\_id\\_categories  \\\\\n",
       "\t /uns                      & pool\\_id\\_categories   \\\\\n",
       "\t /uns                      & sample\\_id\\_categories \\\\\n",
       "\t /uns                      & time\\_point\\_categories\\\\\n",
       "\t /uns                    & treatment\\_categories \\\\\n",
       "\t /                     & var                  \\\\\n",
       "\\end{tabular}\n"
      ],
      "text/markdown": [
       "\n",
       "| /                     | X                     |\n",
       "| /X                    | data                  |\n",
       "| /X                    | indices               |\n",
       "| /X                    | indptr                |\n",
       "| /                     | obs                   |\n",
       "| /                     | obsm                  |\n",
       "| /obsm                 | X_umap                |\n",
       "| /                     | uns                   |\n",
       "| /uns                  | batch_categories      |\n",
       "| /uns                  | celltype_categories   |\n",
       "| /uns                  | donor_id_categories   |\n",
       "| /uns                  | pool_id_categories    |\n",
       "| /uns                  | sample_id_categories  |\n",
       "| /uns                  | time_point_categories |\n",
       "| /uns                  | treatment_categories  |\n",
       "| /                     | var                   |\n",
       "\n"
      ],
      "text/plain": [
       "      [,1]  [,2]                 \n",
       " [1,] /     X                    \n",
       " [2,] /X    data                 \n",
       " [3,] /X    indices              \n",
       " [4,] /X    indptr               \n",
       " [5,] /     obs                  \n",
       " [6,] /     obsm                 \n",
       " [7,] /obsm X_umap               \n",
       " [8,] /     uns                  \n",
       " [9,] /uns  batch_categories     \n",
       "[10,] /uns  celltype_categories  \n",
       "[11,] /uns  donor_id_categories  \n",
       "[12,] /uns  pool_id_categories   \n",
       "[13,] /uns  sample_id_categories \n",
       "[14,] /uns  time_point_categories\n",
       "[15,] /uns  treatment_categories \n",
       "[16,] /     var                  "
      ]
     },
     "metadata": {},
     "output_type": "display_data"
    }
   ],
   "source": [
    "cbind(h5ls(filename)$group,\n",
    "h5ls(filename)$name)"
   ]
  },
  {
   "cell_type": "code",
   "execution_count": 66,
   "metadata": {
    "scrolled": true
   },
   "outputs": [],
   "source": [
    "# unique(h5read(file = filename, \"obs\")[\"celltype\"])"
   ]
  },
  {
   "cell_type": "code",
   "execution_count": 67,
   "metadata": {},
   "outputs": [],
   "source": [
    "# h5read(file = filename, \"uns\")$celltype_categories"
   ]
  },
  {
   "cell_type": "code",
   "execution_count": 68,
   "metadata": {},
   "outputs": [],
   "source": [
    "ind = h5read(file = filename, \"obs\")$index # cell names\n",
    "var = h5read(file = filename, \"var\") # gene names"
   ]
  },
  {
   "cell_type": "code",
   "execution_count": 69,
   "metadata": {},
   "outputs": [
    {
     "data": {
      "text/html": [
       "<ol class=list-inline>\n",
       "\t<li>'TTCCCAGGTTCCATGA-1-0'</li>\n",
       "\t<li>'AACCGCGAGGTCATCT-1-0'</li>\n",
       "\t<li>'TCACAAGTCTTATCTG-1-0'</li>\n",
       "\t<li>'TACCTTACACGGTTTA-1-0'</li>\n",
       "\t<li>'CCTAGCTAGCGCCTTG-1-0'</li>\n",
       "\t<li>'CAAGATCAGGCTCTTA-1-0'</li>\n",
       "</ol>\n"
      ],
      "text/latex": [
       "\\begin{enumerate*}\n",
       "\\item 'TTCCCAGGTTCCATGA-1-0'\n",
       "\\item 'AACCGCGAGGTCATCT-1-0'\n",
       "\\item 'TCACAAGTCTTATCTG-1-0'\n",
       "\\item 'TACCTTACACGGTTTA-1-0'\n",
       "\\item 'CCTAGCTAGCGCCTTG-1-0'\n",
       "\\item 'CAAGATCAGGCTCTTA-1-0'\n",
       "\\end{enumerate*}\n"
      ],
      "text/markdown": [
       "1. 'TTCCCAGGTTCCATGA-1-0'\n",
       "2. 'AACCGCGAGGTCATCT-1-0'\n",
       "3. 'TCACAAGTCTTATCTG-1-0'\n",
       "4. 'TACCTTACACGGTTTA-1-0'\n",
       "5. 'CCTAGCTAGCGCCTTG-1-0'\n",
       "6. 'CAAGATCAGGCTCTTA-1-0'\n",
       "\n",
       "\n"
      ],
      "text/plain": [
       "[1] \"TTCCCAGGTTCCATGA-1-0\" \"AACCGCGAGGTCATCT-1-0\" \"TCACAAGTCTTATCTG-1-0\"\n",
       "[4] \"TACCTTACACGGTTTA-1-0\" \"CCTAGCTAGCGCCTTG-1-0\" \"CAAGATCAGGCTCTTA-1-0\""
      ]
     },
     "metadata": {},
     "output_type": "display_data"
    }
   ],
   "source": [
    "head(ind)"
   ]
  },
  {
   "cell_type": "code",
   "execution_count": 70,
   "metadata": {},
   "outputs": [
    {
     "data": {
      "text/html": [
       "<ol class=list-inline>\n",
       "\t<li>'NANOGNB'</li>\n",
       "\t<li>'NANOG'</li>\n",
       "</ol>\n"
      ],
      "text/latex": [
       "\\begin{enumerate*}\n",
       "\\item 'NANOGNB'\n",
       "\\item 'NANOG'\n",
       "\\end{enumerate*}\n"
      ],
      "text/markdown": [
       "1. 'NANOGNB'\n",
       "2. 'NANOG'\n",
       "\n",
       "\n"
      ],
      "text/plain": [
       "[1] \"NANOGNB\" \"NANOG\"  "
      ]
     },
     "metadata": {},
     "output_type": "display_data"
    }
   ],
   "source": [
    "var$index[grep(\"NANOG\",var$index)]"
   ]
  },
  {
   "cell_type": "code",
   "execution_count": 71,
   "metadata": {},
   "outputs": [],
   "source": [
    "X = h5read(file = filename, \"X\")\n",
    "X_data = as.integer(X$data)\n",
    "X_indptr = as.integer(X$indptr)\n",
    "X_indices = as.integer(X$indices)\n",
    "rm(X)"
   ]
  },
  {
   "cell_type": "code",
   "execution_count": 72,
   "metadata": {},
   "outputs": [],
   "source": [
    "sMat = sparseMatrix(\n",
    "i = X_indices,\n",
    "p = X_indptr,\n",
    "x = X_data,\n",
    "dims = c(length(var[[1]]), length(ind)),\n",
    "index1 = FALSE\n",
    ")\n",
    "rownames(sMat) <- as.character(var[[1]])\n",
    "colnames(sMat) <- as.character(ind)"
   ]
  },
  {
   "cell_type": "code",
   "execution_count": 73,
   "metadata": {},
   "outputs": [
    {
     "data": {
      "text/html": [
       "<ol class=list-inline>\n",
       "\t<li>'QSOX1'</li>\n",
       "\t<li>'SOX13'</li>\n",
       "\t<li>'SOX11'</li>\n",
       "\t<li>'SOX14'</li>\n",
       "\t<li>'SOX2'</li>\n",
       "\t<li>'SOX30'</li>\n",
       "\t<li>'SOX4'</li>\n",
       "\t<li>'SOX3'</li>\n",
       "\t<li>'SOX7'</li>\n",
       "\t<li>'SOX7-1'</li>\n",
       "\t<li>'SOX17'</li>\n",
       "\t<li>'QSOX2'</li>\n",
       "\t<li>'SOX6'</li>\n",
       "\t<li>'SOX5'</li>\n",
       "\t<li>'SOX21'</li>\n",
       "\t<li>'SOX21-AS1'</li>\n",
       "\t<li>'SOX1'</li>\n",
       "\t<li>'SOX8'</li>\n",
       "\t<li>'SOX15'</li>\n",
       "\t<li>'SOX9'</li>\n",
       "\t<li>'SOX12'</li>\n",
       "\t<li>'SOX18'</li>\n",
       "\t<li>'SOX10'</li>\n",
       "</ol>\n"
      ],
      "text/latex": [
       "\\begin{enumerate*}\n",
       "\\item 'QSOX1'\n",
       "\\item 'SOX13'\n",
       "\\item 'SOX11'\n",
       "\\item 'SOX14'\n",
       "\\item 'SOX2'\n",
       "\\item 'SOX30'\n",
       "\\item 'SOX4'\n",
       "\\item 'SOX3'\n",
       "\\item 'SOX7'\n",
       "\\item 'SOX7-1'\n",
       "\\item 'SOX17'\n",
       "\\item 'QSOX2'\n",
       "\\item 'SOX6'\n",
       "\\item 'SOX5'\n",
       "\\item 'SOX21'\n",
       "\\item 'SOX21-AS1'\n",
       "\\item 'SOX1'\n",
       "\\item 'SOX8'\n",
       "\\item 'SOX15'\n",
       "\\item 'SOX9'\n",
       "\\item 'SOX12'\n",
       "\\item 'SOX18'\n",
       "\\item 'SOX10'\n",
       "\\end{enumerate*}\n"
      ],
      "text/markdown": [
       "1. 'QSOX1'\n",
       "2. 'SOX13'\n",
       "3. 'SOX11'\n",
       "4. 'SOX14'\n",
       "5. 'SOX2'\n",
       "6. 'SOX30'\n",
       "7. 'SOX4'\n",
       "8. 'SOX3'\n",
       "9. 'SOX7'\n",
       "10. 'SOX7-1'\n",
       "11. 'SOX17'\n",
       "12. 'QSOX2'\n",
       "13. 'SOX6'\n",
       "14. 'SOX5'\n",
       "15. 'SOX21'\n",
       "16. 'SOX21-AS1'\n",
       "17. 'SOX1'\n",
       "18. 'SOX8'\n",
       "19. 'SOX15'\n",
       "20. 'SOX9'\n",
       "21. 'SOX12'\n",
       "22. 'SOX18'\n",
       "23. 'SOX10'\n",
       "\n",
       "\n"
      ],
      "text/plain": [
       " [1] \"QSOX1\"     \"SOX13\"     \"SOX11\"     \"SOX14\"     \"SOX2\"      \"SOX30\"    \n",
       " [7] \"SOX4\"      \"SOX3\"      \"SOX7\"      \"SOX7-1\"    \"SOX17\"     \"QSOX2\"    \n",
       "[13] \"SOX6\"      \"SOX5\"      \"SOX21\"     \"SOX21-AS1\" \"SOX1\"      \"SOX8\"     \n",
       "[19] \"SOX15\"     \"SOX9\"      \"SOX12\"     \"SOX18\"     \"SOX10\"    "
      ]
     },
     "metadata": {},
     "output_type": "display_data"
    }
   ],
   "source": [
    "rownames(sMat)[grep(\"SOX\",rownames(sMat))]"
   ]
  },
  {
   "cell_type": "code",
   "execution_count": 74,
   "metadata": {},
   "outputs": [],
   "source": [
    "R_filename = paste0(mydir,\"neuroseq_all_20pct.Rds\")\n",
    "saveRDS(sMat, file = R_filename)"
   ]
  },
  {
   "cell_type": "code",
   "execution_count": null,
   "metadata": {},
   "outputs": [],
   "source": [
    "cData_raw = h5read(file = filename, \"obs\")\n",
    "# head(cData_raw)"
   ]
  },
  {
   "cell_type": "code",
   "execution_count": null,
   "metadata": {},
   "outputs": [],
   "source": [
    "# now the column data information\n",
    "colinfo_all = apply(cbind(h5ls(filename)$group,\n",
    "    h5ls(filename)$name)\n",
    "    ,1,paste0, collapse = \"/\")\n",
    "colinfo_all"
   ]
  },
  {
   "cell_type": "code",
   "execution_count": null,
   "metadata": {},
   "outputs": [],
   "source": [
    "colinfo <- grep(\"categories|//\",grep(\"obs\",colinfo_all, value = TRUE), invert = TRUE, value = TRUE)\n",
    "colinfo"
   ]
  },
  {
   "cell_type": "code",
   "execution_count": null,
   "metadata": {},
   "outputs": [],
   "source": [
    "for (col in colinfo){\n",
    "    cat = gsub(\"/uns/\",\"\",gsub(\"_categories\",\"\",col))\n",
    "    cats = h5read(file = filename, col)\n",
    "    print(cats)\n",
    "    #print(head(cData_raw[[cat]]))\n",
    "    cData_raw[[cat]] = cats[cData_raw[[cat]]+1]\n",
    "}"
   ]
  },
  {
   "cell_type": "code",
   "execution_count": null,
   "metadata": {},
   "outputs": [],
   "source": [
    "head(cData_raw)"
   ]
  },
  {
   "cell_type": "code",
   "execution_count": 29,
   "metadata": {},
   "outputs": [],
   "source": [
    "cData_raw$umap1 = h5read(file = filename, \"obsm\")$X_umap[1,]\n",
    "cData_raw$umap2 = h5read(file = filename, \"obsm\")$X_umap[2,]"
   ]
  },
  {
   "cell_type": "code",
   "execution_count": 30,
   "metadata": {},
   "outputs": [],
   "source": [
    "rownames(cData_raw) = cData_raw$index"
   ]
  },
  {
   "cell_type": "code",
   "execution_count": 31,
   "metadata": {},
   "outputs": [
    {
     "data": {
      "text/html": [
       "<table>\n",
       "<thead><tr><th></th><th scope=col>index</th><th scope=col>batch</th><th scope=col>donor_id</th><th scope=col>log1p_n_genes_by_counts</th><th scope=col>log1p_total_counts</th><th scope=col>log1p_total_counts_mito</th><th scope=col>n_genes_by_counts</th><th scope=col>pct_counts_in_top_100_genes</th><th scope=col>pct_counts_in_top_200_genes</th><th scope=col>pct_counts_in_top_500_genes</th><th scope=col>...</th><th scope=col>total_counts</th><th scope=col>total_counts_mito</th><th scope=col>cluster_id</th><th scope=col>time_point</th><th scope=col>pool_id</th><th scope=col>treatment</th><th scope=col>n_counts_all</th><th scope=col>celltype</th><th scope=col>umap1</th><th scope=col>umap2</th></tr></thead>\n",
       "<tbody>\n",
       "\t<tr><th scope=row>TTCCCAGGTTCCATGA-1-0</th><td>TTCCCAGGTTCCATGA-1-0</td><td>0                   </td><td>HPSI0214i-eiwy_1    </td><td>7.893572            </td><td> 9.321613           </td><td>4.077538            </td><td>2679                </td><td>53.54331            </td><td>63.84216            </td><td>74.86578            </td><td>...                 </td><td>11176               </td><td> 58                 </td><td>3                   </td><td>D11                 </td><td>pool1               </td><td>NONE                </td><td>11176               </td><td>FPP                 </td><td> -7.510658          </td><td> 6.5592762          </td></tr>\n",
       "\t<tr><th scope=row>AACCGCGAGGTCATCT-1-0</th><td>AACCGCGAGGTCATCT-1-0</td><td>0                   </td><td>HPSI0114i-eipl_1    </td><td>8.214194            </td><td> 9.801510           </td><td>5.147494            </td><td>3692                </td><td>51.97121            </td><td>61.66667            </td><td>72.53045            </td><td>...                 </td><td>18060               </td><td>171                 </td><td>5                   </td><td>D11                 </td><td>pool1               </td><td>NONE                </td><td>18060               </td><td>P_FPP               </td><td>-10.086959          </td><td> 3.0156652          </td></tr>\n",
       "\t<tr><th scope=row>TCACAAGTCTTATCTG-1-0</th><td>TCACAAGTCTTATCTG-1-0</td><td>0                   </td><td>HPSI1113i-podx_1    </td><td>8.319474            </td><td>10.024244           </td><td>5.318120            </td><td>4102                </td><td>51.51112            </td><td>61.17611            </td><td>71.90020            </td><td>...                 </td><td>22566               </td><td>203                 </td><td>5                   </td><td>D11                 </td><td>pool1               </td><td>NONE                </td><td>22566               </td><td>P_FPP               </td><td> -9.206473          </td><td> 0.9118701          </td></tr>\n",
       "\t<tr><th scope=row>TACCTTACACGGTTTA-1-0</th><td>TACCTTACACGGTTTA-1-0</td><td>0                   </td><td>HPSI0614i-liqa_1    </td><td>7.825245            </td><td> 9.297252           </td><td>4.744932            </td><td>2502                </td><td>58.59540            </td><td>67.71798            </td><td>77.77574            </td><td>...                 </td><td>10907               </td><td>114                 </td><td>3                   </td><td>D11                 </td><td>pool1               </td><td>NONE                </td><td>10907               </td><td>FPP                 </td><td> -8.961995          </td><td> 8.4147848          </td></tr>\n",
       "\t<tr><th scope=row>CCTAGCTAGCGCCTTG-1-0</th><td>CCTAGCTAGCGCCTTG-1-0</td><td>0                   </td><td>HPSI0114i-eipl_1    </td><td>8.029433            </td><td> 9.451638           </td><td>4.718499            </td><td>3069                </td><td>50.48712            </td><td>60.40226            </td><td>71.76304            </td><td>...                 </td><td>12728               </td><td>111                 </td><td>5                   </td><td>D11                 </td><td>pool1               </td><td>NONE                </td><td>12728               </td><td>P_FPP               </td><td> -9.453191          </td><td> 3.0499935          </td></tr>\n",
       "\t<tr><th scope=row>CAAGATCAGGCTCTTA-1-0</th><td>CAAGATCAGGCTCTTA-1-0</td><td>0                   </td><td>HPSI1113i-podx_1    </td><td>8.204125            </td><td> 9.751094           </td><td>5.043425            </td><td>3655                </td><td>50.46005            </td><td>59.99884            </td><td>71.23224            </td><td>...                 </td><td>17172               </td><td>154                 </td><td>6                   </td><td>D11                 </td><td>pool1               </td><td>NONE                </td><td>17172               </td><td>P_FPP               </td><td> -9.914284          </td><td>-2.1984845          </td></tr>\n",
       "</tbody>\n",
       "</table>\n"
      ],
      "text/latex": [
       "\\begin{tabular}{r|lllllllllllllllllllllll}\n",
       "  & index & batch & donor\\_id & log1p\\_n\\_genes\\_by\\_counts & log1p\\_total\\_counts & log1p\\_total\\_counts\\_mito & n\\_genes\\_by\\_counts & pct\\_counts\\_in\\_top\\_100\\_genes & pct\\_counts\\_in\\_top\\_200\\_genes & pct\\_counts\\_in\\_top\\_500\\_genes & ... & total\\_counts & total\\_counts\\_mito & cluster\\_id & time\\_point & pool\\_id & treatment & n\\_counts\\_all & celltype & umap1 & umap2\\\\\n",
       "\\hline\n",
       "\tTTCCCAGGTTCCATGA-1-0 & TTCCCAGGTTCCATGA-1-0 & 0                    & HPSI0214i-eiwy\\_1   & 7.893572             &  9.321613            & 4.077538             & 2679                 & 53.54331             & 63.84216             & 74.86578             & ...                  & 11176                &  58                  & 3                    & D11                  & pool1                & NONE                 & 11176                & FPP                  &  -7.510658           &  6.5592762          \\\\\n",
       "\tAACCGCGAGGTCATCT-1-0 & AACCGCGAGGTCATCT-1-0 & 0                    & HPSI0114i-eipl\\_1   & 8.214194             &  9.801510            & 5.147494             & 3692                 & 51.97121             & 61.66667             & 72.53045             & ...                  & 18060                & 171                  & 5                    & D11                  & pool1                & NONE                 & 18060                & P\\_FPP              & -10.086959           &  3.0156652          \\\\\n",
       "\tTCACAAGTCTTATCTG-1-0 & TCACAAGTCTTATCTG-1-0 & 0                    & HPSI1113i-podx\\_1   & 8.319474             & 10.024244            & 5.318120             & 4102                 & 51.51112             & 61.17611             & 71.90020             & ...                  & 22566                & 203                  & 5                    & D11                  & pool1                & NONE                 & 22566                & P\\_FPP              &  -9.206473           &  0.9118701          \\\\\n",
       "\tTACCTTACACGGTTTA-1-0 & TACCTTACACGGTTTA-1-0 & 0                    & HPSI0614i-liqa\\_1   & 7.825245             &  9.297252            & 4.744932             & 2502                 & 58.59540             & 67.71798             & 77.77574             & ...                  & 10907                & 114                  & 3                    & D11                  & pool1                & NONE                 & 10907                & FPP                  &  -8.961995           &  8.4147848          \\\\\n",
       "\tCCTAGCTAGCGCCTTG-1-0 & CCTAGCTAGCGCCTTG-1-0 & 0                    & HPSI0114i-eipl\\_1   & 8.029433             &  9.451638            & 4.718499             & 3069                 & 50.48712             & 60.40226             & 71.76304             & ...                  & 12728                & 111                  & 5                    & D11                  & pool1                & NONE                 & 12728                & P\\_FPP              &  -9.453191           &  3.0499935          \\\\\n",
       "\tCAAGATCAGGCTCTTA-1-0 & CAAGATCAGGCTCTTA-1-0 & 0                    & HPSI1113i-podx\\_1   & 8.204125             &  9.751094            & 5.043425             & 3655                 & 50.46005             & 59.99884             & 71.23224             & ...                  & 17172                & 154                  & 6                    & D11                  & pool1                & NONE                 & 17172                & P\\_FPP              &  -9.914284           & -2.1984845          \\\\\n",
       "\\end{tabular}\n"
      ],
      "text/markdown": [
       "\n",
       "| <!--/--> | index | batch | donor_id | log1p_n_genes_by_counts | log1p_total_counts | log1p_total_counts_mito | n_genes_by_counts | pct_counts_in_top_100_genes | pct_counts_in_top_200_genes | pct_counts_in_top_500_genes | ... | total_counts | total_counts_mito | cluster_id | time_point | pool_id | treatment | n_counts_all | celltype | umap1 | umap2 |\n",
       "|---|---|---|---|---|---|---|---|---|---|---|---|---|---|---|---|---|---|---|---|---|---|\n",
       "| TTCCCAGGTTCCATGA-1-0 | TTCCCAGGTTCCATGA-1-0 | 0                    | HPSI0214i-eiwy_1     | 7.893572             |  9.321613            | 4.077538             | 2679                 | 53.54331             | 63.84216             | 74.86578             | ...                  | 11176                |  58                  | 3                    | D11                  | pool1                | NONE                 | 11176                | FPP                  |  -7.510658           |  6.5592762           |\n",
       "| AACCGCGAGGTCATCT-1-0 | AACCGCGAGGTCATCT-1-0 | 0                    | HPSI0114i-eipl_1     | 8.214194             |  9.801510            | 5.147494             | 3692                 | 51.97121             | 61.66667             | 72.53045             | ...                  | 18060                | 171                  | 5                    | D11                  | pool1                | NONE                 | 18060                | P_FPP                | -10.086959           |  3.0156652           |\n",
       "| TCACAAGTCTTATCTG-1-0 | TCACAAGTCTTATCTG-1-0 | 0                    | HPSI1113i-podx_1     | 8.319474             | 10.024244            | 5.318120             | 4102                 | 51.51112             | 61.17611             | 71.90020             | ...                  | 22566                | 203                  | 5                    | D11                  | pool1                | NONE                 | 22566                | P_FPP                |  -9.206473           |  0.9118701           |\n",
       "| TACCTTACACGGTTTA-1-0 | TACCTTACACGGTTTA-1-0 | 0                    | HPSI0614i-liqa_1     | 7.825245             |  9.297252            | 4.744932             | 2502                 | 58.59540             | 67.71798             | 77.77574             | ...                  | 10907                | 114                  | 3                    | D11                  | pool1                | NONE                 | 10907                | FPP                  |  -8.961995           |  8.4147848           |\n",
       "| CCTAGCTAGCGCCTTG-1-0 | CCTAGCTAGCGCCTTG-1-0 | 0                    | HPSI0114i-eipl_1     | 8.029433             |  9.451638            | 4.718499             | 3069                 | 50.48712             | 60.40226             | 71.76304             | ...                  | 12728                | 111                  | 5                    | D11                  | pool1                | NONE                 | 12728                | P_FPP                |  -9.453191           |  3.0499935           |\n",
       "| CAAGATCAGGCTCTTA-1-0 | CAAGATCAGGCTCTTA-1-0 | 0                    | HPSI1113i-podx_1     | 8.204125             |  9.751094            | 5.043425             | 3655                 | 50.46005             | 59.99884             | 71.23224             | ...                  | 17172                | 154                  | 6                    | D11                  | pool1                | NONE                 | 17172                | P_FPP                |  -9.914284           | -2.1984845           |\n",
       "\n"
      ],
      "text/plain": [
       "                     index                batch donor_id        \n",
       "TTCCCAGGTTCCATGA-1-0 TTCCCAGGTTCCATGA-1-0 0     HPSI0214i-eiwy_1\n",
       "AACCGCGAGGTCATCT-1-0 AACCGCGAGGTCATCT-1-0 0     HPSI0114i-eipl_1\n",
       "TCACAAGTCTTATCTG-1-0 TCACAAGTCTTATCTG-1-0 0     HPSI1113i-podx_1\n",
       "TACCTTACACGGTTTA-1-0 TACCTTACACGGTTTA-1-0 0     HPSI0614i-liqa_1\n",
       "CCTAGCTAGCGCCTTG-1-0 CCTAGCTAGCGCCTTG-1-0 0     HPSI0114i-eipl_1\n",
       "CAAGATCAGGCTCTTA-1-0 CAAGATCAGGCTCTTA-1-0 0     HPSI1113i-podx_1\n",
       "                     log1p_n_genes_by_counts log1p_total_counts\n",
       "TTCCCAGGTTCCATGA-1-0 7.893572                 9.321613         \n",
       "AACCGCGAGGTCATCT-1-0 8.214194                 9.801510         \n",
       "TCACAAGTCTTATCTG-1-0 8.319474                10.024244         \n",
       "TACCTTACACGGTTTA-1-0 7.825245                 9.297252         \n",
       "CCTAGCTAGCGCCTTG-1-0 8.029433                 9.451638         \n",
       "CAAGATCAGGCTCTTA-1-0 8.204125                 9.751094         \n",
       "                     log1p_total_counts_mito n_genes_by_counts\n",
       "TTCCCAGGTTCCATGA-1-0 4.077538                2679             \n",
       "AACCGCGAGGTCATCT-1-0 5.147494                3692             \n",
       "TCACAAGTCTTATCTG-1-0 5.318120                4102             \n",
       "TACCTTACACGGTTTA-1-0 4.744932                2502             \n",
       "CCTAGCTAGCGCCTTG-1-0 4.718499                3069             \n",
       "CAAGATCAGGCTCTTA-1-0 5.043425                3655             \n",
       "                     pct_counts_in_top_100_genes pct_counts_in_top_200_genes\n",
       "TTCCCAGGTTCCATGA-1-0 53.54331                    63.84216                   \n",
       "AACCGCGAGGTCATCT-1-0 51.97121                    61.66667                   \n",
       "TCACAAGTCTTATCTG-1-0 51.51112                    61.17611                   \n",
       "TACCTTACACGGTTTA-1-0 58.59540                    67.71798                   \n",
       "CCTAGCTAGCGCCTTG-1-0 50.48712                    60.40226                   \n",
       "CAAGATCAGGCTCTTA-1-0 50.46005                    59.99884                   \n",
       "                     pct_counts_in_top_500_genes ... total_counts\n",
       "TTCCCAGGTTCCATGA-1-0 74.86578                    ... 11176       \n",
       "AACCGCGAGGTCATCT-1-0 72.53045                    ... 18060       \n",
       "TCACAAGTCTTATCTG-1-0 71.90020                    ... 22566       \n",
       "TACCTTACACGGTTTA-1-0 77.77574                    ... 10907       \n",
       "CCTAGCTAGCGCCTTG-1-0 71.76304                    ... 12728       \n",
       "CAAGATCAGGCTCTTA-1-0 71.23224                    ... 17172       \n",
       "                     total_counts_mito cluster_id time_point pool_id treatment\n",
       "TTCCCAGGTTCCATGA-1-0  58               3          D11        pool1   NONE     \n",
       "AACCGCGAGGTCATCT-1-0 171               5          D11        pool1   NONE     \n",
       "TCACAAGTCTTATCTG-1-0 203               5          D11        pool1   NONE     \n",
       "TACCTTACACGGTTTA-1-0 114               3          D11        pool1   NONE     \n",
       "CCTAGCTAGCGCCTTG-1-0 111               5          D11        pool1   NONE     \n",
       "CAAGATCAGGCTCTTA-1-0 154               6          D11        pool1   NONE     \n",
       "                     n_counts_all celltype umap1      umap2     \n",
       "TTCCCAGGTTCCATGA-1-0 11176        FPP       -7.510658  6.5592762\n",
       "AACCGCGAGGTCATCT-1-0 18060        P_FPP    -10.086959  3.0156652\n",
       "TCACAAGTCTTATCTG-1-0 22566        P_FPP     -9.206473  0.9118701\n",
       "TACCTTACACGGTTTA-1-0 10907        FPP       -8.961995  8.4147848\n",
       "CCTAGCTAGCGCCTTG-1-0 12728        P_FPP     -9.453191  3.0499935\n",
       "CAAGATCAGGCTCTTA-1-0 17172        P_FPP     -9.914284 -2.1984845"
      ]
     },
     "metadata": {},
     "output_type": "display_data"
    }
   ],
   "source": [
    "head(cData_raw)"
   ]
  },
  {
   "cell_type": "code",
   "execution_count": 32,
   "metadata": {},
   "outputs": [],
   "source": [
    "cData <- as.data.frame(cData_raw)\n",
    "cData_R_filename = paste0(mydir,\"neuroseq_all_25pct_cData.Rds\")\n",
    "saveRDS(cData, file = cData_R_filename)"
   ]
  },
  {
   "cell_type": "code",
   "execution_count": 33,
   "metadata": {},
   "outputs": [
    {
     "data": {
      "text/plain": [
       "class: SingleCellExperiment \n",
       "dim: 32738 205416 \n",
       "metadata(0):\n",
       "assays(1): counts\n",
       "rownames(32738): MIR1302-10 FAM138A ... AC002321.2 AC002321.1\n",
       "rowData names(0):\n",
       "colnames(205416): TTCCCAGGTTCCATGA-1-0 AACCGCGAGGTCATCT-1-0 ...\n",
       "  GCGCAGTAGGAATGGA-1-150 GTCCTCATCTAACTTC-1-150\n",
       "colData names(23): index batch ... umap1 umap2\n",
       "reducedDimNames(0):\n",
       "spikeNames(0):\n",
       "altExpNames(0):"
      ]
     },
     "metadata": {},
     "output_type": "display_data"
    }
   ],
   "source": [
    "# build the sce object\n",
    "sce <- SingleCellExperiment(\n",
    "assays = list(counts = sMat),\n",
    "colData = cData)\n",
    "sce"
   ]
  },
  {
   "cell_type": "code",
   "execution_count": 36,
   "metadata": {},
   "outputs": [],
   "source": [
    "sce_R_filename = paste0(mydir,\"neuroseq_all_25pct_sce.Rds\")\n",
    "saveRDS(sce, file = sce_R_filename)"
   ]
  },
  {
   "cell_type": "code",
   "execution_count": 35,
   "metadata": {},
   "outputs": [
    {
     "data": {
      "text/html": [
       "<ol class=list-inline>\n",
       "\t<li>'QSOX1'</li>\n",
       "\t<li>'SOX13'</li>\n",
       "\t<li>'SOX11'</li>\n",
       "\t<li>'SOX14'</li>\n",
       "\t<li>'SOX2'</li>\n",
       "\t<li>'SOX30'</li>\n",
       "\t<li>'SOX4'</li>\n",
       "\t<li>'SOX3'</li>\n",
       "\t<li>'SOX7'</li>\n",
       "\t<li>'SOX7-1'</li>\n",
       "\t<li>'SOX17'</li>\n",
       "\t<li>'QSOX2'</li>\n",
       "\t<li>'SOX6'</li>\n",
       "\t<li>'SOX5'</li>\n",
       "\t<li>'SOX21'</li>\n",
       "\t<li>'SOX21-AS1'</li>\n",
       "\t<li>'SOX1'</li>\n",
       "\t<li>'SOX8'</li>\n",
       "\t<li>'SOX15'</li>\n",
       "\t<li>'SOX9'</li>\n",
       "\t<li>'SOX12'</li>\n",
       "\t<li>'SOX18'</li>\n",
       "\t<li>'SOX10'</li>\n",
       "</ol>\n"
      ],
      "text/latex": [
       "\\begin{enumerate*}\n",
       "\\item 'QSOX1'\n",
       "\\item 'SOX13'\n",
       "\\item 'SOX11'\n",
       "\\item 'SOX14'\n",
       "\\item 'SOX2'\n",
       "\\item 'SOX30'\n",
       "\\item 'SOX4'\n",
       "\\item 'SOX3'\n",
       "\\item 'SOX7'\n",
       "\\item 'SOX7-1'\n",
       "\\item 'SOX17'\n",
       "\\item 'QSOX2'\n",
       "\\item 'SOX6'\n",
       "\\item 'SOX5'\n",
       "\\item 'SOX21'\n",
       "\\item 'SOX21-AS1'\n",
       "\\item 'SOX1'\n",
       "\\item 'SOX8'\n",
       "\\item 'SOX15'\n",
       "\\item 'SOX9'\n",
       "\\item 'SOX12'\n",
       "\\item 'SOX18'\n",
       "\\item 'SOX10'\n",
       "\\end{enumerate*}\n"
      ],
      "text/markdown": [
       "1. 'QSOX1'\n",
       "2. 'SOX13'\n",
       "3. 'SOX11'\n",
       "4. 'SOX14'\n",
       "5. 'SOX2'\n",
       "6. 'SOX30'\n",
       "7. 'SOX4'\n",
       "8. 'SOX3'\n",
       "9. 'SOX7'\n",
       "10. 'SOX7-1'\n",
       "11. 'SOX17'\n",
       "12. 'QSOX2'\n",
       "13. 'SOX6'\n",
       "14. 'SOX5'\n",
       "15. 'SOX21'\n",
       "16. 'SOX21-AS1'\n",
       "17. 'SOX1'\n",
       "18. 'SOX8'\n",
       "19. 'SOX15'\n",
       "20. 'SOX9'\n",
       "21. 'SOX12'\n",
       "22. 'SOX18'\n",
       "23. 'SOX10'\n",
       "\n",
       "\n"
      ],
      "text/plain": [
       " [1] \"QSOX1\"     \"SOX13\"     \"SOX11\"     \"SOX14\"     \"SOX2\"      \"SOX30\"    \n",
       " [7] \"SOX4\"      \"SOX3\"      \"SOX7\"      \"SOX7-1\"    \"SOX17\"     \"QSOX2\"    \n",
       "[13] \"SOX6\"      \"SOX5\"      \"SOX21\"     \"SOX21-AS1\" \"SOX1\"      \"SOX8\"     \n",
       "[19] \"SOX15\"     \"SOX9\"      \"SOX12\"     \"SOX18\"     \"SOX10\"    "
      ]
     },
     "metadata": {},
     "output_type": "display_data"
    }
   ],
   "source": [
    "rownames(sce)[grep(\"SOX\",rownames(sce))]"
   ]
  },
  {
   "cell_type": "code",
   "execution_count": null,
   "metadata": {},
   "outputs": [],
   "source": []
  }
 ],
 "metadata": {
  "kernelspec": {
   "display_name": "R",
   "language": "R",
   "name": "ir"
  },
  "language_info": {
   "codemirror_mode": "r",
   "file_extension": ".r",
   "mimetype": "text/x-r-source",
   "name": "R",
   "pygments_lexer": "r",
   "version": "3.6.1"
  }
 },
 "nbformat": 4,
 "nbformat_minor": 4
}
