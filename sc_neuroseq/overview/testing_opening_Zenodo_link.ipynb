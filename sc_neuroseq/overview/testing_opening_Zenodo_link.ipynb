{
 "cells": [
  {
   "cell_type": "code",
   "execution_count": null,
   "metadata": {},
   "outputs": [],
   "source": [
    "library(rhdf5)\n",
    "library(Matrix)\n",
    "library(SingleCellExperiment)"
   ]
  },
  {
   "cell_type": "code",
   "execution_count": null,
   "metadata": {},
   "outputs": [],
   "source": [
    "filename = "
   ]
  },
  {
   "cell_type": "code",
   "execution_count": null,
   "metadata": {},
   "outputs": [],
   "source": [
    "cbind(h5ls(filename)$group,\n",
    "h5ls(filename)$name)"
   ]
  },
  {
   "cell_type": "code",
   "execution_count": null,
   "metadata": {},
   "outputs": [],
   "source": [
    "ind = h5read(file = filename, \"obs\")$index # cell names\n",
    "var = h5read(file = filename, \"var\") # gene names"
   ]
  },
  {
   "cell_type": "code",
   "execution_count": null,
   "metadata": {},
   "outputs": [],
   "source": [
    "X = h5read(file = filename, \"X\")\n",
    "X_data = as.integer(X$data)\n",
    "X_indptr = as.integer(X$indptr)\n",
    "X_indices = as.integer(X$indices)\n",
    "rm(X)"
   ]
  },
  {
   "cell_type": "code",
   "execution_count": null,
   "metadata": {},
   "outputs": [],
   "source": [
    "sMat = sparseMatrix(\n",
    "i = X_indices,\n",
    "p = X_indptr,\n",
    "x = X_data,\n",
    "dims = c(length(var[[1]]), length(ind)),\n",
    "index1 = FALSE\n",
    ")\n",
    "rownames(sMat) <- as.character(var[[1]])\n",
    "colnames(sMat) <- as.character(ind)"
   ]
  }
 ],
 "metadata": {
  "kernelspec": {
   "display_name": "R",
   "language": "R",
   "name": "ir"
  },
  "language_info": {
   "codemirror_mode": "r",
   "file_extension": ".r",
   "mimetype": "text/x-r-source",
   "name": "R",
   "pygments_lexer": "r",
   "version": "3.6.1"
  }
 },
 "nbformat": 4,
 "nbformat_minor": 4
}
