{
 "cells": [
  {
   "cell_type": "code",
   "execution_count": 68,
   "metadata": {},
   "outputs": [],
   "source": [
    "library(dplyr)\n",
    "library(ggplot2)"
   ]
  },
  {
   "cell_type": "code",
   "execution_count": 69,
   "metadata": {},
   "outputs": [],
   "source": [
    "# mydir = \"/nfs/leia/research/stegle/dseaton/hipsci/singlecell_neuroseq/data/data_processed/pool1_13_noddd_D11/\"\n",
    "# mysuffix = \"pool1_13_noddd_D11.scanpy.w_metadata.w_celltype.scanpy.obs_df.groupedby.donor_id-pool_id-time_point.celltype_counts.tsv\"\n",
    "\n",
    "# myfilename = paste0(mydir,mysuffix)\n",
    "# df0 = read.table(myfilename, header = T)\n",
    "# df0$treatment = 'NONE'\n",
    "# head(df0)"
   ]
  },
  {
   "cell_type": "code",
   "execution_count": 70,
   "metadata": {},
   "outputs": [],
   "source": [
    "# mydir = \"/nfs/leia/research/stegle/dseaton/hipsci/singlecell_neuroseq/data/data_processed/pool1_13_noddd_D30/\"\n",
    "# mysuffix = \"pool1_13_noddd_D30.scanpy.w_metadata.w_celltype.scanpy.obs_df.groupedby.donor_id-pool_id-time_point.celltype_counts.tsv\"\n",
    "\n",
    "# myfilename = paste0(mydir,mysuffix)\n",
    "# df1= read.table(myfilename, header = T)\n",
    "# df1$celltype <- as.character(df1$celltype)\n",
    "# df1$celltype[df1$celltype == \"Astro\"] <- \"FPP\"\n",
    "# df1$celltype[df1$celltype == \"CHem\"] <- \"U_Neur1\"\n",
    "# df1$celltype[df1$celltype == \"unknown\"] <- \"U_Neur2\"\n",
    "# df1$treatment = 'NONE'\n",
    "# head(df1)"
   ]
  },
  {
   "cell_type": "code",
   "execution_count": 71,
   "metadata": {},
   "outputs": [
    {
     "data": {
      "text/html": [
       "<table>\n",
       "<thead><tr><th scope=col>donor_id</th><th scope=col>pool_id</th><th scope=col>time_point</th><th scope=col>treatment</th><th scope=col>celltype</th><th scope=col>n_cells</th></tr></thead>\n",
       "<tbody>\n",
       "\t<tr><td>HPSI0114i-bezi_3</td><td>pool10          </td><td>D52             </td><td>NONE            </td><td>Astro           </td><td> 2              </td></tr>\n",
       "\t<tr><td>HPSI0114i-bezi_3</td><td>pool10          </td><td>D52             </td><td>NONE            </td><td>U_Neur1         </td><td> 5              </td></tr>\n",
       "\t<tr><td>HPSI0114i-bezi_3</td><td>pool10          </td><td>D52             </td><td>NONE            </td><td>DA              </td><td>66              </td></tr>\n",
       "\t<tr><td>HPSI0114i-bezi_3</td><td>pool10          </td><td>D52             </td><td>NONE            </td><td>Epen1           </td><td>39              </td></tr>\n",
       "\t<tr><td>HPSI0114i-bezi_3</td><td>pool10          </td><td>D52             </td><td>NONE            </td><td>FPP             </td><td>31              </td></tr>\n",
       "\t<tr><td>HPSI0114i-bezi_3</td><td>pool10          </td><td>D52             </td><td>NONE            </td><td>P_FPP           </td><td> 4              </td></tr>\n",
       "</tbody>\n",
       "</table>\n"
      ],
      "text/latex": [
       "\\begin{tabular}{r|llllll}\n",
       " donor\\_id & pool\\_id & time\\_point & treatment & celltype & n\\_cells\\\\\n",
       "\\hline\n",
       "\t HPSI0114i-bezi\\_3 & pool10             & D52                & NONE               & Astro              &  2                \\\\\n",
       "\t HPSI0114i-bezi\\_3 & pool10             & D52                & NONE               & U\\_Neur1          &  5                \\\\\n",
       "\t HPSI0114i-bezi\\_3 & pool10             & D52                & NONE               & DA                 & 66                \\\\\n",
       "\t HPSI0114i-bezi\\_3 & pool10             & D52                & NONE               & Epen1              & 39                \\\\\n",
       "\t HPSI0114i-bezi\\_3 & pool10             & D52                & NONE               & FPP                & 31                \\\\\n",
       "\t HPSI0114i-bezi\\_3 & pool10             & D52                & NONE               & P\\_FPP            &  4                \\\\\n",
       "\\end{tabular}\n"
      ],
      "text/markdown": [
       "\n",
       "| donor_id | pool_id | time_point | treatment | celltype | n_cells |\n",
       "|---|---|---|---|---|---|\n",
       "| HPSI0114i-bezi_3 | pool10           | D52              | NONE             | Astro            |  2               |\n",
       "| HPSI0114i-bezi_3 | pool10           | D52              | NONE             | U_Neur1          |  5               |\n",
       "| HPSI0114i-bezi_3 | pool10           | D52              | NONE             | DA               | 66               |\n",
       "| HPSI0114i-bezi_3 | pool10           | D52              | NONE             | Epen1            | 39               |\n",
       "| HPSI0114i-bezi_3 | pool10           | D52              | NONE             | FPP              | 31               |\n",
       "| HPSI0114i-bezi_3 | pool10           | D52              | NONE             | P_FPP            |  4               |\n",
       "\n"
      ],
      "text/plain": [
       "  donor_id         pool_id time_point treatment celltype n_cells\n",
       "1 HPSI0114i-bezi_3 pool10  D52        NONE      Astro     2     \n",
       "2 HPSI0114i-bezi_3 pool10  D52        NONE      U_Neur1   5     \n",
       "3 HPSI0114i-bezi_3 pool10  D52        NONE      DA       66     \n",
       "4 HPSI0114i-bezi_3 pool10  D52        NONE      Epen1    39     \n",
       "5 HPSI0114i-bezi_3 pool10  D52        NONE      FPP      31     \n",
       "6 HPSI0114i-bezi_3 pool10  D52        NONE      P_FPP     4     "
      ]
     },
     "metadata": {},
     "output_type": "display_data"
    }
   ],
   "source": [
    "mydir = \"/nfs/leia/research/stegle/dseaton/hipsci/singlecell_neuroseq/data/data_processed/pool1_17_D52/\"\n",
    "mysuffix = \"pool1_17_D52.scanpy.w_metadata.w_celltype.scanpy.obs_df.groupedby.donor_id-pool_id-time_point-treatment.celltype_counts.tsv\"\n",
    "\n",
    "myfilename = paste0(mydir,mysuffix)\n",
    "df2 = read.table(myfilename, header = T)\n",
    "df2$celltype <- as.character(df2$celltype)\n",
    "df2$celltype[df2$celltype == \"CHem\"] <- \"U_Neur1\"\n",
    "df2$celltype[df2$celltype == \"unknown\"] <- \"U_Neur3\"\n",
    "head(df2)"
   ]
  },
  {
   "cell_type": "code",
   "execution_count": 72,
   "metadata": {},
   "outputs": [],
   "source": [
    "# df2 = df2[df2$treatment == \"NONE\",]"
   ]
  },
  {
   "cell_type": "code",
   "execution_count": 73,
   "metadata": {},
   "outputs": [],
   "source": [
    "df_tot_d52_mid = df2[df2$celltype %in% c(\"DA\",\"Sert\"),] %>% group_by(donor_id,pool_id) %>% \n",
    "                                                        summarize(total_midbrain_cells = sum(n_cells))\n",
    "# df_tot_d52_mid = df2[df2$celltype %in% c(\"DA\"),] %>% group_by(donor_id,pool_id) %>% \n",
    "#                                                         summarize(total_midbrain_cells = sum(n_cells))"
   ]
  },
  {
   "cell_type": "code",
   "execution_count": 74,
   "metadata": {},
   "outputs": [
    {
     "data": {
      "text/html": [
       "230"
      ],
      "text/latex": [
       "230"
      ],
      "text/markdown": [
       "230"
      ],
      "text/plain": [
       "[1] 230"
      ]
     },
     "metadata": {},
     "output_type": "display_data"
    }
   ],
   "source": [
    "nrow(df_tot_d52_mid)"
   ]
  },
  {
   "cell_type": "code",
   "execution_count": 75,
   "metadata": {},
   "outputs": [
    {
     "data": {
      "text/html": [
       "232"
      ],
      "text/latex": [
       "232"
      ],
      "text/markdown": [
       "232"
      ],
      "text/plain": [
       "[1] 232"
      ]
     },
     "metadata": {},
     "output_type": "display_data"
    }
   ],
   "source": [
    "df_tot_d52 = df2 %>% group_by(donor_id,pool_id) %>% summarize(total_cells = sum(n_cells))\n",
    "nrow(df_tot_d52)"
   ]
  },
  {
   "cell_type": "code",
   "execution_count": 76,
   "metadata": {},
   "outputs": [
    {
     "data": {
      "text/html": [
       "230"
      ],
      "text/latex": [
       "230"
      ],
      "text/markdown": [
       "230"
      ],
      "text/plain": [
       "[1] 230"
      ]
     },
     "metadata": {},
     "output_type": "display_data"
    },
    {
     "data": {
      "text/html": [
       "<table>\n",
       "<thead><tr><th scope=col>donor_id</th><th scope=col>pool_id</th><th scope=col>total_cells</th><th scope=col>total_midbrain_cells</th></tr></thead>\n",
       "<tbody>\n",
       "\t<tr><td>HPSI0114i-bezi_3</td><td>pool10          </td><td>  393           </td><td> 229            </td></tr>\n",
       "\t<tr><td>HPSI0114i-eipl_1</td><td>pool1           </td><td>25935           </td><td> 334            </td></tr>\n",
       "\t<tr><td>HPSI0114i-fikt_3</td><td>pool14          </td><td>  283           </td><td> 114            </td></tr>\n",
       "\t<tr><td>HPSI0114i-kolf_2</td><td>pool10          </td><td>  243           </td><td> 122            </td></tr>\n",
       "\t<tr><td>HPSI0114i-kolf_2</td><td>pool15          </td><td> 2423           </td><td>1064            </td></tr>\n",
       "\t<tr><td>HPSI0114i-lexy_2</td><td>pool10          </td><td>  453           </td><td> 359            </td></tr>\n",
       "</tbody>\n",
       "</table>\n"
      ],
      "text/latex": [
       "\\begin{tabular}{r|llll}\n",
       " donor\\_id & pool\\_id & total\\_cells & total\\_midbrain\\_cells\\\\\n",
       "\\hline\n",
       "\t HPSI0114i-bezi\\_3 & pool10             &   393              &  229              \\\\\n",
       "\t HPSI0114i-eipl\\_1 & pool1              & 25935              &  334              \\\\\n",
       "\t HPSI0114i-fikt\\_3 & pool14             &   283              &  114              \\\\\n",
       "\t HPSI0114i-kolf\\_2 & pool10             &   243              &  122              \\\\\n",
       "\t HPSI0114i-kolf\\_2 & pool15             &  2423              & 1064              \\\\\n",
       "\t HPSI0114i-lexy\\_2 & pool10             &   453              &  359              \\\\\n",
       "\\end{tabular}\n"
      ],
      "text/markdown": [
       "\n",
       "| donor_id | pool_id | total_cells | total_midbrain_cells |\n",
       "|---|---|---|---|\n",
       "| HPSI0114i-bezi_3 | pool10           |   393            |  229             |\n",
       "| HPSI0114i-eipl_1 | pool1            | 25935            |  334             |\n",
       "| HPSI0114i-fikt_3 | pool14           |   283            |  114             |\n",
       "| HPSI0114i-kolf_2 | pool10           |   243            |  122             |\n",
       "| HPSI0114i-kolf_2 | pool15           |  2423            | 1064             |\n",
       "| HPSI0114i-lexy_2 | pool10           |   453            |  359             |\n",
       "\n"
      ],
      "text/plain": [
       "  donor_id         pool_id total_cells total_midbrain_cells\n",
       "1 HPSI0114i-bezi_3 pool10    393        229                \n",
       "2 HPSI0114i-eipl_1 pool1   25935        334                \n",
       "3 HPSI0114i-fikt_3 pool14    283        114                \n",
       "4 HPSI0114i-kolf_2 pool10    243        122                \n",
       "5 HPSI0114i-kolf_2 pool15   2423       1064                \n",
       "6 HPSI0114i-lexy_2 pool10    453        359                "
      ]
     },
     "metadata": {},
     "output_type": "display_data"
    }
   ],
   "source": [
    "df = inner_join(df_tot_d52, df_tot_d52_mid, by = c(\"donor_id\",\"pool_id\"))\n",
    "nrow(df)\n",
    "head(df)"
   ]
  },
  {
   "cell_type": "code",
   "execution_count": 77,
   "metadata": {},
   "outputs": [
    {
     "data": {
      "text/html": [
       "<table>\n",
       "<thead><tr><th scope=col>donor_id</th><th scope=col>pool_id</th><th scope=col>total_cells</th><th scope=col>total_midbrain_cells</th><th scope=col>diff_eff</th></tr></thead>\n",
       "<tbody>\n",
       "\t<tr><td>HPSI0114i-bezi_3</td><td>pool10          </td><td>  393           </td><td> 229            </td><td>0.58269720      </td></tr>\n",
       "\t<tr><td>HPSI0114i-eipl_1</td><td>pool1           </td><td>25935           </td><td> 334            </td><td>0.01287835      </td></tr>\n",
       "\t<tr><td>HPSI0114i-fikt_3</td><td>pool14          </td><td>  283           </td><td> 114            </td><td>0.40282686      </td></tr>\n",
       "\t<tr><td>HPSI0114i-kolf_2</td><td>pool10          </td><td>  243           </td><td> 122            </td><td>0.50205761      </td></tr>\n",
       "\t<tr><td>HPSI0114i-kolf_2</td><td>pool15          </td><td> 2423           </td><td>1064            </td><td>0.43912505      </td></tr>\n",
       "\t<tr><td>HPSI0114i-lexy_2</td><td>pool10          </td><td>  453           </td><td> 359            </td><td>0.79249448      </td></tr>\n",
       "</tbody>\n",
       "</table>\n"
      ],
      "text/latex": [
       "\\begin{tabular}{r|lllll}\n",
       " donor\\_id & pool\\_id & total\\_cells & total\\_midbrain\\_cells & diff\\_eff\\\\\n",
       "\\hline\n",
       "\t HPSI0114i-bezi\\_3 & pool10             &   393              &  229               & 0.58269720        \\\\\n",
       "\t HPSI0114i-eipl\\_1 & pool1              & 25935              &  334               & 0.01287835        \\\\\n",
       "\t HPSI0114i-fikt\\_3 & pool14             &   283              &  114               & 0.40282686        \\\\\n",
       "\t HPSI0114i-kolf\\_2 & pool10             &   243              &  122               & 0.50205761        \\\\\n",
       "\t HPSI0114i-kolf\\_2 & pool15             &  2423              & 1064               & 0.43912505        \\\\\n",
       "\t HPSI0114i-lexy\\_2 & pool10             &   453              &  359               & 0.79249448        \\\\\n",
       "\\end{tabular}\n"
      ],
      "text/markdown": [
       "\n",
       "| donor_id | pool_id | total_cells | total_midbrain_cells | diff_eff |\n",
       "|---|---|---|---|---|\n",
       "| HPSI0114i-bezi_3 | pool10           |   393            |  229             | 0.58269720       |\n",
       "| HPSI0114i-eipl_1 | pool1            | 25935            |  334             | 0.01287835       |\n",
       "| HPSI0114i-fikt_3 | pool14           |   283            |  114             | 0.40282686       |\n",
       "| HPSI0114i-kolf_2 | pool10           |   243            |  122             | 0.50205761       |\n",
       "| HPSI0114i-kolf_2 | pool15           |  2423            | 1064             | 0.43912505       |\n",
       "| HPSI0114i-lexy_2 | pool10           |   453            |  359             | 0.79249448       |\n",
       "\n"
      ],
      "text/plain": [
       "  donor_id         pool_id total_cells total_midbrain_cells diff_eff  \n",
       "1 HPSI0114i-bezi_3 pool10    393        229                 0.58269720\n",
       "2 HPSI0114i-eipl_1 pool1   25935        334                 0.01287835\n",
       "3 HPSI0114i-fikt_3 pool14    283        114                 0.40282686\n",
       "4 HPSI0114i-kolf_2 pool10    243        122                 0.50205761\n",
       "5 HPSI0114i-kolf_2 pool15   2423       1064                 0.43912505\n",
       "6 HPSI0114i-lexy_2 pool10    453        359                 0.79249448"
      ]
     },
     "metadata": {},
     "output_type": "display_data"
    }
   ],
   "source": [
    "df$diff_eff = df$total_midbrain_cells/df$total_cells\n",
    "head(df)"
   ]
  },
  {
   "cell_type": "code",
   "execution_count": 78,
   "metadata": {},
   "outputs": [],
   "source": [
    "# install.packages(\"lme4\")"
   ]
  },
  {
   "cell_type": "code",
   "execution_count": 79,
   "metadata": {},
   "outputs": [],
   "source": [
    "library(lme4)\n",
    "lmm <- lmer(diff_eff ~ (1 | donor_id) + (1 | pool_id), data = df, REML = F)"
   ]
  },
  {
   "cell_type": "code",
   "execution_count": 80,
   "metadata": {},
   "outputs": [
    {
     "data": {
      "text/plain": [
       "Linear mixed model fit by maximum likelihood  ['lmerMod']\n",
       "Formula: diff_eff ~ (1 | donor_id) + (1 | pool_id)\n",
       "   Data: df\n",
       "\n",
       "     AIC      BIC   logLik deviance df.resid \n",
       "    58.6     72.4    -25.3     50.6      226 \n",
       "\n",
       "Scaled residuals: \n",
       "     Min       1Q   Median       3Q      Max \n",
       "-2.07682 -0.38981  0.07566  0.37136  1.99103 \n",
       "\n",
       "Random effects:\n",
       " Groups   Name        Variance Std.Dev.\n",
       " donor_id (Intercept) 0.06863  0.26197 \n",
       " pool_id  (Intercept) 0.00670  0.08185 \n",
       " Residual             0.01267  0.11255 \n",
       "Number of obs: 230, groups:  donor_id, 197; pool_id, 16\n",
       "\n",
       "Fixed effects:\n",
       "            Estimate Std. Error t value\n",
       "(Intercept)  0.49961    0.02926   17.08"
      ]
     },
     "metadata": {},
     "output_type": "display_data"
    }
   ],
   "source": [
    "summary(lmm)"
   ]
  },
  {
   "cell_type": "code",
   "execution_count": 81,
   "metadata": {},
   "outputs": [],
   "source": [
    "donor = summary(lmm)$varcor$donor_id[1,1]\n",
    "pool = summary(lmm)$varcor$pool_id[1,1]\n",
    "residual = summary(lmm)$sigma **2"
   ]
  },
  {
   "cell_type": "code",
   "execution_count": 82,
   "metadata": {},
   "outputs": [],
   "source": [
    "sum = donor+pool+residual"
   ]
  },
  {
   "cell_type": "code",
   "execution_count": 83,
   "metadata": {},
   "outputs": [
    {
     "data": {
      "image/png": "[encoded data removed]",
      "text/plain": [
       "plot without title"
      ]
     },
     "metadata": {},
     "output_type": "display_data"
    }
   ],
   "source": [
    "options(repr.plot.width = 5, repr.plot.height = 5)\n",
    "df_plot = data.frame(component = c(\"donor\",\"pool\",\"residual\"),\n",
    "               variance = c(donor/sum, pool/sum, residual/sum))\n",
    "p = ggplot(df_plot, aes(x = component, y = variance*100, fill = component)) + geom_bar(stat=\"identity\")\n",
    "p + xlab(\"\") + ylab(\"% variance explained\")"
   ]
  },
  {
   "cell_type": "code",
   "execution_count": 84,
   "metadata": {},
   "outputs": [
    {
     "data": {
      "text/html": [
       "<table>\n",
       "<thead><tr><th></th><th scope=col>donor_id</th><th scope=col>Gender</th><th scope=col>Age</th><th scope=col>feederfree</th><th scope=col>min_age</th><th scope=col>max_age</th><th scope=col>avg_age</th><th scope=col>origin_cell</th><th scope=col>reprogramming_method</th></tr></thead>\n",
       "<tbody>\n",
       "\t<tr><th scope=row>HPSI0813i-ffdc_1</th><td>HPSI0813i-ffdc_1 </td><td>male             </td><td>40-44            </td><td>n                </td><td>40               </td><td>44               </td><td>42               </td><td>fibroblast       </td><td>sendai           </td></tr>\n",
       "\t<tr><th scope=row>HPSI0213i-nawk_55</th><td>HPSI0213i-nawk_55</td><td>male             </td><td>                 </td><td>y                </td><td>NA               </td><td>NA               </td><td>NA               </td><td>fibroblast       </td><td>sendai           </td></tr>\n",
       "\t<tr><th scope=row>HPSI0513i-uoxz_4</th><td>HPSI0513i-uoxz_4 </td><td>female           </td><td>                 </td><td>n                </td><td>NA               </td><td>NA               </td><td>NA               </td><td>fibroblast       </td><td>sendai           </td></tr>\n",
       "\t<tr><th scope=row>HPSI0513i-veve_2</th><td>HPSI0513i-veve_2 </td><td>female           </td><td>                 </td><td>n                </td><td>NA               </td><td>NA               </td><td>NA               </td><td>fibroblast       </td><td>sendai           </td></tr>\n",
       "\t<tr><th scope=row>HPSI0413i-peop_4</th><td>HPSI0413i-peop_4 </td><td>male             </td><td>                 </td><td>y                </td><td>NA               </td><td>NA               </td><td>NA               </td><td>fibroblast       </td><td>sendai           </td></tr>\n",
       "\t<tr><th scope=row>HPSI0613i-hikj_2</th><td>HPSI0613i-hikj_2 </td><td>male             </td><td>                 </td><td>n                </td><td>NA               </td><td>NA               </td><td>NA               </td><td>fibroblast       </td><td>sendai           </td></tr>\n",
       "</tbody>\n",
       "</table>\n"
      ],
      "text/latex": [
       "\\begin{tabular}{r|lllllllll}\n",
       "  & donor\\_id & Gender & Age & feederfree & min\\_age & max\\_age & avg\\_age & origin\\_cell & reprogramming\\_method\\\\\n",
       "\\hline\n",
       "\tHPSI0813i-ffdc\\_1 & HPSI0813i-ffdc\\_1  & male                & 40-44               & n                   & 40                  & 44                  & 42                  & fibroblast          & sendai             \\\\\n",
       "\tHPSI0213i-nawk\\_55 & HPSI0213i-nawk\\_55 & male                &                     & y                   & NA                  & NA                  & NA                  & fibroblast          & sendai             \\\\\n",
       "\tHPSI0513i-uoxz\\_4 & HPSI0513i-uoxz\\_4  & female              &                     & n                   & NA                  & NA                  & NA                  & fibroblast          & sendai             \\\\\n",
       "\tHPSI0513i-veve\\_2 & HPSI0513i-veve\\_2  & female              &                     & n                   & NA                  & NA                  & NA                  & fibroblast          & sendai             \\\\\n",
       "\tHPSI0413i-peop\\_4 & HPSI0413i-peop\\_4  & male                &                     & y                   & NA                  & NA                  & NA                  & fibroblast          & sendai             \\\\\n",
       "\tHPSI0613i-hikj\\_2 & HPSI0613i-hikj\\_2  & male                &                     & n                   & NA                  & NA                  & NA                  & fibroblast          & sendai             \\\\\n",
       "\\end{tabular}\n"
      ],
      "text/markdown": [
       "\n",
       "| <!--/--> | donor_id | Gender | Age | feederfree | min_age | max_age | avg_age | origin_cell | reprogramming_method |\n",
       "|---|---|---|---|---|---|---|---|---|---|\n",
       "| HPSI0813i-ffdc_1 | HPSI0813i-ffdc_1  | male              | 40-44             | n                 | 40                | 44                | 42                | fibroblast        | sendai            |\n",
       "| HPSI0213i-nawk_55 | HPSI0213i-nawk_55 | male              |                   | y                 | NA                | NA                | NA                | fibroblast        | sendai            |\n",
       "| HPSI0513i-uoxz_4 | HPSI0513i-uoxz_4  | female            |                   | n                 | NA                | NA                | NA                | fibroblast        | sendai            |\n",
       "| HPSI0513i-veve_2 | HPSI0513i-veve_2  | female            |                   | n                 | NA                | NA                | NA                | fibroblast        | sendai            |\n",
       "| HPSI0413i-peop_4 | HPSI0413i-peop_4  | male              |                   | y                 | NA                | NA                | NA                | fibroblast        | sendai            |\n",
       "| HPSI0613i-hikj_2 | HPSI0613i-hikj_2  | male              |                   | n                 | NA                | NA                | NA                | fibroblast        | sendai            |\n",
       "\n"
      ],
      "text/plain": [
       "                  donor_id          Gender Age   feederfree min_age max_age\n",
       "HPSI0813i-ffdc_1  HPSI0813i-ffdc_1  male   40-44 n          40      44     \n",
       "HPSI0213i-nawk_55 HPSI0213i-nawk_55 male         y          NA      NA     \n",
       "HPSI0513i-uoxz_4  HPSI0513i-uoxz_4  female       n          NA      NA     \n",
       "HPSI0513i-veve_2  HPSI0513i-veve_2  female       n          NA      NA     \n",
       "HPSI0413i-peop_4  HPSI0413i-peop_4  male         y          NA      NA     \n",
       "HPSI0613i-hikj_2  HPSI0613i-hikj_2  male         n          NA      NA     \n",
       "                  avg_age origin_cell reprogramming_method\n",
       "HPSI0813i-ffdc_1  42      fibroblast  sendai              \n",
       "HPSI0213i-nawk_55 NA      fibroblast  sendai              \n",
       "HPSI0513i-uoxz_4  NA      fibroblast  sendai              \n",
       "HPSI0513i-veve_2  NA      fibroblast  sendai              \n",
       "HPSI0413i-peop_4  NA      fibroblast  sendai              \n",
       "HPSI0613i-hikj_2  NA      fibroblast  sendai              "
      ]
     },
     "metadata": {},
     "output_type": "display_data"
    }
   ],
   "source": [
    "coldata = read.csv(\"/hps/nobackup/stegle/users/acuomo/all_scripts/sc_neuroseq/metadata_all_lines.csv\", row.names = 1)\n",
    "head(coldata)"
   ]
  },
  {
   "cell_type": "code",
   "execution_count": 85,
   "metadata": {},
   "outputs": [
    {
     "name": "stderr",
     "output_type": "stream",
     "text": [
      "Warning message:\n",
      "“Column `donor_id` joining factors with different levels, coercing to character vector”"
     ]
    },
    {
     "data": {
      "text/html": [
       "<table>\n",
       "<thead><tr><th scope=col>donor_id</th><th scope=col>pool_id</th><th scope=col>total_cells</th><th scope=col>total_midbrain_cells</th><th scope=col>diff_eff</th><th scope=col>Gender</th><th scope=col>Age</th><th scope=col>feederfree</th><th scope=col>min_age</th><th scope=col>max_age</th><th scope=col>avg_age</th><th scope=col>origin_cell</th><th scope=col>reprogramming_method</th></tr></thead>\n",
       "<tbody>\n",
       "\t<tr><td>HPSI0114i-bezi_3</td><td>pool10          </td><td>  393           </td><td> 229            </td><td>0.58269720      </td><td>female          </td><td>60-64           </td><td>n               </td><td>60              </td><td>64              </td><td>62              </td><td>fibroblast      </td><td>sendai          </td></tr>\n",
       "\t<tr><td>HPSI0114i-eipl_1</td><td>pool1           </td><td>25935           </td><td> 334            </td><td>0.01287835      </td><td>female          </td><td>40-44           </td><td>n               </td><td>40              </td><td>44              </td><td>42              </td><td>fibroblast      </td><td>sendai          </td></tr>\n",
       "\t<tr><td>HPSI0114i-fikt_3</td><td>pool14          </td><td>  283           </td><td> 114            </td><td>0.40282686      </td><td>male            </td><td>50-54           </td><td>y               </td><td>50              </td><td>54              </td><td>52              </td><td>fibroblast      </td><td>sendai          </td></tr>\n",
       "\t<tr><td>HPSI0114i-kolf_2</td><td>pool10          </td><td>  243           </td><td> 122            </td><td>0.50205761      </td><td>male            </td><td>55-59           </td><td>n               </td><td>55              </td><td>59              </td><td>57              </td><td>fibroblast      </td><td>sendai          </td></tr>\n",
       "\t<tr><td>HPSI0114i-kolf_2</td><td>pool15          </td><td> 2423           </td><td>1064            </td><td>0.43912505      </td><td>male            </td><td>55-59           </td><td>n               </td><td>55              </td><td>59              </td><td>57              </td><td>fibroblast      </td><td>sendai          </td></tr>\n",
       "\t<tr><td>HPSI0114i-lexy_2</td><td>pool10          </td><td>  453           </td><td> 359            </td><td>0.79249448      </td><td>female          </td><td>60-64           </td><td>n               </td><td>60              </td><td>64              </td><td>62              </td><td>fibroblast      </td><td>sendai          </td></tr>\n",
       "</tbody>\n",
       "</table>\n"
      ],
      "text/latex": [
       "\\begin{tabular}{r|lllllllllllll}\n",
       " donor\\_id & pool\\_id & total\\_cells & total\\_midbrain\\_cells & diff\\_eff & Gender & Age & feederfree & min\\_age & max\\_age & avg\\_age & origin\\_cell & reprogramming\\_method\\\\\n",
       "\\hline\n",
       "\t HPSI0114i-bezi\\_3 & pool10             &   393              &  229               & 0.58269720         & female             & 60-64              & n                  & 60                 & 64                 & 62                 & fibroblast         & sendai            \\\\\n",
       "\t HPSI0114i-eipl\\_1 & pool1              & 25935              &  334               & 0.01287835         & female             & 40-44              & n                  & 40                 & 44                 & 42                 & fibroblast         & sendai            \\\\\n",
       "\t HPSI0114i-fikt\\_3 & pool14             &   283              &  114               & 0.40282686         & male               & 50-54              & y                  & 50                 & 54                 & 52                 & fibroblast         & sendai            \\\\\n",
       "\t HPSI0114i-kolf\\_2 & pool10             &   243              &  122               & 0.50205761         & male               & 55-59              & n                  & 55                 & 59                 & 57                 & fibroblast         & sendai            \\\\\n",
       "\t HPSI0114i-kolf\\_2 & pool15             &  2423              & 1064               & 0.43912505         & male               & 55-59              & n                  & 55                 & 59                 & 57                 & fibroblast         & sendai            \\\\\n",
       "\t HPSI0114i-lexy\\_2 & pool10             &   453              &  359               & 0.79249448         & female             & 60-64              & n                  & 60                 & 64                 & 62                 & fibroblast         & sendai            \\\\\n",
       "\\end{tabular}\n"
      ],
      "text/markdown": [
       "\n",
       "| donor_id | pool_id | total_cells | total_midbrain_cells | diff_eff | Gender | Age | feederfree | min_age | max_age | avg_age | origin_cell | reprogramming_method |\n",
       "|---|---|---|---|---|---|---|---|---|---|---|---|---|\n",
       "| HPSI0114i-bezi_3 | pool10           |   393            |  229             | 0.58269720       | female           | 60-64            | n                | 60               | 64               | 62               | fibroblast       | sendai           |\n",
       "| HPSI0114i-eipl_1 | pool1            | 25935            |  334             | 0.01287835       | female           | 40-44            | n                | 40               | 44               | 42               | fibroblast       | sendai           |\n",
       "| HPSI0114i-fikt_3 | pool14           |   283            |  114             | 0.40282686       | male             | 50-54            | y                | 50               | 54               | 52               | fibroblast       | sendai           |\n",
       "| HPSI0114i-kolf_2 | pool10           |   243            |  122             | 0.50205761       | male             | 55-59            | n                | 55               | 59               | 57               | fibroblast       | sendai           |\n",
       "| HPSI0114i-kolf_2 | pool15           |  2423            | 1064             | 0.43912505       | male             | 55-59            | n                | 55               | 59               | 57               | fibroblast       | sendai           |\n",
       "| HPSI0114i-lexy_2 | pool10           |   453            |  359             | 0.79249448       | female           | 60-64            | n                | 60               | 64               | 62               | fibroblast       | sendai           |\n",
       "\n"
      ],
      "text/plain": [
       "  donor_id         pool_id total_cells total_midbrain_cells diff_eff   Gender\n",
       "1 HPSI0114i-bezi_3 pool10    393        229                 0.58269720 female\n",
       "2 HPSI0114i-eipl_1 pool1   25935        334                 0.01287835 female\n",
       "3 HPSI0114i-fikt_3 pool14    283        114                 0.40282686 male  \n",
       "4 HPSI0114i-kolf_2 pool10    243        122                 0.50205761 male  \n",
       "5 HPSI0114i-kolf_2 pool15   2423       1064                 0.43912505 male  \n",
       "6 HPSI0114i-lexy_2 pool10    453        359                 0.79249448 female\n",
       "  Age   feederfree min_age max_age avg_age origin_cell reprogramming_method\n",
       "1 60-64 n          60      64      62      fibroblast  sendai              \n",
       "2 40-44 n          40      44      42      fibroblast  sendai              \n",
       "3 50-54 y          50      54      52      fibroblast  sendai              \n",
       "4 55-59 n          55      59      57      fibroblast  sendai              \n",
       "5 55-59 n          55      59      57      fibroblast  sendai              \n",
       "6 60-64 n          60      64      62      fibroblast  sendai              "
      ]
     },
     "metadata": {},
     "output_type": "display_data"
    }
   ],
   "source": [
    "df2 = inner_join(df, as.data.frame(coldata), by = \"donor_id\")\n",
    "head(df2)"
   ]
  },
  {
   "cell_type": "code",
   "execution_count": 86,
   "metadata": {},
   "outputs": [],
   "source": [
    "lmm2 <- lmer(diff_eff ~ (1 | donor_id) + (1 | pool_id) + (1 | Gender) + (1 | Age), data = df2, REML = F)"
   ]
  },
  {
   "cell_type": "code",
   "execution_count": 87,
   "metadata": {},
   "outputs": [
    {
     "data": {
      "text/plain": [
       "Linear mixed model fit by maximum likelihood  ['lmerMod']\n",
       "Formula: diff_eff ~ (1 | donor_id) + (1 | pool_id) + (1 | Gender) + (1 |  \n",
       "    Age)\n",
       "   Data: df2\n",
       "\n",
       "     AIC      BIC   logLik deviance df.resid \n",
       "    58.9     79.5    -23.4     46.9      224 \n",
       "\n",
       "Scaled residuals: \n",
       "     Min       1Q   Median       3Q      Max \n",
       "-2.15475 -0.39201  0.05323  0.38175  1.98436 \n",
       "\n",
       "Random effects:\n",
       " Groups   Name        Variance Std.Dev.\n",
       " donor_id (Intercept) 0.064167 0.25331 \n",
       " pool_id  (Intercept) 0.006213 0.07883 \n",
       " Age      (Intercept) 0.003635 0.06029 \n",
       " Gender   (Intercept) 0.002466 0.04966 \n",
       " Residual             0.012674 0.11258 \n",
       "Number of obs: 230, groups:  donor_id, 197; pool_id, 16; Age, 12; Gender, 2\n",
       "\n",
       "Fixed effects:\n",
       "            Estimate Std. Error t value\n",
       "(Intercept)  0.49032    0.04962   9.881"
      ]
     },
     "metadata": {},
     "output_type": "display_data"
    }
   ],
   "source": [
    "summary(lmm2)"
   ]
  },
  {
   "cell_type": "code",
   "execution_count": 88,
   "metadata": {},
   "outputs": [],
   "source": [
    "donor = summary(lmm2)$varcor$donor_id[1,1]\n",
    "pool = summary(lmm2)$varcor$pool_id[1,1]\n",
    "sex = summary(lmm2)$varcor$Gender[1,1]\n",
    "age = summary(lmm2)$varcor$Age[1,1]\n",
    "residual = summary(lmm2)$sigma **2\n",
    "#\n",
    "sum = donor+pool+sex+age+residual"
   ]
  },
  {
   "cell_type": "code",
   "execution_count": 109,
   "metadata": {},
   "outputs": [
    {
     "data": {
      "image/png": "[encoded data removed]",
      "text/plain": [
       "plot without title"
      ]
     },
     "metadata": {},
     "output_type": "display_data"
    }
   ],
   "source": [
    "options(repr.plot.width = 5, repr.plot.height = 3.5)\n",
    "df_plot = data.frame(component = c(\"Donor/line\",\"Pool\",\"Donor Sex\",\"Donor Age\",\"Residuals\"),\n",
    "               variance = c(donor/sum, pool/sum, sex/sum, age/sum, residual/sum))\n",
    "p = ggplot(df_plot, aes(x = component, y = variance*100, fill = component)) + geom_bar(stat=\"identity\", alpha = 0.8)\n",
    "p = p + xlab(\"\") + ylab(\"% variance explained\") + theme_bw() \n",
    "p = p + theme(axis.text.x = element_text(angle = 45, hjust = 1, size = 10))\n",
    "p + scale_fill_manual(values = c(\"darkmagenta\",\"steelblue4\",\"turquoise4\",\"goldenrod4\",\"firebrick\"))"
   ]
  },
  {
   "cell_type": "code",
   "execution_count": 110,
   "metadata": {},
   "outputs": [
    {
     "data": {
      "text/html": [
       "<table>\n",
       "<thead><tr><th scope=col>cell_line_id</th><th scope=col>mean_x_chrom_ase</th><th scope=col>Gender</th><th scope=col>donor_id</th></tr></thead>\n",
       "<tbody>\n",
       "\t<tr><td>HPSI0114i-eipl_1</td><td>0.1885190       </td><td>female          </td><td>HPSI0114i-eipl_1</td></tr>\n",
       "\t<tr><td>HPSI1113i-podx_1</td><td>0.1726990       </td><td>female          </td><td>HPSI1113i-podx_1</td></tr>\n",
       "\t<tr><td>HPSI0115i-hecn_6</td><td>0.1202075       </td><td>female          </td><td>HPSI0115i-hecn_6</td></tr>\n",
       "\t<tr><td>HPSI0214i-pelm_3</td><td>0.1304638       </td><td>female          </td><td>HPSI0214i-pelm_3</td></tr>\n",
       "\t<tr><td>HPSI0214i-eiwy_1</td><td>0.2483968       </td><td>female          </td><td>HPSI0214i-eiwy_1</td></tr>\n",
       "\t<tr><td>HPSI0714i-iudw_1</td><td>0.1152498       </td><td>female          </td><td>HPSI0714i-iudw_1</td></tr>\n",
       "</tbody>\n",
       "</table>\n"
      ],
      "text/latex": [
       "\\begin{tabular}{r|llll}\n",
       " cell\\_line\\_id & mean\\_x\\_chrom\\_ase & Gender & donor\\_id\\\\\n",
       "\\hline\n",
       "\t HPSI0114i-eipl\\_1 & 0.1885190          & female             & HPSI0114i-eipl\\_1\\\\\n",
       "\t HPSI1113i-podx\\_1 & 0.1726990          & female             & HPSI1113i-podx\\_1\\\\\n",
       "\t HPSI0115i-hecn\\_6 & 0.1202075          & female             & HPSI0115i-hecn\\_6\\\\\n",
       "\t HPSI0214i-pelm\\_3 & 0.1304638          & female             & HPSI0214i-pelm\\_3\\\\\n",
       "\t HPSI0214i-eiwy\\_1 & 0.2483968          & female             & HPSI0214i-eiwy\\_1\\\\\n",
       "\t HPSI0714i-iudw\\_1 & 0.1152498          & female             & HPSI0714i-iudw\\_1\\\\\n",
       "\\end{tabular}\n"
      ],
      "text/markdown": [
       "\n",
       "| cell_line_id | mean_x_chrom_ase | Gender | donor_id |\n",
       "|---|---|---|---|\n",
       "| HPSI0114i-eipl_1 | 0.1885190        | female           | HPSI0114i-eipl_1 |\n",
       "| HPSI1113i-podx_1 | 0.1726990        | female           | HPSI1113i-podx_1 |\n",
       "| HPSI0115i-hecn_6 | 0.1202075        | female           | HPSI0115i-hecn_6 |\n",
       "| HPSI0214i-pelm_3 | 0.1304638        | female           | HPSI0214i-pelm_3 |\n",
       "| HPSI0214i-eiwy_1 | 0.2483968        | female           | HPSI0214i-eiwy_1 |\n",
       "| HPSI0714i-iudw_1 | 0.1152498        | female           | HPSI0714i-iudw_1 |\n",
       "\n"
      ],
      "text/plain": [
       "  cell_line_id     mean_x_chrom_ase Gender donor_id        \n",
       "1 HPSI0114i-eipl_1 0.1885190        female HPSI0114i-eipl_1\n",
       "2 HPSI1113i-podx_1 0.1726990        female HPSI1113i-podx_1\n",
       "3 HPSI0115i-hecn_6 0.1202075        female HPSI0115i-hecn_6\n",
       "4 HPSI0214i-pelm_3 0.1304638        female HPSI0214i-pelm_3\n",
       "5 HPSI0214i-eiwy_1 0.2483968        female HPSI0214i-eiwy_1\n",
       "6 HPSI0714i-iudw_1 0.1152498        female HPSI0714i-iudw_1"
      ]
     },
     "metadata": {},
     "output_type": "display_data"
    }
   ],
   "source": [
    "xci_data = \"/nfs/leia/research/stegle/dseaton/hipsci/singlecell_neuroseq/data/metadata/neuroseq_x_chrom_inactivation_data.tsv\"\n",
    "xci = read.csv(xci_data, sep = \"\\t\")\n",
    "xci$donor_id = xci$cell_line_id\n",
    "head(xci)"
   ]
  },
  {
   "cell_type": "code",
   "execution_count": 111,
   "metadata": {},
   "outputs": [
    {
     "data": {
      "text/html": [
       "230"
      ],
      "text/latex": [
       "230"
      ],
      "text/markdown": [
       "230"
      ],
      "text/plain": [
       "[1] 230"
      ]
     },
     "metadata": {},
     "output_type": "display_data"
    },
    {
     "name": "stderr",
     "output_type": "stream",
     "text": [
      "Warning message:\n",
      "“Column `donor_id` joining factor and character vector, coercing into character vector”Warning message:\n",
      "“Column `Gender` joining factors with different levels, coercing to character vector”"
     ]
    },
    {
     "data": {
      "text/html": [
       "115"
      ],
      "text/latex": [
       "115"
      ],
      "text/markdown": [
       "115"
      ],
      "text/plain": [
       "[1] 115"
      ]
     },
     "metadata": {},
     "output_type": "display_data"
    },
    {
     "data": {
      "text/html": [
       "<table>\n",
       "<thead><tr><th scope=col>cell_line_id</th><th scope=col>mean_x_chrom_ase</th><th scope=col>Gender</th><th scope=col>donor_id</th><th scope=col>pool_id</th><th scope=col>total_cells</th><th scope=col>total_midbrain_cells</th><th scope=col>diff_eff</th><th scope=col>Age</th><th scope=col>feederfree</th><th scope=col>min_age</th><th scope=col>max_age</th><th scope=col>avg_age</th><th scope=col>origin_cell</th><th scope=col>reprogramming_method</th></tr></thead>\n",
       "<tbody>\n",
       "\t<tr><td>HPSI0114i-eipl_1</td><td>0.188519        </td><td>female          </td><td>HPSI0114i-eipl_1</td><td>pool1           </td><td>25935           </td><td> 334            </td><td>0.01287835      </td><td>40-44           </td><td>n               </td><td>40              </td><td>44              </td><td>42              </td><td>fibroblast      </td><td>sendai          </td></tr>\n",
       "\t<tr><td>HPSI1113i-podx_1</td><td>0.172699        </td><td>female          </td><td>HPSI1113i-podx_1</td><td>pool1           </td><td> 3651           </td><td>2138            </td><td>0.58559299      </td><td>65-69           </td><td>n               </td><td>65              </td><td>69              </td><td>67              </td><td>fibroblast      </td><td>sendai          </td></tr>\n",
       "</tbody>\n",
       "</table>\n"
      ],
      "text/latex": [
       "\\begin{tabular}{r|lllllllllllllll}\n",
       " cell\\_line\\_id & mean\\_x\\_chrom\\_ase & Gender & donor\\_id & pool\\_id & total\\_cells & total\\_midbrain\\_cells & diff\\_eff & Age & feederfree & min\\_age & max\\_age & avg\\_age & origin\\_cell & reprogramming\\_method\\\\\n",
       "\\hline\n",
       "\t HPSI0114i-eipl\\_1 & 0.188519           & female             & HPSI0114i-eipl\\_1 & pool1              & 25935              &  334               & 0.01287835         & 40-44              & n                  & 40                 & 44                 & 42                 & fibroblast         & sendai            \\\\\n",
       "\t HPSI1113i-podx\\_1 & 0.172699           & female             & HPSI1113i-podx\\_1 & pool1              &  3651              & 2138               & 0.58559299         & 65-69              & n                  & 65                 & 69                 & 67                 & fibroblast         & sendai            \\\\\n",
       "\\end{tabular}\n"
      ],
      "text/markdown": [
       "\n",
       "| cell_line_id | mean_x_chrom_ase | Gender | donor_id | pool_id | total_cells | total_midbrain_cells | diff_eff | Age | feederfree | min_age | max_age | avg_age | origin_cell | reprogramming_method |\n",
       "|---|---|---|---|---|---|---|---|---|---|---|---|---|---|---|\n",
       "| HPSI0114i-eipl_1 | 0.188519         | female           | HPSI0114i-eipl_1 | pool1            | 25935            |  334             | 0.01287835       | 40-44            | n                | 40               | 44               | 42               | fibroblast       | sendai           |\n",
       "| HPSI1113i-podx_1 | 0.172699         | female           | HPSI1113i-podx_1 | pool1            |  3651            | 2138             | 0.58559299       | 65-69            | n                | 65               | 69               | 67               | fibroblast       | sendai           |\n",
       "\n"
      ],
      "text/plain": [
       "  cell_line_id     mean_x_chrom_ase Gender donor_id         pool_id total_cells\n",
       "1 HPSI0114i-eipl_1 0.188519         female HPSI0114i-eipl_1 pool1   25935      \n",
       "2 HPSI1113i-podx_1 0.172699         female HPSI1113i-podx_1 pool1    3651      \n",
       "  total_midbrain_cells diff_eff   Age   feederfree min_age max_age avg_age\n",
       "1  334                 0.01287835 40-44 n          40      44      42     \n",
       "2 2138                 0.58559299 65-69 n          65      69      67     \n",
       "  origin_cell reprogramming_method\n",
       "1 fibroblast  sendai              \n",
       "2 fibroblast  sendai              "
      ]
     },
     "metadata": {},
     "output_type": "display_data"
    }
   ],
   "source": [
    "nrow(df2)\n",
    "df3 = inner_join(xci, df2, by = c(\"donor_id\",\"Gender\"))\n",
    "nrow(df3)\n",
    "head(df3,2)"
   ]
  },
  {
   "cell_type": "code",
   "execution_count": 112,
   "metadata": {},
   "outputs": [
    {
     "data": {
      "text/html": [
       "<table>\n",
       "<thead><tr><th scope=col>cell_line_id</th><th scope=col>mean_x_chrom_ase</th><th scope=col>Gender</th><th scope=col>donor_id</th><th scope=col>pool_id</th><th scope=col>total_cells</th><th scope=col>total_midbrain_cells</th><th scope=col>diff_eff</th><th scope=col>Age</th><th scope=col>feederfree</th><th scope=col>min_age</th><th scope=col>max_age</th><th scope=col>avg_age</th><th scope=col>origin_cell</th><th scope=col>reprogramming_method</th><th scope=col>xci</th></tr></thead>\n",
       "<tbody>\n",
       "\t<tr><td>HPSI0114i-eipl_1</td><td>0.188519        </td><td>female          </td><td>HPSI0114i-eipl_1</td><td>pool1           </td><td>25935           </td><td> 334            </td><td>0.01287835      </td><td>40-44           </td><td>n               </td><td>40              </td><td>44              </td><td>42              </td><td>fibroblast      </td><td>sendai          </td><td>0.1-0.2         </td></tr>\n",
       "\t<tr><td>HPSI1113i-podx_1</td><td>0.172699        </td><td>female          </td><td>HPSI1113i-podx_1</td><td>pool1           </td><td> 3651           </td><td>2138            </td><td>0.58559299      </td><td>65-69           </td><td>n               </td><td>65              </td><td>69              </td><td>67              </td><td>fibroblast      </td><td>sendai          </td><td>0.1-0.2         </td></tr>\n",
       "</tbody>\n",
       "</table>\n"
      ],
      "text/latex": [
       "\\begin{tabular}{r|llllllllllllllll}\n",
       " cell\\_line\\_id & mean\\_x\\_chrom\\_ase & Gender & donor\\_id & pool\\_id & total\\_cells & total\\_midbrain\\_cells & diff\\_eff & Age & feederfree & min\\_age & max\\_age & avg\\_age & origin\\_cell & reprogramming\\_method & xci\\\\\n",
       "\\hline\n",
       "\t HPSI0114i-eipl\\_1 & 0.188519           & female             & HPSI0114i-eipl\\_1 & pool1              & 25935              &  334               & 0.01287835         & 40-44              & n                  & 40                 & 44                 & 42                 & fibroblast         & sendai             & 0.1-0.2           \\\\\n",
       "\t HPSI1113i-podx\\_1 & 0.172699           & female             & HPSI1113i-podx\\_1 & pool1              &  3651              & 2138               & 0.58559299         & 65-69              & n                  & 65                 & 69                 & 67                 & fibroblast         & sendai             & 0.1-0.2           \\\\\n",
       "\\end{tabular}\n"
      ],
      "text/markdown": [
       "\n",
       "| cell_line_id | mean_x_chrom_ase | Gender | donor_id | pool_id | total_cells | total_midbrain_cells | diff_eff | Age | feederfree | min_age | max_age | avg_age | origin_cell | reprogramming_method | xci |\n",
       "|---|---|---|---|---|---|---|---|---|---|---|---|---|---|---|---|\n",
       "| HPSI0114i-eipl_1 | 0.188519         | female           | HPSI0114i-eipl_1 | pool1            | 25935            |  334             | 0.01287835       | 40-44            | n                | 40               | 44               | 42               | fibroblast       | sendai           | 0.1-0.2          |\n",
       "| HPSI1113i-podx_1 | 0.172699         | female           | HPSI1113i-podx_1 | pool1            |  3651            | 2138             | 0.58559299       | 65-69            | n                | 65               | 69               | 67               | fibroblast       | sendai           | 0.1-0.2          |\n",
       "\n"
      ],
      "text/plain": [
       "  cell_line_id     mean_x_chrom_ase Gender donor_id         pool_id total_cells\n",
       "1 HPSI0114i-eipl_1 0.188519         female HPSI0114i-eipl_1 pool1   25935      \n",
       "2 HPSI1113i-podx_1 0.172699         female HPSI1113i-podx_1 pool1    3651      \n",
       "  total_midbrain_cells diff_eff   Age   feederfree min_age max_age avg_age\n",
       "1  334                 0.01287835 40-44 n          40      44      42     \n",
       "2 2138                 0.58559299 65-69 n          65      69      67     \n",
       "  origin_cell reprogramming_method xci    \n",
       "1 fibroblast  sendai               0.1-0.2\n",
       "2 fibroblast  sendai               0.1-0.2"
      ]
     },
     "metadata": {},
     "output_type": "display_data"
    }
   ],
   "source": [
    "df3$xci[df3$mean_x_chrom_ase > 0 & df3$mean_x_chrom_ase < 0.1] = '0-0.1'\n",
    "df3$xci[df3$mean_x_chrom_ase > 0.1 & df3$mean_x_chrom_ase < 0.2] = '0.1-0.2'\n",
    "df3$xci[df3$mean_x_chrom_ase > 0.2 & df3$mean_x_chrom_ase < 0.3] = '0.2-0.3'\n",
    "df3$xci[df3$mean_x_chrom_ase > 0.3 & df3$mean_x_chrom_ase < 0.4] = '0.3-0.4'\n",
    "df3$xci[df3$mean_x_chrom_ase > 0.4 & df3$mean_x_chrom_ase < 0.5] = '0.4-0.5'\n",
    "head(df3,2)"
   ]
  },
  {
   "cell_type": "code",
   "execution_count": 113,
   "metadata": {},
   "outputs": [],
   "source": [
    "lmm3 <- lmer(diff_eff ~ (1 | donor_id) + (1 | pool_id) + (1 | xci) + (1 | Age), data = df3, REML = F)"
   ]
  },
  {
   "cell_type": "code",
   "execution_count": 114,
   "metadata": {},
   "outputs": [
    {
     "data": {
      "text/plain": [
       "Linear mixed model fit by maximum likelihood  ['lmerMod']\n",
       "Formula: diff_eff ~ (1 | donor_id) + (1 | pool_id) + (1 | xci) + (1 |      Age)\n",
       "   Data: df3\n",
       "\n",
       "     AIC      BIC   logLik deviance df.resid \n",
       "    28.7     45.2     -8.3     16.7      109 \n",
       "\n",
       "Scaled residuals: \n",
       "    Min      1Q  Median      3Q     Max \n",
       "-1.8784 -0.3439  0.0819  0.3385  1.7213 \n",
       "\n",
       "Random effects:\n",
       " Groups   Name        Variance Std.Dev.\n",
       " donor_id (Intercept) 0.058460 0.24179 \n",
       " pool_id  (Intercept) 0.006777 0.08232 \n",
       " Age      (Intercept) 0.002452 0.04952 \n",
       " xci      (Intercept) 0.003419 0.05847 \n",
       " Residual             0.012070 0.10987 \n",
       "Number of obs: 115, groups:  donor_id, 97; pool_id, 16; Age, 12; xci, 4\n",
       "\n",
       "Fixed effects:\n",
       "            Estimate Std. Error t value\n",
       "(Intercept)  0.53509    0.05001    10.7"
      ]
     },
     "metadata": {},
     "output_type": "display_data"
    }
   ],
   "source": [
    "summary(lmm3)"
   ]
  },
  {
   "cell_type": "code",
   "execution_count": 115,
   "metadata": {},
   "outputs": [],
   "source": [
    "donor = summary(lmm3)$varcor$donor_id[1,1]\n",
    "pool = summary(lmm3)$varcor$pool_id[1,1]\n",
    "xci = summary(lmm3)$varcor$xci[1,1]\n",
    "sex = summary(lmm3)$varcor$Gender[1,1]\n",
    "age = summary(lmm3)$varcor$Age[1,1]\n",
    "residual = summary(lmm3)$sigma **2\n",
    "#\n",
    "sum = donor+pool+xci+age+residual"
   ]
  },
  {
   "cell_type": "code",
   "execution_count": 122,
   "metadata": {},
   "outputs": [
    {
     "data": {
      "image/png": "[encoded data removed]",
      "text/plain": [
       "plot without title"
      ]
     },
     "metadata": {},
     "output_type": "display_data"
    }
   ],
   "source": [
    "options(repr.plot.width = 5, repr.plot.height = 3.5)\n",
    "df_plot = data.frame(component = c(\"Donor/line\",\"Pool\",\"Line XCI\",\"Donor Age\",\"Residuals\"),\n",
    "               variance = c(donor/sum, pool/sum, xci/sum, age/sum, residual/sum))\n",
    "p = ggplot(df_plot, aes(x = component, y = variance*100, fill = component)) + geom_bar(stat=\"identity\", alpha = 0.8)\n",
    "p = p + xlab(\"\") + ylab(\"% variance explained\") + theme_bw() \n",
    "p = p + theme(axis.text.x = element_text(angle = 45, hjust = 1, size = 10))\n",
    "p + scale_fill_manual(values = c(\"darkmagenta\",\"turquoise4\",\"palegreen3\",\"goldenrod4\",\"firebrick\"))"
   ]
  },
  {
   "cell_type": "code",
   "execution_count": 60,
   "metadata": {},
   "outputs": [
    {
     "data": {
      "text/plain": [
       "\n",
       "\tPearson's product-moment correlation\n",
       "\n",
       "data:  df3$diff_eff and df3$mean_x_chrom_ase\n",
       "t = 3.4516, df = 113, p-value = 0.0007847\n",
       "alternative hypothesis: true correlation is not equal to 0\n",
       "95 percent confidence interval:\n",
       " 0.1332540 0.4656093\n",
       "sample estimates:\n",
       "     cor \n",
       "0.308829 \n"
      ]
     },
     "metadata": {},
     "output_type": "display_data"
    }
   ],
   "source": [
    "cor.test(df3$diff_eff, df3$mean_x_chrom_ase)"
   ]
  },
  {
   "cell_type": "code",
   "execution_count": null,
   "metadata": {},
   "outputs": [],
   "source": []
  }
 ],
 "metadata": {
  "kernelspec": {
   "display_name": "R",
   "language": "R",
   "name": "ir"
  },
  "language_info": {
   "codemirror_mode": "r",
   "file_extension": ".r",
   "mimetype": "text/x-r-source",
   "name": "R",
   "pygments_lexer": "r",
   "version": "3.6.1"
  }
 },
 "nbformat": 4,
 "nbformat_minor": 4
}
