{
 "cells": [
  {
   "cell_type": "code",
   "execution_count": 17,
   "metadata": {},
   "outputs": [],
   "source": [
    "library(dplyr)\n",
    "library(ggplot2)"
   ]
  },
  {
   "cell_type": "code",
   "execution_count": 5,
   "metadata": {},
   "outputs": [
    {
     "data": {
      "text/html": [
       "<table>\n",
       "<thead><tr><th scope=col>donor_id</th><th scope=col>pool_id</th><th scope=col>time_point</th><th scope=col>celltype</th><th scope=col>n_cells</th><th scope=col>treatment</th></tr></thead>\n",
       "<tbody>\n",
       "\t<tr><td>HPSI0114i-eipl_1</td><td>pool1           </td><td>D11             </td><td>FPP             </td><td>1672            </td><td>NONE            </td></tr>\n",
       "\t<tr><td>HPSI0114i-eipl_1</td><td>pool1           </td><td>D11             </td><td>NB              </td><td> 228            </td><td>NONE            </td></tr>\n",
       "\t<tr><td>HPSI0114i-eipl_1</td><td>pool1           </td><td>D11             </td><td>P_FPP           </td><td>1217            </td><td>NONE            </td></tr>\n",
       "\t<tr><td>HPSI0114i-kolf_2</td><td>pool12          </td><td>D11             </td><td>FPP             </td><td> 334            </td><td>NONE            </td></tr>\n",
       "\t<tr><td>HPSI0114i-kolf_2</td><td>pool12          </td><td>D11             </td><td>NB              </td><td>  16            </td><td>NONE            </td></tr>\n",
       "\t<tr><td>HPSI0114i-kolf_2</td><td>pool12          </td><td>D11             </td><td>P_FPP           </td><td> 190            </td><td>NONE            </td></tr>\n",
       "</tbody>\n",
       "</table>\n"
      ],
      "text/latex": [
       "\\begin{tabular}{r|llllll}\n",
       " donor\\_id & pool\\_id & time\\_point & celltype & n\\_cells & treatment\\\\\n",
       "\\hline\n",
       "\t HPSI0114i-eipl\\_1 & pool1              & D11                & FPP                & 1672               & NONE              \\\\\n",
       "\t HPSI0114i-eipl\\_1 & pool1              & D11                & NB                 &  228               & NONE              \\\\\n",
       "\t HPSI0114i-eipl\\_1 & pool1              & D11                & P\\_FPP            & 1217               & NONE              \\\\\n",
       "\t HPSI0114i-kolf\\_2 & pool12             & D11                & FPP                &  334               & NONE              \\\\\n",
       "\t HPSI0114i-kolf\\_2 & pool12             & D11                & NB                 &   16               & NONE              \\\\\n",
       "\t HPSI0114i-kolf\\_2 & pool12             & D11                & P\\_FPP            &  190               & NONE              \\\\\n",
       "\\end{tabular}\n"
      ],
      "text/markdown": [
       "\n",
       "| donor_id | pool_id | time_point | celltype | n_cells | treatment |\n",
       "|---|---|---|---|---|---|\n",
       "| HPSI0114i-eipl_1 | pool1            | D11              | FPP              | 1672             | NONE             |\n",
       "| HPSI0114i-eipl_1 | pool1            | D11              | NB               |  228             | NONE             |\n",
       "| HPSI0114i-eipl_1 | pool1            | D11              | P_FPP            | 1217             | NONE             |\n",
       "| HPSI0114i-kolf_2 | pool12           | D11              | FPP              |  334             | NONE             |\n",
       "| HPSI0114i-kolf_2 | pool12           | D11              | NB               |   16             | NONE             |\n",
       "| HPSI0114i-kolf_2 | pool12           | D11              | P_FPP            |  190             | NONE             |\n",
       "\n"
      ],
      "text/plain": [
       "  donor_id         pool_id time_point celltype n_cells treatment\n",
       "1 HPSI0114i-eipl_1 pool1   D11        FPP      1672    NONE     \n",
       "2 HPSI0114i-eipl_1 pool1   D11        NB        228    NONE     \n",
       "3 HPSI0114i-eipl_1 pool1   D11        P_FPP    1217    NONE     \n",
       "4 HPSI0114i-kolf_2 pool12  D11        FPP       334    NONE     \n",
       "5 HPSI0114i-kolf_2 pool12  D11        NB         16    NONE     \n",
       "6 HPSI0114i-kolf_2 pool12  D11        P_FPP     190    NONE     "
      ]
     },
     "metadata": {},
     "output_type": "display_data"
    }
   ],
   "source": [
    "supp_tables_dir = \"/hps/nobackup/stegle/users/acuomo/all_scripts/sc_neuroseq/neuroseq_ms/supp_tables/\"\n",
    "filename = paste0(supp_tables_dir,\"SuppTable2_ncells_per_donor_pool_celltype_condition.csv\")\n",
    "df = read.csv(filename)\n",
    "head(df)"
   ]
  },
  {
   "cell_type": "code",
   "execution_count": 6,
   "metadata": {},
   "outputs": [],
   "source": [
    "df_nb = df[df$celltype == \"NB\",] %>% group_by(donor_id, pool_id) %>% summarize(nb_cells = sum(n_cells))\n",
    "df_tot = df %>% group_by(donor_id, pool_id) %>% summarize(total_cells = sum(n_cells))"
   ]
  },
  {
   "cell_type": "code",
   "execution_count": 9,
   "metadata": {},
   "outputs": [
    {
     "data": {
      "text/html": [
       "169"
      ],
      "text/latex": [
       "169"
      ],
      "text/markdown": [
       "169"
      ],
      "text/plain": [
       "[1] 169"
      ]
     },
     "metadata": {},
     "output_type": "display_data"
    },
    {
     "data": {
      "text/html": [
       "<table>\n",
       "<thead><tr><th scope=col>donor_id</th><th scope=col>pool_id</th><th scope=col>nb_cells</th></tr></thead>\n",
       "<tbody>\n",
       "\t<tr><td>HPSI0114i-eipl_1</td><td>pool1           </td><td>228             </td></tr>\n",
       "\t<tr><td>HPSI0114i-kolf_2</td><td>pool12          </td><td> 16             </td></tr>\n",
       "</tbody>\n",
       "</table>\n"
      ],
      "text/latex": [
       "\\begin{tabular}{r|lll}\n",
       " donor\\_id & pool\\_id & nb\\_cells\\\\\n",
       "\\hline\n",
       "\t HPSI0114i-eipl\\_1 & pool1              & 228               \\\\\n",
       "\t HPSI0114i-kolf\\_2 & pool12             &  16               \\\\\n",
       "\\end{tabular}\n"
      ],
      "text/markdown": [
       "\n",
       "| donor_id | pool_id | nb_cells |\n",
       "|---|---|---|\n",
       "| HPSI0114i-eipl_1 | pool1            | 228              |\n",
       "| HPSI0114i-kolf_2 | pool12           |  16              |\n",
       "\n"
      ],
      "text/plain": [
       "  donor_id         pool_id nb_cells\n",
       "1 HPSI0114i-eipl_1 pool1   228     \n",
       "2 HPSI0114i-kolf_2 pool12   16     "
      ]
     },
     "metadata": {},
     "output_type": "display_data"
    },
    {
     "data": {
      "text/html": [
       "252"
      ],
      "text/latex": [
       "252"
      ],
      "text/markdown": [
       "252"
      ],
      "text/plain": [
       "[1] 252"
      ]
     },
     "metadata": {},
     "output_type": "display_data"
    },
    {
     "data": {
      "text/html": [
       "<table>\n",
       "<thead><tr><th scope=col>donor_id</th><th scope=col>pool_id</th><th scope=col>total_cells</th></tr></thead>\n",
       "<tbody>\n",
       "\t<tr><td>HPSI0114i-bezi_3</td><td>pool10          </td><td>  681           </td></tr>\n",
       "\t<tr><td>HPSI0114i-eipl_1</td><td>pool1           </td><td>31643           </td></tr>\n",
       "</tbody>\n",
       "</table>\n"
      ],
      "text/latex": [
       "\\begin{tabular}{r|lll}\n",
       " donor\\_id & pool\\_id & total\\_cells\\\\\n",
       "\\hline\n",
       "\t HPSI0114i-bezi\\_3 & pool10             &   681             \\\\\n",
       "\t HPSI0114i-eipl\\_1 & pool1              & 31643             \\\\\n",
       "\\end{tabular}\n"
      ],
      "text/markdown": [
       "\n",
       "| donor_id | pool_id | total_cells |\n",
       "|---|---|---|\n",
       "| HPSI0114i-bezi_3 | pool10           |   681            |\n",
       "| HPSI0114i-eipl_1 | pool1            | 31643            |\n",
       "\n"
      ],
      "text/plain": [
       "  donor_id         pool_id total_cells\n",
       "1 HPSI0114i-bezi_3 pool10    681      \n",
       "2 HPSI0114i-eipl_1 pool1   31643      "
      ]
     },
     "metadata": {},
     "output_type": "display_data"
    }
   ],
   "source": [
    "nrow(df_nb)\n",
    "head(df_nb,2)\n",
    "nrow(df_tot)\n",
    "head(df_tot,2)"
   ]
  },
  {
   "cell_type": "code",
   "execution_count": 11,
   "metadata": {},
   "outputs": [
    {
     "name": "stderr",
     "output_type": "stream",
     "text": [
      "Joining, by = c(\"donor_id\", \"pool_id\")\n"
     ]
    },
    {
     "data": {
      "text/html": [
       "169"
      ],
      "text/latex": [
       "169"
      ],
      "text/markdown": [
       "169"
      ],
      "text/plain": [
       "[1] 169"
      ]
     },
     "metadata": {},
     "output_type": "display_data"
    },
    {
     "data": {
      "text/html": [
       "<table>\n",
       "<thead><tr><th scope=col>donor_id</th><th scope=col>pool_id</th><th scope=col>nb_cells</th><th scope=col>total_cells</th><th scope=col>nb_fraction</th></tr></thead>\n",
       "<tbody>\n",
       "\t<tr><td>HPSI0114i-eipl_1</td><td>pool1           </td><td>228             </td><td>31643           </td><td>0.007205385     </td></tr>\n",
       "\t<tr><td>HPSI0114i-kolf_2</td><td>pool12          </td><td> 16             </td><td>  795           </td><td>0.020125786     </td></tr>\n",
       "</tbody>\n",
       "</table>\n"
      ],
      "text/latex": [
       "\\begin{tabular}{r|lllll}\n",
       " donor\\_id & pool\\_id & nb\\_cells & total\\_cells & nb\\_fraction\\\\\n",
       "\\hline\n",
       "\t HPSI0114i-eipl\\_1 & pool1              & 228                & 31643              & 0.007205385       \\\\\n",
       "\t HPSI0114i-kolf\\_2 & pool12             &  16                &   795              & 0.020125786       \\\\\n",
       "\\end{tabular}\n"
      ],
      "text/markdown": [
       "\n",
       "| donor_id | pool_id | nb_cells | total_cells | nb_fraction |\n",
       "|---|---|---|---|---|\n",
       "| HPSI0114i-eipl_1 | pool1            | 228              | 31643            | 0.007205385      |\n",
       "| HPSI0114i-kolf_2 | pool12           |  16              |   795            | 0.020125786      |\n",
       "\n"
      ],
      "text/plain": [
       "  donor_id         pool_id nb_cells total_cells nb_fraction\n",
       "1 HPSI0114i-eipl_1 pool1   228      31643       0.007205385\n",
       "2 HPSI0114i-kolf_2 pool12   16        795       0.020125786"
      ]
     },
     "metadata": {},
     "output_type": "display_data"
    }
   ],
   "source": [
    "df_fractions = inner_join(df_nb, df_tot)\n",
    "df_fractions$nb_fraction = df_fractions$nb_cells/df_fractions$total_cells\n",
    "nrow(df_fractions)\n",
    "head(df_fractions,2)"
   ]
  },
  {
   "cell_type": "code",
   "execution_count": 15,
   "metadata": {},
   "outputs": [
    {
     "data": {
      "text/html": [
       "<table>\n",
       "<thead><tr><th></th><th scope=col>donor_long_id</th><th scope=col>experiment</th><th scope=col>cluster_id</th><th scope=col>count</th><th scope=col>f_cells</th></tr></thead>\n",
       "<tbody>\n",
       "\t<tr><th scope=row>92</th><td>HPSI0114i-bezi_1</td><td>expt_39         </td><td>2               </td><td> 0              </td><td>0.00000000      </td></tr>\n",
       "\t<tr><th scope=row>222</th><td>HPSI0114i-eipl_1</td><td>expt_41         </td><td>2               </td><td>81              </td><td>0.81818182      </td></tr>\n",
       "\t<tr><th scope=row>267</th><td>HPSI0114i-iisa_1</td><td>expt_24         </td><td>2               </td><td> 1              </td><td>0.02564103      </td></tr>\n",
       "\t<tr><th scope=row>452</th><td>HPSI0114i-iisa_3</td><td>expt_39         </td><td>2               </td><td> 2              </td><td>0.05263158      </td></tr>\n",
       "\t<tr><th scope=row>572</th><td>HPSI0114i-joxm_1</td><td>expt_39         </td><td>2               </td><td>23              </td><td>0.06005222      </td></tr>\n",
       "\t<tr><th scope=row>682</th><td>HPSI0114i-kolf_2</td><td>expt_37         </td><td>2               </td><td>50              </td><td>0.68493151      </td></tr>\n",
       "</tbody>\n",
       "</table>\n"
      ],
      "text/latex": [
       "\\begin{tabular}{r|lllll}\n",
       "  & donor\\_long\\_id & experiment & cluster\\_id & count & f\\_cells\\\\\n",
       "\\hline\n",
       "\t92 & HPSI0114i-bezi\\_1 & expt\\_39          & 2                  &  0                 & 0.00000000        \\\\\n",
       "\t222 & HPSI0114i-eipl\\_1 & expt\\_41          & 2                  & 81                 & 0.81818182        \\\\\n",
       "\t267 & HPSI0114i-iisa\\_1 & expt\\_24          & 2                  &  1                 & 0.02564103        \\\\\n",
       "\t452 & HPSI0114i-iisa\\_3 & expt\\_39          & 2                  &  2                 & 0.05263158        \\\\\n",
       "\t572 & HPSI0114i-joxm\\_1 & expt\\_39          & 2                  & 23                 & 0.06005222        \\\\\n",
       "\t682 & HPSI0114i-kolf\\_2 & expt\\_37          & 2                  & 50                 & 0.68493151        \\\\\n",
       "\\end{tabular}\n"
      ],
      "text/markdown": [
       "\n",
       "| <!--/--> | donor_long_id | experiment | cluster_id | count | f_cells |\n",
       "|---|---|---|---|---|---|\n",
       "| 92 | HPSI0114i-bezi_1 | expt_39          | 2                |  0               | 0.00000000       |\n",
       "| 222 | HPSI0114i-eipl_1 | expt_41          | 2                | 81               | 0.81818182       |\n",
       "| 267 | HPSI0114i-iisa_1 | expt_24          | 2                |  1               | 0.02564103       |\n",
       "| 452 | HPSI0114i-iisa_3 | expt_39          | 2                |  2               | 0.05263158       |\n",
       "| 572 | HPSI0114i-joxm_1 | expt_39          | 2                | 23               | 0.06005222       |\n",
       "| 682 | HPSI0114i-kolf_2 | expt_37          | 2                | 50               | 0.68493151       |\n",
       "\n"
      ],
      "text/plain": [
       "    donor_long_id    experiment cluster_id count f_cells   \n",
       "92  HPSI0114i-bezi_1 expt_39    2           0    0.00000000\n",
       "222 HPSI0114i-eipl_1 expt_41    2          81    0.81818182\n",
       "267 HPSI0114i-iisa_1 expt_24    2           1    0.02564103\n",
       "452 HPSI0114i-iisa_3 expt_39    2           2    0.05263158\n",
       "572 HPSI0114i-joxm_1 expt_39    2          23    0.06005222\n",
       "682 HPSI0114i-kolf_2 expt_37    2          50    0.68493151"
      ]
     },
     "metadata": {},
     "output_type": "display_data"
    }
   ],
   "source": [
    "mydir = \"/hps/nobackup/stegle/users/acuomo/all_scripts/sc_neuroseq/iPSC_scanpy/\"\n",
    "filename = paste0(mydir,'Cuomo_cluster_cell_fractions_by_donor_experiment.csv')\n",
    "df_ipsc = read.csv(filename, row.names = 1)\n",
    "df_ipsc = df_ipsc[df_ipsc$cluster_id == '2',]\n",
    "head(df_ipsc)"
   ]
  },
  {
   "cell_type": "code",
   "execution_count": 16,
   "metadata": {},
   "outputs": [
    {
     "name": "stderr",
     "output_type": "stream",
     "text": [
      "Joining, by = \"donor_id\"\n",
      "Warning message:\n",
      "“Column `donor_id` joining factors with different levels, coercing to character vector”"
     ]
    },
    {
     "data": {
      "text/html": [
       "50"
      ],
      "text/latex": [
       "50"
      ],
      "text/markdown": [
       "50"
      ],
      "text/plain": [
       "[1] 50"
      ]
     },
     "metadata": {},
     "output_type": "display_data"
    },
    {
     "data": {
      "text/html": [
       "<table>\n",
       "<thead><tr><th scope=col>donor_id</th><th scope=col>pool_id</th><th scope=col>nb_cells</th><th scope=col>total_cells</th><th scope=col>nb_fraction</th><th scope=col>donor_long_id</th><th scope=col>experiment</th><th scope=col>cluster_id</th><th scope=col>count</th><th scope=col>f_cells</th></tr></thead>\n",
       "<tbody>\n",
       "\t<tr><td>HPSI0114i-eipl_1</td><td>pool1           </td><td>228             </td><td>31643           </td><td>0.0072053851    </td><td>HPSI0114i-eipl_1</td><td>expt_41         </td><td>2               </td><td>81              </td><td>0.81818182      </td></tr>\n",
       "\t<tr><td>HPSI0114i-kolf_2</td><td>pool12          </td><td> 16             </td><td>  795           </td><td>0.0201257862    </td><td>HPSI0114i-kolf_2</td><td>expt_37         </td><td>2               </td><td>50              </td><td>0.68493151      </td></tr>\n",
       "\t<tr><td>HPSI0114i-wegi_1</td><td>pool7           </td><td>  1             </td><td> 1353           </td><td>0.0007390983    </td><td>HPSI0114i-wegi_1</td><td>expt_37         </td><td>2               </td><td> 1              </td><td>0.02777778      </td></tr>\n",
       "\t<tr><td>HPSI0214i-datg_2</td><td>pool9           </td><td>  1             </td><td> 8957           </td><td>0.0001116445    </td><td>HPSI0214i-datg_2</td><td>expt_33         </td><td>2               </td><td> 0              </td><td>0.00000000      </td></tr>\n",
       "\t<tr><td>HPSI0214i-datg_2</td><td>pool9           </td><td>  1             </td><td> 8957           </td><td>0.0001116445    </td><td>HPSI0214i-datg_2</td><td>expt_34         </td><td>2               </td><td> 0              </td><td>0.00000000      </td></tr>\n",
       "\t<tr><td>HPSI0214i-eiwy_1</td><td>pool1           </td><td>  4             </td><td> 2505           </td><td>0.0015968064    </td><td>HPSI0214i-eiwy_1</td><td>expt_36         </td><td>2               </td><td> 1              </td><td>0.04000000      </td></tr>\n",
       "</tbody>\n",
       "</table>\n"
      ],
      "text/latex": [
       "\\begin{tabular}{r|llllllllll}\n",
       " donor\\_id & pool\\_id & nb\\_cells & total\\_cells & nb\\_fraction & donor\\_long\\_id & experiment & cluster\\_id & count & f\\_cells\\\\\n",
       "\\hline\n",
       "\t HPSI0114i-eipl\\_1 & pool1              & 228                & 31643              & 0.0072053851       & HPSI0114i-eipl\\_1 & expt\\_41          & 2                  & 81                 & 0.81818182        \\\\\n",
       "\t HPSI0114i-kolf\\_2 & pool12             &  16                &   795              & 0.0201257862       & HPSI0114i-kolf\\_2 & expt\\_37          & 2                  & 50                 & 0.68493151        \\\\\n",
       "\t HPSI0114i-wegi\\_1 & pool7              &   1                &  1353              & 0.0007390983       & HPSI0114i-wegi\\_1 & expt\\_37          & 2                  &  1                 & 0.02777778        \\\\\n",
       "\t HPSI0214i-datg\\_2 & pool9              &   1                &  8957              & 0.0001116445       & HPSI0214i-datg\\_2 & expt\\_33          & 2                  &  0                 & 0.00000000        \\\\\n",
       "\t HPSI0214i-datg\\_2 & pool9              &   1                &  8957              & 0.0001116445       & HPSI0214i-datg\\_2 & expt\\_34          & 2                  &  0                 & 0.00000000        \\\\\n",
       "\t HPSI0214i-eiwy\\_1 & pool1              &   4                &  2505              & 0.0015968064       & HPSI0214i-eiwy\\_1 & expt\\_36          & 2                  &  1                 & 0.04000000        \\\\\n",
       "\\end{tabular}\n"
      ],
      "text/markdown": [
       "\n",
       "| donor_id | pool_id | nb_cells | total_cells | nb_fraction | donor_long_id | experiment | cluster_id | count | f_cells |\n",
       "|---|---|---|---|---|---|---|---|---|---|\n",
       "| HPSI0114i-eipl_1 | pool1            | 228              | 31643            | 0.0072053851     | HPSI0114i-eipl_1 | expt_41          | 2                | 81               | 0.81818182       |\n",
       "| HPSI0114i-kolf_2 | pool12           |  16              |   795            | 0.0201257862     | HPSI0114i-kolf_2 | expt_37          | 2                | 50               | 0.68493151       |\n",
       "| HPSI0114i-wegi_1 | pool7            |   1              |  1353            | 0.0007390983     | HPSI0114i-wegi_1 | expt_37          | 2                |  1               | 0.02777778       |\n",
       "| HPSI0214i-datg_2 | pool9            |   1              |  8957            | 0.0001116445     | HPSI0214i-datg_2 | expt_33          | 2                |  0               | 0.00000000       |\n",
       "| HPSI0214i-datg_2 | pool9            |   1              |  8957            | 0.0001116445     | HPSI0214i-datg_2 | expt_34          | 2                |  0               | 0.00000000       |\n",
       "| HPSI0214i-eiwy_1 | pool1            |   4              |  2505            | 0.0015968064     | HPSI0214i-eiwy_1 | expt_36          | 2                |  1               | 0.04000000       |\n",
       "\n"
      ],
      "text/plain": [
       "  donor_id         pool_id nb_cells total_cells nb_fraction  donor_long_id   \n",
       "1 HPSI0114i-eipl_1 pool1   228      31643       0.0072053851 HPSI0114i-eipl_1\n",
       "2 HPSI0114i-kolf_2 pool12   16        795       0.0201257862 HPSI0114i-kolf_2\n",
       "3 HPSI0114i-wegi_1 pool7     1       1353       0.0007390983 HPSI0114i-wegi_1\n",
       "4 HPSI0214i-datg_2 pool9     1       8957       0.0001116445 HPSI0214i-datg_2\n",
       "5 HPSI0214i-datg_2 pool9     1       8957       0.0001116445 HPSI0214i-datg_2\n",
       "6 HPSI0214i-eiwy_1 pool1     4       2505       0.0015968064 HPSI0214i-eiwy_1\n",
       "  experiment cluster_id count f_cells   \n",
       "1 expt_41    2          81    0.81818182\n",
       "2 expt_37    2          50    0.68493151\n",
       "3 expt_37    2           1    0.02777778\n",
       "4 expt_33    2           0    0.00000000\n",
       "5 expt_34    2           0    0.00000000\n",
       "6 expt_36    2           1    0.04000000"
      ]
     },
     "metadata": {},
     "output_type": "display_data"
    }
   ],
   "source": [
    "df_ipsc$donor_id = df_ipsc$donor_long_id\n",
    "df_to_plot = inner_join(df_fractions, df_ipsc)\n",
    "nrow(df_to_plot)\n",
    "head(df_to_plot)"
   ]
  },
  {
   "cell_type": "code",
   "execution_count": 20,
   "metadata": {},
   "outputs": [
    {
     "data": {
      "text/plain": [
       "\n",
       "\tPearson's product-moment correlation\n",
       "\n",
       "data:  df_to_plot$f_cells and df_to_plot$nb_fraction\n",
       "t = 3.5261, df = 48, p-value = 0.0009389\n",
       "alternative hypothesis: true correlation is not equal to 0\n",
       "95 percent confidence interval:\n",
       " 0.2005614 0.6498839\n",
       "sample estimates:\n",
       "      cor \n",
       "0.4535873 \n"
      ]
     },
     "metadata": {},
     "output_type": "display_data"
    }
   ],
   "source": [
    "cor.test(df_to_plot$f_cells, df_to_plot$nb_fraction)"
   ]
  },
  {
   "cell_type": "code",
   "execution_count": 24,
   "metadata": {},
   "outputs": [
    {
     "data": {
      "image/png": "[encoded data removed]",
      "text/plain": [
       "plot without title"
      ]
     },
     "metadata": {},
     "output_type": "display_data"
    }
   ],
   "source": [
    "options(repr.plot.width=4, repr.plot.height=4)\n",
    "ggplot(df_to_plot, aes(x = f_cells, y = nb_fraction)) + \n",
    "    geom_point(size = 2, alpha = 0.8) + theme_bw() +\n",
    "    xlab(\"Fraction of cluster 2 cells\") + ylab(\"Fraction of neuroblasts at day 11\")"
   ]
  },
  {
   "cell_type": "code",
   "execution_count": null,
   "metadata": {},
   "outputs": [],
   "source": []
  }
 ],
 "metadata": {
  "kernelspec": {
   "display_name": "R",
   "language": "R",
   "name": "ir"
  },
  "language_info": {
   "codemirror_mode": "r",
   "file_extension": ".r",
   "mimetype": "text/x-r-source",
   "name": "R",
   "pygments_lexer": "r",
   "version": "3.6.1"
  }
 },
 "nbformat": 4,
 "nbformat_minor": 4
}
