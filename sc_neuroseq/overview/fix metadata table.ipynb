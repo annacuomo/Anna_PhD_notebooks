{
 "cells": [
  {
   "cell_type": "code",
   "execution_count": 8,
   "metadata": {},
   "outputs": [
    {
     "data": {
      "text/html": [
       "<table>\n",
       "<thead><tr><th scope=col>Public.name</th><th scope=col>Donor</th><th scope=col>Gender</th><th scope=col>Age</th><th scope=col>feederfree</th></tr></thead>\n",
       "<tbody>\n",
       "\t<tr><td>HPSI0813er-fpdk </td><td>fpdk            </td><td>male            </td><td>40-44           </td><td>                </td></tr>\n",
       "\t<tr><td>HPSI0813i-fpdk_1</td><td>fpdk            </td><td>male            </td><td>40-44           </td><td>n               </td></tr>\n",
       "\t<tr><td>HPSI0813i-fpdk_2</td><td>fpdk            </td><td>male            </td><td>40-44           </td><td>n               </td></tr>\n",
       "\t<tr><td>HPSI0813i-fpdk_3</td><td>fpdk            </td><td>male            </td><td>40-44           </td><td>n               </td></tr>\n",
       "\t<tr><td>HPSI0813er-fpdr </td><td>fpdr            </td><td>male            </td><td>45-49           </td><td>                </td></tr>\n",
       "\t<tr><td>HPSI0813i-fpdr_1</td><td>fpdr            </td><td>male            </td><td>45-49           </td><td>n               </td></tr>\n",
       "</tbody>\n",
       "</table>\n"
      ],
      "text/latex": [
       "\\begin{tabular}{r|lllll}\n",
       " Public.name & Donor & Gender & Age & feederfree\\\\\n",
       "\\hline\n",
       "\t HPSI0813er-fpdk  & fpdk             & male             & 40-44            &                 \\\\\n",
       "\t HPSI0813i-fpdk\\_1 & fpdk               & male               & 40-44              & n                 \\\\\n",
       "\t HPSI0813i-fpdk\\_2 & fpdk               & male               & 40-44              & n                 \\\\\n",
       "\t HPSI0813i-fpdk\\_3 & fpdk               & male               & 40-44              & n                 \\\\\n",
       "\t HPSI0813er-fpdr  & fpdr             & male             & 45-49            &                 \\\\\n",
       "\t HPSI0813i-fpdr\\_1 & fpdr               & male               & 45-49              & n                 \\\\\n",
       "\\end{tabular}\n"
      ],
      "text/markdown": [
       "\n",
       "| Public.name | Donor | Gender | Age | feederfree |\n",
       "|---|---|---|---|---|\n",
       "| HPSI0813er-fpdk  | fpdk             | male             | 40-44            |                  |\n",
       "| HPSI0813i-fpdk_1 | fpdk             | male             | 40-44            | n                |\n",
       "| HPSI0813i-fpdk_2 | fpdk             | male             | 40-44            | n                |\n",
       "| HPSI0813i-fpdk_3 | fpdk             | male             | 40-44            | n                |\n",
       "| HPSI0813er-fpdr  | fpdr             | male             | 45-49            |                  |\n",
       "| HPSI0813i-fpdr_1 | fpdr             | male             | 45-49            | n                |\n",
       "\n"
      ],
      "text/plain": [
       "  Public.name      Donor Gender Age   feederfree\n",
       "1 HPSI0813er-fpdk  fpdk  male   40-44           \n",
       "2 HPSI0813i-fpdk_1 fpdk  male   40-44 n         \n",
       "3 HPSI0813i-fpdk_2 fpdk  male   40-44 n         \n",
       "4 HPSI0813i-fpdk_3 fpdk  male   40-44 n         \n",
       "5 HPSI0813er-fpdr  fpdr  male   45-49           \n",
       "6 HPSI0813i-fpdr_1 fpdr  male   45-49 n         "
      ]
     },
     "metadata": {},
     "output_type": "display_data"
    }
   ],
   "source": [
    "metadata_df = read.csv('/nfs/leia/research/stegle/dseaton/hipsci/singlecell_neuroseq/data/metadata/All_samples_list_CGaP_170628_overview_processed.txt',sep='\\t')\n",
    "head(metadata_df)"
   ]
  },
  {
   "cell_type": "code",
   "execution_count": 17,
   "metadata": {},
   "outputs": [
    {
     "data": {
      "text/html": [
       "177"
      ],
      "text/latex": [
       "177"
      ],
      "text/markdown": [
       "177"
      ],
      "text/plain": [
       "[1] 177"
      ]
     },
     "metadata": {},
     "output_type": "display_data"
    }
   ],
   "source": [
    "# Day 11\n",
    "mydir = \"/nfs/leia/research/stegle/dseaton/hipsci/singlecell_neuroseq/data/data_processed/pool1_13_noddd_D11/\"\n",
    "mysuffix = \"pool1_13_noddd_D11.scanpy.w_metadata.w_celltype.scanpy.obs_df.groupedby.donor_id-pool_id-time_point.celltype_counts.tsv\"\n",
    "myfilename = paste0(mydir,mysuffix)\n",
    "myfile = read.table(myfilename, header = T)\n",
    "donors_d11 = as.character(unique(myfile$donor_id))\n",
    "length(donors_d11)"
   ]
  },
  {
   "cell_type": "code",
   "execution_count": 18,
   "metadata": {},
   "outputs": [
    {
     "data": {
      "text/html": [
       "175"
      ],
      "text/latex": [
       "175"
      ],
      "text/markdown": [
       "175"
      ],
      "text/plain": [
       "[1] 175"
      ]
     },
     "metadata": {},
     "output_type": "display_data"
    }
   ],
   "source": [
    "# Day 30\n",
    "mydir = \"/nfs/leia/research/stegle/dseaton/hipsci/singlecell_neuroseq/data/data_processed/pool1_13_noddd_D30/\"\n",
    "mysuffix = \"pool1_13_noddd_D30.scanpy.w_metadata.w_celltype.scanpy.obs_df.groupedby.donor_id-pool_id-time_point.celltype_counts.tsv\"\n",
    "myfilename = paste0(mydir,mysuffix)\n",
    "myfile = read.table(myfilename, header = T)\n",
    "donors_d30 = as.character(unique(myfile$donor_id))\n",
    "length(donors_d30)"
   ]
  },
  {
   "cell_type": "code",
   "execution_count": 19,
   "metadata": {},
   "outputs": [
    {
     "data": {
      "text/html": [
       "199"
      ],
      "text/latex": [
       "199"
      ],
      "text/markdown": [
       "199"
      ],
      "text/plain": [
       "[1] 199"
      ]
     },
     "metadata": {},
     "output_type": "display_data"
    }
   ],
   "source": [
    "# Day 52\n",
    "mydir = \"/nfs/leia/research/stegle/dseaton/hipsci/singlecell_neuroseq/data/data_processed/pool1_17_D52/\"\n",
    "mysuffix = \"pool1_17_D52.scanpy.w_metadata.w_celltype.scanpy.obs_df.groupedby.donor_id-pool_id-time_point-treatment.celltype_counts.tsv\"\n",
    "myfilename = paste0(mydir,mysuffix)\n",
    "myfile = read.table(myfilename, header = T)\n",
    "donors_d52 = as.character(unique(myfile$donor_id))\n",
    "length(donors_d52)"
   ]
  },
  {
   "cell_type": "code",
   "execution_count": 20,
   "metadata": {},
   "outputs": [
    {
     "data": {
      "text/html": [
       "215"
      ],
      "text/latex": [
       "215"
      ],
      "text/markdown": [
       "215"
      ],
      "text/plain": [
       "[1] 215"
      ]
     },
     "metadata": {},
     "output_type": "display_data"
    }
   ],
   "source": [
    "all_donors = unique(c(donors_d11, donors_d30, donors_d52))\n",
    "length(all_donors)"
   ]
  },
  {
   "cell_type": "code",
   "execution_count": 22,
   "metadata": {},
   "outputs": [
    {
     "data": {
      "text/html": [
       "<ol class=list-inline>\n",
       "\t<li>'HPSI0114i-eipl_1'</li>\n",
       "\t<li>'HPSI0114i-kolf_2'</li>\n",
       "\t<li>'HPSI0114i-wegi_1'</li>\n",
       "\t<li>'HPSI0115i-aion_2'</li>\n",
       "\t<li>'HPSI0115i-aoxv_1'</li>\n",
       "\t<li>'HPSI0115i-bimq_4'</li>\n",
       "</ol>\n"
      ],
      "text/latex": [
       "\\begin{enumerate*}\n",
       "\\item 'HPSI0114i-eipl\\_1'\n",
       "\\item 'HPSI0114i-kolf\\_2'\n",
       "\\item 'HPSI0114i-wegi\\_1'\n",
       "\\item 'HPSI0115i-aion\\_2'\n",
       "\\item 'HPSI0115i-aoxv\\_1'\n",
       "\\item 'HPSI0115i-bimq\\_4'\n",
       "\\end{enumerate*}\n"
      ],
      "text/markdown": [
       "1. 'HPSI0114i-eipl_1'\n",
       "2. 'HPSI0114i-kolf_2'\n",
       "3. 'HPSI0114i-wegi_1'\n",
       "4. 'HPSI0115i-aion_2'\n",
       "5. 'HPSI0115i-aoxv_1'\n",
       "6. 'HPSI0115i-bimq_4'\n",
       "\n",
       "\n"
      ],
      "text/plain": [
       "[1] \"HPSI0114i-eipl_1\" \"HPSI0114i-kolf_2\" \"HPSI0114i-wegi_1\" \"HPSI0115i-aion_2\"\n",
       "[5] \"HPSI0115i-aoxv_1\" \"HPSI0115i-bimq_4\""
      ]
     },
     "metadata": {},
     "output_type": "display_data"
    }
   ],
   "source": [
    "head(all_donors)"
   ]
  },
  {
   "cell_type": "code",
   "execution_count": 56,
   "metadata": {},
   "outputs": [
    {
     "data": {
      "text/html": [
       "<table>\n",
       "<thead><tr><th></th><th scope=col>donor_id</th><th scope=col>Gender</th><th scope=col>Age</th><th scope=col>feederfree</th></tr></thead>\n",
       "<tbody>\n",
       "\t<tr><th scope=row>38</th><td>HPSI0813i-ffdc_1 </td><td>male             </td><td>40-44            </td><td>n                </td></tr>\n",
       "\t<tr><th scope=row>99</th><td>HPSI0213i-nawk_55</td><td>male             </td><td>                 </td><td>y                </td></tr>\n",
       "</tbody>\n",
       "</table>\n"
      ],
      "text/latex": [
       "\\begin{tabular}{r|llll}\n",
       "  & donor\\_id & Gender & Age & feederfree\\\\\n",
       "\\hline\n",
       "\t38 & HPSI0813i-ffdc\\_1  & male                & 40-44               & n                  \\\\\n",
       "\t99 & HPSI0213i-nawk\\_55 & male                &                     & y                  \\\\\n",
       "\\end{tabular}\n"
      ],
      "text/markdown": [
       "\n",
       "| <!--/--> | donor_id | Gender | Age | feederfree |\n",
       "|---|---|---|---|---|\n",
       "| 38 | HPSI0813i-ffdc_1  | male              | 40-44             | n                 |\n",
       "| 99 | HPSI0213i-nawk_55 | male              |                   | y                 |\n",
       "\n"
      ],
      "text/plain": [
       "   donor_id          Gender Age   feederfree\n",
       "38 HPSI0813i-ffdc_1  male   40-44 n         \n",
       "99 HPSI0213i-nawk_55 male         y         "
      ]
     },
     "metadata": {},
     "output_type": "display_data"
    }
   ],
   "source": [
    "metadata_new = metadata_df[metadata_df$Public.name %in% all_donors,]\n",
    "metadata_new$Donor <- c()\n",
    "colnames(metadata_new)[1] = \"donor_id\"\n",
    "head(metadata_new,2)"
   ]
  },
  {
   "cell_type": "code",
   "execution_count": 57,
   "metadata": {},
   "outputs": [
    {
     "data": {
      "text/html": [
       "211"
      ],
      "text/latex": [
       "211"
      ],
      "text/markdown": [
       "211"
      ],
      "text/plain": [
       "[1] 211"
      ]
     },
     "metadata": {},
     "output_type": "display_data"
    }
   ],
   "source": [
    "nrow(metadata_new)"
   ]
  },
  {
   "cell_type": "code",
   "execution_count": 58,
   "metadata": {},
   "outputs": [
    {
     "data": {
      "text/html": [
       "<ol class=list-inline>\n",
       "\t<li>'HPSI0115i-pitg_2'</li>\n",
       "\t<li>'HPSI0115i-qecv_2'</li>\n",
       "\t<li>'HPSI0314i-uict_1'</li>\n",
       "\t<li>'HPSI0514i-sohd_2'</li>\n",
       "</ol>\n"
      ],
      "text/latex": [
       "\\begin{enumerate*}\n",
       "\\item 'HPSI0115i-pitg\\_2'\n",
       "\\item 'HPSI0115i-qecv\\_2'\n",
       "\\item 'HPSI0314i-uict\\_1'\n",
       "\\item 'HPSI0514i-sohd\\_2'\n",
       "\\end{enumerate*}\n"
      ],
      "text/markdown": [
       "1. 'HPSI0115i-pitg_2'\n",
       "2. 'HPSI0115i-qecv_2'\n",
       "3. 'HPSI0314i-uict_1'\n",
       "4. 'HPSI0514i-sohd_2'\n",
       "\n",
       "\n"
      ],
      "text/plain": [
       "[1] \"HPSI0115i-pitg_2\" \"HPSI0115i-qecv_2\" \"HPSI0314i-uict_1\" \"HPSI0514i-sohd_2\""
      ]
     },
     "metadata": {},
     "output_type": "display_data"
    }
   ],
   "source": [
    "all_donors[!(all_donors %in% metadata_new$donor_id)]"
   ]
  },
  {
   "cell_type": "code",
   "execution_count": 59,
   "metadata": {},
   "outputs": [
    {
     "data": {
      "text/html": [
       "<table>\n",
       "<thead><tr><th scope=col>donor_id</th><th scope=col>Gender</th><th scope=col>Age</th><th scope=col>feederfree</th></tr></thead>\n",
       "<tbody>\n",
       "\t<tr><td>HPSI0115i-pitg_2</td><td>female          </td><td>50-54           </td><td>y               </td></tr>\n",
       "\t<tr><td>HPSI0115i-qecv_2</td><td>female          </td><td>35-39           </td><td>y               </td></tr>\n",
       "\t<tr><td>HPSI0314i-uict_1</td><td>female          </td><td>65-69           </td><td>y               </td></tr>\n",
       "\t<tr><td>HPSI0514i-sohd_2</td><td>female          </td><td>70-74           </td><td>y               </td></tr>\n",
       "</tbody>\n",
       "</table>\n"
      ],
      "text/latex": [
       "\\begin{tabular}{r|llll}\n",
       " donor\\_id & Gender & Age & feederfree\\\\\n",
       "\\hline\n",
       "\t HPSI0115i-pitg\\_2 & female             & 50-54              & y                 \\\\\n",
       "\t HPSI0115i-qecv\\_2 & female             & 35-39              & y                 \\\\\n",
       "\t HPSI0314i-uict\\_1 & female             & 65-69              & y                 \\\\\n",
       "\t HPSI0514i-sohd\\_2 & female             & 70-74              & y                 \\\\\n",
       "\\end{tabular}\n"
      ],
      "text/markdown": [
       "\n",
       "| donor_id | Gender | Age | feederfree |\n",
       "|---|---|---|---|\n",
       "| HPSI0115i-pitg_2 | female           | 50-54            | y                |\n",
       "| HPSI0115i-qecv_2 | female           | 35-39            | y                |\n",
       "| HPSI0314i-uict_1 | female           | 65-69            | y                |\n",
       "| HPSI0514i-sohd_2 | female           | 70-74            | y                |\n",
       "\n"
      ],
      "text/plain": [
       "  donor_id         Gender Age   feederfree\n",
       "1 HPSI0115i-pitg_2 female 50-54 y         \n",
       "2 HPSI0115i-qecv_2 female 35-39 y         \n",
       "3 HPSI0314i-uict_1 female 65-69 y         \n",
       "4 HPSI0514i-sohd_2 female 70-74 y         "
      ]
     },
     "metadata": {},
     "output_type": "display_data"
    }
   ],
   "source": [
    "# added manually from looking at the hipsci resource\n",
    "df = data.frame(donor_id = all_donors[!(all_donors %in% metadata_new$donor_id)],\n",
    "               Gender = \"female\",\n",
    "               Age = c(\"50-54\",\"35-39\",\"65-69\",\"70-74\"),\n",
    "               feederfree = \"y\")\n",
    "head(df)"
   ]
  },
  {
   "cell_type": "code",
   "execution_count": 60,
   "metadata": {},
   "outputs": [
    {
     "data": {
      "text/html": [
       "215"
      ],
      "text/latex": [
       "215"
      ],
      "text/markdown": [
       "215"
      ],
      "text/plain": [
       "[1] 215"
      ]
     },
     "metadata": {},
     "output_type": "display_data"
    }
   ],
   "source": [
    "metadata_new = rbind(metadata_new, df)\n",
    "nrow(metadata_new)"
   ]
  },
  {
   "cell_type": "code",
   "execution_count": 61,
   "metadata": {},
   "outputs": [
    {
     "data": {
      "text/html": [
       "<table>\n",
       "<thead><tr><th></th><th scope=col>donor_id</th><th scope=col>Gender</th><th scope=col>Age</th><th scope=col>feederfree</th></tr></thead>\n",
       "<tbody>\n",
       "\t<tr><th scope=row>1543</th><td>HPSI0813i-mioj_1</td><td>                </td><td>                </td><td>y               </td></tr>\n",
       "\t<tr><th scope=row>1546</th><td>HPSI0613i-oesx_3</td><td>                </td><td>                </td><td>y               </td></tr>\n",
       "</tbody>\n",
       "</table>\n"
      ],
      "text/latex": [
       "\\begin{tabular}{r|llll}\n",
       "  & donor\\_id & Gender & Age & feederfree\\\\\n",
       "\\hline\n",
       "\t1543 & HPSI0813i-mioj\\_1 &                    &                    & y                 \\\\\n",
       "\t1546 & HPSI0613i-oesx\\_3 &                    &                    & y                 \\\\\n",
       "\\end{tabular}\n"
      ],
      "text/markdown": [
       "\n",
       "| <!--/--> | donor_id | Gender | Age | feederfree |\n",
       "|---|---|---|---|---|\n",
       "| 1543 | HPSI0813i-mioj_1 |                  |                  | y                |\n",
       "| 1546 | HPSI0613i-oesx_3 |                  |                  | y                |\n",
       "\n"
      ],
      "text/plain": [
       "     donor_id         Gender Age feederfree\n",
       "1543 HPSI0813i-mioj_1            y         \n",
       "1546 HPSI0613i-oesx_3            y         "
      ]
     },
     "metadata": {},
     "output_type": "display_data"
    }
   ],
   "source": [
    "metadata_new[metadata_new$Gender == '',]"
   ]
  },
  {
   "cell_type": "code",
   "execution_count": 62,
   "metadata": {},
   "outputs": [
    {
     "data": {
      "text/html": [
       "\n",
       "<details>\n",
       "\t<summary style=display:list-item;cursor:pointer>\n",
       "\t\t<strong>Levels</strong>:\n",
       "\t</summary>\n",
       "\t<ol class=list-inline>\n",
       "\t\t<li>''</li>\n",
       "\t\t<li>'female'</li>\n",
       "\t\t<li>'male'</li>\n",
       "\t</ol>\n",
       "</details>"
      ],
      "text/latex": [
       "\n",
       "\\emph{Levels}: \\begin{enumerate*}\n",
       "\\item ''\n",
       "\\item 'female'\n",
       "\\item 'male'\n",
       "\\end{enumerate*}\n"
      ],
      "text/markdown": [
       "\n",
       "**Levels**: 1. ''\n",
       "2. 'female'\n",
       "3. 'male'\n",
       "\n",
       "\n"
      ],
      "text/plain": [
       "factor(0)\n",
       "Levels:  female male"
      ]
     },
     "metadata": {},
     "output_type": "display_data"
    }
   ],
   "source": [
    "metadata_new[metadata_new$Gender == '',\"Gender\"] = 'female' # added manually, oesx and mioj\n",
    "metadata_new[metadata_new$Gender == '',\"Gender\"]"
   ]
  },
  {
   "cell_type": "code",
   "execution_count": 71,
   "metadata": {},
   "outputs": [],
   "source": [
    "metadata_new$Gender = as.character(metadata_new$Gender)\n",
    "metadata_new$feederfree = as.character(metadata_new$feederfree)"
   ]
  },
  {
   "cell_type": "code",
   "execution_count": 70,
   "metadata": {},
   "outputs": [
    {
     "data": {
      "text/html": [
       "<table>\n",
       "<thead><tr><th></th><th scope=col>donor_id</th><th scope=col>Gender</th><th scope=col>Age</th><th scope=col>feederfree</th><th scope=col>min_age</th><th scope=col>max_age</th><th scope=col>avg_age</th></tr></thead>\n",
       "<tbody>\n",
       "\t<tr><th scope=row>38</th><td>HPSI0813i-ffdc_1 </td><td>male             </td><td>40-44            </td><td>n                </td><td>40               </td><td>44               </td><td>42               </td></tr>\n",
       "\t<tr><th scope=row>99</th><td>HPSI0213i-nawk_55</td><td>male             </td><td>                 </td><td>y                </td><td>NA               </td><td>NA               </td><td>NA               </td></tr>\n",
       "</tbody>\n",
       "</table>\n"
      ],
      "text/latex": [
       "\\begin{tabular}{r|lllllll}\n",
       "  & donor\\_id & Gender & Age & feederfree & min\\_age & max\\_age & avg\\_age\\\\\n",
       "\\hline\n",
       "\t38 & HPSI0813i-ffdc\\_1  & male                & 40-44               & n                   & 40                  & 44                  & 42                 \\\\\n",
       "\t99 & HPSI0213i-nawk\\_55 & male                &                     & y                   & NA                  & NA                  & NA                 \\\\\n",
       "\\end{tabular}\n"
      ],
      "text/markdown": [
       "\n",
       "| <!--/--> | donor_id | Gender | Age | feederfree | min_age | max_age | avg_age |\n",
       "|---|---|---|---|---|---|---|---|\n",
       "| 38 | HPSI0813i-ffdc_1  | male              | 40-44             | n                 | 40                | 44                | 42                |\n",
       "| 99 | HPSI0213i-nawk_55 | male              |                   | y                 | NA                | NA                | NA                |\n",
       "\n"
      ],
      "text/plain": [
       "   donor_id          Gender Age   feederfree min_age max_age avg_age\n",
       "38 HPSI0813i-ffdc_1  male   40-44 n          40      44      42     \n",
       "99 HPSI0213i-nawk_55 male         y          NA      NA      NA     "
      ]
     },
     "metadata": {},
     "output_type": "display_data"
    }
   ],
   "source": [
    "metadata_new$min_age = as.numeric(gsub(\"-.*\",\"\",metadata_new$Age))\n",
    "metadata_new$max_age = as.numeric(gsub(\".*-\",\"\",metadata_new$Age))\n",
    "metadata_new$avg_age = 0.5*(metadata_new$min_age+metadata_new$max_age)\n",
    "head(metadata_new,2)"
   ]
  },
  {
   "cell_type": "code",
   "execution_count": 72,
   "metadata": {},
   "outputs": [],
   "source": [
    "write.csv(metadata_new, \"/hps/nobackup/stegle/users/acuomo/all_scripts/sc_neuroseq/metadata_all_lines.csv\")"
   ]
  },
  {
   "cell_type": "code",
   "execution_count": null,
   "metadata": {},
   "outputs": [],
   "source": []
  }
 ],
 "metadata": {
  "kernelspec": {
   "display_name": "R",
   "language": "R",
   "name": "ir"
  },
  "language_info": {
   "codemirror_mode": "r",
   "file_extension": ".r",
   "mimetype": "text/x-r-source",
   "name": "R",
   "pygments_lexer": "r",
   "version": "3.6.1"
  }
 },
 "nbformat": 4,
 "nbformat_minor": 4
}
