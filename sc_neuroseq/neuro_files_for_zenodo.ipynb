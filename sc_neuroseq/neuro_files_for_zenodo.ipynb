{
 "cells": [
  {
   "cell_type": "code",
   "execution_count": 4,
   "metadata": {},
   "outputs": [],
   "source": [
    "import scanpy as sc"
   ]
  },
  {
   "cell_type": "code",
   "execution_count": 5,
   "metadata": {},
   "outputs": [],
   "source": [
    "import os\n",
    "# import scanpy.api as sc\n",
    "import pandas as pd"
   ]
  },
  {
   "cell_type": "code",
   "execution_count": null,
   "metadata": {},
   "outputs": [],
   "source": [
    "### Day 11"
   ]
  },
  {
   "cell_type": "code",
   "execution_count": 2,
   "metadata": {},
   "outputs": [],
   "source": [
    "# original data file with raw counts\n",
    "raw_data_file = '/nfs/leia/research/stegle/dseaton/hipsci/singlecell_neuroseq/data/data_processed/pool1_13_noddd_D11/pool1_13_noddd_D11.scanpy.h5'\n",
    "# file with all the metadata and celltypes - note that I updated this to the \"tidy\" version that we originally uploaded\n",
    "complete_data_file = '/nfs/leia/research/stegle/dseaton/hipsci/singlecell_neuroseq/data/analysis_results/20200907_data_freeze/scanpy_files/D11.h5'\n",
    "dataset_outfile = '/hps/nobackup/stegle/users/acuomo/all_scripts/sc_neuroseq/for_Zenodo/day11.h5'"
   ]
  },
  {
   "cell_type": "code",
   "execution_count": 3,
   "metadata": {},
   "outputs": [],
   "source": [
    "raw_data = sc.read(raw_data_file)\n",
    "out_data = sc.read(complete_data_file)"
   ]
  },
  {
   "cell_type": "code",
   "execution_count": 4,
   "metadata": {},
   "outputs": [],
   "source": [
    "# confirm that these have the same cells in the same order\n",
    "assert(all(x==y for x,y in zip(raw_data.obs.index, out_data.obs.index)))"
   ]
  },
  {
   "cell_type": "code",
   "execution_count": 5,
   "metadata": {},
   "outputs": [],
   "source": [
    "# save raw count data\n",
    "out_data.raw = raw_data"
   ]
  },
  {
   "cell_type": "code",
   "execution_count": 17,
   "metadata": {},
   "outputs": [
    {
     "data": {
      "text/plain": [
       "835.0"
      ]
     },
     "execution_count": 17,
     "metadata": {},
     "output_type": "execute_result"
    }
   ],
   "source": [
    "out_data.raw.X[1:5, :].toarray().max()"
   ]
  },
  {
   "cell_type": "code",
   "execution_count": 18,
   "metadata": {},
   "outputs": [
    {
     "data": {
      "text/plain": [
       "597.6499"
      ]
     },
     "execution_count": 18,
     "metadata": {},
     "output_type": "execute_result"
    }
   ],
   "source": [
    "out_data.X[1:5, :].toarray().max()"
   ]
  },
  {
   "cell_type": "code",
   "execution_count": 6,
   "metadata": {},
   "outputs": [],
   "source": [
    "# write to file\n",
    "out_data.write(dataset_outfile)"
   ]
  },
  {
   "cell_type": "code",
   "execution_count": 19,
   "metadata": {},
   "outputs": [],
   "source": [
    "### Day 30"
   ]
  },
  {
   "cell_type": "code",
   "execution_count": 20,
   "metadata": {},
   "outputs": [],
   "source": [
    "# original data file with raw counts\n",
    "raw_data_file = '/nfs/leia/research/stegle/dseaton/hipsci/singlecell_neuroseq/data/data_processed/pool1_13_noddd_D30/pool1_13_noddd_D30.scanpy.h5'\n",
    "# file with all the metadata and celltypes - note that I updated this to the \"tidy\" version that we originally uploaded\n",
    "complete_data_file = '/nfs/leia/research/stegle/dseaton/hipsci/singlecell_neuroseq/data/analysis_results/20200907_data_freeze/scanpy_files/D30.h5'\n",
    "dataset_outfile = '/hps/nobackup/stegle/users/acuomo/all_scripts/sc_neuroseq/for_Zenodo/day30.h5'"
   ]
  },
  {
   "cell_type": "code",
   "execution_count": 21,
   "metadata": {},
   "outputs": [],
   "source": [
    "raw_data = sc.read(raw_data_file)\n",
    "out_data = sc.read(complete_data_file)"
   ]
  },
  {
   "cell_type": "code",
   "execution_count": 22,
   "metadata": {},
   "outputs": [],
   "source": [
    "# confirm that these have the same cells in the same order\n",
    "assert(all(x==y for x,y in zip(raw_data.obs.index, out_data.obs.index)))"
   ]
  },
  {
   "cell_type": "code",
   "execution_count": 23,
   "metadata": {},
   "outputs": [],
   "source": [
    "# save raw count data\n",
    "out_data.raw = raw_data"
   ]
  },
  {
   "cell_type": "code",
   "execution_count": 24,
   "metadata": {},
   "outputs": [
    {
     "data": {
      "text/plain": [
       "865.0"
      ]
     },
     "execution_count": 24,
     "metadata": {},
     "output_type": "execute_result"
    }
   ],
   "source": [
    "out_data.raw.X[1:5, :].toarray().max()"
   ]
  },
  {
   "cell_type": "code",
   "execution_count": 25,
   "metadata": {},
   "outputs": [
    {
     "data": {
      "text/plain": [
       "1101.6063"
      ]
     },
     "execution_count": 25,
     "metadata": {},
     "output_type": "execute_result"
    }
   ],
   "source": [
    "out_data.X[1:5, :].toarray().max()"
   ]
  },
  {
   "cell_type": "code",
   "execution_count": 26,
   "metadata": {},
   "outputs": [],
   "source": [
    "# write to file\n",
    "out_data.write(dataset_outfile)"
   ]
  },
  {
   "cell_type": "code",
   "execution_count": 27,
   "metadata": {},
   "outputs": [],
   "source": [
    "### Day 52"
   ]
  },
  {
   "cell_type": "code",
   "execution_count": 6,
   "metadata": {},
   "outputs": [],
   "source": [
    "# original data file with raw counts\n",
    "raw_data_file = '/nfs/leia/research/stegle/dseaton/hipsci/singlecell_neuroseq/data/data_processed/pool1_17_D52/pool1_17_D52.scanpy.h5'\n",
    "# file with all the metadata and celltypes - note that I updated this to the \"tidy\" version that we originally uploaded\n",
    "complete_data_file = '/nfs/leia/research/stegle/dseaton/hipsci/singlecell_neuroseq/data/analysis_results/20200907_data_freeze/scanpy_files/D52.h5'\n",
    "dataset_outfile = '/hps/nobackup/stegle/users/acuomo/all_scripts/sc_neuroseq/for_Zenodo/day52.h5'"
   ]
  },
  {
   "cell_type": "code",
   "execution_count": 7,
   "metadata": {},
   "outputs": [],
   "source": [
    "raw_data = sc.read(raw_data_file)\n",
    "out_data = sc.read(complete_data_file)"
   ]
  },
  {
   "cell_type": "code",
   "execution_count": 8,
   "metadata": {},
   "outputs": [],
   "source": [
    "# confirm that these have the same cells in the same order\n",
    "assert(all(x==y for x,y in zip(raw_data.obs.index, out_data.obs.index)))"
   ]
  },
  {
   "cell_type": "code",
   "execution_count": 9,
   "metadata": {},
   "outputs": [],
   "source": [
    "# save raw count data\n",
    "out_data.raw = raw_data"
   ]
  },
  {
   "cell_type": "code",
   "execution_count": 10,
   "metadata": {},
   "outputs": [
    {
     "data": {
      "text/plain": [
       "3072.0"
      ]
     },
     "execution_count": 10,
     "metadata": {},
     "output_type": "execute_result"
    }
   ],
   "source": [
    "out_data.raw.X[1:5, :].toarray().max()"
   ]
  },
  {
   "cell_type": "code",
   "execution_count": 11,
   "metadata": {},
   "outputs": [
    {
     "data": {
      "text/plain": [
       "1477.9884"
      ]
     },
     "execution_count": 11,
     "metadata": {},
     "output_type": "execute_result"
    }
   ],
   "source": [
    "out_data.X[1:5, :].toarray().max()"
   ]
  },
  {
   "cell_type": "code",
   "execution_count": 12,
   "metadata": {},
   "outputs": [],
   "source": [
    "# write to file\n",
    "out_data.write(dataset_outfile)"
   ]
  },
  {
   "cell_type": "code",
   "execution_count": null,
   "metadata": {},
   "outputs": [],
   "source": []
  },
  {
   "cell_type": "code",
   "execution_count": null,
   "metadata": {},
   "outputs": [],
   "source": []
  },
  {
   "cell_type": "code",
   "execution_count": 14,
   "metadata": {},
   "outputs": [
    {
     "data": {
      "text/html": [
       "<div>\n",
       "<style scoped>\n",
       "    .dataframe tbody tr th:only-of-type {\n",
       "        vertical-align: middle;\n",
       "    }\n",
       "\n",
       "    .dataframe tbody tr th {\n",
       "        vertical-align: top;\n",
       "    }\n",
       "\n",
       "    .dataframe thead th {\n",
       "        text-align: right;\n",
       "    }\n",
       "</style>\n",
       "<table border=\"1\" class=\"dataframe\">\n",
       "  <thead>\n",
       "    <tr style=\"text-align: right;\">\n",
       "      <th></th>\n",
       "      <th>sample_index</th>\n",
       "      <th>sample_id</th>\n",
       "      <th>donor_id</th>\n",
       "      <th>cluster_id</th>\n",
       "      <th>celltype</th>\n",
       "      <th>time_point</th>\n",
       "      <th>pool_id</th>\n",
       "      <th>treatment</th>\n",
       "    </tr>\n",
       "    <tr>\n",
       "      <th>index</th>\n",
       "      <th></th>\n",
       "      <th></th>\n",
       "      <th></th>\n",
       "      <th></th>\n",
       "      <th></th>\n",
       "      <th></th>\n",
       "      <th></th>\n",
       "      <th></th>\n",
       "    </tr>\n",
       "  </thead>\n",
       "  <tbody>\n",
       "    <tr>\n",
       "      <th>AAACCTGAGAAAGTGG-1-0</th>\n",
       "      <td>0</td>\n",
       "      <td>5245STDY7426804</td>\n",
       "      <td>HPSI0114i-eipl_1</td>\n",
       "      <td>2</td>\n",
       "      <td>Astro</td>\n",
       "      <td>D52</td>\n",
       "      <td>pool1</td>\n",
       "      <td>NONE</td>\n",
       "    </tr>\n",
       "    <tr>\n",
       "      <th>AAACCTGAGATCTGCT-1-0</th>\n",
       "      <td>0</td>\n",
       "      <td>5245STDY7426804</td>\n",
       "      <td>HPSI0114i-eipl_1</td>\n",
       "      <td>1</td>\n",
       "      <td>Epen1</td>\n",
       "      <td>D52</td>\n",
       "      <td>pool1</td>\n",
       "      <td>NONE</td>\n",
       "    </tr>\n",
       "    <tr>\n",
       "      <th>AAACCTGAGCTAGTGG-1-0</th>\n",
       "      <td>0</td>\n",
       "      <td>5245STDY7426804</td>\n",
       "      <td>HPSI0115i-paim_1</td>\n",
       "      <td>3</td>\n",
       "      <td>DA</td>\n",
       "      <td>D52</td>\n",
       "      <td>pool1</td>\n",
       "      <td>NONE</td>\n",
       "    </tr>\n",
       "    <tr>\n",
       "      <th>AAACCTGAGGAGCGTT-1-0</th>\n",
       "      <td>0</td>\n",
       "      <td>5245STDY7426804</td>\n",
       "      <td>HPSI0614i-liqa_1</td>\n",
       "      <td>7</td>\n",
       "      <td>Sert</td>\n",
       "      <td>D52</td>\n",
       "      <td>pool1</td>\n",
       "      <td>NONE</td>\n",
       "    </tr>\n",
       "    <tr>\n",
       "      <th>AAACCTGAGGTGCTTT-1-0</th>\n",
       "      <td>0</td>\n",
       "      <td>5245STDY7426804</td>\n",
       "      <td>HPSI0114i-eipl_1</td>\n",
       "      <td>2</td>\n",
       "      <td>Astro</td>\n",
       "      <td>D52</td>\n",
       "      <td>pool1</td>\n",
       "      <td>NONE</td>\n",
       "    </tr>\n",
       "    <tr>\n",
       "      <th>...</th>\n",
       "      <td>...</td>\n",
       "      <td>...</td>\n",
       "      <td>...</td>\n",
       "      <td>...</td>\n",
       "      <td>...</td>\n",
       "      <td>...</td>\n",
       "      <td>...</td>\n",
       "      <td>...</td>\n",
       "    </tr>\n",
       "    <tr>\n",
       "      <th>TTTGTCACAATAGCGG-1-78</th>\n",
       "      <td>78</td>\n",
       "      <td>5245STDY8354286</td>\n",
       "      <td>HPSI0115i-jotn_2</td>\n",
       "      <td>3</td>\n",
       "      <td>DA</td>\n",
       "      <td>D52</td>\n",
       "      <td>pool17</td>\n",
       "      <td>ROT</td>\n",
       "    </tr>\n",
       "    <tr>\n",
       "      <th>TTTGTCACAGGTGGAT-1-78</th>\n",
       "      <td>78</td>\n",
       "      <td>5245STDY8354286</td>\n",
       "      <td>HPSI1113i-qorq_1</td>\n",
       "      <td>0</td>\n",
       "      <td>Sert</td>\n",
       "      <td>D52</td>\n",
       "      <td>pool17</td>\n",
       "      <td>ROT</td>\n",
       "    </tr>\n",
       "    <tr>\n",
       "      <th>TTTGTCAGTCCAGTGC-1-78</th>\n",
       "      <td>78</td>\n",
       "      <td>5245STDY8354286</td>\n",
       "      <td>HPSI0114i-vass_1</td>\n",
       "      <td>3</td>\n",
       "      <td>DA</td>\n",
       "      <td>D52</td>\n",
       "      <td>pool17</td>\n",
       "      <td>ROT</td>\n",
       "    </tr>\n",
       "    <tr>\n",
       "      <th>TTTGTCAGTTTGTGTG-1-78</th>\n",
       "      <td>78</td>\n",
       "      <td>5245STDY8354286</td>\n",
       "      <td>HPSI0115i-tiku_3</td>\n",
       "      <td>0</td>\n",
       "      <td>Sert</td>\n",
       "      <td>D52</td>\n",
       "      <td>pool17</td>\n",
       "      <td>ROT</td>\n",
       "    </tr>\n",
       "    <tr>\n",
       "      <th>TTTGTCATCTTGAGAC-1-78</th>\n",
       "      <td>78</td>\n",
       "      <td>5245STDY8354286</td>\n",
       "      <td>HPSI0115i-tiku_3</td>\n",
       "      <td>3</td>\n",
       "      <td>DA</td>\n",
       "      <td>D52</td>\n",
       "      <td>pool17</td>\n",
       "      <td>ROT</td>\n",
       "    </tr>\n",
       "  </tbody>\n",
       "</table>\n",
       "<p>523094 rows × 8 columns</p>\n",
       "</div>"
      ],
      "text/plain": [
       "                      sample_index        sample_id          donor_id  \\\n",
       "index                                                                   \n",
       "AAACCTGAGAAAGTGG-1-0             0  5245STDY7426804  HPSI0114i-eipl_1   \n",
       "AAACCTGAGATCTGCT-1-0             0  5245STDY7426804  HPSI0114i-eipl_1   \n",
       "AAACCTGAGCTAGTGG-1-0             0  5245STDY7426804  HPSI0115i-paim_1   \n",
       "AAACCTGAGGAGCGTT-1-0             0  5245STDY7426804  HPSI0614i-liqa_1   \n",
       "AAACCTGAGGTGCTTT-1-0             0  5245STDY7426804  HPSI0114i-eipl_1   \n",
       "...                            ...              ...               ...   \n",
       "TTTGTCACAATAGCGG-1-78           78  5245STDY8354286  HPSI0115i-jotn_2   \n",
       "TTTGTCACAGGTGGAT-1-78           78  5245STDY8354286  HPSI1113i-qorq_1   \n",
       "TTTGTCAGTCCAGTGC-1-78           78  5245STDY8354286  HPSI0114i-vass_1   \n",
       "TTTGTCAGTTTGTGTG-1-78           78  5245STDY8354286  HPSI0115i-tiku_3   \n",
       "TTTGTCATCTTGAGAC-1-78           78  5245STDY8354286  HPSI0115i-tiku_3   \n",
       "\n",
       "                       cluster_id celltype time_point pool_id treatment  \n",
       "index                                                                    \n",
       "AAACCTGAGAAAGTGG-1-0            2    Astro        D52   pool1      NONE  \n",
       "AAACCTGAGATCTGCT-1-0            1    Epen1        D52   pool1      NONE  \n",
       "AAACCTGAGCTAGTGG-1-0            3       DA        D52   pool1      NONE  \n",
       "AAACCTGAGGAGCGTT-1-0            7     Sert        D52   pool1      NONE  \n",
       "AAACCTGAGGTGCTTT-1-0            2    Astro        D52   pool1      NONE  \n",
       "...                           ...      ...        ...     ...       ...  \n",
       "TTTGTCACAATAGCGG-1-78           3       DA        D52  pool17       ROT  \n",
       "TTTGTCACAGGTGGAT-1-78           0     Sert        D52  pool17       ROT  \n",
       "TTTGTCAGTCCAGTGC-1-78           3       DA        D52  pool17       ROT  \n",
       "TTTGTCAGTTTGTGTG-1-78           0     Sert        D52  pool17       ROT  \n",
       "TTTGTCATCTTGAGAC-1-78           3       DA        D52  pool17       ROT  \n",
       "\n",
       "[523094 rows x 8 columns]"
      ]
     },
     "execution_count": 14,
     "metadata": {},
     "output_type": "execute_result"
    }
   ],
   "source": [
    "out_data.obs"
   ]
  },
  {
   "cell_type": "code",
   "execution_count": null,
   "metadata": {},
   "outputs": [],
   "source": []
  }
 ],
 "metadata": {
  "kernelspec": {
   "display_name": "Python (spatialde)",
   "language": "python",
   "name": "spatialde"
  },
  "language_info": {
   "codemirror_mode": {
    "name": "ipython",
    "version": 3
   },
   "file_extension": ".py",
   "mimetype": "text/x-python",
   "name": "python",
   "nbconvert_exporter": "python",
   "pygments_lexer": "ipython3",
   "version": "3.7.9"
  }
 },
 "nbformat": 4,
 "nbformat_minor": 4
}
