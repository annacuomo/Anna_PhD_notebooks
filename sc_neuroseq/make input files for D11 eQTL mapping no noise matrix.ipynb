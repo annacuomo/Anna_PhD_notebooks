{
 "cells": [
  {
   "cell_type": "code",
   "execution_count": 52,
   "metadata": {},
   "outputs": [],
   "source": [
    "import numpy as np\n",
    "import pandas as pd\n",
    "import os\n",
    "import shutil\n",
    "import sklearn.decomposition\n",
    "# import qtl_config_utils\n",
    "import sys"
   ]
  },
  {
   "cell_type": "code",
   "execution_count": 53,
   "metadata": {},
   "outputs": [],
   "source": [
    "# outdir = \"/hps/nobackup/stegle/users/acuomo/all_scripts/sc_neuroseq/eqtl/timepoint_D11/input_files/celltype_FPP/\"\n",
    "# outdir = \"/hps/nobackup/stegle/users/acuomo/all_scripts/sc_neuroseq/eqtl/timepoint_D11/input_files/celltype_P_FPP/\"\n",
    "outdir = \"/hps/nobackup/stegle/users/acuomo/all_scripts/sc_neuroseq/eqtl/timepoint_D11/input_files/celltype_NB/\""
   ]
  },
  {
   "cell_type": "code",
   "execution_count": 54,
   "metadata": {},
   "outputs": [],
   "source": [
    "# general set up\n",
    "genotypes_file = '/hps/nobackup/hipsci/scratch/genotypes/imputed/REL-2018-01/Full_Filtered_Plink-f/hipsci.wec.gtarray.HumanCoreExome.imputed_phased.20170327.genotypes.norm.renamed.recode.filtered'\n",
    "kinship_file = '/hps/nobackup/hipsci/scratch/genotypes/imputed/REL-2018-01/Full_Filtered_Plink-f/hipsci.wec.gtarray.HumanCoreExome.imputed_phased.20170327.genotypes.norm.renamed.recode.filtered.rel'\n",
    "annotation_file = '/hps/nobackup/hipsci/scratch/singlecell_endodiff/data_processed/scQTLs/annos/ensembl_gene_id_annos.tsv'\n",
    "#annotation_file = '/hps/nobackup/hipsci/scratch/singlecell_endodiff/data_processed/scQTLs/annos/hgnc_symbol_annos.tsv'\n",
    "chunk_file = '/nfs/leia/research/stegle/mjbonder/ChunkFiles/Ensembl_75_Limix_Annotation_FC_Gene_step100.txt'\n",
    "n_pcs = 15\n",
    "base_dir = '/hps/nobackup/stegle/users/acuomo/all_scripts/sc_neuroseq/eqtl/timepoint_D11/'"
   ]
  },
  {
   "cell_type": "code",
   "execution_count": 55,
   "metadata": {},
   "outputs": [],
   "source": [
    "sample_mapping_file = os.path.join(outdir, 'samplemapping.tsv')\n",
    "phenotype_file = os.path.join(outdir, 'phenotypes.tsv')\n",
    "covariates_file = os.path.join(outdir, 'covariates.tsv')\n",
    "# noise_matrix_file = os.path.join(outdir, 'noise_matrix.tsv')\n",
    "# config_file = os.path.join(outdir, 'qtl_config.yaml')"
   ]
  },
  {
   "cell_type": "code",
   "execution_count": 56,
   "metadata": {},
   "outputs": [],
   "source": [
    "# eQTL discovery parameters\n",
    "#number of top expressed genes to test\n",
    "n_genes = 50000"
   ]
  },
  {
   "cell_type": "code",
   "execution_count": 57,
   "metadata": {},
   "outputs": [],
   "source": [
    "if not os.path.exists(outdir):\n",
    "    os.makedirs(outdir, exist_ok=True)"
   ]
  },
  {
   "cell_type": "code",
   "execution_count": 58,
   "metadata": {},
   "outputs": [],
   "source": [
    "mydir = '/nfs/leia/research/stegle/dseaton/hipsci/singlecell_neuroseq/data/data_processed/'\n",
    "\n",
    "# ## FPP\n",
    "# D11 = 'pool1_13_noddd_D11/pool1_13_noddd_D11.scanpy.w_metadata.w_celltype.scanpy.celltype.FPP.groupedby.donor_id-celltype.mean.tsv'\n",
    "\n",
    "# ## P_FPP\n",
    "# D11 = 'pool1_13_noddd_D11/pool1_13_noddd_D11.scanpy.w_metadata.w_celltype.scanpy.celltype.P_FPP.groupedby.donor_id-celltype.mean.tsv'\n",
    "\n",
    "## NB\n",
    "D11 = 'pool1_13_noddd_D11/pool1_13_noddd_D11.scanpy.w_metadata.w_celltype.scanpy.celltype.NB.groupedby.donor_id-celltype.mean.tsv'"
   ]
  },
  {
   "cell_type": "code",
   "execution_count": 59,
   "metadata": {},
   "outputs": [],
   "source": [
    "phenotype_input_file = mydir + D11"
   ]
  },
  {
   "cell_type": "code",
   "execution_count": 60,
   "metadata": {},
   "outputs": [],
   "source": [
    "# phenotype_input_file = sys.argv[1]\n",
    "# outdir = sys.argv[2]\n",
    "# if len(sys.argv)>=4:\n",
    "#     subset_field = sys.argv[3]\n",
    "#     selected_subset = sys.argv[4]\n",
    "# else:\n",
    "#     subset_field = None\n",
    "#     selected_subset = None"
   ]
  },
  {
   "cell_type": "code",
   "execution_count": 61,
   "metadata": {},
   "outputs": [],
   "source": [
    "#load map HGNC to ensembl\n",
    "mapping_df = pd.read_csv('/nfs/leia/research/stegle/dseaton/genomes/hg19/annotation/geneid_mappings/hgnc_symbol2ensembl_gene_id.txt', sep='\\t')"
   ]
  },
  {
   "cell_type": "code",
   "execution_count": 62,
   "metadata": {},
   "outputs": [],
   "source": [
    "# process phenotype dataframe (untreated/untreated)\n",
    "groupedby_df = pd.read_csv(phenotype_input_file, sep='\\t')\n",
    "# groupedby_df = groupedby_df.query('treatment==\"NONE\"')\n",
    "# groupedby_df = groupedby_df.query('treatment==\"ROT\"')"
   ]
  },
  {
   "cell_type": "code",
   "execution_count": 63,
   "metadata": {},
   "outputs": [],
   "source": [
    "# #subset columns\n",
    "# if selected_subset is not None:\n",
    "#     phenotype_df = groupedby_df.query('{}==@selected_subset'.format(subset_field))\n",
    "# else:\n",
    "#     phenotype_df = groupedby_df.copy()"
   ]
  },
  {
   "cell_type": "code",
   "execution_count": 64,
   "metadata": {},
   "outputs": [],
   "source": [
    "phenotype_df = groupedby_df.copy()"
   ]
  },
  {
   "cell_type": "code",
   "execution_count": 65,
   "metadata": {},
   "outputs": [],
   "source": [
    "# should only be cells from one celltype\n",
    "assert(len(phenotype_df['celltype'].drop_duplicates())==1)"
   ]
  },
  {
   "cell_type": "code",
   "execution_count": 66,
   "metadata": {},
   "outputs": [],
   "source": [
    "#create merged index\n",
    "phenotype_df['index'] = phenotype_df['donor_id']\n",
    "cell_count_ds = phenotype_df['n_cells']\n",
    "cell_count_ds.index = phenotype_df['index'].tolist()"
   ]
  },
  {
   "cell_type": "code",
   "execution_count": 67,
   "metadata": {},
   "outputs": [],
   "source": [
    "#take donor and pool cols for samplemapping df\n",
    "samplemapping_df = phenotype_df[['donor_id','index']]\n",
    "samplemapping_df.to_csv(sample_mapping_file, sep='\\t', index=False, header=False)"
   ]
  },
  {
   "cell_type": "code",
   "execution_count": 68,
   "metadata": {},
   "outputs": [],
   "source": [
    "#reorganise to just be expression data indexed by the merged index\n",
    "cols_to_drop = list(set(phenotype_df.columns) & {'donor_id','celltype','n_cells','treatment','pool_id'})\n",
    "phenotype_df = phenotype_df.drop(cols_to_drop, axis=1).set_index('index')\n",
    "phenotype_df = phenotype_df.transpose()"
   ]
  },
  {
   "cell_type": "code",
   "execution_count": 69,
   "metadata": {},
   "outputs": [],
   "source": [
    "#number of top expressed genes\n",
    "selected_genes = list(phenotype_df.mean(axis=1).nlargest(n_genes).index)\n",
    "phenotype_df = phenotype_df.loc[selected_genes, :]"
   ]
  },
  {
   "cell_type": "code",
   "execution_count": 70,
   "metadata": {},
   "outputs": [],
   "source": [
    "phenotype_list = phenotype_df.index\n",
    "mapping_df = mapping_df.query('hgnc_symbol in @phenotype_list')\n",
    "mapping_df = mapping_df.drop_duplicates(subset=['hgnc_symbol'])\n",
    "mapping_df = mapping_df.set_index('hgnc_symbol')"
   ]
  },
  {
   "cell_type": "code",
   "execution_count": 71,
   "metadata": {},
   "outputs": [],
   "source": [
    "# limit only to hgnc symbols that map to ensembl gene IDs\n",
    "phenotype_df = phenotype_df.loc[mapping_df.index,:]\n",
    "phenotype_df.index = mapping_df['ensembl_gene_id']"
   ]
  },
  {
   "cell_type": "code",
   "execution_count": 72,
   "metadata": {},
   "outputs": [],
   "source": [
    "phenotype_df.to_csv(phenotype_file, sep='\\t')"
   ]
  },
  {
   "cell_type": "code",
   "execution_count": 73,
   "metadata": {},
   "outputs": [],
   "source": [
    "pc_mat = sklearn.decomposition.PCA(n_components=n_pcs).fit_transform(phenotype_df.values.transpose())\n",
    "pc_df = pd.DataFrame(data=pc_mat, index=phenotype_df.columns, columns=['PC{}'.format(x) for x in range(1,n_pcs+1)])\n",
    "\n",
    "pc_df.to_csv(covariates_file, sep='\\t')"
   ]
  },
  {
   "cell_type": "code",
   "execution_count": 74,
   "metadata": {},
   "outputs": [],
   "source": [
    "# noise_scaling_vector = [1/float(x) for x in cell_count_ds.tolist()]\n",
    "# noise_matrix = np.diag(noise_scaling_vector)\n",
    "# noise_matrix_df = pd.DataFrame(data=noise_matrix, index=cell_count_ds.index, columns=cell_count_ds.index)"
   ]
  },
  {
   "cell_type": "code",
   "execution_count": 51,
   "metadata": {},
   "outputs": [],
   "source": [
    "# noise_matrix_df.to_csv(noise_matrix_file, sep='\\t')\n",
    "# kinship_file = noise_matrix_file"
   ]
  },
  {
   "cell_type": "code",
   "execution_count": 27,
   "metadata": {},
   "outputs": [
    {
     "ename": "NameError",
     "evalue": "name 'qtl_config_utils' is not defined",
     "output_type": "error",
     "traceback": [
      "\u001b[0;31m---------------------------------------------------------------------------\u001b[0m",
      "\u001b[0;31mNameError\u001b[0m                                 Traceback (most recent call last)",
      "\u001b[0;32m<ipython-input-27-c64830595095>\u001b[0m in \u001b[0;36m<module>\u001b[0;34m\u001b[0m\n\u001b[1;32m     23\u001b[0m \u001b[0;34m\u001b[0m\u001b[0m\n\u001b[1;32m     24\u001b[0m \u001b[0;31m# write config to a file\u001b[0m\u001b[0;34m\u001b[0m\u001b[0;34m\u001b[0m\u001b[0;34m\u001b[0m\u001b[0m\n\u001b[0;32m---> 25\u001b[0;31m \u001b[0mqtl_config_utils\u001b[0m\u001b[0;34m.\u001b[0m\u001b[0mwrite_config\u001b[0m\u001b[0;34m(\u001b[0m\u001b[0mconfig_dict\u001b[0m\u001b[0;34m,\u001b[0m \u001b[0mconfig_file\u001b[0m\u001b[0;34m)\u001b[0m\u001b[0;34m\u001b[0m\u001b[0;34m\u001b[0m\u001b[0m\n\u001b[0m",
      "\u001b[0;31mNameError\u001b[0m: name 'qtl_config_utils' is not defined"
     ]
    }
   ],
   "source": [
    "number_of_permutations = '1000'\n",
    "minor_allele_frequency = '0.05'\n",
    "hwe = '0.000001'\n",
    "call_rate = '1'\n",
    "window_size = '250000'\n",
    "block_size = '15000'\n",
    "\n",
    "\n",
    "config_dict = {'af': annotation_file,\n",
    "               'pf': phenotype_file,\n",
    "               'cf': covariates_file,\n",
    "#                'kf': kinship_file,\n",
    "               'smf': sample_mapping_file,\n",
    "               'plink': genotypes_file,\n",
    "               'maf': minor_allele_frequency,\n",
    "               'hwe': hwe,\n",
    "               'np': number_of_permutations,\n",
    "               'cr': call_rate,\n",
    "               'w': window_size,\n",
    "               'bs': block_size,\n",
    "               'chunk_file': chunk_file\n",
    "}\n",
    "\n",
    "# write config to a file\n",
    "qtl_config_utils.write_config(config_dict, config_file)"
   ]
  },
  {
   "cell_type": "code",
   "execution_count": null,
   "metadata": {},
   "outputs": [],
   "source": []
  }
 ],
 "metadata": {
  "kernelspec": {
   "display_name": "Python 3",
   "language": "python",
   "name": "python3"
  },
  "language_info": {
   "codemirror_mode": {
    "name": "ipython",
    "version": 3
   },
   "file_extension": ".py",
   "mimetype": "text/x-python",
   "name": "python",
   "nbconvert_exporter": "python",
   "pygments_lexer": "ipython3",
   "version": "3.7.6"
  }
 },
 "nbformat": 4,
 "nbformat_minor": 2
}
