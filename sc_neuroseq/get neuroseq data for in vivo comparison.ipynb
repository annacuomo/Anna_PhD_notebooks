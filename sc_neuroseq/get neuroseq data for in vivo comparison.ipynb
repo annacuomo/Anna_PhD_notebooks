{
 "cells": [
  {
   "cell_type": "code",
   "execution_count": 1,
   "metadata": {},
   "outputs": [
    {
     "name": "stderr",
     "output_type": "stream",
     "text": [
      "/nfs/software/stegle/users/acuomo/conda-envs/myscanpy/lib/python3.7/site-packages/anndata/_core/anndata.py:21: FutureWarning: pandas.core.index is deprecated and will be removed in a future version.  The public classes are available in the top-level namespace.\n",
      "  from pandas.core.index import RangeIndex\n"
     ]
    }
   ],
   "source": [
    "import scanpy as sc"
   ]
  },
  {
   "cell_type": "code",
   "execution_count": 2,
   "metadata": {},
   "outputs": [],
   "source": [
    "## this is an older file that contains raw counts\n",
    "file = '/nfs/leia/research/stegle/dseaton/hipsci/singlecell_neuroseq/data/data_processed/pool1_17_subsample_v0/pool1_17_subsample_v0.scanpy.h5'"
   ]
  },
  {
   "cell_type": "code",
   "execution_count": 3,
   "metadata": {},
   "outputs": [],
   "source": [
    "# file = '/nfs/leia/research/stegle/dseaton/hipsci/singlecell_neuroseq/data/data_processed/pool1_17_subsample_v1/pool1_17_subsample_v1.scanpy.w_metadata.scanpy.h5'"
   ]
  },
  {
   "cell_type": "code",
   "execution_count": 4,
   "metadata": {},
   "outputs": [],
   "source": [
    "adatafull = sc.read(file)"
   ]
  },
  {
   "cell_type": "code",
   "execution_count": 5,
   "metadata": {},
   "outputs": [
    {
     "data": {
      "text/plain": [
       "205416"
      ]
     },
     "execution_count": 5,
     "metadata": {},
     "output_type": "execute_result"
    }
   ],
   "source": [
    "adatafull.n_obs"
   ]
  },
  {
   "cell_type": "code",
   "execution_count": 8,
   "metadata": {},
   "outputs": [],
   "source": [
    "fraction = 0.25\n",
    "adata = sc.pp.subsample(adatafull, fraction, copy=True)"
   ]
  },
  {
   "cell_type": "code",
   "execution_count": 9,
   "metadata": {},
   "outputs": [
    {
     "data": {
      "text/plain": [
       "51354"
      ]
     },
     "execution_count": 9,
     "metadata": {},
     "output_type": "execute_result"
    }
   ],
   "source": [
    "adata.n_obs"
   ]
  },
  {
   "cell_type": "code",
   "execution_count": 10,
   "metadata": {},
   "outputs": [
    {
     "data": {
      "text/plain": [
       "0.05"
      ]
     },
     "execution_count": 10,
     "metadata": {},
     "output_type": "execute_result"
    }
   ],
   "source": [
    "0.2*0.25"
   ]
  },
  {
   "cell_type": "code",
   "execution_count": 18,
   "metadata": {},
   "outputs": [
    {
     "data": {
      "text/plain": [
       "51354"
      ]
     },
     "execution_count": 18,
     "metadata": {},
     "output_type": "execute_result"
    }
   ],
   "source": [
    "filename = \"/hps/nobackup/stegle/users/acuomo/all_scripts/sc_neuroseq/scanpy/5pct_subsample_raw.txt\"\n",
    "\n",
    "A = adata.X\n",
    "A.shape[0]"
   ]
  },
  {
   "cell_type": "code",
   "execution_count": 19,
   "metadata": {},
   "outputs": [],
   "source": [
    "A.maxprint = A.shape[0]*A.shape[1]\n",
    "with open(filename,\"w\") as file:\n",
    "    file.write(str(A)) \n",
    "    file.close()"
   ]
  },
  {
   "cell_type": "code",
   "execution_count": 14,
   "metadata": {},
   "outputs": [
    {
     "data": {
      "text/html": [
       "<div>\n",
       "<style scoped>\n",
       "    .dataframe tbody tr th:only-of-type {\n",
       "        vertical-align: middle;\n",
       "    }\n",
       "\n",
       "    .dataframe tbody tr th {\n",
       "        vertical-align: top;\n",
       "    }\n",
       "\n",
       "    .dataframe thead th {\n",
       "        text-align: right;\n",
       "    }\n",
       "</style>\n",
       "<table border=\"1\" class=\"dataframe\">\n",
       "  <thead>\n",
       "    <tr style=\"text-align: right;\">\n",
       "      <th></th>\n",
       "      <th>batch</th>\n",
       "      <th>donor_id</th>\n",
       "      <th>log1p_n_genes_by_counts</th>\n",
       "      <th>log1p_total_counts</th>\n",
       "      <th>log1p_total_counts_mito</th>\n",
       "      <th>n_genes_by_counts</th>\n",
       "      <th>pct_counts_in_top_100_genes</th>\n",
       "      <th>pct_counts_in_top_200_genes</th>\n",
       "      <th>pct_counts_in_top_500_genes</th>\n",
       "      <th>pct_counts_in_top_50_genes</th>\n",
       "      <th>pct_counts_mito</th>\n",
       "      <th>sample_id</th>\n",
       "      <th>total_counts</th>\n",
       "      <th>total_counts_mito</th>\n",
       "    </tr>\n",
       "    <tr>\n",
       "      <th>index</th>\n",
       "      <th></th>\n",
       "      <th></th>\n",
       "      <th></th>\n",
       "      <th></th>\n",
       "      <th></th>\n",
       "      <th></th>\n",
       "      <th></th>\n",
       "      <th></th>\n",
       "      <th></th>\n",
       "      <th></th>\n",
       "      <th></th>\n",
       "      <th></th>\n",
       "      <th></th>\n",
       "      <th></th>\n",
       "    </tr>\n",
       "  </thead>\n",
       "  <tbody>\n",
       "    <tr>\n",
       "      <th>ATCGAGTTCAAACGGG-1-60</th>\n",
       "      <td>60</td>\n",
       "      <td>HPSI0514i-fiaj_1</td>\n",
       "      <td>8.347827</td>\n",
       "      <td>9.487972</td>\n",
       "      <td>5.998937</td>\n",
       "      <td>4220</td>\n",
       "      <td>29.721949</td>\n",
       "      <td>38.366543</td>\n",
       "      <td>53.488901</td>\n",
       "      <td>22.880521</td>\n",
       "      <td>3.045685</td>\n",
       "      <td>5245STDY7631342</td>\n",
       "      <td>13199.0</td>\n",
       "      <td>402.0</td>\n",
       "    </tr>\n",
       "    <tr>\n",
       "      <th>ACCAGTAAGACCTAGG-1-81</th>\n",
       "      <td>81</td>\n",
       "      <td>HPSI0115i-aoxv_1</td>\n",
       "      <td>8.043984</td>\n",
       "      <td>9.088625</td>\n",
       "      <td>5.181784</td>\n",
       "      <td>3114</td>\n",
       "      <td>34.745284</td>\n",
       "      <td>45.882752</td>\n",
       "      <td>60.747769</td>\n",
       "      <td>24.082232</td>\n",
       "      <td>1.999322</td>\n",
       "      <td>5245STDY7654676</td>\n",
       "      <td>8853.0</td>\n",
       "      <td>177.0</td>\n",
       "    </tr>\n",
       "    <tr>\n",
       "      <th>GCTGCAGCAACCGCCA-1-46</th>\n",
       "      <td>46</td>\n",
       "      <td>HPSI0214i-poih_2</td>\n",
       "      <td>6.579251</td>\n",
       "      <td>7.176255</td>\n",
       "      <td>2.890372</td>\n",
       "      <td>719</td>\n",
       "      <td>44.070390</td>\n",
       "      <td>59.831676</td>\n",
       "      <td>83.244070</td>\n",
       "      <td>31.752104</td>\n",
       "      <td>1.300689</td>\n",
       "      <td>5245STDY7603455</td>\n",
       "      <td>1307.0</td>\n",
       "      <td>17.0</td>\n",
       "    </tr>\n",
       "    <tr>\n",
       "      <th>AACTCCCTCGACAGCC-1-66</th>\n",
       "      <td>66</td>\n",
       "      <td>HPSI0414i-mita_1</td>\n",
       "      <td>7.980024</td>\n",
       "      <td>9.723763</td>\n",
       "      <td>5.087596</td>\n",
       "      <td>2921</td>\n",
       "      <td>58.686935</td>\n",
       "      <td>68.406248</td>\n",
       "      <td>78.795859</td>\n",
       "      <td>42.617751</td>\n",
       "      <td>0.963553</td>\n",
       "      <td>5245STDY7632692</td>\n",
       "      <td>16709.0</td>\n",
       "      <td>161.0</td>\n",
       "    </tr>\n",
       "    <tr>\n",
       "      <th>CGTCCATGTAGGCTGA-1-53</th>\n",
       "      <td>53</td>\n",
       "      <td>HPSI0115i-paim_1</td>\n",
       "      <td>7.807103</td>\n",
       "      <td>9.137662</td>\n",
       "      <td>4.969813</td>\n",
       "      <td>2457</td>\n",
       "      <td>52.645730</td>\n",
       "      <td>61.916541</td>\n",
       "      <td>74.166487</td>\n",
       "      <td>38.137234</td>\n",
       "      <td>1.537965</td>\n",
       "      <td>5245STDY7631335</td>\n",
       "      <td>9298.0</td>\n",
       "      <td>143.0</td>\n",
       "    </tr>\n",
       "    <tr>\n",
       "      <th>...</th>\n",
       "      <td>...</td>\n",
       "      <td>...</td>\n",
       "      <td>...</td>\n",
       "      <td>...</td>\n",
       "      <td>...</td>\n",
       "      <td>...</td>\n",
       "      <td>...</td>\n",
       "      <td>...</td>\n",
       "      <td>...</td>\n",
       "      <td>...</td>\n",
       "      <td>...</td>\n",
       "      <td>...</td>\n",
       "      <td>...</td>\n",
       "      <td>...</td>\n",
       "    </tr>\n",
       "    <tr>\n",
       "      <th>ATAAGAGCACCGAATT-1-108</th>\n",
       "      <td>108</td>\n",
       "      <td>HPSI0215i-romx_1</td>\n",
       "      <td>8.561019</td>\n",
       "      <td>10.535610</td>\n",
       "      <td>6.672033</td>\n",
       "      <td>5223</td>\n",
       "      <td>47.282825</td>\n",
       "      <td>57.707741</td>\n",
       "      <td>70.144296</td>\n",
       "      <td>37.660440</td>\n",
       "      <td>2.096676</td>\n",
       "      <td>5245STDY7685566</td>\n",
       "      <td>37631.0</td>\n",
       "      <td>789.0</td>\n",
       "    </tr>\n",
       "    <tr>\n",
       "      <th>TACCTATCAAAGTGCG-1-42</th>\n",
       "      <td>42</td>\n",
       "      <td>HPSI0514i-qihv_1</td>\n",
       "      <td>7.865188</td>\n",
       "      <td>9.652138</td>\n",
       "      <td>4.369448</td>\n",
       "      <td>2604</td>\n",
       "      <td>61.141828</td>\n",
       "      <td>71.460718</td>\n",
       "      <td>81.316703</td>\n",
       "      <td>43.975826</td>\n",
       "      <td>0.501479</td>\n",
       "      <td>5245STDY7602377</td>\n",
       "      <td>15554.0</td>\n",
       "      <td>78.0</td>\n",
       "    </tr>\n",
       "    <tr>\n",
       "      <th>GATGCTATCCCGACTT-1-81</th>\n",
       "      <td>81</td>\n",
       "      <td>HPSI0414i-xojn_3</td>\n",
       "      <td>7.665753</td>\n",
       "      <td>8.539541</td>\n",
       "      <td>4.663439</td>\n",
       "      <td>2133</td>\n",
       "      <td>39.514867</td>\n",
       "      <td>49.569640</td>\n",
       "      <td>64.730047</td>\n",
       "      <td>30.848983</td>\n",
       "      <td>2.053991</td>\n",
       "      <td>5245STDY7654676</td>\n",
       "      <td>5112.0</td>\n",
       "      <td>105.0</td>\n",
       "    </tr>\n",
       "    <tr>\n",
       "      <th>GATGAGGGTTACGACT-1-39</th>\n",
       "      <td>39</td>\n",
       "      <td>HPSI0514i-fiaj_1</td>\n",
       "      <td>7.858641</td>\n",
       "      <td>9.281078</td>\n",
       "      <td>5.030438</td>\n",
       "      <td>2587</td>\n",
       "      <td>55.255311</td>\n",
       "      <td>64.992546</td>\n",
       "      <td>75.987700</td>\n",
       "      <td>40.048453</td>\n",
       "      <td>1.416325</td>\n",
       "      <td>5245STDY7577239</td>\n",
       "      <td>10732.0</td>\n",
       "      <td>152.0</td>\n",
       "    </tr>\n",
       "    <tr>\n",
       "      <th>ACGTCAATCAGTGTTG-1-47</th>\n",
       "      <td>47</td>\n",
       "      <td>HPSI0514i-fiaj_1</td>\n",
       "      <td>6.630683</td>\n",
       "      <td>7.195188</td>\n",
       "      <td>3.433987</td>\n",
       "      <td>757</td>\n",
       "      <td>43.843844</td>\n",
       "      <td>58.183183</td>\n",
       "      <td>80.705706</td>\n",
       "      <td>33.333333</td>\n",
       "      <td>2.252252</td>\n",
       "      <td>5245STDY7603456</td>\n",
       "      <td>1332.0</td>\n",
       "      <td>30.0</td>\n",
       "    </tr>\n",
       "  </tbody>\n",
       "</table>\n",
       "<p>51354 rows × 14 columns</p>\n",
       "</div>"
      ],
      "text/plain": [
       "                       batch          donor_id  log1p_n_genes_by_counts  \\\n",
       "index                                                                     \n",
       "ATCGAGTTCAAACGGG-1-60     60  HPSI0514i-fiaj_1                 8.347827   \n",
       "ACCAGTAAGACCTAGG-1-81     81  HPSI0115i-aoxv_1                 8.043984   \n",
       "GCTGCAGCAACCGCCA-1-46     46  HPSI0214i-poih_2                 6.579251   \n",
       "AACTCCCTCGACAGCC-1-66     66  HPSI0414i-mita_1                 7.980024   \n",
       "CGTCCATGTAGGCTGA-1-53     53  HPSI0115i-paim_1                 7.807103   \n",
       "...                      ...               ...                      ...   \n",
       "ATAAGAGCACCGAATT-1-108   108  HPSI0215i-romx_1                 8.561019   \n",
       "TACCTATCAAAGTGCG-1-42     42  HPSI0514i-qihv_1                 7.865188   \n",
       "GATGCTATCCCGACTT-1-81     81  HPSI0414i-xojn_3                 7.665753   \n",
       "GATGAGGGTTACGACT-1-39     39  HPSI0514i-fiaj_1                 7.858641   \n",
       "ACGTCAATCAGTGTTG-1-47     47  HPSI0514i-fiaj_1                 6.630683   \n",
       "\n",
       "                        log1p_total_counts  log1p_total_counts_mito  \\\n",
       "index                                                                 \n",
       "ATCGAGTTCAAACGGG-1-60             9.487972                 5.998937   \n",
       "ACCAGTAAGACCTAGG-1-81             9.088625                 5.181784   \n",
       "GCTGCAGCAACCGCCA-1-46             7.176255                 2.890372   \n",
       "AACTCCCTCGACAGCC-1-66             9.723763                 5.087596   \n",
       "CGTCCATGTAGGCTGA-1-53             9.137662                 4.969813   \n",
       "...                                    ...                      ...   \n",
       "ATAAGAGCACCGAATT-1-108           10.535610                 6.672033   \n",
       "TACCTATCAAAGTGCG-1-42             9.652138                 4.369448   \n",
       "GATGCTATCCCGACTT-1-81             8.539541                 4.663439   \n",
       "GATGAGGGTTACGACT-1-39             9.281078                 5.030438   \n",
       "ACGTCAATCAGTGTTG-1-47             7.195188                 3.433987   \n",
       "\n",
       "                        n_genes_by_counts  pct_counts_in_top_100_genes  \\\n",
       "index                                                                    \n",
       "ATCGAGTTCAAACGGG-1-60                4220                    29.721949   \n",
       "ACCAGTAAGACCTAGG-1-81                3114                    34.745284   \n",
       "GCTGCAGCAACCGCCA-1-46                 719                    44.070390   \n",
       "AACTCCCTCGACAGCC-1-66                2921                    58.686935   \n",
       "CGTCCATGTAGGCTGA-1-53                2457                    52.645730   \n",
       "...                                   ...                          ...   \n",
       "ATAAGAGCACCGAATT-1-108               5223                    47.282825   \n",
       "TACCTATCAAAGTGCG-1-42                2604                    61.141828   \n",
       "GATGCTATCCCGACTT-1-81                2133                    39.514867   \n",
       "GATGAGGGTTACGACT-1-39                2587                    55.255311   \n",
       "ACGTCAATCAGTGTTG-1-47                 757                    43.843844   \n",
       "\n",
       "                        pct_counts_in_top_200_genes  \\\n",
       "index                                                 \n",
       "ATCGAGTTCAAACGGG-1-60                     38.366543   \n",
       "ACCAGTAAGACCTAGG-1-81                     45.882752   \n",
       "GCTGCAGCAACCGCCA-1-46                     59.831676   \n",
       "AACTCCCTCGACAGCC-1-66                     68.406248   \n",
       "CGTCCATGTAGGCTGA-1-53                     61.916541   \n",
       "...                                             ...   \n",
       "ATAAGAGCACCGAATT-1-108                    57.707741   \n",
       "TACCTATCAAAGTGCG-1-42                     71.460718   \n",
       "GATGCTATCCCGACTT-1-81                     49.569640   \n",
       "GATGAGGGTTACGACT-1-39                     64.992546   \n",
       "ACGTCAATCAGTGTTG-1-47                     58.183183   \n",
       "\n",
       "                        pct_counts_in_top_500_genes  \\\n",
       "index                                                 \n",
       "ATCGAGTTCAAACGGG-1-60                     53.488901   \n",
       "ACCAGTAAGACCTAGG-1-81                     60.747769   \n",
       "GCTGCAGCAACCGCCA-1-46                     83.244070   \n",
       "AACTCCCTCGACAGCC-1-66                     78.795859   \n",
       "CGTCCATGTAGGCTGA-1-53                     74.166487   \n",
       "...                                             ...   \n",
       "ATAAGAGCACCGAATT-1-108                    70.144296   \n",
       "TACCTATCAAAGTGCG-1-42                     81.316703   \n",
       "GATGCTATCCCGACTT-1-81                     64.730047   \n",
       "GATGAGGGTTACGACT-1-39                     75.987700   \n",
       "ACGTCAATCAGTGTTG-1-47                     80.705706   \n",
       "\n",
       "                        pct_counts_in_top_50_genes  pct_counts_mito  \\\n",
       "index                                                                 \n",
       "ATCGAGTTCAAACGGG-1-60                    22.880521         3.045685   \n",
       "ACCAGTAAGACCTAGG-1-81                    24.082232         1.999322   \n",
       "GCTGCAGCAACCGCCA-1-46                    31.752104         1.300689   \n",
       "AACTCCCTCGACAGCC-1-66                    42.617751         0.963553   \n",
       "CGTCCATGTAGGCTGA-1-53                    38.137234         1.537965   \n",
       "...                                            ...              ...   \n",
       "ATAAGAGCACCGAATT-1-108                   37.660440         2.096676   \n",
       "TACCTATCAAAGTGCG-1-42                    43.975826         0.501479   \n",
       "GATGCTATCCCGACTT-1-81                    30.848983         2.053991   \n",
       "GATGAGGGTTACGACT-1-39                    40.048453         1.416325   \n",
       "ACGTCAATCAGTGTTG-1-47                    33.333333         2.252252   \n",
       "\n",
       "                              sample_id  total_counts  total_counts_mito  \n",
       "index                                                                     \n",
       "ATCGAGTTCAAACGGG-1-60   5245STDY7631342       13199.0              402.0  \n",
       "ACCAGTAAGACCTAGG-1-81   5245STDY7654676        8853.0              177.0  \n",
       "GCTGCAGCAACCGCCA-1-46   5245STDY7603455        1307.0               17.0  \n",
       "AACTCCCTCGACAGCC-1-66   5245STDY7632692       16709.0              161.0  \n",
       "CGTCCATGTAGGCTGA-1-53   5245STDY7631335        9298.0              143.0  \n",
       "...                                 ...           ...                ...  \n",
       "ATAAGAGCACCGAATT-1-108  5245STDY7685566       37631.0              789.0  \n",
       "TACCTATCAAAGTGCG-1-42   5245STDY7602377       15554.0               78.0  \n",
       "GATGCTATCCCGACTT-1-81   5245STDY7654676        5112.0              105.0  \n",
       "GATGAGGGTTACGACT-1-39   5245STDY7577239       10732.0              152.0  \n",
       "ACGTCAATCAGTGTTG-1-47   5245STDY7603456        1332.0               30.0  \n",
       "\n",
       "[51354 rows x 14 columns]"
      ]
     },
     "execution_count": 14,
     "metadata": {},
     "output_type": "execute_result"
    }
   ],
   "source": [
    "adata.obs"
   ]
  },
  {
   "cell_type": "code",
   "execution_count": 16,
   "metadata": {},
   "outputs": [],
   "source": [
    "adata.obs.to_csv(\"/hps/nobackup/stegle/users/acuomo/all_scripts/sc_neuroseq/scanpy/5pct_subsample_raw_metadata.txt\",sep = \"\\t\")"
   ]
  },
  {
   "cell_type": "code",
   "execution_count": null,
   "metadata": {},
   "outputs": [],
   "source": []
  }
 ],
 "metadata": {
  "kernelspec": {
   "display_name": "Python 3",
   "language": "python",
   "name": "python3"
  },
  "language_info": {
   "codemirror_mode": {
    "name": "ipython",
    "version": 3
   },
   "file_extension": ".py",
   "mimetype": "text/x-python",
   "name": "python",
   "nbconvert_exporter": "python",
   "pygments_lexer": "ipython3",
   "version": "3.7.6"
  }
 },
 "nbformat": 4,
 "nbformat_minor": 4
}
