{
 "cells": [
  {
   "cell_type": "code",
   "execution_count": 1,
   "metadata": {},
   "outputs": [],
   "source": [
    "import numpy as np\n",
    "import pandas as pd\n",
    "import os\n",
    "import shutil\n",
    "import sklearn.decomposition\n",
    "# import qtl_config_utils\n",
    "import sys"
   ]
  },
  {
   "cell_type": "code",
   "execution_count": 2,
   "metadata": {},
   "outputs": [],
   "source": [
    "# outdir = \"/hps/nobackup/stegle/users/acuomo/all_scripts/sc_neuroseq/eqtl/timepoint_D52/input_files_untreated/celltype_DA/\"\n",
    "# outdir = \"/hps/nobackup/stegle/users/acuomo/all_scripts/sc_neuroseq/eqtl/timepoint_D52/input_files_untreated/celltype_Sert/\"\n",
    "# outdir = \"/hps/nobackup/stegle/users/acuomo/all_scripts/sc_neuroseq/eqtl/timepoint_D52/input_files_untreated/celltype_Epen1/\"\n",
    "# outdir = \"/hps/nobackup/stegle/users/acuomo/all_scripts/sc_neuroseq/eqtl/timepoint_D52/input_files_untreated/celltype_Astro/\""
   ]
  },
  {
   "cell_type": "code",
   "execution_count": 3,
   "metadata": {},
   "outputs": [],
   "source": [
    "outdir = \"/hps/nobackup/stegle/users/acuomo/all_scripts/sc_neuroseq/eqtl/timepoint_D52/input_files_ROT_treated/celltype_DA/\"\n",
    "# outdir = \"/hps/nobackup/stegle/users/acuomo/all_scripts/sc_neuroseq/eqtl/timepoint_D52/input_files_ROT_treated/celltype_Sert/\"\n",
    "# outdir = \"/hps/nobackup/stegle/users/acuomo/all_scripts/sc_neuroseq/eqtl/timepoint_D52/input_files_ROT_treated/celltype_Epen1/\"\n",
    "# outdir = \"/hps/nobackup/stegle/users/acuomo/all_scripts/sc_neuroseq/eqtl/timepoint_D52/input_files_ROT_treated/celltype_Astro/\""
   ]
  },
  {
   "cell_type": "code",
   "execution_count": 4,
   "metadata": {},
   "outputs": [],
   "source": [
    "# general set up\n",
    "genotypes_file = '/hps/nobackup/hipsci/scratch/genotypes/imputed/REL-2018-01/Full_Filtered_Plink-f/hipsci.wec.gtarray.HumanCoreExome.imputed_phased.20170327.genotypes.norm.renamed.recode.filtered'\n",
    "kinship_file = '/hps/nobackup/hipsci/scratch/genotypes/imputed/REL-2018-01/Full_Filtered_Plink-f/hipsci.wec.gtarray.HumanCoreExome.imputed_phased.20170327.genotypes.norm.renamed.recode.filtered.rel'\n",
    "annotation_file = '/hps/nobackup/hipsci/scratch/singlecell_endodiff/data_processed/scQTLs/annos/ensembl_gene_id_annos.tsv'\n",
    "#annotation_file = '/hps/nobackup/hipsci/scratch/singlecell_endodiff/data_processed/scQTLs/annos/hgnc_symbol_annos.tsv'\n",
    "chunk_file = '/nfs/leia/research/stegle/mjbonder/ChunkFiles/Ensembl_75_Limix_Annotation_FC_Gene_step100.txt'\n",
    "n_pcs = 15\n",
    "base_dir = '/hps/nobackup/stegle/users/acuomo/all_scripts/sc_neuroseq/eqtl/timepoint_D52/'"
   ]
  },
  {
   "cell_type": "code",
   "execution_count": 5,
   "metadata": {},
   "outputs": [],
   "source": [
    "sample_mapping_file = os.path.join(outdir, 'samplemapping.tsv')\n",
    "phenotype_file = os.path.join(outdir, 'phenotypes.tsv')\n",
    "covariates_file = os.path.join(outdir, 'covariates.tsv')\n",
    "noise_matrix_file = os.path.join(outdir, 'noise_matrix.tsv')\n",
    "# config_file = os.path.join(outdir, 'qtl_config.yaml')"
   ]
  },
  {
   "cell_type": "code",
   "execution_count": 6,
   "metadata": {},
   "outputs": [],
   "source": [
    "# eQTL discovery parameters\n",
    "#number of top expressed genes to test\n",
    "n_genes = 50000"
   ]
  },
  {
   "cell_type": "code",
   "execution_count": 7,
   "metadata": {},
   "outputs": [],
   "source": [
    "if not os.path.exists(outdir):\n",
    "    os.makedirs(outdir, exist_ok=True)"
   ]
  },
  {
   "cell_type": "code",
   "execution_count": 8,
   "metadata": {},
   "outputs": [],
   "source": [
    "mydir = '/nfs/leia/research/stegle/dseaton/hipsci/singlecell_neuroseq/data/data_processed/'\n",
    "\n",
    "# ## DA\n",
    "D52 = 'pool1_17_D52/pool1_17_D52.scanpy.w_metadata.w_celltype.scanpy.celltype.DA.groupedby.donor_id-celltype-treatment.mean.tsv'\n",
    "\n",
    "# ## Sert\n",
    "# D52 = 'pool1_17_D52/pool1_17_D52.scanpy.w_metadata.w_celltype.scanpy.celltype.Sert.groupedby.donor_id-celltype-treatment.mean.tsv'\n",
    "\n",
    "# ## Epen1\n",
    "# D52 = 'pool1_17_D52/pool1_17_D52.scanpy.w_metadata.w_celltype.scanpy.celltype.Epen1.groupedby.donor_id-celltype-treatment.mean.tsv'\n",
    "\n",
    "## Astro\n",
    "# D52 = 'pool1_17_D52/pool1_17_D52.scanpy.w_metadata.w_celltype.scanpy.celltype.Astro.groupedby.donor_id-celltype-treatment.mean.tsv'"
   ]
  },
  {
   "cell_type": "code",
   "execution_count": 9,
   "metadata": {},
   "outputs": [],
   "source": [
    "phenotype_input_file = mydir + D52"
   ]
  },
  {
   "cell_type": "code",
   "execution_count": 10,
   "metadata": {},
   "outputs": [],
   "source": [
    "# phenotype_input_file = sys.argv[1]\n",
    "# outdir = sys.argv[2]\n",
    "# if len(sys.argv)>=4:\n",
    "#     subset_field = sys.argv[3]\n",
    "#     selected_subset = sys.argv[4]\n",
    "# else:\n",
    "#     subset_field = None\n",
    "#     selected_subset = None"
   ]
  },
  {
   "cell_type": "code",
   "execution_count": 11,
   "metadata": {},
   "outputs": [],
   "source": [
    "#load map HGNC to ensembl\n",
    "mapping_df = pd.read_csv('/nfs/leia/research/stegle/dseaton/genomes/hg19/annotation/geneid_mappings/hgnc_symbol2ensembl_gene_id.txt', sep='\\t')"
   ]
  },
  {
   "cell_type": "code",
   "execution_count": 12,
   "metadata": {},
   "outputs": [],
   "source": [
    "# process phenotype dataframe (untreated/untreated)\n",
    "groupedby_df = pd.read_csv(phenotype_input_file, sep='\\t')\n",
    "# groupedby_df = groupedby_df.query('treatment==\"NONE\"')\n",
    "groupedby_df = groupedby_df.query('treatment==\"ROT\"')"
   ]
  },
  {
   "cell_type": "code",
   "execution_count": 13,
   "metadata": {},
   "outputs": [],
   "source": [
    "# #subset columns\n",
    "# if selected_subset is not None:\n",
    "#     phenotype_df = groupedby_df.query('{}==@selected_subset'.format(subset_field))\n",
    "# else:\n",
    "#     phenotype_df = groupedby_df.copy()"
   ]
  },
  {
   "cell_type": "code",
   "execution_count": 14,
   "metadata": {},
   "outputs": [],
   "source": [
    "phenotype_df = groupedby_df.copy()"
   ]
  },
  {
   "cell_type": "code",
   "execution_count": 15,
   "metadata": {},
   "outputs": [],
   "source": [
    "# should only be cells from one celltype\n",
    "assert(len(phenotype_df['celltype'].drop_duplicates())==1)"
   ]
  },
  {
   "cell_type": "code",
   "execution_count": 16,
   "metadata": {},
   "outputs": [],
   "source": [
    "#create merged index\n",
    "phenotype_df['index'] = phenotype_df['donor_id']\n",
    "cell_count_ds = phenotype_df['n_cells']\n",
    "cell_count_ds.index = phenotype_df['index'].tolist()"
   ]
  },
  {
   "cell_type": "code",
   "execution_count": 17,
   "metadata": {},
   "outputs": [],
   "source": [
    "#take donor and pool cols for samplemapping df\n",
    "samplemapping_df = phenotype_df[['donor_id','index']]\n",
    "samplemapping_df.to_csv(sample_mapping_file, sep='\\t', index=False, header=False)"
   ]
  },
  {
   "cell_type": "code",
   "execution_count": 18,
   "metadata": {},
   "outputs": [],
   "source": [
    "#reorganise to just be expression data indexed by the merged index\n",
    "cols_to_drop = list(set(phenotype_df.columns) & {'donor_id','celltype','n_cells','treatment','pool_id'})\n",
    "phenotype_df = phenotype_df.drop(cols_to_drop, axis=1).set_index('index')\n",
    "phenotype_df = phenotype_df.transpose()"
   ]
  },
  {
   "cell_type": "code",
   "execution_count": 19,
   "metadata": {},
   "outputs": [],
   "source": [
    "#number of top expressed genes\n",
    "selected_genes = list(phenotype_df.mean(axis=1).nlargest(n_genes).index)\n",
    "phenotype_df = phenotype_df.loc[selected_genes, :]"
   ]
  },
  {
   "cell_type": "code",
   "execution_count": 20,
   "metadata": {},
   "outputs": [],
   "source": [
    "phenotype_list = phenotype_df.index\n",
    "mapping_df = mapping_df.query('hgnc_symbol in @phenotype_list')\n",
    "mapping_df = mapping_df.drop_duplicates(subset=['hgnc_symbol'])\n",
    "mapping_df = mapping_df.set_index('hgnc_symbol')"
   ]
  },
  {
   "cell_type": "code",
   "execution_count": 21,
   "metadata": {},
   "outputs": [],
   "source": [
    "# limit only to hgnc symbols that map to ensembl gene IDs\n",
    "phenotype_df = phenotype_df.loc[mapping_df.index,:]\n",
    "phenotype_df.index = mapping_df['ensembl_gene_id']"
   ]
  },
  {
   "cell_type": "code",
   "execution_count": 22,
   "metadata": {},
   "outputs": [],
   "source": [
    "phenotype_df.to_csv(phenotype_file, sep='\\t')"
   ]
  },
  {
   "cell_type": "code",
   "execution_count": 23,
   "metadata": {},
   "outputs": [],
   "source": [
    "pc_mat = sklearn.decomposition.PCA(n_components=n_pcs).fit_transform(phenotype_df.values.transpose())\n",
    "pc_df = pd.DataFrame(data=pc_mat, index=phenotype_df.columns, columns=['PC{}'.format(x) for x in range(1,n_pcs+1)])\n",
    "\n",
    "pc_df.to_csv(covariates_file, sep='\\t')"
   ]
  },
  {
   "cell_type": "code",
   "execution_count": 24,
   "metadata": {},
   "outputs": [],
   "source": [
    "noise_scaling_vector = [1/float(x) for x in cell_count_ds.tolist()]\n",
    "noise_matrix = np.diag(noise_scaling_vector)\n",
    "noise_matrix_df = pd.DataFrame(data=noise_matrix, index=cell_count_ds.index, columns=cell_count_ds.index)"
   ]
  },
  {
   "cell_type": "code",
   "execution_count": 25,
   "metadata": {},
   "outputs": [],
   "source": [
    "noise_matrix_df.to_csv(noise_matrix_file, sep='\\t')\n",
    "kinship_file = noise_matrix_file"
   ]
  },
  {
   "cell_type": "code",
   "execution_count": null,
   "metadata": {},
   "outputs": [],
   "source": [
    "number_of_permutations = '1000'\n",
    "minor_allele_frequency = '0.05'\n",
    "hwe = '0.000001'\n",
    "call_rate = '1'\n",
    "window_size = '250000'\n",
    "block_size = '15000'\n",
    "\n",
    "\n",
    "config_dict = {'af': annotation_file,\n",
    "               'pf': phenotype_file,\n",
    "               'cf': covariates_file,\n",
    "               'kf': kinship_file,\n",
    "               'smf': sample_mapping_file,\n",
    "               'plink': genotypes_file,\n",
    "               'maf': minor_allele_frequency,\n",
    "               'hwe': hwe,\n",
    "               'np': number_of_permutations,\n",
    "               'cr': call_rate,\n",
    "               'w': window_size,\n",
    "               'bs': block_size,\n",
    "               'chunk_file': chunk_file\n",
    "}\n",
    "\n",
    "# write config to a file\n",
    "qtl_config_utils.write_config(config_dict, config_file)"
   ]
  },
  {
   "cell_type": "code",
   "execution_count": null,
   "metadata": {},
   "outputs": [],
   "source": []
  }
 ],
 "metadata": {
  "kernelspec": {
   "display_name": "Python 3",
   "language": "python",
   "name": "python3"
  },
  "language_info": {
   "codemirror_mode": {
    "name": "ipython",
    "version": 3
   },
   "file_extension": ".py",
   "mimetype": "text/x-python",
   "name": "python",
   "nbconvert_exporter": "python",
   "pygments_lexer": "ipython3",
   "version": "3.7.6"
  }
 },
 "nbformat": 4,
 "nbformat_minor": 2
}
