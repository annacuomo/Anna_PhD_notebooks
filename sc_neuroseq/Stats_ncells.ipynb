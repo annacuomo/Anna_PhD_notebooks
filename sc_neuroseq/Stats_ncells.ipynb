{
 "cells": [
  {
   "cell_type": "code",
   "execution_count": 10,
   "metadata": {},
   "outputs": [],
   "source": [
    "mydir = \"/nfs/leia/research/stegle/dseaton/hipsci/singlecell_neuroseq/data/data_processed/pool1_13_noddd_D11/\"\n",
    "mysuffix = \"pool1_13_noddd_D11.scanpy.w_metadata.scanpy.obs_df.groupedby.donor_id-pool_id-time_point.celltype_counts.tsv\""
   ]
  },
  {
   "cell_type": "code",
   "execution_count": 7,
   "metadata": {},
   "outputs": [],
   "source": [
    "mydir = \"/nfs/leia/research/stegle/dseaton/hipsci/singlecell_neuroseq/data/data_processed/pool1_13_noddd_D30/\"\n",
    "mysuffix = \"pool1_13_noddd_D30.scanpy.w_metadata.w_celltype.scanpy.obs_df.groupedby.donor_id-pool_id-time_point.celltype_counts.tsv\""
   ]
  },
  {
   "cell_type": "code",
   "execution_count": 4,
   "metadata": {},
   "outputs": [],
   "source": [
    "mydir = \"/nfs/leia/research/stegle/dseaton/hipsci/singlecell_neuroseq/data/data_processed/pool1_17_D52/\"\n",
    "mysuffix = \"pool1_17_D52.scanpy.w_metadata.w_celltype.scanpy.obs_df.groupedby.donor_id-pool_id-time_point.celltype_counts.tsv\""
   ]
  },
  {
   "cell_type": "code",
   "execution_count": 11,
   "metadata": {},
   "outputs": [
    {
     "data": {
      "text/html": [
       "<table>\n",
       "<caption>A data.frame: 6 × 5</caption>\n",
       "<thead>\n",
       "\t<tr><th scope=col>donor_id</th><th scope=col>pool_id</th><th scope=col>time_point</th><th scope=col>cluster_id</th><th scope=col>n_cells</th></tr>\n",
       "\t<tr><th scope=col>&lt;fct&gt;</th><th scope=col>&lt;fct&gt;</th><th scope=col>&lt;fct&gt;</th><th scope=col>&lt;int&gt;</th><th scope=col>&lt;int&gt;</th></tr>\n",
       "</thead>\n",
       "<tbody>\n",
       "\t<tr><td>HPSI0114i-eipl_1</td><td>pool1 </td><td>D11</td><td>0</td><td>1660</td></tr>\n",
       "\t<tr><td>HPSI0114i-eipl_1</td><td>pool1 </td><td>D11</td><td>1</td><td> 906</td></tr>\n",
       "\t<tr><td>HPSI0114i-eipl_1</td><td>pool1 </td><td>D11</td><td>2</td><td> 311</td></tr>\n",
       "\t<tr><td>HPSI0114i-eipl_1</td><td>pool1 </td><td>D11</td><td>3</td><td> 228</td></tr>\n",
       "\t<tr><td>HPSI0114i-eipl_1</td><td>pool1 </td><td>D11</td><td>5</td><td>  12</td></tr>\n",
       "\t<tr><td>HPSI0114i-kolf_2</td><td>pool12</td><td>D11</td><td>0</td><td> 332</td></tr>\n",
       "</tbody>\n",
       "</table>\n"
      ],
      "text/latex": [
       "A data.frame: 6 × 5\n",
       "\\begin{tabular}{r|lllll}\n",
       " donor\\_id & pool\\_id & time\\_point & cluster\\_id & n\\_cells\\\\\n",
       " <fct> & <fct> & <fct> & <int> & <int>\\\\\n",
       "\\hline\n",
       "\t HPSI0114i-eipl\\_1 & pool1  & D11 & 0 & 1660\\\\\n",
       "\t HPSI0114i-eipl\\_1 & pool1  & D11 & 1 &  906\\\\\n",
       "\t HPSI0114i-eipl\\_1 & pool1  & D11 & 2 &  311\\\\\n",
       "\t HPSI0114i-eipl\\_1 & pool1  & D11 & 3 &  228\\\\\n",
       "\t HPSI0114i-eipl\\_1 & pool1  & D11 & 5 &   12\\\\\n",
       "\t HPSI0114i-kolf\\_2 & pool12 & D11 & 0 &  332\\\\\n",
       "\\end{tabular}\n"
      ],
      "text/markdown": [
       "\n",
       "A data.frame: 6 × 5\n",
       "\n",
       "| donor_id &lt;fct&gt; | pool_id &lt;fct&gt; | time_point &lt;fct&gt; | cluster_id &lt;int&gt; | n_cells &lt;int&gt; |\n",
       "|---|---|---|---|---|\n",
       "| HPSI0114i-eipl_1 | pool1  | D11 | 0 | 1660 |\n",
       "| HPSI0114i-eipl_1 | pool1  | D11 | 1 |  906 |\n",
       "| HPSI0114i-eipl_1 | pool1  | D11 | 2 |  311 |\n",
       "| HPSI0114i-eipl_1 | pool1  | D11 | 3 |  228 |\n",
       "| HPSI0114i-eipl_1 | pool1  | D11 | 5 |   12 |\n",
       "| HPSI0114i-kolf_2 | pool12 | D11 | 0 |  332 |\n",
       "\n"
      ],
      "text/plain": [
       "  donor_id         pool_id time_point cluster_id n_cells\n",
       "1 HPSI0114i-eipl_1 pool1   D11        0          1660   \n",
       "2 HPSI0114i-eipl_1 pool1   D11        1           906   \n",
       "3 HPSI0114i-eipl_1 pool1   D11        2           311   \n",
       "4 HPSI0114i-eipl_1 pool1   D11        3           228   \n",
       "5 HPSI0114i-eipl_1 pool1   D11        5            12   \n",
       "6 HPSI0114i-kolf_2 pool12  D11        0           332   "
      ]
     },
     "metadata": {},
     "output_type": "display_data"
    }
   ],
   "source": [
    "myfilename = paste0(mydir,mysuffix)\n",
    "myfile = read.table(myfilename, header = T)\n",
    "head(myfile)"
   ]
  },
  {
   "cell_type": "code",
   "execution_count": 12,
   "metadata": {},
   "outputs": [
    {
     "data": {
      "text/html": [
       "177"
      ],
      "text/latex": [
       "177"
      ],
      "text/markdown": [
       "177"
      ],
      "text/plain": [
       "[1] 177"
      ]
     },
     "metadata": {},
     "output_type": "display_data"
    }
   ],
   "source": [
    "donors_D11 = unique(myfile$donor_id)\n",
    "length(donors_D11)"
   ]
  },
  {
   "cell_type": "code",
   "execution_count": 9,
   "metadata": {},
   "outputs": [
    {
     "data": {
      "text/html": [
       "175"
      ],
      "text/latex": [
       "175"
      ],
      "text/markdown": [
       "175"
      ],
      "text/plain": [
       "[1] 175"
      ]
     },
     "metadata": {},
     "output_type": "display_data"
    }
   ],
   "source": [
    "donors_D30 = unique(myfile$donor_id)\n",
    "length(donors_D30)"
   ]
  },
  {
   "cell_type": "code",
   "execution_count": 6,
   "metadata": {},
   "outputs": [
    {
     "data": {
      "text/html": [
       "199"
      ],
      "text/latex": [
       "199"
      ],
      "text/markdown": [
       "199"
      ],
      "text/plain": [
       "[1] 199"
      ]
     },
     "metadata": {},
     "output_type": "display_data"
    }
   ],
   "source": [
    "donors_D52 = unique(myfile$donor_id)\n",
    "length(donors_D52)"
   ]
  },
  {
   "cell_type": "code",
   "execution_count": 13,
   "metadata": {},
   "outputs": [],
   "source": [
    "samples_D11 = matrix(donors_D11, nrow = length(donors_D11), ncol = 1)\n",
    "samples_D30 = matrix(donors_D30, nrow = length(donors_D30), ncol = 1)\n",
    "samples_D52 = matrix(donors_D52, nrow = length(donors_D52), ncol = 1)"
   ]
  },
  {
   "cell_type": "code",
   "execution_count": 34,
   "metadata": {},
   "outputs": [],
   "source": [
    "write.table(samples_D11, \"/hps/nobackup/stegle/users/acuomo/all_scripts/sc_neuroseq/donors_D11.txt\", quote = F, row.names = F,col.names = F)\n",
    "write.table(samples_D30, \"/hps/nobackup/stegle/users/acuomo/all_scripts/sc_neuroseq/donors_D30.txt\", quote = F, row.names = F,col.names = F)\n",
    "write.table(samples_D52, \"/hps/nobackup/stegle/users/acuomo/all_scripts/sc_neuroseq/donors_D52.txt\", quote = F, row.names = F,col.names = F)"
   ]
  },
  {
   "cell_type": "code",
   "execution_count": 24,
   "metadata": {},
   "outputs": [
    {
     "data": {
      "text/html": [
       "'integer'"
      ],
      "text/latex": [
       "'integer'"
      ],
      "text/markdown": [
       "'integer'"
      ],
      "text/plain": [
       "[1] \"integer\""
      ]
     },
     "metadata": {},
     "output_type": "display_data"
    }
   ],
   "source": [
    "typeof(donors_D11)"
   ]
  },
  {
   "cell_type": "code",
   "execution_count": 18,
   "metadata": {},
   "outputs": [
    {
     "data": {
      "text/html": [
       "1"
      ],
      "text/latex": [
       "1"
      ],
      "text/markdown": [
       "1"
      ],
      "text/plain": [
       "[1] 1"
      ]
     },
     "metadata": {},
     "output_type": "display_data"
    }
   ],
   "source": [
    "donors"
   ]
  },
  {
   "cell_type": "code",
   "execution_count": 31,
   "metadata": {},
   "outputs": [],
   "source": [
    "samples_neuroseq = matrix(donors, nrow = length(donors), ncol = 1)"
   ]
  },
  {
   "cell_type": "code",
   "execution_count": 33,
   "metadata": {},
   "outputs": [],
   "source": [
    "write.table(samples_neuroseq, \"/hps/nobackup/stegle/users/acuomo/all_scripts/sc_neuroseq/all_donors.txt\", quote = F, row.names = F,col.names = F)"
   ]
  },
  {
   "cell_type": "code",
   "execution_count": null,
   "metadata": {},
   "outputs": [],
   "source": []
  },
  {
   "cell_type": "code",
   "execution_count": null,
   "metadata": {},
   "outputs": [],
   "source": []
  },
  {
   "cell_type": "code",
   "execution_count": 16,
   "metadata": {},
   "outputs": [],
   "source": [
    "# library(dplyr)"
   ]
  },
  {
   "cell_type": "code",
   "execution_count": 24,
   "metadata": {},
   "outputs": [
    {
     "data": {
      "text/html": [
       "<table>\n",
       "<caption>A grouped_df: 2 × 3</caption>\n",
       "<thead>\n",
       "\t<tr><th scope=col>donor_id</th><th scope=col>cluster_id</th><th scope=col>ncells</th></tr>\n",
       "\t<tr><th scope=col>&lt;chr&gt;</th><th scope=col>&lt;int&gt;</th><th scope=col>&lt;int&gt;</th></tr>\n",
       "</thead>\n",
       "<tbody>\n",
       "\t<tr><td>HPSI0514i-fiaj_1</td><td>0</td><td>5661</td></tr>\n",
       "\t<tr><td>HPSI0414i-mita_1</td><td>0</td><td>7690</td></tr>\n",
       "</tbody>\n",
       "</table>\n"
      ],
      "text/latex": [
       "A grouped_df: 2 × 3\n",
       "\\begin{tabular}{r|lll}\n",
       " donor\\_id & cluster\\_id & ncells\\\\\n",
       " <chr> & <int> & <int>\\\\\n",
       "\\hline\n",
       "\t HPSI0514i-fiaj\\_1 & 0 & 5661\\\\\n",
       "\t HPSI0414i-mita\\_1 & 0 & 7690\\\\\n",
       "\\end{tabular}\n"
      ],
      "text/markdown": [
       "\n",
       "A grouped_df: 2 × 3\n",
       "\n",
       "| donor_id &lt;chr&gt; | cluster_id &lt;int&gt; | ncells &lt;int&gt; |\n",
       "|---|---|---|\n",
       "| HPSI0514i-fiaj_1 | 0 | 5661 |\n",
       "| HPSI0414i-mita_1 | 0 | 7690 |\n",
       "\n"
      ],
      "text/plain": [
       "  donor_id         cluster_id ncells\n",
       "1 HPSI0514i-fiaj_1 0          5661  \n",
       "2 HPSI0414i-mita_1 0          7690  "
      ]
     },
     "metadata": {},
     "output_type": "display_data"
    }
   ],
   "source": [
    "df = myfile %>% group_by(donor_id,cluster_id) %>% summarise(ncells = sum(n_cells))\n",
    "df = df[order(df$ncells),]\n",
    "tail(df,2)"
   ]
  },
  {
   "cell_type": "code",
   "execution_count": 29,
   "metadata": {},
   "outputs": [
    {
     "data": {
      "text/html": [
       "<table>\n",
       "<caption>A grouped_df: 2 × 3</caption>\n",
       "<thead>\n",
       "\t<tr><th scope=col>donor_id</th><th scope=col>celltype</th><th scope=col>ncells</th></tr>\n",
       "\t<tr><th scope=col>&lt;chr&gt;</th><th scope=col>&lt;chr&gt;</th><th scope=col>&lt;int&gt;</th></tr>\n",
       "</thead>\n",
       "<tbody>\n",
       "\t<tr><td>HPSI0514i-fiaj_1</td><td>Astro</td><td>4087</td></tr>\n",
       "\t<tr><td>HPSI0414i-mita_1</td><td>Astro</td><td>7486</td></tr>\n",
       "</tbody>\n",
       "</table>\n"
      ],
      "text/latex": [
       "A grouped_df: 2 × 3\n",
       "\\begin{tabular}{r|lll}\n",
       " donor\\_id & celltype & ncells\\\\\n",
       " <chr> & <chr> & <int>\\\\\n",
       "\\hline\n",
       "\t HPSI0514i-fiaj\\_1 & Astro & 4087\\\\\n",
       "\t HPSI0414i-mita\\_1 & Astro & 7486\\\\\n",
       "\\end{tabular}\n"
      ],
      "text/markdown": [
       "\n",
       "A grouped_df: 2 × 3\n",
       "\n",
       "| donor_id &lt;chr&gt; | celltype &lt;chr&gt; | ncells &lt;int&gt; |\n",
       "|---|---|---|\n",
       "| HPSI0514i-fiaj_1 | Astro | 4087 |\n",
       "| HPSI0414i-mita_1 | Astro | 7486 |\n",
       "\n"
      ],
      "text/plain": [
       "  donor_id         celltype ncells\n",
       "1 HPSI0514i-fiaj_1 Astro    4087  \n",
       "2 HPSI0414i-mita_1 Astro    7486  "
      ]
     },
     "metadata": {},
     "output_type": "display_data"
    }
   ],
   "source": [
    "df = myfile %>% group_by(donor_id,celltype) %>% summarise(ncells = sum(n_cells))\n",
    "df = df[order(df$ncells),]\n",
    "tail(df,2)"
   ]
  },
  {
   "cell_type": "code",
   "execution_count": 15,
   "metadata": {},
   "outputs": [
    {
     "data": {
      "text/html": [
       "<table>\n",
       "<caption>A grouped_df: 6 × 3</caption>\n",
       "<thead>\n",
       "\t<tr><th scope=col>donor_id</th><th scope=col>celltype</th><th scope=col>ncells</th></tr>\n",
       "\t<tr><th scope=col>&lt;chr&gt;</th><th scope=col>&lt;chr&gt;</th><th scope=col>&lt;int&gt;</th></tr>\n",
       "</thead>\n",
       "<tbody>\n",
       "\t<tr><td>HPSI1014i-quls_2</td><td>Astro</td><td> 7971</td></tr>\n",
       "\t<tr><td>HPSI0614i-uevq_6</td><td>Astro</td><td> 9614</td></tr>\n",
       "\t<tr><td>HPSI0414i-mita_1</td><td>Epen1</td><td>11893</td></tr>\n",
       "\t<tr><td>HPSI0215i-zett_5</td><td>Sert </td><td>12088</td></tr>\n",
       "\t<tr><td>HPSI0114i-eipl_1</td><td>Astro</td><td>13277</td></tr>\n",
       "\t<tr><td>HPSI0514i-fiaj_1</td><td>Astro</td><td>14614</td></tr>\n",
       "</tbody>\n",
       "</table>\n"
      ],
      "text/latex": [
       "A grouped_df: 6 × 3\n",
       "\\begin{tabular}{r|lll}\n",
       " donor\\_id & celltype & ncells\\\\\n",
       " <chr> & <chr> & <int>\\\\\n",
       "\\hline\n",
       "\t HPSI1014i-quls\\_2 & Astro &  7971\\\\\n",
       "\t HPSI0614i-uevq\\_6 & Astro &  9614\\\\\n",
       "\t HPSI0414i-mita\\_1 & Epen1 & 11893\\\\\n",
       "\t HPSI0215i-zett\\_5 & Sert  & 12088\\\\\n",
       "\t HPSI0114i-eipl\\_1 & Astro & 13277\\\\\n",
       "\t HPSI0514i-fiaj\\_1 & Astro & 14614\\\\\n",
       "\\end{tabular}\n"
      ],
      "text/markdown": [
       "\n",
       "A grouped_df: 6 × 3\n",
       "\n",
       "| donor_id &lt;chr&gt; | celltype &lt;chr&gt; | ncells &lt;int&gt; |\n",
       "|---|---|---|\n",
       "| HPSI1014i-quls_2 | Astro |  7971 |\n",
       "| HPSI0614i-uevq_6 | Astro |  9614 |\n",
       "| HPSI0414i-mita_1 | Epen1 | 11893 |\n",
       "| HPSI0215i-zett_5 | Sert  | 12088 |\n",
       "| HPSI0114i-eipl_1 | Astro | 13277 |\n",
       "| HPSI0514i-fiaj_1 | Astro | 14614 |\n",
       "\n"
      ],
      "text/plain": [
       "  donor_id         celltype ncells\n",
       "1 HPSI1014i-quls_2 Astro     7971 \n",
       "2 HPSI0614i-uevq_6 Astro     9614 \n",
       "3 HPSI0414i-mita_1 Epen1    11893 \n",
       "4 HPSI0215i-zett_5 Sert     12088 \n",
       "5 HPSI0114i-eipl_1 Astro    13277 \n",
       "6 HPSI0514i-fiaj_1 Astro    14614 "
      ]
     },
     "metadata": {},
     "output_type": "display_data"
    }
   ],
   "source": [
    "df = myfile %>% group_by(donor_id,celltype) %>% summarise(ncells = sum(n_cells))\n",
    "df = df[order(df$ncells),]\n",
    "tail(df,2)"
   ]
  },
  {
   "cell_type": "code",
   "execution_count": null,
   "metadata": {},
   "outputs": [],
   "source": []
  }
 ],
 "metadata": {
  "kernelspec": {
   "display_name": "R",
   "language": "R",
   "name": "ir"
  },
  "language_info": {
   "codemirror_mode": "r",
   "file_extension": ".r",
   "mimetype": "text/x-r-source",
   "name": "R",
   "pygments_lexer": "r",
   "version": "3.6.1"
  }
 },
 "nbformat": 4,
 "nbformat_minor": 2
}
