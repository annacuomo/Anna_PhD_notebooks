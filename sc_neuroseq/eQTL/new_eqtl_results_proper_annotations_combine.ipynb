{
 "cells": [
  {
   "cell_type": "code",
   "execution_count": 83,
   "metadata": {},
   "outputs": [],
   "source": [
    "library(qvalue)"
   ]
  },
  {
   "cell_type": "code",
   "execution_count": 84,
   "metadata": {},
   "outputs": [],
   "source": [
    "######### Day 11\n",
    "## D11\n",
    "day11_folder = \"/nfs/leia/research/stegle/dseaton/hipsci/singlecell_neuroseq/data/data_processed/pool1_13_noddd_D11/\""
   ]
  },
  {
   "cell_type": "code",
   "execution_count": 85,
   "metadata": {},
   "outputs": [
    {
     "data": {
      "text/html": [
       "<ol class=list-inline>\n",
       "\t<li>11509</li>\n",
       "\t<li>1969</li>\n",
       "\t<li>2560</li>\n",
       "</ol>\n"
      ],
      "text/latex": [
       "\\begin{enumerate*}\n",
       "\\item 11509\n",
       "\\item 1969\n",
       "\\item 2560\n",
       "\\end{enumerate*}\n"
      ],
      "text/markdown": [
       "1. 11509\n",
       "2. 1969\n",
       "3. 2560\n",
       "\n",
       "\n"
      ],
      "text/plain": [
       "[1] 11509  1969  2560"
      ]
     },
     "metadata": {},
     "output_type": "display_data"
    }
   ],
   "source": [
    "# FPP\n",
    "myfile = paste0(day11_folder,\"qtl_analysis/eqtl_discovery/celltype_FPP/top_qtl_results_all.txt\")\n",
    "df = read.csv(myfile,sep=\"\\t\")\n",
    "df <- df[-which(duplicated(df$feature_id)),]\n",
    "df$BH_fdr = p.adjust(df$empirical_feature_p_value, method = \"BH\")\n",
    "df$q_value = qvalue(df$empirical_feature_p_value)$qvalues\n",
    "c(nrow(df),nrow(df[df$BH_fdr < 0.05,]),nrow(df[df$q_value < 0.05,]))"
   ]
  },
  {
   "cell_type": "code",
   "execution_count": 86,
   "metadata": {},
   "outputs": [
    {
     "data": {
      "text/html": [
       "2560"
      ],
      "text/latex": [
       "2560"
      ],
      "text/markdown": [
       "2560"
      ],
      "text/plain": [
       "[1] 2560"
      ]
     },
     "metadata": {},
     "output_type": "display_data"
    },
    {
     "data": {
      "text/html": [
       "1969"
      ],
      "text/latex": [
       "1969"
      ],
      "text/markdown": [
       "1969"
      ],
      "text/plain": [
       "[1] 1969"
      ]
     },
     "metadata": {},
     "output_type": "display_data"
    }
   ],
   "source": [
    "df1 = df[df$q_value < 0.05,]\n",
    "df1$label = \"FPP_D11\"\n",
    "leads_storey = df1\n",
    "df1 = df[df$BH_fdr < 0.05,]\n",
    "df1$label = \"FPP_D11\"\n",
    "leads_BH = df1\n",
    "length(unique(leads_storey$feature_id))\n",
    "length(unique(leads_BH$feature_id))"
   ]
  },
  {
   "cell_type": "code",
   "execution_count": 87,
   "metadata": {},
   "outputs": [
    {
     "data": {
      "text/html": [
       "<ol class=list-inline>\n",
       "\t<li>11629</li>\n",
       "\t<li>1932</li>\n",
       "\t<li>2457</li>\n",
       "</ol>\n"
      ],
      "text/latex": [
       "\\begin{enumerate*}\n",
       "\\item 11629\n",
       "\\item 1932\n",
       "\\item 2457\n",
       "\\end{enumerate*}\n"
      ],
      "text/markdown": [
       "1. 11629\n",
       "2. 1932\n",
       "3. 2457\n",
       "\n",
       "\n"
      ],
      "text/plain": [
       "[1] 11629  1932  2457"
      ]
     },
     "metadata": {},
     "output_type": "display_data"
    }
   ],
   "source": [
    "# P_FPP\n",
    "myfile = paste0(day11_folder,\"qtl_analysis/eqtl_discovery/celltype_P_FPP/top_qtl_results_all.txt\")\n",
    "df = read.csv(myfile,sep=\"\\t\")\n",
    "df <- df[-which(duplicated(df$feature_id)),]\n",
    "df$BH_fdr = p.adjust(df$empirical_feature_p_value, method = \"BH\")\n",
    "df$q_value = qvalue(df$empirical_feature_p_value)$qvalues\n",
    "c(nrow(df),nrow(df[df$BH_fdr < 0.05,]),nrow(df[df$q_value < 0.05,]))"
   ]
  },
  {
   "cell_type": "code",
   "execution_count": 88,
   "metadata": {},
   "outputs": [
    {
     "data": {
      "text/html": [
       "3173"
      ],
      "text/latex": [
       "3173"
      ],
      "text/markdown": [
       "3173"
      ],
      "text/plain": [
       "[1] 3173"
      ]
     },
     "metadata": {},
     "output_type": "display_data"
    },
    {
     "data": {
      "text/html": [
       "2438"
      ],
      "text/latex": [
       "2438"
      ],
      "text/markdown": [
       "2438"
      ],
      "text/plain": [
       "[1] 2438"
      ]
     },
     "metadata": {},
     "output_type": "display_data"
    }
   ],
   "source": [
    "df1 = df[df$q_value < 0.05,]\n",
    "df1$label = \"P_FPP_D11\"\n",
    "leads_storey = rbind(leads_storey, df1)\n",
    "df1 = df[df$BH_fdr < 0.05,]\n",
    "df1$label = \"P_FPP_D11\"\n",
    "leads_BH = rbind(leads_BH, df1)\n",
    "length(unique(leads_storey$feature_id))\n",
    "length(unique(leads_BH$feature_id))"
   ]
  },
  {
   "cell_type": "code",
   "execution_count": 89,
   "metadata": {},
   "outputs": [],
   "source": [
    "######### Day 30\n",
    "## D30\n",
    "day30_folder = \"/nfs/leia/research/stegle/dseaton/hipsci/singlecell_neuroseq/data/data_processed/pool1_13_noddd_D30/\""
   ]
  },
  {
   "cell_type": "code",
   "execution_count": 90,
   "metadata": {},
   "outputs": [
    {
     "data": {
      "text/html": [
       "<ol class=list-inline>\n",
       "\t<li>12015</li>\n",
       "\t<li>744</li>\n",
       "\t<li>881</li>\n",
       "</ol>\n"
      ],
      "text/latex": [
       "\\begin{enumerate*}\n",
       "\\item 12015\n",
       "\\item 744\n",
       "\\item 881\n",
       "\\end{enumerate*}\n"
      ],
      "text/markdown": [
       "1. 12015\n",
       "2. 744\n",
       "3. 881\n",
       "\n",
       "\n"
      ],
      "text/plain": [
       "[1] 12015   744   881"
      ]
     },
     "metadata": {},
     "output_type": "display_data"
    }
   ],
   "source": [
    "# FPP\n",
    "myfile = paste0(day30_folder,\"qtl_analysis/eqtl_discovery/celltype_Astro/top_qtl_results_all.txt\")\n",
    "df = read.csv(myfile,sep=\"\\t\")\n",
    "df <- df[-which(duplicated(df$feature_id)),]\n",
    "df$BH_fdr = p.adjust(df$empirical_feature_p_value, method = \"BH\")\n",
    "df$q_value = qvalue(df$empirical_feature_p_value)$qvalues\n",
    "c(nrow(df),nrow(df[df$BH_fdr < 0.05,]),nrow(df[df$q_value < 0.05,]))"
   ]
  },
  {
   "cell_type": "code",
   "execution_count": 91,
   "metadata": {},
   "outputs": [
    {
     "data": {
      "text/html": [
       "3354"
      ],
      "text/latex": [
       "3354"
      ],
      "text/markdown": [
       "3354"
      ],
      "text/plain": [
       "[1] 3354"
      ]
     },
     "metadata": {},
     "output_type": "display_data"
    },
    {
     "data": {
      "text/html": [
       "2597"
      ],
      "text/latex": [
       "2597"
      ],
      "text/markdown": [
       "2597"
      ],
      "text/plain": [
       "[1] 2597"
      ]
     },
     "metadata": {},
     "output_type": "display_data"
    }
   ],
   "source": [
    "df1 = df[df$q_value < 0.05,]\n",
    "df1$label = \"FPP_D30\"\n",
    "leads_storey = rbind(leads_storey, df1)\n",
    "df1 = df[df$BH_fdr < 0.05,]\n",
    "df1$label = \"FPP_D30\"\n",
    "leads_BH = rbind(leads_BH, df1)\n",
    "length(unique(leads_storey$feature_id))\n",
    "length(unique(leads_BH$feature_id))"
   ]
  },
  {
   "cell_type": "code",
   "execution_count": 92,
   "metadata": {},
   "outputs": [
    {
     "data": {
      "text/html": [
       "<ol class=list-inline>\n",
       "\t<li>10993</li>\n",
       "\t<li>734</li>\n",
       "\t<li>872</li>\n",
       "</ol>\n"
      ],
      "text/latex": [
       "\\begin{enumerate*}\n",
       "\\item 10993\n",
       "\\item 734\n",
       "\\item 872\n",
       "\\end{enumerate*}\n"
      ],
      "text/markdown": [
       "1. 10993\n",
       "2. 734\n",
       "3. 872\n",
       "\n",
       "\n"
      ],
      "text/plain": [
       "[1] 10993   734   872"
      ]
     },
     "metadata": {},
     "output_type": "display_data"
    }
   ],
   "source": [
    "# DA\n",
    "myfile = paste0(day30_folder,\"qtl_analysis/eqtl_discovery/celltype_DA/top_qtl_results_all.txt\")\n",
    "df = read.csv(myfile,sep=\"\\t\")\n",
    "df <- df[-which(duplicated(df$feature_id)),]\n",
    "df$BH_fdr = p.adjust(df$empirical_feature_p_value, method = \"BH\")\n",
    "df$q_value = qvalue(df$empirical_feature_p_value)$qvalues\n",
    "c(nrow(df),nrow(df[df$BH_fdr < 0.05,]),nrow(df[df$q_value < 0.05,]))"
   ]
  },
  {
   "cell_type": "code",
   "execution_count": 93,
   "metadata": {},
   "outputs": [
    {
     "data": {
      "text/html": [
       "3542"
      ],
      "text/latex": [
       "3542"
      ],
      "text/markdown": [
       "3542"
      ],
      "text/plain": [
       "[1] 3542"
      ]
     },
     "metadata": {},
     "output_type": "display_data"
    },
    {
     "data": {
      "text/html": [
       "2778"
      ],
      "text/latex": [
       "2778"
      ],
      "text/markdown": [
       "2778"
      ],
      "text/plain": [
       "[1] 2778"
      ]
     },
     "metadata": {},
     "output_type": "display_data"
    }
   ],
   "source": [
    "df1 = df[df$q_value < 0.05,]\n",
    "df1$label = \"DA_D30\"\n",
    "leads_storey = rbind(leads_storey, df1)\n",
    "df1 = df[df$BH_fdr < 0.05,]\n",
    "df1$label = \"DA_D30\"\n",
    "leads_BH = rbind(leads_BH, df1)\n",
    "length(unique(leads_storey$feature_id))\n",
    "length(unique(leads_BH$feature_id))"
   ]
  },
  {
   "cell_type": "code",
   "execution_count": 94,
   "metadata": {},
   "outputs": [
    {
     "data": {
      "text/html": [
       "<ol class=list-inline>\n",
       "\t<li>12108</li>\n",
       "\t<li>649</li>\n",
       "\t<li>776</li>\n",
       "</ol>\n"
      ],
      "text/latex": [
       "\\begin{enumerate*}\n",
       "\\item 12108\n",
       "\\item 649\n",
       "\\item 776\n",
       "\\end{enumerate*}\n"
      ],
      "text/markdown": [
       "1. 12108\n",
       "2. 649\n",
       "3. 776\n",
       "\n",
       "\n"
      ],
      "text/plain": [
       "[1] 12108   649   776"
      ]
     },
     "metadata": {},
     "output_type": "display_data"
    }
   ],
   "source": [
    "# Sert\n",
    "myfile = paste0(day30_folder,\"qtl_analysis/eqtl_discovery/celltype_Sert/top_qtl_results_all.txt\")\n",
    "df = read.csv(myfile,sep=\"\\t\")\n",
    "df <- df[-which(duplicated(df$feature_id)),]\n",
    "df$BH_fdr = p.adjust(df$empirical_feature_p_value, method = \"BH\")\n",
    "df$q_value = qvalue(df$empirical_feature_p_value)$qvalues\n",
    "c(nrow(df),nrow(df[df$BH_fdr < 0.05,]),nrow(df[df$q_value < 0.05,]))"
   ]
  },
  {
   "cell_type": "code",
   "execution_count": 95,
   "metadata": {},
   "outputs": [
    {
     "data": {
      "text/html": [
       "3681"
      ],
      "text/latex": [
       "3681"
      ],
      "text/markdown": [
       "3681"
      ],
      "text/plain": [
       "[1] 3681"
      ]
     },
     "metadata": {},
     "output_type": "display_data"
    },
    {
     "data": {
      "text/html": [
       "2894"
      ],
      "text/latex": [
       "2894"
      ],
      "text/markdown": [
       "2894"
      ],
      "text/plain": [
       "[1] 2894"
      ]
     },
     "metadata": {},
     "output_type": "display_data"
    }
   ],
   "source": [
    "df1 = df[df$q_value < 0.05,]\n",
    "df1$label = \"Sert_D30\"\n",
    "leads_storey = rbind(leads_storey, df1)\n",
    "df1 = df[df$BH_fdr < 0.05,]\n",
    "df1$label = \"Sert_D30\"\n",
    "leads_BH = rbind(leads_BH, df1)\n",
    "length(unique(leads_storey$feature_id))\n",
    "length(unique(leads_BH$feature_id))"
   ]
  },
  {
   "cell_type": "code",
   "execution_count": 96,
   "metadata": {},
   "outputs": [
    {
     "data": {
      "text/html": [
       "<ol class=list-inline>\n",
       "\t<li>12789</li>\n",
       "\t<li>792</li>\n",
       "\t<li>1011</li>\n",
       "</ol>\n"
      ],
      "text/latex": [
       "\\begin{enumerate*}\n",
       "\\item 12789\n",
       "\\item 792\n",
       "\\item 1011\n",
       "\\end{enumerate*}\n"
      ],
      "text/markdown": [
       "1. 12789\n",
       "2. 792\n",
       "3. 1011\n",
       "\n",
       "\n"
      ],
      "text/plain": [
       "[1] 12789   792  1011"
      ]
     },
     "metadata": {},
     "output_type": "display_data"
    }
   ],
   "source": [
    "# Epen1\n",
    "myfile = paste0(day30_folder,\"qtl_analysis/eqtl_discovery/celltype_Epen1/top_qtl_results_all.txt\")\n",
    "df = read.csv(myfile,sep=\"\\t\")\n",
    "df <- df[-which(duplicated(df$feature_id)),]\n",
    "df$BH_fdr = p.adjust(df$empirical_feature_p_value, method = \"BH\")\n",
    "df$q_value = qvalue(df$empirical_feature_p_value)$qvalues\n",
    "c(nrow(df),nrow(df[df$BH_fdr < 0.05,]),nrow(df[df$q_value < 0.05,]))"
   ]
  },
  {
   "cell_type": "code",
   "execution_count": 97,
   "metadata": {},
   "outputs": [
    {
     "data": {
      "text/html": [
       "3919"
      ],
      "text/latex": [
       "3919"
      ],
      "text/markdown": [
       "3919"
      ],
      "text/plain": [
       "[1] 3919"
      ]
     },
     "metadata": {},
     "output_type": "display_data"
    },
    {
     "data": {
      "text/html": [
       "3072"
      ],
      "text/latex": [
       "3072"
      ],
      "text/markdown": [
       "3072"
      ],
      "text/plain": [
       "[1] 3072"
      ]
     },
     "metadata": {},
     "output_type": "display_data"
    }
   ],
   "source": [
    "df1 = df[df$q_value < 0.05,]\n",
    "df1$label = \"Epen1_D30\"\n",
    "leads_storey = rbind(leads_storey, df1)\n",
    "df1 = df[df$BH_fdr < 0.05,]\n",
    "df1$label = \"Epen1_D30\"\n",
    "leads_BH = rbind(leads_BH, df1)\n",
    "length(unique(leads_storey$feature_id))\n",
    "length(unique(leads_BH$feature_id))"
   ]
  },
  {
   "cell_type": "code",
   "execution_count": 98,
   "metadata": {},
   "outputs": [],
   "source": [
    "######### Day 52 \n",
    "## D52 \n",
    "day52_folder =\"/nfs/leia/research/stegle/dseaton/hipsci/singlecell_neuroseq/data/data_processed/pool1_17_D52/qtl_analysis/eqtl_discovery_separated_by_treatment/\""
   ]
  },
  {
   "cell_type": "code",
   "execution_count": 99,
   "metadata": {},
   "outputs": [],
   "source": [
    "### untreated (Day 52)"
   ]
  },
  {
   "cell_type": "code",
   "execution_count": 100,
   "metadata": {},
   "outputs": [
    {
     "data": {
      "text/html": [
       "<ol class=list-inline>\n",
       "\t<li>12016</li>\n",
       "\t<li>895</li>\n",
       "\t<li>1024</li>\n",
       "</ol>\n"
      ],
      "text/latex": [
       "\\begin{enumerate*}\n",
       "\\item 12016\n",
       "\\item 895\n",
       "\\item 1024\n",
       "\\end{enumerate*}\n"
      ],
      "text/markdown": [
       "1. 12016\n",
       "2. 895\n",
       "3. 1024\n",
       "\n",
       "\n"
      ],
      "text/plain": [
       "[1] 12016   895  1024"
      ]
     },
     "metadata": {},
     "output_type": "display_data"
    }
   ],
   "source": [
    "# DA\n",
    "myfile = paste0(day52_folder,\"input_files_untreated/celltype_DA/top_qtl_results_all.txt\")\n",
    "df = read.csv(myfile,sep=\"\\t\")\n",
    "df <- df[-which(duplicated(df$feature_id)),]\n",
    "df$BH_fdr = p.adjust(df$empirical_feature_p_value, method = \"BH\")\n",
    "df$q_value = qvalue(df$empirical_feature_p_value)$qvalues\n",
    "c(nrow(df),nrow(df[df$BH_fdr < 0.05,]),nrow(df[df$q_value < 0.05,]))"
   ]
  },
  {
   "cell_type": "code",
   "execution_count": 101,
   "metadata": {},
   "outputs": [
    {
     "data": {
      "text/html": [
       "4097"
      ],
      "text/latex": [
       "4097"
      ],
      "text/markdown": [
       "4097"
      ],
      "text/plain": [
       "[1] 4097"
      ]
     },
     "metadata": {},
     "output_type": "display_data"
    },
    {
     "data": {
      "text/html": [
       "3235"
      ],
      "text/latex": [
       "3235"
      ],
      "text/markdown": [
       "3235"
      ],
      "text/plain": [
       "[1] 3235"
      ]
     },
     "metadata": {},
     "output_type": "display_data"
    }
   ],
   "source": [
    "df1 = df[df$q_value < 0.05,]\n",
    "df1$label = \"DA_D52\"\n",
    "leads_storey = rbind(leads_storey, df1)\n",
    "df1 = df[df$BH_fdr < 0.05,]\n",
    "df1$label = \"DA_D52\"\n",
    "leads_BH = rbind(leads_BH, df1)\n",
    "length(unique(leads_storey$feature_id))\n",
    "length(unique(leads_BH$feature_id))"
   ]
  },
  {
   "cell_type": "code",
   "execution_count": 102,
   "metadata": {},
   "outputs": [
    {
     "data": {
      "text/html": [
       "<ol class=list-inline>\n",
       "\t<li>12521</li>\n",
       "\t<li>1167</li>\n",
       "\t<li>1436</li>\n",
       "</ol>\n"
      ],
      "text/latex": [
       "\\begin{enumerate*}\n",
       "\\item 12521\n",
       "\\item 1167\n",
       "\\item 1436\n",
       "\\end{enumerate*}\n"
      ],
      "text/markdown": [
       "1. 12521\n",
       "2. 1167\n",
       "3. 1436\n",
       "\n",
       "\n"
      ],
      "text/plain": [
       "[1] 12521  1167  1436"
      ]
     },
     "metadata": {},
     "output_type": "display_data"
    }
   ],
   "source": [
    "# Sert\n",
    "myfile = paste0(day52_folder,\"input_files_untreated/celltype_Sert/top_qtl_results_all.txt\")\n",
    "df = read.csv(myfile,sep=\"\\t\")\n",
    "df <- df[-which(duplicated(df$feature_id)),]\n",
    "df$BH_fdr = p.adjust(df$empirical_feature_p_value, method = \"BH\")\n",
    "df$q_value = qvalue(df$empirical_feature_p_value)$qvalues\n",
    "c(nrow(df),nrow(df[df$BH_fdr < 0.05,]),nrow(df[df$q_value < 0.05,]))"
   ]
  },
  {
   "cell_type": "code",
   "execution_count": 103,
   "metadata": {},
   "outputs": [
    {
     "data": {
      "text/html": [
       "4421"
      ],
      "text/latex": [
       "4421"
      ],
      "text/markdown": [
       "4421"
      ],
      "text/plain": [
       "[1] 4421"
      ]
     },
     "metadata": {},
     "output_type": "display_data"
    },
    {
     "data": {
      "text/html": [
       "3509"
      ],
      "text/latex": [
       "3509"
      ],
      "text/markdown": [
       "3509"
      ],
      "text/plain": [
       "[1] 3509"
      ]
     },
     "metadata": {},
     "output_type": "display_data"
    }
   ],
   "source": [
    "df1 = df[df$q_value < 0.05,]\n",
    "df1$label = \"Sert_D52\"\n",
    "leads_storey = rbind(leads_storey, df1)\n",
    "df1 = df[df$BH_fdr < 0.05,]\n",
    "df1$label = \"Sert_D52\"\n",
    "leads_BH = rbind(leads_BH, df1)\n",
    "length(unique(leads_storey$feature_id))\n",
    "length(unique(leads_BH$feature_id))"
   ]
  },
  {
   "cell_type": "code",
   "execution_count": 104,
   "metadata": {},
   "outputs": [
    {
     "data": {
      "text/html": [
       "<ol class=list-inline>\n",
       "\t<li>12555</li>\n",
       "\t<li>1162</li>\n",
       "\t<li>1391</li>\n",
       "</ol>\n"
      ],
      "text/latex": [
       "\\begin{enumerate*}\n",
       "\\item 12555\n",
       "\\item 1162\n",
       "\\item 1391\n",
       "\\end{enumerate*}\n"
      ],
      "text/markdown": [
       "1. 12555\n",
       "2. 1162\n",
       "3. 1391\n",
       "\n",
       "\n"
      ],
      "text/plain": [
       "[1] 12555  1162  1391"
      ]
     },
     "metadata": {},
     "output_type": "display_data"
    }
   ],
   "source": [
    "# Epen1\n",
    "myfile = paste0(day52_folder,\"input_files_untreated/celltype_Epen1/top_qtl_results_all.txt\")\n",
    "df = read.csv(myfile,sep=\"\\t\")\n",
    "df <- df[-which(duplicated(df$feature_id)),]\n",
    "df$BH_fdr = p.adjust(df$empirical_feature_p_value, method = \"BH\")\n",
    "df$q_value = qvalue(df$empirical_feature_p_value)$qvalues\n",
    "c(nrow(df),nrow(df[df$BH_fdr < 0.05,]),nrow(df[df$q_value < 0.05,]))"
   ]
  },
  {
   "cell_type": "code",
   "execution_count": 105,
   "metadata": {},
   "outputs": [
    {
     "data": {
      "text/html": [
       "4642"
      ],
      "text/latex": [
       "4642"
      ],
      "text/markdown": [
       "4642"
      ],
      "text/plain": [
       "[1] 4642"
      ]
     },
     "metadata": {},
     "output_type": "display_data"
    },
    {
     "data": {
      "text/html": [
       "3717"
      ],
      "text/latex": [
       "3717"
      ],
      "text/markdown": [
       "3717"
      ],
      "text/plain": [
       "[1] 3717"
      ]
     },
     "metadata": {},
     "output_type": "display_data"
    }
   ],
   "source": [
    "df1 = df[df$q_value < 0.05,]\n",
    "df1$label = \"Epen1_D52\"\n",
    "leads_storey = rbind(leads_storey, df1)\n",
    "df1 = df[df$BH_fdr < 0.05,]\n",
    "df1$label = \"Epen1_D52\"\n",
    "leads_BH = rbind(leads_BH, df1)\n",
    "length(unique(leads_storey$feature_id))\n",
    "length(unique(leads_BH$feature_id))"
   ]
  },
  {
   "cell_type": "code",
   "execution_count": 106,
   "metadata": {},
   "outputs": [
    {
     "data": {
      "text/html": [
       "<ol class=list-inline>\n",
       "\t<li>11907</li>\n",
       "\t<li>217</li>\n",
       "\t<li>257</li>\n",
       "</ol>\n"
      ],
      "text/latex": [
       "\\begin{enumerate*}\n",
       "\\item 11907\n",
       "\\item 217\n",
       "\\item 257\n",
       "\\end{enumerate*}\n"
      ],
      "text/markdown": [
       "1. 11907\n",
       "2. 217\n",
       "3. 257\n",
       "\n",
       "\n"
      ],
      "text/plain": [
       "[1] 11907   217   257"
      ]
     },
     "metadata": {},
     "output_type": "display_data"
    }
   ],
   "source": [
    "# Astro\n",
    "myfile = paste0(day52_folder,\"input_files_untreated/celltype_Astro/top_qtl_results_all.txt\")\n",
    "df = read.csv(myfile,sep=\"\\t\")\n",
    "df <- df[-which(duplicated(df$feature_id)),]\n",
    "df$BH_fdr = p.adjust(df$empirical_feature_p_value, method = \"BH\")\n",
    "df$q_value = qvalue(df$empirical_feature_p_value)$qvalues\n",
    "c(nrow(df),nrow(df[df$BH_fdr < 0.05,]),nrow(df[df$q_value < 0.05,]))"
   ]
  },
  {
   "cell_type": "code",
   "execution_count": 107,
   "metadata": {},
   "outputs": [
    {
     "data": {
      "text/html": [
       "4646"
      ],
      "text/latex": [
       "4646"
      ],
      "text/markdown": [
       "4646"
      ],
      "text/plain": [
       "[1] 4646"
      ]
     },
     "metadata": {},
     "output_type": "display_data"
    },
    {
     "data": {
      "text/html": [
       "3724"
      ],
      "text/latex": [
       "3724"
      ],
      "text/markdown": [
       "3724"
      ],
      "text/plain": [
       "[1] 3724"
      ]
     },
     "metadata": {},
     "output_type": "display_data"
    }
   ],
   "source": [
    "df1 = df[df$q_value < 0.05,]\n",
    "df1$label = \"Astro_D52\"\n",
    "leads_storey = rbind(leads_storey, df1)\n",
    "df1 = df[df$BH_fdr < 0.05,]\n",
    "df1$label = \"Astro_D52\"\n",
    "leads_BH = rbind(leads_BH, df1)\n",
    "length(unique(leads_storey$feature_id))\n",
    "length(unique(leads_BH$feature_id))"
   ]
  },
  {
   "cell_type": "code",
   "execution_count": 108,
   "metadata": {},
   "outputs": [],
   "source": [
    "### ROT treated (Day 52)"
   ]
  },
  {
   "cell_type": "code",
   "execution_count": 109,
   "metadata": {},
   "outputs": [
    {
     "data": {
      "text/html": [
       "<ol class=list-inline>\n",
       "\t<li>12016</li>\n",
       "\t<li>409</li>\n",
       "\t<li>458</li>\n",
       "</ol>\n"
      ],
      "text/latex": [
       "\\begin{enumerate*}\n",
       "\\item 12016\n",
       "\\item 409\n",
       "\\item 458\n",
       "\\end{enumerate*}\n"
      ],
      "text/markdown": [
       "1. 12016\n",
       "2. 409\n",
       "3. 458\n",
       "\n",
       "\n"
      ],
      "text/plain": [
       "[1] 12016   409   458"
      ]
     },
     "metadata": {},
     "output_type": "display_data"
    }
   ],
   "source": [
    "# DA\n",
    "myfile = paste0(day52_folder,\"input_files_ROT_treated/celltype_DA/top_qtl_results_all.txt\")\n",
    "df = read.csv(myfile,sep=\"\\t\")\n",
    "df <- df[-which(duplicated(df$feature_id)),]\n",
    "df$BH_fdr = p.adjust(df$empirical_feature_p_value, method = \"BH\")\n",
    "df$q_value = qvalue(df$empirical_feature_p_value)$qvalues\n",
    "c(nrow(df),nrow(df[df$BH_fdr < 0.05,]),nrow(df[df$q_value < 0.05,]))"
   ]
  },
  {
   "cell_type": "code",
   "execution_count": 110,
   "metadata": {},
   "outputs": [
    {
     "data": {
      "text/html": [
       "4666"
      ],
      "text/latex": [
       "4666"
      ],
      "text/markdown": [
       "4666"
      ],
      "text/plain": [
       "[1] 4666"
      ]
     },
     "metadata": {},
     "output_type": "display_data"
    },
    {
     "data": {
      "text/html": [
       "3740"
      ],
      "text/latex": [
       "3740"
      ],
      "text/markdown": [
       "3740"
      ],
      "text/plain": [
       "[1] 3740"
      ]
     },
     "metadata": {},
     "output_type": "display_data"
    }
   ],
   "source": [
    "df1 = df[df$q_value < 0.05,]\n",
    "df1$label = \"DA_D52_ROT\"\n",
    "leads_storey = rbind(leads_storey, df1)\n",
    "df1 = df[df$BH_fdr < 0.05,]\n",
    "df1$label = \"DA_D52_ROT\"\n",
    "leads_BH = rbind(leads_BH, df1)\n",
    "length(unique(leads_storey$feature_id))\n",
    "length(unique(leads_BH$feature_id))"
   ]
  },
  {
   "cell_type": "code",
   "execution_count": 111,
   "metadata": {},
   "outputs": [
    {
     "data": {
      "text/html": [
       "<ol class=list-inline>\n",
       "\t<li>12521</li>\n",
       "\t<li>870</li>\n",
       "\t<li>1043</li>\n",
       "</ol>\n"
      ],
      "text/latex": [
       "\\begin{enumerate*}\n",
       "\\item 12521\n",
       "\\item 870\n",
       "\\item 1043\n",
       "\\end{enumerate*}\n"
      ],
      "text/markdown": [
       "1. 12521\n",
       "2. 870\n",
       "3. 1043\n",
       "\n",
       "\n"
      ],
      "text/plain": [
       "[1] 12521   870  1043"
      ]
     },
     "metadata": {},
     "output_type": "display_data"
    }
   ],
   "source": [
    "# Sert\n",
    "myfile = paste0(day52_folder,\"input_files_ROT_treated/celltype_Sert/top_qtl_results_all.txt\")\n",
    "df = read.csv(myfile,sep=\"\\t\")\n",
    "df <- df[-which(duplicated(df$feature_id)),]\n",
    "df$BH_fdr = p.adjust(df$empirical_feature_p_value, method = \"BH\")\n",
    "df$q_value = qvalue(df$empirical_feature_p_value)$qvalues\n",
    "c(nrow(df),nrow(df[df$BH_fdr < 0.05,]),nrow(df[df$q_value < 0.05,]))\n",
    "sertROT = unique(df[df$q_value < 0.05,\"feature_id\"])"
   ]
  },
  {
   "cell_type": "code",
   "execution_count": 112,
   "metadata": {},
   "outputs": [
    {
     "data": {
      "text/html": [
       "4747"
      ],
      "text/latex": [
       "4747"
      ],
      "text/markdown": [
       "4747"
      ],
      "text/plain": [
       "[1] 4747"
      ]
     },
     "metadata": {},
     "output_type": "display_data"
    },
    {
     "data": {
      "text/html": [
       "3800"
      ],
      "text/latex": [
       "3800"
      ],
      "text/markdown": [
       "3800"
      ],
      "text/plain": [
       "[1] 3800"
      ]
     },
     "metadata": {},
     "output_type": "display_data"
    }
   ],
   "source": [
    "df1 = df[df$q_value < 0.05,]\n",
    "df1$label = \"Sert_D52_ROT\"\n",
    "leads_storey = rbind(leads_storey, df1)\n",
    "df1 = df[df$BH_fdr < 0.05,]\n",
    "df1$label = \"Sert_D52_ROT\"\n",
    "leads_BH = rbind(leads_BH, df1)\n",
    "length(unique(leads_storey$feature_id))\n",
    "length(unique(leads_BH$feature_id))"
   ]
  },
  {
   "cell_type": "code",
   "execution_count": 113,
   "metadata": {},
   "outputs": [
    {
     "data": {
      "text/html": [
       "<ol class=list-inline>\n",
       "\t<li>12555</li>\n",
       "\t<li>934</li>\n",
       "\t<li>1122</li>\n",
       "</ol>\n"
      ],
      "text/latex": [
       "\\begin{enumerate*}\n",
       "\\item 12555\n",
       "\\item 934\n",
       "\\item 1122\n",
       "\\end{enumerate*}\n"
      ],
      "text/markdown": [
       "1. 12555\n",
       "2. 934\n",
       "3. 1122\n",
       "\n",
       "\n"
      ],
      "text/plain": [
       "[1] 12555   934  1122"
      ]
     },
     "metadata": {},
     "output_type": "display_data"
    }
   ],
   "source": [
    "# Epen1\n",
    "myfile = paste0(day52_folder,\"input_files_ROT_treated/celltype_Epen1/top_qtl_results_all.txt\")\n",
    "df = read.csv(myfile,sep=\"\\t\")\n",
    "df <- df[-which(duplicated(df$feature_id)),]\n",
    "df$BH_fdr = p.adjust(df$empirical_feature_p_value, method = \"BH\")\n",
    "df$q_value = qvalue(df$empirical_feature_p_value)$qvalues\n",
    "c(nrow(df),nrow(df[df$BH_fdr < 0.05,]),nrow(df[df$q_value < 0.05,]))\n",
    "epenROT = unique(df[df$q_value < 0.05,\"feature_id\"])"
   ]
  },
  {
   "cell_type": "code",
   "execution_count": 114,
   "metadata": {},
   "outputs": [
    {
     "data": {
      "text/html": [
       "4823"
      ],
      "text/latex": [
       "4823"
      ],
      "text/markdown": [
       "4823"
      ],
      "text/plain": [
       "[1] 4823"
      ]
     },
     "metadata": {},
     "output_type": "display_data"
    },
    {
     "data": {
      "text/html": [
       "3865"
      ],
      "text/latex": [
       "3865"
      ],
      "text/markdown": [
       "3865"
      ],
      "text/plain": [
       "[1] 3865"
      ]
     },
     "metadata": {},
     "output_type": "display_data"
    }
   ],
   "source": [
    "df1 = df[df$q_value < 0.05,]\n",
    "df1$label = \"Epen1_D52_ROT\"\n",
    "leads_storey = rbind(leads_storey, df1)\n",
    "df1 = df[df$BH_fdr < 0.05,]\n",
    "df1$label = \"Epen1_D52_ROT\"\n",
    "leads_BH = rbind(leads_BH, df1)\n",
    "length(unique(leads_storey$feature_id))\n",
    "length(unique(leads_BH$feature_id))"
   ]
  },
  {
   "cell_type": "code",
   "execution_count": 115,
   "metadata": {},
   "outputs": [
    {
     "data": {
      "text/html": [
       "<ol class=list-inline>\n",
       "\t<li>11907</li>\n",
       "\t<li>184</li>\n",
       "\t<li>205</li>\n",
       "</ol>\n"
      ],
      "text/latex": [
       "\\begin{enumerate*}\n",
       "\\item 11907\n",
       "\\item 184\n",
       "\\item 205\n",
       "\\end{enumerate*}\n"
      ],
      "text/markdown": [
       "1. 11907\n",
       "2. 184\n",
       "3. 205\n",
       "\n",
       "\n"
      ],
      "text/plain": [
       "[1] 11907   184   205"
      ]
     },
     "metadata": {},
     "output_type": "display_data"
    }
   ],
   "source": [
    "# Astro\n",
    "myfile = paste0(day52_folder,\"input_files_ROT_treated/celltype_Astro/top_qtl_results_all.txt\")\n",
    "df = read.csv(myfile,sep=\"\\t\")\n",
    "df <- df[-which(duplicated(df$feature_id)),]\n",
    "df$BH_fdr = p.adjust(df$empirical_feature_p_value, method = \"BH\")\n",
    "df$q_value = qvalue(df$empirical_feature_p_value)$qvalues\n",
    "c(nrow(df),nrow(df[df$BH_fdr < 0.05,]),nrow(df[df$q_value < 0.05,]))\n",
    "astroROT = unique(df[df$q_value < 0.05,\"feature_id\"])"
   ]
  },
  {
   "cell_type": "code",
   "execution_count": 116,
   "metadata": {},
   "outputs": [
    {
     "data": {
      "text/html": [
       "4828"
      ],
      "text/latex": [
       "4828"
      ],
      "text/markdown": [
       "4828"
      ],
      "text/plain": [
       "[1] 4828"
      ]
     },
     "metadata": {},
     "output_type": "display_data"
    },
    {
     "data": {
      "text/html": [
       "3869"
      ],
      "text/latex": [
       "3869"
      ],
      "text/markdown": [
       "3869"
      ],
      "text/plain": [
       "[1] 3869"
      ]
     },
     "metadata": {},
     "output_type": "display_data"
    }
   ],
   "source": [
    "df1 = df[df$q_value < 0.05,]\n",
    "df1$label = \"Astro_D52_ROT\"\n",
    "leads_storey = rbind(leads_storey, df1)\n",
    "df1 = df[df$BH_fdr < 0.05,]\n",
    "df1$label = \"Astro_D52_ROT\"\n",
    "leads_BH = rbind(leads_BH, df1)\n",
    "length(unique(leads_storey$feature_id))\n",
    "length(unique(leads_BH$feature_id))"
   ]
  },
  {
   "cell_type": "code",
   "execution_count": 117,
   "metadata": {},
   "outputs": [
    {
     "data": {
      "text/html": [
       "15493"
      ],
      "text/latex": [
       "15493"
      ],
      "text/markdown": [
       "15493"
      ],
      "text/plain": [
       "[1] 15493"
      ]
     },
     "metadata": {},
     "output_type": "display_data"
    },
    {
     "data": {
      "text/html": [
       "4828"
      ],
      "text/latex": [
       "4828"
      ],
      "text/markdown": [
       "4828"
      ],
      "text/plain": [
       "[1] 4828"
      ]
     },
     "metadata": {},
     "output_type": "display_data"
    },
    {
     "data": {
      "text/html": [
       "12658"
      ],
      "text/latex": [
       "12658"
      ],
      "text/markdown": [
       "12658"
      ],
      "text/plain": [
       "[1] 12658"
      ]
     },
     "metadata": {},
     "output_type": "display_data"
    },
    {
     "data": {
      "text/html": [
       "3869"
      ],
      "text/latex": [
       "3869"
      ],
      "text/markdown": [
       "3869"
      ],
      "text/plain": [
       "[1] 3869"
      ]
     },
     "metadata": {},
     "output_type": "display_data"
    }
   ],
   "source": [
    "nrow(leads_storey)\n",
    "length(unique(leads_storey$feature_id))\n",
    "\n",
    "nrow(leads_BH)\n",
    "length(unique(leads_BH$feature_id))"
   ]
  },
  {
   "cell_type": "code",
   "execution_count": 118,
   "metadata": {},
   "outputs": [],
   "source": [
    "write.csv(leads_storey,\"/hps/nobackup/stegle/users/acuomo/all_scripts/sc_neuroseq/eqtl/all_leads_5pct_FDR_Storey.csv\")\n",
    "write.csv(leads_BH,\"/hps/nobackup/stegle/users/acuomo/all_scripts/sc_neuroseq/eqtl/all_leads_5pct_FDR_BH.csv\")"
   ]
  },
  {
   "cell_type": "code",
   "execution_count": null,
   "metadata": {},
   "outputs": [],
   "source": []
  },
  {
   "cell_type": "code",
   "execution_count": null,
   "metadata": {},
   "outputs": [],
   "source": []
  },
  {
   "cell_type": "code",
   "execution_count": null,
   "metadata": {},
   "outputs": [],
   "source": []
  }
 ],
 "metadata": {
  "kernelspec": {
   "display_name": "R",
   "language": "R",
   "name": "ir"
  },
  "language_info": {
   "codemirror_mode": "r",
   "file_extension": ".r",
   "mimetype": "text/x-r-source",
   "name": "R",
   "pygments_lexer": "r",
   "version": "3.6.1"
  }
 },
 "nbformat": 4,
 "nbformat_minor": 4
}
