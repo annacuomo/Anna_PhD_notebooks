{
 "cells": [
  {
   "cell_type": "code",
   "execution_count": 1,
   "metadata": {},
   "outputs": [],
   "source": [
    "mashr_dir = \"/hps/nobackup/stegle/users/acuomo/all_scripts/sc_neuroseq/eqtl/mashr/MASHR_july_2020/NeuroSeq/\""
   ]
  },
  {
   "cell_type": "code",
   "execution_count": 2,
   "metadata": {},
   "outputs": [
    {
     "data": {
      "text/html": [
       "<ol class=list-inline>\n",
       "\t<li>'MASHR_local_false_sign_rate_NeuroSeq.txt'</li>\n",
       "\t<li>'MASHR_posterior_mean_NeuroSeq.txt'</li>\n",
       "\t<li>'MASHR_posterior_standard_deviation_NeuroSeq.txt'</li>\n",
       "</ol>\n"
      ],
      "text/latex": [
       "\\begin{enumerate*}\n",
       "\\item 'MASHR\\_local\\_false\\_sign\\_rate\\_NeuroSeq.txt'\n",
       "\\item 'MASHR\\_posterior\\_mean\\_NeuroSeq.txt'\n",
       "\\item 'MASHR\\_posterior\\_standard\\_deviation\\_NeuroSeq.txt'\n",
       "\\end{enumerate*}\n"
      ],
      "text/markdown": [
       "1. 'MASHR_local_false_sign_rate_NeuroSeq.txt'\n",
       "2. 'MASHR_posterior_mean_NeuroSeq.txt'\n",
       "3. 'MASHR_posterior_standard_deviation_NeuroSeq.txt'\n",
       "\n",
       "\n"
      ],
      "text/plain": [
       "[1] \"MASHR_local_false_sign_rate_NeuroSeq.txt\"       \n",
       "[2] \"MASHR_posterior_mean_NeuroSeq.txt\"              \n",
       "[3] \"MASHR_posterior_standard_deviation_NeuroSeq.txt\""
      ]
     },
     "metadata": {},
     "output_type": "display_data"
    }
   ],
   "source": [
    "list.files(mashr_dir)"
   ]
  },
  {
   "cell_type": "code",
   "execution_count": 3,
   "metadata": {},
   "outputs": [],
   "source": [
    "sign_res = paste0(mashr_dir,\"MASHR_local_false_sign_rate_NeuroSeq.txt\")\n",
    "mean_beta = paste0(mashr_dir,\"MASHR_posterior_mean_NeuroSeq.txt\")\n",
    "std_beta = paste0(mashr_dir,\"MASHR_posterior_standard_deviation_NeuroSeq.txt\")"
   ]
  },
  {
   "cell_type": "code",
   "execution_count": 4,
   "metadata": {},
   "outputs": [
    {
     "name": "stderr",
     "output_type": "stream",
     "text": [
      "Registered S3 methods overwritten by 'ggplot2':\n",
      "  method         from \n",
      "  [.quosures     rlang\n",
      "  c.quosures     rlang\n",
      "  print.quosures rlang\n"
     ]
    }
   ],
   "source": [
    "library(reshape2)\n",
    "library(ggplot2)\n",
    "##Functions\n",
    "reorder_cormat <- function(cormat){\n",
    "  # Use correlation between variables as distance\n",
    "  dd <- as.dist((1-cormat)/2)\n",
    "  hc <- hclust(dd,method=\"complete\")\n",
    "  cormat <-cormat[hc$order, hc$order]\n",
    "}"
   ]
  },
  {
   "cell_type": "code",
   "execution_count": 5,
   "metadata": {},
   "outputs": [],
   "source": [
    "get_lower_tri <- function(cormat){\n",
    "  cormat[upper.tri(cormat)]<- NA\n",
    "  return(cormat)\n",
    "}"
   ]
  },
  {
   "cell_type": "code",
   "execution_count": 6,
   "metadata": {},
   "outputs": [],
   "source": [
    "#V6 sc included\n",
    "lsfrMat = read.delim(sign_res,as.is=T, row.names=1)\n",
    "posteriorMean = read.delim(mean_beta,as.is=T, row.names=1)"
   ]
  },
  {
   "cell_type": "code",
   "execution_count": 7,
   "metadata": {},
   "outputs": [
    {
     "data": {
      "text/html": [
       "8738"
      ],
      "text/latex": [
       "8738"
      ],
      "text/markdown": [
       "8738"
      ],
      "text/plain": [
       "[1] 8738"
      ]
     },
     "metadata": {},
     "output_type": "display_data"
    }
   ],
   "source": [
    "nrow(lsfrMat)"
   ]
  },
  {
   "cell_type": "code",
   "execution_count": 8,
   "metadata": {},
   "outputs": [
    {
     "data": {
      "text/html": [
       "<table>\n",
       "<thead><tr><th></th><th scope=col>iPSC.pool1_13_noddd_D11.FPP</th><th scope=col>iPSC.pool1_13_noddd_D11.NB</th><th scope=col>iPSC.pool1_13_noddd_D11.P_FPP</th><th scope=col>iPSC.pool1_13_noddd_D30.Astro</th><th scope=col>iPSC.pool1_13_noddd_D30.DA</th><th scope=col>iPSC.pool1_13_noddd_D30.Epen1</th><th scope=col>iPSC.pool1_13_noddd_D30.Sert</th><th scope=col>iPSC.qtl_results_NONE_Astro_all</th><th scope=col>iPSC.qtl_results_NONE_DA_all</th><th scope=col>iPSC.qtl_results_NONE_Epen1_all</th><th scope=col>iPSC.qtl_results_NONE_Sert_all</th><th scope=col>iPSC.qtl_results_ROT_Astro_all</th><th scope=col>iPSC.qtl_results_ROT_DA_all</th><th scope=col>iPSC.qtl_results_ROT_Epen1_all</th><th scope=col>iPSC.qtl_results_ROT_Sert_all</th></tr></thead>\n",
       "<tbody>\n",
       "\t<tr><th scope=row>1_10003457_G_C-ENSG00000162441</th><td>0.6518176674</td><td>0.54805616  </td><td>0.663447515 </td><td>0.65126701  </td><td>0.539537970 </td><td>0.578982395 </td><td>0.66227116  </td><td>0.5722208   </td><td>0.551409306 </td><td>0.604068333 </td><td>0.53196762  </td><td>0.133122134 </td><td>0.52252523  </td><td>0.681161219 </td><td>0.492023370 </td></tr>\n",
       "\t<tr><th scope=row>1_10003457_G_C-ENSG00000173614</th><td>0.0009527946</td><td>0.03287377  </td><td>0.005910685 </td><td>0.00149585  </td><td>0.008994919 </td><td>0.007580233 </td><td>0.00262363  </td><td>0.1744287   </td><td>0.006933351 </td><td>0.005946988 </td><td>0.00460887  </td><td>0.008558593 </td><td>0.01248641  </td><td>0.002525919 </td><td>0.001119958 </td></tr>\n",
       "\t<tr><th scope=row>1_100099170_A_C-ENSG00000117620</th><td>0.2732129538</td><td>0.05577454  </td><td>0.237281680 </td><td>0.42736576  </td><td>0.073051156 </td><td>0.511355259 </td><td>0.43700365  </td><td>0.1772552   </td><td>0.203275209 </td><td>0.235407945 </td><td>0.27120287  </td><td>0.427784527 </td><td>0.32059068  </td><td>0.275055934 </td><td>0.399258130 </td></tr>\n",
       "\t<tr><th scope=row>1_100202109_A_G-ENSG00000156876</th><td>0.4735643813</td><td>0.48720836  </td><td>0.529777207 </td><td>0.58482723  </td><td>0.498738236 </td><td>0.610094166 </td><td>0.52366877  </td><td>0.5411988   </td><td>0.313329188 </td><td>0.561198213 </td><td>0.47113462  </td><td>0.531277729 </td><td>0.51442523  </td><td>0.510630617 </td><td>0.440792385 </td></tr>\n",
       "\t<tr><th scope=row>1_100249550_C_A-ENSG00000122435</th><td>0.4881985463</td><td>0.46239066  </td><td>0.619217904 </td><td>0.58786938  </td><td>0.621216360 </td><td>0.525050624 </td><td>0.53904192  </td><td>0.4786018   </td><td>0.521588102 </td><td>0.427116659 </td><td>0.57342976  </td><td>0.470018782 </td><td>0.51966277  </td><td>0.448704090 </td><td>0.596536941 </td></tr>\n",
       "\t<tr><th scope=row>1_100435079_T_C-ENSG00000162688</th><td>0.5190925772</td><td>0.64395938  </td><td>0.634266550 </td><td>0.56907083  </td><td>0.588994630 </td><td>0.314834994 </td><td>0.55642925  </td><td>0.6092806   </td><td>0.619060313 </td><td>0.526102164 </td><td>0.61146855  </td><td>0.627499267 </td><td>0.51588234  </td><td>0.612339478 </td><td>0.578708181 </td></tr>\n",
       "</tbody>\n",
       "</table>\n"
      ],
      "text/latex": [
       "\\begin{tabular}{r|lllllllllllllll}\n",
       "  & iPSC.pool1\\_13\\_noddd\\_D11.FPP & iPSC.pool1\\_13\\_noddd\\_D11.NB & iPSC.pool1\\_13\\_noddd\\_D11.P\\_FPP & iPSC.pool1\\_13\\_noddd\\_D30.Astro & iPSC.pool1\\_13\\_noddd\\_D30.DA & iPSC.pool1\\_13\\_noddd\\_D30.Epen1 & iPSC.pool1\\_13\\_noddd\\_D30.Sert & iPSC.qtl\\_results\\_NONE\\_Astro\\_all & iPSC.qtl\\_results\\_NONE\\_DA\\_all & iPSC.qtl\\_results\\_NONE\\_Epen1\\_all & iPSC.qtl\\_results\\_NONE\\_Sert\\_all & iPSC.qtl\\_results\\_ROT\\_Astro\\_all & iPSC.qtl\\_results\\_ROT\\_DA\\_all & iPSC.qtl\\_results\\_ROT\\_Epen1\\_all & iPSC.qtl\\_results\\_ROT\\_Sert\\_all\\\\\n",
       "\\hline\n",
       "\t1\\_10003457\\_G\\_C-ENSG00000162441 & 0.6518176674 & 0.54805616   & 0.663447515  & 0.65126701   & 0.539537970  & 0.578982395  & 0.66227116   & 0.5722208    & 0.551409306  & 0.604068333  & 0.53196762   & 0.133122134  & 0.52252523   & 0.681161219  & 0.492023370 \\\\\n",
       "\t1\\_10003457\\_G\\_C-ENSG00000173614 & 0.0009527946 & 0.03287377   & 0.005910685  & 0.00149585   & 0.008994919  & 0.007580233  & 0.00262363   & 0.1744287    & 0.006933351  & 0.005946988  & 0.00460887   & 0.008558593  & 0.01248641   & 0.002525919  & 0.001119958 \\\\\n",
       "\t1\\_100099170\\_A\\_C-ENSG00000117620 & 0.2732129538 & 0.05577454   & 0.237281680  & 0.42736576   & 0.073051156  & 0.511355259  & 0.43700365   & 0.1772552    & 0.203275209  & 0.235407945  & 0.27120287   & 0.427784527  & 0.32059068   & 0.275055934  & 0.399258130 \\\\\n",
       "\t1\\_100202109\\_A\\_G-ENSG00000156876 & 0.4735643813 & 0.48720836   & 0.529777207  & 0.58482723   & 0.498738236  & 0.610094166  & 0.52366877   & 0.5411988    & 0.313329188  & 0.561198213  & 0.47113462   & 0.531277729  & 0.51442523   & 0.510630617  & 0.440792385 \\\\\n",
       "\t1\\_100249550\\_C\\_A-ENSG00000122435 & 0.4881985463 & 0.46239066   & 0.619217904  & 0.58786938   & 0.621216360  & 0.525050624  & 0.53904192   & 0.4786018    & 0.521588102  & 0.427116659  & 0.57342976   & 0.470018782  & 0.51966277   & 0.448704090  & 0.596536941 \\\\\n",
       "\t1\\_100435079\\_T\\_C-ENSG00000162688 & 0.5190925772 & 0.64395938   & 0.634266550  & 0.56907083   & 0.588994630  & 0.314834994  & 0.55642925   & 0.6092806    & 0.619060313  & 0.526102164  & 0.61146855   & 0.627499267  & 0.51588234   & 0.612339478  & 0.578708181 \\\\\n",
       "\\end{tabular}\n"
      ],
      "text/markdown": [
       "\n",
       "| <!--/--> | iPSC.pool1_13_noddd_D11.FPP | iPSC.pool1_13_noddd_D11.NB | iPSC.pool1_13_noddd_D11.P_FPP | iPSC.pool1_13_noddd_D30.Astro | iPSC.pool1_13_noddd_D30.DA | iPSC.pool1_13_noddd_D30.Epen1 | iPSC.pool1_13_noddd_D30.Sert | iPSC.qtl_results_NONE_Astro_all | iPSC.qtl_results_NONE_DA_all | iPSC.qtl_results_NONE_Epen1_all | iPSC.qtl_results_NONE_Sert_all | iPSC.qtl_results_ROT_Astro_all | iPSC.qtl_results_ROT_DA_all | iPSC.qtl_results_ROT_Epen1_all | iPSC.qtl_results_ROT_Sert_all |\n",
       "|---|---|---|---|---|---|---|---|---|---|---|---|---|---|---|---|\n",
       "| 1_10003457_G_C-ENSG00000162441 | 0.6518176674 | 0.54805616   | 0.663447515  | 0.65126701   | 0.539537970  | 0.578982395  | 0.66227116   | 0.5722208    | 0.551409306  | 0.604068333  | 0.53196762   | 0.133122134  | 0.52252523   | 0.681161219  | 0.492023370  |\n",
       "| 1_10003457_G_C-ENSG00000173614 | 0.0009527946 | 0.03287377   | 0.005910685  | 0.00149585   | 0.008994919  | 0.007580233  | 0.00262363   | 0.1744287    | 0.006933351  | 0.005946988  | 0.00460887   | 0.008558593  | 0.01248641   | 0.002525919  | 0.001119958  |\n",
       "| 1_100099170_A_C-ENSG00000117620 | 0.2732129538 | 0.05577454   | 0.237281680  | 0.42736576   | 0.073051156  | 0.511355259  | 0.43700365   | 0.1772552    | 0.203275209  | 0.235407945  | 0.27120287   | 0.427784527  | 0.32059068   | 0.275055934  | 0.399258130  |\n",
       "| 1_100202109_A_G-ENSG00000156876 | 0.4735643813 | 0.48720836   | 0.529777207  | 0.58482723   | 0.498738236  | 0.610094166  | 0.52366877   | 0.5411988    | 0.313329188  | 0.561198213  | 0.47113462   | 0.531277729  | 0.51442523   | 0.510630617  | 0.440792385  |\n",
       "| 1_100249550_C_A-ENSG00000122435 | 0.4881985463 | 0.46239066   | 0.619217904  | 0.58786938   | 0.621216360  | 0.525050624  | 0.53904192   | 0.4786018    | 0.521588102  | 0.427116659  | 0.57342976   | 0.470018782  | 0.51966277   | 0.448704090  | 0.596536941  |\n",
       "| 1_100435079_T_C-ENSG00000162688 | 0.5190925772 | 0.64395938   | 0.634266550  | 0.56907083   | 0.588994630  | 0.314834994  | 0.55642925   | 0.6092806    | 0.619060313  | 0.526102164  | 0.61146855   | 0.627499267  | 0.51588234   | 0.612339478  | 0.578708181  |\n",
       "\n"
      ],
      "text/plain": [
       "                                iPSC.pool1_13_noddd_D11.FPP\n",
       "1_10003457_G_C-ENSG00000162441  0.6518176674               \n",
       "1_10003457_G_C-ENSG00000173614  0.0009527946               \n",
       "1_100099170_A_C-ENSG00000117620 0.2732129538               \n",
       "1_100202109_A_G-ENSG00000156876 0.4735643813               \n",
       "1_100249550_C_A-ENSG00000122435 0.4881985463               \n",
       "1_100435079_T_C-ENSG00000162688 0.5190925772               \n",
       "                                iPSC.pool1_13_noddd_D11.NB\n",
       "1_10003457_G_C-ENSG00000162441  0.54805616                \n",
       "1_10003457_G_C-ENSG00000173614  0.03287377                \n",
       "1_100099170_A_C-ENSG00000117620 0.05577454                \n",
       "1_100202109_A_G-ENSG00000156876 0.48720836                \n",
       "1_100249550_C_A-ENSG00000122435 0.46239066                \n",
       "1_100435079_T_C-ENSG00000162688 0.64395938                \n",
       "                                iPSC.pool1_13_noddd_D11.P_FPP\n",
       "1_10003457_G_C-ENSG00000162441  0.663447515                  \n",
       "1_10003457_G_C-ENSG00000173614  0.005910685                  \n",
       "1_100099170_A_C-ENSG00000117620 0.237281680                  \n",
       "1_100202109_A_G-ENSG00000156876 0.529777207                  \n",
       "1_100249550_C_A-ENSG00000122435 0.619217904                  \n",
       "1_100435079_T_C-ENSG00000162688 0.634266550                  \n",
       "                                iPSC.pool1_13_noddd_D30.Astro\n",
       "1_10003457_G_C-ENSG00000162441  0.65126701                   \n",
       "1_10003457_G_C-ENSG00000173614  0.00149585                   \n",
       "1_100099170_A_C-ENSG00000117620 0.42736576                   \n",
       "1_100202109_A_G-ENSG00000156876 0.58482723                   \n",
       "1_100249550_C_A-ENSG00000122435 0.58786938                   \n",
       "1_100435079_T_C-ENSG00000162688 0.56907083                   \n",
       "                                iPSC.pool1_13_noddd_D30.DA\n",
       "1_10003457_G_C-ENSG00000162441  0.539537970               \n",
       "1_10003457_G_C-ENSG00000173614  0.008994919               \n",
       "1_100099170_A_C-ENSG00000117620 0.073051156               \n",
       "1_100202109_A_G-ENSG00000156876 0.498738236               \n",
       "1_100249550_C_A-ENSG00000122435 0.621216360               \n",
       "1_100435079_T_C-ENSG00000162688 0.588994630               \n",
       "                                iPSC.pool1_13_noddd_D30.Epen1\n",
       "1_10003457_G_C-ENSG00000162441  0.578982395                  \n",
       "1_10003457_G_C-ENSG00000173614  0.007580233                  \n",
       "1_100099170_A_C-ENSG00000117620 0.511355259                  \n",
       "1_100202109_A_G-ENSG00000156876 0.610094166                  \n",
       "1_100249550_C_A-ENSG00000122435 0.525050624                  \n",
       "1_100435079_T_C-ENSG00000162688 0.314834994                  \n",
       "                                iPSC.pool1_13_noddd_D30.Sert\n",
       "1_10003457_G_C-ENSG00000162441  0.66227116                  \n",
       "1_10003457_G_C-ENSG00000173614  0.00262363                  \n",
       "1_100099170_A_C-ENSG00000117620 0.43700365                  \n",
       "1_100202109_A_G-ENSG00000156876 0.52366877                  \n",
       "1_100249550_C_A-ENSG00000122435 0.53904192                  \n",
       "1_100435079_T_C-ENSG00000162688 0.55642925                  \n",
       "                                iPSC.qtl_results_NONE_Astro_all\n",
       "1_10003457_G_C-ENSG00000162441  0.5722208                      \n",
       "1_10003457_G_C-ENSG00000173614  0.1744287                      \n",
       "1_100099170_A_C-ENSG00000117620 0.1772552                      \n",
       "1_100202109_A_G-ENSG00000156876 0.5411988                      \n",
       "1_100249550_C_A-ENSG00000122435 0.4786018                      \n",
       "1_100435079_T_C-ENSG00000162688 0.6092806                      \n",
       "                                iPSC.qtl_results_NONE_DA_all\n",
       "1_10003457_G_C-ENSG00000162441  0.551409306                 \n",
       "1_10003457_G_C-ENSG00000173614  0.006933351                 \n",
       "1_100099170_A_C-ENSG00000117620 0.203275209                 \n",
       "1_100202109_A_G-ENSG00000156876 0.313329188                 \n",
       "1_100249550_C_A-ENSG00000122435 0.521588102                 \n",
       "1_100435079_T_C-ENSG00000162688 0.619060313                 \n",
       "                                iPSC.qtl_results_NONE_Epen1_all\n",
       "1_10003457_G_C-ENSG00000162441  0.604068333                    \n",
       "1_10003457_G_C-ENSG00000173614  0.005946988                    \n",
       "1_100099170_A_C-ENSG00000117620 0.235407945                    \n",
       "1_100202109_A_G-ENSG00000156876 0.561198213                    \n",
       "1_100249550_C_A-ENSG00000122435 0.427116659                    \n",
       "1_100435079_T_C-ENSG00000162688 0.526102164                    \n",
       "                                iPSC.qtl_results_NONE_Sert_all\n",
       "1_10003457_G_C-ENSG00000162441  0.53196762                    \n",
       "1_10003457_G_C-ENSG00000173614  0.00460887                    \n",
       "1_100099170_A_C-ENSG00000117620 0.27120287                    \n",
       "1_100202109_A_G-ENSG00000156876 0.47113462                    \n",
       "1_100249550_C_A-ENSG00000122435 0.57342976                    \n",
       "1_100435079_T_C-ENSG00000162688 0.61146855                    \n",
       "                                iPSC.qtl_results_ROT_Astro_all\n",
       "1_10003457_G_C-ENSG00000162441  0.133122134                   \n",
       "1_10003457_G_C-ENSG00000173614  0.008558593                   \n",
       "1_100099170_A_C-ENSG00000117620 0.427784527                   \n",
       "1_100202109_A_G-ENSG00000156876 0.531277729                   \n",
       "1_100249550_C_A-ENSG00000122435 0.470018782                   \n",
       "1_100435079_T_C-ENSG00000162688 0.627499267                   \n",
       "                                iPSC.qtl_results_ROT_DA_all\n",
       "1_10003457_G_C-ENSG00000162441  0.52252523                 \n",
       "1_10003457_G_C-ENSG00000173614  0.01248641                 \n",
       "1_100099170_A_C-ENSG00000117620 0.32059068                 \n",
       "1_100202109_A_G-ENSG00000156876 0.51442523                 \n",
       "1_100249550_C_A-ENSG00000122435 0.51966277                 \n",
       "1_100435079_T_C-ENSG00000162688 0.51588234                 \n",
       "                                iPSC.qtl_results_ROT_Epen1_all\n",
       "1_10003457_G_C-ENSG00000162441  0.681161219                   \n",
       "1_10003457_G_C-ENSG00000173614  0.002525919                   \n",
       "1_100099170_A_C-ENSG00000117620 0.275055934                   \n",
       "1_100202109_A_G-ENSG00000156876 0.510630617                   \n",
       "1_100249550_C_A-ENSG00000122435 0.448704090                   \n",
       "1_100435079_T_C-ENSG00000162688 0.612339478                   \n",
       "                                iPSC.qtl_results_ROT_Sert_all\n",
       "1_10003457_G_C-ENSG00000162441  0.492023370                  \n",
       "1_10003457_G_C-ENSG00000173614  0.001119958                  \n",
       "1_100099170_A_C-ENSG00000117620 0.399258130                  \n",
       "1_100202109_A_G-ENSG00000156876 0.440792385                  \n",
       "1_100249550_C_A-ENSG00000122435 0.596536941                  \n",
       "1_100435079_T_C-ENSG00000162688 0.578708181                  "
      ]
     },
     "metadata": {},
     "output_type": "display_data"
    }
   ],
   "source": [
    "head(lsfrMat)"
   ]
  },
  {
   "cell_type": "code",
   "execution_count": 9,
   "metadata": {},
   "outputs": [
    {
     "data": {
      "text/html": [
       "<ol class=list-inline>\n",
       "\t<li>'1_10003457_G_C-ENSG00000162441'</li>\n",
       "\t<li>'1_10003457_G_C-ENSG00000173614'</li>\n",
       "\t<li>'1_100099170_A_C-ENSG00000117620'</li>\n",
       "\t<li>'1_100202109_A_G-ENSG00000156876'</li>\n",
       "\t<li>'1_100249550_C_A-ENSG00000122435'</li>\n",
       "\t<li>'1_100435079_T_C-ENSG00000162688'</li>\n",
       "</ol>\n"
      ],
      "text/latex": [
       "\\begin{enumerate*}\n",
       "\\item '1\\_10003457\\_G\\_C-ENSG00000162441'\n",
       "\\item '1\\_10003457\\_G\\_C-ENSG00000173614'\n",
       "\\item '1\\_100099170\\_A\\_C-ENSG00000117620'\n",
       "\\item '1\\_100202109\\_A\\_G-ENSG00000156876'\n",
       "\\item '1\\_100249550\\_C\\_A-ENSG00000122435'\n",
       "\\item '1\\_100435079\\_T\\_C-ENSG00000162688'\n",
       "\\end{enumerate*}\n"
      ],
      "text/markdown": [
       "1. '1_10003457_G_C-ENSG00000162441'\n",
       "2. '1_10003457_G_C-ENSG00000173614'\n",
       "3. '1_100099170_A_C-ENSG00000117620'\n",
       "4. '1_100202109_A_G-ENSG00000156876'\n",
       "5. '1_100249550_C_A-ENSG00000122435'\n",
       "6. '1_100435079_T_C-ENSG00000162688'\n",
       "\n",
       "\n"
      ],
      "text/plain": [
       "[1] \"1_10003457_G_C-ENSG00000162441\"  \"1_10003457_G_C-ENSG00000173614\" \n",
       "[3] \"1_100099170_A_C-ENSG00000117620\" \"1_100202109_A_G-ENSG00000156876\"\n",
       "[5] \"1_100249550_C_A-ENSG00000122435\" \"1_100435079_T_C-ENSG00000162688\""
      ]
     },
     "metadata": {},
     "output_type": "display_data"
    },
    {
     "data": {
      "text/html": [
       "<ol class=list-inline>\n",
       "\t<li>'ENSG00000162441'</li>\n",
       "\t<li>'ENSG00000173614'</li>\n",
       "\t<li>'ENSG00000117620'</li>\n",
       "\t<li>'ENSG00000156876'</li>\n",
       "\t<li>'ENSG00000122435'</li>\n",
       "\t<li>'ENSG00000162688'</li>\n",
       "</ol>\n"
      ],
      "text/latex": [
       "\\begin{enumerate*}\n",
       "\\item 'ENSG00000162441'\n",
       "\\item 'ENSG00000173614'\n",
       "\\item 'ENSG00000117620'\n",
       "\\item 'ENSG00000156876'\n",
       "\\item 'ENSG00000122435'\n",
       "\\item 'ENSG00000162688'\n",
       "\\end{enumerate*}\n"
      ],
      "text/markdown": [
       "1. 'ENSG00000162441'\n",
       "2. 'ENSG00000173614'\n",
       "3. 'ENSG00000117620'\n",
       "4. 'ENSG00000156876'\n",
       "5. 'ENSG00000122435'\n",
       "6. 'ENSG00000162688'\n",
       "\n",
       "\n"
      ],
      "text/plain": [
       "[1] \"ENSG00000162441\" \"ENSG00000173614\" \"ENSG00000117620\" \"ENSG00000156876\"\n",
       "[5] \"ENSG00000122435\" \"ENSG00000162688\""
      ]
     },
     "metadata": {},
     "output_type": "display_data"
    }
   ],
   "source": [
    "head(rownames(lsfrMat))\n",
    "genes = gsub(\".*-\",\"\",rownames(lsfrMat))\n",
    "head(genes)"
   ]
  },
  {
   "cell_type": "code",
   "execution_count": null,
   "metadata": {},
   "outputs": [],
   "source": []
  },
  {
   "cell_type": "code",
   "execution_count": 10,
   "metadata": {},
   "outputs": [
    {
     "data": {
      "text/html": [
       "<ol class=list-inline>\n",
       "\t<li>'iPSC.pool1_13_noddd_D11.FPP'</li>\n",
       "\t<li>'iPSC.pool1_13_noddd_D11.NB'</li>\n",
       "\t<li>'iPSC.pool1_13_noddd_D11.P_FPP'</li>\n",
       "\t<li>'iPSC.pool1_13_noddd_D30.Astro'</li>\n",
       "\t<li>'iPSC.pool1_13_noddd_D30.DA'</li>\n",
       "\t<li>'iPSC.pool1_13_noddd_D30.Epen1'</li>\n",
       "\t<li>'iPSC.pool1_13_noddd_D30.Sert'</li>\n",
       "\t<li>'iPSC.qtl_results_NONE_Astro_all'</li>\n",
       "\t<li>'iPSC.qtl_results_NONE_DA_all'</li>\n",
       "\t<li>'iPSC.qtl_results_NONE_Epen1_all'</li>\n",
       "\t<li>'iPSC.qtl_results_NONE_Sert_all'</li>\n",
       "\t<li>'iPSC.qtl_results_ROT_Astro_all'</li>\n",
       "\t<li>'iPSC.qtl_results_ROT_DA_all'</li>\n",
       "\t<li>'iPSC.qtl_results_ROT_Epen1_all'</li>\n",
       "\t<li>'iPSC.qtl_results_ROT_Sert_all'</li>\n",
       "</ol>\n"
      ],
      "text/latex": [
       "\\begin{enumerate*}\n",
       "\\item 'iPSC.pool1\\_13\\_noddd\\_D11.FPP'\n",
       "\\item 'iPSC.pool1\\_13\\_noddd\\_D11.NB'\n",
       "\\item 'iPSC.pool1\\_13\\_noddd\\_D11.P\\_FPP'\n",
       "\\item 'iPSC.pool1\\_13\\_noddd\\_D30.Astro'\n",
       "\\item 'iPSC.pool1\\_13\\_noddd\\_D30.DA'\n",
       "\\item 'iPSC.pool1\\_13\\_noddd\\_D30.Epen1'\n",
       "\\item 'iPSC.pool1\\_13\\_noddd\\_D30.Sert'\n",
       "\\item 'iPSC.qtl\\_results\\_NONE\\_Astro\\_all'\n",
       "\\item 'iPSC.qtl\\_results\\_NONE\\_DA\\_all'\n",
       "\\item 'iPSC.qtl\\_results\\_NONE\\_Epen1\\_all'\n",
       "\\item 'iPSC.qtl\\_results\\_NONE\\_Sert\\_all'\n",
       "\\item 'iPSC.qtl\\_results\\_ROT\\_Astro\\_all'\n",
       "\\item 'iPSC.qtl\\_results\\_ROT\\_DA\\_all'\n",
       "\\item 'iPSC.qtl\\_results\\_ROT\\_Epen1\\_all'\n",
       "\\item 'iPSC.qtl\\_results\\_ROT\\_Sert\\_all'\n",
       "\\end{enumerate*}\n"
      ],
      "text/markdown": [
       "1. 'iPSC.pool1_13_noddd_D11.FPP'\n",
       "2. 'iPSC.pool1_13_noddd_D11.NB'\n",
       "3. 'iPSC.pool1_13_noddd_D11.P_FPP'\n",
       "4. 'iPSC.pool1_13_noddd_D30.Astro'\n",
       "5. 'iPSC.pool1_13_noddd_D30.DA'\n",
       "6. 'iPSC.pool1_13_noddd_D30.Epen1'\n",
       "7. 'iPSC.pool1_13_noddd_D30.Sert'\n",
       "8. 'iPSC.qtl_results_NONE_Astro_all'\n",
       "9. 'iPSC.qtl_results_NONE_DA_all'\n",
       "10. 'iPSC.qtl_results_NONE_Epen1_all'\n",
       "11. 'iPSC.qtl_results_NONE_Sert_all'\n",
       "12. 'iPSC.qtl_results_ROT_Astro_all'\n",
       "13. 'iPSC.qtl_results_ROT_DA_all'\n",
       "14. 'iPSC.qtl_results_ROT_Epen1_all'\n",
       "15. 'iPSC.qtl_results_ROT_Sert_all'\n",
       "\n",
       "\n"
      ],
      "text/plain": [
       " [1] \"iPSC.pool1_13_noddd_D11.FPP\"     \"iPSC.pool1_13_noddd_D11.NB\"     \n",
       " [3] \"iPSC.pool1_13_noddd_D11.P_FPP\"   \"iPSC.pool1_13_noddd_D30.Astro\"  \n",
       " [5] \"iPSC.pool1_13_noddd_D30.DA\"      \"iPSC.pool1_13_noddd_D30.Epen1\"  \n",
       " [7] \"iPSC.pool1_13_noddd_D30.Sert\"    \"iPSC.qtl_results_NONE_Astro_all\"\n",
       " [9] \"iPSC.qtl_results_NONE_DA_all\"    \"iPSC.qtl_results_NONE_Epen1_all\"\n",
       "[11] \"iPSC.qtl_results_NONE_Sert_all\"  \"iPSC.qtl_results_ROT_Astro_all\" \n",
       "[13] \"iPSC.qtl_results_ROT_DA_all\"     \"iPSC.qtl_results_ROT_Epen1_all\" \n",
       "[15] \"iPSC.qtl_results_ROT_Sert_all\"  "
      ]
     },
     "metadata": {},
     "output_type": "display_data"
    }
   ],
   "source": [
    "colnames(lsfrMat)"
   ]
  },
  {
   "cell_type": "code",
   "execution_count": 11,
   "metadata": {
    "scrolled": true
   },
   "outputs": [],
   "source": [
    "# sampleSizeTissues = read.delim(tissue_samplesize,as.is=T, sep=\",\")\n",
    "# sampleSizeTissues\n",
    "# sampleSizeTissues = sampleSizeTissues[match(colnames(lsfrMat),(sampleSizeTissues$tissue)),]\n",
    "# head(sampleSizeTissues)\n",
    "# all(sampleSizeTissues$tissue == colnames(lsfrMat))\n",
    "# sampleSizeTissues[match(colnames(lsfrMat),(sampleSizeTissues$tissue)),]"
   ]
  },
  {
   "cell_type": "code",
   "execution_count": 87,
   "metadata": {},
   "outputs": [],
   "source": [
    "ratio = 2\n",
    "lsfrThreshold = 0.05\n",
    "any = T\n",
    "both = F\n",
    "smallest = F"
   ]
  },
  {
   "cell_type": "code",
   "execution_count": 88,
   "metadata": {},
   "outputs": [],
   "source": [
    "sameSignMagnitude = matrix(0, ncol=ncol(lsfrMat), nrow=ncol(lsfrMat))\n",
    "sameSign = matrix(0, ncol=ncol(lsfrMat), nrow=ncol(lsfrMat))\n",
    "total = matrix(0, ncol=ncol(lsfrMat), nrow=ncol(lsfrMat))"
   ]
  },
  {
   "cell_type": "code",
   "execution_count": 89,
   "metadata": {},
   "outputs": [
    {
     "data": {
      "text/html": [
       "9"
      ],
      "text/latex": [
       "9"
      ],
      "text/markdown": [
       "9"
      ],
      "text/plain": [
       "[1] 9"
      ]
     },
     "metadata": {},
     "output_type": "display_data"
    }
   ],
   "source": [
    "cols = grep(\"_D\",colnames(lsfrMat))\n",
    "length(colnames(lsfrMat)[cols])"
   ]
  },
  {
   "cell_type": "code",
   "execution_count": 90,
   "metadata": {},
   "outputs": [
    {
     "data": {
      "text/html": [
       "8738"
      ],
      "text/latex": [
       "8738"
      ],
      "text/markdown": [
       "8738"
      ],
      "text/plain": [
       "[1] 8738"
      ]
     },
     "metadata": {},
     "output_type": "display_data"
    }
   ],
   "source": [
    "nrow(lsfrMat)"
   ]
  },
  {
   "cell_type": "code",
   "execution_count": 91,
   "metadata": {},
   "outputs": [
    {
     "data": {
      "text/html": [
       "1730"
      ],
      "text/latex": [
       "1730"
      ],
      "text/markdown": [
       "1730"
      ],
      "text/plain": [
       "[1] 1730"
      ]
     },
     "metadata": {},
     "output_type": "display_data"
    }
   ],
   "source": [
    "toConsider = which(lsfrMat[,cols[1]] < lsfrThreshold )\n",
    "for (i in 2:length(cols)){\n",
    "    toConsider = unique(c(toConsider,which(lsfrMat[,cols[i]] < lsfrThreshold)))\n",
    "}\n",
    "length(toConsider)"
   ]
  },
  {
   "cell_type": "code",
   "execution_count": 92,
   "metadata": {},
   "outputs": [],
   "source": [
    "for(colN in 1:ncol(lsfrMat)){\n",
    "    for(colM in colN:ncol(lsfrMat)){\n",
    "        total[colN,colM] = length(toConsider)\n",
    "        total[colM,colN] = total[colN,colM]\n",
    "\n",
    "        tmpInfo = posteriorMean[toConsider,colN]/posteriorMean[toConsider,colM]\n",
    "        tmpInfo2 = tmpInfo[which(tmpInfo>0)]\n",
    "        sameSign[colN,colM] = length(tmpInfo2)\n",
    "        sameSign[colM,colN] = sameSign[colN,colM]\n",
    "\n",
    "        tmpInfo2[which(tmpInfo2<1)] = 1/tmpInfo2[which(tmpInfo2<1)]\n",
    "        sameSignMagnitude[colN,colM] = length(which(tmpInfo2<=ratio))\n",
    "        sameSignMagnitude[colM,colN] = sameSignMagnitude[colN,colM]\n",
    "    }\n",
    "}"
   ]
  },
  {
   "cell_type": "code",
   "execution_count": null,
   "metadata": {},
   "outputs": [],
   "source": []
  },
  {
   "cell_type": "code",
   "execution_count": 93,
   "metadata": {},
   "outputs": [],
   "source": [
    "options(warn=2)\n",
    "if(sum(any,both, smallest)==1){\n",
    "  for(colN in 1:ncol(lsfrMat)){\n",
    "    for(colM in colN:ncol(lsfrMat)){\n",
    "      if(any){\n",
    "        toConsider = unique(c(which(lsfrMat[,colN]<lsfrThreshold),which(lsfrMat[,colM]<lsfrThreshold)))\n",
    "      } else if(both) {\n",
    "        toConsider = intersect(which(lsfrMat[,colN]<lsfrThreshold),which(lsfrMat[,colM]<lsfrThreshold))\n",
    "      } else if(smallest){\n",
    "        if(sampleSizeTissues$n[colN] > sampleSizeTissues$n[colM]){\n",
    "          toConsider = which(lsfrMat[,colM]<lsfrThreshold)\n",
    "        } else {\n",
    "          toConsider = which(lsfrMat[,colN]<lsfrThreshold)\n",
    "        }\n",
    "      }\n",
    "      total[colN,colM] = length(toConsider)\n",
    "      total[colM,colN] = total[colN,colM]\n",
    "      \n",
    "      tmpInfo = posteriorMean[toConsider,colN]/posteriorMean[toConsider,colM]\n",
    "      tmpInfo2 = tmpInfo[which(tmpInfo>0)]\n",
    "      sameSign[colN,colM] = length(tmpInfo2)\n",
    "      sameSign[colM,colN] = sameSign[colN,colM]\n",
    "      \n",
    "      tmpInfo2[which(tmpInfo2<1)] = 1/tmpInfo2[which(tmpInfo2<1)]\n",
    "      sameSignMagnitude[colN,colM] = length(which(tmpInfo2<=ratio))\n",
    "      sameSignMagnitude[colM,colN] = sameSignMagnitude[colN,colM]\n",
    "    }\n",
    "  }\n",
    "} else {\n",
    "  print(\"Setting issue.\")\n",
    "}"
   ]
  },
  {
   "cell_type": "code",
   "execution_count": 94,
   "metadata": {},
   "outputs": [
    {
     "data": {
      "text/html": [
       "<table>\n",
       "<thead><tr><th scope=col>X1</th><th scope=col>X2</th><th scope=col>value</th></tr></thead>\n",
       "<tbody>\n",
       "\t<tr><td>iPSC.pool1_13_noddd_D11.NB     </td><td>iPSC.pool1_13_noddd_D11.NB     </td><td>1.0000000                      </td></tr>\n",
       "\t<tr><td>iPSC.pool1_13_noddd_D11.FPP    </td><td>iPSC.pool1_13_noddd_D11.NB     </td><td>0.9663810                      </td></tr>\n",
       "\t<tr><td>iPSC.pool1_13_noddd_D11.P_FPP  </td><td>iPSC.pool1_13_noddd_D11.NB     </td><td>0.9537954                      </td></tr>\n",
       "\t<tr><td>iPSC.qtl_results_NONE_Astro_all</td><td>iPSC.pool1_13_noddd_D11.NB     </td><td>0.9294781                      </td></tr>\n",
       "\t<tr><td>iPSC.qtl_results_ROT_Astro_all </td><td>iPSC.pool1_13_noddd_D11.NB     </td><td>0.9433692                      </td></tr>\n",
       "\t<tr><td>iPSC.pool1_13_noddd_D30.DA     </td><td>iPSC.pool1_13_noddd_D11.NB     </td><td>0.9415671                      </td></tr>\n",
       "</tbody>\n",
       "</table>\n"
      ],
      "text/latex": [
       "\\begin{tabular}{r|lll}\n",
       " X1 & X2 & value\\\\\n",
       "\\hline\n",
       "\t iPSC.pool1\\_13\\_noddd\\_D11.NB      & iPSC.pool1\\_13\\_noddd\\_D11.NB      & 1.0000000                            \\\\\n",
       "\t iPSC.pool1\\_13\\_noddd\\_D11.FPP     & iPSC.pool1\\_13\\_noddd\\_D11.NB      & 0.9663810                            \\\\\n",
       "\t iPSC.pool1\\_13\\_noddd\\_D11.P\\_FPP   & iPSC.pool1\\_13\\_noddd\\_D11.NB        & 0.9537954                              \\\\\n",
       "\t iPSC.qtl\\_results\\_NONE\\_Astro\\_all & iPSC.pool1\\_13\\_noddd\\_D11.NB        & 0.9294781                              \\\\\n",
       "\t iPSC.qtl\\_results\\_ROT\\_Astro\\_all  & iPSC.pool1\\_13\\_noddd\\_D11.NB        & 0.9433692                              \\\\\n",
       "\t iPSC.pool1\\_13\\_noddd\\_D30.DA      & iPSC.pool1\\_13\\_noddd\\_D11.NB      & 0.9415671                            \\\\\n",
       "\\end{tabular}\n"
      ],
      "text/markdown": [
       "\n",
       "| X1 | X2 | value |\n",
       "|---|---|---|\n",
       "| iPSC.pool1_13_noddd_D11.NB      | iPSC.pool1_13_noddd_D11.NB      | 1.0000000                       |\n",
       "| iPSC.pool1_13_noddd_D11.FPP     | iPSC.pool1_13_noddd_D11.NB      | 0.9663810                       |\n",
       "| iPSC.pool1_13_noddd_D11.P_FPP   | iPSC.pool1_13_noddd_D11.NB      | 0.9537954                       |\n",
       "| iPSC.qtl_results_NONE_Astro_all | iPSC.pool1_13_noddd_D11.NB      | 0.9294781                       |\n",
       "| iPSC.qtl_results_ROT_Astro_all  | iPSC.pool1_13_noddd_D11.NB      | 0.9433692                       |\n",
       "| iPSC.pool1_13_noddd_D30.DA      | iPSC.pool1_13_noddd_D11.NB      | 0.9415671                       |\n",
       "\n"
      ],
      "text/plain": [
       "  X1                              X2                         value    \n",
       "1 iPSC.pool1_13_noddd_D11.NB      iPSC.pool1_13_noddd_D11.NB 1.0000000\n",
       "2 iPSC.pool1_13_noddd_D11.FPP     iPSC.pool1_13_noddd_D11.NB 0.9663810\n",
       "3 iPSC.pool1_13_noddd_D11.P_FPP   iPSC.pool1_13_noddd_D11.NB 0.9537954\n",
       "4 iPSC.qtl_results_NONE_Astro_all iPSC.pool1_13_noddd_D11.NB 0.9294781\n",
       "5 iPSC.qtl_results_ROT_Astro_all  iPSC.pool1_13_noddd_D11.NB 0.9433692\n",
       "6 iPSC.pool1_13_noddd_D30.DA      iPSC.pool1_13_noddd_D11.NB 0.9415671"
      ]
     },
     "metadata": {},
     "output_type": "display_data"
    }
   ],
   "source": [
    "# options(warn=1)\n",
    "\n",
    "pairwiseSharingSign = sameSign/total\n",
    "pairwiseSharing = sameSignMagnitude/total\n",
    "\n",
    "colnames(pairwiseSharing) = colnames(lsfrMat)\n",
    "rownames(pairwiseSharing) = colnames(lsfrMat)\n",
    "colnames(pairwiseSharingSign) = colnames(lsfrMat)\n",
    "rownames(pairwiseSharingSign) = colnames(lsfrMat)\n",
    "\n",
    "##Sign only\n",
    "upper_tri <- get_lower_tri(reorder_cormat(as.matrix(pairwiseSharingSign)))\n",
    "melted_cormat <- melt(upper_tri, na.rm = TRUE)\n",
    "head(melted_cormat)\n",
    "\n",
    "##Sign only\n",
    "# upper_tri <- get_lower_tri(reorder_cormat(as.matrix(pairwiseSharing)))\n",
    "# melted_cormat <- melt(upper_tri, na.rm = TRUE)\n",
    "# head(melted_cormat)"
   ]
  },
  {
   "cell_type": "code",
   "execution_count": 95,
   "metadata": {},
   "outputs": [],
   "source": [
    "# install.packages(\"ggthemes\")"
   ]
  },
  {
   "cell_type": "code",
   "execution_count": 96,
   "metadata": {},
   "outputs": [],
   "source": [
    "library(ggthemes)"
   ]
  },
  {
   "cell_type": "code",
   "execution_count": 97,
   "metadata": {},
   "outputs": [],
   "source": [
    "col_ips = canva_pal(\"Modern and clean\")(4)[2]\n",
    "col_mesendo = canva_pal(\"Modern and clean\")(4)[4]\n",
    "col_defendo = canva_pal(\"Warm tones\")(4)[3]\n",
    "\n",
    "col_FPP = \"#aec7e8\"\n",
    "col_P_FPP = \"#1f77b4\"\n",
    "col_NB = \"#ff7f0e\"\n",
    "\n",
    "col_DA = \"#2ca02c\"\n",
    "col_Sert = \"#98df8a\"\n",
    "col_Epen1 = \"#ff9896\"\n",
    "# col_Astro = \"#d62728\"\n",
    "col_Astro = \"#9467bd\""
   ]
  },
  {
   "cell_type": "code",
   "execution_count": 98,
   "metadata": {},
   "outputs": [
    {
     "data": {
      "text/html": [
       "<ol class=list-inline>\n",
       "\t<li>'iPSC.pool1_13_noddd_D11.FPP'</li>\n",
       "\t<li>'iPSC.pool1_13_noddd_D11.NB'</li>\n",
       "\t<li>'iPSC.pool1_13_noddd_D11.P_FPP'</li>\n",
       "\t<li>'iPSC.pool1_13_noddd_D30.Astro'</li>\n",
       "\t<li>'iPSC.pool1_13_noddd_D30.DA'</li>\n",
       "\t<li>'iPSC.pool1_13_noddd_D30.Epen1'</li>\n",
       "\t<li>'iPSC.pool1_13_noddd_D30.Sert'</li>\n",
       "\t<li>'iPSC.qtl_results_NONE_Astro_all'</li>\n",
       "\t<li>'iPSC.qtl_results_NONE_DA_all'</li>\n",
       "\t<li>'iPSC.qtl_results_NONE_Epen1_all'</li>\n",
       "\t<li>'iPSC.qtl_results_NONE_Sert_all'</li>\n",
       "\t<li>'iPSC.qtl_results_ROT_Astro_all'</li>\n",
       "\t<li>'iPSC.qtl_results_ROT_DA_all'</li>\n",
       "\t<li>'iPSC.qtl_results_ROT_Epen1_all'</li>\n",
       "\t<li>'iPSC.qtl_results_ROT_Sert_all'</li>\n",
       "</ol>\n"
      ],
      "text/latex": [
       "\\begin{enumerate*}\n",
       "\\item 'iPSC.pool1\\_13\\_noddd\\_D11.FPP'\n",
       "\\item 'iPSC.pool1\\_13\\_noddd\\_D11.NB'\n",
       "\\item 'iPSC.pool1\\_13\\_noddd\\_D11.P\\_FPP'\n",
       "\\item 'iPSC.pool1\\_13\\_noddd\\_D30.Astro'\n",
       "\\item 'iPSC.pool1\\_13\\_noddd\\_D30.DA'\n",
       "\\item 'iPSC.pool1\\_13\\_noddd\\_D30.Epen1'\n",
       "\\item 'iPSC.pool1\\_13\\_noddd\\_D30.Sert'\n",
       "\\item 'iPSC.qtl\\_results\\_NONE\\_Astro\\_all'\n",
       "\\item 'iPSC.qtl\\_results\\_NONE\\_DA\\_all'\n",
       "\\item 'iPSC.qtl\\_results\\_NONE\\_Epen1\\_all'\n",
       "\\item 'iPSC.qtl\\_results\\_NONE\\_Sert\\_all'\n",
       "\\item 'iPSC.qtl\\_results\\_ROT\\_Astro\\_all'\n",
       "\\item 'iPSC.qtl\\_results\\_ROT\\_DA\\_all'\n",
       "\\item 'iPSC.qtl\\_results\\_ROT\\_Epen1\\_all'\n",
       "\\item 'iPSC.qtl\\_results\\_ROT\\_Sert\\_all'\n",
       "\\end{enumerate*}\n"
      ],
      "text/markdown": [
       "1. 'iPSC.pool1_13_noddd_D11.FPP'\n",
       "2. 'iPSC.pool1_13_noddd_D11.NB'\n",
       "3. 'iPSC.pool1_13_noddd_D11.P_FPP'\n",
       "4. 'iPSC.pool1_13_noddd_D30.Astro'\n",
       "5. 'iPSC.pool1_13_noddd_D30.DA'\n",
       "6. 'iPSC.pool1_13_noddd_D30.Epen1'\n",
       "7. 'iPSC.pool1_13_noddd_D30.Sert'\n",
       "8. 'iPSC.qtl_results_NONE_Astro_all'\n",
       "9. 'iPSC.qtl_results_NONE_DA_all'\n",
       "10. 'iPSC.qtl_results_NONE_Epen1_all'\n",
       "11. 'iPSC.qtl_results_NONE_Sert_all'\n",
       "12. 'iPSC.qtl_results_ROT_Astro_all'\n",
       "13. 'iPSC.qtl_results_ROT_DA_all'\n",
       "14. 'iPSC.qtl_results_ROT_Epen1_all'\n",
       "15. 'iPSC.qtl_results_ROT_Sert_all'\n",
       "\n",
       "\n"
      ],
      "text/plain": [
       " [1] \"iPSC.pool1_13_noddd_D11.FPP\"     \"iPSC.pool1_13_noddd_D11.NB\"     \n",
       " [3] \"iPSC.pool1_13_noddd_D11.P_FPP\"   \"iPSC.pool1_13_noddd_D30.Astro\"  \n",
       " [5] \"iPSC.pool1_13_noddd_D30.DA\"      \"iPSC.pool1_13_noddd_D30.Epen1\"  \n",
       " [7] \"iPSC.pool1_13_noddd_D30.Sert\"    \"iPSC.qtl_results_NONE_Astro_all\"\n",
       " [9] \"iPSC.qtl_results_NONE_DA_all\"    \"iPSC.qtl_results_NONE_Epen1_all\"\n",
       "[11] \"iPSC.qtl_results_NONE_Sert_all\"  \"iPSC.qtl_results_ROT_Astro_all\" \n",
       "[13] \"iPSC.qtl_results_ROT_DA_all\"     \"iPSC.qtl_results_ROT_Epen1_all\" \n",
       "[15] \"iPSC.qtl_results_ROT_Sert_all\"  "
      ]
     },
     "metadata": {},
     "output_type": "display_data"
    }
   ],
   "source": [
    "colnames(pairwiseSharingSign)"
   ]
  },
  {
   "cell_type": "code",
   "execution_count": 99,
   "metadata": {},
   "outputs": [
    {
     "data": {
      "text/html": [
       "<table>\n",
       "<thead><tr><th></th><th scope=col>iPSC.pool1_13_noddd_D11.FPP</th><th scope=col>iPSC.pool1_13_noddd_D11.P_FPP</th><th scope=col>iPSC.pool1_13_noddd_D30.Astro</th><th scope=col>iPSC.pool1_13_noddd_D30.DA</th><th scope=col>iPSC.pool1_13_noddd_D30.Epen1</th><th scope=col>iPSC.pool1_13_noddd_D30.Sert</th><th scope=col>iPSC.qtl_results_NONE_Astro_all</th><th scope=col>iPSC.qtl_results_NONE_DA_all</th><th scope=col>iPSC.qtl_results_NONE_Epen1_all</th><th scope=col>iPSC.qtl_results_NONE_Sert_all</th><th scope=col>iPSC.qtl_results_ROT_Astro_all</th><th scope=col>iPSC.qtl_results_ROT_DA_all</th><th scope=col>iPSC.qtl_results_ROT_Epen1_all</th><th scope=col>iPSC.qtl_results_ROT_Sert_all</th></tr></thead>\n",
       "<tbody>\n",
       "\t<tr><th scope=row>iPSC.pool1_13_noddd_D11.FPP</th><td>1.0000000</td><td>0.9856209</td><td>0.9575412</td><td>0.9530075</td><td>0.9446565</td><td>0.9606742</td><td>0.9326263</td><td>0.9510358</td><td>0.9513889</td><td>0.9537893</td><td>0.9414330</td><td>0.9479034</td><td>0.9540592</td><td>0.9559826</td></tr>\n",
       "\t<tr><th scope=row>iPSC.pool1_13_noddd_D11.P_FPP</th><td>0.9856209</td><td>1.0000000</td><td>0.9477707</td><td>0.9433249</td><td>0.9402795</td><td>0.9528598</td><td>0.9244694</td><td>0.9415829</td><td>0.9419192</td><td>0.9438272</td><td>0.9360100</td><td>0.9404609</td><td>0.9475348</td><td>0.9434080</td></tr>\n",
       "\t<tr><th scope=row>iPSC.pool1_13_noddd_D30.Astro</th><td>0.9575412</td><td>0.9477707</td><td>1.0000000</td><td>0.9675746</td><td>0.9826897</td><td>0.9772432</td><td>0.9698361</td><td>0.9670968</td><td>0.9750329</td><td>0.9713922</td><td>0.9552239</td><td>0.9602606</td><td>0.9740428</td><td>0.9641058</td></tr>\n",
       "\t<tr><th scope=row>iPSC.pool1_13_noddd_D30.DA</th><td>0.9530075</td><td>0.9433249</td><td>0.9675746</td><td>1.0000000</td><td>0.9579288</td><td>0.9765930</td><td>0.9561573</td><td>0.9821074</td><td>0.9533248</td><td>0.9649458</td><td>0.9439133</td><td>0.9772575</td><td>0.9521073</td><td>0.9568528</td></tr>\n",
       "\t<tr><th scope=row>iPSC.pool1_13_noddd_D30.Epen1</th><td>0.9446565</td><td>0.9402795</td><td>0.9826897</td><td>0.9579288</td><td>1.0000000</td><td>0.9720234</td><td>0.9630376</td><td>0.9599483</td><td>0.9883081</td><td>0.9707006</td><td>0.9530423</td><td>0.9535644</td><td>0.9851752</td><td>0.9609572</td></tr>\n",
       "\t<tr><th scope=row>iPSC.pool1_13_noddd_D30.Sert</th><td>0.9606742</td><td>0.9528598</td><td>0.9772432</td><td>0.9765930</td><td>0.9720234</td><td>1.0000000</td><td>0.9581994</td><td>0.9765625</td><td>0.9696578</td><td>0.9929124</td><td>0.9500960</td><td>0.9772284</td><td>0.9662420</td><td>0.9852659</td></tr>\n",
       "\t<tr><th scope=row>iPSC.qtl_results_NONE_Astro_all</th><td>0.9326263</td><td>0.9244694</td><td>0.9698361</td><td>0.9561573</td><td>0.9630376</td><td>0.9581994</td><td>1.0000000</td><td>0.9609121</td><td>0.9689153</td><td>0.9548920</td><td>0.9705036</td><td>0.9522849</td><td>0.9608234</td><td>0.9463944</td></tr>\n",
       "\t<tr><th scope=row>iPSC.qtl_results_NONE_DA_all</th><td>0.9510358</td><td>0.9415829</td><td>0.9670968</td><td>0.9821074</td><td>0.9599483</td><td>0.9765625</td><td>0.9609121</td><td>1.0000000</td><td>0.9563543</td><td>0.9685494</td><td>0.9466581</td><td>0.9863946</td><td>0.9533546</td><td>0.9653624</td></tr>\n",
       "\t<tr><th scope=row>iPSC.qtl_results_NONE_Epen1_all</th><td>0.9513889</td><td>0.9419192</td><td>0.9750329</td><td>0.9533248</td><td>0.9883081</td><td>0.9696578</td><td>0.9689153</td><td>0.9563543</td><td>1.0000000</td><td>0.9690070</td><td>0.9577558</td><td>0.9531250</td><td>0.9878543</td><td>0.9630557</td></tr>\n",
       "\t<tr><th scope=row>iPSC.qtl_results_NONE_Sert_all</th><td>0.9537893</td><td>0.9438272</td><td>0.9713922</td><td>0.9649458</td><td>0.9707006</td><td>0.9929124</td><td>0.9548920</td><td>0.9685494</td><td>0.9690070</td><td>1.0000000</td><td>0.9438840</td><td>0.9665354</td><td>0.9629164</td><td>0.9863990</td></tr>\n",
       "\t<tr><th scope=row>iPSC.qtl_results_ROT_Astro_all</th><td>0.9414330</td><td>0.9360100</td><td>0.9552239</td><td>0.9439133</td><td>0.9530423</td><td>0.9500960</td><td>0.9705036</td><td>0.9466581</td><td>0.9577558</td><td>0.9438840</td><td>1.0000000</td><td>0.9518970</td><td>0.9588587</td><td>0.9475368</td></tr>\n",
       "\t<tr><th scope=row>iPSC.qtl_results_ROT_DA_all</th><td>0.9479034</td><td>0.9404609</td><td>0.9602606</td><td>0.9772575</td><td>0.9535644</td><td>0.9772284</td><td>0.9522849</td><td>0.9863946</td><td>0.9531250</td><td>0.9665354</td><td>0.9518970</td><td>1.0000000</td><td>0.9523499</td><td>0.9765730</td></tr>\n",
       "\t<tr><th scope=row>iPSC.qtl_results_ROT_Epen1_all</th><td>0.9540592</td><td>0.9475348</td><td>0.9740428</td><td>0.9521073</td><td>0.9851752</td><td>0.9662420</td><td>0.9608234</td><td>0.9533546</td><td>0.9878543</td><td>0.9629164</td><td>0.9588587</td><td>0.9523499</td><td>1.0000000</td><td>0.9622642</td></tr>\n",
       "\t<tr><th scope=row>iPSC.qtl_results_ROT_Sert_all</th><td>0.9559826</td><td>0.9434080</td><td>0.9641058</td><td>0.9568528</td><td>0.9609572</td><td>0.9852659</td><td>0.9463944</td><td>0.9653624</td><td>0.9630557</td><td>0.9863990</td><td>0.9475368</td><td>0.9765730</td><td>0.9622642</td><td>1.0000000</td></tr>\n",
       "</tbody>\n",
       "</table>\n"
      ],
      "text/latex": [
       "\\begin{tabular}{r|llllllllllllll}\n",
       "  & iPSC.pool1\\_13\\_noddd\\_D11.FPP & iPSC.pool1\\_13\\_noddd\\_D11.P\\_FPP & iPSC.pool1\\_13\\_noddd\\_D30.Astro & iPSC.pool1\\_13\\_noddd\\_D30.DA & iPSC.pool1\\_13\\_noddd\\_D30.Epen1 & iPSC.pool1\\_13\\_noddd\\_D30.Sert & iPSC.qtl\\_results\\_NONE\\_Astro\\_all & iPSC.qtl\\_results\\_NONE\\_DA\\_all & iPSC.qtl\\_results\\_NONE\\_Epen1\\_all & iPSC.qtl\\_results\\_NONE\\_Sert\\_all & iPSC.qtl\\_results\\_ROT\\_Astro\\_all & iPSC.qtl\\_results\\_ROT\\_DA\\_all & iPSC.qtl\\_results\\_ROT\\_Epen1\\_all & iPSC.qtl\\_results\\_ROT\\_Sert\\_all\\\\\n",
       "\\hline\n",
       "\tiPSC.pool1\\_13\\_noddd\\_D11.FPP & 1.0000000 & 0.9856209 & 0.9575412 & 0.9530075 & 0.9446565 & 0.9606742 & 0.9326263 & 0.9510358 & 0.9513889 & 0.9537893 & 0.9414330 & 0.9479034 & 0.9540592 & 0.9559826\\\\\n",
       "\tiPSC.pool1\\_13\\_noddd\\_D11.P\\_FPP & 0.9856209 & 1.0000000 & 0.9477707 & 0.9433249 & 0.9402795 & 0.9528598 & 0.9244694 & 0.9415829 & 0.9419192 & 0.9438272 & 0.9360100 & 0.9404609 & 0.9475348 & 0.9434080\\\\\n",
       "\tiPSC.pool1\\_13\\_noddd\\_D30.Astro & 0.9575412 & 0.9477707 & 1.0000000 & 0.9675746 & 0.9826897 & 0.9772432 & 0.9698361 & 0.9670968 & 0.9750329 & 0.9713922 & 0.9552239 & 0.9602606 & 0.9740428 & 0.9641058\\\\\n",
       "\tiPSC.pool1\\_13\\_noddd\\_D30.DA & 0.9530075 & 0.9433249 & 0.9675746 & 1.0000000 & 0.9579288 & 0.9765930 & 0.9561573 & 0.9821074 & 0.9533248 & 0.9649458 & 0.9439133 & 0.9772575 & 0.9521073 & 0.9568528\\\\\n",
       "\tiPSC.pool1\\_13\\_noddd\\_D30.Epen1 & 0.9446565 & 0.9402795 & 0.9826897 & 0.9579288 & 1.0000000 & 0.9720234 & 0.9630376 & 0.9599483 & 0.9883081 & 0.9707006 & 0.9530423 & 0.9535644 & 0.9851752 & 0.9609572\\\\\n",
       "\tiPSC.pool1\\_13\\_noddd\\_D30.Sert & 0.9606742 & 0.9528598 & 0.9772432 & 0.9765930 & 0.9720234 & 1.0000000 & 0.9581994 & 0.9765625 & 0.9696578 & 0.9929124 & 0.9500960 & 0.9772284 & 0.9662420 & 0.9852659\\\\\n",
       "\tiPSC.qtl\\_results\\_NONE\\_Astro\\_all & 0.9326263 & 0.9244694 & 0.9698361 & 0.9561573 & 0.9630376 & 0.9581994 & 1.0000000 & 0.9609121 & 0.9689153 & 0.9548920 & 0.9705036 & 0.9522849 & 0.9608234 & 0.9463944\\\\\n",
       "\tiPSC.qtl\\_results\\_NONE\\_DA\\_all & 0.9510358 & 0.9415829 & 0.9670968 & 0.9821074 & 0.9599483 & 0.9765625 & 0.9609121 & 1.0000000 & 0.9563543 & 0.9685494 & 0.9466581 & 0.9863946 & 0.9533546 & 0.9653624\\\\\n",
       "\tiPSC.qtl\\_results\\_NONE\\_Epen1\\_all & 0.9513889 & 0.9419192 & 0.9750329 & 0.9533248 & 0.9883081 & 0.9696578 & 0.9689153 & 0.9563543 & 1.0000000 & 0.9690070 & 0.9577558 & 0.9531250 & 0.9878543 & 0.9630557\\\\\n",
       "\tiPSC.qtl\\_results\\_NONE\\_Sert\\_all & 0.9537893 & 0.9438272 & 0.9713922 & 0.9649458 & 0.9707006 & 0.9929124 & 0.9548920 & 0.9685494 & 0.9690070 & 1.0000000 & 0.9438840 & 0.9665354 & 0.9629164 & 0.9863990\\\\\n",
       "\tiPSC.qtl\\_results\\_ROT\\_Astro\\_all & 0.9414330 & 0.9360100 & 0.9552239 & 0.9439133 & 0.9530423 & 0.9500960 & 0.9705036 & 0.9466581 & 0.9577558 & 0.9438840 & 1.0000000 & 0.9518970 & 0.9588587 & 0.9475368\\\\\n",
       "\tiPSC.qtl\\_results\\_ROT\\_DA\\_all & 0.9479034 & 0.9404609 & 0.9602606 & 0.9772575 & 0.9535644 & 0.9772284 & 0.9522849 & 0.9863946 & 0.9531250 & 0.9665354 & 0.9518970 & 1.0000000 & 0.9523499 & 0.9765730\\\\\n",
       "\tiPSC.qtl\\_results\\_ROT\\_Epen1\\_all & 0.9540592 & 0.9475348 & 0.9740428 & 0.9521073 & 0.9851752 & 0.9662420 & 0.9608234 & 0.9533546 & 0.9878543 & 0.9629164 & 0.9588587 & 0.9523499 & 1.0000000 & 0.9622642\\\\\n",
       "\tiPSC.qtl\\_results\\_ROT\\_Sert\\_all & 0.9559826 & 0.9434080 & 0.9641058 & 0.9568528 & 0.9609572 & 0.9852659 & 0.9463944 & 0.9653624 & 0.9630557 & 0.9863990 & 0.9475368 & 0.9765730 & 0.9622642 & 1.0000000\\\\\n",
       "\\end{tabular}\n"
      ],
      "text/markdown": [
       "\n",
       "| <!--/--> | iPSC.pool1_13_noddd_D11.FPP | iPSC.pool1_13_noddd_D11.P_FPP | iPSC.pool1_13_noddd_D30.Astro | iPSC.pool1_13_noddd_D30.DA | iPSC.pool1_13_noddd_D30.Epen1 | iPSC.pool1_13_noddd_D30.Sert | iPSC.qtl_results_NONE_Astro_all | iPSC.qtl_results_NONE_DA_all | iPSC.qtl_results_NONE_Epen1_all | iPSC.qtl_results_NONE_Sert_all | iPSC.qtl_results_ROT_Astro_all | iPSC.qtl_results_ROT_DA_all | iPSC.qtl_results_ROT_Epen1_all | iPSC.qtl_results_ROT_Sert_all |\n",
       "|---|---|---|---|---|---|---|---|---|---|---|---|---|---|---|\n",
       "| iPSC.pool1_13_noddd_D11.FPP | 1.0000000 | 0.9856209 | 0.9575412 | 0.9530075 | 0.9446565 | 0.9606742 | 0.9326263 | 0.9510358 | 0.9513889 | 0.9537893 | 0.9414330 | 0.9479034 | 0.9540592 | 0.9559826 |\n",
       "| iPSC.pool1_13_noddd_D11.P_FPP | 0.9856209 | 1.0000000 | 0.9477707 | 0.9433249 | 0.9402795 | 0.9528598 | 0.9244694 | 0.9415829 | 0.9419192 | 0.9438272 | 0.9360100 | 0.9404609 | 0.9475348 | 0.9434080 |\n",
       "| iPSC.pool1_13_noddd_D30.Astro | 0.9575412 | 0.9477707 | 1.0000000 | 0.9675746 | 0.9826897 | 0.9772432 | 0.9698361 | 0.9670968 | 0.9750329 | 0.9713922 | 0.9552239 | 0.9602606 | 0.9740428 | 0.9641058 |\n",
       "| iPSC.pool1_13_noddd_D30.DA | 0.9530075 | 0.9433249 | 0.9675746 | 1.0000000 | 0.9579288 | 0.9765930 | 0.9561573 | 0.9821074 | 0.9533248 | 0.9649458 | 0.9439133 | 0.9772575 | 0.9521073 | 0.9568528 |\n",
       "| iPSC.pool1_13_noddd_D30.Epen1 | 0.9446565 | 0.9402795 | 0.9826897 | 0.9579288 | 1.0000000 | 0.9720234 | 0.9630376 | 0.9599483 | 0.9883081 | 0.9707006 | 0.9530423 | 0.9535644 | 0.9851752 | 0.9609572 |\n",
       "| iPSC.pool1_13_noddd_D30.Sert | 0.9606742 | 0.9528598 | 0.9772432 | 0.9765930 | 0.9720234 | 1.0000000 | 0.9581994 | 0.9765625 | 0.9696578 | 0.9929124 | 0.9500960 | 0.9772284 | 0.9662420 | 0.9852659 |\n",
       "| iPSC.qtl_results_NONE_Astro_all | 0.9326263 | 0.9244694 | 0.9698361 | 0.9561573 | 0.9630376 | 0.9581994 | 1.0000000 | 0.9609121 | 0.9689153 | 0.9548920 | 0.9705036 | 0.9522849 | 0.9608234 | 0.9463944 |\n",
       "| iPSC.qtl_results_NONE_DA_all | 0.9510358 | 0.9415829 | 0.9670968 | 0.9821074 | 0.9599483 | 0.9765625 | 0.9609121 | 1.0000000 | 0.9563543 | 0.9685494 | 0.9466581 | 0.9863946 | 0.9533546 | 0.9653624 |\n",
       "| iPSC.qtl_results_NONE_Epen1_all | 0.9513889 | 0.9419192 | 0.9750329 | 0.9533248 | 0.9883081 | 0.9696578 | 0.9689153 | 0.9563543 | 1.0000000 | 0.9690070 | 0.9577558 | 0.9531250 | 0.9878543 | 0.9630557 |\n",
       "| iPSC.qtl_results_NONE_Sert_all | 0.9537893 | 0.9438272 | 0.9713922 | 0.9649458 | 0.9707006 | 0.9929124 | 0.9548920 | 0.9685494 | 0.9690070 | 1.0000000 | 0.9438840 | 0.9665354 | 0.9629164 | 0.9863990 |\n",
       "| iPSC.qtl_results_ROT_Astro_all | 0.9414330 | 0.9360100 | 0.9552239 | 0.9439133 | 0.9530423 | 0.9500960 | 0.9705036 | 0.9466581 | 0.9577558 | 0.9438840 | 1.0000000 | 0.9518970 | 0.9588587 | 0.9475368 |\n",
       "| iPSC.qtl_results_ROT_DA_all | 0.9479034 | 0.9404609 | 0.9602606 | 0.9772575 | 0.9535644 | 0.9772284 | 0.9522849 | 0.9863946 | 0.9531250 | 0.9665354 | 0.9518970 | 1.0000000 | 0.9523499 | 0.9765730 |\n",
       "| iPSC.qtl_results_ROT_Epen1_all | 0.9540592 | 0.9475348 | 0.9740428 | 0.9521073 | 0.9851752 | 0.9662420 | 0.9608234 | 0.9533546 | 0.9878543 | 0.9629164 | 0.9588587 | 0.9523499 | 1.0000000 | 0.9622642 |\n",
       "| iPSC.qtl_results_ROT_Sert_all | 0.9559826 | 0.9434080 | 0.9641058 | 0.9568528 | 0.9609572 | 0.9852659 | 0.9463944 | 0.9653624 | 0.9630557 | 0.9863990 | 0.9475368 | 0.9765730 | 0.9622642 | 1.0000000 |\n",
       "\n"
      ],
      "text/plain": [
       "                                iPSC.pool1_13_noddd_D11.FPP\n",
       "iPSC.pool1_13_noddd_D11.FPP     1.0000000                  \n",
       "iPSC.pool1_13_noddd_D11.P_FPP   0.9856209                  \n",
       "iPSC.pool1_13_noddd_D30.Astro   0.9575412                  \n",
       "iPSC.pool1_13_noddd_D30.DA      0.9530075                  \n",
       "iPSC.pool1_13_noddd_D30.Epen1   0.9446565                  \n",
       "iPSC.pool1_13_noddd_D30.Sert    0.9606742                  \n",
       "iPSC.qtl_results_NONE_Astro_all 0.9326263                  \n",
       "iPSC.qtl_results_NONE_DA_all    0.9510358                  \n",
       "iPSC.qtl_results_NONE_Epen1_all 0.9513889                  \n",
       "iPSC.qtl_results_NONE_Sert_all  0.9537893                  \n",
       "iPSC.qtl_results_ROT_Astro_all  0.9414330                  \n",
       "iPSC.qtl_results_ROT_DA_all     0.9479034                  \n",
       "iPSC.qtl_results_ROT_Epen1_all  0.9540592                  \n",
       "iPSC.qtl_results_ROT_Sert_all   0.9559826                  \n",
       "                                iPSC.pool1_13_noddd_D11.P_FPP\n",
       "iPSC.pool1_13_noddd_D11.FPP     0.9856209                    \n",
       "iPSC.pool1_13_noddd_D11.P_FPP   1.0000000                    \n",
       "iPSC.pool1_13_noddd_D30.Astro   0.9477707                    \n",
       "iPSC.pool1_13_noddd_D30.DA      0.9433249                    \n",
       "iPSC.pool1_13_noddd_D30.Epen1   0.9402795                    \n",
       "iPSC.pool1_13_noddd_D30.Sert    0.9528598                    \n",
       "iPSC.qtl_results_NONE_Astro_all 0.9244694                    \n",
       "iPSC.qtl_results_NONE_DA_all    0.9415829                    \n",
       "iPSC.qtl_results_NONE_Epen1_all 0.9419192                    \n",
       "iPSC.qtl_results_NONE_Sert_all  0.9438272                    \n",
       "iPSC.qtl_results_ROT_Astro_all  0.9360100                    \n",
       "iPSC.qtl_results_ROT_DA_all     0.9404609                    \n",
       "iPSC.qtl_results_ROT_Epen1_all  0.9475348                    \n",
       "iPSC.qtl_results_ROT_Sert_all   0.9434080                    \n",
       "                                iPSC.pool1_13_noddd_D30.Astro\n",
       "iPSC.pool1_13_noddd_D11.FPP     0.9575412                    \n",
       "iPSC.pool1_13_noddd_D11.P_FPP   0.9477707                    \n",
       "iPSC.pool1_13_noddd_D30.Astro   1.0000000                    \n",
       "iPSC.pool1_13_noddd_D30.DA      0.9675746                    \n",
       "iPSC.pool1_13_noddd_D30.Epen1   0.9826897                    \n",
       "iPSC.pool1_13_noddd_D30.Sert    0.9772432                    \n",
       "iPSC.qtl_results_NONE_Astro_all 0.9698361                    \n",
       "iPSC.qtl_results_NONE_DA_all    0.9670968                    \n",
       "iPSC.qtl_results_NONE_Epen1_all 0.9750329                    \n",
       "iPSC.qtl_results_NONE_Sert_all  0.9713922                    \n",
       "iPSC.qtl_results_ROT_Astro_all  0.9552239                    \n",
       "iPSC.qtl_results_ROT_DA_all     0.9602606                    \n",
       "iPSC.qtl_results_ROT_Epen1_all  0.9740428                    \n",
       "iPSC.qtl_results_ROT_Sert_all   0.9641058                    \n",
       "                                iPSC.pool1_13_noddd_D30.DA\n",
       "iPSC.pool1_13_noddd_D11.FPP     0.9530075                 \n",
       "iPSC.pool1_13_noddd_D11.P_FPP   0.9433249                 \n",
       "iPSC.pool1_13_noddd_D30.Astro   0.9675746                 \n",
       "iPSC.pool1_13_noddd_D30.DA      1.0000000                 \n",
       "iPSC.pool1_13_noddd_D30.Epen1   0.9579288                 \n",
       "iPSC.pool1_13_noddd_D30.Sert    0.9765930                 \n",
       "iPSC.qtl_results_NONE_Astro_all 0.9561573                 \n",
       "iPSC.qtl_results_NONE_DA_all    0.9821074                 \n",
       "iPSC.qtl_results_NONE_Epen1_all 0.9533248                 \n",
       "iPSC.qtl_results_NONE_Sert_all  0.9649458                 \n",
       "iPSC.qtl_results_ROT_Astro_all  0.9439133                 \n",
       "iPSC.qtl_results_ROT_DA_all     0.9772575                 \n",
       "iPSC.qtl_results_ROT_Epen1_all  0.9521073                 \n",
       "iPSC.qtl_results_ROT_Sert_all   0.9568528                 \n",
       "                                iPSC.pool1_13_noddd_D30.Epen1\n",
       "iPSC.pool1_13_noddd_D11.FPP     0.9446565                    \n",
       "iPSC.pool1_13_noddd_D11.P_FPP   0.9402795                    \n",
       "iPSC.pool1_13_noddd_D30.Astro   0.9826897                    \n",
       "iPSC.pool1_13_noddd_D30.DA      0.9579288                    \n",
       "iPSC.pool1_13_noddd_D30.Epen1   1.0000000                    \n",
       "iPSC.pool1_13_noddd_D30.Sert    0.9720234                    \n",
       "iPSC.qtl_results_NONE_Astro_all 0.9630376                    \n",
       "iPSC.qtl_results_NONE_DA_all    0.9599483                    \n",
       "iPSC.qtl_results_NONE_Epen1_all 0.9883081                    \n",
       "iPSC.qtl_results_NONE_Sert_all  0.9707006                    \n",
       "iPSC.qtl_results_ROT_Astro_all  0.9530423                    \n",
       "iPSC.qtl_results_ROT_DA_all     0.9535644                    \n",
       "iPSC.qtl_results_ROT_Epen1_all  0.9851752                    \n",
       "iPSC.qtl_results_ROT_Sert_all   0.9609572                    \n",
       "                                iPSC.pool1_13_noddd_D30.Sert\n",
       "iPSC.pool1_13_noddd_D11.FPP     0.9606742                   \n",
       "iPSC.pool1_13_noddd_D11.P_FPP   0.9528598                   \n",
       "iPSC.pool1_13_noddd_D30.Astro   0.9772432                   \n",
       "iPSC.pool1_13_noddd_D30.DA      0.9765930                   \n",
       "iPSC.pool1_13_noddd_D30.Epen1   0.9720234                   \n",
       "iPSC.pool1_13_noddd_D30.Sert    1.0000000                   \n",
       "iPSC.qtl_results_NONE_Astro_all 0.9581994                   \n",
       "iPSC.qtl_results_NONE_DA_all    0.9765625                   \n",
       "iPSC.qtl_results_NONE_Epen1_all 0.9696578                   \n",
       "iPSC.qtl_results_NONE_Sert_all  0.9929124                   \n",
       "iPSC.qtl_results_ROT_Astro_all  0.9500960                   \n",
       "iPSC.qtl_results_ROT_DA_all     0.9772284                   \n",
       "iPSC.qtl_results_ROT_Epen1_all  0.9662420                   \n",
       "iPSC.qtl_results_ROT_Sert_all   0.9852659                   \n",
       "                                iPSC.qtl_results_NONE_Astro_all\n",
       "iPSC.pool1_13_noddd_D11.FPP     0.9326263                      \n",
       "iPSC.pool1_13_noddd_D11.P_FPP   0.9244694                      \n",
       "iPSC.pool1_13_noddd_D30.Astro   0.9698361                      \n",
       "iPSC.pool1_13_noddd_D30.DA      0.9561573                      \n",
       "iPSC.pool1_13_noddd_D30.Epen1   0.9630376                      \n",
       "iPSC.pool1_13_noddd_D30.Sert    0.9581994                      \n",
       "iPSC.qtl_results_NONE_Astro_all 1.0000000                      \n",
       "iPSC.qtl_results_NONE_DA_all    0.9609121                      \n",
       "iPSC.qtl_results_NONE_Epen1_all 0.9689153                      \n",
       "iPSC.qtl_results_NONE_Sert_all  0.9548920                      \n",
       "iPSC.qtl_results_ROT_Astro_all  0.9705036                      \n",
       "iPSC.qtl_results_ROT_DA_all     0.9522849                      \n",
       "iPSC.qtl_results_ROT_Epen1_all  0.9608234                      \n",
       "iPSC.qtl_results_ROT_Sert_all   0.9463944                      \n",
       "                                iPSC.qtl_results_NONE_DA_all\n",
       "iPSC.pool1_13_noddd_D11.FPP     0.9510358                   \n",
       "iPSC.pool1_13_noddd_D11.P_FPP   0.9415829                   \n",
       "iPSC.pool1_13_noddd_D30.Astro   0.9670968                   \n",
       "iPSC.pool1_13_noddd_D30.DA      0.9821074                   \n",
       "iPSC.pool1_13_noddd_D30.Epen1   0.9599483                   \n",
       "iPSC.pool1_13_noddd_D30.Sert    0.9765625                   \n",
       "iPSC.qtl_results_NONE_Astro_all 0.9609121                   \n",
       "iPSC.qtl_results_NONE_DA_all    1.0000000                   \n",
       "iPSC.qtl_results_NONE_Epen1_all 0.9563543                   \n",
       "iPSC.qtl_results_NONE_Sert_all  0.9685494                   \n",
       "iPSC.qtl_results_ROT_Astro_all  0.9466581                   \n",
       "iPSC.qtl_results_ROT_DA_all     0.9863946                   \n",
       "iPSC.qtl_results_ROT_Epen1_all  0.9533546                   \n",
       "iPSC.qtl_results_ROT_Sert_all   0.9653624                   \n",
       "                                iPSC.qtl_results_NONE_Epen1_all\n",
       "iPSC.pool1_13_noddd_D11.FPP     0.9513889                      \n",
       "iPSC.pool1_13_noddd_D11.P_FPP   0.9419192                      \n",
       "iPSC.pool1_13_noddd_D30.Astro   0.9750329                      \n",
       "iPSC.pool1_13_noddd_D30.DA      0.9533248                      \n",
       "iPSC.pool1_13_noddd_D30.Epen1   0.9883081                      \n",
       "iPSC.pool1_13_noddd_D30.Sert    0.9696578                      \n",
       "iPSC.qtl_results_NONE_Astro_all 0.9689153                      \n",
       "iPSC.qtl_results_NONE_DA_all    0.9563543                      \n",
       "iPSC.qtl_results_NONE_Epen1_all 1.0000000                      \n",
       "iPSC.qtl_results_NONE_Sert_all  0.9690070                      \n",
       "iPSC.qtl_results_ROT_Astro_all  0.9577558                      \n",
       "iPSC.qtl_results_ROT_DA_all     0.9531250                      \n",
       "iPSC.qtl_results_ROT_Epen1_all  0.9878543                      \n",
       "iPSC.qtl_results_ROT_Sert_all   0.9630557                      \n",
       "                                iPSC.qtl_results_NONE_Sert_all\n",
       "iPSC.pool1_13_noddd_D11.FPP     0.9537893                     \n",
       "iPSC.pool1_13_noddd_D11.P_FPP   0.9438272                     \n",
       "iPSC.pool1_13_noddd_D30.Astro   0.9713922                     \n",
       "iPSC.pool1_13_noddd_D30.DA      0.9649458                     \n",
       "iPSC.pool1_13_noddd_D30.Epen1   0.9707006                     \n",
       "iPSC.pool1_13_noddd_D30.Sert    0.9929124                     \n",
       "iPSC.qtl_results_NONE_Astro_all 0.9548920                     \n",
       "iPSC.qtl_results_NONE_DA_all    0.9685494                     \n",
       "iPSC.qtl_results_NONE_Epen1_all 0.9690070                     \n",
       "iPSC.qtl_results_NONE_Sert_all  1.0000000                     \n",
       "iPSC.qtl_results_ROT_Astro_all  0.9438840                     \n",
       "iPSC.qtl_results_ROT_DA_all     0.9665354                     \n",
       "iPSC.qtl_results_ROT_Epen1_all  0.9629164                     \n",
       "iPSC.qtl_results_ROT_Sert_all   0.9863990                     \n",
       "                                iPSC.qtl_results_ROT_Astro_all\n",
       "iPSC.pool1_13_noddd_D11.FPP     0.9414330                     \n",
       "iPSC.pool1_13_noddd_D11.P_FPP   0.9360100                     \n",
       "iPSC.pool1_13_noddd_D30.Astro   0.9552239                     \n",
       "iPSC.pool1_13_noddd_D30.DA      0.9439133                     \n",
       "iPSC.pool1_13_noddd_D30.Epen1   0.9530423                     \n",
       "iPSC.pool1_13_noddd_D30.Sert    0.9500960                     \n",
       "iPSC.qtl_results_NONE_Astro_all 0.9705036                     \n",
       "iPSC.qtl_results_NONE_DA_all    0.9466581                     \n",
       "iPSC.qtl_results_NONE_Epen1_all 0.9577558                     \n",
       "iPSC.qtl_results_NONE_Sert_all  0.9438840                     \n",
       "iPSC.qtl_results_ROT_Astro_all  1.0000000                     \n",
       "iPSC.qtl_results_ROT_DA_all     0.9518970                     \n",
       "iPSC.qtl_results_ROT_Epen1_all  0.9588587                     \n",
       "iPSC.qtl_results_ROT_Sert_all   0.9475368                     \n",
       "                                iPSC.qtl_results_ROT_DA_all\n",
       "iPSC.pool1_13_noddd_D11.FPP     0.9479034                  \n",
       "iPSC.pool1_13_noddd_D11.P_FPP   0.9404609                  \n",
       "iPSC.pool1_13_noddd_D30.Astro   0.9602606                  \n",
       "iPSC.pool1_13_noddd_D30.DA      0.9772575                  \n",
       "iPSC.pool1_13_noddd_D30.Epen1   0.9535644                  \n",
       "iPSC.pool1_13_noddd_D30.Sert    0.9772284                  \n",
       "iPSC.qtl_results_NONE_Astro_all 0.9522849                  \n",
       "iPSC.qtl_results_NONE_DA_all    0.9863946                  \n",
       "iPSC.qtl_results_NONE_Epen1_all 0.9531250                  \n",
       "iPSC.qtl_results_NONE_Sert_all  0.9665354                  \n",
       "iPSC.qtl_results_ROT_Astro_all  0.9518970                  \n",
       "iPSC.qtl_results_ROT_DA_all     1.0000000                  \n",
       "iPSC.qtl_results_ROT_Epen1_all  0.9523499                  \n",
       "iPSC.qtl_results_ROT_Sert_all   0.9765730                  \n",
       "                                iPSC.qtl_results_ROT_Epen1_all\n",
       "iPSC.pool1_13_noddd_D11.FPP     0.9540592                     \n",
       "iPSC.pool1_13_noddd_D11.P_FPP   0.9475348                     \n",
       "iPSC.pool1_13_noddd_D30.Astro   0.9740428                     \n",
       "iPSC.pool1_13_noddd_D30.DA      0.9521073                     \n",
       "iPSC.pool1_13_noddd_D30.Epen1   0.9851752                     \n",
       "iPSC.pool1_13_noddd_D30.Sert    0.9662420                     \n",
       "iPSC.qtl_results_NONE_Astro_all 0.9608234                     \n",
       "iPSC.qtl_results_NONE_DA_all    0.9533546                     \n",
       "iPSC.qtl_results_NONE_Epen1_all 0.9878543                     \n",
       "iPSC.qtl_results_NONE_Sert_all  0.9629164                     \n",
       "iPSC.qtl_results_ROT_Astro_all  0.9588587                     \n",
       "iPSC.qtl_results_ROT_DA_all     0.9523499                     \n",
       "iPSC.qtl_results_ROT_Epen1_all  1.0000000                     \n",
       "iPSC.qtl_results_ROT_Sert_all   0.9622642                     \n",
       "                                iPSC.qtl_results_ROT_Sert_all\n",
       "iPSC.pool1_13_noddd_D11.FPP     0.9559826                    \n",
       "iPSC.pool1_13_noddd_D11.P_FPP   0.9434080                    \n",
       "iPSC.pool1_13_noddd_D30.Astro   0.9641058                    \n",
       "iPSC.pool1_13_noddd_D30.DA      0.9568528                    \n",
       "iPSC.pool1_13_noddd_D30.Epen1   0.9609572                    \n",
       "iPSC.pool1_13_noddd_D30.Sert    0.9852659                    \n",
       "iPSC.qtl_results_NONE_Astro_all 0.9463944                    \n",
       "iPSC.qtl_results_NONE_DA_all    0.9653624                    \n",
       "iPSC.qtl_results_NONE_Epen1_all 0.9630557                    \n",
       "iPSC.qtl_results_NONE_Sert_all  0.9863990                    \n",
       "iPSC.qtl_results_ROT_Astro_all  0.9475368                    \n",
       "iPSC.qtl_results_ROT_DA_all     0.9765730                    \n",
       "iPSC.qtl_results_ROT_Epen1_all  0.9622642                    \n",
       "iPSC.qtl_results_ROT_Sert_all   1.0000000                    "
      ]
     },
     "metadata": {},
     "output_type": "display_data"
    }
   ],
   "source": [
    "mat_to_plot = pairwiseSharingSign[c(1,3:15),c(1,3:15)]\n",
    "mat_to_plot"
   ]
  },
  {
   "cell_type": "code",
   "execution_count": 100,
   "metadata": {},
   "outputs": [
    {
     "data": {
      "text/html": [
       "0.924469413233458"
      ],
      "text/latex": [
       "0.924469413233458"
      ],
      "text/markdown": [
       "0.924469413233458"
      ],
      "text/plain": [
       "[1] 0.9244694"
      ]
     },
     "metadata": {},
     "output_type": "display_data"
    }
   ],
   "source": [
    "min(mat_to_plot)"
   ]
  },
  {
   "cell_type": "code",
   "execution_count": 101,
   "metadata": {},
   "outputs": [],
   "source": [
    "rownames(mat_to_plot) <- c(\"D11_FPP\", \n",
    "#                            \"D11_NB\", \n",
    "                           \"D11_P_FPP\",\n",
    "                           \"D30_FPP\",\"D30_DA\",\"D30_Epen1\",\"D30_Sert\",\n",
    "                           \"D52_Astro\",\"D52_DA\",\"D52_Epen1\",\"D52_Sert\",\n",
    "                           \"D52_Astro_ROT\",\"D52_DA_ROT\",\"D52_Epen1_ROT\",\"D52_Sert_ROT\")\n",
    "colnames(mat_to_plot) = rownames(mat_to_plot)"
   ]
  },
  {
   "cell_type": "code",
   "execution_count": 104,
   "metadata": {},
   "outputs": [],
   "source": [
    "# ?heatmap"
   ]
  },
  {
   "cell_type": "code",
   "execution_count": 105,
   "metadata": {},
   "outputs": [
    {
     "data": {
      "image/png": "[encoded data removed]",
      "text/plain": [
       "plot without title"
      ]
     },
     "metadata": {},
     "output_type": "display_data"
    }
   ],
   "source": [
    "options(repr.plot.width=6, repr.plot.height=6)\n",
    "heatmap(mat_to_plot, symm = T)"
   ]
  },
  {
   "cell_type": "code",
   "execution_count": 76,
   "metadata": {},
   "outputs": [
    {
     "name": "stderr",
     "output_type": "stream",
     "text": [
      "\n",
      "Attaching package: ‘reshape’\n",
      "\n",
      "The following objects are masked from ‘package:reshape2’:\n",
      "\n",
      "    colsplit, melt, recast\n",
      "\n"
     ]
    },
    {
     "data": {
      "image/png": "[encoded data removed]",
      "text/plain": [
       "plot without title"
      ]
     },
     "metadata": {},
     "output_type": "display_data"
    }
   ],
   "source": [
    "library(reshape)\n",
    "melted_mat_to_plot = melt(mat_to_plot)\n",
    "# head(melted_mat_to_plot,2)\n",
    "options(repr.plot.width=6, repr.plot.height=4)\n",
    "ggplot(as.data.frame(melted_mat_to_plot), aes(X1, X2, fill= value)) + \n",
    "  geom_tile()"
   ]
  },
  {
   "cell_type": "code",
   "execution_count": null,
   "metadata": {},
   "outputs": [],
   "source": []
  }
 ],
 "metadata": {
  "kernelspec": {
   "display_name": "R",
   "language": "R",
   "name": "ir"
  },
  "language_info": {
   "codemirror_mode": "r",
   "file_extension": ".r",
   "mimetype": "text/x-r-source",
   "name": "R",
   "pygments_lexer": "r",
   "version": "3.6.1"
  }
 },
 "nbformat": 4,
 "nbformat_minor": 2
}
