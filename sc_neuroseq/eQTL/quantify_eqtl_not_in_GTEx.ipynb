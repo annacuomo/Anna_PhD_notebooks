{
 "cells": [
  {
   "cell_type": "code",
   "execution_count": 38,
   "metadata": {},
   "outputs": [],
   "source": [
    "# gtex = data.frame()\n",
    "# for (i in 1:length(brain_tissues)){\n",
    "#     t = brain_tissues[i]\n",
    "#     r = res[[t]]\n",
    "#     r$tissue = brain_tissues[i]\n",
    "#     gtex = rbind(gtex,r)\n",
    "# }\n",
    "# head(gtex)"
   ]
  },
  {
   "cell_type": "code",
   "execution_count": 39,
   "metadata": {},
   "outputs": [],
   "source": [
    "# gtex$tissue = gsub(\"_topsnp_allgenes_jan16.tsv\",\"\",gtex$tissue)\n",
    "# gtex$eqtl = paste0(gtex$snp_id,\"-\",gtex$feature_id)\n",
    "# gtex = gtex[gtex$p_value < 0.05,]"
   ]
  },
  {
   "cell_type": "code",
   "execution_count": 40,
   "metadata": {},
   "outputs": [],
   "source": [
    "# length(unique(gtex$eqtl))"
   ]
  },
  {
   "cell_type": "code",
   "execution_count": null,
   "metadata": {},
   "outputs": [],
   "source": []
  },
  {
   "cell_type": "code",
   "execution_count": 55,
   "metadata": {},
   "outputs": [
    {
     "data": {
      "text/html": [
       "<table>\n",
       "<thead><tr><th scope=col>variant_id</th><th scope=col>gene_id</th><th scope=col>tss_distance</th><th scope=col>ma_samples</th><th scope=col>ma_count</th><th scope=col>maf</th><th scope=col>pval_nominal</th><th scope=col>slope</th><th scope=col>slope_se</th><th scope=col>pval_nominal_threshold</th><th scope=col>min_pval_nominal</th><th scope=col>pval_beta</th><th scope=col>tissue</th></tr></thead>\n",
       "<tbody>\n",
       "\t<tr><td>1_780782_A_G_b37 </td><td>ENSG00000225972.1</td><td>216340           </td><td>2                </td><td>2                </td><td>0.0113636        </td><td>1.25628e-06      </td><td>2.78160          </td><td>0.521409         </td><td>1.05226e-05      </td><td>1.25628e-06      </td><td>0.00141162       </td><td>Brain_Amygdala.  </td></tr>\n",
       "\t<tr><td>1_920649_G_A_b37 </td><td>ENSG00000225972.1</td><td>356207           </td><td>2                </td><td>2                </td><td>0.0113636        </td><td>1.25628e-06      </td><td>2.78160          </td><td>0.521409         </td><td>1.05226e-05      </td><td>1.25628e-06      </td><td>0.00141162       </td><td>Brain_Amygdala.  </td></tr>\n",
       "\t<tr><td>1_1068882_C_T_b37</td><td>ENSG00000225972.1</td><td>504440           </td><td>2                </td><td>3                </td><td>0.0170455        </td><td>5.16947e-06      </td><td>1.62513          </td><td>0.327490         </td><td>1.05226e-05      </td><td>1.25628e-06      </td><td>0.00141162       </td><td>Brain_Amygdala.  </td></tr>\n",
       "\t<tr><td>1_1078090_T_C_b37</td><td>ENSG00000225972.1</td><td>513648           </td><td>2                </td><td>3                </td><td>0.0170455        </td><td>5.16947e-06      </td><td>1.62513          </td><td>0.327490         </td><td>1.05226e-05      </td><td>1.25628e-06      </td><td>0.00141162       </td><td>Brain_Amygdala.  </td></tr>\n",
       "\t<tr><td>1_1163773_C_T_b37</td><td>ENSG00000225972.1</td><td>599331           </td><td>4                </td><td>4                </td><td>0.0227273        </td><td>5.47505e-06      </td><td>2.41209          </td><td>0.487582         </td><td>1.05226e-05      </td><td>1.25628e-06      </td><td>0.00141162       </td><td>Brain_Amygdala.  </td></tr>\n",
       "\t<tr><td>1_1169637_T_C_b37</td><td>ENSG00000225972.1</td><td>605195           </td><td>4                </td><td>4                </td><td>0.0227273        </td><td>5.47505e-06      </td><td>2.41209          </td><td>0.487582         </td><td>1.05226e-05      </td><td>1.25628e-06      </td><td>0.00141162       </td><td>Brain_Amygdala.  </td></tr>\n",
       "</tbody>\n",
       "</table>\n"
      ],
      "text/latex": [
       "\\begin{tabular}{r|lllllllllllll}\n",
       " variant\\_id & gene\\_id & tss\\_distance & ma\\_samples & ma\\_count & maf & pval\\_nominal & slope & slope\\_se & pval\\_nominal\\_threshold & min\\_pval\\_nominal & pval\\_beta & tissue\\\\\n",
       "\\hline\n",
       "\t 1\\_780782\\_A\\_G\\_b37  & ENSG00000225972.1         & 216340                    & 2                         & 2                         & 0.0113636                 & 1.25628e-06               & 2.78160                   & 0.521409                  & 1.05226e-05               & 1.25628e-06               & 0.00141162                & Brain\\_Amygdala.        \\\\\n",
       "\t 1\\_920649\\_G\\_A\\_b37  & ENSG00000225972.1         & 356207                    & 2                         & 2                         & 0.0113636                 & 1.25628e-06               & 2.78160                   & 0.521409                  & 1.05226e-05               & 1.25628e-06               & 0.00141162                & Brain\\_Amygdala.        \\\\\n",
       "\t 1\\_1068882\\_C\\_T\\_b37 & ENSG00000225972.1         & 504440                    & 2                         & 3                         & 0.0170455                 & 5.16947e-06               & 1.62513                   & 0.327490                  & 1.05226e-05               & 1.25628e-06               & 0.00141162                & Brain\\_Amygdala.        \\\\\n",
       "\t 1\\_1078090\\_T\\_C\\_b37 & ENSG00000225972.1         & 513648                    & 2                         & 3                         & 0.0170455                 & 5.16947e-06               & 1.62513                   & 0.327490                  & 1.05226e-05               & 1.25628e-06               & 0.00141162                & Brain\\_Amygdala.        \\\\\n",
       "\t 1\\_1163773\\_C\\_T\\_b37 & ENSG00000225972.1         & 599331                    & 4                         & 4                         & 0.0227273                 & 5.47505e-06               & 2.41209                   & 0.487582                  & 1.05226e-05               & 1.25628e-06               & 0.00141162                & Brain\\_Amygdala.        \\\\\n",
       "\t 1\\_1169637\\_T\\_C\\_b37 & ENSG00000225972.1         & 605195                    & 4                         & 4                         & 0.0227273                 & 5.47505e-06               & 2.41209                   & 0.487582                  & 1.05226e-05               & 1.25628e-06               & 0.00141162                & Brain\\_Amygdala.        \\\\\n",
       "\\end{tabular}\n"
      ],
      "text/markdown": [
       "\n",
       "| variant_id | gene_id | tss_distance | ma_samples | ma_count | maf | pval_nominal | slope | slope_se | pval_nominal_threshold | min_pval_nominal | pval_beta | tissue |\n",
       "|---|---|---|---|---|---|---|---|---|---|---|---|---|\n",
       "| 1_780782_A_G_b37  | ENSG00000225972.1 | 216340            | 2                 | 2                 | 0.0113636         | 1.25628e-06       | 2.78160           | 0.521409          | 1.05226e-05       | 1.25628e-06       | 0.00141162        | Brain_Amygdala.   |\n",
       "| 1_920649_G_A_b37  | ENSG00000225972.1 | 356207            | 2                 | 2                 | 0.0113636         | 1.25628e-06       | 2.78160           | 0.521409          | 1.05226e-05       | 1.25628e-06       | 0.00141162        | Brain_Amygdala.   |\n",
       "| 1_1068882_C_T_b37 | ENSG00000225972.1 | 504440            | 2                 | 3                 | 0.0170455         | 5.16947e-06       | 1.62513           | 0.327490          | 1.05226e-05       | 1.25628e-06       | 0.00141162        | Brain_Amygdala.   |\n",
       "| 1_1078090_T_C_b37 | ENSG00000225972.1 | 513648            | 2                 | 3                 | 0.0170455         | 5.16947e-06       | 1.62513           | 0.327490          | 1.05226e-05       | 1.25628e-06       | 0.00141162        | Brain_Amygdala.   |\n",
       "| 1_1163773_C_T_b37 | ENSG00000225972.1 | 599331            | 4                 | 4                 | 0.0227273         | 5.47505e-06       | 2.41209           | 0.487582          | 1.05226e-05       | 1.25628e-06       | 0.00141162        | Brain_Amygdala.   |\n",
       "| 1_1169637_T_C_b37 | ENSG00000225972.1 | 605195            | 4                 | 4                 | 0.0227273         | 5.47505e-06       | 2.41209           | 0.487582          | 1.05226e-05       | 1.25628e-06       | 0.00141162        | Brain_Amygdala.   |\n",
       "\n"
      ],
      "text/plain": [
       "  variant_id        gene_id           tss_distance ma_samples ma_count\n",
       "1 1_780782_A_G_b37  ENSG00000225972.1 216340       2          2       \n",
       "2 1_920649_G_A_b37  ENSG00000225972.1 356207       2          2       \n",
       "3 1_1068882_C_T_b37 ENSG00000225972.1 504440       2          3       \n",
       "4 1_1078090_T_C_b37 ENSG00000225972.1 513648       2          3       \n",
       "5 1_1163773_C_T_b37 ENSG00000225972.1 599331       4          4       \n",
       "6 1_1169637_T_C_b37 ENSG00000225972.1 605195       4          4       \n",
       "  maf       pval_nominal slope   slope_se pval_nominal_threshold\n",
       "1 0.0113636 1.25628e-06  2.78160 0.521409 1.05226e-05           \n",
       "2 0.0113636 1.25628e-06  2.78160 0.521409 1.05226e-05           \n",
       "3 0.0170455 5.16947e-06  1.62513 0.327490 1.05226e-05           \n",
       "4 0.0170455 5.16947e-06  1.62513 0.327490 1.05226e-05           \n",
       "5 0.0227273 5.47505e-06  2.41209 0.487582 1.05226e-05           \n",
       "6 0.0227273 5.47505e-06  2.41209 0.487582 1.05226e-05           \n",
       "  min_pval_nominal pval_beta  tissue         \n",
       "1 1.25628e-06      0.00141162 Brain_Amygdala.\n",
       "2 1.25628e-06      0.00141162 Brain_Amygdala.\n",
       "3 1.25628e-06      0.00141162 Brain_Amygdala.\n",
       "4 1.25628e-06      0.00141162 Brain_Amygdala.\n",
       "5 1.25628e-06      0.00141162 Brain_Amygdala.\n",
       "6 1.25628e-06      0.00141162 Brain_Amygdala."
      ]
     },
     "metadata": {},
     "output_type": "display_data"
    }
   ],
   "source": [
    "gtex_folder = \"/hps/nobackup/hipsci/scratch/GTEx/GTEx_Analysis_v7_eQTL/\"\n",
    "myfiles = list.files(gtex_folder,\"signif\")\n",
    "myfiles = myfiles[grep(\"Brain\",myfiles)]\n",
    "gtex = data.frame()\n",
    "for (file in myfiles){\n",
    "#     print(file)\n",
    "    r = read.csv(paste0(gtex_folder,file),sep='\\t')\n",
    "    r$tissue = gsub('v7.signif_variant_gene_pairs.txt','',file)\n",
    "    gtex = rbind(gtex,r)\n",
    "}\n",
    "head(gtex)"
   ]
  },
  {
   "cell_type": "code",
   "execution_count": 56,
   "metadata": {},
   "outputs": [],
   "source": [
    "# gtex_folder = \"/hps/nobackup/hipsci/scratch/GTEx/GTEx_Analysis_v7_eQTL/\"\n",
    "# myfiles = list.files(gtex_folder,\"egen\")\n",
    "# myfiles = myfiles[grep(\"Brain\",myfiles)]\n",
    "# gtex = data.frame()\n",
    "# for (file in myfiles){\n",
    "# #     print(file)\n",
    "#     r = read.csv(paste0(gtex_folder,file),sep='\\t')\n",
    "#     r$tissue = gsub('.v7.egenes.txt','',file)\n",
    "#     gtex = rbind(gtex,r)\n",
    "# }\n",
    "# head(gtex)"
   ]
  },
  {
   "cell_type": "code",
   "execution_count": 57,
   "metadata": {},
   "outputs": [
    {
     "data": {
      "text/html": [
       "4519254"
      ],
      "text/latex": [
       "4519254"
      ],
      "text/markdown": [
       "4519254"
      ],
      "text/plain": [
       "[1] 4519254"
      ]
     },
     "metadata": {},
     "output_type": "display_data"
    }
   ],
   "source": [
    "nrow(gtex)"
   ]
  },
  {
   "cell_type": "code",
   "execution_count": 67,
   "metadata": {},
   "outputs": [],
   "source": [
    "df1 = gtex"
   ]
  },
  {
   "cell_type": "code",
   "execution_count": 68,
   "metadata": {},
   "outputs": [],
   "source": [
    "df1$snp_id = gsub(\"_b37\",\"\",df1$variant_id)"
   ]
  },
  {
   "cell_type": "code",
   "execution_count": 69,
   "metadata": {},
   "outputs": [
    {
     "data": {
      "text/html": [
       "<table>\n",
       "<thead><tr><th></th><th scope=col>variant_id</th><th scope=col>gene_id</th><th scope=col>tss_distance</th><th scope=col>ma_samples</th><th scope=col>ma_count</th><th scope=col>maf</th><th scope=col>pval_nominal</th><th scope=col>slope</th><th scope=col>slope_se</th><th scope=col>pval_nominal_threshold</th><th scope=col>min_pval_nominal</th><th scope=col>pval_beta</th><th scope=col>tissue</th><th scope=col>snp_id</th><th scope=col>feature_id</th></tr></thead>\n",
       "<tbody>\n",
       "\t<tr><th scope=row>4519249</th><td>X_154943431_GA_G_b37   </td><td>ENSG00000185973.6      </td><td>43826                  </td><td>34                     </td><td>35                     </td><td>0.221519               </td><td>8.38044e-06            </td><td>0.790552               </td><td>0.161695               </td><td>1.97309e-05            </td><td>2.31291e-08            </td><td>1.87966e-05            </td><td>Brain_Substantia_nigra.</td><td>X_154943431_GA_G       </td><td>ENSG00000185973        </td></tr>\n",
       "\t<tr><th scope=row>4519250</th><td>X_154946000_C_T_b37    </td><td>ENSG00000185973.6      </td><td>46395                  </td><td>62                     </td><td>72                     </td><td>0.450000               </td><td>3.74818e-06            </td><td>0.761406               </td><td>0.148962               </td><td>1.97309e-05            </td><td>2.31291e-08            </td><td>1.87966e-05            </td><td>Brain_Substantia_nigra.</td><td>X_154946000_C_T        </td><td>ENSG00000185973        </td></tr>\n",
       "\t<tr><th scope=row>4519251</th><td>X_154947398_C_T_b37    </td><td>ENSG00000185973.6      </td><td>47793                  </td><td>34                     </td><td>35                     </td><td>0.218750               </td><td>7.82404e-06            </td><td>0.775772               </td><td>0.158055               </td><td>1.97309e-05            </td><td>2.31291e-08            </td><td>1.87966e-05            </td><td>Brain_Substantia_nigra.</td><td>X_154947398_C_T        </td><td>ENSG00000185973        </td></tr>\n",
       "\t<tr><th scope=row>4519252</th><td>X_154947855_GC_G_b37   </td><td>ENSG00000185973.6      </td><td>48250                  </td><td>34                     </td><td>35                     </td><td>0.218750               </td><td>7.82404e-06            </td><td>0.775772               </td><td>0.158055               </td><td>1.97309e-05            </td><td>2.31291e-08            </td><td>1.87966e-05            </td><td>Brain_Substantia_nigra.</td><td>X_154947855_GC_G       </td><td>ENSG00000185973        </td></tr>\n",
       "\t<tr><th scope=row>4519253</th><td>X_154949953_C_G_b37    </td><td>ENSG00000185973.6      </td><td>50348                  </td><td>34                     </td><td>35                     </td><td>0.218750               </td><td>7.82404e-06            </td><td>0.775772               </td><td>0.158055               </td><td>1.97309e-05            </td><td>2.31291e-08            </td><td>1.87966e-05            </td><td>Brain_Substantia_nigra.</td><td>X_154949953_C_G        </td><td>ENSG00000185973        </td></tr>\n",
       "\t<tr><th scope=row>4519254</th><td>X_154950112_G_A_b37    </td><td>ENSG00000185973.6      </td><td>50507                  </td><td>62                     </td><td>72                     </td><td>0.450000               </td><td>3.74818e-06            </td><td>0.761406               </td><td>0.148962               </td><td>1.97309e-05            </td><td>2.31291e-08            </td><td>1.87966e-05            </td><td>Brain_Substantia_nigra.</td><td>X_154950112_G_A        </td><td>ENSG00000185973        </td></tr>\n",
       "</tbody>\n",
       "</table>\n"
      ],
      "text/latex": [
       "\\begin{tabular}{r|lllllllllllllll}\n",
       "  & variant\\_id & gene\\_id & tss\\_distance & ma\\_samples & ma\\_count & maf & pval\\_nominal & slope & slope\\_se & pval\\_nominal\\_threshold & min\\_pval\\_nominal & pval\\_beta & tissue & snp\\_id & feature\\_id\\\\\n",
       "\\hline\n",
       "\t4519249 & X\\_154943431\\_GA\\_G\\_b37 & ENSG00000185973.6            & 43826                        & 34                           & 35                           & 0.221519                     & 8.38044e-06                  & 0.790552                     & 0.161695                     & 1.97309e-05                  & 2.31291e-08                  & 1.87966e-05                  & Brain\\_Substantia\\_nigra.  & X\\_154943431\\_GA\\_G       & ENSG00000185973             \\\\\n",
       "\t4519250 & X\\_154946000\\_C\\_T\\_b37  & ENSG00000185973.6            & 46395                        & 62                           & 72                           & 0.450000                     & 3.74818e-06                  & 0.761406                     & 0.148962                     & 1.97309e-05                  & 2.31291e-08                  & 1.87966e-05                  & Brain\\_Substantia\\_nigra.  & X\\_154946000\\_C\\_T        & ENSG00000185973             \\\\\n",
       "\t4519251 & X\\_154947398\\_C\\_T\\_b37  & ENSG00000185973.6            & 47793                        & 34                           & 35                           & 0.218750                     & 7.82404e-06                  & 0.775772                     & 0.158055                     & 1.97309e-05                  & 2.31291e-08                  & 1.87966e-05                  & Brain\\_Substantia\\_nigra.  & X\\_154947398\\_C\\_T        & ENSG00000185973             \\\\\n",
       "\t4519252 & X\\_154947855\\_GC\\_G\\_b37 & ENSG00000185973.6            & 48250                        & 34                           & 35                           & 0.218750                     & 7.82404e-06                  & 0.775772                     & 0.158055                     & 1.97309e-05                  & 2.31291e-08                  & 1.87966e-05                  & Brain\\_Substantia\\_nigra.  & X\\_154947855\\_GC\\_G       & ENSG00000185973             \\\\\n",
       "\t4519253 & X\\_154949953\\_C\\_G\\_b37  & ENSG00000185973.6            & 50348                        & 34                           & 35                           & 0.218750                     & 7.82404e-06                  & 0.775772                     & 0.158055                     & 1.97309e-05                  & 2.31291e-08                  & 1.87966e-05                  & Brain\\_Substantia\\_nigra.  & X\\_154949953\\_C\\_G        & ENSG00000185973             \\\\\n",
       "\t4519254 & X\\_154950112\\_G\\_A\\_b37  & ENSG00000185973.6            & 50507                        & 62                           & 72                           & 0.450000                     & 3.74818e-06                  & 0.761406                     & 0.148962                     & 1.97309e-05                  & 2.31291e-08                  & 1.87966e-05                  & Brain\\_Substantia\\_nigra.  & X\\_154950112\\_G\\_A        & ENSG00000185973             \\\\\n",
       "\\end{tabular}\n"
      ],
      "text/markdown": [
       "\n",
       "| <!--/--> | variant_id | gene_id | tss_distance | ma_samples | ma_count | maf | pval_nominal | slope | slope_se | pval_nominal_threshold | min_pval_nominal | pval_beta | tissue | snp_id | feature_id |\n",
       "|---|---|---|---|---|---|---|---|---|---|---|---|---|---|---|---|\n",
       "| 4519249 | X_154943431_GA_G_b37    | ENSG00000185973.6       | 43826                   | 34                      | 35                      | 0.221519                | 8.38044e-06             | 0.790552                | 0.161695                | 1.97309e-05             | 2.31291e-08             | 1.87966e-05             | Brain_Substantia_nigra. | X_154943431_GA_G        | ENSG00000185973         |\n",
       "| 4519250 | X_154946000_C_T_b37     | ENSG00000185973.6       | 46395                   | 62                      | 72                      | 0.450000                | 3.74818e-06             | 0.761406                | 0.148962                | 1.97309e-05             | 2.31291e-08             | 1.87966e-05             | Brain_Substantia_nigra. | X_154946000_C_T         | ENSG00000185973         |\n",
       "| 4519251 | X_154947398_C_T_b37     | ENSG00000185973.6       | 47793                   | 34                      | 35                      | 0.218750                | 7.82404e-06             | 0.775772                | 0.158055                | 1.97309e-05             | 2.31291e-08             | 1.87966e-05             | Brain_Substantia_nigra. | X_154947398_C_T         | ENSG00000185973         |\n",
       "| 4519252 | X_154947855_GC_G_b37    | ENSG00000185973.6       | 48250                   | 34                      | 35                      | 0.218750                | 7.82404e-06             | 0.775772                | 0.158055                | 1.97309e-05             | 2.31291e-08             | 1.87966e-05             | Brain_Substantia_nigra. | X_154947855_GC_G        | ENSG00000185973         |\n",
       "| 4519253 | X_154949953_C_G_b37     | ENSG00000185973.6       | 50348                   | 34                      | 35                      | 0.218750                | 7.82404e-06             | 0.775772                | 0.158055                | 1.97309e-05             | 2.31291e-08             | 1.87966e-05             | Brain_Substantia_nigra. | X_154949953_C_G         | ENSG00000185973         |\n",
       "| 4519254 | X_154950112_G_A_b37     | ENSG00000185973.6       | 50507                   | 62                      | 72                      | 0.450000                | 3.74818e-06             | 0.761406                | 0.148962                | 1.97309e-05             | 2.31291e-08             | 1.87966e-05             | Brain_Substantia_nigra. | X_154950112_G_A         | ENSG00000185973         |\n",
       "\n"
      ],
      "text/plain": [
       "        variant_id           gene_id           tss_distance ma_samples ma_count\n",
       "4519249 X_154943431_GA_G_b37 ENSG00000185973.6 43826        34         35      \n",
       "4519250 X_154946000_C_T_b37  ENSG00000185973.6 46395        62         72      \n",
       "4519251 X_154947398_C_T_b37  ENSG00000185973.6 47793        34         35      \n",
       "4519252 X_154947855_GC_G_b37 ENSG00000185973.6 48250        34         35      \n",
       "4519253 X_154949953_C_G_b37  ENSG00000185973.6 50348        34         35      \n",
       "4519254 X_154950112_G_A_b37  ENSG00000185973.6 50507        62         72      \n",
       "        maf      pval_nominal slope    slope_se pval_nominal_threshold\n",
       "4519249 0.221519 8.38044e-06  0.790552 0.161695 1.97309e-05           \n",
       "4519250 0.450000 3.74818e-06  0.761406 0.148962 1.97309e-05           \n",
       "4519251 0.218750 7.82404e-06  0.775772 0.158055 1.97309e-05           \n",
       "4519252 0.218750 7.82404e-06  0.775772 0.158055 1.97309e-05           \n",
       "4519253 0.218750 7.82404e-06  0.775772 0.158055 1.97309e-05           \n",
       "4519254 0.450000 3.74818e-06  0.761406 0.148962 1.97309e-05           \n",
       "        min_pval_nominal pval_beta   tissue                  snp_id          \n",
       "4519249 2.31291e-08      1.87966e-05 Brain_Substantia_nigra. X_154943431_GA_G\n",
       "4519250 2.31291e-08      1.87966e-05 Brain_Substantia_nigra. X_154946000_C_T \n",
       "4519251 2.31291e-08      1.87966e-05 Brain_Substantia_nigra. X_154947398_C_T \n",
       "4519252 2.31291e-08      1.87966e-05 Brain_Substantia_nigra. X_154947855_GC_G\n",
       "4519253 2.31291e-08      1.87966e-05 Brain_Substantia_nigra. X_154949953_C_G \n",
       "4519254 2.31291e-08      1.87966e-05 Brain_Substantia_nigra. X_154950112_G_A \n",
       "        feature_id     \n",
       "4519249 ENSG00000185973\n",
       "4519250 ENSG00000185973\n",
       "4519251 ENSG00000185973\n",
       "4519252 ENSG00000185973\n",
       "4519253 ENSG00000185973\n",
       "4519254 ENSG00000185973"
      ]
     },
     "metadata": {},
     "output_type": "display_data"
    }
   ],
   "source": [
    "df1$feature_id = gsub(\"\\\\.[0-9]\",\"\",df1$gene_id)\n",
    "tail(df1)"
   ]
  },
  {
   "cell_type": "code",
   "execution_count": 70,
   "metadata": {
    "scrolled": true
   },
   "outputs": [
    {
     "data": {
      "text/html": [
       "<table>\n",
       "<thead><tr><th></th><th scope=col>snp_id</th><th scope=col>p_value</th><th scope=col>beta</th><th scope=col>beta_se</th><th scope=col>empirical_feature_p_value</th><th scope=col>feature_chromosome</th><th scope=col>feature_start</th><th scope=col>feature_end</th><th scope=col>n_samples</th><th scope=col>n_e_samples</th><th scope=col>...</th><th scope=col>snp_chromosome</th><th scope=col>snp_position</th><th scope=col>assessed_allele</th><th scope=col>call_rate</th><th scope=col>maf</th><th scope=col>hwe_p</th><th scope=col>feature_id</th><th scope=col>BH_fdr</th><th scope=col>q_value</th><th scope=col>label</th></tr></thead>\n",
       "<tbody>\n",
       "\t<tr><th scope=row>2</th><td>11_107726716_A_C</td><td>4.544994e-05    </td><td> 0.09036565     </td><td>0.02216001      </td><td>0.0001665921    </td><td>11              </td><td>107661717       </td><td>107799019       </td><td>173             </td><td>173             </td><td>...             </td><td>11              </td><td>107726716       </td><td>C               </td><td>1               </td><td>0.4306358       </td><td>0.5386349       </td><td>ENSG00000110660 </td><td>0.001808781     </td><td>0.00075681      </td><td>FPP_D11         </td></tr>\n",
       "\t<tr><th scope=row>7</th><td>11_106001229_C_A</td><td>5.034677e-05    </td><td>-0.24701335     </td><td>0.06093060      </td><td>0.0258019418    </td><td>11              </td><td>105946228       </td><td>105969437       </td><td>173             </td><td>173             </td><td>...             </td><td>11              </td><td>106001229       </td><td>A               </td><td>1               </td><td>0.1213873       </td><td>0.4744572       </td><td>ENSG00000149313 </td><td>0.116865230     </td><td>0.04889743      </td><td>FPP_D11         </td></tr>\n",
       "</tbody>\n",
       "</table>\n"
      ],
      "text/latex": [
       "\\begin{tabular}{r|llllllllllllllllllllll}\n",
       "  & snp\\_id & p\\_value & beta & beta\\_se & empirical\\_feature\\_p\\_value & feature\\_chromosome & feature\\_start & feature\\_end & n\\_samples & n\\_e\\_samples & ... & snp\\_chromosome & snp\\_position & assessed\\_allele & call\\_rate & maf & hwe\\_p & feature\\_id & BH\\_fdr & q\\_value & label\\\\\n",
       "\\hline\n",
       "\t2 & 11\\_107726716\\_A\\_C & 4.544994e-05           &  0.09036565            & 0.02216001             & 0.0001665921           & 11                     & 107661717              & 107799019              & 173                    & 173                    & ...                    & 11                     & 107726716              & C                      & 1                      & 0.4306358              & 0.5386349              & ENSG00000110660        & 0.001808781            & 0.00075681             & FPP\\_D11             \\\\\n",
       "\t7 & 11\\_106001229\\_C\\_A & 5.034677e-05           & -0.24701335            & 0.06093060             & 0.0258019418           & 11                     & 105946228              & 105969437              & 173                    & 173                    & ...                    & 11                     & 106001229              & A                      & 1                      & 0.1213873              & 0.4744572              & ENSG00000149313        & 0.116865230            & 0.04889743             & FPP\\_D11             \\\\\n",
       "\\end{tabular}\n"
      ],
      "text/markdown": [
       "\n",
       "| <!--/--> | snp_id | p_value | beta | beta_se | empirical_feature_p_value | feature_chromosome | feature_start | feature_end | n_samples | n_e_samples | ... | snp_chromosome | snp_position | assessed_allele | call_rate | maf | hwe_p | feature_id | BH_fdr | q_value | label |\n",
       "|---|---|---|---|---|---|---|---|---|---|---|---|---|---|---|---|---|---|---|---|---|---|\n",
       "| 2 | 11_107726716_A_C | 4.544994e-05     |  0.09036565      | 0.02216001       | 0.0001665921     | 11               | 107661717        | 107799019        | 173              | 173              | ...              | 11               | 107726716        | C                | 1                | 0.4306358        | 0.5386349        | ENSG00000110660  | 0.001808781      | 0.00075681       | FPP_D11          |\n",
       "| 7 | 11_106001229_C_A | 5.034677e-05     | -0.24701335      | 0.06093060       | 0.0258019418     | 11               | 105946228        | 105969437        | 173              | 173              | ...              | 11               | 106001229        | A                | 1                | 0.1213873        | 0.4744572        | ENSG00000149313  | 0.116865230      | 0.04889743       | FPP_D11          |\n",
       "\n"
      ],
      "text/plain": [
       "  snp_id           p_value      beta        beta_se   \n",
       "2 11_107726716_A_C 4.544994e-05  0.09036565 0.02216001\n",
       "7 11_106001229_C_A 5.034677e-05 -0.24701335 0.06093060\n",
       "  empirical_feature_p_value feature_chromosome feature_start feature_end\n",
       "2 0.0001665921              11                 107661717     107799019  \n",
       "7 0.0258019418              11                 105946228     105969437  \n",
       "  n_samples n_e_samples ... snp_chromosome snp_position assessed_allele\n",
       "2 173       173         ... 11             107726716    C              \n",
       "7 173       173         ... 11             106001229    A              \n",
       "  call_rate maf       hwe_p     feature_id      BH_fdr      q_value    label  \n",
       "2 1         0.4306358 0.5386349 ENSG00000110660 0.001808781 0.00075681 FPP_D11\n",
       "7 1         0.1213873 0.4744572 ENSG00000149313 0.116865230 0.04889743 FPP_D11"
      ]
     },
     "metadata": {},
     "output_type": "display_data"
    }
   ],
   "source": [
    "leads = read.csv(\"/hps/nobackup/stegle/users/acuomo/all_scripts/sc_neuroseq/eqtl/all_leads_5pct_FDR_Storey.csv\", row.names = 1)\n",
    "# leads = read.csv(\"/hps/nobackup/stegle/users/acuomo/all_scripts/sc_neuroseq/eqtl/all_leads_5pct_FDR_old.csv\")\n",
    "\n",
    "head(leads,2)"
   ]
  },
  {
   "cell_type": "code",
   "execution_count": 71,
   "metadata": {},
   "outputs": [
    {
     "data": {
      "text/html": [
       "<table>\n",
       "<thead><tr><th></th><th scope=col>snp_id</th><th scope=col>p_value</th><th scope=col>beta</th><th scope=col>beta_se</th><th scope=col>empirical_feature_p_value</th><th scope=col>feature_chromosome</th><th scope=col>feature_start</th><th scope=col>feature_end</th><th scope=col>n_samples</th><th scope=col>n_e_samples</th><th scope=col>...</th><th scope=col>snp_chromosome</th><th scope=col>snp_position</th><th scope=col>assessed_allele</th><th scope=col>call_rate</th><th scope=col>maf</th><th scope=col>hwe_p</th><th scope=col>feature_id</th><th scope=col>BH_fdr</th><th scope=col>q_value</th><th scope=col>label</th></tr></thead>\n",
       "<tbody>\n",
       "\t<tr><th scope=row>2</th><td>11_107726716_A_C</td><td>4.544994e-05    </td><td> 0.09036565     </td><td>0.02216001      </td><td>0.0001665921    </td><td>11              </td><td>107661717       </td><td>107799019       </td><td>173             </td><td>173             </td><td>...             </td><td>11              </td><td>107726716       </td><td>C               </td><td>1               </td><td>0.4306358       </td><td>0.5386349       </td><td>ENSG00000110660 </td><td>0.001808781     </td><td>0.00075681      </td><td>FPP_D11         </td></tr>\n",
       "\t<tr><th scope=row>7</th><td>11_106001229_C_A</td><td>5.034677e-05    </td><td>-0.24701335     </td><td>0.06093060      </td><td>0.0258019418    </td><td>11              </td><td>105946228       </td><td>105969437       </td><td>173             </td><td>173             </td><td>...             </td><td>11              </td><td>106001229       </td><td>A               </td><td>1               </td><td>0.1213873       </td><td>0.4744572       </td><td>ENSG00000149313 </td><td>0.116865230     </td><td>0.04889743      </td><td>FPP_D11         </td></tr>\n",
       "</tbody>\n",
       "</table>\n"
      ],
      "text/latex": [
       "\\begin{tabular}{r|llllllllllllllllllllll}\n",
       "  & snp\\_id & p\\_value & beta & beta\\_se & empirical\\_feature\\_p\\_value & feature\\_chromosome & feature\\_start & feature\\_end & n\\_samples & n\\_e\\_samples & ... & snp\\_chromosome & snp\\_position & assessed\\_allele & call\\_rate & maf & hwe\\_p & feature\\_id & BH\\_fdr & q\\_value & label\\\\\n",
       "\\hline\n",
       "\t2 & 11\\_107726716\\_A\\_C & 4.544994e-05           &  0.09036565            & 0.02216001             & 0.0001665921           & 11                     & 107661717              & 107799019              & 173                    & 173                    & ...                    & 11                     & 107726716              & C                      & 1                      & 0.4306358              & 0.5386349              & ENSG00000110660        & 0.001808781            & 0.00075681             & FPP\\_D11             \\\\\n",
       "\t7 & 11\\_106001229\\_C\\_A & 5.034677e-05           & -0.24701335            & 0.06093060             & 0.0258019418           & 11                     & 105946228              & 105969437              & 173                    & 173                    & ...                    & 11                     & 106001229              & A                      & 1                      & 0.1213873              & 0.4744572              & ENSG00000149313        & 0.116865230            & 0.04889743             & FPP\\_D11             \\\\\n",
       "\\end{tabular}\n"
      ],
      "text/markdown": [
       "\n",
       "| <!--/--> | snp_id | p_value | beta | beta_se | empirical_feature_p_value | feature_chromosome | feature_start | feature_end | n_samples | n_e_samples | ... | snp_chromosome | snp_position | assessed_allele | call_rate | maf | hwe_p | feature_id | BH_fdr | q_value | label |\n",
       "|---|---|---|---|---|---|---|---|---|---|---|---|---|---|---|---|---|---|---|---|---|---|\n",
       "| 2 | 11_107726716_A_C | 4.544994e-05     |  0.09036565      | 0.02216001       | 0.0001665921     | 11               | 107661717        | 107799019        | 173              | 173              | ...              | 11               | 107726716        | C                | 1                | 0.4306358        | 0.5386349        | ENSG00000110660  | 0.001808781      | 0.00075681       | FPP_D11          |\n",
       "| 7 | 11_106001229_C_A | 5.034677e-05     | -0.24701335      | 0.06093060       | 0.0258019418     | 11               | 105946228        | 105969437        | 173              | 173              | ...              | 11               | 106001229        | A                | 1                | 0.1213873        | 0.4744572        | ENSG00000149313  | 0.116865230      | 0.04889743       | FPP_D11          |\n",
       "\n"
      ],
      "text/plain": [
       "  snp_id           p_value      beta        beta_se   \n",
       "2 11_107726716_A_C 4.544994e-05  0.09036565 0.02216001\n",
       "7 11_106001229_C_A 5.034677e-05 -0.24701335 0.06093060\n",
       "  empirical_feature_p_value feature_chromosome feature_start feature_end\n",
       "2 0.0001665921              11                 107661717     107799019  \n",
       "7 0.0258019418              11                 105946228     105969437  \n",
       "  n_samples n_e_samples ... snp_chromosome snp_position assessed_allele\n",
       "2 173       173         ... 11             107726716    C              \n",
       "7 173       173         ... 11             106001229    A              \n",
       "  call_rate maf       hwe_p     feature_id      BH_fdr      q_value    label  \n",
       "2 1         0.4306358 0.5386349 ENSG00000110660 0.001808781 0.00075681 FPP_D11\n",
       "7 1         0.1213873 0.4744572 ENSG00000149313 0.116865230 0.04889743 FPP_D11"
      ]
     },
     "metadata": {},
     "output_type": "display_data"
    },
    {
     "data": {
      "text/html": [
       "<table>\n",
       "<thead><tr><th scope=col>variant_id</th><th scope=col>gene_id</th><th scope=col>tss_distance</th><th scope=col>ma_samples</th><th scope=col>ma_count</th><th scope=col>maf</th><th scope=col>pval_nominal</th><th scope=col>slope</th><th scope=col>slope_se</th><th scope=col>pval_nominal_threshold</th><th scope=col>min_pval_nominal</th><th scope=col>pval_beta</th><th scope=col>tissue</th><th scope=col>snp_id</th><th scope=col>feature_id</th></tr></thead>\n",
       "<tbody>\n",
       "\t<tr><td>1_780782_A_G_b37 </td><td>ENSG00000225972.1</td><td>216340           </td><td>2                </td><td>2                </td><td>0.0113636        </td><td>1.25628e-06      </td><td>2.7816           </td><td>0.521409         </td><td>1.05226e-05      </td><td>1.25628e-06      </td><td>0.00141162       </td><td>Brain_Amygdala.  </td><td>1_780782_A_G     </td><td>ENSG00000225972  </td></tr>\n",
       "\t<tr><td>1_920649_G_A_b37 </td><td>ENSG00000225972.1</td><td>356207           </td><td>2                </td><td>2                </td><td>0.0113636        </td><td>1.25628e-06      </td><td>2.7816           </td><td>0.521409         </td><td>1.05226e-05      </td><td>1.25628e-06      </td><td>0.00141162       </td><td>Brain_Amygdala.  </td><td>1_920649_G_A     </td><td>ENSG00000225972  </td></tr>\n",
       "</tbody>\n",
       "</table>\n"
      ],
      "text/latex": [
       "\\begin{tabular}{r|lllllllllllllll}\n",
       " variant\\_id & gene\\_id & tss\\_distance & ma\\_samples & ma\\_count & maf & pval\\_nominal & slope & slope\\_se & pval\\_nominal\\_threshold & min\\_pval\\_nominal & pval\\_beta & tissue & snp\\_id & feature\\_id\\\\\n",
       "\\hline\n",
       "\t 1\\_780782\\_A\\_G\\_b37 & ENSG00000225972.1        & 216340                   & 2                        & 2                        & 0.0113636                & 1.25628e-06              & 2.7816                   & 0.521409                 & 1.05226e-05              & 1.25628e-06              & 0.00141162               & Brain\\_Amygdala.        & 1\\_780782\\_A\\_G       & ENSG00000225972         \\\\\n",
       "\t 1\\_920649\\_G\\_A\\_b37 & ENSG00000225972.1        & 356207                   & 2                        & 2                        & 0.0113636                & 1.25628e-06              & 2.7816                   & 0.521409                 & 1.05226e-05              & 1.25628e-06              & 0.00141162               & Brain\\_Amygdala.        & 1\\_920649\\_G\\_A       & ENSG00000225972         \\\\\n",
       "\\end{tabular}\n"
      ],
      "text/markdown": [
       "\n",
       "| variant_id | gene_id | tss_distance | ma_samples | ma_count | maf | pval_nominal | slope | slope_se | pval_nominal_threshold | min_pval_nominal | pval_beta | tissue | snp_id | feature_id |\n",
       "|---|---|---|---|---|---|---|---|---|---|---|---|---|---|---|\n",
       "| 1_780782_A_G_b37  | ENSG00000225972.1 | 216340            | 2                 | 2                 | 0.0113636         | 1.25628e-06       | 2.7816            | 0.521409          | 1.05226e-05       | 1.25628e-06       | 0.00141162        | Brain_Amygdala.   | 1_780782_A_G      | ENSG00000225972   |\n",
       "| 1_920649_G_A_b37  | ENSG00000225972.1 | 356207            | 2                 | 2                 | 0.0113636         | 1.25628e-06       | 2.7816            | 0.521409          | 1.05226e-05       | 1.25628e-06       | 0.00141162        | Brain_Amygdala.   | 1_920649_G_A      | ENSG00000225972   |\n",
       "\n"
      ],
      "text/plain": [
       "  variant_id       gene_id           tss_distance ma_samples ma_count maf      \n",
       "1 1_780782_A_G_b37 ENSG00000225972.1 216340       2          2        0.0113636\n",
       "2 1_920649_G_A_b37 ENSG00000225972.1 356207       2          2        0.0113636\n",
       "  pval_nominal slope  slope_se pval_nominal_threshold min_pval_nominal\n",
       "1 1.25628e-06  2.7816 0.521409 1.05226e-05            1.25628e-06     \n",
       "2 1.25628e-06  2.7816 0.521409 1.05226e-05            1.25628e-06     \n",
       "  pval_beta  tissue          snp_id       feature_id     \n",
       "1 0.00141162 Brain_Amygdala. 1_780782_A_G ENSG00000225972\n",
       "2 0.00141162 Brain_Amygdala. 1_920649_G_A ENSG00000225972"
      ]
     },
     "metadata": {},
     "output_type": "display_data"
    }
   ],
   "source": [
    "head(leads,2)\n",
    "head(df1,2)"
   ]
  },
  {
   "cell_type": "code",
   "execution_count": 72,
   "metadata": {},
   "outputs": [
    {
     "data": {
      "text/html": [
       "1431702"
      ],
      "text/latex": [
       "1431702"
      ],
      "text/markdown": [
       "1431702"
      ],
      "text/plain": [
       "[1] 1431702"
      ]
     },
     "metadata": {},
     "output_type": "display_data"
    }
   ],
   "source": [
    "# df1 = df1[df1$qval < 0.05,]\n",
    "df1$eqtl = paste0(df1$snp_id,\"-\",df1$feature_id)\n",
    "length(unique(df1$eqtl))\n",
    "eqtl1 = unique(df1$eqtl)"
   ]
  },
  {
   "cell_type": "code",
   "execution_count": 73,
   "metadata": {},
   "outputs": [
    {
     "data": {
      "text/html": [
       "11199"
      ],
      "text/latex": [
       "11199"
      ],
      "text/markdown": [
       "11199"
      ],
      "text/plain": [
       "[1] 11199"
      ]
     },
     "metadata": {},
     "output_type": "display_data"
    }
   ],
   "source": [
    "leads$eqtl = paste0(leads$snp_id,\"-\",leads$feature_id)\n",
    "length(unique(leads$eqtl))\n",
    "eqtl0 = unique(leads$eqtl)"
   ]
  },
  {
   "cell_type": "code",
   "execution_count": 74,
   "metadata": {},
   "outputs": [
    {
     "data": {
      "text/html": [
       "<ol class=list-inline>\n",
       "\t<li>'11_107726716_A_C-ENSG00000110660'</li>\n",
       "\t<li>'11_106001229_C_A-ENSG00000149313'</li>\n",
       "\t<li>'17_44368902_G_A-ENSG00000120071'</li>\n",
       "\t<li>'17_43665322_C_T-ENSG00000120088'</li>\n",
       "\t<li>'17_42773081_G_A-ENSG00000161692'</li>\n",
       "\t<li>'17_42234039_T_A-ENSG00000168591'</li>\n",
       "</ol>\n"
      ],
      "text/latex": [
       "\\begin{enumerate*}\n",
       "\\item '11\\_107726716\\_A\\_C-ENSG00000110660'\n",
       "\\item '11\\_106001229\\_C\\_A-ENSG00000149313'\n",
       "\\item '17\\_44368902\\_G\\_A-ENSG00000120071'\n",
       "\\item '17\\_43665322\\_C\\_T-ENSG00000120088'\n",
       "\\item '17\\_42773081\\_G\\_A-ENSG00000161692'\n",
       "\\item '17\\_42234039\\_T\\_A-ENSG00000168591'\n",
       "\\end{enumerate*}\n"
      ],
      "text/markdown": [
       "1. '11_107726716_A_C-ENSG00000110660'\n",
       "2. '11_106001229_C_A-ENSG00000149313'\n",
       "3. '17_44368902_G_A-ENSG00000120071'\n",
       "4. '17_43665322_C_T-ENSG00000120088'\n",
       "5. '17_42773081_G_A-ENSG00000161692'\n",
       "6. '17_42234039_T_A-ENSG00000168591'\n",
       "\n",
       "\n"
      ],
      "text/plain": [
       "[1] \"11_107726716_A_C-ENSG00000110660\" \"11_106001229_C_A-ENSG00000149313\"\n",
       "[3] \"17_44368902_G_A-ENSG00000120071\"  \"17_43665322_C_T-ENSG00000120088\" \n",
       "[5] \"17_42773081_G_A-ENSG00000161692\"  \"17_42234039_T_A-ENSG00000168591\" "
      ]
     },
     "metadata": {},
     "output_type": "display_data"
    },
    {
     "data": {
      "text/html": [
       "<ol class=list-inline>\n",
       "\t<li>'1_780782_A_G-ENSG00000225972'</li>\n",
       "\t<li>'1_920649_G_A-ENSG00000225972'</li>\n",
       "\t<li>'1_1068882_C_T-ENSG00000225972'</li>\n",
       "\t<li>'1_1078090_T_C-ENSG00000225972'</li>\n",
       "\t<li>'1_1163773_C_T-ENSG00000225972'</li>\n",
       "\t<li>'1_1169637_T_C-ENSG00000225972'</li>\n",
       "</ol>\n"
      ],
      "text/latex": [
       "\\begin{enumerate*}\n",
       "\\item '1\\_780782\\_A\\_G-ENSG00000225972'\n",
       "\\item '1\\_920649\\_G\\_A-ENSG00000225972'\n",
       "\\item '1\\_1068882\\_C\\_T-ENSG00000225972'\n",
       "\\item '1\\_1078090\\_T\\_C-ENSG00000225972'\n",
       "\\item '1\\_1163773\\_C\\_T-ENSG00000225972'\n",
       "\\item '1\\_1169637\\_T\\_C-ENSG00000225972'\n",
       "\\end{enumerate*}\n"
      ],
      "text/markdown": [
       "1. '1_780782_A_G-ENSG00000225972'\n",
       "2. '1_920649_G_A-ENSG00000225972'\n",
       "3. '1_1068882_C_T-ENSG00000225972'\n",
       "4. '1_1078090_T_C-ENSG00000225972'\n",
       "5. '1_1163773_C_T-ENSG00000225972'\n",
       "6. '1_1169637_T_C-ENSG00000225972'\n",
       "\n",
       "\n"
      ],
      "text/plain": [
       "[1] \"1_780782_A_G-ENSG00000225972\"  \"1_920649_G_A-ENSG00000225972\" \n",
       "[3] \"1_1068882_C_T-ENSG00000225972\" \"1_1078090_T_C-ENSG00000225972\"\n",
       "[5] \"1_1163773_C_T-ENSG00000225972\" \"1_1169637_T_C-ENSG00000225972\""
      ]
     },
     "metadata": {},
     "output_type": "display_data"
    }
   ],
   "source": [
    "head(leads$eqtl)\n",
    "head(df1$eqtl)"
   ]
  },
  {
   "cell_type": "code",
   "execution_count": 75,
   "metadata": {},
   "outputs": [
    {
     "data": {
      "text/html": [
       "11199"
      ],
      "text/latex": [
       "11199"
      ],
      "text/markdown": [
       "11199"
      ],
      "text/plain": [
       "[1] 11199"
      ]
     },
     "metadata": {},
     "output_type": "display_data"
    },
    {
     "data": {
      "text/html": [
       "8799"
      ],
      "text/latex": [
       "8799"
      ],
      "text/markdown": [
       "8799"
      ],
      "text/plain": [
       "[1] 8799"
      ]
     },
     "metadata": {},
     "output_type": "display_data"
    },
    {
     "data": {
      "text/html": [
       "4828"
      ],
      "text/latex": [
       "4828"
      ],
      "text/markdown": [
       "4828"
      ],
      "text/plain": [
       "[1] 4828"
      ]
     },
     "metadata": {},
     "output_type": "display_data"
    },
    {
     "data": {
      "text/html": [
       "2366"
      ],
      "text/latex": [
       "2366"
      ],
      "text/markdown": [
       "2366"
      ],
      "text/plain": [
       "[1] 2366"
      ]
     },
     "metadata": {},
     "output_type": "display_data"
    }
   ],
   "source": [
    "length(unique(leads$eqtl))\n",
    "sum(!(unique(leads$eqtl) %in% unique(df1$eqtl)))\n",
    "length(unique(leads$feature_id))\n",
    "sum(!(unique(leads$feature_id) %in% unique(df1$feature_id)))"
   ]
  },
  {
   "cell_type": "code",
   "execution_count": 76,
   "metadata": {},
   "outputs": [
    {
     "data": {
      "text/html": [
       "<table>\n",
       "<thead><tr><th></th><th scope=col>snp_id</th><th scope=col>p_value</th><th scope=col>beta</th><th scope=col>beta_se</th><th scope=col>empirical_feature_p_value</th><th scope=col>feature_chromosome</th><th scope=col>feature_start</th><th scope=col>feature_end</th><th scope=col>n_samples</th><th scope=col>n_e_samples</th><th scope=col>...</th><th scope=col>snp_position</th><th scope=col>assessed_allele</th><th scope=col>call_rate</th><th scope=col>maf</th><th scope=col>hwe_p</th><th scope=col>feature_id</th><th scope=col>BH_fdr</th><th scope=col>q_value</th><th scope=col>label</th><th scope=col>eqtl</th></tr></thead>\n",
       "<tbody>\n",
       "\t<tr><th scope=row>2</th><td>11_107726716_A_C                </td><td>4.544994e-05                    </td><td> 0.09036565                     </td><td>0.02216001                      </td><td>0.0001665921                    </td><td>11                              </td><td>107661717                       </td><td>107799019                       </td><td>173                             </td><td>173                             </td><td>...                             </td><td>107726716                       </td><td>C                               </td><td>1                               </td><td>0.4306358                       </td><td>0.5386349                       </td><td>ENSG00000110660                 </td><td>0.001808781                     </td><td>0.00075681                      </td><td>FPP_D11                         </td><td>11_107726716_A_C-ENSG00000110660</td></tr>\n",
       "\t<tr><th scope=row>7</th><td>11_106001229_C_A                </td><td>5.034677e-05                    </td><td>-0.24701335                     </td><td>0.06093060                      </td><td>0.0258019418                    </td><td>11                              </td><td>105946228                       </td><td>105969437                       </td><td>173                             </td><td>173                             </td><td>...                             </td><td>106001229                       </td><td>A                               </td><td>1                               </td><td>0.1213873                       </td><td>0.4744572                       </td><td>ENSG00000149313                 </td><td>0.116865230                     </td><td>0.04889743                      </td><td>FPP_D11                         </td><td>11_106001229_C_A-ENSG00000149313</td></tr>\n",
       "</tbody>\n",
       "</table>\n"
      ],
      "text/latex": [
       "\\begin{tabular}{r|lllllllllllllllllllllll}\n",
       "  & snp\\_id & p\\_value & beta & beta\\_se & empirical\\_feature\\_p\\_value & feature\\_chromosome & feature\\_start & feature\\_end & n\\_samples & n\\_e\\_samples & ... & snp\\_position & assessed\\_allele & call\\_rate & maf & hwe\\_p & feature\\_id & BH\\_fdr & q\\_value & label & eqtl\\\\\n",
       "\\hline\n",
       "\t2 & 11\\_107726716\\_A\\_C                 & 4.544994e-05                           &  0.09036565                            & 0.02216001                             & 0.0001665921                           & 11                                     & 107661717                              & 107799019                              & 173                                    & 173                                    & ...                                    & 107726716                              & C                                      & 1                                      & 0.4306358                              & 0.5386349                              & ENSG00000110660                        & 0.001808781                            & 0.00075681                             & FPP\\_D11                              & 11\\_107726716\\_A\\_C-ENSG00000110660\\\\\n",
       "\t7 & 11\\_106001229\\_C\\_A                 & 5.034677e-05                           & -0.24701335                            & 0.06093060                             & 0.0258019418                           & 11                                     & 105946228                              & 105969437                              & 173                                    & 173                                    & ...                                    & 106001229                              & A                                      & 1                                      & 0.1213873                              & 0.4744572                              & ENSG00000149313                        & 0.116865230                            & 0.04889743                             & FPP\\_D11                              & 11\\_106001229\\_C\\_A-ENSG00000149313\\\\\n",
       "\\end{tabular}\n"
      ],
      "text/markdown": [
       "\n",
       "| <!--/--> | snp_id | p_value | beta | beta_se | empirical_feature_p_value | feature_chromosome | feature_start | feature_end | n_samples | n_e_samples | ... | snp_position | assessed_allele | call_rate | maf | hwe_p | feature_id | BH_fdr | q_value | label | eqtl |\n",
       "|---|---|---|---|---|---|---|---|---|---|---|---|---|---|---|---|---|---|---|---|---|---|\n",
       "| 2 | 11_107726716_A_C                 | 4.544994e-05                     |  0.09036565                      | 0.02216001                       | 0.0001665921                     | 11                               | 107661717                        | 107799019                        | 173                              | 173                              | ...                              | 107726716                        | C                                | 1                                | 0.4306358                        | 0.5386349                        | ENSG00000110660                  | 0.001808781                      | 0.00075681                       | FPP_D11                          | 11_107726716_A_C-ENSG00000110660 |\n",
       "| 7 | 11_106001229_C_A                 | 5.034677e-05                     | -0.24701335                      | 0.06093060                       | 0.0258019418                     | 11                               | 105946228                        | 105969437                        | 173                              | 173                              | ...                              | 106001229                        | A                                | 1                                | 0.1213873                        | 0.4744572                        | ENSG00000149313                  | 0.116865230                      | 0.04889743                       | FPP_D11                          | 11_106001229_C_A-ENSG00000149313 |\n",
       "\n"
      ],
      "text/plain": [
       "  snp_id           p_value      beta        beta_se   \n",
       "2 11_107726716_A_C 4.544994e-05  0.09036565 0.02216001\n",
       "7 11_106001229_C_A 5.034677e-05 -0.24701335 0.06093060\n",
       "  empirical_feature_p_value feature_chromosome feature_start feature_end\n",
       "2 0.0001665921              11                 107661717     107799019  \n",
       "7 0.0258019418              11                 105946228     105969437  \n",
       "  n_samples n_e_samples ... snp_position assessed_allele call_rate maf      \n",
       "2 173       173         ... 107726716    C               1         0.4306358\n",
       "7 173       173         ... 106001229    A               1         0.1213873\n",
       "  hwe_p     feature_id      BH_fdr      q_value    label  \n",
       "2 0.5386349 ENSG00000110660 0.001808781 0.00075681 FPP_D11\n",
       "7 0.4744572 ENSG00000149313 0.116865230 0.04889743 FPP_D11\n",
       "  eqtl                            \n",
       "2 11_107726716_A_C-ENSG00000110660\n",
       "7 11_106001229_C_A-ENSG00000149313"
      ]
     },
     "metadata": {},
     "output_type": "display_data"
    },
    {
     "data": {
      "text/html": [
       "<table>\n",
       "<thead><tr><th scope=col>variant_id</th><th scope=col>gene_id</th><th scope=col>tss_distance</th><th scope=col>ma_samples</th><th scope=col>ma_count</th><th scope=col>maf</th><th scope=col>pval_nominal</th><th scope=col>slope</th><th scope=col>slope_se</th><th scope=col>pval_nominal_threshold</th><th scope=col>min_pval_nominal</th><th scope=col>pval_beta</th><th scope=col>tissue</th><th scope=col>snp_id</th><th scope=col>feature_id</th><th scope=col>eqtl</th></tr></thead>\n",
       "<tbody>\n",
       "\t<tr><td>1_780782_A_G_b37            </td><td>ENSG00000225972.1           </td><td>216340                      </td><td>2                           </td><td>2                           </td><td>0.0113636                   </td><td>1.25628e-06                 </td><td>2.7816                      </td><td>0.521409                    </td><td>1.05226e-05                 </td><td>1.25628e-06                 </td><td>0.00141162                  </td><td>Brain_Amygdala.             </td><td>1_780782_A_G                </td><td>ENSG00000225972             </td><td>1_780782_A_G-ENSG00000225972</td></tr>\n",
       "\t<tr><td>1_920649_G_A_b37            </td><td>ENSG00000225972.1           </td><td>356207                      </td><td>2                           </td><td>2                           </td><td>0.0113636                   </td><td>1.25628e-06                 </td><td>2.7816                      </td><td>0.521409                    </td><td>1.05226e-05                 </td><td>1.25628e-06                 </td><td>0.00141162                  </td><td>Brain_Amygdala.             </td><td>1_920649_G_A                </td><td>ENSG00000225972             </td><td>1_920649_G_A-ENSG00000225972</td></tr>\n",
       "</tbody>\n",
       "</table>\n"
      ],
      "text/latex": [
       "\\begin{tabular}{r|llllllllllllllll}\n",
       " variant\\_id & gene\\_id & tss\\_distance & ma\\_samples & ma\\_count & maf & pval\\_nominal & slope & slope\\_se & pval\\_nominal\\_threshold & min\\_pval\\_nominal & pval\\_beta & tissue & snp\\_id & feature\\_id & eqtl\\\\\n",
       "\\hline\n",
       "\t 1\\_780782\\_A\\_G\\_b37           & ENSG00000225972.1                  & 216340                             & 2                                  & 2                                  & 0.0113636                          & 1.25628e-06                        & 2.7816                             & 0.521409                           & 1.05226e-05                        & 1.25628e-06                        & 0.00141162                         & Brain\\_Amygdala.                  & 1\\_780782\\_A\\_G                 & ENSG00000225972                    & 1\\_780782\\_A\\_G-ENSG00000225972\\\\\n",
       "\t 1\\_920649\\_G\\_A\\_b37           & ENSG00000225972.1                  & 356207                             & 2                                  & 2                                  & 0.0113636                          & 1.25628e-06                        & 2.7816                             & 0.521409                           & 1.05226e-05                        & 1.25628e-06                        & 0.00141162                         & Brain\\_Amygdala.                  & 1\\_920649\\_G\\_A                 & ENSG00000225972                    & 1\\_920649\\_G\\_A-ENSG00000225972\\\\\n",
       "\\end{tabular}\n"
      ],
      "text/markdown": [
       "\n",
       "| variant_id | gene_id | tss_distance | ma_samples | ma_count | maf | pval_nominal | slope | slope_se | pval_nominal_threshold | min_pval_nominal | pval_beta | tissue | snp_id | feature_id | eqtl |\n",
       "|---|---|---|---|---|---|---|---|---|---|---|---|---|---|---|---|\n",
       "| 1_780782_A_G_b37             | ENSG00000225972.1            | 216340                       | 2                            | 2                            | 0.0113636                    | 1.25628e-06                  | 2.7816                       | 0.521409                     | 1.05226e-05                  | 1.25628e-06                  | 0.00141162                   | Brain_Amygdala.              | 1_780782_A_G                 | ENSG00000225972              | 1_780782_A_G-ENSG00000225972 |\n",
       "| 1_920649_G_A_b37             | ENSG00000225972.1            | 356207                       | 2                            | 2                            | 0.0113636                    | 1.25628e-06                  | 2.7816                       | 0.521409                     | 1.05226e-05                  | 1.25628e-06                  | 0.00141162                   | Brain_Amygdala.              | 1_920649_G_A                 | ENSG00000225972              | 1_920649_G_A-ENSG00000225972 |\n",
       "\n"
      ],
      "text/plain": [
       "  variant_id       gene_id           tss_distance ma_samples ma_count maf      \n",
       "1 1_780782_A_G_b37 ENSG00000225972.1 216340       2          2        0.0113636\n",
       "2 1_920649_G_A_b37 ENSG00000225972.1 356207       2          2        0.0113636\n",
       "  pval_nominal slope  slope_se pval_nominal_threshold min_pval_nominal\n",
       "1 1.25628e-06  2.7816 0.521409 1.05226e-05            1.25628e-06     \n",
       "2 1.25628e-06  2.7816 0.521409 1.05226e-05            1.25628e-06     \n",
       "  pval_beta  tissue          snp_id       feature_id     \n",
       "1 0.00141162 Brain_Amygdala. 1_780782_A_G ENSG00000225972\n",
       "2 0.00141162 Brain_Amygdala. 1_920649_G_A ENSG00000225972\n",
       "  eqtl                        \n",
       "1 1_780782_A_G-ENSG00000225972\n",
       "2 1_920649_G_A-ENSG00000225972"
      ]
     },
     "metadata": {},
     "output_type": "display_data"
    }
   ],
   "source": [
    "head(leads,2)\n",
    "head(df1,2)"
   ]
  },
  {
   "cell_type": "code",
   "execution_count": 77,
   "metadata": {},
   "outputs": [
    {
     "data": {
      "text/html": [
       "0"
      ],
      "text/latex": [
       "0"
      ],
      "text/markdown": [
       "0"
      ],
      "text/plain": [
       "[1] 0"
      ]
     },
     "metadata": {},
     "output_type": "display_data"
    },
    {
     "data": {
      "text/html": [
       "0"
      ],
      "text/latex": [
       "0"
      ],
      "text/markdown": [
       "0"
      ],
      "text/plain": [
       "[1] 0"
      ]
     },
     "metadata": {},
     "output_type": "display_data"
    }
   ],
   "source": [
    "nrow(leads[leads$q_value >0.05,])\n",
    "nrow(df1[df1$qval >0.05,])"
   ]
  },
  {
   "cell_type": "code",
   "execution_count": 48,
   "metadata": {},
   "outputs": [
    {
     "data": {
      "text/html": [
       "<ol class=list-inline>\n",
       "\t<li>'gene_id'</li>\n",
       "\t<li>'gene_name'</li>\n",
       "\t<li>'gene_chr'</li>\n",
       "\t<li>'gene_start'</li>\n",
       "\t<li>'gene_end'</li>\n",
       "\t<li>'strand'</li>\n",
       "\t<li>'num_var'</li>\n",
       "\t<li>'beta_shape1'</li>\n",
       "\t<li>'beta_shape2'</li>\n",
       "\t<li>'true_df'</li>\n",
       "\t<li>'pval_true_df'</li>\n",
       "\t<li>'variant_id'</li>\n",
       "\t<li>'tss_distance'</li>\n",
       "\t<li>'chr'</li>\n",
       "\t<li>'pos'</li>\n",
       "\t<li>'ref'</li>\n",
       "\t<li>'alt'</li>\n",
       "\t<li>'num_alt_per_site'</li>\n",
       "\t<li>'rs_id_dbSNP147_GRCh37p13'</li>\n",
       "\t<li>'minor_allele_samples'</li>\n",
       "\t<li>'minor_allele_count'</li>\n",
       "\t<li>'maf'</li>\n",
       "\t<li>'ref_factor'</li>\n",
       "\t<li>'pval_nominal'</li>\n",
       "\t<li>'slope'</li>\n",
       "\t<li>'slope_se'</li>\n",
       "\t<li>'pval_perm'</li>\n",
       "\t<li>'pval_beta'</li>\n",
       "\t<li>'qval'</li>\n",
       "\t<li>'pval_nominal_threshold'</li>\n",
       "\t<li>'log2_aFC'</li>\n",
       "\t<li>'log2_aFC_lower'</li>\n",
       "\t<li>'log2_aFC_upper'</li>\n",
       "\t<li>'tissue'</li>\n",
       "\t<li>'snp_id'</li>\n",
       "\t<li>'feature_id'</li>\n",
       "\t<li>'eqtl'</li>\n",
       "</ol>\n"
      ],
      "text/latex": [
       "\\begin{enumerate*}\n",
       "\\item 'gene\\_id'\n",
       "\\item 'gene\\_name'\n",
       "\\item 'gene\\_chr'\n",
       "\\item 'gene\\_start'\n",
       "\\item 'gene\\_end'\n",
       "\\item 'strand'\n",
       "\\item 'num\\_var'\n",
       "\\item 'beta\\_shape1'\n",
       "\\item 'beta\\_shape2'\n",
       "\\item 'true\\_df'\n",
       "\\item 'pval\\_true\\_df'\n",
       "\\item 'variant\\_id'\n",
       "\\item 'tss\\_distance'\n",
       "\\item 'chr'\n",
       "\\item 'pos'\n",
       "\\item 'ref'\n",
       "\\item 'alt'\n",
       "\\item 'num\\_alt\\_per\\_site'\n",
       "\\item 'rs\\_id\\_dbSNP147\\_GRCh37p13'\n",
       "\\item 'minor\\_allele\\_samples'\n",
       "\\item 'minor\\_allele\\_count'\n",
       "\\item 'maf'\n",
       "\\item 'ref\\_factor'\n",
       "\\item 'pval\\_nominal'\n",
       "\\item 'slope'\n",
       "\\item 'slope\\_se'\n",
       "\\item 'pval\\_perm'\n",
       "\\item 'pval\\_beta'\n",
       "\\item 'qval'\n",
       "\\item 'pval\\_nominal\\_threshold'\n",
       "\\item 'log2\\_aFC'\n",
       "\\item 'log2\\_aFC\\_lower'\n",
       "\\item 'log2\\_aFC\\_upper'\n",
       "\\item 'tissue'\n",
       "\\item 'snp\\_id'\n",
       "\\item 'feature\\_id'\n",
       "\\item 'eqtl'\n",
       "\\end{enumerate*}\n"
      ],
      "text/markdown": [
       "1. 'gene_id'\n",
       "2. 'gene_name'\n",
       "3. 'gene_chr'\n",
       "4. 'gene_start'\n",
       "5. 'gene_end'\n",
       "6. 'strand'\n",
       "7. 'num_var'\n",
       "8. 'beta_shape1'\n",
       "9. 'beta_shape2'\n",
       "10. 'true_df'\n",
       "11. 'pval_true_df'\n",
       "12. 'variant_id'\n",
       "13. 'tss_distance'\n",
       "14. 'chr'\n",
       "15. 'pos'\n",
       "16. 'ref'\n",
       "17. 'alt'\n",
       "18. 'num_alt_per_site'\n",
       "19. 'rs_id_dbSNP147_GRCh37p13'\n",
       "20. 'minor_allele_samples'\n",
       "21. 'minor_allele_count'\n",
       "22. 'maf'\n",
       "23. 'ref_factor'\n",
       "24. 'pval_nominal'\n",
       "25. 'slope'\n",
       "26. 'slope_se'\n",
       "27. 'pval_perm'\n",
       "28. 'pval_beta'\n",
       "29. 'qval'\n",
       "30. 'pval_nominal_threshold'\n",
       "31. 'log2_aFC'\n",
       "32. 'log2_aFC_lower'\n",
       "33. 'log2_aFC_upper'\n",
       "34. 'tissue'\n",
       "35. 'snp_id'\n",
       "36. 'feature_id'\n",
       "37. 'eqtl'\n",
       "\n",
       "\n"
      ],
      "text/plain": [
       " [1] \"gene_id\"                  \"gene_name\"               \n",
       " [3] \"gene_chr\"                 \"gene_start\"              \n",
       " [5] \"gene_end\"                 \"strand\"                  \n",
       " [7] \"num_var\"                  \"beta_shape1\"             \n",
       " [9] \"beta_shape2\"              \"true_df\"                 \n",
       "[11] \"pval_true_df\"             \"variant_id\"              \n",
       "[13] \"tss_distance\"             \"chr\"                     \n",
       "[15] \"pos\"                      \"ref\"                     \n",
       "[17] \"alt\"                      \"num_alt_per_site\"        \n",
       "[19] \"rs_id_dbSNP147_GRCh37p13\" \"minor_allele_samples\"    \n",
       "[21] \"minor_allele_count\"       \"maf\"                     \n",
       "[23] \"ref_factor\"               \"pval_nominal\"            \n",
       "[25] \"slope\"                    \"slope_se\"                \n",
       "[27] \"pval_perm\"                \"pval_beta\"               \n",
       "[29] \"qval\"                     \"pval_nominal_threshold\"  \n",
       "[31] \"log2_aFC\"                 \"log2_aFC_lower\"          \n",
       "[33] \"log2_aFC_upper\"           \"tissue\"                  \n",
       "[35] \"snp_id\"                   \"feature_id\"              \n",
       "[37] \"eqtl\"                    "
      ]
     },
     "metadata": {},
     "output_type": "display_data"
    }
   ],
   "source": [
    "colnames(df1)"
   ]
  },
  {
   "cell_type": "code",
   "execution_count": 93,
   "metadata": {},
   "outputs": [],
   "source": [
    "df3 = leads[,c(\"eqtl\",\"label\")]\n",
    "df4 = df1[,c(\"eqtl\",\"pval_nominal\",\"tissue\")]\n",
    "# colnames(df4)[4] = \"snp_position\""
   ]
  },
  {
   "cell_type": "code",
   "execution_count": 94,
   "metadata": {},
   "outputs": [
    {
     "data": {
      "text/html": [
       "<ol class=list-inline>\n",
       "\t<li>15493</li>\n",
       "\t<li>0</li>\n",
       "\t<li>0</li>\n",
       "\t<li>11199</li>\n",
       "</ol>\n"
      ],
      "text/latex": [
       "\\begin{enumerate*}\n",
       "\\item 15493\n",
       "\\item 0\n",
       "\\item 0\n",
       "\\item 11199\n",
       "\\end{enumerate*}\n"
      ],
      "text/markdown": [
       "1. 15493\n",
       "2. 0\n",
       "3. 0\n",
       "4. 11199\n",
       "\n",
       "\n"
      ],
      "text/plain": [
       "[1] 15493     0     0 11199"
      ]
     },
     "metadata": {},
     "output_type": "display_data"
    },
    {
     "data": {
      "text/html": [
       "<ol class=list-inline>\n",
       "\t<li>4519254</li>\n",
       "\t<li>0</li>\n",
       "\t<li>0</li>\n",
       "\t<li>1431702</li>\n",
       "</ol>\n"
      ],
      "text/latex": [
       "\\begin{enumerate*}\n",
       "\\item 4519254\n",
       "\\item 0\n",
       "\\item 0\n",
       "\\item 1431702\n",
       "\\end{enumerate*}\n"
      ],
      "text/markdown": [
       "1. 4519254\n",
       "2. 0\n",
       "3. 0\n",
       "4. 1431702\n",
       "\n",
       "\n"
      ],
      "text/plain": [
       "[1] 4519254       0       0 1431702"
      ]
     },
     "metadata": {},
     "output_type": "display_data"
    }
   ],
   "source": [
    "c(nrow(df3), length(unique(df3$snp_id)), length(unique(df3$feature_id)), length(unique(df3$eqtl)))\n",
    "c(nrow(df4), length(unique(df4$snp_id)), length(unique(df4$feature_id)), length(unique(df4$eqtl)))"
   ]
  },
  {
   "cell_type": "code",
   "execution_count": 95,
   "metadata": {},
   "outputs": [],
   "source": [
    "library(dplyr)"
   ]
  },
  {
   "cell_type": "code",
   "execution_count": 96,
   "metadata": {},
   "outputs": [
    {
     "data": {
      "text/html": [
       "<table>\n",
       "<thead><tr><th scope=col>eqtl</th><th scope=col>label</th><th scope=col>pval_nominal</th><th scope=col>tissue</th></tr></thead>\n",
       "<tbody>\n",
       "\t<tr><td>11_65653242_C_T-ENSG00000172500      </td><td>FPP_D11                              </td><td>4.90396e-09                          </td><td>Brain_Anterior_cingulate_cortex_BA24.</td></tr>\n",
       "\t<tr><td>11_65653242_C_T-ENSG00000172500      </td><td>FPP_D11                              </td><td>3.04547e-08                          </td><td>Brain_Cortex.                        </td></tr>\n",
       "\t<tr><td>11_65653242_C_T-ENSG00000172500      </td><td>FPP_D11                              </td><td>2.79803e-08                          </td><td>Brain_Frontal_Cortex_BA9.            </td></tr>\n",
       "\t<tr><td>11_65664346_T_C-ENSG00000172638      </td><td>FPP_D11                              </td><td>5.37625e-07                          </td><td>Brain_Cerebellar_Hemisphere.         </td></tr>\n",
       "\t<tr><td>11_65664346_T_C-ENSG00000172638      </td><td>FPP_D11                              </td><td>5.41830e-10                          </td><td>Brain_Cerebellum.                    </td></tr>\n",
       "\t<tr><td>11_65420760_C_G-ENSG00000172922      </td><td>FPP_D11                              </td><td>3.91549e-09                          </td><td>Brain_Cortex.                        </td></tr>\n",
       "</tbody>\n",
       "</table>\n"
      ],
      "text/latex": [
       "\\begin{tabular}{r|llll}\n",
       " eqtl & label & pval\\_nominal & tissue\\\\\n",
       "\\hline\n",
       "\t 11\\_65653242\\_C\\_T-ENSG00000172500         & FPP\\_D11                                     & 4.90396e-09                                   & Brain\\_Anterior\\_cingulate\\_cortex\\_BA24.\\\\\n",
       "\t 11\\_65653242\\_C\\_T-ENSG00000172500   & FPP\\_D11                               & 3.04547e-08                             & Brain\\_Cortex.                        \\\\\n",
       "\t 11\\_65653242\\_C\\_T-ENSG00000172500       & FPP\\_D11                                   & 2.79803e-08                                 & Brain\\_Frontal\\_Cortex\\_BA9.            \\\\\n",
       "\t 11\\_65664346\\_T\\_C-ENSG00000172638     & FPP\\_D11                                 & 5.37625e-07                               & Brain\\_Cerebellar\\_Hemisphere.         \\\\\n",
       "\t 11\\_65664346\\_T\\_C-ENSG00000172638   & FPP\\_D11                               & 5.41830e-10                             & Brain\\_Cerebellum.                    \\\\\n",
       "\t 11\\_65420760\\_C\\_G-ENSG00000172922   & FPP\\_D11                               & 3.91549e-09                             & Brain\\_Cortex.                        \\\\\n",
       "\\end{tabular}\n"
      ],
      "text/markdown": [
       "\n",
       "| eqtl | label | pval_nominal | tissue |\n",
       "|---|---|---|---|\n",
       "| 11_65653242_C_T-ENSG00000172500       | FPP_D11                               | 4.90396e-09                           | Brain_Anterior_cingulate_cortex_BA24. |\n",
       "| 11_65653242_C_T-ENSG00000172500       | FPP_D11                               | 3.04547e-08                           | Brain_Cortex.                         |\n",
       "| 11_65653242_C_T-ENSG00000172500       | FPP_D11                               | 2.79803e-08                           | Brain_Frontal_Cortex_BA9.             |\n",
       "| 11_65664346_T_C-ENSG00000172638       | FPP_D11                               | 5.37625e-07                           | Brain_Cerebellar_Hemisphere.          |\n",
       "| 11_65664346_T_C-ENSG00000172638       | FPP_D11                               | 5.41830e-10                           | Brain_Cerebellum.                     |\n",
       "| 11_65420760_C_G-ENSG00000172922       | FPP_D11                               | 3.91549e-09                           | Brain_Cortex.                         |\n",
       "\n"
      ],
      "text/plain": [
       "  eqtl                            label   pval_nominal\n",
       "1 11_65653242_C_T-ENSG00000172500 FPP_D11 4.90396e-09 \n",
       "2 11_65653242_C_T-ENSG00000172500 FPP_D11 3.04547e-08 \n",
       "3 11_65653242_C_T-ENSG00000172500 FPP_D11 2.79803e-08 \n",
       "4 11_65664346_T_C-ENSG00000172638 FPP_D11 5.37625e-07 \n",
       "5 11_65664346_T_C-ENSG00000172638 FPP_D11 5.41830e-10 \n",
       "6 11_65420760_C_G-ENSG00000172922 FPP_D11 3.91549e-09 \n",
       "  tissue                               \n",
       "1 Brain_Anterior_cingulate_cortex_BA24.\n",
       "2 Brain_Cortex.                        \n",
       "3 Brain_Frontal_Cortex_BA9.            \n",
       "4 Brain_Cerebellar_Hemisphere.         \n",
       "5 Brain_Cerebellum.                    \n",
       "6 Brain_Cortex.                        "
      ]
     },
     "metadata": {},
     "output_type": "display_data"
    }
   ],
   "source": [
    "# df3$eqtl = c()\n",
    "# df4$eqtl = c()\n",
    "df5 = inner_join(df3,df4, by = c(\"eqtl\"),suffix = c(\".neuro\",\".gtex\"))\n",
    "head(df5)"
   ]
  },
  {
   "cell_type": "code",
   "execution_count": 97,
   "metadata": {},
   "outputs": [
    {
     "data": {
      "text/html": [
       "15493"
      ],
      "text/latex": [
       "15493"
      ],
      "text/markdown": [
       "15493"
      ],
      "text/plain": [
       "[1] 15493"
      ]
     },
     "metadata": {},
     "output_type": "display_data"
    },
    {
     "data": {
      "text/html": [
       "24562"
      ],
      "text/latex": [
       "24562"
      ],
      "text/markdown": [
       "24562"
      ],
      "text/plain": [
       "[1] 24562"
      ]
     },
     "metadata": {},
     "output_type": "display_data"
    }
   ],
   "source": [
    "nrow(df3)\n",
    "nrow(df5)"
   ]
  },
  {
   "cell_type": "code",
   "execution_count": 101,
   "metadata": {},
   "outputs": [
    {
     "data": {
      "text/html": [
       "2400"
      ],
      "text/latex": [
       "2400"
      ],
      "text/markdown": [
       "2400"
      ],
      "text/plain": [
       "[1] 2400"
      ]
     },
     "metadata": {},
     "output_type": "display_data"
    },
    {
     "data": {
      "text/html": [
       "2400"
      ],
      "text/latex": [
       "2400"
      ],
      "text/markdown": [
       "2400"
      ],
      "text/plain": [
       "[1] 2400"
      ]
     },
     "metadata": {},
     "output_type": "display_data"
    }
   ],
   "source": [
    "length(unique(df5$eqtl))\n",
    "df6 = df5[df5$pval_nominal<0.05,]\n",
    "length(unique(df6$eqtl))"
   ]
  },
  {
   "cell_type": "code",
   "execution_count": null,
   "metadata": {},
   "outputs": [],
   "source": []
  },
  {
   "cell_type": "code",
   "execution_count": 53,
   "metadata": {},
   "outputs": [],
   "source": [
    "df5$dist = abs(df5$snp_position.neuro-df5$snp_position.gtex)"
   ]
  },
  {
   "cell_type": "code",
   "execution_count": 54,
   "metadata": {},
   "outputs": [
    {
     "data": {
      "text/html": [
       "49545"
      ],
      "text/latex": [
       "49545"
      ],
      "text/markdown": [
       "49545"
      ],
      "text/plain": [
       "[1] 49545"
      ]
     },
     "metadata": {},
     "output_type": "display_data"
    },
    {
     "data": {
      "text/html": [
       "3627"
      ],
      "text/latex": [
       "3627"
      ],
      "text/markdown": [
       "3627"
      ],
      "text/plain": [
       "[1] 3627"
      ]
     },
     "metadata": {},
     "output_type": "display_data"
    }
   ],
   "source": [
    "nrow(df5)\n",
    "length(unique(df5[df5$dist > 100000,\"eqtl.neuro\"]))"
   ]
  },
  {
   "cell_type": "code",
   "execution_count": null,
   "metadata": {},
   "outputs": [],
   "source": []
  },
  {
   "cell_type": "code",
   "execution_count": null,
   "metadata": {},
   "outputs": [],
   "source": []
  },
  {
   "cell_type": "code",
   "execution_count": 42,
   "metadata": {},
   "outputs": [],
   "source": [
    "# df0 = gtex\n",
    "df0$snp_id = gsub(\"_b37\",\"\",df0$variant_id)"
   ]
  },
  {
   "cell_type": "code",
   "execution_count": 43,
   "metadata": {},
   "outputs": [
    {
     "data": {
      "text/html": [
       "<table>\n",
       "<thead><tr><th></th><th scope=col>variant_id</th><th scope=col>gene_id</th><th scope=col>tss_distance</th><th scope=col>ma_samples</th><th scope=col>ma_count</th><th scope=col>maf</th><th scope=col>pval_nominal</th><th scope=col>slope</th><th scope=col>slope_se</th><th scope=col>pval_nominal_threshold</th><th scope=col>min_pval_nominal</th><th scope=col>pval_beta</th><th scope=col>tissue</th><th scope=col>snp_id</th><th scope=col>feature_id</th></tr></thead>\n",
       "<tbody>\n",
       "\t<tr><th scope=row>4519249</th><td>X_154943431_GA_G_b37   </td><td>ENSG00000185973.6      </td><td>43826                  </td><td>34                     </td><td>35                     </td><td>0.221519               </td><td>8.38044e-06            </td><td>0.790552               </td><td>0.161695               </td><td>1.97309e-05            </td><td>2.31291e-08            </td><td>1.87966e-05            </td><td>Brain_Substantia_nigra.</td><td>X_154943431_GA_G       </td><td>ENSG00000185973        </td></tr>\n",
       "\t<tr><th scope=row>4519250</th><td>X_154946000_C_T_b37    </td><td>ENSG00000185973.6      </td><td>46395                  </td><td>62                     </td><td>72                     </td><td>0.450000               </td><td>3.74818e-06            </td><td>0.761406               </td><td>0.148962               </td><td>1.97309e-05            </td><td>2.31291e-08            </td><td>1.87966e-05            </td><td>Brain_Substantia_nigra.</td><td>X_154946000_C_T        </td><td>ENSG00000185973        </td></tr>\n",
       "\t<tr><th scope=row>4519251</th><td>X_154947398_C_T_b37    </td><td>ENSG00000185973.6      </td><td>47793                  </td><td>34                     </td><td>35                     </td><td>0.218750               </td><td>7.82404e-06            </td><td>0.775772               </td><td>0.158055               </td><td>1.97309e-05            </td><td>2.31291e-08            </td><td>1.87966e-05            </td><td>Brain_Substantia_nigra.</td><td>X_154947398_C_T        </td><td>ENSG00000185973        </td></tr>\n",
       "\t<tr><th scope=row>4519252</th><td>X_154947855_GC_G_b37   </td><td>ENSG00000185973.6      </td><td>48250                  </td><td>34                     </td><td>35                     </td><td>0.218750               </td><td>7.82404e-06            </td><td>0.775772               </td><td>0.158055               </td><td>1.97309e-05            </td><td>2.31291e-08            </td><td>1.87966e-05            </td><td>Brain_Substantia_nigra.</td><td>X_154947855_GC_G       </td><td>ENSG00000185973        </td></tr>\n",
       "\t<tr><th scope=row>4519253</th><td>X_154949953_C_G_b37    </td><td>ENSG00000185973.6      </td><td>50348                  </td><td>34                     </td><td>35                     </td><td>0.218750               </td><td>7.82404e-06            </td><td>0.775772               </td><td>0.158055               </td><td>1.97309e-05            </td><td>2.31291e-08            </td><td>1.87966e-05            </td><td>Brain_Substantia_nigra.</td><td>X_154949953_C_G        </td><td>ENSG00000185973        </td></tr>\n",
       "\t<tr><th scope=row>4519254</th><td>X_154950112_G_A_b37    </td><td>ENSG00000185973.6      </td><td>50507                  </td><td>62                     </td><td>72                     </td><td>0.450000               </td><td>3.74818e-06            </td><td>0.761406               </td><td>0.148962               </td><td>1.97309e-05            </td><td>2.31291e-08            </td><td>1.87966e-05            </td><td>Brain_Substantia_nigra.</td><td>X_154950112_G_A        </td><td>ENSG00000185973        </td></tr>\n",
       "</tbody>\n",
       "</table>\n"
      ],
      "text/latex": [
       "\\begin{tabular}{r|lllllllllllllll}\n",
       "  & variant\\_id & gene\\_id & tss\\_distance & ma\\_samples & ma\\_count & maf & pval\\_nominal & slope & slope\\_se & pval\\_nominal\\_threshold & min\\_pval\\_nominal & pval\\_beta & tissue & snp\\_id & feature\\_id\\\\\n",
       "\\hline\n",
       "\t4519249 & X\\_154943431\\_GA\\_G\\_b37 & ENSG00000185973.6            & 43826                        & 34                           & 35                           & 0.221519                     & 8.38044e-06                  & 0.790552                     & 0.161695                     & 1.97309e-05                  & 2.31291e-08                  & 1.87966e-05                  & Brain\\_Substantia\\_nigra.  & X\\_154943431\\_GA\\_G       & ENSG00000185973             \\\\\n",
       "\t4519250 & X\\_154946000\\_C\\_T\\_b37  & ENSG00000185973.6            & 46395                        & 62                           & 72                           & 0.450000                     & 3.74818e-06                  & 0.761406                     & 0.148962                     & 1.97309e-05                  & 2.31291e-08                  & 1.87966e-05                  & Brain\\_Substantia\\_nigra.  & X\\_154946000\\_C\\_T        & ENSG00000185973             \\\\\n",
       "\t4519251 & X\\_154947398\\_C\\_T\\_b37  & ENSG00000185973.6            & 47793                        & 34                           & 35                           & 0.218750                     & 7.82404e-06                  & 0.775772                     & 0.158055                     & 1.97309e-05                  & 2.31291e-08                  & 1.87966e-05                  & Brain\\_Substantia\\_nigra.  & X\\_154947398\\_C\\_T        & ENSG00000185973             \\\\\n",
       "\t4519252 & X\\_154947855\\_GC\\_G\\_b37 & ENSG00000185973.6            & 48250                        & 34                           & 35                           & 0.218750                     & 7.82404e-06                  & 0.775772                     & 0.158055                     & 1.97309e-05                  & 2.31291e-08                  & 1.87966e-05                  & Brain\\_Substantia\\_nigra.  & X\\_154947855\\_GC\\_G       & ENSG00000185973             \\\\\n",
       "\t4519253 & X\\_154949953\\_C\\_G\\_b37  & ENSG00000185973.6            & 50348                        & 34                           & 35                           & 0.218750                     & 7.82404e-06                  & 0.775772                     & 0.158055                     & 1.97309e-05                  & 2.31291e-08                  & 1.87966e-05                  & Brain\\_Substantia\\_nigra.  & X\\_154949953\\_C\\_G        & ENSG00000185973             \\\\\n",
       "\t4519254 & X\\_154950112\\_G\\_A\\_b37  & ENSG00000185973.6            & 50507                        & 62                           & 72                           & 0.450000                     & 3.74818e-06                  & 0.761406                     & 0.148962                     & 1.97309e-05                  & 2.31291e-08                  & 1.87966e-05                  & Brain\\_Substantia\\_nigra.  & X\\_154950112\\_G\\_A        & ENSG00000185973             \\\\\n",
       "\\end{tabular}\n"
      ],
      "text/markdown": [
       "\n",
       "| <!--/--> | variant_id | gene_id | tss_distance | ma_samples | ma_count | maf | pval_nominal | slope | slope_se | pval_nominal_threshold | min_pval_nominal | pval_beta | tissue | snp_id | feature_id |\n",
       "|---|---|---|---|---|---|---|---|---|---|---|---|---|---|---|---|\n",
       "| 4519249 | X_154943431_GA_G_b37    | ENSG00000185973.6       | 43826                   | 34                      | 35                      | 0.221519                | 8.38044e-06             | 0.790552                | 0.161695                | 1.97309e-05             | 2.31291e-08             | 1.87966e-05             | Brain_Substantia_nigra. | X_154943431_GA_G        | ENSG00000185973         |\n",
       "| 4519250 | X_154946000_C_T_b37     | ENSG00000185973.6       | 46395                   | 62                      | 72                      | 0.450000                | 3.74818e-06             | 0.761406                | 0.148962                | 1.97309e-05             | 2.31291e-08             | 1.87966e-05             | Brain_Substantia_nigra. | X_154946000_C_T         | ENSG00000185973         |\n",
       "| 4519251 | X_154947398_C_T_b37     | ENSG00000185973.6       | 47793                   | 34                      | 35                      | 0.218750                | 7.82404e-06             | 0.775772                | 0.158055                | 1.97309e-05             | 2.31291e-08             | 1.87966e-05             | Brain_Substantia_nigra. | X_154947398_C_T         | ENSG00000185973         |\n",
       "| 4519252 | X_154947855_GC_G_b37    | ENSG00000185973.6       | 48250                   | 34                      | 35                      | 0.218750                | 7.82404e-06             | 0.775772                | 0.158055                | 1.97309e-05             | 2.31291e-08             | 1.87966e-05             | Brain_Substantia_nigra. | X_154947855_GC_G        | ENSG00000185973         |\n",
       "| 4519253 | X_154949953_C_G_b37     | ENSG00000185973.6       | 50348                   | 34                      | 35                      | 0.218750                | 7.82404e-06             | 0.775772                | 0.158055                | 1.97309e-05             | 2.31291e-08             | 1.87966e-05             | Brain_Substantia_nigra. | X_154949953_C_G         | ENSG00000185973         |\n",
       "| 4519254 | X_154950112_G_A_b37     | ENSG00000185973.6       | 50507                   | 62                      | 72                      | 0.450000                | 3.74818e-06             | 0.761406                | 0.148962                | 1.97309e-05             | 2.31291e-08             | 1.87966e-05             | Brain_Substantia_nigra. | X_154950112_G_A         | ENSG00000185973         |\n",
       "\n"
      ],
      "text/plain": [
       "        variant_id           gene_id           tss_distance ma_samples ma_count\n",
       "4519249 X_154943431_GA_G_b37 ENSG00000185973.6 43826        34         35      \n",
       "4519250 X_154946000_C_T_b37  ENSG00000185973.6 46395        62         72      \n",
       "4519251 X_154947398_C_T_b37  ENSG00000185973.6 47793        34         35      \n",
       "4519252 X_154947855_GC_G_b37 ENSG00000185973.6 48250        34         35      \n",
       "4519253 X_154949953_C_G_b37  ENSG00000185973.6 50348        34         35      \n",
       "4519254 X_154950112_G_A_b37  ENSG00000185973.6 50507        62         72      \n",
       "        maf      pval_nominal slope    slope_se pval_nominal_threshold\n",
       "4519249 0.221519 8.38044e-06  0.790552 0.161695 1.97309e-05           \n",
       "4519250 0.450000 3.74818e-06  0.761406 0.148962 1.97309e-05           \n",
       "4519251 0.218750 7.82404e-06  0.775772 0.158055 1.97309e-05           \n",
       "4519252 0.218750 7.82404e-06  0.775772 0.158055 1.97309e-05           \n",
       "4519253 0.218750 7.82404e-06  0.775772 0.158055 1.97309e-05           \n",
       "4519254 0.450000 3.74818e-06  0.761406 0.148962 1.97309e-05           \n",
       "        min_pval_nominal pval_beta   tissue                  snp_id          \n",
       "4519249 2.31291e-08      1.87966e-05 Brain_Substantia_nigra. X_154943431_GA_G\n",
       "4519250 2.31291e-08      1.87966e-05 Brain_Substantia_nigra. X_154946000_C_T \n",
       "4519251 2.31291e-08      1.87966e-05 Brain_Substantia_nigra. X_154947398_C_T \n",
       "4519252 2.31291e-08      1.87966e-05 Brain_Substantia_nigra. X_154947855_GC_G\n",
       "4519253 2.31291e-08      1.87966e-05 Brain_Substantia_nigra. X_154949953_C_G \n",
       "4519254 2.31291e-08      1.87966e-05 Brain_Substantia_nigra. X_154950112_G_A \n",
       "        feature_id     \n",
       "4519249 ENSG00000185973\n",
       "4519250 ENSG00000185973\n",
       "4519251 ENSG00000185973\n",
       "4519252 ENSG00000185973\n",
       "4519253 ENSG00000185973\n",
       "4519254 ENSG00000185973"
      ]
     },
     "metadata": {},
     "output_type": "display_data"
    }
   ],
   "source": [
    "# df0$feature_id = gsub(\"\\\\.[0-9]\",\"\",df0$gene_id)\n",
    "tail(df0)"
   ]
  },
  {
   "cell_type": "code",
   "execution_count": 44,
   "metadata": {},
   "outputs": [
    {
     "data": {
      "text/html": [
       "<table>\n",
       "<thead><tr><th scope=col>snp_id</th><th scope=col>p_value</th><th scope=col>beta</th><th scope=col>beta_se</th><th scope=col>empirical_feature_p_value</th><th scope=col>feature_chromosome</th><th scope=col>feature_start</th><th scope=col>feature_end</th><th scope=col>n_samples</th><th scope=col>n_e_samples</th><th scope=col>...</th><th scope=col>snp_chromosome</th><th scope=col>snp_position</th><th scope=col>assessed_allele</th><th scope=col>call_rate</th><th scope=col>maf</th><th scope=col>hwe_p</th><th scope=col>feature_id</th><th scope=col>global_corr_p_value</th><th scope=col>label</th><th scope=col>eqtl</th></tr></thead>\n",
       "<tbody>\n",
       "\t<tr><td>21_30373541_T_C                </td><td>2.920966e-25                   </td><td>-0.8525780                     </td><td>0.08210206                     </td><td>1.632719e-14                   </td><td>21                             </td><td>30376705                       </td><td>30391699                       </td><td>173                            </td><td>173                            </td><td>...                            </td><td>21                             </td><td>30373541                       </td><td>C                              </td><td>1                              </td><td>0.2398844                      </td><td>0.09609073                     </td><td>ENSG00000156253                </td><td>1.400559e-12                   </td><td>FPP_D11                        </td><td>21_30373541_T_C-ENSG00000156253</td></tr>\n",
       "\t<tr><td>21_30432557_G_A                </td><td>1.495486e-48                   </td><td> 0.5058675                     </td><td>0.03454695                     </td><td>1.169470e-31                   </td><td>21                             </td><td>30428126                       </td><td>30446118                       </td><td>173                            </td><td>173                            </td><td>...                            </td><td>21                             </td><td>30432557                       </td><td>A                              </td><td>1                              </td><td>0.1358382                      </td><td>1.00000000                     </td><td>ENSG00000156261                </td><td>1.059433e-28                   </td><td>FPP_D11                        </td><td>21_30432557_G_A-ENSG00000156261</td></tr>\n",
       "</tbody>\n",
       "</table>\n"
      ],
      "text/latex": [
       "\\begin{tabular}{r|llllllllllllllllllllll}\n",
       " snp\\_id & p\\_value & beta & beta\\_se & empirical\\_feature\\_p\\_value & feature\\_chromosome & feature\\_start & feature\\_end & n\\_samples & n\\_e\\_samples & ... & snp\\_chromosome & snp\\_position & assessed\\_allele & call\\_rate & maf & hwe\\_p & feature\\_id & global\\_corr\\_p\\_value & label & eqtl\\\\\n",
       "\\hline\n",
       "\t 21\\_30373541\\_T\\_C                 & 2.920966e-25                          & -0.8525780                            & 0.08210206                            & 1.632719e-14                          & 21                                    & 30376705                              & 30391699                              & 173                                   & 173                                   & ...                                   & 21                                    & 30373541                              & C                                     & 1                                     & 0.2398844                             & 0.09609073                            & ENSG00000156253                       & 1.400559e-12                          & FPP\\_D11                             & 21\\_30373541\\_T\\_C-ENSG00000156253\\\\\n",
       "\t 21\\_30432557\\_G\\_A                 & 1.495486e-48                          &  0.5058675                            & 0.03454695                            & 1.169470e-31                          & 21                                    & 30428126                              & 30446118                              & 173                                   & 173                                   & ...                                   & 21                                    & 30432557                              & A                                     & 1                                     & 0.1358382                             & 1.00000000                            & ENSG00000156261                       & 1.059433e-28                          & FPP\\_D11                             & 21\\_30432557\\_G\\_A-ENSG00000156261\\\\\n",
       "\\end{tabular}\n"
      ],
      "text/markdown": [
       "\n",
       "| snp_id | p_value | beta | beta_se | empirical_feature_p_value | feature_chromosome | feature_start | feature_end | n_samples | n_e_samples | ... | snp_chromosome | snp_position | assessed_allele | call_rate | maf | hwe_p | feature_id | global_corr_p_value | label | eqtl |\n",
       "|---|---|---|---|---|---|---|---|---|---|---|---|---|---|---|---|---|---|---|---|---|\n",
       "| 21_30373541_T_C                 | 2.920966e-25                    | -0.8525780                      | 0.08210206                      | 1.632719e-14                    | 21                              | 30376705                        | 30391699                        | 173                             | 173                             | ...                             | 21                              | 30373541                        | C                               | 1                               | 0.2398844                       | 0.09609073                      | ENSG00000156253                 | 1.400559e-12                    | FPP_D11                         | 21_30373541_T_C-ENSG00000156253 |\n",
       "| 21_30432557_G_A                 | 1.495486e-48                    |  0.5058675                      | 0.03454695                      | 1.169470e-31                    | 21                              | 30428126                        | 30446118                        | 173                             | 173                             | ...                             | 21                              | 30432557                        | A                               | 1                               | 0.1358382                       | 1.00000000                      | ENSG00000156261                 | 1.059433e-28                    | FPP_D11                         | 21_30432557_G_A-ENSG00000156261 |\n",
       "\n"
      ],
      "text/plain": [
       "  snp_id          p_value      beta       beta_se    empirical_feature_p_value\n",
       "1 21_30373541_T_C 2.920966e-25 -0.8525780 0.08210206 1.632719e-14             \n",
       "2 21_30432557_G_A 1.495486e-48  0.5058675 0.03454695 1.169470e-31             \n",
       "  feature_chromosome feature_start feature_end n_samples n_e_samples ...\n",
       "1 21                 30376705      30391699    173       173         ...\n",
       "2 21                 30428126      30446118    173       173         ...\n",
       "  snp_chromosome snp_position assessed_allele call_rate maf       hwe_p     \n",
       "1 21             30373541     C               1         0.2398844 0.09609073\n",
       "2 21             30432557     A               1         0.1358382 1.00000000\n",
       "  feature_id      global_corr_p_value label   eqtl                           \n",
       "1 ENSG00000156253 1.400559e-12        FPP_D11 21_30373541_T_C-ENSG00000156253\n",
       "2 ENSG00000156261 1.059433e-28        FPP_D11 21_30432557_G_A-ENSG00000156261"
      ]
     },
     "metadata": {},
     "output_type": "display_data"
    },
    {
     "data": {
      "text/html": [
       "<table>\n",
       "<thead><tr><th scope=col>variant_id</th><th scope=col>gene_id</th><th scope=col>tss_distance</th><th scope=col>ma_samples</th><th scope=col>ma_count</th><th scope=col>maf</th><th scope=col>pval_nominal</th><th scope=col>slope</th><th scope=col>slope_se</th><th scope=col>pval_nominal_threshold</th><th scope=col>min_pval_nominal</th><th scope=col>pval_beta</th><th scope=col>tissue</th><th scope=col>snp_id</th><th scope=col>feature_id</th></tr></thead>\n",
       "<tbody>\n",
       "\t<tr><td>1_780782_A_G_b37 </td><td>ENSG00000225972.1</td><td>216340           </td><td>2                </td><td>2                </td><td>0.0113636        </td><td>1.25628e-06      </td><td>2.7816           </td><td>0.521409         </td><td>1.05226e-05      </td><td>1.25628e-06      </td><td>0.00141162       </td><td>Brain_Amygdala.  </td><td>1_780782_A_G     </td><td>ENSG00000225972  </td></tr>\n",
       "\t<tr><td>1_920649_G_A_b37 </td><td>ENSG00000225972.1</td><td>356207           </td><td>2                </td><td>2                </td><td>0.0113636        </td><td>1.25628e-06      </td><td>2.7816           </td><td>0.521409         </td><td>1.05226e-05      </td><td>1.25628e-06      </td><td>0.00141162       </td><td>Brain_Amygdala.  </td><td>1_920649_G_A     </td><td>ENSG00000225972  </td></tr>\n",
       "</tbody>\n",
       "</table>\n"
      ],
      "text/latex": [
       "\\begin{tabular}{r|lllllllllllllll}\n",
       " variant\\_id & gene\\_id & tss\\_distance & ma\\_samples & ma\\_count & maf & pval\\_nominal & slope & slope\\_se & pval\\_nominal\\_threshold & min\\_pval\\_nominal & pval\\_beta & tissue & snp\\_id & feature\\_id\\\\\n",
       "\\hline\n",
       "\t 1\\_780782\\_A\\_G\\_b37 & ENSG00000225972.1        & 216340                   & 2                        & 2                        & 0.0113636                & 1.25628e-06              & 2.7816                   & 0.521409                 & 1.05226e-05              & 1.25628e-06              & 0.00141162               & Brain\\_Amygdala.        & 1\\_780782\\_A\\_G       & ENSG00000225972         \\\\\n",
       "\t 1\\_920649\\_G\\_A\\_b37 & ENSG00000225972.1        & 356207                   & 2                        & 2                        & 0.0113636                & 1.25628e-06              & 2.7816                   & 0.521409                 & 1.05226e-05              & 1.25628e-06              & 0.00141162               & Brain\\_Amygdala.        & 1\\_920649\\_G\\_A       & ENSG00000225972         \\\\\n",
       "\\end{tabular}\n"
      ],
      "text/markdown": [
       "\n",
       "| variant_id | gene_id | tss_distance | ma_samples | ma_count | maf | pval_nominal | slope | slope_se | pval_nominal_threshold | min_pval_nominal | pval_beta | tissue | snp_id | feature_id |\n",
       "|---|---|---|---|---|---|---|---|---|---|---|---|---|---|---|\n",
       "| 1_780782_A_G_b37  | ENSG00000225972.1 | 216340            | 2                 | 2                 | 0.0113636         | 1.25628e-06       | 2.7816            | 0.521409          | 1.05226e-05       | 1.25628e-06       | 0.00141162        | Brain_Amygdala.   | 1_780782_A_G      | ENSG00000225972   |\n",
       "| 1_920649_G_A_b37  | ENSG00000225972.1 | 356207            | 2                 | 2                 | 0.0113636         | 1.25628e-06       | 2.7816            | 0.521409          | 1.05226e-05       | 1.25628e-06       | 0.00141162        | Brain_Amygdala.   | 1_920649_G_A      | ENSG00000225972   |\n",
       "\n"
      ],
      "text/plain": [
       "  variant_id       gene_id           tss_distance ma_samples ma_count maf      \n",
       "1 1_780782_A_G_b37 ENSG00000225972.1 216340       2          2        0.0113636\n",
       "2 1_920649_G_A_b37 ENSG00000225972.1 356207       2          2        0.0113636\n",
       "  pval_nominal slope  slope_se pval_nominal_threshold min_pval_nominal\n",
       "1 1.25628e-06  2.7816 0.521409 1.05226e-05            1.25628e-06     \n",
       "2 1.25628e-06  2.7816 0.521409 1.05226e-05            1.25628e-06     \n",
       "  pval_beta  tissue          snp_id       feature_id     \n",
       "1 0.00141162 Brain_Amygdala. 1_780782_A_G ENSG00000225972\n",
       "2 0.00141162 Brain_Amygdala. 1_920649_G_A ENSG00000225972"
      ]
     },
     "metadata": {},
     "output_type": "display_data"
    }
   ],
   "source": [
    "head(leads,2)\n",
    "head(df0,2)"
   ]
  },
  {
   "cell_type": "code",
   "execution_count": null,
   "metadata": {},
   "outputs": [],
   "source": [
    "df0 = df0[df0$]"
   ]
  },
  {
   "cell_type": "code",
   "execution_count": 45,
   "metadata": {},
   "outputs": [
    {
     "data": {
      "text/html": [
       "1431702"
      ],
      "text/latex": [
       "1431702"
      ],
      "text/markdown": [
       "1431702"
      ],
      "text/plain": [
       "[1] 1431702"
      ]
     },
     "metadata": {},
     "output_type": "display_data"
    }
   ],
   "source": [
    "df0$eqtl = paste0(df0$snp_id,\"-\",df0$feature_id)\n",
    "length(unique(df0$eqtl))\n",
    "eqtl1 = unique(df0$eqtl)"
   ]
  },
  {
   "cell_type": "code",
   "execution_count": 46,
   "metadata": {},
   "outputs": [
    {
     "data": {
      "text/html": [
       "1697"
      ],
      "text/latex": [
       "1697"
      ],
      "text/markdown": [
       "1697"
      ],
      "text/plain": [
       "[1] 1697"
      ]
     },
     "metadata": {},
     "output_type": "display_data"
    }
   ],
   "source": [
    "sum(eqtl0 %in% eqtl1)"
   ]
  },
  {
   "cell_type": "code",
   "execution_count": null,
   "metadata": {},
   "outputs": [],
   "source": []
  },
  {
   "cell_type": "code",
   "execution_count": null,
   "metadata": {},
   "outputs": [],
   "source": []
  },
  {
   "cell_type": "code",
   "execution_count": null,
   "metadata": {},
   "outputs": [],
   "source": []
  },
  {
   "cell_type": "code",
   "execution_count": 46,
   "metadata": {},
   "outputs": [],
   "source": [
    "celltypes = unique(leads$new_label)\n",
    "mat = matrix(0,nrow = length(brain_tissues),ncol = length(celltypes))"
   ]
  },
  {
   "cell_type": "code",
   "execution_count": 54,
   "metadata": {},
   "outputs": [
    {
     "data": {
      "text/html": [
       "<ol class=list-inline>\n",
       "\t<li>FPP_D11</li>\n",
       "\t<li>P_FPP_D11</li>\n",
       "\t<li>DA_D30</li>\n",
       "\t<li>Sert_D30</li>\n",
       "\t<li>Epen1_D30</li>\n",
       "\t<li>FPP_D30</li>\n",
       "\t<li>DA_D52</li>\n",
       "\t<li>Sert_D52</li>\n",
       "\t<li>Epen1_D52</li>\n",
       "\t<li>Astro_D52</li>\n",
       "\t<li>DA_ROT_D52</li>\n",
       "\t<li>Sert_ROT_D52</li>\n",
       "\t<li>Epen1_ROT_D52</li>\n",
       "\t<li>Astro_ROT_D52</li>\n",
       "</ol>\n",
       "\n",
       "<details>\n",
       "\t<summary style=display:list-item;cursor:pointer>\n",
       "\t\t<strong>Levels</strong>:\n",
       "\t</summary>\n",
       "\t<ol class=list-inline>\n",
       "\t\t<li>'Astro_D52'</li>\n",
       "\t\t<li>'Astro_ROT_D52'</li>\n",
       "\t\t<li>'DA_D30'</li>\n",
       "\t\t<li>'DA_D52'</li>\n",
       "\t\t<li>'DA_ROT_D52'</li>\n",
       "\t\t<li>'Epen1_D30'</li>\n",
       "\t\t<li>'Epen1_D52'</li>\n",
       "\t\t<li>'Epen1_ROT_D52'</li>\n",
       "\t\t<li>'FPP_D11'</li>\n",
       "\t\t<li>'FPP_D30'</li>\n",
       "\t\t<li>'P_FPP_D11'</li>\n",
       "\t\t<li>'Sert_D30'</li>\n",
       "\t\t<li>'Sert_D52'</li>\n",
       "\t\t<li>'Sert_ROT_D52'</li>\n",
       "\t</ol>\n",
       "</details>"
      ],
      "text/latex": [
       "\\begin{enumerate*}\n",
       "\\item FPP\\_D11\n",
       "\\item P\\_FPP\\_D11\n",
       "\\item DA\\_D30\n",
       "\\item Sert\\_D30\n",
       "\\item Epen1\\_D30\n",
       "\\item FPP\\_D30\n",
       "\\item DA\\_D52\n",
       "\\item Sert\\_D52\n",
       "\\item Epen1\\_D52\n",
       "\\item Astro\\_D52\n",
       "\\item DA\\_ROT\\_D52\n",
       "\\item Sert\\_ROT\\_D52\n",
       "\\item Epen1\\_ROT\\_D52\n",
       "\\item Astro\\_ROT\\_D52\n",
       "\\end{enumerate*}\n",
       "\n",
       "\\emph{Levels}: \\begin{enumerate*}\n",
       "\\item 'Astro\\_D52'\n",
       "\\item 'Astro\\_ROT\\_D52'\n",
       "\\item 'DA\\_D30'\n",
       "\\item 'DA\\_D52'\n",
       "\\item 'DA\\_ROT\\_D52'\n",
       "\\item 'Epen1\\_D30'\n",
       "\\item 'Epen1\\_D52'\n",
       "\\item 'Epen1\\_ROT\\_D52'\n",
       "\\item 'FPP\\_D11'\n",
       "\\item 'FPP\\_D30'\n",
       "\\item 'P\\_FPP\\_D11'\n",
       "\\item 'Sert\\_D30'\n",
       "\\item 'Sert\\_D52'\n",
       "\\item 'Sert\\_ROT\\_D52'\n",
       "\\end{enumerate*}\n"
      ],
      "text/markdown": [
       "1. FPP_D11\n",
       "2. P_FPP_D11\n",
       "3. DA_D30\n",
       "4. Sert_D30\n",
       "5. Epen1_D30\n",
       "6. FPP_D30\n",
       "7. DA_D52\n",
       "8. Sert_D52\n",
       "9. Epen1_D52\n",
       "10. Astro_D52\n",
       "11. DA_ROT_D52\n",
       "12. Sert_ROT_D52\n",
       "13. Epen1_ROT_D52\n",
       "14. Astro_ROT_D52\n",
       "\n",
       "\n",
       "\n",
       "**Levels**: 1. 'Astro_D52'\n",
       "2. 'Astro_ROT_D52'\n",
       "3. 'DA_D30'\n",
       "4. 'DA_D52'\n",
       "5. 'DA_ROT_D52'\n",
       "6. 'Epen1_D30'\n",
       "7. 'Epen1_D52'\n",
       "8. 'Epen1_ROT_D52'\n",
       "9. 'FPP_D11'\n",
       "10. 'FPP_D30'\n",
       "11. 'P_FPP_D11'\n",
       "12. 'Sert_D30'\n",
       "13. 'Sert_D52'\n",
       "14. 'Sert_ROT_D52'\n",
       "\n",
       "\n"
      ],
      "text/plain": [
       " [1] FPP_D11       P_FPP_D11     DA_D30        Sert_D30      Epen1_D30    \n",
       " [6] FPP_D30       DA_D52        Sert_D52      Epen1_D52     Astro_D52    \n",
       "[11] DA_ROT_D52    Sert_ROT_D52  Epen1_ROT_D52 Astro_ROT_D52\n",
       "14 Levels: Astro_D52 Astro_ROT_D52 DA_D30 DA_D52 DA_ROT_D52 ... Sert_ROT_D52"
      ]
     },
     "metadata": {},
     "output_type": "display_data"
    }
   ],
   "source": [
    "celltypes"
   ]
  },
  {
   "cell_type": "code",
   "execution_count": null,
   "metadata": {},
   "outputs": [],
   "source": []
  },
  {
   "cell_type": "code",
   "execution_count": 49,
   "metadata": {},
   "outputs": [],
   "source": [
    "# library(dplyr)"
   ]
  },
  {
   "cell_type": "code",
   "execution_count": 52,
   "metadata": {},
   "outputs": [
    {
     "name": "stderr",
     "output_type": "stream",
     "text": [
      "Warning message:\n",
      "“Column `snp_id` joining factors with different levels, coercing to character vector”Warning message:\n",
      "“Column `feature_id` joining factors with different levels, coercing to character vector”Warning message:\n",
      "“Column `snp_id` joining factors with different levels, coercing to character vector”Warning message:\n",
      "“Column `feature_id` joining factors with different levels, coercing to character vector”Warning message:\n",
      "“Column `snp_id` joining factors with different levels, coercing to character vector”Warning message:\n",
      "“Column `feature_id` joining factors with different levels, coercing to character vector”Warning message:\n",
      "“Column `snp_id` joining factors with different levels, coercing to character vector”Warning message:\n",
      "“Column `feature_id` joining factors with different levels, coercing to character vector”Warning message:\n",
      "“Column `snp_id` joining factors with different levels, coercing to character vector”Warning message:\n",
      "“Column `feature_id` joining factors with different levels, coercing to character vector”Warning message:\n",
      "“Column `snp_id` joining factors with different levels, coercing to character vector”Warning message:\n",
      "“Column `feature_id` joining factors with different levels, coercing to character vector”Warning message:\n",
      "“Column `snp_id` joining factors with different levels, coercing to character vector”Warning message:\n",
      "“Column `feature_id` joining factors with different levels, coercing to character vector”Warning message:\n",
      "“Column `snp_id` joining factors with different levels, coercing to character vector”Warning message:\n",
      "“Column `feature_id` joining factors with different levels, coercing to character vector”Warning message:\n",
      "“Column `snp_id` joining factors with different levels, coercing to character vector”Warning message:\n",
      "“Column `feature_id` joining factors with different levels, coercing to character vector”Warning message:\n",
      "“Column `snp_id` joining factors with different levels, coercing to character vector”Warning message:\n",
      "“Column `feature_id` joining factors with different levels, coercing to character vector”Warning message:\n",
      "“Column `snp_id` joining factors with different levels, coercing to character vector”Warning message:\n",
      "“Column `feature_id` joining factors with different levels, coercing to character vector”Warning message:\n",
      "“Column `snp_id` joining factors with different levels, coercing to character vector”Warning message:\n",
      "“Column `feature_id` joining factors with different levels, coercing to character vector”Warning message:\n",
      "“Column `snp_id` joining factors with different levels, coercing to character vector”Warning message:\n",
      "“Column `feature_id` joining factors with different levels, coercing to character vector”Warning message:\n",
      "“Column `snp_id` joining factors with different levels, coercing to character vector”Warning message:\n",
      "“Column `feature_id` joining factors with different levels, coercing to character vector”Warning message:\n",
      "“Column `snp_id` joining factors with different levels, coercing to character vector”Warning message:\n",
      "“Column `feature_id` joining factors with different levels, coercing to character vector”Warning message:\n",
      "“Column `snp_id` joining factors with different levels, coercing to character vector”Warning message:\n",
      "“Column `feature_id` joining factors with different levels, coercing to character vector”Warning message:\n",
      "“Column `snp_id` joining factors with different levels, coercing to character vector”Warning message:\n",
      "“Column `feature_id` joining factors with different levels, coercing to character vector”Warning message:\n",
      "“Column `snp_id` joining factors with different levels, coercing to character vector”Warning message:\n",
      "“Column `feature_id` joining factors with different levels, coercing to character vector”Warning message:\n",
      "“Column `snp_id` joining factors with different levels, coercing to character vector”Warning message:\n",
      "“Column `feature_id` joining factors with different levels, coercing to character vector”Warning message:\n",
      "“Column `snp_id` joining factors with different levels, coercing to character vector”Warning message:\n",
      "“Column `feature_id` joining factors with different levels, coercing to character vector”Warning message:\n",
      "“Column `snp_id` joining factors with different levels, coercing to character vector”Warning message:\n",
      "“Column `feature_id` joining factors with different levels, coercing to character vector”Warning message:\n",
      "“Column `snp_id` joining factors with different levels, coercing to character vector”Warning message:\n",
      "“Column `feature_id` joining factors with different levels, coercing to character vector”Warning message:\n",
      "“Column `snp_id` joining factors with different levels, coercing to character vector”Warning message:\n",
      "“Column `feature_id` joining factors with different levels, coercing to character vector”Warning message:\n",
      "“Column `snp_id` joining factors with different levels, coercing to character vector”Warning message:\n",
      "“Column `feature_id` joining factors with different levels, coercing to character vector”Warning message:\n",
      "“Column `snp_id` joining factors with different levels, coercing to character vector”Warning message:\n",
      "“Column `feature_id` joining factors with different levels, coercing to character vector”Warning message:\n",
      "“Column `snp_id` joining factors with different levels, coercing to character vector”Warning message:\n",
      "“Column `feature_id` joining factors with different levels, coercing to character vector”Warning message:\n",
      "“Column `snp_id` joining factors with different levels, coercing to character vector”Warning message:\n",
      "“Column `feature_id` joining factors with different levels, coercing to character vector”Warning message:\n",
      "“Column `snp_id` joining factors with different levels, coercing to character vector”Warning message:\n",
      "“Column `feature_id` joining factors with different levels, coercing to character vector”Warning message:\n",
      "“Column `snp_id` joining factors with different levels, coercing to character vector”Warning message:\n",
      "“Column `feature_id` joining factors with different levels, coercing to character vector”Warning message:\n",
      "“Column `snp_id` joining factors with different levels, coercing to character vector”Warning message:\n",
      "“Column `feature_id` joining factors with different levels, coercing to character vector”Warning message:\n",
      "“Column `snp_id` joining factors with different levels, coercing to character vector”Warning message:\n",
      "“Column `feature_id` joining factors with different levels, coercing to character vector”Warning message:\n",
      "“Column `snp_id` joining factors with different levels, coercing to character vector”Warning message:\n",
      "“Column `feature_id` joining factors with different levels, coercing to character vector”Warning message:\n",
      "“Column `snp_id` joining factors with different levels, coercing to character vector”Warning message:\n",
      "“Column `feature_id` joining factors with different levels, coercing to character vector”Warning message:\n",
      "“Column `snp_id` joining factors with different levels, coercing to character vector”Warning message:\n",
      "“Column `feature_id` joining factors with different levels, coercing to character vector”Warning message:\n",
      "“Column `snp_id` joining factors with different levels, coercing to character vector”Warning message:\n",
      "“Column `feature_id` joining factors with different levels, coercing to character vector”Warning message:\n",
      "“Column `snp_id` joining factors with different levels, coercing to character vector”Warning message:\n",
      "“Column `feature_id` joining factors with different levels, coercing to character vector”Warning message:\n",
      "“Column `snp_id` joining factors with different levels, coercing to character vector”Warning message:\n",
      "“Column `feature_id` joining factors with different levels, coercing to character vector”Warning message:\n",
      "“Column `snp_id` joining factors with different levels, coercing to character vector”Warning message:\n",
      "“Column `feature_id` joining factors with different levels, coercing to character vector”Warning message:\n",
      "“Column `snp_id` joining factors with different levels, coercing to character vector”Warning message:\n",
      "“Column `feature_id` joining factors with different levels, coercing to character vector”Warning message:\n",
      "“Column `snp_id` joining factors with different levels, coercing to character vector”Warning message:\n",
      "“Column `feature_id` joining factors with different levels, coercing to character vector”Warning message:\n",
      "“Column `snp_id` joining factors with different levels, coercing to character vector”Warning message:\n",
      "“Column `feature_id` joining factors with different levels, coercing to character vector”Warning message:\n",
      "“Column `snp_id` joining factors with different levels, coercing to character vector”Warning message:\n",
      "“Column `feature_id` joining factors with different levels, coercing to character vector”Warning message:\n",
      "“Column `snp_id` joining factors with different levels, coercing to character vector”Warning message:\n",
      "“Column `feature_id` joining factors with different levels, coercing to character vector”Warning message:\n",
      "“Column `snp_id` joining factors with different levels, coercing to character vector”Warning message:\n",
      "“Column `feature_id` joining factors with different levels, coercing to character vector”Warning message:\n",
      "“Column `snp_id` joining factors with different levels, coercing to character vector”Warning message:\n",
      "“Column `feature_id` joining factors with different levels, coercing to character vector”Warning message:\n",
      "“Column `snp_id` joining factors with different levels, coercing to character vector”Warning message:\n",
      "“Column `feature_id` joining factors with different levels, coercing to character vector”Warning message:\n",
      "“Column `snp_id` joining factors with different levels, coercing to character vector”Warning message:\n",
      "“Column `feature_id` joining factors with different levels, coercing to character vector”Warning message:\n",
      "“Column `snp_id` joining factors with different levels, coercing to character vector”Warning message:\n",
      "“Column `feature_id` joining factors with different levels, coercing to character vector”Warning message:\n",
      "“Column `snp_id` joining factors with different levels, coercing to character vector”Warning message:\n",
      "“Column `feature_id` joining factors with different levels, coercing to character vector”Warning message:\n",
      "“Column `snp_id` joining factors with different levels, coercing to character vector”Warning message:\n",
      "“Column `feature_id` joining factors with different levels, coercing to character vector”Warning message:\n",
      "“Column `snp_id` joining factors with different levels, coercing to character vector”Warning message:\n",
      "“Column `feature_id` joining factors with different levels, coercing to character vector”Warning message:\n",
      "“Column `snp_id` joining factors with different levels, coercing to character vector”Warning message:\n",
      "“Column `feature_id` joining factors with different levels, coercing to character vector”Warning message:\n",
      "“Column `snp_id` joining factors with different levels, coercing to character vector”Warning message:\n",
      "“Column `feature_id` joining factors with different levels, coercing to character vector”Warning message:\n",
      "“Column `snp_id` joining factors with different levels, coercing to character vector”Warning message:\n",
      "“Column `feature_id` joining factors with different levels, coercing to character vector”Warning message:\n",
      "“Column `snp_id` joining factors with different levels, coercing to character vector”Warning message:\n",
      "“Column `feature_id` joining factors with different levels, coercing to character vector”Warning message:\n",
      "“Column `snp_id` joining factors with different levels, coercing to character vector”Warning message:\n",
      "“Column `feature_id` joining factors with different levels, coercing to character vector”Warning message:\n",
      "“Column `snp_id` joining factors with different levels, coercing to character vector”Warning message:\n",
      "“Column `feature_id` joining factors with different levels, coercing to character vector”Warning message:\n",
      "“Column `snp_id` joining factors with different levels, coercing to character vector”Warning message:\n",
      "“Column `feature_id` joining factors with different levels, coercing to character vector”Warning message:\n",
      "“Column `snp_id` joining factors with different levels, coercing to character vector”Warning message:\n",
      "“Column `feature_id` joining factors with different levels, coercing to character vector”Warning message:\n",
      "“Column `snp_id` joining factors with different levels, coercing to character vector”Warning message:\n",
      "“Column `feature_id` joining factors with different levels, coercing to character vector”Warning message:\n",
      "“Column `snp_id` joining factors with different levels, coercing to character vector”Warning message:\n",
      "“Column `feature_id` joining factors with different levels, coercing to character vector”Warning message:\n",
      "“Column `snp_id` joining factors with different levels, coercing to character vector”Warning message:\n",
      "“Column `feature_id` joining factors with different levels, coercing to character vector”Warning message:\n",
      "“Column `snp_id` joining factors with different levels, coercing to character vector”Warning message:\n",
      "“Column `feature_id` joining factors with different levels, coercing to character vector”Warning message:\n",
      "“Column `snp_id` joining factors with different levels, coercing to character vector”Warning message:\n",
      "“Column `feature_id` joining factors with different levels, coercing to character vector”Warning message:\n",
      "“Column `snp_id` joining factors with different levels, coercing to character vector”Warning message:\n",
      "“Column `feature_id` joining factors with different levels, coercing to character vector”Warning message:\n",
      "“Column `snp_id` joining factors with different levels, coercing to character vector”Warning message:\n",
      "“Column `feature_id` joining factors with different levels, coercing to character vector”Warning message:\n",
      "“Column `snp_id` joining factors with different levels, coercing to character vector”Warning message:\n",
      "“Column `feature_id` joining factors with different levels, coercing to character vector”Warning message:\n",
      "“Column `snp_id` joining factors with different levels, coercing to character vector”Warning message:\n",
      "“Column `feature_id` joining factors with different levels, coercing to character vector”Warning message:\n",
      "“Column `snp_id` joining factors with different levels, coercing to character vector”Warning message:\n",
      "“Column `feature_id` joining factors with different levels, coercing to character vector”Warning message:\n",
      "“Column `snp_id` joining factors with different levels, coercing to character vector”Warning message:\n",
      "“Column `feature_id` joining factors with different levels, coercing to character vector”Warning message:\n",
      "“Column `snp_id` joining factors with different levels, coercing to character vector”Warning message:\n",
      "“Column `feature_id` joining factors with different levels, coercing to character vector”Warning message:\n",
      "“Column `snp_id` joining factors with different levels, coercing to character vector”Warning message:\n",
      "“Column `feature_id` joining factors with different levels, coercing to character vector”Warning message:\n",
      "“Column `snp_id` joining factors with different levels, coercing to character vector”Warning message:\n",
      "“Column `feature_id` joining factors with different levels, coercing to character vector”Warning message:\n",
      "“Column `snp_id` joining factors with different levels, coercing to character vector”Warning message:\n",
      "“Column `feature_id` joining factors with different levels, coercing to character vector”Warning message:\n",
      "“Column `snp_id` joining factors with different levels, coercing to character vector”Warning message:\n",
      "“Column `feature_id` joining factors with different levels, coercing to character vector”Warning message:\n",
      "“Column `snp_id` joining factors with different levels, coercing to character vector”Warning message:\n",
      "“Column `feature_id` joining factors with different levels, coercing to character vector”Warning message:\n",
      "“Column `snp_id` joining factors with different levels, coercing to character vector”Warning message:\n",
      "“Column `feature_id` joining factors with different levels, coercing to character vector”Warning message:\n",
      "“Column `snp_id` joining factors with different levels, coercing to character vector”Warning message:\n",
      "“Column `feature_id` joining factors with different levels, coercing to character vector”Warning message:\n"
     ]
    },
    {
     "name": "stderr",
     "output_type": "stream",
     "text": [
      "“Column `snp_id` joining factors with different levels, coercing to character vector”Warning message:\n",
      "“Column `feature_id` joining factors with different levels, coercing to character vector”Warning message:\n",
      "“Column `snp_id` joining factors with different levels, coercing to character vector”Warning message:\n",
      "“Column `feature_id` joining factors with different levels, coercing to character vector”Warning message:\n",
      "“Column `snp_id` joining factors with different levels, coercing to character vector”Warning message:\n",
      "“Column `feature_id` joining factors with different levels, coercing to character vector”Warning message:\n",
      "“Column `snp_id` joining factors with different levels, coercing to character vector”Warning message:\n",
      "“Column `feature_id` joining factors with different levels, coercing to character vector”Warning message:\n",
      "“Column `snp_id` joining factors with different levels, coercing to character vector”Warning message:\n",
      "“Column `feature_id` joining factors with different levels, coercing to character vector”Warning message:\n",
      "“Column `snp_id` joining factors with different levels, coercing to character vector”Warning message:\n",
      "“Column `feature_id` joining factors with different levels, coercing to character vector”Warning message:\n",
      "“Column `snp_id` joining factors with different levels, coercing to character vector”Warning message:\n",
      "“Column `feature_id` joining factors with different levels, coercing to character vector”Warning message:\n",
      "“Column `snp_id` joining factors with different levels, coercing to character vector”Warning message:\n",
      "“Column `feature_id` joining factors with different levels, coercing to character vector”Warning message:\n",
      "“Column `snp_id` joining factors with different levels, coercing to character vector”Warning message:\n",
      "“Column `feature_id` joining factors with different levels, coercing to character vector”Warning message:\n",
      "“Column `snp_id` joining factors with different levels, coercing to character vector”Warning message:\n",
      "“Column `feature_id` joining factors with different levels, coercing to character vector”Warning message:\n",
      "“Column `snp_id` joining factors with different levels, coercing to character vector”Warning message:\n",
      "“Column `feature_id` joining factors with different levels, coercing to character vector”Warning message:\n",
      "“Column `snp_id` joining factors with different levels, coercing to character vector”Warning message:\n",
      "“Column `feature_id` joining factors with different levels, coercing to character vector”Warning message:\n",
      "“Column `snp_id` joining factors with different levels, coercing to character vector”Warning message:\n",
      "“Column `feature_id` joining factors with different levels, coercing to character vector”Warning message:\n",
      "“Column `snp_id` joining factors with different levels, coercing to character vector”Warning message:\n",
      "“Column `feature_id` joining factors with different levels, coercing to character vector”Warning message:\n",
      "“Column `snp_id` joining factors with different levels, coercing to character vector”Warning message:\n",
      "“Column `feature_id` joining factors with different levels, coercing to character vector”Warning message:\n",
      "“Column `snp_id` joining factors with different levels, coercing to character vector”Warning message:\n",
      "“Column `feature_id` joining factors with different levels, coercing to character vector”Warning message:\n",
      "“Column `snp_id` joining factors with different levels, coercing to character vector”Warning message:\n",
      "“Column `feature_id` joining factors with different levels, coercing to character vector”Warning message:\n",
      "“Column `snp_id` joining factors with different levels, coercing to character vector”Warning message:\n",
      "“Column `feature_id` joining factors with different levels, coercing to character vector”Warning message:\n",
      "“Column `snp_id` joining factors with different levels, coercing to character vector”Warning message:\n",
      "“Column `feature_id` joining factors with different levels, coercing to character vector”Warning message:\n",
      "“Column `snp_id` joining factors with different levels, coercing to character vector”Warning message:\n",
      "“Column `feature_id` joining factors with different levels, coercing to character vector”Warning message:\n",
      "“Column `snp_id` joining factors with different levels, coercing to character vector”Warning message:\n",
      "“Column `feature_id` joining factors with different levels, coercing to character vector”Warning message:\n",
      "“Column `snp_id` joining factors with different levels, coercing to character vector”Warning message:\n",
      "“Column `feature_id` joining factors with different levels, coercing to character vector”Warning message:\n",
      "“Column `snp_id` joining factors with different levels, coercing to character vector”Warning message:\n",
      "“Column `feature_id` joining factors with different levels, coercing to character vector”Warning message:\n",
      "“Column `snp_id` joining factors with different levels, coercing to character vector”Warning message:\n",
      "“Column `feature_id` joining factors with different levels, coercing to character vector”Warning message:\n",
      "“Column `snp_id` joining factors with different levels, coercing to character vector”Warning message:\n",
      "“Column `feature_id` joining factors with different levels, coercing to character vector”Warning message:\n",
      "“Column `snp_id` joining factors with different levels, coercing to character vector”Warning message:\n",
      "“Column `feature_id` joining factors with different levels, coercing to character vector”Warning message:\n",
      "“Column `snp_id` joining factors with different levels, coercing to character vector”Warning message:\n",
      "“Column `feature_id` joining factors with different levels, coercing to character vector”Warning message:\n",
      "“Column `snp_id` joining factors with different levels, coercing to character vector”Warning message:\n",
      "“Column `feature_id` joining factors with different levels, coercing to character vector”Warning message:\n",
      "“Column `snp_id` joining factors with different levels, coercing to character vector”Warning message:\n",
      "“Column `feature_id` joining factors with different levels, coercing to character vector”Warning message:\n",
      "“Column `snp_id` joining factors with different levels, coercing to character vector”Warning message:\n",
      "“Column `feature_id` joining factors with different levels, coercing to character vector”Warning message:\n",
      "“Column `snp_id` joining factors with different levels, coercing to character vector”Warning message:\n",
      "“Column `feature_id` joining factors with different levels, coercing to character vector”Warning message:\n",
      "“Column `snp_id` joining factors with different levels, coercing to character vector”Warning message:\n",
      "“Column `feature_id` joining factors with different levels, coercing to character vector”Warning message:\n",
      "“Column `snp_id` joining factors with different levels, coercing to character vector”Warning message:\n",
      "“Column `feature_id` joining factors with different levels, coercing to character vector”Warning message:\n",
      "“Column `snp_id` joining factors with different levels, coercing to character vector”Warning message:\n",
      "“Column `feature_id` joining factors with different levels, coercing to character vector”Warning message:\n",
      "“Column `snp_id` joining factors with different levels, coercing to character vector”Warning message:\n",
      "“Column `feature_id` joining factors with different levels, coercing to character vector”Warning message:\n",
      "“Column `snp_id` joining factors with different levels, coercing to character vector”Warning message:\n",
      "“Column `feature_id` joining factors with different levels, coercing to character vector”Warning message:\n",
      "“Column `snp_id` joining factors with different levels, coercing to character vector”Warning message:\n",
      "“Column `feature_id` joining factors with different levels, coercing to character vector”Warning message:\n",
      "“Column `snp_id` joining factors with different levels, coercing to character vector”Warning message:\n",
      "“Column `feature_id` joining factors with different levels, coercing to character vector”Warning message:\n",
      "“Column `snp_id` joining factors with different levels, coercing to character vector”Warning message:\n",
      "“Column `feature_id` joining factors with different levels, coercing to character vector”Warning message:\n",
      "“Column `snp_id` joining factors with different levels, coercing to character vector”Warning message:\n",
      "“Column `feature_id` joining factors with different levels, coercing to character vector”Warning message:\n",
      "“Column `snp_id` joining factors with different levels, coercing to character vector”Warning message:\n",
      "“Column `feature_id` joining factors with different levels, coercing to character vector”Warning message:\n",
      "“Column `snp_id` joining factors with different levels, coercing to character vector”Warning message:\n",
      "“Column `feature_id` joining factors with different levels, coercing to character vector”Warning message:\n",
      "“Column `snp_id` joining factors with different levels, coercing to character vector”Warning message:\n",
      "“Column `feature_id` joining factors with different levels, coercing to character vector”Warning message:\n",
      "“Column `snp_id` joining factors with different levels, coercing to character vector”Warning message:\n",
      "“Column `feature_id` joining factors with different levels, coercing to character vector”Warning message:\n",
      "“Column `snp_id` joining factors with different levels, coercing to character vector”Warning message:\n",
      "“Column `feature_id` joining factors with different levels, coercing to character vector”Warning message:\n",
      "“Column `snp_id` joining factors with different levels, coercing to character vector”Warning message:\n",
      "“Column `feature_id` joining factors with different levels, coercing to character vector”Warning message:\n",
      "“Column `snp_id` joining factors with different levels, coercing to character vector”Warning message:\n",
      "“Column `feature_id` joining factors with different levels, coercing to character vector”Warning message:\n",
      "“Column `snp_id` joining factors with different levels, coercing to character vector”Warning message:\n",
      "“Column `feature_id` joining factors with different levels, coercing to character vector”Warning message:\n",
      "“Column `snp_id` joining factors with different levels, coercing to character vector”Warning message:\n",
      "“Column `feature_id` joining factors with different levels, coercing to character vector”Warning message:\n",
      "“Column `snp_id` joining factors with different levels, coercing to character vector”Warning message:\n",
      "“Column `feature_id` joining factors with different levels, coercing to character vector”Warning message:\n",
      "“Column `snp_id` joining factors with different levels, coercing to character vector”Warning message:\n",
      "“Column `feature_id` joining factors with different levels, coercing to character vector”Warning message:\n",
      "“Column `snp_id` joining factors with different levels, coercing to character vector”Warning message:\n",
      "“Column `feature_id` joining factors with different levels, coercing to character vector”Warning message:\n",
      "“Column `snp_id` joining factors with different levels, coercing to character vector”Warning message:\n",
      "“Column `feature_id` joining factors with different levels, coercing to character vector”Warning message:\n",
      "“Column `snp_id` joining factors with different levels, coercing to character vector”Warning message:\n",
      "“Column `feature_id` joining factors with different levels, coercing to character vector”Warning message:\n",
      "“Column `snp_id` joining factors with different levels, coercing to character vector”Warning message:\n",
      "“Column `feature_id` joining factors with different levels, coercing to character vector”Warning message:\n",
      "“Column `snp_id` joining factors with different levels, coercing to character vector”Warning message:\n",
      "“Column `feature_id` joining factors with different levels, coercing to character vector”Warning message:\n",
      "“Column `snp_id` joining factors with different levels, coercing to character vector”Warning message:\n",
      "“Column `feature_id` joining factors with different levels, coercing to character vector”Warning message:\n",
      "“Column `snp_id` joining factors with different levels, coercing to character vector”Warning message:\n",
      "“Column `feature_id` joining factors with different levels, coercing to character vector”Warning message:\n",
      "“Column `snp_id` joining factors with different levels, coercing to character vector”Warning message:\n",
      "“Column `feature_id` joining factors with different levels, coercing to character vector”Warning message:\n",
      "“Column `snp_id` joining factors with different levels, coercing to character vector”Warning message:\n",
      "“Column `feature_id` joining factors with different levels, coercing to character vector”Warning message:\n",
      "“Column `snp_id` joining factors with different levels, coercing to character vector”Warning message:\n",
      "“Column `feature_id` joining factors with different levels, coercing to character vector”Warning message:\n",
      "“Column `snp_id` joining factors with different levels, coercing to character vector”Warning message:\n",
      "“Column `feature_id` joining factors with different levels, coercing to character vector”Warning message:\n",
      "“Column `snp_id` joining factors with different levels, coercing to character vector”Warning message:\n",
      "“Column `feature_id` joining factors with different levels, coercing to character vector”Warning message:\n",
      "“Column `snp_id` joining factors with different levels, coercing to character vector”Warning message:\n",
      "“Column `feature_id` joining factors with different levels, coercing to character vector”Warning message:\n",
      "“Column `snp_id` joining factors with different levels, coercing to character vector”Warning message:\n",
      "“Column `feature_id` joining factors with different levels, coercing to character vector”Warning message:\n",
      "“Column `snp_id` joining factors with different levels, coercing to character vector”Warning message:\n",
      "“Column `feature_id` joining factors with different levels, coercing to character vector”Warning message:\n",
      "“Column `snp_id` joining factors with different levels, coercing to character vector”Warning message:\n",
      "“Column `feature_id` joining factors with different levels, coercing to character vector”Warning message:\n",
      "“Column `snp_id` joining factors with different levels, coercing to character vector”Warning message:\n",
      "“Column `feature_id` joining factors with different levels, coercing to character vector”Warning message:\n",
      "“Column `snp_id` joining factors with different levels, coercing to character vector”Warning message:\n",
      "“Column `feature_id` joining factors with different levels, coercing to character vector”Warning message:\n",
      "“Column `snp_id` joining factors with different levels, coercing to character vector”Warning message:\n",
      "“Column `feature_id` joining factors with different levels, coercing to character vector”Warning message:\n",
      "“Column `snp_id` joining factors with different levels, coercing to character vector”Warning message:\n",
      "“Column `feature_id` joining factors with different levels, coercing to character vector”Warning message:\n",
      "“Column `snp_id` joining factors with different levels, coercing to character vector”Warning message:\n",
      "“Column `feature_id` joining factors with different levels, coercing to character vector”Warning message:\n",
      "“Column `snp_id` joining factors with different levels, coercing to character vector”Warning message:\n",
      "“Column `feature_id` joining factors with different levels, coercing to character vector”Warning message:\n",
      "“Column `snp_id` joining factors with different levels, coercing to character vector”Warning message:\n",
      "“Column `feature_id` joining factors with different levels, coercing to character vector”Warning message:\n",
      "“Column `snp_id` joining factors with different levels, coercing to character vector”Warning message:\n",
      "“Column `feature_id` joining factors with different levels, coercing to character vector”Warning message:\n",
      "“Column `snp_id` joining factors with different levels, coercing to character vector”Warning message:\n",
      "“Column `feature_id` joining factors with different levels, coercing to character vector”Warning message:\n",
      "“Column `snp_id` joining factors with different levels, coercing to character vector”Warning message:\n",
      "“Column `feature_id` joining factors with different levels, coercing to character vector”Warning message:\n",
      "“Column `snp_id` joining factors with different levels, coercing to character vector”Warning message:\n",
      "“Column `feature_id` joining factors with different levels, coercing to character vector”Warning message:\n"
     ]
    },
    {
     "name": "stderr",
     "output_type": "stream",
     "text": [
      "“Column `snp_id` joining factors with different levels, coercing to character vector”Warning message:\n",
      "“Column `feature_id` joining factors with different levels, coercing to character vector”Warning message:\n",
      "“Column `snp_id` joining factors with different levels, coercing to character vector”Warning message:\n",
      "“Column `feature_id` joining factors with different levels, coercing to character vector”Warning message:\n",
      "“Column `snp_id` joining factors with different levels, coercing to character vector”Warning message:\n",
      "“Column `feature_id` joining factors with different levels, coercing to character vector”Warning message:\n",
      "“Column `snp_id` joining factors with different levels, coercing to character vector”Warning message:\n",
      "“Column `feature_id` joining factors with different levels, coercing to character vector”Warning message:\n",
      "“Column `snp_id` joining factors with different levels, coercing to character vector”Warning message:\n",
      "“Column `feature_id` joining factors with different levels, coercing to character vector”Warning message:\n",
      "“Column `snp_id` joining factors with different levels, coercing to character vector”Warning message:\n",
      "“Column `feature_id` joining factors with different levels, coercing to character vector”Warning message:\n",
      "“Column `snp_id` joining factors with different levels, coercing to character vector”Warning message:\n",
      "“Column `feature_id` joining factors with different levels, coercing to character vector”Warning message:\n",
      "“Column `snp_id` joining factors with different levels, coercing to character vector”Warning message:\n",
      "“Column `feature_id` joining factors with different levels, coercing to character vector”Warning message:\n",
      "“Column `snp_id` joining factors with different levels, coercing to character vector”Warning message:\n",
      "“Column `feature_id` joining factors with different levels, coercing to character vector”Warning message:\n",
      "“Column `snp_id` joining factors with different levels, coercing to character vector”Warning message:\n",
      "“Column `feature_id` joining factors with different levels, coercing to character vector”Warning message:\n",
      "“Column `snp_id` joining factors with different levels, coercing to character vector”Warning message:\n",
      "“Column `feature_id` joining factors with different levels, coercing to character vector”Warning message:\n",
      "“Column `snp_id` joining factors with different levels, coercing to character vector”Warning message:\n",
      "“Column `feature_id` joining factors with different levels, coercing to character vector”Warning message:\n",
      "“Column `snp_id` joining factors with different levels, coercing to character vector”Warning message:\n",
      "“Column `feature_id` joining factors with different levels, coercing to character vector”Warning message:\n",
      "“Column `snp_id` joining factors with different levels, coercing to character vector”Warning message:\n",
      "“Column `feature_id` joining factors with different levels, coercing to character vector”Warning message:\n",
      "“Column `snp_id` joining factors with different levels, coercing to character vector”Warning message:\n",
      "“Column `feature_id` joining factors with different levels, coercing to character vector”Warning message:\n",
      "“Column `snp_id` joining factors with different levels, coercing to character vector”Warning message:\n",
      "“Column `feature_id` joining factors with different levels, coercing to character vector”Warning message:\n",
      "“Column `snp_id` joining factors with different levels, coercing to character vector”Warning message:\n",
      "“Column `feature_id` joining factors with different levels, coercing to character vector”Warning message:\n",
      "“Column `snp_id` joining factors with different levels, coercing to character vector”Warning message:\n",
      "“Column `feature_id` joining factors with different levels, coercing to character vector”Warning message:\n",
      "“Column `snp_id` joining factors with different levels, coercing to character vector”Warning message:\n",
      "“Column `feature_id` joining factors with different levels, coercing to character vector”Warning message:\n",
      "“Column `snp_id` joining factors with different levels, coercing to character vector”Warning message:\n",
      "“Column `feature_id` joining factors with different levels, coercing to character vector”Warning message:\n",
      "“Column `snp_id` joining factors with different levels, coercing to character vector”Warning message:\n",
      "“Column `feature_id` joining factors with different levels, coercing to character vector”Warning message:\n",
      "“Column `snp_id` joining factors with different levels, coercing to character vector”Warning message:\n",
      "“Column `feature_id` joining factors with different levels, coercing to character vector”Warning message:\n",
      "“Column `snp_id` joining factors with different levels, coercing to character vector”Warning message:\n",
      "“Column `feature_id` joining factors with different levels, coercing to character vector”Warning message:\n",
      "“Column `snp_id` joining factors with different levels, coercing to character vector”Warning message:\n",
      "“Column `feature_id` joining factors with different levels, coercing to character vector”Warning message:\n",
      "“Column `snp_id` joining factors with different levels, coercing to character vector”Warning message:\n",
      "“Column `feature_id` joining factors with different levels, coercing to character vector”Warning message:\n",
      "“Column `snp_id` joining factors with different levels, coercing to character vector”Warning message:\n",
      "“Column `feature_id` joining factors with different levels, coercing to character vector”"
     ]
    }
   ],
   "source": [
    "for (j in 1:length(celltypes)){\n",
    "# for (j in 1){\n",
    "    celltype = as.character(celltypes[j])\n",
    "#     print(celltype)\n",
    "    l = leads[leads$new_label == celltype,]\n",
    "    for (i in 1:length(brain_tissues)){\n",
    "#     for (i in 1){\n",
    "        t = brain_tissues[i]\n",
    "#         print(t)\n",
    "        r = res[[t]]\n",
    "        df = inner_join(l,r,by = c(\"snp_id\",\"feature_id\"), suffix = c(\"\",\".gtex\"))\n",
    "#         print(nrow(df))\n",
    "        mat[i,j] = nrow(df[df$p_value.gtex < 0.05,])/nrow(df)\n",
    "#         print(mat[i,j])\n",
    "    }\n",
    "}"
   ]
  },
  {
   "cell_type": "code",
   "execution_count": 53,
   "metadata": {},
   "outputs": [
    {
     "data": {
      "text/html": [
       "<table>\n",
       "<tbody>\n",
       "\t<tr><td>0.3431373</td><td>0.3537415</td><td>0.4491525</td><td>0.5324675</td><td>0.4655172</td><td>0.5757576</td><td>0.5000000</td><td>0.5691057</td><td>0.5564516</td><td>0.7500   </td><td>0.6341463</td><td>0.6046512</td><td>0.5434783</td><td>0.8666667</td></tr>\n",
       "\t<tr><td>0.3750000</td><td>0.4104308</td><td>0.5254237</td><td>0.5844156</td><td>0.5258621</td><td>0.5656566</td><td>0.5106383</td><td>0.5447154</td><td>0.5920000</td><td>0.8125   </td><td>0.6341463</td><td>0.6162791</td><td>0.5978261</td><td>0.7333333</td></tr>\n",
       "\t<tr><td>0.4373464</td><td>0.4852608</td><td>0.5847458</td><td>0.6233766</td><td>0.5344828</td><td>0.6565657</td><td>0.5851064</td><td>0.6097561</td><td>0.6854839</td><td>0.7500   </td><td>0.6341463</td><td>0.6395349</td><td>0.6304348</td><td>0.8000000</td></tr>\n",
       "\t<tr><td>0.4433498</td><td>0.4863636</td><td>0.5677966</td><td>0.6103896</td><td>0.5517241</td><td>0.6464646</td><td>0.6489362</td><td>0.6229508</td><td>0.6666667</td><td>0.8125   </td><td>0.7073171</td><td>0.6705882</td><td>0.5652174</td><td>0.6666667</td></tr>\n",
       "\t<tr><td>0.4191176</td><td>0.4693878</td><td>0.6101695</td><td>0.5844156</td><td>0.5603448</td><td>0.6060606</td><td>0.5638298</td><td>0.6422764</td><td>0.6000000</td><td>0.6875   </td><td>0.7317073</td><td>0.6395349</td><td>0.6195652</td><td>0.7333333</td></tr>\n",
       "\t<tr><td>0.3602941</td><td>0.3990930</td><td>0.4915254</td><td>0.4805195</td><td>0.4396552</td><td>0.5555556</td><td>0.5319149</td><td>0.5934959</td><td>0.5680000</td><td>0.6875   </td><td>0.6829268</td><td>0.6046512</td><td>0.6195652</td><td>0.6000000</td></tr>\n",
       "\t<tr><td>0.4103194</td><td>0.4603175</td><td>0.5762712</td><td>0.5844156</td><td>0.5431034</td><td>0.6464646</td><td>0.6063830</td><td>0.5853659</td><td>0.6290323</td><td>0.8125   </td><td>0.7073171</td><td>0.6395349</td><td>0.5543478</td><td>0.7333333</td></tr>\n",
       "\t<tr><td>0.4963145</td><td>0.5272727</td><td>0.6525424</td><td>0.5974026</td><td>0.5689655</td><td>0.7070707</td><td>0.6702128</td><td>0.6557377</td><td>0.6910569</td><td>0.7500   </td><td>0.6829268</td><td>0.6470588</td><td>0.6739130</td><td>0.8000000</td></tr>\n",
       "\t<tr><td>0.4201474</td><td>0.4580499</td><td>0.5254237</td><td>0.5584416</td><td>0.4568966</td><td>0.6363636</td><td>0.5744681</td><td>0.5691057</td><td>0.6422764</td><td>0.7500   </td><td>0.6829268</td><td>0.6279070</td><td>0.6195652</td><td>0.7333333</td></tr>\n",
       "\t<tr><td>0.3259804</td><td>0.3628118</td><td>0.4322034</td><td>0.4805195</td><td>0.4568966</td><td>0.5656566</td><td>0.5212766</td><td>0.5365854</td><td>0.5564516</td><td>0.7500   </td><td>0.5853659</td><td>0.5000000</td><td>0.5978261</td><td>0.6000000</td></tr>\n",
       "\t<tr><td>0.4485294</td><td>0.4897959</td><td>0.6440678</td><td>0.5974026</td><td>0.5431034</td><td>0.6666667</td><td>0.6170213</td><td>0.6341463</td><td>0.6693548</td><td>0.7500   </td><td>0.7317073</td><td>0.6162791</td><td>0.6739130</td><td>0.6666667</td></tr>\n",
       "\t<tr><td>0.3382353</td><td>0.3696145</td><td>0.5000000</td><td>0.5194805</td><td>0.4224138</td><td>0.5454545</td><td>0.5425532</td><td>0.5447154</td><td>0.5645161</td><td>0.5625   </td><td>0.6585366</td><td>0.5581395</td><td>0.5326087</td><td>0.6000000</td></tr>\n",
       "\t<tr><td>0.2794118</td><td>0.3287982</td><td>0.4576271</td><td>0.4675325</td><td>0.3620690</td><td>0.5151515</td><td>0.4468085</td><td>0.5121951</td><td>0.5280000</td><td>0.7500   </td><td>0.5853659</td><td>0.4883721</td><td>0.4891304</td><td>0.7333333</td></tr>\n",
       "</tbody>\n",
       "</table>\n"
      ],
      "text/latex": [
       "\\begin{tabular}{llllllllllllll}\n",
       "\t 0.3431373 & 0.3537415 & 0.4491525 & 0.5324675 & 0.4655172 & 0.5757576 & 0.5000000 & 0.5691057 & 0.5564516 & 0.7500    & 0.6341463 & 0.6046512 & 0.5434783 & 0.8666667\\\\\n",
       "\t 0.3750000 & 0.4104308 & 0.5254237 & 0.5844156 & 0.5258621 & 0.5656566 & 0.5106383 & 0.5447154 & 0.5920000 & 0.8125    & 0.6341463 & 0.6162791 & 0.5978261 & 0.7333333\\\\\n",
       "\t 0.4373464 & 0.4852608 & 0.5847458 & 0.6233766 & 0.5344828 & 0.6565657 & 0.5851064 & 0.6097561 & 0.6854839 & 0.7500    & 0.6341463 & 0.6395349 & 0.6304348 & 0.8000000\\\\\n",
       "\t 0.4433498 & 0.4863636 & 0.5677966 & 0.6103896 & 0.5517241 & 0.6464646 & 0.6489362 & 0.6229508 & 0.6666667 & 0.8125    & 0.7073171 & 0.6705882 & 0.5652174 & 0.6666667\\\\\n",
       "\t 0.4191176 & 0.4693878 & 0.6101695 & 0.5844156 & 0.5603448 & 0.6060606 & 0.5638298 & 0.6422764 & 0.6000000 & 0.6875    & 0.7317073 & 0.6395349 & 0.6195652 & 0.7333333\\\\\n",
       "\t 0.3602941 & 0.3990930 & 0.4915254 & 0.4805195 & 0.4396552 & 0.5555556 & 0.5319149 & 0.5934959 & 0.5680000 & 0.6875    & 0.6829268 & 0.6046512 & 0.6195652 & 0.6000000\\\\\n",
       "\t 0.4103194 & 0.4603175 & 0.5762712 & 0.5844156 & 0.5431034 & 0.6464646 & 0.6063830 & 0.5853659 & 0.6290323 & 0.8125    & 0.7073171 & 0.6395349 & 0.5543478 & 0.7333333\\\\\n",
       "\t 0.4963145 & 0.5272727 & 0.6525424 & 0.5974026 & 0.5689655 & 0.7070707 & 0.6702128 & 0.6557377 & 0.6910569 & 0.7500    & 0.6829268 & 0.6470588 & 0.6739130 & 0.8000000\\\\\n",
       "\t 0.4201474 & 0.4580499 & 0.5254237 & 0.5584416 & 0.4568966 & 0.6363636 & 0.5744681 & 0.5691057 & 0.6422764 & 0.7500    & 0.6829268 & 0.6279070 & 0.6195652 & 0.7333333\\\\\n",
       "\t 0.3259804 & 0.3628118 & 0.4322034 & 0.4805195 & 0.4568966 & 0.5656566 & 0.5212766 & 0.5365854 & 0.5564516 & 0.7500    & 0.5853659 & 0.5000000 & 0.5978261 & 0.6000000\\\\\n",
       "\t 0.4485294 & 0.4897959 & 0.6440678 & 0.5974026 & 0.5431034 & 0.6666667 & 0.6170213 & 0.6341463 & 0.6693548 & 0.7500    & 0.7317073 & 0.6162791 & 0.6739130 & 0.6666667\\\\\n",
       "\t 0.3382353 & 0.3696145 & 0.5000000 & 0.5194805 & 0.4224138 & 0.5454545 & 0.5425532 & 0.5447154 & 0.5645161 & 0.5625    & 0.6585366 & 0.5581395 & 0.5326087 & 0.6000000\\\\\n",
       "\t 0.2794118 & 0.3287982 & 0.4576271 & 0.4675325 & 0.3620690 & 0.5151515 & 0.4468085 & 0.5121951 & 0.5280000 & 0.7500    & 0.5853659 & 0.4883721 & 0.4891304 & 0.7333333\\\\\n",
       "\\end{tabular}\n"
      ],
      "text/markdown": [
       "\n",
       "| 0.3431373 | 0.3537415 | 0.4491525 | 0.5324675 | 0.4655172 | 0.5757576 | 0.5000000 | 0.5691057 | 0.5564516 | 0.7500    | 0.6341463 | 0.6046512 | 0.5434783 | 0.8666667 |\n",
       "| 0.3750000 | 0.4104308 | 0.5254237 | 0.5844156 | 0.5258621 | 0.5656566 | 0.5106383 | 0.5447154 | 0.5920000 | 0.8125    | 0.6341463 | 0.6162791 | 0.5978261 | 0.7333333 |\n",
       "| 0.4373464 | 0.4852608 | 0.5847458 | 0.6233766 | 0.5344828 | 0.6565657 | 0.5851064 | 0.6097561 | 0.6854839 | 0.7500    | 0.6341463 | 0.6395349 | 0.6304348 | 0.8000000 |\n",
       "| 0.4433498 | 0.4863636 | 0.5677966 | 0.6103896 | 0.5517241 | 0.6464646 | 0.6489362 | 0.6229508 | 0.6666667 | 0.8125    | 0.7073171 | 0.6705882 | 0.5652174 | 0.6666667 |\n",
       "| 0.4191176 | 0.4693878 | 0.6101695 | 0.5844156 | 0.5603448 | 0.6060606 | 0.5638298 | 0.6422764 | 0.6000000 | 0.6875    | 0.7317073 | 0.6395349 | 0.6195652 | 0.7333333 |\n",
       "| 0.3602941 | 0.3990930 | 0.4915254 | 0.4805195 | 0.4396552 | 0.5555556 | 0.5319149 | 0.5934959 | 0.5680000 | 0.6875    | 0.6829268 | 0.6046512 | 0.6195652 | 0.6000000 |\n",
       "| 0.4103194 | 0.4603175 | 0.5762712 | 0.5844156 | 0.5431034 | 0.6464646 | 0.6063830 | 0.5853659 | 0.6290323 | 0.8125    | 0.7073171 | 0.6395349 | 0.5543478 | 0.7333333 |\n",
       "| 0.4963145 | 0.5272727 | 0.6525424 | 0.5974026 | 0.5689655 | 0.7070707 | 0.6702128 | 0.6557377 | 0.6910569 | 0.7500    | 0.6829268 | 0.6470588 | 0.6739130 | 0.8000000 |\n",
       "| 0.4201474 | 0.4580499 | 0.5254237 | 0.5584416 | 0.4568966 | 0.6363636 | 0.5744681 | 0.5691057 | 0.6422764 | 0.7500    | 0.6829268 | 0.6279070 | 0.6195652 | 0.7333333 |\n",
       "| 0.3259804 | 0.3628118 | 0.4322034 | 0.4805195 | 0.4568966 | 0.5656566 | 0.5212766 | 0.5365854 | 0.5564516 | 0.7500    | 0.5853659 | 0.5000000 | 0.5978261 | 0.6000000 |\n",
       "| 0.4485294 | 0.4897959 | 0.6440678 | 0.5974026 | 0.5431034 | 0.6666667 | 0.6170213 | 0.6341463 | 0.6693548 | 0.7500    | 0.7317073 | 0.6162791 | 0.6739130 | 0.6666667 |\n",
       "| 0.3382353 | 0.3696145 | 0.5000000 | 0.5194805 | 0.4224138 | 0.5454545 | 0.5425532 | 0.5447154 | 0.5645161 | 0.5625    | 0.6585366 | 0.5581395 | 0.5326087 | 0.6000000 |\n",
       "| 0.2794118 | 0.3287982 | 0.4576271 | 0.4675325 | 0.3620690 | 0.5151515 | 0.4468085 | 0.5121951 | 0.5280000 | 0.7500    | 0.5853659 | 0.4883721 | 0.4891304 | 0.7333333 |\n",
       "\n"
      ],
      "text/plain": [
       "      [,1]      [,2]      [,3]      [,4]      [,5]      [,6]      [,7]     \n",
       " [1,] 0.3431373 0.3537415 0.4491525 0.5324675 0.4655172 0.5757576 0.5000000\n",
       " [2,] 0.3750000 0.4104308 0.5254237 0.5844156 0.5258621 0.5656566 0.5106383\n",
       " [3,] 0.4373464 0.4852608 0.5847458 0.6233766 0.5344828 0.6565657 0.5851064\n",
       " [4,] 0.4433498 0.4863636 0.5677966 0.6103896 0.5517241 0.6464646 0.6489362\n",
       " [5,] 0.4191176 0.4693878 0.6101695 0.5844156 0.5603448 0.6060606 0.5638298\n",
       " [6,] 0.3602941 0.3990930 0.4915254 0.4805195 0.4396552 0.5555556 0.5319149\n",
       " [7,] 0.4103194 0.4603175 0.5762712 0.5844156 0.5431034 0.6464646 0.6063830\n",
       " [8,] 0.4963145 0.5272727 0.6525424 0.5974026 0.5689655 0.7070707 0.6702128\n",
       " [9,] 0.4201474 0.4580499 0.5254237 0.5584416 0.4568966 0.6363636 0.5744681\n",
       "[10,] 0.3259804 0.3628118 0.4322034 0.4805195 0.4568966 0.5656566 0.5212766\n",
       "[11,] 0.4485294 0.4897959 0.6440678 0.5974026 0.5431034 0.6666667 0.6170213\n",
       "[12,] 0.3382353 0.3696145 0.5000000 0.5194805 0.4224138 0.5454545 0.5425532\n",
       "[13,] 0.2794118 0.3287982 0.4576271 0.4675325 0.3620690 0.5151515 0.4468085\n",
       "      [,8]      [,9]      [,10]  [,11]     [,12]     [,13]     [,14]    \n",
       " [1,] 0.5691057 0.5564516 0.7500 0.6341463 0.6046512 0.5434783 0.8666667\n",
       " [2,] 0.5447154 0.5920000 0.8125 0.6341463 0.6162791 0.5978261 0.7333333\n",
       " [3,] 0.6097561 0.6854839 0.7500 0.6341463 0.6395349 0.6304348 0.8000000\n",
       " [4,] 0.6229508 0.6666667 0.8125 0.7073171 0.6705882 0.5652174 0.6666667\n",
       " [5,] 0.6422764 0.6000000 0.6875 0.7317073 0.6395349 0.6195652 0.7333333\n",
       " [6,] 0.5934959 0.5680000 0.6875 0.6829268 0.6046512 0.6195652 0.6000000\n",
       " [7,] 0.5853659 0.6290323 0.8125 0.7073171 0.6395349 0.5543478 0.7333333\n",
       " [8,] 0.6557377 0.6910569 0.7500 0.6829268 0.6470588 0.6739130 0.8000000\n",
       " [9,] 0.5691057 0.6422764 0.7500 0.6829268 0.6279070 0.6195652 0.7333333\n",
       "[10,] 0.5365854 0.5564516 0.7500 0.5853659 0.5000000 0.5978261 0.6000000\n",
       "[11,] 0.6341463 0.6693548 0.7500 0.7317073 0.6162791 0.6739130 0.6666667\n",
       "[12,] 0.5447154 0.5645161 0.5625 0.6585366 0.5581395 0.5326087 0.6000000\n",
       "[13,] 0.5121951 0.5280000 0.7500 0.5853659 0.4883721 0.4891304 0.7333333"
      ]
     },
     "metadata": {},
     "output_type": "display_data"
    }
   ],
   "source": [
    "mat"
   ]
  },
  {
   "cell_type": "code",
   "execution_count": 57,
   "metadata": {},
   "outputs": [
    {
     "data": {
      "text/html": [
       "<ol class=list-inline>\n",
       "\t<li>FPP_D11</li>\n",
       "\t<li>P_FPP_D11</li>\n",
       "\t<li>DA_D30</li>\n",
       "\t<li>Sert_D30</li>\n",
       "\t<li>Epen1_D30</li>\n",
       "\t<li>FPP_D30</li>\n",
       "\t<li>DA_D52</li>\n",
       "\t<li>Sert_D52</li>\n",
       "\t<li>Epen1_D52</li>\n",
       "\t<li>Astro_D52</li>\n",
       "\t<li>DA_ROT_D52</li>\n",
       "\t<li>Sert_ROT_D52</li>\n",
       "\t<li>Epen1_ROT_D52</li>\n",
       "\t<li>Astro_ROT_D52</li>\n",
       "</ol>\n",
       "\n",
       "<details>\n",
       "\t<summary style=display:list-item;cursor:pointer>\n",
       "\t\t<strong>Levels</strong>:\n",
       "\t</summary>\n",
       "\t<ol class=list-inline>\n",
       "\t\t<li>'Astro_D52'</li>\n",
       "\t\t<li>'Astro_ROT_D52'</li>\n",
       "\t\t<li>'DA_D30'</li>\n",
       "\t\t<li>'DA_D52'</li>\n",
       "\t\t<li>'DA_ROT_D52'</li>\n",
       "\t\t<li>'Epen1_D30'</li>\n",
       "\t\t<li>'Epen1_D52'</li>\n",
       "\t\t<li>'Epen1_ROT_D52'</li>\n",
       "\t\t<li>'FPP_D11'</li>\n",
       "\t\t<li>'FPP_D30'</li>\n",
       "\t\t<li>'P_FPP_D11'</li>\n",
       "\t\t<li>'Sert_D30'</li>\n",
       "\t\t<li>'Sert_D52'</li>\n",
       "\t\t<li>'Sert_ROT_D52'</li>\n",
       "\t</ol>\n",
       "</details>"
      ],
      "text/latex": [
       "\\begin{enumerate*}\n",
       "\\item FPP\\_D11\n",
       "\\item P\\_FPP\\_D11\n",
       "\\item DA\\_D30\n",
       "\\item Sert\\_D30\n",
       "\\item Epen1\\_D30\n",
       "\\item FPP\\_D30\n",
       "\\item DA\\_D52\n",
       "\\item Sert\\_D52\n",
       "\\item Epen1\\_D52\n",
       "\\item Astro\\_D52\n",
       "\\item DA\\_ROT\\_D52\n",
       "\\item Sert\\_ROT\\_D52\n",
       "\\item Epen1\\_ROT\\_D52\n",
       "\\item Astro\\_ROT\\_D52\n",
       "\\end{enumerate*}\n",
       "\n",
       "\\emph{Levels}: \\begin{enumerate*}\n",
       "\\item 'Astro\\_D52'\n",
       "\\item 'Astro\\_ROT\\_D52'\n",
       "\\item 'DA\\_D30'\n",
       "\\item 'DA\\_D52'\n",
       "\\item 'DA\\_ROT\\_D52'\n",
       "\\item 'Epen1\\_D30'\n",
       "\\item 'Epen1\\_D52'\n",
       "\\item 'Epen1\\_ROT\\_D52'\n",
       "\\item 'FPP\\_D11'\n",
       "\\item 'FPP\\_D30'\n",
       "\\item 'P\\_FPP\\_D11'\n",
       "\\item 'Sert\\_D30'\n",
       "\\item 'Sert\\_D52'\n",
       "\\item 'Sert\\_ROT\\_D52'\n",
       "\\end{enumerate*}\n"
      ],
      "text/markdown": [
       "1. FPP_D11\n",
       "2. P_FPP_D11\n",
       "3. DA_D30\n",
       "4. Sert_D30\n",
       "5. Epen1_D30\n",
       "6. FPP_D30\n",
       "7. DA_D52\n",
       "8. Sert_D52\n",
       "9. Epen1_D52\n",
       "10. Astro_D52\n",
       "11. DA_ROT_D52\n",
       "12. Sert_ROT_D52\n",
       "13. Epen1_ROT_D52\n",
       "14. Astro_ROT_D52\n",
       "\n",
       "\n",
       "\n",
       "**Levels**: 1. 'Astro_D52'\n",
       "2. 'Astro_ROT_D52'\n",
       "3. 'DA_D30'\n",
       "4. 'DA_D52'\n",
       "5. 'DA_ROT_D52'\n",
       "6. 'Epen1_D30'\n",
       "7. 'Epen1_D52'\n",
       "8. 'Epen1_ROT_D52'\n",
       "9. 'FPP_D11'\n",
       "10. 'FPP_D30'\n",
       "11. 'P_FPP_D11'\n",
       "12. 'Sert_D30'\n",
       "13. 'Sert_D52'\n",
       "14. 'Sert_ROT_D52'\n",
       "\n",
       "\n"
      ],
      "text/plain": [
       " [1] FPP_D11       P_FPP_D11     DA_D30        Sert_D30      Epen1_D30    \n",
       " [6] FPP_D30       DA_D52        Sert_D52      Epen1_D52     Astro_D52    \n",
       "[11] DA_ROT_D52    Sert_ROT_D52  Epen1_ROT_D52 Astro_ROT_D52\n",
       "14 Levels: Astro_D52 Astro_ROT_D52 DA_D30 DA_D52 DA_ROT_D52 ... Sert_ROT_D52"
      ]
     },
     "metadata": {},
     "output_type": "display_data"
    }
   ],
   "source": [
    "celltypes"
   ]
  },
  {
   "cell_type": "code",
   "execution_count": 65,
   "metadata": {},
   "outputs": [],
   "source": [
    "mat_to_plot = mat\n",
    "rownames(mat_to_plot) = brain_tissues\n",
    "colnames(mat_to_plot) = celltypes"
   ]
  },
  {
   "cell_type": "code",
   "execution_count": 66,
   "metadata": {},
   "outputs": [
    {
     "data": {
      "text/html": [
       "<table>\n",
       "<thead><tr><th></th><th scope=col>FPP_D11</th><th scope=col>P_FPP_D11</th><th scope=col>DA_D30</th><th scope=col>Sert_D30</th><th scope=col>Epen1_D30</th><th scope=col>FPP_D30</th><th scope=col>DA_D52</th><th scope=col>Sert_D52</th><th scope=col>Epen1_D52</th><th scope=col>Astro_D52</th><th scope=col>DA_ROT_D52</th><th scope=col>Sert_ROT_D52</th><th scope=col>Epen1_ROT_D52</th><th scope=col>Astro_ROT_D52</th></tr></thead>\n",
       "<tbody>\n",
       "\t<tr><th scope=row>brain_amygdala_topsnp_allgenes_jan16.tsv</th><td>0.3431373</td><td>0.3537415</td><td>0.4491525</td><td>0.5324675</td><td>0.4655172</td><td>0.5757576</td><td>0.5000000</td><td>0.5691057</td><td>0.5564516</td><td>0.7500   </td><td>0.6341463</td><td>0.6046512</td><td>0.5434783</td><td>0.8666667</td></tr>\n",
       "\t<tr><th scope=row>brain_anterior_cingulate_cortex_topsnp_allgenes_jan16.tsv</th><td>0.3750000</td><td>0.4104308</td><td>0.5254237</td><td>0.5844156</td><td>0.5258621</td><td>0.5656566</td><td>0.5106383</td><td>0.5447154</td><td>0.5920000</td><td>0.8125   </td><td>0.6341463</td><td>0.6162791</td><td>0.5978261</td><td>0.7333333</td></tr>\n",
       "\t<tr><th scope=row>brain_caudate_basal_ganglia_topsnp_allgenes_jan16.tsv</th><td>0.4373464</td><td>0.4852608</td><td>0.5847458</td><td>0.6233766</td><td>0.5344828</td><td>0.6565657</td><td>0.5851064</td><td>0.6097561</td><td>0.6854839</td><td>0.7500   </td><td>0.6341463</td><td>0.6395349</td><td>0.6304348</td><td>0.8000000</td></tr>\n",
       "\t<tr><th scope=row>brain_cerebellar_hemisphere_topsnp_allgenes_jan16.tsv</th><td>0.4433498</td><td>0.4863636</td><td>0.5677966</td><td>0.6103896</td><td>0.5517241</td><td>0.6464646</td><td>0.6489362</td><td>0.6229508</td><td>0.6666667</td><td>0.8125   </td><td>0.7073171</td><td>0.6705882</td><td>0.5652174</td><td>0.6666667</td></tr>\n",
       "\t<tr><th scope=row>brain_frontal_cortex_topsnp_allgenes_jan16.tsv</th><td>0.4191176</td><td>0.4693878</td><td>0.6101695</td><td>0.5844156</td><td>0.5603448</td><td>0.6060606</td><td>0.5638298</td><td>0.6422764</td><td>0.6000000</td><td>0.6875   </td><td>0.7317073</td><td>0.6395349</td><td>0.6195652</td><td>0.7333333</td></tr>\n",
       "\t<tr><th scope=row>brain_hypothalamus_topsnp_allgenes_jan16.tsv</th><td>0.3602941</td><td>0.3990930</td><td>0.4915254</td><td>0.4805195</td><td>0.4396552</td><td>0.5555556</td><td>0.5319149</td><td>0.5934959</td><td>0.5680000</td><td>0.6875   </td><td>0.6829268</td><td>0.6046512</td><td>0.6195652</td><td>0.6000000</td></tr>\n",
       "</tbody>\n",
       "</table>\n"
      ],
      "text/latex": [
       "\\begin{tabular}{r|llllllllllllll}\n",
       "  & FPP\\_D11 & P\\_FPP\\_D11 & DA\\_D30 & Sert\\_D30 & Epen1\\_D30 & FPP\\_D30 & DA\\_D52 & Sert\\_D52 & Epen1\\_D52 & Astro\\_D52 & DA\\_ROT\\_D52 & Sert\\_ROT\\_D52 & Epen1\\_ROT\\_D52 & Astro\\_ROT\\_D52\\\\\n",
       "\\hline\n",
       "\tbrain\\_amygdala\\_topsnp\\_allgenes\\_jan16.tsv & 0.3431373 & 0.3537415 & 0.4491525 & 0.5324675 & 0.4655172 & 0.5757576 & 0.5000000 & 0.5691057 & 0.5564516 & 0.7500    & 0.6341463 & 0.6046512 & 0.5434783 & 0.8666667\\\\\n",
       "\tbrain\\_anterior\\_cingulate\\_cortex\\_topsnp\\_allgenes\\_jan16.tsv & 0.3750000 & 0.4104308 & 0.5254237 & 0.5844156 & 0.5258621 & 0.5656566 & 0.5106383 & 0.5447154 & 0.5920000 & 0.8125    & 0.6341463 & 0.6162791 & 0.5978261 & 0.7333333\\\\\n",
       "\tbrain\\_caudate\\_basal\\_ganglia\\_topsnp\\_allgenes\\_jan16.tsv & 0.4373464 & 0.4852608 & 0.5847458 & 0.6233766 & 0.5344828 & 0.6565657 & 0.5851064 & 0.6097561 & 0.6854839 & 0.7500    & 0.6341463 & 0.6395349 & 0.6304348 & 0.8000000\\\\\n",
       "\tbrain\\_cerebellar\\_hemisphere\\_topsnp\\_allgenes\\_jan16.tsv & 0.4433498 & 0.4863636 & 0.5677966 & 0.6103896 & 0.5517241 & 0.6464646 & 0.6489362 & 0.6229508 & 0.6666667 & 0.8125    & 0.7073171 & 0.6705882 & 0.5652174 & 0.6666667\\\\\n",
       "\tbrain\\_frontal\\_cortex\\_topsnp\\_allgenes\\_jan16.tsv & 0.4191176 & 0.4693878 & 0.6101695 & 0.5844156 & 0.5603448 & 0.6060606 & 0.5638298 & 0.6422764 & 0.6000000 & 0.6875    & 0.7317073 & 0.6395349 & 0.6195652 & 0.7333333\\\\\n",
       "\tbrain\\_hypothalamus\\_topsnp\\_allgenes\\_jan16.tsv & 0.3602941 & 0.3990930 & 0.4915254 & 0.4805195 & 0.4396552 & 0.5555556 & 0.5319149 & 0.5934959 & 0.5680000 & 0.6875    & 0.6829268 & 0.6046512 & 0.6195652 & 0.6000000\\\\\n",
       "\\end{tabular}\n"
      ],
      "text/markdown": [
       "\n",
       "| <!--/--> | FPP_D11 | P_FPP_D11 | DA_D30 | Sert_D30 | Epen1_D30 | FPP_D30 | DA_D52 | Sert_D52 | Epen1_D52 | Astro_D52 | DA_ROT_D52 | Sert_ROT_D52 | Epen1_ROT_D52 | Astro_ROT_D52 |\n",
       "|---|---|---|---|---|---|---|---|---|---|---|---|---|---|---|\n",
       "| brain_amygdala_topsnp_allgenes_jan16.tsv | 0.3431373 | 0.3537415 | 0.4491525 | 0.5324675 | 0.4655172 | 0.5757576 | 0.5000000 | 0.5691057 | 0.5564516 | 0.7500    | 0.6341463 | 0.6046512 | 0.5434783 | 0.8666667 |\n",
       "| brain_anterior_cingulate_cortex_topsnp_allgenes_jan16.tsv | 0.3750000 | 0.4104308 | 0.5254237 | 0.5844156 | 0.5258621 | 0.5656566 | 0.5106383 | 0.5447154 | 0.5920000 | 0.8125    | 0.6341463 | 0.6162791 | 0.5978261 | 0.7333333 |\n",
       "| brain_caudate_basal_ganglia_topsnp_allgenes_jan16.tsv | 0.4373464 | 0.4852608 | 0.5847458 | 0.6233766 | 0.5344828 | 0.6565657 | 0.5851064 | 0.6097561 | 0.6854839 | 0.7500    | 0.6341463 | 0.6395349 | 0.6304348 | 0.8000000 |\n",
       "| brain_cerebellar_hemisphere_topsnp_allgenes_jan16.tsv | 0.4433498 | 0.4863636 | 0.5677966 | 0.6103896 | 0.5517241 | 0.6464646 | 0.6489362 | 0.6229508 | 0.6666667 | 0.8125    | 0.7073171 | 0.6705882 | 0.5652174 | 0.6666667 |\n",
       "| brain_frontal_cortex_topsnp_allgenes_jan16.tsv | 0.4191176 | 0.4693878 | 0.6101695 | 0.5844156 | 0.5603448 | 0.6060606 | 0.5638298 | 0.6422764 | 0.6000000 | 0.6875    | 0.7317073 | 0.6395349 | 0.6195652 | 0.7333333 |\n",
       "| brain_hypothalamus_topsnp_allgenes_jan16.tsv | 0.3602941 | 0.3990930 | 0.4915254 | 0.4805195 | 0.4396552 | 0.5555556 | 0.5319149 | 0.5934959 | 0.5680000 | 0.6875    | 0.6829268 | 0.6046512 | 0.6195652 | 0.6000000 |\n",
       "\n"
      ],
      "text/plain": [
       "                                                          FPP_D11   P_FPP_D11\n",
       "brain_amygdala_topsnp_allgenes_jan16.tsv                  0.3431373 0.3537415\n",
       "brain_anterior_cingulate_cortex_topsnp_allgenes_jan16.tsv 0.3750000 0.4104308\n",
       "brain_caudate_basal_ganglia_topsnp_allgenes_jan16.tsv     0.4373464 0.4852608\n",
       "brain_cerebellar_hemisphere_topsnp_allgenes_jan16.tsv     0.4433498 0.4863636\n",
       "brain_frontal_cortex_topsnp_allgenes_jan16.tsv            0.4191176 0.4693878\n",
       "brain_hypothalamus_topsnp_allgenes_jan16.tsv              0.3602941 0.3990930\n",
       "                                                          DA_D30    Sert_D30 \n",
       "brain_amygdala_topsnp_allgenes_jan16.tsv                  0.4491525 0.5324675\n",
       "brain_anterior_cingulate_cortex_topsnp_allgenes_jan16.tsv 0.5254237 0.5844156\n",
       "brain_caudate_basal_ganglia_topsnp_allgenes_jan16.tsv     0.5847458 0.6233766\n",
       "brain_cerebellar_hemisphere_topsnp_allgenes_jan16.tsv     0.5677966 0.6103896\n",
       "brain_frontal_cortex_topsnp_allgenes_jan16.tsv            0.6101695 0.5844156\n",
       "brain_hypothalamus_topsnp_allgenes_jan16.tsv              0.4915254 0.4805195\n",
       "                                                          Epen1_D30 FPP_D30  \n",
       "brain_amygdala_topsnp_allgenes_jan16.tsv                  0.4655172 0.5757576\n",
       "brain_anterior_cingulate_cortex_topsnp_allgenes_jan16.tsv 0.5258621 0.5656566\n",
       "brain_caudate_basal_ganglia_topsnp_allgenes_jan16.tsv     0.5344828 0.6565657\n",
       "brain_cerebellar_hemisphere_topsnp_allgenes_jan16.tsv     0.5517241 0.6464646\n",
       "brain_frontal_cortex_topsnp_allgenes_jan16.tsv            0.5603448 0.6060606\n",
       "brain_hypothalamus_topsnp_allgenes_jan16.tsv              0.4396552 0.5555556\n",
       "                                                          DA_D52    Sert_D52 \n",
       "brain_amygdala_topsnp_allgenes_jan16.tsv                  0.5000000 0.5691057\n",
       "brain_anterior_cingulate_cortex_topsnp_allgenes_jan16.tsv 0.5106383 0.5447154\n",
       "brain_caudate_basal_ganglia_topsnp_allgenes_jan16.tsv     0.5851064 0.6097561\n",
       "brain_cerebellar_hemisphere_topsnp_allgenes_jan16.tsv     0.6489362 0.6229508\n",
       "brain_frontal_cortex_topsnp_allgenes_jan16.tsv            0.5638298 0.6422764\n",
       "brain_hypothalamus_topsnp_allgenes_jan16.tsv              0.5319149 0.5934959\n",
       "                                                          Epen1_D52 Astro_D52\n",
       "brain_amygdala_topsnp_allgenes_jan16.tsv                  0.5564516 0.7500   \n",
       "brain_anterior_cingulate_cortex_topsnp_allgenes_jan16.tsv 0.5920000 0.8125   \n",
       "brain_caudate_basal_ganglia_topsnp_allgenes_jan16.tsv     0.6854839 0.7500   \n",
       "brain_cerebellar_hemisphere_topsnp_allgenes_jan16.tsv     0.6666667 0.8125   \n",
       "brain_frontal_cortex_topsnp_allgenes_jan16.tsv            0.6000000 0.6875   \n",
       "brain_hypothalamus_topsnp_allgenes_jan16.tsv              0.5680000 0.6875   \n",
       "                                                          DA_ROT_D52\n",
       "brain_amygdala_topsnp_allgenes_jan16.tsv                  0.6341463 \n",
       "brain_anterior_cingulate_cortex_topsnp_allgenes_jan16.tsv 0.6341463 \n",
       "brain_caudate_basal_ganglia_topsnp_allgenes_jan16.tsv     0.6341463 \n",
       "brain_cerebellar_hemisphere_topsnp_allgenes_jan16.tsv     0.7073171 \n",
       "brain_frontal_cortex_topsnp_allgenes_jan16.tsv            0.7317073 \n",
       "brain_hypothalamus_topsnp_allgenes_jan16.tsv              0.6829268 \n",
       "                                                          Sert_ROT_D52\n",
       "brain_amygdala_topsnp_allgenes_jan16.tsv                  0.6046512   \n",
       "brain_anterior_cingulate_cortex_topsnp_allgenes_jan16.tsv 0.6162791   \n",
       "brain_caudate_basal_ganglia_topsnp_allgenes_jan16.tsv     0.6395349   \n",
       "brain_cerebellar_hemisphere_topsnp_allgenes_jan16.tsv     0.6705882   \n",
       "brain_frontal_cortex_topsnp_allgenes_jan16.tsv            0.6395349   \n",
       "brain_hypothalamus_topsnp_allgenes_jan16.tsv              0.6046512   \n",
       "                                                          Epen1_ROT_D52\n",
       "brain_amygdala_topsnp_allgenes_jan16.tsv                  0.5434783    \n",
       "brain_anterior_cingulate_cortex_topsnp_allgenes_jan16.tsv 0.5978261    \n",
       "brain_caudate_basal_ganglia_topsnp_allgenes_jan16.tsv     0.6304348    \n",
       "brain_cerebellar_hemisphere_topsnp_allgenes_jan16.tsv     0.5652174    \n",
       "brain_frontal_cortex_topsnp_allgenes_jan16.tsv            0.6195652    \n",
       "brain_hypothalamus_topsnp_allgenes_jan16.tsv              0.6195652    \n",
       "                                                          Astro_ROT_D52\n",
       "brain_amygdala_topsnp_allgenes_jan16.tsv                  0.8666667    \n",
       "brain_anterior_cingulate_cortex_topsnp_allgenes_jan16.tsv 0.7333333    \n",
       "brain_caudate_basal_ganglia_topsnp_allgenes_jan16.tsv     0.8000000    \n",
       "brain_cerebellar_hemisphere_topsnp_allgenes_jan16.tsv     0.6666667    \n",
       "brain_frontal_cortex_topsnp_allgenes_jan16.tsv            0.7333333    \n",
       "brain_hypothalamus_topsnp_allgenes_jan16.tsv              0.6000000    "
      ]
     },
     "metadata": {},
     "output_type": "display_data"
    }
   ],
   "source": [
    "head(mat_to_plot)"
   ]
  },
  {
   "cell_type": "code",
   "execution_count": 69,
   "metadata": {},
   "outputs": [
    {
     "name": "stderr",
     "output_type": "stream",
     "text": [
      "Registered S3 methods overwritten by 'ggplot2':\n",
      "  method         from \n",
      "  [.quosures     rlang\n",
      "  c.quosures     rlang\n",
      "  print.quosures rlang\n"
     ]
    },
    {
     "data": {
      "text/html": [
       "<table>\n",
       "<thead><tr><th scope=col>CellType</th><th scope=col>Sharing</th></tr></thead>\n",
       "<tbody>\n",
       "\t<tr><td>FPP_D11  </td><td>0.3431373</td></tr>\n",
       "\t<tr><td>FPP_D11  </td><td>0.3750000</td></tr>\n",
       "</tbody>\n",
       "</table>\n"
      ],
      "text/latex": [
       "\\begin{tabular}{r|ll}\n",
       " CellType & Sharing\\\\\n",
       "\\hline\n",
       "\t FPP\\_D11 & 0.3431373\\\\\n",
       "\t FPP\\_D11 & 0.3750000\\\\\n",
       "\\end{tabular}\n"
      ],
      "text/markdown": [
       "\n",
       "| CellType | Sharing |\n",
       "|---|---|\n",
       "| FPP_D11   | 0.3431373 |\n",
       "| FPP_D11   | 0.3750000 |\n",
       "\n"
      ],
      "text/plain": [
       "  CellType Sharing  \n",
       "1 FPP_D11  0.3431373\n",
       "2 FPP_D11  0.3750000"
      ]
     },
     "metadata": {},
     "output_type": "display_data"
    }
   ],
   "source": [
    "library(tidyr)\n",
    "library(ggplot2)\n",
    "# library(dplyr)\n",
    "options(repr.plot.width=8, repr.plot.height=6)\n",
    "df = as.data.frame(mat_to_plot) %>% \n",
    "  gather(key=\"CellType\", value=\"Sharing\")\n",
    "\n",
    "head(df,2)"
   ]
  },
  {
   "cell_type": "code",
   "execution_count": 74,
   "metadata": {},
   "outputs": [
    {
     "data": {
      "text/html": [
       "<ol class=list-inline>\n",
       "\t<li>FPP_D11</li>\n",
       "\t<li>P_FPP_D11</li>\n",
       "\t<li>DA_D30</li>\n",
       "\t<li>Sert_D30</li>\n",
       "\t<li>Epen1_D30</li>\n",
       "\t<li>FPP_D30</li>\n",
       "\t<li>DA_D52</li>\n",
       "\t<li>Sert_D52</li>\n",
       "\t<li>Epen1_D52</li>\n",
       "\t<li>Astro_D52</li>\n",
       "\t<li>DA_ROT_D52</li>\n",
       "\t<li>Sert_ROT_D52</li>\n",
       "\t<li>Epen1_ROT_D52</li>\n",
       "\t<li>Astro_ROT_D52</li>\n",
       "</ol>\n",
       "\n",
       "<details>\n",
       "\t<summary style=display:list-item;cursor:pointer>\n",
       "\t\t<strong>Levels</strong>:\n",
       "\t</summary>\n",
       "\t<ol class=list-inline>\n",
       "\t\t<li>'Astro_D52'</li>\n",
       "\t\t<li>'Astro_ROT_D52'</li>\n",
       "\t\t<li>'DA_D30'</li>\n",
       "\t\t<li>'DA_D52'</li>\n",
       "\t\t<li>'DA_ROT_D52'</li>\n",
       "\t\t<li>'Epen1_D30'</li>\n",
       "\t\t<li>'Epen1_D52'</li>\n",
       "\t\t<li>'Epen1_ROT_D52'</li>\n",
       "\t\t<li>'FPP_D11'</li>\n",
       "\t\t<li>'FPP_D30'</li>\n",
       "\t\t<li>'P_FPP_D11'</li>\n",
       "\t\t<li>'Sert_D30'</li>\n",
       "\t\t<li>'Sert_D52'</li>\n",
       "\t\t<li>'Sert_ROT_D52'</li>\n",
       "\t</ol>\n",
       "</details>"
      ],
      "text/latex": [
       "\\begin{enumerate*}\n",
       "\\item FPP\\_D11\n",
       "\\item P\\_FPP\\_D11\n",
       "\\item DA\\_D30\n",
       "\\item Sert\\_D30\n",
       "\\item Epen1\\_D30\n",
       "\\item FPP\\_D30\n",
       "\\item DA\\_D52\n",
       "\\item Sert\\_D52\n",
       "\\item Epen1\\_D52\n",
       "\\item Astro\\_D52\n",
       "\\item DA\\_ROT\\_D52\n",
       "\\item Sert\\_ROT\\_D52\n",
       "\\item Epen1\\_ROT\\_D52\n",
       "\\item Astro\\_ROT\\_D52\n",
       "\\end{enumerate*}\n",
       "\n",
       "\\emph{Levels}: \\begin{enumerate*}\n",
       "\\item 'Astro\\_D52'\n",
       "\\item 'Astro\\_ROT\\_D52'\n",
       "\\item 'DA\\_D30'\n",
       "\\item 'DA\\_D52'\n",
       "\\item 'DA\\_ROT\\_D52'\n",
       "\\item 'Epen1\\_D30'\n",
       "\\item 'Epen1\\_D52'\n",
       "\\item 'Epen1\\_ROT\\_D52'\n",
       "\\item 'FPP\\_D11'\n",
       "\\item 'FPP\\_D30'\n",
       "\\item 'P\\_FPP\\_D11'\n",
       "\\item 'Sert\\_D30'\n",
       "\\item 'Sert\\_D52'\n",
       "\\item 'Sert\\_ROT\\_D52'\n",
       "\\end{enumerate*}\n"
      ],
      "text/markdown": [
       "1. FPP_D11\n",
       "2. P_FPP_D11\n",
       "3. DA_D30\n",
       "4. Sert_D30\n",
       "5. Epen1_D30\n",
       "6. FPP_D30\n",
       "7. DA_D52\n",
       "8. Sert_D52\n",
       "9. Epen1_D52\n",
       "10. Astro_D52\n",
       "11. DA_ROT_D52\n",
       "12. Sert_ROT_D52\n",
       "13. Epen1_ROT_D52\n",
       "14. Astro_ROT_D52\n",
       "\n",
       "\n",
       "\n",
       "**Levels**: 1. 'Astro_D52'\n",
       "2. 'Astro_ROT_D52'\n",
       "3. 'DA_D30'\n",
       "4. 'DA_D52'\n",
       "5. 'DA_ROT_D52'\n",
       "6. 'Epen1_D30'\n",
       "7. 'Epen1_D52'\n",
       "8. 'Epen1_ROT_D52'\n",
       "9. 'FPP_D11'\n",
       "10. 'FPP_D30'\n",
       "11. 'P_FPP_D11'\n",
       "12. 'Sert_D30'\n",
       "13. 'Sert_D52'\n",
       "14. 'Sert_ROT_D52'\n",
       "\n",
       "\n"
      ],
      "text/plain": [
       " [1] FPP_D11       P_FPP_D11     DA_D30        Sert_D30      Epen1_D30    \n",
       " [6] FPP_D30       DA_D52        Sert_D52      Epen1_D52     Astro_D52    \n",
       "[11] DA_ROT_D52    Sert_ROT_D52  Epen1_ROT_D52 Astro_ROT_D52\n",
       "14 Levels: Astro_D52 Astro_ROT_D52 DA_D30 DA_D52 DA_ROT_D52 ... Sert_ROT_D52"
      ]
     },
     "metadata": {},
     "output_type": "display_data"
    }
   ],
   "source": [
    "celltypes"
   ]
  },
  {
   "cell_type": "code",
   "execution_count": 71,
   "metadata": {},
   "outputs": [],
   "source": [
    "col_FPP = \"#aec7e8\"\n",
    "col_P_FPP = \"#1f77b4\"\n",
    "# col_NB = \"#ff7f0e\"\n",
    "\n",
    "col_DA = \"#2ca02c\"\n",
    "col_Sert = \"#98df8a\"\n",
    "col_Epen1 = \"#ff9896\"\n",
    "# col_Astro = \"#d62728\"\n",
    "col_Astro = \"#9467bd\""
   ]
  },
  {
   "cell_type": "code",
   "execution_count": 75,
   "metadata": {},
   "outputs": [
    {
     "data": {
      "text/html": [
       "<table>\n",
       "<thead><tr><th scope=col>CellType</th><th scope=col>Sharing</th></tr></thead>\n",
       "<tbody>\n",
       "\t<tr><td>FPP_D11  </td><td>0.3431373</td></tr>\n",
       "\t<tr><td>FPP_D11  </td><td>0.3750000</td></tr>\n",
       "\t<tr><td>FPP_D11  </td><td>0.4373464</td></tr>\n",
       "\t<tr><td>FPP_D11  </td><td>0.4433498</td></tr>\n",
       "\t<tr><td>FPP_D11  </td><td>0.4191176</td></tr>\n",
       "\t<tr><td>FPP_D11  </td><td>0.3602941</td></tr>\n",
       "</tbody>\n",
       "</table>\n"
      ],
      "text/latex": [
       "\\begin{tabular}{r|ll}\n",
       " CellType & Sharing\\\\\n",
       "\\hline\n",
       "\t FPP\\_D11 & 0.3431373\\\\\n",
       "\t FPP\\_D11 & 0.3750000\\\\\n",
       "\t FPP\\_D11 & 0.4373464\\\\\n",
       "\t FPP\\_D11 & 0.4433498\\\\\n",
       "\t FPP\\_D11 & 0.4191176\\\\\n",
       "\t FPP\\_D11 & 0.3602941\\\\\n",
       "\\end{tabular}\n"
      ],
      "text/markdown": [
       "\n",
       "| CellType | Sharing |\n",
       "|---|---|\n",
       "| FPP_D11   | 0.3431373 |\n",
       "| FPP_D11   | 0.3750000 |\n",
       "| FPP_D11   | 0.4373464 |\n",
       "| FPP_D11   | 0.4433498 |\n",
       "| FPP_D11   | 0.4191176 |\n",
       "| FPP_D11   | 0.3602941 |\n",
       "\n"
      ],
      "text/plain": [
       "  CellType Sharing  \n",
       "1 FPP_D11  0.3431373\n",
       "2 FPP_D11  0.3750000\n",
       "3 FPP_D11  0.4373464\n",
       "4 FPP_D11  0.4433498\n",
       "5 FPP_D11  0.4191176\n",
       "6 FPP_D11  0.3602941"
      ]
     },
     "metadata": {},
     "output_type": "display_data"
    }
   ],
   "source": [
    "head(df)"
   ]
  },
  {
   "cell_type": "code",
   "execution_count": 81,
   "metadata": {},
   "outputs": [],
   "source": [
    "df = df %>% mutate(CellType = factor(CellType, levels=celltypes))"
   ]
  },
  {
   "cell_type": "code",
   "execution_count": 84,
   "metadata": {},
   "outputs": [
    {
     "data": {
      "image/png": "[encoded data removed]",
      "text/plain": [
       "plot without title"
      ]
     },
     "metadata": {},
     "output_type": "display_data"
    }
   ],
   "source": [
    "options(repr.plot.width=10, repr.plot.height=7)\n",
    "ggplot(df,aes(x=CellType, y=1-Sharing, fill=CellType)) +  \n",
    "    geom_violin() + \n",
    "    geom_boxplot(width = 0.2) + scale_fill_manual(values = c(col_FPP,col_P_FPP,\n",
    "                            col_FPP,col_DA,col_Sert,col_Epen1,\n",
    "                            col_DA,col_Sert,col_Epen1,col_Astro,\n",
    "                            col_DA,col_Sert,col_Epen1,col_Astro))+ theme_bw() + theme(legend.position = \"none\") "
   ]
  },
  {
   "cell_type": "code",
   "execution_count": null,
   "metadata": {},
   "outputs": [],
   "source": []
  }
 ],
 "metadata": {
  "kernelspec": {
   "display_name": "R",
   "language": "R",
   "name": "ir"
  },
  "language_info": {
   "codemirror_mode": "r",
   "file_extension": ".r",
   "mimetype": "text/x-r-source",
   "name": "R",
   "pygments_lexer": "r",
   "version": "3.6.1"
  }
 },
 "nbformat": 4,
 "nbformat_minor": 4
}
