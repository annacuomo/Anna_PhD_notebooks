{
 "cells": [
  {
   "cell_type": "code",
   "execution_count": 3,
   "metadata": {},
   "outputs": [
    {
     "data": {
      "text/html": [
       "<ol class=list-inline>\n",
       "\t<li>'Adipose_Subcutaneous.v7.egenes.txt'</li>\n",
       "\t<li>'Adipose_Visceral_Omentum.v7.egenes.txt'</li>\n",
       "\t<li>'Adrenal_Gland.v7.egenes.txt'</li>\n",
       "\t<li>'Artery_Aorta.v7.egenes.txt'</li>\n",
       "\t<li>'Artery_Coronary.v7.egenes.txt'</li>\n",
       "\t<li>'Artery_Tibial.v7.egenes.txt'</li>\n",
       "</ol>\n"
      ],
      "text/latex": [
       "\\begin{enumerate*}\n",
       "\\item 'Adipose\\_Subcutaneous.v7.egenes.txt'\n",
       "\\item 'Adipose\\_Visceral\\_Omentum.v7.egenes.txt'\n",
       "\\item 'Adrenal\\_Gland.v7.egenes.txt'\n",
       "\\item 'Artery\\_Aorta.v7.egenes.txt'\n",
       "\\item 'Artery\\_Coronary.v7.egenes.txt'\n",
       "\\item 'Artery\\_Tibial.v7.egenes.txt'\n",
       "\\end{enumerate*}\n"
      ],
      "text/markdown": [
       "1. 'Adipose_Subcutaneous.v7.egenes.txt'\n",
       "2. 'Adipose_Visceral_Omentum.v7.egenes.txt'\n",
       "3. 'Adrenal_Gland.v7.egenes.txt'\n",
       "4. 'Artery_Aorta.v7.egenes.txt'\n",
       "5. 'Artery_Coronary.v7.egenes.txt'\n",
       "6. 'Artery_Tibial.v7.egenes.txt'\n",
       "\n",
       "\n"
      ],
      "text/plain": [
       "[1] \"Adipose_Subcutaneous.v7.egenes.txt\"    \n",
       "[2] \"Adipose_Visceral_Omentum.v7.egenes.txt\"\n",
       "[3] \"Adrenal_Gland.v7.egenes.txt\"           \n",
       "[4] \"Artery_Aorta.v7.egenes.txt\"            \n",
       "[5] \"Artery_Coronary.v7.egenes.txt\"         \n",
       "[6] \"Artery_Tibial.v7.egenes.txt\"           "
      ]
     },
     "metadata": {},
     "output_type": "display_data"
    }
   ],
   "source": [
    "gtex_folder = \"/hps/nobackup/hipsci/scratch/GTEx/GTEx_Analysis_v7_eQTL/\"\n",
    "head(list.files(gtex_folder,\".egenes.txt\"))"
   ]
  },
  {
   "cell_type": "code",
   "execution_count": 4,
   "metadata": {},
   "outputs": [
    {
     "data": {
      "text/html": [
       "48"
      ],
      "text/latex": [
       "48"
      ],
      "text/markdown": [
       "48"
      ],
      "text/plain": [
       "[1] 48"
      ]
     },
     "metadata": {},
     "output_type": "display_data"
    },
    {
     "data": {
      "text/html": [
       "<ol class=list-inline>\n",
       "\t<li>'/hps/nobackup/hipsci/scratch/GTEx/GTEx_Analysis_v7_eQTL/Adipose_Subcutaneous.v7.egenes.txt'</li>\n",
       "\t<li>'/hps/nobackup/hipsci/scratch/GTEx/GTEx_Analysis_v7_eQTL/Adipose_Visceral_Omentum.v7.egenes.txt'</li>\n",
       "</ol>\n"
      ],
      "text/latex": [
       "\\begin{enumerate*}\n",
       "\\item '/hps/nobackup/hipsci/scratch/GTEx/GTEx\\_Analysis\\_v7\\_eQTL/Adipose\\_Subcutaneous.v7.egenes.txt'\n",
       "\\item '/hps/nobackup/hipsci/scratch/GTEx/GTEx\\_Analysis\\_v7\\_eQTL/Adipose\\_Visceral\\_Omentum.v7.egenes.txt'\n",
       "\\end{enumerate*}\n"
      ],
      "text/markdown": [
       "1. '/hps/nobackup/hipsci/scratch/GTEx/GTEx_Analysis_v7_eQTL/Adipose_Subcutaneous.v7.egenes.txt'\n",
       "2. '/hps/nobackup/hipsci/scratch/GTEx/GTEx_Analysis_v7_eQTL/Adipose_Visceral_Omentum.v7.egenes.txt'\n",
       "\n",
       "\n"
      ],
      "text/plain": [
       "[1] \"/hps/nobackup/hipsci/scratch/GTEx/GTEx_Analysis_v7_eQTL/Adipose_Subcutaneous.v7.egenes.txt\"    \n",
       "[2] \"/hps/nobackup/hipsci/scratch/GTEx/GTEx_Analysis_v7_eQTL/Adipose_Visceral_Omentum.v7.egenes.txt\""
      ]
     },
     "metadata": {},
     "output_type": "display_data"
    }
   ],
   "source": [
    "files = paste0(gtex_folder, list.files(gtex_folder,\".egenes.txt\"))\n",
    "length(files)\n",
    "head(files,2)"
   ]
  },
  {
   "cell_type": "code",
   "execution_count": 5,
   "metadata": {},
   "outputs": [
    {
     "data": {
      "text/html": [
       "<ol class=list-inline>\n",
       "\t<li>'/hps/nobackup/hipsci/scratch/GTEx/GTEx_Analysis_v7_eQTL/Brain_Amygdala.v7.egenes.txt'</li>\n",
       "\t<li>'/hps/nobackup/hipsci/scratch/GTEx/GTEx_Analysis_v7_eQTL/Brain_Anterior_cingulate_cortex_BA24.v7.egenes.txt'</li>\n",
       "</ol>\n"
      ],
      "text/latex": [
       "\\begin{enumerate*}\n",
       "\\item '/hps/nobackup/hipsci/scratch/GTEx/GTEx\\_Analysis\\_v7\\_eQTL/Brain\\_Amygdala.v7.egenes.txt'\n",
       "\\item '/hps/nobackup/hipsci/scratch/GTEx/GTEx\\_Analysis\\_v7\\_eQTL/Brain\\_Anterior\\_cingulate\\_cortex\\_BA24.v7.egenes.txt'\n",
       "\\end{enumerate*}\n"
      ],
      "text/markdown": [
       "1. '/hps/nobackup/hipsci/scratch/GTEx/GTEx_Analysis_v7_eQTL/Brain_Amygdala.v7.egenes.txt'\n",
       "2. '/hps/nobackup/hipsci/scratch/GTEx/GTEx_Analysis_v7_eQTL/Brain_Anterior_cingulate_cortex_BA24.v7.egenes.txt'\n",
       "\n",
       "\n"
      ],
      "text/plain": [
       "[1] \"/hps/nobackup/hipsci/scratch/GTEx/GTEx_Analysis_v7_eQTL/Brain_Amygdala.v7.egenes.txt\"                      \n",
       "[2] \"/hps/nobackup/hipsci/scratch/GTEx/GTEx_Analysis_v7_eQTL/Brain_Anterior_cingulate_cortex_BA24.v7.egenes.txt\""
      ]
     },
     "metadata": {},
     "output_type": "display_data"
    },
    {
     "data": {
      "text/html": [
       "13"
      ],
      "text/latex": [
       "13"
      ],
      "text/markdown": [
       "13"
      ],
      "text/plain": [
       "[1] 13"
      ]
     },
     "metadata": {},
     "output_type": "display_data"
    },
    {
     "data": {
      "text/html": [
       "<ol class=list-inline>\n",
       "\t<li>'/hps/nobackup/hipsci/scratch/GTEx/GTEx_Analysis_v7_eQTL/Adipose_Subcutaneous.v7.egenes.txt'</li>\n",
       "\t<li>'/hps/nobackup/hipsci/scratch/GTEx/GTEx_Analysis_v7_eQTL/Adipose_Visceral_Omentum.v7.egenes.txt'</li>\n",
       "</ol>\n"
      ],
      "text/latex": [
       "\\begin{enumerate*}\n",
       "\\item '/hps/nobackup/hipsci/scratch/GTEx/GTEx\\_Analysis\\_v7\\_eQTL/Adipose\\_Subcutaneous.v7.egenes.txt'\n",
       "\\item '/hps/nobackup/hipsci/scratch/GTEx/GTEx\\_Analysis\\_v7\\_eQTL/Adipose\\_Visceral\\_Omentum.v7.egenes.txt'\n",
       "\\end{enumerate*}\n"
      ],
      "text/markdown": [
       "1. '/hps/nobackup/hipsci/scratch/GTEx/GTEx_Analysis_v7_eQTL/Adipose_Subcutaneous.v7.egenes.txt'\n",
       "2. '/hps/nobackup/hipsci/scratch/GTEx/GTEx_Analysis_v7_eQTL/Adipose_Visceral_Omentum.v7.egenes.txt'\n",
       "\n",
       "\n"
      ],
      "text/plain": [
       "[1] \"/hps/nobackup/hipsci/scratch/GTEx/GTEx_Analysis_v7_eQTL/Adipose_Subcutaneous.v7.egenes.txt\"    \n",
       "[2] \"/hps/nobackup/hipsci/scratch/GTEx/GTEx_Analysis_v7_eQTL/Adipose_Visceral_Omentum.v7.egenes.txt\""
      ]
     },
     "metadata": {},
     "output_type": "display_data"
    },
    {
     "data": {
      "text/html": [
       "35"
      ],
      "text/latex": [
       "35"
      ],
      "text/markdown": [
       "35"
      ],
      "text/plain": [
       "[1] 35"
      ]
     },
     "metadata": {},
     "output_type": "display_data"
    }
   ],
   "source": [
    "brain_files = files[grep(\"Brain\",files)]\n",
    "head(brain_files,2)\n",
    "length(brain_files)\n",
    "# \n",
    "non_brain_files = files[!(files %in% brain_files)]\n",
    "head(non_brain_files,2)\n",
    "length(non_brain_files)"
   ]
  },
  {
   "cell_type": "code",
   "execution_count": 6,
   "metadata": {},
   "outputs": [],
   "source": [
    "eqtls = c()\n",
    "for (file in non_brain_files){\n",
    "    df = read.csv(file, sep = \"\\t\")\n",
    "    df$feature_id = gsub(\"\\\\..*\",\"\",df$gene_id)\n",
    "    df$snp_id = gsub(\"_b37\",\"\",df$variant_id)\n",
    "    df0 = df[df$qval<0.05,]\n",
    "    df0$eqtl = paste0(df0$feature_id,\"-\",df0$snp_id)\n",
    "    eqtls = unique(c(eqtls, df0$eqtl))\n",
    "}\n",
    "eqtl_non_brain = eqtls"
   ]
  },
  {
   "cell_type": "code",
   "execution_count": 7,
   "metadata": {},
   "outputs": [],
   "source": [
    "eqtls = c()\n",
    "for (file in brain_files){\n",
    "    df = read.csv(file, sep = \"\\t\")\n",
    "    df$feature_id = gsub(\"\\\\..*\",\"\",df$gene_id)\n",
    "    df$snp_id = gsub(\"_b37\",\"\",df$variant_id)\n",
    "    df0 = df[df$qval<0.05,]\n",
    "    df0$eqtl = paste0(df0$feature_id,\"-\",df0$snp_id)\n",
    "    eqtls = unique(c(eqtls, df0$eqtl))\n",
    "}\n",
    "eqtl_brain = eqtls"
   ]
  },
  {
   "cell_type": "code",
   "execution_count": 8,
   "metadata": {},
   "outputs": [
    {
     "data": {
      "text/html": [
       "46205"
      ],
      "text/latex": [
       "46205"
      ],
      "text/markdown": [
       "46205"
      ],
      "text/plain": [
       "[1] 46205"
      ]
     },
     "metadata": {},
     "output_type": "display_data"
    },
    {
     "data": {
      "text/html": [
       "202237"
      ],
      "text/latex": [
       "202237"
      ],
      "text/markdown": [
       "202237"
      ],
      "text/plain": [
       "[1] 202237"
      ]
     },
     "metadata": {},
     "output_type": "display_data"
    }
   ],
   "source": [
    "length(eqtl_brain)\n",
    "length(eqtl_non_brain)"
   ]
  },
  {
   "cell_type": "code",
   "execution_count": 9,
   "metadata": {},
   "outputs": [
    {
     "data": {
      "text/html": [
       "37164"
      ],
      "text/latex": [
       "37164"
      ],
      "text/markdown": [
       "37164"
      ],
      "text/plain": [
       "[1] 37164"
      ]
     },
     "metadata": {},
     "output_type": "display_data"
    }
   ],
   "source": [
    "eqtl_brain_only = eqtl_brain[!(eqtl_brain %in% eqtl_non_brain)]\n",
    "length(eqtl_brain_only)"
   ]
  },
  {
   "cell_type": "code",
   "execution_count": 10,
   "metadata": {},
   "outputs": [],
   "source": [
    "myfolder = \"/hps/nobackup/stegle/users/acuomo/all_scripts/sc_neuroseq/eqtl/all_results_nominal_significance_p_0.05/\""
   ]
  },
  {
   "cell_type": "code",
   "execution_count": 11,
   "metadata": {},
   "outputs": [
    {
     "data": {
      "text/html": [
       "14"
      ],
      "text/latex": [
       "14"
      ],
      "text/markdown": [
       "14"
      ],
      "text/plain": [
       "[1] 14"
      ]
     },
     "metadata": {},
     "output_type": "display_data"
    },
    {
     "data": {
      "text/html": [
       "<ol class=list-inline>\n",
       "\t<li>'/hps/nobackup/stegle/users/acuomo/all_scripts/sc_neuroseq/eqtl/all_results_nominal_significance_p_0.05/Astro_D30_qtl_results_p_0.05.csv'</li>\n",
       "\t<li>'/hps/nobackup/stegle/users/acuomo/all_scripts/sc_neuroseq/eqtl/all_results_nominal_significance_p_0.05/Astro_D52_NONE_qtl_results_p_0.05.csv'</li>\n",
       "</ol>\n"
      ],
      "text/latex": [
       "\\begin{enumerate*}\n",
       "\\item '/hps/nobackup/stegle/users/acuomo/all\\_scripts/sc\\_neuroseq/eqtl/all\\_results\\_nominal\\_significance\\_p\\_0.05/Astro\\_D30\\_qtl\\_results\\_p\\_0.05.csv'\n",
       "\\item '/hps/nobackup/stegle/users/acuomo/all\\_scripts/sc\\_neuroseq/eqtl/all\\_results\\_nominal\\_significance\\_p\\_0.05/Astro\\_D52\\_NONE\\_qtl\\_results\\_p\\_0.05.csv'\n",
       "\\end{enumerate*}\n"
      ],
      "text/markdown": [
       "1. '/hps/nobackup/stegle/users/acuomo/all_scripts/sc_neuroseq/eqtl/all_results_nominal_significance_p_0.05/Astro_D30_qtl_results_p_0.05.csv'\n",
       "2. '/hps/nobackup/stegle/users/acuomo/all_scripts/sc_neuroseq/eqtl/all_results_nominal_significance_p_0.05/Astro_D52_NONE_qtl_results_p_0.05.csv'\n",
       "\n",
       "\n"
      ],
      "text/plain": [
       "[1] \"/hps/nobackup/stegle/users/acuomo/all_scripts/sc_neuroseq/eqtl/all_results_nominal_significance_p_0.05/Astro_D30_qtl_results_p_0.05.csv\"     \n",
       "[2] \"/hps/nobackup/stegle/users/acuomo/all_scripts/sc_neuroseq/eqtl/all_results_nominal_significance_p_0.05/Astro_D52_NONE_qtl_results_p_0.05.csv\""
      ]
     },
     "metadata": {},
     "output_type": "display_data"
    }
   ],
   "source": [
    "neuro_files = paste0(myfolder,list.files(myfolder))\n",
    "length(neuro_files)\n",
    "head(neuro_files,2)"
   ]
  },
  {
   "cell_type": "code",
   "execution_count": 12,
   "metadata": {},
   "outputs": [],
   "source": [
    "nom_neuro_eqtls = c()\n",
    "for (file in neuro_files){\n",
    "    df = read.csv(file)\n",
    "    df$eqtl = paste0(df$feature_id,\"-\",df$snp_id)\n",
    "    nom_neuro_eqtls = unique(c(nom_neuro_eqtls, df$eqtl))\n",
    "}"
   ]
  },
  {
   "cell_type": "code",
   "execution_count": 13,
   "metadata": {},
   "outputs": [
    {
     "data": {
      "text/html": [
       "10073"
      ],
      "text/latex": [
       "10073"
      ],
      "text/markdown": [
       "10073"
      ],
      "text/plain": [
       "[1] 10073"
      ]
     },
     "metadata": {},
     "output_type": "display_data"
    },
    {
     "data": {
      "text/html": [
       "10357"
      ],
      "text/latex": [
       "10357"
      ],
      "text/markdown": [
       "10357"
      ],
      "text/plain": [
       "[1] 10357"
      ]
     },
     "metadata": {},
     "output_type": "display_data"
    },
    {
     "data": {
      "text/html": [
       "10360"
      ],
      "text/latex": [
       "10360"
      ],
      "text/markdown": [
       "10360"
      ],
      "text/plain": [
       "[1] 10360"
      ]
     },
     "metadata": {},
     "output_type": "display_data"
    },
    {
     "data": {
      "text/html": [
       "10549"
      ],
      "text/latex": [
       "10549"
      ],
      "text/markdown": [
       "10549"
      ],
      "text/plain": [
       "[1] 10549"
      ]
     },
     "metadata": {},
     "output_type": "display_data"
    }
   ],
   "source": [
    "df_d11 = read.csv(\"/hps/nobackup/stegle/users/acuomo/all_scripts/sc_neuroseq/eqtl/genes_expressed_at_d11.csv\")\n",
    "genes_d11 = as.character(df_d11$genes)\n",
    "length(genes_d11)\n",
    "df_d30 = read.csv(\"/hps/nobackup/stegle/users/acuomo/all_scripts/sc_neuroseq/eqtl/genes_expressed_at_d30.csv\")\n",
    "genes_d30 = as.character(df_d30$genes)\n",
    "length(genes_d30)\n",
    "df_d52 = read.csv(\"/hps/nobackup/stegle/users/acuomo/all_scripts/sc_neuroseq/eqtl/genes_expressed_in_at_least_one_condition_d52.csv\")\n",
    "genes_d52 = as.character(df_d52$genes)\n",
    "length(genes_d52)\n",
    "all_genes = unique(c(genes_d11, genes_d30, genes_d52))\n",
    "length(all_genes)"
   ]
  },
  {
   "cell_type": "code",
   "execution_count": 14,
   "metadata": {},
   "outputs": [
    {
     "data": {
      "text/html": [
       "'/hps/nobackup/hipsci/scratch/GTEx/GTEx_Analysis_v7_eQTL/Brain_Substantia_nigra.v7.egenes.txt'"
      ],
      "text/latex": [
       "'/hps/nobackup/hipsci/scratch/GTEx/GTEx\\_Analysis\\_v7\\_eQTL/Brain\\_Substantia\\_nigra.v7.egenes.txt'"
      ],
      "text/markdown": [
       "'/hps/nobackup/hipsci/scratch/GTEx/GTEx_Analysis_v7_eQTL/Brain_Substantia_nigra.v7.egenes.txt'"
      ],
      "text/plain": [
       "[1] \"/hps/nobackup/hipsci/scratch/GTEx/GTEx_Analysis_v7_eQTL/Brain_Substantia_nigra.v7.egenes.txt\""
      ]
     },
     "metadata": {},
     "output_type": "display_data"
    },
    {
     "data": {
      "text/html": [
       "1156"
      ],
      "text/latex": [
       "1156"
      ],
      "text/markdown": [
       "1156"
      ],
      "text/plain": [
       "[1] 1156"
      ]
     },
     "metadata": {},
     "output_type": "display_data"
    },
    {
     "data": {
      "text/html": [
       "1156"
      ],
      "text/latex": [
       "1156"
      ],
      "text/markdown": [
       "1156"
      ],
      "text/plain": [
       "[1] 1156"
      ]
     },
     "metadata": {},
     "output_type": "display_data"
    }
   ],
   "source": [
    "# Substantia Nigra\n",
    "sn_file = files[grep(\"nigra\",files)]\n",
    "sn_file\n",
    "\n",
    "sn = read.csv(sn_file, sep =\"\\t\")\n",
    "sn$feature_id = gsub(\"\\\\..*\",\"\",sn$gene_id)\n",
    "sn$snp_id = gsub(\"_b37\",\"\",sn$variant_id)\n",
    "sn_sign = sn[sn$qval<0.05,]\n",
    "sn_sign$eqtl = paste0(sn_sign$feature_id,\"-\",sn_sign$snp_id)\n",
    "\n",
    "sn_eqtls = sn_sign$eqtl[!(sn_sign$eqtl %in% eqtl_non_brain)]\n",
    "length(sn_eqtls)\n",
    "sn_eqtls = sn_sign$eqtl[sn_sign$eqtl %in% eqtl_brain_only]\n",
    "length(sn_eqtls)"
   ]
  },
  {
   "cell_type": "code",
   "execution_count": 15,
   "metadata": {},
   "outputs": [
    {
     "data": {
      "text/html": [
       "1156"
      ],
      "text/latex": [
       "1156"
      ],
      "text/markdown": [
       "1156"
      ],
      "text/plain": [
       "[1] 1156"
      ]
     },
     "metadata": {},
     "output_type": "display_data"
    }
   ],
   "source": [
    "sn_egenes = unique(sn_sign[sn_sign$eqtl %in% sn_eqtls,'feature_id'])\n",
    "length(sn_egenes)"
   ]
  },
  {
   "cell_type": "code",
   "execution_count": 16,
   "metadata": {},
   "outputs": [
    {
     "data": {
      "text/html": [
       "727"
      ],
      "text/latex": [
       "727"
      ],
      "text/markdown": [
       "727"
      ],
      "text/plain": [
       "[1] 727"
      ]
     },
     "metadata": {},
     "output_type": "display_data"
    },
    {
     "data": {
      "text/html": [
       "493"
      ],
      "text/latex": [
       "493"
      ],
      "text/markdown": [
       "493"
      ],
      "text/plain": [
       "[1] 493"
      ]
     },
     "metadata": {},
     "output_type": "display_data"
    }
   ],
   "source": [
    "length(sn_sign$feature_id[sn_sign$feature_id %in% all_genes]) # out of 1,807 (40%)\n",
    "length(sn_egenes[sn_egenes %in% all_genes]) # out of 1,156 brain only (43%)"
   ]
  },
  {
   "cell_type": "code",
   "execution_count": 17,
   "metadata": {
    "scrolled": true
   },
   "outputs": [
    {
     "data": {
      "text/html": [
       "428"
      ],
      "text/latex": [
       "428"
      ],
      "text/markdown": [
       "428"
      ],
      "text/plain": [
       "[1] 428"
      ]
     },
     "metadata": {},
     "output_type": "display_data"
    },
    {
     "data": {
      "text/html": [
       "248"
      ],
      "text/latex": [
       "248"
      ],
      "text/markdown": [
       "248"
      ],
      "text/plain": [
       "[1] 248"
      ]
     },
     "metadata": {},
     "output_type": "display_data"
    }
   ],
   "source": [
    "length(sn_sign$eqtl[sn_sign$eqtl %in% nom_neuro_eqtls]) # out of 727/1,807 (24, 59%)\n",
    "length(sn_eqtls[sn_eqtls %in% nom_neuro_eqtls]) # out of 493/1,156 (21, 50%)"
   ]
  },
  {
   "cell_type": "code",
   "execution_count": 67,
   "metadata": {},
   "outputs": [
    {
     "data": {
      "text/html": [
       "'/hps/nobackup/hipsci/scratch/GTEx/GTEx_Analysis_v7_eQTL/Brain_Cerebellum.v7.egenes.txt'"
      ],
      "text/latex": [
       "'/hps/nobackup/hipsci/scratch/GTEx/GTEx\\_Analysis\\_v7\\_eQTL/Brain\\_Cerebellum.v7.egenes.txt'"
      ],
      "text/markdown": [
       "'/hps/nobackup/hipsci/scratch/GTEx/GTEx_Analysis_v7_eQTL/Brain_Cerebellum.v7.egenes.txt'"
      ],
      "text/plain": [
       "[1] \"/hps/nobackup/hipsci/scratch/GTEx/GTEx_Analysis_v7_eQTL/Brain_Cerebellum.v7.egenes.txt\""
      ]
     },
     "metadata": {},
     "output_type": "display_data"
    },
    {
     "data": {
      "text/html": [
       "8429"
      ],
      "text/latex": [
       "8429"
      ],
      "text/markdown": [
       "8429"
      ],
      "text/plain": [
       "[1] 8429"
      ]
     },
     "metadata": {},
     "output_type": "display_data"
    }
   ],
   "source": [
    "# Cerebellum\n",
    "cb_file = files[grep(\"erebellu\",files)]\n",
    "cb_file\n",
    "\n",
    "cb = read.csv(cb_file, sep =\"\\t\")\n",
    "cb$feature_id = gsub(\"\\\\..*\",\"\",cb$gene_id)\n",
    "cb$snp_id = gsub(\"_b37\",\"\",cb$variant_id)\n",
    "cb_sign = cb[cb$qval<0.05,]\n",
    "cb_sign$eqtl= paste0(cb_sign$feature_id,\"-\",cb_sign$snp_id)\n",
    "length(unique(cb_sign$eqtl))"
   ]
  },
  {
   "cell_type": "code",
   "execution_count": 65,
   "metadata": {},
   "outputs": [
    {
     "data": {
      "text/html": [
       "'/hps/nobackup/hipsci/scratch/GTEx/GTEx_Analysis_v7_eQTL/Brain_Cerebellum.v7.egenes.txt'"
      ],
      "text/latex": [
       "'/hps/nobackup/hipsci/scratch/GTEx/GTEx\\_Analysis\\_v7\\_eQTL/Brain\\_Cerebellum.v7.egenes.txt'"
      ],
      "text/markdown": [
       "'/hps/nobackup/hipsci/scratch/GTEx/GTEx_Analysis_v7_eQTL/Brain_Cerebellum.v7.egenes.txt'"
      ],
      "text/plain": [
       "[1] \"/hps/nobackup/hipsci/scratch/GTEx/GTEx_Analysis_v7_eQTL/Brain_Cerebellum.v7.egenes.txt\""
      ]
     },
     "metadata": {},
     "output_type": "display_data"
    },
    {
     "data": {
      "text/html": [
       "6075"
      ],
      "text/latex": [
       "6075"
      ],
      "text/markdown": [
       "6075"
      ],
      "text/plain": [
       "[1] 6075"
      ]
     },
     "metadata": {},
     "output_type": "display_data"
    },
    {
     "data": {
      "text/html": [
       "6075"
      ],
      "text/latex": [
       "6075"
      ],
      "text/markdown": [
       "6075"
      ],
      "text/plain": [
       "[1] 6075"
      ]
     },
     "metadata": {},
     "output_type": "display_data"
    }
   ],
   "source": [
    "cb_eqtls = sn_sign$eqtl[!(cb_sign$eqtl %in% eqtl_non_brain)]\n",
    "length(cb_eqtls)\n",
    "cb_eqtls = cb_sign$eqtl[cb_sign$eqtl %in% eqtl_brain_only]\n",
    "length(cb_eqtls)"
   ]
  },
  {
   "cell_type": "code",
   "execution_count": 66,
   "metadata": {},
   "outputs": [
    {
     "data": {
      "text/html": [
       "6075"
      ],
      "text/latex": [
       "6075"
      ],
      "text/markdown": [
       "6075"
      ],
      "text/plain": [
       "[1] 6075"
      ]
     },
     "metadata": {},
     "output_type": "display_data"
    }
   ],
   "source": [
    "cb_egenes = unique(cb_sign[cb_sign$eqtl %in% cb_eqtls,'feature_id'])\n",
    "length(cb_egenes)"
   ]
  },
  {
   "cell_type": "code",
   "execution_count": 68,
   "metadata": {},
   "outputs": [
    {
     "data": {
      "text/html": [
       "4008"
      ],
      "text/latex": [
       "4008"
      ],
      "text/markdown": [
       "4008"
      ],
      "text/plain": [
       "[1] 4008"
      ]
     },
     "metadata": {},
     "output_type": "display_data"
    },
    {
     "data": {
      "text/html": [
       "2886"
      ],
      "text/latex": [
       "2886"
      ],
      "text/markdown": [
       "2886"
      ],
      "text/plain": [
       "[1] 2886"
      ]
     },
     "metadata": {},
     "output_type": "display_data"
    }
   ],
   "source": [
    "length(cb_sign$feature_id[cb_sign$feature_id %in% all_genes]) # out of 8,429 (48%)\n",
    "length(cb_egenes[cb_egenes %in% all_genes]) # out of 6,075 brain only (48%)"
   ]
  },
  {
   "cell_type": "code",
   "execution_count": 69,
   "metadata": {},
   "outputs": [
    {
     "data": {
      "text/html": [
       "2457"
      ],
      "text/latex": [
       "2457"
      ],
      "text/markdown": [
       "2457"
      ],
      "text/plain": [
       "[1] 2457"
      ]
     },
     "metadata": {},
     "output_type": "display_data"
    },
    {
     "data": {
      "text/html": [
       "1632"
      ],
      "text/latex": [
       "1632"
      ],
      "text/markdown": [
       "1632"
      ],
      "text/plain": [
       "[1] 1632"
      ]
     },
     "metadata": {},
     "output_type": "display_data"
    }
   ],
   "source": [
    "length(cb_sign$eqtl[cb_sign$eqtl %in% nom_neuro_eqtls]) # out of 4,008/8,429 (29, 61%)\n",
    "length(cb_eqtls[cb_eqtls %in% nom_neuro_eqtls]) # out of 2,886/6,075 (27, 57%)"
   ]
  },
  {
   "cell_type": "code",
   "execution_count": 70,
   "metadata": {},
   "outputs": [
    {
     "data": {
      "text/html": [
       "<ol class=list-inline>\n",
       "\t<li>'/hps/nobackup/hipsci/scratch/GTEx/GTEx_Analysis_v7_eQTL/Brain_Amygdala.v7.egenes.txt'</li>\n",
       "\t<li>'/hps/nobackup/hipsci/scratch/GTEx/GTEx_Analysis_v7_eQTL/Brain_Anterior_cingulate_cortex_BA24.v7.egenes.txt'</li>\n",
       "\t<li>'/hps/nobackup/hipsci/scratch/GTEx/GTEx_Analysis_v7_eQTL/Brain_Caudate_basal_ganglia.v7.egenes.txt'</li>\n",
       "\t<li>'/hps/nobackup/hipsci/scratch/GTEx/GTEx_Analysis_v7_eQTL/Brain_Cerebellar_Hemisphere.v7.egenes.txt'</li>\n",
       "\t<li>'/hps/nobackup/hipsci/scratch/GTEx/GTEx_Analysis_v7_eQTL/Brain_Cerebellum.v7.egenes.txt'</li>\n",
       "\t<li>'/hps/nobackup/hipsci/scratch/GTEx/GTEx_Analysis_v7_eQTL/Brain_Cortex.v7.egenes.txt'</li>\n",
       "\t<li>'/hps/nobackup/hipsci/scratch/GTEx/GTEx_Analysis_v7_eQTL/Brain_Frontal_Cortex_BA9.v7.egenes.txt'</li>\n",
       "\t<li>'/hps/nobackup/hipsci/scratch/GTEx/GTEx_Analysis_v7_eQTL/Brain_Hippocampus.v7.egenes.txt'</li>\n",
       "\t<li>'/hps/nobackup/hipsci/scratch/GTEx/GTEx_Analysis_v7_eQTL/Brain_Hypothalamus.v7.egenes.txt'</li>\n",
       "\t<li>'/hps/nobackup/hipsci/scratch/GTEx/GTEx_Analysis_v7_eQTL/Brain_Nucleus_accumbens_basal_ganglia.v7.egenes.txt'</li>\n",
       "\t<li>'/hps/nobackup/hipsci/scratch/GTEx/GTEx_Analysis_v7_eQTL/Brain_Putamen_basal_ganglia.v7.egenes.txt'</li>\n",
       "\t<li>'/hps/nobackup/hipsci/scratch/GTEx/GTEx_Analysis_v7_eQTL/Brain_Spinal_cord_cervical_c-1.v7.egenes.txt'</li>\n",
       "\t<li>'/hps/nobackup/hipsci/scratch/GTEx/GTEx_Analysis_v7_eQTL/Brain_Substantia_nigra.v7.egenes.txt'</li>\n",
       "</ol>\n"
      ],
      "text/latex": [
       "\\begin{enumerate*}\n",
       "\\item '/hps/nobackup/hipsci/scratch/GTEx/GTEx\\_Analysis\\_v7\\_eQTL/Brain\\_Amygdala.v7.egenes.txt'\n",
       "\\item '/hps/nobackup/hipsci/scratch/GTEx/GTEx\\_Analysis\\_v7\\_eQTL/Brain\\_Anterior\\_cingulate\\_cortex\\_BA24.v7.egenes.txt'\n",
       "\\item '/hps/nobackup/hipsci/scratch/GTEx/GTEx\\_Analysis\\_v7\\_eQTL/Brain\\_Caudate\\_basal\\_ganglia.v7.egenes.txt'\n",
       "\\item '/hps/nobackup/hipsci/scratch/GTEx/GTEx\\_Analysis\\_v7\\_eQTL/Brain\\_Cerebellar\\_Hemisphere.v7.egenes.txt'\n",
       "\\item '/hps/nobackup/hipsci/scratch/GTEx/GTEx\\_Analysis\\_v7\\_eQTL/Brain\\_Cerebellum.v7.egenes.txt'\n",
       "\\item '/hps/nobackup/hipsci/scratch/GTEx/GTEx\\_Analysis\\_v7\\_eQTL/Brain\\_Cortex.v7.egenes.txt'\n",
       "\\item '/hps/nobackup/hipsci/scratch/GTEx/GTEx\\_Analysis\\_v7\\_eQTL/Brain\\_Frontal\\_Cortex\\_BA9.v7.egenes.txt'\n",
       "\\item '/hps/nobackup/hipsci/scratch/GTEx/GTEx\\_Analysis\\_v7\\_eQTL/Brain\\_Hippocampus.v7.egenes.txt'\n",
       "\\item '/hps/nobackup/hipsci/scratch/GTEx/GTEx\\_Analysis\\_v7\\_eQTL/Brain\\_Hypothalamus.v7.egenes.txt'\n",
       "\\item '/hps/nobackup/hipsci/scratch/GTEx/GTEx\\_Analysis\\_v7\\_eQTL/Brain\\_Nucleus\\_accumbens\\_basal\\_ganglia.v7.egenes.txt'\n",
       "\\item '/hps/nobackup/hipsci/scratch/GTEx/GTEx\\_Analysis\\_v7\\_eQTL/Brain\\_Putamen\\_basal\\_ganglia.v7.egenes.txt'\n",
       "\\item '/hps/nobackup/hipsci/scratch/GTEx/GTEx\\_Analysis\\_v7\\_eQTL/Brain\\_Spinal\\_cord\\_cervical\\_c-1.v7.egenes.txt'\n",
       "\\item '/hps/nobackup/hipsci/scratch/GTEx/GTEx\\_Analysis\\_v7\\_eQTL/Brain\\_Substantia\\_nigra.v7.egenes.txt'\n",
       "\\end{enumerate*}\n"
      ],
      "text/markdown": [
       "1. '/hps/nobackup/hipsci/scratch/GTEx/GTEx_Analysis_v7_eQTL/Brain_Amygdala.v7.egenes.txt'\n",
       "2. '/hps/nobackup/hipsci/scratch/GTEx/GTEx_Analysis_v7_eQTL/Brain_Anterior_cingulate_cortex_BA24.v7.egenes.txt'\n",
       "3. '/hps/nobackup/hipsci/scratch/GTEx/GTEx_Analysis_v7_eQTL/Brain_Caudate_basal_ganglia.v7.egenes.txt'\n",
       "4. '/hps/nobackup/hipsci/scratch/GTEx/GTEx_Analysis_v7_eQTL/Brain_Cerebellar_Hemisphere.v7.egenes.txt'\n",
       "5. '/hps/nobackup/hipsci/scratch/GTEx/GTEx_Analysis_v7_eQTL/Brain_Cerebellum.v7.egenes.txt'\n",
       "6. '/hps/nobackup/hipsci/scratch/GTEx/GTEx_Analysis_v7_eQTL/Brain_Cortex.v7.egenes.txt'\n",
       "7. '/hps/nobackup/hipsci/scratch/GTEx/GTEx_Analysis_v7_eQTL/Brain_Frontal_Cortex_BA9.v7.egenes.txt'\n",
       "8. '/hps/nobackup/hipsci/scratch/GTEx/GTEx_Analysis_v7_eQTL/Brain_Hippocampus.v7.egenes.txt'\n",
       "9. '/hps/nobackup/hipsci/scratch/GTEx/GTEx_Analysis_v7_eQTL/Brain_Hypothalamus.v7.egenes.txt'\n",
       "10. '/hps/nobackup/hipsci/scratch/GTEx/GTEx_Analysis_v7_eQTL/Brain_Nucleus_accumbens_basal_ganglia.v7.egenes.txt'\n",
       "11. '/hps/nobackup/hipsci/scratch/GTEx/GTEx_Analysis_v7_eQTL/Brain_Putamen_basal_ganglia.v7.egenes.txt'\n",
       "12. '/hps/nobackup/hipsci/scratch/GTEx/GTEx_Analysis_v7_eQTL/Brain_Spinal_cord_cervical_c-1.v7.egenes.txt'\n",
       "13. '/hps/nobackup/hipsci/scratch/GTEx/GTEx_Analysis_v7_eQTL/Brain_Substantia_nigra.v7.egenes.txt'\n",
       "\n",
       "\n"
      ],
      "text/plain": [
       " [1] \"/hps/nobackup/hipsci/scratch/GTEx/GTEx_Analysis_v7_eQTL/Brain_Amygdala.v7.egenes.txt\"                       \n",
       " [2] \"/hps/nobackup/hipsci/scratch/GTEx/GTEx_Analysis_v7_eQTL/Brain_Anterior_cingulate_cortex_BA24.v7.egenes.txt\" \n",
       " [3] \"/hps/nobackup/hipsci/scratch/GTEx/GTEx_Analysis_v7_eQTL/Brain_Caudate_basal_ganglia.v7.egenes.txt\"          \n",
       " [4] \"/hps/nobackup/hipsci/scratch/GTEx/GTEx_Analysis_v7_eQTL/Brain_Cerebellar_Hemisphere.v7.egenes.txt\"          \n",
       " [5] \"/hps/nobackup/hipsci/scratch/GTEx/GTEx_Analysis_v7_eQTL/Brain_Cerebellum.v7.egenes.txt\"                     \n",
       " [6] \"/hps/nobackup/hipsci/scratch/GTEx/GTEx_Analysis_v7_eQTL/Brain_Cortex.v7.egenes.txt\"                         \n",
       " [7] \"/hps/nobackup/hipsci/scratch/GTEx/GTEx_Analysis_v7_eQTL/Brain_Frontal_Cortex_BA9.v7.egenes.txt\"             \n",
       " [8] \"/hps/nobackup/hipsci/scratch/GTEx/GTEx_Analysis_v7_eQTL/Brain_Hippocampus.v7.egenes.txt\"                    \n",
       " [9] \"/hps/nobackup/hipsci/scratch/GTEx/GTEx_Analysis_v7_eQTL/Brain_Hypothalamus.v7.egenes.txt\"                   \n",
       "[10] \"/hps/nobackup/hipsci/scratch/GTEx/GTEx_Analysis_v7_eQTL/Brain_Nucleus_accumbens_basal_ganglia.v7.egenes.txt\"\n",
       "[11] \"/hps/nobackup/hipsci/scratch/GTEx/GTEx_Analysis_v7_eQTL/Brain_Putamen_basal_ganglia.v7.egenes.txt\"          \n",
       "[12] \"/hps/nobackup/hipsci/scratch/GTEx/GTEx_Analysis_v7_eQTL/Brain_Spinal_cord_cervical_c-1.v7.egenes.txt\"       \n",
       "[13] \"/hps/nobackup/hipsci/scratch/GTEx/GTEx_Analysis_v7_eQTL/Brain_Substantia_nigra.v7.egenes.txt\"               "
      ]
     },
     "metadata": {},
     "output_type": "display_data"
    }
   ],
   "source": [
    "brain_files"
   ]
  },
  {
   "cell_type": "code",
   "execution_count": 71,
   "metadata": {},
   "outputs": [
    {
     "data": {
      "text/html": [
       "'/hps/nobackup/hipsci/scratch/GTEx/GTEx_Analysis_v7_eQTL/Brain_Frontal_Cortex_BA9.v7.egenes.txt'"
      ],
      "text/latex": [
       "'/hps/nobackup/hipsci/scratch/GTEx/GTEx\\_Analysis\\_v7\\_eQTL/Brain\\_Frontal\\_Cortex\\_BA9.v7.egenes.txt'"
      ],
      "text/markdown": [
       "'/hps/nobackup/hipsci/scratch/GTEx/GTEx_Analysis_v7_eQTL/Brain_Frontal_Cortex_BA9.v7.egenes.txt'"
      ],
      "text/plain": [
       "[1] \"/hps/nobackup/hipsci/scratch/GTEx/GTEx_Analysis_v7_eQTL/Brain_Frontal_Cortex_BA9.v7.egenes.txt\""
      ]
     },
     "metadata": {},
     "output_type": "display_data"
    },
    {
     "data": {
      "text/html": [
       "5086"
      ],
      "text/latex": [
       "5086"
      ],
      "text/markdown": [
       "5086"
      ],
      "text/plain": [
       "[1] 5086"
      ]
     },
     "metadata": {},
     "output_type": "display_data"
    }
   ],
   "source": [
    "# Frontal Cortex\n",
    "fc_file = files[grep(\"Frontal_Cortex\",files)]\n",
    "fc_file\n",
    "\n",
    "fc = read.csv(fc_file, sep =\"\\t\")\n",
    "fc$feature_id = gsub(\"\\\\..*\",\"\",fc$gene_id)\n",
    "fc$snp_id = gsub(\"_b37\",\"\",fc$variant_id)\n",
    "fc_sign = fc[fc$qval<0.05,]\n",
    "fc_sign$eqtl= paste0(fc_sign$feature_id,\"-\",fc_sign$snp_id)\n",
    "length(unique(fc_sign$eqtl))"
   ]
  },
  {
   "cell_type": "code",
   "execution_count": 74,
   "metadata": {},
   "outputs": [
    {
     "data": {
      "text/html": [
       "3690"
      ],
      "text/latex": [
       "3690"
      ],
      "text/markdown": [
       "3690"
      ],
      "text/plain": [
       "[1] 3690"
      ]
     },
     "metadata": {},
     "output_type": "display_data"
    },
    {
     "data": {
      "text/html": [
       "3690"
      ],
      "text/latex": [
       "3690"
      ],
      "text/markdown": [
       "3690"
      ],
      "text/plain": [
       "[1] 3690"
      ]
     },
     "metadata": {},
     "output_type": "display_data"
    }
   ],
   "source": [
    "fc_eqtls = sn_sign$eqtl[!(fc_sign$eqtl %in% eqtl_non_brain)]\n",
    "length(fc_eqtls)\n",
    "fc_eqtls = fc_sign$eqtl[fc_sign$eqtl %in% eqtl_brain_only]\n",
    "length(fc_eqtls)"
   ]
  },
  {
   "cell_type": "code",
   "execution_count": 75,
   "metadata": {},
   "outputs": [
    {
     "data": {
      "text/html": [
       "3690"
      ],
      "text/latex": [
       "3690"
      ],
      "text/markdown": [
       "3690"
      ],
      "text/plain": [
       "[1] 3690"
      ]
     },
     "metadata": {},
     "output_type": "display_data"
    }
   ],
   "source": [
    "fc_egenes = unique(fc_sign[fc_sign$eqtl %in% fc_eqtls,'feature_id'])\n",
    "length(fc_egenes)"
   ]
  },
  {
   "cell_type": "code",
   "execution_count": 76,
   "metadata": {},
   "outputs": [
    {
     "data": {
      "text/html": [
       "2304"
      ],
      "text/latex": [
       "2304"
      ],
      "text/markdown": [
       "2304"
      ],
      "text/plain": [
       "[1] 2304"
      ]
     },
     "metadata": {},
     "output_type": "display_data"
    },
    {
     "data": {
      "text/html": [
       "1703"
      ],
      "text/latex": [
       "1703"
      ],
      "text/markdown": [
       "1703"
      ],
      "text/plain": [
       "[1] 1703"
      ]
     },
     "metadata": {},
     "output_type": "display_data"
    }
   ],
   "source": [
    "length(fc_sign$feature_id[fc_sign$feature_id %in% all_genes]) # out of 5,086 (45%)\n",
    "length(fc_egenes[fc_egenes %in% all_genes]) # out of 3,690 brain only (46%)"
   ]
  },
  {
   "cell_type": "code",
   "execution_count": 77,
   "metadata": {},
   "outputs": [
    {
     "data": {
      "text/html": [
       "1167"
      ],
      "text/latex": [
       "1167"
      ],
      "text/markdown": [
       "1167"
      ],
      "text/plain": [
       "[1] 1167"
      ]
     },
     "metadata": {},
     "output_type": "display_data"
    },
    {
     "data": {
      "text/html": [
       "696"
      ],
      "text/latex": [
       "696"
      ],
      "text/markdown": [
       "696"
      ],
      "text/plain": [
       "[1] 696"
      ]
     },
     "metadata": {},
     "output_type": "display_data"
    }
   ],
   "source": [
    "length(fc_sign$eqtl[fc_sign$eqtl %in% nom_neuro_eqtls]) # out of 2,304/5,086 (23, 51%)\n",
    "length(fc_eqtls[fc_eqtls %in% nom_neuro_eqtls]) # out of 1,703/3,690 (19, 41%)"
   ]
  },
  {
   "cell_type": "code",
   "execution_count": null,
   "metadata": {},
   "outputs": [],
   "source": []
  }
 ],
 "metadata": {
  "kernelspec": {
   "display_name": "R",
   "language": "R",
   "name": "ir"
  },
  "language_info": {
   "codemirror_mode": "r",
   "file_extension": ".r",
   "mimetype": "text/x-r-source",
   "name": "R",
   "pygments_lexer": "r",
   "version": "3.6.1"
  }
 },
 "nbformat": 4,
 "nbformat_minor": 4
}
