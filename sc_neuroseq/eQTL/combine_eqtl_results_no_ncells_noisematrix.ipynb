{
 "cells": [
  {
   "cell_type": "code",
   "execution_count": 218,
   "metadata": {},
   "outputs": [],
   "source": [
    "library(qvalue)"
   ]
  },
  {
   "cell_type": "code",
   "execution_count": 219,
   "metadata": {},
   "outputs": [
    {
     "data": {
      "text/html": [
       "<table>\n",
       "<thead><tr><th scope=col>snp_id</th><th scope=col>p_value</th><th scope=col>beta</th><th scope=col>beta_se</th><th scope=col>empirical_feature_p_value</th><th scope=col>feature_chromosome</th><th scope=col>feature_start</th><th scope=col>feature_end</th><th scope=col>n_samples</th><th scope=col>n_e_samples</th><th scope=col>alpha_param</th><th scope=col>beta_param</th><th scope=col>snp_chromosome</th><th scope=col>snp_position</th><th scope=col>assessed_allele</th><th scope=col>call_rate</th><th scope=col>maf</th><th scope=col>hwe_p</th><th scope=col>feature_id</th></tr></thead>\n",
       "<tbody>\n",
       "\t<tr><td>19_54615304_G_A</td><td>0.0005466143   </td><td>0.5060861      </td><td>0.1464027      </td><td>0.3352822      </td><td>19             </td><td>54641444       </td><td>54659419       </td><td>173            </td><td>173            </td><td>0.5150864      </td><td>185.6887       </td><td>19             </td><td>54615304       </td><td>A              </td><td>1              </td><td>0.08092486     </td><td>1              </td><td>ENSG00000088038</td></tr>\n",
       "\t<tr><td>19_54527245_A_C</td><td>0.0039005783   </td><td>0.3489140      </td><td>0.1208949      </td><td>0.7459814      </td><td>19             </td><td>54412589       </td><td>54447195       </td><td>173            </td><td>173            </td><td>0.5666292      </td><td>192.5012       </td><td>19             </td><td>54527245       </td><td>C              </td><td>1              </td><td>0.19653179     </td><td>1              </td><td>ENSG00000105605</td></tr>\n",
       "</tbody>\n",
       "</table>\n"
      ],
      "text/latex": [
       "\\begin{tabular}{r|lllllllllllllllllll}\n",
       " snp\\_id & p\\_value & beta & beta\\_se & empirical\\_feature\\_p\\_value & feature\\_chromosome & feature\\_start & feature\\_end & n\\_samples & n\\_e\\_samples & alpha\\_param & beta\\_param & snp\\_chromosome & snp\\_position & assessed\\_allele & call\\_rate & maf & hwe\\_p & feature\\_id\\\\\n",
       "\\hline\n",
       "\t 19\\_54615304\\_G\\_A & 0.0005466143          & 0.5060861             & 0.1464027             & 0.3352822             & 19                    & 54641444              & 54659419              & 173                   & 173                   & 0.5150864             & 185.6887              & 19                    & 54615304              & A                     & 1                     & 0.08092486            & 1                     & ENSG00000088038      \\\\\n",
       "\t 19\\_54527245\\_A\\_C & 0.0039005783          & 0.3489140             & 0.1208949             & 0.7459814             & 19                    & 54412589              & 54447195              & 173                   & 173                   & 0.5666292             & 192.5012              & 19                    & 54527245              & C                     & 1                     & 0.19653179            & 1                     & ENSG00000105605      \\\\\n",
       "\\end{tabular}\n"
      ],
      "text/markdown": [
       "\n",
       "| snp_id | p_value | beta | beta_se | empirical_feature_p_value | feature_chromosome | feature_start | feature_end | n_samples | n_e_samples | alpha_param | beta_param | snp_chromosome | snp_position | assessed_allele | call_rate | maf | hwe_p | feature_id |\n",
       "|---|---|---|---|---|---|---|---|---|---|---|---|---|---|---|---|---|---|---|\n",
       "| 19_54615304_G_A | 0.0005466143    | 0.5060861       | 0.1464027       | 0.3352822       | 19              | 54641444        | 54659419        | 173             | 173             | 0.5150864       | 185.6887        | 19              | 54615304        | A               | 1               | 0.08092486      | 1               | ENSG00000088038 |\n",
       "| 19_54527245_A_C | 0.0039005783    | 0.3489140       | 0.1208949       | 0.7459814       | 19              | 54412589        | 54447195        | 173             | 173             | 0.5666292       | 192.5012        | 19              | 54527245        | C               | 1               | 0.19653179      | 1               | ENSG00000105605 |\n",
       "\n"
      ],
      "text/plain": [
       "  snp_id          p_value      beta      beta_se   empirical_feature_p_value\n",
       "1 19_54615304_G_A 0.0005466143 0.5060861 0.1464027 0.3352822                \n",
       "2 19_54527245_A_C 0.0039005783 0.3489140 0.1208949 0.7459814                \n",
       "  feature_chromosome feature_start feature_end n_samples n_e_samples\n",
       "1 19                 54641444      54659419    173       173        \n",
       "2 19                 54412589      54447195    173       173        \n",
       "  alpha_param beta_param snp_chromosome snp_position assessed_allele call_rate\n",
       "1 0.5150864   185.6887   19             54615304     A               1        \n",
       "2 0.5666292   192.5012   19             54527245     C               1        \n",
       "  maf        hwe_p feature_id     \n",
       "1 0.08092486 1     ENSG00000088038\n",
       "2 0.19653179 1     ENSG00000105605"
      ]
     },
     "metadata": {},
     "output_type": "display_data"
    },
    {
     "data": {
      "text/html": [
       "1017"
      ],
      "text/latex": [
       "1017"
      ],
      "text/markdown": [
       "1017"
      ],
      "text/plain": [
       "[1] 1017"
      ]
     },
     "metadata": {},
     "output_type": "display_data"
    },
    {
     "data": {
      "text/html": [
       "1184"
      ],
      "text/latex": [
       "1184"
      ],
      "text/markdown": [
       "1184"
      ],
      "text/plain": [
       "[1] 1184"
      ]
     },
     "metadata": {},
     "output_type": "display_data"
    }
   ],
   "source": [
    "#### D11\n",
    "\n",
    "mydir = \"/hps/nobackup/stegle/users/acuomo/all_scripts/sc_neuroseq/eqtl/timepoint_D11/\"\n",
    "\n",
    "## FPP\n",
    "FPP_D11_filename = paste0(mydir,\"input_files/celltype_FPP/no_kinship_results/top_qtl_results_all.txt\")\n",
    "# FPP_D11_filename = paste0(mydir,\"input_files/celltype_FPP/no_kinship_results_archive_20200919/top_qtl_results_all.txt\")\n",
    "FPP_D11 = read.csv(FPP_D11_filename,sep=\"\\t\")\n",
    "head(FPP_D11,2)\n",
    "\n",
    "FPP_D11$global_corr_p_value = p.adjust(FPP_D11$empirical_feature_p_value, method = \"BH\")\n",
    "nrow(FPP_D11[FPP_D11$global_corr_p_value < 0.05,])\n",
    "FPP_D11$q_value = qvalue(FPP_D11$empirical_feature_p_value)$qvalues\n",
    "length(unique(FPP_D11[FPP_D11$q_value < 0.05,'feature_id']))\n",
    "\n",
    "FPP_D11$label = 'FPP_D11'\n",
    "leads = FPP_D11"
   ]
  },
  {
   "cell_type": "code",
   "execution_count": 220,
   "metadata": {},
   "outputs": [
    {
     "data": {
      "text/html": [
       "<table>\n",
       "<thead><tr><th scope=col>snp_id</th><th scope=col>p_value</th><th scope=col>beta</th><th scope=col>beta_se</th><th scope=col>empirical_feature_p_value</th><th scope=col>feature_chromosome</th><th scope=col>feature_start</th><th scope=col>feature_end</th><th scope=col>n_samples</th><th scope=col>n_e_samples</th><th scope=col>alpha_param</th><th scope=col>beta_param</th><th scope=col>snp_chromosome</th><th scope=col>snp_position</th><th scope=col>assessed_allele</th><th scope=col>call_rate</th><th scope=col>maf</th><th scope=col>hwe_p</th><th scope=col>feature_id</th></tr></thead>\n",
       "<tbody>\n",
       "\t<tr><td>19_54550228_G_T</td><td>0.001490968    </td><td> 0.2159473     </td><td>0.06798414     </td><td>0.5218392      </td><td>19             </td><td>54641444       </td><td>54659419       </td><td>172            </td><td>172            </td><td>0.5896178      </td><td>230.9364       </td><td>19             </td><td>54550228       </td><td>T              </td><td>1              </td><td>0.33139535     </td><td>0.7311413      </td><td>ENSG00000088038</td></tr>\n",
       "\t<tr><td>19_54634830_C_T</td><td>0.000208204    </td><td>-0.4194899     </td><td>0.11310517     </td><td>0.1822630      </td><td>19             </td><td>54658899       </td><td>54663620       </td><td>172            </td><td>172            </td><td>0.5917077      </td><td>230.1540       </td><td>19             </td><td>54634830       </td><td>T              </td><td>1              </td><td>0.08139535     </td><td>1.0000000      </td><td>ENSG00000105617</td></tr>\n",
       "</tbody>\n",
       "</table>\n"
      ],
      "text/latex": [
       "\\begin{tabular}{r|lllllllllllllllllll}\n",
       " snp\\_id & p\\_value & beta & beta\\_se & empirical\\_feature\\_p\\_value & feature\\_chromosome & feature\\_start & feature\\_end & n\\_samples & n\\_e\\_samples & alpha\\_param & beta\\_param & snp\\_chromosome & snp\\_position & assessed\\_allele & call\\_rate & maf & hwe\\_p & feature\\_id\\\\\n",
       "\\hline\n",
       "\t 19\\_54550228\\_G\\_T & 0.001490968           &  0.2159473            & 0.06798414            & 0.5218392             & 19                    & 54641444              & 54659419              & 172                   & 172                   & 0.5896178             & 230.9364              & 19                    & 54550228              & T                     & 1                     & 0.33139535            & 0.7311413             & ENSG00000088038      \\\\\n",
       "\t 19\\_54634830\\_C\\_T & 0.000208204           & -0.4194899            & 0.11310517            & 0.1822630             & 19                    & 54658899              & 54663620              & 172                   & 172                   & 0.5917077             & 230.1540              & 19                    & 54634830              & T                     & 1                     & 0.08139535            & 1.0000000             & ENSG00000105617      \\\\\n",
       "\\end{tabular}\n"
      ],
      "text/markdown": [
       "\n",
       "| snp_id | p_value | beta | beta_se | empirical_feature_p_value | feature_chromosome | feature_start | feature_end | n_samples | n_e_samples | alpha_param | beta_param | snp_chromosome | snp_position | assessed_allele | call_rate | maf | hwe_p | feature_id |\n",
       "|---|---|---|---|---|---|---|---|---|---|---|---|---|---|---|---|---|---|---|\n",
       "| 19_54550228_G_T | 0.001490968     |  0.2159473      | 0.06798414      | 0.5218392       | 19              | 54641444        | 54659419        | 172             | 172             | 0.5896178       | 230.9364        | 19              | 54550228        | T               | 1               | 0.33139535      | 0.7311413       | ENSG00000088038 |\n",
       "| 19_54634830_C_T | 0.000208204     | -0.4194899      | 0.11310517      | 0.1822630       | 19              | 54658899        | 54663620        | 172             | 172             | 0.5917077       | 230.1540        | 19              | 54634830        | T               | 1               | 0.08139535      | 1.0000000       | ENSG00000105617 |\n",
       "\n"
      ],
      "text/plain": [
       "  snp_id          p_value     beta       beta_se    empirical_feature_p_value\n",
       "1 19_54550228_G_T 0.001490968  0.2159473 0.06798414 0.5218392                \n",
       "2 19_54634830_C_T 0.000208204 -0.4194899 0.11310517 0.1822630                \n",
       "  feature_chromosome feature_start feature_end n_samples n_e_samples\n",
       "1 19                 54641444      54659419    172       172        \n",
       "2 19                 54658899      54663620    172       172        \n",
       "  alpha_param beta_param snp_chromosome snp_position assessed_allele call_rate\n",
       "1 0.5896178   230.9364   19             54550228     T               1        \n",
       "2 0.5917077   230.1540   19             54634830     T               1        \n",
       "  maf        hwe_p     feature_id     \n",
       "1 0.33139535 0.7311413 ENSG00000088038\n",
       "2 0.08139535 1.0000000 ENSG00000105617"
      ]
     },
     "metadata": {},
     "output_type": "display_data"
    },
    {
     "data": {
      "text/html": [
       "1274"
      ],
      "text/latex": [
       "1274"
      ],
      "text/markdown": [
       "1274"
      ],
      "text/plain": [
       "[1] 1274"
      ]
     },
     "metadata": {},
     "output_type": "display_data"
    },
    {
     "data": {
      "text/html": [
       "1488"
      ],
      "text/latex": [
       "1488"
      ],
      "text/markdown": [
       "1488"
      ],
      "text/plain": [
       "[1] 1488"
      ]
     },
     "metadata": {},
     "output_type": "display_data"
    }
   ],
   "source": [
    "## P_FPP\n",
    "P_FPP_D11_filename = paste0(mydir,\"input_files/celltype_P_FPP/no_kinship_results/top_qtl_results_all.txt\")\n",
    "# P_FPP_D11_filename = paste0(mydir,\"input_files/celltype_P_FPP/no_kinship_results_archive_20200919/top_qtl_results_all.txt\")\n",
    "P_FPP_D11 = read.csv(P_FPP_D11_filename,sep=\"\\t\")\n",
    "head(P_FPP_D11,2)\n",
    "\n",
    "P_FPP_D11$global_corr_p_value = p.adjust(P_FPP_D11$empirical_feature_p_value, method = \"BH\")\n",
    "nrow(P_FPP_D11[P_FPP_D11$global_corr_p_value < 0.05,])\n",
    "P_FPP_D11$q_value = qvalue(P_FPP_D11$empirical_feature_p_value)$qvalues\n",
    "length(unique(P_FPP_D11[P_FPP_D11$q_value < 0.05,'feature_id']))\n",
    "\n",
    "P_FPP_D11$label = 'P_FPP_D11'\n",
    "leads = rbind(leads,P_FPP_D11)"
   ]
  },
  {
   "cell_type": "code",
   "execution_count": 221,
   "metadata": {},
   "outputs": [],
   "source": [
    "# ## NB\n",
    "# NB_D11_filename = paste0(mydir,\"input_files/celltype_NB/no_kinship_results/top_qtl_results_all.txt\")\n",
    "# NB_D11 = read.csv(NB_D11_filename,sep=\"\\t\")\n",
    "# head(NB_D11,2)\n",
    "\n",
    "# NB_D11$global_corr_p_value = p.adjust(NB_D11$empirical_feature_p_value, method = \"BH\")\n",
    "# nrow(NB_D11[NB_D11$global_corr_p_value < 0.05,])\n",
    "\n",
    "# NB_D11$label = 'NB_D11'\n",
    "# leads = rbind(leads,NB_D11)"
   ]
  },
  {
   "cell_type": "code",
   "execution_count": null,
   "metadata": {},
   "outputs": [],
   "source": []
  },
  {
   "cell_type": "code",
   "execution_count": 222,
   "metadata": {},
   "outputs": [],
   "source": [
    "#### D30\n",
    "mydir = \"/hps/nobackup/stegle/users/acuomo/all_scripts/sc_neuroseq/eqtl/timepoint_D30/\""
   ]
  },
  {
   "cell_type": "code",
   "execution_count": 223,
   "metadata": {},
   "outputs": [
    {
     "data": {
      "text/html": [
       "<table>\n",
       "<thead><tr><th scope=col>snp_id</th><th scope=col>p_value</th><th scope=col>beta</th><th scope=col>beta_se</th><th scope=col>empirical_feature_p_value</th><th scope=col>feature_chromosome</th><th scope=col>feature_start</th><th scope=col>feature_end</th><th scope=col>n_samples</th><th scope=col>n_e_samples</th><th scope=col>alpha_param</th><th scope=col>beta_param</th><th scope=col>snp_chromosome</th><th scope=col>snp_position</th><th scope=col>assessed_allele</th><th scope=col>call_rate</th><th scope=col>maf</th><th scope=col>hwe_p</th><th scope=col>feature_id</th></tr></thead>\n",
       "<tbody>\n",
       "\t<tr><td>19_54732456_C_T</td><td>3.661515e-03   </td><td> 0.2425105     </td><td>0.08345337     </td><td>0.77522749     </td><td>19             </td><td>54641444       </td><td>54659419       </td><td>152            </td><td>152            </td><td>0.5279055      </td><td>225.5947       </td><td>19             </td><td>54732456       </td><td>T              </td><td>1              </td><td>0.3125000      </td><td>0.8511983      </td><td>ENSG00000088038</td></tr>\n",
       "\t<tr><td>19_54749437_G_A</td><td>4.861331e-05   </td><td>-0.3672718     </td><td>0.09041215     </td><td>0.08257401     </td><td>19             </td><td>54658899       </td><td>54663620       </td><td>152            </td><td>152            </td><td>0.5742961      </td><td>220.3762       </td><td>19             </td><td>54749437       </td><td>A              </td><td>1              </td><td>0.3947368      </td><td>0.7339407      </td><td>ENSG00000105617</td></tr>\n",
       "</tbody>\n",
       "</table>\n"
      ],
      "text/latex": [
       "\\begin{tabular}{r|lllllllllllllllllll}\n",
       " snp\\_id & p\\_value & beta & beta\\_se & empirical\\_feature\\_p\\_value & feature\\_chromosome & feature\\_start & feature\\_end & n\\_samples & n\\_e\\_samples & alpha\\_param & beta\\_param & snp\\_chromosome & snp\\_position & assessed\\_allele & call\\_rate & maf & hwe\\_p & feature\\_id\\\\\n",
       "\\hline\n",
       "\t 19\\_54732456\\_C\\_T & 3.661515e-03          &  0.2425105            & 0.08345337            & 0.77522749            & 19                    & 54641444              & 54659419              & 152                   & 152                   & 0.5279055             & 225.5947              & 19                    & 54732456              & T                     & 1                     & 0.3125000             & 0.8511983             & ENSG00000088038      \\\\\n",
       "\t 19\\_54749437\\_G\\_A & 4.861331e-05          & -0.3672718            & 0.09041215            & 0.08257401            & 19                    & 54658899              & 54663620              & 152                   & 152                   & 0.5742961             & 220.3762              & 19                    & 54749437              & A                     & 1                     & 0.3947368             & 0.7339407             & ENSG00000105617      \\\\\n",
       "\\end{tabular}\n"
      ],
      "text/markdown": [
       "\n",
       "| snp_id | p_value | beta | beta_se | empirical_feature_p_value | feature_chromosome | feature_start | feature_end | n_samples | n_e_samples | alpha_param | beta_param | snp_chromosome | snp_position | assessed_allele | call_rate | maf | hwe_p | feature_id |\n",
       "|---|---|---|---|---|---|---|---|---|---|---|---|---|---|---|---|---|---|---|\n",
       "| 19_54732456_C_T | 3.661515e-03    |  0.2425105      | 0.08345337      | 0.77522749      | 19              | 54641444        | 54659419        | 152             | 152             | 0.5279055       | 225.5947        | 19              | 54732456        | T               | 1               | 0.3125000       | 0.8511983       | ENSG00000088038 |\n",
       "| 19_54749437_G_A | 4.861331e-05    | -0.3672718      | 0.09041215      | 0.08257401      | 19              | 54658899        | 54663620        | 152             | 152             | 0.5742961       | 220.3762        | 19              | 54749437        | A               | 1               | 0.3947368       | 0.7339407       | ENSG00000105617 |\n",
       "\n"
      ],
      "text/plain": [
       "  snp_id          p_value      beta       beta_se    empirical_feature_p_value\n",
       "1 19_54732456_C_T 3.661515e-03  0.2425105 0.08345337 0.77522749               \n",
       "2 19_54749437_G_A 4.861331e-05 -0.3672718 0.09041215 0.08257401               \n",
       "  feature_chromosome feature_start feature_end n_samples n_e_samples\n",
       "1 19                 54641444      54659419    152       152        \n",
       "2 19                 54658899      54663620    152       152        \n",
       "  alpha_param beta_param snp_chromosome snp_position assessed_allele call_rate\n",
       "1 0.5279055   225.5947   19             54732456     T               1        \n",
       "2 0.5742961   220.3762   19             54749437     A               1        \n",
       "  maf       hwe_p     feature_id     \n",
       "1 0.3125000 0.8511983 ENSG00000088038\n",
       "2 0.3947368 0.7339407 ENSG00000105617"
      ]
     },
     "metadata": {},
     "output_type": "display_data"
    },
    {
     "data": {
      "text/html": [
       "377"
      ],
      "text/latex": [
       "377"
      ],
      "text/markdown": [
       "377"
      ],
      "text/plain": [
       "[1] 377"
      ]
     },
     "metadata": {},
     "output_type": "display_data"
    },
    {
     "data": {
      "text/html": [
       "404"
      ],
      "text/latex": [
       "404"
      ],
      "text/markdown": [
       "404"
      ],
      "text/plain": [
       "[1] 404"
      ]
     },
     "metadata": {},
     "output_type": "display_data"
    }
   ],
   "source": [
    "## FPP\n",
    "FPP_D30_filename = paste0(mydir,\"input_files/celltype_FPP/no_kinship_results/top_qtl_results_all.txt\")\n",
    "# FPP_D30_filename = paste0(mydir,\"input_files/celltype_FPP/no_kinship_results_archive_20200919/top_qtl_results_all.txt\")\n",
    "FPP_D30 = read.csv(FPP_D30_filename,sep=\"\\t\")\n",
    "head(FPP_D30,2)\n",
    "\n",
    "FPP_D30$global_corr_p_value = p.adjust(FPP_D30$empirical_feature_p_value, method = \"BH\")\n",
    "nrow(FPP_D30[FPP_D30$global_corr_p_value < 0.05,])\n",
    "FPP_D30$q_value = qvalue(FPP_D30$empirical_feature_p_value)$qvalues\n",
    "length(unique(FPP_D30[FPP_D30$q_value < 0.05,'feature_id']))\n",
    "\n",
    "FPP_D30$label = 'FPP_D30'\n",
    "leads = rbind(leads,FPP_D30)"
   ]
  },
  {
   "cell_type": "code",
   "execution_count": 224,
   "metadata": {},
   "outputs": [
    {
     "data": {
      "text/html": [
       "<table>\n",
       "<thead><tr><th scope=col>snp_id</th><th scope=col>p_value</th><th scope=col>beta</th><th scope=col>beta_se</th><th scope=col>empirical_feature_p_value</th><th scope=col>feature_chromosome</th><th scope=col>feature_start</th><th scope=col>feature_end</th><th scope=col>n_samples</th><th scope=col>n_e_samples</th><th scope=col>alpha_param</th><th scope=col>beta_param</th><th scope=col>snp_chromosome</th><th scope=col>snp_position</th><th scope=col>assessed_allele</th><th scope=col>call_rate</th><th scope=col>maf</th><th scope=col>hwe_p</th><th scope=col>feature_id</th></tr></thead>\n",
       "<tbody>\n",
       "\t<tr><td>19_54479456_T_G</td><td>0.0015694396   </td><td>0.3227500      </td><td>0.10208672     </td><td>0.5193674      </td><td>19             </td><td>54641444       </td><td>54659419       </td><td>165            </td><td>165            </td><td>0.6040007      </td><td>184.4289       </td><td>19             </td><td>54479456       </td><td>G              </td><td>1              </td><td>0.1303030      </td><td>0.1579867      </td><td>ENSG00000088038</td></tr>\n",
       "\t<tr><td>19_54510288_G_T</td><td>0.0001842375   </td><td>0.2658262      </td><td>0.07108217     </td><td>0.1513105      </td><td>19             </td><td>54412589       </td><td>54447195       </td><td>165            </td><td>165            </td><td>0.4476736      </td><td>144.5829       </td><td>19             </td><td>54510288       </td><td>T              </td><td>1              </td><td>0.3030303      </td><td>0.7160389      </td><td>ENSG00000105605</td></tr>\n",
       "</tbody>\n",
       "</table>\n"
      ],
      "text/latex": [
       "\\begin{tabular}{r|lllllllllllllllllll}\n",
       " snp\\_id & p\\_value & beta & beta\\_se & empirical\\_feature\\_p\\_value & feature\\_chromosome & feature\\_start & feature\\_end & n\\_samples & n\\_e\\_samples & alpha\\_param & beta\\_param & snp\\_chromosome & snp\\_position & assessed\\_allele & call\\_rate & maf & hwe\\_p & feature\\_id\\\\\n",
       "\\hline\n",
       "\t 19\\_54479456\\_T\\_G & 0.0015694396          & 0.3227500             & 0.10208672            & 0.5193674             & 19                    & 54641444              & 54659419              & 165                   & 165                   & 0.6040007             & 184.4289              & 19                    & 54479456              & G                     & 1                     & 0.1303030             & 0.1579867             & ENSG00000088038      \\\\\n",
       "\t 19\\_54510288\\_G\\_T & 0.0001842375          & 0.2658262             & 0.07108217            & 0.1513105             & 19                    & 54412589              & 54447195              & 165                   & 165                   & 0.4476736             & 144.5829              & 19                    & 54510288              & T                     & 1                     & 0.3030303             & 0.7160389             & ENSG00000105605      \\\\\n",
       "\\end{tabular}\n"
      ],
      "text/markdown": [
       "\n",
       "| snp_id | p_value | beta | beta_se | empirical_feature_p_value | feature_chromosome | feature_start | feature_end | n_samples | n_e_samples | alpha_param | beta_param | snp_chromosome | snp_position | assessed_allele | call_rate | maf | hwe_p | feature_id |\n",
       "|---|---|---|---|---|---|---|---|---|---|---|---|---|---|---|---|---|---|---|\n",
       "| 19_54479456_T_G | 0.0015694396    | 0.3227500       | 0.10208672      | 0.5193674       | 19              | 54641444        | 54659419        | 165             | 165             | 0.6040007       | 184.4289        | 19              | 54479456        | G               | 1               | 0.1303030       | 0.1579867       | ENSG00000088038 |\n",
       "| 19_54510288_G_T | 0.0001842375    | 0.2658262       | 0.07108217      | 0.1513105       | 19              | 54412589        | 54447195        | 165             | 165             | 0.4476736       | 144.5829        | 19              | 54510288        | T               | 1               | 0.3030303       | 0.7160389       | ENSG00000105605 |\n",
       "\n"
      ],
      "text/plain": [
       "  snp_id          p_value      beta      beta_se    empirical_feature_p_value\n",
       "1 19_54479456_T_G 0.0015694396 0.3227500 0.10208672 0.5193674                \n",
       "2 19_54510288_G_T 0.0001842375 0.2658262 0.07108217 0.1513105                \n",
       "  feature_chromosome feature_start feature_end n_samples n_e_samples\n",
       "1 19                 54641444      54659419    165       165        \n",
       "2 19                 54412589      54447195    165       165        \n",
       "  alpha_param beta_param snp_chromosome snp_position assessed_allele call_rate\n",
       "1 0.6040007   184.4289   19             54479456     G               1        \n",
       "2 0.4476736   144.5829   19             54510288     T               1        \n",
       "  maf       hwe_p     feature_id     \n",
       "1 0.1303030 0.1579867 ENSG00000088038\n",
       "2 0.3030303 0.7160389 ENSG00000105605"
      ]
     },
     "metadata": {},
     "output_type": "display_data"
    },
    {
     "data": {
      "text/html": [
       "341"
      ],
      "text/latex": [
       "341"
      ],
      "text/markdown": [
       "341"
      ],
      "text/plain": [
       "[1] 341"
      ]
     },
     "metadata": {},
     "output_type": "display_data"
    },
    {
     "data": {
      "text/html": [
       "359"
      ],
      "text/latex": [
       "359"
      ],
      "text/markdown": [
       "359"
      ],
      "text/plain": [
       "[1] 359"
      ]
     },
     "metadata": {},
     "output_type": "display_data"
    }
   ],
   "source": [
    "## DA\n",
    "DA_D30_filename = paste0(mydir,\"input_files/celltype_DA/no_kinship_results/top_qtl_results_all.txt\")\n",
    "# DA_D30_filename = paste0(mydir,\"input_files/celltype_DA/no_kinship_results_archive_20200919/top_qtl_results_all.txt\")\n",
    "DA_D30 = read.csv(DA_D30_filename,sep=\"\\t\")\n",
    "head(DA_D30,2)\n",
    "\n",
    "DA_D30$global_corr_p_value = p.adjust(DA_D30$empirical_feature_p_value, method = \"BH\")\n",
    "nrow(DA_D30[DA_D30$global_corr_p_value < 0.05,])\n",
    "DA_D30$q_value = qvalue(DA_D30$empirical_feature_p_value)$qvalues\n",
    "length(unique(DA_D30[DA_D30$q_value < 0.05,'feature_id']))\n",
    "\n",
    "DA_D30$label = 'DA_D30'\n",
    "leads = rbind(leads,DA_D30)"
   ]
  },
  {
   "cell_type": "code",
   "execution_count": 225,
   "metadata": {},
   "outputs": [
    {
     "data": {
      "text/html": [
       "<table>\n",
       "<thead><tr><th scope=col>snp_id</th><th scope=col>p_value</th><th scope=col>beta</th><th scope=col>beta_se</th><th scope=col>empirical_feature_p_value</th><th scope=col>feature_chromosome</th><th scope=col>feature_start</th><th scope=col>feature_end</th><th scope=col>n_samples</th><th scope=col>n_e_samples</th><th scope=col>alpha_param</th><th scope=col>beta_param</th><th scope=col>snp_chromosome</th><th scope=col>snp_position</th><th scope=col>assessed_allele</th><th scope=col>call_rate</th><th scope=col>maf</th><th scope=col>hwe_p</th><th scope=col>feature_id</th></tr></thead>\n",
       "<tbody>\n",
       "\t<tr><td>19_54634143_A_T</td><td>0.001069852    </td><td>0.3401970      </td><td>0.1039886      </td><td>0.4757919      </td><td>19             </td><td>54641444       </td><td>54659419       </td><td>151            </td><td>151            </td><td>0.5774789      </td><td>249.2122       </td><td>19             </td><td>54634143       </td><td>T              </td><td>1              </td><td>0.1523179      </td><td>0.3430453      </td><td>ENSG00000088038</td></tr>\n",
       "\t<tr><td>19_54654779_C_T</td><td>0.002161913    </td><td>0.3472048      </td><td>0.1132052      </td><td>0.6040234      </td><td>19             </td><td>54412589       </td><td>54447195       </td><td>151            </td><td>151            </td><td>0.6190243      </td><td>228.6966       </td><td>19             </td><td>54654779       </td><td>T              </td><td>1              </td><td>0.2682119      </td><td>0.0607964      </td><td>ENSG00000105605</td></tr>\n",
       "</tbody>\n",
       "</table>\n"
      ],
      "text/latex": [
       "\\begin{tabular}{r|lllllllllllllllllll}\n",
       " snp\\_id & p\\_value & beta & beta\\_se & empirical\\_feature\\_p\\_value & feature\\_chromosome & feature\\_start & feature\\_end & n\\_samples & n\\_e\\_samples & alpha\\_param & beta\\_param & snp\\_chromosome & snp\\_position & assessed\\_allele & call\\_rate & maf & hwe\\_p & feature\\_id\\\\\n",
       "\\hline\n",
       "\t 19\\_54634143\\_A\\_T & 0.001069852           & 0.3401970             & 0.1039886             & 0.4757919             & 19                    & 54641444              & 54659419              & 151                   & 151                   & 0.5774789             & 249.2122              & 19                    & 54634143              & T                     & 1                     & 0.1523179             & 0.3430453             & ENSG00000088038      \\\\\n",
       "\t 19\\_54654779\\_C\\_T & 0.002161913           & 0.3472048             & 0.1132052             & 0.6040234             & 19                    & 54412589              & 54447195              & 151                   & 151                   & 0.6190243             & 228.6966              & 19                    & 54654779              & T                     & 1                     & 0.2682119             & 0.0607964             & ENSG00000105605      \\\\\n",
       "\\end{tabular}\n"
      ],
      "text/markdown": [
       "\n",
       "| snp_id | p_value | beta | beta_se | empirical_feature_p_value | feature_chromosome | feature_start | feature_end | n_samples | n_e_samples | alpha_param | beta_param | snp_chromosome | snp_position | assessed_allele | call_rate | maf | hwe_p | feature_id |\n",
       "|---|---|---|---|---|---|---|---|---|---|---|---|---|---|---|---|---|---|---|\n",
       "| 19_54634143_A_T | 0.001069852     | 0.3401970       | 0.1039886       | 0.4757919       | 19              | 54641444        | 54659419        | 151             | 151             | 0.5774789       | 249.2122        | 19              | 54634143        | T               | 1               | 0.1523179       | 0.3430453       | ENSG00000088038 |\n",
       "| 19_54654779_C_T | 0.002161913     | 0.3472048       | 0.1132052       | 0.6040234       | 19              | 54412589        | 54447195        | 151             | 151             | 0.6190243       | 228.6966        | 19              | 54654779        | T               | 1               | 0.2682119       | 0.0607964       | ENSG00000105605 |\n",
       "\n"
      ],
      "text/plain": [
       "  snp_id          p_value     beta      beta_se   empirical_feature_p_value\n",
       "1 19_54634143_A_T 0.001069852 0.3401970 0.1039886 0.4757919                \n",
       "2 19_54654779_C_T 0.002161913 0.3472048 0.1132052 0.6040234                \n",
       "  feature_chromosome feature_start feature_end n_samples n_e_samples\n",
       "1 19                 54641444      54659419    151       151        \n",
       "2 19                 54412589      54447195    151       151        \n",
       "  alpha_param beta_param snp_chromosome snp_position assessed_allele call_rate\n",
       "1 0.5774789   249.2122   19             54634143     T               1        \n",
       "2 0.6190243   228.6966   19             54654779     T               1        \n",
       "  maf       hwe_p     feature_id     \n",
       "1 0.1523179 0.3430453 ENSG00000088038\n",
       "2 0.2682119 0.0607964 ENSG00000105605"
      ]
     },
     "metadata": {},
     "output_type": "display_data"
    },
    {
     "data": {
      "text/html": [
       "311"
      ],
      "text/latex": [
       "311"
      ],
      "text/markdown": [
       "311"
      ],
      "text/plain": [
       "[1] 311"
      ]
     },
     "metadata": {},
     "output_type": "display_data"
    },
    {
     "data": {
      "text/html": [
       "341"
      ],
      "text/latex": [
       "341"
      ],
      "text/markdown": [
       "341"
      ],
      "text/plain": [
       "[1] 341"
      ]
     },
     "metadata": {},
     "output_type": "display_data"
    }
   ],
   "source": [
    "## Sert\n",
    "Sert_D30_filename = paste0(mydir,\"input_files/celltype_Sert/no_kinship_results/top_qtl_results_all.txt\")\n",
    "# Sert_D30_filename = paste0(mydir,\"input_files/celltype_Sert/no_kinship_results_archive_20200919/top_qtl_results_all.txt\")\n",
    "Sert_D30 = read.csv(Sert_D30_filename,sep=\"\\t\")\n",
    "head(Sert_D30,2)\n",
    "\n",
    "Sert_D30$global_corr_p_value = p.adjust(Sert_D30$empirical_feature_p_value, method = \"BH\")\n",
    "nrow(Sert_D30[Sert_D30$global_corr_p_value < 0.05,])\n",
    "Sert_D30$q_value = qvalue(Sert_D30$empirical_feature_p_value)$qvalues\n",
    "length(unique(Sert_D30[Sert_D30$q_value < 0.05,'feature_id']))\n",
    "\n",
    "Sert_D30$label = 'Sert_D30'\n",
    "leads = rbind(leads,Sert_D30)"
   ]
  },
  {
   "cell_type": "code",
   "execution_count": 226,
   "metadata": {},
   "outputs": [
    {
     "data": {
      "text/html": [
       "<table>\n",
       "<thead><tr><th scope=col>snp_id</th><th scope=col>p_value</th><th scope=col>beta</th><th scope=col>beta_se</th><th scope=col>empirical_feature_p_value</th><th scope=col>feature_chromosome</th><th scope=col>feature_start</th><th scope=col>feature_end</th><th scope=col>n_samples</th><th scope=col>n_e_samples</th><th scope=col>alpha_param</th><th scope=col>beta_param</th><th scope=col>snp_chromosome</th><th scope=col>snp_position</th><th scope=col>assessed_allele</th><th scope=col>call_rate</th><th scope=col>maf</th><th scope=col>hwe_p</th><th scope=col>feature_id</th></tr></thead>\n",
       "<tbody>\n",
       "\t<tr><td>19_54511555_T_C</td><td>0.0014612711   </td><td>-0.2735400     </td><td>0.08595759     </td><td>0.5604324      </td><td>19             </td><td>54641444       </td><td>54659419       </td><td>133            </td><td>133            </td><td>0.5533438      </td><td>241.5515       </td><td>19             </td><td>54511555       </td><td>C              </td><td>1              </td><td>0.3421053      </td><td>0.8488044      </td><td>ENSG00000088038</td></tr>\n",
       "\t<tr><td>19_54896042_G_A</td><td>0.0001482877   </td><td> 0.3398571     </td><td>0.08957942     </td><td>0.1756815      </td><td>19             </td><td>54658899       </td><td>54663620       </td><td>133            </td><td>133            </td><td>0.5733416      </td><td>272.5058       </td><td>19             </td><td>54896042       </td><td>A              </td><td>1              </td><td>0.4774436      </td><td>0.8621719      </td><td>ENSG00000105617</td></tr>\n",
       "</tbody>\n",
       "</table>\n"
      ],
      "text/latex": [
       "\\begin{tabular}{r|lllllllllllllllllll}\n",
       " snp\\_id & p\\_value & beta & beta\\_se & empirical\\_feature\\_p\\_value & feature\\_chromosome & feature\\_start & feature\\_end & n\\_samples & n\\_e\\_samples & alpha\\_param & beta\\_param & snp\\_chromosome & snp\\_position & assessed\\_allele & call\\_rate & maf & hwe\\_p & feature\\_id\\\\\n",
       "\\hline\n",
       "\t 19\\_54511555\\_T\\_C & 0.0014612711          & -0.2735400            & 0.08595759            & 0.5604324             & 19                    & 54641444              & 54659419              & 133                   & 133                   & 0.5533438             & 241.5515              & 19                    & 54511555              & C                     & 1                     & 0.3421053             & 0.8488044             & ENSG00000088038      \\\\\n",
       "\t 19\\_54896042\\_G\\_A & 0.0001482877          &  0.3398571            & 0.08957942            & 0.1756815             & 19                    & 54658899              & 54663620              & 133                   & 133                   & 0.5733416             & 272.5058              & 19                    & 54896042              & A                     & 1                     & 0.4774436             & 0.8621719             & ENSG00000105617      \\\\\n",
       "\\end{tabular}\n"
      ],
      "text/markdown": [
       "\n",
       "| snp_id | p_value | beta | beta_se | empirical_feature_p_value | feature_chromosome | feature_start | feature_end | n_samples | n_e_samples | alpha_param | beta_param | snp_chromosome | snp_position | assessed_allele | call_rate | maf | hwe_p | feature_id |\n",
       "|---|---|---|---|---|---|---|---|---|---|---|---|---|---|---|---|---|---|---|\n",
       "| 19_54511555_T_C | 0.0014612711    | -0.2735400      | 0.08595759      | 0.5604324       | 19              | 54641444        | 54659419        | 133             | 133             | 0.5533438       | 241.5515        | 19              | 54511555        | C               | 1               | 0.3421053       | 0.8488044       | ENSG00000088038 |\n",
       "| 19_54896042_G_A | 0.0001482877    |  0.3398571      | 0.08957942      | 0.1756815       | 19              | 54658899        | 54663620        | 133             | 133             | 0.5733416       | 272.5058        | 19              | 54896042        | A               | 1               | 0.4774436       | 0.8621719       | ENSG00000105617 |\n",
       "\n"
      ],
      "text/plain": [
       "  snp_id          p_value      beta       beta_se    empirical_feature_p_value\n",
       "1 19_54511555_T_C 0.0014612711 -0.2735400 0.08595759 0.5604324                \n",
       "2 19_54896042_G_A 0.0001482877  0.3398571 0.08957942 0.1756815                \n",
       "  feature_chromosome feature_start feature_end n_samples n_e_samples\n",
       "1 19                 54641444      54659419    133       133        \n",
       "2 19                 54658899      54663620    133       133        \n",
       "  alpha_param beta_param snp_chromosome snp_position assessed_allele call_rate\n",
       "1 0.5533438   241.5515   19             54511555     C               1        \n",
       "2 0.5733416   272.5058   19             54896042     A               1        \n",
       "  maf       hwe_p     feature_id     \n",
       "1 0.3421053 0.8488044 ENSG00000088038\n",
       "2 0.4774436 0.8621719 ENSG00000105617"
      ]
     },
     "metadata": {},
     "output_type": "display_data"
    },
    {
     "data": {
      "text/html": [
       "393"
      ],
      "text/latex": [
       "393"
      ],
      "text/markdown": [
       "393"
      ],
      "text/plain": [
       "[1] 393"
      ]
     },
     "metadata": {},
     "output_type": "display_data"
    },
    {
     "data": {
      "text/html": [
       "426"
      ],
      "text/latex": [
       "426"
      ],
      "text/markdown": [
       "426"
      ],
      "text/plain": [
       "[1] 426"
      ]
     },
     "metadata": {},
     "output_type": "display_data"
    }
   ],
   "source": [
    "## Epen1\n",
    "Epen1_D30_filename = paste0(mydir,\"input_files/celltype_Epen1/no_kinship_results/top_qtl_results_all.txt\")\n",
    "# Epen1_D30_filename = paste0(mydir,\"input_files/celltype_Epen1/no_kinship_results_archive_20200919/top_qtl_results_all.txt\")\n",
    "Epen1_D30 = read.csv(Epen1_D30_filename,sep=\"\\t\")\n",
    "head(Epen1_D30,2)\n",
    "\n",
    "Epen1_D30$global_corr_p_value = p.adjust(Epen1_D30$empirical_feature_p_value, method = \"BH\")\n",
    "nrow(Epen1_D30[Epen1_D30$global_corr_p_value < 0.05,])\n",
    "Epen1_D30$q_value = qvalue(Epen1_D30$empirical_feature_p_value)$qvalues\n",
    "length(unique(Epen1_D30[Epen1_D30$q_value < 0.05,'feature_id']))\n",
    "\n",
    "Epen1_D30$label = 'Epen1_D30'\n",
    "leads = rbind(leads,Epen1_D30)"
   ]
  },
  {
   "cell_type": "code",
   "execution_count": 227,
   "metadata": {},
   "outputs": [],
   "source": [
    "#### D52\n",
    "mydir = \"/hps/nobackup/stegle/users/acuomo/all_scripts/sc_neuroseq/eqtl/timepoint_D52/\""
   ]
  },
  {
   "cell_type": "code",
   "execution_count": 228,
   "metadata": {},
   "outputs": [
    {
     "data": {
      "text/html": [
       "<table>\n",
       "<thead><tr><th scope=col>snp_id</th><th scope=col>p_value</th><th scope=col>beta</th><th scope=col>beta_se</th><th scope=col>empirical_feature_p_value</th><th scope=col>feature_chromosome</th><th scope=col>feature_start</th><th scope=col>feature_end</th><th scope=col>n_samples</th><th scope=col>n_e_samples</th><th scope=col>alpha_param</th><th scope=col>beta_param</th><th scope=col>snp_chromosome</th><th scope=col>snp_position</th><th scope=col>assessed_allele</th><th scope=col>call_rate</th><th scope=col>maf</th><th scope=col>hwe_p</th><th scope=col>feature_id</th></tr></thead>\n",
       "<tbody>\n",
       "\t<tr><td>19_54575593_T_C</td><td>3.474960e-03   </td><td>-0.3601291     </td><td>0.1232363      </td><td>0.75385549     </td><td>19             </td><td>54641444       </td><td>54659419       </td><td>175            </td><td>175            </td><td>0.5024542      </td><td>190.1173       </td><td>19             </td><td>54575593       </td><td>C              </td><td>1              </td><td>0.1571429      </td><td>0.2583264      </td><td>ENSG00000088038</td></tr>\n",
       "\t<tr><td>19_54224827_A_G</td><td>1.663024e-05   </td><td>-0.4619074     </td><td>0.1072730      </td><td>0.06762504     </td><td>19             </td><td>54412589       </td><td>54447195       </td><td>175            </td><td>175            </td><td>0.6721784      </td><td>296.7860       </td><td>19             </td><td>54224827       </td><td>G              </td><td>1              </td><td>0.2600000      </td><td>0.5587093      </td><td>ENSG00000105605</td></tr>\n",
       "</tbody>\n",
       "</table>\n"
      ],
      "text/latex": [
       "\\begin{tabular}{r|lllllllllllllllllll}\n",
       " snp\\_id & p\\_value & beta & beta\\_se & empirical\\_feature\\_p\\_value & feature\\_chromosome & feature\\_start & feature\\_end & n\\_samples & n\\_e\\_samples & alpha\\_param & beta\\_param & snp\\_chromosome & snp\\_position & assessed\\_allele & call\\_rate & maf & hwe\\_p & feature\\_id\\\\\n",
       "\\hline\n",
       "\t 19\\_54575593\\_T\\_C & 3.474960e-03          & -0.3601291            & 0.1232363             & 0.75385549            & 19                    & 54641444              & 54659419              & 175                   & 175                   & 0.5024542             & 190.1173              & 19                    & 54575593              & C                     & 1                     & 0.1571429             & 0.2583264             & ENSG00000088038      \\\\\n",
       "\t 19\\_54224827\\_A\\_G & 1.663024e-05          & -0.4619074            & 0.1072730             & 0.06762504            & 19                    & 54412589              & 54447195              & 175                   & 175                   & 0.6721784             & 296.7860              & 19                    & 54224827              & G                     & 1                     & 0.2600000             & 0.5587093             & ENSG00000105605      \\\\\n",
       "\\end{tabular}\n"
      ],
      "text/markdown": [
       "\n",
       "| snp_id | p_value | beta | beta_se | empirical_feature_p_value | feature_chromosome | feature_start | feature_end | n_samples | n_e_samples | alpha_param | beta_param | snp_chromosome | snp_position | assessed_allele | call_rate | maf | hwe_p | feature_id |\n",
       "|---|---|---|---|---|---|---|---|---|---|---|---|---|---|---|---|---|---|---|\n",
       "| 19_54575593_T_C | 3.474960e-03    | -0.3601291      | 0.1232363       | 0.75385549      | 19              | 54641444        | 54659419        | 175             | 175             | 0.5024542       | 190.1173        | 19              | 54575593        | C               | 1               | 0.1571429       | 0.2583264       | ENSG00000088038 |\n",
       "| 19_54224827_A_G | 1.663024e-05    | -0.4619074      | 0.1072730       | 0.06762504      | 19              | 54412589        | 54447195        | 175             | 175             | 0.6721784       | 296.7860        | 19              | 54224827        | G               | 1               | 0.2600000       | 0.5587093       | ENSG00000105605 |\n",
       "\n"
      ],
      "text/plain": [
       "  snp_id          p_value      beta       beta_se   empirical_feature_p_value\n",
       "1 19_54575593_T_C 3.474960e-03 -0.3601291 0.1232363 0.75385549               \n",
       "2 19_54224827_A_G 1.663024e-05 -0.4619074 0.1072730 0.06762504               \n",
       "  feature_chromosome feature_start feature_end n_samples n_e_samples\n",
       "1 19                 54641444      54659419    175       175        \n",
       "2 19                 54412589      54447195    175       175        \n",
       "  alpha_param beta_param snp_chromosome snp_position assessed_allele call_rate\n",
       "1 0.5024542   190.1173   19             54575593     C               1        \n",
       "2 0.6721784   296.7860   19             54224827     G               1        \n",
       "  maf       hwe_p     feature_id     \n",
       "1 0.1571429 0.2583264 ENSG00000088038\n",
       "2 0.2600000 0.5587093 ENSG00000105605"
      ]
     },
     "metadata": {},
     "output_type": "display_data"
    },
    {
     "data": {
      "text/html": [
       "435"
      ],
      "text/latex": [
       "435"
      ],
      "text/markdown": [
       "435"
      ],
      "text/plain": [
       "[1] 435"
      ]
     },
     "metadata": {},
     "output_type": "display_data"
    },
    {
     "data": {
      "text/html": [
       "475"
      ],
      "text/latex": [
       "475"
      ],
      "text/markdown": [
       "475"
      ],
      "text/plain": [
       "[1] 475"
      ]
     },
     "metadata": {},
     "output_type": "display_data"
    }
   ],
   "source": [
    "#### NONE\n",
    "\n",
    "## DA\n",
    "DA_filename = paste0(mydir,\"input_files_untreated/celltype_DA/no_kinship_results/top_qtl_results_all.txt\")\n",
    "# DA_filename = paste0(mydir,\"input_files_untreated/celltype_DA/no_kinship_results_archive_20200919/top_qtl_results_all.txt\")\n",
    "DA = read.csv(DA_filename,sep=\"\\t\")\n",
    "head(DA,2)\n",
    "\n",
    "DA$global_corr_p_value = p.adjust(DA$empirical_feature_p_value, method = \"BH\")\n",
    "nrow(DA[DA$global_corr_p_value < 0.05,])\n",
    "DA$q_value = qvalue(DA$empirical_feature_p_value)$qvalues\n",
    "length(unique(DA[DA$q_value < 0.05,'feature_id']))\n",
    "\n",
    "DA$label = 'DA_D52'\n",
    "leads = rbind(leads,DA)"
   ]
  },
  {
   "cell_type": "code",
   "execution_count": 229,
   "metadata": {},
   "outputs": [
    {
     "data": {
      "text/html": [
       "<table>\n",
       "<thead><tr><th scope=col>snp_id</th><th scope=col>p_value</th><th scope=col>beta</th><th scope=col>beta_se</th><th scope=col>empirical_feature_p_value</th><th scope=col>feature_chromosome</th><th scope=col>feature_start</th><th scope=col>feature_end</th><th scope=col>n_samples</th><th scope=col>n_e_samples</th><th scope=col>alpha_param</th><th scope=col>beta_param</th><th scope=col>snp_chromosome</th><th scope=col>snp_position</th><th scope=col>assessed_allele</th><th scope=col>call_rate</th><th scope=col>maf</th><th scope=col>hwe_p</th><th scope=col>feature_id</th></tr></thead>\n",
       "<tbody>\n",
       "\t<tr><td>19_54857316_T_C</td><td>0.0069069754   </td><td>0.3213412      </td><td>0.1189581      </td><td>0.8882675      </td><td>19             </td><td>54641444       </td><td>54659419       </td><td>161            </td><td>161            </td><td>0.5996171      </td><td>211.7315       </td><td>19             </td><td>54857316       </td><td>C              </td><td>1              </td><td>0.1708075      </td><td>0.5750293      </td><td>ENSG00000088038</td></tr>\n",
       "\t<tr><td>19_54217923_G_C</td><td>0.0002360505   </td><td>0.4946661      </td><td>0.1345321      </td><td>0.1744274      </td><td>19             </td><td>54412589       </td><td>54447195       </td><td>161            </td><td>161            </td><td>0.6350640      </td><td>236.7064       </td><td>19             </td><td>54217923       </td><td>C              </td><td>1              </td><td>0.1521739      </td><td>0.3731403      </td><td>ENSG00000105605</td></tr>\n",
       "</tbody>\n",
       "</table>\n"
      ],
      "text/latex": [
       "\\begin{tabular}{r|lllllllllllllllllll}\n",
       " snp\\_id & p\\_value & beta & beta\\_se & empirical\\_feature\\_p\\_value & feature\\_chromosome & feature\\_start & feature\\_end & n\\_samples & n\\_e\\_samples & alpha\\_param & beta\\_param & snp\\_chromosome & snp\\_position & assessed\\_allele & call\\_rate & maf & hwe\\_p & feature\\_id\\\\\n",
       "\\hline\n",
       "\t 19\\_54857316\\_T\\_C & 0.0069069754          & 0.3213412             & 0.1189581             & 0.8882675             & 19                    & 54641444              & 54659419              & 161                   & 161                   & 0.5996171             & 211.7315              & 19                    & 54857316              & C                     & 1                     & 0.1708075             & 0.5750293             & ENSG00000088038      \\\\\n",
       "\t 19\\_54217923\\_G\\_C & 0.0002360505          & 0.4946661             & 0.1345321             & 0.1744274             & 19                    & 54412589              & 54447195              & 161                   & 161                   & 0.6350640             & 236.7064              & 19                    & 54217923              & C                     & 1                     & 0.1521739             & 0.3731403             & ENSG00000105605      \\\\\n",
       "\\end{tabular}\n"
      ],
      "text/markdown": [
       "\n",
       "| snp_id | p_value | beta | beta_se | empirical_feature_p_value | feature_chromosome | feature_start | feature_end | n_samples | n_e_samples | alpha_param | beta_param | snp_chromosome | snp_position | assessed_allele | call_rate | maf | hwe_p | feature_id |\n",
       "|---|---|---|---|---|---|---|---|---|---|---|---|---|---|---|---|---|---|---|\n",
       "| 19_54857316_T_C | 0.0069069754    | 0.3213412       | 0.1189581       | 0.8882675       | 19              | 54641444        | 54659419        | 161             | 161             | 0.5996171       | 211.7315        | 19              | 54857316        | C               | 1               | 0.1708075       | 0.5750293       | ENSG00000088038 |\n",
       "| 19_54217923_G_C | 0.0002360505    | 0.4946661       | 0.1345321       | 0.1744274       | 19              | 54412589        | 54447195        | 161             | 161             | 0.6350640       | 236.7064        | 19              | 54217923        | C               | 1               | 0.1521739       | 0.3731403       | ENSG00000105605 |\n",
       "\n"
      ],
      "text/plain": [
       "  snp_id          p_value      beta      beta_se   empirical_feature_p_value\n",
       "1 19_54857316_T_C 0.0069069754 0.3213412 0.1189581 0.8882675                \n",
       "2 19_54217923_G_C 0.0002360505 0.4946661 0.1345321 0.1744274                \n",
       "  feature_chromosome feature_start feature_end n_samples n_e_samples\n",
       "1 19                 54641444      54659419    161       161        \n",
       "2 19                 54412589      54447195    161       161        \n",
       "  alpha_param beta_param snp_chromosome snp_position assessed_allele call_rate\n",
       "1 0.5996171   211.7315   19             54857316     C               1        \n",
       "2 0.6350640   236.7064   19             54217923     C               1        \n",
       "  maf       hwe_p     feature_id     \n",
       "1 0.1708075 0.5750293 ENSG00000088038\n",
       "2 0.1521739 0.3731403 ENSG00000105605"
      ]
     },
     "metadata": {},
     "output_type": "display_data"
    },
    {
     "data": {
      "text/html": [
       "515"
      ],
      "text/latex": [
       "515"
      ],
      "text/markdown": [
       "515"
      ],
      "text/plain": [
       "[1] 515"
      ]
     },
     "metadata": {},
     "output_type": "display_data"
    },
    {
     "data": {
      "text/html": [
       "602"
      ],
      "text/latex": [
       "602"
      ],
      "text/markdown": [
       "602"
      ],
      "text/plain": [
       "[1] 602"
      ]
     },
     "metadata": {},
     "output_type": "display_data"
    }
   ],
   "source": [
    "## Sert\n",
    "Sert_filename = paste0(mydir,\"input_files_untreated/celltype_Sert/no_kinship_results/top_qtl_results_all.txt\")\n",
    "# Sert_filename = paste0(mydir,\"input_files_untreated/celltype_Sert/no_kinship_results_archive_20200919/top_qtl_results_all.txt\")\n",
    "Sert = read.csv(Sert_filename,sep=\"\\t\")\n",
    "head(Sert,2)\n",
    "\n",
    "Sert$global_corr_p_value = p.adjust(Sert$empirical_feature_p_value, method = \"BH\")\n",
    "nrow(Sert[Sert$global_corr_p_value < 0.05,])\n",
    "Sert$q_value = qvalue(Sert$empirical_feature_p_value)$qvalues\n",
    "length(unique(Sert[Sert$q_value < 0.05,'feature_id']))\n",
    "\n",
    "Sert$label = 'Sert_D52'\n",
    "leads = rbind(leads,Sert)"
   ]
  },
  {
   "cell_type": "code",
   "execution_count": 230,
   "metadata": {},
   "outputs": [
    {
     "data": {
      "text/html": [
       "<table>\n",
       "<thead><tr><th scope=col>snp_id</th><th scope=col>p_value</th><th scope=col>beta</th><th scope=col>beta_se</th><th scope=col>empirical_feature_p_value</th><th scope=col>feature_chromosome</th><th scope=col>feature_start</th><th scope=col>feature_end</th><th scope=col>n_samples</th><th scope=col>n_e_samples</th><th scope=col>alpha_param</th><th scope=col>beta_param</th><th scope=col>snp_chromosome</th><th scope=col>snp_position</th><th scope=col>assessed_allele</th><th scope=col>call_rate</th><th scope=col>maf</th><th scope=col>hwe_p</th><th scope=col>feature_id</th></tr></thead>\n",
       "<tbody>\n",
       "\t<tr><td>19_54733056_C_T</td><td>0.002677945    </td><td>0.2778880      </td><td>0.09255300     </td><td>0.6673327      </td><td>19             </td><td>54641444       </td><td>54659419       </td><td>169            </td><td>169            </td><td>0.6780020      </td><td>260.3634       </td><td>19             </td><td>54733056       </td><td>T              </td><td>1              </td><td>0.3284024      </td><td>0.1657831      </td><td>ENSG00000088038</td></tr>\n",
       "\t<tr><td>19_54896042_G_A</td><td>0.010553975    </td><td>0.2190734      </td><td>0.08567161     </td><td>0.9694578      </td><td>19             </td><td>54658899       </td><td>54663620       </td><td>169            </td><td>169            </td><td>0.5995609      </td><td>244.7224       </td><td>19             </td><td>54896042       </td><td>A              </td><td>1              </td><td>0.4881657      </td><td>0.8776693      </td><td>ENSG00000105617</td></tr>\n",
       "</tbody>\n",
       "</table>\n"
      ],
      "text/latex": [
       "\\begin{tabular}{r|lllllllllllllllllll}\n",
       " snp\\_id & p\\_value & beta & beta\\_se & empirical\\_feature\\_p\\_value & feature\\_chromosome & feature\\_start & feature\\_end & n\\_samples & n\\_e\\_samples & alpha\\_param & beta\\_param & snp\\_chromosome & snp\\_position & assessed\\_allele & call\\_rate & maf & hwe\\_p & feature\\_id\\\\\n",
       "\\hline\n",
       "\t 19\\_54733056\\_C\\_T & 0.002677945           & 0.2778880             & 0.09255300            & 0.6673327             & 19                    & 54641444              & 54659419              & 169                   & 169                   & 0.6780020             & 260.3634              & 19                    & 54733056              & T                     & 1                     & 0.3284024             & 0.1657831             & ENSG00000088038      \\\\\n",
       "\t 19\\_54896042\\_G\\_A & 0.010553975           & 0.2190734             & 0.08567161            & 0.9694578             & 19                    & 54658899              & 54663620              & 169                   & 169                   & 0.5995609             & 244.7224              & 19                    & 54896042              & A                     & 1                     & 0.4881657             & 0.8776693             & ENSG00000105617      \\\\\n",
       "\\end{tabular}\n"
      ],
      "text/markdown": [
       "\n",
       "| snp_id | p_value | beta | beta_se | empirical_feature_p_value | feature_chromosome | feature_start | feature_end | n_samples | n_e_samples | alpha_param | beta_param | snp_chromosome | snp_position | assessed_allele | call_rate | maf | hwe_p | feature_id |\n",
       "|---|---|---|---|---|---|---|---|---|---|---|---|---|---|---|---|---|---|---|\n",
       "| 19_54733056_C_T | 0.002677945     | 0.2778880       | 0.09255300      | 0.6673327       | 19              | 54641444        | 54659419        | 169             | 169             | 0.6780020       | 260.3634        | 19              | 54733056        | T               | 1               | 0.3284024       | 0.1657831       | ENSG00000088038 |\n",
       "| 19_54896042_G_A | 0.010553975     | 0.2190734       | 0.08567161      | 0.9694578       | 19              | 54658899        | 54663620        | 169             | 169             | 0.5995609       | 244.7224        | 19              | 54896042        | A               | 1               | 0.4881657       | 0.8776693       | ENSG00000105617 |\n",
       "\n"
      ],
      "text/plain": [
       "  snp_id          p_value     beta      beta_se    empirical_feature_p_value\n",
       "1 19_54733056_C_T 0.002677945 0.2778880 0.09255300 0.6673327                \n",
       "2 19_54896042_G_A 0.010553975 0.2190734 0.08567161 0.9694578                \n",
       "  feature_chromosome feature_start feature_end n_samples n_e_samples\n",
       "1 19                 54641444      54659419    169       169        \n",
       "2 19                 54658899      54663620    169       169        \n",
       "  alpha_param beta_param snp_chromosome snp_position assessed_allele call_rate\n",
       "1 0.6780020   260.3634   19             54733056     T               1        \n",
       "2 0.5995609   244.7224   19             54896042     A               1        \n",
       "  maf       hwe_p     feature_id     \n",
       "1 0.3284024 0.1657831 ENSG00000088038\n",
       "2 0.4881657 0.8776693 ENSG00000105617"
      ]
     },
     "metadata": {},
     "output_type": "display_data"
    },
    {
     "data": {
      "text/html": [
       "554"
      ],
      "text/latex": [
       "554"
      ],
      "text/markdown": [
       "554"
      ],
      "text/plain": [
       "[1] 554"
      ]
     },
     "metadata": {},
     "output_type": "display_data"
    },
    {
     "data": {
      "text/html": [
       "597"
      ],
      "text/latex": [
       "597"
      ],
      "text/markdown": [
       "597"
      ],
      "text/plain": [
       "[1] 597"
      ]
     },
     "metadata": {},
     "output_type": "display_data"
    }
   ],
   "source": [
    "## Epen1\n",
    "Epen1_filename = paste0(mydir,\"input_files_untreated/celltype_Epen1/no_kinship_results/top_qtl_results_all.txt\")\n",
    "# Epen1_filename = paste0(mydir,\"input_files_untreated/celltype_Epen1/no_kinship_results_archive_20200919/top_qtl_results_all.txt\")\n",
    "Epen1 = read.csv(Epen1_filename,sep=\"\\t\")\n",
    "head(Epen1,2)\n",
    "\n",
    "Epen1$global_corr_p_value = p.adjust(Epen1$empirical_feature_p_value, method = \"BH\")\n",
    "nrow(Epen1[Epen1$global_corr_p_value < 0.05,])\n",
    "Epen1$q_value = qvalue(Epen1$empirical_feature_p_value)$qvalues\n",
    "length(unique(Epen1[Epen1$q_value < 0.05,'feature_id']))\n",
    "\n",
    "Epen1$label = 'Epen1_D52'\n",
    "leads = rbind(leads,Epen1)"
   ]
  },
  {
   "cell_type": "code",
   "execution_count": 231,
   "metadata": {},
   "outputs": [
    {
     "data": {
      "text/html": [
       "<table>\n",
       "<thead><tr><th scope=col>snp_id</th><th scope=col>p_value</th><th scope=col>beta</th><th scope=col>beta_se</th><th scope=col>empirical_feature_p_value</th><th scope=col>feature_chromosome</th><th scope=col>feature_start</th><th scope=col>feature_end</th><th scope=col>n_samples</th><th scope=col>n_e_samples</th><th scope=col>alpha_param</th><th scope=col>beta_param</th><th scope=col>snp_chromosome</th><th scope=col>snp_position</th><th scope=col>assessed_allele</th><th scope=col>call_rate</th><th scope=col>maf</th><th scope=col>hwe_p</th><th scope=col>feature_id</th></tr></thead>\n",
       "<tbody>\n",
       "\t<tr><td>19_54813189_G_T</td><td>0.006876727    </td><td>-0.4806704     </td><td>0.1778446      </td><td>0.9253679      </td><td>19             </td><td>54641444       </td><td>54659419       </td><td>120            </td><td>120            </td><td>0.4850446      </td><td>225.5386       </td><td>19             </td><td>54813189       </td><td>T              </td><td>1              </td><td>0.1083333      </td><td>1.0000000      </td><td>ENSG00000088038</td></tr>\n",
       "\t<tr><td>19_54721631_T_C</td><td>0.001569473    </td><td>-0.5868280     </td><td>0.1856157      </td><td>0.6208842      </td><td>19             </td><td>54658899       </td><td>54663620       </td><td>120            </td><td>120            </td><td>0.5335600      </td><td>271.4121       </td><td>19             </td><td>54721631       </td><td>C              </td><td>1              </td><td>0.1041667      </td><td>0.3603319      </td><td>ENSG00000105617</td></tr>\n",
       "</tbody>\n",
       "</table>\n"
      ],
      "text/latex": [
       "\\begin{tabular}{r|lllllllllllllllllll}\n",
       " snp\\_id & p\\_value & beta & beta\\_se & empirical\\_feature\\_p\\_value & feature\\_chromosome & feature\\_start & feature\\_end & n\\_samples & n\\_e\\_samples & alpha\\_param & beta\\_param & snp\\_chromosome & snp\\_position & assessed\\_allele & call\\_rate & maf & hwe\\_p & feature\\_id\\\\\n",
       "\\hline\n",
       "\t 19\\_54813189\\_G\\_T & 0.006876727           & -0.4806704            & 0.1778446             & 0.9253679             & 19                    & 54641444              & 54659419              & 120                   & 120                   & 0.4850446             & 225.5386              & 19                    & 54813189              & T                     & 1                     & 0.1083333             & 1.0000000             & ENSG00000088038      \\\\\n",
       "\t 19\\_54721631\\_T\\_C & 0.001569473           & -0.5868280            & 0.1856157             & 0.6208842             & 19                    & 54658899              & 54663620              & 120                   & 120                   & 0.5335600             & 271.4121              & 19                    & 54721631              & C                     & 1                     & 0.1041667             & 0.3603319             & ENSG00000105617      \\\\\n",
       "\\end{tabular}\n"
      ],
      "text/markdown": [
       "\n",
       "| snp_id | p_value | beta | beta_se | empirical_feature_p_value | feature_chromosome | feature_start | feature_end | n_samples | n_e_samples | alpha_param | beta_param | snp_chromosome | snp_position | assessed_allele | call_rate | maf | hwe_p | feature_id |\n",
       "|---|---|---|---|---|---|---|---|---|---|---|---|---|---|---|---|---|---|---|\n",
       "| 19_54813189_G_T | 0.006876727     | -0.4806704      | 0.1778446       | 0.9253679       | 19              | 54641444        | 54659419        | 120             | 120             | 0.4850446       | 225.5386        | 19              | 54813189        | T               | 1               | 0.1083333       | 1.0000000       | ENSG00000088038 |\n",
       "| 19_54721631_T_C | 0.001569473     | -0.5868280      | 0.1856157       | 0.6208842       | 19              | 54658899        | 54663620        | 120             | 120             | 0.5335600       | 271.4121        | 19              | 54721631        | C               | 1               | 0.1041667       | 0.3603319       | ENSG00000105617 |\n",
       "\n"
      ],
      "text/plain": [
       "  snp_id          p_value     beta       beta_se   empirical_feature_p_value\n",
       "1 19_54813189_G_T 0.006876727 -0.4806704 0.1778446 0.9253679                \n",
       "2 19_54721631_T_C 0.001569473 -0.5868280 0.1856157 0.6208842                \n",
       "  feature_chromosome feature_start feature_end n_samples n_e_samples\n",
       "1 19                 54641444      54659419    120       120        \n",
       "2 19                 54658899      54663620    120       120        \n",
       "  alpha_param beta_param snp_chromosome snp_position assessed_allele call_rate\n",
       "1 0.4850446   225.5386   19             54813189     T               1        \n",
       "2 0.5335600   271.4121   19             54721631     C               1        \n",
       "  maf       hwe_p     feature_id     \n",
       "1 0.1083333 1.0000000 ENSG00000088038\n",
       "2 0.1041667 0.3603319 ENSG00000105617"
      ]
     },
     "metadata": {},
     "output_type": "display_data"
    },
    {
     "data": {
      "text/html": [
       "72"
      ],
      "text/latex": [
       "72"
      ],
      "text/markdown": [
       "72"
      ],
      "text/plain": [
       "[1] 72"
      ]
     },
     "metadata": {},
     "output_type": "display_data"
    },
    {
     "data": {
      "text/html": [
       "81"
      ],
      "text/latex": [
       "81"
      ],
      "text/markdown": [
       "81"
      ],
      "text/plain": [
       "[1] 81"
      ]
     },
     "metadata": {},
     "output_type": "display_data"
    }
   ],
   "source": [
    "## Astro\n",
    "Astro_filename = paste0(mydir,\"input_files_untreated/celltype_Astro/no_kinship_results/top_qtl_results_all.txt\")\n",
    "# Astro_filename = paste0(mydir,\"input_files_untreated/celltype_Astro/no_kinship_results_archive_20200919/top_qtl_results_all.txt\")\n",
    "Astro = read.csv(Astro_filename,sep=\"\\t\")\n",
    "head(Astro,2)\n",
    "\n",
    "Astro$global_corr_p_value = p.adjust(Astro$empirical_feature_p_value, method = \"BH\")\n",
    "nrow(Astro[Astro$global_corr_p_value < 0.05,])\n",
    "Astro$q_value = qvalue(Astro$empirical_feature_p_value)$qvalues\n",
    "length(unique(Astro[Astro$q_value < 0.05,'feature_id']))\n",
    "\n",
    "Astro$label = 'Astro_D52'\n",
    "leads = rbind(leads,Astro)"
   ]
  },
  {
   "cell_type": "code",
   "execution_count": 232,
   "metadata": {},
   "outputs": [
    {
     "data": {
      "text/html": [
       "<table>\n",
       "<thead><tr><th scope=col>snp_id</th><th scope=col>p_value</th><th scope=col>beta</th><th scope=col>beta_se</th><th scope=col>empirical_feature_p_value</th><th scope=col>feature_chromosome</th><th scope=col>feature_start</th><th scope=col>feature_end</th><th scope=col>n_samples</th><th scope=col>n_e_samples</th><th scope=col>alpha_param</th><th scope=col>beta_param</th><th scope=col>snp_chromosome</th><th scope=col>snp_position</th><th scope=col>assessed_allele</th><th scope=col>call_rate</th><th scope=col>maf</th><th scope=col>hwe_p</th><th scope=col>feature_id</th></tr></thead>\n",
       "<tbody>\n",
       "\t<tr><td>19_54872974_C_A</td><td>4.367323e-05   </td><td> 0.3574420     </td><td>0.08745539     </td><td>0.09754856     </td><td>19             </td><td>54641444       </td><td>54659419       </td><td>157            </td><td>157            </td><td>0.5310066      </td><td>230.1722       </td><td>19             </td><td>54872974       </td><td>A              </td><td>1              </td><td>0.3980892      </td><td>0.09602904     </td><td>ENSG00000088038</td></tr>\n",
       "\t<tr><td>19_54187426_G_A</td><td>4.459866e-03   </td><td>-0.4158861     </td><td>0.14625032     </td><td>0.77530442     </td><td>19             </td><td>54412589       </td><td>54447195       </td><td>157            </td><td>157            </td><td>0.5968718      </td><td>193.5252       </td><td>19             </td><td>54187426       </td><td>A              </td><td>1              </td><td>0.1369427      </td><td>1.00000000     </td><td>ENSG00000105605</td></tr>\n",
       "</tbody>\n",
       "</table>\n"
      ],
      "text/latex": [
       "\\begin{tabular}{r|lllllllllllllllllll}\n",
       " snp\\_id & p\\_value & beta & beta\\_se & empirical\\_feature\\_p\\_value & feature\\_chromosome & feature\\_start & feature\\_end & n\\_samples & n\\_e\\_samples & alpha\\_param & beta\\_param & snp\\_chromosome & snp\\_position & assessed\\_allele & call\\_rate & maf & hwe\\_p & feature\\_id\\\\\n",
       "\\hline\n",
       "\t 19\\_54872974\\_C\\_A & 4.367323e-05          &  0.3574420            & 0.08745539            & 0.09754856            & 19                    & 54641444              & 54659419              & 157                   & 157                   & 0.5310066             & 230.1722              & 19                    & 54872974              & A                     & 1                     & 0.3980892             & 0.09602904            & ENSG00000088038      \\\\\n",
       "\t 19\\_54187426\\_G\\_A & 4.459866e-03          & -0.4158861            & 0.14625032            & 0.77530442            & 19                    & 54412589              & 54447195              & 157                   & 157                   & 0.5968718             & 193.5252              & 19                    & 54187426              & A                     & 1                     & 0.1369427             & 1.00000000            & ENSG00000105605      \\\\\n",
       "\\end{tabular}\n"
      ],
      "text/markdown": [
       "\n",
       "| snp_id | p_value | beta | beta_se | empirical_feature_p_value | feature_chromosome | feature_start | feature_end | n_samples | n_e_samples | alpha_param | beta_param | snp_chromosome | snp_position | assessed_allele | call_rate | maf | hwe_p | feature_id |\n",
       "|---|---|---|---|---|---|---|---|---|---|---|---|---|---|---|---|---|---|---|\n",
       "| 19_54872974_C_A | 4.367323e-05    |  0.3574420      | 0.08745539      | 0.09754856      | 19              | 54641444        | 54659419        | 157             | 157             | 0.5310066       | 230.1722        | 19              | 54872974        | A               | 1               | 0.3980892       | 0.09602904      | ENSG00000088038 |\n",
       "| 19_54187426_G_A | 4.459866e-03    | -0.4158861      | 0.14625032      | 0.77530442      | 19              | 54412589        | 54447195        | 157             | 157             | 0.5968718       | 193.5252        | 19              | 54187426        | A               | 1               | 0.1369427       | 1.00000000      | ENSG00000105605 |\n",
       "\n"
      ],
      "text/plain": [
       "  snp_id          p_value      beta       beta_se    empirical_feature_p_value\n",
       "1 19_54872974_C_A 4.367323e-05  0.3574420 0.08745539 0.09754856               \n",
       "2 19_54187426_G_A 4.459866e-03 -0.4158861 0.14625032 0.77530442               \n",
       "  feature_chromosome feature_start feature_end n_samples n_e_samples\n",
       "1 19                 54641444      54659419    157       157        \n",
       "2 19                 54412589      54447195    157       157        \n",
       "  alpha_param beta_param snp_chromosome snp_position assessed_allele call_rate\n",
       "1 0.5310066   230.1722   19             54872974     A               1        \n",
       "2 0.5968718   193.5252   19             54187426     A               1        \n",
       "  maf       hwe_p      feature_id     \n",
       "1 0.3980892 0.09602904 ENSG00000088038\n",
       "2 0.1369427 1.00000000 ENSG00000105605"
      ]
     },
     "metadata": {},
     "output_type": "display_data"
    },
    {
     "data": {
      "text/html": [
       "214"
      ],
      "text/latex": [
       "214"
      ],
      "text/markdown": [
       "214"
      ],
      "text/plain": [
       "[1] 214"
      ]
     },
     "metadata": {},
     "output_type": "display_data"
    },
    {
     "data": {
      "text/html": [
       "235"
      ],
      "text/latex": [
       "235"
      ],
      "text/markdown": [
       "235"
      ],
      "text/plain": [
       "[1] 235"
      ]
     },
     "metadata": {},
     "output_type": "display_data"
    }
   ],
   "source": [
    "#### ROT\n",
    "\n",
    "## DA\n",
    "DA_ROT_filename = paste0(mydir,\"input_files_ROT_treated/celltype_DA/no_kinship_results/top_qtl_results_all.txt\")\n",
    "# DA_ROT_filename = paste0(mydir,\"input_files_ROT_treated/celltype_DA/no_kinship_results_archive_20200919/top_qtl_results_all.txt\")\n",
    "DA_ROT = read.csv(DA_ROT_filename,sep=\"\\t\")\n",
    "head(DA_ROT,2)\n",
    "\n",
    "DA_ROT$global_corr_p_value = p.adjust(DA_ROT$empirical_feature_p_value, method = \"BH\")\n",
    "nrow(DA_ROT[DA_ROT$global_corr_p_value < 0.05,])\n",
    "DA_ROT$q_value = qvalue(DA_ROT$empirical_feature_p_value)$qvalues\n",
    "length(unique(DA_ROT[DA_ROT$q_value < 0.05,'feature_id']))\n",
    "\n",
    "DA_ROT$label = 'DA_D52_ROT'\n",
    "leads = rbind(leads,DA_ROT)"
   ]
  },
  {
   "cell_type": "code",
   "execution_count": 233,
   "metadata": {},
   "outputs": [
    {
     "data": {
      "text/html": [
       "<table>\n",
       "<thead><tr><th scope=col>snp_id</th><th scope=col>p_value</th><th scope=col>beta</th><th scope=col>beta_se</th><th scope=col>empirical_feature_p_value</th><th scope=col>feature_chromosome</th><th scope=col>feature_start</th><th scope=col>feature_end</th><th scope=col>n_samples</th><th scope=col>n_e_samples</th><th scope=col>alpha_param</th><th scope=col>beta_param</th><th scope=col>snp_chromosome</th><th scope=col>snp_position</th><th scope=col>assessed_allele</th><th scope=col>call_rate</th><th scope=col>maf</th><th scope=col>hwe_p</th><th scope=col>feature_id</th></tr></thead>\n",
       "<tbody>\n",
       "\t<tr><td>19_54735619_G_A</td><td>0.0024742341   </td><td> 0.4172981     </td><td>0.1378826      </td><td>0.6744698      </td><td>19             </td><td>54641444       </td><td>54659419       </td><td>154            </td><td>154            </td><td>0.5719257      </td><td>233.3186       </td><td>19             </td><td>54735619       </td><td>A              </td><td>1              </td><td>0.1136364      </td><td>0.2208281      </td><td>ENSG00000088038</td></tr>\n",
       "\t<tr><td>19_54571698_T_C</td><td>0.0004232513   </td><td>-0.6155303     </td><td>0.1746113      </td><td>0.2620545      </td><td>19             </td><td>54412589       </td><td>54447195       </td><td>154            </td><td>154            </td><td>0.5794261      </td><td>202.8316       </td><td>19             </td><td>54571698       </td><td>C              </td><td>1              </td><td>0.1136364      </td><td>1.0000000      </td><td>ENSG00000105605</td></tr>\n",
       "</tbody>\n",
       "</table>\n"
      ],
      "text/latex": [
       "\\begin{tabular}{r|lllllllllllllllllll}\n",
       " snp\\_id & p\\_value & beta & beta\\_se & empirical\\_feature\\_p\\_value & feature\\_chromosome & feature\\_start & feature\\_end & n\\_samples & n\\_e\\_samples & alpha\\_param & beta\\_param & snp\\_chromosome & snp\\_position & assessed\\_allele & call\\_rate & maf & hwe\\_p & feature\\_id\\\\\n",
       "\\hline\n",
       "\t 19\\_54735619\\_G\\_A & 0.0024742341          &  0.4172981            & 0.1378826             & 0.6744698             & 19                    & 54641444              & 54659419              & 154                   & 154                   & 0.5719257             & 233.3186              & 19                    & 54735619              & A                     & 1                     & 0.1136364             & 0.2208281             & ENSG00000088038      \\\\\n",
       "\t 19\\_54571698\\_T\\_C & 0.0004232513          & -0.6155303            & 0.1746113             & 0.2620545             & 19                    & 54412589              & 54447195              & 154                   & 154                   & 0.5794261             & 202.8316              & 19                    & 54571698              & C                     & 1                     & 0.1136364             & 1.0000000             & ENSG00000105605      \\\\\n",
       "\\end{tabular}\n"
      ],
      "text/markdown": [
       "\n",
       "| snp_id | p_value | beta | beta_se | empirical_feature_p_value | feature_chromosome | feature_start | feature_end | n_samples | n_e_samples | alpha_param | beta_param | snp_chromosome | snp_position | assessed_allele | call_rate | maf | hwe_p | feature_id |\n",
       "|---|---|---|---|---|---|---|---|---|---|---|---|---|---|---|---|---|---|---|\n",
       "| 19_54735619_G_A | 0.0024742341    |  0.4172981      | 0.1378826       | 0.6744698       | 19              | 54641444        | 54659419        | 154             | 154             | 0.5719257       | 233.3186        | 19              | 54735619        | A               | 1               | 0.1136364       | 0.2208281       | ENSG00000088038 |\n",
       "| 19_54571698_T_C | 0.0004232513    | -0.6155303      | 0.1746113       | 0.2620545       | 19              | 54412589        | 54447195        | 154             | 154             | 0.5794261       | 202.8316        | 19              | 54571698        | C               | 1               | 0.1136364       | 1.0000000       | ENSG00000105605 |\n",
       "\n"
      ],
      "text/plain": [
       "  snp_id          p_value      beta       beta_se   empirical_feature_p_value\n",
       "1 19_54735619_G_A 0.0024742341  0.4172981 0.1378826 0.6744698                \n",
       "2 19_54571698_T_C 0.0004232513 -0.6155303 0.1746113 0.2620545                \n",
       "  feature_chromosome feature_start feature_end n_samples n_e_samples\n",
       "1 19                 54641444      54659419    154       154        \n",
       "2 19                 54412589      54447195    154       154        \n",
       "  alpha_param beta_param snp_chromosome snp_position assessed_allele call_rate\n",
       "1 0.5719257   233.3186   19             54735619     A               1        \n",
       "2 0.5794261   202.8316   19             54571698     C               1        \n",
       "  maf       hwe_p     feature_id     \n",
       "1 0.1136364 0.2208281 ENSG00000088038\n",
       "2 0.1136364 1.0000000 ENSG00000105605"
      ]
     },
     "metadata": {},
     "output_type": "display_data"
    },
    {
     "data": {
      "text/html": [
       "493"
      ],
      "text/latex": [
       "493"
      ],
      "text/markdown": [
       "493"
      ],
      "text/plain": [
       "[1] 493"
      ]
     },
     "metadata": {},
     "output_type": "display_data"
    },
    {
     "data": {
      "text/html": [
       "550"
      ],
      "text/latex": [
       "550"
      ],
      "text/markdown": [
       "550"
      ],
      "text/plain": [
       "[1] 550"
      ]
     },
     "metadata": {},
     "output_type": "display_data"
    }
   ],
   "source": [
    "## Sert\n",
    "Sert_ROT_filename = paste0(mydir,\"input_files_ROT_treated/celltype_Sert/no_kinship_results/top_qtl_results_all.txt\")\n",
    "# Sert_ROT_filename = paste0(mydir,\"input_files_ROT_treated/celltype_Sert/no_kinship_results_archive_20200919/top_qtl_results_all.txt\")\n",
    "Sert_ROT = read.csv(Sert_ROT_filename,sep=\"\\t\")\n",
    "head(Sert_ROT,2)\n",
    "\n",
    "Sert_ROT$global_corr_p_value = p.adjust(Sert_ROT$empirical_feature_p_value, method = \"BH\")\n",
    "nrow(Sert_ROT[Sert_ROT$global_corr_p_value < 0.05,])\n",
    "Sert_ROT$q_value = qvalue(Sert_ROT$empirical_feature_p_value)$qvalues\n",
    "length(unique(Sert_ROT[Sert_ROT$q_value < 0.05,'feature_id']))\n",
    "\n",
    "Sert_ROT$label = 'Sert_D52_ROT'\n",
    "leads = rbind(leads,Sert_ROT)"
   ]
  },
  {
   "cell_type": "code",
   "execution_count": 234,
   "metadata": {},
   "outputs": [
    {
     "data": {
      "text/html": [
       "<table>\n",
       "<thead><tr><th scope=col>snp_id</th><th scope=col>p_value</th><th scope=col>beta</th><th scope=col>beta_se</th><th scope=col>empirical_feature_p_value</th><th scope=col>feature_chromosome</th><th scope=col>feature_start</th><th scope=col>feature_end</th><th scope=col>n_samples</th><th scope=col>n_e_samples</th><th scope=col>alpha_param</th><th scope=col>beta_param</th><th scope=col>snp_chromosome</th><th scope=col>snp_position</th><th scope=col>assessed_allele</th><th scope=col>call_rate</th><th scope=col>maf</th><th scope=col>hwe_p</th><th scope=col>feature_id</th></tr></thead>\n",
       "<tbody>\n",
       "\t<tr><td>19_54759102_G_A</td><td>0.0075302109   </td><td>0.2897735      </td><td>0.1084304      </td><td>0.9232348      </td><td>19             </td><td>54641444       </td><td>54659419       </td><td>165            </td><td>165            </td><td>0.5341389      </td><td>217.5855       </td><td>19             </td><td>54759102       </td><td>A              </td><td>1              </td><td>0.2848485      </td><td>0.25227929     </td><td>ENSG00000088038</td></tr>\n",
       "\t<tr><td>19_54597255_C_G</td><td>0.0005300833   </td><td>0.4157475      </td><td>0.1199823      </td><td>0.2882905      </td><td>19             </td><td>54658899       </td><td>54663620       </td><td>165            </td><td>165            </td><td>0.6371878      </td><td>244.8355       </td><td>19             </td><td>54597255       </td><td>G              </td><td>1              </td><td>0.1484848      </td><td>0.05645121     </td><td>ENSG00000105617</td></tr>\n",
       "</tbody>\n",
       "</table>\n"
      ],
      "text/latex": [
       "\\begin{tabular}{r|lllllllllllllllllll}\n",
       " snp\\_id & p\\_value & beta & beta\\_se & empirical\\_feature\\_p\\_value & feature\\_chromosome & feature\\_start & feature\\_end & n\\_samples & n\\_e\\_samples & alpha\\_param & beta\\_param & snp\\_chromosome & snp\\_position & assessed\\_allele & call\\_rate & maf & hwe\\_p & feature\\_id\\\\\n",
       "\\hline\n",
       "\t 19\\_54759102\\_G\\_A & 0.0075302109          & 0.2897735             & 0.1084304             & 0.9232348             & 19                    & 54641444              & 54659419              & 165                   & 165                   & 0.5341389             & 217.5855              & 19                    & 54759102              & A                     & 1                     & 0.2848485             & 0.25227929            & ENSG00000088038      \\\\\n",
       "\t 19\\_54597255\\_C\\_G & 0.0005300833          & 0.4157475             & 0.1199823             & 0.2882905             & 19                    & 54658899              & 54663620              & 165                   & 165                   & 0.6371878             & 244.8355              & 19                    & 54597255              & G                     & 1                     & 0.1484848             & 0.05645121            & ENSG00000105617      \\\\\n",
       "\\end{tabular}\n"
      ],
      "text/markdown": [
       "\n",
       "| snp_id | p_value | beta | beta_se | empirical_feature_p_value | feature_chromosome | feature_start | feature_end | n_samples | n_e_samples | alpha_param | beta_param | snp_chromosome | snp_position | assessed_allele | call_rate | maf | hwe_p | feature_id |\n",
       "|---|---|---|---|---|---|---|---|---|---|---|---|---|---|---|---|---|---|---|\n",
       "| 19_54759102_G_A | 0.0075302109    | 0.2897735       | 0.1084304       | 0.9232348       | 19              | 54641444        | 54659419        | 165             | 165             | 0.5341389       | 217.5855        | 19              | 54759102        | A               | 1               | 0.2848485       | 0.25227929      | ENSG00000088038 |\n",
       "| 19_54597255_C_G | 0.0005300833    | 0.4157475       | 0.1199823       | 0.2882905       | 19              | 54658899        | 54663620        | 165             | 165             | 0.6371878       | 244.8355        | 19              | 54597255        | G               | 1               | 0.1484848       | 0.05645121      | ENSG00000105617 |\n",
       "\n"
      ],
      "text/plain": [
       "  snp_id          p_value      beta      beta_se   empirical_feature_p_value\n",
       "1 19_54759102_G_A 0.0075302109 0.2897735 0.1084304 0.9232348                \n",
       "2 19_54597255_C_G 0.0005300833 0.4157475 0.1199823 0.2882905                \n",
       "  feature_chromosome feature_start feature_end n_samples n_e_samples\n",
       "1 19                 54641444      54659419    165       165        \n",
       "2 19                 54658899      54663620    165       165        \n",
       "  alpha_param beta_param snp_chromosome snp_position assessed_allele call_rate\n",
       "1 0.5341389   217.5855   19             54759102     A               1        \n",
       "2 0.6371878   244.8355   19             54597255     G               1        \n",
       "  maf       hwe_p      feature_id     \n",
       "1 0.2848485 0.25227929 ENSG00000088038\n",
       "2 0.1484848 0.05645121 ENSG00000105617"
      ]
     },
     "metadata": {},
     "output_type": "display_data"
    },
    {
     "data": {
      "text/html": [
       "473"
      ],
      "text/latex": [
       "473"
      ],
      "text/markdown": [
       "473"
      ],
      "text/plain": [
       "[1] 473"
      ]
     },
     "metadata": {},
     "output_type": "display_data"
    },
    {
     "data": {
      "text/html": [
       "502"
      ],
      "text/latex": [
       "502"
      ],
      "text/markdown": [
       "502"
      ],
      "text/plain": [
       "[1] 502"
      ]
     },
     "metadata": {},
     "output_type": "display_data"
    }
   ],
   "source": [
    "## Epen1\n",
    "Epen1_ROT_filename = paste0(mydir,\"input_files_ROT_treated/celltype_Epen1/no_kinship_results/top_qtl_results_all.txt\")\n",
    "# Epen1_ROT_filename = paste0(mydir,\"input_files_ROT_treated/celltype_Epen1/no_kinship_results_archive_20200919/top_qtl_results_all.txt\")\n",
    "Epen1_ROT = read.csv(Epen1_ROT_filename,sep=\"\\t\")\n",
    "head(Epen1_ROT,2)\n",
    "\n",
    "Epen1_ROT$global_corr_p_value = p.adjust(Epen1_ROT$empirical_feature_p_value, method = \"BH\")\n",
    "nrow(Epen1_ROT[Epen1_ROT$global_corr_p_value < 0.05,])\n",
    "Epen1_ROT$q_value = qvalue(Epen1_ROT$empirical_feature_p_value)$qvalues\n",
    "length(unique(Epen1_ROT[Epen1_ROT$q_value < 0.05,'feature_id']))\n",
    "\n",
    "Epen1_ROT$label = 'Epen1_D52_ROT'\n",
    "leads = rbind(leads,Epen1_ROT)"
   ]
  },
  {
   "cell_type": "code",
   "execution_count": 235,
   "metadata": {},
   "outputs": [
    {
     "data": {
      "text/html": [
       "<table>\n",
       "<thead><tr><th scope=col>snp_id</th><th scope=col>p_value</th><th scope=col>beta</th><th scope=col>beta_se</th><th scope=col>empirical_feature_p_value</th><th scope=col>feature_chromosome</th><th scope=col>feature_start</th><th scope=col>feature_end</th><th scope=col>n_samples</th><th scope=col>n_e_samples</th><th scope=col>alpha_param</th><th scope=col>beta_param</th><th scope=col>snp_chromosome</th><th scope=col>snp_position</th><th scope=col>assessed_allele</th><th scope=col>call_rate</th><th scope=col>maf</th><th scope=col>hwe_p</th><th scope=col>feature_id</th></tr></thead>\n",
       "<tbody>\n",
       "\t<tr><td>19_54767965_G_A</td><td>0.0002253419   </td><td>0.5227340      </td><td>0.1417096      </td><td>0.2705839      </td><td>19             </td><td>54641444       </td><td>54659419       </td><td>109            </td><td>109            </td><td>0.4950878      </td><td>257.9366       </td><td>19             </td><td>54767965       </td><td>A              </td><td>1              </td><td>0.18348624     </td><td>0.7545736      </td><td>ENSG00000088038</td></tr>\n",
       "\t<tr><td>19_54693442_C_A</td><td>0.0001763658   </td><td>0.6916194      </td><td>0.1843991      </td><td>0.2303886      </td><td>19             </td><td>54658899       </td><td>54663620       </td><td>109            </td><td>109            </td><td>0.5131607      </td><td>264.9366       </td><td>19             </td><td>54693442       </td><td>A              </td><td>1              </td><td>0.09633028     </td><td>1.0000000      </td><td>ENSG00000105617</td></tr>\n",
       "</tbody>\n",
       "</table>\n"
      ],
      "text/latex": [
       "\\begin{tabular}{r|lllllllllllllllllll}\n",
       " snp\\_id & p\\_value & beta & beta\\_se & empirical\\_feature\\_p\\_value & feature\\_chromosome & feature\\_start & feature\\_end & n\\_samples & n\\_e\\_samples & alpha\\_param & beta\\_param & snp\\_chromosome & snp\\_position & assessed\\_allele & call\\_rate & maf & hwe\\_p & feature\\_id\\\\\n",
       "\\hline\n",
       "\t 19\\_54767965\\_G\\_A & 0.0002253419          & 0.5227340             & 0.1417096             & 0.2705839             & 19                    & 54641444              & 54659419              & 109                   & 109                   & 0.4950878             & 257.9366              & 19                    & 54767965              & A                     & 1                     & 0.18348624            & 0.7545736             & ENSG00000088038      \\\\\n",
       "\t 19\\_54693442\\_C\\_A & 0.0001763658          & 0.6916194             & 0.1843991             & 0.2303886             & 19                    & 54658899              & 54663620              & 109                   & 109                   & 0.5131607             & 264.9366              & 19                    & 54693442              & A                     & 1                     & 0.09633028            & 1.0000000             & ENSG00000105617      \\\\\n",
       "\\end{tabular}\n"
      ],
      "text/markdown": [
       "\n",
       "| snp_id | p_value | beta | beta_se | empirical_feature_p_value | feature_chromosome | feature_start | feature_end | n_samples | n_e_samples | alpha_param | beta_param | snp_chromosome | snp_position | assessed_allele | call_rate | maf | hwe_p | feature_id |\n",
       "|---|---|---|---|---|---|---|---|---|---|---|---|---|---|---|---|---|---|---|\n",
       "| 19_54767965_G_A | 0.0002253419    | 0.5227340       | 0.1417096       | 0.2705839       | 19              | 54641444        | 54659419        | 109             | 109             | 0.4950878       | 257.9366        | 19              | 54767965        | A               | 1               | 0.18348624      | 0.7545736       | ENSG00000088038 |\n",
       "| 19_54693442_C_A | 0.0001763658    | 0.6916194       | 0.1843991       | 0.2303886       | 19              | 54658899        | 54663620        | 109             | 109             | 0.5131607       | 264.9366        | 19              | 54693442        | A               | 1               | 0.09633028      | 1.0000000       | ENSG00000105617 |\n",
       "\n"
      ],
      "text/plain": [
       "  snp_id          p_value      beta      beta_se   empirical_feature_p_value\n",
       "1 19_54767965_G_A 0.0002253419 0.5227340 0.1417096 0.2705839                \n",
       "2 19_54693442_C_A 0.0001763658 0.6916194 0.1843991 0.2303886                \n",
       "  feature_chromosome feature_start feature_end n_samples n_e_samples\n",
       "1 19                 54641444      54659419    109       109        \n",
       "2 19                 54658899      54663620    109       109        \n",
       "  alpha_param beta_param snp_chromosome snp_position assessed_allele call_rate\n",
       "1 0.4950878   257.9366   19             54767965     A               1        \n",
       "2 0.5131607   264.9366   19             54693442     A               1        \n",
       "  maf        hwe_p     feature_id     \n",
       "1 0.18348624 0.7545736 ENSG00000088038\n",
       "2 0.09633028 1.0000000 ENSG00000105617"
      ]
     },
     "metadata": {},
     "output_type": "display_data"
    },
    {
     "data": {
      "text/html": [
       "84"
      ],
      "text/latex": [
       "84"
      ],
      "text/markdown": [
       "84"
      ],
      "text/plain": [
       "[1] 84"
      ]
     },
     "metadata": {},
     "output_type": "display_data"
    },
    {
     "data": {
      "text/html": [
       "94"
      ],
      "text/latex": [
       "94"
      ],
      "text/markdown": [
       "94"
      ],
      "text/plain": [
       "[1] 94"
      ]
     },
     "metadata": {},
     "output_type": "display_data"
    }
   ],
   "source": [
    "## Astro\n",
    "Astro_ROT_filename = paste0(mydir,\"input_files_ROT_treated/celltype_Astro/no_kinship_results/top_qtl_results_all.txt\")\n",
    "# Astro_ROT_filename = paste0(mydir,\"input_files_ROT_treated/celltype_Astro/no_kinship_results_archive_20200919/top_qtl_results_all.txt\")\n",
    "Astro_ROT = read.csv(Astro_ROT_filename,sep=\"\\t\")\n",
    "head(Astro_ROT,2)\n",
    "\n",
    "Astro_ROT$global_corr_p_value = p.adjust(Astro_ROT$empirical_feature_p_value, method = \"BH\")\n",
    "nrow(Astro_ROT[Astro_ROT$global_corr_p_value < 0.05,])\n",
    "Astro_ROT$q_value = qvalue(Astro_ROT$empirical_feature_p_value)$qvalues\n",
    "length(unique(Astro_ROT[Astro_ROT$q_value < 0.05,'feature_id']))\n",
    "\n",
    "Astro_ROT$label = 'Astro_D52_ROT'\n",
    "leads = rbind(leads,Astro_ROT)"
   ]
  },
  {
   "cell_type": "code",
   "execution_count": null,
   "metadata": {},
   "outputs": [],
   "source": []
  },
  {
   "cell_type": "code",
   "execution_count": 236,
   "metadata": {},
   "outputs": [],
   "source": [
    "# leads = leads[leads$global_corr_p_value < 0.05,]\n",
    "leads = leads[leads$q_value < 0.05,]\n",
    "write.csv(leads,\"/hps/nobackup/stegle/users/acuomo/all_scripts/sc_neuroseq/eqtl/results_no_ncell_noisematrix_5pct_FDR.csv\", row.names = F, quote = F)"
   ]
  },
  {
   "cell_type": "code",
   "execution_count": null,
   "metadata": {},
   "outputs": [],
   "source": []
  },
  {
   "cell_type": "code",
   "execution_count": null,
   "metadata": {},
   "outputs": [],
   "source": []
  },
  {
   "cell_type": "code",
   "execution_count": null,
   "metadata": {},
   "outputs": [],
   "source": []
  },
  {
   "cell_type": "code",
   "execution_count": null,
   "metadata": {},
   "outputs": [],
   "source": []
  }
 ],
 "metadata": {
  "kernelspec": {
   "display_name": "R",
   "language": "R",
   "name": "ir"
  },
  "language_info": {
   "codemirror_mode": "r",
   "file_extension": ".r",
   "mimetype": "text/x-r-source",
   "name": "R",
   "pygments_lexer": "r",
   "version": "3.6.1"
  }
 },
 "nbformat": 4,
 "nbformat_minor": 4
}
