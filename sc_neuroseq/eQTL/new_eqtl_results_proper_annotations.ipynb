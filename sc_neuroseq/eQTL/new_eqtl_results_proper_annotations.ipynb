{
 "cells": [
  {
   "cell_type": "code",
   "execution_count": 23,
   "metadata": {},
   "outputs": [],
   "source": [
    "library(qvalue)"
   ]
  },
  {
   "cell_type": "code",
   "execution_count": 24,
   "metadata": {},
   "outputs": [],
   "source": [
    "######### Day 11\n",
    "## D11\n",
    "day11_folder = \"/nfs/leia/research/stegle/dseaton/hipsci/singlecell_neuroseq/data/data_processed/pool1_13_noddd_D11/\""
   ]
  },
  {
   "cell_type": "code",
   "execution_count": 25,
   "metadata": {},
   "outputs": [
    {
     "data": {
      "text/html": [
       "<ol class=list-inline>\n",
       "\t<li>11509</li>\n",
       "\t<li>1969</li>\n",
       "\t<li>2560</li>\n",
       "</ol>\n"
      ],
      "text/latex": [
       "\\begin{enumerate*}\n",
       "\\item 11509\n",
       "\\item 1969\n",
       "\\item 2560\n",
       "\\end{enumerate*}\n"
      ],
      "text/markdown": [
       "1. 11509\n",
       "2. 1969\n",
       "3. 2560\n",
       "\n",
       "\n"
      ],
      "text/plain": [
       "[1] 11509  1969  2560"
      ]
     },
     "metadata": {},
     "output_type": "display_data"
    }
   ],
   "source": [
    "# FPP\n",
    "myfile = paste0(day11_folder,\"qtl_analysis/eqtl_discovery/celltype_FPP/top_qtl_results_all.txt\")\n",
    "df = read.csv(myfile,sep=\"\\t\")\n",
    "df <- df[-which(duplicated(df$feature_id)),]\n",
    "df$BH_fdr = p.adjust(df$empirical_feature_p_value, method = \"BH\")\n",
    "df$q_value = qvalue(df$empirical_feature_p_value)$qvalues\n",
    "c(nrow(df),nrow(df[df$BH_fdr < 0.05,]),nrow(df[df$q_value < 0.05,]))\n",
    "fpp11 = as.character(unique(df[df$q_value < 0.05,\"feature_id\"]))"
   ]
  },
  {
   "cell_type": "code",
   "execution_count": 12,
   "metadata": {},
   "outputs": [
    {
     "data": {
      "text/html": [
       "<ol class=list-inline>\n",
       "\t<li>11629</li>\n",
       "\t<li>1932</li>\n",
       "\t<li>2457</li>\n",
       "</ol>\n"
      ],
      "text/latex": [
       "\\begin{enumerate*}\n",
       "\\item 11629\n",
       "\\item 1932\n",
       "\\item 2457\n",
       "\\end{enumerate*}\n"
      ],
      "text/markdown": [
       "1. 11629\n",
       "2. 1932\n",
       "3. 2457\n",
       "\n",
       "\n"
      ],
      "text/plain": [
       "[1] 11629  1932  2457"
      ]
     },
     "metadata": {},
     "output_type": "display_data"
    }
   ],
   "source": [
    "# P_FPP\n",
    "myfile = paste0(day11_folder,\"qtl_analysis/eqtl_discovery/celltype_P_FPP/top_qtl_results_all.txt\")\n",
    "df = read.csv(myfile,sep=\"\\t\")\n",
    "df <- df[-which(duplicated(df$feature_id)),]\n",
    "df$BH_fdr = p.adjust(df$empirical_feature_p_value, method = \"BH\")\n",
    "df$q_value = qvalue(df$empirical_feature_p_value)$qvalues\n",
    "c(nrow(df),nrow(df[df$BH_fdr < 0.05,]),nrow(df[df$q_value < 0.05,]))\n",
    "p_fpp = as.character(unique(df[df$q_value < 0.05,\"feature_id\"]))"
   ]
  },
  {
   "cell_type": "code",
   "execution_count": 13,
   "metadata": {},
   "outputs": [],
   "source": [
    "######### Day 30\n",
    "## D30\n",
    "day30_folder = \"/nfs/leia/research/stegle/dseaton/hipsci/singlecell_neuroseq/data/data_processed/pool1_13_noddd_D30/\""
   ]
  },
  {
   "cell_type": "code",
   "execution_count": 14,
   "metadata": {},
   "outputs": [
    {
     "data": {
      "text/html": [
       "<ol class=list-inline>\n",
       "\t<li>12015</li>\n",
       "\t<li>744</li>\n",
       "\t<li>881</li>\n",
       "</ol>\n"
      ],
      "text/latex": [
       "\\begin{enumerate*}\n",
       "\\item 12015\n",
       "\\item 744\n",
       "\\item 881\n",
       "\\end{enumerate*}\n"
      ],
      "text/markdown": [
       "1. 12015\n",
       "2. 744\n",
       "3. 881\n",
       "\n",
       "\n"
      ],
      "text/plain": [
       "[1] 12015   744   881"
      ]
     },
     "metadata": {},
     "output_type": "display_data"
    }
   ],
   "source": [
    "# FPP\n",
    "myfile = paste0(day30_folder,\"qtl_analysis/eqtl_discovery/celltype_Astro/top_qtl_results_all.txt\")\n",
    "df = read.csv(myfile,sep=\"\\t\")\n",
    "df <- df[-which(duplicated(df$feature_id)),]\n",
    "df$BH_fdr = p.adjust(df$empirical_feature_p_value, method = \"BH\")\n",
    "df$q_value = qvalue(df$empirical_feature_p_value)$qvalues\n",
    "c(nrow(df),nrow(df[df$BH_fdr < 0.05,]),nrow(df[df$q_value < 0.05,]))\n",
    "fpp30 = as.character(unique(df[df$q_value < 0.05,\"feature_id\"]))"
   ]
  },
  {
   "cell_type": "code",
   "execution_count": 15,
   "metadata": {},
   "outputs": [
    {
     "data": {
      "text/html": [
       "<ol class=list-inline>\n",
       "\t<li>10993</li>\n",
       "\t<li>734</li>\n",
       "\t<li>872</li>\n",
       "</ol>\n"
      ],
      "text/latex": [
       "\\begin{enumerate*}\n",
       "\\item 10993\n",
       "\\item 734\n",
       "\\item 872\n",
       "\\end{enumerate*}\n"
      ],
      "text/markdown": [
       "1. 10993\n",
       "2. 734\n",
       "3. 872\n",
       "\n",
       "\n"
      ],
      "text/plain": [
       "[1] 10993   734   872"
      ]
     },
     "metadata": {},
     "output_type": "display_data"
    }
   ],
   "source": [
    "# DA\n",
    "myfile = paste0(day30_folder,\"qtl_analysis/eqtl_discovery/celltype_DA/top_qtl_results_all.txt\")\n",
    "df = read.csv(myfile,sep=\"\\t\")\n",
    "df <- df[-which(duplicated(df$feature_id)),]\n",
    "df$BH_fdr = p.adjust(df$empirical_feature_p_value, method = \"BH\")\n",
    "df$q_value = qvalue(df$empirical_feature_p_value)$qvalues\n",
    "c(nrow(df),nrow(df[df$BH_fdr < 0.05,]),nrow(df[df$q_value < 0.05,]))\n",
    "da30 = as.character(unique(df[df$q_value < 0.05,\"feature_id\"]))"
   ]
  },
  {
   "cell_type": "code",
   "execution_count": 16,
   "metadata": {},
   "outputs": [
    {
     "data": {
      "text/html": [
       "<ol class=list-inline>\n",
       "\t<li>12108</li>\n",
       "\t<li>649</li>\n",
       "\t<li>776</li>\n",
       "</ol>\n"
      ],
      "text/latex": [
       "\\begin{enumerate*}\n",
       "\\item 12108\n",
       "\\item 649\n",
       "\\item 776\n",
       "\\end{enumerate*}\n"
      ],
      "text/markdown": [
       "1. 12108\n",
       "2. 649\n",
       "3. 776\n",
       "\n",
       "\n"
      ],
      "text/plain": [
       "[1] 12108   649   776"
      ]
     },
     "metadata": {},
     "output_type": "display_data"
    }
   ],
   "source": [
    "# Sert\n",
    "myfile = paste0(day30_folder,\"qtl_analysis/eqtl_discovery/celltype_Sert/top_qtl_results_all.txt\")\n",
    "df = read.csv(myfile,sep=\"\\t\")\n",
    "df <- df[-which(duplicated(df$feature_id)),]\n",
    "df$BH_fdr = p.adjust(df$empirical_feature_p_value, method = \"BH\")\n",
    "df$q_value = qvalue(df$empirical_feature_p_value)$qvalues\n",
    "c(nrow(df),nrow(df[df$BH_fdr < 0.05,]),nrow(df[df$q_value < 0.05,]))\n",
    "sert30 = as.character(unique(df[df$q_value < 0.05,\"feature_id\"]))"
   ]
  },
  {
   "cell_type": "code",
   "execution_count": 17,
   "metadata": {},
   "outputs": [
    {
     "data": {
      "text/html": [
       "<ol class=list-inline>\n",
       "\t<li>12789</li>\n",
       "\t<li>792</li>\n",
       "\t<li>1011</li>\n",
       "</ol>\n"
      ],
      "text/latex": [
       "\\begin{enumerate*}\n",
       "\\item 12789\n",
       "\\item 792\n",
       "\\item 1011\n",
       "\\end{enumerate*}\n"
      ],
      "text/markdown": [
       "1. 12789\n",
       "2. 792\n",
       "3. 1011\n",
       "\n",
       "\n"
      ],
      "text/plain": [
       "[1] 12789   792  1011"
      ]
     },
     "metadata": {},
     "output_type": "display_data"
    }
   ],
   "source": [
    "# Epen1\n",
    "myfile = paste0(day30_folder,\"qtl_analysis/eqtl_discovery/celltype_Epen1/top_qtl_results_all.txt\")\n",
    "df = read.csv(myfile,sep=\"\\t\")\n",
    "df <- df[-which(duplicated(df$feature_id)),]\n",
    "df$BH_fdr = p.adjust(df$empirical_feature_p_value, method = \"BH\")\n",
    "df$q_value = qvalue(df$empirical_feature_p_value)$qvalues\n",
    "c(nrow(df),nrow(df[df$BH_fdr < 0.05,]),nrow(df[df$q_value < 0.05,]))\n",
    "epen30 = as.character(unique(df[df$q_value < 0.05,\"feature_id\"]))"
   ]
  },
  {
   "cell_type": "code",
   "execution_count": 28,
   "metadata": {},
   "outputs": [],
   "source": [
    "######### Day 52 \n",
    "## D52 \n",
    "day52_folder =\"/nfs/leia/research/stegle/dseaton/hipsci/singlecell_neuroseq/data/data_processed/pool1_17_D52/qtl_analysis/eqtl_discovery_separated_by_treatment/\""
   ]
  },
  {
   "cell_type": "code",
   "execution_count": 29,
   "metadata": {},
   "outputs": [],
   "source": [
    "### untreated (Day 52)"
   ]
  },
  {
   "cell_type": "code",
   "execution_count": 30,
   "metadata": {},
   "outputs": [
    {
     "data": {
      "text/html": [
       "<ol class=list-inline>\n",
       "\t<li>9717</li>\n",
       "\t<li>1731</li>\n",
       "\t<li>2246</li>\n",
       "</ol>\n"
      ],
      "text/latex": [
       "\\begin{enumerate*}\n",
       "\\item 9717\n",
       "\\item 1731\n",
       "\\item 2246\n",
       "\\end{enumerate*}\n"
      ],
      "text/markdown": [
       "1. 9717\n",
       "2. 1731\n",
       "3. 2246\n",
       "\n",
       "\n"
      ],
      "text/plain": [
       "[1] 9717 1731 2246"
      ]
     },
     "metadata": {},
     "output_type": "display_data"
    }
   ],
   "source": [
    "# pseudobulk\n",
    "myfile = paste0(day52_folder,\"input_files_untreated/pseudobulk/top_qtl_results_all.txt\")\n",
    "df = read.csv(myfile,sep=\"\\t\")\n",
    "df <- df[-which(duplicated(df$feature_id)),]\n",
    "df$BH_fdr = p.adjust(df$empirical_feature_p_value, method = \"BH\")\n",
    "df$q_value = qvalue(df$empirical_feature_p_value)$qvalues\n",
    "c(nrow(df),nrow(df[df$BH_fdr < 0.05,]),nrow(df[df$q_value < 0.05,]))\n",
    "pseudo = as.character(unique(df[df$q_value < 0.05,\"feature_id\"]))"
   ]
  },
  {
   "cell_type": "code",
   "execution_count": 31,
   "metadata": {},
   "outputs": [
    {
     "data": {
      "text/html": [
       "<ol class=list-inline>\n",
       "\t<li>12016</li>\n",
       "\t<li>895</li>\n",
       "\t<li>1024</li>\n",
       "</ol>\n"
      ],
      "text/latex": [
       "\\begin{enumerate*}\n",
       "\\item 12016\n",
       "\\item 895\n",
       "\\item 1024\n",
       "\\end{enumerate*}\n"
      ],
      "text/markdown": [
       "1. 12016\n",
       "2. 895\n",
       "3. 1024\n",
       "\n",
       "\n"
      ],
      "text/plain": [
       "[1] 12016   895  1024"
      ]
     },
     "metadata": {},
     "output_type": "display_data"
    }
   ],
   "source": [
    "# DA\n",
    "myfile = paste0(day52_folder,\"input_files_untreated/celltype_DA/top_qtl_results_all.txt\")\n",
    "df = read.csv(myfile,sep=\"\\t\")\n",
    "df <- df[-which(duplicated(df$feature_id)),]\n",
    "df$BH_fdr = p.adjust(df$empirical_feature_p_value, method = \"BH\")\n",
    "df$q_value = qvalue(df$empirical_feature_p_value)$qvalues\n",
    "c(nrow(df),nrow(df[df$BH_fdr < 0.05,]),nrow(df[df$q_value < 0.05,]))\n",
    "da = as.character(unique(df[df$q_value < 0.05,\"feature_id\"]))"
   ]
  },
  {
   "cell_type": "code",
   "execution_count": 22,
   "metadata": {},
   "outputs": [
    {
     "data": {
      "text/html": [
       "<ol class=list-inline>\n",
       "\t<li>12521</li>\n",
       "\t<li>1167</li>\n",
       "\t<li>1436</li>\n",
       "</ol>\n"
      ],
      "text/latex": [
       "\\begin{enumerate*}\n",
       "\\item 12521\n",
       "\\item 1167\n",
       "\\item 1436\n",
       "\\end{enumerate*}\n"
      ],
      "text/markdown": [
       "1. 12521\n",
       "2. 1167\n",
       "3. 1436\n",
       "\n",
       "\n"
      ],
      "text/plain": [
       "[1] 12521  1167  1436"
      ]
     },
     "metadata": {},
     "output_type": "display_data"
    }
   ],
   "source": [
    "# Sert\n",
    "myfile = paste0(day52_folder,\"input_files_untreated/celltype_Sert/top_qtl_results_all.txt\")\n",
    "df = read.csv(myfile,sep=\"\\t\")\n",
    "df <- df[-which(duplicated(df$feature_id)),]\n",
    "df$BH_fdr = p.adjust(df$empirical_feature_p_value, method = \"BH\")\n",
    "df$q_value = qvalue(df$empirical_feature_p_value)$qvalues\n",
    "c(nrow(df),nrow(df[df$BH_fdr < 0.05,]),nrow(df[df$q_value < 0.05,]))\n",
    "sert = as.character(unique(df[df$q_value < 0.05,\"feature_id\"]))"
   ]
  },
  {
   "cell_type": "code",
   "execution_count": 36,
   "metadata": {},
   "outputs": [
    {
     "data": {
      "text/html": [
       "<ol class=list-inline>\n",
       "\t<li>12555</li>\n",
       "\t<li>1162</li>\n",
       "\t<li>1391</li>\n",
       "</ol>\n"
      ],
      "text/latex": [
       "\\begin{enumerate*}\n",
       "\\item 12555\n",
       "\\item 1162\n",
       "\\item 1391\n",
       "\\end{enumerate*}\n"
      ],
      "text/markdown": [
       "1. 12555\n",
       "2. 1162\n",
       "3. 1391\n",
       "\n",
       "\n"
      ],
      "text/plain": [
       "[1] 12555  1162  1391"
      ]
     },
     "metadata": {},
     "output_type": "display_data"
    }
   ],
   "source": [
    "# Epen1\n",
    "myfile = paste0(day52_folder,\"input_files_untreated/celltype_Epen1/top_qtl_results_all.txt\")\n",
    "df = read.csv(myfile,sep=\"\\t\")\n",
    "df <- df[-which(duplicated(df$feature_id)),]\n",
    "df$BH_fdr = p.adjust(df$empirical_feature_p_value, method = \"BH\")\n",
    "df$q_value = qvalue(df$empirical_feature_p_value)$qvalues\n",
    "c(nrow(df),nrow(df[df$BH_fdr < 0.05,]),nrow(df[df$q_value < 0.05,]))\n",
    "epen = as.character(unique(df[df$q_value < 0.05,\"feature_id\"]))"
   ]
  },
  {
   "cell_type": "code",
   "execution_count": 37,
   "metadata": {},
   "outputs": [
    {
     "data": {
      "text/html": [
       "<ol class=list-inline>\n",
       "\t<li>11907</li>\n",
       "\t<li>217</li>\n",
       "\t<li>257</li>\n",
       "</ol>\n"
      ],
      "text/latex": [
       "\\begin{enumerate*}\n",
       "\\item 11907\n",
       "\\item 217\n",
       "\\item 257\n",
       "\\end{enumerate*}\n"
      ],
      "text/markdown": [
       "1. 11907\n",
       "2. 217\n",
       "3. 257\n",
       "\n",
       "\n"
      ],
      "text/plain": [
       "[1] 11907   217   257"
      ]
     },
     "metadata": {},
     "output_type": "display_data"
    }
   ],
   "source": [
    "# Astro\n",
    "myfile = paste0(day52_folder,\"input_files_untreated/celltype_Astro/top_qtl_results_all.txt\")\n",
    "df = read.csv(myfile,sep=\"\\t\")\n",
    "df <- df[-which(duplicated(df$feature_id)),]\n",
    "df$BH_fdr = p.adjust(df$empirical_feature_p_value, method = \"BH\")\n",
    "df$q_value = qvalue(df$empirical_feature_p_value)$qvalues\n",
    "c(nrow(df),nrow(df[df$BH_fdr < 0.05,]),nrow(df[df$q_value < 0.05,]))\n",
    "astro = as.character(unique(df[df$q_value < 0.05,\"feature_id\"]))"
   ]
  },
  {
   "cell_type": "code",
   "execution_count": 38,
   "metadata": {},
   "outputs": [],
   "source": [
    "### ROT treated (Day 52)"
   ]
  },
  {
   "cell_type": "code",
   "execution_count": 39,
   "metadata": {},
   "outputs": [
    {
     "data": {
      "text/html": [
       "<ol class=list-inline>\n",
       "\t<li>12016</li>\n",
       "\t<li>409</li>\n",
       "\t<li>458</li>\n",
       "</ol>\n"
      ],
      "text/latex": [
       "\\begin{enumerate*}\n",
       "\\item 12016\n",
       "\\item 409\n",
       "\\item 458\n",
       "\\end{enumerate*}\n"
      ],
      "text/markdown": [
       "1. 12016\n",
       "2. 409\n",
       "3. 458\n",
       "\n",
       "\n"
      ],
      "text/plain": [
       "[1] 12016   409   458"
      ]
     },
     "metadata": {},
     "output_type": "display_data"
    }
   ],
   "source": [
    "# DA\n",
    "myfile = paste0(day52_folder,\"input_files_ROT_treated/celltype_DA/top_qtl_results_all.txt\")\n",
    "df = read.csv(myfile,sep=\"\\t\")\n",
    "df <- df[-which(duplicated(df$feature_id)),]\n",
    "df$BH_fdr = p.adjust(df$empirical_feature_p_value, method = \"BH\")\n",
    "df$q_value = qvalue(df$empirical_feature_p_value)$qvalues\n",
    "c(nrow(df),nrow(df[df$BH_fdr < 0.05,]),nrow(df[df$q_value < 0.05,]))\n",
    "daROT = as.character(unique(df[df$q_value < 0.05,\"feature_id\"]))"
   ]
  },
  {
   "cell_type": "code",
   "execution_count": 40,
   "metadata": {},
   "outputs": [
    {
     "data": {
      "text/html": [
       "<ol class=list-inline>\n",
       "\t<li>12521</li>\n",
       "\t<li>870</li>\n",
       "\t<li>1043</li>\n",
       "</ol>\n"
      ],
      "text/latex": [
       "\\begin{enumerate*}\n",
       "\\item 12521\n",
       "\\item 870\n",
       "\\item 1043\n",
       "\\end{enumerate*}\n"
      ],
      "text/markdown": [
       "1. 12521\n",
       "2. 870\n",
       "3. 1043\n",
       "\n",
       "\n"
      ],
      "text/plain": [
       "[1] 12521   870  1043"
      ]
     },
     "metadata": {},
     "output_type": "display_data"
    }
   ],
   "source": [
    "# Sert\n",
    "myfile = paste0(day52_folder,\"input_files_ROT_treated/celltype_Sert/top_qtl_results_all.txt\")\n",
    "df = read.csv(myfile,sep=\"\\t\")\n",
    "df <- df[-which(duplicated(df$feature_id)),]\n",
    "df$BH_fdr = p.adjust(df$empirical_feature_p_value, method = \"BH\")\n",
    "df$q_value = qvalue(df$empirical_feature_p_value)$qvalues\n",
    "c(nrow(df),nrow(df[df$BH_fdr < 0.05,]),nrow(df[df$q_value < 0.05,]))\n",
    "sertROT = as.character(unique(df[df$q_value < 0.05,\"feature_id\"]))"
   ]
  },
  {
   "cell_type": "code",
   "execution_count": 41,
   "metadata": {},
   "outputs": [
    {
     "data": {
      "text/html": [
       "<ol class=list-inline>\n",
       "\t<li>12555</li>\n",
       "\t<li>934</li>\n",
       "\t<li>1122</li>\n",
       "</ol>\n"
      ],
      "text/latex": [
       "\\begin{enumerate*}\n",
       "\\item 12555\n",
       "\\item 934\n",
       "\\item 1122\n",
       "\\end{enumerate*}\n"
      ],
      "text/markdown": [
       "1. 12555\n",
       "2. 934\n",
       "3. 1122\n",
       "\n",
       "\n"
      ],
      "text/plain": [
       "[1] 12555   934  1122"
      ]
     },
     "metadata": {},
     "output_type": "display_data"
    }
   ],
   "source": [
    "# Epen1\n",
    "myfile = paste0(day52_folder,\"input_files_ROT_treated/celltype_Epen1/top_qtl_results_all.txt\")\n",
    "df = read.csv(myfile,sep=\"\\t\")\n",
    "df <- df[-which(duplicated(df$feature_id)),]\n",
    "df$BH_fdr = p.adjust(df$empirical_feature_p_value, method = \"BH\")\n",
    "df$q_value = qvalue(df$empirical_feature_p_value)$qvalues\n",
    "c(nrow(df),nrow(df[df$BH_fdr < 0.05,]),nrow(df[df$q_value < 0.05,]))\n",
    "epenROT = as.character(unique(df[df$q_value < 0.05,\"feature_id\"]))"
   ]
  },
  {
   "cell_type": "code",
   "execution_count": 42,
   "metadata": {},
   "outputs": [
    {
     "data": {
      "text/html": [
       "<ol class=list-inline>\n",
       "\t<li>11907</li>\n",
       "\t<li>184</li>\n",
       "\t<li>205</li>\n",
       "</ol>\n"
      ],
      "text/latex": [
       "\\begin{enumerate*}\n",
       "\\item 11907\n",
       "\\item 184\n",
       "\\item 205\n",
       "\\end{enumerate*}\n"
      ],
      "text/markdown": [
       "1. 11907\n",
       "2. 184\n",
       "3. 205\n",
       "\n",
       "\n"
      ],
      "text/plain": [
       "[1] 11907   184   205"
      ]
     },
     "metadata": {},
     "output_type": "display_data"
    }
   ],
   "source": [
    "# Astro\n",
    "myfile = paste0(day52_folder,\"input_files_ROT_treated/celltype_Astro/top_qtl_results_all.txt\")\n",
    "df = read.csv(myfile,sep=\"\\t\")\n",
    "df <- df[-which(duplicated(df$feature_id)),]\n",
    "df$BH_fdr = p.adjust(df$empirical_feature_p_value, method = \"BH\")\n",
    "df$q_value = qvalue(df$empirical_feature_p_value)$qvalues\n",
    "c(nrow(df),nrow(df[df$BH_fdr < 0.05,]),nrow(df[df$q_value < 0.05,]))\n",
    "astroROT = as.character(unique(df[df$q_value < 0.05,\"feature_id\"]))"
   ]
  },
  {
   "cell_type": "code",
   "execution_count": 43,
   "metadata": {},
   "outputs": [],
   "source": [
    "D11 = c(length(fpp11),length(unique(c(fpp11,fpp30))),length(p_fpp))\n",
    "DA = c(length(da30),length(unique(c(da30,da))),length(unique(c(da30,da,daROT))))\n",
    "Sert = c(length(sert30),length(unique(c(sert30,sert))),length(unique(c(sert30,sert,sertROT))))\n",
    "Epen1 = c(length(epen30),length(unique(c(epen30,epen))),length(unique(c(epen30,epen,epenROT))))\n",
    "Astro = c(length(astro),length(unique(c(astro,astroROT))))"
   ]
  },
  {
   "cell_type": "code",
   "execution_count": 44,
   "metadata": {},
   "outputs": [],
   "source": [
    "#### new numbers in text"
   ]
  },
  {
   "cell_type": "code",
   "execution_count": 45,
   "metadata": {},
   "outputs": [
    {
     "data": {
      "text/html": [
       "2505"
      ],
      "text/latex": [
       "2505"
      ],
      "text/markdown": [
       "2505"
      ],
      "text/plain": [
       "[1] 2505"
      ]
     },
     "metadata": {},
     "output_type": "display_data"
    },
    {
     "data": {
      "text/html": [
       "1452"
      ],
      "text/latex": [
       "1452"
      ],
      "text/markdown": [
       "1452"
      ],
      "text/plain": [
       "[1] 1452"
      ]
     },
     "metadata": {},
     "output_type": "display_data"
    },
    {
     "data": {
      "text/html": [
       "794"
      ],
      "text/latex": [
       "794"
      ],
      "text/markdown": [
       "794"
      ],
      "text/plain": [
       "[1] 794"
      ]
     },
     "metadata": {},
     "output_type": "display_data"
    },
    {
     "data": {
      "text/html": [
       "1053"
      ],
      "text/latex": [
       "1053"
      ],
      "text/markdown": [
       "1053"
      ],
      "text/plain": [
       "[1] 1053"
      ]
     },
     "metadata": {},
     "output_type": "display_data"
    }
   ],
   "source": [
    "d52_none_celltypes = unique(c(da,sert,epen,astro))\n",
    "length(d52_none_celltypes)\n",
    "length(pseudo[pseudo %in% d52_none_celltypes])\n",
    "length(pseudo[!(pseudo %in% d52_none_celltypes)])\n",
    "length(d52_none_celltypes[!(d52_none_celltypes %in% pseudo)])"
   ]
  },
  {
   "cell_type": "code",
   "execution_count": 46,
   "metadata": {},
   "outputs": [
    {
     "data": {
      "text/html": [
       "<ol class=list-inline>\n",
       "\t<li>3173</li>\n",
       "\t<li>1918</li>\n",
       "\t<li>2505</li>\n",
       "\t<li>1801</li>\n",
       "</ol>\n"
      ],
      "text/latex": [
       "\\begin{enumerate*}\n",
       "\\item 3173\n",
       "\\item 1918\n",
       "\\item 2505\n",
       "\\item 1801\n",
       "\\end{enumerate*}\n"
      ],
      "text/markdown": [
       "1. 3173\n",
       "2. 1918\n",
       "3. 2505\n",
       "4. 1801\n",
       "\n",
       "\n"
      ],
      "text/plain": [
       "[1] 3173 1918 2505 1801"
      ]
     },
     "metadata": {},
     "output_type": "display_data"
    },
    {
     "data": {
      "text/html": [
       "4828"
      ],
      "text/latex": [
       "4828"
      ],
      "text/markdown": [
       "4828"
      ],
      "text/plain": [
       "[1] 4828"
      ]
     },
     "metadata": {},
     "output_type": "display_data"
    }
   ],
   "source": [
    "d11 = unique(c(fpp11,p_fpp))\n",
    "d30 = unique(c(fpp30,da30,sert30,epen30))\n",
    "d52_none = unique(c(da,sert,epen,astro))\n",
    "d52_rot = unique(c(daROT,sertROT,epenROT,astroROT))\n",
    "c(length(d11),length(d30),length(d52_none),length(d52_rot))\n",
    "length(unique(c(d11,d30,d52_none,d52_rot)))"
   ]
  },
  {
   "cell_type": "code",
   "execution_count": 47,
   "metadata": {},
   "outputs": [
    {
     "data": {
      "text/html": [
       "4828"
      ],
      "text/latex": [
       "4828"
      ],
      "text/markdown": [
       "4828"
      ],
      "text/plain": [
       "[1] 4828"
      ]
     },
     "metadata": {},
     "output_type": "display_data"
    }
   ],
   "source": [
    "length(unique(c(fpp11,fpp30,p_fpp,da30,da,daROT,sert30,sert,sertROT,epen30,epen,epenROT,astro,astroROT)))"
   ]
  },
  {
   "cell_type": "code",
   "execution_count": 48,
   "metadata": {},
   "outputs": [
    {
     "data": {
      "text/html": [
       "441"
      ],
      "text/latex": [
       "441"
      ],
      "text/markdown": [
       "441"
      ],
      "text/plain": [
       "[1] 441"
      ]
     },
     "metadata": {},
     "output_type": "display_data"
    }
   ],
   "source": [
    "length(da[!(da %in% da30)])"
   ]
  },
  {
   "cell_type": "code",
   "execution_count": 49,
   "metadata": {},
   "outputs": [
    {
     "data": {
      "text/html": [
       "248"
      ],
      "text/latex": [
       "248"
      ],
      "text/markdown": [
       "248"
      ],
      "text/plain": [
       "[1] 248"
      ]
     },
     "metadata": {},
     "output_type": "display_data"
    }
   ],
   "source": [
    "neuro = unique(c(da,sert))\n",
    "neuro_rot = unique(c(daROT,sertROT))\n",
    "length(neuro_rot[!(neuro_rot %in% neuro)])"
   ]
  },
  {
   "cell_type": "code",
   "execution_count": 50,
   "metadata": {},
   "outputs": [],
   "source": [
    "#### new figure 4a"
   ]
  },
  {
   "cell_type": "code",
   "execution_count": 51,
   "metadata": {},
   "outputs": [
    {
     "data": {
      "image/png": "[encoded data removed]",
      "text/plain": [
       "plot without title"
      ]
     },
     "metadata": {},
     "output_type": "display_data"
    }
   ],
   "source": [
    "col_FPP = \"#aec7e8\"\n",
    "col_P_FPP = \"#1f77b4\"\n",
    "col_DA = \"#2ca02c\"\n",
    "col_Sert = \"#98df8a\"\n",
    "col_Epen1 = \"#ff9896\"\n",
    "col_Astro = \"#9467bd\"\n",
    "\n",
    "options(repr.plot.width = 5, repr.plot.height = 4)\n",
    "my.xlim = c(0, 2500)\n",
    "my.ylim = c(0,20)\n",
    "my.space = c(0,0.1,0.3,0.5, 0.1, 0.1, 0.5, 0.1, 0.1, 0.5,0.1, 0.1,0.5,0.1)\n",
    "opar <- par(lwd = 1)\n",
    "\n",
    "barplot(c(D11,DA,Sert,Epen1,Astro),xlim = my.ylim, ylim = my.xlim, space = my.space,\n",
    "       col = c(col_FPP,   col_FPP, col_P_FPP,\n",
    "               col_DA,    col_DA,    col_DA, \n",
    "               col_Sert,  col_Sert,  col_Sert, \n",
    "               col_Epen1, col_Epen1, col_Epen1, \n",
    "               col_Astro, col_Astro))#,"
   ]
  },
  {
   "cell_type": "code",
   "execution_count": 60,
   "metadata": {},
   "outputs": [
    {
     "data": {
      "image/png": "[encoded data removed]",
      "text/plain": [
       "plot without title"
      ]
     },
     "metadata": {},
     "output_type": "display_data"
    }
   ],
   "source": [
    "col_FPP = \"#aec7e8\"\n",
    "col_P_FPP = \"#1f77b4\"\n",
    "col_DA = \"#2ca02c\"\n",
    "col_Sert = \"#98df8a\"\n",
    "col_Epen1 = \"#ff9896\"\n",
    "col_Astro = \"#9467bd\"\n",
    "\n",
    "options(repr.plot.width = 5, repr.plot.height = 4)\n",
    "my.xlim = c(0, 2500)\n",
    "my.ylim = c(0,20)\n",
    "my.space = c(0,0.1,0.5, 0.1, 0.1, 0.1, 0.5, 0.1, 0.1, 0.1,0.5, 0.1,0.1,0.1)\n",
    "opar <- par(lwd = 1)\n",
    "\n",
    "barplot(c(length(fpp11),length(p_fpp),\n",
    "          length(fpp30),length(da30),length(sert30),length(epen30),\n",
    "          length(da),length(sert),length(epen),length(astro),\n",
    "          length(daROT),length(sertROT),length(epenROT),length(astroROT)),xlim = my.ylim, ylim = my.xlim, \n",
    "        space = my.space,\n",
    "       col = c(col_FPP, col_P_FPP,\n",
    "               col_FPP, col_DA, col_Sert, col_Epen1, \n",
    "               col_DA, col_Sert, col_Epen1, col_Astro,\n",
    "               col_DA, col_Sert, col_Epen1, col_Astro))#,"
   ]
  },
  {
   "cell_type": "code",
   "execution_count": null,
   "metadata": {},
   "outputs": [],
   "source": []
  },
  {
   "cell_type": "code",
   "execution_count": null,
   "metadata": {},
   "outputs": [],
   "source": []
  },
  {
   "cell_type": "code",
   "execution_count": null,
   "metadata": {},
   "outputs": [],
   "source": []
  },
  {
   "cell_type": "code",
   "execution_count": null,
   "metadata": {},
   "outputs": [],
   "source": []
  },
  {
   "cell_type": "code",
   "execution_count": null,
   "metadata": {},
   "outputs": [],
   "source": []
  },
  {
   "cell_type": "code",
   "execution_count": null,
   "metadata": {},
   "outputs": [],
   "source": [
    "### Below old results, not all samples tested?"
   ]
  },
  {
   "cell_type": "code",
   "execution_count": null,
   "metadata": {},
   "outputs": [],
   "source": [
    "######### Day 52 untreated\n",
    "## D52 NONE"
   ]
  },
  {
   "cell_type": "code",
   "execution_count": 68,
   "metadata": {},
   "outputs": [],
   "source": [
    "# DA\n",
    "myfile = \"/hps/nobackup/stegle/users/acuomo/all_scripts/sc_neuroseq/eqtl/timepoint_D52/input_files_untreated/celltype_DA/results/top_qtl_results_all.txt\"\n",
    "df = read.csv(myfile,sep=\"\\t\")\n",
    "df <- df[-which(duplicated(df$feature_id)),]\n",
    "# length(unique(df$feature_id))\n",
    "# nrow(df)\n",
    "df$BH_fdr = p.adjust(df$empirical_feature_p_value, method = \"BH\")\n",
    "# c(nrow(df[df$BH_fdr < 0.05,]), nrow(df[df$BH_fdr < 0.05,])/nrow(df))\n",
    "new_egenes = unique(df[df$BH_fdr < 0.05,'feature_id'])"
   ]
  },
  {
   "cell_type": "code",
   "execution_count": 1,
   "metadata": {},
   "outputs": [
    {
     "data": {
      "text/html": [
       "9689"
      ],
      "text/latex": [
       "9689"
      ],
      "text/markdown": [
       "9689"
      ],
      "text/plain": [
       "[1] 9689"
      ]
     },
     "metadata": {},
     "output_type": "display_data"
    }
   ],
   "source": [
    "myfile = \"/hps/nobackup/stegle/users/acuomo/all_scripts/sc_neuroseq/eqtl/timepoint_D52/input_files_untreated/celltype_DA/results_archive_20200904/top_qtl_results_all.txt\"\n",
    "df = read.csv(myfile,sep=\"\\t\")\n",
    "df <- df[-which(duplicated(df$feature_id)),]\n",
    "# length(unique(df$feature_id))\n",
    "nrow(df)\n",
    "df$BH_fdr = p.adjust(df$empirical_feature_p_value, method = \"BH\")\n",
    "# c(nrow(df[df$BH_fdr < 0.05,]), nrow(df[df$BH_fdr < 0.05,])/nrow(df))\n",
    "old_egenes = unique(df[df$BH_fdr < 0.05,'feature_id'])"
   ]
  },
  {
   "cell_type": "code",
   "execution_count": 72,
   "metadata": {},
   "outputs": [
    {
     "data": {
      "text/html": [
       "758"
      ],
      "text/latex": [
       "758"
      ],
      "text/markdown": [
       "758"
      ],
      "text/plain": [
       "[1] 758"
      ]
     },
     "metadata": {},
     "output_type": "display_data"
    },
    {
     "data": {
      "text/html": [
       "697"
      ],
      "text/latex": [
       "697"
      ],
      "text/markdown": [
       "697"
      ],
      "text/plain": [
       "[1] 697"
      ]
     },
     "metadata": {},
     "output_type": "display_data"
    },
    {
     "data": {
      "text/html": [
       "611"
      ],
      "text/latex": [
       "611"
      ],
      "text/markdown": [
       "611"
      ],
      "text/plain": [
       "[1] 611"
      ]
     },
     "metadata": {},
     "output_type": "display_data"
    },
    {
     "data": {
      "text/html": [
       "147"
      ],
      "text/latex": [
       "147"
      ],
      "text/markdown": [
       "147"
      ],
      "text/plain": [
       "[1] 147"
      ]
     },
     "metadata": {},
     "output_type": "display_data"
    },
    {
     "data": {
      "text/html": [
       "611"
      ],
      "text/latex": [
       "611"
      ],
      "text/markdown": [
       "611"
      ],
      "text/plain": [
       "[1] 611"
      ]
     },
     "metadata": {},
     "output_type": "display_data"
    },
    {
     "data": {
      "text/html": [
       "86"
      ],
      "text/latex": [
       "86"
      ],
      "text/markdown": [
       "86"
      ],
      "text/plain": [
       "[1] 86"
      ]
     },
     "metadata": {},
     "output_type": "display_data"
    }
   ],
   "source": [
    "length(new_egenes)\n",
    "length(old_egenes)\n",
    "length(new_egenes[new_egenes %in% old_egenes])\n",
    "length(new_egenes[!(new_egenes %in% old_egenes)])\n",
    "length(old_egenes[!(old_egenes %in% new_egenes)])"
   ]
  },
  {
   "cell_type": "code",
   "execution_count": null,
   "metadata": {},
   "outputs": [],
   "source": []
  },
  {
   "cell_type": "code",
   "execution_count": 73,
   "metadata": {},
   "outputs": [],
   "source": [
    "# Sert\n",
    "myfile = \"/hps/nobackup/stegle/users/acuomo/all_scripts/sc_neuroseq/eqtl/timepoint_D52/input_files_untreated/celltype_Sert/results/top_qtl_results_all.txt\"\n",
    "df = read.csv(myfile,sep=\"\\t\")\n",
    "df <- df[-which(duplicated(df$feature_id)),]\n",
    "# length(unique(df$feature_id))\n",
    "# nrow(df)\n",
    "df$BH_fdr = p.adjust(df$empirical_feature_p_value, method = \"BH\")\n",
    "# c(nrow(df[df$BH_fdr < 0.05,]), nrow(df[df$BH_fdr < 0.05,])/nrow(df))\n",
    "new_egenes = unique(df[df$BH_fdr < 0.05,'feature_id'])"
   ]
  },
  {
   "cell_type": "code",
   "execution_count": 2,
   "metadata": {},
   "outputs": [
    {
     "data": {
      "text/html": [
       "10016"
      ],
      "text/latex": [
       "10016"
      ],
      "text/markdown": [
       "10016"
      ],
      "text/plain": [
       "[1] 10016"
      ]
     },
     "metadata": {},
     "output_type": "display_data"
    }
   ],
   "source": [
    "myfile = \"/hps/nobackup/stegle/users/acuomo/all_scripts/sc_neuroseq/eqtl/timepoint_D52/input_files_untreated/celltype_Sert/results_archive_20200904/top_qtl_results_all.txt\"\n",
    "df = read.csv(myfile,sep=\"\\t\")\n",
    "df <- df[-which(duplicated(df$feature_id)),]\n",
    "# length(unique(df$feature_id))\n",
    "nrow(df)\n",
    "df$BH_fdr = p.adjust(df$empirical_feature_p_value, method = \"BH\")\n",
    "# c(nrow(df[df$BH_fdr < 0.05,]), nrow(df[df$BH_fdr < 0.05,])/nrow(df))\n",
    "old_egenes = unique(df[df$BH_fdr < 0.05,'feature_id'])"
   ]
  },
  {
   "cell_type": "code",
   "execution_count": 75,
   "metadata": {},
   "outputs": [
    {
     "data": {
      "text/html": [
       "965"
      ],
      "text/latex": [
       "965"
      ],
      "text/markdown": [
       "965"
      ],
      "text/plain": [
       "[1] 965"
      ]
     },
     "metadata": {},
     "output_type": "display_data"
    },
    {
     "data": {
      "text/html": [
       "779"
      ],
      "text/latex": [
       "779"
      ],
      "text/markdown": [
       "779"
      ],
      "text/plain": [
       "[1] 779"
      ]
     },
     "metadata": {},
     "output_type": "display_data"
    },
    {
     "data": {
      "text/html": [
       "734"
      ],
      "text/latex": [
       "734"
      ],
      "text/markdown": [
       "734"
      ],
      "text/plain": [
       "[1] 734"
      ]
     },
     "metadata": {},
     "output_type": "display_data"
    },
    {
     "data": {
      "text/html": [
       "231"
      ],
      "text/latex": [
       "231"
      ],
      "text/markdown": [
       "231"
      ],
      "text/plain": [
       "[1] 231"
      ]
     },
     "metadata": {},
     "output_type": "display_data"
    },
    {
     "data": {
      "text/html": [
       "45"
      ],
      "text/latex": [
       "45"
      ],
      "text/markdown": [
       "45"
      ],
      "text/plain": [
       "[1] 45"
      ]
     },
     "metadata": {},
     "output_type": "display_data"
    }
   ],
   "source": [
    "length(new_egenes)\n",
    "length(old_egenes)\n",
    "length(new_egenes[new_egenes %in% old_egenes])\n",
    "length(new_egenes[!(new_egenes %in% old_egenes)])\n",
    "length(old_egenes[!(old_egenes %in% new_egenes)])"
   ]
  },
  {
   "cell_type": "code",
   "execution_count": 76,
   "metadata": {},
   "outputs": [],
   "source": [
    "# Epen1\n",
    "myfile = \"/hps/nobackup/stegle/users/acuomo/all_scripts/sc_neuroseq/eqtl/timepoint_D52/input_files_untreated/celltype_Epen1/results/top_qtl_results_all.txt\"\n",
    "df = read.csv(myfile,sep=\"\\t\")\n",
    "df <- df[-which(duplicated(df$feature_id)),]\n",
    "# length(unique(df$feature_id))\n",
    "# nrow(df)\n",
    "df$BH_fdr = p.adjust(df$empirical_feature_p_value, method = \"BH\")\n",
    "# c(nrow(df[df$BH_fdr < 0.05,]), nrow(df[df$BH_fdr < 0.05,])/nrow(df))\n",
    "new_egenes = unique(df[df$BH_fdr < 0.05,'feature_id'])"
   ]
  },
  {
   "cell_type": "code",
   "execution_count": 3,
   "metadata": {},
   "outputs": [
    {
     "data": {
      "text/html": [
       "10033"
      ],
      "text/latex": [
       "10033"
      ],
      "text/markdown": [
       "10033"
      ],
      "text/plain": [
       "[1] 10033"
      ]
     },
     "metadata": {},
     "output_type": "display_data"
    }
   ],
   "source": [
    "myfile = \"/hps/nobackup/stegle/users/acuomo/all_scripts/sc_neuroseq/eqtl/timepoint_D52/input_files_untreated/celltype_Epen1/results_archive_20200904/top_qtl_results_all.txt\"\n",
    "df = read.csv(myfile,sep=\"\\t\")\n",
    "df <- df[-which(duplicated(df$feature_id)),]\n",
    "# length(unique(df$feature_id))\n",
    "nrow(df)\n",
    "df$BH_fdr = p.adjust(df$empirical_feature_p_value, method = \"BH\")\n",
    "# c(nrow(df[df$BH_fdr < 0.05,]), nrow(df[df$BH_fdr < 0.05,])/nrow(df))\n",
    "old_egenes = unique(df[df$BH_fdr < 0.05,'feature_id'])"
   ]
  },
  {
   "cell_type": "code",
   "execution_count": 78,
   "metadata": {},
   "outputs": [
    {
     "data": {
      "text/html": [
       "932"
      ],
      "text/latex": [
       "932"
      ],
      "text/markdown": [
       "932"
      ],
      "text/plain": [
       "[1] 932"
      ]
     },
     "metadata": {},
     "output_type": "display_data"
    },
    {
     "data": {
      "text/html": [
       "745"
      ],
      "text/latex": [
       "745"
      ],
      "text/markdown": [
       "745"
      ],
      "text/plain": [
       "[1] 745"
      ]
     },
     "metadata": {},
     "output_type": "display_data"
    },
    {
     "data": {
      "text/html": [
       "693"
      ],
      "text/latex": [
       "693"
      ],
      "text/markdown": [
       "693"
      ],
      "text/plain": [
       "[1] 693"
      ]
     },
     "metadata": {},
     "output_type": "display_data"
    },
    {
     "data": {
      "text/html": [
       "239"
      ],
      "text/latex": [
       "239"
      ],
      "text/markdown": [
       "239"
      ],
      "text/plain": [
       "[1] 239"
      ]
     },
     "metadata": {},
     "output_type": "display_data"
    },
    {
     "data": {
      "text/html": [
       "52"
      ],
      "text/latex": [
       "52"
      ],
      "text/markdown": [
       "52"
      ],
      "text/plain": [
       "[1] 52"
      ]
     },
     "metadata": {},
     "output_type": "display_data"
    }
   ],
   "source": [
    "length(new_egenes)\n",
    "length(old_egenes)\n",
    "length(new_egenes[new_egenes %in% old_egenes])\n",
    "length(new_egenes[!(new_egenes %in% old_egenes)])\n",
    "length(old_egenes[!(old_egenes %in% new_egenes)])"
   ]
  },
  {
   "cell_type": "code",
   "execution_count": 79,
   "metadata": {},
   "outputs": [],
   "source": [
    "# Astro\n",
    "myfile = \"/hps/nobackup/stegle/users/acuomo/all_scripts/sc_neuroseq/eqtl/timepoint_D52/input_files_untreated/celltype_Astro/results/top_qtl_results_all.txt\"\n",
    "df = read.csv(myfile,sep=\"\\t\")\n",
    "df <- df[-which(duplicated(df$feature_id)),]\n",
    "# length(unique(df$feature_id))\n",
    "# nrow(df)\n",
    "df$BH_fdr = p.adjust(df$empirical_feature_p_value, method = \"BH\")\n",
    "# c(nrow(df[df$BH_fdr < 0.05,]), nrow(df[df$BH_fdr < 0.05,])/nrow(df))\n",
    "new_egenes = unique(df[df$BH_fdr < 0.05,'feature_id'])"
   ]
  },
  {
   "cell_type": "code",
   "execution_count": 4,
   "metadata": {},
   "outputs": [
    {
     "data": {
      "text/html": [
       "9801"
      ],
      "text/latex": [
       "9801"
      ],
      "text/markdown": [
       "9801"
      ],
      "text/plain": [
       "[1] 9801"
      ]
     },
     "metadata": {},
     "output_type": "display_data"
    }
   ],
   "source": [
    "myfile = \"/hps/nobackup/stegle/users/acuomo/all_scripts/sc_neuroseq/eqtl/timepoint_D52/input_files_untreated/celltype_Astro/results_archive_20200904/top_qtl_results_all.txt\"\n",
    "df = read.csv(myfile,sep=\"\\t\")\n",
    "df <- df[-which(duplicated(df$feature_id)),]\n",
    "# length(unique(df$feature_id))\n",
    "nrow(df)\n",
    "df$BH_fdr = p.adjust(df$empirical_feature_p_value, method = \"BH\")\n",
    "# c(nrow(df[df$BH_fdr < 0.05,]), nrow(df[df$BH_fdr < 0.05,])/nrow(df))\n",
    "old_egenes = unique(df[df$BH_fdr < 0.05,'feature_id'])"
   ]
  },
  {
   "cell_type": "code",
   "execution_count": 81,
   "metadata": {},
   "outputs": [
    {
     "data": {
      "text/html": [
       "137"
      ],
      "text/latex": [
       "137"
      ],
      "text/markdown": [
       "137"
      ],
      "text/plain": [
       "[1] 137"
      ]
     },
     "metadata": {},
     "output_type": "display_data"
    },
    {
     "data": {
      "text/html": [
       "111"
      ],
      "text/latex": [
       "111"
      ],
      "text/markdown": [
       "111"
      ],
      "text/plain": [
       "[1] 111"
      ]
     },
     "metadata": {},
     "output_type": "display_data"
    },
    {
     "data": {
      "text/html": [
       "101"
      ],
      "text/latex": [
       "101"
      ],
      "text/markdown": [
       "101"
      ],
      "text/plain": [
       "[1] 101"
      ]
     },
     "metadata": {},
     "output_type": "display_data"
    },
    {
     "data": {
      "text/html": [
       "36"
      ],
      "text/latex": [
       "36"
      ],
      "text/markdown": [
       "36"
      ],
      "text/plain": [
       "[1] 36"
      ]
     },
     "metadata": {},
     "output_type": "display_data"
    },
    {
     "data": {
      "text/html": [
       "10"
      ],
      "text/latex": [
       "10"
      ],
      "text/markdown": [
       "10"
      ],
      "text/plain": [
       "[1] 10"
      ]
     },
     "metadata": {},
     "output_type": "display_data"
    }
   ],
   "source": [
    "length(new_egenes)\n",
    "length(old_egenes)\n",
    "length(new_egenes[new_egenes %in% old_egenes])\n",
    "length(new_egenes[!(new_egenes %in% old_egenes)])\n",
    "length(old_egenes[!(old_egenes %in% new_egenes)])"
   ]
  },
  {
   "cell_type": "code",
   "execution_count": 53,
   "metadata": {},
   "outputs": [],
   "source": [
    "######### Day 52 rotenone-treated\n",
    "## D52 ROT"
   ]
  },
  {
   "cell_type": "code",
   "execution_count": 54,
   "metadata": {},
   "outputs": [],
   "source": [
    "all_genes = c()"
   ]
  },
  {
   "cell_type": "code",
   "execution_count": 55,
   "metadata": {},
   "outputs": [
    {
     "data": {
      "text/html": [
       "12044"
      ],
      "text/latex": [
       "12044"
      ],
      "text/markdown": [
       "12044"
      ],
      "text/plain": [
       "[1] 12044"
      ]
     },
     "metadata": {},
     "output_type": "display_data"
    },
    {
     "data": {
      "text/html": [
       "<ol class=list-inline>\n",
       "\t<li>357</li>\n",
       "\t<li>0.0296413151776818</li>\n",
       "</ol>\n"
      ],
      "text/latex": [
       "\\begin{enumerate*}\n",
       "\\item 357\n",
       "\\item 0.0296413151776818\n",
       "\\end{enumerate*}\n"
      ],
      "text/markdown": [
       "1. 357\n",
       "2. 0.0296413151776818\n",
       "\n",
       "\n"
      ],
      "text/plain": [
       "[1] 357.00000000   0.02964132"
      ]
     },
     "metadata": {},
     "output_type": "display_data"
    }
   ],
   "source": [
    "# DA\n",
    "myfile = \"/hps/nobackup/stegle/users/acuomo/all_scripts/sc_neuroseq/eqtl/timepoint_D52/input_files_ROT_treated/celltype_DA/results/top_qtl_results_all.txt\"\n",
    "df = read.csv(myfile,sep=\"\\t\")\n",
    "nrow(df)\n",
    "df$BH_fdr = p.adjust(df$empirical_feature_p_value, method = \"BH\")\n",
    "c(nrow(df[df$BH_fdr < 0.05,]), nrow(df[df$BH_fdr < 0.05,])/nrow(df))"
   ]
  },
  {
   "cell_type": "code",
   "execution_count": 56,
   "metadata": {},
   "outputs": [
    {
     "data": {
      "text/html": [
       "9710"
      ],
      "text/latex": [
       "9710"
      ],
      "text/markdown": [
       "9710"
      ],
      "text/plain": [
       "[1] 9710"
      ]
     },
     "metadata": {},
     "output_type": "display_data"
    },
    {
     "data": {
      "text/html": [
       "<ol class=list-inline>\n",
       "\t<li>304</li>\n",
       "\t<li>0.031307929969104</li>\n",
       "</ol>\n"
      ],
      "text/latex": [
       "\\begin{enumerate*}\n",
       "\\item 304\n",
       "\\item 0.031307929969104\n",
       "\\end{enumerate*}\n"
      ],
      "text/markdown": [
       "1. 304\n",
       "2. 0.031307929969104\n",
       "\n",
       "\n"
      ],
      "text/plain": [
       "[1] 304.00000000   0.03130793"
      ]
     },
     "metadata": {},
     "output_type": "display_data"
    }
   ],
   "source": [
    "myfile = \"/hps/nobackup/stegle/users/acuomo/all_scripts/sc_neuroseq/eqtl/timepoint_D52/input_files_ROT_treated/celltype_DA/results_archive_20200904/top_qtl_results_all.txt\"\n",
    "df = read.csv(myfile,sep=\"\\t\")\n",
    "nrow(df)\n",
    "df$BH_fdr = p.adjust(df$empirical_feature_p_value, method = \"BH\")\n",
    "c(nrow(df[df$BH_fdr < 0.05,]), nrow(df[df$BH_fdr < 0.05,])/nrow(df))"
   ]
  },
  {
   "cell_type": "code",
   "execution_count": 82,
   "metadata": {},
   "outputs": [
    {
     "data": {
      "text/html": [
       "12551"
      ],
      "text/latex": [
       "12551"
      ],
      "text/markdown": [
       "12551"
      ],
      "text/plain": [
       "[1] 12551"
      ]
     },
     "metadata": {},
     "output_type": "display_data"
    },
    {
     "data": {
      "text/html": [
       "<ol class=list-inline>\n",
       "\t<li>722</li>\n",
       "\t<li>0.0575252967891005</li>\n",
       "</ol>\n"
      ],
      "text/latex": [
       "\\begin{enumerate*}\n",
       "\\item 722\n",
       "\\item 0.0575252967891005\n",
       "\\end{enumerate*}\n"
      ],
      "text/markdown": [
       "1. 722\n",
       "2. 0.0575252967891005\n",
       "\n",
       "\n"
      ],
      "text/plain": [
       "[1] 722.0000000   0.0575253"
      ]
     },
     "metadata": {},
     "output_type": "display_data"
    }
   ],
   "source": [
    "# Sert\n",
    "myfile = \"/hps/nobackup/stegle/users/acuomo/all_scripts/sc_neuroseq/eqtl/timepoint_D52/input_files_ROT_treated/celltype_Sert/results/top_qtl_results_all.txt\"\n",
    "df = read.csv(myfile,sep=\"\\t\")\n",
    "nrow(df)\n",
    "df$BH_fdr = p.adjust(df$empirical_feature_p_value, method = \"BH\")\n",
    "c(nrow(df[df$BH_fdr < 0.05,]), nrow(df[df$BH_fdr < 0.05,])/nrow(df))"
   ]
  },
  {
   "cell_type": "code",
   "execution_count": 83,
   "metadata": {},
   "outputs": [
    {
     "data": {
      "text/html": [
       "10038"
      ],
      "text/latex": [
       "10038"
      ],
      "text/markdown": [
       "10038"
      ],
      "text/plain": [
       "[1] 10038"
      ]
     },
     "metadata": {},
     "output_type": "display_data"
    },
    {
     "data": {
      "text/html": [
       "<ol class=list-inline>\n",
       "\t<li>611</li>\n",
       "\t<li>0.0608686989440127</li>\n",
       "</ol>\n"
      ],
      "text/latex": [
       "\\begin{enumerate*}\n",
       "\\item 611\n",
       "\\item 0.0608686989440127\n",
       "\\end{enumerate*}\n"
      ],
      "text/markdown": [
       "1. 611\n",
       "2. 0.0608686989440127\n",
       "\n",
       "\n"
      ],
      "text/plain": [
       "[1] 611.0000000   0.0608687"
      ]
     },
     "metadata": {},
     "output_type": "display_data"
    }
   ],
   "source": [
    "myfile = \"/hps/nobackup/stegle/users/acuomo/all_scripts/sc_neuroseq/eqtl/timepoint_D52/input_files_ROT_treated/celltype_Sert/results_archive_20200904/top_qtl_results_all.txt\"\n",
    "df = read.csv(myfile,sep=\"\\t\")\n",
    "nrow(df)\n",
    "df$BH_fdr = p.adjust(df$empirical_feature_p_value, method = \"BH\")\n",
    "c(nrow(df[df$BH_fdr < 0.05,]), nrow(df[df$BH_fdr < 0.05,])/nrow(df))"
   ]
  },
  {
   "cell_type": "code",
   "execution_count": 59,
   "metadata": {},
   "outputs": [
    {
     "data": {
      "text/html": [
       "12585"
      ],
      "text/latex": [
       "12585"
      ],
      "text/markdown": [
       "12585"
      ],
      "text/plain": [
       "[1] 12585"
      ]
     },
     "metadata": {},
     "output_type": "display_data"
    },
    {
     "data": {
      "text/html": [
       "<ol class=list-inline>\n",
       "\t<li>736</li>\n",
       "\t<li>0.0584823202224871</li>\n",
       "</ol>\n"
      ],
      "text/latex": [
       "\\begin{enumerate*}\n",
       "\\item 736\n",
       "\\item 0.0584823202224871\n",
       "\\end{enumerate*}\n"
      ],
      "text/markdown": [
       "1. 736\n",
       "2. 0.0584823202224871\n",
       "\n",
       "\n"
      ],
      "text/plain": [
       "[1] 736.00000000   0.05848232"
      ]
     },
     "metadata": {},
     "output_type": "display_data"
    }
   ],
   "source": [
    "# Epen1\n",
    "myfile = \"/hps/nobackup/stegle/users/acuomo/all_scripts/sc_neuroseq/eqtl/timepoint_D52/input_files_ROT_treated/celltype_Epen1/results/top_qtl_results_all.txt\"\n",
    "df = read.csv(myfile,sep=\"\\t\")\n",
    "nrow(df)\n",
    "df$BH_fdr = p.adjust(df$empirical_feature_p_value, method = \"BH\")\n",
    "c(nrow(df[df$BH_fdr < 0.05,]), nrow(df[df$BH_fdr < 0.05,])/nrow(df))"
   ]
  },
  {
   "cell_type": "code",
   "execution_count": 60,
   "metadata": {},
   "outputs": [
    {
     "data": {
      "text/html": [
       "10055"
      ],
      "text/latex": [
       "10055"
      ],
      "text/markdown": [
       "10055"
      ],
      "text/plain": [
       "[1] 10055"
      ]
     },
     "metadata": {},
     "output_type": "display_data"
    },
    {
     "data": {
      "text/html": [
       "<ol class=list-inline>\n",
       "\t<li>575</li>\n",
       "\t<li>0.0571854798607658</li>\n",
       "</ol>\n"
      ],
      "text/latex": [
       "\\begin{enumerate*}\n",
       "\\item 575\n",
       "\\item 0.0571854798607658\n",
       "\\end{enumerate*}\n"
      ],
      "text/markdown": [
       "1. 575\n",
       "2. 0.0571854798607658\n",
       "\n",
       "\n"
      ],
      "text/plain": [
       "[1] 575.00000000   0.05718548"
      ]
     },
     "metadata": {},
     "output_type": "display_data"
    }
   ],
   "source": [
    "myfile = \"/hps/nobackup/stegle/users/acuomo/all_scripts/sc_neuroseq/eqtl/timepoint_D52/input_files_ROT_treated/celltype_Epen1/results_archive_20200904/top_qtl_results_all.txt\"\n",
    "df = read.csv(myfile,sep=\"\\t\")\n",
    "nrow(df)\n",
    "df$BH_fdr = p.adjust(df$empirical_feature_p_value, method = \"BH\")\n",
    "c(nrow(df[df$BH_fdr < 0.05,]), nrow(df[df$BH_fdr < 0.05,])/nrow(df))"
   ]
  },
  {
   "cell_type": "code",
   "execution_count": 61,
   "metadata": {},
   "outputs": [
    {
     "data": {
      "text/html": [
       "11935"
      ],
      "text/latex": [
       "11935"
      ],
      "text/markdown": [
       "11935"
      ],
      "text/plain": [
       "[1] 11935"
      ]
     },
     "metadata": {},
     "output_type": "display_data"
    },
    {
     "data": {
      "text/html": [
       "<ol class=list-inline>\n",
       "\t<li>119</li>\n",
       "\t<li>0.00997067448680352</li>\n",
       "</ol>\n"
      ],
      "text/latex": [
       "\\begin{enumerate*}\n",
       "\\item 119\n",
       "\\item 0.00997067448680352\n",
       "\\end{enumerate*}\n"
      ],
      "text/markdown": [
       "1. 119\n",
       "2. 0.00997067448680352\n",
       "\n",
       "\n"
      ],
      "text/plain": [
       "[1] 1.190000e+02 9.970674e-03"
      ]
     },
     "metadata": {},
     "output_type": "display_data"
    }
   ],
   "source": [
    "# Astro\n",
    "myfile = \"/hps/nobackup/stegle/users/acuomo/all_scripts/sc_neuroseq/eqtl/timepoint_D52/input_files_ROT_treated/celltype_Astro/results/top_qtl_results_all.txt\"\n",
    "df = read.csv(myfile,sep=\"\\t\")\n",
    "nrow(df)\n",
    "df$BH_fdr = p.adjust(df$empirical_feature_p_value, method = \"BH\")\n",
    "c(nrow(df[df$BH_fdr < 0.05,]), nrow(df[df$BH_fdr < 0.05,])/nrow(df))"
   ]
  },
  {
   "cell_type": "code",
   "execution_count": 62,
   "metadata": {},
   "outputs": [
    {
     "data": {
      "text/html": [
       "9823"
      ],
      "text/latex": [
       "9823"
      ],
      "text/markdown": [
       "9823"
      ],
      "text/plain": [
       "[1] 9823"
      ]
     },
     "metadata": {},
     "output_type": "display_data"
    },
    {
     "data": {
      "text/html": [
       "<ol class=list-inline>\n",
       "\t<li>88</li>\n",
       "\t<li>0.00895856662933931</li>\n",
       "</ol>\n"
      ],
      "text/latex": [
       "\\begin{enumerate*}\n",
       "\\item 88\n",
       "\\item 0.00895856662933931\n",
       "\\end{enumerate*}\n"
      ],
      "text/markdown": [
       "1. 88\n",
       "2. 0.00895856662933931\n",
       "\n",
       "\n"
      ],
      "text/plain": [
       "[1] 88.000000000  0.008958567"
      ]
     },
     "metadata": {},
     "output_type": "display_data"
    }
   ],
   "source": [
    "myfile = \"/hps/nobackup/stegle/users/acuomo/all_scripts/sc_neuroseq/eqtl/timepoint_D52/input_files_ROT_treated/celltype_Astro/results_archive_20200904/top_qtl_results_all.txt\"\n",
    "df = read.csv(myfile,sep=\"\\t\")\n",
    "nrow(df)\n",
    "df$BH_fdr = p.adjust(df$empirical_feature_p_value, method = \"BH\")\n",
    "c(nrow(df[df$BH_fdr < 0.05,]), nrow(df[df$BH_fdr < 0.05,])/nrow(df))"
   ]
  },
  {
   "cell_type": "code",
   "execution_count": null,
   "metadata": {},
   "outputs": [],
   "source": []
  },
  {
   "cell_type": "code",
   "execution_count": null,
   "metadata": {},
   "outputs": [],
   "source": []
  }
 ],
 "metadata": {
  "kernelspec": {
   "display_name": "R",
   "language": "R",
   "name": "ir"
  },
  "language_info": {
   "codemirror_mode": "r",
   "file_extension": ".r",
   "mimetype": "text/x-r-source",
   "name": "R",
   "pygments_lexer": "r",
   "version": "3.6.1"
  }
 },
 "nbformat": 4,
 "nbformat_minor": 4
}
