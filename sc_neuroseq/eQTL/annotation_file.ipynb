{
 "cells": [
  {
   "cell_type": "code",
   "execution_count": 1,
   "metadata": {},
   "outputs": [],
   "source": [
    "filename = \"/nfs/leia/research/stegle/dseaton/hipsci/singlecell_neuroseq/data/metadata/gene_annotation/Homo_sapiens.GRCh37.82.Limix_annotation_gene_level.txt\""
   ]
  },
  {
   "cell_type": "code",
   "execution_count": 2,
   "metadata": {},
   "outputs": [
    {
     "data": {
      "text/html": [
       "57905"
      ],
      "text/latex": [
       "57905"
      ],
      "text/markdown": [
       "57905"
      ],
      "text/plain": [
       "[1] 57905"
      ]
     },
     "metadata": {},
     "output_type": "display_data"
    },
    {
     "data": {
      "text/html": [
       "<table>\n",
       "<thead><tr><th scope=col>feature_id</th><th scope=col>chromosome</th><th scope=col>start</th><th scope=col>end</th></tr></thead>\n",
       "<tbody>\n",
       "\t<tr><td>ENSG00000223972</td><td>1              </td><td>11869          </td><td>14412          </td></tr>\n",
       "\t<tr><td>ENSG00000227232</td><td>1              </td><td>14363          </td><td>29806          </td></tr>\n",
       "\t<tr><td>ENSG00000243485</td><td>1              </td><td>29554          </td><td>31109          </td></tr>\n",
       "\t<tr><td>ENSG00000237613</td><td>1              </td><td>34554          </td><td>36081          </td></tr>\n",
       "\t<tr><td>ENSG00000268020</td><td>1              </td><td>52473          </td><td>54936          </td></tr>\n",
       "\t<tr><td>ENSG00000240361</td><td>1              </td><td>62948          </td><td>63887          </td></tr>\n",
       "</tbody>\n",
       "</table>\n"
      ],
      "text/latex": [
       "\\begin{tabular}{r|llll}\n",
       " feature\\_id & chromosome & start & end\\\\\n",
       "\\hline\n",
       "\t ENSG00000223972 & 1               & 11869           & 14412          \\\\\n",
       "\t ENSG00000227232 & 1               & 14363           & 29806          \\\\\n",
       "\t ENSG00000243485 & 1               & 29554           & 31109          \\\\\n",
       "\t ENSG00000237613 & 1               & 34554           & 36081          \\\\\n",
       "\t ENSG00000268020 & 1               & 52473           & 54936          \\\\\n",
       "\t ENSG00000240361 & 1               & 62948           & 63887          \\\\\n",
       "\\end{tabular}\n"
      ],
      "text/markdown": [
       "\n",
       "| feature_id | chromosome | start | end |\n",
       "|---|---|---|---|\n",
       "| ENSG00000223972 | 1               | 11869           | 14412           |\n",
       "| ENSG00000227232 | 1               | 14363           | 29806           |\n",
       "| ENSG00000243485 | 1               | 29554           | 31109           |\n",
       "| ENSG00000237613 | 1               | 34554           | 36081           |\n",
       "| ENSG00000268020 | 1               | 52473           | 54936           |\n",
       "| ENSG00000240361 | 1               | 62948           | 63887           |\n",
       "\n"
      ],
      "text/plain": [
       "  feature_id      chromosome start end  \n",
       "1 ENSG00000223972 1          11869 14412\n",
       "2 ENSG00000227232 1          14363 29806\n",
       "3 ENSG00000243485 1          29554 31109\n",
       "4 ENSG00000237613 1          34554 36081\n",
       "5 ENSG00000268020 1          52473 54936\n",
       "6 ENSG00000240361 1          62948 63887"
      ]
     },
     "metadata": {},
     "output_type": "display_data"
    }
   ],
   "source": [
    "df = read.csv(filename, sep = \"\\t\")\n",
    "# df$X <- c()\n",
    "nrow(df)\n",
    "head(df)"
   ]
  },
  {
   "cell_type": "code",
   "execution_count": 11,
   "metadata": {},
   "outputs": [],
   "source": [
    "write.table(df, \"/hps/nobackup/stegle/users/acuomo/all_scripts/sc_neuroseq/annotation_gene_level.tsv\", sep = \"\\t\", quote = F, row.names = F)"
   ]
  },
  {
   "cell_type": "code",
   "execution_count": null,
   "metadata": {},
   "outputs": [],
   "source": []
  }
 ],
 "metadata": {
  "kernelspec": {
   "display_name": "R",
   "language": "R",
   "name": "ir"
  },
  "language_info": {
   "codemirror_mode": "r",
   "file_extension": ".r",
   "mimetype": "text/x-r-source",
   "name": "R",
   "pygments_lexer": "r",
   "version": "3.6.1"
  }
 },
 "nbformat": 4,
 "nbformat_minor": 4
}
