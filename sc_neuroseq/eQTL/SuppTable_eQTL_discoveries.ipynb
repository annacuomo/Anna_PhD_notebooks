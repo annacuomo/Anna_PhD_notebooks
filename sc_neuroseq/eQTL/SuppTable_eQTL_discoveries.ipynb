{
 "cells": [
  {
   "cell_type": "code",
   "execution_count": 14,
   "metadata": {},
   "outputs": [
    {
     "data": {
      "text/html": [
       "<table>\n",
       "<thead><tr><th></th><th scope=col>snp_id</th><th scope=col>p_value</th><th scope=col>beta</th><th scope=col>beta_se</th><th scope=col>empirical_feature_p_value</th><th scope=col>feature_chromosome</th><th scope=col>feature_start</th><th scope=col>feature_end</th><th scope=col>n_samples</th><th scope=col>n_e_samples</th><th scope=col>...</th><th scope=col>snp_chromosome</th><th scope=col>snp_position</th><th scope=col>assessed_allele</th><th scope=col>call_rate</th><th scope=col>maf</th><th scope=col>hwe_p</th><th scope=col>feature_id</th><th scope=col>BH_fdr</th><th scope=col>q_value</th><th scope=col>label</th></tr></thead>\n",
       "<tbody>\n",
       "\t<tr><th scope=row>2</th><td>11_107726716_A_C</td><td>4.544994e-05    </td><td> 0.09036565     </td><td>0.02216001      </td><td>1.665921e-04    </td><td>11              </td><td>107661717       </td><td>107799019       </td><td>173             </td><td>173             </td><td>...             </td><td>11              </td><td>107726716       </td><td>C               </td><td>1               </td><td>0.4306358       </td><td>0.5386349       </td><td>ENSG00000110660 </td><td>1.808781e-03    </td><td>7.568100e-04    </td><td>FPP_D11         </td></tr>\n",
       "\t<tr><th scope=row>7</th><td>11_106001229_C_A</td><td>5.034677e-05    </td><td>-0.24701335     </td><td>0.06093060      </td><td>2.580194e-02    </td><td>11              </td><td>105946228       </td><td>105969437       </td><td>173             </td><td>173             </td><td>...             </td><td>11              </td><td>106001229       </td><td>A               </td><td>1               </td><td>0.1213873       </td><td>0.4744572       </td><td>ENSG00000149313 </td><td>1.168652e-01    </td><td>4.889743e-02    </td><td>FPP_D11         </td></tr>\n",
       "\t<tr><th scope=row>25</th><td>17_44368902_G_A </td><td>8.821810e-23    </td><td> 0.31823193     </td><td>0.03239132      </td><td>1.948362e-13    </td><td>17              </td><td> 44107282       </td><td> 44302733       </td><td>173             </td><td>173             </td><td>...             </td><td>17              </td><td> 44368902       </td><td>A               </td><td>1               </td><td>0.2630058       </td><td>1.0000000       </td><td>ENSG00000120071 </td><td>1.446690e-11    </td><td>6.053079e-12    </td><td>FPP_D11         </td></tr>\n",
       "\t<tr><th scope=row>26</th><td>17_43665322_C_T </td><td>8.473386e-12    </td><td> 0.36802192     </td><td>0.05388074      </td><td>3.373620e-05    </td><td>17              </td><td> 43699267       </td><td> 43913194       </td><td>173             </td><td>173             </td><td>...             </td><td>17              </td><td> 43665322       </td><td>T               </td><td>1               </td><td>0.2890173       </td><td>0.8536416       </td><td>ENSG00000120088 </td><td>4.392194e-04    </td><td>1.837732e-04    </td><td>FPP_D11         </td></tr>\n",
       "\t<tr><th scope=row>29</th><td>17_42773081_G_A </td><td>4.996958e-07    </td><td>-0.22790074     </td><td>0.04534048      </td><td>3.066814e-03    </td><td>17              </td><td> 42785976       </td><td> 42829632       </td><td>173             </td><td>173             </td><td>...             </td><td>17              </td><td> 42773081       </td><td>A               </td><td>1               </td><td>0.1213873       </td><td>0.7196175       </td><td>ENSG00000161692 </td><td>2.150213e-02    </td><td>8.996680e-03    </td><td>FPP_D11         </td></tr>\n",
       "\t<tr><th scope=row>32</th><td>17_42234039_T_A </td><td>4.316806e-07    </td><td>-0.21782682     </td><td>0.04309623      </td><td>1.053553e-03    </td><td>17              </td><td> 42264338       </td><td> 42269099       </td><td>173             </td><td>173             </td><td>...             </td><td>17              </td><td> 42234039       </td><td>A               </td><td>1               </td><td>0.2803468       </td><td>0.7059199       </td><td>ENSG00000168591 </td><td>8.870036e-03    </td><td>3.711301e-03    </td><td>FPP_D11         </td></tr>\n",
       "</tbody>\n",
       "</table>\n"
      ],
      "text/latex": [
       "\\begin{tabular}{r|llllllllllllllllllllll}\n",
       "  & snp\\_id & p\\_value & beta & beta\\_se & empirical\\_feature\\_p\\_value & feature\\_chromosome & feature\\_start & feature\\_end & n\\_samples & n\\_e\\_samples & ... & snp\\_chromosome & snp\\_position & assessed\\_allele & call\\_rate & maf & hwe\\_p & feature\\_id & BH\\_fdr & q\\_value & label\\\\\n",
       "\\hline\n",
       "\t2 & 11\\_107726716\\_A\\_C & 4.544994e-05           &  0.09036565            & 0.02216001             & 1.665921e-04           & 11                     & 107661717              & 107799019              & 173                    & 173                    & ...                    & 11                     & 107726716              & C                      & 1                      & 0.4306358              & 0.5386349              & ENSG00000110660        & 1.808781e-03           & 7.568100e-04           & FPP\\_D11             \\\\\n",
       "\t7 & 11\\_106001229\\_C\\_A & 5.034677e-05           & -0.24701335            & 0.06093060             & 2.580194e-02           & 11                     & 105946228              & 105969437              & 173                    & 173                    & ...                    & 11                     & 106001229              & A                      & 1                      & 0.1213873              & 0.4744572              & ENSG00000149313        & 1.168652e-01           & 4.889743e-02           & FPP\\_D11             \\\\\n",
       "\t25 & 17\\_44368902\\_G\\_A  & 8.821810e-23           &  0.31823193            & 0.03239132             & 1.948362e-13           & 17                     &  44107282              &  44302733              & 173                    & 173                    & ...                    & 17                     &  44368902              & A                      & 1                      & 0.2630058              & 1.0000000              & ENSG00000120071        & 1.446690e-11           & 6.053079e-12           & FPP\\_D11             \\\\\n",
       "\t26 & 17\\_43665322\\_C\\_T  & 8.473386e-12           &  0.36802192            & 0.05388074             & 3.373620e-05           & 17                     &  43699267              &  43913194              & 173                    & 173                    & ...                    & 17                     &  43665322              & T                      & 1                      & 0.2890173              & 0.8536416              & ENSG00000120088        & 4.392194e-04           & 1.837732e-04           & FPP\\_D11             \\\\\n",
       "\t29 & 17\\_42773081\\_G\\_A  & 4.996958e-07           & -0.22790074            & 0.04534048             & 3.066814e-03           & 17                     &  42785976              &  42829632              & 173                    & 173                    & ...                    & 17                     &  42773081              & A                      & 1                      & 0.1213873              & 0.7196175              & ENSG00000161692        & 2.150213e-02           & 8.996680e-03           & FPP\\_D11             \\\\\n",
       "\t32 & 17\\_42234039\\_T\\_A  & 4.316806e-07           & -0.21782682            & 0.04309623             & 1.053553e-03           & 17                     &  42264338              &  42269099              & 173                    & 173                    & ...                    & 17                     &  42234039              & A                      & 1                      & 0.2803468              & 0.7059199              & ENSG00000168591        & 8.870036e-03           & 3.711301e-03           & FPP\\_D11             \\\\\n",
       "\\end{tabular}\n"
      ],
      "text/markdown": [
       "\n",
       "| <!--/--> | snp_id | p_value | beta | beta_se | empirical_feature_p_value | feature_chromosome | feature_start | feature_end | n_samples | n_e_samples | ... | snp_chromosome | snp_position | assessed_allele | call_rate | maf | hwe_p | feature_id | BH_fdr | q_value | label |\n",
       "|---|---|---|---|---|---|---|---|---|---|---|---|---|---|---|---|---|---|---|---|---|---|\n",
       "| 2 | 11_107726716_A_C | 4.544994e-05     |  0.09036565      | 0.02216001       | 1.665921e-04     | 11               | 107661717        | 107799019        | 173              | 173              | ...              | 11               | 107726716        | C                | 1                | 0.4306358        | 0.5386349        | ENSG00000110660  | 1.808781e-03     | 7.568100e-04     | FPP_D11          |\n",
       "| 7 | 11_106001229_C_A | 5.034677e-05     | -0.24701335      | 0.06093060       | 2.580194e-02     | 11               | 105946228        | 105969437        | 173              | 173              | ...              | 11               | 106001229        | A                | 1                | 0.1213873        | 0.4744572        | ENSG00000149313  | 1.168652e-01     | 4.889743e-02     | FPP_D11          |\n",
       "| 25 | 17_44368902_G_A  | 8.821810e-23     |  0.31823193      | 0.03239132       | 1.948362e-13     | 17               |  44107282        |  44302733        | 173              | 173              | ...              | 17               |  44368902        | A                | 1                | 0.2630058        | 1.0000000        | ENSG00000120071  | 1.446690e-11     | 6.053079e-12     | FPP_D11          |\n",
       "| 26 | 17_43665322_C_T  | 8.473386e-12     |  0.36802192      | 0.05388074       | 3.373620e-05     | 17               |  43699267        |  43913194        | 173              | 173              | ...              | 17               |  43665322        | T                | 1                | 0.2890173        | 0.8536416        | ENSG00000120088  | 4.392194e-04     | 1.837732e-04     | FPP_D11          |\n",
       "| 29 | 17_42773081_G_A  | 4.996958e-07     | -0.22790074      | 0.04534048       | 3.066814e-03     | 17               |  42785976        |  42829632        | 173              | 173              | ...              | 17               |  42773081        | A                | 1                | 0.1213873        | 0.7196175        | ENSG00000161692  | 2.150213e-02     | 8.996680e-03     | FPP_D11          |\n",
       "| 32 | 17_42234039_T_A  | 4.316806e-07     | -0.21782682      | 0.04309623       | 1.053553e-03     | 17               |  42264338        |  42269099        | 173              | 173              | ...              | 17               |  42234039        | A                | 1                | 0.2803468        | 0.7059199        | ENSG00000168591  | 8.870036e-03     | 3.711301e-03     | FPP_D11          |\n",
       "\n"
      ],
      "text/plain": [
       "   snp_id           p_value      beta        beta_se   \n",
       "2  11_107726716_A_C 4.544994e-05  0.09036565 0.02216001\n",
       "7  11_106001229_C_A 5.034677e-05 -0.24701335 0.06093060\n",
       "25 17_44368902_G_A  8.821810e-23  0.31823193 0.03239132\n",
       "26 17_43665322_C_T  8.473386e-12  0.36802192 0.05388074\n",
       "29 17_42773081_G_A  4.996958e-07 -0.22790074 0.04534048\n",
       "32 17_42234039_T_A  4.316806e-07 -0.21782682 0.04309623\n",
       "   empirical_feature_p_value feature_chromosome feature_start feature_end\n",
       "2  1.665921e-04              11                 107661717     107799019  \n",
       "7  2.580194e-02              11                 105946228     105969437  \n",
       "25 1.948362e-13              17                  44107282      44302733  \n",
       "26 3.373620e-05              17                  43699267      43913194  \n",
       "29 3.066814e-03              17                  42785976      42829632  \n",
       "32 1.053553e-03              17                  42264338      42269099  \n",
       "   n_samples n_e_samples ... snp_chromosome snp_position assessed_allele\n",
       "2  173       173         ... 11             107726716    C              \n",
       "7  173       173         ... 11             106001229    A              \n",
       "25 173       173         ... 17              44368902    A              \n",
       "26 173       173         ... 17              43665322    T              \n",
       "29 173       173         ... 17              42773081    A              \n",
       "32 173       173         ... 17              42234039    A              \n",
       "   call_rate maf       hwe_p     feature_id      BH_fdr       q_value     \n",
       "2  1         0.4306358 0.5386349 ENSG00000110660 1.808781e-03 7.568100e-04\n",
       "7  1         0.1213873 0.4744572 ENSG00000149313 1.168652e-01 4.889743e-02\n",
       "25 1         0.2630058 1.0000000 ENSG00000120071 1.446690e-11 6.053079e-12\n",
       "26 1         0.2890173 0.8536416 ENSG00000120088 4.392194e-04 1.837732e-04\n",
       "29 1         0.1213873 0.7196175 ENSG00000161692 2.150213e-02 8.996680e-03\n",
       "32 1         0.2803468 0.7059199 ENSG00000168591 8.870036e-03 3.711301e-03\n",
       "   label  \n",
       "2  FPP_D11\n",
       "7  FPP_D11\n",
       "25 FPP_D11\n",
       "26 FPP_D11\n",
       "29 FPP_D11\n",
       "32 FPP_D11"
      ]
     },
     "metadata": {},
     "output_type": "display_data"
    }
   ],
   "source": [
    "# leads = read.csv(\"/hps/nobackup/stegle/users/acuomo/all_scripts/sc_neuroseq/eqtl/all_leads_5pct_FDR.csv\")\n",
    "leads = read.csv(\"/hps/nobackup/stegle/users/acuomo/all_scripts/sc_neuroseq/eqtl/all_leads_5pct_FDR_Storey.csv\", row.names = 1)\n",
    "head(leads)"
   ]
  },
  {
   "cell_type": "code",
   "execution_count": 15,
   "metadata": {},
   "outputs": [
    {
     "data": {
      "text/html": [
       "<ol class=list-inline>\n",
       "\t<li>'snp_id'</li>\n",
       "\t<li>'p_value'</li>\n",
       "\t<li>'beta'</li>\n",
       "\t<li>'beta_se'</li>\n",
       "\t<li>'empirical_feature_p_value'</li>\n",
       "\t<li>'feature_chromosome'</li>\n",
       "\t<li>'feature_start'</li>\n",
       "\t<li>'feature_end'</li>\n",
       "\t<li>'n_samples'</li>\n",
       "\t<li>'n_e_samples'</li>\n",
       "\t<li>'alpha_param'</li>\n",
       "\t<li>'beta_param'</li>\n",
       "\t<li>'snp_chromosome'</li>\n",
       "\t<li>'snp_position'</li>\n",
       "\t<li>'assessed_allele'</li>\n",
       "\t<li>'call_rate'</li>\n",
       "\t<li>'maf'</li>\n",
       "\t<li>'hwe_p'</li>\n",
       "\t<li>'feature_id'</li>\n",
       "\t<li>'BH_fdr'</li>\n",
       "\t<li>'q_value'</li>\n",
       "\t<li>'label'</li>\n",
       "</ol>\n"
      ],
      "text/latex": [
       "\\begin{enumerate*}\n",
       "\\item 'snp\\_id'\n",
       "\\item 'p\\_value'\n",
       "\\item 'beta'\n",
       "\\item 'beta\\_se'\n",
       "\\item 'empirical\\_feature\\_p\\_value'\n",
       "\\item 'feature\\_chromosome'\n",
       "\\item 'feature\\_start'\n",
       "\\item 'feature\\_end'\n",
       "\\item 'n\\_samples'\n",
       "\\item 'n\\_e\\_samples'\n",
       "\\item 'alpha\\_param'\n",
       "\\item 'beta\\_param'\n",
       "\\item 'snp\\_chromosome'\n",
       "\\item 'snp\\_position'\n",
       "\\item 'assessed\\_allele'\n",
       "\\item 'call\\_rate'\n",
       "\\item 'maf'\n",
       "\\item 'hwe\\_p'\n",
       "\\item 'feature\\_id'\n",
       "\\item 'BH\\_fdr'\n",
       "\\item 'q\\_value'\n",
       "\\item 'label'\n",
       "\\end{enumerate*}\n"
      ],
      "text/markdown": [
       "1. 'snp_id'\n",
       "2. 'p_value'\n",
       "3. 'beta'\n",
       "4. 'beta_se'\n",
       "5. 'empirical_feature_p_value'\n",
       "6. 'feature_chromosome'\n",
       "7. 'feature_start'\n",
       "8. 'feature_end'\n",
       "9. 'n_samples'\n",
       "10. 'n_e_samples'\n",
       "11. 'alpha_param'\n",
       "12. 'beta_param'\n",
       "13. 'snp_chromosome'\n",
       "14. 'snp_position'\n",
       "15. 'assessed_allele'\n",
       "16. 'call_rate'\n",
       "17. 'maf'\n",
       "18. 'hwe_p'\n",
       "19. 'feature_id'\n",
       "20. 'BH_fdr'\n",
       "21. 'q_value'\n",
       "22. 'label'\n",
       "\n",
       "\n"
      ],
      "text/plain": [
       " [1] \"snp_id\"                    \"p_value\"                  \n",
       " [3] \"beta\"                      \"beta_se\"                  \n",
       " [5] \"empirical_feature_p_value\" \"feature_chromosome\"       \n",
       " [7] \"feature_start\"             \"feature_end\"              \n",
       " [9] \"n_samples\"                 \"n_e_samples\"              \n",
       "[11] \"alpha_param\"               \"beta_param\"               \n",
       "[13] \"snp_chromosome\"            \"snp_position\"             \n",
       "[15] \"assessed_allele\"           \"call_rate\"                \n",
       "[17] \"maf\"                       \"hwe_p\"                    \n",
       "[19] \"feature_id\"                \"BH_fdr\"                   \n",
       "[21] \"q_value\"                   \"label\"                    "
      ]
     },
     "metadata": {},
     "output_type": "display_data"
    }
   ],
   "source": [
    "colnames(leads)"
   ]
  },
  {
   "cell_type": "code",
   "execution_count": 16,
   "metadata": {},
   "outputs": [],
   "source": [
    "df = leads\n",
    "# df$label = c()"
   ]
  },
  {
   "cell_type": "code",
   "execution_count": 17,
   "metadata": {},
   "outputs": [
    {
     "data": {
      "text/html": [
       "<table>\n",
       "<thead><tr><th></th><th scope=col>snp_id</th><th scope=col>p_value</th><th scope=col>beta</th><th scope=col>beta_se</th><th scope=col>empirical_feature_p_value</th><th scope=col>feature_chromosome</th><th scope=col>feature_start</th><th scope=col>feature_end</th><th scope=col>n_samples</th><th scope=col>n_e_samples</th><th scope=col>...</th><th scope=col>snp_chromosome</th><th scope=col>snp_position</th><th scope=col>assessed_allele</th><th scope=col>call_rate</th><th scope=col>maf</th><th scope=col>hwe_p</th><th scope=col>feature_id</th><th scope=col>BH_fdr</th><th scope=col>q_value</th><th scope=col>label</th></tr></thead>\n",
       "<tbody>\n",
       "\t<tr><th scope=row>2</th><td>11_107726716_A_C</td><td>4.544994e-05    </td><td> 0.09036565     </td><td>0.02216001      </td><td>1.665921e-04    </td><td>11              </td><td>107661717       </td><td>107799019       </td><td>173             </td><td>173             </td><td>...             </td><td>11              </td><td>107726716       </td><td>C               </td><td>1               </td><td>0.4306358       </td><td>0.5386349       </td><td>ENSG00000110660 </td><td>1.808781e-03    </td><td>7.568100e-04    </td><td>FPP_D11         </td></tr>\n",
       "\t<tr><th scope=row>7</th><td>11_106001229_C_A</td><td>5.034677e-05    </td><td>-0.24701335     </td><td>0.06093060      </td><td>2.580194e-02    </td><td>11              </td><td>105946228       </td><td>105969437       </td><td>173             </td><td>173             </td><td>...             </td><td>11              </td><td>106001229       </td><td>A               </td><td>1               </td><td>0.1213873       </td><td>0.4744572       </td><td>ENSG00000149313 </td><td>1.168652e-01    </td><td>4.889743e-02    </td><td>FPP_D11         </td></tr>\n",
       "\t<tr><th scope=row>25</th><td>17_44368902_G_A </td><td>8.821810e-23    </td><td> 0.31823193     </td><td>0.03239132      </td><td>1.948362e-13    </td><td>17              </td><td> 44107282       </td><td> 44302733       </td><td>173             </td><td>173             </td><td>...             </td><td>17              </td><td> 44368902       </td><td>A               </td><td>1               </td><td>0.2630058       </td><td>1.0000000       </td><td>ENSG00000120071 </td><td>1.446690e-11    </td><td>6.053079e-12    </td><td>FPP_D11         </td></tr>\n",
       "\t<tr><th scope=row>26</th><td>17_43665322_C_T </td><td>8.473386e-12    </td><td> 0.36802192     </td><td>0.05388074      </td><td>3.373620e-05    </td><td>17              </td><td> 43699267       </td><td> 43913194       </td><td>173             </td><td>173             </td><td>...             </td><td>17              </td><td> 43665322       </td><td>T               </td><td>1               </td><td>0.2890173       </td><td>0.8536416       </td><td>ENSG00000120088 </td><td>4.392194e-04    </td><td>1.837732e-04    </td><td>FPP_D11         </td></tr>\n",
       "\t<tr><th scope=row>29</th><td>17_42773081_G_A </td><td>4.996958e-07    </td><td>-0.22790074     </td><td>0.04534048      </td><td>3.066814e-03    </td><td>17              </td><td> 42785976       </td><td> 42829632       </td><td>173             </td><td>173             </td><td>...             </td><td>17              </td><td> 42773081       </td><td>A               </td><td>1               </td><td>0.1213873       </td><td>0.7196175       </td><td>ENSG00000161692 </td><td>2.150213e-02    </td><td>8.996680e-03    </td><td>FPP_D11         </td></tr>\n",
       "\t<tr><th scope=row>32</th><td>17_42234039_T_A </td><td>4.316806e-07    </td><td>-0.21782682     </td><td>0.04309623      </td><td>1.053553e-03    </td><td>17              </td><td> 42264338       </td><td> 42269099       </td><td>173             </td><td>173             </td><td>...             </td><td>17              </td><td> 42234039       </td><td>A               </td><td>1               </td><td>0.2803468       </td><td>0.7059199       </td><td>ENSG00000168591 </td><td>8.870036e-03    </td><td>3.711301e-03    </td><td>FPP_D11         </td></tr>\n",
       "</tbody>\n",
       "</table>\n"
      ],
      "text/latex": [
       "\\begin{tabular}{r|llllllllllllllllllllll}\n",
       "  & snp\\_id & p\\_value & beta & beta\\_se & empirical\\_feature\\_p\\_value & feature\\_chromosome & feature\\_start & feature\\_end & n\\_samples & n\\_e\\_samples & ... & snp\\_chromosome & snp\\_position & assessed\\_allele & call\\_rate & maf & hwe\\_p & feature\\_id & BH\\_fdr & q\\_value & label\\\\\n",
       "\\hline\n",
       "\t2 & 11\\_107726716\\_A\\_C & 4.544994e-05           &  0.09036565            & 0.02216001             & 1.665921e-04           & 11                     & 107661717              & 107799019              & 173                    & 173                    & ...                    & 11                     & 107726716              & C                      & 1                      & 0.4306358              & 0.5386349              & ENSG00000110660        & 1.808781e-03           & 7.568100e-04           & FPP\\_D11             \\\\\n",
       "\t7 & 11\\_106001229\\_C\\_A & 5.034677e-05           & -0.24701335            & 0.06093060             & 2.580194e-02           & 11                     & 105946228              & 105969437              & 173                    & 173                    & ...                    & 11                     & 106001229              & A                      & 1                      & 0.1213873              & 0.4744572              & ENSG00000149313        & 1.168652e-01           & 4.889743e-02           & FPP\\_D11             \\\\\n",
       "\t25 & 17\\_44368902\\_G\\_A  & 8.821810e-23           &  0.31823193            & 0.03239132             & 1.948362e-13           & 17                     &  44107282              &  44302733              & 173                    & 173                    & ...                    & 17                     &  44368902              & A                      & 1                      & 0.2630058              & 1.0000000              & ENSG00000120071        & 1.446690e-11           & 6.053079e-12           & FPP\\_D11             \\\\\n",
       "\t26 & 17\\_43665322\\_C\\_T  & 8.473386e-12           &  0.36802192            & 0.05388074             & 3.373620e-05           & 17                     &  43699267              &  43913194              & 173                    & 173                    & ...                    & 17                     &  43665322              & T                      & 1                      & 0.2890173              & 0.8536416              & ENSG00000120088        & 4.392194e-04           & 1.837732e-04           & FPP\\_D11             \\\\\n",
       "\t29 & 17\\_42773081\\_G\\_A  & 4.996958e-07           & -0.22790074            & 0.04534048             & 3.066814e-03           & 17                     &  42785976              &  42829632              & 173                    & 173                    & ...                    & 17                     &  42773081              & A                      & 1                      & 0.1213873              & 0.7196175              & ENSG00000161692        & 2.150213e-02           & 8.996680e-03           & FPP\\_D11             \\\\\n",
       "\t32 & 17\\_42234039\\_T\\_A  & 4.316806e-07           & -0.21782682            & 0.04309623             & 1.053553e-03           & 17                     &  42264338              &  42269099              & 173                    & 173                    & ...                    & 17                     &  42234039              & A                      & 1                      & 0.2803468              & 0.7059199              & ENSG00000168591        & 8.870036e-03           & 3.711301e-03           & FPP\\_D11             \\\\\n",
       "\\end{tabular}\n"
      ],
      "text/markdown": [
       "\n",
       "| <!--/--> | snp_id | p_value | beta | beta_se | empirical_feature_p_value | feature_chromosome | feature_start | feature_end | n_samples | n_e_samples | ... | snp_chromosome | snp_position | assessed_allele | call_rate | maf | hwe_p | feature_id | BH_fdr | q_value | label |\n",
       "|---|---|---|---|---|---|---|---|---|---|---|---|---|---|---|---|---|---|---|---|---|---|\n",
       "| 2 | 11_107726716_A_C | 4.544994e-05     |  0.09036565      | 0.02216001       | 1.665921e-04     | 11               | 107661717        | 107799019        | 173              | 173              | ...              | 11               | 107726716        | C                | 1                | 0.4306358        | 0.5386349        | ENSG00000110660  | 1.808781e-03     | 7.568100e-04     | FPP_D11          |\n",
       "| 7 | 11_106001229_C_A | 5.034677e-05     | -0.24701335      | 0.06093060       | 2.580194e-02     | 11               | 105946228        | 105969437        | 173              | 173              | ...              | 11               | 106001229        | A                | 1                | 0.1213873        | 0.4744572        | ENSG00000149313  | 1.168652e-01     | 4.889743e-02     | FPP_D11          |\n",
       "| 25 | 17_44368902_G_A  | 8.821810e-23     |  0.31823193      | 0.03239132       | 1.948362e-13     | 17               |  44107282        |  44302733        | 173              | 173              | ...              | 17               |  44368902        | A                | 1                | 0.2630058        | 1.0000000        | ENSG00000120071  | 1.446690e-11     | 6.053079e-12     | FPP_D11          |\n",
       "| 26 | 17_43665322_C_T  | 8.473386e-12     |  0.36802192      | 0.05388074       | 3.373620e-05     | 17               |  43699267        |  43913194        | 173              | 173              | ...              | 17               |  43665322        | T                | 1                | 0.2890173        | 0.8536416        | ENSG00000120088  | 4.392194e-04     | 1.837732e-04     | FPP_D11          |\n",
       "| 29 | 17_42773081_G_A  | 4.996958e-07     | -0.22790074      | 0.04534048       | 3.066814e-03     | 17               |  42785976        |  42829632        | 173              | 173              | ...              | 17               |  42773081        | A                | 1                | 0.1213873        | 0.7196175        | ENSG00000161692  | 2.150213e-02     | 8.996680e-03     | FPP_D11          |\n",
       "| 32 | 17_42234039_T_A  | 4.316806e-07     | -0.21782682      | 0.04309623       | 1.053553e-03     | 17               |  42264338        |  42269099        | 173              | 173              | ...              | 17               |  42234039        | A                | 1                | 0.2803468        | 0.7059199        | ENSG00000168591  | 8.870036e-03     | 3.711301e-03     | FPP_D11          |\n",
       "\n"
      ],
      "text/plain": [
       "   snp_id           p_value      beta        beta_se   \n",
       "2  11_107726716_A_C 4.544994e-05  0.09036565 0.02216001\n",
       "7  11_106001229_C_A 5.034677e-05 -0.24701335 0.06093060\n",
       "25 17_44368902_G_A  8.821810e-23  0.31823193 0.03239132\n",
       "26 17_43665322_C_T  8.473386e-12  0.36802192 0.05388074\n",
       "29 17_42773081_G_A  4.996958e-07 -0.22790074 0.04534048\n",
       "32 17_42234039_T_A  4.316806e-07 -0.21782682 0.04309623\n",
       "   empirical_feature_p_value feature_chromosome feature_start feature_end\n",
       "2  1.665921e-04              11                 107661717     107799019  \n",
       "7  2.580194e-02              11                 105946228     105969437  \n",
       "25 1.948362e-13              17                  44107282      44302733  \n",
       "26 3.373620e-05              17                  43699267      43913194  \n",
       "29 3.066814e-03              17                  42785976      42829632  \n",
       "32 1.053553e-03              17                  42264338      42269099  \n",
       "   n_samples n_e_samples ... snp_chromosome snp_position assessed_allele\n",
       "2  173       173         ... 11             107726716    C              \n",
       "7  173       173         ... 11             106001229    A              \n",
       "25 173       173         ... 17              44368902    A              \n",
       "26 173       173         ... 17              43665322    T              \n",
       "29 173       173         ... 17              42773081    A              \n",
       "32 173       173         ... 17              42234039    A              \n",
       "   call_rate maf       hwe_p     feature_id      BH_fdr       q_value     \n",
       "2  1         0.4306358 0.5386349 ENSG00000110660 1.808781e-03 7.568100e-04\n",
       "7  1         0.1213873 0.4744572 ENSG00000149313 1.168652e-01 4.889743e-02\n",
       "25 1         0.2630058 1.0000000 ENSG00000120071 1.446690e-11 6.053079e-12\n",
       "26 1         0.2890173 0.8536416 ENSG00000120088 4.392194e-04 1.837732e-04\n",
       "29 1         0.1213873 0.7196175 ENSG00000161692 2.150213e-02 8.996680e-03\n",
       "32 1         0.2803468 0.7059199 ENSG00000168591 8.870036e-03 3.711301e-03\n",
       "   label  \n",
       "2  FPP_D11\n",
       "7  FPP_D11\n",
       "25 FPP_D11\n",
       "26 FPP_D11\n",
       "29 FPP_D11\n",
       "32 FPP_D11"
      ]
     },
     "metadata": {},
     "output_type": "display_data"
    }
   ],
   "source": [
    "head(df)"
   ]
  },
  {
   "cell_type": "code",
   "execution_count": 18,
   "metadata": {},
   "outputs": [],
   "source": [
    "# df$label = df$new_label\n",
    "# df$label = as.character(df$label)\n",
    "# unique(df$label)\n",
    "# df$new_label = c()"
   ]
  },
  {
   "cell_type": "code",
   "execution_count": 19,
   "metadata": {},
   "outputs": [],
   "source": [
    "# df$label[df$label == 'DA_ROT_D52'] = 'DA_D52_ROT'\n",
    "# df$label[df$label == 'Sert_ROT_D52'] = 'Sert_D52_ROT'\n",
    "# df$label[df$label == 'Epen1_ROT_D52'] = 'Epen1_D52_ROT'\n",
    "# df$label[df$label == 'Astro_ROT_D52'] = 'Astro_D52_ROT'"
   ]
  },
  {
   "cell_type": "code",
   "execution_count": 20,
   "metadata": {},
   "outputs": [
    {
     "data": {
      "text/html": [
       "<table>\n",
       "<thead><tr><th></th><th scope=col>snp_id</th><th scope=col>p_value</th><th scope=col>beta</th><th scope=col>beta_se</th><th scope=col>empirical_feature_p_value</th><th scope=col>feature_chromosome</th><th scope=col>feature_start</th><th scope=col>feature_end</th><th scope=col>n_samples</th><th scope=col>n_e_samples</th><th scope=col>...</th><th scope=col>snp_chromosome</th><th scope=col>snp_position</th><th scope=col>assessed_allele</th><th scope=col>call_rate</th><th scope=col>maf</th><th scope=col>hwe_p</th><th scope=col>feature_id</th><th scope=col>BH_fdr</th><th scope=col>q_value</th><th scope=col>label</th></tr></thead>\n",
       "<tbody>\n",
       "\t<tr><th scope=row>2</th><td>11_107726716_A_C</td><td>4.544994e-05    </td><td> 0.09036565     </td><td>0.02216001      </td><td>0.0001665921    </td><td>11              </td><td>107661717       </td><td>107799019       </td><td>173             </td><td>173             </td><td>...             </td><td>11              </td><td>107726716       </td><td>C               </td><td>1               </td><td>0.4306358       </td><td>0.5386349       </td><td>ENSG00000110660 </td><td>0.001808781     </td><td>0.00075681      </td><td>FPP_D11         </td></tr>\n",
       "\t<tr><th scope=row>7</th><td>11_106001229_C_A</td><td>5.034677e-05    </td><td>-0.24701335     </td><td>0.06093060      </td><td>0.0258019418    </td><td>11              </td><td>105946228       </td><td>105969437       </td><td>173             </td><td>173             </td><td>...             </td><td>11              </td><td>106001229       </td><td>A               </td><td>1               </td><td>0.1213873       </td><td>0.4744572       </td><td>ENSG00000149313 </td><td>0.116865230     </td><td>0.04889743      </td><td>FPP_D11         </td></tr>\n",
       "</tbody>\n",
       "</table>\n"
      ],
      "text/latex": [
       "\\begin{tabular}{r|llllllllllllllllllllll}\n",
       "  & snp\\_id & p\\_value & beta & beta\\_se & empirical\\_feature\\_p\\_value & feature\\_chromosome & feature\\_start & feature\\_end & n\\_samples & n\\_e\\_samples & ... & snp\\_chromosome & snp\\_position & assessed\\_allele & call\\_rate & maf & hwe\\_p & feature\\_id & BH\\_fdr & q\\_value & label\\\\\n",
       "\\hline\n",
       "\t2 & 11\\_107726716\\_A\\_C & 4.544994e-05           &  0.09036565            & 0.02216001             & 0.0001665921           & 11                     & 107661717              & 107799019              & 173                    & 173                    & ...                    & 11                     & 107726716              & C                      & 1                      & 0.4306358              & 0.5386349              & ENSG00000110660        & 0.001808781            & 0.00075681             & FPP\\_D11             \\\\\n",
       "\t7 & 11\\_106001229\\_C\\_A & 5.034677e-05           & -0.24701335            & 0.06093060             & 0.0258019418           & 11                     & 105946228              & 105969437              & 173                    & 173                    & ...                    & 11                     & 106001229              & A                      & 1                      & 0.1213873              & 0.4744572              & ENSG00000149313        & 0.116865230            & 0.04889743             & FPP\\_D11             \\\\\n",
       "\\end{tabular}\n"
      ],
      "text/markdown": [
       "\n",
       "| <!--/--> | snp_id | p_value | beta | beta_se | empirical_feature_p_value | feature_chromosome | feature_start | feature_end | n_samples | n_e_samples | ... | snp_chromosome | snp_position | assessed_allele | call_rate | maf | hwe_p | feature_id | BH_fdr | q_value | label |\n",
       "|---|---|---|---|---|---|---|---|---|---|---|---|---|---|---|---|---|---|---|---|---|---|\n",
       "| 2 | 11_107726716_A_C | 4.544994e-05     |  0.09036565      | 0.02216001       | 0.0001665921     | 11               | 107661717        | 107799019        | 173              | 173              | ...              | 11               | 107726716        | C                | 1                | 0.4306358        | 0.5386349        | ENSG00000110660  | 0.001808781      | 0.00075681       | FPP_D11          |\n",
       "| 7 | 11_106001229_C_A | 5.034677e-05     | -0.24701335      | 0.06093060       | 0.0258019418     | 11               | 105946228        | 105969437        | 173              | 173              | ...              | 11               | 106001229        | A                | 1                | 0.1213873        | 0.4744572        | ENSG00000149313  | 0.116865230      | 0.04889743       | FPP_D11          |\n",
       "\n"
      ],
      "text/plain": [
       "  snp_id           p_value      beta        beta_se   \n",
       "2 11_107726716_A_C 4.544994e-05  0.09036565 0.02216001\n",
       "7 11_106001229_C_A 5.034677e-05 -0.24701335 0.06093060\n",
       "  empirical_feature_p_value feature_chromosome feature_start feature_end\n",
       "2 0.0001665921              11                 107661717     107799019  \n",
       "7 0.0258019418              11                 105946228     105969437  \n",
       "  n_samples n_e_samples ... snp_chromosome snp_position assessed_allele\n",
       "2 173       173         ... 11             107726716    C              \n",
       "7 173       173         ... 11             106001229    A              \n",
       "  call_rate maf       hwe_p     feature_id      BH_fdr      q_value    label  \n",
       "2 1         0.4306358 0.5386349 ENSG00000110660 0.001808781 0.00075681 FPP_D11\n",
       "7 1         0.1213873 0.4744572 ENSG00000149313 0.116865230 0.04889743 FPP_D11"
      ]
     },
     "metadata": {},
     "output_type": "display_data"
    }
   ],
   "source": [
    "head(df,2)"
   ]
  },
  {
   "cell_type": "code",
   "execution_count": 21,
   "metadata": {},
   "outputs": [
    {
     "data": {
      "text/html": [
       "<table>\n",
       "<thead><tr><th scope=col>feature_id</th><th scope=col>chromosome</th><th scope=col>start</th><th scope=col>end</th><th scope=col>hgnc_symbol</th><th scope=col>combined_feature_id</th><th scope=col>ensembl_gene_id</th></tr></thead>\n",
       "<tbody>\n",
       "\t<tr><td>ENSG00000000003_TSPAN6  </td><td>X                       </td><td> 99883667               </td><td> 99894988               </td><td>TSPAN6                  </td><td>ENSG00000000003_TSPAN6  </td><td>ENSG00000000003         </td></tr>\n",
       "\t<tr><td>ENSG00000000419_DPM1    </td><td>20                      </td><td> 49551404               </td><td> 49575092               </td><td>DPM1                    </td><td>ENSG00000000419_DPM1    </td><td>ENSG00000000419         </td></tr>\n",
       "\t<tr><td>ENSG00000000457_SCYL3   </td><td>1                       </td><td>169818772               </td><td>169863408               </td><td>SCYL3                   </td><td>ENSG00000000457_SCYL3   </td><td>ENSG00000000457         </td></tr>\n",
       "\t<tr><td>ENSG00000000460_C1orf112</td><td>1                       </td><td>169631245               </td><td>169823221               </td><td>C1orf112                </td><td>ENSG00000000460_C1orf112</td><td>ENSG00000000460         </td></tr>\n",
       "\t<tr><td>ENSG00000001036_FUCA2   </td><td>6                       </td><td>143815948               </td><td>143832827               </td><td>FUCA2                   </td><td>ENSG00000001036_FUCA2   </td><td>ENSG00000001036         </td></tr>\n",
       "\t<tr><td>ENSG00000001084_GCLC    </td><td>6                       </td><td> 53362139               </td><td> 53481768               </td><td>GCLC                    </td><td>ENSG00000001084_GCLC    </td><td>ENSG00000001084         </td></tr>\n",
       "</tbody>\n",
       "</table>\n"
      ],
      "text/latex": [
       "\\begin{tabular}{r|lllllll}\n",
       " feature\\_id & chromosome & start & end & hgnc\\_symbol & combined\\_feature\\_id & ensembl\\_gene\\_id\\\\\n",
       "\\hline\n",
       "\t ENSG00000000003\\_TSPAN6   & X                          &  99883667                  &  99894988                  & TSPAN6                     & ENSG00000000003\\_TSPAN6   & ENSG00000000003           \\\\\n",
       "\t ENSG00000000419\\_DPM1     & 20                         &  49551404                  &  49575092                  & DPM1                       & ENSG00000000419\\_DPM1     & ENSG00000000419           \\\\\n",
       "\t ENSG00000000457\\_SCYL3    & 1                          & 169818772                  & 169863408                  & SCYL3                      & ENSG00000000457\\_SCYL3    & ENSG00000000457           \\\\\n",
       "\t ENSG00000000460\\_C1orf112 & 1                          & 169631245                  & 169823221                  & C1orf112                   & ENSG00000000460\\_C1orf112 & ENSG00000000460           \\\\\n",
       "\t ENSG00000001036\\_FUCA2    & 6                          & 143815948                  & 143832827                  & FUCA2                      & ENSG00000001036\\_FUCA2    & ENSG00000001036           \\\\\n",
       "\t ENSG00000001084\\_GCLC     & 6                          &  53362139                  &  53481768                  & GCLC                       & ENSG00000001084\\_GCLC     & ENSG00000001084           \\\\\n",
       "\\end{tabular}\n"
      ],
      "text/markdown": [
       "\n",
       "| feature_id | chromosome | start | end | hgnc_symbol | combined_feature_id | ensembl_gene_id |\n",
       "|---|---|---|---|---|---|---|\n",
       "| ENSG00000000003_TSPAN6   | X                        |  99883667                |  99894988                | TSPAN6                   | ENSG00000000003_TSPAN6   | ENSG00000000003          |\n",
       "| ENSG00000000419_DPM1     | 20                       |  49551404                |  49575092                | DPM1                     | ENSG00000000419_DPM1     | ENSG00000000419          |\n",
       "| ENSG00000000457_SCYL3    | 1                        | 169818772                | 169863408                | SCYL3                    | ENSG00000000457_SCYL3    | ENSG00000000457          |\n",
       "| ENSG00000000460_C1orf112 | 1                        | 169631245                | 169823221                | C1orf112                 | ENSG00000000460_C1orf112 | ENSG00000000460          |\n",
       "| ENSG00000001036_FUCA2    | 6                        | 143815948                | 143832827                | FUCA2                    | ENSG00000001036_FUCA2    | ENSG00000001036          |\n",
       "| ENSG00000001084_GCLC     | 6                        |  53362139                |  53481768                | GCLC                     | ENSG00000001084_GCLC     | ENSG00000001084          |\n",
       "\n"
      ],
      "text/plain": [
       "  feature_id               chromosome start     end       hgnc_symbol\n",
       "1 ENSG00000000003_TSPAN6   X           99883667  99894988 TSPAN6     \n",
       "2 ENSG00000000419_DPM1     20          49551404  49575092 DPM1       \n",
       "3 ENSG00000000457_SCYL3    1          169818772 169863408 SCYL3      \n",
       "4 ENSG00000000460_C1orf112 1          169631245 169823221 C1orf112   \n",
       "5 ENSG00000001036_FUCA2    6          143815948 143832827 FUCA2      \n",
       "6 ENSG00000001084_GCLC     6           53362139  53481768 GCLC       \n",
       "  combined_feature_id      ensembl_gene_id\n",
       "1 ENSG00000000003_TSPAN6   ENSG00000000003\n",
       "2 ENSG00000000419_DPM1     ENSG00000000419\n",
       "3 ENSG00000000457_SCYL3    ENSG00000000457\n",
       "4 ENSG00000000460_C1orf112 ENSG00000000460\n",
       "5 ENSG00000001036_FUCA2    ENSG00000001036\n",
       "6 ENSG00000001084_GCLC     ENSG00000001084"
      ]
     },
     "metadata": {},
     "output_type": "display_data"
    }
   ],
   "source": [
    "annos_file = \"/hps/nobackup/hipsci/scratch/singlecell_endodiff/data_processed/scQTLs/annos/combined_feature_id_annos.tsv\"\n",
    "annos = read.csv(annos_file,sep=\"\\t\")\n",
    "head(annos)"
   ]
  },
  {
   "cell_type": "code",
   "execution_count": 22,
   "metadata": {},
   "outputs": [
    {
     "data": {
      "text/html": [
       "15493"
      ],
      "text/latex": [
       "15493"
      ],
      "text/markdown": [
       "15493"
      ],
      "text/plain": [
       "[1] 15493"
      ]
     },
     "metadata": {},
     "output_type": "display_data"
    }
   ],
   "source": [
    "library(dplyr)\n",
    "nrow(leads)"
   ]
  },
  {
   "cell_type": "code",
   "execution_count": 23,
   "metadata": {},
   "outputs": [
    {
     "data": {
      "text/html": [
       "<table>\n",
       "<thead><tr><th></th><th scope=col>snp_id</th><th scope=col>p_value</th><th scope=col>beta</th><th scope=col>beta_se</th><th scope=col>empirical_feature_p_value</th><th scope=col>feature_chromosome</th><th scope=col>feature_start</th><th scope=col>feature_end</th><th scope=col>n_samples</th><th scope=col>n_e_samples</th><th scope=col>...</th><th scope=col>snp_chromosome</th><th scope=col>snp_position</th><th scope=col>assessed_allele</th><th scope=col>call_rate</th><th scope=col>maf</th><th scope=col>hwe_p</th><th scope=col>BH_fdr</th><th scope=col>q_value</th><th scope=col>label</th><th scope=col>ensembl_gene_id</th></tr></thead>\n",
       "<tbody>\n",
       "\t<tr><th scope=row>2</th><td>11_107726716_A_C</td><td>4.544994e-05    </td><td> 0.09036565     </td><td>0.02216001      </td><td>1.665921e-04    </td><td>11              </td><td>107661717       </td><td>107799019       </td><td>173             </td><td>173             </td><td>...             </td><td>11              </td><td>107726716       </td><td>C               </td><td>1               </td><td>0.4306358       </td><td>0.5386349       </td><td>1.808781e-03    </td><td>7.568100e-04    </td><td>FPP_D11         </td><td>ENSG00000110660 </td></tr>\n",
       "\t<tr><th scope=row>7</th><td>11_106001229_C_A</td><td>5.034677e-05    </td><td>-0.24701335     </td><td>0.06093060      </td><td>2.580194e-02    </td><td>11              </td><td>105946228       </td><td>105969437       </td><td>173             </td><td>173             </td><td>...             </td><td>11              </td><td>106001229       </td><td>A               </td><td>1               </td><td>0.1213873       </td><td>0.4744572       </td><td>1.168652e-01    </td><td>4.889743e-02    </td><td>FPP_D11         </td><td>ENSG00000149313 </td></tr>\n",
       "\t<tr><th scope=row>25</th><td>17_44368902_G_A </td><td>8.821810e-23    </td><td> 0.31823193     </td><td>0.03239132      </td><td>1.948362e-13    </td><td>17              </td><td> 44107282       </td><td> 44302733       </td><td>173             </td><td>173             </td><td>...             </td><td>17              </td><td> 44368902       </td><td>A               </td><td>1               </td><td>0.2630058       </td><td>1.0000000       </td><td>1.446690e-11    </td><td>6.053079e-12    </td><td>FPP_D11         </td><td>ENSG00000120071 </td></tr>\n",
       "\t<tr><th scope=row>26</th><td>17_43665322_C_T </td><td>8.473386e-12    </td><td> 0.36802192     </td><td>0.05388074      </td><td>3.373620e-05    </td><td>17              </td><td> 43699267       </td><td> 43913194       </td><td>173             </td><td>173             </td><td>...             </td><td>17              </td><td> 43665322       </td><td>T               </td><td>1               </td><td>0.2890173       </td><td>0.8536416       </td><td>4.392194e-04    </td><td>1.837732e-04    </td><td>FPP_D11         </td><td>ENSG00000120088 </td></tr>\n",
       "\t<tr><th scope=row>29</th><td>17_42773081_G_A </td><td>4.996958e-07    </td><td>-0.22790074     </td><td>0.04534048      </td><td>3.066814e-03    </td><td>17              </td><td> 42785976       </td><td> 42829632       </td><td>173             </td><td>173             </td><td>...             </td><td>17              </td><td> 42773081       </td><td>A               </td><td>1               </td><td>0.1213873       </td><td>0.7196175       </td><td>2.150213e-02    </td><td>8.996680e-03    </td><td>FPP_D11         </td><td>ENSG00000161692 </td></tr>\n",
       "\t<tr><th scope=row>32</th><td>17_42234039_T_A </td><td>4.316806e-07    </td><td>-0.21782682     </td><td>0.04309623      </td><td>1.053553e-03    </td><td>17              </td><td> 42264338       </td><td> 42269099       </td><td>173             </td><td>173             </td><td>...             </td><td>17              </td><td> 42234039       </td><td>A               </td><td>1               </td><td>0.2803468       </td><td>0.7059199       </td><td>8.870036e-03    </td><td>3.711301e-03    </td><td>FPP_D11         </td><td>ENSG00000168591 </td></tr>\n",
       "</tbody>\n",
       "</table>\n"
      ],
      "text/latex": [
       "\\begin{tabular}{r|llllllllllllllllllllll}\n",
       "  & snp\\_id & p\\_value & beta & beta\\_se & empirical\\_feature\\_p\\_value & feature\\_chromosome & feature\\_start & feature\\_end & n\\_samples & n\\_e\\_samples & ... & snp\\_chromosome & snp\\_position & assessed\\_allele & call\\_rate & maf & hwe\\_p & BH\\_fdr & q\\_value & label & ensembl\\_gene\\_id\\\\\n",
       "\\hline\n",
       "\t2 & 11\\_107726716\\_A\\_C & 4.544994e-05           &  0.09036565            & 0.02216001             & 1.665921e-04           & 11                     & 107661717              & 107799019              & 173                    & 173                    & ...                    & 11                     & 107726716              & C                      & 1                      & 0.4306358              & 0.5386349              & 1.808781e-03           & 7.568100e-04           & FPP\\_D11              & ENSG00000110660       \\\\\n",
       "\t7 & 11\\_106001229\\_C\\_A & 5.034677e-05           & -0.24701335            & 0.06093060             & 2.580194e-02           & 11                     & 105946228              & 105969437              & 173                    & 173                    & ...                    & 11                     & 106001229              & A                      & 1                      & 0.1213873              & 0.4744572              & 1.168652e-01           & 4.889743e-02           & FPP\\_D11              & ENSG00000149313       \\\\\n",
       "\t25 & 17\\_44368902\\_G\\_A  & 8.821810e-23           &  0.31823193            & 0.03239132             & 1.948362e-13           & 17                     &  44107282              &  44302733              & 173                    & 173                    & ...                    & 17                     &  44368902              & A                      & 1                      & 0.2630058              & 1.0000000              & 1.446690e-11           & 6.053079e-12           & FPP\\_D11              & ENSG00000120071       \\\\\n",
       "\t26 & 17\\_43665322\\_C\\_T  & 8.473386e-12           &  0.36802192            & 0.05388074             & 3.373620e-05           & 17                     &  43699267              &  43913194              & 173                    & 173                    & ...                    & 17                     &  43665322              & T                      & 1                      & 0.2890173              & 0.8536416              & 4.392194e-04           & 1.837732e-04           & FPP\\_D11              & ENSG00000120088       \\\\\n",
       "\t29 & 17\\_42773081\\_G\\_A  & 4.996958e-07           & -0.22790074            & 0.04534048             & 3.066814e-03           & 17                     &  42785976              &  42829632              & 173                    & 173                    & ...                    & 17                     &  42773081              & A                      & 1                      & 0.1213873              & 0.7196175              & 2.150213e-02           & 8.996680e-03           & FPP\\_D11              & ENSG00000161692       \\\\\n",
       "\t32 & 17\\_42234039\\_T\\_A  & 4.316806e-07           & -0.21782682            & 0.04309623             & 1.053553e-03           & 17                     &  42264338              &  42269099              & 173                    & 173                    & ...                    & 17                     &  42234039              & A                      & 1                      & 0.2803468              & 0.7059199              & 8.870036e-03           & 3.711301e-03           & FPP\\_D11              & ENSG00000168591       \\\\\n",
       "\\end{tabular}\n"
      ],
      "text/markdown": [
       "\n",
       "| <!--/--> | snp_id | p_value | beta | beta_se | empirical_feature_p_value | feature_chromosome | feature_start | feature_end | n_samples | n_e_samples | ... | snp_chromosome | snp_position | assessed_allele | call_rate | maf | hwe_p | BH_fdr | q_value | label | ensembl_gene_id |\n",
       "|---|---|---|---|---|---|---|---|---|---|---|---|---|---|---|---|---|---|---|---|---|---|\n",
       "| 2 | 11_107726716_A_C | 4.544994e-05     |  0.09036565      | 0.02216001       | 1.665921e-04     | 11               | 107661717        | 107799019        | 173              | 173              | ...              | 11               | 107726716        | C                | 1                | 0.4306358        | 0.5386349        | 1.808781e-03     | 7.568100e-04     | FPP_D11          | ENSG00000110660  |\n",
       "| 7 | 11_106001229_C_A | 5.034677e-05     | -0.24701335      | 0.06093060       | 2.580194e-02     | 11               | 105946228        | 105969437        | 173              | 173              | ...              | 11               | 106001229        | A                | 1                | 0.1213873        | 0.4744572        | 1.168652e-01     | 4.889743e-02     | FPP_D11          | ENSG00000149313  |\n",
       "| 25 | 17_44368902_G_A  | 8.821810e-23     |  0.31823193      | 0.03239132       | 1.948362e-13     | 17               |  44107282        |  44302733        | 173              | 173              | ...              | 17               |  44368902        | A                | 1                | 0.2630058        | 1.0000000        | 1.446690e-11     | 6.053079e-12     | FPP_D11          | ENSG00000120071  |\n",
       "| 26 | 17_43665322_C_T  | 8.473386e-12     |  0.36802192      | 0.05388074       | 3.373620e-05     | 17               |  43699267        |  43913194        | 173              | 173              | ...              | 17               |  43665322        | T                | 1                | 0.2890173        | 0.8536416        | 4.392194e-04     | 1.837732e-04     | FPP_D11          | ENSG00000120088  |\n",
       "| 29 | 17_42773081_G_A  | 4.996958e-07     | -0.22790074      | 0.04534048       | 3.066814e-03     | 17               |  42785976        |  42829632        | 173              | 173              | ...              | 17               |  42773081        | A                | 1                | 0.1213873        | 0.7196175        | 2.150213e-02     | 8.996680e-03     | FPP_D11          | ENSG00000161692  |\n",
       "| 32 | 17_42234039_T_A  | 4.316806e-07     | -0.21782682      | 0.04309623       | 1.053553e-03     | 17               |  42264338        |  42269099        | 173              | 173              | ...              | 17               |  42234039        | A                | 1                | 0.2803468        | 0.7059199        | 8.870036e-03     | 3.711301e-03     | FPP_D11          | ENSG00000168591  |\n",
       "\n"
      ],
      "text/plain": [
       "   snp_id           p_value      beta        beta_se   \n",
       "2  11_107726716_A_C 4.544994e-05  0.09036565 0.02216001\n",
       "7  11_106001229_C_A 5.034677e-05 -0.24701335 0.06093060\n",
       "25 17_44368902_G_A  8.821810e-23  0.31823193 0.03239132\n",
       "26 17_43665322_C_T  8.473386e-12  0.36802192 0.05388074\n",
       "29 17_42773081_G_A  4.996958e-07 -0.22790074 0.04534048\n",
       "32 17_42234039_T_A  4.316806e-07 -0.21782682 0.04309623\n",
       "   empirical_feature_p_value feature_chromosome feature_start feature_end\n",
       "2  1.665921e-04              11                 107661717     107799019  \n",
       "7  2.580194e-02              11                 105946228     105969437  \n",
       "25 1.948362e-13              17                  44107282      44302733  \n",
       "26 3.373620e-05              17                  43699267      43913194  \n",
       "29 3.066814e-03              17                  42785976      42829632  \n",
       "32 1.053553e-03              17                  42264338      42269099  \n",
       "   n_samples n_e_samples ... snp_chromosome snp_position assessed_allele\n",
       "2  173       173         ... 11             107726716    C              \n",
       "7  173       173         ... 11             106001229    A              \n",
       "25 173       173         ... 17              44368902    A              \n",
       "26 173       173         ... 17              43665322    T              \n",
       "29 173       173         ... 17              42773081    A              \n",
       "32 173       173         ... 17              42234039    A              \n",
       "   call_rate maf       hwe_p     BH_fdr       q_value      label  \n",
       "2  1         0.4306358 0.5386349 1.808781e-03 7.568100e-04 FPP_D11\n",
       "7  1         0.1213873 0.4744572 1.168652e-01 4.889743e-02 FPP_D11\n",
       "25 1         0.2630058 1.0000000 1.446690e-11 6.053079e-12 FPP_D11\n",
       "26 1         0.2890173 0.8536416 4.392194e-04 1.837732e-04 FPP_D11\n",
       "29 1         0.1213873 0.7196175 2.150213e-02 8.996680e-03 FPP_D11\n",
       "32 1         0.2803468 0.7059199 8.870036e-03 3.711301e-03 FPP_D11\n",
       "   ensembl_gene_id\n",
       "2  ENSG00000110660\n",
       "7  ENSG00000149313\n",
       "25 ENSG00000120071\n",
       "26 ENSG00000120088\n",
       "29 ENSG00000161692\n",
       "32 ENSG00000168591"
      ]
     },
     "metadata": {},
     "output_type": "display_data"
    },
    {
     "data": {
      "text/html": [
       "15493"
      ],
      "text/latex": [
       "15493"
      ],
      "text/markdown": [
       "15493"
      ],
      "text/plain": [
       "[1] 15493"
      ]
     },
     "metadata": {},
     "output_type": "display_data"
    },
    {
     "name": "stderr",
     "output_type": "stream",
     "text": [
      "Joining, by = \"ensembl_gene_id\"\n",
      "Warning message:\n",
      "“Column `ensembl_gene_id` joining factors with different levels, coercing to character vector”"
     ]
    },
    {
     "data": {
      "text/html": [
       "15493"
      ],
      "text/latex": [
       "15493"
      ],
      "text/markdown": [
       "15493"
      ],
      "text/plain": [
       "[1] 15493"
      ]
     },
     "metadata": {},
     "output_type": "display_data"
    },
    {
     "data": {
      "text/html": [
       "<table>\n",
       "<thead><tr><th scope=col>snp_id</th><th scope=col>p_value</th><th scope=col>beta</th><th scope=col>beta_se</th><th scope=col>empirical_feature_p_value</th><th scope=col>feature_chromosome</th><th scope=col>feature_start</th><th scope=col>feature_end</th><th scope=col>n_samples</th><th scope=col>n_e_samples</th><th scope=col>...</th><th scope=col>snp_position</th><th scope=col>assessed_allele</th><th scope=col>call_rate</th><th scope=col>maf</th><th scope=col>hwe_p</th><th scope=col>BH_fdr</th><th scope=col>q_value</th><th scope=col>label</th><th scope=col>ensembl_gene_id</th><th scope=col>hgnc_symbol</th></tr></thead>\n",
       "<tbody>\n",
       "\t<tr><td>11_107726716_A_C</td><td>4.544994e-05    </td><td> 0.09036565     </td><td>0.02216001      </td><td>1.665921e-04    </td><td>11              </td><td>107661717       </td><td>107799019       </td><td>173             </td><td>173             </td><td>...             </td><td>107726716       </td><td>C               </td><td>1               </td><td>0.4306358       </td><td>0.5386349       </td><td>1.808781e-03    </td><td>7.568100e-04    </td><td>FPP_D11         </td><td>ENSG00000110660 </td><td>SLC35F2         </td></tr>\n",
       "\t<tr><td>11_106001229_C_A</td><td>5.034677e-05    </td><td>-0.24701335     </td><td>0.06093060      </td><td>2.580194e-02    </td><td>11              </td><td>105946228       </td><td>105969437       </td><td>173             </td><td>173             </td><td>...             </td><td>106001229       </td><td>A               </td><td>1               </td><td>0.1213873       </td><td>0.4744572       </td><td>1.168652e-01    </td><td>4.889743e-02    </td><td>FPP_D11         </td><td>ENSG00000149313 </td><td>AASDHPPT        </td></tr>\n",
       "\t<tr><td>17_44368902_G_A </td><td>8.821810e-23    </td><td> 0.31823193     </td><td>0.03239132      </td><td>1.948362e-13    </td><td>17              </td><td> 44107282       </td><td> 44302733       </td><td>173             </td><td>173             </td><td>...             </td><td> 44368902       </td><td>A               </td><td>1               </td><td>0.2630058       </td><td>1.0000000       </td><td>1.446690e-11    </td><td>6.053079e-12    </td><td>FPP_D11         </td><td>ENSG00000120071 </td><td>KANSL1          </td></tr>\n",
       "\t<tr><td>17_43665322_C_T </td><td>8.473386e-12    </td><td> 0.36802192     </td><td>0.05388074      </td><td>3.373620e-05    </td><td>17              </td><td> 43699267       </td><td> 43913194       </td><td>173             </td><td>173             </td><td>...             </td><td> 43665322       </td><td>T               </td><td>1               </td><td>0.2890173       </td><td>0.8536416       </td><td>4.392194e-04    </td><td>1.837732e-04    </td><td>FPP_D11         </td><td>ENSG00000120088 </td><td>NA              </td></tr>\n",
       "\t<tr><td>17_42773081_G_A </td><td>4.996958e-07    </td><td>-0.22790074     </td><td>0.04534048      </td><td>3.066814e-03    </td><td>17              </td><td> 42785976       </td><td> 42829632       </td><td>173             </td><td>173             </td><td>...             </td><td> 42773081       </td><td>A               </td><td>1               </td><td>0.1213873       </td><td>0.7196175       </td><td>2.150213e-02    </td><td>8.996680e-03    </td><td>FPP_D11         </td><td>ENSG00000161692 </td><td>DBF4B           </td></tr>\n",
       "\t<tr><td>17_42234039_T_A </td><td>4.316806e-07    </td><td>-0.21782682     </td><td>0.04309623      </td><td>1.053553e-03    </td><td>17              </td><td> 42264338       </td><td> 42269099       </td><td>173             </td><td>173             </td><td>...             </td><td> 42234039       </td><td>A               </td><td>1               </td><td>0.2803468       </td><td>0.7059199       </td><td>8.870036e-03    </td><td>3.711301e-03    </td><td>FPP_D11         </td><td>ENSG00000168591 </td><td>TMUB2           </td></tr>\n",
       "</tbody>\n",
       "</table>\n"
      ],
      "text/latex": [
       "\\begin{tabular}{r|lllllllllllllllllllllll}\n",
       " snp\\_id & p\\_value & beta & beta\\_se & empirical\\_feature\\_p\\_value & feature\\_chromosome & feature\\_start & feature\\_end & n\\_samples & n\\_e\\_samples & ... & snp\\_position & assessed\\_allele & call\\_rate & maf & hwe\\_p & BH\\_fdr & q\\_value & label & ensembl\\_gene\\_id & hgnc\\_symbol\\\\\n",
       "\\hline\n",
       "\t 11\\_107726716\\_A\\_C & 4.544994e-05           &  0.09036565            & 0.02216001             & 1.665921e-04           & 11                     & 107661717              & 107799019              & 173                    & 173                    & ...                    & 107726716              & C                      & 1                      & 0.4306358              & 0.5386349              & 1.808781e-03           & 7.568100e-04           & FPP\\_D11              & ENSG00000110660        & SLC35F2               \\\\\n",
       "\t 11\\_106001229\\_C\\_A & 5.034677e-05           & -0.24701335            & 0.06093060             & 2.580194e-02           & 11                     & 105946228              & 105969437              & 173                    & 173                    & ...                    & 106001229              & A                      & 1                      & 0.1213873              & 0.4744572              & 1.168652e-01           & 4.889743e-02           & FPP\\_D11              & ENSG00000149313        & AASDHPPT              \\\\\n",
       "\t 17\\_44368902\\_G\\_A  & 8.821810e-23           &  0.31823193            & 0.03239132             & 1.948362e-13           & 17                     &  44107282              &  44302733              & 173                    & 173                    & ...                    &  44368902              & A                      & 1                      & 0.2630058              & 1.0000000              & 1.446690e-11           & 6.053079e-12           & FPP\\_D11              & ENSG00000120071        & KANSL1                \\\\\n",
       "\t 17\\_43665322\\_C\\_T  & 8.473386e-12           &  0.36802192            & 0.05388074             & 3.373620e-05           & 17                     &  43699267              &  43913194              & 173                    & 173                    & ...                    &  43665322              & T                      & 1                      & 0.2890173              & 0.8536416              & 4.392194e-04           & 1.837732e-04           & FPP\\_D11              & ENSG00000120088        & NA                    \\\\\n",
       "\t 17\\_42773081\\_G\\_A  & 4.996958e-07           & -0.22790074            & 0.04534048             & 3.066814e-03           & 17                     &  42785976              &  42829632              & 173                    & 173                    & ...                    &  42773081              & A                      & 1                      & 0.1213873              & 0.7196175              & 2.150213e-02           & 8.996680e-03           & FPP\\_D11              & ENSG00000161692        & DBF4B                 \\\\\n",
       "\t 17\\_42234039\\_T\\_A  & 4.316806e-07           & -0.21782682            & 0.04309623             & 1.053553e-03           & 17                     &  42264338              &  42269099              & 173                    & 173                    & ...                    &  42234039              & A                      & 1                      & 0.2803468              & 0.7059199              & 8.870036e-03           & 3.711301e-03           & FPP\\_D11              & ENSG00000168591        & TMUB2                 \\\\\n",
       "\\end{tabular}\n"
      ],
      "text/markdown": [
       "\n",
       "| snp_id | p_value | beta | beta_se | empirical_feature_p_value | feature_chromosome | feature_start | feature_end | n_samples | n_e_samples | ... | snp_position | assessed_allele | call_rate | maf | hwe_p | BH_fdr | q_value | label | ensembl_gene_id | hgnc_symbol |\n",
       "|---|---|---|---|---|---|---|---|---|---|---|---|---|---|---|---|---|---|---|---|---|\n",
       "| 11_107726716_A_C | 4.544994e-05     |  0.09036565      | 0.02216001       | 1.665921e-04     | 11               | 107661717        | 107799019        | 173              | 173              | ...              | 107726716        | C                | 1                | 0.4306358        | 0.5386349        | 1.808781e-03     | 7.568100e-04     | FPP_D11          | ENSG00000110660  | SLC35F2          |\n",
       "| 11_106001229_C_A | 5.034677e-05     | -0.24701335      | 0.06093060       | 2.580194e-02     | 11               | 105946228        | 105969437        | 173              | 173              | ...              | 106001229        | A                | 1                | 0.1213873        | 0.4744572        | 1.168652e-01     | 4.889743e-02     | FPP_D11          | ENSG00000149313  | AASDHPPT         |\n",
       "| 17_44368902_G_A  | 8.821810e-23     |  0.31823193      | 0.03239132       | 1.948362e-13     | 17               |  44107282        |  44302733        | 173              | 173              | ...              |  44368902        | A                | 1                | 0.2630058        | 1.0000000        | 1.446690e-11     | 6.053079e-12     | FPP_D11          | ENSG00000120071  | KANSL1           |\n",
       "| 17_43665322_C_T  | 8.473386e-12     |  0.36802192      | 0.05388074       | 3.373620e-05     | 17               |  43699267        |  43913194        | 173              | 173              | ...              |  43665322        | T                | 1                | 0.2890173        | 0.8536416        | 4.392194e-04     | 1.837732e-04     | FPP_D11          | ENSG00000120088  | NA               |\n",
       "| 17_42773081_G_A  | 4.996958e-07     | -0.22790074      | 0.04534048       | 3.066814e-03     | 17               |  42785976        |  42829632        | 173              | 173              | ...              |  42773081        | A                | 1                | 0.1213873        | 0.7196175        | 2.150213e-02     | 8.996680e-03     | FPP_D11          | ENSG00000161692  | DBF4B            |\n",
       "| 17_42234039_T_A  | 4.316806e-07     | -0.21782682      | 0.04309623       | 1.053553e-03     | 17               |  42264338        |  42269099        | 173              | 173              | ...              |  42234039        | A                | 1                | 0.2803468        | 0.7059199        | 8.870036e-03     | 3.711301e-03     | FPP_D11          | ENSG00000168591  | TMUB2            |\n",
       "\n"
      ],
      "text/plain": [
       "  snp_id           p_value      beta        beta_se   \n",
       "1 11_107726716_A_C 4.544994e-05  0.09036565 0.02216001\n",
       "2 11_106001229_C_A 5.034677e-05 -0.24701335 0.06093060\n",
       "3 17_44368902_G_A  8.821810e-23  0.31823193 0.03239132\n",
       "4 17_43665322_C_T  8.473386e-12  0.36802192 0.05388074\n",
       "5 17_42773081_G_A  4.996958e-07 -0.22790074 0.04534048\n",
       "6 17_42234039_T_A  4.316806e-07 -0.21782682 0.04309623\n",
       "  empirical_feature_p_value feature_chromosome feature_start feature_end\n",
       "1 1.665921e-04              11                 107661717     107799019  \n",
       "2 2.580194e-02              11                 105946228     105969437  \n",
       "3 1.948362e-13              17                  44107282      44302733  \n",
       "4 3.373620e-05              17                  43699267      43913194  \n",
       "5 3.066814e-03              17                  42785976      42829632  \n",
       "6 1.053553e-03              17                  42264338      42269099  \n",
       "  n_samples n_e_samples ... snp_position assessed_allele call_rate maf      \n",
       "1 173       173         ... 107726716    C               1         0.4306358\n",
       "2 173       173         ... 106001229    A               1         0.1213873\n",
       "3 173       173         ...  44368902    A               1         0.2630058\n",
       "4 173       173         ...  43665322    T               1         0.2890173\n",
       "5 173       173         ...  42773081    A               1         0.1213873\n",
       "6 173       173         ...  42234039    A               1         0.2803468\n",
       "  hwe_p     BH_fdr       q_value      label   ensembl_gene_id hgnc_symbol\n",
       "1 0.5386349 1.808781e-03 7.568100e-04 FPP_D11 ENSG00000110660 SLC35F2    \n",
       "2 0.4744572 1.168652e-01 4.889743e-02 FPP_D11 ENSG00000149313 AASDHPPT   \n",
       "3 1.0000000 1.446690e-11 6.053079e-12 FPP_D11 ENSG00000120071 KANSL1     \n",
       "4 0.8536416 4.392194e-04 1.837732e-04 FPP_D11 ENSG00000120088 NA         \n",
       "5 0.7196175 2.150213e-02 8.996680e-03 FPP_D11 ENSG00000161692 DBF4B      \n",
       "6 0.7059199 8.870036e-03 3.711301e-03 FPP_D11 ENSG00000168591 TMUB2      "
      ]
     },
     "metadata": {},
     "output_type": "display_data"
    }
   ],
   "source": [
    "df$ensembl_gene_id = df$feature_id\n",
    "df$feature_id = c()\n",
    "head(df)\n",
    "nrow(df)\n",
    "df2 = left_join(df,annos[,c(\"hgnc_symbol\",\"ensembl_gene_id\")])\n",
    "nrow(df2)\n",
    "head(df2)"
   ]
  },
  {
   "cell_type": "code",
   "execution_count": 47,
   "metadata": {},
   "outputs": [
    {
     "data": {
      "text/html": [
       "<table>\n",
       "<thead><tr><th></th><th scope=col>snp_id</th><th scope=col>p_value</th><th scope=col>beta</th><th scope=col>beta_se</th><th scope=col>empirical_feature_p_value</th><th scope=col>feature_chromosome</th><th scope=col>feature_start</th><th scope=col>feature_end</th><th scope=col>n_samples</th><th scope=col>n_e_samples</th><th scope=col>...</th><th scope=col>snp_chromosome</th><th scope=col>snp_position</th><th scope=col>assessed_allele</th><th scope=col>call_rate</th><th scope=col>maf</th><th scope=col>hwe_p</th><th scope=col>global_corr_p_value</th><th scope=col>label</th><th scope=col>ensembl_gene_id</th><th scope=col>hgnc_symbol</th></tr></thead>\n",
       "<tbody>\n",
       "\t<tr><th scope=row>6235</th><td>7_75972947_T_C </td><td>1.036328e-08   </td><td>-0.2894174     </td><td>0.05055613     </td><td>0.0001613092   </td><td>7              </td><td>75931861       </td><td>75933612       </td><td>156            </td><td>156            </td><td>...            </td><td>7              </td><td>75972947       </td><td>C              </td><td>1              </td><td>0.4487179      </td><td>1.0000000      </td><td>0.003955334    </td><td>DA_D52         </td><td>ENSG00000106211</td><td>HSPB1          </td></tr>\n",
       "\t<tr><th scope=row>6950</th><td>7_75929190_G_C </td><td>1.791637e-07   </td><td>-0.3169658     </td><td>0.06072431     </td><td>0.0021249285   </td><td>7              </td><td>75931861       </td><td>75933612       </td><td>140            </td><td>140            </td><td>...            </td><td>7              </td><td>75929190       </td><td>C              </td><td>1              </td><td>0.2642857      </td><td>0.6630497      </td><td>0.031367695    </td><td>Sert_D52       </td><td>ENSG00000106211</td><td>HSPB1          </td></tr>\n",
       "</tbody>\n",
       "</table>\n"
      ],
      "text/latex": [
       "\\begin{tabular}{r|llllllllllllllllllllll}\n",
       "  & snp\\_id & p\\_value & beta & beta\\_se & empirical\\_feature\\_p\\_value & feature\\_chromosome & feature\\_start & feature\\_end & n\\_samples & n\\_e\\_samples & ... & snp\\_chromosome & snp\\_position & assessed\\_allele & call\\_rate & maf & hwe\\_p & global\\_corr\\_p\\_value & label & ensembl\\_gene\\_id & hgnc\\_symbol\\\\\n",
       "\\hline\n",
       "\t6235 & 7\\_75972947\\_T\\_C & 1.036328e-08         & -0.2894174           & 0.05055613           & 0.0001613092         & 7                    & 75931861             & 75933612             & 156                  & 156                  & ...                  & 7                    & 75972947             & C                    & 1                    & 0.4487179            & 1.0000000            & 0.003955334          & DA\\_D52             & ENSG00000106211      & HSPB1               \\\\\n",
       "\t6950 & 7\\_75929190\\_G\\_C & 1.791637e-07         & -0.3169658           & 0.06072431           & 0.0021249285         & 7                    & 75931861             & 75933612             & 140                  & 140                  & ...                  & 7                    & 75929190             & C                    & 1                    & 0.2642857            & 0.6630497            & 0.031367695          & Sert\\_D52           & ENSG00000106211      & HSPB1               \\\\\n",
       "\\end{tabular}\n"
      ],
      "text/markdown": [
       "\n",
       "| <!--/--> | snp_id | p_value | beta | beta_se | empirical_feature_p_value | feature_chromosome | feature_start | feature_end | n_samples | n_e_samples | ... | snp_chromosome | snp_position | assessed_allele | call_rate | maf | hwe_p | global_corr_p_value | label | ensembl_gene_id | hgnc_symbol |\n",
       "|---|---|---|---|---|---|---|---|---|---|---|---|---|---|---|---|---|---|---|---|---|---|\n",
       "| 6235 | 7_75972947_T_C  | 1.036328e-08    | -0.2894174      | 0.05055613      | 0.0001613092    | 7               | 75931861        | 75933612        | 156             | 156             | ...             | 7               | 75972947        | C               | 1               | 0.4487179       | 1.0000000       | 0.003955334     | DA_D52          | ENSG00000106211 | HSPB1           |\n",
       "| 6950 | 7_75929190_G_C  | 1.791637e-07    | -0.3169658      | 0.06072431      | 0.0021249285    | 7               | 75931861        | 75933612        | 140             | 140             | ...             | 7               | 75929190        | C               | 1               | 0.2642857       | 0.6630497       | 0.031367695     | Sert_D52        | ENSG00000106211 | HSPB1           |\n",
       "\n"
      ],
      "text/plain": [
       "     snp_id         p_value      beta       beta_se   \n",
       "6235 7_75972947_T_C 1.036328e-08 -0.2894174 0.05055613\n",
       "6950 7_75929190_G_C 1.791637e-07 -0.3169658 0.06072431\n",
       "     empirical_feature_p_value feature_chromosome feature_start feature_end\n",
       "6235 0.0001613092              7                  75931861      75933612   \n",
       "6950 0.0021249285              7                  75931861      75933612   \n",
       "     n_samples n_e_samples ... snp_chromosome snp_position assessed_allele\n",
       "6235 156       156         ... 7              75972947     C              \n",
       "6950 140       140         ... 7              75929190     C              \n",
       "     call_rate maf       hwe_p     global_corr_p_value label    ensembl_gene_id\n",
       "6235 1         0.4487179 1.0000000 0.003955334         DA_D52   ENSG00000106211\n",
       "6950 1         0.2642857 0.6630497 0.031367695         Sert_D52 ENSG00000106211\n",
       "     hgnc_symbol\n",
       "6235 HSPB1      \n",
       "6950 HSPB1      "
      ]
     },
     "metadata": {},
     "output_type": "display_data"
    }
   ],
   "source": [
    "df2[df2$hgnc_symbol == 'HSPB1',]"
   ]
  },
  {
   "cell_type": "code",
   "execution_count": 24,
   "metadata": {},
   "outputs": [],
   "source": [
    "supp_tables_dir = \"/hps/nobackup/stegle/users/acuomo/all_scripts/sc_neuroseq/neuroseq_ms/supp_tables/natgen/\"\n",
    "filename = paste0(supp_tables_dir,\"SuppTable7_eQTL_discoveries_across_celltypes_and_conditions_fdr0.05.csv\")\n",
    "write.csv(df2,filename, quote = F, row.names = F)"
   ]
  },
  {
   "cell_type": "code",
   "execution_count": 25,
   "metadata": {},
   "outputs": [
    {
     "data": {
      "text/html": [
       "<table>\n",
       "<thead><tr><th></th><th scope=col>snp_id</th><th scope=col>p_value</th><th scope=col>beta</th><th scope=col>beta_se</th><th scope=col>empirical_feature_p_value</th><th scope=col>feature_chromosome</th><th scope=col>feature_start</th><th scope=col>feature_end</th><th scope=col>n_samples</th><th scope=col>n_e_samples</th><th scope=col>...</th><th scope=col>snp_position</th><th scope=col>assessed_allele</th><th scope=col>call_rate</th><th scope=col>maf</th><th scope=col>hwe_p</th><th scope=col>BH_fdr</th><th scope=col>q_value</th><th scope=col>label</th><th scope=col>ensembl_gene_id</th><th scope=col>hgnc_symbol</th></tr></thead>\n",
       "<tbody>\n",
       "\t<tr><th scope=row>576</th><td>7_143725581_C_T</td><td>9.362019e-08   </td><td>-0.2830021     </td><td>0.05300964     </td><td>0.0007454791   </td><td>7              </td><td>143948357      </td><td>144053274      </td><td>173            </td><td>173            </td><td>...            </td><td>143725581      </td><td>T              </td><td>1              </td><td>0.3757225      </td><td>0.6277509      </td><td>0.006671632    </td><td>0.002791469    </td><td>FPP_D11        </td><td>ENSG00000244479</td><td>NA             </td></tr>\n",
       "</tbody>\n",
       "</table>\n"
      ],
      "text/latex": [
       "\\begin{tabular}{r|lllllllllllllllllllllll}\n",
       "  & snp\\_id & p\\_value & beta & beta\\_se & empirical\\_feature\\_p\\_value & feature\\_chromosome & feature\\_start & feature\\_end & n\\_samples & n\\_e\\_samples & ... & snp\\_position & assessed\\_allele & call\\_rate & maf & hwe\\_p & BH\\_fdr & q\\_value & label & ensembl\\_gene\\_id & hgnc\\_symbol\\\\\n",
       "\\hline\n",
       "\t576 & 7\\_143725581\\_C\\_T & 9.362019e-08          & -0.2830021            & 0.05300964            & 0.0007454791          & 7                     & 143948357             & 144053274             & 173                   & 173                   & ...                   & 143725581             & T                     & 1                     & 0.3757225             & 0.6277509             & 0.006671632           & 0.002791469           & FPP\\_D11             & ENSG00000244479       & NA                   \\\\\n",
       "\\end{tabular}\n"
      ],
      "text/markdown": [
       "\n",
       "| <!--/--> | snp_id | p_value | beta | beta_se | empirical_feature_p_value | feature_chromosome | feature_start | feature_end | n_samples | n_e_samples | ... | snp_position | assessed_allele | call_rate | maf | hwe_p | BH_fdr | q_value | label | ensembl_gene_id | hgnc_symbol |\n",
       "|---|---|---|---|---|---|---|---|---|---|---|---|---|---|---|---|---|---|---|---|---|---|\n",
       "| 576 | 7_143725581_C_T | 9.362019e-08    | -0.2830021      | 0.05300964      | 0.0007454791    | 7               | 143948357       | 144053274       | 173             | 173             | ...             | 143725581       | T               | 1               | 0.3757225       | 0.6277509       | 0.006671632     | 0.002791469     | FPP_D11         | ENSG00000244479 | NA              |\n",
       "\n"
      ],
      "text/plain": [
       "    snp_id          p_value      beta       beta_se   \n",
       "576 7_143725581_C_T 9.362019e-08 -0.2830021 0.05300964\n",
       "    empirical_feature_p_value feature_chromosome feature_start feature_end\n",
       "576 0.0007454791              7                  143948357     144053274  \n",
       "    n_samples n_e_samples ... snp_position assessed_allele call_rate maf      \n",
       "576 173       173         ... 143725581    T               1         0.3757225\n",
       "    hwe_p     BH_fdr      q_value     label   ensembl_gene_id hgnc_symbol\n",
       "576 0.6277509 0.006671632 0.002791469 FPP_D11 ENSG00000244479 NA         "
      ]
     },
     "metadata": {},
     "output_type": "display_data"
    }
   ],
   "source": [
    "df2[df2$snp_id == \"7_143725581_C_T\",]"
   ]
  },
  {
   "cell_type": "code",
   "execution_count": 48,
   "metadata": {},
   "outputs": [
    {
     "data": {
      "text/html": [
       "9956"
      ],
      "text/latex": [
       "9956"
      ],
      "text/markdown": [
       "9956"
      ],
      "text/plain": [
       "[1] 9956"
      ]
     },
     "metadata": {},
     "output_type": "display_data"
    },
    {
     "data": {
      "text/html": [
       "<table>\n",
       "<thead><tr><th scope=col>snp_id</th><th scope=col>p_value</th><th scope=col>beta</th><th scope=col>beta_se</th><th scope=col>empirical_feature_p_value</th><th scope=col>feature_chromosome</th><th scope=col>feature_start</th><th scope=col>feature_end</th><th scope=col>n_samples</th><th scope=col>n_e_samples</th><th scope=col>...</th><th scope=col>snp_chromosome</th><th scope=col>snp_position</th><th scope=col>assessed_allele</th><th scope=col>call_rate</th><th scope=col>maf</th><th scope=col>hwe_p</th><th scope=col>global_corr_p_value</th><th scope=col>label</th><th scope=col>ensembl_gene_id</th><th scope=col>hgnc_symbol</th></tr></thead>\n",
       "<tbody>\n",
       "\t<tr><td>21_30373541_T_C</td><td>2.920966e-25   </td><td>-0.8525780     </td><td>0.08210206     </td><td>1.632719e-14   </td><td>21             </td><td>30376705       </td><td>30391699       </td><td>173            </td><td>173            </td><td>...            </td><td>21             </td><td>30373541       </td><td>C              </td><td>1              </td><td>0.2398844      </td><td>0.09609073     </td><td>1.400559e-12   </td><td>FPP_D11        </td><td>ENSG00000156253</td><td>RWDD2B         </td></tr>\n",
       "\t<tr><td>21_30432557_G_A</td><td>1.495486e-48   </td><td> 0.5058675     </td><td>0.03454695     </td><td>1.169470e-31   </td><td>21             </td><td>30428126       </td><td>30446118       </td><td>173            </td><td>173            </td><td>...            </td><td>21             </td><td>30432557       </td><td>A              </td><td>1              </td><td>0.1358382      </td><td>1.00000000     </td><td>1.059433e-28   </td><td>FPP_D11        </td><td>ENSG00000156261</td><td>CCT8           </td></tr>\n",
       "\t<tr><td>19_46203083_G_A</td><td>1.442702e-12   </td><td>-0.4016498     </td><td>0.05673108     </td><td>5.239484e-06   </td><td>19             </td><td>46195741       </td><td>46207247       </td><td>173            </td><td>173            </td><td>...            </td><td>19             </td><td>46203083       </td><td>A              </td><td>1              </td><td>0.4768786      </td><td>1.00000000     </td><td>8.196462e-05   </td><td>FPP_D11        </td><td>ENSG00000011478</td><td>QPCTL          </td></tr>\n",
       "\t<tr><td>19_47288150_C_A</td><td>9.723840e-14   </td><td>-0.2695948     </td><td>0.03621346     </td><td>1.546057e-07   </td><td>19             </td><td>47278140       </td><td>47291851       </td><td>173            </td><td>173            </td><td>...            </td><td>19             </td><td>47288150       </td><td>A              </td><td>1              </td><td>0.4508671      </td><td>0.87786220     </td><td>3.363855e-06   </td><td>FPP_D11        </td><td>ENSG00000105281</td><td>SLC1A5         </td></tr>\n",
       "\t<tr><td>19_47174893_A_C</td><td>1.115403e-06   </td><td>-0.2763602     </td><td>0.05674627     </td><td>6.046782e-03   </td><td>19             </td><td>47177532       </td><td>47220384       </td><td>173            </td><td>173            </td><td>...            </td><td>19             </td><td>47174893       </td><td>C              </td><td>1              </td><td>0.3757225      </td><td>0.10474653     </td><td>3.603838e-02   </td><td>FPP_D11        </td><td>ENSG00000105287</td><td>PRKD2          </td></tr>\n",
       "\t<tr><td>19_46319415_G_C</td><td>1.191570e-06   </td><td> 0.2736772     </td><td>0.05634656     </td><td>7.122389e-03   </td><td>19             </td><td>46318668       </td><td>46366548       </td><td>173            </td><td>173            </td><td>...            </td><td>19             </td><td>46319415       </td><td>C              </td><td>1              </td><td>0.3150289      </td><td>0.16276934     </td><td>4.109705e-02   </td><td>FPP_D11        </td><td>ENSG00000125755</td><td>SYMPK          </td></tr>\n",
       "</tbody>\n",
       "</table>\n"
      ],
      "text/latex": [
       "\\begin{tabular}{r|llllllllllllllllllllll}\n",
       " snp\\_id & p\\_value & beta & beta\\_se & empirical\\_feature\\_p\\_value & feature\\_chromosome & feature\\_start & feature\\_end & n\\_samples & n\\_e\\_samples & ... & snp\\_chromosome & snp\\_position & assessed\\_allele & call\\_rate & maf & hwe\\_p & global\\_corr\\_p\\_value & label & ensembl\\_gene\\_id & hgnc\\_symbol\\\\\n",
       "\\hline\n",
       "\t 21\\_30373541\\_T\\_C & 2.920966e-25          & -0.8525780            & 0.08210206            & 1.632719e-14          & 21                    & 30376705              & 30391699              & 173                   & 173                   & ...                   & 21                    & 30373541              & C                     & 1                     & 0.2398844             & 0.09609073            & 1.400559e-12          & FPP\\_D11             & ENSG00000156253       & RWDD2B               \\\\\n",
       "\t 21\\_30432557\\_G\\_A & 1.495486e-48          &  0.5058675            & 0.03454695            & 1.169470e-31          & 21                    & 30428126              & 30446118              & 173                   & 173                   & ...                   & 21                    & 30432557              & A                     & 1                     & 0.1358382             & 1.00000000            & 1.059433e-28          & FPP\\_D11             & ENSG00000156261       & CCT8                 \\\\\n",
       "\t 19\\_46203083\\_G\\_A & 1.442702e-12          & -0.4016498            & 0.05673108            & 5.239484e-06          & 19                    & 46195741              & 46207247              & 173                   & 173                   & ...                   & 19                    & 46203083              & A                     & 1                     & 0.4768786             & 1.00000000            & 8.196462e-05          & FPP\\_D11             & ENSG00000011478       & QPCTL                \\\\\n",
       "\t 19\\_47288150\\_C\\_A & 9.723840e-14          & -0.2695948            & 0.03621346            & 1.546057e-07          & 19                    & 47278140              & 47291851              & 173                   & 173                   & ...                   & 19                    & 47288150              & A                     & 1                     & 0.4508671             & 0.87786220            & 3.363855e-06          & FPP\\_D11             & ENSG00000105281       & SLC1A5               \\\\\n",
       "\t 19\\_47174893\\_A\\_C & 1.115403e-06          & -0.2763602            & 0.05674627            & 6.046782e-03          & 19                    & 47177532              & 47220384              & 173                   & 173                   & ...                   & 19                    & 47174893              & C                     & 1                     & 0.3757225             & 0.10474653            & 3.603838e-02          & FPP\\_D11             & ENSG00000105287       & PRKD2                \\\\\n",
       "\t 19\\_46319415\\_G\\_C & 1.191570e-06          &  0.2736772            & 0.05634656            & 7.122389e-03          & 19                    & 46318668              & 46366548              & 173                   & 173                   & ...                   & 19                    & 46319415              & C                     & 1                     & 0.3150289             & 0.16276934            & 4.109705e-02          & FPP\\_D11             & ENSG00000125755       & SYMPK                \\\\\n",
       "\\end{tabular}\n"
      ],
      "text/markdown": [
       "\n",
       "| snp_id | p_value | beta | beta_se | empirical_feature_p_value | feature_chromosome | feature_start | feature_end | n_samples | n_e_samples | ... | snp_chromosome | snp_position | assessed_allele | call_rate | maf | hwe_p | global_corr_p_value | label | ensembl_gene_id | hgnc_symbol |\n",
       "|---|---|---|---|---|---|---|---|---|---|---|---|---|---|---|---|---|---|---|---|---|\n",
       "| 21_30373541_T_C | 2.920966e-25    | -0.8525780      | 0.08210206      | 1.632719e-14    | 21              | 30376705        | 30391699        | 173             | 173             | ...             | 21              | 30373541        | C               | 1               | 0.2398844       | 0.09609073      | 1.400559e-12    | FPP_D11         | ENSG00000156253 | RWDD2B          |\n",
       "| 21_30432557_G_A | 1.495486e-48    |  0.5058675      | 0.03454695      | 1.169470e-31    | 21              | 30428126        | 30446118        | 173             | 173             | ...             | 21              | 30432557        | A               | 1               | 0.1358382       | 1.00000000      | 1.059433e-28    | FPP_D11         | ENSG00000156261 | CCT8            |\n",
       "| 19_46203083_G_A | 1.442702e-12    | -0.4016498      | 0.05673108      | 5.239484e-06    | 19              | 46195741        | 46207247        | 173             | 173             | ...             | 19              | 46203083        | A               | 1               | 0.4768786       | 1.00000000      | 8.196462e-05    | FPP_D11         | ENSG00000011478 | QPCTL           |\n",
       "| 19_47288150_C_A | 9.723840e-14    | -0.2695948      | 0.03621346      | 1.546057e-07    | 19              | 47278140        | 47291851        | 173             | 173             | ...             | 19              | 47288150        | A               | 1               | 0.4508671       | 0.87786220      | 3.363855e-06    | FPP_D11         | ENSG00000105281 | SLC1A5          |\n",
       "| 19_47174893_A_C | 1.115403e-06    | -0.2763602      | 0.05674627      | 6.046782e-03    | 19              | 47177532        | 47220384        | 173             | 173             | ...             | 19              | 47174893        | C               | 1               | 0.3757225       | 0.10474653      | 3.603838e-02    | FPP_D11         | ENSG00000105287 | PRKD2           |\n",
       "| 19_46319415_G_C | 1.191570e-06    |  0.2736772      | 0.05634656      | 7.122389e-03    | 19              | 46318668        | 46366548        | 173             | 173             | ...             | 19              | 46319415        | C               | 1               | 0.3150289       | 0.16276934      | 4.109705e-02    | FPP_D11         | ENSG00000125755 | SYMPK           |\n",
       "\n"
      ],
      "text/plain": [
       "  snp_id          p_value      beta       beta_se    empirical_feature_p_value\n",
       "1 21_30373541_T_C 2.920966e-25 -0.8525780 0.08210206 1.632719e-14             \n",
       "2 21_30432557_G_A 1.495486e-48  0.5058675 0.03454695 1.169470e-31             \n",
       "3 19_46203083_G_A 1.442702e-12 -0.4016498 0.05673108 5.239484e-06             \n",
       "4 19_47288150_C_A 9.723840e-14 -0.2695948 0.03621346 1.546057e-07             \n",
       "5 19_47174893_A_C 1.115403e-06 -0.2763602 0.05674627 6.046782e-03             \n",
       "6 19_46319415_G_C 1.191570e-06  0.2736772 0.05634656 7.122389e-03             \n",
       "  feature_chromosome feature_start feature_end n_samples n_e_samples ...\n",
       "1 21                 30376705      30391699    173       173         ...\n",
       "2 21                 30428126      30446118    173       173         ...\n",
       "3 19                 46195741      46207247    173       173         ...\n",
       "4 19                 47278140      47291851    173       173         ...\n",
       "5 19                 47177532      47220384    173       173         ...\n",
       "6 19                 46318668      46366548    173       173         ...\n",
       "  snp_chromosome snp_position assessed_allele call_rate maf       hwe_p     \n",
       "1 21             30373541     C               1         0.2398844 0.09609073\n",
       "2 21             30432557     A               1         0.1358382 1.00000000\n",
       "3 19             46203083     A               1         0.4768786 1.00000000\n",
       "4 19             47288150     A               1         0.4508671 0.87786220\n",
       "5 19             47174893     C               1         0.3757225 0.10474653\n",
       "6 19             46319415     C               1         0.3150289 0.16276934\n",
       "  global_corr_p_value label   ensembl_gene_id hgnc_symbol\n",
       "1 1.400559e-12        FPP_D11 ENSG00000156253 RWDD2B     \n",
       "2 1.059433e-28        FPP_D11 ENSG00000156261 CCT8       \n",
       "3 8.196462e-05        FPP_D11 ENSG00000011478 QPCTL      \n",
       "4 3.363855e-06        FPP_D11 ENSG00000105281 SLC1A5     \n",
       "5 3.603838e-02        FPP_D11 ENSG00000105287 PRKD2      \n",
       "6 4.109705e-02        FPP_D11 ENSG00000125755 SYMPK      "
      ]
     },
     "metadata": {},
     "output_type": "display_data"
    }
   ],
   "source": [
    "df3 = df2\n",
    "# length(unique(df3$ensembl_gene_id))\n",
    "# df3 = df3[order(df3$global_corr_p_value,df3$empirical_feature_p_value,df3$p_value),]\n",
    "# df3 = df3[-which(duplicated(df3$ensembl_gene_id)),]\n",
    "nrow(df3)\n",
    "head(df3)"
   ]
  },
  {
   "cell_type": "code",
   "execution_count": 49,
   "metadata": {},
   "outputs": [],
   "source": [
    "df3$index = 1\n",
    "df3$index[df3$label == 'P_FPP_D11'] = 2 \n",
    "df3$index[df3$label == 'FPP_D30'] = 3 \n",
    "df3$index[df3$label == 'DA_D30'] = 4 \n",
    "df3$index[df3$label == 'Sert_D30'] = 5 \n",
    "df3$index[df3$label == 'Epen1_D30'] = 6\n",
    "df3$index[df3$label == 'DA_D52'] = 7\n",
    "df3$index[df3$label == 'Sert_D52'] = 8 \n",
    "df3$index[df3$label == 'Epen1_D52'] = 9\n",
    "df3$index[df3$label == 'Astro_D52'] = 10\n",
    "df3$index[df3$label == 'DA_D52_ROT'] = 11\n",
    "df3$index[df3$label == 'Sert_D52_ROT'] = 12 \n",
    "df3$index[df3$label == 'Epen1_D52_ROT'] = 13\n",
    "df3$index[df3$label == 'Astro_D52_ROT'] = 14"
   ]
  },
  {
   "cell_type": "code",
   "execution_count": 50,
   "metadata": {
    "scrolled": true
   },
   "outputs": [
    {
     "data": {
      "text/html": [
       "<table>\n",
       "<thead><tr><th scope=col>hgnc_symbol</th><th scope=col>label</th><th scope=col>p_value</th><th scope=col>global_corr_p_value</th></tr></thead>\n",
       "<tbody>\n",
       "\t<tr><td>RWDD2B      </td><td>FPP_D11     </td><td>2.920966e-25</td><td>1.400559e-12</td></tr>\n",
       "\t<tr><td>CCT8        </td><td>FPP_D11     </td><td>1.495486e-48</td><td>1.059433e-28</td></tr>\n",
       "\t<tr><td>QPCTL       </td><td>FPP_D11     </td><td>1.442702e-12</td><td>8.196462e-05</td></tr>\n",
       "\t<tr><td>SLC1A5      </td><td>FPP_D11     </td><td>9.723840e-14</td><td>3.363855e-06</td></tr>\n",
       "\t<tr><td>PRKD2       </td><td>FPP_D11     </td><td>1.115403e-06</td><td>3.603838e-02</td></tr>\n",
       "\t<tr><td>SYMPK       </td><td>FPP_D11     </td><td>1.191570e-06</td><td>4.109705e-02</td></tr>\n",
       "</tbody>\n",
       "</table>\n"
      ],
      "text/latex": [
       "\\begin{tabular}{r|llll}\n",
       " hgnc\\_symbol & label & p\\_value & global\\_corr\\_p\\_value\\\\\n",
       "\\hline\n",
       "\t RWDD2B       & FPP\\_D11    & 2.920966e-25 & 1.400559e-12\\\\\n",
       "\t CCT8         & FPP\\_D11    & 1.495486e-48 & 1.059433e-28\\\\\n",
       "\t QPCTL        & FPP\\_D11    & 1.442702e-12 & 8.196462e-05\\\\\n",
       "\t SLC1A5       & FPP\\_D11    & 9.723840e-14 & 3.363855e-06\\\\\n",
       "\t PRKD2        & FPP\\_D11    & 1.115403e-06 & 3.603838e-02\\\\\n",
       "\t SYMPK        & FPP\\_D11    & 1.191570e-06 & 4.109705e-02\\\\\n",
       "\\end{tabular}\n"
      ],
      "text/markdown": [
       "\n",
       "| hgnc_symbol | label | p_value | global_corr_p_value |\n",
       "|---|---|---|---|\n",
       "| RWDD2B       | FPP_D11      | 2.920966e-25 | 1.400559e-12 |\n",
       "| CCT8         | FPP_D11      | 1.495486e-48 | 1.059433e-28 |\n",
       "| QPCTL        | FPP_D11      | 1.442702e-12 | 8.196462e-05 |\n",
       "| SLC1A5       | FPP_D11      | 9.723840e-14 | 3.363855e-06 |\n",
       "| PRKD2        | FPP_D11      | 1.115403e-06 | 3.603838e-02 |\n",
       "| SYMPK        | FPP_D11      | 1.191570e-06 | 4.109705e-02 |\n",
       "\n"
      ],
      "text/plain": [
       "  hgnc_symbol label   p_value      global_corr_p_value\n",
       "1 RWDD2B      FPP_D11 2.920966e-25 1.400559e-12       \n",
       "2 CCT8        FPP_D11 1.495486e-48 1.059433e-28       \n",
       "3 QPCTL       FPP_D11 1.442702e-12 8.196462e-05       \n",
       "4 SLC1A5      FPP_D11 9.723840e-14 3.363855e-06       \n",
       "5 PRKD2       FPP_D11 1.115403e-06 3.603838e-02       \n",
       "6 SYMPK       FPP_D11 1.191570e-06 4.109705e-02       "
      ]
     },
     "metadata": {},
     "output_type": "display_data"
    }
   ],
   "source": [
    "df3 = df3[order(df3$index),]\n",
    "df3 = df3[,c(\"hgnc_symbol\",\"label\",\"p_value\",\"global_corr_p_value\")]\n",
    "head(df3)"
   ]
  },
  {
   "cell_type": "code",
   "execution_count": 51,
   "metadata": {},
   "outputs": [
    {
     "data": {
      "text/html": [
       "9956"
      ],
      "text/latex": [
       "9956"
      ],
      "text/markdown": [
       "9956"
      ],
      "text/plain": [
       "[1] 9956"
      ]
     },
     "metadata": {},
     "output_type": "display_data"
    }
   ],
   "source": [
    "nrow(df3)"
   ]
  },
  {
   "cell_type": "code",
   "execution_count": 52,
   "metadata": {},
   "outputs": [],
   "source": [
    "my_dir = \"/hps/nobackup/stegle/users/acuomo/all_scripts/sc_neuroseq/eqtl/\"\n",
    "filename = paste0(my_dir,\"all_eGenes_duplicates_across_celltypes_fdr0.05.csv\")\n",
    "write.csv(df3,filename, quote = F, row.names = F)"
   ]
  },
  {
   "cell_type": "code",
   "execution_count": 46,
   "metadata": {},
   "outputs": [],
   "source": [
    "my_dir = \"/hps/nobackup/stegle/users/acuomo/all_scripts/sc_neuroseq/eqtl/\"\n",
    "filename = paste0(my_dir,\"all_eGenes_fdr0.05.csv\")\n",
    "write.csv(df3,filename, quote = F, row.names = F)"
   ]
  },
  {
   "cell_type": "code",
   "execution_count": null,
   "metadata": {},
   "outputs": [],
   "source": []
  }
 ],
 "metadata": {
  "kernelspec": {
   "display_name": "R",
   "language": "R",
   "name": "ir"
  },
  "language_info": {
   "codemirror_mode": "r",
   "file_extension": ".r",
   "mimetype": "text/x-r-source",
   "name": "R",
   "pygments_lexer": "r",
   "version": "3.6.1"
  }
 },
 "nbformat": 4,
 "nbformat_minor": 4
}
