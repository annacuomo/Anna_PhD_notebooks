{
 "cells": [
  {
   "cell_type": "code",
   "execution_count": 8,
   "metadata": {},
   "outputs": [
    {
     "data": {
      "text/html": [
       "<table>\n",
       "<thead><tr><th scope=col>feature_id</th><th scope=col>chromosome</th><th scope=col>start</th><th scope=col>end</th><th scope=col>hgnc_symbol</th><th scope=col>combined_feature_id</th><th scope=col>ensembl_gene_id</th></tr></thead>\n",
       "<tbody>\n",
       "\t<tr><td>ENSG00000000003       </td><td>X                     </td><td>99883667              </td><td>99894988              </td><td>TSPAN6                </td><td>ENSG00000000003_TSPAN6</td><td>ENSG00000000003       </td></tr>\n",
       "\t<tr><td>ENSG00000000419       </td><td>20                    </td><td>49551404              </td><td>49575092              </td><td>DPM1                  </td><td>ENSG00000000419_DPM1  </td><td>ENSG00000000419       </td></tr>\n",
       "</tbody>\n",
       "</table>\n"
      ],
      "text/latex": [
       "\\begin{tabular}{r|lllllll}\n",
       " feature\\_id & chromosome & start & end & hgnc\\_symbol & combined\\_feature\\_id & ensembl\\_gene\\_id\\\\\n",
       "\\hline\n",
       "\t ENSG00000000003          & X                        & 99883667                 & 99894988                 & TSPAN6                   & ENSG00000000003\\_TSPAN6 & ENSG00000000003         \\\\\n",
       "\t ENSG00000000419          & 20                       & 49551404                 & 49575092                 & DPM1                     & ENSG00000000419\\_DPM1   & ENSG00000000419         \\\\\n",
       "\\end{tabular}\n"
      ],
      "text/markdown": [
       "\n",
       "| feature_id | chromosome | start | end | hgnc_symbol | combined_feature_id | ensembl_gene_id |\n",
       "|---|---|---|---|---|---|---|\n",
       "| ENSG00000000003        | X                      | 99883667               | 99894988               | TSPAN6                 | ENSG00000000003_TSPAN6 | ENSG00000000003        |\n",
       "| ENSG00000000419        | 20                     | 49551404               | 49575092               | DPM1                   | ENSG00000000419_DPM1   | ENSG00000000419        |\n",
       "\n"
      ],
      "text/plain": [
       "  feature_id      chromosome start    end      hgnc_symbol\n",
       "1 ENSG00000000003 X          99883667 99894988 TSPAN6     \n",
       "2 ENSG00000000419 20         49551404 49575092 DPM1       \n",
       "  combined_feature_id    ensembl_gene_id\n",
       "1 ENSG00000000003_TSPAN6 ENSG00000000003\n",
       "2 ENSG00000000419_DPM1   ENSG00000000419"
      ]
     },
     "metadata": {},
     "output_type": "display_data"
    }
   ],
   "source": [
    "### annotation file (map genes IDs)\n",
    "annos_file = \"/hps/nobackup/hipsci/scratch/singlecell_endodiff/data_processed/scQTLs/annos/combined_feature_id_annos.tsv\"\n",
    "annos = read.csv(annos_file,sep=\"\\t\")\n",
    "# head(annos,2)\n",
    "annos$feature_id = annos$ensembl_gene_id\n",
    "head(annos,2)"
   ]
  },
  {
   "cell_type": "code",
   "execution_count": 9,
   "metadata": {},
   "outputs": [],
   "source": [
    "genes = c(\"CUL7\",\"SNCA\",\"FGFR1\",\"GIT2\",\"NRP2\",\"SFXN5\")"
   ]
  },
  {
   "cell_type": "code",
   "execution_count": 10,
   "metadata": {},
   "outputs": [
    {
     "data": {
      "text/html": [
       "<table>\n",
       "<thead><tr><th></th><th scope=col>feature_id</th><th scope=col>chromosome</th><th scope=col>start</th><th scope=col>end</th><th scope=col>hgnc_symbol</th><th scope=col>combined_feature_id</th><th scope=col>ensembl_gene_id</th></tr></thead>\n",
       "<tbody>\n",
       "\t<tr><th scope=row>414</th><td>ENSG00000044090      </td><td>6                    </td><td> 43005355            </td><td> 43021683            </td><td>CUL7                 </td><td>ENSG00000044090_CUL7 </td><td>ENSG00000044090      </td></tr>\n",
       "\t<tr><th scope=row>1012</th><td>ENSG00000077782      </td><td>8                    </td><td> 38268656            </td><td> 38326352            </td><td>FGFR1                </td><td>ENSG00000077782_FGFR1</td><td>ENSG00000077782      </td></tr>\n",
       "\t<tr><th scope=row>3461</th><td>ENSG00000118257      </td><td>2                    </td><td>206546714            </td><td>206662857            </td><td>NRP2                 </td><td>ENSG00000118257_NRP2 </td><td>ENSG00000118257      </td></tr>\n",
       "\t<tr><th scope=row>5477</th><td>ENSG00000139436      </td><td>12                   </td><td>110367607            </td><td>110434194            </td><td>GIT2                 </td><td>ENSG00000139436_GIT2 </td><td>ENSG00000139436      </td></tr>\n",
       "\t<tr><th scope=row>5939</th><td>ENSG00000144040      </td><td>2                    </td><td> 73169165            </td><td> 73302747            </td><td>SFXN5                </td><td>ENSG00000144040_SFXN5</td><td>ENSG00000144040      </td></tr>\n",
       "\t<tr><th scope=row>6050</th><td>ENSG00000145335      </td><td>4                    </td><td> 90645250            </td><td> 90759466            </td><td>SNCA                 </td><td>ENSG00000145335_SNCA </td><td>ENSG00000145335      </td></tr>\n",
       "</tbody>\n",
       "</table>\n"
      ],
      "text/latex": [
       "\\begin{tabular}{r|lllllll}\n",
       "  & feature\\_id & chromosome & start & end & hgnc\\_symbol & combined\\_feature\\_id & ensembl\\_gene\\_id\\\\\n",
       "\\hline\n",
       "\t414 & ENSG00000044090         & 6                       &  43005355               &  43021683               & CUL7                    & ENSG00000044090\\_CUL7  & ENSG00000044090        \\\\\n",
       "\t1012 & ENSG00000077782         & 8                       &  38268656               &  38326352               & FGFR1                   & ENSG00000077782\\_FGFR1 & ENSG00000077782        \\\\\n",
       "\t3461 & ENSG00000118257         & 2                       & 206546714               & 206662857               & NRP2                    & ENSG00000118257\\_NRP2  & ENSG00000118257        \\\\\n",
       "\t5477 & ENSG00000139436         & 12                      & 110367607               & 110434194               & GIT2                    & ENSG00000139436\\_GIT2  & ENSG00000139436        \\\\\n",
       "\t5939 & ENSG00000144040         & 2                       &  73169165               &  73302747               & SFXN5                   & ENSG00000144040\\_SFXN5 & ENSG00000144040        \\\\\n",
       "\t6050 & ENSG00000145335         & 4                       &  90645250               &  90759466               & SNCA                    & ENSG00000145335\\_SNCA  & ENSG00000145335        \\\\\n",
       "\\end{tabular}\n"
      ],
      "text/markdown": [
       "\n",
       "| <!--/--> | feature_id | chromosome | start | end | hgnc_symbol | combined_feature_id | ensembl_gene_id |\n",
       "|---|---|---|---|---|---|---|---|\n",
       "| 414 | ENSG00000044090       | 6                     |  43005355             |  43021683             | CUL7                  | ENSG00000044090_CUL7  | ENSG00000044090       |\n",
       "| 1012 | ENSG00000077782       | 8                     |  38268656             |  38326352             | FGFR1                 | ENSG00000077782_FGFR1 | ENSG00000077782       |\n",
       "| 3461 | ENSG00000118257       | 2                     | 206546714             | 206662857             | NRP2                  | ENSG00000118257_NRP2  | ENSG00000118257       |\n",
       "| 5477 | ENSG00000139436       | 12                    | 110367607             | 110434194             | GIT2                  | ENSG00000139436_GIT2  | ENSG00000139436       |\n",
       "| 5939 | ENSG00000144040       | 2                     |  73169165             |  73302747             | SFXN5                 | ENSG00000144040_SFXN5 | ENSG00000144040       |\n",
       "| 6050 | ENSG00000145335       | 4                     |  90645250             |  90759466             | SNCA                  | ENSG00000145335_SNCA  | ENSG00000145335       |\n",
       "\n"
      ],
      "text/plain": [
       "     feature_id      chromosome start     end       hgnc_symbol\n",
       "414  ENSG00000044090 6           43005355  43021683 CUL7       \n",
       "1012 ENSG00000077782 8           38268656  38326352 FGFR1      \n",
       "3461 ENSG00000118257 2          206546714 206662857 NRP2       \n",
       "5477 ENSG00000139436 12         110367607 110434194 GIT2       \n",
       "5939 ENSG00000144040 2           73169165  73302747 SFXN5      \n",
       "6050 ENSG00000145335 4           90645250  90759466 SNCA       \n",
       "     combined_feature_id   ensembl_gene_id\n",
       "414  ENSG00000044090_CUL7  ENSG00000044090\n",
       "1012 ENSG00000077782_FGFR1 ENSG00000077782\n",
       "3461 ENSG00000118257_NRP2  ENSG00000118257\n",
       "5477 ENSG00000139436_GIT2  ENSG00000139436\n",
       "5939 ENSG00000144040_SFXN5 ENSG00000144040\n",
       "6050 ENSG00000145335_SNCA  ENSG00000145335"
      ]
     },
     "metadata": {},
     "output_type": "display_data"
    }
   ],
   "source": [
    "annos[annos$hgnc_symbol %in% genes,]\n",
    "myfile = annos[annos$hgnc_symbol %in% genes,]"
   ]
  },
  {
   "cell_type": "code",
   "execution_count": 11,
   "metadata": {},
   "outputs": [
    {
     "data": {
      "text/html": [
       "<table>\n",
       "<thead><tr><th scope=col>feature</th></tr></thead>\n",
       "<tbody>\n",
       "\t<tr><td>ENSG00000044090</td></tr>\n",
       "\t<tr><td>ENSG00000077782</td></tr>\n",
       "\t<tr><td>ENSG00000118257</td></tr>\n",
       "\t<tr><td>ENSG00000139436</td></tr>\n",
       "\t<tr><td>ENSG00000144040</td></tr>\n",
       "\t<tr><td>ENSG00000145335</td></tr>\n",
       "</tbody>\n",
       "</table>\n"
      ],
      "text/latex": [
       "\\begin{tabular}{r|l}\n",
       " feature\\\\\n",
       "\\hline\n",
       "\t ENSG00000044090\\\\\n",
       "\t ENSG00000077782\\\\\n",
       "\t ENSG00000118257\\\\\n",
       "\t ENSG00000139436\\\\\n",
       "\t ENSG00000144040\\\\\n",
       "\t ENSG00000145335\\\\\n",
       "\\end{tabular}\n"
      ],
      "text/markdown": [
       "\n",
       "| feature |\n",
       "|---|\n",
       "| ENSG00000044090 |\n",
       "| ENSG00000077782 |\n",
       "| ENSG00000118257 |\n",
       "| ENSG00000139436 |\n",
       "| ENSG00000144040 |\n",
       "| ENSG00000145335 |\n",
       "\n"
      ],
      "text/plain": [
       "  feature        \n",
       "1 ENSG00000044090\n",
       "2 ENSG00000077782\n",
       "3 ENSG00000118257\n",
       "4 ENSG00000139436\n",
       "5 ENSG00000144040\n",
       "6 ENSG00000145335"
      ]
     },
     "metadata": {},
     "output_type": "display_data"
    }
   ],
   "source": [
    "df = data.frame(feature = myfile$ensembl_gene_id)\n",
    "head(df)"
   ]
  },
  {
   "cell_type": "code",
   "execution_count": 12,
   "metadata": {},
   "outputs": [],
   "source": [
    "mydir = \"/hps/nobackup/stegle/users/acuomo/all_scripts/sc_neuroseq/eqtl/rerun_coloc_examples_larger_window/\"\n",
    "ff_filename = paste0(mydir, \"feature_filter_file_6coloc_examples.tsv\")\n",
    "write.table(df, ff_filename, sep = \"\\t\", quote = F, row.names = F, col.names = T)"
   ]
  },
  {
   "cell_type": "code",
   "execution_count": null,
   "metadata": {},
   "outputs": [],
   "source": [
    "/hps/nobackup/stegle/users/acuomo/all_scripts/sc_neuroseq/eqtl/rerun_coloc_examples_larger_window/feature_filter_file_6coloc_examples.tsv"
   ]
  },
  {
   "cell_type": "code",
   "execution_count": null,
   "metadata": {},
   "outputs": [],
   "source": []
  }
 ],
 "metadata": {
  "kernelspec": {
   "display_name": "R",
   "language": "R",
   "name": "ir"
  },
  "language_info": {
   "codemirror_mode": "r",
   "file_extension": ".r",
   "mimetype": "text/x-r-source",
   "name": "R",
   "pygments_lexer": "r",
   "version": "3.6.1"
  }
 },
 "nbformat": 4,
 "nbformat_minor": 4
}
