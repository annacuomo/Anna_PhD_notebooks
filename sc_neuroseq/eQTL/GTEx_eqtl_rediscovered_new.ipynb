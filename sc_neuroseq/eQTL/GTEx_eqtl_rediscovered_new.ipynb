{
 "cells": [
  {
   "cell_type": "code",
   "execution_count": 1,
   "metadata": {},
   "outputs": [
    {
     "data": {
      "text/html": [
       "<ol class=list-inline>\n",
       "\t<li>'Adipose_Subcutaneous.v7.egenes.txt'</li>\n",
       "\t<li>'Adipose_Visceral_Omentum.v7.egenes.txt'</li>\n",
       "\t<li>'Adrenal_Gland.v7.egenes.txt'</li>\n",
       "\t<li>'Artery_Aorta.v7.egenes.txt'</li>\n",
       "\t<li>'Artery_Coronary.v7.egenes.txt'</li>\n",
       "\t<li>'Artery_Tibial.v7.egenes.txt'</li>\n",
       "</ol>\n"
      ],
      "text/latex": [
       "\\begin{enumerate*}\n",
       "\\item 'Adipose\\_Subcutaneous.v7.egenes.txt'\n",
       "\\item 'Adipose\\_Visceral\\_Omentum.v7.egenes.txt'\n",
       "\\item 'Adrenal\\_Gland.v7.egenes.txt'\n",
       "\\item 'Artery\\_Aorta.v7.egenes.txt'\n",
       "\\item 'Artery\\_Coronary.v7.egenes.txt'\n",
       "\\item 'Artery\\_Tibial.v7.egenes.txt'\n",
       "\\end{enumerate*}\n"
      ],
      "text/markdown": [
       "1. 'Adipose_Subcutaneous.v7.egenes.txt'\n",
       "2. 'Adipose_Visceral_Omentum.v7.egenes.txt'\n",
       "3. 'Adrenal_Gland.v7.egenes.txt'\n",
       "4. 'Artery_Aorta.v7.egenes.txt'\n",
       "5. 'Artery_Coronary.v7.egenes.txt'\n",
       "6. 'Artery_Tibial.v7.egenes.txt'\n",
       "\n",
       "\n"
      ],
      "text/plain": [
       "[1] \"Adipose_Subcutaneous.v7.egenes.txt\"    \n",
       "[2] \"Adipose_Visceral_Omentum.v7.egenes.txt\"\n",
       "[3] \"Adrenal_Gland.v7.egenes.txt\"           \n",
       "[4] \"Artery_Aorta.v7.egenes.txt\"            \n",
       "[5] \"Artery_Coronary.v7.egenes.txt\"         \n",
       "[6] \"Artery_Tibial.v7.egenes.txt\"           "
      ]
     },
     "metadata": {},
     "output_type": "display_data"
    }
   ],
   "source": [
    "gtex_folder = \"/hps/nobackup/hipsci/scratch/GTEx/GTEx_Analysis_v7_eQTL/\"\n",
    "head(list.files(gtex_folder,\".egenes.txt\"))"
   ]
  },
  {
   "cell_type": "code",
   "execution_count": 2,
   "metadata": {},
   "outputs": [
    {
     "data": {
      "text/html": [
       "48"
      ],
      "text/latex": [
       "48"
      ],
      "text/markdown": [
       "48"
      ],
      "text/plain": [
       "[1] 48"
      ]
     },
     "metadata": {},
     "output_type": "display_data"
    },
    {
     "data": {
      "text/html": [
       "<ol class=list-inline>\n",
       "\t<li>'/hps/nobackup/hipsci/scratch/GTEx/GTEx_Analysis_v7_eQTL/Adipose_Subcutaneous.v7.egenes.txt'</li>\n",
       "\t<li>'/hps/nobackup/hipsci/scratch/GTEx/GTEx_Analysis_v7_eQTL/Adipose_Visceral_Omentum.v7.egenes.txt'</li>\n",
       "</ol>\n"
      ],
      "text/latex": [
       "\\begin{enumerate*}\n",
       "\\item '/hps/nobackup/hipsci/scratch/GTEx/GTEx\\_Analysis\\_v7\\_eQTL/Adipose\\_Subcutaneous.v7.egenes.txt'\n",
       "\\item '/hps/nobackup/hipsci/scratch/GTEx/GTEx\\_Analysis\\_v7\\_eQTL/Adipose\\_Visceral\\_Omentum.v7.egenes.txt'\n",
       "\\end{enumerate*}\n"
      ],
      "text/markdown": [
       "1. '/hps/nobackup/hipsci/scratch/GTEx/GTEx_Analysis_v7_eQTL/Adipose_Subcutaneous.v7.egenes.txt'\n",
       "2. '/hps/nobackup/hipsci/scratch/GTEx/GTEx_Analysis_v7_eQTL/Adipose_Visceral_Omentum.v7.egenes.txt'\n",
       "\n",
       "\n"
      ],
      "text/plain": [
       "[1] \"/hps/nobackup/hipsci/scratch/GTEx/GTEx_Analysis_v7_eQTL/Adipose_Subcutaneous.v7.egenes.txt\"    \n",
       "[2] \"/hps/nobackup/hipsci/scratch/GTEx/GTEx_Analysis_v7_eQTL/Adipose_Visceral_Omentum.v7.egenes.txt\""
      ]
     },
     "metadata": {},
     "output_type": "display_data"
    }
   ],
   "source": [
    "files = paste0(gtex_folder, list.files(gtex_folder,\".egenes.txt\"))\n",
    "length(files)\n",
    "head(files,2)"
   ]
  },
  {
   "cell_type": "code",
   "execution_count": 3,
   "metadata": {},
   "outputs": [
    {
     "data": {
      "text/html": [
       "<ol class=list-inline>\n",
       "\t<li>'/hps/nobackup/hipsci/scratch/GTEx/GTEx_Analysis_v7_eQTL/Brain_Amygdala.v7.egenes.txt'</li>\n",
       "\t<li>'/hps/nobackup/hipsci/scratch/GTEx/GTEx_Analysis_v7_eQTL/Brain_Anterior_cingulate_cortex_BA24.v7.egenes.txt'</li>\n",
       "</ol>\n"
      ],
      "text/latex": [
       "\\begin{enumerate*}\n",
       "\\item '/hps/nobackup/hipsci/scratch/GTEx/GTEx\\_Analysis\\_v7\\_eQTL/Brain\\_Amygdala.v7.egenes.txt'\n",
       "\\item '/hps/nobackup/hipsci/scratch/GTEx/GTEx\\_Analysis\\_v7\\_eQTL/Brain\\_Anterior\\_cingulate\\_cortex\\_BA24.v7.egenes.txt'\n",
       "\\end{enumerate*}\n"
      ],
      "text/markdown": [
       "1. '/hps/nobackup/hipsci/scratch/GTEx/GTEx_Analysis_v7_eQTL/Brain_Amygdala.v7.egenes.txt'\n",
       "2. '/hps/nobackup/hipsci/scratch/GTEx/GTEx_Analysis_v7_eQTL/Brain_Anterior_cingulate_cortex_BA24.v7.egenes.txt'\n",
       "\n",
       "\n"
      ],
      "text/plain": [
       "[1] \"/hps/nobackup/hipsci/scratch/GTEx/GTEx_Analysis_v7_eQTL/Brain_Amygdala.v7.egenes.txt\"                      \n",
       "[2] \"/hps/nobackup/hipsci/scratch/GTEx/GTEx_Analysis_v7_eQTL/Brain_Anterior_cingulate_cortex_BA24.v7.egenes.txt\""
      ]
     },
     "metadata": {},
     "output_type": "display_data"
    },
    {
     "data": {
      "text/html": [
       "13"
      ],
      "text/latex": [
       "13"
      ],
      "text/markdown": [
       "13"
      ],
      "text/plain": [
       "[1] 13"
      ]
     },
     "metadata": {},
     "output_type": "display_data"
    },
    {
     "data": {
      "text/html": [
       "<ol class=list-inline>\n",
       "\t<li>'/hps/nobackup/hipsci/scratch/GTEx/GTEx_Analysis_v7_eQTL/Adipose_Subcutaneous.v7.egenes.txt'</li>\n",
       "\t<li>'/hps/nobackup/hipsci/scratch/GTEx/GTEx_Analysis_v7_eQTL/Adipose_Visceral_Omentum.v7.egenes.txt'</li>\n",
       "</ol>\n"
      ],
      "text/latex": [
       "\\begin{enumerate*}\n",
       "\\item '/hps/nobackup/hipsci/scratch/GTEx/GTEx\\_Analysis\\_v7\\_eQTL/Adipose\\_Subcutaneous.v7.egenes.txt'\n",
       "\\item '/hps/nobackup/hipsci/scratch/GTEx/GTEx\\_Analysis\\_v7\\_eQTL/Adipose\\_Visceral\\_Omentum.v7.egenes.txt'\n",
       "\\end{enumerate*}\n"
      ],
      "text/markdown": [
       "1. '/hps/nobackup/hipsci/scratch/GTEx/GTEx_Analysis_v7_eQTL/Adipose_Subcutaneous.v7.egenes.txt'\n",
       "2. '/hps/nobackup/hipsci/scratch/GTEx/GTEx_Analysis_v7_eQTL/Adipose_Visceral_Omentum.v7.egenes.txt'\n",
       "\n",
       "\n"
      ],
      "text/plain": [
       "[1] \"/hps/nobackup/hipsci/scratch/GTEx/GTEx_Analysis_v7_eQTL/Adipose_Subcutaneous.v7.egenes.txt\"    \n",
       "[2] \"/hps/nobackup/hipsci/scratch/GTEx/GTEx_Analysis_v7_eQTL/Adipose_Visceral_Omentum.v7.egenes.txt\""
      ]
     },
     "metadata": {},
     "output_type": "display_data"
    },
    {
     "data": {
      "text/html": [
       "35"
      ],
      "text/latex": [
       "35"
      ],
      "text/markdown": [
       "35"
      ],
      "text/plain": [
       "[1] 35"
      ]
     },
     "metadata": {},
     "output_type": "display_data"
    }
   ],
   "source": [
    "brain_files = files[grep(\"Brain\",files)]\n",
    "head(brain_files,2)\n",
    "length(brain_files)\n",
    "# \n",
    "non_brain_files = files[!(files %in% brain_files)]\n",
    "head(non_brain_files,2)\n",
    "length(non_brain_files)"
   ]
  },
  {
   "cell_type": "code",
   "execution_count": 4,
   "metadata": {},
   "outputs": [],
   "source": [
    "eqtls = c()\n",
    "for (file in non_brain_files){\n",
    "    df = read.csv(file, sep = \"\\t\")\n",
    "    df$feature_id = gsub(\"\\\\..*\",\"\",df$gene_id)\n",
    "    df$snp_id = gsub(\"_b37\",\"\",df$variant_id)\n",
    "    df0 = df[df$qval<0.05,]\n",
    "    df0$eqtl = paste0(df0$feature_id,\"-\",df0$snp_id)\n",
    "    eqtls = unique(c(eqtls, df0$eqtl))\n",
    "}\n",
    "eqtl_non_brain = eqtls"
   ]
  },
  {
   "cell_type": "code",
   "execution_count": null,
   "metadata": {},
   "outputs": [],
   "source": [
    "eqtls = c()\n",
    "for (file in brain_files){\n",
    "    df = read.csv(file, sep = \"\\t\")\n",
    "    df$feature_id = gsub(\"\\\\..*\",\"\",df$gene_id)\n",
    "    df$snp_id = gsub(\"_b37\",\"\",df$variant_id)\n",
    "    df0 = df[df$qval<0.05,]\n",
    "    df0$eqtl = paste0(df0$feature_id,\"-\",df0$snp_id)\n",
    "    eqtls = unique(c(eqtls, df0$eqtl))\n",
    "}\n",
    "eqtl_brain = eqtls"
   ]
  },
  {
   "cell_type": "code",
   "execution_count": null,
   "metadata": {},
   "outputs": [],
   "source": [
    "length(eqtl_brain)\n",
    "length(eqtl_non_brain)"
   ]
  },
  {
   "cell_type": "code",
   "execution_count": null,
   "metadata": {},
   "outputs": [],
   "source": [
    "eqtl_brain_only = eqtl_brain[!(eqtl_brain %in% eqtl_non_brain)]\n",
    "length(eqtl_brain_only)"
   ]
  },
  {
   "cell_type": "code",
   "execution_count": null,
   "metadata": {},
   "outputs": [],
   "source": [
    "myfolder = \"/hps/nobackup/stegle/users/acuomo/all_scripts/sc_neuroseq/eqtl/all_results_nominal_significance_p_0.05/\""
   ]
  },
  {
   "cell_type": "code",
   "execution_count": null,
   "metadata": {},
   "outputs": [],
   "source": [
    "neuro_files = paste0(myfolder,list.files(myfolder))\n",
    "length(neuro_files)\n",
    "head(neuro_files,2)"
   ]
  },
  {
   "cell_type": "code",
   "execution_count": null,
   "metadata": {},
   "outputs": [],
   "source": [
    "nom_neuro_eqtls = c()\n",
    "for (file in neuro_files){\n",
    "    df = read.csv(file)\n",
    "    df$eqtl = paste0(df$feature_id,\"-\",df$snp_id)\n",
    "    nom_neuro_eqtls = unique(c(nom_neuro_eqtls, df$eqtl))\n",
    "}"
   ]
  },
  {
   "cell_type": "code",
   "execution_count": null,
   "metadata": {},
   "outputs": [],
   "source": [
    "df_d11 = read.csv(\"/hps/nobackup/stegle/users/acuomo/all_scripts/sc_neuroseq/eqtl/genes_expressed_at_d11_old.csv\")\n",
    "genes_d11 = as.character(df_d11$genes)\n",
    "length(genes_d11)\n",
    "df_d30 = read.csv(\"/hps/nobackup/stegle/users/acuomo/all_scripts/sc_neuroseq/eqtl/genes_expressed_at_d30_old.csv\")\n",
    "genes_d30 = as.character(df_d30$genes)\n",
    "length(genes_d30)\n",
    "df_d52 = read.csv(\"/hps/nobackup/stegle/users/acuomo/all_scripts/sc_neuroseq/eqtl/genes_expressed_in_at_least_one_condition_d52_old.csv\")\n",
    "genes_d52 = as.character(df_d52$genes)\n",
    "length(genes_d52)\n",
    "all_genes = unique(c(genes_d11, genes_d30, genes_d52))\n",
    "length(all_genes)"
   ]
  },
  {
   "cell_type": "code",
   "execution_count": null,
   "metadata": {},
   "outputs": [],
   "source": [
    "df_d11 = read.csv(\"/hps/nobackup/stegle/users/acuomo/all_scripts/sc_neuroseq/eqtl/genes_expressed_at_d11.csv\")\n",
    "genes_d11 = as.character(df_d11$genes)\n",
    "length(genes_d11)\n",
    "df_d30 = read.csv(\"/hps/nobackup/stegle/users/acuomo/all_scripts/sc_neuroseq/eqtl/genes_expressed_at_d30.csv\")\n",
    "genes_d30 = as.character(df_d30$genes)\n",
    "length(genes_d30)\n",
    "df_d52 = read.csv(\"/hps/nobackup/stegle/users/acuomo/all_scripts/sc_neuroseq/eqtl/genes_expressed_in_at_least_one_condition_d52.csv\")\n",
    "genes_d52 = as.character(df_d52$genes)\n",
    "length(genes_d52)\n",
    "all_genes = unique(c(genes_d11, genes_d30, genes_d52))\n",
    "length(all_genes)"
   ]
  },
  {
   "cell_type": "code",
   "execution_count": null,
   "metadata": {},
   "outputs": [],
   "source": [
    "# Substantia Nigra\n",
    "sn_file = files[grep(\"nigra\",files)]\n",
    "sn_file\n",
    "\n",
    "sn = read.csv(sn_file, sep =\"\\t\")\n",
    "sn$feature_id = gsub(\"\\\\..*\",\"\",sn$gene_id)\n",
    "sn$snp_id = gsub(\"_b37\",\"\",sn$variant_id)\n",
    "sn_sign = sn[sn$qval<0.05,]\n",
    "sn_sign$eqtl = paste0(sn_sign$feature_id,\"-\",sn_sign$snp_id)\n",
    "length(sn_sign$eqtl)\n",
    "\n",
    "sn_eqtls = sn_sign$eqtl[!(sn_sign$eqtl %in% eqtl_non_brain)]\n",
    "length(sn_eqtls)\n",
    "# sn_eqtls = sn_sign$eqtl[sn_sign$eqtl %in% eqtl_brain_only]\n",
    "# length(sn_eqtls)"
   ]
  },
  {
   "cell_type": "code",
   "execution_count": 70,
   "metadata": {},
   "outputs": [
    {
     "data": {
      "text/html": [
       "1156"
      ],
      "text/latex": [
       "1156"
      ],
      "text/markdown": [
       "1156"
      ],
      "text/plain": [
       "[1] 1156"
      ]
     },
     "metadata": {},
     "output_type": "display_data"
    }
   ],
   "source": [
    "sn_egenes = unique(sn_sign[sn_sign$eqtl %in% sn_eqtls,'feature_id'])\n",
    "length(sn_egenes)"
   ]
  },
  {
   "cell_type": "code",
   "execution_count": 71,
   "metadata": {},
   "outputs": [
    {
     "data": {
      "text/html": [
       "985"
      ],
      "text/latex": [
       "985"
      ],
      "text/markdown": [
       "985"
      ],
      "text/plain": [
       "[1] 985"
      ]
     },
     "metadata": {},
     "output_type": "display_data"
    },
    {
     "data": {
      "text/html": [
       "666"
      ],
      "text/latex": [
       "666"
      ],
      "text/markdown": [
       "666"
      ],
      "text/plain": [
       "[1] 666"
      ]
     },
     "metadata": {},
     "output_type": "display_data"
    }
   ],
   "source": [
    "length(sn_sign$feature_id[sn_sign$feature_id %in% all_genes]) # out of 1,807 (55%)\n",
    "length(sn_egenes[sn_egenes %in% all_genes]) # out of 1,156 brain only (58%)"
   ]
  },
  {
   "cell_type": "code",
   "execution_count": 73,
   "metadata": {},
   "outputs": [
    {
     "data": {
      "text/html": [
       "562"
      ],
      "text/latex": [
       "562"
      ],
      "text/markdown": [
       "562"
      ],
      "text/plain": [
       "[1] 562"
      ]
     },
     "metadata": {},
     "output_type": "display_data"
    },
    {
     "data": {
      "text/html": [
       "319"
      ],
      "text/latex": [
       "319"
      ],
      "text/markdown": [
       "319"
      ],
      "text/plain": [
       "[1] 319"
      ]
     },
     "metadata": {},
     "output_type": "display_data"
    }
   ],
   "source": [
    "length(sn_sign$eqtl[sn_sign$eqtl %in% nom_neuro_eqtls]) # out of 985/1,807 (31%, 57%)\n",
    "length(sn_eqtls[sn_eqtls %in% nom_neuro_eqtls]) # out of 666/1,156 (28%, 48%)"
   ]
  },
  {
   "cell_type": "code",
   "execution_count": 9,
   "metadata": {},
   "outputs": [
    {
     "data": {
      "image/png": "[encoded data removed]",
      "text/plain": [
       "plot without title"
      ]
     },
     "metadata": {},
     "output_type": "display_data"
    }
   ],
   "source": [
    "options(repr.plot.width = 2, repr.plot.height = 4)\n",
    "# barplot(c(562,985,1807), col = c(\"darkblue\",\"cornflowerblue\",\"white\"))\n",
    "barplot(c(1807), col = c(\"white\"))\n",
    "barplot(c(985), col = c(\"cornflowerblue\"), add = T)\n",
    "barplot(c(562), col = c(\"darkblue\"), add = T)"
   ]
  },
  {
   "cell_type": "code",
   "execution_count": 86,
   "metadata": {},
   "outputs": [
    {
     "data": {
      "text/html": [
       "'/hps/nobackup/hipsci/scratch/GTEx/GTEx_Analysis_v7_eQTL/Brain_Cerebellum.v7.egenes.txt'"
      ],
      "text/latex": [
       "'/hps/nobackup/hipsci/scratch/GTEx/GTEx\\_Analysis\\_v7\\_eQTL/Brain\\_Cerebellum.v7.egenes.txt'"
      ],
      "text/markdown": [
       "'/hps/nobackup/hipsci/scratch/GTEx/GTEx_Analysis_v7_eQTL/Brain_Cerebellum.v7.egenes.txt'"
      ],
      "text/plain": [
       "[1] \"/hps/nobackup/hipsci/scratch/GTEx/GTEx_Analysis_v7_eQTL/Brain_Cerebellum.v7.egenes.txt\""
      ]
     },
     "metadata": {},
     "output_type": "display_data"
    },
    {
     "data": {
      "text/html": [
       "8429"
      ],
      "text/latex": [
       "8429"
      ],
      "text/markdown": [
       "8429"
      ],
      "text/plain": [
       "[1] 8429"
      ]
     },
     "metadata": {},
     "output_type": "display_data"
    }
   ],
   "source": [
    "# Cerebellum\n",
    "cb_file = files[grep(\"erebellu\",files)]\n",
    "cb_file\n",
    "\n",
    "cb = read.csv(cb_file, sep =\"\\t\")\n",
    "cb$feature_id = gsub(\"\\\\..*\",\"\",cb$gene_id)\n",
    "cb$snp_id = gsub(\"_b37\",\"\",cb$variant_id)\n",
    "cb_sign = cb[cb$qval<0.05,]\n",
    "cb_sign$eqtl= paste0(cb_sign$feature_id,\"-\",cb_sign$snp_id)\n",
    "length(unique(cb_sign$eqtl))"
   ]
  },
  {
   "cell_type": "code",
   "execution_count": 87,
   "metadata": {},
   "outputs": [
    {
     "data": {
      "text/html": [
       "6075"
      ],
      "text/latex": [
       "6075"
      ],
      "text/markdown": [
       "6075"
      ],
      "text/plain": [
       "[1] 6075"
      ]
     },
     "metadata": {},
     "output_type": "display_data"
    },
    {
     "data": {
      "text/html": [
       "6075"
      ],
      "text/latex": [
       "6075"
      ],
      "text/markdown": [
       "6075"
      ],
      "text/plain": [
       "[1] 6075"
      ]
     },
     "metadata": {},
     "output_type": "display_data"
    }
   ],
   "source": [
    "cb_eqtls = sn_sign$eqtl[!(cb_sign$eqtl %in% eqtl_non_brain)]\n",
    "length(cb_eqtls)\n",
    "cb_eqtls = cb_sign$eqtl[cb_sign$eqtl %in% eqtl_brain_only]\n",
    "length(cb_eqtls)"
   ]
  },
  {
   "cell_type": "code",
   "execution_count": 88,
   "metadata": {},
   "outputs": [
    {
     "data": {
      "text/html": [
       "6075"
      ],
      "text/latex": [
       "6075"
      ],
      "text/markdown": [
       "6075"
      ],
      "text/plain": [
       "[1] 6075"
      ]
     },
     "metadata": {},
     "output_type": "display_data"
    }
   ],
   "source": [
    "cb_egenes = unique(cb_sign[cb_sign$eqtl %in% cb_eqtls,'feature_id'])\n",
    "length(cb_egenes)"
   ]
  },
  {
   "cell_type": "code",
   "execution_count": 89,
   "metadata": {},
   "outputs": [
    {
     "data": {
      "text/html": [
       "5204"
      ],
      "text/latex": [
       "5204"
      ],
      "text/markdown": [
       "5204"
      ],
      "text/plain": [
       "[1] 5204"
      ]
     },
     "metadata": {},
     "output_type": "display_data"
    },
    {
     "data": {
      "text/html": [
       "3810"
      ],
      "text/latex": [
       "3810"
      ],
      "text/markdown": [
       "3810"
      ],
      "text/plain": [
       "[1] 3810"
      ]
     },
     "metadata": {},
     "output_type": "display_data"
    }
   ],
   "source": [
    "length(cb_sign$feature_id[cb_sign$feature_id %in% all_genes]) # out of 8,429 (62%)\n",
    "length(cb_egenes[cb_egenes %in% all_genes]) # out of 6,075 brain only (63%)"
   ]
  },
  {
   "cell_type": "code",
   "execution_count": 90,
   "metadata": {},
   "outputs": [
    {
     "data": {
      "text/html": [
       "3071"
      ],
      "text/latex": [
       "3071"
      ],
      "text/markdown": [
       "3071"
      ],
      "text/plain": [
       "[1] 3071"
      ]
     },
     "metadata": {},
     "output_type": "display_data"
    },
    {
     "data": {
      "text/html": [
       "2071"
      ],
      "text/latex": [
       "2071"
      ],
      "text/markdown": [
       "2071"
      ],
      "text/plain": [
       "[1] 2071"
      ]
     },
     "metadata": {},
     "output_type": "display_data"
    }
   ],
   "source": [
    "length(cb_sign$eqtl[cb_sign$eqtl %in% nom_neuro_eqtls]) # out of 5,204/8,429 (36%, 59%)\n",
    "length(cb_eqtls[cb_eqtls %in% nom_neuro_eqtls]) # out of 3,810/6,075 (34, 54%)"
   ]
  },
  {
   "cell_type": "code",
   "execution_count": 10,
   "metadata": {},
   "outputs": [
    {
     "data": {
      "image/png": "[encoded data removed]",
      "text/plain": [
       "plot without title"
      ]
     },
     "metadata": {},
     "output_type": "display_data"
    }
   ],
   "source": [
    "options(repr.plot.width = 2, repr.plot.height = 4)\n",
    "# barplot(c(562,985,1807), col = c(\"darkblue\",\"cornflowerblue\",\"white\"))\n",
    "barplot(c(8429), col = c(\"white\"))\n",
    "barplot(c(5204), col = c(\"coral\"), add = T)\n",
    "barplot(c(3071), col = c(\"firebrick\"), add = T)"
   ]
  },
  {
   "cell_type": "code",
   "execution_count": 79,
   "metadata": {},
   "outputs": [
    {
     "data": {
      "text/html": [
       "<ol class=list-inline>\n",
       "\t<li>'/hps/nobackup/hipsci/scratch/GTEx/GTEx_Analysis_v7_eQTL/Brain_Amygdala.v7.egenes.txt'</li>\n",
       "\t<li>'/hps/nobackup/hipsci/scratch/GTEx/GTEx_Analysis_v7_eQTL/Brain_Anterior_cingulate_cortex_BA24.v7.egenes.txt'</li>\n",
       "\t<li>'/hps/nobackup/hipsci/scratch/GTEx/GTEx_Analysis_v7_eQTL/Brain_Caudate_basal_ganglia.v7.egenes.txt'</li>\n",
       "\t<li>'/hps/nobackup/hipsci/scratch/GTEx/GTEx_Analysis_v7_eQTL/Brain_Cerebellar_Hemisphere.v7.egenes.txt'</li>\n",
       "\t<li>'/hps/nobackup/hipsci/scratch/GTEx/GTEx_Analysis_v7_eQTL/Brain_Cerebellum.v7.egenes.txt'</li>\n",
       "\t<li>'/hps/nobackup/hipsci/scratch/GTEx/GTEx_Analysis_v7_eQTL/Brain_Cortex.v7.egenes.txt'</li>\n",
       "\t<li>'/hps/nobackup/hipsci/scratch/GTEx/GTEx_Analysis_v7_eQTL/Brain_Frontal_Cortex_BA9.v7.egenes.txt'</li>\n",
       "\t<li>'/hps/nobackup/hipsci/scratch/GTEx/GTEx_Analysis_v7_eQTL/Brain_Hippocampus.v7.egenes.txt'</li>\n",
       "\t<li>'/hps/nobackup/hipsci/scratch/GTEx/GTEx_Analysis_v7_eQTL/Brain_Hypothalamus.v7.egenes.txt'</li>\n",
       "\t<li>'/hps/nobackup/hipsci/scratch/GTEx/GTEx_Analysis_v7_eQTL/Brain_Nucleus_accumbens_basal_ganglia.v7.egenes.txt'</li>\n",
       "\t<li>'/hps/nobackup/hipsci/scratch/GTEx/GTEx_Analysis_v7_eQTL/Brain_Putamen_basal_ganglia.v7.egenes.txt'</li>\n",
       "\t<li>'/hps/nobackup/hipsci/scratch/GTEx/GTEx_Analysis_v7_eQTL/Brain_Spinal_cord_cervical_c-1.v7.egenes.txt'</li>\n",
       "\t<li>'/hps/nobackup/hipsci/scratch/GTEx/GTEx_Analysis_v7_eQTL/Brain_Substantia_nigra.v7.egenes.txt'</li>\n",
       "</ol>\n"
      ],
      "text/latex": [
       "\\begin{enumerate*}\n",
       "\\item '/hps/nobackup/hipsci/scratch/GTEx/GTEx\\_Analysis\\_v7\\_eQTL/Brain\\_Amygdala.v7.egenes.txt'\n",
       "\\item '/hps/nobackup/hipsci/scratch/GTEx/GTEx\\_Analysis\\_v7\\_eQTL/Brain\\_Anterior\\_cingulate\\_cortex\\_BA24.v7.egenes.txt'\n",
       "\\item '/hps/nobackup/hipsci/scratch/GTEx/GTEx\\_Analysis\\_v7\\_eQTL/Brain\\_Caudate\\_basal\\_ganglia.v7.egenes.txt'\n",
       "\\item '/hps/nobackup/hipsci/scratch/GTEx/GTEx\\_Analysis\\_v7\\_eQTL/Brain\\_Cerebellar\\_Hemisphere.v7.egenes.txt'\n",
       "\\item '/hps/nobackup/hipsci/scratch/GTEx/GTEx\\_Analysis\\_v7\\_eQTL/Brain\\_Cerebellum.v7.egenes.txt'\n",
       "\\item '/hps/nobackup/hipsci/scratch/GTEx/GTEx\\_Analysis\\_v7\\_eQTL/Brain\\_Cortex.v7.egenes.txt'\n",
       "\\item '/hps/nobackup/hipsci/scratch/GTEx/GTEx\\_Analysis\\_v7\\_eQTL/Brain\\_Frontal\\_Cortex\\_BA9.v7.egenes.txt'\n",
       "\\item '/hps/nobackup/hipsci/scratch/GTEx/GTEx\\_Analysis\\_v7\\_eQTL/Brain\\_Hippocampus.v7.egenes.txt'\n",
       "\\item '/hps/nobackup/hipsci/scratch/GTEx/GTEx\\_Analysis\\_v7\\_eQTL/Brain\\_Hypothalamus.v7.egenes.txt'\n",
       "\\item '/hps/nobackup/hipsci/scratch/GTEx/GTEx\\_Analysis\\_v7\\_eQTL/Brain\\_Nucleus\\_accumbens\\_basal\\_ganglia.v7.egenes.txt'\n",
       "\\item '/hps/nobackup/hipsci/scratch/GTEx/GTEx\\_Analysis\\_v7\\_eQTL/Brain\\_Putamen\\_basal\\_ganglia.v7.egenes.txt'\n",
       "\\item '/hps/nobackup/hipsci/scratch/GTEx/GTEx\\_Analysis\\_v7\\_eQTL/Brain\\_Spinal\\_cord\\_cervical\\_c-1.v7.egenes.txt'\n",
       "\\item '/hps/nobackup/hipsci/scratch/GTEx/GTEx\\_Analysis\\_v7\\_eQTL/Brain\\_Substantia\\_nigra.v7.egenes.txt'\n",
       "\\end{enumerate*}\n"
      ],
      "text/markdown": [
       "1. '/hps/nobackup/hipsci/scratch/GTEx/GTEx_Analysis_v7_eQTL/Brain_Amygdala.v7.egenes.txt'\n",
       "2. '/hps/nobackup/hipsci/scratch/GTEx/GTEx_Analysis_v7_eQTL/Brain_Anterior_cingulate_cortex_BA24.v7.egenes.txt'\n",
       "3. '/hps/nobackup/hipsci/scratch/GTEx/GTEx_Analysis_v7_eQTL/Brain_Caudate_basal_ganglia.v7.egenes.txt'\n",
       "4. '/hps/nobackup/hipsci/scratch/GTEx/GTEx_Analysis_v7_eQTL/Brain_Cerebellar_Hemisphere.v7.egenes.txt'\n",
       "5. '/hps/nobackup/hipsci/scratch/GTEx/GTEx_Analysis_v7_eQTL/Brain_Cerebellum.v7.egenes.txt'\n",
       "6. '/hps/nobackup/hipsci/scratch/GTEx/GTEx_Analysis_v7_eQTL/Brain_Cortex.v7.egenes.txt'\n",
       "7. '/hps/nobackup/hipsci/scratch/GTEx/GTEx_Analysis_v7_eQTL/Brain_Frontal_Cortex_BA9.v7.egenes.txt'\n",
       "8. '/hps/nobackup/hipsci/scratch/GTEx/GTEx_Analysis_v7_eQTL/Brain_Hippocampus.v7.egenes.txt'\n",
       "9. '/hps/nobackup/hipsci/scratch/GTEx/GTEx_Analysis_v7_eQTL/Brain_Hypothalamus.v7.egenes.txt'\n",
       "10. '/hps/nobackup/hipsci/scratch/GTEx/GTEx_Analysis_v7_eQTL/Brain_Nucleus_accumbens_basal_ganglia.v7.egenes.txt'\n",
       "11. '/hps/nobackup/hipsci/scratch/GTEx/GTEx_Analysis_v7_eQTL/Brain_Putamen_basal_ganglia.v7.egenes.txt'\n",
       "12. '/hps/nobackup/hipsci/scratch/GTEx/GTEx_Analysis_v7_eQTL/Brain_Spinal_cord_cervical_c-1.v7.egenes.txt'\n",
       "13. '/hps/nobackup/hipsci/scratch/GTEx/GTEx_Analysis_v7_eQTL/Brain_Substantia_nigra.v7.egenes.txt'\n",
       "\n",
       "\n"
      ],
      "text/plain": [
       " [1] \"/hps/nobackup/hipsci/scratch/GTEx/GTEx_Analysis_v7_eQTL/Brain_Amygdala.v7.egenes.txt\"                       \n",
       " [2] \"/hps/nobackup/hipsci/scratch/GTEx/GTEx_Analysis_v7_eQTL/Brain_Anterior_cingulate_cortex_BA24.v7.egenes.txt\" \n",
       " [3] \"/hps/nobackup/hipsci/scratch/GTEx/GTEx_Analysis_v7_eQTL/Brain_Caudate_basal_ganglia.v7.egenes.txt\"          \n",
       " [4] \"/hps/nobackup/hipsci/scratch/GTEx/GTEx_Analysis_v7_eQTL/Brain_Cerebellar_Hemisphere.v7.egenes.txt\"          \n",
       " [5] \"/hps/nobackup/hipsci/scratch/GTEx/GTEx_Analysis_v7_eQTL/Brain_Cerebellum.v7.egenes.txt\"                     \n",
       " [6] \"/hps/nobackup/hipsci/scratch/GTEx/GTEx_Analysis_v7_eQTL/Brain_Cortex.v7.egenes.txt\"                         \n",
       " [7] \"/hps/nobackup/hipsci/scratch/GTEx/GTEx_Analysis_v7_eQTL/Brain_Frontal_Cortex_BA9.v7.egenes.txt\"             \n",
       " [8] \"/hps/nobackup/hipsci/scratch/GTEx/GTEx_Analysis_v7_eQTL/Brain_Hippocampus.v7.egenes.txt\"                    \n",
       " [9] \"/hps/nobackup/hipsci/scratch/GTEx/GTEx_Analysis_v7_eQTL/Brain_Hypothalamus.v7.egenes.txt\"                   \n",
       "[10] \"/hps/nobackup/hipsci/scratch/GTEx/GTEx_Analysis_v7_eQTL/Brain_Nucleus_accumbens_basal_ganglia.v7.egenes.txt\"\n",
       "[11] \"/hps/nobackup/hipsci/scratch/GTEx/GTEx_Analysis_v7_eQTL/Brain_Putamen_basal_ganglia.v7.egenes.txt\"          \n",
       "[12] \"/hps/nobackup/hipsci/scratch/GTEx/GTEx_Analysis_v7_eQTL/Brain_Spinal_cord_cervical_c-1.v7.egenes.txt\"       \n",
       "[13] \"/hps/nobackup/hipsci/scratch/GTEx/GTEx_Analysis_v7_eQTL/Brain_Substantia_nigra.v7.egenes.txt\"               "
      ]
     },
     "metadata": {},
     "output_type": "display_data"
    }
   ],
   "source": [
    "brain_files"
   ]
  },
  {
   "cell_type": "code",
   "execution_count": 91,
   "metadata": {},
   "outputs": [
    {
     "data": {
      "text/html": [
       "'/hps/nobackup/hipsci/scratch/GTEx/GTEx_Analysis_v7_eQTL/Brain_Frontal_Cortex_BA9.v7.egenes.txt'"
      ],
      "text/latex": [
       "'/hps/nobackup/hipsci/scratch/GTEx/GTEx\\_Analysis\\_v7\\_eQTL/Brain\\_Frontal\\_Cortex\\_BA9.v7.egenes.txt'"
      ],
      "text/markdown": [
       "'/hps/nobackup/hipsci/scratch/GTEx/GTEx_Analysis_v7_eQTL/Brain_Frontal_Cortex_BA9.v7.egenes.txt'"
      ],
      "text/plain": [
       "[1] \"/hps/nobackup/hipsci/scratch/GTEx/GTEx_Analysis_v7_eQTL/Brain_Frontal_Cortex_BA9.v7.egenes.txt\""
      ]
     },
     "metadata": {},
     "output_type": "display_data"
    },
    {
     "data": {
      "text/html": [
       "5086"
      ],
      "text/latex": [
       "5086"
      ],
      "text/markdown": [
       "5086"
      ],
      "text/plain": [
       "[1] 5086"
      ]
     },
     "metadata": {},
     "output_type": "display_data"
    }
   ],
   "source": [
    "# Frontal Cortex\n",
    "fc_file = files[grep(\"Frontal_Cortex\",files)]\n",
    "fc_file\n",
    "\n",
    "fc = read.csv(fc_file, sep =\"\\t\")\n",
    "fc$feature_id = gsub(\"\\\\..*\",\"\",fc$gene_id)\n",
    "fc$snp_id = gsub(\"_b37\",\"\",fc$variant_id)\n",
    "fc_sign = fc[fc$qval<0.05,]\n",
    "fc_sign$eqtl= paste0(fc_sign$feature_id,\"-\",fc_sign$snp_id)\n",
    "length(unique(fc_sign$eqtl))"
   ]
  },
  {
   "cell_type": "code",
   "execution_count": 92,
   "metadata": {},
   "outputs": [
    {
     "data": {
      "text/html": [
       "3690"
      ],
      "text/latex": [
       "3690"
      ],
      "text/markdown": [
       "3690"
      ],
      "text/plain": [
       "[1] 3690"
      ]
     },
     "metadata": {},
     "output_type": "display_data"
    },
    {
     "data": {
      "text/html": [
       "3690"
      ],
      "text/latex": [
       "3690"
      ],
      "text/markdown": [
       "3690"
      ],
      "text/plain": [
       "[1] 3690"
      ]
     },
     "metadata": {},
     "output_type": "display_data"
    }
   ],
   "source": [
    "fc_eqtls = sn_sign$eqtl[!(fc_sign$eqtl %in% eqtl_non_brain)]\n",
    "length(fc_eqtls)\n",
    "fc_eqtls = fc_sign$eqtl[fc_sign$eqtl %in% eqtl_brain_only]\n",
    "length(fc_eqtls)"
   ]
  },
  {
   "cell_type": "code",
   "execution_count": 93,
   "metadata": {},
   "outputs": [
    {
     "data": {
      "text/html": [
       "3690"
      ],
      "text/latex": [
       "3690"
      ],
      "text/markdown": [
       "3690"
      ],
      "text/plain": [
       "[1] 3690"
      ]
     },
     "metadata": {},
     "output_type": "display_data"
    }
   ],
   "source": [
    "fc_egenes = unique(fc_sign[fc_sign$eqtl %in% fc_eqtls,'feature_id'])\n",
    "length(fc_egenes)"
   ]
  },
  {
   "cell_type": "code",
   "execution_count": 94,
   "metadata": {},
   "outputs": [
    {
     "data": {
      "text/html": [
       "3034"
      ],
      "text/latex": [
       "3034"
      ],
      "text/markdown": [
       "3034"
      ],
      "text/plain": [
       "[1] 3034"
      ]
     },
     "metadata": {},
     "output_type": "display_data"
    },
    {
     "data": {
      "text/html": [
       "2266"
      ],
      "text/latex": [
       "2266"
      ],
      "text/markdown": [
       "2266"
      ],
      "text/plain": [
       "[1] 2266"
      ]
     },
     "metadata": {},
     "output_type": "display_data"
    }
   ],
   "source": [
    "length(fc_sign$feature_id[fc_sign$feature_id %in% all_genes]) # out of 5,086 (60%)\n",
    "length(fc_egenes[fc_egenes %in% all_genes]) # out of 3,690 brain only (61%)"
   ]
  },
  {
   "cell_type": "code",
   "execution_count": 95,
   "metadata": {},
   "outputs": [
    {
     "data": {
      "text/html": [
       "1497"
      ],
      "text/latex": [
       "1497"
      ],
      "text/markdown": [
       "1497"
      ],
      "text/plain": [
       "[1] 1497"
      ]
     },
     "metadata": {},
     "output_type": "display_data"
    },
    {
     "data": {
      "text/html": [
       "905"
      ],
      "text/latex": [
       "905"
      ],
      "text/markdown": [
       "905"
      ],
      "text/plain": [
       "[1] 905"
      ]
     },
     "metadata": {},
     "output_type": "display_data"
    }
   ],
   "source": [
    "length(fc_sign$eqtl[fc_sign$eqtl %in% nom_neuro_eqtls]) # out of 3,034/5,086 (29%, 49%)\n",
    "length(fc_eqtls[fc_eqtls %in% nom_neuro_eqtls]) # out of 2,266/3,690 (25%, 40%)"
   ]
  },
  {
   "cell_type": "code",
   "execution_count": 12,
   "metadata": {},
   "outputs": [
    {
     "data": {
      "image/png": "[encoded data removed]",
      "text/plain": [
       "plot without title"
      ]
     },
     "metadata": {},
     "output_type": "display_data"
    }
   ],
   "source": [
    "options(repr.plot.width = 2, repr.plot.height = 4)\n",
    "# barplot(c(562,985,1807), col = c(\"darkblue\",\"cornflowerblue\",\"white\"))\n",
    "barplot(c(5086), col = c(\"white\"))\n",
    "barplot(c(3034), col = c(\"lightgreen\"), add = T)\n",
    "barplot(c(1497), col = c(\"forestgreen\"), add = T)"
   ]
  },
  {
   "cell_type": "code",
   "execution_count": null,
   "metadata": {},
   "outputs": [],
   "source": []
  }
 ],
 "metadata": {
  "kernelspec": {
   "display_name": "R",
   "language": "R",
   "name": "ir"
  },
  "language_info": {
   "codemirror_mode": "r",
   "file_extension": ".r",
   "mimetype": "text/x-r-source",
   "name": "R",
   "pygments_lexer": "r",
   "version": "3.6.1"
  }
 },
 "nbformat": 4,
 "nbformat_minor": 4
}
