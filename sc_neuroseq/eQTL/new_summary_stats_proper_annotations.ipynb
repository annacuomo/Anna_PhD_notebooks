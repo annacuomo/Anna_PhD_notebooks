{
 "cells": [
  {
   "cell_type": "code",
   "execution_count": 51,
   "metadata": {},
   "outputs": [],
   "source": [
    "######### Day 52 untreated\n",
    "## D52 NONE"
   ]
  },
  {
   "cell_type": "code",
   "execution_count": 1,
   "metadata": {},
   "outputs": [
    {
     "data": {
      "text/html": [
       "8701"
      ],
      "text/latex": [
       "8701"
      ],
      "text/markdown": [
       "8701"
      ],
      "text/plain": [
       "[1] 8701"
      ]
     },
     "metadata": {},
     "output_type": "display_data"
    }
   ],
   "source": [
    "# pseudobulk (old)\n",
    "myfile = \"/hps/nobackup/stegle/users/acuomo/all_scripts/sc_neuroseq/eqtl/timepoint_D52/input_files_untreated/pseudobulk/results/top_qtl_results_all.txt\"\n",
    "df = read.csv(myfile,sep=\"\\t\")\n",
    "length(unique(df$feature_id))"
   ]
  },
  {
   "cell_type": "code",
   "execution_count": 236,
   "metadata": {},
   "outputs": [
    {
     "data": {
      "text/html": [
       "12018"
      ],
      "text/latex": [
       "12018"
      ],
      "text/markdown": [
       "12018"
      ],
      "text/plain": [
       "[1] 12018"
      ]
     },
     "metadata": {},
     "output_type": "display_data"
    },
    {
     "data": {
      "text/html": [
       "9689"
      ],
      "text/latex": [
       "9689"
      ],
      "text/markdown": [
       "9689"
      ],
      "text/plain": [
       "[1] 9689"
      ]
     },
     "metadata": {},
     "output_type": "display_data"
    }
   ],
   "source": [
    "# DA\n",
    "myfile = \"/hps/nobackup/stegle/users/acuomo/all_scripts/sc_neuroseq/eqtl/timepoint_D52/input_files_untreated/celltype_DA/results_ss/top_qtl_results_all.txt\"\n",
    "df = read.csv(myfile,sep=\"\\t\")\n",
    "length(unique(df$feature_id))\n",
    "\n",
    "myfile = \"/hps/nobackup/stegle/users/acuomo/all_scripts/sc_neuroseq/eqtl/timepoint_D52/input_files_untreated/celltype_DA/results_archive_20200904/top_qtl_results_all.txt\"\n",
    "df = read.csv(myfile,sep=\"\\t\")\n",
    "length(unique(df$feature_id))"
   ]
  },
  {
   "cell_type": "code",
   "execution_count": 237,
   "metadata": {},
   "outputs": [
    {
     "data": {
      "text/html": [
       "12522"
      ],
      "text/latex": [
       "12522"
      ],
      "text/markdown": [
       "12522"
      ],
      "text/plain": [
       "[1] 12522"
      ]
     },
     "metadata": {},
     "output_type": "display_data"
    },
    {
     "data": {
      "text/html": [
       "10016"
      ],
      "text/latex": [
       "10016"
      ],
      "text/markdown": [
       "10016"
      ],
      "text/plain": [
       "[1] 10016"
      ]
     },
     "metadata": {},
     "output_type": "display_data"
    }
   ],
   "source": [
    "# Sert\n",
    "myfile = \"/hps/nobackup/stegle/users/acuomo/all_scripts/sc_neuroseq/eqtl/timepoint_D52/input_files_untreated/celltype_Sert/results_ss/top_qtl_results_all.txt\"\n",
    "df = read.csv(myfile,sep=\"\\t\")\n",
    "length(unique(df$feature_id))\n",
    "\n",
    "myfile = \"/hps/nobackup/stegle/users/acuomo/all_scripts/sc_neuroseq/eqtl/timepoint_D52/input_files_untreated/celltype_Sert/results_archive_20200904/top_qtl_results_all.txt\"\n",
    "df = read.csv(myfile,sep=\"\\t\")\n",
    "length(unique(df$feature_id))"
   ]
  },
  {
   "cell_type": "code",
   "execution_count": 238,
   "metadata": {},
   "outputs": [
    {
     "data": {
      "text/html": [
       "9514"
      ],
      "text/latex": [
       "9514"
      ],
      "text/markdown": [
       "9514"
      ],
      "text/plain": [
       "[1] 9514"
      ]
     },
     "metadata": {},
     "output_type": "display_data"
    },
    {
     "data": {
      "text/html": [
       "10033"
      ],
      "text/latex": [
       "10033"
      ],
      "text/markdown": [
       "10033"
      ],
      "text/plain": [
       "[1] 10033"
      ]
     },
     "metadata": {},
     "output_type": "display_data"
    }
   ],
   "source": [
    "# Epen1\n",
    "myfile = \"/hps/nobackup/stegle/users/acuomo/all_scripts/sc_neuroseq/eqtl/timepoint_D52/input_files_untreated/celltype_Epen1/results_ss/top_qtl_results_all.txt\"\n",
    "df = read.csv(myfile,sep=\"\\t\")\n",
    "length(unique(df$feature_id))\n",
    "\n",
    "myfile = \"/hps/nobackup/stegle/users/acuomo/all_scripts/sc_neuroseq/eqtl/timepoint_D52/input_files_untreated/celltype_Epen1/results_archive_20200904/top_qtl_results_all.txt\"\n",
    "df = read.csv(myfile,sep=\"\\t\")\n",
    "length(unique(df$feature_id))"
   ]
  },
  {
   "cell_type": "code",
   "execution_count": 239,
   "metadata": {},
   "outputs": [
    {
     "data": {
      "text/html": [
       "11908"
      ],
      "text/latex": [
       "11908"
      ],
      "text/markdown": [
       "11908"
      ],
      "text/plain": [
       "[1] 11908"
      ]
     },
     "metadata": {},
     "output_type": "display_data"
    },
    {
     "data": {
      "text/html": [
       "9801"
      ],
      "text/latex": [
       "9801"
      ],
      "text/markdown": [
       "9801"
      ],
      "text/plain": [
       "[1] 9801"
      ]
     },
     "metadata": {},
     "output_type": "display_data"
    }
   ],
   "source": [
    "# Astro\n",
    "myfile = \"/hps/nobackup/stegle/users/acuomo/all_scripts/sc_neuroseq/eqtl/timepoint_D52/input_files_untreated/celltype_Astro/results_ss/top_qtl_results_all.txt\"\n",
    "df = read.csv(myfile,sep=\"\\t\")\n",
    "length(unique(df$feature_id))\n",
    "\n",
    "myfile = \"/hps/nobackup/stegle/users/acuomo/all_scripts/sc_neuroseq/eqtl/timepoint_D52/input_files_untreated/celltype_Astro/results_archive_20200904/top_qtl_results_all.txt\"\n",
    "df = read.csv(myfile,sep=\"\\t\")\n",
    "length(unique(df$feature_id))"
   ]
  },
  {
   "cell_type": "code",
   "execution_count": 228,
   "metadata": {},
   "outputs": [],
   "source": [
    "######### Day 52 rotenone-treated\n",
    "## D52 ROT"
   ]
  },
  {
   "cell_type": "code",
   "execution_count": 229,
   "metadata": {},
   "outputs": [],
   "source": [
    "all_genes = c()"
   ]
  },
  {
   "cell_type": "code",
   "execution_count": 230,
   "metadata": {},
   "outputs": [
    {
     "data": {
      "text/html": [
       "12047"
      ],
      "text/latex": [
       "12047"
      ],
      "text/markdown": [
       "12047"
      ],
      "text/plain": [
       "[1] 12047"
      ]
     },
     "metadata": {},
     "output_type": "display_data"
    },
    {
     "data": {
      "text/html": [
       "12018"
      ],
      "text/latex": [
       "12018"
      ],
      "text/markdown": [
       "12018"
      ],
      "text/plain": [
       "[1] 12018"
      ]
     },
     "metadata": {},
     "output_type": "display_data"
    },
    {
     "data": {
      "text/html": [
       "9710"
      ],
      "text/latex": [
       "9710"
      ],
      "text/markdown": [
       "9710"
      ],
      "text/plain": [
       "[1] 9710"
      ]
     },
     "metadata": {},
     "output_type": "display_data"
    }
   ],
   "source": [
    "# DA\n",
    "myfile = \"/hps/nobackup/stegle/users/acuomo/all_scripts/sc_neuroseq/eqtl/timepoint_D52/input_files_ROT_treated/celltype_DA/results_ss/top_qtl_results_all.txt\"\n",
    "df = read.csv(myfile,sep=\"\\t\")\n",
    "nrow(df)\n",
    "all_genes = unique(c(all_genes, as.character(df$feature_id)))\n",
    "length(all_genes)\n",
    "\n",
    "myfile = \"/hps/nobackup/stegle/users/acuomo/all_scripts/sc_neuroseq/eqtl/timepoint_D52/input_files_ROT_treated/celltype_DA/results_archive_20200904/top_qtl_results_all.txt\"\n",
    "df = read.csv(myfile,sep=\"\\t\")\n",
    "nrow(df)"
   ]
  },
  {
   "cell_type": "code",
   "execution_count": 231,
   "metadata": {},
   "outputs": [
    {
     "data": {
      "text/html": [
       "12552"
      ],
      "text/latex": [
       "12552"
      ],
      "text/markdown": [
       "12552"
      ],
      "text/plain": [
       "[1] 12552"
      ]
     },
     "metadata": {},
     "output_type": "display_data"
    },
    {
     "data": {
      "text/html": [
       "13111"
      ],
      "text/latex": [
       "13111"
      ],
      "text/markdown": [
       "13111"
      ],
      "text/plain": [
       "[1] 13111"
      ]
     },
     "metadata": {},
     "output_type": "display_data"
    },
    {
     "data": {
      "text/html": [
       "10038"
      ],
      "text/latex": [
       "10038"
      ],
      "text/markdown": [
       "10038"
      ],
      "text/plain": [
       "[1] 10038"
      ]
     },
     "metadata": {},
     "output_type": "display_data"
    }
   ],
   "source": [
    "# Sert\n",
    "myfile = \"/hps/nobackup/stegle/users/acuomo/all_scripts/sc_neuroseq/eqtl/timepoint_D52/input_files_ROT_treated/celltype_Sert/results_ss/top_qtl_results_all.txt\"\n",
    "df = read.csv(myfile,sep=\"\\t\")\n",
    "nrow(df)\n",
    "all_genes = unique(c(all_genes, as.character(df$feature_id)))\n",
    "length(all_genes)\n",
    "\n",
    "myfile = \"/hps/nobackup/stegle/users/acuomo/all_scripts/sc_neuroseq/eqtl/timepoint_D52/input_files_ROT_treated/celltype_Sert/results_archive_20200904/top_qtl_results_all.txt\"\n",
    "df = read.csv(myfile,sep=\"\\t\")\n",
    "nrow(df)"
   ]
  },
  {
   "cell_type": "code",
   "execution_count": 232,
   "metadata": {},
   "outputs": [
    {
     "data": {
      "text/html": [
       "12588"
      ],
      "text/latex": [
       "12588"
      ],
      "text/markdown": [
       "12588"
      ],
      "text/plain": [
       "[1] 12588"
      ]
     },
     "metadata": {},
     "output_type": "display_data"
    },
    {
     "data": {
      "text/html": [
       "13748"
      ],
      "text/latex": [
       "13748"
      ],
      "text/markdown": [
       "13748"
      ],
      "text/plain": [
       "[1] 13748"
      ]
     },
     "metadata": {},
     "output_type": "display_data"
    },
    {
     "data": {
      "text/html": [
       "10055"
      ],
      "text/latex": [
       "10055"
      ],
      "text/markdown": [
       "10055"
      ],
      "text/plain": [
       "[1] 10055"
      ]
     },
     "metadata": {},
     "output_type": "display_data"
    }
   ],
   "source": [
    "# Epen1\n",
    "myfile = \"/hps/nobackup/stegle/users/acuomo/all_scripts/sc_neuroseq/eqtl/timepoint_D52/input_files_ROT_treated/celltype_Epen1/results_ss/top_qtl_results_all.txt\"\n",
    "df = read.csv(myfile,sep=\"\\t\")\n",
    "nrow(df)\n",
    "all_genes = unique(c(all_genes, as.character(df$feature_id)))\n",
    "length(all_genes)\n",
    "\n",
    "myfile = \"/hps/nobackup/stegle/users/acuomo/all_scripts/sc_neuroseq/eqtl/timepoint_D52/input_files_ROT_treated/celltype_Epen1/results_archive_20200904/top_qtl_results_all.txt\"\n",
    "df = read.csv(myfile,sep=\"\\t\")\n",
    "nrow(df)"
   ]
  },
  {
   "cell_type": "code",
   "execution_count": 233,
   "metadata": {},
   "outputs": [
    {
     "data": {
      "text/html": [
       "11936"
      ],
      "text/latex": [
       "11936"
      ],
      "text/markdown": [
       "11936"
      ],
      "text/plain": [
       "[1] 11936"
      ]
     },
     "metadata": {},
     "output_type": "display_data"
    },
    {
     "data": {
      "text/html": [
       "13860"
      ],
      "text/latex": [
       "13860"
      ],
      "text/markdown": [
       "13860"
      ],
      "text/plain": [
       "[1] 13860"
      ]
     },
     "metadata": {},
     "output_type": "display_data"
    },
    {
     "data": {
      "text/html": [
       "9823"
      ],
      "text/latex": [
       "9823"
      ],
      "text/markdown": [
       "9823"
      ],
      "text/plain": [
       "[1] 9823"
      ]
     },
     "metadata": {},
     "output_type": "display_data"
    }
   ],
   "source": [
    "# Astro\n",
    "myfile = \"/hps/nobackup/stegle/users/acuomo/all_scripts/sc_neuroseq/eqtl/timepoint_D52/input_files_ROT_treated/celltype_Astro/results_ss/top_qtl_results_all.txt\"\n",
    "df = read.csv(myfile,sep=\"\\t\")\n",
    "nrow(df)\n",
    "all_genes = unique(c(all_genes, as.character(df$feature_id)))\n",
    "length(all_genes)\n",
    "\n",
    "myfile = \"/hps/nobackup/stegle/users/acuomo/all_scripts/sc_neuroseq/eqtl/timepoint_D52/input_files_ROT_treated/celltype_Astro/results_archive_20200904/top_qtl_results_all.txt\"\n",
    "df = read.csv(myfile,sep=\"\\t\")\n",
    "nrow(df)"
   ]
  },
  {
   "cell_type": "code",
   "execution_count": null,
   "metadata": {},
   "outputs": [],
   "source": []
  },
  {
   "cell_type": "code",
   "execution_count": null,
   "metadata": {},
   "outputs": [],
   "source": []
  }
 ],
 "metadata": {
  "kernelspec": {
   "display_name": "R",
   "language": "R",
   "name": "ir"
  },
  "language_info": {
   "codemirror_mode": "r",
   "file_extension": ".r",
   "mimetype": "text/x-r-source",
   "name": "R",
   "pygments_lexer": "r",
   "version": "3.6.1"
  }
 },
 "nbformat": 4,
 "nbformat_minor": 4
}
