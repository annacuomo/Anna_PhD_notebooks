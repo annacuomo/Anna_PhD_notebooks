{
 "cells": [
  {
   "cell_type": "code",
   "execution_count": 1,
   "metadata": {},
   "outputs": [
    {
     "data": {
      "text/html": [
       "<table>\n",
       "<thead><tr><th scope=col>index</th><th scope=col>PC1</th><th scope=col>PC2</th><th scope=col>PC3</th><th scope=col>PC4</th><th scope=col>PC5</th><th scope=col>PC6</th><th scope=col>PC7</th><th scope=col>PC8</th><th scope=col>PC9</th><th scope=col>PC10</th><th scope=col>PC11</th><th scope=col>PC12</th><th scope=col>PC13</th><th scope=col>PC14</th><th scope=col>PC15</th><th scope=col>donor_id</th></tr></thead>\n",
       "<tbody>\n",
       "\t<tr><td>HPSI0114i-bezi_3</td><td> 0.86408136     </td><td>-4.3615592      </td><td>-1.0140034      </td><td> 0.5554230      </td><td>-2.8582352      </td><td> 1.9929279      </td><td>-2.3758218      </td><td> 1.7082123      </td><td>-1.2396886      </td><td>-1.4294052      </td><td>-2.7275594      </td><td> 1.1538751      </td><td>-0.05030145     </td><td> 0.01835942     </td><td>-0.04474154     </td><td>HPSI0114i-bezi_3</td></tr>\n",
       "\t<tr><td>HPSI0114i-eipl_1</td><td>-1.55182176     </td><td> 1.5423131      </td><td> 0.3813373      </td><td> 2.8372367      </td><td>-0.6405574      </td><td>-2.2180370      </td><td> 0.1144922      </td><td> 1.6501426      </td><td> 1.1478090      </td><td>-0.7261294      </td><td>-1.0467598      </td><td>-0.9495843      </td><td>-0.09725949     </td><td> 0.22564761     </td><td> 0.58281519     </td><td>HPSI0114i-eipl_1</td></tr>\n",
       "\t<tr><td>HPSI0114i-fikt_3</td><td>-4.70157760     </td><td> 3.2183940      </td><td> 6.9653800      </td><td>-1.1581377      </td><td> 2.9117338      </td><td> 3.4554263      </td><td> 6.7357086      </td><td> 5.9635670      </td><td>-3.7392240      </td><td>-1.4744775      </td><td> 0.3864368      </td><td>-0.2095445      </td><td>-2.77161237     </td><td> 0.56426326     </td><td> 0.85161330     </td><td>HPSI0114i-fikt_3</td></tr>\n",
       "\t<tr><td>HPSI0114i-kolf_2</td><td>-1.44651044     </td><td>-4.1859306      </td><td> 0.2489478      </td><td> 0.6072905      </td><td> 0.3416710      </td><td>-0.5930326      </td><td> 1.9382105      </td><td>-0.3381146      </td><td> 0.1654862      </td><td>-0.5329670      </td><td> 0.2548474      </td><td> 1.3733559      </td><td> 0.96725442     </td><td>-0.34833685     </td><td>-0.66417130     </td><td>HPSI0114i-kolf_2</td></tr>\n",
       "\t<tr><td>HPSI0114i-lexy_2</td><td>-1.86973868     </td><td>-0.2814033      </td><td> 0.2536161      </td><td>-1.1287278      </td><td>-3.5555038      </td><td> 2.8010046      </td><td>-0.7925098      </td><td>-0.1069578      </td><td> 1.0569644      </td><td>-0.5315275      </td><td>-1.7728136      </td><td>-0.2486512      </td><td>-0.89853972     </td><td> 0.74075091     </td><td>-0.12821592     </td><td>HPSI0114i-lexy_2</td></tr>\n",
       "\t<tr><td>HPSI0114i-posc_1</td><td>-0.01501786     </td><td>-2.4750411      </td><td>-1.1738454      </td><td> 1.2216347      </td><td>-2.9696965      </td><td> 3.1370065      </td><td>-2.0999286      </td><td> 1.1784212      </td><td>-2.0903986      </td><td> 1.5039195      </td><td>-1.1978492      </td><td> 0.2462701      </td><td>-1.68529212     </td><td>-0.25476882     </td><td> 0.62344033     </td><td>HPSI0114i-posc_1</td></tr>\n",
       "</tbody>\n",
       "</table>\n"
      ],
      "text/latex": [
       "\\begin{tabular}{r|lllllllllllllllll}\n",
       " index & PC1 & PC2 & PC3 & PC4 & PC5 & PC6 & PC7 & PC8 & PC9 & PC10 & PC11 & PC12 & PC13 & PC14 & PC15 & donor\\_id\\\\\n",
       "\\hline\n",
       "\t HPSI0114i-bezi\\_3 &  0.86408136        & -4.3615592         & -1.0140034         &  0.5554230         & -2.8582352         &  1.9929279         & -2.3758218         &  1.7082123         & -1.2396886         & -1.4294052         & -2.7275594         &  1.1538751         & -0.05030145        &  0.01835942        & -0.04474154        & HPSI0114i-bezi\\_3\\\\\n",
       "\t HPSI0114i-eipl\\_1 & -1.55182176        &  1.5423131         &  0.3813373         &  2.8372367         & -0.6405574         & -2.2180370         &  0.1144922         &  1.6501426         &  1.1478090         & -0.7261294         & -1.0467598         & -0.9495843         & -0.09725949        &  0.22564761        &  0.58281519        & HPSI0114i-eipl\\_1\\\\\n",
       "\t HPSI0114i-fikt\\_3 & -4.70157760        &  3.2183940         &  6.9653800         & -1.1581377         &  2.9117338         &  3.4554263         &  6.7357086         &  5.9635670         & -3.7392240         & -1.4744775         &  0.3864368         & -0.2095445         & -2.77161237        &  0.56426326        &  0.85161330        & HPSI0114i-fikt\\_3\\\\\n",
       "\t HPSI0114i-kolf\\_2 & -1.44651044        & -4.1859306         &  0.2489478         &  0.6072905         &  0.3416710         & -0.5930326         &  1.9382105         & -0.3381146         &  0.1654862         & -0.5329670         &  0.2548474         &  1.3733559         &  0.96725442        & -0.34833685        & -0.66417130        & HPSI0114i-kolf\\_2\\\\\n",
       "\t HPSI0114i-lexy\\_2 & -1.86973868        & -0.2814033         &  0.2536161         & -1.1287278         & -3.5555038         &  2.8010046         & -0.7925098         & -0.1069578         &  1.0569644         & -0.5315275         & -1.7728136         & -0.2486512         & -0.89853972        &  0.74075091        & -0.12821592        & HPSI0114i-lexy\\_2\\\\\n",
       "\t HPSI0114i-posc\\_1 & -0.01501786        & -2.4750411         & -1.1738454         &  1.2216347         & -2.9696965         &  3.1370065         & -2.0999286         &  1.1784212         & -2.0903986         &  1.5039195         & -1.1978492         &  0.2462701         & -1.68529212        & -0.25476882        &  0.62344033        & HPSI0114i-posc\\_1\\\\\n",
       "\\end{tabular}\n"
      ],
      "text/markdown": [
       "\n",
       "| index | PC1 | PC2 | PC3 | PC4 | PC5 | PC6 | PC7 | PC8 | PC9 | PC10 | PC11 | PC12 | PC13 | PC14 | PC15 | donor_id |\n",
       "|---|---|---|---|---|---|---|---|---|---|---|---|---|---|---|---|---|\n",
       "| HPSI0114i-bezi_3 |  0.86408136      | -4.3615592       | -1.0140034       |  0.5554230       | -2.8582352       |  1.9929279       | -2.3758218       |  1.7082123       | -1.2396886       | -1.4294052       | -2.7275594       |  1.1538751       | -0.05030145      |  0.01835942      | -0.04474154      | HPSI0114i-bezi_3 |\n",
       "| HPSI0114i-eipl_1 | -1.55182176      |  1.5423131       |  0.3813373       |  2.8372367       | -0.6405574       | -2.2180370       |  0.1144922       |  1.6501426       |  1.1478090       | -0.7261294       | -1.0467598       | -0.9495843       | -0.09725949      |  0.22564761      |  0.58281519      | HPSI0114i-eipl_1 |\n",
       "| HPSI0114i-fikt_3 | -4.70157760      |  3.2183940       |  6.9653800       | -1.1581377       |  2.9117338       |  3.4554263       |  6.7357086       |  5.9635670       | -3.7392240       | -1.4744775       |  0.3864368       | -0.2095445       | -2.77161237      |  0.56426326      |  0.85161330      | HPSI0114i-fikt_3 |\n",
       "| HPSI0114i-kolf_2 | -1.44651044      | -4.1859306       |  0.2489478       |  0.6072905       |  0.3416710       | -0.5930326       |  1.9382105       | -0.3381146       |  0.1654862       | -0.5329670       |  0.2548474       |  1.3733559       |  0.96725442      | -0.34833685      | -0.66417130      | HPSI0114i-kolf_2 |\n",
       "| HPSI0114i-lexy_2 | -1.86973868      | -0.2814033       |  0.2536161       | -1.1287278       | -3.5555038       |  2.8010046       | -0.7925098       | -0.1069578       |  1.0569644       | -0.5315275       | -1.7728136       | -0.2486512       | -0.89853972      |  0.74075091      | -0.12821592      | HPSI0114i-lexy_2 |\n",
       "| HPSI0114i-posc_1 | -0.01501786      | -2.4750411       | -1.1738454       |  1.2216347       | -2.9696965       |  3.1370065       | -2.0999286       |  1.1784212       | -2.0903986       |  1.5039195       | -1.1978492       |  0.2462701       | -1.68529212      | -0.25476882      |  0.62344033      | HPSI0114i-posc_1 |\n",
       "\n"
      ],
      "text/plain": [
       "  index            PC1         PC2        PC3        PC4        PC5       \n",
       "1 HPSI0114i-bezi_3  0.86408136 -4.3615592 -1.0140034  0.5554230 -2.8582352\n",
       "2 HPSI0114i-eipl_1 -1.55182176  1.5423131  0.3813373  2.8372367 -0.6405574\n",
       "3 HPSI0114i-fikt_3 -4.70157760  3.2183940  6.9653800 -1.1581377  2.9117338\n",
       "4 HPSI0114i-kolf_2 -1.44651044 -4.1859306  0.2489478  0.6072905  0.3416710\n",
       "5 HPSI0114i-lexy_2 -1.86973868 -0.2814033  0.2536161 -1.1287278 -3.5555038\n",
       "6 HPSI0114i-posc_1 -0.01501786 -2.4750411 -1.1738454  1.2216347 -2.9696965\n",
       "  PC6        PC7        PC8        PC9        PC10       PC11       PC12      \n",
       "1  1.9929279 -2.3758218  1.7082123 -1.2396886 -1.4294052 -2.7275594  1.1538751\n",
       "2 -2.2180370  0.1144922  1.6501426  1.1478090 -0.7261294 -1.0467598 -0.9495843\n",
       "3  3.4554263  6.7357086  5.9635670 -3.7392240 -1.4744775  0.3864368 -0.2095445\n",
       "4 -0.5930326  1.9382105 -0.3381146  0.1654862 -0.5329670  0.2548474  1.3733559\n",
       "5  2.8010046 -0.7925098 -0.1069578  1.0569644 -0.5315275 -1.7728136 -0.2486512\n",
       "6  3.1370065 -2.0999286  1.1784212 -2.0903986  1.5039195 -1.1978492  0.2462701\n",
       "  PC13        PC14        PC15        donor_id        \n",
       "1 -0.05030145  0.01835942 -0.04474154 HPSI0114i-bezi_3\n",
       "2 -0.09725949  0.22564761  0.58281519 HPSI0114i-eipl_1\n",
       "3 -2.77161237  0.56426326  0.85161330 HPSI0114i-fikt_3\n",
       "4  0.96725442 -0.34833685 -0.66417130 HPSI0114i-kolf_2\n",
       "5 -0.89853972  0.74075091 -0.12821592 HPSI0114i-lexy_2\n",
       "6 -1.68529212 -0.25476882  0.62344033 HPSI0114i-posc_1"
      ]
     },
     "metadata": {},
     "output_type": "display_data"
    }
   ],
   "source": [
    "pcs_filename = \"/hps/nobackup/stegle/users/acuomo/all_scripts/sc_neuroseq/eqtl/timepoint_D52/input_files_untreated/celltype_DA/covariates.tsv\"\n",
    "pcs = read.csv(pcs_filename, sep = \"\\t\")\n",
    "pcs$donor_id = pcs$index \n",
    "head(pcs)"
   ]
  },
  {
   "cell_type": "code",
   "execution_count": 2,
   "metadata": {},
   "outputs": [
    {
     "data": {
      "text/html": [
       "<table>\n",
       "<thead><tr><th scope=col>donor_id</th><th scope=col>Gender</th><th scope=col>Age</th><th scope=col>feederfree</th><th scope=col>min_age</th><th scope=col>max_age</th><th scope=col>avg_age</th><th scope=col>origin_cell</th><th scope=col>reprogramming_method</th><th scope=col>cell_line</th><th scope=col>pool</th><th scope=col>passage_number</th><th scope=col>mean_x_chrom_ase</th></tr></thead>\n",
       "<tbody>\n",
       "\t<tr><td>HPSI0813i-ffdc_1 </td><td>male             </td><td>40-44            </td><td>n                </td><td>40               </td><td>44               </td><td>42               </td><td>fibroblast       </td><td>sendai           </td><td>ffdc_1           </td><td>NA               </td><td>NA               </td><td>       NA        </td></tr>\n",
       "\t<tr><td>HPSI0213i-nawk_55</td><td>male             </td><td>                 </td><td>y                </td><td>NA               </td><td>NA               </td><td>NA               </td><td>fibroblast       </td><td>sendai           </td><td>nawk_55          </td><td>14               </td><td>76               </td><td>       NA        </td></tr>\n",
       "\t<tr><td>HPSI0513i-uoxz_4 </td><td>female           </td><td>                 </td><td>n                </td><td>NA               </td><td>NA               </td><td>NA               </td><td>fibroblast       </td><td>sendai           </td><td>uoxz_4           </td><td>11               </td><td>24               </td><td>0.2753908        </td></tr>\n",
       "\t<tr><td>HPSI0513i-veve_2 </td><td>female           </td><td>                 </td><td>n                </td><td>NA               </td><td>NA               </td><td>NA               </td><td>fibroblast       </td><td>sendai           </td><td>veve_2           </td><td>11               </td><td>28               </td><td>0.2948189        </td></tr>\n",
       "\t<tr><td>HPSI0413i-peop_4 </td><td>male             </td><td>                 </td><td>y                </td><td>NA               </td><td>NA               </td><td>NA               </td><td>fibroblast       </td><td>sendai           </td><td>peop_4           </td><td>10               </td><td>39               </td><td>       NA        </td></tr>\n",
       "\t<tr><td>HPSI0613i-hikj_2 </td><td>male             </td><td>                 </td><td>n                </td><td>NA               </td><td>NA               </td><td>NA               </td><td>fibroblast       </td><td>sendai           </td><td>hikj_2           </td><td>11               </td><td>28               </td><td>       NA        </td></tr>\n",
       "</tbody>\n",
       "</table>\n"
      ],
      "text/latex": [
       "\\begin{tabular}{r|lllllllllllll}\n",
       " donor\\_id & Gender & Age & feederfree & min\\_age & max\\_age & avg\\_age & origin\\_cell & reprogramming\\_method & cell\\_line & pool & passage\\_number & mean\\_x\\_chrom\\_ase\\\\\n",
       "\\hline\n",
       "\t HPSI0813i-ffdc\\_1  & male                & 40-44               & n                   & 40                  & 44                  & 42                  & fibroblast          & sendai              & ffdc\\_1            & NA                  & NA                  &        NA          \\\\\n",
       "\t HPSI0213i-nawk\\_55 & male                &                     & y                   & NA                  & NA                  & NA                  & fibroblast          & sendai              & nawk\\_55           & 14                  & 76                  &        NA          \\\\\n",
       "\t HPSI0513i-uoxz\\_4  & female              &                     & n                   & NA                  & NA                  & NA                  & fibroblast          & sendai              & uoxz\\_4            & 11                  & 24                  & 0.2753908          \\\\\n",
       "\t HPSI0513i-veve\\_2  & female              &                     & n                   & NA                  & NA                  & NA                  & fibroblast          & sendai              & veve\\_2            & 11                  & 28                  & 0.2948189          \\\\\n",
       "\t HPSI0413i-peop\\_4  & male                &                     & y                   & NA                  & NA                  & NA                  & fibroblast          & sendai              & peop\\_4            & 10                  & 39                  &        NA          \\\\\n",
       "\t HPSI0613i-hikj\\_2  & male                &                     & n                   & NA                  & NA                  & NA                  & fibroblast          & sendai              & hikj\\_2            & 11                  & 28                  &        NA          \\\\\n",
       "\\end{tabular}\n"
      ],
      "text/markdown": [
       "\n",
       "| donor_id | Gender | Age | feederfree | min_age | max_age | avg_age | origin_cell | reprogramming_method | cell_line | pool | passage_number | mean_x_chrom_ase |\n",
       "|---|---|---|---|---|---|---|---|---|---|---|---|---|\n",
       "| HPSI0813i-ffdc_1  | male              | 40-44             | n                 | 40                | 44                | 42                | fibroblast        | sendai            | ffdc_1            | NA                | NA                |        NA         |\n",
       "| HPSI0213i-nawk_55 | male              |                   | y                 | NA                | NA                | NA                | fibroblast        | sendai            | nawk_55           | 14                | 76                |        NA         |\n",
       "| HPSI0513i-uoxz_4  | female            |                   | n                 | NA                | NA                | NA                | fibroblast        | sendai            | uoxz_4            | 11                | 24                | 0.2753908         |\n",
       "| HPSI0513i-veve_2  | female            |                   | n                 | NA                | NA                | NA                | fibroblast        | sendai            | veve_2            | 11                | 28                | 0.2948189         |\n",
       "| HPSI0413i-peop_4  | male              |                   | y                 | NA                | NA                | NA                | fibroblast        | sendai            | peop_4            | 10                | 39                |        NA         |\n",
       "| HPSI0613i-hikj_2  | male              |                   | n                 | NA                | NA                | NA                | fibroblast        | sendai            | hikj_2            | 11                | 28                |        NA         |\n",
       "\n"
      ],
      "text/plain": [
       "  donor_id          Gender Age   feederfree min_age max_age avg_age origin_cell\n",
       "1 HPSI0813i-ffdc_1  male   40-44 n          40      44      42      fibroblast \n",
       "2 HPSI0213i-nawk_55 male         y          NA      NA      NA      fibroblast \n",
       "3 HPSI0513i-uoxz_4  female       n          NA      NA      NA      fibroblast \n",
       "4 HPSI0513i-veve_2  female       n          NA      NA      NA      fibroblast \n",
       "5 HPSI0413i-peop_4  male         y          NA      NA      NA      fibroblast \n",
       "6 HPSI0613i-hikj_2  male         n          NA      NA      NA      fibroblast \n",
       "  reprogramming_method cell_line pool passage_number mean_x_chrom_ase\n",
       "1 sendai               ffdc_1    NA   NA                    NA       \n",
       "2 sendai               nawk_55   14   76                    NA       \n",
       "3 sendai               uoxz_4    11   24             0.2753908       \n",
       "4 sendai               veve_2    11   28             0.2948189       \n",
       "5 sendai               peop_4    10   39                    NA       \n",
       "6 sendai               hikj_2    11   28                    NA       "
      ]
     },
     "metadata": {},
     "output_type": "display_data"
    }
   ],
   "source": [
    "# meta_filename = \"/hps/nobackup/stegle/users/acuomo/all_scripts/sc_neuroseq/metadata_all_lines.csv\"\n",
    "meta_filename = \"/hps/nobackup/stegle/users/acuomo/all_scripts/sc_neuroseq/metadata_all_lines_w_passage_w_xci.csv\"\n",
    "meta = read.csv(meta_filename, row.names = 1)\n",
    "head(meta)"
   ]
  },
  {
   "cell_type": "code",
   "execution_count": 18,
   "metadata": {},
   "outputs": [
    {
     "name": "stderr",
     "output_type": "stream",
     "text": [
      "Warning message:\n",
      "“Column `donor_id` joining factors with different levels, coercing to character vector”"
     ]
    },
    {
     "data": {
      "text/html": [
       "217"
      ],
      "text/latex": [
       "217"
      ],
      "text/markdown": [
       "217"
      ],
      "text/plain": [
       "[1] 217"
      ]
     },
     "metadata": {},
     "output_type": "display_data"
    },
    {
     "data": {
      "text/html": [
       "<table>\n",
       "<thead><tr><th scope=col>index</th><th scope=col>PC1</th><th scope=col>PC2</th><th scope=col>PC3</th><th scope=col>PC4</th><th scope=col>PC5</th><th scope=col>PC6</th><th scope=col>PC7</th><th scope=col>PC8</th><th scope=col>PC9</th><th scope=col>...</th><th scope=col>feederfree</th><th scope=col>min_age</th><th scope=col>max_age</th><th scope=col>avg_age</th><th scope=col>origin_cell</th><th scope=col>reprogramming_method</th><th scope=col>cell_line</th><th scope=col>pool</th><th scope=col>passage_number</th><th scope=col>mean_x_chrom_ase</th></tr></thead>\n",
       "<tbody>\n",
       "\t<tr><td>HPSI0114i-bezi_3</td><td> 0.8640814      </td><td>-4.3615592      </td><td>-1.0140034      </td><td> 0.5554230      </td><td>-2.8582352      </td><td> 1.9929279      </td><td>-2.3758218      </td><td> 1.7082123      </td><td>-1.2396886      </td><td>...             </td><td>n               </td><td>60              </td><td>64              </td><td>62              </td><td>fibroblast      </td><td>sendai          </td><td>bezi_3          </td><td>10              </td><td>36              </td><td>0.2609075       </td></tr>\n",
       "\t<tr><td>HPSI0114i-eipl_1</td><td>-1.5518218      </td><td> 1.5423131      </td><td> 0.3813373      </td><td> 2.8372367      </td><td>-0.6405574      </td><td>-2.2180370      </td><td> 0.1144922      </td><td> 1.6501426      </td><td> 1.1478090      </td><td>...             </td><td>n               </td><td>40              </td><td>44              </td><td>42              </td><td>fibroblast      </td><td>sendai          </td><td>eipl_1          </td><td> 1              </td><td>42              </td><td>0.1885190       </td></tr>\n",
       "\t<tr><td>HPSI0114i-fikt_3</td><td>-4.7015776      </td><td> 3.2183940      </td><td> 6.9653800      </td><td>-1.1581377      </td><td> 2.9117338      </td><td> 3.4554263      </td><td> 6.7357086      </td><td> 5.9635670      </td><td>-3.7392240      </td><td>...             </td><td>y               </td><td>50              </td><td>54              </td><td>52              </td><td>fibroblast      </td><td>sendai          </td><td>fikt_3          </td><td>14              </td><td>46              </td><td>       NA       </td></tr>\n",
       "\t<tr><td>HPSI0114i-kolf_2</td><td>-1.4465104      </td><td>-4.1859306      </td><td> 0.2489478      </td><td> 0.6072905      </td><td> 0.3416710      </td><td>-0.5930326      </td><td> 1.9382105      </td><td>-0.3381146      </td><td> 0.1654862      </td><td>...             </td><td>n               </td><td>55              </td><td>59              </td><td>57              </td><td>fibroblast      </td><td>sendai          </td><td>kolf_2          </td><td>NA              </td><td>NA              </td><td>       NA       </td></tr>\n",
       "\t<tr><td>HPSI0114i-lexy_2</td><td>-1.8697387      </td><td>-0.2814033      </td><td> 0.2536161      </td><td>-1.1287278      </td><td>-3.5555038      </td><td> 2.8010046      </td><td>-0.7925098      </td><td>-0.1069578      </td><td> 1.0569644      </td><td>...             </td><td>n               </td><td>60              </td><td>64              </td><td>62              </td><td>fibroblast      </td><td>sendai          </td><td>lexy_2          </td><td>17              </td><td>32              </td><td>0.2292467       </td></tr>\n",
       "\t<tr><td>HPSI0114i-lexy_2</td><td>-1.8697387      </td><td>-0.2814033      </td><td> 0.2536161      </td><td>-1.1287278      </td><td>-3.5555038      </td><td> 2.8010046      </td><td>-0.7925098      </td><td>-0.1069578      </td><td> 1.0569644      </td><td>...             </td><td>n               </td><td>60              </td><td>64              </td><td>62              </td><td>fibroblast      </td><td>sendai          </td><td>lexy_2          </td><td>10              </td><td>34              </td><td>0.2292467       </td></tr>\n",
       "</tbody>\n",
       "</table>\n"
      ],
      "text/latex": [
       "\\begin{tabular}{r|lllllllllllllllllllllllllllll}\n",
       " index & PC1 & PC2 & PC3 & PC4 & PC5 & PC6 & PC7 & PC8 & PC9 & ... & feederfree & min\\_age & max\\_age & avg\\_age & origin\\_cell & reprogramming\\_method & cell\\_line & pool & passage\\_number & mean\\_x\\_chrom\\_ase\\\\\n",
       "\\hline\n",
       "\t HPSI0114i-bezi\\_3 &  0.8640814         & -4.3615592         & -1.0140034         &  0.5554230         & -2.8582352         &  1.9929279         & -2.3758218         &  1.7082123         & -1.2396886         & ...                & n                  & 60                 & 64                 & 62                 & fibroblast         & sendai             & bezi\\_3           & 10                 & 36                 & 0.2609075         \\\\\n",
       "\t HPSI0114i-eipl\\_1 & -1.5518218         &  1.5423131         &  0.3813373         &  2.8372367         & -0.6405574         & -2.2180370         &  0.1144922         &  1.6501426         &  1.1478090         & ...                & n                  & 40                 & 44                 & 42                 & fibroblast         & sendai             & eipl\\_1           &  1                 & 42                 & 0.1885190         \\\\\n",
       "\t HPSI0114i-fikt\\_3 & -4.7015776         &  3.2183940         &  6.9653800         & -1.1581377         &  2.9117338         &  3.4554263         &  6.7357086         &  5.9635670         & -3.7392240         & ...                & y                  & 50                 & 54                 & 52                 & fibroblast         & sendai             & fikt\\_3           & 14                 & 46                 &        NA         \\\\\n",
       "\t HPSI0114i-kolf\\_2 & -1.4465104         & -4.1859306         &  0.2489478         &  0.6072905         &  0.3416710         & -0.5930326         &  1.9382105         & -0.3381146         &  0.1654862         & ...                & n                  & 55                 & 59                 & 57                 & fibroblast         & sendai             & kolf\\_2           & NA                 & NA                 &        NA         \\\\\n",
       "\t HPSI0114i-lexy\\_2 & -1.8697387         & -0.2814033         &  0.2536161         & -1.1287278         & -3.5555038         &  2.8010046         & -0.7925098         & -0.1069578         &  1.0569644         & ...                & n                  & 60                 & 64                 & 62                 & fibroblast         & sendai             & lexy\\_2           & 17                 & 32                 & 0.2292467         \\\\\n",
       "\t HPSI0114i-lexy\\_2 & -1.8697387         & -0.2814033         &  0.2536161         & -1.1287278         & -3.5555038         &  2.8010046         & -0.7925098         & -0.1069578         &  1.0569644         & ...                & n                  & 60                 & 64                 & 62                 & fibroblast         & sendai             & lexy\\_2           & 10                 & 34                 & 0.2292467         \\\\\n",
       "\\end{tabular}\n"
      ],
      "text/markdown": [
       "\n",
       "| index | PC1 | PC2 | PC3 | PC4 | PC5 | PC6 | PC7 | PC8 | PC9 | ... | feederfree | min_age | max_age | avg_age | origin_cell | reprogramming_method | cell_line | pool | passage_number | mean_x_chrom_ase |\n",
       "|---|---|---|---|---|---|---|---|---|---|---|---|---|---|---|---|---|---|---|---|---|\n",
       "| HPSI0114i-bezi_3 |  0.8640814       | -4.3615592       | -1.0140034       |  0.5554230       | -2.8582352       |  1.9929279       | -2.3758218       |  1.7082123       | -1.2396886       | ...              | n                | 60               | 64               | 62               | fibroblast       | sendai           | bezi_3           | 10               | 36               | 0.2609075        |\n",
       "| HPSI0114i-eipl_1 | -1.5518218       |  1.5423131       |  0.3813373       |  2.8372367       | -0.6405574       | -2.2180370       |  0.1144922       |  1.6501426       |  1.1478090       | ...              | n                | 40               | 44               | 42               | fibroblast       | sendai           | eipl_1           |  1               | 42               | 0.1885190        |\n",
       "| HPSI0114i-fikt_3 | -4.7015776       |  3.2183940       |  6.9653800       | -1.1581377       |  2.9117338       |  3.4554263       |  6.7357086       |  5.9635670       | -3.7392240       | ...              | y                | 50               | 54               | 52               | fibroblast       | sendai           | fikt_3           | 14               | 46               |        NA        |\n",
       "| HPSI0114i-kolf_2 | -1.4465104       | -4.1859306       |  0.2489478       |  0.6072905       |  0.3416710       | -0.5930326       |  1.9382105       | -0.3381146       |  0.1654862       | ...              | n                | 55               | 59               | 57               | fibroblast       | sendai           | kolf_2           | NA               | NA               |        NA        |\n",
       "| HPSI0114i-lexy_2 | -1.8697387       | -0.2814033       |  0.2536161       | -1.1287278       | -3.5555038       |  2.8010046       | -0.7925098       | -0.1069578       |  1.0569644       | ...              | n                | 60               | 64               | 62               | fibroblast       | sendai           | lexy_2           | 17               | 32               | 0.2292467        |\n",
       "| HPSI0114i-lexy_2 | -1.8697387       | -0.2814033       |  0.2536161       | -1.1287278       | -3.5555038       |  2.8010046       | -0.7925098       | -0.1069578       |  1.0569644       | ...              | n                | 60               | 64               | 62               | fibroblast       | sendai           | lexy_2           | 10               | 34               | 0.2292467        |\n",
       "\n"
      ],
      "text/plain": [
       "  index            PC1        PC2        PC3        PC4        PC5       \n",
       "1 HPSI0114i-bezi_3  0.8640814 -4.3615592 -1.0140034  0.5554230 -2.8582352\n",
       "2 HPSI0114i-eipl_1 -1.5518218  1.5423131  0.3813373  2.8372367 -0.6405574\n",
       "3 HPSI0114i-fikt_3 -4.7015776  3.2183940  6.9653800 -1.1581377  2.9117338\n",
       "4 HPSI0114i-kolf_2 -1.4465104 -4.1859306  0.2489478  0.6072905  0.3416710\n",
       "5 HPSI0114i-lexy_2 -1.8697387 -0.2814033  0.2536161 -1.1287278 -3.5555038\n",
       "6 HPSI0114i-lexy_2 -1.8697387 -0.2814033  0.2536161 -1.1287278 -3.5555038\n",
       "  PC6        PC7        PC8        PC9        ... feederfree min_age max_age\n",
       "1  1.9929279 -2.3758218  1.7082123 -1.2396886 ... n          60      64     \n",
       "2 -2.2180370  0.1144922  1.6501426  1.1478090 ... n          40      44     \n",
       "3  3.4554263  6.7357086  5.9635670 -3.7392240 ... y          50      54     \n",
       "4 -0.5930326  1.9382105 -0.3381146  0.1654862 ... n          55      59     \n",
       "5  2.8010046 -0.7925098 -0.1069578  1.0569644 ... n          60      64     \n",
       "6  2.8010046 -0.7925098 -0.1069578  1.0569644 ... n          60      64     \n",
       "  avg_age origin_cell reprogramming_method cell_line pool passage_number\n",
       "1 62      fibroblast  sendai               bezi_3    10   36            \n",
       "2 42      fibroblast  sendai               eipl_1     1   42            \n",
       "3 52      fibroblast  sendai               fikt_3    14   46            \n",
       "4 57      fibroblast  sendai               kolf_2    NA   NA            \n",
       "5 62      fibroblast  sendai               lexy_2    17   32            \n",
       "6 62      fibroblast  sendai               lexy_2    10   34            \n",
       "  mean_x_chrom_ase\n",
       "1 0.2609075       \n",
       "2 0.1885190       \n",
       "3        NA       \n",
       "4        NA       \n",
       "5 0.2292467       \n",
       "6 0.2292467       "
      ]
     },
     "metadata": {},
     "output_type": "display_data"
    }
   ],
   "source": [
    "library(dplyr)\n",
    "df = inner_join(pcs, meta, by = \"donor_id\")\n",
    "nrow(df)\n",
    "head(df)"
   ]
  },
  {
   "cell_type": "code",
   "execution_count": 19,
   "metadata": {},
   "outputs": [],
   "source": [
    "## pool variance explained by PCs\n",
    "lm = lm(formula = pool ~ 1+PC1+PC2+PC3+PC4+PC5+PC6+PC7+PC8+PC9+PC10+PC11+PC12+PC13+PC14+PC15, data = df)"
   ]
  },
  {
   "cell_type": "code",
   "execution_count": 20,
   "metadata": {
    "scrolled": true
   },
   "outputs": [
    {
     "data": {
      "text/html": [
       "0.495598108985018"
      ],
      "text/latex": [
       "0.495598108985018"
      ],
      "text/markdown": [
       "0.495598108985018"
      ],
      "text/plain": [
       "[1] 0.4955981"
      ]
     },
     "metadata": {},
     "output_type": "display_data"
    }
   ],
   "source": [
    "# summary(lm)\n",
    "summary(lm)$r.squared"
   ]
  },
  {
   "cell_type": "code",
   "execution_count": 21,
   "metadata": {},
   "outputs": [
    {
     "data": {
      "text/html": [
       "0.566692025208996"
      ],
      "text/latex": [
       "0.566692025208996"
      ],
      "text/markdown": [
       "0.566692025208996"
      ],
      "text/plain": [
       "[1] 0.566692"
      ]
     },
     "metadata": {},
     "output_type": "display_data"
    }
   ],
   "source": [
    "df0 <- df[-which(duplicated(df$index)),]\n",
    "lm = lm(formula = pool ~ 1+PC1+PC2+PC3+PC4+PC5+PC6+PC7+PC8+PC9+PC10+PC11+PC12+PC13+PC14+PC15, data = df0)\n",
    "summary(lm)$r.squared"
   ]
  },
  {
   "cell_type": "code",
   "execution_count": null,
   "metadata": {},
   "outputs": [],
   "source": []
  },
  {
   "cell_type": "code",
   "execution_count": 14,
   "metadata": {},
   "outputs": [],
   "source": [
    "df$sex = NA\n",
    "df$sex[df$Gender == 'male'] = 0\n",
    "df$sex[df$Gender == 'female'] = 1"
   ]
  },
  {
   "cell_type": "code",
   "execution_count": 15,
   "metadata": {
    "scrolled": true
   },
   "outputs": [],
   "source": [
    "## sex variance explained by PCs\n",
    "lm = lm(formula = sex ~ 1+PC1+PC2+PC3+PC4+PC5+PC6+PC7+PC8+PC9+PC10+PC11+PC12+PC13+PC14+PC15, data = df)"
   ]
  },
  {
   "cell_type": "code",
   "execution_count": 16,
   "metadata": {},
   "outputs": [
    {
     "data": {
      "text/html": [
       "0.66898419279797"
      ],
      "text/latex": [
       "0.66898419279797"
      ],
      "text/markdown": [
       "0.66898419279797"
      ],
      "text/plain": [
       "[1] 0.6689842"
      ]
     },
     "metadata": {},
     "output_type": "display_data"
    }
   ],
   "source": [
    "# summary(lm)\n",
    "summary(lm)$r.squared"
   ]
  },
  {
   "cell_type": "code",
   "execution_count": 44,
   "metadata": {},
   "outputs": [],
   "source": [
    "## age variance explained by PCs\n",
    "lm = lm(formula = avg_age ~ 1+PC1+PC2+PC3+PC4+PC5+PC6+PC7+PC8+PC9+PC10+PC11+PC12+PC13+PC14+PC15, data = df)"
   ]
  },
  {
   "cell_type": "code",
   "execution_count": 45,
   "metadata": {},
   "outputs": [
    {
     "data": {
      "text/html": [
       "0.0902064566069662"
      ],
      "text/latex": [
       "0.0902064566069662"
      ],
      "text/markdown": [
       "0.0902064566069662"
      ],
      "text/plain": [
       "[1] 0.09020646"
      ]
     },
     "metadata": {},
     "output_type": "display_data"
    }
   ],
   "source": [
    "# summary(lm)\n",
    "summary(lm)$r.squared"
   ]
  },
  {
   "cell_type": "code",
   "execution_count": 46,
   "metadata": {},
   "outputs": [],
   "source": [
    "df$feeder_free = 0\n",
    "df$feeder_free[df$feederfree == 'y'] = 1"
   ]
  },
  {
   "cell_type": "code",
   "execution_count": 51,
   "metadata": {},
   "outputs": [],
   "source": [
    "## feeder variance explained by PCs\n",
    "lm = lm(formula = feeder_free ~ 1+PC1+PC2+PC3+PC4+PC5+PC6+PC7+PC8+PC9+PC10+PC11+PC12+PC13+PC14+PC15, data = df)\n",
    "# lm = glm(formula = feeder_free ~ 1+PC1+PC2+PC3+PC4+PC5+PC6+PC7+PC8+PC9+PC10+PC11+PC12+PC13+PC14+PC15, data = df, family = \"binomial\")"
   ]
  },
  {
   "cell_type": "code",
   "execution_count": 52,
   "metadata": {},
   "outputs": [
    {
     "data": {
      "text/html": [
       "0.300182132750491"
      ],
      "text/latex": [
       "0.300182132750491"
      ],
      "text/markdown": [
       "0.300182132750491"
      ],
      "text/plain": [
       "[1] 0.3001821"
      ]
     },
     "metadata": {},
     "output_type": "display_data"
    }
   ],
   "source": [
    "# summary(lm)\n",
    "summary(lm)$r.squared"
   ]
  },
  {
   "cell_type": "code",
   "execution_count": 53,
   "metadata": {},
   "outputs": [],
   "source": [
    "## XCI variance explained by PCs\n",
    "lm = lm(formula = mean_x_chrom_ase ~ PC1+PC2+PC3+PC4+PC5+PC6+PC7+PC8+PC9+PC10+PC11+PC12+PC13+PC14+PC15, data = df)"
   ]
  },
  {
   "cell_type": "code",
   "execution_count": 56,
   "metadata": {},
   "outputs": [
    {
     "data": {
      "text/html": [
       "0.775080991088548"
      ],
      "text/latex": [
       "0.775080991088548"
      ],
      "text/markdown": [
       "0.775080991088548"
      ],
      "text/plain": [
       "[1] 0.775081"
      ]
     },
     "metadata": {},
     "output_type": "display_data"
    }
   ],
   "source": [
    "# summary(lm)\n",
    "summary(lm)$r.squared"
   ]
  },
  {
   "cell_type": "code",
   "execution_count": null,
   "metadata": {},
   "outputs": [],
   "source": []
  }
 ],
 "metadata": {
  "kernelspec": {
   "display_name": "R",
   "language": "R",
   "name": "ir"
  },
  "language_info": {
   "codemirror_mode": "r",
   "file_extension": ".r",
   "mimetype": "text/x-r-source",
   "name": "R",
   "pygments_lexer": "r",
   "version": "3.6.1"
  }
 },
 "nbformat": 4,
 "nbformat_minor": 4
}
