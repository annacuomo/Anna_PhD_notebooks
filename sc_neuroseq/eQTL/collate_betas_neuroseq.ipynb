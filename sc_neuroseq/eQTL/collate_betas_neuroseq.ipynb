{
 "cells": [
  {
   "cell_type": "code",
   "execution_count": 15,
   "metadata": {},
   "outputs": [],
   "source": [
    "library(dplyr)"
   ]
  },
  {
   "cell_type": "code",
   "execution_count": 1,
   "metadata": {},
   "outputs": [],
   "source": [
    "neuroseq_dir = \"/hps/nobackup/hipsci/scratch/GTEx/MASHR_INPUT/TissueInput_SC/NeurSeq_v2/\""
   ]
  },
  {
   "cell_type": "code",
   "execution_count": 6,
   "metadata": {},
   "outputs": [
    {
     "data": {
      "text/html": [
       "<ol class=list-inline>\n",
       "\t<li>'iPSC.pool1_13_noddd_D11.FPP.beta.txt'</li>\n",
       "\t<li>'iPSC.pool1_13_noddd_D11.NB.beta.txt'</li>\n",
       "\t<li>'iPSC.pool1_13_noddd_D11.P_FPP.beta.txt'</li>\n",
       "\t<li>'iPSC.pool1_13_noddd_D30.Astro.beta.txt'</li>\n",
       "\t<li>'iPSC.pool1_13_noddd_D30.DA.beta.txt'</li>\n",
       "\t<li>'iPSC.pool1_13_noddd_D30.Epen1.beta.txt'</li>\n",
       "\t<li>'iPSC.pool1_13_noddd_D30.Sert.beta.txt'</li>\n",
       "\t<li>'iPSC.qtl_results_NONE_Astro_all.beta.txt'</li>\n",
       "\t<li>'iPSC.qtl_results_NONE_DA_all.beta.txt'</li>\n",
       "\t<li>'iPSC.qtl_results_NONE_Epen1_all.beta.txt'</li>\n",
       "\t<li>'iPSC.qtl_results_NONE_Sert_all.beta.txt'</li>\n",
       "\t<li>'iPSC.qtl_results_ROT_Astro_all.beta.txt'</li>\n",
       "\t<li>'iPSC.qtl_results_ROT_DA_all.beta.txt'</li>\n",
       "\t<li>'iPSC.qtl_results_ROT_Epen1_all.beta.txt'</li>\n",
       "\t<li>'iPSC.qtl_results_ROT_Sert_all.beta.txt'</li>\n",
       "</ol>\n"
      ],
      "text/latex": [
       "\\begin{enumerate*}\n",
       "\\item 'iPSC.pool1\\_13\\_noddd\\_D11.FPP.beta.txt'\n",
       "\\item 'iPSC.pool1\\_13\\_noddd\\_D11.NB.beta.txt'\n",
       "\\item 'iPSC.pool1\\_13\\_noddd\\_D11.P\\_FPP.beta.txt'\n",
       "\\item 'iPSC.pool1\\_13\\_noddd\\_D30.Astro.beta.txt'\n",
       "\\item 'iPSC.pool1\\_13\\_noddd\\_D30.DA.beta.txt'\n",
       "\\item 'iPSC.pool1\\_13\\_noddd\\_D30.Epen1.beta.txt'\n",
       "\\item 'iPSC.pool1\\_13\\_noddd\\_D30.Sert.beta.txt'\n",
       "\\item 'iPSC.qtl\\_results\\_NONE\\_Astro\\_all.beta.txt'\n",
       "\\item 'iPSC.qtl\\_results\\_NONE\\_DA\\_all.beta.txt'\n",
       "\\item 'iPSC.qtl\\_results\\_NONE\\_Epen1\\_all.beta.txt'\n",
       "\\item 'iPSC.qtl\\_results\\_NONE\\_Sert\\_all.beta.txt'\n",
       "\\item 'iPSC.qtl\\_results\\_ROT\\_Astro\\_all.beta.txt'\n",
       "\\item 'iPSC.qtl\\_results\\_ROT\\_DA\\_all.beta.txt'\n",
       "\\item 'iPSC.qtl\\_results\\_ROT\\_Epen1\\_all.beta.txt'\n",
       "\\item 'iPSC.qtl\\_results\\_ROT\\_Sert\\_all.beta.txt'\n",
       "\\end{enumerate*}\n"
      ],
      "text/markdown": [
       "1. 'iPSC.pool1_13_noddd_D11.FPP.beta.txt'\n",
       "2. 'iPSC.pool1_13_noddd_D11.NB.beta.txt'\n",
       "3. 'iPSC.pool1_13_noddd_D11.P_FPP.beta.txt'\n",
       "4. 'iPSC.pool1_13_noddd_D30.Astro.beta.txt'\n",
       "5. 'iPSC.pool1_13_noddd_D30.DA.beta.txt'\n",
       "6. 'iPSC.pool1_13_noddd_D30.Epen1.beta.txt'\n",
       "7. 'iPSC.pool1_13_noddd_D30.Sert.beta.txt'\n",
       "8. 'iPSC.qtl_results_NONE_Astro_all.beta.txt'\n",
       "9. 'iPSC.qtl_results_NONE_DA_all.beta.txt'\n",
       "10. 'iPSC.qtl_results_NONE_Epen1_all.beta.txt'\n",
       "11. 'iPSC.qtl_results_NONE_Sert_all.beta.txt'\n",
       "12. 'iPSC.qtl_results_ROT_Astro_all.beta.txt'\n",
       "13. 'iPSC.qtl_results_ROT_DA_all.beta.txt'\n",
       "14. 'iPSC.qtl_results_ROT_Epen1_all.beta.txt'\n",
       "15. 'iPSC.qtl_results_ROT_Sert_all.beta.txt'\n",
       "\n",
       "\n"
      ],
      "text/plain": [
       " [1] \"iPSC.pool1_13_noddd_D11.FPP.beta.txt\"    \n",
       " [2] \"iPSC.pool1_13_noddd_D11.NB.beta.txt\"     \n",
       " [3] \"iPSC.pool1_13_noddd_D11.P_FPP.beta.txt\"  \n",
       " [4] \"iPSC.pool1_13_noddd_D30.Astro.beta.txt\"  \n",
       " [5] \"iPSC.pool1_13_noddd_D30.DA.beta.txt\"     \n",
       " [6] \"iPSC.pool1_13_noddd_D30.Epen1.beta.txt\"  \n",
       " [7] \"iPSC.pool1_13_noddd_D30.Sert.beta.txt\"   \n",
       " [8] \"iPSC.qtl_results_NONE_Astro_all.beta.txt\"\n",
       " [9] \"iPSC.qtl_results_NONE_DA_all.beta.txt\"   \n",
       "[10] \"iPSC.qtl_results_NONE_Epen1_all.beta.txt\"\n",
       "[11] \"iPSC.qtl_results_NONE_Sert_all.beta.txt\" \n",
       "[12] \"iPSC.qtl_results_ROT_Astro_all.beta.txt\" \n",
       "[13] \"iPSC.qtl_results_ROT_DA_all.beta.txt\"    \n",
       "[14] \"iPSC.qtl_results_ROT_Epen1_all.beta.txt\" \n",
       "[15] \"iPSC.qtl_results_ROT_Sert_all.beta.txt\"  "
      ]
     },
     "metadata": {},
     "output_type": "display_data"
    }
   ],
   "source": [
    "myfiles = list.files(neuroseq_dir,\"beta.txt\")\n",
    "myfiles"
   ]
  },
  {
   "cell_type": "code",
   "execution_count": 8,
   "metadata": {},
   "outputs": [
    {
     "data": {
      "text/html": [
       "<table>\n",
       "<thead><tr><th scope=col>QTL</th><th scope=col>beta</th></tr></thead>\n",
       "<tbody>\n",
       "\t<tr><td>1_100000012_G_T-ENSG00000117620</td><td>0.003733488                    </td></tr>\n",
       "\t<tr><td>1_100000012_G_T-ENSG00000162688</td><td>0.014981286                    </td></tr>\n",
       "</tbody>\n",
       "</table>\n"
      ],
      "text/latex": [
       "\\begin{tabular}{r|ll}\n",
       " QTL & beta\\\\\n",
       "\\hline\n",
       "\t 1\\_100000012\\_G\\_T-ENSG00000117620 & 0.003733488                          \\\\\n",
       "\t 1\\_100000012\\_G\\_T-ENSG00000162688 & 0.014981286                          \\\\\n",
       "\\end{tabular}\n"
      ],
      "text/markdown": [
       "\n",
       "| QTL | beta |\n",
       "|---|---|\n",
       "| 1_100000012_G_T-ENSG00000117620 | 0.003733488                     |\n",
       "| 1_100000012_G_T-ENSG00000162688 | 0.014981286                     |\n",
       "\n"
      ],
      "text/plain": [
       "  QTL                             beta       \n",
       "1 1_100000012_G_T-ENSG00000117620 0.003733488\n",
       "2 1_100000012_G_T-ENSG00000162688 0.014981286"
      ]
     },
     "metadata": {},
     "output_type": "display_data"
    }
   ],
   "source": [
    "df = read.csv(paste0(neuroseq_dir,myfiles[1]), sep = \"\\t\")\n",
    "head(df,2)"
   ]
  },
  {
   "cell_type": "code",
   "execution_count": 10,
   "metadata": {},
   "outputs": [],
   "source": [
    "colnames(df)[2] = 'FPP_D11'"
   ]
  },
  {
   "cell_type": "code",
   "execution_count": 9,
   "metadata": {},
   "outputs": [
    {
     "data": {
      "text/html": [
       "<table>\n",
       "<thead><tr><th scope=col>QTL</th><th scope=col>beta</th></tr></thead>\n",
       "<tbody>\n",
       "\t<tr><td>1_100000012_G_T-ENSG00000117620</td><td>-0.04484672                    </td></tr>\n",
       "\t<tr><td>1_100000012_G_T-ENSG00000162688</td><td>-0.01255951                    </td></tr>\n",
       "</tbody>\n",
       "</table>\n"
      ],
      "text/latex": [
       "\\begin{tabular}{r|ll}\n",
       " QTL & beta\\\\\n",
       "\\hline\n",
       "\t 1\\_100000012\\_G\\_T-ENSG00000117620 & -0.04484672                          \\\\\n",
       "\t 1\\_100000012\\_G\\_T-ENSG00000162688 & -0.01255951                          \\\\\n",
       "\\end{tabular}\n"
      ],
      "text/markdown": [
       "\n",
       "| QTL | beta |\n",
       "|---|---|\n",
       "| 1_100000012_G_T-ENSG00000117620 | -0.04484672                     |\n",
       "| 1_100000012_G_T-ENSG00000162688 | -0.01255951                     |\n",
       "\n"
      ],
      "text/plain": [
       "  QTL                             beta       \n",
       "1 1_100000012_G_T-ENSG00000117620 -0.04484672\n",
       "2 1_100000012_G_T-ENSG00000162688 -0.01255951"
      ]
     },
     "metadata": {},
     "output_type": "display_data"
    }
   ],
   "source": [
    "df0 = read.csv(paste0(neuroseq_dir,myfiles[3]), sep = \"\\t\")\n",
    "head(df0,2)"
   ]
  },
  {
   "cell_type": "code",
   "execution_count": 11,
   "metadata": {},
   "outputs": [],
   "source": [
    "colnames(df0)[2] = 'P_FPP_D11'"
   ]
  },
  {
   "cell_type": "code",
   "execution_count": 26,
   "metadata": {},
   "outputs": [
    {
     "data": {
      "text/html": [
       "17226363"
      ],
      "text/latex": [
       "17226363"
      ],
      "text/markdown": [
       "17226363"
      ],
      "text/plain": [
       "[1] 17226363"
      ]
     },
     "metadata": {},
     "output_type": "display_data"
    },
    {
     "data": {
      "text/html": [
       "17380392"
      ],
      "text/latex": [
       "17380392"
      ],
      "text/markdown": [
       "17380392"
      ],
      "text/plain": [
       "[1] 17380392"
      ]
     },
     "metadata": {},
     "output_type": "display_data"
    }
   ],
   "source": [
    "nrow(df)\n",
    "nrow(df0)"
   ]
  },
  {
   "cell_type": "code",
   "execution_count": 27,
   "metadata": {},
   "outputs": [
    {
     "name": "stderr",
     "output_type": "stream",
     "text": [
      "Warning message:\n",
      "“Column `QTL` joining factors with different levels, coercing to character vector”"
     ]
    },
    {
     "data": {
      "text/html": [
       "17463075"
      ],
      "text/latex": [
       "17463075"
      ],
      "text/markdown": [
       "17463075"
      ],
      "text/plain": [
       "[1] 17463075"
      ]
     },
     "metadata": {},
     "output_type": "display_data"
    },
    {
     "data": {
      "text/html": [
       "<table>\n",
       "<thead><tr><th scope=col>QTL</th><th scope=col>FPP_D11</th><th scope=col>P_FPP_D11</th></tr></thead>\n",
       "<tbody>\n",
       "\t<tr><td>1_100000012_G_T-ENSG00000117620</td><td>0.003733488                    </td><td>-0.04484672                    </td></tr>\n",
       "\t<tr><td>1_100000012_G_T-ENSG00000162688</td><td>0.014981286                    </td><td>-0.01255951                    </td></tr>\n",
       "</tbody>\n",
       "</table>\n"
      ],
      "text/latex": [
       "\\begin{tabular}{r|lll}\n",
       " QTL & FPP\\_D11 & P\\_FPP\\_D11\\\\\n",
       "\\hline\n",
       "\t 1\\_100000012\\_G\\_T-ENSG00000117620 & 0.003733488                           & -0.04484672                          \\\\\n",
       "\t 1\\_100000012\\_G\\_T-ENSG00000162688 & 0.014981286                           & -0.01255951                          \\\\\n",
       "\\end{tabular}\n"
      ],
      "text/markdown": [
       "\n",
       "| QTL | FPP_D11 | P_FPP_D11 |\n",
       "|---|---|---|\n",
       "| 1_100000012_G_T-ENSG00000117620 | 0.003733488                     | -0.04484672                     |\n",
       "| 1_100000012_G_T-ENSG00000162688 | 0.014981286                     | -0.01255951                     |\n",
       "\n"
      ],
      "text/plain": [
       "  QTL                             FPP_D11     P_FPP_D11  \n",
       "1 1_100000012_G_T-ENSG00000117620 0.003733488 -0.04484672\n",
       "2 1_100000012_G_T-ENSG00000162688 0.014981286 -0.01255951"
      ]
     },
     "metadata": {},
     "output_type": "display_data"
    }
   ],
   "source": [
    "df1 = full_join(df,df0, by = \"QTL\")\n",
    "nrow(df1)\n",
    "head(df1,2)"
   ]
  },
  {
   "cell_type": "code",
   "execution_count": 33,
   "metadata": {},
   "outputs": [],
   "source": [
    "mynames = c(\"FPP_D11\",\"NB_D11\",\"P_FPP_D11\",\n",
    "           \"FPP_D30\",\"DA_D30\",\"Epen1_D30\",\"Sert_D30\",\n",
    "           \"Astro_D52\",\"DA_D52\",\"Epen1_D52\",\"Sert_D52\",\n",
    "           \"Astro_D52_ROT\",\"DA_D52_ROT\",\"Epen1_D52_ROT\",\"Sert_D52_ROT\")"
   ]
  },
  {
   "cell_type": "code",
   "execution_count": 35,
   "metadata": {},
   "outputs": [
    {
     "name": "stdout",
     "output_type": "stream",
     "text": [
      "[1] \"NB_D11\"\n"
     ]
    },
    {
     "name": "stderr",
     "output_type": "stream",
     "text": [
      "Warning message:\n",
      "“Column `QTL` joining factors with different levels, coercing to character vector”"
     ]
    },
    {
     "name": "stdout",
     "output_type": "stream",
     "text": [
      "[1] 17695500\n",
      "[1] \"P_FPP_D11\"\n"
     ]
    },
    {
     "name": "stderr",
     "output_type": "stream",
     "text": [
      "Warning message:\n",
      "“Column `QTL` joining character vector and factor, coercing into character vector”"
     ]
    },
    {
     "name": "stdout",
     "output_type": "stream",
     "text": [
      "[1] 17876020\n",
      "[1] \"FPP_D30\"\n"
     ]
    },
    {
     "name": "stderr",
     "output_type": "stream",
     "text": [
      "Warning message:\n",
      "“Column `QTL` joining character vector and factor, coercing into character vector”"
     ]
    },
    {
     "name": "stdout",
     "output_type": "stream",
     "text": [
      "[1] 18265095\n",
      "[1] \"DA_D30\"\n"
     ]
    },
    {
     "name": "stderr",
     "output_type": "stream",
     "text": [
      "Warning message:\n",
      "“Column `QTL` joining character vector and factor, coercing into character vector”"
     ]
    },
    {
     "name": "stdout",
     "output_type": "stream",
     "text": [
      "[1] 18363450\n",
      "[1] \"Epen1_D30\"\n"
     ]
    },
    {
     "name": "stderr",
     "output_type": "stream",
     "text": [
      "Warning message:\n",
      "“Column `QTL` joining character vector and factor, coercing into character vector”"
     ]
    },
    {
     "name": "stdout",
     "output_type": "stream",
     "text": [
      "[1] 18617098\n",
      "[1] \"Sert_D30\"\n"
     ]
    },
    {
     "name": "stderr",
     "output_type": "stream",
     "text": [
      "Warning message:\n",
      "“Column `QTL` joining character vector and factor, coercing into character vector”"
     ]
    },
    {
     "name": "stdout",
     "output_type": "stream",
     "text": [
      "[1] 18708204\n",
      "[1] \"Astro_D52\"\n"
     ]
    },
    {
     "name": "stderr",
     "output_type": "stream",
     "text": [
      "Warning message:\n",
      "“Column `QTL` joining character vector and factor, coercing into character vector”"
     ]
    },
    {
     "name": "stdout",
     "output_type": "stream",
     "text": [
      "[1] 18786784\n",
      "[1] \"DA_D52\"\n"
     ]
    },
    {
     "name": "stderr",
     "output_type": "stream",
     "text": [
      "Warning message:\n",
      "“Column `QTL` joining character vector and factor, coercing into character vector”"
     ]
    },
    {
     "name": "stdout",
     "output_type": "stream",
     "text": [
      "[1] 18860580\n",
      "[1] \"Epen1_D52\"\n"
     ]
    },
    {
     "name": "stderr",
     "output_type": "stream",
     "text": [
      "Warning message:\n",
      "“Column `QTL` joining character vector and factor, coercing into character vector”"
     ]
    },
    {
     "name": "stdout",
     "output_type": "stream",
     "text": [
      "[1] 18897961\n",
      "[1] \"Sert_D52\"\n"
     ]
    },
    {
     "name": "stderr",
     "output_type": "stream",
     "text": [
      "Warning message:\n",
      "“Column `QTL` joining character vector and factor, coercing into character vector”"
     ]
    },
    {
     "name": "stdout",
     "output_type": "stream",
     "text": [
      "[1] 18996366\n",
      "[1] \"Astro_D52_ROT\"\n"
     ]
    },
    {
     "name": "stderr",
     "output_type": "stream",
     "text": [
      "Warning message:\n",
      "“Column `QTL` joining character vector and factor, coercing into character vector”"
     ]
    },
    {
     "name": "stdout",
     "output_type": "stream",
     "text": [
      "[1] 19056238\n",
      "[1] \"DA_D52_ROT\"\n"
     ]
    },
    {
     "name": "stderr",
     "output_type": "stream",
     "text": [
      "Warning message:\n",
      "“Column `QTL` joining character vector and factor, coercing into character vector”"
     ]
    },
    {
     "name": "stdout",
     "output_type": "stream",
     "text": [
      "[1] 19060754\n",
      "[1] \"Epen1_D52_ROT\"\n"
     ]
    },
    {
     "name": "stderr",
     "output_type": "stream",
     "text": [
      "Warning message:\n",
      "“Column `QTL` joining character vector and factor, coercing into character vector”"
     ]
    },
    {
     "name": "stdout",
     "output_type": "stream",
     "text": [
      "[1] 19062633\n",
      "[1] \"Sert_D52_ROT\"\n"
     ]
    },
    {
     "name": "stderr",
     "output_type": "stream",
     "text": [
      "Warning message:\n",
      "“Column `QTL` joining character vector and factor, coercing into character vector”"
     ]
    },
    {
     "name": "stdout",
     "output_type": "stream",
     "text": [
      "[1] 19073733\n"
     ]
    }
   ],
   "source": [
    "for (i in 2:length(myfiles)){\n",
    "    df0 = read.csv(paste0(neuroseq_dir,myfiles[i]), sep = \"\\t\")\n",
    "    colnames(df0)[2] = mynames[i]\n",
    "    print(mynames[i])\n",
    "    df = full_join(df,df0, by = \"QTL\")\n",
    "    print(nrow(df))\n",
    "}"
   ]
  },
  {
   "cell_type": "code",
   "execution_count": 36,
   "metadata": {},
   "outputs": [
    {
     "data": {
      "text/html": [
       "<table>\n",
       "<thead><tr><th scope=col>QTL</th><th scope=col>FPP_D11</th><th scope=col>NB_D11</th><th scope=col>P_FPP_D11</th><th scope=col>FPP_D30</th><th scope=col>DA_D30</th><th scope=col>Epen1_D30</th><th scope=col>Sert_D30</th><th scope=col>Astro_D52</th><th scope=col>DA_D52</th><th scope=col>Epen1_D52</th><th scope=col>Sert_D52</th><th scope=col>Astro_D52_ROT</th><th scope=col>DA_D52_ROT</th><th scope=col>Epen1_D52_ROT</th><th scope=col>Sert_D52_ROT</th></tr></thead>\n",
       "<tbody>\n",
       "\t<tr><td>1_100000012_G_T-ENSG00000117620</td><td>0.003733488                    </td><td>-0.16763392                    </td><td>-0.04484672                    </td><td>-0.06701619                    </td><td> 0.004470747                   </td><td> 0.050823625                   </td><td>-0.018127087                   </td><td>0.11503736                     </td><td>0.009613173                    </td><td> 0.07458330                    </td><td> 0.034153967                   </td><td> 0.031366311                   </td><td>-0.02870009                    </td><td>-0.04608305                    </td><td>-0.02869762                    </td></tr>\n",
       "\t<tr><td>1_100000012_G_T-ENSG00000162688</td><td>0.014981286                    </td><td>-0.03836986                    </td><td>-0.01255951                    </td><td>-0.04899305                    </td><td>-0.077834444                   </td><td> 0.022358730                   </td><td> 0.004286837                   </td><td>0.08531304                     </td><td>0.015302154                    </td><td> 0.07503926                    </td><td> 0.063938439                   </td><td> 0.036313340                   </td><td> 0.07747842                    </td><td> 0.10994430                    </td><td>-0.10938893                    </td></tr>\n",
       "\t<tr><td>1_100000827_C_T-ENSG00000117620</td><td>0.038008685                    </td><td>-0.28188004                    </td><td>-0.03713182                    </td><td>-0.04476666                    </td><td> 0.009709420                   </td><td> 0.058582001                   </td><td>-0.049702296                   </td><td>0.01029236                     </td><td>0.022937528                    </td><td> 0.06998245                    </td><td> 0.020804101                   </td><td> 0.012615325                   </td><td>-0.05852517                    </td><td>-0.01296488                    </td><td>-0.04398115                    </td></tr>\n",
       "\t<tr><td>1_100000827_C_T-ENSG00000162688</td><td>0.028734773                    </td><td>-0.12406424                    </td><td>-0.02400545                    </td><td>-0.05881232                    </td><td>-0.055653810                   </td><td>-0.031849387                   </td><td> 0.030958801                   </td><td>0.12295515                     </td><td>0.026992971                    </td><td> 0.03430386                    </td><td> 0.006075979                   </td><td>-0.001886255                   </td><td> 0.06748032                    </td><td> 0.05801604                    </td><td>-0.08382679                    </td></tr>\n",
       "\t<tr><td>1_100000843_T_C-ENSG00000117620</td><td>0.106098651                    </td><td>-0.28298535                    </td><td> 0.04829843                    </td><td> 0.11849477                    </td><td> 0.019096011                   </td><td>-0.001322619                   </td><td>-0.113561603                   </td><td>        NA                     </td><td>0.038367766                    </td><td>-0.05218642                    </td><td>-0.069689569                   </td><td>-0.049372059                   </td><td>-0.09052682                    </td><td> 0.12148572                    </td><td>-0.04031355                    </td></tr>\n",
       "\t<tr><td>1_100000843_T_C-ENSG00000162688</td><td>0.037057395                    </td><td>-0.25716698                    </td><td>-0.03600583                    </td><td>-0.01392734                    </td><td> 0.114411779                   </td><td>-0.175277863                   </td><td> 0.092231179                   </td><td>        NA                     </td><td>0.033289992                    </td><td>-0.15673689                    </td><td>-0.185846391                   </td><td>-0.090876308                   </td><td>-0.02254362                    </td><td>-0.20106291                    </td><td> 0.08886983                    </td></tr>\n",
       "</tbody>\n",
       "</table>\n"
      ],
      "text/latex": [
       "\\begin{tabular}{r|llllllllllllllll}\n",
       " QTL & FPP\\_D11 & NB\\_D11 & P\\_FPP\\_D11 & FPP\\_D30 & DA\\_D30 & Epen1\\_D30 & Sert\\_D30 & Astro\\_D52 & DA\\_D52 & Epen1\\_D52 & Sert\\_D52 & Astro\\_D52\\_ROT & DA\\_D52\\_ROT & Epen1\\_D52\\_ROT & Sert\\_D52\\_ROT\\\\\n",
       "\\hline\n",
       "\t 1\\_100000012\\_G\\_T-ENSG00000117620 & 0.003733488                           & -0.16763392                           & -0.04484672                           & -0.06701619                           &  0.004470747                          &  0.050823625                          & -0.018127087                          & 0.11503736                            & 0.009613173                           &  0.07458330                           &  0.034153967                          &  0.031366311                          & -0.02870009                           & -0.04608305                           & -0.02869762                          \\\\\n",
       "\t 1\\_100000012\\_G\\_T-ENSG00000162688 & 0.014981286                           & -0.03836986                           & -0.01255951                           & -0.04899305                           & -0.077834444                          &  0.022358730                          &  0.004286837                          & 0.08531304                            & 0.015302154                           &  0.07503926                           &  0.063938439                          &  0.036313340                          &  0.07747842                           &  0.10994430                           & -0.10938893                          \\\\\n",
       "\t 1\\_100000827\\_C\\_T-ENSG00000117620 & 0.038008685                           & -0.28188004                           & -0.03713182                           & -0.04476666                           &  0.009709420                          &  0.058582001                          & -0.049702296                          & 0.01029236                            & 0.022937528                           &  0.06998245                           &  0.020804101                          &  0.012615325                          & -0.05852517                           & -0.01296488                           & -0.04398115                          \\\\\n",
       "\t 1\\_100000827\\_C\\_T-ENSG00000162688 & 0.028734773                           & -0.12406424                           & -0.02400545                           & -0.05881232                           & -0.055653810                          & -0.031849387                          &  0.030958801                          & 0.12295515                            & 0.026992971                           &  0.03430386                           &  0.006075979                          & -0.001886255                          &  0.06748032                           &  0.05801604                           & -0.08382679                          \\\\\n",
       "\t 1\\_100000843\\_T\\_C-ENSG00000117620 & 0.106098651                           & -0.28298535                           &  0.04829843                           &  0.11849477                           &  0.019096011                          & -0.001322619                          & -0.113561603                          &         NA                            & 0.038367766                           & -0.05218642                           & -0.069689569                          & -0.049372059                          & -0.09052682                           &  0.12148572                           & -0.04031355                          \\\\\n",
       "\t 1\\_100000843\\_T\\_C-ENSG00000162688 & 0.037057395                           & -0.25716698                           & -0.03600583                           & -0.01392734                           &  0.114411779                          & -0.175277863                          &  0.092231179                          &         NA                            & 0.033289992                           & -0.15673689                           & -0.185846391                          & -0.090876308                          & -0.02254362                           & -0.20106291                           &  0.08886983                          \\\\\n",
       "\\end{tabular}\n"
      ],
      "text/markdown": [
       "\n",
       "| QTL | FPP_D11 | NB_D11 | P_FPP_D11 | FPP_D30 | DA_D30 | Epen1_D30 | Sert_D30 | Astro_D52 | DA_D52 | Epen1_D52 | Sert_D52 | Astro_D52_ROT | DA_D52_ROT | Epen1_D52_ROT | Sert_D52_ROT |\n",
       "|---|---|---|---|---|---|---|---|---|---|---|---|---|---|---|---|\n",
       "| 1_100000012_G_T-ENSG00000117620 | 0.003733488                     | -0.16763392                     | -0.04484672                     | -0.06701619                     |  0.004470747                    |  0.050823625                    | -0.018127087                    | 0.11503736                      | 0.009613173                     |  0.07458330                     |  0.034153967                    |  0.031366311                    | -0.02870009                     | -0.04608305                     | -0.02869762                     |\n",
       "| 1_100000012_G_T-ENSG00000162688 | 0.014981286                     | -0.03836986                     | -0.01255951                     | -0.04899305                     | -0.077834444                    |  0.022358730                    |  0.004286837                    | 0.08531304                      | 0.015302154                     |  0.07503926                     |  0.063938439                    |  0.036313340                    |  0.07747842                     |  0.10994430                     | -0.10938893                     |\n",
       "| 1_100000827_C_T-ENSG00000117620 | 0.038008685                     | -0.28188004                     | -0.03713182                     | -0.04476666                     |  0.009709420                    |  0.058582001                    | -0.049702296                    | 0.01029236                      | 0.022937528                     |  0.06998245                     |  0.020804101                    |  0.012615325                    | -0.05852517                     | -0.01296488                     | -0.04398115                     |\n",
       "| 1_100000827_C_T-ENSG00000162688 | 0.028734773                     | -0.12406424                     | -0.02400545                     | -0.05881232                     | -0.055653810                    | -0.031849387                    |  0.030958801                    | 0.12295515                      | 0.026992971                     |  0.03430386                     |  0.006075979                    | -0.001886255                    |  0.06748032                     |  0.05801604                     | -0.08382679                     |\n",
       "| 1_100000843_T_C-ENSG00000117620 | 0.106098651                     | -0.28298535                     |  0.04829843                     |  0.11849477                     |  0.019096011                    | -0.001322619                    | -0.113561603                    |         NA                      | 0.038367766                     | -0.05218642                     | -0.069689569                    | -0.049372059                    | -0.09052682                     |  0.12148572                     | -0.04031355                     |\n",
       "| 1_100000843_T_C-ENSG00000162688 | 0.037057395                     | -0.25716698                     | -0.03600583                     | -0.01392734                     |  0.114411779                    | -0.175277863                    |  0.092231179                    |         NA                      | 0.033289992                     | -0.15673689                     | -0.185846391                    | -0.090876308                    | -0.02254362                     | -0.20106291                     |  0.08886983                     |\n",
       "\n"
      ],
      "text/plain": [
       "  QTL                             FPP_D11     NB_D11      P_FPP_D11  \n",
       "1 1_100000012_G_T-ENSG00000117620 0.003733488 -0.16763392 -0.04484672\n",
       "2 1_100000012_G_T-ENSG00000162688 0.014981286 -0.03836986 -0.01255951\n",
       "3 1_100000827_C_T-ENSG00000117620 0.038008685 -0.28188004 -0.03713182\n",
       "4 1_100000827_C_T-ENSG00000162688 0.028734773 -0.12406424 -0.02400545\n",
       "5 1_100000843_T_C-ENSG00000117620 0.106098651 -0.28298535  0.04829843\n",
       "6 1_100000843_T_C-ENSG00000162688 0.037057395 -0.25716698 -0.03600583\n",
       "  FPP_D30     DA_D30       Epen1_D30    Sert_D30     Astro_D52  DA_D52     \n",
       "1 -0.06701619  0.004470747  0.050823625 -0.018127087 0.11503736 0.009613173\n",
       "2 -0.04899305 -0.077834444  0.022358730  0.004286837 0.08531304 0.015302154\n",
       "3 -0.04476666  0.009709420  0.058582001 -0.049702296 0.01029236 0.022937528\n",
       "4 -0.05881232 -0.055653810 -0.031849387  0.030958801 0.12295515 0.026992971\n",
       "5  0.11849477  0.019096011 -0.001322619 -0.113561603         NA 0.038367766\n",
       "6 -0.01392734  0.114411779 -0.175277863  0.092231179         NA 0.033289992\n",
       "  Epen1_D52   Sert_D52     Astro_D52_ROT DA_D52_ROT  Epen1_D52_ROT Sert_D52_ROT\n",
       "1  0.07458330  0.034153967  0.031366311  -0.02870009 -0.04608305   -0.02869762 \n",
       "2  0.07503926  0.063938439  0.036313340   0.07747842  0.10994430   -0.10938893 \n",
       "3  0.06998245  0.020804101  0.012615325  -0.05852517 -0.01296488   -0.04398115 \n",
       "4  0.03430386  0.006075979 -0.001886255   0.06748032  0.05801604   -0.08382679 \n",
       "5 -0.05218642 -0.069689569 -0.049372059  -0.09052682  0.12148572   -0.04031355 \n",
       "6 -0.15673689 -0.185846391 -0.090876308  -0.02254362 -0.20106291    0.08886983 "
      ]
     },
     "metadata": {},
     "output_type": "display_data"
    }
   ],
   "source": [
    "head(df)"
   ]
  },
  {
   "cell_type": "code",
   "execution_count": 37,
   "metadata": {},
   "outputs": [],
   "source": [
    "write.csv(df, \"/hps/nobackup/stegle/users/acuomo/all_scripts/sc_neuroseq/eqtl/all_eqtl_betas.csv\")"
   ]
  },
  {
   "cell_type": "code",
   "execution_count": 38,
   "metadata": {},
   "outputs": [
    {
     "data": {
      "text/html": [
       "<ol class=list-inline>\n",
       "\t<li>'iPSC.pool1_13_noddd_D11.FPP.beta_se.txt'</li>\n",
       "\t<li>'iPSC.pool1_13_noddd_D11.NB.beta_se.txt'</li>\n",
       "\t<li>'iPSC.pool1_13_noddd_D11.P_FPP.beta_se.txt'</li>\n",
       "\t<li>'iPSC.pool1_13_noddd_D30.Astro.beta_se.txt'</li>\n",
       "\t<li>'iPSC.pool1_13_noddd_D30.DA.beta_se.txt'</li>\n",
       "\t<li>'iPSC.pool1_13_noddd_D30.Epen1.beta_se.txt'</li>\n",
       "\t<li>'iPSC.pool1_13_noddd_D30.Sert.beta_se.txt'</li>\n",
       "\t<li>'iPSC.qtl_results_NONE_Astro_all.beta_se.txt'</li>\n",
       "\t<li>'iPSC.qtl_results_NONE_DA_all.beta_se.txt'</li>\n",
       "\t<li>'iPSC.qtl_results_NONE_Epen1_all.beta_se.txt'</li>\n",
       "\t<li>'iPSC.qtl_results_NONE_Sert_all.beta_se.txt'</li>\n",
       "\t<li>'iPSC.qtl_results_ROT_Astro_all.beta_se.txt'</li>\n",
       "\t<li>'iPSC.qtl_results_ROT_DA_all.beta_se.txt'</li>\n",
       "\t<li>'iPSC.qtl_results_ROT_Epen1_all.beta_se.txt'</li>\n",
       "\t<li>'iPSC.qtl_results_ROT_Sert_all.beta_se.txt'</li>\n",
       "</ol>\n"
      ],
      "text/latex": [
       "\\begin{enumerate*}\n",
       "\\item 'iPSC.pool1\\_13\\_noddd\\_D11.FPP.beta\\_se.txt'\n",
       "\\item 'iPSC.pool1\\_13\\_noddd\\_D11.NB.beta\\_se.txt'\n",
       "\\item 'iPSC.pool1\\_13\\_noddd\\_D11.P\\_FPP.beta\\_se.txt'\n",
       "\\item 'iPSC.pool1\\_13\\_noddd\\_D30.Astro.beta\\_se.txt'\n",
       "\\item 'iPSC.pool1\\_13\\_noddd\\_D30.DA.beta\\_se.txt'\n",
       "\\item 'iPSC.pool1\\_13\\_noddd\\_D30.Epen1.beta\\_se.txt'\n",
       "\\item 'iPSC.pool1\\_13\\_noddd\\_D30.Sert.beta\\_se.txt'\n",
       "\\item 'iPSC.qtl\\_results\\_NONE\\_Astro\\_all.beta\\_se.txt'\n",
       "\\item 'iPSC.qtl\\_results\\_NONE\\_DA\\_all.beta\\_se.txt'\n",
       "\\item 'iPSC.qtl\\_results\\_NONE\\_Epen1\\_all.beta\\_se.txt'\n",
       "\\item 'iPSC.qtl\\_results\\_NONE\\_Sert\\_all.beta\\_se.txt'\n",
       "\\item 'iPSC.qtl\\_results\\_ROT\\_Astro\\_all.beta\\_se.txt'\n",
       "\\item 'iPSC.qtl\\_results\\_ROT\\_DA\\_all.beta\\_se.txt'\n",
       "\\item 'iPSC.qtl\\_results\\_ROT\\_Epen1\\_all.beta\\_se.txt'\n",
       "\\item 'iPSC.qtl\\_results\\_ROT\\_Sert\\_all.beta\\_se.txt'\n",
       "\\end{enumerate*}\n"
      ],
      "text/markdown": [
       "1. 'iPSC.pool1_13_noddd_D11.FPP.beta_se.txt'\n",
       "2. 'iPSC.pool1_13_noddd_D11.NB.beta_se.txt'\n",
       "3. 'iPSC.pool1_13_noddd_D11.P_FPP.beta_se.txt'\n",
       "4. 'iPSC.pool1_13_noddd_D30.Astro.beta_se.txt'\n",
       "5. 'iPSC.pool1_13_noddd_D30.DA.beta_se.txt'\n",
       "6. 'iPSC.pool1_13_noddd_D30.Epen1.beta_se.txt'\n",
       "7. 'iPSC.pool1_13_noddd_D30.Sert.beta_se.txt'\n",
       "8. 'iPSC.qtl_results_NONE_Astro_all.beta_se.txt'\n",
       "9. 'iPSC.qtl_results_NONE_DA_all.beta_se.txt'\n",
       "10. 'iPSC.qtl_results_NONE_Epen1_all.beta_se.txt'\n",
       "11. 'iPSC.qtl_results_NONE_Sert_all.beta_se.txt'\n",
       "12. 'iPSC.qtl_results_ROT_Astro_all.beta_se.txt'\n",
       "13. 'iPSC.qtl_results_ROT_DA_all.beta_se.txt'\n",
       "14. 'iPSC.qtl_results_ROT_Epen1_all.beta_se.txt'\n",
       "15. 'iPSC.qtl_results_ROT_Sert_all.beta_se.txt'\n",
       "\n",
       "\n"
      ],
      "text/plain": [
       " [1] \"iPSC.pool1_13_noddd_D11.FPP.beta_se.txt\"    \n",
       " [2] \"iPSC.pool1_13_noddd_D11.NB.beta_se.txt\"     \n",
       " [3] \"iPSC.pool1_13_noddd_D11.P_FPP.beta_se.txt\"  \n",
       " [4] \"iPSC.pool1_13_noddd_D30.Astro.beta_se.txt\"  \n",
       " [5] \"iPSC.pool1_13_noddd_D30.DA.beta_se.txt\"     \n",
       " [6] \"iPSC.pool1_13_noddd_D30.Epen1.beta_se.txt\"  \n",
       " [7] \"iPSC.pool1_13_noddd_D30.Sert.beta_se.txt\"   \n",
       " [8] \"iPSC.qtl_results_NONE_Astro_all.beta_se.txt\"\n",
       " [9] \"iPSC.qtl_results_NONE_DA_all.beta_se.txt\"   \n",
       "[10] \"iPSC.qtl_results_NONE_Epen1_all.beta_se.txt\"\n",
       "[11] \"iPSC.qtl_results_NONE_Sert_all.beta_se.txt\" \n",
       "[12] \"iPSC.qtl_results_ROT_Astro_all.beta_se.txt\" \n",
       "[13] \"iPSC.qtl_results_ROT_DA_all.beta_se.txt\"    \n",
       "[14] \"iPSC.qtl_results_ROT_Epen1_all.beta_se.txt\" \n",
       "[15] \"iPSC.qtl_results_ROT_Sert_all.beta_se.txt\"  "
      ]
     },
     "metadata": {},
     "output_type": "display_data"
    }
   ],
   "source": [
    "myfiles = list.files(neuroseq_dir,\"beta_se.txt\")\n",
    "myfiles"
   ]
  },
  {
   "cell_type": "code",
   "execution_count": 40,
   "metadata": {},
   "outputs": [
    {
     "data": {
      "text/html": [
       "<table>\n",
       "<thead><tr><th scope=col>QTL</th><th scope=col>FPP_D11</th></tr></thead>\n",
       "<tbody>\n",
       "\t<tr><td>1_100000012_G_T-ENSG00000117620</td><td>0.05571716                     </td></tr>\n",
       "\t<tr><td>1_100000012_G_T-ENSG00000162688</td><td>0.04912229                     </td></tr>\n",
       "</tbody>\n",
       "</table>\n"
      ],
      "text/latex": [
       "\\begin{tabular}{r|ll}\n",
       " QTL & FPP\\_D11\\\\\n",
       "\\hline\n",
       "\t 1\\_100000012\\_G\\_T-ENSG00000117620 & 0.05571716                           \\\\\n",
       "\t 1\\_100000012\\_G\\_T-ENSG00000162688 & 0.04912229                           \\\\\n",
       "\\end{tabular}\n"
      ],
      "text/markdown": [
       "\n",
       "| QTL | FPP_D11 |\n",
       "|---|---|\n",
       "| 1_100000012_G_T-ENSG00000117620 | 0.05571716                      |\n",
       "| 1_100000012_G_T-ENSG00000162688 | 0.04912229                      |\n",
       "\n"
      ],
      "text/plain": [
       "  QTL                             FPP_D11   \n",
       "1 1_100000012_G_T-ENSG00000117620 0.05571716\n",
       "2 1_100000012_G_T-ENSG00000162688 0.04912229"
      ]
     },
     "metadata": {},
     "output_type": "display_data"
    }
   ],
   "source": [
    "df = read.csv(paste0(neuroseq_dir,myfiles[1]), sep = \"\\t\")\n",
    "colnames(df)[2] = mynames[1]\n",
    "head(df,2)"
   ]
  },
  {
   "cell_type": "code",
   "execution_count": 41,
   "metadata": {},
   "outputs": [
    {
     "name": "stdout",
     "output_type": "stream",
     "text": [
      "[1] \"NB_D11\"\n"
     ]
    },
    {
     "name": "stderr",
     "output_type": "stream",
     "text": [
      "Warning message:\n",
      "“Column `QTL` joining factors with different levels, coercing to character vector”"
     ]
    },
    {
     "name": "stdout",
     "output_type": "stream",
     "text": [
      "[1] 17695500\n",
      "[1] \"P_FPP_D11\"\n"
     ]
    },
    {
     "name": "stderr",
     "output_type": "stream",
     "text": [
      "Warning message:\n",
      "“Column `QTL` joining character vector and factor, coercing into character vector”"
     ]
    },
    {
     "name": "stdout",
     "output_type": "stream",
     "text": [
      "[1] 17876020\n",
      "[1] \"FPP_D30\"\n"
     ]
    },
    {
     "name": "stderr",
     "output_type": "stream",
     "text": [
      "Warning message:\n",
      "“Column `QTL` joining character vector and factor, coercing into character vector”"
     ]
    },
    {
     "name": "stdout",
     "output_type": "stream",
     "text": [
      "[1] 18265095\n",
      "[1] \"DA_D30\"\n"
     ]
    },
    {
     "name": "stderr",
     "output_type": "stream",
     "text": [
      "Warning message:\n",
      "“Column `QTL` joining character vector and factor, coercing into character vector”"
     ]
    },
    {
     "name": "stdout",
     "output_type": "stream",
     "text": [
      "[1] 18363450\n",
      "[1] \"Epen1_D30\"\n"
     ]
    },
    {
     "name": "stderr",
     "output_type": "stream",
     "text": [
      "Warning message:\n",
      "“Column `QTL` joining character vector and factor, coercing into character vector”"
     ]
    },
    {
     "name": "stdout",
     "output_type": "stream",
     "text": [
      "[1] 18617098\n",
      "[1] \"Sert_D30\"\n"
     ]
    },
    {
     "name": "stderr",
     "output_type": "stream",
     "text": [
      "Warning message:\n",
      "“Column `QTL` joining character vector and factor, coercing into character vector”"
     ]
    },
    {
     "name": "stdout",
     "output_type": "stream",
     "text": [
      "[1] 18708204\n",
      "[1] \"Astro_D52\"\n"
     ]
    },
    {
     "name": "stderr",
     "output_type": "stream",
     "text": [
      "Warning message:\n",
      "“Column `QTL` joining character vector and factor, coercing into character vector”"
     ]
    },
    {
     "name": "stdout",
     "output_type": "stream",
     "text": [
      "[1] 18786784\n",
      "[1] \"DA_D52\"\n"
     ]
    },
    {
     "name": "stderr",
     "output_type": "stream",
     "text": [
      "Warning message:\n",
      "“Column `QTL` joining character vector and factor, coercing into character vector”"
     ]
    },
    {
     "name": "stdout",
     "output_type": "stream",
     "text": [
      "[1] 18860580\n",
      "[1] \"Epen1_D52\"\n"
     ]
    },
    {
     "name": "stderr",
     "output_type": "stream",
     "text": [
      "Warning message:\n",
      "“Column `QTL` joining character vector and factor, coercing into character vector”"
     ]
    },
    {
     "name": "stdout",
     "output_type": "stream",
     "text": [
      "[1] 18897961\n",
      "[1] \"Sert_D52\"\n"
     ]
    },
    {
     "name": "stderr",
     "output_type": "stream",
     "text": [
      "Warning message:\n",
      "“Column `QTL` joining character vector and factor, coercing into character vector”"
     ]
    },
    {
     "name": "stdout",
     "output_type": "stream",
     "text": [
      "[1] 18996366\n",
      "[1] \"Astro_D52_ROT\"\n"
     ]
    },
    {
     "name": "stderr",
     "output_type": "stream",
     "text": [
      "Warning message:\n",
      "“Column `QTL` joining character vector and factor, coercing into character vector”"
     ]
    },
    {
     "name": "stdout",
     "output_type": "stream",
     "text": [
      "[1] 19056238\n",
      "[1] \"DA_D52_ROT\"\n"
     ]
    },
    {
     "name": "stderr",
     "output_type": "stream",
     "text": [
      "Warning message:\n",
      "“Column `QTL` joining character vector and factor, coercing into character vector”"
     ]
    },
    {
     "name": "stdout",
     "output_type": "stream",
     "text": [
      "[1] 19060754\n",
      "[1] \"Epen1_D52_ROT\"\n"
     ]
    },
    {
     "name": "stderr",
     "output_type": "stream",
     "text": [
      "Warning message:\n",
      "“Column `QTL` joining character vector and factor, coercing into character vector”"
     ]
    },
    {
     "name": "stdout",
     "output_type": "stream",
     "text": [
      "[1] 19062633\n",
      "[1] \"Sert_D52_ROT\"\n"
     ]
    },
    {
     "name": "stderr",
     "output_type": "stream",
     "text": [
      "Warning message:\n",
      "“Column `QTL` joining character vector and factor, coercing into character vector”"
     ]
    },
    {
     "name": "stdout",
     "output_type": "stream",
     "text": [
      "[1] 19073733\n"
     ]
    }
   ],
   "source": [
    "for (i in 2:length(myfiles)){\n",
    "    df0 = read.csv(paste0(neuroseq_dir,myfiles[i]), sep = \"\\t\")\n",
    "    colnames(df0)[2] = mynames[i]\n",
    "    print(mynames[i])\n",
    "    df = full_join(df,df0, by = \"QTL\")\n",
    "    print(nrow(df))\n",
    "}"
   ]
  },
  {
   "cell_type": "code",
   "execution_count": 42,
   "metadata": {},
   "outputs": [],
   "source": [
    "write.csv(df, \"/hps/nobackup/stegle/users/acuomo/all_scripts/sc_neuroseq/eqtl/all_eqtl_beta_se.csv\")"
   ]
  },
  {
   "cell_type": "code",
   "execution_count": 46,
   "metadata": {},
   "outputs": [
    {
     "data": {
      "text/html": [
       "<table>\n",
       "<thead><tr><th scope=col>QTL</th><th scope=col>FPP_D11</th><th scope=col>NB_D11</th><th scope=col>P_FPP_D11</th><th scope=col>FPP_D30</th><th scope=col>DA_D30</th><th scope=col>Epen1_D30</th><th scope=col>Sert_D30</th><th scope=col>Astro_D52</th><th scope=col>DA_D52</th><th scope=col>Epen1_D52</th><th scope=col>Sert_D52</th><th scope=col>Astro_D52_ROT</th><th scope=col>DA_D52_ROT</th><th scope=col>Epen1_D52_ROT</th><th scope=col>Sert_D52_ROT</th></tr></thead>\n",
       "<tbody>\n",
       "\t<tr><td>1_100000012_G_T-ENSG00000117620</td><td>0.05571716                     </td><td>0.08463037                     </td><td>0.04535771                     </td><td>0.05598378                     </td><td>0.05449616                     </td><td>0.05273507                     </td><td>0.05789487                     </td><td>0.07007849                     </td><td>0.06293695                     </td><td>0.04872049                     </td><td>0.03764550                     </td><td>0.06737268                     </td><td>0.07732575                     </td><td>0.04380677                     </td><td>0.05925302                     </td></tr>\n",
       "\t<tr><td>1_100000012_G_T-ENSG00000162688</td><td>0.04912229                     </td><td>0.10996741                     </td><td>0.04862218                     </td><td>0.04518739                     </td><td>0.04134374                     </td><td>0.07109658                     </td><td>0.05776824                     </td><td>0.08987391                     </td><td>0.06913416                     </td><td>0.07458844                     </td><td>0.07298057                     </td><td>0.08729451                     </td><td>0.09536294                     </td><td>0.07203587                     </td><td>0.07553552                     </td></tr>\n",
       "</tbody>\n",
       "</table>\n"
      ],
      "text/latex": [
       "\\begin{tabular}{r|llllllllllllllll}\n",
       " QTL & FPP\\_D11 & NB\\_D11 & P\\_FPP\\_D11 & FPP\\_D30 & DA\\_D30 & Epen1\\_D30 & Sert\\_D30 & Astro\\_D52 & DA\\_D52 & Epen1\\_D52 & Sert\\_D52 & Astro\\_D52\\_ROT & DA\\_D52\\_ROT & Epen1\\_D52\\_ROT & Sert\\_D52\\_ROT\\\\\n",
       "\\hline\n",
       "\t 1\\_100000012\\_G\\_T-ENSG00000117620 & 0.05571716                            & 0.08463037                            & 0.04535771                            & 0.05598378                            & 0.05449616                            & 0.05273507                            & 0.05789487                            & 0.07007849                            & 0.06293695                            & 0.04872049                            & 0.03764550                            & 0.06737268                            & 0.07732575                            & 0.04380677                            & 0.05925302                           \\\\\n",
       "\t 1\\_100000012\\_G\\_T-ENSG00000162688 & 0.04912229                            & 0.10996741                            & 0.04862218                            & 0.04518739                            & 0.04134374                            & 0.07109658                            & 0.05776824                            & 0.08987391                            & 0.06913416                            & 0.07458844                            & 0.07298057                            & 0.08729451                            & 0.09536294                            & 0.07203587                            & 0.07553552                           \\\\\n",
       "\\end{tabular}\n"
      ],
      "text/markdown": [
       "\n",
       "| QTL | FPP_D11 | NB_D11 | P_FPP_D11 | FPP_D30 | DA_D30 | Epen1_D30 | Sert_D30 | Astro_D52 | DA_D52 | Epen1_D52 | Sert_D52 | Astro_D52_ROT | DA_D52_ROT | Epen1_D52_ROT | Sert_D52_ROT |\n",
       "|---|---|---|---|---|---|---|---|---|---|---|---|---|---|---|---|\n",
       "| 1_100000012_G_T-ENSG00000117620 | 0.05571716                      | 0.08463037                      | 0.04535771                      | 0.05598378                      | 0.05449616                      | 0.05273507                      | 0.05789487                      | 0.07007849                      | 0.06293695                      | 0.04872049                      | 0.03764550                      | 0.06737268                      | 0.07732575                      | 0.04380677                      | 0.05925302                      |\n",
       "| 1_100000012_G_T-ENSG00000162688 | 0.04912229                      | 0.10996741                      | 0.04862218                      | 0.04518739                      | 0.04134374                      | 0.07109658                      | 0.05776824                      | 0.08987391                      | 0.06913416                      | 0.07458844                      | 0.07298057                      | 0.08729451                      | 0.09536294                      | 0.07203587                      | 0.07553552                      |\n",
       "\n"
      ],
      "text/plain": [
       "  QTL                             FPP_D11    NB_D11     P_FPP_D11  FPP_D30   \n",
       "1 1_100000012_G_T-ENSG00000117620 0.05571716 0.08463037 0.04535771 0.05598378\n",
       "2 1_100000012_G_T-ENSG00000162688 0.04912229 0.10996741 0.04862218 0.04518739\n",
       "  DA_D30     Epen1_D30  Sert_D30   Astro_D52  DA_D52     Epen1_D52  Sert_D52  \n",
       "1 0.05449616 0.05273507 0.05789487 0.07007849 0.06293695 0.04872049 0.03764550\n",
       "2 0.04134374 0.07109658 0.05776824 0.08987391 0.06913416 0.07458844 0.07298057\n",
       "  Astro_D52_ROT DA_D52_ROT Epen1_D52_ROT Sert_D52_ROT\n",
       "1 0.06737268    0.07732575 0.04380677    0.05925302  \n",
       "2 0.08729451    0.09536294 0.07203587    0.07553552  "
      ]
     },
     "metadata": {},
     "output_type": "display_data"
    }
   ],
   "source": [
    "head(df,2)"
   ]
  },
  {
   "cell_type": "code",
   "execution_count": 52,
   "metadata": {},
   "outputs": [
    {
     "data": {
      "text/html": [
       "<table>\n",
       "<thead><tr><th scope=col>Gene</th><th scope=col>SNP</th><th scope=col>FPP_D11</th><th scope=col>NB_D11</th><th scope=col>P_FPP_D11</th><th scope=col>FPP_D30</th><th scope=col>DA_D30</th><th scope=col>Epen1_D30</th><th scope=col>Sert_D30</th><th scope=col>Astro_D52</th><th scope=col>DA_D52</th><th scope=col>Epen1_D52</th><th scope=col>Sert_D52</th><th scope=col>Astro_D52_ROT</th><th scope=col>DA_D52_ROT</th><th scope=col>Epen1_D52_ROT</th><th scope=col>Sert_D52_ROT</th></tr></thead>\n",
       "<tbody>\n",
       "\t<tr><td>ENSG00000117620</td><td>1_100000012_G_T</td><td>0.05571716     </td><td>0.08463037     </td><td>0.04535771     </td><td>0.05598378     </td><td>0.05449616     </td><td>0.05273507     </td><td>0.05789487     </td><td>0.07007849     </td><td>0.06293695     </td><td>0.04872049     </td><td>0.03764550     </td><td>0.06737268     </td><td>0.07732575     </td><td>0.04380677     </td><td>0.05925302     </td></tr>\n",
       "\t<tr><td>ENSG00000162688</td><td>1_100000012_G_T</td><td>0.04912229     </td><td>0.10996741     </td><td>0.04862218     </td><td>0.04518739     </td><td>0.04134374     </td><td>0.07109658     </td><td>0.05776824     </td><td>0.08987391     </td><td>0.06913416     </td><td>0.07458844     </td><td>0.07298057     </td><td>0.08729451     </td><td>0.09536294     </td><td>0.07203587     </td><td>0.07553552     </td></tr>\n",
       "\t<tr><td>ENSG00000117620</td><td>1_100000827_C_T</td><td>0.05920100     </td><td>0.08939767     </td><td>0.04811951     </td><td>0.05950875     </td><td>0.05684144     </td><td>0.05679405     </td><td>0.05826174     </td><td>0.07261764     </td><td>0.06425234     </td><td>0.05213277     </td><td>0.03996900     </td><td>0.07072335     </td><td>0.07777274     </td><td>0.04661191     </td><td>0.06359943     </td></tr>\n",
       "\t<tr><td>ENSG00000162688</td><td>1_100000827_C_T</td><td>0.05220870     </td><td>0.11801864     </td><td>0.05145207     </td><td>0.04793824     </td><td>0.04324769     </td><td>0.07678245     </td><td>0.05833711     </td><td>0.09068247     </td><td>0.07054886     </td><td>0.07791362     </td><td>0.07306495     </td><td>0.09084063     </td><td>0.09405804     </td><td>0.07637377     </td><td>0.07671343     </td></tr>\n",
       "\t<tr><td>ENSG00000117620</td><td>1_100000843_T_C</td><td>0.10481269     </td><td>0.16427673     </td><td>0.09178729     </td><td>0.11674928     </td><td>0.11284396     </td><td>0.10395736     </td><td>0.11090523     </td><td>        NA     </td><td>0.11074661     </td><td>0.09665912     </td><td>0.07941732     </td><td>0.10610097     </td><td>0.13638939     </td><td>0.08194127     </td><td>0.12245394     </td></tr>\n",
       "\t<tr><td>ENSG00000162688</td><td>1_100000843_T_C</td><td>0.09253398     </td><td>0.21189227     </td><td>0.09796069     </td><td>0.09435077     </td><td>0.08584137     </td><td>0.13316325     </td><td>0.10858373     </td><td>        NA     </td><td>0.12244857     </td><td>0.14150945     </td><td>0.13050260     </td><td>0.13479842     </td><td>0.15949558     </td><td>0.13412159     </td><td>0.13535313     </td></tr>\n",
       "</tbody>\n",
       "</table>\n"
      ],
      "text/latex": [
       "\\begin{tabular}{r|lllllllllllllllll}\n",
       " Gene & SNP & FPP\\_D11 & NB\\_D11 & P\\_FPP\\_D11 & FPP\\_D30 & DA\\_D30 & Epen1\\_D30 & Sert\\_D30 & Astro\\_D52 & DA\\_D52 & Epen1\\_D52 & Sert\\_D52 & Astro\\_D52\\_ROT & DA\\_D52\\_ROT & Epen1\\_D52\\_ROT & Sert\\_D52\\_ROT\\\\\n",
       "\\hline\n",
       "\t ENSG00000117620       & 1\\_100000012\\_G\\_T & 0.05571716            & 0.08463037            & 0.04535771            & 0.05598378            & 0.05449616            & 0.05273507            & 0.05789487            & 0.07007849            & 0.06293695            & 0.04872049            & 0.03764550            & 0.06737268            & 0.07732575            & 0.04380677            & 0.05925302           \\\\\n",
       "\t ENSG00000162688       & 1\\_100000012\\_G\\_T & 0.04912229            & 0.10996741            & 0.04862218            & 0.04518739            & 0.04134374            & 0.07109658            & 0.05776824            & 0.08987391            & 0.06913416            & 0.07458844            & 0.07298057            & 0.08729451            & 0.09536294            & 0.07203587            & 0.07553552           \\\\\n",
       "\t ENSG00000117620       & 1\\_100000827\\_C\\_T & 0.05920100            & 0.08939767            & 0.04811951            & 0.05950875            & 0.05684144            & 0.05679405            & 0.05826174            & 0.07261764            & 0.06425234            & 0.05213277            & 0.03996900            & 0.07072335            & 0.07777274            & 0.04661191            & 0.06359943           \\\\\n",
       "\t ENSG00000162688       & 1\\_100000827\\_C\\_T & 0.05220870            & 0.11801864            & 0.05145207            & 0.04793824            & 0.04324769            & 0.07678245            & 0.05833711            & 0.09068247            & 0.07054886            & 0.07791362            & 0.07306495            & 0.09084063            & 0.09405804            & 0.07637377            & 0.07671343           \\\\\n",
       "\t ENSG00000117620       & 1\\_100000843\\_T\\_C & 0.10481269            & 0.16427673            & 0.09178729            & 0.11674928            & 0.11284396            & 0.10395736            & 0.11090523            &         NA            & 0.11074661            & 0.09665912            & 0.07941732            & 0.10610097            & 0.13638939            & 0.08194127            & 0.12245394           \\\\\n",
       "\t ENSG00000162688       & 1\\_100000843\\_T\\_C & 0.09253398            & 0.21189227            & 0.09796069            & 0.09435077            & 0.08584137            & 0.13316325            & 0.10858373            &         NA            & 0.12244857            & 0.14150945            & 0.13050260            & 0.13479842            & 0.15949558            & 0.13412159            & 0.13535313           \\\\\n",
       "\\end{tabular}\n"
      ],
      "text/markdown": [
       "\n",
       "| Gene | SNP | FPP_D11 | NB_D11 | P_FPP_D11 | FPP_D30 | DA_D30 | Epen1_D30 | Sert_D30 | Astro_D52 | DA_D52 | Epen1_D52 | Sert_D52 | Astro_D52_ROT | DA_D52_ROT | Epen1_D52_ROT | Sert_D52_ROT |\n",
       "|---|---|---|---|---|---|---|---|---|---|---|---|---|---|---|---|---|\n",
       "| ENSG00000117620 | 1_100000012_G_T | 0.05571716      | 0.08463037      | 0.04535771      | 0.05598378      | 0.05449616      | 0.05273507      | 0.05789487      | 0.07007849      | 0.06293695      | 0.04872049      | 0.03764550      | 0.06737268      | 0.07732575      | 0.04380677      | 0.05925302      |\n",
       "| ENSG00000162688 | 1_100000012_G_T | 0.04912229      | 0.10996741      | 0.04862218      | 0.04518739      | 0.04134374      | 0.07109658      | 0.05776824      | 0.08987391      | 0.06913416      | 0.07458844      | 0.07298057      | 0.08729451      | 0.09536294      | 0.07203587      | 0.07553552      |\n",
       "| ENSG00000117620 | 1_100000827_C_T | 0.05920100      | 0.08939767      | 0.04811951      | 0.05950875      | 0.05684144      | 0.05679405      | 0.05826174      | 0.07261764      | 0.06425234      | 0.05213277      | 0.03996900      | 0.07072335      | 0.07777274      | 0.04661191      | 0.06359943      |\n",
       "| ENSG00000162688 | 1_100000827_C_T | 0.05220870      | 0.11801864      | 0.05145207      | 0.04793824      | 0.04324769      | 0.07678245      | 0.05833711      | 0.09068247      | 0.07054886      | 0.07791362      | 0.07306495      | 0.09084063      | 0.09405804      | 0.07637377      | 0.07671343      |\n",
       "| ENSG00000117620 | 1_100000843_T_C | 0.10481269      | 0.16427673      | 0.09178729      | 0.11674928      | 0.11284396      | 0.10395736      | 0.11090523      |         NA      | 0.11074661      | 0.09665912      | 0.07941732      | 0.10610097      | 0.13638939      | 0.08194127      | 0.12245394      |\n",
       "| ENSG00000162688 | 1_100000843_T_C | 0.09253398      | 0.21189227      | 0.09796069      | 0.09435077      | 0.08584137      | 0.13316325      | 0.10858373      |         NA      | 0.12244857      | 0.14150945      | 0.13050260      | 0.13479842      | 0.15949558      | 0.13412159      | 0.13535313      |\n",
       "\n"
      ],
      "text/plain": [
       "  Gene            SNP             FPP_D11    NB_D11     P_FPP_D11  FPP_D30   \n",
       "1 ENSG00000117620 1_100000012_G_T 0.05571716 0.08463037 0.04535771 0.05598378\n",
       "2 ENSG00000162688 1_100000012_G_T 0.04912229 0.10996741 0.04862218 0.04518739\n",
       "3 ENSG00000117620 1_100000827_C_T 0.05920100 0.08939767 0.04811951 0.05950875\n",
       "4 ENSG00000162688 1_100000827_C_T 0.05220870 0.11801864 0.05145207 0.04793824\n",
       "5 ENSG00000117620 1_100000843_T_C 0.10481269 0.16427673 0.09178729 0.11674928\n",
       "6 ENSG00000162688 1_100000843_T_C 0.09253398 0.21189227 0.09796069 0.09435077\n",
       "  DA_D30     Epen1_D30  Sert_D30   Astro_D52  DA_D52     Epen1_D52  Sert_D52  \n",
       "1 0.05449616 0.05273507 0.05789487 0.07007849 0.06293695 0.04872049 0.03764550\n",
       "2 0.04134374 0.07109658 0.05776824 0.08987391 0.06913416 0.07458844 0.07298057\n",
       "3 0.05684144 0.05679405 0.05826174 0.07261764 0.06425234 0.05213277 0.03996900\n",
       "4 0.04324769 0.07678245 0.05833711 0.09068247 0.07054886 0.07791362 0.07306495\n",
       "5 0.11284396 0.10395736 0.11090523         NA 0.11074661 0.09665912 0.07941732\n",
       "6 0.08584137 0.13316325 0.10858373         NA 0.12244857 0.14150945 0.13050260\n",
       "  Astro_D52_ROT DA_D52_ROT Epen1_D52_ROT Sert_D52_ROT\n",
       "1 0.06737268    0.07732575 0.04380677    0.05925302  \n",
       "2 0.08729451    0.09536294 0.07203587    0.07553552  \n",
       "3 0.07072335    0.07777274 0.04661191    0.06359943  \n",
       "4 0.09084063    0.09405804 0.07637377    0.07671343  \n",
       "5 0.10610097    0.13638939 0.08194127    0.12245394  \n",
       "6 0.13479842    0.15949558 0.13412159    0.13535313  "
      ]
     },
     "metadata": {},
     "output_type": "display_data"
    }
   ],
   "source": [
    "# df_beta_se = df\n",
    "# df_beta_se$Gene = gsub(\"*.*-\",\"\",df_beta_se$QTL)\n",
    "# df_beta_se$SNP = gsub(\"-.*\",\"\",df_beta_se$QTL)\n",
    "# df_beta_se$QTL = c()\n",
    "head(df_beta_se[,c(16,17,1:15)])\n",
    "write.table(df_beta_se[,c(16,17,1:15)], \"/hps/nobackup/stegle/users/acuomo/all_scripts/sc_neuroseq/eqtl/all_eqtl_betas_se.tsv\", sep = \"\\t\",\n",
    "           quote = FALSE, row.names = FALSE, col.names = TRUE)"
   ]
  },
  {
   "cell_type": "code",
   "execution_count": null,
   "metadata": {},
   "outputs": [],
   "source": []
  },
  {
   "cell_type": "code",
   "execution_count": 45,
   "metadata": {},
   "outputs": [
    {
     "data": {
      "text/html": [
       "<table>\n",
       "<thead><tr><th scope=col>X</th><th scope=col>QTL</th><th scope=col>FPP_D11</th><th scope=col>NB_D11</th><th scope=col>P_FPP_D11</th><th scope=col>FPP_D30</th><th scope=col>DA_D30</th><th scope=col>Epen1_D30</th><th scope=col>Sert_D30</th><th scope=col>Astro_D52</th><th scope=col>DA_D52</th><th scope=col>Epen1_D52</th><th scope=col>Sert_D52</th><th scope=col>Astro_D52_ROT</th><th scope=col>DA_D52_ROT</th><th scope=col>Epen1_D52_ROT</th><th scope=col>Sert_D52_ROT</th></tr></thead>\n",
       "<tbody>\n",
       "\t<tr><td>1                              </td><td>1_100000012_G_T-ENSG00000117620</td><td>0.003733488                    </td><td>-0.16763392                    </td><td>-0.04484672                    </td><td>-0.06701619                    </td><td> 0.004470747                   </td><td> 0.050823625                   </td><td>-0.018127087                   </td><td>0.11503736                     </td><td>0.009613173                    </td><td> 0.07458330                    </td><td> 0.034153967                   </td><td> 0.031366311                   </td><td>-0.02870009                    </td><td>-0.04608305                    </td><td>-0.02869762                    </td></tr>\n",
       "\t<tr><td>2                              </td><td>1_100000012_G_T-ENSG00000162688</td><td>0.014981286                    </td><td>-0.03836986                    </td><td>-0.01255951                    </td><td>-0.04899305                    </td><td>-0.077834444                   </td><td> 0.022358730                   </td><td> 0.004286837                   </td><td>0.08531304                     </td><td>0.015302154                    </td><td> 0.07503926                    </td><td> 0.063938439                   </td><td> 0.036313340                   </td><td> 0.07747842                    </td><td> 0.10994430                    </td><td>-0.10938893                    </td></tr>\n",
       "\t<tr><td>3                              </td><td>1_100000827_C_T-ENSG00000117620</td><td>0.038008685                    </td><td>-0.28188004                    </td><td>-0.03713182                    </td><td>-0.04476666                    </td><td> 0.009709420                   </td><td> 0.058582001                   </td><td>-0.049702296                   </td><td>0.01029236                     </td><td>0.022937528                    </td><td> 0.06998245                    </td><td> 0.020804101                   </td><td> 0.012615325                   </td><td>-0.05852517                    </td><td>-0.01296488                    </td><td>-0.04398115                    </td></tr>\n",
       "\t<tr><td>4                              </td><td>1_100000827_C_T-ENSG00000162688</td><td>0.028734773                    </td><td>-0.12406424                    </td><td>-0.02400545                    </td><td>-0.05881232                    </td><td>-0.055653810                   </td><td>-0.031849387                   </td><td> 0.030958801                   </td><td>0.12295515                     </td><td>0.026992971                    </td><td> 0.03430386                    </td><td> 0.006075979                   </td><td>-0.001886255                   </td><td> 0.06748032                    </td><td> 0.05801604                    </td><td>-0.08382679                    </td></tr>\n",
       "\t<tr><td>5                              </td><td>1_100000843_T_C-ENSG00000117620</td><td>0.106098651                    </td><td>-0.28298535                    </td><td> 0.04829843                    </td><td> 0.11849477                    </td><td> 0.019096011                   </td><td>-0.001322619                   </td><td>-0.113561603                   </td><td>        NA                     </td><td>0.038367766                    </td><td>-0.05218642                    </td><td>-0.069689569                   </td><td>-0.049372059                   </td><td>-0.09052682                    </td><td> 0.12148572                    </td><td>-0.04031355                    </td></tr>\n",
       "\t<tr><td>6                              </td><td>1_100000843_T_C-ENSG00000162688</td><td>0.037057395                    </td><td>-0.25716698                    </td><td>-0.03600583                    </td><td>-0.01392734                    </td><td> 0.114411779                   </td><td>-0.175277863                   </td><td> 0.092231179                   </td><td>        NA                     </td><td>0.033289992                    </td><td>-0.15673689                    </td><td>-0.185846391                   </td><td>-0.090876308                   </td><td>-0.02254362                    </td><td>-0.20106291                    </td><td> 0.08886983                    </td></tr>\n",
       "</tbody>\n",
       "</table>\n"
      ],
      "text/latex": [
       "\\begin{tabular}{r|lllllllllllllllll}\n",
       " X & QTL & FPP\\_D11 & NB\\_D11 & P\\_FPP\\_D11 & FPP\\_D30 & DA\\_D30 & Epen1\\_D30 & Sert\\_D30 & Astro\\_D52 & DA\\_D52 & Epen1\\_D52 & Sert\\_D52 & Astro\\_D52\\_ROT & DA\\_D52\\_ROT & Epen1\\_D52\\_ROT & Sert\\_D52\\_ROT\\\\\n",
       "\\hline\n",
       "\t 1                                     & 1\\_100000012\\_G\\_T-ENSG00000117620 & 0.003733488                           & -0.16763392                           & -0.04484672                           & -0.06701619                           &  0.004470747                          &  0.050823625                          & -0.018127087                          & 0.11503736                            & 0.009613173                           &  0.07458330                           &  0.034153967                          &  0.031366311                          & -0.02870009                           & -0.04608305                           & -0.02869762                          \\\\\n",
       "\t 2                                     & 1\\_100000012\\_G\\_T-ENSG00000162688 & 0.014981286                           & -0.03836986                           & -0.01255951                           & -0.04899305                           & -0.077834444                          &  0.022358730                          &  0.004286837                          & 0.08531304                            & 0.015302154                           &  0.07503926                           &  0.063938439                          &  0.036313340                          &  0.07747842                           &  0.10994430                           & -0.10938893                          \\\\\n",
       "\t 3                                     & 1\\_100000827\\_C\\_T-ENSG00000117620 & 0.038008685                           & -0.28188004                           & -0.03713182                           & -0.04476666                           &  0.009709420                          &  0.058582001                          & -0.049702296                          & 0.01029236                            & 0.022937528                           &  0.06998245                           &  0.020804101                          &  0.012615325                          & -0.05852517                           & -0.01296488                           & -0.04398115                          \\\\\n",
       "\t 4                                     & 1\\_100000827\\_C\\_T-ENSG00000162688 & 0.028734773                           & -0.12406424                           & -0.02400545                           & -0.05881232                           & -0.055653810                          & -0.031849387                          &  0.030958801                          & 0.12295515                            & 0.026992971                           &  0.03430386                           &  0.006075979                          & -0.001886255                          &  0.06748032                           &  0.05801604                           & -0.08382679                          \\\\\n",
       "\t 5                                     & 1\\_100000843\\_T\\_C-ENSG00000117620 & 0.106098651                           & -0.28298535                           &  0.04829843                           &  0.11849477                           &  0.019096011                          & -0.001322619                          & -0.113561603                          &         NA                            & 0.038367766                           & -0.05218642                           & -0.069689569                          & -0.049372059                          & -0.09052682                           &  0.12148572                           & -0.04031355                          \\\\\n",
       "\t 6                                     & 1\\_100000843\\_T\\_C-ENSG00000162688 & 0.037057395                           & -0.25716698                           & -0.03600583                           & -0.01392734                           &  0.114411779                          & -0.175277863                          &  0.092231179                          &         NA                            & 0.033289992                           & -0.15673689                           & -0.185846391                          & -0.090876308                          & -0.02254362                           & -0.20106291                           &  0.08886983                          \\\\\n",
       "\\end{tabular}\n"
      ],
      "text/markdown": [
       "\n",
       "| X | QTL | FPP_D11 | NB_D11 | P_FPP_D11 | FPP_D30 | DA_D30 | Epen1_D30 | Sert_D30 | Astro_D52 | DA_D52 | Epen1_D52 | Sert_D52 | Astro_D52_ROT | DA_D52_ROT | Epen1_D52_ROT | Sert_D52_ROT |\n",
       "|---|---|---|---|---|---|---|---|---|---|---|---|---|---|---|---|---|\n",
       "| 1                               | 1_100000012_G_T-ENSG00000117620 | 0.003733488                     | -0.16763392                     | -0.04484672                     | -0.06701619                     |  0.004470747                    |  0.050823625                    | -0.018127087                    | 0.11503736                      | 0.009613173                     |  0.07458330                     |  0.034153967                    |  0.031366311                    | -0.02870009                     | -0.04608305                     | -0.02869762                     |\n",
       "| 2                               | 1_100000012_G_T-ENSG00000162688 | 0.014981286                     | -0.03836986                     | -0.01255951                     | -0.04899305                     | -0.077834444                    |  0.022358730                    |  0.004286837                    | 0.08531304                      | 0.015302154                     |  0.07503926                     |  0.063938439                    |  0.036313340                    |  0.07747842                     |  0.10994430                     | -0.10938893                     |\n",
       "| 3                               | 1_100000827_C_T-ENSG00000117620 | 0.038008685                     | -0.28188004                     | -0.03713182                     | -0.04476666                     |  0.009709420                    |  0.058582001                    | -0.049702296                    | 0.01029236                      | 0.022937528                     |  0.06998245                     |  0.020804101                    |  0.012615325                    | -0.05852517                     | -0.01296488                     | -0.04398115                     |\n",
       "| 4                               | 1_100000827_C_T-ENSG00000162688 | 0.028734773                     | -0.12406424                     | -0.02400545                     | -0.05881232                     | -0.055653810                    | -0.031849387                    |  0.030958801                    | 0.12295515                      | 0.026992971                     |  0.03430386                     |  0.006075979                    | -0.001886255                    |  0.06748032                     |  0.05801604                     | -0.08382679                     |\n",
       "| 5                               | 1_100000843_T_C-ENSG00000117620 | 0.106098651                     | -0.28298535                     |  0.04829843                     |  0.11849477                     |  0.019096011                    | -0.001322619                    | -0.113561603                    |         NA                      | 0.038367766                     | -0.05218642                     | -0.069689569                    | -0.049372059                    | -0.09052682                     |  0.12148572                     | -0.04031355                     |\n",
       "| 6                               | 1_100000843_T_C-ENSG00000162688 | 0.037057395                     | -0.25716698                     | -0.03600583                     | -0.01392734                     |  0.114411779                    | -0.175277863                    |  0.092231179                    |         NA                      | 0.033289992                     | -0.15673689                     | -0.185846391                    | -0.090876308                    | -0.02254362                     | -0.20106291                     |  0.08886983                     |\n",
       "\n"
      ],
      "text/plain": [
       "  X QTL                             FPP_D11     NB_D11      P_FPP_D11  \n",
       "1 1 1_100000012_G_T-ENSG00000117620 0.003733488 -0.16763392 -0.04484672\n",
       "2 2 1_100000012_G_T-ENSG00000162688 0.014981286 -0.03836986 -0.01255951\n",
       "3 3 1_100000827_C_T-ENSG00000117620 0.038008685 -0.28188004 -0.03713182\n",
       "4 4 1_100000827_C_T-ENSG00000162688 0.028734773 -0.12406424 -0.02400545\n",
       "5 5 1_100000843_T_C-ENSG00000117620 0.106098651 -0.28298535  0.04829843\n",
       "6 6 1_100000843_T_C-ENSG00000162688 0.037057395 -0.25716698 -0.03600583\n",
       "  FPP_D30     DA_D30       Epen1_D30    Sert_D30     Astro_D52  DA_D52     \n",
       "1 -0.06701619  0.004470747  0.050823625 -0.018127087 0.11503736 0.009613173\n",
       "2 -0.04899305 -0.077834444  0.022358730  0.004286837 0.08531304 0.015302154\n",
       "3 -0.04476666  0.009709420  0.058582001 -0.049702296 0.01029236 0.022937528\n",
       "4 -0.05881232 -0.055653810 -0.031849387  0.030958801 0.12295515 0.026992971\n",
       "5  0.11849477  0.019096011 -0.001322619 -0.113561603         NA 0.038367766\n",
       "6 -0.01392734  0.114411779 -0.175277863  0.092231179         NA 0.033289992\n",
       "  Epen1_D52   Sert_D52     Astro_D52_ROT DA_D52_ROT  Epen1_D52_ROT Sert_D52_ROT\n",
       "1  0.07458330  0.034153967  0.031366311  -0.02870009 -0.04608305   -0.02869762 \n",
       "2  0.07503926  0.063938439  0.036313340   0.07747842  0.10994430   -0.10938893 \n",
       "3  0.06998245  0.020804101  0.012615325  -0.05852517 -0.01296488   -0.04398115 \n",
       "4  0.03430386  0.006075979 -0.001886255   0.06748032  0.05801604   -0.08382679 \n",
       "5 -0.05218642 -0.069689569 -0.049372059  -0.09052682  0.12148572   -0.04031355 \n",
       "6 -0.15673689 -0.185846391 -0.090876308  -0.02254362 -0.20106291    0.08886983 "
      ]
     },
     "metadata": {},
     "output_type": "display_data"
    }
   ],
   "source": [
    "# df_beta = read.csv(\"/hps/nobackup/stegle/users/acuomo/all_scripts/sc_neuroseq/eqtl/all_eqtl_betas.csv\", row.names = 1)\n",
    "# head(df_beta)"
   ]
  },
  {
   "cell_type": "code",
   "execution_count": 50,
   "metadata": {},
   "outputs": [
    {
     "data": {
      "text/html": [
       "<table>\n",
       "<thead><tr><th scope=col>Gene</th><th scope=col>SNP</th><th scope=col>FPP_D11</th><th scope=col>NB_D11</th><th scope=col>P_FPP_D11</th><th scope=col>FPP_D30</th><th scope=col>DA_D30</th><th scope=col>Epen1_D30</th><th scope=col>Sert_D30</th><th scope=col>Astro_D52</th><th scope=col>DA_D52</th><th scope=col>Epen1_D52</th><th scope=col>Sert_D52</th><th scope=col>Astro_D52_ROT</th><th scope=col>DA_D52_ROT</th><th scope=col>Epen1_D52_ROT</th><th scope=col>Sert_D52_ROT</th></tr></thead>\n",
       "<tbody>\n",
       "\t<tr><td>ENSG00000117620</td><td>1_100000012_G_T</td><td>0.003733488    </td><td>-0.16763392    </td><td>-0.04484672    </td><td>-0.06701619    </td><td> 0.004470747   </td><td> 0.050823625   </td><td>-0.018127087   </td><td>0.11503736     </td><td>0.009613173    </td><td> 0.07458330    </td><td> 0.034153967   </td><td> 0.031366311   </td><td>-0.02870009    </td><td>-0.04608305    </td><td>-0.02869762    </td></tr>\n",
       "\t<tr><td>ENSG00000162688</td><td>1_100000012_G_T</td><td>0.014981286    </td><td>-0.03836986    </td><td>-0.01255951    </td><td>-0.04899305    </td><td>-0.077834444   </td><td> 0.022358730   </td><td> 0.004286837   </td><td>0.08531304     </td><td>0.015302154    </td><td> 0.07503926    </td><td> 0.063938439   </td><td> 0.036313340   </td><td> 0.07747842    </td><td> 0.10994430    </td><td>-0.10938893    </td></tr>\n",
       "\t<tr><td>ENSG00000117620</td><td>1_100000827_C_T</td><td>0.038008685    </td><td>-0.28188004    </td><td>-0.03713182    </td><td>-0.04476666    </td><td> 0.009709420   </td><td> 0.058582001   </td><td>-0.049702296   </td><td>0.01029236     </td><td>0.022937528    </td><td> 0.06998245    </td><td> 0.020804101   </td><td> 0.012615325   </td><td>-0.05852517    </td><td>-0.01296488    </td><td>-0.04398115    </td></tr>\n",
       "\t<tr><td>ENSG00000162688</td><td>1_100000827_C_T</td><td>0.028734773    </td><td>-0.12406424    </td><td>-0.02400545    </td><td>-0.05881232    </td><td>-0.055653810   </td><td>-0.031849387   </td><td> 0.030958801   </td><td>0.12295515     </td><td>0.026992971    </td><td> 0.03430386    </td><td> 0.006075979   </td><td>-0.001886255   </td><td> 0.06748032    </td><td> 0.05801604    </td><td>-0.08382679    </td></tr>\n",
       "\t<tr><td>ENSG00000117620</td><td>1_100000843_T_C</td><td>0.106098651    </td><td>-0.28298535    </td><td> 0.04829843    </td><td> 0.11849477    </td><td> 0.019096011   </td><td>-0.001322619   </td><td>-0.113561603   </td><td>        NA     </td><td>0.038367766    </td><td>-0.05218642    </td><td>-0.069689569   </td><td>-0.049372059   </td><td>-0.09052682    </td><td> 0.12148572    </td><td>-0.04031355    </td></tr>\n",
       "\t<tr><td>ENSG00000162688</td><td>1_100000843_T_C</td><td>0.037057395    </td><td>-0.25716698    </td><td>-0.03600583    </td><td>-0.01392734    </td><td> 0.114411779   </td><td>-0.175277863   </td><td> 0.092231179   </td><td>        NA     </td><td>0.033289992    </td><td>-0.15673689    </td><td>-0.185846391   </td><td>-0.090876308   </td><td>-0.02254362    </td><td>-0.20106291    </td><td> 0.08886983    </td></tr>\n",
       "</tbody>\n",
       "</table>\n"
      ],
      "text/latex": [
       "\\begin{tabular}{r|lllllllllllllllll}\n",
       " Gene & SNP & FPP\\_D11 & NB\\_D11 & P\\_FPP\\_D11 & FPP\\_D30 & DA\\_D30 & Epen1\\_D30 & Sert\\_D30 & Astro\\_D52 & DA\\_D52 & Epen1\\_D52 & Sert\\_D52 & Astro\\_D52\\_ROT & DA\\_D52\\_ROT & Epen1\\_D52\\_ROT & Sert\\_D52\\_ROT\\\\\n",
       "\\hline\n",
       "\t ENSG00000117620       & 1\\_100000012\\_G\\_T & 0.003733488           & -0.16763392           & -0.04484672           & -0.06701619           &  0.004470747          &  0.050823625          & -0.018127087          & 0.11503736            & 0.009613173           &  0.07458330           &  0.034153967          &  0.031366311          & -0.02870009           & -0.04608305           & -0.02869762          \\\\\n",
       "\t ENSG00000162688       & 1\\_100000012\\_G\\_T & 0.014981286           & -0.03836986           & -0.01255951           & -0.04899305           & -0.077834444          &  0.022358730          &  0.004286837          & 0.08531304            & 0.015302154           &  0.07503926           &  0.063938439          &  0.036313340          &  0.07747842           &  0.10994430           & -0.10938893          \\\\\n",
       "\t ENSG00000117620       & 1\\_100000827\\_C\\_T & 0.038008685           & -0.28188004           & -0.03713182           & -0.04476666           &  0.009709420          &  0.058582001          & -0.049702296          & 0.01029236            & 0.022937528           &  0.06998245           &  0.020804101          &  0.012615325          & -0.05852517           & -0.01296488           & -0.04398115          \\\\\n",
       "\t ENSG00000162688       & 1\\_100000827\\_C\\_T & 0.028734773           & -0.12406424           & -0.02400545           & -0.05881232           & -0.055653810          & -0.031849387          &  0.030958801          & 0.12295515            & 0.026992971           &  0.03430386           &  0.006075979          & -0.001886255          &  0.06748032           &  0.05801604           & -0.08382679          \\\\\n",
       "\t ENSG00000117620       & 1\\_100000843\\_T\\_C & 0.106098651           & -0.28298535           &  0.04829843           &  0.11849477           &  0.019096011          & -0.001322619          & -0.113561603          &         NA            & 0.038367766           & -0.05218642           & -0.069689569          & -0.049372059          & -0.09052682           &  0.12148572           & -0.04031355          \\\\\n",
       "\t ENSG00000162688       & 1\\_100000843\\_T\\_C & 0.037057395           & -0.25716698           & -0.03600583           & -0.01392734           &  0.114411779          & -0.175277863          &  0.092231179          &         NA            & 0.033289992           & -0.15673689           & -0.185846391          & -0.090876308          & -0.02254362           & -0.20106291           &  0.08886983          \\\\\n",
       "\\end{tabular}\n"
      ],
      "text/markdown": [
       "\n",
       "| Gene | SNP | FPP_D11 | NB_D11 | P_FPP_D11 | FPP_D30 | DA_D30 | Epen1_D30 | Sert_D30 | Astro_D52 | DA_D52 | Epen1_D52 | Sert_D52 | Astro_D52_ROT | DA_D52_ROT | Epen1_D52_ROT | Sert_D52_ROT |\n",
       "|---|---|---|---|---|---|---|---|---|---|---|---|---|---|---|---|---|\n",
       "| ENSG00000117620 | 1_100000012_G_T | 0.003733488     | -0.16763392     | -0.04484672     | -0.06701619     |  0.004470747    |  0.050823625    | -0.018127087    | 0.11503736      | 0.009613173     |  0.07458330     |  0.034153967    |  0.031366311    | -0.02870009     | -0.04608305     | -0.02869762     |\n",
       "| ENSG00000162688 | 1_100000012_G_T | 0.014981286     | -0.03836986     | -0.01255951     | -0.04899305     | -0.077834444    |  0.022358730    |  0.004286837    | 0.08531304      | 0.015302154     |  0.07503926     |  0.063938439    |  0.036313340    |  0.07747842     |  0.10994430     | -0.10938893     |\n",
       "| ENSG00000117620 | 1_100000827_C_T | 0.038008685     | -0.28188004     | -0.03713182     | -0.04476666     |  0.009709420    |  0.058582001    | -0.049702296    | 0.01029236      | 0.022937528     |  0.06998245     |  0.020804101    |  0.012615325    | -0.05852517     | -0.01296488     | -0.04398115     |\n",
       "| ENSG00000162688 | 1_100000827_C_T | 0.028734773     | -0.12406424     | -0.02400545     | -0.05881232     | -0.055653810    | -0.031849387    |  0.030958801    | 0.12295515      | 0.026992971     |  0.03430386     |  0.006075979    | -0.001886255    |  0.06748032     |  0.05801604     | -0.08382679     |\n",
       "| ENSG00000117620 | 1_100000843_T_C | 0.106098651     | -0.28298535     |  0.04829843     |  0.11849477     |  0.019096011    | -0.001322619    | -0.113561603    |         NA      | 0.038367766     | -0.05218642     | -0.069689569    | -0.049372059    | -0.09052682     |  0.12148572     | -0.04031355     |\n",
       "| ENSG00000162688 | 1_100000843_T_C | 0.037057395     | -0.25716698     | -0.03600583     | -0.01392734     |  0.114411779    | -0.175277863    |  0.092231179    |         NA      | 0.033289992     | -0.15673689     | -0.185846391    | -0.090876308    | -0.02254362     | -0.20106291     |  0.08886983     |\n",
       "\n"
      ],
      "text/plain": [
       "  Gene            SNP             FPP_D11     NB_D11      P_FPP_D11  \n",
       "1 ENSG00000117620 1_100000012_G_T 0.003733488 -0.16763392 -0.04484672\n",
       "2 ENSG00000162688 1_100000012_G_T 0.014981286 -0.03836986 -0.01255951\n",
       "3 ENSG00000117620 1_100000827_C_T 0.038008685 -0.28188004 -0.03713182\n",
       "4 ENSG00000162688 1_100000827_C_T 0.028734773 -0.12406424 -0.02400545\n",
       "5 ENSG00000117620 1_100000843_T_C 0.106098651 -0.28298535  0.04829843\n",
       "6 ENSG00000162688 1_100000843_T_C 0.037057395 -0.25716698 -0.03600583\n",
       "  FPP_D30     DA_D30       Epen1_D30    Sert_D30     Astro_D52  DA_D52     \n",
       "1 -0.06701619  0.004470747  0.050823625 -0.018127087 0.11503736 0.009613173\n",
       "2 -0.04899305 -0.077834444  0.022358730  0.004286837 0.08531304 0.015302154\n",
       "3 -0.04476666  0.009709420  0.058582001 -0.049702296 0.01029236 0.022937528\n",
       "4 -0.05881232 -0.055653810 -0.031849387  0.030958801 0.12295515 0.026992971\n",
       "5  0.11849477  0.019096011 -0.001322619 -0.113561603         NA 0.038367766\n",
       "6 -0.01392734  0.114411779 -0.175277863  0.092231179         NA 0.033289992\n",
       "  Epen1_D52   Sert_D52     Astro_D52_ROT DA_D52_ROT  Epen1_D52_ROT Sert_D52_ROT\n",
       "1  0.07458330  0.034153967  0.031366311  -0.02870009 -0.04608305   -0.02869762 \n",
       "2  0.07503926  0.063938439  0.036313340   0.07747842  0.10994430   -0.10938893 \n",
       "3  0.06998245  0.020804101  0.012615325  -0.05852517 -0.01296488   -0.04398115 \n",
       "4  0.03430386  0.006075979 -0.001886255   0.06748032  0.05801604   -0.08382679 \n",
       "5 -0.05218642 -0.069689569 -0.049372059  -0.09052682  0.12148572   -0.04031355 \n",
       "6 -0.15673689 -0.185846391 -0.090876308  -0.02254362 -0.20106291    0.08886983 "
      ]
     },
     "metadata": {},
     "output_type": "display_data"
    }
   ],
   "source": [
    "# df_beta$X = c()\n",
    "# df_beta$Gene = gsub(\"*.*-\",\"\",df_beta$QTL)\n",
    "# df_beta$SNP = gsub(\"-.*\",\"\",df_beta$QTL)\n",
    "# df_beta$QTL = c()\n",
    "head(df_beta[,c(16,17,1:15)])\n",
    "write.table(df_beta[,c(16,17,1:15)], \"/hps/nobackup/stegle/users/acuomo/all_scripts/sc_neuroseq/eqtl/all_eqtl_betas.tsv\", sep = \"\\t\",\n",
    "           quote = FALSE, row.names = FALSE, col.names = TRUE)"
   ]
  },
  {
   "cell_type": "code",
   "execution_count": null,
   "metadata": {},
   "outputs": [],
   "source": []
  },
  {
   "cell_type": "code",
   "execution_count": 53,
   "metadata": {},
   "outputs": [
    {
     "data": {
      "text/html": [
       "<table>\n",
       "<thead><tr><th scope=col>FPP_D11</th><th scope=col>NB_D11</th><th scope=col>P_FPP_D11</th><th scope=col>FPP_D30</th><th scope=col>DA_D30</th><th scope=col>Epen1_D30</th><th scope=col>Sert_D30</th><th scope=col>Astro_D52</th><th scope=col>DA_D52</th><th scope=col>Epen1_D52</th><th scope=col>Sert_D52</th><th scope=col>Astro_D52_ROT</th><th scope=col>DA_D52_ROT</th><th scope=col>Epen1_D52_ROT</th><th scope=col>Sert_D52_ROT</th><th scope=col>Gene</th><th scope=col>SNP</th></tr></thead>\n",
       "<tbody>\n",
       "\t<tr><td>0.003733488    </td><td>-0.16763392    </td><td>-0.04484672    </td><td>-0.06701619    </td><td> 0.004470747   </td><td> 0.050823625   </td><td>-0.018127087   </td><td>0.11503736     </td><td>0.009613173    </td><td> 0.07458330    </td><td> 0.034153967   </td><td> 0.031366311   </td><td>-0.02870009    </td><td>-0.04608305    </td><td>-0.02869762    </td><td>ENSG00000117620</td><td>1_100000012_G_T</td></tr>\n",
       "\t<tr><td>0.014981286    </td><td>-0.03836986    </td><td>-0.01255951    </td><td>-0.04899305    </td><td>-0.077834444   </td><td> 0.022358730   </td><td> 0.004286837   </td><td>0.08531304     </td><td>0.015302154    </td><td> 0.07503926    </td><td> 0.063938439   </td><td> 0.036313340   </td><td> 0.07747842    </td><td> 0.10994430    </td><td>-0.10938893    </td><td>ENSG00000162688</td><td>1_100000012_G_T</td></tr>\n",
       "\t<tr><td>0.038008685    </td><td>-0.28188004    </td><td>-0.03713182    </td><td>-0.04476666    </td><td> 0.009709420   </td><td> 0.058582001   </td><td>-0.049702296   </td><td>0.01029236     </td><td>0.022937528    </td><td> 0.06998245    </td><td> 0.020804101   </td><td> 0.012615325   </td><td>-0.05852517    </td><td>-0.01296488    </td><td>-0.04398115    </td><td>ENSG00000117620</td><td>1_100000827_C_T</td></tr>\n",
       "\t<tr><td>0.028734773    </td><td>-0.12406424    </td><td>-0.02400545    </td><td>-0.05881232    </td><td>-0.055653810   </td><td>-0.031849387   </td><td> 0.030958801   </td><td>0.12295515     </td><td>0.026992971    </td><td> 0.03430386    </td><td> 0.006075979   </td><td>-0.001886255   </td><td> 0.06748032    </td><td> 0.05801604    </td><td>-0.08382679    </td><td>ENSG00000162688</td><td>1_100000827_C_T</td></tr>\n",
       "\t<tr><td>0.106098651    </td><td>-0.28298535    </td><td> 0.04829843    </td><td> 0.11849477    </td><td> 0.019096011   </td><td>-0.001322619   </td><td>-0.113561603   </td><td>        NA     </td><td>0.038367766    </td><td>-0.05218642    </td><td>-0.069689569   </td><td>-0.049372059   </td><td>-0.09052682    </td><td> 0.12148572    </td><td>-0.04031355    </td><td>ENSG00000117620</td><td>1_100000843_T_C</td></tr>\n",
       "\t<tr><td>0.037057395    </td><td>-0.25716698    </td><td>-0.03600583    </td><td>-0.01392734    </td><td> 0.114411779   </td><td>-0.175277863   </td><td> 0.092231179   </td><td>        NA     </td><td>0.033289992    </td><td>-0.15673689    </td><td>-0.185846391   </td><td>-0.090876308   </td><td>-0.02254362    </td><td>-0.20106291    </td><td> 0.08886983    </td><td>ENSG00000162688</td><td>1_100000843_T_C</td></tr>\n",
       "</tbody>\n",
       "</table>\n"
      ],
      "text/latex": [
       "\\begin{tabular}{r|lllllllllllllllll}\n",
       " FPP\\_D11 & NB\\_D11 & P\\_FPP\\_D11 & FPP\\_D30 & DA\\_D30 & Epen1\\_D30 & Sert\\_D30 & Astro\\_D52 & DA\\_D52 & Epen1\\_D52 & Sert\\_D52 & Astro\\_D52\\_ROT & DA\\_D52\\_ROT & Epen1\\_D52\\_ROT & Sert\\_D52\\_ROT & Gene & SNP\\\\\n",
       "\\hline\n",
       "\t 0.003733488           & -0.16763392           & -0.04484672           & -0.06701619           &  0.004470747          &  0.050823625          & -0.018127087          & 0.11503736            & 0.009613173           &  0.07458330           &  0.034153967          &  0.031366311          & -0.02870009           & -0.04608305           & -0.02869762           & ENSG00000117620       & 1\\_100000012\\_G\\_T\\\\\n",
       "\t 0.014981286           & -0.03836986           & -0.01255951           & -0.04899305           & -0.077834444          &  0.022358730          &  0.004286837          & 0.08531304            & 0.015302154           &  0.07503926           &  0.063938439          &  0.036313340          &  0.07747842           &  0.10994430           & -0.10938893           & ENSG00000162688       & 1\\_100000012\\_G\\_T\\\\\n",
       "\t 0.038008685           & -0.28188004           & -0.03713182           & -0.04476666           &  0.009709420          &  0.058582001          & -0.049702296          & 0.01029236            & 0.022937528           &  0.06998245           &  0.020804101          &  0.012615325          & -0.05852517           & -0.01296488           & -0.04398115           & ENSG00000117620       & 1\\_100000827\\_C\\_T\\\\\n",
       "\t 0.028734773           & -0.12406424           & -0.02400545           & -0.05881232           & -0.055653810          & -0.031849387          &  0.030958801          & 0.12295515            & 0.026992971           &  0.03430386           &  0.006075979          & -0.001886255          &  0.06748032           &  0.05801604           & -0.08382679           & ENSG00000162688       & 1\\_100000827\\_C\\_T\\\\\n",
       "\t 0.106098651           & -0.28298535           &  0.04829843           &  0.11849477           &  0.019096011          & -0.001322619          & -0.113561603          &         NA            & 0.038367766           & -0.05218642           & -0.069689569          & -0.049372059          & -0.09052682           &  0.12148572           & -0.04031355           & ENSG00000117620       & 1\\_100000843\\_T\\_C\\\\\n",
       "\t 0.037057395           & -0.25716698           & -0.03600583           & -0.01392734           &  0.114411779          & -0.175277863          &  0.092231179          &         NA            & 0.033289992           & -0.15673689           & -0.185846391          & -0.090876308          & -0.02254362           & -0.20106291           &  0.08886983           & ENSG00000162688       & 1\\_100000843\\_T\\_C\\\\\n",
       "\\end{tabular}\n"
      ],
      "text/markdown": [
       "\n",
       "| FPP_D11 | NB_D11 | P_FPP_D11 | FPP_D30 | DA_D30 | Epen1_D30 | Sert_D30 | Astro_D52 | DA_D52 | Epen1_D52 | Sert_D52 | Astro_D52_ROT | DA_D52_ROT | Epen1_D52_ROT | Sert_D52_ROT | Gene | SNP |\n",
       "|---|---|---|---|---|---|---|---|---|---|---|---|---|---|---|---|---|\n",
       "| 0.003733488     | -0.16763392     | -0.04484672     | -0.06701619     |  0.004470747    |  0.050823625    | -0.018127087    | 0.11503736      | 0.009613173     |  0.07458330     |  0.034153967    |  0.031366311    | -0.02870009     | -0.04608305     | -0.02869762     | ENSG00000117620 | 1_100000012_G_T |\n",
       "| 0.014981286     | -0.03836986     | -0.01255951     | -0.04899305     | -0.077834444    |  0.022358730    |  0.004286837    | 0.08531304      | 0.015302154     |  0.07503926     |  0.063938439    |  0.036313340    |  0.07747842     |  0.10994430     | -0.10938893     | ENSG00000162688 | 1_100000012_G_T |\n",
       "| 0.038008685     | -0.28188004     | -0.03713182     | -0.04476666     |  0.009709420    |  0.058582001    | -0.049702296    | 0.01029236      | 0.022937528     |  0.06998245     |  0.020804101    |  0.012615325    | -0.05852517     | -0.01296488     | -0.04398115     | ENSG00000117620 | 1_100000827_C_T |\n",
       "| 0.028734773     | -0.12406424     | -0.02400545     | -0.05881232     | -0.055653810    | -0.031849387    |  0.030958801    | 0.12295515      | 0.026992971     |  0.03430386     |  0.006075979    | -0.001886255    |  0.06748032     |  0.05801604     | -0.08382679     | ENSG00000162688 | 1_100000827_C_T |\n",
       "| 0.106098651     | -0.28298535     |  0.04829843     |  0.11849477     |  0.019096011    | -0.001322619    | -0.113561603    |         NA      | 0.038367766     | -0.05218642     | -0.069689569    | -0.049372059    | -0.09052682     |  0.12148572     | -0.04031355     | ENSG00000117620 | 1_100000843_T_C |\n",
       "| 0.037057395     | -0.25716698     | -0.03600583     | -0.01392734     |  0.114411779    | -0.175277863    |  0.092231179    |         NA      | 0.033289992     | -0.15673689     | -0.185846391    | -0.090876308    | -0.02254362     | -0.20106291     |  0.08886983     | ENSG00000162688 | 1_100000843_T_C |\n",
       "\n"
      ],
      "text/plain": [
       "  FPP_D11     NB_D11      P_FPP_D11   FPP_D30     DA_D30       Epen1_D30   \n",
       "1 0.003733488 -0.16763392 -0.04484672 -0.06701619  0.004470747  0.050823625\n",
       "2 0.014981286 -0.03836986 -0.01255951 -0.04899305 -0.077834444  0.022358730\n",
       "3 0.038008685 -0.28188004 -0.03713182 -0.04476666  0.009709420  0.058582001\n",
       "4 0.028734773 -0.12406424 -0.02400545 -0.05881232 -0.055653810 -0.031849387\n",
       "5 0.106098651 -0.28298535  0.04829843  0.11849477  0.019096011 -0.001322619\n",
       "6 0.037057395 -0.25716698 -0.03600583 -0.01392734  0.114411779 -0.175277863\n",
       "  Sert_D30     Astro_D52  DA_D52      Epen1_D52   Sert_D52     Astro_D52_ROT\n",
       "1 -0.018127087 0.11503736 0.009613173  0.07458330  0.034153967  0.031366311 \n",
       "2  0.004286837 0.08531304 0.015302154  0.07503926  0.063938439  0.036313340 \n",
       "3 -0.049702296 0.01029236 0.022937528  0.06998245  0.020804101  0.012615325 \n",
       "4  0.030958801 0.12295515 0.026992971  0.03430386  0.006075979 -0.001886255 \n",
       "5 -0.113561603         NA 0.038367766 -0.05218642 -0.069689569 -0.049372059 \n",
       "6  0.092231179         NA 0.033289992 -0.15673689 -0.185846391 -0.090876308 \n",
       "  DA_D52_ROT  Epen1_D52_ROT Sert_D52_ROT Gene            SNP            \n",
       "1 -0.02870009 -0.04608305   -0.02869762  ENSG00000117620 1_100000012_G_T\n",
       "2  0.07747842  0.10994430   -0.10938893  ENSG00000162688 1_100000012_G_T\n",
       "3 -0.05852517 -0.01296488   -0.04398115  ENSG00000117620 1_100000827_C_T\n",
       "4  0.06748032  0.05801604   -0.08382679  ENSG00000162688 1_100000827_C_T\n",
       "5 -0.09052682  0.12148572   -0.04031355  ENSG00000117620 1_100000843_T_C\n",
       "6 -0.02254362 -0.20106291    0.08886983  ENSG00000162688 1_100000843_T_C"
      ]
     },
     "metadata": {},
     "output_type": "display_data"
    }
   ],
   "source": [
    "head(df_beta)"
   ]
  },
  {
   "cell_type": "code",
   "execution_count": 54,
   "metadata": {},
   "outputs": [
    {
     "data": {
      "text/html": [
       "<table>\n",
       "<thead><tr><th scope=col>FPP_D11</th><th scope=col>NB_D11</th><th scope=col>P_FPP_D11</th><th scope=col>FPP_D30</th><th scope=col>DA_D30</th><th scope=col>Epen1_D30</th><th scope=col>Sert_D30</th><th scope=col>Astro_D52</th><th scope=col>DA_D52</th><th scope=col>Epen1_D52</th><th scope=col>Sert_D52</th><th scope=col>Astro_D52_ROT</th><th scope=col>DA_D52_ROT</th><th scope=col>Epen1_D52_ROT</th><th scope=col>Sert_D52_ROT</th><th scope=col>Gene</th><th scope=col>SNP</th></tr></thead>\n",
       "<tbody>\n",
       "\t<tr><td>0.05571716     </td><td>0.08463037     </td><td>0.04535771     </td><td>0.05598378     </td><td>0.05449616     </td><td>0.05273507     </td><td>0.05789487     </td><td>0.07007849     </td><td>0.06293695     </td><td>0.04872049     </td><td>0.03764550     </td><td>0.06737268     </td><td>0.07732575     </td><td>0.04380677     </td><td>0.05925302     </td><td>ENSG00000117620</td><td>1_100000012_G_T</td></tr>\n",
       "\t<tr><td>0.04912229     </td><td>0.10996741     </td><td>0.04862218     </td><td>0.04518739     </td><td>0.04134374     </td><td>0.07109658     </td><td>0.05776824     </td><td>0.08987391     </td><td>0.06913416     </td><td>0.07458844     </td><td>0.07298057     </td><td>0.08729451     </td><td>0.09536294     </td><td>0.07203587     </td><td>0.07553552     </td><td>ENSG00000162688</td><td>1_100000012_G_T</td></tr>\n",
       "\t<tr><td>0.05920100     </td><td>0.08939767     </td><td>0.04811951     </td><td>0.05950875     </td><td>0.05684144     </td><td>0.05679405     </td><td>0.05826174     </td><td>0.07261764     </td><td>0.06425234     </td><td>0.05213277     </td><td>0.03996900     </td><td>0.07072335     </td><td>0.07777274     </td><td>0.04661191     </td><td>0.06359943     </td><td>ENSG00000117620</td><td>1_100000827_C_T</td></tr>\n",
       "\t<tr><td>0.05220870     </td><td>0.11801864     </td><td>0.05145207     </td><td>0.04793824     </td><td>0.04324769     </td><td>0.07678245     </td><td>0.05833711     </td><td>0.09068247     </td><td>0.07054886     </td><td>0.07791362     </td><td>0.07306495     </td><td>0.09084063     </td><td>0.09405804     </td><td>0.07637377     </td><td>0.07671343     </td><td>ENSG00000162688</td><td>1_100000827_C_T</td></tr>\n",
       "\t<tr><td>0.10481269     </td><td>0.16427673     </td><td>0.09178729     </td><td>0.11674928     </td><td>0.11284396     </td><td>0.10395736     </td><td>0.11090523     </td><td>        NA     </td><td>0.11074661     </td><td>0.09665912     </td><td>0.07941732     </td><td>0.10610097     </td><td>0.13638939     </td><td>0.08194127     </td><td>0.12245394     </td><td>ENSG00000117620</td><td>1_100000843_T_C</td></tr>\n",
       "\t<tr><td>0.09253398     </td><td>0.21189227     </td><td>0.09796069     </td><td>0.09435077     </td><td>0.08584137     </td><td>0.13316325     </td><td>0.10858373     </td><td>        NA     </td><td>0.12244857     </td><td>0.14150945     </td><td>0.13050260     </td><td>0.13479842     </td><td>0.15949558     </td><td>0.13412159     </td><td>0.13535313     </td><td>ENSG00000162688</td><td>1_100000843_T_C</td></tr>\n",
       "</tbody>\n",
       "</table>\n"
      ],
      "text/latex": [
       "\\begin{tabular}{r|lllllllllllllllll}\n",
       " FPP\\_D11 & NB\\_D11 & P\\_FPP\\_D11 & FPP\\_D30 & DA\\_D30 & Epen1\\_D30 & Sert\\_D30 & Astro\\_D52 & DA\\_D52 & Epen1\\_D52 & Sert\\_D52 & Astro\\_D52\\_ROT & DA\\_D52\\_ROT & Epen1\\_D52\\_ROT & Sert\\_D52\\_ROT & Gene & SNP\\\\\n",
       "\\hline\n",
       "\t 0.05571716            & 0.08463037            & 0.04535771            & 0.05598378            & 0.05449616            & 0.05273507            & 0.05789487            & 0.07007849            & 0.06293695            & 0.04872049            & 0.03764550            & 0.06737268            & 0.07732575            & 0.04380677            & 0.05925302            & ENSG00000117620       & 1\\_100000012\\_G\\_T\\\\\n",
       "\t 0.04912229            & 0.10996741            & 0.04862218            & 0.04518739            & 0.04134374            & 0.07109658            & 0.05776824            & 0.08987391            & 0.06913416            & 0.07458844            & 0.07298057            & 0.08729451            & 0.09536294            & 0.07203587            & 0.07553552            & ENSG00000162688       & 1\\_100000012\\_G\\_T\\\\\n",
       "\t 0.05920100            & 0.08939767            & 0.04811951            & 0.05950875            & 0.05684144            & 0.05679405            & 0.05826174            & 0.07261764            & 0.06425234            & 0.05213277            & 0.03996900            & 0.07072335            & 0.07777274            & 0.04661191            & 0.06359943            & ENSG00000117620       & 1\\_100000827\\_C\\_T\\\\\n",
       "\t 0.05220870            & 0.11801864            & 0.05145207            & 0.04793824            & 0.04324769            & 0.07678245            & 0.05833711            & 0.09068247            & 0.07054886            & 0.07791362            & 0.07306495            & 0.09084063            & 0.09405804            & 0.07637377            & 0.07671343            & ENSG00000162688       & 1\\_100000827\\_C\\_T\\\\\n",
       "\t 0.10481269            & 0.16427673            & 0.09178729            & 0.11674928            & 0.11284396            & 0.10395736            & 0.11090523            &         NA            & 0.11074661            & 0.09665912            & 0.07941732            & 0.10610097            & 0.13638939            & 0.08194127            & 0.12245394            & ENSG00000117620       & 1\\_100000843\\_T\\_C\\\\\n",
       "\t 0.09253398            & 0.21189227            & 0.09796069            & 0.09435077            & 0.08584137            & 0.13316325            & 0.10858373            &         NA            & 0.12244857            & 0.14150945            & 0.13050260            & 0.13479842            & 0.15949558            & 0.13412159            & 0.13535313            & ENSG00000162688       & 1\\_100000843\\_T\\_C\\\\\n",
       "\\end{tabular}\n"
      ],
      "text/markdown": [
       "\n",
       "| FPP_D11 | NB_D11 | P_FPP_D11 | FPP_D30 | DA_D30 | Epen1_D30 | Sert_D30 | Astro_D52 | DA_D52 | Epen1_D52 | Sert_D52 | Astro_D52_ROT | DA_D52_ROT | Epen1_D52_ROT | Sert_D52_ROT | Gene | SNP |\n",
       "|---|---|---|---|---|---|---|---|---|---|---|---|---|---|---|---|---|\n",
       "| 0.05571716      | 0.08463037      | 0.04535771      | 0.05598378      | 0.05449616      | 0.05273507      | 0.05789487      | 0.07007849      | 0.06293695      | 0.04872049      | 0.03764550      | 0.06737268      | 0.07732575      | 0.04380677      | 0.05925302      | ENSG00000117620 | 1_100000012_G_T |\n",
       "| 0.04912229      | 0.10996741      | 0.04862218      | 0.04518739      | 0.04134374      | 0.07109658      | 0.05776824      | 0.08987391      | 0.06913416      | 0.07458844      | 0.07298057      | 0.08729451      | 0.09536294      | 0.07203587      | 0.07553552      | ENSG00000162688 | 1_100000012_G_T |\n",
       "| 0.05920100      | 0.08939767      | 0.04811951      | 0.05950875      | 0.05684144      | 0.05679405      | 0.05826174      | 0.07261764      | 0.06425234      | 0.05213277      | 0.03996900      | 0.07072335      | 0.07777274      | 0.04661191      | 0.06359943      | ENSG00000117620 | 1_100000827_C_T |\n",
       "| 0.05220870      | 0.11801864      | 0.05145207      | 0.04793824      | 0.04324769      | 0.07678245      | 0.05833711      | 0.09068247      | 0.07054886      | 0.07791362      | 0.07306495      | 0.09084063      | 0.09405804      | 0.07637377      | 0.07671343      | ENSG00000162688 | 1_100000827_C_T |\n",
       "| 0.10481269      | 0.16427673      | 0.09178729      | 0.11674928      | 0.11284396      | 0.10395736      | 0.11090523      |         NA      | 0.11074661      | 0.09665912      | 0.07941732      | 0.10610097      | 0.13638939      | 0.08194127      | 0.12245394      | ENSG00000117620 | 1_100000843_T_C |\n",
       "| 0.09253398      | 0.21189227      | 0.09796069      | 0.09435077      | 0.08584137      | 0.13316325      | 0.10858373      |         NA      | 0.12244857      | 0.14150945      | 0.13050260      | 0.13479842      | 0.15949558      | 0.13412159      | 0.13535313      | ENSG00000162688 | 1_100000843_T_C |\n",
       "\n"
      ],
      "text/plain": [
       "  FPP_D11    NB_D11     P_FPP_D11  FPP_D30    DA_D30     Epen1_D30  Sert_D30  \n",
       "1 0.05571716 0.08463037 0.04535771 0.05598378 0.05449616 0.05273507 0.05789487\n",
       "2 0.04912229 0.10996741 0.04862218 0.04518739 0.04134374 0.07109658 0.05776824\n",
       "3 0.05920100 0.08939767 0.04811951 0.05950875 0.05684144 0.05679405 0.05826174\n",
       "4 0.05220870 0.11801864 0.05145207 0.04793824 0.04324769 0.07678245 0.05833711\n",
       "5 0.10481269 0.16427673 0.09178729 0.11674928 0.11284396 0.10395736 0.11090523\n",
       "6 0.09253398 0.21189227 0.09796069 0.09435077 0.08584137 0.13316325 0.10858373\n",
       "  Astro_D52  DA_D52     Epen1_D52  Sert_D52   Astro_D52_ROT DA_D52_ROT\n",
       "1 0.07007849 0.06293695 0.04872049 0.03764550 0.06737268    0.07732575\n",
       "2 0.08987391 0.06913416 0.07458844 0.07298057 0.08729451    0.09536294\n",
       "3 0.07261764 0.06425234 0.05213277 0.03996900 0.07072335    0.07777274\n",
       "4 0.09068247 0.07054886 0.07791362 0.07306495 0.09084063    0.09405804\n",
       "5         NA 0.11074661 0.09665912 0.07941732 0.10610097    0.13638939\n",
       "6         NA 0.12244857 0.14150945 0.13050260 0.13479842    0.15949558\n",
       "  Epen1_D52_ROT Sert_D52_ROT Gene            SNP            \n",
       "1 0.04380677    0.05925302   ENSG00000117620 1_100000012_G_T\n",
       "2 0.07203587    0.07553552   ENSG00000162688 1_100000012_G_T\n",
       "3 0.04661191    0.06359943   ENSG00000117620 1_100000827_C_T\n",
       "4 0.07637377    0.07671343   ENSG00000162688 1_100000827_C_T\n",
       "5 0.08194127    0.12245394   ENSG00000117620 1_100000843_T_C\n",
       "6 0.13412159    0.13535313   ENSG00000162688 1_100000843_T_C"
      ]
     },
     "metadata": {},
     "output_type": "display_data"
    }
   ],
   "source": [
    "head(df_beta_se)"
   ]
  },
  {
   "cell_type": "code",
   "execution_count": 55,
   "metadata": {},
   "outputs": [],
   "source": [
    "### load all leads"
   ]
  },
  {
   "cell_type": "code",
   "execution_count": 57,
   "metadata": {},
   "outputs": [
    {
     "data": {
      "text/html": [
       "<table>\n",
       "<thead><tr><th></th><th scope=col>snp_id</th><th scope=col>p_value</th><th scope=col>beta</th><th scope=col>beta_se</th><th scope=col>empirical_feature_p_value</th><th scope=col>feature_chromosome</th><th scope=col>feature_start</th><th scope=col>feature_end</th><th scope=col>n_samples</th><th scope=col>n_e_samples</th><th scope=col>...</th><th scope=col>snp_chromosome</th><th scope=col>snp_position</th><th scope=col>assessed_allele</th><th scope=col>call_rate</th><th scope=col>maf</th><th scope=col>hwe_p</th><th scope=col>feature_id</th><th scope=col>BH_fdr</th><th scope=col>q_value</th><th scope=col>label</th></tr></thead>\n",
       "<tbody>\n",
       "\t<tr><th scope=row>2</th><td>11_107726716_A_C</td><td>4.544994e-05    </td><td> 0.09036565     </td><td>0.02216001      </td><td>0.0001665921    </td><td>11              </td><td>107661717       </td><td>107799019       </td><td>173             </td><td>173             </td><td>...             </td><td>11              </td><td>107726716       </td><td>C               </td><td>1               </td><td>0.4306358       </td><td>0.5386349       </td><td>ENSG00000110660 </td><td>0.001808781     </td><td>0.00075681      </td><td>FPP_D11         </td></tr>\n",
       "\t<tr><th scope=row>7</th><td>11_106001229_C_A</td><td>5.034677e-05    </td><td>-0.24701335     </td><td>0.06093060      </td><td>0.0258019418    </td><td>11              </td><td>105946228       </td><td>105969437       </td><td>173             </td><td>173             </td><td>...             </td><td>11              </td><td>106001229       </td><td>A               </td><td>1               </td><td>0.1213873       </td><td>0.4744572       </td><td>ENSG00000149313 </td><td>0.116865230     </td><td>0.04889743      </td><td>FPP_D11         </td></tr>\n",
       "</tbody>\n",
       "</table>\n"
      ],
      "text/latex": [
       "\\begin{tabular}{r|llllllllllllllllllllll}\n",
       "  & snp\\_id & p\\_value & beta & beta\\_se & empirical\\_feature\\_p\\_value & feature\\_chromosome & feature\\_start & feature\\_end & n\\_samples & n\\_e\\_samples & ... & snp\\_chromosome & snp\\_position & assessed\\_allele & call\\_rate & maf & hwe\\_p & feature\\_id & BH\\_fdr & q\\_value & label\\\\\n",
       "\\hline\n",
       "\t2 & 11\\_107726716\\_A\\_C & 4.544994e-05           &  0.09036565            & 0.02216001             & 0.0001665921           & 11                     & 107661717              & 107799019              & 173                    & 173                    & ...                    & 11                     & 107726716              & C                      & 1                      & 0.4306358              & 0.5386349              & ENSG00000110660        & 0.001808781            & 0.00075681             & FPP\\_D11             \\\\\n",
       "\t7 & 11\\_106001229\\_C\\_A & 5.034677e-05           & -0.24701335            & 0.06093060             & 0.0258019418           & 11                     & 105946228              & 105969437              & 173                    & 173                    & ...                    & 11                     & 106001229              & A                      & 1                      & 0.1213873              & 0.4744572              & ENSG00000149313        & 0.116865230            & 0.04889743             & FPP\\_D11             \\\\\n",
       "\\end{tabular}\n"
      ],
      "text/markdown": [
       "\n",
       "| <!--/--> | snp_id | p_value | beta | beta_se | empirical_feature_p_value | feature_chromosome | feature_start | feature_end | n_samples | n_e_samples | ... | snp_chromosome | snp_position | assessed_allele | call_rate | maf | hwe_p | feature_id | BH_fdr | q_value | label |\n",
       "|---|---|---|---|---|---|---|---|---|---|---|---|---|---|---|---|---|---|---|---|---|---|\n",
       "| 2 | 11_107726716_A_C | 4.544994e-05     |  0.09036565      | 0.02216001       | 0.0001665921     | 11               | 107661717        | 107799019        | 173              | 173              | ...              | 11               | 107726716        | C                | 1                | 0.4306358        | 0.5386349        | ENSG00000110660  | 0.001808781      | 0.00075681       | FPP_D11          |\n",
       "| 7 | 11_106001229_C_A | 5.034677e-05     | -0.24701335      | 0.06093060       | 0.0258019418     | 11               | 105946228        | 105969437        | 173              | 173              | ...              | 11               | 106001229        | A                | 1                | 0.1213873        | 0.4744572        | ENSG00000149313  | 0.116865230      | 0.04889743       | FPP_D11          |\n",
       "\n"
      ],
      "text/plain": [
       "  snp_id           p_value      beta        beta_se   \n",
       "2 11_107726716_A_C 4.544994e-05  0.09036565 0.02216001\n",
       "7 11_106001229_C_A 5.034677e-05 -0.24701335 0.06093060\n",
       "  empirical_feature_p_value feature_chromosome feature_start feature_end\n",
       "2 0.0001665921              11                 107661717     107799019  \n",
       "7 0.0258019418              11                 105946228     105969437  \n",
       "  n_samples n_e_samples ... snp_chromosome snp_position assessed_allele\n",
       "2 173       173         ... 11             107726716    C              \n",
       "7 173       173         ... 11             106001229    A              \n",
       "  call_rate maf       hwe_p     feature_id      BH_fdr      q_value    label  \n",
       "2 1         0.4306358 0.5386349 ENSG00000110660 0.001808781 0.00075681 FPP_D11\n",
       "7 1         0.1213873 0.4744572 ENSG00000149313 0.116865230 0.04889743 FPP_D11"
      ]
     },
     "metadata": {},
     "output_type": "display_data"
    }
   ],
   "source": [
    "leads_filename = \"/hps/nobackup/stegle/users/acuomo/all_scripts/sc_neuroseq/eqtl/all_leads_5pct_FDR_Storey.csv\"\n",
    "leads = read.csv(leads_filename, row.names = 1)\n",
    "head(leads,2)"
   ]
  },
  {
   "cell_type": "code",
   "execution_count": 58,
   "metadata": {},
   "outputs": [],
   "source": [
    "neuroseq_eqtls = unique(paste0(leads$snp_id,\"-\",leads$feature_id))"
   ]
  },
  {
   "cell_type": "code",
   "execution_count": 67,
   "metadata": {},
   "outputs": [
    {
     "data": {
      "text/html": [
       "15493"
      ],
      "text/latex": [
       "15493"
      ],
      "text/markdown": [
       "15493"
      ],
      "text/plain": [
       "[1] 15493"
      ]
     },
     "metadata": {},
     "output_type": "display_data"
    },
    {
     "data": {
      "text/html": [
       "11199"
      ],
      "text/latex": [
       "11199"
      ],
      "text/markdown": [
       "11199"
      ],
      "text/plain": [
       "[1] 11199"
      ]
     },
     "metadata": {},
     "output_type": "display_data"
    }
   ],
   "source": [
    "nrow(leads)\n",
    "length(neuroseq_eqtls)"
   ]
  },
  {
   "cell_type": "code",
   "execution_count": 63,
   "metadata": {},
   "outputs": [],
   "source": [
    "df_beta$QTL = paste0(df_beta$SNP,\"-\",df_beta$Gene)"
   ]
  },
  {
   "cell_type": "code",
   "execution_count": 69,
   "metadata": {},
   "outputs": [
    {
     "data": {
      "text/html": [
       "7514"
      ],
      "text/latex": [
       "7514"
      ],
      "text/markdown": [
       "7514"
      ],
      "text/plain": [
       "[1] 7514"
      ]
     },
     "metadata": {},
     "output_type": "display_data"
    }
   ],
   "source": [
    "all_eqtls = unique(paste0(df_beta$SNP,\"-\",df_beta$Gene))\n",
    "length(all_eqtls[all_eqtls %in% neuroseq_eqtls])"
   ]
  },
  {
   "cell_type": "code",
   "execution_count": 70,
   "metadata": {
    "scrolled": true
   },
   "outputs": [
    {
     "data": {
      "text/html": [
       "7514"
      ],
      "text/latex": [
       "7514"
      ],
      "text/markdown": [
       "7514"
      ],
      "text/plain": [
       "[1] 7514"
      ]
     },
     "metadata": {},
     "output_type": "display_data"
    }
   ],
   "source": [
    "length(neuroseq_eqtls[neuroseq_eqtls %in% all_eqtls])"
   ]
  },
  {
   "cell_type": "code",
   "execution_count": null,
   "metadata": {},
   "outputs": [],
   "source": []
  },
  {
   "cell_type": "code",
   "execution_count": 65,
   "metadata": {},
   "outputs": [
    {
     "data": {
      "text/html": [
       "19073733"
      ],
      "text/latex": [
       "19073733"
      ],
      "text/markdown": [
       "19073733"
      ],
      "text/plain": [
       "[1] 19073733"
      ]
     },
     "metadata": {},
     "output_type": "display_data"
    },
    {
     "data": {
      "text/html": [
       "7514"
      ],
      "text/latex": [
       "7514"
      ],
      "text/markdown": [
       "7514"
      ],
      "text/plain": [
       "[1] 7514"
      ]
     },
     "metadata": {},
     "output_type": "display_data"
    }
   ],
   "source": [
    "nrow(df_beta)\n",
    "nrow(df_beta[df_beta$QTL %in% neuroseq_eqtls,])"
   ]
  },
  {
   "cell_type": "code",
   "execution_count": 71,
   "metadata": {},
   "outputs": [],
   "source": [
    "df_beta_sel = df_beta[df_beta$QTL %in% neuroseq_eqtls,]"
   ]
  },
  {
   "cell_type": "code",
   "execution_count": 72,
   "metadata": {},
   "outputs": [],
   "source": [
    "df_beta$QTL = c()"
   ]
  },
  {
   "cell_type": "code",
   "execution_count": 73,
   "metadata": {},
   "outputs": [],
   "source": [
    "df_beta_sel$QTL = c()"
   ]
  },
  {
   "cell_type": "code",
   "execution_count": 74,
   "metadata": {},
   "outputs": [
    {
     "data": {
      "text/html": [
       "<table>\n",
       "<thead><tr><th></th><th scope=col>Gene</th><th scope=col>SNP</th><th scope=col>FPP_D11</th><th scope=col>NB_D11</th><th scope=col>P_FPP_D11</th><th scope=col>FPP_D30</th><th scope=col>DA_D30</th><th scope=col>Epen1_D30</th><th scope=col>Sert_D30</th><th scope=col>Astro_D52</th><th scope=col>DA_D52</th><th scope=col>Epen1_D52</th><th scope=col>Sert_D52</th><th scope=col>Astro_D52_ROT</th><th scope=col>DA_D52_ROT</th><th scope=col>Epen1_D52_ROT</th><th scope=col>Sert_D52_ROT</th></tr></thead>\n",
       "<tbody>\n",
       "\t<tr><th scope=row>3500</th><td>ENSG00000162688</td><td>1_100301128_T_G</td><td> 0.015603139   </td><td> 0.045106512   </td><td>-0.01519113    </td><td>-0.02009276    </td><td>-0.030266430   </td><td> 0.005384307   </td><td>-0.2585194460  </td><td>-0.10942489    </td><td>-0.27909368    </td><td>-0.04112886    </td><td>-0.493438179   </td><td>-0.16614293    </td><td>-0.08642536    </td><td>-0.01407635    </td><td>-0.341891145   </td></tr>\n",
       "\t<tr><th scope=row>3560</th><td>ENSG00000188290</td><td>1_1003053_C_T  </td><td>-0.126857444   </td><td>-0.186214607   </td><td>-0.20305646    </td><td>-0.16386886    </td><td> 0.009662663   </td><td>-0.290644390   </td><td> 0.0009150577  </td><td>-0.03354175    </td><td>-0.04439349    </td><td>-0.25513577    </td><td> 0.008804467   </td><td>-0.18188691    </td><td>-0.03986098    </td><td>-0.33677266    </td><td>-0.001490112   </td></tr>\n",
       "\t<tr><th scope=row>3791</th><td>ENSG00000162688</td><td>1_100326258_T_C</td><td> 0.003695506   </td><td>-0.032323893   </td><td> 0.02190326    </td><td> 0.02128603    </td><td> 0.017405909   </td><td>-0.003217216   </td><td> 0.2447660556  </td><td> 0.10942489    </td><td> 0.27909368    </td><td> 0.04112886    </td><td> 0.493438179   </td><td> 0.17303826    </td><td> 0.08642536    </td><td> 0.01407635    </td><td> 0.341891145   </td></tr>\n",
       "\t<tr><th scope=row>7671</th><td>ENSG00000137996</td><td>1_100765409_C_T</td><td>-0.010414679   </td><td> 0.114434119   </td><td>-0.11204631    </td><td>-0.02467420    </td><td> 0.027947212   </td><td>-0.028948273   </td><td>-0.0661169045  </td><td> 0.04349423    </td><td>-0.14727438    </td><td>-0.11680292    </td><td>-0.038750875   </td><td> 0.11335971    </td><td>-0.06172230    </td><td>-0.34761498    </td><td>-0.060563504   </td></tr>\n",
       "\t<tr><th scope=row>18550</th><td>ENSG00000130939</td><td>1_10232534_C_G </td><td> 0.507148474   </td><td>-0.070234095   </td><td> 0.43166690    </td><td> 0.03934685    </td><td>-0.037736462   </td><td>-0.130339622   </td><td>-0.0123242021  </td><td>-0.03735310    </td><td>-0.11057747    </td><td> 0.12102029    </td><td> 0.159095407   </td><td> 0.09501283    </td><td> 0.05795417    </td><td> 0.12078398    </td><td> 0.224709502   </td></tr>\n",
       "\t<tr><th scope=row>25443</th><td>ENSG00000142657</td><td>1_10442856_C_T </td><td> 0.078364141   </td><td> 0.008685605   </td><td> 0.09439871    </td><td> 0.16683541    </td><td> 0.018600029   </td><td> 0.169461523   </td><td> 0.0645441238  </td><td> 0.10446212    </td><td> 0.02971546    </td><td> 0.16689636    </td><td> 0.124388673   </td><td> 0.24216892    </td><td> 0.01520159    </td><td> 0.24708188    </td><td> 0.112528360   </td></tr>\n",
       "</tbody>\n",
       "</table>\n"
      ],
      "text/latex": [
       "\\begin{tabular}{r|lllllllllllllllll}\n",
       "  & Gene & SNP & FPP\\_D11 & NB\\_D11 & P\\_FPP\\_D11 & FPP\\_D30 & DA\\_D30 & Epen1\\_D30 & Sert\\_D30 & Astro\\_D52 & DA\\_D52 & Epen1\\_D52 & Sert\\_D52 & Astro\\_D52\\_ROT & DA\\_D52\\_ROT & Epen1\\_D52\\_ROT & Sert\\_D52\\_ROT\\\\\n",
       "\\hline\n",
       "\t3500 & ENSG00000162688       & 1\\_100301128\\_T\\_G &  0.015603139          &  0.045106512          & -0.01519113           & -0.02009276           & -0.030266430          &  0.005384307          & -0.2585194460         & -0.10942489           & -0.27909368           & -0.04112886           & -0.493438179          & -0.16614293           & -0.08642536           & -0.01407635           & -0.341891145         \\\\\n",
       "\t3560 & ENSG00000188290       & 1\\_1003053\\_C\\_T   & -0.126857444          & -0.186214607          & -0.20305646           & -0.16386886           &  0.009662663          & -0.290644390          &  0.0009150577         & -0.03354175           & -0.04439349           & -0.25513577           &  0.008804467          & -0.18188691           & -0.03986098           & -0.33677266           & -0.001490112         \\\\\n",
       "\t3791 & ENSG00000162688       & 1\\_100326258\\_T\\_C &  0.003695506          & -0.032323893          &  0.02190326           &  0.02128603           &  0.017405909          & -0.003217216          &  0.2447660556         &  0.10942489           &  0.27909368           &  0.04112886           &  0.493438179          &  0.17303826           &  0.08642536           &  0.01407635           &  0.341891145         \\\\\n",
       "\t7671 & ENSG00000137996       & 1\\_100765409\\_C\\_T & -0.010414679          &  0.114434119          & -0.11204631           & -0.02467420           &  0.027947212          & -0.028948273          & -0.0661169045         &  0.04349423           & -0.14727438           & -0.11680292           & -0.038750875          &  0.11335971           & -0.06172230           & -0.34761498           & -0.060563504         \\\\\n",
       "\t18550 & ENSG00000130939       & 1\\_10232534\\_C\\_G  &  0.507148474          & -0.070234095          &  0.43166690           &  0.03934685           & -0.037736462          & -0.130339622          & -0.0123242021         & -0.03735310           & -0.11057747           &  0.12102029           &  0.159095407          &  0.09501283           &  0.05795417           &  0.12078398           &  0.224709502         \\\\\n",
       "\t25443 & ENSG00000142657       & 1\\_10442856\\_C\\_T  &  0.078364141          &  0.008685605          &  0.09439871           &  0.16683541           &  0.018600029          &  0.169461523          &  0.0645441238         &  0.10446212           &  0.02971546           &  0.16689636           &  0.124388673          &  0.24216892           &  0.01520159           &  0.24708188           &  0.112528360         \\\\\n",
       "\\end{tabular}\n"
      ],
      "text/markdown": [
       "\n",
       "| <!--/--> | Gene | SNP | FPP_D11 | NB_D11 | P_FPP_D11 | FPP_D30 | DA_D30 | Epen1_D30 | Sert_D30 | Astro_D52 | DA_D52 | Epen1_D52 | Sert_D52 | Astro_D52_ROT | DA_D52_ROT | Epen1_D52_ROT | Sert_D52_ROT |\n",
       "|---|---|---|---|---|---|---|---|---|---|---|---|---|---|---|---|---|---|\n",
       "| 3500 | ENSG00000162688 | 1_100301128_T_G |  0.015603139    |  0.045106512    | -0.01519113     | -0.02009276     | -0.030266430    |  0.005384307    | -0.2585194460   | -0.10942489     | -0.27909368     | -0.04112886     | -0.493438179    | -0.16614293     | -0.08642536     | -0.01407635     | -0.341891145    |\n",
       "| 3560 | ENSG00000188290 | 1_1003053_C_T   | -0.126857444    | -0.186214607    | -0.20305646     | -0.16386886     |  0.009662663    | -0.290644390    |  0.0009150577   | -0.03354175     | -0.04439349     | -0.25513577     |  0.008804467    | -0.18188691     | -0.03986098     | -0.33677266     | -0.001490112    |\n",
       "| 3791 | ENSG00000162688 | 1_100326258_T_C |  0.003695506    | -0.032323893    |  0.02190326     |  0.02128603     |  0.017405909    | -0.003217216    |  0.2447660556   |  0.10942489     |  0.27909368     |  0.04112886     |  0.493438179    |  0.17303826     |  0.08642536     |  0.01407635     |  0.341891145    |\n",
       "| 7671 | ENSG00000137996 | 1_100765409_C_T | -0.010414679    |  0.114434119    | -0.11204631     | -0.02467420     |  0.027947212    | -0.028948273    | -0.0661169045   |  0.04349423     | -0.14727438     | -0.11680292     | -0.038750875    |  0.11335971     | -0.06172230     | -0.34761498     | -0.060563504    |\n",
       "| 18550 | ENSG00000130939 | 1_10232534_C_G  |  0.507148474    | -0.070234095    |  0.43166690     |  0.03934685     | -0.037736462    | -0.130339622    | -0.0123242021   | -0.03735310     | -0.11057747     |  0.12102029     |  0.159095407    |  0.09501283     |  0.05795417     |  0.12078398     |  0.224709502    |\n",
       "| 25443 | ENSG00000142657 | 1_10442856_C_T  |  0.078364141    |  0.008685605    |  0.09439871     |  0.16683541     |  0.018600029    |  0.169461523    |  0.0645441238   |  0.10446212     |  0.02971546     |  0.16689636     |  0.124388673    |  0.24216892     |  0.01520159     |  0.24708188     |  0.112528360    |\n",
       "\n"
      ],
      "text/plain": [
       "      Gene            SNP             FPP_D11      NB_D11       P_FPP_D11  \n",
       "3500  ENSG00000162688 1_100301128_T_G  0.015603139  0.045106512 -0.01519113\n",
       "3560  ENSG00000188290 1_1003053_C_T   -0.126857444 -0.186214607 -0.20305646\n",
       "3791  ENSG00000162688 1_100326258_T_C  0.003695506 -0.032323893  0.02190326\n",
       "7671  ENSG00000137996 1_100765409_C_T -0.010414679  0.114434119 -0.11204631\n",
       "18550 ENSG00000130939 1_10232534_C_G   0.507148474 -0.070234095  0.43166690\n",
       "25443 ENSG00000142657 1_10442856_C_T   0.078364141  0.008685605  0.09439871\n",
       "      FPP_D30     DA_D30       Epen1_D30    Sert_D30      Astro_D52  \n",
       "3500  -0.02009276 -0.030266430  0.005384307 -0.2585194460 -0.10942489\n",
       "3560  -0.16386886  0.009662663 -0.290644390  0.0009150577 -0.03354175\n",
       "3791   0.02128603  0.017405909 -0.003217216  0.2447660556  0.10942489\n",
       "7671  -0.02467420  0.027947212 -0.028948273 -0.0661169045  0.04349423\n",
       "18550  0.03934685 -0.037736462 -0.130339622 -0.0123242021 -0.03735310\n",
       "25443  0.16683541  0.018600029  0.169461523  0.0645441238  0.10446212\n",
       "      DA_D52      Epen1_D52   Sert_D52     Astro_D52_ROT DA_D52_ROT \n",
       "3500  -0.27909368 -0.04112886 -0.493438179 -0.16614293   -0.08642536\n",
       "3560  -0.04439349 -0.25513577  0.008804467 -0.18188691   -0.03986098\n",
       "3791   0.27909368  0.04112886  0.493438179  0.17303826    0.08642536\n",
       "7671  -0.14727438 -0.11680292 -0.038750875  0.11335971   -0.06172230\n",
       "18550 -0.11057747  0.12102029  0.159095407  0.09501283    0.05795417\n",
       "25443  0.02971546  0.16689636  0.124388673  0.24216892    0.01520159\n",
       "      Epen1_D52_ROT Sert_D52_ROT\n",
       "3500  -0.01407635   -0.341891145\n",
       "3560  -0.33677266   -0.001490112\n",
       "3791   0.01407635    0.341891145\n",
       "7671  -0.34761498   -0.060563504\n",
       "18550  0.12078398    0.224709502\n",
       "25443  0.24708188    0.112528360"
      ]
     },
     "metadata": {},
     "output_type": "display_data"
    }
   ],
   "source": [
    "df_beta_sel = df_beta_sel[,c(16,17,1:15)]\n",
    "head(df_beta_sel)"
   ]
  },
  {
   "cell_type": "code",
   "execution_count": 75,
   "metadata": {},
   "outputs": [],
   "source": [
    "write.table(df_beta_sel, \"/hps/nobackup/stegle/users/acuomo/all_scripts/sc_neuroseq/eqtl/all_significant_eqtl_betas.tsv\", sep = \"\\t\",\n",
    "           quote = FALSE, row.names = FALSE, col.names = TRUE)"
   ]
  },
  {
   "cell_type": "code",
   "execution_count": 76,
   "metadata": {},
   "outputs": [],
   "source": [
    "df_beta_se$QTL = paste0(df_beta_se$SNP,\"-\",df_beta_se$Gene)"
   ]
  },
  {
   "cell_type": "code",
   "execution_count": 77,
   "metadata": {},
   "outputs": [
    {
     "data": {
      "text/html": [
       "7514"
      ],
      "text/latex": [
       "7514"
      ],
      "text/markdown": [
       "7514"
      ],
      "text/plain": [
       "[1] 7514"
      ]
     },
     "metadata": {},
     "output_type": "display_data"
    }
   ],
   "source": [
    "df_beta_se_sel = df_beta_se[df_beta_se$QTL %in% neuroseq_eqtls,]\n",
    "nrow(df_beta_se_sel)"
   ]
  },
  {
   "cell_type": "code",
   "execution_count": 78,
   "metadata": {},
   "outputs": [
    {
     "data": {
      "text/html": [
       "<table>\n",
       "<thead><tr><th></th><th scope=col>Gene</th><th scope=col>SNP</th><th scope=col>FPP_D11</th><th scope=col>NB_D11</th><th scope=col>P_FPP_D11</th><th scope=col>FPP_D30</th><th scope=col>DA_D30</th><th scope=col>Epen1_D30</th><th scope=col>Sert_D30</th><th scope=col>Astro_D52</th><th scope=col>DA_D52</th><th scope=col>Epen1_D52</th><th scope=col>Sert_D52</th><th scope=col>Astro_D52_ROT</th><th scope=col>DA_D52_ROT</th><th scope=col>Epen1_D52_ROT</th><th scope=col>Sert_D52_ROT</th></tr></thead>\n",
       "<tbody>\n",
       "\t<tr><th scope=row>3500</th><td>ENSG00000162688</td><td>1_100301128_T_G</td><td>0.05310038     </td><td>0.13098270     </td><td>0.05099808     </td><td>0.05004836     </td><td>0.04356240     </td><td>0.08214642     </td><td>0.05336018     </td><td>0.09690534     </td><td>0.06588497     </td><td>0.08364576     </td><td>0.06477920     </td><td>0.08847217     </td><td>0.08965647     </td><td>0.08453646     </td><td>0.07395830     </td></tr>\n",
       "\t<tr><th scope=row>3560</th><td>ENSG00000188290</td><td>1_1003053_C_T  </td><td>0.03272484     </td><td>0.08927892     </td><td>0.03658493     </td><td>0.07082828     </td><td>0.04247756     </td><td>0.05922132     </td><td>0.03588632     </td><td>0.08807497     </td><td>0.03553029     </td><td>0.06329097     </td><td>0.03442315     </td><td>0.09649330     </td><td>0.04999355     </td><td>0.06698952     </td><td>0.05532923     </td></tr>\n",
       "\t<tr><th scope=row>3791</th><td>ENSG00000162688</td><td>1_100326258_T_C</td><td>0.05260915     </td><td>0.13068649     </td><td>0.05065606     </td><td>0.04996986     </td><td>0.04375235     </td><td>0.08176130     </td><td>0.05346075     </td><td>0.09690534     </td><td>0.06588497     </td><td>0.08364576     </td><td>0.06477920     </td><td>0.08828514     </td><td>0.08965647     </td><td>0.08453646     </td><td>0.07395830     </td></tr>\n",
       "\t<tr><th scope=row>7671</th><td>ENSG00000137996</td><td>1_100765409_C_T</td><td>0.05067711     </td><td>0.10748553     </td><td>0.04944521     </td><td>0.04501085     </td><td>0.03503656     </td><td>0.05342967     </td><td>0.04317349     </td><td>0.06174228     </td><td>0.06167544     </td><td>0.06045166     </td><td>0.06205646     </td><td>0.08247237     </td><td>0.06527327     </td><td>0.07074981     </td><td>0.06808929     </td></tr>\n",
       "\t<tr><th scope=row>18550</th><td>ENSG00000130939</td><td>1_10232534_C_G </td><td>0.09170573     </td><td>0.14331173     </td><td>0.11610847     </td><td>0.06780468     </td><td>0.07016684     </td><td>0.08610633     </td><td>0.06286608     </td><td>0.07763025     </td><td>0.08979498     </td><td>0.08258432     </td><td>0.06904119     </td><td>0.06330250     </td><td>0.10711314     </td><td>0.07951396     </td><td>0.09324700     </td></tr>\n",
       "\t<tr><th scope=row>25443</th><td>ENSG00000142657</td><td>1_10442856_C_T </td><td>0.02226140     </td><td>0.04987530     </td><td>0.02056765     </td><td>0.03121460     </td><td>0.03043302     </td><td>0.04631132     </td><td>0.03611084     </td><td>0.04395516     </td><td>0.04070716     </td><td>0.03720996     </td><td>0.03946007     </td><td>0.06203099     </td><td>0.05562582     </td><td>0.04811896     </td><td>0.05085448     </td></tr>\n",
       "</tbody>\n",
       "</table>\n"
      ],
      "text/latex": [
       "\\begin{tabular}{r|lllllllllllllllll}\n",
       "  & Gene & SNP & FPP\\_D11 & NB\\_D11 & P\\_FPP\\_D11 & FPP\\_D30 & DA\\_D30 & Epen1\\_D30 & Sert\\_D30 & Astro\\_D52 & DA\\_D52 & Epen1\\_D52 & Sert\\_D52 & Astro\\_D52\\_ROT & DA\\_D52\\_ROT & Epen1\\_D52\\_ROT & Sert\\_D52\\_ROT\\\\\n",
       "\\hline\n",
       "\t3500 & ENSG00000162688       & 1\\_100301128\\_T\\_G & 0.05310038            & 0.13098270            & 0.05099808            & 0.05004836            & 0.04356240            & 0.08214642            & 0.05336018            & 0.09690534            & 0.06588497            & 0.08364576            & 0.06477920            & 0.08847217            & 0.08965647            & 0.08453646            & 0.07395830           \\\\\n",
       "\t3560 & ENSG00000188290       & 1\\_1003053\\_C\\_T   & 0.03272484            & 0.08927892            & 0.03658493            & 0.07082828            & 0.04247756            & 0.05922132            & 0.03588632            & 0.08807497            & 0.03553029            & 0.06329097            & 0.03442315            & 0.09649330            & 0.04999355            & 0.06698952            & 0.05532923           \\\\\n",
       "\t3791 & ENSG00000162688       & 1\\_100326258\\_T\\_C & 0.05260915            & 0.13068649            & 0.05065606            & 0.04996986            & 0.04375235            & 0.08176130            & 0.05346075            & 0.09690534            & 0.06588497            & 0.08364576            & 0.06477920            & 0.08828514            & 0.08965647            & 0.08453646            & 0.07395830           \\\\\n",
       "\t7671 & ENSG00000137996       & 1\\_100765409\\_C\\_T & 0.05067711            & 0.10748553            & 0.04944521            & 0.04501085            & 0.03503656            & 0.05342967            & 0.04317349            & 0.06174228            & 0.06167544            & 0.06045166            & 0.06205646            & 0.08247237            & 0.06527327            & 0.07074981            & 0.06808929           \\\\\n",
       "\t18550 & ENSG00000130939       & 1\\_10232534\\_C\\_G  & 0.09170573            & 0.14331173            & 0.11610847            & 0.06780468            & 0.07016684            & 0.08610633            & 0.06286608            & 0.07763025            & 0.08979498            & 0.08258432            & 0.06904119            & 0.06330250            & 0.10711314            & 0.07951396            & 0.09324700           \\\\\n",
       "\t25443 & ENSG00000142657       & 1\\_10442856\\_C\\_T  & 0.02226140            & 0.04987530            & 0.02056765            & 0.03121460            & 0.03043302            & 0.04631132            & 0.03611084            & 0.04395516            & 0.04070716            & 0.03720996            & 0.03946007            & 0.06203099            & 0.05562582            & 0.04811896            & 0.05085448           \\\\\n",
       "\\end{tabular}\n"
      ],
      "text/markdown": [
       "\n",
       "| <!--/--> | Gene | SNP | FPP_D11 | NB_D11 | P_FPP_D11 | FPP_D30 | DA_D30 | Epen1_D30 | Sert_D30 | Astro_D52 | DA_D52 | Epen1_D52 | Sert_D52 | Astro_D52_ROT | DA_D52_ROT | Epen1_D52_ROT | Sert_D52_ROT |\n",
       "|---|---|---|---|---|---|---|---|---|---|---|---|---|---|---|---|---|---|\n",
       "| 3500 | ENSG00000162688 | 1_100301128_T_G | 0.05310038      | 0.13098270      | 0.05099808      | 0.05004836      | 0.04356240      | 0.08214642      | 0.05336018      | 0.09690534      | 0.06588497      | 0.08364576      | 0.06477920      | 0.08847217      | 0.08965647      | 0.08453646      | 0.07395830      |\n",
       "| 3560 | ENSG00000188290 | 1_1003053_C_T   | 0.03272484      | 0.08927892      | 0.03658493      | 0.07082828      | 0.04247756      | 0.05922132      | 0.03588632      | 0.08807497      | 0.03553029      | 0.06329097      | 0.03442315      | 0.09649330      | 0.04999355      | 0.06698952      | 0.05532923      |\n",
       "| 3791 | ENSG00000162688 | 1_100326258_T_C | 0.05260915      | 0.13068649      | 0.05065606      | 0.04996986      | 0.04375235      | 0.08176130      | 0.05346075      | 0.09690534      | 0.06588497      | 0.08364576      | 0.06477920      | 0.08828514      | 0.08965647      | 0.08453646      | 0.07395830      |\n",
       "| 7671 | ENSG00000137996 | 1_100765409_C_T | 0.05067711      | 0.10748553      | 0.04944521      | 0.04501085      | 0.03503656      | 0.05342967      | 0.04317349      | 0.06174228      | 0.06167544      | 0.06045166      | 0.06205646      | 0.08247237      | 0.06527327      | 0.07074981      | 0.06808929      |\n",
       "| 18550 | ENSG00000130939 | 1_10232534_C_G  | 0.09170573      | 0.14331173      | 0.11610847      | 0.06780468      | 0.07016684      | 0.08610633      | 0.06286608      | 0.07763025      | 0.08979498      | 0.08258432      | 0.06904119      | 0.06330250      | 0.10711314      | 0.07951396      | 0.09324700      |\n",
       "| 25443 | ENSG00000142657 | 1_10442856_C_T  | 0.02226140      | 0.04987530      | 0.02056765      | 0.03121460      | 0.03043302      | 0.04631132      | 0.03611084      | 0.04395516      | 0.04070716      | 0.03720996      | 0.03946007      | 0.06203099      | 0.05562582      | 0.04811896      | 0.05085448      |\n",
       "\n"
      ],
      "text/plain": [
       "      Gene            SNP             FPP_D11    NB_D11     P_FPP_D11 \n",
       "3500  ENSG00000162688 1_100301128_T_G 0.05310038 0.13098270 0.05099808\n",
       "3560  ENSG00000188290 1_1003053_C_T   0.03272484 0.08927892 0.03658493\n",
       "3791  ENSG00000162688 1_100326258_T_C 0.05260915 0.13068649 0.05065606\n",
       "7671  ENSG00000137996 1_100765409_C_T 0.05067711 0.10748553 0.04944521\n",
       "18550 ENSG00000130939 1_10232534_C_G  0.09170573 0.14331173 0.11610847\n",
       "25443 ENSG00000142657 1_10442856_C_T  0.02226140 0.04987530 0.02056765\n",
       "      FPP_D30    DA_D30     Epen1_D30  Sert_D30   Astro_D52  DA_D52    \n",
       "3500  0.05004836 0.04356240 0.08214642 0.05336018 0.09690534 0.06588497\n",
       "3560  0.07082828 0.04247756 0.05922132 0.03588632 0.08807497 0.03553029\n",
       "3791  0.04996986 0.04375235 0.08176130 0.05346075 0.09690534 0.06588497\n",
       "7671  0.04501085 0.03503656 0.05342967 0.04317349 0.06174228 0.06167544\n",
       "18550 0.06780468 0.07016684 0.08610633 0.06286608 0.07763025 0.08979498\n",
       "25443 0.03121460 0.03043302 0.04631132 0.03611084 0.04395516 0.04070716\n",
       "      Epen1_D52  Sert_D52   Astro_D52_ROT DA_D52_ROT Epen1_D52_ROT Sert_D52_ROT\n",
       "3500  0.08364576 0.06477920 0.08847217    0.08965647 0.08453646    0.07395830  \n",
       "3560  0.06329097 0.03442315 0.09649330    0.04999355 0.06698952    0.05532923  \n",
       "3791  0.08364576 0.06477920 0.08828514    0.08965647 0.08453646    0.07395830  \n",
       "7671  0.06045166 0.06205646 0.08247237    0.06527327 0.07074981    0.06808929  \n",
       "18550 0.08258432 0.06904119 0.06330250    0.10711314 0.07951396    0.09324700  \n",
       "25443 0.03720996 0.03946007 0.06203099    0.05562582 0.04811896    0.05085448  "
      ]
     },
     "metadata": {},
     "output_type": "display_data"
    }
   ],
   "source": [
    "df_beta_se_sel = df_beta_se_sel[,c(16,17,1:15)]\n",
    "head(df_beta_se_sel)"
   ]
  },
  {
   "cell_type": "code",
   "execution_count": 79,
   "metadata": {},
   "outputs": [],
   "source": [
    "write.table(df_beta_se_sel, \"/hps/nobackup/stegle/users/acuomo/all_scripts/sc_neuroseq/eqtl/all_significant_eqtl_betas_se.tsv\", sep = \"\\t\",\n",
    "           quote = FALSE, row.names = FALSE, col.names = TRUE)"
   ]
  },
  {
   "cell_type": "code",
   "execution_count": null,
   "metadata": {},
   "outputs": [],
   "source": []
  },
  {
   "cell_type": "code",
   "execution_count": null,
   "metadata": {},
   "outputs": [],
   "source": []
  },
  {
   "cell_type": "code",
   "execution_count": null,
   "metadata": {},
   "outputs": [],
   "source": []
  },
  {
   "cell_type": "code",
   "execution_count": null,
   "metadata": {},
   "outputs": [],
   "source": []
  }
 ],
 "metadata": {
  "kernelspec": {
   "display_name": "R",
   "language": "R",
   "name": "ir"
  },
  "language_info": {
   "codemirror_mode": "r",
   "file_extension": ".r",
   "mimetype": "text/x-r-source",
   "name": "R",
   "pygments_lexer": "r",
   "version": "3.6.1"
  }
 },
 "nbformat": 4,
 "nbformat_minor": 4
}
