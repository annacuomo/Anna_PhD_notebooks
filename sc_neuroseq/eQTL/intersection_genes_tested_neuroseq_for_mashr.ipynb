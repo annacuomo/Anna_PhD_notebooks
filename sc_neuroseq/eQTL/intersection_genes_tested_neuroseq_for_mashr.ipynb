{
 "cells": [
  {
   "cell_type": "code",
   "execution_count": 6,
   "metadata": {},
   "outputs": [],
   "source": [
    "mydir = \"/hps/nobackup/stegle/users/acuomo/all_scripts/sc_neuroseq/eqtl/timepoint_D52/input_files_ROT_treated/\"\n",
    "myfolders = list.files(mydir)"
   ]
  },
  {
   "cell_type": "code",
   "execution_count": 23,
   "metadata": {},
   "outputs": [],
   "source": [
    "mydir = \"/hps/nobackup/stegle/users/acuomo/all_scripts/sc_neuroseq/eqtl/timepoint_D52/input_files_untreated/\"\n",
    "myfolders = list.files(mydir)"
   ]
  },
  {
   "cell_type": "code",
   "execution_count": 24,
   "metadata": {},
   "outputs": [
    {
     "data": {
      "text/html": [
       "<ol class=list-inline>\n",
       "\t<li>'celltype_Astro'</li>\n",
       "\t<li>'celltype_DA'</li>\n",
       "\t<li>'celltype_Epen1'</li>\n",
       "\t<li>'celltype_Sert'</li>\n",
       "</ol>\n"
      ],
      "text/latex": [
       "\\begin{enumerate*}\n",
       "\\item 'celltype\\_Astro'\n",
       "\\item 'celltype\\_DA'\n",
       "\\item 'celltype\\_Epen1'\n",
       "\\item 'celltype\\_Sert'\n",
       "\\end{enumerate*}\n"
      ],
      "text/markdown": [
       "1. 'celltype_Astro'\n",
       "2. 'celltype_DA'\n",
       "3. 'celltype_Epen1'\n",
       "4. 'celltype_Sert'\n",
       "\n",
       "\n"
      ],
      "text/plain": [
       "[1] \"celltype_Astro\" \"celltype_DA\"    \"celltype_Epen1\" \"celltype_Sert\" "
      ]
     },
     "metadata": {},
     "output_type": "display_data"
    }
   ],
   "source": [
    "mydir = \"/nfs/leia/research/stegle/dseaton/hipsci/singlecell_neuroseq/data/data_processed/pool1_13_noddd_D30/qtl_analysis/eqtl_discovery/\"\n",
    "myfolders = list.files(mydir)"
   ]
  },
  {
   "cell_type": "code",
   "execution_count": 28,
   "metadata": {},
   "outputs": [
    {
     "data": {
      "text/html": [
       "<ol class=list-inline>\n",
       "\t<li>'celltype_FPP'</li>\n",
       "\t<li>'celltype_NB'</li>\n",
       "\t<li>'celltype_P_FPP'</li>\n",
       "</ol>\n"
      ],
      "text/latex": [
       "\\begin{enumerate*}\n",
       "\\item 'celltype\\_FPP'\n",
       "\\item 'celltype\\_NB'\n",
       "\\item 'celltype\\_P\\_FPP'\n",
       "\\end{enumerate*}\n"
      ],
      "text/markdown": [
       "1. 'celltype_FPP'\n",
       "2. 'celltype_NB'\n",
       "3. 'celltype_P_FPP'\n",
       "\n",
       "\n"
      ],
      "text/plain": [
       "[1] \"celltype_FPP\"   \"celltype_NB\"    \"celltype_P_FPP\""
      ]
     },
     "metadata": {},
     "output_type": "display_data"
    }
   ],
   "source": [
    "mydir = \"/nfs/leia/research/stegle/dseaton/hipsci/singlecell_neuroseq/data/data_processed/pool1_13_noddd_D11/qtl_analysis/eqtl_discovery/\"\n",
    "myfolders = list.files(mydir)\n",
    "myfolders"
   ]
  },
  {
   "cell_type": "code",
   "execution_count": 25,
   "metadata": {},
   "outputs": [],
   "source": [
    "# genes = unique(df$feature_id)\n",
    "# length(genes)"
   ]
  },
  {
   "cell_type": "code",
   "execution_count": 29,
   "metadata": {},
   "outputs": [
    {
     "name": "stdout",
     "output_type": "stream",
     "text": [
      "[1] 8833\n",
      "[1] 8827\n"
     ]
    }
   ],
   "source": [
    "for (folder in myfolders){\n",
    "    if (!(folder %in% c(\"?\",\"celltype_NB\"))){\n",
    "        filename = paste0(mydir,folder,\"/top_qtl_results_all.txt\")\n",
    "#         filename = paste0(mydir,folder,\"/results/top_qtl_results_all.txt\")\n",
    "        df = read.csv(filename, sep =\"\\t\")\n",
    "        genes = intersect(genes,unique(df$feature_id))\n",
    "        print(length(genes))\n",
    "    }\n",
    "}"
   ]
  },
  {
   "cell_type": "code",
   "execution_count": 31,
   "metadata": {},
   "outputs": [],
   "source": [
    "write.csv(genes, \"/hps/nobackup/stegle/users/acuomo/all_scripts/sc_neuroseq/eqtl/mashr/genes_expressed_in_all_neuroseq_tissues.csv\")"
   ]
  },
  {
   "cell_type": "code",
   "execution_count": null,
   "metadata": {},
   "outputs": [],
   "source": []
  }
 ],
 "metadata": {
  "kernelspec": {
   "display_name": "R",
   "language": "R",
   "name": "ir"
  },
  "language_info": {
   "codemirror_mode": "r",
   "file_extension": ".r",
   "mimetype": "text/x-r-source",
   "name": "R",
   "pygments_lexer": "r",
   "version": "3.6.1"
  }
 },
 "nbformat": 4,
 "nbformat_minor": 4
}
