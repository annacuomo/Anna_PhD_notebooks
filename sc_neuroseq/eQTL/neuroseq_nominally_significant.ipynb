{
 "cells": [
  {
   "cell_type": "code",
   "execution_count": 7,
   "metadata": {},
   "outputs": [],
   "source": [
    "myfolder = \"/hps/nobackup/stegle/users/acuomo/all_scripts/sc_neuroseq/eqtl/all_results_nominal_significance_p_0.05/\""
   ]
  },
  {
   "cell_type": "code",
   "execution_count": 8,
   "metadata": {},
   "outputs": [],
   "source": [
    "folder_D52_NONE = \"/nfs/leia/research/stegle/dseaton/hipsci/singlecell_neuroseq/data/data_processed/pool1_17_D52/qtl_analysis/eqtl_discovery_separated_by_treatment/input_files_untreated/\"\n",
    "folder_D52_ROT = \"/nfs/leia/research/stegle/dseaton/hipsci/singlecell_neuroseq/data/data_processed/pool1_17_D52/qtl_analysis/eqtl_discovery_separated_by_treatment/input_files_ROT_treated/\""
   ]
  },
  {
   "cell_type": "code",
   "execution_count": 9,
   "metadata": {},
   "outputs": [],
   "source": [
    "celltypes = c(\"DA\",\"Sert\",\"Epen1\",\"Astro\")\n",
    "files_d52_none = paste0(folder_D52_NONE,\"celltype_\",celltypes,\"/summary_stats/pool1_17_D52.\",celltypes,\".qtl_results_all.txt\")\n",
    "files_d52_rot = paste0(folder_D52_ROT,\"celltype_\",celltypes,\"/summary_stats/pool1_17_D52.\",celltypes,\".qtl_results_all.txt\")"
   ]
  },
  {
   "cell_type": "code",
   "execution_count": 16,
   "metadata": {},
   "outputs": [],
   "source": [
    "folder_D30 = \"/nfs/leia/research/stegle/dseaton/hipsci/singlecell_neuroseq/data/data_processed/pool1_13_noddd_D30/qtl_analysis/eqtl_discovery/\""
   ]
  },
  {
   "cell_type": "code",
   "execution_count": 17,
   "metadata": {},
   "outputs": [],
   "source": [
    "celltypes = c(\"DA\",\"Sert\",\"Epen1\",\"Astro\")\n",
    "files_d30 = paste0(folder_D30,'celltype_',celltypes,'/summary_stats/pool1_13_noddd_D30.',celltypes,'.qtl_results_all.txt')"
   ]
  },
  {
   "cell_type": "code",
   "execution_count": 18,
   "metadata": {},
   "outputs": [
    {
     "data": {
      "text/html": [
       "<ol class=list-inline>\n",
       "\t<li>'/nfs/leia/research/stegle/dseaton/hipsci/singlecell_neuroseq/data/data_processed/pool1_13_noddd_D30/qtl_analysis/eqtl_discovery/celltype_DA/summary_stats/pool1_13_noddd_D30.DA.qtl_results_all.txt'</li>\n",
       "\t<li>'/nfs/leia/research/stegle/dseaton/hipsci/singlecell_neuroseq/data/data_processed/pool1_13_noddd_D30/qtl_analysis/eqtl_discovery/celltype_Sert/summary_stats/pool1_13_noddd_D30.Sert.qtl_results_all.txt'</li>\n",
       "\t<li>'/nfs/leia/research/stegle/dseaton/hipsci/singlecell_neuroseq/data/data_processed/pool1_13_noddd_D30/qtl_analysis/eqtl_discovery/celltype_Epen1/summary_stats/pool1_13_noddd_D30.Epen1.qtl_results_all.txt'</li>\n",
       "\t<li>'/nfs/leia/research/stegle/dseaton/hipsci/singlecell_neuroseq/data/data_processed/pool1_13_noddd_D30/qtl_analysis/eqtl_discovery/celltype_Astro/summary_stats/pool1_13_noddd_D30.Astro.qtl_results_all.txt'</li>\n",
       "</ol>\n"
      ],
      "text/latex": [
       "\\begin{enumerate*}\n",
       "\\item '/nfs/leia/research/stegle/dseaton/hipsci/singlecell\\_neuroseq/data/data\\_processed/pool1\\_13\\_noddd\\_D30/qtl\\_analysis/eqtl\\_discovery/celltype\\_DA/summary\\_stats/pool1\\_13\\_noddd\\_D30.DA.qtl\\_results\\_all.txt'\n",
       "\\item '/nfs/leia/research/stegle/dseaton/hipsci/singlecell\\_neuroseq/data/data\\_processed/pool1\\_13\\_noddd\\_D30/qtl\\_analysis/eqtl\\_discovery/celltype\\_Sert/summary\\_stats/pool1\\_13\\_noddd\\_D30.Sert.qtl\\_results\\_all.txt'\n",
       "\\item '/nfs/leia/research/stegle/dseaton/hipsci/singlecell\\_neuroseq/data/data\\_processed/pool1\\_13\\_noddd\\_D30/qtl\\_analysis/eqtl\\_discovery/celltype\\_Epen1/summary\\_stats/pool1\\_13\\_noddd\\_D30.Epen1.qtl\\_results\\_all.txt'\n",
       "\\item '/nfs/leia/research/stegle/dseaton/hipsci/singlecell\\_neuroseq/data/data\\_processed/pool1\\_13\\_noddd\\_D30/qtl\\_analysis/eqtl\\_discovery/celltype\\_Astro/summary\\_stats/pool1\\_13\\_noddd\\_D30.Astro.qtl\\_results\\_all.txt'\n",
       "\\end{enumerate*}\n"
      ],
      "text/markdown": [
       "1. '/nfs/leia/research/stegle/dseaton/hipsci/singlecell_neuroseq/data/data_processed/pool1_13_noddd_D30/qtl_analysis/eqtl_discovery/celltype_DA/summary_stats/pool1_13_noddd_D30.DA.qtl_results_all.txt'\n",
       "2. '/nfs/leia/research/stegle/dseaton/hipsci/singlecell_neuroseq/data/data_processed/pool1_13_noddd_D30/qtl_analysis/eqtl_discovery/celltype_Sert/summary_stats/pool1_13_noddd_D30.Sert.qtl_results_all.txt'\n",
       "3. '/nfs/leia/research/stegle/dseaton/hipsci/singlecell_neuroseq/data/data_processed/pool1_13_noddd_D30/qtl_analysis/eqtl_discovery/celltype_Epen1/summary_stats/pool1_13_noddd_D30.Epen1.qtl_results_all.txt'\n",
       "4. '/nfs/leia/research/stegle/dseaton/hipsci/singlecell_neuroseq/data/data_processed/pool1_13_noddd_D30/qtl_analysis/eqtl_discovery/celltype_Astro/summary_stats/pool1_13_noddd_D30.Astro.qtl_results_all.txt'\n",
       "\n",
       "\n"
      ],
      "text/plain": [
       "[1] \"/nfs/leia/research/stegle/dseaton/hipsci/singlecell_neuroseq/data/data_processed/pool1_13_noddd_D30/qtl_analysis/eqtl_discovery/celltype_DA/summary_stats/pool1_13_noddd_D30.DA.qtl_results_all.txt\"      \n",
       "[2] \"/nfs/leia/research/stegle/dseaton/hipsci/singlecell_neuroseq/data/data_processed/pool1_13_noddd_D30/qtl_analysis/eqtl_discovery/celltype_Sert/summary_stats/pool1_13_noddd_D30.Sert.qtl_results_all.txt\"  \n",
       "[3] \"/nfs/leia/research/stegle/dseaton/hipsci/singlecell_neuroseq/data/data_processed/pool1_13_noddd_D30/qtl_analysis/eqtl_discovery/celltype_Epen1/summary_stats/pool1_13_noddd_D30.Epen1.qtl_results_all.txt\"\n",
       "[4] \"/nfs/leia/research/stegle/dseaton/hipsci/singlecell_neuroseq/data/data_processed/pool1_13_noddd_D30/qtl_analysis/eqtl_discovery/celltype_Astro/summary_stats/pool1_13_noddd_D30.Astro.qtl_results_all.txt\""
      ]
     },
     "metadata": {},
     "output_type": "display_data"
    }
   ],
   "source": [
    "files_d30"
   ]
  },
  {
   "cell_type": "code",
   "execution_count": 12,
   "metadata": {},
   "outputs": [],
   "source": [
    "folder_D11 = \"/nfs/leia/research/stegle/dseaton/hipsci/singlecell_neuroseq/data/data_processed/pool1_13_noddd_D11/qtl_analysis/eqtl_discovery/\""
   ]
  },
  {
   "cell_type": "code",
   "execution_count": 13,
   "metadata": {},
   "outputs": [],
   "source": [
    "celltypes = c(\"FPP\",\"P_FPP\")\n",
    "files_d11 = paste0(folder_D11,'celltype_',celltypes,'/summary_stats/pool1_13_noddd_D11.',celltypes,'.qtl_results_all.txt')"
   ]
  },
  {
   "cell_type": "code",
   "execution_count": 14,
   "metadata": {},
   "outputs": [
    {
     "name": "stdout",
     "output_type": "stream",
     "text": [
      "[1] \"FPP\"\n",
      "[1] \"P_FPP\"\n"
     ]
    }
   ],
   "source": [
    "celltypes = c(\"FPP\",\"P_FPP\")\n",
    "i = 1\n",
    "for (file in files_d11){\n",
    "    celltype = celltypes[i]\n",
    "    print(celltype)\n",
    "    df = read.csv(file, sep = \"\\t\")\n",
    "    df_nom = df[df$p_value < 0.05,]\n",
    "    write.csv(df_nom, paste0(myfolder, celltype, \"_D11_qtl_results_p_0.05.csv\"))\n",
    "    i = i+1\n",
    "}"
   ]
  },
  {
   "cell_type": "code",
   "execution_count": 19,
   "metadata": {},
   "outputs": [
    {
     "name": "stdout",
     "output_type": "stream",
     "text": [
      "[1] \"DA\"\n",
      "[1] \"Sert\"\n",
      "[1] \"Epen1\"\n",
      "[1] \"Astro\"\n"
     ]
    }
   ],
   "source": [
    "celltypes = c(\"DA\",\"Sert\",\"Epen1\",\"Astro\")\n",
    "i = 1\n",
    "for (file in files_d30){\n",
    "    celltype = celltypes[i]\n",
    "    print(celltype)\n",
    "    df = read.csv(file, sep = \"\\t\")\n",
    "    df_nom = df[df$p_value < 0.05,]\n",
    "    write.csv(df_nom, paste0(myfolder, celltype, \"_D30_qtl_results_p_0.05.csv\"))\n",
    "    i = i+1\n",
    "}"
   ]
  },
  {
   "cell_type": "code",
   "execution_count": 20,
   "metadata": {},
   "outputs": [
    {
     "name": "stdout",
     "output_type": "stream",
     "text": [
      "[1] \"DA\"\n",
      "[1] \"Sert\"\n",
      "[1] \"Epen1\"\n",
      "[1] \"Astro\"\n"
     ]
    }
   ],
   "source": [
    "celltypes = c(\"DA\",\"Sert\",\"Epen1\",\"Astro\")\n",
    "i = 1\n",
    "for (file in files_d52_none){\n",
    "    celltype = celltypes[i]\n",
    "    print(celltype)\n",
    "    df = read.csv(file, sep = \"\\t\")\n",
    "    df_nom = df[df$p_value < 0.05,]\n",
    "    write.csv(df_nom, paste0(myfolder, celltype, \"_D52_NONE_qtl_results_p_0.05.csv\"))\n",
    "    i = i+1\n",
    "}"
   ]
  },
  {
   "cell_type": "code",
   "execution_count": 22,
   "metadata": {},
   "outputs": [
    {
     "name": "stdout",
     "output_type": "stream",
     "text": [
      "[1] \"DA\"\n",
      "[1] \"Sert\"\n",
      "[1] \"Epen1\"\n",
      "[1] \"Astro\"\n"
     ]
    }
   ],
   "source": [
    "celltypes = c(\"DA\",\"Sert\",\"Epen1\",\"Astro\")\n",
    "i = 1\n",
    "for (file in files_d52_rot){\n",
    "    celltype = celltypes[i]\n",
    "    print(celltype)\n",
    "    df = read.csv(file, sep = \"\\t\")\n",
    "    df_nom = df[df$p_value < 0.05,]\n",
    "    write.csv(df_nom, paste0(myfolder, celltype, \"_D52_ROT_qtl_results_p_0.05.csv\"))\n",
    "    i = i+1\n",
    "}"
   ]
  },
  {
   "cell_type": "code",
   "execution_count": null,
   "metadata": {},
   "outputs": [],
   "source": []
  },
  {
   "cell_type": "code",
   "execution_count": null,
   "metadata": {},
   "outputs": [],
   "source": []
  },
  {
   "cell_type": "code",
   "execution_count": null,
   "metadata": {},
   "outputs": [],
   "source": []
  }
 ],
 "metadata": {
  "kernelspec": {
   "display_name": "R",
   "language": "R",
   "name": "ir"
  },
  "language_info": {
   "codemirror_mode": "r",
   "file_extension": ".r",
   "mimetype": "text/x-r-source",
   "name": "R",
   "pygments_lexer": "r",
   "version": "3.6.1"
  }
 },
 "nbformat": 4,
 "nbformat_minor": 4
}
