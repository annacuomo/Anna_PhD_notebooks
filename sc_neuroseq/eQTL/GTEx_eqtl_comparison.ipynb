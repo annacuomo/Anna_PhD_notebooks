{
 "cells": [
  {
   "cell_type": "code",
   "execution_count": 4,
   "metadata": {},
   "outputs": [],
   "source": [
    "myfolder = \"/hps/nobackup/stegle/users/acuomo/all_scripts/sc_neuroseq/eqtl/all_results_nominal_significance_p_0.05/\""
   ]
  },
  {
   "cell_type": "code",
   "execution_count": 5,
   "metadata": {},
   "outputs": [],
   "source": [
    "folder_D52_NONE = \"/hps/nobackup/stegle/users/acuomo/all_scripts/sc_neuroseq/eqtl/timepoint_D52/input_files_untreated/\"\n",
    "folder_D52_ROT = \"/hps/nobackup/stegle/users/acuomo/all_scripts/sc_neuroseq/eqtl/timepoint_D52/input_files_ROT_treated/\""
   ]
  },
  {
   "cell_type": "code",
   "execution_count": 6,
   "metadata": {},
   "outputs": [
    {
     "data": {
      "text/html": [
       "<ol class=list-inline>\n",
       "\t<li>'/hps/nobackup/stegle/users/acuomo/all_scripts/sc_neuroseq/eqtl/timepoint_D52/input_files_untreated/celltype_DA/results/qtl_results_all.txt'</li>\n",
       "\t<li>'/hps/nobackup/stegle/users/acuomo/all_scripts/sc_neuroseq/eqtl/timepoint_D52/input_files_untreated/celltype_Sert/results/qtl_results_all.txt'</li>\n",
       "\t<li>'/hps/nobackup/stegle/users/acuomo/all_scripts/sc_neuroseq/eqtl/timepoint_D52/input_files_untreated/celltype_Epen1/results/qtl_results_all.txt'</li>\n",
       "\t<li>'/hps/nobackup/stegle/users/acuomo/all_scripts/sc_neuroseq/eqtl/timepoint_D52/input_files_untreated/celltype_Astro/results/qtl_results_all.txt'</li>\n",
       "\t<li>'/hps/nobackup/stegle/users/acuomo/all_scripts/sc_neuroseq/eqtl/timepoint_D52/input_files_ROT_treated/celltype_DA/results/qtl_results_all.txt'</li>\n",
       "\t<li>'/hps/nobackup/stegle/users/acuomo/all_scripts/sc_neuroseq/eqtl/timepoint_D52/input_files_ROT_treated/celltype_Sert/results/qtl_results_all.txt'</li>\n",
       "\t<li>'/hps/nobackup/stegle/users/acuomo/all_scripts/sc_neuroseq/eqtl/timepoint_D52/input_files_ROT_treated/celltype_Epen1/results/qtl_results_all.txt'</li>\n",
       "\t<li>'/hps/nobackup/stegle/users/acuomo/all_scripts/sc_neuroseq/eqtl/timepoint_D52/input_files_ROT_treated/celltype_Astro/results/qtl_results_all.txt'</li>\n",
       "</ol>\n"
      ],
      "text/latex": [
       "\\begin{enumerate*}\n",
       "\\item '/hps/nobackup/stegle/users/acuomo/all\\_scripts/sc\\_neuroseq/eqtl/timepoint\\_D52/input\\_files\\_untreated/celltype\\_DA/results/qtl\\_results\\_all.txt'\n",
       "\\item '/hps/nobackup/stegle/users/acuomo/all\\_scripts/sc\\_neuroseq/eqtl/timepoint\\_D52/input\\_files\\_untreated/celltype\\_Sert/results/qtl\\_results\\_all.txt'\n",
       "\\item '/hps/nobackup/stegle/users/acuomo/all\\_scripts/sc\\_neuroseq/eqtl/timepoint\\_D52/input\\_files\\_untreated/celltype\\_Epen1/results/qtl\\_results\\_all.txt'\n",
       "\\item '/hps/nobackup/stegle/users/acuomo/all\\_scripts/sc\\_neuroseq/eqtl/timepoint\\_D52/input\\_files\\_untreated/celltype\\_Astro/results/qtl\\_results\\_all.txt'\n",
       "\\item '/hps/nobackup/stegle/users/acuomo/all\\_scripts/sc\\_neuroseq/eqtl/timepoint\\_D52/input\\_files\\_ROT\\_treated/celltype\\_DA/results/qtl\\_results\\_all.txt'\n",
       "\\item '/hps/nobackup/stegle/users/acuomo/all\\_scripts/sc\\_neuroseq/eqtl/timepoint\\_D52/input\\_files\\_ROT\\_treated/celltype\\_Sert/results/qtl\\_results\\_all.txt'\n",
       "\\item '/hps/nobackup/stegle/users/acuomo/all\\_scripts/sc\\_neuroseq/eqtl/timepoint\\_D52/input\\_files\\_ROT\\_treated/celltype\\_Epen1/results/qtl\\_results\\_all.txt'\n",
       "\\item '/hps/nobackup/stegle/users/acuomo/all\\_scripts/sc\\_neuroseq/eqtl/timepoint\\_D52/input\\_files\\_ROT\\_treated/celltype\\_Astro/results/qtl\\_results\\_all.txt'\n",
       "\\end{enumerate*}\n"
      ],
      "text/markdown": [
       "1. '/hps/nobackup/stegle/users/acuomo/all_scripts/sc_neuroseq/eqtl/timepoint_D52/input_files_untreated/celltype_DA/results/qtl_results_all.txt'\n",
       "2. '/hps/nobackup/stegle/users/acuomo/all_scripts/sc_neuroseq/eqtl/timepoint_D52/input_files_untreated/celltype_Sert/results/qtl_results_all.txt'\n",
       "3. '/hps/nobackup/stegle/users/acuomo/all_scripts/sc_neuroseq/eqtl/timepoint_D52/input_files_untreated/celltype_Epen1/results/qtl_results_all.txt'\n",
       "4. '/hps/nobackup/stegle/users/acuomo/all_scripts/sc_neuroseq/eqtl/timepoint_D52/input_files_untreated/celltype_Astro/results/qtl_results_all.txt'\n",
       "5. '/hps/nobackup/stegle/users/acuomo/all_scripts/sc_neuroseq/eqtl/timepoint_D52/input_files_ROT_treated/celltype_DA/results/qtl_results_all.txt'\n",
       "6. '/hps/nobackup/stegle/users/acuomo/all_scripts/sc_neuroseq/eqtl/timepoint_D52/input_files_ROT_treated/celltype_Sert/results/qtl_results_all.txt'\n",
       "7. '/hps/nobackup/stegle/users/acuomo/all_scripts/sc_neuroseq/eqtl/timepoint_D52/input_files_ROT_treated/celltype_Epen1/results/qtl_results_all.txt'\n",
       "8. '/hps/nobackup/stegle/users/acuomo/all_scripts/sc_neuroseq/eqtl/timepoint_D52/input_files_ROT_treated/celltype_Astro/results/qtl_results_all.txt'\n",
       "\n",
       "\n"
      ],
      "text/plain": [
       "[1] \"/hps/nobackup/stegle/users/acuomo/all_scripts/sc_neuroseq/eqtl/timepoint_D52/input_files_untreated/celltype_DA/results/qtl_results_all.txt\"     \n",
       "[2] \"/hps/nobackup/stegle/users/acuomo/all_scripts/sc_neuroseq/eqtl/timepoint_D52/input_files_untreated/celltype_Sert/results/qtl_results_all.txt\"   \n",
       "[3] \"/hps/nobackup/stegle/users/acuomo/all_scripts/sc_neuroseq/eqtl/timepoint_D52/input_files_untreated/celltype_Epen1/results/qtl_results_all.txt\"  \n",
       "[4] \"/hps/nobackup/stegle/users/acuomo/all_scripts/sc_neuroseq/eqtl/timepoint_D52/input_files_untreated/celltype_Astro/results/qtl_results_all.txt\"  \n",
       "[5] \"/hps/nobackup/stegle/users/acuomo/all_scripts/sc_neuroseq/eqtl/timepoint_D52/input_files_ROT_treated/celltype_DA/results/qtl_results_all.txt\"   \n",
       "[6] \"/hps/nobackup/stegle/users/acuomo/all_scripts/sc_neuroseq/eqtl/timepoint_D52/input_files_ROT_treated/celltype_Sert/results/qtl_results_all.txt\" \n",
       "[7] \"/hps/nobackup/stegle/users/acuomo/all_scripts/sc_neuroseq/eqtl/timepoint_D52/input_files_ROT_treated/celltype_Epen1/results/qtl_results_all.txt\"\n",
       "[8] \"/hps/nobackup/stegle/users/acuomo/all_scripts/sc_neuroseq/eqtl/timepoint_D52/input_files_ROT_treated/celltype_Astro/results/qtl_results_all.txt\""
      ]
     },
     "metadata": {},
     "output_type": "display_data"
    }
   ],
   "source": [
    "celltypes = c(\"DA\",\"Sert\",\"Epen1\",\"Astro\")\n",
    "files_d52_none = paste0(folder_D52_NONE,\"celltype_\",celltypes,\"/results/qtl_results_all.txt\")\n",
    "files_d52_rot = paste0(folder_D52_ROT,\"celltype_\",celltypes,\"/results/qtl_results_all.txt\")\n",
    "files = c(files_d52_none, files_d52_rot)\n",
    "files"
   ]
  },
  {
   "cell_type": "code",
   "execution_count": 9,
   "metadata": {},
   "outputs": [],
   "source": [
    "daniel_folder_eqtl = \"/hps/nobackup/stegle/users/acuomo/all_scripts/sc_neuroseq/eqtl/eqtl_from_daniel/summary_stats/\""
   ]
  },
  {
   "cell_type": "code",
   "execution_count": 13,
   "metadata": {},
   "outputs": [],
   "source": [
    "celltypes = c(\"FPP\",\"P_FPP\")\n",
    "files_d11 = paste0(daniel_folder_eqtl,'pool1_13_noddd_D11.',celltypes,'.qtl_results_all.sorted.txt')"
   ]
  },
  {
   "cell_type": "code",
   "execution_count": 10,
   "metadata": {},
   "outputs": [],
   "source": [
    "celltypes = c(\"DA\",\"Sert\",\"Epen1\",\"Astro\")\n",
    "files_d30 = paste0(daniel_folder_eqtl,'pool1_13_noddd_D30.',celltypes,'.qtl_results_all.sorted.txt')"
   ]
  },
  {
   "cell_type": "code",
   "execution_count": 14,
   "metadata": {},
   "outputs": [
    {
     "name": "stdout",
     "output_type": "stream",
     "text": [
      "[1] \"FPP\"\n",
      "[1] \"P_FPP\"\n"
     ]
    }
   ],
   "source": [
    "for (file in files_d11){\n",
    "    celltype = gsub(\"/hps/nobackup/stegle/users/acuomo/all_scripts/sc_neuroseq/eqtl/eqtl_from_daniel/summary_stats/pool1_13_noddd_D11.\",\"\",\n",
    "                    gsub(\".qtl_results_all.sorted.txt\",\"\",file))\n",
    "    print(celltype)\n",
    "    df = read.csv(file, sep = \"\\t\")\n",
    "    df_nom = df[df$p_value < 0.05,]\n",
    "    write.csv(df_nom, paste0(myfolder, celltype, \"_D11_qtl_results_p_0.05.csv\"))\n",
    "}"
   ]
  },
  {
   "cell_type": "code",
   "execution_count": 12,
   "metadata": {},
   "outputs": [
    {
     "name": "stdout",
     "output_type": "stream",
     "text": [
      "[1] \"DA\"\n",
      "[1] \"Sert\"\n",
      "[1] \"Epen1\"\n",
      "[1] \"Astro\"\n"
     ]
    }
   ],
   "source": [
    "for (file in files_d30){\n",
    "    celltype = gsub(\"/hps/nobackup/stegle/users/acuomo/all_scripts/sc_neuroseq/eqtl/eqtl_from_daniel/summary_stats/pool1_13_noddd_D30.\",\"\",\n",
    "                    gsub(\".qtl_results_all.sorted.txt\",\"\",file))\n",
    "    print(celltype)\n",
    "    df = read.csv(file, sep = \"\\t\")\n",
    "    df_nom = df[df$p_value < 0.05,]\n",
    "    write.csv(df_nom, paste0(myfolder, celltype, \"_D30_qtl_results_p_0.05.csv\"))\n",
    "}"
   ]
  },
  {
   "cell_type": "code",
   "execution_count": 7,
   "metadata": {},
   "outputs": [],
   "source": [
    "for (file in files_d52_none){\n",
    "    celltype = gsub(\"/hps/nobackup/stegle/users/acuomo/all_scripts/sc_neuroseq/eqtl/timepoint_D52/input_files_untreated/celltype_\",\"\",\n",
    "                    gsub(\"/results/qtl_results_all.txt\",\"\",file))\n",
    "    print(celltype)\n",
    "    df = read.csv(file, sep = \"\\t\")\n",
    "    df_nom = df[df$p_value < 0.05,]\n",
    "    write.csv(df_nom, paste0(myfolder, celltype, \"_D52_NONE_qtl_results_p_0.05.csv\"))\n",
    "}"
   ]
  },
  {
   "cell_type": "code",
   "execution_count": 8,
   "metadata": {},
   "outputs": [
    {
     "name": "stdout",
     "output_type": "stream",
     "text": [
      "[1] \"DA\"\n",
      "[1] \"Sert\"\n",
      "[1] \"Epen1\"\n",
      "[1] \"Astro\"\n"
     ]
    }
   ],
   "source": [
    "for (file in files_d52_rot){\n",
    "    celltype = gsub(\"/hps/nobackup/stegle/users/acuomo/all_scripts/sc_neuroseq/eqtl/timepoint_D52/input_files_ROT_treated/celltype_\",\"\",\n",
    "                    gsub(\"/results/qtl_results_all.txt\",\"\",file))\n",
    "    print(celltype)\n",
    "    df = read.csv(file, sep = \"\\t\")\n",
    "    df_nom = df[df$p_value < 0.05,]\n",
    "    write.csv(df_nom, paste0(myfolder, celltype, \"_D52_ROT_qtl_results_p_0.05.csv\"))\n",
    "}"
   ]
  },
  {
   "cell_type": "code",
   "execution_count": null,
   "metadata": {},
   "outputs": [],
   "source": []
  },
  {
   "cell_type": "code",
   "execution_count": 21,
   "metadata": {},
   "outputs": [],
   "source": [
    "file_sn_egenes = \"/hps/nobackup/hipsci/scratch/GTEx/GTEx_Analysis_v7_eQTL/Brain_Substantia_nigra.v7.egenes.txt\""
   ]
  },
  {
   "cell_type": "code",
   "execution_count": 22,
   "metadata": {
    "scrolled": true
   },
   "outputs": [
    {
     "data": {
      "text/html": [
       "<table>\n",
       "<thead><tr><th scope=col>gene_id</th><th scope=col>gene_name</th><th scope=col>gene_chr</th><th scope=col>gene_start</th><th scope=col>gene_end</th><th scope=col>strand</th><th scope=col>num_var</th><th scope=col>beta_shape1</th><th scope=col>beta_shape2</th><th scope=col>true_df</th><th scope=col>...</th><th scope=col>pval_nominal</th><th scope=col>slope</th><th scope=col>slope_se</th><th scope=col>pval_perm</th><th scope=col>pval_beta</th><th scope=col>qval</th><th scope=col>pval_nominal_threshold</th><th scope=col>log2_aFC</th><th scope=col>log2_aFC_lower</th><th scope=col>log2_aFC_upper</th></tr></thead>\n",
       "<tbody>\n",
       "\t<tr><td>ENSG00000223972.4</td><td>DDX11L1          </td><td>1                </td><td> 11869           </td><td> 14362           </td><td>+                </td><td>1421             </td><td>1.03235          </td><td>226.282          </td><td>52.7891          </td><td>...              </td><td>1.16451e-02      </td><td>-1.729390        </td><td>0.663809         </td><td>0.9662160        </td><td>0.9730900        </td><td>0.546972         </td><td>1.84125e-05      </td><td>-6.643856        </td><td>-6.643856        </td><td>-6.643856        </td></tr>\n",
       "\t<tr><td>ENSG00000227232.4</td><td>WASH7P           </td><td>1                </td><td> 14413           </td><td> 29553           </td><td>-                </td><td>1493             </td><td>1.05305          </td><td>242.290          </td><td>53.2195          </td><td>...              </td><td>6.44023e-03      </td><td> 1.619250        </td><td>0.572814         </td><td>0.8842760        </td><td>0.8803890        </td><td>0.522107         </td><td>1.93267e-05      </td><td> 2.902339        </td><td> 1.263677        </td><td>       NA        </td></tr>\n",
       "\t<tr><td>ENSG00000238009.2</td><td>RP11-34P13.7     </td><td>1                </td><td> 89295           </td><td>129223           </td><td>-                </td><td>2073             </td><td>1.01229          </td><td>318.380          </td><td>53.7746          </td><td>...              </td><td>9.87812e-05      </td><td> 0.640339        </td><td>0.153103         </td><td>0.0507949        </td><td>0.0530156        </td><td>0.168536         </td><td>1.16360e-05      </td><td> 1.247930        </td><td> 0.860959        </td><td> 1.801368        </td></tr>\n",
       "\t<tr><td>ENSG00000233750.3</td><td>CICP27           </td><td>1                </td><td>131025           </td><td>134836           </td><td>+                </td><td>2086             </td><td>1.01694          </td><td>328.652          </td><td>54.0578          </td><td>...              </td><td>1.11251e-04      </td><td> 1.635540        </td><td>0.394381         </td><td>0.0583942        </td><td>0.0578049        </td><td>0.176553         </td><td>1.15880e-05      </td><td> 2.731715        </td><td> 2.196828        </td><td>       NA        </td></tr>\n",
       "\t<tr><td>ENSG00000237683.5</td><td>AL627309.1       </td><td>1                </td><td>134901           </td><td>139379           </td><td>-                </td><td>2123             </td><td>1.03034          </td><td>320.514          </td><td>53.0496          </td><td>...              </td><td>2.78780e-04      </td><td>-0.748426        </td><td>0.193413         </td><td>0.1434300        </td><td>0.1412990        </td><td>0.262172         </td><td>1.28498e-05      </td><td>-2.339441        </td><td>-6.643856        </td><td>-1.029853        </td></tr>\n",
       "\t<tr><td>ENSG00000241860.2</td><td>RP11-34P13.13    </td><td>1                </td><td>141474           </td><td>173862           </td><td>-                </td><td>2344             </td><td>1.00347          </td><td>380.992          </td><td>54.3410          </td><td>...              </td><td>1.06580e-03      </td><td> 0.885943        </td><td>0.257125         </td><td>0.4425290        </td><td>0.4427370        </td><td>0.399680         </td><td>9.22131e-06      </td><td> 1.290279        </td><td> 0.472674        </td><td> 1.973998        </td></tr>\n",
       "</tbody>\n",
       "</table>\n"
      ],
      "text/latex": [
       "\\begin{tabular}{r|lllllllllllllllllllllllllllllllll}\n",
       " gene\\_id & gene\\_name & gene\\_chr & gene\\_start & gene\\_end & strand & num\\_var & beta\\_shape1 & beta\\_shape2 & true\\_df & ... & pval\\_nominal & slope & slope\\_se & pval\\_perm & pval\\_beta & qval & pval\\_nominal\\_threshold & log2\\_aFC & log2\\_aFC\\_lower & log2\\_aFC\\_upper\\\\\n",
       "\\hline\n",
       "\t ENSG00000223972.4 & DDX11L1           & 1                 &  11869            &  14362            & +                 & 1421              & 1.03235           & 226.282           & 52.7891           & ...               & 1.16451e-02       & -1.729390         & 0.663809          & 0.9662160         & 0.9730900         & 0.546972          & 1.84125e-05       & -6.643856         & -6.643856         & -6.643856        \\\\\n",
       "\t ENSG00000227232.4 & WASH7P            & 1                 &  14413            &  29553            & -                 & 1493              & 1.05305           & 242.290           & 53.2195           & ...               & 6.44023e-03       &  1.619250         & 0.572814          & 0.8842760         & 0.8803890         & 0.522107          & 1.93267e-05       &  2.902339         &  1.263677         &        NA        \\\\\n",
       "\t ENSG00000238009.2 & RP11-34P13.7      & 1                 &  89295            & 129223            & -                 & 2073              & 1.01229           & 318.380           & 53.7746           & ...               & 9.87812e-05       &  0.640339         & 0.153103          & 0.0507949         & 0.0530156         & 0.168536          & 1.16360e-05       &  1.247930         &  0.860959         &  1.801368        \\\\\n",
       "\t ENSG00000233750.3 & CICP27            & 1                 & 131025            & 134836            & +                 & 2086              & 1.01694           & 328.652           & 54.0578           & ...               & 1.11251e-04       &  1.635540         & 0.394381          & 0.0583942         & 0.0578049         & 0.176553          & 1.15880e-05       &  2.731715         &  2.196828         &        NA        \\\\\n",
       "\t ENSG00000237683.5 & AL627309.1        & 1                 & 134901            & 139379            & -                 & 2123              & 1.03034           & 320.514           & 53.0496           & ...               & 2.78780e-04       & -0.748426         & 0.193413          & 0.1434300         & 0.1412990         & 0.262172          & 1.28498e-05       & -2.339441         & -6.643856         & -1.029853        \\\\\n",
       "\t ENSG00000241860.2 & RP11-34P13.13     & 1                 & 141474            & 173862            & -                 & 2344              & 1.00347           & 380.992           & 54.3410           & ...               & 1.06580e-03       &  0.885943         & 0.257125          & 0.4425290         & 0.4427370         & 0.399680          & 9.22131e-06       &  1.290279         &  0.472674         &  1.973998        \\\\\n",
       "\\end{tabular}\n"
      ],
      "text/markdown": [
       "\n",
       "| gene_id | gene_name | gene_chr | gene_start | gene_end | strand | num_var | beta_shape1 | beta_shape2 | true_df | ... | pval_nominal | slope | slope_se | pval_perm | pval_beta | qval | pval_nominal_threshold | log2_aFC | log2_aFC_lower | log2_aFC_upper |\n",
       "|---|---|---|---|---|---|---|---|---|---|---|---|---|---|---|---|---|---|---|---|---|\n",
       "| ENSG00000223972.4 | DDX11L1           | 1                 |  11869            |  14362            | +                 | 1421              | 1.03235           | 226.282           | 52.7891           | ...               | 1.16451e-02       | -1.729390         | 0.663809          | 0.9662160         | 0.9730900         | 0.546972          | 1.84125e-05       | -6.643856         | -6.643856         | -6.643856         |\n",
       "| ENSG00000227232.4 | WASH7P            | 1                 |  14413            |  29553            | -                 | 1493              | 1.05305           | 242.290           | 53.2195           | ...               | 6.44023e-03       |  1.619250         | 0.572814          | 0.8842760         | 0.8803890         | 0.522107          | 1.93267e-05       |  2.902339         |  1.263677         |        NA         |\n",
       "| ENSG00000238009.2 | RP11-34P13.7      | 1                 |  89295            | 129223            | -                 | 2073              | 1.01229           | 318.380           | 53.7746           | ...               | 9.87812e-05       |  0.640339         | 0.153103          | 0.0507949         | 0.0530156         | 0.168536          | 1.16360e-05       |  1.247930         |  0.860959         |  1.801368         |\n",
       "| ENSG00000233750.3 | CICP27            | 1                 | 131025            | 134836            | +                 | 2086              | 1.01694           | 328.652           | 54.0578           | ...               | 1.11251e-04       |  1.635540         | 0.394381          | 0.0583942         | 0.0578049         | 0.176553          | 1.15880e-05       |  2.731715         |  2.196828         |        NA         |\n",
       "| ENSG00000237683.5 | AL627309.1        | 1                 | 134901            | 139379            | -                 | 2123              | 1.03034           | 320.514           | 53.0496           | ...               | 2.78780e-04       | -0.748426         | 0.193413          | 0.1434300         | 0.1412990         | 0.262172          | 1.28498e-05       | -2.339441         | -6.643856         | -1.029853         |\n",
       "| ENSG00000241860.2 | RP11-34P13.13     | 1                 | 141474            | 173862            | -                 | 2344              | 1.00347           | 380.992           | 54.3410           | ...               | 1.06580e-03       |  0.885943         | 0.257125          | 0.4425290         | 0.4427370         | 0.399680          | 9.22131e-06       |  1.290279         |  0.472674         |  1.973998         |\n",
       "\n"
      ],
      "text/plain": [
       "  gene_id           gene_name     gene_chr gene_start gene_end strand num_var\n",
       "1 ENSG00000223972.4 DDX11L1       1         11869      14362   +      1421   \n",
       "2 ENSG00000227232.4 WASH7P        1         14413      29553   -      1493   \n",
       "3 ENSG00000238009.2 RP11-34P13.7  1         89295     129223   -      2073   \n",
       "4 ENSG00000233750.3 CICP27        1        131025     134836   +      2086   \n",
       "5 ENSG00000237683.5 AL627309.1    1        134901     139379   -      2123   \n",
       "6 ENSG00000241860.2 RP11-34P13.13 1        141474     173862   -      2344   \n",
       "  beta_shape1 beta_shape2 true_df ... pval_nominal slope     slope_se pval_perm\n",
       "1 1.03235     226.282     52.7891 ... 1.16451e-02  -1.729390 0.663809 0.9662160\n",
       "2 1.05305     242.290     53.2195 ... 6.44023e-03   1.619250 0.572814 0.8842760\n",
       "3 1.01229     318.380     53.7746 ... 9.87812e-05   0.640339 0.153103 0.0507949\n",
       "4 1.01694     328.652     54.0578 ... 1.11251e-04   1.635540 0.394381 0.0583942\n",
       "5 1.03034     320.514     53.0496 ... 2.78780e-04  -0.748426 0.193413 0.1434300\n",
       "6 1.00347     380.992     54.3410 ... 1.06580e-03   0.885943 0.257125 0.4425290\n",
       "  pval_beta qval     pval_nominal_threshold log2_aFC  log2_aFC_lower\n",
       "1 0.9730900 0.546972 1.84125e-05            -6.643856 -6.643856     \n",
       "2 0.8803890 0.522107 1.93267e-05             2.902339  1.263677     \n",
       "3 0.0530156 0.168536 1.16360e-05             1.247930  0.860959     \n",
       "4 0.0578049 0.176553 1.15880e-05             2.731715  2.196828     \n",
       "5 0.1412990 0.262172 1.28498e-05            -2.339441 -6.643856     \n",
       "6 0.4427370 0.399680 9.22131e-06             1.290279  0.472674     \n",
       "  log2_aFC_upper\n",
       "1 -6.643856     \n",
       "2        NA     \n",
       "3  1.801368     \n",
       "4        NA     \n",
       "5 -1.029853     \n",
       "6  1.973998     "
      ]
     },
     "metadata": {},
     "output_type": "display_data"
    }
   ],
   "source": [
    "df_sn = read.csv(file_sn_egenes, sep = \"\\t\")\n",
    "head(df_sn)"
   ]
  },
  {
   "cell_type": "code",
   "execution_count": 23,
   "metadata": {},
   "outputs": [
    {
     "data": {
      "text/html": [
       "<ol class=list-inline>\n",
       "\t<li>'gene_id'</li>\n",
       "\t<li>'gene_name'</li>\n",
       "\t<li>'gene_chr'</li>\n",
       "\t<li>'gene_start'</li>\n",
       "\t<li>'gene_end'</li>\n",
       "\t<li>'strand'</li>\n",
       "\t<li>'num_var'</li>\n",
       "\t<li>'beta_shape1'</li>\n",
       "\t<li>'beta_shape2'</li>\n",
       "\t<li>'true_df'</li>\n",
       "\t<li>'pval_true_df'</li>\n",
       "\t<li>'variant_id'</li>\n",
       "\t<li>'tss_distance'</li>\n",
       "\t<li>'chr'</li>\n",
       "\t<li>'pos'</li>\n",
       "\t<li>'ref'</li>\n",
       "\t<li>'alt'</li>\n",
       "\t<li>'num_alt_per_site'</li>\n",
       "\t<li>'rs_id_dbSNP147_GRCh37p13'</li>\n",
       "\t<li>'minor_allele_samples'</li>\n",
       "\t<li>'minor_allele_count'</li>\n",
       "\t<li>'maf'</li>\n",
       "\t<li>'ref_factor'</li>\n",
       "\t<li>'pval_nominal'</li>\n",
       "\t<li>'slope'</li>\n",
       "\t<li>'slope_se'</li>\n",
       "\t<li>'pval_perm'</li>\n",
       "\t<li>'pval_beta'</li>\n",
       "\t<li>'qval'</li>\n",
       "\t<li>'pval_nominal_threshold'</li>\n",
       "\t<li>'log2_aFC'</li>\n",
       "\t<li>'log2_aFC_lower'</li>\n",
       "\t<li>'log2_aFC_upper'</li>\n",
       "</ol>\n"
      ],
      "text/latex": [
       "\\begin{enumerate*}\n",
       "\\item 'gene\\_id'\n",
       "\\item 'gene\\_name'\n",
       "\\item 'gene\\_chr'\n",
       "\\item 'gene\\_start'\n",
       "\\item 'gene\\_end'\n",
       "\\item 'strand'\n",
       "\\item 'num\\_var'\n",
       "\\item 'beta\\_shape1'\n",
       "\\item 'beta\\_shape2'\n",
       "\\item 'true\\_df'\n",
       "\\item 'pval\\_true\\_df'\n",
       "\\item 'variant\\_id'\n",
       "\\item 'tss\\_distance'\n",
       "\\item 'chr'\n",
       "\\item 'pos'\n",
       "\\item 'ref'\n",
       "\\item 'alt'\n",
       "\\item 'num\\_alt\\_per\\_site'\n",
       "\\item 'rs\\_id\\_dbSNP147\\_GRCh37p13'\n",
       "\\item 'minor\\_allele\\_samples'\n",
       "\\item 'minor\\_allele\\_count'\n",
       "\\item 'maf'\n",
       "\\item 'ref\\_factor'\n",
       "\\item 'pval\\_nominal'\n",
       "\\item 'slope'\n",
       "\\item 'slope\\_se'\n",
       "\\item 'pval\\_perm'\n",
       "\\item 'pval\\_beta'\n",
       "\\item 'qval'\n",
       "\\item 'pval\\_nominal\\_threshold'\n",
       "\\item 'log2\\_aFC'\n",
       "\\item 'log2\\_aFC\\_lower'\n",
       "\\item 'log2\\_aFC\\_upper'\n",
       "\\end{enumerate*}\n"
      ],
      "text/markdown": [
       "1. 'gene_id'\n",
       "2. 'gene_name'\n",
       "3. 'gene_chr'\n",
       "4. 'gene_start'\n",
       "5. 'gene_end'\n",
       "6. 'strand'\n",
       "7. 'num_var'\n",
       "8. 'beta_shape1'\n",
       "9. 'beta_shape2'\n",
       "10. 'true_df'\n",
       "11. 'pval_true_df'\n",
       "12. 'variant_id'\n",
       "13. 'tss_distance'\n",
       "14. 'chr'\n",
       "15. 'pos'\n",
       "16. 'ref'\n",
       "17. 'alt'\n",
       "18. 'num_alt_per_site'\n",
       "19. 'rs_id_dbSNP147_GRCh37p13'\n",
       "20. 'minor_allele_samples'\n",
       "21. 'minor_allele_count'\n",
       "22. 'maf'\n",
       "23. 'ref_factor'\n",
       "24. 'pval_nominal'\n",
       "25. 'slope'\n",
       "26. 'slope_se'\n",
       "27. 'pval_perm'\n",
       "28. 'pval_beta'\n",
       "29. 'qval'\n",
       "30. 'pval_nominal_threshold'\n",
       "31. 'log2_aFC'\n",
       "32. 'log2_aFC_lower'\n",
       "33. 'log2_aFC_upper'\n",
       "\n",
       "\n"
      ],
      "text/plain": [
       " [1] \"gene_id\"                  \"gene_name\"               \n",
       " [3] \"gene_chr\"                 \"gene_start\"              \n",
       " [5] \"gene_end\"                 \"strand\"                  \n",
       " [7] \"num_var\"                  \"beta_shape1\"             \n",
       " [9] \"beta_shape2\"              \"true_df\"                 \n",
       "[11] \"pval_true_df\"             \"variant_id\"              \n",
       "[13] \"tss_distance\"             \"chr\"                     \n",
       "[15] \"pos\"                      \"ref\"                     \n",
       "[17] \"alt\"                      \"num_alt_per_site\"        \n",
       "[19] \"rs_id_dbSNP147_GRCh37p13\" \"minor_allele_samples\"    \n",
       "[21] \"minor_allele_count\"       \"maf\"                     \n",
       "[23] \"ref_factor\"               \"pval_nominal\"            \n",
       "[25] \"slope\"                    \"slope_se\"                \n",
       "[27] \"pval_perm\"                \"pval_beta\"               \n",
       "[29] \"qval\"                     \"pval_nominal_threshold\"  \n",
       "[31] \"log2_aFC\"                 \"log2_aFC_lower\"          \n",
       "[33] \"log2_aFC_upper\"          "
      ]
     },
     "metadata": {},
     "output_type": "display_data"
    }
   ],
   "source": [
    "colnames(df_sn)"
   ]
  },
  {
   "cell_type": "code",
   "execution_count": 24,
   "metadata": {},
   "outputs": [
    {
     "data": {
      "text/html": [
       "<table>\n",
       "<thead><tr><th scope=col>gene_id</th><th scope=col>gene_name</th><th scope=col>variant_id</th><th scope=col>qval</th><th scope=col>pval_nominal</th><th scope=col>slope</th><th scope=col>slope_se</th></tr></thead>\n",
       "<tbody>\n",
       "\t<tr><td>ENSG00000223972.4 </td><td>DDX11L1           </td><td>1_859335_G_A_b37  </td><td>0.546972          </td><td>1.16451e-02       </td><td>-1.729390         </td><td>0.663809          </td></tr>\n",
       "\t<tr><td>ENSG00000227232.4 </td><td>WASH7P            </td><td>1_758324_T_C_b37  </td><td>0.522107          </td><td>6.44023e-03       </td><td> 1.619250         </td><td>0.572814          </td></tr>\n",
       "\t<tr><td>ENSG00000238009.2 </td><td>RP11-34P13.7      </td><td>1_905130_ATG_A_b37</td><td>0.168536          </td><td>9.87812e-05       </td><td> 0.640339         </td><td>0.153103          </td></tr>\n",
       "\t<tr><td>ENSG00000233750.3 </td><td>CICP27            </td><td>1_1082829_A_G_b37 </td><td>0.176553          </td><td>1.11251e-04       </td><td> 1.635540         </td><td>0.394381          </td></tr>\n",
       "\t<tr><td>ENSG00000237683.5 </td><td>AL627309.1        </td><td>1_1086261_G_A_b37 </td><td>0.262172          </td><td>2.78780e-04       </td><td>-0.748426         </td><td>0.193413          </td></tr>\n",
       "\t<tr><td>ENSG00000241860.2 </td><td>RP11-34P13.13     </td><td>1_1144196_T_C_b37 </td><td>0.399680          </td><td>1.06580e-03       </td><td> 0.885943         </td><td>0.257125          </td></tr>\n",
       "</tbody>\n",
       "</table>\n"
      ],
      "text/latex": [
       "\\begin{tabular}{r|lllllll}\n",
       " gene\\_id & gene\\_name & variant\\_id & qval & pval\\_nominal & slope & slope\\_se\\\\\n",
       "\\hline\n",
       "\t ENSG00000223972.4          & DDX11L1                    & 1\\_859335\\_G\\_A\\_b37   & 0.546972                   & 1.16451e-02                & -1.729390                  & 0.663809                  \\\\\n",
       "\t ENSG00000227232.4          & WASH7P                     & 1\\_758324\\_T\\_C\\_b37   & 0.522107                   & 6.44023e-03                &  1.619250                  & 0.572814                  \\\\\n",
       "\t ENSG00000238009.2          & RP11-34P13.7               & 1\\_905130\\_ATG\\_A\\_b37 & 0.168536                   & 9.87812e-05                &  0.640339                  & 0.153103                  \\\\\n",
       "\t ENSG00000233750.3          & CICP27                     & 1\\_1082829\\_A\\_G\\_b37  & 0.176553                   & 1.11251e-04                &  1.635540                  & 0.394381                  \\\\\n",
       "\t ENSG00000237683.5          & AL627309.1                 & 1\\_1086261\\_G\\_A\\_b37  & 0.262172                   & 2.78780e-04                & -0.748426                  & 0.193413                  \\\\\n",
       "\t ENSG00000241860.2          & RP11-34P13.13              & 1\\_1144196\\_T\\_C\\_b37  & 0.399680                   & 1.06580e-03                &  0.885943                  & 0.257125                  \\\\\n",
       "\\end{tabular}\n"
      ],
      "text/markdown": [
       "\n",
       "| gene_id | gene_name | variant_id | qval | pval_nominal | slope | slope_se |\n",
       "|---|---|---|---|---|---|---|\n",
       "| ENSG00000223972.4  | DDX11L1            | 1_859335_G_A_b37   | 0.546972           | 1.16451e-02        | -1.729390          | 0.663809           |\n",
       "| ENSG00000227232.4  | WASH7P             | 1_758324_T_C_b37   | 0.522107           | 6.44023e-03        |  1.619250          | 0.572814           |\n",
       "| ENSG00000238009.2  | RP11-34P13.7       | 1_905130_ATG_A_b37 | 0.168536           | 9.87812e-05        |  0.640339          | 0.153103           |\n",
       "| ENSG00000233750.3  | CICP27             | 1_1082829_A_G_b37  | 0.176553           | 1.11251e-04        |  1.635540          | 0.394381           |\n",
       "| ENSG00000237683.5  | AL627309.1         | 1_1086261_G_A_b37  | 0.262172           | 2.78780e-04        | -0.748426          | 0.193413           |\n",
       "| ENSG00000241860.2  | RP11-34P13.13      | 1_1144196_T_C_b37  | 0.399680           | 1.06580e-03        |  0.885943          | 0.257125           |\n",
       "\n"
      ],
      "text/plain": [
       "  gene_id           gene_name     variant_id         qval     pval_nominal\n",
       "1 ENSG00000223972.4 DDX11L1       1_859335_G_A_b37   0.546972 1.16451e-02 \n",
       "2 ENSG00000227232.4 WASH7P        1_758324_T_C_b37   0.522107 6.44023e-03 \n",
       "3 ENSG00000238009.2 RP11-34P13.7  1_905130_ATG_A_b37 0.168536 9.87812e-05 \n",
       "4 ENSG00000233750.3 CICP27        1_1082829_A_G_b37  0.176553 1.11251e-04 \n",
       "5 ENSG00000237683.5 AL627309.1    1_1086261_G_A_b37  0.262172 2.78780e-04 \n",
       "6 ENSG00000241860.2 RP11-34P13.13 1_1144196_T_C_b37  0.399680 1.06580e-03 \n",
       "  slope     slope_se\n",
       "1 -1.729390 0.663809\n",
       "2  1.619250 0.572814\n",
       "3  0.640339 0.153103\n",
       "4  1.635540 0.394381\n",
       "5 -0.748426 0.193413\n",
       "6  0.885943 0.257125"
      ]
     },
     "metadata": {},
     "output_type": "display_data"
    }
   ],
   "source": [
    "cols = c('gene_id','gene_name','variant_id','qval','pval_nominal','slope','slope_se')\n",
    "head(df_sn[,cols])"
   ]
  },
  {
   "cell_type": "code",
   "execution_count": 25,
   "metadata": {},
   "outputs": [
    {
     "data": {
      "text/html": [
       "0.554662"
      ],
      "text/latex": [
       "0.554662"
      ],
      "text/markdown": [
       "0.554662"
      ],
      "text/plain": [
       "[1] 0.554662"
      ]
     },
     "metadata": {},
     "output_type": "display_data"
    }
   ],
   "source": [
    "# 0.05\n",
    "max(df_sn$qval)"
   ]
  },
  {
   "cell_type": "code",
   "execution_count": 26,
   "metadata": {},
   "outputs": [
    {
     "data": {
      "text/html": [
       "23640"
      ],
      "text/latex": [
       "23640"
      ],
      "text/markdown": [
       "23640"
      ],
      "text/plain": [
       "[1] 23640"
      ]
     },
     "metadata": {},
     "output_type": "display_data"
    },
    {
     "data": {
      "text/html": [
       "1807"
      ],
      "text/latex": [
       "1807"
      ],
      "text/markdown": [
       "1807"
      ],
      "text/plain": [
       "[1] 1807"
      ]
     },
     "metadata": {},
     "output_type": "display_data"
    }
   ],
   "source": [
    "nrow(df_sn)\n",
    "nrow(df_sn[df_sn$qval<0.05,])"
   ]
  },
  {
   "cell_type": "code",
   "execution_count": 27,
   "metadata": {},
   "outputs": [
    {
     "data": {
      "text/html": [
       "<table>\n",
       "<thead><tr><th scope=col>feature_id</th><th scope=col>snp_id</th><th scope=col>global_corr_p_value</th><th scope=col>p_value</th><th scope=col>beta</th><th scope=col>beta_se</th><th scope=col>label</th></tr></thead>\n",
       "<tbody>\n",
       "\t<tr><td>ENSG00000156253</td><td>21_30373541_T_C</td><td>1.400559e-12   </td><td>2.920966e-25   </td><td>-0.8525780     </td><td>0.08210206     </td><td>FPP_D11        </td></tr>\n",
       "\t<tr><td>ENSG00000156261</td><td>21_30432557_G_A</td><td>1.059433e-28   </td><td>1.495486e-48   </td><td> 0.5058675     </td><td>0.03454695     </td><td>FPP_D11        </td></tr>\n",
       "</tbody>\n",
       "</table>\n"
      ],
      "text/latex": [
       "\\begin{tabular}{r|lllllll}\n",
       " feature\\_id & snp\\_id & global\\_corr\\_p\\_value & p\\_value & beta & beta\\_se & label\\\\\n",
       "\\hline\n",
       "\t ENSG00000156253       & 21\\_30373541\\_T\\_C & 1.400559e-12          & 2.920966e-25          & -0.8525780            & 0.08210206            & FPP\\_D11            \\\\\n",
       "\t ENSG00000156261       & 21\\_30432557\\_G\\_A & 1.059433e-28          & 1.495486e-48          &  0.5058675            & 0.03454695            & FPP\\_D11            \\\\\n",
       "\\end{tabular}\n"
      ],
      "text/markdown": [
       "\n",
       "| feature_id | snp_id | global_corr_p_value | p_value | beta | beta_se | label |\n",
       "|---|---|---|---|---|---|---|\n",
       "| ENSG00000156253 | 21_30373541_T_C | 1.400559e-12    | 2.920966e-25    | -0.8525780      | 0.08210206      | FPP_D11         |\n",
       "| ENSG00000156261 | 21_30432557_G_A | 1.059433e-28    | 1.495486e-48    |  0.5058675      | 0.03454695      | FPP_D11         |\n",
       "\n"
      ],
      "text/plain": [
       "  feature_id      snp_id          global_corr_p_value p_value      beta      \n",
       "1 ENSG00000156253 21_30373541_T_C 1.400559e-12        2.920966e-25 -0.8525780\n",
       "2 ENSG00000156261 21_30432557_G_A 1.059433e-28        1.495486e-48  0.5058675\n",
       "  beta_se    label  \n",
       "1 0.08210206 FPP_D11\n",
       "2 0.03454695 FPP_D11"
      ]
     },
     "metadata": {},
     "output_type": "display_data"
    }
   ],
   "source": [
    "eqtl_n = read.csv(\"/hps/nobackup/stegle/users/acuomo/all_scripts/sc_neuroseq/eqtl/all_leads_5pct_FDR.csv\")\n",
    "cols_n = c('feature_id','snp_id','global_corr_p_value','p_value','beta','beta_se','label')\n",
    "head(eqtl_n[,cols_n],2)"
   ]
  },
  {
   "cell_type": "code",
   "execution_count": 28,
   "metadata": {},
   "outputs": [
    {
     "data": {
      "text/html": [
       "1807"
      ],
      "text/latex": [
       "1807"
      ],
      "text/markdown": [
       "1807"
      ],
      "text/plain": [
       "[1] 1807"
      ]
     },
     "metadata": {},
     "output_type": "display_data"
    }
   ],
   "source": [
    "gtex_sign = df_sn[df_sn$qval<0.05, cols]\n",
    "nrow(gtex_sign)\n",
    "# head(gtex_sign,2)"
   ]
  },
  {
   "cell_type": "code",
   "execution_count": 29,
   "metadata": {},
   "outputs": [],
   "source": [
    "gtex_sign$feature_id = gsub(\"\\\\..*\",\"\",gtex_sign$gene_id)\n",
    "gtex_sign$snp_id = gsub(\"_b37\",\"\",gtex_sign$variant_id)\n",
    "# head(gtex_sign,2)"
   ]
  },
  {
   "cell_type": "code",
   "execution_count": 30,
   "metadata": {},
   "outputs": [],
   "source": [
    "gtex_sign$gene_id <- c()\n",
    "gtex_sign$variant_id <- c()"
   ]
  },
  {
   "cell_type": "code",
   "execution_count": 31,
   "metadata": {},
   "outputs": [
    {
     "data": {
      "text/html": [
       "<table>\n",
       "<thead><tr><th></th><th scope=col>gene_name</th><th scope=col>global_corr_p_value</th><th scope=col>p_value</th><th scope=col>beta</th><th scope=col>beta_se</th><th scope=col>feature_id</th><th scope=col>snp_id</th></tr></thead>\n",
       "<tbody>\n",
       "\t<tr><th scope=row>14</th><td>hsa-mir-6723   </td><td>0.0037223      </td><td>1.87076e-07    </td><td>2.38289        </td><td>0.402754       </td><td>ENSG00000237973</td><td>1_1161966_C_A  </td></tr>\n",
       "\t<tr><th scope=row>24</th><td>RP11-206L10.9  </td><td>0.0348368      </td><td>3.22264e-06    </td><td>1.26993        </td><td>0.246456       </td><td>ENSG00000237491</td><td>1_735068_A_G   </td></tr>\n",
       "</tbody>\n",
       "</table>\n"
      ],
      "text/latex": [
       "\\begin{tabular}{r|lllllll}\n",
       "  & gene\\_name & global\\_corr\\_p\\_value & p\\_value & beta & beta\\_se & feature\\_id & snp\\_id\\\\\n",
       "\\hline\n",
       "\t14 & hsa-mir-6723        & 0.0037223           & 1.87076e-07         & 2.38289             & 0.402754            & ENSG00000237973     & 1\\_1161966\\_C\\_A\\\\\n",
       "\t24 & RP11-206L10.9       & 0.0348368           & 3.22264e-06         & 1.26993             & 0.246456            & ENSG00000237491     & 1\\_735068\\_A\\_G \\\\\n",
       "\\end{tabular}\n"
      ],
      "text/markdown": [
       "\n",
       "| <!--/--> | gene_name | global_corr_p_value | p_value | beta | beta_se | feature_id | snp_id |\n",
       "|---|---|---|---|---|---|---|---|\n",
       "| 14 | hsa-mir-6723    | 0.0037223       | 1.87076e-07     | 2.38289         | 0.402754        | ENSG00000237973 | 1_1161966_C_A   |\n",
       "| 24 | RP11-206L10.9   | 0.0348368       | 3.22264e-06     | 1.26993         | 0.246456        | ENSG00000237491 | 1_735068_A_G    |\n",
       "\n"
      ],
      "text/plain": [
       "   gene_name     global_corr_p_value p_value     beta    beta_se \n",
       "14 hsa-mir-6723  0.0037223           1.87076e-07 2.38289 0.402754\n",
       "24 RP11-206L10.9 0.0348368           3.22264e-06 1.26993 0.246456\n",
       "   feature_id      snp_id       \n",
       "14 ENSG00000237973 1_1161966_C_A\n",
       "24 ENSG00000237491 1_735068_A_G "
      ]
     },
     "metadata": {},
     "output_type": "display_data"
    }
   ],
   "source": [
    "colnames(gtex_sign)[2:5] <- c(\"global_corr_p_value\",\"p_value\",\"beta\",\"beta_se\")\n",
    "head(gtex_sign,2)"
   ]
  },
  {
   "cell_type": "code",
   "execution_count": 52,
   "metadata": {},
   "outputs": [],
   "source": [
    "library(dplyr)"
   ]
  },
  {
   "cell_type": "code",
   "execution_count": 38,
   "metadata": {},
   "outputs": [],
   "source": [
    "files = paste0(myfolder,list.files(myfolder))"
   ]
  },
  {
   "cell_type": "code",
   "execution_count": 43,
   "metadata": {},
   "outputs": [
    {
     "name": "stdout",
     "output_type": "stream",
     "text": [
      "[1] \"/hps/nobackup/stegle/users/acuomo/all_scripts/sc_neuroseq/eqtl/all_results_nominal_significance_p_0.05/Astro_D30_qtl_results_p_0.05.csv\"\n"
     ]
    },
    {
     "name": "stderr",
     "output_type": "stream",
     "text": [
      "Warning message:\n",
      "“Column `feature_id` joining factor and character vector, coercing into character vector”Warning message:\n",
      "“Column `snp_id` joining factor and character vector, coercing into character vector”"
     ]
    },
    {
     "name": "stdout",
     "output_type": "stream",
     "text": [
      "[1] 238\n",
      "[1] 217\n",
      "[1] \"/hps/nobackup/stegle/users/acuomo/all_scripts/sc_neuroseq/eqtl/all_results_nominal_significance_p_0.05/Astro_D52_NONE_qtl_results_p_0.05.csv\"\n"
     ]
    },
    {
     "name": "stderr",
     "output_type": "stream",
     "text": [
      "Warning message:\n",
      "“Column `feature_id` joining factor and character vector, coercing into character vector”Warning message:\n",
      "“Column `snp_id` joining factor and character vector, coercing into character vector”"
     ]
    },
    {
     "name": "stdout",
     "output_type": "stream",
     "text": [
      "[1] 197\n",
      "[1] 180\n",
      "[1] \"/hps/nobackup/stegle/users/acuomo/all_scripts/sc_neuroseq/eqtl/all_results_nominal_significance_p_0.05/Astro_D52_ROT_qtl_results_p_0.05.csv\"\n"
     ]
    },
    {
     "name": "stderr",
     "output_type": "stream",
     "text": [
      "Warning message:\n",
      "“Column `feature_id` joining factor and character vector, coercing into character vector”Warning message:\n",
      "“Column `snp_id` joining factor and character vector, coercing into character vector”"
     ]
    },
    {
     "name": "stdout",
     "output_type": "stream",
     "text": [
      "[1] 209\n",
      "[1] 195\n",
      "[1] \"/hps/nobackup/stegle/users/acuomo/all_scripts/sc_neuroseq/eqtl/all_results_nominal_significance_p_0.05/DA_D30_qtl_results_p_0.05.csv\"\n"
     ]
    },
    {
     "name": "stderr",
     "output_type": "stream",
     "text": [
      "Warning message:\n",
      "“Column `feature_id` joining factor and character vector, coercing into character vector”Warning message:\n",
      "“Column `snp_id` joining factor and character vector, coercing into character vector”"
     ]
    },
    {
     "name": "stdout",
     "output_type": "stream",
     "text": [
      "[1] 221\n",
      "[1] 198\n",
      "[1] \"/hps/nobackup/stegle/users/acuomo/all_scripts/sc_neuroseq/eqtl/all_results_nominal_significance_p_0.05/DA_D52_NONE_qtl_results_p_0.05.csv\"\n"
     ]
    },
    {
     "name": "stderr",
     "output_type": "stream",
     "text": [
      "Warning message:\n",
      "“Column `feature_id` joining factor and character vector, coercing into character vector”Warning message:\n",
      "“Column `snp_id` joining factor and character vector, coercing into character vector”"
     ]
    },
    {
     "name": "stdout",
     "output_type": "stream",
     "text": [
      "[1] 243\n",
      "[1] 217\n",
      "[1] \"/hps/nobackup/stegle/users/acuomo/all_scripts/sc_neuroseq/eqtl/all_results_nominal_significance_p_0.05/DA_D52_ROT_qtl_results_p_0.05.csv\"\n"
     ]
    },
    {
     "name": "stderr",
     "output_type": "stream",
     "text": [
      "Warning message:\n",
      "“Column `feature_id` joining factor and character vector, coercing into character vector”Warning message:\n",
      "“Column `snp_id` joining factor and character vector, coercing into character vector”"
     ]
    },
    {
     "name": "stdout",
     "output_type": "stream",
     "text": [
      "[1] 209\n",
      "[1] 185\n",
      "[1] \"/hps/nobackup/stegle/users/acuomo/all_scripts/sc_neuroseq/eqtl/all_results_nominal_significance_p_0.05/Epen1_D30_qtl_results_p_0.05.csv\"\n"
     ]
    },
    {
     "name": "stderr",
     "output_type": "stream",
     "text": [
      "Warning message:\n",
      "“Column `feature_id` joining factor and character vector, coercing into character vector”Warning message:\n",
      "“Column `snp_id` joining factor and character vector, coercing into character vector”"
     ]
    },
    {
     "name": "stdout",
     "output_type": "stream",
     "text": [
      "[1] 236\n",
      "[1] 208\n",
      "[1] \"/hps/nobackup/stegle/users/acuomo/all_scripts/sc_neuroseq/eqtl/all_results_nominal_significance_p_0.05/Epen1_D52_NONE_qtl_results_p_0.05.csv\"\n"
     ]
    },
    {
     "name": "stderr",
     "output_type": "stream",
     "text": [
      "Warning message:\n",
      "“Column `feature_id` joining factor and character vector, coercing into character vector”Warning message:\n",
      "“Column `snp_id` joining factor and character vector, coercing into character vector”"
     ]
    },
    {
     "name": "stdout",
     "output_type": "stream",
     "text": [
      "[1] 235\n",
      "[1] 211\n",
      "[1] \"/hps/nobackup/stegle/users/acuomo/all_scripts/sc_neuroseq/eqtl/all_results_nominal_significance_p_0.05/Epen1_D52_ROT_qtl_results_p_0.05.csv\"\n"
     ]
    },
    {
     "name": "stderr",
     "output_type": "stream",
     "text": [
      "Warning message:\n",
      "“Column `feature_id` joining factor and character vector, coercing into character vector”Warning message:\n",
      "“Column `snp_id` joining factor and character vector, coercing into character vector”"
     ]
    },
    {
     "name": "stdout",
     "output_type": "stream",
     "text": [
      "[1] 236\n",
      "[1] 212\n",
      "[1] \"/hps/nobackup/stegle/users/acuomo/all_scripts/sc_neuroseq/eqtl/all_results_nominal_significance_p_0.05/FPP_D11_qtl_results_p_0.05.csv\"\n"
     ]
    },
    {
     "name": "stderr",
     "output_type": "stream",
     "text": [
      "Warning message:\n",
      "“Column `feature_id` joining factor and character vector, coercing into character vector”Warning message:\n",
      "“Column `snp_id` joining factor and character vector, coercing into character vector”"
     ]
    },
    {
     "name": "stdout",
     "output_type": "stream",
     "text": [
      "[1] 283\n",
      "[1] 242\n",
      "[1] \"/hps/nobackup/stegle/users/acuomo/all_scripts/sc_neuroseq/eqtl/all_results_nominal_significance_p_0.05/P_FPP_D11_qtl_results_p_0.05.csv\"\n"
     ]
    },
    {
     "name": "stderr",
     "output_type": "stream",
     "text": [
      "Warning message:\n",
      "“Column `feature_id` joining factor and character vector, coercing into character vector”Warning message:\n",
      "“Column `snp_id` joining factor and character vector, coercing into character vector”"
     ]
    },
    {
     "name": "stdout",
     "output_type": "stream",
     "text": [
      "[1] 284\n",
      "[1] 234\n",
      "[1] \"/hps/nobackup/stegle/users/acuomo/all_scripts/sc_neuroseq/eqtl/all_results_nominal_significance_p_0.05/Sert_D30_qtl_results_p_0.05.csv\"\n"
     ]
    },
    {
     "name": "stderr",
     "output_type": "stream",
     "text": [
      "Warning message:\n",
      "“Column `feature_id` joining factor and character vector, coercing into character vector”Warning message:\n",
      "“Column `snp_id` joining factor and character vector, coercing into character vector”"
     ]
    },
    {
     "name": "stdout",
     "output_type": "stream",
     "text": [
      "[1] 237\n",
      "[1] 212\n",
      "[1] \"/hps/nobackup/stegle/users/acuomo/all_scripts/sc_neuroseq/eqtl/all_results_nominal_significance_p_0.05/Sert_D52_NONE_qtl_results_p_0.05.csv\"\n"
     ]
    },
    {
     "name": "stderr",
     "output_type": "stream",
     "text": [
      "Warning message:\n",
      "“Column `feature_id` joining factor and character vector, coercing into character vector”Warning message:\n",
      "“Column `snp_id` joining factor and character vector, coercing into character vector”"
     ]
    },
    {
     "name": "stdout",
     "output_type": "stream",
     "text": [
      "[1] 262\n",
      "[1] 233\n",
      "[1] \"/hps/nobackup/stegle/users/acuomo/all_scripts/sc_neuroseq/eqtl/all_results_nominal_significance_p_0.05/Sert_D52_ROT_qtl_results_p_0.05.csv\"\n"
     ]
    },
    {
     "name": "stderr",
     "output_type": "stream",
     "text": [
      "Warning message:\n",
      "“Column `feature_id` joining factor and character vector, coercing into character vector”Warning message:\n",
      "“Column `snp_id` joining factor and character vector, coercing into character vector”"
     ]
    },
    {
     "name": "stdout",
     "output_type": "stream",
     "text": [
      "[1] 245\n",
      "[1] 215\n"
     ]
    }
   ],
   "source": [
    "for (file in files){\n",
    "    print(file)\n",
    "    res_n = read.csv(file)\n",
    "    merged = inner_join(res_n, gtex_sign, by = c(\"feature_id\",\"snp_id\"), suffix = c(\".neuroseq\",\".gtex_sn\"))\n",
    "    print(nrow(merged))\n",
    "    print(nrow(merged[merged$beta.neuroseq*merged$beta.gtex_sn >0,]))\n",
    "}"
   ]
  },
  {
   "cell_type": "code",
   "execution_count": 32,
   "metadata": {},
   "outputs": [],
   "source": [
    "library(dplyr)"
   ]
  },
  {
   "cell_type": "code",
   "execution_count": 42,
   "metadata": {},
   "outputs": [
    {
     "data": {
      "text/html": [
       "'/hps/nobackup/stegle/users/acuomo/all_scripts/sc_neuroseq/eqtl/all_results_nominal_significance_p_0.05/Astro_D30_qtl_results_p_0.05.csv'"
      ],
      "text/latex": [
       "'/hps/nobackup/stegle/users/acuomo/all\\_scripts/sc\\_neuroseq/eqtl/all\\_results\\_nominal\\_significance\\_p\\_0.05/Astro\\_D30\\_qtl\\_results\\_p\\_0.05.csv'"
      ],
      "text/markdown": [
       "'/hps/nobackup/stegle/users/acuomo/all_scripts/sc_neuroseq/eqtl/all_results_nominal_significance_p_0.05/Astro_D30_qtl_results_p_0.05.csv'"
      ],
      "text/plain": [
       "[1] \"/hps/nobackup/stegle/users/acuomo/all_scripts/sc_neuroseq/eqtl/all_results_nominal_significance_p_0.05/Astro_D30_qtl_results_p_0.05.csv\""
      ]
     },
     "metadata": {},
     "output_type": "display_data"
    },
    {
     "data": {
      "text/html": [
       "<table>\n",
       "<thead><tr><th scope=col>X</th><th scope=col>feature_id</th><th scope=col>snp_id</th><th scope=col>p_value</th><th scope=col>beta</th><th scope=col>beta_se</th><th scope=col>empirical_feature_p_value</th><th scope=col>feature_chromosome</th><th scope=col>feature_start</th><th scope=col>feature_end</th><th scope=col>n_samples</th><th scope=col>n_e_samples</th><th scope=col>snp_chromosome</th><th scope=col>snp_position</th><th scope=col>assessed_allele</th><th scope=col>call_rate</th><th scope=col>maf</th><th scope=col>hwe_p</th></tr></thead>\n",
       "<tbody>\n",
       "\t<tr><td> 1             </td><td>ENSG00000188976</td><td>1_662622_G_A   </td><td>0.02454912     </td><td>-0.1824965     </td><td>0.08116636     </td><td>-1             </td><td>1              </td><td> 879584        </td><td> 894689        </td><td>152            </td><td>152            </td><td>1              </td><td>662622         </td><td>A              </td><td>1              </td><td>0.08223684     </td><td>1.0000000      </td></tr>\n",
       "\t<tr><td>52             </td><td>ENSG00000188976</td><td>1_736289_T_A   </td><td>0.02733032     </td><td>-0.1609400     </td><td>0.07293021     </td><td>-1             </td><td>1              </td><td> 879584        </td><td> 894689        </td><td>152            </td><td>152            </td><td>1              </td><td>736289         </td><td>A              </td><td>1              </td><td>0.13486842     </td><td>0.3130642      </td></tr>\n",
       "\t<tr><td>63             </td><td>ENSG00000127054</td><td>1_748878_G_T   </td><td>0.04505534     </td><td>-0.1385623     </td><td>0.06913813     </td><td>-1             </td><td>1              </td><td>1246965        </td><td>1260071        </td><td>152            </td><td>152            </td><td>1              </td><td>748878         </td><td>T              </td><td>1              </td><td>0.15131579     </td><td>0.2009790      </td></tr>\n",
       "\t<tr><td>76             </td><td>ENSG00000127054</td><td>1_748878_G_T   </td><td>0.04505534     </td><td>-0.1385623     </td><td>0.06913813     </td><td>-1             </td><td>1              </td><td>1246965        </td><td>1260071        </td><td>152            </td><td>152            </td><td>1              </td><td>748878         </td><td>T              </td><td>1              </td><td>0.15131579     </td><td>0.2009790      </td></tr>\n",
       "\t<tr><td>77             </td><td>ENSG00000127054</td><td>1_751756_T_C   </td><td>0.02948360     </td><td> 0.1541454     </td><td>0.07080768     </td><td>-1             </td><td>1              </td><td>1246965        </td><td>1260071        </td><td>152            </td><td>152            </td><td>1              </td><td>751756         </td><td>C              </td><td>1              </td><td>0.13157895     </td><td>1.0000000      </td></tr>\n",
       "\t<tr><td>90             </td><td>ENSG00000127054</td><td>1_751756_T_C   </td><td>0.02948360     </td><td> 0.1541454     </td><td>0.07080768     </td><td>-1             </td><td>1              </td><td>1246965        </td><td>1260071        </td><td>152            </td><td>152            </td><td>1              </td><td>751756         </td><td>C              </td><td>1              </td><td>0.13157895     </td><td>1.0000000      </td></tr>\n",
       "</tbody>\n",
       "</table>\n"
      ],
      "text/latex": [
       "\\begin{tabular}{r|llllllllllllllllll}\n",
       " X & feature\\_id & snp\\_id & p\\_value & beta & beta\\_se & empirical\\_feature\\_p\\_value & feature\\_chromosome & feature\\_start & feature\\_end & n\\_samples & n\\_e\\_samples & snp\\_chromosome & snp\\_position & assessed\\_allele & call\\_rate & maf & hwe\\_p\\\\\n",
       "\\hline\n",
       "\t  1                 & ENSG00000188976    & 1\\_662622\\_G\\_A & 0.02454912         & -0.1824965         & 0.08116636         & -1                 & 1                  &  879584            &  894689            & 152                & 152                & 1                  & 662622             & A                  & 1                  & 0.08223684         & 1.0000000         \\\\\n",
       "\t 52                 & ENSG00000188976    & 1\\_736289\\_T\\_A & 0.02733032         & -0.1609400         & 0.07293021         & -1                 & 1                  &  879584            &  894689            & 152                & 152                & 1                  & 736289             & A                  & 1                  & 0.13486842         & 0.3130642         \\\\\n",
       "\t 63                 & ENSG00000127054    & 1\\_748878\\_G\\_T & 0.04505534         & -0.1385623         & 0.06913813         & -1                 & 1                  & 1246965            & 1260071            & 152                & 152                & 1                  & 748878             & T                  & 1                  & 0.15131579         & 0.2009790         \\\\\n",
       "\t 76                 & ENSG00000127054    & 1\\_748878\\_G\\_T & 0.04505534         & -0.1385623         & 0.06913813         & -1                 & 1                  & 1246965            & 1260071            & 152                & 152                & 1                  & 748878             & T                  & 1                  & 0.15131579         & 0.2009790         \\\\\n",
       "\t 77                 & ENSG00000127054    & 1\\_751756\\_T\\_C & 0.02948360         &  0.1541454         & 0.07080768         & -1                 & 1                  & 1246965            & 1260071            & 152                & 152                & 1                  & 751756             & C                  & 1                  & 0.13157895         & 1.0000000         \\\\\n",
       "\t 90                 & ENSG00000127054    & 1\\_751756\\_T\\_C & 0.02948360         &  0.1541454         & 0.07080768         & -1                 & 1                  & 1246965            & 1260071            & 152                & 152                & 1                  & 751756             & C                  & 1                  & 0.13157895         & 1.0000000         \\\\\n",
       "\\end{tabular}\n"
      ],
      "text/markdown": [
       "\n",
       "| X | feature_id | snp_id | p_value | beta | beta_se | empirical_feature_p_value | feature_chromosome | feature_start | feature_end | n_samples | n_e_samples | snp_chromosome | snp_position | assessed_allele | call_rate | maf | hwe_p |\n",
       "|---|---|---|---|---|---|---|---|---|---|---|---|---|---|---|---|---|---|\n",
       "|  1              | ENSG00000188976 | 1_662622_G_A    | 0.02454912      | -0.1824965      | 0.08116636      | -1              | 1               |  879584         |  894689         | 152             | 152             | 1               | 662622          | A               | 1               | 0.08223684      | 1.0000000       |\n",
       "| 52              | ENSG00000188976 | 1_736289_T_A    | 0.02733032      | -0.1609400      | 0.07293021      | -1              | 1               |  879584         |  894689         | 152             | 152             | 1               | 736289          | A               | 1               | 0.13486842      | 0.3130642       |\n",
       "| 63              | ENSG00000127054 | 1_748878_G_T    | 0.04505534      | -0.1385623      | 0.06913813      | -1              | 1               | 1246965         | 1260071         | 152             | 152             | 1               | 748878          | T               | 1               | 0.15131579      | 0.2009790       |\n",
       "| 76              | ENSG00000127054 | 1_748878_G_T    | 0.04505534      | -0.1385623      | 0.06913813      | -1              | 1               | 1246965         | 1260071         | 152             | 152             | 1               | 748878          | T               | 1               | 0.15131579      | 0.2009790       |\n",
       "| 77              | ENSG00000127054 | 1_751756_T_C    | 0.02948360      |  0.1541454      | 0.07080768      | -1              | 1               | 1246965         | 1260071         | 152             | 152             | 1               | 751756          | C               | 1               | 0.13157895      | 1.0000000       |\n",
       "| 90              | ENSG00000127054 | 1_751756_T_C    | 0.02948360      |  0.1541454      | 0.07080768      | -1              | 1               | 1246965         | 1260071         | 152             | 152             | 1               | 751756          | C               | 1               | 0.13157895      | 1.0000000       |\n",
       "\n"
      ],
      "text/plain": [
       "  X  feature_id      snp_id       p_value    beta       beta_se   \n",
       "1  1 ENSG00000188976 1_662622_G_A 0.02454912 -0.1824965 0.08116636\n",
       "2 52 ENSG00000188976 1_736289_T_A 0.02733032 -0.1609400 0.07293021\n",
       "3 63 ENSG00000127054 1_748878_G_T 0.04505534 -0.1385623 0.06913813\n",
       "4 76 ENSG00000127054 1_748878_G_T 0.04505534 -0.1385623 0.06913813\n",
       "5 77 ENSG00000127054 1_751756_T_C 0.02948360  0.1541454 0.07080768\n",
       "6 90 ENSG00000127054 1_751756_T_C 0.02948360  0.1541454 0.07080768\n",
       "  empirical_feature_p_value feature_chromosome feature_start feature_end\n",
       "1 -1                        1                   879584        894689    \n",
       "2 -1                        1                   879584        894689    \n",
       "3 -1                        1                  1246965       1260071    \n",
       "4 -1                        1                  1246965       1260071    \n",
       "5 -1                        1                  1246965       1260071    \n",
       "6 -1                        1                  1246965       1260071    \n",
       "  n_samples n_e_samples snp_chromosome snp_position assessed_allele call_rate\n",
       "1 152       152         1              662622       A               1        \n",
       "2 152       152         1              736289       A               1        \n",
       "3 152       152         1              748878       T               1        \n",
       "4 152       152         1              748878       T               1        \n",
       "5 152       152         1              751756       C               1        \n",
       "6 152       152         1              751756       C               1        \n",
       "  maf        hwe_p    \n",
       "1 0.08223684 1.0000000\n",
       "2 0.13486842 0.3130642\n",
       "3 0.15131579 0.2009790\n",
       "4 0.15131579 0.2009790\n",
       "5 0.13157895 1.0000000\n",
       "6 0.13157895 1.0000000"
      ]
     },
     "metadata": {},
     "output_type": "display_data"
    }
   ],
   "source": [
    "file\n",
    "res_n = read.csv(file)\n",
    "head(res_n)"
   ]
  },
  {
   "cell_type": "code",
   "execution_count": 34,
   "metadata": {},
   "outputs": [
    {
     "name": "stdout",
     "output_type": "stream",
     "text": [
      "[1] \"/hps/nobackup/stegle/users/acuomo/all_scripts/sc_neuroseq/eqtl/timepoint_D52/input_files_untreated/celltype_DA/results/qtl_results_all.txt\"\n"
     ]
    },
    {
     "name": "stderr",
     "output_type": "stream",
     "text": [
      "Warning message:\n",
      "“Column `feature_id` joining factor and character vector, coercing into character vector”Warning message:\n",
      "“Column `snp_id` joining factor and character vector, coercing into character vector”"
     ]
    },
    {
     "name": "stdout",
     "output_type": "stream",
     "text": [
      "[1] 400\n",
      "[1] 315\n",
      "[1] \"/hps/nobackup/stegle/users/acuomo/all_scripts/sc_neuroseq/eqtl/timepoint_D52/input_files_untreated/celltype_Sert/results/qtl_results_all.txt\"\n"
     ]
    },
    {
     "name": "stderr",
     "output_type": "stream",
     "text": [
      "Warning message:\n",
      "“Column `feature_id` joining factor and character vector, coercing into character vector”Warning message:\n",
      "“Column `snp_id` joining factor and character vector, coercing into character vector”"
     ]
    },
    {
     "name": "stdout",
     "output_type": "stream",
     "text": [
      "[1] 420\n",
      "[1] 344\n",
      "[1] \"/hps/nobackup/stegle/users/acuomo/all_scripts/sc_neuroseq/eqtl/timepoint_D52/input_files_untreated/celltype_Epen1/results/qtl_results_all.txt\"\n"
     ]
    },
    {
     "name": "stderr",
     "output_type": "stream",
     "text": [
      "Warning message:\n",
      "“Column `feature_id` joining factor and character vector, coercing into character vector”Warning message:\n",
      "“Column `snp_id` joining factor and character vector, coercing into character vector”"
     ]
    },
    {
     "name": "stdout",
     "output_type": "stream",
     "text": [
      "[1] 418\n",
      "[1] 326\n",
      "[1] \"/hps/nobackup/stegle/users/acuomo/all_scripts/sc_neuroseq/eqtl/timepoint_D52/input_files_untreated/celltype_Astro/results/qtl_results_all.txt\"\n"
     ]
    },
    {
     "name": "stderr",
     "output_type": "stream",
     "text": [
      "Warning message:\n",
      "“Column `feature_id` joining factor and character vector, coercing into character vector”Warning message:\n",
      "“Column `snp_id` joining factor and character vector, coercing into character vector”"
     ]
    },
    {
     "name": "stdout",
     "output_type": "stream",
     "text": [
      "[1] 399\n",
      "[1] 321\n",
      "[1] \"/hps/nobackup/stegle/users/acuomo/all_scripts/sc_neuroseq/eqtl/timepoint_D52/input_files_ROT_treated/celltype_DA/results/qtl_results_all.txt\"\n"
     ]
    },
    {
     "name": "stderr",
     "output_type": "stream",
     "text": [
      "Warning message:\n",
      "“Column `feature_id` joining factor and character vector, coercing into character vector”Warning message:\n",
      "“Column `snp_id` joining factor and character vector, coercing into character vector”"
     ]
    },
    {
     "name": "stdout",
     "output_type": "stream",
     "text": [
      "[1] 398\n",
      "[1] 313\n",
      "[1] \"/hps/nobackup/stegle/users/acuomo/all_scripts/sc_neuroseq/eqtl/timepoint_D52/input_files_ROT_treated/celltype_Sert/results/qtl_results_all.txt\"\n"
     ]
    },
    {
     "name": "stderr",
     "output_type": "stream",
     "text": [
      "Warning message:\n",
      "“Column `feature_id` joining factor and character vector, coercing into character vector”Warning message:\n",
      "“Column `snp_id` joining factor and character vector, coercing into character vector”"
     ]
    },
    {
     "name": "stdout",
     "output_type": "stream",
     "text": [
      "[1] 419\n",
      "[1] 331\n",
      "[1] \"/hps/nobackup/stegle/users/acuomo/all_scripts/sc_neuroseq/eqtl/timepoint_D52/input_files_ROT_treated/celltype_Epen1/results/qtl_results_all.txt\"\n"
     ]
    },
    {
     "name": "stderr",
     "output_type": "stream",
     "text": [
      "Warning message:\n",
      "“Column `feature_id` joining factor and character vector, coercing into character vector”Warning message:\n",
      "“Column `snp_id` joining factor and character vector, coercing into character vector”"
     ]
    },
    {
     "name": "stdout",
     "output_type": "stream",
     "text": [
      "[1] 418\n",
      "[1] 324\n",
      "[1] \"/hps/nobackup/stegle/users/acuomo/all_scripts/sc_neuroseq/eqtl/timepoint_D52/input_files_ROT_treated/celltype_Astro/results/qtl_results_all.txt\"\n"
     ]
    },
    {
     "name": "stderr",
     "output_type": "stream",
     "text": [
      "Warning message:\n",
      "“Column `feature_id` joining factor and character vector, coercing into character vector”Warning message:\n",
      "“Column `snp_id` joining factor and character vector, coercing into character vector”"
     ]
    },
    {
     "name": "stdout",
     "output_type": "stream",
     "text": [
      "[1] 407\n",
      "[1] 321\n"
     ]
    }
   ],
   "source": [
    "for (file in files){\n",
    "    print(file)\n",
    "    res_n = read.csv(file,sep=\"\\t\")\n",
    "    merged = inner_join(res_n, gtex_sign, by = c(\"feature_id\",\"snp_id\"), suffix = c(\".neuroseq\",\".gtex_sn\"))\n",
    "    print(nrow(merged))\n",
    "    print(nrow(merged[merged$beta.neuroseq*merged$beta.gtex_sn >0,]))\n",
    "}"
   ]
  },
  {
   "cell_type": "code",
   "execution_count": null,
   "metadata": {},
   "outputs": [],
   "source": []
  },
  {
   "cell_type": "code",
   "execution_count": null,
   "metadata": {},
   "outputs": [],
   "source": []
  },
  {
   "cell_type": "code",
   "execution_count": null,
   "metadata": {},
   "outputs": [],
   "source": [
    "D30 folder "
   ]
  },
  {
   "cell_type": "code",
   "execution_count": 72,
   "metadata": {},
   "outputs": [
    {
     "data": {
      "text/html": [
       "'/hps/nobackup/stegle/users/acuomo/all_scripts/sc_neuroseq/eqtl/timepoint_D52/input_files_ROT_treated/celltype_Astro/results/qtl_results_all.txt'"
      ],
      "text/latex": [
       "'/hps/nobackup/stegle/users/acuomo/all\\_scripts/sc\\_neuroseq/eqtl/timepoint\\_D52/input\\_files\\_ROT\\_treated/celltype\\_Astro/results/qtl\\_results\\_all.txt'"
      ],
      "text/markdown": [
       "'/hps/nobackup/stegle/users/acuomo/all_scripts/sc_neuroseq/eqtl/timepoint_D52/input_files_ROT_treated/celltype_Astro/results/qtl_results_all.txt'"
      ],
      "text/plain": [
       "[1] \"/hps/nobackup/stegle/users/acuomo/all_scripts/sc_neuroseq/eqtl/timepoint_D52/input_files_ROT_treated/celltype_Astro/results/qtl_results_all.txt\""
      ]
     },
     "metadata": {},
     "output_type": "display_data"
    }
   ],
   "source": [
    "D52_folder = \"/hps/nobackup/stegle/users/acuomo/all_scripts/sc_neuroseq/eqtl/timepoint_D52/\"\n",
    "files = c(paste0(D52_folder,\"input_files_untreated/celltype_Astro/results/qtl_results_all.txt\"))\n",
    "files = c(paste0(D52_folder,\"input_files_ROT_treated/celltype_Astro/results/qtl_results_all.txt\"))\n",
    "files"
   ]
  },
  {
   "cell_type": "code",
   "execution_count": 73,
   "metadata": {},
   "outputs": [
    {
     "name": "stdout",
     "output_type": "stream",
     "text": [
      "[1] 683\n"
     ]
    },
    {
     "name": "stderr",
     "output_type": "stream",
     "text": [
      "Warning message:\n",
      "“Column `feature_id` joining factor and character vector, coercing into character vector”Warning message:\n",
      "“Column `snp_id` joining factor and character vector, coercing into character vector”"
     ]
    },
    {
     "name": "stdout",
     "output_type": "stream",
     "text": [
      "[1] 407\n",
      "[1] 209\n",
      "[1] 195\n"
     ]
    }
   ],
   "source": [
    "# Astro D52 ROT\n",
    "for (file in files){\n",
    "    res_n = read.csv(file,sep=\"\\t\")\n",
    "    print(length(gtex_sign$feature_id[gtex_sign$feature_id %in% res_n$feature_id]))\n",
    "    merged = inner_join(res_n, gtex_sign, by = c(\"feature_id\",\"snp_id\"), suffix = c(\".neuroseq\",\".gtex_sn\"))\n",
    "    print(nrow(merged))\n",
    "    print(nrow(merged[merged$p_value.neuroseq < 0.05,]))\n",
    "    print(nrow(merged[merged$p_value.neuroseq < 0.05 & merged$beta.neuroseq*merged$beta.gtex_sn >0,]))\n",
    "}"
   ]
  },
  {
   "cell_type": "code",
   "execution_count": 71,
   "metadata": {},
   "outputs": [
    {
     "name": "stdout",
     "output_type": "stream",
     "text": [
      "[1] 701\n"
     ]
    },
    {
     "name": "stderr",
     "output_type": "stream",
     "text": [
      "Warning message:\n",
      "“Column `feature_id` joining factor and character vector, coercing into character vector”Warning message:\n",
      "“Column `snp_id` joining factor and character vector, coercing into character vector”"
     ]
    },
    {
     "name": "stdout",
     "output_type": "stream",
     "text": [
      "[1] 418\n",
      "[1] 236\n",
      "[1] 212\n"
     ]
    }
   ],
   "source": [
    "# Epen1 D52 ROT\n",
    "for (file in files){\n",
    "    res_n = read.csv(file,sep=\"\\t\")\n",
    "    print(length(gtex_sign$feature_id[gtex_sign$feature_id %in% res_n$feature_id]))\n",
    "    merged = inner_join(res_n, gtex_sign, by = c(\"feature_id\",\"snp_id\"), suffix = c(\".neuroseq\",\".gtex_sn\"))\n",
    "    print(nrow(merged))\n",
    "    print(nrow(merged[merged$p_value.neuroseq < 0.05,]))\n",
    "    print(nrow(merged[merged$p_value.neuroseq < 0.05 & merged$beta.neuroseq*merged$beta.gtex_sn >0,]))\n",
    "}"
   ]
  },
  {
   "cell_type": "code",
   "execution_count": 69,
   "metadata": {},
   "outputs": [
    {
     "name": "stdout",
     "output_type": "stream",
     "text": [
      "[1] 700\n"
     ]
    },
    {
     "name": "stderr",
     "output_type": "stream",
     "text": [
      "Warning message:\n",
      "“Column `feature_id` joining factor and character vector, coercing into character vector”Warning message:\n",
      "“Column `snp_id` joining factor and character vector, coercing into character vector”"
     ]
    },
    {
     "name": "stdout",
     "output_type": "stream",
     "text": [
      "[1] 419\n",
      "[1] 245\n",
      "[1] 215\n"
     ]
    }
   ],
   "source": [
    "# Sert D52 ROT\n",
    "for (file in files){\n",
    "    res_n = read.csv(file,sep=\"\\t\")\n",
    "    print(length(gtex_sign$feature_id[gtex_sign$feature_id %in% res_n$feature_id]))\n",
    "    merged = inner_join(res_n, gtex_sign, by = c(\"feature_id\",\"snp_id\"), suffix = c(\".neuroseq\",\".gtex_sn\"))\n",
    "    print(nrow(merged))\n",
    "    print(nrow(merged[merged$p_value.neuroseq < 0.05,]))\n",
    "    print(nrow(merged[merged$p_value.neuroseq < 0.05 & merged$beta.neuroseq*merged$beta.gtex_sn >0,]))\n",
    "}"
   ]
  },
  {
   "cell_type": "code",
   "execution_count": 67,
   "metadata": {},
   "outputs": [
    {
     "name": "stdout",
     "output_type": "stream",
     "text": [
      "[1] 674\n"
     ]
    },
    {
     "name": "stderr",
     "output_type": "stream",
     "text": [
      "Warning message:\n",
      "“Column `feature_id` joining factor and character vector, coercing into character vector”Warning message:\n",
      "“Column `snp_id` joining factor and character vector, coercing into character vector”"
     ]
    },
    {
     "name": "stdout",
     "output_type": "stream",
     "text": [
      "[1] 398\n",
      "[1] 209\n",
      "[1] 185\n"
     ]
    }
   ],
   "source": [
    "# DA D52 ROT\n",
    "for (file in files){\n",
    "    res_n = read.csv(file,sep=\"\\t\")\n",
    "    print(length(gtex_sign$feature_id[gtex_sign$feature_id %in% res_n$feature_id]))\n",
    "    merged = inner_join(res_n, gtex_sign, by = c(\"feature_id\",\"snp_id\"), suffix = c(\".neuroseq\",\".gtex_sn\"))\n",
    "    print(nrow(merged))\n",
    "    print(nrow(merged[merged$p_value.neuroseq < 0.05,]))\n",
    "    print(nrow(merged[merged$p_value.neuroseq < 0.05 & merged$beta.neuroseq*merged$beta.gtex_sn >0,]))\n",
    "}"
   ]
  },
  {
   "cell_type": "code",
   "execution_count": 65,
   "metadata": {},
   "outputs": [
    {
     "name": "stdout",
     "output_type": "stream",
     "text": [
      "[1] 683\n"
     ]
    },
    {
     "name": "stderr",
     "output_type": "stream",
     "text": [
      "Warning message:\n",
      "“Column `feature_id` joining factor and character vector, coercing into character vector”Warning message:\n",
      "“Column `snp_id` joining factor and character vector, coercing into character vector”"
     ]
    },
    {
     "name": "stdout",
     "output_type": "stream",
     "text": [
      "[1] 399\n",
      "[1] 197\n",
      "[1] 180\n"
     ]
    }
   ],
   "source": [
    "# Astro D52 NONE\n",
    "for (file in files){\n",
    "    res_n = read.csv(file,sep=\"\\t\")\n",
    "    print(length(gtex_sign$feature_id[gtex_sign$feature_id %in% res_n$feature_id]))\n",
    "    merged = inner_join(res_n, gtex_sign, by = c(\"feature_id\",\"snp_id\"), suffix = c(\".neuroseq\",\".gtex_sn\"))\n",
    "    print(nrow(merged))\n",
    "    print(nrow(merged[merged$p_value.neuroseq < 0.05,]))\n",
    "    print(nrow(merged[merged$p_value.neuroseq < 0.05 & merged$beta.neuroseq*merged$beta.gtex_sn >0,]))\n",
    "}"
   ]
  },
  {
   "cell_type": "code",
   "execution_count": 63,
   "metadata": {},
   "outputs": [
    {
     "name": "stdout",
     "output_type": "stream",
     "text": [
      "[1] 701\n"
     ]
    },
    {
     "name": "stderr",
     "output_type": "stream",
     "text": [
      "Warning message:\n",
      "“Column `feature_id` joining factor and character vector, coercing into character vector”Warning message:\n",
      "“Column `snp_id` joining factor and character vector, coercing into character vector”"
     ]
    },
    {
     "name": "stdout",
     "output_type": "stream",
     "text": [
      "[1] 418\n",
      "[1] 235\n",
      "[1] 211\n"
     ]
    }
   ],
   "source": [
    "# Epen1 D52 NONE\n",
    "for (file in files){\n",
    "    res_n = read.csv(file,sep=\"\\t\")\n",
    "    print(length(gtex_sign$feature_id[gtex_sign$feature_id %in% res_n$feature_id]))\n",
    "    merged = inner_join(res_n, gtex_sign, by = c(\"feature_id\",\"snp_id\"), suffix = c(\".neuroseq\",\".gtex_sn\"))\n",
    "    print(nrow(merged))\n",
    "    print(nrow(merged[merged$p_value.neuroseq < 0.05,]))\n",
    "    print(nrow(merged[merged$p_value.neuroseq < 0.05 & merged$beta.neuroseq*merged$beta.gtex_sn >0,]))\n",
    "}"
   ]
  },
  {
   "cell_type": "code",
   "execution_count": 61,
   "metadata": {},
   "outputs": [
    {
     "name": "stdout",
     "output_type": "stream",
     "text": [
      "[1] 700\n"
     ]
    },
    {
     "name": "stderr",
     "output_type": "stream",
     "text": [
      "Warning message:\n",
      "“Column `feature_id` joining factor and character vector, coercing into character vector”Warning message:\n",
      "“Column `snp_id` joining factor and character vector, coercing into character vector”"
     ]
    },
    {
     "name": "stdout",
     "output_type": "stream",
     "text": [
      "[1] 420\n",
      "[1] 262\n",
      "[1] 233\n"
     ]
    }
   ],
   "source": [
    "# Sert D52 NONE\n",
    "for (file in files){\n",
    "    res_n = read.csv(file,sep=\"\\t\")\n",
    "    print(length(gtex_sign$feature_id[gtex_sign$feature_id %in% res_n$feature_id]))\n",
    "    merged = inner_join(res_n, gtex_sign, by = c(\"feature_id\",\"snp_id\"), suffix = c(\".neuroseq\",\".gtex_sn\"))\n",
    "    print(nrow(merged))\n",
    "    print(nrow(merged[merged$p_value.neuroseq < 0.05,]))\n",
    "    print(nrow(merged[merged$p_value.neuroseq < 0.05 & merged$beta.neuroseq*merged$beta.gtex_sn >0,]))\n",
    "}"
   ]
  },
  {
   "cell_type": "code",
   "execution_count": 59,
   "metadata": {},
   "outputs": [
    {
     "name": "stdout",
     "output_type": "stream",
     "text": [
      "[1] 674\n"
     ]
    },
    {
     "name": "stderr",
     "output_type": "stream",
     "text": [
      "Warning message:\n",
      "“Column `feature_id` joining factor and character vector, coercing into character vector”Warning message:\n",
      "“Column `snp_id` joining factor and character vector, coercing into character vector”"
     ]
    },
    {
     "name": "stdout",
     "output_type": "stream",
     "text": [
      "[1] 400\n",
      "[1] 243\n",
      "[1] 217\n"
     ]
    }
   ],
   "source": [
    "# DA D52 NONE\n",
    "for (file in files){\n",
    "    res_n = read.csv(file,sep=\"\\t\")\n",
    "    print(length(gtex_sign$feature_id[gtex_sign$feature_id %in% res_n$feature_id]))\n",
    "    merged = inner_join(res_n, gtex_sign, by = c(\"feature_id\",\"snp_id\"), suffix = c(\".neuroseq\",\".gtex_sn\"))\n",
    "    print(nrow(merged))\n",
    "    print(nrow(merged[merged$p_value.neuroseq < 0.05,]))\n",
    "    print(nrow(merged[merged$p_value.neuroseq < 0.05 & merged$beta.neuroseq*merged$beta.gtex_sn >0,]))\n",
    "}"
   ]
  },
  {
   "cell_type": "code",
   "execution_count": null,
   "metadata": {},
   "outputs": [],
   "source": []
  },
  {
   "cell_type": "code",
   "execution_count": null,
   "metadata": {},
   "outputs": [],
   "source": []
  },
  {
   "cell_type": "code",
   "execution_count": 55,
   "metadata": {},
   "outputs": [
    {
     "name": "stderr",
     "output_type": "stream",
     "text": [
      "Warning message:\n",
      "“Column `feature_id` joining factor and character vector, coercing into character vector”Warning message:\n",
      "“Column `snp_id` joining factor and character vector, coercing into character vector”"
     ]
    },
    {
     "data": {
      "text/html": [
       "141"
      ],
      "text/latex": [
       "141"
      ],
      "text/markdown": [
       "141"
      ],
      "text/plain": [
       "[1] 141"
      ]
     },
     "metadata": {},
     "output_type": "display_data"
    },
    {
     "data": {
      "text/html": [
       "<table>\n",
       "<thead><tr><th scope=col>feature_id</th><th scope=col>snp_id</th><th scope=col>global_corr_p_value.neuroseq</th><th scope=col>p_value.neuroseq</th><th scope=col>beta.neuroseq</th><th scope=col>beta_se.neuroseq</th><th scope=col>label</th><th scope=col>gene_name</th><th scope=col>global_corr_p_value.gtex_sn</th><th scope=col>p_value.gtex_sn</th><th scope=col>beta.gtex_sn</th><th scope=col>beta_se.gtex_sn</th></tr></thead>\n",
       "<tbody>\n",
       "\t<tr><td>ENSG00000006282</td><td>17_48624523_A_C</td><td>3.216747e-17   </td><td>3.183277e-32   </td><td>-0.8647102     </td><td>0.07317422     </td><td>FPP_D11        </td><td>SPATA20        </td><td>1.12050e-12    </td><td>4.76262e-19    </td><td>-0.797709      </td><td>0.0606629      </td></tr>\n",
       "\t<tr><td>ENSG00000120675</td><td>13_43597706_C_T</td><td>4.040830e-28   </td><td>7.803981e-55   </td><td>-1.1741609     </td><td>0.07528817     </td><td>FPP_D11        </td><td>DNAJC15        </td><td>1.13067e-08    </td><td>1.68933e-14    </td><td>-0.729192      </td><td>0.0717387      </td></tr>\n",
       "\t<tr><td>ENSG00000099785</td><td>19_8500051_C_T </td><td>1.232377e-04   </td><td>1.259943e-11   </td><td> 0.2836716     </td><td>0.04188168     </td><td>FPP_D11        </td><td>MARCH2         </td><td>2.95081e-03    </td><td>6.06870e-08    </td><td> 0.609574      </td><td>0.0981216      </td></tr>\n",
       "\t<tr><td>ENSG00000180953</td><td>15_80206958_C_G</td><td>2.555040e-02   </td><td>4.976455e-07   </td><td>-0.2949835     </td><td>0.05867728     </td><td>FPP_D11        </td><td>ST20           </td><td>4.77421e-05    </td><td>4.10902e-10    </td><td>-0.885951      </td><td>0.1180060      </td></tr>\n",
       "\t<tr><td>ENSG00000239713</td><td>22_39472177_C_A</td><td>5.717250e-04   </td><td>1.948727e-11   </td><td>-0.4514741     </td><td>0.06728564     </td><td>FPP_D11        </td><td>APOBEC3G       </td><td>1.18868e-02    </td><td>5.71146e-07    </td><td>-0.451870      </td><td>0.0804019      </td></tr>\n",
       "\t<tr><td>ENSG00000108379</td><td>17_44908263_C_T</td><td>4.040578e-03   </td><td>4.554947e-08   </td><td>-0.4891955     </td><td>0.08946740     </td><td>FPP_D11        </td><td>WNT3           </td><td>2.16448e-09    </td><td>5.60082e-15    </td><td>-0.757966      </td><td>0.0724270      </td></tr>\n",
       "</tbody>\n",
       "</table>\n"
      ],
      "text/latex": [
       "\\begin{tabular}{r|llllllllllll}\n",
       " feature\\_id & snp\\_id & global\\_corr\\_p\\_value.neuroseq & p\\_value.neuroseq & beta.neuroseq & beta\\_se.neuroseq & label & gene\\_name & global\\_corr\\_p\\_value.gtex\\_sn & p\\_value.gtex\\_sn & beta.gtex\\_sn & beta\\_se.gtex\\_sn\\\\\n",
       "\\hline\n",
       "\t ENSG00000006282       & 17\\_48624523\\_A\\_C & 3.216747e-17          & 3.183277e-32          & -0.8647102            & 0.07317422            & FPP\\_D11             & SPATA20               & 1.12050e-12           & 4.76262e-19           & -0.797709             & 0.0606629            \\\\\n",
       "\t ENSG00000120675       & 13\\_43597706\\_C\\_T & 4.040830e-28          & 7.803981e-55          & -1.1741609            & 0.07528817            & FPP\\_D11             & DNAJC15               & 1.13067e-08           & 1.68933e-14           & -0.729192             & 0.0717387            \\\\\n",
       "\t ENSG00000099785       & 19\\_8500051\\_C\\_T  & 1.232377e-04          & 1.259943e-11          &  0.2836716            & 0.04188168            & FPP\\_D11             & MARCH2                & 2.95081e-03           & 6.06870e-08           &  0.609574             & 0.0981216            \\\\\n",
       "\t ENSG00000180953       & 15\\_80206958\\_C\\_G & 2.555040e-02          & 4.976455e-07          & -0.2949835            & 0.05867728            & FPP\\_D11             & ST20                  & 4.77421e-05           & 4.10902e-10           & -0.885951             & 0.1180060            \\\\\n",
       "\t ENSG00000239713       & 22\\_39472177\\_C\\_A & 5.717250e-04          & 1.948727e-11          & -0.4514741            & 0.06728564            & FPP\\_D11             & APOBEC3G              & 1.18868e-02           & 5.71146e-07           & -0.451870             & 0.0804019            \\\\\n",
       "\t ENSG00000108379       & 17\\_44908263\\_C\\_T & 4.040578e-03          & 4.554947e-08          & -0.4891955            & 0.08946740            & FPP\\_D11             & WNT3                  & 2.16448e-09           & 5.60082e-15           & -0.757966             & 0.0724270            \\\\\n",
       "\\end{tabular}\n"
      ],
      "text/markdown": [
       "\n",
       "| feature_id | snp_id | global_corr_p_value.neuroseq | p_value.neuroseq | beta.neuroseq | beta_se.neuroseq | label | gene_name | global_corr_p_value.gtex_sn | p_value.gtex_sn | beta.gtex_sn | beta_se.gtex_sn |\n",
       "|---|---|---|---|---|---|---|---|---|---|---|---|\n",
       "| ENSG00000006282 | 17_48624523_A_C | 3.216747e-17    | 3.183277e-32    | -0.8647102      | 0.07317422      | FPP_D11         | SPATA20         | 1.12050e-12     | 4.76262e-19     | -0.797709       | 0.0606629       |\n",
       "| ENSG00000120675 | 13_43597706_C_T | 4.040830e-28    | 7.803981e-55    | -1.1741609      | 0.07528817      | FPP_D11         | DNAJC15         | 1.13067e-08     | 1.68933e-14     | -0.729192       | 0.0717387       |\n",
       "| ENSG00000099785 | 19_8500051_C_T  | 1.232377e-04    | 1.259943e-11    |  0.2836716      | 0.04188168      | FPP_D11         | MARCH2          | 2.95081e-03     | 6.06870e-08     |  0.609574       | 0.0981216       |\n",
       "| ENSG00000180953 | 15_80206958_C_G | 2.555040e-02    | 4.976455e-07    | -0.2949835      | 0.05867728      | FPP_D11         | ST20            | 4.77421e-05     | 4.10902e-10     | -0.885951       | 0.1180060       |\n",
       "| ENSG00000239713 | 22_39472177_C_A | 5.717250e-04    | 1.948727e-11    | -0.4514741      | 0.06728564      | FPP_D11         | APOBEC3G        | 1.18868e-02     | 5.71146e-07     | -0.451870       | 0.0804019       |\n",
       "| ENSG00000108379 | 17_44908263_C_T | 4.040578e-03    | 4.554947e-08    | -0.4891955      | 0.08946740      | FPP_D11         | WNT3            | 2.16448e-09     | 5.60082e-15     | -0.757966       | 0.0724270       |\n",
       "\n"
      ],
      "text/plain": [
       "  feature_id      snp_id          global_corr_p_value.neuroseq p_value.neuroseq\n",
       "1 ENSG00000006282 17_48624523_A_C 3.216747e-17                 3.183277e-32    \n",
       "2 ENSG00000120675 13_43597706_C_T 4.040830e-28                 7.803981e-55    \n",
       "3 ENSG00000099785 19_8500051_C_T  1.232377e-04                 1.259943e-11    \n",
       "4 ENSG00000180953 15_80206958_C_G 2.555040e-02                 4.976455e-07    \n",
       "5 ENSG00000239713 22_39472177_C_A 5.717250e-04                 1.948727e-11    \n",
       "6 ENSG00000108379 17_44908263_C_T 4.040578e-03                 4.554947e-08    \n",
       "  beta.neuroseq beta_se.neuroseq label   gene_name global_corr_p_value.gtex_sn\n",
       "1 -0.8647102    0.07317422       FPP_D11 SPATA20   1.12050e-12                \n",
       "2 -1.1741609    0.07528817       FPP_D11 DNAJC15   1.13067e-08                \n",
       "3  0.2836716    0.04188168       FPP_D11 MARCH2    2.95081e-03                \n",
       "4 -0.2949835    0.05867728       FPP_D11 ST20      4.77421e-05                \n",
       "5 -0.4514741    0.06728564       FPP_D11 APOBEC3G  1.18868e-02                \n",
       "6 -0.4891955    0.08946740       FPP_D11 WNT3      2.16448e-09                \n",
       "  p_value.gtex_sn beta.gtex_sn beta_se.gtex_sn\n",
       "1 4.76262e-19     -0.797709    0.0606629      \n",
       "2 1.68933e-14     -0.729192    0.0717387      \n",
       "3 6.06870e-08      0.609574    0.0981216      \n",
       "4 4.10902e-10     -0.885951    0.1180060      \n",
       "5 5.71146e-07     -0.451870    0.0804019      \n",
       "6 5.60082e-15     -0.757966    0.0724270      "
      ]
     },
     "metadata": {},
     "output_type": "display_data"
    }
   ],
   "source": [
    "merged = inner_join(eqtl_n[,cols_n], gtex_sign, by = c(\"feature_id\",\"snp_id\"), suffix = c(\".neuroseq\",\".gtex_sn\"))\n",
    "nrow(merged)\n",
    "head(merged)"
   ]
  },
  {
   "cell_type": "code",
   "execution_count": null,
   "metadata": {},
   "outputs": [],
   "source": []
  },
  {
   "cell_type": "code",
   "execution_count": null,
   "metadata": {},
   "outputs": [],
   "source": []
  }
 ],
 "metadata": {
  "kernelspec": {
   "display_name": "R",
   "language": "R",
   "name": "ir"
  },
  "language_info": {
   "codemirror_mode": "r",
   "file_extension": ".r",
   "mimetype": "text/x-r-source",
   "name": "R",
   "pygments_lexer": "r",
   "version": "3.6.1"
  }
 },
 "nbformat": 4,
 "nbformat_minor": 4
}
