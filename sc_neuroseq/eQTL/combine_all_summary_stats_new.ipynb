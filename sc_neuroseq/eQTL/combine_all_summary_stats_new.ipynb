{
 "cells": [
  {
   "cell_type": "code",
   "execution_count": 2,
   "metadata": {},
   "outputs": [],
   "source": [
    "folder_D52_NONE = \"/nfs/leia/research/stegle/dseaton/hipsci/singlecell_neuroseq/data/data_processed/pool1_17_D52/qtl_analysis/eqtl_discovery_separated_by_treatment/input_files_untreated/\"\n",
    "folder_D52_ROT = \"/nfs/leia/research/stegle/dseaton/hipsci/singlecell_neuroseq/data/data_processed/pool1_17_D52/qtl_analysis/eqtl_discovery_separated_by_treatment/input_files_ROT_treated/\""
   ]
  },
  {
   "cell_type": "code",
   "execution_count": 4,
   "metadata": {},
   "outputs": [
    {
     "data": {
      "text/html": [
       "<ol class=list-inline>\n",
       "\t<li>'/nfs/leia/research/stegle/dseaton/hipsci/singlecell_neuroseq/data/data_processed/pool1_17_D52/qtl_analysis/eqtl_discovery_separated_by_treatment/input_files_untreated/celltype_DA/summary_stats/pool1_17_D52.DA.qtl_results_all.txt'</li>\n",
       "\t<li>'/nfs/leia/research/stegle/dseaton/hipsci/singlecell_neuroseq/data/data_processed/pool1_17_D52/qtl_analysis/eqtl_discovery_separated_by_treatment/input_files_untreated/celltype_Sert/summary_stats/pool1_17_D52.Sert.qtl_results_all.txt'</li>\n",
       "\t<li>'/nfs/leia/research/stegle/dseaton/hipsci/singlecell_neuroseq/data/data_processed/pool1_17_D52/qtl_analysis/eqtl_discovery_separated_by_treatment/input_files_untreated/celltype_Epen1/summary_stats/pool1_17_D52.Epen1.qtl_results_all.txt'</li>\n",
       "\t<li>'/nfs/leia/research/stegle/dseaton/hipsci/singlecell_neuroseq/data/data_processed/pool1_17_D52/qtl_analysis/eqtl_discovery_separated_by_treatment/input_files_untreated/celltype_Astro/summary_stats/pool1_17_D52.Astro.qtl_results_all.txt'</li>\n",
       "\t<li>'/nfs/leia/research/stegle/dseaton/hipsci/singlecell_neuroseq/data/data_processed/pool1_17_D52/qtl_analysis/eqtl_discovery_separated_by_treatment/input_files_ROT_treated/celltype_DA/summary_stats/pool1_17_D52.DA.qtl_results_all.txt'</li>\n",
       "\t<li>'/nfs/leia/research/stegle/dseaton/hipsci/singlecell_neuroseq/data/data_processed/pool1_17_D52/qtl_analysis/eqtl_discovery_separated_by_treatment/input_files_ROT_treated/celltype_Sert/summary_stats/pool1_17_D52.Sert.qtl_results_all.txt'</li>\n",
       "\t<li>'/nfs/leia/research/stegle/dseaton/hipsci/singlecell_neuroseq/data/data_processed/pool1_17_D52/qtl_analysis/eqtl_discovery_separated_by_treatment/input_files_ROT_treated/celltype_Epen1/summary_stats/pool1_17_D52.Epen1.qtl_results_all.txt'</li>\n",
       "\t<li>'/nfs/leia/research/stegle/dseaton/hipsci/singlecell_neuroseq/data/data_processed/pool1_17_D52/qtl_analysis/eqtl_discovery_separated_by_treatment/input_files_ROT_treated/celltype_Astro/summary_stats/pool1_17_D52.Astro.qtl_results_all.txt'</li>\n",
       "</ol>\n"
      ],
      "text/latex": [
       "\\begin{enumerate*}\n",
       "\\item '/nfs/leia/research/stegle/dseaton/hipsci/singlecell\\_neuroseq/data/data\\_processed/pool1\\_17\\_D52/qtl\\_analysis/eqtl\\_discovery\\_separated\\_by\\_treatment/input\\_files\\_untreated/celltype\\_DA/summary\\_stats/pool1\\_17\\_D52.DA.qtl\\_results\\_all.txt'\n",
       "\\item '/nfs/leia/research/stegle/dseaton/hipsci/singlecell\\_neuroseq/data/data\\_processed/pool1\\_17\\_D52/qtl\\_analysis/eqtl\\_discovery\\_separated\\_by\\_treatment/input\\_files\\_untreated/celltype\\_Sert/summary\\_stats/pool1\\_17\\_D52.Sert.qtl\\_results\\_all.txt'\n",
       "\\item '/nfs/leia/research/stegle/dseaton/hipsci/singlecell\\_neuroseq/data/data\\_processed/pool1\\_17\\_D52/qtl\\_analysis/eqtl\\_discovery\\_separated\\_by\\_treatment/input\\_files\\_untreated/celltype\\_Epen1/summary\\_stats/pool1\\_17\\_D52.Epen1.qtl\\_results\\_all.txt'\n",
       "\\item '/nfs/leia/research/stegle/dseaton/hipsci/singlecell\\_neuroseq/data/data\\_processed/pool1\\_17\\_D52/qtl\\_analysis/eqtl\\_discovery\\_separated\\_by\\_treatment/input\\_files\\_untreated/celltype\\_Astro/summary\\_stats/pool1\\_17\\_D52.Astro.qtl\\_results\\_all.txt'\n",
       "\\item '/nfs/leia/research/stegle/dseaton/hipsci/singlecell\\_neuroseq/data/data\\_processed/pool1\\_17\\_D52/qtl\\_analysis/eqtl\\_discovery\\_separated\\_by\\_treatment/input\\_files\\_ROT\\_treated/celltype\\_DA/summary\\_stats/pool1\\_17\\_D52.DA.qtl\\_results\\_all.txt'\n",
       "\\item '/nfs/leia/research/stegle/dseaton/hipsci/singlecell\\_neuroseq/data/data\\_processed/pool1\\_17\\_D52/qtl\\_analysis/eqtl\\_discovery\\_separated\\_by\\_treatment/input\\_files\\_ROT\\_treated/celltype\\_Sert/summary\\_stats/pool1\\_17\\_D52.Sert.qtl\\_results\\_all.txt'\n",
       "\\item '/nfs/leia/research/stegle/dseaton/hipsci/singlecell\\_neuroseq/data/data\\_processed/pool1\\_17\\_D52/qtl\\_analysis/eqtl\\_discovery\\_separated\\_by\\_treatment/input\\_files\\_ROT\\_treated/celltype\\_Epen1/summary\\_stats/pool1\\_17\\_D52.Epen1.qtl\\_results\\_all.txt'\n",
       "\\item '/nfs/leia/research/stegle/dseaton/hipsci/singlecell\\_neuroseq/data/data\\_processed/pool1\\_17\\_D52/qtl\\_analysis/eqtl\\_discovery\\_separated\\_by\\_treatment/input\\_files\\_ROT\\_treated/celltype\\_Astro/summary\\_stats/pool1\\_17\\_D52.Astro.qtl\\_results\\_all.txt'\n",
       "\\end{enumerate*}\n"
      ],
      "text/markdown": [
       "1. '/nfs/leia/research/stegle/dseaton/hipsci/singlecell_neuroseq/data/data_processed/pool1_17_D52/qtl_analysis/eqtl_discovery_separated_by_treatment/input_files_untreated/celltype_DA/summary_stats/pool1_17_D52.DA.qtl_results_all.txt'\n",
       "2. '/nfs/leia/research/stegle/dseaton/hipsci/singlecell_neuroseq/data/data_processed/pool1_17_D52/qtl_analysis/eqtl_discovery_separated_by_treatment/input_files_untreated/celltype_Sert/summary_stats/pool1_17_D52.Sert.qtl_results_all.txt'\n",
       "3. '/nfs/leia/research/stegle/dseaton/hipsci/singlecell_neuroseq/data/data_processed/pool1_17_D52/qtl_analysis/eqtl_discovery_separated_by_treatment/input_files_untreated/celltype_Epen1/summary_stats/pool1_17_D52.Epen1.qtl_results_all.txt'\n",
       "4. '/nfs/leia/research/stegle/dseaton/hipsci/singlecell_neuroseq/data/data_processed/pool1_17_D52/qtl_analysis/eqtl_discovery_separated_by_treatment/input_files_untreated/celltype_Astro/summary_stats/pool1_17_D52.Astro.qtl_results_all.txt'\n",
       "5. '/nfs/leia/research/stegle/dseaton/hipsci/singlecell_neuroseq/data/data_processed/pool1_17_D52/qtl_analysis/eqtl_discovery_separated_by_treatment/input_files_ROT_treated/celltype_DA/summary_stats/pool1_17_D52.DA.qtl_results_all.txt'\n",
       "6. '/nfs/leia/research/stegle/dseaton/hipsci/singlecell_neuroseq/data/data_processed/pool1_17_D52/qtl_analysis/eqtl_discovery_separated_by_treatment/input_files_ROT_treated/celltype_Sert/summary_stats/pool1_17_D52.Sert.qtl_results_all.txt'\n",
       "7. '/nfs/leia/research/stegle/dseaton/hipsci/singlecell_neuroseq/data/data_processed/pool1_17_D52/qtl_analysis/eqtl_discovery_separated_by_treatment/input_files_ROT_treated/celltype_Epen1/summary_stats/pool1_17_D52.Epen1.qtl_results_all.txt'\n",
       "8. '/nfs/leia/research/stegle/dseaton/hipsci/singlecell_neuroseq/data/data_processed/pool1_17_D52/qtl_analysis/eqtl_discovery_separated_by_treatment/input_files_ROT_treated/celltype_Astro/summary_stats/pool1_17_D52.Astro.qtl_results_all.txt'\n",
       "\n",
       "\n"
      ],
      "text/plain": [
       "[1] \"/nfs/leia/research/stegle/dseaton/hipsci/singlecell_neuroseq/data/data_processed/pool1_17_D52/qtl_analysis/eqtl_discovery_separated_by_treatment/input_files_untreated/celltype_DA/summary_stats/pool1_17_D52.DA.qtl_results_all.txt\"        \n",
       "[2] \"/nfs/leia/research/stegle/dseaton/hipsci/singlecell_neuroseq/data/data_processed/pool1_17_D52/qtl_analysis/eqtl_discovery_separated_by_treatment/input_files_untreated/celltype_Sert/summary_stats/pool1_17_D52.Sert.qtl_results_all.txt\"    \n",
       "[3] \"/nfs/leia/research/stegle/dseaton/hipsci/singlecell_neuroseq/data/data_processed/pool1_17_D52/qtl_analysis/eqtl_discovery_separated_by_treatment/input_files_untreated/celltype_Epen1/summary_stats/pool1_17_D52.Epen1.qtl_results_all.txt\"  \n",
       "[4] \"/nfs/leia/research/stegle/dseaton/hipsci/singlecell_neuroseq/data/data_processed/pool1_17_D52/qtl_analysis/eqtl_discovery_separated_by_treatment/input_files_untreated/celltype_Astro/summary_stats/pool1_17_D52.Astro.qtl_results_all.txt\"  \n",
       "[5] \"/nfs/leia/research/stegle/dseaton/hipsci/singlecell_neuroseq/data/data_processed/pool1_17_D52/qtl_analysis/eqtl_discovery_separated_by_treatment/input_files_ROT_treated/celltype_DA/summary_stats/pool1_17_D52.DA.qtl_results_all.txt\"      \n",
       "[6] \"/nfs/leia/research/stegle/dseaton/hipsci/singlecell_neuroseq/data/data_processed/pool1_17_D52/qtl_analysis/eqtl_discovery_separated_by_treatment/input_files_ROT_treated/celltype_Sert/summary_stats/pool1_17_D52.Sert.qtl_results_all.txt\"  \n",
       "[7] \"/nfs/leia/research/stegle/dseaton/hipsci/singlecell_neuroseq/data/data_processed/pool1_17_D52/qtl_analysis/eqtl_discovery_separated_by_treatment/input_files_ROT_treated/celltype_Epen1/summary_stats/pool1_17_D52.Epen1.qtl_results_all.txt\"\n",
       "[8] \"/nfs/leia/research/stegle/dseaton/hipsci/singlecell_neuroseq/data/data_processed/pool1_17_D52/qtl_analysis/eqtl_discovery_separated_by_treatment/input_files_ROT_treated/celltype_Astro/summary_stats/pool1_17_D52.Astro.qtl_results_all.txt\""
      ]
     },
     "metadata": {},
     "output_type": "display_data"
    }
   ],
   "source": [
    "celltypes = c(\"DA\",\"Sert\",\"Epen1\",\"Astro\")\n",
    "files_d52_none = paste0(folder_D52_NONE,\"celltype_\",celltypes,\"/summary_stats/pool1_17_D52.\",celltypes,\".qtl_results_all.txt\")\n",
    "files_d52_rot = paste0(folder_D52_ROT,\"celltype_\",celltypes,\"/summary_stats/pool1_17_D52.\",celltypes,\".qtl_results_all.txt\")\n",
    "files = c(files_d52_none, files_d52_rot)\n",
    "files"
   ]
  },
  {
   "cell_type": "code",
   "execution_count": 5,
   "metadata": {},
   "outputs": [],
   "source": [
    "genes = c()\n",
    "for (file in files){\n",
    "    df = read.csv(file, sep = \"\\t\")\n",
    "#     print(head(df,2))\n",
    "    df$feature_id = as.character(df$feature_id)\n",
    "    genes = unique(c(genes, df$feature_id))\n",
    "}"
   ]
  },
  {
   "cell_type": "code",
   "execution_count": 6,
   "metadata": {},
   "outputs": [
    {
     "data": {
      "text/html": [
       "13860"
      ],
      "text/latex": [
       "13860"
      ],
      "text/markdown": [
       "13860"
      ],
      "text/plain": [
       "[1] 13860"
      ]
     },
     "metadata": {},
     "output_type": "display_data"
    }
   ],
   "source": [
    "genes_d52 = genes\n",
    "length(genes_d52)"
   ]
  },
  {
   "cell_type": "code",
   "execution_count": 7,
   "metadata": {},
   "outputs": [
    {
     "data": {
      "text/html": [
       "<table>\n",
       "<thead><tr><th scope=col>genes</th></tr></thead>\n",
       "<tbody>\n",
       "\t<tr><td>ENSG00000215908</td></tr>\n",
       "\t<tr><td>ENSG00000157191</td></tr>\n",
       "</tbody>\n",
       "</table>\n"
      ],
      "text/latex": [
       "\\begin{tabular}{r|l}\n",
       " genes\\\\\n",
       "\\hline\n",
       "\t ENSG00000215908\\\\\n",
       "\t ENSG00000157191\\\\\n",
       "\\end{tabular}\n"
      ],
      "text/markdown": [
       "\n",
       "| genes |\n",
       "|---|\n",
       "| ENSG00000215908 |\n",
       "| ENSG00000157191 |\n",
       "\n"
      ],
      "text/plain": [
       "  genes          \n",
       "1 ENSG00000215908\n",
       "2 ENSG00000157191"
      ]
     },
     "metadata": {},
     "output_type": "display_data"
    }
   ],
   "source": [
    "# day52\n",
    "df = data.frame(genes = genes)\n",
    "head(df,2)\n",
    "write.csv(df, \"/hps/nobackup/stegle/users/acuomo/all_scripts/sc_neuroseq/eqtl/genes_expressed_in_at_least_one_condition_d52.csv\", quote = F, row.names = F)"
   ]
  },
  {
   "cell_type": "code",
   "execution_count": 11,
   "metadata": {},
   "outputs": [],
   "source": [
    "folder_D30 = \"/nfs/leia/research/stegle/dseaton/hipsci/singlecell_neuroseq/data/data_processed/pool1_13_noddd_D30/qtl_analysis/eqtl_discovery/\""
   ]
  },
  {
   "cell_type": "code",
   "execution_count": 12,
   "metadata": {},
   "outputs": [
    {
     "data": {
      "text/html": [
       "<ol class=list-inline>\n",
       "\t<li>'/nfs/leia/research/stegle/dseaton/hipsci/singlecell_neuroseq/data/data_processed/pool1_13_noddd_D30/qtl_analysis/eqtl_discovery/celltype_DA/summary_stats/pool1_13_noddd_D30.DA.qtl_results_all.txt'</li>\n",
       "\t<li>'/nfs/leia/research/stegle/dseaton/hipsci/singlecell_neuroseq/data/data_processed/pool1_13_noddd_D30/qtl_analysis/eqtl_discovery/celltype_Sert/summary_stats/pool1_13_noddd_D30.Sert.qtl_results_all.txt'</li>\n",
       "\t<li>'/nfs/leia/research/stegle/dseaton/hipsci/singlecell_neuroseq/data/data_processed/pool1_13_noddd_D30/qtl_analysis/eqtl_discovery/celltype_Epen1/summary_stats/pool1_13_noddd_D30.Epen1.qtl_results_all.txt'</li>\n",
       "\t<li>'/nfs/leia/research/stegle/dseaton/hipsci/singlecell_neuroseq/data/data_processed/pool1_13_noddd_D30/qtl_analysis/eqtl_discovery/celltype_Astro/summary_stats/pool1_13_noddd_D30.Astro.qtl_results_all.txt'</li>\n",
       "</ol>\n"
      ],
      "text/latex": [
       "\\begin{enumerate*}\n",
       "\\item '/nfs/leia/research/stegle/dseaton/hipsci/singlecell\\_neuroseq/data/data\\_processed/pool1\\_13\\_noddd\\_D30/qtl\\_analysis/eqtl\\_discovery/celltype\\_DA/summary\\_stats/pool1\\_13\\_noddd\\_D30.DA.qtl\\_results\\_all.txt'\n",
       "\\item '/nfs/leia/research/stegle/dseaton/hipsci/singlecell\\_neuroseq/data/data\\_processed/pool1\\_13\\_noddd\\_D30/qtl\\_analysis/eqtl\\_discovery/celltype\\_Sert/summary\\_stats/pool1\\_13\\_noddd\\_D30.Sert.qtl\\_results\\_all.txt'\n",
       "\\item '/nfs/leia/research/stegle/dseaton/hipsci/singlecell\\_neuroseq/data/data\\_processed/pool1\\_13\\_noddd\\_D30/qtl\\_analysis/eqtl\\_discovery/celltype\\_Epen1/summary\\_stats/pool1\\_13\\_noddd\\_D30.Epen1.qtl\\_results\\_all.txt'\n",
       "\\item '/nfs/leia/research/stegle/dseaton/hipsci/singlecell\\_neuroseq/data/data\\_processed/pool1\\_13\\_noddd\\_D30/qtl\\_analysis/eqtl\\_discovery/celltype\\_Astro/summary\\_stats/pool1\\_13\\_noddd\\_D30.Astro.qtl\\_results\\_all.txt'\n",
       "\\end{enumerate*}\n"
      ],
      "text/markdown": [
       "1. '/nfs/leia/research/stegle/dseaton/hipsci/singlecell_neuroseq/data/data_processed/pool1_13_noddd_D30/qtl_analysis/eqtl_discovery/celltype_DA/summary_stats/pool1_13_noddd_D30.DA.qtl_results_all.txt'\n",
       "2. '/nfs/leia/research/stegle/dseaton/hipsci/singlecell_neuroseq/data/data_processed/pool1_13_noddd_D30/qtl_analysis/eqtl_discovery/celltype_Sert/summary_stats/pool1_13_noddd_D30.Sert.qtl_results_all.txt'\n",
       "3. '/nfs/leia/research/stegle/dseaton/hipsci/singlecell_neuroseq/data/data_processed/pool1_13_noddd_D30/qtl_analysis/eqtl_discovery/celltype_Epen1/summary_stats/pool1_13_noddd_D30.Epen1.qtl_results_all.txt'\n",
       "4. '/nfs/leia/research/stegle/dseaton/hipsci/singlecell_neuroseq/data/data_processed/pool1_13_noddd_D30/qtl_analysis/eqtl_discovery/celltype_Astro/summary_stats/pool1_13_noddd_D30.Astro.qtl_results_all.txt'\n",
       "\n",
       "\n"
      ],
      "text/plain": [
       "[1] \"/nfs/leia/research/stegle/dseaton/hipsci/singlecell_neuroseq/data/data_processed/pool1_13_noddd_D30/qtl_analysis/eqtl_discovery/celltype_DA/summary_stats/pool1_13_noddd_D30.DA.qtl_results_all.txt\"      \n",
       "[2] \"/nfs/leia/research/stegle/dseaton/hipsci/singlecell_neuroseq/data/data_processed/pool1_13_noddd_D30/qtl_analysis/eqtl_discovery/celltype_Sert/summary_stats/pool1_13_noddd_D30.Sert.qtl_results_all.txt\"  \n",
       "[3] \"/nfs/leia/research/stegle/dseaton/hipsci/singlecell_neuroseq/data/data_processed/pool1_13_noddd_D30/qtl_analysis/eqtl_discovery/celltype_Epen1/summary_stats/pool1_13_noddd_D30.Epen1.qtl_results_all.txt\"\n",
       "[4] \"/nfs/leia/research/stegle/dseaton/hipsci/singlecell_neuroseq/data/data_processed/pool1_13_noddd_D30/qtl_analysis/eqtl_discovery/celltype_Astro/summary_stats/pool1_13_noddd_D30.Astro.qtl_results_all.txt\""
      ]
     },
     "metadata": {},
     "output_type": "display_data"
    }
   ],
   "source": [
    "celltypes = c(\"DA\",\"Sert\",\"Epen1\",\"Astro\")\n",
    "files_d30 = paste0(folder_D30,'celltype_',celltypes,'/summary_stats/pool1_13_noddd_D30.',celltypes,'.qtl_results_all.txt')\n",
    "files = files_d30\n",
    "files"
   ]
  },
  {
   "cell_type": "code",
   "execution_count": 13,
   "metadata": {},
   "outputs": [],
   "source": [
    "genes = c()\n",
    "for (file in files){\n",
    "    df = read.csv(file, sep = \"\\t\")\n",
    "#     print(head(df,2))\n",
    "    df$feature_id = as.character(df$feature_id)\n",
    "    genes = unique(c(genes, df$feature_id))\n",
    "}"
   ]
  },
  {
   "cell_type": "code",
   "execution_count": 14,
   "metadata": {},
   "outputs": [
    {
     "data": {
      "text/html": [
       "13564"
      ],
      "text/latex": [
       "13564"
      ],
      "text/markdown": [
       "13564"
      ],
      "text/plain": [
       "[1] 13564"
      ]
     },
     "metadata": {},
     "output_type": "display_data"
    }
   ],
   "source": [
    "genes_d30 = genes\n",
    "length(genes_d30)"
   ]
  },
  {
   "cell_type": "code",
   "execution_count": 15,
   "metadata": {},
   "outputs": [
    {
     "data": {
      "text/html": [
       "<table>\n",
       "<thead><tr><th scope=col>genes</th></tr></thead>\n",
       "<tbody>\n",
       "\t<tr><td>ENSG00000128607</td></tr>\n",
       "\t<tr><td>ENSG00000186591</td></tr>\n",
       "</tbody>\n",
       "</table>\n"
      ],
      "text/latex": [
       "\\begin{tabular}{r|l}\n",
       " genes\\\\\n",
       "\\hline\n",
       "\t ENSG00000128607\\\\\n",
       "\t ENSG00000186591\\\\\n",
       "\\end{tabular}\n"
      ],
      "text/markdown": [
       "\n",
       "| genes |\n",
       "|---|\n",
       "| ENSG00000128607 |\n",
       "| ENSG00000186591 |\n",
       "\n"
      ],
      "text/plain": [
       "  genes          \n",
       "1 ENSG00000128607\n",
       "2 ENSG00000186591"
      ]
     },
     "metadata": {},
     "output_type": "display_data"
    }
   ],
   "source": [
    "# day30\n",
    "df = data.frame(genes = genes)\n",
    "head(df,2)\n",
    "write.csv(df, \"/hps/nobackup/stegle/users/acuomo/all_scripts/sc_neuroseq/eqtl/genes_expressed_at_d30.csv\")"
   ]
  },
  {
   "cell_type": "code",
   "execution_count": 16,
   "metadata": {},
   "outputs": [],
   "source": [
    "folder_D11 = \"/nfs/leia/research/stegle/dseaton/hipsci/singlecell_neuroseq/data/data_processed/pool1_13_noddd_D11/qtl_analysis/eqtl_discovery/\""
   ]
  },
  {
   "cell_type": "code",
   "execution_count": 17,
   "metadata": {},
   "outputs": [
    {
     "data": {
      "text/html": [
       "<ol class=list-inline>\n",
       "\t<li>'/nfs/leia/research/stegle/dseaton/hipsci/singlecell_neuroseq/data/data_processed/pool1_13_noddd_D11/qtl_analysis/eqtl_discovery/celltype_FPP/summary_stats/pool1_13_noddd_D11.FPP.qtl_results_all.txt'</li>\n",
       "\t<li>'/nfs/leia/research/stegle/dseaton/hipsci/singlecell_neuroseq/data/data_processed/pool1_13_noddd_D11/qtl_analysis/eqtl_discovery/celltype_P_FPP/summary_stats/pool1_13_noddd_D11.P_FPP.qtl_results_all.txt'</li>\n",
       "</ol>\n"
      ],
      "text/latex": [
       "\\begin{enumerate*}\n",
       "\\item '/nfs/leia/research/stegle/dseaton/hipsci/singlecell\\_neuroseq/data/data\\_processed/pool1\\_13\\_noddd\\_D11/qtl\\_analysis/eqtl\\_discovery/celltype\\_FPP/summary\\_stats/pool1\\_13\\_noddd\\_D11.FPP.qtl\\_results\\_all.txt'\n",
       "\\item '/nfs/leia/research/stegle/dseaton/hipsci/singlecell\\_neuroseq/data/data\\_processed/pool1\\_13\\_noddd\\_D11/qtl\\_analysis/eqtl\\_discovery/celltype\\_P\\_FPP/summary\\_stats/pool1\\_13\\_noddd\\_D11.P\\_FPP.qtl\\_results\\_all.txt'\n",
       "\\end{enumerate*}\n"
      ],
      "text/markdown": [
       "1. '/nfs/leia/research/stegle/dseaton/hipsci/singlecell_neuroseq/data/data_processed/pool1_13_noddd_D11/qtl_analysis/eqtl_discovery/celltype_FPP/summary_stats/pool1_13_noddd_D11.FPP.qtl_results_all.txt'\n",
       "2. '/nfs/leia/research/stegle/dseaton/hipsci/singlecell_neuroseq/data/data_processed/pool1_13_noddd_D11/qtl_analysis/eqtl_discovery/celltype_P_FPP/summary_stats/pool1_13_noddd_D11.P_FPP.qtl_results_all.txt'\n",
       "\n",
       "\n"
      ],
      "text/plain": [
       "[1] \"/nfs/leia/research/stegle/dseaton/hipsci/singlecell_neuroseq/data/data_processed/pool1_13_noddd_D11/qtl_analysis/eqtl_discovery/celltype_FPP/summary_stats/pool1_13_noddd_D11.FPP.qtl_results_all.txt\"    \n",
       "[2] \"/nfs/leia/research/stegle/dseaton/hipsci/singlecell_neuroseq/data/data_processed/pool1_13_noddd_D11/qtl_analysis/eqtl_discovery/celltype_P_FPP/summary_stats/pool1_13_noddd_D11.P_FPP.qtl_results_all.txt\""
      ]
     },
     "metadata": {},
     "output_type": "display_data"
    }
   ],
   "source": [
    "celltypes = c(\"FPP\",\"P_FPP\")\n",
    "files_d11 = paste0(folder_D11,'celltype_',celltypes,'/summary_stats/pool1_13_noddd_D11.',celltypes,'.qtl_results_all.txt')\n",
    "files = files_d11\n",
    "files"
   ]
  },
  {
   "cell_type": "code",
   "execution_count": 18,
   "metadata": {},
   "outputs": [],
   "source": [
    "genes = c()\n",
    "for (file in files){\n",
    "    df = read.csv(file, sep = \"\\t\")\n",
    "#     print(head(df,2))\n",
    "    df$feature_id = as.character(df$feature_id)\n",
    "    genes = unique(c(genes, df$feature_id))\n",
    "}"
   ]
  },
  {
   "cell_type": "code",
   "execution_count": 19,
   "metadata": {},
   "outputs": [
    {
     "data": {
      "text/html": [
       "11765"
      ],
      "text/latex": [
       "11765"
      ],
      "text/markdown": [
       "11765"
      ],
      "text/plain": [
       "[1] 11765"
      ]
     },
     "metadata": {},
     "output_type": "display_data"
    }
   ],
   "source": [
    "length(genes)"
   ]
  },
  {
   "cell_type": "code",
   "execution_count": 20,
   "metadata": {},
   "outputs": [
    {
     "data": {
      "text/html": [
       "11765"
      ],
      "text/latex": [
       "11765"
      ],
      "text/markdown": [
       "11765"
      ],
      "text/plain": [
       "[1] 11765"
      ]
     },
     "metadata": {},
     "output_type": "display_data"
    }
   ],
   "source": [
    "genes_d11 = genes\n",
    "length(genes_d11)"
   ]
  },
  {
   "cell_type": "code",
   "execution_count": 21,
   "metadata": {},
   "outputs": [
    {
     "data": {
      "text/html": [
       "<table>\n",
       "<thead><tr><th scope=col>genes</th></tr></thead>\n",
       "<tbody>\n",
       "\t<tr><td>ENSG00000146574</td></tr>\n",
       "\t<tr><td>ENSG00000086232</td></tr>\n",
       "</tbody>\n",
       "</table>\n"
      ],
      "text/latex": [
       "\\begin{tabular}{r|l}\n",
       " genes\\\\\n",
       "\\hline\n",
       "\t ENSG00000146574\\\\\n",
       "\t ENSG00000086232\\\\\n",
       "\\end{tabular}\n"
      ],
      "text/markdown": [
       "\n",
       "| genes |\n",
       "|---|\n",
       "| ENSG00000146574 |\n",
       "| ENSG00000086232 |\n",
       "\n"
      ],
      "text/plain": [
       "  genes          \n",
       "1 ENSG00000146574\n",
       "2 ENSG00000086232"
      ]
     },
     "metadata": {},
     "output_type": "display_data"
    }
   ],
   "source": [
    "# day11\n",
    "df = data.frame(genes = genes)\n",
    "head(df,2)\n",
    "write.csv(df, \"/hps/nobackup/stegle/users/acuomo/all_scripts/sc_neuroseq/eqtl/genes_expressed_at_d11.csv\")"
   ]
  },
  {
   "cell_type": "code",
   "execution_count": 22,
   "metadata": {},
   "outputs": [
    {
     "data": {
      "text/html": [
       "14337"
      ],
      "text/latex": [
       "14337"
      ],
      "text/markdown": [
       "14337"
      ],
      "text/plain": [
       "[1] 14337"
      ]
     },
     "metadata": {},
     "output_type": "display_data"
    }
   ],
   "source": [
    "all_genes = unique(c(genes_d11, genes_d30, genes_d52))\n",
    "length(all_genes)"
   ]
  },
  {
   "cell_type": "code",
   "execution_count": null,
   "metadata": {},
   "outputs": [],
   "source": []
  },
  {
   "cell_type": "code",
   "execution_count": null,
   "metadata": {},
   "outputs": [],
   "source": []
  },
  {
   "cell_type": "code",
   "execution_count": null,
   "metadata": {},
   "outputs": [],
   "source": []
  },
  {
   "cell_type": "code",
   "execution_count": null,
   "metadata": {},
   "outputs": [],
   "source": []
  }
 ],
 "metadata": {
  "kernelspec": {
   "display_name": "R",
   "language": "R",
   "name": "ir"
  },
  "language_info": {
   "codemirror_mode": "r",
   "file_extension": ".r",
   "mimetype": "text/x-r-source",
   "name": "R",
   "pygments_lexer": "r",
   "version": "3.6.1"
  }
 },
 "nbformat": 4,
 "nbformat_minor": 2
}
