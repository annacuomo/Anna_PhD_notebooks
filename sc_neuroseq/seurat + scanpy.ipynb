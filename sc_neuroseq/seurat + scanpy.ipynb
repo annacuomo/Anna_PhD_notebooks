{
 "cells": [
  {
   "cell_type": "code",
   "execution_count": 68,
   "metadata": {},
   "outputs": [],
   "source": [
    "library(Seurat)"
   ]
  },
  {
   "cell_type": "code",
   "execution_count": 69,
   "metadata": {},
   "outputs": [],
   "source": [
    "mydir = \"/hps/nobackup/stegle/users/acuomo/all_scripts/sc_neuroseq/scanpy/\""
   ]
  },
  {
   "cell_type": "code",
   "execution_count": null,
   "metadata": {},
   "outputs": [],
   "source": [
    "counts = read.table(paste0(mydir,\"5pct_subsample_raw.txt\"),sep=\"\\t\")\n",
    "counts$x = gsub(\" \",\"\",gsub(\"\\\\(\",\"\",gsub(\",.*\",\"\",counts$V1)))\n",
    "counts$y = gsub(\" \",\"\",gsub(\"\\\\)\",\"\",gsub(\"*.*,\",\"\",counts$V1)))\n",
    "counts$count = counts$V2\n",
    "counts$V1 <- c()\n",
    "counts$V2 <- c()\n",
    "tail(counts)"
   ]
  },
  {
   "cell_type": "code",
   "execution_count": null,
   "metadata": {},
   "outputs": [],
   "source": [
    "unique(as.numeric(counts$x))"
   ]
  },
  {
   "cell_type": "code",
   "execution_count": null,
   "metadata": {},
   "outputs": [],
   "source": []
  },
  {
   "cell_type": "code",
   "execution_count": 46,
   "metadata": {},
   "outputs": [],
   "source": [
    "write.table(counts,paste0(mydir,\"5pct_subsample_raw_v1.txt\"))"
   ]
  },
  {
   "cell_type": "code",
   "execution_count": 48,
   "metadata": {},
   "outputs": [
    {
     "name": "stderr",
     "output_type": "stream",
     "text": [
      "Warning message in read.table(file = file, header = header, sep = sep, quote = quote, :\n",
      "“cols = 1 != length(data) = 3”"
     ]
    },
    {
     "data": {
      "text/html": [
       "<table>\n",
       "<thead><tr><th></th><th scope=col></th></tr></thead>\n",
       "<tbody>\n",
       "\t<tr><th scope=row>1   0  40 2.0</th><td>0</td></tr>\n",
       "\t<tr><th scope=row>10   0  102 1.0</th><td>0</td></tr>\n",
       "\t<tr><th scope=row>100   0  723 2.0</th><td>0</td></tr>\n",
       "\t<tr><th scope=row>1000   0  7454 1.0</th><td>0</td></tr>\n",
       "\t<tr><th scope=row>10000   3  22358 5.0</th><td>0</td></tr>\n",
       "\t<tr><th scope=row>10001   3  22370 1.0</th><td>0</td></tr>\n",
       "</tbody>\n",
       "</table>\n"
      ],
      "text/latex": [
       "\\begin{tabular}{r|l}\n",
       "  & \\\\\n",
       "\\hline\n",
       "\t1   0  40 2.0 & 0\\\\\n",
       "\t10   0  102 1.0 & 0\\\\\n",
       "\t100   0  723 2.0 & 0\\\\\n",
       "\t1000   0  7454 1.0 & 0\\\\\n",
       "\t10000   3  22358 5.0 & 0\\\\\n",
       "\t10001   3  22370 1.0 & 0\\\\\n",
       "\\end{tabular}\n"
      ],
      "text/markdown": [
       "\n",
       "| <!--/--> |  |\n",
       "|---|---|\n",
       "| 1   0  40 2.0 | 0 |\n",
       "| 10   0  102 1.0 | 0 |\n",
       "| 100   0  723 2.0 | 0 |\n",
       "| 1000   0  7454 1.0 | 0 |\n",
       "| 10000   3  22358 5.0 | 0 |\n",
       "| 10001   3  22370 1.0 | 0 |\n",
       "\n"
      ],
      "text/plain": [
       "                      \n",
       "1   0  40 2.0        0\n",
       "10   0  102 1.0      0\n",
       "100   0  723 2.0     0\n",
       "1000   0  7454 1.0   0\n",
       "10000   3  22358 5.0 0\n",
       "10001   3  22370 1.0 0"
      ]
     },
     "metadata": {},
     "output_type": "display_data"
    }
   ],
   "source": [
    "counts = read.matrix(paste0(mydir,\"5pct_subsample_raw_v1.txt\"))\n",
    "head(counts)"
   ]
  },
  {
   "cell_type": "code",
   "execution_count": 12,
   "metadata": {},
   "outputs": [
    {
     "name": "stderr",
     "output_type": "stream",
     "text": [
      "Warning message in storage.mode(from) <- \"double\":\n",
      "“NAs introduced by coercion”"
     ]
    }
   ],
   "source": [
    "sc1 = CreateSeuratObject(counts, spa)"
   ]
  },
  {
   "cell_type": "code",
   "execution_count": 13,
   "metadata": {},
   "outputs": [
    {
     "data": {
      "text/plain": [
       "An object of class Seurat \n",
       "51354 features across 1 samples within 1 assay \n",
       "Active assay: RNA (51354 features)"
      ]
     },
     "metadata": {},
     "output_type": "display_data"
    }
   ],
   "source": [
    "sc1"
   ]
  },
  {
   "cell_type": "code",
   "execution_count": 16,
   "metadata": {},
   "outputs": [
    {
     "data": {
      "text/html": [
       "<table>\n",
       "<thead><tr><th scope=col>index</th><th scope=col>batch</th><th scope=col>donor_id</th><th scope=col>log1p_n_genes_by_counts</th><th scope=col>log1p_total_counts</th><th scope=col>log1p_total_counts_mito</th><th scope=col>n_genes_by_counts</th><th scope=col>pct_counts_in_top_100_genes</th><th scope=col>pct_counts_in_top_200_genes</th><th scope=col>pct_counts_in_top_500_genes</th><th scope=col>pct_counts_in_top_50_genes</th><th scope=col>pct_counts_mito</th><th scope=col>sample_id</th><th scope=col>total_counts</th><th scope=col>total_counts_mito</th></tr></thead>\n",
       "<tbody>\n",
       "\t<tr><td>ATCGAGTTCAAACGGG-1-60</td><td>60                   </td><td>HPSI0514i-fiaj_1     </td><td>8.347827             </td><td>9.487972             </td><td>5.998937             </td><td>4220                 </td><td>29.72195             </td><td>38.36654             </td><td>53.48890             </td><td>22.88052             </td><td>3.045685             </td><td>5245STDY7631342      </td><td>13199                </td><td>402                  </td></tr>\n",
       "\t<tr><td>ACCAGTAAGACCTAGG-1-81</td><td>81                   </td><td>HPSI0115i-aoxv_1     </td><td>8.043984             </td><td>9.088625             </td><td>5.181784             </td><td>3114                 </td><td>34.74528             </td><td>45.88275             </td><td>60.74777             </td><td>24.08223             </td><td>1.999322             </td><td>5245STDY7654676      </td><td> 8853                </td><td>177                  </td></tr>\n",
       "</tbody>\n",
       "</table>\n"
      ],
      "text/latex": [
       "\\begin{tabular}{r|lllllllllllllll}\n",
       " index & batch & donor\\_id & log1p\\_n\\_genes\\_by\\_counts & log1p\\_total\\_counts & log1p\\_total\\_counts\\_mito & n\\_genes\\_by\\_counts & pct\\_counts\\_in\\_top\\_100\\_genes & pct\\_counts\\_in\\_top\\_200\\_genes & pct\\_counts\\_in\\_top\\_500\\_genes & pct\\_counts\\_in\\_top\\_50\\_genes & pct\\_counts\\_mito & sample\\_id & total\\_counts & total\\_counts\\_mito\\\\\n",
       "\\hline\n",
       "\t ATCGAGTTCAAACGGG-1-60 & 60                    & HPSI0514i-fiaj\\_1    & 8.347827              & 9.487972              & 5.998937              & 4220                  & 29.72195              & 38.36654              & 53.48890              & 22.88052              & 3.045685              & 5245STDY7631342       & 13199                 & 402                  \\\\\n",
       "\t ACCAGTAAGACCTAGG-1-81 & 81                    & HPSI0115i-aoxv\\_1    & 8.043984              & 9.088625              & 5.181784              & 3114                  & 34.74528              & 45.88275              & 60.74777              & 24.08223              & 1.999322              & 5245STDY7654676       &  8853                 & 177                  \\\\\n",
       "\\end{tabular}\n"
      ],
      "text/markdown": [
       "\n",
       "| index | batch | donor_id | log1p_n_genes_by_counts | log1p_total_counts | log1p_total_counts_mito | n_genes_by_counts | pct_counts_in_top_100_genes | pct_counts_in_top_200_genes | pct_counts_in_top_500_genes | pct_counts_in_top_50_genes | pct_counts_mito | sample_id | total_counts | total_counts_mito |\n",
       "|---|---|---|---|---|---|---|---|---|---|---|---|---|---|---|\n",
       "| ATCGAGTTCAAACGGG-1-60 | 60                    | HPSI0514i-fiaj_1      | 8.347827              | 9.487972              | 5.998937              | 4220                  | 29.72195              | 38.36654              | 53.48890              | 22.88052              | 3.045685              | 5245STDY7631342       | 13199                 | 402                   |\n",
       "| ACCAGTAAGACCTAGG-1-81 | 81                    | HPSI0115i-aoxv_1      | 8.043984              | 9.088625              | 5.181784              | 3114                  | 34.74528              | 45.88275              | 60.74777              | 24.08223              | 1.999322              | 5245STDY7654676       |  8853                 | 177                   |\n",
       "\n"
      ],
      "text/plain": [
       "  index                 batch donor_id         log1p_n_genes_by_counts\n",
       "1 ATCGAGTTCAAACGGG-1-60 60    HPSI0514i-fiaj_1 8.347827               \n",
       "2 ACCAGTAAGACCTAGG-1-81 81    HPSI0115i-aoxv_1 8.043984               \n",
       "  log1p_total_counts log1p_total_counts_mito n_genes_by_counts\n",
       "1 9.487972           5.998937                4220             \n",
       "2 9.088625           5.181784                3114             \n",
       "  pct_counts_in_top_100_genes pct_counts_in_top_200_genes\n",
       "1 29.72195                    38.36654                   \n",
       "2 34.74528                    45.88275                   \n",
       "  pct_counts_in_top_500_genes pct_counts_in_top_50_genes pct_counts_mito\n",
       "1 53.48890                    22.88052                   3.045685       \n",
       "2 60.74777                    24.08223                   1.999322       \n",
       "  sample_id       total_counts total_counts_mito\n",
       "1 5245STDY7631342 13199        402              \n",
       "2 5245STDY7654676  8853        177              "
      ]
     },
     "metadata": {},
     "output_type": "display_data"
    }
   ],
   "source": [
    "metadata_file1 = read.csv(paste0(mydir,\"5pct_subsample_raw_metadata.txt\"),sep=\"\\t\")\n",
    "head(metadata_file1,2)"
   ]
  },
  {
   "cell_type": "code",
   "execution_count": 22,
   "metadata": {},
   "outputs": [
    {
     "data": {
      "text/html": [
       "51354"
      ],
      "text/latex": [
       "51354"
      ],
      "text/markdown": [
       "51354"
      ],
      "text/plain": [
       "[1] 51354"
      ]
     },
     "metadata": {},
     "output_type": "display_data"
    }
   ],
   "source": [
    "nrow(metadata_file1)"
   ]
  },
  {
   "cell_type": "code",
   "execution_count": 17,
   "metadata": {},
   "outputs": [
    {
     "data": {
      "text/html": [
       "<table>\n",
       "<thead><tr><th scope=col>index</th><th scope=col>batch</th><th scope=col>donor_id</th><th scope=col>log1p_n_genes_by_counts</th><th scope=col>log1p_total_counts</th><th scope=col>log1p_total_counts_mito</th><th scope=col>n_genes_by_counts</th><th scope=col>pct_counts_in_top_100_genes</th><th scope=col>pct_counts_in_top_200_genes</th><th scope=col>pct_counts_in_top_500_genes</th><th scope=col>...</th><th scope=col>total_counts_mito</th><th scope=col>cluster_id</th><th scope=col>time_point</th><th scope=col>pool_id</th><th scope=col>treatment</th><th scope=col>n_counts_all</th><th scope=col>celltype</th><th scope=col>celltype_timepoint</th><th scope=col>celltype_timepoint_new</th><th scope=col>celltype_new</th></tr></thead>\n",
       "<tbody>\n",
       "\t<tr><td>TTCCCAGGTTCCATGA-1-0</td><td>0                   </td><td>HPSI0214i-eiwy_1    </td><td>7.893572            </td><td>9.321613            </td><td>4.077538            </td><td>2679                </td><td>53.54331            </td><td>63.84216            </td><td>74.86578            </td><td>...                 </td><td> 58                 </td><td>3                   </td><td>D11                 </td><td>pool1               </td><td>NONE                </td><td>11176               </td><td>FPP                 </td><td>FPP_D11             </td><td>FPP_D11             </td><td>FPP                 </td></tr>\n",
       "\t<tr><td>AACCGCGAGGTCATCT-1-0</td><td>0                   </td><td>HPSI0114i-eipl_1    </td><td>8.214194            </td><td>9.801510            </td><td>5.147494            </td><td>3692                </td><td>51.97121            </td><td>61.66667            </td><td>72.53045            </td><td>...                 </td><td>171                 </td><td>5                   </td><td>D11                 </td><td>pool1               </td><td>NONE                </td><td>18060               </td><td>P_FPP               </td><td>P_FPP_D11           </td><td>P_FPP_D11           </td><td>P_FPP               </td></tr>\n",
       "</tbody>\n",
       "</table>\n"
      ],
      "text/latex": [
       "\\begin{tabular}{r|llllllllllllllllllllllll}\n",
       " index & batch & donor\\_id & log1p\\_n\\_genes\\_by\\_counts & log1p\\_total\\_counts & log1p\\_total\\_counts\\_mito & n\\_genes\\_by\\_counts & pct\\_counts\\_in\\_top\\_100\\_genes & pct\\_counts\\_in\\_top\\_200\\_genes & pct\\_counts\\_in\\_top\\_500\\_genes & ... & total\\_counts\\_mito & cluster\\_id & time\\_point & pool\\_id & treatment & n\\_counts\\_all & celltype & celltype\\_timepoint & celltype\\_timepoint\\_new & celltype\\_new\\\\\n",
       "\\hline\n",
       "\t TTCCCAGGTTCCATGA-1-0 & 0                    & HPSI0214i-eiwy\\_1   & 7.893572             & 9.321613             & 4.077538             & 2679                 & 53.54331             & 63.84216             & 74.86578             & ...                  &  58                  & 3                    & D11                  & pool1                & NONE                 & 11176                & FPP                  & FPP\\_D11            & FPP\\_D11            & FPP                 \\\\\n",
       "\t AACCGCGAGGTCATCT-1-0 & 0                    & HPSI0114i-eipl\\_1   & 8.214194             & 9.801510             & 5.147494             & 3692                 & 51.97121             & 61.66667             & 72.53045             & ...                  & 171                  & 5                    & D11                  & pool1                & NONE                 & 18060                & P\\_FPP              & P\\_FPP\\_D11        & P\\_FPP\\_D11        & P\\_FPP             \\\\\n",
       "\\end{tabular}\n"
      ],
      "text/markdown": [
       "\n",
       "| index | batch | donor_id | log1p_n_genes_by_counts | log1p_total_counts | log1p_total_counts_mito | n_genes_by_counts | pct_counts_in_top_100_genes | pct_counts_in_top_200_genes | pct_counts_in_top_500_genes | ... | total_counts_mito | cluster_id | time_point | pool_id | treatment | n_counts_all | celltype | celltype_timepoint | celltype_timepoint_new | celltype_new |\n",
       "|---|---|---|---|---|---|---|---|---|---|---|---|---|---|---|---|---|---|---|---|---|\n",
       "| TTCCCAGGTTCCATGA-1-0 | 0                    | HPSI0214i-eiwy_1     | 7.893572             | 9.321613             | 4.077538             | 2679                 | 53.54331             | 63.84216             | 74.86578             | ...                  |  58                  | 3                    | D11                  | pool1                | NONE                 | 11176                | FPP                  | FPP_D11              | FPP_D11              | FPP                  |\n",
       "| AACCGCGAGGTCATCT-1-0 | 0                    | HPSI0114i-eipl_1     | 8.214194             | 9.801510             | 5.147494             | 3692                 | 51.97121             | 61.66667             | 72.53045             | ...                  | 171                  | 5                    | D11                  | pool1                | NONE                 | 18060                | P_FPP                | P_FPP_D11            | P_FPP_D11            | P_FPP                |\n",
       "\n"
      ],
      "text/plain": [
       "  index                batch donor_id         log1p_n_genes_by_counts\n",
       "1 TTCCCAGGTTCCATGA-1-0 0     HPSI0214i-eiwy_1 7.893572               \n",
       "2 AACCGCGAGGTCATCT-1-0 0     HPSI0114i-eipl_1 8.214194               \n",
       "  log1p_total_counts log1p_total_counts_mito n_genes_by_counts\n",
       "1 9.321613           4.077538                2679             \n",
       "2 9.801510           5.147494                3692             \n",
       "  pct_counts_in_top_100_genes pct_counts_in_top_200_genes\n",
       "1 53.54331                    63.84216                   \n",
       "2 51.97121                    61.66667                   \n",
       "  pct_counts_in_top_500_genes ... total_counts_mito cluster_id time_point\n",
       "1 74.86578                    ...  58               3          D11       \n",
       "2 72.53045                    ... 171               5          D11       \n",
       "  pool_id treatment n_counts_all celltype celltype_timepoint\n",
       "1 pool1   NONE      11176        FPP      FPP_D11           \n",
       "2 pool1   NONE      18060        P_FPP    P_FPP_D11         \n",
       "  celltype_timepoint_new celltype_new\n",
       "1 FPP_D11                FPP         \n",
       "2 P_FPP_D11              P_FPP       "
      ]
     },
     "metadata": {},
     "output_type": "display_data"
    }
   ],
   "source": [
    "metadata_file2 = read.csv(paste0(mydir,\"neuroseq_metadata_all.txt\"),sep=\"\\t\")\n",
    "head(metadata_file2,2)"
   ]
  },
  {
   "cell_type": "code",
   "execution_count": 23,
   "metadata": {},
   "outputs": [
    {
     "data": {
      "text/html": [
       "205416"
      ],
      "text/latex": [
       "205416"
      ],
      "text/markdown": [
       "205416"
      ],
      "text/plain": [
       "[1] 205416"
      ]
     },
     "metadata": {},
     "output_type": "display_data"
    }
   ],
   "source": [
    "nrow(metadata_file2)"
   ]
  },
  {
   "cell_type": "code",
   "execution_count": 19,
   "metadata": {},
   "outputs": [],
   "source": [
    "# library(dplyr)"
   ]
  },
  {
   "cell_type": "code",
   "execution_count": 25,
   "metadata": {},
   "outputs": [
    {
     "name": "stderr",
     "output_type": "stream",
     "text": [
      "Joining, by = c(\"index\", \"donor_id\")\n",
      "Warning message:\n",
      "“Column `index` joining factors with different levels, coercing to character vector”Warning message:\n",
      "“Column `donor_id` joining factors with different levels, coercing to character vector”"
     ]
    }
   ],
   "source": [
    "meta = inner_join(metadata_file1[,c(\"index\",\"donor_id\")],metadata_file2[,c(\"index\",\"donor_id\",\"time_point\",\"treatment\",\"celltype_new\")])"
   ]
  },
  {
   "cell_type": "code",
   "execution_count": 26,
   "metadata": {},
   "outputs": [
    {
     "data": {
      "text/html": [
       "51354"
      ],
      "text/latex": [
       "51354"
      ],
      "text/markdown": [
       "51354"
      ],
      "text/plain": [
       "[1] 51354"
      ]
     },
     "metadata": {},
     "output_type": "display_data"
    },
    {
     "data": {
      "text/html": [
       "<table>\n",
       "<thead><tr><th scope=col>index</th><th scope=col>donor_id</th><th scope=col>time_point</th><th scope=col>treatment</th><th scope=col>celltype_new</th></tr></thead>\n",
       "<tbody>\n",
       "\t<tr><td>ATCGAGTTCAAACGGG-1-60 </td><td>HPSI0514i-fiaj_1      </td><td>D52                   </td><td>NONE                  </td><td>DA                    </td></tr>\n",
       "\t<tr><td>ACCAGTAAGACCTAGG-1-81 </td><td>HPSI0115i-aoxv_1      </td><td>D30                   </td><td>NONE                  </td><td>FPP                   </td></tr>\n",
       "\t<tr><td>GCTGCAGCAACCGCCA-1-46 </td><td>HPSI0214i-poih_2      </td><td>D30                   </td><td>NONE                  </td><td>DA                    </td></tr>\n",
       "\t<tr><td>AACTCCCTCGACAGCC-1-66 </td><td>HPSI0414i-mita_1      </td><td>D11                   </td><td>NONE                  </td><td>P_FPP                 </td></tr>\n",
       "\t<tr><td>CGTCCATGTAGGCTGA-1-53 </td><td>HPSI0115i-paim_1      </td><td>D52                   </td><td>NONE                  </td><td>FPP                   </td></tr>\n",
       "\t<tr><td>CTCTACGTCGCATGAT-1-129</td><td>HPSI0513i-veve_2      </td><td>D30                   </td><td>NONE                  </td><td>DA                    </td></tr>\n",
       "</tbody>\n",
       "</table>\n"
      ],
      "text/latex": [
       "\\begin{tabular}{r|lllll}\n",
       " index & donor\\_id & time\\_point & treatment & celltype\\_new\\\\\n",
       "\\hline\n",
       "\t ATCGAGTTCAAACGGG-1-60  & HPSI0514i-fiaj\\_1     & D52                    & NONE                   & DA                    \\\\\n",
       "\t ACCAGTAAGACCTAGG-1-81  & HPSI0115i-aoxv\\_1     & D30                    & NONE                   & FPP                   \\\\\n",
       "\t GCTGCAGCAACCGCCA-1-46  & HPSI0214i-poih\\_2     & D30                    & NONE                   & DA                    \\\\\n",
       "\t AACTCCCTCGACAGCC-1-66  & HPSI0414i-mita\\_1     & D11                    & NONE                   & P\\_FPP               \\\\\n",
       "\t CGTCCATGTAGGCTGA-1-53  & HPSI0115i-paim\\_1     & D52                    & NONE                   & FPP                   \\\\\n",
       "\t CTCTACGTCGCATGAT-1-129 & HPSI0513i-veve\\_2     & D30                    & NONE                   & DA                    \\\\\n",
       "\\end{tabular}\n"
      ],
      "text/markdown": [
       "\n",
       "| index | donor_id | time_point | treatment | celltype_new |\n",
       "|---|---|---|---|---|\n",
       "| ATCGAGTTCAAACGGG-1-60  | HPSI0514i-fiaj_1       | D52                    | NONE                   | DA                     |\n",
       "| ACCAGTAAGACCTAGG-1-81  | HPSI0115i-aoxv_1       | D30                    | NONE                   | FPP                    |\n",
       "| GCTGCAGCAACCGCCA-1-46  | HPSI0214i-poih_2       | D30                    | NONE                   | DA                     |\n",
       "| AACTCCCTCGACAGCC-1-66  | HPSI0414i-mita_1       | D11                    | NONE                   | P_FPP                  |\n",
       "| CGTCCATGTAGGCTGA-1-53  | HPSI0115i-paim_1       | D52                    | NONE                   | FPP                    |\n",
       "| CTCTACGTCGCATGAT-1-129 | HPSI0513i-veve_2       | D30                    | NONE                   | DA                     |\n",
       "\n"
      ],
      "text/plain": [
       "  index                  donor_id         time_point treatment celltype_new\n",
       "1 ATCGAGTTCAAACGGG-1-60  HPSI0514i-fiaj_1 D52        NONE      DA          \n",
       "2 ACCAGTAAGACCTAGG-1-81  HPSI0115i-aoxv_1 D30        NONE      FPP         \n",
       "3 GCTGCAGCAACCGCCA-1-46  HPSI0214i-poih_2 D30        NONE      DA          \n",
       "4 AACTCCCTCGACAGCC-1-66  HPSI0414i-mita_1 D11        NONE      P_FPP       \n",
       "5 CGTCCATGTAGGCTGA-1-53  HPSI0115i-paim_1 D52        NONE      FPP         \n",
       "6 CTCTACGTCGCATGAT-1-129 HPSI0513i-veve_2 D30        NONE      DA          "
      ]
     },
     "metadata": {},
     "output_type": "display_data"
    }
   ],
   "source": [
    "nrow(meta)\n",
    "head(meta)"
   ]
  },
  {
   "cell_type": "code",
   "execution_count": null,
   "metadata": {},
   "outputs": [],
   "source": []
  },
  {
   "cell_type": "code",
   "execution_count": null,
   "metadata": {},
   "outputs": [],
   "source": []
  },
  {
   "cell_type": "code",
   "execution_count": 2,
   "metadata": {},
   "outputs": [],
   "source": [
    "SN_dataset = \"/hps/nobackup/stegle/users/acuomo/all_scripts/sc_neuroseq/in_vivo_comparison/SN_human_7_ind_liger.RDS\"\n",
    "SN = readRDS(SN_dataset)"
   ]
  },
  {
   "cell_type": "code",
   "execution_count": 3,
   "metadata": {},
   "outputs": [
    {
     "name": "stderr",
     "output_type": "stream",
     "text": [
      "Loading required package: liger\n",
      "Warning message in library(package, lib.loc = lib.loc, character.only = TRUE, logical.return = TRUE, :\n",
      "“there is no package called ‘liger’”ERROR while rich displaying an object: Error in .requirePackage(package): unable to find required package ‘liger’\n",
      "\n",
      "Traceback:\n",
      "1. FUN(X[[i]], ...)\n",
      "2. tryCatch(withCallingHandlers({\n",
      " .     if (!mime %in% names(repr::mime2repr)) \n",
      " .         stop(\"No repr_* for mimetype \", mime, \" in repr::mime2repr\")\n",
      " .     rpr <- repr::mime2repr[[mime]](obj)\n",
      " .     if (is.null(rpr)) \n",
      " .         return(NULL)\n",
      " .     prepare_content(is.raw(rpr), rpr)\n",
      " . }, error = error_handler), error = outer_handler)\n",
      "3. tryCatchList(expr, classes, parentenv, handlers)\n",
      "4. tryCatchOne(expr, names, parentenv, handlers[[1L]])\n",
      "5. doTryCatch(return(expr), name, parentenv, handler)\n",
      "6. withCallingHandlers({\n",
      " .     if (!mime %in% names(repr::mime2repr)) \n",
      " .         stop(\"No repr_* for mimetype \", mime, \" in repr::mime2repr\")\n",
      " .     rpr <- repr::mime2repr[[mime]](obj)\n",
      " .     if (is.null(rpr)) \n",
      " .         return(NULL)\n",
      " .     prepare_content(is.raw(rpr), rpr)\n",
      " . }, error = error_handler)\n",
      "7. repr::mime2repr[[mime]](obj)\n",
      "8. .extendsForS3(structure(\"liger\", package = \"liger\"))\n",
      "9. extends(Class, maybe = FALSE)\n",
      "10. getClassDef(class1)\n",
      "11. .requirePackage(package)\n",
      "12. stop(gettextf(\"unable to find required package %s\", sQuote(package)), \n",
      "  .     domain = NA)\n"
     ]
    }
   ],
   "source": [
    "SN"
   ]
  },
  {
   "cell_type": "code",
   "execution_count": null,
   "metadata": {},
   "outputs": [],
   "source": []
  },
  {
   "cell_type": "code",
   "execution_count": null,
   "metadata": {},
   "outputs": [],
   "source": []
  },
  {
   "cell_type": "code",
   "execution_count": 37,
   "metadata": {},
   "outputs": [],
   "source": [
    "# adata.file = \"/hps/nobackup/stegle/users/acuomo/all_scripts/sc_neuroseq/in_vivo_comparison/5pct_subsample.h5ad\"\n",
    "adata.file = \"/hps/nobackup/stegle/users/acuomo/all_scripts/sc_neuroseq/scanpy/5pct_subsample.h5ad\"\n",
    "seurat.file = \"/hps/nobackup/stegle/users/acuomo/all_scripts/sc_neuroseq/in_vivo_comparison/5pct_subsample_seurat.rds\"\n",
    "sce.file = \"/hps/nobackup/stegle/users/acuomo/all_scripts/sc_neuroseq/in_vivo_comparison/5pct_subsample_sce.rds\""
   ]
  },
  {
   "cell_type": "code",
   "execution_count": 38,
   "metadata": {},
   "outputs": [],
   "source": [
    "# library(reticulate)\n",
    "# ad <- import(\"anndata\", convert = FALSE)\n",
    "# neuroseq_ad <- ad$read_h5ad(adata.file)\n",
    "# neuroseq <- Seurat::Convert(neuroseq_ad, to = \"seurat\")"
   ]
  },
  {
   "cell_type": "code",
   "execution_count": 39,
   "metadata": {},
   "outputs": [],
   "source": [
    "# library(hdf5r)"
   ]
  },
  {
   "cell_type": "code",
   "execution_count": 40,
   "metadata": {
    "scrolled": true
   },
   "outputs": [
    {
     "name": "stderr",
     "output_type": "stream",
     "text": [
      "Pulling expression matrices and metadata\n"
     ]
    },
    {
     "ename": "ERROR",
     "evalue": "Error in sparseMatrix(i = x[[\"indices\"]][] + 1, p = x[[\"indptr\"]][], x = x[[\"data\"]][]): 'p' must be a non-decreasing vector (0, ...)\n",
     "output_type": "error",
     "traceback": [
      "Error in sparseMatrix(i = x[[\"indices\"]][] + 1, p = x[[\"indptr\"]][], x = x[[\"data\"]][]): 'p' must be a non-decreasing vector (0, ...)\nTraceback:\n",
      "1. Seurat::ReadH5AD(file = adata.file)",
      "2. ReadH5AD.character(file = adata.file)",
      "3. ReadH5AD(file = hfile, assay = assay, layers = layers, verbose = verbose, \n .     ...)",
      "4. ReadH5AD.H5File(file = hfile, assay = assay, layers = layers, \n .     verbose = verbose, ...)",
      "5. as.sparse(x = file[[\"X\"]])",
      "6. as.sparse.H5Group(x = file[[\"X\"]])",
      "7. sparseMatrix(i = x[[\"indices\"]][] + 1, p = x[[\"indptr\"]][], x = x[[\"data\"]][])",
      "8. stop(\"'p' must be a non-decreasing vector (0, ...)\")"
     ]
    }
   ],
   "source": [
    "neuroseq <- Seurat::ReadH5AD(file = adata.file)\n",
    "Idents(neuroseq) <- \"louvain\""
   ]
  },
  {
   "cell_type": "code",
   "execution_count": null,
   "metadata": {},
   "outputs": [],
   "source": [
    "saveRDS(neuroseq, file = seurat.file)"
   ]
  },
  {
   "cell_type": "code",
   "execution_count": 4,
   "metadata": {},
   "outputs": [
    {
     "ename": "ERROR",
     "evalue": "Error in loadNamespace(name): there is no package called ‘seurat’\n",
     "output_type": "error",
     "traceback": [
      "Error in loadNamespace(name): there is no package called ‘seurat’\nTraceback:\n",
      "1. seurat::Convert",
      "2. getExportedValue(pkg, name)",
      "3. asNamespace(ns)",
      "4. getNamespace(ns)",
      "5. tryCatch(loadNamespace(name), error = function(e) stop(e))",
      "6. tryCatchList(expr, classes, parentenv, handlers)",
      "7. tryCatchOne(expr, names, parentenv, handlers[[1L]])",
      "8. value[[3L]](cond)"
     ]
    }
   ],
   "source": [
    "neuroseq.sce <- as.SingleCellExperiment(neuroseq)\n",
    "saveRDS(neuroseq.sce, file = sce.file)"
   ]
  }
 ],
 "metadata": {
  "kernelspec": {
   "display_name": "R",
   "language": "R",
   "name": "ir"
  },
  "language_info": {
   "codemirror_mode": "r",
   "file_extension": ".r",
   "mimetype": "text/x-r-source",
   "name": "R",
   "pygments_lexer": "r",
   "version": "3.6.1"
  }
 },
 "nbformat": 4,
 "nbformat_minor": 2
}
