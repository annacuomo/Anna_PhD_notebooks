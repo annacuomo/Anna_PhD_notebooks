{
 "cells": [
  {
   "cell_type": "code",
   "execution_count": 1,
   "metadata": {},
   "outputs": [
    {
     "data": {
      "text/html": [
       "<table>\n",
       "<caption>A data.frame: 2 × 21</caption>\n",
       "<thead>\n",
       "\t<tr><th scope=col>snp_id</th><th scope=col>p_value</th><th scope=col>beta</th><th scope=col>beta_se</th><th scope=col>empirical_feature_p_value</th><th scope=col>feature_chromosome</th><th scope=col>feature_start</th><th scope=col>feature_end</th><th scope=col>n_samples</th><th scope=col>n_e_samples</th><th scope=col>⋯</th><th scope=col>beta_param</th><th scope=col>snp_chromosome</th><th scope=col>snp_position</th><th scope=col>assessed_allele</th><th scope=col>call_rate</th><th scope=col>maf</th><th scope=col>hwe_p</th><th scope=col>feature_id</th><th scope=col>global_corr_p_value</th><th scope=col>label</th></tr>\n",
       "\t<tr><th scope=col>&lt;fct&gt;</th><th scope=col>&lt;dbl&gt;</th><th scope=col>&lt;dbl&gt;</th><th scope=col>&lt;dbl&gt;</th><th scope=col>&lt;dbl&gt;</th><th scope=col>&lt;int&gt;</th><th scope=col>&lt;int&gt;</th><th scope=col>&lt;int&gt;</th><th scope=col>&lt;int&gt;</th><th scope=col>&lt;int&gt;</th><th scope=col>⋯</th><th scope=col>&lt;dbl&gt;</th><th scope=col>&lt;int&gt;</th><th scope=col>&lt;int&gt;</th><th scope=col>&lt;fct&gt;</th><th scope=col>&lt;dbl&gt;</th><th scope=col>&lt;dbl&gt;</th><th scope=col>&lt;dbl&gt;</th><th scope=col>&lt;fct&gt;</th><th scope=col>&lt;dbl&gt;</th><th scope=col>&lt;fct&gt;</th></tr>\n",
       "</thead>\n",
       "<tbody>\n",
       "\t<tr><td>21_30373541_T_C</td><td>2.920966e-25</td><td>-0.8525780</td><td>0.08210206</td><td>1.632719e-14</td><td>21</td><td>30376705</td><td>30391699</td><td>173</td><td>173</td><td>⋯</td><td>192.39730</td><td>21</td><td>30373541</td><td>C</td><td>1</td><td>0.2398844</td><td>0.09609073</td><td>ENSG00000156253</td><td>1.400559e-12</td><td>FPP_D11</td></tr>\n",
       "\t<tr><td>21_30432557_G_A</td><td>1.495486e-48</td><td> 0.5058675</td><td>0.03454695</td><td>1.169470e-31</td><td>21</td><td>30428126</td><td>30446118</td><td>173</td><td>173</td><td>⋯</td><td> 34.96152</td><td>21</td><td>30432557</td><td>A</td><td>1</td><td>0.1358382</td><td>1.00000000</td><td>ENSG00000156261</td><td>1.059433e-28</td><td>FPP_D11</td></tr>\n",
       "</tbody>\n",
       "</table>\n"
      ],
      "text/latex": [
       "A data.frame: 2 × 21\n",
       "\\begin{tabular}{r|lllllllllllllllllllll}\n",
       " snp\\_id & p\\_value & beta & beta\\_se & empirical\\_feature\\_p\\_value & feature\\_chromosome & feature\\_start & feature\\_end & n\\_samples & n\\_e\\_samples & alpha\\_param & beta\\_param & snp\\_chromosome & snp\\_position & assessed\\_allele & call\\_rate & maf & hwe\\_p & feature\\_id & global\\_corr\\_p\\_value & label\\\\\n",
       " <fct> & <dbl> & <dbl> & <dbl> & <dbl> & <int> & <int> & <int> & <int> & <int> & <dbl> & <dbl> & <int> & <int> & <fct> & <dbl> & <dbl> & <dbl> & <fct> & <dbl> & <fct>\\\\\n",
       "\\hline\n",
       "\t 21\\_30373541\\_T\\_C & 2.920966e-25 & -0.8525780 & 0.08210206 & 1.632719e-14 & 21 & 30376705 & 30391699 & 173 & 173 & 0.5679296 & 192.39730 & 21 & 30373541 & C & 1 & 0.2398844 & 0.09609073 & ENSG00000156253 & 1.400559e-12 & FPP\\_D11\\\\\n",
       "\t 21\\_30432557\\_G\\_A & 1.495486e-48 &  0.5058675 & 0.03454695 & 1.169470e-31 & 21 & 30428126 & 30446118 & 173 & 173 & 0.6692692 &  34.96152 & 21 & 30432557 & A & 1 & 0.1358382 & 1.00000000 & ENSG00000156261 & 1.059433e-28 & FPP\\_D11\\\\\n",
       "\\end{tabular}\n"
      ],
      "text/markdown": [
       "\n",
       "A data.frame: 2 × 21\n",
       "\n",
       "| snp_id &lt;fct&gt; | p_value &lt;dbl&gt; | beta &lt;dbl&gt; | beta_se &lt;dbl&gt; | empirical_feature_p_value &lt;dbl&gt; | feature_chromosome &lt;int&gt; | feature_start &lt;int&gt; | feature_end &lt;int&gt; | n_samples &lt;int&gt; | n_e_samples &lt;int&gt; | ⋯ ⋯ | beta_param &lt;dbl&gt; | snp_chromosome &lt;int&gt; | snp_position &lt;int&gt; | assessed_allele &lt;fct&gt; | call_rate &lt;dbl&gt; | maf &lt;dbl&gt; | hwe_p &lt;dbl&gt; | feature_id &lt;fct&gt; | global_corr_p_value &lt;dbl&gt; | label &lt;fct&gt; |\n",
       "|---|---|---|---|---|---|---|---|---|---|---|---|---|---|---|---|---|---|---|---|---|\n",
       "| 21_30373541_T_C | 2.920966e-25 | -0.8525780 | 0.08210206 | 1.632719e-14 | 21 | 30376705 | 30391699 | 173 | 173 | ⋯ | 192.39730 | 21 | 30373541 | C | 1 | 0.2398844 | 0.09609073 | ENSG00000156253 | 1.400559e-12 | FPP_D11 |\n",
       "| 21_30432557_G_A | 1.495486e-48 |  0.5058675 | 0.03454695 | 1.169470e-31 | 21 | 30428126 | 30446118 | 173 | 173 | ⋯ |  34.96152 | 21 | 30432557 | A | 1 | 0.1358382 | 1.00000000 | ENSG00000156261 | 1.059433e-28 | FPP_D11 |\n",
       "\n"
      ],
      "text/plain": [
       "  snp_id          p_value      beta       beta_se    empirical_feature_p_value\n",
       "1 21_30373541_T_C 2.920966e-25 -0.8525780 0.08210206 1.632719e-14             \n",
       "2 21_30432557_G_A 1.495486e-48  0.5058675 0.03454695 1.169470e-31             \n",
       "  feature_chromosome feature_start feature_end n_samples n_e_samples ⋯\n",
       "1 21                 30376705      30391699    173       173         ⋯\n",
       "2 21                 30428126      30446118    173       173         ⋯\n",
       "  beta_param snp_chromosome snp_position assessed_allele call_rate maf      \n",
       "1 192.39730  21             30373541     C               1         0.2398844\n",
       "2  34.96152  21             30432557     A               1         0.1358382\n",
       "  hwe_p      feature_id      global_corr_p_value label  \n",
       "1 0.09609073 ENSG00000156253 1.400559e-12        FPP_D11\n",
       "2 1.00000000 ENSG00000156261 1.059433e-28        FPP_D11"
      ]
     },
     "metadata": {},
     "output_type": "display_data"
    }
   ],
   "source": [
    "data_folder = \"/nfs/leia/research/stegle/dseaton/hipsci/singlecell_neuroseq/data/analysis_results/20200103_data_freeze/\"\n",
    "leads_filename = paste0(data_folder,\"eqtl/pool1_17.eqtl_discovery_all_leads.fdr0.1.tsv\")\n",
    "leads = read.csv(leads_filename, header = T, sep = \"\\t\")\n",
    "head(leads,2)"
   ]
  },
  {
   "cell_type": "code",
   "execution_count": 2,
   "metadata": {},
   "outputs": [],
   "source": [
    "leads5pct = leads[leads$global_corr_p_value < 0.05,]"
   ]
  },
  {
   "cell_type": "code",
   "execution_count": 3,
   "metadata": {},
   "outputs": [
    {
     "name": "stderr",
     "output_type": "stream",
     "text": [
      "hash-2.2.6.1 provided by Decision Patterns\n",
      "\n"
     ]
    },
    {
     "name": "stdout",
     "output_type": "stream",
     "text": [
      "[1] \"FPP_D11\"\n",
      "[1] \"P_FPP_D11\"\n",
      "[1] \"DA_D30\"\n",
      "[1] \"Sert_D30\"\n",
      "[1] \"Epen1_D30\"\n",
      "[1] \"Astro_D30\"\n",
      "[1] \"DA_D52\"\n",
      "[1] \"Sert_D52\"\n",
      "[1] \"Epen1_D52\"\n",
      "[1] \"Astro_D52\"\n"
     ]
    }
   ],
   "source": [
    "celltypes = unique(leads5pct$label)\n",
    "library(hash)\n",
    "egenes = hash() \n",
    "for (celltype in celltypes){\n",
    "    print(celltype)\n",
    "    res = leads5pct[leads5pct$label == celltype,]\n",
    "    egenes[celltype] <- unique(res$feature_id)\n",
    "}"
   ]
  },
  {
   "cell_type": "code",
   "execution_count": 4,
   "metadata": {},
   "outputs": [
    {
     "data": {
      "text/html": [
       "698"
      ],
      "text/latex": [
       "698"
      ],
      "text/markdown": [
       "698"
      ],
      "text/plain": [
       "[1] 698"
      ]
     },
     "metadata": {},
     "output_type": "display_data"
    }
   ],
   "source": [
    "DA_NONE_file = \"/hps/nobackup/stegle/users/acuomo/all_scripts/sc_neuroseq/eqtl/timepoint_D52/input_files_untreated/celltype_DA/results/top_qtl_results_all.txt\"\n",
    "DA_NONE = read.csv(DA_NONE_file,sep=\"\\t\")\n",
    "DA_NONE$q_value = p.adjust(DA_NONE$empirical_feature_p_value, method = \"BH\")\n",
    "# nrow(DA_NONE[DA_NONE$q_value < 0.05,])\n",
    "egenes['DA_NONE_D52'] <- DA_NONE[DA_NONE$q_value < 0.05,'feature_id']"
   ]
  },
  {
   "cell_type": "code",
   "execution_count": 14,
   "metadata": {},
   "outputs": [],
   "source": [
    "Sert_NONE_file = \"/hps/nobackup/stegle/users/acuomo/all_scripts/sc_neuroseq/eqtl/timepoint_D52/input_files_untreated/celltype_Sert/results/top_qtl_results_all.txt\"\n",
    "Sert_NONE = read.csv(Sert_NONE_file,sep=\"\\t\")\n",
    "Sert_NONE$q_value = p.adjust(Sert_NONE$empirical_feature_p_value, method = \"BH\")\n",
    "egenes['Sert_NONE_D52'] <- Sert_NONE[Sert_NONE$q_value < 0.05,'feature_id']"
   ]
  },
  {
   "cell_type": "code",
   "execution_count": 16,
   "metadata": {},
   "outputs": [],
   "source": [
    "Epen1_NONE_file = \"/hps/nobackup/stegle/users/acuomo/all_scripts/sc_neuroseq/eqtl/timepoint_D52/input_files_untreated/celltype_Epen1/results/top_qtl_results_all.txt\"\n",
    "Epen1_NONE = read.csv(Epen1_NONE_file,sep=\"\\t\")\n",
    "Epen1_NONE$q_value = p.adjust(Epen1_NONE$empirical_feature_p_value, method = \"BH\")\n",
    "egenes['Epen1_NONE_D52'] <- Epen1_NONE[Epen1_NONE$q_value < 0.05,'feature_id']"
   ]
  },
  {
   "cell_type": "code",
   "execution_count": 19,
   "metadata": {},
   "outputs": [],
   "source": [
    "Astro_NONE_file = \"/hps/nobackup/stegle/users/acuomo/all_scripts/sc_neuroseq/eqtl/timepoint_D52/input_files_untreated/celltype_Astro/results/top_qtl_results_all.txt\"\n",
    "Astro_NONE = read.csv(Astro_NONE_file,sep=\"\\t\")\n",
    "Astro_NONE$q_value = p.adjust(Astro_NONE$empirical_feature_p_value, method = \"BH\")\n",
    "egenes['Astro_NONE_D52'] <- Astro_NONE[Astro_NONE$q_value < 0.05,'feature_id']"
   ]
  },
  {
   "cell_type": "code",
   "execution_count": 22,
   "metadata": {},
   "outputs": [],
   "source": [
    "DA_ROT_file = \"/hps/nobackup/stegle/users/acuomo/all_scripts/sc_neuroseq/eqtl/timepoint_D52/input_files_ROT_treated/celltype_DA/results/top_qtl_results_all.txt\"\n",
    "DA_ROT = read.csv(DA_ROT_file,sep=\"\\t\")\n",
    "DA_ROT$q_value = p.adjust(DA_ROT$empirical_feature_p_value, method = \"BH\")\n",
    "egenes['DA_ROT_D52'] <- DA_ROT[DA_ROT$q_value < 0.05,'feature_id']"
   ]
  },
  {
   "cell_type": "code",
   "execution_count": 12,
   "metadata": {},
   "outputs": [],
   "source": [
    "Sert_ROT_file = \"/hps/nobackup/stegle/users/acuomo/all_scripts/sc_neuroseq/eqtl/timepoint_D52/input_files_ROT_treated/celltype_Sert/results/top_qtl_results_all.txt\"\n",
    "Sert_ROT = read.csv(Sert_ROT_file,sep=\"\\t\")\n",
    "Sert_ROT$q_value = p.adjust(Sert_ROT$empirical_feature_p_value, method = \"BH\")\n",
    "egenes['Sert_ROT_D52'] <- Sert_ROT[Sert_ROT$q_value < 0.05,'feature_id']"
   ]
  },
  {
   "cell_type": "code",
   "execution_count": 17,
   "metadata": {},
   "outputs": [],
   "source": [
    "Epen1_ROT_file = \"/hps/nobackup/stegle/users/acuomo/all_scripts/sc_neuroseq/eqtl/timepoint_D52/input_files_ROT_treated/celltype_Epen1/results/top_qtl_results_all.txt\"\n",
    "Epen1_ROT = read.csv(Epen1_ROT_file,sep=\"\\t\")\n",
    "Epen1_ROT$q_value = p.adjust(Epen1_ROT$empirical_feature_p_value, method = \"BH\")\n",
    "egenes['Epen1_ROT_D52'] <- Epen1_ROT[Epen1_ROT$q_value < 0.05,'feature_id']"
   ]
  },
  {
   "cell_type": "code",
   "execution_count": 20,
   "metadata": {},
   "outputs": [],
   "source": [
    "Astro_ROT_file = \"/hps/nobackup/stegle/users/acuomo/all_scripts/sc_neuroseq/eqtl/timepoint_D52/input_files_ROT_treated/celltype_Astro/results/top_qtl_results_all.txt\"\n",
    "Astro_ROT = read.csv(Astro_ROT_file,sep=\"\\t\")\n",
    "Astro_ROT$q_value = p.adjust(Astro_ROT$empirical_feature_p_value, method = \"BH\")\n",
    "egenes['Astro_ROT_D52'] <- Astro_ROT[Astro_ROT$q_value < 0.05,'feature_id']"
   ]
  },
  {
   "cell_type": "code",
   "execution_count": 23,
   "metadata": {},
   "outputs": [
    {
     "data": {
      "text/html": [
       "<ol class=list-inline>\n",
       "\t<li>'Astro_D30'</li>\n",
       "\t<li>'Astro_D52'</li>\n",
       "\t<li>'Astro_NONE_D52'</li>\n",
       "\t<li>'Astro_ROT_D52'</li>\n",
       "\t<li>'DA_D30'</li>\n",
       "\t<li>'DA_D52'</li>\n",
       "\t<li>'DA_NONE_D52'</li>\n",
       "\t<li>'DA_ROT_D52'</li>\n",
       "\t<li>'Epen1_D30'</li>\n",
       "\t<li>'Epen1_D52'</li>\n",
       "\t<li>'Epen1_NONE_D52'</li>\n",
       "\t<li>'Epen1_ROT_D52'</li>\n",
       "\t<li>'FPP_D11'</li>\n",
       "\t<li>'P_FPP_D11'</li>\n",
       "\t<li>'Sert_D30'</li>\n",
       "\t<li>'Sert_D52'</li>\n",
       "\t<li>'Sert_NONE_D52'</li>\n",
       "\t<li>'Sert_ROT_D52'</li>\n",
       "</ol>\n"
      ],
      "text/latex": [
       "\\begin{enumerate*}\n",
       "\\item 'Astro\\_D30'\n",
       "\\item 'Astro\\_D52'\n",
       "\\item 'Astro\\_NONE\\_D52'\n",
       "\\item 'Astro\\_ROT\\_D52'\n",
       "\\item 'DA\\_D30'\n",
       "\\item 'DA\\_D52'\n",
       "\\item 'DA\\_NONE\\_D52'\n",
       "\\item 'DA\\_ROT\\_D52'\n",
       "\\item 'Epen1\\_D30'\n",
       "\\item 'Epen1\\_D52'\n",
       "\\item 'Epen1\\_NONE\\_D52'\n",
       "\\item 'Epen1\\_ROT\\_D52'\n",
       "\\item 'FPP\\_D11'\n",
       "\\item 'P\\_FPP\\_D11'\n",
       "\\item 'Sert\\_D30'\n",
       "\\item 'Sert\\_D52'\n",
       "\\item 'Sert\\_NONE\\_D52'\n",
       "\\item 'Sert\\_ROT\\_D52'\n",
       "\\end{enumerate*}\n"
      ],
      "text/markdown": [
       "1. 'Astro_D30'\n",
       "2. 'Astro_D52'\n",
       "3. 'Astro_NONE_D52'\n",
       "4. 'Astro_ROT_D52'\n",
       "5. 'DA_D30'\n",
       "6. 'DA_D52'\n",
       "7. 'DA_NONE_D52'\n",
       "8. 'DA_ROT_D52'\n",
       "9. 'Epen1_D30'\n",
       "10. 'Epen1_D52'\n",
       "11. 'Epen1_NONE_D52'\n",
       "12. 'Epen1_ROT_D52'\n",
       "13. 'FPP_D11'\n",
       "14. 'P_FPP_D11'\n",
       "15. 'Sert_D30'\n",
       "16. 'Sert_D52'\n",
       "17. 'Sert_NONE_D52'\n",
       "18. 'Sert_ROT_D52'\n",
       "\n",
       "\n"
      ],
      "text/plain": [
       " [1] \"Astro_D30\"      \"Astro_D52\"      \"Astro_NONE_D52\" \"Astro_ROT_D52\" \n",
       " [5] \"DA_D30\"         \"DA_D52\"         \"DA_NONE_D52\"    \"DA_ROT_D52\"    \n",
       " [9] \"Epen1_D30\"      \"Epen1_D52\"      \"Epen1_NONE_D52\" \"Epen1_ROT_D52\" \n",
       "[13] \"FPP_D11\"        \"P_FPP_D11\"      \"Sert_D30\"       \"Sert_D52\"      \n",
       "[17] \"Sert_NONE_D52\"  \"Sert_ROT_D52\"  "
      ]
     },
     "metadata": {},
     "output_type": "display_data"
    }
   ],
   "source": [
    "keys(egenes)"
   ]
  },
  {
   "cell_type": "code",
   "execution_count": 24,
   "metadata": {},
   "outputs": [],
   "source": [
    "col_FPP = \"#aec7e8\"\n",
    "col_P_FPP = \"#1f77b4\"\n",
    "\n",
    "col_DA = \"#2ca02c\"\n",
    "col_Sert = \"#98df8a\"\n",
    "col_Epen1 = \"#ff9896\"\n",
    "col_Astro = \"#d62728\""
   ]
  },
  {
   "cell_type": "code",
   "execution_count": 25,
   "metadata": {},
   "outputs": [
    {
     "data": {
      "text/html": [
       "<ol class=list-inline>\n",
       "\t<li>1781</li>\n",
       "\t<li>1799</li>\n",
       "\t<li>672</li>\n",
       "\t<li>545</li>\n",
       "\t<li>621</li>\n",
       "\t<li>617</li>\n",
       "\t<li>698</li>\n",
       "\t<li>778</li>\n",
       "\t<li>745</li>\n",
       "\t<li>111</li>\n",
       "\t<li>304</li>\n",
       "\t<li>611</li>\n",
       "\t<li>575</li>\n",
       "\t<li>88</li>\n",
       "</ol>\n"
      ],
      "text/latex": [
       "\\begin{enumerate*}\n",
       "\\item 1781\n",
       "\\item 1799\n",
       "\\item 672\n",
       "\\item 545\n",
       "\\item 621\n",
       "\\item 617\n",
       "\\item 698\n",
       "\\item 778\n",
       "\\item 745\n",
       "\\item 111\n",
       "\\item 304\n",
       "\\item 611\n",
       "\\item 575\n",
       "\\item 88\n",
       "\\end{enumerate*}\n"
      ],
      "text/markdown": [
       "1. 1781\n",
       "2. 1799\n",
       "3. 672\n",
       "4. 545\n",
       "5. 621\n",
       "6. 617\n",
       "7. 698\n",
       "8. 778\n",
       "9. 745\n",
       "10. 111\n",
       "11. 304\n",
       "12. 611\n",
       "13. 575\n",
       "14. 88\n",
       "\n",
       "\n"
      ],
      "text/plain": [
       " [1] 1781 1799  672  545  621  617  698  778  745  111  304  611  575   88"
      ]
     },
     "metadata": {},
     "output_type": "display_data"
    }
   ],
   "source": [
    "eqtls <- c(length(egenes[[\"FPP_D11\"]]),length(egenes[['P_FPP_D11']]),\n",
    "           \n",
    "           length(egenes[[\"DA_D30\"]]),length(egenes[['Sert_D30']]),\n",
    "           length(egenes[[\"Epen1_D30\"]]),length(egenes[['Astro_D30']]),\n",
    "           \n",
    "           length(egenes[[\"DA_NONE_D52\"]]),length(egenes[['Sert_NONE_D52']]),\n",
    "           length(egenes[[\"Epen1_NONE_D52\"]]),length(egenes[['Astro_NONE_D52']]),\n",
    "           \n",
    "           length(egenes[[\"DA_ROT_D52\"]]),length(egenes[['Sert_ROT_D52']]),\n",
    "           length(egenes[[\"Epen1_ROT_D52\"]]),length(egenes[['Astro_ROT_D52']])\n",
    "          \n",
    "          )\n",
    "eqtls"
   ]
  },
  {
   "cell_type": "code",
   "execution_count": null,
   "metadata": {},
   "outputs": [],
   "source": [
    "##### how many eqtl are also interaction QTL"
   ]
  },
  {
   "cell_type": "code",
   "execution_count": 26,
   "metadata": {},
   "outputs": [
    {
     "data": {
      "text/html": [
       "<ol class=list-inline>\n",
       "\t<li>'ENSG00000003147_ICA1'</li>\n",
       "\t<li>'ENSG00000007541_PIGQ'</li>\n",
       "\t<li>'ENSG00000015532_XYLT2'</li>\n",
       "\t<li>'ENSG00000016391_CHDH'</li>\n",
       "\t<li>'ENSG00000037474_NSUN2'</li>\n",
       "\t<li>'ENSG00000037757_MRI1'</li>\n",
       "</ol>\n"
      ],
      "text/latex": [
       "\\begin{enumerate*}\n",
       "\\item 'ENSG00000003147\\_ICA1'\n",
       "\\item 'ENSG00000007541\\_PIGQ'\n",
       "\\item 'ENSG00000015532\\_XYLT2'\n",
       "\\item 'ENSG00000016391\\_CHDH'\n",
       "\\item 'ENSG00000037474\\_NSUN2'\n",
       "\\item 'ENSG00000037757\\_MRI1'\n",
       "\\end{enumerate*}\n"
      ],
      "text/markdown": [
       "1. 'ENSG00000003147_ICA1'\n",
       "2. 'ENSG00000007541_PIGQ'\n",
       "3. 'ENSG00000015532_XYLT2'\n",
       "4. 'ENSG00000016391_CHDH'\n",
       "5. 'ENSG00000037474_NSUN2'\n",
       "6. 'ENSG00000037757_MRI1'\n",
       "\n",
       "\n"
      ],
      "text/plain": [
       "[1] \"ENSG00000003147_ICA1\"  \"ENSG00000007541_PIGQ\"  \"ENSG00000015532_XYLT2\"\n",
       "[4] \"ENSG00000016391_CHDH\"  \"ENSG00000037474_NSUN2\" \"ENSG00000037757_MRI1\" "
      ]
     },
     "metadata": {},
     "output_type": "display_data"
    }
   ],
   "source": [
    "inter_ROT = read.table(\"/hps/nobackup/stegle/users/acuomo/all_scripts/sc_neuroseq/eqtl/interaction_qtl/egenes/ROT_treatment_interactions/DA_FDR0.1.tsv\",header = T)\n",
    "inter_egenes = as.character(inter_ROT$combined_feature_id)\n",
    "# head(inter_egenes)\n",
    "inter_ROT = read.table(\"/hps/nobackup/stegle/users/acuomo/all_scripts/sc_neuroseq/eqtl/interaction_qtl/egenes/ROT_treatment_interactions/Sert_FDR0.1.tsv\",header = T)\n",
    "inter_egenes = unique(c(inter_egenes,as.character(inter_ROT$combined_feature_id)))\n",
    "inter_ROT = read.table(\"/hps/nobackup/stegle/users/acuomo/all_scripts/sc_neuroseq/eqtl/interaction_qtl/egenes/ROT_treatment_interactions/Epen1_FDR0.1.tsv\",header = T)\n",
    "inter_egenes = unique(c(inter_egenes,as.character(inter_ROT$combined_feature_id)))\n",
    "inter_ROT = read.table(\"/hps/nobackup/stegle/users/acuomo/all_scripts/sc_neuroseq/eqtl/interaction_qtl/egenes/ROT_treatment_interactions/Astro_FDR0.1.tsv\",header = T)\n",
    "inter_egenes = unique(c(inter_egenes,as.character(inter_ROT$combined_feature_id)))\n",
    "head(inter_egenes)"
   ]
  },
  {
   "cell_type": "code",
   "execution_count": 49,
   "metadata": {},
   "outputs": [
    {
     "data": {
      "text/html": [
       "<ol class=list-inline>\n",
       "\t<li>'ENSG00000095209_TMEM38B'</li>\n",
       "\t<li>'ENSG00000160602_NEK8'</li>\n",
       "\t<li>'ENSG00000171067_C11orf24'</li>\n",
       "\t<li>'ENSG00000243317_C7orf73'</li>\n",
       "\t<li>'ENSG00000183891_TTC32'</li>\n",
       "\t<li>'ENSG00000015532_XYLT2'</li>\n",
       "</ol>\n"
      ],
      "text/latex": [
       "\\begin{enumerate*}\n",
       "\\item 'ENSG00000095209\\_TMEM38B'\n",
       "\\item 'ENSG00000160602\\_NEK8'\n",
       "\\item 'ENSG00000171067\\_C11orf24'\n",
       "\\item 'ENSG00000243317\\_C7orf73'\n",
       "\\item 'ENSG00000183891\\_TTC32'\n",
       "\\item 'ENSG00000015532\\_XYLT2'\n",
       "\\end{enumerate*}\n"
      ],
      "text/markdown": [
       "1. 'ENSG00000095209_TMEM38B'\n",
       "2. 'ENSG00000160602_NEK8'\n",
       "3. 'ENSG00000171067_C11orf24'\n",
       "4. 'ENSG00000243317_C7orf73'\n",
       "5. 'ENSG00000183891_TTC32'\n",
       "6. 'ENSG00000015532_XYLT2'\n",
       "\n",
       "\n"
      ],
      "text/plain": [
       "[1] \"ENSG00000095209_TMEM38B\"  \"ENSG00000160602_NEK8\"    \n",
       "[3] \"ENSG00000171067_C11orf24\" \"ENSG00000243317_C7orf73\" \n",
       "[5] \"ENSG00000183891_TTC32\"    \"ENSG00000015532_XYLT2\"   "
      ]
     },
     "metadata": {},
     "output_type": "display_data"
    }
   ],
   "source": [
    "inter_ROT = read.table(\"/hps/nobackup/stegle/users/acuomo/all_scripts/sc_neuroseq/eqtl/interaction_qtl/egenes/ROT_treatment_interactions/DA_FDR0.05.tsv\",header = T)\n",
    "inter_egenes = as.character(inter_ROT$combined_feature_id)\n",
    "# head(inter_egenes)\n",
    "inter_ROT = read.table(\"/hps/nobackup/stegle/users/acuomo/all_scripts/sc_neuroseq/eqtl/interaction_qtl/egenes/ROT_treatment_interactions/Sert_FDR0.05.tsv\",header = T)\n",
    "inter_egenes = unique(c(inter_egenes,as.character(inter_ROT$combined_feature_id)))\n",
    "inter_ROT = read.table(\"/hps/nobackup/stegle/users/acuomo/all_scripts/sc_neuroseq/eqtl/interaction_qtl/egenes/ROT_treatment_interactions/Epen1_FDR0.05.tsv\",header = T)\n",
    "inter_egenes = unique(c(inter_egenes,as.character(inter_ROT$combined_feature_id)))\n",
    "inter_ROT = read.table(\"/hps/nobackup/stegle/users/acuomo/all_scripts/sc_neuroseq/eqtl/interaction_qtl/egenes/ROT_treatment_interactions/Astro_FDR0.05.tsv\",header = T)\n",
    "inter_egenes = unique(c(inter_egenes,as.character(inter_ROT$combined_feature_id)))\n",
    "head(inter_egenes)"
   ]
  },
  {
   "cell_type": "code",
   "execution_count": 50,
   "metadata": {},
   "outputs": [],
   "source": [
    "interaction_qtl <- c(length(egenes[[\"FPP_D11\"]][egenes[[\"FPP_D11\"]] %in% gsub(\"_.*\",\"\",inter_egenes)]),\n",
    "length(egenes[[\"P_FPP_D11\"]][egenes[[\"P_FPP_D11\"]] %in% gsub(\"_.*\",\"\",inter_egenes)]),\n",
    "\n",
    "length(egenes[[\"DA_D30\"]][egenes[[\"DA_D30\"]] %in% gsub(\"_.*\",\"\",inter_egenes)]),\n",
    "length(egenes[[\"Sert_D30\"]][egenes[[\"Sert_D30\"]] %in% gsub(\"_.*\",\"\",inter_egenes)]),\n",
    "length(egenes[[\"Epen1_D30\"]][egenes[[\"Epen1_D30\"]] %in% gsub(\"_.*\",\"\",inter_egenes)]),\n",
    "length(egenes[[\"Astro_D30\"]][egenes[[\"Astro_D30\"]] %in% gsub(\"_.*\",\"\",inter_egenes)]),\n",
    "\n",
    "length(egenes[[\"DA_NONE_D52\"]][egenes[[\"DA_NONE_D52\"]] %in% gsub(\"_.*\",\"\",inter_egenes)]),\n",
    "length(egenes[[\"Sert_NONE_D52\"]][egenes[[\"Sert_NONE_D52\"]] %in% gsub(\"_.*\",\"\",inter_egenes)]),\n",
    "length(egenes[[\"Epen1_NONE_D52\"]][egenes[[\"Epen1_NONE_D52\"]] %in% gsub(\"_.*\",\"\",inter_egenes)]),\n",
    "length(egenes[[\"Astro_NONE_D52\"]][egenes[[\"Astro_NONE_D52\"]] %in% gsub(\"_.*\",\"\",inter_egenes)]),\n",
    "\n",
    "length(egenes[[\"DA_ROT_D52\"]][egenes[[\"DA_ROT_D52\"]] %in% gsub(\"_.*\",\"\",inter_egenes)]),\n",
    "length(egenes[[\"Sert_ROT_D52\"]][egenes[[\"Sert_ROT_D52\"]] %in% gsub(\"_.*\",\"\",inter_egenes)]),\n",
    "length(egenes[[\"Epen1_ROT_D52\"]][egenes[[\"Epen1_ROT_D52\"]] %in% gsub(\"_.*\",\"\",inter_egenes)]),\n",
    "length(egenes[[\"Astro_ROT_D52\"]][egenes[[\"Astro_ROT_D52\"]] %in% gsub(\"_.*\",\"\",inter_egenes)]))"
   ]
  },
  {
   "cell_type": "code",
   "execution_count": 51,
   "metadata": {},
   "outputs": [
    {
     "data": {
      "image/png": "[encoded data removed]",
      "text/plain": [
       "plot without title"
      ]
     },
     "metadata": {},
     "output_type": "display_data"
    }
   ],
   "source": [
    "col_FPP = \"#aec7e8\"\n",
    "col_P_FPP = \"#1f77b4\"\n",
    "\n",
    "col_DA = \"#2ca02c\"\n",
    "col_Sert = \"#98df8a\"\n",
    "col_Epen1 = \"#ff9896\"\n",
    "col_Astro = \"#d62728\"\n",
    "\n",
    "options(repr.plot.width = 6, repr.plot.height = 4)\n",
    "my.xlim = c(0, 1810)\n",
    "my.ylim = c(0,15)\n",
    "my.space = c(0, 0.1, 0.5, 0.1, 0.1, 0.1, 0.5, 0.1, 0.1,0.1, 0.5, 0.1, 0.1,0.1)\n",
    "\n",
    "opar <- par(lwd = 2.5)\n",
    "barplot(as.numeric(eqtls), \n",
    "#         border = c(col_ips,col_mesendo,col_day1,col_defendo,col_day3),\n",
    "        col = \"white\",\n",
    "        border = c(col_FPP, col_P_FPP,\n",
    "                col_DA, col_Sert, col_Epen1, col_Astro,\n",
    "                col_DA, col_Sert, col_Epen1, col_Astro,\n",
    "                col_DA, col_Sert, col_Epen1, col_Astro),\n",
    "        xlab = \"celltype\", ylab = \"# eGenes at FDR 5%\",\n",
    "        xlim = my.ylim, ylim = my.xlim, space = my.space)#, \n",
    "#         width = 0.5, xlab = \"% eQTLs overlapping H3K27ac\", horiz = TRUE, las = 1)\n",
    "\n",
    "barplot(interaction_qtl, \n",
    "#         border = c(col_ips,col_mesendo,col_day1,col_defendo,col_day3),\n",
    "        col = \"lightgrey\",\n",
    "        border = c(col_FPP, col_P_FPP,\n",
    "                col_DA, col_Sert, col_Epen1, col_Astro,\n",
    "                col_DA, col_Sert, col_Epen1, col_Astro,\n",
    "                col_DA, col_Sert, col_Epen1, col_Astro),\n",
    "        xlim = my.ylim, ylim = my.xlim, space = my.space, ylab = \"\", add = T)\n"
   ]
  },
  {
   "cell_type": "code",
   "execution_count": 36,
   "metadata": {},
   "outputs": [
    {
     "data": {
      "text/html": [
       "<ol class=list-inline>\n",
       "\t<li>'ENSG00000001460_STPG1'</li>\n",
       "\t<li>'ENSG00000004059_ARF5'</li>\n",
       "\t<li>'ENSG00000005882_PDK2'</li>\n",
       "\t<li>'ENSG00000006016_CRLF1'</li>\n",
       "\t<li>'ENSG00000006282_SPATA20'</li>\n",
       "\t<li>'ENSG00000008838_MED24'</li>\n",
       "</ol>\n"
      ],
      "text/latex": [
       "\\begin{enumerate*}\n",
       "\\item 'ENSG00000001460\\_STPG1'\n",
       "\\item 'ENSG00000004059\\_ARF5'\n",
       "\\item 'ENSG00000005882\\_PDK2'\n",
       "\\item 'ENSG00000006016\\_CRLF1'\n",
       "\\item 'ENSG00000006282\\_SPATA20'\n",
       "\\item 'ENSG00000008838\\_MED24'\n",
       "\\end{enumerate*}\n"
      ],
      "text/markdown": [
       "1. 'ENSG00000001460_STPG1'\n",
       "2. 'ENSG00000004059_ARF5'\n",
       "3. 'ENSG00000005882_PDK2'\n",
       "4. 'ENSG00000006016_CRLF1'\n",
       "5. 'ENSG00000006282_SPATA20'\n",
       "6. 'ENSG00000008838_MED24'\n",
       "\n",
       "\n"
      ],
      "text/plain": [
       "[1] \"ENSG00000001460_STPG1\"   \"ENSG00000004059_ARF5\"   \n",
       "[3] \"ENSG00000005882_PDK2\"    \"ENSG00000006016_CRLF1\"  \n",
       "[5] \"ENSG00000006282_SPATA20\" \"ENSG00000008838_MED24\"  "
      ]
     },
     "metadata": {},
     "output_type": "display_data"
    }
   ],
   "source": [
    "inter_mat = read.table(\"/hps/nobackup/stegle/users/acuomo/all_scripts/sc_neuroseq/eqtl/interaction_qtl/egenes/maturation_excluding_ROT_cells/DA_FDR0.1.tsv\",header = T)\n",
    "inter_egenes = as.character(inter_mat$combined_feature_id)\n",
    "# head(inter_egenes)\n",
    "inter_mat = read.table(\"/hps/nobackup/stegle/users/acuomo/all_scripts/sc_neuroseq/eqtl/interaction_qtl/egenes/maturation_excluding_ROT_cells/Sert_FDR0.1.tsv\",header = T)\n",
    "inter_egenes = unique(c(inter_egenes,as.character(inter_mat$combined_feature_id)))\n",
    "inter_mat = read.table(\"/hps/nobackup/stegle/users/acuomo/all_scripts/sc_neuroseq/eqtl/interaction_qtl/egenes/maturation_excluding_ROT_cells/Epen1_FDR0.1.tsv\",header = T)\n",
    "inter_egenes = unique(c(inter_egenes,as.character(inter_mat$combined_feature_id)))\n",
    "inter_mat = read.table(\"/hps/nobackup/stegle/users/acuomo/all_scripts/sc_neuroseq/eqtl/interaction_qtl/egenes/maturation_excluding_ROT_cells/Astro_FDR0.1.tsv\",header = T)\n",
    "inter_egenes = unique(c(inter_egenes,as.character(inter_mat$combined_feature_id)))\n",
    "head(inter_egenes)"
   ]
  },
  {
   "cell_type": "code",
   "execution_count": 52,
   "metadata": {},
   "outputs": [
    {
     "data": {
      "text/html": [
       "<ol class=list-inline>\n",
       "\t<li>'ENSG00000006016_CRLF1'</li>\n",
       "\t<li>'ENSG00000006282_SPATA20'</li>\n",
       "\t<li>'ENSG00000010219_DYRK4'</li>\n",
       "\t<li>'ENSG00000021300_PLEKHB1'</li>\n",
       "\t<li>'ENSG00000023330_ALAS1'</li>\n",
       "\t<li>'ENSG00000028203_VEZT'</li>\n",
       "</ol>\n"
      ],
      "text/latex": [
       "\\begin{enumerate*}\n",
       "\\item 'ENSG00000006016\\_CRLF1'\n",
       "\\item 'ENSG00000006282\\_SPATA20'\n",
       "\\item 'ENSG00000010219\\_DYRK4'\n",
       "\\item 'ENSG00000021300\\_PLEKHB1'\n",
       "\\item 'ENSG00000023330\\_ALAS1'\n",
       "\\item 'ENSG00000028203\\_VEZT'\n",
       "\\end{enumerate*}\n"
      ],
      "text/markdown": [
       "1. 'ENSG00000006016_CRLF1'\n",
       "2. 'ENSG00000006282_SPATA20'\n",
       "3. 'ENSG00000010219_DYRK4'\n",
       "4. 'ENSG00000021300_PLEKHB1'\n",
       "5. 'ENSG00000023330_ALAS1'\n",
       "6. 'ENSG00000028203_VEZT'\n",
       "\n",
       "\n"
      ],
      "text/plain": [
       "[1] \"ENSG00000006016_CRLF1\"   \"ENSG00000006282_SPATA20\"\n",
       "[3] \"ENSG00000010219_DYRK4\"   \"ENSG00000021300_PLEKHB1\"\n",
       "[5] \"ENSG00000023330_ALAS1\"   \"ENSG00000028203_VEZT\"   "
      ]
     },
     "metadata": {},
     "output_type": "display_data"
    }
   ],
   "source": [
    "inter_mat = read.table(\"/hps/nobackup/stegle/users/acuomo/all_scripts/sc_neuroseq/eqtl/interaction_qtl/egenes/maturation_excluding_ROT_cells/DA_FDR0.05.tsv\",header = T)\n",
    "inter_egenes = as.character(inter_mat$combined_feature_id)\n",
    "# head(inter_egenes)\n",
    "inter_mat = read.table(\"/hps/nobackup/stegle/users/acuomo/all_scripts/sc_neuroseq/eqtl/interaction_qtl/egenes/maturation_excluding_ROT_cells/Sert_FDR0.05.tsv\",header = T)\n",
    "inter_egenes = unique(c(inter_egenes,as.character(inter_mat$combined_feature_id)))\n",
    "inter_mat = read.table(\"/hps/nobackup/stegle/users/acuomo/all_scripts/sc_neuroseq/eqtl/interaction_qtl/egenes/maturation_excluding_ROT_cells/Epen1_FDR0.05.tsv\",header = T)\n",
    "inter_egenes = unique(c(inter_egenes,as.character(inter_mat$combined_feature_id)))\n",
    "inter_mat = read.table(\"/hps/nobackup/stegle/users/acuomo/all_scripts/sc_neuroseq/eqtl/interaction_qtl/egenes/maturation_excluding_ROT_cells/Astro_FDR0.05.tsv\",header = T)\n",
    "inter_egenes = unique(c(inter_egenes,as.character(inter_mat$combined_feature_id)))\n",
    "head(inter_egenes)"
   ]
  },
  {
   "cell_type": "code",
   "execution_count": 53,
   "metadata": {},
   "outputs": [],
   "source": [
    "interaction_qtl <- c(length(egenes[[\"FPP_D11\"]][egenes[[\"FPP_D11\"]] %in% gsub(\"_.*\",\"\",inter_egenes)]),\n",
    "length(egenes[[\"P_FPP_D11\"]][egenes[[\"P_FPP_D11\"]] %in% gsub(\"_.*\",\"\",inter_egenes)]),\n",
    "\n",
    "length(egenes[[\"DA_D30\"]][egenes[[\"DA_D30\"]] %in% gsub(\"_.*\",\"\",inter_egenes)]),\n",
    "length(egenes[[\"Sert_D30\"]][egenes[[\"Sert_D30\"]] %in% gsub(\"_.*\",\"\",inter_egenes)]),\n",
    "length(egenes[[\"Epen1_D30\"]][egenes[[\"Epen1_D30\"]] %in% gsub(\"_.*\",\"\",inter_egenes)]),\n",
    "length(egenes[[\"Astro_D30\"]][egenes[[\"Astro_D30\"]] %in% gsub(\"_.*\",\"\",inter_egenes)]),\n",
    "\n",
    "length(egenes[[\"DA_NONE_D52\"]][egenes[[\"DA_NONE_D52\"]] %in% gsub(\"_.*\",\"\",inter_egenes)]),\n",
    "length(egenes[[\"Sert_NONE_D52\"]][egenes[[\"Sert_NONE_D52\"]] %in% gsub(\"_.*\",\"\",inter_egenes)]),\n",
    "length(egenes[[\"Epen1_NONE_D52\"]][egenes[[\"Epen1_NONE_D52\"]] %in% gsub(\"_.*\",\"\",inter_egenes)]),\n",
    "length(egenes[[\"Astro_NONE_D52\"]][egenes[[\"Astro_NONE_D52\"]] %in% gsub(\"_.*\",\"\",inter_egenes)]),\n",
    "\n",
    "length(egenes[[\"DA_ROT_D52\"]][egenes[[\"DA_ROT_D52\"]] %in% gsub(\"_.*\",\"\",inter_egenes)]),\n",
    "length(egenes[[\"Sert_ROT_D52\"]][egenes[[\"Sert_ROT_D52\"]] %in% gsub(\"_.*\",\"\",inter_egenes)]),\n",
    "length(egenes[[\"Epen1_ROT_D52\"]][egenes[[\"Epen1_ROT_D52\"]] %in% gsub(\"_.*\",\"\",inter_egenes)]),\n",
    "length(egenes[[\"Astro_ROT_D52\"]][egenes[[\"Astro_ROT_D52\"]] %in% gsub(\"_.*\",\"\",inter_egenes)]))"
   ]
  },
  {
   "cell_type": "code",
   "execution_count": 54,
   "metadata": {},
   "outputs": [
    {
     "data": {
      "image/png": "[encoded data removed]",
      "text/plain": [
       "plot without title"
      ]
     },
     "metadata": {},
     "output_type": "display_data"
    }
   ],
   "source": [
    "col_FPP = \"#aec7e8\"\n",
    "col_P_FPP = \"#1f77b4\"\n",
    "\n",
    "col_DA = \"#2ca02c\"\n",
    "col_Sert = \"#98df8a\"\n",
    "col_Epen1 = \"#ff9896\"\n",
    "col_Astro = \"#d62728\"\n",
    "\n",
    "options(repr.plot.width = 6, repr.plot.height = 4)\n",
    "my.xlim = c(0, 1810)\n",
    "my.ylim = c(0,15)\n",
    "my.space = c(0, 0.1, 0.5, 0.1, 0.1, 0.1, 0.5, 0.1, 0.1,0.1, 0.5, 0.1, 0.1,0.1)\n",
    "\n",
    "opar <- par(lwd = 2.5)\n",
    "barplot(as.numeric(eqtls), \n",
    "#         border = c(col_ips,col_mesendo,col_day1,col_defendo,col_day3),\n",
    "        col = \"white\",\n",
    "        border = c(col_FPP, col_P_FPP,\n",
    "                col_DA, col_Sert, col_Epen1, col_Astro,\n",
    "                col_DA, col_Sert, col_Epen1, col_Astro,\n",
    "                col_DA, col_Sert, col_Epen1, col_Astro),\n",
    "        xlab = \"celltype\", ylab = \"# eGenes at FDR 5%\",\n",
    "        xlim = my.ylim, ylim = my.xlim, space = my.space)#, \n",
    "#         width = 0.5, xlab = \"% eQTLs overlapping H3K27ac\", horiz = TRUE, las = 1)\n",
    "\n",
    "barplot(interaction_qtl, \n",
    "#         border = c(col_ips,col_mesendo,col_day1,col_defendo,col_day3),\n",
    "        col = \"lightgrey\",\n",
    "        border = c(col_FPP, col_P_FPP,\n",
    "                col_DA, col_Sert, col_Epen1, col_Astro,\n",
    "                col_DA, col_Sert, col_Epen1, col_Astro,\n",
    "                col_DA, col_Sert, col_Epen1, col_Astro),\n",
    "        xlim = my.ylim, ylim = my.xlim, space = my.space, ylab = \"\", add = T)\n"
   ]
  },
  {
   "cell_type": "code",
   "execution_count": 55,
   "metadata": {},
   "outputs": [
    {
     "data": {
      "image/png": "[encoded data removed]",
      "text/plain": [
       "plot without title"
      ]
     },
     "metadata": {},
     "output_type": "display_data"
    }
   ],
   "source": [
    "col_FPP = \"#aec7e8\"\n",
    "col_P_FPP = \"#1f77b4\"\n",
    "\n",
    "col_DA = \"#2ca02c\"\n",
    "col_Sert = \"#98df8a\"\n",
    "col_Epen1 = \"#ff9896\"\n",
    "col_Astro = \"#d62728\"\n",
    "\n",
    "options(repr.plot.width = 6, repr.plot.height = 4)\n",
    "my.xlim = c(0, 1810)\n",
    "my.ylim = c(0,15)\n",
    "my.space = c(0, 0.1, 0.5, 0.1, 0.1, 0.1, 0.5, 0.1, 0.1,0.1, 0.5, 0.1, 0.1,0.1)\n",
    "\n",
    "opar <- par(lwd = 2.5)\n",
    "barplot(as.numeric(eqtls), \n",
    "#         border = c(col_ips,col_mesendo,col_day1,col_defendo,col_day3),\n",
    "        col = \"white\",\n",
    "        border = c(col_FPP, col_P_FPP,\n",
    "                col_DA, col_Sert, col_Epen1, col_Astro,\n",
    "                col_DA, col_Sert, col_Epen1, col_Astro,\n",
    "                col_DA, col_Sert, col_Epen1, col_Astro),\n",
    "        xlab = \"celltype\", ylab = \"# eGenes at FDR 5%\",\n",
    "        xlim = my.ylim, ylim = my.xlim, space = my.space)#, \n",
    "#         width = 0.5, xlab = \"% eQTLs overlapping H3K27ac\", horiz = TRUE, las = 1)\n",
    "\n",
    "barplot(interaction_qtl, \n",
    "#         border = c(col_ips,col_mesendo,col_day1,col_defendo,col_day3),\n",
    "        col = \"darkgrey\",\n",
    "        border = c(col_FPP, col_P_FPP,\n",
    "                col_DA, col_Sert, col_Epen1, col_Astro,\n",
    "                col_DA, col_Sert, col_Epen1, col_Astro,\n",
    "                col_DA, col_Sert, col_Epen1, col_Astro),\n",
    "        xlim = my.ylim, ylim = my.xlim, space = my.space, ylab = \"\", add = T)\n"
   ]
  },
  {
   "cell_type": "code",
   "execution_count": null,
   "metadata": {},
   "outputs": [],
   "source": [
    "##### how many eqtl (egenes) are shared across cell types"
   ]
  },
  {
   "cell_type": "code",
   "execution_count": 59,
   "metadata": {},
   "outputs": [
    {
     "data": {
      "text/html": [
       "<ol class=list-inline>\n",
       "\t<li>'Astro_D30'</li>\n",
       "\t<li>'Astro_D52'</li>\n",
       "\t<li>'Astro_NONE_D52'</li>\n",
       "\t<li>'Astro_ROT_D52'</li>\n",
       "\t<li>'DA_D30'</li>\n",
       "\t<li>'DA_D52'</li>\n",
       "\t<li>'DA_NONE_D52'</li>\n",
       "\t<li>'DA_ROT_D52'</li>\n",
       "\t<li>'Epen1_D30'</li>\n",
       "\t<li>'Epen1_D52'</li>\n",
       "\t<li>'Epen1_NONE_D52'</li>\n",
       "\t<li>'Epen1_ROT_D52'</li>\n",
       "\t<li>'FPP_D11'</li>\n",
       "\t<li>'P_FPP_D11'</li>\n",
       "\t<li>'Sert_D30'</li>\n",
       "\t<li>'Sert_D52'</li>\n",
       "\t<li>'Sert_NONE_D52'</li>\n",
       "\t<li>'Sert_ROT_D52'</li>\n",
       "</ol>\n"
      ],
      "text/latex": [
       "\\begin{enumerate*}\n",
       "\\item 'Astro\\_D30'\n",
       "\\item 'Astro\\_D52'\n",
       "\\item 'Astro\\_NONE\\_D52'\n",
       "\\item 'Astro\\_ROT\\_D52'\n",
       "\\item 'DA\\_D30'\n",
       "\\item 'DA\\_D52'\n",
       "\\item 'DA\\_NONE\\_D52'\n",
       "\\item 'DA\\_ROT\\_D52'\n",
       "\\item 'Epen1\\_D30'\n",
       "\\item 'Epen1\\_D52'\n",
       "\\item 'Epen1\\_NONE\\_D52'\n",
       "\\item 'Epen1\\_ROT\\_D52'\n",
       "\\item 'FPP\\_D11'\n",
       "\\item 'P\\_FPP\\_D11'\n",
       "\\item 'Sert\\_D30'\n",
       "\\item 'Sert\\_D52'\n",
       "\\item 'Sert\\_NONE\\_D52'\n",
       "\\item 'Sert\\_ROT\\_D52'\n",
       "\\end{enumerate*}\n"
      ],
      "text/markdown": [
       "1. 'Astro_D30'\n",
       "2. 'Astro_D52'\n",
       "3. 'Astro_NONE_D52'\n",
       "4. 'Astro_ROT_D52'\n",
       "5. 'DA_D30'\n",
       "6. 'DA_D52'\n",
       "7. 'DA_NONE_D52'\n",
       "8. 'DA_ROT_D52'\n",
       "9. 'Epen1_D30'\n",
       "10. 'Epen1_D52'\n",
       "11. 'Epen1_NONE_D52'\n",
       "12. 'Epen1_ROT_D52'\n",
       "13. 'FPP_D11'\n",
       "14. 'P_FPP_D11'\n",
       "15. 'Sert_D30'\n",
       "16. 'Sert_D52'\n",
       "17. 'Sert_NONE_D52'\n",
       "18. 'Sert_ROT_D52'\n",
       "\n",
       "\n"
      ],
      "text/plain": [
       " [1] \"Astro_D30\"      \"Astro_D52\"      \"Astro_NONE_D52\" \"Astro_ROT_D52\" \n",
       " [5] \"DA_D30\"         \"DA_D52\"         \"DA_NONE_D52\"    \"DA_ROT_D52\"    \n",
       " [9] \"Epen1_D30\"      \"Epen1_D52\"      \"Epen1_NONE_D52\" \"Epen1_ROT_D52\" \n",
       "[13] \"FPP_D11\"        \"P_FPP_D11\"      \"Sert_D30\"       \"Sert_D52\"      \n",
       "[17] \"Sert_NONE_D52\"  \"Sert_ROT_D52\"  "
      ]
     },
     "metadata": {},
     "output_type": "display_data"
    },
    {
     "data": {
      "text/html": [
       "<ol class=list-inline>\n",
       "\t<li>'Astro_D30'</li>\n",
       "\t<li>'Astro_NONE_D52'</li>\n",
       "\t<li>'Astro_ROT_D52'</li>\n",
       "\t<li>'DA_D30'</li>\n",
       "\t<li>'DA_NONE_D52'</li>\n",
       "\t<li>'DA_ROT_D52'</li>\n",
       "\t<li>'Epen1_D30'</li>\n",
       "\t<li>'Epen1_NONE_D52'</li>\n",
       "\t<li>'Epen1_ROT_D52'</li>\n",
       "\t<li>'FPP_D11'</li>\n",
       "\t<li>'P_FPP_D11'</li>\n",
       "\t<li>'Sert_D30'</li>\n",
       "\t<li>'Sert_NONE_D52'</li>\n",
       "\t<li>'Sert_ROT_D52'</li>\n",
       "</ol>\n"
      ],
      "text/latex": [
       "\\begin{enumerate*}\n",
       "\\item 'Astro\\_D30'\n",
       "\\item 'Astro\\_NONE\\_D52'\n",
       "\\item 'Astro\\_ROT\\_D52'\n",
       "\\item 'DA\\_D30'\n",
       "\\item 'DA\\_NONE\\_D52'\n",
       "\\item 'DA\\_ROT\\_D52'\n",
       "\\item 'Epen1\\_D30'\n",
       "\\item 'Epen1\\_NONE\\_D52'\n",
       "\\item 'Epen1\\_ROT\\_D52'\n",
       "\\item 'FPP\\_D11'\n",
       "\\item 'P\\_FPP\\_D11'\n",
       "\\item 'Sert\\_D30'\n",
       "\\item 'Sert\\_NONE\\_D52'\n",
       "\\item 'Sert\\_ROT\\_D52'\n",
       "\\end{enumerate*}\n"
      ],
      "text/markdown": [
       "1. 'Astro_D30'\n",
       "2. 'Astro_NONE_D52'\n",
       "3. 'Astro_ROT_D52'\n",
       "4. 'DA_D30'\n",
       "5. 'DA_NONE_D52'\n",
       "6. 'DA_ROT_D52'\n",
       "7. 'Epen1_D30'\n",
       "8. 'Epen1_NONE_D52'\n",
       "9. 'Epen1_ROT_D52'\n",
       "10. 'FPP_D11'\n",
       "11. 'P_FPP_D11'\n",
       "12. 'Sert_D30'\n",
       "13. 'Sert_NONE_D52'\n",
       "14. 'Sert_ROT_D52'\n",
       "\n",
       "\n"
      ],
      "text/plain": [
       " [1] \"Astro_D30\"      \"Astro_NONE_D52\" \"Astro_ROT_D52\"  \"DA_D30\"        \n",
       " [5] \"DA_NONE_D52\"    \"DA_ROT_D52\"     \"Epen1_D30\"      \"Epen1_NONE_D52\"\n",
       " [9] \"Epen1_ROT_D52\"  \"FPP_D11\"        \"P_FPP_D11\"      \"Sert_D30\"      \n",
       "[13] \"Sert_NONE_D52\"  \"Sert_ROT_D52\"  "
      ]
     },
     "metadata": {},
     "output_type": "display_data"
    }
   ],
   "source": [
    "relevant_celltypes <- keys(egenes)\n",
    "relevant_celltypes\n",
    "relevant_celltypes = relevant_celltypes[!(relevant_celltypes %in% c('DA_D52','Sert_D52','Epen1_D52','Astro_D52'))]\n",
    "relevant_celltypes"
   ]
  },
  {
   "cell_type": "code",
   "execution_count": 70,
   "metadata": {},
   "outputs": [
    {
     "data": {
      "text/html": [
       "14"
      ],
      "text/latex": [
       "14"
      ],
      "text/markdown": [
       "14"
      ],
      "text/plain": [
       "[1] 14"
      ]
     },
     "metadata": {},
     "output_type": "display_data"
    }
   ],
   "source": [
    "relevant_celltypes <- c('FPP_D11','P_FPP_D11',\n",
    "                        'DA_D30','Sert_D30','Epen1_D30','Astro_D30',\n",
    "                        'DA_NONE_D52','Sert_NONE_D52','Epen1_NONE_D52','Astro_NONE_D52',\n",
    "                        'DA_ROT_D52','Sert_ROT_D52','Epen1_ROT_D52','Astro_ROT_D52')\n",
    "length(relevant_celltypes)"
   ]
  },
  {
   "cell_type": "code",
   "execution_count": 71,
   "metadata": {},
   "outputs": [],
   "source": [
    "eqtls_unique <- c(0,0,0,0,0,0,0,0,0,0,0,0,0,0)\n",
    "eqtls_shared_max2 <- c(0,0,0,0,0,0,0,0,0,0,0,0,0,0)\n",
    "eqtls_shared_atleast3 <- c(0,0,0,0,0,0,0,0,0,0,0,0,0,0)\n",
    "\n",
    "for (i in 1:length(relevant_celltypes)){\n",
    "# for (i in 1){\n",
    "    celltype = relevant_celltypes[i]\n",
    "    egs = egenes[[celltype]]\n",
    "    for (gene in egs){\n",
    "#         print(gene)\n",
    "        n = 0\n",
    "        for (ct in relevant_celltypes){\n",
    "            if (gene %in% egenes[[ct]]){\n",
    "                n = n+1\n",
    "            }\n",
    "        }\n",
    "        if (n == 1){eqtls_unique[i] = eqtls_unique[i]+1}\n",
    "        if (n > 1 && n <= 3){eqtls_shared_max2[i] = eqtls_shared_max2[i]+1}\n",
    "        if (n > 3){eqtls_shared_atleast3[i] = eqtls_shared_atleast3[i]+1}\n",
    "    }\n",
    "}"
   ]
  },
  {
   "cell_type": "code",
   "execution_count": 72,
   "metadata": {},
   "outputs": [
    {
     "data": {
      "text/html": [
       "<ol class=list-inline>\n",
       "\t<li>1781</li>\n",
       "\t<li>1799</li>\n",
       "\t<li>672</li>\n",
       "\t<li>545</li>\n",
       "\t<li>621</li>\n",
       "\t<li>617</li>\n",
       "\t<li>698</li>\n",
       "\t<li>778</li>\n",
       "\t<li>745</li>\n",
       "\t<li>111</li>\n",
       "\t<li>304</li>\n",
       "\t<li>611</li>\n",
       "\t<li>575</li>\n",
       "\t<li>88</li>\n",
       "</ol>\n"
      ],
      "text/latex": [
       "\\begin{enumerate*}\n",
       "\\item 1781\n",
       "\\item 1799\n",
       "\\item 672\n",
       "\\item 545\n",
       "\\item 621\n",
       "\\item 617\n",
       "\\item 698\n",
       "\\item 778\n",
       "\\item 745\n",
       "\\item 111\n",
       "\\item 304\n",
       "\\item 611\n",
       "\\item 575\n",
       "\\item 88\n",
       "\\end{enumerate*}\n"
      ],
      "text/markdown": [
       "1. 1781\n",
       "2. 1799\n",
       "3. 672\n",
       "4. 545\n",
       "5. 621\n",
       "6. 617\n",
       "7. 698\n",
       "8. 778\n",
       "9. 745\n",
       "10. 111\n",
       "11. 304\n",
       "12. 611\n",
       "13. 575\n",
       "14. 88\n",
       "\n",
       "\n"
      ],
      "text/plain": [
       " [1] 1781 1799  672  545  621  617  698  778  745  111  304  611  575   88"
      ]
     },
     "metadata": {},
     "output_type": "display_data"
    },
    {
     "data": {
      "text/html": [
       "<ol class=list-inline>\n",
       "\t<li>1781</li>\n",
       "\t<li>1799</li>\n",
       "\t<li>672</li>\n",
       "\t<li>545</li>\n",
       "\t<li>621</li>\n",
       "\t<li>617</li>\n",
       "\t<li>698</li>\n",
       "\t<li>778</li>\n",
       "\t<li>745</li>\n",
       "\t<li>111</li>\n",
       "\t<li>304</li>\n",
       "\t<li>611</li>\n",
       "\t<li>575</li>\n",
       "\t<li>88</li>\n",
       "</ol>\n"
      ],
      "text/latex": [
       "\\begin{enumerate*}\n",
       "\\item 1781\n",
       "\\item 1799\n",
       "\\item 672\n",
       "\\item 545\n",
       "\\item 621\n",
       "\\item 617\n",
       "\\item 698\n",
       "\\item 778\n",
       "\\item 745\n",
       "\\item 111\n",
       "\\item 304\n",
       "\\item 611\n",
       "\\item 575\n",
       "\\item 88\n",
       "\\end{enumerate*}\n"
      ],
      "text/markdown": [
       "1. 1781\n",
       "2. 1799\n",
       "3. 672\n",
       "4. 545\n",
       "5. 621\n",
       "6. 617\n",
       "7. 698\n",
       "8. 778\n",
       "9. 745\n",
       "10. 111\n",
       "11. 304\n",
       "12. 611\n",
       "13. 575\n",
       "14. 88\n",
       "\n",
       "\n"
      ],
      "text/plain": [
       " [1] 1781 1799  672  545  621  617  698  778  745  111  304  611  575   88"
      ]
     },
     "metadata": {},
     "output_type": "display_data"
    }
   ],
   "source": [
    "eqtls_unique + eqtls_shared_max2 + eqtls_shared_atleast3\n",
    "eqtls"
   ]
  },
  {
   "cell_type": "code",
   "execution_count": 76,
   "metadata": {},
   "outputs": [
    {
     "data": {
      "image/png": "[encoded data removed]",
      "text/plain": [
       "plot without title"
      ]
     },
     "metadata": {},
     "output_type": "display_data"
    }
   ],
   "source": [
    "options(repr.plot.width = 8, repr.plot.height = 5)\n",
    "my.xlim = c(0, 1810)\n",
    "my.ylim = c(0,18)\n",
    "my.space = c(0, 0.1, 0.5, 0.1, 0.1, 0.1, 0.5, 0.1, 0.1,0.1, 0.5, 0.1, 0.1,0.1)\n",
    "\n",
    "opar <- par(lwd = 2)\n",
    "barplot(as.numeric(eqtls), \n",
    "#         border = c(col_ips,col_mesendo,col_day1,col_defendo,col_day3),\n",
    "        col = \"white\",\n",
    "        border = c(col_FPP, col_P_FPP,\n",
    "                col_DA, col_Sert, col_Epen1, col_Astro,\n",
    "                col_DA, col_Sert, col_Epen1, col_Astro,\n",
    "                col_DA, col_Sert, col_Epen1, col_Astro),\n",
    "        xlab = \"celltype\", ylab = \"# eGenes at FDR 5%\",\n",
    "        xlim = my.ylim, ylim = my.xlim, space = my.space)#, \n",
    "#         width = 0.5, xlab = \"% eQTLs overlapping H3K27ac\", horiz = TRUE, las = 1)\n",
    "\n",
    "barplot(eqtls_shared_max2+eqtls_shared_atleast3, \n",
    "#         border = c(col_ips,col_mesendo,col_day1,col_defendo,col_day3),\n",
    "        col = \"lightgrey\",\n",
    "        border = c(col_FPP, col_P_FPP,\n",
    "                col_DA, col_Sert, col_Epen1, col_Astro,\n",
    "                col_DA, col_Sert, col_Epen1, col_Astro,\n",
    "                col_DA, col_Sert, col_Epen1, col_Astro),\n",
    "        xlim = my.ylim, ylim = my.xlim, space = my.space, ylab = \"\", add = T)\n",
    "\n",
    "barplot(eqtls_shared_atleast3, \n",
    "#         border = c(col_ips,col_mesendo,col_day1,col_defendo,col_day3),\n",
    "        col = \"darkgrey\",\n",
    "        border = c(col_FPP, col_P_FPP,\n",
    "                col_DA, col_Sert, col_Epen1, col_Astro,\n",
    "                col_DA, col_Sert, col_Epen1, col_Astro,\n",
    "                col_DA, col_Sert, col_Epen1, col_Astro),\n",
    "        xlim = my.ylim, ylim = my.xlim, space = my.space, ylab = \"\", add = T)"
   ]
  },
  {
   "cell_type": "code",
   "execution_count": null,
   "metadata": {},
   "outputs": [],
   "source": []
  }
 ],
 "metadata": {
  "kernelspec": {
   "display_name": "R",
   "language": "R",
   "name": "ir"
  },
  "language_info": {
   "codemirror_mode": "r",
   "file_extension": ".r",
   "mimetype": "text/x-r-source",
   "name": "R",
   "pygments_lexer": "r",
   "version": "3.6.1"
  }
 },
 "nbformat": 4,
 "nbformat_minor": 2
}
