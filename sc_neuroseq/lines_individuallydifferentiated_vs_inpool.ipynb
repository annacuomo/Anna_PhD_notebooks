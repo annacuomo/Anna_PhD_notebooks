{
 "cells": [
  {
   "cell_type": "code",
   "execution_count": 1,
   "metadata": {},
   "outputs": [],
   "source": [
    "dir = \"/nfs/leia/research/stegle/dseaton/hipsci/singlecell_neuroseq/data/metadata\""
   ]
  },
  {
   "cell_type": "code",
   "execution_count": 20,
   "metadata": {},
   "outputs": [
    {
     "data": {
      "text/html": [
       "<table>\n",
       "<caption>A data.frame: 2 × 3</caption>\n",
       "<thead>\n",
       "\t<tr><th scope=col>pool_id</th><th scope=col>cell_line_id</th><th scope=col>cell_line_id_long</th></tr>\n",
       "\t<tr><th scope=col>&lt;chr&gt;</th><th scope=col>&lt;chr&gt;</th><th scope=col>&lt;chr&gt;</th></tr>\n",
       "</thead>\n",
       "<tbody>\n",
       "\t<tr><td>eipl_podx</td><td>eipl_1</td><td>HPSI0114i-eipl_1</td></tr>\n",
       "\t<tr><td>eipl_podx</td><td>podx_1</td><td>HPSI1113i-podx_1</td></tr>\n",
       "</tbody>\n",
       "</table>\n"
      ],
      "text/latex": [
       "A data.frame: 2 × 3\n",
       "\\begin{tabular}{r|lll}\n",
       " pool\\_id & cell\\_line\\_id & cell\\_line\\_id\\_long\\\\\n",
       " <chr> & <chr> & <chr>\\\\\n",
       "\\hline\n",
       "\t eipl\\_podx & eipl\\_1 & HPSI0114i-eipl\\_1\\\\\n",
       "\t eipl\\_podx & podx\\_1 & HPSI1113i-podx\\_1\\\\\n",
       "\\end{tabular}\n"
      ],
      "text/markdown": [
       "\n",
       "A data.frame: 2 × 3\n",
       "\n",
       "| pool_id &lt;chr&gt; | cell_line_id &lt;chr&gt; | cell_line_id_long &lt;chr&gt; |\n",
       "|---|---|---|\n",
       "| eipl_podx | eipl_1 | HPSI0114i-eipl_1 |\n",
       "| eipl_podx | podx_1 | HPSI1113i-podx_1 |\n",
       "\n"
      ],
      "text/plain": [
       "  pool_id   cell_line_id cell_line_id_long\n",
       "1 eipl_podx eipl_1       HPSI0114i-eipl_1 \n",
       "2 eipl_podx podx_1       HPSI1113i-podx_1 "
      ]
     },
     "metadata": {},
     "output_type": "display_data"
    }
   ],
   "source": [
    "myfilename = paste0(dir, \"/pool_tracking.tsv\")\n",
    "myfile = read.csv(myfilename, sep = \"\\t\")\n",
    "head(myfile,2)"
   ]
  },
  {
   "cell_type": "code",
   "execution_count": null,
   "metadata": {},
   "outputs": [],
   "source": [
    "#### these are not actual pools, but lines that were differentiated individually"
   ]
  },
  {
   "cell_type": "code",
   "execution_count": null,
   "metadata": {},
   "outputs": [],
   "source": [
    "## two at the time were then sequenced on the same 10x lane, but the differentiations were separate"
   ]
  },
  {
   "cell_type": "code",
   "execution_count": 28,
   "metadata": {},
   "outputs": [
    {
     "data": {
      "text/html": [
       "<ol class=list-inline>\n",
       "\t<li>'eipl_podx'</li>\n",
       "\t<li>'uenn_hecn'</li>\n",
       "\t<li>'pelm_meue'</li>\n",
       "</ol>\n"
      ],
      "text/latex": [
       "\\begin{enumerate*}\n",
       "\\item 'eipl\\_podx'\n",
       "\\item 'uenn\\_hecn'\n",
       "\\item 'pelm\\_meue'\n",
       "\\end{enumerate*}\n"
      ],
      "text/markdown": [
       "1. 'eipl_podx'\n",
       "2. 'uenn_hecn'\n",
       "3. 'pelm_meue'\n",
       "\n",
       "\n"
      ],
      "text/plain": [
       "[1] \"eipl_podx\" \"uenn_hecn\" \"pelm_meue\""
      ]
     },
     "metadata": {},
     "output_type": "display_data"
    }
   ],
   "source": [
    "allpools = unique(myfile$pool_id)\n",
    "pools = allpools[grep(\"pool\",allpools)]\n",
    "indiv = allpools[!(allpools %in% pools)]\n",
    "indiv"
   ]
  },
  {
   "cell_type": "code",
   "execution_count": null,
   "metadata": {},
   "outputs": [],
   "source": [
    "### extract which lines were differentiated individually"
   ]
  },
  {
   "cell_type": "code",
   "execution_count": 30,
   "metadata": {},
   "outputs": [
    {
     "data": {
      "text/html": [
       "<ol class=list-inline>\n",
       "\t<li>'eipl_1'</li>\n",
       "\t<li>'podx_1'</li>\n",
       "\t<li>'uenn_3'</li>\n",
       "\t<li>'hecn_6'</li>\n",
       "\t<li>'pelm_3'</li>\n",
       "\t<li>'meue_5'</li>\n",
       "</ol>\n"
      ],
      "text/latex": [
       "\\begin{enumerate*}\n",
       "\\item 'eipl\\_1'\n",
       "\\item 'podx\\_1'\n",
       "\\item 'uenn\\_3'\n",
       "\\item 'hecn\\_6'\n",
       "\\item 'pelm\\_3'\n",
       "\\item 'meue\\_5'\n",
       "\\end{enumerate*}\n"
      ],
      "text/markdown": [
       "1. 'eipl_1'\n",
       "2. 'podx_1'\n",
       "3. 'uenn_3'\n",
       "4. 'hecn_6'\n",
       "5. 'pelm_3'\n",
       "6. 'meue_5'\n",
       "\n",
       "\n"
      ],
      "text/plain": [
       "[1] \"eipl_1\" \"podx_1\" \"uenn_3\" \"hecn_6\" \"pelm_3\" \"meue_5\""
      ]
     },
     "metadata": {},
     "output_type": "display_data"
    }
   ],
   "source": [
    "indiv_lines = unique(myfile[myfile$pool_id %in% indiv,\"cell_line_id\"])\n",
    "indiv_lines"
   ]
  },
  {
   "cell_type": "code",
   "execution_count": null,
   "metadata": {},
   "outputs": [],
   "source": [
    "## as a comparison, those same lines were also used in the pools"
   ]
  },
  {
   "cell_type": "code",
   "execution_count": null,
   "metadata": {},
   "outputs": [],
   "source": [
    "## find which pools"
   ]
  },
  {
   "cell_type": "code",
   "execution_count": 39,
   "metadata": {},
   "outputs": [],
   "source": [
    "allpools_with_lines = unique(myfile[myfile$cell_line_id %in% indiv_lines,\"pool_id\"]) \n",
    "real_pools_with_lines = allpools_with_lines[allpools_with_lines != indiv]"
   ]
  },
  {
   "cell_type": "code",
   "execution_count": 41,
   "metadata": {},
   "outputs": [],
   "source": [
    "### find other cell lines contained in those pools"
   ]
  },
  {
   "cell_type": "code",
   "execution_count": 59,
   "metadata": {},
   "outputs": [
    {
     "data": {
      "text/html": [
       "<ol class=list-inline>\n",
       "\t<li>'HPSI0714i-pipw_4'</li>\n",
       "\t<li>'HPSI1014i-quls_2'</li>\n",
       "\t<li>'HPSI0314i-sojd_3'</li>\n",
       "\t<li>'HPSI0414i-sebn_3'</li>\n",
       "\t<li>'HPSI0914i-vaka_5'</li>\n",
       "</ol>\n"
      ],
      "text/latex": [
       "\\begin{enumerate*}\n",
       "\\item 'HPSI0714i-pipw\\_4'\n",
       "\\item 'HPSI1014i-quls\\_2'\n",
       "\\item 'HPSI0314i-sojd\\_3'\n",
       "\\item 'HPSI0414i-sebn\\_3'\n",
       "\\item 'HPSI0914i-vaka\\_5'\n",
       "\\end{enumerate*}\n"
      ],
      "text/markdown": [
       "1. 'HPSI0714i-pipw_4'\n",
       "2. 'HPSI1014i-quls_2'\n",
       "3. 'HPSI0314i-sojd_3'\n",
       "4. 'HPSI0414i-sebn_3'\n",
       "5. 'HPSI0914i-vaka_5'\n",
       "\n",
       "\n"
      ],
      "text/plain": [
       "[1] \"HPSI0714i-pipw_4\" \"HPSI1014i-quls_2\" \"HPSI0314i-sojd_3\" \"HPSI0414i-sebn_3\"\n",
       "[5] \"HPSI0914i-vaka_5\""
      ]
     },
     "metadata": {},
     "output_type": "display_data"
    }
   ],
   "source": [
    "df = myfile[myfile$pool_id %in% real_pools_with_lines & !(myfile$cell_line_id %in% indiv_lines),]\n",
    "unique(df[df$pool == \"pool3\",\"cell_line_id_long\"])"
   ]
  },
  {
   "cell_type": "code",
   "execution_count": null,
   "metadata": {},
   "outputs": [],
   "source": []
  },
  {
   "cell_type": "code",
   "execution_count": 15,
   "metadata": {},
   "outputs": [
    {
     "data": {
      "text/html": [
       "<table>\n",
       "<caption>A data.frame: 6 × 18</caption>\n",
       "<thead>\n",
       "\t<tr><th scope=col>sample_id</th><th scope=col>run</th><th scope=col>plate_barcode</th><th scope=col>date_of_submission</th><th scope=col>name</th><th scope=col>pool_id</th><th scope=col>protocol</th><th scope=col>bio_replicate_id</th><th scope=col>tech_replicate_id</th><th scope=col>X10x_replicate_id</th><th scope=col>time_point</th><th scope=col>treatment</th><th scope=col>code</th><th scope=col>sequencescape</th><th scope=col>sanger_sample_id</th><th scope=col>number_of_cells_loaded</th><th scope=col>percentage_survival</th><th scope=col>comment</th></tr>\n",
       "\t<tr><th scope=col>&lt;chr&gt;</th><th scope=col>&lt;int&gt;</th><th scope=col>&lt;chr&gt;</th><th scope=col>&lt;chr&gt;</th><th scope=col>&lt;chr&gt;</th><th scope=col>&lt;chr&gt;</th><th scope=col>&lt;chr&gt;</th><th scope=col>&lt;int&gt;</th><th scope=col>&lt;int&gt;</th><th scope=col>&lt;int&gt;</th><th scope=col>&lt;chr&gt;</th><th scope=col>&lt;chr&gt;</th><th scope=col>&lt;chr&gt;</th><th scope=col>&lt;dbl&gt;</th><th scope=col>&lt;chr&gt;</th><th scope=col>&lt;chr&gt;</th><th scope=col>&lt;chr&gt;</th><th scope=col>&lt;chr&gt;</th></tr>\n",
       "</thead>\n",
       "<tbody>\n",
       "\t<tr><td>cellranger211_count_25419_5245STDY7352549_hg19-1_2_0</td><td>25419</td><td>SCGC-10X-00003100</td><td>21-02-2018</td><td>Pool1_1  </td><td>pool1    </td><td>da_neurons</td><td>1</td><td>1</td><td>1</td><td>D11</td><td>NONE</td><td>5245STDY7352549</td><td>3571764</td><td>5245STDY7352549</td><td>15480</td><td>94.4</td><td></td></tr>\n",
       "\t<tr><td>cellranger211_count_25419_5245STDY7352550_hg19-1_2_0</td><td>25419</td><td>SCGC-10X-00003101</td><td>21-02-2019</td><td>Pool1_2  </td><td>pool1    </td><td>da_neurons</td><td>1</td><td>2</td><td>1</td><td>D11</td><td>NONE</td><td>5245STDY7352550</td><td>3571765</td><td>5245STDY7352550</td><td>11390</td><td>91.9</td><td></td></tr>\n",
       "\t<tr><td>cellranger211_count_25419_5245STDY7352551_hg19-1_2_0</td><td>25419</td><td>SCGC-10X-00003102</td><td>21-02-2020</td><td>Eipl/Podx</td><td>eipl_podx</td><td>da_neurons</td><td>1</td><td>1</td><td>1</td><td>D11</td><td>NONE</td><td>5245STDY7352551</td><td>3571766</td><td>5245STDY7352551</td><td>17812</td><td>94.4</td><td></td></tr>\n",
       "\t<tr><td>cellranger211_count_25528_5245STDY7386983_hg19-1_2_0</td><td>25528</td><td>SCGC-10X-00003980</td><td>21-02-2021</td><td>UENN/HECN</td><td>uenn_hecn</td><td>da_neurons</td><td>1</td><td>1</td><td>1</td><td>D11</td><td>NONE</td><td>5245STDY7386983</td><td>3606205</td><td>5245STDY7386983</td><td>11600</td><td>93  </td><td></td></tr>\n",
       "\t<tr><td>cellranger211_count_25528_5245STDY7386984_hg19-1_2_0</td><td>25528</td><td>SCGC-10X-00003981</td><td>21-02-2022</td><td>Pelm/Meue</td><td>pelm_meue</td><td>da_neurons</td><td>1</td><td>1</td><td>1</td><td>D11</td><td>NONE</td><td>5245STDY7386984</td><td>3606206</td><td>5245STDY7386984</td><td>19400</td><td>97  </td><td></td></tr>\n",
       "\t<tr><td>cellranger211_count_25528_5245STDY7386985_hg19-1_2_0</td><td>25528</td><td>SCGC-10X-00003982</td><td>21-02-2023</td><td>Pool2a   </td><td>pool2    </td><td>da_neurons</td><td>1</td><td>1</td><td>1</td><td>D11</td><td>NONE</td><td>5245STDY7386985</td><td>3606207</td><td>5245STDY7386985</td><td>8960 </td><td>90  </td><td></td></tr>\n",
       "</tbody>\n",
       "</table>\n"
      ],
      "text/latex": [
       "A data.frame: 6 × 18\n",
       "\\begin{tabular}{r|llllllllllllllllll}\n",
       " sample\\_id & run & plate\\_barcode & date\\_of\\_submission & name & pool\\_id & protocol & bio\\_replicate\\_id & tech\\_replicate\\_id & X10x\\_replicate\\_id & time\\_point & treatment & code & sequencescape & sanger\\_sample\\_id & number\\_of\\_cells\\_loaded & percentage\\_survival & comment\\\\\n",
       " <chr> & <int> & <chr> & <chr> & <chr> & <chr> & <chr> & <int> & <int> & <int> & <chr> & <chr> & <chr> & <dbl> & <chr> & <chr> & <chr> & <chr>\\\\\n",
       "\\hline\n",
       "\t cellranger211\\_count\\_25419\\_5245STDY7352549\\_hg19-1\\_2\\_0 & 25419 & SCGC-10X-00003100 & 21-02-2018 & Pool1\\_1   & pool1     & da\\_neurons & 1 & 1 & 1 & D11 & NONE & 5245STDY7352549 & 3571764 & 5245STDY7352549 & 15480 & 94.4 & \\\\\n",
       "\t cellranger211\\_count\\_25419\\_5245STDY7352550\\_hg19-1\\_2\\_0 & 25419 & SCGC-10X-00003101 & 21-02-2019 & Pool1\\_2   & pool1     & da\\_neurons & 1 & 2 & 1 & D11 & NONE & 5245STDY7352550 & 3571765 & 5245STDY7352550 & 11390 & 91.9 & \\\\\n",
       "\t cellranger211\\_count\\_25419\\_5245STDY7352551\\_hg19-1\\_2\\_0 & 25419 & SCGC-10X-00003102 & 21-02-2020 & Eipl/Podx & eipl\\_podx & da\\_neurons & 1 & 1 & 1 & D11 & NONE & 5245STDY7352551 & 3571766 & 5245STDY7352551 & 17812 & 94.4 & \\\\\n",
       "\t cellranger211\\_count\\_25528\\_5245STDY7386983\\_hg19-1\\_2\\_0 & 25528 & SCGC-10X-00003980 & 21-02-2021 & UENN/HECN & uenn\\_hecn & da\\_neurons & 1 & 1 & 1 & D11 & NONE & 5245STDY7386983 & 3606205 & 5245STDY7386983 & 11600 & 93   & \\\\\n",
       "\t cellranger211\\_count\\_25528\\_5245STDY7386984\\_hg19-1\\_2\\_0 & 25528 & SCGC-10X-00003981 & 21-02-2022 & Pelm/Meue & pelm\\_meue & da\\_neurons & 1 & 1 & 1 & D11 & NONE & 5245STDY7386984 & 3606206 & 5245STDY7386984 & 19400 & 97   & \\\\\n",
       "\t cellranger211\\_count\\_25528\\_5245STDY7386985\\_hg19-1\\_2\\_0 & 25528 & SCGC-10X-00003982 & 21-02-2023 & Pool2a    & pool2     & da\\_neurons & 1 & 1 & 1 & D11 & NONE & 5245STDY7386985 & 3606207 & 5245STDY7386985 & 8960  & 90   & \\\\\n",
       "\\end{tabular}\n"
      ],
      "text/markdown": [
       "\n",
       "A data.frame: 6 × 18\n",
       "\n",
       "| sample_id &lt;chr&gt; | run &lt;int&gt; | plate_barcode &lt;chr&gt; | date_of_submission &lt;chr&gt; | name &lt;chr&gt; | pool_id &lt;chr&gt; | protocol &lt;chr&gt; | bio_replicate_id &lt;int&gt; | tech_replicate_id &lt;int&gt; | X10x_replicate_id &lt;int&gt; | time_point &lt;chr&gt; | treatment &lt;chr&gt; | code &lt;chr&gt; | sequencescape &lt;dbl&gt; | sanger_sample_id &lt;chr&gt; | number_of_cells_loaded &lt;chr&gt; | percentage_survival &lt;chr&gt; | comment &lt;chr&gt; |\n",
       "|---|---|---|---|---|---|---|---|---|---|---|---|---|---|---|---|---|---|\n",
       "| cellranger211_count_25419_5245STDY7352549_hg19-1_2_0 | 25419 | SCGC-10X-00003100 | 21-02-2018 | Pool1_1   | pool1     | da_neurons | 1 | 1 | 1 | D11 | NONE | 5245STDY7352549 | 3571764 | 5245STDY7352549 | 15480 | 94.4 | <!----> |\n",
       "| cellranger211_count_25419_5245STDY7352550_hg19-1_2_0 | 25419 | SCGC-10X-00003101 | 21-02-2019 | Pool1_2   | pool1     | da_neurons | 1 | 2 | 1 | D11 | NONE | 5245STDY7352550 | 3571765 | 5245STDY7352550 | 11390 | 91.9 | <!----> |\n",
       "| cellranger211_count_25419_5245STDY7352551_hg19-1_2_0 | 25419 | SCGC-10X-00003102 | 21-02-2020 | Eipl/Podx | eipl_podx | da_neurons | 1 | 1 | 1 | D11 | NONE | 5245STDY7352551 | 3571766 | 5245STDY7352551 | 17812 | 94.4 | <!----> |\n",
       "| cellranger211_count_25528_5245STDY7386983_hg19-1_2_0 | 25528 | SCGC-10X-00003980 | 21-02-2021 | UENN/HECN | uenn_hecn | da_neurons | 1 | 1 | 1 | D11 | NONE | 5245STDY7386983 | 3606205 | 5245STDY7386983 | 11600 | 93   | <!----> |\n",
       "| cellranger211_count_25528_5245STDY7386984_hg19-1_2_0 | 25528 | SCGC-10X-00003981 | 21-02-2022 | Pelm/Meue | pelm_meue | da_neurons | 1 | 1 | 1 | D11 | NONE | 5245STDY7386984 | 3606206 | 5245STDY7386984 | 19400 | 97   | <!----> |\n",
       "| cellranger211_count_25528_5245STDY7386985_hg19-1_2_0 | 25528 | SCGC-10X-00003982 | 21-02-2023 | Pool2a    | pool2     | da_neurons | 1 | 1 | 1 | D11 | NONE | 5245STDY7386985 | 3606207 | 5245STDY7386985 | 8960  | 90   | <!----> |\n",
       "\n"
      ],
      "text/plain": [
       "  sample_id                                            run   plate_barcode    \n",
       "1 cellranger211_count_25419_5245STDY7352549_hg19-1_2_0 25419 SCGC-10X-00003100\n",
       "2 cellranger211_count_25419_5245STDY7352550_hg19-1_2_0 25419 SCGC-10X-00003101\n",
       "3 cellranger211_count_25419_5245STDY7352551_hg19-1_2_0 25419 SCGC-10X-00003102\n",
       "4 cellranger211_count_25528_5245STDY7386983_hg19-1_2_0 25528 SCGC-10X-00003980\n",
       "5 cellranger211_count_25528_5245STDY7386984_hg19-1_2_0 25528 SCGC-10X-00003981\n",
       "6 cellranger211_count_25528_5245STDY7386985_hg19-1_2_0 25528 SCGC-10X-00003982\n",
       "  date_of_submission name      pool_id   protocol   bio_replicate_id\n",
       "1 21-02-2018         Pool1_1   pool1     da_neurons 1               \n",
       "2 21-02-2019         Pool1_2   pool1     da_neurons 1               \n",
       "3 21-02-2020         Eipl/Podx eipl_podx da_neurons 1               \n",
       "4 21-02-2021         UENN/HECN uenn_hecn da_neurons 1               \n",
       "5 21-02-2022         Pelm/Meue pelm_meue da_neurons 1               \n",
       "6 21-02-2023         Pool2a    pool2     da_neurons 1               \n",
       "  tech_replicate_id X10x_replicate_id time_point treatment code           \n",
       "1 1                 1                 D11        NONE      5245STDY7352549\n",
       "2 2                 1                 D11        NONE      5245STDY7352550\n",
       "3 1                 1                 D11        NONE      5245STDY7352551\n",
       "4 1                 1                 D11        NONE      5245STDY7386983\n",
       "5 1                 1                 D11        NONE      5245STDY7386984\n",
       "6 1                 1                 D11        NONE      5245STDY7386985\n",
       "  sequencescape sanger_sample_id number_of_cells_loaded percentage_survival\n",
       "1 3571764       5245STDY7352549  15480                  94.4               \n",
       "2 3571765       5245STDY7352550  11390                  91.9               \n",
       "3 3571766       5245STDY7352551  17812                  94.4               \n",
       "4 3606205       5245STDY7386983  11600                  93                 \n",
       "5 3606206       5245STDY7386984  19400                  97                 \n",
       "6 3606207       5245STDY7386985  8960                   90                 \n",
       "  comment\n",
       "1        \n",
       "2        \n",
       "3        \n",
       "4        \n",
       "5        \n",
       "6        "
      ]
     },
     "metadata": {},
     "output_type": "display_data"
    }
   ],
   "source": [
    "myfilename1 = paste0(dir, \"/sample_tracking.tsv\")\n",
    "\n",
    "myfile1 = read.csv(myfilename1, sep = \"\\t\")\n",
    "head(myfile1)"
   ]
  },
  {
   "cell_type": "code",
   "execution_count": null,
   "metadata": {},
   "outputs": [],
   "source": []
  }
 ],
 "metadata": {
  "kernelspec": {
   "display_name": "R",
   "language": "R",
   "name": "ir"
  },
  "language_info": {
   "codemirror_mode": "r",
   "file_extension": ".r",
   "mimetype": "text/x-r-source",
   "name": "R",
   "pygments_lexer": "r",
   "version": "3.4.3"
  }
 },
 "nbformat": 4,
 "nbformat_minor": 2
}
