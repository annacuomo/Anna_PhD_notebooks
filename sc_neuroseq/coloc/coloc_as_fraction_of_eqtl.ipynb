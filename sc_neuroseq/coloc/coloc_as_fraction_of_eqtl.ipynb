{
 "cells": [
  {
   "cell_type": "code",
   "execution_count": 43,
   "metadata": {},
   "outputs": [
    {
     "data": {
      "text/html": [
       "<table>\n",
       "<thead><tr><th scope=col>snp_id</th><th scope=col>p_value</th><th scope=col>beta</th><th scope=col>beta_se</th><th scope=col>empirical_feature_p_value</th><th scope=col>feature_chromosome</th><th scope=col>feature_start</th><th scope=col>feature_end</th><th scope=col>n_samples</th><th scope=col>n_e_samples</th><th scope=col>...</th><th scope=col>snp_position</th><th scope=col>assessed_allele</th><th scope=col>call_rate</th><th scope=col>maf</th><th scope=col>hwe_p</th><th scope=col>feature_id</th><th scope=col>global_corr_p_value</th><th scope=col>label</th><th scope=col>new_label</th><th scope=col>ensembl_gene_id</th></tr></thead>\n",
       "<tbody>\n",
       "\t<tr><td>21_30373541_T_C</td><td>2.920966e-25   </td><td>-0.8525780     </td><td>0.08210206     </td><td>1.632719e-14   </td><td>21             </td><td>30376705       </td><td>30391699       </td><td>173            </td><td>173            </td><td>...            </td><td>30373541       </td><td>C              </td><td>1              </td><td>0.2398844      </td><td>0.09609073     </td><td>ENSG00000156253</td><td>1.400559e-12   </td><td>FPP_D11        </td><td>FPP_D11        </td><td>ENSG00000156253</td></tr>\n",
       "\t<tr><td>21_30432557_G_A</td><td>1.495486e-48   </td><td> 0.5058675     </td><td>0.03454695     </td><td>1.169470e-31   </td><td>21             </td><td>30428126       </td><td>30446118       </td><td>173            </td><td>173            </td><td>...            </td><td>30432557       </td><td>A              </td><td>1              </td><td>0.1358382      </td><td>1.00000000     </td><td>ENSG00000156261</td><td>1.059433e-28   </td><td>FPP_D11        </td><td>FPP_D11        </td><td>ENSG00000156261</td></tr>\n",
       "\t<tr><td>19_46203083_G_A</td><td>1.442702e-12   </td><td>-0.4016498     </td><td>0.05673108     </td><td>5.239484e-06   </td><td>19             </td><td>46195741       </td><td>46207247       </td><td>173            </td><td>173            </td><td>...            </td><td>46203083       </td><td>A              </td><td>1              </td><td>0.4768786      </td><td>1.00000000     </td><td>ENSG00000011478</td><td>8.196462e-05   </td><td>FPP_D11        </td><td>FPP_D11        </td><td>ENSG00000011478</td></tr>\n",
       "\t<tr><td>19_47288150_C_A</td><td>9.723840e-14   </td><td>-0.2695948     </td><td>0.03621346     </td><td>1.546057e-07   </td><td>19             </td><td>47278140       </td><td>47291851       </td><td>173            </td><td>173            </td><td>...            </td><td>47288150       </td><td>A              </td><td>1              </td><td>0.4508671      </td><td>0.87786220     </td><td>ENSG00000105281</td><td>3.363855e-06   </td><td>FPP_D11        </td><td>FPP_D11        </td><td>ENSG00000105281</td></tr>\n",
       "\t<tr><td>19_47174893_A_C</td><td>1.115403e-06   </td><td>-0.2763602     </td><td>0.05674627     </td><td>6.046782e-03   </td><td>19             </td><td>47177532       </td><td>47220384       </td><td>173            </td><td>173            </td><td>...            </td><td>47174893       </td><td>C              </td><td>1              </td><td>0.3757225      </td><td>0.10474653     </td><td>ENSG00000105287</td><td>3.603838e-02   </td><td>FPP_D11        </td><td>FPP_D11        </td><td>ENSG00000105287</td></tr>\n",
       "\t<tr><td>19_46319415_G_C</td><td>1.191570e-06   </td><td> 0.2736772     </td><td>0.05634656     </td><td>7.122389e-03   </td><td>19             </td><td>46318668       </td><td>46366548       </td><td>173            </td><td>173            </td><td>...            </td><td>46319415       </td><td>C              </td><td>1              </td><td>0.3150289      </td><td>0.16276934     </td><td>ENSG00000125755</td><td>4.109705e-02   </td><td>FPP_D11        </td><td>FPP_D11        </td><td>ENSG00000125755</td></tr>\n",
       "</tbody>\n",
       "</table>\n"
      ],
      "text/latex": [
       "\\begin{tabular}{r|lllllllllllllllllllllll}\n",
       " snp\\_id & p\\_value & beta & beta\\_se & empirical\\_feature\\_p\\_value & feature\\_chromosome & feature\\_start & feature\\_end & n\\_samples & n\\_e\\_samples & ... & snp\\_position & assessed\\_allele & call\\_rate & maf & hwe\\_p & feature\\_id & global\\_corr\\_p\\_value & label & new\\_label & ensembl\\_gene\\_id\\\\\n",
       "\\hline\n",
       "\t 21\\_30373541\\_T\\_C & 2.920966e-25          & -0.8525780            & 0.08210206            & 1.632719e-14          & 21                    & 30376705              & 30391699              & 173                   & 173                   & ...                   & 30373541              & C                     & 1                     & 0.2398844             & 0.09609073            & ENSG00000156253       & 1.400559e-12          & FPP\\_D11             & FPP\\_D11             & ENSG00000156253      \\\\\n",
       "\t 21\\_30432557\\_G\\_A & 1.495486e-48          &  0.5058675            & 0.03454695            & 1.169470e-31          & 21                    & 30428126              & 30446118              & 173                   & 173                   & ...                   & 30432557              & A                     & 1                     & 0.1358382             & 1.00000000            & ENSG00000156261       & 1.059433e-28          & FPP\\_D11             & FPP\\_D11             & ENSG00000156261      \\\\\n",
       "\t 19\\_46203083\\_G\\_A & 1.442702e-12          & -0.4016498            & 0.05673108            & 5.239484e-06          & 19                    & 46195741              & 46207247              & 173                   & 173                   & ...                   & 46203083              & A                     & 1                     & 0.4768786             & 1.00000000            & ENSG00000011478       & 8.196462e-05          & FPP\\_D11             & FPP\\_D11             & ENSG00000011478      \\\\\n",
       "\t 19\\_47288150\\_C\\_A & 9.723840e-14          & -0.2695948            & 0.03621346            & 1.546057e-07          & 19                    & 47278140              & 47291851              & 173                   & 173                   & ...                   & 47288150              & A                     & 1                     & 0.4508671             & 0.87786220            & ENSG00000105281       & 3.363855e-06          & FPP\\_D11             & FPP\\_D11             & ENSG00000105281      \\\\\n",
       "\t 19\\_47174893\\_A\\_C & 1.115403e-06          & -0.2763602            & 0.05674627            & 6.046782e-03          & 19                    & 47177532              & 47220384              & 173                   & 173                   & ...                   & 47174893              & C                     & 1                     & 0.3757225             & 0.10474653            & ENSG00000105287       & 3.603838e-02          & FPP\\_D11             & FPP\\_D11             & ENSG00000105287      \\\\\n",
       "\t 19\\_46319415\\_G\\_C & 1.191570e-06          &  0.2736772            & 0.05634656            & 7.122389e-03          & 19                    & 46318668              & 46366548              & 173                   & 173                   & ...                   & 46319415              & C                     & 1                     & 0.3150289             & 0.16276934            & ENSG00000125755       & 4.109705e-02          & FPP\\_D11             & FPP\\_D11             & ENSG00000125755      \\\\\n",
       "\\end{tabular}\n"
      ],
      "text/markdown": [
       "\n",
       "| snp_id | p_value | beta | beta_se | empirical_feature_p_value | feature_chromosome | feature_start | feature_end | n_samples | n_e_samples | ... | snp_position | assessed_allele | call_rate | maf | hwe_p | feature_id | global_corr_p_value | label | new_label | ensembl_gene_id |\n",
       "|---|---|---|---|---|---|---|---|---|---|---|---|---|---|---|---|---|---|---|---|---|\n",
       "| 21_30373541_T_C | 2.920966e-25    | -0.8525780      | 0.08210206      | 1.632719e-14    | 21              | 30376705        | 30391699        | 173             | 173             | ...             | 30373541        | C               | 1               | 0.2398844       | 0.09609073      | ENSG00000156253 | 1.400559e-12    | FPP_D11         | FPP_D11         | ENSG00000156253 |\n",
       "| 21_30432557_G_A | 1.495486e-48    |  0.5058675      | 0.03454695      | 1.169470e-31    | 21              | 30428126        | 30446118        | 173             | 173             | ...             | 30432557        | A               | 1               | 0.1358382       | 1.00000000      | ENSG00000156261 | 1.059433e-28    | FPP_D11         | FPP_D11         | ENSG00000156261 |\n",
       "| 19_46203083_G_A | 1.442702e-12    | -0.4016498      | 0.05673108      | 5.239484e-06    | 19              | 46195741        | 46207247        | 173             | 173             | ...             | 46203083        | A               | 1               | 0.4768786       | 1.00000000      | ENSG00000011478 | 8.196462e-05    | FPP_D11         | FPP_D11         | ENSG00000011478 |\n",
       "| 19_47288150_C_A | 9.723840e-14    | -0.2695948      | 0.03621346      | 1.546057e-07    | 19              | 47278140        | 47291851        | 173             | 173             | ...             | 47288150        | A               | 1               | 0.4508671       | 0.87786220      | ENSG00000105281 | 3.363855e-06    | FPP_D11         | FPP_D11         | ENSG00000105281 |\n",
       "| 19_47174893_A_C | 1.115403e-06    | -0.2763602      | 0.05674627      | 6.046782e-03    | 19              | 47177532        | 47220384        | 173             | 173             | ...             | 47174893        | C               | 1               | 0.3757225       | 0.10474653      | ENSG00000105287 | 3.603838e-02    | FPP_D11         | FPP_D11         | ENSG00000105287 |\n",
       "| 19_46319415_G_C | 1.191570e-06    |  0.2736772      | 0.05634656      | 7.122389e-03    | 19              | 46318668        | 46366548        | 173             | 173             | ...             | 46319415        | C               | 1               | 0.3150289       | 0.16276934      | ENSG00000125755 | 4.109705e-02    | FPP_D11         | FPP_D11         | ENSG00000125755 |\n",
       "\n"
      ],
      "text/plain": [
       "  snp_id          p_value      beta       beta_se    empirical_feature_p_value\n",
       "1 21_30373541_T_C 2.920966e-25 -0.8525780 0.08210206 1.632719e-14             \n",
       "2 21_30432557_G_A 1.495486e-48  0.5058675 0.03454695 1.169470e-31             \n",
       "3 19_46203083_G_A 1.442702e-12 -0.4016498 0.05673108 5.239484e-06             \n",
       "4 19_47288150_C_A 9.723840e-14 -0.2695948 0.03621346 1.546057e-07             \n",
       "5 19_47174893_A_C 1.115403e-06 -0.2763602 0.05674627 6.046782e-03             \n",
       "6 19_46319415_G_C 1.191570e-06  0.2736772 0.05634656 7.122389e-03             \n",
       "  feature_chromosome feature_start feature_end n_samples n_e_samples ...\n",
       "1 21                 30376705      30391699    173       173         ...\n",
       "2 21                 30428126      30446118    173       173         ...\n",
       "3 19                 46195741      46207247    173       173         ...\n",
       "4 19                 47278140      47291851    173       173         ...\n",
       "5 19                 47177532      47220384    173       173         ...\n",
       "6 19                 46318668      46366548    173       173         ...\n",
       "  snp_position assessed_allele call_rate maf       hwe_p      feature_id     \n",
       "1 30373541     C               1         0.2398844 0.09609073 ENSG00000156253\n",
       "2 30432557     A               1         0.1358382 1.00000000 ENSG00000156261\n",
       "3 46203083     A               1         0.4768786 1.00000000 ENSG00000011478\n",
       "4 47288150     A               1         0.4508671 0.87786220 ENSG00000105281\n",
       "5 47174893     C               1         0.3757225 0.10474653 ENSG00000105287\n",
       "6 46319415     C               1         0.3150289 0.16276934 ENSG00000125755\n",
       "  global_corr_p_value label   new_label ensembl_gene_id\n",
       "1 1.400559e-12        FPP_D11 FPP_D11   ENSG00000156253\n",
       "2 1.059433e-28        FPP_D11 FPP_D11   ENSG00000156261\n",
       "3 8.196462e-05        FPP_D11 FPP_D11   ENSG00000011478\n",
       "4 3.363855e-06        FPP_D11 FPP_D11   ENSG00000105281\n",
       "5 3.603838e-02        FPP_D11 FPP_D11   ENSG00000105287\n",
       "6 4.109705e-02        FPP_D11 FPP_D11   ENSG00000125755"
      ]
     },
     "metadata": {},
     "output_type": "display_data"
    }
   ],
   "source": [
    "df0 = read.csv(\"/hps/nobackup/stegle/users/acuomo/all_scripts/sc_neuroseq/eqtl/all_leads_5pct_FDR.csv\", row.names = 1)\n",
    "df0$ensembl_gene_id = df0$feature_id\n",
    "head(df0)"
   ]
  },
  {
   "cell_type": "code",
   "execution_count": 44,
   "metadata": {},
   "outputs": [],
   "source": [
    "df0$label = c()\n",
    "df0$label = df0$new_label\n",
    "df0$label = as.character(df0$label)\n",
    "df0$label[df0$label == 'DA_ROT_D52'] = 'DA_D52_ROT'\n",
    "df0$label[df0$label == 'Sert_ROT_D52'] = 'Sert_D52_ROT'\n",
    "df0$label[df0$label == 'Epen1_ROT_D52'] = 'Epen1_D52_ROT'\n",
    "df0$label[df0$label == 'Astro_ROT_D52'] = 'Astro_D52_ROT'"
   ]
  },
  {
   "cell_type": "code",
   "execution_count": 55,
   "metadata": {},
   "outputs": [
    {
     "data": {
      "text/html": [
       "<table>\n",
       "<thead><tr><th scope=col>gwas_trait</th><th scope=col>gene_name</th><th scope=col>eqtl_map</th><th scope=col>top_GTEx_brain</th><th scope=col>top_GTEx_non_brain</th><th scope=col>category</th><th scope=col>sample_size</th><th scope=col>time_point</th><th scope=col>treatment</th><th scope=col>celltype</th><th scope=col>condition</th></tr></thead>\n",
       "<tbody>\n",
       "\t<tr><td>Neuroticism                          </td><td>LRRC37A2                             </td><td>NONE_DA                              </td><td>Brain_Cerebellar_Hemisphere          </td><td>Esophagus_Muscularis                 </td><td>N                                    </td><td>170911                               </td><td>D52                                  </td><td>NONE                                 </td><td>DA                                   </td><td>D52                                  </td></tr>\n",
       "\t<tr><td>Depressed affect                     </td><td>LRRC37A2                             </td><td>NONE_DA                              </td><td>Brain_Hypothalamus                   </td><td>Heart_Atrial_Appendage               </td><td>N                                    </td><td>357957                               </td><td>D52                                  </td><td>NONE                                 </td><td>DA                                   </td><td>D52                                  </td></tr>\n",
       "\t<tr><td>Neuroticism                          </td><td>POLR3H                               </td><td>NONE_DA                              </td><td>Brain_Nucleus_accumbens_basal_ganglia</td><td>Esophagus_Mucosa                     </td><td>N                                    </td><td>170911                               </td><td>D52                                  </td><td>NONE                                 </td><td>DA                                   </td><td>D52                                  </td></tr>\n",
       "\t<tr><td>Neuroticism                          </td><td>FANCL                                </td><td>NONE_DA                              </td><td>Brain_Cerebellar_Hemisphere          </td><td>Pancreas                             </td><td>N                                    </td><td>329821                               </td><td>D52                                  </td><td>NONE                                 </td><td>DA                                   </td><td>D52                                  </td></tr>\n",
       "\t<tr><td>Depressed affect                     </td><td>ANKZF1                               </td><td>NONE_DA                              </td><td>Brain_Hypothalamus                   </td><td>Whole_Blood                          </td><td>N                                    </td><td>357957                               </td><td>D52                                  </td><td>NONE                                 </td><td>DA                                   </td><td>D52                                  </td></tr>\n",
       "\t<tr><td>Cognitive performance                </td><td>AHSA1                                </td><td>NONE_DA                              </td><td>Brain_Frontal_Cortex_BA9             </td><td>Cells_Transformed_fibroblasts        </td><td>N                                    </td><td>257841                               </td><td>D52                                  </td><td>NONE                                 </td><td>DA                                   </td><td>D52                                  </td></tr>\n",
       "</tbody>\n",
       "</table>\n"
      ],
      "text/latex": [
       "\\begin{tabular}{r|lllllllllll}\n",
       " gwas\\_trait & gene\\_name & eqtl\\_map & top\\_GTEx\\_brain & top\\_GTEx\\_non\\_brain & category & sample\\_size & time\\_point & treatment & celltype & condition\\\\\n",
       "\\hline\n",
       "\t Neuroticism                               & LRRC37A2                                  & NONE\\_DA                                 & Brain\\_Cerebellar\\_Hemisphere           & Esophagus\\_Muscularis                    & N                                         & 170911                                    & D52                                       & NONE                                      & DA                                        & D52                                      \\\\\n",
       "\t Depressed affect                        & LRRC37A2                                & NONE\\_DA                               & Brain\\_Hypothalamus                    & Heart\\_Atrial\\_Appendage              & N                                       & 357957                                  & D52                                     & NONE                                    & DA                                      & D52                                    \\\\\n",
       "\t Neuroticism                                   & POLR3H                                        & NONE\\_DA                                     & Brain\\_Nucleus\\_accumbens\\_basal\\_ganglia & Esophagus\\_Mucosa                            & N                                             & 170911                                        & D52                                           & NONE                                          & DA                                            & D52                                          \\\\\n",
       "\t Neuroticism                               & FANCL                                     & NONE\\_DA                                 & Brain\\_Cerebellar\\_Hemisphere           & Pancreas                                  & N                                         & 329821                                    & D52                                       & NONE                                      & DA                                        & D52                                      \\\\\n",
       "\t Depressed affect                        & ANKZF1                                  & NONE\\_DA                               & Brain\\_Hypothalamus                    & Whole\\_Blood                           & N                                       & 357957                                  & D52                                     & NONE                                    & DA                                      & D52                                    \\\\\n",
       "\t Cognitive performance                       & AHSA1                                       & NONE\\_DA                                   & Brain\\_Frontal\\_Cortex\\_BA9              & Cells\\_Transformed\\_fibroblasts           & N                                           & 257841                                      & D52                                         & NONE                                        & DA                                          & D52                                        \\\\\n",
       "\\end{tabular}\n"
      ],
      "text/markdown": [
       "\n",
       "| gwas_trait | gene_name | eqtl_map | top_GTEx_brain | top_GTEx_non_brain | category | sample_size | time_point | treatment | celltype | condition |\n",
       "|---|---|---|---|---|---|---|---|---|---|---|\n",
       "| Neuroticism                           | LRRC37A2                              | NONE_DA                               | Brain_Cerebellar_Hemisphere           | Esophagus_Muscularis                  | N                                     | 170911                                | D52                                   | NONE                                  | DA                                    | D52                                   |\n",
       "| Depressed affect                      | LRRC37A2                              | NONE_DA                               | Brain_Hypothalamus                    | Heart_Atrial_Appendage                | N                                     | 357957                                | D52                                   | NONE                                  | DA                                    | D52                                   |\n",
       "| Neuroticism                           | POLR3H                                | NONE_DA                               | Brain_Nucleus_accumbens_basal_ganglia | Esophagus_Mucosa                      | N                                     | 170911                                | D52                                   | NONE                                  | DA                                    | D52                                   |\n",
       "| Neuroticism                           | FANCL                                 | NONE_DA                               | Brain_Cerebellar_Hemisphere           | Pancreas                              | N                                     | 329821                                | D52                                   | NONE                                  | DA                                    | D52                                   |\n",
       "| Depressed affect                      | ANKZF1                                | NONE_DA                               | Brain_Hypothalamus                    | Whole_Blood                           | N                                     | 357957                                | D52                                   | NONE                                  | DA                                    | D52                                   |\n",
       "| Cognitive performance                 | AHSA1                                 | NONE_DA                               | Brain_Frontal_Cortex_BA9              | Cells_Transformed_fibroblasts         | N                                     | 257841                                | D52                                   | NONE                                  | DA                                    | D52                                   |\n",
       "\n"
      ],
      "text/plain": [
       "  gwas_trait            gene_name eqtl_map\n",
       "1 Neuroticism           LRRC37A2  NONE_DA \n",
       "2 Depressed affect      LRRC37A2  NONE_DA \n",
       "3 Neuroticism           POLR3H    NONE_DA \n",
       "4 Neuroticism           FANCL     NONE_DA \n",
       "5 Depressed affect      ANKZF1    NONE_DA \n",
       "6 Cognitive performance AHSA1     NONE_DA \n",
       "  top_GTEx_brain                        top_GTEx_non_brain            category\n",
       "1 Brain_Cerebellar_Hemisphere           Esophagus_Muscularis          N       \n",
       "2 Brain_Hypothalamus                    Heart_Atrial_Appendage        N       \n",
       "3 Brain_Nucleus_accumbens_basal_ganglia Esophagus_Mucosa              N       \n",
       "4 Brain_Cerebellar_Hemisphere           Pancreas                      N       \n",
       "5 Brain_Hypothalamus                    Whole_Blood                   N       \n",
       "6 Brain_Frontal_Cortex_BA9              Cells_Transformed_fibroblasts N       \n",
       "  sample_size time_point treatment celltype condition\n",
       "1 170911      D52        NONE      DA       D52      \n",
       "2 357957      D52        NONE      DA       D52      \n",
       "3 170911      D52        NONE      DA       D52      \n",
       "4 329821      D52        NONE      DA       D52      \n",
       "5 357957      D52        NONE      DA       D52      \n",
       "6 257841      D52        NONE      DA       D52      "
      ]
     },
     "metadata": {},
     "output_type": "display_data"
    }
   ],
   "source": [
    "filename = \"/hps/nobackup/stegle/users/acuomo/all_scripts/sc_neuroseq/coloc/coloc_genes_w_sample_size.txt\"\n",
    "df = read.csv(filename)\n",
    "df$X = c()\n",
    "head(df)"
   ]
  },
  {
   "cell_type": "code",
   "execution_count": 56,
   "metadata": {},
   "outputs": [
    {
     "data": {
      "text/html": [
       "28"
      ],
      "text/latex": [
       "28"
      ],
      "text/markdown": [
       "28"
      ],
      "text/plain": [
       "[1] 28"
      ]
     },
     "metadata": {},
     "output_type": "display_data"
    }
   ],
   "source": [
    "nrow(df[df$celltype == 'NB',])"
   ]
  },
  {
   "cell_type": "code",
   "execution_count": 46,
   "metadata": {},
   "outputs": [],
   "source": [
    "df$label = paste0(df$celltype,\"_\",df$condition)"
   ]
  },
  {
   "cell_type": "code",
   "execution_count": 47,
   "metadata": {},
   "outputs": [
    {
     "data": {
      "text/html": [
       "<table>\n",
       "<thead><tr><th scope=col>feature_id</th><th scope=col>chromosome</th><th scope=col>start</th><th scope=col>end</th><th scope=col>hgnc_symbol</th><th scope=col>combined_feature_id</th><th scope=col>ensembl_gene_id</th></tr></thead>\n",
       "<tbody>\n",
       "\t<tr><td>ENSG00000000003_TSPAN6</td><td>X                     </td><td>99883667              </td><td>99894988              </td><td>TSPAN6                </td><td>ENSG00000000003_TSPAN6</td><td>ENSG00000000003       </td></tr>\n",
       "\t<tr><td>ENSG00000000419_DPM1  </td><td>20                    </td><td>49551404              </td><td>49575092              </td><td>DPM1                  </td><td>ENSG00000000419_DPM1  </td><td>ENSG00000000419       </td></tr>\n",
       "</tbody>\n",
       "</table>\n"
      ],
      "text/latex": [
       "\\begin{tabular}{r|lllllll}\n",
       " feature\\_id & chromosome & start & end & hgnc\\_symbol & combined\\_feature\\_id & ensembl\\_gene\\_id\\\\\n",
       "\\hline\n",
       "\t ENSG00000000003\\_TSPAN6 & X                        & 99883667                 & 99894988                 & TSPAN6                   & ENSG00000000003\\_TSPAN6 & ENSG00000000003         \\\\\n",
       "\t ENSG00000000419\\_DPM1   & 20                       & 49551404                 & 49575092                 & DPM1                     & ENSG00000000419\\_DPM1   & ENSG00000000419         \\\\\n",
       "\\end{tabular}\n"
      ],
      "text/markdown": [
       "\n",
       "| feature_id | chromosome | start | end | hgnc_symbol | combined_feature_id | ensembl_gene_id |\n",
       "|---|---|---|---|---|---|---|\n",
       "| ENSG00000000003_TSPAN6 | X                      | 99883667               | 99894988               | TSPAN6                 | ENSG00000000003_TSPAN6 | ENSG00000000003        |\n",
       "| ENSG00000000419_DPM1   | 20                     | 49551404               | 49575092               | DPM1                   | ENSG00000000419_DPM1   | ENSG00000000419        |\n",
       "\n"
      ],
      "text/plain": [
       "  feature_id             chromosome start    end      hgnc_symbol\n",
       "1 ENSG00000000003_TSPAN6 X          99883667 99894988 TSPAN6     \n",
       "2 ENSG00000000419_DPM1   20         49551404 49575092 DPM1       \n",
       "  combined_feature_id    ensembl_gene_id\n",
       "1 ENSG00000000003_TSPAN6 ENSG00000000003\n",
       "2 ENSG00000000419_DPM1   ENSG00000000419"
      ]
     },
     "metadata": {},
     "output_type": "display_data"
    }
   ],
   "source": [
    "annos_file = \"/hps/nobackup/hipsci/scratch/singlecell_endodiff/data_processed/scQTLs/annos/combined_feature_id_annos.tsv\"\n",
    "annos = read.csv(annos_file,sep=\"\\t\")\n",
    "head(annos,2)"
   ]
  },
  {
   "cell_type": "code",
   "execution_count": 48,
   "metadata": {},
   "outputs": [],
   "source": [
    "library(dplyr)"
   ]
  },
  {
   "cell_type": "code",
   "execution_count": 49,
   "metadata": {},
   "outputs": [
    {
     "data": {
      "text/html": [
       "1097"
      ],
      "text/latex": [
       "1097"
      ],
      "text/markdown": [
       "1097"
      ],
      "text/plain": [
       "[1] 1097"
      ]
     },
     "metadata": {},
     "output_type": "display_data"
    },
    {
     "name": "stderr",
     "output_type": "stream",
     "text": [
      "Joining, by = \"hgnc_symbol\"\n",
      "Warning message:\n",
      "“Column `hgnc_symbol` joining factors with different levels, coercing to character vector”"
     ]
    },
    {
     "data": {
      "text/html": [
       "1097"
      ],
      "text/latex": [
       "1097"
      ],
      "text/markdown": [
       "1097"
      ],
      "text/plain": [
       "[1] 1097"
      ]
     },
     "metadata": {},
     "output_type": "display_data"
    },
    {
     "data": {
      "text/html": [
       "<table>\n",
       "<thead><tr><th scope=col>gwas_trait</th><th scope=col>gene_name</th><th scope=col>eqtl_map</th><th scope=col>top_GTEx_brain</th><th scope=col>top_GTEx_non_brain</th><th scope=col>category</th><th scope=col>sample_size</th><th scope=col>condition</th><th scope=col>time_point</th><th scope=col>treatment</th><th scope=col>celltype</th><th scope=col>label</th><th scope=col>hgnc_symbol</th><th scope=col>ensembl_gene_id</th></tr></thead>\n",
       "<tbody>\n",
       "\t<tr><td>Neuroticism                          </td><td>LRRC37A2                             </td><td>NONE_DA                              </td><td>Brain_Cerebellar_Hemisphere          </td><td>Esophagus_Muscularis                 </td><td>N                                    </td><td>170911                               </td><td>D52                                  </td><td>D52                                  </td><td>NONE                                 </td><td>DA                                   </td><td>DA_D52                               </td><td>LRRC37A2                             </td><td>ENSG00000238083                      </td></tr>\n",
       "\t<tr><td>Depressed affect                     </td><td>LRRC37A2                             </td><td>NONE_DA                              </td><td>Brain_Hypothalamus                   </td><td>Heart_Atrial_Appendage               </td><td>N                                    </td><td>357957                               </td><td>D52                                  </td><td>D52                                  </td><td>NONE                                 </td><td>DA                                   </td><td>DA_D52                               </td><td>LRRC37A2                             </td><td>ENSG00000238083                      </td></tr>\n",
       "\t<tr><td>Neuroticism                          </td><td>POLR3H                               </td><td>NONE_DA                              </td><td>Brain_Nucleus_accumbens_basal_ganglia</td><td>Esophagus_Mucosa                     </td><td>N                                    </td><td>170911                               </td><td>D52                                  </td><td>D52                                  </td><td>NONE                                 </td><td>DA                                   </td><td>DA_D52                               </td><td>POLR3H                               </td><td>ENSG00000100413                      </td></tr>\n",
       "\t<tr><td>Neuroticism                          </td><td>FANCL                                </td><td>NONE_DA                              </td><td>Brain_Cerebellar_Hemisphere          </td><td>Pancreas                             </td><td>N                                    </td><td>329821                               </td><td>D52                                  </td><td>D52                                  </td><td>NONE                                 </td><td>DA                                   </td><td>DA_D52                               </td><td>FANCL                                </td><td>ENSG00000115392                      </td></tr>\n",
       "\t<tr><td>Depressed affect                     </td><td>ANKZF1                               </td><td>NONE_DA                              </td><td>Brain_Hypothalamus                   </td><td>Whole_Blood                          </td><td>N                                    </td><td>357957                               </td><td>D52                                  </td><td>D52                                  </td><td>NONE                                 </td><td>DA                                   </td><td>DA_D52                               </td><td>ANKZF1                               </td><td>ENSG00000163516                      </td></tr>\n",
       "\t<tr><td>Cognitive performance                </td><td>AHSA1                                </td><td>NONE_DA                              </td><td>Brain_Frontal_Cortex_BA9             </td><td>Cells_Transformed_fibroblasts        </td><td>N                                    </td><td>257841                               </td><td>D52                                  </td><td>D52                                  </td><td>NONE                                 </td><td>DA                                   </td><td>DA_D52                               </td><td>AHSA1                                </td><td>ENSG00000100591                      </td></tr>\n",
       "</tbody>\n",
       "</table>\n"
      ],
      "text/latex": [
       "\\begin{tabular}{r|llllllllllllll}\n",
       " gwas\\_trait & gene\\_name & eqtl\\_map & top\\_GTEx\\_brain & top\\_GTEx\\_non\\_brain & category & sample\\_size & condition & time\\_point & treatment & celltype & label & hgnc\\_symbol & ensembl\\_gene\\_id\\\\\n",
       "\\hline\n",
       "\t Neuroticism                               & LRRC37A2                                  & NONE\\_DA                                 & Brain\\_Cerebellar\\_Hemisphere           & Esophagus\\_Muscularis                    & N                                         & 170911                                    & D52                                       & D52                                       & NONE                                      & DA                                        & DA\\_D52                                  & LRRC37A2                                  & ENSG00000238083                          \\\\\n",
       "\t Depressed affect                        & LRRC37A2                                & NONE\\_DA                               & Brain\\_Hypothalamus                    & Heart\\_Atrial\\_Appendage              & N                                       & 357957                                  & D52                                     & D52                                     & NONE                                    & DA                                      & DA\\_D52                                & LRRC37A2                                & ENSG00000238083                        \\\\\n",
       "\t Neuroticism                                   & POLR3H                                        & NONE\\_DA                                     & Brain\\_Nucleus\\_accumbens\\_basal\\_ganglia & Esophagus\\_Mucosa                            & N                                             & 170911                                        & D52                                           & D52                                           & NONE                                          & DA                                            & DA\\_D52                                      & POLR3H                                        & ENSG00000100413                              \\\\\n",
       "\t Neuroticism                               & FANCL                                     & NONE\\_DA                                 & Brain\\_Cerebellar\\_Hemisphere           & Pancreas                                  & N                                         & 329821                                    & D52                                       & D52                                       & NONE                                      & DA                                        & DA\\_D52                                  & FANCL                                     & ENSG00000115392                          \\\\\n",
       "\t Depressed affect                        & ANKZF1                                  & NONE\\_DA                               & Brain\\_Hypothalamus                    & Whole\\_Blood                           & N                                       & 357957                                  & D52                                     & D52                                     & NONE                                    & DA                                      & DA\\_D52                                & ANKZF1                                  & ENSG00000163516                        \\\\\n",
       "\t Cognitive performance                       & AHSA1                                       & NONE\\_DA                                   & Brain\\_Frontal\\_Cortex\\_BA9              & Cells\\_Transformed\\_fibroblasts           & N                                           & 257841                                      & D52                                         & D52                                         & NONE                                        & DA                                          & DA\\_D52                                    & AHSA1                                       & ENSG00000100591                            \\\\\n",
       "\\end{tabular}\n"
      ],
      "text/markdown": [
       "\n",
       "| gwas_trait | gene_name | eqtl_map | top_GTEx_brain | top_GTEx_non_brain | category | sample_size | condition | time_point | treatment | celltype | label | hgnc_symbol | ensembl_gene_id |\n",
       "|---|---|---|---|---|---|---|---|---|---|---|---|---|---|\n",
       "| Neuroticism                           | LRRC37A2                              | NONE_DA                               | Brain_Cerebellar_Hemisphere           | Esophagus_Muscularis                  | N                                     | 170911                                | D52                                   | D52                                   | NONE                                  | DA                                    | DA_D52                                | LRRC37A2                              | ENSG00000238083                       |\n",
       "| Depressed affect                      | LRRC37A2                              | NONE_DA                               | Brain_Hypothalamus                    | Heart_Atrial_Appendage                | N                                     | 357957                                | D52                                   | D52                                   | NONE                                  | DA                                    | DA_D52                                | LRRC37A2                              | ENSG00000238083                       |\n",
       "| Neuroticism                           | POLR3H                                | NONE_DA                               | Brain_Nucleus_accumbens_basal_ganglia | Esophagus_Mucosa                      | N                                     | 170911                                | D52                                   | D52                                   | NONE                                  | DA                                    | DA_D52                                | POLR3H                                | ENSG00000100413                       |\n",
       "| Neuroticism                           | FANCL                                 | NONE_DA                               | Brain_Cerebellar_Hemisphere           | Pancreas                              | N                                     | 329821                                | D52                                   | D52                                   | NONE                                  | DA                                    | DA_D52                                | FANCL                                 | ENSG00000115392                       |\n",
       "| Depressed affect                      | ANKZF1                                | NONE_DA                               | Brain_Hypothalamus                    | Whole_Blood                           | N                                     | 357957                                | D52                                   | D52                                   | NONE                                  | DA                                    | DA_D52                                | ANKZF1                                | ENSG00000163516                       |\n",
       "| Cognitive performance                 | AHSA1                                 | NONE_DA                               | Brain_Frontal_Cortex_BA9              | Cells_Transformed_fibroblasts         | N                                     | 257841                                | D52                                   | D52                                   | NONE                                  | DA                                    | DA_D52                                | AHSA1                                 | ENSG00000100591                       |\n",
       "\n"
      ],
      "text/plain": [
       "  gwas_trait            gene_name eqtl_map\n",
       "1 Neuroticism           LRRC37A2  NONE_DA \n",
       "2 Depressed affect      LRRC37A2  NONE_DA \n",
       "3 Neuroticism           POLR3H    NONE_DA \n",
       "4 Neuroticism           FANCL     NONE_DA \n",
       "5 Depressed affect      ANKZF1    NONE_DA \n",
       "6 Cognitive performance AHSA1     NONE_DA \n",
       "  top_GTEx_brain                        top_GTEx_non_brain            category\n",
       "1 Brain_Cerebellar_Hemisphere           Esophagus_Muscularis          N       \n",
       "2 Brain_Hypothalamus                    Heart_Atrial_Appendage        N       \n",
       "3 Brain_Nucleus_accumbens_basal_ganglia Esophagus_Mucosa              N       \n",
       "4 Brain_Cerebellar_Hemisphere           Pancreas                      N       \n",
       "5 Brain_Hypothalamus                    Whole_Blood                   N       \n",
       "6 Brain_Frontal_Cortex_BA9              Cells_Transformed_fibroblasts N       \n",
       "  sample_size condition time_point treatment celltype label  hgnc_symbol\n",
       "1 170911      D52       D52        NONE      DA       DA_D52 LRRC37A2   \n",
       "2 357957      D52       D52        NONE      DA       DA_D52 LRRC37A2   \n",
       "3 170911      D52       D52        NONE      DA       DA_D52 POLR3H     \n",
       "4 329821      D52       D52        NONE      DA       DA_D52 FANCL      \n",
       "5 357957      D52       D52        NONE      DA       DA_D52 ANKZF1     \n",
       "6 257841      D52       D52        NONE      DA       DA_D52 AHSA1      \n",
       "  ensembl_gene_id\n",
       "1 ENSG00000238083\n",
       "2 ENSG00000238083\n",
       "3 ENSG00000100413\n",
       "4 ENSG00000115392\n",
       "5 ENSG00000163516\n",
       "6 ENSG00000100591"
      ]
     },
     "metadata": {},
     "output_type": "display_data"
    }
   ],
   "source": [
    "nrow(df)\n",
    "df$hgnc_symbol = df$gene_name\n",
    "df = left_join(df,annos[,c(\"hgnc_symbol\",\"ensembl_gene_id\")])\n",
    "nrow(df)\n",
    "head(df)"
   ]
  },
  {
   "cell_type": "code",
   "execution_count": 52,
   "metadata": {},
   "outputs": [
    {
     "name": "stderr",
     "output_type": "stream",
     "text": [
      "Warning message:\n",
      "“Column `ensembl_gene_id` joining factors with different levels, coercing to character vector”"
     ]
    },
    {
     "data": {
      "text/html": [
       "259"
      ],
      "text/latex": [
       "259"
      ],
      "text/markdown": [
       "259"
      ],
      "text/plain": [
       "[1] 259"
      ]
     },
     "metadata": {},
     "output_type": "display_data"
    }
   ],
   "source": [
    "df_all = inner_join(df0,df, by = c(\"ensembl_gene_id\",\"label\"))\n",
    "nrow(df_all)"
   ]
  },
  {
   "cell_type": "code",
   "execution_count": 54,
   "metadata": {},
   "outputs": [
    {
     "data": {
      "text/html": [
       "<ol class=list-inline>\n",
       "\t<li>'FPP_D11'</li>\n",
       "\t<li>'P_FPP_D11'</li>\n",
       "\t<li>'DA_D30'</li>\n",
       "\t<li>'Sert_D30'</li>\n",
       "\t<li>'Epen1_D30'</li>\n",
       "\t<li>'FPP_D30'</li>\n",
       "\t<li>'DA_D52'</li>\n",
       "\t<li>'Sert_D52'</li>\n",
       "\t<li>'Epen1_D52'</li>\n",
       "\t<li>'DA_D52_ROT'</li>\n",
       "\t<li>'Sert_D52_ROT'</li>\n",
       "\t<li>'Epen1_D52_ROT'</li>\n",
       "</ol>\n"
      ],
      "text/latex": [
       "\\begin{enumerate*}\n",
       "\\item 'FPP\\_D11'\n",
       "\\item 'P\\_FPP\\_D11'\n",
       "\\item 'DA\\_D30'\n",
       "\\item 'Sert\\_D30'\n",
       "\\item 'Epen1\\_D30'\n",
       "\\item 'FPP\\_D30'\n",
       "\\item 'DA\\_D52'\n",
       "\\item 'Sert\\_D52'\n",
       "\\item 'Epen1\\_D52'\n",
       "\\item 'DA\\_D52\\_ROT'\n",
       "\\item 'Sert\\_D52\\_ROT'\n",
       "\\item 'Epen1\\_D52\\_ROT'\n",
       "\\end{enumerate*}\n"
      ],
      "text/markdown": [
       "1. 'FPP_D11'\n",
       "2. 'P_FPP_D11'\n",
       "3. 'DA_D30'\n",
       "4. 'Sert_D30'\n",
       "5. 'Epen1_D30'\n",
       "6. 'FPP_D30'\n",
       "7. 'DA_D52'\n",
       "8. 'Sert_D52'\n",
       "9. 'Epen1_D52'\n",
       "10. 'DA_D52_ROT'\n",
       "11. 'Sert_D52_ROT'\n",
       "12. 'Epen1_D52_ROT'\n",
       "\n",
       "\n"
      ],
      "text/plain": [
       " [1] \"FPP_D11\"       \"P_FPP_D11\"     \"DA_D30\"        \"Sert_D30\"     \n",
       " [5] \"Epen1_D30\"     \"FPP_D30\"       \"DA_D52\"        \"Sert_D52\"     \n",
       " [9] \"Epen1_D52\"     \"DA_D52_ROT\"    \"Sert_D52_ROT\"  \"Epen1_D52_ROT\""
      ]
     },
     "metadata": {},
     "output_type": "display_data"
    },
    {
     "name": "stdout",
     "output_type": "stream",
     "text": [
      "[1] \"FPP_D11\"           \"0.189189189189189\"\n",
      "[1] \"P_FPP_D11\"        \"0.27027027027027\"\n",
      "[1] \"DA_D30\"             \"0.0617760617760618\"\n",
      "[1] \"Sert_D30\"           \"0.0463320463320463\"\n",
      "[1] \"Epen1_D30\"          \"0.0386100386100386\"\n",
      "[1] \"FPP_D30\"            \"0.0308880308880309\"\n",
      "[1] \"DA_D52\"             \"0.0888030888030888\"\n",
      "[1] \"Sert_D52\"           \"0.0579150579150579\"\n",
      "[1] \"Epen1_D52\"          \"0.0540540540540541\"\n",
      "[1] \"DA_D52_ROT\"         \"0.0308880308880309\"\n",
      "[1] \"Sert_D52_ROT\"       \"0.0810810810810811\"\n",
      "[1] \"Epen1_D52_ROT\"      \"0.0501930501930502\"\n"
     ]
    }
   ],
   "source": [
    "labels = unique(df_all$label)\n",
    "labels\n",
    "for (label in labels){\n",
    "    df_tmp = df_all[df_all$label == label,]\n",
    "    print(c(label,nrow(df_tmp)/nrow(df_all)))\n",
    "}"
   ]
  },
  {
   "cell_type": "code",
   "execution_count": null,
   "metadata": {},
   "outputs": [],
   "source": []
  },
  {
   "cell_type": "code",
   "execution_count": null,
   "metadata": {},
   "outputs": [],
   "source": []
  },
  {
   "cell_type": "code",
   "execution_count": null,
   "metadata": {},
   "outputs": [],
   "source": []
  },
  {
   "cell_type": "code",
   "execution_count": 38,
   "metadata": {},
   "outputs": [
    {
     "data": {
      "text/html": [
       "<table>\n",
       "<thead><tr><th scope=col>label</th><th scope=col>egenes</th></tr></thead>\n",
       "<tbody>\n",
       "\t<tr><td>Astro_D52    </td><td> 111         </td></tr>\n",
       "\t<tr><td>Astro_D52_ROT</td><td>  88         </td></tr>\n",
       "\t<tr><td>DA_D30       </td><td> 674         </td></tr>\n",
       "\t<tr><td>DA_D52       </td><td> 698         </td></tr>\n",
       "\t<tr><td>DA_D52_ROT   </td><td> 304         </td></tr>\n",
       "\t<tr><td>Epen1_D30    </td><td> 622         </td></tr>\n",
       "\t<tr><td>Epen1_D52    </td><td> 745         </td></tr>\n",
       "\t<tr><td>Epen1_D52_ROT</td><td> 575         </td></tr>\n",
       "\t<tr><td>FPP_D11      </td><td>1784         </td></tr>\n",
       "\t<tr><td>FPP_D30      </td><td> 618         </td></tr>\n",
       "\t<tr><td>P_FPP_D11    </td><td>1802         </td></tr>\n",
       "\t<tr><td>Sert_D30     </td><td> 546         </td></tr>\n",
       "\t<tr><td>Sert_D52     </td><td> 778         </td></tr>\n",
       "\t<tr><td>Sert_D52_ROT </td><td> 611         </td></tr>\n",
       "</tbody>\n",
       "</table>\n"
      ],
      "text/latex": [
       "\\begin{tabular}{r|ll}\n",
       " label & egenes\\\\\n",
       "\\hline\n",
       "\t Astro\\_D52     &  111           \\\\\n",
       "\t Astro\\_D52\\_ROT &   88             \\\\\n",
       "\t DA\\_D30        &  674           \\\\\n",
       "\t DA\\_D52        &  698           \\\\\n",
       "\t DA\\_D52\\_ROT    &  304             \\\\\n",
       "\t Epen1\\_D30     &  622           \\\\\n",
       "\t Epen1\\_D52     &  745           \\\\\n",
       "\t Epen1\\_D52\\_ROT &  575             \\\\\n",
       "\t FPP\\_D11       & 1784           \\\\\n",
       "\t FPP\\_D30       &  618           \\\\\n",
       "\t P\\_FPP\\_D11     & 1802             \\\\\n",
       "\t Sert\\_D30      &  546           \\\\\n",
       "\t Sert\\_D52      &  778           \\\\\n",
       "\t Sert\\_D52\\_ROT  &  611             \\\\\n",
       "\\end{tabular}\n"
      ],
      "text/markdown": [
       "\n",
       "| label | egenes |\n",
       "|---|---|\n",
       "| Astro_D52     |  111          |\n",
       "| Astro_D52_ROT |   88          |\n",
       "| DA_D30        |  674          |\n",
       "| DA_D52        |  698          |\n",
       "| DA_D52_ROT    |  304          |\n",
       "| Epen1_D30     |  622          |\n",
       "| Epen1_D52     |  745          |\n",
       "| Epen1_D52_ROT |  575          |\n",
       "| FPP_D11       | 1784          |\n",
       "| FPP_D30       |  618          |\n",
       "| P_FPP_D11     | 1802          |\n",
       "| Sert_D30      |  546          |\n",
       "| Sert_D52      |  778          |\n",
       "| Sert_D52_ROT  |  611          |\n",
       "\n"
      ],
      "text/plain": [
       "   label         egenes\n",
       "1  Astro_D52      111  \n",
       "2  Astro_D52_ROT   88  \n",
       "3  DA_D30         674  \n",
       "4  DA_D52         698  \n",
       "5  DA_D52_ROT     304  \n",
       "6  Epen1_D30      622  \n",
       "7  Epen1_D52      745  \n",
       "8  Epen1_D52_ROT  575  \n",
       "9  FPP_D11       1784  \n",
       "10 FPP_D30        618  \n",
       "11 P_FPP_D11     1802  \n",
       "12 Sert_D30       546  \n",
       "13 Sert_D52       778  \n",
       "14 Sert_D52_ROT   611  "
      ]
     },
     "metadata": {},
     "output_type": "display_data"
    }
   ],
   "source": [
    "df1 = df0 %>% group_by(label) %>% summarise(egenes = n())\n",
    "df1"
   ]
  },
  {
   "cell_type": "code",
   "execution_count": 39,
   "metadata": {},
   "outputs": [
    {
     "data": {
      "text/html": [
       "<table>\n",
       "<thead><tr><th scope=col>label</th><th scope=col>ncoloc</th></tr></thead>\n",
       "<tbody>\n",
       "\t<tr><td>Astro_D52    </td><td> 56          </td></tr>\n",
       "\t<tr><td>Astro_D52_ROT</td><td> 55          </td></tr>\n",
       "\t<tr><td>DA_D30       </td><td> 56          </td></tr>\n",
       "\t<tr><td>DA_D52       </td><td> 60          </td></tr>\n",
       "\t<tr><td>DA_D52_ROT   </td><td> 40          </td></tr>\n",
       "\t<tr><td>Epen1_D30    </td><td> 65          </td></tr>\n",
       "\t<tr><td>Epen1_D52    </td><td> 81          </td></tr>\n",
       "\t<tr><td>Epen1_D52_ROT</td><td> 67          </td></tr>\n",
       "\t<tr><td>FPP_D11      </td><td> 89          </td></tr>\n",
       "\t<tr><td>FPP_D30      </td><td> 73          </td></tr>\n",
       "\t<tr><td>NB_D11       </td><td> 31          </td></tr>\n",
       "\t<tr><td>P_FPP_D11    </td><td>112          </td></tr>\n",
       "\t<tr><td>Sert_D30     </td><td> 73          </td></tr>\n",
       "\t<tr><td>Sert_D52     </td><td> 91          </td></tr>\n",
       "\t<tr><td>Sert_D52_ROT </td><td>114          </td></tr>\n",
       "</tbody>\n",
       "</table>\n"
      ],
      "text/latex": [
       "\\begin{tabular}{r|ll}\n",
       " label & ncoloc\\\\\n",
       "\\hline\n",
       "\t Astro\\_D52     &  56            \\\\\n",
       "\t Astro\\_D52\\_ROT &  55              \\\\\n",
       "\t DA\\_D30        &  56            \\\\\n",
       "\t DA\\_D52        &  60            \\\\\n",
       "\t DA\\_D52\\_ROT    &  40              \\\\\n",
       "\t Epen1\\_D30     &  65            \\\\\n",
       "\t Epen1\\_D52     &  81            \\\\\n",
       "\t Epen1\\_D52\\_ROT &  67              \\\\\n",
       "\t FPP\\_D11       &  89            \\\\\n",
       "\t FPP\\_D30       &  73            \\\\\n",
       "\t NB\\_D11        &  31            \\\\\n",
       "\t P\\_FPP\\_D11     & 112              \\\\\n",
       "\t Sert\\_D30      &  73            \\\\\n",
       "\t Sert\\_D52      &  91            \\\\\n",
       "\t Sert\\_D52\\_ROT  & 114              \\\\\n",
       "\\end{tabular}\n"
      ],
      "text/markdown": [
       "\n",
       "| label | ncoloc |\n",
       "|---|---|\n",
       "| Astro_D52     |  56           |\n",
       "| Astro_D52_ROT |  55           |\n",
       "| DA_D30        |  56           |\n",
       "| DA_D52        |  60           |\n",
       "| DA_D52_ROT    |  40           |\n",
       "| Epen1_D30     |  65           |\n",
       "| Epen1_D52     |  81           |\n",
       "| Epen1_D52_ROT |  67           |\n",
       "| FPP_D11       |  89           |\n",
       "| FPP_D30       |  73           |\n",
       "| NB_D11        |  31           |\n",
       "| P_FPP_D11     | 112           |\n",
       "| Sert_D30      |  73           |\n",
       "| Sert_D52      |  91           |\n",
       "| Sert_D52_ROT  | 114           |\n",
       "\n"
      ],
      "text/plain": [
       "   label         ncoloc\n",
       "1  Astro_D52      56   \n",
       "2  Astro_D52_ROT  55   \n",
       "3  DA_D30         56   \n",
       "4  DA_D52         60   \n",
       "5  DA_D52_ROT     40   \n",
       "6  Epen1_D30      65   \n",
       "7  Epen1_D52      81   \n",
       "8  Epen1_D52_ROT  67   \n",
       "9  FPP_D11        89   \n",
       "10 FPP_D30        73   \n",
       "11 NB_D11         31   \n",
       "12 P_FPP_D11     112   \n",
       "13 Sert_D30       73   \n",
       "14 Sert_D52       91   \n",
       "15 Sert_D52_ROT  114   "
      ]
     },
     "metadata": {},
     "output_type": "display_data"
    }
   ],
   "source": [
    "df2 = df %>% group_by(label) %>% summarise(ncoloc = n())\n",
    "df2"
   ]
  },
  {
   "cell_type": "code",
   "execution_count": 40,
   "metadata": {},
   "outputs": [
    {
     "name": "stderr",
     "output_type": "stream",
     "text": [
      "Joining, by = \"label\"\n"
     ]
    },
    {
     "data": {
      "text/html": [
       "<table>\n",
       "<thead><tr><th scope=col>label</th><th scope=col>egenes</th><th scope=col>ncoloc</th><th scope=col>fraction</th></tr></thead>\n",
       "<tbody>\n",
       "\t<tr><td>Astro_D52    </td><td> 111         </td><td> 56          </td><td>0.50450450   </td></tr>\n",
       "\t<tr><td>Astro_D52_ROT</td><td>  88         </td><td> 55          </td><td>0.62500000   </td></tr>\n",
       "\t<tr><td>DA_D30       </td><td> 674         </td><td> 56          </td><td>0.08308605   </td></tr>\n",
       "\t<tr><td>DA_D52       </td><td> 698         </td><td> 60          </td><td>0.08595989   </td></tr>\n",
       "\t<tr><td>DA_D52_ROT   </td><td> 304         </td><td> 40          </td><td>0.13157895   </td></tr>\n",
       "\t<tr><td>Epen1_D30    </td><td> 622         </td><td> 65          </td><td>0.10450161   </td></tr>\n",
       "\t<tr><td>Epen1_D52    </td><td> 745         </td><td> 81          </td><td>0.10872483   </td></tr>\n",
       "\t<tr><td>Epen1_D52_ROT</td><td> 575         </td><td> 67          </td><td>0.11652174   </td></tr>\n",
       "\t<tr><td>FPP_D11      </td><td>1784         </td><td> 89          </td><td>0.04988789   </td></tr>\n",
       "\t<tr><td>FPP_D30      </td><td> 618         </td><td> 73          </td><td>0.11812298   </td></tr>\n",
       "\t<tr><td>P_FPP_D11    </td><td>1802         </td><td>112          </td><td>0.06215316   </td></tr>\n",
       "\t<tr><td>Sert_D30     </td><td> 546         </td><td> 73          </td><td>0.13369963   </td></tr>\n",
       "\t<tr><td>Sert_D52     </td><td> 778         </td><td> 91          </td><td>0.11696658   </td></tr>\n",
       "\t<tr><td>Sert_D52_ROT </td><td> 611         </td><td>114          </td><td>0.18657938   </td></tr>\n",
       "</tbody>\n",
       "</table>\n"
      ],
      "text/latex": [
       "\\begin{tabular}{r|llll}\n",
       " label & egenes & ncoloc & fraction\\\\\n",
       "\\hline\n",
       "\t Astro\\_D52     &  111            &  56             & 0.50450450     \\\\\n",
       "\t Astro\\_D52\\_ROT &   88              &  55               & 0.62500000       \\\\\n",
       "\t DA\\_D30        &  674            &  56             & 0.08308605     \\\\\n",
       "\t DA\\_D52        &  698            &  60             & 0.08595989     \\\\\n",
       "\t DA\\_D52\\_ROT    &  304              &  40               & 0.13157895       \\\\\n",
       "\t Epen1\\_D30     &  622            &  65             & 0.10450161     \\\\\n",
       "\t Epen1\\_D52     &  745            &  81             & 0.10872483     \\\\\n",
       "\t Epen1\\_D52\\_ROT &  575              &  67               & 0.11652174       \\\\\n",
       "\t FPP\\_D11       & 1784            &  89             & 0.04988789     \\\\\n",
       "\t FPP\\_D30       &  618            &  73             & 0.11812298     \\\\\n",
       "\t P\\_FPP\\_D11     & 1802              & 112               & 0.06215316       \\\\\n",
       "\t Sert\\_D30      &  546            &  73             & 0.13369963     \\\\\n",
       "\t Sert\\_D52      &  778            &  91             & 0.11696658     \\\\\n",
       "\t Sert\\_D52\\_ROT  &  611              & 114               & 0.18657938       \\\\\n",
       "\\end{tabular}\n"
      ],
      "text/markdown": [
       "\n",
       "| label | egenes | ncoloc | fraction |\n",
       "|---|---|---|---|\n",
       "| Astro_D52     |  111          |  56           | 0.50450450    |\n",
       "| Astro_D52_ROT |   88          |  55           | 0.62500000    |\n",
       "| DA_D30        |  674          |  56           | 0.08308605    |\n",
       "| DA_D52        |  698          |  60           | 0.08595989    |\n",
       "| DA_D52_ROT    |  304          |  40           | 0.13157895    |\n",
       "| Epen1_D30     |  622          |  65           | 0.10450161    |\n",
       "| Epen1_D52     |  745          |  81           | 0.10872483    |\n",
       "| Epen1_D52_ROT |  575          |  67           | 0.11652174    |\n",
       "| FPP_D11       | 1784          |  89           | 0.04988789    |\n",
       "| FPP_D30       |  618          |  73           | 0.11812298    |\n",
       "| P_FPP_D11     | 1802          | 112           | 0.06215316    |\n",
       "| Sert_D30      |  546          |  73           | 0.13369963    |\n",
       "| Sert_D52      |  778          |  91           | 0.11696658    |\n",
       "| Sert_D52_ROT  |  611          | 114           | 0.18657938    |\n",
       "\n"
      ],
      "text/plain": [
       "   label         egenes ncoloc fraction  \n",
       "1  Astro_D52      111    56    0.50450450\n",
       "2  Astro_D52_ROT   88    55    0.62500000\n",
       "3  DA_D30         674    56    0.08308605\n",
       "4  DA_D52         698    60    0.08595989\n",
       "5  DA_D52_ROT     304    40    0.13157895\n",
       "6  Epen1_D30      622    65    0.10450161\n",
       "7  Epen1_D52      745    81    0.10872483\n",
       "8  Epen1_D52_ROT  575    67    0.11652174\n",
       "9  FPP_D11       1784    89    0.04988789\n",
       "10 FPP_D30        618    73    0.11812298\n",
       "11 P_FPP_D11     1802   112    0.06215316\n",
       "12 Sert_D30       546    73    0.13369963\n",
       "13 Sert_D52       778    91    0.11696658\n",
       "14 Sert_D52_ROT   611   114    0.18657938"
      ]
     },
     "metadata": {},
     "output_type": "display_data"
    }
   ],
   "source": [
    "df3 = inner_join(df1,df2)\n",
    "df3$fraction = df3$ncoloc/df3$egenes\n",
    "df3"
   ]
  },
  {
   "cell_type": "code",
   "execution_count": null,
   "metadata": {},
   "outputs": [],
   "source": []
  },
  {
   "cell_type": "code",
   "execution_count": null,
   "metadata": {},
   "outputs": [],
   "source": []
  }
 ],
 "metadata": {
  "kernelspec": {
   "display_name": "R",
   "language": "R",
   "name": "ir"
  },
  "language_info": {
   "codemirror_mode": "r",
   "file_extension": ".r",
   "mimetype": "text/x-r-source",
   "name": "R",
   "pygments_lexer": "r",
   "version": "3.6.1"
  }
 },
 "nbformat": 4,
 "nbformat_minor": 4
}
