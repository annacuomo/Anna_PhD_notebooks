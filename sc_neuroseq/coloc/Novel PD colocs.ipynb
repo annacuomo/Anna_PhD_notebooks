{
 "cells": [
  {
   "cell_type": "code",
   "execution_count": 6,
   "metadata": {},
   "outputs": [],
   "source": [
    "library(dplyr)"
   ]
  },
  {
   "cell_type": "code",
   "execution_count": 1,
   "metadata": {},
   "outputs": [],
   "source": [
    "PD_filename = \"/hps/nobackup/stegle/users/acuomo/all_scripts/sc_neuroseq/coloc/PD.txt\""
   ]
  },
  {
   "cell_type": "code",
   "execution_count": 2,
   "metadata": {},
   "outputs": [
    {
     "data": {
      "text/html": [
       "<table>\n",
       "<thead><tr><th scope=col>Celltype</th><th scope=col>Ensembl</th><th scope=col>PP4</th></tr></thead>\n",
       "<tbody>\n",
       "\t<tr><td>D11.FPP        </td><td>ENSG00000214941</td><td>0.7229227      </td></tr>\n",
       "\t<tr><td>D11.FPP        </td><td>ENSG00000198171</td><td>0.5603148      </td></tr>\n",
       "\t<tr><td>D11.FPP        </td><td>ENSG00000138760</td><td>0.8478474      </td></tr>\n",
       "\t<tr><td>D11.NB         </td><td>ENSG00000214941</td><td>0.7809070      </td></tr>\n",
       "\t<tr><td>D11.P_FPP      </td><td>ENSG00000214941</td><td>0.7271580      </td></tr>\n",
       "\t<tr><td>D11.P_FPP      </td><td>ENSG00000011295</td><td>0.7358720      </td></tr>\n",
       "</tbody>\n",
       "</table>\n"
      ],
      "text/latex": [
       "\\begin{tabular}{r|lll}\n",
       " Celltype & Ensembl & PP4\\\\\n",
       "\\hline\n",
       "\t D11.FPP         & ENSG00000214941 & 0.7229227      \\\\\n",
       "\t D11.FPP         & ENSG00000198171 & 0.5603148      \\\\\n",
       "\t D11.FPP         & ENSG00000138760 & 0.8478474      \\\\\n",
       "\t D11.NB          & ENSG00000214941 & 0.7809070      \\\\\n",
       "\t D11.P\\_FPP     & ENSG00000214941 & 0.7271580      \\\\\n",
       "\t D11.P\\_FPP     & ENSG00000011295 & 0.7358720      \\\\\n",
       "\\end{tabular}\n"
      ],
      "text/markdown": [
       "\n",
       "| Celltype | Ensembl | PP4 |\n",
       "|---|---|---|\n",
       "| D11.FPP         | ENSG00000214941 | 0.7229227       |\n",
       "| D11.FPP         | ENSG00000198171 | 0.5603148       |\n",
       "| D11.FPP         | ENSG00000138760 | 0.8478474       |\n",
       "| D11.NB          | ENSG00000214941 | 0.7809070       |\n",
       "| D11.P_FPP       | ENSG00000214941 | 0.7271580       |\n",
       "| D11.P_FPP       | ENSG00000011295 | 0.7358720       |\n",
       "\n"
      ],
      "text/plain": [
       "  Celltype  Ensembl         PP4      \n",
       "1 D11.FPP   ENSG00000214941 0.7229227\n",
       "2 D11.FPP   ENSG00000198171 0.5603148\n",
       "3 D11.FPP   ENSG00000138760 0.8478474\n",
       "4 D11.NB    ENSG00000214941 0.7809070\n",
       "5 D11.P_FPP ENSG00000214941 0.7271580\n",
       "6 D11.P_FPP ENSG00000011295 0.7358720"
      ]
     },
     "metadata": {},
     "output_type": "display_data"
    }
   ],
   "source": [
    "PD = read.csv(PD_filename, sep = \"\\t\")\n",
    "head(PD)"
   ]
  },
  {
   "cell_type": "code",
   "execution_count": 3,
   "metadata": {},
   "outputs": [
    {
     "data": {
      "text/html": [
       "<table>\n",
       "<thead><tr><th scope=col>feature_id</th><th scope=col>chromosome</th><th scope=col>start</th><th scope=col>end</th><th scope=col>hgnc_symbol</th><th scope=col>combined_feature_id</th><th scope=col>ensembl_gene_id</th></tr></thead>\n",
       "<tbody>\n",
       "\t<tr><td>ENSG00000000003_TSPAN6  </td><td>X                       </td><td> 99883667               </td><td> 99894988               </td><td>TSPAN6                  </td><td>ENSG00000000003_TSPAN6  </td><td>ENSG00000000003         </td></tr>\n",
       "\t<tr><td>ENSG00000000419_DPM1    </td><td>20                      </td><td> 49551404               </td><td> 49575092               </td><td>DPM1                    </td><td>ENSG00000000419_DPM1    </td><td>ENSG00000000419         </td></tr>\n",
       "\t<tr><td>ENSG00000000457_SCYL3   </td><td>1                       </td><td>169818772               </td><td>169863408               </td><td>SCYL3                   </td><td>ENSG00000000457_SCYL3   </td><td>ENSG00000000457         </td></tr>\n",
       "\t<tr><td>ENSG00000000460_C1orf112</td><td>1                       </td><td>169631245               </td><td>169823221               </td><td>C1orf112                </td><td>ENSG00000000460_C1orf112</td><td>ENSG00000000460         </td></tr>\n",
       "\t<tr><td>ENSG00000001036_FUCA2   </td><td>6                       </td><td>143815948               </td><td>143832827               </td><td>FUCA2                   </td><td>ENSG00000001036_FUCA2   </td><td>ENSG00000001036         </td></tr>\n",
       "\t<tr><td>ENSG00000001084_GCLC    </td><td>6                       </td><td> 53362139               </td><td> 53481768               </td><td>GCLC                    </td><td>ENSG00000001084_GCLC    </td><td>ENSG00000001084         </td></tr>\n",
       "</tbody>\n",
       "</table>\n"
      ],
      "text/latex": [
       "\\begin{tabular}{r|lllllll}\n",
       " feature\\_id & chromosome & start & end & hgnc\\_symbol & combined\\_feature\\_id & ensembl\\_gene\\_id\\\\\n",
       "\\hline\n",
       "\t ENSG00000000003\\_TSPAN6   & X                          &  99883667                  &  99894988                  & TSPAN6                     & ENSG00000000003\\_TSPAN6   & ENSG00000000003           \\\\\n",
       "\t ENSG00000000419\\_DPM1     & 20                         &  49551404                  &  49575092                  & DPM1                       & ENSG00000000419\\_DPM1     & ENSG00000000419           \\\\\n",
       "\t ENSG00000000457\\_SCYL3    & 1                          & 169818772                  & 169863408                  & SCYL3                      & ENSG00000000457\\_SCYL3    & ENSG00000000457           \\\\\n",
       "\t ENSG00000000460\\_C1orf112 & 1                          & 169631245                  & 169823221                  & C1orf112                   & ENSG00000000460\\_C1orf112 & ENSG00000000460           \\\\\n",
       "\t ENSG00000001036\\_FUCA2    & 6                          & 143815948                  & 143832827                  & FUCA2                      & ENSG00000001036\\_FUCA2    & ENSG00000001036           \\\\\n",
       "\t ENSG00000001084\\_GCLC     & 6                          &  53362139                  &  53481768                  & GCLC                       & ENSG00000001084\\_GCLC     & ENSG00000001084           \\\\\n",
       "\\end{tabular}\n"
      ],
      "text/markdown": [
       "\n",
       "| feature_id | chromosome | start | end | hgnc_symbol | combined_feature_id | ensembl_gene_id |\n",
       "|---|---|---|---|---|---|---|\n",
       "| ENSG00000000003_TSPAN6   | X                        |  99883667                |  99894988                | TSPAN6                   | ENSG00000000003_TSPAN6   | ENSG00000000003          |\n",
       "| ENSG00000000419_DPM1     | 20                       |  49551404                |  49575092                | DPM1                     | ENSG00000000419_DPM1     | ENSG00000000419          |\n",
       "| ENSG00000000457_SCYL3    | 1                        | 169818772                | 169863408                | SCYL3                    | ENSG00000000457_SCYL3    | ENSG00000000457          |\n",
       "| ENSG00000000460_C1orf112 | 1                        | 169631245                | 169823221                | C1orf112                 | ENSG00000000460_C1orf112 | ENSG00000000460          |\n",
       "| ENSG00000001036_FUCA2    | 6                        | 143815948                | 143832827                | FUCA2                    | ENSG00000001036_FUCA2    | ENSG00000001036          |\n",
       "| ENSG00000001084_GCLC     | 6                        |  53362139                |  53481768                | GCLC                     | ENSG00000001084_GCLC     | ENSG00000001084          |\n",
       "\n"
      ],
      "text/plain": [
       "  feature_id               chromosome start     end       hgnc_symbol\n",
       "1 ENSG00000000003_TSPAN6   X           99883667  99894988 TSPAN6     \n",
       "2 ENSG00000000419_DPM1     20          49551404  49575092 DPM1       \n",
       "3 ENSG00000000457_SCYL3    1          169818772 169863408 SCYL3      \n",
       "4 ENSG00000000460_C1orf112 1          169631245 169823221 C1orf112   \n",
       "5 ENSG00000001036_FUCA2    6          143815948 143832827 FUCA2      \n",
       "6 ENSG00000001084_GCLC     6           53362139  53481768 GCLC       \n",
       "  combined_feature_id      ensembl_gene_id\n",
       "1 ENSG00000000003_TSPAN6   ENSG00000000003\n",
       "2 ENSG00000000419_DPM1     ENSG00000000419\n",
       "3 ENSG00000000457_SCYL3    ENSG00000000457\n",
       "4 ENSG00000000460_C1orf112 ENSG00000000460\n",
       "5 ENSG00000001036_FUCA2    ENSG00000001036\n",
       "6 ENSG00000001084_GCLC     ENSG00000001084"
      ]
     },
     "metadata": {},
     "output_type": "display_data"
    }
   ],
   "source": [
    "annos_file = \"/hps/nobackup/hipsci/scratch/singlecell_endodiff/data_processed/scQTLs/annos/combined_feature_id_annos.tsv\"\n",
    "annos = read.csv(annos_file,sep=\"\\t\")\n",
    "head(annos)"
   ]
  },
  {
   "cell_type": "code",
   "execution_count": 4,
   "metadata": {},
   "outputs": [],
   "source": [
    "annos$Ensembl = annos$ensembl_gene_id"
   ]
  },
  {
   "cell_type": "code",
   "execution_count": 17,
   "metadata": {},
   "outputs": [
    {
     "data": {
      "text/html": [
       "68"
      ],
      "text/latex": [
       "68"
      ],
      "text/markdown": [
       "68"
      ],
      "text/plain": [
       "[1] 68"
      ]
     },
     "metadata": {},
     "output_type": "display_data"
    },
    {
     "name": "stderr",
     "output_type": "stream",
     "text": [
      "Joining, by = \"Ensembl\"\n",
      "Warning message:\n",
      "“Column `Ensembl` joining factors with different levels, coercing to character vector”"
     ]
    },
    {
     "data": {
      "text/html": [
       "68"
      ],
      "text/latex": [
       "68"
      ],
      "text/markdown": [
       "68"
      ],
      "text/plain": [
       "[1] 68"
      ]
     },
     "metadata": {},
     "output_type": "display_data"
    },
    {
     "data": {
      "text/html": [
       "<table>\n",
       "<thead><tr><th></th><th scope=col>Celltype</th><th scope=col>Ensembl</th><th scope=col>PP4</th><th scope=col>hgnc_symbol</th></tr></thead>\n",
       "<tbody>\n",
       "\t<tr><th scope=row>19</th><td>D30.Sert             </td><td>ENSG00000185499      </td><td>0.9803820            </td><td>NA                   </td></tr>\n",
       "\t<tr><th scope=row>45</th><td>D52.DA.untreated     </td><td>ENSG00000107295      </td><td>0.9295767            </td><td>SH3GL2               </td></tr>\n",
       "\t<tr><th scope=row>9</th><td>D11.P_FPP            </td><td>ENSG00000136243      </td><td>0.9245244            </td><td>NUPL2                </td></tr>\n",
       "\t<tr><th scope=row>68</th><td>D52.Sert.untreated   </td><td>ENSG00000136243      </td><td>0.9242027            </td><td>NUPL2                </td></tr>\n",
       "\t<tr><th scope=row>48</th><td>D52.Epen1.ROT_treated</td><td>ENSG00000136243      </td><td>0.9050501            </td><td>NUPL2                </td></tr>\n",
       "\t<tr><th scope=row>54</th><td>D52.Epen1.untreated  </td><td>ENSG00000198648      </td><td>0.8928359            </td><td>STK39                </td></tr>\n",
       "\t<tr><th scope=row>44</th><td>D52.DA.untreated     </td><td>ENSG00000136243      </td><td>0.8862351            </td><td>NUPL2                </td></tr>\n",
       "\t<tr><th scope=row>50</th><td>D52.Epen1.ROT_treated</td><td>ENSG00000122550      </td><td>0.8655641            </td><td>KLHL7                </td></tr>\n",
       "\t<tr><th scope=row>56</th><td>D52.Epen1.untreated  </td><td>ENSG00000122550      </td><td>0.8610787            </td><td>KLHL7                </td></tr>\n",
       "\t<tr><th scope=row>62</th><td>D52.Sert.untreated   </td><td>ENSG00000143537      </td><td>0.8493280            </td><td>ADAM15               </td></tr>\n",
       "\t<tr><th scope=row>3</th><td>D11.FPP              </td><td>ENSG00000138760      </td><td>0.8478474            </td><td>SCARB2               </td></tr>\n",
       "\t<tr><th scope=row>30</th><td>D52.Astro.ROT_treated</td><td>ENSG00000058063      </td><td>0.8369007            </td><td>ATP11B               </td></tr>\n",
       "\t<tr><th scope=row>63</th><td>D52.Sert.untreated   </td><td>ENSG00000214941      </td><td>0.7915478            </td><td>ZSWIM7               </td></tr>\n",
       "\t<tr><th scope=row>33</th><td>D52.Astro.untreated  </td><td>ENSG00000198648      </td><td>0.7866620            </td><td>STK39                </td></tr>\n",
       "\t<tr><th scope=row>27</th><td>D52.Astro.ROT_treated</td><td>ENSG00000214941      </td><td>0.7861096            </td><td>ZSWIM7               </td></tr>\n",
       "\t<tr><th scope=row>4</th><td>D11.NB               </td><td>ENSG00000214941      </td><td>0.7809070            </td><td>ZSWIM7               </td></tr>\n",
       "\t<tr><th scope=row>46</th><td>D52.Epen1.ROT_treated</td><td>ENSG00000214941      </td><td>0.7780055            </td><td>ZSWIM7               </td></tr>\n",
       "\t<tr><th scope=row>52</th><td>D52.Epen1.untreated  </td><td>ENSG00000214941      </td><td>0.7765414            </td><td>ZSWIM7               </td></tr>\n",
       "\t<tr><th scope=row>58</th><td>D52.Sert.ROT_treated </td><td>ENSG00000214941      </td><td>0.7613990            </td><td>ZSWIM7               </td></tr>\n",
       "\t<tr><th scope=row>60</th><td>D52.Sert.ROT_treated </td><td>ENSG00000166582      </td><td>0.7602838            </td><td>CENPV                </td></tr>\n",
       "\t<tr><th scope=row>42</th><td>D52.DA.untreated     </td><td>ENSG00000214941      </td><td>0.7593351            </td><td>ZSWIM7               </td></tr>\n",
       "\t<tr><th scope=row>31</th><td>D52.Astro.untreated  </td><td>ENSG00000214941      </td><td>0.7547302            </td><td>ZSWIM7               </td></tr>\n",
       "\t<tr><th scope=row>23</th><td>D30.Sert             </td><td>ENSG00000214941      </td><td>0.7463347            </td><td>ZSWIM7               </td></tr>\n",
       "\t<tr><th scope=row>11</th><td>D30.Astro            </td><td>ENSG00000214941      </td><td>0.7401933            </td><td>ZSWIM7               </td></tr>\n",
       "\t<tr><th scope=row>38</th><td>D52.DA.ROT_treated   </td><td>ENSG00000214941      </td><td>0.7395293            </td><td>ZSWIM7               </td></tr>\n",
       "\t<tr><th scope=row>14</th><td>D30.DA               </td><td>ENSG00000214941      </td><td>0.7383407            </td><td>ZSWIM7               </td></tr>\n",
       "\t<tr><th scope=row>6</th><td>D11.P_FPP            </td><td>ENSG00000011295      </td><td>0.7358720            </td><td>TTC19                </td></tr>\n",
       "\t<tr><th scope=row>8</th><td>D11.P_FPP            </td><td>ENSG00000122550      </td><td>0.7354085            </td><td>KLHL7                </td></tr>\n",
       "\t<tr><th scope=row>47</th><td>D52.Epen1.ROT_treated</td><td>ENSG00000011295      </td><td>0.7288125            </td><td>TTC19                </td></tr>\n",
       "\t<tr><th scope=row>16</th><td>D30.Epen1            </td><td>ENSG00000214941      </td><td>0.7273439            </td><td>ZSWIM7               </td></tr>\n",
       "\t<tr><th scope=row>...</th><td>...</td><td>...</td><td>...</td><td>...</td></tr>\n",
       "\t<tr><th scope=row>66</th><td>D52.Sert.untreated   </td><td>ENSG00000163686      </td><td>0.6921254            </td><td>ABHD6                </td></tr>\n",
       "\t<tr><th scope=row>64</th><td>D52.Sert.untreated   </td><td>ENSG00000011295      </td><td>0.6861146            </td><td>TTC19                </td></tr>\n",
       "\t<tr><th scope=row>29</th><td>D52.Astro.ROT_treated</td><td>ENSG00000174946      </td><td>0.6805391            </td><td>GPR171               </td></tr>\n",
       "\t<tr><th scope=row>40</th><td>D52.DA.ROT_treated   </td><td>ENSG00000198171      </td><td>0.6644202            </td><td>DDRGK1               </td></tr>\n",
       "\t<tr><th scope=row>25</th><td>D30.Sert             </td><td>ENSG00000145335      </td><td>0.6572534            </td><td>SNCA                 </td></tr>\n",
       "\t<tr><th scope=row>67</th><td>D52.Sert.untreated   </td><td>ENSG00000188725      </td><td>0.6561454            </td><td>SMIM15               </td></tr>\n",
       "\t<tr><th scope=row>51</th><td>D52.Epen1.untreated  </td><td>ENSG00000117280      </td><td>0.6556463            </td><td>RAB7L1               </td></tr>\n",
       "\t<tr><th scope=row>55</th><td>D52.Epen1.untreated  </td><td>ENSG00000198171      </td><td>0.6423641            </td><td>DDRGK1               </td></tr>\n",
       "\t<tr><th scope=row>43</th><td>D52.DA.untreated     </td><td>ENSG00000238083      </td><td>0.6215365            </td><td>LRRC37A2             </td></tr>\n",
       "\t<tr><th scope=row>35</th><td>D52.DA.ROT_treated   </td><td>ENSG00000173207      </td><td>0.6190498            </td><td>CKS1B                </td></tr>\n",
       "\t<tr><th scope=row>28</th><td>D52.Astro.ROT_treated</td><td>ENSG00000198171      </td><td>0.6186557            </td><td>DDRGK1               </td></tr>\n",
       "\t<tr><th scope=row>39</th><td>D52.DA.ROT_treated   </td><td>ENSG00000238083      </td><td>0.6106077            </td><td>LRRC37A2             </td></tr>\n",
       "\t<tr><th scope=row>24</th><td>D30.Sert             </td><td>ENSG00000238083      </td><td>0.6065507            </td><td>LRRC37A2             </td></tr>\n",
       "\t<tr><th scope=row>15</th><td>D30.DA               </td><td>ENSG00000238083      </td><td>0.5983387            </td><td>LRRC37A2             </td></tr>\n",
       "\t<tr><th scope=row>13</th><td>D30.Astro            </td><td>ENSG00000136243      </td><td>0.5836698            </td><td>NUPL2                </td></tr>\n",
       "\t<tr><th scope=row>22</th><td>D30.Sert             </td><td>ENSG00000167395      </td><td>0.5821746            </td><td>ZNF646               </td></tr>\n",
       "\t<tr><th scope=row>41</th><td>D52.DA.ROT_treated   </td><td>ENSG00000136235      </td><td>0.5793328            </td><td>NA                   </td></tr>\n",
       "\t<tr><th scope=row>12</th><td>D30.Astro            </td><td>ENSG00000198648      </td><td>0.5785851            </td><td>STK39                </td></tr>\n",
       "\t<tr><th scope=row>20</th><td>D30.Sert             </td><td>ENSG00000143537      </td><td>0.5766030            </td><td>ADAM15               </td></tr>\n",
       "\t<tr><th scope=row>7</th><td>D11.P_FPP            </td><td>ENSG00000198171      </td><td>0.5714416            </td><td>DDRGK1               </td></tr>\n",
       "\t<tr><th scope=row>21</th><td>D30.Sert             </td><td>ENSG00000103510      </td><td>0.5687493            </td><td>KAT8                 </td></tr>\n",
       "\t<tr><th scope=row>2</th><td>D11.FPP              </td><td>ENSG00000198171      </td><td>0.5603148            </td><td>DDRGK1               </td></tr>\n",
       "\t<tr><th scope=row>65</th><td>D52.Sert.untreated   </td><td>ENSG00000198171      </td><td>0.5503080            </td><td>DDRGK1               </td></tr>\n",
       "\t<tr><th scope=row>18</th><td>D30.Epen1            </td><td>ENSG00000136235      </td><td>0.5462463            </td><td>NA                   </td></tr>\n",
       "\t<tr><th scope=row>36</th><td>D52.DA.ROT_treated   </td><td>ENSG00000116539      </td><td>0.5457249            </td><td>ASH1L                </td></tr>\n",
       "\t<tr><th scope=row>10</th><td>D30.Astro            </td><td>ENSG00000143537      </td><td>0.5216032            </td><td>ADAM15               </td></tr>\n",
       "\t<tr><th scope=row>37</th><td>D52.DA.ROT_treated   </td><td>ENSG00000103496      </td><td>0.5177039            </td><td>STX4                 </td></tr>\n",
       "\t<tr><th scope=row>61</th><td>D52.Sert.ROT_treated </td><td>ENSG00000136235      </td><td>0.5154701            </td><td>NA                   </td></tr>\n",
       "\t<tr><th scope=row>53</th><td>D52.Epen1.untreated  </td><td>ENSG00000011295      </td><td>0.5036470            </td><td>TTC19                </td></tr>\n",
       "\t<tr><th scope=row>32</th><td>D52.Astro.untreated  </td><td>ENSG00000108474      </td><td>0.5005685            </td><td>PIGL                 </td></tr>\n",
       "</tbody>\n",
       "</table>\n"
      ],
      "text/latex": [
       "\\begin{tabular}{r|llll}\n",
       "  & Celltype & Ensembl & PP4 & hgnc\\_symbol\\\\\n",
       "\\hline\n",
       "\t19 & D30.Sert              & ENSG00000185499       & 0.9803820             & NA                   \\\\\n",
       "\t45 & D52.DA.untreated      & ENSG00000107295       & 0.9295767             & SH3GL2               \\\\\n",
       "\t9 & D11.P\\_FPP             & ENSG00000136243         & 0.9245244               & NUPL2                  \\\\\n",
       "\t68 & D52.Sert.untreated    & ENSG00000136243       & 0.9242027             & NUPL2                \\\\\n",
       "\t48 & D52.Epen1.ROT\\_treated & ENSG00000136243         & 0.9050501               & NUPL2                  \\\\\n",
       "\t54 & D52.Epen1.untreated   & ENSG00000198648       & 0.8928359             & STK39                \\\\\n",
       "\t44 & D52.DA.untreated      & ENSG00000136243       & 0.8862351             & NUPL2                \\\\\n",
       "\t50 & D52.Epen1.ROT\\_treated & ENSG00000122550         & 0.8655641               & KLHL7                  \\\\\n",
       "\t56 & D52.Epen1.untreated   & ENSG00000122550       & 0.8610787             & KLHL7                \\\\\n",
       "\t62 & D52.Sert.untreated    & ENSG00000143537       & 0.8493280             & ADAM15               \\\\\n",
       "\t3 & D11.FPP               & ENSG00000138760       & 0.8478474             & SCARB2               \\\\\n",
       "\t30 & D52.Astro.ROT\\_treated & ENSG00000058063         & 0.8369007               & ATP11B                 \\\\\n",
       "\t63 & D52.Sert.untreated    & ENSG00000214941       & 0.7915478             & ZSWIM7               \\\\\n",
       "\t33 & D52.Astro.untreated   & ENSG00000198648       & 0.7866620             & STK39                \\\\\n",
       "\t27 & D52.Astro.ROT\\_treated & ENSG00000214941         & 0.7861096               & ZSWIM7                 \\\\\n",
       "\t4 & D11.NB                & ENSG00000214941       & 0.7809070             & ZSWIM7               \\\\\n",
       "\t46 & D52.Epen1.ROT\\_treated & ENSG00000214941         & 0.7780055               & ZSWIM7                 \\\\\n",
       "\t52 & D52.Epen1.untreated   & ENSG00000214941       & 0.7765414             & ZSWIM7               \\\\\n",
       "\t58 & D52.Sert.ROT\\_treated  & ENSG00000214941         & 0.7613990               & ZSWIM7                 \\\\\n",
       "\t60 & D52.Sert.ROT\\_treated  & ENSG00000166582         & 0.7602838               & CENPV                  \\\\\n",
       "\t42 & D52.DA.untreated      & ENSG00000214941       & 0.7593351             & ZSWIM7               \\\\\n",
       "\t31 & D52.Astro.untreated   & ENSG00000214941       & 0.7547302             & ZSWIM7               \\\\\n",
       "\t23 & D30.Sert              & ENSG00000214941       & 0.7463347             & ZSWIM7               \\\\\n",
       "\t11 & D30.Astro             & ENSG00000214941       & 0.7401933             & ZSWIM7               \\\\\n",
       "\t38 & D52.DA.ROT\\_treated    & ENSG00000214941         & 0.7395293               & ZSWIM7                 \\\\\n",
       "\t14 & D30.DA                & ENSG00000214941       & 0.7383407             & ZSWIM7               \\\\\n",
       "\t6 & D11.P\\_FPP             & ENSG00000011295         & 0.7358720               & TTC19                  \\\\\n",
       "\t8 & D11.P\\_FPP             & ENSG00000122550         & 0.7354085               & KLHL7                  \\\\\n",
       "\t47 & D52.Epen1.ROT\\_treated & ENSG00000011295         & 0.7288125               & TTC19                  \\\\\n",
       "\t16 & D30.Epen1             & ENSG00000214941       & 0.7273439             & ZSWIM7               \\\\\n",
       "\t... & ... & ... & ... & ...\\\\\n",
       "\t66 & D52.Sert.untreated    & ENSG00000163686       & 0.6921254             & ABHD6                \\\\\n",
       "\t64 & D52.Sert.untreated    & ENSG00000011295       & 0.6861146             & TTC19                \\\\\n",
       "\t29 & D52.Astro.ROT\\_treated & ENSG00000174946         & 0.6805391               & GPR171                 \\\\\n",
       "\t40 & D52.DA.ROT\\_treated    & ENSG00000198171         & 0.6644202               & DDRGK1                 \\\\\n",
       "\t25 & D30.Sert              & ENSG00000145335       & 0.6572534             & SNCA                 \\\\\n",
       "\t67 & D52.Sert.untreated    & ENSG00000188725       & 0.6561454             & SMIM15               \\\\\n",
       "\t51 & D52.Epen1.untreated   & ENSG00000117280       & 0.6556463             & RAB7L1               \\\\\n",
       "\t55 & D52.Epen1.untreated   & ENSG00000198171       & 0.6423641             & DDRGK1               \\\\\n",
       "\t43 & D52.DA.untreated      & ENSG00000238083       & 0.6215365             & LRRC37A2             \\\\\n",
       "\t35 & D52.DA.ROT\\_treated    & ENSG00000173207         & 0.6190498               & CKS1B                  \\\\\n",
       "\t28 & D52.Astro.ROT\\_treated & ENSG00000198171         & 0.6186557               & DDRGK1                 \\\\\n",
       "\t39 & D52.DA.ROT\\_treated    & ENSG00000238083         & 0.6106077               & LRRC37A2               \\\\\n",
       "\t24 & D30.Sert              & ENSG00000238083       & 0.6065507             & LRRC37A2             \\\\\n",
       "\t15 & D30.DA                & ENSG00000238083       & 0.5983387             & LRRC37A2             \\\\\n",
       "\t13 & D30.Astro             & ENSG00000136243       & 0.5836698             & NUPL2                \\\\\n",
       "\t22 & D30.Sert              & ENSG00000167395       & 0.5821746             & ZNF646               \\\\\n",
       "\t41 & D52.DA.ROT\\_treated    & ENSG00000136235         & 0.5793328               & NA                     \\\\\n",
       "\t12 & D30.Astro             & ENSG00000198648       & 0.5785851             & STK39                \\\\\n",
       "\t20 & D30.Sert              & ENSG00000143537       & 0.5766030             & ADAM15               \\\\\n",
       "\t7 & D11.P\\_FPP             & ENSG00000198171         & 0.5714416               & DDRGK1                 \\\\\n",
       "\t21 & D30.Sert              & ENSG00000103510       & 0.5687493             & KAT8                 \\\\\n",
       "\t2 & D11.FPP               & ENSG00000198171       & 0.5603148             & DDRGK1               \\\\\n",
       "\t65 & D52.Sert.untreated    & ENSG00000198171       & 0.5503080             & DDRGK1               \\\\\n",
       "\t18 & D30.Epen1             & ENSG00000136235       & 0.5462463             & NA                   \\\\\n",
       "\t36 & D52.DA.ROT\\_treated    & ENSG00000116539         & 0.5457249               & ASH1L                  \\\\\n",
       "\t10 & D30.Astro             & ENSG00000143537       & 0.5216032             & ADAM15               \\\\\n",
       "\t37 & D52.DA.ROT\\_treated    & ENSG00000103496         & 0.5177039               & STX4                   \\\\\n",
       "\t61 & D52.Sert.ROT\\_treated  & ENSG00000136235         & 0.5154701               & NA                     \\\\\n",
       "\t53 & D52.Epen1.untreated   & ENSG00000011295       & 0.5036470             & TTC19                \\\\\n",
       "\t32 & D52.Astro.untreated   & ENSG00000108474       & 0.5005685             & PIGL                 \\\\\n",
       "\\end{tabular}\n"
      ],
      "text/markdown": [
       "\n",
       "| <!--/--> | Celltype | Ensembl | PP4 | hgnc_symbol |\n",
       "|---|---|---|---|---|\n",
       "| 19 | D30.Sert              | ENSG00000185499       | 0.9803820             | NA                    |\n",
       "| 45 | D52.DA.untreated      | ENSG00000107295       | 0.9295767             | SH3GL2                |\n",
       "| 9 | D11.P_FPP             | ENSG00000136243       | 0.9245244             | NUPL2                 |\n",
       "| 68 | D52.Sert.untreated    | ENSG00000136243       | 0.9242027             | NUPL2                 |\n",
       "| 48 | D52.Epen1.ROT_treated | ENSG00000136243       | 0.9050501             | NUPL2                 |\n",
       "| 54 | D52.Epen1.untreated   | ENSG00000198648       | 0.8928359             | STK39                 |\n",
       "| 44 | D52.DA.untreated      | ENSG00000136243       | 0.8862351             | NUPL2                 |\n",
       "| 50 | D52.Epen1.ROT_treated | ENSG00000122550       | 0.8655641             | KLHL7                 |\n",
       "| 56 | D52.Epen1.untreated   | ENSG00000122550       | 0.8610787             | KLHL7                 |\n",
       "| 62 | D52.Sert.untreated    | ENSG00000143537       | 0.8493280             | ADAM15                |\n",
       "| 3 | D11.FPP               | ENSG00000138760       | 0.8478474             | SCARB2                |\n",
       "| 30 | D52.Astro.ROT_treated | ENSG00000058063       | 0.8369007             | ATP11B                |\n",
       "| 63 | D52.Sert.untreated    | ENSG00000214941       | 0.7915478             | ZSWIM7                |\n",
       "| 33 | D52.Astro.untreated   | ENSG00000198648       | 0.7866620             | STK39                 |\n",
       "| 27 | D52.Astro.ROT_treated | ENSG00000214941       | 0.7861096             | ZSWIM7                |\n",
       "| 4 | D11.NB                | ENSG00000214941       | 0.7809070             | ZSWIM7                |\n",
       "| 46 | D52.Epen1.ROT_treated | ENSG00000214941       | 0.7780055             | ZSWIM7                |\n",
       "| 52 | D52.Epen1.untreated   | ENSG00000214941       | 0.7765414             | ZSWIM7                |\n",
       "| 58 | D52.Sert.ROT_treated  | ENSG00000214941       | 0.7613990             | ZSWIM7                |\n",
       "| 60 | D52.Sert.ROT_treated  | ENSG00000166582       | 0.7602838             | CENPV                 |\n",
       "| 42 | D52.DA.untreated      | ENSG00000214941       | 0.7593351             | ZSWIM7                |\n",
       "| 31 | D52.Astro.untreated   | ENSG00000214941       | 0.7547302             | ZSWIM7                |\n",
       "| 23 | D30.Sert              | ENSG00000214941       | 0.7463347             | ZSWIM7                |\n",
       "| 11 | D30.Astro             | ENSG00000214941       | 0.7401933             | ZSWIM7                |\n",
       "| 38 | D52.DA.ROT_treated    | ENSG00000214941       | 0.7395293             | ZSWIM7                |\n",
       "| 14 | D30.DA                | ENSG00000214941       | 0.7383407             | ZSWIM7                |\n",
       "| 6 | D11.P_FPP             | ENSG00000011295       | 0.7358720             | TTC19                 |\n",
       "| 8 | D11.P_FPP             | ENSG00000122550       | 0.7354085             | KLHL7                 |\n",
       "| 47 | D52.Epen1.ROT_treated | ENSG00000011295       | 0.7288125             | TTC19                 |\n",
       "| 16 | D30.Epen1             | ENSG00000214941       | 0.7273439             | ZSWIM7                |\n",
       "| ... | ... | ... | ... | ... |\n",
       "| 66 | D52.Sert.untreated    | ENSG00000163686       | 0.6921254             | ABHD6                 |\n",
       "| 64 | D52.Sert.untreated    | ENSG00000011295       | 0.6861146             | TTC19                 |\n",
       "| 29 | D52.Astro.ROT_treated | ENSG00000174946       | 0.6805391             | GPR171                |\n",
       "| 40 | D52.DA.ROT_treated    | ENSG00000198171       | 0.6644202             | DDRGK1                |\n",
       "| 25 | D30.Sert              | ENSG00000145335       | 0.6572534             | SNCA                  |\n",
       "| 67 | D52.Sert.untreated    | ENSG00000188725       | 0.6561454             | SMIM15                |\n",
       "| 51 | D52.Epen1.untreated   | ENSG00000117280       | 0.6556463             | RAB7L1                |\n",
       "| 55 | D52.Epen1.untreated   | ENSG00000198171       | 0.6423641             | DDRGK1                |\n",
       "| 43 | D52.DA.untreated      | ENSG00000238083       | 0.6215365             | LRRC37A2              |\n",
       "| 35 | D52.DA.ROT_treated    | ENSG00000173207       | 0.6190498             | CKS1B                 |\n",
       "| 28 | D52.Astro.ROT_treated | ENSG00000198171       | 0.6186557             | DDRGK1                |\n",
       "| 39 | D52.DA.ROT_treated    | ENSG00000238083       | 0.6106077             | LRRC37A2              |\n",
       "| 24 | D30.Sert              | ENSG00000238083       | 0.6065507             | LRRC37A2              |\n",
       "| 15 | D30.DA                | ENSG00000238083       | 0.5983387             | LRRC37A2              |\n",
       "| 13 | D30.Astro             | ENSG00000136243       | 0.5836698             | NUPL2                 |\n",
       "| 22 | D30.Sert              | ENSG00000167395       | 0.5821746             | ZNF646                |\n",
       "| 41 | D52.DA.ROT_treated    | ENSG00000136235       | 0.5793328             | NA                    |\n",
       "| 12 | D30.Astro             | ENSG00000198648       | 0.5785851             | STK39                 |\n",
       "| 20 | D30.Sert              | ENSG00000143537       | 0.5766030             | ADAM15                |\n",
       "| 7 | D11.P_FPP             | ENSG00000198171       | 0.5714416             | DDRGK1                |\n",
       "| 21 | D30.Sert              | ENSG00000103510       | 0.5687493             | KAT8                  |\n",
       "| 2 | D11.FPP               | ENSG00000198171       | 0.5603148             | DDRGK1                |\n",
       "| 65 | D52.Sert.untreated    | ENSG00000198171       | 0.5503080             | DDRGK1                |\n",
       "| 18 | D30.Epen1             | ENSG00000136235       | 0.5462463             | NA                    |\n",
       "| 36 | D52.DA.ROT_treated    | ENSG00000116539       | 0.5457249             | ASH1L                 |\n",
       "| 10 | D30.Astro             | ENSG00000143537       | 0.5216032             | ADAM15                |\n",
       "| 37 | D52.DA.ROT_treated    | ENSG00000103496       | 0.5177039             | STX4                  |\n",
       "| 61 | D52.Sert.ROT_treated  | ENSG00000136235       | 0.5154701             | NA                    |\n",
       "| 53 | D52.Epen1.untreated   | ENSG00000011295       | 0.5036470             | TTC19                 |\n",
       "| 32 | D52.Astro.untreated   | ENSG00000108474       | 0.5005685             | PIGL                  |\n",
       "\n"
      ],
      "text/plain": [
       "    Celltype              Ensembl         PP4       hgnc_symbol\n",
       "19  D30.Sert              ENSG00000185499 0.9803820 NA         \n",
       "45  D52.DA.untreated      ENSG00000107295 0.9295767 SH3GL2     \n",
       "9   D11.P_FPP             ENSG00000136243 0.9245244 NUPL2      \n",
       "68  D52.Sert.untreated    ENSG00000136243 0.9242027 NUPL2      \n",
       "48  D52.Epen1.ROT_treated ENSG00000136243 0.9050501 NUPL2      \n",
       "54  D52.Epen1.untreated   ENSG00000198648 0.8928359 STK39      \n",
       "44  D52.DA.untreated      ENSG00000136243 0.8862351 NUPL2      \n",
       "50  D52.Epen1.ROT_treated ENSG00000122550 0.8655641 KLHL7      \n",
       "56  D52.Epen1.untreated   ENSG00000122550 0.8610787 KLHL7      \n",
       "62  D52.Sert.untreated    ENSG00000143537 0.8493280 ADAM15     \n",
       "3   D11.FPP               ENSG00000138760 0.8478474 SCARB2     \n",
       "30  D52.Astro.ROT_treated ENSG00000058063 0.8369007 ATP11B     \n",
       "63  D52.Sert.untreated    ENSG00000214941 0.7915478 ZSWIM7     \n",
       "33  D52.Astro.untreated   ENSG00000198648 0.7866620 STK39      \n",
       "27  D52.Astro.ROT_treated ENSG00000214941 0.7861096 ZSWIM7     \n",
       "4   D11.NB                ENSG00000214941 0.7809070 ZSWIM7     \n",
       "46  D52.Epen1.ROT_treated ENSG00000214941 0.7780055 ZSWIM7     \n",
       "52  D52.Epen1.untreated   ENSG00000214941 0.7765414 ZSWIM7     \n",
       "58  D52.Sert.ROT_treated  ENSG00000214941 0.7613990 ZSWIM7     \n",
       "60  D52.Sert.ROT_treated  ENSG00000166582 0.7602838 CENPV      \n",
       "42  D52.DA.untreated      ENSG00000214941 0.7593351 ZSWIM7     \n",
       "31  D52.Astro.untreated   ENSG00000214941 0.7547302 ZSWIM7     \n",
       "23  D30.Sert              ENSG00000214941 0.7463347 ZSWIM7     \n",
       "11  D30.Astro             ENSG00000214941 0.7401933 ZSWIM7     \n",
       "38  D52.DA.ROT_treated    ENSG00000214941 0.7395293 ZSWIM7     \n",
       "14  D30.DA                ENSG00000214941 0.7383407 ZSWIM7     \n",
       "6   D11.P_FPP             ENSG00000011295 0.7358720 TTC19      \n",
       "8   D11.P_FPP             ENSG00000122550 0.7354085 KLHL7      \n",
       "47  D52.Epen1.ROT_treated ENSG00000011295 0.7288125 TTC19      \n",
       "16  D30.Epen1             ENSG00000214941 0.7273439 ZSWIM7     \n",
       "... ...                   ...             ...       ...        \n",
       "66  D52.Sert.untreated    ENSG00000163686 0.6921254 ABHD6      \n",
       "64  D52.Sert.untreated    ENSG00000011295 0.6861146 TTC19      \n",
       "29  D52.Astro.ROT_treated ENSG00000174946 0.6805391 GPR171     \n",
       "40  D52.DA.ROT_treated    ENSG00000198171 0.6644202 DDRGK1     \n",
       "25  D30.Sert              ENSG00000145335 0.6572534 SNCA       \n",
       "67  D52.Sert.untreated    ENSG00000188725 0.6561454 SMIM15     \n",
       "51  D52.Epen1.untreated   ENSG00000117280 0.6556463 RAB7L1     \n",
       "55  D52.Epen1.untreated   ENSG00000198171 0.6423641 DDRGK1     \n",
       "43  D52.DA.untreated      ENSG00000238083 0.6215365 LRRC37A2   \n",
       "35  D52.DA.ROT_treated    ENSG00000173207 0.6190498 CKS1B      \n",
       "28  D52.Astro.ROT_treated ENSG00000198171 0.6186557 DDRGK1     \n",
       "39  D52.DA.ROT_treated    ENSG00000238083 0.6106077 LRRC37A2   \n",
       "24  D30.Sert              ENSG00000238083 0.6065507 LRRC37A2   \n",
       "15  D30.DA                ENSG00000238083 0.5983387 LRRC37A2   \n",
       "13  D30.Astro             ENSG00000136243 0.5836698 NUPL2      \n",
       "22  D30.Sert              ENSG00000167395 0.5821746 ZNF646     \n",
       "41  D52.DA.ROT_treated    ENSG00000136235 0.5793328 NA         \n",
       "12  D30.Astro             ENSG00000198648 0.5785851 STK39      \n",
       "20  D30.Sert              ENSG00000143537 0.5766030 ADAM15     \n",
       "7   D11.P_FPP             ENSG00000198171 0.5714416 DDRGK1     \n",
       "21  D30.Sert              ENSG00000103510 0.5687493 KAT8       \n",
       "2   D11.FPP               ENSG00000198171 0.5603148 DDRGK1     \n",
       "65  D52.Sert.untreated    ENSG00000198171 0.5503080 DDRGK1     \n",
       "18  D30.Epen1             ENSG00000136235 0.5462463 NA         \n",
       "36  D52.DA.ROT_treated    ENSG00000116539 0.5457249 ASH1L      \n",
       "10  D30.Astro             ENSG00000143537 0.5216032 ADAM15     \n",
       "37  D52.DA.ROT_treated    ENSG00000103496 0.5177039 STX4       \n",
       "61  D52.Sert.ROT_treated  ENSG00000136235 0.5154701 NA         \n",
       "53  D52.Epen1.untreated   ENSG00000011295 0.5036470 TTC19      \n",
       "32  D52.Astro.untreated   ENSG00000108474 0.5005685 PIGL       "
      ]
     },
     "metadata": {},
     "output_type": "display_data"
    }
   ],
   "source": [
    "nrow(PD)\n",
    "df = left_join(PD, annos[,c(\"Ensembl\",\"hgnc_symbol\")])\n",
    "nrow(df)\n",
    "df[order(df$PP4,decreasing = TRUE),]"
   ]
  },
  {
   "cell_type": "code",
   "execution_count": null,
   "metadata": {},
   "outputs": [],
   "source": []
  }
 ],
 "metadata": {
  "kernelspec": {
   "display_name": "R",
   "language": "R",
   "name": "ir"
  },
  "language_info": {
   "codemirror_mode": "r",
   "file_extension": ".r",
   "mimetype": "text/x-r-source",
   "name": "R",
   "pygments_lexer": "r",
   "version": "3.6.1"
  }
 },
 "nbformat": 4,
 "nbformat_minor": 4
}
