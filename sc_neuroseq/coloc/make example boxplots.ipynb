{
 "cells": [
  {
   "cell_type": "code",
   "execution_count": 16,
   "metadata": {},
   "outputs": [],
   "source": [
    "library(dplyr)\n",
    "library(ggplot2)\n",
    "library(ggbeeswarm)"
   ]
  },
  {
   "cell_type": "code",
   "execution_count": 1,
   "metadata": {},
   "outputs": [
    {
     "data": {
      "text/html": [
       "<table>\n",
       "<thead><tr><th scope=col>snp_id</th><th scope=col>p_value</th><th scope=col>beta</th><th scope=col>beta_se</th><th scope=col>empirical_feature_p_value</th><th scope=col>feature_chromosome</th><th scope=col>feature_start</th><th scope=col>feature_end</th><th scope=col>n_samples</th><th scope=col>n_e_samples</th><th scope=col>...</th><th scope=col>beta_param</th><th scope=col>snp_chromosome</th><th scope=col>snp_position</th><th scope=col>assessed_allele</th><th scope=col>call_rate</th><th scope=col>maf</th><th scope=col>hwe_p</th><th scope=col>feature_id</th><th scope=col>global_corr_p_value</th><th scope=col>label</th></tr></thead>\n",
       "<tbody>\n",
       "\t<tr><td>21_30373541_T_C</td><td>2.920966e-25   </td><td>-0.8525780     </td><td>0.08210206     </td><td>1.632719e-14   </td><td>21             </td><td>30376705       </td><td>30391699       </td><td>173            </td><td>173            </td><td>...            </td><td>192.39730      </td><td>21             </td><td>30373541       </td><td>C              </td><td>1              </td><td>0.2398844      </td><td>0.09609073     </td><td>ENSG00000156253</td><td>1.400559e-12   </td><td>FPP_D11        </td></tr>\n",
       "\t<tr><td>21_30432557_G_A</td><td>1.495486e-48   </td><td> 0.5058675     </td><td>0.03454695     </td><td>1.169470e-31   </td><td>21             </td><td>30428126       </td><td>30446118       </td><td>173            </td><td>173            </td><td>...            </td><td> 34.96152      </td><td>21             </td><td>30432557       </td><td>A              </td><td>1              </td><td>0.1358382      </td><td>1.00000000     </td><td>ENSG00000156261</td><td>1.059433e-28   </td><td>FPP_D11        </td></tr>\n",
       "</tbody>\n",
       "</table>\n"
      ],
      "text/latex": [
       "\\begin{tabular}{r|lllllllllllllllllllll}\n",
       " snp\\_id & p\\_value & beta & beta\\_se & empirical\\_feature\\_p\\_value & feature\\_chromosome & feature\\_start & feature\\_end & n\\_samples & n\\_e\\_samples & ... & beta\\_param & snp\\_chromosome & snp\\_position & assessed\\_allele & call\\_rate & maf & hwe\\_p & feature\\_id & global\\_corr\\_p\\_value & label\\\\\n",
       "\\hline\n",
       "\t 21\\_30373541\\_T\\_C & 2.920966e-25          & -0.8525780            & 0.08210206            & 1.632719e-14          & 21                    & 30376705              & 30391699              & 173                   & 173                   & ...                   & 192.39730             & 21                    & 30373541              & C                     & 1                     & 0.2398844             & 0.09609073            & ENSG00000156253       & 1.400559e-12          & FPP\\_D11            \\\\\n",
       "\t 21\\_30432557\\_G\\_A & 1.495486e-48          &  0.5058675            & 0.03454695            & 1.169470e-31          & 21                    & 30428126              & 30446118              & 173                   & 173                   & ...                   &  34.96152             & 21                    & 30432557              & A                     & 1                     & 0.1358382             & 1.00000000            & ENSG00000156261       & 1.059433e-28          & FPP\\_D11            \\\\\n",
       "\\end{tabular}\n"
      ],
      "text/markdown": [
       "\n",
       "| snp_id | p_value | beta | beta_se | empirical_feature_p_value | feature_chromosome | feature_start | feature_end | n_samples | n_e_samples | ... | beta_param | snp_chromosome | snp_position | assessed_allele | call_rate | maf | hwe_p | feature_id | global_corr_p_value | label |\n",
       "|---|---|---|---|---|---|---|---|---|---|---|---|---|---|---|---|---|---|---|---|---|\n",
       "| 21_30373541_T_C | 2.920966e-25    | -0.8525780      | 0.08210206      | 1.632719e-14    | 21              | 30376705        | 30391699        | 173             | 173             | ...             | 192.39730       | 21              | 30373541        | C               | 1               | 0.2398844       | 0.09609073      | ENSG00000156253 | 1.400559e-12    | FPP_D11         |\n",
       "| 21_30432557_G_A | 1.495486e-48    |  0.5058675      | 0.03454695      | 1.169470e-31    | 21              | 30428126        | 30446118        | 173             | 173             | ...             |  34.96152       | 21              | 30432557        | A               | 1               | 0.1358382       | 1.00000000      | ENSG00000156261 | 1.059433e-28    | FPP_D11         |\n",
       "\n"
      ],
      "text/plain": [
       "  snp_id          p_value      beta       beta_se    empirical_feature_p_value\n",
       "1 21_30373541_T_C 2.920966e-25 -0.8525780 0.08210206 1.632719e-14             \n",
       "2 21_30432557_G_A 1.495486e-48  0.5058675 0.03454695 1.169470e-31             \n",
       "  feature_chromosome feature_start feature_end n_samples n_e_samples ...\n",
       "1 21                 30376705      30391699    173       173         ...\n",
       "2 21                 30428126      30446118    173       173         ...\n",
       "  beta_param snp_chromosome snp_position assessed_allele call_rate maf      \n",
       "1 192.39730  21             30373541     C               1         0.2398844\n",
       "2  34.96152  21             30432557     A               1         0.1358382\n",
       "  hwe_p      feature_id      global_corr_p_value label  \n",
       "1 0.09609073 ENSG00000156253 1.400559e-12        FPP_D11\n",
       "2 1.00000000 ENSG00000156261 1.059433e-28        FPP_D11"
      ]
     },
     "metadata": {},
     "output_type": "display_data"
    }
   ],
   "source": [
    "leads = read.csv(\"/hps/nobackup/stegle/users/acuomo/all_scripts/sc_neuroseq/eqtl/all_leads_5pct_FDR.csv\")\n",
    "head(leads,2)"
   ]
  },
  {
   "cell_type": "code",
   "execution_count": 2,
   "metadata": {},
   "outputs": [
    {
     "data": {
      "text/html": [
       "<table>\n",
       "<thead><tr><th scope=col>feature_id</th><th scope=col>chromosome</th><th scope=col>start</th><th scope=col>end</th></tr></thead>\n",
       "<tbody>\n",
       "\t<tr><td>ENSG00000223972</td><td>1              </td><td>11869          </td><td>14412          </td></tr>\n",
       "\t<tr><td>ENSG00000227232</td><td>1              </td><td>14363          </td><td>29806          </td></tr>\n",
       "</tbody>\n",
       "</table>\n"
      ],
      "text/latex": [
       "\\begin{tabular}{r|llll}\n",
       " feature\\_id & chromosome & start & end\\\\\n",
       "\\hline\n",
       "\t ENSG00000223972 & 1               & 11869           & 14412          \\\\\n",
       "\t ENSG00000227232 & 1               & 14363           & 29806          \\\\\n",
       "\\end{tabular}\n"
      ],
      "text/markdown": [
       "\n",
       "| feature_id | chromosome | start | end |\n",
       "|---|---|---|---|\n",
       "| ENSG00000223972 | 1               | 11869           | 14412           |\n",
       "| ENSG00000227232 | 1               | 14363           | 29806           |\n",
       "\n"
      ],
      "text/plain": [
       "  feature_id      chromosome start end  \n",
       "1 ENSG00000223972 1          11869 14412\n",
       "2 ENSG00000227232 1          14363 29806"
      ]
     },
     "metadata": {},
     "output_type": "display_data"
    }
   ],
   "source": [
    "# annos_file = \"/hps/nobackup/hipsci/scratch/singlecell_endodiff/data_processed/scQTLs/annos/combined_feature_id_annos.tsv\"\n",
    "annos_file = \"/hps/nobackup/stegle/users/acuomo/all_scripts/sc_neuroseq/annotation_gene_level.tsv\"\n",
    "annos = read.csv(annos_file,sep=\"\\t\")\n",
    "head(annos,2)"
   ]
  },
  {
   "cell_type": "code",
   "execution_count": 3,
   "metadata": {},
   "outputs": [],
   "source": [
    "# example 1\n",
    "gene = \"SFXN5\"\n",
    "# D52 Sert ROT"
   ]
  },
  {
   "cell_type": "code",
   "execution_count": 4,
   "metadata": {},
   "outputs": [],
   "source": [
    "### rsid (Sert): rs4500972"
   ]
  },
  {
   "cell_type": "code",
   "execution_count": 5,
   "metadata": {
    "scrolled": true
   },
   "outputs": [
    {
     "data": {
      "text/html": [
       "<table>\n",
       "<thead><tr><th scope=col>feature_id</th><th scope=col>chromosome</th><th scope=col>start</th><th scope=col>end</th></tr></thead>\n",
       "<tbody>\n",
       "</tbody>\n",
       "</table>\n"
      ],
      "text/latex": [
       "\\begin{tabular}{r|llll}\n",
       " feature\\_id & chromosome & start & end\\\\\n",
       "\\hline\n",
       "\\end{tabular}\n"
      ],
      "text/markdown": [
       "\n",
       "| feature_id | chromosome | start | end |\n",
       "|---|---|---|---|\n",
       "\n"
      ],
      "text/plain": [
       "     feature_id chromosome start end"
      ]
     },
     "metadata": {},
     "output_type": "display_data"
    }
   ],
   "source": [
    "annos[annos$hgnc_symbol == gene,]"
   ]
  },
  {
   "cell_type": "code",
   "execution_count": 17,
   "metadata": {},
   "outputs": [
    {
     "data": {
      "text/html": [
       "<table>\n",
       "<thead><tr><th scope=col>donor_id</th><th scope=col>celltype</th><th scope=col>treatment</th><th scope=col>n_cells</th><th scope=col>AL627309.1</th></tr></thead>\n",
       "<tbody>\n",
       "\t<tr><td>HPSI0114i-bezi_3</td><td>Sert            </td><td>NONE            </td><td>68              </td><td>0.03225962      </td></tr>\n",
       "\t<tr><td>HPSI0114i-bezi_3</td><td>Sert            </td><td>ROT             </td><td>58              </td><td>0.00276752      </td></tr>\n",
       "\t<tr><td>HPSI0114i-eipl_1</td><td>Sert            </td><td>NONE            </td><td>42              </td><td>0.01843045      </td></tr>\n",
       "\t<tr><td>HPSI0114i-eipl_1</td><td>Sert            </td><td>ROT             </td><td>44              </td><td>0.00722513      </td></tr>\n",
       "\t<tr><td>HPSI0114i-fikt_3</td><td>Sert            </td><td>NONE            </td><td>26              </td><td>0.00000000      </td></tr>\n",
       "</tbody>\n",
       "</table>\n"
      ],
      "text/latex": [
       "\\begin{tabular}{r|lllll}\n",
       " donor\\_id & celltype & treatment & n\\_cells & AL627309.1\\\\\n",
       "\\hline\n",
       "\t HPSI0114i-bezi\\_3 & Sert               & NONE               & 68                 & 0.03225962        \\\\\n",
       "\t HPSI0114i-bezi\\_3 & Sert               & ROT                & 58                 & 0.00276752        \\\\\n",
       "\t HPSI0114i-eipl\\_1 & Sert               & NONE               & 42                 & 0.01843045        \\\\\n",
       "\t HPSI0114i-eipl\\_1 & Sert               & ROT                & 44                 & 0.00722513        \\\\\n",
       "\t HPSI0114i-fikt\\_3 & Sert               & NONE               & 26                 & 0.00000000        \\\\\n",
       "\\end{tabular}\n"
      ],
      "text/markdown": [
       "\n",
       "| donor_id | celltype | treatment | n_cells | AL627309.1 |\n",
       "|---|---|---|---|---|\n",
       "| HPSI0114i-bezi_3 | Sert             | NONE             | 68               | 0.03225962       |\n",
       "| HPSI0114i-bezi_3 | Sert             | ROT              | 58               | 0.00276752       |\n",
       "| HPSI0114i-eipl_1 | Sert             | NONE             | 42               | 0.01843045       |\n",
       "| HPSI0114i-eipl_1 | Sert             | ROT              | 44               | 0.00722513       |\n",
       "| HPSI0114i-fikt_3 | Sert             | NONE             | 26               | 0.00000000       |\n",
       "\n"
      ],
      "text/plain": [
       "  donor_id         celltype treatment n_cells AL627309.1\n",
       "1 HPSI0114i-bezi_3 Sert     NONE      68      0.03225962\n",
       "2 HPSI0114i-bezi_3 Sert     ROT       58      0.00276752\n",
       "3 HPSI0114i-eipl_1 Sert     NONE      42      0.01843045\n",
       "4 HPSI0114i-eipl_1 Sert     ROT       44      0.00722513\n",
       "5 HPSI0114i-fikt_3 Sert     NONE      26      0.00000000"
      ]
     },
     "metadata": {},
     "output_type": "display_data"
    }
   ],
   "source": [
    "# #### get expression\n",
    "mydir = \"/nfs/leia/research/stegle/dseaton/hipsci/singlecell_neuroseq/data/data_processed/pool1_17_D52/\"\n",
    "myfile = paste0(mydir,\"pool1_17_D52.scanpy.w_metadata.w_celltype.scanpy.celltype.Sert.groupedby.donor_id-celltype-treatment.mean.tsv\")\n",
    "df = read.csv(myfile,sep=\"\\t\")\n",
    "df[1:5,1:5]"
   ]
  },
  {
   "cell_type": "code",
   "execution_count": 18,
   "metadata": {},
   "outputs": [],
   "source": [
    "good_donors = df[df$n_cells >50 & df$treatment == 'ROT',c(\"donor_id\",\"treatment\")]$donor_id"
   ]
  },
  {
   "cell_type": "code",
   "execution_count": 19,
   "metadata": {},
   "outputs": [
    {
     "data": {
      "text/html": [
       "<table>\n",
       "<thead><tr><th scope=col>ensembl_gene_id</th><th scope=col>HPSI0114i.bezi_3</th><th scope=col>HPSI0114i.eipl_1</th><th scope=col>HPSI0114i.fikt_3</th><th scope=col>HPSI0114i.kolf_2</th><th scope=col>HPSI0114i.lexy_2</th><th scope=col>HPSI0114i.posc_1</th><th scope=col>HPSI0114i.rozh_4</th><th scope=col>HPSI0114i.vass_1</th><th scope=col>HPSI0114i.wegi_1</th><th scope=col>...</th><th scope=col>HPSI1113i.bima_1</th><th scope=col>HPSI1113i.hayt_3</th><th scope=col>HPSI1113i.ieki_3</th><th scope=col>HPSI1113i.podx_1</th><th scope=col>HPSI1113i.qolg_1</th><th scope=col>HPSI1113i.qorq_1</th><th scope=col>HPSI1113i.vuud_2</th><th scope=col>HPSI1114i.kuul_1</th><th scope=col>HPSI1114i.ualf_6</th><th scope=col>HPSI1213i.hehd_1</th></tr></thead>\n",
       "<tbody>\n",
       "\t<tr><td>ENSG00000261657</td><td>0.353294164    </td><td>0.2862783      </td><td>0.21444695     </td><td>0.253425717    </td><td>0.22801267     </td><td>0.2663584      </td><td>0.282673955    </td><td>0.192319945    </td><td>0.221492663    </td><td>...            </td><td>0.24069670     </td><td>0.258979768    </td><td>0.343341       </td><td>0.20157142     </td><td>0.243570328    </td><td>0.23427549     </td><td>0.23490462     </td><td>0.20412076     </td><td>0.249044746    </td><td>0.313499749    </td></tr>\n",
       "\t<tr><td>ENSG00000227640</td><td>0.006752759    </td><td>0.0000000      </td><td>0.04730725     </td><td>0.007755129    </td><td>0.01284033     </td><td>0.0000000      </td><td>0.006427986    </td><td>0.007773887    </td><td>0.009516524    </td><td>...            </td><td>0.01406963     </td><td>0.007696712    </td><td>0.000000       </td><td>0.01089645     </td><td>0.004195279    </td><td>0.01910956     </td><td>0.01743835     </td><td>0.00848035     </td><td>0.007274092    </td><td>0.005590654    </td></tr>\n",
       "</tbody>\n",
       "</table>\n"
      ],
      "text/latex": [
       "\\begin{tabular}{r|lllllllllllllllllllllllllllllllllllllllllllllllllllllllllllllllllllllllllllllllllllllllllllllllllllllllllllllllllllllllllllllllllllllllllllllllllllllllllll}\n",
       " ensembl\\_gene\\_id & HPSI0114i.bezi\\_3 & HPSI0114i.eipl\\_1 & HPSI0114i.fikt\\_3 & HPSI0114i.kolf\\_2 & HPSI0114i.lexy\\_2 & HPSI0114i.posc\\_1 & HPSI0114i.rozh\\_4 & HPSI0114i.vass\\_1 & HPSI0114i.wegi\\_1 & ... & HPSI1113i.bima\\_1 & HPSI1113i.hayt\\_3 & HPSI1113i.ieki\\_3 & HPSI1113i.podx\\_1 & HPSI1113i.qolg\\_1 & HPSI1113i.qorq\\_1 & HPSI1113i.vuud\\_2 & HPSI1114i.kuul\\_1 & HPSI1114i.ualf\\_6 & HPSI1213i.hehd\\_1\\\\\n",
       "\\hline\n",
       "\t ENSG00000261657 & 0.353294164     & 0.2862783       & 0.21444695      & 0.253425717     & 0.22801267      & 0.2663584       & 0.282673955     & 0.192319945     & 0.221492663     & ...             & 0.24069670      & 0.258979768     & 0.343341        & 0.20157142      & 0.243570328     & 0.23427549      & 0.23490462      & 0.20412076      & 0.249044746     & 0.313499749    \\\\\n",
       "\t ENSG00000227640 & 0.006752759     & 0.0000000       & 0.04730725      & 0.007755129     & 0.01284033      & 0.0000000       & 0.006427986     & 0.007773887     & 0.009516524     & ...             & 0.01406963      & 0.007696712     & 0.000000        & 0.01089645      & 0.004195279     & 0.01910956      & 0.01743835      & 0.00848035      & 0.007274092     & 0.005590654    \\\\\n",
       "\\end{tabular}\n"
      ],
      "text/markdown": [
       "\n",
       "| ensembl_gene_id | HPSI0114i.bezi_3 | HPSI0114i.eipl_1 | HPSI0114i.fikt_3 | HPSI0114i.kolf_2 | HPSI0114i.lexy_2 | HPSI0114i.posc_1 | HPSI0114i.rozh_4 | HPSI0114i.vass_1 | HPSI0114i.wegi_1 | ... | HPSI1113i.bima_1 | HPSI1113i.hayt_3 | HPSI1113i.ieki_3 | HPSI1113i.podx_1 | HPSI1113i.qolg_1 | HPSI1113i.qorq_1 | HPSI1113i.vuud_2 | HPSI1114i.kuul_1 | HPSI1114i.ualf_6 | HPSI1213i.hehd_1 |\n",
       "|---|---|---|---|---|---|---|---|---|---|---|---|---|---|---|---|---|---|---|---|---|\n",
       "| ENSG00000261657 | 0.353294164     | 0.2862783       | 0.21444695      | 0.253425717     | 0.22801267      | 0.2663584       | 0.282673955     | 0.192319945     | 0.221492663     | ...             | 0.24069670      | 0.258979768     | 0.343341        | 0.20157142      | 0.243570328     | 0.23427549      | 0.23490462      | 0.20412076      | 0.249044746     | 0.313499749     |\n",
       "| ENSG00000227640 | 0.006752759     | 0.0000000       | 0.04730725      | 0.007755129     | 0.01284033      | 0.0000000       | 0.006427986     | 0.007773887     | 0.009516524     | ...             | 0.01406963      | 0.007696712     | 0.000000        | 0.01089645      | 0.004195279     | 0.01910956      | 0.01743835      | 0.00848035      | 0.007274092     | 0.005590654     |\n",
       "\n"
      ],
      "text/plain": [
       "  ensembl_gene_id HPSI0114i.bezi_3 HPSI0114i.eipl_1 HPSI0114i.fikt_3\n",
       "1 ENSG00000261657 0.353294164      0.2862783        0.21444695      \n",
       "2 ENSG00000227640 0.006752759      0.0000000        0.04730725      \n",
       "  HPSI0114i.kolf_2 HPSI0114i.lexy_2 HPSI0114i.posc_1 HPSI0114i.rozh_4\n",
       "1 0.253425717      0.22801267       0.2663584        0.282673955     \n",
       "2 0.007755129      0.01284033       0.0000000        0.006427986     \n",
       "  HPSI0114i.vass_1 HPSI0114i.wegi_1 ... HPSI1113i.bima_1 HPSI1113i.hayt_3\n",
       "1 0.192319945      0.221492663      ... 0.24069670       0.258979768     \n",
       "2 0.007773887      0.009516524      ... 0.01406963       0.007696712     \n",
       "  HPSI1113i.ieki_3 HPSI1113i.podx_1 HPSI1113i.qolg_1 HPSI1113i.qorq_1\n",
       "1 0.343341         0.20157142       0.243570328      0.23427549      \n",
       "2 0.000000         0.01089645       0.004195279      0.01910956      \n",
       "  HPSI1113i.vuud_2 HPSI1114i.kuul_1 HPSI1114i.ualf_6 HPSI1213i.hehd_1\n",
       "1 0.23490462       0.20412076       0.249044746      0.313499749     \n",
       "2 0.01743835       0.00848035       0.007274092      0.005590654     "
      ]
     },
     "metadata": {},
     "output_type": "display_data"
    }
   ],
   "source": [
    "mydir = \"/hps/nobackup/stegle/users/acuomo/all_scripts/sc_neuroseq/eqtl/timepoint_D52/input_files_ROT_treated/celltype_Sert/\"\n",
    "pheno_file = paste0(mydir, \"phenotypes.tsv\")\n",
    "pheno = read.csv(pheno_file,sep=\"\\t\")\n",
    "head(pheno,2)"
   ]
  },
  {
   "cell_type": "code",
   "execution_count": 20,
   "metadata": {},
   "outputs": [
    {
     "data": {
      "text/html": [
       "<table>\n",
       "<thead><tr><th></th><th scope=col>donor_id</th><th scope=col>SFXN5</th></tr></thead>\n",
       "<tbody>\n",
       "\t<tr><th scope=row>HPSI0114i.bezi_3</th><td>HPSI0114i-bezi_3</td><td>0.01609323      </td></tr>\n",
       "\t<tr><th scope=row>HPSI0114i.eipl_1</th><td>HPSI0114i-eipl_1</td><td>0.04214113      </td></tr>\n",
       "</tbody>\n",
       "</table>\n"
      ],
      "text/latex": [
       "\\begin{tabular}{r|ll}\n",
       "  & donor\\_id & SFXN5\\\\\n",
       "\\hline\n",
       "\tHPSI0114i.bezi\\_3 & HPSI0114i-bezi\\_3 & 0.01609323        \\\\\n",
       "\tHPSI0114i.eipl\\_1 & HPSI0114i-eipl\\_1 & 0.04214113        \\\\\n",
       "\\end{tabular}\n"
      ],
      "text/markdown": [
       "\n",
       "| <!--/--> | donor_id | SFXN5 |\n",
       "|---|---|---|\n",
       "| HPSI0114i.bezi_3 | HPSI0114i-bezi_3 | 0.01609323       |\n",
       "| HPSI0114i.eipl_1 | HPSI0114i-eipl_1 | 0.04214113       |\n",
       "\n"
      ],
      "text/plain": [
       "                 donor_id         SFXN5     \n",
       "HPSI0114i.bezi_3 HPSI0114i-bezi_3 0.01609323\n",
       "HPSI0114i.eipl_1 HPSI0114i-eipl_1 0.04214113"
      ]
     },
     "metadata": {},
     "output_type": "display_data"
    }
   ],
   "source": [
    "df_e = data.frame(donor_id = gsub(\"\\\\.\",\"-\",colnames(pheno)[2:ncol(pheno)]),\n",
    "               gene = t(pheno[pheno$ensembl_gene_id == 'ENSG00000144040',2:ncol(pheno)]))\n",
    "colnames(df_e)[2] = \"SFXN5\"\n",
    "head(df_e,2)"
   ]
  },
  {
   "cell_type": "code",
   "execution_count": 21,
   "metadata": {},
   "outputs": [
    {
     "data": {
      "text/html": [
       "<table>\n",
       "<thead><tr><th scope=col>donor_id</th><th scope=col>PC1</th><th scope=col>PC2</th><th scope=col>PC3</th><th scope=col>PC4</th><th scope=col>PC5</th><th scope=col>PC6</th><th scope=col>PC7</th><th scope=col>PC8</th><th scope=col>PC9</th><th scope=col>PC10</th><th scope=col>PC11</th><th scope=col>PC12</th><th scope=col>PC13</th><th scope=col>PC14</th><th scope=col>PC15</th></tr></thead>\n",
       "<tbody>\n",
       "\t<tr><td>HPSI0114i-bezi_3</td><td>0.3318606       </td><td>-4.278461       </td><td>0.5563826       </td><td>-0.2822374      </td><td>-4.738619       </td><td> 0.4572596      </td><td>-0.7995971      </td><td>0.453250        </td><td> 2.6759227      </td><td> 0.4329498      </td><td>-0.3524559      </td><td>-0.08393687     </td><td>-0.9362404      </td><td>0.5851453       </td><td>-0.008740024    </td></tr>\n",
       "\t<tr><td>HPSI0114i-eipl_1</td><td>0.4972270       </td><td> 4.049164       </td><td>1.3630827       </td><td> 2.3320827      </td><td> 1.226119       </td><td>-2.5320542      </td><td>-1.1408885      </td><td>2.711851        </td><td>-0.3550353      </td><td>-1.3212462      </td><td>-0.8799883      </td><td> 0.33915013     </td><td>-0.4415042      </td><td>0.3129603       </td><td> 1.133755558    </td></tr>\n",
       "</tbody>\n",
       "</table>\n"
      ],
      "text/latex": [
       "\\begin{tabular}{r|llllllllllllllll}\n",
       " donor\\_id & PC1 & PC2 & PC3 & PC4 & PC5 & PC6 & PC7 & PC8 & PC9 & PC10 & PC11 & PC12 & PC13 & PC14 & PC15\\\\\n",
       "\\hline\n",
       "\t HPSI0114i-bezi\\_3 & 0.3318606          & -4.278461          & 0.5563826          & -0.2822374         & -4.738619          &  0.4572596         & -0.7995971         & 0.453250           &  2.6759227         &  0.4329498         & -0.3524559         & -0.08393687        & -0.9362404         & 0.5851453          & -0.008740024      \\\\\n",
       "\t HPSI0114i-eipl\\_1 & 0.4972270          &  4.049164          & 1.3630827          &  2.3320827         &  1.226119          & -2.5320542         & -1.1408885         & 2.711851           & -0.3550353         & -1.3212462         & -0.8799883         &  0.33915013        & -0.4415042         & 0.3129603          &  1.133755558      \\\\\n",
       "\\end{tabular}\n"
      ],
      "text/markdown": [
       "\n",
       "| donor_id | PC1 | PC2 | PC3 | PC4 | PC5 | PC6 | PC7 | PC8 | PC9 | PC10 | PC11 | PC12 | PC13 | PC14 | PC15 |\n",
       "|---|---|---|---|---|---|---|---|---|---|---|---|---|---|---|---|\n",
       "| HPSI0114i-bezi_3 | 0.3318606        | -4.278461        | 0.5563826        | -0.2822374       | -4.738619        |  0.4572596       | -0.7995971       | 0.453250         |  2.6759227       |  0.4329498       | -0.3524559       | -0.08393687      | -0.9362404       | 0.5851453        | -0.008740024     |\n",
       "| HPSI0114i-eipl_1 | 0.4972270        |  4.049164        | 1.3630827        |  2.3320827       |  1.226119        | -2.5320542       | -1.1408885       | 2.711851         | -0.3550353       | -1.3212462       | -0.8799883       |  0.33915013      | -0.4415042       | 0.3129603        |  1.133755558     |\n",
       "\n"
      ],
      "text/plain": [
       "  donor_id         PC1       PC2       PC3       PC4        PC5      \n",
       "1 HPSI0114i-bezi_3 0.3318606 -4.278461 0.5563826 -0.2822374 -4.738619\n",
       "2 HPSI0114i-eipl_1 0.4972270  4.049164 1.3630827  2.3320827  1.226119\n",
       "  PC6        PC7        PC8      PC9        PC10       PC11       PC12       \n",
       "1  0.4572596 -0.7995971 0.453250  2.6759227  0.4329498 -0.3524559 -0.08393687\n",
       "2 -2.5320542 -1.1408885 2.711851 -0.3550353 -1.3212462 -0.8799883  0.33915013\n",
       "  PC13       PC14      PC15        \n",
       "1 -0.9362404 0.5851453 -0.008740024\n",
       "2 -0.4415042 0.3129603  1.133755558"
      ]
     },
     "metadata": {},
     "output_type": "display_data"
    }
   ],
   "source": [
    "covs_file = paste0(mydir, \"covariates.tsv\")\n",
    "covs = read.csv(covs_file,sep=\"\\t\")\n",
    "colnames(covs)[1] = \"donor_id\"\n",
    "head(covs,2)"
   ]
  },
  {
   "cell_type": "code",
   "execution_count": 22,
   "metadata": {},
   "outputs": [
    {
     "data": {
      "text/html": [
       "163"
      ],
      "text/latex": [
       "163"
      ],
      "text/markdown": [
       "163"
      ],
      "text/plain": [
       "[1] 163"
      ]
     },
     "metadata": {},
     "output_type": "display_data"
    },
    {
     "data": {
      "text/html": [
       "<ol class=list-inline>\n",
       "\t<li>'HPSI0114i-bezi_3'</li>\n",
       "\t<li>'HPSI0114i-eipl_1'</li>\n",
       "\t<li>'HPSI0114i-fikt_3'</li>\n",
       "\t<li>'HPSI0114i-kolf_2'</li>\n",
       "\t<li>'HPSI0114i-lexy_2'</li>\n",
       "\t<li>'HPSI0114i-posc_1'</li>\n",
       "</ol>\n"
      ],
      "text/latex": [
       "\\begin{enumerate*}\n",
       "\\item 'HPSI0114i-bezi\\_3'\n",
       "\\item 'HPSI0114i-eipl\\_1'\n",
       "\\item 'HPSI0114i-fikt\\_3'\n",
       "\\item 'HPSI0114i-kolf\\_2'\n",
       "\\item 'HPSI0114i-lexy\\_2'\n",
       "\\item 'HPSI0114i-posc\\_1'\n",
       "\\end{enumerate*}\n"
      ],
      "text/markdown": [
       "1. 'HPSI0114i-bezi_3'\n",
       "2. 'HPSI0114i-eipl_1'\n",
       "3. 'HPSI0114i-fikt_3'\n",
       "4. 'HPSI0114i-kolf_2'\n",
       "5. 'HPSI0114i-lexy_2'\n",
       "6. 'HPSI0114i-posc_1'\n",
       "\n",
       "\n"
      ],
      "text/plain": [
       "[1] \"HPSI0114i-bezi_3\" \"HPSI0114i-eipl_1\" \"HPSI0114i-fikt_3\" \"HPSI0114i-kolf_2\"\n",
       "[5] \"HPSI0114i-lexy_2\" \"HPSI0114i-posc_1\""
      ]
     },
     "metadata": {},
     "output_type": "display_data"
    }
   ],
   "source": [
    "sample_list = as.character(unique(df$donor_id))\n",
    "length(sample_list)\n",
    "head(sample_list)"
   ]
  },
  {
   "cell_type": "code",
   "execution_count": 23,
   "metadata": {},
   "outputs": [],
   "source": [
    "# write.csv(data.frame(samples = sample_list),\"/hps/nobackup/stegle/users/acuomo/all_scripts/sc_neuroseq/coloc/samples_Sert_D52_ROT.csv\")"
   ]
  },
  {
   "cell_type": "code",
   "execution_count": 24,
   "metadata": {},
   "outputs": [
    {
     "data": {
      "text/html": [
       "<table>\n",
       "<thead><tr><th scope=col>donor_id</th><th scope=col>genotype</th></tr></thead>\n",
       "<tbody>\n",
       "\t<tr><td>HPSI0114i-eipl_1</td><td>0               </td></tr>\n",
       "\t<tr><td>HPSI0114i-kolf_2</td><td>0               </td></tr>\n",
       "\t<tr><td>HPSI0114i-wegi_1</td><td>0               </td></tr>\n",
       "\t<tr><td>HPSI0115i-aion_2</td><td>2               </td></tr>\n",
       "\t<tr><td>HPSI0115i-aoxv_1</td><td>1               </td></tr>\n",
       "\t<tr><td>HPSI0115i-bimq_4</td><td>0               </td></tr>\n",
       "</tbody>\n",
       "</table>\n"
      ],
      "text/latex": [
       "\\begin{tabular}{r|ll}\n",
       " donor\\_id & genotype\\\\\n",
       "\\hline\n",
       "\t HPSI0114i-eipl\\_1 & 0                 \\\\\n",
       "\t HPSI0114i-kolf\\_2 & 0                 \\\\\n",
       "\t HPSI0114i-wegi\\_1 & 0                 \\\\\n",
       "\t HPSI0115i-aion\\_2 & 2                 \\\\\n",
       "\t HPSI0115i-aoxv\\_1 & 1                 \\\\\n",
       "\t HPSI0115i-bimq\\_4 & 0                 \\\\\n",
       "\\end{tabular}\n"
      ],
      "text/markdown": [
       "\n",
       "| donor_id | genotype |\n",
       "|---|---|\n",
       "| HPSI0114i-eipl_1 | 0                |\n",
       "| HPSI0114i-kolf_2 | 0                |\n",
       "| HPSI0114i-wegi_1 | 0                |\n",
       "| HPSI0115i-aion_2 | 2                |\n",
       "| HPSI0115i-aoxv_1 | 1                |\n",
       "| HPSI0115i-bimq_4 | 0                |\n",
       "\n"
      ],
      "text/plain": [
       "  donor_id         genotype\n",
       "1 HPSI0114i-eipl_1 0       \n",
       "2 HPSI0114i-kolf_2 0       \n",
       "3 HPSI0114i-wegi_1 0       \n",
       "4 HPSI0115i-aion_2 2       \n",
       "5 HPSI0115i-aoxv_1 1       \n",
       "6 HPSI0115i-bimq_4 0       "
      ]
     },
     "metadata": {},
     "output_type": "display_data"
    }
   ],
   "source": [
    "genos = read.csv(\"/hps/nobackup/stegle/users/acuomo/all_scripts/sc_neuroseq/coloc/genotypes_2_73767897_G_A_samples_Sert_D52_ROT.csv\")\n",
    "genos = read.csv(\"/hps/nobackup/stegle/users/acuomo/all_scripts/sc_neuroseq/coloc/genotypes_2_73767897_G_A_samples_Sert_D52_ROT_new_plink.csv\")\n",
    "\n",
    "colnames(genos) = c(\"donor_id\",\"genotype\")\n",
    "head(genos)"
   ]
  },
  {
   "cell_type": "code",
   "execution_count": 25,
   "metadata": {},
   "outputs": [],
   "source": [
    "# df_e = df[,c(\"donor_id\",gene)]\n",
    "# head(df_e)"
   ]
  },
  {
   "cell_type": "code",
   "execution_count": 26,
   "metadata": {},
   "outputs": [
    {
     "name": "stderr",
     "output_type": "stream",
     "text": [
      "Joining, by = \"donor_id\"\n",
      "Joining, by = \"donor_id\"\n",
      "Warning message:\n",
      "“Column `donor_id` joining factors with different levels, coercing to character vector”"
     ]
    },
    {
     "data": {
      "text/html": [
       "123"
      ],
      "text/latex": [
       "123"
      ],
      "text/markdown": [
       "123"
      ],
      "text/plain": [
       "[1] 123"
      ]
     },
     "metadata": {},
     "output_type": "display_data"
    },
    {
     "data": {
      "text/html": [
       "<table>\n",
       "<thead><tr><th scope=col>donor_id</th><th scope=col>genotype</th><th scope=col>SFXN5</th><th scope=col>PC1</th><th scope=col>PC2</th><th scope=col>PC3</th><th scope=col>PC4</th><th scope=col>PC5</th><th scope=col>PC6</th><th scope=col>PC7</th><th scope=col>PC8</th><th scope=col>PC9</th><th scope=col>PC10</th><th scope=col>PC11</th><th scope=col>PC12</th><th scope=col>PC13</th><th scope=col>PC14</th><th scope=col>PC15</th></tr></thead>\n",
       "<tbody>\n",
       "\t<tr><td>HPSI0114i-eipl_1</td><td>0               </td><td>0.04214113      </td><td> 0.497227       </td><td>4.049164        </td><td> 1.363083       </td><td> 2.332083       </td><td> 1.2261187      </td><td>-2.5320542      </td><td>-1.140889       </td><td> 2.711851       </td><td>-0.3550353      </td><td>-1.321246       </td><td>-0.8799883      </td><td> 0.3391501      </td><td>-0.4415042      </td><td>0.3129603       </td><td> 1.1337556      </td></tr>\n",
       "\t<tr><td>HPSI0114i-kolf_2</td><td>0               </td><td>0.01250283      </td><td>-2.793271       </td><td>1.631087        </td><td>-3.201278       </td><td>-1.413695       </td><td>-0.7119143      </td><td>-0.2562107      </td><td> 2.052730       </td><td>-1.325435       </td><td> 0.4490904      </td><td>-2.417348       </td><td>-0.1211456      </td><td>-1.5517203      </td><td>-0.9299182      </td><td>0.2432375       </td><td>-0.4558219      </td></tr>\n",
       "</tbody>\n",
       "</table>\n"
      ],
      "text/latex": [
       "\\begin{tabular}{r|llllllllllllllllll}\n",
       " donor\\_id & genotype & SFXN5 & PC1 & PC2 & PC3 & PC4 & PC5 & PC6 & PC7 & PC8 & PC9 & PC10 & PC11 & PC12 & PC13 & PC14 & PC15\\\\\n",
       "\\hline\n",
       "\t HPSI0114i-eipl\\_1 & 0                  & 0.04214113         &  0.497227          & 4.049164           &  1.363083          &  2.332083          &  1.2261187         & -2.5320542         & -1.140889          &  2.711851          & -0.3550353         & -1.321246          & -0.8799883         &  0.3391501         & -0.4415042         & 0.3129603          &  1.1337556        \\\\\n",
       "\t HPSI0114i-kolf\\_2 & 0                  & 0.01250283         & -2.793271          & 1.631087           & -3.201278          & -1.413695          & -0.7119143         & -0.2562107         &  2.052730          & -1.325435          &  0.4490904         & -2.417348          & -0.1211456         & -1.5517203         & -0.9299182         & 0.2432375          & -0.4558219        \\\\\n",
       "\\end{tabular}\n"
      ],
      "text/markdown": [
       "\n",
       "| donor_id | genotype | SFXN5 | PC1 | PC2 | PC3 | PC4 | PC5 | PC6 | PC7 | PC8 | PC9 | PC10 | PC11 | PC12 | PC13 | PC14 | PC15 |\n",
       "|---|---|---|---|---|---|---|---|---|---|---|---|---|---|---|---|---|---|\n",
       "| HPSI0114i-eipl_1 | 0                | 0.04214113       |  0.497227        | 4.049164         |  1.363083        |  2.332083        |  1.2261187       | -2.5320542       | -1.140889        |  2.711851        | -0.3550353       | -1.321246        | -0.8799883       |  0.3391501       | -0.4415042       | 0.3129603        |  1.1337556       |\n",
       "| HPSI0114i-kolf_2 | 0                | 0.01250283       | -2.793271        | 1.631087         | -3.201278        | -1.413695        | -0.7119143       | -0.2562107       |  2.052730        | -1.325435        |  0.4490904       | -2.417348        | -0.1211456       | -1.5517203       | -0.9299182       | 0.2432375        | -0.4558219       |\n",
       "\n"
      ],
      "text/plain": [
       "  donor_id         genotype SFXN5      PC1       PC2      PC3       PC4      \n",
       "1 HPSI0114i-eipl_1 0        0.04214113  0.497227 4.049164  1.363083  2.332083\n",
       "2 HPSI0114i-kolf_2 0        0.01250283 -2.793271 1.631087 -3.201278 -1.413695\n",
       "  PC5        PC6        PC7       PC8       PC9        PC10      PC11      \n",
       "1  1.2261187 -2.5320542 -1.140889  2.711851 -0.3550353 -1.321246 -0.8799883\n",
       "2 -0.7119143 -0.2562107  2.052730 -1.325435  0.4490904 -2.417348 -0.1211456\n",
       "  PC12       PC13       PC14      PC15      \n",
       "1  0.3391501 -0.4415042 0.3129603  1.1337556\n",
       "2 -1.5517203 -0.9299182 0.2432375 -0.4558219"
      ]
     },
     "metadata": {},
     "output_type": "display_data"
    }
   ],
   "source": [
    "df_box = inner_join(genos, inner_join(df_e,covs))\n",
    "nrow(df_box)\n",
    "head(df_box,2)"
   ]
  },
  {
   "cell_type": "code",
   "execution_count": 27,
   "metadata": {},
   "outputs": [],
   "source": [
    "snp = \"2_73767897_G_A\""
   ]
  },
  {
   "cell_type": "code",
   "execution_count": 28,
   "metadata": {},
   "outputs": [],
   "source": [
    "# try regressing out covariates"
   ]
  },
  {
   "cell_type": "code",
   "execution_count": 29,
   "metadata": {},
   "outputs": [],
   "source": [
    "options(repr.plot.width=4, repr.plot.height=3.8)\n",
    "mylm = lm(SFXN5 ~ PC1+PC2+PC3+PC4+PC5+PC6+PC7+PC8+PC9+PC10+PC11+PC12+PC13+PC14+PC15, data = df_box)\n",
    "df_box$res_SFXN5 = summary(mylm)$res\n",
    "# summary(mylm)$res"
   ]
  },
  {
   "cell_type": "code",
   "execution_count": 31,
   "metadata": {},
   "outputs": [
    {
     "data": {
      "image/png": "[encoded data removed]",
      "text/plain": [
       "plot without title"
      ]
     },
     "metadata": {},
     "output_type": "display_data"
    }
   ],
   "source": [
    "# ggplot(df_box, \n",
    "ggplot(df_box[df_box$donor_id %in% good_donors,], \n",
    "       aes(x = as.character(genotype), y = SFXN5)) + xlab(snp) +\n",
    "    geom_violin() + geom_quasirandom(alpha = 0.5, size = 0.5) + geom_boxplot(width=0.2) + ggtitle(\"Sert_D52_ROT\")"
   ]
  },
  {
   "cell_type": "code",
   "execution_count": 132,
   "metadata": {},
   "outputs": [
    {
     "data": {
      "image/png": "[encoded data removed]",
      "text/plain": [
       "plot without title"
      ]
     },
     "metadata": {},
     "output_type": "display_data"
    }
   ],
   "source": [
    "# ggplot(df_box[df_box$genotype %in% c(0,1),], \n",
    "ggplot(df_box[df_box$donor_id %in% good_donors,], \n",
    "       aes(x = as.character(genotype), y = SFXN5)) + xlab(snp) +\n",
    "    geom_violin() + geom_quasirandom(alpha = 0.5, size = 0.5) + geom_boxplot(width=0.2) + ggtitle(\"Sert_D52_ROT\")"
   ]
  },
  {
   "cell_type": "code",
   "execution_count": null,
   "metadata": {},
   "outputs": [],
   "source": []
  },
  {
   "cell_type": "code",
   "execution_count": null,
   "metadata": {},
   "outputs": [],
   "source": []
  },
  {
   "cell_type": "code",
   "execution_count": 32,
   "metadata": {},
   "outputs": [],
   "source": [
    "# example 2\n",
    "gene = \"FGFR1\"\n",
    "# D11 FPP (and D11 P_FPP)"
   ]
  },
  {
   "cell_type": "code",
   "execution_count": 33,
   "metadata": {},
   "outputs": [
    {
     "data": {
      "text/html": [
       "<table>\n",
       "<thead><tr><th scope=col>feature_id</th><th scope=col>chromosome</th><th scope=col>start</th><th scope=col>end</th></tr></thead>\n",
       "<tbody>\n",
       "</tbody>\n",
       "</table>\n"
      ],
      "text/latex": [
       "\\begin{tabular}{r|llll}\n",
       " feature\\_id & chromosome & start & end\\\\\n",
       "\\hline\n",
       "\\end{tabular}\n"
      ],
      "text/markdown": [
       "\n",
       "| feature_id | chromosome | start | end |\n",
       "|---|---|---|---|\n",
       "\n"
      ],
      "text/plain": [
       "     feature_id chromosome start end"
      ]
     },
     "metadata": {},
     "output_type": "display_data"
    }
   ],
   "source": [
    "annos[annos$hgnc_symbol == gene,]"
   ]
  },
  {
   "cell_type": "code",
   "execution_count": 34,
   "metadata": {},
   "outputs": [],
   "source": [
    "### rsid (FPP): rs3925\n",
    "### rsid (P_FPP): "
   ]
  },
  {
   "cell_type": "code",
   "execution_count": 35,
   "metadata": {},
   "outputs": [
    {
     "name": "stderr",
     "output_type": "stream",
     "text": [
      "Warning message in cbind(parts$left, ellip_h, parts$right, deparse.level = 0L):\n",
      "“number of rows of result is not a multiple of vector length (arg 2)”Warning message in cbind(parts$left, ellip_h, parts$right, deparse.level = 0L):\n",
      "“number of rows of result is not a multiple of vector length (arg 2)”Warning message in cbind(parts$left, ellip_h, parts$right, deparse.level = 0L):\n",
      "“number of rows of result is not a multiple of vector length (arg 2)”Warning message in cbind(parts$left, ellip_h, parts$right, deparse.level = 0L):\n",
      "“number of rows of result is not a multiple of vector length (arg 2)”"
     ]
    },
    {
     "data": {
      "text/html": [
       "<table>\n",
       "<thead><tr><th scope=col>snp_id</th><th scope=col>p_value</th><th scope=col>beta</th><th scope=col>beta_se</th><th scope=col>empirical_feature_p_value</th><th scope=col>feature_chromosome</th><th scope=col>feature_start</th><th scope=col>feature_end</th><th scope=col>n_samples</th><th scope=col>n_e_samples</th><th scope=col>...</th><th scope=col>beta_param</th><th scope=col>snp_chromosome</th><th scope=col>snp_position</th><th scope=col>assessed_allele</th><th scope=col>call_rate</th><th scope=col>maf</th><th scope=col>hwe_p</th><th scope=col>feature_id</th><th scope=col>global_corr_p_value</th><th scope=col>label</th></tr></thead>\n",
       "<tbody>\n",
       "</tbody>\n",
       "</table>\n"
      ],
      "text/latex": [
       "\\begin{tabular}{r|lllllllllllllllllllll}\n",
       " snp\\_id & p\\_value & beta & beta\\_se & empirical\\_feature\\_p\\_value & feature\\_chromosome & feature\\_start & feature\\_end & n\\_samples & n\\_e\\_samples & ... & beta\\_param & snp\\_chromosome & snp\\_position & assessed\\_allele & call\\_rate & maf & hwe\\_p & feature\\_id & global\\_corr\\_p\\_value & label\\\\\n",
       "\\hline\n",
       "\\end{tabular}\n"
      ],
      "text/markdown": [
       "\n",
       "| snp_id | p_value | beta | beta_se | empirical_feature_p_value | feature_chromosome | feature_start | feature_end | n_samples | n_e_samples | ... | beta_param | snp_chromosome | snp_position | assessed_allele | call_rate | maf | hwe_p | feature_id | global_corr_p_value | label |\n",
       "|---|---|---|---|---|---|---|---|---|---|---|---|---|---|---|---|---|---|---|---|---|\n",
       "\n"
      ],
      "text/plain": [
       "     snp_id p_value beta beta_se empirical_feature_p_value feature_chromosome\n",
       "     feature_start feature_end n_samples n_e_samples ... beta_param\n",
       "     snp_chromosome snp_position assessed_allele call_rate maf hwe_p feature_id\n",
       "     global_corr_p_value label"
      ]
     },
     "metadata": {},
     "output_type": "display_data"
    }
   ],
   "source": [
    "leads[leads$feature_id == as.character(annos[annos$hgnc_symbol == gene,\"ensembl_gene_id\"]),]"
   ]
  },
  {
   "cell_type": "code",
   "execution_count": 36,
   "metadata": {},
   "outputs": [],
   "source": [
    "snp = leads[leads$feature_id == as.character(annos[annos$hgnc_symbol == gene,\"ensembl_gene_id\"])\n",
    "            & leads$label == \"P_FPP_D11\",\"snp_id\"]"
   ]
  },
  {
   "cell_type": "code",
   "execution_count": 37,
   "metadata": {},
   "outputs": [
    {
     "name": "stderr",
     "output_type": "stream",
     "text": [
      "ERROR while rich displaying an object: Error in sprintf(wrap, header, body): 'fmt' length exceeds maximal format length 8192\n",
      "\n",
      "Traceback:\n",
      "1. FUN(X[[i]], ...)\n",
      "2. tryCatch(withCallingHandlers({\n",
      " .     if (!mime %in% names(repr::mime2repr)) \n",
      " .         stop(\"No repr_* for mimetype \", mime, \" in repr::mime2repr\")\n",
      " .     rpr <- repr::mime2repr[[mime]](obj)\n",
      " .     if (is.null(rpr)) \n",
      " .         return(NULL)\n",
      " .     prepare_content(is.raw(rpr), rpr)\n",
      " . }, error = error_handler), error = outer_handler)\n",
      "3. tryCatchList(expr, classes, parentenv, handlers)\n",
      "4. tryCatchOne(expr, names, parentenv, handlers[[1L]])\n",
      "5. doTryCatch(return(expr), name, parentenv, handler)\n",
      "6. withCallingHandlers({\n",
      " .     if (!mime %in% names(repr::mime2repr)) \n",
      " .         stop(\"No repr_* for mimetype \", mime, \" in repr::mime2repr\")\n",
      " .     rpr <- repr::mime2repr[[mime]](obj)\n",
      " .     if (is.null(rpr)) \n",
      " .         return(NULL)\n",
      " .     prepare_content(is.raw(rpr), rpr)\n",
      " . }, error = error_handler)\n",
      "7. repr::mime2repr[[mime]](obj)\n",
      "8. repr_latex.data.frame(obj)\n",
      "9. repr_matrix_generic(obj, sprintf(\"\\\\begin{tabular}{%s}\\n%%s%%s\\\\end{tabular}\\n\", \n",
      " .     cols), \"%s\\\\\\\\\\n\\\\hline\\n\", \"  &\", \" %s &\", \"%s\", \"\\t%s\\\\\\\\\\n\", \n",
      " .     \"%s &\", \" %s &\", escape_fun = latex_escape_vec, ...)\n",
      "10. sprintf(wrap, header, body)\n"
     ]
    },
    {
     "data": {
      "text/html": [
       "<table>\n",
       "<thead><tr><th scope=col>donor_id</th><th scope=col>celltype</th><th scope=col>n_cells</th><th scope=col>AL627309.1</th><th scope=col>AP006222.2</th><th scope=col>RP11.206L10.3</th><th scope=col>RP11.206L10.9</th><th scope=col>LINC00115</th><th scope=col>NOC2L</th><th scope=col>KLHL17</th><th scope=col>...</th><th scope=col>MT.ND3</th><th scope=col>MT.ND4L</th><th scope=col>MT.ND4</th><th scope=col>MT.ND5</th><th scope=col>MT.ND6</th><th scope=col>MT.CYB</th><th scope=col>AC011043.1</th><th scope=col>AL592183.1</th><th scope=col>PNRC2.1</th><th scope=col>SRSF10.1</th></tr></thead>\n",
       "<tbody>\n",
       "\t<tr><td>HPSI0114i-eipl_1</td><td>P_FPP           </td><td>1217            </td><td>0.009280643     </td><td>0.3418392       </td><td>0.008828639     </td><td>0.005040491     </td><td>0.007487964     </td><td>0.4815755       </td><td>0.013500769     </td><td>...             </td><td>1.319109        </td><td>0.2015044       </td><td>2.874430        </td><td>1.1733724       </td><td>0.4587706       </td><td>2.171530        </td><td>0.02662877      </td><td>0.002244468     </td><td>0.009346613     </td><td>0.127432942     </td></tr>\n",
       "\t<tr><td>HPSI0114i-kolf_2</td><td>P_FPP           </td><td> 190            </td><td>0.003320321     </td><td>0.1854455       </td><td>0.005438127     </td><td>0.008366805     </td><td>0.003488010     </td><td>0.3011984       </td><td>0.007945000     </td><td>...             </td><td>1.142614        </td><td>0.2125254       </td><td>2.598601        </td><td>0.9154019       </td><td>0.5492175       </td><td>1.144560        </td><td>0.09623521      </td><td>0.023505468     </td><td>0.000000000     </td><td>0.002933964     </td></tr>\n",
       "\t<tr><td>HPSI0114i-wegi_1</td><td>P_FPP           </td><td>2097            </td><td>0.004134880     </td><td>0.1857107       </td><td>0.009563340     </td><td>0.006807430     </td><td>0.013163941     </td><td>0.3652372       </td><td>0.006996602     </td><td>...             </td><td>1.083112        </td><td>0.1580659       </td><td>2.450115        </td><td>0.9588808       </td><td>0.6881527       </td><td>1.540627        </td><td>0.08488477      </td><td>0.032623567     </td><td>0.008720264     </td><td>0.106651425     </td></tr>\n",
       "\t<tr><td>HPSI0115i-aion_2</td><td>P_FPP           </td><td> 319            </td><td>0.015013823     </td><td>0.1739536       </td><td>0.004735840     </td><td>0.004450737     </td><td>0.009010090     </td><td>0.3828991       </td><td>0.014090389     </td><td>...             </td><td>1.530480        </td><td>0.2525125       </td><td>2.770053        </td><td>1.5726649       </td><td>0.6089909       </td><td>2.426620        </td><td>0.11712592      </td><td>0.000000000     </td><td>0.016659437     </td><td>0.206926525     </td></tr>\n",
       "\t<tr><td>HPSI0115i-aoxv_1</td><td>P_FPP           </td><td>1477            </td><td>0.009253491     </td><td>0.2081047       </td><td>0.001862930     </td><td>0.005527560     </td><td>0.007206053     </td><td>0.4102992       </td><td>0.013679845     </td><td>...             </td><td>1.555785        </td><td>0.2521661       </td><td>2.931019        </td><td>1.3469845       </td><td>0.6198581       </td><td>2.085716        </td><td>0.07619438      </td><td>0.127373070     </td><td>0.006385079     </td><td>0.135596871     </td></tr>\n",
       "\t<tr><td>HPSI0115i-bimq_4</td><td>P_FPP           </td><td> 206            </td><td>0.013760317     </td><td>0.1245470       </td><td>0.002673826     </td><td>0.003828513     </td><td>0.005049992     </td><td>0.4211598       </td><td>0.003000410     </td><td>...             </td><td>1.667565        </td><td>0.3013913       </td><td>3.097911        </td><td>1.6440159       </td><td>0.5375900       </td><td>2.618253        </td><td>0.03531337      </td><td>0.043138642     </td><td>0.005874957     </td><td>0.217759132     </td></tr>\n",
       "</tbody>\n",
       "</table>\n"
      ],
      "text/markdown": [
       "\n",
       "| donor_id | celltype | n_cells | AL627309.1 | AP006222.2 | RP11.206L10.3 | RP11.206L10.9 | LINC00115 | NOC2L | KLHL17 | ... | MT.ND3 | MT.ND4L | MT.ND4 | MT.ND5 | MT.ND6 | MT.CYB | AC011043.1 | AL592183.1 | PNRC2.1 | SRSF10.1 |\n",
       "|---|---|---|---|---|---|---|---|---|---|---|---|---|---|---|---|---|---|---|---|---|\n",
       "| HPSI0114i-eipl_1 | P_FPP            | 1217             | 0.009280643      | 0.3418392        | 0.008828639      | 0.005040491      | 0.007487964      | 0.4815755        | 0.013500769      | ...              | 1.319109         | 0.2015044        | 2.874430         | 1.1733724        | 0.4587706        | 2.171530         | 0.02662877       | 0.002244468      | 0.009346613      | 0.127432942      |\n",
       "| HPSI0114i-kolf_2 | P_FPP            |  190             | 0.003320321      | 0.1854455        | 0.005438127      | 0.008366805      | 0.003488010      | 0.3011984        | 0.007945000      | ...              | 1.142614         | 0.2125254        | 2.598601         | 0.9154019        | 0.5492175        | 1.144560         | 0.09623521       | 0.023505468      | 0.000000000      | 0.002933964      |\n",
       "| HPSI0114i-wegi_1 | P_FPP            | 2097             | 0.004134880      | 0.1857107        | 0.009563340      | 0.006807430      | 0.013163941      | 0.3652372        | 0.006996602      | ...              | 1.083112         | 0.1580659        | 2.450115         | 0.9588808        | 0.6881527        | 1.540627         | 0.08488477       | 0.032623567      | 0.008720264      | 0.106651425      |\n",
       "| HPSI0115i-aion_2 | P_FPP            |  319             | 0.015013823      | 0.1739536        | 0.004735840      | 0.004450737      | 0.009010090      | 0.3828991        | 0.014090389      | ...              | 1.530480         | 0.2525125        | 2.770053         | 1.5726649        | 0.6089909        | 2.426620         | 0.11712592       | 0.000000000      | 0.016659437      | 0.206926525      |\n",
       "| HPSI0115i-aoxv_1 | P_FPP            | 1477             | 0.009253491      | 0.2081047        | 0.001862930      | 0.005527560      | 0.007206053      | 0.4102992        | 0.013679845      | ...              | 1.555785         | 0.2521661        | 2.931019         | 1.3469845        | 0.6198581        | 2.085716         | 0.07619438       | 0.127373070      | 0.006385079      | 0.135596871      |\n",
       "| HPSI0115i-bimq_4 | P_FPP            |  206             | 0.013760317      | 0.1245470        | 0.002673826      | 0.003828513      | 0.005049992      | 0.4211598        | 0.003000410      | ...              | 1.667565         | 0.3013913        | 3.097911         | 1.6440159        | 0.5375900        | 2.618253         | 0.03531337       | 0.043138642      | 0.005874957      | 0.217759132      |\n",
       "\n"
      ],
      "text/plain": [
       "  donor_id         celltype n_cells AL627309.1  AP006222.2 RP11.206L10.3\n",
       "1 HPSI0114i-eipl_1 P_FPP    1217    0.009280643 0.3418392  0.008828639  \n",
       "2 HPSI0114i-kolf_2 P_FPP     190    0.003320321 0.1854455  0.005438127  \n",
       "3 HPSI0114i-wegi_1 P_FPP    2097    0.004134880 0.1857107  0.009563340  \n",
       "4 HPSI0115i-aion_2 P_FPP     319    0.015013823 0.1739536  0.004735840  \n",
       "5 HPSI0115i-aoxv_1 P_FPP    1477    0.009253491 0.2081047  0.001862930  \n",
       "6 HPSI0115i-bimq_4 P_FPP     206    0.013760317 0.1245470  0.002673826  \n",
       "  RP11.206L10.9 LINC00115   NOC2L     KLHL17      ... MT.ND3   MT.ND4L  \n",
       "1 0.005040491   0.007487964 0.4815755 0.013500769 ... 1.319109 0.2015044\n",
       "2 0.008366805   0.003488010 0.3011984 0.007945000 ... 1.142614 0.2125254\n",
       "3 0.006807430   0.013163941 0.3652372 0.006996602 ... 1.083112 0.1580659\n",
       "4 0.004450737   0.009010090 0.3828991 0.014090389 ... 1.530480 0.2525125\n",
       "5 0.005527560   0.007206053 0.4102992 0.013679845 ... 1.555785 0.2521661\n",
       "6 0.003828513   0.005049992 0.4211598 0.003000410 ... 1.667565 0.3013913\n",
       "  MT.ND4   MT.ND5    MT.ND6    MT.CYB   AC011043.1 AL592183.1  PNRC2.1    \n",
       "1 2.874430 1.1733724 0.4587706 2.171530 0.02662877 0.002244468 0.009346613\n",
       "2 2.598601 0.9154019 0.5492175 1.144560 0.09623521 0.023505468 0.000000000\n",
       "3 2.450115 0.9588808 0.6881527 1.540627 0.08488477 0.032623567 0.008720264\n",
       "4 2.770053 1.5726649 0.6089909 2.426620 0.11712592 0.000000000 0.016659437\n",
       "5 2.931019 1.3469845 0.6198581 2.085716 0.07619438 0.127373070 0.006385079\n",
       "6 3.097911 1.6440159 0.5375900 2.618253 0.03531337 0.043138642 0.005874957\n",
       "  SRSF10.1   \n",
       "1 0.127432942\n",
       "2 0.002933964\n",
       "3 0.106651425\n",
       "4 0.206926525\n",
       "5 0.135596871\n",
       "6 0.217759132"
      ]
     },
     "metadata": {},
     "output_type": "display_data"
    }
   ],
   "source": [
    "#### get expression\n",
    "mydir = \"/nfs/leia/research/stegle/dseaton/hipsci/singlecell_neuroseq/data/data_processed/pool1_13_noddd_D11/\"\n",
    "myfile = paste0(mydir,\"pool1_13_noddd_D11.scanpy.w_metadata.w_celltype.scanpy.celltype.P_FPP.groupedby.donor_id-celltype.mean.tsv\")\n",
    "df = read.csv(myfile,sep=\"\\t\")\n",
    "head(df)"
   ]
  },
  {
   "cell_type": "code",
   "execution_count": 38,
   "metadata": {},
   "outputs": [
    {
     "data": {
      "text/html": [
       "172"
      ],
      "text/latex": [
       "172"
      ],
      "text/markdown": [
       "172"
      ],
      "text/plain": [
       "[1] 172"
      ]
     },
     "metadata": {},
     "output_type": "display_data"
    },
    {
     "data": {
      "text/html": [
       "<ol class=list-inline>\n",
       "\t<li>'HPSI0114i-eipl_1'</li>\n",
       "\t<li>'HPSI0114i-kolf_2'</li>\n",
       "\t<li>'HPSI0114i-wegi_1'</li>\n",
       "\t<li>'HPSI0115i-aion_2'</li>\n",
       "\t<li>'HPSI0115i-aoxv_1'</li>\n",
       "\t<li>'HPSI0115i-bimq_4'</li>\n",
       "</ol>\n"
      ],
      "text/latex": [
       "\\begin{enumerate*}\n",
       "\\item 'HPSI0114i-eipl\\_1'\n",
       "\\item 'HPSI0114i-kolf\\_2'\n",
       "\\item 'HPSI0114i-wegi\\_1'\n",
       "\\item 'HPSI0115i-aion\\_2'\n",
       "\\item 'HPSI0115i-aoxv\\_1'\n",
       "\\item 'HPSI0115i-bimq\\_4'\n",
       "\\end{enumerate*}\n"
      ],
      "text/markdown": [
       "1. 'HPSI0114i-eipl_1'\n",
       "2. 'HPSI0114i-kolf_2'\n",
       "3. 'HPSI0114i-wegi_1'\n",
       "4. 'HPSI0115i-aion_2'\n",
       "5. 'HPSI0115i-aoxv_1'\n",
       "6. 'HPSI0115i-bimq_4'\n",
       "\n",
       "\n"
      ],
      "text/plain": [
       "[1] \"HPSI0114i-eipl_1\" \"HPSI0114i-kolf_2\" \"HPSI0114i-wegi_1\" \"HPSI0115i-aion_2\"\n",
       "[5] \"HPSI0115i-aoxv_1\" \"HPSI0115i-bimq_4\""
      ]
     },
     "metadata": {},
     "output_type": "display_data"
    }
   ],
   "source": [
    "sample_list = as.character(unique(df$donor_id))\n",
    "length(sample_list)\n",
    "head(sample_list)"
   ]
  },
  {
   "cell_type": "code",
   "execution_count": 27,
   "metadata": {},
   "outputs": [],
   "source": [
    "write.csv(data.frame(samples = sample_list),\"/hps/nobackup/stegle/users/acuomo/all_scripts/sc_neuroseq/coloc/samples_P_FPP_D11.csv\")"
   ]
  },
  {
   "cell_type": "code",
   "execution_count": 43,
   "metadata": {},
   "outputs": [
    {
     "data": {
      "text/html": [
       "<table>\n",
       "<thead><tr><th scope=col>donor_id</th><th scope=col>genotype</th></tr></thead>\n",
       "<tbody>\n",
       "\t<tr><td>HPSI0114i-eipl_1</td><td>1               </td></tr>\n",
       "\t<tr><td>HPSI0114i-kolf_2</td><td>1               </td></tr>\n",
       "\t<tr><td>HPSI0114i-wegi_1</td><td>0               </td></tr>\n",
       "\t<tr><td>HPSI0115i-aion_2</td><td>0               </td></tr>\n",
       "\t<tr><td>HPSI0115i-aoxv_1</td><td>0               </td></tr>\n",
       "\t<tr><td>HPSI0115i-bimq_4</td><td>0               </td></tr>\n",
       "</tbody>\n",
       "</table>\n"
      ],
      "text/latex": [
       "\\begin{tabular}{r|ll}\n",
       " donor\\_id & genotype\\\\\n",
       "\\hline\n",
       "\t HPSI0114i-eipl\\_1 & 1                 \\\\\n",
       "\t HPSI0114i-kolf\\_2 & 1                 \\\\\n",
       "\t HPSI0114i-wegi\\_1 & 0                 \\\\\n",
       "\t HPSI0115i-aion\\_2 & 0                 \\\\\n",
       "\t HPSI0115i-aoxv\\_1 & 0                 \\\\\n",
       "\t HPSI0115i-bimq\\_4 & 0                 \\\\\n",
       "\\end{tabular}\n"
      ],
      "text/markdown": [
       "\n",
       "| donor_id | genotype |\n",
       "|---|---|\n",
       "| HPSI0114i-eipl_1 | 1                |\n",
       "| HPSI0114i-kolf_2 | 1                |\n",
       "| HPSI0114i-wegi_1 | 0                |\n",
       "| HPSI0115i-aion_2 | 0                |\n",
       "| HPSI0115i-aoxv_1 | 0                |\n",
       "| HPSI0115i-bimq_4 | 0                |\n",
       "\n"
      ],
      "text/plain": [
       "  donor_id         genotype\n",
       "1 HPSI0114i-eipl_1 1       \n",
       "2 HPSI0114i-kolf_2 1       \n",
       "3 HPSI0114i-wegi_1 0       \n",
       "4 HPSI0115i-aion_2 0       \n",
       "5 HPSI0115i-aoxv_1 0       \n",
       "6 HPSI0115i-bimq_4 0       "
      ]
     },
     "metadata": {},
     "output_type": "display_data"
    }
   ],
   "source": [
    "genos = read.csv(\"/hps/nobackup/stegle/users/acuomo/all_scripts/sc_neuroseq/coloc/genotypes_8_38281658_G_A_samples_P_FPP_D11.csv\")\n",
    "# genos = read.csv(\"/hps/nobackup/stegle/users/acuomo/all_scripts/sc_neuroseq/coloc/genotypes_8_38281658_G_A_samples_P_FPP_D11_new_plink.csv\")\n",
    "colnames(genos) = c(\"donor_id\",\"genotype\")\n",
    "head(genos)"
   ]
  },
  {
   "cell_type": "code",
   "execution_count": 44,
   "metadata": {},
   "outputs": [
    {
     "data": {
      "text/html": [
       "<table>\n",
       "<thead><tr><th scope=col>donor_id</th><th scope=col>FGFR1</th></tr></thead>\n",
       "<tbody>\n",
       "\t<tr><td>HPSI0114i-eipl_1</td><td>0.5672554       </td></tr>\n",
       "\t<tr><td>HPSI0114i-kolf_2</td><td>0.5026197       </td></tr>\n",
       "\t<tr><td>HPSI0114i-wegi_1</td><td>0.3087078       </td></tr>\n",
       "\t<tr><td>HPSI0115i-aion_2</td><td>0.3777146       </td></tr>\n",
       "\t<tr><td>HPSI0115i-aoxv_1</td><td>0.3973255       </td></tr>\n",
       "\t<tr><td>HPSI0115i-bimq_4</td><td>0.4866907       </td></tr>\n",
       "</tbody>\n",
       "</table>\n"
      ],
      "text/latex": [
       "\\begin{tabular}{r|ll}\n",
       " donor\\_id & FGFR1\\\\\n",
       "\\hline\n",
       "\t HPSI0114i-eipl\\_1 & 0.5672554         \\\\\n",
       "\t HPSI0114i-kolf\\_2 & 0.5026197         \\\\\n",
       "\t HPSI0114i-wegi\\_1 & 0.3087078         \\\\\n",
       "\t HPSI0115i-aion\\_2 & 0.3777146         \\\\\n",
       "\t HPSI0115i-aoxv\\_1 & 0.3973255         \\\\\n",
       "\t HPSI0115i-bimq\\_4 & 0.4866907         \\\\\n",
       "\\end{tabular}\n"
      ],
      "text/markdown": [
       "\n",
       "| donor_id | FGFR1 |\n",
       "|---|---|\n",
       "| HPSI0114i-eipl_1 | 0.5672554        |\n",
       "| HPSI0114i-kolf_2 | 0.5026197        |\n",
       "| HPSI0114i-wegi_1 | 0.3087078        |\n",
       "| HPSI0115i-aion_2 | 0.3777146        |\n",
       "| HPSI0115i-aoxv_1 | 0.3973255        |\n",
       "| HPSI0115i-bimq_4 | 0.4866907        |\n",
       "\n"
      ],
      "text/plain": [
       "  donor_id         FGFR1    \n",
       "1 HPSI0114i-eipl_1 0.5672554\n",
       "2 HPSI0114i-kolf_2 0.5026197\n",
       "3 HPSI0114i-wegi_1 0.3087078\n",
       "4 HPSI0115i-aion_2 0.3777146\n",
       "5 HPSI0115i-aoxv_1 0.3973255\n",
       "6 HPSI0115i-bimq_4 0.4866907"
      ]
     },
     "metadata": {},
     "output_type": "display_data"
    }
   ],
   "source": [
    "df_e = df[,c(\"donor_id\",gene)]\n",
    "head(df_e)"
   ]
  },
  {
   "cell_type": "code",
   "execution_count": 45,
   "metadata": {},
   "outputs": [
    {
     "name": "stderr",
     "output_type": "stream",
     "text": [
      "Joining, by = \"donor_id\"\n"
     ]
    },
    {
     "data": {
      "text/html": [
       "172"
      ],
      "text/latex": [
       "172"
      ],
      "text/markdown": [
       "172"
      ],
      "text/plain": [
       "[1] 172"
      ]
     },
     "metadata": {},
     "output_type": "display_data"
    },
    {
     "data": {
      "text/html": [
       "<table>\n",
       "<thead><tr><th scope=col>donor_id</th><th scope=col>genotype</th><th scope=col>FGFR1</th></tr></thead>\n",
       "<tbody>\n",
       "\t<tr><td>HPSI0114i-eipl_1</td><td>1               </td><td>0.5672554       </td></tr>\n",
       "\t<tr><td>HPSI0114i-kolf_2</td><td>1               </td><td>0.5026197       </td></tr>\n",
       "</tbody>\n",
       "</table>\n"
      ],
      "text/latex": [
       "\\begin{tabular}{r|lll}\n",
       " donor\\_id & genotype & FGFR1\\\\\n",
       "\\hline\n",
       "\t HPSI0114i-eipl\\_1 & 1                  & 0.5672554         \\\\\n",
       "\t HPSI0114i-kolf\\_2 & 1                  & 0.5026197         \\\\\n",
       "\\end{tabular}\n"
      ],
      "text/markdown": [
       "\n",
       "| donor_id | genotype | FGFR1 |\n",
       "|---|---|---|\n",
       "| HPSI0114i-eipl_1 | 1                | 0.5672554        |\n",
       "| HPSI0114i-kolf_2 | 1                | 0.5026197        |\n",
       "\n"
      ],
      "text/plain": [
       "  donor_id         genotype FGFR1    \n",
       "1 HPSI0114i-eipl_1 1        0.5672554\n",
       "2 HPSI0114i-kolf_2 1        0.5026197"
      ]
     },
     "metadata": {},
     "output_type": "display_data"
    }
   ],
   "source": [
    "df_box = as.data.frame(inner_join(genos, df_e))\n",
    "nrow(df_box)\n",
    "head(df_box,2)"
   ]
  },
  {
   "cell_type": "code",
   "execution_count": 42,
   "metadata": {},
   "outputs": [
    {
     "data": {
      "image/png": "[encoded data removed]",
      "text/plain": [
       "plot without title"
      ]
     },
     "metadata": {},
     "output_type": "display_data"
    }
   ],
   "source": [
    "options(repr.plot.width=4, repr.plot.height=3.8)\n",
    "ggplot(df_box, aes(x = as.character(genotype), y = FGFR1)) + xlab(snp) +\n",
    "    geom_violin() + geom_quasirandom(alpha = 0.5, size = 0.5) + geom_boxplot(width=0.2) + ggtitle(\"P_FPP_D11\")"
   ]
  },
  {
   "cell_type": "code",
   "execution_count": 46,
   "metadata": {},
   "outputs": [
    {
     "data": {
      "image/png": "[encoded data removed]",
      "text/plain": [
       "plot without title"
      ]
     },
     "metadata": {},
     "output_type": "display_data"
    }
   ],
   "source": [
    "options(repr.plot.width=4, repr.plot.height=3.8)\n",
    "ggplot(df_box, aes(x = as.character(genotype), y = FGFR1)) + xlab(snp) +\n",
    "    geom_violin() + geom_quasirandom(alpha = 0.5, size = 0.5) + geom_boxplot(width=0.2) + ggtitle(\"P_FPP_D11\")"
   ]
  },
  {
   "cell_type": "code",
   "execution_count": null,
   "metadata": {},
   "outputs": [],
   "source": []
  }
 ],
 "metadata": {
  "kernelspec": {
   "display_name": "R",
   "language": "R",
   "name": "ir"
  },
  "language_info": {
   "codemirror_mode": "r",
   "file_extension": ".r",
   "mimetype": "text/x-r-source",
   "name": "R",
   "pygments_lexer": "r",
   "version": "3.6.1"
  }
 },
 "nbformat": 4,
 "nbformat_minor": 4
}
