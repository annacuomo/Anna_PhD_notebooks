{
 "cells": [
  {
   "cell_type": "code",
   "execution_count": 35,
   "metadata": {},
   "outputs": [
    {
     "data": {
      "text/html": [
       "<table>\n",
       "<thead><tr><th scope=col>snp_id</th><th scope=col>p_value</th><th scope=col>beta</th><th scope=col>beta_se</th><th scope=col>empirical_feature_p_value</th><th scope=col>feature_chromosome</th><th scope=col>feature_start</th><th scope=col>feature_end</th><th scope=col>n_samples</th><th scope=col>n_e_samples</th><th scope=col>alpha_param</th><th scope=col>beta_param</th><th scope=col>snp_chromosome</th><th scope=col>snp_position</th><th scope=col>assessed_allele</th><th scope=col>call_rate</th><th scope=col>maf</th><th scope=col>hwe_p</th><th scope=col>feature_id</th></tr></thead>\n",
       "<tbody>\n",
       "\t<tr><td>19_54634138_G_A</td><td>7.108203e-06   </td><td> 0.1955002     </td><td>0.04353714     </td><td>4.330911e-02   </td><td>19             </td><td>54618837       </td><td>54635140       </td><td>156            </td><td>156            </td><td>0.5273690      </td><td>292.0765       </td><td>19             </td><td>54634138       </td><td>A              </td><td>1              </td><td>0.35576923     </td><td>0.6034037      </td><td>ENSG00000105618</td></tr>\n",
       "\t<tr><td>19_54789190_C_T</td><td>4.024140e-04   </td><td> 0.4014491     </td><td>0.11345191     </td><td>2.540027e-01   </td><td>19             </td><td>54610320       </td><td>54619055       </td><td>156            </td><td>156            </td><td>0.5909891      </td><td>212.8998       </td><td>19             </td><td>54789190       </td><td>T              </td><td>1              </td><td>0.09615385     </td><td>0.3634673      </td><td>ENSG00000105619</td></tr>\n",
       "\t<tr><td>19_54555681_G_A</td><td>3.189699e-04   </td><td> 0.1484770     </td><td>0.04125065     </td><td>3.039802e-01   </td><td>19             </td><td>54677107       </td><td>54693733       </td><td>156            </td><td>156            </td><td>0.5127893      </td><td>256.7352       </td><td>19             </td><td>54555681       </td><td>A              </td><td>1              </td><td>0.18269231     </td><td>0.4171974      </td><td>ENSG00000125505</td></tr>\n",
       "\t<tr><td>19_54178195_C_T</td><td>1.534903e-03   </td><td>-0.2978600     </td><td>0.09402140     </td><td>6.675633e-01   </td><td>19             </td><td>54382444       </td><td>54410906       </td><td>156            </td><td>156            </td><td>0.5154574      </td><td>319.0288       </td><td>19             </td><td>54178195       </td><td>T              </td><td>1              </td><td>0.13141026     </td><td>1.0000000      </td><td>ENSG00000126583</td></tr>\n",
       "\t<tr><td>19_54701720_T_C</td><td>1.095786e-16   </td><td>-0.3079343     </td><td>0.03712773     </td><td>1.507390e-08   </td><td>19             </td><td>54704610       </td><td>54752862       </td><td>156            </td><td>156            </td><td>0.5806608      </td><td>253.6581       </td><td>19             </td><td>54701720       </td><td>C              </td><td>1              </td><td>0.35897436     </td><td>0.4911539      </td><td>ENSG00000170889</td></tr>\n",
       "\t<tr><td>19_54891914_A_G</td><td>1.315564e-04   </td><td> 0.3452059     </td><td>0.09028468     </td><td>1.644131e-01   </td><td>19             </td><td>54693789       </td><td>54697585       </td><td>156            </td><td>156            </td><td>0.6022434      </td><td>323.3703       </td><td>19             </td><td>54891914       </td><td>G              </td><td>1              </td><td>0.09294872     </td><td>1.0000000      </td><td>ENSG00000170892</td></tr>\n",
       "</tbody>\n",
       "</table>\n"
      ],
      "text/latex": [
       "\\begin{tabular}{r|lllllllllllllllllll}\n",
       " snp\\_id & p\\_value & beta & beta\\_se & empirical\\_feature\\_p\\_value & feature\\_chromosome & feature\\_start & feature\\_end & n\\_samples & n\\_e\\_samples & alpha\\_param & beta\\_param & snp\\_chromosome & snp\\_position & assessed\\_allele & call\\_rate & maf & hwe\\_p & feature\\_id\\\\\n",
       "\\hline\n",
       "\t 19\\_54634138\\_G\\_A & 7.108203e-06          &  0.1955002            & 0.04353714            & 4.330911e-02          & 19                    & 54618837              & 54635140              & 156                   & 156                   & 0.5273690             & 292.0765              & 19                    & 54634138              & A                     & 1                     & 0.35576923            & 0.6034037             & ENSG00000105618      \\\\\n",
       "\t 19\\_54789190\\_C\\_T & 4.024140e-04          &  0.4014491            & 0.11345191            & 2.540027e-01          & 19                    & 54610320              & 54619055              & 156                   & 156                   & 0.5909891             & 212.8998              & 19                    & 54789190              & T                     & 1                     & 0.09615385            & 0.3634673             & ENSG00000105619      \\\\\n",
       "\t 19\\_54555681\\_G\\_A & 3.189699e-04          &  0.1484770            & 0.04125065            & 3.039802e-01          & 19                    & 54677107              & 54693733              & 156                   & 156                   & 0.5127893             & 256.7352              & 19                    & 54555681              & A                     & 1                     & 0.18269231            & 0.4171974             & ENSG00000125505      \\\\\n",
       "\t 19\\_54178195\\_C\\_T & 1.534903e-03          & -0.2978600            & 0.09402140            & 6.675633e-01          & 19                    & 54382444              & 54410906              & 156                   & 156                   & 0.5154574             & 319.0288              & 19                    & 54178195              & T                     & 1                     & 0.13141026            & 1.0000000             & ENSG00000126583      \\\\\n",
       "\t 19\\_54701720\\_T\\_C & 1.095786e-16          & -0.3079343            & 0.03712773            & 1.507390e-08          & 19                    & 54704610              & 54752862              & 156                   & 156                   & 0.5806608             & 253.6581              & 19                    & 54701720              & C                     & 1                     & 0.35897436            & 0.4911539             & ENSG00000170889      \\\\\n",
       "\t 19\\_54891914\\_A\\_G & 1.315564e-04          &  0.3452059            & 0.09028468            & 1.644131e-01          & 19                    & 54693789              & 54697585              & 156                   & 156                   & 0.6022434             & 323.3703              & 19                    & 54891914              & G                     & 1                     & 0.09294872            & 1.0000000             & ENSG00000170892      \\\\\n",
       "\\end{tabular}\n"
      ],
      "text/markdown": [
       "\n",
       "snp_id | p_value | beta | beta_se | empirical_feature_p_value | feature_chromosome | feature_start | feature_end | n_samples | n_e_samples | alpha_param | beta_param | snp_chromosome | snp_position | assessed_allele | call_rate | maf | hwe_p | feature_id | \n",
       "|---|---|---|---|---|---|\n",
       "| 19_54634138_G_A | 7.108203e-06    |  0.1955002      | 0.04353714      | 4.330911e-02    | 19              | 54618837        | 54635140        | 156             | 156             | 0.5273690       | 292.0765        | 19              | 54634138        | A               | 1               | 0.35576923      | 0.6034037       | ENSG00000105618 | \n",
       "| 19_54789190_C_T | 4.024140e-04    |  0.4014491      | 0.11345191      | 2.540027e-01    | 19              | 54610320        | 54619055        | 156             | 156             | 0.5909891       | 212.8998        | 19              | 54789190        | T               | 1               | 0.09615385      | 0.3634673       | ENSG00000105619 | \n",
       "| 19_54555681_G_A | 3.189699e-04    |  0.1484770      | 0.04125065      | 3.039802e-01    | 19              | 54677107        | 54693733        | 156             | 156             | 0.5127893       | 256.7352        | 19              | 54555681        | A               | 1               | 0.18269231      | 0.4171974       | ENSG00000125505 | \n",
       "| 19_54178195_C_T | 1.534903e-03    | -0.2978600      | 0.09402140      | 6.675633e-01    | 19              | 54382444        | 54410906        | 156             | 156             | 0.5154574       | 319.0288        | 19              | 54178195        | T               | 1               | 0.13141026      | 1.0000000       | ENSG00000126583 | \n",
       "| 19_54701720_T_C | 1.095786e-16    | -0.3079343      | 0.03712773      | 1.507390e-08    | 19              | 54704610        | 54752862        | 156             | 156             | 0.5806608       | 253.6581        | 19              | 54701720        | C               | 1               | 0.35897436      | 0.4911539       | ENSG00000170889 | \n",
       "| 19_54891914_A_G | 1.315564e-04    |  0.3452059      | 0.09028468      | 1.644131e-01    | 19              | 54693789        | 54697585        | 156             | 156             | 0.6022434       | 323.3703        | 19              | 54891914        | G               | 1               | 0.09294872      | 1.0000000       | ENSG00000170892 | \n",
       "\n",
       "\n"
      ],
      "text/plain": [
       "  snp_id          p_value      beta       beta_se    empirical_feature_p_value\n",
       "1 19_54634138_G_A 7.108203e-06  0.1955002 0.04353714 4.330911e-02             \n",
       "2 19_54789190_C_T 4.024140e-04  0.4014491 0.11345191 2.540027e-01             \n",
       "3 19_54555681_G_A 3.189699e-04  0.1484770 0.04125065 3.039802e-01             \n",
       "4 19_54178195_C_T 1.534903e-03 -0.2978600 0.09402140 6.675633e-01             \n",
       "5 19_54701720_T_C 1.095786e-16 -0.3079343 0.03712773 1.507390e-08             \n",
       "6 19_54891914_A_G 1.315564e-04  0.3452059 0.09028468 1.644131e-01             \n",
       "  feature_chromosome feature_start feature_end n_samples n_e_samples\n",
       "1 19                 54618837      54635140    156       156        \n",
       "2 19                 54610320      54619055    156       156        \n",
       "3 19                 54677107      54693733    156       156        \n",
       "4 19                 54382444      54410906    156       156        \n",
       "5 19                 54704610      54752862    156       156        \n",
       "6 19                 54693789      54697585    156       156        \n",
       "  alpha_param beta_param snp_chromosome snp_position assessed_allele call_rate\n",
       "1 0.5273690   292.0765   19             54634138     A               1        \n",
       "2 0.5909891   212.8998   19             54789190     T               1        \n",
       "3 0.5127893   256.7352   19             54555681     A               1        \n",
       "4 0.5154574   319.0288   19             54178195     T               1        \n",
       "5 0.5806608   253.6581   19             54701720     C               1        \n",
       "6 0.6022434   323.3703   19             54891914     G               1        \n",
       "  maf        hwe_p     feature_id     \n",
       "1 0.35576923 0.6034037 ENSG00000105618\n",
       "2 0.09615385 0.3634673 ENSG00000105619\n",
       "3 0.18269231 0.4171974 ENSG00000125505\n",
       "4 0.13141026 1.0000000 ENSG00000126583\n",
       "5 0.35897436 0.4911539 ENSG00000170889\n",
       "6 0.09294872 1.0000000 ENSG00000170892"
      ]
     },
     "metadata": {},
     "output_type": "display_data"
    }
   ],
   "source": [
    "DA_NONE_file = \"/hps/nobackup/stegle/users/acuomo/all_scripts/sc_neuroseq/eqtl/timepoint_D52/input_files_untreated/celltype_DA/results/top_qtl_results_all.txt\"\n",
    "DA_NONE = read.csv(DA_NONE_file,sep=\"\\t\")\n",
    "head(DA_NONE)"
   ]
  },
  {
   "cell_type": "code",
   "execution_count": 36,
   "metadata": {},
   "outputs": [
    {
     "data": {
      "text/html": [
       "698"
      ],
      "text/latex": [
       "698"
      ],
      "text/markdown": [
       "698"
      ],
      "text/plain": [
       "[1] 698"
      ]
     },
     "metadata": {},
     "output_type": "display_data"
    }
   ],
   "source": [
    "DA_NONE$q_value = p.adjust(DA_NONE$empirical_feature_p_value, method = \"BH\")\n",
    "nrow(DA_NONE[DA_NONE$q_value < 0.05,])"
   ]
  },
  {
   "cell_type": "code",
   "execution_count": null,
   "metadata": {},
   "outputs": [],
   "source": []
  },
  {
   "cell_type": "code",
   "execution_count": 37,
   "metadata": {},
   "outputs": [],
   "source": [
    "DA_ROT_file = \"/hps/nobackup/stegle/users/acuomo/all_scripts/sc_neuroseq/eqtl/timepoint_D52/input_files_ROT_treated/celltype_DA/results/top_qtl_results_all.txt\"\n",
    "\n",
    "DA_ROT = read.csv(DA_ROT_file,sep=\"\\t\")\n",
    "head(DA_ROT)\n",
    "\n",
    "DA_ROT$q_value = p.adjust(DA_ROT$empirical_feature_p_value, method = \"BH\")\n",
    "\n",
    "nrow(DA_ROT[DA_ROT$q_value < 0.05,])"
   ]
  },
  {
   "cell_type": "code",
   "execution_count": 41,
   "metadata": {},
   "outputs": [
    {
     "data": {
      "text/html": [
       "<table>\n",
       "<thead><tr><th scope=col>snp_id</th><th scope=col>p_value</th><th scope=col>beta</th><th scope=col>beta_se</th><th scope=col>empirical_feature_p_value</th><th scope=col>feature_chromosome</th><th scope=col>feature_start</th><th scope=col>feature_end</th><th scope=col>n_samples</th><th scope=col>n_e_samples</th><th scope=col>alpha_param</th><th scope=col>beta_param</th><th scope=col>snp_chromosome</th><th scope=col>snp_position</th><th scope=col>assessed_allele</th><th scope=col>call_rate</th><th scope=col>maf</th><th scope=col>hwe_p</th><th scope=col>feature_id</th></tr></thead>\n",
       "<tbody>\n",
       "\t<tr><td>19_54657877_T_C</td><td>2.316088e-05   </td><td>-0.1616380     </td><td>0.03819411     </td><td>1.130200e-01   </td><td>19             </td><td>54618837       </td><td>54635140       </td><td>136            </td><td>136            </td><td>0.4780518      </td><td>352.4315       </td><td>19             </td><td>54657877       </td><td>C              </td><td>1              </td><td>0.3639706      </td><td>0.35384067     </td><td>ENSG00000105618</td></tr>\n",
       "\t<tr><td>19_54613420_G_A</td><td>5.760686e-05   </td><td> 0.3797610     </td><td>0.09441142     </td><td>7.173445e-02   </td><td>19             </td><td>54610320       </td><td>54619055       </td><td>136            </td><td>136            </td><td>0.6287736      </td><td>223.0626       </td><td>19             </td><td>54613420       </td><td>A              </td><td>1              </td><td>0.2279412      </td><td>0.14860390     </td><td>ENSG00000105619</td></tr>\n",
       "\t<tr><td>19_54692523_G_A</td><td>1.201930e-05   </td><td>-0.2025196     </td><td>0.04626653     </td><td>6.155694e-02   </td><td>19             </td><td>54677107       </td><td>54693733       </td><td>136            </td><td>136            </td><td>0.5364970      </td><td>370.4514       </td><td>19             </td><td>54692523       </td><td>A              </td><td>1              </td><td>0.4448529      </td><td>0.86238476     </td><td>ENSG00000125505</td></tr>\n",
       "\t<tr><td>19_54479456_T_G</td><td>7.375794e-03   </td><td> 0.3321310     </td><td>0.12395800     </td><td>9.635601e-01   </td><td>19             </td><td>54382444       </td><td>54410906       </td><td>136            </td><td>136            </td><td>0.3582406      </td><td>242.4891       </td><td>19             </td><td>54479456       </td><td>G              </td><td>1              </td><td>0.1360294      </td><td>0.71330144     </td><td>ENSG00000126583</td></tr>\n",
       "\t<tr><td>19_54700668_T_C</td><td>4.365729e-20   </td><td>-0.4139883     </td><td>0.04510345     </td><td>1.898907e-10   </td><td>19             </td><td>54704610       </td><td>54752862       </td><td>136            </td><td>136            </td><td>0.5786500      </td><td>297.5573       </td><td>19             </td><td>54700668       </td><td>C              </td><td>1              </td><td>0.3970588      </td><td>1.00000000     </td><td>ENSG00000170889</td></tr>\n",
       "\t<tr><td>19_54913218_T_C</td><td>1.330191e-04   </td><td>-0.2130346     </td><td>0.05575654     </td><td>1.576539e-01   </td><td>19             </td><td>54693789       </td><td>54697585       </td><td>136            </td><td>136            </td><td>0.6234240      </td><td>334.9819       </td><td>19             </td><td>54913218       </td><td>C              </td><td>1              </td><td>0.4963235      </td><td>0.06047609     </td><td>ENSG00000170892</td></tr>\n",
       "</tbody>\n",
       "</table>\n"
      ],
      "text/latex": [
       "\\begin{tabular}{r|lllllllllllllllllll}\n",
       " snp\\_id & p\\_value & beta & beta\\_se & empirical\\_feature\\_p\\_value & feature\\_chromosome & feature\\_start & feature\\_end & n\\_samples & n\\_e\\_samples & alpha\\_param & beta\\_param & snp\\_chromosome & snp\\_position & assessed\\_allele & call\\_rate & maf & hwe\\_p & feature\\_id\\\\\n",
       "\\hline\n",
       "\t 19\\_54657877\\_T\\_C & 2.316088e-05          & -0.1616380            & 0.03819411            & 1.130200e-01          & 19                    & 54618837              & 54635140              & 136                   & 136                   & 0.4780518             & 352.4315              & 19                    & 54657877              & C                     & 1                     & 0.3639706             & 0.35384067            & ENSG00000105618      \\\\\n",
       "\t 19\\_54613420\\_G\\_A & 5.760686e-05          &  0.3797610            & 0.09441142            & 7.173445e-02          & 19                    & 54610320              & 54619055              & 136                   & 136                   & 0.6287736             & 223.0626              & 19                    & 54613420              & A                     & 1                     & 0.2279412             & 0.14860390            & ENSG00000105619      \\\\\n",
       "\t 19\\_54692523\\_G\\_A & 1.201930e-05          & -0.2025196            & 0.04626653            & 6.155694e-02          & 19                    & 54677107              & 54693733              & 136                   & 136                   & 0.5364970             & 370.4514              & 19                    & 54692523              & A                     & 1                     & 0.4448529             & 0.86238476            & ENSG00000125505      \\\\\n",
       "\t 19\\_54479456\\_T\\_G & 7.375794e-03          &  0.3321310            & 0.12395800            & 9.635601e-01          & 19                    & 54382444              & 54410906              & 136                   & 136                   & 0.3582406             & 242.4891              & 19                    & 54479456              & G                     & 1                     & 0.1360294             & 0.71330144            & ENSG00000126583      \\\\\n",
       "\t 19\\_54700668\\_T\\_C & 4.365729e-20          & -0.4139883            & 0.04510345            & 1.898907e-10          & 19                    & 54704610              & 54752862              & 136                   & 136                   & 0.5786500             & 297.5573              & 19                    & 54700668              & C                     & 1                     & 0.3970588             & 1.00000000            & ENSG00000170889      \\\\\n",
       "\t 19\\_54913218\\_T\\_C & 1.330191e-04          & -0.2130346            & 0.05575654            & 1.576539e-01          & 19                    & 54693789              & 54697585              & 136                   & 136                   & 0.6234240             & 334.9819              & 19                    & 54913218              & C                     & 1                     & 0.4963235             & 0.06047609            & ENSG00000170892      \\\\\n",
       "\\end{tabular}\n"
      ],
      "text/markdown": [
       "\n",
       "snp_id | p_value | beta | beta_se | empirical_feature_p_value | feature_chromosome | feature_start | feature_end | n_samples | n_e_samples | alpha_param | beta_param | snp_chromosome | snp_position | assessed_allele | call_rate | maf | hwe_p | feature_id | \n",
       "|---|---|---|---|---|---|\n",
       "| 19_54657877_T_C | 2.316088e-05    | -0.1616380      | 0.03819411      | 1.130200e-01    | 19              | 54618837        | 54635140        | 136             | 136             | 0.4780518       | 352.4315        | 19              | 54657877        | C               | 1               | 0.3639706       | 0.35384067      | ENSG00000105618 | \n",
       "| 19_54613420_G_A | 5.760686e-05    |  0.3797610      | 0.09441142      | 7.173445e-02    | 19              | 54610320        | 54619055        | 136             | 136             | 0.6287736       | 223.0626        | 19              | 54613420        | A               | 1               | 0.2279412       | 0.14860390      | ENSG00000105619 | \n",
       "| 19_54692523_G_A | 1.201930e-05    | -0.2025196      | 0.04626653      | 6.155694e-02    | 19              | 54677107        | 54693733        | 136             | 136             | 0.5364970       | 370.4514        | 19              | 54692523        | A               | 1               | 0.4448529       | 0.86238476      | ENSG00000125505 | \n",
       "| 19_54479456_T_G | 7.375794e-03    |  0.3321310      | 0.12395800      | 9.635601e-01    | 19              | 54382444        | 54410906        | 136             | 136             | 0.3582406       | 242.4891        | 19              | 54479456        | G               | 1               | 0.1360294       | 0.71330144      | ENSG00000126583 | \n",
       "| 19_54700668_T_C | 4.365729e-20    | -0.4139883      | 0.04510345      | 1.898907e-10    | 19              | 54704610        | 54752862        | 136             | 136             | 0.5786500       | 297.5573        | 19              | 54700668        | C               | 1               | 0.3970588       | 1.00000000      | ENSG00000170889 | \n",
       "| 19_54913218_T_C | 1.330191e-04    | -0.2130346      | 0.05575654      | 1.576539e-01    | 19              | 54693789        | 54697585        | 136             | 136             | 0.6234240       | 334.9819        | 19              | 54913218        | C               | 1               | 0.4963235       | 0.06047609      | ENSG00000170892 | \n",
       "\n",
       "\n"
      ],
      "text/plain": [
       "  snp_id          p_value      beta       beta_se    empirical_feature_p_value\n",
       "1 19_54657877_T_C 2.316088e-05 -0.1616380 0.03819411 1.130200e-01             \n",
       "2 19_54613420_G_A 5.760686e-05  0.3797610 0.09441142 7.173445e-02             \n",
       "3 19_54692523_G_A 1.201930e-05 -0.2025196 0.04626653 6.155694e-02             \n",
       "4 19_54479456_T_G 7.375794e-03  0.3321310 0.12395800 9.635601e-01             \n",
       "5 19_54700668_T_C 4.365729e-20 -0.4139883 0.04510345 1.898907e-10             \n",
       "6 19_54913218_T_C 1.330191e-04 -0.2130346 0.05575654 1.576539e-01             \n",
       "  feature_chromosome feature_start feature_end n_samples n_e_samples\n",
       "1 19                 54618837      54635140    136       136        \n",
       "2 19                 54610320      54619055    136       136        \n",
       "3 19                 54677107      54693733    136       136        \n",
       "4 19                 54382444      54410906    136       136        \n",
       "5 19                 54704610      54752862    136       136        \n",
       "6 19                 54693789      54697585    136       136        \n",
       "  alpha_param beta_param snp_chromosome snp_position assessed_allele call_rate\n",
       "1 0.4780518   352.4315   19             54657877     C               1        \n",
       "2 0.6287736   223.0626   19             54613420     A               1        \n",
       "3 0.5364970   370.4514   19             54692523     A               1        \n",
       "4 0.3582406   242.4891   19             54479456     G               1        \n",
       "5 0.5786500   297.5573   19             54700668     C               1        \n",
       "6 0.6234240   334.9819   19             54913218     C               1        \n",
       "  maf       hwe_p      feature_id     \n",
       "1 0.3639706 0.35384067 ENSG00000105618\n",
       "2 0.2279412 0.14860390 ENSG00000105619\n",
       "3 0.4448529 0.86238476 ENSG00000125505\n",
       "4 0.1360294 0.71330144 ENSG00000126583\n",
       "5 0.3970588 1.00000000 ENSG00000170889\n",
       "6 0.4963235 0.06047609 ENSG00000170892"
      ]
     },
     "metadata": {},
     "output_type": "display_data"
    },
    {
     "data": {
      "text/html": [
       "611"
      ],
      "text/latex": [
       "611"
      ],
      "text/markdown": [
       "611"
      ],
      "text/plain": [
       "[1] 611"
      ]
     },
     "metadata": {},
     "output_type": "display_data"
    }
   ],
   "source": [
    "Sert_ROT_file = \"/hps/nobackup/stegle/users/acuomo/all_scripts/sc_neuroseq/eqtl/timepoint_D52/input_files_ROT_treated/celltype_Sert/results/top_qtl_results_all.txt\"\n",
    "\n",
    "Sert_ROT = read.csv(Sert_ROT_file,sep=\"\\t\")\n",
    "head(Sert_ROT)\n",
    "\n",
    "Sert_ROT$q_value = p.adjust(Sert_ROT$empirical_feature_p_value, method = \"BH\")\n",
    "nrow(Sert_ROT[Sert_ROT$q_value < 0.05,])"
   ]
  },
  {
   "cell_type": "code",
   "execution_count": null,
   "metadata": {},
   "outputs": [],
   "source": []
  },
  {
   "cell_type": "code",
   "execution_count": 42,
   "metadata": {},
   "outputs": [],
   "source": [
    "Sert_NONE_file = \"/hps/nobackup/stegle/users/acuomo/all_scripts/sc_neuroseq/eqtl/timepoint_D52/input_files_untreated/celltype_Sert/results/top_qtl_results_all.txt\"\n",
    "\n",
    "Sert_NONE = read.csv(Sert_NONE_file,sep=\"\\t\")\n",
    "head(Sert_NONE)\n",
    "\n",
    "Sert_NONE$q_value = p.adjust(Sert_NONE$empirical_feature_p_value, method = \"BH\")\n",
    "\n",
    "nrow(Sert_NONE[Sert_NONE$q_value < 0.05,])"
   ]
  },
  {
   "cell_type": "code",
   "execution_count": 52,
   "metadata": {},
   "outputs": [
    {
     "data": {
      "text/html": [
       "<table>\n",
       "<thead><tr><th scope=col>snp_id</th><th scope=col>p_value</th><th scope=col>beta</th><th scope=col>beta_se</th><th scope=col>empirical_feature_p_value</th><th scope=col>feature_chromosome</th><th scope=col>feature_start</th><th scope=col>feature_end</th><th scope=col>n_samples</th><th scope=col>n_e_samples</th><th scope=col>alpha_param</th><th scope=col>beta_param</th><th scope=col>snp_chromosome</th><th scope=col>snp_position</th><th scope=col>assessed_allele</th><th scope=col>call_rate</th><th scope=col>maf</th><th scope=col>hwe_p</th><th scope=col>feature_id</th></tr></thead>\n",
       "<tbody>\n",
       "\t<tr><td>19_54613100_G_T</td><td>1.301629e-06   </td><td>-0.2136734     </td><td>0.04415191     </td><td>6.648504e-03   </td><td>19             </td><td>54618837       </td><td>54635140       </td><td>148            </td><td>148            </td><td>0.7657408      </td><td>161.2879       </td><td>19             </td><td>54613100       </td><td>T              </td><td>1              </td><td>0.34121622     </td><td>0.8547566      </td><td>ENSG00000105618</td></tr>\n",
       "\t<tr><td>19_54626055_C_G</td><td>3.890390e-06   </td><td> 0.3116869     </td><td>0.06750628     </td><td>1.758922e-02   </td><td>19             </td><td>54610320       </td><td>54619055       </td><td>148            </td><td>148            </td><td>0.5756423      </td><td>188.4901       </td><td>19             </td><td>54626055       </td><td>G              </td><td>1              </td><td>0.23310811     </td><td>0.3612174      </td><td>ENSG00000105619</td></tr>\n",
       "\t<tr><td>19_54935505_G_A</td><td>1.619017e-05   </td><td>-0.2110061     </td><td>0.04893644     </td><td>5.471899e-02   </td><td>19             </td><td>54677107       </td><td>54693733       </td><td>148            </td><td>148            </td><td>0.5510358      </td><td>256.7585       </td><td>19             </td><td>54935505       </td><td>A              </td><td>1              </td><td>0.10135135     </td><td>1.0000000      </td><td>ENSG00000125505</td></tr>\n",
       "\t<tr><td>19_54174896_T_A</td><td>4.846785e-03   </td><td>-0.4308458     </td><td>0.15294251     </td><td>6.571475e-01   </td><td>19             </td><td>54382444       </td><td>54410906       </td><td>148            </td><td>148            </td><td>0.6427896      </td><td>267.1544       </td><td>19             </td><td>54174896       </td><td>A              </td><td>1              </td><td>0.07094595     </td><td>0.5337123      </td><td>ENSG00000126583</td></tr>\n",
       "\t<tr><td>19_54718154_T_G</td><td>5.181962e-19   </td><td>-0.3324733     </td><td>0.03732173     </td><td>1.018268e-10   </td><td>19             </td><td>54704610       </td><td>54752862       </td><td>148            </td><td>148            </td><td>0.6351811      </td><td>302.6998       </td><td>19             </td><td>54718154       </td><td>G              </td><td>1              </td><td>0.38513514     </td><td>0.7296393      </td><td>ENSG00000170889</td></tr>\n",
       "\t<tr><td>19_54701720_T_C</td><td>2.386613e-04   </td><td> 0.2169885     </td><td>0.05905848     </td><td>2.562462e-01   </td><td>19             </td><td>54693789       </td><td>54697585       </td><td>148            </td><td>148            </td><td>0.5561985      </td><td>307.6141       </td><td>19             </td><td>54701720       </td><td>C              </td><td>1              </td><td>0.35810811     </td><td>0.7220539      </td><td>ENSG00000170892</td></tr>\n",
       "</tbody>\n",
       "</table>\n"
      ],
      "text/latex": [
       "\\begin{tabular}{r|lllllllllllllllllll}\n",
       " snp\\_id & p\\_value & beta & beta\\_se & empirical\\_feature\\_p\\_value & feature\\_chromosome & feature\\_start & feature\\_end & n\\_samples & n\\_e\\_samples & alpha\\_param & beta\\_param & snp\\_chromosome & snp\\_position & assessed\\_allele & call\\_rate & maf & hwe\\_p & feature\\_id\\\\\n",
       "\\hline\n",
       "\t 19\\_54613100\\_G\\_T & 1.301629e-06          & -0.2136734            & 0.04415191            & 6.648504e-03          & 19                    & 54618837              & 54635140              & 148                   & 148                   & 0.7657408             & 161.2879              & 19                    & 54613100              & T                     & 1                     & 0.34121622            & 0.8547566             & ENSG00000105618      \\\\\n",
       "\t 19\\_54626055\\_C\\_G & 3.890390e-06          &  0.3116869            & 0.06750628            & 1.758922e-02          & 19                    & 54610320              & 54619055              & 148                   & 148                   & 0.5756423             & 188.4901              & 19                    & 54626055              & G                     & 1                     & 0.23310811            & 0.3612174             & ENSG00000105619      \\\\\n",
       "\t 19\\_54935505\\_G\\_A & 1.619017e-05          & -0.2110061            & 0.04893644            & 5.471899e-02          & 19                    & 54677107              & 54693733              & 148                   & 148                   & 0.5510358             & 256.7585              & 19                    & 54935505              & A                     & 1                     & 0.10135135            & 1.0000000             & ENSG00000125505      \\\\\n",
       "\t 19\\_54174896\\_T\\_A & 4.846785e-03          & -0.4308458            & 0.15294251            & 6.571475e-01          & 19                    & 54382444              & 54410906              & 148                   & 148                   & 0.6427896             & 267.1544              & 19                    & 54174896              & A                     & 1                     & 0.07094595            & 0.5337123             & ENSG00000126583      \\\\\n",
       "\t 19\\_54718154\\_T\\_G & 5.181962e-19          & -0.3324733            & 0.03732173            & 1.018268e-10          & 19                    & 54704610              & 54752862              & 148                   & 148                   & 0.6351811             & 302.6998              & 19                    & 54718154              & G                     & 1                     & 0.38513514            & 0.7296393             & ENSG00000170889      \\\\\n",
       "\t 19\\_54701720\\_T\\_C & 2.386613e-04          &  0.2169885            & 0.05905848            & 2.562462e-01          & 19                    & 54693789              & 54697585              & 148                   & 148                   & 0.5561985             & 307.6141              & 19                    & 54701720              & C                     & 1                     & 0.35810811            & 0.7220539             & ENSG00000170892      \\\\\n",
       "\\end{tabular}\n"
      ],
      "text/markdown": [
       "\n",
       "snp_id | p_value | beta | beta_se | empirical_feature_p_value | feature_chromosome | feature_start | feature_end | n_samples | n_e_samples | alpha_param | beta_param | snp_chromosome | snp_position | assessed_allele | call_rate | maf | hwe_p | feature_id | \n",
       "|---|---|---|---|---|---|\n",
       "| 19_54613100_G_T | 1.301629e-06    | -0.2136734      | 0.04415191      | 6.648504e-03    | 19              | 54618837        | 54635140        | 148             | 148             | 0.7657408       | 161.2879        | 19              | 54613100        | T               | 1               | 0.34121622      | 0.8547566       | ENSG00000105618 | \n",
       "| 19_54626055_C_G | 3.890390e-06    |  0.3116869      | 0.06750628      | 1.758922e-02    | 19              | 54610320        | 54619055        | 148             | 148             | 0.5756423       | 188.4901        | 19              | 54626055        | G               | 1               | 0.23310811      | 0.3612174       | ENSG00000105619 | \n",
       "| 19_54935505_G_A | 1.619017e-05    | -0.2110061      | 0.04893644      | 5.471899e-02    | 19              | 54677107        | 54693733        | 148             | 148             | 0.5510358       | 256.7585        | 19              | 54935505        | A               | 1               | 0.10135135      | 1.0000000       | ENSG00000125505 | \n",
       "| 19_54174896_T_A | 4.846785e-03    | -0.4308458      | 0.15294251      | 6.571475e-01    | 19              | 54382444        | 54410906        | 148             | 148             | 0.6427896       | 267.1544        | 19              | 54174896        | A               | 1               | 0.07094595      | 0.5337123       | ENSG00000126583 | \n",
       "| 19_54718154_T_G | 5.181962e-19    | -0.3324733      | 0.03732173      | 1.018268e-10    | 19              | 54704610        | 54752862        | 148             | 148             | 0.6351811       | 302.6998        | 19              | 54718154        | G               | 1               | 0.38513514      | 0.7296393       | ENSG00000170889 | \n",
       "| 19_54701720_T_C | 2.386613e-04    |  0.2169885      | 0.05905848      | 2.562462e-01    | 19              | 54693789        | 54697585        | 148             | 148             | 0.5561985       | 307.6141        | 19              | 54701720        | C               | 1               | 0.35810811      | 0.7220539       | ENSG00000170892 | \n",
       "\n",
       "\n"
      ],
      "text/plain": [
       "  snp_id          p_value      beta       beta_se    empirical_feature_p_value\n",
       "1 19_54613100_G_T 1.301629e-06 -0.2136734 0.04415191 6.648504e-03             \n",
       "2 19_54626055_C_G 3.890390e-06  0.3116869 0.06750628 1.758922e-02             \n",
       "3 19_54935505_G_A 1.619017e-05 -0.2110061 0.04893644 5.471899e-02             \n",
       "4 19_54174896_T_A 4.846785e-03 -0.4308458 0.15294251 6.571475e-01             \n",
       "5 19_54718154_T_G 5.181962e-19 -0.3324733 0.03732173 1.018268e-10             \n",
       "6 19_54701720_T_C 2.386613e-04  0.2169885 0.05905848 2.562462e-01             \n",
       "  feature_chromosome feature_start feature_end n_samples n_e_samples\n",
       "1 19                 54618837      54635140    148       148        \n",
       "2 19                 54610320      54619055    148       148        \n",
       "3 19                 54677107      54693733    148       148        \n",
       "4 19                 54382444      54410906    148       148        \n",
       "5 19                 54704610      54752862    148       148        \n",
       "6 19                 54693789      54697585    148       148        \n",
       "  alpha_param beta_param snp_chromosome snp_position assessed_allele call_rate\n",
       "1 0.7657408   161.2879   19             54613100     T               1        \n",
       "2 0.5756423   188.4901   19             54626055     G               1        \n",
       "3 0.5510358   256.7585   19             54935505     A               1        \n",
       "4 0.6427896   267.1544   19             54174896     A               1        \n",
       "5 0.6351811   302.6998   19             54718154     G               1        \n",
       "6 0.5561985   307.6141   19             54701720     C               1        \n",
       "  maf        hwe_p     feature_id     \n",
       "1 0.34121622 0.8547566 ENSG00000105618\n",
       "2 0.23310811 0.3612174 ENSG00000105619\n",
       "3 0.10135135 1.0000000 ENSG00000125505\n",
       "4 0.07094595 0.5337123 ENSG00000126583\n",
       "5 0.38513514 0.7296393 ENSG00000170889\n",
       "6 0.35810811 0.7220539 ENSG00000170892"
      ]
     },
     "metadata": {},
     "output_type": "display_data"
    }
   ],
   "source": [
    "Epen1_NONE_file = \"/hps/nobackup/stegle/users/acuomo/all_scripts/sc_neuroseq/eqtl/timepoint_D52/input_files_untreated/celltype_Epen1/results/top_qtl_results_all.txt\"\n",
    "Epen1_NONE = read.csv(Epen1_NONE_file,sep=\"\\t\")\n",
    "head(Epen1_NONE)"
   ]
  },
  {
   "cell_type": "code",
   "execution_count": 53,
   "metadata": {},
   "outputs": [],
   "source": [
    "# Epen1_NONE <- Epen1_NONE[order(Epen1_NONE$empirical_feature_p_value, Epen1_NONE$p_value ),]\n",
    "# #get best SNP per feature\n",
    "# Epen1_NONE <- Epen1_NONE[-which(duplicated(Epen1_NONE$feature_id)),]"
   ]
  },
  {
   "cell_type": "code",
   "execution_count": 54,
   "metadata": {},
   "outputs": [
    {
     "data": {
      "text/html": [
       "745"
      ],
      "text/latex": [
       "745"
      ],
      "text/markdown": [
       "745"
      ],
      "text/plain": [
       "[1] 745"
      ]
     },
     "metadata": {},
     "output_type": "display_data"
    }
   ],
   "source": [
    "Epen1_NONE$q_value = p.adjust(Epen1_NONE$empirical_feature_p_value, method = \"BH\")\n",
    "nrow(Epen1_NONE[Epen1_NONE$q_value < 0.05,])"
   ]
  },
  {
   "cell_type": "code",
   "execution_count": null,
   "metadata": {},
   "outputs": [],
   "source": []
  },
  {
   "cell_type": "code",
   "execution_count": 55,
   "metadata": {},
   "outputs": [
    {
     "data": {
      "text/html": [
       "<table>\n",
       "<thead><tr><th scope=col>snp_id</th><th scope=col>p_value</th><th scope=col>beta</th><th scope=col>beta_se</th><th scope=col>empirical_feature_p_value</th><th scope=col>feature_chromosome</th><th scope=col>feature_start</th><th scope=col>feature_end</th><th scope=col>n_samples</th><th scope=col>n_e_samples</th><th scope=col>alpha_param</th><th scope=col>beta_param</th><th scope=col>snp_chromosome</th><th scope=col>snp_position</th><th scope=col>assessed_allele</th><th scope=col>call_rate</th><th scope=col>maf</th><th scope=col>hwe_p</th><th scope=col>feature_id</th></tr></thead>\n",
       "<tbody>\n",
       "\t<tr><td>19_54659772_C_T</td><td>2.977474e-05   </td><td>-0.3035065     </td><td>0.07269300     </td><td>7.360472e-02   </td><td>19             </td><td>54618837       </td><td>54635140       </td><td>144            </td><td>144            </td><td>0.5375790      </td><td>211.1933       </td><td>19             </td><td>54659772       </td><td>T              </td><td>1              </td><td>0.1006944      </td><td>0.1528710      </td><td>ENSG00000105618</td></tr>\n",
       "\t<tr><td>19_54630635_T_G</td><td>3.370380e-05   </td><td> 0.3616976     </td><td>0.08722165     </td><td>6.137544e-02   </td><td>19             </td><td>54610320       </td><td>54619055       </td><td>144            </td><td>144            </td><td>0.5864297      </td><td>210.5406       </td><td>19             </td><td>54630635       </td><td>G              </td><td>1              </td><td>0.1805556      </td><td>0.4090712      </td><td>ENSG00000105619</td></tr>\n",
       "\t<tr><td>19_54794131_G_A</td><td>4.784363e-03   </td><td> 0.1782742     </td><td>0.06319079     </td><td>8.803208e-01   </td><td>19             </td><td>54677107       </td><td>54693733       </td><td>144            </td><td>144            </td><td>0.5926872      </td><td>291.0988       </td><td>19             </td><td>54794131       </td><td>A              </td><td>1              </td><td>0.1006944      </td><td>0.3613951      </td><td>ENSG00000125505</td></tr>\n",
       "\t<tr><td>19_54316051_C_T</td><td>2.746077e-03   </td><td> 0.2242176     </td><td>0.07486849     </td><td>5.725554e-01   </td><td>19             </td><td>54382444       </td><td>54410906       </td><td>144            </td><td>144            </td><td>0.7558786      </td><td>213.4816       </td><td>19             </td><td>54316051       </td><td>T              </td><td>1              </td><td>0.1388889      </td><td>0.7366736      </td><td>ENSG00000126583</td></tr>\n",
       "\t<tr><td>19_54700668_T_C</td><td>1.835936e-20   </td><td>-0.4241224     </td><td>0.04574488     </td><td>1.777022e-10   </td><td>19             </td><td>54704610       </td><td>54752862       </td><td>144            </td><td>144            </td><td>0.5663292      </td><td>269.5211       </td><td>19             </td><td>54700668       </td><td>C              </td><td>1              </td><td>0.3819444      </td><td>0.4830476      </td><td>ENSG00000170889</td></tr>\n",
       "\t<tr><td>19_54495932_A_G</td><td>3.846732e-03   </td><td>-0.1758119     </td><td>0.06082481     </td><td>8.438192e-01   </td><td>19             </td><td>54693789       </td><td>54697585       </td><td>144            </td><td>144            </td><td>0.6016232      </td><td>309.4135       </td><td>19             </td><td>54495932       </td><td>G              </td><td>1              </td><td>0.2847222      </td><td>0.5463095      </td><td>ENSG00000170892</td></tr>\n",
       "</tbody>\n",
       "</table>\n"
      ],
      "text/latex": [
       "\\begin{tabular}{r|lllllllllllllllllll}\n",
       " snp\\_id & p\\_value & beta & beta\\_se & empirical\\_feature\\_p\\_value & feature\\_chromosome & feature\\_start & feature\\_end & n\\_samples & n\\_e\\_samples & alpha\\_param & beta\\_param & snp\\_chromosome & snp\\_position & assessed\\_allele & call\\_rate & maf & hwe\\_p & feature\\_id\\\\\n",
       "\\hline\n",
       "\t 19\\_54659772\\_C\\_T & 2.977474e-05          & -0.3035065            & 0.07269300            & 7.360472e-02          & 19                    & 54618837              & 54635140              & 144                   & 144                   & 0.5375790             & 211.1933              & 19                    & 54659772              & T                     & 1                     & 0.1006944             & 0.1528710             & ENSG00000105618      \\\\\n",
       "\t 19\\_54630635\\_T\\_G & 3.370380e-05          &  0.3616976            & 0.08722165            & 6.137544e-02          & 19                    & 54610320              & 54619055              & 144                   & 144                   & 0.5864297             & 210.5406              & 19                    & 54630635              & G                     & 1                     & 0.1805556             & 0.4090712             & ENSG00000105619      \\\\\n",
       "\t 19\\_54794131\\_G\\_A & 4.784363e-03          &  0.1782742            & 0.06319079            & 8.803208e-01          & 19                    & 54677107              & 54693733              & 144                   & 144                   & 0.5926872             & 291.0988              & 19                    & 54794131              & A                     & 1                     & 0.1006944             & 0.3613951             & ENSG00000125505      \\\\\n",
       "\t 19\\_54316051\\_C\\_T & 2.746077e-03          &  0.2242176            & 0.07486849            & 5.725554e-01          & 19                    & 54382444              & 54410906              & 144                   & 144                   & 0.7558786             & 213.4816              & 19                    & 54316051              & T                     & 1                     & 0.1388889             & 0.7366736             & ENSG00000126583      \\\\\n",
       "\t 19\\_54700668\\_T\\_C & 1.835936e-20          & -0.4241224            & 0.04574488            & 1.777022e-10          & 19                    & 54704610              & 54752862              & 144                   & 144                   & 0.5663292             & 269.5211              & 19                    & 54700668              & C                     & 1                     & 0.3819444             & 0.4830476             & ENSG00000170889      \\\\\n",
       "\t 19\\_54495932\\_A\\_G & 3.846732e-03          & -0.1758119            & 0.06082481            & 8.438192e-01          & 19                    & 54693789              & 54697585              & 144                   & 144                   & 0.6016232             & 309.4135              & 19                    & 54495932              & G                     & 1                     & 0.2847222             & 0.5463095             & ENSG00000170892      \\\\\n",
       "\\end{tabular}\n"
      ],
      "text/markdown": [
       "\n",
       "snp_id | p_value | beta | beta_se | empirical_feature_p_value | feature_chromosome | feature_start | feature_end | n_samples | n_e_samples | alpha_param | beta_param | snp_chromosome | snp_position | assessed_allele | call_rate | maf | hwe_p | feature_id | \n",
       "|---|---|---|---|---|---|\n",
       "| 19_54659772_C_T | 2.977474e-05    | -0.3035065      | 0.07269300      | 7.360472e-02    | 19              | 54618837        | 54635140        | 144             | 144             | 0.5375790       | 211.1933        | 19              | 54659772        | T               | 1               | 0.1006944       | 0.1528710       | ENSG00000105618 | \n",
       "| 19_54630635_T_G | 3.370380e-05    |  0.3616976      | 0.08722165      | 6.137544e-02    | 19              | 54610320        | 54619055        | 144             | 144             | 0.5864297       | 210.5406        | 19              | 54630635        | G               | 1               | 0.1805556       | 0.4090712       | ENSG00000105619 | \n",
       "| 19_54794131_G_A | 4.784363e-03    |  0.1782742      | 0.06319079      | 8.803208e-01    | 19              | 54677107        | 54693733        | 144             | 144             | 0.5926872       | 291.0988        | 19              | 54794131        | A               | 1               | 0.1006944       | 0.3613951       | ENSG00000125505 | \n",
       "| 19_54316051_C_T | 2.746077e-03    |  0.2242176      | 0.07486849      | 5.725554e-01    | 19              | 54382444        | 54410906        | 144             | 144             | 0.7558786       | 213.4816        | 19              | 54316051        | T               | 1               | 0.1388889       | 0.7366736       | ENSG00000126583 | \n",
       "| 19_54700668_T_C | 1.835936e-20    | -0.4241224      | 0.04574488      | 1.777022e-10    | 19              | 54704610        | 54752862        | 144             | 144             | 0.5663292       | 269.5211        | 19              | 54700668        | C               | 1               | 0.3819444       | 0.4830476       | ENSG00000170889 | \n",
       "| 19_54495932_A_G | 3.846732e-03    | -0.1758119      | 0.06082481      | 8.438192e-01    | 19              | 54693789        | 54697585        | 144             | 144             | 0.6016232       | 309.4135        | 19              | 54495932        | G               | 1               | 0.2847222       | 0.5463095       | ENSG00000170892 | \n",
       "\n",
       "\n"
      ],
      "text/plain": [
       "  snp_id          p_value      beta       beta_se    empirical_feature_p_value\n",
       "1 19_54659772_C_T 2.977474e-05 -0.3035065 0.07269300 7.360472e-02             \n",
       "2 19_54630635_T_G 3.370380e-05  0.3616976 0.08722165 6.137544e-02             \n",
       "3 19_54794131_G_A 4.784363e-03  0.1782742 0.06319079 8.803208e-01             \n",
       "4 19_54316051_C_T 2.746077e-03  0.2242176 0.07486849 5.725554e-01             \n",
       "5 19_54700668_T_C 1.835936e-20 -0.4241224 0.04574488 1.777022e-10             \n",
       "6 19_54495932_A_G 3.846732e-03 -0.1758119 0.06082481 8.438192e-01             \n",
       "  feature_chromosome feature_start feature_end n_samples n_e_samples\n",
       "1 19                 54618837      54635140    144       144        \n",
       "2 19                 54610320      54619055    144       144        \n",
       "3 19                 54677107      54693733    144       144        \n",
       "4 19                 54382444      54410906    144       144        \n",
       "5 19                 54704610      54752862    144       144        \n",
       "6 19                 54693789      54697585    144       144        \n",
       "  alpha_param beta_param snp_chromosome snp_position assessed_allele call_rate\n",
       "1 0.5375790   211.1933   19             54659772     T               1        \n",
       "2 0.5864297   210.5406   19             54630635     G               1        \n",
       "3 0.5926872   291.0988   19             54794131     A               1        \n",
       "4 0.7558786   213.4816   19             54316051     T               1        \n",
       "5 0.5663292   269.5211   19             54700668     C               1        \n",
       "6 0.6016232   309.4135   19             54495932     G               1        \n",
       "  maf       hwe_p     feature_id     \n",
       "1 0.1006944 0.1528710 ENSG00000105618\n",
       "2 0.1805556 0.4090712 ENSG00000105619\n",
       "3 0.1006944 0.3613951 ENSG00000125505\n",
       "4 0.1388889 0.7366736 ENSG00000126583\n",
       "5 0.3819444 0.4830476 ENSG00000170889\n",
       "6 0.2847222 0.5463095 ENSG00000170892"
      ]
     },
     "metadata": {},
     "output_type": "display_data"
    },
    {
     "data": {
      "text/html": [
       "575"
      ],
      "text/latex": [
       "575"
      ],
      "text/markdown": [
       "575"
      ],
      "text/plain": [
       "[1] 575"
      ]
     },
     "metadata": {},
     "output_type": "display_data"
    }
   ],
   "source": [
    "Epen1_ROT_file = \"/hps/nobackup/stegle/users/acuomo/all_scripts/sc_neuroseq/eqtl/timepoint_D52/input_files_ROT_treated/celltype_Epen1/results/top_qtl_results_all.txt\"\n",
    "\n",
    "Epen1_ROT = read.csv(Epen1_ROT_file,sep=\"\\t\")\n",
    "head(Epen1_ROT)\n",
    "\n",
    "Epen1_ROT$q_value = p.adjust(Epen1_ROT$empirical_feature_p_value, method = \"BH\")\n",
    "nrow(Epen1_ROT[Epen1_ROT$q_value < 0.05,])"
   ]
  },
  {
   "cell_type": "code",
   "execution_count": 56,
   "metadata": {},
   "outputs": [
    {
     "data": {
      "text/html": [
       "<table>\n",
       "<thead><tr><th scope=col>snp_id</th><th scope=col>p_value</th><th scope=col>beta</th><th scope=col>beta_se</th><th scope=col>empirical_feature_p_value</th><th scope=col>feature_chromosome</th><th scope=col>feature_start</th><th scope=col>feature_end</th><th scope=col>n_samples</th><th scope=col>n_e_samples</th><th scope=col>alpha_param</th><th scope=col>beta_param</th><th scope=col>snp_chromosome</th><th scope=col>snp_position</th><th scope=col>assessed_allele</th><th scope=col>call_rate</th><th scope=col>maf</th><th scope=col>hwe_p</th><th scope=col>feature_id</th></tr></thead>\n",
       "<tbody>\n",
       "\t<tr><td>19_54847310_C_T</td><td>9.938821e-06   </td><td> 0.3978393     </td><td>0.09003943     </td><td>0.061996940    </td><td>19             </td><td>54618837       </td><td>54635140       </td><td>104            </td><td>104            </td><td>0.5423723      </td><td>481.7637       </td><td>19             </td><td>54847310       </td><td>T              </td><td>1              </td><td>0.08653846     </td><td>1.0000000      </td><td>ENSG00000105618</td></tr>\n",
       "\t<tr><td>19_54662043_C_T</td><td>1.711993e-03   </td><td>-0.5528001     </td><td>0.17626883     </td><td>0.631529514    </td><td>19             </td><td>54610320       </td><td>54619055       </td><td>104            </td><td>104            </td><td>0.4749339      </td><td>314.0565       </td><td>19             </td><td>54662043       </td><td>T              </td><td>1              </td><td>0.05769231     </td><td>1.0000000      </td><td>ENSG00000105619</td></tr>\n",
       "\t<tr><td>19_54762709_A_G</td><td>9.041088e-04   </td><td> 0.1551050     </td><td>0.04673552     </td><td>0.549469375    </td><td>19             </td><td>54677107       </td><td>54693733       </td><td>104            </td><td>104            </td><td>0.6231630      </td><td>450.9643       </td><td>19             </td><td>54762709       </td><td>G              </td><td>1              </td><td>0.21634615     </td><td>0.3907905      </td><td>ENSG00000125505</td></tr>\n",
       "\t<tr><td>19_54706127_C_A</td><td>1.121626e-08   </td><td>-0.3261821     </td><td>0.05711241     </td><td>0.005651875    </td><td>19             </td><td>54704610       </td><td>54752862       </td><td>104            </td><td>104            </td><td>0.7188385      </td><td>227.9462       </td><td>19             </td><td>54706127       </td><td>A              </td><td>1              </td><td>0.39423077     </td><td>0.4191816      </td><td>ENSG00000170889</td></tr>\n",
       "\t<tr><td>19_54857316_T_C</td><td>1.531939e-04   </td><td>-0.3666315     </td><td>0.09684300     </td><td>0.263053309    </td><td>19             </td><td>54693789       </td><td>54697585       </td><td>104            </td><td>104            </td><td>0.5297797      </td><td>270.3666       </td><td>19             </td><td>54857316       </td><td>C              </td><td>1              </td><td>0.15865385     </td><td>1.0000000      </td><td>ENSG00000170892</td></tr>\n",
       "\t<tr><td>19_54611734_A_G</td><td>1.110321e-03   </td><td> 0.2713837     </td><td>0.08322180     </td><td>0.538832320    </td><td>19             </td><td>54606036       </td><td>54612564       </td><td>104            </td><td>104            </td><td>0.4605985      </td><td>208.8887       </td><td>19             </td><td>54611734       </td><td>G              </td><td>1              </td><td>0.08173077     </td><td>1.0000000      </td><td>ENSG00000170906</td></tr>\n",
       "</tbody>\n",
       "</table>\n"
      ],
      "text/latex": [
       "\\begin{tabular}{r|lllllllllllllllllll}\n",
       " snp\\_id & p\\_value & beta & beta\\_se & empirical\\_feature\\_p\\_value & feature\\_chromosome & feature\\_start & feature\\_end & n\\_samples & n\\_e\\_samples & alpha\\_param & beta\\_param & snp\\_chromosome & snp\\_position & assessed\\_allele & call\\_rate & maf & hwe\\_p & feature\\_id\\\\\n",
       "\\hline\n",
       "\t 19\\_54847310\\_C\\_T & 9.938821e-06          &  0.3978393            & 0.09003943            & 0.061996940           & 19                    & 54618837              & 54635140              & 104                   & 104                   & 0.5423723             & 481.7637              & 19                    & 54847310              & T                     & 1                     & 0.08653846            & 1.0000000             & ENSG00000105618      \\\\\n",
       "\t 19\\_54662043\\_C\\_T & 1.711993e-03          & -0.5528001            & 0.17626883            & 0.631529514           & 19                    & 54610320              & 54619055              & 104                   & 104                   & 0.4749339             & 314.0565              & 19                    & 54662043              & T                     & 1                     & 0.05769231            & 1.0000000             & ENSG00000105619      \\\\\n",
       "\t 19\\_54762709\\_A\\_G & 9.041088e-04          &  0.1551050            & 0.04673552            & 0.549469375           & 19                    & 54677107              & 54693733              & 104                   & 104                   & 0.6231630             & 450.9643              & 19                    & 54762709              & G                     & 1                     & 0.21634615            & 0.3907905             & ENSG00000125505      \\\\\n",
       "\t 19\\_54706127\\_C\\_A & 1.121626e-08          & -0.3261821            & 0.05711241            & 0.005651875           & 19                    & 54704610              & 54752862              & 104                   & 104                   & 0.7188385             & 227.9462              & 19                    & 54706127              & A                     & 1                     & 0.39423077            & 0.4191816             & ENSG00000170889      \\\\\n",
       "\t 19\\_54857316\\_T\\_C & 1.531939e-04          & -0.3666315            & 0.09684300            & 0.263053309           & 19                    & 54693789              & 54697585              & 104                   & 104                   & 0.5297797             & 270.3666              & 19                    & 54857316              & C                     & 1                     & 0.15865385            & 1.0000000             & ENSG00000170892      \\\\\n",
       "\t 19\\_54611734\\_A\\_G & 1.110321e-03          &  0.2713837            & 0.08322180            & 0.538832320           & 19                    & 54606036              & 54612564              & 104                   & 104                   & 0.4605985             & 208.8887              & 19                    & 54611734              & G                     & 1                     & 0.08173077            & 1.0000000             & ENSG00000170906      \\\\\n",
       "\\end{tabular}\n"
      ],
      "text/markdown": [
       "\n",
       "snp_id | p_value | beta | beta_se | empirical_feature_p_value | feature_chromosome | feature_start | feature_end | n_samples | n_e_samples | alpha_param | beta_param | snp_chromosome | snp_position | assessed_allele | call_rate | maf | hwe_p | feature_id | \n",
       "|---|---|---|---|---|---|\n",
       "| 19_54847310_C_T | 9.938821e-06    |  0.3978393      | 0.09003943      | 0.061996940     | 19              | 54618837        | 54635140        | 104             | 104             | 0.5423723       | 481.7637        | 19              | 54847310        | T               | 1               | 0.08653846      | 1.0000000       | ENSG00000105618 | \n",
       "| 19_54662043_C_T | 1.711993e-03    | -0.5528001      | 0.17626883      | 0.631529514     | 19              | 54610320        | 54619055        | 104             | 104             | 0.4749339       | 314.0565        | 19              | 54662043        | T               | 1               | 0.05769231      | 1.0000000       | ENSG00000105619 | \n",
       "| 19_54762709_A_G | 9.041088e-04    |  0.1551050      | 0.04673552      | 0.549469375     | 19              | 54677107        | 54693733        | 104             | 104             | 0.6231630       | 450.9643        | 19              | 54762709        | G               | 1               | 0.21634615      | 0.3907905       | ENSG00000125505 | \n",
       "| 19_54706127_C_A | 1.121626e-08    | -0.3261821      | 0.05711241      | 0.005651875     | 19              | 54704610        | 54752862        | 104             | 104             | 0.7188385       | 227.9462        | 19              | 54706127        | A               | 1               | 0.39423077      | 0.4191816       | ENSG00000170889 | \n",
       "| 19_54857316_T_C | 1.531939e-04    | -0.3666315      | 0.09684300      | 0.263053309     | 19              | 54693789        | 54697585        | 104             | 104             | 0.5297797       | 270.3666        | 19              | 54857316        | C               | 1               | 0.15865385      | 1.0000000       | ENSG00000170892 | \n",
       "| 19_54611734_A_G | 1.110321e-03    |  0.2713837      | 0.08322180      | 0.538832320     | 19              | 54606036        | 54612564        | 104             | 104             | 0.4605985       | 208.8887        | 19              | 54611734        | G               | 1               | 0.08173077      | 1.0000000       | ENSG00000170906 | \n",
       "\n",
       "\n"
      ],
      "text/plain": [
       "  snp_id          p_value      beta       beta_se    empirical_feature_p_value\n",
       "1 19_54847310_C_T 9.938821e-06  0.3978393 0.09003943 0.061996940              \n",
       "2 19_54662043_C_T 1.711993e-03 -0.5528001 0.17626883 0.631529514              \n",
       "3 19_54762709_A_G 9.041088e-04  0.1551050 0.04673552 0.549469375              \n",
       "4 19_54706127_C_A 1.121626e-08 -0.3261821 0.05711241 0.005651875              \n",
       "5 19_54857316_T_C 1.531939e-04 -0.3666315 0.09684300 0.263053309              \n",
       "6 19_54611734_A_G 1.110321e-03  0.2713837 0.08322180 0.538832320              \n",
       "  feature_chromosome feature_start feature_end n_samples n_e_samples\n",
       "1 19                 54618837      54635140    104       104        \n",
       "2 19                 54610320      54619055    104       104        \n",
       "3 19                 54677107      54693733    104       104        \n",
       "4 19                 54704610      54752862    104       104        \n",
       "5 19                 54693789      54697585    104       104        \n",
       "6 19                 54606036      54612564    104       104        \n",
       "  alpha_param beta_param snp_chromosome snp_position assessed_allele call_rate\n",
       "1 0.5423723   481.7637   19             54847310     T               1        \n",
       "2 0.4749339   314.0565   19             54662043     T               1        \n",
       "3 0.6231630   450.9643   19             54762709     G               1        \n",
       "4 0.7188385   227.9462   19             54706127     A               1        \n",
       "5 0.5297797   270.3666   19             54857316     C               1        \n",
       "6 0.4605985   208.8887   19             54611734     G               1        \n",
       "  maf        hwe_p     feature_id     \n",
       "1 0.08653846 1.0000000 ENSG00000105618\n",
       "2 0.05769231 1.0000000 ENSG00000105619\n",
       "3 0.21634615 0.3907905 ENSG00000125505\n",
       "4 0.39423077 0.4191816 ENSG00000170889\n",
       "5 0.15865385 1.0000000 ENSG00000170892\n",
       "6 0.08173077 1.0000000 ENSG00000170906"
      ]
     },
     "metadata": {},
     "output_type": "display_data"
    },
    {
     "data": {
      "text/html": [
       "111"
      ],
      "text/latex": [
       "111"
      ],
      "text/markdown": [
       "111"
      ],
      "text/plain": [
       "[1] 111"
      ]
     },
     "metadata": {},
     "output_type": "display_data"
    }
   ],
   "source": [
    "Astro_NONE_file = \"/hps/nobackup/stegle/users/acuomo/all_scripts/sc_neuroseq/eqtl/timepoint_D52/input_files_untreated/celltype_Astro/results/top_qtl_results_all.txt\"\n",
    "\n",
    "Astro_NONE = read.csv(Astro_NONE_file,sep=\"\\t\")\n",
    "head(Astro_NONE)\n",
    "\n",
    "Astro_NONE$q_value = p.adjust(Astro_NONE$empirical_feature_p_value, method = \"BH\")\n",
    "nrow(Astro_NONE[Astro_NONE$q_value < 0.05,])"
   ]
  },
  {
   "cell_type": "code",
   "execution_count": 57,
   "metadata": {},
   "outputs": [
    {
     "data": {
      "text/html": [
       "<table>\n",
       "<thead><tr><th scope=col>snp_id</th><th scope=col>p_value</th><th scope=col>beta</th><th scope=col>beta_se</th><th scope=col>empirical_feature_p_value</th><th scope=col>feature_chromosome</th><th scope=col>feature_start</th><th scope=col>feature_end</th><th scope=col>n_samples</th><th scope=col>n_e_samples</th><th scope=col>alpha_param</th><th scope=col>beta_param</th><th scope=col>snp_chromosome</th><th scope=col>snp_position</th><th scope=col>assessed_allele</th><th scope=col>call_rate</th><th scope=col>maf</th><th scope=col>hwe_p</th><th scope=col>feature_id</th></tr></thead>\n",
       "<tbody>\n",
       "\t<tr><td>19_54479456_T_G</td><td>1.419284e-04   </td><td> 0.2136265     </td><td>0.05614682     </td><td>0.569140300    </td><td>19             </td><td>54618837       </td><td>54635140       </td><td>98             </td><td>98             </td><td>0.5010167      </td><td>240.4714       </td><td>19             </td><td>54479456       </td><td>G              </td><td>1              </td><td>0.1326531      </td><td>0.36511490     </td><td>ENSG00000105618</td></tr>\n",
       "\t<tr><td>19_54626055_C_G</td><td>3.228669e-04   </td><td> 0.3771352     </td><td>0.10486971     </td><td>0.291956360    </td><td>19             </td><td>54610320       </td><td>54619055       </td><td>98             </td><td>98             </td><td>0.2681356      </td><td>630.8016       </td><td>19             </td><td>54626055       </td><td>G              </td><td>1              </td><td>0.2295918      </td><td>1.00000000     </td><td>ENSG00000105619</td></tr>\n",
       "\t<tr><td>19_54853493_A_C</td><td>2.141193e-04   </td><td>-0.2538724     </td><td>0.06858175     </td><td>0.322055318    </td><td>19             </td><td>54677107       </td><td>54693733       </td><td>98             </td><td>98             </td><td>0.4650794      </td><td>289.0240       </td><td>19             </td><td>54853493       </td><td>C              </td><td>1              </td><td>0.1428571      </td><td>0.68444879     </td><td>ENSG00000125505</td></tr>\n",
       "\t<tr><td>19_54700668_T_C</td><td>1.431453e-08   </td><td>-0.2695622     </td><td>0.04754533     </td><td>0.003539271    </td><td>19             </td><td>54704610       </td><td>54752862       </td><td>98             </td><td>98             </td><td>0.5252690      </td><td>249.5926       </td><td>19             </td><td>54700668       </td><td>C              </td><td>1              </td><td>0.3826531      </td><td>0.67074985     </td><td>ENSG00000170889</td></tr>\n",
       "\t<tr><td>19_54795299_T_C</td><td>6.797161e-04   </td><td> 0.3143882     </td><td>0.09253155     </td><td>0.479574998    </td><td>19             </td><td>54693789       </td><td>54697585       </td><td>98             </td><td>98             </td><td>0.5638447      </td><td>548.3979       </td><td>19             </td><td>54795299       </td><td>C              </td><td>1              </td><td>0.2857143      </td><td>1.00000000     </td><td>ENSG00000170892</td></tr>\n",
       "\t<tr><td>19_54583369_A_G</td><td>4.689865e-04   </td><td>-0.3655010     </td><td>0.10449240     </td><td>0.376198761    </td><td>19             </td><td>54606036       </td><td>54612564       </td><td>98             </td><td>98             </td><td>0.4782726      </td><td>230.4360       </td><td>19             </td><td>54583369       </td><td>G              </td><td>1              </td><td>0.3775510      </td><td>0.05189001     </td><td>ENSG00000170906</td></tr>\n",
       "</tbody>\n",
       "</table>\n"
      ],
      "text/latex": [
       "\\begin{tabular}{r|lllllllllllllllllll}\n",
       " snp\\_id & p\\_value & beta & beta\\_se & empirical\\_feature\\_p\\_value & feature\\_chromosome & feature\\_start & feature\\_end & n\\_samples & n\\_e\\_samples & alpha\\_param & beta\\_param & snp\\_chromosome & snp\\_position & assessed\\_allele & call\\_rate & maf & hwe\\_p & feature\\_id\\\\\n",
       "\\hline\n",
       "\t 19\\_54479456\\_T\\_G & 1.419284e-04          &  0.2136265            & 0.05614682            & 0.569140300           & 19                    & 54618837              & 54635140              & 98                    & 98                    & 0.5010167             & 240.4714              & 19                    & 54479456              & G                     & 1                     & 0.1326531             & 0.36511490            & ENSG00000105618      \\\\\n",
       "\t 19\\_54626055\\_C\\_G & 3.228669e-04          &  0.3771352            & 0.10486971            & 0.291956360           & 19                    & 54610320              & 54619055              & 98                    & 98                    & 0.2681356             & 630.8016              & 19                    & 54626055              & G                     & 1                     & 0.2295918             & 1.00000000            & ENSG00000105619      \\\\\n",
       "\t 19\\_54853493\\_A\\_C & 2.141193e-04          & -0.2538724            & 0.06858175            & 0.322055318           & 19                    & 54677107              & 54693733              & 98                    & 98                    & 0.4650794             & 289.0240              & 19                    & 54853493              & C                     & 1                     & 0.1428571             & 0.68444879            & ENSG00000125505      \\\\\n",
       "\t 19\\_54700668\\_T\\_C & 1.431453e-08          & -0.2695622            & 0.04754533            & 0.003539271           & 19                    & 54704610              & 54752862              & 98                    & 98                    & 0.5252690             & 249.5926              & 19                    & 54700668              & C                     & 1                     & 0.3826531             & 0.67074985            & ENSG00000170889      \\\\\n",
       "\t 19\\_54795299\\_T\\_C & 6.797161e-04          &  0.3143882            & 0.09253155            & 0.479574998           & 19                    & 54693789              & 54697585              & 98                    & 98                    & 0.5638447             & 548.3979              & 19                    & 54795299              & C                     & 1                     & 0.2857143             & 1.00000000            & ENSG00000170892      \\\\\n",
       "\t 19\\_54583369\\_A\\_G & 4.689865e-04          & -0.3655010            & 0.10449240            & 0.376198761           & 19                    & 54606036              & 54612564              & 98                    & 98                    & 0.4782726             & 230.4360              & 19                    & 54583369              & G                     & 1                     & 0.3775510             & 0.05189001            & ENSG00000170906      \\\\\n",
       "\\end{tabular}\n"
      ],
      "text/markdown": [
       "\n",
       "snp_id | p_value | beta | beta_se | empirical_feature_p_value | feature_chromosome | feature_start | feature_end | n_samples | n_e_samples | alpha_param | beta_param | snp_chromosome | snp_position | assessed_allele | call_rate | maf | hwe_p | feature_id | \n",
       "|---|---|---|---|---|---|\n",
       "| 19_54479456_T_G | 1.419284e-04    |  0.2136265      | 0.05614682      | 0.569140300     | 19              | 54618837        | 54635140        | 98              | 98              | 0.5010167       | 240.4714        | 19              | 54479456        | G               | 1               | 0.1326531       | 0.36511490      | ENSG00000105618 | \n",
       "| 19_54626055_C_G | 3.228669e-04    |  0.3771352      | 0.10486971      | 0.291956360     | 19              | 54610320        | 54619055        | 98              | 98              | 0.2681356       | 630.8016        | 19              | 54626055        | G               | 1               | 0.2295918       | 1.00000000      | ENSG00000105619 | \n",
       "| 19_54853493_A_C | 2.141193e-04    | -0.2538724      | 0.06858175      | 0.322055318     | 19              | 54677107        | 54693733        | 98              | 98              | 0.4650794       | 289.0240        | 19              | 54853493        | C               | 1               | 0.1428571       | 0.68444879      | ENSG00000125505 | \n",
       "| 19_54700668_T_C | 1.431453e-08    | -0.2695622      | 0.04754533      | 0.003539271     | 19              | 54704610        | 54752862        | 98              | 98              | 0.5252690       | 249.5926        | 19              | 54700668        | C               | 1               | 0.3826531       | 0.67074985      | ENSG00000170889 | \n",
       "| 19_54795299_T_C | 6.797161e-04    |  0.3143882      | 0.09253155      | 0.479574998     | 19              | 54693789        | 54697585        | 98              | 98              | 0.5638447       | 548.3979        | 19              | 54795299        | C               | 1               | 0.2857143       | 1.00000000      | ENSG00000170892 | \n",
       "| 19_54583369_A_G | 4.689865e-04    | -0.3655010      | 0.10449240      | 0.376198761     | 19              | 54606036        | 54612564        | 98              | 98              | 0.4782726       | 230.4360        | 19              | 54583369        | G               | 1               | 0.3775510       | 0.05189001      | ENSG00000170906 | \n",
       "\n",
       "\n"
      ],
      "text/plain": [
       "  snp_id          p_value      beta       beta_se    empirical_feature_p_value\n",
       "1 19_54479456_T_G 1.419284e-04  0.2136265 0.05614682 0.569140300              \n",
       "2 19_54626055_C_G 3.228669e-04  0.3771352 0.10486971 0.291956360              \n",
       "3 19_54853493_A_C 2.141193e-04 -0.2538724 0.06858175 0.322055318              \n",
       "4 19_54700668_T_C 1.431453e-08 -0.2695622 0.04754533 0.003539271              \n",
       "5 19_54795299_T_C 6.797161e-04  0.3143882 0.09253155 0.479574998              \n",
       "6 19_54583369_A_G 4.689865e-04 -0.3655010 0.10449240 0.376198761              \n",
       "  feature_chromosome feature_start feature_end n_samples n_e_samples\n",
       "1 19                 54618837      54635140    98        98         \n",
       "2 19                 54610320      54619055    98        98         \n",
       "3 19                 54677107      54693733    98        98         \n",
       "4 19                 54704610      54752862    98        98         \n",
       "5 19                 54693789      54697585    98        98         \n",
       "6 19                 54606036      54612564    98        98         \n",
       "  alpha_param beta_param snp_chromosome snp_position assessed_allele call_rate\n",
       "1 0.5010167   240.4714   19             54479456     G               1        \n",
       "2 0.2681356   630.8016   19             54626055     G               1        \n",
       "3 0.4650794   289.0240   19             54853493     C               1        \n",
       "4 0.5252690   249.5926   19             54700668     C               1        \n",
       "5 0.5638447   548.3979   19             54795299     C               1        \n",
       "6 0.4782726   230.4360   19             54583369     G               1        \n",
       "  maf       hwe_p      feature_id     \n",
       "1 0.1326531 0.36511490 ENSG00000105618\n",
       "2 0.2295918 1.00000000 ENSG00000105619\n",
       "3 0.1428571 0.68444879 ENSG00000125505\n",
       "4 0.3826531 0.67074985 ENSG00000170889\n",
       "5 0.2857143 1.00000000 ENSG00000170892\n",
       "6 0.3775510 0.05189001 ENSG00000170906"
      ]
     },
     "metadata": {},
     "output_type": "display_data"
    }
   ],
   "source": [
    "Astro_ROT_file = \"/hps/nobackup/stegle/users/acuomo/all_scripts/sc_neuroseq/eqtl/timepoint_D52/input_files_ROT_treated/celltype_Astro/results/top_qtl_results_all.txt\"\n",
    "Astro_ROT = read.csv(Astro_ROT_file,sep=\"\\t\")\n",
    "head(Astro_ROT)"
   ]
  },
  {
   "cell_type": "code",
   "execution_count": 58,
   "metadata": {},
   "outputs": [],
   "source": [
    "Astro_ROT <- Astro_ROT[order(Astro_ROT$empirical_feature_p_value, Astro_ROT$p_value ),]\n",
    "#get best SNP per feature\n",
    "Astro_ROT <- Astro_ROT[-which(duplicated(Astro_ROT$feature_id)),]"
   ]
  },
  {
   "cell_type": "code",
   "execution_count": 59,
   "metadata": {},
   "outputs": [
    {
     "data": {
      "text/html": [
       "87"
      ],
      "text/latex": [
       "87"
      ],
      "text/markdown": [
       "87"
      ],
      "text/plain": [
       "[1] 87"
      ]
     },
     "metadata": {},
     "output_type": "display_data"
    }
   ],
   "source": [
    "Astro_ROT$q_value = p.adjust(Astro_ROT$empirical_feature_p_value, method = \"BH\")\n",
    "nrow(Astro_ROT[Astro_ROT$q_value < 0.05,])"
   ]
  },
  {
   "cell_type": "code",
   "execution_count": 60,
   "metadata": {},
   "outputs": [],
   "source": [
    "eqtls <- c(1784,1802,\n",
    "           674,546,622,618,\n",
    "           nrow(DA_NONE[DA_NONE$q_value < 0.05,]),nrow(Sert_NONE[Sert_NONE$q_value < 0.05,]),\n",
    "           nrow(Epen1_NONE[Epen1_NONE$q_value < 0.05,]),nrow(Astro_NONE[Astro_NONE$q_value < 0.05,]),\n",
    "           nrow(DA_ROT[DA_ROT$q_value < 0.05,]),nrow(Sert_ROT[Sert_ROT$q_value < 0.05,]),\n",
    "           nrow(Epen1_ROT[Epen1_ROT$q_value < 0.05,]),nrow(Astro_ROT[Astro_ROT$q_value < 0.05,]))"
   ]
  },
  {
   "cell_type": "code",
   "execution_count": null,
   "metadata": {},
   "outputs": [],
   "source": [
    "eqtls"
   ]
  },
  {
   "cell_type": "code",
   "execution_count": 61,
   "metadata": {},
   "outputs": [],
   "source": [
    "col_FPP = \"#aec7e8\"\n",
    "col_P_FPP = \"#1f77b4\"\n",
    "\n",
    "col_DA = \"#2ca02c\"\n",
    "col_Sert = \"#98df8a\"\n",
    "col_Epen1 = \"#ff9896\"\n",
    "col_Astro = \"#d62728\""
   ]
  },
  {
   "cell_type": "code",
   "execution_count": 62,
   "metadata": {},
   "outputs": [
    {
     "data": {
      "image/png": "[encoded data removed]",
      "text/plain": [
       "plot without title"
      ]
     },
     "metadata": {},
     "output_type": "display_data"
    }
   ],
   "source": [
    "options(repr.plot.width = 8, repr.plot.height = 4)\n",
    "\n",
    "my.xlim = c(0, 1810)\n",
    "my.ylim = c(0,20)\n",
    "my.space = c(0, 0.1, 0.5, 0.1, 0.1, 0.1, 0.5, 0.1, 0.1,0.1,0.5, 0.1, 0.1,0.1)\n",
    "\n",
    "# opar <- par(lwd = 5)\n",
    "barplot(as.numeric(eqtls), \n",
    "#         border = c(col_ips,col_mesendo,col_day1,col_defendo,col_day3),\n",
    "#         col = \"white\",\n",
    "        col = c(col_FPP, col_P_FPP,\n",
    "                col_DA, col_Sert, col_Epen1, col_Astro,\n",
    "                col_DA, col_Sert, col_Epen1, col_Astro,\n",
    "               col_DA, col_Sert, col_Epen1, col_Astro),\n",
    "        xlim = my.ylim, ylim = my.xlim, space = my.space, ylab = \"\")#, \n",
    "#         width = 0.5, xlab = \"% eQTLs overlapping H3K27ac\", horiz = TRUE, las = 1)\n"
   ]
  },
  {
   "cell_type": "code",
   "execution_count": 63,
   "metadata": {},
   "outputs": [
    {
     "data": {
      "image/png": "[encoded data removed]",
      "text/plain": [
       "plot without title"
      ]
     },
     "metadata": {},
     "output_type": "display_data"
    }
   ],
   "source": [
    "options(repr.plot.width = 6, repr.plot.height = 4)\n",
    "eqtls <- c(1784,1802,\n",
    "           674,546,622,618,\n",
    "           935,1319,1253,317)\n",
    "\n",
    "\n",
    "my.xlim = c(0, 1810)\n",
    "my.ylim = c(0,12)\n",
    "my.space = c(0, 0.1, 0.5, 0.1, 0.1, 0.1, 0.5, 0.1, 0.1,0.1)\n",
    "\n",
    "# opar <- par(lwd = 5)\n",
    "barplot(as.numeric(eqtls), \n",
    "#         border = c(col_ips,col_mesendo,col_day1,col_defendo,col_day3),\n",
    "#         col = \"white\",\n",
    "        col = c(col_FPP, col_P_FPP,\n",
    "                col_DA, col_Sert, col_Epen1, col_Astro,\n",
    "                col_DA, col_Sert, col_Epen1, col_Astro),\n",
    "        xlim = my.ylim, ylim = my.xlim, space = my.space, ylab = \"\")#, \n",
    "#         width = 0.5, xlab = \"% eQTLs overlapping H3K27ac\", horiz = TRUE, las = 1)\n"
   ]
  },
  {
   "cell_type": "code",
   "execution_count": null,
   "metadata": {},
   "outputs": [],
   "source": [
    "##########################"
   ]
  }
 ],
 "metadata": {
  "kernelspec": {
   "display_name": "R [conda env:myr]",
   "language": "R",
   "name": "conda-env-myr-r"
  },
  "language_info": {
   "codemirror_mode": "r",
   "file_extension": ".r",
   "mimetype": "text/x-r-source",
   "name": "R",
   "pygments_lexer": "r",
   "version": "3.4.3"
  }
 },
 "nbformat": 4,
 "nbformat_minor": 2
}
