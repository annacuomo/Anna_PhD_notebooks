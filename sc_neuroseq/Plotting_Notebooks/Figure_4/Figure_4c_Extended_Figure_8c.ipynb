{
 "cells": [
  {
   "cell_type": "code",
   "execution_count": 1,
   "metadata": {},
   "outputs": [],
   "source": [
    "sample_size_gtex_filename = \"/hps/nobackup/stegle/users/acuomo/all_scripts/sc_neuroseq/eqtl/gtex_v7_sample_n.txt\""
   ]
  },
  {
   "cell_type": "code",
   "execution_count": 2,
   "metadata": {},
   "outputs": [
    {
     "data": {
      "text/html": [
       "<table>\n",
       "<thead><tr><th scope=col>tissue</th><th scope=col>n</th></tr></thead>\n",
       "<tbody>\n",
       "\t<tr><td>Adipose - Subcutaneous      </td><td>442                         </td></tr>\n",
       "\t<tr><td>Adipose - Visceral (Omentum)</td><td>355                         </td></tr>\n",
       "\t<tr><td>Adrenal Gland               </td><td>190                         </td></tr>\n",
       "\t<tr><td>Artery - Aorta              </td><td>299                         </td></tr>\n",
       "\t<tr><td>Artery - Coronary           </td><td>173                         </td></tr>\n",
       "\t<tr><td>Artery - Tibial             </td><td>441                         </td></tr>\n",
       "</tbody>\n",
       "</table>\n"
      ],
      "text/latex": [
       "\\begin{tabular}{r|ll}\n",
       " tissue & n\\\\\n",
       "\\hline\n",
       "\t Adipose - Subcutaneous       & 442                         \\\\\n",
       "\t Adipose - Visceral (Omentum) & 355                         \\\\\n",
       "\t Adrenal Gland                & 190                         \\\\\n",
       "\t Artery - Aorta               & 299                         \\\\\n",
       "\t Artery - Coronary            & 173                         \\\\\n",
       "\t Artery - Tibial              & 441                         \\\\\n",
       "\\end{tabular}\n"
      ],
      "text/markdown": [
       "\n",
       "| tissue | n |\n",
       "|---|---|\n",
       "| Adipose - Subcutaneous       | 442                          |\n",
       "| Adipose - Visceral (Omentum) | 355                          |\n",
       "| Adrenal Gland                | 190                          |\n",
       "| Artery - Aorta               | 299                          |\n",
       "| Artery - Coronary            | 173                          |\n",
       "| Artery - Tibial              | 441                          |\n",
       "\n"
      ],
      "text/plain": [
       "  tissue                       n  \n",
       "1 Adipose - Subcutaneous       442\n",
       "2 Adipose - Visceral (Omentum) 355\n",
       "3 Adrenal Gland                190\n",
       "4 Artery - Aorta               299\n",
       "5 Artery - Coronary            173\n",
       "6 Artery - Tibial              441"
      ]
     },
     "metadata": {},
     "output_type": "display_data"
    }
   ],
   "source": [
    "sample_size_gtex = read.csv(sample_size_gtex_filename, header = T)\n",
    "head(sample_size_gtex)"
   ]
  },
  {
   "cell_type": "code",
   "execution_count": 3,
   "metadata": {},
   "outputs": [],
   "source": [
    "dir = \"/hps/nobackup/hipsci/scratch/GTEx/GTEx_Analysis_v7_eQTL/\""
   ]
  },
  {
   "cell_type": "code",
   "execution_count": 4,
   "metadata": {},
   "outputs": [],
   "source": [
    "egene_files = list.files(dir,\"*.egenes.txt\")"
   ]
  },
  {
   "cell_type": "code",
   "execution_count": 5,
   "metadata": {},
   "outputs": [
    {
     "data": {
      "text/html": [
       "<table>\n",
       "<thead><tr><th scope=col>tissue</th><th scope=col>n</th></tr></thead>\n",
       "<tbody>\n",
       "\t<tr><td>Adipose_Subcutaneous    </td><td>442                     </td></tr>\n",
       "\t<tr><td>Adipose_Visceral_Omentum</td><td>355                     </td></tr>\n",
       "\t<tr><td>Adrenal_Gland           </td><td>190                     </td></tr>\n",
       "\t<tr><td>Artery_Aorta            </td><td>299                     </td></tr>\n",
       "\t<tr><td>Artery_Coronary         </td><td>173                     </td></tr>\n",
       "\t<tr><td>Artery_Tibial           </td><td>441                     </td></tr>\n",
       "</tbody>\n",
       "</table>\n"
      ],
      "text/latex": [
       "\\begin{tabular}{r|ll}\n",
       " tissue & n\\\\\n",
       "\\hline\n",
       "\t Adipose\\_Subcutaneous     & 442                       \\\\\n",
       "\t Adipose\\_Visceral\\_Omentum & 355                         \\\\\n",
       "\t Adrenal\\_Gland            & 190                       \\\\\n",
       "\t Artery\\_Aorta             & 299                       \\\\\n",
       "\t Artery\\_Coronary          & 173                       \\\\\n",
       "\t Artery\\_Tibial            & 441                       \\\\\n",
       "\\end{tabular}\n"
      ],
      "text/markdown": [
       "\n",
       "| tissue | n |\n",
       "|---|---|\n",
       "| Adipose_Subcutaneous     | 442                      |\n",
       "| Adipose_Visceral_Omentum | 355                      |\n",
       "| Adrenal_Gland            | 190                      |\n",
       "| Artery_Aorta             | 299                      |\n",
       "| Artery_Coronary          | 173                      |\n",
       "| Artery_Tibial            | 441                      |\n",
       "\n"
      ],
      "text/plain": [
       "  tissue                   n  \n",
       "1 Adipose_Subcutaneous     442\n",
       "2 Adipose_Visceral_Omentum 355\n",
       "3 Adrenal_Gland            190\n",
       "4 Artery_Aorta             299\n",
       "5 Artery_Coronary          173\n",
       "6 Artery_Tibial            441"
      ]
     },
     "metadata": {},
     "output_type": "display_data"
    }
   ],
   "source": [
    "df = sample_size_gtex\n",
    "df$tissue = gsub(\" \",\"_\",gsub(\"-\",\"_\",df$tissue))\n",
    "df$tissue = gsub(\"\\\\)\",\"\",gsub(\"\\\\(\",\"\",df$tissue))\n",
    "df$tissue = gsub(\"___\",\"_\",df$tissue)\n",
    "df$tissue = gsub(\"__\",\"_\",df$tissue)\n",
    "head(df)"
   ]
  },
  {
   "cell_type": "code",
   "execution_count": 6,
   "metadata": {},
   "outputs": [
    {
     "data": {
      "text/html": [
       "<table>\n",
       "<thead><tr><th scope=col>tissue</th><th scope=col>n</th><th scope=col>fdr0.05</th></tr></thead>\n",
       "<tbody>\n",
       "\t<tr><td>Adipose_Subcutaneous                 </td><td>442                                  </td><td>11866                                </td></tr>\n",
       "\t<tr><td>Adipose_Visceral_Omentum             </td><td>355                                  </td><td> 8991                                </td></tr>\n",
       "\t<tr><td>Adrenal_Gland                        </td><td>190                                  </td><td> 6421                                </td></tr>\n",
       "\t<tr><td>Artery_Aorta                         </td><td>299                                  </td><td> 9205                                </td></tr>\n",
       "\t<tr><td>Artery_Coronary                      </td><td>173                                  </td><td> 4383                                </td></tr>\n",
       "\t<tr><td>Artery_Tibial                        </td><td>441                                  </td><td>11947                                </td></tr>\n",
       "\t<tr><td>Bladder                              </td><td> 11                                  </td><td>   NA                                </td></tr>\n",
       "\t<tr><td>Brain_Amygdala                       </td><td>100                                  </td><td> 2229                                </td></tr>\n",
       "\t<tr><td>Brain_Anterior_cingulate_cortex_BA24 </td><td>121                                  </td><td> 4103                                </td></tr>\n",
       "\t<tr><td>Brain_Caudate_basal_ganglia          </td><td>160                                  </td><td> 5700                                </td></tr>\n",
       "\t<tr><td>Brain_Cerebellar_Hemisphere          </td><td>136                                  </td><td> 6889                                </td></tr>\n",
       "\t<tr><td>Brain_Cerebellum                     </td><td>173                                  </td><td> 8429                                </td></tr>\n",
       "\t<tr><td>Brain_Cortex                         </td><td>158                                  </td><td> 6146                                </td></tr>\n",
       "\t<tr><td>Brain_Frontal_Cortex_BA9             </td><td>129                                  </td><td> 5086                                </td></tr>\n",
       "\t<tr><td>Brain_Hippocampus                    </td><td>123                                  </td><td> 3262                                </td></tr>\n",
       "\t<tr><td>Brain_Hypothalamus                   </td><td>121                                  </td><td> 3077                                </td></tr>\n",
       "\t<tr><td>Brain_Nucleus_accumbens_basal_ganglia</td><td>147                                  </td><td> 5118                                </td></tr>\n",
       "\t<tr><td>Brain_Putamen_basal_ganglia          </td><td>124                                  </td><td> 4099                                </td></tr>\n",
       "\t<tr><td>Brain_Spinal_cord_cervical_c_1       </td><td> 91                                  </td><td> 2644                                </td></tr>\n",
       "\t<tr><td>Brain_Substantia_nigra               </td><td> 88                                  </td><td> 1807                                </td></tr>\n",
       "\t<tr><td>Breast_Mammary_Tissue                </td><td>290                                  </td><td> 6983                                </td></tr>\n",
       "\t<tr><td>Cells_EBV_transformed_lymphocytes    </td><td>130                                  </td><td> 3845                                </td></tr>\n",
       "\t<tr><td>Cells_Transformed_fibroblasts        </td><td>343                                  </td><td>11091                                </td></tr>\n",
       "\t<tr><td>Cervix_Ectocervix                    </td><td>  6                                  </td><td>   NA                                </td></tr>\n",
       "\t<tr><td>Cervix_Endocervix                    </td><td>  5                                  </td><td>   NA                                </td></tr>\n",
       "\t<tr><td>Colon_Sigmoid                        </td><td>233                                  </td><td> 7159                                </td></tr>\n",
       "\t<tr><td>Colon_Transverse                     </td><td>274                                  </td><td> 8094                                </td></tr>\n",
       "\t<tr><td>Esophagus_Gastroesophageal_Junction  </td><td>244                                  </td><td> 7254                                </td></tr>\n",
       "\t<tr><td>Esophagus_Mucosa                     </td><td>407                                  </td><td>11694                                </td></tr>\n",
       "\t<tr><td>Esophagus_Muscularis                 </td><td>370                                  </td><td>11071                                </td></tr>\n",
       "\t<tr><td>Fallopian_Tube                       </td><td>  7                                  </td><td>   NA                                </td></tr>\n",
       "\t<tr><td>Heart_Atrial_Appendage               </td><td>297                                  </td><td> 8096                                </td></tr>\n",
       "\t<tr><td>Heart_Left_Ventricle                 </td><td>303                                  </td><td> 7377                                </td></tr>\n",
       "\t<tr><td>Kidney_Cortex                        </td><td> 45                                  </td><td>   NA                                </td></tr>\n",
       "\t<tr><td>Liver                                </td><td>175                                  </td><td> 4005                                </td></tr>\n",
       "\t<tr><td>Lung                                 </td><td>427                                  </td><td>11307                                </td></tr>\n",
       "\t<tr><td>Minor_Salivary_Gland                 </td><td> 97                                  </td><td> 2150                                </td></tr>\n",
       "\t<tr><td>Muscle_Skeletal                      </td><td>564                                  </td><td>10777                                </td></tr>\n",
       "\t<tr><td>Nerve_Tibial                         </td><td>414                                  </td><td>13976                                </td></tr>\n",
       "\t<tr><td>Ovary                                </td><td>133                                  </td><td> 3789                                </td></tr>\n",
       "\t<tr><td>Pancreas                             </td><td>248                                  </td><td> 7146                                </td></tr>\n",
       "\t<tr><td>Pituitary                            </td><td>183                                  </td><td> 6263                                </td></tr>\n",
       "\t<tr><td>Prostate                             </td><td>152                                  </td><td> 4243                                </td></tr>\n",
       "\t<tr><td>Skin_Not_Sun_Exposed_Suprapubic      </td><td>387                                  </td><td>10857                                </td></tr>\n",
       "\t<tr><td>Skin_Sun_Exposed_Lower_leg           </td><td>473                                  </td><td>13109                                </td></tr>\n",
       "\t<tr><td>Small_Intestine_Terminal_Ileum       </td><td>137                                  </td><td> 4763                                </td></tr>\n",
       "\t<tr><td>Spleen                               </td><td>162                                  </td><td> 6578                                </td></tr>\n",
       "\t<tr><td>Stomach                              </td><td>262                                  </td><td> 6384                                </td></tr>\n",
       "\t<tr><td>Testis                               </td><td>259                                  </td><td>13759                                </td></tr>\n",
       "\t<tr><td>Thyroid                              </td><td>446                                  </td><td>14313                                </td></tr>\n",
       "\t<tr><td>Uterus                               </td><td>111                                  </td><td> 2641                                </td></tr>\n",
       "\t<tr><td>Vagina                               </td><td>115                                  </td><td> 2527                                </td></tr>\n",
       "\t<tr><td>Whole_Blood                          </td><td>407                                  </td><td> 8663                                </td></tr>\n",
       "</tbody>\n",
       "</table>\n"
      ],
      "text/latex": [
       "\\begin{tabular}{r|lll}\n",
       " tissue & n & fdr0.05\\\\\n",
       "\\hline\n",
       "\t Adipose\\_Subcutaneous                  & 442                                     & 11866                                  \\\\\n",
       "\t Adipose\\_Visceral\\_Omentum              & 355                                       &  8991                                    \\\\\n",
       "\t Adrenal\\_Gland                         & 190                                     &  6421                                  \\\\\n",
       "\t Artery\\_Aorta                          & 299                                     &  9205                                  \\\\\n",
       "\t Artery\\_Coronary                       & 173                                     &  4383                                  \\\\\n",
       "\t Artery\\_Tibial                         & 441                                     & 11947                                  \\\\\n",
       "\t Bladder                               &  11                                   &    NA                                \\\\\n",
       "\t Brain\\_Amygdala                        & 100                                     &  2229                                  \\\\\n",
       "\t Brain\\_Anterior\\_cingulate\\_cortex\\_BA24  & 121                                           &  4103                                        \\\\\n",
       "\t Brain\\_Caudate\\_basal\\_ganglia           & 160                                         &  5700                                      \\\\\n",
       "\t Brain\\_Cerebellar\\_Hemisphere           & 136                                       &  6889                                    \\\\\n",
       "\t Brain\\_Cerebellum                      & 173                                     &  8429                                  \\\\\n",
       "\t Brain\\_Cortex                          & 158                                     &  6146                                  \\\\\n",
       "\t Brain\\_Frontal\\_Cortex\\_BA9              & 129                                         &  5086                                      \\\\\n",
       "\t Brain\\_Hippocampus                     & 123                                     &  3262                                  \\\\\n",
       "\t Brain\\_Hypothalamus                    & 121                                     &  3077                                  \\\\\n",
       "\t Brain\\_Nucleus\\_accumbens\\_basal\\_ganglia & 147                                           &  5118                                        \\\\\n",
       "\t Brain\\_Putamen\\_basal\\_ganglia           & 124                                         &  4099                                      \\\\\n",
       "\t Brain\\_Spinal\\_cord\\_cervical\\_c\\_1        &  91                                             &  2644                                          \\\\\n",
       "\t Brain\\_Substantia\\_nigra                &  88                                       &  1807                                    \\\\\n",
       "\t Breast\\_Mammary\\_Tissue                 & 290                                       &  6983                                    \\\\\n",
       "\t Cells\\_EBV\\_transformed\\_lymphocytes     & 130                                         &  3845                                      \\\\\n",
       "\t Cells\\_Transformed\\_fibroblasts         & 343                                       & 11091                                    \\\\\n",
       "\t Cervix\\_Ectocervix                     &   6                                     &    NA                                  \\\\\n",
       "\t Cervix\\_Endocervix                     &   5                                     &    NA                                  \\\\\n",
       "\t Colon\\_Sigmoid                         & 233                                     &  7159                                  \\\\\n",
       "\t Colon\\_Transverse                      & 274                                     &  8094                                  \\\\\n",
       "\t Esophagus\\_Gastroesophageal\\_Junction   & 244                                       &  7254                                    \\\\\n",
       "\t Esophagus\\_Mucosa                      & 407                                     & 11694                                  \\\\\n",
       "\t Esophagus\\_Muscularis                  & 370                                     & 11071                                  \\\\\n",
       "\t Fallopian\\_Tube                        &   7                                     &    NA                                  \\\\\n",
       "\t Heart\\_Atrial\\_Appendage                & 297                                       &  8096                                    \\\\\n",
       "\t Heart\\_Left\\_Ventricle                  & 303                                       &  7377                                    \\\\\n",
       "\t Kidney\\_Cortex                         &  45                                     &    NA                                  \\\\\n",
       "\t Liver                                 & 175                                   &  4005                                \\\\\n",
       "\t Lung                                  & 427                                   & 11307                                \\\\\n",
       "\t Minor\\_Salivary\\_Gland                  &  97                                       &  2150                                    \\\\\n",
       "\t Muscle\\_Skeletal                       & 564                                     & 10777                                  \\\\\n",
       "\t Nerve\\_Tibial                          & 414                                     & 13976                                  \\\\\n",
       "\t Ovary                                 & 133                                   &  3789                                \\\\\n",
       "\t Pancreas                              & 248                                   &  7146                                \\\\\n",
       "\t Pituitary                             & 183                                   &  6263                                \\\\\n",
       "\t Prostate                              & 152                                   &  4243                                \\\\\n",
       "\t Skin\\_Not\\_Sun\\_Exposed\\_Suprapubic       & 387                                           & 10857                                        \\\\\n",
       "\t Skin\\_Sun\\_Exposed\\_Lower\\_leg            & 473                                           & 13109                                        \\\\\n",
       "\t Small\\_Intestine\\_Terminal\\_Ileum        & 137                                         &  4763                                      \\\\\n",
       "\t Spleen                                & 162                                   &  6578                                \\\\\n",
       "\t Stomach                               & 262                                   &  6384                                \\\\\n",
       "\t Testis                                & 259                                   & 13759                                \\\\\n",
       "\t Thyroid                               & 446                                   & 14313                                \\\\\n",
       "\t Uterus                                & 111                                   &  2641                                \\\\\n",
       "\t Vagina                                & 115                                   &  2527                                \\\\\n",
       "\t Whole\\_Blood                           & 407                                     &  8663                                  \\\\\n",
       "\\end{tabular}\n"
      ],
      "text/markdown": [
       "\n",
       "| tissue | n | fdr0.05 |\n",
       "|---|---|---|\n",
       "| Adipose_Subcutaneous                  | 442                                   | 11866                                 |\n",
       "| Adipose_Visceral_Omentum              | 355                                   |  8991                                 |\n",
       "| Adrenal_Gland                         | 190                                   |  6421                                 |\n",
       "| Artery_Aorta                          | 299                                   |  9205                                 |\n",
       "| Artery_Coronary                       | 173                                   |  4383                                 |\n",
       "| Artery_Tibial                         | 441                                   | 11947                                 |\n",
       "| Bladder                               |  11                                   |    NA                                 |\n",
       "| Brain_Amygdala                        | 100                                   |  2229                                 |\n",
       "| Brain_Anterior_cingulate_cortex_BA24  | 121                                   |  4103                                 |\n",
       "| Brain_Caudate_basal_ganglia           | 160                                   |  5700                                 |\n",
       "| Brain_Cerebellar_Hemisphere           | 136                                   |  6889                                 |\n",
       "| Brain_Cerebellum                      | 173                                   |  8429                                 |\n",
       "| Brain_Cortex                          | 158                                   |  6146                                 |\n",
       "| Brain_Frontal_Cortex_BA9              | 129                                   |  5086                                 |\n",
       "| Brain_Hippocampus                     | 123                                   |  3262                                 |\n",
       "| Brain_Hypothalamus                    | 121                                   |  3077                                 |\n",
       "| Brain_Nucleus_accumbens_basal_ganglia | 147                                   |  5118                                 |\n",
       "| Brain_Putamen_basal_ganglia           | 124                                   |  4099                                 |\n",
       "| Brain_Spinal_cord_cervical_c_1        |  91                                   |  2644                                 |\n",
       "| Brain_Substantia_nigra                |  88                                   |  1807                                 |\n",
       "| Breast_Mammary_Tissue                 | 290                                   |  6983                                 |\n",
       "| Cells_EBV_transformed_lymphocytes     | 130                                   |  3845                                 |\n",
       "| Cells_Transformed_fibroblasts         | 343                                   | 11091                                 |\n",
       "| Cervix_Ectocervix                     |   6                                   |    NA                                 |\n",
       "| Cervix_Endocervix                     |   5                                   |    NA                                 |\n",
       "| Colon_Sigmoid                         | 233                                   |  7159                                 |\n",
       "| Colon_Transverse                      | 274                                   |  8094                                 |\n",
       "| Esophagus_Gastroesophageal_Junction   | 244                                   |  7254                                 |\n",
       "| Esophagus_Mucosa                      | 407                                   | 11694                                 |\n",
       "| Esophagus_Muscularis                  | 370                                   | 11071                                 |\n",
       "| Fallopian_Tube                        |   7                                   |    NA                                 |\n",
       "| Heart_Atrial_Appendage                | 297                                   |  8096                                 |\n",
       "| Heart_Left_Ventricle                  | 303                                   |  7377                                 |\n",
       "| Kidney_Cortex                         |  45                                   |    NA                                 |\n",
       "| Liver                                 | 175                                   |  4005                                 |\n",
       "| Lung                                  | 427                                   | 11307                                 |\n",
       "| Minor_Salivary_Gland                  |  97                                   |  2150                                 |\n",
       "| Muscle_Skeletal                       | 564                                   | 10777                                 |\n",
       "| Nerve_Tibial                          | 414                                   | 13976                                 |\n",
       "| Ovary                                 | 133                                   |  3789                                 |\n",
       "| Pancreas                              | 248                                   |  7146                                 |\n",
       "| Pituitary                             | 183                                   |  6263                                 |\n",
       "| Prostate                              | 152                                   |  4243                                 |\n",
       "| Skin_Not_Sun_Exposed_Suprapubic       | 387                                   | 10857                                 |\n",
       "| Skin_Sun_Exposed_Lower_leg            | 473                                   | 13109                                 |\n",
       "| Small_Intestine_Terminal_Ileum        | 137                                   |  4763                                 |\n",
       "| Spleen                                | 162                                   |  6578                                 |\n",
       "| Stomach                               | 262                                   |  6384                                 |\n",
       "| Testis                                | 259                                   | 13759                                 |\n",
       "| Thyroid                               | 446                                   | 14313                                 |\n",
       "| Uterus                                | 111                                   |  2641                                 |\n",
       "| Vagina                                | 115                                   |  2527                                 |\n",
       "| Whole_Blood                           | 407                                   |  8663                                 |\n",
       "\n"
      ],
      "text/plain": [
       "   tissue                                n   fdr0.05\n",
       "1  Adipose_Subcutaneous                  442 11866  \n",
       "2  Adipose_Visceral_Omentum              355  8991  \n",
       "3  Adrenal_Gland                         190  6421  \n",
       "4  Artery_Aorta                          299  9205  \n",
       "5  Artery_Coronary                       173  4383  \n",
       "6  Artery_Tibial                         441 11947  \n",
       "7  Bladder                                11    NA  \n",
       "8  Brain_Amygdala                        100  2229  \n",
       "9  Brain_Anterior_cingulate_cortex_BA24  121  4103  \n",
       "10 Brain_Caudate_basal_ganglia           160  5700  \n",
       "11 Brain_Cerebellar_Hemisphere           136  6889  \n",
       "12 Brain_Cerebellum                      173  8429  \n",
       "13 Brain_Cortex                          158  6146  \n",
       "14 Brain_Frontal_Cortex_BA9              129  5086  \n",
       "15 Brain_Hippocampus                     123  3262  \n",
       "16 Brain_Hypothalamus                    121  3077  \n",
       "17 Brain_Nucleus_accumbens_basal_ganglia 147  5118  \n",
       "18 Brain_Putamen_basal_ganglia           124  4099  \n",
       "19 Brain_Spinal_cord_cervical_c_1         91  2644  \n",
       "20 Brain_Substantia_nigra                 88  1807  \n",
       "21 Breast_Mammary_Tissue                 290  6983  \n",
       "22 Cells_EBV_transformed_lymphocytes     130  3845  \n",
       "23 Cells_Transformed_fibroblasts         343 11091  \n",
       "24 Cervix_Ectocervix                       6    NA  \n",
       "25 Cervix_Endocervix                       5    NA  \n",
       "26 Colon_Sigmoid                         233  7159  \n",
       "27 Colon_Transverse                      274  8094  \n",
       "28 Esophagus_Gastroesophageal_Junction   244  7254  \n",
       "29 Esophagus_Mucosa                      407 11694  \n",
       "30 Esophagus_Muscularis                  370 11071  \n",
       "31 Fallopian_Tube                          7    NA  \n",
       "32 Heart_Atrial_Appendage                297  8096  \n",
       "33 Heart_Left_Ventricle                  303  7377  \n",
       "34 Kidney_Cortex                          45    NA  \n",
       "35 Liver                                 175  4005  \n",
       "36 Lung                                  427 11307  \n",
       "37 Minor_Salivary_Gland                   97  2150  \n",
       "38 Muscle_Skeletal                       564 10777  \n",
       "39 Nerve_Tibial                          414 13976  \n",
       "40 Ovary                                 133  3789  \n",
       "41 Pancreas                              248  7146  \n",
       "42 Pituitary                             183  6263  \n",
       "43 Prostate                              152  4243  \n",
       "44 Skin_Not_Sun_Exposed_Suprapubic       387 10857  \n",
       "45 Skin_Sun_Exposed_Lower_leg            473 13109  \n",
       "46 Small_Intestine_Terminal_Ileum        137  4763  \n",
       "47 Spleen                                162  6578  \n",
       "48 Stomach                               262  6384  \n",
       "49 Testis                                259 13759  \n",
       "50 Thyroid                               446 14313  \n",
       "51 Uterus                                111  2641  \n",
       "52 Vagina                                115  2527  \n",
       "53 Whole_Blood                           407  8663  "
      ]
     },
     "metadata": {},
     "output_type": "display_data"
    }
   ],
   "source": [
    "for (i in 1:length(egene_files)){\n",
    "    file_name = egene_files[i]\n",
    "    tissue = gsub(\".v7.egenes.txt\",\"\",file_name)\n",
    "    tissue = gsub(\"-\",\"_\",tissue)\n",
    "    file = read.csv(paste0(dir,file_name), sep = \"\\t\")\n",
    "#     print(head(file))\n",
    "#     print(nrow(file[file$qval < 0.01,]))\n",
    "#     df[df$tissue == tissue,\"fdr0.01\"] = nrow(file[file$qval < 0.01,])\n",
    "    df[df$tissue == tissue,\"fdr0.05\"] = nrow(file[file$qval < 0.05,])\n",
    "#     df[df$tissue == tissue,\"fdr0.1\"] = nrow(file[file$qval < 0.1,])\n",
    "}\n",
    "df"
   ]
  },
  {
   "cell_type": "code",
   "execution_count": 7,
   "metadata": {},
   "outputs": [
    {
     "data": {
      "text/html": [
       "<table>\n",
       "<thead><tr><th scope=col>tissue</th><th scope=col>n</th><th scope=col>fdr0.05</th></tr></thead>\n",
       "<tbody>\n",
       "\t<tr><td>Adipose_Subcutaneous    </td><td>442                     </td><td>11866                   </td></tr>\n",
       "\t<tr><td>Adipose_Visceral_Omentum</td><td>355                     </td><td> 8991                   </td></tr>\n",
       "\t<tr><td>Adrenal_Gland           </td><td>190                     </td><td> 6421                   </td></tr>\n",
       "\t<tr><td>Artery_Aorta            </td><td>299                     </td><td> 9205                   </td></tr>\n",
       "\t<tr><td>Artery_Coronary         </td><td>173                     </td><td> 4383                   </td></tr>\n",
       "\t<tr><td>Artery_Tibial           </td><td>441                     </td><td>11947                   </td></tr>\n",
       "</tbody>\n",
       "</table>\n"
      ],
      "text/latex": [
       "\\begin{tabular}{r|lll}\n",
       " tissue & n & fdr0.05\\\\\n",
       "\\hline\n",
       "\t Adipose\\_Subcutaneous     & 442                        & 11866                     \\\\\n",
       "\t Adipose\\_Visceral\\_Omentum & 355                          &  8991                       \\\\\n",
       "\t Adrenal\\_Gland            & 190                        &  6421                     \\\\\n",
       "\t Artery\\_Aorta             & 299                        &  9205                     \\\\\n",
       "\t Artery\\_Coronary          & 173                        &  4383                     \\\\\n",
       "\t Artery\\_Tibial            & 441                        & 11947                     \\\\\n",
       "\\end{tabular}\n"
      ],
      "text/markdown": [
       "\n",
       "| tissue | n | fdr0.05 |\n",
       "|---|---|---|\n",
       "| Adipose_Subcutaneous     | 442                      | 11866                    |\n",
       "| Adipose_Visceral_Omentum | 355                      |  8991                    |\n",
       "| Adrenal_Gland            | 190                      |  6421                    |\n",
       "| Artery_Aorta             | 299                      |  9205                    |\n",
       "| Artery_Coronary          | 173                      |  4383                    |\n",
       "| Artery_Tibial            | 441                      | 11947                    |\n",
       "\n"
      ],
      "text/plain": [
       "  tissue                   n   fdr0.05\n",
       "1 Adipose_Subcutaneous     442 11866  \n",
       "2 Adipose_Visceral_Omentum 355  8991  \n",
       "3 Adrenal_Gland            190  6421  \n",
       "4 Artery_Aorta             299  9205  \n",
       "5 Artery_Coronary          173  4383  \n",
       "6 Artery_Tibial            441 11947  "
      ]
     },
     "metadata": {},
     "output_type": "display_data"
    }
   ],
   "source": [
    "df$fdr0.01 <- c()\n",
    "df$fdr0.1 <- c()\n",
    "head(df)"
   ]
  },
  {
   "cell_type": "code",
   "execution_count": 8,
   "metadata": {},
   "outputs": [
    {
     "data": {
      "text/html": [
       "13"
      ],
      "text/latex": [
       "13"
      ],
      "text/markdown": [
       "13"
      ],
      "text/plain": [
       "[1] 13"
      ]
     },
     "metadata": {},
     "output_type": "display_data"
    },
    {
     "data": {
      "text/html": [
       "53"
      ],
      "text/latex": [
       "53"
      ],
      "text/markdown": [
       "53"
      ],
      "text/plain": [
       "[1] 53"
      ]
     },
     "metadata": {},
     "output_type": "display_data"
    },
    {
     "data": {
      "text/html": [
       "<table>\n",
       "<thead><tr><th scope=col>tissue</th><th scope=col>n</th><th scope=col>fdr0.05</th></tr></thead>\n",
       "<tbody>\n",
       "\t<tr><td>Adipose_Subcutaneous                 </td><td>442                                  </td><td>11866                                </td></tr>\n",
       "\t<tr><td>Adipose_Visceral_Omentum             </td><td>355                                  </td><td> 8991                                </td></tr>\n",
       "\t<tr><td>Adrenal_Gland                        </td><td>190                                  </td><td> 6421                                </td></tr>\n",
       "\t<tr><td>Artery_Aorta                         </td><td>299                                  </td><td> 9205                                </td></tr>\n",
       "\t<tr><td>Artery_Coronary                      </td><td>173                                  </td><td> 4383                                </td></tr>\n",
       "\t<tr><td>Artery_Tibial                        </td><td>441                                  </td><td>11947                                </td></tr>\n",
       "\t<tr><td>Bladder                              </td><td> 11                                  </td><td>   NA                                </td></tr>\n",
       "\t<tr><td>Brain_Amygdala                       </td><td>100                                  </td><td> 2229                                </td></tr>\n",
       "\t<tr><td>Brain_Anterior_cingulate_cortex_BA24 </td><td>121                                  </td><td> 4103                                </td></tr>\n",
       "\t<tr><td>Brain_Caudate_basal_ganglia          </td><td>160                                  </td><td> 5700                                </td></tr>\n",
       "\t<tr><td>Brain_Cerebellar_Hemisphere          </td><td>136                                  </td><td> 6889                                </td></tr>\n",
       "\t<tr><td>Brain_Cerebellum                     </td><td>173                                  </td><td> 8429                                </td></tr>\n",
       "\t<tr><td>Brain_Cortex                         </td><td>158                                  </td><td> 6146                                </td></tr>\n",
       "\t<tr><td>Brain_Frontal_Cortex_BA9             </td><td>129                                  </td><td> 5086                                </td></tr>\n",
       "\t<tr><td>Brain_Hippocampus                    </td><td>123                                  </td><td> 3262                                </td></tr>\n",
       "\t<tr><td>Brain_Hypothalamus                   </td><td>121                                  </td><td> 3077                                </td></tr>\n",
       "\t<tr><td>Brain_Nucleus_accumbens_basal_ganglia</td><td>147                                  </td><td> 5118                                </td></tr>\n",
       "\t<tr><td>Brain_Putamen_basal_ganglia          </td><td>124                                  </td><td> 4099                                </td></tr>\n",
       "\t<tr><td>Brain_Spinal_cord_cervical_c_1       </td><td> 91                                  </td><td> 2644                                </td></tr>\n",
       "\t<tr><td>Brain_Substantia_nigra               </td><td> 88                                  </td><td> 1807                                </td></tr>\n",
       "\t<tr><td>Breast_Mammary_Tissue                </td><td>290                                  </td><td> 6983                                </td></tr>\n",
       "\t<tr><td>Cells_EBV_transformed_lymphocytes    </td><td>130                                  </td><td> 3845                                </td></tr>\n",
       "\t<tr><td>Cells_Transformed_fibroblasts        </td><td>343                                  </td><td>11091                                </td></tr>\n",
       "\t<tr><td>Cervix_Ectocervix                    </td><td>  6                                  </td><td>   NA                                </td></tr>\n",
       "\t<tr><td>Cervix_Endocervix                    </td><td>  5                                  </td><td>   NA                                </td></tr>\n",
       "\t<tr><td>Colon_Sigmoid                        </td><td>233                                  </td><td> 7159                                </td></tr>\n",
       "\t<tr><td>Colon_Transverse                     </td><td>274                                  </td><td> 8094                                </td></tr>\n",
       "\t<tr><td>Esophagus_Gastroesophageal_Junction  </td><td>244                                  </td><td> 7254                                </td></tr>\n",
       "\t<tr><td>Esophagus_Mucosa                     </td><td>407                                  </td><td>11694                                </td></tr>\n",
       "\t<tr><td>Esophagus_Muscularis                 </td><td>370                                  </td><td>11071                                </td></tr>\n",
       "\t<tr><td>Fallopian_Tube                       </td><td>  7                                  </td><td>   NA                                </td></tr>\n",
       "\t<tr><td>Heart_Atrial_Appendage               </td><td>297                                  </td><td> 8096                                </td></tr>\n",
       "\t<tr><td>Heart_Left_Ventricle                 </td><td>303                                  </td><td> 7377                                </td></tr>\n",
       "\t<tr><td>Kidney_Cortex                        </td><td> 45                                  </td><td>   NA                                </td></tr>\n",
       "\t<tr><td>Liver                                </td><td>175                                  </td><td> 4005                                </td></tr>\n",
       "\t<tr><td>Lung                                 </td><td>427                                  </td><td>11307                                </td></tr>\n",
       "\t<tr><td>Minor_Salivary_Gland                 </td><td> 97                                  </td><td> 2150                                </td></tr>\n",
       "\t<tr><td>Muscle_Skeletal                      </td><td>564                                  </td><td>10777                                </td></tr>\n",
       "\t<tr><td>Nerve_Tibial                         </td><td>414                                  </td><td>13976                                </td></tr>\n",
       "\t<tr><td>Ovary                                </td><td>133                                  </td><td> 3789                                </td></tr>\n",
       "\t<tr><td>Pancreas                             </td><td>248                                  </td><td> 7146                                </td></tr>\n",
       "\t<tr><td>Pituitary                            </td><td>183                                  </td><td> 6263                                </td></tr>\n",
       "\t<tr><td>Prostate                             </td><td>152                                  </td><td> 4243                                </td></tr>\n",
       "\t<tr><td>Skin_Not_Sun_Exposed_Suprapubic      </td><td>387                                  </td><td>10857                                </td></tr>\n",
       "\t<tr><td>Skin_Sun_Exposed_Lower_leg           </td><td>473                                  </td><td>13109                                </td></tr>\n",
       "\t<tr><td>Small_Intestine_Terminal_Ileum       </td><td>137                                  </td><td> 4763                                </td></tr>\n",
       "\t<tr><td>Spleen                               </td><td>162                                  </td><td> 6578                                </td></tr>\n",
       "\t<tr><td>Stomach                              </td><td>262                                  </td><td> 6384                                </td></tr>\n",
       "\t<tr><td>Testis                               </td><td>259                                  </td><td>13759                                </td></tr>\n",
       "\t<tr><td>Thyroid                              </td><td>446                                  </td><td>14313                                </td></tr>\n",
       "\t<tr><td>Uterus                               </td><td>111                                  </td><td> 2641                                </td></tr>\n",
       "\t<tr><td>Vagina                               </td><td>115                                  </td><td> 2527                                </td></tr>\n",
       "\t<tr><td>Whole_Blood                          </td><td>407                                  </td><td> 8663                                </td></tr>\n",
       "</tbody>\n",
       "</table>\n"
      ],
      "text/latex": [
       "\\begin{tabular}{r|lll}\n",
       " tissue & n & fdr0.05\\\\\n",
       "\\hline\n",
       "\t Adipose\\_Subcutaneous                  & 442                                     & 11866                                  \\\\\n",
       "\t Adipose\\_Visceral\\_Omentum              & 355                                       &  8991                                    \\\\\n",
       "\t Adrenal\\_Gland                         & 190                                     &  6421                                  \\\\\n",
       "\t Artery\\_Aorta                          & 299                                     &  9205                                  \\\\\n",
       "\t Artery\\_Coronary                       & 173                                     &  4383                                  \\\\\n",
       "\t Artery\\_Tibial                         & 441                                     & 11947                                  \\\\\n",
       "\t Bladder                               &  11                                   &    NA                                \\\\\n",
       "\t Brain\\_Amygdala                        & 100                                     &  2229                                  \\\\\n",
       "\t Brain\\_Anterior\\_cingulate\\_cortex\\_BA24  & 121                                           &  4103                                        \\\\\n",
       "\t Brain\\_Caudate\\_basal\\_ganglia           & 160                                         &  5700                                      \\\\\n",
       "\t Brain\\_Cerebellar\\_Hemisphere           & 136                                       &  6889                                    \\\\\n",
       "\t Brain\\_Cerebellum                      & 173                                     &  8429                                  \\\\\n",
       "\t Brain\\_Cortex                          & 158                                     &  6146                                  \\\\\n",
       "\t Brain\\_Frontal\\_Cortex\\_BA9              & 129                                         &  5086                                      \\\\\n",
       "\t Brain\\_Hippocampus                     & 123                                     &  3262                                  \\\\\n",
       "\t Brain\\_Hypothalamus                    & 121                                     &  3077                                  \\\\\n",
       "\t Brain\\_Nucleus\\_accumbens\\_basal\\_ganglia & 147                                           &  5118                                        \\\\\n",
       "\t Brain\\_Putamen\\_basal\\_ganglia           & 124                                         &  4099                                      \\\\\n",
       "\t Brain\\_Spinal\\_cord\\_cervical\\_c\\_1        &  91                                             &  2644                                          \\\\\n",
       "\t Brain\\_Substantia\\_nigra                &  88                                       &  1807                                    \\\\\n",
       "\t Breast\\_Mammary\\_Tissue                 & 290                                       &  6983                                    \\\\\n",
       "\t Cells\\_EBV\\_transformed\\_lymphocytes     & 130                                         &  3845                                      \\\\\n",
       "\t Cells\\_Transformed\\_fibroblasts         & 343                                       & 11091                                    \\\\\n",
       "\t Cervix\\_Ectocervix                     &   6                                     &    NA                                  \\\\\n",
       "\t Cervix\\_Endocervix                     &   5                                     &    NA                                  \\\\\n",
       "\t Colon\\_Sigmoid                         & 233                                     &  7159                                  \\\\\n",
       "\t Colon\\_Transverse                      & 274                                     &  8094                                  \\\\\n",
       "\t Esophagus\\_Gastroesophageal\\_Junction   & 244                                       &  7254                                    \\\\\n",
       "\t Esophagus\\_Mucosa                      & 407                                     & 11694                                  \\\\\n",
       "\t Esophagus\\_Muscularis                  & 370                                     & 11071                                  \\\\\n",
       "\t Fallopian\\_Tube                        &   7                                     &    NA                                  \\\\\n",
       "\t Heart\\_Atrial\\_Appendage                & 297                                       &  8096                                    \\\\\n",
       "\t Heart\\_Left\\_Ventricle                  & 303                                       &  7377                                    \\\\\n",
       "\t Kidney\\_Cortex                         &  45                                     &    NA                                  \\\\\n",
       "\t Liver                                 & 175                                   &  4005                                \\\\\n",
       "\t Lung                                  & 427                                   & 11307                                \\\\\n",
       "\t Minor\\_Salivary\\_Gland                  &  97                                       &  2150                                    \\\\\n",
       "\t Muscle\\_Skeletal                       & 564                                     & 10777                                  \\\\\n",
       "\t Nerve\\_Tibial                          & 414                                     & 13976                                  \\\\\n",
       "\t Ovary                                 & 133                                   &  3789                                \\\\\n",
       "\t Pancreas                              & 248                                   &  7146                                \\\\\n",
       "\t Pituitary                             & 183                                   &  6263                                \\\\\n",
       "\t Prostate                              & 152                                   &  4243                                \\\\\n",
       "\t Skin\\_Not\\_Sun\\_Exposed\\_Suprapubic       & 387                                           & 10857                                        \\\\\n",
       "\t Skin\\_Sun\\_Exposed\\_Lower\\_leg            & 473                                           & 13109                                        \\\\\n",
       "\t Small\\_Intestine\\_Terminal\\_Ileum        & 137                                         &  4763                                      \\\\\n",
       "\t Spleen                                & 162                                   &  6578                                \\\\\n",
       "\t Stomach                               & 262                                   &  6384                                \\\\\n",
       "\t Testis                                & 259                                   & 13759                                \\\\\n",
       "\t Thyroid                               & 446                                   & 14313                                \\\\\n",
       "\t Uterus                                & 111                                   &  2641                                \\\\\n",
       "\t Vagina                                & 115                                   &  2527                                \\\\\n",
       "\t Whole\\_Blood                           & 407                                     &  8663                                  \\\\\n",
       "\\end{tabular}\n"
      ],
      "text/markdown": [
       "\n",
       "| tissue | n | fdr0.05 |\n",
       "|---|---|---|\n",
       "| Adipose_Subcutaneous                  | 442                                   | 11866                                 |\n",
       "| Adipose_Visceral_Omentum              | 355                                   |  8991                                 |\n",
       "| Adrenal_Gland                         | 190                                   |  6421                                 |\n",
       "| Artery_Aorta                          | 299                                   |  9205                                 |\n",
       "| Artery_Coronary                       | 173                                   |  4383                                 |\n",
       "| Artery_Tibial                         | 441                                   | 11947                                 |\n",
       "| Bladder                               |  11                                   |    NA                                 |\n",
       "| Brain_Amygdala                        | 100                                   |  2229                                 |\n",
       "| Brain_Anterior_cingulate_cortex_BA24  | 121                                   |  4103                                 |\n",
       "| Brain_Caudate_basal_ganglia           | 160                                   |  5700                                 |\n",
       "| Brain_Cerebellar_Hemisphere           | 136                                   |  6889                                 |\n",
       "| Brain_Cerebellum                      | 173                                   |  8429                                 |\n",
       "| Brain_Cortex                          | 158                                   |  6146                                 |\n",
       "| Brain_Frontal_Cortex_BA9              | 129                                   |  5086                                 |\n",
       "| Brain_Hippocampus                     | 123                                   |  3262                                 |\n",
       "| Brain_Hypothalamus                    | 121                                   |  3077                                 |\n",
       "| Brain_Nucleus_accumbens_basal_ganglia | 147                                   |  5118                                 |\n",
       "| Brain_Putamen_basal_ganglia           | 124                                   |  4099                                 |\n",
       "| Brain_Spinal_cord_cervical_c_1        |  91                                   |  2644                                 |\n",
       "| Brain_Substantia_nigra                |  88                                   |  1807                                 |\n",
       "| Breast_Mammary_Tissue                 | 290                                   |  6983                                 |\n",
       "| Cells_EBV_transformed_lymphocytes     | 130                                   |  3845                                 |\n",
       "| Cells_Transformed_fibroblasts         | 343                                   | 11091                                 |\n",
       "| Cervix_Ectocervix                     |   6                                   |    NA                                 |\n",
       "| Cervix_Endocervix                     |   5                                   |    NA                                 |\n",
       "| Colon_Sigmoid                         | 233                                   |  7159                                 |\n",
       "| Colon_Transverse                      | 274                                   |  8094                                 |\n",
       "| Esophagus_Gastroesophageal_Junction   | 244                                   |  7254                                 |\n",
       "| Esophagus_Mucosa                      | 407                                   | 11694                                 |\n",
       "| Esophagus_Muscularis                  | 370                                   | 11071                                 |\n",
       "| Fallopian_Tube                        |   7                                   |    NA                                 |\n",
       "| Heart_Atrial_Appendage                | 297                                   |  8096                                 |\n",
       "| Heart_Left_Ventricle                  | 303                                   |  7377                                 |\n",
       "| Kidney_Cortex                         |  45                                   |    NA                                 |\n",
       "| Liver                                 | 175                                   |  4005                                 |\n",
       "| Lung                                  | 427                                   | 11307                                 |\n",
       "| Minor_Salivary_Gland                  |  97                                   |  2150                                 |\n",
       "| Muscle_Skeletal                       | 564                                   | 10777                                 |\n",
       "| Nerve_Tibial                          | 414                                   | 13976                                 |\n",
       "| Ovary                                 | 133                                   |  3789                                 |\n",
       "| Pancreas                              | 248                                   |  7146                                 |\n",
       "| Pituitary                             | 183                                   |  6263                                 |\n",
       "| Prostate                              | 152                                   |  4243                                 |\n",
       "| Skin_Not_Sun_Exposed_Suprapubic       | 387                                   | 10857                                 |\n",
       "| Skin_Sun_Exposed_Lower_leg            | 473                                   | 13109                                 |\n",
       "| Small_Intestine_Terminal_Ileum        | 137                                   |  4763                                 |\n",
       "| Spleen                                | 162                                   |  6578                                 |\n",
       "| Stomach                               | 262                                   |  6384                                 |\n",
       "| Testis                                | 259                                   | 13759                                 |\n",
       "| Thyroid                               | 446                                   | 14313                                 |\n",
       "| Uterus                                | 111                                   |  2641                                 |\n",
       "| Vagina                                | 115                                   |  2527                                 |\n",
       "| Whole_Blood                           | 407                                   |  8663                                 |\n",
       "\n"
      ],
      "text/plain": [
       "   tissue                                n   fdr0.05\n",
       "1  Adipose_Subcutaneous                  442 11866  \n",
       "2  Adipose_Visceral_Omentum              355  8991  \n",
       "3  Adrenal_Gland                         190  6421  \n",
       "4  Artery_Aorta                          299  9205  \n",
       "5  Artery_Coronary                       173  4383  \n",
       "6  Artery_Tibial                         441 11947  \n",
       "7  Bladder                                11    NA  \n",
       "8  Brain_Amygdala                        100  2229  \n",
       "9  Brain_Anterior_cingulate_cortex_BA24  121  4103  \n",
       "10 Brain_Caudate_basal_ganglia           160  5700  \n",
       "11 Brain_Cerebellar_Hemisphere           136  6889  \n",
       "12 Brain_Cerebellum                      173  8429  \n",
       "13 Brain_Cortex                          158  6146  \n",
       "14 Brain_Frontal_Cortex_BA9              129  5086  \n",
       "15 Brain_Hippocampus                     123  3262  \n",
       "16 Brain_Hypothalamus                    121  3077  \n",
       "17 Brain_Nucleus_accumbens_basal_ganglia 147  5118  \n",
       "18 Brain_Putamen_basal_ganglia           124  4099  \n",
       "19 Brain_Spinal_cord_cervical_c_1         91  2644  \n",
       "20 Brain_Substantia_nigra                 88  1807  \n",
       "21 Breast_Mammary_Tissue                 290  6983  \n",
       "22 Cells_EBV_transformed_lymphocytes     130  3845  \n",
       "23 Cells_Transformed_fibroblasts         343 11091  \n",
       "24 Cervix_Ectocervix                       6    NA  \n",
       "25 Cervix_Endocervix                       5    NA  \n",
       "26 Colon_Sigmoid                         233  7159  \n",
       "27 Colon_Transverse                      274  8094  \n",
       "28 Esophagus_Gastroesophageal_Junction   244  7254  \n",
       "29 Esophagus_Mucosa                      407 11694  \n",
       "30 Esophagus_Muscularis                  370 11071  \n",
       "31 Fallopian_Tube                          7    NA  \n",
       "32 Heart_Atrial_Appendage                297  8096  \n",
       "33 Heart_Left_Ventricle                  303  7377  \n",
       "34 Kidney_Cortex                          45    NA  \n",
       "35 Liver                                 175  4005  \n",
       "36 Lung                                  427 11307  \n",
       "37 Minor_Salivary_Gland                   97  2150  \n",
       "38 Muscle_Skeletal                       564 10777  \n",
       "39 Nerve_Tibial                          414 13976  \n",
       "40 Ovary                                 133  3789  \n",
       "41 Pancreas                              248  7146  \n",
       "42 Pituitary                             183  6263  \n",
       "43 Prostate                              152  4243  \n",
       "44 Skin_Not_Sun_Exposed_Suprapubic       387 10857  \n",
       "45 Skin_Sun_Exposed_Lower_leg            473 13109  \n",
       "46 Small_Intestine_Terminal_Ileum        137  4763  \n",
       "47 Spleen                                162  6578  \n",
       "48 Stomach                               262  6384  \n",
       "49 Testis                                259 13759  \n",
       "50 Thyroid                               446 14313  \n",
       "51 Uterus                                111  2641  \n",
       "52 Vagina                                115  2527  \n",
       "53 Whole_Blood                           407  8663  "
      ]
     },
     "metadata": {},
     "output_type": "display_data"
    }
   ],
   "source": [
    "length(df$tissue[grep(\"Brain\",df$tissue)])\n",
    "length(df$tissue)\n",
    "df"
   ]
  },
  {
   "cell_type": "code",
   "execution_count": 9,
   "metadata": {},
   "outputs": [],
   "source": [
    "# data_folder = \"/nfs/leia/research/stegle/dseaton/hipsci/singlecell_neuroseq/data/analysis_results/20200103_data_freeze/\"\n",
    "# leads_filename = paste0(data_folder,\"eqtl/pool1_17.eqtl_discovery_all_leads.fdr0.1.tsv\")\n",
    "# leads = read.csv(leads_filename, header = T, sep = \"\\t\")\n",
    "# head(leads,2)"
   ]
  },
  {
   "cell_type": "code",
   "execution_count": 10,
   "metadata": {},
   "outputs": [
    {
     "data": {
      "text/html": [
       "<table>\n",
       "<thead><tr><th scope=col>X</th><th scope=col>snp_id</th><th scope=col>p_value</th><th scope=col>beta</th><th scope=col>beta_se</th><th scope=col>empirical_feature_p_value</th><th scope=col>feature_chromosome</th><th scope=col>feature_start</th><th scope=col>feature_end</th><th scope=col>n_samples</th><th scope=col>...</th><th scope=col>snp_chromosome</th><th scope=col>snp_position</th><th scope=col>assessed_allele</th><th scope=col>call_rate</th><th scope=col>maf</th><th scope=col>hwe_p</th><th scope=col>feature_id</th><th scope=col>BH_fdr</th><th scope=col>q_value</th><th scope=col>label</th></tr></thead>\n",
       "<tbody>\n",
       "\t<tr><td>2               </td><td>11_107726716_A_C</td><td>4.544994e-05    </td><td> 0.09036565     </td><td>0.02216001      </td><td>0.0001665921    </td><td>11              </td><td>107661717       </td><td>107799019       </td><td>173             </td><td>...             </td><td>11              </td><td>107726716       </td><td>C               </td><td>1               </td><td>0.4306358       </td><td>0.5386349       </td><td>ENSG00000110660 </td><td>0.001808781     </td><td>0.00075681      </td><td>FPP_D11         </td></tr>\n",
       "\t<tr><td>7               </td><td>11_106001229_C_A</td><td>5.034677e-05    </td><td>-0.24701335     </td><td>0.06093060      </td><td>0.0258019418    </td><td>11              </td><td>105946228       </td><td>105969437       </td><td>173             </td><td>...             </td><td>11              </td><td>106001229       </td><td>A               </td><td>1               </td><td>0.1213873       </td><td>0.4744572       </td><td>ENSG00000149313 </td><td>0.116865230     </td><td>0.04889743      </td><td>FPP_D11         </td></tr>\n",
       "</tbody>\n",
       "</table>\n"
      ],
      "text/latex": [
       "\\begin{tabular}{r|lllllllllllllllllllllll}\n",
       " X & snp\\_id & p\\_value & beta & beta\\_se & empirical\\_feature\\_p\\_value & feature\\_chromosome & feature\\_start & feature\\_end & n\\_samples & ... & snp\\_chromosome & snp\\_position & assessed\\_allele & call\\_rate & maf & hwe\\_p & feature\\_id & BH\\_fdr & q\\_value & label\\\\\n",
       "\\hline\n",
       "\t 2                      & 11\\_107726716\\_A\\_C & 4.544994e-05           &  0.09036565            & 0.02216001             & 0.0001665921           & 11                     & 107661717              & 107799019              & 173                    & ...                    & 11                     & 107726716              & C                      & 1                      & 0.4306358              & 0.5386349              & ENSG00000110660        & 0.001808781            & 0.00075681             & FPP\\_D11             \\\\\n",
       "\t 7                      & 11\\_106001229\\_C\\_A & 5.034677e-05           & -0.24701335            & 0.06093060             & 0.0258019418           & 11                     & 105946228              & 105969437              & 173                    & ...                    & 11                     & 106001229              & A                      & 1                      & 0.1213873              & 0.4744572              & ENSG00000149313        & 0.116865230            & 0.04889743             & FPP\\_D11             \\\\\n",
       "\\end{tabular}\n"
      ],
      "text/markdown": [
       "\n",
       "| X | snp_id | p_value | beta | beta_se | empirical_feature_p_value | feature_chromosome | feature_start | feature_end | n_samples | ... | snp_chromosome | snp_position | assessed_allele | call_rate | maf | hwe_p | feature_id | BH_fdr | q_value | label |\n",
       "|---|---|---|---|---|---|---|---|---|---|---|---|---|---|---|---|---|---|---|---|---|\n",
       "| 2                | 11_107726716_A_C | 4.544994e-05     |  0.09036565      | 0.02216001       | 0.0001665921     | 11               | 107661717        | 107799019        | 173              | ...              | 11               | 107726716        | C                | 1                | 0.4306358        | 0.5386349        | ENSG00000110660  | 0.001808781      | 0.00075681       | FPP_D11          |\n",
       "| 7                | 11_106001229_C_A | 5.034677e-05     | -0.24701335      | 0.06093060       | 0.0258019418     | 11               | 105946228        | 105969437        | 173              | ...              | 11               | 106001229        | A                | 1                | 0.1213873        | 0.4744572        | ENSG00000149313  | 0.116865230      | 0.04889743       | FPP_D11          |\n",
       "\n"
      ],
      "text/plain": [
       "  X snp_id           p_value      beta        beta_se   \n",
       "1 2 11_107726716_A_C 4.544994e-05  0.09036565 0.02216001\n",
       "2 7 11_106001229_C_A 5.034677e-05 -0.24701335 0.06093060\n",
       "  empirical_feature_p_value feature_chromosome feature_start feature_end\n",
       "1 0.0001665921              11                 107661717     107799019  \n",
       "2 0.0258019418              11                 105946228     105969437  \n",
       "  n_samples ... snp_chromosome snp_position assessed_allele call_rate maf      \n",
       "1 173       ... 11             107726716    C               1         0.4306358\n",
       "2 173       ... 11             106001229    A               1         0.1213873\n",
       "  hwe_p     feature_id      BH_fdr      q_value    label  \n",
       "1 0.5386349 ENSG00000110660 0.001808781 0.00075681 FPP_D11\n",
       "2 0.4744572 ENSG00000149313 0.116865230 0.04889743 FPP_D11"
      ]
     },
     "metadata": {},
     "output_type": "display_data"
    }
   ],
   "source": [
    "leads = read.csv(\"/hps/nobackup/stegle/users/acuomo/all_scripts/sc_neuroseq/eqtl/all_leads_5pct_FDR_Storey.csv\")\n",
    "head(leads,2)"
   ]
  },
  {
   "cell_type": "code",
   "execution_count": 11,
   "metadata": {},
   "outputs": [
    {
     "data": {
      "text/html": [
       "<table>\n",
       "<thead><tr><th scope=col>tissue</th><th scope=col>n</th><th scope=col>fdr0.05</th></tr></thead>\n",
       "<tbody>\n",
       "\t<tr><td>FPP_D11      </td><td>173          </td><td>2560         </td></tr>\n",
       "\t<tr><td>P_FPP_D11    </td><td>172          </td><td>2457         </td></tr>\n",
       "\t<tr><td>FPP_D30      </td><td>152          </td><td> 881         </td></tr>\n",
       "\t<tr><td>DA_D30       </td><td>165          </td><td> 872         </td></tr>\n",
       "\t<tr><td>Sert_D30     </td><td>151          </td><td> 776         </td></tr>\n",
       "\t<tr><td>Epen1_D30    </td><td>133          </td><td>1011         </td></tr>\n",
       "\t<tr><td>DA_D52       </td><td>175          </td><td>1024         </td></tr>\n",
       "\t<tr><td>Sert_D52     </td><td>161          </td><td>1436         </td></tr>\n",
       "\t<tr><td>Epen1_D52    </td><td>169          </td><td>1391         </td></tr>\n",
       "\t<tr><td>Astro_D52    </td><td>120          </td><td> 257         </td></tr>\n",
       "\t<tr><td>DA_D52_ROT   </td><td>157          </td><td> 458         </td></tr>\n",
       "\t<tr><td>Sert_D52_ROT </td><td>154          </td><td>1043         </td></tr>\n",
       "\t<tr><td>Epen1_D52_ROT</td><td>165          </td><td>1122         </td></tr>\n",
       "\t<tr><td>Astro_D52_ROT</td><td>109          </td><td> 205         </td></tr>\n",
       "</tbody>\n",
       "</table>\n"
      ],
      "text/latex": [
       "\\begin{tabular}{r|lll}\n",
       " tissue & n & fdr0.05\\\\\n",
       "\\hline\n",
       "\t FPP\\_D11       & 173             & 2560           \\\\\n",
       "\t P\\_FPP\\_D11     & 172               & 2457             \\\\\n",
       "\t FPP\\_D30       & 152             &  881           \\\\\n",
       "\t DA\\_D30        & 165             &  872           \\\\\n",
       "\t Sert\\_D30      & 151             &  776           \\\\\n",
       "\t Epen1\\_D30     & 133             & 1011           \\\\\n",
       "\t DA\\_D52        & 175             & 1024           \\\\\n",
       "\t Sert\\_D52      & 161             & 1436           \\\\\n",
       "\t Epen1\\_D52     & 169             & 1391           \\\\\n",
       "\t Astro\\_D52     & 120             &  257           \\\\\n",
       "\t DA\\_D52\\_ROT    & 157               &  458             \\\\\n",
       "\t Sert\\_D52\\_ROT  & 154               & 1043             \\\\\n",
       "\t Epen1\\_D52\\_ROT & 165               & 1122             \\\\\n",
       "\t Astro\\_D52\\_ROT & 109               &  205             \\\\\n",
       "\\end{tabular}\n"
      ],
      "text/markdown": [
       "\n",
       "| tissue | n | fdr0.05 |\n",
       "|---|---|---|\n",
       "| FPP_D11       | 173           | 2560          |\n",
       "| P_FPP_D11     | 172           | 2457          |\n",
       "| FPP_D30       | 152           |  881          |\n",
       "| DA_D30        | 165           |  872          |\n",
       "| Sert_D30      | 151           |  776          |\n",
       "| Epen1_D30     | 133           | 1011          |\n",
       "| DA_D52        | 175           | 1024          |\n",
       "| Sert_D52      | 161           | 1436          |\n",
       "| Epen1_D52     | 169           | 1391          |\n",
       "| Astro_D52     | 120           |  257          |\n",
       "| DA_D52_ROT    | 157           |  458          |\n",
       "| Sert_D52_ROT  | 154           | 1043          |\n",
       "| Epen1_D52_ROT | 165           | 1122          |\n",
       "| Astro_D52_ROT | 109           |  205          |\n",
       "\n"
      ],
      "text/plain": [
       "   tissue        n   fdr0.05\n",
       "1  FPP_D11       173 2560   \n",
       "2  P_FPP_D11     172 2457   \n",
       "3  FPP_D30       152  881   \n",
       "4  DA_D30        165  872   \n",
       "5  Sert_D30      151  776   \n",
       "6  Epen1_D30     133 1011   \n",
       "7  DA_D52        175 1024   \n",
       "8  Sert_D52      161 1436   \n",
       "9  Epen1_D52     169 1391   \n",
       "10 Astro_D52     120  257   \n",
       "11 DA_D52_ROT    157  458   \n",
       "12 Sert_D52_ROT  154 1043   \n",
       "13 Epen1_D52_ROT 165 1122   \n",
       "14 Astro_D52_ROT 109  205   "
      ]
     },
     "metadata": {},
     "output_type": "display_data"
    }
   ],
   "source": [
    "df0 = data.frame()\n",
    "for (i in 1:length(unique(leads$label))){\n",
    "    celltype = unique(leads$label)[i]\n",
    "    l = leads[leads$label == celltype,]\n",
    "    df_tmp = data.frame(tissue = celltype, n = l$n_samples[1],\n",
    "#                 fdr0.1 = length(unique(l$feature_id)),\n",
    "                fdr0.05 = length(unique(l[l$q_value < 0.05,]$feature_id)))#,\n",
    "#                 fdr0.01 = length(unique(l[l$global_corr_p_value < 0.01,]$feature_id)))\n",
    "    df0 = rbind(df0,df_tmp)\n",
    "}\n",
    "df0"
   ]
  },
  {
   "cell_type": "code",
   "execution_count": 12,
   "metadata": {},
   "outputs": [
    {
     "data": {
      "text/html": [
       "<table>\n",
       "<thead><tr><th scope=col>tissue</th><th scope=col>n</th><th scope=col>fdr0.05</th></tr></thead>\n",
       "<tbody>\n",
       "\t<tr><td>neuroseq</td><td>175     </td><td>4828    </td></tr>\n",
       "</tbody>\n",
       "</table>\n"
      ],
      "text/latex": [
       "\\begin{tabular}{r|lll}\n",
       " tissue & n & fdr0.05\\\\\n",
       "\\hline\n",
       "\t neuroseq & 175      & 4828    \\\\\n",
       "\\end{tabular}\n"
      ],
      "text/markdown": [
       "\n",
       "| tissue | n | fdr0.05 |\n",
       "|---|---|---|\n",
       "| neuroseq | 175      | 4828     |\n",
       "\n"
      ],
      "text/plain": [
       "  tissue   n   fdr0.05\n",
       "1 neuroseq 175 4828   "
      ]
     },
     "metadata": {},
     "output_type": "display_data"
    }
   ],
   "source": [
    "df1 = data.frame(tissue = \"neuroseq\", n = max(df0$n),\n",
    "#                 fdr0.1 = length(unique(leads$feature_id)),\n",
    "                fdr0.05 = length(unique(leads[leads$q_value < 0.05,]$feature_id)))#,\n",
    "#                 fdr0.01 = length(unique(leads[leads$global_corr_p_value < 0.01,]$feature_id)))\n",
    "head(df1)"
   ]
  },
  {
   "cell_type": "code",
   "execution_count": 13,
   "metadata": {},
   "outputs": [],
   "source": [
    "library(ggplot2)"
   ]
  },
  {
   "cell_type": "code",
   "execution_count": 14,
   "metadata": {},
   "outputs": [],
   "source": [
    "df2 = rbind(df,df0,df1)"
   ]
  },
  {
   "cell_type": "code",
   "execution_count": 15,
   "metadata": {},
   "outputs": [
    {
     "data": {
      "text/html": [
       "68"
      ],
      "text/latex": [
       "68"
      ],
      "text/markdown": [
       "68"
      ],
      "text/plain": [
       "[1] 68"
      ]
     },
     "metadata": {},
     "output_type": "display_data"
    }
   ],
   "source": [
    "nrow(df2)"
   ]
  },
  {
   "cell_type": "code",
   "execution_count": 16,
   "metadata": {},
   "outputs": [
    {
     "name": "stderr",
     "output_type": "stream",
     "text": [
      "Warning message:\n",
      "“Ignoring unknown parameters: border”Warning message:\n",
      "“Removed 5 rows containing missing values (geom_point).”"
     ]
    },
    {
     "data": {
      "image/png": "[encoded data removed]",
      "text/plain": [
       "plot without title"
      ]
     },
     "metadata": {},
     "output_type": "display_data"
    }
   ],
   "source": [
    "options(repr.plot.width = 4.5, repr.plot.height = 4)\n",
    "ggplot(df2, aes(x = n, y = fdr0.05)) + \n",
    "        geom_point(size = 2.5, alpha = 0.8, col = 'gray') + ylab(\"# eGenes at FDR 5%\") + xlab(\"# unique samples\") +\n",
    "        geom_point(data = df2[grep(\"Brain\",df2$tissue),], aes(x = n, y = fdr0.05), col = \"goldenrod\", size = 2)+\n",
    "        geom_point(data = df2[df2$tissue == \"neuroseq\",], aes(x = n, y = fdr0.05), col = \"firebrick\", size = 3)+\n",
    "        geom_point(data = df2[df2$tissue %in% unique(leads$label),], aes(x = n, y = fdr0.05), size = 2, col = \"black\", border = 'white')+\n",
    "        theme_classic() + theme(text = element_text(size=16))"
   ]
  },
  {
   "cell_type": "code",
   "execution_count": 25,
   "metadata": {},
   "outputs": [
    {
     "name": "stderr",
     "output_type": "stream",
     "text": [
      "Warning message:\n",
      "“Ignoring unknown parameters: border”Warning message:\n",
      "“Removed 5 rows containing missing values (geom_point).”"
     ]
    },
    {
     "data": {
      "text/html": [
       "<strong>png:</strong> 2"
      ],
      "text/latex": [
       "\\textbf{png:} 2"
      ],
      "text/markdown": [
       "**png:** 2"
      ],
      "text/plain": [
       "png \n",
       "  2 "
      ]
     },
     "metadata": {},
     "output_type": "display_data"
    }
   ],
   "source": [
    "fig_dir = \"/hps/nobackup/stegle/users/acuomo/all_scripts/sc_neuroseq/figures/main_figures/\"\n",
    "pdf(paste0(fig_dir,\"Figure_4c_left.pdf\"), width=4.5, height=4)\n",
    "ggplot(df2, aes(x = n, y = fdr0.05)) + \n",
    "        geom_point(size = 2.5, alpha = 0.8, col = 'gray') + ylab(\"# eGenes at FDR 5%\") + xlab(\"# unique samples\") +\n",
    "        geom_point(data = df2[grep(\"Brain\",df2$tissue),], aes(x = n, y = fdr0.05), col = \"goldenrod\", size = 2)+\n",
    "        geom_point(data = df2[df2$tissue == \"neuroseq\",], aes(x = n, y = fdr0.05), col = \"firebrick\", size = 3)+\n",
    "        geom_point(data = df2[df2$tissue %in% unique(leads$label),], aes(x = n, y = fdr0.05), size = 2, col = \"black\", border = 'white')+\n",
    "        theme_classic() + theme(text = element_text(size=16))\n",
    "dev.off()"
   ]
  },
  {
   "cell_type": "code",
   "execution_count": 17,
   "metadata": {},
   "outputs": [
    {
     "data": {
      "text/html": [
       "<table>\n",
       "<thead><tr><th scope=col>tissue</th><th scope=col>n</th><th scope=col>fdr0.05</th></tr></thead>\n",
       "<tbody>\n",
       "\t<tr><td>FPP_D11  </td><td>173      </td><td>2560     </td></tr>\n",
       "\t<tr><td>P_FPP_D11</td><td>172      </td><td>2457     </td></tr>\n",
       "</tbody>\n",
       "</table>\n"
      ],
      "text/latex": [
       "\\begin{tabular}{r|lll}\n",
       " tissue & n & fdr0.05\\\\\n",
       "\\hline\n",
       "\t FPP\\_D11   & 173         & 2560       \\\\\n",
       "\t P\\_FPP\\_D11 & 172           & 2457         \\\\\n",
       "\\end{tabular}\n"
      ],
      "text/markdown": [
       "\n",
       "| tissue | n | fdr0.05 |\n",
       "|---|---|---|\n",
       "| FPP_D11   | 173       | 2560      |\n",
       "| P_FPP_D11 | 172       | 2457      |\n",
       "\n"
      ],
      "text/plain": [
       "  tissue    n   fdr0.05\n",
       "1 FPP_D11   173 2560   \n",
       "2 P_FPP_D11 172 2457   "
      ]
     },
     "metadata": {},
     "output_type": "display_data"
    }
   ],
   "source": [
    "head(df0,2)"
   ]
  },
  {
   "cell_type": "code",
   "execution_count": 18,
   "metadata": {},
   "outputs": [],
   "source": [
    "df0$celltype = gsub(\"_D[0-9].*\",\"\",df0$tissue)\n",
    "# unique(df0$celltype)\n",
    "df0$condition[grep(\"D11\",df0$tissue)] = \"D11\"\n",
    "df0$condition[grep(\"D30\",df0$tissue)] = \"D30\"\n",
    "df0$condition[grep(\"D52\",df0$tissue)] = \"D52\"\n",
    "df0$condition[grep(\"D52_ROT\",df0$tissue)] = \"D52_ROT\""
   ]
  },
  {
   "cell_type": "code",
   "execution_count": 19,
   "metadata": {},
   "outputs": [
    {
     "data": {
      "text/html": [
       "<table>\n",
       "<thead><tr><th scope=col>tissue</th><th scope=col>n</th><th scope=col>fdr0.05</th><th scope=col>celltype</th><th scope=col>condition</th></tr></thead>\n",
       "<tbody>\n",
       "\t<tr><td>FPP_D11      </td><td>173          </td><td>2560         </td><td>FPP          </td><td>D11          </td></tr>\n",
       "\t<tr><td>P_FPP_D11    </td><td>172          </td><td>2457         </td><td>P_FPP        </td><td>D11          </td></tr>\n",
       "\t<tr><td>FPP_D30      </td><td>152          </td><td> 881         </td><td>FPP          </td><td>D30          </td></tr>\n",
       "\t<tr><td>DA_D30       </td><td>165          </td><td> 872         </td><td>DA           </td><td>D30          </td></tr>\n",
       "\t<tr><td>Sert_D30     </td><td>151          </td><td> 776         </td><td>Sert         </td><td>D30          </td></tr>\n",
       "\t<tr><td>Epen1_D30    </td><td>133          </td><td>1011         </td><td>Epen1        </td><td>D30          </td></tr>\n",
       "\t<tr><td>DA_D52       </td><td>175          </td><td>1024         </td><td>DA           </td><td>D52          </td></tr>\n",
       "\t<tr><td>Sert_D52     </td><td>161          </td><td>1436         </td><td>Sert         </td><td>D52          </td></tr>\n",
       "\t<tr><td>Epen1_D52    </td><td>169          </td><td>1391         </td><td>Epen1        </td><td>D52          </td></tr>\n",
       "\t<tr><td>Astro_D52    </td><td>120          </td><td> 257         </td><td>Astro        </td><td>D52          </td></tr>\n",
       "\t<tr><td>DA_D52_ROT   </td><td>157          </td><td> 458         </td><td>DA           </td><td>D52_ROT      </td></tr>\n",
       "\t<tr><td>Sert_D52_ROT </td><td>154          </td><td>1043         </td><td>Sert         </td><td>D52_ROT      </td></tr>\n",
       "\t<tr><td>Epen1_D52_ROT</td><td>165          </td><td>1122         </td><td>Epen1        </td><td>D52_ROT      </td></tr>\n",
       "\t<tr><td>Astro_D52_ROT</td><td>109          </td><td> 205         </td><td>Astro        </td><td>D52_ROT      </td></tr>\n",
       "</tbody>\n",
       "</table>\n"
      ],
      "text/latex": [
       "\\begin{tabular}{r|lllll}\n",
       " tissue & n & fdr0.05 & celltype & condition\\\\\n",
       "\\hline\n",
       "\t FPP\\_D11       & 173             & 2560            & FPP             & D11            \\\\\n",
       "\t P\\_FPP\\_D11     & 172               & 2457              & P\\_FPP           & D11              \\\\\n",
       "\t FPP\\_D30       & 152             &  881            & FPP             & D30            \\\\\n",
       "\t DA\\_D30        & 165             &  872            & DA              & D30            \\\\\n",
       "\t Sert\\_D30      & 151             &  776            & Sert            & D30            \\\\\n",
       "\t Epen1\\_D30     & 133             & 1011            & Epen1           & D30            \\\\\n",
       "\t DA\\_D52        & 175             & 1024            & DA              & D52            \\\\\n",
       "\t Sert\\_D52      & 161             & 1436            & Sert            & D52            \\\\\n",
       "\t Epen1\\_D52     & 169             & 1391            & Epen1           & D52            \\\\\n",
       "\t Astro\\_D52     & 120             &  257            & Astro           & D52            \\\\\n",
       "\t DA\\_D52\\_ROT    & 157               &  458              & DA                & D52\\_ROT        \\\\\n",
       "\t Sert\\_D52\\_ROT  & 154               & 1043              & Sert              & D52\\_ROT        \\\\\n",
       "\t Epen1\\_D52\\_ROT & 165               & 1122              & Epen1             & D52\\_ROT        \\\\\n",
       "\t Astro\\_D52\\_ROT & 109               &  205              & Astro             & D52\\_ROT        \\\\\n",
       "\\end{tabular}\n"
      ],
      "text/markdown": [
       "\n",
       "| tissue | n | fdr0.05 | celltype | condition |\n",
       "|---|---|---|---|---|\n",
       "| FPP_D11       | 173           | 2560          | FPP           | D11           |\n",
       "| P_FPP_D11     | 172           | 2457          | P_FPP         | D11           |\n",
       "| FPP_D30       | 152           |  881          | FPP           | D30           |\n",
       "| DA_D30        | 165           |  872          | DA            | D30           |\n",
       "| Sert_D30      | 151           |  776          | Sert          | D30           |\n",
       "| Epen1_D30     | 133           | 1011          | Epen1         | D30           |\n",
       "| DA_D52        | 175           | 1024          | DA            | D52           |\n",
       "| Sert_D52      | 161           | 1436          | Sert          | D52           |\n",
       "| Epen1_D52     | 169           | 1391          | Epen1         | D52           |\n",
       "| Astro_D52     | 120           |  257          | Astro         | D52           |\n",
       "| DA_D52_ROT    | 157           |  458          | DA            | D52_ROT       |\n",
       "| Sert_D52_ROT  | 154           | 1043          | Sert          | D52_ROT       |\n",
       "| Epen1_D52_ROT | 165           | 1122          | Epen1         | D52_ROT       |\n",
       "| Astro_D52_ROT | 109           |  205          | Astro         | D52_ROT       |\n",
       "\n"
      ],
      "text/plain": [
       "   tissue        n   fdr0.05 celltype condition\n",
       "1  FPP_D11       173 2560    FPP      D11      \n",
       "2  P_FPP_D11     172 2457    P_FPP    D11      \n",
       "3  FPP_D30       152  881    FPP      D30      \n",
       "4  DA_D30        165  872    DA       D30      \n",
       "5  Sert_D30      151  776    Sert     D30      \n",
       "6  Epen1_D30     133 1011    Epen1    D30      \n",
       "7  DA_D52        175 1024    DA       D52      \n",
       "8  Sert_D52      161 1436    Sert     D52      \n",
       "9  Epen1_D52     169 1391    Epen1    D52      \n",
       "10 Astro_D52     120  257    Astro    D52      \n",
       "11 DA_D52_ROT    157  458    DA       D52_ROT  \n",
       "12 Sert_D52_ROT  154 1043    Sert     D52_ROT  \n",
       "13 Epen1_D52_ROT 165 1122    Epen1    D52_ROT  \n",
       "14 Astro_D52_ROT 109  205    Astro    D52_ROT  "
      ]
     },
     "metadata": {},
     "output_type": "display_data"
    }
   ],
   "source": [
    "df0"
   ]
  },
  {
   "cell_type": "code",
   "execution_count": 20,
   "metadata": {},
   "outputs": [
    {
     "data": {
      "image/png": "[encoded data removed]",
      "text/plain": [
       "plot without title"
      ]
     },
     "metadata": {},
     "output_type": "display_data"
    }
   ],
   "source": [
    "col_FPP = \"#aec7e8\"\n",
    "col_P_FPP = \"#1f77b4\"\n",
    "col_DA = \"#2ca02c\"\n",
    "col_Sert = \"#98df8a\"\n",
    "col_Epen1 = \"#ff9896\"\n",
    "col_Astro = \"#9467bd\"\n",
    "\n",
    "options(repr.plot.width = 6.8, repr.plot.height = 4)\n",
    "ggplot(df0, aes(x = n, y = fdr0.05, colour = celltype, shape = as.factor(condition))) + \n",
    "        geom_point(size = 3.5) + ylab(\"# eGenes at FDR 5%\") + xlab(\"# unique samples\") +\n",
    "        scale_color_manual(values = c(col_Astro, col_DA, col_Epen1,col_FPP,col_P_FPP,col_Sert)) +\n",
    "        theme_classic() + theme(text = element_text(size=16))"
   ]
  },
  {
   "cell_type": "code",
   "execution_count": 26,
   "metadata": {},
   "outputs": [
    {
     "data": {
      "text/html": [
       "<strong>png:</strong> 2"
      ],
      "text/latex": [
       "\\textbf{png:} 2"
      ],
      "text/markdown": [
       "**png:** 2"
      ],
      "text/plain": [
       "png \n",
       "  2 "
      ]
     },
     "metadata": {},
     "output_type": "display_data"
    }
   ],
   "source": [
    "pdf(paste0(fig_dir,\"Figure_4c_right.pdf\"), width=6.8, height=4)\n",
    "ggplot(df0, aes(x = n, y = fdr0.05, colour = celltype, shape = as.factor(condition))) + \n",
    "        geom_point(size = 3.5) + ylab(\"# eGenes at FDR 5%\") + xlab(\"# unique samples\") +\n",
    "        scale_color_manual(values = c(col_Astro, col_DA, col_Epen1,col_FPP,col_P_FPP,col_Sert)) +\n",
    "        theme_classic() + theme(text = element_text(size=16))\n",
    "dev.off()"
   ]
  },
  {
   "cell_type": "code",
   "execution_count": 21,
   "metadata": {},
   "outputs": [
    {
     "data": {
      "text/html": [
       "<table>\n",
       "<thead><tr><th scope=col>tissue</th><th scope=col>n</th><th scope=col>fdr0.05</th><th scope=col>celltype</th><th scope=col>condition</th></tr></thead>\n",
       "<tbody>\n",
       "\t<tr><td>FPP_D11  </td><td>173      </td><td>2560     </td><td>FPP      </td><td>D11      </td></tr>\n",
       "\t<tr><td>P_FPP_D11</td><td>172      </td><td>2457     </td><td>P_FPP    </td><td>D11      </td></tr>\n",
       "</tbody>\n",
       "</table>\n"
      ],
      "text/latex": [
       "\\begin{tabular}{r|lllll}\n",
       " tissue & n & fdr0.05 & celltype & condition\\\\\n",
       "\\hline\n",
       "\t FPP\\_D11   & 173         & 2560        & FPP         & D11        \\\\\n",
       "\t P\\_FPP\\_D11 & 172           & 2457          & P\\_FPP       & D11          \\\\\n",
       "\\end{tabular}\n"
      ],
      "text/markdown": [
       "\n",
       "| tissue | n | fdr0.05 | celltype | condition |\n",
       "|---|---|---|---|---|\n",
       "| FPP_D11   | 173       | 2560      | FPP       | D11       |\n",
       "| P_FPP_D11 | 172       | 2457      | P_FPP     | D11       |\n",
       "\n"
      ],
      "text/plain": [
       "  tissue    n   fdr0.05 celltype condition\n",
       "1 FPP_D11   173 2560    FPP      D11      \n",
       "2 P_FPP_D11 172 2457    P_FPP    D11      "
      ]
     },
     "metadata": {},
     "output_type": "display_data"
    },
    {
     "data": {
      "text/html": [
       "<table>\n",
       "<thead><tr><th scope=col>tissue</th><th scope=col>n</th><th scope=col>fdr0.05</th></tr></thead>\n",
       "<tbody>\n",
       "\t<tr><td>Adipose_Subcutaneous    </td><td>442                     </td><td>11866                   </td></tr>\n",
       "\t<tr><td>Adipose_Visceral_Omentum</td><td>355                     </td><td> 8991                   </td></tr>\n",
       "</tbody>\n",
       "</table>\n"
      ],
      "text/latex": [
       "\\begin{tabular}{r|lll}\n",
       " tissue & n & fdr0.05\\\\\n",
       "\\hline\n",
       "\t Adipose\\_Subcutaneous     & 442                        & 11866                     \\\\\n",
       "\t Adipose\\_Visceral\\_Omentum & 355                          &  8991                       \\\\\n",
       "\\end{tabular}\n"
      ],
      "text/markdown": [
       "\n",
       "| tissue | n | fdr0.05 |\n",
       "|---|---|---|\n",
       "| Adipose_Subcutaneous     | 442                      | 11866                    |\n",
       "| Adipose_Visceral_Omentum | 355                      |  8991                    |\n",
       "\n"
      ],
      "text/plain": [
       "  tissue                   n   fdr0.05\n",
       "1 Adipose_Subcutaneous     442 11866  \n",
       "2 Adipose_Visceral_Omentum 355  8991  "
      ]
     },
     "metadata": {},
     "output_type": "display_data"
    }
   ],
   "source": [
    "head(df0,2)\n",
    "head(df2,2)"
   ]
  },
  {
   "cell_type": "code",
   "execution_count": 22,
   "metadata": {},
   "outputs": [
    {
     "data": {
      "text/html": [
       "<table>\n",
       "<thead><tr><th scope=col>snp_id</th><th scope=col>p_value</th><th scope=col>beta</th><th scope=col>beta_se</th><th scope=col>empirical_feature_p_value</th><th scope=col>feature_chromosome</th><th scope=col>feature_start</th><th scope=col>feature_end</th><th scope=col>n_samples</th><th scope=col>n_e_samples</th><th scope=col>alpha_param</th><th scope=col>beta_param</th><th scope=col>snp_chromosome</th><th scope=col>snp_position</th><th scope=col>assessed_allele</th><th scope=col>call_rate</th><th scope=col>maf</th><th scope=col>hwe_p</th><th scope=col>feature_id</th></tr></thead>\n",
       "<tbody>\n",
       "\t<tr><td>5_54468124_A_T </td><td>0.011296811    </td><td>-0.1120261     </td><td>0.04421999     </td><td>0.5425102      </td><td>5              </td><td>54603588       </td><td>54721409       </td><td>193            </td><td>193            </td><td>0.5733530      </td><td> 30.80818      </td><td>5              </td><td>54468124       </td><td>T              </td><td>1              </td><td>0.3134715      </td><td>0.8673414      </td><td>ENSG00000039123</td></tr>\n",
       "\t<tr><td>5_56744673_T_C </td><td>0.001488166    </td><td> 0.1186910     </td><td>0.03735967     </td><td>0.3619907      </td><td>5              </td><td>56469775       </td><td>56560506       </td><td>193            </td><td>193            </td><td>0.6127045      </td><td>118.98902      </td><td>5              </td><td>56744673       </td><td>C              </td><td>1              </td><td>0.3989637      </td><td>0.2963696      </td><td>ENSG00000062194</td></tr>\n",
       "</tbody>\n",
       "</table>\n"
      ],
      "text/latex": [
       "\\begin{tabular}{r|lllllllllllllllllll}\n",
       " snp\\_id & p\\_value & beta & beta\\_se & empirical\\_feature\\_p\\_value & feature\\_chromosome & feature\\_start & feature\\_end & n\\_samples & n\\_e\\_samples & alpha\\_param & beta\\_param & snp\\_chromosome & snp\\_position & assessed\\_allele & call\\_rate & maf & hwe\\_p & feature\\_id\\\\\n",
       "\\hline\n",
       "\t 5\\_54468124\\_A\\_T & 0.011296811          & -0.1120261           & 0.04421999           & 0.5425102            & 5                    & 54603588             & 54721409             & 193                  & 193                  & 0.5733530            &  30.80818            & 5                    & 54468124             & T                    & 1                    & 0.3134715            & 0.8673414            & ENSG00000039123     \\\\\n",
       "\t 5\\_56744673\\_T\\_C & 0.001488166          &  0.1186910           & 0.03735967           & 0.3619907            & 5                    & 56469775             & 56560506             & 193                  & 193                  & 0.6127045            & 118.98902            & 5                    & 56744673             & C                    & 1                    & 0.3989637            & 0.2963696            & ENSG00000062194     \\\\\n",
       "\\end{tabular}\n"
      ],
      "text/markdown": [
       "\n",
       "| snp_id | p_value | beta | beta_se | empirical_feature_p_value | feature_chromosome | feature_start | feature_end | n_samples | n_e_samples | alpha_param | beta_param | snp_chromosome | snp_position | assessed_allele | call_rate | maf | hwe_p | feature_id |\n",
       "|---|---|---|---|---|---|---|---|---|---|---|---|---|---|---|---|---|---|---|\n",
       "| 5_54468124_A_T  | 0.011296811     | -0.1120261      | 0.04421999      | 0.5425102       | 5               | 54603588        | 54721409        | 193             | 193             | 0.5733530       |  30.80818       | 5               | 54468124        | T               | 1               | 0.3134715       | 0.8673414       | ENSG00000039123 |\n",
       "| 5_56744673_T_C  | 0.001488166     |  0.1186910      | 0.03735967      | 0.3619907       | 5               | 56469775        | 56560506        | 193             | 193             | 0.6127045       | 118.98902       | 5               | 56744673        | C               | 1               | 0.3989637       | 0.2963696       | ENSG00000062194 |\n",
       "\n"
      ],
      "text/plain": [
       "  snp_id         p_value     beta       beta_se    empirical_feature_p_value\n",
       "1 5_54468124_A_T 0.011296811 -0.1120261 0.04421999 0.5425102                \n",
       "2 5_56744673_T_C 0.001488166  0.1186910 0.03735967 0.3619907                \n",
       "  feature_chromosome feature_start feature_end n_samples n_e_samples\n",
       "1 5                  54603588      54721409    193       193        \n",
       "2 5                  56469775      56560506    193       193        \n",
       "  alpha_param beta_param snp_chromosome snp_position assessed_allele call_rate\n",
       "1 0.5733530    30.80818  5              54468124     T               1        \n",
       "2 0.6127045   118.98902  5              56744673     C               1        \n",
       "  maf       hwe_p     feature_id     \n",
       "1 0.3134715 0.8673414 ENSG00000039123\n",
       "2 0.3989637 0.2963696 ENSG00000062194"
      ]
     },
     "metadata": {},
     "output_type": "display_data"
    }
   ],
   "source": [
    "day52_folder =\"/nfs/leia/research/stegle/dseaton/hipsci/singlecell_neuroseq/data/data_processed/pool1_17_D52/qtl_analysis/eqtl_discovery_separated_by_treatment/\"\n",
    "pseudobulk = read.csv(paste0(day52_folder,\"input_files_untreated/pseudobulk/top_qtl_results_all.txt\"),sep=\"\\t\")\n",
    "head(pseudobulk,2)"
   ]
  },
  {
   "cell_type": "code",
   "execution_count": 23,
   "metadata": {},
   "outputs": [
    {
     "data": {
      "text/html": [
       "2249"
      ],
      "text/latex": [
       "2249"
      ],
      "text/markdown": [
       "2249"
      ],
      "text/plain": [
       "[1] 2249"
      ]
     },
     "metadata": {},
     "output_type": "display_data"
    }
   ],
   "source": [
    "library(qvalue)\n",
    "pseudobulk$q_value = qvalue(pseudobulk$empirical_feature_p_value)$qvalues\n",
    "nrow(pseudobulk[pseudobulk$q_value <0.05,])"
   ]
  },
  {
   "cell_type": "code",
   "execution_count": 24,
   "metadata": {},
   "outputs": [],
   "source": [
    "df_pseudo = data.frame(tissue = \"pseudobulk_D52\", \n",
    "                       n = pseudobulk$n_samples, \n",
    "                       fdr0.05 = nrow(pseudobulk[pseudobulk$q_value <0.05,]))"
   ]
  },
  {
   "cell_type": "code",
   "execution_count": 25,
   "metadata": {},
   "outputs": [
    {
     "data": {
      "text/html": [
       "<table>\n",
       "<thead><tr><th scope=col>tissue</th><th scope=col>n</th><th scope=col>fdr0.05</th></tr></thead>\n",
       "<tbody>\n",
       "\t<tr><td>pseudobulk_D52</td><td>193           </td><td>2249          </td></tr>\n",
       "\t<tr><td>pseudobulk_D52</td><td>193           </td><td>2249          </td></tr>\n",
       "</tbody>\n",
       "</table>\n"
      ],
      "text/latex": [
       "\\begin{tabular}{r|lll}\n",
       " tissue & n & fdr0.05\\\\\n",
       "\\hline\n",
       "\t pseudobulk\\_D52 & 193              & 2249            \\\\\n",
       "\t pseudobulk\\_D52 & 193              & 2249            \\\\\n",
       "\\end{tabular}\n"
      ],
      "text/markdown": [
       "\n",
       "| tissue | n | fdr0.05 |\n",
       "|---|---|---|\n",
       "| pseudobulk_D52 | 193            | 2249           |\n",
       "| pseudobulk_D52 | 193            | 2249           |\n",
       "\n"
      ],
      "text/plain": [
       "  tissue         n   fdr0.05\n",
       "1 pseudobulk_D52 193 2249   \n",
       "2 pseudobulk_D52 193 2249   "
      ]
     },
     "metadata": {},
     "output_type": "display_data"
    }
   ],
   "source": [
    "head(df_pseudo,2)"
   ]
  },
  {
   "cell_type": "code",
   "execution_count": 26,
   "metadata": {},
   "outputs": [],
   "source": [
    "df2_pseudo = rbind(df2, df_pseudo)"
   ]
  },
  {
   "cell_type": "code",
   "execution_count": 27,
   "metadata": {},
   "outputs": [
    {
     "name": "stderr",
     "output_type": "stream",
     "text": [
      "Warning message:\n",
      "“Ignoring unknown parameters: border”Warning message:\n",
      "“Removed 5 rows containing missing values (geom_point).”"
     ]
    },
    {
     "data": {
      "image/png": "[encoded data removed]",
      "text/plain": [
       "plot without title"
      ]
     },
     "metadata": {},
     "output_type": "display_data"
    }
   ],
   "source": [
    "df2_all = df2\n",
    "df2 = df2_pseudo\n",
    "#\n",
    "options(repr.plot.width = 4.5, repr.plot.height = 4)\n",
    "ggplot(df2, aes(x = n, y = fdr0.05)) + \n",
    "        geom_point(size = 2.5, alpha = 0.8, col = 'gray') + ylab(\"# eGenes at FDR 5%\") + xlab(\"# unique samples\") +\n",
    "        geom_point(data = df2[grep(\"Brain\",df2$tissue),], aes(x = n, y = fdr0.05), col = \"goldenrod\", size = 2)+\n",
    "        geom_point(data = df2[df2$tissue == \"neuroseq\",], aes(x = n, y = fdr0.05), col = \"firebrick\", size = 3)+\n",
    "        geom_point(data = df2[df2$tissue == \"pseudobulk_D52\",], aes(x = n, y = fdr0.05), col = \"firebrick\", size = 2)+\n",
    "        geom_point(data = df2[df2$tissue %in% unique(leads$label),], aes(x = n, y = fdr0.05), size = 2, col = \"black\", border = 'white')+\n",
    "        theme_classic() + theme(text = element_text(size=16))"
   ]
  },
  {
   "cell_type": "code",
   "execution_count": 28,
   "metadata": {},
   "outputs": [
    {
     "name": "stderr",
     "output_type": "stream",
     "text": [
      "Warning message:\n",
      "“Ignoring unknown parameters: border”Warning message:\n",
      "“Removed 5 rows containing missing values (geom_point).”"
     ]
    },
    {
     "data": {
      "text/html": [
       "<strong>png:</strong> 2"
      ],
      "text/latex": [
       "\\textbf{png:} 2"
      ],
      "text/markdown": [
       "**png:** 2"
      ],
      "text/plain": [
       "png \n",
       "  2 "
      ]
     },
     "metadata": {},
     "output_type": "display_data"
    }
   ],
   "source": [
    "fig_dir = \"/hps/nobackup/stegle/users/acuomo/all_scripts/sc_neuroseq/figures/extended_figures/\"\n",
    "pdf(paste0(fig_dir,\"Extended_Figure_7c_left.pdf\"), width=4.5, height=4)\n",
    "ggplot(df2, aes(x = n, y = fdr0.05)) + \n",
    "        geom_point(size = 2.5, alpha = 0.8, col = 'gray') + ylab(\"# eGenes at FDR 5%\") + xlab(\"# unique samples\") +\n",
    "        geom_point(data = df2[grep(\"Brain\",df2$tissue),], aes(x = n, y = fdr0.05), col = \"goldenrod\", size = 2)+\n",
    "        geom_point(data = df2[df2$tissue == \"neuroseq\",], aes(x = n, y = fdr0.05), col = \"firebrick\", size = 3)+\n",
    "        geom_point(data = df2[df2$tissue == \"pseudobulk_D52\",], aes(x = n, y = fdr0.05), col = \"firebrick\", size = 2)+\n",
    "        geom_point(data = df2[df2$tissue %in% unique(leads$label),], aes(x = n, y = fdr0.05), size = 2, col = \"black\", border = 'white')+\n",
    "        theme_classic() + theme(text = element_text(size=16))\n",
    "dev.off()\n",
    "df2 = df2_all"
   ]
  },
  {
   "cell_type": "code",
   "execution_count": 29,
   "metadata": {},
   "outputs": [
    {
     "data": {
      "text/html": [
       "<table>\n",
       "<thead><tr><th scope=col>tissue</th><th scope=col>n</th><th scope=col>fdr0.05</th><th scope=col>celltype</th><th scope=col>condition</th></tr></thead>\n",
       "<tbody>\n",
       "\t<tr><td>pseudobulk_D52</td><td>193           </td><td>2249          </td><td>pseudobulk    </td><td>D52           </td></tr>\n",
       "\t<tr><td>pseudobulk_D52</td><td>193           </td><td>2249          </td><td>pseudobulk    </td><td>D52           </td></tr>\n",
       "</tbody>\n",
       "</table>\n"
      ],
      "text/latex": [
       "\\begin{tabular}{r|lllll}\n",
       " tissue & n & fdr0.05 & celltype & condition\\\\\n",
       "\\hline\n",
       "\t pseudobulk\\_D52 & 193              & 2249             & pseudobulk       & D52             \\\\\n",
       "\t pseudobulk\\_D52 & 193              & 2249             & pseudobulk       & D52             \\\\\n",
       "\\end{tabular}\n"
      ],
      "text/markdown": [
       "\n",
       "| tissue | n | fdr0.05 | celltype | condition |\n",
       "|---|---|---|---|---|\n",
       "| pseudobulk_D52 | 193            | 2249           | pseudobulk     | D52            |\n",
       "| pseudobulk_D52 | 193            | 2249           | pseudobulk     | D52            |\n",
       "\n"
      ],
      "text/plain": [
       "  tissue         n   fdr0.05 celltype   condition\n",
       "1 pseudobulk_D52 193 2249    pseudobulk D52      \n",
       "2 pseudobulk_D52 193 2249    pseudobulk D52      "
      ]
     },
     "metadata": {},
     "output_type": "display_data"
    }
   ],
   "source": [
    "df_pseudo$celltype = \"pseudobulk\"\n",
    "df_pseudo$condition = \"D52\"\n",
    "head(df_pseudo,2)"
   ]
  },
  {
   "cell_type": "code",
   "execution_count": 30,
   "metadata": {},
   "outputs": [],
   "source": [
    "df0_pseudo = rbind(df0, df_pseudo)"
   ]
  },
  {
   "cell_type": "code",
   "execution_count": 31,
   "metadata": {},
   "outputs": [],
   "source": [
    "col_FPP = \"#aec7e8\"\n",
    "col_P_FPP = \"#1f77b4\"\n",
    "col_DA = \"#2ca02c\"\n",
    "col_Sert = \"#98df8a\"\n",
    "col_Epen1 = \"#ff9896\"\n",
    "col_Astro = \"#9467bd\"\n",
    "col_pseudo = \"firebrick\""
   ]
  },
  {
   "cell_type": "code",
   "execution_count": 33,
   "metadata": {},
   "outputs": [
    {
     "data": {
      "image/png": "[encoded data removed]",
      "text/plain": [
       "plot without title"
      ]
     },
     "metadata": {},
     "output_type": "display_data"
    }
   ],
   "source": [
    "df0_all = df0\n",
    "df0 = df0_pseudo\n",
    "options(repr.plot.width = 6.8, repr.plot.height = 4)\n",
    "ggplot(df0, aes(x = n, y = fdr0.05, colour = celltype, shape = as.factor(condition))) + \n",
    "        geom_point(size = 3.5) + ylab(\"# eGenes at FDR 5%\") + xlab(\"# unique samples\") +\n",
    "        scale_color_manual(values = c(col_Astro, col_DA, col_Epen1,col_FPP,col_P_FPP,col_pseudo,col_Sert)) +\n",
    "        theme_classic() + theme(text = element_text(size=16))"
   ]
  },
  {
   "cell_type": "code",
   "execution_count": 34,
   "metadata": {},
   "outputs": [
    {
     "data": {
      "text/html": [
       "<strong>png:</strong> 2"
      ],
      "text/latex": [
       "\\textbf{png:} 2"
      ],
      "text/markdown": [
       "**png:** 2"
      ],
      "text/plain": [
       "png \n",
       "  2 "
      ]
     },
     "metadata": {},
     "output_type": "display_data"
    }
   ],
   "source": [
    "pdf(paste0(fig_dir,\"Extended_Figure_7c_right.pdf\"), width=6.8, height=4)\n",
    "ggplot(df0, aes(x = n, y = fdr0.05, colour = celltype, shape = as.factor(condition))) + \n",
    "        geom_point(size = 3.5) + ylab(\"# eGenes at FDR 5%\") + xlab(\"# unique samples\") +\n",
    "        scale_color_manual(values = c(col_Astro, col_DA, col_Epen1,col_FPP,col_P_FPP,col_pseudo,col_Sert)) +\n",
    "        theme_classic() + theme(text = element_text(size=16))\n",
    "dev.off()\n",
    "df0 = df0_all"
   ]
  },
  {
   "cell_type": "code",
   "execution_count": null,
   "metadata": {},
   "outputs": [],
   "source": []
  }
 ],
 "metadata": {
  "kernelspec": {
   "display_name": "R",
   "language": "R",
   "name": "ir"
  },
  "language_info": {
   "codemirror_mode": "r",
   "file_extension": ".r",
   "mimetype": "text/x-r-source",
   "name": "R",
   "pygments_lexer": "r",
   "version": "3.6.1"
  }
 },
 "nbformat": 4,
 "nbformat_minor": 2
}
