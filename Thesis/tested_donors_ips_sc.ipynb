{
 "cells": [
  {
   "cell_type": "code",
   "execution_count": 1,
   "metadata": {},
   "outputs": [],
   "source": [
    "sample_mapping_ips = \"/hps/nobackup/hipsci/scratch/singlecell_endodiff/data_processed/scQTLs/mean/day0/input_files/mean_samples.tsv\""
   ]
  },
  {
   "cell_type": "code",
   "execution_count": 6,
   "metadata": {},
   "outputs": [
    {
     "data": {
      "text/html": [
       "<table>\n",
       "<thead><tr><th scope=col>V1</th><th scope=col>V2</th></tr></thead>\n",
       "<tbody>\n",
       "\t<tr><td>HPSI0214pf-heth</td><td>heth-expt_12   </td></tr>\n",
       "\t<tr><td>HPSI1013pf-jogf</td><td>jogf-expt_12   </td></tr>\n",
       "\t<tr><td>HPSI0214pf-pelm</td><td>pelm-expt_12   </td></tr>\n",
       "\t<tr><td>HPSI0114pf-vass</td><td>vass-expt_12   </td></tr>\n",
       "\t<tr><td>HPSI0214pf-wibj</td><td>wibj-expt_12   </td></tr>\n",
       "\t<tr><td>HPSI0114pf-zapk</td><td>zapk-expt_12   </td></tr>\n",
       "</tbody>\n",
       "</table>\n"
      ],
      "text/latex": [
       "\\begin{tabular}{r|ll}\n",
       " V1 & V2\\\\\n",
       "\\hline\n",
       "\t HPSI0214pf-heth & heth-expt\\_12 \\\\\n",
       "\t HPSI1013pf-jogf & jogf-expt\\_12 \\\\\n",
       "\t HPSI0214pf-pelm & pelm-expt\\_12 \\\\\n",
       "\t HPSI0114pf-vass & vass-expt\\_12 \\\\\n",
       "\t HPSI0214pf-wibj & wibj-expt\\_12 \\\\\n",
       "\t HPSI0114pf-zapk & zapk-expt\\_12 \\\\\n",
       "\\end{tabular}\n"
      ],
      "text/markdown": [
       "\n",
       "| V1 | V2 |\n",
       "|---|---|\n",
       "| HPSI0214pf-heth | heth-expt_12    |\n",
       "| HPSI1013pf-jogf | jogf-expt_12    |\n",
       "| HPSI0214pf-pelm | pelm-expt_12    |\n",
       "| HPSI0114pf-vass | vass-expt_12    |\n",
       "| HPSI0214pf-wibj | wibj-expt_12    |\n",
       "| HPSI0114pf-zapk | zapk-expt_12    |\n",
       "\n"
      ],
      "text/plain": [
       "  V1              V2          \n",
       "1 HPSI0214pf-heth heth-expt_12\n",
       "2 HPSI1013pf-jogf jogf-expt_12\n",
       "3 HPSI0214pf-pelm pelm-expt_12\n",
       "4 HPSI0114pf-vass vass-expt_12\n",
       "5 HPSI0214pf-wibj wibj-expt_12\n",
       "6 HPSI0114pf-zapk zapk-expt_12"
      ]
     },
     "metadata": {},
     "output_type": "display_data"
    },
    {
     "data": {
      "text/html": [
       "136"
      ],
      "text/latex": [
       "136"
      ],
      "text/markdown": [
       "136"
      ],
      "text/plain": [
       "[1] 136"
      ]
     },
     "metadata": {},
     "output_type": "display_data"
    },
    {
     "data": {
      "text/html": [
       "111"
      ],
      "text/latex": [
       "111"
      ],
      "text/markdown": [
       "111"
      ],
      "text/plain": [
       "[1] 111"
      ]
     },
     "metadata": {},
     "output_type": "display_data"
    }
   ],
   "source": [
    "sm = read.csv(sample_mapping_ips, sep = \"\\t\", header = F)\n",
    "head(sm)\n",
    "nrow(sm)\n",
    "length(unique(sm$V1))"
   ]
  },
  {
   "cell_type": "code",
   "execution_count": null,
   "metadata": {},
   "outputs": [],
   "source": []
  }
 ],
 "metadata": {
  "kernelspec": {
   "display_name": "R",
   "language": "R",
   "name": "ir"
  },
  "language_info": {
   "codemirror_mode": "r",
   "file_extension": ".r",
   "mimetype": "text/x-r-source",
   "name": "R",
   "pygments_lexer": "r",
   "version": "3.6.1"
  }
 },
 "nbformat": 4,
 "nbformat_minor": 4
}
