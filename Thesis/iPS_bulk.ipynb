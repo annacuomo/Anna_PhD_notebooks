{
 "cells": [
  {
   "cell_type": "code",
   "execution_count": 1,
   "metadata": {},
   "outputs": [
    {
     "name": "stderr",
     "output_type": "stream",
     "text": [
      "Loading required package: SummarizedExperiment\n",
      "Loading required package: GenomicRanges\n",
      "Loading required package: stats4\n",
      "Loading required package: BiocGenerics\n",
      "Loading required package: parallel\n",
      "\n",
      "Attaching package: ‘BiocGenerics’\n",
      "\n",
      "The following objects are masked from ‘package:parallel’:\n",
      "\n",
      "    clusterApply, clusterApplyLB, clusterCall, clusterEvalQ,\n",
      "    clusterExport, clusterMap, parApply, parCapply, parLapply,\n",
      "    parLapplyLB, parRapply, parSapply, parSapplyLB\n",
      "\n",
      "The following objects are masked from ‘package:stats’:\n",
      "\n",
      "    IQR, mad, sd, var, xtabs\n",
      "\n",
      "The following objects are masked from ‘package:base’:\n",
      "\n",
      "    anyDuplicated, append, as.data.frame, basename, cbind, colnames,\n",
      "    dirname, do.call, duplicated, eval, evalq, Filter, Find, get, grep,\n",
      "    grepl, intersect, is.unsorted, lapply, Map, mapply, match, mget,\n",
      "    order, paste, pmax, pmax.int, pmin, pmin.int, Position, rank,\n",
      "    rbind, Reduce, rownames, sapply, setdiff, sort, table, tapply,\n",
      "    union, unique, unsplit, which, which.max, which.min\n",
      "\n",
      "Loading required package: S4Vectors\n",
      "\n",
      "Attaching package: ‘S4Vectors’\n",
      "\n",
      "The following object is masked from ‘package:base’:\n",
      "\n",
      "    expand.grid\n",
      "\n",
      "Loading required package: IRanges\n",
      "Loading required package: GenomeInfoDb\n",
      "Loading required package: Biobase\n",
      "Welcome to Bioconductor\n",
      "\n",
      "    Vignettes contain introductory material; view with\n",
      "    'browseVignettes()'. To cite Bioconductor, see\n",
      "    'citation(\"Biobase\")', and for packages 'citation(\"pkgname\")'.\n",
      "\n",
      "Loading required package: DelayedArray\n",
      "Loading required package: matrixStats\n",
      "\n",
      "Attaching package: ‘matrixStats’\n",
      "\n",
      "The following objects are masked from ‘package:Biobase’:\n",
      "\n",
      "    anyMissing, rowMedians\n",
      "\n",
      "Loading required package: BiocParallel\n",
      "\n",
      "Attaching package: ‘DelayedArray’\n",
      "\n",
      "The following objects are masked from ‘package:matrixStats’:\n",
      "\n",
      "    colMaxs, colMins, colRanges, rowMaxs, rowMins, rowRanges\n",
      "\n",
      "The following objects are masked from ‘package:base’:\n",
      "\n",
      "    aperm, apply, rowsum\n",
      "\n"
     ]
    }
   ],
   "source": [
    "library(SingleCellExperiment)"
   ]
  },
  {
   "cell_type": "code",
   "execution_count": 2,
   "metadata": {
    "scrolled": true
   },
   "outputs": [],
   "source": [
    "bulk <- readRDS(\"/hps/nobackup/stegle/users/acuomo/singlecell_endodiff/miscellaneous/merged_bulk_salmon_quant.rds\")"
   ]
  },
  {
   "cell_type": "code",
   "execution_count": 3,
   "metadata": {},
   "outputs": [
    {
     "data": {
      "text/plain": [
       "class: SingleCellExperiment \n",
       "dim: 39385 676 \n",
       "metadata(0):\n",
       "assays(2): tpm counts\n",
       "rownames(39385): ENSG00000000003_TSPAN6 ENSG00000000005_TNMD ...\n",
       "  ERCC-00170_NA ERCC-00171_NA\n",
       "rowData names(11): exprs_collapsed_to ensembl_transcript_id ...\n",
       "  feature_symbol feature_id\n",
       "colnames(676):\n",
       "  Data/HipSci_ERP007111/quant_salmon/HPSI0114i-bezi_1.hs37d5.\n",
       "  Data/HipSci_ERP007111/quant_salmon/HPSI0114i-bezi_3.hs37d5. ...\n",
       "  Data/HipSci_EGAS00001001997/quant_salmon/HPSI0516i-pews_2.hs37d5.\n",
       "  Data/HipSci_EGAS00001001997/quant_salmon/HPSI0516i-pews_3.hs37d5.\n",
       "colData names(65): salmon_version samp_type ... pct_counts_MT\n",
       "  is_cell_control\n",
       "reducedDimNames(0):\n",
       "spikeNames(0):\n",
       "altExpNames(0):"
      ]
     },
     "metadata": {},
     "output_type": "display_data"
    }
   ],
   "source": [
    "bulk"
   ]
  },
  {
   "cell_type": "code",
   "execution_count": 4,
   "metadata": {},
   "outputs": [
    {
     "data": {
      "text/html": [
       "<table>\n",
       "<thead><tr><th></th><th scope=col>HPSI0114i-bezi_1</th><th scope=col>HPSI0114i-bezi_3</th><th scope=col>HPSI0114i-eipl_1</th><th scope=col>HPSI0114i-eipl_3</th><th scope=col>HPSI0114i-fikt_3</th><th scope=col>HPSI0114i-iisa_1</th><th scope=col>HPSI0114i-iisa_3</th><th scope=col>HPSI0114i-joxm_1</th><th scope=col>HPSI0114i-kolf_2</th><th scope=col>HPSI0114i-kolf_3</th><th scope=col>...</th><th scope=col>HPSI0516i-eitu_4</th><th scope=col>HPSI0516i-goek_4</th><th scope=col>HPSI0516i-hapz_2</th><th scope=col>HPSI0516i-hapz_3</th><th scope=col>HPSI0516i-iool_4</th><th scope=col>HPSI0516i-iool_6</th><th scope=col>HPSI0516i-oazw_3</th><th scope=col>HPSI0516i-oazw_4</th><th scope=col>HPSI0516i-pews_2</th><th scope=col>HPSI0516i-pews_3</th></tr></thead>\n",
       "<tbody>\n",
       "\t<tr><th scope=row>ENSG00000000003_TSPAN6</th><td> 6.7478423 </td><td> 7.3723219 </td><td> 6.6027879 </td><td> 6.670467  </td><td> 6.5325557 </td><td> 6.2607908 </td><td> 6.2049043 </td><td> 6.4136346 </td><td> 6.3794240 </td><td> 6.0982380 </td><td>...        </td><td> 4.7023961 </td><td> 6.1149095 </td><td> 6.57452770</td><td> 6.1132145 </td><td> 6.2374677 </td><td> 6.4816297 </td><td> 6.3242236 </td><td> 6.7140318 </td><td> 6.765941  </td><td> 6.5507389 </td></tr>\n",
       "\t<tr><th scope=row>ENSG00000000005_TNMD</th><td> 1.2396445 </td><td> 2.6075143 </td><td> 2.7457270 </td><td> 1.796040  </td><td> 1.8062487 </td><td> 1.4958215 </td><td> 1.4846523 </td><td> 1.2493527 </td><td> 1.4316536 </td><td> 1.4975600 </td><td>...        </td><td>-0.6699662 </td><td> 1.6624273 </td><td> 0.05885042</td><td> 1.5629860 </td><td> 1.9526607 </td><td> 0.4264122 </td><td> 2.0207997 </td><td> 0.9451023 </td><td> 3.115977  </td><td> 0.7879407 </td></tr>\n",
       "\t<tr><th scope=row>ENSG00000000419_DPM1</th><td> 6.4351540 </td><td> 6.5435280 </td><td> 6.4535352 </td><td> 6.488400  </td><td> 6.7655019 </td><td> 6.4641320 </td><td> 6.4412406 </td><td> 6.4584660 </td><td> 6.5721151 </td><td> 6.4799760 </td><td>...        </td><td> 4.8197038 </td><td> 6.3267307 </td><td> 6.40022473</td><td> 6.5999318 </td><td> 6.5161226 </td><td> 6.4691210 </td><td> 6.5576157 </td><td> 6.5994284 </td><td> 6.660242  </td><td> 6.5900378 </td></tr>\n",
       "\t<tr><th scope=row>ENSG00000000457_SCYL3</th><td> 2.3010799 </td><td> 2.9414570 </td><td> 2.6672173 </td><td> 2.182401  </td><td> 2.3778015 </td><td> 2.4083688 </td><td> 2.4962583 </td><td> 2.2587505 </td><td> 1.8163995 </td><td> 2.2621010 </td><td>...        </td><td> 1.9565996 </td><td> 1.9252852 </td><td> 2.30901525</td><td> 2.0644377 </td><td> 2.1351029 </td><td> 2.2461685 </td><td> 2.0773365 </td><td> 2.5382794 </td><td> 2.181280  </td><td> 2.0659557 </td></tr>\n",
       "\t<tr><th scope=row>ENSG00000000460_C1orf112</th><td> 4.1690783 </td><td> 4.4894089 </td><td> 4.1502208 </td><td> 4.383631  </td><td> 4.8552867 </td><td> 4.6337829 </td><td> 4.6588062 </td><td> 4.2474378 </td><td> 4.6036446 </td><td> 4.0224097 </td><td>...        </td><td> 2.7470801 </td><td> 4.6034535 </td><td> 4.91861630</td><td> 4.9475882 </td><td> 4.7577833 </td><td> 4.9104630 </td><td> 5.0092311 </td><td> 5.1485615 </td><td> 4.999442  </td><td> 4.7960390 </td></tr>\n",
       "\t<tr><th scope=row>ENSG00000000938_FGR</th><td>-0.5687158 </td><td>-0.4913128 </td><td>-0.5636239 </td><td>-1.567461  </td><td>-0.1777691 </td><td>-0.6055767 </td><td>-0.6931276 </td><td>-0.2360887 </td><td>-0.6081928 </td><td>-0.6951849 </td><td>...        </td><td>-1.2646136 </td><td>-0.9360776 </td><td>-0.50224959</td><td>-0.9039374 </td><td>-0.8155414 </td><td>-1.1706325 </td><td>-0.8873781 </td><td>-0.8635696 </td><td>-1.576341  </td><td>-1.4254717 </td></tr>\n",
       "</tbody>\n",
       "</table>\n"
      ],
      "text/latex": [
       "\\begin{tabular}{r|llllllllllllllllllllllllllllllllllllllllllllllllllllllllllllllllllllllllllllllllllllllllllllllllllllllllllllllllllllllllllllllllllllllllllllllllllllllllllllllllllllllllllllllllllllllllllllllllllllllllllllllllllllllllllllllllllllllllllllllllllllllllllllllllllllllllllllllllllllllllllllllllllllllllllllllllllllllllllllllllllllllllllllllllllllllllllllllllllllllllllllllllllllllllllllllllllllllllllllllllllllllllllllllllllllllllllllllllllllllllllllllllllllllllllllllllllllllllllllllllllllllllllllllllllllllllllllllllllllllllllllllllllllllllllllllllllllllllllllllllllllllllllllllllllllllllllllllllllllllllllllllllllllllllllllllllllllllllllllllllllllllllllllllllllllllllllllllllllll}\n",
       "  & HPSI0114i-bezi\\_1 & HPSI0114i-bezi\\_3 & HPSI0114i-eipl\\_1 & HPSI0114i-eipl\\_3 & HPSI0114i-fikt\\_3 & HPSI0114i-iisa\\_1 & HPSI0114i-iisa\\_3 & HPSI0114i-joxm\\_1 & HPSI0114i-kolf\\_2 & HPSI0114i-kolf\\_3 & ... & HPSI0516i-eitu\\_4 & HPSI0516i-goek\\_4 & HPSI0516i-hapz\\_2 & HPSI0516i-hapz\\_3 & HPSI0516i-iool\\_4 & HPSI0516i-iool\\_6 & HPSI0516i-oazw\\_3 & HPSI0516i-oazw\\_4 & HPSI0516i-pews\\_2 & HPSI0516i-pews\\_3\\\\\n",
       "\\hline\n",
       "\tENSG00000000003\\_TSPAN6 &  6.7478423  &  7.3723219  &  6.6027879  &  6.670467   &  6.5325557  &  6.2607908  &  6.2049043  &  6.4136346  &  6.3794240  &  6.0982380  & ...         &  4.7023961  &  6.1149095  &  6.57452770 &  6.1132145  &  6.2374677  &  6.4816297  &  6.3242236  &  6.7140318  &  6.765941   &  6.5507389 \\\\\n",
       "\tENSG00000000005\\_TNMD &  1.2396445  &  2.6075143  &  2.7457270  &  1.796040   &  1.8062487  &  1.4958215  &  1.4846523  &  1.2493527  &  1.4316536  &  1.4975600  & ...         & -0.6699662  &  1.6624273  &  0.05885042 &  1.5629860  &  1.9526607  &  0.4264122  &  2.0207997  &  0.9451023  &  3.115977   &  0.7879407 \\\\\n",
       "\tENSG00000000419\\_DPM1 &  6.4351540  &  6.5435280  &  6.4535352  &  6.488400   &  6.7655019  &  6.4641320  &  6.4412406  &  6.4584660  &  6.5721151  &  6.4799760  & ...         &  4.8197038  &  6.3267307  &  6.40022473 &  6.5999318  &  6.5161226  &  6.4691210  &  6.5576157  &  6.5994284  &  6.660242   &  6.5900378 \\\\\n",
       "\tENSG00000000457\\_SCYL3 &  2.3010799  &  2.9414570  &  2.6672173  &  2.182401   &  2.3778015  &  2.4083688  &  2.4962583  &  2.2587505  &  1.8163995  &  2.2621010  & ...         &  1.9565996  &  1.9252852  &  2.30901525 &  2.0644377  &  2.1351029  &  2.2461685  &  2.0773365  &  2.5382794  &  2.181280   &  2.0659557 \\\\\n",
       "\tENSG00000000460\\_C1orf112 &  4.1690783  &  4.4894089  &  4.1502208  &  4.383631   &  4.8552867  &  4.6337829  &  4.6588062  &  4.2474378  &  4.6036446  &  4.0224097  & ...         &  2.7470801  &  4.6034535  &  4.91861630 &  4.9475882  &  4.7577833  &  4.9104630  &  5.0092311  &  5.1485615  &  4.999442   &  4.7960390 \\\\\n",
       "\tENSG00000000938\\_FGR & -0.5687158  & -0.4913128  & -0.5636239  & -1.567461   & -0.1777691  & -0.6055767  & -0.6931276  & -0.2360887  & -0.6081928  & -0.6951849  & ...         & -1.2646136  & -0.9360776  & -0.50224959 & -0.9039374  & -0.8155414  & -1.1706325  & -0.8873781  & -0.8635696  & -1.576341   & -1.4254717 \\\\\n",
       "\\end{tabular}\n"
      ],
      "text/markdown": [
       "\n",
       "| <!--/--> | HPSI0114i-bezi_1 | HPSI0114i-bezi_3 | HPSI0114i-eipl_1 | HPSI0114i-eipl_3 | HPSI0114i-fikt_3 | HPSI0114i-iisa_1 | HPSI0114i-iisa_3 | HPSI0114i-joxm_1 | HPSI0114i-kolf_2 | HPSI0114i-kolf_3 | ... | HPSI0516i-eitu_4 | HPSI0516i-goek_4 | HPSI0516i-hapz_2 | HPSI0516i-hapz_3 | HPSI0516i-iool_4 | HPSI0516i-iool_6 | HPSI0516i-oazw_3 | HPSI0516i-oazw_4 | HPSI0516i-pews_2 | HPSI0516i-pews_3 |\n",
       "|---|---|---|---|---|---|---|---|---|---|---|---|---|---|---|---|---|---|---|---|---|---|\n",
       "| ENSG00000000003_TSPAN6 |  6.7478423  |  7.3723219  |  6.6027879  |  6.670467   |  6.5325557  |  6.2607908  |  6.2049043  |  6.4136346  |  6.3794240  |  6.0982380  | ...         |  4.7023961  |  6.1149095  |  6.57452770 |  6.1132145  |  6.2374677  |  6.4816297  |  6.3242236  |  6.7140318  |  6.765941   |  6.5507389  |\n",
       "| ENSG00000000005_TNMD |  1.2396445  |  2.6075143  |  2.7457270  |  1.796040   |  1.8062487  |  1.4958215  |  1.4846523  |  1.2493527  |  1.4316536  |  1.4975600  | ...         | -0.6699662  |  1.6624273  |  0.05885042 |  1.5629860  |  1.9526607  |  0.4264122  |  2.0207997  |  0.9451023  |  3.115977   |  0.7879407  |\n",
       "| ENSG00000000419_DPM1 |  6.4351540  |  6.5435280  |  6.4535352  |  6.488400   |  6.7655019  |  6.4641320  |  6.4412406  |  6.4584660  |  6.5721151  |  6.4799760  | ...         |  4.8197038  |  6.3267307  |  6.40022473 |  6.5999318  |  6.5161226  |  6.4691210  |  6.5576157  |  6.5994284  |  6.660242   |  6.5900378  |\n",
       "| ENSG00000000457_SCYL3 |  2.3010799  |  2.9414570  |  2.6672173  |  2.182401   |  2.3778015  |  2.4083688  |  2.4962583  |  2.2587505  |  1.8163995  |  2.2621010  | ...         |  1.9565996  |  1.9252852  |  2.30901525 |  2.0644377  |  2.1351029  |  2.2461685  |  2.0773365  |  2.5382794  |  2.181280   |  2.0659557  |\n",
       "| ENSG00000000460_C1orf112 |  4.1690783  |  4.4894089  |  4.1502208  |  4.383631   |  4.8552867  |  4.6337829  |  4.6588062  |  4.2474378  |  4.6036446  |  4.0224097  | ...         |  2.7470801  |  4.6034535  |  4.91861630 |  4.9475882  |  4.7577833  |  4.9104630  |  5.0092311  |  5.1485615  |  4.999442   |  4.7960390  |\n",
       "| ENSG00000000938_FGR | -0.5687158  | -0.4913128  | -0.5636239  | -1.567461   | -0.1777691  | -0.6055767  | -0.6931276  | -0.2360887  | -0.6081928  | -0.6951849  | ...         | -1.2646136  | -0.9360776  | -0.50224959 | -0.9039374  | -0.8155414  | -1.1706325  | -0.8873781  | -0.8635696  | -1.576341   | -1.4254717  |\n",
       "\n"
      ],
      "text/plain": [
       "                         HPSI0114i-bezi_1 HPSI0114i-bezi_3 HPSI0114i-eipl_1\n",
       "ENSG00000000003_TSPAN6    6.7478423        7.3723219        6.6027879      \n",
       "ENSG00000000005_TNMD      1.2396445        2.6075143        2.7457270      \n",
       "ENSG00000000419_DPM1      6.4351540        6.5435280        6.4535352      \n",
       "ENSG00000000457_SCYL3     2.3010799        2.9414570        2.6672173      \n",
       "ENSG00000000460_C1orf112  4.1690783        4.4894089        4.1502208      \n",
       "ENSG00000000938_FGR      -0.5687158       -0.4913128       -0.5636239      \n",
       "                         HPSI0114i-eipl_3 HPSI0114i-fikt_3 HPSI0114i-iisa_1\n",
       "ENSG00000000003_TSPAN6    6.670467         6.5325557        6.2607908      \n",
       "ENSG00000000005_TNMD      1.796040         1.8062487        1.4958215      \n",
       "ENSG00000000419_DPM1      6.488400         6.7655019        6.4641320      \n",
       "ENSG00000000457_SCYL3     2.182401         2.3778015        2.4083688      \n",
       "ENSG00000000460_C1orf112  4.383631         4.8552867        4.6337829      \n",
       "ENSG00000000938_FGR      -1.567461        -0.1777691       -0.6055767      \n",
       "                         HPSI0114i-iisa_3 HPSI0114i-joxm_1 HPSI0114i-kolf_2\n",
       "ENSG00000000003_TSPAN6    6.2049043        6.4136346        6.3794240      \n",
       "ENSG00000000005_TNMD      1.4846523        1.2493527        1.4316536      \n",
       "ENSG00000000419_DPM1      6.4412406        6.4584660        6.5721151      \n",
       "ENSG00000000457_SCYL3     2.4962583        2.2587505        1.8163995      \n",
       "ENSG00000000460_C1orf112  4.6588062        4.2474378        4.6036446      \n",
       "ENSG00000000938_FGR      -0.6931276       -0.2360887       -0.6081928      \n",
       "                         HPSI0114i-kolf_3 ... HPSI0516i-eitu_4 HPSI0516i-goek_4\n",
       "ENSG00000000003_TSPAN6    6.0982380       ...  4.7023961        6.1149095      \n",
       "ENSG00000000005_TNMD      1.4975600       ... -0.6699662        1.6624273      \n",
       "ENSG00000000419_DPM1      6.4799760       ...  4.8197038        6.3267307      \n",
       "ENSG00000000457_SCYL3     2.2621010       ...  1.9565996        1.9252852      \n",
       "ENSG00000000460_C1orf112  4.0224097       ...  2.7470801        4.6034535      \n",
       "ENSG00000000938_FGR      -0.6951849       ... -1.2646136       -0.9360776      \n",
       "                         HPSI0516i-hapz_2 HPSI0516i-hapz_3 HPSI0516i-iool_4\n",
       "ENSG00000000003_TSPAN6    6.57452770       6.1132145        6.2374677      \n",
       "ENSG00000000005_TNMD      0.05885042       1.5629860        1.9526607      \n",
       "ENSG00000000419_DPM1      6.40022473       6.5999318        6.5161226      \n",
       "ENSG00000000457_SCYL3     2.30901525       2.0644377        2.1351029      \n",
       "ENSG00000000460_C1orf112  4.91861630       4.9475882        4.7577833      \n",
       "ENSG00000000938_FGR      -0.50224959      -0.9039374       -0.8155414      \n",
       "                         HPSI0516i-iool_6 HPSI0516i-oazw_3 HPSI0516i-oazw_4\n",
       "ENSG00000000003_TSPAN6    6.4816297        6.3242236        6.7140318      \n",
       "ENSG00000000005_TNMD      0.4264122        2.0207997        0.9451023      \n",
       "ENSG00000000419_DPM1      6.4691210        6.5576157        6.5994284      \n",
       "ENSG00000000457_SCYL3     2.2461685        2.0773365        2.5382794      \n",
       "ENSG00000000460_C1orf112  4.9104630        5.0092311        5.1485615      \n",
       "ENSG00000000938_FGR      -1.1706325       -0.8873781       -0.8635696      \n",
       "                         HPSI0516i-pews_2 HPSI0516i-pews_3\n",
       "ENSG00000000003_TSPAN6    6.765941         6.5507389      \n",
       "ENSG00000000005_TNMD      3.115977         0.7879407      \n",
       "ENSG00000000419_DPM1      6.660242         6.5900378      \n",
       "ENSG00000000457_SCYL3     2.181280         2.0659557      \n",
       "ENSG00000000460_C1orf112  4.999442         4.7960390      \n",
       "ENSG00000000938_FGR      -1.576341        -1.4254717      "
      ]
     },
     "metadata": {},
     "output_type": "display_data"
    }
   ],
   "source": [
    "logcpm_bulk <- edgeR::cpm(counts(bulk), prior.count = 2, log = TRUE)\n",
    "newcols <- gsub(\".*/quant_salmon/*\",\"\",colnames(logcpm_bulk))\n",
    "cols <- gsub(\"*.hs.*\",\"\",newcols)\n",
    "colnames(logcpm_bulk) <- cols\n",
    "head(logcpm_bulk)"
   ]
  },
  {
   "cell_type": "code",
   "execution_count": 5,
   "metadata": {},
   "outputs": [],
   "source": [
    "cpm_bulk = counts(bulk)\n",
    "newcols <- gsub(\".*/quant_salmon/*\",\"\",colnames(cpm_bulk))\n",
    "cols <- gsub(\"*.hs.*\",\"\",newcols)\n",
    "colnames(cpm_bulk) <- cols"
   ]
  },
  {
   "cell_type": "code",
   "execution_count": 6,
   "metadata": {},
   "outputs": [
    {
     "data": {
      "text/html": [
       "676"
      ],
      "text/latex": [
       "676"
      ],
      "text/markdown": [
       "676"
      ],
      "text/plain": [
       "[1] 676"
      ]
     },
     "metadata": {},
     "output_type": "display_data"
    }
   ],
   "source": [
    "ncol(cpm_bulk)"
   ]
  },
  {
   "cell_type": "code",
   "execution_count": 7,
   "metadata": {},
   "outputs": [
    {
     "data": {
      "text/html": [
       "<ol class=list-inline>\n",
       "\t<li>'HPSI0114i-bezi_1'</li>\n",
       "\t<li>'HPSI0114i-bezi_3'</li>\n",
       "\t<li>'HPSI0114i-eipl_1'</li>\n",
       "\t<li>'HPSI0114i-eipl_3'</li>\n",
       "\t<li>'HPSI0114i-fikt_3'</li>\n",
       "\t<li>'HPSI0114i-iisa_1'</li>\n",
       "</ol>\n"
      ],
      "text/latex": [
       "\\begin{enumerate*}\n",
       "\\item 'HPSI0114i-bezi\\_1'\n",
       "\\item 'HPSI0114i-bezi\\_3'\n",
       "\\item 'HPSI0114i-eipl\\_1'\n",
       "\\item 'HPSI0114i-eipl\\_3'\n",
       "\\item 'HPSI0114i-fikt\\_3'\n",
       "\\item 'HPSI0114i-iisa\\_1'\n",
       "\\end{enumerate*}\n"
      ],
      "text/markdown": [
       "1. 'HPSI0114i-bezi_1'\n",
       "2. 'HPSI0114i-bezi_3'\n",
       "3. 'HPSI0114i-eipl_1'\n",
       "4. 'HPSI0114i-eipl_3'\n",
       "5. 'HPSI0114i-fikt_3'\n",
       "6. 'HPSI0114i-iisa_1'\n",
       "\n",
       "\n"
      ],
      "text/plain": [
       "[1] \"HPSI0114i-bezi_1\" \"HPSI0114i-bezi_3\" \"HPSI0114i-eipl_1\" \"HPSI0114i-eipl_3\"\n",
       "[5] \"HPSI0114i-fikt_3\" \"HPSI0114i-iisa_1\""
      ]
     },
     "metadata": {},
     "output_type": "display_data"
    },
    {
     "data": {
      "text/html": [
       "<ol class=list-inline>\n",
       "\t<li>'bezi_1'</li>\n",
       "\t<li>'bezi_3'</li>\n",
       "\t<li>'eipl_1'</li>\n",
       "\t<li>'eipl_3'</li>\n",
       "\t<li>'fikt_3'</li>\n",
       "\t<li>'iisa_1'</li>\n",
       "</ol>\n"
      ],
      "text/latex": [
       "\\begin{enumerate*}\n",
       "\\item 'bezi\\_1'\n",
       "\\item 'bezi\\_3'\n",
       "\\item 'eipl\\_1'\n",
       "\\item 'eipl\\_3'\n",
       "\\item 'fikt\\_3'\n",
       "\\item 'iisa\\_1'\n",
       "\\end{enumerate*}\n"
      ],
      "text/markdown": [
       "1. 'bezi_1'\n",
       "2. 'bezi_3'\n",
       "3. 'eipl_1'\n",
       "4. 'eipl_3'\n",
       "5. 'fikt_3'\n",
       "6. 'iisa_1'\n",
       "\n",
       "\n"
      ],
      "text/plain": [
       "[1] \"bezi_1\" \"bezi_3\" \"eipl_1\" \"eipl_3\" \"fikt_3\" \"iisa_1\""
      ]
     },
     "metadata": {},
     "output_type": "display_data"
    },
    {
     "data": {
      "text/html": [
       "462"
      ],
      "text/latex": [
       "462"
      ],
      "text/markdown": [
       "462"
      ],
      "text/plain": [
       "[1] 462"
      ]
     },
     "metadata": {},
     "output_type": "display_data"
    }
   ],
   "source": [
    "head(colnames(cpm_bulk))\n",
    "head(gsub(\".*-\",\"\",colnames(cpm_bulk)))\n",
    "length(unique(gsub(\"_[0-9]\",\"\",gsub(\".*-\",\"\",colnames(cpm_bulk)))))"
   ]
  },
  {
   "cell_type": "code",
   "execution_count": null,
   "metadata": {},
   "outputs": [],
   "source": []
  },
  {
   "cell_type": "code",
   "execution_count": 8,
   "metadata": {},
   "outputs": [
    {
     "data": {
      "text/html": [
       "<table>\n",
       "<thead><tr><th></th><th scope=col>donor</th><th scope=col>total_reads</th></tr></thead>\n",
       "<tbody>\n",
       "\t<tr><th scope=row>HPSI0114i-bezi_1</th><td>HPSI0114i-bezi_1</td><td>35803089        </td></tr>\n",
       "\t<tr><th scope=row>HPSI0114i-bezi_3</th><td>HPSI0114i-bezi_3</td><td>37979887        </td></tr>\n",
       "</tbody>\n",
       "</table>\n"
      ],
      "text/latex": [
       "\\begin{tabular}{r|ll}\n",
       "  & donor & total\\_reads\\\\\n",
       "\\hline\n",
       "\tHPSI0114i-bezi\\_1 & HPSI0114i-bezi\\_1 & 35803089          \\\\\n",
       "\tHPSI0114i-bezi\\_3 & HPSI0114i-bezi\\_3 & 37979887          \\\\\n",
       "\\end{tabular}\n"
      ],
      "text/markdown": [
       "\n",
       "| <!--/--> | donor | total_reads |\n",
       "|---|---|---|\n",
       "| HPSI0114i-bezi_1 | HPSI0114i-bezi_1 | 35803089         |\n",
       "| HPSI0114i-bezi_3 | HPSI0114i-bezi_3 | 37979887         |\n",
       "\n"
      ],
      "text/plain": [
       "                 donor            total_reads\n",
       "HPSI0114i-bezi_1 HPSI0114i-bezi_1 35803089   \n",
       "HPSI0114i-bezi_3 HPSI0114i-bezi_3 37979887   "
      ]
     },
     "metadata": {},
     "output_type": "display_data"
    }
   ],
   "source": [
    "library(ggplot2)\n",
    "df = data.frame(donor = colnames(cpm_bulk), total_reads = colSums(cpm_bulk))\n",
    "head(df,2)"
   ]
  },
  {
   "cell_type": "code",
   "execution_count": 9,
   "metadata": {},
   "outputs": [
    {
     "data": {
      "text/html": [
       "43.6324004177251"
      ],
      "text/latex": [
       "43.6324004177251"
      ],
      "text/markdown": [
       "43.6324004177251"
      ],
      "text/plain": [
       "[1] 43.6324"
      ]
     },
     "metadata": {},
     "output_type": "display_data"
    }
   ],
   "source": [
    "mean(df$total_reads)/1000000"
   ]
  },
  {
   "cell_type": "code",
   "execution_count": 17,
   "metadata": {},
   "outputs": [
    {
     "name": "stderr",
     "output_type": "stream",
     "text": [
      "`stat_bin()` using `bins = 30`. Pick better value with `binwidth`.\n"
     ]
    },
    {
     "data": {
      "image/png": "[encoded data removed]",
      "text/plain": [
       "plot without title"
      ]
     },
     "metadata": {},
     "output_type": "display_data"
    }
   ],
   "source": [
    "options(repr.plot.width = 8, repr.plot.height = 6)\n",
    "ggplot(df, aes(x=log(total_reads))) + geom_histogram(alpha = 0.8, col = \"lightgrey\") + \n",
    "    xlab(\"Log total counts\") + ylab(\"Number of donors\") +\n",
    "    coord_cartesian(xlim = c(12, 20)) "
   ]
  },
  {
   "cell_type": "code",
   "execution_count": 10,
   "metadata": {},
   "outputs": [],
   "source": [
    "# load sceset\n",
    "sce = readRDS(\"/hps/nobackup/hipsci/scratch/singlecell_endodiff/data_processed/merged/20180618/sce_merged_afterqc_filt_allexpts.rds\")"
   ]
  },
  {
   "cell_type": "code",
   "execution_count": 11,
   "metadata": {},
   "outputs": [],
   "source": [
    "sce_0 = sce[,sce$day == 'day0']"
   ]
  },
  {
   "cell_type": "code",
   "execution_count": 12,
   "metadata": {},
   "outputs": [
    {
     "data": {
      "text/html": [
       "<ol class=list-inline>\n",
       "\t<li>'HPSI0114i-zapk_3'</li>\n",
       "\t<li>'HPSI0214i-wibj_2'</li>\n",
       "\t<li>'HPSI1013i-jogf_2'</li>\n",
       "\t<li>'HPSI0214i-pelm_3'</li>\n",
       "\t<li>'HPSI0114i-vass_1'</li>\n",
       "\t<li>'HPSI0214i-heth_1'</li>\n",
       "</ol>\n"
      ],
      "text/latex": [
       "\\begin{enumerate*}\n",
       "\\item 'HPSI0114i-zapk\\_3'\n",
       "\\item 'HPSI0214i-wibj\\_2'\n",
       "\\item 'HPSI1013i-jogf\\_2'\n",
       "\\item 'HPSI0214i-pelm\\_3'\n",
       "\\item 'HPSI0114i-vass\\_1'\n",
       "\\item 'HPSI0214i-heth\\_1'\n",
       "\\end{enumerate*}\n"
      ],
      "text/markdown": [
       "1. 'HPSI0114i-zapk_3'\n",
       "2. 'HPSI0214i-wibj_2'\n",
       "3. 'HPSI1013i-jogf_2'\n",
       "4. 'HPSI0214i-pelm_3'\n",
       "5. 'HPSI0114i-vass_1'\n",
       "6. 'HPSI0214i-heth_1'\n",
       "\n",
       "\n"
      ],
      "text/plain": [
       "[1] \"HPSI0114i-zapk_3\" \"HPSI0214i-wibj_2\" \"HPSI1013i-jogf_2\" \"HPSI0214i-pelm_3\"\n",
       "[5] \"HPSI0114i-vass_1\" \"HPSI0214i-heth_1\""
      ]
     },
     "metadata": {},
     "output_type": "display_data"
    }
   ],
   "source": [
    "sc_donors = unique(sce_0$donor_long_id)\n",
    "head(sc_donors)"
   ]
  },
  {
   "cell_type": "code",
   "execution_count": 13,
   "metadata": {},
   "outputs": [
    {
     "data": {
      "text/html": [
       "<table>\n",
       "<thead><tr><th></th><th scope=col>HPSI0114i-bezi_1</th><th scope=col>HPSI0114i-bezi_3</th><th scope=col>HPSI0114i-eipl_1</th><th scope=col>HPSI0114i-eipl_3</th><th scope=col>HPSI0114i-fikt_3</th><th scope=col>HPSI0114i-iisa_1</th><th scope=col>HPSI0114i-iisa_3</th><th scope=col>HPSI0114i-joxm_1</th><th scope=col>HPSI0114i-kolf_2</th><th scope=col>HPSI0114i-kolf_3</th><th scope=col>...</th><th scope=col>HPSI0516i-eitu_4</th><th scope=col>HPSI0516i-goek_4</th><th scope=col>HPSI0516i-hapz_2</th><th scope=col>HPSI0516i-hapz_3</th><th scope=col>HPSI0516i-iool_4</th><th scope=col>HPSI0516i-iool_6</th><th scope=col>HPSI0516i-oazw_3</th><th scope=col>HPSI0516i-oazw_4</th><th scope=col>HPSI0516i-pews_2</th><th scope=col>HPSI0516i-pews_3</th></tr></thead>\n",
       "<tbody>\n",
       "\t<tr><th scope=row>ENSG00000000003_TSPAN6</th><td>3846.25631</td><td>6291.05638</td><td>2971.2791 </td><td>4157.55524</td><td>3403.30075</td><td>2363.40241</td><td>3610.09865</td><td>2699.54533</td><td>3121.31608</td><td>2655.48022</td><td>...       </td><td>722.38916 </td><td>3291.50949</td><td>5094.40216</td><td>3338.3176 </td><td>3894.84862</td><td>4275.32679</td><td>4250.63250</td><td>5716.46845</td><td>5805.35729</td><td>4554.68409</td></tr>\n",
       "\t<tr><th scope=row>ENSG00000000005_TNMD</th><td>  82.90442</td><td> 229.72857</td><td> 203.7413 </td><td> 139.93106</td><td> 126.94790</td><td>  85.56223</td><td> 134.79670</td><td>  73.86948</td><td>  99.47332</td><td> 107.74167</td><td>...       </td><td> 16.19598 </td><td> 148.25761</td><td>  53.25291</td><td> 140.3685 </td><td> 197.57210</td><td>  62.13246</td><td> 212.96536</td><td> 102.38398</td><td> 460.21508</td><td>  81.69777</td></tr>\n",
       "\t<tr><th scope=row>ENSG00000000419_DPM1</th><td>3096.45523</td><td>3541.10209</td><td>2679.1164 </td><td>3664.41159</td><td>3999.96503</td><td>2721.34513</td><td>4253.08620</td><td>2784.79593</td><td>3567.57794</td><td>3460.39176</td><td>...       </td><td>783.68978 </td><td>3812.40385</td><td>4514.35767</td><td>4678.7147 </td><td>4725.20244</td><td>4238.39937</td><td>4997.45313</td><td>5279.74614</td><td>5395.06231</td><td>4680.52020</td></tr>\n",
       "\t<tr><th scope=row>ENSG00000000457_SCYL3</th><td> 174.80602</td><td> 290.01557</td><td> 192.8760 </td><td> 183.47763</td><td> 189.47968</td><td> 162.30679</td><td> 274.05183</td><td> 150.17575</td><td> 130.40085</td><td> 184.27716</td><td>...       </td><td>106.61300 </td><td> 178.32273</td><td> 262.55426</td><td> 199.6303 </td><td> 224.52463</td><td> 224.89241</td><td> 221.57405</td><td> 313.94256</td><td> 239.59619</td><td> 201.29632</td></tr>\n",
       "\t<tr><th scope=row>ENSG00000000460_C1orf112</th><td> 642.43642</td><td> 851.36011</td><td> 541.6634 </td><td> 850.49635</td><td>1062.96472</td><td> 764.21683</td><td>1234.74801</td><td> 600.32251</td><td> 910.32090</td><td> 628.52192</td><td>...       </td><td>185.33285 </td><td>1153.10585</td><td>1614.96996</td><td>1486.8983 </td><td>1395.04647</td><td>1437.34617</td><td>1706.99142</td><td>1929.75587</td><td>1704.58944</td><td>1348.14372</td></tr>\n",
       "\t<tr><th scope=row>ENSG00000000938_FGR</th><td>  22.49792</td><td>  25.27714</td><td>  19.2920 </td><td>  11.90576</td><td>  30.83076</td><td>  18.85456</td><td>  28.04363</td><td>  25.44808</td><td>  22.88955</td><td>  22.17787</td><td>...       </td><td> 10.29471 </td><td>  22.66004</td><td>  35.30419</td><td>  23.5775 </td><td>  26.98097</td><td>  19.06929</td><td>  26.26117</td><td>  27.44168</td><td>  15.44898</td><td>  15.86835</td></tr>\n",
       "</tbody>\n",
       "</table>\n"
      ],
      "text/latex": [
       "\\begin{tabular}{r|llllllllllllllllllllllllllllllllllllllllllllllllllllllllllllllllllllllllllllllllllllllllllllllllllllllllllllllllllllllllllllllllllllllllllllllllllllllllllllllllllllllllllllllllllllllllllllllllllllllllllllllllllllllllllllllllllllllllllllllllllllllllllllllllllllllllllllllllllllllllllllllllllllllllllllllllllllllllllllllllllllllllllllllllllllllllllllllllllllllllllllllllllllllllllllllllllllllllllllllllllllllllllllllllllllllllllllllllllllllllllllllllllllllllllllllllllllllllllllllllllllllllllllllllllllllllllllllllllllllllllllllllllllllllllllllllllllllllllllllllllllllllllllllllllllllllllllllllllllllllllllllllllllllllllllllllllllllllllllllllllllllllllllllllllllllllllllllllllll}\n",
       "  & HPSI0114i-bezi\\_1 & HPSI0114i-bezi\\_3 & HPSI0114i-eipl\\_1 & HPSI0114i-eipl\\_3 & HPSI0114i-fikt\\_3 & HPSI0114i-iisa\\_1 & HPSI0114i-iisa\\_3 & HPSI0114i-joxm\\_1 & HPSI0114i-kolf\\_2 & HPSI0114i-kolf\\_3 & ... & HPSI0516i-eitu\\_4 & HPSI0516i-goek\\_4 & HPSI0516i-hapz\\_2 & HPSI0516i-hapz\\_3 & HPSI0516i-iool\\_4 & HPSI0516i-iool\\_6 & HPSI0516i-oazw\\_3 & HPSI0516i-oazw\\_4 & HPSI0516i-pews\\_2 & HPSI0516i-pews\\_3\\\\\n",
       "\\hline\n",
       "\tENSG00000000003\\_TSPAN6 & 3846.25631 & 6291.05638 & 2971.2791  & 4157.55524 & 3403.30075 & 2363.40241 & 3610.09865 & 2699.54533 & 3121.31608 & 2655.48022 & ...        & 722.38916  & 3291.50949 & 5094.40216 & 3338.3176  & 3894.84862 & 4275.32679 & 4250.63250 & 5716.46845 & 5805.35729 & 4554.68409\\\\\n",
       "\tENSG00000000005\\_TNMD &   82.90442 &  229.72857 &  203.7413  &  139.93106 &  126.94790 &   85.56223 &  134.79670 &   73.86948 &   99.47332 &  107.74167 & ...        &  16.19598  &  148.25761 &   53.25291 &  140.3685  &  197.57210 &   62.13246 &  212.96536 &  102.38398 &  460.21508 &   81.69777\\\\\n",
       "\tENSG00000000419\\_DPM1 & 3096.45523 & 3541.10209 & 2679.1164  & 3664.41159 & 3999.96503 & 2721.34513 & 4253.08620 & 2784.79593 & 3567.57794 & 3460.39176 & ...        & 783.68978  & 3812.40385 & 4514.35767 & 4678.7147  & 4725.20244 & 4238.39937 & 4997.45313 & 5279.74614 & 5395.06231 & 4680.52020\\\\\n",
       "\tENSG00000000457\\_SCYL3 &  174.80602 &  290.01557 &  192.8760  &  183.47763 &  189.47968 &  162.30679 &  274.05183 &  150.17575 &  130.40085 &  184.27716 & ...        & 106.61300  &  178.32273 &  262.55426 &  199.6303  &  224.52463 &  224.89241 &  221.57405 &  313.94256 &  239.59619 &  201.29632\\\\\n",
       "\tENSG00000000460\\_C1orf112 &  642.43642 &  851.36011 &  541.6634  &  850.49635 & 1062.96472 &  764.21683 & 1234.74801 &  600.32251 &  910.32090 &  628.52192 & ...        & 185.33285  & 1153.10585 & 1614.96996 & 1486.8983  & 1395.04647 & 1437.34617 & 1706.99142 & 1929.75587 & 1704.58944 & 1348.14372\\\\\n",
       "\tENSG00000000938\\_FGR &   22.49792 &   25.27714 &   19.2920  &   11.90576 &   30.83076 &   18.85456 &   28.04363 &   25.44808 &   22.88955 &   22.17787 & ...        &  10.29471  &   22.66004 &   35.30419 &   23.5775  &   26.98097 &   19.06929 &   26.26117 &   27.44168 &   15.44898 &   15.86835\\\\\n",
       "\\end{tabular}\n"
      ],
      "text/markdown": [
       "\n",
       "| <!--/--> | HPSI0114i-bezi_1 | HPSI0114i-bezi_3 | HPSI0114i-eipl_1 | HPSI0114i-eipl_3 | HPSI0114i-fikt_3 | HPSI0114i-iisa_1 | HPSI0114i-iisa_3 | HPSI0114i-joxm_1 | HPSI0114i-kolf_2 | HPSI0114i-kolf_3 | ... | HPSI0516i-eitu_4 | HPSI0516i-goek_4 | HPSI0516i-hapz_2 | HPSI0516i-hapz_3 | HPSI0516i-iool_4 | HPSI0516i-iool_6 | HPSI0516i-oazw_3 | HPSI0516i-oazw_4 | HPSI0516i-pews_2 | HPSI0516i-pews_3 |\n",
       "|---|---|---|---|---|---|---|---|---|---|---|---|---|---|---|---|---|---|---|---|---|---|\n",
       "| ENSG00000000003_TSPAN6 | 3846.25631 | 6291.05638 | 2971.2791  | 4157.55524 | 3403.30075 | 2363.40241 | 3610.09865 | 2699.54533 | 3121.31608 | 2655.48022 | ...        | 722.38916  | 3291.50949 | 5094.40216 | 3338.3176  | 3894.84862 | 4275.32679 | 4250.63250 | 5716.46845 | 5805.35729 | 4554.68409 |\n",
       "| ENSG00000000005_TNMD |   82.90442 |  229.72857 |  203.7413  |  139.93106 |  126.94790 |   85.56223 |  134.79670 |   73.86948 |   99.47332 |  107.74167 | ...        |  16.19598  |  148.25761 |   53.25291 |  140.3685  |  197.57210 |   62.13246 |  212.96536 |  102.38398 |  460.21508 |   81.69777 |\n",
       "| ENSG00000000419_DPM1 | 3096.45523 | 3541.10209 | 2679.1164  | 3664.41159 | 3999.96503 | 2721.34513 | 4253.08620 | 2784.79593 | 3567.57794 | 3460.39176 | ...        | 783.68978  | 3812.40385 | 4514.35767 | 4678.7147  | 4725.20244 | 4238.39937 | 4997.45313 | 5279.74614 | 5395.06231 | 4680.52020 |\n",
       "| ENSG00000000457_SCYL3 |  174.80602 |  290.01557 |  192.8760  |  183.47763 |  189.47968 |  162.30679 |  274.05183 |  150.17575 |  130.40085 |  184.27716 | ...        | 106.61300  |  178.32273 |  262.55426 |  199.6303  |  224.52463 |  224.89241 |  221.57405 |  313.94256 |  239.59619 |  201.29632 |\n",
       "| ENSG00000000460_C1orf112 |  642.43642 |  851.36011 |  541.6634  |  850.49635 | 1062.96472 |  764.21683 | 1234.74801 |  600.32251 |  910.32090 |  628.52192 | ...        | 185.33285  | 1153.10585 | 1614.96996 | 1486.8983  | 1395.04647 | 1437.34617 | 1706.99142 | 1929.75587 | 1704.58944 | 1348.14372 |\n",
       "| ENSG00000000938_FGR |   22.49792 |   25.27714 |   19.2920  |   11.90576 |   30.83076 |   18.85456 |   28.04363 |   25.44808 |   22.88955 |   22.17787 | ...        |  10.29471  |   22.66004 |   35.30419 |   23.5775  |   26.98097 |   19.06929 |   26.26117 |   27.44168 |   15.44898 |   15.86835 |\n",
       "\n"
      ],
      "text/plain": [
       "                         HPSI0114i-bezi_1 HPSI0114i-bezi_3 HPSI0114i-eipl_1\n",
       "ENSG00000000003_TSPAN6   3846.25631       6291.05638       2971.2791       \n",
       "ENSG00000000005_TNMD       82.90442        229.72857        203.7413       \n",
       "ENSG00000000419_DPM1     3096.45523       3541.10209       2679.1164       \n",
       "ENSG00000000457_SCYL3     174.80602        290.01557        192.8760       \n",
       "ENSG00000000460_C1orf112  642.43642        851.36011        541.6634       \n",
       "ENSG00000000938_FGR        22.49792         25.27714         19.2920       \n",
       "                         HPSI0114i-eipl_3 HPSI0114i-fikt_3 HPSI0114i-iisa_1\n",
       "ENSG00000000003_TSPAN6   4157.55524       3403.30075       2363.40241      \n",
       "ENSG00000000005_TNMD      139.93106        126.94790         85.56223      \n",
       "ENSG00000000419_DPM1     3664.41159       3999.96503       2721.34513      \n",
       "ENSG00000000457_SCYL3     183.47763        189.47968        162.30679      \n",
       "ENSG00000000460_C1orf112  850.49635       1062.96472        764.21683      \n",
       "ENSG00000000938_FGR        11.90576         30.83076         18.85456      \n",
       "                         HPSI0114i-iisa_3 HPSI0114i-joxm_1 HPSI0114i-kolf_2\n",
       "ENSG00000000003_TSPAN6   3610.09865       2699.54533       3121.31608      \n",
       "ENSG00000000005_TNMD      134.79670         73.86948         99.47332      \n",
       "ENSG00000000419_DPM1     4253.08620       2784.79593       3567.57794      \n",
       "ENSG00000000457_SCYL3     274.05183        150.17575        130.40085      \n",
       "ENSG00000000460_C1orf112 1234.74801        600.32251        910.32090      \n",
       "ENSG00000000938_FGR        28.04363         25.44808         22.88955      \n",
       "                         HPSI0114i-kolf_3 ... HPSI0516i-eitu_4 HPSI0516i-goek_4\n",
       "ENSG00000000003_TSPAN6   2655.48022       ... 722.38916        3291.50949      \n",
       "ENSG00000000005_TNMD      107.74167       ...  16.19598         148.25761      \n",
       "ENSG00000000419_DPM1     3460.39176       ... 783.68978        3812.40385      \n",
       "ENSG00000000457_SCYL3     184.27716       ... 106.61300         178.32273      \n",
       "ENSG00000000460_C1orf112  628.52192       ... 185.33285        1153.10585      \n",
       "ENSG00000000938_FGR        22.17787       ...  10.29471          22.66004      \n",
       "                         HPSI0516i-hapz_2 HPSI0516i-hapz_3 HPSI0516i-iool_4\n",
       "ENSG00000000003_TSPAN6   5094.40216       3338.3176        3894.84862      \n",
       "ENSG00000000005_TNMD       53.25291        140.3685         197.57210      \n",
       "ENSG00000000419_DPM1     4514.35767       4678.7147        4725.20244      \n",
       "ENSG00000000457_SCYL3     262.55426        199.6303         224.52463      \n",
       "ENSG00000000460_C1orf112 1614.96996       1486.8983        1395.04647      \n",
       "ENSG00000000938_FGR        35.30419         23.5775          26.98097      \n",
       "                         HPSI0516i-iool_6 HPSI0516i-oazw_3 HPSI0516i-oazw_4\n",
       "ENSG00000000003_TSPAN6   4275.32679       4250.63250       5716.46845      \n",
       "ENSG00000000005_TNMD       62.13246        212.96536        102.38398      \n",
       "ENSG00000000419_DPM1     4238.39937       4997.45313       5279.74614      \n",
       "ENSG00000000457_SCYL3     224.89241        221.57405        313.94256      \n",
       "ENSG00000000460_C1orf112 1437.34617       1706.99142       1929.75587      \n",
       "ENSG00000000938_FGR        19.06929         26.26117         27.44168      \n",
       "                         HPSI0516i-pews_2 HPSI0516i-pews_3\n",
       "ENSG00000000003_TSPAN6   5805.35729       4554.68409      \n",
       "ENSG00000000005_TNMD      460.21508         81.69777      \n",
       "ENSG00000000419_DPM1     5395.06231       4680.52020      \n",
       "ENSG00000000457_SCYL3     239.59619        201.29632      \n",
       "ENSG00000000460_C1orf112 1704.58944       1348.14372      \n",
       "ENSG00000000938_FGR        15.44898         15.86835      "
      ]
     },
     "metadata": {},
     "output_type": "display_data"
    }
   ],
   "source": [
    "head(cpm_bulk)"
   ]
  },
  {
   "cell_type": "code",
   "execution_count": 14,
   "metadata": {},
   "outputs": [
    {
     "data": {
      "text/html": [
       "109"
      ],
      "text/latex": [
       "109"
      ],
      "text/markdown": [
       "109"
      ],
      "text/plain": [
       "[1] 109"
      ]
     },
     "metadata": {},
     "output_type": "display_data"
    }
   ],
   "source": [
    "cpm_bulk_sc = cpm_bulk[,colnames(cpm_bulk) %in% sc_donors]\n",
    "ncol(cpm_bulk_sc)"
   ]
  },
  {
   "cell_type": "code",
   "execution_count": 15,
   "metadata": {},
   "outputs": [
    {
     "data": {
      "text/html": [
       "'HPSI0514i-tavh_2'"
      ],
      "text/latex": [
       "'HPSI0514i-tavh\\_2'"
      ],
      "text/markdown": [
       "'HPSI0514i-tavh_2'"
      ],
      "text/plain": [
       "[1] \"HPSI0514i-tavh_2\""
      ]
     },
     "metadata": {},
     "output_type": "display_data"
    }
   ],
   "source": [
    "colnames(cpm_bulk)[grep(\"tavh_2\",colnames(cpm_bulk))]"
   ]
  },
  {
   "cell_type": "code",
   "execution_count": 16,
   "metadata": {},
   "outputs": [],
   "source": [
    "df = data.frame(donor = colnames(cpm_bulk_sc), total_reads = colSums(cpm_bulk_sc))"
   ]
  },
  {
   "cell_type": "code",
   "execution_count": 20,
   "metadata": {},
   "outputs": [
    {
     "data": {
      "text/html": [
       "43.4542079241611"
      ],
      "text/latex": [
       "43.4542079241611"
      ],
      "text/markdown": [
       "43.4542079241611"
      ],
      "text/plain": [
       "[1] 43.45421"
      ]
     },
     "metadata": {},
     "output_type": "display_data"
    },
    {
     "data": {
      "text/html": [
       "44.1154632884014"
      ],
      "text/latex": [
       "44.1154632884014"
      ],
      "text/markdown": [
       "44.1154632884014"
      ],
      "text/plain": [
       "[1] 44.11546"
      ]
     },
     "metadata": {},
     "output_type": "display_data"
    }
   ],
   "source": [
    "mean(df$total_reads)/1000000\n",
    "median(df$total_reads)/1000000"
   ]
  },
  {
   "cell_type": "code",
   "execution_count": 27,
   "metadata": {},
   "outputs": [
    {
     "name": "stderr",
     "output_type": "stream",
     "text": [
      "`stat_bin()` using `bins = 30`. Pick better value with `binwidth`.\n"
     ]
    },
    {
     "data": {
      "image/png": "[encoded data removed]",
      "text/plain": [
       "plot without title"
      ]
     },
     "metadata": {},
     "output_type": "display_data"
    }
   ],
   "source": [
    "options(repr.plot.width = 8, repr.plot.height = 6)\n",
    "ggplot(df, aes(x=log(total_reads))) + geom_histogram(alpha = 0.8, col = \"lightgrey\") + \n",
    "    xlab(\"Log total counts\") + ylab(\"Number of donors\") +\n",
    "    coord_cartesian(xlim = c(12, 20), ylim = c(0,21)) "
   ]
  },
  {
   "cell_type": "code",
   "execution_count": 19,
   "metadata": {},
   "outputs": [
    {
     "name": "stderr",
     "output_type": "stream",
     "text": [
      "`stat_bin()` using `bins = 30`. Pick better value with `binwidth`.\n"
     ]
    },
    {
     "data": {
      "image/png": "[encoded data removed]",
      "text/plain": [
       "plot without title"
      ]
     },
     "metadata": {},
     "output_type": "display_data"
    }
   ],
   "source": [
    "options(repr.plot.width = 8, repr.plot.height = 6)\n",
    "ggplot(df, aes(x=log(total_reads))) + geom_histogram(alpha = 1, col = \"black\", fill = \"slategray3\") + \n",
    "    xlab(\"Log total counts\") + ylab(\"Number of donors\") +\n",
    "    coord_cartesian(xlim = c(12, 20), ylim = c(0,21)) "
   ]
  },
  {
   "cell_type": "code",
   "execution_count": null,
   "metadata": {},
   "outputs": [],
   "source": []
  }
 ],
 "metadata": {
  "kernelspec": {
   "display_name": "R",
   "language": "R",
   "name": "ir"
  },
  "language_info": {
   "codemirror_mode": "r",
   "file_extension": ".r",
   "mimetype": "text/x-r-source",
   "name": "R",
   "pygments_lexer": "r",
   "version": "3.6.1"
  }
 },
 "nbformat": 4,
 "nbformat_minor": 4
}
