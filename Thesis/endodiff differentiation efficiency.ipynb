{
 "cells": [
  {
   "cell_type": "code",
   "execution_count": 6,
   "metadata": {},
   "outputs": [
    {
     "name": "stderr",
     "output_type": "stream",
     "text": [
      "\n",
      "Attaching package: ‘dplyr’\n",
      "\n",
      "The following objects are masked from ‘package:stats’:\n",
      "\n",
      "    filter, lag\n",
      "\n",
      "The following objects are masked from ‘package:base’:\n",
      "\n",
      "    intersect, setdiff, setequal, union\n",
      "\n"
     ]
    }
   ],
   "source": [
    "library(dplyr)"
   ]
  },
  {
   "cell_type": "code",
   "execution_count": 1,
   "metadata": {},
   "outputs": [
    {
     "data": {
      "text/html": [
       "<table>\n",
       "<thead><tr><th scope=col>timepoint1</th><th scope=col>gene1</th><th scope=col>timepoint2</th><th scope=col>gene2</th><th scope=col>coefficient</th><th scope=col>pval</th></tr></thead>\n",
       "<tbody>\n",
       "\t<tr><td>day1                </td><td>princ_curve_scaled01</td><td>day1                </td><td>pseudotime          </td><td>1.1162632           </td><td>2.591249e-87        </td></tr>\n",
       "\t<tr><td>day2                </td><td>princ_curve_scaled01</td><td>day2                </td><td>pseudotime          </td><td>0.9952129           </td><td>6.260132e-74        </td></tr>\n",
       "\t<tr><td>day0                </td><td>princ_curve_scaled01</td><td>day0                </td><td>pseudotime          </td><td>0.8314005           </td><td>4.829511e-63        </td></tr>\n",
       "\t<tr><td>day1                </td><td>princ_curve_frac    </td><td>day1                </td><td>pseudotime          </td><td>0.1901435           </td><td>7.754403e-60        </td></tr>\n",
       "\t<tr><td>day2                </td><td>pseudotime_frac     </td><td>day2                </td><td>pseudotime          </td><td>0.4731245           </td><td>1.293367e-47        </td></tr>\n",
       "\t<tr><td>day2                </td><td>princ_curve_frac    </td><td>day2                </td><td>pseudotime          </td><td>0.5812520           </td><td>8.365894e-43        </td></tr>\n",
       "</tbody>\n",
       "</table>\n"
      ],
      "text/latex": [
       "\\begin{tabular}{r|llllll}\n",
       " timepoint1 & gene1 & timepoint2 & gene2 & coefficient & pval\\\\\n",
       "\\hline\n",
       "\t day1                     & princ\\_curve\\_scaled01 & day1                     & pseudotime               & 1.1162632                & 2.591249e-87            \\\\\n",
       "\t day2                     & princ\\_curve\\_scaled01 & day2                     & pseudotime               & 0.9952129                & 6.260132e-74            \\\\\n",
       "\t day0                     & princ\\_curve\\_scaled01 & day0                     & pseudotime               & 0.8314005                & 4.829511e-63            \\\\\n",
       "\t day1                     & princ\\_curve\\_frac     & day1                     & pseudotime               & 0.1901435                & 7.754403e-60            \\\\\n",
       "\t day2                   & pseudotime\\_frac      & day2                   & pseudotime             & 0.4731245              & 1.293367e-47          \\\\\n",
       "\t day2                     & princ\\_curve\\_frac     & day2                     & pseudotime               & 0.5812520                & 8.365894e-43            \\\\\n",
       "\\end{tabular}\n"
      ],
      "text/markdown": [
       "\n",
       "| timepoint1 | gene1 | timepoint2 | gene2 | coefficient | pval |\n",
       "|---|---|---|---|---|---|\n",
       "| day1                 | princ_curve_scaled01 | day1                 | pseudotime           | 1.1162632            | 2.591249e-87         |\n",
       "| day2                 | princ_curve_scaled01 | day2                 | pseudotime           | 0.9952129            | 6.260132e-74         |\n",
       "| day0                 | princ_curve_scaled01 | day0                 | pseudotime           | 0.8314005            | 4.829511e-63         |\n",
       "| day1                 | princ_curve_frac     | day1                 | pseudotime           | 0.1901435            | 7.754403e-60         |\n",
       "| day2                 | pseudotime_frac      | day2                 | pseudotime           | 0.4731245            | 1.293367e-47         |\n",
       "| day2                 | princ_curve_frac     | day2                 | pseudotime           | 0.5812520            | 8.365894e-43         |\n",
       "\n"
      ],
      "text/plain": [
       "  timepoint1 gene1                timepoint2 gene2      coefficient\n",
       "1 day1       princ_curve_scaled01 day1       pseudotime 1.1162632  \n",
       "2 day2       princ_curve_scaled01 day2       pseudotime 0.9952129  \n",
       "3 day0       princ_curve_scaled01 day0       pseudotime 0.8314005  \n",
       "4 day1       princ_curve_frac     day1       pseudotime 0.1901435  \n",
       "5 day2       pseudotime_frac      day2       pseudotime 0.4731245  \n",
       "6 day2       princ_curve_frac     day2       pseudotime 0.5812520  \n",
       "  pval        \n",
       "1 2.591249e-87\n",
       "2 6.260132e-74\n",
       "3 4.829511e-63\n",
       "4 7.754403e-60\n",
       "5 1.293367e-47\n",
       "6 8.365894e-43"
      ]
     },
     "metadata": {},
     "output_type": "display_data"
    }
   ],
   "source": [
    "x_chrom_predict_filename = \"/nfs/leia/research/stegle/dseaton/hipsci/singlecell_endodiff/data/differentiation_prediction/differentiation_marker_LMM_w_donor_results.transcriptome_wide_scan_pseudotime.tsv\"\n",
    "x_chrom_predict = read.csv(x_chrom_predict_filename, sep = \"\\t\")\n",
    "head(x_chrom_predict)"
   ]
  },
  {
   "cell_type": "code",
   "execution_count": 2,
   "metadata": {},
   "outputs": [
    {
     "data": {
      "text/html": [
       "<table>\n",
       "<thead><tr><th></th><th scope=col>timepoint1</th><th scope=col>gene1</th><th scope=col>timepoint2</th><th scope=col>gene2</th><th scope=col>coefficient</th><th scope=col>pval</th><th scope=col>hgnc_symbol</th></tr></thead>\n",
       "<tbody>\n",
       "\t<tr><th scope=row>3888</th><td>day0        </td><td>GRPR        </td><td>day3        </td><td>pseudotime  </td><td>-0.06123211 </td><td>8.675658e-07</td><td>GRPR        </td></tr>\n",
       "\t<tr><th scope=row>4069</th><td>day0        </td><td>ZDHHC9      </td><td>day3        </td><td>pseudotime  </td><td>-0.04286353 </td><td>1.130310e-06</td><td>ZDHHC9      </td></tr>\n",
       "\t<tr><th scope=row>6191</th><td>day0        </td><td>GPM6B       </td><td>day3        </td><td>pseudotime  </td><td>-0.03571242 </td><td>1.170422e-05</td><td>GPM6B       </td></tr>\n",
       "\t<tr><th scope=row>6269</th><td>day0        </td><td>TMEM47      </td><td>day3        </td><td>pseudotime  </td><td>-0.04089212 </td><td>1.252561e-05</td><td>TMEM47      </td></tr>\n",
       "\t<tr><th scope=row>6613</th><td>day0        </td><td>MOSPD2      </td><td>day3        </td><td>pseudotime  </td><td>-0.05051760 </td><td>1.647873e-05</td><td>MOSPD2      </td></tr>\n",
       "\t<tr><th scope=row>6895</th><td>day0        </td><td>FAM92A1     </td><td>day3        </td><td>pseudotime  </td><td>-0.03788094 </td><td>2.079964e-05</td><td>FAM92A1     </td></tr>\n",
       "</tbody>\n",
       "</table>\n"
      ],
      "text/latex": [
       "\\begin{tabular}{r|lllllll}\n",
       "  & timepoint1 & gene1 & timepoint2 & gene2 & coefficient & pval & hgnc\\_symbol\\\\\n",
       "\\hline\n",
       "\t3888 & day0         & GRPR         & day3         & pseudotime   & -0.06123211  & 8.675658e-07 & GRPR        \\\\\n",
       "\t4069 & day0         & ZDHHC9       & day3         & pseudotime   & -0.04286353  & 1.130310e-06 & ZDHHC9      \\\\\n",
       "\t6191 & day0         & GPM6B        & day3         & pseudotime   & -0.03571242  & 1.170422e-05 & GPM6B       \\\\\n",
       "\t6269 & day0         & TMEM47       & day3         & pseudotime   & -0.04089212  & 1.252561e-05 & TMEM47      \\\\\n",
       "\t6613 & day0         & MOSPD2       & day3         & pseudotime   & -0.05051760  & 1.647873e-05 & MOSPD2      \\\\\n",
       "\t6895 & day0         & FAM92A1      & day3         & pseudotime   & -0.03788094  & 2.079964e-05 & FAM92A1     \\\\\n",
       "\\end{tabular}\n"
      ],
      "text/markdown": [
       "\n",
       "| <!--/--> | timepoint1 | gene1 | timepoint2 | gene2 | coefficient | pval | hgnc_symbol |\n",
       "|---|---|---|---|---|---|---|---|\n",
       "| 3888 | day0         | GRPR         | day3         | pseudotime   | -0.06123211  | 8.675658e-07 | GRPR         |\n",
       "| 4069 | day0         | ZDHHC9       | day3         | pseudotime   | -0.04286353  | 1.130310e-06 | ZDHHC9       |\n",
       "| 6191 | day0         | GPM6B        | day3         | pseudotime   | -0.03571242  | 1.170422e-05 | GPM6B        |\n",
       "| 6269 | day0         | TMEM47       | day3         | pseudotime   | -0.04089212  | 1.252561e-05 | TMEM47       |\n",
       "| 6613 | day0         | MOSPD2       | day3         | pseudotime   | -0.05051760  | 1.647873e-05 | MOSPD2       |\n",
       "| 6895 | day0         | FAM92A1      | day3         | pseudotime   | -0.03788094  | 2.079964e-05 | FAM92A1      |\n",
       "\n"
      ],
      "text/plain": [
       "     timepoint1 gene1   timepoint2 gene2      coefficient pval        \n",
       "3888 day0       GRPR    day3       pseudotime -0.06123211 8.675658e-07\n",
       "4069 day0       ZDHHC9  day3       pseudotime -0.04286353 1.130310e-06\n",
       "6191 day0       GPM6B   day3       pseudotime -0.03571242 1.170422e-05\n",
       "6269 day0       TMEM47  day3       pseudotime -0.04089212 1.252561e-05\n",
       "6613 day0       MOSPD2  day3       pseudotime -0.05051760 1.647873e-05\n",
       "6895 day0       FAM92A1 day3       pseudotime -0.03788094 2.079964e-05\n",
       "     hgnc_symbol\n",
       "3888 GRPR       \n",
       "4069 ZDHHC9     \n",
       "6191 GPM6B      \n",
       "6269 TMEM47     \n",
       "6613 MOSPD2     \n",
       "6895 FAM92A1    "
      ]
     },
     "metadata": {},
     "output_type": "display_data"
    },
    {
     "data": {
      "text/html": [
       "11252"
      ],
      "text/latex": [
       "11252"
      ],
      "text/markdown": [
       "11252"
      ],
      "text/plain": [
       "[1] 11252"
      ]
     },
     "metadata": {},
     "output_type": "display_data"
    }
   ],
   "source": [
    "x_chrom_predict_day0 = x_chrom_predict[x_chrom_predict$timepoint1 == \"day0\",]\n",
    "x_chrom_predict_day0 = x_chrom_predict[x_chrom_predict$timepoint1 == \"day0\" & \n",
    "                                       x_chrom_predict$timepoint2 == \"day3\",]\n",
    "x_chrom_predict_day0$hgnc_symbol = x_chrom_predict_day0$gene1\n",
    "head(x_chrom_predict_day0)\n",
    "nrow(x_chrom_predict_day0)"
   ]
  },
  {
   "cell_type": "code",
   "execution_count": 3,
   "metadata": {},
   "outputs": [
    {
     "data": {
      "text/html": [
       "<table>\n",
       "<thead><tr><th scope=col>chromosome_name</th><th scope=col>start_position</th><th scope=col>end_position</th><th scope=col>ensembl_gene_id</th><th scope=col>gene_biotype</th><th scope=col>strand</th></tr></thead>\n",
       "<tbody>\n",
       "\t<tr><td>1              </td><td>11868          </td><td>14412          </td><td>ENSG00000223972</td><td>pseudogene     </td><td>+              </td></tr>\n",
       "\t<tr><td>1              </td><td>14362          </td><td>29806          </td><td>ENSG00000227232</td><td>pseudogene     </td><td>-              </td></tr>\n",
       "\t<tr><td>1              </td><td>29553          </td><td>31109          </td><td>ENSG00000243485</td><td>lincRNA        </td><td>+              </td></tr>\n",
       "\t<tr><td>1              </td><td>34553          </td><td>36081          </td><td>ENSG00000237613</td><td>lincRNA        </td><td>-              </td></tr>\n",
       "\t<tr><td>1              </td><td>52472          </td><td>54936          </td><td>ENSG00000268020</td><td>pseudogene     </td><td>+              </td></tr>\n",
       "\t<tr><td>1              </td><td>62947          </td><td>63887          </td><td>ENSG00000240361</td><td>pseudogene     </td><td>+              </td></tr>\n",
       "</tbody>\n",
       "</table>\n"
      ],
      "text/latex": [
       "\\begin{tabular}{r|llllll}\n",
       " chromosome\\_name & start\\_position & end\\_position & ensembl\\_gene\\_id & gene\\_biotype & strand\\\\\n",
       "\\hline\n",
       "\t 1               & 11868           & 14412           & ENSG00000223972 & pseudogene      & +              \\\\\n",
       "\t 1               & 14362           & 29806           & ENSG00000227232 & pseudogene      & -              \\\\\n",
       "\t 1               & 29553           & 31109           & ENSG00000243485 & lincRNA         & +              \\\\\n",
       "\t 1               & 34553           & 36081           & ENSG00000237613 & lincRNA         & -              \\\\\n",
       "\t 1               & 52472           & 54936           & ENSG00000268020 & pseudogene      & +              \\\\\n",
       "\t 1               & 62947           & 63887           & ENSG00000240361 & pseudogene      & +              \\\\\n",
       "\\end{tabular}\n"
      ],
      "text/markdown": [
       "\n",
       "| chromosome_name | start_position | end_position | ensembl_gene_id | gene_biotype | strand |\n",
       "|---|---|---|---|---|---|\n",
       "| 1               | 11868           | 14412           | ENSG00000223972 | pseudogene      | +               |\n",
       "| 1               | 14362           | 29806           | ENSG00000227232 | pseudogene      | -               |\n",
       "| 1               | 29553           | 31109           | ENSG00000243485 | lincRNA         | +               |\n",
       "| 1               | 34553           | 36081           | ENSG00000237613 | lincRNA         | -               |\n",
       "| 1               | 52472           | 54936           | ENSG00000268020 | pseudogene      | +               |\n",
       "| 1               | 62947           | 63887           | ENSG00000240361 | pseudogene      | +               |\n",
       "\n"
      ],
      "text/plain": [
       "  chromosome_name start_position end_position ensembl_gene_id gene_biotype\n",
       "1 1               11868          14412        ENSG00000223972 pseudogene  \n",
       "2 1               14362          29806        ENSG00000227232 pseudogene  \n",
       "3 1               29553          31109        ENSG00000243485 lincRNA     \n",
       "4 1               34553          36081        ENSG00000237613 lincRNA     \n",
       "5 1               52472          54936        ENSG00000268020 pseudogene  \n",
       "6 1               62947          63887        ENSG00000240361 pseudogene  \n",
       "  strand\n",
       "1 +     \n",
       "2 -     \n",
       "3 +     \n",
       "4 -     \n",
       "5 +     \n",
       "6 +     "
      ]
     },
     "metadata": {},
     "output_type": "display_data"
    }
   ],
   "source": [
    "## add gene info\n",
    "gene_info_filename = \"/nfs/leia/research/stegle/dseaton/genomes/hg19/annotation/Homo_sapiens.GRCh37.75.genes.bed\"\n",
    "gene_info = read.table(gene_info_filename)\n",
    "colnames(gene_info) = c(\"chromosome_name\",\"start_position\",\"end_position\",\"ensembl_gene_id\",\"gene_biotype\",\"strand\")\n",
    "head(gene_info)"
   ]
  },
  {
   "cell_type": "code",
   "execution_count": 4,
   "metadata": {},
   "outputs": [
    {
     "data": {
      "text/html": [
       "<table>\n",
       "<thead><tr><th scope=col>feature_id</th><th scope=col>chromosome</th><th scope=col>start</th><th scope=col>end</th><th scope=col>hgnc_symbol</th><th scope=col>combined_feature_id</th><th scope=col>ensembl_gene_id</th></tr></thead>\n",
       "<tbody>\n",
       "\t<tr><td>ENSG00000000003_TSPAN6  </td><td>X                       </td><td> 99883667               </td><td> 99894988               </td><td>TSPAN6                  </td><td>ENSG00000000003_TSPAN6  </td><td>ENSG00000000003         </td></tr>\n",
       "\t<tr><td>ENSG00000000419_DPM1    </td><td>20                      </td><td> 49551404               </td><td> 49575092               </td><td>DPM1                    </td><td>ENSG00000000419_DPM1    </td><td>ENSG00000000419         </td></tr>\n",
       "\t<tr><td>ENSG00000000457_SCYL3   </td><td>1                       </td><td>169818772               </td><td>169863408               </td><td>SCYL3                   </td><td>ENSG00000000457_SCYL3   </td><td>ENSG00000000457         </td></tr>\n",
       "\t<tr><td>ENSG00000000460_C1orf112</td><td>1                       </td><td>169631245               </td><td>169823221               </td><td>C1orf112                </td><td>ENSG00000000460_C1orf112</td><td>ENSG00000000460         </td></tr>\n",
       "\t<tr><td>ENSG00000001036_FUCA2   </td><td>6                       </td><td>143815948               </td><td>143832827               </td><td>FUCA2                   </td><td>ENSG00000001036_FUCA2   </td><td>ENSG00000001036         </td></tr>\n",
       "\t<tr><td>ENSG00000001084_GCLC    </td><td>6                       </td><td> 53362139               </td><td> 53481768               </td><td>GCLC                    </td><td>ENSG00000001084_GCLC    </td><td>ENSG00000001084         </td></tr>\n",
       "</tbody>\n",
       "</table>\n"
      ],
      "text/latex": [
       "\\begin{tabular}{r|lllllll}\n",
       " feature\\_id & chromosome & start & end & hgnc\\_symbol & combined\\_feature\\_id & ensembl\\_gene\\_id\\\\\n",
       "\\hline\n",
       "\t ENSG00000000003\\_TSPAN6   & X                          &  99883667                  &  99894988                  & TSPAN6                     & ENSG00000000003\\_TSPAN6   & ENSG00000000003           \\\\\n",
       "\t ENSG00000000419\\_DPM1     & 20                         &  49551404                  &  49575092                  & DPM1                       & ENSG00000000419\\_DPM1     & ENSG00000000419           \\\\\n",
       "\t ENSG00000000457\\_SCYL3    & 1                          & 169818772                  & 169863408                  & SCYL3                      & ENSG00000000457\\_SCYL3    & ENSG00000000457           \\\\\n",
       "\t ENSG00000000460\\_C1orf112 & 1                          & 169631245                  & 169823221                  & C1orf112                   & ENSG00000000460\\_C1orf112 & ENSG00000000460           \\\\\n",
       "\t ENSG00000001036\\_FUCA2    & 6                          & 143815948                  & 143832827                  & FUCA2                      & ENSG00000001036\\_FUCA2    & ENSG00000001036           \\\\\n",
       "\t ENSG00000001084\\_GCLC     & 6                          &  53362139                  &  53481768                  & GCLC                       & ENSG00000001084\\_GCLC     & ENSG00000001084           \\\\\n",
       "\\end{tabular}\n"
      ],
      "text/markdown": [
       "\n",
       "| feature_id | chromosome | start | end | hgnc_symbol | combined_feature_id | ensembl_gene_id |\n",
       "|---|---|---|---|---|---|---|\n",
       "| ENSG00000000003_TSPAN6   | X                        |  99883667                |  99894988                | TSPAN6                   | ENSG00000000003_TSPAN6   | ENSG00000000003          |\n",
       "| ENSG00000000419_DPM1     | 20                       |  49551404                |  49575092                | DPM1                     | ENSG00000000419_DPM1     | ENSG00000000419          |\n",
       "| ENSG00000000457_SCYL3    | 1                        | 169818772                | 169863408                | SCYL3                    | ENSG00000000457_SCYL3    | ENSG00000000457          |\n",
       "| ENSG00000000460_C1orf112 | 1                        | 169631245                | 169823221                | C1orf112                 | ENSG00000000460_C1orf112 | ENSG00000000460          |\n",
       "| ENSG00000001036_FUCA2    | 6                        | 143815948                | 143832827                | FUCA2                    | ENSG00000001036_FUCA2    | ENSG00000001036          |\n",
       "| ENSG00000001084_GCLC     | 6                        |  53362139                |  53481768                | GCLC                     | ENSG00000001084_GCLC     | ENSG00000001084          |\n",
       "\n"
      ],
      "text/plain": [
       "  feature_id               chromosome start     end       hgnc_symbol\n",
       "1 ENSG00000000003_TSPAN6   X           99883667  99894988 TSPAN6     \n",
       "2 ENSG00000000419_DPM1     20          49551404  49575092 DPM1       \n",
       "3 ENSG00000000457_SCYL3    1          169818772 169863408 SCYL3      \n",
       "4 ENSG00000000460_C1orf112 1          169631245 169823221 C1orf112   \n",
       "5 ENSG00000001036_FUCA2    6          143815948 143832827 FUCA2      \n",
       "6 ENSG00000001084_GCLC     6           53362139  53481768 GCLC       \n",
       "  combined_feature_id      ensembl_gene_id\n",
       "1 ENSG00000000003_TSPAN6   ENSG00000000003\n",
       "2 ENSG00000000419_DPM1     ENSG00000000419\n",
       "3 ENSG00000000457_SCYL3    ENSG00000000457\n",
       "4 ENSG00000000460_C1orf112 ENSG00000000460\n",
       "5 ENSG00000001036_FUCA2    ENSG00000001036\n",
       "6 ENSG00000001084_GCLC     ENSG00000001084"
      ]
     },
     "metadata": {},
     "output_type": "display_data"
    }
   ],
   "source": [
    "gene_annos_filename = \"/hps/nobackup/hipsci/scratch/singlecell_endodiff/data_processed/scQTLs/annos/combined_feature_id_annos.tsv\"\n",
    "gene_annos = read.csv(gene_annos_filename, sep = \"\\t\")\n",
    "head(gene_annos)"
   ]
  },
  {
   "cell_type": "code",
   "execution_count": 7,
   "metadata": {},
   "outputs": [
    {
     "name": "stderr",
     "output_type": "stream",
     "text": [
      "Warning message:\n",
      "“Column `ensembl_gene_id` joining factors with different levels, coercing to character vector”"
     ]
    },
    {
     "data": {
      "text/html": [
       "<table>\n",
       "<thead><tr><th scope=col>chromosome_name</th><th scope=col>start_position</th><th scope=col>end_position</th><th scope=col>ensembl_gene_id</th><th scope=col>gene_biotype</th><th scope=col>strand</th><th scope=col>feature_id</th><th scope=col>chromosome</th><th scope=col>start</th><th scope=col>end</th><th scope=col>hgnc_symbol</th><th scope=col>combined_feature_id</th></tr></thead>\n",
       "<tbody>\n",
       "\t<tr><td>1                       </td><td> 14362                  </td><td> 29806                  </td><td>ENSG00000227232         </td><td>pseudogene              </td><td>-                       </td><td>ENSG00000227232_WASH7P  </td><td>1                       </td><td> 14363                  </td><td> 29806                  </td><td>WASH7P                  </td><td>ENSG00000227232_WASH7P  </td></tr>\n",
       "\t<tr><td>1                       </td><td> 52472                  </td><td> 54936                  </td><td>ENSG00000268020         </td><td>pseudogene              </td><td>+                       </td><td>ENSG00000268020_OR4G4P  </td><td>1                       </td><td> 52473                  </td><td> 54936                  </td><td>OR4G4P                  </td><td>ENSG00000268020_OR4G4P  </td></tr>\n",
       "\t<tr><td>1                       </td><td>564441                  </td><td>564813                  </td><td>ENSG00000225972         </td><td>pseudogene              </td><td>+                       </td><td>ENSG00000225972_MTND1P23</td><td>1                       </td><td>564442                  </td><td>564813                  </td><td>MTND1P23                </td><td>ENSG00000225972_MTND1P23</td></tr>\n",
       "\t<tr><td>1                       </td><td>565019                  </td><td>566063                  </td><td>ENSG00000225630         </td><td>pseudogene              </td><td>+                       </td><td>ENSG00000225630_MTND2P28</td><td>1                       </td><td>565020                  </td><td>566063                  </td><td>MTND2P28                </td><td>ENSG00000225630_MTND2P28</td></tr>\n",
       "\t<tr><td>1                       </td><td>569075                  </td><td>569756                  </td><td>ENSG00000248527         </td><td>pseudogene              </td><td>+                       </td><td>ENSG00000248527_MTATP6P1</td><td>1                       </td><td>569076                  </td><td>569756                  </td><td>MTATP6P1                </td><td>ENSG00000248527_MTATP6P1</td></tr>\n",
       "\t<tr><td>1                       </td><td>860259                  </td><td>879955                  </td><td>ENSG00000187634         </td><td>protein_coding          </td><td>+                       </td><td>ENSG00000187634_SAMD11  </td><td>1                       </td><td>860260                  </td><td>879955                  </td><td>SAMD11                  </td><td>ENSG00000187634_SAMD11  </td></tr>\n",
       "</tbody>\n",
       "</table>\n"
      ],
      "text/latex": [
       "\\begin{tabular}{r|llllllllllll}\n",
       " chromosome\\_name & start\\_position & end\\_position & ensembl\\_gene\\_id & gene\\_biotype & strand & feature\\_id & chromosome & start & end & hgnc\\_symbol & combined\\_feature\\_id\\\\\n",
       "\\hline\n",
       "\t 1                          &  14362                     &  29806                     & ENSG00000227232            & pseudogene                 & -                          & ENSG00000227232\\_WASH7P   & 1                          &  14363                     &  29806                     & WASH7P                     & ENSG00000227232\\_WASH7P  \\\\\n",
       "\t 1                          &  52472                     &  54936                     & ENSG00000268020            & pseudogene                 & +                          & ENSG00000268020\\_OR4G4P   & 1                          &  52473                     &  54936                     & OR4G4P                     & ENSG00000268020\\_OR4G4P  \\\\\n",
       "\t 1                          & 564441                     & 564813                     & ENSG00000225972            & pseudogene                 & +                          & ENSG00000225972\\_MTND1P23 & 1                          & 564442                     & 564813                     & MTND1P23                   & ENSG00000225972\\_MTND1P23\\\\\n",
       "\t 1                          & 565019                     & 566063                     & ENSG00000225630            & pseudogene                 & +                          & ENSG00000225630\\_MTND2P28 & 1                          & 565020                     & 566063                     & MTND2P28                   & ENSG00000225630\\_MTND2P28\\\\\n",
       "\t 1                          & 569075                     & 569756                     & ENSG00000248527            & pseudogene                 & +                          & ENSG00000248527\\_MTATP6P1 & 1                          & 569076                     & 569756                     & MTATP6P1                   & ENSG00000248527\\_MTATP6P1\\\\\n",
       "\t 1                          & 860259                     & 879955                     & ENSG00000187634            & protein\\_coding           & +                          & ENSG00000187634\\_SAMD11   & 1                          & 860260                     & 879955                     & SAMD11                     & ENSG00000187634\\_SAMD11  \\\\\n",
       "\\end{tabular}\n"
      ],
      "text/markdown": [
       "\n",
       "| chromosome_name | start_position | end_position | ensembl_gene_id | gene_biotype | strand | feature_id | chromosome | start | end | hgnc_symbol | combined_feature_id |\n",
       "|---|---|---|---|---|---|---|---|---|---|---|---|\n",
       "| 1                        |  14362                   |  29806                   | ENSG00000227232          | pseudogene               | -                        | ENSG00000227232_WASH7P   | 1                        |  14363                   |  29806                   | WASH7P                   | ENSG00000227232_WASH7P   |\n",
       "| 1                        |  52472                   |  54936                   | ENSG00000268020          | pseudogene               | +                        | ENSG00000268020_OR4G4P   | 1                        |  52473                   |  54936                   | OR4G4P                   | ENSG00000268020_OR4G4P   |\n",
       "| 1                        | 564441                   | 564813                   | ENSG00000225972          | pseudogene               | +                        | ENSG00000225972_MTND1P23 | 1                        | 564442                   | 564813                   | MTND1P23                 | ENSG00000225972_MTND1P23 |\n",
       "| 1                        | 565019                   | 566063                   | ENSG00000225630          | pseudogene               | +                        | ENSG00000225630_MTND2P28 | 1                        | 565020                   | 566063                   | MTND2P28                 | ENSG00000225630_MTND2P28 |\n",
       "| 1                        | 569075                   | 569756                   | ENSG00000248527          | pseudogene               | +                        | ENSG00000248527_MTATP6P1 | 1                        | 569076                   | 569756                   | MTATP6P1                 | ENSG00000248527_MTATP6P1 |\n",
       "| 1                        | 860259                   | 879955                   | ENSG00000187634          | protein_coding           | +                        | ENSG00000187634_SAMD11   | 1                        | 860260                   | 879955                   | SAMD11                   | ENSG00000187634_SAMD11   |\n",
       "\n"
      ],
      "text/plain": [
       "  chromosome_name start_position end_position ensembl_gene_id gene_biotype  \n",
       "1 1                14362          29806       ENSG00000227232 pseudogene    \n",
       "2 1                52472          54936       ENSG00000268020 pseudogene    \n",
       "3 1               564441         564813       ENSG00000225972 pseudogene    \n",
       "4 1               565019         566063       ENSG00000225630 pseudogene    \n",
       "5 1               569075         569756       ENSG00000248527 pseudogene    \n",
       "6 1               860259         879955       ENSG00000187634 protein_coding\n",
       "  strand feature_id               chromosome start  end    hgnc_symbol\n",
       "1 -      ENSG00000227232_WASH7P   1           14363  29806 WASH7P     \n",
       "2 +      ENSG00000268020_OR4G4P   1           52473  54936 OR4G4P     \n",
       "3 +      ENSG00000225972_MTND1P23 1          564442 564813 MTND1P23   \n",
       "4 +      ENSG00000225630_MTND2P28 1          565020 566063 MTND2P28   \n",
       "5 +      ENSG00000248527_MTATP6P1 1          569076 569756 MTATP6P1   \n",
       "6 +      ENSG00000187634_SAMD11   1          860260 879955 SAMD11     \n",
       "  combined_feature_id     \n",
       "1 ENSG00000227232_WASH7P  \n",
       "2 ENSG00000268020_OR4G4P  \n",
       "3 ENSG00000225972_MTND1P23\n",
       "4 ENSG00000225630_MTND2P28\n",
       "5 ENSG00000248527_MTATP6P1\n",
       "6 ENSG00000187634_SAMD11  "
      ]
     },
     "metadata": {},
     "output_type": "display_data"
    }
   ],
   "source": [
    "df.gene = inner_join(gene_info, gene_annos, by = \"ensembl_gene_id\")\n",
    "head(df.gene)"
   ]
  },
  {
   "cell_type": "code",
   "execution_count": 8,
   "metadata": {},
   "outputs": [
    {
     "data": {
      "text/html": [
       "11252"
      ],
      "text/latex": [
       "11252"
      ],
      "text/markdown": [
       "11252"
      ],
      "text/plain": [
       "[1] 11252"
      ]
     },
     "metadata": {},
     "output_type": "display_data"
    },
    {
     "name": "stderr",
     "output_type": "stream",
     "text": [
      "Warning message:\n",
      "“Column `hgnc_symbol` joining factors with different levels, coercing to character vector”"
     ]
    },
    {
     "data": {
      "text/html": [
       "11252"
      ],
      "text/latex": [
       "11252"
      ],
      "text/markdown": [
       "11252"
      ],
      "text/plain": [
       "[1] 11252"
      ]
     },
     "metadata": {},
     "output_type": "display_data"
    }
   ],
   "source": [
    "nrow(x_chrom_predict_day0)\n",
    "df = left_join(x_chrom_predict_day0, df.gene, by = \"hgnc_symbol\")\n",
    "nrow(df)"
   ]
  },
  {
   "cell_type": "code",
   "execution_count": null,
   "metadata": {},
   "outputs": [],
   "source": []
  }
 ],
 "metadata": {
  "kernelspec": {
   "display_name": "R",
   "language": "R",
   "name": "ir"
  },
  "language_info": {
   "codemirror_mode": "r",
   "file_extension": ".r",
   "mimetype": "text/x-r-source",
   "name": "R",
   "pygments_lexer": "r",
   "version": "3.6.1"
  }
 },
 "nbformat": 4,
 "nbformat_minor": 4
}
