{
 "cells": [
  {
   "cell_type": "code",
   "execution_count": 249,
   "metadata": {},
   "outputs": [],
   "source": [
    "mydir = \"/hps/nobackup/stegle/users/acuomo/all_scripts/struct_LMM2/sc_endodiff/debug_May2021/genetic_effect/MOFA10/\""
   ]
  },
  {
   "cell_type": "code",
   "execution_count": 250,
   "metadata": {},
   "outputs": [
    {
     "data": {
      "text/html": [
       "322"
      ],
      "text/latex": [
       "322"
      ],
      "text/markdown": [
       "322"
      ],
      "text/plain": [
       "[1] 322"
      ]
     },
     "metadata": {},
     "output_type": "display_data"
    },
    {
     "data": {
      "text/html": [
       "<ol class=list-inline>\n",
       "\t<li>'ENSG00000005059_CCDC109B_beta_G.tsv'</li>\n",
       "\t<li>'ENSG00000006016_CRLF1_beta_G.tsv'</li>\n",
       "\t<li>'ENSG00000006459_KDM7A_beta_G.tsv'</li>\n",
       "\t<li>'ENSG00000013297_CLDN11_beta_G.tsv'</li>\n",
       "\t<li>'ENSG00000021300_PLEKHB1_beta_G.tsv'</li>\n",
       "\t<li>'ENSG00000029639_TFB1M_beta_G.tsv'</li>\n",
       "</ol>\n"
      ],
      "text/latex": [
       "\\begin{enumerate*}\n",
       "\\item 'ENSG00000005059\\_CCDC109B\\_beta\\_G.tsv'\n",
       "\\item 'ENSG00000006016\\_CRLF1\\_beta\\_G.tsv'\n",
       "\\item 'ENSG00000006459\\_KDM7A\\_beta\\_G.tsv'\n",
       "\\item 'ENSG00000013297\\_CLDN11\\_beta\\_G.tsv'\n",
       "\\item 'ENSG00000021300\\_PLEKHB1\\_beta\\_G.tsv'\n",
       "\\item 'ENSG00000029639\\_TFB1M\\_beta\\_G.tsv'\n",
       "\\end{enumerate*}\n"
      ],
      "text/markdown": [
       "1. 'ENSG00000005059_CCDC109B_beta_G.tsv'\n",
       "2. 'ENSG00000006016_CRLF1_beta_G.tsv'\n",
       "3. 'ENSG00000006459_KDM7A_beta_G.tsv'\n",
       "4. 'ENSG00000013297_CLDN11_beta_G.tsv'\n",
       "5. 'ENSG00000021300_PLEKHB1_beta_G.tsv'\n",
       "6. 'ENSG00000029639_TFB1M_beta_G.tsv'\n",
       "\n",
       "\n"
      ],
      "text/plain": [
       "[1] \"ENSG00000005059_CCDC109B_beta_G.tsv\" \"ENSG00000006016_CRLF1_beta_G.tsv\"   \n",
       "[3] \"ENSG00000006459_KDM7A_beta_G.tsv\"    \"ENSG00000013297_CLDN11_beta_G.tsv\"  \n",
       "[5] \"ENSG00000021300_PLEKHB1_beta_G.tsv\"  \"ENSG00000029639_TFB1M_beta_G.tsv\"   "
      ]
     },
     "metadata": {},
     "output_type": "display_data"
    }
   ],
   "source": [
    "mygenes = list.files(mydir,pattern = \"beta_G.tsv\")\n",
    "length(mygenes)\n",
    "head(mygenes)"
   ]
  },
  {
   "cell_type": "code",
   "execution_count": 251,
   "metadata": {},
   "outputs": [
    {
     "data": {
      "text/html": [
       "'ENSG00000005059_CCDC109B_beta_G.tsv'"
      ],
      "text/latex": [
       "'ENSG00000005059\\_CCDC109B\\_beta\\_G.tsv'"
      ],
      "text/markdown": [
       "'ENSG00000005059_CCDC109B_beta_G.tsv'"
      ],
      "text/plain": [
       "[1] \"ENSG00000005059_CCDC109B_beta_G.tsv\""
      ]
     },
     "metadata": {},
     "output_type": "display_data"
    },
    {
     "data": {
      "text/html": [
       "<table>\n",
       "<thead><tr><th></th><th scope=col>beta_G</th></tr></thead>\n",
       "<tbody>\n",
       "\t<tr><th scope=row>ENSG00000005059_CCDC109B-4_110648632_T_A</th><td>-0.005477985</td></tr>\n",
       "</tbody>\n",
       "</table>\n"
      ],
      "text/latex": [
       "\\begin{tabular}{r|l}\n",
       "  & beta\\_G\\\\\n",
       "\\hline\n",
       "\tENSG00000005059\\_CCDC109B-4\\_110648632\\_T\\_A & -0.005477985\\\\\n",
       "\\end{tabular}\n"
      ],
      "text/markdown": [
       "\n",
       "| <!--/--> | beta_G |\n",
       "|---|---|\n",
       "| ENSG00000005059_CCDC109B-4_110648632_T_A | -0.005477985 |\n",
       "\n"
      ],
      "text/plain": [
       "                                         beta_G      \n",
       "ENSG00000005059_CCDC109B-4_110648632_T_A -0.005477985"
      ]
     },
     "metadata": {},
     "output_type": "display_data"
    }
   ],
   "source": [
    "gene = mygenes[1]\n",
    "gene\n",
    "df0 = read.csv(paste0(mydir,gene),sep='\\t', row.names = 1)\n",
    "chrom = unlist(strsplit(rownames(df0),\"_\"))[1]\n",
    "pos = unlist(strsplit(rownames(df0),\"_\"))[3]\n",
    "alt = unlist(strsplit(rownames(df0),\"_\"))[4]\n",
    "ref = unlist(strsplit(rownames(df0),\"_\"))[5]\n",
    "snp = paste0(chrom,\"_\",pos,\"_\",alt,\"_\",ref)\n",
    "rownames(df0) = paste0(gsub(\"_beta_G.tsv\",\"\",gene),\"-\",snp)\n",
    "head(df0)"
   ]
  },
  {
   "cell_type": "code",
   "execution_count": 252,
   "metadata": {},
   "outputs": [
    {
     "data": {
      "text/html": [
       "322"
      ],
      "text/latex": [
       "322"
      ],
      "text/markdown": [
       "322"
      ],
      "text/plain": [
       "[1] 322"
      ]
     },
     "metadata": {},
     "output_type": "display_data"
    },
    {
     "data": {
      "text/html": [
       "<table>\n",
       "<thead><tr><th></th><th scope=col>beta_G</th></tr></thead>\n",
       "<tbody>\n",
       "\t<tr><th scope=row>ENSG00000005059_CCDC109B-4_110648632_T_A</th><td>-0.005477985</td></tr>\n",
       "\t<tr><th scope=row>ENSG00000006016_CRLF1-19_18735221_G_T</th><td>-0.056811980</td></tr>\n",
       "\t<tr><th scope=row>ENSG00000006459_KDM7A-7_139913409_G_A</th><td> 0.037725084</td></tr>\n",
       "\t<tr><th scope=row>ENSG00000013297_CLDN11-3_170402765_T_C</th><td>-0.121477017</td></tr>\n",
       "\t<tr><th scope=row>ENSG00000021300_PLEKHB1-11_73339784_G_A</th><td> 0.136852399</td></tr>\n",
       "\t<tr><th scope=row>ENSG00000029639_TFB1M-6_155635808_C_G</th><td>-0.167087706</td></tr>\n",
       "</tbody>\n",
       "</table>\n"
      ],
      "text/latex": [
       "\\begin{tabular}{r|l}\n",
       "  & beta\\_G\\\\\n",
       "\\hline\n",
       "\tENSG00000005059\\_CCDC109B-4\\_110648632\\_T\\_A & -0.005477985\\\\\n",
       "\tENSG00000006016\\_CRLF1-19\\_18735221\\_G\\_T & -0.056811980\\\\\n",
       "\tENSG00000006459\\_KDM7A-7\\_139913409\\_G\\_A &  0.037725084\\\\\n",
       "\tENSG00000013297\\_CLDN11-3\\_170402765\\_T\\_C & -0.121477017\\\\\n",
       "\tENSG00000021300\\_PLEKHB1-11\\_73339784\\_G\\_A &  0.136852399\\\\\n",
       "\tENSG00000029639\\_TFB1M-6\\_155635808\\_C\\_G & -0.167087706\\\\\n",
       "\\end{tabular}\n"
      ],
      "text/markdown": [
       "\n",
       "| <!--/--> | beta_G |\n",
       "|---|---|\n",
       "| ENSG00000005059_CCDC109B-4_110648632_T_A | -0.005477985 |\n",
       "| ENSG00000006016_CRLF1-19_18735221_G_T | -0.056811980 |\n",
       "| ENSG00000006459_KDM7A-7_139913409_G_A |  0.037725084 |\n",
       "| ENSG00000013297_CLDN11-3_170402765_T_C | -0.121477017 |\n",
       "| ENSG00000021300_PLEKHB1-11_73339784_G_A |  0.136852399 |\n",
       "| ENSG00000029639_TFB1M-6_155635808_C_G | -0.167087706 |\n",
       "\n"
      ],
      "text/plain": [
       "                                         beta_G      \n",
       "ENSG00000005059_CCDC109B-4_110648632_T_A -0.005477985\n",
       "ENSG00000006016_CRLF1-19_18735221_G_T    -0.056811980\n",
       "ENSG00000006459_KDM7A-7_139913409_G_A     0.037725084\n",
       "ENSG00000013297_CLDN11-3_170402765_T_C   -0.121477017\n",
       "ENSG00000021300_PLEKHB1-11_73339784_G_A   0.136852399\n",
       "ENSG00000029639_TFB1M-6_155635808_C_G    -0.167087706"
      ]
     },
     "metadata": {},
     "output_type": "display_data"
    }
   ],
   "source": [
    "df = data.frame()\n",
    "for (gene in mygenes){\n",
    "    df_curr = read.csv(paste0(mydir,gene),sep='\\t', row.names = 1)\n",
    "    chrom = unlist(strsplit(rownames(df_curr),\"_\"))[1]\n",
    "    pos = unlist(strsplit(rownames(df_curr),\"_\"))[3]\n",
    "    alt = unlist(strsplit(rownames(df_curr),\"_\"))[4]\n",
    "    ref = unlist(strsplit(rownames(df_curr),\"_\"))[5]\n",
    "    snp = paste0(chrom,\"_\",pos,\"_\",alt,\"_\",ref)\n",
    "    rownames(df_curr) = paste0(gsub(\"_beta_G.tsv\",\"\",gene),\"-\",snp)\n",
    "    df = rbind(df, df_curr)\n",
    "    }\n",
    "nrow(df)\n",
    "head(df)"
   ]
  },
  {
   "cell_type": "code",
   "execution_count": 253,
   "metadata": {},
   "outputs": [],
   "source": [
    "filename = \"/hps/nobackup/stegle/users/acuomo/all_scripts/struct_LMM2/sc_endodiff/debug_May2021/genetic_effect/MOFA10/eqtl_persistent_genetic_effect_all.txt\"\n",
    "write.table(df, filename, quote = F, sep =\"\\t\")"
   ]
  },
  {
   "cell_type": "code",
   "execution_count": null,
   "metadata": {},
   "outputs": [],
   "source": []
  },
  {
   "cell_type": "code",
   "execution_count": 254,
   "metadata": {},
   "outputs": [
    {
     "data": {
      "text/html": [
       "<ol class=list-inline>\n",
       "\t<li>'ENSG00000005059_CCDC109B-4_110648632_T_A'</li>\n",
       "\t<li>'ENSG00000006016_CRLF1-19_18735221_G_T'</li>\n",
       "\t<li>'ENSG00000006459_KDM7A-7_139913409_G_A'</li>\n",
       "\t<li>'ENSG00000013297_CLDN11-3_170402765_T_C'</li>\n",
       "\t<li>'ENSG00000021300_PLEKHB1-11_73339784_G_A'</li>\n",
       "\t<li>'ENSG00000029639_TFB1M-6_155635808_C_G'</li>\n",
       "</ol>\n"
      ],
      "text/latex": [
       "\\begin{enumerate*}\n",
       "\\item 'ENSG00000005059\\_CCDC109B-4\\_110648632\\_T\\_A'\n",
       "\\item 'ENSG00000006016\\_CRLF1-19\\_18735221\\_G\\_T'\n",
       "\\item 'ENSG00000006459\\_KDM7A-7\\_139913409\\_G\\_A'\n",
       "\\item 'ENSG00000013297\\_CLDN11-3\\_170402765\\_T\\_C'\n",
       "\\item 'ENSG00000021300\\_PLEKHB1-11\\_73339784\\_G\\_A'\n",
       "\\item 'ENSG00000029639\\_TFB1M-6\\_155635808\\_C\\_G'\n",
       "\\end{enumerate*}\n"
      ],
      "text/markdown": [
       "1. 'ENSG00000005059_CCDC109B-4_110648632_T_A'\n",
       "2. 'ENSG00000006016_CRLF1-19_18735221_G_T'\n",
       "3. 'ENSG00000006459_KDM7A-7_139913409_G_A'\n",
       "4. 'ENSG00000013297_CLDN11-3_170402765_T_C'\n",
       "5. 'ENSG00000021300_PLEKHB1-11_73339784_G_A'\n",
       "6. 'ENSG00000029639_TFB1M-6_155635808_C_G'\n",
       "\n",
       "\n"
      ],
      "text/plain": [
       "[1] \"ENSG00000005059_CCDC109B-4_110648632_T_A\"\n",
       "[2] \"ENSG00000006016_CRLF1-19_18735221_G_T\"   \n",
       "[3] \"ENSG00000006459_KDM7A-7_139913409_G_A\"   \n",
       "[4] \"ENSG00000013297_CLDN11-3_170402765_T_C\"  \n",
       "[5] \"ENSG00000021300_PLEKHB1-11_73339784_G_A\" \n",
       "[6] \"ENSG00000029639_TFB1M-6_155635808_C_G\"   "
      ]
     },
     "metadata": {},
     "output_type": "display_data"
    }
   ],
   "source": [
    "eqtls0 = as.character(rownames(df))\n",
    "head(eqtls0)"
   ]
  },
  {
   "cell_type": "code",
   "execution_count": 255,
   "metadata": {},
   "outputs": [
    {
     "data": {
      "text/html": [
       "<table>\n",
       "<thead><tr><th scope=col>snp_id</th><th scope=col>feature</th><th scope=col>stage</th><th scope=col>eqtl</th></tr></thead>\n",
       "<tbody>\n",
       "\t<tr><td>12_56401085_G_A                      </td><td>ENSG00000197728_RPS26                </td><td>ips                                  </td><td>ENSG00000197728_RPS26-12_56401085_G_A</td></tr>\n",
       "\t<tr><td>7_72717933_C_T                       </td><td>ENSG00000130305_NSUN5                </td><td>ips                                  </td><td>ENSG00000130305_NSUN5-7_72717933_C_T </td></tr>\n",
       "</tbody>\n",
       "</table>\n"
      ],
      "text/latex": [
       "\\begin{tabular}{r|llll}\n",
       " snp\\_id & feature & stage & eqtl\\\\\n",
       "\\hline\n",
       "\t 12\\_56401085\\_G\\_A                         & ENSG00000197728\\_RPS26                       & ips                                           & ENSG00000197728\\_RPS26-12\\_56401085\\_G\\_A\\\\\n",
       "\t 7\\_72717933\\_C\\_T                          & ENSG00000130305\\_NSUN5                       & ips                                           & ENSG00000130305\\_NSUN5-7\\_72717933\\_C\\_T \\\\\n",
       "\\end{tabular}\n"
      ],
      "text/markdown": [
       "\n",
       "| snp_id | feature | stage | eqtl |\n",
       "|---|---|---|---|\n",
       "| 12_56401085_G_A                       | ENSG00000197728_RPS26                 | ips                                   | ENSG00000197728_RPS26-12_56401085_G_A |\n",
       "| 7_72717933_C_T                        | ENSG00000130305_NSUN5                 | ips                                   | ENSG00000130305_NSUN5-7_72717933_C_T  |\n",
       "\n"
      ],
      "text/plain": [
       "  snp_id          feature               stage\n",
       "1 12_56401085_G_A ENSG00000197728_RPS26 ips  \n",
       "2 7_72717933_C_T  ENSG00000130305_NSUN5 ips  \n",
       "  eqtl                                 \n",
       "1 ENSG00000197728_RPS26-12_56401085_G_A\n",
       "2 ENSG00000130305_NSUN5-7_72717933_C_T "
      ]
     },
     "metadata": {},
     "output_type": "display_data"
    }
   ],
   "source": [
    "input_files_dir = \"/hps/nobackup/stegle/users/acuomo/all_scripts/struct_LMM2/sc_endodiff/new/input_files/\"\n",
    "endo_GxE_file = paste0(input_files_dir,\"endodiff_eqtl_allconditions_FDR10pct_scStructLMM_FDR5pct.csv\")\n",
    "df_endo = read.csv(endo_GxE_file)\n",
    "head(df_endo,2)"
   ]
  },
  {
   "cell_type": "code",
   "execution_count": 256,
   "metadata": {},
   "outputs": [
    {
     "data": {
      "text/html": [
       "<ol class=list-inline>\n",
       "\t<li>'ENSG00000197728_RPS26-12_56401085_G_A'</li>\n",
       "\t<li>'ENSG00000130305_NSUN5-7_72717933_C_T'</li>\n",
       "\t<li>'ENSG00000165171_WBSCR27-7_73258087_T_A'</li>\n",
       "\t<li>'ENSG00000189266_PNRC2-1_24364016_T_C'</li>\n",
       "\t<li>'ENSG00000147813_NAPRT1-8_144676862_C_T'</li>\n",
       "\t<li>'ENSG00000186230_ZNF749-19_57939619_C_T'</li>\n",
       "</ol>\n"
      ],
      "text/latex": [
       "\\begin{enumerate*}\n",
       "\\item 'ENSG00000197728\\_RPS26-12\\_56401085\\_G\\_A'\n",
       "\\item 'ENSG00000130305\\_NSUN5-7\\_72717933\\_C\\_T'\n",
       "\\item 'ENSG00000165171\\_WBSCR27-7\\_73258087\\_T\\_A'\n",
       "\\item 'ENSG00000189266\\_PNRC2-1\\_24364016\\_T\\_C'\n",
       "\\item 'ENSG00000147813\\_NAPRT1-8\\_144676862\\_C\\_T'\n",
       "\\item 'ENSG00000186230\\_ZNF749-19\\_57939619\\_C\\_T'\n",
       "\\end{enumerate*}\n"
      ],
      "text/markdown": [
       "1. 'ENSG00000197728_RPS26-12_56401085_G_A'\n",
       "2. 'ENSG00000130305_NSUN5-7_72717933_C_T'\n",
       "3. 'ENSG00000165171_WBSCR27-7_73258087_T_A'\n",
       "4. 'ENSG00000189266_PNRC2-1_24364016_T_C'\n",
       "5. 'ENSG00000147813_NAPRT1-8_144676862_C_T'\n",
       "6. 'ENSG00000186230_ZNF749-19_57939619_C_T'\n",
       "\n",
       "\n"
      ],
      "text/plain": [
       "[1] \"ENSG00000197728_RPS26-12_56401085_G_A\" \n",
       "[2] \"ENSG00000130305_NSUN5-7_72717933_C_T\"  \n",
       "[3] \"ENSG00000165171_WBSCR27-7_73258087_T_A\"\n",
       "[4] \"ENSG00000189266_PNRC2-1_24364016_T_C\"  \n",
       "[5] \"ENSG00000147813_NAPRT1-8_144676862_C_T\"\n",
       "[6] \"ENSG00000186230_ZNF749-19_57939619_C_T\""
      ]
     },
     "metadata": {},
     "output_type": "display_data"
    }
   ],
   "source": [
    "head(eqtls1)"
   ]
  },
  {
   "cell_type": "code",
   "execution_count": 257,
   "metadata": {},
   "outputs": [],
   "source": [
    "eqtls1 = as.character(df_endo$eqtl)"
   ]
  },
  {
   "cell_type": "code",
   "execution_count": 258,
   "metadata": {},
   "outputs": [
    {
     "data": {
      "text/html": [
       "322"
      ],
      "text/latex": [
       "322"
      ],
      "text/markdown": [
       "322"
      ],
      "text/plain": [
       "[1] 322"
      ]
     },
     "metadata": {},
     "output_type": "display_data"
    },
    {
     "data": {
      "text/html": [
       "322"
      ],
      "text/latex": [
       "322"
      ],
      "text/markdown": [
       "322"
      ],
      "text/plain": [
       "[1] 322"
      ]
     },
     "metadata": {},
     "output_type": "display_data"
    },
    {
     "data": {
      "text/html": [
       "0"
      ],
      "text/latex": [
       "0"
      ],
      "text/markdown": [
       "0"
      ],
      "text/plain": [
       "[1] 0"
      ]
     },
     "metadata": {},
     "output_type": "display_data"
    }
   ],
   "source": [
    "length(eqtls0)\n",
    "length(eqtls1)\n",
    "length(eqtls0[!(eqtls0 %in% eqtls1)])"
   ]
  },
  {
   "cell_type": "code",
   "execution_count": 259,
   "metadata": {},
   "outputs": [
    {
     "data": {
      "text/html": [],
      "text/latex": [],
      "text/markdown": [],
      "text/plain": [
       "character(0)"
      ]
     },
     "metadata": {},
     "output_type": "display_data"
    }
   ],
   "source": [
    "eqtls0[!(eqtls0 %in% eqtls1)]"
   ]
  },
  {
   "cell_type": "code",
   "execution_count": 260,
   "metadata": {},
   "outputs": [
    {
     "data": {
      "text/html": [],
      "text/latex": [],
      "text/markdown": [],
      "text/plain": [
       "character(0)"
      ]
     },
     "metadata": {},
     "output_type": "display_data"
    }
   ],
   "source": [
    "eqtls1[!(eqtls1 %in% eqtls0)]"
   ]
  },
  {
   "cell_type": "code",
   "execution_count": null,
   "metadata": {},
   "outputs": [],
   "source": []
  }
 ],
 "metadata": {
  "kernelspec": {
   "display_name": "R",
   "language": "R",
   "name": "ir"
  },
  "language_info": {
   "codemirror_mode": "r",
   "file_extension": ".r",
   "mimetype": "text/x-r-source",
   "name": "R",
   "pygments_lexer": "r",
   "version": "3.6.1"
  }
 },
 "nbformat": 4,
 "nbformat_minor": 4
}
